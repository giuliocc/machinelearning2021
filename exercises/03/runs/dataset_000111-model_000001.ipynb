{
 "cells": [
  {
   "cell_type": "markdown",
   "id": "51c71c25",
   "metadata": {
    "papermill": {
     "duration": 0.031517,
     "end_time": "2021-04-04T23:16:52.474754",
     "exception": false,
     "start_time": "2021-04-04T23:16:52.443237",
     "status": "completed"
    },
    "tags": []
   },
   "source": [
    "# Parametrizing"
   ]
  },
  {
   "cell_type": "code",
   "execution_count": 1,
   "id": "3b136394",
   "metadata": {
    "execution": {
     "iopub.execute_input": "2021-04-04T23:16:52.529929Z",
     "iopub.status.busy": "2021-04-04T23:16:52.528589Z",
     "iopub.status.idle": "2021-04-04T23:16:52.531400Z",
     "shell.execute_reply": "2021-04-04T23:16:52.532101Z"
    },
    "papermill": {
     "duration": 0.038095,
     "end_time": "2021-04-04T23:16:52.532379",
     "exception": false,
     "start_time": "2021-04-04T23:16:52.494284",
     "status": "completed"
    },
    "tags": [
     "parameters"
    ]
   },
   "outputs": [],
   "source": [
    "DATASET_CONFIG_PATH = 'config/dataset/kc1_001.json'\n",
    "MODEL_CONFIG_PATH = 'config/model/knndd_001.json'\n",
    "PROFILE_REPORTING = False"
   ]
  },
  {
   "cell_type": "code",
   "execution_count": 2,
   "id": "96eaba87",
   "metadata": {
    "execution": {
     "iopub.execute_input": "2021-04-04T23:16:52.581457Z",
     "iopub.status.busy": "2021-04-04T23:16:52.580413Z",
     "iopub.status.idle": "2021-04-04T23:16:52.583770Z",
     "shell.execute_reply": "2021-04-04T23:16:52.582814Z"
    },
    "papermill": {
     "duration": 0.027866,
     "end_time": "2021-04-04T23:16:52.583958",
     "exception": false,
     "start_time": "2021-04-04T23:16:52.556092",
     "status": "completed"
    },
    "tags": [
     "injected-parameters"
    ]
   },
   "outputs": [],
   "source": [
    "# Parameters\n",
    "DATASET_CONFIG_PATH = \"config/dataset/000111.json\"\n",
    "MODEL_CONFIG_PATH = \"config/model/000001.json\"\n",
    "PROFILE_REPORTING = False\n"
   ]
  },
  {
   "cell_type": "code",
   "execution_count": 3,
   "id": "b80f2a10",
   "metadata": {
    "execution": {
     "iopub.execute_input": "2021-04-04T23:16:52.632392Z",
     "iopub.status.busy": "2021-04-04T23:16:52.631060Z",
     "iopub.status.idle": "2021-04-04T23:16:52.633600Z",
     "shell.execute_reply": "2021-04-04T23:16:52.634160Z"
    },
    "papermill": {
     "duration": 0.029426,
     "end_time": "2021-04-04T23:16:52.634305",
     "exception": false,
     "start_time": "2021-04-04T23:16:52.604879",
     "status": "completed"
    },
    "tags": []
   },
   "outputs": [],
   "source": [
    "import json\n",
    "\n",
    "\n",
    "with open(DATASET_CONFIG_PATH) as f:\n",
    "    dataset_config = json.load(f)\n",
    "\n",
    "with open(MODEL_CONFIG_PATH) as f:\n",
    "    model_config = json.load(f)"
   ]
  },
  {
   "cell_type": "markdown",
   "id": "9a4b0e2d",
   "metadata": {
    "papermill": {
     "duration": 0.01938,
     "end_time": "2021-04-04T23:16:52.680732",
     "exception": false,
     "start_time": "2021-04-04T23:16:52.661352",
     "status": "completed"
    },
    "tags": []
   },
   "source": [
    "# Profiling"
   ]
  },
  {
   "cell_type": "code",
   "execution_count": 4,
   "id": "a3e0289b",
   "metadata": {
    "execution": {
     "iopub.execute_input": "2021-04-04T23:16:52.724886Z",
     "iopub.status.busy": "2021-04-04T23:16:52.724023Z",
     "iopub.status.idle": "2021-04-04T23:16:53.996094Z",
     "shell.execute_reply": "2021-04-04T23:16:53.995238Z"
    },
    "papermill": {
     "duration": 1.296097,
     "end_time": "2021-04-04T23:16:53.996257",
     "exception": false,
     "start_time": "2021-04-04T23:16:52.700160",
     "status": "completed"
    },
    "tags": []
   },
   "outputs": [],
   "source": [
    "import pandas as pd\n",
    "from pandas_profiling import ProfileReport"
   ]
  },
  {
   "cell_type": "code",
   "execution_count": 5,
   "id": "ee6c0666",
   "metadata": {
    "execution": {
     "iopub.execute_input": "2021-04-04T23:16:54.052818Z",
     "iopub.status.busy": "2021-04-04T23:16:54.051429Z",
     "iopub.status.idle": "2021-04-04T23:16:54.062171Z",
     "shell.execute_reply": "2021-04-04T23:16:54.062960Z"
    },
    "papermill": {
     "duration": 0.03709,
     "end_time": "2021-04-04T23:16:54.063181",
     "exception": false,
     "start_time": "2021-04-04T23:16:54.026091",
     "status": "completed"
    },
    "tags": []
   },
   "outputs": [],
   "source": [
    "df = pd.read_csv(dataset_config['dataset_path'])"
   ]
  },
  {
   "cell_type": "code",
   "execution_count": 6,
   "id": "7eca6c4a",
   "metadata": {
    "execution": {
     "iopub.execute_input": "2021-04-04T23:16:54.124119Z",
     "iopub.status.busy": "2021-04-04T23:16:54.113117Z",
     "iopub.status.idle": "2021-04-04T23:16:54.128589Z",
     "shell.execute_reply": "2021-04-04T23:16:54.127545Z"
    },
    "papermill": {
     "duration": 0.041415,
     "end_time": "2021-04-04T23:16:54.128748",
     "exception": false,
     "start_time": "2021-04-04T23:16:54.087333",
     "status": "completed"
    },
    "tags": []
   },
   "outputs": [
    {
     "name": "stdout",
     "output_type": "stream",
     "text": [
      "<class 'pandas.core.frame.DataFrame'>\n",
      "RangeIndex: 498 entries, 0 to 497\n",
      "Data columns (total 23 columns):\n",
      " #   Column             Non-Null Count  Dtype  \n",
      "---  ------             --------------  -----  \n",
      " 0   id                 498 non-null    int64  \n",
      " 1   loc                498 non-null    float64\n",
      " 2   v(g)               498 non-null    float64\n",
      " 3   ev(g)              498 non-null    float64\n",
      " 4   iv(g)              498 non-null    float64\n",
      " 5   n                  498 non-null    float64\n",
      " 6   v                  498 non-null    float64\n",
      " 7   l                  498 non-null    float64\n",
      " 8   d                  498 non-null    float64\n",
      " 9   i                  498 non-null    float64\n",
      " 10  e                  498 non-null    float64\n",
      " 11  b                  498 non-null    float64\n",
      " 12  t                  498 non-null    float64\n",
      " 13  lOCode             498 non-null    int64  \n",
      " 14  lOComment          498 non-null    int64  \n",
      " 15  lOBlank            498 non-null    int64  \n",
      " 16  locCodeAndComment  498 non-null    int64  \n",
      " 17  uniq_Op            498 non-null    float64\n",
      " 18  uniq_Opnd          498 non-null    float64\n",
      " 19  total_Op           498 non-null    float64\n",
      " 20  total_Opnd         498 non-null    float64\n",
      " 21  branchCount        498 non-null    float64\n",
      " 22  defects            498 non-null    bool   \n",
      "dtypes: bool(1), float64(17), int64(5)\n",
      "memory usage: 86.2 KB\n"
     ]
    }
   ],
   "source": [
    "df.info()"
   ]
  },
  {
   "cell_type": "code",
   "execution_count": 7,
   "id": "3638e5e8",
   "metadata": {
    "execution": {
     "iopub.execute_input": "2021-04-04T23:16:54.185637Z",
     "iopub.status.busy": "2021-04-04T23:16:54.184756Z",
     "iopub.status.idle": "2021-04-04T23:16:54.210946Z",
     "shell.execute_reply": "2021-04-04T23:16:54.211755Z"
    },
    "papermill": {
     "duration": 0.055818,
     "end_time": "2021-04-04T23:16:54.211979",
     "exception": false,
     "start_time": "2021-04-04T23:16:54.156161",
     "status": "completed"
    },
    "tags": []
   },
   "outputs": [
    {
     "data": {
      "text/html": [
       "<div>\n",
       "<style scoped>\n",
       "    .dataframe tbody tr th:only-of-type {\n",
       "        vertical-align: middle;\n",
       "    }\n",
       "\n",
       "    .dataframe tbody tr th {\n",
       "        vertical-align: top;\n",
       "    }\n",
       "\n",
       "    .dataframe thead th {\n",
       "        text-align: right;\n",
       "    }\n",
       "</style>\n",
       "<table border=\"1\" class=\"dataframe\">\n",
       "  <thead>\n",
       "    <tr style=\"text-align: right;\">\n",
       "      <th></th>\n",
       "      <th>id</th>\n",
       "      <th>loc</th>\n",
       "      <th>v(g)</th>\n",
       "      <th>ev(g)</th>\n",
       "      <th>iv(g)</th>\n",
       "      <th>n</th>\n",
       "      <th>v</th>\n",
       "      <th>l</th>\n",
       "      <th>d</th>\n",
       "      <th>i</th>\n",
       "      <th>...</th>\n",
       "      <th>lOCode</th>\n",
       "      <th>lOComment</th>\n",
       "      <th>lOBlank</th>\n",
       "      <th>locCodeAndComment</th>\n",
       "      <th>uniq_Op</th>\n",
       "      <th>uniq_Opnd</th>\n",
       "      <th>total_Op</th>\n",
       "      <th>total_Opnd</th>\n",
       "      <th>branchCount</th>\n",
       "      <th>defects</th>\n",
       "    </tr>\n",
       "  </thead>\n",
       "  <tbody>\n",
       "    <tr>\n",
       "      <th>0</th>\n",
       "      <td>1</td>\n",
       "      <td>1.1</td>\n",
       "      <td>1.4</td>\n",
       "      <td>1.4</td>\n",
       "      <td>1.4</td>\n",
       "      <td>1.3</td>\n",
       "      <td>1.30</td>\n",
       "      <td>1.30</td>\n",
       "      <td>1.30</td>\n",
       "      <td>1.30</td>\n",
       "      <td>...</td>\n",
       "      <td>2</td>\n",
       "      <td>2</td>\n",
       "      <td>2</td>\n",
       "      <td>2</td>\n",
       "      <td>1.2</td>\n",
       "      <td>1.2</td>\n",
       "      <td>1.2</td>\n",
       "      <td>1.2</td>\n",
       "      <td>1.4</td>\n",
       "      <td>False</td>\n",
       "    </tr>\n",
       "    <tr>\n",
       "      <th>1</th>\n",
       "      <td>2</td>\n",
       "      <td>1.0</td>\n",
       "      <td>1.0</td>\n",
       "      <td>1.0</td>\n",
       "      <td>1.0</td>\n",
       "      <td>1.0</td>\n",
       "      <td>1.00</td>\n",
       "      <td>1.00</td>\n",
       "      <td>1.00</td>\n",
       "      <td>1.00</td>\n",
       "      <td>...</td>\n",
       "      <td>1</td>\n",
       "      <td>1</td>\n",
       "      <td>1</td>\n",
       "      <td>1</td>\n",
       "      <td>1.0</td>\n",
       "      <td>1.0</td>\n",
       "      <td>1.0</td>\n",
       "      <td>1.0</td>\n",
       "      <td>1.0</td>\n",
       "      <td>True</td>\n",
       "    </tr>\n",
       "    <tr>\n",
       "      <th>2</th>\n",
       "      <td>3</td>\n",
       "      <td>24.0</td>\n",
       "      <td>5.0</td>\n",
       "      <td>1.0</td>\n",
       "      <td>3.0</td>\n",
       "      <td>63.0</td>\n",
       "      <td>309.13</td>\n",
       "      <td>0.11</td>\n",
       "      <td>9.50</td>\n",
       "      <td>32.54</td>\n",
       "      <td>...</td>\n",
       "      <td>1</td>\n",
       "      <td>0</td>\n",
       "      <td>6</td>\n",
       "      <td>0</td>\n",
       "      <td>15.0</td>\n",
       "      <td>15.0</td>\n",
       "      <td>44.0</td>\n",
       "      <td>19.0</td>\n",
       "      <td>9.0</td>\n",
       "      <td>False</td>\n",
       "    </tr>\n",
       "    <tr>\n",
       "      <th>3</th>\n",
       "      <td>4</td>\n",
       "      <td>20.0</td>\n",
       "      <td>4.0</td>\n",
       "      <td>4.0</td>\n",
       "      <td>2.0</td>\n",
       "      <td>47.0</td>\n",
       "      <td>215.49</td>\n",
       "      <td>0.06</td>\n",
       "      <td>16.00</td>\n",
       "      <td>13.47</td>\n",
       "      <td>...</td>\n",
       "      <td>0</td>\n",
       "      <td>0</td>\n",
       "      <td>3</td>\n",
       "      <td>0</td>\n",
       "      <td>16.0</td>\n",
       "      <td>8.0</td>\n",
       "      <td>31.0</td>\n",
       "      <td>16.0</td>\n",
       "      <td>7.0</td>\n",
       "      <td>False</td>\n",
       "    </tr>\n",
       "    <tr>\n",
       "      <th>4</th>\n",
       "      <td>5</td>\n",
       "      <td>24.0</td>\n",
       "      <td>6.0</td>\n",
       "      <td>6.0</td>\n",
       "      <td>2.0</td>\n",
       "      <td>72.0</td>\n",
       "      <td>346.13</td>\n",
       "      <td>0.06</td>\n",
       "      <td>17.33</td>\n",
       "      <td>19.97</td>\n",
       "      <td>...</td>\n",
       "      <td>0</td>\n",
       "      <td>0</td>\n",
       "      <td>3</td>\n",
       "      <td>0</td>\n",
       "      <td>16.0</td>\n",
       "      <td>12.0</td>\n",
       "      <td>46.0</td>\n",
       "      <td>26.0</td>\n",
       "      <td>11.0</td>\n",
       "      <td>False</td>\n",
       "    </tr>\n",
       "  </tbody>\n",
       "</table>\n",
       "<p>5 rows × 23 columns</p>\n",
       "</div>"
      ],
      "text/plain": [
       "   id   loc  v(g)  ev(g)  iv(g)     n       v     l      d      i  ...  \\\n",
       "0   1   1.1   1.4    1.4    1.4   1.3    1.30  1.30   1.30   1.30  ...   \n",
       "1   2   1.0   1.0    1.0    1.0   1.0    1.00  1.00   1.00   1.00  ...   \n",
       "2   3  24.0   5.0    1.0    3.0  63.0  309.13  0.11   9.50  32.54  ...   \n",
       "3   4  20.0   4.0    4.0    2.0  47.0  215.49  0.06  16.00  13.47  ...   \n",
       "4   5  24.0   6.0    6.0    2.0  72.0  346.13  0.06  17.33  19.97  ...   \n",
       "\n",
       "   lOCode  lOComment  lOBlank  locCodeAndComment  uniq_Op  uniq_Opnd  \\\n",
       "0       2          2        2                  2      1.2        1.2   \n",
       "1       1          1        1                  1      1.0        1.0   \n",
       "2       1          0        6                  0     15.0       15.0   \n",
       "3       0          0        3                  0     16.0        8.0   \n",
       "4       0          0        3                  0     16.0       12.0   \n",
       "\n",
       "   total_Op  total_Opnd  branchCount  defects  \n",
       "0       1.2         1.2          1.4    False  \n",
       "1       1.0         1.0          1.0     True  \n",
       "2      44.0        19.0          9.0    False  \n",
       "3      31.0        16.0          7.0    False  \n",
       "4      46.0        26.0         11.0    False  \n",
       "\n",
       "[5 rows x 23 columns]"
      ]
     },
     "execution_count": 7,
     "metadata": {},
     "output_type": "execute_result"
    }
   ],
   "source": [
    "df.head()"
   ]
  },
  {
   "cell_type": "code",
   "execution_count": 8,
   "id": "733e95eb",
   "metadata": {
    "execution": {
     "iopub.execute_input": "2021-04-04T23:16:54.267039Z",
     "iopub.status.busy": "2021-04-04T23:16:54.265777Z",
     "iopub.status.idle": "2021-04-04T23:16:54.269592Z",
     "shell.execute_reply": "2021-04-04T23:16:54.268752Z"
    },
    "papermill": {
     "duration": 0.030405,
     "end_time": "2021-04-04T23:16:54.269779",
     "exception": false,
     "start_time": "2021-04-04T23:16:54.239374",
     "status": "completed"
    },
    "tags": []
   },
   "outputs": [],
   "source": [
    "del df['id']"
   ]
  },
  {
   "cell_type": "code",
   "execution_count": 9,
   "id": "6ff6f5b0",
   "metadata": {
    "execution": {
     "iopub.execute_input": "2021-04-04T23:16:54.323690Z",
     "iopub.status.busy": "2021-04-04T23:16:54.322705Z",
     "iopub.status.idle": "2021-04-04T23:16:54.325320Z",
     "shell.execute_reply": "2021-04-04T23:16:54.326041Z"
    },
    "papermill": {
     "duration": 0.028474,
     "end_time": "2021-04-04T23:16:54.326235",
     "exception": false,
     "start_time": "2021-04-04T23:16:54.297761",
     "status": "completed"
    },
    "tags": []
   },
   "outputs": [],
   "source": [
    "if PROFILE_REPORTING:\n",
    "    ProfileReport(df).to_widgets()"
   ]
  },
  {
   "cell_type": "markdown",
   "id": "1deaf3f0",
   "metadata": {
    "papermill": {
     "duration": 0.022247,
     "end_time": "2021-04-04T23:16:54.375805",
     "exception": false,
     "start_time": "2021-04-04T23:16:54.353558",
     "status": "completed"
    },
    "tags": []
   },
   "source": [
    "# Preprocess"
   ]
  },
  {
   "cell_type": "code",
   "execution_count": 10,
   "id": "1513e563",
   "metadata": {
    "execution": {
     "iopub.execute_input": "2021-04-04T23:16:54.425950Z",
     "iopub.status.busy": "2021-04-04T23:16:54.424585Z",
     "iopub.status.idle": "2021-04-04T23:16:54.427894Z",
     "shell.execute_reply": "2021-04-04T23:16:54.427183Z"
    },
    "papermill": {
     "duration": 0.031284,
     "end_time": "2021-04-04T23:16:54.428063",
     "exception": false,
     "start_time": "2021-04-04T23:16:54.396779",
     "status": "completed"
    },
    "tags": []
   },
   "outputs": [],
   "source": [
    "working_df = df.copy()"
   ]
  },
  {
   "cell_type": "code",
   "execution_count": 11,
   "id": "3b26d675",
   "metadata": {
    "execution": {
     "iopub.execute_input": "2021-04-04T23:16:54.482785Z",
     "iopub.status.busy": "2021-04-04T23:16:54.481693Z",
     "iopub.status.idle": "2021-04-04T23:16:54.484275Z",
     "shell.execute_reply": "2021-04-04T23:16:54.485169Z"
    },
    "papermill": {
     "duration": 0.03249,
     "end_time": "2021-04-04T23:16:54.485408",
     "exception": false,
     "start_time": "2021-04-04T23:16:54.452918",
     "status": "completed"
    },
    "tags": []
   },
   "outputs": [],
   "source": [
    "working_df['defects'] = working_df['defects'].replace([False, True], [0, 1])"
   ]
  },
  {
   "cell_type": "code",
   "execution_count": 12,
   "id": "eb48604f",
   "metadata": {
    "execution": {
     "iopub.execute_input": "2021-04-04T23:16:54.533510Z",
     "iopub.status.busy": "2021-04-04T23:16:54.532711Z",
     "iopub.status.idle": "2021-04-04T23:16:54.535446Z",
     "shell.execute_reply": "2021-04-04T23:16:54.536120Z"
    },
    "papermill": {
     "duration": 0.028941,
     "end_time": "2021-04-04T23:16:54.536325",
     "exception": false,
     "start_time": "2021-04-04T23:16:54.507384",
     "status": "completed"
    },
    "tags": []
   },
   "outputs": [],
   "source": [
    "for col in dataset_config['delete_columns']:\n",
    "    del working_df[col]"
   ]
  },
  {
   "cell_type": "code",
   "execution_count": 13,
   "id": "9a17bc29",
   "metadata": {
    "execution": {
     "iopub.execute_input": "2021-04-04T23:16:54.597132Z",
     "iopub.status.busy": "2021-04-04T23:16:54.596503Z",
     "iopub.status.idle": "2021-04-04T23:16:54.604172Z",
     "shell.execute_reply": "2021-04-04T23:16:54.604849Z"
    },
    "papermill": {
     "duration": 0.037334,
     "end_time": "2021-04-04T23:16:54.605060",
     "exception": false,
     "start_time": "2021-04-04T23:16:54.567726",
     "status": "completed"
    },
    "tags": []
   },
   "outputs": [],
   "source": [
    "working_df = working_df.drop_duplicates()"
   ]
  },
  {
   "cell_type": "markdown",
   "id": "a4d52ca6",
   "metadata": {
    "papermill": {
     "duration": 0.021313,
     "end_time": "2021-04-04T23:16:54.651861",
     "exception": false,
     "start_time": "2021-04-04T23:16:54.630548",
     "status": "completed"
    },
    "tags": []
   },
   "source": [
    "# Split"
   ]
  },
  {
   "cell_type": "code",
   "execution_count": 14,
   "id": "3e9ee4b5",
   "metadata": {
    "execution": {
     "iopub.execute_input": "2021-04-04T23:16:54.701358Z",
     "iopub.status.busy": "2021-04-04T23:16:54.699933Z",
     "iopub.status.idle": "2021-04-04T23:16:54.731583Z",
     "shell.execute_reply": "2021-04-04T23:16:54.730728Z"
    },
    "papermill": {
     "duration": 0.058145,
     "end_time": "2021-04-04T23:16:54.731750",
     "exception": false,
     "start_time": "2021-04-04T23:16:54.673605",
     "status": "completed"
    },
    "tags": []
   },
   "outputs": [],
   "source": [
    "from sklearn.model_selection import train_test_split"
   ]
  },
  {
   "cell_type": "code",
   "execution_count": 15,
   "id": "274004ce",
   "metadata": {
    "execution": {
     "iopub.execute_input": "2021-04-04T23:16:54.794165Z",
     "iopub.status.busy": "2021-04-04T23:16:54.793295Z",
     "iopub.status.idle": "2021-04-04T23:16:54.798938Z",
     "shell.execute_reply": "2021-04-04T23:16:54.798350Z"
    },
    "papermill": {
     "duration": 0.032671,
     "end_time": "2021-04-04T23:16:54.799055",
     "exception": false,
     "start_time": "2021-04-04T23:16:54.766384",
     "status": "completed"
    },
    "scrolled": true,
    "tags": []
   },
   "outputs": [],
   "source": [
    "inlier, outlier = working_df[working_df['defects'] == 0], working_df[working_df['defects'] == 1]"
   ]
  },
  {
   "cell_type": "code",
   "execution_count": 16,
   "id": "753c7b03",
   "metadata": {
    "execution": {
     "iopub.execute_input": "2021-04-04T23:16:54.854689Z",
     "iopub.status.busy": "2021-04-04T23:16:54.852189Z",
     "iopub.status.idle": "2021-04-04T23:16:54.858205Z",
     "shell.execute_reply": "2021-04-04T23:16:54.859128Z"
    },
    "papermill": {
     "duration": 0.033826,
     "end_time": "2021-04-04T23:16:54.859383",
     "exception": false,
     "start_time": "2021-04-04T23:16:54.825557",
     "status": "completed"
    },
    "tags": []
   },
   "outputs": [],
   "source": [
    "X_inlier = inlier.copy()\n",
    "y_inlier = X_inlier.pop('defects')\n",
    "X_outlier = outlier.copy()\n",
    "y_outlier = X_outlier.pop('defects')"
   ]
  },
  {
   "cell_type": "code",
   "execution_count": 17,
   "id": "2ba43193",
   "metadata": {
    "execution": {
     "iopub.execute_input": "2021-04-04T23:16:54.923611Z",
     "iopub.status.busy": "2021-04-04T23:16:54.922998Z",
     "iopub.status.idle": "2021-04-04T23:16:54.926949Z",
     "shell.execute_reply": "2021-04-04T23:16:54.925815Z"
    },
    "papermill": {
     "duration": 0.037578,
     "end_time": "2021-04-04T23:16:54.927142",
     "exception": false,
     "start_time": "2021-04-04T23:16:54.889564",
     "status": "completed"
    },
    "tags": []
   },
   "outputs": [],
   "source": [
    "test_size = dataset_config['test_size']\n",
    "random_state = dataset_config['random_state']\n",
    "\n",
    "X_inlier_train, X_inlier_test, y_inlier_train, y_inlier_test = train_test_split(\n",
    "    X_inlier,\n",
    "    y_inlier,\n",
    "    test_size=test_size,\n",
    "    random_state=random_state\n",
    ")"
   ]
  },
  {
   "cell_type": "code",
   "execution_count": 18,
   "id": "0b7582ca",
   "metadata": {
    "execution": {
     "iopub.execute_input": "2021-04-04T23:16:54.989377Z",
     "iopub.status.busy": "2021-04-04T23:16:54.988632Z",
     "iopub.status.idle": "2021-04-04T23:16:54.990679Z",
     "shell.execute_reply": "2021-04-04T23:16:54.991683Z"
    },
    "papermill": {
     "duration": 0.033366,
     "end_time": "2021-04-04T23:16:54.991909",
     "exception": false,
     "start_time": "2021-04-04T23:16:54.958543",
     "status": "completed"
    },
    "tags": []
   },
   "outputs": [],
   "source": [
    "test_outlier_size = dataset_config['test_outlier_size']\n",
    "if test_outlier_size > 0.0:\n",
    "    X_outlier_train, X_outlier_test, y_outlier_train, y_outlier_test = train_test_split(\n",
    "        X_outlier,\n",
    "        y_outlier,\n",
    "        test_size=test_outlier_size,\n",
    "        random_state=random_state\n",
    "    )\n",
    "else:\n",
    "    X_outlier_train, y_outlier_train = pd.DataFrame(columns=X_outlier.columns), pd.Series(dtype='int64')\n",
    "    X_outlier_test, y_outlier_test = X_outlier.copy(), y_outlier.copy()"
   ]
  },
  {
   "cell_type": "code",
   "execution_count": 19,
   "id": "c34363db",
   "metadata": {
    "execution": {
     "iopub.execute_input": "2021-04-04T23:16:55.049571Z",
     "iopub.status.busy": "2021-04-04T23:16:55.048819Z",
     "iopub.status.idle": "2021-04-04T23:16:55.052846Z",
     "shell.execute_reply": "2021-04-04T23:16:55.053397Z"
    },
    "papermill": {
     "duration": 0.035267,
     "end_time": "2021-04-04T23:16:55.053572",
     "exception": false,
     "start_time": "2021-04-04T23:16:55.018305",
     "status": "completed"
    },
    "tags": []
   },
   "outputs": [],
   "source": [
    "X_train, y_train = pd.concat([X_inlier_train, X_outlier_train], ignore_index=True), pd.concat([y_inlier_train, y_outlier_train], ignore_index=True)\n",
    "X_test, y_test = pd.concat([X_inlier_test, X_outlier_test], ignore_index=True), pd.concat([y_inlier_test, y_outlier_test], ignore_index=True)"
   ]
  },
  {
   "cell_type": "markdown",
   "id": "7cde7309",
   "metadata": {
    "papermill": {
     "duration": 0.022651,
     "end_time": "2021-04-04T23:16:55.101161",
     "exception": false,
     "start_time": "2021-04-04T23:16:55.078510",
     "status": "completed"
    },
    "tags": []
   },
   "source": [
    "# Model"
   ]
  },
  {
   "cell_type": "code",
   "execution_count": 20,
   "id": "2b12a415",
   "metadata": {
    "execution": {
     "iopub.execute_input": "2021-04-04T23:16:55.159426Z",
     "iopub.status.busy": "2021-04-04T23:16:55.158378Z",
     "iopub.status.idle": "2021-04-04T23:16:55.161291Z",
     "shell.execute_reply": "2021-04-04T23:16:55.162193Z"
    },
    "papermill": {
     "duration": 0.039311,
     "end_time": "2021-04-04T23:16:55.162446",
     "exception": false,
     "start_time": "2021-04-04T23:16:55.123135",
     "status": "completed"
    },
    "tags": []
   },
   "outputs": [],
   "source": [
    "from math import sqrt\n",
    "\n",
    "\n",
    "class KNNDataDescription:\n",
    "    def __init__(self, k=5, outlier_threshold=1.0):\n",
    "        self.k = k\n",
    "        self.outlier_threshold = outlier_threshold\n",
    "        self.X = []\n",
    "    \n",
    "    def fit(self, X):\n",
    "        self.X = [features.to_list() for index, features in X.iterrows()]\n",
    "\n",
    "    def predict(self, entries):\n",
    "        return [self.predict_entry(features.to_list()) for index, features in entries.iterrows()]\n",
    "    \n",
    "    def predict_entry(self, entry):\n",
    "        kth_neighbor, kth_distance = self.get_kth_neighbor(entry, self.k)\n",
    "        kth_kth_neighbor, kth_kth_distance = self.get_kth_neighbor(kth_neighbor, self.k + 1)\n",
    "\n",
    "        outlier_score = kth_distance / (kth_kth_distance + 0.000001)\n",
    "\n",
    "        return 1 if outlier_score < self.outlier_threshold else -1\n",
    "        \n",
    "    def euclidean_distance(self, features1, features2):\n",
    "        distance = 0.0\n",
    "        for feat1, feat2 in zip(features1, features2):\n",
    "            distance += (feat1 - feat2)**2\n",
    "                \n",
    "        return sqrt(distance)\n",
    "\n",
    "    def get_neighbors(self, entry, k):\n",
    "        distance_to_data_points = [\n",
    "            (data_point, self.euclidean_distance(entry, data_point))\n",
    "            for data_point in self.X\n",
    "        ]\n",
    "        sorted_by_distance = sorted(distance_to_data_points, key=lambda tup: tup[1])\n",
    "        neighbors = sorted_by_distance[:k]\n",
    "        return neighbors\n",
    "\n",
    "    def get_kth_neighbor(self, entry, k):\n",
    "        neighbors = self.get_neighbors(entry, k)\n",
    "        return neighbors[-1]\n"
   ]
  },
  {
   "cell_type": "code",
   "execution_count": 21,
   "id": "1fa9ec1c",
   "metadata": {
    "execution": {
     "iopub.execute_input": "2021-04-04T23:16:55.219928Z",
     "iopub.status.busy": "2021-04-04T23:16:55.218900Z",
     "iopub.status.idle": "2021-04-04T23:16:55.242060Z",
     "shell.execute_reply": "2021-04-04T23:16:55.243055Z"
    },
    "papermill": {
     "duration": 0.051074,
     "end_time": "2021-04-04T23:16:55.243329",
     "exception": false,
     "start_time": "2021-04-04T23:16:55.192255",
     "status": "completed"
    },
    "tags": []
   },
   "outputs": [],
   "source": [
    "from sklearn.svm import OneClassSVM\n",
    "\n",
    "\n",
    "models = {\n",
    "    'oneclasssvm': OneClassSVM,\n",
    "    'knndatadescription': KNNDataDescription,\n",
    "}"
   ]
  },
  {
   "cell_type": "code",
   "execution_count": 22,
   "id": "4d72a0b1",
   "metadata": {
    "execution": {
     "iopub.execute_input": "2021-04-04T23:16:55.299922Z",
     "iopub.status.busy": "2021-04-04T23:16:55.299339Z",
     "iopub.status.idle": "2021-04-04T23:16:55.302080Z",
     "shell.execute_reply": "2021-04-04T23:16:55.302558Z"
    },
    "papermill": {
     "duration": 0.030505,
     "end_time": "2021-04-04T23:16:55.302702",
     "exception": false,
     "start_time": "2021-04-04T23:16:55.272197",
     "status": "completed"
    },
    "scrolled": true,
    "tags": []
   },
   "outputs": [],
   "source": [
    "model_cls = models[model_config['model_type']]\n",
    "model = model_cls(**model_config['hyperparameters'])"
   ]
  },
  {
   "cell_type": "markdown",
   "id": "e00cff3b",
   "metadata": {
    "papermill": {
     "duration": 0.025413,
     "end_time": "2021-04-04T23:16:55.352581",
     "exception": false,
     "start_time": "2021-04-04T23:16:55.327168",
     "status": "completed"
    },
    "tags": []
   },
   "source": [
    "# Fit"
   ]
  },
  {
   "cell_type": "code",
   "execution_count": 23,
   "id": "8b2ded89",
   "metadata": {
    "execution": {
     "iopub.execute_input": "2021-04-04T23:16:55.420384Z",
     "iopub.status.busy": "2021-04-04T23:16:55.404723Z",
     "iopub.status.idle": "2021-04-04T23:16:55.426453Z",
     "shell.execute_reply": "2021-04-04T23:16:55.425352Z"
    },
    "papermill": {
     "duration": 0.050269,
     "end_time": "2021-04-04T23:16:55.426665",
     "exception": false,
     "start_time": "2021-04-04T23:16:55.376396",
     "status": "completed"
    },
    "tags": []
   },
   "outputs": [],
   "source": [
    "model.fit(X_train)"
   ]
  },
  {
   "cell_type": "markdown",
   "id": "f99999f7",
   "metadata": {
    "papermill": {
     "duration": 0.022231,
     "end_time": "2021-04-04T23:16:55.482111",
     "exception": false,
     "start_time": "2021-04-04T23:16:55.459880",
     "status": "completed"
    },
    "tags": []
   },
   "source": [
    "# Predict"
   ]
  },
  {
   "cell_type": "code",
   "execution_count": 24,
   "id": "6536fbf7",
   "metadata": {
    "execution": {
     "iopub.execute_input": "2021-04-04T23:16:55.541822Z",
     "iopub.status.busy": "2021-04-04T23:16:55.536870Z",
     "iopub.status.idle": "2021-04-04T23:16:55.880617Z",
     "shell.execute_reply": "2021-04-04T23:16:55.880005Z"
    },
    "papermill": {
     "duration": 0.376283,
     "end_time": "2021-04-04T23:16:55.880740",
     "exception": false,
     "start_time": "2021-04-04T23:16:55.504457",
     "status": "completed"
    },
    "tags": []
   },
   "outputs": [],
   "source": [
    "predictions = model.predict(X_test)"
   ]
  },
  {
   "cell_type": "markdown",
   "id": "aa1c9881",
   "metadata": {
    "papermill": {
     "duration": 0.023994,
     "end_time": "2021-04-04T23:16:55.929860",
     "exception": false,
     "start_time": "2021-04-04T23:16:55.905866",
     "status": "completed"
    },
    "tags": []
   },
   "source": [
    "# Evaluate"
   ]
  },
  {
   "cell_type": "code",
   "execution_count": 25,
   "id": "894f0f04",
   "metadata": {
    "execution": {
     "iopub.execute_input": "2021-04-04T23:16:55.980537Z",
     "iopub.status.busy": "2021-04-04T23:16:55.979824Z",
     "iopub.status.idle": "2021-04-04T23:16:55.981533Z",
     "shell.execute_reply": "2021-04-04T23:16:55.981999Z"
    },
    "papermill": {
     "duration": 0.028836,
     "end_time": "2021-04-04T23:16:55.982137",
     "exception": false,
     "start_time": "2021-04-04T23:16:55.953301",
     "status": "completed"
    },
    "tags": []
   },
   "outputs": [],
   "source": [
    "from sklearn.metrics import f1_score"
   ]
  },
  {
   "cell_type": "code",
   "execution_count": 26,
   "id": "211744d3",
   "metadata": {
    "execution": {
     "iopub.execute_input": "2021-04-04T23:16:56.034873Z",
     "iopub.status.busy": "2021-04-04T23:16:56.034040Z",
     "iopub.status.idle": "2021-04-04T23:16:56.036987Z",
     "shell.execute_reply": "2021-04-04T23:16:56.036352Z"
    },
    "papermill": {
     "duration": 0.030717,
     "end_time": "2021-04-04T23:16:56.037123",
     "exception": false,
     "start_time": "2021-04-04T23:16:56.006406",
     "status": "completed"
    },
    "tags": []
   },
   "outputs": [],
   "source": [
    "y_test = y_test.replace([0, 1], [1, -1])"
   ]
  },
  {
   "cell_type": "code",
   "execution_count": 27,
   "id": "d68a9204",
   "metadata": {
    "execution": {
     "iopub.execute_input": "2021-04-04T23:16:56.096830Z",
     "iopub.status.busy": "2021-04-04T23:16:56.096172Z",
     "iopub.status.idle": "2021-04-04T23:16:56.098724Z",
     "shell.execute_reply": "2021-04-04T23:16:56.099417Z"
    },
    "papermill": {
     "duration": 0.035334,
     "end_time": "2021-04-04T23:16:56.099612",
     "exception": false,
     "start_time": "2021-04-04T23:16:56.064278",
     "status": "completed"
    },
    "tags": []
   },
   "outputs": [],
   "source": [
    "def evaluate(truths, predictions, pos_label, neg_label):\n",
    "    TP = 0\n",
    "    FP = 0\n",
    "    TN = 0\n",
    "    FN = 0\n",
    "\n",
    "    for truth, pred in zip(truths, predictions): \n",
    "        if truth == pred == pos_label:\n",
    "           TP += 1\n",
    "        elif pred == pos_label and truth == neg_label:\n",
    "           FP += 1\n",
    "        elif truth == pred == neg_label:\n",
    "           TN += 1\n",
    "        elif pred == neg_label and truth == pos_label:\n",
    "           FN += 1\n",
    "\n",
    "    precision = TP / (TP + FP)\n",
    "    sensitivity = TP / (TP + FN)\n",
    "    \n",
    "    return {\n",
    "        'true_pos': TP,\n",
    "        'false_pos': FP,\n",
    "        'false_neg': FN,\n",
    "        'true_neg': TN,\n",
    "        'precision': precision,\n",
    "        'sensitivity': sensitivity,\n",
    "        'f1': (2 * (precision * sensitivity)) / (precision + sensitivity)\n",
    "    }\n",
    "\n",
    "score = evaluate(y_test, predictions, pos_label=-1, neg_label=1)"
   ]
  },
  {
   "cell_type": "markdown",
   "id": "93596516",
   "metadata": {
    "papermill": {
     "duration": 0.022834,
     "end_time": "2021-04-04T23:16:56.148966",
     "exception": false,
     "start_time": "2021-04-04T23:16:56.126132",
     "status": "completed"
    },
    "tags": []
   },
   "source": [
    "# Report"
   ]
  },
  {
   "cell_type": "code",
   "execution_count": 28,
   "id": "bea5fba1",
   "metadata": {
    "execution": {
     "iopub.execute_input": "2021-04-04T23:16:56.203432Z",
     "iopub.status.busy": "2021-04-04T23:16:56.202323Z",
     "iopub.status.idle": "2021-04-04T23:16:56.205710Z",
     "shell.execute_reply": "2021-04-04T23:16:56.206434Z"
    },
    "papermill": {
     "duration": 0.034678,
     "end_time": "2021-04-04T23:16:56.206638",
     "exception": false,
     "start_time": "2021-04-04T23:16:56.171960",
     "status": "completed"
    },
    "tags": []
   },
   "outputs": [],
   "source": [
    "import csv\n",
    "\n",
    "\n",
    "dataset_config_name = DATASET_CONFIG_PATH.split('/')[-1].split('.')[0]\n",
    "model_config_name = MODEL_CONFIG_PATH.split('/')[-1].split('.')[0]\n",
    "configuration = f\"dataset_{dataset_config_name}-model_{model_config_name}\"\n",
    "\n",
    "with open('results.csv', 'a') as f:\n",
    "    report = dict({'configuration': configuration}, **score)\n",
    "    writer = csv.DictWriter(f, report.keys())\n",
    "    writer.writerow(report)"
   ]
  }
 ],
 "metadata": {
  "celltoolbar": "Tags",
  "kernelspec": {
   "display_name": "Python 3",
   "language": "python",
   "name": "python3"
  },
  "language_info": {
   "codemirror_mode": {
    "name": "ipython",
    "version": 3
   },
   "file_extension": ".py",
   "mimetype": "text/x-python",
   "name": "python",
   "nbconvert_exporter": "python",
   "pygments_lexer": "ipython3",
   "version": "3.9.1"
  },
  "papermill": {
   "default_parameters": {},
   "duration": 6.046822,
   "end_time": "2021-04-04T23:16:57.812647",
   "environment_variables": {},
   "exception": null,
   "input_path": "main.ipynb",
   "output_path": "runs/dataset_000111-model_000001.ipynb",
   "parameters": {
    "DATASET_CONFIG_PATH": "config/dataset/000111.json",
    "MODEL_CONFIG_PATH": "config/model/000001.json",
    "PROFILE_REPORTING": false
   },
   "start_time": "2021-04-04T23:16:51.765825",
   "version": "2.3.3"
  }
 },
 "nbformat": 4,
 "nbformat_minor": 5
}