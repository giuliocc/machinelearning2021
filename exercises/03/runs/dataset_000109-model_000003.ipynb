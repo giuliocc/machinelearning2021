{
 "cells": [
  {
   "cell_type": "markdown",
   "id": "51c71c25",
   "metadata": {
    "papermill": {
     "duration": 0.031379,
     "end_time": "2021-04-04T23:16:18.412419",
     "exception": false,
     "start_time": "2021-04-04T23:16:18.381040",
     "status": "completed"
    },
    "tags": []
   },
   "source": [
    "# Parametrizing"
   ]
  },
  {
   "cell_type": "code",
   "execution_count": 1,
   "id": "3b136394",
   "metadata": {
    "execution": {
     "iopub.execute_input": "2021-04-04T23:16:18.467035Z",
     "iopub.status.busy": "2021-04-04T23:16:18.466129Z",
     "iopub.status.idle": "2021-04-04T23:16:18.468322Z",
     "shell.execute_reply": "2021-04-04T23:16:18.468867Z"
    },
    "papermill": {
     "duration": 0.036533,
     "end_time": "2021-04-04T23:16:18.469090",
     "exception": false,
     "start_time": "2021-04-04T23:16:18.432557",
     "status": "completed"
    },
    "tags": [
     "parameters"
    ]
   },
   "outputs": [],
   "source": [
    "DATASET_CONFIG_PATH = 'config/dataset/kc1_001.json'\n",
    "MODEL_CONFIG_PATH = 'config/model/knndd_001.json'\n",
    "PROFILE_REPORTING = False"
   ]
  },
  {
   "cell_type": "code",
   "execution_count": 2,
   "id": "1852c06e",
   "metadata": {
    "execution": {
     "iopub.execute_input": "2021-04-04T23:16:18.519891Z",
     "iopub.status.busy": "2021-04-04T23:16:18.519031Z",
     "iopub.status.idle": "2021-04-04T23:16:18.521818Z",
     "shell.execute_reply": "2021-04-04T23:16:18.522689Z"
    },
    "papermill": {
     "duration": 0.029237,
     "end_time": "2021-04-04T23:16:18.522938",
     "exception": false,
     "start_time": "2021-04-04T23:16:18.493701",
     "status": "completed"
    },
    "tags": [
     "injected-parameters"
    ]
   },
   "outputs": [],
   "source": [
    "# Parameters\n",
    "DATASET_CONFIG_PATH = \"config/dataset/000109.json\"\n",
    "MODEL_CONFIG_PATH = \"config/model/000003.json\"\n",
    "PROFILE_REPORTING = False\n"
   ]
  },
  {
   "cell_type": "code",
   "execution_count": 3,
   "id": "b80f2a10",
   "metadata": {
    "execution": {
     "iopub.execute_input": "2021-04-04T23:16:18.574751Z",
     "iopub.status.busy": "2021-04-04T23:16:18.573635Z",
     "iopub.status.idle": "2021-04-04T23:16:18.576976Z",
     "shell.execute_reply": "2021-04-04T23:16:18.577692Z"
    },
    "papermill": {
     "duration": 0.028582,
     "end_time": "2021-04-04T23:16:18.577893",
     "exception": false,
     "start_time": "2021-04-04T23:16:18.549311",
     "status": "completed"
    },
    "tags": []
   },
   "outputs": [],
   "source": [
    "import json\n",
    "\n",
    "\n",
    "with open(DATASET_CONFIG_PATH) as f:\n",
    "    dataset_config = json.load(f)\n",
    "\n",
    "with open(MODEL_CONFIG_PATH) as f:\n",
    "    model_config = json.load(f)"
   ]
  },
  {
   "cell_type": "markdown",
   "id": "9a4b0e2d",
   "metadata": {
    "papermill": {
     "duration": 0.020418,
     "end_time": "2021-04-04T23:16:18.622776",
     "exception": false,
     "start_time": "2021-04-04T23:16:18.602358",
     "status": "completed"
    },
    "tags": []
   },
   "source": [
    "# Profiling"
   ]
  },
  {
   "cell_type": "code",
   "execution_count": 4,
   "id": "a3e0289b",
   "metadata": {
    "execution": {
     "iopub.execute_input": "2021-04-04T23:16:18.667028Z",
     "iopub.status.busy": "2021-04-04T23:16:18.666115Z",
     "iopub.status.idle": "2021-04-04T23:16:19.937146Z",
     "shell.execute_reply": "2021-04-04T23:16:19.936526Z"
    },
    "papermill": {
     "duration": 1.294873,
     "end_time": "2021-04-04T23:16:19.937265",
     "exception": false,
     "start_time": "2021-04-04T23:16:18.642392",
     "status": "completed"
    },
    "tags": []
   },
   "outputs": [],
   "source": [
    "import pandas as pd\n",
    "from pandas_profiling import ProfileReport"
   ]
  },
  {
   "cell_type": "code",
   "execution_count": 5,
   "id": "ee6c0666",
   "metadata": {
    "execution": {
     "iopub.execute_input": "2021-04-04T23:16:19.982906Z",
     "iopub.status.busy": "2021-04-04T23:16:19.982289Z",
     "iopub.status.idle": "2021-04-04T23:16:19.994222Z",
     "shell.execute_reply": "2021-04-04T23:16:19.993156Z"
    },
    "papermill": {
     "duration": 0.03665,
     "end_time": "2021-04-04T23:16:19.994422",
     "exception": false,
     "start_time": "2021-04-04T23:16:19.957772",
     "status": "completed"
    },
    "tags": []
   },
   "outputs": [],
   "source": [
    "df = pd.read_csv(dataset_config['dataset_path'])"
   ]
  },
  {
   "cell_type": "code",
   "execution_count": 6,
   "id": "7eca6c4a",
   "metadata": {
    "execution": {
     "iopub.execute_input": "2021-04-04T23:16:20.058836Z",
     "iopub.status.busy": "2021-04-04T23:16:20.050405Z",
     "iopub.status.idle": "2021-04-04T23:16:20.062327Z",
     "shell.execute_reply": "2021-04-04T23:16:20.063172Z"
    },
    "papermill": {
     "duration": 0.043482,
     "end_time": "2021-04-04T23:16:20.063411",
     "exception": false,
     "start_time": "2021-04-04T23:16:20.019929",
     "status": "completed"
    },
    "tags": []
   },
   "outputs": [
    {
     "name": "stdout",
     "output_type": "stream",
     "text": [
      "<class 'pandas.core.frame.DataFrame'>\n",
      "RangeIndex: 498 entries, 0 to 497\n",
      "Data columns (total 23 columns):\n",
      " #   Column             Non-Null Count  Dtype  \n",
      "---  ------             --------------  -----  \n",
      " 0   id                 498 non-null    int64  \n",
      " 1   loc                498 non-null    float64\n",
      " 2   v(g)               498 non-null    float64\n",
      " 3   ev(g)              498 non-null    float64\n",
      " 4   iv(g)              498 non-null    float64\n",
      " 5   n                  498 non-null    float64\n",
      " 6   v                  498 non-null    float64\n",
      " 7   l                  498 non-null    float64\n",
      " 8   d                  498 non-null    float64\n",
      " 9   i                  498 non-null    float64\n",
      " 10  e                  498 non-null    float64\n",
      " 11  b                  498 non-null    float64\n",
      " 12  t                  498 non-null    float64\n",
      " 13  lOCode             498 non-null    int64  \n",
      " 14  lOComment          498 non-null    int64  \n",
      " 15  lOBlank            498 non-null    int64  \n",
      " 16  locCodeAndComment  498 non-null    int64  \n",
      " 17  uniq_Op            498 non-null    float64\n",
      " 18  uniq_Opnd          498 non-null    float64\n",
      " 19  total_Op           498 non-null    float64\n",
      " 20  total_Opnd         498 non-null    float64\n",
      " 21  branchCount        498 non-null    float64\n",
      " 22  defects            498 non-null    bool   \n",
      "dtypes: bool(1), float64(17), int64(5)\n",
      "memory usage: 86.2 KB\n"
     ]
    }
   ],
   "source": [
    "df.info()"
   ]
  },
  {
   "cell_type": "code",
   "execution_count": 7,
   "id": "3638e5e8",
   "metadata": {
    "execution": {
     "iopub.execute_input": "2021-04-04T23:16:20.120791Z",
     "iopub.status.busy": "2021-04-04T23:16:20.119953Z",
     "iopub.status.idle": "2021-04-04T23:16:20.148267Z",
     "shell.execute_reply": "2021-04-04T23:16:20.149117Z"
    },
    "papermill": {
     "duration": 0.05896,
     "end_time": "2021-04-04T23:16:20.149357",
     "exception": false,
     "start_time": "2021-04-04T23:16:20.090397",
     "status": "completed"
    },
    "tags": []
   },
   "outputs": [
    {
     "data": {
      "text/html": [
       "<div>\n",
       "<style scoped>\n",
       "    .dataframe tbody tr th:only-of-type {\n",
       "        vertical-align: middle;\n",
       "    }\n",
       "\n",
       "    .dataframe tbody tr th {\n",
       "        vertical-align: top;\n",
       "    }\n",
       "\n",
       "    .dataframe thead th {\n",
       "        text-align: right;\n",
       "    }\n",
       "</style>\n",
       "<table border=\"1\" class=\"dataframe\">\n",
       "  <thead>\n",
       "    <tr style=\"text-align: right;\">\n",
       "      <th></th>\n",
       "      <th>id</th>\n",
       "      <th>loc</th>\n",
       "      <th>v(g)</th>\n",
       "      <th>ev(g)</th>\n",
       "      <th>iv(g)</th>\n",
       "      <th>n</th>\n",
       "      <th>v</th>\n",
       "      <th>l</th>\n",
       "      <th>d</th>\n",
       "      <th>i</th>\n",
       "      <th>...</th>\n",
       "      <th>lOCode</th>\n",
       "      <th>lOComment</th>\n",
       "      <th>lOBlank</th>\n",
       "      <th>locCodeAndComment</th>\n",
       "      <th>uniq_Op</th>\n",
       "      <th>uniq_Opnd</th>\n",
       "      <th>total_Op</th>\n",
       "      <th>total_Opnd</th>\n",
       "      <th>branchCount</th>\n",
       "      <th>defects</th>\n",
       "    </tr>\n",
       "  </thead>\n",
       "  <tbody>\n",
       "    <tr>\n",
       "      <th>0</th>\n",
       "      <td>1</td>\n",
       "      <td>1.1</td>\n",
       "      <td>1.4</td>\n",
       "      <td>1.4</td>\n",
       "      <td>1.4</td>\n",
       "      <td>1.3</td>\n",
       "      <td>1.30</td>\n",
       "      <td>1.30</td>\n",
       "      <td>1.30</td>\n",
       "      <td>1.30</td>\n",
       "      <td>...</td>\n",
       "      <td>2</td>\n",
       "      <td>2</td>\n",
       "      <td>2</td>\n",
       "      <td>2</td>\n",
       "      <td>1.2</td>\n",
       "      <td>1.2</td>\n",
       "      <td>1.2</td>\n",
       "      <td>1.2</td>\n",
       "      <td>1.4</td>\n",
       "      <td>False</td>\n",
       "    </tr>\n",
       "    <tr>\n",
       "      <th>1</th>\n",
       "      <td>2</td>\n",
       "      <td>1.0</td>\n",
       "      <td>1.0</td>\n",
       "      <td>1.0</td>\n",
       "      <td>1.0</td>\n",
       "      <td>1.0</td>\n",
       "      <td>1.00</td>\n",
       "      <td>1.00</td>\n",
       "      <td>1.00</td>\n",
       "      <td>1.00</td>\n",
       "      <td>...</td>\n",
       "      <td>1</td>\n",
       "      <td>1</td>\n",
       "      <td>1</td>\n",
       "      <td>1</td>\n",
       "      <td>1.0</td>\n",
       "      <td>1.0</td>\n",
       "      <td>1.0</td>\n",
       "      <td>1.0</td>\n",
       "      <td>1.0</td>\n",
       "      <td>True</td>\n",
       "    </tr>\n",
       "    <tr>\n",
       "      <th>2</th>\n",
       "      <td>3</td>\n",
       "      <td>24.0</td>\n",
       "      <td>5.0</td>\n",
       "      <td>1.0</td>\n",
       "      <td>3.0</td>\n",
       "      <td>63.0</td>\n",
       "      <td>309.13</td>\n",
       "      <td>0.11</td>\n",
       "      <td>9.50</td>\n",
       "      <td>32.54</td>\n",
       "      <td>...</td>\n",
       "      <td>1</td>\n",
       "      <td>0</td>\n",
       "      <td>6</td>\n",
       "      <td>0</td>\n",
       "      <td>15.0</td>\n",
       "      <td>15.0</td>\n",
       "      <td>44.0</td>\n",
       "      <td>19.0</td>\n",
       "      <td>9.0</td>\n",
       "      <td>False</td>\n",
       "    </tr>\n",
       "    <tr>\n",
       "      <th>3</th>\n",
       "      <td>4</td>\n",
       "      <td>20.0</td>\n",
       "      <td>4.0</td>\n",
       "      <td>4.0</td>\n",
       "      <td>2.0</td>\n",
       "      <td>47.0</td>\n",
       "      <td>215.49</td>\n",
       "      <td>0.06</td>\n",
       "      <td>16.00</td>\n",
       "      <td>13.47</td>\n",
       "      <td>...</td>\n",
       "      <td>0</td>\n",
       "      <td>0</td>\n",
       "      <td>3</td>\n",
       "      <td>0</td>\n",
       "      <td>16.0</td>\n",
       "      <td>8.0</td>\n",
       "      <td>31.0</td>\n",
       "      <td>16.0</td>\n",
       "      <td>7.0</td>\n",
       "      <td>False</td>\n",
       "    </tr>\n",
       "    <tr>\n",
       "      <th>4</th>\n",
       "      <td>5</td>\n",
       "      <td>24.0</td>\n",
       "      <td>6.0</td>\n",
       "      <td>6.0</td>\n",
       "      <td>2.0</td>\n",
       "      <td>72.0</td>\n",
       "      <td>346.13</td>\n",
       "      <td>0.06</td>\n",
       "      <td>17.33</td>\n",
       "      <td>19.97</td>\n",
       "      <td>...</td>\n",
       "      <td>0</td>\n",
       "      <td>0</td>\n",
       "      <td>3</td>\n",
       "      <td>0</td>\n",
       "      <td>16.0</td>\n",
       "      <td>12.0</td>\n",
       "      <td>46.0</td>\n",
       "      <td>26.0</td>\n",
       "      <td>11.0</td>\n",
       "      <td>False</td>\n",
       "    </tr>\n",
       "  </tbody>\n",
       "</table>\n",
       "<p>5 rows × 23 columns</p>\n",
       "</div>"
      ],
      "text/plain": [
       "   id   loc  v(g)  ev(g)  iv(g)     n       v     l      d      i  ...  \\\n",
       "0   1   1.1   1.4    1.4    1.4   1.3    1.30  1.30   1.30   1.30  ...   \n",
       "1   2   1.0   1.0    1.0    1.0   1.0    1.00  1.00   1.00   1.00  ...   \n",
       "2   3  24.0   5.0    1.0    3.0  63.0  309.13  0.11   9.50  32.54  ...   \n",
       "3   4  20.0   4.0    4.0    2.0  47.0  215.49  0.06  16.00  13.47  ...   \n",
       "4   5  24.0   6.0    6.0    2.0  72.0  346.13  0.06  17.33  19.97  ...   \n",
       "\n",
       "   lOCode  lOComment  lOBlank  locCodeAndComment  uniq_Op  uniq_Opnd  \\\n",
       "0       2          2        2                  2      1.2        1.2   \n",
       "1       1          1        1                  1      1.0        1.0   \n",
       "2       1          0        6                  0     15.0       15.0   \n",
       "3       0          0        3                  0     16.0        8.0   \n",
       "4       0          0        3                  0     16.0       12.0   \n",
       "\n",
       "   total_Op  total_Opnd  branchCount  defects  \n",
       "0       1.2         1.2          1.4    False  \n",
       "1       1.0         1.0          1.0     True  \n",
       "2      44.0        19.0          9.0    False  \n",
       "3      31.0        16.0          7.0    False  \n",
       "4      46.0        26.0         11.0    False  \n",
       "\n",
       "[5 rows x 23 columns]"
      ]
     },
     "execution_count": 7,
     "metadata": {},
     "output_type": "execute_result"
    }
   ],
   "source": [
    "df.head()"
   ]
  },
  {
   "cell_type": "code",
   "execution_count": 8,
   "id": "733e95eb",
   "metadata": {
    "execution": {
     "iopub.execute_input": "2021-04-04T23:16:20.206851Z",
     "iopub.status.busy": "2021-04-04T23:16:20.205667Z",
     "iopub.status.idle": "2021-04-04T23:16:20.208496Z",
     "shell.execute_reply": "2021-04-04T23:16:20.209162Z"
    },
    "papermill": {
     "duration": 0.030902,
     "end_time": "2021-04-04T23:16:20.209351",
     "exception": false,
     "start_time": "2021-04-04T23:16:20.178449",
     "status": "completed"
    },
    "tags": []
   },
   "outputs": [],
   "source": [
    "del df['id']"
   ]
  },
  {
   "cell_type": "code",
   "execution_count": 9,
   "id": "6ff6f5b0",
   "metadata": {
    "execution": {
     "iopub.execute_input": "2021-04-04T23:16:20.265816Z",
     "iopub.status.busy": "2021-04-04T23:16:20.264699Z",
     "iopub.status.idle": "2021-04-04T23:16:20.267231Z",
     "shell.execute_reply": "2021-04-04T23:16:20.267947Z"
    },
    "papermill": {
     "duration": 0.02928,
     "end_time": "2021-04-04T23:16:20.268148",
     "exception": false,
     "start_time": "2021-04-04T23:16:20.238868",
     "status": "completed"
    },
    "tags": []
   },
   "outputs": [],
   "source": [
    "if PROFILE_REPORTING:\n",
    "    ProfileReport(df).to_widgets()"
   ]
  },
  {
   "cell_type": "markdown",
   "id": "1deaf3f0",
   "metadata": {
    "papermill": {
     "duration": 0.021161,
     "end_time": "2021-04-04T23:16:20.313852",
     "exception": false,
     "start_time": "2021-04-04T23:16:20.292691",
     "status": "completed"
    },
    "tags": []
   },
   "source": [
    "# Preprocess"
   ]
  },
  {
   "cell_type": "code",
   "execution_count": 10,
   "id": "1513e563",
   "metadata": {
    "execution": {
     "iopub.execute_input": "2021-04-04T23:16:20.365112Z",
     "iopub.status.busy": "2021-04-04T23:16:20.364119Z",
     "iopub.status.idle": "2021-04-04T23:16:20.367175Z",
     "shell.execute_reply": "2021-04-04T23:16:20.366353Z"
    },
    "papermill": {
     "duration": 0.032331,
     "end_time": "2021-04-04T23:16:20.367355",
     "exception": false,
     "start_time": "2021-04-04T23:16:20.335024",
     "status": "completed"
    },
    "tags": []
   },
   "outputs": [],
   "source": [
    "working_df = df.copy()"
   ]
  },
  {
   "cell_type": "code",
   "execution_count": 11,
   "id": "3b26d675",
   "metadata": {
    "execution": {
     "iopub.execute_input": "2021-04-04T23:16:20.423681Z",
     "iopub.status.busy": "2021-04-04T23:16:20.422777Z",
     "iopub.status.idle": "2021-04-04T23:16:20.426231Z",
     "shell.execute_reply": "2021-04-04T23:16:20.425359Z"
    },
    "papermill": {
     "duration": 0.033417,
     "end_time": "2021-04-04T23:16:20.426423",
     "exception": false,
     "start_time": "2021-04-04T23:16:20.393006",
     "status": "completed"
    },
    "tags": []
   },
   "outputs": [],
   "source": [
    "working_df['defects'] = working_df['defects'].replace([False, True], [0, 1])"
   ]
  },
  {
   "cell_type": "code",
   "execution_count": 12,
   "id": "eb48604f",
   "metadata": {
    "execution": {
     "iopub.execute_input": "2021-04-04T23:16:20.479592Z",
     "iopub.status.busy": "2021-04-04T23:16:20.478983Z",
     "iopub.status.idle": "2021-04-04T23:16:20.481687Z",
     "shell.execute_reply": "2021-04-04T23:16:20.482390Z"
    },
    "papermill": {
     "duration": 0.029654,
     "end_time": "2021-04-04T23:16:20.482589",
     "exception": false,
     "start_time": "2021-04-04T23:16:20.452935",
     "status": "completed"
    },
    "tags": []
   },
   "outputs": [],
   "source": [
    "for col in dataset_config['delete_columns']:\n",
    "    del working_df[col]"
   ]
  },
  {
   "cell_type": "code",
   "execution_count": 13,
   "id": "9a17bc29",
   "metadata": {
    "execution": {
     "iopub.execute_input": "2021-04-04T23:16:20.540119Z",
     "iopub.status.busy": "2021-04-04T23:16:20.539449Z",
     "iopub.status.idle": "2021-04-04T23:16:20.549563Z",
     "shell.execute_reply": "2021-04-04T23:16:20.548917Z"
    },
    "papermill": {
     "duration": 0.039006,
     "end_time": "2021-04-04T23:16:20.549692",
     "exception": false,
     "start_time": "2021-04-04T23:16:20.510686",
     "status": "completed"
    },
    "tags": []
   },
   "outputs": [],
   "source": [
    "working_df = working_df.drop_duplicates()"
   ]
  },
  {
   "cell_type": "markdown",
   "id": "a4d52ca6",
   "metadata": {
    "papermill": {
     "duration": 0.021324,
     "end_time": "2021-04-04T23:16:20.598931",
     "exception": false,
     "start_time": "2021-04-04T23:16:20.577607",
     "status": "completed"
    },
    "tags": []
   },
   "source": [
    "# Split"
   ]
  },
  {
   "cell_type": "code",
   "execution_count": 14,
   "id": "3e9ee4b5",
   "metadata": {
    "execution": {
     "iopub.execute_input": "2021-04-04T23:16:20.647061Z",
     "iopub.status.busy": "2021-04-04T23:16:20.646436Z",
     "iopub.status.idle": "2021-04-04T23:16:20.679937Z",
     "shell.execute_reply": "2021-04-04T23:16:20.679118Z"
    },
    "papermill": {
     "duration": 0.059378,
     "end_time": "2021-04-04T23:16:20.680095",
     "exception": false,
     "start_time": "2021-04-04T23:16:20.620717",
     "status": "completed"
    },
    "tags": []
   },
   "outputs": [],
   "source": [
    "from sklearn.model_selection import train_test_split"
   ]
  },
  {
   "cell_type": "code",
   "execution_count": 15,
   "id": "274004ce",
   "metadata": {
    "execution": {
     "iopub.execute_input": "2021-04-04T23:16:20.734801Z",
     "iopub.status.busy": "2021-04-04T23:16:20.733965Z",
     "iopub.status.idle": "2021-04-04T23:16:20.740366Z",
     "shell.execute_reply": "2021-04-04T23:16:20.739500Z"
    },
    "papermill": {
     "duration": 0.033239,
     "end_time": "2021-04-04T23:16:20.740582",
     "exception": false,
     "start_time": "2021-04-04T23:16:20.707343",
     "status": "completed"
    },
    "scrolled": true,
    "tags": []
   },
   "outputs": [],
   "source": [
    "inlier, outlier = working_df[working_df['defects'] == 0], working_df[working_df['defects'] == 1]"
   ]
  },
  {
   "cell_type": "code",
   "execution_count": 16,
   "id": "753c7b03",
   "metadata": {
    "execution": {
     "iopub.execute_input": "2021-04-04T23:16:20.797285Z",
     "iopub.status.busy": "2021-04-04T23:16:20.796624Z",
     "iopub.status.idle": "2021-04-04T23:16:20.801620Z",
     "shell.execute_reply": "2021-04-04T23:16:20.802077Z"
    },
    "papermill": {
     "duration": 0.03187,
     "end_time": "2021-04-04T23:16:20.802223",
     "exception": false,
     "start_time": "2021-04-04T23:16:20.770353",
     "status": "completed"
    },
    "tags": []
   },
   "outputs": [],
   "source": [
    "X_inlier = inlier.copy()\n",
    "y_inlier = X_inlier.pop('defects')\n",
    "X_outlier = outlier.copy()\n",
    "y_outlier = X_outlier.pop('defects')"
   ]
  },
  {
   "cell_type": "code",
   "execution_count": 17,
   "id": "2ba43193",
   "metadata": {
    "execution": {
     "iopub.execute_input": "2021-04-04T23:16:20.860966Z",
     "iopub.status.busy": "2021-04-04T23:16:20.860044Z",
     "iopub.status.idle": "2021-04-04T23:16:20.863026Z",
     "shell.execute_reply": "2021-04-04T23:16:20.863841Z"
    },
    "papermill": {
     "duration": 0.033973,
     "end_time": "2021-04-04T23:16:20.864069",
     "exception": false,
     "start_time": "2021-04-04T23:16:20.830096",
     "status": "completed"
    },
    "tags": []
   },
   "outputs": [],
   "source": [
    "test_size = dataset_config['test_size']\n",
    "random_state = dataset_config['random_state']\n",
    "\n",
    "X_inlier_train, X_inlier_test, y_inlier_train, y_inlier_test = train_test_split(\n",
    "    X_inlier,\n",
    "    y_inlier,\n",
    "    test_size=test_size,\n",
    "    random_state=random_state\n",
    ")"
   ]
  },
  {
   "cell_type": "code",
   "execution_count": 18,
   "id": "0b7582ca",
   "metadata": {
    "execution": {
     "iopub.execute_input": "2021-04-04T23:16:20.924250Z",
     "iopub.status.busy": "2021-04-04T23:16:20.923430Z",
     "iopub.status.idle": "2021-04-04T23:16:20.926627Z",
     "shell.execute_reply": "2021-04-04T23:16:20.925792Z"
    },
    "papermill": {
     "duration": 0.03477,
     "end_time": "2021-04-04T23:16:20.926816",
     "exception": false,
     "start_time": "2021-04-04T23:16:20.892046",
     "status": "completed"
    },
    "tags": []
   },
   "outputs": [],
   "source": [
    "test_outlier_size = dataset_config['test_outlier_size']\n",
    "if test_outlier_size > 0.0:\n",
    "    X_outlier_train, X_outlier_test, y_outlier_train, y_outlier_test = train_test_split(\n",
    "        X_outlier,\n",
    "        y_outlier,\n",
    "        test_size=test_outlier_size,\n",
    "        random_state=random_state\n",
    "    )\n",
    "else:\n",
    "    X_outlier_train, y_outlier_train = pd.DataFrame(columns=X_outlier.columns), pd.Series(dtype='int64')\n",
    "    X_outlier_test, y_outlier_test = X_outlier.copy(), y_outlier.copy()"
   ]
  },
  {
   "cell_type": "code",
   "execution_count": 19,
   "id": "c34363db",
   "metadata": {
    "execution": {
     "iopub.execute_input": "2021-04-04T23:16:20.986297Z",
     "iopub.status.busy": "2021-04-04T23:16:20.985635Z",
     "iopub.status.idle": "2021-04-04T23:16:20.988255Z",
     "shell.execute_reply": "2021-04-04T23:16:20.988988Z"
    },
    "papermill": {
     "duration": 0.036709,
     "end_time": "2021-04-04T23:16:20.989195",
     "exception": false,
     "start_time": "2021-04-04T23:16:20.952486",
     "status": "completed"
    },
    "tags": []
   },
   "outputs": [],
   "source": [
    "X_train, y_train = pd.concat([X_inlier_train, X_outlier_train], ignore_index=True), pd.concat([y_inlier_train, y_outlier_train], ignore_index=True)\n",
    "X_test, y_test = pd.concat([X_inlier_test, X_outlier_test], ignore_index=True), pd.concat([y_inlier_test, y_outlier_test], ignore_index=True)"
   ]
  },
  {
   "cell_type": "markdown",
   "id": "7cde7309",
   "metadata": {
    "papermill": {
     "duration": 0.02199,
     "end_time": "2021-04-04T23:16:21.036541",
     "exception": false,
     "start_time": "2021-04-04T23:16:21.014551",
     "status": "completed"
    },
    "tags": []
   },
   "source": [
    "# Model"
   ]
  },
  {
   "cell_type": "code",
   "execution_count": 20,
   "id": "2b12a415",
   "metadata": {
    "execution": {
     "iopub.execute_input": "2021-04-04T23:16:21.095136Z",
     "iopub.status.busy": "2021-04-04T23:16:21.094380Z",
     "iopub.status.idle": "2021-04-04T23:16:21.098846Z",
     "shell.execute_reply": "2021-04-04T23:16:21.098051Z"
    },
    "papermill": {
     "duration": 0.040308,
     "end_time": "2021-04-04T23:16:21.099017",
     "exception": false,
     "start_time": "2021-04-04T23:16:21.058709",
     "status": "completed"
    },
    "tags": []
   },
   "outputs": [],
   "source": [
    "from math import sqrt\n",
    "\n",
    "\n",
    "class KNNDataDescription:\n",
    "    def __init__(self, k=5, outlier_threshold=1.0):\n",
    "        self.k = k\n",
    "        self.outlier_threshold = outlier_threshold\n",
    "        self.X = []\n",
    "    \n",
    "    def fit(self, X):\n",
    "        self.X = [features.to_list() for index, features in X.iterrows()]\n",
    "\n",
    "    def predict(self, entries):\n",
    "        return [self.predict_entry(features.to_list()) for index, features in entries.iterrows()]\n",
    "    \n",
    "    def predict_entry(self, entry):\n",
    "        kth_neighbor, kth_distance = self.get_kth_neighbor(entry, self.k)\n",
    "        kth_kth_neighbor, kth_kth_distance = self.get_kth_neighbor(kth_neighbor, self.k + 1)\n",
    "\n",
    "        outlier_score = kth_distance / (kth_kth_distance + 0.000001)\n",
    "\n",
    "        return 1 if outlier_score < self.outlier_threshold else -1\n",
    "        \n",
    "    def euclidean_distance(self, features1, features2):\n",
    "        distance = 0.0\n",
    "        for feat1, feat2 in zip(features1, features2):\n",
    "            distance += (feat1 - feat2)**2\n",
    "                \n",
    "        return sqrt(distance)\n",
    "\n",
    "    def get_neighbors(self, entry, k):\n",
    "        distance_to_data_points = [\n",
    "            (data_point, self.euclidean_distance(entry, data_point))\n",
    "            for data_point in self.X\n",
    "        ]\n",
    "        sorted_by_distance = sorted(distance_to_data_points, key=lambda tup: tup[1])\n",
    "        neighbors = sorted_by_distance[:k]\n",
    "        return neighbors\n",
    "\n",
    "    def get_kth_neighbor(self, entry, k):\n",
    "        neighbors = self.get_neighbors(entry, k)\n",
    "        return neighbors[-1]\n"
   ]
  },
  {
   "cell_type": "code",
   "execution_count": 21,
   "id": "1fa9ec1c",
   "metadata": {
    "execution": {
     "iopub.execute_input": "2021-04-04T23:16:21.152384Z",
     "iopub.status.busy": "2021-04-04T23:16:21.151753Z",
     "iopub.status.idle": "2021-04-04T23:16:21.172865Z",
     "shell.execute_reply": "2021-04-04T23:16:21.173626Z"
    },
    "papermill": {
     "duration": 0.048465,
     "end_time": "2021-04-04T23:16:21.173832",
     "exception": false,
     "start_time": "2021-04-04T23:16:21.125367",
     "status": "completed"
    },
    "tags": []
   },
   "outputs": [],
   "source": [
    "from sklearn.svm import OneClassSVM\n",
    "\n",
    "\n",
    "models = {\n",
    "    'oneclasssvm': OneClassSVM,\n",
    "    'knndatadescription': KNNDataDescription,\n",
    "}"
   ]
  },
  {
   "cell_type": "code",
   "execution_count": 22,
   "id": "4d72a0b1",
   "metadata": {
    "execution": {
     "iopub.execute_input": "2021-04-04T23:16:21.235107Z",
     "iopub.status.busy": "2021-04-04T23:16:21.234382Z",
     "iopub.status.idle": "2021-04-04T23:16:21.237035Z",
     "shell.execute_reply": "2021-04-04T23:16:21.237840Z"
    },
    "papermill": {
     "duration": 0.030545,
     "end_time": "2021-04-04T23:16:21.238074",
     "exception": false,
     "start_time": "2021-04-04T23:16:21.207529",
     "status": "completed"
    },
    "scrolled": true,
    "tags": []
   },
   "outputs": [],
   "source": [
    "model_cls = models[model_config['model_type']]\n",
    "model = model_cls(**model_config['hyperparameters'])"
   ]
  },
  {
   "cell_type": "markdown",
   "id": "e00cff3b",
   "metadata": {
    "papermill": {
     "duration": 0.022334,
     "end_time": "2021-04-04T23:16:21.287149",
     "exception": false,
     "start_time": "2021-04-04T23:16:21.264815",
     "status": "completed"
    },
    "tags": []
   },
   "source": [
    "# Fit"
   ]
  },
  {
   "cell_type": "code",
   "execution_count": 23,
   "id": "8b2ded89",
   "metadata": {
    "execution": {
     "iopub.execute_input": "2021-04-04T23:16:21.347936Z",
     "iopub.status.busy": "2021-04-04T23:16:21.336940Z",
     "iopub.status.idle": "2021-04-04T23:16:21.363637Z",
     "shell.execute_reply": "2021-04-04T23:16:21.362717Z"
    },
    "papermill": {
     "duration": 0.054115,
     "end_time": "2021-04-04T23:16:21.363812",
     "exception": false,
     "start_time": "2021-04-04T23:16:21.309697",
     "status": "completed"
    },
    "tags": []
   },
   "outputs": [],
   "source": [
    "model.fit(X_train)"
   ]
  },
  {
   "cell_type": "markdown",
   "id": "f99999f7",
   "metadata": {
    "papermill": {
     "duration": 0.02357,
     "end_time": "2021-04-04T23:16:21.416071",
     "exception": false,
     "start_time": "2021-04-04T23:16:21.392501",
     "status": "completed"
    },
    "tags": []
   },
   "source": [
    "# Predict"
   ]
  },
  {
   "cell_type": "code",
   "execution_count": 24,
   "id": "6536fbf7",
   "metadata": {
    "execution": {
     "iopub.execute_input": "2021-04-04T23:16:21.497199Z",
     "iopub.status.busy": "2021-04-04T23:16:21.466237Z",
     "iopub.status.idle": "2021-04-04T23:16:21.816077Z",
     "shell.execute_reply": "2021-04-04T23:16:21.815501Z"
    },
    "papermill": {
     "duration": 0.377315,
     "end_time": "2021-04-04T23:16:21.816207",
     "exception": false,
     "start_time": "2021-04-04T23:16:21.438892",
     "status": "completed"
    },
    "tags": []
   },
   "outputs": [],
   "source": [
    "predictions = model.predict(X_test)"
   ]
  },
  {
   "cell_type": "markdown",
   "id": "aa1c9881",
   "metadata": {
    "papermill": {
     "duration": 0.022923,
     "end_time": "2021-04-04T23:16:21.864373",
     "exception": false,
     "start_time": "2021-04-04T23:16:21.841450",
     "status": "completed"
    },
    "tags": []
   },
   "source": [
    "# Evaluate"
   ]
  },
  {
   "cell_type": "code",
   "execution_count": 25,
   "id": "894f0f04",
   "metadata": {
    "execution": {
     "iopub.execute_input": "2021-04-04T23:16:21.914338Z",
     "iopub.status.busy": "2021-04-04T23:16:21.913600Z",
     "iopub.status.idle": "2021-04-04T23:16:21.916187Z",
     "shell.execute_reply": "2021-04-04T23:16:21.915654Z"
    },
    "papermill": {
     "duration": 0.029101,
     "end_time": "2021-04-04T23:16:21.916312",
     "exception": false,
     "start_time": "2021-04-04T23:16:21.887211",
     "status": "completed"
    },
    "tags": []
   },
   "outputs": [],
   "source": [
    "from sklearn.metrics import f1_score"
   ]
  },
  {
   "cell_type": "code",
   "execution_count": 26,
   "id": "211744d3",
   "metadata": {
    "execution": {
     "iopub.execute_input": "2021-04-04T23:16:21.969883Z",
     "iopub.status.busy": "2021-04-04T23:16:21.968950Z",
     "iopub.status.idle": "2021-04-04T23:16:21.971653Z",
     "shell.execute_reply": "2021-04-04T23:16:21.971076Z"
    },
    "papermill": {
     "duration": 0.029856,
     "end_time": "2021-04-04T23:16:21.971770",
     "exception": false,
     "start_time": "2021-04-04T23:16:21.941914",
     "status": "completed"
    },
    "tags": []
   },
   "outputs": [],
   "source": [
    "y_test = y_test.replace([0, 1], [1, -1])"
   ]
  },
  {
   "cell_type": "code",
   "execution_count": 27,
   "id": "d68a9204",
   "metadata": {
    "execution": {
     "iopub.execute_input": "2021-04-04T23:16:22.029488Z",
     "iopub.status.busy": "2021-04-04T23:16:22.028516Z",
     "iopub.status.idle": "2021-04-04T23:16:22.031708Z",
     "shell.execute_reply": "2021-04-04T23:16:22.031133Z"
    },
    "papermill": {
     "duration": 0.033602,
     "end_time": "2021-04-04T23:16:22.031850",
     "exception": false,
     "start_time": "2021-04-04T23:16:21.998248",
     "status": "completed"
    },
    "tags": []
   },
   "outputs": [],
   "source": [
    "def evaluate(truths, predictions, pos_label, neg_label):\n",
    "    TP = 0\n",
    "    FP = 0\n",
    "    TN = 0\n",
    "    FN = 0\n",
    "\n",
    "    for truth, pred in zip(truths, predictions): \n",
    "        if truth == pred == pos_label:\n",
    "           TP += 1\n",
    "        elif pred == pos_label and truth == neg_label:\n",
    "           FP += 1\n",
    "        elif truth == pred == neg_label:\n",
    "           TN += 1\n",
    "        elif pred == neg_label and truth == pos_label:\n",
    "           FN += 1\n",
    "\n",
    "    precision = TP / (TP + FP)\n",
    "    sensitivity = TP / (TP + FN)\n",
    "    \n",
    "    return {\n",
    "        'true_pos': TP,\n",
    "        'false_pos': FP,\n",
    "        'false_neg': FN,\n",
    "        'true_neg': TN,\n",
    "        'precision': precision,\n",
    "        'sensitivity': sensitivity,\n",
    "        'f1': (2 * (precision * sensitivity)) / (precision + sensitivity)\n",
    "    }\n",
    "\n",
    "score = evaluate(y_test, predictions, pos_label=-1, neg_label=1)"
   ]
  },
  {
   "cell_type": "markdown",
   "id": "93596516",
   "metadata": {
    "papermill": {
     "duration": 0.023023,
     "end_time": "2021-04-04T23:16:22.079811",
     "exception": false,
     "start_time": "2021-04-04T23:16:22.056788",
     "status": "completed"
    },
    "tags": []
   },
   "source": [
    "# Report"
   ]
  },
  {
   "cell_type": "code",
   "execution_count": 28,
   "id": "bea5fba1",
   "metadata": {
    "execution": {
     "iopub.execute_input": "2021-04-04T23:16:22.133320Z",
     "iopub.status.busy": "2021-04-04T23:16:22.132714Z",
     "iopub.status.idle": "2021-04-04T23:16:22.136321Z",
     "shell.execute_reply": "2021-04-04T23:16:22.135555Z"
    },
    "papermill": {
     "duration": 0.033719,
     "end_time": "2021-04-04T23:16:22.136492",
     "exception": false,
     "start_time": "2021-04-04T23:16:22.102773",
     "status": "completed"
    },
    "tags": []
   },
   "outputs": [],
   "source": [
    "import csv\n",
    "\n",
    "\n",
    "dataset_config_name = DATASET_CONFIG_PATH.split('/')[-1].split('.')[0]\n",
    "model_config_name = MODEL_CONFIG_PATH.split('/')[-1].split('.')[0]\n",
    "configuration = f\"dataset_{dataset_config_name}-model_{model_config_name}\"\n",
    "\n",
    "with open('results.csv', 'a') as f:\n",
    "    report = dict({'configuration': configuration}, **score)\n",
    "    writer = csv.DictWriter(f, report.keys())\n",
    "    writer.writerow(report)"
   ]
  }
 ],
 "metadata": {
  "celltoolbar": "Tags",
  "kernelspec": {
   "display_name": "Python 3",
   "language": "python",
   "name": "python3"
  },
  "language_info": {
   "codemirror_mode": {
    "name": "ipython",
    "version": 3
   },
   "file_extension": ".py",
   "mimetype": "text/x-python",
   "name": "python",
   "nbconvert_exporter": "python",
   "pygments_lexer": "ipython3",
   "version": "3.9.1"
  },
  "papermill": {
   "default_parameters": {},
   "duration": 6.041256,
   "end_time": "2021-04-04T23:16:23.748492",
   "environment_variables": {},
   "exception": null,
   "input_path": "main.ipynb",
   "output_path": "runs/dataset_000109-model_000003.ipynb",
   "parameters": {
    "DATASET_CONFIG_PATH": "config/dataset/000109.json",
    "MODEL_CONFIG_PATH": "config/model/000003.json",
    "PROFILE_REPORTING": false
   },
   "start_time": "2021-04-04T23:16:17.707236",
   "version": "2.3.3"
  }
 },
 "nbformat": 4,
 "nbformat_minor": 5
}