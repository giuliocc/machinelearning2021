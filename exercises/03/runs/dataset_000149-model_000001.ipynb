{
 "cells": [
  {
   "cell_type": "markdown",
   "id": "51c71c25",
   "metadata": {
    "papermill": {
     "duration": 0.023282,
     "end_time": "2021-04-04T23:33:07.576680",
     "exception": false,
     "start_time": "2021-04-04T23:33:07.553398",
     "status": "completed"
    },
    "tags": []
   },
   "source": [
    "# Parametrizing"
   ]
  },
  {
   "cell_type": "code",
   "execution_count": 1,
   "id": "3b136394",
   "metadata": {
    "execution": {
     "iopub.execute_input": "2021-04-04T23:33:07.633397Z",
     "iopub.status.busy": "2021-04-04T23:33:07.631119Z",
     "iopub.status.idle": "2021-04-04T23:33:07.636106Z",
     "shell.execute_reply": "2021-04-04T23:33:07.635448Z"
    },
    "papermill": {
     "duration": 0.037799,
     "end_time": "2021-04-04T23:33:07.636237",
     "exception": false,
     "start_time": "2021-04-04T23:33:07.598438",
     "status": "completed"
    },
    "tags": [
     "parameters"
    ]
   },
   "outputs": [],
   "source": [
    "DATASET_CONFIG_PATH = 'config/dataset/kc1_001.json'\n",
    "MODEL_CONFIG_PATH = 'config/model/knndd_001.json'\n",
    "PROFILE_REPORTING = False"
   ]
  },
  {
   "cell_type": "code",
   "execution_count": 2,
   "id": "1b4ebe7f",
   "metadata": {
    "execution": {
     "iopub.execute_input": "2021-04-04T23:33:07.682124Z",
     "iopub.status.busy": "2021-04-04T23:33:07.681298Z",
     "iopub.status.idle": "2021-04-04T23:33:07.684105Z",
     "shell.execute_reply": "2021-04-04T23:33:07.683591Z"
    },
    "papermill": {
     "duration": 0.026414,
     "end_time": "2021-04-04T23:33:07.684227",
     "exception": false,
     "start_time": "2021-04-04T23:33:07.657813",
     "status": "completed"
    },
    "tags": [
     "injected-parameters"
    ]
   },
   "outputs": [],
   "source": [
    "# Parameters\n",
    "DATASET_CONFIG_PATH = \"config/dataset/000149.json\"\n",
    "MODEL_CONFIG_PATH = \"config/model/000001.json\"\n",
    "PROFILE_REPORTING = False\n"
   ]
  },
  {
   "cell_type": "code",
   "execution_count": 3,
   "id": "b80f2a10",
   "metadata": {
    "execution": {
     "iopub.execute_input": "2021-04-04T23:33:07.745347Z",
     "iopub.status.busy": "2021-04-04T23:33:07.744517Z",
     "iopub.status.idle": "2021-04-04T23:33:07.750843Z",
     "shell.execute_reply": "2021-04-04T23:33:07.751830Z"
    },
    "papermill": {
     "duration": 0.044444,
     "end_time": "2021-04-04T23:33:07.752095",
     "exception": false,
     "start_time": "2021-04-04T23:33:07.707651",
     "status": "completed"
    },
    "tags": []
   },
   "outputs": [],
   "source": [
    "import json\n",
    "\n",
    "\n",
    "with open(DATASET_CONFIG_PATH) as f:\n",
    "    dataset_config = json.load(f)\n",
    "\n",
    "with open(MODEL_CONFIG_PATH) as f:\n",
    "    model_config = json.load(f)"
   ]
  },
  {
   "cell_type": "markdown",
   "id": "9a4b0e2d",
   "metadata": {
    "papermill": {
     "duration": 0.020382,
     "end_time": "2021-04-04T23:33:07.793482",
     "exception": false,
     "start_time": "2021-04-04T23:33:07.773100",
     "status": "completed"
    },
    "tags": []
   },
   "source": [
    "# Profiling"
   ]
  },
  {
   "cell_type": "code",
   "execution_count": 4,
   "id": "a3e0289b",
   "metadata": {
    "execution": {
     "iopub.execute_input": "2021-04-04T23:33:07.845509Z",
     "iopub.status.busy": "2021-04-04T23:33:07.844751Z",
     "iopub.status.idle": "2021-04-04T23:33:09.531519Z",
     "shell.execute_reply": "2021-04-04T23:33:09.530983Z"
    },
    "papermill": {
     "duration": 1.717175,
     "end_time": "2021-04-04T23:33:09.531651",
     "exception": false,
     "start_time": "2021-04-04T23:33:07.814476",
     "status": "completed"
    },
    "tags": []
   },
   "outputs": [],
   "source": [
    "import pandas as pd\n",
    "from pandas_profiling import ProfileReport"
   ]
  },
  {
   "cell_type": "code",
   "execution_count": 5,
   "id": "ee6c0666",
   "metadata": {
    "execution": {
     "iopub.execute_input": "2021-04-04T23:33:09.580343Z",
     "iopub.status.busy": "2021-04-04T23:33:09.579559Z",
     "iopub.status.idle": "2021-04-04T23:33:09.588980Z",
     "shell.execute_reply": "2021-04-04T23:33:09.589466Z"
    },
    "papermill": {
     "duration": 0.03612,
     "end_time": "2021-04-04T23:33:09.589613",
     "exception": false,
     "start_time": "2021-04-04T23:33:09.553493",
     "status": "completed"
    },
    "tags": []
   },
   "outputs": [],
   "source": [
    "df = pd.read_csv(dataset_config['dataset_path'])"
   ]
  },
  {
   "cell_type": "code",
   "execution_count": 6,
   "id": "7eca6c4a",
   "metadata": {
    "execution": {
     "iopub.execute_input": "2021-04-04T23:33:09.662442Z",
     "iopub.status.busy": "2021-04-04T23:33:09.650597Z",
     "iopub.status.idle": "2021-04-04T23:33:09.665592Z",
     "shell.execute_reply": "2021-04-04T23:33:09.665070Z"
    },
    "papermill": {
     "duration": 0.053319,
     "end_time": "2021-04-04T23:33:09.665711",
     "exception": false,
     "start_time": "2021-04-04T23:33:09.612392",
     "status": "completed"
    },
    "tags": []
   },
   "outputs": [
    {
     "name": "stdout",
     "output_type": "stream",
     "text": [
      "<class 'pandas.core.frame.DataFrame'>\n",
      "RangeIndex: 498 entries, 0 to 497\n",
      "Data columns (total 23 columns):\n",
      " #   Column             Non-Null Count  Dtype  \n",
      "---  ------             --------------  -----  \n",
      " 0   id                 498 non-null    int64  \n",
      " 1   loc                498 non-null    float64\n",
      " 2   v(g)               498 non-null    float64\n",
      " 3   ev(g)              498 non-null    float64\n",
      " 4   iv(g)              498 non-null    float64\n",
      " 5   n                  498 non-null    float64\n",
      " 6   v                  498 non-null    float64\n",
      " 7   l                  498 non-null    float64\n",
      " 8   d                  498 non-null    float64\n",
      " 9   i                  498 non-null    float64\n",
      " 10  e                  498 non-null    float64\n",
      " 11  b                  498 non-null    float64\n",
      " 12  t                  498 non-null    float64\n",
      " 13  lOCode             498 non-null    int64  \n",
      " 14  lOComment          498 non-null    int64  \n",
      " 15  lOBlank            498 non-null    int64  \n",
      " 16  locCodeAndComment  498 non-null    int64  \n",
      " 17  uniq_Op            498 non-null    float64\n",
      " 18  uniq_Opnd          498 non-null    float64\n",
      " 19  total_Op           498 non-null    float64\n",
      " 20  total_Opnd         498 non-null    float64\n",
      " 21  branchCount        498 non-null    float64\n",
      " 22  defects            498 non-null    bool   \n",
      "dtypes: bool(1), float64(17), int64(5)\n",
      "memory usage: 86.2 KB\n"
     ]
    }
   ],
   "source": [
    "df.info()"
   ]
  },
  {
   "cell_type": "code",
   "execution_count": 7,
   "id": "3638e5e8",
   "metadata": {
    "execution": {
     "iopub.execute_input": "2021-04-04T23:33:09.719069Z",
     "iopub.status.busy": "2021-04-04T23:33:09.718090Z",
     "iopub.status.idle": "2021-04-04T23:33:09.751886Z",
     "shell.execute_reply": "2021-04-04T23:33:09.752360Z"
    },
    "papermill": {
     "duration": 0.062705,
     "end_time": "2021-04-04T23:33:09.752504",
     "exception": false,
     "start_time": "2021-04-04T23:33:09.689799",
     "status": "completed"
    },
    "tags": []
   },
   "outputs": [
    {
     "data": {
      "text/html": [
       "<div>\n",
       "<style scoped>\n",
       "    .dataframe tbody tr th:only-of-type {\n",
       "        vertical-align: middle;\n",
       "    }\n",
       "\n",
       "    .dataframe tbody tr th {\n",
       "        vertical-align: top;\n",
       "    }\n",
       "\n",
       "    .dataframe thead th {\n",
       "        text-align: right;\n",
       "    }\n",
       "</style>\n",
       "<table border=\"1\" class=\"dataframe\">\n",
       "  <thead>\n",
       "    <tr style=\"text-align: right;\">\n",
       "      <th></th>\n",
       "      <th>id</th>\n",
       "      <th>loc</th>\n",
       "      <th>v(g)</th>\n",
       "      <th>ev(g)</th>\n",
       "      <th>iv(g)</th>\n",
       "      <th>n</th>\n",
       "      <th>v</th>\n",
       "      <th>l</th>\n",
       "      <th>d</th>\n",
       "      <th>i</th>\n",
       "      <th>...</th>\n",
       "      <th>lOCode</th>\n",
       "      <th>lOComment</th>\n",
       "      <th>lOBlank</th>\n",
       "      <th>locCodeAndComment</th>\n",
       "      <th>uniq_Op</th>\n",
       "      <th>uniq_Opnd</th>\n",
       "      <th>total_Op</th>\n",
       "      <th>total_Opnd</th>\n",
       "      <th>branchCount</th>\n",
       "      <th>defects</th>\n",
       "    </tr>\n",
       "  </thead>\n",
       "  <tbody>\n",
       "    <tr>\n",
       "      <th>0</th>\n",
       "      <td>1</td>\n",
       "      <td>1.1</td>\n",
       "      <td>1.4</td>\n",
       "      <td>1.4</td>\n",
       "      <td>1.4</td>\n",
       "      <td>1.3</td>\n",
       "      <td>1.30</td>\n",
       "      <td>1.30</td>\n",
       "      <td>1.30</td>\n",
       "      <td>1.30</td>\n",
       "      <td>...</td>\n",
       "      <td>2</td>\n",
       "      <td>2</td>\n",
       "      <td>2</td>\n",
       "      <td>2</td>\n",
       "      <td>1.2</td>\n",
       "      <td>1.2</td>\n",
       "      <td>1.2</td>\n",
       "      <td>1.2</td>\n",
       "      <td>1.4</td>\n",
       "      <td>False</td>\n",
       "    </tr>\n",
       "    <tr>\n",
       "      <th>1</th>\n",
       "      <td>2</td>\n",
       "      <td>1.0</td>\n",
       "      <td>1.0</td>\n",
       "      <td>1.0</td>\n",
       "      <td>1.0</td>\n",
       "      <td>1.0</td>\n",
       "      <td>1.00</td>\n",
       "      <td>1.00</td>\n",
       "      <td>1.00</td>\n",
       "      <td>1.00</td>\n",
       "      <td>...</td>\n",
       "      <td>1</td>\n",
       "      <td>1</td>\n",
       "      <td>1</td>\n",
       "      <td>1</td>\n",
       "      <td>1.0</td>\n",
       "      <td>1.0</td>\n",
       "      <td>1.0</td>\n",
       "      <td>1.0</td>\n",
       "      <td>1.0</td>\n",
       "      <td>True</td>\n",
       "    </tr>\n",
       "    <tr>\n",
       "      <th>2</th>\n",
       "      <td>3</td>\n",
       "      <td>24.0</td>\n",
       "      <td>5.0</td>\n",
       "      <td>1.0</td>\n",
       "      <td>3.0</td>\n",
       "      <td>63.0</td>\n",
       "      <td>309.13</td>\n",
       "      <td>0.11</td>\n",
       "      <td>9.50</td>\n",
       "      <td>32.54</td>\n",
       "      <td>...</td>\n",
       "      <td>1</td>\n",
       "      <td>0</td>\n",
       "      <td>6</td>\n",
       "      <td>0</td>\n",
       "      <td>15.0</td>\n",
       "      <td>15.0</td>\n",
       "      <td>44.0</td>\n",
       "      <td>19.0</td>\n",
       "      <td>9.0</td>\n",
       "      <td>False</td>\n",
       "    </tr>\n",
       "    <tr>\n",
       "      <th>3</th>\n",
       "      <td>4</td>\n",
       "      <td>20.0</td>\n",
       "      <td>4.0</td>\n",
       "      <td>4.0</td>\n",
       "      <td>2.0</td>\n",
       "      <td>47.0</td>\n",
       "      <td>215.49</td>\n",
       "      <td>0.06</td>\n",
       "      <td>16.00</td>\n",
       "      <td>13.47</td>\n",
       "      <td>...</td>\n",
       "      <td>0</td>\n",
       "      <td>0</td>\n",
       "      <td>3</td>\n",
       "      <td>0</td>\n",
       "      <td>16.0</td>\n",
       "      <td>8.0</td>\n",
       "      <td>31.0</td>\n",
       "      <td>16.0</td>\n",
       "      <td>7.0</td>\n",
       "      <td>False</td>\n",
       "    </tr>\n",
       "    <tr>\n",
       "      <th>4</th>\n",
       "      <td>5</td>\n",
       "      <td>24.0</td>\n",
       "      <td>6.0</td>\n",
       "      <td>6.0</td>\n",
       "      <td>2.0</td>\n",
       "      <td>72.0</td>\n",
       "      <td>346.13</td>\n",
       "      <td>0.06</td>\n",
       "      <td>17.33</td>\n",
       "      <td>19.97</td>\n",
       "      <td>...</td>\n",
       "      <td>0</td>\n",
       "      <td>0</td>\n",
       "      <td>3</td>\n",
       "      <td>0</td>\n",
       "      <td>16.0</td>\n",
       "      <td>12.0</td>\n",
       "      <td>46.0</td>\n",
       "      <td>26.0</td>\n",
       "      <td>11.0</td>\n",
       "      <td>False</td>\n",
       "    </tr>\n",
       "  </tbody>\n",
       "</table>\n",
       "<p>5 rows × 23 columns</p>\n",
       "</div>"
      ],
      "text/plain": [
       "   id   loc  v(g)  ev(g)  iv(g)     n       v     l      d      i  ...  \\\n",
       "0   1   1.1   1.4    1.4    1.4   1.3    1.30  1.30   1.30   1.30  ...   \n",
       "1   2   1.0   1.0    1.0    1.0   1.0    1.00  1.00   1.00   1.00  ...   \n",
       "2   3  24.0   5.0    1.0    3.0  63.0  309.13  0.11   9.50  32.54  ...   \n",
       "3   4  20.0   4.0    4.0    2.0  47.0  215.49  0.06  16.00  13.47  ...   \n",
       "4   5  24.0   6.0    6.0    2.0  72.0  346.13  0.06  17.33  19.97  ...   \n",
       "\n",
       "   lOCode  lOComment  lOBlank  locCodeAndComment  uniq_Op  uniq_Opnd  \\\n",
       "0       2          2        2                  2      1.2        1.2   \n",
       "1       1          1        1                  1      1.0        1.0   \n",
       "2       1          0        6                  0     15.0       15.0   \n",
       "3       0          0        3                  0     16.0        8.0   \n",
       "4       0          0        3                  0     16.0       12.0   \n",
       "\n",
       "   total_Op  total_Opnd  branchCount  defects  \n",
       "0       1.2         1.2          1.4    False  \n",
       "1       1.0         1.0          1.0     True  \n",
       "2      44.0        19.0          9.0    False  \n",
       "3      31.0        16.0          7.0    False  \n",
       "4      46.0        26.0         11.0    False  \n",
       "\n",
       "[5 rows x 23 columns]"
      ]
     },
     "execution_count": 7,
     "metadata": {},
     "output_type": "execute_result"
    }
   ],
   "source": [
    "df.head()"
   ]
  },
  {
   "cell_type": "code",
   "execution_count": 8,
   "id": "733e95eb",
   "metadata": {
    "execution": {
     "iopub.execute_input": "2021-04-04T23:33:09.816183Z",
     "iopub.status.busy": "2021-04-04T23:33:09.814950Z",
     "iopub.status.idle": "2021-04-04T23:33:09.823226Z",
     "shell.execute_reply": "2021-04-04T23:33:09.824862Z"
    },
    "papermill": {
     "duration": 0.054802,
     "end_time": "2021-04-04T23:33:09.829206",
     "exception": false,
     "start_time": "2021-04-04T23:33:09.774404",
     "status": "completed"
    },
    "tags": []
   },
   "outputs": [],
   "source": [
    "del df['id']"
   ]
  },
  {
   "cell_type": "code",
   "execution_count": 9,
   "id": "6ff6f5b0",
   "metadata": {
    "execution": {
     "iopub.execute_input": "2021-04-04T23:33:09.896548Z",
     "iopub.status.busy": "2021-04-04T23:33:09.894733Z",
     "iopub.status.idle": "2021-04-04T23:33:09.897736Z",
     "shell.execute_reply": "2021-04-04T23:33:09.898422Z"
    },
    "papermill": {
     "duration": 0.044323,
     "end_time": "2021-04-04T23:33:09.898643",
     "exception": false,
     "start_time": "2021-04-04T23:33:09.854320",
     "status": "completed"
    },
    "tags": []
   },
   "outputs": [],
   "source": [
    "if PROFILE_REPORTING:\n",
    "    ProfileReport(df).to_widgets()"
   ]
  },
  {
   "cell_type": "markdown",
   "id": "1deaf3f0",
   "metadata": {
    "papermill": {
     "duration": 0.030568,
     "end_time": "2021-04-04T23:33:09.966191",
     "exception": false,
     "start_time": "2021-04-04T23:33:09.935623",
     "status": "completed"
    },
    "tags": []
   },
   "source": [
    "# Preprocess"
   ]
  },
  {
   "cell_type": "code",
   "execution_count": 10,
   "id": "1513e563",
   "metadata": {
    "execution": {
     "iopub.execute_input": "2021-04-04T23:33:10.023679Z",
     "iopub.status.busy": "2021-04-04T23:33:10.023030Z",
     "iopub.status.idle": "2021-04-04T23:33:10.026367Z",
     "shell.execute_reply": "2021-04-04T23:33:10.024993Z"
    },
    "papermill": {
     "duration": 0.03341,
     "end_time": "2021-04-04T23:33:10.027010",
     "exception": false,
     "start_time": "2021-04-04T23:33:09.993600",
     "status": "completed"
    },
    "tags": []
   },
   "outputs": [],
   "source": [
    "working_df = df.copy()"
   ]
  },
  {
   "cell_type": "code",
   "execution_count": 11,
   "id": "3b26d675",
   "metadata": {
    "execution": {
     "iopub.execute_input": "2021-04-04T23:33:10.110390Z",
     "iopub.status.busy": "2021-04-04T23:33:10.109602Z",
     "iopub.status.idle": "2021-04-04T23:33:10.112198Z",
     "shell.execute_reply": "2021-04-04T23:33:10.113731Z"
    },
    "papermill": {
     "duration": 0.042618,
     "end_time": "2021-04-04T23:33:10.114145",
     "exception": false,
     "start_time": "2021-04-04T23:33:10.071527",
     "status": "completed"
    },
    "tags": []
   },
   "outputs": [],
   "source": [
    "working_df['defects'] = working_df['defects'].replace([False, True], [0, 1])"
   ]
  },
  {
   "cell_type": "code",
   "execution_count": 12,
   "id": "eb48604f",
   "metadata": {
    "execution": {
     "iopub.execute_input": "2021-04-04T23:33:10.170583Z",
     "iopub.status.busy": "2021-04-04T23:33:10.169819Z",
     "iopub.status.idle": "2021-04-04T23:33:10.171600Z",
     "shell.execute_reply": "2021-04-04T23:33:10.172067Z"
    },
    "papermill": {
     "duration": 0.033873,
     "end_time": "2021-04-04T23:33:10.172212",
     "exception": false,
     "start_time": "2021-04-04T23:33:10.138339",
     "status": "completed"
    },
    "tags": []
   },
   "outputs": [],
   "source": [
    "for col in dataset_config['delete_columns']:\n",
    "    del working_df[col]"
   ]
  },
  {
   "cell_type": "code",
   "execution_count": 13,
   "id": "9a17bc29",
   "metadata": {
    "execution": {
     "iopub.execute_input": "2021-04-04T23:33:10.233502Z",
     "iopub.status.busy": "2021-04-04T23:33:10.232615Z",
     "iopub.status.idle": "2021-04-04T23:33:10.243007Z",
     "shell.execute_reply": "2021-04-04T23:33:10.242502Z"
    },
    "papermill": {
     "duration": 0.04811,
     "end_time": "2021-04-04T23:33:10.243123",
     "exception": false,
     "start_time": "2021-04-04T23:33:10.195013",
     "status": "completed"
    },
    "tags": []
   },
   "outputs": [],
   "source": [
    "working_df = working_df.drop_duplicates()"
   ]
  },
  {
   "cell_type": "markdown",
   "id": "a4d52ca6",
   "metadata": {
    "papermill": {
     "duration": 0.021492,
     "end_time": "2021-04-04T23:33:10.290164",
     "exception": false,
     "start_time": "2021-04-04T23:33:10.268672",
     "status": "completed"
    },
    "tags": []
   },
   "source": [
    "# Split"
   ]
  },
  {
   "cell_type": "code",
   "execution_count": 14,
   "id": "3e9ee4b5",
   "metadata": {
    "execution": {
     "iopub.execute_input": "2021-04-04T23:33:10.362384Z",
     "iopub.status.busy": "2021-04-04T23:33:10.361182Z",
     "iopub.status.idle": "2021-04-04T23:33:10.426627Z",
     "shell.execute_reply": "2021-04-04T23:33:10.427142Z"
    },
    "papermill": {
     "duration": 0.10655,
     "end_time": "2021-04-04T23:33:10.427357",
     "exception": false,
     "start_time": "2021-04-04T23:33:10.320807",
     "status": "completed"
    },
    "tags": []
   },
   "outputs": [],
   "source": [
    "from sklearn.model_selection import train_test_split"
   ]
  },
  {
   "cell_type": "code",
   "execution_count": 15,
   "id": "274004ce",
   "metadata": {
    "execution": {
     "iopub.execute_input": "2021-04-04T23:33:10.480563Z",
     "iopub.status.busy": "2021-04-04T23:33:10.479949Z",
     "iopub.status.idle": "2021-04-04T23:33:10.484893Z",
     "shell.execute_reply": "2021-04-04T23:33:10.484292Z"
    },
    "papermill": {
     "duration": 0.034319,
     "end_time": "2021-04-04T23:33:10.485013",
     "exception": false,
     "start_time": "2021-04-04T23:33:10.450694",
     "status": "completed"
    },
    "scrolled": true,
    "tags": []
   },
   "outputs": [],
   "source": [
    "inlier, outlier = working_df[working_df['defects'] == 0], working_df[working_df['defects'] == 1]"
   ]
  },
  {
   "cell_type": "code",
   "execution_count": 16,
   "id": "753c7b03",
   "metadata": {
    "execution": {
     "iopub.execute_input": "2021-04-04T23:33:10.573457Z",
     "iopub.status.busy": "2021-04-04T23:33:10.572717Z",
     "iopub.status.idle": "2021-04-04T23:33:10.575003Z",
     "shell.execute_reply": "2021-04-04T23:33:10.575531Z"
    },
    "papermill": {
     "duration": 0.047154,
     "end_time": "2021-04-04T23:33:10.575697",
     "exception": false,
     "start_time": "2021-04-04T23:33:10.528543",
     "status": "completed"
    },
    "tags": []
   },
   "outputs": [],
   "source": [
    "X_inlier = inlier.copy()\n",
    "y_inlier = X_inlier.pop('defects')\n",
    "X_outlier = outlier.copy()\n",
    "y_outlier = X_outlier.pop('defects')"
   ]
  },
  {
   "cell_type": "code",
   "execution_count": 17,
   "id": "2ba43193",
   "metadata": {
    "execution": {
     "iopub.execute_input": "2021-04-04T23:33:10.639833Z",
     "iopub.status.busy": "2021-04-04T23:33:10.639046Z",
     "iopub.status.idle": "2021-04-04T23:33:10.643557Z",
     "shell.execute_reply": "2021-04-04T23:33:10.641784Z"
    },
    "papermill": {
     "duration": 0.040516,
     "end_time": "2021-04-04T23:33:10.643766",
     "exception": false,
     "start_time": "2021-04-04T23:33:10.603250",
     "status": "completed"
    },
    "tags": []
   },
   "outputs": [],
   "source": [
    "test_size = dataset_config['test_size']\n",
    "random_state = dataset_config['random_state']\n",
    "\n",
    "X_inlier_train, X_inlier_test, y_inlier_train, y_inlier_test = train_test_split(\n",
    "    X_inlier,\n",
    "    y_inlier,\n",
    "    test_size=test_size,\n",
    "    random_state=random_state\n",
    ")"
   ]
  },
  {
   "cell_type": "code",
   "execution_count": 18,
   "id": "0b7582ca",
   "metadata": {
    "execution": {
     "iopub.execute_input": "2021-04-04T23:33:10.724435Z",
     "iopub.status.busy": "2021-04-04T23:33:10.723162Z",
     "iopub.status.idle": "2021-04-04T23:33:10.728200Z",
     "shell.execute_reply": "2021-04-04T23:33:10.727600Z"
    },
    "papermill": {
     "duration": 0.052704,
     "end_time": "2021-04-04T23:33:10.728350",
     "exception": false,
     "start_time": "2021-04-04T23:33:10.675646",
     "status": "completed"
    },
    "tags": []
   },
   "outputs": [],
   "source": [
    "test_outlier_size = dataset_config['test_outlier_size']\n",
    "if test_outlier_size > 0.0:\n",
    "    X_outlier_train, X_outlier_test, y_outlier_train, y_outlier_test = train_test_split(\n",
    "        X_outlier,\n",
    "        y_outlier,\n",
    "        test_size=test_outlier_size,\n",
    "        random_state=random_state\n",
    "    )\n",
    "else:\n",
    "    X_outlier_train, y_outlier_train = pd.DataFrame(columns=X_outlier.columns), pd.Series(dtype='int64')\n",
    "    X_outlier_test, y_outlier_test = X_outlier.copy(), y_outlier.copy()"
   ]
  },
  {
   "cell_type": "code",
   "execution_count": 19,
   "id": "c34363db",
   "metadata": {
    "execution": {
     "iopub.execute_input": "2021-04-04T23:33:10.797055Z",
     "iopub.status.busy": "2021-04-04T23:33:10.792443Z",
     "iopub.status.idle": "2021-04-04T23:33:10.799708Z",
     "shell.execute_reply": "2021-04-04T23:33:10.800626Z"
    },
    "papermill": {
     "duration": 0.042469,
     "end_time": "2021-04-04T23:33:10.800870",
     "exception": false,
     "start_time": "2021-04-04T23:33:10.758401",
     "status": "completed"
    },
    "tags": []
   },
   "outputs": [],
   "source": [
    "X_train, y_train = pd.concat([X_inlier_train, X_outlier_train], ignore_index=True), pd.concat([y_inlier_train, y_outlier_train], ignore_index=True)\n",
    "X_test, y_test = pd.concat([X_inlier_test, X_outlier_test], ignore_index=True), pd.concat([y_inlier_test, y_outlier_test], ignore_index=True)"
   ]
  },
  {
   "cell_type": "markdown",
   "id": "7cde7309",
   "metadata": {
    "papermill": {
     "duration": 0.033906,
     "end_time": "2021-04-04T23:33:10.880367",
     "exception": false,
     "start_time": "2021-04-04T23:33:10.846461",
     "status": "completed"
    },
    "tags": []
   },
   "source": [
    "# Model"
   ]
  },
  {
   "cell_type": "code",
   "execution_count": 20,
   "id": "2b12a415",
   "metadata": {
    "execution": {
     "iopub.execute_input": "2021-04-04T23:33:10.943433Z",
     "iopub.status.busy": "2021-04-04T23:33:10.942397Z",
     "iopub.status.idle": "2021-04-04T23:33:10.946832Z",
     "shell.execute_reply": "2021-04-04T23:33:10.945989Z"
    },
    "papermill": {
     "duration": 0.040129,
     "end_time": "2021-04-04T23:33:10.947032",
     "exception": false,
     "start_time": "2021-04-04T23:33:10.906903",
     "status": "completed"
    },
    "tags": []
   },
   "outputs": [],
   "source": [
    "from math import sqrt\n",
    "\n",
    "\n",
    "class KNNDataDescription:\n",
    "    def __init__(self, k=5, outlier_threshold=1.0):\n",
    "        self.k = k\n",
    "        self.outlier_threshold = outlier_threshold\n",
    "        self.X = []\n",
    "    \n",
    "    def fit(self, X):\n",
    "        self.X = [features.to_list() for index, features in X.iterrows()]\n",
    "\n",
    "    def predict(self, entries):\n",
    "        return [self.predict_entry(features.to_list()) for index, features in entries.iterrows()]\n",
    "    \n",
    "    def predict_entry(self, entry):\n",
    "        kth_neighbor, kth_distance = self.get_kth_neighbor(entry, self.k)\n",
    "        kth_kth_neighbor, kth_kth_distance = self.get_kth_neighbor(kth_neighbor, self.k + 1)\n",
    "\n",
    "        outlier_score = kth_distance / (kth_kth_distance + 0.000001)\n",
    "\n",
    "        return 1 if outlier_score < self.outlier_threshold else -1\n",
    "        \n",
    "    def euclidean_distance(self, features1, features2):\n",
    "        distance = 0.0\n",
    "        for feat1, feat2 in zip(features1, features2):\n",
    "            distance += (feat1 - feat2)**2\n",
    "                \n",
    "        return sqrt(distance)\n",
    "\n",
    "    def get_neighbors(self, entry, k):\n",
    "        distance_to_data_points = [\n",
    "            (data_point, self.euclidean_distance(entry, data_point))\n",
    "            for data_point in self.X\n",
    "        ]\n",
    "        sorted_by_distance = sorted(distance_to_data_points, key=lambda tup: tup[1])\n",
    "        neighbors = sorted_by_distance[:k]\n",
    "        return neighbors\n",
    "\n",
    "    def get_kth_neighbor(self, entry, k):\n",
    "        neighbors = self.get_neighbors(entry, k)\n",
    "        return neighbors[-1]\n"
   ]
  },
  {
   "cell_type": "code",
   "execution_count": 21,
   "id": "1fa9ec1c",
   "metadata": {
    "execution": {
     "iopub.execute_input": "2021-04-04T23:33:11.004897Z",
     "iopub.status.busy": "2021-04-04T23:33:11.003944Z",
     "iopub.status.idle": "2021-04-04T23:33:11.023450Z",
     "shell.execute_reply": "2021-04-04T23:33:11.022923Z"
    },
    "papermill": {
     "duration": 0.053288,
     "end_time": "2021-04-04T23:33:11.023575",
     "exception": false,
     "start_time": "2021-04-04T23:33:10.970287",
     "status": "completed"
    },
    "tags": []
   },
   "outputs": [],
   "source": [
    "from sklearn.svm import OneClassSVM\n",
    "\n",
    "\n",
    "models = {\n",
    "    'oneclasssvm': OneClassSVM,\n",
    "    'knndatadescription': KNNDataDescription,\n",
    "}"
   ]
  },
  {
   "cell_type": "code",
   "execution_count": 22,
   "id": "4d72a0b1",
   "metadata": {
    "execution": {
     "iopub.execute_input": "2021-04-04T23:33:11.077888Z",
     "iopub.status.busy": "2021-04-04T23:33:11.077257Z",
     "iopub.status.idle": "2021-04-04T23:33:11.079682Z",
     "shell.execute_reply": "2021-04-04T23:33:11.080309Z"
    },
    "papermill": {
     "duration": 0.030536,
     "end_time": "2021-04-04T23:33:11.080485",
     "exception": false,
     "start_time": "2021-04-04T23:33:11.049949",
     "status": "completed"
    },
    "scrolled": true,
    "tags": []
   },
   "outputs": [],
   "source": [
    "model_cls = models[model_config['model_type']]\n",
    "model = model_cls(**model_config['hyperparameters'])"
   ]
  },
  {
   "cell_type": "markdown",
   "id": "e00cff3b",
   "metadata": {
    "papermill": {
     "duration": 0.030044,
     "end_time": "2021-04-04T23:33:11.136469",
     "exception": false,
     "start_time": "2021-04-04T23:33:11.106425",
     "status": "completed"
    },
    "tags": []
   },
   "source": [
    "# Fit"
   ]
  },
  {
   "cell_type": "code",
   "execution_count": 23,
   "id": "8b2ded89",
   "metadata": {
    "execution": {
     "iopub.execute_input": "2021-04-04T23:33:11.191677Z",
     "iopub.status.busy": "2021-04-04T23:33:11.190948Z",
     "iopub.status.idle": "2021-04-04T23:33:11.213937Z",
     "shell.execute_reply": "2021-04-04T23:33:11.214391Z"
    },
    "papermill": {
     "duration": 0.05308,
     "end_time": "2021-04-04T23:33:11.214531",
     "exception": false,
     "start_time": "2021-04-04T23:33:11.161451",
     "status": "completed"
    },
    "tags": []
   },
   "outputs": [],
   "source": [
    "model.fit(X_train)"
   ]
  },
  {
   "cell_type": "markdown",
   "id": "f99999f7",
   "metadata": {
    "papermill": {
     "duration": 0.027623,
     "end_time": "2021-04-04T23:33:11.265856",
     "exception": false,
     "start_time": "2021-04-04T23:33:11.238233",
     "status": "completed"
    },
    "tags": []
   },
   "source": [
    "# Predict"
   ]
  },
  {
   "cell_type": "code",
   "execution_count": 24,
   "id": "6536fbf7",
   "metadata": {
    "execution": {
     "iopub.execute_input": "2021-04-04T23:33:11.341170Z",
     "iopub.status.busy": "2021-04-04T23:33:11.340047Z",
     "iopub.status.idle": "2021-04-04T23:33:11.740021Z",
     "shell.execute_reply": "2021-04-04T23:33:11.740535Z"
    },
    "papermill": {
     "duration": 0.44989,
     "end_time": "2021-04-04T23:33:11.740690",
     "exception": false,
     "start_time": "2021-04-04T23:33:11.290800",
     "status": "completed"
    },
    "tags": []
   },
   "outputs": [],
   "source": [
    "predictions = model.predict(X_test)"
   ]
  },
  {
   "cell_type": "markdown",
   "id": "aa1c9881",
   "metadata": {
    "papermill": {
     "duration": 0.040586,
     "end_time": "2021-04-04T23:33:11.809568",
     "exception": false,
     "start_time": "2021-04-04T23:33:11.768982",
     "status": "completed"
    },
    "tags": []
   },
   "source": [
    "# Evaluate"
   ]
  },
  {
   "cell_type": "code",
   "execution_count": 25,
   "id": "894f0f04",
   "metadata": {
    "execution": {
     "iopub.execute_input": "2021-04-04T23:33:11.889340Z",
     "iopub.status.busy": "2021-04-04T23:33:11.887934Z",
     "iopub.status.idle": "2021-04-04T23:33:11.890614Z",
     "shell.execute_reply": "2021-04-04T23:33:11.891079Z"
    },
    "papermill": {
     "duration": 0.048361,
     "end_time": "2021-04-04T23:33:11.891225",
     "exception": false,
     "start_time": "2021-04-04T23:33:11.842864",
     "status": "completed"
    },
    "tags": []
   },
   "outputs": [],
   "source": [
    "from sklearn.metrics import f1_score"
   ]
  },
  {
   "cell_type": "code",
   "execution_count": 26,
   "id": "211744d3",
   "metadata": {
    "execution": {
     "iopub.execute_input": "2021-04-04T23:33:11.958678Z",
     "iopub.status.busy": "2021-04-04T23:33:11.957138Z",
     "iopub.status.idle": "2021-04-04T23:33:11.960288Z",
     "shell.execute_reply": "2021-04-04T23:33:11.961735Z"
    },
    "papermill": {
     "duration": 0.03936,
     "end_time": "2021-04-04T23:33:11.962280",
     "exception": false,
     "start_time": "2021-04-04T23:33:11.922920",
     "status": "completed"
    },
    "tags": []
   },
   "outputs": [],
   "source": [
    "y_test = y_test.replace([0, 1], [1, -1])"
   ]
  },
  {
   "cell_type": "code",
   "execution_count": 27,
   "id": "d68a9204",
   "metadata": {
    "execution": {
     "iopub.execute_input": "2021-04-04T23:33:12.050812Z",
     "iopub.status.busy": "2021-04-04T23:33:12.050025Z",
     "iopub.status.idle": "2021-04-04T23:33:12.051805Z",
     "shell.execute_reply": "2021-04-04T23:33:12.052283Z"
    },
    "papermill": {
     "duration": 0.045332,
     "end_time": "2021-04-04T23:33:12.052429",
     "exception": false,
     "start_time": "2021-04-04T23:33:12.007097",
     "status": "completed"
    },
    "tags": []
   },
   "outputs": [],
   "source": [
    "def evaluate(truths, predictions, pos_label, neg_label):\n",
    "    TP = 0\n",
    "    FP = 0\n",
    "    TN = 0\n",
    "    FN = 0\n",
    "\n",
    "    for truth, pred in zip(truths, predictions): \n",
    "        if truth == pred == pos_label:\n",
    "           TP += 1\n",
    "        elif pred == pos_label and truth == neg_label:\n",
    "           FP += 1\n",
    "        elif truth == pred == neg_label:\n",
    "           TN += 1\n",
    "        elif pred == neg_label and truth == pos_label:\n",
    "           FN += 1\n",
    "\n",
    "    precision = TP / (TP + FP)\n",
    "    sensitivity = TP / (TP + FN)\n",
    "    \n",
    "    return {\n",
    "        'true_pos': TP,\n",
    "        'false_pos': FP,\n",
    "        'false_neg': FN,\n",
    "        'true_neg': TN,\n",
    "        'precision': precision,\n",
    "        'sensitivity': sensitivity,\n",
    "        'f1': (2 * (precision * sensitivity)) / (precision + sensitivity)\n",
    "    }\n",
    "\n",
    "score = evaluate(y_test, predictions, pos_label=-1, neg_label=1)"
   ]
  },
  {
   "cell_type": "markdown",
   "id": "93596516",
   "metadata": {
    "papermill": {
     "duration": 0.03229,
     "end_time": "2021-04-04T23:33:12.111050",
     "exception": false,
     "start_time": "2021-04-04T23:33:12.078760",
     "status": "completed"
    },
    "tags": []
   },
   "source": [
    "# Report"
   ]
  },
  {
   "cell_type": "code",
   "execution_count": 28,
   "id": "bea5fba1",
   "metadata": {
    "execution": {
     "iopub.execute_input": "2021-04-04T23:33:12.170722Z",
     "iopub.status.busy": "2021-04-04T23:33:12.169958Z",
     "iopub.status.idle": "2021-04-04T23:33:12.172699Z",
     "shell.execute_reply": "2021-04-04T23:33:12.173179Z"
    },
    "papermill": {
     "duration": 0.033552,
     "end_time": "2021-04-04T23:33:12.173326",
     "exception": false,
     "start_time": "2021-04-04T23:33:12.139774",
     "status": "completed"
    },
    "tags": []
   },
   "outputs": [],
   "source": [
    "import csv\n",
    "\n",
    "\n",
    "dataset_config_name = DATASET_CONFIG_PATH.split('/')[-1].split('.')[0]\n",
    "model_config_name = MODEL_CONFIG_PATH.split('/')[-1].split('.')[0]\n",
    "configuration = f\"dataset_{dataset_config_name}-model_{model_config_name}\"\n",
    "\n",
    "with open('results.csv', 'a') as f:\n",
    "    report = dict({'configuration': configuration}, **score)\n",
    "    writer = csv.DictWriter(f, report.keys())\n",
    "    writer.writerow(report)"
   ]
  }
 ],
 "metadata": {
  "celltoolbar": "Tags",
  "kernelspec": {
   "display_name": "Python 3",
   "language": "python",
   "name": "python3"
  },
  "language_info": {
   "codemirror_mode": {
    "name": "ipython",
    "version": 3
   },
   "file_extension": ".py",
   "mimetype": "text/x-python",
   "name": "python",
   "nbconvert_exporter": "python",
   "pygments_lexer": "ipython3",
   "version": "3.9.1"
  },
  "papermill": {
   "default_parameters": {},
   "duration": 7.081435,
   "end_time": "2021-04-04T23:33:13.623998",
   "environment_variables": {},
   "exception": null,
   "input_path": "main.ipynb",
   "output_path": "runs/dataset_000149-model_000001.ipynb",
   "parameters": {
    "DATASET_CONFIG_PATH": "config/dataset/000149.json",
    "MODEL_CONFIG_PATH": "config/model/000001.json",
    "PROFILE_REPORTING": false
   },
   "start_time": "2021-04-04T23:33:06.542563",
   "version": "2.3.3"
  }
 },
 "nbformat": 4,
 "nbformat_minor": 5
}