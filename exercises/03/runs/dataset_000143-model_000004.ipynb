{
 "cells": [
  {
   "cell_type": "markdown",
   "id": "51c71c25",
   "metadata": {
    "papermill": {
     "duration": 0.028084,
     "end_time": "2021-04-04T23:30:57.442458",
     "exception": false,
     "start_time": "2021-04-04T23:30:57.414374",
     "status": "completed"
    },
    "tags": []
   },
   "source": [
    "# Parametrizing"
   ]
  },
  {
   "cell_type": "code",
   "execution_count": 1,
   "id": "3b136394",
   "metadata": {
    "execution": {
     "iopub.execute_input": "2021-04-04T23:30:57.502622Z",
     "iopub.status.busy": "2021-04-04T23:30:57.501606Z",
     "iopub.status.idle": "2021-04-04T23:30:57.504270Z",
     "shell.execute_reply": "2021-04-04T23:30:57.504854Z"
    },
    "papermill": {
     "duration": 0.042773,
     "end_time": "2021-04-04T23:30:57.505251",
     "exception": false,
     "start_time": "2021-04-04T23:30:57.462478",
     "status": "completed"
    },
    "tags": [
     "parameters"
    ]
   },
   "outputs": [],
   "source": [
    "DATASET_CONFIG_PATH = 'config/dataset/kc1_001.json'\n",
    "MODEL_CONFIG_PATH = 'config/model/knndd_001.json'\n",
    "PROFILE_REPORTING = False"
   ]
  },
  {
   "cell_type": "code",
   "execution_count": 2,
   "id": "56bbe6e2",
   "metadata": {
    "execution": {
     "iopub.execute_input": "2021-04-04T23:30:57.559576Z",
     "iopub.status.busy": "2021-04-04T23:30:57.557036Z",
     "iopub.status.idle": "2021-04-04T23:30:57.562116Z",
     "shell.execute_reply": "2021-04-04T23:30:57.563027Z"
    },
    "papermill": {
     "duration": 0.037254,
     "end_time": "2021-04-04T23:30:57.563325",
     "exception": false,
     "start_time": "2021-04-04T23:30:57.526071",
     "status": "completed"
    },
    "tags": [
     "injected-parameters"
    ]
   },
   "outputs": [],
   "source": [
    "# Parameters\n",
    "DATASET_CONFIG_PATH = \"config/dataset/000143.json\"\n",
    "MODEL_CONFIG_PATH = \"config/model/000004.json\"\n",
    "PROFILE_REPORTING = False\n"
   ]
  },
  {
   "cell_type": "code",
   "execution_count": 3,
   "id": "b80f2a10",
   "metadata": {
    "execution": {
     "iopub.execute_input": "2021-04-04T23:30:57.644704Z",
     "iopub.status.busy": "2021-04-04T23:30:57.643373Z",
     "iopub.status.idle": "2021-04-04T23:30:57.647255Z",
     "shell.execute_reply": "2021-04-04T23:30:57.647956Z"
    },
    "papermill": {
     "duration": 0.046695,
     "end_time": "2021-04-04T23:30:57.648308",
     "exception": false,
     "start_time": "2021-04-04T23:30:57.601613",
     "status": "completed"
    },
    "tags": []
   },
   "outputs": [],
   "source": [
    "import json\n",
    "\n",
    "\n",
    "with open(DATASET_CONFIG_PATH) as f:\n",
    "    dataset_config = json.load(f)\n",
    "\n",
    "with open(MODEL_CONFIG_PATH) as f:\n",
    "    model_config = json.load(f)"
   ]
  },
  {
   "cell_type": "markdown",
   "id": "9a4b0e2d",
   "metadata": {
    "papermill": {
     "duration": 0.026939,
     "end_time": "2021-04-04T23:30:57.698491",
     "exception": false,
     "start_time": "2021-04-04T23:30:57.671552",
     "status": "completed"
    },
    "tags": []
   },
   "source": [
    "# Profiling"
   ]
  },
  {
   "cell_type": "code",
   "execution_count": 4,
   "id": "a3e0289b",
   "metadata": {
    "execution": {
     "iopub.execute_input": "2021-04-04T23:30:57.788324Z",
     "iopub.status.busy": "2021-04-04T23:30:57.787532Z",
     "iopub.status.idle": "2021-04-04T23:30:59.402703Z",
     "shell.execute_reply": "2021-04-04T23:30:59.403254Z"
    },
    "papermill": {
     "duration": 1.662231,
     "end_time": "2021-04-04T23:30:59.403423",
     "exception": false,
     "start_time": "2021-04-04T23:30:57.741192",
     "status": "completed"
    },
    "tags": []
   },
   "outputs": [],
   "source": [
    "import pandas as pd\n",
    "from pandas_profiling import ProfileReport"
   ]
  },
  {
   "cell_type": "code",
   "execution_count": 5,
   "id": "ee6c0666",
   "metadata": {
    "execution": {
     "iopub.execute_input": "2021-04-04T23:30:59.448206Z",
     "iopub.status.busy": "2021-04-04T23:30:59.447308Z",
     "iopub.status.idle": "2021-04-04T23:30:59.456577Z",
     "shell.execute_reply": "2021-04-04T23:30:59.457215Z"
    },
    "papermill": {
     "duration": 0.033733,
     "end_time": "2021-04-04T23:30:59.457395",
     "exception": false,
     "start_time": "2021-04-04T23:30:59.423662",
     "status": "completed"
    },
    "tags": []
   },
   "outputs": [],
   "source": [
    "df = pd.read_csv(dataset_config['dataset_path'])"
   ]
  },
  {
   "cell_type": "code",
   "execution_count": 6,
   "id": "7eca6c4a",
   "metadata": {
    "execution": {
     "iopub.execute_input": "2021-04-04T23:30:59.520412Z",
     "iopub.status.busy": "2021-04-04T23:30:59.512785Z",
     "iopub.status.idle": "2021-04-04T23:30:59.532496Z",
     "shell.execute_reply": "2021-04-04T23:30:59.533534Z"
    },
    "papermill": {
     "duration": 0.054881,
     "end_time": "2021-04-04T23:30:59.533953",
     "exception": false,
     "start_time": "2021-04-04T23:30:59.479072",
     "status": "completed"
    },
    "tags": []
   },
   "outputs": [
    {
     "name": "stdout",
     "output_type": "stream",
     "text": [
      "<class 'pandas.core.frame.DataFrame'>\n",
      "RangeIndex: 498 entries, 0 to 497\n",
      "Data columns (total 23 columns):\n",
      " #   Column             Non-Null Count  Dtype  \n",
      "---  ------             --------------  -----  \n",
      " 0   id                 498 non-null    int64  \n",
      " 1   loc                498 non-null    float64\n",
      " 2   v(g)               498 non-null    float64\n",
      " 3   ev(g)              498 non-null    float64\n",
      " 4   iv(g)              498 non-null    float64\n",
      " 5   n                  498 non-null    float64\n",
      " 6   v                  498 non-null    float64\n",
      " 7   l                  498 non-null    float64\n",
      " 8   d                  498 non-null    float64\n",
      " 9   i                  498 non-null    float64\n",
      " 10  e                  498 non-null    float64\n",
      " 11  b                  498 non-null    float64\n",
      " 12  t                  498 non-null    float64\n",
      " 13  lOCode             498 non-null    int64  \n",
      " 14  lOComment          498 non-null    int64  \n",
      " 15  lOBlank            498 non-null    int64  \n",
      " 16  locCodeAndComment  498 non-null    int64  \n",
      " 17  uniq_Op            498 non-null    float64\n",
      " 18  uniq_Opnd          498 non-null    float64\n",
      " 19  total_Op           498 non-null    float64\n",
      " 20  total_Opnd         498 non-null    float64\n",
      " 21  branchCount        498 non-null    float64\n",
      " 22  defects            498 non-null    bool   \n",
      "dtypes: bool(1), float64(17), int64(5)\n",
      "memory usage: 86.2 KB\n"
     ]
    }
   ],
   "source": [
    "df.info()"
   ]
  },
  {
   "cell_type": "code",
   "execution_count": 7,
   "id": "3638e5e8",
   "metadata": {
    "execution": {
     "iopub.execute_input": "2021-04-04T23:30:59.588881Z",
     "iopub.status.busy": "2021-04-04T23:30:59.587902Z",
     "iopub.status.idle": "2021-04-04T23:30:59.613785Z",
     "shell.execute_reply": "2021-04-04T23:30:59.613280Z"
    },
    "papermill": {
     "duration": 0.058572,
     "end_time": "2021-04-04T23:30:59.613903",
     "exception": false,
     "start_time": "2021-04-04T23:30:59.555331",
     "status": "completed"
    },
    "tags": []
   },
   "outputs": [
    {
     "data": {
      "text/html": [
       "<div>\n",
       "<style scoped>\n",
       "    .dataframe tbody tr th:only-of-type {\n",
       "        vertical-align: middle;\n",
       "    }\n",
       "\n",
       "    .dataframe tbody tr th {\n",
       "        vertical-align: top;\n",
       "    }\n",
       "\n",
       "    .dataframe thead th {\n",
       "        text-align: right;\n",
       "    }\n",
       "</style>\n",
       "<table border=\"1\" class=\"dataframe\">\n",
       "  <thead>\n",
       "    <tr style=\"text-align: right;\">\n",
       "      <th></th>\n",
       "      <th>id</th>\n",
       "      <th>loc</th>\n",
       "      <th>v(g)</th>\n",
       "      <th>ev(g)</th>\n",
       "      <th>iv(g)</th>\n",
       "      <th>n</th>\n",
       "      <th>v</th>\n",
       "      <th>l</th>\n",
       "      <th>d</th>\n",
       "      <th>i</th>\n",
       "      <th>...</th>\n",
       "      <th>lOCode</th>\n",
       "      <th>lOComment</th>\n",
       "      <th>lOBlank</th>\n",
       "      <th>locCodeAndComment</th>\n",
       "      <th>uniq_Op</th>\n",
       "      <th>uniq_Opnd</th>\n",
       "      <th>total_Op</th>\n",
       "      <th>total_Opnd</th>\n",
       "      <th>branchCount</th>\n",
       "      <th>defects</th>\n",
       "    </tr>\n",
       "  </thead>\n",
       "  <tbody>\n",
       "    <tr>\n",
       "      <th>0</th>\n",
       "      <td>1</td>\n",
       "      <td>1.1</td>\n",
       "      <td>1.4</td>\n",
       "      <td>1.4</td>\n",
       "      <td>1.4</td>\n",
       "      <td>1.3</td>\n",
       "      <td>1.30</td>\n",
       "      <td>1.30</td>\n",
       "      <td>1.30</td>\n",
       "      <td>1.30</td>\n",
       "      <td>...</td>\n",
       "      <td>2</td>\n",
       "      <td>2</td>\n",
       "      <td>2</td>\n",
       "      <td>2</td>\n",
       "      <td>1.2</td>\n",
       "      <td>1.2</td>\n",
       "      <td>1.2</td>\n",
       "      <td>1.2</td>\n",
       "      <td>1.4</td>\n",
       "      <td>False</td>\n",
       "    </tr>\n",
       "    <tr>\n",
       "      <th>1</th>\n",
       "      <td>2</td>\n",
       "      <td>1.0</td>\n",
       "      <td>1.0</td>\n",
       "      <td>1.0</td>\n",
       "      <td>1.0</td>\n",
       "      <td>1.0</td>\n",
       "      <td>1.00</td>\n",
       "      <td>1.00</td>\n",
       "      <td>1.00</td>\n",
       "      <td>1.00</td>\n",
       "      <td>...</td>\n",
       "      <td>1</td>\n",
       "      <td>1</td>\n",
       "      <td>1</td>\n",
       "      <td>1</td>\n",
       "      <td>1.0</td>\n",
       "      <td>1.0</td>\n",
       "      <td>1.0</td>\n",
       "      <td>1.0</td>\n",
       "      <td>1.0</td>\n",
       "      <td>True</td>\n",
       "    </tr>\n",
       "    <tr>\n",
       "      <th>2</th>\n",
       "      <td>3</td>\n",
       "      <td>24.0</td>\n",
       "      <td>5.0</td>\n",
       "      <td>1.0</td>\n",
       "      <td>3.0</td>\n",
       "      <td>63.0</td>\n",
       "      <td>309.13</td>\n",
       "      <td>0.11</td>\n",
       "      <td>9.50</td>\n",
       "      <td>32.54</td>\n",
       "      <td>...</td>\n",
       "      <td>1</td>\n",
       "      <td>0</td>\n",
       "      <td>6</td>\n",
       "      <td>0</td>\n",
       "      <td>15.0</td>\n",
       "      <td>15.0</td>\n",
       "      <td>44.0</td>\n",
       "      <td>19.0</td>\n",
       "      <td>9.0</td>\n",
       "      <td>False</td>\n",
       "    </tr>\n",
       "    <tr>\n",
       "      <th>3</th>\n",
       "      <td>4</td>\n",
       "      <td>20.0</td>\n",
       "      <td>4.0</td>\n",
       "      <td>4.0</td>\n",
       "      <td>2.0</td>\n",
       "      <td>47.0</td>\n",
       "      <td>215.49</td>\n",
       "      <td>0.06</td>\n",
       "      <td>16.00</td>\n",
       "      <td>13.47</td>\n",
       "      <td>...</td>\n",
       "      <td>0</td>\n",
       "      <td>0</td>\n",
       "      <td>3</td>\n",
       "      <td>0</td>\n",
       "      <td>16.0</td>\n",
       "      <td>8.0</td>\n",
       "      <td>31.0</td>\n",
       "      <td>16.0</td>\n",
       "      <td>7.0</td>\n",
       "      <td>False</td>\n",
       "    </tr>\n",
       "    <tr>\n",
       "      <th>4</th>\n",
       "      <td>5</td>\n",
       "      <td>24.0</td>\n",
       "      <td>6.0</td>\n",
       "      <td>6.0</td>\n",
       "      <td>2.0</td>\n",
       "      <td>72.0</td>\n",
       "      <td>346.13</td>\n",
       "      <td>0.06</td>\n",
       "      <td>17.33</td>\n",
       "      <td>19.97</td>\n",
       "      <td>...</td>\n",
       "      <td>0</td>\n",
       "      <td>0</td>\n",
       "      <td>3</td>\n",
       "      <td>0</td>\n",
       "      <td>16.0</td>\n",
       "      <td>12.0</td>\n",
       "      <td>46.0</td>\n",
       "      <td>26.0</td>\n",
       "      <td>11.0</td>\n",
       "      <td>False</td>\n",
       "    </tr>\n",
       "  </tbody>\n",
       "</table>\n",
       "<p>5 rows × 23 columns</p>\n",
       "</div>"
      ],
      "text/plain": [
       "   id   loc  v(g)  ev(g)  iv(g)     n       v     l      d      i  ...  \\\n",
       "0   1   1.1   1.4    1.4    1.4   1.3    1.30  1.30   1.30   1.30  ...   \n",
       "1   2   1.0   1.0    1.0    1.0   1.0    1.00  1.00   1.00   1.00  ...   \n",
       "2   3  24.0   5.0    1.0    3.0  63.0  309.13  0.11   9.50  32.54  ...   \n",
       "3   4  20.0   4.0    4.0    2.0  47.0  215.49  0.06  16.00  13.47  ...   \n",
       "4   5  24.0   6.0    6.0    2.0  72.0  346.13  0.06  17.33  19.97  ...   \n",
       "\n",
       "   lOCode  lOComment  lOBlank  locCodeAndComment  uniq_Op  uniq_Opnd  \\\n",
       "0       2          2        2                  2      1.2        1.2   \n",
       "1       1          1        1                  1      1.0        1.0   \n",
       "2       1          0        6                  0     15.0       15.0   \n",
       "3       0          0        3                  0     16.0        8.0   \n",
       "4       0          0        3                  0     16.0       12.0   \n",
       "\n",
       "   total_Op  total_Opnd  branchCount  defects  \n",
       "0       1.2         1.2          1.4    False  \n",
       "1       1.0         1.0          1.0     True  \n",
       "2      44.0        19.0          9.0    False  \n",
       "3      31.0        16.0          7.0    False  \n",
       "4      46.0        26.0         11.0    False  \n",
       "\n",
       "[5 rows x 23 columns]"
      ]
     },
     "execution_count": 7,
     "metadata": {},
     "output_type": "execute_result"
    }
   ],
   "source": [
    "df.head()"
   ]
  },
  {
   "cell_type": "code",
   "execution_count": 8,
   "id": "733e95eb",
   "metadata": {
    "execution": {
     "iopub.execute_input": "2021-04-04T23:30:59.669457Z",
     "iopub.status.busy": "2021-04-04T23:30:59.668247Z",
     "iopub.status.idle": "2021-04-04T23:30:59.672528Z",
     "shell.execute_reply": "2021-04-04T23:30:59.673148Z"
    },
    "papermill": {
     "duration": 0.037014,
     "end_time": "2021-04-04T23:30:59.673318",
     "exception": false,
     "start_time": "2021-04-04T23:30:59.636304",
     "status": "completed"
    },
    "tags": []
   },
   "outputs": [],
   "source": [
    "del df['id']"
   ]
  },
  {
   "cell_type": "code",
   "execution_count": 9,
   "id": "6ff6f5b0",
   "metadata": {
    "execution": {
     "iopub.execute_input": "2021-04-04T23:30:59.724770Z",
     "iopub.status.busy": "2021-04-04T23:30:59.723629Z",
     "iopub.status.idle": "2021-04-04T23:30:59.726168Z",
     "shell.execute_reply": "2021-04-04T23:30:59.726973Z"
    },
    "papermill": {
     "duration": 0.031783,
     "end_time": "2021-04-04T23:30:59.727209",
     "exception": false,
     "start_time": "2021-04-04T23:30:59.695426",
     "status": "completed"
    },
    "tags": []
   },
   "outputs": [],
   "source": [
    "if PROFILE_REPORTING:\n",
    "    ProfileReport(df).to_widgets()"
   ]
  },
  {
   "cell_type": "markdown",
   "id": "1deaf3f0",
   "metadata": {
    "papermill": {
     "duration": 0.025213,
     "end_time": "2021-04-04T23:30:59.781446",
     "exception": false,
     "start_time": "2021-04-04T23:30:59.756233",
     "status": "completed"
    },
    "tags": []
   },
   "source": [
    "# Preprocess"
   ]
  },
  {
   "cell_type": "code",
   "execution_count": 10,
   "id": "1513e563",
   "metadata": {
    "execution": {
     "iopub.execute_input": "2021-04-04T23:30:59.837507Z",
     "iopub.status.busy": "2021-04-04T23:30:59.836432Z",
     "iopub.status.idle": "2021-04-04T23:30:59.838574Z",
     "shell.execute_reply": "2021-04-04T23:30:59.839351Z"
    },
    "papermill": {
     "duration": 0.035465,
     "end_time": "2021-04-04T23:30:59.839574",
     "exception": false,
     "start_time": "2021-04-04T23:30:59.804109",
     "status": "completed"
    },
    "tags": []
   },
   "outputs": [],
   "source": [
    "working_df = df.copy()"
   ]
  },
  {
   "cell_type": "code",
   "execution_count": 11,
   "id": "3b26d675",
   "metadata": {
    "execution": {
     "iopub.execute_input": "2021-04-04T23:30:59.908088Z",
     "iopub.status.busy": "2021-04-04T23:30:59.906230Z",
     "iopub.status.idle": "2021-04-04T23:30:59.911115Z",
     "shell.execute_reply": "2021-04-04T23:30:59.910177Z"
    },
    "papermill": {
     "duration": 0.03887,
     "end_time": "2021-04-04T23:30:59.911451",
     "exception": false,
     "start_time": "2021-04-04T23:30:59.872581",
     "status": "completed"
    },
    "tags": []
   },
   "outputs": [],
   "source": [
    "working_df['defects'] = working_df['defects'].replace([False, True], [0, 1])"
   ]
  },
  {
   "cell_type": "code",
   "execution_count": 12,
   "id": "eb48604f",
   "metadata": {
    "execution": {
     "iopub.execute_input": "2021-04-04T23:30:59.963206Z",
     "iopub.status.busy": "2021-04-04T23:30:59.962487Z",
     "iopub.status.idle": "2021-04-04T23:30:59.964346Z",
     "shell.execute_reply": "2021-04-04T23:30:59.964824Z"
    },
    "papermill": {
     "duration": 0.028744,
     "end_time": "2021-04-04T23:30:59.964969",
     "exception": false,
     "start_time": "2021-04-04T23:30:59.936225",
     "status": "completed"
    },
    "tags": []
   },
   "outputs": [],
   "source": [
    "for col in dataset_config['delete_columns']:\n",
    "    del working_df[col]"
   ]
  },
  {
   "cell_type": "code",
   "execution_count": 13,
   "id": "9a17bc29",
   "metadata": {
    "execution": {
     "iopub.execute_input": "2021-04-04T23:31:00.027439Z",
     "iopub.status.busy": "2021-04-04T23:31:00.026542Z",
     "iopub.status.idle": "2021-04-04T23:31:00.036847Z",
     "shell.execute_reply": "2021-04-04T23:31:00.036034Z"
    },
    "papermill": {
     "duration": 0.047895,
     "end_time": "2021-04-04T23:31:00.037015",
     "exception": false,
     "start_time": "2021-04-04T23:30:59.989120",
     "status": "completed"
    },
    "tags": []
   },
   "outputs": [],
   "source": [
    "working_df = working_df.drop_duplicates()"
   ]
  },
  {
   "cell_type": "markdown",
   "id": "a4d52ca6",
   "metadata": {
    "papermill": {
     "duration": 0.023488,
     "end_time": "2021-04-04T23:31:00.085187",
     "exception": false,
     "start_time": "2021-04-04T23:31:00.061699",
     "status": "completed"
    },
    "tags": []
   },
   "source": [
    "# Split"
   ]
  },
  {
   "cell_type": "code",
   "execution_count": 14,
   "id": "3e9ee4b5",
   "metadata": {
    "execution": {
     "iopub.execute_input": "2021-04-04T23:31:00.148352Z",
     "iopub.status.busy": "2021-04-04T23:31:00.146279Z",
     "iopub.status.idle": "2021-04-04T23:31:00.181909Z",
     "shell.execute_reply": "2021-04-04T23:31:00.181306Z"
    },
    "papermill": {
     "duration": 0.071934,
     "end_time": "2021-04-04T23:31:00.182029",
     "exception": false,
     "start_time": "2021-04-04T23:31:00.110095",
     "status": "completed"
    },
    "tags": []
   },
   "outputs": [],
   "source": [
    "from sklearn.model_selection import train_test_split"
   ]
  },
  {
   "cell_type": "code",
   "execution_count": 15,
   "id": "274004ce",
   "metadata": {
    "execution": {
     "iopub.execute_input": "2021-04-04T23:31:00.238967Z",
     "iopub.status.busy": "2021-04-04T23:31:00.237263Z",
     "iopub.status.idle": "2021-04-04T23:31:00.243720Z",
     "shell.execute_reply": "2021-04-04T23:31:00.244264Z"
    },
    "papermill": {
     "duration": 0.037484,
     "end_time": "2021-04-04T23:31:00.244431",
     "exception": false,
     "start_time": "2021-04-04T23:31:00.206947",
     "status": "completed"
    },
    "scrolled": true,
    "tags": []
   },
   "outputs": [],
   "source": [
    "inlier, outlier = working_df[working_df['defects'] == 0], working_df[working_df['defects'] == 1]"
   ]
  },
  {
   "cell_type": "code",
   "execution_count": 16,
   "id": "753c7b03",
   "metadata": {
    "execution": {
     "iopub.execute_input": "2021-04-04T23:31:00.303952Z",
     "iopub.status.busy": "2021-04-04T23:31:00.303223Z",
     "iopub.status.idle": "2021-04-04T23:31:00.305499Z",
     "shell.execute_reply": "2021-04-04T23:31:00.304999Z"
    },
    "papermill": {
     "duration": 0.037182,
     "end_time": "2021-04-04T23:31:00.305617",
     "exception": false,
     "start_time": "2021-04-04T23:31:00.268435",
     "status": "completed"
    },
    "tags": []
   },
   "outputs": [],
   "source": [
    "X_inlier = inlier.copy()\n",
    "y_inlier = X_inlier.pop('defects')\n",
    "X_outlier = outlier.copy()\n",
    "y_outlier = X_outlier.pop('defects')"
   ]
  },
  {
   "cell_type": "code",
   "execution_count": 17,
   "id": "2ba43193",
   "metadata": {
    "execution": {
     "iopub.execute_input": "2021-04-04T23:31:00.371220Z",
     "iopub.status.busy": "2021-04-04T23:31:00.369979Z",
     "iopub.status.idle": "2021-04-04T23:31:00.374782Z",
     "shell.execute_reply": "2021-04-04T23:31:00.375959Z"
    },
    "papermill": {
     "duration": 0.048248,
     "end_time": "2021-04-04T23:31:00.376270",
     "exception": false,
     "start_time": "2021-04-04T23:31:00.328022",
     "status": "completed"
    },
    "tags": []
   },
   "outputs": [],
   "source": [
    "test_size = dataset_config['test_size']\n",
    "random_state = dataset_config['random_state']\n",
    "\n",
    "X_inlier_train, X_inlier_test, y_inlier_train, y_inlier_test = train_test_split(\n",
    "    X_inlier,\n",
    "    y_inlier,\n",
    "    test_size=test_size,\n",
    "    random_state=random_state\n",
    ")"
   ]
  },
  {
   "cell_type": "code",
   "execution_count": 18,
   "id": "0b7582ca",
   "metadata": {
    "execution": {
     "iopub.execute_input": "2021-04-04T23:31:00.440271Z",
     "iopub.status.busy": "2021-04-04T23:31:00.439637Z",
     "iopub.status.idle": "2021-04-04T23:31:00.441647Z",
     "shell.execute_reply": "2021-04-04T23:31:00.442147Z"
    },
    "papermill": {
     "duration": 0.03938,
     "end_time": "2021-04-04T23:31:00.442284",
     "exception": false,
     "start_time": "2021-04-04T23:31:00.402904",
     "status": "completed"
    },
    "tags": []
   },
   "outputs": [],
   "source": [
    "test_outlier_size = dataset_config['test_outlier_size']\n",
    "if test_outlier_size > 0.0:\n",
    "    X_outlier_train, X_outlier_test, y_outlier_train, y_outlier_test = train_test_split(\n",
    "        X_outlier,\n",
    "        y_outlier,\n",
    "        test_size=test_outlier_size,\n",
    "        random_state=random_state\n",
    "    )\n",
    "else:\n",
    "    X_outlier_train, y_outlier_train = pd.DataFrame(columns=X_outlier.columns), pd.Series(dtype='int64')\n",
    "    X_outlier_test, y_outlier_test = X_outlier.copy(), y_outlier.copy()"
   ]
  },
  {
   "cell_type": "code",
   "execution_count": 19,
   "id": "c34363db",
   "metadata": {
    "execution": {
     "iopub.execute_input": "2021-04-04T23:31:00.498740Z",
     "iopub.status.busy": "2021-04-04T23:31:00.495801Z",
     "iopub.status.idle": "2021-04-04T23:31:00.504038Z",
     "shell.execute_reply": "2021-04-04T23:31:00.503155Z"
    },
    "papermill": {
     "duration": 0.037438,
     "end_time": "2021-04-04T23:31:00.504220",
     "exception": false,
     "start_time": "2021-04-04T23:31:00.466782",
     "status": "completed"
    },
    "tags": []
   },
   "outputs": [],
   "source": [
    "X_train, y_train = pd.concat([X_inlier_train, X_outlier_train], ignore_index=True), pd.concat([y_inlier_train, y_outlier_train], ignore_index=True)\n",
    "X_test, y_test = pd.concat([X_inlier_test, X_outlier_test], ignore_index=True), pd.concat([y_inlier_test, y_outlier_test], ignore_index=True)"
   ]
  },
  {
   "cell_type": "markdown",
   "id": "7cde7309",
   "metadata": {
    "papermill": {
     "duration": 0.034605,
     "end_time": "2021-04-04T23:31:00.573309",
     "exception": false,
     "start_time": "2021-04-04T23:31:00.538704",
     "status": "completed"
    },
    "tags": []
   },
   "source": [
    "# Model"
   ]
  },
  {
   "cell_type": "code",
   "execution_count": 20,
   "id": "2b12a415",
   "metadata": {
    "execution": {
     "iopub.execute_input": "2021-04-04T23:31:00.662415Z",
     "iopub.status.busy": "2021-04-04T23:31:00.660442Z",
     "iopub.status.idle": "2021-04-04T23:31:00.665440Z",
     "shell.execute_reply": "2021-04-04T23:31:00.664438Z"
    },
    "papermill": {
     "duration": 0.054937,
     "end_time": "2021-04-04T23:31:00.665648",
     "exception": false,
     "start_time": "2021-04-04T23:31:00.610711",
     "status": "completed"
    },
    "tags": []
   },
   "outputs": [],
   "source": [
    "from math import sqrt\n",
    "\n",
    "\n",
    "class KNNDataDescription:\n",
    "    def __init__(self, k=5, outlier_threshold=1.0):\n",
    "        self.k = k\n",
    "        self.outlier_threshold = outlier_threshold\n",
    "        self.X = []\n",
    "    \n",
    "    def fit(self, X):\n",
    "        self.X = [features.to_list() for index, features in X.iterrows()]\n",
    "\n",
    "    def predict(self, entries):\n",
    "        return [self.predict_entry(features.to_list()) for index, features in entries.iterrows()]\n",
    "    \n",
    "    def predict_entry(self, entry):\n",
    "        kth_neighbor, kth_distance = self.get_kth_neighbor(entry, self.k)\n",
    "        kth_kth_neighbor, kth_kth_distance = self.get_kth_neighbor(kth_neighbor, self.k + 1)\n",
    "\n",
    "        outlier_score = kth_distance / (kth_kth_distance + 0.000001)\n",
    "\n",
    "        return 1 if outlier_score < self.outlier_threshold else -1\n",
    "        \n",
    "    def euclidean_distance(self, features1, features2):\n",
    "        distance = 0.0\n",
    "        for feat1, feat2 in zip(features1, features2):\n",
    "            distance += (feat1 - feat2)**2\n",
    "                \n",
    "        return sqrt(distance)\n",
    "\n",
    "    def get_neighbors(self, entry, k):\n",
    "        distance_to_data_points = [\n",
    "            (data_point, self.euclidean_distance(entry, data_point))\n",
    "            for data_point in self.X\n",
    "        ]\n",
    "        sorted_by_distance = sorted(distance_to_data_points, key=lambda tup: tup[1])\n",
    "        neighbors = sorted_by_distance[:k]\n",
    "        return neighbors\n",
    "\n",
    "    def get_kth_neighbor(self, entry, k):\n",
    "        neighbors = self.get_neighbors(entry, k)\n",
    "        return neighbors[-1]\n"
   ]
  },
  {
   "cell_type": "code",
   "execution_count": 21,
   "id": "1fa9ec1c",
   "metadata": {
    "execution": {
     "iopub.execute_input": "2021-04-04T23:31:00.737349Z",
     "iopub.status.busy": "2021-04-04T23:31:00.735882Z",
     "iopub.status.idle": "2021-04-04T23:31:00.783063Z",
     "shell.execute_reply": "2021-04-04T23:31:00.783600Z"
    },
    "papermill": {
     "duration": 0.094378,
     "end_time": "2021-04-04T23:31:00.783786",
     "exception": false,
     "start_time": "2021-04-04T23:31:00.689408",
     "status": "completed"
    },
    "tags": []
   },
   "outputs": [],
   "source": [
    "from sklearn.svm import OneClassSVM\n",
    "\n",
    "\n",
    "models = {\n",
    "    'oneclasssvm': OneClassSVM,\n",
    "    'knndatadescription': KNNDataDescription,\n",
    "}"
   ]
  },
  {
   "cell_type": "code",
   "execution_count": 22,
   "id": "4d72a0b1",
   "metadata": {
    "execution": {
     "iopub.execute_input": "2021-04-04T23:31:00.843848Z",
     "iopub.status.busy": "2021-04-04T23:31:00.843217Z",
     "iopub.status.idle": "2021-04-04T23:31:00.847605Z",
     "shell.execute_reply": "2021-04-04T23:31:00.846988Z"
    },
    "papermill": {
     "duration": 0.036052,
     "end_time": "2021-04-04T23:31:00.847795",
     "exception": false,
     "start_time": "2021-04-04T23:31:00.811743",
     "status": "completed"
    },
    "scrolled": true,
    "tags": []
   },
   "outputs": [],
   "source": [
    "model_cls = models[model_config['model_type']]\n",
    "model = model_cls(**model_config['hyperparameters'])"
   ]
  },
  {
   "cell_type": "markdown",
   "id": "e00cff3b",
   "metadata": {
    "papermill": {
     "duration": 0.029346,
     "end_time": "2021-04-04T23:31:00.919197",
     "exception": false,
     "start_time": "2021-04-04T23:31:00.889851",
     "status": "completed"
    },
    "tags": []
   },
   "source": [
    "# Fit"
   ]
  },
  {
   "cell_type": "code",
   "execution_count": 23,
   "id": "8b2ded89",
   "metadata": {
    "execution": {
     "iopub.execute_input": "2021-04-04T23:31:01.004640Z",
     "iopub.status.busy": "2021-04-04T23:31:01.003620Z",
     "iopub.status.idle": "2021-04-04T23:31:01.013256Z",
     "shell.execute_reply": "2021-04-04T23:31:01.013731Z"
    },
    "papermill": {
     "duration": 0.059243,
     "end_time": "2021-04-04T23:31:01.013877",
     "exception": false,
     "start_time": "2021-04-04T23:31:00.954634",
     "status": "completed"
    },
    "tags": []
   },
   "outputs": [
    {
     "data": {
      "text/plain": [
       "OneClassSVM()"
      ]
     },
     "execution_count": 23,
     "metadata": {},
     "output_type": "execute_result"
    }
   ],
   "source": [
    "model.fit(X_train)"
   ]
  },
  {
   "cell_type": "markdown",
   "id": "f99999f7",
   "metadata": {
    "papermill": {
     "duration": 0.054702,
     "end_time": "2021-04-04T23:31:01.095408",
     "exception": false,
     "start_time": "2021-04-04T23:31:01.040706",
     "status": "completed"
    },
    "tags": []
   },
   "source": [
    "# Predict"
   ]
  },
  {
   "cell_type": "code",
   "execution_count": 24,
   "id": "6536fbf7",
   "metadata": {
    "execution": {
     "iopub.execute_input": "2021-04-04T23:31:01.164940Z",
     "iopub.status.busy": "2021-04-04T23:31:01.164142Z",
     "iopub.status.idle": "2021-04-04T23:31:01.168414Z",
     "shell.execute_reply": "2021-04-04T23:31:01.169195Z"
    },
    "papermill": {
     "duration": 0.038307,
     "end_time": "2021-04-04T23:31:01.169420",
     "exception": false,
     "start_time": "2021-04-04T23:31:01.131113",
     "status": "completed"
    },
    "tags": []
   },
   "outputs": [],
   "source": [
    "predictions = model.predict(X_test)"
   ]
  },
  {
   "cell_type": "markdown",
   "id": "aa1c9881",
   "metadata": {
    "papermill": {
     "duration": 0.030754,
     "end_time": "2021-04-04T23:31:01.226380",
     "exception": false,
     "start_time": "2021-04-04T23:31:01.195626",
     "status": "completed"
    },
    "tags": []
   },
   "source": [
    "# Evaluate"
   ]
  },
  {
   "cell_type": "code",
   "execution_count": 25,
   "id": "894f0f04",
   "metadata": {
    "execution": {
     "iopub.execute_input": "2021-04-04T23:31:01.282458Z",
     "iopub.status.busy": "2021-04-04T23:31:01.281873Z",
     "iopub.status.idle": "2021-04-04T23:31:01.284040Z",
     "shell.execute_reply": "2021-04-04T23:31:01.285373Z"
    },
    "papermill": {
     "duration": 0.0319,
     "end_time": "2021-04-04T23:31:01.285775",
     "exception": false,
     "start_time": "2021-04-04T23:31:01.253875",
     "status": "completed"
    },
    "tags": []
   },
   "outputs": [],
   "source": [
    "from sklearn.metrics import f1_score"
   ]
  },
  {
   "cell_type": "code",
   "execution_count": 26,
   "id": "211744d3",
   "metadata": {
    "execution": {
     "iopub.execute_input": "2021-04-04T23:31:01.350487Z",
     "iopub.status.busy": "2021-04-04T23:31:01.349104Z",
     "iopub.status.idle": "2021-04-04T23:31:01.356046Z",
     "shell.execute_reply": "2021-04-04T23:31:01.357405Z"
    },
    "papermill": {
     "duration": 0.046112,
     "end_time": "2021-04-04T23:31:01.357888",
     "exception": false,
     "start_time": "2021-04-04T23:31:01.311776",
     "status": "completed"
    },
    "tags": []
   },
   "outputs": [],
   "source": [
    "y_test = y_test.replace([0, 1], [1, -1])"
   ]
  },
  {
   "cell_type": "code",
   "execution_count": 27,
   "id": "d68a9204",
   "metadata": {
    "execution": {
     "iopub.execute_input": "2021-04-04T23:31:01.426859Z",
     "iopub.status.busy": "2021-04-04T23:31:01.426062Z",
     "iopub.status.idle": "2021-04-04T23:31:01.427869Z",
     "shell.execute_reply": "2021-04-04T23:31:01.428337Z"
    },
    "papermill": {
     "duration": 0.036284,
     "end_time": "2021-04-04T23:31:01.428484",
     "exception": false,
     "start_time": "2021-04-04T23:31:01.392200",
     "status": "completed"
    },
    "tags": []
   },
   "outputs": [],
   "source": [
    "def evaluate(truths, predictions, pos_label, neg_label):\n",
    "    TP = 0\n",
    "    FP = 0\n",
    "    TN = 0\n",
    "    FN = 0\n",
    "\n",
    "    for truth, pred in zip(truths, predictions): \n",
    "        if truth == pred == pos_label:\n",
    "           TP += 1\n",
    "        elif pred == pos_label and truth == neg_label:\n",
    "           FP += 1\n",
    "        elif truth == pred == neg_label:\n",
    "           TN += 1\n",
    "        elif pred == neg_label and truth == pos_label:\n",
    "           FN += 1\n",
    "\n",
    "    precision = TP / (TP + FP)\n",
    "    sensitivity = TP / (TP + FN)\n",
    "    \n",
    "    return {\n",
    "        'true_pos': TP,\n",
    "        'false_pos': FP,\n",
    "        'false_neg': FN,\n",
    "        'true_neg': TN,\n",
    "        'precision': precision,\n",
    "        'sensitivity': sensitivity,\n",
    "        'f1': (2 * (precision * sensitivity)) / (precision + sensitivity)\n",
    "    }\n",
    "\n",
    "score = evaluate(y_test, predictions, pos_label=-1, neg_label=1)"
   ]
  },
  {
   "cell_type": "markdown",
   "id": "93596516",
   "metadata": {
    "papermill": {
     "duration": 0.026466,
     "end_time": "2021-04-04T23:31:01.479612",
     "exception": false,
     "start_time": "2021-04-04T23:31:01.453146",
     "status": "completed"
    },
    "tags": []
   },
   "source": [
    "# Report"
   ]
  },
  {
   "cell_type": "code",
   "execution_count": 28,
   "id": "bea5fba1",
   "metadata": {
    "execution": {
     "iopub.execute_input": "2021-04-04T23:31:01.538070Z",
     "iopub.status.busy": "2021-04-04T23:31:01.537166Z",
     "iopub.status.idle": "2021-04-04T23:31:01.539969Z",
     "shell.execute_reply": "2021-04-04T23:31:01.540473Z"
    },
    "papermill": {
     "duration": 0.033189,
     "end_time": "2021-04-04T23:31:01.540621",
     "exception": false,
     "start_time": "2021-04-04T23:31:01.507432",
     "status": "completed"
    },
    "tags": []
   },
   "outputs": [],
   "source": [
    "import csv\n",
    "\n",
    "\n",
    "dataset_config_name = DATASET_CONFIG_PATH.split('/')[-1].split('.')[0]\n",
    "model_config_name = MODEL_CONFIG_PATH.split('/')[-1].split('.')[0]\n",
    "configuration = f\"dataset_{dataset_config_name}-model_{model_config_name}\"\n",
    "\n",
    "with open('results.csv', 'a') as f:\n",
    "    report = dict({'configuration': configuration}, **score)\n",
    "    writer = csv.DictWriter(f, report.keys())\n",
    "    writer.writerow(report)"
   ]
  }
 ],
 "metadata": {
  "celltoolbar": "Tags",
  "kernelspec": {
   "display_name": "Python 3",
   "language": "python",
   "name": "python3"
  },
  "language_info": {
   "codemirror_mode": {
    "name": "ipython",
    "version": 3
   },
   "file_extension": ".py",
   "mimetype": "text/x-python",
   "name": "python",
   "nbconvert_exporter": "python",
   "pygments_lexer": "ipython3",
   "version": "3.9.1"
  },
  "papermill": {
   "default_parameters": {},
   "duration": 5.662956,
   "end_time": "2021-04-04T23:31:02.179348",
   "environment_variables": {},
   "exception": null,
   "input_path": "main.ipynb",
   "output_path": "runs/dataset_000143-model_000004.ipynb",
   "parameters": {
    "DATASET_CONFIG_PATH": "config/dataset/000143.json",
    "MODEL_CONFIG_PATH": "config/model/000004.json",
    "PROFILE_REPORTING": false
   },
   "start_time": "2021-04-04T23:30:56.516392",
   "version": "2.3.3"
  }
 },
 "nbformat": 4,
 "nbformat_minor": 5
}