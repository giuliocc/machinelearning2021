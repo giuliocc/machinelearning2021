{
 "cells": [
  {
   "cell_type": "markdown",
   "id": "51c71c25",
   "metadata": {
    "papermill": {
     "duration": 0.028718,
     "end_time": "2021-04-04T23:10:58.158407",
     "exception": false,
     "start_time": "2021-04-04T23:10:58.129689",
     "status": "completed"
    },
    "tags": []
   },
   "source": [
    "# Parametrizing"
   ]
  },
  {
   "cell_type": "code",
   "execution_count": 1,
   "id": "3b136394",
   "metadata": {
    "execution": {
     "iopub.execute_input": "2021-04-04T23:10:58.211459Z",
     "iopub.status.busy": "2021-04-04T23:10:58.210508Z",
     "iopub.status.idle": "2021-04-04T23:10:58.213647Z",
     "shell.execute_reply": "2021-04-04T23:10:58.214506Z"
    },
    "papermill": {
     "duration": 0.036534,
     "end_time": "2021-04-04T23:10:58.214832",
     "exception": false,
     "start_time": "2021-04-04T23:10:58.178298",
     "status": "completed"
    },
    "tags": [
     "parameters"
    ]
   },
   "outputs": [],
   "source": [
    "DATASET_CONFIG_PATH = 'config/dataset/kc1_001.json'\n",
    "MODEL_CONFIG_PATH = 'config/model/knndd_001.json'\n",
    "PROFILE_REPORTING = False"
   ]
  },
  {
   "cell_type": "code",
   "execution_count": 2,
   "id": "289d6bd1",
   "metadata": {
    "execution": {
     "iopub.execute_input": "2021-04-04T23:10:58.264338Z",
     "iopub.status.busy": "2021-04-04T23:10:58.263541Z",
     "iopub.status.idle": "2021-04-04T23:10:58.265664Z",
     "shell.execute_reply": "2021-04-04T23:10:58.266132Z"
    },
    "papermill": {
     "duration": 0.026498,
     "end_time": "2021-04-04T23:10:58.266269",
     "exception": false,
     "start_time": "2021-04-04T23:10:58.239771",
     "status": "completed"
    },
    "tags": [
     "injected-parameters"
    ]
   },
   "outputs": [],
   "source": [
    "# Parameters\n",
    "DATASET_CONFIG_PATH = \"config/dataset/000095.json\"\n",
    "MODEL_CONFIG_PATH = \"config/model/000003.json\"\n",
    "PROFILE_REPORTING = False\n"
   ]
  },
  {
   "cell_type": "code",
   "execution_count": 3,
   "id": "b80f2a10",
   "metadata": {
    "execution": {
     "iopub.execute_input": "2021-04-04T23:10:58.314696Z",
     "iopub.status.busy": "2021-04-04T23:10:58.313838Z",
     "iopub.status.idle": "2021-04-04T23:10:58.316860Z",
     "shell.execute_reply": "2021-04-04T23:10:58.317557Z"
    },
    "papermill": {
     "duration": 0.028324,
     "end_time": "2021-04-04T23:10:58.317754",
     "exception": false,
     "start_time": "2021-04-04T23:10:58.289430",
     "status": "completed"
    },
    "tags": []
   },
   "outputs": [],
   "source": [
    "import json\n",
    "\n",
    "\n",
    "with open(DATASET_CONFIG_PATH) as f:\n",
    "    dataset_config = json.load(f)\n",
    "\n",
    "with open(MODEL_CONFIG_PATH) as f:\n",
    "    model_config = json.load(f)"
   ]
  },
  {
   "cell_type": "markdown",
   "id": "9a4b0e2d",
   "metadata": {
    "papermill": {
     "duration": 0.022516,
     "end_time": "2021-04-04T23:10:58.363417",
     "exception": false,
     "start_time": "2021-04-04T23:10:58.340901",
     "status": "completed"
    },
    "tags": []
   },
   "source": [
    "# Profiling"
   ]
  },
  {
   "cell_type": "code",
   "execution_count": 4,
   "id": "a3e0289b",
   "metadata": {
    "execution": {
     "iopub.execute_input": "2021-04-04T23:10:58.411642Z",
     "iopub.status.busy": "2021-04-04T23:10:58.410065Z",
     "iopub.status.idle": "2021-04-04T23:10:59.663694Z",
     "shell.execute_reply": "2021-04-04T23:10:59.663100Z"
    },
    "papermill": {
     "duration": 1.279898,
     "end_time": "2021-04-04T23:10:59.663812",
     "exception": false,
     "start_time": "2021-04-04T23:10:58.383914",
     "status": "completed"
    },
    "tags": []
   },
   "outputs": [],
   "source": [
    "import pandas as pd\n",
    "from pandas_profiling import ProfileReport"
   ]
  },
  {
   "cell_type": "code",
   "execution_count": 5,
   "id": "ee6c0666",
   "metadata": {
    "execution": {
     "iopub.execute_input": "2021-04-04T23:10:59.710643Z",
     "iopub.status.busy": "2021-04-04T23:10:59.709079Z",
     "iopub.status.idle": "2021-04-04T23:10:59.720335Z",
     "shell.execute_reply": "2021-04-04T23:10:59.720814Z"
    },
    "papermill": {
     "duration": 0.037072,
     "end_time": "2021-04-04T23:10:59.720959",
     "exception": false,
     "start_time": "2021-04-04T23:10:59.683887",
     "status": "completed"
    },
    "tags": []
   },
   "outputs": [],
   "source": [
    "df = pd.read_csv(dataset_config['dataset_path'])"
   ]
  },
  {
   "cell_type": "code",
   "execution_count": 6,
   "id": "7eca6c4a",
   "metadata": {
    "execution": {
     "iopub.execute_input": "2021-04-04T23:10:59.782546Z",
     "iopub.status.busy": "2021-04-04T23:10:59.773893Z",
     "iopub.status.idle": "2021-04-04T23:10:59.784731Z",
     "shell.execute_reply": "2021-04-04T23:10:59.785209Z"
    },
    "papermill": {
     "duration": 0.042985,
     "end_time": "2021-04-04T23:10:59.785352",
     "exception": false,
     "start_time": "2021-04-04T23:10:59.742367",
     "status": "completed"
    },
    "tags": []
   },
   "outputs": [
    {
     "name": "stdout",
     "output_type": "stream",
     "text": [
      "<class 'pandas.core.frame.DataFrame'>\n",
      "RangeIndex: 498 entries, 0 to 497\n",
      "Data columns (total 23 columns):\n",
      " #   Column             Non-Null Count  Dtype  \n",
      "---  ------             --------------  -----  \n",
      " 0   id                 498 non-null    int64  \n",
      " 1   loc                498 non-null    float64\n",
      " 2   v(g)               498 non-null    float64\n",
      " 3   ev(g)              498 non-null    float64\n",
      " 4   iv(g)              498 non-null    float64\n",
      " 5   n                  498 non-null    float64\n",
      " 6   v                  498 non-null    float64\n",
      " 7   l                  498 non-null    float64\n",
      " 8   d                  498 non-null    float64\n",
      " 9   i                  498 non-null    float64\n",
      " 10  e                  498 non-null    float64\n",
      " 11  b                  498 non-null    float64\n",
      " 12  t                  498 non-null    float64\n",
      " 13  lOCode             498 non-null    int64  \n",
      " 14  lOComment          498 non-null    int64  \n",
      " 15  lOBlank            498 non-null    int64  \n",
      " 16  locCodeAndComment  498 non-null    int64  \n",
      " 17  uniq_Op            498 non-null    float64\n",
      " 18  uniq_Opnd          498 non-null    float64\n",
      " 19  total_Op           498 non-null    float64\n",
      " 20  total_Opnd         498 non-null    float64\n",
      " 21  branchCount        498 non-null    float64\n",
      " 22  defects            498 non-null    bool   \n",
      "dtypes: bool(1), float64(17), int64(5)\n",
      "memory usage: 86.2 KB\n"
     ]
    }
   ],
   "source": [
    "df.info()"
   ]
  },
  {
   "cell_type": "code",
   "execution_count": 7,
   "id": "3638e5e8",
   "metadata": {
    "execution": {
     "iopub.execute_input": "2021-04-04T23:10:59.836450Z",
     "iopub.status.busy": "2021-04-04T23:10:59.835656Z",
     "iopub.status.idle": "2021-04-04T23:10:59.860179Z",
     "shell.execute_reply": "2021-04-04T23:10:59.859669Z"
    },
    "papermill": {
     "duration": 0.053073,
     "end_time": "2021-04-04T23:10:59.860298",
     "exception": false,
     "start_time": "2021-04-04T23:10:59.807225",
     "status": "completed"
    },
    "tags": []
   },
   "outputs": [
    {
     "data": {
      "text/html": [
       "<div>\n",
       "<style scoped>\n",
       "    .dataframe tbody tr th:only-of-type {\n",
       "        vertical-align: middle;\n",
       "    }\n",
       "\n",
       "    .dataframe tbody tr th {\n",
       "        vertical-align: top;\n",
       "    }\n",
       "\n",
       "    .dataframe thead th {\n",
       "        text-align: right;\n",
       "    }\n",
       "</style>\n",
       "<table border=\"1\" class=\"dataframe\">\n",
       "  <thead>\n",
       "    <tr style=\"text-align: right;\">\n",
       "      <th></th>\n",
       "      <th>id</th>\n",
       "      <th>loc</th>\n",
       "      <th>v(g)</th>\n",
       "      <th>ev(g)</th>\n",
       "      <th>iv(g)</th>\n",
       "      <th>n</th>\n",
       "      <th>v</th>\n",
       "      <th>l</th>\n",
       "      <th>d</th>\n",
       "      <th>i</th>\n",
       "      <th>...</th>\n",
       "      <th>lOCode</th>\n",
       "      <th>lOComment</th>\n",
       "      <th>lOBlank</th>\n",
       "      <th>locCodeAndComment</th>\n",
       "      <th>uniq_Op</th>\n",
       "      <th>uniq_Opnd</th>\n",
       "      <th>total_Op</th>\n",
       "      <th>total_Opnd</th>\n",
       "      <th>branchCount</th>\n",
       "      <th>defects</th>\n",
       "    </tr>\n",
       "  </thead>\n",
       "  <tbody>\n",
       "    <tr>\n",
       "      <th>0</th>\n",
       "      <td>1</td>\n",
       "      <td>1.1</td>\n",
       "      <td>1.4</td>\n",
       "      <td>1.4</td>\n",
       "      <td>1.4</td>\n",
       "      <td>1.3</td>\n",
       "      <td>1.30</td>\n",
       "      <td>1.30</td>\n",
       "      <td>1.30</td>\n",
       "      <td>1.30</td>\n",
       "      <td>...</td>\n",
       "      <td>2</td>\n",
       "      <td>2</td>\n",
       "      <td>2</td>\n",
       "      <td>2</td>\n",
       "      <td>1.2</td>\n",
       "      <td>1.2</td>\n",
       "      <td>1.2</td>\n",
       "      <td>1.2</td>\n",
       "      <td>1.4</td>\n",
       "      <td>False</td>\n",
       "    </tr>\n",
       "    <tr>\n",
       "      <th>1</th>\n",
       "      <td>2</td>\n",
       "      <td>1.0</td>\n",
       "      <td>1.0</td>\n",
       "      <td>1.0</td>\n",
       "      <td>1.0</td>\n",
       "      <td>1.0</td>\n",
       "      <td>1.00</td>\n",
       "      <td>1.00</td>\n",
       "      <td>1.00</td>\n",
       "      <td>1.00</td>\n",
       "      <td>...</td>\n",
       "      <td>1</td>\n",
       "      <td>1</td>\n",
       "      <td>1</td>\n",
       "      <td>1</td>\n",
       "      <td>1.0</td>\n",
       "      <td>1.0</td>\n",
       "      <td>1.0</td>\n",
       "      <td>1.0</td>\n",
       "      <td>1.0</td>\n",
       "      <td>True</td>\n",
       "    </tr>\n",
       "    <tr>\n",
       "      <th>2</th>\n",
       "      <td>3</td>\n",
       "      <td>24.0</td>\n",
       "      <td>5.0</td>\n",
       "      <td>1.0</td>\n",
       "      <td>3.0</td>\n",
       "      <td>63.0</td>\n",
       "      <td>309.13</td>\n",
       "      <td>0.11</td>\n",
       "      <td>9.50</td>\n",
       "      <td>32.54</td>\n",
       "      <td>...</td>\n",
       "      <td>1</td>\n",
       "      <td>0</td>\n",
       "      <td>6</td>\n",
       "      <td>0</td>\n",
       "      <td>15.0</td>\n",
       "      <td>15.0</td>\n",
       "      <td>44.0</td>\n",
       "      <td>19.0</td>\n",
       "      <td>9.0</td>\n",
       "      <td>False</td>\n",
       "    </tr>\n",
       "    <tr>\n",
       "      <th>3</th>\n",
       "      <td>4</td>\n",
       "      <td>20.0</td>\n",
       "      <td>4.0</td>\n",
       "      <td>4.0</td>\n",
       "      <td>2.0</td>\n",
       "      <td>47.0</td>\n",
       "      <td>215.49</td>\n",
       "      <td>0.06</td>\n",
       "      <td>16.00</td>\n",
       "      <td>13.47</td>\n",
       "      <td>...</td>\n",
       "      <td>0</td>\n",
       "      <td>0</td>\n",
       "      <td>3</td>\n",
       "      <td>0</td>\n",
       "      <td>16.0</td>\n",
       "      <td>8.0</td>\n",
       "      <td>31.0</td>\n",
       "      <td>16.0</td>\n",
       "      <td>7.0</td>\n",
       "      <td>False</td>\n",
       "    </tr>\n",
       "    <tr>\n",
       "      <th>4</th>\n",
       "      <td>5</td>\n",
       "      <td>24.0</td>\n",
       "      <td>6.0</td>\n",
       "      <td>6.0</td>\n",
       "      <td>2.0</td>\n",
       "      <td>72.0</td>\n",
       "      <td>346.13</td>\n",
       "      <td>0.06</td>\n",
       "      <td>17.33</td>\n",
       "      <td>19.97</td>\n",
       "      <td>...</td>\n",
       "      <td>0</td>\n",
       "      <td>0</td>\n",
       "      <td>3</td>\n",
       "      <td>0</td>\n",
       "      <td>16.0</td>\n",
       "      <td>12.0</td>\n",
       "      <td>46.0</td>\n",
       "      <td>26.0</td>\n",
       "      <td>11.0</td>\n",
       "      <td>False</td>\n",
       "    </tr>\n",
       "  </tbody>\n",
       "</table>\n",
       "<p>5 rows × 23 columns</p>\n",
       "</div>"
      ],
      "text/plain": [
       "   id   loc  v(g)  ev(g)  iv(g)     n       v     l      d      i  ...  \\\n",
       "0   1   1.1   1.4    1.4    1.4   1.3    1.30  1.30   1.30   1.30  ...   \n",
       "1   2   1.0   1.0    1.0    1.0   1.0    1.00  1.00   1.00   1.00  ...   \n",
       "2   3  24.0   5.0    1.0    3.0  63.0  309.13  0.11   9.50  32.54  ...   \n",
       "3   4  20.0   4.0    4.0    2.0  47.0  215.49  0.06  16.00  13.47  ...   \n",
       "4   5  24.0   6.0    6.0    2.0  72.0  346.13  0.06  17.33  19.97  ...   \n",
       "\n",
       "   lOCode  lOComment  lOBlank  locCodeAndComment  uniq_Op  uniq_Opnd  \\\n",
       "0       2          2        2                  2      1.2        1.2   \n",
       "1       1          1        1                  1      1.0        1.0   \n",
       "2       1          0        6                  0     15.0       15.0   \n",
       "3       0          0        3                  0     16.0        8.0   \n",
       "4       0          0        3                  0     16.0       12.0   \n",
       "\n",
       "   total_Op  total_Opnd  branchCount  defects  \n",
       "0       1.2         1.2          1.4    False  \n",
       "1       1.0         1.0          1.0     True  \n",
       "2      44.0        19.0          9.0    False  \n",
       "3      31.0        16.0          7.0    False  \n",
       "4      46.0        26.0         11.0    False  \n",
       "\n",
       "[5 rows x 23 columns]"
      ]
     },
     "execution_count": 7,
     "metadata": {},
     "output_type": "execute_result"
    }
   ],
   "source": [
    "df.head()"
   ]
  },
  {
   "cell_type": "code",
   "execution_count": 8,
   "id": "733e95eb",
   "metadata": {
    "execution": {
     "iopub.execute_input": "2021-04-04T23:10:59.908964Z",
     "iopub.status.busy": "2021-04-04T23:10:59.908057Z",
     "iopub.status.idle": "2021-04-04T23:10:59.910935Z",
     "shell.execute_reply": "2021-04-04T23:10:59.910319Z"
    },
    "papermill": {
     "duration": 0.028179,
     "end_time": "2021-04-04T23:10:59.911060",
     "exception": false,
     "start_time": "2021-04-04T23:10:59.882881",
     "status": "completed"
    },
    "tags": []
   },
   "outputs": [],
   "source": [
    "del df['id']"
   ]
  },
  {
   "cell_type": "code",
   "execution_count": 9,
   "id": "6ff6f5b0",
   "metadata": {
    "execution": {
     "iopub.execute_input": "2021-04-04T23:10:59.958350Z",
     "iopub.status.busy": "2021-04-04T23:10:59.957613Z",
     "iopub.status.idle": "2021-04-04T23:10:59.959638Z",
     "shell.execute_reply": "2021-04-04T23:10:59.960097Z"
    },
    "papermill": {
     "duration": 0.026964,
     "end_time": "2021-04-04T23:10:59.960238",
     "exception": false,
     "start_time": "2021-04-04T23:10:59.933274",
     "status": "completed"
    },
    "tags": []
   },
   "outputs": [],
   "source": [
    "if PROFILE_REPORTING:\n",
    "    ProfileReport(df).to_widgets()"
   ]
  },
  {
   "cell_type": "markdown",
   "id": "1deaf3f0",
   "metadata": {
    "papermill": {
     "duration": 0.021087,
     "end_time": "2021-04-04T23:11:00.003496",
     "exception": false,
     "start_time": "2021-04-04T23:10:59.982409",
     "status": "completed"
    },
    "tags": []
   },
   "source": [
    "# Preprocess"
   ]
  },
  {
   "cell_type": "code",
   "execution_count": 10,
   "id": "1513e563",
   "metadata": {
    "execution": {
     "iopub.execute_input": "2021-04-04T23:11:00.050279Z",
     "iopub.status.busy": "2021-04-04T23:11:00.049597Z",
     "iopub.status.idle": "2021-04-04T23:11:00.051849Z",
     "shell.execute_reply": "2021-04-04T23:11:00.052417Z"
    },
    "papermill": {
     "duration": 0.027914,
     "end_time": "2021-04-04T23:11:00.052584",
     "exception": false,
     "start_time": "2021-04-04T23:11:00.024670",
     "status": "completed"
    },
    "tags": []
   },
   "outputs": [],
   "source": [
    "working_df = df.copy()"
   ]
  },
  {
   "cell_type": "code",
   "execution_count": 11,
   "id": "3b26d675",
   "metadata": {
    "execution": {
     "iopub.execute_input": "2021-04-04T23:11:00.105543Z",
     "iopub.status.busy": "2021-04-04T23:11:00.104601Z",
     "iopub.status.idle": "2021-04-04T23:11:00.107598Z",
     "shell.execute_reply": "2021-04-04T23:11:00.107006Z"
    },
    "papermill": {
     "duration": 0.031229,
     "end_time": "2021-04-04T23:11:00.107733",
     "exception": false,
     "start_time": "2021-04-04T23:11:00.076504",
     "status": "completed"
    },
    "tags": []
   },
   "outputs": [],
   "source": [
    "working_df['defects'] = working_df['defects'].replace([False, True], [0, 1])"
   ]
  },
  {
   "cell_type": "code",
   "execution_count": 12,
   "id": "eb48604f",
   "metadata": {
    "execution": {
     "iopub.execute_input": "2021-04-04T23:11:00.157061Z",
     "iopub.status.busy": "2021-04-04T23:11:00.156092Z",
     "iopub.status.idle": "2021-04-04T23:11:00.158684Z",
     "shell.execute_reply": "2021-04-04T23:11:00.159389Z"
    },
    "papermill": {
     "duration": 0.029475,
     "end_time": "2021-04-04T23:11:00.159592",
     "exception": false,
     "start_time": "2021-04-04T23:11:00.130117",
     "status": "completed"
    },
    "tags": []
   },
   "outputs": [],
   "source": [
    "for col in dataset_config['delete_columns']:\n",
    "    del working_df[col]"
   ]
  },
  {
   "cell_type": "code",
   "execution_count": 13,
   "id": "9a17bc29",
   "metadata": {
    "execution": {
     "iopub.execute_input": "2021-04-04T23:11:00.214369Z",
     "iopub.status.busy": "2021-04-04T23:11:00.213726Z",
     "iopub.status.idle": "2021-04-04T23:11:00.223776Z",
     "shell.execute_reply": "2021-04-04T23:11:00.224475Z"
    },
    "papermill": {
     "duration": 0.039768,
     "end_time": "2021-04-04T23:11:00.224652",
     "exception": false,
     "start_time": "2021-04-04T23:11:00.184884",
     "status": "completed"
    },
    "tags": []
   },
   "outputs": [],
   "source": [
    "working_df = working_df.drop_duplicates()"
   ]
  },
  {
   "cell_type": "markdown",
   "id": "a4d52ca6",
   "metadata": {
    "papermill": {
     "duration": 0.021345,
     "end_time": "2021-04-04T23:11:00.272049",
     "exception": false,
     "start_time": "2021-04-04T23:11:00.250704",
     "status": "completed"
    },
    "tags": []
   },
   "source": [
    "# Split"
   ]
  },
  {
   "cell_type": "code",
   "execution_count": 14,
   "id": "3e9ee4b5",
   "metadata": {
    "execution": {
     "iopub.execute_input": "2021-04-04T23:11:00.321135Z",
     "iopub.status.busy": "2021-04-04T23:11:00.320228Z",
     "iopub.status.idle": "2021-04-04T23:11:00.356133Z",
     "shell.execute_reply": "2021-04-04T23:11:00.357225Z"
    },
    "papermill": {
     "duration": 0.06349,
     "end_time": "2021-04-04T23:11:00.357475",
     "exception": false,
     "start_time": "2021-04-04T23:11:00.293985",
     "status": "completed"
    },
    "tags": []
   },
   "outputs": [],
   "source": [
    "from sklearn.model_selection import train_test_split"
   ]
  },
  {
   "cell_type": "code",
   "execution_count": 15,
   "id": "274004ce",
   "metadata": {
    "execution": {
     "iopub.execute_input": "2021-04-04T23:11:00.418085Z",
     "iopub.status.busy": "2021-04-04T23:11:00.416520Z",
     "iopub.status.idle": "2021-04-04T23:11:00.423811Z",
     "shell.execute_reply": "2021-04-04T23:11:00.423002Z"
    },
    "papermill": {
     "duration": 0.037053,
     "end_time": "2021-04-04T23:11:00.423984",
     "exception": false,
     "start_time": "2021-04-04T23:11:00.386931",
     "status": "completed"
    },
    "scrolled": true,
    "tags": []
   },
   "outputs": [],
   "source": [
    "inlier, outlier = working_df[working_df['defects'] == 0], working_df[working_df['defects'] == 1]"
   ]
  },
  {
   "cell_type": "code",
   "execution_count": 16,
   "id": "753c7b03",
   "metadata": {
    "execution": {
     "iopub.execute_input": "2021-04-04T23:11:00.483446Z",
     "iopub.status.busy": "2021-04-04T23:11:00.481816Z",
     "iopub.status.idle": "2021-04-04T23:11:00.486424Z",
     "shell.execute_reply": "2021-04-04T23:11:00.487323Z"
    },
    "papermill": {
     "duration": 0.033364,
     "end_time": "2021-04-04T23:11:00.487562",
     "exception": false,
     "start_time": "2021-04-04T23:11:00.454198",
     "status": "completed"
    },
    "tags": []
   },
   "outputs": [],
   "source": [
    "X_inlier = inlier.copy()\n",
    "y_inlier = X_inlier.pop('defects')\n",
    "X_outlier = outlier.copy()\n",
    "y_outlier = X_outlier.pop('defects')"
   ]
  },
  {
   "cell_type": "code",
   "execution_count": 17,
   "id": "2ba43193",
   "metadata": {
    "execution": {
     "iopub.execute_input": "2021-04-04T23:11:00.547322Z",
     "iopub.status.busy": "2021-04-04T23:11:00.545806Z",
     "iopub.status.idle": "2021-04-04T23:11:00.549798Z",
     "shell.execute_reply": "2021-04-04T23:11:00.548814Z"
    },
    "papermill": {
     "duration": 0.035669,
     "end_time": "2021-04-04T23:11:00.549988",
     "exception": false,
     "start_time": "2021-04-04T23:11:00.514319",
     "status": "completed"
    },
    "tags": []
   },
   "outputs": [],
   "source": [
    "test_size = dataset_config['test_size']\n",
    "random_state = dataset_config['random_state']\n",
    "\n",
    "X_inlier_train, X_inlier_test, y_inlier_train, y_inlier_test = train_test_split(\n",
    "    X_inlier,\n",
    "    y_inlier,\n",
    "    test_size=test_size,\n",
    "    random_state=random_state\n",
    ")"
   ]
  },
  {
   "cell_type": "code",
   "execution_count": 18,
   "id": "0b7582ca",
   "metadata": {
    "execution": {
     "iopub.execute_input": "2021-04-04T23:11:00.607810Z",
     "iopub.status.busy": "2021-04-04T23:11:00.606608Z",
     "iopub.status.idle": "2021-04-04T23:11:00.610371Z",
     "shell.execute_reply": "2021-04-04T23:11:00.609382Z"
    },
    "papermill": {
     "duration": 0.035184,
     "end_time": "2021-04-04T23:11:00.610562",
     "exception": false,
     "start_time": "2021-04-04T23:11:00.575378",
     "status": "completed"
    },
    "tags": []
   },
   "outputs": [],
   "source": [
    "test_outlier_size = dataset_config['test_outlier_size']\n",
    "if test_outlier_size > 0.0:\n",
    "    X_outlier_train, X_outlier_test, y_outlier_train, y_outlier_test = train_test_split(\n",
    "        X_outlier,\n",
    "        y_outlier,\n",
    "        test_size=test_outlier_size,\n",
    "        random_state=random_state\n",
    "    )\n",
    "else:\n",
    "    X_outlier_train, y_outlier_train = pd.DataFrame(columns=X_outlier.columns), pd.Series(dtype='int64')\n",
    "    X_outlier_test, y_outlier_test = X_outlier.copy(), y_outlier.copy()"
   ]
  },
  {
   "cell_type": "code",
   "execution_count": 19,
   "id": "c34363db",
   "metadata": {
    "execution": {
     "iopub.execute_input": "2021-04-04T23:11:00.669472Z",
     "iopub.status.busy": "2021-04-04T23:11:00.668118Z",
     "iopub.status.idle": "2021-04-04T23:11:00.672047Z",
     "shell.execute_reply": "2021-04-04T23:11:00.671014Z"
    },
    "papermill": {
     "duration": 0.036737,
     "end_time": "2021-04-04T23:11:00.672251",
     "exception": false,
     "start_time": "2021-04-04T23:11:00.635514",
     "status": "completed"
    },
    "tags": []
   },
   "outputs": [],
   "source": [
    "X_train, y_train = pd.concat([X_inlier_train, X_outlier_train], ignore_index=True), pd.concat([y_inlier_train, y_outlier_train], ignore_index=True)\n",
    "X_test, y_test = pd.concat([X_inlier_test, X_outlier_test], ignore_index=True), pd.concat([y_inlier_test, y_outlier_test], ignore_index=True)"
   ]
  },
  {
   "cell_type": "markdown",
   "id": "7cde7309",
   "metadata": {
    "papermill": {
     "duration": 0.022333,
     "end_time": "2021-04-04T23:11:00.720174",
     "exception": false,
     "start_time": "2021-04-04T23:11:00.697841",
     "status": "completed"
    },
    "tags": []
   },
   "source": [
    "# Model"
   ]
  },
  {
   "cell_type": "code",
   "execution_count": 20,
   "id": "2b12a415",
   "metadata": {
    "execution": {
     "iopub.execute_input": "2021-04-04T23:11:00.788177Z",
     "iopub.status.busy": "2021-04-04T23:11:00.787227Z",
     "iopub.status.idle": "2021-04-04T23:11:00.790026Z",
     "shell.execute_reply": "2021-04-04T23:11:00.790754Z"
    },
    "papermill": {
     "duration": 0.042283,
     "end_time": "2021-04-04T23:11:00.790960",
     "exception": false,
     "start_time": "2021-04-04T23:11:00.748677",
     "status": "completed"
    },
    "tags": []
   },
   "outputs": [],
   "source": [
    "from math import sqrt\n",
    "\n",
    "\n",
    "class KNNDataDescription:\n",
    "    def __init__(self, k=5, outlier_threshold=1.0):\n",
    "        self.k = k\n",
    "        self.outlier_threshold = outlier_threshold\n",
    "        self.X = []\n",
    "    \n",
    "    def fit(self, X):\n",
    "        self.X = [features.to_list() for index, features in X.iterrows()]\n",
    "\n",
    "    def predict(self, entries):\n",
    "        return [self.predict_entry(features.to_list()) for index, features in entries.iterrows()]\n",
    "    \n",
    "    def predict_entry(self, entry):\n",
    "        kth_neighbor, kth_distance = self.get_kth_neighbor(entry, self.k)\n",
    "        kth_kth_neighbor, kth_kth_distance = self.get_kth_neighbor(kth_neighbor, self.k + 1)\n",
    "\n",
    "        outlier_score = kth_distance / (kth_kth_distance + 0.000001)\n",
    "\n",
    "        return 1 if outlier_score < self.outlier_threshold else -1\n",
    "        \n",
    "    def euclidean_distance(self, features1, features2):\n",
    "        distance = 0.0\n",
    "        for feat1, feat2 in zip(features1, features2):\n",
    "            distance += (feat1 - feat2)**2\n",
    "                \n",
    "        return sqrt(distance)\n",
    "\n",
    "    def get_neighbors(self, entry, k):\n",
    "        distance_to_data_points = [\n",
    "            (data_point, self.euclidean_distance(entry, data_point))\n",
    "            for data_point in self.X\n",
    "        ]\n",
    "        sorted_by_distance = sorted(distance_to_data_points, key=lambda tup: tup[1])\n",
    "        neighbors = sorted_by_distance[:k]\n",
    "        return neighbors\n",
    "\n",
    "    def get_kth_neighbor(self, entry, k):\n",
    "        neighbors = self.get_neighbors(entry, k)\n",
    "        return neighbors[-1]\n"
   ]
  },
  {
   "cell_type": "code",
   "execution_count": 21,
   "id": "1fa9ec1c",
   "metadata": {
    "execution": {
     "iopub.execute_input": "2021-04-04T23:11:00.846538Z",
     "iopub.status.busy": "2021-04-04T23:11:00.845843Z",
     "iopub.status.idle": "2021-04-04T23:11:00.873708Z",
     "shell.execute_reply": "2021-04-04T23:11:00.872614Z"
    },
    "papermill": {
     "duration": 0.055351,
     "end_time": "2021-04-04T23:11:00.873944",
     "exception": false,
     "start_time": "2021-04-04T23:11:00.818593",
     "status": "completed"
    },
    "tags": []
   },
   "outputs": [],
   "source": [
    "from sklearn.svm import OneClassSVM\n",
    "\n",
    "\n",
    "models = {\n",
    "    'oneclasssvm': OneClassSVM,\n",
    "    'knndatadescription': KNNDataDescription,\n",
    "}"
   ]
  },
  {
   "cell_type": "code",
   "execution_count": 22,
   "id": "4d72a0b1",
   "metadata": {
    "execution": {
     "iopub.execute_input": "2021-04-04T23:11:00.933136Z",
     "iopub.status.busy": "2021-04-04T23:11:00.932213Z",
     "iopub.status.idle": "2021-04-04T23:11:00.934208Z",
     "shell.execute_reply": "2021-04-04T23:11:00.934811Z"
    },
    "papermill": {
     "duration": 0.030015,
     "end_time": "2021-04-04T23:11:00.934958",
     "exception": false,
     "start_time": "2021-04-04T23:11:00.904943",
     "status": "completed"
    },
    "scrolled": true,
    "tags": []
   },
   "outputs": [],
   "source": [
    "model_cls = models[model_config['model_type']]\n",
    "model = model_cls(**model_config['hyperparameters'])"
   ]
  },
  {
   "cell_type": "markdown",
   "id": "e00cff3b",
   "metadata": {
    "papermill": {
     "duration": 0.022308,
     "end_time": "2021-04-04T23:11:00.980987",
     "exception": false,
     "start_time": "2021-04-04T23:11:00.958679",
     "status": "completed"
    },
    "tags": []
   },
   "source": [
    "# Fit"
   ]
  },
  {
   "cell_type": "code",
   "execution_count": 23,
   "id": "8b2ded89",
   "metadata": {
    "execution": {
     "iopub.execute_input": "2021-04-04T23:11:01.036687Z",
     "iopub.status.busy": "2021-04-04T23:11:01.031512Z",
     "iopub.status.idle": "2021-04-04T23:11:01.054205Z",
     "shell.execute_reply": "2021-04-04T23:11:01.053275Z"
    },
    "papermill": {
     "duration": 0.050835,
     "end_time": "2021-04-04T23:11:01.054381",
     "exception": false,
     "start_time": "2021-04-04T23:11:01.003546",
     "status": "completed"
    },
    "tags": []
   },
   "outputs": [],
   "source": [
    "model.fit(X_train)"
   ]
  },
  {
   "cell_type": "markdown",
   "id": "f99999f7",
   "metadata": {
    "papermill": {
     "duration": 0.022711,
     "end_time": "2021-04-04T23:11:01.106121",
     "exception": false,
     "start_time": "2021-04-04T23:11:01.083410",
     "status": "completed"
    },
    "tags": []
   },
   "source": [
    "# Predict"
   ]
  },
  {
   "cell_type": "code",
   "execution_count": 24,
   "id": "6536fbf7",
   "metadata": {
    "execution": {
     "iopub.execute_input": "2021-04-04T23:11:01.197021Z",
     "iopub.status.busy": "2021-04-04T23:11:01.161728Z",
     "iopub.status.idle": "2021-04-04T23:11:01.502384Z",
     "shell.execute_reply": "2021-04-04T23:11:01.501426Z"
    },
    "papermill": {
     "duration": 0.37373,
     "end_time": "2021-04-04T23:11:01.502551",
     "exception": false,
     "start_time": "2021-04-04T23:11:01.128821",
     "status": "completed"
    },
    "tags": []
   },
   "outputs": [],
   "source": [
    "predictions = model.predict(X_test)"
   ]
  },
  {
   "cell_type": "markdown",
   "id": "aa1c9881",
   "metadata": {
    "papermill": {
     "duration": 0.023157,
     "end_time": "2021-04-04T23:11:01.554251",
     "exception": false,
     "start_time": "2021-04-04T23:11:01.531094",
     "status": "completed"
    },
    "tags": []
   },
   "source": [
    "# Evaluate"
   ]
  },
  {
   "cell_type": "code",
   "execution_count": 25,
   "id": "894f0f04",
   "metadata": {
    "execution": {
     "iopub.execute_input": "2021-04-04T23:11:01.605140Z",
     "iopub.status.busy": "2021-04-04T23:11:01.604438Z",
     "iopub.status.idle": "2021-04-04T23:11:01.606436Z",
     "shell.execute_reply": "2021-04-04T23:11:01.606969Z"
    },
    "papermill": {
     "duration": 0.030324,
     "end_time": "2021-04-04T23:11:01.607126",
     "exception": false,
     "start_time": "2021-04-04T23:11:01.576802",
     "status": "completed"
    },
    "tags": []
   },
   "outputs": [],
   "source": [
    "from sklearn.metrics import f1_score"
   ]
  },
  {
   "cell_type": "code",
   "execution_count": 26,
   "id": "211744d3",
   "metadata": {
    "execution": {
     "iopub.execute_input": "2021-04-04T23:11:01.664098Z",
     "iopub.status.busy": "2021-04-04T23:11:01.663344Z",
     "iopub.status.idle": "2021-04-04T23:11:01.665283Z",
     "shell.execute_reply": "2021-04-04T23:11:01.665759Z"
    },
    "papermill": {
     "duration": 0.032677,
     "end_time": "2021-04-04T23:11:01.665903",
     "exception": false,
     "start_time": "2021-04-04T23:11:01.633226",
     "status": "completed"
    },
    "tags": []
   },
   "outputs": [],
   "source": [
    "y_test = y_test.replace([0, 1], [1, -1])"
   ]
  },
  {
   "cell_type": "code",
   "execution_count": 27,
   "id": "d68a9204",
   "metadata": {
    "execution": {
     "iopub.execute_input": "2021-04-04T23:11:01.728474Z",
     "iopub.status.busy": "2021-04-04T23:11:01.727260Z",
     "iopub.status.idle": "2021-04-04T23:11:01.729709Z",
     "shell.execute_reply": "2021-04-04T23:11:01.730400Z"
    },
    "papermill": {
     "duration": 0.03624,
     "end_time": "2021-04-04T23:11:01.730599",
     "exception": false,
     "start_time": "2021-04-04T23:11:01.694359",
     "status": "completed"
    },
    "tags": []
   },
   "outputs": [],
   "source": [
    "def evaluate(truths, predictions, pos_label, neg_label):\n",
    "    TP = 0\n",
    "    FP = 0\n",
    "    TN = 0\n",
    "    FN = 0\n",
    "\n",
    "    for truth, pred in zip(truths, predictions): \n",
    "        if truth == pred == pos_label:\n",
    "           TP += 1\n",
    "        elif pred == pos_label and truth == neg_label:\n",
    "           FP += 1\n",
    "        elif truth == pred == neg_label:\n",
    "           TN += 1\n",
    "        elif pred == neg_label and truth == pos_label:\n",
    "           FN += 1\n",
    "\n",
    "    precision = TP / (TP + FP)\n",
    "    sensitivity = TP / (TP + FN)\n",
    "    \n",
    "    return {\n",
    "        'true_pos': TP,\n",
    "        'false_pos': FP,\n",
    "        'false_neg': FN,\n",
    "        'true_neg': TN,\n",
    "        'precision': precision,\n",
    "        'sensitivity': sensitivity,\n",
    "        'f1': (2 * (precision * sensitivity)) / (precision + sensitivity)\n",
    "    }\n",
    "\n",
    "score = evaluate(y_test, predictions, pos_label=-1, neg_label=1)"
   ]
  },
  {
   "cell_type": "markdown",
   "id": "93596516",
   "metadata": {
    "papermill": {
     "duration": 0.023525,
     "end_time": "2021-04-04T23:11:01.788043",
     "exception": false,
     "start_time": "2021-04-04T23:11:01.764518",
     "status": "completed"
    },
    "tags": []
   },
   "source": [
    "# Report"
   ]
  },
  {
   "cell_type": "code",
   "execution_count": 28,
   "id": "bea5fba1",
   "metadata": {
    "execution": {
     "iopub.execute_input": "2021-04-04T23:11:01.845245Z",
     "iopub.status.busy": "2021-04-04T23:11:01.843964Z",
     "iopub.status.idle": "2021-04-04T23:11:01.846990Z",
     "shell.execute_reply": "2021-04-04T23:11:01.847748Z"
    },
    "papermill": {
     "duration": 0.035604,
     "end_time": "2021-04-04T23:11:01.847974",
     "exception": false,
     "start_time": "2021-04-04T23:11:01.812370",
     "status": "completed"
    },
    "tags": []
   },
   "outputs": [],
   "source": [
    "import csv\n",
    "\n",
    "\n",
    "dataset_config_name = DATASET_CONFIG_PATH.split('/')[-1].split('.')[0]\n",
    "model_config_name = MODEL_CONFIG_PATH.split('/')[-1].split('.')[0]\n",
    "configuration = f\"dataset_{dataset_config_name}-model_{model_config_name}\"\n",
    "\n",
    "with open('results.csv', 'a') as f:\n",
    "    report = dict({'configuration': configuration}, **score)\n",
    "    writer = csv.DictWriter(f, report.keys())\n",
    "    writer.writerow(report)"
   ]
  }
 ],
 "metadata": {
  "celltoolbar": "Tags",
  "kernelspec": {
   "display_name": "Python 3",
   "language": "python",
   "name": "python3"
  },
  "language_info": {
   "codemirror_mode": {
    "name": "ipython",
    "version": 3
   },
   "file_extension": ".py",
   "mimetype": "text/x-python",
   "name": "python",
   "nbconvert_exporter": "python",
   "pygments_lexer": "ipython3",
   "version": "3.9.1"
  },
  "papermill": {
   "default_parameters": {},
   "duration": 6.042236,
   "end_time": "2021-04-04T23:11:03.317201",
   "environment_variables": {},
   "exception": null,
   "input_path": "main.ipynb",
   "output_path": "runs/dataset_000095-model_000003.ipynb",
   "parameters": {
    "DATASET_CONFIG_PATH": "config/dataset/000095.json",
    "MODEL_CONFIG_PATH": "config/model/000003.json",
    "PROFILE_REPORTING": false
   },
   "start_time": "2021-04-04T23:10:57.274965",
   "version": "2.3.3"
  }
 },
 "nbformat": 4,
 "nbformat_minor": 5
}