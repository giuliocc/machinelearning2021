{
 "cells": [
  {
   "cell_type": "markdown",
   "id": "51c71c25",
   "metadata": {
    "papermill": {
     "duration": 0.022232,
     "end_time": "2021-04-04T23:14:11.025003",
     "exception": false,
     "start_time": "2021-04-04T23:14:11.002771",
     "status": "completed"
    },
    "tags": []
   },
   "source": [
    "# Parametrizing"
   ]
  },
  {
   "cell_type": "code",
   "execution_count": 1,
   "id": "3b136394",
   "metadata": {
    "execution": {
     "iopub.execute_input": "2021-04-04T23:14:11.075073Z",
     "iopub.status.busy": "2021-04-04T23:14:11.071887Z",
     "iopub.status.idle": "2021-04-04T23:14:11.078917Z",
     "shell.execute_reply": "2021-04-04T23:14:11.077858Z"
    },
    "papermill": {
     "duration": 0.034564,
     "end_time": "2021-04-04T23:14:11.079123",
     "exception": false,
     "start_time": "2021-04-04T23:14:11.044559",
     "status": "completed"
    },
    "tags": [
     "parameters"
    ]
   },
   "outputs": [],
   "source": [
    "DATASET_CONFIG_PATH = 'config/dataset/kc1_001.json'\n",
    "MODEL_CONFIG_PATH = 'config/model/knndd_001.json'\n",
    "PROFILE_REPORTING = False"
   ]
  },
  {
   "cell_type": "code",
   "execution_count": 2,
   "id": "5470e69f",
   "metadata": {
    "execution": {
     "iopub.execute_input": "2021-04-04T23:14:11.126236Z",
     "iopub.status.busy": "2021-04-04T23:14:11.125528Z",
     "iopub.status.idle": "2021-04-04T23:14:11.127614Z",
     "shell.execute_reply": "2021-04-04T23:14:11.128309Z"
    },
    "papermill": {
     "duration": 0.026568,
     "end_time": "2021-04-04T23:14:11.128507",
     "exception": false,
     "start_time": "2021-04-04T23:14:11.101939",
     "status": "completed"
    },
    "tags": [
     "injected-parameters"
    ]
   },
   "outputs": [],
   "source": [
    "# Parameters\n",
    "DATASET_CONFIG_PATH = \"config/dataset/000104.json\"\n",
    "MODEL_CONFIG_PATH = \"config/model/000001.json\"\n",
    "PROFILE_REPORTING = False\n"
   ]
  },
  {
   "cell_type": "code",
   "execution_count": 3,
   "id": "b80f2a10",
   "metadata": {
    "execution": {
     "iopub.execute_input": "2021-04-04T23:14:11.176774Z",
     "iopub.status.busy": "2021-04-04T23:14:11.176136Z",
     "iopub.status.idle": "2021-04-04T23:14:11.179217Z",
     "shell.execute_reply": "2021-04-04T23:14:11.180015Z"
    },
    "papermill": {
     "duration": 0.028622,
     "end_time": "2021-04-04T23:14:11.180238",
     "exception": false,
     "start_time": "2021-04-04T23:14:11.151616",
     "status": "completed"
    },
    "tags": []
   },
   "outputs": [],
   "source": [
    "import json\n",
    "\n",
    "\n",
    "with open(DATASET_CONFIG_PATH) as f:\n",
    "    dataset_config = json.load(f)\n",
    "\n",
    "with open(MODEL_CONFIG_PATH) as f:\n",
    "    model_config = json.load(f)"
   ]
  },
  {
   "cell_type": "markdown",
   "id": "9a4b0e2d",
   "metadata": {
    "papermill": {
     "duration": 0.01932,
     "end_time": "2021-04-04T23:14:11.226517",
     "exception": false,
     "start_time": "2021-04-04T23:14:11.207197",
     "status": "completed"
    },
    "tags": []
   },
   "source": [
    "# Profiling"
   ]
  },
  {
   "cell_type": "code",
   "execution_count": 4,
   "id": "a3e0289b",
   "metadata": {
    "execution": {
     "iopub.execute_input": "2021-04-04T23:14:11.271259Z",
     "iopub.status.busy": "2021-04-04T23:14:11.270398Z",
     "iopub.status.idle": "2021-04-04T23:14:12.549373Z",
     "shell.execute_reply": "2021-04-04T23:14:12.548705Z"
    },
    "papermill": {
     "duration": 1.303393,
     "end_time": "2021-04-04T23:14:12.549501",
     "exception": false,
     "start_time": "2021-04-04T23:14:11.246108",
     "status": "completed"
    },
    "tags": []
   },
   "outputs": [],
   "source": [
    "import pandas as pd\n",
    "from pandas_profiling import ProfileReport"
   ]
  },
  {
   "cell_type": "code",
   "execution_count": 5,
   "id": "ee6c0666",
   "metadata": {
    "execution": {
     "iopub.execute_input": "2021-04-04T23:14:12.595145Z",
     "iopub.status.busy": "2021-04-04T23:14:12.594457Z",
     "iopub.status.idle": "2021-04-04T23:14:12.605476Z",
     "shell.execute_reply": "2021-04-04T23:14:12.604834Z"
    },
    "papermill": {
     "duration": 0.035618,
     "end_time": "2021-04-04T23:14:12.605624",
     "exception": false,
     "start_time": "2021-04-04T23:14:12.570006",
     "status": "completed"
    },
    "tags": []
   },
   "outputs": [],
   "source": [
    "df = pd.read_csv(dataset_config['dataset_path'])"
   ]
  },
  {
   "cell_type": "code",
   "execution_count": 6,
   "id": "7eca6c4a",
   "metadata": {
    "execution": {
     "iopub.execute_input": "2021-04-04T23:14:12.664421Z",
     "iopub.status.busy": "2021-04-04T23:14:12.651876Z",
     "iopub.status.idle": "2021-04-04T23:14:12.668354Z",
     "shell.execute_reply": "2021-04-04T23:14:12.669303Z"
    },
    "papermill": {
     "duration": 0.04357,
     "end_time": "2021-04-04T23:14:12.669549",
     "exception": false,
     "start_time": "2021-04-04T23:14:12.625979",
     "status": "completed"
    },
    "tags": []
   },
   "outputs": [
    {
     "name": "stdout",
     "output_type": "stream",
     "text": [
      "<class 'pandas.core.frame.DataFrame'>\n",
      "RangeIndex: 498 entries, 0 to 497\n",
      "Data columns (total 23 columns):\n",
      " #   Column             Non-Null Count  Dtype  \n",
      "---  ------             --------------  -----  \n",
      " 0   id                 498 non-null    int64  \n",
      " 1   loc                498 non-null    float64\n",
      " 2   v(g)               498 non-null    float64\n",
      " 3   ev(g)              498 non-null    float64\n",
      " 4   iv(g)              498 non-null    float64\n",
      " 5   n                  498 non-null    float64\n",
      " 6   v                  498 non-null    float64\n",
      " 7   l                  498 non-null    float64\n",
      " 8   d                  498 non-null    float64\n",
      " 9   i                  498 non-null    float64\n",
      " 10  e                  498 non-null    float64\n",
      " 11  b                  498 non-null    float64\n",
      " 12  t                  498 non-null    float64\n",
      " 13  lOCode             498 non-null    int64  \n",
      " 14  lOComment          498 non-null    int64  \n",
      " 15  lOBlank            498 non-null    int64  \n",
      " 16  locCodeAndComment  498 non-null    int64  \n",
      " 17  uniq_Op            498 non-null    float64\n",
      " 18  uniq_Opnd          498 non-null    float64\n",
      " 19  total_Op           498 non-null    float64\n",
      " 20  total_Opnd         498 non-null    float64\n",
      " 21  branchCount        498 non-null    float64\n",
      " 22  defects            498 non-null    bool   \n",
      "dtypes: bool(1), float64(17), int64(5)\n",
      "memory usage: 86.2 KB\n"
     ]
    }
   ],
   "source": [
    "df.info()"
   ]
  },
  {
   "cell_type": "code",
   "execution_count": 7,
   "id": "3638e5e8",
   "metadata": {
    "execution": {
     "iopub.execute_input": "2021-04-04T23:14:12.727887Z",
     "iopub.status.busy": "2021-04-04T23:14:12.726915Z",
     "iopub.status.idle": "2021-04-04T23:14:12.761320Z",
     "shell.execute_reply": "2021-04-04T23:14:12.760181Z"
    },
    "papermill": {
     "duration": 0.064381,
     "end_time": "2021-04-04T23:14:12.761498",
     "exception": false,
     "start_time": "2021-04-04T23:14:12.697117",
     "status": "completed"
    },
    "tags": []
   },
   "outputs": [
    {
     "data": {
      "text/html": [
       "<div>\n",
       "<style scoped>\n",
       "    .dataframe tbody tr th:only-of-type {\n",
       "        vertical-align: middle;\n",
       "    }\n",
       "\n",
       "    .dataframe tbody tr th {\n",
       "        vertical-align: top;\n",
       "    }\n",
       "\n",
       "    .dataframe thead th {\n",
       "        text-align: right;\n",
       "    }\n",
       "</style>\n",
       "<table border=\"1\" class=\"dataframe\">\n",
       "  <thead>\n",
       "    <tr style=\"text-align: right;\">\n",
       "      <th></th>\n",
       "      <th>id</th>\n",
       "      <th>loc</th>\n",
       "      <th>v(g)</th>\n",
       "      <th>ev(g)</th>\n",
       "      <th>iv(g)</th>\n",
       "      <th>n</th>\n",
       "      <th>v</th>\n",
       "      <th>l</th>\n",
       "      <th>d</th>\n",
       "      <th>i</th>\n",
       "      <th>...</th>\n",
       "      <th>lOCode</th>\n",
       "      <th>lOComment</th>\n",
       "      <th>lOBlank</th>\n",
       "      <th>locCodeAndComment</th>\n",
       "      <th>uniq_Op</th>\n",
       "      <th>uniq_Opnd</th>\n",
       "      <th>total_Op</th>\n",
       "      <th>total_Opnd</th>\n",
       "      <th>branchCount</th>\n",
       "      <th>defects</th>\n",
       "    </tr>\n",
       "  </thead>\n",
       "  <tbody>\n",
       "    <tr>\n",
       "      <th>0</th>\n",
       "      <td>1</td>\n",
       "      <td>1.1</td>\n",
       "      <td>1.4</td>\n",
       "      <td>1.4</td>\n",
       "      <td>1.4</td>\n",
       "      <td>1.3</td>\n",
       "      <td>1.30</td>\n",
       "      <td>1.30</td>\n",
       "      <td>1.30</td>\n",
       "      <td>1.30</td>\n",
       "      <td>...</td>\n",
       "      <td>2</td>\n",
       "      <td>2</td>\n",
       "      <td>2</td>\n",
       "      <td>2</td>\n",
       "      <td>1.2</td>\n",
       "      <td>1.2</td>\n",
       "      <td>1.2</td>\n",
       "      <td>1.2</td>\n",
       "      <td>1.4</td>\n",
       "      <td>False</td>\n",
       "    </tr>\n",
       "    <tr>\n",
       "      <th>1</th>\n",
       "      <td>2</td>\n",
       "      <td>1.0</td>\n",
       "      <td>1.0</td>\n",
       "      <td>1.0</td>\n",
       "      <td>1.0</td>\n",
       "      <td>1.0</td>\n",
       "      <td>1.00</td>\n",
       "      <td>1.00</td>\n",
       "      <td>1.00</td>\n",
       "      <td>1.00</td>\n",
       "      <td>...</td>\n",
       "      <td>1</td>\n",
       "      <td>1</td>\n",
       "      <td>1</td>\n",
       "      <td>1</td>\n",
       "      <td>1.0</td>\n",
       "      <td>1.0</td>\n",
       "      <td>1.0</td>\n",
       "      <td>1.0</td>\n",
       "      <td>1.0</td>\n",
       "      <td>True</td>\n",
       "    </tr>\n",
       "    <tr>\n",
       "      <th>2</th>\n",
       "      <td>3</td>\n",
       "      <td>24.0</td>\n",
       "      <td>5.0</td>\n",
       "      <td>1.0</td>\n",
       "      <td>3.0</td>\n",
       "      <td>63.0</td>\n",
       "      <td>309.13</td>\n",
       "      <td>0.11</td>\n",
       "      <td>9.50</td>\n",
       "      <td>32.54</td>\n",
       "      <td>...</td>\n",
       "      <td>1</td>\n",
       "      <td>0</td>\n",
       "      <td>6</td>\n",
       "      <td>0</td>\n",
       "      <td>15.0</td>\n",
       "      <td>15.0</td>\n",
       "      <td>44.0</td>\n",
       "      <td>19.0</td>\n",
       "      <td>9.0</td>\n",
       "      <td>False</td>\n",
       "    </tr>\n",
       "    <tr>\n",
       "      <th>3</th>\n",
       "      <td>4</td>\n",
       "      <td>20.0</td>\n",
       "      <td>4.0</td>\n",
       "      <td>4.0</td>\n",
       "      <td>2.0</td>\n",
       "      <td>47.0</td>\n",
       "      <td>215.49</td>\n",
       "      <td>0.06</td>\n",
       "      <td>16.00</td>\n",
       "      <td>13.47</td>\n",
       "      <td>...</td>\n",
       "      <td>0</td>\n",
       "      <td>0</td>\n",
       "      <td>3</td>\n",
       "      <td>0</td>\n",
       "      <td>16.0</td>\n",
       "      <td>8.0</td>\n",
       "      <td>31.0</td>\n",
       "      <td>16.0</td>\n",
       "      <td>7.0</td>\n",
       "      <td>False</td>\n",
       "    </tr>\n",
       "    <tr>\n",
       "      <th>4</th>\n",
       "      <td>5</td>\n",
       "      <td>24.0</td>\n",
       "      <td>6.0</td>\n",
       "      <td>6.0</td>\n",
       "      <td>2.0</td>\n",
       "      <td>72.0</td>\n",
       "      <td>346.13</td>\n",
       "      <td>0.06</td>\n",
       "      <td>17.33</td>\n",
       "      <td>19.97</td>\n",
       "      <td>...</td>\n",
       "      <td>0</td>\n",
       "      <td>0</td>\n",
       "      <td>3</td>\n",
       "      <td>0</td>\n",
       "      <td>16.0</td>\n",
       "      <td>12.0</td>\n",
       "      <td>46.0</td>\n",
       "      <td>26.0</td>\n",
       "      <td>11.0</td>\n",
       "      <td>False</td>\n",
       "    </tr>\n",
       "  </tbody>\n",
       "</table>\n",
       "<p>5 rows × 23 columns</p>\n",
       "</div>"
      ],
      "text/plain": [
       "   id   loc  v(g)  ev(g)  iv(g)     n       v     l      d      i  ...  \\\n",
       "0   1   1.1   1.4    1.4    1.4   1.3    1.30  1.30   1.30   1.30  ...   \n",
       "1   2   1.0   1.0    1.0    1.0   1.0    1.00  1.00   1.00   1.00  ...   \n",
       "2   3  24.0   5.0    1.0    3.0  63.0  309.13  0.11   9.50  32.54  ...   \n",
       "3   4  20.0   4.0    4.0    2.0  47.0  215.49  0.06  16.00  13.47  ...   \n",
       "4   5  24.0   6.0    6.0    2.0  72.0  346.13  0.06  17.33  19.97  ...   \n",
       "\n",
       "   lOCode  lOComment  lOBlank  locCodeAndComment  uniq_Op  uniq_Opnd  \\\n",
       "0       2          2        2                  2      1.2        1.2   \n",
       "1       1          1        1                  1      1.0        1.0   \n",
       "2       1          0        6                  0     15.0       15.0   \n",
       "3       0          0        3                  0     16.0        8.0   \n",
       "4       0          0        3                  0     16.0       12.0   \n",
       "\n",
       "   total_Op  total_Opnd  branchCount  defects  \n",
       "0       1.2         1.2          1.4    False  \n",
       "1       1.0         1.0          1.0     True  \n",
       "2      44.0        19.0          9.0    False  \n",
       "3      31.0        16.0          7.0    False  \n",
       "4      46.0        26.0         11.0    False  \n",
       "\n",
       "[5 rows x 23 columns]"
      ]
     },
     "execution_count": 7,
     "metadata": {},
     "output_type": "execute_result"
    }
   ],
   "source": [
    "df.head()"
   ]
  },
  {
   "cell_type": "code",
   "execution_count": 8,
   "id": "733e95eb",
   "metadata": {
    "execution": {
     "iopub.execute_input": "2021-04-04T23:14:12.809747Z",
     "iopub.status.busy": "2021-04-04T23:14:12.808575Z",
     "iopub.status.idle": "2021-04-04T23:14:12.812560Z",
     "shell.execute_reply": "2021-04-04T23:14:12.813441Z"
    },
    "papermill": {
     "duration": 0.030684,
     "end_time": "2021-04-04T23:14:12.813646",
     "exception": false,
     "start_time": "2021-04-04T23:14:12.782962",
     "status": "completed"
    },
    "tags": []
   },
   "outputs": [],
   "source": [
    "del df['id']"
   ]
  },
  {
   "cell_type": "code",
   "execution_count": 9,
   "id": "6ff6f5b0",
   "metadata": {
    "execution": {
     "iopub.execute_input": "2021-04-04T23:14:12.865946Z",
     "iopub.status.busy": "2021-04-04T23:14:12.864767Z",
     "iopub.status.idle": "2021-04-04T23:14:12.867715Z",
     "shell.execute_reply": "2021-04-04T23:14:12.867123Z"
    },
    "papermill": {
     "duration": 0.028117,
     "end_time": "2021-04-04T23:14:12.867834",
     "exception": false,
     "start_time": "2021-04-04T23:14:12.839717",
     "status": "completed"
    },
    "tags": []
   },
   "outputs": [],
   "source": [
    "if PROFILE_REPORTING:\n",
    "    ProfileReport(df).to_widgets()"
   ]
  },
  {
   "cell_type": "markdown",
   "id": "1deaf3f0",
   "metadata": {
    "papermill": {
     "duration": 0.021537,
     "end_time": "2021-04-04T23:14:12.912066",
     "exception": false,
     "start_time": "2021-04-04T23:14:12.890529",
     "status": "completed"
    },
    "tags": []
   },
   "source": [
    "# Preprocess"
   ]
  },
  {
   "cell_type": "code",
   "execution_count": 10,
   "id": "1513e563",
   "metadata": {
    "execution": {
     "iopub.execute_input": "2021-04-04T23:14:12.959976Z",
     "iopub.status.busy": "2021-04-04T23:14:12.959043Z",
     "iopub.status.idle": "2021-04-04T23:14:12.963103Z",
     "shell.execute_reply": "2021-04-04T23:14:12.962362Z"
    },
    "papermill": {
     "duration": 0.030011,
     "end_time": "2021-04-04T23:14:12.963270",
     "exception": false,
     "start_time": "2021-04-04T23:14:12.933259",
     "status": "completed"
    },
    "tags": []
   },
   "outputs": [],
   "source": [
    "working_df = df.copy()"
   ]
  },
  {
   "cell_type": "code",
   "execution_count": 11,
   "id": "3b26d675",
   "metadata": {
    "execution": {
     "iopub.execute_input": "2021-04-04T23:14:13.018160Z",
     "iopub.status.busy": "2021-04-04T23:14:13.017232Z",
     "iopub.status.idle": "2021-04-04T23:14:13.020985Z",
     "shell.execute_reply": "2021-04-04T23:14:13.020186Z"
    },
    "papermill": {
     "duration": 0.032247,
     "end_time": "2021-04-04T23:14:13.021166",
     "exception": false,
     "start_time": "2021-04-04T23:14:12.988919",
     "status": "completed"
    },
    "tags": []
   },
   "outputs": [],
   "source": [
    "working_df['defects'] = working_df['defects'].replace([False, True], [0, 1])"
   ]
  },
  {
   "cell_type": "code",
   "execution_count": 12,
   "id": "eb48604f",
   "metadata": {
    "execution": {
     "iopub.execute_input": "2021-04-04T23:14:13.072901Z",
     "iopub.status.busy": "2021-04-04T23:14:13.072297Z",
     "iopub.status.idle": "2021-04-04T23:14:13.075073Z",
     "shell.execute_reply": "2021-04-04T23:14:13.075785Z"
    },
    "papermill": {
     "duration": 0.028919,
     "end_time": "2021-04-04T23:14:13.075986",
     "exception": false,
     "start_time": "2021-04-04T23:14:13.047067",
     "status": "completed"
    },
    "tags": []
   },
   "outputs": [],
   "source": [
    "for col in dataset_config['delete_columns']:\n",
    "    del working_df[col]"
   ]
  },
  {
   "cell_type": "code",
   "execution_count": 13,
   "id": "9a17bc29",
   "metadata": {
    "execution": {
     "iopub.execute_input": "2021-04-04T23:14:13.134262Z",
     "iopub.status.busy": "2021-04-04T23:14:13.133260Z",
     "iopub.status.idle": "2021-04-04T23:14:13.146688Z",
     "shell.execute_reply": "2021-04-04T23:14:13.145903Z"
    },
    "papermill": {
     "duration": 0.040864,
     "end_time": "2021-04-04T23:14:13.146911",
     "exception": false,
     "start_time": "2021-04-04T23:14:13.106047",
     "status": "completed"
    },
    "tags": []
   },
   "outputs": [],
   "source": [
    "working_df = working_df.drop_duplicates()"
   ]
  },
  {
   "cell_type": "markdown",
   "id": "a4d52ca6",
   "metadata": {
    "papermill": {
     "duration": 0.021162,
     "end_time": "2021-04-04T23:14:13.198927",
     "exception": false,
     "start_time": "2021-04-04T23:14:13.177765",
     "status": "completed"
    },
    "tags": []
   },
   "source": [
    "# Split"
   ]
  },
  {
   "cell_type": "code",
   "execution_count": 14,
   "id": "3e9ee4b5",
   "metadata": {
    "execution": {
     "iopub.execute_input": "2021-04-04T23:14:13.247750Z",
     "iopub.status.busy": "2021-04-04T23:14:13.246767Z",
     "iopub.status.idle": "2021-04-04T23:14:13.284723Z",
     "shell.execute_reply": "2021-04-04T23:14:13.283834Z"
    },
    "papermill": {
     "duration": 0.064442,
     "end_time": "2021-04-04T23:14:13.284895",
     "exception": false,
     "start_time": "2021-04-04T23:14:13.220453",
     "status": "completed"
    },
    "tags": []
   },
   "outputs": [],
   "source": [
    "from sklearn.model_selection import train_test_split"
   ]
  },
  {
   "cell_type": "code",
   "execution_count": 15,
   "id": "274004ce",
   "metadata": {
    "execution": {
     "iopub.execute_input": "2021-04-04T23:14:13.341701Z",
     "iopub.status.busy": "2021-04-04T23:14:13.341062Z",
     "iopub.status.idle": "2021-04-04T23:14:13.348977Z",
     "shell.execute_reply": "2021-04-04T23:14:13.348171Z"
    },
    "papermill": {
     "duration": 0.035611,
     "end_time": "2021-04-04T23:14:13.349183",
     "exception": false,
     "start_time": "2021-04-04T23:14:13.313572",
     "status": "completed"
    },
    "scrolled": true,
    "tags": []
   },
   "outputs": [],
   "source": [
    "inlier, outlier = working_df[working_df['defects'] == 0], working_df[working_df['defects'] == 1]"
   ]
  },
  {
   "cell_type": "code",
   "execution_count": 16,
   "id": "753c7b03",
   "metadata": {
    "execution": {
     "iopub.execute_input": "2021-04-04T23:14:13.408077Z",
     "iopub.status.busy": "2021-04-04T23:14:13.406780Z",
     "iopub.status.idle": "2021-04-04T23:14:13.410311Z",
     "shell.execute_reply": "2021-04-04T23:14:13.409541Z"
    },
    "papermill": {
     "duration": 0.034283,
     "end_time": "2021-04-04T23:14:13.410476",
     "exception": false,
     "start_time": "2021-04-04T23:14:13.376193",
     "status": "completed"
    },
    "tags": []
   },
   "outputs": [],
   "source": [
    "X_inlier = inlier.copy()\n",
    "y_inlier = X_inlier.pop('defects')\n",
    "X_outlier = outlier.copy()\n",
    "y_outlier = X_outlier.pop('defects')"
   ]
  },
  {
   "cell_type": "code",
   "execution_count": 17,
   "id": "2ba43193",
   "metadata": {
    "execution": {
     "iopub.execute_input": "2021-04-04T23:14:13.467331Z",
     "iopub.status.busy": "2021-04-04T23:14:13.466528Z",
     "iopub.status.idle": "2021-04-04T23:14:13.469887Z",
     "shell.execute_reply": "2021-04-04T23:14:13.470379Z"
    },
    "papermill": {
     "duration": 0.033494,
     "end_time": "2021-04-04T23:14:13.470531",
     "exception": false,
     "start_time": "2021-04-04T23:14:13.437037",
     "status": "completed"
    },
    "tags": []
   },
   "outputs": [],
   "source": [
    "test_size = dataset_config['test_size']\n",
    "random_state = dataset_config['random_state']\n",
    "\n",
    "X_inlier_train, X_inlier_test, y_inlier_train, y_inlier_test = train_test_split(\n",
    "    X_inlier,\n",
    "    y_inlier,\n",
    "    test_size=test_size,\n",
    "    random_state=random_state\n",
    ")"
   ]
  },
  {
   "cell_type": "code",
   "execution_count": 18,
   "id": "0b7582ca",
   "metadata": {
    "execution": {
     "iopub.execute_input": "2021-04-04T23:14:13.525347Z",
     "iopub.status.busy": "2021-04-04T23:14:13.524481Z",
     "iopub.status.idle": "2021-04-04T23:14:13.527207Z",
     "shell.execute_reply": "2021-04-04T23:14:13.527945Z"
    },
    "papermill": {
     "duration": 0.035024,
     "end_time": "2021-04-04T23:14:13.528179",
     "exception": false,
     "start_time": "2021-04-04T23:14:13.493155",
     "status": "completed"
    },
    "tags": []
   },
   "outputs": [],
   "source": [
    "test_outlier_size = dataset_config['test_outlier_size']\n",
    "if test_outlier_size > 0.0:\n",
    "    X_outlier_train, X_outlier_test, y_outlier_train, y_outlier_test = train_test_split(\n",
    "        X_outlier,\n",
    "        y_outlier,\n",
    "        test_size=test_outlier_size,\n",
    "        random_state=random_state\n",
    "    )\n",
    "else:\n",
    "    X_outlier_train, y_outlier_train = pd.DataFrame(columns=X_outlier.columns), pd.Series(dtype='int64')\n",
    "    X_outlier_test, y_outlier_test = X_outlier.copy(), y_outlier.copy()"
   ]
  },
  {
   "cell_type": "code",
   "execution_count": 19,
   "id": "c34363db",
   "metadata": {
    "execution": {
     "iopub.execute_input": "2021-04-04T23:14:13.588704Z",
     "iopub.status.busy": "2021-04-04T23:14:13.587704Z",
     "iopub.status.idle": "2021-04-04T23:14:13.590061Z",
     "shell.execute_reply": "2021-04-04T23:14:13.590757Z"
    },
    "papermill": {
     "duration": 0.035922,
     "end_time": "2021-04-04T23:14:13.590956",
     "exception": false,
     "start_time": "2021-04-04T23:14:13.555034",
     "status": "completed"
    },
    "tags": []
   },
   "outputs": [],
   "source": [
    "X_train, y_train = pd.concat([X_inlier_train, X_outlier_train], ignore_index=True), pd.concat([y_inlier_train, y_outlier_train], ignore_index=True)\n",
    "X_test, y_test = pd.concat([X_inlier_test, X_outlier_test], ignore_index=True), pd.concat([y_inlier_test, y_outlier_test], ignore_index=True)"
   ]
  },
  {
   "cell_type": "markdown",
   "id": "7cde7309",
   "metadata": {
    "papermill": {
     "duration": 0.022256,
     "end_time": "2021-04-04T23:14:13.638096",
     "exception": false,
     "start_time": "2021-04-04T23:14:13.615840",
     "status": "completed"
    },
    "tags": []
   },
   "source": [
    "# Model"
   ]
  },
  {
   "cell_type": "code",
   "execution_count": 20,
   "id": "2b12a415",
   "metadata": {
    "execution": {
     "iopub.execute_input": "2021-04-04T23:14:13.696568Z",
     "iopub.status.busy": "2021-04-04T23:14:13.695928Z",
     "iopub.status.idle": "2021-04-04T23:14:13.698785Z",
     "shell.execute_reply": "2021-04-04T23:14:13.699613Z"
    },
    "papermill": {
     "duration": 0.039738,
     "end_time": "2021-04-04T23:14:13.699862",
     "exception": false,
     "start_time": "2021-04-04T23:14:13.660124",
     "status": "completed"
    },
    "tags": []
   },
   "outputs": [],
   "source": [
    "from math import sqrt\n",
    "\n",
    "\n",
    "class KNNDataDescription:\n",
    "    def __init__(self, k=5, outlier_threshold=1.0):\n",
    "        self.k = k\n",
    "        self.outlier_threshold = outlier_threshold\n",
    "        self.X = []\n",
    "    \n",
    "    def fit(self, X):\n",
    "        self.X = [features.to_list() for index, features in X.iterrows()]\n",
    "\n",
    "    def predict(self, entries):\n",
    "        return [self.predict_entry(features.to_list()) for index, features in entries.iterrows()]\n",
    "    \n",
    "    def predict_entry(self, entry):\n",
    "        kth_neighbor, kth_distance = self.get_kth_neighbor(entry, self.k)\n",
    "        kth_kth_neighbor, kth_kth_distance = self.get_kth_neighbor(kth_neighbor, self.k + 1)\n",
    "\n",
    "        outlier_score = kth_distance / (kth_kth_distance + 0.000001)\n",
    "\n",
    "        return 1 if outlier_score < self.outlier_threshold else -1\n",
    "        \n",
    "    def euclidean_distance(self, features1, features2):\n",
    "        distance = 0.0\n",
    "        for feat1, feat2 in zip(features1, features2):\n",
    "            distance += (feat1 - feat2)**2\n",
    "                \n",
    "        return sqrt(distance)\n",
    "\n",
    "    def get_neighbors(self, entry, k):\n",
    "        distance_to_data_points = [\n",
    "            (data_point, self.euclidean_distance(entry, data_point))\n",
    "            for data_point in self.X\n",
    "        ]\n",
    "        sorted_by_distance = sorted(distance_to_data_points, key=lambda tup: tup[1])\n",
    "        neighbors = sorted_by_distance[:k]\n",
    "        return neighbors\n",
    "\n",
    "    def get_kth_neighbor(self, entry, k):\n",
    "        neighbors = self.get_neighbors(entry, k)\n",
    "        return neighbors[-1]\n"
   ]
  },
  {
   "cell_type": "code",
   "execution_count": 21,
   "id": "1fa9ec1c",
   "metadata": {
    "execution": {
     "iopub.execute_input": "2021-04-04T23:14:13.765826Z",
     "iopub.status.busy": "2021-04-04T23:14:13.765018Z",
     "iopub.status.idle": "2021-04-04T23:14:13.784848Z",
     "shell.execute_reply": "2021-04-04T23:14:13.785328Z"
    },
    "papermill": {
     "duration": 0.054755,
     "end_time": "2021-04-04T23:14:13.785473",
     "exception": false,
     "start_time": "2021-04-04T23:14:13.730718",
     "status": "completed"
    },
    "tags": []
   },
   "outputs": [],
   "source": [
    "from sklearn.svm import OneClassSVM\n",
    "\n",
    "\n",
    "models = {\n",
    "    'oneclasssvm': OneClassSVM,\n",
    "    'knndatadescription': KNNDataDescription,\n",
    "}"
   ]
  },
  {
   "cell_type": "code",
   "execution_count": 22,
   "id": "4d72a0b1",
   "metadata": {
    "execution": {
     "iopub.execute_input": "2021-04-04T23:14:13.838244Z",
     "iopub.status.busy": "2021-04-04T23:14:13.837267Z",
     "iopub.status.idle": "2021-04-04T23:14:13.840363Z",
     "shell.execute_reply": "2021-04-04T23:14:13.839799Z"
    },
    "papermill": {
     "duration": 0.030957,
     "end_time": "2021-04-04T23:14:13.840493",
     "exception": false,
     "start_time": "2021-04-04T23:14:13.809536",
     "status": "completed"
    },
    "scrolled": true,
    "tags": []
   },
   "outputs": [],
   "source": [
    "model_cls = models[model_config['model_type']]\n",
    "model = model_cls(**model_config['hyperparameters'])"
   ]
  },
  {
   "cell_type": "markdown",
   "id": "e00cff3b",
   "metadata": {
    "papermill": {
     "duration": 0.022601,
     "end_time": "2021-04-04T23:14:13.886716",
     "exception": false,
     "start_time": "2021-04-04T23:14:13.864115",
     "status": "completed"
    },
    "tags": []
   },
   "source": [
    "# Fit"
   ]
  },
  {
   "cell_type": "code",
   "execution_count": 23,
   "id": "8b2ded89",
   "metadata": {
    "execution": {
     "iopub.execute_input": "2021-04-04T23:14:13.957603Z",
     "iopub.status.busy": "2021-04-04T23:14:13.951962Z",
     "iopub.status.idle": "2021-04-04T23:14:13.960850Z",
     "shell.execute_reply": "2021-04-04T23:14:13.961882Z"
    },
    "papermill": {
     "duration": 0.052815,
     "end_time": "2021-04-04T23:14:13.962159",
     "exception": false,
     "start_time": "2021-04-04T23:14:13.909344",
     "status": "completed"
    },
    "tags": []
   },
   "outputs": [],
   "source": [
    "model.fit(X_train)"
   ]
  },
  {
   "cell_type": "markdown",
   "id": "f99999f7",
   "metadata": {
    "papermill": {
     "duration": 0.022509,
     "end_time": "2021-04-04T23:14:14.015786",
     "exception": false,
     "start_time": "2021-04-04T23:14:13.993277",
     "status": "completed"
    },
    "tags": []
   },
   "source": [
    "# Predict"
   ]
  },
  {
   "cell_type": "code",
   "execution_count": 24,
   "id": "6536fbf7",
   "metadata": {
    "execution": {
     "iopub.execute_input": "2021-04-04T23:14:14.071107Z",
     "iopub.status.busy": "2021-04-04T23:14:14.065424Z",
     "iopub.status.idle": "2021-04-04T23:14:14.414239Z",
     "shell.execute_reply": "2021-04-04T23:14:14.413311Z"
    },
    "papermill": {
     "duration": 0.375879,
     "end_time": "2021-04-04T23:14:14.414414",
     "exception": false,
     "start_time": "2021-04-04T23:14:14.038535",
     "status": "completed"
    },
    "tags": []
   },
   "outputs": [],
   "source": [
    "predictions = model.predict(X_test)"
   ]
  },
  {
   "cell_type": "markdown",
   "id": "aa1c9881",
   "metadata": {
    "papermill": {
     "duration": 0.022645,
     "end_time": "2021-04-04T23:14:14.469702",
     "exception": false,
     "start_time": "2021-04-04T23:14:14.447057",
     "status": "completed"
    },
    "tags": []
   },
   "source": [
    "# Evaluate"
   ]
  },
  {
   "cell_type": "code",
   "execution_count": 25,
   "id": "894f0f04",
   "metadata": {
    "execution": {
     "iopub.execute_input": "2021-04-04T23:14:14.520969Z",
     "iopub.status.busy": "2021-04-04T23:14:14.519985Z",
     "iopub.status.idle": "2021-04-04T23:14:14.522425Z",
     "shell.execute_reply": "2021-04-04T23:14:14.523167Z"
    },
    "papermill": {
     "duration": 0.030982,
     "end_time": "2021-04-04T23:14:14.523374",
     "exception": false,
     "start_time": "2021-04-04T23:14:14.492392",
     "status": "completed"
    },
    "tags": []
   },
   "outputs": [],
   "source": [
    "from sklearn.metrics import f1_score"
   ]
  },
  {
   "cell_type": "code",
   "execution_count": 26,
   "id": "211744d3",
   "metadata": {
    "execution": {
     "iopub.execute_input": "2021-04-04T23:14:14.581445Z",
     "iopub.status.busy": "2021-04-04T23:14:14.580197Z",
     "iopub.status.idle": "2021-04-04T23:14:14.584072Z",
     "shell.execute_reply": "2021-04-04T23:14:14.583046Z"
    },
    "papermill": {
     "duration": 0.032595,
     "end_time": "2021-04-04T23:14:14.584272",
     "exception": false,
     "start_time": "2021-04-04T23:14:14.551677",
     "status": "completed"
    },
    "tags": []
   },
   "outputs": [],
   "source": [
    "y_test = y_test.replace([0, 1], [1, -1])"
   ]
  },
  {
   "cell_type": "code",
   "execution_count": 27,
   "id": "d68a9204",
   "metadata": {
    "execution": {
     "iopub.execute_input": "2021-04-04T23:14:14.646072Z",
     "iopub.status.busy": "2021-04-04T23:14:14.645391Z",
     "iopub.status.idle": "2021-04-04T23:14:14.649217Z",
     "shell.execute_reply": "2021-04-04T23:14:14.648409Z"
    },
    "papermill": {
     "duration": 0.036068,
     "end_time": "2021-04-04T23:14:14.649396",
     "exception": false,
     "start_time": "2021-04-04T23:14:14.613328",
     "status": "completed"
    },
    "tags": []
   },
   "outputs": [],
   "source": [
    "def evaluate(truths, predictions, pos_label, neg_label):\n",
    "    TP = 0\n",
    "    FP = 0\n",
    "    TN = 0\n",
    "    FN = 0\n",
    "\n",
    "    for truth, pred in zip(truths, predictions): \n",
    "        if truth == pred == pos_label:\n",
    "           TP += 1\n",
    "        elif pred == pos_label and truth == neg_label:\n",
    "           FP += 1\n",
    "        elif truth == pred == neg_label:\n",
    "           TN += 1\n",
    "        elif pred == neg_label and truth == pos_label:\n",
    "           FN += 1\n",
    "\n",
    "    precision = TP / (TP + FP)\n",
    "    sensitivity = TP / (TP + FN)\n",
    "    \n",
    "    return {\n",
    "        'true_pos': TP,\n",
    "        'false_pos': FP,\n",
    "        'false_neg': FN,\n",
    "        'true_neg': TN,\n",
    "        'precision': precision,\n",
    "        'sensitivity': sensitivity,\n",
    "        'f1': (2 * (precision * sensitivity)) / (precision + sensitivity)\n",
    "    }\n",
    "\n",
    "score = evaluate(y_test, predictions, pos_label=-1, neg_label=1)"
   ]
  },
  {
   "cell_type": "markdown",
   "id": "93596516",
   "metadata": {
    "papermill": {
     "duration": 0.022863,
     "end_time": "2021-04-04T23:14:14.698714",
     "exception": false,
     "start_time": "2021-04-04T23:14:14.675851",
     "status": "completed"
    },
    "tags": []
   },
   "source": [
    "# Report"
   ]
  },
  {
   "cell_type": "code",
   "execution_count": 28,
   "id": "bea5fba1",
   "metadata": {
    "execution": {
     "iopub.execute_input": "2021-04-04T23:14:14.756026Z",
     "iopub.status.busy": "2021-04-04T23:14:14.755201Z",
     "iopub.status.idle": "2021-04-04T23:14:14.758975Z",
     "shell.execute_reply": "2021-04-04T23:14:14.759884Z"
    },
    "papermill": {
     "duration": 0.038458,
     "end_time": "2021-04-04T23:14:14.760140",
     "exception": false,
     "start_time": "2021-04-04T23:14:14.721682",
     "status": "completed"
    },
    "tags": []
   },
   "outputs": [],
   "source": [
    "import csv\n",
    "\n",
    "\n",
    "dataset_config_name = DATASET_CONFIG_PATH.split('/')[-1].split('.')[0]\n",
    "model_config_name = MODEL_CONFIG_PATH.split('/')[-1].split('.')[0]\n",
    "configuration = f\"dataset_{dataset_config_name}-model_{model_config_name}\"\n",
    "\n",
    "with open('results.csv', 'a') as f:\n",
    "    report = dict({'configuration': configuration}, **score)\n",
    "    writer = csv.DictWriter(f, report.keys())\n",
    "    writer.writerow(report)"
   ]
  }
 ],
 "metadata": {
  "celltoolbar": "Tags",
  "kernelspec": {
   "display_name": "Python 3",
   "language": "python",
   "name": "python3"
  },
  "language_info": {
   "codemirror_mode": {
    "name": "ipython",
    "version": 3
   },
   "file_extension": ".py",
   "mimetype": "text/x-python",
   "name": "python",
   "nbconvert_exporter": "python",
   "pygments_lexer": "ipython3",
   "version": "3.9.1"
  },
  "papermill": {
   "default_parameters": {},
   "duration": 6.049876,
   "end_time": "2021-04-04T23:14:16.377253",
   "environment_variables": {},
   "exception": null,
   "input_path": "main.ipynb",
   "output_path": "runs/dataset_000104-model_000001.ipynb",
   "parameters": {
    "DATASET_CONFIG_PATH": "config/dataset/000104.json",
    "MODEL_CONFIG_PATH": "config/model/000001.json",
    "PROFILE_REPORTING": false
   },
   "start_time": "2021-04-04T23:14:10.327377",
   "version": "2.3.3"
  }
 },
 "nbformat": 4,
 "nbformat_minor": 5
}