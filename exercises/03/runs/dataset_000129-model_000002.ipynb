{
 "cells": [
  {
   "cell_type": "markdown",
   "id": "51c71c25",
   "metadata": {
    "papermill": {
     "duration": 0.022991,
     "end_time": "2021-04-04T23:24:29.119129",
     "exception": false,
     "start_time": "2021-04-04T23:24:29.096138",
     "status": "completed"
    },
    "tags": []
   },
   "source": [
    "# Parametrizing"
   ]
  },
  {
   "cell_type": "code",
   "execution_count": 1,
   "id": "3b136394",
   "metadata": {
    "execution": {
     "iopub.execute_input": "2021-04-04T23:24:29.180636Z",
     "iopub.status.busy": "2021-04-04T23:24:29.179563Z",
     "iopub.status.idle": "2021-04-04T23:24:29.182751Z",
     "shell.execute_reply": "2021-04-04T23:24:29.182063Z"
    },
    "papermill": {
     "duration": 0.040831,
     "end_time": "2021-04-04T23:24:29.182906",
     "exception": false,
     "start_time": "2021-04-04T23:24:29.142075",
     "status": "completed"
    },
    "tags": [
     "parameters"
    ]
   },
   "outputs": [],
   "source": [
    "DATASET_CONFIG_PATH = 'config/dataset/kc1_001.json'\n",
    "MODEL_CONFIG_PATH = 'config/model/knndd_001.json'\n",
    "PROFILE_REPORTING = False"
   ]
  },
  {
   "cell_type": "code",
   "execution_count": 2,
   "id": "43651d62",
   "metadata": {
    "execution": {
     "iopub.execute_input": "2021-04-04T23:24:29.231615Z",
     "iopub.status.busy": "2021-04-04T23:24:29.229494Z",
     "iopub.status.idle": "2021-04-04T23:24:29.234504Z",
     "shell.execute_reply": "2021-04-04T23:24:29.233879Z"
    },
    "papermill": {
     "duration": 0.030391,
     "end_time": "2021-04-04T23:24:29.234637",
     "exception": false,
     "start_time": "2021-04-04T23:24:29.204246",
     "status": "completed"
    },
    "tags": [
     "injected-parameters"
    ]
   },
   "outputs": [],
   "source": [
    "# Parameters\n",
    "DATASET_CONFIG_PATH = \"config/dataset/000129.json\"\n",
    "MODEL_CONFIG_PATH = \"config/model/000002.json\"\n",
    "PROFILE_REPORTING = False\n"
   ]
  },
  {
   "cell_type": "code",
   "execution_count": 3,
   "id": "b80f2a10",
   "metadata": {
    "execution": {
     "iopub.execute_input": "2021-04-04T23:24:29.287037Z",
     "iopub.status.busy": "2021-04-04T23:24:29.286333Z",
     "iopub.status.idle": "2021-04-04T23:24:29.289382Z",
     "shell.execute_reply": "2021-04-04T23:24:29.288841Z"
    },
    "papermill": {
     "duration": 0.034209,
     "end_time": "2021-04-04T23:24:29.289501",
     "exception": false,
     "start_time": "2021-04-04T23:24:29.255292",
     "status": "completed"
    },
    "tags": []
   },
   "outputs": [],
   "source": [
    "import json\n",
    "\n",
    "\n",
    "with open(DATASET_CONFIG_PATH) as f:\n",
    "    dataset_config = json.load(f)\n",
    "\n",
    "with open(MODEL_CONFIG_PATH) as f:\n",
    "    model_config = json.load(f)"
   ]
  },
  {
   "cell_type": "markdown",
   "id": "9a4b0e2d",
   "metadata": {
    "papermill": {
     "duration": 0.022605,
     "end_time": "2021-04-04T23:24:29.331878",
     "exception": false,
     "start_time": "2021-04-04T23:24:29.309273",
     "status": "completed"
    },
    "tags": []
   },
   "source": [
    "# Profiling"
   ]
  },
  {
   "cell_type": "code",
   "execution_count": 4,
   "id": "a3e0289b",
   "metadata": {
    "execution": {
     "iopub.execute_input": "2021-04-04T23:24:29.395557Z",
     "iopub.status.busy": "2021-04-04T23:24:29.394190Z",
     "iopub.status.idle": "2021-04-04T23:24:31.301820Z",
     "shell.execute_reply": "2021-04-04T23:24:31.302598Z"
    },
    "papermill": {
     "duration": 1.944867,
     "end_time": "2021-04-04T23:24:31.302783",
     "exception": false,
     "start_time": "2021-04-04T23:24:29.357916",
     "status": "completed"
    },
    "tags": []
   },
   "outputs": [],
   "source": [
    "import pandas as pd\n",
    "from pandas_profiling import ProfileReport"
   ]
  },
  {
   "cell_type": "code",
   "execution_count": 5,
   "id": "ee6c0666",
   "metadata": {
    "execution": {
     "iopub.execute_input": "2021-04-04T23:24:31.360829Z",
     "iopub.status.busy": "2021-04-04T23:24:31.359412Z",
     "iopub.status.idle": "2021-04-04T23:24:31.373786Z",
     "shell.execute_reply": "2021-04-04T23:24:31.373145Z"
    },
    "papermill": {
     "duration": 0.047131,
     "end_time": "2021-04-04T23:24:31.373942",
     "exception": false,
     "start_time": "2021-04-04T23:24:31.326811",
     "status": "completed"
    },
    "tags": []
   },
   "outputs": [],
   "source": [
    "df = pd.read_csv(dataset_config['dataset_path'])"
   ]
  },
  {
   "cell_type": "code",
   "execution_count": 6,
   "id": "7eca6c4a",
   "metadata": {
    "execution": {
     "iopub.execute_input": "2021-04-04T23:24:31.445512Z",
     "iopub.status.busy": "2021-04-04T23:24:31.444401Z",
     "iopub.status.idle": "2021-04-04T23:24:31.449916Z",
     "shell.execute_reply": "2021-04-04T23:24:31.450415Z"
    },
    "papermill": {
     "duration": 0.051781,
     "end_time": "2021-04-04T23:24:31.450565",
     "exception": false,
     "start_time": "2021-04-04T23:24:31.398784",
     "status": "completed"
    },
    "tags": []
   },
   "outputs": [
    {
     "name": "stdout",
     "output_type": "stream",
     "text": [
      "<class 'pandas.core.frame.DataFrame'>\n",
      "RangeIndex: 498 entries, 0 to 497\n",
      "Data columns (total 23 columns):\n",
      " #   Column             Non-Null Count  Dtype  \n",
      "---  ------             --------------  -----  \n",
      " 0   id                 498 non-null    int64  \n",
      " 1   loc                498 non-null    float64\n",
      " 2   v(g)               498 non-null    float64\n",
      " 3   ev(g)              498 non-null    float64\n",
      " 4   iv(g)              498 non-null    float64\n",
      " 5   n                  498 non-null    float64\n",
      " 6   v                  498 non-null    float64\n",
      " 7   l                  498 non-null    float64\n",
      " 8   d                  498 non-null    float64\n",
      " 9   i                  498 non-null    float64\n",
      " 10  e                  498 non-null    float64\n",
      " 11  b                  498 non-null    float64\n",
      " 12  t                  498 non-null    float64\n",
      " 13  lOCode             498 non-null    int64  \n",
      " 14  lOComment          498 non-null    int64  \n",
      " 15  lOBlank            498 non-null    int64  \n",
      " 16  locCodeAndComment  498 non-null    int64  \n",
      " 17  uniq_Op            498 non-null    float64\n",
      " 18  uniq_Opnd          498 non-null    float64\n",
      " 19  total_Op           498 non-null    float64\n",
      " 20  total_Opnd         498 non-null    float64\n",
      " 21  branchCount        498 non-null    float64\n",
      " 22  defects            498 non-null    bool   \n",
      "dtypes: bool(1), float64(17), int64(5)\n",
      "memory usage: 86.2 KB\n"
     ]
    }
   ],
   "source": [
    "df.info()"
   ]
  },
  {
   "cell_type": "code",
   "execution_count": 7,
   "id": "3638e5e8",
   "metadata": {
    "execution": {
     "iopub.execute_input": "2021-04-04T23:24:31.501752Z",
     "iopub.status.busy": "2021-04-04T23:24:31.501142Z",
     "iopub.status.idle": "2021-04-04T23:24:31.531076Z",
     "shell.execute_reply": "2021-04-04T23:24:31.532122Z"
    },
    "papermill": {
     "duration": 0.059593,
     "end_time": "2021-04-04T23:24:31.532482",
     "exception": false,
     "start_time": "2021-04-04T23:24:31.472889",
     "status": "completed"
    },
    "tags": []
   },
   "outputs": [
    {
     "data": {
      "text/html": [
       "<div>\n",
       "<style scoped>\n",
       "    .dataframe tbody tr th:only-of-type {\n",
       "        vertical-align: middle;\n",
       "    }\n",
       "\n",
       "    .dataframe tbody tr th {\n",
       "        vertical-align: top;\n",
       "    }\n",
       "\n",
       "    .dataframe thead th {\n",
       "        text-align: right;\n",
       "    }\n",
       "</style>\n",
       "<table border=\"1\" class=\"dataframe\">\n",
       "  <thead>\n",
       "    <tr style=\"text-align: right;\">\n",
       "      <th></th>\n",
       "      <th>id</th>\n",
       "      <th>loc</th>\n",
       "      <th>v(g)</th>\n",
       "      <th>ev(g)</th>\n",
       "      <th>iv(g)</th>\n",
       "      <th>n</th>\n",
       "      <th>v</th>\n",
       "      <th>l</th>\n",
       "      <th>d</th>\n",
       "      <th>i</th>\n",
       "      <th>...</th>\n",
       "      <th>lOCode</th>\n",
       "      <th>lOComment</th>\n",
       "      <th>lOBlank</th>\n",
       "      <th>locCodeAndComment</th>\n",
       "      <th>uniq_Op</th>\n",
       "      <th>uniq_Opnd</th>\n",
       "      <th>total_Op</th>\n",
       "      <th>total_Opnd</th>\n",
       "      <th>branchCount</th>\n",
       "      <th>defects</th>\n",
       "    </tr>\n",
       "  </thead>\n",
       "  <tbody>\n",
       "    <tr>\n",
       "      <th>0</th>\n",
       "      <td>1</td>\n",
       "      <td>1.1</td>\n",
       "      <td>1.4</td>\n",
       "      <td>1.4</td>\n",
       "      <td>1.4</td>\n",
       "      <td>1.3</td>\n",
       "      <td>1.30</td>\n",
       "      <td>1.30</td>\n",
       "      <td>1.30</td>\n",
       "      <td>1.30</td>\n",
       "      <td>...</td>\n",
       "      <td>2</td>\n",
       "      <td>2</td>\n",
       "      <td>2</td>\n",
       "      <td>2</td>\n",
       "      <td>1.2</td>\n",
       "      <td>1.2</td>\n",
       "      <td>1.2</td>\n",
       "      <td>1.2</td>\n",
       "      <td>1.4</td>\n",
       "      <td>False</td>\n",
       "    </tr>\n",
       "    <tr>\n",
       "      <th>1</th>\n",
       "      <td>2</td>\n",
       "      <td>1.0</td>\n",
       "      <td>1.0</td>\n",
       "      <td>1.0</td>\n",
       "      <td>1.0</td>\n",
       "      <td>1.0</td>\n",
       "      <td>1.00</td>\n",
       "      <td>1.00</td>\n",
       "      <td>1.00</td>\n",
       "      <td>1.00</td>\n",
       "      <td>...</td>\n",
       "      <td>1</td>\n",
       "      <td>1</td>\n",
       "      <td>1</td>\n",
       "      <td>1</td>\n",
       "      <td>1.0</td>\n",
       "      <td>1.0</td>\n",
       "      <td>1.0</td>\n",
       "      <td>1.0</td>\n",
       "      <td>1.0</td>\n",
       "      <td>True</td>\n",
       "    </tr>\n",
       "    <tr>\n",
       "      <th>2</th>\n",
       "      <td>3</td>\n",
       "      <td>24.0</td>\n",
       "      <td>5.0</td>\n",
       "      <td>1.0</td>\n",
       "      <td>3.0</td>\n",
       "      <td>63.0</td>\n",
       "      <td>309.13</td>\n",
       "      <td>0.11</td>\n",
       "      <td>9.50</td>\n",
       "      <td>32.54</td>\n",
       "      <td>...</td>\n",
       "      <td>1</td>\n",
       "      <td>0</td>\n",
       "      <td>6</td>\n",
       "      <td>0</td>\n",
       "      <td>15.0</td>\n",
       "      <td>15.0</td>\n",
       "      <td>44.0</td>\n",
       "      <td>19.0</td>\n",
       "      <td>9.0</td>\n",
       "      <td>False</td>\n",
       "    </tr>\n",
       "    <tr>\n",
       "      <th>3</th>\n",
       "      <td>4</td>\n",
       "      <td>20.0</td>\n",
       "      <td>4.0</td>\n",
       "      <td>4.0</td>\n",
       "      <td>2.0</td>\n",
       "      <td>47.0</td>\n",
       "      <td>215.49</td>\n",
       "      <td>0.06</td>\n",
       "      <td>16.00</td>\n",
       "      <td>13.47</td>\n",
       "      <td>...</td>\n",
       "      <td>0</td>\n",
       "      <td>0</td>\n",
       "      <td>3</td>\n",
       "      <td>0</td>\n",
       "      <td>16.0</td>\n",
       "      <td>8.0</td>\n",
       "      <td>31.0</td>\n",
       "      <td>16.0</td>\n",
       "      <td>7.0</td>\n",
       "      <td>False</td>\n",
       "    </tr>\n",
       "    <tr>\n",
       "      <th>4</th>\n",
       "      <td>5</td>\n",
       "      <td>24.0</td>\n",
       "      <td>6.0</td>\n",
       "      <td>6.0</td>\n",
       "      <td>2.0</td>\n",
       "      <td>72.0</td>\n",
       "      <td>346.13</td>\n",
       "      <td>0.06</td>\n",
       "      <td>17.33</td>\n",
       "      <td>19.97</td>\n",
       "      <td>...</td>\n",
       "      <td>0</td>\n",
       "      <td>0</td>\n",
       "      <td>3</td>\n",
       "      <td>0</td>\n",
       "      <td>16.0</td>\n",
       "      <td>12.0</td>\n",
       "      <td>46.0</td>\n",
       "      <td>26.0</td>\n",
       "      <td>11.0</td>\n",
       "      <td>False</td>\n",
       "    </tr>\n",
       "  </tbody>\n",
       "</table>\n",
       "<p>5 rows × 23 columns</p>\n",
       "</div>"
      ],
      "text/plain": [
       "   id   loc  v(g)  ev(g)  iv(g)     n       v     l      d      i  ...  \\\n",
       "0   1   1.1   1.4    1.4    1.4   1.3    1.30  1.30   1.30   1.30  ...   \n",
       "1   2   1.0   1.0    1.0    1.0   1.0    1.00  1.00   1.00   1.00  ...   \n",
       "2   3  24.0   5.0    1.0    3.0  63.0  309.13  0.11   9.50  32.54  ...   \n",
       "3   4  20.0   4.0    4.0    2.0  47.0  215.49  0.06  16.00  13.47  ...   \n",
       "4   5  24.0   6.0    6.0    2.0  72.0  346.13  0.06  17.33  19.97  ...   \n",
       "\n",
       "   lOCode  lOComment  lOBlank  locCodeAndComment  uniq_Op  uniq_Opnd  \\\n",
       "0       2          2        2                  2      1.2        1.2   \n",
       "1       1          1        1                  1      1.0        1.0   \n",
       "2       1          0        6                  0     15.0       15.0   \n",
       "3       0          0        3                  0     16.0        8.0   \n",
       "4       0          0        3                  0     16.0       12.0   \n",
       "\n",
       "   total_Op  total_Opnd  branchCount  defects  \n",
       "0       1.2         1.2          1.4    False  \n",
       "1       1.0         1.0          1.0     True  \n",
       "2      44.0        19.0          9.0    False  \n",
       "3      31.0        16.0          7.0    False  \n",
       "4      46.0        26.0         11.0    False  \n",
       "\n",
       "[5 rows x 23 columns]"
      ]
     },
     "execution_count": 7,
     "metadata": {},
     "output_type": "execute_result"
    }
   ],
   "source": [
    "df.head()"
   ]
  },
  {
   "cell_type": "code",
   "execution_count": 8,
   "id": "733e95eb",
   "metadata": {
    "execution": {
     "iopub.execute_input": "2021-04-04T23:24:31.620700Z",
     "iopub.status.busy": "2021-04-04T23:24:31.617673Z",
     "iopub.status.idle": "2021-04-04T23:24:31.623401Z",
     "shell.execute_reply": "2021-04-04T23:24:31.624653Z"
    },
    "papermill": {
     "duration": 0.068066,
     "end_time": "2021-04-04T23:24:31.624979",
     "exception": false,
     "start_time": "2021-04-04T23:24:31.556913",
     "status": "completed"
    },
    "tags": []
   },
   "outputs": [],
   "source": [
    "del df['id']"
   ]
  },
  {
   "cell_type": "code",
   "execution_count": 9,
   "id": "6ff6f5b0",
   "metadata": {
    "execution": {
     "iopub.execute_input": "2021-04-04T23:24:31.714462Z",
     "iopub.status.busy": "2021-04-04T23:24:31.713504Z",
     "iopub.status.idle": "2021-04-04T23:24:31.718326Z",
     "shell.execute_reply": "2021-04-04T23:24:31.717166Z"
    },
    "papermill": {
     "duration": 0.051535,
     "end_time": "2021-04-04T23:24:31.718532",
     "exception": false,
     "start_time": "2021-04-04T23:24:31.666997",
     "status": "completed"
    },
    "tags": []
   },
   "outputs": [],
   "source": [
    "if PROFILE_REPORTING:\n",
    "    ProfileReport(df).to_widgets()"
   ]
  },
  {
   "cell_type": "markdown",
   "id": "1deaf3f0",
   "metadata": {
    "papermill": {
     "duration": 0.038911,
     "end_time": "2021-04-04T23:24:31.795936",
     "exception": false,
     "start_time": "2021-04-04T23:24:31.757025",
     "status": "completed"
    },
    "tags": []
   },
   "source": [
    "# Preprocess"
   ]
  },
  {
   "cell_type": "code",
   "execution_count": 10,
   "id": "1513e563",
   "metadata": {
    "execution": {
     "iopub.execute_input": "2021-04-04T23:24:31.889847Z",
     "iopub.status.busy": "2021-04-04T23:24:31.886833Z",
     "iopub.status.idle": "2021-04-04T23:24:31.892933Z",
     "shell.execute_reply": "2021-04-04T23:24:31.894705Z"
    },
    "papermill": {
     "duration": 0.054238,
     "end_time": "2021-04-04T23:24:31.895219",
     "exception": false,
     "start_time": "2021-04-04T23:24:31.840981",
     "status": "completed"
    },
    "tags": []
   },
   "outputs": [],
   "source": [
    "working_df = df.copy()"
   ]
  },
  {
   "cell_type": "code",
   "execution_count": 11,
   "id": "3b26d675",
   "metadata": {
    "execution": {
     "iopub.execute_input": "2021-04-04T23:24:31.992561Z",
     "iopub.status.busy": "2021-04-04T23:24:31.991796Z",
     "iopub.status.idle": "2021-04-04T23:24:31.993889Z",
     "shell.execute_reply": "2021-04-04T23:24:31.994501Z"
    },
    "papermill": {
     "duration": 0.044126,
     "end_time": "2021-04-04T23:24:31.994680",
     "exception": false,
     "start_time": "2021-04-04T23:24:31.950554",
     "status": "completed"
    },
    "tags": []
   },
   "outputs": [],
   "source": [
    "working_df['defects'] = working_df['defects'].replace([False, True], [0, 1])"
   ]
  },
  {
   "cell_type": "code",
   "execution_count": 12,
   "id": "eb48604f",
   "metadata": {
    "execution": {
     "iopub.execute_input": "2021-04-04T23:24:32.053553Z",
     "iopub.status.busy": "2021-04-04T23:24:32.052740Z",
     "iopub.status.idle": "2021-04-04T23:24:32.054992Z",
     "shell.execute_reply": "2021-04-04T23:24:32.056232Z"
    },
    "papermill": {
     "duration": 0.035237,
     "end_time": "2021-04-04T23:24:32.056756",
     "exception": false,
     "start_time": "2021-04-04T23:24:32.021519",
     "status": "completed"
    },
    "tags": []
   },
   "outputs": [],
   "source": [
    "for col in dataset_config['delete_columns']:\n",
    "    del working_df[col]"
   ]
  },
  {
   "cell_type": "code",
   "execution_count": 13,
   "id": "9a17bc29",
   "metadata": {
    "execution": {
     "iopub.execute_input": "2021-04-04T23:24:32.119284Z",
     "iopub.status.busy": "2021-04-04T23:24:32.118006Z",
     "iopub.status.idle": "2021-04-04T23:24:32.127611Z",
     "shell.execute_reply": "2021-04-04T23:24:32.128096Z"
    },
    "papermill": {
     "duration": 0.047058,
     "end_time": "2021-04-04T23:24:32.128244",
     "exception": false,
     "start_time": "2021-04-04T23:24:32.081186",
     "status": "completed"
    },
    "tags": []
   },
   "outputs": [],
   "source": [
    "working_df = working_df.drop_duplicates()"
   ]
  },
  {
   "cell_type": "markdown",
   "id": "a4d52ca6",
   "metadata": {
    "papermill": {
     "duration": 0.022293,
     "end_time": "2021-04-04T23:24:32.174977",
     "exception": false,
     "start_time": "2021-04-04T23:24:32.152684",
     "status": "completed"
    },
    "tags": []
   },
   "source": [
    "# Split"
   ]
  },
  {
   "cell_type": "code",
   "execution_count": 14,
   "id": "3e9ee4b5",
   "metadata": {
    "execution": {
     "iopub.execute_input": "2021-04-04T23:24:32.233280Z",
     "iopub.status.busy": "2021-04-04T23:24:32.231762Z",
     "iopub.status.idle": "2021-04-04T23:24:32.267727Z",
     "shell.execute_reply": "2021-04-04T23:24:32.268204Z"
    },
    "papermill": {
     "duration": 0.068197,
     "end_time": "2021-04-04T23:24:32.268350",
     "exception": false,
     "start_time": "2021-04-04T23:24:32.200153",
     "status": "completed"
    },
    "tags": []
   },
   "outputs": [],
   "source": [
    "from sklearn.model_selection import train_test_split"
   ]
  },
  {
   "cell_type": "code",
   "execution_count": 15,
   "id": "274004ce",
   "metadata": {
    "execution": {
     "iopub.execute_input": "2021-04-04T23:24:32.322963Z",
     "iopub.status.busy": "2021-04-04T23:24:32.322323Z",
     "iopub.status.idle": "2021-04-04T23:24:32.327017Z",
     "shell.execute_reply": "2021-04-04T23:24:32.327506Z"
    },
    "papermill": {
     "duration": 0.033845,
     "end_time": "2021-04-04T23:24:32.327656",
     "exception": false,
     "start_time": "2021-04-04T23:24:32.293811",
     "status": "completed"
    },
    "scrolled": true,
    "tags": []
   },
   "outputs": [],
   "source": [
    "inlier, outlier = working_df[working_df['defects'] == 0], working_df[working_df['defects'] == 1]"
   ]
  },
  {
   "cell_type": "code",
   "execution_count": 16,
   "id": "753c7b03",
   "metadata": {
    "execution": {
     "iopub.execute_input": "2021-04-04T23:24:32.404001Z",
     "iopub.status.busy": "2021-04-04T23:24:32.401795Z",
     "iopub.status.idle": "2021-04-04T23:24:32.405362Z",
     "shell.execute_reply": "2021-04-04T23:24:32.406233Z"
    },
    "papermill": {
     "duration": 0.04764,
     "end_time": "2021-04-04T23:24:32.406475",
     "exception": false,
     "start_time": "2021-04-04T23:24:32.358835",
     "status": "completed"
    },
    "tags": []
   },
   "outputs": [],
   "source": [
    "X_inlier = inlier.copy()\n",
    "y_inlier = X_inlier.pop('defects')\n",
    "X_outlier = outlier.copy()\n",
    "y_outlier = X_outlier.pop('defects')"
   ]
  },
  {
   "cell_type": "code",
   "execution_count": 17,
   "id": "2ba43193",
   "metadata": {
    "execution": {
     "iopub.execute_input": "2021-04-04T23:24:32.473999Z",
     "iopub.status.busy": "2021-04-04T23:24:32.473128Z",
     "iopub.status.idle": "2021-04-04T23:24:32.475165Z",
     "shell.execute_reply": "2021-04-04T23:24:32.475665Z"
    },
    "papermill": {
     "duration": 0.037768,
     "end_time": "2021-04-04T23:24:32.475882",
     "exception": false,
     "start_time": "2021-04-04T23:24:32.438114",
     "status": "completed"
    },
    "tags": []
   },
   "outputs": [],
   "source": [
    "test_size = dataset_config['test_size']\n",
    "random_state = dataset_config['random_state']\n",
    "\n",
    "X_inlier_train, X_inlier_test, y_inlier_train, y_inlier_test = train_test_split(\n",
    "    X_inlier,\n",
    "    y_inlier,\n",
    "    test_size=test_size,\n",
    "    random_state=random_state\n",
    ")"
   ]
  },
  {
   "cell_type": "code",
   "execution_count": 18,
   "id": "0b7582ca",
   "metadata": {
    "execution": {
     "iopub.execute_input": "2021-04-04T23:24:32.537600Z",
     "iopub.status.busy": "2021-04-04T23:24:32.536687Z",
     "iopub.status.idle": "2021-04-04T23:24:32.540104Z",
     "shell.execute_reply": "2021-04-04T23:24:32.540950Z"
    },
    "papermill": {
     "duration": 0.042133,
     "end_time": "2021-04-04T23:24:32.541195",
     "exception": false,
     "start_time": "2021-04-04T23:24:32.499062",
     "status": "completed"
    },
    "tags": []
   },
   "outputs": [],
   "source": [
    "test_outlier_size = dataset_config['test_outlier_size']\n",
    "if test_outlier_size > 0.0:\n",
    "    X_outlier_train, X_outlier_test, y_outlier_train, y_outlier_test = train_test_split(\n",
    "        X_outlier,\n",
    "        y_outlier,\n",
    "        test_size=test_outlier_size,\n",
    "        random_state=random_state\n",
    "    )\n",
    "else:\n",
    "    X_outlier_train, y_outlier_train = pd.DataFrame(columns=X_outlier.columns), pd.Series(dtype='int64')\n",
    "    X_outlier_test, y_outlier_test = X_outlier.copy(), y_outlier.copy()"
   ]
  },
  {
   "cell_type": "code",
   "execution_count": 19,
   "id": "c34363db",
   "metadata": {
    "execution": {
     "iopub.execute_input": "2021-04-04T23:24:32.616181Z",
     "iopub.status.busy": "2021-04-04T23:24:32.614909Z",
     "iopub.status.idle": "2021-04-04T23:24:32.624615Z",
     "shell.execute_reply": "2021-04-04T23:24:32.623390Z"
    },
    "papermill": {
     "duration": 0.053785,
     "end_time": "2021-04-04T23:24:32.624941",
     "exception": false,
     "start_time": "2021-04-04T23:24:32.571156",
     "status": "completed"
    },
    "tags": []
   },
   "outputs": [],
   "source": [
    "X_train, y_train = pd.concat([X_inlier_train, X_outlier_train], ignore_index=True), pd.concat([y_inlier_train, y_outlier_train], ignore_index=True)\n",
    "X_test, y_test = pd.concat([X_inlier_test, X_outlier_test], ignore_index=True), pd.concat([y_inlier_test, y_outlier_test], ignore_index=True)"
   ]
  },
  {
   "cell_type": "markdown",
   "id": "7cde7309",
   "metadata": {
    "papermill": {
     "duration": 0.02858,
     "end_time": "2021-04-04T23:24:32.693762",
     "exception": false,
     "start_time": "2021-04-04T23:24:32.665182",
     "status": "completed"
    },
    "tags": []
   },
   "source": [
    "# Model"
   ]
  },
  {
   "cell_type": "code",
   "execution_count": 20,
   "id": "2b12a415",
   "metadata": {
    "execution": {
     "iopub.execute_input": "2021-04-04T23:24:32.761022Z",
     "iopub.status.busy": "2021-04-04T23:24:32.760235Z",
     "iopub.status.idle": "2021-04-04T23:24:32.762884Z",
     "shell.execute_reply": "2021-04-04T23:24:32.762361Z"
    },
    "papermill": {
     "duration": 0.041087,
     "end_time": "2021-04-04T23:24:32.763003",
     "exception": false,
     "start_time": "2021-04-04T23:24:32.721916",
     "status": "completed"
    },
    "tags": []
   },
   "outputs": [],
   "source": [
    "from math import sqrt\n",
    "\n",
    "\n",
    "class KNNDataDescription:\n",
    "    def __init__(self, k=5, outlier_threshold=1.0):\n",
    "        self.k = k\n",
    "        self.outlier_threshold = outlier_threshold\n",
    "        self.X = []\n",
    "    \n",
    "    def fit(self, X):\n",
    "        self.X = [features.to_list() for index, features in X.iterrows()]\n",
    "\n",
    "    def predict(self, entries):\n",
    "        return [self.predict_entry(features.to_list()) for index, features in entries.iterrows()]\n",
    "    \n",
    "    def predict_entry(self, entry):\n",
    "        kth_neighbor, kth_distance = self.get_kth_neighbor(entry, self.k)\n",
    "        kth_kth_neighbor, kth_kth_distance = self.get_kth_neighbor(kth_neighbor, self.k + 1)\n",
    "\n",
    "        outlier_score = kth_distance / (kth_kth_distance + 0.000001)\n",
    "\n",
    "        return 1 if outlier_score < self.outlier_threshold else -1\n",
    "        \n",
    "    def euclidean_distance(self, features1, features2):\n",
    "        distance = 0.0\n",
    "        for feat1, feat2 in zip(features1, features2):\n",
    "            distance += (feat1 - feat2)**2\n",
    "                \n",
    "        return sqrt(distance)\n",
    "\n",
    "    def get_neighbors(self, entry, k):\n",
    "        distance_to_data_points = [\n",
    "            (data_point, self.euclidean_distance(entry, data_point))\n",
    "            for data_point in self.X\n",
    "        ]\n",
    "        sorted_by_distance = sorted(distance_to_data_points, key=lambda tup: tup[1])\n",
    "        neighbors = sorted_by_distance[:k]\n",
    "        return neighbors\n",
    "\n",
    "    def get_kth_neighbor(self, entry, k):\n",
    "        neighbors = self.get_neighbors(entry, k)\n",
    "        return neighbors[-1]\n"
   ]
  },
  {
   "cell_type": "code",
   "execution_count": 21,
   "id": "1fa9ec1c",
   "metadata": {
    "execution": {
     "iopub.execute_input": "2021-04-04T23:24:32.821975Z",
     "iopub.status.busy": "2021-04-04T23:24:32.820518Z",
     "iopub.status.idle": "2021-04-04T23:24:32.845708Z",
     "shell.execute_reply": "2021-04-04T23:24:32.846253Z"
    },
    "papermill": {
     "duration": 0.058558,
     "end_time": "2021-04-04T23:24:32.846414",
     "exception": false,
     "start_time": "2021-04-04T23:24:32.787856",
     "status": "completed"
    },
    "tags": []
   },
   "outputs": [],
   "source": [
    "from sklearn.svm import OneClassSVM\n",
    "\n",
    "\n",
    "models = {\n",
    "    'oneclasssvm': OneClassSVM,\n",
    "    'knndatadescription': KNNDataDescription,\n",
    "}"
   ]
  },
  {
   "cell_type": "code",
   "execution_count": 22,
   "id": "4d72a0b1",
   "metadata": {
    "execution": {
     "iopub.execute_input": "2021-04-04T23:24:32.915425Z",
     "iopub.status.busy": "2021-04-04T23:24:32.912455Z",
     "iopub.status.idle": "2021-04-04T23:24:32.917787Z",
     "shell.execute_reply": "2021-04-04T23:24:32.918940Z"
    },
    "papermill": {
     "duration": 0.041002,
     "end_time": "2021-04-04T23:24:32.919311",
     "exception": false,
     "start_time": "2021-04-04T23:24:32.878309",
     "status": "completed"
    },
    "scrolled": true,
    "tags": []
   },
   "outputs": [],
   "source": [
    "model_cls = models[model_config['model_type']]\n",
    "model = model_cls(**model_config['hyperparameters'])"
   ]
  },
  {
   "cell_type": "markdown",
   "id": "e00cff3b",
   "metadata": {
    "papermill": {
     "duration": 0.036251,
     "end_time": "2021-04-04T23:24:32.996689",
     "exception": false,
     "start_time": "2021-04-04T23:24:32.960438",
     "status": "completed"
    },
    "tags": []
   },
   "source": [
    "# Fit"
   ]
  },
  {
   "cell_type": "code",
   "execution_count": 23,
   "id": "8b2ded89",
   "metadata": {
    "execution": {
     "iopub.execute_input": "2021-04-04T23:24:33.068250Z",
     "iopub.status.busy": "2021-04-04T23:24:33.057501Z",
     "iopub.status.idle": "2021-04-04T23:24:33.091155Z",
     "shell.execute_reply": "2021-04-04T23:24:33.091854Z"
    },
    "papermill": {
     "duration": 0.065267,
     "end_time": "2021-04-04T23:24:33.092050",
     "exception": false,
     "start_time": "2021-04-04T23:24:33.026783",
     "status": "completed"
    },
    "tags": []
   },
   "outputs": [],
   "source": [
    "model.fit(X_train)"
   ]
  },
  {
   "cell_type": "markdown",
   "id": "f99999f7",
   "metadata": {
    "papermill": {
     "duration": 0.029703,
     "end_time": "2021-04-04T23:24:33.146434",
     "exception": false,
     "start_time": "2021-04-04T23:24:33.116731",
     "status": "completed"
    },
    "tags": []
   },
   "source": [
    "# Predict"
   ]
  },
  {
   "cell_type": "code",
   "execution_count": 24,
   "id": "6536fbf7",
   "metadata": {
    "execution": {
     "iopub.execute_input": "2021-04-04T23:24:33.240006Z",
     "iopub.status.busy": "2021-04-04T23:24:33.203923Z",
     "iopub.status.idle": "2021-04-04T23:24:33.841568Z",
     "shell.execute_reply": "2021-04-04T23:24:33.840789Z"
    },
    "papermill": {
     "duration": 0.670466,
     "end_time": "2021-04-04T23:24:33.841693",
     "exception": false,
     "start_time": "2021-04-04T23:24:33.171227",
     "status": "completed"
    },
    "tags": []
   },
   "outputs": [],
   "source": [
    "predictions = model.predict(X_test)"
   ]
  },
  {
   "cell_type": "markdown",
   "id": "aa1c9881",
   "metadata": {
    "papermill": {
     "duration": 0.035661,
     "end_time": "2021-04-04T23:24:33.904205",
     "exception": false,
     "start_time": "2021-04-04T23:24:33.868544",
     "status": "completed"
    },
    "tags": []
   },
   "source": [
    "# Evaluate"
   ]
  },
  {
   "cell_type": "code",
   "execution_count": 25,
   "id": "894f0f04",
   "metadata": {
    "execution": {
     "iopub.execute_input": "2021-04-04T23:24:33.989701Z",
     "iopub.status.busy": "2021-04-04T23:24:33.988508Z",
     "iopub.status.idle": "2021-04-04T23:24:33.993309Z",
     "shell.execute_reply": "2021-04-04T23:24:33.994464Z"
    },
    "papermill": {
     "duration": 0.049792,
     "end_time": "2021-04-04T23:24:33.994867",
     "exception": false,
     "start_time": "2021-04-04T23:24:33.945075",
     "status": "completed"
    },
    "tags": []
   },
   "outputs": [],
   "source": [
    "from sklearn.metrics import f1_score"
   ]
  },
  {
   "cell_type": "code",
   "execution_count": 26,
   "id": "211744d3",
   "metadata": {
    "execution": {
     "iopub.execute_input": "2021-04-04T23:24:34.085845Z",
     "iopub.status.busy": "2021-04-04T23:24:34.083403Z",
     "iopub.status.idle": "2021-04-04T23:24:34.089326Z",
     "shell.execute_reply": "2021-04-04T23:24:34.090875Z"
    },
    "papermill": {
     "duration": 0.0531,
     "end_time": "2021-04-04T23:24:34.091289",
     "exception": false,
     "start_time": "2021-04-04T23:24:34.038189",
     "status": "completed"
    },
    "tags": []
   },
   "outputs": [],
   "source": [
    "y_test = y_test.replace([0, 1], [1, -1])"
   ]
  },
  {
   "cell_type": "code",
   "execution_count": 27,
   "id": "d68a9204",
   "metadata": {
    "execution": {
     "iopub.execute_input": "2021-04-04T23:24:34.175468Z",
     "iopub.status.busy": "2021-04-04T23:24:34.174801Z",
     "iopub.status.idle": "2021-04-04T23:24:34.177355Z",
     "shell.execute_reply": "2021-04-04T23:24:34.177908Z"
    },
    "papermill": {
     "duration": 0.04235,
     "end_time": "2021-04-04T23:24:34.178081",
     "exception": false,
     "start_time": "2021-04-04T23:24:34.135731",
     "status": "completed"
    },
    "tags": []
   },
   "outputs": [],
   "source": [
    "def evaluate(truths, predictions, pos_label, neg_label):\n",
    "    TP = 0\n",
    "    FP = 0\n",
    "    TN = 0\n",
    "    FN = 0\n",
    "\n",
    "    for truth, pred in zip(truths, predictions): \n",
    "        if truth == pred == pos_label:\n",
    "           TP += 1\n",
    "        elif pred == pos_label and truth == neg_label:\n",
    "           FP += 1\n",
    "        elif truth == pred == neg_label:\n",
    "           TN += 1\n",
    "        elif pred == neg_label and truth == pos_label:\n",
    "           FN += 1\n",
    "\n",
    "    precision = TP / (TP + FP)\n",
    "    sensitivity = TP / (TP + FN)\n",
    "    \n",
    "    return {\n",
    "        'true_pos': TP,\n",
    "        'false_pos': FP,\n",
    "        'false_neg': FN,\n",
    "        'true_neg': TN,\n",
    "        'precision': precision,\n",
    "        'sensitivity': sensitivity,\n",
    "        'f1': (2 * (precision * sensitivity)) / (precision + sensitivity)\n",
    "    }\n",
    "\n",
    "score = evaluate(y_test, predictions, pos_label=-1, neg_label=1)"
   ]
  },
  {
   "cell_type": "markdown",
   "id": "93596516",
   "metadata": {
    "papermill": {
     "duration": 0.027405,
     "end_time": "2021-04-04T23:24:34.232487",
     "exception": false,
     "start_time": "2021-04-04T23:24:34.205082",
     "status": "completed"
    },
    "tags": []
   },
   "source": [
    "# Report"
   ]
  },
  {
   "cell_type": "code",
   "execution_count": 28,
   "id": "bea5fba1",
   "metadata": {
    "execution": {
     "iopub.execute_input": "2021-04-04T23:24:34.291337Z",
     "iopub.status.busy": "2021-04-04T23:24:34.290382Z",
     "iopub.status.idle": "2021-04-04T23:24:34.293659Z",
     "shell.execute_reply": "2021-04-04T23:24:34.294237Z"
    },
    "papermill": {
     "duration": 0.034802,
     "end_time": "2021-04-04T23:24:34.294410",
     "exception": false,
     "start_time": "2021-04-04T23:24:34.259608",
     "status": "completed"
    },
    "tags": []
   },
   "outputs": [],
   "source": [
    "import csv\n",
    "\n",
    "\n",
    "dataset_config_name = DATASET_CONFIG_PATH.split('/')[-1].split('.')[0]\n",
    "model_config_name = MODEL_CONFIG_PATH.split('/')[-1].split('.')[0]\n",
    "configuration = f\"dataset_{dataset_config_name}-model_{model_config_name}\"\n",
    "\n",
    "with open('results.csv', 'a') as f:\n",
    "    report = dict({'configuration': configuration}, **score)\n",
    "    writer = csv.DictWriter(f, report.keys())\n",
    "    writer.writerow(report)"
   ]
  }
 ],
 "metadata": {
  "celltoolbar": "Tags",
  "kernelspec": {
   "display_name": "Python 3",
   "language": "python",
   "name": "python3"
  },
  "language_info": {
   "codemirror_mode": {
    "name": "ipython",
    "version": 3
   },
   "file_extension": ".py",
   "mimetype": "text/x-python",
   "name": "python",
   "nbconvert_exporter": "python",
   "pygments_lexer": "ipython3",
   "version": "3.9.1"
  },
  "papermill": {
   "default_parameters": {},
   "duration": 8.046022,
   "end_time": "2021-04-04T23:24:36.081969",
   "environment_variables": {},
   "exception": null,
   "input_path": "main.ipynb",
   "output_path": "runs/dataset_000129-model_000002.ipynb",
   "parameters": {
    "DATASET_CONFIG_PATH": "config/dataset/000129.json",
    "MODEL_CONFIG_PATH": "config/model/000002.json",
    "PROFILE_REPORTING": false
   },
   "start_time": "2021-04-04T23:24:28.035947",
   "version": "2.3.3"
  }
 },
 "nbformat": 4,
 "nbformat_minor": 5
}