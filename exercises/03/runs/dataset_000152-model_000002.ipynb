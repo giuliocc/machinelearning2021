{
 "cells": [
  {
   "cell_type": "markdown",
   "id": "51c71c25",
   "metadata": {
    "papermill": {
     "duration": 0.022274,
     "end_time": "2021-04-04T23:34:33.031601",
     "exception": false,
     "start_time": "2021-04-04T23:34:33.009327",
     "status": "completed"
    },
    "tags": []
   },
   "source": [
    "# Parametrizing"
   ]
  },
  {
   "cell_type": "code",
   "execution_count": 1,
   "id": "3b136394",
   "metadata": {
    "execution": {
     "iopub.execute_input": "2021-04-04T23:34:33.089630Z",
     "iopub.status.busy": "2021-04-04T23:34:33.089035Z",
     "iopub.status.idle": "2021-04-04T23:34:33.091073Z",
     "shell.execute_reply": "2021-04-04T23:34:33.091524Z"
    },
    "papermill": {
     "duration": 0.040138,
     "end_time": "2021-04-04T23:34:33.091760",
     "exception": false,
     "start_time": "2021-04-04T23:34:33.051622",
     "status": "completed"
    },
    "tags": [
     "parameters"
    ]
   },
   "outputs": [],
   "source": [
    "DATASET_CONFIG_PATH = 'config/dataset/kc1_001.json'\n",
    "MODEL_CONFIG_PATH = 'config/model/knndd_001.json'\n",
    "PROFILE_REPORTING = False"
   ]
  },
  {
   "cell_type": "code",
   "execution_count": 2,
   "id": "122d3b55",
   "metadata": {
    "execution": {
     "iopub.execute_input": "2021-04-04T23:34:33.137575Z",
     "iopub.status.busy": "2021-04-04T23:34:33.136990Z",
     "iopub.status.idle": "2021-04-04T23:34:33.139418Z",
     "shell.execute_reply": "2021-04-04T23:34:33.138939Z"
    },
    "papermill": {
     "duration": 0.027945,
     "end_time": "2021-04-04T23:34:33.139527",
     "exception": false,
     "start_time": "2021-04-04T23:34:33.111582",
     "status": "completed"
    },
    "tags": [
     "injected-parameters"
    ]
   },
   "outputs": [],
   "source": [
    "# Parameters\n",
    "DATASET_CONFIG_PATH = \"config/dataset/000152.json\"\n",
    "MODEL_CONFIG_PATH = \"config/model/000002.json\"\n",
    "PROFILE_REPORTING = False\n"
   ]
  },
  {
   "cell_type": "code",
   "execution_count": 3,
   "id": "b80f2a10",
   "metadata": {
    "execution": {
     "iopub.execute_input": "2021-04-04T23:34:33.192203Z",
     "iopub.status.busy": "2021-04-04T23:34:33.191243Z",
     "iopub.status.idle": "2021-04-04T23:34:33.194654Z",
     "shell.execute_reply": "2021-04-04T23:34:33.194062Z"
    },
    "papermill": {
     "duration": 0.034942,
     "end_time": "2021-04-04T23:34:33.194791",
     "exception": false,
     "start_time": "2021-04-04T23:34:33.159849",
     "status": "completed"
    },
    "tags": []
   },
   "outputs": [],
   "source": [
    "import json\n",
    "\n",
    "\n",
    "with open(DATASET_CONFIG_PATH) as f:\n",
    "    dataset_config = json.load(f)\n",
    "\n",
    "with open(MODEL_CONFIG_PATH) as f:\n",
    "    model_config = json.load(f)"
   ]
  },
  {
   "cell_type": "markdown",
   "id": "9a4b0e2d",
   "metadata": {
    "papermill": {
     "duration": 0.021851,
     "end_time": "2021-04-04T23:34:33.237623",
     "exception": false,
     "start_time": "2021-04-04T23:34:33.215772",
     "status": "completed"
    },
    "tags": []
   },
   "source": [
    "# Profiling"
   ]
  },
  {
   "cell_type": "code",
   "execution_count": 4,
   "id": "a3e0289b",
   "metadata": {
    "execution": {
     "iopub.execute_input": "2021-04-04T23:34:33.285118Z",
     "iopub.status.busy": "2021-04-04T23:34:33.284129Z",
     "iopub.status.idle": "2021-04-04T23:34:34.649345Z",
     "shell.execute_reply": "2021-04-04T23:34:34.648784Z"
    },
    "papermill": {
     "duration": 1.391614,
     "end_time": "2021-04-04T23:34:34.649463",
     "exception": false,
     "start_time": "2021-04-04T23:34:33.257849",
     "status": "completed"
    },
    "tags": []
   },
   "outputs": [],
   "source": [
    "import pandas as pd\n",
    "from pandas_profiling import ProfileReport"
   ]
  },
  {
   "cell_type": "code",
   "execution_count": 5,
   "id": "ee6c0666",
   "metadata": {
    "execution": {
     "iopub.execute_input": "2021-04-04T23:34:34.702717Z",
     "iopub.status.busy": "2021-04-04T23:34:34.700893Z",
     "iopub.status.idle": "2021-04-04T23:34:34.710518Z",
     "shell.execute_reply": "2021-04-04T23:34:34.710027Z"
    },
    "papermill": {
     "duration": 0.038579,
     "end_time": "2021-04-04T23:34:34.710633",
     "exception": false,
     "start_time": "2021-04-04T23:34:34.672054",
     "status": "completed"
    },
    "tags": []
   },
   "outputs": [],
   "source": [
    "df = pd.read_csv(dataset_config['dataset_path'])"
   ]
  },
  {
   "cell_type": "code",
   "execution_count": 6,
   "id": "7eca6c4a",
   "metadata": {
    "execution": {
     "iopub.execute_input": "2021-04-04T23:34:34.772786Z",
     "iopub.status.busy": "2021-04-04T23:34:34.760814Z",
     "iopub.status.idle": "2021-04-04T23:34:34.776530Z",
     "shell.execute_reply": "2021-04-04T23:34:34.775924Z"
    },
    "papermill": {
     "duration": 0.043111,
     "end_time": "2021-04-04T23:34:34.776769",
     "exception": false,
     "start_time": "2021-04-04T23:34:34.733658",
     "status": "completed"
    },
    "tags": []
   },
   "outputs": [
    {
     "name": "stdout",
     "output_type": "stream",
     "text": [
      "<class 'pandas.core.frame.DataFrame'>\n",
      "RangeIndex: 498 entries, 0 to 497\n",
      "Data columns (total 23 columns):\n",
      " #   Column             Non-Null Count  Dtype  \n",
      "---  ------             --------------  -----  \n",
      " 0   id                 498 non-null    int64  \n",
      " 1   loc                498 non-null    float64\n",
      " 2   v(g)               498 non-null    float64\n",
      " 3   ev(g)              498 non-null    float64\n",
      " 4   iv(g)              498 non-null    float64\n",
      " 5   n                  498 non-null    float64\n",
      " 6   v                  498 non-null    float64\n",
      " 7   l                  498 non-null    float64\n",
      " 8   d                  498 non-null    float64\n",
      " 9   i                  498 non-null    float64\n",
      " 10  e                  498 non-null    float64\n",
      " 11  b                  498 non-null    float64\n",
      " 12  t                  498 non-null    float64\n",
      " 13  lOCode             498 non-null    int64  \n",
      " 14  lOComment          498 non-null    int64  \n",
      " 15  lOBlank            498 non-null    int64  \n",
      " 16  locCodeAndComment  498 non-null    int64  \n",
      " 17  uniq_Op            498 non-null    float64\n",
      " 18  uniq_Opnd          498 non-null    float64\n",
      " 19  total_Op           498 non-null    float64\n",
      " 20  total_Opnd         498 non-null    float64\n",
      " 21  branchCount        498 non-null    float64\n",
      " 22  defects            498 non-null    bool   \n",
      "dtypes: bool(1), float64(17), int64(5)\n",
      "memory usage: 86.2 KB\n"
     ]
    }
   ],
   "source": [
    "df.info()"
   ]
  },
  {
   "cell_type": "code",
   "execution_count": 7,
   "id": "3638e5e8",
   "metadata": {
    "execution": {
     "iopub.execute_input": "2021-04-04T23:34:34.835313Z",
     "iopub.status.busy": "2021-04-04T23:34:34.834658Z",
     "iopub.status.idle": "2021-04-04T23:34:34.860150Z",
     "shell.execute_reply": "2021-04-04T23:34:34.859513Z"
    },
    "papermill": {
     "duration": 0.061282,
     "end_time": "2021-04-04T23:34:34.860309",
     "exception": false,
     "start_time": "2021-04-04T23:34:34.799027",
     "status": "completed"
    },
    "tags": []
   },
   "outputs": [
    {
     "data": {
      "text/html": [
       "<div>\n",
       "<style scoped>\n",
       "    .dataframe tbody tr th:only-of-type {\n",
       "        vertical-align: middle;\n",
       "    }\n",
       "\n",
       "    .dataframe tbody tr th {\n",
       "        vertical-align: top;\n",
       "    }\n",
       "\n",
       "    .dataframe thead th {\n",
       "        text-align: right;\n",
       "    }\n",
       "</style>\n",
       "<table border=\"1\" class=\"dataframe\">\n",
       "  <thead>\n",
       "    <tr style=\"text-align: right;\">\n",
       "      <th></th>\n",
       "      <th>id</th>\n",
       "      <th>loc</th>\n",
       "      <th>v(g)</th>\n",
       "      <th>ev(g)</th>\n",
       "      <th>iv(g)</th>\n",
       "      <th>n</th>\n",
       "      <th>v</th>\n",
       "      <th>l</th>\n",
       "      <th>d</th>\n",
       "      <th>i</th>\n",
       "      <th>...</th>\n",
       "      <th>lOCode</th>\n",
       "      <th>lOComment</th>\n",
       "      <th>lOBlank</th>\n",
       "      <th>locCodeAndComment</th>\n",
       "      <th>uniq_Op</th>\n",
       "      <th>uniq_Opnd</th>\n",
       "      <th>total_Op</th>\n",
       "      <th>total_Opnd</th>\n",
       "      <th>branchCount</th>\n",
       "      <th>defects</th>\n",
       "    </tr>\n",
       "  </thead>\n",
       "  <tbody>\n",
       "    <tr>\n",
       "      <th>0</th>\n",
       "      <td>1</td>\n",
       "      <td>1.1</td>\n",
       "      <td>1.4</td>\n",
       "      <td>1.4</td>\n",
       "      <td>1.4</td>\n",
       "      <td>1.3</td>\n",
       "      <td>1.30</td>\n",
       "      <td>1.30</td>\n",
       "      <td>1.30</td>\n",
       "      <td>1.30</td>\n",
       "      <td>...</td>\n",
       "      <td>2</td>\n",
       "      <td>2</td>\n",
       "      <td>2</td>\n",
       "      <td>2</td>\n",
       "      <td>1.2</td>\n",
       "      <td>1.2</td>\n",
       "      <td>1.2</td>\n",
       "      <td>1.2</td>\n",
       "      <td>1.4</td>\n",
       "      <td>False</td>\n",
       "    </tr>\n",
       "    <tr>\n",
       "      <th>1</th>\n",
       "      <td>2</td>\n",
       "      <td>1.0</td>\n",
       "      <td>1.0</td>\n",
       "      <td>1.0</td>\n",
       "      <td>1.0</td>\n",
       "      <td>1.0</td>\n",
       "      <td>1.00</td>\n",
       "      <td>1.00</td>\n",
       "      <td>1.00</td>\n",
       "      <td>1.00</td>\n",
       "      <td>...</td>\n",
       "      <td>1</td>\n",
       "      <td>1</td>\n",
       "      <td>1</td>\n",
       "      <td>1</td>\n",
       "      <td>1.0</td>\n",
       "      <td>1.0</td>\n",
       "      <td>1.0</td>\n",
       "      <td>1.0</td>\n",
       "      <td>1.0</td>\n",
       "      <td>True</td>\n",
       "    </tr>\n",
       "    <tr>\n",
       "      <th>2</th>\n",
       "      <td>3</td>\n",
       "      <td>24.0</td>\n",
       "      <td>5.0</td>\n",
       "      <td>1.0</td>\n",
       "      <td>3.0</td>\n",
       "      <td>63.0</td>\n",
       "      <td>309.13</td>\n",
       "      <td>0.11</td>\n",
       "      <td>9.50</td>\n",
       "      <td>32.54</td>\n",
       "      <td>...</td>\n",
       "      <td>1</td>\n",
       "      <td>0</td>\n",
       "      <td>6</td>\n",
       "      <td>0</td>\n",
       "      <td>15.0</td>\n",
       "      <td>15.0</td>\n",
       "      <td>44.0</td>\n",
       "      <td>19.0</td>\n",
       "      <td>9.0</td>\n",
       "      <td>False</td>\n",
       "    </tr>\n",
       "    <tr>\n",
       "      <th>3</th>\n",
       "      <td>4</td>\n",
       "      <td>20.0</td>\n",
       "      <td>4.0</td>\n",
       "      <td>4.0</td>\n",
       "      <td>2.0</td>\n",
       "      <td>47.0</td>\n",
       "      <td>215.49</td>\n",
       "      <td>0.06</td>\n",
       "      <td>16.00</td>\n",
       "      <td>13.47</td>\n",
       "      <td>...</td>\n",
       "      <td>0</td>\n",
       "      <td>0</td>\n",
       "      <td>3</td>\n",
       "      <td>0</td>\n",
       "      <td>16.0</td>\n",
       "      <td>8.0</td>\n",
       "      <td>31.0</td>\n",
       "      <td>16.0</td>\n",
       "      <td>7.0</td>\n",
       "      <td>False</td>\n",
       "    </tr>\n",
       "    <tr>\n",
       "      <th>4</th>\n",
       "      <td>5</td>\n",
       "      <td>24.0</td>\n",
       "      <td>6.0</td>\n",
       "      <td>6.0</td>\n",
       "      <td>2.0</td>\n",
       "      <td>72.0</td>\n",
       "      <td>346.13</td>\n",
       "      <td>0.06</td>\n",
       "      <td>17.33</td>\n",
       "      <td>19.97</td>\n",
       "      <td>...</td>\n",
       "      <td>0</td>\n",
       "      <td>0</td>\n",
       "      <td>3</td>\n",
       "      <td>0</td>\n",
       "      <td>16.0</td>\n",
       "      <td>12.0</td>\n",
       "      <td>46.0</td>\n",
       "      <td>26.0</td>\n",
       "      <td>11.0</td>\n",
       "      <td>False</td>\n",
       "    </tr>\n",
       "  </tbody>\n",
       "</table>\n",
       "<p>5 rows × 23 columns</p>\n",
       "</div>"
      ],
      "text/plain": [
       "   id   loc  v(g)  ev(g)  iv(g)     n       v     l      d      i  ...  \\\n",
       "0   1   1.1   1.4    1.4    1.4   1.3    1.30  1.30   1.30   1.30  ...   \n",
       "1   2   1.0   1.0    1.0    1.0   1.0    1.00  1.00   1.00   1.00  ...   \n",
       "2   3  24.0   5.0    1.0    3.0  63.0  309.13  0.11   9.50  32.54  ...   \n",
       "3   4  20.0   4.0    4.0    2.0  47.0  215.49  0.06  16.00  13.47  ...   \n",
       "4   5  24.0   6.0    6.0    2.0  72.0  346.13  0.06  17.33  19.97  ...   \n",
       "\n",
       "   lOCode  lOComment  lOBlank  locCodeAndComment  uniq_Op  uniq_Opnd  \\\n",
       "0       2          2        2                  2      1.2        1.2   \n",
       "1       1          1        1                  1      1.0        1.0   \n",
       "2       1          0        6                  0     15.0       15.0   \n",
       "3       0          0        3                  0     16.0        8.0   \n",
       "4       0          0        3                  0     16.0       12.0   \n",
       "\n",
       "   total_Op  total_Opnd  branchCount  defects  \n",
       "0       1.2         1.2          1.4    False  \n",
       "1       1.0         1.0          1.0     True  \n",
       "2      44.0        19.0          9.0    False  \n",
       "3      31.0        16.0          7.0    False  \n",
       "4      46.0        26.0         11.0    False  \n",
       "\n",
       "[5 rows x 23 columns]"
      ]
     },
     "execution_count": 7,
     "metadata": {},
     "output_type": "execute_result"
    }
   ],
   "source": [
    "df.head()"
   ]
  },
  {
   "cell_type": "code",
   "execution_count": 8,
   "id": "733e95eb",
   "metadata": {
    "execution": {
     "iopub.execute_input": "2021-04-04T23:34:34.910097Z",
     "iopub.status.busy": "2021-04-04T23:34:34.909319Z",
     "iopub.status.idle": "2021-04-04T23:34:34.911924Z",
     "shell.execute_reply": "2021-04-04T23:34:34.912399Z"
    },
    "papermill": {
     "duration": 0.028582,
     "end_time": "2021-04-04T23:34:34.912545",
     "exception": false,
     "start_time": "2021-04-04T23:34:34.883963",
     "status": "completed"
    },
    "tags": []
   },
   "outputs": [],
   "source": [
    "del df['id']"
   ]
  },
  {
   "cell_type": "code",
   "execution_count": 9,
   "id": "6ff6f5b0",
   "metadata": {
    "execution": {
     "iopub.execute_input": "2021-04-04T23:34:34.968916Z",
     "iopub.status.busy": "2021-04-04T23:34:34.967513Z",
     "iopub.status.idle": "2021-04-04T23:34:34.972821Z",
     "shell.execute_reply": "2021-04-04T23:34:34.972108Z"
    },
    "papermill": {
     "duration": 0.036645,
     "end_time": "2021-04-04T23:34:34.972961",
     "exception": false,
     "start_time": "2021-04-04T23:34:34.936316",
     "status": "completed"
    },
    "tags": []
   },
   "outputs": [],
   "source": [
    "if PROFILE_REPORTING:\n",
    "    ProfileReport(df).to_widgets()"
   ]
  },
  {
   "cell_type": "markdown",
   "id": "1deaf3f0",
   "metadata": {
    "papermill": {
     "duration": 0.024931,
     "end_time": "2021-04-04T23:34:35.026686",
     "exception": false,
     "start_time": "2021-04-04T23:34:35.001755",
     "status": "completed"
    },
    "tags": []
   },
   "source": [
    "# Preprocess"
   ]
  },
  {
   "cell_type": "code",
   "execution_count": 10,
   "id": "1513e563",
   "metadata": {
    "execution": {
     "iopub.execute_input": "2021-04-04T23:34:35.078526Z",
     "iopub.status.busy": "2021-04-04T23:34:35.077786Z",
     "iopub.status.idle": "2021-04-04T23:34:35.081181Z",
     "shell.execute_reply": "2021-04-04T23:34:35.082352Z"
    },
    "papermill": {
     "duration": 0.03411,
     "end_time": "2021-04-04T23:34:35.082743",
     "exception": false,
     "start_time": "2021-04-04T23:34:35.048633",
     "status": "completed"
    },
    "tags": []
   },
   "outputs": [],
   "source": [
    "working_df = df.copy()"
   ]
  },
  {
   "cell_type": "code",
   "execution_count": 11,
   "id": "3b26d675",
   "metadata": {
    "execution": {
     "iopub.execute_input": "2021-04-04T23:34:35.137030Z",
     "iopub.status.busy": "2021-04-04T23:34:35.136424Z",
     "iopub.status.idle": "2021-04-04T23:34:35.138449Z",
     "shell.execute_reply": "2021-04-04T23:34:35.138901Z"
    },
    "papermill": {
     "duration": 0.034543,
     "end_time": "2021-04-04T23:34:35.139039",
     "exception": false,
     "start_time": "2021-04-04T23:34:35.104496",
     "status": "completed"
    },
    "tags": []
   },
   "outputs": [],
   "source": [
    "working_df['defects'] = working_df['defects'].replace([False, True], [0, 1])"
   ]
  },
  {
   "cell_type": "code",
   "execution_count": 12,
   "id": "eb48604f",
   "metadata": {
    "execution": {
     "iopub.execute_input": "2021-04-04T23:34:35.195628Z",
     "iopub.status.busy": "2021-04-04T23:34:35.194761Z",
     "iopub.status.idle": "2021-04-04T23:34:35.196837Z",
     "shell.execute_reply": "2021-04-04T23:34:35.197389Z"
    },
    "papermill": {
     "duration": 0.036797,
     "end_time": "2021-04-04T23:34:35.197556",
     "exception": false,
     "start_time": "2021-04-04T23:34:35.160759",
     "status": "completed"
    },
    "tags": []
   },
   "outputs": [],
   "source": [
    "for col in dataset_config['delete_columns']:\n",
    "    del working_df[col]"
   ]
  },
  {
   "cell_type": "code",
   "execution_count": 13,
   "id": "9a17bc29",
   "metadata": {
    "execution": {
     "iopub.execute_input": "2021-04-04T23:34:35.258841Z",
     "iopub.status.busy": "2021-04-04T23:34:35.257374Z",
     "iopub.status.idle": "2021-04-04T23:34:35.270580Z",
     "shell.execute_reply": "2021-04-04T23:34:35.272517Z"
    },
    "papermill": {
     "duration": 0.050773,
     "end_time": "2021-04-04T23:34:35.272795",
     "exception": false,
     "start_time": "2021-04-04T23:34:35.222022",
     "status": "completed"
    },
    "tags": []
   },
   "outputs": [],
   "source": [
    "working_df = working_df.drop_duplicates()"
   ]
  },
  {
   "cell_type": "markdown",
   "id": "a4d52ca6",
   "metadata": {
    "papermill": {
     "duration": 0.05101,
     "end_time": "2021-04-04T23:34:35.367603",
     "exception": false,
     "start_time": "2021-04-04T23:34:35.316593",
     "status": "completed"
    },
    "tags": []
   },
   "source": [
    "# Split"
   ]
  },
  {
   "cell_type": "code",
   "execution_count": 14,
   "id": "3e9ee4b5",
   "metadata": {
    "execution": {
     "iopub.execute_input": "2021-04-04T23:34:35.487804Z",
     "iopub.status.busy": "2021-04-04T23:34:35.486382Z",
     "iopub.status.idle": "2021-04-04T23:34:35.524013Z",
     "shell.execute_reply": "2021-04-04T23:34:35.524906Z"
    },
    "papermill": {
     "duration": 0.096915,
     "end_time": "2021-04-04T23:34:35.525164",
     "exception": false,
     "start_time": "2021-04-04T23:34:35.428249",
     "status": "completed"
    },
    "tags": []
   },
   "outputs": [],
   "source": [
    "from sklearn.model_selection import train_test_split"
   ]
  },
  {
   "cell_type": "code",
   "execution_count": 15,
   "id": "274004ce",
   "metadata": {
    "execution": {
     "iopub.execute_input": "2021-04-04T23:34:35.603796Z",
     "iopub.status.busy": "2021-04-04T23:34:35.602821Z",
     "iopub.status.idle": "2021-04-04T23:34:35.608458Z",
     "shell.execute_reply": "2021-04-04T23:34:35.609007Z"
    },
    "papermill": {
     "duration": 0.047801,
     "end_time": "2021-04-04T23:34:35.609176",
     "exception": false,
     "start_time": "2021-04-04T23:34:35.561375",
     "status": "completed"
    },
    "scrolled": true,
    "tags": []
   },
   "outputs": [],
   "source": [
    "inlier, outlier = working_df[working_df['defects'] == 0], working_df[working_df['defects'] == 1]"
   ]
  },
  {
   "cell_type": "code",
   "execution_count": 16,
   "id": "753c7b03",
   "metadata": {
    "execution": {
     "iopub.execute_input": "2021-04-04T23:34:35.673843Z",
     "iopub.status.busy": "2021-04-04T23:34:35.672820Z",
     "iopub.status.idle": "2021-04-04T23:34:35.675210Z",
     "shell.execute_reply": "2021-04-04T23:34:35.675685Z"
    },
    "papermill": {
     "duration": 0.035578,
     "end_time": "2021-04-04T23:34:35.675833",
     "exception": false,
     "start_time": "2021-04-04T23:34:35.640255",
     "status": "completed"
    },
    "tags": []
   },
   "outputs": [],
   "source": [
    "X_inlier = inlier.copy()\n",
    "y_inlier = X_inlier.pop('defects')\n",
    "X_outlier = outlier.copy()\n",
    "y_outlier = X_outlier.pop('defects')"
   ]
  },
  {
   "cell_type": "code",
   "execution_count": 17,
   "id": "2ba43193",
   "metadata": {
    "execution": {
     "iopub.execute_input": "2021-04-04T23:34:35.738522Z",
     "iopub.status.busy": "2021-04-04T23:34:35.737726Z",
     "iopub.status.idle": "2021-04-04T23:34:35.739829Z",
     "shell.execute_reply": "2021-04-04T23:34:35.740454Z"
    },
    "papermill": {
     "duration": 0.038793,
     "end_time": "2021-04-04T23:34:35.740625",
     "exception": false,
     "start_time": "2021-04-04T23:34:35.701832",
     "status": "completed"
    },
    "tags": []
   },
   "outputs": [],
   "source": [
    "test_size = dataset_config['test_size']\n",
    "random_state = dataset_config['random_state']\n",
    "\n",
    "X_inlier_train, X_inlier_test, y_inlier_train, y_inlier_test = train_test_split(\n",
    "    X_inlier,\n",
    "    y_inlier,\n",
    "    test_size=test_size,\n",
    "    random_state=random_state\n",
    ")"
   ]
  },
  {
   "cell_type": "code",
   "execution_count": 18,
   "id": "0b7582ca",
   "metadata": {
    "execution": {
     "iopub.execute_input": "2021-04-04T23:34:35.817795Z",
     "iopub.status.busy": "2021-04-04T23:34:35.816227Z",
     "iopub.status.idle": "2021-04-04T23:34:35.820631Z",
     "shell.execute_reply": "2021-04-04T23:34:35.821572Z"
    },
    "papermill": {
     "duration": 0.050428,
     "end_time": "2021-04-04T23:34:35.821821",
     "exception": false,
     "start_time": "2021-04-04T23:34:35.771393",
     "status": "completed"
    },
    "tags": []
   },
   "outputs": [],
   "source": [
    "test_outlier_size = dataset_config['test_outlier_size']\n",
    "if test_outlier_size > 0.0:\n",
    "    X_outlier_train, X_outlier_test, y_outlier_train, y_outlier_test = train_test_split(\n",
    "        X_outlier,\n",
    "        y_outlier,\n",
    "        test_size=test_outlier_size,\n",
    "        random_state=random_state\n",
    "    )\n",
    "else:\n",
    "    X_outlier_train, y_outlier_train = pd.DataFrame(columns=X_outlier.columns), pd.Series(dtype='int64')\n",
    "    X_outlier_test, y_outlier_test = X_outlier.copy(), y_outlier.copy()"
   ]
  },
  {
   "cell_type": "code",
   "execution_count": 19,
   "id": "c34363db",
   "metadata": {
    "execution": {
     "iopub.execute_input": "2021-04-04T23:34:35.910366Z",
     "iopub.status.busy": "2021-04-04T23:34:35.908329Z",
     "iopub.status.idle": "2021-04-04T23:34:35.918920Z",
     "shell.execute_reply": "2021-04-04T23:34:35.918274Z"
    },
    "papermill": {
     "duration": 0.060392,
     "end_time": "2021-04-04T23:34:35.919074",
     "exception": false,
     "start_time": "2021-04-04T23:34:35.858682",
     "status": "completed"
    },
    "tags": []
   },
   "outputs": [],
   "source": [
    "X_train, y_train = pd.concat([X_inlier_train, X_outlier_train], ignore_index=True), pd.concat([y_inlier_train, y_outlier_train], ignore_index=True)\n",
    "X_test, y_test = pd.concat([X_inlier_test, X_outlier_test], ignore_index=True), pd.concat([y_inlier_test, y_outlier_test], ignore_index=True)"
   ]
  },
  {
   "cell_type": "markdown",
   "id": "7cde7309",
   "metadata": {
    "papermill": {
     "duration": 0.037922,
     "end_time": "2021-04-04T23:34:35.992023",
     "exception": false,
     "start_time": "2021-04-04T23:34:35.954101",
     "status": "completed"
    },
    "tags": []
   },
   "source": [
    "# Model"
   ]
  },
  {
   "cell_type": "code",
   "execution_count": 20,
   "id": "2b12a415",
   "metadata": {
    "execution": {
     "iopub.execute_input": "2021-04-04T23:34:36.096941Z",
     "iopub.status.busy": "2021-04-04T23:34:36.095154Z",
     "iopub.status.idle": "2021-04-04T23:34:36.107242Z",
     "shell.execute_reply": "2021-04-04T23:34:36.109747Z"
    },
    "papermill": {
     "duration": 0.075054,
     "end_time": "2021-04-04T23:34:36.110432",
     "exception": false,
     "start_time": "2021-04-04T23:34:36.035378",
     "status": "completed"
    },
    "tags": []
   },
   "outputs": [],
   "source": [
    "from math import sqrt\n",
    "\n",
    "\n",
    "class KNNDataDescription:\n",
    "    def __init__(self, k=5, outlier_threshold=1.0):\n",
    "        self.k = k\n",
    "        self.outlier_threshold = outlier_threshold\n",
    "        self.X = []\n",
    "    \n",
    "    def fit(self, X):\n",
    "        self.X = [features.to_list() for index, features in X.iterrows()]\n",
    "\n",
    "    def predict(self, entries):\n",
    "        return [self.predict_entry(features.to_list()) for index, features in entries.iterrows()]\n",
    "    \n",
    "    def predict_entry(self, entry):\n",
    "        kth_neighbor, kth_distance = self.get_kth_neighbor(entry, self.k)\n",
    "        kth_kth_neighbor, kth_kth_distance = self.get_kth_neighbor(kth_neighbor, self.k + 1)\n",
    "\n",
    "        outlier_score = kth_distance / (kth_kth_distance + 0.000001)\n",
    "\n",
    "        return 1 if outlier_score < self.outlier_threshold else -1\n",
    "        \n",
    "    def euclidean_distance(self, features1, features2):\n",
    "        distance = 0.0\n",
    "        for feat1, feat2 in zip(features1, features2):\n",
    "            distance += (feat1 - feat2)**2\n",
    "                \n",
    "        return sqrt(distance)\n",
    "\n",
    "    def get_neighbors(self, entry, k):\n",
    "        distance_to_data_points = [\n",
    "            (data_point, self.euclidean_distance(entry, data_point))\n",
    "            for data_point in self.X\n",
    "        ]\n",
    "        sorted_by_distance = sorted(distance_to_data_points, key=lambda tup: tup[1])\n",
    "        neighbors = sorted_by_distance[:k]\n",
    "        return neighbors\n",
    "\n",
    "    def get_kth_neighbor(self, entry, k):\n",
    "        neighbors = self.get_neighbors(entry, k)\n",
    "        return neighbors[-1]\n"
   ]
  },
  {
   "cell_type": "code",
   "execution_count": 21,
   "id": "1fa9ec1c",
   "metadata": {
    "execution": {
     "iopub.execute_input": "2021-04-04T23:34:36.186307Z",
     "iopub.status.busy": "2021-04-04T23:34:36.184650Z",
     "iopub.status.idle": "2021-04-04T23:34:36.216771Z",
     "shell.execute_reply": "2021-04-04T23:34:36.217377Z"
    },
    "papermill": {
     "duration": 0.072117,
     "end_time": "2021-04-04T23:34:36.217554",
     "exception": false,
     "start_time": "2021-04-04T23:34:36.145437",
     "status": "completed"
    },
    "tags": []
   },
   "outputs": [],
   "source": [
    "from sklearn.svm import OneClassSVM\n",
    "\n",
    "\n",
    "models = {\n",
    "    'oneclasssvm': OneClassSVM,\n",
    "    'knndatadescription': KNNDataDescription,\n",
    "}"
   ]
  },
  {
   "cell_type": "code",
   "execution_count": 22,
   "id": "4d72a0b1",
   "metadata": {
    "execution": {
     "iopub.execute_input": "2021-04-04T23:34:36.288340Z",
     "iopub.status.busy": "2021-04-04T23:34:36.286977Z",
     "iopub.status.idle": "2021-04-04T23:34:36.290696Z",
     "shell.execute_reply": "2021-04-04T23:34:36.289516Z"
    },
    "papermill": {
     "duration": 0.042399,
     "end_time": "2021-04-04T23:34:36.290939",
     "exception": false,
     "start_time": "2021-04-04T23:34:36.248540",
     "status": "completed"
    },
    "scrolled": true,
    "tags": []
   },
   "outputs": [],
   "source": [
    "model_cls = models[model_config['model_type']]\n",
    "model = model_cls(**model_config['hyperparameters'])"
   ]
  },
  {
   "cell_type": "markdown",
   "id": "e00cff3b",
   "metadata": {
    "papermill": {
     "duration": 0.039573,
     "end_time": "2021-04-04T23:34:36.366092",
     "exception": false,
     "start_time": "2021-04-04T23:34:36.326519",
     "status": "completed"
    },
    "tags": []
   },
   "source": [
    "# Fit"
   ]
  },
  {
   "cell_type": "code",
   "execution_count": 23,
   "id": "8b2ded89",
   "metadata": {
    "execution": {
     "iopub.execute_input": "2021-04-04T23:34:36.468039Z",
     "iopub.status.busy": "2021-04-04T23:34:36.464025Z",
     "iopub.status.idle": "2021-04-04T23:34:36.502166Z",
     "shell.execute_reply": "2021-04-04T23:34:36.501568Z"
    },
    "papermill": {
     "duration": 0.094386,
     "end_time": "2021-04-04T23:34:36.502304",
     "exception": false,
     "start_time": "2021-04-04T23:34:36.407918",
     "status": "completed"
    },
    "tags": []
   },
   "outputs": [],
   "source": [
    "model.fit(X_train)"
   ]
  },
  {
   "cell_type": "markdown",
   "id": "f99999f7",
   "metadata": {
    "papermill": {
     "duration": 0.035022,
     "end_time": "2021-04-04T23:34:36.583806",
     "exception": false,
     "start_time": "2021-04-04T23:34:36.548784",
     "status": "completed"
    },
    "tags": []
   },
   "source": [
    "# Predict"
   ]
  },
  {
   "cell_type": "code",
   "execution_count": 24,
   "id": "6536fbf7",
   "metadata": {
    "execution": {
     "iopub.execute_input": "2021-04-04T23:34:36.665839Z",
     "iopub.status.busy": "2021-04-04T23:34:36.664664Z",
     "iopub.status.idle": "2021-04-04T23:34:37.098425Z",
     "shell.execute_reply": "2021-04-04T23:34:37.098965Z"
    },
    "papermill": {
     "duration": 0.48071,
     "end_time": "2021-04-04T23:34:37.099146",
     "exception": false,
     "start_time": "2021-04-04T23:34:36.618436",
     "status": "completed"
    },
    "tags": []
   },
   "outputs": [],
   "source": [
    "predictions = model.predict(X_test)"
   ]
  },
  {
   "cell_type": "markdown",
   "id": "aa1c9881",
   "metadata": {
    "papermill": {
     "duration": 0.030073,
     "end_time": "2021-04-04T23:34:37.159872",
     "exception": false,
     "start_time": "2021-04-04T23:34:37.129799",
     "status": "completed"
    },
    "tags": []
   },
   "source": [
    "# Evaluate"
   ]
  },
  {
   "cell_type": "code",
   "execution_count": 25,
   "id": "894f0f04",
   "metadata": {
    "execution": {
     "iopub.execute_input": "2021-04-04T23:34:37.228895Z",
     "iopub.status.busy": "2021-04-04T23:34:37.228064Z",
     "iopub.status.idle": "2021-04-04T23:34:37.230398Z",
     "shell.execute_reply": "2021-04-04T23:34:37.231538Z"
    },
    "papermill": {
     "duration": 0.044181,
     "end_time": "2021-04-04T23:34:37.231901",
     "exception": false,
     "start_time": "2021-04-04T23:34:37.187720",
     "status": "completed"
    },
    "tags": []
   },
   "outputs": [],
   "source": [
    "from sklearn.metrics import f1_score"
   ]
  },
  {
   "cell_type": "code",
   "execution_count": 26,
   "id": "211744d3",
   "metadata": {
    "execution": {
     "iopub.execute_input": "2021-04-04T23:34:37.306263Z",
     "iopub.status.busy": "2021-04-04T23:34:37.304266Z",
     "iopub.status.idle": "2021-04-04T23:34:37.308914Z",
     "shell.execute_reply": "2021-04-04T23:34:37.310670Z"
    },
    "papermill": {
     "duration": 0.043834,
     "end_time": "2021-04-04T23:34:37.310968",
     "exception": false,
     "start_time": "2021-04-04T23:34:37.267134",
     "status": "completed"
    },
    "tags": []
   },
   "outputs": [],
   "source": [
    "y_test = y_test.replace([0, 1], [1, -1])"
   ]
  },
  {
   "cell_type": "code",
   "execution_count": 27,
   "id": "d68a9204",
   "metadata": {
    "execution": {
     "iopub.execute_input": "2021-04-04T23:34:37.398147Z",
     "iopub.status.busy": "2021-04-04T23:34:37.396169Z",
     "iopub.status.idle": "2021-04-04T23:34:37.401111Z",
     "shell.execute_reply": "2021-04-04T23:34:37.400416Z"
    },
    "papermill": {
     "duration": 0.054035,
     "end_time": "2021-04-04T23:34:37.401293",
     "exception": false,
     "start_time": "2021-04-04T23:34:37.347258",
     "status": "completed"
    },
    "tags": []
   },
   "outputs": [],
   "source": [
    "def evaluate(truths, predictions, pos_label, neg_label):\n",
    "    TP = 0\n",
    "    FP = 0\n",
    "    TN = 0\n",
    "    FN = 0\n",
    "\n",
    "    for truth, pred in zip(truths, predictions): \n",
    "        if truth == pred == pos_label:\n",
    "           TP += 1\n",
    "        elif pred == pos_label and truth == neg_label:\n",
    "           FP += 1\n",
    "        elif truth == pred == neg_label:\n",
    "           TN += 1\n",
    "        elif pred == neg_label and truth == pos_label:\n",
    "           FN += 1\n",
    "\n",
    "    precision = TP / (TP + FP)\n",
    "    sensitivity = TP / (TP + FN)\n",
    "    \n",
    "    return {\n",
    "        'true_pos': TP,\n",
    "        'false_pos': FP,\n",
    "        'false_neg': FN,\n",
    "        'true_neg': TN,\n",
    "        'precision': precision,\n",
    "        'sensitivity': sensitivity,\n",
    "        'f1': (2 * (precision * sensitivity)) / (precision + sensitivity)\n",
    "    }\n",
    "\n",
    "score = evaluate(y_test, predictions, pos_label=-1, neg_label=1)"
   ]
  },
  {
   "cell_type": "markdown",
   "id": "93596516",
   "metadata": {
    "papermill": {
     "duration": 0.032427,
     "end_time": "2021-04-04T23:34:37.472411",
     "exception": false,
     "start_time": "2021-04-04T23:34:37.439984",
     "status": "completed"
    },
    "tags": []
   },
   "source": [
    "# Report"
   ]
  },
  {
   "cell_type": "code",
   "execution_count": 28,
   "id": "bea5fba1",
   "metadata": {
    "execution": {
     "iopub.execute_input": "2021-04-04T23:34:37.551245Z",
     "iopub.status.busy": "2021-04-04T23:34:37.550402Z",
     "iopub.status.idle": "2021-04-04T23:34:37.554802Z",
     "shell.execute_reply": "2021-04-04T23:34:37.555925Z"
    },
    "papermill": {
     "duration": 0.047931,
     "end_time": "2021-04-04T23:34:37.556510",
     "exception": false,
     "start_time": "2021-04-04T23:34:37.508579",
     "status": "completed"
    },
    "tags": []
   },
   "outputs": [],
   "source": [
    "import csv\n",
    "\n",
    "\n",
    "dataset_config_name = DATASET_CONFIG_PATH.split('/')[-1].split('.')[0]\n",
    "model_config_name = MODEL_CONFIG_PATH.split('/')[-1].split('.')[0]\n",
    "configuration = f\"dataset_{dataset_config_name}-model_{model_config_name}\"\n",
    "\n",
    "with open('results.csv', 'a') as f:\n",
    "    report = dict({'configuration': configuration}, **score)\n",
    "    writer = csv.DictWriter(f, report.keys())\n",
    "    writer.writerow(report)"
   ]
  }
 ],
 "metadata": {
  "celltoolbar": "Tags",
  "kernelspec": {
   "display_name": "Python 3",
   "language": "python",
   "name": "python3"
  },
  "language_info": {
   "codemirror_mode": {
    "name": "ipython",
    "version": 3
   },
   "file_extension": ".py",
   "mimetype": "text/x-python",
   "name": "python",
   "nbconvert_exporter": "python",
   "pygments_lexer": "ipython3",
   "version": "3.9.1"
  },
  "papermill": {
   "default_parameters": {},
   "duration": 7.080067,
   "end_time": "2021-04-04T23:34:39.156334",
   "environment_variables": {},
   "exception": null,
   "input_path": "main.ipynb",
   "output_path": "runs/dataset_000152-model_000002.ipynb",
   "parameters": {
    "DATASET_CONFIG_PATH": "config/dataset/000152.json",
    "MODEL_CONFIG_PATH": "config/model/000002.json",
    "PROFILE_REPORTING": false
   },
   "start_time": "2021-04-04T23:34:32.076267",
   "version": "2.3.3"
  }
 },
 "nbformat": 4,
 "nbformat_minor": 5
}