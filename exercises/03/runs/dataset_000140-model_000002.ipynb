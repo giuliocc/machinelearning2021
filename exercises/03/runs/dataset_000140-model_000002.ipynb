{
 "cells": [
  {
   "cell_type": "markdown",
   "id": "51c71c25",
   "metadata": {
    "papermill": {
     "duration": 0.019862,
     "end_time": "2021-04-04T23:29:28.502771",
     "exception": false,
     "start_time": "2021-04-04T23:29:28.482909",
     "status": "completed"
    },
    "tags": []
   },
   "source": [
    "# Parametrizing"
   ]
  },
  {
   "cell_type": "code",
   "execution_count": 1,
   "id": "3b136394",
   "metadata": {
    "execution": {
     "iopub.execute_input": "2021-04-04T23:29:28.566270Z",
     "iopub.status.busy": "2021-04-04T23:29:28.564058Z",
     "iopub.status.idle": "2021-04-04T23:29:28.568009Z",
     "shell.execute_reply": "2021-04-04T23:29:28.568733Z"
    },
    "papermill": {
     "duration": 0.043593,
     "end_time": "2021-04-04T23:29:28.569003",
     "exception": false,
     "start_time": "2021-04-04T23:29:28.525410",
     "status": "completed"
    },
    "tags": [
     "parameters"
    ]
   },
   "outputs": [],
   "source": [
    "DATASET_CONFIG_PATH = 'config/dataset/kc1_001.json'\n",
    "MODEL_CONFIG_PATH = 'config/model/knndd_001.json'\n",
    "PROFILE_REPORTING = False"
   ]
  },
  {
   "cell_type": "code",
   "execution_count": 2,
   "id": "00ecc7a7",
   "metadata": {
    "execution": {
     "iopub.execute_input": "2021-04-04T23:29:28.616056Z",
     "iopub.status.busy": "2021-04-04T23:29:28.615232Z",
     "iopub.status.idle": "2021-04-04T23:29:28.617636Z",
     "shell.execute_reply": "2021-04-04T23:29:28.618109Z"
    },
    "papermill": {
     "duration": 0.027686,
     "end_time": "2021-04-04T23:29:28.618268",
     "exception": false,
     "start_time": "2021-04-04T23:29:28.590582",
     "status": "completed"
    },
    "tags": [
     "injected-parameters"
    ]
   },
   "outputs": [],
   "source": [
    "# Parameters\n",
    "DATASET_CONFIG_PATH = \"config/dataset/000140.json\"\n",
    "MODEL_CONFIG_PATH = \"config/model/000002.json\"\n",
    "PROFILE_REPORTING = False\n"
   ]
  },
  {
   "cell_type": "code",
   "execution_count": 3,
   "id": "b80f2a10",
   "metadata": {
    "execution": {
     "iopub.execute_input": "2021-04-04T23:29:28.674983Z",
     "iopub.status.busy": "2021-04-04T23:29:28.673220Z",
     "iopub.status.idle": "2021-04-04T23:29:28.677142Z",
     "shell.execute_reply": "2021-04-04T23:29:28.677695Z"
    },
    "papermill": {
     "duration": 0.035889,
     "end_time": "2021-04-04T23:29:28.677866",
     "exception": false,
     "start_time": "2021-04-04T23:29:28.641977",
     "status": "completed"
    },
    "tags": []
   },
   "outputs": [],
   "source": [
    "import json\n",
    "\n",
    "\n",
    "with open(DATASET_CONFIG_PATH) as f:\n",
    "    dataset_config = json.load(f)\n",
    "\n",
    "with open(MODEL_CONFIG_PATH) as f:\n",
    "    model_config = json.load(f)"
   ]
  },
  {
   "cell_type": "markdown",
   "id": "9a4b0e2d",
   "metadata": {
    "papermill": {
     "duration": 0.019948,
     "end_time": "2021-04-04T23:29:28.722762",
     "exception": false,
     "start_time": "2021-04-04T23:29:28.702814",
     "status": "completed"
    },
    "tags": []
   },
   "source": [
    "# Profiling"
   ]
  },
  {
   "cell_type": "code",
   "execution_count": 4,
   "id": "a3e0289b",
   "metadata": {
    "execution": {
     "iopub.execute_input": "2021-04-04T23:29:28.781227Z",
     "iopub.status.busy": "2021-04-04T23:29:28.780053Z",
     "iopub.status.idle": "2021-04-04T23:29:30.563163Z",
     "shell.execute_reply": "2021-04-04T23:29:30.562639Z"
    },
    "papermill": {
     "duration": 1.815659,
     "end_time": "2021-04-04T23:29:30.563284",
     "exception": false,
     "start_time": "2021-04-04T23:29:28.747625",
     "status": "completed"
    },
    "tags": []
   },
   "outputs": [],
   "source": [
    "import pandas as pd\n",
    "from pandas_profiling import ProfileReport"
   ]
  },
  {
   "cell_type": "code",
   "execution_count": 5,
   "id": "ee6c0666",
   "metadata": {
    "execution": {
     "iopub.execute_input": "2021-04-04T23:29:30.618247Z",
     "iopub.status.busy": "2021-04-04T23:29:30.616246Z",
     "iopub.status.idle": "2021-04-04T23:29:30.625033Z",
     "shell.execute_reply": "2021-04-04T23:29:30.625478Z"
    },
    "papermill": {
     "duration": 0.039424,
     "end_time": "2021-04-04T23:29:30.625618",
     "exception": false,
     "start_time": "2021-04-04T23:29:30.586194",
     "status": "completed"
    },
    "tags": []
   },
   "outputs": [],
   "source": [
    "df = pd.read_csv(dataset_config['dataset_path'])"
   ]
  },
  {
   "cell_type": "code",
   "execution_count": 6,
   "id": "7eca6c4a",
   "metadata": {
    "execution": {
     "iopub.execute_input": "2021-04-04T23:29:30.694308Z",
     "iopub.status.busy": "2021-04-04T23:29:30.693550Z",
     "iopub.status.idle": "2021-04-04T23:29:30.697423Z",
     "shell.execute_reply": "2021-04-04T23:29:30.696675Z"
    },
    "papermill": {
     "duration": 0.048403,
     "end_time": "2021-04-04T23:29:30.697567",
     "exception": false,
     "start_time": "2021-04-04T23:29:30.649164",
     "status": "completed"
    },
    "tags": []
   },
   "outputs": [
    {
     "name": "stdout",
     "output_type": "stream",
     "text": [
      "<class 'pandas.core.frame.DataFrame'>\n",
      "RangeIndex: 498 entries, 0 to 497\n",
      "Data columns (total 23 columns):\n",
      " #   Column             Non-Null Count  Dtype  \n",
      "---  ------             --------------  -----  \n",
      " 0   id                 498 non-null    int64  \n",
      " 1   loc                498 non-null    float64\n",
      " 2   v(g)               498 non-null    float64\n",
      " 3   ev(g)              498 non-null    float64\n",
      " 4   iv(g)              498 non-null    float64\n",
      " 5   n                  498 non-null    float64\n",
      " 6   v                  498 non-null    float64\n",
      " 7   l                  498 non-null    float64\n",
      " 8   d                  498 non-null    float64\n",
      " 9   i                  498 non-null    float64\n",
      " 10  e                  498 non-null    float64\n",
      " 11  b                  498 non-null    float64\n",
      " 12  t                  498 non-null    float64\n",
      " 13  lOCode             498 non-null    int64  \n",
      " 14  lOComment          498 non-null    int64  \n",
      " 15  lOBlank            498 non-null    int64  \n",
      " 16  locCodeAndComment  498 non-null    int64  \n",
      " 17  uniq_Op            498 non-null    float64\n",
      " 18  uniq_Opnd          498 non-null    float64\n",
      " 19  total_Op           498 non-null    float64\n",
      " 20  total_Opnd         498 non-null    float64\n",
      " 21  branchCount        498 non-null    float64\n",
      " 22  defects            498 non-null    bool   \n",
      "dtypes: bool(1), float64(17), int64(5)\n",
      "memory usage: 86.2 KB\n"
     ]
    }
   ],
   "source": [
    "df.info()"
   ]
  },
  {
   "cell_type": "code",
   "execution_count": 7,
   "id": "3638e5e8",
   "metadata": {
    "execution": {
     "iopub.execute_input": "2021-04-04T23:29:30.754267Z",
     "iopub.status.busy": "2021-04-04T23:29:30.752729Z",
     "iopub.status.idle": "2021-04-04T23:29:30.779050Z",
     "shell.execute_reply": "2021-04-04T23:29:30.779525Z"
    },
    "papermill": {
     "duration": 0.060109,
     "end_time": "2021-04-04T23:29:30.779672",
     "exception": false,
     "start_time": "2021-04-04T23:29:30.719563",
     "status": "completed"
    },
    "tags": []
   },
   "outputs": [
    {
     "data": {
      "text/html": [
       "<div>\n",
       "<style scoped>\n",
       "    .dataframe tbody tr th:only-of-type {\n",
       "        vertical-align: middle;\n",
       "    }\n",
       "\n",
       "    .dataframe tbody tr th {\n",
       "        vertical-align: top;\n",
       "    }\n",
       "\n",
       "    .dataframe thead th {\n",
       "        text-align: right;\n",
       "    }\n",
       "</style>\n",
       "<table border=\"1\" class=\"dataframe\">\n",
       "  <thead>\n",
       "    <tr style=\"text-align: right;\">\n",
       "      <th></th>\n",
       "      <th>id</th>\n",
       "      <th>loc</th>\n",
       "      <th>v(g)</th>\n",
       "      <th>ev(g)</th>\n",
       "      <th>iv(g)</th>\n",
       "      <th>n</th>\n",
       "      <th>v</th>\n",
       "      <th>l</th>\n",
       "      <th>d</th>\n",
       "      <th>i</th>\n",
       "      <th>...</th>\n",
       "      <th>lOCode</th>\n",
       "      <th>lOComment</th>\n",
       "      <th>lOBlank</th>\n",
       "      <th>locCodeAndComment</th>\n",
       "      <th>uniq_Op</th>\n",
       "      <th>uniq_Opnd</th>\n",
       "      <th>total_Op</th>\n",
       "      <th>total_Opnd</th>\n",
       "      <th>branchCount</th>\n",
       "      <th>defects</th>\n",
       "    </tr>\n",
       "  </thead>\n",
       "  <tbody>\n",
       "    <tr>\n",
       "      <th>0</th>\n",
       "      <td>1</td>\n",
       "      <td>1.1</td>\n",
       "      <td>1.4</td>\n",
       "      <td>1.4</td>\n",
       "      <td>1.4</td>\n",
       "      <td>1.3</td>\n",
       "      <td>1.30</td>\n",
       "      <td>1.30</td>\n",
       "      <td>1.30</td>\n",
       "      <td>1.30</td>\n",
       "      <td>...</td>\n",
       "      <td>2</td>\n",
       "      <td>2</td>\n",
       "      <td>2</td>\n",
       "      <td>2</td>\n",
       "      <td>1.2</td>\n",
       "      <td>1.2</td>\n",
       "      <td>1.2</td>\n",
       "      <td>1.2</td>\n",
       "      <td>1.4</td>\n",
       "      <td>False</td>\n",
       "    </tr>\n",
       "    <tr>\n",
       "      <th>1</th>\n",
       "      <td>2</td>\n",
       "      <td>1.0</td>\n",
       "      <td>1.0</td>\n",
       "      <td>1.0</td>\n",
       "      <td>1.0</td>\n",
       "      <td>1.0</td>\n",
       "      <td>1.00</td>\n",
       "      <td>1.00</td>\n",
       "      <td>1.00</td>\n",
       "      <td>1.00</td>\n",
       "      <td>...</td>\n",
       "      <td>1</td>\n",
       "      <td>1</td>\n",
       "      <td>1</td>\n",
       "      <td>1</td>\n",
       "      <td>1.0</td>\n",
       "      <td>1.0</td>\n",
       "      <td>1.0</td>\n",
       "      <td>1.0</td>\n",
       "      <td>1.0</td>\n",
       "      <td>True</td>\n",
       "    </tr>\n",
       "    <tr>\n",
       "      <th>2</th>\n",
       "      <td>3</td>\n",
       "      <td>24.0</td>\n",
       "      <td>5.0</td>\n",
       "      <td>1.0</td>\n",
       "      <td>3.0</td>\n",
       "      <td>63.0</td>\n",
       "      <td>309.13</td>\n",
       "      <td>0.11</td>\n",
       "      <td>9.50</td>\n",
       "      <td>32.54</td>\n",
       "      <td>...</td>\n",
       "      <td>1</td>\n",
       "      <td>0</td>\n",
       "      <td>6</td>\n",
       "      <td>0</td>\n",
       "      <td>15.0</td>\n",
       "      <td>15.0</td>\n",
       "      <td>44.0</td>\n",
       "      <td>19.0</td>\n",
       "      <td>9.0</td>\n",
       "      <td>False</td>\n",
       "    </tr>\n",
       "    <tr>\n",
       "      <th>3</th>\n",
       "      <td>4</td>\n",
       "      <td>20.0</td>\n",
       "      <td>4.0</td>\n",
       "      <td>4.0</td>\n",
       "      <td>2.0</td>\n",
       "      <td>47.0</td>\n",
       "      <td>215.49</td>\n",
       "      <td>0.06</td>\n",
       "      <td>16.00</td>\n",
       "      <td>13.47</td>\n",
       "      <td>...</td>\n",
       "      <td>0</td>\n",
       "      <td>0</td>\n",
       "      <td>3</td>\n",
       "      <td>0</td>\n",
       "      <td>16.0</td>\n",
       "      <td>8.0</td>\n",
       "      <td>31.0</td>\n",
       "      <td>16.0</td>\n",
       "      <td>7.0</td>\n",
       "      <td>False</td>\n",
       "    </tr>\n",
       "    <tr>\n",
       "      <th>4</th>\n",
       "      <td>5</td>\n",
       "      <td>24.0</td>\n",
       "      <td>6.0</td>\n",
       "      <td>6.0</td>\n",
       "      <td>2.0</td>\n",
       "      <td>72.0</td>\n",
       "      <td>346.13</td>\n",
       "      <td>0.06</td>\n",
       "      <td>17.33</td>\n",
       "      <td>19.97</td>\n",
       "      <td>...</td>\n",
       "      <td>0</td>\n",
       "      <td>0</td>\n",
       "      <td>3</td>\n",
       "      <td>0</td>\n",
       "      <td>16.0</td>\n",
       "      <td>12.0</td>\n",
       "      <td>46.0</td>\n",
       "      <td>26.0</td>\n",
       "      <td>11.0</td>\n",
       "      <td>False</td>\n",
       "    </tr>\n",
       "  </tbody>\n",
       "</table>\n",
       "<p>5 rows × 23 columns</p>\n",
       "</div>"
      ],
      "text/plain": [
       "   id   loc  v(g)  ev(g)  iv(g)     n       v     l      d      i  ...  \\\n",
       "0   1   1.1   1.4    1.4    1.4   1.3    1.30  1.30   1.30   1.30  ...   \n",
       "1   2   1.0   1.0    1.0    1.0   1.0    1.00  1.00   1.00   1.00  ...   \n",
       "2   3  24.0   5.0    1.0    3.0  63.0  309.13  0.11   9.50  32.54  ...   \n",
       "3   4  20.0   4.0    4.0    2.0  47.0  215.49  0.06  16.00  13.47  ...   \n",
       "4   5  24.0   6.0    6.0    2.0  72.0  346.13  0.06  17.33  19.97  ...   \n",
       "\n",
       "   lOCode  lOComment  lOBlank  locCodeAndComment  uniq_Op  uniq_Opnd  \\\n",
       "0       2          2        2                  2      1.2        1.2   \n",
       "1       1          1        1                  1      1.0        1.0   \n",
       "2       1          0        6                  0     15.0       15.0   \n",
       "3       0          0        3                  0     16.0        8.0   \n",
       "4       0          0        3                  0     16.0       12.0   \n",
       "\n",
       "   total_Op  total_Opnd  branchCount  defects  \n",
       "0       1.2         1.2          1.4    False  \n",
       "1       1.0         1.0          1.0     True  \n",
       "2      44.0        19.0          9.0    False  \n",
       "3      31.0        16.0          7.0    False  \n",
       "4      46.0        26.0         11.0    False  \n",
       "\n",
       "[5 rows x 23 columns]"
      ]
     },
     "execution_count": 7,
     "metadata": {},
     "output_type": "execute_result"
    }
   ],
   "source": [
    "df.head()"
   ]
  },
  {
   "cell_type": "code",
   "execution_count": 8,
   "id": "733e95eb",
   "metadata": {
    "execution": {
     "iopub.execute_input": "2021-04-04T23:29:30.834021Z",
     "iopub.status.busy": "2021-04-04T23:29:30.832923Z",
     "iopub.status.idle": "2021-04-04T23:29:30.835126Z",
     "shell.execute_reply": "2021-04-04T23:29:30.835743Z"
    },
    "papermill": {
     "duration": 0.034757,
     "end_time": "2021-04-04T23:29:30.836158",
     "exception": false,
     "start_time": "2021-04-04T23:29:30.801401",
     "status": "completed"
    },
    "tags": []
   },
   "outputs": [],
   "source": [
    "del df['id']"
   ]
  },
  {
   "cell_type": "code",
   "execution_count": 9,
   "id": "6ff6f5b0",
   "metadata": {
    "execution": {
     "iopub.execute_input": "2021-04-04T23:29:30.889555Z",
     "iopub.status.busy": "2021-04-04T23:29:30.888912Z",
     "iopub.status.idle": "2021-04-04T23:29:30.890774Z",
     "shell.execute_reply": "2021-04-04T23:29:30.891237Z"
    },
    "papermill": {
     "duration": 0.028929,
     "end_time": "2021-04-04T23:29:30.891381",
     "exception": false,
     "start_time": "2021-04-04T23:29:30.862452",
     "status": "completed"
    },
    "tags": []
   },
   "outputs": [],
   "source": [
    "if PROFILE_REPORTING:\n",
    "    ProfileReport(df).to_widgets()"
   ]
  },
  {
   "cell_type": "markdown",
   "id": "1deaf3f0",
   "metadata": {
    "papermill": {
     "duration": 0.027621,
     "end_time": "2021-04-04T23:29:30.941223",
     "exception": false,
     "start_time": "2021-04-04T23:29:30.913602",
     "status": "completed"
    },
    "tags": []
   },
   "source": [
    "# Preprocess"
   ]
  },
  {
   "cell_type": "code",
   "execution_count": 10,
   "id": "1513e563",
   "metadata": {
    "execution": {
     "iopub.execute_input": "2021-04-04T23:29:31.006405Z",
     "iopub.status.busy": "2021-04-04T23:29:31.003615Z",
     "iopub.status.idle": "2021-04-04T23:29:31.008541Z",
     "shell.execute_reply": "2021-04-04T23:29:31.009080Z"
    },
    "papermill": {
     "duration": 0.043533,
     "end_time": "2021-04-04T23:29:31.009245",
     "exception": false,
     "start_time": "2021-04-04T23:29:30.965712",
     "status": "completed"
    },
    "tags": []
   },
   "outputs": [],
   "source": [
    "working_df = df.copy()"
   ]
  },
  {
   "cell_type": "code",
   "execution_count": 11,
   "id": "3b26d675",
   "metadata": {
    "execution": {
     "iopub.execute_input": "2021-04-04T23:29:31.067400Z",
     "iopub.status.busy": "2021-04-04T23:29:31.065259Z",
     "iopub.status.idle": "2021-04-04T23:29:31.069433Z",
     "shell.execute_reply": "2021-04-04T23:29:31.070239Z"
    },
    "papermill": {
     "duration": 0.035752,
     "end_time": "2021-04-04T23:29:31.070473",
     "exception": false,
     "start_time": "2021-04-04T23:29:31.034721",
     "status": "completed"
    },
    "tags": []
   },
   "outputs": [],
   "source": [
    "working_df['defects'] = working_df['defects'].replace([False, True], [0, 1])"
   ]
  },
  {
   "cell_type": "code",
   "execution_count": 12,
   "id": "eb48604f",
   "metadata": {
    "execution": {
     "iopub.execute_input": "2021-04-04T23:29:31.120952Z",
     "iopub.status.busy": "2021-04-04T23:29:31.120367Z",
     "iopub.status.idle": "2021-04-04T23:29:31.122325Z",
     "shell.execute_reply": "2021-04-04T23:29:31.122783Z"
    },
    "papermill": {
     "duration": 0.030175,
     "end_time": "2021-04-04T23:29:31.122922",
     "exception": false,
     "start_time": "2021-04-04T23:29:31.092747",
     "status": "completed"
    },
    "tags": []
   },
   "outputs": [],
   "source": [
    "for col in dataset_config['delete_columns']:\n",
    "    del working_df[col]"
   ]
  },
  {
   "cell_type": "code",
   "execution_count": 13,
   "id": "9a17bc29",
   "metadata": {
    "execution": {
     "iopub.execute_input": "2021-04-04T23:29:31.180579Z",
     "iopub.status.busy": "2021-04-04T23:29:31.179346Z",
     "iopub.status.idle": "2021-04-04T23:29:31.190412Z",
     "shell.execute_reply": "2021-04-04T23:29:31.191017Z"
    },
    "papermill": {
     "duration": 0.043732,
     "end_time": "2021-04-04T23:29:31.191201",
     "exception": false,
     "start_time": "2021-04-04T23:29:31.147469",
     "status": "completed"
    },
    "tags": []
   },
   "outputs": [],
   "source": [
    "working_df = working_df.drop_duplicates()"
   ]
  },
  {
   "cell_type": "markdown",
   "id": "a4d52ca6",
   "metadata": {
    "papermill": {
     "duration": 0.021442,
     "end_time": "2021-04-04T23:29:31.237354",
     "exception": false,
     "start_time": "2021-04-04T23:29:31.215912",
     "status": "completed"
    },
    "tags": []
   },
   "source": [
    "# Split"
   ]
  },
  {
   "cell_type": "code",
   "execution_count": 14,
   "id": "3e9ee4b5",
   "metadata": {
    "execution": {
     "iopub.execute_input": "2021-04-04T23:29:31.302383Z",
     "iopub.status.busy": "2021-04-04T23:29:31.301381Z",
     "iopub.status.idle": "2021-04-04T23:29:31.341240Z",
     "shell.execute_reply": "2021-04-04T23:29:31.340593Z"
    },
    "papermill": {
     "duration": 0.076937,
     "end_time": "2021-04-04T23:29:31.341412",
     "exception": false,
     "start_time": "2021-04-04T23:29:31.264475",
     "status": "completed"
    },
    "tags": []
   },
   "outputs": [],
   "source": [
    "from sklearn.model_selection import train_test_split"
   ]
  },
  {
   "cell_type": "code",
   "execution_count": 15,
   "id": "274004ce",
   "metadata": {
    "execution": {
     "iopub.execute_input": "2021-04-04T23:29:31.401406Z",
     "iopub.status.busy": "2021-04-04T23:29:31.400464Z",
     "iopub.status.idle": "2021-04-04T23:29:31.415433Z",
     "shell.execute_reply": "2021-04-04T23:29:31.416619Z"
    },
    "papermill": {
     "duration": 0.044441,
     "end_time": "2021-04-04T23:29:31.416958",
     "exception": false,
     "start_time": "2021-04-04T23:29:31.372517",
     "status": "completed"
    },
    "scrolled": true,
    "tags": []
   },
   "outputs": [],
   "source": [
    "inlier, outlier = working_df[working_df['defects'] == 0], working_df[working_df['defects'] == 1]"
   ]
  },
  {
   "cell_type": "code",
   "execution_count": 16,
   "id": "753c7b03",
   "metadata": {
    "execution": {
     "iopub.execute_input": "2021-04-04T23:29:31.517895Z",
     "iopub.status.busy": "2021-04-04T23:29:31.514832Z",
     "iopub.status.idle": "2021-04-04T23:29:31.519814Z",
     "shell.execute_reply": "2021-04-04T23:29:31.521810Z"
    },
    "papermill": {
     "duration": 0.063444,
     "end_time": "2021-04-04T23:29:31.522458",
     "exception": false,
     "start_time": "2021-04-04T23:29:31.459014",
     "status": "completed"
    },
    "tags": []
   },
   "outputs": [],
   "source": [
    "X_inlier = inlier.copy()\n",
    "y_inlier = X_inlier.pop('defects')\n",
    "X_outlier = outlier.copy()\n",
    "y_outlier = X_outlier.pop('defects')"
   ]
  },
  {
   "cell_type": "code",
   "execution_count": 17,
   "id": "2ba43193",
   "metadata": {
    "execution": {
     "iopub.execute_input": "2021-04-04T23:29:31.727177Z",
     "iopub.status.busy": "2021-04-04T23:29:31.723671Z",
     "iopub.status.idle": "2021-04-04T23:29:31.728340Z",
     "shell.execute_reply": "2021-04-04T23:29:31.729124Z"
    },
    "papermill": {
     "duration": 0.151429,
     "end_time": "2021-04-04T23:29:31.729348",
     "exception": false,
     "start_time": "2021-04-04T23:29:31.577919",
     "status": "completed"
    },
    "tags": []
   },
   "outputs": [],
   "source": [
    "test_size = dataset_config['test_size']\n",
    "random_state = dataset_config['random_state']\n",
    "\n",
    "X_inlier_train, X_inlier_test, y_inlier_train, y_inlier_test = train_test_split(\n",
    "    X_inlier,\n",
    "    y_inlier,\n",
    "    test_size=test_size,\n",
    "    random_state=random_state\n",
    ")"
   ]
  },
  {
   "cell_type": "code",
   "execution_count": 18,
   "id": "0b7582ca",
   "metadata": {
    "execution": {
     "iopub.execute_input": "2021-04-04T23:29:31.869816Z",
     "iopub.status.busy": "2021-04-04T23:29:31.868231Z",
     "iopub.status.idle": "2021-04-04T23:29:31.878460Z",
     "shell.execute_reply": "2021-04-04T23:29:31.874553Z"
    },
    "papermill": {
     "duration": 0.077735,
     "end_time": "2021-04-04T23:29:31.878970",
     "exception": false,
     "start_time": "2021-04-04T23:29:31.801235",
     "status": "completed"
    },
    "tags": []
   },
   "outputs": [],
   "source": [
    "test_outlier_size = dataset_config['test_outlier_size']\n",
    "if test_outlier_size > 0.0:\n",
    "    X_outlier_train, X_outlier_test, y_outlier_train, y_outlier_test = train_test_split(\n",
    "        X_outlier,\n",
    "        y_outlier,\n",
    "        test_size=test_outlier_size,\n",
    "        random_state=random_state\n",
    "    )\n",
    "else:\n",
    "    X_outlier_train, y_outlier_train = pd.DataFrame(columns=X_outlier.columns), pd.Series(dtype='int64')\n",
    "    X_outlier_test, y_outlier_test = X_outlier.copy(), y_outlier.copy()"
   ]
  },
  {
   "cell_type": "code",
   "execution_count": 19,
   "id": "c34363db",
   "metadata": {
    "execution": {
     "iopub.execute_input": "2021-04-04T23:29:31.983756Z",
     "iopub.status.busy": "2021-04-04T23:29:31.983125Z",
     "iopub.status.idle": "2021-04-04T23:29:31.986047Z",
     "shell.execute_reply": "2021-04-04T23:29:31.987365Z"
    },
    "papermill": {
     "duration": 0.050621,
     "end_time": "2021-04-04T23:29:31.987710",
     "exception": false,
     "start_time": "2021-04-04T23:29:31.937089",
     "status": "completed"
    },
    "tags": []
   },
   "outputs": [],
   "source": [
    "X_train, y_train = pd.concat([X_inlier_train, X_outlier_train], ignore_index=True), pd.concat([y_inlier_train, y_outlier_train], ignore_index=True)\n",
    "X_test, y_test = pd.concat([X_inlier_test, X_outlier_test], ignore_index=True), pd.concat([y_inlier_test, y_outlier_test], ignore_index=True)"
   ]
  },
  {
   "cell_type": "markdown",
   "id": "7cde7309",
   "metadata": {
    "papermill": {
     "duration": 0.027125,
     "end_time": "2021-04-04T23:29:32.042072",
     "exception": false,
     "start_time": "2021-04-04T23:29:32.014947",
     "status": "completed"
    },
    "tags": []
   },
   "source": [
    "# Model"
   ]
  },
  {
   "cell_type": "code",
   "execution_count": 20,
   "id": "2b12a415",
   "metadata": {
    "execution": {
     "iopub.execute_input": "2021-04-04T23:29:32.103988Z",
     "iopub.status.busy": "2021-04-04T23:29:32.102958Z",
     "iopub.status.idle": "2021-04-04T23:29:32.109112Z",
     "shell.execute_reply": "2021-04-04T23:29:32.109689Z"
    },
    "papermill": {
     "duration": 0.038398,
     "end_time": "2021-04-04T23:29:32.109875",
     "exception": false,
     "start_time": "2021-04-04T23:29:32.071477",
     "status": "completed"
    },
    "tags": []
   },
   "outputs": [],
   "source": [
    "from math import sqrt\n",
    "\n",
    "\n",
    "class KNNDataDescription:\n",
    "    def __init__(self, k=5, outlier_threshold=1.0):\n",
    "        self.k = k\n",
    "        self.outlier_threshold = outlier_threshold\n",
    "        self.X = []\n",
    "    \n",
    "    def fit(self, X):\n",
    "        self.X = [features.to_list() for index, features in X.iterrows()]\n",
    "\n",
    "    def predict(self, entries):\n",
    "        return [self.predict_entry(features.to_list()) for index, features in entries.iterrows()]\n",
    "    \n",
    "    def predict_entry(self, entry):\n",
    "        kth_neighbor, kth_distance = self.get_kth_neighbor(entry, self.k)\n",
    "        kth_kth_neighbor, kth_kth_distance = self.get_kth_neighbor(kth_neighbor, self.k + 1)\n",
    "\n",
    "        outlier_score = kth_distance / (kth_kth_distance + 0.000001)\n",
    "\n",
    "        return 1 if outlier_score < self.outlier_threshold else -1\n",
    "        \n",
    "    def euclidean_distance(self, features1, features2):\n",
    "        distance = 0.0\n",
    "        for feat1, feat2 in zip(features1, features2):\n",
    "            distance += (feat1 - feat2)**2\n",
    "                \n",
    "        return sqrt(distance)\n",
    "\n",
    "    def get_neighbors(self, entry, k):\n",
    "        distance_to_data_points = [\n",
    "            (data_point, self.euclidean_distance(entry, data_point))\n",
    "            for data_point in self.X\n",
    "        ]\n",
    "        sorted_by_distance = sorted(distance_to_data_points, key=lambda tup: tup[1])\n",
    "        neighbors = sorted_by_distance[:k]\n",
    "        return neighbors\n",
    "\n",
    "    def get_kth_neighbor(self, entry, k):\n",
    "        neighbors = self.get_neighbors(entry, k)\n",
    "        return neighbors[-1]\n"
   ]
  },
  {
   "cell_type": "code",
   "execution_count": 21,
   "id": "1fa9ec1c",
   "metadata": {
    "execution": {
     "iopub.execute_input": "2021-04-04T23:29:32.186639Z",
     "iopub.status.busy": "2021-04-04T23:29:32.184281Z",
     "iopub.status.idle": "2021-04-04T23:29:32.222725Z",
     "shell.execute_reply": "2021-04-04T23:29:32.219821Z"
    },
    "papermill": {
     "duration": 0.078273,
     "end_time": "2021-04-04T23:29:32.223056",
     "exception": false,
     "start_time": "2021-04-04T23:29:32.144783",
     "status": "completed"
    },
    "tags": []
   },
   "outputs": [],
   "source": [
    "from sklearn.svm import OneClassSVM\n",
    "\n",
    "\n",
    "models = {\n",
    "    'oneclasssvm': OneClassSVM,\n",
    "    'knndatadescription': KNNDataDescription,\n",
    "}"
   ]
  },
  {
   "cell_type": "code",
   "execution_count": 22,
   "id": "4d72a0b1",
   "metadata": {
    "execution": {
     "iopub.execute_input": "2021-04-04T23:29:32.293670Z",
     "iopub.status.busy": "2021-04-04T23:29:32.292936Z",
     "iopub.status.idle": "2021-04-04T23:29:32.295210Z",
     "shell.execute_reply": "2021-04-04T23:29:32.294704Z"
    },
    "papermill": {
     "duration": 0.037272,
     "end_time": "2021-04-04T23:29:32.295328",
     "exception": false,
     "start_time": "2021-04-04T23:29:32.258056",
     "status": "completed"
    },
    "scrolled": true,
    "tags": []
   },
   "outputs": [],
   "source": [
    "model_cls = models[model_config['model_type']]\n",
    "model = model_cls(**model_config['hyperparameters'])"
   ]
  },
  {
   "cell_type": "markdown",
   "id": "e00cff3b",
   "metadata": {
    "papermill": {
     "duration": 0.039331,
     "end_time": "2021-04-04T23:29:32.365250",
     "exception": false,
     "start_time": "2021-04-04T23:29:32.325919",
     "status": "completed"
    },
    "tags": []
   },
   "source": [
    "# Fit"
   ]
  },
  {
   "cell_type": "code",
   "execution_count": 23,
   "id": "8b2ded89",
   "metadata": {
    "execution": {
     "iopub.execute_input": "2021-04-04T23:29:32.439862Z",
     "iopub.status.busy": "2021-04-04T23:29:32.439249Z",
     "iopub.status.idle": "2021-04-04T23:29:32.462657Z",
     "shell.execute_reply": "2021-04-04T23:29:32.463275Z"
    },
    "papermill": {
     "duration": 0.065091,
     "end_time": "2021-04-04T23:29:32.463442",
     "exception": false,
     "start_time": "2021-04-04T23:29:32.398351",
     "status": "completed"
    },
    "tags": []
   },
   "outputs": [],
   "source": [
    "model.fit(X_train)"
   ]
  },
  {
   "cell_type": "markdown",
   "id": "f99999f7",
   "metadata": {
    "papermill": {
     "duration": 0.030157,
     "end_time": "2021-04-04T23:29:32.520954",
     "exception": false,
     "start_time": "2021-04-04T23:29:32.490797",
     "status": "completed"
    },
    "tags": []
   },
   "source": [
    "# Predict"
   ]
  },
  {
   "cell_type": "code",
   "execution_count": 24,
   "id": "6536fbf7",
   "metadata": {
    "execution": {
     "iopub.execute_input": "2021-04-04T23:29:32.612984Z",
     "iopub.status.busy": "2021-04-04T23:29:32.592321Z",
     "iopub.status.idle": "2021-04-04T23:29:32.903659Z",
     "shell.execute_reply": "2021-04-04T23:29:32.903139Z"
    },
    "papermill": {
     "duration": 0.354566,
     "end_time": "2021-04-04T23:29:32.903780",
     "exception": false,
     "start_time": "2021-04-04T23:29:32.549214",
     "status": "completed"
    },
    "tags": []
   },
   "outputs": [],
   "source": [
    "predictions = model.predict(X_test)"
   ]
  },
  {
   "cell_type": "markdown",
   "id": "aa1c9881",
   "metadata": {
    "papermill": {
     "duration": 0.032731,
     "end_time": "2021-04-04T23:29:32.960667",
     "exception": false,
     "start_time": "2021-04-04T23:29:32.927936",
     "status": "completed"
    },
    "tags": []
   },
   "source": [
    "# Evaluate"
   ]
  },
  {
   "cell_type": "code",
   "execution_count": 25,
   "id": "894f0f04",
   "metadata": {
    "execution": {
     "iopub.execute_input": "2021-04-04T23:29:33.019393Z",
     "iopub.status.busy": "2021-04-04T23:29:33.018547Z",
     "iopub.status.idle": "2021-04-04T23:29:33.021083Z",
     "shell.execute_reply": "2021-04-04T23:29:33.020506Z"
    },
    "papermill": {
     "duration": 0.036049,
     "end_time": "2021-04-04T23:29:33.021203",
     "exception": false,
     "start_time": "2021-04-04T23:29:32.985154",
     "status": "completed"
    },
    "tags": []
   },
   "outputs": [],
   "source": [
    "from sklearn.metrics import f1_score"
   ]
  },
  {
   "cell_type": "code",
   "execution_count": 26,
   "id": "211744d3",
   "metadata": {
    "execution": {
     "iopub.execute_input": "2021-04-04T23:29:33.087011Z",
     "iopub.status.busy": "2021-04-04T23:29:33.084826Z",
     "iopub.status.idle": "2021-04-04T23:29:33.088080Z",
     "shell.execute_reply": "2021-04-04T23:29:33.088549Z"
    },
    "papermill": {
     "duration": 0.043023,
     "end_time": "2021-04-04T23:29:33.088697",
     "exception": false,
     "start_time": "2021-04-04T23:29:33.045674",
     "status": "completed"
    },
    "tags": []
   },
   "outputs": [],
   "source": [
    "y_test = y_test.replace([0, 1], [1, -1])"
   ]
  },
  {
   "cell_type": "code",
   "execution_count": 27,
   "id": "d68a9204",
   "metadata": {
    "execution": {
     "iopub.execute_input": "2021-04-04T23:29:33.193181Z",
     "iopub.status.busy": "2021-04-04T23:29:33.192325Z",
     "iopub.status.idle": "2021-04-04T23:29:33.194705Z",
     "shell.execute_reply": "2021-04-04T23:29:33.195195Z"
    },
    "papermill": {
     "duration": 0.071322,
     "end_time": "2021-04-04T23:29:33.195344",
     "exception": false,
     "start_time": "2021-04-04T23:29:33.124022",
     "status": "completed"
    },
    "tags": []
   },
   "outputs": [],
   "source": [
    "def evaluate(truths, predictions, pos_label, neg_label):\n",
    "    TP = 0\n",
    "    FP = 0\n",
    "    TN = 0\n",
    "    FN = 0\n",
    "\n",
    "    for truth, pred in zip(truths, predictions): \n",
    "        if truth == pred == pos_label:\n",
    "           TP += 1\n",
    "        elif pred == pos_label and truth == neg_label:\n",
    "           FP += 1\n",
    "        elif truth == pred == neg_label:\n",
    "           TN += 1\n",
    "        elif pred == neg_label and truth == pos_label:\n",
    "           FN += 1\n",
    "\n",
    "    precision = TP / (TP + FP)\n",
    "    sensitivity = TP / (TP + FN)\n",
    "    \n",
    "    return {\n",
    "        'true_pos': TP,\n",
    "        'false_pos': FP,\n",
    "        'false_neg': FN,\n",
    "        'true_neg': TN,\n",
    "        'precision': precision,\n",
    "        'sensitivity': sensitivity,\n",
    "        'f1': (2 * (precision * sensitivity)) / (precision + sensitivity)\n",
    "    }\n",
    "\n",
    "score = evaluate(y_test, predictions, pos_label=-1, neg_label=1)"
   ]
  },
  {
   "cell_type": "markdown",
   "id": "93596516",
   "metadata": {
    "papermill": {
     "duration": 0.034862,
     "end_time": "2021-04-04T23:29:33.267389",
     "exception": false,
     "start_time": "2021-04-04T23:29:33.232527",
     "status": "completed"
    },
    "tags": []
   },
   "source": [
    "# Report"
   ]
  },
  {
   "cell_type": "code",
   "execution_count": 28,
   "id": "bea5fba1",
   "metadata": {
    "execution": {
     "iopub.execute_input": "2021-04-04T23:29:33.327025Z",
     "iopub.status.busy": "2021-04-04T23:29:33.326241Z",
     "iopub.status.idle": "2021-04-04T23:29:33.330856Z",
     "shell.execute_reply": "2021-04-04T23:29:33.329609Z"
    },
    "papermill": {
     "duration": 0.036153,
     "end_time": "2021-04-04T23:29:33.331118",
     "exception": false,
     "start_time": "2021-04-04T23:29:33.294965",
     "status": "completed"
    },
    "tags": []
   },
   "outputs": [],
   "source": [
    "import csv\n",
    "\n",
    "\n",
    "dataset_config_name = DATASET_CONFIG_PATH.split('/')[-1].split('.')[0]\n",
    "model_config_name = MODEL_CONFIG_PATH.split('/')[-1].split('.')[0]\n",
    "configuration = f\"dataset_{dataset_config_name}-model_{model_config_name}\"\n",
    "\n",
    "with open('results.csv', 'a') as f:\n",
    "    report = dict({'configuration': configuration}, **score)\n",
    "    writer = csv.DictWriter(f, report.keys())\n",
    "    writer.writerow(report)"
   ]
  }
 ],
 "metadata": {
  "celltoolbar": "Tags",
  "kernelspec": {
   "display_name": "Python 3",
   "language": "python",
   "name": "python3"
  },
  "language_info": {
   "codemirror_mode": {
    "name": "ipython",
    "version": 3
   },
   "file_extension": ".py",
   "mimetype": "text/x-python",
   "name": "python",
   "nbconvert_exporter": "python",
   "pygments_lexer": "ipython3",
   "version": "3.9.1"
  },
  "papermill": {
   "default_parameters": {},
   "duration": 6.761799,
   "end_time": "2021-04-04T23:29:33.978360",
   "environment_variables": {},
   "exception": null,
   "input_path": "main.ipynb",
   "output_path": "runs/dataset_000140-model_000002.ipynb",
   "parameters": {
    "DATASET_CONFIG_PATH": "config/dataset/000140.json",
    "MODEL_CONFIG_PATH": "config/model/000002.json",
    "PROFILE_REPORTING": false
   },
   "start_time": "2021-04-04T23:29:27.216561",
   "version": "2.3.3"
  }
 },
 "nbformat": 4,
 "nbformat_minor": 5
}