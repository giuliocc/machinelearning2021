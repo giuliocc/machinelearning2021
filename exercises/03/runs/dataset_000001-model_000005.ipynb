{
 "cells": [
  {
   "cell_type": "markdown",
   "id": "ff0916fe",
   "metadata": {
    "papermill": {
     "duration": 0.02453,
     "end_time": "2021-04-04T22:14:47.784451",
     "exception": false,
     "start_time": "2021-04-04T22:14:47.759921",
     "status": "completed"
    },
    "tags": []
   },
   "source": [
    "# Parametrizing"
   ]
  },
  {
   "cell_type": "code",
   "execution_count": 1,
   "id": "b4db9f88",
   "metadata": {
    "execution": {
     "iopub.execute_input": "2021-04-04T22:14:47.835030Z",
     "iopub.status.busy": "2021-04-04T22:14:47.834313Z",
     "iopub.status.idle": "2021-04-04T22:14:47.836906Z",
     "shell.execute_reply": "2021-04-04T22:14:47.839693Z"
    },
    "papermill": {
     "duration": 0.036173,
     "end_time": "2021-04-04T22:14:47.840244",
     "exception": false,
     "start_time": "2021-04-04T22:14:47.804071",
     "status": "completed"
    },
    "tags": [
     "parameters"
    ]
   },
   "outputs": [],
   "source": [
    "DATASET_CONFIG_PATH = 'config/dataset/kc1_001.json'\n",
    "MODEL_CONFIG_PATH = 'config/model/knndd_001.json'\n",
    "PROFILE_REPORTING = False"
   ]
  },
  {
   "cell_type": "code",
   "execution_count": 2,
   "id": "f2deda37",
   "metadata": {
    "execution": {
     "iopub.execute_input": "2021-04-04T22:14:47.882714Z",
     "iopub.status.busy": "2021-04-04T22:14:47.881905Z",
     "iopub.status.idle": "2021-04-04T22:14:47.884450Z",
     "shell.execute_reply": "2021-04-04T22:14:47.883940Z"
    },
    "papermill": {
     "duration": 0.024974,
     "end_time": "2021-04-04T22:14:47.884569",
     "exception": false,
     "start_time": "2021-04-04T22:14:47.859595",
     "status": "completed"
    },
    "tags": [
     "injected-parameters"
    ]
   },
   "outputs": [],
   "source": [
    "# Parameters\n",
    "DATASET_CONFIG_PATH = \"config/dataset/000001.json\"\n",
    "MODEL_CONFIG_PATH = \"config/model/000005.json\"\n",
    "PROFILE_REPORTING = False\n"
   ]
  },
  {
   "cell_type": "code",
   "execution_count": 3,
   "id": "ec4ede16",
   "metadata": {
    "execution": {
     "iopub.execute_input": "2021-04-04T22:14:47.931272Z",
     "iopub.status.busy": "2021-04-04T22:14:47.930285Z",
     "iopub.status.idle": "2021-04-04T22:14:47.934573Z",
     "shell.execute_reply": "2021-04-04T22:14:47.934037Z"
    },
    "papermill": {
     "duration": 0.029982,
     "end_time": "2021-04-04T22:14:47.934695",
     "exception": false,
     "start_time": "2021-04-04T22:14:47.904713",
     "status": "completed"
    },
    "tags": []
   },
   "outputs": [],
   "source": [
    "import json\n",
    "\n",
    "\n",
    "with open(DATASET_CONFIG_PATH) as f:\n",
    "    dataset_config = json.load(f)\n",
    "\n",
    "with open(MODEL_CONFIG_PATH) as f:\n",
    "    model_config = json.load(f)"
   ]
  },
  {
   "cell_type": "markdown",
   "id": "9a4b0e2d",
   "metadata": {
    "papermill": {
     "duration": 0.019155,
     "end_time": "2021-04-04T22:14:47.973576",
     "exception": false,
     "start_time": "2021-04-04T22:14:47.954421",
     "status": "completed"
    },
    "tags": []
   },
   "source": [
    "# Profiling"
   ]
  },
  {
   "cell_type": "code",
   "execution_count": 4,
   "id": "a3e0289b",
   "metadata": {
    "execution": {
     "iopub.execute_input": "2021-04-04T22:14:48.017561Z",
     "iopub.status.busy": "2021-04-04T22:14:48.016925Z",
     "iopub.status.idle": "2021-04-04T22:14:49.234456Z",
     "shell.execute_reply": "2021-04-04T22:14:49.235133Z"
    },
    "papermill": {
     "duration": 1.242663,
     "end_time": "2021-04-04T22:14:49.235336",
     "exception": false,
     "start_time": "2021-04-04T22:14:47.992673",
     "status": "completed"
    },
    "tags": []
   },
   "outputs": [],
   "source": [
    "import pandas as pd\n",
    "from pandas_profiling import ProfileReport"
   ]
  },
  {
   "cell_type": "code",
   "execution_count": 5,
   "id": "ee6c0666",
   "metadata": {
    "execution": {
     "iopub.execute_input": "2021-04-04T22:14:49.295931Z",
     "iopub.status.busy": "2021-04-04T22:14:49.294746Z",
     "iopub.status.idle": "2021-04-04T22:14:49.308281Z",
     "shell.execute_reply": "2021-04-04T22:14:49.307762Z"
    },
    "papermill": {
     "duration": 0.044673,
     "end_time": "2021-04-04T22:14:49.308404",
     "exception": false,
     "start_time": "2021-04-04T22:14:49.263731",
     "status": "completed"
    },
    "tags": []
   },
   "outputs": [],
   "source": [
    "df = pd.read_csv(dataset_config['dataset_path'])"
   ]
  },
  {
   "cell_type": "code",
   "execution_count": 6,
   "id": "19e77450",
   "metadata": {
    "execution": {
     "iopub.execute_input": "2021-04-04T22:14:49.374443Z",
     "iopub.status.busy": "2021-04-04T22:14:49.373497Z",
     "iopub.status.idle": "2021-04-04T22:14:49.377154Z",
     "shell.execute_reply": "2021-04-04T22:14:49.377854Z"
    },
    "papermill": {
     "duration": 0.049342,
     "end_time": "2021-04-04T22:14:49.378140",
     "exception": false,
     "start_time": "2021-04-04T22:14:49.328798",
     "status": "completed"
    },
    "tags": []
   },
   "outputs": [
    {
     "name": "stdout",
     "output_type": "stream",
     "text": [
      "<class 'pandas.core.frame.DataFrame'>\n",
      "RangeIndex: 2109 entries, 0 to 2108\n",
      "Data columns (total 23 columns):\n",
      " #   Column             Non-Null Count  Dtype  \n",
      "---  ------             --------------  -----  \n",
      " 0   id                 2109 non-null   int64  \n",
      " 1   loc                2109 non-null   float64\n",
      " 2   v(g)               2109 non-null   float64\n",
      " 3   ev(g)              2109 non-null   float64\n",
      " 4   iv(g)              2109 non-null   float64\n",
      " 5   n                  2109 non-null   float64\n",
      " 6   v                  2109 non-null   float64\n",
      " 7   l                  2109 non-null   float64\n",
      " 8   d                  2109 non-null   float64\n",
      " 9   i                  2109 non-null   float64\n",
      " 10  e                  2109 non-null   float64\n",
      " 11  b                  2109 non-null   float64\n",
      " 12  t                  2109 non-null   float64\n",
      " 13  lOCode             2109 non-null   int64  \n",
      " 14  lOComment          2109 non-null   int64  \n",
      " 15  lOBlank            2109 non-null   int64  \n",
      " 16  locCodeAndComment  2109 non-null   int64  \n",
      " 17  uniq_Op            2109 non-null   float64\n",
      " 18  uniq_Opnd          2109 non-null   float64\n",
      " 19  total_Op           2109 non-null   float64\n",
      " 20  total_Opnd         2109 non-null   float64\n",
      " 21  branchCount        2109 non-null   float64\n",
      " 22  defects            2109 non-null   bool   \n",
      "dtypes: bool(1), float64(17), int64(5)\n",
      "memory usage: 364.7 KB\n"
     ]
    }
   ],
   "source": [
    "df.info()"
   ]
  },
  {
   "cell_type": "code",
   "execution_count": 7,
   "id": "b1b6e8ba",
   "metadata": {
    "execution": {
     "iopub.execute_input": "2021-04-04T22:14:49.431764Z",
     "iopub.status.busy": "2021-04-04T22:14:49.430748Z",
     "iopub.status.idle": "2021-04-04T22:14:49.455643Z",
     "shell.execute_reply": "2021-04-04T22:14:49.455057Z"
    },
    "papermill": {
     "duration": 0.055875,
     "end_time": "2021-04-04T22:14:49.455763",
     "exception": false,
     "start_time": "2021-04-04T22:14:49.399888",
     "status": "completed"
    },
    "tags": []
   },
   "outputs": [
    {
     "data": {
      "text/html": [
       "<div>\n",
       "<style scoped>\n",
       "    .dataframe tbody tr th:only-of-type {\n",
       "        vertical-align: middle;\n",
       "    }\n",
       "\n",
       "    .dataframe tbody tr th {\n",
       "        vertical-align: top;\n",
       "    }\n",
       "\n",
       "    .dataframe thead th {\n",
       "        text-align: right;\n",
       "    }\n",
       "</style>\n",
       "<table border=\"1\" class=\"dataframe\">\n",
       "  <thead>\n",
       "    <tr style=\"text-align: right;\">\n",
       "      <th></th>\n",
       "      <th>id</th>\n",
       "      <th>loc</th>\n",
       "      <th>v(g)</th>\n",
       "      <th>ev(g)</th>\n",
       "      <th>iv(g)</th>\n",
       "      <th>n</th>\n",
       "      <th>v</th>\n",
       "      <th>l</th>\n",
       "      <th>d</th>\n",
       "      <th>i</th>\n",
       "      <th>...</th>\n",
       "      <th>lOCode</th>\n",
       "      <th>lOComment</th>\n",
       "      <th>lOBlank</th>\n",
       "      <th>locCodeAndComment</th>\n",
       "      <th>uniq_Op</th>\n",
       "      <th>uniq_Opnd</th>\n",
       "      <th>total_Op</th>\n",
       "      <th>total_Opnd</th>\n",
       "      <th>branchCount</th>\n",
       "      <th>defects</th>\n",
       "    </tr>\n",
       "  </thead>\n",
       "  <tbody>\n",
       "    <tr>\n",
       "      <th>0</th>\n",
       "      <td>1</td>\n",
       "      <td>1.1</td>\n",
       "      <td>1.4</td>\n",
       "      <td>1.4</td>\n",
       "      <td>1.4</td>\n",
       "      <td>1.3</td>\n",
       "      <td>1.30</td>\n",
       "      <td>1.30</td>\n",
       "      <td>1.30</td>\n",
       "      <td>1.30</td>\n",
       "      <td>...</td>\n",
       "      <td>2</td>\n",
       "      <td>2</td>\n",
       "      <td>2</td>\n",
       "      <td>2</td>\n",
       "      <td>1.2</td>\n",
       "      <td>1.2</td>\n",
       "      <td>1.2</td>\n",
       "      <td>1.2</td>\n",
       "      <td>1.4</td>\n",
       "      <td>False</td>\n",
       "    </tr>\n",
       "    <tr>\n",
       "      <th>1</th>\n",
       "      <td>2</td>\n",
       "      <td>1.0</td>\n",
       "      <td>1.0</td>\n",
       "      <td>1.0</td>\n",
       "      <td>1.0</td>\n",
       "      <td>1.0</td>\n",
       "      <td>1.00</td>\n",
       "      <td>1.00</td>\n",
       "      <td>1.00</td>\n",
       "      <td>1.00</td>\n",
       "      <td>...</td>\n",
       "      <td>1</td>\n",
       "      <td>1</td>\n",
       "      <td>1</td>\n",
       "      <td>1</td>\n",
       "      <td>1.0</td>\n",
       "      <td>1.0</td>\n",
       "      <td>1.0</td>\n",
       "      <td>1.0</td>\n",
       "      <td>1.0</td>\n",
       "      <td>True</td>\n",
       "    </tr>\n",
       "    <tr>\n",
       "      <th>2</th>\n",
       "      <td>3</td>\n",
       "      <td>83.0</td>\n",
       "      <td>11.0</td>\n",
       "      <td>1.0</td>\n",
       "      <td>11.0</td>\n",
       "      <td>171.0</td>\n",
       "      <td>927.89</td>\n",
       "      <td>0.04</td>\n",
       "      <td>23.04</td>\n",
       "      <td>40.27</td>\n",
       "      <td>...</td>\n",
       "      <td>65</td>\n",
       "      <td>10</td>\n",
       "      <td>6</td>\n",
       "      <td>0</td>\n",
       "      <td>18.0</td>\n",
       "      <td>25.0</td>\n",
       "      <td>107.0</td>\n",
       "      <td>64.0</td>\n",
       "      <td>21.0</td>\n",
       "      <td>True</td>\n",
       "    </tr>\n",
       "    <tr>\n",
       "      <th>3</th>\n",
       "      <td>4</td>\n",
       "      <td>46.0</td>\n",
       "      <td>8.0</td>\n",
       "      <td>6.0</td>\n",
       "      <td>8.0</td>\n",
       "      <td>141.0</td>\n",
       "      <td>769.78</td>\n",
       "      <td>0.07</td>\n",
       "      <td>14.86</td>\n",
       "      <td>51.81</td>\n",
       "      <td>...</td>\n",
       "      <td>37</td>\n",
       "      <td>2</td>\n",
       "      <td>5</td>\n",
       "      <td>0</td>\n",
       "      <td>16.0</td>\n",
       "      <td>28.0</td>\n",
       "      <td>89.0</td>\n",
       "      <td>52.0</td>\n",
       "      <td>15.0</td>\n",
       "      <td>True</td>\n",
       "    </tr>\n",
       "    <tr>\n",
       "      <th>4</th>\n",
       "      <td>5</td>\n",
       "      <td>25.0</td>\n",
       "      <td>3.0</td>\n",
       "      <td>1.0</td>\n",
       "      <td>3.0</td>\n",
       "      <td>58.0</td>\n",
       "      <td>254.75</td>\n",
       "      <td>0.11</td>\n",
       "      <td>9.35</td>\n",
       "      <td>27.25</td>\n",
       "      <td>...</td>\n",
       "      <td>21</td>\n",
       "      <td>0</td>\n",
       "      <td>2</td>\n",
       "      <td>0</td>\n",
       "      <td>11.0</td>\n",
       "      <td>10.0</td>\n",
       "      <td>41.0</td>\n",
       "      <td>17.0</td>\n",
       "      <td>5.0</td>\n",
       "      <td>True</td>\n",
       "    </tr>\n",
       "  </tbody>\n",
       "</table>\n",
       "<p>5 rows × 23 columns</p>\n",
       "</div>"
      ],
      "text/plain": [
       "   id   loc  v(g)  ev(g)  iv(g)      n       v     l      d      i  ...  \\\n",
       "0   1   1.1   1.4    1.4    1.4    1.3    1.30  1.30   1.30   1.30  ...   \n",
       "1   2   1.0   1.0    1.0    1.0    1.0    1.00  1.00   1.00   1.00  ...   \n",
       "2   3  83.0  11.0    1.0   11.0  171.0  927.89  0.04  23.04  40.27  ...   \n",
       "3   4  46.0   8.0    6.0    8.0  141.0  769.78  0.07  14.86  51.81  ...   \n",
       "4   5  25.0   3.0    1.0    3.0   58.0  254.75  0.11   9.35  27.25  ...   \n",
       "\n",
       "   lOCode  lOComment  lOBlank  locCodeAndComment  uniq_Op  uniq_Opnd  \\\n",
       "0       2          2        2                  2      1.2        1.2   \n",
       "1       1          1        1                  1      1.0        1.0   \n",
       "2      65         10        6                  0     18.0       25.0   \n",
       "3      37          2        5                  0     16.0       28.0   \n",
       "4      21          0        2                  0     11.0       10.0   \n",
       "\n",
       "   total_Op  total_Opnd  branchCount  defects  \n",
       "0       1.2         1.2          1.4    False  \n",
       "1       1.0         1.0          1.0     True  \n",
       "2     107.0        64.0         21.0     True  \n",
       "3      89.0        52.0         15.0     True  \n",
       "4      41.0        17.0          5.0     True  \n",
       "\n",
       "[5 rows x 23 columns]"
      ]
     },
     "execution_count": 7,
     "metadata": {},
     "output_type": "execute_result"
    }
   ],
   "source": [
    "df.head()"
   ]
  },
  {
   "cell_type": "code",
   "execution_count": 8,
   "id": "a5e1aaca",
   "metadata": {
    "execution": {
     "iopub.execute_input": "2021-04-04T22:14:49.502717Z",
     "iopub.status.busy": "2021-04-04T22:14:49.501967Z",
     "iopub.status.idle": "2021-04-04T22:14:49.504561Z",
     "shell.execute_reply": "2021-04-04T22:14:49.505722Z"
    },
    "papermill": {
     "duration": 0.028888,
     "end_time": "2021-04-04T22:14:49.505995",
     "exception": false,
     "start_time": "2021-04-04T22:14:49.477107",
     "status": "completed"
    },
    "tags": []
   },
   "outputs": [],
   "source": [
    "del df['id']"
   ]
  },
  {
   "cell_type": "code",
   "execution_count": 9,
   "id": "6ff6f5b0",
   "metadata": {
    "execution": {
     "iopub.execute_input": "2021-04-04T22:14:49.558162Z",
     "iopub.status.busy": "2021-04-04T22:14:49.557501Z",
     "iopub.status.idle": "2021-04-04T22:14:49.559201Z",
     "shell.execute_reply": "2021-04-04T22:14:49.559743Z"
    },
    "papermill": {
     "duration": 0.030649,
     "end_time": "2021-04-04T22:14:49.559888",
     "exception": false,
     "start_time": "2021-04-04T22:14:49.529239",
     "status": "completed"
    },
    "tags": []
   },
   "outputs": [],
   "source": [
    "if PROFILE_REPORTING:\n",
    "    ProfileReport(df).to_widgets()"
   ]
  },
  {
   "cell_type": "markdown",
   "id": "1deaf3f0",
   "metadata": {
    "papermill": {
     "duration": 0.020977,
     "end_time": "2021-04-04T22:14:49.602367",
     "exception": false,
     "start_time": "2021-04-04T22:14:49.581390",
     "status": "completed"
    },
    "tags": []
   },
   "source": [
    "# Preprocess"
   ]
  },
  {
   "cell_type": "code",
   "execution_count": 10,
   "id": "ca8b0a68",
   "metadata": {
    "execution": {
     "iopub.execute_input": "2021-04-04T22:14:49.648902Z",
     "iopub.status.busy": "2021-04-04T22:14:49.648290Z",
     "iopub.status.idle": "2021-04-04T22:14:49.650318Z",
     "shell.execute_reply": "2021-04-04T22:14:49.650806Z"
    },
    "papermill": {
     "duration": 0.027218,
     "end_time": "2021-04-04T22:14:49.650958",
     "exception": false,
     "start_time": "2021-04-04T22:14:49.623740",
     "status": "completed"
    },
    "tags": []
   },
   "outputs": [],
   "source": [
    "working_df = df.copy()"
   ]
  },
  {
   "cell_type": "code",
   "execution_count": 11,
   "id": "3b26d675",
   "metadata": {
    "execution": {
     "iopub.execute_input": "2021-04-04T22:14:49.706220Z",
     "iopub.status.busy": "2021-04-04T22:14:49.705611Z",
     "iopub.status.idle": "2021-04-04T22:14:49.708354Z",
     "shell.execute_reply": "2021-04-04T22:14:49.708877Z"
    },
    "papermill": {
     "duration": 0.035453,
     "end_time": "2021-04-04T22:14:49.709036",
     "exception": false,
     "start_time": "2021-04-04T22:14:49.673583",
     "status": "completed"
    },
    "tags": []
   },
   "outputs": [],
   "source": [
    "working_df['defects'] = working_df['defects'].replace([False, True], [0, 1])"
   ]
  },
  {
   "cell_type": "code",
   "execution_count": 12,
   "id": "9ead9caf",
   "metadata": {
    "execution": {
     "iopub.execute_input": "2021-04-04T22:14:49.762360Z",
     "iopub.status.busy": "2021-04-04T22:14:49.761778Z",
     "iopub.status.idle": "2021-04-04T22:14:49.763775Z",
     "shell.execute_reply": "2021-04-04T22:14:49.764218Z"
    },
    "papermill": {
     "duration": 0.031378,
     "end_time": "2021-04-04T22:14:49.764358",
     "exception": false,
     "start_time": "2021-04-04T22:14:49.732980",
     "status": "completed"
    },
    "tags": []
   },
   "outputs": [],
   "source": [
    "for col in dataset_config['delete_columns']:\n",
    "    del working_df[col]"
   ]
  },
  {
   "cell_type": "code",
   "execution_count": 13,
   "id": "cd6a7ced",
   "metadata": {
    "execution": {
     "iopub.execute_input": "2021-04-04T22:14:49.815912Z",
     "iopub.status.busy": "2021-04-04T22:14:49.814694Z",
     "iopub.status.idle": "2021-04-04T22:14:49.825863Z",
     "shell.execute_reply": "2021-04-04T22:14:49.825202Z"
    },
    "papermill": {
     "duration": 0.040043,
     "end_time": "2021-04-04T22:14:49.825993",
     "exception": false,
     "start_time": "2021-04-04T22:14:49.785950",
     "status": "completed"
    },
    "tags": []
   },
   "outputs": [],
   "source": [
    "working_df = working_df.drop_duplicates()"
   ]
  },
  {
   "cell_type": "markdown",
   "id": "a4d52ca6",
   "metadata": {
    "papermill": {
     "duration": 0.022061,
     "end_time": "2021-04-04T22:14:49.873583",
     "exception": false,
     "start_time": "2021-04-04T22:14:49.851522",
     "status": "completed"
    },
    "tags": []
   },
   "source": [
    "# Split"
   ]
  },
  {
   "cell_type": "code",
   "execution_count": 14,
   "id": "3e9ee4b5",
   "metadata": {
    "execution": {
     "iopub.execute_input": "2021-04-04T22:14:49.923045Z",
     "iopub.status.busy": "2021-04-04T22:14:49.922069Z",
     "iopub.status.idle": "2021-04-04T22:14:49.950999Z",
     "shell.execute_reply": "2021-04-04T22:14:49.950394Z"
    },
    "papermill": {
     "duration": 0.055983,
     "end_time": "2021-04-04T22:14:49.951121",
     "exception": false,
     "start_time": "2021-04-04T22:14:49.895138",
     "status": "completed"
    },
    "tags": []
   },
   "outputs": [],
   "source": [
    "from sklearn.model_selection import train_test_split"
   ]
  },
  {
   "cell_type": "code",
   "execution_count": 15,
   "id": "274004ce",
   "metadata": {
    "execution": {
     "iopub.execute_input": "2021-04-04T22:14:49.998787Z",
     "iopub.status.busy": "2021-04-04T22:14:49.998165Z",
     "iopub.status.idle": "2021-04-04T22:14:50.002542Z",
     "shell.execute_reply": "2021-04-04T22:14:50.002998Z"
    },
    "papermill": {
     "duration": 0.030211,
     "end_time": "2021-04-04T22:14:50.003153",
     "exception": false,
     "start_time": "2021-04-04T22:14:49.972942",
     "status": "completed"
    },
    "scrolled": true,
    "tags": []
   },
   "outputs": [],
   "source": [
    "inlier, outlier = working_df[working_df['defects'] == 0], working_df[working_df['defects'] == 1]"
   ]
  },
  {
   "cell_type": "code",
   "execution_count": 16,
   "id": "753c7b03",
   "metadata": {
    "execution": {
     "iopub.execute_input": "2021-04-04T22:14:50.055659Z",
     "iopub.status.busy": "2021-04-04T22:14:50.055029Z",
     "iopub.status.idle": "2021-04-04T22:14:50.058203Z",
     "shell.execute_reply": "2021-04-04T22:14:50.058680Z"
    },
    "papermill": {
     "duration": 0.032658,
     "end_time": "2021-04-04T22:14:50.058833",
     "exception": false,
     "start_time": "2021-04-04T22:14:50.026175",
     "status": "completed"
    },
    "tags": []
   },
   "outputs": [],
   "source": [
    "X_inlier = inlier.copy()\n",
    "y_inlier = X_inlier.pop('defects')\n",
    "X_outlier = outlier.copy()\n",
    "y_outlier = X_outlier.pop('defects')"
   ]
  },
  {
   "cell_type": "code",
   "execution_count": 17,
   "id": "2ba43193",
   "metadata": {
    "execution": {
     "iopub.execute_input": "2021-04-04T22:14:50.109161Z",
     "iopub.status.busy": "2021-04-04T22:14:50.108547Z",
     "iopub.status.idle": "2021-04-04T22:14:50.111316Z",
     "shell.execute_reply": "2021-04-04T22:14:50.111788Z"
    },
    "papermill": {
     "duration": 0.030293,
     "end_time": "2021-04-04T22:14:50.111939",
     "exception": false,
     "start_time": "2021-04-04T22:14:50.081646",
     "status": "completed"
    },
    "tags": []
   },
   "outputs": [],
   "source": [
    "test_size = dataset_config['test_size']\n",
    "random_state = dataset_config['random_state']\n",
    "\n",
    "X_inlier_train, X_inlier_test, y_inlier_train, y_inlier_test = train_test_split(\n",
    "    X_inlier,\n",
    "    y_inlier,\n",
    "    test_size=test_size,\n",
    "    random_state=random_state\n",
    ")"
   ]
  },
  {
   "cell_type": "code",
   "execution_count": 18,
   "id": "55d493ad",
   "metadata": {
    "execution": {
     "iopub.execute_input": "2021-04-04T22:14:50.171183Z",
     "iopub.status.busy": "2021-04-04T22:14:50.170524Z",
     "iopub.status.idle": "2021-04-04T22:14:50.172487Z",
     "shell.execute_reply": "2021-04-04T22:14:50.172986Z"
    },
    "papermill": {
     "duration": 0.037384,
     "end_time": "2021-04-04T22:14:50.173139",
     "exception": false,
     "start_time": "2021-04-04T22:14:50.135755",
     "status": "completed"
    },
    "tags": []
   },
   "outputs": [],
   "source": [
    "test_outlier_size = dataset_config['test_outlier_size']\n",
    "if test_outlier_size > 0.0:\n",
    "    X_outlier_train, X_outlier_test, y_outlier_train, y_outlier_test = train_test_split(\n",
    "        X_outlier,\n",
    "        y_outlier,\n",
    "        test_size=test_outlier_size,\n",
    "        random_state=random_state\n",
    "    )\n",
    "else:\n",
    "    X_outlier_train, y_outlier_train = pd.DataFrame(columns=X_outlier.columns), pd.Series(dtype='int64')\n",
    "    X_outlier_test, y_outlier_test = X_outlier.copy(), y_outlier.copy()"
   ]
  },
  {
   "cell_type": "code",
   "execution_count": 19,
   "id": "8545fe79",
   "metadata": {
    "execution": {
     "iopub.execute_input": "2021-04-04T22:14:50.225952Z",
     "iopub.status.busy": "2021-04-04T22:14:50.225171Z",
     "iopub.status.idle": "2021-04-04T22:14:50.227868Z",
     "shell.execute_reply": "2021-04-04T22:14:50.228367Z"
    },
    "papermill": {
     "duration": 0.032324,
     "end_time": "2021-04-04T22:14:50.228526",
     "exception": false,
     "start_time": "2021-04-04T22:14:50.196202",
     "status": "completed"
    },
    "tags": []
   },
   "outputs": [],
   "source": [
    "X_train, y_train = pd.concat([X_inlier_train, X_outlier_train], ignore_index=True), pd.concat([y_inlier_train, y_outlier_train], ignore_index=True)\n",
    "X_test, y_test = pd.concat([X_inlier_test, X_outlier_test], ignore_index=True), pd.concat([y_inlier_test, y_outlier_test], ignore_index=True)"
   ]
  },
  {
   "cell_type": "markdown",
   "id": "7cde7309",
   "metadata": {
    "papermill": {
     "duration": 0.023341,
     "end_time": "2021-04-04T22:14:50.275864",
     "exception": false,
     "start_time": "2021-04-04T22:14:50.252523",
     "status": "completed"
    },
    "tags": []
   },
   "source": [
    "# Model"
   ]
  },
  {
   "cell_type": "code",
   "execution_count": 20,
   "id": "3a8b2da9",
   "metadata": {
    "execution": {
     "iopub.execute_input": "2021-04-04T22:14:50.331272Z",
     "iopub.status.busy": "2021-04-04T22:14:50.330435Z",
     "iopub.status.idle": "2021-04-04T22:14:50.332984Z",
     "shell.execute_reply": "2021-04-04T22:14:50.332331Z"
    },
    "papermill": {
     "duration": 0.034733,
     "end_time": "2021-04-04T22:14:50.333116",
     "exception": false,
     "start_time": "2021-04-04T22:14:50.298383",
     "status": "completed"
    },
    "tags": []
   },
   "outputs": [],
   "source": [
    "from math import sqrt\n",
    "\n",
    "\n",
    "class KNNDataDescription:\n",
    "    def __init__(self, k=5, outlier_threshold=1.0):\n",
    "        self.k = k\n",
    "        self.outlier_threshold = outlier_threshold\n",
    "        self.X = []\n",
    "    \n",
    "    def fit(self, X):\n",
    "        self.X = [features.to_list() for index, features in X.iterrows()]\n",
    "\n",
    "    def predict(self, entries):\n",
    "        return [self.predict_entry(features.to_list()) for index, features in entries.iterrows()]\n",
    "    \n",
    "    def predict_entry(self, entry):\n",
    "        kth_neighbor, kth_distance = self.get_kth_neighbor(entry, self.k)\n",
    "        kth_kth_neighbor, kth_kth_distance = self.get_kth_neighbor(kth_neighbor, self.k + 1)\n",
    "\n",
    "        outlier_score = kth_distance / (kth_kth_distance + 0.000001)\n",
    "\n",
    "        return 1 if outlier_score < self.outlier_threshold else -1\n",
    "        \n",
    "    def euclidean_distance(self, features1, features2):\n",
    "        distance = 0.0\n",
    "        for feat1, feat2 in zip(features1, features2):\n",
    "            distance += (feat1 - feat2)**2\n",
    "                \n",
    "        return sqrt(distance)\n",
    "\n",
    "    def get_neighbors(self, entry, k):\n",
    "        distance_to_data_points = [\n",
    "            (data_point, self.euclidean_distance(entry, data_point))\n",
    "            for data_point in self.X\n",
    "        ]\n",
    "        sorted_by_distance = sorted(distance_to_data_points, key=lambda tup: tup[1])\n",
    "        neighbors = sorted_by_distance[:k]\n",
    "        return neighbors\n",
    "\n",
    "    def get_kth_neighbor(self, entry, k):\n",
    "        neighbors = self.get_neighbors(entry, k)\n",
    "        return neighbors[-1]\n"
   ]
  },
  {
   "cell_type": "code",
   "execution_count": 21,
   "id": "1fa9ec1c",
   "metadata": {
    "execution": {
     "iopub.execute_input": "2021-04-04T22:14:50.398211Z",
     "iopub.status.busy": "2021-04-04T22:14:50.397432Z",
     "iopub.status.idle": "2021-04-04T22:14:50.442484Z",
     "shell.execute_reply": "2021-04-04T22:14:50.442940Z"
    },
    "papermill": {
     "duration": 0.079805,
     "end_time": "2021-04-04T22:14:50.443096",
     "exception": false,
     "start_time": "2021-04-04T22:14:50.363291",
     "status": "completed"
    },
    "tags": []
   },
   "outputs": [],
   "source": [
    "from sklearn.ensemble import IsolationForest\n",
    "from sklearn.svm import OneClassSVM\n",
    "\n",
    "\n",
    "models = {\n",
    "    'isolationforest': IsolationForest,\n",
    "    'oneclasssvm': OneClassSVM,\n",
    "    'knndatadescription': KNNDataDescription,\n",
    "}"
   ]
  },
  {
   "cell_type": "code",
   "execution_count": 22,
   "id": "4d72a0b1",
   "metadata": {
    "execution": {
     "iopub.execute_input": "2021-04-04T22:14:50.493552Z",
     "iopub.status.busy": "2021-04-04T22:14:50.492970Z",
     "iopub.status.idle": "2021-04-04T22:14:50.494893Z",
     "shell.execute_reply": "2021-04-04T22:14:50.495369Z"
    },
    "papermill": {
     "duration": 0.028722,
     "end_time": "2021-04-04T22:14:50.495518",
     "exception": false,
     "start_time": "2021-04-04T22:14:50.466796",
     "status": "completed"
    },
    "scrolled": true,
    "tags": []
   },
   "outputs": [],
   "source": [
    "model_cls = models[model_config['model_type']]\n",
    "model = model_cls(**model_config['hyperparameters'])"
   ]
  },
  {
   "cell_type": "markdown",
   "id": "e00cff3b",
   "metadata": {
    "papermill": {
     "duration": 0.02518,
     "end_time": "2021-04-04T22:14:50.544278",
     "exception": false,
     "start_time": "2021-04-04T22:14:50.519098",
     "status": "completed"
    },
    "tags": []
   },
   "source": [
    "# Fit"
   ]
  },
  {
   "cell_type": "code",
   "execution_count": 23,
   "id": "8b2ded89",
   "metadata": {
    "execution": {
     "iopub.execute_input": "2021-04-04T22:14:50.593833Z",
     "iopub.status.busy": "2021-04-04T22:14:50.593199Z",
     "iopub.status.idle": "2021-04-04T22:14:50.634763Z",
     "shell.execute_reply": "2021-04-04T22:14:50.635219Z"
    },
    "papermill": {
     "duration": 0.067949,
     "end_time": "2021-04-04T22:14:50.635373",
     "exception": false,
     "start_time": "2021-04-04T22:14:50.567424",
     "status": "completed"
    },
    "tags": []
   },
   "outputs": [],
   "source": [
    "model.fit(X_train)"
   ]
  },
  {
   "cell_type": "markdown",
   "id": "f99999f7",
   "metadata": {
    "papermill": {
     "duration": 0.026532,
     "end_time": "2021-04-04T22:14:50.686628",
     "exception": false,
     "start_time": "2021-04-04T22:14:50.660096",
     "status": "completed"
    },
    "tags": []
   },
   "source": [
    "# Predict"
   ]
  },
  {
   "cell_type": "code",
   "execution_count": 24,
   "id": "6536fbf7",
   "metadata": {
    "execution": {
     "iopub.execute_input": "2021-04-04T22:14:50.736170Z",
     "iopub.status.busy": "2021-04-04T22:14:50.735558Z",
     "iopub.status.idle": "2021-04-04T22:14:53.397548Z",
     "shell.execute_reply": "2021-04-04T22:14:53.396495Z"
    },
    "papermill": {
     "duration": 2.688228,
     "end_time": "2021-04-04T22:14:53.397750",
     "exception": false,
     "start_time": "2021-04-04T22:14:50.709522",
     "status": "completed"
    },
    "tags": []
   },
   "outputs": [],
   "source": [
    "predictions = model.predict(X_test)"
   ]
  },
  {
   "cell_type": "markdown",
   "id": "aa1c9881",
   "metadata": {
    "papermill": {
     "duration": 0.026483,
     "end_time": "2021-04-04T22:14:53.451382",
     "exception": false,
     "start_time": "2021-04-04T22:14:53.424899",
     "status": "completed"
    },
    "tags": []
   },
   "source": [
    "# Evaluate"
   ]
  },
  {
   "cell_type": "code",
   "execution_count": 25,
   "id": "894f0f04",
   "metadata": {
    "execution": {
     "iopub.execute_input": "2021-04-04T22:14:53.501655Z",
     "iopub.status.busy": "2021-04-04T22:14:53.501021Z",
     "iopub.status.idle": "2021-04-04T22:14:53.502975Z",
     "shell.execute_reply": "2021-04-04T22:14:53.503440Z"
    },
    "papermill": {
     "duration": 0.028402,
     "end_time": "2021-04-04T22:14:53.503585",
     "exception": false,
     "start_time": "2021-04-04T22:14:53.475183",
     "status": "completed"
    },
    "tags": []
   },
   "outputs": [],
   "source": [
    "from sklearn.metrics import f1_score"
   ]
  },
  {
   "cell_type": "code",
   "execution_count": 26,
   "id": "211744d3",
   "metadata": {
    "execution": {
     "iopub.execute_input": "2021-04-04T22:14:53.557801Z",
     "iopub.status.busy": "2021-04-04T22:14:53.557197Z",
     "iopub.status.idle": "2021-04-04T22:14:53.559153Z",
     "shell.execute_reply": "2021-04-04T22:14:53.559596Z"
    },
    "papermill": {
     "duration": 0.032018,
     "end_time": "2021-04-04T22:14:53.559738",
     "exception": false,
     "start_time": "2021-04-04T22:14:53.527720",
     "status": "completed"
    },
    "tags": []
   },
   "outputs": [],
   "source": [
    "y_test = y_test.replace([0, 1], [1, -1])"
   ]
  },
  {
   "cell_type": "code",
   "execution_count": 27,
   "id": "d68a9204",
   "metadata": {
    "execution": {
     "iopub.execute_input": "2021-04-04T22:14:53.614242Z",
     "iopub.status.busy": "2021-04-04T22:14:53.613598Z",
     "iopub.status.idle": "2021-04-04T22:14:53.615600Z",
     "shell.execute_reply": "2021-04-04T22:14:53.616068Z"
    },
    "papermill": {
     "duration": 0.032792,
     "end_time": "2021-04-04T22:14:53.616215",
     "exception": false,
     "start_time": "2021-04-04T22:14:53.583423",
     "status": "completed"
    },
    "tags": []
   },
   "outputs": [],
   "source": [
    "def evaluate(truths, predictions, pos_label, neg_label):\n",
    "    TP = 0\n",
    "    FP = 0\n",
    "    TN = 0\n",
    "    FN = 0\n",
    "\n",
    "    for truth, pred in zip(truths, predictions): \n",
    "        if truth == pred == pos_label:\n",
    "           TP += 1\n",
    "        elif pred == pos_label and truth == neg_label:\n",
    "           FP += 1\n",
    "        elif truth == pred == neg_label:\n",
    "           TN += 1\n",
    "        elif pred == neg_label and truth == pos_label:\n",
    "           FN += 1\n",
    "        else:\n",
    "            __import__(\"ipdb\").set_trace()\n",
    "\n",
    "    precision = TP / (TP + FP)\n",
    "    sensitivity = TP / (TP + FN)\n",
    "    \n",
    "    return {\n",
    "        'true_pos': TP,\n",
    "        'false_pos': FP,\n",
    "        'false_neg': FN,\n",
    "        'true_neg': TN,\n",
    "        'precision': precision,\n",
    "        'sensitivity': sensitivity,\n",
    "        'f1': (2 * (precision * sensitivity)) / (precision + sensitivity)\n",
    "    }\n",
    "\n",
    "score = evaluate(y_test, predictions, pos_label=-1, neg_label=1)"
   ]
  },
  {
   "cell_type": "markdown",
   "id": "68e054e7",
   "metadata": {
    "papermill": {
     "duration": 0.026847,
     "end_time": "2021-04-04T22:14:53.668335",
     "exception": false,
     "start_time": "2021-04-04T22:14:53.641488",
     "status": "completed"
    },
    "tags": []
   },
   "source": [
    "# Report"
   ]
  },
  {
   "cell_type": "code",
   "execution_count": 28,
   "id": "31de59d0",
   "metadata": {
    "execution": {
     "iopub.execute_input": "2021-04-04T22:14:53.720030Z",
     "iopub.status.busy": "2021-04-04T22:14:53.719405Z",
     "iopub.status.idle": "2021-04-04T22:14:53.722317Z",
     "shell.execute_reply": "2021-04-04T22:14:53.721743Z"
    },
    "papermill": {
     "duration": 0.030892,
     "end_time": "2021-04-04T22:14:53.722436",
     "exception": false,
     "start_time": "2021-04-04T22:14:53.691544",
     "status": "completed"
    },
    "tags": []
   },
   "outputs": [],
   "source": [
    "import csv\n",
    "\n",
    "\n",
    "dataset_config_name = DATASET_CONFIG_PATH.split('/')[-1].split('.')[0]\n",
    "model_config_name = MODEL_CONFIG_PATH.split('/')[-1].split('.')[0]\n",
    "configuration = f\"dataset_{dataset_config_name}-model_{model_config_name}\"\n",
    "\n",
    "with open('results.csv', 'a') as f:\n",
    "    report = dict({'configuration': configuration}, **score)\n",
    "    writer = csv.DictWriter(f, report.keys())\n",
    "    writer.writerow(report)"
   ]
  }
 ],
 "metadata": {
  "celltoolbar": "Tags",
  "kernelspec": {
   "display_name": "Python 3",
   "language": "python",
   "name": "python3"
  },
  "language_info": {
   "codemirror_mode": {
    "name": "ipython",
    "version": 3
   },
   "file_extension": ".py",
   "mimetype": "text/x-python",
   "name": "python",
   "nbconvert_exporter": "python",
   "pygments_lexer": "ipython3",
   "version": "3.9.1"
  },
  "papermill": {
   "default_parameters": {},
   "duration": 8.052196,
   "end_time": "2021-04-04T22:14:55.016992",
   "environment_variables": {},
   "exception": null,
   "input_path": "main.ipynb",
   "output_path": "runs/dataset_000001-model_000005.ipynb",
   "parameters": {
    "DATASET_CONFIG_PATH": "config/dataset/000001.json",
    "MODEL_CONFIG_PATH": "config/model/000005.json",
    "PROFILE_REPORTING": false
   },
   "start_time": "2021-04-04T22:14:46.964796",
   "version": "2.3.3"
  }
 },
 "nbformat": 4,
 "nbformat_minor": 5
}