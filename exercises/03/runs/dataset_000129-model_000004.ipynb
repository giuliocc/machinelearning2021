{
 "cells": [
  {
   "cell_type": "markdown",
   "id": "51c71c25",
   "metadata": {
    "papermill": {
     "duration": 0.021288,
     "end_time": "2021-04-04T23:24:43.332720",
     "exception": false,
     "start_time": "2021-04-04T23:24:43.311432",
     "status": "completed"
    },
    "tags": []
   },
   "source": [
    "# Parametrizing"
   ]
  },
  {
   "cell_type": "code",
   "execution_count": 1,
   "id": "3b136394",
   "metadata": {
    "execution": {
     "iopub.execute_input": "2021-04-04T23:24:43.403030Z",
     "iopub.status.busy": "2021-04-04T23:24:43.401862Z",
     "iopub.status.idle": "2021-04-04T23:24:43.406983Z",
     "shell.execute_reply": "2021-04-04T23:24:43.406214Z"
    },
    "papermill": {
     "duration": 0.04826,
     "end_time": "2021-04-04T23:24:43.407142",
     "exception": false,
     "start_time": "2021-04-04T23:24:43.358882",
     "status": "completed"
    },
    "tags": [
     "parameters"
    ]
   },
   "outputs": [],
   "source": [
    "DATASET_CONFIG_PATH = 'config/dataset/kc1_001.json'\n",
    "MODEL_CONFIG_PATH = 'config/model/knndd_001.json'\n",
    "PROFILE_REPORTING = False"
   ]
  },
  {
   "cell_type": "code",
   "execution_count": 2,
   "id": "bb54e771",
   "metadata": {
    "execution": {
     "iopub.execute_input": "2021-04-04T23:24:43.458339Z",
     "iopub.status.busy": "2021-04-04T23:24:43.457620Z",
     "iopub.status.idle": "2021-04-04T23:24:43.459920Z",
     "shell.execute_reply": "2021-04-04T23:24:43.460479Z"
    },
    "papermill": {
     "duration": 0.029441,
     "end_time": "2021-04-04T23:24:43.460643",
     "exception": false,
     "start_time": "2021-04-04T23:24:43.431202",
     "status": "completed"
    },
    "tags": [
     "injected-parameters"
    ]
   },
   "outputs": [],
   "source": [
    "# Parameters\n",
    "DATASET_CONFIG_PATH = \"config/dataset/000129.json\"\n",
    "MODEL_CONFIG_PATH = \"config/model/000004.json\"\n",
    "PROFILE_REPORTING = False\n"
   ]
  },
  {
   "cell_type": "code",
   "execution_count": 3,
   "id": "b80f2a10",
   "metadata": {
    "execution": {
     "iopub.execute_input": "2021-04-04T23:24:43.513181Z",
     "iopub.status.busy": "2021-04-04T23:24:43.511099Z",
     "iopub.status.idle": "2021-04-04T23:24:43.515208Z",
     "shell.execute_reply": "2021-04-04T23:24:43.514634Z"
    },
    "papermill": {
     "duration": 0.033575,
     "end_time": "2021-04-04T23:24:43.515344",
     "exception": false,
     "start_time": "2021-04-04T23:24:43.481769",
     "status": "completed"
    },
    "tags": []
   },
   "outputs": [],
   "source": [
    "import json\n",
    "\n",
    "\n",
    "with open(DATASET_CONFIG_PATH) as f:\n",
    "    dataset_config = json.load(f)\n",
    "\n",
    "with open(MODEL_CONFIG_PATH) as f:\n",
    "    model_config = json.load(f)"
   ]
  },
  {
   "cell_type": "markdown",
   "id": "9a4b0e2d",
   "metadata": {
    "papermill": {
     "duration": 0.021889,
     "end_time": "2021-04-04T23:24:43.557488",
     "exception": false,
     "start_time": "2021-04-04T23:24:43.535599",
     "status": "completed"
    },
    "tags": []
   },
   "source": [
    "# Profiling"
   ]
  },
  {
   "cell_type": "code",
   "execution_count": 4,
   "id": "a3e0289b",
   "metadata": {
    "execution": {
     "iopub.execute_input": "2021-04-04T23:24:43.604373Z",
     "iopub.status.busy": "2021-04-04T23:24:43.602379Z",
     "iopub.status.idle": "2021-04-04T23:24:45.107465Z",
     "shell.execute_reply": "2021-04-04T23:24:45.107922Z"
    },
    "papermill": {
     "duration": 1.529714,
     "end_time": "2021-04-04T23:24:45.108064",
     "exception": false,
     "start_time": "2021-04-04T23:24:43.578350",
     "status": "completed"
    },
    "tags": []
   },
   "outputs": [],
   "source": [
    "import pandas as pd\n",
    "from pandas_profiling import ProfileReport"
   ]
  },
  {
   "cell_type": "code",
   "execution_count": 5,
   "id": "ee6c0666",
   "metadata": {
    "execution": {
     "iopub.execute_input": "2021-04-04T23:24:45.164659Z",
     "iopub.status.busy": "2021-04-04T23:24:45.163926Z",
     "iopub.status.idle": "2021-04-04T23:24:45.174717Z",
     "shell.execute_reply": "2021-04-04T23:24:45.174190Z"
    },
    "papermill": {
     "duration": 0.044375,
     "end_time": "2021-04-04T23:24:45.174853",
     "exception": false,
     "start_time": "2021-04-04T23:24:45.130478",
     "status": "completed"
    },
    "tags": []
   },
   "outputs": [],
   "source": [
    "df = pd.read_csv(dataset_config['dataset_path'])"
   ]
  },
  {
   "cell_type": "code",
   "execution_count": 6,
   "id": "7eca6c4a",
   "metadata": {
    "execution": {
     "iopub.execute_input": "2021-04-04T23:24:45.232126Z",
     "iopub.status.busy": "2021-04-04T23:24:45.231495Z",
     "iopub.status.idle": "2021-04-04T23:24:45.234684Z",
     "shell.execute_reply": "2021-04-04T23:24:45.234169Z"
    },
    "papermill": {
     "duration": 0.039549,
     "end_time": "2021-04-04T23:24:45.234804",
     "exception": false,
     "start_time": "2021-04-04T23:24:45.195255",
     "status": "completed"
    },
    "tags": []
   },
   "outputs": [
    {
     "name": "stdout",
     "output_type": "stream",
     "text": [
      "<class 'pandas.core.frame.DataFrame'>\n",
      "RangeIndex: 498 entries, 0 to 497\n",
      "Data columns (total 23 columns):\n",
      " #   Column             Non-Null Count  Dtype  \n",
      "---  ------             --------------  -----  \n",
      " 0   id                 498 non-null    int64  \n",
      " 1   loc                498 non-null    float64\n",
      " 2   v(g)               498 non-null    float64\n",
      " 3   ev(g)              498 non-null    float64\n",
      " 4   iv(g)              498 non-null    float64\n",
      " 5   n                  498 non-null    float64\n",
      " 6   v                  498 non-null    float64\n",
      " 7   l                  498 non-null    float64\n",
      " 8   d                  498 non-null    float64\n",
      " 9   i                  498 non-null    float64\n",
      " 10  e                  498 non-null    float64\n",
      " 11  b                  498 non-null    float64\n",
      " 12  t                  498 non-null    float64\n",
      " 13  lOCode             498 non-null    int64  \n",
      " 14  lOComment          498 non-null    int64  \n",
      " 15  lOBlank            498 non-null    int64  \n",
      " 16  locCodeAndComment  498 non-null    int64  \n",
      " 17  uniq_Op            498 non-null    float64\n",
      " 18  uniq_Opnd          498 non-null    float64\n",
      " 19  total_Op           498 non-null    float64\n",
      " 20  total_Opnd         498 non-null    float64\n",
      " 21  branchCount        498 non-null    float64\n",
      " 22  defects            498 non-null    bool   \n",
      "dtypes: bool(1), float64(17), int64(5)\n",
      "memory usage: 86.2 KB\n"
     ]
    }
   ],
   "source": [
    "df.info()"
   ]
  },
  {
   "cell_type": "code",
   "execution_count": 7,
   "id": "3638e5e8",
   "metadata": {
    "execution": {
     "iopub.execute_input": "2021-04-04T23:24:45.304451Z",
     "iopub.status.busy": "2021-04-04T23:24:45.301742Z",
     "iopub.status.idle": "2021-04-04T23:24:45.339465Z",
     "shell.execute_reply": "2021-04-04T23:24:45.339976Z"
    },
    "papermill": {
     "duration": 0.080127,
     "end_time": "2021-04-04T23:24:45.340146",
     "exception": false,
     "start_time": "2021-04-04T23:24:45.260019",
     "status": "completed"
    },
    "tags": []
   },
   "outputs": [
    {
     "data": {
      "text/html": [
       "<div>\n",
       "<style scoped>\n",
       "    .dataframe tbody tr th:only-of-type {\n",
       "        vertical-align: middle;\n",
       "    }\n",
       "\n",
       "    .dataframe tbody tr th {\n",
       "        vertical-align: top;\n",
       "    }\n",
       "\n",
       "    .dataframe thead th {\n",
       "        text-align: right;\n",
       "    }\n",
       "</style>\n",
       "<table border=\"1\" class=\"dataframe\">\n",
       "  <thead>\n",
       "    <tr style=\"text-align: right;\">\n",
       "      <th></th>\n",
       "      <th>id</th>\n",
       "      <th>loc</th>\n",
       "      <th>v(g)</th>\n",
       "      <th>ev(g)</th>\n",
       "      <th>iv(g)</th>\n",
       "      <th>n</th>\n",
       "      <th>v</th>\n",
       "      <th>l</th>\n",
       "      <th>d</th>\n",
       "      <th>i</th>\n",
       "      <th>...</th>\n",
       "      <th>lOCode</th>\n",
       "      <th>lOComment</th>\n",
       "      <th>lOBlank</th>\n",
       "      <th>locCodeAndComment</th>\n",
       "      <th>uniq_Op</th>\n",
       "      <th>uniq_Opnd</th>\n",
       "      <th>total_Op</th>\n",
       "      <th>total_Opnd</th>\n",
       "      <th>branchCount</th>\n",
       "      <th>defects</th>\n",
       "    </tr>\n",
       "  </thead>\n",
       "  <tbody>\n",
       "    <tr>\n",
       "      <th>0</th>\n",
       "      <td>1</td>\n",
       "      <td>1.1</td>\n",
       "      <td>1.4</td>\n",
       "      <td>1.4</td>\n",
       "      <td>1.4</td>\n",
       "      <td>1.3</td>\n",
       "      <td>1.30</td>\n",
       "      <td>1.30</td>\n",
       "      <td>1.30</td>\n",
       "      <td>1.30</td>\n",
       "      <td>...</td>\n",
       "      <td>2</td>\n",
       "      <td>2</td>\n",
       "      <td>2</td>\n",
       "      <td>2</td>\n",
       "      <td>1.2</td>\n",
       "      <td>1.2</td>\n",
       "      <td>1.2</td>\n",
       "      <td>1.2</td>\n",
       "      <td>1.4</td>\n",
       "      <td>False</td>\n",
       "    </tr>\n",
       "    <tr>\n",
       "      <th>1</th>\n",
       "      <td>2</td>\n",
       "      <td>1.0</td>\n",
       "      <td>1.0</td>\n",
       "      <td>1.0</td>\n",
       "      <td>1.0</td>\n",
       "      <td>1.0</td>\n",
       "      <td>1.00</td>\n",
       "      <td>1.00</td>\n",
       "      <td>1.00</td>\n",
       "      <td>1.00</td>\n",
       "      <td>...</td>\n",
       "      <td>1</td>\n",
       "      <td>1</td>\n",
       "      <td>1</td>\n",
       "      <td>1</td>\n",
       "      <td>1.0</td>\n",
       "      <td>1.0</td>\n",
       "      <td>1.0</td>\n",
       "      <td>1.0</td>\n",
       "      <td>1.0</td>\n",
       "      <td>True</td>\n",
       "    </tr>\n",
       "    <tr>\n",
       "      <th>2</th>\n",
       "      <td>3</td>\n",
       "      <td>24.0</td>\n",
       "      <td>5.0</td>\n",
       "      <td>1.0</td>\n",
       "      <td>3.0</td>\n",
       "      <td>63.0</td>\n",
       "      <td>309.13</td>\n",
       "      <td>0.11</td>\n",
       "      <td>9.50</td>\n",
       "      <td>32.54</td>\n",
       "      <td>...</td>\n",
       "      <td>1</td>\n",
       "      <td>0</td>\n",
       "      <td>6</td>\n",
       "      <td>0</td>\n",
       "      <td>15.0</td>\n",
       "      <td>15.0</td>\n",
       "      <td>44.0</td>\n",
       "      <td>19.0</td>\n",
       "      <td>9.0</td>\n",
       "      <td>False</td>\n",
       "    </tr>\n",
       "    <tr>\n",
       "      <th>3</th>\n",
       "      <td>4</td>\n",
       "      <td>20.0</td>\n",
       "      <td>4.0</td>\n",
       "      <td>4.0</td>\n",
       "      <td>2.0</td>\n",
       "      <td>47.0</td>\n",
       "      <td>215.49</td>\n",
       "      <td>0.06</td>\n",
       "      <td>16.00</td>\n",
       "      <td>13.47</td>\n",
       "      <td>...</td>\n",
       "      <td>0</td>\n",
       "      <td>0</td>\n",
       "      <td>3</td>\n",
       "      <td>0</td>\n",
       "      <td>16.0</td>\n",
       "      <td>8.0</td>\n",
       "      <td>31.0</td>\n",
       "      <td>16.0</td>\n",
       "      <td>7.0</td>\n",
       "      <td>False</td>\n",
       "    </tr>\n",
       "    <tr>\n",
       "      <th>4</th>\n",
       "      <td>5</td>\n",
       "      <td>24.0</td>\n",
       "      <td>6.0</td>\n",
       "      <td>6.0</td>\n",
       "      <td>2.0</td>\n",
       "      <td>72.0</td>\n",
       "      <td>346.13</td>\n",
       "      <td>0.06</td>\n",
       "      <td>17.33</td>\n",
       "      <td>19.97</td>\n",
       "      <td>...</td>\n",
       "      <td>0</td>\n",
       "      <td>0</td>\n",
       "      <td>3</td>\n",
       "      <td>0</td>\n",
       "      <td>16.0</td>\n",
       "      <td>12.0</td>\n",
       "      <td>46.0</td>\n",
       "      <td>26.0</td>\n",
       "      <td>11.0</td>\n",
       "      <td>False</td>\n",
       "    </tr>\n",
       "  </tbody>\n",
       "</table>\n",
       "<p>5 rows × 23 columns</p>\n",
       "</div>"
      ],
      "text/plain": [
       "   id   loc  v(g)  ev(g)  iv(g)     n       v     l      d      i  ...  \\\n",
       "0   1   1.1   1.4    1.4    1.4   1.3    1.30  1.30   1.30   1.30  ...   \n",
       "1   2   1.0   1.0    1.0    1.0   1.0    1.00  1.00   1.00   1.00  ...   \n",
       "2   3  24.0   5.0    1.0    3.0  63.0  309.13  0.11   9.50  32.54  ...   \n",
       "3   4  20.0   4.0    4.0    2.0  47.0  215.49  0.06  16.00  13.47  ...   \n",
       "4   5  24.0   6.0    6.0    2.0  72.0  346.13  0.06  17.33  19.97  ...   \n",
       "\n",
       "   lOCode  lOComment  lOBlank  locCodeAndComment  uniq_Op  uniq_Opnd  \\\n",
       "0       2          2        2                  2      1.2        1.2   \n",
       "1       1          1        1                  1      1.0        1.0   \n",
       "2       1          0        6                  0     15.0       15.0   \n",
       "3       0          0        3                  0     16.0        8.0   \n",
       "4       0          0        3                  0     16.0       12.0   \n",
       "\n",
       "   total_Op  total_Opnd  branchCount  defects  \n",
       "0       1.2         1.2          1.4    False  \n",
       "1       1.0         1.0          1.0     True  \n",
       "2      44.0        19.0          9.0    False  \n",
       "3      31.0        16.0          7.0    False  \n",
       "4      46.0        26.0         11.0    False  \n",
       "\n",
       "[5 rows x 23 columns]"
      ]
     },
     "execution_count": 7,
     "metadata": {},
     "output_type": "execute_result"
    }
   ],
   "source": [
    "df.head()"
   ]
  },
  {
   "cell_type": "code",
   "execution_count": 8,
   "id": "733e95eb",
   "metadata": {
    "execution": {
     "iopub.execute_input": "2021-04-04T23:24:45.412540Z",
     "iopub.status.busy": "2021-04-04T23:24:45.411365Z",
     "iopub.status.idle": "2021-04-04T23:24:45.414430Z",
     "shell.execute_reply": "2021-04-04T23:24:45.413775Z"
    },
    "papermill": {
     "duration": 0.041856,
     "end_time": "2021-04-04T23:24:45.414584",
     "exception": false,
     "start_time": "2021-04-04T23:24:45.372728",
     "status": "completed"
    },
    "tags": []
   },
   "outputs": [],
   "source": [
    "del df['id']"
   ]
  },
  {
   "cell_type": "code",
   "execution_count": 9,
   "id": "6ff6f5b0",
   "metadata": {
    "execution": {
     "iopub.execute_input": "2021-04-04T23:24:45.469171Z",
     "iopub.status.busy": "2021-04-04T23:24:45.468310Z",
     "iopub.status.idle": "2021-04-04T23:24:45.470843Z",
     "shell.execute_reply": "2021-04-04T23:24:45.470266Z"
    },
    "papermill": {
     "duration": 0.032167,
     "end_time": "2021-04-04T23:24:45.470962",
     "exception": false,
     "start_time": "2021-04-04T23:24:45.438795",
     "status": "completed"
    },
    "tags": []
   },
   "outputs": [],
   "source": [
    "if PROFILE_REPORTING:\n",
    "    ProfileReport(df).to_widgets()"
   ]
  },
  {
   "cell_type": "markdown",
   "id": "1deaf3f0",
   "metadata": {
    "papermill": {
     "duration": 0.025819,
     "end_time": "2021-04-04T23:24:45.518902",
     "exception": false,
     "start_time": "2021-04-04T23:24:45.493083",
     "status": "completed"
    },
    "tags": []
   },
   "source": [
    "# Preprocess"
   ]
  },
  {
   "cell_type": "code",
   "execution_count": 10,
   "id": "1513e563",
   "metadata": {
    "execution": {
     "iopub.execute_input": "2021-04-04T23:24:45.572649Z",
     "iopub.status.busy": "2021-04-04T23:24:45.571844Z",
     "iopub.status.idle": "2021-04-04T23:24:45.574607Z",
     "shell.execute_reply": "2021-04-04T23:24:45.573989Z"
    },
    "papermill": {
     "duration": 0.034004,
     "end_time": "2021-04-04T23:24:45.574727",
     "exception": false,
     "start_time": "2021-04-04T23:24:45.540723",
     "status": "completed"
    },
    "tags": []
   },
   "outputs": [],
   "source": [
    "working_df = df.copy()"
   ]
  },
  {
   "cell_type": "code",
   "execution_count": 11,
   "id": "3b26d675",
   "metadata": {
    "execution": {
     "iopub.execute_input": "2021-04-04T23:24:45.632128Z",
     "iopub.status.busy": "2021-04-04T23:24:45.631391Z",
     "iopub.status.idle": "2021-04-04T23:24:45.634437Z",
     "shell.execute_reply": "2021-04-04T23:24:45.633838Z"
    },
    "papermill": {
     "duration": 0.03812,
     "end_time": "2021-04-04T23:24:45.634581",
     "exception": false,
     "start_time": "2021-04-04T23:24:45.596461",
     "status": "completed"
    },
    "tags": []
   },
   "outputs": [],
   "source": [
    "working_df['defects'] = working_df['defects'].replace([False, True], [0, 1])"
   ]
  },
  {
   "cell_type": "code",
   "execution_count": 12,
   "id": "eb48604f",
   "metadata": {
    "execution": {
     "iopub.execute_input": "2021-04-04T23:24:45.693102Z",
     "iopub.status.busy": "2021-04-04T23:24:45.692052Z",
     "iopub.status.idle": "2021-04-04T23:24:45.694973Z",
     "shell.execute_reply": "2021-04-04T23:24:45.696164Z"
    },
    "papermill": {
     "duration": 0.036458,
     "end_time": "2021-04-04T23:24:45.696545",
     "exception": false,
     "start_time": "2021-04-04T23:24:45.660087",
     "status": "completed"
    },
    "tags": []
   },
   "outputs": [],
   "source": [
    "for col in dataset_config['delete_columns']:\n",
    "    del working_df[col]"
   ]
  },
  {
   "cell_type": "code",
   "execution_count": 13,
   "id": "9a17bc29",
   "metadata": {
    "execution": {
     "iopub.execute_input": "2021-04-04T23:24:45.764215Z",
     "iopub.status.busy": "2021-04-04T23:24:45.763164Z",
     "iopub.status.idle": "2021-04-04T23:24:45.773130Z",
     "shell.execute_reply": "2021-04-04T23:24:45.773727Z"
    },
    "papermill": {
     "duration": 0.050877,
     "end_time": "2021-04-04T23:24:45.773938",
     "exception": false,
     "start_time": "2021-04-04T23:24:45.723061",
     "status": "completed"
    },
    "tags": []
   },
   "outputs": [],
   "source": [
    "working_df = working_df.drop_duplicates()"
   ]
  },
  {
   "cell_type": "markdown",
   "id": "a4d52ca6",
   "metadata": {
    "papermill": {
     "duration": 0.023414,
     "end_time": "2021-04-04T23:24:45.821243",
     "exception": false,
     "start_time": "2021-04-04T23:24:45.797829",
     "status": "completed"
    },
    "tags": []
   },
   "source": [
    "# Split"
   ]
  },
  {
   "cell_type": "code",
   "execution_count": 14,
   "id": "3e9ee4b5",
   "metadata": {
    "execution": {
     "iopub.execute_input": "2021-04-04T23:24:45.878957Z",
     "iopub.status.busy": "2021-04-04T23:24:45.877472Z",
     "iopub.status.idle": "2021-04-04T23:24:45.909161Z",
     "shell.execute_reply": "2021-04-04T23:24:45.909685Z"
    },
    "papermill": {
     "duration": 0.064553,
     "end_time": "2021-04-04T23:24:45.909843",
     "exception": false,
     "start_time": "2021-04-04T23:24:45.845290",
     "status": "completed"
    },
    "tags": []
   },
   "outputs": [],
   "source": [
    "from sklearn.model_selection import train_test_split"
   ]
  },
  {
   "cell_type": "code",
   "execution_count": 15,
   "id": "274004ce",
   "metadata": {
    "execution": {
     "iopub.execute_input": "2021-04-04T23:24:45.962541Z",
     "iopub.status.busy": "2021-04-04T23:24:45.961490Z",
     "iopub.status.idle": "2021-04-04T23:24:45.966069Z",
     "shell.execute_reply": "2021-04-04T23:24:45.966620Z"
    },
    "papermill": {
     "duration": 0.031459,
     "end_time": "2021-04-04T23:24:45.966842",
     "exception": false,
     "start_time": "2021-04-04T23:24:45.935383",
     "status": "completed"
    },
    "scrolled": true,
    "tags": []
   },
   "outputs": [],
   "source": [
    "inlier, outlier = working_df[working_df['defects'] == 0], working_df[working_df['defects'] == 1]"
   ]
  },
  {
   "cell_type": "code",
   "execution_count": 16,
   "id": "753c7b03",
   "metadata": {
    "execution": {
     "iopub.execute_input": "2021-04-04T23:24:46.027479Z",
     "iopub.status.busy": "2021-04-04T23:24:46.026573Z",
     "iopub.status.idle": "2021-04-04T23:24:46.029055Z",
     "shell.execute_reply": "2021-04-04T23:24:46.028479Z"
    },
    "papermill": {
     "duration": 0.037809,
     "end_time": "2021-04-04T23:24:46.029174",
     "exception": false,
     "start_time": "2021-04-04T23:24:45.991365",
     "status": "completed"
    },
    "tags": []
   },
   "outputs": [],
   "source": [
    "X_inlier = inlier.copy()\n",
    "y_inlier = X_inlier.pop('defects')\n",
    "X_outlier = outlier.copy()\n",
    "y_outlier = X_outlier.pop('defects')"
   ]
  },
  {
   "cell_type": "code",
   "execution_count": 17,
   "id": "2ba43193",
   "metadata": {
    "execution": {
     "iopub.execute_input": "2021-04-04T23:24:46.085105Z",
     "iopub.status.busy": "2021-04-04T23:24:46.083500Z",
     "iopub.status.idle": "2021-04-04T23:24:46.090282Z",
     "shell.execute_reply": "2021-04-04T23:24:46.089623Z"
    },
    "papermill": {
     "duration": 0.037068,
     "end_time": "2021-04-04T23:24:46.090444",
     "exception": false,
     "start_time": "2021-04-04T23:24:46.053376",
     "status": "completed"
    },
    "tags": []
   },
   "outputs": [],
   "source": [
    "test_size = dataset_config['test_size']\n",
    "random_state = dataset_config['random_state']\n",
    "\n",
    "X_inlier_train, X_inlier_test, y_inlier_train, y_inlier_test = train_test_split(\n",
    "    X_inlier,\n",
    "    y_inlier,\n",
    "    test_size=test_size,\n",
    "    random_state=random_state\n",
    ")"
   ]
  },
  {
   "cell_type": "code",
   "execution_count": 18,
   "id": "0b7582ca",
   "metadata": {
    "execution": {
     "iopub.execute_input": "2021-04-04T23:24:46.155729Z",
     "iopub.status.busy": "2021-04-04T23:24:46.154681Z",
     "iopub.status.idle": "2021-04-04T23:24:46.157234Z",
     "shell.execute_reply": "2021-04-04T23:24:46.157690Z"
    },
    "papermill": {
     "duration": 0.043703,
     "end_time": "2021-04-04T23:24:46.157829",
     "exception": false,
     "start_time": "2021-04-04T23:24:46.114126",
     "status": "completed"
    },
    "tags": []
   },
   "outputs": [],
   "source": [
    "test_outlier_size = dataset_config['test_outlier_size']\n",
    "if test_outlier_size > 0.0:\n",
    "    X_outlier_train, X_outlier_test, y_outlier_train, y_outlier_test = train_test_split(\n",
    "        X_outlier,\n",
    "        y_outlier,\n",
    "        test_size=test_outlier_size,\n",
    "        random_state=random_state\n",
    "    )\n",
    "else:\n",
    "    X_outlier_train, y_outlier_train = pd.DataFrame(columns=X_outlier.columns), pd.Series(dtype='int64')\n",
    "    X_outlier_test, y_outlier_test = X_outlier.copy(), y_outlier.copy()"
   ]
  },
  {
   "cell_type": "code",
   "execution_count": 19,
   "id": "c34363db",
   "metadata": {
    "execution": {
     "iopub.execute_input": "2021-04-04T23:24:46.213775Z",
     "iopub.status.busy": "2021-04-04T23:24:46.211128Z",
     "iopub.status.idle": "2021-04-04T23:24:46.216072Z",
     "shell.execute_reply": "2021-04-04T23:24:46.215558Z"
    },
    "papermill": {
     "duration": 0.035403,
     "end_time": "2021-04-04T23:24:46.216190",
     "exception": false,
     "start_time": "2021-04-04T23:24:46.180787",
     "status": "completed"
    },
    "tags": []
   },
   "outputs": [],
   "source": [
    "X_train, y_train = pd.concat([X_inlier_train, X_outlier_train], ignore_index=True), pd.concat([y_inlier_train, y_outlier_train], ignore_index=True)\n",
    "X_test, y_test = pd.concat([X_inlier_test, X_outlier_test], ignore_index=True), pd.concat([y_inlier_test, y_outlier_test], ignore_index=True)"
   ]
  },
  {
   "cell_type": "markdown",
   "id": "7cde7309",
   "metadata": {
    "papermill": {
     "duration": 0.02929,
     "end_time": "2021-04-04T23:24:46.271611",
     "exception": false,
     "start_time": "2021-04-04T23:24:46.242321",
     "status": "completed"
    },
    "tags": []
   },
   "source": [
    "# Model"
   ]
  },
  {
   "cell_type": "code",
   "execution_count": 20,
   "id": "2b12a415",
   "metadata": {
    "execution": {
     "iopub.execute_input": "2021-04-04T23:24:46.335896Z",
     "iopub.status.busy": "2021-04-04T23:24:46.335037Z",
     "iopub.status.idle": "2021-04-04T23:24:46.338583Z",
     "shell.execute_reply": "2021-04-04T23:24:46.337610Z"
    },
    "papermill": {
     "duration": 0.037182,
     "end_time": "2021-04-04T23:24:46.338849",
     "exception": false,
     "start_time": "2021-04-04T23:24:46.301667",
     "status": "completed"
    },
    "tags": []
   },
   "outputs": [],
   "source": [
    "from math import sqrt\n",
    "\n",
    "\n",
    "class KNNDataDescription:\n",
    "    def __init__(self, k=5, outlier_threshold=1.0):\n",
    "        self.k = k\n",
    "        self.outlier_threshold = outlier_threshold\n",
    "        self.X = []\n",
    "    \n",
    "    def fit(self, X):\n",
    "        self.X = [features.to_list() for index, features in X.iterrows()]\n",
    "\n",
    "    def predict(self, entries):\n",
    "        return [self.predict_entry(features.to_list()) for index, features in entries.iterrows()]\n",
    "    \n",
    "    def predict_entry(self, entry):\n",
    "        kth_neighbor, kth_distance = self.get_kth_neighbor(entry, self.k)\n",
    "        kth_kth_neighbor, kth_kth_distance = self.get_kth_neighbor(kth_neighbor, self.k + 1)\n",
    "\n",
    "        outlier_score = kth_distance / (kth_kth_distance + 0.000001)\n",
    "\n",
    "        return 1 if outlier_score < self.outlier_threshold else -1\n",
    "        \n",
    "    def euclidean_distance(self, features1, features2):\n",
    "        distance = 0.0\n",
    "        for feat1, feat2 in zip(features1, features2):\n",
    "            distance += (feat1 - feat2)**2\n",
    "                \n",
    "        return sqrt(distance)\n",
    "\n",
    "    def get_neighbors(self, entry, k):\n",
    "        distance_to_data_points = [\n",
    "            (data_point, self.euclidean_distance(entry, data_point))\n",
    "            for data_point in self.X\n",
    "        ]\n",
    "        sorted_by_distance = sorted(distance_to_data_points, key=lambda tup: tup[1])\n",
    "        neighbors = sorted_by_distance[:k]\n",
    "        return neighbors\n",
    "\n",
    "    def get_kth_neighbor(self, entry, k):\n",
    "        neighbors = self.get_neighbors(entry, k)\n",
    "        return neighbors[-1]\n"
   ]
  },
  {
   "cell_type": "code",
   "execution_count": 21,
   "id": "1fa9ec1c",
   "metadata": {
    "execution": {
     "iopub.execute_input": "2021-04-04T23:24:46.408186Z",
     "iopub.status.busy": "2021-04-04T23:24:46.406900Z",
     "iopub.status.idle": "2021-04-04T23:24:46.437393Z",
     "shell.execute_reply": "2021-04-04T23:24:46.437998Z"
    },
    "papermill": {
     "duration": 0.066731,
     "end_time": "2021-04-04T23:24:46.438185",
     "exception": false,
     "start_time": "2021-04-04T23:24:46.371454",
     "status": "completed"
    },
    "tags": []
   },
   "outputs": [],
   "source": [
    "from sklearn.svm import OneClassSVM\n",
    "\n",
    "\n",
    "models = {\n",
    "    'oneclasssvm': OneClassSVM,\n",
    "    'knndatadescription': KNNDataDescription,\n",
    "}"
   ]
  },
  {
   "cell_type": "code",
   "execution_count": 22,
   "id": "4d72a0b1",
   "metadata": {
    "execution": {
     "iopub.execute_input": "2021-04-04T23:24:46.492432Z",
     "iopub.status.busy": "2021-04-04T23:24:46.491278Z",
     "iopub.status.idle": "2021-04-04T23:24:46.494228Z",
     "shell.execute_reply": "2021-04-04T23:24:46.493721Z"
    },
    "papermill": {
     "duration": 0.031206,
     "end_time": "2021-04-04T23:24:46.494345",
     "exception": false,
     "start_time": "2021-04-04T23:24:46.463139",
     "status": "completed"
    },
    "scrolled": true,
    "tags": []
   },
   "outputs": [],
   "source": [
    "model_cls = models[model_config['model_type']]\n",
    "model = model_cls(**model_config['hyperparameters'])"
   ]
  },
  {
   "cell_type": "markdown",
   "id": "e00cff3b",
   "metadata": {
    "papermill": {
     "duration": 0.02584,
     "end_time": "2021-04-04T23:24:46.546179",
     "exception": false,
     "start_time": "2021-04-04T23:24:46.520339",
     "status": "completed"
    },
    "tags": []
   },
   "source": [
    "# Fit"
   ]
  },
  {
   "cell_type": "code",
   "execution_count": 23,
   "id": "8b2ded89",
   "metadata": {
    "execution": {
     "iopub.execute_input": "2021-04-04T23:24:46.602428Z",
     "iopub.status.busy": "2021-04-04T23:24:46.601419Z",
     "iopub.status.idle": "2021-04-04T23:24:46.612716Z",
     "shell.execute_reply": "2021-04-04T23:24:46.613570Z"
    },
    "papermill": {
     "duration": 0.041492,
     "end_time": "2021-04-04T23:24:46.613942",
     "exception": false,
     "start_time": "2021-04-04T23:24:46.572450",
     "status": "completed"
    },
    "tags": []
   },
   "outputs": [
    {
     "data": {
      "text/plain": [
       "OneClassSVM()"
      ]
     },
     "execution_count": 23,
     "metadata": {},
     "output_type": "execute_result"
    }
   ],
   "source": [
    "model.fit(X_train)"
   ]
  },
  {
   "cell_type": "markdown",
   "id": "f99999f7",
   "metadata": {
    "papermill": {
     "duration": 0.029773,
     "end_time": "2021-04-04T23:24:46.668486",
     "exception": false,
     "start_time": "2021-04-04T23:24:46.638713",
     "status": "completed"
    },
    "tags": []
   },
   "source": [
    "# Predict"
   ]
  },
  {
   "cell_type": "code",
   "execution_count": 24,
   "id": "6536fbf7",
   "metadata": {
    "execution": {
     "iopub.execute_input": "2021-04-04T23:24:46.727706Z",
     "iopub.status.busy": "2021-04-04T23:24:46.725722Z",
     "iopub.status.idle": "2021-04-04T23:24:46.731811Z",
     "shell.execute_reply": "2021-04-04T23:24:46.732283Z"
    },
    "papermill": {
     "duration": 0.036471,
     "end_time": "2021-04-04T23:24:46.732428",
     "exception": false,
     "start_time": "2021-04-04T23:24:46.695957",
     "status": "completed"
    },
    "tags": []
   },
   "outputs": [],
   "source": [
    "predictions = model.predict(X_test)"
   ]
  },
  {
   "cell_type": "markdown",
   "id": "aa1c9881",
   "metadata": {
    "papermill": {
     "duration": 0.028819,
     "end_time": "2021-04-04T23:24:46.789378",
     "exception": false,
     "start_time": "2021-04-04T23:24:46.760559",
     "status": "completed"
    },
    "tags": []
   },
   "source": [
    "# Evaluate"
   ]
  },
  {
   "cell_type": "code",
   "execution_count": 25,
   "id": "894f0f04",
   "metadata": {
    "execution": {
     "iopub.execute_input": "2021-04-04T23:24:46.845571Z",
     "iopub.status.busy": "2021-04-04T23:24:46.844989Z",
     "iopub.status.idle": "2021-04-04T23:24:46.846972Z",
     "shell.execute_reply": "2021-04-04T23:24:46.847419Z"
    },
    "papermill": {
     "duration": 0.030155,
     "end_time": "2021-04-04T23:24:46.847554",
     "exception": false,
     "start_time": "2021-04-04T23:24:46.817399",
     "status": "completed"
    },
    "tags": []
   },
   "outputs": [],
   "source": [
    "from sklearn.metrics import f1_score"
   ]
  },
  {
   "cell_type": "code",
   "execution_count": 26,
   "id": "211744d3",
   "metadata": {
    "execution": {
     "iopub.execute_input": "2021-04-04T23:24:46.908082Z",
     "iopub.status.busy": "2021-04-04T23:24:46.907192Z",
     "iopub.status.idle": "2021-04-04T23:24:46.909651Z",
     "shell.execute_reply": "2021-04-04T23:24:46.910130Z"
    },
    "papermill": {
     "duration": 0.035395,
     "end_time": "2021-04-04T23:24:46.910279",
     "exception": false,
     "start_time": "2021-04-04T23:24:46.874884",
     "status": "completed"
    },
    "tags": []
   },
   "outputs": [],
   "source": [
    "y_test = y_test.replace([0, 1], [1, -1])"
   ]
  },
  {
   "cell_type": "code",
   "execution_count": 27,
   "id": "d68a9204",
   "metadata": {
    "execution": {
     "iopub.execute_input": "2021-04-04T23:24:46.968446Z",
     "iopub.status.busy": "2021-04-04T23:24:46.967869Z",
     "iopub.status.idle": "2021-04-04T23:24:46.974423Z",
     "shell.execute_reply": "2021-04-04T23:24:46.973467Z"
    },
    "papermill": {
     "duration": 0.038633,
     "end_time": "2021-04-04T23:24:46.974591",
     "exception": false,
     "start_time": "2021-04-04T23:24:46.935958",
     "status": "completed"
    },
    "tags": []
   },
   "outputs": [],
   "source": [
    "def evaluate(truths, predictions, pos_label, neg_label):\n",
    "    TP = 0\n",
    "    FP = 0\n",
    "    TN = 0\n",
    "    FN = 0\n",
    "\n",
    "    for truth, pred in zip(truths, predictions): \n",
    "        if truth == pred == pos_label:\n",
    "           TP += 1\n",
    "        elif pred == pos_label and truth == neg_label:\n",
    "           FP += 1\n",
    "        elif truth == pred == neg_label:\n",
    "           TN += 1\n",
    "        elif pred == neg_label and truth == pos_label:\n",
    "           FN += 1\n",
    "\n",
    "    precision = TP / (TP + FP)\n",
    "    sensitivity = TP / (TP + FN)\n",
    "    \n",
    "    return {\n",
    "        'true_pos': TP,\n",
    "        'false_pos': FP,\n",
    "        'false_neg': FN,\n",
    "        'true_neg': TN,\n",
    "        'precision': precision,\n",
    "        'sensitivity': sensitivity,\n",
    "        'f1': (2 * (precision * sensitivity)) / (precision + sensitivity)\n",
    "    }\n",
    "\n",
    "score = evaluate(y_test, predictions, pos_label=-1, neg_label=1)"
   ]
  },
  {
   "cell_type": "markdown",
   "id": "93596516",
   "metadata": {
    "papermill": {
     "duration": 0.032092,
     "end_time": "2021-04-04T23:24:47.031938",
     "exception": false,
     "start_time": "2021-04-04T23:24:46.999846",
     "status": "completed"
    },
    "tags": []
   },
   "source": [
    "# Report"
   ]
  },
  {
   "cell_type": "code",
   "execution_count": 28,
   "id": "bea5fba1",
   "metadata": {
    "execution": {
     "iopub.execute_input": "2021-04-04T23:24:47.090168Z",
     "iopub.status.busy": "2021-04-04T23:24:47.089438Z",
     "iopub.status.idle": "2021-04-04T23:24:47.091767Z",
     "shell.execute_reply": "2021-04-04T23:24:47.092273Z"
    },
    "papermill": {
     "duration": 0.036457,
     "end_time": "2021-04-04T23:24:47.092424",
     "exception": false,
     "start_time": "2021-04-04T23:24:47.055967",
     "status": "completed"
    },
    "tags": []
   },
   "outputs": [],
   "source": [
    "import csv\n",
    "\n",
    "\n",
    "dataset_config_name = DATASET_CONFIG_PATH.split('/')[-1].split('.')[0]\n",
    "model_config_name = MODEL_CONFIG_PATH.split('/')[-1].split('.')[0]\n",
    "configuration = f\"dataset_{dataset_config_name}-model_{model_config_name}\"\n",
    "\n",
    "with open('results.csv', 'a') as f:\n",
    "    report = dict({'configuration': configuration}, **score)\n",
    "    writer = csv.DictWriter(f, report.keys())\n",
    "    writer.writerow(report)"
   ]
  }
 ],
 "metadata": {
  "celltoolbar": "Tags",
  "kernelspec": {
   "display_name": "Python 3",
   "language": "python",
   "name": "python3"
  },
  "language_info": {
   "codemirror_mode": {
    "name": "ipython",
    "version": 3
   },
   "file_extension": ".py",
   "mimetype": "text/x-python",
   "name": "python",
   "nbconvert_exporter": "python",
   "pygments_lexer": "ipython3",
   "version": "3.9.1"
  },
  "papermill": {
   "default_parameters": {},
   "duration": 6.070509,
   "end_time": "2021-04-04T23:24:48.404767",
   "environment_variables": {},
   "exception": null,
   "input_path": "main.ipynb",
   "output_path": "runs/dataset_000129-model_000004.ipynb",
   "parameters": {
    "DATASET_CONFIG_PATH": "config/dataset/000129.json",
    "MODEL_CONFIG_PATH": "config/model/000004.json",
    "PROFILE_REPORTING": false
   },
   "start_time": "2021-04-04T23:24:42.334258",
   "version": "2.3.3"
  }
 },
 "nbformat": 4,
 "nbformat_minor": 5
}