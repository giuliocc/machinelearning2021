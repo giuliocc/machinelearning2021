{
 "cells": [
  {
   "cell_type": "markdown",
   "id": "4588efca",
   "metadata": {
    "papermill": {
     "duration": 0.027838,
     "end_time": "2021-04-04T22:23:52.906787",
     "exception": false,
     "start_time": "2021-04-04T22:23:52.878949",
     "status": "completed"
    },
    "tags": []
   },
   "source": [
    "# Parametrizing"
   ]
  },
  {
   "cell_type": "code",
   "execution_count": 1,
   "id": "5964d9c0",
   "metadata": {
    "execution": {
     "iopub.execute_input": "2021-04-04T22:23:52.958809Z",
     "iopub.status.busy": "2021-04-04T22:23:52.954961Z",
     "iopub.status.idle": "2021-04-04T22:23:52.962412Z",
     "shell.execute_reply": "2021-04-04T22:23:52.961568Z"
    },
    "papermill": {
     "duration": 0.036553,
     "end_time": "2021-04-04T22:23:52.962568",
     "exception": false,
     "start_time": "2021-04-04T22:23:52.926015",
     "status": "completed"
    },
    "tags": [
     "parameters"
    ]
   },
   "outputs": [],
   "source": [
    "DATASET_CONFIG_PATH = 'config/dataset/kc1_001.json'\n",
    "MODEL_CONFIG_PATH = 'config/model/knndd_001.json'\n",
    "PROFILE_REPORTING = False"
   ]
  },
  {
   "cell_type": "code",
   "execution_count": 2,
   "id": "6f52dba9",
   "metadata": {
    "execution": {
     "iopub.execute_input": "2021-04-04T22:23:53.013420Z",
     "iopub.status.busy": "2021-04-04T22:23:53.012470Z",
     "iopub.status.idle": "2021-04-04T22:23:53.014803Z",
     "shell.execute_reply": "2021-04-04T22:23:53.015284Z"
    },
    "papermill": {
     "duration": 0.026771,
     "end_time": "2021-04-04T22:23:53.015431",
     "exception": false,
     "start_time": "2021-04-04T22:23:52.988660",
     "status": "completed"
    },
    "tags": [
     "injected-parameters"
    ]
   },
   "outputs": [],
   "source": [
    "# Parameters\n",
    "DATASET_CONFIG_PATH = \"config/dataset/000006.json\"\n",
    "MODEL_CONFIG_PATH = \"config/model/000002.json\"\n",
    "PROFILE_REPORTING = False\n"
   ]
  },
  {
   "cell_type": "code",
   "execution_count": 3,
   "id": "3fa67035",
   "metadata": {
    "execution": {
     "iopub.execute_input": "2021-04-04T22:23:53.064448Z",
     "iopub.status.busy": "2021-04-04T22:23:53.063227Z",
     "iopub.status.idle": "2021-04-04T22:23:53.066840Z",
     "shell.execute_reply": "2021-04-04T22:23:53.067699Z"
    },
    "papermill": {
     "duration": 0.031431,
     "end_time": "2021-04-04T22:23:53.067926",
     "exception": false,
     "start_time": "2021-04-04T22:23:53.036495",
     "status": "completed"
    },
    "tags": []
   },
   "outputs": [],
   "source": [
    "import json\n",
    "\n",
    "\n",
    "with open(DATASET_CONFIG_PATH) as f:\n",
    "    dataset_config = json.load(f)\n",
    "\n",
    "with open(MODEL_CONFIG_PATH) as f:\n",
    "    model_config = json.load(f)"
   ]
  },
  {
   "cell_type": "markdown",
   "id": "9a4b0e2d",
   "metadata": {
    "papermill": {
     "duration": 0.019081,
     "end_time": "2021-04-04T22:23:53.113864",
     "exception": false,
     "start_time": "2021-04-04T22:23:53.094783",
     "status": "completed"
    },
    "tags": []
   },
   "source": [
    "# Profiling"
   ]
  },
  {
   "cell_type": "code",
   "execution_count": 4,
   "id": "a3e0289b",
   "metadata": {
    "execution": {
     "iopub.execute_input": "2021-04-04T22:23:53.159046Z",
     "iopub.status.busy": "2021-04-04T22:23:53.157992Z",
     "iopub.status.idle": "2021-04-04T22:23:54.422365Z",
     "shell.execute_reply": "2021-04-04T22:23:54.421494Z"
    },
    "papermill": {
     "duration": 1.289607,
     "end_time": "2021-04-04T22:23:54.422531",
     "exception": false,
     "start_time": "2021-04-04T22:23:53.132924",
     "status": "completed"
    },
    "tags": []
   },
   "outputs": [],
   "source": [
    "import pandas as pd\n",
    "from pandas_profiling import ProfileReport"
   ]
  },
  {
   "cell_type": "code",
   "execution_count": 5,
   "id": "ee6c0666",
   "metadata": {
    "execution": {
     "iopub.execute_input": "2021-04-04T22:23:54.475613Z",
     "iopub.status.busy": "2021-04-04T22:23:54.474596Z",
     "iopub.status.idle": "2021-04-04T22:23:54.486146Z",
     "shell.execute_reply": "2021-04-04T22:23:54.485626Z"
    },
    "papermill": {
     "duration": 0.038454,
     "end_time": "2021-04-04T22:23:54.486267",
     "exception": false,
     "start_time": "2021-04-04T22:23:54.447813",
     "status": "completed"
    },
    "tags": []
   },
   "outputs": [],
   "source": [
    "df = pd.read_csv(dataset_config['dataset_path'])"
   ]
  },
  {
   "cell_type": "code",
   "execution_count": 6,
   "id": "20d45671",
   "metadata": {
    "execution": {
     "iopub.execute_input": "2021-04-04T22:23:54.531716Z",
     "iopub.status.busy": "2021-04-04T22:23:54.531083Z",
     "iopub.status.idle": "2021-04-04T22:23:54.542978Z",
     "shell.execute_reply": "2021-04-04T22:23:54.542468Z"
    },
    "papermill": {
     "duration": 0.036662,
     "end_time": "2021-04-04T22:23:54.543098",
     "exception": false,
     "start_time": "2021-04-04T22:23:54.506436",
     "status": "completed"
    },
    "tags": []
   },
   "outputs": [
    {
     "name": "stdout",
     "output_type": "stream",
     "text": [
      "<class 'pandas.core.frame.DataFrame'>\n",
      "RangeIndex: 2109 entries, 0 to 2108\n",
      "Data columns (total 23 columns):\n",
      " #   Column             Non-Null Count  Dtype  \n",
      "---  ------             --------------  -----  \n",
      " 0   id                 2109 non-null   int64  \n",
      " 1   loc                2109 non-null   float64\n",
      " 2   v(g)               2109 non-null   float64\n",
      " 3   ev(g)              2109 non-null   float64\n",
      " 4   iv(g)              2109 non-null   float64\n",
      " 5   n                  2109 non-null   float64\n",
      " 6   v                  2109 non-null   float64\n",
      " 7   l                  2109 non-null   float64\n",
      " 8   d                  2109 non-null   float64\n",
      " 9   i                  2109 non-null   float64\n",
      " 10  e                  2109 non-null   float64\n",
      " 11  b                  2109 non-null   float64\n",
      " 12  t                  2109 non-null   float64\n",
      " 13  lOCode             2109 non-null   int64  \n",
      " 14  lOComment          2109 non-null   int64  \n",
      " 15  lOBlank            2109 non-null   int64  \n",
      " 16  locCodeAndComment  2109 non-null   int64  \n",
      " 17  uniq_Op            2109 non-null   float64\n",
      " 18  uniq_Opnd          2109 non-null   float64\n",
      " 19  total_Op           2109 non-null   float64\n",
      " 20  total_Opnd         2109 non-null   float64\n",
      " 21  branchCount        2109 non-null   float64\n",
      " 22  defects            2109 non-null   bool   \n",
      "dtypes: bool(1), float64(17), int64(5)\n",
      "memory usage: 364.7 KB\n"
     ]
    }
   ],
   "source": [
    "df.info()"
   ]
  },
  {
   "cell_type": "code",
   "execution_count": 7,
   "id": "a676db33",
   "metadata": {
    "execution": {
     "iopub.execute_input": "2021-04-04T22:23:54.593332Z",
     "iopub.status.busy": "2021-04-04T22:23:54.592700Z",
     "iopub.status.idle": "2021-04-04T22:23:54.617426Z",
     "shell.execute_reply": "2021-04-04T22:23:54.617930Z"
    },
    "papermill": {
     "duration": 0.053547,
     "end_time": "2021-04-04T22:23:54.618084",
     "exception": false,
     "start_time": "2021-04-04T22:23:54.564537",
     "status": "completed"
    },
    "tags": []
   },
   "outputs": [
    {
     "data": {
      "text/html": [
       "<div>\n",
       "<style scoped>\n",
       "    .dataframe tbody tr th:only-of-type {\n",
       "        vertical-align: middle;\n",
       "    }\n",
       "\n",
       "    .dataframe tbody tr th {\n",
       "        vertical-align: top;\n",
       "    }\n",
       "\n",
       "    .dataframe thead th {\n",
       "        text-align: right;\n",
       "    }\n",
       "</style>\n",
       "<table border=\"1\" class=\"dataframe\">\n",
       "  <thead>\n",
       "    <tr style=\"text-align: right;\">\n",
       "      <th></th>\n",
       "      <th>id</th>\n",
       "      <th>loc</th>\n",
       "      <th>v(g)</th>\n",
       "      <th>ev(g)</th>\n",
       "      <th>iv(g)</th>\n",
       "      <th>n</th>\n",
       "      <th>v</th>\n",
       "      <th>l</th>\n",
       "      <th>d</th>\n",
       "      <th>i</th>\n",
       "      <th>...</th>\n",
       "      <th>lOCode</th>\n",
       "      <th>lOComment</th>\n",
       "      <th>lOBlank</th>\n",
       "      <th>locCodeAndComment</th>\n",
       "      <th>uniq_Op</th>\n",
       "      <th>uniq_Opnd</th>\n",
       "      <th>total_Op</th>\n",
       "      <th>total_Opnd</th>\n",
       "      <th>branchCount</th>\n",
       "      <th>defects</th>\n",
       "    </tr>\n",
       "  </thead>\n",
       "  <tbody>\n",
       "    <tr>\n",
       "      <th>0</th>\n",
       "      <td>1</td>\n",
       "      <td>1.1</td>\n",
       "      <td>1.4</td>\n",
       "      <td>1.4</td>\n",
       "      <td>1.4</td>\n",
       "      <td>1.3</td>\n",
       "      <td>1.30</td>\n",
       "      <td>1.30</td>\n",
       "      <td>1.30</td>\n",
       "      <td>1.30</td>\n",
       "      <td>...</td>\n",
       "      <td>2</td>\n",
       "      <td>2</td>\n",
       "      <td>2</td>\n",
       "      <td>2</td>\n",
       "      <td>1.2</td>\n",
       "      <td>1.2</td>\n",
       "      <td>1.2</td>\n",
       "      <td>1.2</td>\n",
       "      <td>1.4</td>\n",
       "      <td>False</td>\n",
       "    </tr>\n",
       "    <tr>\n",
       "      <th>1</th>\n",
       "      <td>2</td>\n",
       "      <td>1.0</td>\n",
       "      <td>1.0</td>\n",
       "      <td>1.0</td>\n",
       "      <td>1.0</td>\n",
       "      <td>1.0</td>\n",
       "      <td>1.00</td>\n",
       "      <td>1.00</td>\n",
       "      <td>1.00</td>\n",
       "      <td>1.00</td>\n",
       "      <td>...</td>\n",
       "      <td>1</td>\n",
       "      <td>1</td>\n",
       "      <td>1</td>\n",
       "      <td>1</td>\n",
       "      <td>1.0</td>\n",
       "      <td>1.0</td>\n",
       "      <td>1.0</td>\n",
       "      <td>1.0</td>\n",
       "      <td>1.0</td>\n",
       "      <td>True</td>\n",
       "    </tr>\n",
       "    <tr>\n",
       "      <th>2</th>\n",
       "      <td>3</td>\n",
       "      <td>83.0</td>\n",
       "      <td>11.0</td>\n",
       "      <td>1.0</td>\n",
       "      <td>11.0</td>\n",
       "      <td>171.0</td>\n",
       "      <td>927.89</td>\n",
       "      <td>0.04</td>\n",
       "      <td>23.04</td>\n",
       "      <td>40.27</td>\n",
       "      <td>...</td>\n",
       "      <td>65</td>\n",
       "      <td>10</td>\n",
       "      <td>6</td>\n",
       "      <td>0</td>\n",
       "      <td>18.0</td>\n",
       "      <td>25.0</td>\n",
       "      <td>107.0</td>\n",
       "      <td>64.0</td>\n",
       "      <td>21.0</td>\n",
       "      <td>True</td>\n",
       "    </tr>\n",
       "    <tr>\n",
       "      <th>3</th>\n",
       "      <td>4</td>\n",
       "      <td>46.0</td>\n",
       "      <td>8.0</td>\n",
       "      <td>6.0</td>\n",
       "      <td>8.0</td>\n",
       "      <td>141.0</td>\n",
       "      <td>769.78</td>\n",
       "      <td>0.07</td>\n",
       "      <td>14.86</td>\n",
       "      <td>51.81</td>\n",
       "      <td>...</td>\n",
       "      <td>37</td>\n",
       "      <td>2</td>\n",
       "      <td>5</td>\n",
       "      <td>0</td>\n",
       "      <td>16.0</td>\n",
       "      <td>28.0</td>\n",
       "      <td>89.0</td>\n",
       "      <td>52.0</td>\n",
       "      <td>15.0</td>\n",
       "      <td>True</td>\n",
       "    </tr>\n",
       "    <tr>\n",
       "      <th>4</th>\n",
       "      <td>5</td>\n",
       "      <td>25.0</td>\n",
       "      <td>3.0</td>\n",
       "      <td>1.0</td>\n",
       "      <td>3.0</td>\n",
       "      <td>58.0</td>\n",
       "      <td>254.75</td>\n",
       "      <td>0.11</td>\n",
       "      <td>9.35</td>\n",
       "      <td>27.25</td>\n",
       "      <td>...</td>\n",
       "      <td>21</td>\n",
       "      <td>0</td>\n",
       "      <td>2</td>\n",
       "      <td>0</td>\n",
       "      <td>11.0</td>\n",
       "      <td>10.0</td>\n",
       "      <td>41.0</td>\n",
       "      <td>17.0</td>\n",
       "      <td>5.0</td>\n",
       "      <td>True</td>\n",
       "    </tr>\n",
       "  </tbody>\n",
       "</table>\n",
       "<p>5 rows × 23 columns</p>\n",
       "</div>"
      ],
      "text/plain": [
       "   id   loc  v(g)  ev(g)  iv(g)      n       v     l      d      i  ...  \\\n",
       "0   1   1.1   1.4    1.4    1.4    1.3    1.30  1.30   1.30   1.30  ...   \n",
       "1   2   1.0   1.0    1.0    1.0    1.0    1.00  1.00   1.00   1.00  ...   \n",
       "2   3  83.0  11.0    1.0   11.0  171.0  927.89  0.04  23.04  40.27  ...   \n",
       "3   4  46.0   8.0    6.0    8.0  141.0  769.78  0.07  14.86  51.81  ...   \n",
       "4   5  25.0   3.0    1.0    3.0   58.0  254.75  0.11   9.35  27.25  ...   \n",
       "\n",
       "   lOCode  lOComment  lOBlank  locCodeAndComment  uniq_Op  uniq_Opnd  \\\n",
       "0       2          2        2                  2      1.2        1.2   \n",
       "1       1          1        1                  1      1.0        1.0   \n",
       "2      65         10        6                  0     18.0       25.0   \n",
       "3      37          2        5                  0     16.0       28.0   \n",
       "4      21          0        2                  0     11.0       10.0   \n",
       "\n",
       "   total_Op  total_Opnd  branchCount  defects  \n",
       "0       1.2         1.2          1.4    False  \n",
       "1       1.0         1.0          1.0     True  \n",
       "2     107.0        64.0         21.0     True  \n",
       "3      89.0        52.0         15.0     True  \n",
       "4      41.0        17.0          5.0     True  \n",
       "\n",
       "[5 rows x 23 columns]"
      ]
     },
     "execution_count": 7,
     "metadata": {},
     "output_type": "execute_result"
    }
   ],
   "source": [
    "df.head()"
   ]
  },
  {
   "cell_type": "code",
   "execution_count": 8,
   "id": "dd6aa244",
   "metadata": {
    "execution": {
     "iopub.execute_input": "2021-04-04T22:23:54.666538Z",
     "iopub.status.busy": "2021-04-04T22:23:54.665558Z",
     "iopub.status.idle": "2021-04-04T22:23:54.667681Z",
     "shell.execute_reply": "2021-04-04T22:23:54.668157Z"
    },
    "papermill": {
     "duration": 0.027767,
     "end_time": "2021-04-04T22:23:54.668305",
     "exception": false,
     "start_time": "2021-04-04T22:23:54.640538",
     "status": "completed"
    },
    "tags": []
   },
   "outputs": [],
   "source": [
    "del df['id']"
   ]
  },
  {
   "cell_type": "code",
   "execution_count": 9,
   "id": "6ff6f5b0",
   "metadata": {
    "execution": {
     "iopub.execute_input": "2021-04-04T22:23:54.719308Z",
     "iopub.status.busy": "2021-04-04T22:23:54.718321Z",
     "iopub.status.idle": "2021-04-04T22:23:54.720527Z",
     "shell.execute_reply": "2021-04-04T22:23:54.721004Z"
    },
    "papermill": {
     "duration": 0.029704,
     "end_time": "2021-04-04T22:23:54.721181",
     "exception": false,
     "start_time": "2021-04-04T22:23:54.691477",
     "status": "completed"
    },
    "tags": []
   },
   "outputs": [],
   "source": [
    "if PROFILE_REPORTING:\n",
    "    ProfileReport(df).to_widgets()"
   ]
  },
  {
   "cell_type": "markdown",
   "id": "1deaf3f0",
   "metadata": {
    "papermill": {
     "duration": 0.022954,
     "end_time": "2021-04-04T22:23:54.768984",
     "exception": false,
     "start_time": "2021-04-04T22:23:54.746030",
     "status": "completed"
    },
    "tags": []
   },
   "source": [
    "# Preprocess"
   ]
  },
  {
   "cell_type": "code",
   "execution_count": 10,
   "id": "9153b2bb",
   "metadata": {
    "execution": {
     "iopub.execute_input": "2021-04-04T22:23:54.816744Z",
     "iopub.status.busy": "2021-04-04T22:23:54.815215Z",
     "iopub.status.idle": "2021-04-04T22:23:54.819008Z",
     "shell.execute_reply": "2021-04-04T22:23:54.819944Z"
    },
    "papermill": {
     "duration": 0.030543,
     "end_time": "2021-04-04T22:23:54.820190",
     "exception": false,
     "start_time": "2021-04-04T22:23:54.789647",
     "status": "completed"
    },
    "tags": []
   },
   "outputs": [],
   "source": [
    "working_df = df.copy()"
   ]
  },
  {
   "cell_type": "code",
   "execution_count": 11,
   "id": "3b26d675",
   "metadata": {
    "execution": {
     "iopub.execute_input": "2021-04-04T22:23:54.874222Z",
     "iopub.status.busy": "2021-04-04T22:23:54.873214Z",
     "iopub.status.idle": "2021-04-04T22:23:54.876817Z",
     "shell.execute_reply": "2021-04-04T22:23:54.877670Z"
    },
    "papermill": {
     "duration": 0.033327,
     "end_time": "2021-04-04T22:23:54.877911",
     "exception": false,
     "start_time": "2021-04-04T22:23:54.844584",
     "status": "completed"
    },
    "tags": []
   },
   "outputs": [],
   "source": [
    "working_df['defects'] = working_df['defects'].replace([False, True], [0, 1])"
   ]
  },
  {
   "cell_type": "code",
   "execution_count": 12,
   "id": "5f306c3e",
   "metadata": {
    "execution": {
     "iopub.execute_input": "2021-04-04T22:23:54.930372Z",
     "iopub.status.busy": "2021-04-04T22:23:54.929498Z",
     "iopub.status.idle": "2021-04-04T22:23:54.932377Z",
     "shell.execute_reply": "2021-04-04T22:23:54.931867Z"
    },
    "papermill": {
     "duration": 0.028753,
     "end_time": "2021-04-04T22:23:54.932500",
     "exception": false,
     "start_time": "2021-04-04T22:23:54.903747",
     "status": "completed"
    },
    "tags": []
   },
   "outputs": [],
   "source": [
    "for col in dataset_config['delete_columns']:\n",
    "    del working_df[col]"
   ]
  },
  {
   "cell_type": "code",
   "execution_count": 13,
   "id": "a55074fa",
   "metadata": {
    "execution": {
     "iopub.execute_input": "2021-04-04T22:23:54.986095Z",
     "iopub.status.busy": "2021-04-04T22:23:54.985436Z",
     "iopub.status.idle": "2021-04-04T22:23:54.996519Z",
     "shell.execute_reply": "2021-04-04T22:23:54.997338Z"
    },
    "papermill": {
     "duration": 0.041065,
     "end_time": "2021-04-04T22:23:54.997573",
     "exception": false,
     "start_time": "2021-04-04T22:23:54.956508",
     "status": "completed"
    },
    "tags": []
   },
   "outputs": [],
   "source": [
    "working_df = working_df.drop_duplicates()"
   ]
  },
  {
   "cell_type": "markdown",
   "id": "a4d52ca6",
   "metadata": {
    "papermill": {
     "duration": 0.02105,
     "end_time": "2021-04-04T22:23:55.048647",
     "exception": false,
     "start_time": "2021-04-04T22:23:55.027597",
     "status": "completed"
    },
    "tags": []
   },
   "source": [
    "# Split"
   ]
  },
  {
   "cell_type": "code",
   "execution_count": 14,
   "id": "3e9ee4b5",
   "metadata": {
    "execution": {
     "iopub.execute_input": "2021-04-04T22:23:55.098575Z",
     "iopub.status.busy": "2021-04-04T22:23:55.097464Z",
     "iopub.status.idle": "2021-04-04T22:23:55.132821Z",
     "shell.execute_reply": "2021-04-04T22:23:55.131961Z"
    },
    "papermill": {
     "duration": 0.062785,
     "end_time": "2021-04-04T22:23:55.132989",
     "exception": false,
     "start_time": "2021-04-04T22:23:55.070204",
     "status": "completed"
    },
    "tags": []
   },
   "outputs": [],
   "source": [
    "from sklearn.model_selection import train_test_split"
   ]
  },
  {
   "cell_type": "code",
   "execution_count": 15,
   "id": "274004ce",
   "metadata": {
    "execution": {
     "iopub.execute_input": "2021-04-04T22:23:55.187696Z",
     "iopub.status.busy": "2021-04-04T22:23:55.187008Z",
     "iopub.status.idle": "2021-04-04T22:23:55.194848Z",
     "shell.execute_reply": "2021-04-04T22:23:55.193838Z"
    },
    "papermill": {
     "duration": 0.034667,
     "end_time": "2021-04-04T22:23:55.195060",
     "exception": false,
     "start_time": "2021-04-04T22:23:55.160393",
     "status": "completed"
    },
    "scrolled": true,
    "tags": []
   },
   "outputs": [],
   "source": [
    "inlier, outlier = working_df[working_df['defects'] == 0], working_df[working_df['defects'] == 1]"
   ]
  },
  {
   "cell_type": "code",
   "execution_count": 16,
   "id": "753c7b03",
   "metadata": {
    "execution": {
     "iopub.execute_input": "2021-04-04T22:23:55.254671Z",
     "iopub.status.busy": "2021-04-04T22:23:55.253796Z",
     "iopub.status.idle": "2021-04-04T22:23:55.256161Z",
     "shell.execute_reply": "2021-04-04T22:23:55.256637Z"
    },
    "papermill": {
     "duration": 0.033294,
     "end_time": "2021-04-04T22:23:55.256800",
     "exception": false,
     "start_time": "2021-04-04T22:23:55.223506",
     "status": "completed"
    },
    "tags": []
   },
   "outputs": [],
   "source": [
    "X_inlier = inlier.copy()\n",
    "y_inlier = X_inlier.pop('defects')\n",
    "X_outlier = outlier.copy()\n",
    "y_outlier = X_outlier.pop('defects')"
   ]
  },
  {
   "cell_type": "code",
   "execution_count": 17,
   "id": "2ba43193",
   "metadata": {
    "execution": {
     "iopub.execute_input": "2021-04-04T22:23:55.310403Z",
     "iopub.status.busy": "2021-04-04T22:23:55.309685Z",
     "iopub.status.idle": "2021-04-04T22:23:55.314678Z",
     "shell.execute_reply": "2021-04-04T22:23:55.313641Z"
    },
    "papermill": {
     "duration": 0.034788,
     "end_time": "2021-04-04T22:23:55.314880",
     "exception": false,
     "start_time": "2021-04-04T22:23:55.280092",
     "status": "completed"
    },
    "tags": []
   },
   "outputs": [],
   "source": [
    "test_size = dataset_config['test_size']\n",
    "random_state = dataset_config['random_state']\n",
    "\n",
    "X_inlier_train, X_inlier_test, y_inlier_train, y_inlier_test = train_test_split(\n",
    "    X_inlier,\n",
    "    y_inlier,\n",
    "    test_size=test_size,\n",
    "    random_state=random_state\n",
    ")"
   ]
  },
  {
   "cell_type": "code",
   "execution_count": 18,
   "id": "c8b58ec3",
   "metadata": {
    "execution": {
     "iopub.execute_input": "2021-04-04T22:23:55.381838Z",
     "iopub.status.busy": "2021-04-04T22:23:55.381235Z",
     "iopub.status.idle": "2021-04-04T22:23:55.383500Z",
     "shell.execute_reply": "2021-04-04T22:23:55.383987Z"
    },
    "papermill": {
     "duration": 0.040332,
     "end_time": "2021-04-04T22:23:55.384133",
     "exception": false,
     "start_time": "2021-04-04T22:23:55.343801",
     "status": "completed"
    },
    "tags": []
   },
   "outputs": [],
   "source": [
    "test_outlier_size = dataset_config['test_outlier_size']\n",
    "if test_outlier_size > 0.0:\n",
    "    X_outlier_train, X_outlier_test, y_outlier_train, y_outlier_test = train_test_split(\n",
    "        X_outlier,\n",
    "        y_outlier,\n",
    "        test_size=test_outlier_size,\n",
    "        random_state=random_state\n",
    "    )\n",
    "else:\n",
    "    X_outlier_train, y_outlier_train = pd.DataFrame(columns=X_outlier.columns), pd.Series(dtype='int64')\n",
    "    X_outlier_test, y_outlier_test = X_outlier.copy(), y_outlier.copy()"
   ]
  },
  {
   "cell_type": "code",
   "execution_count": 19,
   "id": "95991685",
   "metadata": {
    "execution": {
     "iopub.execute_input": "2021-04-04T22:23:55.434917Z",
     "iopub.status.busy": "2021-04-04T22:23:55.434276Z",
     "iopub.status.idle": "2021-04-04T22:23:55.437744Z",
     "shell.execute_reply": "2021-04-04T22:23:55.438199Z"
    },
    "papermill": {
     "duration": 0.032107,
     "end_time": "2021-04-04T22:23:55.438350",
     "exception": false,
     "start_time": "2021-04-04T22:23:55.406243",
     "status": "completed"
    },
    "tags": []
   },
   "outputs": [],
   "source": [
    "X_train, y_train = pd.concat([X_inlier_train, X_outlier_train], ignore_index=True), pd.concat([y_inlier_train, y_outlier_train], ignore_index=True)\n",
    "X_test, y_test = pd.concat([X_inlier_test, X_outlier_test], ignore_index=True), pd.concat([y_inlier_test, y_outlier_test], ignore_index=True)"
   ]
  },
  {
   "cell_type": "markdown",
   "id": "7cde7309",
   "metadata": {
    "papermill": {
     "duration": 0.024513,
     "end_time": "2021-04-04T22:23:55.486276",
     "exception": false,
     "start_time": "2021-04-04T22:23:55.461763",
     "status": "completed"
    },
    "tags": []
   },
   "source": [
    "# Model"
   ]
  },
  {
   "cell_type": "code",
   "execution_count": 20,
   "id": "a02c5c85",
   "metadata": {
    "execution": {
     "iopub.execute_input": "2021-04-04T22:23:55.540630Z",
     "iopub.status.busy": "2021-04-04T22:23:55.539850Z",
     "iopub.status.idle": "2021-04-04T22:23:55.541809Z",
     "shell.execute_reply": "2021-04-04T22:23:55.542302Z"
    },
    "papermill": {
     "duration": 0.03387,
     "end_time": "2021-04-04T22:23:55.542454",
     "exception": false,
     "start_time": "2021-04-04T22:23:55.508584",
     "status": "completed"
    },
    "tags": []
   },
   "outputs": [],
   "source": [
    "from math import sqrt\n",
    "\n",
    "\n",
    "class KNNDataDescription:\n",
    "    def __init__(self, k=5, outlier_threshold=1.0):\n",
    "        self.k = k\n",
    "        self.outlier_threshold = outlier_threshold\n",
    "        self.X = []\n",
    "    \n",
    "    def fit(self, X):\n",
    "        self.X = [features.to_list() for index, features in X.iterrows()]\n",
    "\n",
    "    def predict(self, entries):\n",
    "        return [self.predict_entry(features.to_list()) for index, features in entries.iterrows()]\n",
    "    \n",
    "    def predict_entry(self, entry):\n",
    "        kth_neighbor, kth_distance = self.get_kth_neighbor(entry, self.k)\n",
    "        kth_kth_neighbor, kth_kth_distance = self.get_kth_neighbor(kth_neighbor, self.k + 1)\n",
    "\n",
    "        outlier_score = kth_distance / (kth_kth_distance + 0.000001)\n",
    "\n",
    "        return 1 if outlier_score < self.outlier_threshold else -1\n",
    "        \n",
    "    def euclidean_distance(self, features1, features2):\n",
    "        distance = 0.0\n",
    "        for feat1, feat2 in zip(features1, features2):\n",
    "            distance += (feat1 - feat2)**2\n",
    "                \n",
    "        return sqrt(distance)\n",
    "\n",
    "    def get_neighbors(self, entry, k):\n",
    "        distance_to_data_points = [\n",
    "            (data_point, self.euclidean_distance(entry, data_point))\n",
    "            for data_point in self.X\n",
    "        ]\n",
    "        sorted_by_distance = sorted(distance_to_data_points, key=lambda tup: tup[1])\n",
    "        neighbors = sorted_by_distance[:k]\n",
    "        return neighbors\n",
    "\n",
    "    def get_kth_neighbor(self, entry, k):\n",
    "        neighbors = self.get_neighbors(entry, k)\n",
    "        return neighbors[-1]\n"
   ]
  },
  {
   "cell_type": "code",
   "execution_count": 21,
   "id": "1fa9ec1c",
   "metadata": {
    "execution": {
     "iopub.execute_input": "2021-04-04T22:23:55.595601Z",
     "iopub.status.busy": "2021-04-04T22:23:55.594594Z",
     "iopub.status.idle": "2021-04-04T22:23:55.615240Z",
     "shell.execute_reply": "2021-04-04T22:23:55.614687Z"
    },
    "papermill": {
     "duration": 0.04884,
     "end_time": "2021-04-04T22:23:55.615369",
     "exception": false,
     "start_time": "2021-04-04T22:23:55.566529",
     "status": "completed"
    },
    "tags": []
   },
   "outputs": [],
   "source": [
    "from sklearn.svm import OneClassSVM\n",
    "\n",
    "\n",
    "models = {\n",
    "    'oneclasssvm': OneClassSVM,\n",
    "    'knndatadescription': KNNDataDescription,\n",
    "}"
   ]
  },
  {
   "cell_type": "code",
   "execution_count": 22,
   "id": "4d72a0b1",
   "metadata": {
    "execution": {
     "iopub.execute_input": "2021-04-04T22:23:55.667374Z",
     "iopub.status.busy": "2021-04-04T22:23:55.666536Z",
     "iopub.status.idle": "2021-04-04T22:23:55.669441Z",
     "shell.execute_reply": "2021-04-04T22:23:55.668775Z"
    },
    "papermill": {
     "duration": 0.029082,
     "end_time": "2021-04-04T22:23:55.669574",
     "exception": false,
     "start_time": "2021-04-04T22:23:55.640492",
     "status": "completed"
    },
    "scrolled": true,
    "tags": []
   },
   "outputs": [],
   "source": [
    "model_cls = models[model_config['model_type']]\n",
    "model = model_cls(**model_config['hyperparameters'])"
   ]
  },
  {
   "cell_type": "markdown",
   "id": "e00cff3b",
   "metadata": {
    "papermill": {
     "duration": 0.023484,
     "end_time": "2021-04-04T22:23:55.719388",
     "exception": false,
     "start_time": "2021-04-04T22:23:55.695904",
     "status": "completed"
    },
    "tags": []
   },
   "source": [
    "# Fit"
   ]
  },
  {
   "cell_type": "code",
   "execution_count": 23,
   "id": "8b2ded89",
   "metadata": {
    "execution": {
     "iopub.execute_input": "2021-04-04T22:23:55.774597Z",
     "iopub.status.busy": "2021-04-04T22:23:55.773957Z",
     "iopub.status.idle": "2021-04-04T22:23:55.824874Z",
     "shell.execute_reply": "2021-04-04T22:23:55.824010Z"
    },
    "papermill": {
     "duration": 0.080401,
     "end_time": "2021-04-04T22:23:55.825044",
     "exception": false,
     "start_time": "2021-04-04T22:23:55.744643",
     "status": "completed"
    },
    "tags": []
   },
   "outputs": [],
   "source": [
    "model.fit(X_train)"
   ]
  },
  {
   "cell_type": "markdown",
   "id": "f99999f7",
   "metadata": {
    "papermill": {
     "duration": 0.023808,
     "end_time": "2021-04-04T22:23:55.878185",
     "exception": false,
     "start_time": "2021-04-04T22:23:55.854377",
     "status": "completed"
    },
    "tags": []
   },
   "source": [
    "# Predict"
   ]
  },
  {
   "cell_type": "code",
   "execution_count": 24,
   "id": "6536fbf7",
   "metadata": {
    "execution": {
     "iopub.execute_input": "2021-04-04T22:23:55.938789Z",
     "iopub.status.busy": "2021-04-04T22:23:55.933572Z",
     "iopub.status.idle": "2021-04-04T22:23:58.752474Z",
     "shell.execute_reply": "2021-04-04T22:23:58.753629Z"
    },
    "papermill": {
     "duration": 2.853115,
     "end_time": "2021-04-04T22:23:58.753942",
     "exception": false,
     "start_time": "2021-04-04T22:23:55.900827",
     "status": "completed"
    },
    "tags": []
   },
   "outputs": [],
   "source": [
    "predictions = model.predict(X_test)"
   ]
  },
  {
   "cell_type": "markdown",
   "id": "aa1c9881",
   "metadata": {
    "papermill": {
     "duration": 0.025441,
     "end_time": "2021-04-04T22:23:58.805751",
     "exception": false,
     "start_time": "2021-04-04T22:23:58.780310",
     "status": "completed"
    },
    "tags": []
   },
   "source": [
    "# Evaluate"
   ]
  },
  {
   "cell_type": "code",
   "execution_count": 25,
   "id": "894f0f04",
   "metadata": {
    "execution": {
     "iopub.execute_input": "2021-04-04T22:23:58.861793Z",
     "iopub.status.busy": "2021-04-04T22:23:58.861204Z",
     "iopub.status.idle": "2021-04-04T22:23:58.863461Z",
     "shell.execute_reply": "2021-04-04T22:23:58.863939Z"
    },
    "papermill": {
     "duration": 0.035774,
     "end_time": "2021-04-04T22:23:58.864086",
     "exception": false,
     "start_time": "2021-04-04T22:23:58.828312",
     "status": "completed"
    },
    "tags": []
   },
   "outputs": [],
   "source": [
    "from sklearn.metrics import f1_score"
   ]
  },
  {
   "cell_type": "code",
   "execution_count": 26,
   "id": "211744d3",
   "metadata": {
    "execution": {
     "iopub.execute_input": "2021-04-04T22:23:58.917704Z",
     "iopub.status.busy": "2021-04-04T22:23:58.916628Z",
     "iopub.status.idle": "2021-04-04T22:23:58.919340Z",
     "shell.execute_reply": "2021-04-04T22:23:58.919886Z"
    },
    "papermill": {
     "duration": 0.032851,
     "end_time": "2021-04-04T22:23:58.920050",
     "exception": false,
     "start_time": "2021-04-04T22:23:58.887199",
     "status": "completed"
    },
    "tags": []
   },
   "outputs": [],
   "source": [
    "y_test = y_test.replace([0, 1], [1, -1])"
   ]
  },
  {
   "cell_type": "code",
   "execution_count": 27,
   "id": "d68a9204",
   "metadata": {
    "execution": {
     "iopub.execute_input": "2021-04-04T22:23:58.977015Z",
     "iopub.status.busy": "2021-04-04T22:23:58.976078Z",
     "iopub.status.idle": "2021-04-04T22:23:58.978408Z",
     "shell.execute_reply": "2021-04-04T22:23:58.979225Z"
    },
    "papermill": {
     "duration": 0.03541,
     "end_time": "2021-04-04T22:23:58.979452",
     "exception": false,
     "start_time": "2021-04-04T22:23:58.944042",
     "status": "completed"
    },
    "tags": []
   },
   "outputs": [],
   "source": [
    "def evaluate(truths, predictions, pos_label, neg_label):\n",
    "    TP = 0\n",
    "    FP = 0\n",
    "    TN = 0\n",
    "    FN = 0\n",
    "\n",
    "    for truth, pred in zip(truths, predictions): \n",
    "        if truth == pred == pos_label:\n",
    "           TP += 1\n",
    "        elif pred == pos_label and truth == neg_label:\n",
    "           FP += 1\n",
    "        elif truth == pred == neg_label:\n",
    "           TN += 1\n",
    "        elif pred == neg_label and truth == pos_label:\n",
    "           FN += 1\n",
    "        else:\n",
    "            __import__(\"ipdb\").set_trace()\n",
    "\n",
    "    precision = TP / (TP + FP)\n",
    "    sensitivity = TP / (TP + FN)\n",
    "    \n",
    "    return {\n",
    "        'true_pos': TP,\n",
    "        'false_pos': FP,\n",
    "        'false_neg': FN,\n",
    "        'true_neg': TN,\n",
    "        'precision': precision,\n",
    "        'sensitivity': sensitivity,\n",
    "        'f1': (2 * (precision * sensitivity)) / (precision + sensitivity)\n",
    "    }\n",
    "\n",
    "score = evaluate(y_test, predictions, pos_label=-1, neg_label=1)"
   ]
  },
  {
   "cell_type": "markdown",
   "id": "246fa8c7",
   "metadata": {
    "papermill": {
     "duration": 0.024577,
     "end_time": "2021-04-04T22:23:59.030838",
     "exception": false,
     "start_time": "2021-04-04T22:23:59.006261",
     "status": "completed"
    },
    "tags": []
   },
   "source": [
    "# Report"
   ]
  },
  {
   "cell_type": "code",
   "execution_count": 28,
   "id": "cfb47f85",
   "metadata": {
    "execution": {
     "iopub.execute_input": "2021-04-04T22:23:59.084907Z",
     "iopub.status.busy": "2021-04-04T22:23:59.083551Z",
     "iopub.status.idle": "2021-04-04T22:23:59.086589Z",
     "shell.execute_reply": "2021-04-04T22:23:59.085977Z"
    },
    "papermill": {
     "duration": 0.033062,
     "end_time": "2021-04-04T22:23:59.086752",
     "exception": false,
     "start_time": "2021-04-04T22:23:59.053690",
     "status": "completed"
    },
    "tags": []
   },
   "outputs": [],
   "source": [
    "import csv\n",
    "\n",
    "\n",
    "dataset_config_name = DATASET_CONFIG_PATH.split('/')[-1].split('.')[0]\n",
    "model_config_name = MODEL_CONFIG_PATH.split('/')[-1].split('.')[0]\n",
    "configuration = f\"dataset_{dataset_config_name}-model_{model_config_name}\"\n",
    "\n",
    "with open('results.csv', 'a') as f:\n",
    "    report = dict({'configuration': configuration}, **score)\n",
    "    writer = csv.DictWriter(f, report.keys())\n",
    "    writer.writerow(report)"
   ]
  }
 ],
 "metadata": {
  "celltoolbar": "Tags",
  "kernelspec": {
   "display_name": "Python 3",
   "language": "python",
   "name": "python3"
  },
  "language_info": {
   "codemirror_mode": {
    "name": "ipython",
    "version": 3
   },
   "file_extension": ".py",
   "mimetype": "text/x-python",
   "name": "python",
   "nbconvert_exporter": "python",
   "pygments_lexer": "ipython3",
   "version": "3.9.1"
  },
  "papermill": {
   "default_parameters": {},
   "duration": 7.619883,
   "end_time": "2021-04-04T22:23:59.726354",
   "environment_variables": {},
   "exception": null,
   "input_path": "main.ipynb",
   "output_path": "runs/dataset_000006-model_000002.ipynb",
   "parameters": {
    "DATASET_CONFIG_PATH": "config/dataset/000006.json",
    "MODEL_CONFIG_PATH": "config/model/000002.json",
    "PROFILE_REPORTING": false
   },
   "start_time": "2021-04-04T22:23:52.106471",
   "version": "2.3.3"
  }
 },
 "nbformat": 4,
 "nbformat_minor": 5
}