{
 "cells": [
  {
   "cell_type": "markdown",
   "id": "51c71c25",
   "metadata": {
    "papermill": {
     "duration": 0.021374,
     "end_time": "2021-04-04T23:31:53.763868",
     "exception": false,
     "start_time": "2021-04-04T23:31:53.742494",
     "status": "completed"
    },
    "tags": []
   },
   "source": [
    "# Parametrizing"
   ]
  },
  {
   "cell_type": "code",
   "execution_count": 1,
   "id": "3b136394",
   "metadata": {
    "execution": {
     "iopub.execute_input": "2021-04-04T23:31:53.820623Z",
     "iopub.status.busy": "2021-04-04T23:31:53.819971Z",
     "iopub.status.idle": "2021-04-04T23:31:53.822938Z",
     "shell.execute_reply": "2021-04-04T23:31:53.825432Z"
    },
    "papermill": {
     "duration": 0.040399,
     "end_time": "2021-04-04T23:31:53.825878",
     "exception": false,
     "start_time": "2021-04-04T23:31:53.785479",
     "status": "completed"
    },
    "tags": [
     "parameters"
    ]
   },
   "outputs": [],
   "source": [
    "DATASET_CONFIG_PATH = 'config/dataset/kc1_001.json'\n",
    "MODEL_CONFIG_PATH = 'config/model/knndd_001.json'\n",
    "PROFILE_REPORTING = False"
   ]
  },
  {
   "cell_type": "code",
   "execution_count": 2,
   "id": "e81e1961",
   "metadata": {
    "execution": {
     "iopub.execute_input": "2021-04-04T23:31:53.892322Z",
     "iopub.status.busy": "2021-04-04T23:31:53.891396Z",
     "iopub.status.idle": "2021-04-04T23:31:53.893902Z",
     "shell.execute_reply": "2021-04-04T23:31:53.893421Z"
    },
    "papermill": {
     "duration": 0.037524,
     "end_time": "2021-04-04T23:31:53.894024",
     "exception": false,
     "start_time": "2021-04-04T23:31:53.856500",
     "status": "completed"
    },
    "tags": [
     "injected-parameters"
    ]
   },
   "outputs": [],
   "source": [
    "# Parameters\n",
    "DATASET_CONFIG_PATH = \"config/dataset/000146.json\"\n",
    "MODEL_CONFIG_PATH = \"config/model/000001.json\"\n",
    "PROFILE_REPORTING = False\n"
   ]
  },
  {
   "cell_type": "code",
   "execution_count": 3,
   "id": "b80f2a10",
   "metadata": {
    "execution": {
     "iopub.execute_input": "2021-04-04T23:31:53.945320Z",
     "iopub.status.busy": "2021-04-04T23:31:53.944549Z",
     "iopub.status.idle": "2021-04-04T23:31:53.949818Z",
     "shell.execute_reply": "2021-04-04T23:31:53.948463Z"
    },
    "papermill": {
     "duration": 0.035247,
     "end_time": "2021-04-04T23:31:53.950137",
     "exception": false,
     "start_time": "2021-04-04T23:31:53.914890",
     "status": "completed"
    },
    "tags": []
   },
   "outputs": [],
   "source": [
    "import json\n",
    "\n",
    "\n",
    "with open(DATASET_CONFIG_PATH) as f:\n",
    "    dataset_config = json.load(f)\n",
    "\n",
    "with open(MODEL_CONFIG_PATH) as f:\n",
    "    model_config = json.load(f)"
   ]
  },
  {
   "cell_type": "markdown",
   "id": "9a4b0e2d",
   "metadata": {
    "papermill": {
     "duration": 0.02181,
     "end_time": "2021-04-04T23:31:53.992660",
     "exception": false,
     "start_time": "2021-04-04T23:31:53.970850",
     "status": "completed"
    },
    "tags": []
   },
   "source": [
    "# Profiling"
   ]
  },
  {
   "cell_type": "code",
   "execution_count": 4,
   "id": "a3e0289b",
   "metadata": {
    "execution": {
     "iopub.execute_input": "2021-04-04T23:31:54.039308Z",
     "iopub.status.busy": "2021-04-04T23:31:54.038516Z",
     "iopub.status.idle": "2021-04-04T23:31:55.574529Z",
     "shell.execute_reply": "2021-04-04T23:31:55.575102Z"
    },
    "papermill": {
     "duration": 1.562133,
     "end_time": "2021-04-04T23:31:55.575287",
     "exception": false,
     "start_time": "2021-04-04T23:31:54.013154",
     "status": "completed"
    },
    "tags": []
   },
   "outputs": [],
   "source": [
    "import pandas as pd\n",
    "from pandas_profiling import ProfileReport"
   ]
  },
  {
   "cell_type": "code",
   "execution_count": 5,
   "id": "ee6c0666",
   "metadata": {
    "execution": {
     "iopub.execute_input": "2021-04-04T23:31:55.626187Z",
     "iopub.status.busy": "2021-04-04T23:31:55.625360Z",
     "iopub.status.idle": "2021-04-04T23:31:55.639023Z",
     "shell.execute_reply": "2021-04-04T23:31:55.637592Z"
    },
    "papermill": {
     "duration": 0.041319,
     "end_time": "2021-04-04T23:31:55.639613",
     "exception": false,
     "start_time": "2021-04-04T23:31:55.598294",
     "status": "completed"
    },
    "tags": []
   },
   "outputs": [],
   "source": [
    "df = pd.read_csv(dataset_config['dataset_path'])"
   ]
  },
  {
   "cell_type": "code",
   "execution_count": 6,
   "id": "7eca6c4a",
   "metadata": {
    "execution": {
     "iopub.execute_input": "2021-04-04T23:31:55.703186Z",
     "iopub.status.busy": "2021-04-04T23:31:55.701327Z",
     "iopub.status.idle": "2021-04-04T23:31:55.706304Z",
     "shell.execute_reply": "2021-04-04T23:31:55.706827Z"
    },
    "papermill": {
     "duration": 0.044894,
     "end_time": "2021-04-04T23:31:55.706985",
     "exception": false,
     "start_time": "2021-04-04T23:31:55.662091",
     "status": "completed"
    },
    "tags": []
   },
   "outputs": [
    {
     "name": "stdout",
     "output_type": "stream",
     "text": [
      "<class 'pandas.core.frame.DataFrame'>\n",
      "RangeIndex: 498 entries, 0 to 497\n",
      "Data columns (total 23 columns):\n",
      " #   Column             Non-Null Count  Dtype  \n",
      "---  ------             --------------  -----  \n",
      " 0   id                 498 non-null    int64  \n",
      " 1   loc                498 non-null    float64\n",
      " 2   v(g)               498 non-null    float64\n",
      " 3   ev(g)              498 non-null    float64\n",
      " 4   iv(g)              498 non-null    float64\n",
      " 5   n                  498 non-null    float64\n",
      " 6   v                  498 non-null    float64\n",
      " 7   l                  498 non-null    float64\n",
      " 8   d                  498 non-null    float64\n",
      " 9   i                  498 non-null    float64\n",
      " 10  e                  498 non-null    float64\n",
      " 11  b                  498 non-null    float64\n",
      " 12  t                  498 non-null    float64\n",
      " 13  lOCode             498 non-null    int64  \n",
      " 14  lOComment          498 non-null    int64  \n",
      " 15  lOBlank            498 non-null    int64  \n",
      " 16  locCodeAndComment  498 non-null    int64  \n",
      " 17  uniq_Op            498 non-null    float64\n",
      " 18  uniq_Opnd          498 non-null    float64\n",
      " 19  total_Op           498 non-null    float64\n",
      " 20  total_Opnd         498 non-null    float64\n",
      " 21  branchCount        498 non-null    float64\n",
      " 22  defects            498 non-null    bool   \n",
      "dtypes: bool(1), float64(17), int64(5)\n",
      "memory usage: 86.2 KB\n"
     ]
    }
   ],
   "source": [
    "df.info()"
   ]
  },
  {
   "cell_type": "code",
   "execution_count": 7,
   "id": "3638e5e8",
   "metadata": {
    "execution": {
     "iopub.execute_input": "2021-04-04T23:31:55.771510Z",
     "iopub.status.busy": "2021-04-04T23:31:55.768972Z",
     "iopub.status.idle": "2021-04-04T23:31:55.797607Z",
     "shell.execute_reply": "2021-04-04T23:31:55.798169Z"
    },
    "papermill": {
     "duration": 0.070298,
     "end_time": "2021-04-04T23:31:55.798314",
     "exception": false,
     "start_time": "2021-04-04T23:31:55.728016",
     "status": "completed"
    },
    "tags": []
   },
   "outputs": [
    {
     "data": {
      "text/html": [
       "<div>\n",
       "<style scoped>\n",
       "    .dataframe tbody tr th:only-of-type {\n",
       "        vertical-align: middle;\n",
       "    }\n",
       "\n",
       "    .dataframe tbody tr th {\n",
       "        vertical-align: top;\n",
       "    }\n",
       "\n",
       "    .dataframe thead th {\n",
       "        text-align: right;\n",
       "    }\n",
       "</style>\n",
       "<table border=\"1\" class=\"dataframe\">\n",
       "  <thead>\n",
       "    <tr style=\"text-align: right;\">\n",
       "      <th></th>\n",
       "      <th>id</th>\n",
       "      <th>loc</th>\n",
       "      <th>v(g)</th>\n",
       "      <th>ev(g)</th>\n",
       "      <th>iv(g)</th>\n",
       "      <th>n</th>\n",
       "      <th>v</th>\n",
       "      <th>l</th>\n",
       "      <th>d</th>\n",
       "      <th>i</th>\n",
       "      <th>...</th>\n",
       "      <th>lOCode</th>\n",
       "      <th>lOComment</th>\n",
       "      <th>lOBlank</th>\n",
       "      <th>locCodeAndComment</th>\n",
       "      <th>uniq_Op</th>\n",
       "      <th>uniq_Opnd</th>\n",
       "      <th>total_Op</th>\n",
       "      <th>total_Opnd</th>\n",
       "      <th>branchCount</th>\n",
       "      <th>defects</th>\n",
       "    </tr>\n",
       "  </thead>\n",
       "  <tbody>\n",
       "    <tr>\n",
       "      <th>0</th>\n",
       "      <td>1</td>\n",
       "      <td>1.1</td>\n",
       "      <td>1.4</td>\n",
       "      <td>1.4</td>\n",
       "      <td>1.4</td>\n",
       "      <td>1.3</td>\n",
       "      <td>1.30</td>\n",
       "      <td>1.30</td>\n",
       "      <td>1.30</td>\n",
       "      <td>1.30</td>\n",
       "      <td>...</td>\n",
       "      <td>2</td>\n",
       "      <td>2</td>\n",
       "      <td>2</td>\n",
       "      <td>2</td>\n",
       "      <td>1.2</td>\n",
       "      <td>1.2</td>\n",
       "      <td>1.2</td>\n",
       "      <td>1.2</td>\n",
       "      <td>1.4</td>\n",
       "      <td>False</td>\n",
       "    </tr>\n",
       "    <tr>\n",
       "      <th>1</th>\n",
       "      <td>2</td>\n",
       "      <td>1.0</td>\n",
       "      <td>1.0</td>\n",
       "      <td>1.0</td>\n",
       "      <td>1.0</td>\n",
       "      <td>1.0</td>\n",
       "      <td>1.00</td>\n",
       "      <td>1.00</td>\n",
       "      <td>1.00</td>\n",
       "      <td>1.00</td>\n",
       "      <td>...</td>\n",
       "      <td>1</td>\n",
       "      <td>1</td>\n",
       "      <td>1</td>\n",
       "      <td>1</td>\n",
       "      <td>1.0</td>\n",
       "      <td>1.0</td>\n",
       "      <td>1.0</td>\n",
       "      <td>1.0</td>\n",
       "      <td>1.0</td>\n",
       "      <td>True</td>\n",
       "    </tr>\n",
       "    <tr>\n",
       "      <th>2</th>\n",
       "      <td>3</td>\n",
       "      <td>24.0</td>\n",
       "      <td>5.0</td>\n",
       "      <td>1.0</td>\n",
       "      <td>3.0</td>\n",
       "      <td>63.0</td>\n",
       "      <td>309.13</td>\n",
       "      <td>0.11</td>\n",
       "      <td>9.50</td>\n",
       "      <td>32.54</td>\n",
       "      <td>...</td>\n",
       "      <td>1</td>\n",
       "      <td>0</td>\n",
       "      <td>6</td>\n",
       "      <td>0</td>\n",
       "      <td>15.0</td>\n",
       "      <td>15.0</td>\n",
       "      <td>44.0</td>\n",
       "      <td>19.0</td>\n",
       "      <td>9.0</td>\n",
       "      <td>False</td>\n",
       "    </tr>\n",
       "    <tr>\n",
       "      <th>3</th>\n",
       "      <td>4</td>\n",
       "      <td>20.0</td>\n",
       "      <td>4.0</td>\n",
       "      <td>4.0</td>\n",
       "      <td>2.0</td>\n",
       "      <td>47.0</td>\n",
       "      <td>215.49</td>\n",
       "      <td>0.06</td>\n",
       "      <td>16.00</td>\n",
       "      <td>13.47</td>\n",
       "      <td>...</td>\n",
       "      <td>0</td>\n",
       "      <td>0</td>\n",
       "      <td>3</td>\n",
       "      <td>0</td>\n",
       "      <td>16.0</td>\n",
       "      <td>8.0</td>\n",
       "      <td>31.0</td>\n",
       "      <td>16.0</td>\n",
       "      <td>7.0</td>\n",
       "      <td>False</td>\n",
       "    </tr>\n",
       "    <tr>\n",
       "      <th>4</th>\n",
       "      <td>5</td>\n",
       "      <td>24.0</td>\n",
       "      <td>6.0</td>\n",
       "      <td>6.0</td>\n",
       "      <td>2.0</td>\n",
       "      <td>72.0</td>\n",
       "      <td>346.13</td>\n",
       "      <td>0.06</td>\n",
       "      <td>17.33</td>\n",
       "      <td>19.97</td>\n",
       "      <td>...</td>\n",
       "      <td>0</td>\n",
       "      <td>0</td>\n",
       "      <td>3</td>\n",
       "      <td>0</td>\n",
       "      <td>16.0</td>\n",
       "      <td>12.0</td>\n",
       "      <td>46.0</td>\n",
       "      <td>26.0</td>\n",
       "      <td>11.0</td>\n",
       "      <td>False</td>\n",
       "    </tr>\n",
       "  </tbody>\n",
       "</table>\n",
       "<p>5 rows × 23 columns</p>\n",
       "</div>"
      ],
      "text/plain": [
       "   id   loc  v(g)  ev(g)  iv(g)     n       v     l      d      i  ...  \\\n",
       "0   1   1.1   1.4    1.4    1.4   1.3    1.30  1.30   1.30   1.30  ...   \n",
       "1   2   1.0   1.0    1.0    1.0   1.0    1.00  1.00   1.00   1.00  ...   \n",
       "2   3  24.0   5.0    1.0    3.0  63.0  309.13  0.11   9.50  32.54  ...   \n",
       "3   4  20.0   4.0    4.0    2.0  47.0  215.49  0.06  16.00  13.47  ...   \n",
       "4   5  24.0   6.0    6.0    2.0  72.0  346.13  0.06  17.33  19.97  ...   \n",
       "\n",
       "   lOCode  lOComment  lOBlank  locCodeAndComment  uniq_Op  uniq_Opnd  \\\n",
       "0       2          2        2                  2      1.2        1.2   \n",
       "1       1          1        1                  1      1.0        1.0   \n",
       "2       1          0        6                  0     15.0       15.0   \n",
       "3       0          0        3                  0     16.0        8.0   \n",
       "4       0          0        3                  0     16.0       12.0   \n",
       "\n",
       "   total_Op  total_Opnd  branchCount  defects  \n",
       "0       1.2         1.2          1.4    False  \n",
       "1       1.0         1.0          1.0     True  \n",
       "2      44.0        19.0          9.0    False  \n",
       "3      31.0        16.0          7.0    False  \n",
       "4      46.0        26.0         11.0    False  \n",
       "\n",
       "[5 rows x 23 columns]"
      ]
     },
     "execution_count": 7,
     "metadata": {},
     "output_type": "execute_result"
    }
   ],
   "source": [
    "df.head()"
   ]
  },
  {
   "cell_type": "code",
   "execution_count": 8,
   "id": "733e95eb",
   "metadata": {
    "execution": {
     "iopub.execute_input": "2021-04-04T23:31:55.854617Z",
     "iopub.status.busy": "2021-04-04T23:31:55.854029Z",
     "iopub.status.idle": "2021-04-04T23:31:55.856436Z",
     "shell.execute_reply": "2021-04-04T23:31:55.856957Z"
    },
    "papermill": {
     "duration": 0.033373,
     "end_time": "2021-04-04T23:31:55.857099",
     "exception": false,
     "start_time": "2021-04-04T23:31:55.823726",
     "status": "completed"
    },
    "tags": []
   },
   "outputs": [],
   "source": [
    "del df['id']"
   ]
  },
  {
   "cell_type": "code",
   "execution_count": 9,
   "id": "6ff6f5b0",
   "metadata": {
    "execution": {
     "iopub.execute_input": "2021-04-04T23:31:55.916333Z",
     "iopub.status.busy": "2021-04-04T23:31:55.915377Z",
     "iopub.status.idle": "2021-04-04T23:31:55.919250Z",
     "shell.execute_reply": "2021-04-04T23:31:55.917503Z"
    },
    "papermill": {
     "duration": 0.041154,
     "end_time": "2021-04-04T23:31:55.919607",
     "exception": false,
     "start_time": "2021-04-04T23:31:55.878453",
     "status": "completed"
    },
    "tags": []
   },
   "outputs": [],
   "source": [
    "if PROFILE_REPORTING:\n",
    "    ProfileReport(df).to_widgets()"
   ]
  },
  {
   "cell_type": "markdown",
   "id": "1deaf3f0",
   "metadata": {
    "papermill": {
     "duration": 0.024797,
     "end_time": "2021-04-04T23:31:55.977445",
     "exception": false,
     "start_time": "2021-04-04T23:31:55.952648",
     "status": "completed"
    },
    "tags": []
   },
   "source": [
    "# Preprocess"
   ]
  },
  {
   "cell_type": "code",
   "execution_count": 10,
   "id": "1513e563",
   "metadata": {
    "execution": {
     "iopub.execute_input": "2021-04-04T23:31:56.035133Z",
     "iopub.status.busy": "2021-04-04T23:31:56.034548Z",
     "iopub.status.idle": "2021-04-04T23:31:56.036614Z",
     "shell.execute_reply": "2021-04-04T23:31:56.037156Z"
    },
    "papermill": {
     "duration": 0.033909,
     "end_time": "2021-04-04T23:31:56.037304",
     "exception": false,
     "start_time": "2021-04-04T23:31:56.003395",
     "status": "completed"
    },
    "tags": []
   },
   "outputs": [],
   "source": [
    "working_df = df.copy()"
   ]
  },
  {
   "cell_type": "code",
   "execution_count": 11,
   "id": "3b26d675",
   "metadata": {
    "execution": {
     "iopub.execute_input": "2021-04-04T23:31:56.090594Z",
     "iopub.status.busy": "2021-04-04T23:31:56.089931Z",
     "iopub.status.idle": "2021-04-04T23:31:56.092648Z",
     "shell.execute_reply": "2021-04-04T23:31:56.093204Z"
    },
    "papermill": {
     "duration": 0.030303,
     "end_time": "2021-04-04T23:31:56.093352",
     "exception": false,
     "start_time": "2021-04-04T23:31:56.063049",
     "status": "completed"
    },
    "tags": []
   },
   "outputs": [],
   "source": [
    "working_df['defects'] = working_df['defects'].replace([False, True], [0, 1])"
   ]
  },
  {
   "cell_type": "code",
   "execution_count": 12,
   "id": "eb48604f",
   "metadata": {
    "execution": {
     "iopub.execute_input": "2021-04-04T23:31:56.151851Z",
     "iopub.status.busy": "2021-04-04T23:31:56.150967Z",
     "iopub.status.idle": "2021-04-04T23:31:56.155999Z",
     "shell.execute_reply": "2021-04-04T23:31:56.155003Z"
    },
    "papermill": {
     "duration": 0.03752,
     "end_time": "2021-04-04T23:31:56.156175",
     "exception": false,
     "start_time": "2021-04-04T23:31:56.118655",
     "status": "completed"
    },
    "tags": []
   },
   "outputs": [],
   "source": [
    "for col in dataset_config['delete_columns']:\n",
    "    del working_df[col]"
   ]
  },
  {
   "cell_type": "code",
   "execution_count": 13,
   "id": "9a17bc29",
   "metadata": {
    "execution": {
     "iopub.execute_input": "2021-04-04T23:31:56.216811Z",
     "iopub.status.busy": "2021-04-04T23:31:56.215537Z",
     "iopub.status.idle": "2021-04-04T23:31:56.232018Z",
     "shell.execute_reply": "2021-04-04T23:31:56.232544Z"
    },
    "papermill": {
     "duration": 0.052849,
     "end_time": "2021-04-04T23:31:56.232696",
     "exception": false,
     "start_time": "2021-04-04T23:31:56.179847",
     "status": "completed"
    },
    "tags": []
   },
   "outputs": [],
   "source": [
    "working_df = working_df.drop_duplicates()"
   ]
  },
  {
   "cell_type": "markdown",
   "id": "a4d52ca6",
   "metadata": {
    "papermill": {
     "duration": 0.025512,
     "end_time": "2021-04-04T23:31:56.291746",
     "exception": false,
     "start_time": "2021-04-04T23:31:56.266234",
     "status": "completed"
    },
    "tags": []
   },
   "source": [
    "# Split"
   ]
  },
  {
   "cell_type": "code",
   "execution_count": 14,
   "id": "3e9ee4b5",
   "metadata": {
    "execution": {
     "iopub.execute_input": "2021-04-04T23:31:56.350221Z",
     "iopub.status.busy": "2021-04-04T23:31:56.347611Z",
     "iopub.status.idle": "2021-04-04T23:31:56.393988Z",
     "shell.execute_reply": "2021-04-04T23:31:56.394471Z"
    },
    "papermill": {
     "duration": 0.075321,
     "end_time": "2021-04-04T23:31:56.394620",
     "exception": false,
     "start_time": "2021-04-04T23:31:56.319299",
     "status": "completed"
    },
    "tags": []
   },
   "outputs": [],
   "source": [
    "from sklearn.model_selection import train_test_split"
   ]
  },
  {
   "cell_type": "code",
   "execution_count": 15,
   "id": "274004ce",
   "metadata": {
    "execution": {
     "iopub.execute_input": "2021-04-04T23:31:56.455467Z",
     "iopub.status.busy": "2021-04-04T23:31:56.454134Z",
     "iopub.status.idle": "2021-04-04T23:31:56.459252Z",
     "shell.execute_reply": "2021-04-04T23:31:56.459729Z"
    },
    "papermill": {
     "duration": 0.04123,
     "end_time": "2021-04-04T23:31:56.459877",
     "exception": false,
     "start_time": "2021-04-04T23:31:56.418647",
     "status": "completed"
    },
    "scrolled": true,
    "tags": []
   },
   "outputs": [],
   "source": [
    "inlier, outlier = working_df[working_df['defects'] == 0], working_df[working_df['defects'] == 1]"
   ]
  },
  {
   "cell_type": "code",
   "execution_count": 16,
   "id": "753c7b03",
   "metadata": {
    "execution": {
     "iopub.execute_input": "2021-04-04T23:31:56.513714Z",
     "iopub.status.busy": "2021-04-04T23:31:56.512148Z",
     "iopub.status.idle": "2021-04-04T23:31:56.515599Z",
     "shell.execute_reply": "2021-04-04T23:31:56.516107Z"
    },
    "papermill": {
     "duration": 0.030879,
     "end_time": "2021-04-04T23:31:56.516253",
     "exception": false,
     "start_time": "2021-04-04T23:31:56.485374",
     "status": "completed"
    },
    "tags": []
   },
   "outputs": [],
   "source": [
    "X_inlier = inlier.copy()\n",
    "y_inlier = X_inlier.pop('defects')\n",
    "X_outlier = outlier.copy()\n",
    "y_outlier = X_outlier.pop('defects')"
   ]
  },
  {
   "cell_type": "code",
   "execution_count": 17,
   "id": "2ba43193",
   "metadata": {
    "execution": {
     "iopub.execute_input": "2021-04-04T23:31:56.581759Z",
     "iopub.status.busy": "2021-04-04T23:31:56.580782Z",
     "iopub.status.idle": "2021-04-04T23:31:56.584766Z",
     "shell.execute_reply": "2021-04-04T23:31:56.583047Z"
    },
    "papermill": {
     "duration": 0.042707,
     "end_time": "2021-04-04T23:31:56.585133",
     "exception": false,
     "start_time": "2021-04-04T23:31:56.542426",
     "status": "completed"
    },
    "tags": []
   },
   "outputs": [],
   "source": [
    "test_size = dataset_config['test_size']\n",
    "random_state = dataset_config['random_state']\n",
    "\n",
    "X_inlier_train, X_inlier_test, y_inlier_train, y_inlier_test = train_test_split(\n",
    "    X_inlier,\n",
    "    y_inlier,\n",
    "    test_size=test_size,\n",
    "    random_state=random_state\n",
    ")"
   ]
  },
  {
   "cell_type": "code",
   "execution_count": 18,
   "id": "0b7582ca",
   "metadata": {
    "execution": {
     "iopub.execute_input": "2021-04-04T23:31:56.641441Z",
     "iopub.status.busy": "2021-04-04T23:31:56.640844Z",
     "iopub.status.idle": "2021-04-04T23:31:56.642883Z",
     "shell.execute_reply": "2021-04-04T23:31:56.643364Z"
    },
    "papermill": {
     "duration": 0.034869,
     "end_time": "2021-04-04T23:31:56.643507",
     "exception": false,
     "start_time": "2021-04-04T23:31:56.608638",
     "status": "completed"
    },
    "tags": []
   },
   "outputs": [],
   "source": [
    "test_outlier_size = dataset_config['test_outlier_size']\n",
    "if test_outlier_size > 0.0:\n",
    "    X_outlier_train, X_outlier_test, y_outlier_train, y_outlier_test = train_test_split(\n",
    "        X_outlier,\n",
    "        y_outlier,\n",
    "        test_size=test_outlier_size,\n",
    "        random_state=random_state\n",
    "    )\n",
    "else:\n",
    "    X_outlier_train, y_outlier_train = pd.DataFrame(columns=X_outlier.columns), pd.Series(dtype='int64')\n",
    "    X_outlier_test, y_outlier_test = X_outlier.copy(), y_outlier.copy()"
   ]
  },
  {
   "cell_type": "code",
   "execution_count": 19,
   "id": "c34363db",
   "metadata": {
    "execution": {
     "iopub.execute_input": "2021-04-04T23:31:56.711952Z",
     "iopub.status.busy": "2021-04-04T23:31:56.711184Z",
     "iopub.status.idle": "2021-04-04T23:31:56.713758Z",
     "shell.execute_reply": "2021-04-04T23:31:56.714345Z"
    },
    "papermill": {
     "duration": 0.04712,
     "end_time": "2021-04-04T23:31:56.714618",
     "exception": false,
     "start_time": "2021-04-04T23:31:56.667498",
     "status": "completed"
    },
    "tags": []
   },
   "outputs": [],
   "source": [
    "X_train, y_train = pd.concat([X_inlier_train, X_outlier_train], ignore_index=True), pd.concat([y_inlier_train, y_outlier_train], ignore_index=True)\n",
    "X_test, y_test = pd.concat([X_inlier_test, X_outlier_test], ignore_index=True), pd.concat([y_inlier_test, y_outlier_test], ignore_index=True)"
   ]
  },
  {
   "cell_type": "markdown",
   "id": "7cde7309",
   "metadata": {
    "papermill": {
     "duration": 0.03954,
     "end_time": "2021-04-04T23:31:56.784346",
     "exception": false,
     "start_time": "2021-04-04T23:31:56.744806",
     "status": "completed"
    },
    "tags": []
   },
   "source": [
    "# Model"
   ]
  },
  {
   "cell_type": "code",
   "execution_count": 20,
   "id": "2b12a415",
   "metadata": {
    "execution": {
     "iopub.execute_input": "2021-04-04T23:31:56.858210Z",
     "iopub.status.busy": "2021-04-04T23:31:56.857476Z",
     "iopub.status.idle": "2021-04-04T23:31:56.859688Z",
     "shell.execute_reply": "2021-04-04T23:31:56.859178Z"
    },
    "papermill": {
     "duration": 0.041994,
     "end_time": "2021-04-04T23:31:56.859807",
     "exception": false,
     "start_time": "2021-04-04T23:31:56.817813",
     "status": "completed"
    },
    "tags": []
   },
   "outputs": [],
   "source": [
    "from math import sqrt\n",
    "\n",
    "\n",
    "class KNNDataDescription:\n",
    "    def __init__(self, k=5, outlier_threshold=1.0):\n",
    "        self.k = k\n",
    "        self.outlier_threshold = outlier_threshold\n",
    "        self.X = []\n",
    "    \n",
    "    def fit(self, X):\n",
    "        self.X = [features.to_list() for index, features in X.iterrows()]\n",
    "\n",
    "    def predict(self, entries):\n",
    "        return [self.predict_entry(features.to_list()) for index, features in entries.iterrows()]\n",
    "    \n",
    "    def predict_entry(self, entry):\n",
    "        kth_neighbor, kth_distance = self.get_kth_neighbor(entry, self.k)\n",
    "        kth_kth_neighbor, kth_kth_distance = self.get_kth_neighbor(kth_neighbor, self.k + 1)\n",
    "\n",
    "        outlier_score = kth_distance / (kth_kth_distance + 0.000001)\n",
    "\n",
    "        return 1 if outlier_score < self.outlier_threshold else -1\n",
    "        \n",
    "    def euclidean_distance(self, features1, features2):\n",
    "        distance = 0.0\n",
    "        for feat1, feat2 in zip(features1, features2):\n",
    "            distance += (feat1 - feat2)**2\n",
    "                \n",
    "        return sqrt(distance)\n",
    "\n",
    "    def get_neighbors(self, entry, k):\n",
    "        distance_to_data_points = [\n",
    "            (data_point, self.euclidean_distance(entry, data_point))\n",
    "            for data_point in self.X\n",
    "        ]\n",
    "        sorted_by_distance = sorted(distance_to_data_points, key=lambda tup: tup[1])\n",
    "        neighbors = sorted_by_distance[:k]\n",
    "        return neighbors\n",
    "\n",
    "    def get_kth_neighbor(self, entry, k):\n",
    "        neighbors = self.get_neighbors(entry, k)\n",
    "        return neighbors[-1]\n"
   ]
  },
  {
   "cell_type": "code",
   "execution_count": 21,
   "id": "1fa9ec1c",
   "metadata": {
    "execution": {
     "iopub.execute_input": "2021-04-04T23:31:56.930397Z",
     "iopub.status.busy": "2021-04-04T23:31:56.926006Z",
     "iopub.status.idle": "2021-04-04T23:31:56.963929Z",
     "shell.execute_reply": "2021-04-04T23:31:56.963406Z"
    },
    "papermill": {
     "duration": 0.08116,
     "end_time": "2021-04-04T23:31:56.964050",
     "exception": false,
     "start_time": "2021-04-04T23:31:56.882890",
     "status": "completed"
    },
    "tags": []
   },
   "outputs": [],
   "source": [
    "from sklearn.svm import OneClassSVM\n",
    "\n",
    "\n",
    "models = {\n",
    "    'oneclasssvm': OneClassSVM,\n",
    "    'knndatadescription': KNNDataDescription,\n",
    "}"
   ]
  },
  {
   "cell_type": "code",
   "execution_count": 22,
   "id": "4d72a0b1",
   "metadata": {
    "execution": {
     "iopub.execute_input": "2021-04-04T23:31:57.024176Z",
     "iopub.status.busy": "2021-04-04T23:31:57.023125Z",
     "iopub.status.idle": "2021-04-04T23:31:57.025496Z",
     "shell.execute_reply": "2021-04-04T23:31:57.026082Z"
    },
    "papermill": {
     "duration": 0.036131,
     "end_time": "2021-04-04T23:31:57.026256",
     "exception": false,
     "start_time": "2021-04-04T23:31:56.990125",
     "status": "completed"
    },
    "scrolled": true,
    "tags": []
   },
   "outputs": [],
   "source": [
    "model_cls = models[model_config['model_type']]\n",
    "model = model_cls(**model_config['hyperparameters'])"
   ]
  },
  {
   "cell_type": "markdown",
   "id": "e00cff3b",
   "metadata": {
    "papermill": {
     "duration": 0.025792,
     "end_time": "2021-04-04T23:31:57.077369",
     "exception": false,
     "start_time": "2021-04-04T23:31:57.051577",
     "status": "completed"
    },
    "tags": []
   },
   "source": [
    "# Fit"
   ]
  },
  {
   "cell_type": "code",
   "execution_count": 23,
   "id": "8b2ded89",
   "metadata": {
    "execution": {
     "iopub.execute_input": "2021-04-04T23:31:57.138974Z",
     "iopub.status.busy": "2021-04-04T23:31:57.137952Z",
     "iopub.status.idle": "2021-04-04T23:31:57.161702Z",
     "shell.execute_reply": "2021-04-04T23:31:57.161103Z"
    },
    "papermill": {
     "duration": 0.058983,
     "end_time": "2021-04-04T23:31:57.161823",
     "exception": false,
     "start_time": "2021-04-04T23:31:57.102840",
     "status": "completed"
    },
    "tags": []
   },
   "outputs": [],
   "source": [
    "model.fit(X_train)"
   ]
  },
  {
   "cell_type": "markdown",
   "id": "f99999f7",
   "metadata": {
    "papermill": {
     "duration": 0.024065,
     "end_time": "2021-04-04T23:31:57.211207",
     "exception": false,
     "start_time": "2021-04-04T23:31:57.187142",
     "status": "completed"
    },
    "tags": []
   },
   "source": [
    "# Predict"
   ]
  },
  {
   "cell_type": "code",
   "execution_count": 24,
   "id": "6536fbf7",
   "metadata": {
    "execution": {
     "iopub.execute_input": "2021-04-04T23:31:57.299272Z",
     "iopub.status.busy": "2021-04-04T23:31:57.267575Z",
     "iopub.status.idle": "2021-04-04T23:31:57.596157Z",
     "shell.execute_reply": "2021-04-04T23:31:57.596638Z"
    },
    "papermill": {
     "duration": 0.359975,
     "end_time": "2021-04-04T23:31:57.596811",
     "exception": false,
     "start_time": "2021-04-04T23:31:57.236836",
     "status": "completed"
    },
    "tags": []
   },
   "outputs": [],
   "source": [
    "predictions = model.predict(X_test)"
   ]
  },
  {
   "cell_type": "markdown",
   "id": "aa1c9881",
   "metadata": {
    "papermill": {
     "duration": 0.02522,
     "end_time": "2021-04-04T23:31:57.647194",
     "exception": false,
     "start_time": "2021-04-04T23:31:57.621974",
     "status": "completed"
    },
    "tags": []
   },
   "source": [
    "# Evaluate"
   ]
  },
  {
   "cell_type": "code",
   "execution_count": 25,
   "id": "894f0f04",
   "metadata": {
    "execution": {
     "iopub.execute_input": "2021-04-04T23:31:57.704879Z",
     "iopub.status.busy": "2021-04-04T23:31:57.702376Z",
     "iopub.status.idle": "2021-04-04T23:31:57.707476Z",
     "shell.execute_reply": "2021-04-04T23:31:57.706815Z"
    },
    "papermill": {
     "duration": 0.037031,
     "end_time": "2021-04-04T23:31:57.707634",
     "exception": false,
     "start_time": "2021-04-04T23:31:57.670603",
     "status": "completed"
    },
    "tags": []
   },
   "outputs": [],
   "source": [
    "from sklearn.metrics import f1_score"
   ]
  },
  {
   "cell_type": "code",
   "execution_count": 26,
   "id": "211744d3",
   "metadata": {
    "execution": {
     "iopub.execute_input": "2021-04-04T23:31:57.770472Z",
     "iopub.status.busy": "2021-04-04T23:31:57.769701Z",
     "iopub.status.idle": "2021-04-04T23:31:57.772122Z",
     "shell.execute_reply": "2021-04-04T23:31:57.771621Z"
    },
    "papermill": {
     "duration": 0.039985,
     "end_time": "2021-04-04T23:31:57.772242",
     "exception": false,
     "start_time": "2021-04-04T23:31:57.732257",
     "status": "completed"
    },
    "tags": []
   },
   "outputs": [],
   "source": [
    "y_test = y_test.replace([0, 1], [1, -1])"
   ]
  },
  {
   "cell_type": "code",
   "execution_count": 27,
   "id": "d68a9204",
   "metadata": {
    "execution": {
     "iopub.execute_input": "2021-04-04T23:31:57.838246Z",
     "iopub.status.busy": "2021-04-04T23:31:57.837629Z",
     "iopub.status.idle": "2021-04-04T23:31:57.839713Z",
     "shell.execute_reply": "2021-04-04T23:31:57.840187Z"
    },
    "papermill": {
     "duration": 0.043757,
     "end_time": "2021-04-04T23:31:57.840334",
     "exception": false,
     "start_time": "2021-04-04T23:31:57.796577",
     "status": "completed"
    },
    "tags": []
   },
   "outputs": [],
   "source": [
    "def evaluate(truths, predictions, pos_label, neg_label):\n",
    "    TP = 0\n",
    "    FP = 0\n",
    "    TN = 0\n",
    "    FN = 0\n",
    "\n",
    "    for truth, pred in zip(truths, predictions): \n",
    "        if truth == pred == pos_label:\n",
    "           TP += 1\n",
    "        elif pred == pos_label and truth == neg_label:\n",
    "           FP += 1\n",
    "        elif truth == pred == neg_label:\n",
    "           TN += 1\n",
    "        elif pred == neg_label and truth == pos_label:\n",
    "           FN += 1\n",
    "\n",
    "    precision = TP / (TP + FP)\n",
    "    sensitivity = TP / (TP + FN)\n",
    "    \n",
    "    return {\n",
    "        'true_pos': TP,\n",
    "        'false_pos': FP,\n",
    "        'false_neg': FN,\n",
    "        'true_neg': TN,\n",
    "        'precision': precision,\n",
    "        'sensitivity': sensitivity,\n",
    "        'f1': (2 * (precision * sensitivity)) / (precision + sensitivity)\n",
    "    }\n",
    "\n",
    "score = evaluate(y_test, predictions, pos_label=-1, neg_label=1)"
   ]
  },
  {
   "cell_type": "markdown",
   "id": "93596516",
   "metadata": {
    "papermill": {
     "duration": 0.033973,
     "end_time": "2021-04-04T23:31:57.915202",
     "exception": false,
     "start_time": "2021-04-04T23:31:57.881229",
     "status": "completed"
    },
    "tags": []
   },
   "source": [
    "# Report"
   ]
  },
  {
   "cell_type": "code",
   "execution_count": 28,
   "id": "bea5fba1",
   "metadata": {
    "execution": {
     "iopub.execute_input": "2021-04-04T23:31:57.978819Z",
     "iopub.status.busy": "2021-04-04T23:31:57.977990Z",
     "iopub.status.idle": "2021-04-04T23:31:57.980940Z",
     "shell.execute_reply": "2021-04-04T23:31:57.981489Z"
    },
    "papermill": {
     "duration": 0.041018,
     "end_time": "2021-04-04T23:31:57.981657",
     "exception": false,
     "start_time": "2021-04-04T23:31:57.940639",
     "status": "completed"
    },
    "tags": []
   },
   "outputs": [],
   "source": [
    "import csv\n",
    "\n",
    "\n",
    "dataset_config_name = DATASET_CONFIG_PATH.split('/')[-1].split('.')[0]\n",
    "model_config_name = MODEL_CONFIG_PATH.split('/')[-1].split('.')[0]\n",
    "configuration = f\"dataset_{dataset_config_name}-model_{model_config_name}\"\n",
    "\n",
    "with open('results.csv', 'a') as f:\n",
    "    report = dict({'configuration': configuration}, **score)\n",
    "    writer = csv.DictWriter(f, report.keys())\n",
    "    writer.writerow(report)"
   ]
  }
 ],
 "metadata": {
  "celltoolbar": "Tags",
  "kernelspec": {
   "display_name": "Python 3",
   "language": "python",
   "name": "python3"
  },
  "language_info": {
   "codemirror_mode": {
    "name": "ipython",
    "version": 3
   },
   "file_extension": ".py",
   "mimetype": "text/x-python",
   "name": "python",
   "nbconvert_exporter": "python",
   "pygments_lexer": "ipython3",
   "version": "3.9.1"
  },
  "papermill": {
   "default_parameters": {},
   "duration": 5.903748,
   "end_time": "2021-04-04T23:31:58.615425",
   "environment_variables": {},
   "exception": null,
   "input_path": "main.ipynb",
   "output_path": "runs/dataset_000146-model_000001.ipynb",
   "parameters": {
    "DATASET_CONFIG_PATH": "config/dataset/000146.json",
    "MODEL_CONFIG_PATH": "config/model/000001.json",
    "PROFILE_REPORTING": false
   },
   "start_time": "2021-04-04T23:31:52.711677",
   "version": "2.3.3"
  }
 },
 "nbformat": 4,
 "nbformat_minor": 5
}