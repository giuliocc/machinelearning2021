{
 "cells": [
  {
   "cell_type": "markdown",
   "id": "51c71c25",
   "metadata": {
    "papermill": {
     "duration": 0.023243,
     "end_time": "2021-04-04T23:30:43.153830",
     "exception": false,
     "start_time": "2021-04-04T23:30:43.130587",
     "status": "completed"
    },
    "tags": []
   },
   "source": [
    "# Parametrizing"
   ]
  },
  {
   "cell_type": "code",
   "execution_count": 1,
   "id": "3b136394",
   "metadata": {
    "execution": {
     "iopub.execute_input": "2021-04-04T23:30:43.212557Z",
     "iopub.status.busy": "2021-04-04T23:30:43.211663Z",
     "iopub.status.idle": "2021-04-04T23:30:43.215623Z",
     "shell.execute_reply": "2021-04-04T23:30:43.214167Z"
    },
    "papermill": {
     "duration": 0.04233,
     "end_time": "2021-04-04T23:30:43.216034",
     "exception": false,
     "start_time": "2021-04-04T23:30:43.173704",
     "status": "completed"
    },
    "tags": [
     "parameters"
    ]
   },
   "outputs": [],
   "source": [
    "DATASET_CONFIG_PATH = 'config/dataset/kc1_001.json'\n",
    "MODEL_CONFIG_PATH = 'config/model/knndd_001.json'\n",
    "PROFILE_REPORTING = False"
   ]
  },
  {
   "cell_type": "code",
   "execution_count": 2,
   "id": "35a4f23d",
   "metadata": {
    "execution": {
     "iopub.execute_input": "2021-04-04T23:30:43.264772Z",
     "iopub.status.busy": "2021-04-04T23:30:43.264053Z",
     "iopub.status.idle": "2021-04-04T23:30:43.265765Z",
     "shell.execute_reply": "2021-04-04T23:30:43.266207Z"
    },
    "papermill": {
     "duration": 0.028109,
     "end_time": "2021-04-04T23:30:43.266347",
     "exception": false,
     "start_time": "2021-04-04T23:30:43.238238",
     "status": "completed"
    },
    "tags": [
     "injected-parameters"
    ]
   },
   "outputs": [],
   "source": [
    "# Parameters\n",
    "DATASET_CONFIG_PATH = \"config/dataset/000143.json\"\n",
    "MODEL_CONFIG_PATH = \"config/model/000002.json\"\n",
    "PROFILE_REPORTING = False\n"
   ]
  },
  {
   "cell_type": "code",
   "execution_count": 3,
   "id": "b80f2a10",
   "metadata": {
    "execution": {
     "iopub.execute_input": "2021-04-04T23:30:43.322521Z",
     "iopub.status.busy": "2021-04-04T23:30:43.321406Z",
     "iopub.status.idle": "2021-04-04T23:30:43.326540Z",
     "shell.execute_reply": "2021-04-04T23:30:43.325933Z"
    },
    "papermill": {
     "duration": 0.038483,
     "end_time": "2021-04-04T23:30:43.326677",
     "exception": false,
     "start_time": "2021-04-04T23:30:43.288194",
     "status": "completed"
    },
    "tags": []
   },
   "outputs": [],
   "source": [
    "import json\n",
    "\n",
    "\n",
    "with open(DATASET_CONFIG_PATH) as f:\n",
    "    dataset_config = json.load(f)\n",
    "\n",
    "with open(MODEL_CONFIG_PATH) as f:\n",
    "    model_config = json.load(f)"
   ]
  },
  {
   "cell_type": "markdown",
   "id": "9a4b0e2d",
   "metadata": {
    "papermill": {
     "duration": 0.025726,
     "end_time": "2021-04-04T23:30:43.378986",
     "exception": false,
     "start_time": "2021-04-04T23:30:43.353260",
     "status": "completed"
    },
    "tags": []
   },
   "source": [
    "# Profiling"
   ]
  },
  {
   "cell_type": "code",
   "execution_count": 4,
   "id": "a3e0289b",
   "metadata": {
    "execution": {
     "iopub.execute_input": "2021-04-04T23:30:43.436031Z",
     "iopub.status.busy": "2021-04-04T23:30:43.434909Z",
     "iopub.status.idle": "2021-04-04T23:30:45.056872Z",
     "shell.execute_reply": "2021-04-04T23:30:45.056301Z"
    },
    "papermill": {
     "duration": 1.653349,
     "end_time": "2021-04-04T23:30:45.057004",
     "exception": false,
     "start_time": "2021-04-04T23:30:43.403655",
     "status": "completed"
    },
    "tags": []
   },
   "outputs": [],
   "source": [
    "import pandas as pd\n",
    "from pandas_profiling import ProfileReport"
   ]
  },
  {
   "cell_type": "code",
   "execution_count": 5,
   "id": "ee6c0666",
   "metadata": {
    "execution": {
     "iopub.execute_input": "2021-04-04T23:30:45.109220Z",
     "iopub.status.busy": "2021-04-04T23:30:45.108252Z",
     "iopub.status.idle": "2021-04-04T23:30:45.117466Z",
     "shell.execute_reply": "2021-04-04T23:30:45.116846Z"
    },
    "papermill": {
     "duration": 0.035373,
     "end_time": "2021-04-04T23:30:45.117589",
     "exception": false,
     "start_time": "2021-04-04T23:30:45.082216",
     "status": "completed"
    },
    "tags": []
   },
   "outputs": [],
   "source": [
    "df = pd.read_csv(dataset_config['dataset_path'])"
   ]
  },
  {
   "cell_type": "code",
   "execution_count": 6,
   "id": "7eca6c4a",
   "metadata": {
    "execution": {
     "iopub.execute_input": "2021-04-04T23:30:45.173107Z",
     "iopub.status.busy": "2021-04-04T23:30:45.171908Z",
     "iopub.status.idle": "2021-04-04T23:30:45.191713Z",
     "shell.execute_reply": "2021-04-04T23:30:45.192320Z"
    },
    "papermill": {
     "duration": 0.053403,
     "end_time": "2021-04-04T23:30:45.192486",
     "exception": false,
     "start_time": "2021-04-04T23:30:45.139083",
     "status": "completed"
    },
    "tags": []
   },
   "outputs": [
    {
     "name": "stdout",
     "output_type": "stream",
     "text": [
      "<class 'pandas.core.frame.DataFrame'>\n",
      "RangeIndex: 498 entries, 0 to 497\n",
      "Data columns (total 23 columns):\n",
      " #   Column             Non-Null Count  Dtype  \n",
      "---  ------             --------------  -----  \n",
      " 0   id                 498 non-null    int64  \n",
      " 1   loc                498 non-null    float64\n",
      " 2   v(g)               498 non-null    float64\n",
      " 3   ev(g)              498 non-null    float64\n",
      " 4   iv(g)              498 non-null    float64\n",
      " 5   n                  498 non-null    float64\n",
      " 6   v                  498 non-null    float64\n",
      " 7   l                  498 non-null    float64\n",
      " 8   d                  498 non-null    float64\n",
      " 9   i                  498 non-null    float64\n",
      " 10  e                  498 non-null    float64\n",
      " 11  b                  498 non-null    float64\n",
      " 12  t                  498 non-null    float64\n",
      " 13  lOCode             498 non-null    int64  \n",
      " 14  lOComment          498 non-null    int64  \n",
      " 15  lOBlank            498 non-null    int64  \n",
      " 16  locCodeAndComment  498 non-null    int64  \n",
      " 17  uniq_Op            498 non-null    float64\n",
      " 18  uniq_Opnd          498 non-null    float64\n",
      " 19  total_Op           498 non-null    float64\n",
      " 20  total_Opnd         498 non-null    float64\n",
      " 21  branchCount        498 non-null    float64\n",
      " 22  defects            498 non-null    bool   \n",
      "dtypes: bool(1), float64(17), int64(5)\n",
      "memory usage: 86.2 KB\n"
     ]
    }
   ],
   "source": [
    "df.info()"
   ]
  },
  {
   "cell_type": "code",
   "execution_count": 7,
   "id": "3638e5e8",
   "metadata": {
    "execution": {
     "iopub.execute_input": "2021-04-04T23:30:45.247384Z",
     "iopub.status.busy": "2021-04-04T23:30:45.245629Z",
     "iopub.status.idle": "2021-04-04T23:30:45.272396Z",
     "shell.execute_reply": "2021-04-04T23:30:45.271817Z"
    },
    "papermill": {
     "duration": 0.058242,
     "end_time": "2021-04-04T23:30:45.272539",
     "exception": false,
     "start_time": "2021-04-04T23:30:45.214297",
     "status": "completed"
    },
    "tags": []
   },
   "outputs": [
    {
     "data": {
      "text/html": [
       "<div>\n",
       "<style scoped>\n",
       "    .dataframe tbody tr th:only-of-type {\n",
       "        vertical-align: middle;\n",
       "    }\n",
       "\n",
       "    .dataframe tbody tr th {\n",
       "        vertical-align: top;\n",
       "    }\n",
       "\n",
       "    .dataframe thead th {\n",
       "        text-align: right;\n",
       "    }\n",
       "</style>\n",
       "<table border=\"1\" class=\"dataframe\">\n",
       "  <thead>\n",
       "    <tr style=\"text-align: right;\">\n",
       "      <th></th>\n",
       "      <th>id</th>\n",
       "      <th>loc</th>\n",
       "      <th>v(g)</th>\n",
       "      <th>ev(g)</th>\n",
       "      <th>iv(g)</th>\n",
       "      <th>n</th>\n",
       "      <th>v</th>\n",
       "      <th>l</th>\n",
       "      <th>d</th>\n",
       "      <th>i</th>\n",
       "      <th>...</th>\n",
       "      <th>lOCode</th>\n",
       "      <th>lOComment</th>\n",
       "      <th>lOBlank</th>\n",
       "      <th>locCodeAndComment</th>\n",
       "      <th>uniq_Op</th>\n",
       "      <th>uniq_Opnd</th>\n",
       "      <th>total_Op</th>\n",
       "      <th>total_Opnd</th>\n",
       "      <th>branchCount</th>\n",
       "      <th>defects</th>\n",
       "    </tr>\n",
       "  </thead>\n",
       "  <tbody>\n",
       "    <tr>\n",
       "      <th>0</th>\n",
       "      <td>1</td>\n",
       "      <td>1.1</td>\n",
       "      <td>1.4</td>\n",
       "      <td>1.4</td>\n",
       "      <td>1.4</td>\n",
       "      <td>1.3</td>\n",
       "      <td>1.30</td>\n",
       "      <td>1.30</td>\n",
       "      <td>1.30</td>\n",
       "      <td>1.30</td>\n",
       "      <td>...</td>\n",
       "      <td>2</td>\n",
       "      <td>2</td>\n",
       "      <td>2</td>\n",
       "      <td>2</td>\n",
       "      <td>1.2</td>\n",
       "      <td>1.2</td>\n",
       "      <td>1.2</td>\n",
       "      <td>1.2</td>\n",
       "      <td>1.4</td>\n",
       "      <td>False</td>\n",
       "    </tr>\n",
       "    <tr>\n",
       "      <th>1</th>\n",
       "      <td>2</td>\n",
       "      <td>1.0</td>\n",
       "      <td>1.0</td>\n",
       "      <td>1.0</td>\n",
       "      <td>1.0</td>\n",
       "      <td>1.0</td>\n",
       "      <td>1.00</td>\n",
       "      <td>1.00</td>\n",
       "      <td>1.00</td>\n",
       "      <td>1.00</td>\n",
       "      <td>...</td>\n",
       "      <td>1</td>\n",
       "      <td>1</td>\n",
       "      <td>1</td>\n",
       "      <td>1</td>\n",
       "      <td>1.0</td>\n",
       "      <td>1.0</td>\n",
       "      <td>1.0</td>\n",
       "      <td>1.0</td>\n",
       "      <td>1.0</td>\n",
       "      <td>True</td>\n",
       "    </tr>\n",
       "    <tr>\n",
       "      <th>2</th>\n",
       "      <td>3</td>\n",
       "      <td>24.0</td>\n",
       "      <td>5.0</td>\n",
       "      <td>1.0</td>\n",
       "      <td>3.0</td>\n",
       "      <td>63.0</td>\n",
       "      <td>309.13</td>\n",
       "      <td>0.11</td>\n",
       "      <td>9.50</td>\n",
       "      <td>32.54</td>\n",
       "      <td>...</td>\n",
       "      <td>1</td>\n",
       "      <td>0</td>\n",
       "      <td>6</td>\n",
       "      <td>0</td>\n",
       "      <td>15.0</td>\n",
       "      <td>15.0</td>\n",
       "      <td>44.0</td>\n",
       "      <td>19.0</td>\n",
       "      <td>9.0</td>\n",
       "      <td>False</td>\n",
       "    </tr>\n",
       "    <tr>\n",
       "      <th>3</th>\n",
       "      <td>4</td>\n",
       "      <td>20.0</td>\n",
       "      <td>4.0</td>\n",
       "      <td>4.0</td>\n",
       "      <td>2.0</td>\n",
       "      <td>47.0</td>\n",
       "      <td>215.49</td>\n",
       "      <td>0.06</td>\n",
       "      <td>16.00</td>\n",
       "      <td>13.47</td>\n",
       "      <td>...</td>\n",
       "      <td>0</td>\n",
       "      <td>0</td>\n",
       "      <td>3</td>\n",
       "      <td>0</td>\n",
       "      <td>16.0</td>\n",
       "      <td>8.0</td>\n",
       "      <td>31.0</td>\n",
       "      <td>16.0</td>\n",
       "      <td>7.0</td>\n",
       "      <td>False</td>\n",
       "    </tr>\n",
       "    <tr>\n",
       "      <th>4</th>\n",
       "      <td>5</td>\n",
       "      <td>24.0</td>\n",
       "      <td>6.0</td>\n",
       "      <td>6.0</td>\n",
       "      <td>2.0</td>\n",
       "      <td>72.0</td>\n",
       "      <td>346.13</td>\n",
       "      <td>0.06</td>\n",
       "      <td>17.33</td>\n",
       "      <td>19.97</td>\n",
       "      <td>...</td>\n",
       "      <td>0</td>\n",
       "      <td>0</td>\n",
       "      <td>3</td>\n",
       "      <td>0</td>\n",
       "      <td>16.0</td>\n",
       "      <td>12.0</td>\n",
       "      <td>46.0</td>\n",
       "      <td>26.0</td>\n",
       "      <td>11.0</td>\n",
       "      <td>False</td>\n",
       "    </tr>\n",
       "  </tbody>\n",
       "</table>\n",
       "<p>5 rows × 23 columns</p>\n",
       "</div>"
      ],
      "text/plain": [
       "   id   loc  v(g)  ev(g)  iv(g)     n       v     l      d      i  ...  \\\n",
       "0   1   1.1   1.4    1.4    1.4   1.3    1.30  1.30   1.30   1.30  ...   \n",
       "1   2   1.0   1.0    1.0    1.0   1.0    1.00  1.00   1.00   1.00  ...   \n",
       "2   3  24.0   5.0    1.0    3.0  63.0  309.13  0.11   9.50  32.54  ...   \n",
       "3   4  20.0   4.0    4.0    2.0  47.0  215.49  0.06  16.00  13.47  ...   \n",
       "4   5  24.0   6.0    6.0    2.0  72.0  346.13  0.06  17.33  19.97  ...   \n",
       "\n",
       "   lOCode  lOComment  lOBlank  locCodeAndComment  uniq_Op  uniq_Opnd  \\\n",
       "0       2          2        2                  2      1.2        1.2   \n",
       "1       1          1        1                  1      1.0        1.0   \n",
       "2       1          0        6                  0     15.0       15.0   \n",
       "3       0          0        3                  0     16.0        8.0   \n",
       "4       0          0        3                  0     16.0       12.0   \n",
       "\n",
       "   total_Op  total_Opnd  branchCount  defects  \n",
       "0       1.2         1.2          1.4    False  \n",
       "1       1.0         1.0          1.0     True  \n",
       "2      44.0        19.0          9.0    False  \n",
       "3      31.0        16.0          7.0    False  \n",
       "4      46.0        26.0         11.0    False  \n",
       "\n",
       "[5 rows x 23 columns]"
      ]
     },
     "execution_count": 7,
     "metadata": {},
     "output_type": "execute_result"
    }
   ],
   "source": [
    "df.head()"
   ]
  },
  {
   "cell_type": "code",
   "execution_count": 8,
   "id": "733e95eb",
   "metadata": {
    "execution": {
     "iopub.execute_input": "2021-04-04T23:30:45.337330Z",
     "iopub.status.busy": "2021-04-04T23:30:45.335911Z",
     "iopub.status.idle": "2021-04-04T23:30:45.339120Z",
     "shell.execute_reply": "2021-04-04T23:30:45.340364Z"
    },
    "papermill": {
     "duration": 0.044923,
     "end_time": "2021-04-04T23:30:45.340650",
     "exception": false,
     "start_time": "2021-04-04T23:30:45.295727",
     "status": "completed"
    },
    "tags": []
   },
   "outputs": [],
   "source": [
    "del df['id']"
   ]
  },
  {
   "cell_type": "code",
   "execution_count": 9,
   "id": "6ff6f5b0",
   "metadata": {
    "execution": {
     "iopub.execute_input": "2021-04-04T23:30:45.440909Z",
     "iopub.status.busy": "2021-04-04T23:30:45.440050Z",
     "iopub.status.idle": "2021-04-04T23:30:45.444233Z",
     "shell.execute_reply": "2021-04-04T23:30:45.442488Z"
    },
    "papermill": {
     "duration": 0.059755,
     "end_time": "2021-04-04T23:30:45.444419",
     "exception": false,
     "start_time": "2021-04-04T23:30:45.384664",
     "status": "completed"
    },
    "tags": []
   },
   "outputs": [],
   "source": [
    "if PROFILE_REPORTING:\n",
    "    ProfileReport(df).to_widgets()"
   ]
  },
  {
   "cell_type": "markdown",
   "id": "1deaf3f0",
   "metadata": {
    "papermill": {
     "duration": 0.032361,
     "end_time": "2021-04-04T23:30:45.521476",
     "exception": false,
     "start_time": "2021-04-04T23:30:45.489115",
     "status": "completed"
    },
    "tags": []
   },
   "source": [
    "# Preprocess"
   ]
  },
  {
   "cell_type": "code",
   "execution_count": 10,
   "id": "1513e563",
   "metadata": {
    "execution": {
     "iopub.execute_input": "2021-04-04T23:30:45.601418Z",
     "iopub.status.busy": "2021-04-04T23:30:45.600365Z",
     "iopub.status.idle": "2021-04-04T23:30:45.604400Z",
     "shell.execute_reply": "2021-04-04T23:30:45.605464Z"
    },
    "papermill": {
     "duration": 0.05267,
     "end_time": "2021-04-04T23:30:45.605853",
     "exception": false,
     "start_time": "2021-04-04T23:30:45.553183",
     "status": "completed"
    },
    "tags": []
   },
   "outputs": [],
   "source": [
    "working_df = df.copy()"
   ]
  },
  {
   "cell_type": "code",
   "execution_count": 11,
   "id": "3b26d675",
   "metadata": {
    "execution": {
     "iopub.execute_input": "2021-04-04T23:30:45.684179Z",
     "iopub.status.busy": "2021-04-04T23:30:45.680786Z",
     "iopub.status.idle": "2021-04-04T23:30:45.686654Z",
     "shell.execute_reply": "2021-04-04T23:30:45.686082Z"
    },
    "papermill": {
     "duration": 0.050065,
     "end_time": "2021-04-04T23:30:45.686828",
     "exception": false,
     "start_time": "2021-04-04T23:30:45.636763",
     "status": "completed"
    },
    "tags": []
   },
   "outputs": [],
   "source": [
    "working_df['defects'] = working_df['defects'].replace([False, True], [0, 1])"
   ]
  },
  {
   "cell_type": "code",
   "execution_count": 12,
   "id": "eb48604f",
   "metadata": {
    "execution": {
     "iopub.execute_input": "2021-04-04T23:30:45.751944Z",
     "iopub.status.busy": "2021-04-04T23:30:45.750776Z",
     "iopub.status.idle": "2021-04-04T23:30:45.753528Z",
     "shell.execute_reply": "2021-04-04T23:30:45.754694Z"
    },
    "papermill": {
     "duration": 0.040868,
     "end_time": "2021-04-04T23:30:45.755023",
     "exception": false,
     "start_time": "2021-04-04T23:30:45.714155",
     "status": "completed"
    },
    "tags": []
   },
   "outputs": [],
   "source": [
    "for col in dataset_config['delete_columns']:\n",
    "    del working_df[col]"
   ]
  },
  {
   "cell_type": "code",
   "execution_count": 13,
   "id": "9a17bc29",
   "metadata": {
    "execution": {
     "iopub.execute_input": "2021-04-04T23:30:45.836564Z",
     "iopub.status.busy": "2021-04-04T23:30:45.834123Z",
     "iopub.status.idle": "2021-04-04T23:30:45.852268Z",
     "shell.execute_reply": "2021-04-04T23:30:45.850559Z"
    },
    "papermill": {
     "duration": 0.062152,
     "end_time": "2021-04-04T23:30:45.852731",
     "exception": false,
     "start_time": "2021-04-04T23:30:45.790579",
     "status": "completed"
    },
    "tags": []
   },
   "outputs": [],
   "source": [
    "working_df = working_df.drop_duplicates()"
   ]
  },
  {
   "cell_type": "markdown",
   "id": "a4d52ca6",
   "metadata": {
    "papermill": {
     "duration": 0.02748,
     "end_time": "2021-04-04T23:30:45.913836",
     "exception": false,
     "start_time": "2021-04-04T23:30:45.886356",
     "status": "completed"
    },
    "tags": []
   },
   "source": [
    "# Split"
   ]
  },
  {
   "cell_type": "code",
   "execution_count": 14,
   "id": "3e9ee4b5",
   "metadata": {
    "execution": {
     "iopub.execute_input": "2021-04-04T23:30:45.986865Z",
     "iopub.status.busy": "2021-04-04T23:30:45.986036Z",
     "iopub.status.idle": "2021-04-04T23:30:46.035396Z",
     "shell.execute_reply": "2021-04-04T23:30:46.034778Z"
    },
    "papermill": {
     "duration": 0.094568,
     "end_time": "2021-04-04T23:30:46.035546",
     "exception": false,
     "start_time": "2021-04-04T23:30:45.940978",
     "status": "completed"
    },
    "tags": []
   },
   "outputs": [],
   "source": [
    "from sklearn.model_selection import train_test_split"
   ]
  },
  {
   "cell_type": "code",
   "execution_count": 15,
   "id": "274004ce",
   "metadata": {
    "execution": {
     "iopub.execute_input": "2021-04-04T23:30:46.090967Z",
     "iopub.status.busy": "2021-04-04T23:30:46.090286Z",
     "iopub.status.idle": "2021-04-04T23:30:46.094629Z",
     "shell.execute_reply": "2021-04-04T23:30:46.095089Z"
    },
    "papermill": {
     "duration": 0.036089,
     "end_time": "2021-04-04T23:30:46.095242",
     "exception": false,
     "start_time": "2021-04-04T23:30:46.059153",
     "status": "completed"
    },
    "scrolled": true,
    "tags": []
   },
   "outputs": [],
   "source": [
    "inlier, outlier = working_df[working_df['defects'] == 0], working_df[working_df['defects'] == 1]"
   ]
  },
  {
   "cell_type": "code",
   "execution_count": 16,
   "id": "753c7b03",
   "metadata": {
    "execution": {
     "iopub.execute_input": "2021-04-04T23:30:46.181395Z",
     "iopub.status.busy": "2021-04-04T23:30:46.179010Z",
     "iopub.status.idle": "2021-04-04T23:30:46.183111Z",
     "shell.execute_reply": "2021-04-04T23:30:46.184158Z"
    },
    "papermill": {
     "duration": 0.063155,
     "end_time": "2021-04-04T23:30:46.184599",
     "exception": false,
     "start_time": "2021-04-04T23:30:46.121444",
     "status": "completed"
    },
    "tags": []
   },
   "outputs": [],
   "source": [
    "X_inlier = inlier.copy()\n",
    "y_inlier = X_inlier.pop('defects')\n",
    "X_outlier = outlier.copy()\n",
    "y_outlier = X_outlier.pop('defects')"
   ]
  },
  {
   "cell_type": "code",
   "execution_count": 17,
   "id": "2ba43193",
   "metadata": {
    "execution": {
     "iopub.execute_input": "2021-04-04T23:30:46.283662Z",
     "iopub.status.busy": "2021-04-04T23:30:46.281356Z",
     "iopub.status.idle": "2021-04-04T23:30:46.289527Z",
     "shell.execute_reply": "2021-04-04T23:30:46.288982Z"
    },
    "papermill": {
     "duration": 0.061659,
     "end_time": "2021-04-04T23:30:46.289652",
     "exception": false,
     "start_time": "2021-04-04T23:30:46.227993",
     "status": "completed"
    },
    "tags": []
   },
   "outputs": [],
   "source": [
    "test_size = dataset_config['test_size']\n",
    "random_state = dataset_config['random_state']\n",
    "\n",
    "X_inlier_train, X_inlier_test, y_inlier_train, y_inlier_test = train_test_split(\n",
    "    X_inlier,\n",
    "    y_inlier,\n",
    "    test_size=test_size,\n",
    "    random_state=random_state\n",
    ")"
   ]
  },
  {
   "cell_type": "code",
   "execution_count": 18,
   "id": "0b7582ca",
   "metadata": {
    "execution": {
     "iopub.execute_input": "2021-04-04T23:30:46.385418Z",
     "iopub.status.busy": "2021-04-04T23:30:46.373354Z",
     "iopub.status.idle": "2021-04-04T23:30:46.393721Z",
     "shell.execute_reply": "2021-04-04T23:30:46.395087Z"
    },
    "papermill": {
     "duration": 0.072223,
     "end_time": "2021-04-04T23:30:46.395490",
     "exception": false,
     "start_time": "2021-04-04T23:30:46.323267",
     "status": "completed"
    },
    "tags": []
   },
   "outputs": [],
   "source": [
    "test_outlier_size = dataset_config['test_outlier_size']\n",
    "if test_outlier_size > 0.0:\n",
    "    X_outlier_train, X_outlier_test, y_outlier_train, y_outlier_test = train_test_split(\n",
    "        X_outlier,\n",
    "        y_outlier,\n",
    "        test_size=test_outlier_size,\n",
    "        random_state=random_state\n",
    "    )\n",
    "else:\n",
    "    X_outlier_train, y_outlier_train = pd.DataFrame(columns=X_outlier.columns), pd.Series(dtype='int64')\n",
    "    X_outlier_test, y_outlier_test = X_outlier.copy(), y_outlier.copy()"
   ]
  },
  {
   "cell_type": "code",
   "execution_count": 19,
   "id": "c34363db",
   "metadata": {
    "execution": {
     "iopub.execute_input": "2021-04-04T23:30:46.469189Z",
     "iopub.status.busy": "2021-04-04T23:30:46.468527Z",
     "iopub.status.idle": "2021-04-04T23:30:46.472807Z",
     "shell.execute_reply": "2021-04-04T23:30:46.473266Z"
    },
    "papermill": {
     "duration": 0.037018,
     "end_time": "2021-04-04T23:30:46.473419",
     "exception": false,
     "start_time": "2021-04-04T23:30:46.436401",
     "status": "completed"
    },
    "tags": []
   },
   "outputs": [],
   "source": [
    "X_train, y_train = pd.concat([X_inlier_train, X_outlier_train], ignore_index=True), pd.concat([y_inlier_train, y_outlier_train], ignore_index=True)\n",
    "X_test, y_test = pd.concat([X_inlier_test, X_outlier_test], ignore_index=True), pd.concat([y_inlier_test, y_outlier_test], ignore_index=True)"
   ]
  },
  {
   "cell_type": "markdown",
   "id": "7cde7309",
   "metadata": {
    "papermill": {
     "duration": 0.041557,
     "end_time": "2021-04-04T23:30:46.540499",
     "exception": false,
     "start_time": "2021-04-04T23:30:46.498942",
     "status": "completed"
    },
    "tags": []
   },
   "source": [
    "# Model"
   ]
  },
  {
   "cell_type": "code",
   "execution_count": 20,
   "id": "2b12a415",
   "metadata": {
    "execution": {
     "iopub.execute_input": "2021-04-04T23:30:46.626804Z",
     "iopub.status.busy": "2021-04-04T23:30:46.624354Z",
     "iopub.status.idle": "2021-04-04T23:30:46.635664Z",
     "shell.execute_reply": "2021-04-04T23:30:46.634413Z"
    },
    "papermill": {
     "duration": 0.063893,
     "end_time": "2021-04-04T23:30:46.635918",
     "exception": false,
     "start_time": "2021-04-04T23:30:46.572025",
     "status": "completed"
    },
    "tags": []
   },
   "outputs": [],
   "source": [
    "from math import sqrt\n",
    "\n",
    "\n",
    "class KNNDataDescription:\n",
    "    def __init__(self, k=5, outlier_threshold=1.0):\n",
    "        self.k = k\n",
    "        self.outlier_threshold = outlier_threshold\n",
    "        self.X = []\n",
    "    \n",
    "    def fit(self, X):\n",
    "        self.X = [features.to_list() for index, features in X.iterrows()]\n",
    "\n",
    "    def predict(self, entries):\n",
    "        return [self.predict_entry(features.to_list()) for index, features in entries.iterrows()]\n",
    "    \n",
    "    def predict_entry(self, entry):\n",
    "        kth_neighbor, kth_distance = self.get_kth_neighbor(entry, self.k)\n",
    "        kth_kth_neighbor, kth_kth_distance = self.get_kth_neighbor(kth_neighbor, self.k + 1)\n",
    "\n",
    "        outlier_score = kth_distance / (kth_kth_distance + 0.000001)\n",
    "\n",
    "        return 1 if outlier_score < self.outlier_threshold else -1\n",
    "        \n",
    "    def euclidean_distance(self, features1, features2):\n",
    "        distance = 0.0\n",
    "        for feat1, feat2 in zip(features1, features2):\n",
    "            distance += (feat1 - feat2)**2\n",
    "                \n",
    "        return sqrt(distance)\n",
    "\n",
    "    def get_neighbors(self, entry, k):\n",
    "        distance_to_data_points = [\n",
    "            (data_point, self.euclidean_distance(entry, data_point))\n",
    "            for data_point in self.X\n",
    "        ]\n",
    "        sorted_by_distance = sorted(distance_to_data_points, key=lambda tup: tup[1])\n",
    "        neighbors = sorted_by_distance[:k]\n",
    "        return neighbors\n",
    "\n",
    "    def get_kth_neighbor(self, entry, k):\n",
    "        neighbors = self.get_neighbors(entry, k)\n",
    "        return neighbors[-1]\n"
   ]
  },
  {
   "cell_type": "code",
   "execution_count": 21,
   "id": "1fa9ec1c",
   "metadata": {
    "execution": {
     "iopub.execute_input": "2021-04-04T23:30:46.740314Z",
     "iopub.status.busy": "2021-04-04T23:30:46.738268Z",
     "iopub.status.idle": "2021-04-04T23:30:46.777082Z",
     "shell.execute_reply": "2021-04-04T23:30:46.776165Z"
    },
    "papermill": {
     "duration": 0.088127,
     "end_time": "2021-04-04T23:30:46.777223",
     "exception": false,
     "start_time": "2021-04-04T23:30:46.689096",
     "status": "completed"
    },
    "tags": []
   },
   "outputs": [],
   "source": [
    "from sklearn.svm import OneClassSVM\n",
    "\n",
    "\n",
    "models = {\n",
    "    'oneclasssvm': OneClassSVM,\n",
    "    'knndatadescription': KNNDataDescription,\n",
    "}"
   ]
  },
  {
   "cell_type": "code",
   "execution_count": 22,
   "id": "4d72a0b1",
   "metadata": {
    "execution": {
     "iopub.execute_input": "2021-04-04T23:30:46.830367Z",
     "iopub.status.busy": "2021-04-04T23:30:46.829777Z",
     "iopub.status.idle": "2021-04-04T23:30:46.831691Z",
     "shell.execute_reply": "2021-04-04T23:30:46.832168Z"
    },
    "papermill": {
     "duration": 0.031963,
     "end_time": "2021-04-04T23:30:46.832313",
     "exception": false,
     "start_time": "2021-04-04T23:30:46.800350",
     "status": "completed"
    },
    "scrolled": true,
    "tags": []
   },
   "outputs": [],
   "source": [
    "model_cls = models[model_config['model_type']]\n",
    "model = model_cls(**model_config['hyperparameters'])"
   ]
  },
  {
   "cell_type": "markdown",
   "id": "e00cff3b",
   "metadata": {
    "papermill": {
     "duration": 0.027349,
     "end_time": "2021-04-04T23:30:46.883920",
     "exception": false,
     "start_time": "2021-04-04T23:30:46.856571",
     "status": "completed"
    },
    "tags": []
   },
   "source": [
    "# Fit"
   ]
  },
  {
   "cell_type": "code",
   "execution_count": 23,
   "id": "8b2ded89",
   "metadata": {
    "execution": {
     "iopub.execute_input": "2021-04-04T23:30:46.938099Z",
     "iopub.status.busy": "2021-04-04T23:30:46.937490Z",
     "iopub.status.idle": "2021-04-04T23:30:46.961117Z",
     "shell.execute_reply": "2021-04-04T23:30:46.961599Z"
    },
    "papermill": {
     "duration": 0.053223,
     "end_time": "2021-04-04T23:30:46.961747",
     "exception": false,
     "start_time": "2021-04-04T23:30:46.908524",
     "status": "completed"
    },
    "tags": []
   },
   "outputs": [],
   "source": [
    "model.fit(X_train)"
   ]
  },
  {
   "cell_type": "markdown",
   "id": "f99999f7",
   "metadata": {
    "papermill": {
     "duration": 0.027015,
     "end_time": "2021-04-04T23:30:47.014976",
     "exception": false,
     "start_time": "2021-04-04T23:30:46.987961",
     "status": "completed"
    },
    "tags": []
   },
   "source": [
    "# Predict"
   ]
  },
  {
   "cell_type": "code",
   "execution_count": 24,
   "id": "6536fbf7",
   "metadata": {
    "execution": {
     "iopub.execute_input": "2021-04-04T23:30:47.067443Z",
     "iopub.status.busy": "2021-04-04T23:30:47.066634Z",
     "iopub.status.idle": "2021-04-04T23:30:47.414655Z",
     "shell.execute_reply": "2021-04-04T23:30:47.414133Z"
    },
    "papermill": {
     "duration": 0.37473,
     "end_time": "2021-04-04T23:30:47.414776",
     "exception": false,
     "start_time": "2021-04-04T23:30:47.040046",
     "status": "completed"
    },
    "tags": []
   },
   "outputs": [],
   "source": [
    "predictions = model.predict(X_test)"
   ]
  },
  {
   "cell_type": "markdown",
   "id": "aa1c9881",
   "metadata": {
    "papermill": {
     "duration": 0.029887,
     "end_time": "2021-04-04T23:30:47.470612",
     "exception": false,
     "start_time": "2021-04-04T23:30:47.440725",
     "status": "completed"
    },
    "tags": []
   },
   "source": [
    "# Evaluate"
   ]
  },
  {
   "cell_type": "code",
   "execution_count": 25,
   "id": "894f0f04",
   "metadata": {
    "execution": {
     "iopub.execute_input": "2021-04-04T23:30:47.526550Z",
     "iopub.status.busy": "2021-04-04T23:30:47.525594Z",
     "iopub.status.idle": "2021-04-04T23:30:47.528315Z",
     "shell.execute_reply": "2021-04-04T23:30:47.527803Z"
    },
    "papermill": {
     "duration": 0.030599,
     "end_time": "2021-04-04T23:30:47.528435",
     "exception": false,
     "start_time": "2021-04-04T23:30:47.497836",
     "status": "completed"
    },
    "tags": []
   },
   "outputs": [],
   "source": [
    "from sklearn.metrics import f1_score"
   ]
  },
  {
   "cell_type": "code",
   "execution_count": 26,
   "id": "211744d3",
   "metadata": {
    "execution": {
     "iopub.execute_input": "2021-04-04T23:30:47.593141Z",
     "iopub.status.busy": "2021-04-04T23:30:47.592397Z",
     "iopub.status.idle": "2021-04-04T23:30:47.594887Z",
     "shell.execute_reply": "2021-04-04T23:30:47.595436Z"
    },
    "papermill": {
     "duration": 0.041251,
     "end_time": "2021-04-04T23:30:47.595609",
     "exception": false,
     "start_time": "2021-04-04T23:30:47.554358",
     "status": "completed"
    },
    "tags": []
   },
   "outputs": [],
   "source": [
    "y_test = y_test.replace([0, 1], [1, -1])"
   ]
  },
  {
   "cell_type": "code",
   "execution_count": 27,
   "id": "d68a9204",
   "metadata": {
    "execution": {
     "iopub.execute_input": "2021-04-04T23:30:47.655476Z",
     "iopub.status.busy": "2021-04-04T23:30:47.654872Z",
     "iopub.status.idle": "2021-04-04T23:30:47.657486Z",
     "shell.execute_reply": "2021-04-04T23:30:47.656902Z"
    },
    "papermill": {
     "duration": 0.037995,
     "end_time": "2021-04-04T23:30:47.657620",
     "exception": false,
     "start_time": "2021-04-04T23:30:47.619625",
     "status": "completed"
    },
    "tags": []
   },
   "outputs": [],
   "source": [
    "def evaluate(truths, predictions, pos_label, neg_label):\n",
    "    TP = 0\n",
    "    FP = 0\n",
    "    TN = 0\n",
    "    FN = 0\n",
    "\n",
    "    for truth, pred in zip(truths, predictions): \n",
    "        if truth == pred == pos_label:\n",
    "           TP += 1\n",
    "        elif pred == pos_label and truth == neg_label:\n",
    "           FP += 1\n",
    "        elif truth == pred == neg_label:\n",
    "           TN += 1\n",
    "        elif pred == neg_label and truth == pos_label:\n",
    "           FN += 1\n",
    "\n",
    "    precision = TP / (TP + FP)\n",
    "    sensitivity = TP / (TP + FN)\n",
    "    \n",
    "    return {\n",
    "        'true_pos': TP,\n",
    "        'false_pos': FP,\n",
    "        'false_neg': FN,\n",
    "        'true_neg': TN,\n",
    "        'precision': precision,\n",
    "        'sensitivity': sensitivity,\n",
    "        'f1': (2 * (precision * sensitivity)) / (precision + sensitivity)\n",
    "    }\n",
    "\n",
    "score = evaluate(y_test, predictions, pos_label=-1, neg_label=1)"
   ]
  },
  {
   "cell_type": "markdown",
   "id": "93596516",
   "metadata": {
    "papermill": {
     "duration": 0.032105,
     "end_time": "2021-04-04T23:30:47.714984",
     "exception": false,
     "start_time": "2021-04-04T23:30:47.682879",
     "status": "completed"
    },
    "tags": []
   },
   "source": [
    "# Report"
   ]
  },
  {
   "cell_type": "code",
   "execution_count": 28,
   "id": "bea5fba1",
   "metadata": {
    "execution": {
     "iopub.execute_input": "2021-04-04T23:30:47.779747Z",
     "iopub.status.busy": "2021-04-04T23:30:47.778751Z",
     "iopub.status.idle": "2021-04-04T23:30:47.781137Z",
     "shell.execute_reply": "2021-04-04T23:30:47.781783Z"
    },
    "papermill": {
     "duration": 0.035381,
     "end_time": "2021-04-04T23:30:47.781982",
     "exception": false,
     "start_time": "2021-04-04T23:30:47.746601",
     "status": "completed"
    },
    "tags": []
   },
   "outputs": [],
   "source": [
    "import csv\n",
    "\n",
    "\n",
    "dataset_config_name = DATASET_CONFIG_PATH.split('/')[-1].split('.')[0]\n",
    "model_config_name = MODEL_CONFIG_PATH.split('/')[-1].split('.')[0]\n",
    "configuration = f\"dataset_{dataset_config_name}-model_{model_config_name}\"\n",
    "\n",
    "with open('results.csv', 'a') as f:\n",
    "    report = dict({'configuration': configuration}, **score)\n",
    "    writer = csv.DictWriter(f, report.keys())\n",
    "    writer.writerow(report)"
   ]
  }
 ],
 "metadata": {
  "celltoolbar": "Tags",
  "kernelspec": {
   "display_name": "Python 3",
   "language": "python",
   "name": "python3"
  },
  "language_info": {
   "codemirror_mode": {
    "name": "ipython",
    "version": 3
   },
   "file_extension": ".py",
   "mimetype": "text/x-python",
   "name": "python",
   "nbconvert_exporter": "python",
   "pygments_lexer": "ipython3",
   "version": "3.9.1"
  },
  "papermill": {
   "default_parameters": {},
   "duration": 7.077185,
   "end_time": "2021-04-04T23:30:49.248380",
   "environment_variables": {},
   "exception": null,
   "input_path": "main.ipynb",
   "output_path": "runs/dataset_000143-model_000002.ipynb",
   "parameters": {
    "DATASET_CONFIG_PATH": "config/dataset/000143.json",
    "MODEL_CONFIG_PATH": "config/model/000002.json",
    "PROFILE_REPORTING": false
   },
   "start_time": "2021-04-04T23:30:42.171195",
   "version": "2.3.3"
  }
 },
 "nbformat": 4,
 "nbformat_minor": 5
}