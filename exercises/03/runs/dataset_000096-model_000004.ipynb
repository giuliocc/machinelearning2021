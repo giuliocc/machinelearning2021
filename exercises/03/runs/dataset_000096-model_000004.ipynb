{
 "cells": [
  {
   "cell_type": "markdown",
   "id": "51c71c25",
   "metadata": {
    "papermill": {
     "duration": 0.03248,
     "end_time": "2021-04-04T23:11:27.437051",
     "exception": false,
     "start_time": "2021-04-04T23:11:27.404571",
     "status": "completed"
    },
    "tags": []
   },
   "source": [
    "# Parametrizing"
   ]
  },
  {
   "cell_type": "code",
   "execution_count": 1,
   "id": "3b136394",
   "metadata": {
    "execution": {
     "iopub.execute_input": "2021-04-04T23:11:27.489235Z",
     "iopub.status.busy": "2021-04-04T23:11:27.485287Z",
     "iopub.status.idle": "2021-04-04T23:11:27.491769Z",
     "shell.execute_reply": "2021-04-04T23:11:27.492772Z"
    },
    "papermill": {
     "duration": 0.03653,
     "end_time": "2021-04-04T23:11:27.493126",
     "exception": false,
     "start_time": "2021-04-04T23:11:27.456596",
     "status": "completed"
    },
    "tags": [
     "parameters"
    ]
   },
   "outputs": [],
   "source": [
    "DATASET_CONFIG_PATH = 'config/dataset/kc1_001.json'\n",
    "MODEL_CONFIG_PATH = 'config/model/knndd_001.json'\n",
    "PROFILE_REPORTING = False"
   ]
  },
  {
   "cell_type": "code",
   "execution_count": 2,
   "id": "e27b6f71",
   "metadata": {
    "execution": {
     "iopub.execute_input": "2021-04-04T23:11:27.540013Z",
     "iopub.status.busy": "2021-04-04T23:11:27.539214Z",
     "iopub.status.idle": "2021-04-04T23:11:27.541576Z",
     "shell.execute_reply": "2021-04-04T23:11:27.542253Z"
    },
    "papermill": {
     "duration": 0.027252,
     "end_time": "2021-04-04T23:11:27.542445",
     "exception": false,
     "start_time": "2021-04-04T23:11:27.515193",
     "status": "completed"
    },
    "tags": [
     "injected-parameters"
    ]
   },
   "outputs": [],
   "source": [
    "# Parameters\n",
    "DATASET_CONFIG_PATH = \"config/dataset/000096.json\"\n",
    "MODEL_CONFIG_PATH = \"config/model/000004.json\"\n",
    "PROFILE_REPORTING = False\n"
   ]
  },
  {
   "cell_type": "code",
   "execution_count": 3,
   "id": "b80f2a10",
   "metadata": {
    "execution": {
     "iopub.execute_input": "2021-04-04T23:11:27.598767Z",
     "iopub.status.busy": "2021-04-04T23:11:27.597693Z",
     "iopub.status.idle": "2021-04-04T23:11:27.600819Z",
     "shell.execute_reply": "2021-04-04T23:11:27.601360Z"
    },
    "papermill": {
     "duration": 0.029509,
     "end_time": "2021-04-04T23:11:27.601519",
     "exception": false,
     "start_time": "2021-04-04T23:11:27.572010",
     "status": "completed"
    },
    "tags": []
   },
   "outputs": [],
   "source": [
    "import json\n",
    "\n",
    "\n",
    "with open(DATASET_CONFIG_PATH) as f:\n",
    "    dataset_config = json.load(f)\n",
    "\n",
    "with open(MODEL_CONFIG_PATH) as f:\n",
    "    model_config = json.load(f)"
   ]
  },
  {
   "cell_type": "markdown",
   "id": "9a4b0e2d",
   "metadata": {
    "papermill": {
     "duration": 0.019528,
     "end_time": "2021-04-04T23:11:27.641797",
     "exception": false,
     "start_time": "2021-04-04T23:11:27.622269",
     "status": "completed"
    },
    "tags": []
   },
   "source": [
    "# Profiling"
   ]
  },
  {
   "cell_type": "code",
   "execution_count": 4,
   "id": "a3e0289b",
   "metadata": {
    "execution": {
     "iopub.execute_input": "2021-04-04T23:11:27.685655Z",
     "iopub.status.busy": "2021-04-04T23:11:27.684997Z",
     "iopub.status.idle": "2021-04-04T23:11:28.970544Z",
     "shell.execute_reply": "2021-04-04T23:11:28.969843Z"
    },
    "papermill": {
     "duration": 1.309309,
     "end_time": "2021-04-04T23:11:28.970679",
     "exception": false,
     "start_time": "2021-04-04T23:11:27.661370",
     "status": "completed"
    },
    "tags": []
   },
   "outputs": [],
   "source": [
    "import pandas as pd\n",
    "from pandas_profiling import ProfileReport"
   ]
  },
  {
   "cell_type": "code",
   "execution_count": 5,
   "id": "ee6c0666",
   "metadata": {
    "execution": {
     "iopub.execute_input": "2021-04-04T23:11:29.018696Z",
     "iopub.status.busy": "2021-04-04T23:11:29.017732Z",
     "iopub.status.idle": "2021-04-04T23:11:29.027300Z",
     "shell.execute_reply": "2021-04-04T23:11:29.027822Z"
    },
    "papermill": {
     "duration": 0.034816,
     "end_time": "2021-04-04T23:11:29.027977",
     "exception": false,
     "start_time": "2021-04-04T23:11:28.993161",
     "status": "completed"
    },
    "tags": []
   },
   "outputs": [],
   "source": [
    "df = pd.read_csv(dataset_config['dataset_path'])"
   ]
  },
  {
   "cell_type": "code",
   "execution_count": 6,
   "id": "7eca6c4a",
   "metadata": {
    "execution": {
     "iopub.execute_input": "2021-04-04T23:11:29.088414Z",
     "iopub.status.busy": "2021-04-04T23:11:29.075844Z",
     "iopub.status.idle": "2021-04-04T23:11:29.091733Z",
     "shell.execute_reply": "2021-04-04T23:11:29.092636Z"
    },
    "papermill": {
     "duration": 0.042823,
     "end_time": "2021-04-04T23:11:29.092928",
     "exception": false,
     "start_time": "2021-04-04T23:11:29.050105",
     "status": "completed"
    },
    "tags": []
   },
   "outputs": [
    {
     "name": "stdout",
     "output_type": "stream",
     "text": [
      "<class 'pandas.core.frame.DataFrame'>\n",
      "RangeIndex: 498 entries, 0 to 497\n",
      "Data columns (total 23 columns):\n",
      " #   Column             Non-Null Count  Dtype  \n",
      "---  ------             --------------  -----  \n",
      " 0   id                 498 non-null    int64  \n",
      " 1   loc                498 non-null    float64\n",
      " 2   v(g)               498 non-null    float64\n",
      " 3   ev(g)              498 non-null    float64\n",
      " 4   iv(g)              498 non-null    float64\n",
      " 5   n                  498 non-null    float64\n",
      " 6   v                  498 non-null    float64\n",
      " 7   l                  498 non-null    float64\n",
      " 8   d                  498 non-null    float64\n",
      " 9   i                  498 non-null    float64\n",
      " 10  e                  498 non-null    float64\n",
      " 11  b                  498 non-null    float64\n",
      " 12  t                  498 non-null    float64\n",
      " 13  lOCode             498 non-null    int64  \n",
      " 14  lOComment          498 non-null    int64  \n",
      " 15  lOBlank            498 non-null    int64  \n",
      " 16  locCodeAndComment  498 non-null    int64  \n",
      " 17  uniq_Op            498 non-null    float64\n",
      " 18  uniq_Opnd          498 non-null    float64\n",
      " 19  total_Op           498 non-null    float64\n",
      " 20  total_Opnd         498 non-null    float64\n",
      " 21  branchCount        498 non-null    float64\n",
      " 22  defects            498 non-null    bool   \n",
      "dtypes: bool(1), float64(17), int64(5)\n",
      "memory usage: 86.2 KB\n"
     ]
    }
   ],
   "source": [
    "df.info()"
   ]
  },
  {
   "cell_type": "code",
   "execution_count": 7,
   "id": "3638e5e8",
   "metadata": {
    "execution": {
     "iopub.execute_input": "2021-04-04T23:11:29.149354Z",
     "iopub.status.busy": "2021-04-04T23:11:29.148646Z",
     "iopub.status.idle": "2021-04-04T23:11:29.178274Z",
     "shell.execute_reply": "2021-04-04T23:11:29.177241Z"
    },
    "papermill": {
     "duration": 0.058771,
     "end_time": "2021-04-04T23:11:29.178499",
     "exception": false,
     "start_time": "2021-04-04T23:11:29.119728",
     "status": "completed"
    },
    "tags": []
   },
   "outputs": [
    {
     "data": {
      "text/html": [
       "<div>\n",
       "<style scoped>\n",
       "    .dataframe tbody tr th:only-of-type {\n",
       "        vertical-align: middle;\n",
       "    }\n",
       "\n",
       "    .dataframe tbody tr th {\n",
       "        vertical-align: top;\n",
       "    }\n",
       "\n",
       "    .dataframe thead th {\n",
       "        text-align: right;\n",
       "    }\n",
       "</style>\n",
       "<table border=\"1\" class=\"dataframe\">\n",
       "  <thead>\n",
       "    <tr style=\"text-align: right;\">\n",
       "      <th></th>\n",
       "      <th>id</th>\n",
       "      <th>loc</th>\n",
       "      <th>v(g)</th>\n",
       "      <th>ev(g)</th>\n",
       "      <th>iv(g)</th>\n",
       "      <th>n</th>\n",
       "      <th>v</th>\n",
       "      <th>l</th>\n",
       "      <th>d</th>\n",
       "      <th>i</th>\n",
       "      <th>...</th>\n",
       "      <th>lOCode</th>\n",
       "      <th>lOComment</th>\n",
       "      <th>lOBlank</th>\n",
       "      <th>locCodeAndComment</th>\n",
       "      <th>uniq_Op</th>\n",
       "      <th>uniq_Opnd</th>\n",
       "      <th>total_Op</th>\n",
       "      <th>total_Opnd</th>\n",
       "      <th>branchCount</th>\n",
       "      <th>defects</th>\n",
       "    </tr>\n",
       "  </thead>\n",
       "  <tbody>\n",
       "    <tr>\n",
       "      <th>0</th>\n",
       "      <td>1</td>\n",
       "      <td>1.1</td>\n",
       "      <td>1.4</td>\n",
       "      <td>1.4</td>\n",
       "      <td>1.4</td>\n",
       "      <td>1.3</td>\n",
       "      <td>1.30</td>\n",
       "      <td>1.30</td>\n",
       "      <td>1.30</td>\n",
       "      <td>1.30</td>\n",
       "      <td>...</td>\n",
       "      <td>2</td>\n",
       "      <td>2</td>\n",
       "      <td>2</td>\n",
       "      <td>2</td>\n",
       "      <td>1.2</td>\n",
       "      <td>1.2</td>\n",
       "      <td>1.2</td>\n",
       "      <td>1.2</td>\n",
       "      <td>1.4</td>\n",
       "      <td>False</td>\n",
       "    </tr>\n",
       "    <tr>\n",
       "      <th>1</th>\n",
       "      <td>2</td>\n",
       "      <td>1.0</td>\n",
       "      <td>1.0</td>\n",
       "      <td>1.0</td>\n",
       "      <td>1.0</td>\n",
       "      <td>1.0</td>\n",
       "      <td>1.00</td>\n",
       "      <td>1.00</td>\n",
       "      <td>1.00</td>\n",
       "      <td>1.00</td>\n",
       "      <td>...</td>\n",
       "      <td>1</td>\n",
       "      <td>1</td>\n",
       "      <td>1</td>\n",
       "      <td>1</td>\n",
       "      <td>1.0</td>\n",
       "      <td>1.0</td>\n",
       "      <td>1.0</td>\n",
       "      <td>1.0</td>\n",
       "      <td>1.0</td>\n",
       "      <td>True</td>\n",
       "    </tr>\n",
       "    <tr>\n",
       "      <th>2</th>\n",
       "      <td>3</td>\n",
       "      <td>24.0</td>\n",
       "      <td>5.0</td>\n",
       "      <td>1.0</td>\n",
       "      <td>3.0</td>\n",
       "      <td>63.0</td>\n",
       "      <td>309.13</td>\n",
       "      <td>0.11</td>\n",
       "      <td>9.50</td>\n",
       "      <td>32.54</td>\n",
       "      <td>...</td>\n",
       "      <td>1</td>\n",
       "      <td>0</td>\n",
       "      <td>6</td>\n",
       "      <td>0</td>\n",
       "      <td>15.0</td>\n",
       "      <td>15.0</td>\n",
       "      <td>44.0</td>\n",
       "      <td>19.0</td>\n",
       "      <td>9.0</td>\n",
       "      <td>False</td>\n",
       "    </tr>\n",
       "    <tr>\n",
       "      <th>3</th>\n",
       "      <td>4</td>\n",
       "      <td>20.0</td>\n",
       "      <td>4.0</td>\n",
       "      <td>4.0</td>\n",
       "      <td>2.0</td>\n",
       "      <td>47.0</td>\n",
       "      <td>215.49</td>\n",
       "      <td>0.06</td>\n",
       "      <td>16.00</td>\n",
       "      <td>13.47</td>\n",
       "      <td>...</td>\n",
       "      <td>0</td>\n",
       "      <td>0</td>\n",
       "      <td>3</td>\n",
       "      <td>0</td>\n",
       "      <td>16.0</td>\n",
       "      <td>8.0</td>\n",
       "      <td>31.0</td>\n",
       "      <td>16.0</td>\n",
       "      <td>7.0</td>\n",
       "      <td>False</td>\n",
       "    </tr>\n",
       "    <tr>\n",
       "      <th>4</th>\n",
       "      <td>5</td>\n",
       "      <td>24.0</td>\n",
       "      <td>6.0</td>\n",
       "      <td>6.0</td>\n",
       "      <td>2.0</td>\n",
       "      <td>72.0</td>\n",
       "      <td>346.13</td>\n",
       "      <td>0.06</td>\n",
       "      <td>17.33</td>\n",
       "      <td>19.97</td>\n",
       "      <td>...</td>\n",
       "      <td>0</td>\n",
       "      <td>0</td>\n",
       "      <td>3</td>\n",
       "      <td>0</td>\n",
       "      <td>16.0</td>\n",
       "      <td>12.0</td>\n",
       "      <td>46.0</td>\n",
       "      <td>26.0</td>\n",
       "      <td>11.0</td>\n",
       "      <td>False</td>\n",
       "    </tr>\n",
       "  </tbody>\n",
       "</table>\n",
       "<p>5 rows × 23 columns</p>\n",
       "</div>"
      ],
      "text/plain": [
       "   id   loc  v(g)  ev(g)  iv(g)     n       v     l      d      i  ...  \\\n",
       "0   1   1.1   1.4    1.4    1.4   1.3    1.30  1.30   1.30   1.30  ...   \n",
       "1   2   1.0   1.0    1.0    1.0   1.0    1.00  1.00   1.00   1.00  ...   \n",
       "2   3  24.0   5.0    1.0    3.0  63.0  309.13  0.11   9.50  32.54  ...   \n",
       "3   4  20.0   4.0    4.0    2.0  47.0  215.49  0.06  16.00  13.47  ...   \n",
       "4   5  24.0   6.0    6.0    2.0  72.0  346.13  0.06  17.33  19.97  ...   \n",
       "\n",
       "   lOCode  lOComment  lOBlank  locCodeAndComment  uniq_Op  uniq_Opnd  \\\n",
       "0       2          2        2                  2      1.2        1.2   \n",
       "1       1          1        1                  1      1.0        1.0   \n",
       "2       1          0        6                  0     15.0       15.0   \n",
       "3       0          0        3                  0     16.0        8.0   \n",
       "4       0          0        3                  0     16.0       12.0   \n",
       "\n",
       "   total_Op  total_Opnd  branchCount  defects  \n",
       "0       1.2         1.2          1.4    False  \n",
       "1       1.0         1.0          1.0     True  \n",
       "2      44.0        19.0          9.0    False  \n",
       "3      31.0        16.0          7.0    False  \n",
       "4      46.0        26.0         11.0    False  \n",
       "\n",
       "[5 rows x 23 columns]"
      ]
     },
     "execution_count": 7,
     "metadata": {},
     "output_type": "execute_result"
    }
   ],
   "source": [
    "df.head()"
   ]
  },
  {
   "cell_type": "code",
   "execution_count": 8,
   "id": "733e95eb",
   "metadata": {
    "execution": {
     "iopub.execute_input": "2021-04-04T23:11:29.232387Z",
     "iopub.status.busy": "2021-04-04T23:11:29.231111Z",
     "iopub.status.idle": "2021-04-04T23:11:29.234531Z",
     "shell.execute_reply": "2021-04-04T23:11:29.233653Z"
    },
    "papermill": {
     "duration": 0.030454,
     "end_time": "2021-04-04T23:11:29.234719",
     "exception": false,
     "start_time": "2021-04-04T23:11:29.204265",
     "status": "completed"
    },
    "tags": []
   },
   "outputs": [],
   "source": [
    "del df['id']"
   ]
  },
  {
   "cell_type": "code",
   "execution_count": 9,
   "id": "6ff6f5b0",
   "metadata": {
    "execution": {
     "iopub.execute_input": "2021-04-04T23:11:29.283934Z",
     "iopub.status.busy": "2021-04-04T23:11:29.283200Z",
     "iopub.status.idle": "2021-04-04T23:11:29.285698Z",
     "shell.execute_reply": "2021-04-04T23:11:29.286360Z"
    },
    "papermill": {
     "duration": 0.029029,
     "end_time": "2021-04-04T23:11:29.286545",
     "exception": false,
     "start_time": "2021-04-04T23:11:29.257516",
     "status": "completed"
    },
    "tags": []
   },
   "outputs": [],
   "source": [
    "if PROFILE_REPORTING:\n",
    "    ProfileReport(df).to_widgets()"
   ]
  },
  {
   "cell_type": "markdown",
   "id": "1deaf3f0",
   "metadata": {
    "papermill": {
     "duration": 0.020866,
     "end_time": "2021-04-04T23:11:29.337654",
     "exception": false,
     "start_time": "2021-04-04T23:11:29.316788",
     "status": "completed"
    },
    "tags": []
   },
   "source": [
    "# Preprocess"
   ]
  },
  {
   "cell_type": "code",
   "execution_count": 10,
   "id": "1513e563",
   "metadata": {
    "execution": {
     "iopub.execute_input": "2021-04-04T23:11:29.389712Z",
     "iopub.status.busy": "2021-04-04T23:11:29.388897Z",
     "iopub.status.idle": "2021-04-04T23:11:29.391462Z",
     "shell.execute_reply": "2021-04-04T23:11:29.392158Z"
    },
    "papermill": {
     "duration": 0.029739,
     "end_time": "2021-04-04T23:11:29.392356",
     "exception": false,
     "start_time": "2021-04-04T23:11:29.362617",
     "status": "completed"
    },
    "tags": []
   },
   "outputs": [],
   "source": [
    "working_df = df.copy()"
   ]
  },
  {
   "cell_type": "code",
   "execution_count": 11,
   "id": "3b26d675",
   "metadata": {
    "execution": {
     "iopub.execute_input": "2021-04-04T23:11:29.450360Z",
     "iopub.status.busy": "2021-04-04T23:11:29.449017Z",
     "iopub.status.idle": "2021-04-04T23:11:29.452984Z",
     "shell.execute_reply": "2021-04-04T23:11:29.451968Z"
    },
    "papermill": {
     "duration": 0.03266,
     "end_time": "2021-04-04T23:11:29.453200",
     "exception": false,
     "start_time": "2021-04-04T23:11:29.420540",
     "status": "completed"
    },
    "tags": []
   },
   "outputs": [],
   "source": [
    "working_df['defects'] = working_df['defects'].replace([False, True], [0, 1])"
   ]
  },
  {
   "cell_type": "code",
   "execution_count": 12,
   "id": "eb48604f",
   "metadata": {
    "execution": {
     "iopub.execute_input": "2021-04-04T23:11:29.503637Z",
     "iopub.status.busy": "2021-04-04T23:11:29.502616Z",
     "iopub.status.idle": "2021-04-04T23:11:29.506926Z",
     "shell.execute_reply": "2021-04-04T23:11:29.507757Z"
    },
    "papermill": {
     "duration": 0.031317,
     "end_time": "2021-04-04T23:11:29.507989",
     "exception": false,
     "start_time": "2021-04-04T23:11:29.476672",
     "status": "completed"
    },
    "tags": []
   },
   "outputs": [],
   "source": [
    "for col in dataset_config['delete_columns']:\n",
    "    del working_df[col]"
   ]
  },
  {
   "cell_type": "code",
   "execution_count": 13,
   "id": "9a17bc29",
   "metadata": {
    "execution": {
     "iopub.execute_input": "2021-04-04T23:11:29.564469Z",
     "iopub.status.busy": "2021-04-04T23:11:29.563714Z",
     "iopub.status.idle": "2021-04-04T23:11:29.573058Z",
     "shell.execute_reply": "2021-04-04T23:11:29.573918Z"
    },
    "papermill": {
     "duration": 0.04065,
     "end_time": "2021-04-04T23:11:29.574156",
     "exception": false,
     "start_time": "2021-04-04T23:11:29.533506",
     "status": "completed"
    },
    "tags": []
   },
   "outputs": [],
   "source": [
    "working_df = working_df.drop_duplicates()"
   ]
  },
  {
   "cell_type": "markdown",
   "id": "a4d52ca6",
   "metadata": {
    "papermill": {
     "duration": 0.0214,
     "end_time": "2021-04-04T23:11:29.622590",
     "exception": false,
     "start_time": "2021-04-04T23:11:29.601190",
     "status": "completed"
    },
    "tags": []
   },
   "source": [
    "# Split"
   ]
  },
  {
   "cell_type": "code",
   "execution_count": 14,
   "id": "3e9ee4b5",
   "metadata": {
    "execution": {
     "iopub.execute_input": "2021-04-04T23:11:29.671179Z",
     "iopub.status.busy": "2021-04-04T23:11:29.669900Z",
     "iopub.status.idle": "2021-04-04T23:11:29.702139Z",
     "shell.execute_reply": "2021-04-04T23:11:29.703016Z"
    },
    "papermill": {
     "duration": 0.059412,
     "end_time": "2021-04-04T23:11:29.703278",
     "exception": false,
     "start_time": "2021-04-04T23:11:29.643866",
     "status": "completed"
    },
    "tags": []
   },
   "outputs": [],
   "source": [
    "from sklearn.model_selection import train_test_split"
   ]
  },
  {
   "cell_type": "code",
   "execution_count": 15,
   "id": "274004ce",
   "metadata": {
    "execution": {
     "iopub.execute_input": "2021-04-04T23:11:29.775440Z",
     "iopub.status.busy": "2021-04-04T23:11:29.774472Z",
     "iopub.status.idle": "2021-04-04T23:11:29.780145Z",
     "shell.execute_reply": "2021-04-04T23:11:29.779639Z"
    },
    "papermill": {
     "duration": 0.040231,
     "end_time": "2021-04-04T23:11:29.780264",
     "exception": false,
     "start_time": "2021-04-04T23:11:29.740033",
     "status": "completed"
    },
    "scrolled": true,
    "tags": []
   },
   "outputs": [],
   "source": [
    "inlier, outlier = working_df[working_df['defects'] == 0], working_df[working_df['defects'] == 1]"
   ]
  },
  {
   "cell_type": "code",
   "execution_count": 16,
   "id": "753c7b03",
   "metadata": {
    "execution": {
     "iopub.execute_input": "2021-04-04T23:11:29.836211Z",
     "iopub.status.busy": "2021-04-04T23:11:29.835174Z",
     "iopub.status.idle": "2021-04-04T23:11:29.838300Z",
     "shell.execute_reply": "2021-04-04T23:11:29.839078Z"
    },
    "papermill": {
     "duration": 0.035294,
     "end_time": "2021-04-04T23:11:29.839312",
     "exception": false,
     "start_time": "2021-04-04T23:11:29.804018",
     "status": "completed"
    },
    "tags": []
   },
   "outputs": [],
   "source": [
    "X_inlier = inlier.copy()\n",
    "y_inlier = X_inlier.pop('defects')\n",
    "X_outlier = outlier.copy()\n",
    "y_outlier = X_outlier.pop('defects')"
   ]
  },
  {
   "cell_type": "code",
   "execution_count": 17,
   "id": "2ba43193",
   "metadata": {
    "execution": {
     "iopub.execute_input": "2021-04-04T23:11:29.896197Z",
     "iopub.status.busy": "2021-04-04T23:11:29.895304Z",
     "iopub.status.idle": "2021-04-04T23:11:29.897896Z",
     "shell.execute_reply": "2021-04-04T23:11:29.898554Z"
    },
    "papermill": {
     "duration": 0.033693,
     "end_time": "2021-04-04T23:11:29.898758",
     "exception": false,
     "start_time": "2021-04-04T23:11:29.865065",
     "status": "completed"
    },
    "tags": []
   },
   "outputs": [],
   "source": [
    "test_size = dataset_config['test_size']\n",
    "random_state = dataset_config['random_state']\n",
    "\n",
    "X_inlier_train, X_inlier_test, y_inlier_train, y_inlier_test = train_test_split(\n",
    "    X_inlier,\n",
    "    y_inlier,\n",
    "    test_size=test_size,\n",
    "    random_state=random_state\n",
    ")"
   ]
  },
  {
   "cell_type": "code",
   "execution_count": 18,
   "id": "0b7582ca",
   "metadata": {
    "execution": {
     "iopub.execute_input": "2021-04-04T23:11:29.955696Z",
     "iopub.status.busy": "2021-04-04T23:11:29.954837Z",
     "iopub.status.idle": "2021-04-04T23:11:29.958562Z",
     "shell.execute_reply": "2021-04-04T23:11:29.957535Z"
    },
    "papermill": {
     "duration": 0.035175,
     "end_time": "2021-04-04T23:11:29.958773",
     "exception": false,
     "start_time": "2021-04-04T23:11:29.923598",
     "status": "completed"
    },
    "tags": []
   },
   "outputs": [],
   "source": [
    "test_outlier_size = dataset_config['test_outlier_size']\n",
    "if test_outlier_size > 0.0:\n",
    "    X_outlier_train, X_outlier_test, y_outlier_train, y_outlier_test = train_test_split(\n",
    "        X_outlier,\n",
    "        y_outlier,\n",
    "        test_size=test_outlier_size,\n",
    "        random_state=random_state\n",
    "    )\n",
    "else:\n",
    "    X_outlier_train, y_outlier_train = pd.DataFrame(columns=X_outlier.columns), pd.Series(dtype='int64')\n",
    "    X_outlier_test, y_outlier_test = X_outlier.copy(), y_outlier.copy()"
   ]
  },
  {
   "cell_type": "code",
   "execution_count": 19,
   "id": "c34363db",
   "metadata": {
    "execution": {
     "iopub.execute_input": "2021-04-04T23:11:30.020443Z",
     "iopub.status.busy": "2021-04-04T23:11:30.019526Z",
     "iopub.status.idle": "2021-04-04T23:11:30.026342Z",
     "shell.execute_reply": "2021-04-04T23:11:30.026927Z"
    },
    "papermill": {
     "duration": 0.037437,
     "end_time": "2021-04-04T23:11:30.027103",
     "exception": false,
     "start_time": "2021-04-04T23:11:29.989666",
     "status": "completed"
    },
    "tags": []
   },
   "outputs": [],
   "source": [
    "X_train, y_train = pd.concat([X_inlier_train, X_outlier_train], ignore_index=True), pd.concat([y_inlier_train, y_outlier_train], ignore_index=True)\n",
    "X_test, y_test = pd.concat([X_inlier_test, X_outlier_test], ignore_index=True), pd.concat([y_inlier_test, y_outlier_test], ignore_index=True)"
   ]
  },
  {
   "cell_type": "markdown",
   "id": "7cde7309",
   "metadata": {
    "papermill": {
     "duration": 0.02271,
     "end_time": "2021-04-04T23:11:30.076273",
     "exception": false,
     "start_time": "2021-04-04T23:11:30.053563",
     "status": "completed"
    },
    "tags": []
   },
   "source": [
    "# Model"
   ]
  },
  {
   "cell_type": "code",
   "execution_count": 20,
   "id": "2b12a415",
   "metadata": {
    "execution": {
     "iopub.execute_input": "2021-04-04T23:11:30.135848Z",
     "iopub.status.busy": "2021-04-04T23:11:30.135117Z",
     "iopub.status.idle": "2021-04-04T23:11:30.138323Z",
     "shell.execute_reply": "2021-04-04T23:11:30.137430Z"
    },
    "papermill": {
     "duration": 0.039794,
     "end_time": "2021-04-04T23:11:30.138519",
     "exception": false,
     "start_time": "2021-04-04T23:11:30.098725",
     "status": "completed"
    },
    "tags": []
   },
   "outputs": [],
   "source": [
    "from math import sqrt\n",
    "\n",
    "\n",
    "class KNNDataDescription:\n",
    "    def __init__(self, k=5, outlier_threshold=1.0):\n",
    "        self.k = k\n",
    "        self.outlier_threshold = outlier_threshold\n",
    "        self.X = []\n",
    "    \n",
    "    def fit(self, X):\n",
    "        self.X = [features.to_list() for index, features in X.iterrows()]\n",
    "\n",
    "    def predict(self, entries):\n",
    "        return [self.predict_entry(features.to_list()) for index, features in entries.iterrows()]\n",
    "    \n",
    "    def predict_entry(self, entry):\n",
    "        kth_neighbor, kth_distance = self.get_kth_neighbor(entry, self.k)\n",
    "        kth_kth_neighbor, kth_kth_distance = self.get_kth_neighbor(kth_neighbor, self.k + 1)\n",
    "\n",
    "        outlier_score = kth_distance / (kth_kth_distance + 0.000001)\n",
    "\n",
    "        return 1 if outlier_score < self.outlier_threshold else -1\n",
    "        \n",
    "    def euclidean_distance(self, features1, features2):\n",
    "        distance = 0.0\n",
    "        for feat1, feat2 in zip(features1, features2):\n",
    "            distance += (feat1 - feat2)**2\n",
    "                \n",
    "        return sqrt(distance)\n",
    "\n",
    "    def get_neighbors(self, entry, k):\n",
    "        distance_to_data_points = [\n",
    "            (data_point, self.euclidean_distance(entry, data_point))\n",
    "            for data_point in self.X\n",
    "        ]\n",
    "        sorted_by_distance = sorted(distance_to_data_points, key=lambda tup: tup[1])\n",
    "        neighbors = sorted_by_distance[:k]\n",
    "        return neighbors\n",
    "\n",
    "    def get_kth_neighbor(self, entry, k):\n",
    "        neighbors = self.get_neighbors(entry, k)\n",
    "        return neighbors[-1]\n"
   ]
  },
  {
   "cell_type": "code",
   "execution_count": 21,
   "id": "1fa9ec1c",
   "metadata": {
    "execution": {
     "iopub.execute_input": "2021-04-04T23:11:30.197792Z",
     "iopub.status.busy": "2021-04-04T23:11:30.196820Z",
     "iopub.status.idle": "2021-04-04T23:11:30.220214Z",
     "shell.execute_reply": "2021-04-04T23:11:30.220946Z"
    },
    "papermill": {
     "duration": 0.051619,
     "end_time": "2021-04-04T23:11:30.221152",
     "exception": false,
     "start_time": "2021-04-04T23:11:30.169533",
     "status": "completed"
    },
    "tags": []
   },
   "outputs": [],
   "source": [
    "from sklearn.svm import OneClassSVM\n",
    "\n",
    "\n",
    "models = {\n",
    "    'oneclasssvm': OneClassSVM,\n",
    "    'knndatadescription': KNNDataDescription,\n",
    "}"
   ]
  },
  {
   "cell_type": "code",
   "execution_count": 22,
   "id": "4d72a0b1",
   "metadata": {
    "execution": {
     "iopub.execute_input": "2021-04-04T23:11:30.278232Z",
     "iopub.status.busy": "2021-04-04T23:11:30.277214Z",
     "iopub.status.idle": "2021-04-04T23:11:30.280572Z",
     "shell.execute_reply": "2021-04-04T23:11:30.279721Z"
    },
    "papermill": {
     "duration": 0.030786,
     "end_time": "2021-04-04T23:11:30.280760",
     "exception": false,
     "start_time": "2021-04-04T23:11:30.249974",
     "status": "completed"
    },
    "scrolled": true,
    "tags": []
   },
   "outputs": [],
   "source": [
    "model_cls = models[model_config['model_type']]\n",
    "model = model_cls(**model_config['hyperparameters'])"
   ]
  },
  {
   "cell_type": "markdown",
   "id": "e00cff3b",
   "metadata": {
    "papermill": {
     "duration": 0.022255,
     "end_time": "2021-04-04T23:11:30.332617",
     "exception": false,
     "start_time": "2021-04-04T23:11:30.310362",
     "status": "completed"
    },
    "tags": []
   },
   "source": [
    "# Fit"
   ]
  },
  {
   "cell_type": "code",
   "execution_count": 23,
   "id": "8b2ded89",
   "metadata": {
    "execution": {
     "iopub.execute_input": "2021-04-04T23:11:30.393399Z",
     "iopub.status.busy": "2021-04-04T23:11:30.392557Z",
     "iopub.status.idle": "2021-04-04T23:11:30.404036Z",
     "shell.execute_reply": "2021-04-04T23:11:30.402946Z"
    },
    "papermill": {
     "duration": 0.043999,
     "end_time": "2021-04-04T23:11:30.404304",
     "exception": false,
     "start_time": "2021-04-04T23:11:30.360305",
     "status": "completed"
    },
    "tags": []
   },
   "outputs": [
    {
     "data": {
      "text/plain": [
       "OneClassSVM()"
      ]
     },
     "execution_count": 23,
     "metadata": {},
     "output_type": "execute_result"
    }
   ],
   "source": [
    "model.fit(X_train)"
   ]
  },
  {
   "cell_type": "markdown",
   "id": "f99999f7",
   "metadata": {
    "papermill": {
     "duration": 0.022798,
     "end_time": "2021-04-04T23:11:30.457352",
     "exception": false,
     "start_time": "2021-04-04T23:11:30.434554",
     "status": "completed"
    },
    "tags": []
   },
   "source": [
    "# Predict"
   ]
  },
  {
   "cell_type": "code",
   "execution_count": 24,
   "id": "6536fbf7",
   "metadata": {
    "execution": {
     "iopub.execute_input": "2021-04-04T23:11:30.512916Z",
     "iopub.status.busy": "2021-04-04T23:11:30.512257Z",
     "iopub.status.idle": "2021-04-04T23:11:30.519029Z",
     "shell.execute_reply": "2021-04-04T23:11:30.517836Z"
    },
    "papermill": {
     "duration": 0.038711,
     "end_time": "2021-04-04T23:11:30.519265",
     "exception": false,
     "start_time": "2021-04-04T23:11:30.480554",
     "status": "completed"
    },
    "tags": []
   },
   "outputs": [],
   "source": [
    "predictions = model.predict(X_test)"
   ]
  },
  {
   "cell_type": "markdown",
   "id": "aa1c9881",
   "metadata": {
    "papermill": {
     "duration": 0.023088,
     "end_time": "2021-04-04T23:11:30.574914",
     "exception": false,
     "start_time": "2021-04-04T23:11:30.551826",
     "status": "completed"
    },
    "tags": []
   },
   "source": [
    "# Evaluate"
   ]
  },
  {
   "cell_type": "code",
   "execution_count": 25,
   "id": "894f0f04",
   "metadata": {
    "execution": {
     "iopub.execute_input": "2021-04-04T23:11:30.626845Z",
     "iopub.status.busy": "2021-04-04T23:11:30.625962Z",
     "iopub.status.idle": "2021-04-04T23:11:30.629172Z",
     "shell.execute_reply": "2021-04-04T23:11:30.630047Z"
    },
    "papermill": {
     "duration": 0.0319,
     "end_time": "2021-04-04T23:11:30.630288",
     "exception": false,
     "start_time": "2021-04-04T23:11:30.598388",
     "status": "completed"
    },
    "tags": []
   },
   "outputs": [],
   "source": [
    "from sklearn.metrics import f1_score"
   ]
  },
  {
   "cell_type": "code",
   "execution_count": 26,
   "id": "211744d3",
   "metadata": {
    "execution": {
     "iopub.execute_input": "2021-04-04T23:11:30.687273Z",
     "iopub.status.busy": "2021-04-04T23:11:30.686108Z",
     "iopub.status.idle": "2021-04-04T23:11:30.690003Z",
     "shell.execute_reply": "2021-04-04T23:11:30.688978Z"
    },
    "papermill": {
     "duration": 0.033089,
     "end_time": "2021-04-04T23:11:30.690196",
     "exception": false,
     "start_time": "2021-04-04T23:11:30.657107",
     "status": "completed"
    },
    "tags": []
   },
   "outputs": [],
   "source": [
    "y_test = y_test.replace([0, 1], [1, -1])"
   ]
  },
  {
   "cell_type": "code",
   "execution_count": 27,
   "id": "d68a9204",
   "metadata": {
    "execution": {
     "iopub.execute_input": "2021-04-04T23:11:30.752329Z",
     "iopub.status.busy": "2021-04-04T23:11:30.750751Z",
     "iopub.status.idle": "2021-04-04T23:11:30.763320Z",
     "shell.execute_reply": "2021-04-04T23:11:30.763907Z"
    },
    "papermill": {
     "duration": 0.046745,
     "end_time": "2021-04-04T23:11:30.764113",
     "exception": false,
     "start_time": "2021-04-04T23:11:30.717368",
     "status": "completed"
    },
    "tags": []
   },
   "outputs": [],
   "source": [
    "def evaluate(truths, predictions, pos_label, neg_label):\n",
    "    TP = 0\n",
    "    FP = 0\n",
    "    TN = 0\n",
    "    FN = 0\n",
    "\n",
    "    for truth, pred in zip(truths, predictions): \n",
    "        if truth == pred == pos_label:\n",
    "           TP += 1\n",
    "        elif pred == pos_label and truth == neg_label:\n",
    "           FP += 1\n",
    "        elif truth == pred == neg_label:\n",
    "           TN += 1\n",
    "        elif pred == neg_label and truth == pos_label:\n",
    "           FN += 1\n",
    "\n",
    "    precision = TP / (TP + FP)\n",
    "    sensitivity = TP / (TP + FN)\n",
    "    \n",
    "    return {\n",
    "        'true_pos': TP,\n",
    "        'false_pos': FP,\n",
    "        'false_neg': FN,\n",
    "        'true_neg': TN,\n",
    "        'precision': precision,\n",
    "        'sensitivity': sensitivity,\n",
    "        'f1': (2 * (precision * sensitivity)) / (precision + sensitivity)\n",
    "    }\n",
    "\n",
    "score = evaluate(y_test, predictions, pos_label=-1, neg_label=1)"
   ]
  },
  {
   "cell_type": "markdown",
   "id": "93596516",
   "metadata": {
    "papermill": {
     "duration": 0.024878,
     "end_time": "2021-04-04T23:11:30.815175",
     "exception": false,
     "start_time": "2021-04-04T23:11:30.790297",
     "status": "completed"
    },
    "tags": []
   },
   "source": [
    "# Report"
   ]
  },
  {
   "cell_type": "code",
   "execution_count": 28,
   "id": "bea5fba1",
   "metadata": {
    "execution": {
     "iopub.execute_input": "2021-04-04T23:11:30.869976Z",
     "iopub.status.busy": "2021-04-04T23:11:30.869270Z",
     "iopub.status.idle": "2021-04-04T23:11:30.872697Z",
     "shell.execute_reply": "2021-04-04T23:11:30.872177Z"
    },
    "papermill": {
     "duration": 0.033754,
     "end_time": "2021-04-04T23:11:30.872818",
     "exception": false,
     "start_time": "2021-04-04T23:11:30.839064",
     "status": "completed"
    },
    "tags": []
   },
   "outputs": [],
   "source": [
    "import csv\n",
    "\n",
    "\n",
    "dataset_config_name = DATASET_CONFIG_PATH.split('/')[-1].split('.')[0]\n",
    "model_config_name = MODEL_CONFIG_PATH.split('/')[-1].split('.')[0]\n",
    "configuration = f\"dataset_{dataset_config_name}-model_{model_config_name}\"\n",
    "\n",
    "with open('results.csv', 'a') as f:\n",
    "    report = dict({'configuration': configuration}, **score)\n",
    "    writer = csv.DictWriter(f, report.keys())\n",
    "    writer.writerow(report)"
   ]
  }
 ],
 "metadata": {
  "celltoolbar": "Tags",
  "kernelspec": {
   "display_name": "Python 3",
   "language": "python",
   "name": "python3"
  },
  "language_info": {
   "codemirror_mode": {
    "name": "ipython",
    "version": 3
   },
   "file_extension": ".py",
   "mimetype": "text/x-python",
   "name": "python",
   "nbconvert_exporter": "python",
   "pygments_lexer": "ipython3",
   "version": "3.9.1"
  },
  "papermill": {
   "default_parameters": {},
   "duration": 4.818884,
   "end_time": "2021-04-04T23:11:31.512336",
   "environment_variables": {},
   "exception": null,
   "input_path": "main.ipynb",
   "output_path": "runs/dataset_000096-model_000004.ipynb",
   "parameters": {
    "DATASET_CONFIG_PATH": "config/dataset/000096.json",
    "MODEL_CONFIG_PATH": "config/model/000004.json",
    "PROFILE_REPORTING": false
   },
   "start_time": "2021-04-04T23:11:26.693452",
   "version": "2.3.3"
  }
 },
 "nbformat": 4,
 "nbformat_minor": 5
}