{
 "cells": [
  {
   "cell_type": "markdown",
   "id": "51c71c25",
   "metadata": {
    "papermill": {
     "duration": 0.0285,
     "end_time": "2021-04-04T23:13:27.701675",
     "exception": false,
     "start_time": "2021-04-04T23:13:27.673175",
     "status": "completed"
    },
    "tags": []
   },
   "source": [
    "# Parametrizing"
   ]
  },
  {
   "cell_type": "code",
   "execution_count": 1,
   "id": "3b136394",
   "metadata": {
    "execution": {
     "iopub.execute_input": "2021-04-04T23:13:27.760234Z",
     "iopub.status.busy": "2021-04-04T23:13:27.758992Z",
     "iopub.status.idle": "2021-04-04T23:13:27.762304Z",
     "shell.execute_reply": "2021-04-04T23:13:27.761527Z"
    },
    "papermill": {
     "duration": 0.040646,
     "end_time": "2021-04-04T23:13:27.762467",
     "exception": false,
     "start_time": "2021-04-04T23:13:27.721821",
     "status": "completed"
    },
    "tags": [
     "parameters"
    ]
   },
   "outputs": [],
   "source": [
    "DATASET_CONFIG_PATH = 'config/dataset/kc1_001.json'\n",
    "MODEL_CONFIG_PATH = 'config/model/knndd_001.json'\n",
    "PROFILE_REPORTING = False"
   ]
  },
  {
   "cell_type": "code",
   "execution_count": 2,
   "id": "62e50f3b",
   "metadata": {
    "execution": {
     "iopub.execute_input": "2021-04-04T23:13:27.811519Z",
     "iopub.status.busy": "2021-04-04T23:13:27.810851Z",
     "iopub.status.idle": "2021-04-04T23:13:27.812816Z",
     "shell.execute_reply": "2021-04-04T23:13:27.813296Z"
    },
    "papermill": {
     "duration": 0.027445,
     "end_time": "2021-04-04T23:13:27.813440",
     "exception": false,
     "start_time": "2021-04-04T23:13:27.785995",
     "status": "completed"
    },
    "tags": [
     "injected-parameters"
    ]
   },
   "outputs": [],
   "source": [
    "# Parameters\n",
    "DATASET_CONFIG_PATH = \"config/dataset/000102.json\"\n",
    "MODEL_CONFIG_PATH = \"config/model/000001.json\"\n",
    "PROFILE_REPORTING = False\n"
   ]
  },
  {
   "cell_type": "code",
   "execution_count": 3,
   "id": "b80f2a10",
   "metadata": {
    "execution": {
     "iopub.execute_input": "2021-04-04T23:13:27.858052Z",
     "iopub.status.busy": "2021-04-04T23:13:27.857372Z",
     "iopub.status.idle": "2021-04-04T23:13:27.860116Z",
     "shell.execute_reply": "2021-04-04T23:13:27.860579Z"
    },
    "papermill": {
     "duration": 0.026753,
     "end_time": "2021-04-04T23:13:27.860719",
     "exception": false,
     "start_time": "2021-04-04T23:13:27.833966",
     "status": "completed"
    },
    "tags": []
   },
   "outputs": [],
   "source": [
    "import json\n",
    "\n",
    "\n",
    "with open(DATASET_CONFIG_PATH) as f:\n",
    "    dataset_config = json.load(f)\n",
    "\n",
    "with open(MODEL_CONFIG_PATH) as f:\n",
    "    model_config = json.load(f)"
   ]
  },
  {
   "cell_type": "markdown",
   "id": "9a4b0e2d",
   "metadata": {
    "papermill": {
     "duration": 0.019824,
     "end_time": "2021-04-04T23:13:27.901220",
     "exception": false,
     "start_time": "2021-04-04T23:13:27.881396",
     "status": "completed"
    },
    "tags": []
   },
   "source": [
    "# Profiling"
   ]
  },
  {
   "cell_type": "code",
   "execution_count": 4,
   "id": "a3e0289b",
   "metadata": {
    "execution": {
     "iopub.execute_input": "2021-04-04T23:13:27.944021Z",
     "iopub.status.busy": "2021-04-04T23:13:27.943340Z",
     "iopub.status.idle": "2021-04-04T23:13:29.199213Z",
     "shell.execute_reply": "2021-04-04T23:13:29.198615Z"
    },
    "papermill": {
     "duration": 1.278839,
     "end_time": "2021-04-04T23:13:29.199332",
     "exception": false,
     "start_time": "2021-04-04T23:13:27.920493",
     "status": "completed"
    },
    "tags": []
   },
   "outputs": [],
   "source": [
    "import pandas as pd\n",
    "from pandas_profiling import ProfileReport"
   ]
  },
  {
   "cell_type": "code",
   "execution_count": 5,
   "id": "ee6c0666",
   "metadata": {
    "execution": {
     "iopub.execute_input": "2021-04-04T23:13:29.247745Z",
     "iopub.status.busy": "2021-04-04T23:13:29.245831Z",
     "iopub.status.idle": "2021-04-04T23:13:29.258556Z",
     "shell.execute_reply": "2021-04-04T23:13:29.257572Z"
    },
    "papermill": {
     "duration": 0.037783,
     "end_time": "2021-04-04T23:13:29.258831",
     "exception": false,
     "start_time": "2021-04-04T23:13:29.221048",
     "status": "completed"
    },
    "tags": []
   },
   "outputs": [],
   "source": [
    "df = pd.read_csv(dataset_config['dataset_path'])"
   ]
  },
  {
   "cell_type": "code",
   "execution_count": 6,
   "id": "7eca6c4a",
   "metadata": {
    "execution": {
     "iopub.execute_input": "2021-04-04T23:13:29.323897Z",
     "iopub.status.busy": "2021-04-04T23:13:29.314091Z",
     "iopub.status.idle": "2021-04-04T23:13:29.328547Z",
     "shell.execute_reply": "2021-04-04T23:13:29.327651Z"
    },
    "papermill": {
     "duration": 0.040897,
     "end_time": "2021-04-04T23:13:29.328743",
     "exception": false,
     "start_time": "2021-04-04T23:13:29.287846",
     "status": "completed"
    },
    "tags": []
   },
   "outputs": [
    {
     "name": "stdout",
     "output_type": "stream",
     "text": [
      "<class 'pandas.core.frame.DataFrame'>\n",
      "RangeIndex: 498 entries, 0 to 497\n",
      "Data columns (total 23 columns):\n",
      " #   Column             Non-Null Count  Dtype  \n",
      "---  ------             --------------  -----  \n",
      " 0   id                 498 non-null    int64  \n",
      " 1   loc                498 non-null    float64\n",
      " 2   v(g)               498 non-null    float64\n",
      " 3   ev(g)              498 non-null    float64\n",
      " 4   iv(g)              498 non-null    float64\n",
      " 5   n                  498 non-null    float64\n",
      " 6   v                  498 non-null    float64\n",
      " 7   l                  498 non-null    float64\n",
      " 8   d                  498 non-null    float64\n",
      " 9   i                  498 non-null    float64\n",
      " 10  e                  498 non-null    float64\n",
      " 11  b                  498 non-null    float64\n",
      " 12  t                  498 non-null    float64\n",
      " 13  lOCode             498 non-null    int64  \n",
      " 14  lOComment          498 non-null    int64  \n",
      " 15  lOBlank            498 non-null    int64  \n",
      " 16  locCodeAndComment  498 non-null    int64  \n",
      " 17  uniq_Op            498 non-null    float64\n",
      " 18  uniq_Opnd          498 non-null    float64\n",
      " 19  total_Op           498 non-null    float64\n",
      " 20  total_Opnd         498 non-null    float64\n",
      " 21  branchCount        498 non-null    float64\n",
      " 22  defects            498 non-null    bool   \n",
      "dtypes: bool(1), float64(17), int64(5)\n",
      "memory usage: 86.2 KB\n"
     ]
    }
   ],
   "source": [
    "df.info()"
   ]
  },
  {
   "cell_type": "code",
   "execution_count": 7,
   "id": "3638e5e8",
   "metadata": {
    "execution": {
     "iopub.execute_input": "2021-04-04T23:13:29.388557Z",
     "iopub.status.busy": "2021-04-04T23:13:29.387601Z",
     "iopub.status.idle": "2021-04-04T23:13:29.417886Z",
     "shell.execute_reply": "2021-04-04T23:13:29.416928Z"
    },
    "papermill": {
     "duration": 0.061054,
     "end_time": "2021-04-04T23:13:29.418142",
     "exception": false,
     "start_time": "2021-04-04T23:13:29.357088",
     "status": "completed"
    },
    "tags": []
   },
   "outputs": [
    {
     "data": {
      "text/html": [
       "<div>\n",
       "<style scoped>\n",
       "    .dataframe tbody tr th:only-of-type {\n",
       "        vertical-align: middle;\n",
       "    }\n",
       "\n",
       "    .dataframe tbody tr th {\n",
       "        vertical-align: top;\n",
       "    }\n",
       "\n",
       "    .dataframe thead th {\n",
       "        text-align: right;\n",
       "    }\n",
       "</style>\n",
       "<table border=\"1\" class=\"dataframe\">\n",
       "  <thead>\n",
       "    <tr style=\"text-align: right;\">\n",
       "      <th></th>\n",
       "      <th>id</th>\n",
       "      <th>loc</th>\n",
       "      <th>v(g)</th>\n",
       "      <th>ev(g)</th>\n",
       "      <th>iv(g)</th>\n",
       "      <th>n</th>\n",
       "      <th>v</th>\n",
       "      <th>l</th>\n",
       "      <th>d</th>\n",
       "      <th>i</th>\n",
       "      <th>...</th>\n",
       "      <th>lOCode</th>\n",
       "      <th>lOComment</th>\n",
       "      <th>lOBlank</th>\n",
       "      <th>locCodeAndComment</th>\n",
       "      <th>uniq_Op</th>\n",
       "      <th>uniq_Opnd</th>\n",
       "      <th>total_Op</th>\n",
       "      <th>total_Opnd</th>\n",
       "      <th>branchCount</th>\n",
       "      <th>defects</th>\n",
       "    </tr>\n",
       "  </thead>\n",
       "  <tbody>\n",
       "    <tr>\n",
       "      <th>0</th>\n",
       "      <td>1</td>\n",
       "      <td>1.1</td>\n",
       "      <td>1.4</td>\n",
       "      <td>1.4</td>\n",
       "      <td>1.4</td>\n",
       "      <td>1.3</td>\n",
       "      <td>1.30</td>\n",
       "      <td>1.30</td>\n",
       "      <td>1.30</td>\n",
       "      <td>1.30</td>\n",
       "      <td>...</td>\n",
       "      <td>2</td>\n",
       "      <td>2</td>\n",
       "      <td>2</td>\n",
       "      <td>2</td>\n",
       "      <td>1.2</td>\n",
       "      <td>1.2</td>\n",
       "      <td>1.2</td>\n",
       "      <td>1.2</td>\n",
       "      <td>1.4</td>\n",
       "      <td>False</td>\n",
       "    </tr>\n",
       "    <tr>\n",
       "      <th>1</th>\n",
       "      <td>2</td>\n",
       "      <td>1.0</td>\n",
       "      <td>1.0</td>\n",
       "      <td>1.0</td>\n",
       "      <td>1.0</td>\n",
       "      <td>1.0</td>\n",
       "      <td>1.00</td>\n",
       "      <td>1.00</td>\n",
       "      <td>1.00</td>\n",
       "      <td>1.00</td>\n",
       "      <td>...</td>\n",
       "      <td>1</td>\n",
       "      <td>1</td>\n",
       "      <td>1</td>\n",
       "      <td>1</td>\n",
       "      <td>1.0</td>\n",
       "      <td>1.0</td>\n",
       "      <td>1.0</td>\n",
       "      <td>1.0</td>\n",
       "      <td>1.0</td>\n",
       "      <td>True</td>\n",
       "    </tr>\n",
       "    <tr>\n",
       "      <th>2</th>\n",
       "      <td>3</td>\n",
       "      <td>24.0</td>\n",
       "      <td>5.0</td>\n",
       "      <td>1.0</td>\n",
       "      <td>3.0</td>\n",
       "      <td>63.0</td>\n",
       "      <td>309.13</td>\n",
       "      <td>0.11</td>\n",
       "      <td>9.50</td>\n",
       "      <td>32.54</td>\n",
       "      <td>...</td>\n",
       "      <td>1</td>\n",
       "      <td>0</td>\n",
       "      <td>6</td>\n",
       "      <td>0</td>\n",
       "      <td>15.0</td>\n",
       "      <td>15.0</td>\n",
       "      <td>44.0</td>\n",
       "      <td>19.0</td>\n",
       "      <td>9.0</td>\n",
       "      <td>False</td>\n",
       "    </tr>\n",
       "    <tr>\n",
       "      <th>3</th>\n",
       "      <td>4</td>\n",
       "      <td>20.0</td>\n",
       "      <td>4.0</td>\n",
       "      <td>4.0</td>\n",
       "      <td>2.0</td>\n",
       "      <td>47.0</td>\n",
       "      <td>215.49</td>\n",
       "      <td>0.06</td>\n",
       "      <td>16.00</td>\n",
       "      <td>13.47</td>\n",
       "      <td>...</td>\n",
       "      <td>0</td>\n",
       "      <td>0</td>\n",
       "      <td>3</td>\n",
       "      <td>0</td>\n",
       "      <td>16.0</td>\n",
       "      <td>8.0</td>\n",
       "      <td>31.0</td>\n",
       "      <td>16.0</td>\n",
       "      <td>7.0</td>\n",
       "      <td>False</td>\n",
       "    </tr>\n",
       "    <tr>\n",
       "      <th>4</th>\n",
       "      <td>5</td>\n",
       "      <td>24.0</td>\n",
       "      <td>6.0</td>\n",
       "      <td>6.0</td>\n",
       "      <td>2.0</td>\n",
       "      <td>72.0</td>\n",
       "      <td>346.13</td>\n",
       "      <td>0.06</td>\n",
       "      <td>17.33</td>\n",
       "      <td>19.97</td>\n",
       "      <td>...</td>\n",
       "      <td>0</td>\n",
       "      <td>0</td>\n",
       "      <td>3</td>\n",
       "      <td>0</td>\n",
       "      <td>16.0</td>\n",
       "      <td>12.0</td>\n",
       "      <td>46.0</td>\n",
       "      <td>26.0</td>\n",
       "      <td>11.0</td>\n",
       "      <td>False</td>\n",
       "    </tr>\n",
       "  </tbody>\n",
       "</table>\n",
       "<p>5 rows × 23 columns</p>\n",
       "</div>"
      ],
      "text/plain": [
       "   id   loc  v(g)  ev(g)  iv(g)     n       v     l      d      i  ...  \\\n",
       "0   1   1.1   1.4    1.4    1.4   1.3    1.30  1.30   1.30   1.30  ...   \n",
       "1   2   1.0   1.0    1.0    1.0   1.0    1.00  1.00   1.00   1.00  ...   \n",
       "2   3  24.0   5.0    1.0    3.0  63.0  309.13  0.11   9.50  32.54  ...   \n",
       "3   4  20.0   4.0    4.0    2.0  47.0  215.49  0.06  16.00  13.47  ...   \n",
       "4   5  24.0   6.0    6.0    2.0  72.0  346.13  0.06  17.33  19.97  ...   \n",
       "\n",
       "   lOCode  lOComment  lOBlank  locCodeAndComment  uniq_Op  uniq_Opnd  \\\n",
       "0       2          2        2                  2      1.2        1.2   \n",
       "1       1          1        1                  1      1.0        1.0   \n",
       "2       1          0        6                  0     15.0       15.0   \n",
       "3       0          0        3                  0     16.0        8.0   \n",
       "4       0          0        3                  0     16.0       12.0   \n",
       "\n",
       "   total_Op  total_Opnd  branchCount  defects  \n",
       "0       1.2         1.2          1.4    False  \n",
       "1       1.0         1.0          1.0     True  \n",
       "2      44.0        19.0          9.0    False  \n",
       "3      31.0        16.0          7.0    False  \n",
       "4      46.0        26.0         11.0    False  \n",
       "\n",
       "[5 rows x 23 columns]"
      ]
     },
     "execution_count": 7,
     "metadata": {},
     "output_type": "execute_result"
    }
   ],
   "source": [
    "df.head()"
   ]
  },
  {
   "cell_type": "code",
   "execution_count": 8,
   "id": "733e95eb",
   "metadata": {
    "execution": {
     "iopub.execute_input": "2021-04-04T23:13:29.475199Z",
     "iopub.status.busy": "2021-04-04T23:13:29.474331Z",
     "iopub.status.idle": "2021-04-04T23:13:29.477275Z",
     "shell.execute_reply": "2021-04-04T23:13:29.477991Z"
    },
    "papermill": {
     "duration": 0.030264,
     "end_time": "2021-04-04T23:13:29.478193",
     "exception": false,
     "start_time": "2021-04-04T23:13:29.447929",
     "status": "completed"
    },
    "tags": []
   },
   "outputs": [],
   "source": [
    "del df['id']"
   ]
  },
  {
   "cell_type": "code",
   "execution_count": 9,
   "id": "6ff6f5b0",
   "metadata": {
    "execution": {
     "iopub.execute_input": "2021-04-04T23:13:29.531884Z",
     "iopub.status.busy": "2021-04-04T23:13:29.531011Z",
     "iopub.status.idle": "2021-04-04T23:13:29.534026Z",
     "shell.execute_reply": "2021-04-04T23:13:29.533437Z"
    },
    "papermill": {
     "duration": 0.029122,
     "end_time": "2021-04-04T23:13:29.534145",
     "exception": false,
     "start_time": "2021-04-04T23:13:29.505023",
     "status": "completed"
    },
    "tags": []
   },
   "outputs": [],
   "source": [
    "if PROFILE_REPORTING:\n",
    "    ProfileReport(df).to_widgets()"
   ]
  },
  {
   "cell_type": "markdown",
   "id": "1deaf3f0",
   "metadata": {
    "papermill": {
     "duration": 0.020941,
     "end_time": "2021-04-04T23:13:29.579477",
     "exception": false,
     "start_time": "2021-04-04T23:13:29.558536",
     "status": "completed"
    },
    "tags": []
   },
   "source": [
    "# Preprocess"
   ]
  },
  {
   "cell_type": "code",
   "execution_count": 10,
   "id": "1513e563",
   "metadata": {
    "execution": {
     "iopub.execute_input": "2021-04-04T23:13:29.627337Z",
     "iopub.status.busy": "2021-04-04T23:13:29.626668Z",
     "iopub.status.idle": "2021-04-04T23:13:29.629845Z",
     "shell.execute_reply": "2021-04-04T23:13:29.630718Z"
    },
    "papermill": {
     "duration": 0.030049,
     "end_time": "2021-04-04T23:13:29.630955",
     "exception": false,
     "start_time": "2021-04-04T23:13:29.600906",
     "status": "completed"
    },
    "tags": []
   },
   "outputs": [],
   "source": [
    "working_df = df.copy()"
   ]
  },
  {
   "cell_type": "code",
   "execution_count": 11,
   "id": "3b26d675",
   "metadata": {
    "execution": {
     "iopub.execute_input": "2021-04-04T23:13:29.685209Z",
     "iopub.status.busy": "2021-04-04T23:13:29.684212Z",
     "iopub.status.idle": "2021-04-04T23:13:29.686578Z",
     "shell.execute_reply": "2021-04-04T23:13:29.687454Z"
    },
    "papermill": {
     "duration": 0.032031,
     "end_time": "2021-04-04T23:13:29.687657",
     "exception": false,
     "start_time": "2021-04-04T23:13:29.655626",
     "status": "completed"
    },
    "tags": []
   },
   "outputs": [],
   "source": [
    "working_df['defects'] = working_df['defects'].replace([False, True], [0, 1])"
   ]
  },
  {
   "cell_type": "code",
   "execution_count": 12,
   "id": "eb48604f",
   "metadata": {
    "execution": {
     "iopub.execute_input": "2021-04-04T23:13:29.740455Z",
     "iopub.status.busy": "2021-04-04T23:13:29.739236Z",
     "iopub.status.idle": "2021-04-04T23:13:29.744068Z",
     "shell.execute_reply": "2021-04-04T23:13:29.742396Z"
    },
    "papermill": {
     "duration": 0.03178,
     "end_time": "2021-04-04T23:13:29.744641",
     "exception": false,
     "start_time": "2021-04-04T23:13:29.712861",
     "status": "completed"
    },
    "tags": []
   },
   "outputs": [],
   "source": [
    "for col in dataset_config['delete_columns']:\n",
    "    del working_df[col]"
   ]
  },
  {
   "cell_type": "code",
   "execution_count": 13,
   "id": "9a17bc29",
   "metadata": {
    "execution": {
     "iopub.execute_input": "2021-04-04T23:13:29.798705Z",
     "iopub.status.busy": "2021-04-04T23:13:29.798017Z",
     "iopub.status.idle": "2021-04-04T23:13:29.810730Z",
     "shell.execute_reply": "2021-04-04T23:13:29.809562Z"
    },
    "papermill": {
     "duration": 0.040204,
     "end_time": "2021-04-04T23:13:29.810928",
     "exception": false,
     "start_time": "2021-04-04T23:13:29.770724",
     "status": "completed"
    },
    "tags": []
   },
   "outputs": [],
   "source": [
    "working_df = working_df.drop_duplicates()"
   ]
  },
  {
   "cell_type": "markdown",
   "id": "a4d52ca6",
   "metadata": {
    "papermill": {
     "duration": 0.02283,
     "end_time": "2021-04-04T23:13:29.863199",
     "exception": false,
     "start_time": "2021-04-04T23:13:29.840369",
     "status": "completed"
    },
    "tags": []
   },
   "source": [
    "# Split"
   ]
  },
  {
   "cell_type": "code",
   "execution_count": 14,
   "id": "3e9ee4b5",
   "metadata": {
    "execution": {
     "iopub.execute_input": "2021-04-04T23:13:29.912350Z",
     "iopub.status.busy": "2021-04-04T23:13:29.911278Z",
     "iopub.status.idle": "2021-04-04T23:13:29.943556Z",
     "shell.execute_reply": "2021-04-04T23:13:29.942616Z"
    },
    "papermill": {
     "duration": 0.058722,
     "end_time": "2021-04-04T23:13:29.943735",
     "exception": false,
     "start_time": "2021-04-04T23:13:29.885013",
     "status": "completed"
    },
    "tags": []
   },
   "outputs": [],
   "source": [
    "from sklearn.model_selection import train_test_split"
   ]
  },
  {
   "cell_type": "code",
   "execution_count": 15,
   "id": "274004ce",
   "metadata": {
    "execution": {
     "iopub.execute_input": "2021-04-04T23:13:30.000281Z",
     "iopub.status.busy": "2021-04-04T23:13:29.999258Z",
     "iopub.status.idle": "2021-04-04T23:13:30.005411Z",
     "shell.execute_reply": "2021-04-04T23:13:30.006232Z"
    },
    "papermill": {
     "duration": 0.034369,
     "end_time": "2021-04-04T23:13:30.006458",
     "exception": false,
     "start_time": "2021-04-04T23:13:29.972089",
     "status": "completed"
    },
    "scrolled": true,
    "tags": []
   },
   "outputs": [],
   "source": [
    "inlier, outlier = working_df[working_df['defects'] == 0], working_df[working_df['defects'] == 1]"
   ]
  },
  {
   "cell_type": "code",
   "execution_count": 16,
   "id": "753c7b03",
   "metadata": {
    "execution": {
     "iopub.execute_input": "2021-04-04T23:13:30.062307Z",
     "iopub.status.busy": "2021-04-04T23:13:30.061438Z",
     "iopub.status.idle": "2021-04-04T23:13:30.064788Z",
     "shell.execute_reply": "2021-04-04T23:13:30.065271Z"
    },
    "papermill": {
     "duration": 0.031684,
     "end_time": "2021-04-04T23:13:30.065421",
     "exception": false,
     "start_time": "2021-04-04T23:13:30.033737",
     "status": "completed"
    },
    "tags": []
   },
   "outputs": [],
   "source": [
    "X_inlier = inlier.copy()\n",
    "y_inlier = X_inlier.pop('defects')\n",
    "X_outlier = outlier.copy()\n",
    "y_outlier = X_outlier.pop('defects')"
   ]
  },
  {
   "cell_type": "code",
   "execution_count": 17,
   "id": "2ba43193",
   "metadata": {
    "execution": {
     "iopub.execute_input": "2021-04-04T23:13:30.121975Z",
     "iopub.status.busy": "2021-04-04T23:13:30.120758Z",
     "iopub.status.idle": "2021-04-04T23:13:30.124203Z",
     "shell.execute_reply": "2021-04-04T23:13:30.123382Z"
    },
    "papermill": {
     "duration": 0.034234,
     "end_time": "2021-04-04T23:13:30.124369",
     "exception": false,
     "start_time": "2021-04-04T23:13:30.090135",
     "status": "completed"
    },
    "tags": []
   },
   "outputs": [],
   "source": [
    "test_size = dataset_config['test_size']\n",
    "random_state = dataset_config['random_state']\n",
    "\n",
    "X_inlier_train, X_inlier_test, y_inlier_train, y_inlier_test = train_test_split(\n",
    "    X_inlier,\n",
    "    y_inlier,\n",
    "    test_size=test_size,\n",
    "    random_state=random_state\n",
    ")"
   ]
  },
  {
   "cell_type": "code",
   "execution_count": 18,
   "id": "0b7582ca",
   "metadata": {
    "execution": {
     "iopub.execute_input": "2021-04-04T23:13:30.184190Z",
     "iopub.status.busy": "2021-04-04T23:13:30.183048Z",
     "iopub.status.idle": "2021-04-04T23:13:30.186781Z",
     "shell.execute_reply": "2021-04-04T23:13:30.185783Z"
    },
    "papermill": {
     "duration": 0.035805,
     "end_time": "2021-04-04T23:13:30.186907",
     "exception": false,
     "start_time": "2021-04-04T23:13:30.151102",
     "status": "completed"
    },
    "tags": []
   },
   "outputs": [],
   "source": [
    "test_outlier_size = dataset_config['test_outlier_size']\n",
    "if test_outlier_size > 0.0:\n",
    "    X_outlier_train, X_outlier_test, y_outlier_train, y_outlier_test = train_test_split(\n",
    "        X_outlier,\n",
    "        y_outlier,\n",
    "        test_size=test_outlier_size,\n",
    "        random_state=random_state\n",
    "    )\n",
    "else:\n",
    "    X_outlier_train, y_outlier_train = pd.DataFrame(columns=X_outlier.columns), pd.Series(dtype='int64')\n",
    "    X_outlier_test, y_outlier_test = X_outlier.copy(), y_outlier.copy()"
   ]
  },
  {
   "cell_type": "code",
   "execution_count": 19,
   "id": "c34363db",
   "metadata": {
    "execution": {
     "iopub.execute_input": "2021-04-04T23:13:30.243309Z",
     "iopub.status.busy": "2021-04-04T23:13:30.242157Z",
     "iopub.status.idle": "2021-04-04T23:13:30.245697Z",
     "shell.execute_reply": "2021-04-04T23:13:30.244886Z"
    },
    "papermill": {
     "duration": 0.036456,
     "end_time": "2021-04-04T23:13:30.245877",
     "exception": false,
     "start_time": "2021-04-04T23:13:30.209421",
     "status": "completed"
    },
    "tags": []
   },
   "outputs": [],
   "source": [
    "X_train, y_train = pd.concat([X_inlier_train, X_outlier_train], ignore_index=True), pd.concat([y_inlier_train, y_outlier_train], ignore_index=True)\n",
    "X_test, y_test = pd.concat([X_inlier_test, X_outlier_test], ignore_index=True), pd.concat([y_inlier_test, y_outlier_test], ignore_index=True)"
   ]
  },
  {
   "cell_type": "markdown",
   "id": "7cde7309",
   "metadata": {
    "papermill": {
     "duration": 0.022162,
     "end_time": "2021-04-04T23:13:30.298677",
     "exception": false,
     "start_time": "2021-04-04T23:13:30.276515",
     "status": "completed"
    },
    "tags": []
   },
   "source": [
    "# Model"
   ]
  },
  {
   "cell_type": "code",
   "execution_count": 20,
   "id": "2b12a415",
   "metadata": {
    "execution": {
     "iopub.execute_input": "2021-04-04T23:13:30.360385Z",
     "iopub.status.busy": "2021-04-04T23:13:30.359407Z",
     "iopub.status.idle": "2021-04-04T23:13:30.362138Z",
     "shell.execute_reply": "2021-04-04T23:13:30.362965Z"
    },
    "papermill": {
     "duration": 0.041981,
     "end_time": "2021-04-04T23:13:30.363199",
     "exception": false,
     "start_time": "2021-04-04T23:13:30.321218",
     "status": "completed"
    },
    "tags": []
   },
   "outputs": [],
   "source": [
    "from math import sqrt\n",
    "\n",
    "\n",
    "class KNNDataDescription:\n",
    "    def __init__(self, k=5, outlier_threshold=1.0):\n",
    "        self.k = k\n",
    "        self.outlier_threshold = outlier_threshold\n",
    "        self.X = []\n",
    "    \n",
    "    def fit(self, X):\n",
    "        self.X = [features.to_list() for index, features in X.iterrows()]\n",
    "\n",
    "    def predict(self, entries):\n",
    "        return [self.predict_entry(features.to_list()) for index, features in entries.iterrows()]\n",
    "    \n",
    "    def predict_entry(self, entry):\n",
    "        kth_neighbor, kth_distance = self.get_kth_neighbor(entry, self.k)\n",
    "        kth_kth_neighbor, kth_kth_distance = self.get_kth_neighbor(kth_neighbor, self.k + 1)\n",
    "\n",
    "        outlier_score = kth_distance / (kth_kth_distance + 0.000001)\n",
    "\n",
    "        return 1 if outlier_score < self.outlier_threshold else -1\n",
    "        \n",
    "    def euclidean_distance(self, features1, features2):\n",
    "        distance = 0.0\n",
    "        for feat1, feat2 in zip(features1, features2):\n",
    "            distance += (feat1 - feat2)**2\n",
    "                \n",
    "        return sqrt(distance)\n",
    "\n",
    "    def get_neighbors(self, entry, k):\n",
    "        distance_to_data_points = [\n",
    "            (data_point, self.euclidean_distance(entry, data_point))\n",
    "            for data_point in self.X\n",
    "        ]\n",
    "        sorted_by_distance = sorted(distance_to_data_points, key=lambda tup: tup[1])\n",
    "        neighbors = sorted_by_distance[:k]\n",
    "        return neighbors\n",
    "\n",
    "    def get_kth_neighbor(self, entry, k):\n",
    "        neighbors = self.get_neighbors(entry, k)\n",
    "        return neighbors[-1]\n"
   ]
  },
  {
   "cell_type": "code",
   "execution_count": 21,
   "id": "1fa9ec1c",
   "metadata": {
    "execution": {
     "iopub.execute_input": "2021-04-04T23:13:30.420119Z",
     "iopub.status.busy": "2021-04-04T23:13:30.419133Z",
     "iopub.status.idle": "2021-04-04T23:13:30.447630Z",
     "shell.execute_reply": "2021-04-04T23:13:30.448636Z"
    },
    "papermill": {
     "duration": 0.057937,
     "end_time": "2021-04-04T23:13:30.448935",
     "exception": false,
     "start_time": "2021-04-04T23:13:30.390998",
     "status": "completed"
    },
    "tags": []
   },
   "outputs": [],
   "source": [
    "from sklearn.svm import OneClassSVM\n",
    "\n",
    "\n",
    "models = {\n",
    "    'oneclasssvm': OneClassSVM,\n",
    "    'knndatadescription': KNNDataDescription,\n",
    "}"
   ]
  },
  {
   "cell_type": "code",
   "execution_count": 22,
   "id": "4d72a0b1",
   "metadata": {
    "execution": {
     "iopub.execute_input": "2021-04-04T23:13:30.509487Z",
     "iopub.status.busy": "2021-04-04T23:13:30.508579Z",
     "iopub.status.idle": "2021-04-04T23:13:30.511208Z",
     "shell.execute_reply": "2021-04-04T23:13:30.512055Z"
    },
    "papermill": {
     "duration": 0.031269,
     "end_time": "2021-04-04T23:13:30.512277",
     "exception": false,
     "start_time": "2021-04-04T23:13:30.481008",
     "status": "completed"
    },
    "scrolled": true,
    "tags": []
   },
   "outputs": [],
   "source": [
    "model_cls = models[model_config['model_type']]\n",
    "model = model_cls(**model_config['hyperparameters'])"
   ]
  },
  {
   "cell_type": "markdown",
   "id": "e00cff3b",
   "metadata": {
    "papermill": {
     "duration": 0.022378,
     "end_time": "2021-04-04T23:13:30.561155",
     "exception": false,
     "start_time": "2021-04-04T23:13:30.538777",
     "status": "completed"
    },
    "tags": []
   },
   "source": [
    "# Fit"
   ]
  },
  {
   "cell_type": "code",
   "execution_count": 23,
   "id": "8b2ded89",
   "metadata": {
    "execution": {
     "iopub.execute_input": "2021-04-04T23:13:30.616878Z",
     "iopub.status.busy": "2021-04-04T23:13:30.611755Z",
     "iopub.status.idle": "2021-04-04T23:13:30.635384Z",
     "shell.execute_reply": "2021-04-04T23:13:30.634235Z"
    },
    "papermill": {
     "duration": 0.051451,
     "end_time": "2021-04-04T23:13:30.635603",
     "exception": false,
     "start_time": "2021-04-04T23:13:30.584152",
     "status": "completed"
    },
    "tags": []
   },
   "outputs": [],
   "source": [
    "model.fit(X_train)"
   ]
  },
  {
   "cell_type": "markdown",
   "id": "f99999f7",
   "metadata": {
    "papermill": {
     "duration": 0.023149,
     "end_time": "2021-04-04T23:13:30.687937",
     "exception": false,
     "start_time": "2021-04-04T23:13:30.664788",
     "status": "completed"
    },
    "tags": []
   },
   "source": [
    "# Predict"
   ]
  },
  {
   "cell_type": "code",
   "execution_count": 24,
   "id": "6536fbf7",
   "metadata": {
    "execution": {
     "iopub.execute_input": "2021-04-04T23:13:30.750449Z",
     "iopub.status.busy": "2021-04-04T23:13:30.749022Z",
     "iopub.status.idle": "2021-04-04T23:13:31.089974Z",
     "shell.execute_reply": "2021-04-04T23:13:31.089042Z"
    },
    "papermill": {
     "duration": 0.379114,
     "end_time": "2021-04-04T23:13:31.090161",
     "exception": false,
     "start_time": "2021-04-04T23:13:30.711047",
     "status": "completed"
    },
    "tags": []
   },
   "outputs": [],
   "source": [
    "predictions = model.predict(X_test)"
   ]
  },
  {
   "cell_type": "markdown",
   "id": "aa1c9881",
   "metadata": {
    "papermill": {
     "duration": 0.022903,
     "end_time": "2021-04-04T23:13:31.141878",
     "exception": false,
     "start_time": "2021-04-04T23:13:31.118975",
     "status": "completed"
    },
    "tags": []
   },
   "source": [
    "# Evaluate"
   ]
  },
  {
   "cell_type": "code",
   "execution_count": 25,
   "id": "894f0f04",
   "metadata": {
    "execution": {
     "iopub.execute_input": "2021-04-04T23:13:31.192458Z",
     "iopub.status.busy": "2021-04-04T23:13:31.191578Z",
     "iopub.status.idle": "2021-04-04T23:13:31.194294Z",
     "shell.execute_reply": "2021-04-04T23:13:31.193705Z"
    },
    "papermill": {
     "duration": 0.029863,
     "end_time": "2021-04-04T23:13:31.194413",
     "exception": false,
     "start_time": "2021-04-04T23:13:31.164550",
     "status": "completed"
    },
    "tags": []
   },
   "outputs": [],
   "source": [
    "from sklearn.metrics import f1_score"
   ]
  },
  {
   "cell_type": "code",
   "execution_count": 26,
   "id": "211744d3",
   "metadata": {
    "execution": {
     "iopub.execute_input": "2021-04-04T23:13:31.249558Z",
     "iopub.status.busy": "2021-04-04T23:13:31.248575Z",
     "iopub.status.idle": "2021-04-04T23:13:31.252290Z",
     "shell.execute_reply": "2021-04-04T23:13:31.251443Z"
    },
    "papermill": {
     "duration": 0.032519,
     "end_time": "2021-04-04T23:13:31.252458",
     "exception": false,
     "start_time": "2021-04-04T23:13:31.219939",
     "status": "completed"
    },
    "tags": []
   },
   "outputs": [],
   "source": [
    "y_test = y_test.replace([0, 1], [1, -1])"
   ]
  },
  {
   "cell_type": "code",
   "execution_count": 27,
   "id": "d68a9204",
   "metadata": {
    "execution": {
     "iopub.execute_input": "2021-04-04T23:13:31.312720Z",
     "iopub.status.busy": "2021-04-04T23:13:31.310900Z",
     "iopub.status.idle": "2021-04-04T23:13:31.316282Z",
     "shell.execute_reply": "2021-04-04T23:13:31.315773Z"
    },
    "papermill": {
     "duration": 0.03701,
     "end_time": "2021-04-04T23:13:31.316400",
     "exception": false,
     "start_time": "2021-04-04T23:13:31.279390",
     "status": "completed"
    },
    "tags": []
   },
   "outputs": [],
   "source": [
    "def evaluate(truths, predictions, pos_label, neg_label):\n",
    "    TP = 0\n",
    "    FP = 0\n",
    "    TN = 0\n",
    "    FN = 0\n",
    "\n",
    "    for truth, pred in zip(truths, predictions): \n",
    "        if truth == pred == pos_label:\n",
    "           TP += 1\n",
    "        elif pred == pos_label and truth == neg_label:\n",
    "           FP += 1\n",
    "        elif truth == pred == neg_label:\n",
    "           TN += 1\n",
    "        elif pred == neg_label and truth == pos_label:\n",
    "           FN += 1\n",
    "\n",
    "    precision = TP / (TP + FP)\n",
    "    sensitivity = TP / (TP + FN)\n",
    "    \n",
    "    return {\n",
    "        'true_pos': TP,\n",
    "        'false_pos': FP,\n",
    "        'false_neg': FN,\n",
    "        'true_neg': TN,\n",
    "        'precision': precision,\n",
    "        'sensitivity': sensitivity,\n",
    "        'f1': (2 * (precision * sensitivity)) / (precision + sensitivity)\n",
    "    }\n",
    "\n",
    "score = evaluate(y_test, predictions, pos_label=-1, neg_label=1)"
   ]
  },
  {
   "cell_type": "markdown",
   "id": "93596516",
   "metadata": {
    "papermill": {
     "duration": 0.025952,
     "end_time": "2021-04-04T23:13:31.370861",
     "exception": false,
     "start_time": "2021-04-04T23:13:31.344909",
     "status": "completed"
    },
    "tags": []
   },
   "source": [
    "# Report"
   ]
  },
  {
   "cell_type": "code",
   "execution_count": 28,
   "id": "bea5fba1",
   "metadata": {
    "execution": {
     "iopub.execute_input": "2021-04-04T23:13:31.427618Z",
     "iopub.status.busy": "2021-04-04T23:13:31.426802Z",
     "iopub.status.idle": "2021-04-04T23:13:31.429577Z",
     "shell.execute_reply": "2021-04-04T23:13:31.429048Z"
    },
    "papermill": {
     "duration": 0.034274,
     "end_time": "2021-04-04T23:13:31.429699",
     "exception": false,
     "start_time": "2021-04-04T23:13:31.395425",
     "status": "completed"
    },
    "tags": []
   },
   "outputs": [],
   "source": [
    "import csv\n",
    "\n",
    "\n",
    "dataset_config_name = DATASET_CONFIG_PATH.split('/')[-1].split('.')[0]\n",
    "model_config_name = MODEL_CONFIG_PATH.split('/')[-1].split('.')[0]\n",
    "configuration = f\"dataset_{dataset_config_name}-model_{model_config_name}\"\n",
    "\n",
    "with open('results.csv', 'a') as f:\n",
    "    report = dict({'configuration': configuration}, **score)\n",
    "    writer = csv.DictWriter(f, report.keys())\n",
    "    writer.writerow(report)"
   ]
  }
 ],
 "metadata": {
  "celltoolbar": "Tags",
  "kernelspec": {
   "display_name": "Python 3",
   "language": "python",
   "name": "python3"
  },
  "language_info": {
   "codemirror_mode": {
    "name": "ipython",
    "version": 3
   },
   "file_extension": ".py",
   "mimetype": "text/x-python",
   "name": "python",
   "nbconvert_exporter": "python",
   "pygments_lexer": "ipython3",
   "version": "3.9.1"
  },
  "papermill": {
   "default_parameters": {},
   "duration": 6.035322,
   "end_time": "2021-04-04T23:13:33.057509",
   "environment_variables": {},
   "exception": null,
   "input_path": "main.ipynb",
   "output_path": "runs/dataset_000102-model_000001.ipynb",
   "parameters": {
    "DATASET_CONFIG_PATH": "config/dataset/000102.json",
    "MODEL_CONFIG_PATH": "config/model/000001.json",
    "PROFILE_REPORTING": false
   },
   "start_time": "2021-04-04T23:13:27.022187",
   "version": "2.3.3"
  }
 },
 "nbformat": 4,
 "nbformat_minor": 5
}