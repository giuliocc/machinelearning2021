{
 "cells": [
  {
   "cell_type": "markdown",
   "id": "51c71c25",
   "metadata": {
    "papermill": {
     "duration": 0.023977,
     "end_time": "2021-04-04T23:34:14.584426",
     "exception": false,
     "start_time": "2021-04-04T23:34:14.560449",
     "status": "completed"
    },
    "tags": []
   },
   "source": [
    "# Parametrizing"
   ]
  },
  {
   "cell_type": "code",
   "execution_count": 1,
   "id": "3b136394",
   "metadata": {
    "execution": {
     "iopub.execute_input": "2021-04-04T23:34:14.645533Z",
     "iopub.status.busy": "2021-04-04T23:34:14.644543Z",
     "iopub.status.idle": "2021-04-04T23:34:14.647325Z",
     "shell.execute_reply": "2021-04-04T23:34:14.647897Z"
    },
    "papermill": {
     "duration": 0.042709,
     "end_time": "2021-04-04T23:34:14.648139",
     "exception": false,
     "start_time": "2021-04-04T23:34:14.605430",
     "status": "completed"
    },
    "tags": [
     "parameters"
    ]
   },
   "outputs": [],
   "source": [
    "DATASET_CONFIG_PATH = 'config/dataset/kc1_001.json'\n",
    "MODEL_CONFIG_PATH = 'config/model/knndd_001.json'\n",
    "PROFILE_REPORTING = False"
   ]
  },
  {
   "cell_type": "code",
   "execution_count": 2,
   "id": "9bd69fef",
   "metadata": {
    "execution": {
     "iopub.execute_input": "2021-04-04T23:34:14.700877Z",
     "iopub.status.busy": "2021-04-04T23:34:14.700184Z",
     "iopub.status.idle": "2021-04-04T23:34:14.702176Z",
     "shell.execute_reply": "2021-04-04T23:34:14.702641Z"
    },
    "papermill": {
     "duration": 0.031426,
     "end_time": "2021-04-04T23:34:14.702788",
     "exception": false,
     "start_time": "2021-04-04T23:34:14.671362",
     "status": "completed"
    },
    "tags": [
     "injected-parameters"
    ]
   },
   "outputs": [],
   "source": [
    "# Parameters\n",
    "DATASET_CONFIG_PATH = \"config/dataset/000151.json\"\n",
    "MODEL_CONFIG_PATH = \"config/model/000003.json\"\n",
    "PROFILE_REPORTING = False\n"
   ]
  },
  {
   "cell_type": "code",
   "execution_count": 3,
   "id": "b80f2a10",
   "metadata": {
    "execution": {
     "iopub.execute_input": "2021-04-04T23:34:14.770129Z",
     "iopub.status.busy": "2021-04-04T23:34:14.769283Z",
     "iopub.status.idle": "2021-04-04T23:34:14.775424Z",
     "shell.execute_reply": "2021-04-04T23:34:14.776010Z"
    },
    "papermill": {
     "duration": 0.048724,
     "end_time": "2021-04-04T23:34:14.776235",
     "exception": false,
     "start_time": "2021-04-04T23:34:14.727511",
     "status": "completed"
    },
    "tags": []
   },
   "outputs": [],
   "source": [
    "import json\n",
    "\n",
    "\n",
    "with open(DATASET_CONFIG_PATH) as f:\n",
    "    dataset_config = json.load(f)\n",
    "\n",
    "with open(MODEL_CONFIG_PATH) as f:\n",
    "    model_config = json.load(f)"
   ]
  },
  {
   "cell_type": "markdown",
   "id": "9a4b0e2d",
   "metadata": {
    "papermill": {
     "duration": 0.036165,
     "end_time": "2021-04-04T23:34:14.840988",
     "exception": false,
     "start_time": "2021-04-04T23:34:14.804823",
     "status": "completed"
    },
    "tags": []
   },
   "source": [
    "# Profiling"
   ]
  },
  {
   "cell_type": "code",
   "execution_count": 4,
   "id": "a3e0289b",
   "metadata": {
    "execution": {
     "iopub.execute_input": "2021-04-04T23:34:14.910613Z",
     "iopub.status.busy": "2021-04-04T23:34:14.908955Z",
     "iopub.status.idle": "2021-04-04T23:34:16.539559Z",
     "shell.execute_reply": "2021-04-04T23:34:16.540039Z"
    },
    "papermill": {
     "duration": 1.664654,
     "end_time": "2021-04-04T23:34:16.540185",
     "exception": false,
     "start_time": "2021-04-04T23:34:14.875531",
     "status": "completed"
    },
    "tags": []
   },
   "outputs": [],
   "source": [
    "import pandas as pd\n",
    "from pandas_profiling import ProfileReport"
   ]
  },
  {
   "cell_type": "code",
   "execution_count": 5,
   "id": "ee6c0666",
   "metadata": {
    "execution": {
     "iopub.execute_input": "2021-04-04T23:34:16.588980Z",
     "iopub.status.busy": "2021-04-04T23:34:16.588368Z",
     "iopub.status.idle": "2021-04-04T23:34:16.596544Z",
     "shell.execute_reply": "2021-04-04T23:34:16.597474Z"
    },
    "papermill": {
     "duration": 0.035045,
     "end_time": "2021-04-04T23:34:16.597735",
     "exception": false,
     "start_time": "2021-04-04T23:34:16.562690",
     "status": "completed"
    },
    "tags": []
   },
   "outputs": [],
   "source": [
    "df = pd.read_csv(dataset_config['dataset_path'])"
   ]
  },
  {
   "cell_type": "code",
   "execution_count": 6,
   "id": "7eca6c4a",
   "metadata": {
    "execution": {
     "iopub.execute_input": "2021-04-04T23:34:16.679434Z",
     "iopub.status.busy": "2021-04-04T23:34:16.678325Z",
     "iopub.status.idle": "2021-04-04T23:34:16.682053Z",
     "shell.execute_reply": "2021-04-04T23:34:16.682589Z"
    },
    "papermill": {
     "duration": 0.051895,
     "end_time": "2021-04-04T23:34:16.682831",
     "exception": false,
     "start_time": "2021-04-04T23:34:16.630936",
     "status": "completed"
    },
    "tags": []
   },
   "outputs": [
    {
     "name": "stdout",
     "output_type": "stream",
     "text": [
      "<class 'pandas.core.frame.DataFrame'>\n",
      "RangeIndex: 498 entries, 0 to 497\n",
      "Data columns (total 23 columns):\n",
      " #   Column             Non-Null Count  Dtype  \n",
      "---  ------             --------------  -----  \n",
      " 0   id                 498 non-null    int64  \n",
      " 1   loc                498 non-null    float64\n",
      " 2   v(g)               498 non-null    float64\n",
      " 3   ev(g)              498 non-null    float64\n",
      " 4   iv(g)              498 non-null    float64\n",
      " 5   n                  498 non-null    float64\n",
      " 6   v                  498 non-null    float64\n",
      " 7   l                  498 non-null    float64\n",
      " 8   d                  498 non-null    float64\n",
      " 9   i                  498 non-null    float64\n",
      " 10  e                  498 non-null    float64\n",
      " 11  b                  498 non-null    float64\n",
      " 12  t                  498 non-null    float64\n",
      " 13  lOCode             498 non-null    int64  \n",
      " 14  lOComment          498 non-null    int64  \n",
      " 15  lOBlank            498 non-null    int64  \n",
      " 16  locCodeAndComment  498 non-null    int64  \n",
      " 17  uniq_Op            498 non-null    float64\n",
      " 18  uniq_Opnd          498 non-null    float64\n",
      " 19  total_Op           498 non-null    float64\n",
      " 20  total_Opnd         498 non-null    float64\n",
      " 21  branchCount        498 non-null    float64\n",
      " 22  defects            498 non-null    bool   \n",
      "dtypes: bool(1), float64(17), int64(5)\n",
      "memory usage: 86.2 KB\n"
     ]
    }
   ],
   "source": [
    "df.info()"
   ]
  },
  {
   "cell_type": "code",
   "execution_count": 7,
   "id": "3638e5e8",
   "metadata": {
    "execution": {
     "iopub.execute_input": "2021-04-04T23:34:16.740069Z",
     "iopub.status.busy": "2021-04-04T23:34:16.739098Z",
     "iopub.status.idle": "2021-04-04T23:34:16.767390Z",
     "shell.execute_reply": "2021-04-04T23:34:16.766467Z"
    },
    "papermill": {
     "duration": 0.062466,
     "end_time": "2021-04-04T23:34:16.767522",
     "exception": false,
     "start_time": "2021-04-04T23:34:16.705056",
     "status": "completed"
    },
    "tags": []
   },
   "outputs": [
    {
     "data": {
      "text/html": [
       "<div>\n",
       "<style scoped>\n",
       "    .dataframe tbody tr th:only-of-type {\n",
       "        vertical-align: middle;\n",
       "    }\n",
       "\n",
       "    .dataframe tbody tr th {\n",
       "        vertical-align: top;\n",
       "    }\n",
       "\n",
       "    .dataframe thead th {\n",
       "        text-align: right;\n",
       "    }\n",
       "</style>\n",
       "<table border=\"1\" class=\"dataframe\">\n",
       "  <thead>\n",
       "    <tr style=\"text-align: right;\">\n",
       "      <th></th>\n",
       "      <th>id</th>\n",
       "      <th>loc</th>\n",
       "      <th>v(g)</th>\n",
       "      <th>ev(g)</th>\n",
       "      <th>iv(g)</th>\n",
       "      <th>n</th>\n",
       "      <th>v</th>\n",
       "      <th>l</th>\n",
       "      <th>d</th>\n",
       "      <th>i</th>\n",
       "      <th>...</th>\n",
       "      <th>lOCode</th>\n",
       "      <th>lOComment</th>\n",
       "      <th>lOBlank</th>\n",
       "      <th>locCodeAndComment</th>\n",
       "      <th>uniq_Op</th>\n",
       "      <th>uniq_Opnd</th>\n",
       "      <th>total_Op</th>\n",
       "      <th>total_Opnd</th>\n",
       "      <th>branchCount</th>\n",
       "      <th>defects</th>\n",
       "    </tr>\n",
       "  </thead>\n",
       "  <tbody>\n",
       "    <tr>\n",
       "      <th>0</th>\n",
       "      <td>1</td>\n",
       "      <td>1.1</td>\n",
       "      <td>1.4</td>\n",
       "      <td>1.4</td>\n",
       "      <td>1.4</td>\n",
       "      <td>1.3</td>\n",
       "      <td>1.30</td>\n",
       "      <td>1.30</td>\n",
       "      <td>1.30</td>\n",
       "      <td>1.30</td>\n",
       "      <td>...</td>\n",
       "      <td>2</td>\n",
       "      <td>2</td>\n",
       "      <td>2</td>\n",
       "      <td>2</td>\n",
       "      <td>1.2</td>\n",
       "      <td>1.2</td>\n",
       "      <td>1.2</td>\n",
       "      <td>1.2</td>\n",
       "      <td>1.4</td>\n",
       "      <td>False</td>\n",
       "    </tr>\n",
       "    <tr>\n",
       "      <th>1</th>\n",
       "      <td>2</td>\n",
       "      <td>1.0</td>\n",
       "      <td>1.0</td>\n",
       "      <td>1.0</td>\n",
       "      <td>1.0</td>\n",
       "      <td>1.0</td>\n",
       "      <td>1.00</td>\n",
       "      <td>1.00</td>\n",
       "      <td>1.00</td>\n",
       "      <td>1.00</td>\n",
       "      <td>...</td>\n",
       "      <td>1</td>\n",
       "      <td>1</td>\n",
       "      <td>1</td>\n",
       "      <td>1</td>\n",
       "      <td>1.0</td>\n",
       "      <td>1.0</td>\n",
       "      <td>1.0</td>\n",
       "      <td>1.0</td>\n",
       "      <td>1.0</td>\n",
       "      <td>True</td>\n",
       "    </tr>\n",
       "    <tr>\n",
       "      <th>2</th>\n",
       "      <td>3</td>\n",
       "      <td>24.0</td>\n",
       "      <td>5.0</td>\n",
       "      <td>1.0</td>\n",
       "      <td>3.0</td>\n",
       "      <td>63.0</td>\n",
       "      <td>309.13</td>\n",
       "      <td>0.11</td>\n",
       "      <td>9.50</td>\n",
       "      <td>32.54</td>\n",
       "      <td>...</td>\n",
       "      <td>1</td>\n",
       "      <td>0</td>\n",
       "      <td>6</td>\n",
       "      <td>0</td>\n",
       "      <td>15.0</td>\n",
       "      <td>15.0</td>\n",
       "      <td>44.0</td>\n",
       "      <td>19.0</td>\n",
       "      <td>9.0</td>\n",
       "      <td>False</td>\n",
       "    </tr>\n",
       "    <tr>\n",
       "      <th>3</th>\n",
       "      <td>4</td>\n",
       "      <td>20.0</td>\n",
       "      <td>4.0</td>\n",
       "      <td>4.0</td>\n",
       "      <td>2.0</td>\n",
       "      <td>47.0</td>\n",
       "      <td>215.49</td>\n",
       "      <td>0.06</td>\n",
       "      <td>16.00</td>\n",
       "      <td>13.47</td>\n",
       "      <td>...</td>\n",
       "      <td>0</td>\n",
       "      <td>0</td>\n",
       "      <td>3</td>\n",
       "      <td>0</td>\n",
       "      <td>16.0</td>\n",
       "      <td>8.0</td>\n",
       "      <td>31.0</td>\n",
       "      <td>16.0</td>\n",
       "      <td>7.0</td>\n",
       "      <td>False</td>\n",
       "    </tr>\n",
       "    <tr>\n",
       "      <th>4</th>\n",
       "      <td>5</td>\n",
       "      <td>24.0</td>\n",
       "      <td>6.0</td>\n",
       "      <td>6.0</td>\n",
       "      <td>2.0</td>\n",
       "      <td>72.0</td>\n",
       "      <td>346.13</td>\n",
       "      <td>0.06</td>\n",
       "      <td>17.33</td>\n",
       "      <td>19.97</td>\n",
       "      <td>...</td>\n",
       "      <td>0</td>\n",
       "      <td>0</td>\n",
       "      <td>3</td>\n",
       "      <td>0</td>\n",
       "      <td>16.0</td>\n",
       "      <td>12.0</td>\n",
       "      <td>46.0</td>\n",
       "      <td>26.0</td>\n",
       "      <td>11.0</td>\n",
       "      <td>False</td>\n",
       "    </tr>\n",
       "  </tbody>\n",
       "</table>\n",
       "<p>5 rows × 23 columns</p>\n",
       "</div>"
      ],
      "text/plain": [
       "   id   loc  v(g)  ev(g)  iv(g)     n       v     l      d      i  ...  \\\n",
       "0   1   1.1   1.4    1.4    1.4   1.3    1.30  1.30   1.30   1.30  ...   \n",
       "1   2   1.0   1.0    1.0    1.0   1.0    1.00  1.00   1.00   1.00  ...   \n",
       "2   3  24.0   5.0    1.0    3.0  63.0  309.13  0.11   9.50  32.54  ...   \n",
       "3   4  20.0   4.0    4.0    2.0  47.0  215.49  0.06  16.00  13.47  ...   \n",
       "4   5  24.0   6.0    6.0    2.0  72.0  346.13  0.06  17.33  19.97  ...   \n",
       "\n",
       "   lOCode  lOComment  lOBlank  locCodeAndComment  uniq_Op  uniq_Opnd  \\\n",
       "0       2          2        2                  2      1.2        1.2   \n",
       "1       1          1        1                  1      1.0        1.0   \n",
       "2       1          0        6                  0     15.0       15.0   \n",
       "3       0          0        3                  0     16.0        8.0   \n",
       "4       0          0        3                  0     16.0       12.0   \n",
       "\n",
       "   total_Op  total_Opnd  branchCount  defects  \n",
       "0       1.2         1.2          1.4    False  \n",
       "1       1.0         1.0          1.0     True  \n",
       "2      44.0        19.0          9.0    False  \n",
       "3      31.0        16.0          7.0    False  \n",
       "4      46.0        26.0         11.0    False  \n",
       "\n",
       "[5 rows x 23 columns]"
      ]
     },
     "execution_count": 7,
     "metadata": {},
     "output_type": "execute_result"
    }
   ],
   "source": [
    "df.head()"
   ]
  },
  {
   "cell_type": "code",
   "execution_count": 8,
   "id": "733e95eb",
   "metadata": {
    "execution": {
     "iopub.execute_input": "2021-04-04T23:34:16.821800Z",
     "iopub.status.busy": "2021-04-04T23:34:16.819924Z",
     "iopub.status.idle": "2021-04-04T23:34:16.824113Z",
     "shell.execute_reply": "2021-04-04T23:34:16.823525Z"
    },
    "papermill": {
     "duration": 0.03504,
     "end_time": "2021-04-04T23:34:16.824246",
     "exception": false,
     "start_time": "2021-04-04T23:34:16.789206",
     "status": "completed"
    },
    "tags": []
   },
   "outputs": [],
   "source": [
    "del df['id']"
   ]
  },
  {
   "cell_type": "code",
   "execution_count": 9,
   "id": "6ff6f5b0",
   "metadata": {
    "execution": {
     "iopub.execute_input": "2021-04-04T23:34:16.875360Z",
     "iopub.status.busy": "2021-04-04T23:34:16.874626Z",
     "iopub.status.idle": "2021-04-04T23:34:16.877024Z",
     "shell.execute_reply": "2021-04-04T23:34:16.877707Z"
    },
    "papermill": {
     "duration": 0.031071,
     "end_time": "2021-04-04T23:34:16.878112",
     "exception": false,
     "start_time": "2021-04-04T23:34:16.847041",
     "status": "completed"
    },
    "tags": []
   },
   "outputs": [],
   "source": [
    "if PROFILE_REPORTING:\n",
    "    ProfileReport(df).to_widgets()"
   ]
  },
  {
   "cell_type": "markdown",
   "id": "1deaf3f0",
   "metadata": {
    "papermill": {
     "duration": 0.030688,
     "end_time": "2021-04-04T23:34:16.933883",
     "exception": false,
     "start_time": "2021-04-04T23:34:16.903195",
     "status": "completed"
    },
    "tags": []
   },
   "source": [
    "# Preprocess"
   ]
  },
  {
   "cell_type": "code",
   "execution_count": 10,
   "id": "1513e563",
   "metadata": {
    "execution": {
     "iopub.execute_input": "2021-04-04T23:34:16.988737Z",
     "iopub.status.busy": "2021-04-04T23:34:16.987867Z",
     "iopub.status.idle": "2021-04-04T23:34:16.990850Z",
     "shell.execute_reply": "2021-04-04T23:34:16.991385Z"
    },
    "papermill": {
     "duration": 0.03305,
     "end_time": "2021-04-04T23:34:16.991549",
     "exception": false,
     "start_time": "2021-04-04T23:34:16.958499",
     "status": "completed"
    },
    "tags": []
   },
   "outputs": [],
   "source": [
    "working_df = df.copy()"
   ]
  },
  {
   "cell_type": "code",
   "execution_count": 11,
   "id": "3b26d675",
   "metadata": {
    "execution": {
     "iopub.execute_input": "2021-04-04T23:34:17.047869Z",
     "iopub.status.busy": "2021-04-04T23:34:17.046155Z",
     "iopub.status.idle": "2021-04-04T23:34:17.049582Z",
     "shell.execute_reply": "2021-04-04T23:34:17.049061Z"
    },
    "papermill": {
     "duration": 0.034621,
     "end_time": "2021-04-04T23:34:17.049698",
     "exception": false,
     "start_time": "2021-04-04T23:34:17.015077",
     "status": "completed"
    },
    "tags": []
   },
   "outputs": [],
   "source": [
    "working_df['defects'] = working_df['defects'].replace([False, True], [0, 1])"
   ]
  },
  {
   "cell_type": "code",
   "execution_count": 12,
   "id": "eb48604f",
   "metadata": {
    "execution": {
     "iopub.execute_input": "2021-04-04T23:34:17.101987Z",
     "iopub.status.busy": "2021-04-04T23:34:17.101153Z",
     "iopub.status.idle": "2021-04-04T23:34:17.103172Z",
     "shell.execute_reply": "2021-04-04T23:34:17.103650Z"
    },
    "papermill": {
     "duration": 0.03155,
     "end_time": "2021-04-04T23:34:17.103795",
     "exception": false,
     "start_time": "2021-04-04T23:34:17.072245",
     "status": "completed"
    },
    "tags": []
   },
   "outputs": [],
   "source": [
    "for col in dataset_config['delete_columns']:\n",
    "    del working_df[col]"
   ]
  },
  {
   "cell_type": "code",
   "execution_count": 13,
   "id": "9a17bc29",
   "metadata": {
    "execution": {
     "iopub.execute_input": "2021-04-04T23:34:17.163560Z",
     "iopub.status.busy": "2021-04-04T23:34:17.162762Z",
     "iopub.status.idle": "2021-04-04T23:34:17.172326Z",
     "shell.execute_reply": "2021-04-04T23:34:17.171802Z"
    },
    "papermill": {
     "duration": 0.045159,
     "end_time": "2021-04-04T23:34:17.172447",
     "exception": false,
     "start_time": "2021-04-04T23:34:17.127288",
     "status": "completed"
    },
    "tags": []
   },
   "outputs": [],
   "source": [
    "working_df = working_df.drop_duplicates()"
   ]
  },
  {
   "cell_type": "markdown",
   "id": "a4d52ca6",
   "metadata": {
    "papermill": {
     "duration": 0.02141,
     "end_time": "2021-04-04T23:34:17.219313",
     "exception": false,
     "start_time": "2021-04-04T23:34:17.197903",
     "status": "completed"
    },
    "tags": []
   },
   "source": [
    "# Split"
   ]
  },
  {
   "cell_type": "code",
   "execution_count": 14,
   "id": "3e9ee4b5",
   "metadata": {
    "execution": {
     "iopub.execute_input": "2021-04-04T23:34:17.277487Z",
     "iopub.status.busy": "2021-04-04T23:34:17.275851Z",
     "iopub.status.idle": "2021-04-04T23:34:17.313708Z",
     "shell.execute_reply": "2021-04-04T23:34:17.314600Z"
    },
    "papermill": {
     "duration": 0.069948,
     "end_time": "2021-04-04T23:34:17.314769",
     "exception": false,
     "start_time": "2021-04-04T23:34:17.244821",
     "status": "completed"
    },
    "tags": []
   },
   "outputs": [],
   "source": [
    "from sklearn.model_selection import train_test_split"
   ]
  },
  {
   "cell_type": "code",
   "execution_count": 15,
   "id": "274004ce",
   "metadata": {
    "execution": {
     "iopub.execute_input": "2021-04-04T23:34:17.378477Z",
     "iopub.status.busy": "2021-04-04T23:34:17.377458Z",
     "iopub.status.idle": "2021-04-04T23:34:17.382512Z",
     "shell.execute_reply": "2021-04-04T23:34:17.381986Z"
    },
    "papermill": {
     "duration": 0.045491,
     "end_time": "2021-04-04T23:34:17.382648",
     "exception": false,
     "start_time": "2021-04-04T23:34:17.337157",
     "status": "completed"
    },
    "scrolled": true,
    "tags": []
   },
   "outputs": [],
   "source": [
    "inlier, outlier = working_df[working_df['defects'] == 0], working_df[working_df['defects'] == 1]"
   ]
  },
  {
   "cell_type": "code",
   "execution_count": 16,
   "id": "753c7b03",
   "metadata": {
    "execution": {
     "iopub.execute_input": "2021-04-04T23:34:17.441098Z",
     "iopub.status.busy": "2021-04-04T23:34:17.439791Z",
     "iopub.status.idle": "2021-04-04T23:34:17.443616Z",
     "shell.execute_reply": "2021-04-04T23:34:17.443078Z"
    },
    "papermill": {
     "duration": 0.036011,
     "end_time": "2021-04-04T23:34:17.443734",
     "exception": false,
     "start_time": "2021-04-04T23:34:17.407723",
     "status": "completed"
    },
    "tags": []
   },
   "outputs": [],
   "source": [
    "X_inlier = inlier.copy()\n",
    "y_inlier = X_inlier.pop('defects')\n",
    "X_outlier = outlier.copy()\n",
    "y_outlier = X_outlier.pop('defects')"
   ]
  },
  {
   "cell_type": "code",
   "execution_count": 17,
   "id": "2ba43193",
   "metadata": {
    "execution": {
     "iopub.execute_input": "2021-04-04T23:34:17.498125Z",
     "iopub.status.busy": "2021-04-04T23:34:17.495822Z",
     "iopub.status.idle": "2021-04-04T23:34:17.504490Z",
     "shell.execute_reply": "2021-04-04T23:34:17.502756Z"
    },
    "papermill": {
     "duration": 0.036948,
     "end_time": "2021-04-04T23:34:17.504844",
     "exception": false,
     "start_time": "2021-04-04T23:34:17.467896",
     "status": "completed"
    },
    "tags": []
   },
   "outputs": [],
   "source": [
    "test_size = dataset_config['test_size']\n",
    "random_state = dataset_config['random_state']\n",
    "\n",
    "X_inlier_train, X_inlier_test, y_inlier_train, y_inlier_test = train_test_split(\n",
    "    X_inlier,\n",
    "    y_inlier,\n",
    "    test_size=test_size,\n",
    "    random_state=random_state\n",
    ")"
   ]
  },
  {
   "cell_type": "code",
   "execution_count": 18,
   "id": "0b7582ca",
   "metadata": {
    "execution": {
     "iopub.execute_input": "2021-04-04T23:34:17.566719Z",
     "iopub.status.busy": "2021-04-04T23:34:17.565567Z",
     "iopub.status.idle": "2021-04-04T23:34:17.568549Z",
     "shell.execute_reply": "2021-04-04T23:34:17.569107Z"
    },
    "papermill": {
     "duration": 0.038645,
     "end_time": "2021-04-04T23:34:17.569250",
     "exception": false,
     "start_time": "2021-04-04T23:34:17.530605",
     "status": "completed"
    },
    "tags": []
   },
   "outputs": [],
   "source": [
    "test_outlier_size = dataset_config['test_outlier_size']\n",
    "if test_outlier_size > 0.0:\n",
    "    X_outlier_train, X_outlier_test, y_outlier_train, y_outlier_test = train_test_split(\n",
    "        X_outlier,\n",
    "        y_outlier,\n",
    "        test_size=test_outlier_size,\n",
    "        random_state=random_state\n",
    "    )\n",
    "else:\n",
    "    X_outlier_train, y_outlier_train = pd.DataFrame(columns=X_outlier.columns), pd.Series(dtype='int64')\n",
    "    X_outlier_test, y_outlier_test = X_outlier.copy(), y_outlier.copy()"
   ]
  },
  {
   "cell_type": "code",
   "execution_count": 19,
   "id": "c34363db",
   "metadata": {
    "execution": {
     "iopub.execute_input": "2021-04-04T23:34:17.622843Z",
     "iopub.status.busy": "2021-04-04T23:34:17.622157Z",
     "iopub.status.idle": "2021-04-04T23:34:17.627403Z",
     "shell.execute_reply": "2021-04-04T23:34:17.627867Z"
    },
    "papermill": {
     "duration": 0.036289,
     "end_time": "2021-04-04T23:34:17.628020",
     "exception": false,
     "start_time": "2021-04-04T23:34:17.591731",
     "status": "completed"
    },
    "tags": []
   },
   "outputs": [],
   "source": [
    "X_train, y_train = pd.concat([X_inlier_train, X_outlier_train], ignore_index=True), pd.concat([y_inlier_train, y_outlier_train], ignore_index=True)\n",
    "X_test, y_test = pd.concat([X_inlier_test, X_outlier_test], ignore_index=True), pd.concat([y_inlier_test, y_outlier_test], ignore_index=True)"
   ]
  },
  {
   "cell_type": "markdown",
   "id": "7cde7309",
   "metadata": {
    "papermill": {
     "duration": 0.03202,
     "end_time": "2021-04-04T23:34:17.685649",
     "exception": false,
     "start_time": "2021-04-04T23:34:17.653629",
     "status": "completed"
    },
    "tags": []
   },
   "source": [
    "# Model"
   ]
  },
  {
   "cell_type": "code",
   "execution_count": 20,
   "id": "2b12a415",
   "metadata": {
    "execution": {
     "iopub.execute_input": "2021-04-04T23:34:17.749574Z",
     "iopub.status.busy": "2021-04-04T23:34:17.748853Z",
     "iopub.status.idle": "2021-04-04T23:34:17.759770Z",
     "shell.execute_reply": "2021-04-04T23:34:17.759168Z"
    },
    "papermill": {
     "duration": 0.040113,
     "end_time": "2021-04-04T23:34:17.759906",
     "exception": false,
     "start_time": "2021-04-04T23:34:17.719793",
     "status": "completed"
    },
    "tags": []
   },
   "outputs": [],
   "source": [
    "from math import sqrt\n",
    "\n",
    "\n",
    "class KNNDataDescription:\n",
    "    def __init__(self, k=5, outlier_threshold=1.0):\n",
    "        self.k = k\n",
    "        self.outlier_threshold = outlier_threshold\n",
    "        self.X = []\n",
    "    \n",
    "    def fit(self, X):\n",
    "        self.X = [features.to_list() for index, features in X.iterrows()]\n",
    "\n",
    "    def predict(self, entries):\n",
    "        return [self.predict_entry(features.to_list()) for index, features in entries.iterrows()]\n",
    "    \n",
    "    def predict_entry(self, entry):\n",
    "        kth_neighbor, kth_distance = self.get_kth_neighbor(entry, self.k)\n",
    "        kth_kth_neighbor, kth_kth_distance = self.get_kth_neighbor(kth_neighbor, self.k + 1)\n",
    "\n",
    "        outlier_score = kth_distance / (kth_kth_distance + 0.000001)\n",
    "\n",
    "        return 1 if outlier_score < self.outlier_threshold else -1\n",
    "        \n",
    "    def euclidean_distance(self, features1, features2):\n",
    "        distance = 0.0\n",
    "        for feat1, feat2 in zip(features1, features2):\n",
    "            distance += (feat1 - feat2)**2\n",
    "                \n",
    "        return sqrt(distance)\n",
    "\n",
    "    def get_neighbors(self, entry, k):\n",
    "        distance_to_data_points = [\n",
    "            (data_point, self.euclidean_distance(entry, data_point))\n",
    "            for data_point in self.X\n",
    "        ]\n",
    "        sorted_by_distance = sorted(distance_to_data_points, key=lambda tup: tup[1])\n",
    "        neighbors = sorted_by_distance[:k]\n",
    "        return neighbors\n",
    "\n",
    "    def get_kth_neighbor(self, entry, k):\n",
    "        neighbors = self.get_neighbors(entry, k)\n",
    "        return neighbors[-1]\n"
   ]
  },
  {
   "cell_type": "code",
   "execution_count": 21,
   "id": "1fa9ec1c",
   "metadata": {
    "execution": {
     "iopub.execute_input": "2021-04-04T23:34:17.819606Z",
     "iopub.status.busy": "2021-04-04T23:34:17.818131Z",
     "iopub.status.idle": "2021-04-04T23:34:17.862038Z",
     "shell.execute_reply": "2021-04-04T23:34:17.863932Z"
    },
    "papermill": {
     "duration": 0.080944,
     "end_time": "2021-04-04T23:34:17.864394",
     "exception": false,
     "start_time": "2021-04-04T23:34:17.783450",
     "status": "completed"
    },
    "tags": []
   },
   "outputs": [],
   "source": [
    "from sklearn.svm import OneClassSVM\n",
    "\n",
    "\n",
    "models = {\n",
    "    'oneclasssvm': OneClassSVM,\n",
    "    'knndatadescription': KNNDataDescription,\n",
    "}"
   ]
  },
  {
   "cell_type": "code",
   "execution_count": 22,
   "id": "4d72a0b1",
   "metadata": {
    "execution": {
     "iopub.execute_input": "2021-04-04T23:34:17.928440Z",
     "iopub.status.busy": "2021-04-04T23:34:17.927649Z",
     "iopub.status.idle": "2021-04-04T23:34:17.929698Z",
     "shell.execute_reply": "2021-04-04T23:34:17.930158Z"
    },
    "papermill": {
     "duration": 0.032849,
     "end_time": "2021-04-04T23:34:17.930299",
     "exception": false,
     "start_time": "2021-04-04T23:34:17.897450",
     "status": "completed"
    },
    "scrolled": true,
    "tags": []
   },
   "outputs": [],
   "source": [
    "model_cls = models[model_config['model_type']]\n",
    "model = model_cls(**model_config['hyperparameters'])"
   ]
  },
  {
   "cell_type": "markdown",
   "id": "e00cff3b",
   "metadata": {
    "papermill": {
     "duration": 0.033422,
     "end_time": "2021-04-04T23:34:18.006079",
     "exception": false,
     "start_time": "2021-04-04T23:34:17.972657",
     "status": "completed"
    },
    "tags": []
   },
   "source": [
    "# Fit"
   ]
  },
  {
   "cell_type": "code",
   "execution_count": 23,
   "id": "8b2ded89",
   "metadata": {
    "execution": {
     "iopub.execute_input": "2021-04-04T23:34:18.082885Z",
     "iopub.status.busy": "2021-04-04T23:34:18.081408Z",
     "iopub.status.idle": "2021-04-04T23:34:18.124017Z",
     "shell.execute_reply": "2021-04-04T23:34:18.123372Z"
    },
    "papermill": {
     "duration": 0.08551,
     "end_time": "2021-04-04T23:34:18.124176",
     "exception": false,
     "start_time": "2021-04-04T23:34:18.038666",
     "status": "completed"
    },
    "tags": []
   },
   "outputs": [],
   "source": [
    "model.fit(X_train)"
   ]
  },
  {
   "cell_type": "markdown",
   "id": "f99999f7",
   "metadata": {
    "papermill": {
     "duration": 0.037159,
     "end_time": "2021-04-04T23:34:18.191173",
     "exception": false,
     "start_time": "2021-04-04T23:34:18.154014",
     "status": "completed"
    },
    "tags": []
   },
   "source": [
    "# Predict"
   ]
  },
  {
   "cell_type": "code",
   "execution_count": 24,
   "id": "6536fbf7",
   "metadata": {
    "execution": {
     "iopub.execute_input": "2021-04-04T23:34:18.306872Z",
     "iopub.status.busy": "2021-04-04T23:34:18.291137Z",
     "iopub.status.idle": "2021-04-04T23:34:18.633088Z",
     "shell.execute_reply": "2021-04-04T23:34:18.633726Z"
    },
    "papermill": {
     "duration": 0.397773,
     "end_time": "2021-04-04T23:34:18.633908",
     "exception": false,
     "start_time": "2021-04-04T23:34:18.236135",
     "status": "completed"
    },
    "tags": []
   },
   "outputs": [],
   "source": [
    "predictions = model.predict(X_test)"
   ]
  },
  {
   "cell_type": "markdown",
   "id": "aa1c9881",
   "metadata": {
    "papermill": {
     "duration": 0.031631,
     "end_time": "2021-04-04T23:34:18.692640",
     "exception": false,
     "start_time": "2021-04-04T23:34:18.661009",
     "status": "completed"
    },
    "tags": []
   },
   "source": [
    "# Evaluate"
   ]
  },
  {
   "cell_type": "code",
   "execution_count": 25,
   "id": "894f0f04",
   "metadata": {
    "execution": {
     "iopub.execute_input": "2021-04-04T23:34:18.778869Z",
     "iopub.status.busy": "2021-04-04T23:34:18.778001Z",
     "iopub.status.idle": "2021-04-04T23:34:18.779986Z",
     "shell.execute_reply": "2021-04-04T23:34:18.780465Z"
    },
    "papermill": {
     "duration": 0.048589,
     "end_time": "2021-04-04T23:34:18.780613",
     "exception": false,
     "start_time": "2021-04-04T23:34:18.732024",
     "status": "completed"
    },
    "tags": []
   },
   "outputs": [],
   "source": [
    "from sklearn.metrics import f1_score"
   ]
  },
  {
   "cell_type": "code",
   "execution_count": 26,
   "id": "211744d3",
   "metadata": {
    "execution": {
     "iopub.execute_input": "2021-04-04T23:34:18.840896Z",
     "iopub.status.busy": "2021-04-04T23:34:18.840090Z",
     "iopub.status.idle": "2021-04-04T23:34:18.842278Z",
     "shell.execute_reply": "2021-04-04T23:34:18.842755Z"
    },
    "papermill": {
     "duration": 0.036274,
     "end_time": "2021-04-04T23:34:18.842900",
     "exception": false,
     "start_time": "2021-04-04T23:34:18.806626",
     "status": "completed"
    },
    "tags": []
   },
   "outputs": [],
   "source": [
    "y_test = y_test.replace([0, 1], [1, -1])"
   ]
  },
  {
   "cell_type": "code",
   "execution_count": 27,
   "id": "d68a9204",
   "metadata": {
    "execution": {
     "iopub.execute_input": "2021-04-04T23:34:18.900954Z",
     "iopub.status.busy": "2021-04-04T23:34:18.899343Z",
     "iopub.status.idle": "2021-04-04T23:34:18.904102Z",
     "shell.execute_reply": "2021-04-04T23:34:18.903516Z"
    },
    "papermill": {
     "duration": 0.034991,
     "end_time": "2021-04-04T23:34:18.904238",
     "exception": false,
     "start_time": "2021-04-04T23:34:18.869247",
     "status": "completed"
    },
    "tags": []
   },
   "outputs": [],
   "source": [
    "def evaluate(truths, predictions, pos_label, neg_label):\n",
    "    TP = 0\n",
    "    FP = 0\n",
    "    TN = 0\n",
    "    FN = 0\n",
    "\n",
    "    for truth, pred in zip(truths, predictions): \n",
    "        if truth == pred == pos_label:\n",
    "           TP += 1\n",
    "        elif pred == pos_label and truth == neg_label:\n",
    "           FP += 1\n",
    "        elif truth == pred == neg_label:\n",
    "           TN += 1\n",
    "        elif pred == neg_label and truth == pos_label:\n",
    "           FN += 1\n",
    "\n",
    "    precision = TP / (TP + FP)\n",
    "    sensitivity = TP / (TP + FN)\n",
    "    \n",
    "    return {\n",
    "        'true_pos': TP,\n",
    "        'false_pos': FP,\n",
    "        'false_neg': FN,\n",
    "        'true_neg': TN,\n",
    "        'precision': precision,\n",
    "        'sensitivity': sensitivity,\n",
    "        'f1': (2 * (precision * sensitivity)) / (precision + sensitivity)\n",
    "    }\n",
    "\n",
    "score = evaluate(y_test, predictions, pos_label=-1, neg_label=1)"
   ]
  },
  {
   "cell_type": "markdown",
   "id": "93596516",
   "metadata": {
    "papermill": {
     "duration": 0.030686,
     "end_time": "2021-04-04T23:34:18.959631",
     "exception": false,
     "start_time": "2021-04-04T23:34:18.928945",
     "status": "completed"
    },
    "tags": []
   },
   "source": [
    "# Report"
   ]
  },
  {
   "cell_type": "code",
   "execution_count": 28,
   "id": "bea5fba1",
   "metadata": {
    "execution": {
     "iopub.execute_input": "2021-04-04T23:34:19.019473Z",
     "iopub.status.busy": "2021-04-04T23:34:19.018869Z",
     "iopub.status.idle": "2021-04-04T23:34:19.020806Z",
     "shell.execute_reply": "2021-04-04T23:34:19.021277Z"
    },
    "papermill": {
     "duration": 0.03568,
     "end_time": "2021-04-04T23:34:19.021421",
     "exception": false,
     "start_time": "2021-04-04T23:34:18.985741",
     "status": "completed"
    },
    "tags": []
   },
   "outputs": [],
   "source": [
    "import csv\n",
    "\n",
    "\n",
    "dataset_config_name = DATASET_CONFIG_PATH.split('/')[-1].split('.')[0]\n",
    "model_config_name = MODEL_CONFIG_PATH.split('/')[-1].split('.')[0]\n",
    "configuration = f\"dataset_{dataset_config_name}-model_{model_config_name}\"\n",
    "\n",
    "with open('results.csv', 'a') as f:\n",
    "    report = dict({'configuration': configuration}, **score)\n",
    "    writer = csv.DictWriter(f, report.keys())\n",
    "    writer.writerow(report)"
   ]
  }
 ],
 "metadata": {
  "celltoolbar": "Tags",
  "kernelspec": {
   "display_name": "Python 3",
   "language": "python",
   "name": "python3"
  },
  "language_info": {
   "codemirror_mode": {
    "name": "ipython",
    "version": 3
   },
   "file_extension": ".py",
   "mimetype": "text/x-python",
   "name": "python",
   "nbconvert_exporter": "python",
   "pygments_lexer": "ipython3",
   "version": "3.9.1"
  },
  "papermill": {
   "default_parameters": {},
   "duration": 6.006241,
   "end_time": "2021-04-04T23:34:19.656948",
   "environment_variables": {},
   "exception": null,
   "input_path": "main.ipynb",
   "output_path": "runs/dataset_000151-model_000003.ipynb",
   "parameters": {
    "DATASET_CONFIG_PATH": "config/dataset/000151.json",
    "MODEL_CONFIG_PATH": "config/model/000003.json",
    "PROFILE_REPORTING": false
   },
   "start_time": "2021-04-04T23:34:13.650707",
   "version": "2.3.3"
  }
 },
 "nbformat": 4,
 "nbformat_minor": 5
}