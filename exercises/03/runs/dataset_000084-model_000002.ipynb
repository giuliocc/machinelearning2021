{
 "cells": [
  {
   "cell_type": "markdown",
   "id": "51c71c25",
   "metadata": {
    "papermill": {
     "duration": 0.031632,
     "end_time": "2021-04-04T23:06:36.320037",
     "exception": false,
     "start_time": "2021-04-04T23:06:36.288405",
     "status": "completed"
    },
    "tags": []
   },
   "source": [
    "# Parametrizing"
   ]
  },
  {
   "cell_type": "code",
   "execution_count": 1,
   "id": "3b136394",
   "metadata": {
    "execution": {
     "iopub.execute_input": "2021-04-04T23:06:36.376358Z",
     "iopub.status.busy": "2021-04-04T23:06:36.375596Z",
     "iopub.status.idle": "2021-04-04T23:06:36.379557Z",
     "shell.execute_reply": "2021-04-04T23:06:36.378673Z"
    },
    "papermill": {
     "duration": 0.039983,
     "end_time": "2021-04-04T23:06:36.379746",
     "exception": false,
     "start_time": "2021-04-04T23:06:36.339763",
     "status": "completed"
    },
    "tags": [
     "parameters"
    ]
   },
   "outputs": [],
   "source": [
    "DATASET_CONFIG_PATH = 'config/dataset/kc1_001.json'\n",
    "MODEL_CONFIG_PATH = 'config/model/knndd_001.json'\n",
    "PROFILE_REPORTING = False"
   ]
  },
  {
   "cell_type": "code",
   "execution_count": 2,
   "id": "fe1e2112",
   "metadata": {
    "execution": {
     "iopub.execute_input": "2021-04-04T23:06:36.427982Z",
     "iopub.status.busy": "2021-04-04T23:06:36.427151Z",
     "iopub.status.idle": "2021-04-04T23:06:36.429020Z",
     "shell.execute_reply": "2021-04-04T23:06:36.429507Z"
    },
    "papermill": {
     "duration": 0.026853,
     "end_time": "2021-04-04T23:06:36.429653",
     "exception": false,
     "start_time": "2021-04-04T23:06:36.402800",
     "status": "completed"
    },
    "tags": [
     "injected-parameters"
    ]
   },
   "outputs": [],
   "source": [
    "# Parameters\n",
    "DATASET_CONFIG_PATH = \"config/dataset/000084.json\"\n",
    "MODEL_CONFIG_PATH = \"config/model/000002.json\"\n",
    "PROFILE_REPORTING = False\n"
   ]
  },
  {
   "cell_type": "code",
   "execution_count": 3,
   "id": "b80f2a10",
   "metadata": {
    "execution": {
     "iopub.execute_input": "2021-04-04T23:06:36.477129Z",
     "iopub.status.busy": "2021-04-04T23:06:36.476312Z",
     "iopub.status.idle": "2021-04-04T23:06:36.479275Z",
     "shell.execute_reply": "2021-04-04T23:06:36.478603Z"
    },
    "papermill": {
     "duration": 0.028931,
     "end_time": "2021-04-04T23:06:36.479416",
     "exception": false,
     "start_time": "2021-04-04T23:06:36.450485",
     "status": "completed"
    },
    "tags": []
   },
   "outputs": [],
   "source": [
    "import json\n",
    "\n",
    "\n",
    "with open(DATASET_CONFIG_PATH) as f:\n",
    "    dataset_config = json.load(f)\n",
    "\n",
    "with open(MODEL_CONFIG_PATH) as f:\n",
    "    model_config = json.load(f)"
   ]
  },
  {
   "cell_type": "markdown",
   "id": "9a4b0e2d",
   "metadata": {
    "papermill": {
     "duration": 0.020441,
     "end_time": "2021-04-04T23:06:36.522437",
     "exception": false,
     "start_time": "2021-04-04T23:06:36.501996",
     "status": "completed"
    },
    "tags": []
   },
   "source": [
    "# Profiling"
   ]
  },
  {
   "cell_type": "code",
   "execution_count": 4,
   "id": "a3e0289b",
   "metadata": {
    "execution": {
     "iopub.execute_input": "2021-04-04T23:06:36.567821Z",
     "iopub.status.busy": "2021-04-04T23:06:36.566276Z",
     "iopub.status.idle": "2021-04-04T23:06:37.859827Z",
     "shell.execute_reply": "2021-04-04T23:06:37.860368Z"
    },
    "papermill": {
     "duration": 1.318575,
     "end_time": "2021-04-04T23:06:37.860526",
     "exception": false,
     "start_time": "2021-04-04T23:06:36.541951",
     "status": "completed"
    },
    "tags": []
   },
   "outputs": [],
   "source": [
    "import pandas as pd\n",
    "from pandas_profiling import ProfileReport"
   ]
  },
  {
   "cell_type": "code",
   "execution_count": 5,
   "id": "ee6c0666",
   "metadata": {
    "execution": {
     "iopub.execute_input": "2021-04-04T23:06:37.907918Z",
     "iopub.status.busy": "2021-04-04T23:06:37.907020Z",
     "iopub.status.idle": "2021-04-04T23:06:37.918875Z",
     "shell.execute_reply": "2021-04-04T23:06:37.919629Z"
    },
    "papermill": {
     "duration": 0.038263,
     "end_time": "2021-04-04T23:06:37.919839",
     "exception": false,
     "start_time": "2021-04-04T23:06:37.881576",
     "status": "completed"
    },
    "tags": []
   },
   "outputs": [],
   "source": [
    "df = pd.read_csv(dataset_config['dataset_path'])"
   ]
  },
  {
   "cell_type": "code",
   "execution_count": 6,
   "id": "7eca6c4a",
   "metadata": {
    "execution": {
     "iopub.execute_input": "2021-04-04T23:06:37.984069Z",
     "iopub.status.busy": "2021-04-04T23:06:37.972503Z",
     "iopub.status.idle": "2021-04-04T23:06:37.986810Z",
     "shell.execute_reply": "2021-04-04T23:06:37.987302Z"
    },
    "papermill": {
     "duration": 0.041157,
     "end_time": "2021-04-04T23:06:37.987450",
     "exception": false,
     "start_time": "2021-04-04T23:06:37.946293",
     "status": "completed"
    },
    "tags": []
   },
   "outputs": [
    {
     "name": "stdout",
     "output_type": "stream",
     "text": [
      "<class 'pandas.core.frame.DataFrame'>\n",
      "RangeIndex: 498 entries, 0 to 497\n",
      "Data columns (total 23 columns):\n",
      " #   Column             Non-Null Count  Dtype  \n",
      "---  ------             --------------  -----  \n",
      " 0   id                 498 non-null    int64  \n",
      " 1   loc                498 non-null    float64\n",
      " 2   v(g)               498 non-null    float64\n",
      " 3   ev(g)              498 non-null    float64\n",
      " 4   iv(g)              498 non-null    float64\n",
      " 5   n                  498 non-null    float64\n",
      " 6   v                  498 non-null    float64\n",
      " 7   l                  498 non-null    float64\n",
      " 8   d                  498 non-null    float64\n",
      " 9   i                  498 non-null    float64\n",
      " 10  e                  498 non-null    float64\n",
      " 11  b                  498 non-null    float64\n",
      " 12  t                  498 non-null    float64\n",
      " 13  lOCode             498 non-null    int64  \n",
      " 14  lOComment          498 non-null    int64  \n",
      " 15  lOBlank            498 non-null    int64  \n",
      " 16  locCodeAndComment  498 non-null    int64  \n",
      " 17  uniq_Op            498 non-null    float64\n",
      " 18  uniq_Opnd          498 non-null    float64\n",
      " 19  total_Op           498 non-null    float64\n",
      " 20  total_Opnd         498 non-null    float64\n",
      " 21  branchCount        498 non-null    float64\n",
      " 22  defects            498 non-null    bool   \n",
      "dtypes: bool(1), float64(17), int64(5)\n",
      "memory usage: 86.2 KB\n"
     ]
    }
   ],
   "source": [
    "df.info()"
   ]
  },
  {
   "cell_type": "code",
   "execution_count": 7,
   "id": "3638e5e8",
   "metadata": {
    "execution": {
     "iopub.execute_input": "2021-04-04T23:06:38.039656Z",
     "iopub.status.busy": "2021-04-04T23:06:38.038514Z",
     "iopub.status.idle": "2021-04-04T23:06:38.065871Z",
     "shell.execute_reply": "2021-04-04T23:06:38.066593Z"
    },
    "papermill": {
     "duration": 0.058541,
     "end_time": "2021-04-04T23:06:38.066842",
     "exception": false,
     "start_time": "2021-04-04T23:06:38.008301",
     "status": "completed"
    },
    "tags": []
   },
   "outputs": [
    {
     "data": {
      "text/html": [
       "<div>\n",
       "<style scoped>\n",
       "    .dataframe tbody tr th:only-of-type {\n",
       "        vertical-align: middle;\n",
       "    }\n",
       "\n",
       "    .dataframe tbody tr th {\n",
       "        vertical-align: top;\n",
       "    }\n",
       "\n",
       "    .dataframe thead th {\n",
       "        text-align: right;\n",
       "    }\n",
       "</style>\n",
       "<table border=\"1\" class=\"dataframe\">\n",
       "  <thead>\n",
       "    <tr style=\"text-align: right;\">\n",
       "      <th></th>\n",
       "      <th>id</th>\n",
       "      <th>loc</th>\n",
       "      <th>v(g)</th>\n",
       "      <th>ev(g)</th>\n",
       "      <th>iv(g)</th>\n",
       "      <th>n</th>\n",
       "      <th>v</th>\n",
       "      <th>l</th>\n",
       "      <th>d</th>\n",
       "      <th>i</th>\n",
       "      <th>...</th>\n",
       "      <th>lOCode</th>\n",
       "      <th>lOComment</th>\n",
       "      <th>lOBlank</th>\n",
       "      <th>locCodeAndComment</th>\n",
       "      <th>uniq_Op</th>\n",
       "      <th>uniq_Opnd</th>\n",
       "      <th>total_Op</th>\n",
       "      <th>total_Opnd</th>\n",
       "      <th>branchCount</th>\n",
       "      <th>defects</th>\n",
       "    </tr>\n",
       "  </thead>\n",
       "  <tbody>\n",
       "    <tr>\n",
       "      <th>0</th>\n",
       "      <td>1</td>\n",
       "      <td>1.1</td>\n",
       "      <td>1.4</td>\n",
       "      <td>1.4</td>\n",
       "      <td>1.4</td>\n",
       "      <td>1.3</td>\n",
       "      <td>1.30</td>\n",
       "      <td>1.30</td>\n",
       "      <td>1.30</td>\n",
       "      <td>1.30</td>\n",
       "      <td>...</td>\n",
       "      <td>2</td>\n",
       "      <td>2</td>\n",
       "      <td>2</td>\n",
       "      <td>2</td>\n",
       "      <td>1.2</td>\n",
       "      <td>1.2</td>\n",
       "      <td>1.2</td>\n",
       "      <td>1.2</td>\n",
       "      <td>1.4</td>\n",
       "      <td>False</td>\n",
       "    </tr>\n",
       "    <tr>\n",
       "      <th>1</th>\n",
       "      <td>2</td>\n",
       "      <td>1.0</td>\n",
       "      <td>1.0</td>\n",
       "      <td>1.0</td>\n",
       "      <td>1.0</td>\n",
       "      <td>1.0</td>\n",
       "      <td>1.00</td>\n",
       "      <td>1.00</td>\n",
       "      <td>1.00</td>\n",
       "      <td>1.00</td>\n",
       "      <td>...</td>\n",
       "      <td>1</td>\n",
       "      <td>1</td>\n",
       "      <td>1</td>\n",
       "      <td>1</td>\n",
       "      <td>1.0</td>\n",
       "      <td>1.0</td>\n",
       "      <td>1.0</td>\n",
       "      <td>1.0</td>\n",
       "      <td>1.0</td>\n",
       "      <td>True</td>\n",
       "    </tr>\n",
       "    <tr>\n",
       "      <th>2</th>\n",
       "      <td>3</td>\n",
       "      <td>24.0</td>\n",
       "      <td>5.0</td>\n",
       "      <td>1.0</td>\n",
       "      <td>3.0</td>\n",
       "      <td>63.0</td>\n",
       "      <td>309.13</td>\n",
       "      <td>0.11</td>\n",
       "      <td>9.50</td>\n",
       "      <td>32.54</td>\n",
       "      <td>...</td>\n",
       "      <td>1</td>\n",
       "      <td>0</td>\n",
       "      <td>6</td>\n",
       "      <td>0</td>\n",
       "      <td>15.0</td>\n",
       "      <td>15.0</td>\n",
       "      <td>44.0</td>\n",
       "      <td>19.0</td>\n",
       "      <td>9.0</td>\n",
       "      <td>False</td>\n",
       "    </tr>\n",
       "    <tr>\n",
       "      <th>3</th>\n",
       "      <td>4</td>\n",
       "      <td>20.0</td>\n",
       "      <td>4.0</td>\n",
       "      <td>4.0</td>\n",
       "      <td>2.0</td>\n",
       "      <td>47.0</td>\n",
       "      <td>215.49</td>\n",
       "      <td>0.06</td>\n",
       "      <td>16.00</td>\n",
       "      <td>13.47</td>\n",
       "      <td>...</td>\n",
       "      <td>0</td>\n",
       "      <td>0</td>\n",
       "      <td>3</td>\n",
       "      <td>0</td>\n",
       "      <td>16.0</td>\n",
       "      <td>8.0</td>\n",
       "      <td>31.0</td>\n",
       "      <td>16.0</td>\n",
       "      <td>7.0</td>\n",
       "      <td>False</td>\n",
       "    </tr>\n",
       "    <tr>\n",
       "      <th>4</th>\n",
       "      <td>5</td>\n",
       "      <td>24.0</td>\n",
       "      <td>6.0</td>\n",
       "      <td>6.0</td>\n",
       "      <td>2.0</td>\n",
       "      <td>72.0</td>\n",
       "      <td>346.13</td>\n",
       "      <td>0.06</td>\n",
       "      <td>17.33</td>\n",
       "      <td>19.97</td>\n",
       "      <td>...</td>\n",
       "      <td>0</td>\n",
       "      <td>0</td>\n",
       "      <td>3</td>\n",
       "      <td>0</td>\n",
       "      <td>16.0</td>\n",
       "      <td>12.0</td>\n",
       "      <td>46.0</td>\n",
       "      <td>26.0</td>\n",
       "      <td>11.0</td>\n",
       "      <td>False</td>\n",
       "    </tr>\n",
       "  </tbody>\n",
       "</table>\n",
       "<p>5 rows × 23 columns</p>\n",
       "</div>"
      ],
      "text/plain": [
       "   id   loc  v(g)  ev(g)  iv(g)     n       v     l      d      i  ...  \\\n",
       "0   1   1.1   1.4    1.4    1.4   1.3    1.30  1.30   1.30   1.30  ...   \n",
       "1   2   1.0   1.0    1.0    1.0   1.0    1.00  1.00   1.00   1.00  ...   \n",
       "2   3  24.0   5.0    1.0    3.0  63.0  309.13  0.11   9.50  32.54  ...   \n",
       "3   4  20.0   4.0    4.0    2.0  47.0  215.49  0.06  16.00  13.47  ...   \n",
       "4   5  24.0   6.0    6.0    2.0  72.0  346.13  0.06  17.33  19.97  ...   \n",
       "\n",
       "   lOCode  lOComment  lOBlank  locCodeAndComment  uniq_Op  uniq_Opnd  \\\n",
       "0       2          2        2                  2      1.2        1.2   \n",
       "1       1          1        1                  1      1.0        1.0   \n",
       "2       1          0        6                  0     15.0       15.0   \n",
       "3       0          0        3                  0     16.0        8.0   \n",
       "4       0          0        3                  0     16.0       12.0   \n",
       "\n",
       "   total_Op  total_Opnd  branchCount  defects  \n",
       "0       1.2         1.2          1.4    False  \n",
       "1       1.0         1.0          1.0     True  \n",
       "2      44.0        19.0          9.0    False  \n",
       "3      31.0        16.0          7.0    False  \n",
       "4      46.0        26.0         11.0    False  \n",
       "\n",
       "[5 rows x 23 columns]"
      ]
     },
     "execution_count": 7,
     "metadata": {},
     "output_type": "execute_result"
    }
   ],
   "source": [
    "df.head()"
   ]
  },
  {
   "cell_type": "code",
   "execution_count": 8,
   "id": "733e95eb",
   "metadata": {
    "execution": {
     "iopub.execute_input": "2021-04-04T23:06:38.124605Z",
     "iopub.status.busy": "2021-04-04T23:06:38.123435Z",
     "iopub.status.idle": "2021-04-04T23:06:38.126234Z",
     "shell.execute_reply": "2021-04-04T23:06:38.127122Z"
    },
    "papermill": {
     "duration": 0.030299,
     "end_time": "2021-04-04T23:06:38.127361",
     "exception": false,
     "start_time": "2021-04-04T23:06:38.097062",
     "status": "completed"
    },
    "tags": []
   },
   "outputs": [],
   "source": [
    "del df['id']"
   ]
  },
  {
   "cell_type": "code",
   "execution_count": 9,
   "id": "6ff6f5b0",
   "metadata": {
    "execution": {
     "iopub.execute_input": "2021-04-04T23:06:38.178205Z",
     "iopub.status.busy": "2021-04-04T23:06:38.176716Z",
     "iopub.status.idle": "2021-04-04T23:06:38.180450Z",
     "shell.execute_reply": "2021-04-04T23:06:38.180945Z"
    },
    "papermill": {
     "duration": 0.028334,
     "end_time": "2021-04-04T23:06:38.181094",
     "exception": false,
     "start_time": "2021-04-04T23:06:38.152760",
     "status": "completed"
    },
    "tags": []
   },
   "outputs": [],
   "source": [
    "if PROFILE_REPORTING:\n",
    "    ProfileReport(df).to_widgets()"
   ]
  },
  {
   "cell_type": "markdown",
   "id": "1deaf3f0",
   "metadata": {
    "papermill": {
     "duration": 0.021062,
     "end_time": "2021-04-04T23:06:38.223596",
     "exception": false,
     "start_time": "2021-04-04T23:06:38.202534",
     "status": "completed"
    },
    "tags": []
   },
   "source": [
    "# Preprocess"
   ]
  },
  {
   "cell_type": "code",
   "execution_count": 10,
   "id": "1513e563",
   "metadata": {
    "execution": {
     "iopub.execute_input": "2021-04-04T23:06:38.272147Z",
     "iopub.status.busy": "2021-04-04T23:06:38.271112Z",
     "iopub.status.idle": "2021-04-04T23:06:38.273448Z",
     "shell.execute_reply": "2021-04-04T23:06:38.274199Z"
    },
    "papermill": {
     "duration": 0.029673,
     "end_time": "2021-04-04T23:06:38.274400",
     "exception": false,
     "start_time": "2021-04-04T23:06:38.244727",
     "status": "completed"
    },
    "tags": []
   },
   "outputs": [],
   "source": [
    "working_df = df.copy()"
   ]
  },
  {
   "cell_type": "code",
   "execution_count": 11,
   "id": "3b26d675",
   "metadata": {
    "execution": {
     "iopub.execute_input": "2021-04-04T23:06:38.333377Z",
     "iopub.status.busy": "2021-04-04T23:06:38.332475Z",
     "iopub.status.idle": "2021-04-04T23:06:38.335030Z",
     "shell.execute_reply": "2021-04-04T23:06:38.335745Z"
    },
    "papermill": {
     "duration": 0.032061,
     "end_time": "2021-04-04T23:06:38.335950",
     "exception": false,
     "start_time": "2021-04-04T23:06:38.303889",
     "status": "completed"
    },
    "tags": []
   },
   "outputs": [],
   "source": [
    "working_df['defects'] = working_df['defects'].replace([False, True], [0, 1])"
   ]
  },
  {
   "cell_type": "code",
   "execution_count": 12,
   "id": "eb48604f",
   "metadata": {
    "execution": {
     "iopub.execute_input": "2021-04-04T23:06:38.392267Z",
     "iopub.status.busy": "2021-04-04T23:06:38.391315Z",
     "iopub.status.idle": "2021-04-04T23:06:38.393625Z",
     "shell.execute_reply": "2021-04-04T23:06:38.394414Z"
    },
    "papermill": {
     "duration": 0.029598,
     "end_time": "2021-04-04T23:06:38.394608",
     "exception": false,
     "start_time": "2021-04-04T23:06:38.365010",
     "status": "completed"
    },
    "tags": []
   },
   "outputs": [],
   "source": [
    "for col in dataset_config['delete_columns']:\n",
    "    del working_df[col]"
   ]
  },
  {
   "cell_type": "code",
   "execution_count": 13,
   "id": "9a17bc29",
   "metadata": {
    "execution": {
     "iopub.execute_input": "2021-04-04T23:06:38.452088Z",
     "iopub.status.busy": "2021-04-04T23:06:38.451084Z",
     "iopub.status.idle": "2021-04-04T23:06:38.461940Z",
     "shell.execute_reply": "2021-04-04T23:06:38.462694Z"
    },
    "papermill": {
     "duration": 0.040246,
     "end_time": "2021-04-04T23:06:38.462920",
     "exception": false,
     "start_time": "2021-04-04T23:06:38.422674",
     "status": "completed"
    },
    "tags": []
   },
   "outputs": [],
   "source": [
    "working_df = working_df.drop_duplicates()"
   ]
  },
  {
   "cell_type": "markdown",
   "id": "a4d52ca6",
   "metadata": {
    "papermill": {
     "duration": 0.021843,
     "end_time": "2021-04-04T23:06:38.511728",
     "exception": false,
     "start_time": "2021-04-04T23:06:38.489885",
     "status": "completed"
    },
    "tags": []
   },
   "source": [
    "# Split"
   ]
  },
  {
   "cell_type": "code",
   "execution_count": 14,
   "id": "3e9ee4b5",
   "metadata": {
    "execution": {
     "iopub.execute_input": "2021-04-04T23:06:38.562366Z",
     "iopub.status.busy": "2021-04-04T23:06:38.560658Z",
     "iopub.status.idle": "2021-04-04T23:06:38.593377Z",
     "shell.execute_reply": "2021-04-04T23:06:38.594108Z"
    },
    "papermill": {
     "duration": 0.06076,
     "end_time": "2021-04-04T23:06:38.594319",
     "exception": false,
     "start_time": "2021-04-04T23:06:38.533559",
     "status": "completed"
    },
    "tags": []
   },
   "outputs": [],
   "source": [
    "from sklearn.model_selection import train_test_split"
   ]
  },
  {
   "cell_type": "code",
   "execution_count": 15,
   "id": "274004ce",
   "metadata": {
    "execution": {
     "iopub.execute_input": "2021-04-04T23:06:38.652389Z",
     "iopub.status.busy": "2021-04-04T23:06:38.651717Z",
     "iopub.status.idle": "2021-04-04T23:06:38.659087Z",
     "shell.execute_reply": "2021-04-04T23:06:38.658257Z"
    },
    "papermill": {
     "duration": 0.035028,
     "end_time": "2021-04-04T23:06:38.659265",
     "exception": false,
     "start_time": "2021-04-04T23:06:38.624237",
     "status": "completed"
    },
    "scrolled": true,
    "tags": []
   },
   "outputs": [],
   "source": [
    "inlier, outlier = working_df[working_df['defects'] == 0], working_df[working_df['defects'] == 1]"
   ]
  },
  {
   "cell_type": "code",
   "execution_count": 16,
   "id": "753c7b03",
   "metadata": {
    "execution": {
     "iopub.execute_input": "2021-04-04T23:06:38.714210Z",
     "iopub.status.busy": "2021-04-04T23:06:38.713336Z",
     "iopub.status.idle": "2021-04-04T23:06:38.715507Z",
     "shell.execute_reply": "2021-04-04T23:06:38.715981Z"
    },
    "papermill": {
     "duration": 0.031696,
     "end_time": "2021-04-04T23:06:38.716126",
     "exception": false,
     "start_time": "2021-04-04T23:06:38.684430",
     "status": "completed"
    },
    "tags": []
   },
   "outputs": [],
   "source": [
    "X_inlier = inlier.copy()\n",
    "y_inlier = X_inlier.pop('defects')\n",
    "X_outlier = outlier.copy()\n",
    "y_outlier = X_outlier.pop('defects')"
   ]
  },
  {
   "cell_type": "code",
   "execution_count": 17,
   "id": "2ba43193",
   "metadata": {
    "execution": {
     "iopub.execute_input": "2021-04-04T23:06:38.782010Z",
     "iopub.status.busy": "2021-04-04T23:06:38.781280Z",
     "iopub.status.idle": "2021-04-04T23:06:38.783924Z",
     "shell.execute_reply": "2021-04-04T23:06:38.784615Z"
    },
    "papermill": {
     "duration": 0.042809,
     "end_time": "2021-04-04T23:06:38.784813",
     "exception": false,
     "start_time": "2021-04-04T23:06:38.742004",
     "status": "completed"
    },
    "tags": []
   },
   "outputs": [],
   "source": [
    "test_size = dataset_config['test_size']\n",
    "random_state = dataset_config['random_state']\n",
    "\n",
    "X_inlier_train, X_inlier_test, y_inlier_train, y_inlier_test = train_test_split(\n",
    "    X_inlier,\n",
    "    y_inlier,\n",
    "    test_size=test_size,\n",
    "    random_state=random_state\n",
    ")"
   ]
  },
  {
   "cell_type": "code",
   "execution_count": 18,
   "id": "0b7582ca",
   "metadata": {
    "execution": {
     "iopub.execute_input": "2021-04-04T23:06:38.847395Z",
     "iopub.status.busy": "2021-04-04T23:06:38.846420Z",
     "iopub.status.idle": "2021-04-04T23:06:38.849573Z",
     "shell.execute_reply": "2021-04-04T23:06:38.850460Z"
    },
    "papermill": {
     "duration": 0.03939,
     "end_time": "2021-04-04T23:06:38.850733",
     "exception": false,
     "start_time": "2021-04-04T23:06:38.811343",
     "status": "completed"
    },
    "tags": []
   },
   "outputs": [],
   "source": [
    "test_outlier_size = dataset_config['test_outlier_size']\n",
    "if test_outlier_size > 0.0:\n",
    "    X_outlier_train, X_outlier_test, y_outlier_train, y_outlier_test = train_test_split(\n",
    "        X_outlier,\n",
    "        y_outlier,\n",
    "        test_size=test_outlier_size,\n",
    "        random_state=random_state\n",
    "    )\n",
    "else:\n",
    "    X_outlier_train, y_outlier_train = pd.DataFrame(columns=X_outlier.columns), pd.Series(dtype='int64')\n",
    "    X_outlier_test, y_outlier_test = X_outlier.copy(), y_outlier.copy()"
   ]
  },
  {
   "cell_type": "code",
   "execution_count": 19,
   "id": "c34363db",
   "metadata": {
    "execution": {
     "iopub.execute_input": "2021-04-04T23:06:38.910017Z",
     "iopub.status.busy": "2021-04-04T23:06:38.908750Z",
     "iopub.status.idle": "2021-04-04T23:06:38.912837Z",
     "shell.execute_reply": "2021-04-04T23:06:38.913721Z"
    },
    "papermill": {
     "duration": 0.036497,
     "end_time": "2021-04-04T23:06:38.913969",
     "exception": false,
     "start_time": "2021-04-04T23:06:38.877472",
     "status": "completed"
    },
    "tags": []
   },
   "outputs": [],
   "source": [
    "X_train, y_train = pd.concat([X_inlier_train, X_outlier_train], ignore_index=True), pd.concat([y_inlier_train, y_outlier_train], ignore_index=True)\n",
    "X_test, y_test = pd.concat([X_inlier_test, X_outlier_test], ignore_index=True), pd.concat([y_inlier_test, y_outlier_test], ignore_index=True)"
   ]
  },
  {
   "cell_type": "markdown",
   "id": "7cde7309",
   "metadata": {
    "papermill": {
     "duration": 0.022181,
     "end_time": "2021-04-04T23:06:38.965180",
     "exception": false,
     "start_time": "2021-04-04T23:06:38.942999",
     "status": "completed"
    },
    "tags": []
   },
   "source": [
    "# Model"
   ]
  },
  {
   "cell_type": "code",
   "execution_count": 20,
   "id": "2b12a415",
   "metadata": {
    "execution": {
     "iopub.execute_input": "2021-04-04T23:06:39.027019Z",
     "iopub.status.busy": "2021-04-04T23:06:39.025717Z",
     "iopub.status.idle": "2021-04-04T23:06:39.028838Z",
     "shell.execute_reply": "2021-04-04T23:06:39.028298Z"
    },
    "papermill": {
     "duration": 0.040721,
     "end_time": "2021-04-04T23:06:39.028972",
     "exception": false,
     "start_time": "2021-04-04T23:06:38.988251",
     "status": "completed"
    },
    "tags": []
   },
   "outputs": [],
   "source": [
    "from math import sqrt\n",
    "\n",
    "\n",
    "class KNNDataDescription:\n",
    "    def __init__(self, k=5, outlier_threshold=1.0):\n",
    "        self.k = k\n",
    "        self.outlier_threshold = outlier_threshold\n",
    "        self.X = []\n",
    "    \n",
    "    def fit(self, X):\n",
    "        self.X = [features.to_list() for index, features in X.iterrows()]\n",
    "\n",
    "    def predict(self, entries):\n",
    "        return [self.predict_entry(features.to_list()) for index, features in entries.iterrows()]\n",
    "    \n",
    "    def predict_entry(self, entry):\n",
    "        kth_neighbor, kth_distance = self.get_kth_neighbor(entry, self.k)\n",
    "        kth_kth_neighbor, kth_kth_distance = self.get_kth_neighbor(kth_neighbor, self.k + 1)\n",
    "\n",
    "        outlier_score = kth_distance / (kth_kth_distance + 0.000001)\n",
    "\n",
    "        return 1 if outlier_score < self.outlier_threshold else -1\n",
    "        \n",
    "    def euclidean_distance(self, features1, features2):\n",
    "        distance = 0.0\n",
    "        for feat1, feat2 in zip(features1, features2):\n",
    "            distance += (feat1 - feat2)**2\n",
    "                \n",
    "        return sqrt(distance)\n",
    "\n",
    "    def get_neighbors(self, entry, k):\n",
    "        distance_to_data_points = [\n",
    "            (data_point, self.euclidean_distance(entry, data_point))\n",
    "            for data_point in self.X\n",
    "        ]\n",
    "        sorted_by_distance = sorted(distance_to_data_points, key=lambda tup: tup[1])\n",
    "        neighbors = sorted_by_distance[:k]\n",
    "        return neighbors\n",
    "\n",
    "    def get_kth_neighbor(self, entry, k):\n",
    "        neighbors = self.get_neighbors(entry, k)\n",
    "        return neighbors[-1]\n"
   ]
  },
  {
   "cell_type": "code",
   "execution_count": 21,
   "id": "1fa9ec1c",
   "metadata": {
    "execution": {
     "iopub.execute_input": "2021-04-04T23:06:39.080524Z",
     "iopub.status.busy": "2021-04-04T23:06:39.079512Z",
     "iopub.status.idle": "2021-04-04T23:06:39.102751Z",
     "shell.execute_reply": "2021-04-04T23:06:39.101888Z"
    },
    "papermill": {
     "duration": 0.050604,
     "end_time": "2021-04-04T23:06:39.102917",
     "exception": false,
     "start_time": "2021-04-04T23:06:39.052313",
     "status": "completed"
    },
    "tags": []
   },
   "outputs": [],
   "source": [
    "from sklearn.svm import OneClassSVM\n",
    "\n",
    "\n",
    "models = {\n",
    "    'oneclasssvm': OneClassSVM,\n",
    "    'knndatadescription': KNNDataDescription,\n",
    "}"
   ]
  },
  {
   "cell_type": "code",
   "execution_count": 22,
   "id": "4d72a0b1",
   "metadata": {
    "execution": {
     "iopub.execute_input": "2021-04-04T23:06:39.163815Z",
     "iopub.status.busy": "2021-04-04T23:06:39.163031Z",
     "iopub.status.idle": "2021-04-04T23:06:39.165418Z",
     "shell.execute_reply": "2021-04-04T23:06:39.166110Z"
    },
    "papermill": {
     "duration": 0.029885,
     "end_time": "2021-04-04T23:06:39.166306",
     "exception": false,
     "start_time": "2021-04-04T23:06:39.136421",
     "status": "completed"
    },
    "scrolled": true,
    "tags": []
   },
   "outputs": [],
   "source": [
    "model_cls = models[model_config['model_type']]\n",
    "model = model_cls(**model_config['hyperparameters'])"
   ]
  },
  {
   "cell_type": "markdown",
   "id": "e00cff3b",
   "metadata": {
    "papermill": {
     "duration": 0.022387,
     "end_time": "2021-04-04T23:06:39.217219",
     "exception": false,
     "start_time": "2021-04-04T23:06:39.194832",
     "status": "completed"
    },
    "tags": []
   },
   "source": [
    "# Fit"
   ]
  },
  {
   "cell_type": "code",
   "execution_count": 23,
   "id": "8b2ded89",
   "metadata": {
    "execution": {
     "iopub.execute_input": "2021-04-04T23:06:39.294199Z",
     "iopub.status.busy": "2021-04-04T23:06:39.268766Z",
     "iopub.status.idle": "2021-04-04T23:06:39.297335Z",
     "shell.execute_reply": "2021-04-04T23:06:39.296334Z"
    },
    "papermill": {
     "duration": 0.05736,
     "end_time": "2021-04-04T23:06:39.297526",
     "exception": false,
     "start_time": "2021-04-04T23:06:39.240166",
     "status": "completed"
    },
    "tags": []
   },
   "outputs": [],
   "source": [
    "model.fit(X_train)"
   ]
  },
  {
   "cell_type": "markdown",
   "id": "f99999f7",
   "metadata": {
    "papermill": {
     "duration": 0.024682,
     "end_time": "2021-04-04T23:06:39.349349",
     "exception": false,
     "start_time": "2021-04-04T23:06:39.324667",
     "status": "completed"
    },
    "tags": []
   },
   "source": [
    "# Predict"
   ]
  },
  {
   "cell_type": "code",
   "execution_count": 24,
   "id": "6536fbf7",
   "metadata": {
    "execution": {
     "iopub.execute_input": "2021-04-04T23:06:39.402960Z",
     "iopub.status.busy": "2021-04-04T23:06:39.401448Z",
     "iopub.status.idle": "2021-04-04T23:06:39.811541Z",
     "shell.execute_reply": "2021-04-04T23:06:39.810968Z"
    },
    "papermill": {
     "duration": 0.437945,
     "end_time": "2021-04-04T23:06:39.811670",
     "exception": false,
     "start_time": "2021-04-04T23:06:39.373725",
     "status": "completed"
    },
    "tags": []
   },
   "outputs": [],
   "source": [
    "predictions = model.predict(X_test)"
   ]
  },
  {
   "cell_type": "markdown",
   "id": "aa1c9881",
   "metadata": {
    "papermill": {
     "duration": 0.022876,
     "end_time": "2021-04-04T23:06:39.858402",
     "exception": false,
     "start_time": "2021-04-04T23:06:39.835526",
     "status": "completed"
    },
    "tags": []
   },
   "source": [
    "# Evaluate"
   ]
  },
  {
   "cell_type": "code",
   "execution_count": 25,
   "id": "894f0f04",
   "metadata": {
    "execution": {
     "iopub.execute_input": "2021-04-04T23:06:39.908233Z",
     "iopub.status.busy": "2021-04-04T23:06:39.907578Z",
     "iopub.status.idle": "2021-04-04T23:06:39.909791Z",
     "shell.execute_reply": "2021-04-04T23:06:39.910317Z"
    },
    "papermill": {
     "duration": 0.029397,
     "end_time": "2021-04-04T23:06:39.910473",
     "exception": false,
     "start_time": "2021-04-04T23:06:39.881076",
     "status": "completed"
    },
    "tags": []
   },
   "outputs": [],
   "source": [
    "from sklearn.metrics import f1_score"
   ]
  },
  {
   "cell_type": "code",
   "execution_count": 26,
   "id": "211744d3",
   "metadata": {
    "execution": {
     "iopub.execute_input": "2021-04-04T23:06:39.964840Z",
     "iopub.status.busy": "2021-04-04T23:06:39.963977Z",
     "iopub.status.idle": "2021-04-04T23:06:39.965878Z",
     "shell.execute_reply": "2021-04-04T23:06:39.966474Z"
    },
    "papermill": {
     "duration": 0.030193,
     "end_time": "2021-04-04T23:06:39.966624",
     "exception": false,
     "start_time": "2021-04-04T23:06:39.936431",
     "status": "completed"
    },
    "tags": []
   },
   "outputs": [],
   "source": [
    "y_test = y_test.replace([0, 1], [1, -1])"
   ]
  },
  {
   "cell_type": "code",
   "execution_count": 27,
   "id": "d68a9204",
   "metadata": {
    "execution": {
     "iopub.execute_input": "2021-04-04T23:06:40.022874Z",
     "iopub.status.busy": "2021-04-04T23:06:40.021830Z",
     "iopub.status.idle": "2021-04-04T23:06:40.024970Z",
     "shell.execute_reply": "2021-04-04T23:06:40.024197Z"
    },
    "papermill": {
     "duration": 0.033784,
     "end_time": "2021-04-04T23:06:40.025111",
     "exception": false,
     "start_time": "2021-04-04T23:06:39.991327",
     "status": "completed"
    },
    "tags": []
   },
   "outputs": [],
   "source": [
    "def evaluate(truths, predictions, pos_label, neg_label):\n",
    "    TP = 0\n",
    "    FP = 0\n",
    "    TN = 0\n",
    "    FN = 0\n",
    "\n",
    "    for truth, pred in zip(truths, predictions): \n",
    "        if truth == pred == pos_label:\n",
    "           TP += 1\n",
    "        elif pred == pos_label and truth == neg_label:\n",
    "           FP += 1\n",
    "        elif truth == pred == neg_label:\n",
    "           TN += 1\n",
    "        elif pred == neg_label and truth == pos_label:\n",
    "           FN += 1\n",
    "\n",
    "    precision = TP / (TP + FP)\n",
    "    sensitivity = TP / (TP + FN)\n",
    "    \n",
    "    return {\n",
    "        'true_pos': TP,\n",
    "        'false_pos': FP,\n",
    "        'false_neg': FN,\n",
    "        'true_neg': TN,\n",
    "        'precision': precision,\n",
    "        'sensitivity': sensitivity,\n",
    "        'f1': (2 * (precision * sensitivity)) / (precision + sensitivity)\n",
    "    }\n",
    "\n",
    "score = evaluate(y_test, predictions, pos_label=-1, neg_label=1)"
   ]
  },
  {
   "cell_type": "markdown",
   "id": "93596516",
   "metadata": {
    "papermill": {
     "duration": 0.023758,
     "end_time": "2021-04-04T23:06:40.077776",
     "exception": false,
     "start_time": "2021-04-04T23:06:40.054018",
     "status": "completed"
    },
    "tags": []
   },
   "source": [
    "# Report"
   ]
  },
  {
   "cell_type": "code",
   "execution_count": 28,
   "id": "bea5fba1",
   "metadata": {
    "execution": {
     "iopub.execute_input": "2021-04-04T23:06:40.132857Z",
     "iopub.status.busy": "2021-04-04T23:06:40.131896Z",
     "iopub.status.idle": "2021-04-04T23:06:40.134968Z",
     "shell.execute_reply": "2021-04-04T23:06:40.135715Z"
    },
    "papermill": {
     "duration": 0.034511,
     "end_time": "2021-04-04T23:06:40.135928",
     "exception": false,
     "start_time": "2021-04-04T23:06:40.101417",
     "status": "completed"
    },
    "tags": []
   },
   "outputs": [],
   "source": [
    "import csv\n",
    "\n",
    "\n",
    "dataset_config_name = DATASET_CONFIG_PATH.split('/')[-1].split('.')[0]\n",
    "model_config_name = MODEL_CONFIG_PATH.split('/')[-1].split('.')[0]\n",
    "configuration = f\"dataset_{dataset_config_name}-model_{model_config_name}\"\n",
    "\n",
    "with open('results.csv', 'a') as f:\n",
    "    report = dict({'configuration': configuration}, **score)\n",
    "    writer = csv.DictWriter(f, report.keys())\n",
    "    writer.writerow(report)"
   ]
  }
 ],
 "metadata": {
  "celltoolbar": "Tags",
  "kernelspec": {
   "display_name": "Python 3",
   "language": "python",
   "name": "python3"
  },
  "language_info": {
   "codemirror_mode": {
    "name": "ipython",
    "version": 3
   },
   "file_extension": ".py",
   "mimetype": "text/x-python",
   "name": "python",
   "nbconvert_exporter": "python",
   "pygments_lexer": "ipython3",
   "version": "3.9.1"
  },
  "papermill": {
   "default_parameters": {},
   "duration": 6.049631,
   "end_time": "2021-04-04T23:06:41.478633",
   "environment_variables": {},
   "exception": null,
   "input_path": "main.ipynb",
   "output_path": "runs/dataset_000084-model_000002.ipynb",
   "parameters": {
    "DATASET_CONFIG_PATH": "config/dataset/000084.json",
    "MODEL_CONFIG_PATH": "config/model/000002.json",
    "PROFILE_REPORTING": false
   },
   "start_time": "2021-04-04T23:06:35.429002",
   "version": "2.3.3"
  }
 },
 "nbformat": 4,
 "nbformat_minor": 5
}