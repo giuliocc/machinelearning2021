{
 "cells": [
  {
   "cell_type": "markdown",
   "id": "51c71c25",
   "metadata": {
    "papermill": {
     "duration": 0.033328,
     "end_time": "2021-04-04T22:53:14.826470",
     "exception": false,
     "start_time": "2021-04-04T22:53:14.793142",
     "status": "completed"
    },
    "tags": []
   },
   "source": [
    "# Parametrizing"
   ]
  },
  {
   "cell_type": "code",
   "execution_count": 1,
   "id": "3b136394",
   "metadata": {
    "execution": {
     "iopub.execute_input": "2021-04-04T22:53:14.902191Z",
     "iopub.status.busy": "2021-04-04T22:53:14.901198Z",
     "iopub.status.idle": "2021-04-04T22:53:14.904660Z",
     "shell.execute_reply": "2021-04-04T22:53:14.905269Z"
    },
    "papermill": {
     "duration": 0.051584,
     "end_time": "2021-04-04T22:53:14.905579",
     "exception": false,
     "start_time": "2021-04-04T22:53:14.853995",
     "status": "completed"
    },
    "tags": [
     "parameters"
    ]
   },
   "outputs": [],
   "source": [
    "DATASET_CONFIG_PATH = 'config/dataset/kc1_001.json'\n",
    "MODEL_CONFIG_PATH = 'config/model/knndd_001.json'\n",
    "PROFILE_REPORTING = False"
   ]
  },
  {
   "cell_type": "code",
   "execution_count": 2,
   "id": "ed4786be",
   "metadata": {
    "execution": {
     "iopub.execute_input": "2021-04-04T22:53:14.973100Z",
     "iopub.status.busy": "2021-04-04T22:53:14.972024Z",
     "iopub.status.idle": "2021-04-04T22:53:14.975140Z",
     "shell.execute_reply": "2021-04-04T22:53:14.973934Z"
    },
    "papermill": {
     "duration": 0.040909,
     "end_time": "2021-04-04T22:53:14.975527",
     "exception": false,
     "start_time": "2021-04-04T22:53:14.934618",
     "status": "completed"
    },
    "tags": [
     "injected-parameters"
    ]
   },
   "outputs": [],
   "source": [
    "# Parameters\n",
    "DATASET_CONFIG_PATH = \"config/dataset/000057.json\"\n",
    "MODEL_CONFIG_PATH = \"config/model/000001.json\"\n",
    "PROFILE_REPORTING = False\n"
   ]
  },
  {
   "cell_type": "code",
   "execution_count": 3,
   "id": "b80f2a10",
   "metadata": {
    "execution": {
     "iopub.execute_input": "2021-04-04T22:53:15.038655Z",
     "iopub.status.busy": "2021-04-04T22:53:15.037336Z",
     "iopub.status.idle": "2021-04-04T22:53:15.042339Z",
     "shell.execute_reply": "2021-04-04T22:53:15.043301Z"
    },
    "papermill": {
     "duration": 0.042008,
     "end_time": "2021-04-04T22:53:15.043715",
     "exception": false,
     "start_time": "2021-04-04T22:53:15.001707",
     "status": "completed"
    },
    "tags": []
   },
   "outputs": [],
   "source": [
    "import json\n",
    "\n",
    "\n",
    "with open(DATASET_CONFIG_PATH) as f:\n",
    "    dataset_config = json.load(f)\n",
    "\n",
    "with open(MODEL_CONFIG_PATH) as f:\n",
    "    model_config = json.load(f)"
   ]
  },
  {
   "cell_type": "markdown",
   "id": "9a4b0e2d",
   "metadata": {
    "papermill": {
     "duration": 0.026136,
     "end_time": "2021-04-04T22:53:15.100786",
     "exception": false,
     "start_time": "2021-04-04T22:53:15.074650",
     "status": "completed"
    },
    "tags": []
   },
   "source": [
    "# Profiling"
   ]
  },
  {
   "cell_type": "code",
   "execution_count": 4,
   "id": "a3e0289b",
   "metadata": {
    "execution": {
     "iopub.execute_input": "2021-04-04T22:53:15.167413Z",
     "iopub.status.busy": "2021-04-04T22:53:15.165915Z",
     "iopub.status.idle": "2021-04-04T22:53:16.822148Z",
     "shell.execute_reply": "2021-04-04T22:53:16.821517Z"
    },
    "papermill": {
     "duration": 1.691166,
     "end_time": "2021-04-04T22:53:16.822275",
     "exception": false,
     "start_time": "2021-04-04T22:53:15.131109",
     "status": "completed"
    },
    "tags": []
   },
   "outputs": [],
   "source": [
    "import pandas as pd\n",
    "from pandas_profiling import ProfileReport"
   ]
  },
  {
   "cell_type": "code",
   "execution_count": 5,
   "id": "ee6c0666",
   "metadata": {
    "execution": {
     "iopub.execute_input": "2021-04-04T22:53:16.876683Z",
     "iopub.status.busy": "2021-04-04T22:53:16.875478Z",
     "iopub.status.idle": "2021-04-04T22:53:16.899395Z",
     "shell.execute_reply": "2021-04-04T22:53:16.902165Z"
    },
    "papermill": {
     "duration": 0.057942,
     "end_time": "2021-04-04T22:53:16.902481",
     "exception": false,
     "start_time": "2021-04-04T22:53:16.844539",
     "status": "completed"
    },
    "tags": []
   },
   "outputs": [],
   "source": [
    "df = pd.read_csv(dataset_config['dataset_path'])"
   ]
  },
  {
   "cell_type": "code",
   "execution_count": 6,
   "id": "7eca6c4a",
   "metadata": {
    "execution": {
     "iopub.execute_input": "2021-04-04T22:53:16.976315Z",
     "iopub.status.busy": "2021-04-04T22:53:16.973910Z",
     "iopub.status.idle": "2021-04-04T22:53:16.989224Z",
     "shell.execute_reply": "2021-04-04T22:53:16.989701Z"
    },
    "papermill": {
     "duration": 0.045619,
     "end_time": "2021-04-04T22:53:16.989849",
     "exception": false,
     "start_time": "2021-04-04T22:53:16.944230",
     "status": "completed"
    },
    "tags": []
   },
   "outputs": [
    {
     "name": "stdout",
     "output_type": "stream",
     "text": [
      "<class 'pandas.core.frame.DataFrame'>\n",
      "RangeIndex: 2109 entries, 0 to 2108\n",
      "Data columns (total 23 columns):\n",
      " #   Column             Non-Null Count  Dtype  \n",
      "---  ------             --------------  -----  \n",
      " 0   id                 2109 non-null   int64  \n",
      " 1   loc                2109 non-null   float64\n",
      " 2   v(g)               2109 non-null   float64\n",
      " 3   ev(g)              2109 non-null   float64\n",
      " 4   iv(g)              2109 non-null   float64\n",
      " 5   n                  2109 non-null   float64\n",
      " 6   v                  2109 non-null   float64\n",
      " 7   l                  2109 non-null   float64\n",
      " 8   d                  2109 non-null   float64\n",
      " 9   i                  2109 non-null   float64\n",
      " 10  e                  2109 non-null   float64\n",
      " 11  b                  2109 non-null   float64\n",
      " 12  t                  2109 non-null   float64\n",
      " 13  lOCode             2109 non-null   int64  \n",
      " 14  lOComment          2109 non-null   int64  \n",
      " 15  lOBlank            2109 non-null   int64  \n",
      " 16  locCodeAndComment  2109 non-null   int64  \n",
      " 17  uniq_Op            2109 non-null   float64\n",
      " 18  uniq_Opnd          2109 non-null   float64\n",
      " 19  total_Op           2109 non-null   float64\n",
      " 20  total_Opnd         2109 non-null   float64\n",
      " 21  branchCount        2109 non-null   float64\n",
      " 22  defects            2109 non-null   bool   \n",
      "dtypes: bool(1), float64(17), int64(5)\n",
      "memory usage: 364.7 KB\n"
     ]
    }
   ],
   "source": [
    "df.info()"
   ]
  },
  {
   "cell_type": "code",
   "execution_count": 7,
   "id": "3638e5e8",
   "metadata": {
    "execution": {
     "iopub.execute_input": "2021-04-04T22:53:17.041476Z",
     "iopub.status.busy": "2021-04-04T22:53:17.040835Z",
     "iopub.status.idle": "2021-04-04T22:53:17.071523Z",
     "shell.execute_reply": "2021-04-04T22:53:17.070360Z"
    },
    "papermill": {
     "duration": 0.059341,
     "end_time": "2021-04-04T22:53:17.071787",
     "exception": false,
     "start_time": "2021-04-04T22:53:17.012446",
     "status": "completed"
    },
    "tags": []
   },
   "outputs": [
    {
     "data": {
      "text/html": [
       "<div>\n",
       "<style scoped>\n",
       "    .dataframe tbody tr th:only-of-type {\n",
       "        vertical-align: middle;\n",
       "    }\n",
       "\n",
       "    .dataframe tbody tr th {\n",
       "        vertical-align: top;\n",
       "    }\n",
       "\n",
       "    .dataframe thead th {\n",
       "        text-align: right;\n",
       "    }\n",
       "</style>\n",
       "<table border=\"1\" class=\"dataframe\">\n",
       "  <thead>\n",
       "    <tr style=\"text-align: right;\">\n",
       "      <th></th>\n",
       "      <th>id</th>\n",
       "      <th>loc</th>\n",
       "      <th>v(g)</th>\n",
       "      <th>ev(g)</th>\n",
       "      <th>iv(g)</th>\n",
       "      <th>n</th>\n",
       "      <th>v</th>\n",
       "      <th>l</th>\n",
       "      <th>d</th>\n",
       "      <th>i</th>\n",
       "      <th>...</th>\n",
       "      <th>lOCode</th>\n",
       "      <th>lOComment</th>\n",
       "      <th>lOBlank</th>\n",
       "      <th>locCodeAndComment</th>\n",
       "      <th>uniq_Op</th>\n",
       "      <th>uniq_Opnd</th>\n",
       "      <th>total_Op</th>\n",
       "      <th>total_Opnd</th>\n",
       "      <th>branchCount</th>\n",
       "      <th>defects</th>\n",
       "    </tr>\n",
       "  </thead>\n",
       "  <tbody>\n",
       "    <tr>\n",
       "      <th>0</th>\n",
       "      <td>1</td>\n",
       "      <td>1.1</td>\n",
       "      <td>1.4</td>\n",
       "      <td>1.4</td>\n",
       "      <td>1.4</td>\n",
       "      <td>1.3</td>\n",
       "      <td>1.30</td>\n",
       "      <td>1.30</td>\n",
       "      <td>1.30</td>\n",
       "      <td>1.30</td>\n",
       "      <td>...</td>\n",
       "      <td>2</td>\n",
       "      <td>2</td>\n",
       "      <td>2</td>\n",
       "      <td>2</td>\n",
       "      <td>1.2</td>\n",
       "      <td>1.2</td>\n",
       "      <td>1.2</td>\n",
       "      <td>1.2</td>\n",
       "      <td>1.4</td>\n",
       "      <td>False</td>\n",
       "    </tr>\n",
       "    <tr>\n",
       "      <th>1</th>\n",
       "      <td>2</td>\n",
       "      <td>1.0</td>\n",
       "      <td>1.0</td>\n",
       "      <td>1.0</td>\n",
       "      <td>1.0</td>\n",
       "      <td>1.0</td>\n",
       "      <td>1.00</td>\n",
       "      <td>1.00</td>\n",
       "      <td>1.00</td>\n",
       "      <td>1.00</td>\n",
       "      <td>...</td>\n",
       "      <td>1</td>\n",
       "      <td>1</td>\n",
       "      <td>1</td>\n",
       "      <td>1</td>\n",
       "      <td>1.0</td>\n",
       "      <td>1.0</td>\n",
       "      <td>1.0</td>\n",
       "      <td>1.0</td>\n",
       "      <td>1.0</td>\n",
       "      <td>True</td>\n",
       "    </tr>\n",
       "    <tr>\n",
       "      <th>2</th>\n",
       "      <td>3</td>\n",
       "      <td>83.0</td>\n",
       "      <td>11.0</td>\n",
       "      <td>1.0</td>\n",
       "      <td>11.0</td>\n",
       "      <td>171.0</td>\n",
       "      <td>927.89</td>\n",
       "      <td>0.04</td>\n",
       "      <td>23.04</td>\n",
       "      <td>40.27</td>\n",
       "      <td>...</td>\n",
       "      <td>65</td>\n",
       "      <td>10</td>\n",
       "      <td>6</td>\n",
       "      <td>0</td>\n",
       "      <td>18.0</td>\n",
       "      <td>25.0</td>\n",
       "      <td>107.0</td>\n",
       "      <td>64.0</td>\n",
       "      <td>21.0</td>\n",
       "      <td>True</td>\n",
       "    </tr>\n",
       "    <tr>\n",
       "      <th>3</th>\n",
       "      <td>4</td>\n",
       "      <td>46.0</td>\n",
       "      <td>8.0</td>\n",
       "      <td>6.0</td>\n",
       "      <td>8.0</td>\n",
       "      <td>141.0</td>\n",
       "      <td>769.78</td>\n",
       "      <td>0.07</td>\n",
       "      <td>14.86</td>\n",
       "      <td>51.81</td>\n",
       "      <td>...</td>\n",
       "      <td>37</td>\n",
       "      <td>2</td>\n",
       "      <td>5</td>\n",
       "      <td>0</td>\n",
       "      <td>16.0</td>\n",
       "      <td>28.0</td>\n",
       "      <td>89.0</td>\n",
       "      <td>52.0</td>\n",
       "      <td>15.0</td>\n",
       "      <td>True</td>\n",
       "    </tr>\n",
       "    <tr>\n",
       "      <th>4</th>\n",
       "      <td>5</td>\n",
       "      <td>25.0</td>\n",
       "      <td>3.0</td>\n",
       "      <td>1.0</td>\n",
       "      <td>3.0</td>\n",
       "      <td>58.0</td>\n",
       "      <td>254.75</td>\n",
       "      <td>0.11</td>\n",
       "      <td>9.35</td>\n",
       "      <td>27.25</td>\n",
       "      <td>...</td>\n",
       "      <td>21</td>\n",
       "      <td>0</td>\n",
       "      <td>2</td>\n",
       "      <td>0</td>\n",
       "      <td>11.0</td>\n",
       "      <td>10.0</td>\n",
       "      <td>41.0</td>\n",
       "      <td>17.0</td>\n",
       "      <td>5.0</td>\n",
       "      <td>True</td>\n",
       "    </tr>\n",
       "  </tbody>\n",
       "</table>\n",
       "<p>5 rows × 23 columns</p>\n",
       "</div>"
      ],
      "text/plain": [
       "   id   loc  v(g)  ev(g)  iv(g)      n       v     l      d      i  ...  \\\n",
       "0   1   1.1   1.4    1.4    1.4    1.3    1.30  1.30   1.30   1.30  ...   \n",
       "1   2   1.0   1.0    1.0    1.0    1.0    1.00  1.00   1.00   1.00  ...   \n",
       "2   3  83.0  11.0    1.0   11.0  171.0  927.89  0.04  23.04  40.27  ...   \n",
       "3   4  46.0   8.0    6.0    8.0  141.0  769.78  0.07  14.86  51.81  ...   \n",
       "4   5  25.0   3.0    1.0    3.0   58.0  254.75  0.11   9.35  27.25  ...   \n",
       "\n",
       "   lOCode  lOComment  lOBlank  locCodeAndComment  uniq_Op  uniq_Opnd  \\\n",
       "0       2          2        2                  2      1.2        1.2   \n",
       "1       1          1        1                  1      1.0        1.0   \n",
       "2      65         10        6                  0     18.0       25.0   \n",
       "3      37          2        5                  0     16.0       28.0   \n",
       "4      21          0        2                  0     11.0       10.0   \n",
       "\n",
       "   total_Op  total_Opnd  branchCount  defects  \n",
       "0       1.2         1.2          1.4    False  \n",
       "1       1.0         1.0          1.0     True  \n",
       "2     107.0        64.0         21.0     True  \n",
       "3      89.0        52.0         15.0     True  \n",
       "4      41.0        17.0          5.0     True  \n",
       "\n",
       "[5 rows x 23 columns]"
      ]
     },
     "execution_count": 7,
     "metadata": {},
     "output_type": "execute_result"
    }
   ],
   "source": [
    "df.head()"
   ]
  },
  {
   "cell_type": "code",
   "execution_count": 8,
   "id": "733e95eb",
   "metadata": {
    "execution": {
     "iopub.execute_input": "2021-04-04T22:53:17.139922Z",
     "iopub.status.busy": "2021-04-04T22:53:17.136958Z",
     "iopub.status.idle": "2021-04-04T22:53:17.142508Z",
     "shell.execute_reply": "2021-04-04T22:53:17.141490Z"
    },
    "papermill": {
     "duration": 0.048921,
     "end_time": "2021-04-04T22:53:17.142769",
     "exception": false,
     "start_time": "2021-04-04T22:53:17.093848",
     "status": "completed"
    },
    "tags": []
   },
   "outputs": [],
   "source": [
    "del df['id']"
   ]
  },
  {
   "cell_type": "code",
   "execution_count": 9,
   "id": "6ff6f5b0",
   "metadata": {
    "execution": {
     "iopub.execute_input": "2021-04-04T22:53:17.259352Z",
     "iopub.status.busy": "2021-04-04T22:53:17.257949Z",
     "iopub.status.idle": "2021-04-04T22:53:17.261220Z",
     "shell.execute_reply": "2021-04-04T22:53:17.264014Z"
    },
    "papermill": {
     "duration": 0.066021,
     "end_time": "2021-04-04T22:53:17.264638",
     "exception": false,
     "start_time": "2021-04-04T22:53:17.198617",
     "status": "completed"
    },
    "tags": []
   },
   "outputs": [],
   "source": [
    "if PROFILE_REPORTING:\n",
    "    ProfileReport(df).to_widgets()"
   ]
  },
  {
   "cell_type": "markdown",
   "id": "1deaf3f0",
   "metadata": {
    "papermill": {
     "duration": 0.04426,
     "end_time": "2021-04-04T22:53:17.355217",
     "exception": false,
     "start_time": "2021-04-04T22:53:17.310957",
     "status": "completed"
    },
    "tags": []
   },
   "source": [
    "# Preprocess"
   ]
  },
  {
   "cell_type": "code",
   "execution_count": 10,
   "id": "1513e563",
   "metadata": {
    "execution": {
     "iopub.execute_input": "2021-04-04T22:53:17.437403Z",
     "iopub.status.busy": "2021-04-04T22:53:17.436589Z",
     "iopub.status.idle": "2021-04-04T22:53:17.440333Z",
     "shell.execute_reply": "2021-04-04T22:53:17.441203Z"
    },
    "papermill": {
     "duration": 0.055215,
     "end_time": "2021-04-04T22:53:17.441400",
     "exception": false,
     "start_time": "2021-04-04T22:53:17.386185",
     "status": "completed"
    },
    "tags": []
   },
   "outputs": [],
   "source": [
    "working_df = df.copy()"
   ]
  },
  {
   "cell_type": "code",
   "execution_count": 11,
   "id": "3b26d675",
   "metadata": {
    "execution": {
     "iopub.execute_input": "2021-04-04T22:53:17.503086Z",
     "iopub.status.busy": "2021-04-04T22:53:17.501031Z",
     "iopub.status.idle": "2021-04-04T22:53:17.506526Z",
     "shell.execute_reply": "2021-04-04T22:53:17.505802Z"
    },
    "papermill": {
     "duration": 0.039925,
     "end_time": "2021-04-04T22:53:17.506690",
     "exception": false,
     "start_time": "2021-04-04T22:53:17.466765",
     "status": "completed"
    },
    "tags": []
   },
   "outputs": [],
   "source": [
    "working_df['defects'] = working_df['defects'].replace([False, True], [0, 1])"
   ]
  },
  {
   "cell_type": "code",
   "execution_count": 12,
   "id": "eb48604f",
   "metadata": {
    "execution": {
     "iopub.execute_input": "2021-04-04T22:53:17.558544Z",
     "iopub.status.busy": "2021-04-04T22:53:17.557681Z",
     "iopub.status.idle": "2021-04-04T22:53:17.560221Z",
     "shell.execute_reply": "2021-04-04T22:53:17.559712Z"
    },
    "papermill": {
     "duration": 0.028664,
     "end_time": "2021-04-04T22:53:17.560341",
     "exception": false,
     "start_time": "2021-04-04T22:53:17.531677",
     "status": "completed"
    },
    "tags": []
   },
   "outputs": [],
   "source": [
    "for col in dataset_config['delete_columns']:\n",
    "    del working_df[col]"
   ]
  },
  {
   "cell_type": "code",
   "execution_count": 13,
   "id": "9a17bc29",
   "metadata": {
    "execution": {
     "iopub.execute_input": "2021-04-04T22:53:17.633643Z",
     "iopub.status.busy": "2021-04-04T22:53:17.628454Z",
     "iopub.status.idle": "2021-04-04T22:53:17.650417Z",
     "shell.execute_reply": "2021-04-04T22:53:17.653615Z"
    },
    "papermill": {
     "duration": 0.068952,
     "end_time": "2021-04-04T22:53:17.654200",
     "exception": false,
     "start_time": "2021-04-04T22:53:17.585248",
     "status": "completed"
    },
    "tags": []
   },
   "outputs": [],
   "source": [
    "working_df = working_df.drop_duplicates()"
   ]
  },
  {
   "cell_type": "markdown",
   "id": "a4d52ca6",
   "metadata": {
    "papermill": {
     "duration": 0.02416,
     "end_time": "2021-04-04T22:53:17.724840",
     "exception": false,
     "start_time": "2021-04-04T22:53:17.700680",
     "status": "completed"
    },
    "tags": []
   },
   "source": [
    "# Split"
   ]
  },
  {
   "cell_type": "code",
   "execution_count": 14,
   "id": "3e9ee4b5",
   "metadata": {
    "execution": {
     "iopub.execute_input": "2021-04-04T22:53:17.791758Z",
     "iopub.status.busy": "2021-04-04T22:53:17.789608Z",
     "iopub.status.idle": "2021-04-04T22:53:17.827290Z",
     "shell.execute_reply": "2021-04-04T22:53:17.827817Z"
    },
    "papermill": {
     "duration": 0.075637,
     "end_time": "2021-04-04T22:53:17.827984",
     "exception": false,
     "start_time": "2021-04-04T22:53:17.752347",
     "status": "completed"
    },
    "tags": []
   },
   "outputs": [],
   "source": [
    "from sklearn.model_selection import train_test_split"
   ]
  },
  {
   "cell_type": "code",
   "execution_count": 15,
   "id": "274004ce",
   "metadata": {
    "execution": {
     "iopub.execute_input": "2021-04-04T22:53:17.882224Z",
     "iopub.status.busy": "2021-04-04T22:53:17.880962Z",
     "iopub.status.idle": "2021-04-04T22:53:17.886305Z",
     "shell.execute_reply": "2021-04-04T22:53:17.886787Z"
    },
    "papermill": {
     "duration": 0.033976,
     "end_time": "2021-04-04T22:53:17.886939",
     "exception": false,
     "start_time": "2021-04-04T22:53:17.852963",
     "status": "completed"
    },
    "scrolled": true,
    "tags": []
   },
   "outputs": [],
   "source": [
    "inlier, outlier = working_df[working_df['defects'] == 0], working_df[working_df['defects'] == 1]"
   ]
  },
  {
   "cell_type": "code",
   "execution_count": 16,
   "id": "753c7b03",
   "metadata": {
    "execution": {
     "iopub.execute_input": "2021-04-04T22:53:17.949267Z",
     "iopub.status.busy": "2021-04-04T22:53:17.948556Z",
     "iopub.status.idle": "2021-04-04T22:53:17.951878Z",
     "shell.execute_reply": "2021-04-04T22:53:17.951253Z"
    },
    "papermill": {
     "duration": 0.041071,
     "end_time": "2021-04-04T22:53:17.952023",
     "exception": false,
     "start_time": "2021-04-04T22:53:17.910952",
     "status": "completed"
    },
    "tags": []
   },
   "outputs": [],
   "source": [
    "X_inlier = inlier.copy()\n",
    "y_inlier = X_inlier.pop('defects')\n",
    "X_outlier = outlier.copy()\n",
    "y_outlier = X_outlier.pop('defects')"
   ]
  },
  {
   "cell_type": "code",
   "execution_count": 17,
   "id": "2ba43193",
   "metadata": {
    "execution": {
     "iopub.execute_input": "2021-04-04T22:53:18.008768Z",
     "iopub.status.busy": "2021-04-04T22:53:18.008163Z",
     "iopub.status.idle": "2021-04-04T22:53:18.010487Z",
     "shell.execute_reply": "2021-04-04T22:53:18.010955Z"
    },
    "papermill": {
     "duration": 0.035702,
     "end_time": "2021-04-04T22:53:18.011100",
     "exception": false,
     "start_time": "2021-04-04T22:53:17.975398",
     "status": "completed"
    },
    "tags": []
   },
   "outputs": [],
   "source": [
    "test_size = dataset_config['test_size']\n",
    "random_state = dataset_config['random_state']\n",
    "\n",
    "X_inlier_train, X_inlier_test, y_inlier_train, y_inlier_test = train_test_split(\n",
    "    X_inlier,\n",
    "    y_inlier,\n",
    "    test_size=test_size,\n",
    "    random_state=random_state\n",
    ")"
   ]
  },
  {
   "cell_type": "code",
   "execution_count": 18,
   "id": "0b7582ca",
   "metadata": {
    "execution": {
     "iopub.execute_input": "2021-04-04T22:53:18.071431Z",
     "iopub.status.busy": "2021-04-04T22:53:18.070135Z",
     "iopub.status.idle": "2021-04-04T22:53:18.074084Z",
     "shell.execute_reply": "2021-04-04T22:53:18.074820Z"
    },
    "papermill": {
     "duration": 0.040513,
     "end_time": "2021-04-04T22:53:18.075042",
     "exception": false,
     "start_time": "2021-04-04T22:53:18.034529",
     "status": "completed"
    },
    "tags": []
   },
   "outputs": [],
   "source": [
    "test_outlier_size = dataset_config['test_outlier_size']\n",
    "if test_outlier_size > 0.0:\n",
    "    X_outlier_train, X_outlier_test, y_outlier_train, y_outlier_test = train_test_split(\n",
    "        X_outlier,\n",
    "        y_outlier,\n",
    "        test_size=test_outlier_size,\n",
    "        random_state=random_state\n",
    "    )\n",
    "else:\n",
    "    X_outlier_train, y_outlier_train = pd.DataFrame(columns=X_outlier.columns), pd.Series(dtype='int64')\n",
    "    X_outlier_test, y_outlier_test = X_outlier.copy(), y_outlier.copy()"
   ]
  },
  {
   "cell_type": "code",
   "execution_count": 19,
   "id": "c34363db",
   "metadata": {
    "execution": {
     "iopub.execute_input": "2021-04-04T22:53:18.132445Z",
     "iopub.status.busy": "2021-04-04T22:53:18.131754Z",
     "iopub.status.idle": "2021-04-04T22:53:18.138452Z",
     "shell.execute_reply": "2021-04-04T22:53:18.137672Z"
    },
    "papermill": {
     "duration": 0.03797,
     "end_time": "2021-04-04T22:53:18.138656",
     "exception": false,
     "start_time": "2021-04-04T22:53:18.100686",
     "status": "completed"
    },
    "tags": []
   },
   "outputs": [],
   "source": [
    "X_train, y_train = pd.concat([X_inlier_train, X_outlier_train], ignore_index=True), pd.concat([y_inlier_train, y_outlier_train], ignore_index=True)\n",
    "X_test, y_test = pd.concat([X_inlier_test, X_outlier_test], ignore_index=True), pd.concat([y_inlier_test, y_outlier_test], ignore_index=True)"
   ]
  },
  {
   "cell_type": "markdown",
   "id": "7cde7309",
   "metadata": {
    "papermill": {
     "duration": 0.035413,
     "end_time": "2021-04-04T22:53:18.201273",
     "exception": false,
     "start_time": "2021-04-04T22:53:18.165860",
     "status": "completed"
    },
    "tags": []
   },
   "source": [
    "# Model"
   ]
  },
  {
   "cell_type": "code",
   "execution_count": 20,
   "id": "2b12a415",
   "metadata": {
    "execution": {
     "iopub.execute_input": "2021-04-04T22:53:18.269820Z",
     "iopub.status.busy": "2021-04-04T22:53:18.269088Z",
     "iopub.status.idle": "2021-04-04T22:53:18.271646Z",
     "shell.execute_reply": "2021-04-04T22:53:18.270818Z"
    },
    "papermill": {
     "duration": 0.042472,
     "end_time": "2021-04-04T22:53:18.271866",
     "exception": false,
     "start_time": "2021-04-04T22:53:18.229394",
     "status": "completed"
    },
    "tags": []
   },
   "outputs": [],
   "source": [
    "from math import sqrt\n",
    "\n",
    "\n",
    "class KNNDataDescription:\n",
    "    def __init__(self, k=5, outlier_threshold=1.0):\n",
    "        self.k = k\n",
    "        self.outlier_threshold = outlier_threshold\n",
    "        self.X = []\n",
    "    \n",
    "    def fit(self, X):\n",
    "        self.X = [features.to_list() for index, features in X.iterrows()]\n",
    "\n",
    "    def predict(self, entries):\n",
    "        return [self.predict_entry(features.to_list()) for index, features in entries.iterrows()]\n",
    "    \n",
    "    def predict_entry(self, entry):\n",
    "        kth_neighbor, kth_distance = self.get_kth_neighbor(entry, self.k)\n",
    "        kth_kth_neighbor, kth_kth_distance = self.get_kth_neighbor(kth_neighbor, self.k + 1)\n",
    "\n",
    "        outlier_score = kth_distance / (kth_kth_distance + 0.000001)\n",
    "\n",
    "        return 1 if outlier_score < self.outlier_threshold else -1\n",
    "        \n",
    "    def euclidean_distance(self, features1, features2):\n",
    "        distance = 0.0\n",
    "        for feat1, feat2 in zip(features1, features2):\n",
    "            distance += (feat1 - feat2)**2\n",
    "                \n",
    "        return sqrt(distance)\n",
    "\n",
    "    def get_neighbors(self, entry, k):\n",
    "        distance_to_data_points = [\n",
    "            (data_point, self.euclidean_distance(entry, data_point))\n",
    "            for data_point in self.X\n",
    "        ]\n",
    "        sorted_by_distance = sorted(distance_to_data_points, key=lambda tup: tup[1])\n",
    "        neighbors = sorted_by_distance[:k]\n",
    "        return neighbors\n",
    "\n",
    "    def get_kth_neighbor(self, entry, k):\n",
    "        neighbors = self.get_neighbors(entry, k)\n",
    "        return neighbors[-1]\n"
   ]
  },
  {
   "cell_type": "code",
   "execution_count": 21,
   "id": "1fa9ec1c",
   "metadata": {
    "execution": {
     "iopub.execute_input": "2021-04-04T22:53:18.345333Z",
     "iopub.status.busy": "2021-04-04T22:53:18.342522Z",
     "iopub.status.idle": "2021-04-04T22:53:18.383021Z",
     "shell.execute_reply": "2021-04-04T22:53:18.381715Z"
    },
    "papermill": {
     "duration": 0.084538,
     "end_time": "2021-04-04T22:53:18.383351",
     "exception": false,
     "start_time": "2021-04-04T22:53:18.298813",
     "status": "completed"
    },
    "tags": []
   },
   "outputs": [],
   "source": [
    "from sklearn.svm import OneClassSVM\n",
    "\n",
    "\n",
    "models = {\n",
    "    'oneclasssvm': OneClassSVM,\n",
    "    'knndatadescription': KNNDataDescription,\n",
    "}"
   ]
  },
  {
   "cell_type": "code",
   "execution_count": 22,
   "id": "4d72a0b1",
   "metadata": {
    "execution": {
     "iopub.execute_input": "2021-04-04T22:53:18.444607Z",
     "iopub.status.busy": "2021-04-04T22:53:18.443730Z",
     "iopub.status.idle": "2021-04-04T22:53:18.446765Z",
     "shell.execute_reply": "2021-04-04T22:53:18.446207Z"
    },
    "papermill": {
     "duration": 0.032285,
     "end_time": "2021-04-04T22:53:18.446887",
     "exception": false,
     "start_time": "2021-04-04T22:53:18.414602",
     "status": "completed"
    },
    "scrolled": true,
    "tags": []
   },
   "outputs": [],
   "source": [
    "model_cls = models[model_config['model_type']]\n",
    "model = model_cls(**model_config['hyperparameters'])"
   ]
  },
  {
   "cell_type": "markdown",
   "id": "e00cff3b",
   "metadata": {
    "papermill": {
     "duration": 0.031793,
     "end_time": "2021-04-04T22:53:18.504282",
     "exception": false,
     "start_time": "2021-04-04T22:53:18.472489",
     "status": "completed"
    },
    "tags": []
   },
   "source": [
    "# Fit"
   ]
  },
  {
   "cell_type": "code",
   "execution_count": 23,
   "id": "8b2ded89",
   "metadata": {
    "execution": {
     "iopub.execute_input": "2021-04-04T22:53:18.564965Z",
     "iopub.status.busy": "2021-04-04T22:53:18.563769Z",
     "iopub.status.idle": "2021-04-04T22:53:18.622883Z",
     "shell.execute_reply": "2021-04-04T22:53:18.622238Z"
    },
    "papermill": {
     "duration": 0.091013,
     "end_time": "2021-04-04T22:53:18.623032",
     "exception": false,
     "start_time": "2021-04-04T22:53:18.532019",
     "status": "completed"
    },
    "tags": []
   },
   "outputs": [],
   "source": [
    "model.fit(X_train)"
   ]
  },
  {
   "cell_type": "markdown",
   "id": "f99999f7",
   "metadata": {
    "papermill": {
     "duration": 0.031679,
     "end_time": "2021-04-04T22:53:18.681803",
     "exception": false,
     "start_time": "2021-04-04T22:53:18.650124",
     "status": "completed"
    },
    "tags": []
   },
   "source": [
    "# Predict"
   ]
  },
  {
   "cell_type": "code",
   "execution_count": 24,
   "id": "6536fbf7",
   "metadata": {
    "execution": {
     "iopub.execute_input": "2021-04-04T22:53:18.740358Z",
     "iopub.status.busy": "2021-04-04T22:53:18.739618Z",
     "iopub.status.idle": "2021-04-04T22:53:21.080804Z",
     "shell.execute_reply": "2021-04-04T22:53:21.081535Z"
    },
    "papermill": {
     "duration": 2.371938,
     "end_time": "2021-04-04T22:53:21.081765",
     "exception": false,
     "start_time": "2021-04-04T22:53:18.709827",
     "status": "completed"
    },
    "tags": []
   },
   "outputs": [],
   "source": [
    "predictions = model.predict(X_test)"
   ]
  },
  {
   "cell_type": "markdown",
   "id": "aa1c9881",
   "metadata": {
    "papermill": {
     "duration": 0.027332,
     "end_time": "2021-04-04T22:53:21.137408",
     "exception": false,
     "start_time": "2021-04-04T22:53:21.110076",
     "status": "completed"
    },
    "tags": []
   },
   "source": [
    "# Evaluate"
   ]
  },
  {
   "cell_type": "code",
   "execution_count": 25,
   "id": "894f0f04",
   "metadata": {
    "execution": {
     "iopub.execute_input": "2021-04-04T22:53:21.191966Z",
     "iopub.status.busy": "2021-04-04T22:53:21.190634Z",
     "iopub.status.idle": "2021-04-04T22:53:21.194861Z",
     "shell.execute_reply": "2021-04-04T22:53:21.195397Z"
    },
    "papermill": {
     "duration": 0.031802,
     "end_time": "2021-04-04T22:53:21.195561",
     "exception": false,
     "start_time": "2021-04-04T22:53:21.163759",
     "status": "completed"
    },
    "tags": []
   },
   "outputs": [],
   "source": [
    "from sklearn.metrics import f1_score"
   ]
  },
  {
   "cell_type": "code",
   "execution_count": 26,
   "id": "211744d3",
   "metadata": {
    "execution": {
     "iopub.execute_input": "2021-04-04T22:53:21.258458Z",
     "iopub.status.busy": "2021-04-04T22:53:21.257549Z",
     "iopub.status.idle": "2021-04-04T22:53:21.260419Z",
     "shell.execute_reply": "2021-04-04T22:53:21.261550Z"
    },
    "papermill": {
     "duration": 0.041653,
     "end_time": "2021-04-04T22:53:21.261904",
     "exception": false,
     "start_time": "2021-04-04T22:53:21.220251",
     "status": "completed"
    },
    "tags": []
   },
   "outputs": [],
   "source": [
    "y_test = y_test.replace([0, 1], [1, -1])"
   ]
  },
  {
   "cell_type": "code",
   "execution_count": 27,
   "id": "d68a9204",
   "metadata": {
    "execution": {
     "iopub.execute_input": "2021-04-04T22:53:21.318509Z",
     "iopub.status.busy": "2021-04-04T22:53:21.317626Z",
     "iopub.status.idle": "2021-04-04T22:53:21.320480Z",
     "shell.execute_reply": "2021-04-04T22:53:21.319931Z"
    },
    "papermill": {
     "duration": 0.035033,
     "end_time": "2021-04-04T22:53:21.320603",
     "exception": false,
     "start_time": "2021-04-04T22:53:21.285570",
     "status": "completed"
    },
    "tags": []
   },
   "outputs": [],
   "source": [
    "def evaluate(truths, predictions, pos_label, neg_label):\n",
    "    TP = 0\n",
    "    FP = 0\n",
    "    TN = 0\n",
    "    FN = 0\n",
    "\n",
    "    for truth, pred in zip(truths, predictions): \n",
    "        if truth == pred == pos_label:\n",
    "           TP += 1\n",
    "        elif pred == pos_label and truth == neg_label:\n",
    "           FP += 1\n",
    "        elif truth == pred == neg_label:\n",
    "           TN += 1\n",
    "        elif pred == neg_label and truth == pos_label:\n",
    "           FN += 1\n",
    "\n",
    "    precision = TP / (TP + FP)\n",
    "    sensitivity = TP / (TP + FN)\n",
    "    \n",
    "    return {\n",
    "        'true_pos': TP,\n",
    "        'false_pos': FP,\n",
    "        'false_neg': FN,\n",
    "        'true_neg': TN,\n",
    "        'precision': precision,\n",
    "        'sensitivity': sensitivity,\n",
    "        'f1': (2 * (precision * sensitivity)) / (precision + sensitivity)\n",
    "    }\n",
    "\n",
    "score = evaluate(y_test, predictions, pos_label=-1, neg_label=1)"
   ]
  },
  {
   "cell_type": "markdown",
   "id": "93596516",
   "metadata": {
    "papermill": {
     "duration": 0.032837,
     "end_time": "2021-04-04T22:53:21.382299",
     "exception": false,
     "start_time": "2021-04-04T22:53:21.349462",
     "status": "completed"
    },
    "tags": []
   },
   "source": [
    "# Report"
   ]
  },
  {
   "cell_type": "code",
   "execution_count": 28,
   "id": "bea5fba1",
   "metadata": {
    "execution": {
     "iopub.execute_input": "2021-04-04T22:53:21.449311Z",
     "iopub.status.busy": "2021-04-04T22:53:21.448592Z",
     "iopub.status.idle": "2021-04-04T22:53:21.451501Z",
     "shell.execute_reply": "2021-04-04T22:53:21.452026Z"
    },
    "papermill": {
     "duration": 0.038289,
     "end_time": "2021-04-04T22:53:21.452206",
     "exception": false,
     "start_time": "2021-04-04T22:53:21.413917",
     "status": "completed"
    },
    "tags": []
   },
   "outputs": [],
   "source": [
    "import csv\n",
    "\n",
    "\n",
    "dataset_config_name = DATASET_CONFIG_PATH.split('/')[-1].split('.')[0]\n",
    "model_config_name = MODEL_CONFIG_PATH.split('/')[-1].split('.')[0]\n",
    "configuration = f\"dataset_{dataset_config_name}-model_{model_config_name}\"\n",
    "\n",
    "with open('results.csv', 'a') as f:\n",
    "    report = dict({'configuration': configuration}, **score)\n",
    "    writer = csv.DictWriter(f, report.keys())\n",
    "    writer.writerow(report)"
   ]
  }
 ],
 "metadata": {
  "celltoolbar": "Tags",
  "kernelspec": {
   "display_name": "Python 3",
   "language": "python",
   "name": "python3"
  },
  "language_info": {
   "codemirror_mode": {
    "name": "ipython",
    "version": 3
   },
   "file_extension": ".py",
   "mimetype": "text/x-python",
   "name": "python",
   "nbconvert_exporter": "python",
   "pygments_lexer": "ipython3",
   "version": "3.9.1"
  },
  "papermill": {
   "default_parameters": {},
   "duration": 8.074354,
   "end_time": "2021-04-04T22:53:22.088446",
   "environment_variables": {},
   "exception": null,
   "input_path": "main.ipynb",
   "output_path": "runs/dataset_000057-model_000001.ipynb",
   "parameters": {
    "DATASET_CONFIG_PATH": "config/dataset/000057.json",
    "MODEL_CONFIG_PATH": "config/model/000001.json",
    "PROFILE_REPORTING": false
   },
   "start_time": "2021-04-04T22:53:14.014092",
   "version": "2.3.3"
  }
 },
 "nbformat": 4,
 "nbformat_minor": 5
}