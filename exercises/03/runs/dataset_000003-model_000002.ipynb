{
 "cells": [
  {
   "cell_type": "markdown",
   "id": "4588efca",
   "metadata": {
    "papermill": {
     "duration": 0.027552,
     "end_time": "2021-04-04T22:22:28.732189",
     "exception": false,
     "start_time": "2021-04-04T22:22:28.704637",
     "status": "completed"
    },
    "tags": []
   },
   "source": [
    "# Parametrizing"
   ]
  },
  {
   "cell_type": "code",
   "execution_count": 1,
   "id": "5964d9c0",
   "metadata": {
    "execution": {
     "iopub.execute_input": "2021-04-04T22:22:28.794739Z",
     "iopub.status.busy": "2021-04-04T22:22:28.790956Z",
     "iopub.status.idle": "2021-04-04T22:22:28.797707Z",
     "shell.execute_reply": "2021-04-04T22:22:28.796995Z"
    },
    "papermill": {
     "duration": 0.035766,
     "end_time": "2021-04-04T22:22:28.797845",
     "exception": false,
     "start_time": "2021-04-04T22:22:28.762079",
     "status": "completed"
    },
    "tags": [
     "parameters"
    ]
   },
   "outputs": [],
   "source": [
    "DATASET_CONFIG_PATH = 'config/dataset/kc1_001.json'\n",
    "MODEL_CONFIG_PATH = 'config/model/knndd_001.json'\n",
    "PROFILE_REPORTING = False"
   ]
  },
  {
   "cell_type": "code",
   "execution_count": 2,
   "id": "8a5c0ec3",
   "metadata": {
    "execution": {
     "iopub.execute_input": "2021-04-04T22:22:28.843891Z",
     "iopub.status.busy": "2021-04-04T22:22:28.843261Z",
     "iopub.status.idle": "2021-04-04T22:22:28.845337Z",
     "shell.execute_reply": "2021-04-04T22:22:28.845904Z"
    },
    "papermill": {
     "duration": 0.025513,
     "end_time": "2021-04-04T22:22:28.846075",
     "exception": false,
     "start_time": "2021-04-04T22:22:28.820562",
     "status": "completed"
    },
    "tags": [
     "injected-parameters"
    ]
   },
   "outputs": [],
   "source": [
    "# Parameters\n",
    "DATASET_CONFIG_PATH = \"config/dataset/000003.json\"\n",
    "MODEL_CONFIG_PATH = \"config/model/000002.json\"\n",
    "PROFILE_REPORTING = False\n"
   ]
  },
  {
   "cell_type": "code",
   "execution_count": 3,
   "id": "3fa67035",
   "metadata": {
    "execution": {
     "iopub.execute_input": "2021-04-04T22:22:28.898282Z",
     "iopub.status.busy": "2021-04-04T22:22:28.897115Z",
     "iopub.status.idle": "2021-04-04T22:22:28.901563Z",
     "shell.execute_reply": "2021-04-04T22:22:28.902512Z"
    },
    "papermill": {
     "duration": 0.032318,
     "end_time": "2021-04-04T22:22:28.902767",
     "exception": false,
     "start_time": "2021-04-04T22:22:28.870449",
     "status": "completed"
    },
    "tags": []
   },
   "outputs": [],
   "source": [
    "import json\n",
    "\n",
    "\n",
    "with open(DATASET_CONFIG_PATH) as f:\n",
    "    dataset_config = json.load(f)\n",
    "\n",
    "with open(MODEL_CONFIG_PATH) as f:\n",
    "    model_config = json.load(f)"
   ]
  },
  {
   "cell_type": "markdown",
   "id": "9a4b0e2d",
   "metadata": {
    "papermill": {
     "duration": 0.019095,
     "end_time": "2021-04-04T22:22:28.948440",
     "exception": false,
     "start_time": "2021-04-04T22:22:28.929345",
     "status": "completed"
    },
    "tags": []
   },
   "source": [
    "# Profiling"
   ]
  },
  {
   "cell_type": "code",
   "execution_count": 4,
   "id": "a3e0289b",
   "metadata": {
    "execution": {
     "iopub.execute_input": "2021-04-04T22:22:28.992162Z",
     "iopub.status.busy": "2021-04-04T22:22:28.991183Z",
     "iopub.status.idle": "2021-04-04T22:22:30.232285Z",
     "shell.execute_reply": "2021-04-04T22:22:30.231423Z"
    },
    "papermill": {
     "duration": 1.264865,
     "end_time": "2021-04-04T22:22:30.232452",
     "exception": false,
     "start_time": "2021-04-04T22:22:28.967587",
     "status": "completed"
    },
    "tags": []
   },
   "outputs": [],
   "source": [
    "import pandas as pd\n",
    "from pandas_profiling import ProfileReport"
   ]
  },
  {
   "cell_type": "code",
   "execution_count": 5,
   "id": "ee6c0666",
   "metadata": {
    "execution": {
     "iopub.execute_input": "2021-04-04T22:22:30.282084Z",
     "iopub.status.busy": "2021-04-04T22:22:30.281157Z",
     "iopub.status.idle": "2021-04-04T22:22:30.296170Z",
     "shell.execute_reply": "2021-04-04T22:22:30.294999Z"
    },
    "papermill": {
     "duration": 0.041059,
     "end_time": "2021-04-04T22:22:30.296396",
     "exception": false,
     "start_time": "2021-04-04T22:22:30.255337",
     "status": "completed"
    },
    "tags": []
   },
   "outputs": [],
   "source": [
    "df = pd.read_csv(dataset_config['dataset_path'])"
   ]
  },
  {
   "cell_type": "code",
   "execution_count": 6,
   "id": "20d45671",
   "metadata": {
    "execution": {
     "iopub.execute_input": "2021-04-04T22:22:30.349812Z",
     "iopub.status.busy": "2021-04-04T22:22:30.347408Z",
     "iopub.status.idle": "2021-04-04T22:22:30.366225Z",
     "shell.execute_reply": "2021-04-04T22:22:30.367378Z"
    },
    "papermill": {
     "duration": 0.045396,
     "end_time": "2021-04-04T22:22:30.367749",
     "exception": false,
     "start_time": "2021-04-04T22:22:30.322353",
     "status": "completed"
    },
    "tags": []
   },
   "outputs": [
    {
     "name": "stdout",
     "output_type": "stream",
     "text": [
      "<class 'pandas.core.frame.DataFrame'>\n",
      "RangeIndex: 2109 entries, 0 to 2108\n",
      "Data columns (total 23 columns):\n",
      " #   Column             Non-Null Count  Dtype  \n",
      "---  ------             --------------  -----  \n",
      " 0   id                 2109 non-null   int64  \n",
      " 1   loc                2109 non-null   float64\n",
      " 2   v(g)               2109 non-null   float64\n",
      " 3   ev(g)              2109 non-null   float64\n",
      " 4   iv(g)              2109 non-null   float64\n",
      " 5   n                  2109 non-null   float64\n",
      " 6   v                  2109 non-null   float64\n",
      " 7   l                  2109 non-null   float64\n",
      " 8   d                  2109 non-null   float64\n",
      " 9   i                  2109 non-null   float64\n",
      " 10  e                  2109 non-null   float64\n",
      " 11  b                  2109 non-null   float64\n",
      " 12  t                  2109 non-null   float64\n",
      " 13  lOCode             2109 non-null   int64  \n",
      " 14  lOComment          2109 non-null   int64  \n",
      " 15  lOBlank            2109 non-null   int64  \n",
      " 16  locCodeAndComment  2109 non-null   int64  \n",
      " 17  uniq_Op            2109 non-null   float64\n",
      " 18  uniq_Opnd          2109 non-null   float64\n",
      " 19  total_Op           2109 non-null   float64\n",
      " 20  total_Opnd         2109 non-null   float64\n",
      " 21  branchCount        2109 non-null   float64\n",
      " 22  defects            2109 non-null   bool   \n",
      "dtypes: bool(1), float64(17), int64(5)\n",
      "memory usage: 364.7 KB\n"
     ]
    }
   ],
   "source": [
    "df.info()"
   ]
  },
  {
   "cell_type": "code",
   "execution_count": 7,
   "id": "a676db33",
   "metadata": {
    "execution": {
     "iopub.execute_input": "2021-04-04T22:22:30.420799Z",
     "iopub.status.busy": "2021-04-04T22:22:30.420184Z",
     "iopub.status.idle": "2021-04-04T22:22:30.444246Z",
     "shell.execute_reply": "2021-04-04T22:22:30.444707Z"
    },
    "papermill": {
     "duration": 0.054331,
     "end_time": "2021-04-04T22:22:30.444851",
     "exception": false,
     "start_time": "2021-04-04T22:22:30.390520",
     "status": "completed"
    },
    "tags": []
   },
   "outputs": [
    {
     "data": {
      "text/html": [
       "<div>\n",
       "<style scoped>\n",
       "    .dataframe tbody tr th:only-of-type {\n",
       "        vertical-align: middle;\n",
       "    }\n",
       "\n",
       "    .dataframe tbody tr th {\n",
       "        vertical-align: top;\n",
       "    }\n",
       "\n",
       "    .dataframe thead th {\n",
       "        text-align: right;\n",
       "    }\n",
       "</style>\n",
       "<table border=\"1\" class=\"dataframe\">\n",
       "  <thead>\n",
       "    <tr style=\"text-align: right;\">\n",
       "      <th></th>\n",
       "      <th>id</th>\n",
       "      <th>loc</th>\n",
       "      <th>v(g)</th>\n",
       "      <th>ev(g)</th>\n",
       "      <th>iv(g)</th>\n",
       "      <th>n</th>\n",
       "      <th>v</th>\n",
       "      <th>l</th>\n",
       "      <th>d</th>\n",
       "      <th>i</th>\n",
       "      <th>...</th>\n",
       "      <th>lOCode</th>\n",
       "      <th>lOComment</th>\n",
       "      <th>lOBlank</th>\n",
       "      <th>locCodeAndComment</th>\n",
       "      <th>uniq_Op</th>\n",
       "      <th>uniq_Opnd</th>\n",
       "      <th>total_Op</th>\n",
       "      <th>total_Opnd</th>\n",
       "      <th>branchCount</th>\n",
       "      <th>defects</th>\n",
       "    </tr>\n",
       "  </thead>\n",
       "  <tbody>\n",
       "    <tr>\n",
       "      <th>0</th>\n",
       "      <td>1</td>\n",
       "      <td>1.1</td>\n",
       "      <td>1.4</td>\n",
       "      <td>1.4</td>\n",
       "      <td>1.4</td>\n",
       "      <td>1.3</td>\n",
       "      <td>1.30</td>\n",
       "      <td>1.30</td>\n",
       "      <td>1.30</td>\n",
       "      <td>1.30</td>\n",
       "      <td>...</td>\n",
       "      <td>2</td>\n",
       "      <td>2</td>\n",
       "      <td>2</td>\n",
       "      <td>2</td>\n",
       "      <td>1.2</td>\n",
       "      <td>1.2</td>\n",
       "      <td>1.2</td>\n",
       "      <td>1.2</td>\n",
       "      <td>1.4</td>\n",
       "      <td>False</td>\n",
       "    </tr>\n",
       "    <tr>\n",
       "      <th>1</th>\n",
       "      <td>2</td>\n",
       "      <td>1.0</td>\n",
       "      <td>1.0</td>\n",
       "      <td>1.0</td>\n",
       "      <td>1.0</td>\n",
       "      <td>1.0</td>\n",
       "      <td>1.00</td>\n",
       "      <td>1.00</td>\n",
       "      <td>1.00</td>\n",
       "      <td>1.00</td>\n",
       "      <td>...</td>\n",
       "      <td>1</td>\n",
       "      <td>1</td>\n",
       "      <td>1</td>\n",
       "      <td>1</td>\n",
       "      <td>1.0</td>\n",
       "      <td>1.0</td>\n",
       "      <td>1.0</td>\n",
       "      <td>1.0</td>\n",
       "      <td>1.0</td>\n",
       "      <td>True</td>\n",
       "    </tr>\n",
       "    <tr>\n",
       "      <th>2</th>\n",
       "      <td>3</td>\n",
       "      <td>83.0</td>\n",
       "      <td>11.0</td>\n",
       "      <td>1.0</td>\n",
       "      <td>11.0</td>\n",
       "      <td>171.0</td>\n",
       "      <td>927.89</td>\n",
       "      <td>0.04</td>\n",
       "      <td>23.04</td>\n",
       "      <td>40.27</td>\n",
       "      <td>...</td>\n",
       "      <td>65</td>\n",
       "      <td>10</td>\n",
       "      <td>6</td>\n",
       "      <td>0</td>\n",
       "      <td>18.0</td>\n",
       "      <td>25.0</td>\n",
       "      <td>107.0</td>\n",
       "      <td>64.0</td>\n",
       "      <td>21.0</td>\n",
       "      <td>True</td>\n",
       "    </tr>\n",
       "    <tr>\n",
       "      <th>3</th>\n",
       "      <td>4</td>\n",
       "      <td>46.0</td>\n",
       "      <td>8.0</td>\n",
       "      <td>6.0</td>\n",
       "      <td>8.0</td>\n",
       "      <td>141.0</td>\n",
       "      <td>769.78</td>\n",
       "      <td>0.07</td>\n",
       "      <td>14.86</td>\n",
       "      <td>51.81</td>\n",
       "      <td>...</td>\n",
       "      <td>37</td>\n",
       "      <td>2</td>\n",
       "      <td>5</td>\n",
       "      <td>0</td>\n",
       "      <td>16.0</td>\n",
       "      <td>28.0</td>\n",
       "      <td>89.0</td>\n",
       "      <td>52.0</td>\n",
       "      <td>15.0</td>\n",
       "      <td>True</td>\n",
       "    </tr>\n",
       "    <tr>\n",
       "      <th>4</th>\n",
       "      <td>5</td>\n",
       "      <td>25.0</td>\n",
       "      <td>3.0</td>\n",
       "      <td>1.0</td>\n",
       "      <td>3.0</td>\n",
       "      <td>58.0</td>\n",
       "      <td>254.75</td>\n",
       "      <td>0.11</td>\n",
       "      <td>9.35</td>\n",
       "      <td>27.25</td>\n",
       "      <td>...</td>\n",
       "      <td>21</td>\n",
       "      <td>0</td>\n",
       "      <td>2</td>\n",
       "      <td>0</td>\n",
       "      <td>11.0</td>\n",
       "      <td>10.0</td>\n",
       "      <td>41.0</td>\n",
       "      <td>17.0</td>\n",
       "      <td>5.0</td>\n",
       "      <td>True</td>\n",
       "    </tr>\n",
       "  </tbody>\n",
       "</table>\n",
       "<p>5 rows × 23 columns</p>\n",
       "</div>"
      ],
      "text/plain": [
       "   id   loc  v(g)  ev(g)  iv(g)      n       v     l      d      i  ...  \\\n",
       "0   1   1.1   1.4    1.4    1.4    1.3    1.30  1.30   1.30   1.30  ...   \n",
       "1   2   1.0   1.0    1.0    1.0    1.0    1.00  1.00   1.00   1.00  ...   \n",
       "2   3  83.0  11.0    1.0   11.0  171.0  927.89  0.04  23.04  40.27  ...   \n",
       "3   4  46.0   8.0    6.0    8.0  141.0  769.78  0.07  14.86  51.81  ...   \n",
       "4   5  25.0   3.0    1.0    3.0   58.0  254.75  0.11   9.35  27.25  ...   \n",
       "\n",
       "   lOCode  lOComment  lOBlank  locCodeAndComment  uniq_Op  uniq_Opnd  \\\n",
       "0       2          2        2                  2      1.2        1.2   \n",
       "1       1          1        1                  1      1.0        1.0   \n",
       "2      65         10        6                  0     18.0       25.0   \n",
       "3      37          2        5                  0     16.0       28.0   \n",
       "4      21          0        2                  0     11.0       10.0   \n",
       "\n",
       "   total_Op  total_Opnd  branchCount  defects  \n",
       "0       1.2         1.2          1.4    False  \n",
       "1       1.0         1.0          1.0     True  \n",
       "2     107.0        64.0         21.0     True  \n",
       "3      89.0        52.0         15.0     True  \n",
       "4      41.0        17.0          5.0     True  \n",
       "\n",
       "[5 rows x 23 columns]"
      ]
     },
     "execution_count": 7,
     "metadata": {},
     "output_type": "execute_result"
    }
   ],
   "source": [
    "df.head()"
   ]
  },
  {
   "cell_type": "code",
   "execution_count": 8,
   "id": "dd6aa244",
   "metadata": {
    "execution": {
     "iopub.execute_input": "2021-04-04T22:22:30.492395Z",
     "iopub.status.busy": "2021-04-04T22:22:30.491788Z",
     "iopub.status.idle": "2021-04-04T22:22:30.494683Z",
     "shell.execute_reply": "2021-04-04T22:22:30.494160Z"
    },
    "papermill": {
     "duration": 0.028404,
     "end_time": "2021-04-04T22:22:30.494807",
     "exception": false,
     "start_time": "2021-04-04T22:22:30.466403",
     "status": "completed"
    },
    "tags": []
   },
   "outputs": [],
   "source": [
    "del df['id']"
   ]
  },
  {
   "cell_type": "code",
   "execution_count": 9,
   "id": "6ff6f5b0",
   "metadata": {
    "execution": {
     "iopub.execute_input": "2021-04-04T22:22:30.544190Z",
     "iopub.status.busy": "2021-04-04T22:22:30.543455Z",
     "iopub.status.idle": "2021-04-04T22:22:30.545791Z",
     "shell.execute_reply": "2021-04-04T22:22:30.545290Z"
    },
    "papermill": {
     "duration": 0.02911,
     "end_time": "2021-04-04T22:22:30.545911",
     "exception": false,
     "start_time": "2021-04-04T22:22:30.516801",
     "status": "completed"
    },
    "tags": []
   },
   "outputs": [],
   "source": [
    "if PROFILE_REPORTING:\n",
    "    ProfileReport(df).to_widgets()"
   ]
  },
  {
   "cell_type": "markdown",
   "id": "1deaf3f0",
   "metadata": {
    "papermill": {
     "duration": 0.020726,
     "end_time": "2021-04-04T22:22:30.588142",
     "exception": false,
     "start_time": "2021-04-04T22:22:30.567416",
     "status": "completed"
    },
    "tags": []
   },
   "source": [
    "# Preprocess"
   ]
  },
  {
   "cell_type": "code",
   "execution_count": 10,
   "id": "9153b2bb",
   "metadata": {
    "execution": {
     "iopub.execute_input": "2021-04-04T22:22:30.634551Z",
     "iopub.status.busy": "2021-04-04T22:22:30.633660Z",
     "iopub.status.idle": "2021-04-04T22:22:30.635830Z",
     "shell.execute_reply": "2021-04-04T22:22:30.636300Z"
    },
    "papermill": {
     "duration": 0.027406,
     "end_time": "2021-04-04T22:22:30.636456",
     "exception": false,
     "start_time": "2021-04-04T22:22:30.609050",
     "status": "completed"
    },
    "tags": []
   },
   "outputs": [],
   "source": [
    "working_df = df.copy()"
   ]
  },
  {
   "cell_type": "code",
   "execution_count": 11,
   "id": "3b26d675",
   "metadata": {
    "execution": {
     "iopub.execute_input": "2021-04-04T22:22:30.686877Z",
     "iopub.status.busy": "2021-04-04T22:22:30.686118Z",
     "iopub.status.idle": "2021-04-04T22:22:30.688004Z",
     "shell.execute_reply": "2021-04-04T22:22:30.688514Z"
    },
    "papermill": {
     "duration": 0.029983,
     "end_time": "2021-04-04T22:22:30.688670",
     "exception": false,
     "start_time": "2021-04-04T22:22:30.658687",
     "status": "completed"
    },
    "tags": []
   },
   "outputs": [],
   "source": [
    "working_df['defects'] = working_df['defects'].replace([False, True], [0, 1])"
   ]
  },
  {
   "cell_type": "code",
   "execution_count": 12,
   "id": "5f306c3e",
   "metadata": {
    "execution": {
     "iopub.execute_input": "2021-04-04T22:22:30.736890Z",
     "iopub.status.busy": "2021-04-04T22:22:30.736296Z",
     "iopub.status.idle": "2021-04-04T22:22:30.738530Z",
     "shell.execute_reply": "2021-04-04T22:22:30.739052Z"
    },
    "papermill": {
     "duration": 0.027218,
     "end_time": "2021-04-04T22:22:30.739210",
     "exception": false,
     "start_time": "2021-04-04T22:22:30.711992",
     "status": "completed"
    },
    "tags": []
   },
   "outputs": [],
   "source": [
    "for col in dataset_config['delete_columns']:\n",
    "    del working_df[col]"
   ]
  },
  {
   "cell_type": "code",
   "execution_count": 13,
   "id": "a55074fa",
   "metadata": {
    "execution": {
     "iopub.execute_input": "2021-04-04T22:22:30.797557Z",
     "iopub.status.busy": "2021-04-04T22:22:30.796518Z",
     "iopub.status.idle": "2021-04-04T22:22:30.806762Z",
     "shell.execute_reply": "2021-04-04T22:22:30.807246Z"
    },
    "papermill": {
     "duration": 0.037459,
     "end_time": "2021-04-04T22:22:30.807395",
     "exception": false,
     "start_time": "2021-04-04T22:22:30.769936",
     "status": "completed"
    },
    "tags": []
   },
   "outputs": [],
   "source": [
    "working_df = working_df.drop_duplicates()"
   ]
  },
  {
   "cell_type": "markdown",
   "id": "a4d52ca6",
   "metadata": {
    "papermill": {
     "duration": 0.021032,
     "end_time": "2021-04-04T22:22:30.849816",
     "exception": false,
     "start_time": "2021-04-04T22:22:30.828784",
     "status": "completed"
    },
    "tags": []
   },
   "source": [
    "# Split"
   ]
  },
  {
   "cell_type": "code",
   "execution_count": 14,
   "id": "3e9ee4b5",
   "metadata": {
    "execution": {
     "iopub.execute_input": "2021-04-04T22:22:30.898609Z",
     "iopub.status.busy": "2021-04-04T22:22:30.897738Z",
     "iopub.status.idle": "2021-04-04T22:22:30.933659Z",
     "shell.execute_reply": "2021-04-04T22:22:30.932612Z"
    },
    "papermill": {
     "duration": 0.062543,
     "end_time": "2021-04-04T22:22:30.933902",
     "exception": false,
     "start_time": "2021-04-04T22:22:30.871359",
     "status": "completed"
    },
    "tags": []
   },
   "outputs": [],
   "source": [
    "from sklearn.model_selection import train_test_split"
   ]
  },
  {
   "cell_type": "code",
   "execution_count": 15,
   "id": "274004ce",
   "metadata": {
    "execution": {
     "iopub.execute_input": "2021-04-04T22:22:30.991977Z",
     "iopub.status.busy": "2021-04-04T22:22:30.991351Z",
     "iopub.status.idle": "2021-04-04T22:22:30.997227Z",
     "shell.execute_reply": "2021-04-04T22:22:30.998086Z"
    },
    "papermill": {
     "duration": 0.034514,
     "end_time": "2021-04-04T22:22:30.998329",
     "exception": false,
     "start_time": "2021-04-04T22:22:30.963815",
     "status": "completed"
    },
    "scrolled": true,
    "tags": []
   },
   "outputs": [],
   "source": [
    "inlier, outlier = working_df[working_df['defects'] == 0], working_df[working_df['defects'] == 1]"
   ]
  },
  {
   "cell_type": "code",
   "execution_count": 16,
   "id": "753c7b03",
   "metadata": {
    "execution": {
     "iopub.execute_input": "2021-04-04T22:22:31.054330Z",
     "iopub.status.busy": "2021-04-04T22:22:31.053223Z",
     "iopub.status.idle": "2021-04-04T22:22:31.056484Z",
     "shell.execute_reply": "2021-04-04T22:22:31.057135Z"
    },
    "papermill": {
     "duration": 0.033198,
     "end_time": "2021-04-04T22:22:31.057346",
     "exception": false,
     "start_time": "2021-04-04T22:22:31.024148",
     "status": "completed"
    },
    "tags": []
   },
   "outputs": [],
   "source": [
    "X_inlier = inlier.copy()\n",
    "y_inlier = X_inlier.pop('defects')\n",
    "X_outlier = outlier.copy()\n",
    "y_outlier = X_outlier.pop('defects')"
   ]
  },
  {
   "cell_type": "code",
   "execution_count": 17,
   "id": "2ba43193",
   "metadata": {
    "execution": {
     "iopub.execute_input": "2021-04-04T22:22:31.115541Z",
     "iopub.status.busy": "2021-04-04T22:22:31.114165Z",
     "iopub.status.idle": "2021-04-04T22:22:31.118876Z",
     "shell.execute_reply": "2021-04-04T22:22:31.119418Z"
    },
    "papermill": {
     "duration": 0.033057,
     "end_time": "2021-04-04T22:22:31.119582",
     "exception": false,
     "start_time": "2021-04-04T22:22:31.086525",
     "status": "completed"
    },
    "tags": []
   },
   "outputs": [],
   "source": [
    "test_size = dataset_config['test_size']\n",
    "random_state = dataset_config['random_state']\n",
    "\n",
    "X_inlier_train, X_inlier_test, y_inlier_train, y_inlier_test = train_test_split(\n",
    "    X_inlier,\n",
    "    y_inlier,\n",
    "    test_size=test_size,\n",
    "    random_state=random_state\n",
    ")"
   ]
  },
  {
   "cell_type": "code",
   "execution_count": 18,
   "id": "c8b58ec3",
   "metadata": {
    "execution": {
     "iopub.execute_input": "2021-04-04T22:22:31.177867Z",
     "iopub.status.busy": "2021-04-04T22:22:31.176996Z",
     "iopub.status.idle": "2021-04-04T22:22:31.179611Z",
     "shell.execute_reply": "2021-04-04T22:22:31.180339Z"
    },
    "papermill": {
     "duration": 0.036901,
     "end_time": "2021-04-04T22:22:31.180554",
     "exception": false,
     "start_time": "2021-04-04T22:22:31.143653",
     "status": "completed"
    },
    "tags": []
   },
   "outputs": [],
   "source": [
    "test_outlier_size = dataset_config['test_outlier_size']\n",
    "if test_outlier_size > 0.0:\n",
    "    X_outlier_train, X_outlier_test, y_outlier_train, y_outlier_test = train_test_split(\n",
    "        X_outlier,\n",
    "        y_outlier,\n",
    "        test_size=test_outlier_size,\n",
    "        random_state=random_state\n",
    "    )\n",
    "else:\n",
    "    X_outlier_train, y_outlier_train = pd.DataFrame(columns=X_outlier.columns), pd.Series(dtype='int64')\n",
    "    X_outlier_test, y_outlier_test = X_outlier.copy(), y_outlier.copy()"
   ]
  },
  {
   "cell_type": "code",
   "execution_count": 19,
   "id": "95991685",
   "metadata": {
    "execution": {
     "iopub.execute_input": "2021-04-04T22:22:31.236760Z",
     "iopub.status.busy": "2021-04-04T22:22:31.235344Z",
     "iopub.status.idle": "2021-04-04T22:22:31.240967Z",
     "shell.execute_reply": "2021-04-04T22:22:31.240070Z"
    },
    "papermill": {
     "duration": 0.036054,
     "end_time": "2021-04-04T22:22:31.241145",
     "exception": false,
     "start_time": "2021-04-04T22:22:31.205091",
     "status": "completed"
    },
    "tags": []
   },
   "outputs": [],
   "source": [
    "X_train, y_train = pd.concat([X_inlier_train, X_outlier_train], ignore_index=True), pd.concat([y_inlier_train, y_outlier_train], ignore_index=True)\n",
    "X_test, y_test = pd.concat([X_inlier_test, X_outlier_test], ignore_index=True), pd.concat([y_inlier_test, y_outlier_test], ignore_index=True)"
   ]
  },
  {
   "cell_type": "markdown",
   "id": "7cde7309",
   "metadata": {
    "papermill": {
     "duration": 0.024132,
     "end_time": "2021-04-04T22:22:31.290036",
     "exception": false,
     "start_time": "2021-04-04T22:22:31.265904",
     "status": "completed"
    },
    "tags": []
   },
   "source": [
    "# Model"
   ]
  },
  {
   "cell_type": "code",
   "execution_count": 20,
   "id": "a02c5c85",
   "metadata": {
    "execution": {
     "iopub.execute_input": "2021-04-04T22:22:31.344063Z",
     "iopub.status.busy": "2021-04-04T22:22:31.342879Z",
     "iopub.status.idle": "2021-04-04T22:22:31.349675Z",
     "shell.execute_reply": "2021-04-04T22:22:31.347780Z"
    },
    "papermill": {
     "duration": 0.037791,
     "end_time": "2021-04-04T22:22:31.349859",
     "exception": false,
     "start_time": "2021-04-04T22:22:31.312068",
     "status": "completed"
    },
    "tags": []
   },
   "outputs": [],
   "source": [
    "from math import sqrt\n",
    "\n",
    "\n",
    "class KNNDataDescription:\n",
    "    def __init__(self, k=5, outlier_threshold=1.0):\n",
    "        self.k = k\n",
    "        self.outlier_threshold = outlier_threshold\n",
    "        self.X = []\n",
    "    \n",
    "    def fit(self, X):\n",
    "        self.X = [features.to_list() for index, features in X.iterrows()]\n",
    "\n",
    "    def predict(self, entries):\n",
    "        return [self.predict_entry(features.to_list()) for index, features in entries.iterrows()]\n",
    "    \n",
    "    def predict_entry(self, entry):\n",
    "        kth_neighbor, kth_distance = self.get_kth_neighbor(entry, self.k)\n",
    "        kth_kth_neighbor, kth_kth_distance = self.get_kth_neighbor(kth_neighbor, self.k + 1)\n",
    "\n",
    "        outlier_score = kth_distance / (kth_kth_distance + 0.000001)\n",
    "\n",
    "        return 1 if outlier_score < self.outlier_threshold else -1\n",
    "        \n",
    "    def euclidean_distance(self, features1, features2):\n",
    "        distance = 0.0\n",
    "        for feat1, feat2 in zip(features1, features2):\n",
    "            distance += (feat1 - feat2)**2\n",
    "                \n",
    "        return sqrt(distance)\n",
    "\n",
    "    def get_neighbors(self, entry, k):\n",
    "        distance_to_data_points = [\n",
    "            (data_point, self.euclidean_distance(entry, data_point))\n",
    "            for data_point in self.X\n",
    "        ]\n",
    "        sorted_by_distance = sorted(distance_to_data_points, key=lambda tup: tup[1])\n",
    "        neighbors = sorted_by_distance[:k]\n",
    "        return neighbors\n",
    "\n",
    "    def get_kth_neighbor(self, entry, k):\n",
    "        neighbors = self.get_neighbors(entry, k)\n",
    "        return neighbors[-1]\n"
   ]
  },
  {
   "cell_type": "code",
   "execution_count": 21,
   "id": "1fa9ec1c",
   "metadata": {
    "execution": {
     "iopub.execute_input": "2021-04-04T22:22:31.405784Z",
     "iopub.status.busy": "2021-04-04T22:22:31.404805Z",
     "iopub.status.idle": "2021-04-04T22:22:31.424577Z",
     "shell.execute_reply": "2021-04-04T22:22:31.423997Z"
    },
    "papermill": {
     "duration": 0.049123,
     "end_time": "2021-04-04T22:22:31.424700",
     "exception": false,
     "start_time": "2021-04-04T22:22:31.375577",
     "status": "completed"
    },
    "tags": []
   },
   "outputs": [],
   "source": [
    "from sklearn.svm import OneClassSVM\n",
    "\n",
    "\n",
    "models = {\n",
    "    'oneclasssvm': OneClassSVM,\n",
    "    'knndatadescription': KNNDataDescription,\n",
    "}"
   ]
  },
  {
   "cell_type": "code",
   "execution_count": 22,
   "id": "4d72a0b1",
   "metadata": {
    "execution": {
     "iopub.execute_input": "2021-04-04T22:22:31.473938Z",
     "iopub.status.busy": "2021-04-04T22:22:31.473355Z",
     "iopub.status.idle": "2021-04-04T22:22:31.475315Z",
     "shell.execute_reply": "2021-04-04T22:22:31.475769Z"
    },
    "papermill": {
     "duration": 0.028315,
     "end_time": "2021-04-04T22:22:31.475915",
     "exception": false,
     "start_time": "2021-04-04T22:22:31.447600",
     "status": "completed"
    },
    "scrolled": true,
    "tags": []
   },
   "outputs": [],
   "source": [
    "model_cls = models[model_config['model_type']]\n",
    "model = model_cls(**model_config['hyperparameters'])"
   ]
  },
  {
   "cell_type": "markdown",
   "id": "e00cff3b",
   "metadata": {
    "papermill": {
     "duration": 0.024268,
     "end_time": "2021-04-04T22:22:31.524150",
     "exception": false,
     "start_time": "2021-04-04T22:22:31.499882",
     "status": "completed"
    },
    "tags": []
   },
   "source": [
    "# Fit"
   ]
  },
  {
   "cell_type": "code",
   "execution_count": 23,
   "id": "8b2ded89",
   "metadata": {
    "execution": {
     "iopub.execute_input": "2021-04-04T22:22:31.572793Z",
     "iopub.status.busy": "2021-04-04T22:22:31.572155Z",
     "iopub.status.idle": "2021-04-04T22:22:31.623210Z",
     "shell.execute_reply": "2021-04-04T22:22:31.623696Z"
    },
    "papermill": {
     "duration": 0.077264,
     "end_time": "2021-04-04T22:22:31.623858",
     "exception": false,
     "start_time": "2021-04-04T22:22:31.546594",
     "status": "completed"
    },
    "tags": []
   },
   "outputs": [],
   "source": [
    "model.fit(X_train)"
   ]
  },
  {
   "cell_type": "markdown",
   "id": "f99999f7",
   "metadata": {
    "papermill": {
     "duration": 0.024401,
     "end_time": "2021-04-04T22:22:31.673594",
     "exception": false,
     "start_time": "2021-04-04T22:22:31.649193",
     "status": "completed"
    },
    "tags": []
   },
   "source": [
    "# Predict"
   ]
  },
  {
   "cell_type": "code",
   "execution_count": 24,
   "id": "6536fbf7",
   "metadata": {
    "execution": {
     "iopub.execute_input": "2021-04-04T22:22:31.723327Z",
     "iopub.status.busy": "2021-04-04T22:22:31.722639Z",
     "iopub.status.idle": "2021-04-04T22:22:34.552243Z",
     "shell.execute_reply": "2021-04-04T22:22:34.552940Z"
    },
    "papermill": {
     "duration": 2.856873,
     "end_time": "2021-04-04T22:22:34.553145",
     "exception": false,
     "start_time": "2021-04-04T22:22:31.696272",
     "status": "completed"
    },
    "tags": []
   },
   "outputs": [],
   "source": [
    "predictions = model.predict(X_test)"
   ]
  },
  {
   "cell_type": "markdown",
   "id": "aa1c9881",
   "metadata": {
    "papermill": {
     "duration": 0.025426,
     "end_time": "2021-04-04T22:22:34.607725",
     "exception": false,
     "start_time": "2021-04-04T22:22:34.582299",
     "status": "completed"
    },
    "tags": []
   },
   "source": [
    "# Evaluate"
   ]
  },
  {
   "cell_type": "code",
   "execution_count": 25,
   "id": "894f0f04",
   "metadata": {
    "execution": {
     "iopub.execute_input": "2021-04-04T22:22:34.659503Z",
     "iopub.status.busy": "2021-04-04T22:22:34.658018Z",
     "iopub.status.idle": "2021-04-04T22:22:34.662282Z",
     "shell.execute_reply": "2021-04-04T22:22:34.661190Z"
    },
    "papermill": {
     "duration": 0.031688,
     "end_time": "2021-04-04T22:22:34.662494",
     "exception": false,
     "start_time": "2021-04-04T22:22:34.630806",
     "status": "completed"
    },
    "tags": []
   },
   "outputs": [],
   "source": [
    "from sklearn.metrics import f1_score"
   ]
  },
  {
   "cell_type": "code",
   "execution_count": 26,
   "id": "211744d3",
   "metadata": {
    "execution": {
     "iopub.execute_input": "2021-04-04T22:22:34.719049Z",
     "iopub.status.busy": "2021-04-04T22:22:34.717835Z",
     "iopub.status.idle": "2021-04-04T22:22:34.721333Z",
     "shell.execute_reply": "2021-04-04T22:22:34.720668Z"
    },
    "papermill": {
     "duration": 0.034108,
     "end_time": "2021-04-04T22:22:34.721486",
     "exception": false,
     "start_time": "2021-04-04T22:22:34.687378",
     "status": "completed"
    },
    "tags": []
   },
   "outputs": [],
   "source": [
    "y_test = y_test.replace([0, 1], [1, -1])"
   ]
  },
  {
   "cell_type": "code",
   "execution_count": 27,
   "id": "d68a9204",
   "metadata": {
    "execution": {
     "iopub.execute_input": "2021-04-04T22:22:34.789461Z",
     "iopub.status.busy": "2021-04-04T22:22:34.788764Z",
     "iopub.status.idle": "2021-04-04T22:22:34.791928Z",
     "shell.execute_reply": "2021-04-04T22:22:34.792731Z"
    },
    "papermill": {
     "duration": 0.035916,
     "end_time": "2021-04-04T22:22:34.792962",
     "exception": false,
     "start_time": "2021-04-04T22:22:34.757046",
     "status": "completed"
    },
    "tags": []
   },
   "outputs": [],
   "source": [
    "def evaluate(truths, predictions, pos_label, neg_label):\n",
    "    TP = 0\n",
    "    FP = 0\n",
    "    TN = 0\n",
    "    FN = 0\n",
    "\n",
    "    for truth, pred in zip(truths, predictions): \n",
    "        if truth == pred == pos_label:\n",
    "           TP += 1\n",
    "        elif pred == pos_label and truth == neg_label:\n",
    "           FP += 1\n",
    "        elif truth == pred == neg_label:\n",
    "           TN += 1\n",
    "        elif pred == neg_label and truth == pos_label:\n",
    "           FN += 1\n",
    "        else:\n",
    "            __import__(\"ipdb\").set_trace()\n",
    "\n",
    "    precision = TP / (TP + FP)\n",
    "    sensitivity = TP / (TP + FN)\n",
    "    \n",
    "    return {\n",
    "        'true_pos': TP,\n",
    "        'false_pos': FP,\n",
    "        'false_neg': FN,\n",
    "        'true_neg': TN,\n",
    "        'precision': precision,\n",
    "        'sensitivity': sensitivity,\n",
    "        'f1': (2 * (precision * sensitivity)) / (precision + sensitivity)\n",
    "    }\n",
    "\n",
    "score = evaluate(y_test, predictions, pos_label=-1, neg_label=1)"
   ]
  },
  {
   "cell_type": "markdown",
   "id": "246fa8c7",
   "metadata": {
    "papermill": {
     "duration": 0.024382,
     "end_time": "2021-04-04T22:22:34.843769",
     "exception": false,
     "start_time": "2021-04-04T22:22:34.819387",
     "status": "completed"
    },
    "tags": []
   },
   "source": [
    "# Report"
   ]
  },
  {
   "cell_type": "code",
   "execution_count": 28,
   "id": "cfb47f85",
   "metadata": {
    "execution": {
     "iopub.execute_input": "2021-04-04T22:22:34.897034Z",
     "iopub.status.busy": "2021-04-04T22:22:34.896136Z",
     "iopub.status.idle": "2021-04-04T22:22:34.899441Z",
     "shell.execute_reply": "2021-04-04T22:22:34.900294Z"
    },
    "papermill": {
     "duration": 0.033527,
     "end_time": "2021-04-04T22:22:34.900534",
     "exception": false,
     "start_time": "2021-04-04T22:22:34.867007",
     "status": "completed"
    },
    "tags": []
   },
   "outputs": [],
   "source": [
    "import csv\n",
    "\n",
    "\n",
    "dataset_config_name = DATASET_CONFIG_PATH.split('/')[-1].split('.')[0]\n",
    "model_config_name = MODEL_CONFIG_PATH.split('/')[-1].split('.')[0]\n",
    "configuration = f\"dataset_{dataset_config_name}-model_{model_config_name}\"\n",
    "\n",
    "with open('results.csv', 'a') as f:\n",
    "    report = dict({'configuration': configuration}, **score)\n",
    "    writer = csv.DictWriter(f, report.keys())\n",
    "    writer.writerow(report)"
   ]
  }
 ],
 "metadata": {
  "celltoolbar": "Tags",
  "kernelspec": {
   "display_name": "Python 3",
   "language": "python",
   "name": "python3"
  },
  "language_info": {
   "codemirror_mode": {
    "name": "ipython",
    "version": 3
   },
   "file_extension": ".py",
   "mimetype": "text/x-python",
   "name": "python",
   "nbconvert_exporter": "python",
   "pygments_lexer": "ipython3",
   "version": "3.9.1"
  },
  "papermill": {
   "default_parameters": {},
   "duration": 7.518157,
   "end_time": "2021-04-04T22:22:35.539747",
   "environment_variables": {},
   "exception": null,
   "input_path": "main.ipynb",
   "output_path": "runs/dataset_000003-model_000002.ipynb",
   "parameters": {
    "DATASET_CONFIG_PATH": "config/dataset/000003.json",
    "MODEL_CONFIG_PATH": "config/model/000002.json",
    "PROFILE_REPORTING": false
   },
   "start_time": "2021-04-04T22:22:28.021590",
   "version": "2.3.3"
  }
 },
 "nbformat": 4,
 "nbformat_minor": 5
}