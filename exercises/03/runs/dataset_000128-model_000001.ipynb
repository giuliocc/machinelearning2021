{
 "cells": [
  {
   "cell_type": "markdown",
   "id": "51c71c25",
   "metadata": {
    "papermill": {
     "duration": 0.026379,
     "end_time": "2021-04-04T23:23:56.270226",
     "exception": false,
     "start_time": "2021-04-04T23:23:56.243847",
     "status": "completed"
    },
    "tags": []
   },
   "source": [
    "# Parametrizing"
   ]
  },
  {
   "cell_type": "code",
   "execution_count": 1,
   "id": "3b136394",
   "metadata": {
    "execution": {
     "iopub.execute_input": "2021-04-04T23:23:56.352895Z",
     "iopub.status.busy": "2021-04-04T23:23:56.351160Z",
     "iopub.status.idle": "2021-04-04T23:23:56.355986Z",
     "shell.execute_reply": "2021-04-04T23:23:56.354662Z"
    },
    "papermill": {
     "duration": 0.057054,
     "end_time": "2021-04-04T23:23:56.356201",
     "exception": false,
     "start_time": "2021-04-04T23:23:56.299147",
     "status": "completed"
    },
    "tags": [
     "parameters"
    ]
   },
   "outputs": [],
   "source": [
    "DATASET_CONFIG_PATH = 'config/dataset/kc1_001.json'\n",
    "MODEL_CONFIG_PATH = 'config/model/knndd_001.json'\n",
    "PROFILE_REPORTING = False"
   ]
  },
  {
   "cell_type": "code",
   "execution_count": 2,
   "id": "8e747dd5",
   "metadata": {
    "execution": {
     "iopub.execute_input": "2021-04-04T23:23:56.420426Z",
     "iopub.status.busy": "2021-04-04T23:23:56.419343Z",
     "iopub.status.idle": "2021-04-04T23:23:56.426222Z",
     "shell.execute_reply": "2021-04-04T23:23:56.424440Z"
    },
    "papermill": {
     "duration": 0.040795,
     "end_time": "2021-04-04T23:23:56.426807",
     "exception": false,
     "start_time": "2021-04-04T23:23:56.386012",
     "status": "completed"
    },
    "tags": [
     "injected-parameters"
    ]
   },
   "outputs": [],
   "source": [
    "# Parameters\n",
    "DATASET_CONFIG_PATH = \"config/dataset/000128.json\"\n",
    "MODEL_CONFIG_PATH = \"config/model/000001.json\"\n",
    "PROFILE_REPORTING = False\n"
   ]
  },
  {
   "cell_type": "code",
   "execution_count": 3,
   "id": "b80f2a10",
   "metadata": {
    "execution": {
     "iopub.execute_input": "2021-04-04T23:23:56.486442Z",
     "iopub.status.busy": "2021-04-04T23:23:56.485476Z",
     "iopub.status.idle": "2021-04-04T23:23:56.489620Z",
     "shell.execute_reply": "2021-04-04T23:23:56.489102Z"
    },
    "papermill": {
     "duration": 0.036857,
     "end_time": "2021-04-04T23:23:56.489746",
     "exception": false,
     "start_time": "2021-04-04T23:23:56.452889",
     "status": "completed"
    },
    "tags": []
   },
   "outputs": [],
   "source": [
    "import json\n",
    "\n",
    "\n",
    "with open(DATASET_CONFIG_PATH) as f:\n",
    "    dataset_config = json.load(f)\n",
    "\n",
    "with open(MODEL_CONFIG_PATH) as f:\n",
    "    model_config = json.load(f)"
   ]
  },
  {
   "cell_type": "markdown",
   "id": "9a4b0e2d",
   "metadata": {
    "papermill": {
     "duration": 0.021175,
     "end_time": "2021-04-04T23:23:56.536218",
     "exception": false,
     "start_time": "2021-04-04T23:23:56.515043",
     "status": "completed"
    },
    "tags": []
   },
   "source": [
    "# Profiling"
   ]
  },
  {
   "cell_type": "code",
   "execution_count": 4,
   "id": "a3e0289b",
   "metadata": {
    "execution": {
     "iopub.execute_input": "2021-04-04T23:23:56.591857Z",
     "iopub.status.busy": "2021-04-04T23:23:56.589565Z",
     "iopub.status.idle": "2021-04-04T23:23:58.118680Z",
     "shell.execute_reply": "2021-04-04T23:23:58.117925Z"
    },
    "papermill": {
     "duration": 1.560657,
     "end_time": "2021-04-04T23:23:58.118940",
     "exception": false,
     "start_time": "2021-04-04T23:23:56.558283",
     "status": "completed"
    },
    "tags": []
   },
   "outputs": [],
   "source": [
    "import pandas as pd\n",
    "from pandas_profiling import ProfileReport"
   ]
  },
  {
   "cell_type": "code",
   "execution_count": 5,
   "id": "ee6c0666",
   "metadata": {
    "execution": {
     "iopub.execute_input": "2021-04-04T23:23:58.184040Z",
     "iopub.status.busy": "2021-04-04T23:23:58.182172Z",
     "iopub.status.idle": "2021-04-04T23:23:58.196319Z",
     "shell.execute_reply": "2021-04-04T23:23:58.195068Z"
    },
    "papermill": {
     "duration": 0.049158,
     "end_time": "2021-04-04T23:23:58.196628",
     "exception": false,
     "start_time": "2021-04-04T23:23:58.147470",
     "status": "completed"
    },
    "tags": []
   },
   "outputs": [],
   "source": [
    "df = pd.read_csv(dataset_config['dataset_path'])"
   ]
  },
  {
   "cell_type": "code",
   "execution_count": 6,
   "id": "7eca6c4a",
   "metadata": {
    "execution": {
     "iopub.execute_input": "2021-04-04T23:23:58.281574Z",
     "iopub.status.busy": "2021-04-04T23:23:58.280174Z",
     "iopub.status.idle": "2021-04-04T23:23:58.287054Z",
     "shell.execute_reply": "2021-04-04T23:23:58.288120Z"
    },
    "papermill": {
     "duration": 0.060754,
     "end_time": "2021-04-04T23:23:58.288416",
     "exception": false,
     "start_time": "2021-04-04T23:23:58.227662",
     "status": "completed"
    },
    "tags": []
   },
   "outputs": [
    {
     "name": "stdout",
     "output_type": "stream",
     "text": [
      "<class 'pandas.core.frame.DataFrame'>\n",
      "RangeIndex: 498 entries, 0 to 497\n",
      "Data columns (total 23 columns):\n",
      " #   Column             Non-Null Count  Dtype  \n",
      "---  ------             --------------  -----  \n",
      " 0   id                 498 non-null    int64  \n",
      " 1   loc                498 non-null    float64\n",
      " 2   v(g)               498 non-null    float64\n",
      " 3   ev(g)              498 non-null    float64\n",
      " 4   iv(g)              498 non-null    float64\n",
      " 5   n                  498 non-null    float64\n",
      " 6   v                  498 non-null    float64\n",
      " 7   l                  498 non-null    float64\n",
      " 8   d                  498 non-null    float64\n",
      " 9   i                  498 non-null    float64\n",
      " 10  e                  498 non-null    float64\n",
      " 11  b                  498 non-null    float64\n",
      " 12  t                  498 non-null    float64\n",
      " 13  lOCode             498 non-null    int64  \n",
      " 14  lOComment          498 non-null    int64  \n",
      " 15  lOBlank            498 non-null    int64  \n",
      " 16  locCodeAndComment  498 non-null    int64  \n",
      " 17  uniq_Op            498 non-null    float64\n",
      " 18  uniq_Opnd          498 non-null    float64\n",
      " 19  total_Op           498 non-null    float64\n",
      " 20  total_Opnd         498 non-null    float64\n",
      " 21  branchCount        498 non-null    float64\n",
      " 22  defects            498 non-null    bool   \n",
      "dtypes: bool(1), float64(17), int64(5)\n",
      "memory usage: 86.2 KB\n"
     ]
    }
   ],
   "source": [
    "df.info()"
   ]
  },
  {
   "cell_type": "code",
   "execution_count": 7,
   "id": "3638e5e8",
   "metadata": {
    "execution": {
     "iopub.execute_input": "2021-04-04T23:23:58.355096Z",
     "iopub.status.busy": "2021-04-04T23:23:58.354159Z",
     "iopub.status.idle": "2021-04-04T23:23:58.405656Z",
     "shell.execute_reply": "2021-04-04T23:23:58.405066Z"
    },
    "papermill": {
     "duration": 0.087992,
     "end_time": "2021-04-04T23:23:58.405798",
     "exception": false,
     "start_time": "2021-04-04T23:23:58.317806",
     "status": "completed"
    },
    "tags": []
   },
   "outputs": [
    {
     "data": {
      "text/html": [
       "<div>\n",
       "<style scoped>\n",
       "    .dataframe tbody tr th:only-of-type {\n",
       "        vertical-align: middle;\n",
       "    }\n",
       "\n",
       "    .dataframe tbody tr th {\n",
       "        vertical-align: top;\n",
       "    }\n",
       "\n",
       "    .dataframe thead th {\n",
       "        text-align: right;\n",
       "    }\n",
       "</style>\n",
       "<table border=\"1\" class=\"dataframe\">\n",
       "  <thead>\n",
       "    <tr style=\"text-align: right;\">\n",
       "      <th></th>\n",
       "      <th>id</th>\n",
       "      <th>loc</th>\n",
       "      <th>v(g)</th>\n",
       "      <th>ev(g)</th>\n",
       "      <th>iv(g)</th>\n",
       "      <th>n</th>\n",
       "      <th>v</th>\n",
       "      <th>l</th>\n",
       "      <th>d</th>\n",
       "      <th>i</th>\n",
       "      <th>...</th>\n",
       "      <th>lOCode</th>\n",
       "      <th>lOComment</th>\n",
       "      <th>lOBlank</th>\n",
       "      <th>locCodeAndComment</th>\n",
       "      <th>uniq_Op</th>\n",
       "      <th>uniq_Opnd</th>\n",
       "      <th>total_Op</th>\n",
       "      <th>total_Opnd</th>\n",
       "      <th>branchCount</th>\n",
       "      <th>defects</th>\n",
       "    </tr>\n",
       "  </thead>\n",
       "  <tbody>\n",
       "    <tr>\n",
       "      <th>0</th>\n",
       "      <td>1</td>\n",
       "      <td>1.1</td>\n",
       "      <td>1.4</td>\n",
       "      <td>1.4</td>\n",
       "      <td>1.4</td>\n",
       "      <td>1.3</td>\n",
       "      <td>1.30</td>\n",
       "      <td>1.30</td>\n",
       "      <td>1.30</td>\n",
       "      <td>1.30</td>\n",
       "      <td>...</td>\n",
       "      <td>2</td>\n",
       "      <td>2</td>\n",
       "      <td>2</td>\n",
       "      <td>2</td>\n",
       "      <td>1.2</td>\n",
       "      <td>1.2</td>\n",
       "      <td>1.2</td>\n",
       "      <td>1.2</td>\n",
       "      <td>1.4</td>\n",
       "      <td>False</td>\n",
       "    </tr>\n",
       "    <tr>\n",
       "      <th>1</th>\n",
       "      <td>2</td>\n",
       "      <td>1.0</td>\n",
       "      <td>1.0</td>\n",
       "      <td>1.0</td>\n",
       "      <td>1.0</td>\n",
       "      <td>1.0</td>\n",
       "      <td>1.00</td>\n",
       "      <td>1.00</td>\n",
       "      <td>1.00</td>\n",
       "      <td>1.00</td>\n",
       "      <td>...</td>\n",
       "      <td>1</td>\n",
       "      <td>1</td>\n",
       "      <td>1</td>\n",
       "      <td>1</td>\n",
       "      <td>1.0</td>\n",
       "      <td>1.0</td>\n",
       "      <td>1.0</td>\n",
       "      <td>1.0</td>\n",
       "      <td>1.0</td>\n",
       "      <td>True</td>\n",
       "    </tr>\n",
       "    <tr>\n",
       "      <th>2</th>\n",
       "      <td>3</td>\n",
       "      <td>24.0</td>\n",
       "      <td>5.0</td>\n",
       "      <td>1.0</td>\n",
       "      <td>3.0</td>\n",
       "      <td>63.0</td>\n",
       "      <td>309.13</td>\n",
       "      <td>0.11</td>\n",
       "      <td>9.50</td>\n",
       "      <td>32.54</td>\n",
       "      <td>...</td>\n",
       "      <td>1</td>\n",
       "      <td>0</td>\n",
       "      <td>6</td>\n",
       "      <td>0</td>\n",
       "      <td>15.0</td>\n",
       "      <td>15.0</td>\n",
       "      <td>44.0</td>\n",
       "      <td>19.0</td>\n",
       "      <td>9.0</td>\n",
       "      <td>False</td>\n",
       "    </tr>\n",
       "    <tr>\n",
       "      <th>3</th>\n",
       "      <td>4</td>\n",
       "      <td>20.0</td>\n",
       "      <td>4.0</td>\n",
       "      <td>4.0</td>\n",
       "      <td>2.0</td>\n",
       "      <td>47.0</td>\n",
       "      <td>215.49</td>\n",
       "      <td>0.06</td>\n",
       "      <td>16.00</td>\n",
       "      <td>13.47</td>\n",
       "      <td>...</td>\n",
       "      <td>0</td>\n",
       "      <td>0</td>\n",
       "      <td>3</td>\n",
       "      <td>0</td>\n",
       "      <td>16.0</td>\n",
       "      <td>8.0</td>\n",
       "      <td>31.0</td>\n",
       "      <td>16.0</td>\n",
       "      <td>7.0</td>\n",
       "      <td>False</td>\n",
       "    </tr>\n",
       "    <tr>\n",
       "      <th>4</th>\n",
       "      <td>5</td>\n",
       "      <td>24.0</td>\n",
       "      <td>6.0</td>\n",
       "      <td>6.0</td>\n",
       "      <td>2.0</td>\n",
       "      <td>72.0</td>\n",
       "      <td>346.13</td>\n",
       "      <td>0.06</td>\n",
       "      <td>17.33</td>\n",
       "      <td>19.97</td>\n",
       "      <td>...</td>\n",
       "      <td>0</td>\n",
       "      <td>0</td>\n",
       "      <td>3</td>\n",
       "      <td>0</td>\n",
       "      <td>16.0</td>\n",
       "      <td>12.0</td>\n",
       "      <td>46.0</td>\n",
       "      <td>26.0</td>\n",
       "      <td>11.0</td>\n",
       "      <td>False</td>\n",
       "    </tr>\n",
       "  </tbody>\n",
       "</table>\n",
       "<p>5 rows × 23 columns</p>\n",
       "</div>"
      ],
      "text/plain": [
       "   id   loc  v(g)  ev(g)  iv(g)     n       v     l      d      i  ...  \\\n",
       "0   1   1.1   1.4    1.4    1.4   1.3    1.30  1.30   1.30   1.30  ...   \n",
       "1   2   1.0   1.0    1.0    1.0   1.0    1.00  1.00   1.00   1.00  ...   \n",
       "2   3  24.0   5.0    1.0    3.0  63.0  309.13  0.11   9.50  32.54  ...   \n",
       "3   4  20.0   4.0    4.0    2.0  47.0  215.49  0.06  16.00  13.47  ...   \n",
       "4   5  24.0   6.0    6.0    2.0  72.0  346.13  0.06  17.33  19.97  ...   \n",
       "\n",
       "   lOCode  lOComment  lOBlank  locCodeAndComment  uniq_Op  uniq_Opnd  \\\n",
       "0       2          2        2                  2      1.2        1.2   \n",
       "1       1          1        1                  1      1.0        1.0   \n",
       "2       1          0        6                  0     15.0       15.0   \n",
       "3       0          0        3                  0     16.0        8.0   \n",
       "4       0          0        3                  0     16.0       12.0   \n",
       "\n",
       "   total_Op  total_Opnd  branchCount  defects  \n",
       "0       1.2         1.2          1.4    False  \n",
       "1       1.0         1.0          1.0     True  \n",
       "2      44.0        19.0          9.0    False  \n",
       "3      31.0        16.0          7.0    False  \n",
       "4      46.0        26.0         11.0    False  \n",
       "\n",
       "[5 rows x 23 columns]"
      ]
     },
     "execution_count": 7,
     "metadata": {},
     "output_type": "execute_result"
    }
   ],
   "source": [
    "df.head()"
   ]
  },
  {
   "cell_type": "code",
   "execution_count": 8,
   "id": "733e95eb",
   "metadata": {
    "execution": {
     "iopub.execute_input": "2021-04-04T23:23:58.474187Z",
     "iopub.status.busy": "2021-04-04T23:23:58.472525Z",
     "iopub.status.idle": "2021-04-04T23:23:58.477257Z",
     "shell.execute_reply": "2021-04-04T23:23:58.478417Z"
    },
    "papermill": {
     "duration": 0.041261,
     "end_time": "2021-04-04T23:23:58.478804",
     "exception": false,
     "start_time": "2021-04-04T23:23:58.437543",
     "status": "completed"
    },
    "tags": []
   },
   "outputs": [],
   "source": [
    "del df['id']"
   ]
  },
  {
   "cell_type": "code",
   "execution_count": 9,
   "id": "6ff6f5b0",
   "metadata": {
    "execution": {
     "iopub.execute_input": "2021-04-04T23:23:58.542318Z",
     "iopub.status.busy": "2021-04-04T23:23:58.541545Z",
     "iopub.status.idle": "2021-04-04T23:23:58.543712Z",
     "shell.execute_reply": "2021-04-04T23:23:58.544265Z"
    },
    "papermill": {
     "duration": 0.038243,
     "end_time": "2021-04-04T23:23:58.544437",
     "exception": false,
     "start_time": "2021-04-04T23:23:58.506194",
     "status": "completed"
    },
    "tags": []
   },
   "outputs": [],
   "source": [
    "if PROFILE_REPORTING:\n",
    "    ProfileReport(df).to_widgets()"
   ]
  },
  {
   "cell_type": "markdown",
   "id": "1deaf3f0",
   "metadata": {
    "papermill": {
     "duration": 0.030334,
     "end_time": "2021-04-04T23:23:58.606071",
     "exception": false,
     "start_time": "2021-04-04T23:23:58.575737",
     "status": "completed"
    },
    "tags": []
   },
   "source": [
    "# Preprocess"
   ]
  },
  {
   "cell_type": "code",
   "execution_count": 10,
   "id": "1513e563",
   "metadata": {
    "execution": {
     "iopub.execute_input": "2021-04-04T23:23:58.671609Z",
     "iopub.status.busy": "2021-04-04T23:23:58.669169Z",
     "iopub.status.idle": "2021-04-04T23:23:58.674135Z",
     "shell.execute_reply": "2021-04-04T23:23:58.675903Z"
    },
    "papermill": {
     "duration": 0.039466,
     "end_time": "2021-04-04T23:23:58.676750",
     "exception": false,
     "start_time": "2021-04-04T23:23:58.637284",
     "status": "completed"
    },
    "tags": []
   },
   "outputs": [],
   "source": [
    "working_df = df.copy()"
   ]
  },
  {
   "cell_type": "code",
   "execution_count": 11,
   "id": "3b26d675",
   "metadata": {
    "execution": {
     "iopub.execute_input": "2021-04-04T23:23:58.749267Z",
     "iopub.status.busy": "2021-04-04T23:23:58.747931Z",
     "iopub.status.idle": "2021-04-04T23:23:58.757016Z",
     "shell.execute_reply": "2021-04-04T23:23:58.755236Z"
    },
    "papermill": {
     "duration": 0.04986,
     "end_time": "2021-04-04T23:23:58.757389",
     "exception": false,
     "start_time": "2021-04-04T23:23:58.707529",
     "status": "completed"
    },
    "tags": []
   },
   "outputs": [],
   "source": [
    "working_df['defects'] = working_df['defects'].replace([False, True], [0, 1])"
   ]
  },
  {
   "cell_type": "code",
   "execution_count": 12,
   "id": "eb48604f",
   "metadata": {
    "execution": {
     "iopub.execute_input": "2021-04-04T23:23:58.824760Z",
     "iopub.status.busy": "2021-04-04T23:23:58.823736Z",
     "iopub.status.idle": "2021-04-04T23:23:58.825809Z",
     "shell.execute_reply": "2021-04-04T23:23:58.826304Z"
    },
    "papermill": {
     "duration": 0.041183,
     "end_time": "2021-04-04T23:23:58.826476",
     "exception": false,
     "start_time": "2021-04-04T23:23:58.785293",
     "status": "completed"
    },
    "tags": []
   },
   "outputs": [],
   "source": [
    "for col in dataset_config['delete_columns']:\n",
    "    del working_df[col]"
   ]
  },
  {
   "cell_type": "code",
   "execution_count": 13,
   "id": "9a17bc29",
   "metadata": {
    "execution": {
     "iopub.execute_input": "2021-04-04T23:23:58.906541Z",
     "iopub.status.busy": "2021-04-04T23:23:58.905355Z",
     "iopub.status.idle": "2021-04-04T23:23:58.915048Z",
     "shell.execute_reply": "2021-04-04T23:23:58.915676Z"
    },
    "papermill": {
     "duration": 0.051821,
     "end_time": "2021-04-04T23:23:58.915872",
     "exception": false,
     "start_time": "2021-04-04T23:23:58.864051",
     "status": "completed"
    },
    "tags": []
   },
   "outputs": [],
   "source": [
    "working_df = working_df.drop_duplicates()"
   ]
  },
  {
   "cell_type": "markdown",
   "id": "a4d52ca6",
   "metadata": {
    "papermill": {
     "duration": 0.031402,
     "end_time": "2021-04-04T23:23:58.980120",
     "exception": false,
     "start_time": "2021-04-04T23:23:58.948718",
     "status": "completed"
    },
    "tags": []
   },
   "source": [
    "# Split"
   ]
  },
  {
   "cell_type": "code",
   "execution_count": 14,
   "id": "3e9ee4b5",
   "metadata": {
    "execution": {
     "iopub.execute_input": "2021-04-04T23:23:59.055432Z",
     "iopub.status.busy": "2021-04-04T23:23:59.054105Z",
     "iopub.status.idle": "2021-04-04T23:23:59.111039Z",
     "shell.execute_reply": "2021-04-04T23:23:59.111591Z"
    },
    "papermill": {
     "duration": 0.098114,
     "end_time": "2021-04-04T23:23:59.111761",
     "exception": false,
     "start_time": "2021-04-04T23:23:59.013647",
     "status": "completed"
    },
    "tags": []
   },
   "outputs": [],
   "source": [
    "from sklearn.model_selection import train_test_split"
   ]
  },
  {
   "cell_type": "code",
   "execution_count": 15,
   "id": "274004ce",
   "metadata": {
    "execution": {
     "iopub.execute_input": "2021-04-04T23:23:59.182726Z",
     "iopub.status.busy": "2021-04-04T23:23:59.181240Z",
     "iopub.status.idle": "2021-04-04T23:23:59.191577Z",
     "shell.execute_reply": "2021-04-04T23:23:59.192980Z"
    },
    "papermill": {
     "duration": 0.049899,
     "end_time": "2021-04-04T23:23:59.193195",
     "exception": false,
     "start_time": "2021-04-04T23:23:59.143296",
     "status": "completed"
    },
    "scrolled": true,
    "tags": []
   },
   "outputs": [],
   "source": [
    "inlier, outlier = working_df[working_df['defects'] == 0], working_df[working_df['defects'] == 1]"
   ]
  },
  {
   "cell_type": "code",
   "execution_count": 16,
   "id": "753c7b03",
   "metadata": {
    "execution": {
     "iopub.execute_input": "2021-04-04T23:23:59.272783Z",
     "iopub.status.busy": "2021-04-04T23:23:59.271904Z",
     "iopub.status.idle": "2021-04-04T23:23:59.276897Z",
     "shell.execute_reply": "2021-04-04T23:23:59.277448Z"
    },
    "papermill": {
     "duration": 0.049397,
     "end_time": "2021-04-04T23:23:59.277615",
     "exception": false,
     "start_time": "2021-04-04T23:23:59.228218",
     "status": "completed"
    },
    "tags": []
   },
   "outputs": [],
   "source": [
    "X_inlier = inlier.copy()\n",
    "y_inlier = X_inlier.pop('defects')\n",
    "X_outlier = outlier.copy()\n",
    "y_outlier = X_outlier.pop('defects')"
   ]
  },
  {
   "cell_type": "code",
   "execution_count": 17,
   "id": "2ba43193",
   "metadata": {
    "execution": {
     "iopub.execute_input": "2021-04-04T23:23:59.355003Z",
     "iopub.status.busy": "2021-04-04T23:23:59.352854Z",
     "iopub.status.idle": "2021-04-04T23:23:59.358471Z",
     "shell.execute_reply": "2021-04-04T23:23:59.360607Z"
    },
    "papermill": {
     "duration": 0.052846,
     "end_time": "2021-04-04T23:23:59.361082",
     "exception": false,
     "start_time": "2021-04-04T23:23:59.308236",
     "status": "completed"
    },
    "tags": []
   },
   "outputs": [],
   "source": [
    "test_size = dataset_config['test_size']\n",
    "random_state = dataset_config['random_state']\n",
    "\n",
    "X_inlier_train, X_inlier_test, y_inlier_train, y_inlier_test = train_test_split(\n",
    "    X_inlier,\n",
    "    y_inlier,\n",
    "    test_size=test_size,\n",
    "    random_state=random_state\n",
    ")"
   ]
  },
  {
   "cell_type": "code",
   "execution_count": 18,
   "id": "0b7582ca",
   "metadata": {
    "execution": {
     "iopub.execute_input": "2021-04-04T23:23:59.441191Z",
     "iopub.status.busy": "2021-04-04T23:23:59.438470Z",
     "iopub.status.idle": "2021-04-04T23:23:59.442765Z",
     "shell.execute_reply": "2021-04-04T23:23:59.443314Z"
    },
    "papermill": {
     "duration": 0.050482,
     "end_time": "2021-04-04T23:23:59.443483",
     "exception": false,
     "start_time": "2021-04-04T23:23:59.393001",
     "status": "completed"
    },
    "tags": []
   },
   "outputs": [],
   "source": [
    "test_outlier_size = dataset_config['test_outlier_size']\n",
    "if test_outlier_size > 0.0:\n",
    "    X_outlier_train, X_outlier_test, y_outlier_train, y_outlier_test = train_test_split(\n",
    "        X_outlier,\n",
    "        y_outlier,\n",
    "        test_size=test_outlier_size,\n",
    "        random_state=random_state\n",
    "    )\n",
    "else:\n",
    "    X_outlier_train, y_outlier_train = pd.DataFrame(columns=X_outlier.columns), pd.Series(dtype='int64')\n",
    "    X_outlier_test, y_outlier_test = X_outlier.copy(), y_outlier.copy()"
   ]
  },
  {
   "cell_type": "code",
   "execution_count": 19,
   "id": "c34363db",
   "metadata": {
    "execution": {
     "iopub.execute_input": "2021-04-04T23:23:59.512727Z",
     "iopub.status.busy": "2021-04-04T23:23:59.511848Z",
     "iopub.status.idle": "2021-04-04T23:23:59.520744Z",
     "shell.execute_reply": "2021-04-04T23:23:59.521380Z"
    },
    "papermill": {
     "duration": 0.04738,
     "end_time": "2021-04-04T23:23:59.521567",
     "exception": false,
     "start_time": "2021-04-04T23:23:59.474187",
     "status": "completed"
    },
    "tags": []
   },
   "outputs": [],
   "source": [
    "X_train, y_train = pd.concat([X_inlier_train, X_outlier_train], ignore_index=True), pd.concat([y_inlier_train, y_outlier_train], ignore_index=True)\n",
    "X_test, y_test = pd.concat([X_inlier_test, X_outlier_test], ignore_index=True), pd.concat([y_inlier_test, y_outlier_test], ignore_index=True)"
   ]
  },
  {
   "cell_type": "markdown",
   "id": "7cde7309",
   "metadata": {
    "papermill": {
     "duration": 0.032504,
     "end_time": "2021-04-04T23:23:59.579244",
     "exception": false,
     "start_time": "2021-04-04T23:23:59.546740",
     "status": "completed"
    },
    "tags": []
   },
   "source": [
    "# Model"
   ]
  },
  {
   "cell_type": "code",
   "execution_count": 20,
   "id": "2b12a415",
   "metadata": {
    "execution": {
     "iopub.execute_input": "2021-04-04T23:23:59.642193Z",
     "iopub.status.busy": "2021-04-04T23:23:59.641281Z",
     "iopub.status.idle": "2021-04-04T23:23:59.644034Z",
     "shell.execute_reply": "2021-04-04T23:23:59.643431Z"
    },
    "papermill": {
     "duration": 0.03809,
     "end_time": "2021-04-04T23:23:59.644175",
     "exception": false,
     "start_time": "2021-04-04T23:23:59.606085",
     "status": "completed"
    },
    "tags": []
   },
   "outputs": [],
   "source": [
    "from math import sqrt\n",
    "\n",
    "\n",
    "class KNNDataDescription:\n",
    "    def __init__(self, k=5, outlier_threshold=1.0):\n",
    "        self.k = k\n",
    "        self.outlier_threshold = outlier_threshold\n",
    "        self.X = []\n",
    "    \n",
    "    def fit(self, X):\n",
    "        self.X = [features.to_list() for index, features in X.iterrows()]\n",
    "\n",
    "    def predict(self, entries):\n",
    "        return [self.predict_entry(features.to_list()) for index, features in entries.iterrows()]\n",
    "    \n",
    "    def predict_entry(self, entry):\n",
    "        kth_neighbor, kth_distance = self.get_kth_neighbor(entry, self.k)\n",
    "        kth_kth_neighbor, kth_kth_distance = self.get_kth_neighbor(kth_neighbor, self.k + 1)\n",
    "\n",
    "        outlier_score = kth_distance / (kth_kth_distance + 0.000001)\n",
    "\n",
    "        return 1 if outlier_score < self.outlier_threshold else -1\n",
    "        \n",
    "    def euclidean_distance(self, features1, features2):\n",
    "        distance = 0.0\n",
    "        for feat1, feat2 in zip(features1, features2):\n",
    "            distance += (feat1 - feat2)**2\n",
    "                \n",
    "        return sqrt(distance)\n",
    "\n",
    "    def get_neighbors(self, entry, k):\n",
    "        distance_to_data_points = [\n",
    "            (data_point, self.euclidean_distance(entry, data_point))\n",
    "            for data_point in self.X\n",
    "        ]\n",
    "        sorted_by_distance = sorted(distance_to_data_points, key=lambda tup: tup[1])\n",
    "        neighbors = sorted_by_distance[:k]\n",
    "        return neighbors\n",
    "\n",
    "    def get_kth_neighbor(self, entry, k):\n",
    "        neighbors = self.get_neighbors(entry, k)\n",
    "        return neighbors[-1]\n"
   ]
  },
  {
   "cell_type": "code",
   "execution_count": 21,
   "id": "1fa9ec1c",
   "metadata": {
    "execution": {
     "iopub.execute_input": "2021-04-04T23:23:59.703462Z",
     "iopub.status.busy": "2021-04-04T23:23:59.702824Z",
     "iopub.status.idle": "2021-04-04T23:23:59.720928Z",
     "shell.execute_reply": "2021-04-04T23:23:59.721429Z"
    },
    "papermill": {
     "duration": 0.053131,
     "end_time": "2021-04-04T23:23:59.721593",
     "exception": false,
     "start_time": "2021-04-04T23:23:59.668462",
     "status": "completed"
    },
    "tags": []
   },
   "outputs": [],
   "source": [
    "from sklearn.svm import OneClassSVM\n",
    "\n",
    "\n",
    "models = {\n",
    "    'oneclasssvm': OneClassSVM,\n",
    "    'knndatadescription': KNNDataDescription,\n",
    "}"
   ]
  },
  {
   "cell_type": "code",
   "execution_count": 22,
   "id": "4d72a0b1",
   "metadata": {
    "execution": {
     "iopub.execute_input": "2021-04-04T23:23:59.778823Z",
     "iopub.status.busy": "2021-04-04T23:23:59.778232Z",
     "iopub.status.idle": "2021-04-04T23:23:59.780165Z",
     "shell.execute_reply": "2021-04-04T23:23:59.780638Z"
    },
    "papermill": {
     "duration": 0.030283,
     "end_time": "2021-04-04T23:23:59.780783",
     "exception": false,
     "start_time": "2021-04-04T23:23:59.750500",
     "status": "completed"
    },
    "scrolled": true,
    "tags": []
   },
   "outputs": [],
   "source": [
    "model_cls = models[model_config['model_type']]\n",
    "model = model_cls(**model_config['hyperparameters'])"
   ]
  },
  {
   "cell_type": "markdown",
   "id": "e00cff3b",
   "metadata": {
    "papermill": {
     "duration": 0.028474,
     "end_time": "2021-04-04T23:23:59.836104",
     "exception": false,
     "start_time": "2021-04-04T23:23:59.807630",
     "status": "completed"
    },
    "tags": []
   },
   "source": [
    "# Fit"
   ]
  },
  {
   "cell_type": "code",
   "execution_count": 23,
   "id": "8b2ded89",
   "metadata": {
    "execution": {
     "iopub.execute_input": "2021-04-04T23:23:59.892394Z",
     "iopub.status.busy": "2021-04-04T23:23:59.891643Z",
     "iopub.status.idle": "2021-04-04T23:23:59.920414Z",
     "shell.execute_reply": "2021-04-04T23:23:59.920877Z"
    },
    "papermill": {
     "duration": 0.058664,
     "end_time": "2021-04-04T23:23:59.921027",
     "exception": false,
     "start_time": "2021-04-04T23:23:59.862363",
     "status": "completed"
    },
    "tags": []
   },
   "outputs": [],
   "source": [
    "model.fit(X_train)"
   ]
  },
  {
   "cell_type": "markdown",
   "id": "f99999f7",
   "metadata": {
    "papermill": {
     "duration": 0.031744,
     "end_time": "2021-04-04T23:23:59.980215",
     "exception": false,
     "start_time": "2021-04-04T23:23:59.948471",
     "status": "completed"
    },
    "tags": []
   },
   "source": [
    "# Predict"
   ]
  },
  {
   "cell_type": "code",
   "execution_count": 24,
   "id": "6536fbf7",
   "metadata": {
    "execution": {
     "iopub.execute_input": "2021-04-04T23:24:00.069457Z",
     "iopub.status.busy": "2021-04-04T23:24:00.031418Z",
     "iopub.status.idle": "2021-04-04T23:24:00.458250Z",
     "shell.execute_reply": "2021-04-04T23:24:00.456936Z"
    },
    "papermill": {
     "duration": 0.452305,
     "end_time": "2021-04-04T23:24:00.458421",
     "exception": false,
     "start_time": "2021-04-04T23:24:00.006116",
     "status": "completed"
    },
    "tags": []
   },
   "outputs": [],
   "source": [
    "predictions = model.predict(X_test)"
   ]
  },
  {
   "cell_type": "markdown",
   "id": "aa1c9881",
   "metadata": {
    "papermill": {
     "duration": 0.030398,
     "end_time": "2021-04-04T23:24:00.512670",
     "exception": false,
     "start_time": "2021-04-04T23:24:00.482272",
     "status": "completed"
    },
    "tags": []
   },
   "source": [
    "# Evaluate"
   ]
  },
  {
   "cell_type": "code",
   "execution_count": 25,
   "id": "894f0f04",
   "metadata": {
    "execution": {
     "iopub.execute_input": "2021-04-04T23:24:00.570359Z",
     "iopub.status.busy": "2021-04-04T23:24:00.569085Z",
     "iopub.status.idle": "2021-04-04T23:24:00.573558Z",
     "shell.execute_reply": "2021-04-04T23:24:00.574151Z"
    },
    "papermill": {
     "duration": 0.033956,
     "end_time": "2021-04-04T23:24:00.574314",
     "exception": false,
     "start_time": "2021-04-04T23:24:00.540358",
     "status": "completed"
    },
    "tags": []
   },
   "outputs": [],
   "source": [
    "from sklearn.metrics import f1_score"
   ]
  },
  {
   "cell_type": "code",
   "execution_count": 26,
   "id": "211744d3",
   "metadata": {
    "execution": {
     "iopub.execute_input": "2021-04-04T23:24:00.638206Z",
     "iopub.status.busy": "2021-04-04T23:24:00.637498Z",
     "iopub.status.idle": "2021-04-04T23:24:00.639225Z",
     "shell.execute_reply": "2021-04-04T23:24:00.639690Z"
    },
    "papermill": {
     "duration": 0.039445,
     "end_time": "2021-04-04T23:24:00.639834",
     "exception": false,
     "start_time": "2021-04-04T23:24:00.600389",
     "status": "completed"
    },
    "tags": []
   },
   "outputs": [],
   "source": [
    "y_test = y_test.replace([0, 1], [1, -1])"
   ]
  },
  {
   "cell_type": "code",
   "execution_count": 27,
   "id": "d68a9204",
   "metadata": {
    "execution": {
     "iopub.execute_input": "2021-04-04T23:24:00.699382Z",
     "iopub.status.busy": "2021-04-04T23:24:00.698521Z",
     "iopub.status.idle": "2021-04-04T23:24:00.700901Z",
     "shell.execute_reply": "2021-04-04T23:24:00.701378Z"
    },
    "papermill": {
     "duration": 0.037221,
     "end_time": "2021-04-04T23:24:00.701525",
     "exception": false,
     "start_time": "2021-04-04T23:24:00.664304",
     "status": "completed"
    },
    "tags": []
   },
   "outputs": [],
   "source": [
    "def evaluate(truths, predictions, pos_label, neg_label):\n",
    "    TP = 0\n",
    "    FP = 0\n",
    "    TN = 0\n",
    "    FN = 0\n",
    "\n",
    "    for truth, pred in zip(truths, predictions): \n",
    "        if truth == pred == pos_label:\n",
    "           TP += 1\n",
    "        elif pred == pos_label and truth == neg_label:\n",
    "           FP += 1\n",
    "        elif truth == pred == neg_label:\n",
    "           TN += 1\n",
    "        elif pred == neg_label and truth == pos_label:\n",
    "           FN += 1\n",
    "\n",
    "    precision = TP / (TP + FP)\n",
    "    sensitivity = TP / (TP + FN)\n",
    "    \n",
    "    return {\n",
    "        'true_pos': TP,\n",
    "        'false_pos': FP,\n",
    "        'false_neg': FN,\n",
    "        'true_neg': TN,\n",
    "        'precision': precision,\n",
    "        'sensitivity': sensitivity,\n",
    "        'f1': (2 * (precision * sensitivity)) / (precision + sensitivity)\n",
    "    }\n",
    "\n",
    "score = evaluate(y_test, predictions, pos_label=-1, neg_label=1)"
   ]
  },
  {
   "cell_type": "markdown",
   "id": "93596516",
   "metadata": {
    "papermill": {
     "duration": 0.03548,
     "end_time": "2021-04-04T23:24:00.763967",
     "exception": false,
     "start_time": "2021-04-04T23:24:00.728487",
     "status": "completed"
    },
    "tags": []
   },
   "source": [
    "# Report"
   ]
  },
  {
   "cell_type": "code",
   "execution_count": 28,
   "id": "bea5fba1",
   "metadata": {
    "execution": {
     "iopub.execute_input": "2021-04-04T23:24:00.828140Z",
     "iopub.status.busy": "2021-04-04T23:24:00.827404Z",
     "iopub.status.idle": "2021-04-04T23:24:00.830421Z",
     "shell.execute_reply": "2021-04-04T23:24:00.831965Z"
    },
    "papermill": {
     "duration": 0.038601,
     "end_time": "2021-04-04T23:24:00.832457",
     "exception": false,
     "start_time": "2021-04-04T23:24:00.793856",
     "status": "completed"
    },
    "tags": []
   },
   "outputs": [],
   "source": [
    "import csv\n",
    "\n",
    "\n",
    "dataset_config_name = DATASET_CONFIG_PATH.split('/')[-1].split('.')[0]\n",
    "model_config_name = MODEL_CONFIG_PATH.split('/')[-1].split('.')[0]\n",
    "configuration = f\"dataset_{dataset_config_name}-model_{model_config_name}\"\n",
    "\n",
    "with open('results.csv', 'a') as f:\n",
    "    report = dict({'configuration': configuration}, **score)\n",
    "    writer = csv.DictWriter(f, report.keys())\n",
    "    writer.writerow(report)"
   ]
  }
 ],
 "metadata": {
  "celltoolbar": "Tags",
  "kernelspec": {
   "display_name": "Python 3",
   "language": "python",
   "name": "python3"
  },
  "language_info": {
   "codemirror_mode": {
    "name": "ipython",
    "version": 3
   },
   "file_extension": ".py",
   "mimetype": "text/x-python",
   "name": "python",
   "nbconvert_exporter": "python",
   "pygments_lexer": "ipython3",
   "version": "3.9.1"
  },
  "papermill": {
   "default_parameters": {},
   "duration": 7.071133,
   "end_time": "2021-04-04T23:24:02.437605",
   "environment_variables": {},
   "exception": null,
   "input_path": "main.ipynb",
   "output_path": "runs/dataset_000128-model_000001.ipynb",
   "parameters": {
    "DATASET_CONFIG_PATH": "config/dataset/000128.json",
    "MODEL_CONFIG_PATH": "config/model/000001.json",
    "PROFILE_REPORTING": false
   },
   "start_time": "2021-04-04T23:23:55.366472",
   "version": "2.3.3"
  }
 },
 "nbformat": 4,
 "nbformat_minor": 5
}