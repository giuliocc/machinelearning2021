{
 "cells": [
  {
   "cell_type": "markdown",
   "id": "51c71c25",
   "metadata": {
    "papermill": {
     "duration": 0.034135,
     "end_time": "2021-04-04T23:36:45.941901",
     "exception": false,
     "start_time": "2021-04-04T23:36:45.907766",
     "status": "completed"
    },
    "tags": []
   },
   "source": [
    "# Parametrizing"
   ]
  },
  {
   "cell_type": "code",
   "execution_count": 1,
   "id": "3b136394",
   "metadata": {
    "execution": {
     "iopub.execute_input": "2021-04-04T23:36:46.004070Z",
     "iopub.status.busy": "2021-04-04T23:36:46.002899Z",
     "iopub.status.idle": "2021-04-04T23:36:46.008190Z",
     "shell.execute_reply": "2021-04-04T23:36:46.005663Z"
    },
    "papermill": {
     "duration": 0.046403,
     "end_time": "2021-04-04T23:36:46.008615",
     "exception": false,
     "start_time": "2021-04-04T23:36:45.962212",
     "status": "completed"
    },
    "tags": [
     "parameters"
    ]
   },
   "outputs": [],
   "source": [
    "DATASET_CONFIG_PATH = 'config/dataset/kc1_001.json'\n",
    "MODEL_CONFIG_PATH = 'config/model/knndd_001.json'\n",
    "PROFILE_REPORTING = False"
   ]
  },
  {
   "cell_type": "code",
   "execution_count": 2,
   "id": "ca9b34c5",
   "metadata": {
    "execution": {
     "iopub.execute_input": "2021-04-04T23:36:46.057157Z",
     "iopub.status.busy": "2021-04-04T23:36:46.056020Z",
     "iopub.status.idle": "2021-04-04T23:36:46.058672Z",
     "shell.execute_reply": "2021-04-04T23:36:46.059281Z"
    },
    "papermill": {
     "duration": 0.029393,
     "end_time": "2021-04-04T23:36:46.059516",
     "exception": false,
     "start_time": "2021-04-04T23:36:46.030123",
     "status": "completed"
    },
    "tags": [
     "injected-parameters"
    ]
   },
   "outputs": [],
   "source": [
    "# Parameters\n",
    "DATASET_CONFIG_PATH = \"config/dataset/000157.json\"\n",
    "MODEL_CONFIG_PATH = \"config/model/000003.json\"\n",
    "PROFILE_REPORTING = False\n"
   ]
  },
  {
   "cell_type": "code",
   "execution_count": 3,
   "id": "b80f2a10",
   "metadata": {
    "execution": {
     "iopub.execute_input": "2021-04-04T23:36:46.126254Z",
     "iopub.status.busy": "2021-04-04T23:36:46.124948Z",
     "iopub.status.idle": "2021-04-04T23:36:46.130900Z",
     "shell.execute_reply": "2021-04-04T23:36:46.129731Z"
    },
    "papermill": {
     "duration": 0.049647,
     "end_time": "2021-04-04T23:36:46.131195",
     "exception": false,
     "start_time": "2021-04-04T23:36:46.081548",
     "status": "completed"
    },
    "tags": []
   },
   "outputs": [],
   "source": [
    "import json\n",
    "\n",
    "\n",
    "with open(DATASET_CONFIG_PATH) as f:\n",
    "    dataset_config = json.load(f)\n",
    "\n",
    "with open(MODEL_CONFIG_PATH) as f:\n",
    "    model_config = json.load(f)"
   ]
  },
  {
   "cell_type": "markdown",
   "id": "9a4b0e2d",
   "metadata": {
    "papermill": {
     "duration": 0.024468,
     "end_time": "2021-04-04T23:36:46.189584",
     "exception": false,
     "start_time": "2021-04-04T23:36:46.165116",
     "status": "completed"
    },
    "tags": []
   },
   "source": [
    "# Profiling"
   ]
  },
  {
   "cell_type": "code",
   "execution_count": 4,
   "id": "a3e0289b",
   "metadata": {
    "execution": {
     "iopub.execute_input": "2021-04-04T23:36:46.249182Z",
     "iopub.status.busy": "2021-04-04T23:36:46.245556Z",
     "iopub.status.idle": "2021-04-04T23:36:47.646401Z",
     "shell.execute_reply": "2021-04-04T23:36:47.647044Z"
    },
    "papermill": {
     "duration": 1.433152,
     "end_time": "2021-04-04T23:36:47.647215",
     "exception": false,
     "start_time": "2021-04-04T23:36:46.214063",
     "status": "completed"
    },
    "tags": []
   },
   "outputs": [],
   "source": [
    "import pandas as pd\n",
    "from pandas_profiling import ProfileReport"
   ]
  },
  {
   "cell_type": "code",
   "execution_count": 5,
   "id": "ee6c0666",
   "metadata": {
    "execution": {
     "iopub.execute_input": "2021-04-04T23:36:47.707239Z",
     "iopub.status.busy": "2021-04-04T23:36:47.706498Z",
     "iopub.status.idle": "2021-04-04T23:36:47.715361Z",
     "shell.execute_reply": "2021-04-04T23:36:47.714830Z"
    },
    "papermill": {
     "duration": 0.038075,
     "end_time": "2021-04-04T23:36:47.715486",
     "exception": false,
     "start_time": "2021-04-04T23:36:47.677411",
     "status": "completed"
    },
    "tags": []
   },
   "outputs": [],
   "source": [
    "df = pd.read_csv(dataset_config['dataset_path'])"
   ]
  },
  {
   "cell_type": "code",
   "execution_count": 6,
   "id": "7eca6c4a",
   "metadata": {
    "execution": {
     "iopub.execute_input": "2021-04-04T23:36:47.781894Z",
     "iopub.status.busy": "2021-04-04T23:36:47.780901Z",
     "iopub.status.idle": "2021-04-04T23:36:47.784235Z",
     "shell.execute_reply": "2021-04-04T23:36:47.784732Z"
    },
    "papermill": {
     "duration": 0.048099,
     "end_time": "2021-04-04T23:36:47.784901",
     "exception": false,
     "start_time": "2021-04-04T23:36:47.736802",
     "status": "completed"
    },
    "tags": []
   },
   "outputs": [
    {
     "name": "stdout",
     "output_type": "stream",
     "text": [
      "<class 'pandas.core.frame.DataFrame'>\n",
      "RangeIndex: 498 entries, 0 to 497\n",
      "Data columns (total 23 columns):\n",
      " #   Column             Non-Null Count  Dtype  \n",
      "---  ------             --------------  -----  \n",
      " 0   id                 498 non-null    int64  \n",
      " 1   loc                498 non-null    float64\n",
      " 2   v(g)               498 non-null    float64\n",
      " 3   ev(g)              498 non-null    float64\n",
      " 4   iv(g)              498 non-null    float64\n",
      " 5   n                  498 non-null    float64\n",
      " 6   v                  498 non-null    float64\n",
      " 7   l                  498 non-null    float64\n",
      " 8   d                  498 non-null    float64\n",
      " 9   i                  498 non-null    float64\n",
      " 10  e                  498 non-null    float64\n",
      " 11  b                  498 non-null    float64\n",
      " 12  t                  498 non-null    float64\n",
      " 13  lOCode             498 non-null    int64  \n",
      " 14  lOComment          498 non-null    int64  \n",
      " 15  lOBlank            498 non-null    int64  \n",
      " 16  locCodeAndComment  498 non-null    int64  \n",
      " 17  uniq_Op            498 non-null    float64\n",
      " 18  uniq_Opnd          498 non-null    float64\n",
      " 19  total_Op           498 non-null    float64\n",
      " 20  total_Opnd         498 non-null    float64\n",
      " 21  branchCount        498 non-null    float64\n",
      " 22  defects            498 non-null    bool   \n",
      "dtypes: bool(1), float64(17), int64(5)\n",
      "memory usage: 86.2 KB\n"
     ]
    }
   ],
   "source": [
    "df.info()"
   ]
  },
  {
   "cell_type": "code",
   "execution_count": 7,
   "id": "3638e5e8",
   "metadata": {
    "execution": {
     "iopub.execute_input": "2021-04-04T23:36:47.838801Z",
     "iopub.status.busy": "2021-04-04T23:36:47.837962Z",
     "iopub.status.idle": "2021-04-04T23:36:47.870094Z",
     "shell.execute_reply": "2021-04-04T23:36:47.869583Z"
    },
    "papermill": {
     "duration": 0.061417,
     "end_time": "2021-04-04T23:36:47.870212",
     "exception": false,
     "start_time": "2021-04-04T23:36:47.808795",
     "status": "completed"
    },
    "tags": []
   },
   "outputs": [
    {
     "data": {
      "text/html": [
       "<div>\n",
       "<style scoped>\n",
       "    .dataframe tbody tr th:only-of-type {\n",
       "        vertical-align: middle;\n",
       "    }\n",
       "\n",
       "    .dataframe tbody tr th {\n",
       "        vertical-align: top;\n",
       "    }\n",
       "\n",
       "    .dataframe thead th {\n",
       "        text-align: right;\n",
       "    }\n",
       "</style>\n",
       "<table border=\"1\" class=\"dataframe\">\n",
       "  <thead>\n",
       "    <tr style=\"text-align: right;\">\n",
       "      <th></th>\n",
       "      <th>id</th>\n",
       "      <th>loc</th>\n",
       "      <th>v(g)</th>\n",
       "      <th>ev(g)</th>\n",
       "      <th>iv(g)</th>\n",
       "      <th>n</th>\n",
       "      <th>v</th>\n",
       "      <th>l</th>\n",
       "      <th>d</th>\n",
       "      <th>i</th>\n",
       "      <th>...</th>\n",
       "      <th>lOCode</th>\n",
       "      <th>lOComment</th>\n",
       "      <th>lOBlank</th>\n",
       "      <th>locCodeAndComment</th>\n",
       "      <th>uniq_Op</th>\n",
       "      <th>uniq_Opnd</th>\n",
       "      <th>total_Op</th>\n",
       "      <th>total_Opnd</th>\n",
       "      <th>branchCount</th>\n",
       "      <th>defects</th>\n",
       "    </tr>\n",
       "  </thead>\n",
       "  <tbody>\n",
       "    <tr>\n",
       "      <th>0</th>\n",
       "      <td>1</td>\n",
       "      <td>1.1</td>\n",
       "      <td>1.4</td>\n",
       "      <td>1.4</td>\n",
       "      <td>1.4</td>\n",
       "      <td>1.3</td>\n",
       "      <td>1.30</td>\n",
       "      <td>1.30</td>\n",
       "      <td>1.30</td>\n",
       "      <td>1.30</td>\n",
       "      <td>...</td>\n",
       "      <td>2</td>\n",
       "      <td>2</td>\n",
       "      <td>2</td>\n",
       "      <td>2</td>\n",
       "      <td>1.2</td>\n",
       "      <td>1.2</td>\n",
       "      <td>1.2</td>\n",
       "      <td>1.2</td>\n",
       "      <td>1.4</td>\n",
       "      <td>False</td>\n",
       "    </tr>\n",
       "    <tr>\n",
       "      <th>1</th>\n",
       "      <td>2</td>\n",
       "      <td>1.0</td>\n",
       "      <td>1.0</td>\n",
       "      <td>1.0</td>\n",
       "      <td>1.0</td>\n",
       "      <td>1.0</td>\n",
       "      <td>1.00</td>\n",
       "      <td>1.00</td>\n",
       "      <td>1.00</td>\n",
       "      <td>1.00</td>\n",
       "      <td>...</td>\n",
       "      <td>1</td>\n",
       "      <td>1</td>\n",
       "      <td>1</td>\n",
       "      <td>1</td>\n",
       "      <td>1.0</td>\n",
       "      <td>1.0</td>\n",
       "      <td>1.0</td>\n",
       "      <td>1.0</td>\n",
       "      <td>1.0</td>\n",
       "      <td>True</td>\n",
       "    </tr>\n",
       "    <tr>\n",
       "      <th>2</th>\n",
       "      <td>3</td>\n",
       "      <td>24.0</td>\n",
       "      <td>5.0</td>\n",
       "      <td>1.0</td>\n",
       "      <td>3.0</td>\n",
       "      <td>63.0</td>\n",
       "      <td>309.13</td>\n",
       "      <td>0.11</td>\n",
       "      <td>9.50</td>\n",
       "      <td>32.54</td>\n",
       "      <td>...</td>\n",
       "      <td>1</td>\n",
       "      <td>0</td>\n",
       "      <td>6</td>\n",
       "      <td>0</td>\n",
       "      <td>15.0</td>\n",
       "      <td>15.0</td>\n",
       "      <td>44.0</td>\n",
       "      <td>19.0</td>\n",
       "      <td>9.0</td>\n",
       "      <td>False</td>\n",
       "    </tr>\n",
       "    <tr>\n",
       "      <th>3</th>\n",
       "      <td>4</td>\n",
       "      <td>20.0</td>\n",
       "      <td>4.0</td>\n",
       "      <td>4.0</td>\n",
       "      <td>2.0</td>\n",
       "      <td>47.0</td>\n",
       "      <td>215.49</td>\n",
       "      <td>0.06</td>\n",
       "      <td>16.00</td>\n",
       "      <td>13.47</td>\n",
       "      <td>...</td>\n",
       "      <td>0</td>\n",
       "      <td>0</td>\n",
       "      <td>3</td>\n",
       "      <td>0</td>\n",
       "      <td>16.0</td>\n",
       "      <td>8.0</td>\n",
       "      <td>31.0</td>\n",
       "      <td>16.0</td>\n",
       "      <td>7.0</td>\n",
       "      <td>False</td>\n",
       "    </tr>\n",
       "    <tr>\n",
       "      <th>4</th>\n",
       "      <td>5</td>\n",
       "      <td>24.0</td>\n",
       "      <td>6.0</td>\n",
       "      <td>6.0</td>\n",
       "      <td>2.0</td>\n",
       "      <td>72.0</td>\n",
       "      <td>346.13</td>\n",
       "      <td>0.06</td>\n",
       "      <td>17.33</td>\n",
       "      <td>19.97</td>\n",
       "      <td>...</td>\n",
       "      <td>0</td>\n",
       "      <td>0</td>\n",
       "      <td>3</td>\n",
       "      <td>0</td>\n",
       "      <td>16.0</td>\n",
       "      <td>12.0</td>\n",
       "      <td>46.0</td>\n",
       "      <td>26.0</td>\n",
       "      <td>11.0</td>\n",
       "      <td>False</td>\n",
       "    </tr>\n",
       "  </tbody>\n",
       "</table>\n",
       "<p>5 rows × 23 columns</p>\n",
       "</div>"
      ],
      "text/plain": [
       "   id   loc  v(g)  ev(g)  iv(g)     n       v     l      d      i  ...  \\\n",
       "0   1   1.1   1.4    1.4    1.4   1.3    1.30  1.30   1.30   1.30  ...   \n",
       "1   2   1.0   1.0    1.0    1.0   1.0    1.00  1.00   1.00   1.00  ...   \n",
       "2   3  24.0   5.0    1.0    3.0  63.0  309.13  0.11   9.50  32.54  ...   \n",
       "3   4  20.0   4.0    4.0    2.0  47.0  215.49  0.06  16.00  13.47  ...   \n",
       "4   5  24.0   6.0    6.0    2.0  72.0  346.13  0.06  17.33  19.97  ...   \n",
       "\n",
       "   lOCode  lOComment  lOBlank  locCodeAndComment  uniq_Op  uniq_Opnd  \\\n",
       "0       2          2        2                  2      1.2        1.2   \n",
       "1       1          1        1                  1      1.0        1.0   \n",
       "2       1          0        6                  0     15.0       15.0   \n",
       "3       0          0        3                  0     16.0        8.0   \n",
       "4       0          0        3                  0     16.0       12.0   \n",
       "\n",
       "   total_Op  total_Opnd  branchCount  defects  \n",
       "0       1.2         1.2          1.4    False  \n",
       "1       1.0         1.0          1.0     True  \n",
       "2      44.0        19.0          9.0    False  \n",
       "3      31.0        16.0          7.0    False  \n",
       "4      46.0        26.0         11.0    False  \n",
       "\n",
       "[5 rows x 23 columns]"
      ]
     },
     "execution_count": 7,
     "metadata": {},
     "output_type": "execute_result"
    }
   ],
   "source": [
    "df.head()"
   ]
  },
  {
   "cell_type": "code",
   "execution_count": 8,
   "id": "733e95eb",
   "metadata": {
    "execution": {
     "iopub.execute_input": "2021-04-04T23:36:47.925376Z",
     "iopub.status.busy": "2021-04-04T23:36:47.924514Z",
     "iopub.status.idle": "2021-04-04T23:36:47.927465Z",
     "shell.execute_reply": "2021-04-04T23:36:47.928016Z"
    },
    "papermill": {
     "duration": 0.035164,
     "end_time": "2021-04-04T23:36:47.928217",
     "exception": false,
     "start_time": "2021-04-04T23:36:47.893053",
     "status": "completed"
    },
    "tags": []
   },
   "outputs": [],
   "source": [
    "del df['id']"
   ]
  },
  {
   "cell_type": "code",
   "execution_count": 9,
   "id": "6ff6f5b0",
   "metadata": {
    "execution": {
     "iopub.execute_input": "2021-04-04T23:36:47.978481Z",
     "iopub.status.busy": "2021-04-04T23:36:47.977901Z",
     "iopub.status.idle": "2021-04-04T23:36:47.979959Z",
     "shell.execute_reply": "2021-04-04T23:36:47.980452Z"
    },
    "papermill": {
     "duration": 0.028275,
     "end_time": "2021-04-04T23:36:47.980594",
     "exception": false,
     "start_time": "2021-04-04T23:36:47.952319",
     "status": "completed"
    },
    "tags": []
   },
   "outputs": [],
   "source": [
    "if PROFILE_REPORTING:\n",
    "    ProfileReport(df).to_widgets()"
   ]
  },
  {
   "cell_type": "markdown",
   "id": "1deaf3f0",
   "metadata": {
    "papermill": {
     "duration": 0.026198,
     "end_time": "2021-04-04T23:36:48.032250",
     "exception": false,
     "start_time": "2021-04-04T23:36:48.006052",
     "status": "completed"
    },
    "tags": []
   },
   "source": [
    "# Preprocess"
   ]
  },
  {
   "cell_type": "code",
   "execution_count": 10,
   "id": "1513e563",
   "metadata": {
    "execution": {
     "iopub.execute_input": "2021-04-04T23:36:48.086154Z",
     "iopub.status.busy": "2021-04-04T23:36:48.085325Z",
     "iopub.status.idle": "2021-04-04T23:36:48.087855Z",
     "shell.execute_reply": "2021-04-04T23:36:48.087340Z"
    },
    "papermill": {
     "duration": 0.029944,
     "end_time": "2021-04-04T23:36:48.087976",
     "exception": false,
     "start_time": "2021-04-04T23:36:48.058032",
     "status": "completed"
    },
    "tags": []
   },
   "outputs": [],
   "source": [
    "working_df = df.copy()"
   ]
  },
  {
   "cell_type": "code",
   "execution_count": 11,
   "id": "3b26d675",
   "metadata": {
    "execution": {
     "iopub.execute_input": "2021-04-04T23:36:48.160822Z",
     "iopub.status.busy": "2021-04-04T23:36:48.159749Z",
     "iopub.status.idle": "2021-04-04T23:36:48.162827Z",
     "shell.execute_reply": "2021-04-04T23:36:48.162143Z"
    },
    "papermill": {
     "duration": 0.045156,
     "end_time": "2021-04-04T23:36:48.162989",
     "exception": false,
     "start_time": "2021-04-04T23:36:48.117833",
     "status": "completed"
    },
    "tags": []
   },
   "outputs": [],
   "source": [
    "working_df['defects'] = working_df['defects'].replace([False, True], [0, 1])"
   ]
  },
  {
   "cell_type": "code",
   "execution_count": 12,
   "id": "eb48604f",
   "metadata": {
    "execution": {
     "iopub.execute_input": "2021-04-04T23:36:48.217606Z",
     "iopub.status.busy": "2021-04-04T23:36:48.216852Z",
     "iopub.status.idle": "2021-04-04T23:36:48.218523Z",
     "shell.execute_reply": "2021-04-04T23:36:48.219076Z"
    },
    "papermill": {
     "duration": 0.031561,
     "end_time": "2021-04-04T23:36:48.219219",
     "exception": false,
     "start_time": "2021-04-04T23:36:48.187658",
     "status": "completed"
    },
    "tags": []
   },
   "outputs": [],
   "source": [
    "for col in dataset_config['delete_columns']:\n",
    "    del working_df[col]"
   ]
  },
  {
   "cell_type": "code",
   "execution_count": 13,
   "id": "9a17bc29",
   "metadata": {
    "execution": {
     "iopub.execute_input": "2021-04-04T23:36:48.280483Z",
     "iopub.status.busy": "2021-04-04T23:36:48.279138Z",
     "iopub.status.idle": "2021-04-04T23:36:48.289516Z",
     "shell.execute_reply": "2021-04-04T23:36:48.289994Z"
    },
    "papermill": {
     "duration": 0.048016,
     "end_time": "2021-04-04T23:36:48.290141",
     "exception": false,
     "start_time": "2021-04-04T23:36:48.242125",
     "status": "completed"
    },
    "tags": []
   },
   "outputs": [],
   "source": [
    "working_df = working_df.drop_duplicates()"
   ]
  },
  {
   "cell_type": "markdown",
   "id": "a4d52ca6",
   "metadata": {
    "papermill": {
     "duration": 0.021573,
     "end_time": "2021-04-04T23:36:48.336975",
     "exception": false,
     "start_time": "2021-04-04T23:36:48.315402",
     "status": "completed"
    },
    "tags": []
   },
   "source": [
    "# Split"
   ]
  },
  {
   "cell_type": "code",
   "execution_count": 14,
   "id": "3e9ee4b5",
   "metadata": {
    "execution": {
     "iopub.execute_input": "2021-04-04T23:36:48.414979Z",
     "iopub.status.busy": "2021-04-04T23:36:48.414117Z",
     "iopub.status.idle": "2021-04-04T23:36:48.456330Z",
     "shell.execute_reply": "2021-04-04T23:36:48.457349Z"
    },
    "papermill": {
     "duration": 0.087029,
     "end_time": "2021-04-04T23:36:48.457572",
     "exception": false,
     "start_time": "2021-04-04T23:36:48.370543",
     "status": "completed"
    },
    "tags": []
   },
   "outputs": [],
   "source": [
    "from sklearn.model_selection import train_test_split"
   ]
  },
  {
   "cell_type": "code",
   "execution_count": 15,
   "id": "274004ce",
   "metadata": {
    "execution": {
     "iopub.execute_input": "2021-04-04T23:36:48.531768Z",
     "iopub.status.busy": "2021-04-04T23:36:48.531159Z",
     "iopub.status.idle": "2021-04-04T23:36:48.535508Z",
     "shell.execute_reply": "2021-04-04T23:36:48.535981Z"
    },
    "papermill": {
     "duration": 0.037086,
     "end_time": "2021-04-04T23:36:48.536126",
     "exception": false,
     "start_time": "2021-04-04T23:36:48.499040",
     "status": "completed"
    },
    "scrolled": true,
    "tags": []
   },
   "outputs": [],
   "source": [
    "inlier, outlier = working_df[working_df['defects'] == 0], working_df[working_df['defects'] == 1]"
   ]
  },
  {
   "cell_type": "code",
   "execution_count": 16,
   "id": "753c7b03",
   "metadata": {
    "execution": {
     "iopub.execute_input": "2021-04-04T23:36:48.598581Z",
     "iopub.status.busy": "2021-04-04T23:36:48.596993Z",
     "iopub.status.idle": "2021-04-04T23:36:48.602316Z",
     "shell.execute_reply": "2021-04-04T23:36:48.603417Z"
    },
    "papermill": {
     "duration": 0.043982,
     "end_time": "2021-04-04T23:36:48.603891",
     "exception": false,
     "start_time": "2021-04-04T23:36:48.559909",
     "status": "completed"
    },
    "tags": []
   },
   "outputs": [],
   "source": [
    "X_inlier = inlier.copy()\n",
    "y_inlier = X_inlier.pop('defects')\n",
    "X_outlier = outlier.copy()\n",
    "y_outlier = X_outlier.pop('defects')"
   ]
  },
  {
   "cell_type": "code",
   "execution_count": 17,
   "id": "2ba43193",
   "metadata": {
    "execution": {
     "iopub.execute_input": "2021-04-04T23:36:48.659526Z",
     "iopub.status.busy": "2021-04-04T23:36:48.658677Z",
     "iopub.status.idle": "2021-04-04T23:36:48.661643Z",
     "shell.execute_reply": "2021-04-04T23:36:48.661057Z"
    },
    "papermill": {
     "duration": 0.031692,
     "end_time": "2021-04-04T23:36:48.661765",
     "exception": false,
     "start_time": "2021-04-04T23:36:48.630073",
     "status": "completed"
    },
    "tags": []
   },
   "outputs": [],
   "source": [
    "test_size = dataset_config['test_size']\n",
    "random_state = dataset_config['random_state']\n",
    "\n",
    "X_inlier_train, X_inlier_test, y_inlier_train, y_inlier_test = train_test_split(\n",
    "    X_inlier,\n",
    "    y_inlier,\n",
    "    test_size=test_size,\n",
    "    random_state=random_state\n",
    ")"
   ]
  },
  {
   "cell_type": "code",
   "execution_count": 18,
   "id": "0b7582ca",
   "metadata": {
    "execution": {
     "iopub.execute_input": "2021-04-04T23:36:48.724558Z",
     "iopub.status.busy": "2021-04-04T23:36:48.723702Z",
     "iopub.status.idle": "2021-04-04T23:36:48.725992Z",
     "shell.execute_reply": "2021-04-04T23:36:48.726574Z"
    },
    "papermill": {
     "duration": 0.039317,
     "end_time": "2021-04-04T23:36:48.726799",
     "exception": false,
     "start_time": "2021-04-04T23:36:48.687482",
     "status": "completed"
    },
    "tags": []
   },
   "outputs": [],
   "source": [
    "test_outlier_size = dataset_config['test_outlier_size']\n",
    "if test_outlier_size > 0.0:\n",
    "    X_outlier_train, X_outlier_test, y_outlier_train, y_outlier_test = train_test_split(\n",
    "        X_outlier,\n",
    "        y_outlier,\n",
    "        test_size=test_outlier_size,\n",
    "        random_state=random_state\n",
    "    )\n",
    "else:\n",
    "    X_outlier_train, y_outlier_train = pd.DataFrame(columns=X_outlier.columns), pd.Series(dtype='int64')\n",
    "    X_outlier_test, y_outlier_test = X_outlier.copy(), y_outlier.copy()"
   ]
  },
  {
   "cell_type": "code",
   "execution_count": 19,
   "id": "c34363db",
   "metadata": {
    "execution": {
     "iopub.execute_input": "2021-04-04T23:36:48.789257Z",
     "iopub.status.busy": "2021-04-04T23:36:48.788617Z",
     "iopub.status.idle": "2021-04-04T23:36:48.793293Z",
     "shell.execute_reply": "2021-04-04T23:36:48.793754Z"
    },
    "papermill": {
     "duration": 0.03649,
     "end_time": "2021-04-04T23:36:48.793907",
     "exception": false,
     "start_time": "2021-04-04T23:36:48.757417",
     "status": "completed"
    },
    "tags": []
   },
   "outputs": [],
   "source": [
    "X_train, y_train = pd.concat([X_inlier_train, X_outlier_train], ignore_index=True), pd.concat([y_inlier_train, y_outlier_train], ignore_index=True)\n",
    "X_test, y_test = pd.concat([X_inlier_test, X_outlier_test], ignore_index=True), pd.concat([y_inlier_test, y_outlier_test], ignore_index=True)"
   ]
  },
  {
   "cell_type": "markdown",
   "id": "7cde7309",
   "metadata": {
    "papermill": {
     "duration": 0.027058,
     "end_time": "2021-04-04T23:36:48.845659",
     "exception": false,
     "start_time": "2021-04-04T23:36:48.818601",
     "status": "completed"
    },
    "tags": []
   },
   "source": [
    "# Model"
   ]
  },
  {
   "cell_type": "code",
   "execution_count": 20,
   "id": "2b12a415",
   "metadata": {
    "execution": {
     "iopub.execute_input": "2021-04-04T23:36:48.904732Z",
     "iopub.status.busy": "2021-04-04T23:36:48.904080Z",
     "iopub.status.idle": "2021-04-04T23:36:48.906073Z",
     "shell.execute_reply": "2021-04-04T23:36:48.906674Z"
    },
    "papermill": {
     "duration": 0.035483,
     "end_time": "2021-04-04T23:36:48.906872",
     "exception": false,
     "start_time": "2021-04-04T23:36:48.871389",
     "status": "completed"
    },
    "tags": []
   },
   "outputs": [],
   "source": [
    "from math import sqrt\n",
    "\n",
    "\n",
    "class KNNDataDescription:\n",
    "    def __init__(self, k=5, outlier_threshold=1.0):\n",
    "        self.k = k\n",
    "        self.outlier_threshold = outlier_threshold\n",
    "        self.X = []\n",
    "    \n",
    "    def fit(self, X):\n",
    "        self.X = [features.to_list() for index, features in X.iterrows()]\n",
    "\n",
    "    def predict(self, entries):\n",
    "        return [self.predict_entry(features.to_list()) for index, features in entries.iterrows()]\n",
    "    \n",
    "    def predict_entry(self, entry):\n",
    "        kth_neighbor, kth_distance = self.get_kth_neighbor(entry, self.k)\n",
    "        kth_kth_neighbor, kth_kth_distance = self.get_kth_neighbor(kth_neighbor, self.k + 1)\n",
    "\n",
    "        outlier_score = kth_distance / (kth_kth_distance + 0.000001)\n",
    "\n",
    "        return 1 if outlier_score < self.outlier_threshold else -1\n",
    "        \n",
    "    def euclidean_distance(self, features1, features2):\n",
    "        distance = 0.0\n",
    "        for feat1, feat2 in zip(features1, features2):\n",
    "            distance += (feat1 - feat2)**2\n",
    "                \n",
    "        return sqrt(distance)\n",
    "\n",
    "    def get_neighbors(self, entry, k):\n",
    "        distance_to_data_points = [\n",
    "            (data_point, self.euclidean_distance(entry, data_point))\n",
    "            for data_point in self.X\n",
    "        ]\n",
    "        sorted_by_distance = sorted(distance_to_data_points, key=lambda tup: tup[1])\n",
    "        neighbors = sorted_by_distance[:k]\n",
    "        return neighbors\n",
    "\n",
    "    def get_kth_neighbor(self, entry, k):\n",
    "        neighbors = self.get_neighbors(entry, k)\n",
    "        return neighbors[-1]\n"
   ]
  },
  {
   "cell_type": "code",
   "execution_count": 21,
   "id": "1fa9ec1c",
   "metadata": {
    "execution": {
     "iopub.execute_input": "2021-04-04T23:36:48.967989Z",
     "iopub.status.busy": "2021-04-04T23:36:48.967146Z",
     "iopub.status.idle": "2021-04-04T23:36:48.992109Z",
     "shell.execute_reply": "2021-04-04T23:36:48.991436Z"
    },
    "papermill": {
     "duration": 0.058474,
     "end_time": "2021-04-04T23:36:48.992279",
     "exception": false,
     "start_time": "2021-04-04T23:36:48.933805",
     "status": "completed"
    },
    "tags": []
   },
   "outputs": [],
   "source": [
    "from sklearn.svm import OneClassSVM\n",
    "\n",
    "\n",
    "models = {\n",
    "    'oneclasssvm': OneClassSVM,\n",
    "    'knndatadescription': KNNDataDescription,\n",
    "}"
   ]
  },
  {
   "cell_type": "code",
   "execution_count": 22,
   "id": "4d72a0b1",
   "metadata": {
    "execution": {
     "iopub.execute_input": "2021-04-04T23:36:49.071075Z",
     "iopub.status.busy": "2021-04-04T23:36:49.070147Z",
     "iopub.status.idle": "2021-04-04T23:36:49.072273Z",
     "shell.execute_reply": "2021-04-04T23:36:49.072997Z"
    },
    "papermill": {
     "duration": 0.043311,
     "end_time": "2021-04-04T23:36:49.073271",
     "exception": false,
     "start_time": "2021-04-04T23:36:49.029960",
     "status": "completed"
    },
    "scrolled": true,
    "tags": []
   },
   "outputs": [],
   "source": [
    "model_cls = models[model_config['model_type']]\n",
    "model = model_cls(**model_config['hyperparameters'])"
   ]
  },
  {
   "cell_type": "markdown",
   "id": "e00cff3b",
   "metadata": {
    "papermill": {
     "duration": 0.033573,
     "end_time": "2021-04-04T23:36:49.133562",
     "exception": false,
     "start_time": "2021-04-04T23:36:49.099989",
     "status": "completed"
    },
    "tags": []
   },
   "source": [
    "# Fit"
   ]
  },
  {
   "cell_type": "code",
   "execution_count": 23,
   "id": "8b2ded89",
   "metadata": {
    "execution": {
     "iopub.execute_input": "2021-04-04T23:36:49.192804Z",
     "iopub.status.busy": "2021-04-04T23:36:49.191983Z",
     "iopub.status.idle": "2021-04-04T23:36:49.214968Z",
     "shell.execute_reply": "2021-04-04T23:36:49.214445Z"
    },
    "papermill": {
     "duration": 0.05434,
     "end_time": "2021-04-04T23:36:49.215092",
     "exception": false,
     "start_time": "2021-04-04T23:36:49.160752",
     "status": "completed"
    },
    "tags": []
   },
   "outputs": [],
   "source": [
    "model.fit(X_train)"
   ]
  },
  {
   "cell_type": "markdown",
   "id": "f99999f7",
   "metadata": {
    "papermill": {
     "duration": 0.029366,
     "end_time": "2021-04-04T23:36:49.270225",
     "exception": false,
     "start_time": "2021-04-04T23:36:49.240859",
     "status": "completed"
    },
    "tags": []
   },
   "source": [
    "# Predict"
   ]
  },
  {
   "cell_type": "code",
   "execution_count": 24,
   "id": "6536fbf7",
   "metadata": {
    "execution": {
     "iopub.execute_input": "2021-04-04T23:36:49.355315Z",
     "iopub.status.busy": "2021-04-04T23:36:49.336443Z",
     "iopub.status.idle": "2021-04-04T23:36:49.647209Z",
     "shell.execute_reply": "2021-04-04T23:36:49.648117Z"
    },
    "papermill": {
     "duration": 0.349274,
     "end_time": "2021-04-04T23:36:49.648301",
     "exception": false,
     "start_time": "2021-04-04T23:36:49.299027",
     "status": "completed"
    },
    "tags": []
   },
   "outputs": [],
   "source": [
    "predictions = model.predict(X_test)"
   ]
  },
  {
   "cell_type": "markdown",
   "id": "aa1c9881",
   "metadata": {
    "papermill": {
     "duration": 0.028482,
     "end_time": "2021-04-04T23:36:49.703157",
     "exception": false,
     "start_time": "2021-04-04T23:36:49.674675",
     "status": "completed"
    },
    "tags": []
   },
   "source": [
    "# Evaluate"
   ]
  },
  {
   "cell_type": "code",
   "execution_count": 25,
   "id": "894f0f04",
   "metadata": {
    "execution": {
     "iopub.execute_input": "2021-04-04T23:36:49.766175Z",
     "iopub.status.busy": "2021-04-04T23:36:49.765317Z",
     "iopub.status.idle": "2021-04-04T23:36:49.767880Z",
     "shell.execute_reply": "2021-04-04T23:36:49.767369Z"
    },
    "papermill": {
     "duration": 0.037147,
     "end_time": "2021-04-04T23:36:49.768000",
     "exception": false,
     "start_time": "2021-04-04T23:36:49.730853",
     "status": "completed"
    },
    "tags": []
   },
   "outputs": [],
   "source": [
    "from sklearn.metrics import f1_score"
   ]
  },
  {
   "cell_type": "code",
   "execution_count": 26,
   "id": "211744d3",
   "metadata": {
    "execution": {
     "iopub.execute_input": "2021-04-04T23:36:49.832986Z",
     "iopub.status.busy": "2021-04-04T23:36:49.831484Z",
     "iopub.status.idle": "2021-04-04T23:36:49.836747Z",
     "shell.execute_reply": "2021-04-04T23:36:49.835823Z"
    },
    "papermill": {
     "duration": 0.044416,
     "end_time": "2021-04-04T23:36:49.836878",
     "exception": false,
     "start_time": "2021-04-04T23:36:49.792462",
     "status": "completed"
    },
    "tags": []
   },
   "outputs": [],
   "source": [
    "y_test = y_test.replace([0, 1], [1, -1])"
   ]
  },
  {
   "cell_type": "code",
   "execution_count": 27,
   "id": "d68a9204",
   "metadata": {
    "execution": {
     "iopub.execute_input": "2021-04-04T23:36:49.936754Z",
     "iopub.status.busy": "2021-04-04T23:36:49.935984Z",
     "iopub.status.idle": "2021-04-04T23:36:49.937757Z",
     "shell.execute_reply": "2021-04-04T23:36:49.938299Z"
    },
    "papermill": {
     "duration": 0.074552,
     "end_time": "2021-04-04T23:36:49.938444",
     "exception": false,
     "start_time": "2021-04-04T23:36:49.863892",
     "status": "completed"
    },
    "tags": []
   },
   "outputs": [],
   "source": [
    "def evaluate(truths, predictions, pos_label, neg_label):\n",
    "    TP = 0\n",
    "    FP = 0\n",
    "    TN = 0\n",
    "    FN = 0\n",
    "\n",
    "    for truth, pred in zip(truths, predictions): \n",
    "        if truth == pred == pos_label:\n",
    "           TP += 1\n",
    "        elif pred == pos_label and truth == neg_label:\n",
    "           FP += 1\n",
    "        elif truth == pred == neg_label:\n",
    "           TN += 1\n",
    "        elif pred == neg_label and truth == pos_label:\n",
    "           FN += 1\n",
    "\n",
    "    precision = TP / (TP + FP)\n",
    "    sensitivity = TP / (TP + FN)\n",
    "    \n",
    "    return {\n",
    "        'true_pos': TP,\n",
    "        'false_pos': FP,\n",
    "        'false_neg': FN,\n",
    "        'true_neg': TN,\n",
    "        'precision': precision,\n",
    "        'sensitivity': sensitivity,\n",
    "        'f1': (2 * (precision * sensitivity)) / (precision + sensitivity)\n",
    "    }\n",
    "\n",
    "score = evaluate(y_test, predictions, pos_label=-1, neg_label=1)"
   ]
  },
  {
   "cell_type": "markdown",
   "id": "93596516",
   "metadata": {
    "papermill": {
     "duration": 0.031778,
     "end_time": "2021-04-04T23:36:49.996038",
     "exception": false,
     "start_time": "2021-04-04T23:36:49.964260",
     "status": "completed"
    },
    "tags": []
   },
   "source": [
    "# Report"
   ]
  },
  {
   "cell_type": "code",
   "execution_count": 28,
   "id": "bea5fba1",
   "metadata": {
    "execution": {
     "iopub.execute_input": "2021-04-04T23:36:50.066034Z",
     "iopub.status.busy": "2021-04-04T23:36:50.064981Z",
     "iopub.status.idle": "2021-04-04T23:36:50.072806Z",
     "shell.execute_reply": "2021-04-04T23:36:50.071080Z"
    },
    "papermill": {
     "duration": 0.04771,
     "end_time": "2021-04-04T23:36:50.072974",
     "exception": false,
     "start_time": "2021-04-04T23:36:50.025264",
     "status": "completed"
    },
    "tags": []
   },
   "outputs": [],
   "source": [
    "import csv\n",
    "\n",
    "\n",
    "dataset_config_name = DATASET_CONFIG_PATH.split('/')[-1].split('.')[0]\n",
    "model_config_name = MODEL_CONFIG_PATH.split('/')[-1].split('.')[0]\n",
    "configuration = f\"dataset_{dataset_config_name}-model_{model_config_name}\"\n",
    "\n",
    "with open('results.csv', 'a') as f:\n",
    "    report = dict({'configuration': configuration}, **score)\n",
    "    writer = csv.DictWriter(f, report.keys())\n",
    "    writer.writerow(report)"
   ]
  }
 ],
 "metadata": {
  "celltoolbar": "Tags",
  "kernelspec": {
   "display_name": "Python 3",
   "language": "python",
   "name": "python3"
  },
  "language_info": {
   "codemirror_mode": {
    "name": "ipython",
    "version": 3
   },
   "file_extension": ".py",
   "mimetype": "text/x-python",
   "name": "python",
   "nbconvert_exporter": "python",
   "pygments_lexer": "ipython3",
   "version": "3.9.1"
  },
  "papermill": {
   "default_parameters": {},
   "duration": 5.572326,
   "end_time": "2021-04-04T23:36:50.706995",
   "environment_variables": {},
   "exception": null,
   "input_path": "main.ipynb",
   "output_path": "runs/dataset_000157-model_000003.ipynb",
   "parameters": {
    "DATASET_CONFIG_PATH": "config/dataset/000157.json",
    "MODEL_CONFIG_PATH": "config/model/000003.json",
    "PROFILE_REPORTING": false
   },
   "start_time": "2021-04-04T23:36:45.134669",
   "version": "2.3.3"
  }
 },
 "nbformat": 4,
 "nbformat_minor": 5
}