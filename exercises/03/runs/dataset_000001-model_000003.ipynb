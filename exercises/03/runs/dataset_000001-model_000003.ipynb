{
 "cells": [
  {
   "cell_type": "markdown",
   "id": "4588efca",
   "metadata": {
    "papermill": {
     "duration": 0.026978,
     "end_time": "2021-04-04T22:21:40.592910",
     "exception": false,
     "start_time": "2021-04-04T22:21:40.565932",
     "status": "completed"
    },
    "tags": []
   },
   "source": [
    "# Parametrizing"
   ]
  },
  {
   "cell_type": "code",
   "execution_count": 1,
   "id": "5964d9c0",
   "metadata": {
    "execution": {
     "iopub.execute_input": "2021-04-04T22:21:40.646731Z",
     "iopub.status.busy": "2021-04-04T22:21:40.645720Z",
     "iopub.status.idle": "2021-04-04T22:21:40.648544Z",
     "shell.execute_reply": "2021-04-04T22:21:40.647817Z"
    },
    "papermill": {
     "duration": 0.036388,
     "end_time": "2021-04-04T22:21:40.648699",
     "exception": false,
     "start_time": "2021-04-04T22:21:40.612311",
     "status": "completed"
    },
    "tags": [
     "parameters"
    ]
   },
   "outputs": [],
   "source": [
    "DATASET_CONFIG_PATH = 'config/dataset/kc1_001.json'\n",
    "MODEL_CONFIG_PATH = 'config/model/knndd_001.json'\n",
    "PROFILE_REPORTING = False"
   ]
  },
  {
   "cell_type": "code",
   "execution_count": 2,
   "id": "a6433f2a",
   "metadata": {
    "execution": {
     "iopub.execute_input": "2021-04-04T22:21:40.694745Z",
     "iopub.status.busy": "2021-04-04T22:21:40.693696Z",
     "iopub.status.idle": "2021-04-04T22:21:40.695852Z",
     "shell.execute_reply": "2021-04-04T22:21:40.696419Z"
    },
    "papermill": {
     "duration": 0.026774,
     "end_time": "2021-04-04T22:21:40.696565",
     "exception": false,
     "start_time": "2021-04-04T22:21:40.669791",
     "status": "completed"
    },
    "tags": [
     "injected-parameters"
    ]
   },
   "outputs": [],
   "source": [
    "# Parameters\n",
    "DATASET_CONFIG_PATH = \"config/dataset/000001.json\"\n",
    "MODEL_CONFIG_PATH = \"config/model/000003.json\"\n",
    "PROFILE_REPORTING = False\n"
   ]
  },
  {
   "cell_type": "code",
   "execution_count": 3,
   "id": "3fa67035",
   "metadata": {
    "execution": {
     "iopub.execute_input": "2021-04-04T22:21:40.745046Z",
     "iopub.status.busy": "2021-04-04T22:21:40.744056Z",
     "iopub.status.idle": "2021-04-04T22:21:40.746076Z",
     "shell.execute_reply": "2021-04-04T22:21:40.746548Z"
    },
    "papermill": {
     "duration": 0.029861,
     "end_time": "2021-04-04T22:21:40.746709",
     "exception": false,
     "start_time": "2021-04-04T22:21:40.716848",
     "status": "completed"
    },
    "tags": []
   },
   "outputs": [],
   "source": [
    "import json\n",
    "\n",
    "\n",
    "with open(DATASET_CONFIG_PATH) as f:\n",
    "    dataset_config = json.load(f)\n",
    "\n",
    "with open(MODEL_CONFIG_PATH) as f:\n",
    "    model_config = json.load(f)"
   ]
  },
  {
   "cell_type": "markdown",
   "id": "9a4b0e2d",
   "metadata": {
    "papermill": {
     "duration": 0.019761,
     "end_time": "2021-04-04T22:21:40.786686",
     "exception": false,
     "start_time": "2021-04-04T22:21:40.766925",
     "status": "completed"
    },
    "tags": []
   },
   "source": [
    "# Profiling"
   ]
  },
  {
   "cell_type": "code",
   "execution_count": 4,
   "id": "a3e0289b",
   "metadata": {
    "execution": {
     "iopub.execute_input": "2021-04-04T22:21:40.829197Z",
     "iopub.status.busy": "2021-04-04T22:21:40.828582Z",
     "iopub.status.idle": "2021-04-04T22:21:42.080882Z",
     "shell.execute_reply": "2021-04-04T22:21:42.079809Z"
    },
    "papermill": {
     "duration": 1.275093,
     "end_time": "2021-04-04T22:21:42.081088",
     "exception": false,
     "start_time": "2021-04-04T22:21:40.805995",
     "status": "completed"
    },
    "tags": []
   },
   "outputs": [],
   "source": [
    "import pandas as pd\n",
    "from pandas_profiling import ProfileReport"
   ]
  },
  {
   "cell_type": "code",
   "execution_count": 5,
   "id": "ee6c0666",
   "metadata": {
    "execution": {
     "iopub.execute_input": "2021-04-04T22:21:42.132117Z",
     "iopub.status.busy": "2021-04-04T22:21:42.130594Z",
     "iopub.status.idle": "2021-04-04T22:21:42.148256Z",
     "shell.execute_reply": "2021-04-04T22:21:42.147589Z"
    },
    "papermill": {
     "duration": 0.044928,
     "end_time": "2021-04-04T22:21:42.148480",
     "exception": false,
     "start_time": "2021-04-04T22:21:42.103552",
     "status": "completed"
    },
    "tags": []
   },
   "outputs": [],
   "source": [
    "df = pd.read_csv(dataset_config['dataset_path'])"
   ]
  },
  {
   "cell_type": "code",
   "execution_count": 6,
   "id": "20d45671",
   "metadata": {
    "execution": {
     "iopub.execute_input": "2021-04-04T22:21:42.203091Z",
     "iopub.status.busy": "2021-04-04T22:21:42.202035Z",
     "iopub.status.idle": "2021-04-04T22:21:42.218115Z",
     "shell.execute_reply": "2021-04-04T22:21:42.216993Z"
    },
    "papermill": {
     "duration": 0.041483,
     "end_time": "2021-04-04T22:21:42.218330",
     "exception": false,
     "start_time": "2021-04-04T22:21:42.176847",
     "status": "completed"
    },
    "tags": []
   },
   "outputs": [
    {
     "name": "stdout",
     "output_type": "stream",
     "text": [
      "<class 'pandas.core.frame.DataFrame'>\n",
      "RangeIndex: 2109 entries, 0 to 2108\n",
      "Data columns (total 23 columns):\n",
      " #   Column             Non-Null Count  Dtype  \n",
      "---  ------             --------------  -----  \n",
      " 0   id                 2109 non-null   int64  \n",
      " 1   loc                2109 non-null   float64\n",
      " 2   v(g)               2109 non-null   float64\n",
      " 3   ev(g)              2109 non-null   float64\n",
      " 4   iv(g)              2109 non-null   float64\n",
      " 5   n                  2109 non-null   float64\n",
      " 6   v                  2109 non-null   float64\n",
      " 7   l                  2109 non-null   float64\n",
      " 8   d                  2109 non-null   float64\n",
      " 9   i                  2109 non-null   float64\n",
      " 10  e                  2109 non-null   float64\n",
      " 11  b                  2109 non-null   float64\n",
      " 12  t                  2109 non-null   float64\n",
      " 13  lOCode             2109 non-null   int64  \n",
      " 14  lOComment          2109 non-null   int64  \n",
      " 15  lOBlank            2109 non-null   int64  \n",
      " 16  locCodeAndComment  2109 non-null   int64  \n",
      " 17  uniq_Op            2109 non-null   float64\n",
      " 18  uniq_Opnd          2109 non-null   float64\n",
      " 19  total_Op           2109 non-null   float64\n",
      " 20  total_Opnd         2109 non-null   float64\n",
      " 21  branchCount        2109 non-null   float64\n",
      " 22  defects            2109 non-null   bool   \n",
      "dtypes: bool(1), float64(17), int64(5)\n",
      "memory usage: 364.7 KB\n"
     ]
    }
   ],
   "source": [
    "df.info()"
   ]
  },
  {
   "cell_type": "code",
   "execution_count": 7,
   "id": "a676db33",
   "metadata": {
    "execution": {
     "iopub.execute_input": "2021-04-04T22:21:42.279520Z",
     "iopub.status.busy": "2021-04-04T22:21:42.278627Z",
     "iopub.status.idle": "2021-04-04T22:21:42.306889Z",
     "shell.execute_reply": "2021-04-04T22:21:42.307817Z"
    },
    "papermill": {
     "duration": 0.060015,
     "end_time": "2021-04-04T22:21:42.308080",
     "exception": false,
     "start_time": "2021-04-04T22:21:42.248065",
     "status": "completed"
    },
    "tags": []
   },
   "outputs": [
    {
     "data": {
      "text/html": [
       "<div>\n",
       "<style scoped>\n",
       "    .dataframe tbody tr th:only-of-type {\n",
       "        vertical-align: middle;\n",
       "    }\n",
       "\n",
       "    .dataframe tbody tr th {\n",
       "        vertical-align: top;\n",
       "    }\n",
       "\n",
       "    .dataframe thead th {\n",
       "        text-align: right;\n",
       "    }\n",
       "</style>\n",
       "<table border=\"1\" class=\"dataframe\">\n",
       "  <thead>\n",
       "    <tr style=\"text-align: right;\">\n",
       "      <th></th>\n",
       "      <th>id</th>\n",
       "      <th>loc</th>\n",
       "      <th>v(g)</th>\n",
       "      <th>ev(g)</th>\n",
       "      <th>iv(g)</th>\n",
       "      <th>n</th>\n",
       "      <th>v</th>\n",
       "      <th>l</th>\n",
       "      <th>d</th>\n",
       "      <th>i</th>\n",
       "      <th>...</th>\n",
       "      <th>lOCode</th>\n",
       "      <th>lOComment</th>\n",
       "      <th>lOBlank</th>\n",
       "      <th>locCodeAndComment</th>\n",
       "      <th>uniq_Op</th>\n",
       "      <th>uniq_Opnd</th>\n",
       "      <th>total_Op</th>\n",
       "      <th>total_Opnd</th>\n",
       "      <th>branchCount</th>\n",
       "      <th>defects</th>\n",
       "    </tr>\n",
       "  </thead>\n",
       "  <tbody>\n",
       "    <tr>\n",
       "      <th>0</th>\n",
       "      <td>1</td>\n",
       "      <td>1.1</td>\n",
       "      <td>1.4</td>\n",
       "      <td>1.4</td>\n",
       "      <td>1.4</td>\n",
       "      <td>1.3</td>\n",
       "      <td>1.30</td>\n",
       "      <td>1.30</td>\n",
       "      <td>1.30</td>\n",
       "      <td>1.30</td>\n",
       "      <td>...</td>\n",
       "      <td>2</td>\n",
       "      <td>2</td>\n",
       "      <td>2</td>\n",
       "      <td>2</td>\n",
       "      <td>1.2</td>\n",
       "      <td>1.2</td>\n",
       "      <td>1.2</td>\n",
       "      <td>1.2</td>\n",
       "      <td>1.4</td>\n",
       "      <td>False</td>\n",
       "    </tr>\n",
       "    <tr>\n",
       "      <th>1</th>\n",
       "      <td>2</td>\n",
       "      <td>1.0</td>\n",
       "      <td>1.0</td>\n",
       "      <td>1.0</td>\n",
       "      <td>1.0</td>\n",
       "      <td>1.0</td>\n",
       "      <td>1.00</td>\n",
       "      <td>1.00</td>\n",
       "      <td>1.00</td>\n",
       "      <td>1.00</td>\n",
       "      <td>...</td>\n",
       "      <td>1</td>\n",
       "      <td>1</td>\n",
       "      <td>1</td>\n",
       "      <td>1</td>\n",
       "      <td>1.0</td>\n",
       "      <td>1.0</td>\n",
       "      <td>1.0</td>\n",
       "      <td>1.0</td>\n",
       "      <td>1.0</td>\n",
       "      <td>True</td>\n",
       "    </tr>\n",
       "    <tr>\n",
       "      <th>2</th>\n",
       "      <td>3</td>\n",
       "      <td>83.0</td>\n",
       "      <td>11.0</td>\n",
       "      <td>1.0</td>\n",
       "      <td>11.0</td>\n",
       "      <td>171.0</td>\n",
       "      <td>927.89</td>\n",
       "      <td>0.04</td>\n",
       "      <td>23.04</td>\n",
       "      <td>40.27</td>\n",
       "      <td>...</td>\n",
       "      <td>65</td>\n",
       "      <td>10</td>\n",
       "      <td>6</td>\n",
       "      <td>0</td>\n",
       "      <td>18.0</td>\n",
       "      <td>25.0</td>\n",
       "      <td>107.0</td>\n",
       "      <td>64.0</td>\n",
       "      <td>21.0</td>\n",
       "      <td>True</td>\n",
       "    </tr>\n",
       "    <tr>\n",
       "      <th>3</th>\n",
       "      <td>4</td>\n",
       "      <td>46.0</td>\n",
       "      <td>8.0</td>\n",
       "      <td>6.0</td>\n",
       "      <td>8.0</td>\n",
       "      <td>141.0</td>\n",
       "      <td>769.78</td>\n",
       "      <td>0.07</td>\n",
       "      <td>14.86</td>\n",
       "      <td>51.81</td>\n",
       "      <td>...</td>\n",
       "      <td>37</td>\n",
       "      <td>2</td>\n",
       "      <td>5</td>\n",
       "      <td>0</td>\n",
       "      <td>16.0</td>\n",
       "      <td>28.0</td>\n",
       "      <td>89.0</td>\n",
       "      <td>52.0</td>\n",
       "      <td>15.0</td>\n",
       "      <td>True</td>\n",
       "    </tr>\n",
       "    <tr>\n",
       "      <th>4</th>\n",
       "      <td>5</td>\n",
       "      <td>25.0</td>\n",
       "      <td>3.0</td>\n",
       "      <td>1.0</td>\n",
       "      <td>3.0</td>\n",
       "      <td>58.0</td>\n",
       "      <td>254.75</td>\n",
       "      <td>0.11</td>\n",
       "      <td>9.35</td>\n",
       "      <td>27.25</td>\n",
       "      <td>...</td>\n",
       "      <td>21</td>\n",
       "      <td>0</td>\n",
       "      <td>2</td>\n",
       "      <td>0</td>\n",
       "      <td>11.0</td>\n",
       "      <td>10.0</td>\n",
       "      <td>41.0</td>\n",
       "      <td>17.0</td>\n",
       "      <td>5.0</td>\n",
       "      <td>True</td>\n",
       "    </tr>\n",
       "  </tbody>\n",
       "</table>\n",
       "<p>5 rows × 23 columns</p>\n",
       "</div>"
      ],
      "text/plain": [
       "   id   loc  v(g)  ev(g)  iv(g)      n       v     l      d      i  ...  \\\n",
       "0   1   1.1   1.4    1.4    1.4    1.3    1.30  1.30   1.30   1.30  ...   \n",
       "1   2   1.0   1.0    1.0    1.0    1.0    1.00  1.00   1.00   1.00  ...   \n",
       "2   3  83.0  11.0    1.0   11.0  171.0  927.89  0.04  23.04  40.27  ...   \n",
       "3   4  46.0   8.0    6.0    8.0  141.0  769.78  0.07  14.86  51.81  ...   \n",
       "4   5  25.0   3.0    1.0    3.0   58.0  254.75  0.11   9.35  27.25  ...   \n",
       "\n",
       "   lOCode  lOComment  lOBlank  locCodeAndComment  uniq_Op  uniq_Opnd  \\\n",
       "0       2          2        2                  2      1.2        1.2   \n",
       "1       1          1        1                  1      1.0        1.0   \n",
       "2      65         10        6                  0     18.0       25.0   \n",
       "3      37          2        5                  0     16.0       28.0   \n",
       "4      21          0        2                  0     11.0       10.0   \n",
       "\n",
       "   total_Op  total_Opnd  branchCount  defects  \n",
       "0       1.2         1.2          1.4    False  \n",
       "1       1.0         1.0          1.0     True  \n",
       "2     107.0        64.0         21.0     True  \n",
       "3      89.0        52.0         15.0     True  \n",
       "4      41.0        17.0          5.0     True  \n",
       "\n",
       "[5 rows x 23 columns]"
      ]
     },
     "execution_count": 7,
     "metadata": {},
     "output_type": "execute_result"
    }
   ],
   "source": [
    "df.head()"
   ]
  },
  {
   "cell_type": "code",
   "execution_count": 8,
   "id": "dd6aa244",
   "metadata": {
    "execution": {
     "iopub.execute_input": "2021-04-04T22:21:42.370375Z",
     "iopub.status.busy": "2021-04-04T22:21:42.369489Z",
     "iopub.status.idle": "2021-04-04T22:21:42.372352Z",
     "shell.execute_reply": "2021-04-04T22:21:42.372950Z"
    },
    "papermill": {
     "duration": 0.034857,
     "end_time": "2021-04-04T22:21:42.373124",
     "exception": false,
     "start_time": "2021-04-04T22:21:42.338267",
     "status": "completed"
    },
    "tags": []
   },
   "outputs": [],
   "source": [
    "del df['id']"
   ]
  },
  {
   "cell_type": "code",
   "execution_count": 9,
   "id": "6ff6f5b0",
   "metadata": {
    "execution": {
     "iopub.execute_input": "2021-04-04T22:21:42.422322Z",
     "iopub.status.busy": "2021-04-04T22:21:42.421596Z",
     "iopub.status.idle": "2021-04-04T22:21:42.423258Z",
     "shell.execute_reply": "2021-04-04T22:21:42.423827Z"
    },
    "papermill": {
     "duration": 0.029264,
     "end_time": "2021-04-04T22:21:42.423976",
     "exception": false,
     "start_time": "2021-04-04T22:21:42.394712",
     "status": "completed"
    },
    "tags": []
   },
   "outputs": [],
   "source": [
    "if PROFILE_REPORTING:\n",
    "    ProfileReport(df).to_widgets()"
   ]
  },
  {
   "cell_type": "markdown",
   "id": "1deaf3f0",
   "metadata": {
    "papermill": {
     "duration": 0.020639,
     "end_time": "2021-04-04T22:21:42.467120",
     "exception": false,
     "start_time": "2021-04-04T22:21:42.446481",
     "status": "completed"
    },
    "tags": []
   },
   "source": [
    "# Preprocess"
   ]
  },
  {
   "cell_type": "code",
   "execution_count": 10,
   "id": "9153b2bb",
   "metadata": {
    "execution": {
     "iopub.execute_input": "2021-04-04T22:21:42.512531Z",
     "iopub.status.busy": "2021-04-04T22:21:42.511937Z",
     "iopub.status.idle": "2021-04-04T22:21:42.514421Z",
     "shell.execute_reply": "2021-04-04T22:21:42.514923Z"
    },
    "papermill": {
     "duration": 0.027168,
     "end_time": "2021-04-04T22:21:42.515072",
     "exception": false,
     "start_time": "2021-04-04T22:21:42.487904",
     "status": "completed"
    },
    "tags": []
   },
   "outputs": [],
   "source": [
    "working_df = df.copy()"
   ]
  },
  {
   "cell_type": "code",
   "execution_count": 11,
   "id": "3b26d675",
   "metadata": {
    "execution": {
     "iopub.execute_input": "2021-04-04T22:21:42.566105Z",
     "iopub.status.busy": "2021-04-04T22:21:42.565175Z",
     "iopub.status.idle": "2021-04-04T22:21:42.568966Z",
     "shell.execute_reply": "2021-04-04T22:21:42.568430Z"
    },
    "papermill": {
     "duration": 0.031439,
     "end_time": "2021-04-04T22:21:42.569091",
     "exception": false,
     "start_time": "2021-04-04T22:21:42.537652",
     "status": "completed"
    },
    "tags": []
   },
   "outputs": [],
   "source": [
    "working_df['defects'] = working_df['defects'].replace([False, True], [0, 1])"
   ]
  },
  {
   "cell_type": "code",
   "execution_count": 12,
   "id": "5f306c3e",
   "metadata": {
    "execution": {
     "iopub.execute_input": "2021-04-04T22:21:42.617273Z",
     "iopub.status.busy": "2021-04-04T22:21:42.616414Z",
     "iopub.status.idle": "2021-04-04T22:21:42.619173Z",
     "shell.execute_reply": "2021-04-04T22:21:42.618543Z"
    },
    "papermill": {
     "duration": 0.027426,
     "end_time": "2021-04-04T22:21:42.619299",
     "exception": false,
     "start_time": "2021-04-04T22:21:42.591873",
     "status": "completed"
    },
    "tags": []
   },
   "outputs": [],
   "source": [
    "for col in dataset_config['delete_columns']:\n",
    "    del working_df[col]"
   ]
  },
  {
   "cell_type": "code",
   "execution_count": 13,
   "id": "a55074fa",
   "metadata": {
    "execution": {
     "iopub.execute_input": "2021-04-04T22:21:42.672705Z",
     "iopub.status.busy": "2021-04-04T22:21:42.671556Z",
     "iopub.status.idle": "2021-04-04T22:21:42.682052Z",
     "shell.execute_reply": "2021-04-04T22:21:42.681361Z"
    },
    "papermill": {
     "duration": 0.038396,
     "end_time": "2021-04-04T22:21:42.682189",
     "exception": false,
     "start_time": "2021-04-04T22:21:42.643793",
     "status": "completed"
    },
    "tags": []
   },
   "outputs": [],
   "source": [
    "working_df = working_df.drop_duplicates()"
   ]
  },
  {
   "cell_type": "markdown",
   "id": "a4d52ca6",
   "metadata": {
    "papermill": {
     "duration": 0.021303,
     "end_time": "2021-04-04T22:21:42.728055",
     "exception": false,
     "start_time": "2021-04-04T22:21:42.706752",
     "status": "completed"
    },
    "tags": []
   },
   "source": [
    "# Split"
   ]
  },
  {
   "cell_type": "code",
   "execution_count": 14,
   "id": "3e9ee4b5",
   "metadata": {
    "execution": {
     "iopub.execute_input": "2021-04-04T22:21:42.791634Z",
     "iopub.status.busy": "2021-04-04T22:21:42.790700Z",
     "iopub.status.idle": "2021-04-04T22:21:42.823394Z",
     "shell.execute_reply": "2021-04-04T22:21:42.824175Z"
    },
    "papermill": {
     "duration": 0.062087,
     "end_time": "2021-04-04T22:21:42.824400",
     "exception": false,
     "start_time": "2021-04-04T22:21:42.762313",
     "status": "completed"
    },
    "tags": []
   },
   "outputs": [],
   "source": [
    "from sklearn.model_selection import train_test_split"
   ]
  },
  {
   "cell_type": "code",
   "execution_count": 15,
   "id": "274004ce",
   "metadata": {
    "execution": {
     "iopub.execute_input": "2021-04-04T22:21:42.878943Z",
     "iopub.status.busy": "2021-04-04T22:21:42.878316Z",
     "iopub.status.idle": "2021-04-04T22:21:42.884614Z",
     "shell.execute_reply": "2021-04-04T22:21:42.885076Z"
    },
    "papermill": {
     "duration": 0.033381,
     "end_time": "2021-04-04T22:21:42.885229",
     "exception": false,
     "start_time": "2021-04-04T22:21:42.851848",
     "status": "completed"
    },
    "scrolled": true,
    "tags": []
   },
   "outputs": [],
   "source": [
    "inlier, outlier = working_df[working_df['defects'] == 0], working_df[working_df['defects'] == 1]"
   ]
  },
  {
   "cell_type": "code",
   "execution_count": 16,
   "id": "753c7b03",
   "metadata": {
    "execution": {
     "iopub.execute_input": "2021-04-04T22:21:42.942643Z",
     "iopub.status.busy": "2021-04-04T22:21:42.941986Z",
     "iopub.status.idle": "2021-04-04T22:21:42.947310Z",
     "shell.execute_reply": "2021-04-04T22:21:42.947793Z"
    },
    "papermill": {
     "duration": 0.03415,
     "end_time": "2021-04-04T22:21:42.947941",
     "exception": false,
     "start_time": "2021-04-04T22:21:42.913791",
     "status": "completed"
    },
    "tags": []
   },
   "outputs": [],
   "source": [
    "X_inlier = inlier.copy()\n",
    "y_inlier = X_inlier.pop('defects')\n",
    "X_outlier = outlier.copy()\n",
    "y_outlier = X_outlier.pop('defects')"
   ]
  },
  {
   "cell_type": "code",
   "execution_count": 17,
   "id": "2ba43193",
   "metadata": {
    "execution": {
     "iopub.execute_input": "2021-04-04T22:21:43.003742Z",
     "iopub.status.busy": "2021-04-04T22:21:43.003133Z",
     "iopub.status.idle": "2021-04-04T22:21:43.007078Z",
     "shell.execute_reply": "2021-04-04T22:21:43.007908Z"
    },
    "papermill": {
     "duration": 0.036056,
     "end_time": "2021-04-04T22:21:43.008141",
     "exception": false,
     "start_time": "2021-04-04T22:21:42.972085",
     "status": "completed"
    },
    "tags": []
   },
   "outputs": [],
   "source": [
    "test_size = dataset_config['test_size']\n",
    "random_state = dataset_config['random_state']\n",
    "\n",
    "X_inlier_train, X_inlier_test, y_inlier_train, y_inlier_test = train_test_split(\n",
    "    X_inlier,\n",
    "    y_inlier,\n",
    "    test_size=test_size,\n",
    "    random_state=random_state\n",
    ")"
   ]
  },
  {
   "cell_type": "code",
   "execution_count": 18,
   "id": "c8b58ec3",
   "metadata": {
    "execution": {
     "iopub.execute_input": "2021-04-04T22:21:43.070924Z",
     "iopub.status.busy": "2021-04-04T22:21:43.070069Z",
     "iopub.status.idle": "2021-04-04T22:21:43.072794Z",
     "shell.execute_reply": "2021-04-04T22:21:43.073466Z"
    },
    "papermill": {
     "duration": 0.038004,
     "end_time": "2021-04-04T22:21:43.073663",
     "exception": false,
     "start_time": "2021-04-04T22:21:43.035659",
     "status": "completed"
    },
    "tags": []
   },
   "outputs": [],
   "source": [
    "test_outlier_size = dataset_config['test_outlier_size']\n",
    "if test_outlier_size > 0.0:\n",
    "    X_outlier_train, X_outlier_test, y_outlier_train, y_outlier_test = train_test_split(\n",
    "        X_outlier,\n",
    "        y_outlier,\n",
    "        test_size=test_outlier_size,\n",
    "        random_state=random_state\n",
    "    )\n",
    "else:\n",
    "    X_outlier_train, y_outlier_train = pd.DataFrame(columns=X_outlier.columns), pd.Series(dtype='int64')\n",
    "    X_outlier_test, y_outlier_test = X_outlier.copy(), y_outlier.copy()"
   ]
  },
  {
   "cell_type": "code",
   "execution_count": 19,
   "id": "95991685",
   "metadata": {
    "execution": {
     "iopub.execute_input": "2021-04-04T22:21:43.134474Z",
     "iopub.status.busy": "2021-04-04T22:21:43.133745Z",
     "iopub.status.idle": "2021-04-04T22:21:43.135886Z",
     "shell.execute_reply": "2021-04-04T22:21:43.136731Z"
    },
    "papermill": {
     "duration": 0.037318,
     "end_time": "2021-04-04T22:21:43.136941",
     "exception": false,
     "start_time": "2021-04-04T22:21:43.099623",
     "status": "completed"
    },
    "tags": []
   },
   "outputs": [],
   "source": [
    "X_train, y_train = pd.concat([X_inlier_train, X_outlier_train], ignore_index=True), pd.concat([y_inlier_train, y_outlier_train], ignore_index=True)\n",
    "X_test, y_test = pd.concat([X_inlier_test, X_outlier_test], ignore_index=True), pd.concat([y_inlier_test, y_outlier_test], ignore_index=True)"
   ]
  },
  {
   "cell_type": "markdown",
   "id": "7cde7309",
   "metadata": {
    "papermill": {
     "duration": 0.023098,
     "end_time": "2021-04-04T22:21:43.185610",
     "exception": false,
     "start_time": "2021-04-04T22:21:43.162512",
     "status": "completed"
    },
    "tags": []
   },
   "source": [
    "# Model"
   ]
  },
  {
   "cell_type": "code",
   "execution_count": 20,
   "id": "a02c5c85",
   "metadata": {
    "execution": {
     "iopub.execute_input": "2021-04-04T22:21:43.242380Z",
     "iopub.status.busy": "2021-04-04T22:21:43.241768Z",
     "iopub.status.idle": "2021-04-04T22:21:43.244320Z",
     "shell.execute_reply": "2021-04-04T22:21:43.244799Z"
    },
    "papermill": {
     "duration": 0.037386,
     "end_time": "2021-04-04T22:21:43.244946",
     "exception": false,
     "start_time": "2021-04-04T22:21:43.207560",
     "status": "completed"
    },
    "tags": []
   },
   "outputs": [],
   "source": [
    "from math import sqrt\n",
    "\n",
    "\n",
    "class KNNDataDescription:\n",
    "    def __init__(self, k=5, outlier_threshold=1.0):\n",
    "        self.k = k\n",
    "        self.outlier_threshold = outlier_threshold\n",
    "        self.X = []\n",
    "    \n",
    "    def fit(self, X):\n",
    "        self.X = [features.to_list() for index, features in X.iterrows()]\n",
    "\n",
    "    def predict(self, entries):\n",
    "        return [self.predict_entry(features.to_list()) for index, features in entries.iterrows()]\n",
    "    \n",
    "    def predict_entry(self, entry):\n",
    "        kth_neighbor, kth_distance = self.get_kth_neighbor(entry, self.k)\n",
    "        kth_kth_neighbor, kth_kth_distance = self.get_kth_neighbor(kth_neighbor, self.k + 1)\n",
    "\n",
    "        outlier_score = kth_distance / (kth_kth_distance + 0.000001)\n",
    "\n",
    "        return 1 if outlier_score < self.outlier_threshold else -1\n",
    "        \n",
    "    def euclidean_distance(self, features1, features2):\n",
    "        distance = 0.0\n",
    "        for feat1, feat2 in zip(features1, features2):\n",
    "            distance += (feat1 - feat2)**2\n",
    "                \n",
    "        return sqrt(distance)\n",
    "\n",
    "    def get_neighbors(self, entry, k):\n",
    "        distance_to_data_points = [\n",
    "            (data_point, self.euclidean_distance(entry, data_point))\n",
    "            for data_point in self.X\n",
    "        ]\n",
    "        sorted_by_distance = sorted(distance_to_data_points, key=lambda tup: tup[1])\n",
    "        neighbors = sorted_by_distance[:k]\n",
    "        return neighbors\n",
    "\n",
    "    def get_kth_neighbor(self, entry, k):\n",
    "        neighbors = self.get_neighbors(entry, k)\n",
    "        return neighbors[-1]\n"
   ]
  },
  {
   "cell_type": "code",
   "execution_count": 21,
   "id": "1fa9ec1c",
   "metadata": {
    "execution": {
     "iopub.execute_input": "2021-04-04T22:21:43.297845Z",
     "iopub.status.busy": "2021-04-04T22:21:43.296722Z",
     "iopub.status.idle": "2021-04-04T22:21:43.325438Z",
     "shell.execute_reply": "2021-04-04T22:21:43.326501Z"
    },
    "papermill": {
     "duration": 0.058595,
     "end_time": "2021-04-04T22:21:43.326874",
     "exception": false,
     "start_time": "2021-04-04T22:21:43.268279",
     "status": "completed"
    },
    "tags": []
   },
   "outputs": [],
   "source": [
    "from sklearn.svm import OneClassSVM\n",
    "\n",
    "\n",
    "models = {\n",
    "    'oneclasssvm': OneClassSVM,\n",
    "    'knndatadescription': KNNDataDescription,\n",
    "}"
   ]
  },
  {
   "cell_type": "code",
   "execution_count": 22,
   "id": "4d72a0b1",
   "metadata": {
    "execution": {
     "iopub.execute_input": "2021-04-04T22:21:43.393929Z",
     "iopub.status.busy": "2021-04-04T22:21:43.393338Z",
     "iopub.status.idle": "2021-04-04T22:21:43.395294Z",
     "shell.execute_reply": "2021-04-04T22:21:43.395746Z"
    },
    "papermill": {
     "duration": 0.030384,
     "end_time": "2021-04-04T22:21:43.395884",
     "exception": false,
     "start_time": "2021-04-04T22:21:43.365500",
     "status": "completed"
    },
    "scrolled": true,
    "tags": []
   },
   "outputs": [],
   "source": [
    "model_cls = models[model_config['model_type']]\n",
    "model = model_cls(**model_config['hyperparameters'])"
   ]
  },
  {
   "cell_type": "markdown",
   "id": "e00cff3b",
   "metadata": {
    "papermill": {
     "duration": 0.02482,
     "end_time": "2021-04-04T22:21:43.443304",
     "exception": false,
     "start_time": "2021-04-04T22:21:43.418484",
     "status": "completed"
    },
    "tags": []
   },
   "source": [
    "# Fit"
   ]
  },
  {
   "cell_type": "code",
   "execution_count": 23,
   "id": "8b2ded89",
   "metadata": {
    "execution": {
     "iopub.execute_input": "2021-04-04T22:21:43.493833Z",
     "iopub.status.busy": "2021-04-04T22:21:43.492853Z",
     "iopub.status.idle": "2021-04-04T22:21:43.544154Z",
     "shell.execute_reply": "2021-04-04T22:21:43.543512Z"
    },
    "papermill": {
     "duration": 0.077616,
     "end_time": "2021-04-04T22:21:43.544281",
     "exception": false,
     "start_time": "2021-04-04T22:21:43.466665",
     "status": "completed"
    },
    "tags": []
   },
   "outputs": [],
   "source": [
    "model.fit(X_train)"
   ]
  },
  {
   "cell_type": "markdown",
   "id": "f99999f7",
   "metadata": {
    "papermill": {
     "duration": 0.023952,
     "end_time": "2021-04-04T22:21:43.593777",
     "exception": false,
     "start_time": "2021-04-04T22:21:43.569825",
     "status": "completed"
    },
    "tags": []
   },
   "source": [
    "# Predict"
   ]
  },
  {
   "cell_type": "code",
   "execution_count": 24,
   "id": "6536fbf7",
   "metadata": {
    "execution": {
     "iopub.execute_input": "2021-04-04T22:21:43.645422Z",
     "iopub.status.busy": "2021-04-04T22:21:43.644374Z",
     "iopub.status.idle": "2021-04-04T22:21:46.440377Z",
     "shell.execute_reply": "2021-04-04T22:21:46.439501Z"
    },
    "papermill": {
     "duration": 2.823997,
     "end_time": "2021-04-04T22:21:46.440544",
     "exception": false,
     "start_time": "2021-04-04T22:21:43.616547",
     "status": "completed"
    },
    "tags": []
   },
   "outputs": [],
   "source": [
    "predictions = model.predict(X_test)"
   ]
  },
  {
   "cell_type": "markdown",
   "id": "aa1c9881",
   "metadata": {
    "papermill": {
     "duration": 0.024371,
     "end_time": "2021-04-04T22:21:46.494082",
     "exception": false,
     "start_time": "2021-04-04T22:21:46.469711",
     "status": "completed"
    },
    "tags": []
   },
   "source": [
    "# Evaluate"
   ]
  },
  {
   "cell_type": "code",
   "execution_count": 25,
   "id": "894f0f04",
   "metadata": {
    "execution": {
     "iopub.execute_input": "2021-04-04T22:21:46.544833Z",
     "iopub.status.busy": "2021-04-04T22:21:46.544106Z",
     "iopub.status.idle": "2021-04-04T22:21:46.546388Z",
     "shell.execute_reply": "2021-04-04T22:21:46.545809Z"
    },
    "papermill": {
     "duration": 0.028727,
     "end_time": "2021-04-04T22:21:46.546506",
     "exception": false,
     "start_time": "2021-04-04T22:21:46.517779",
     "status": "completed"
    },
    "tags": []
   },
   "outputs": [],
   "source": [
    "from sklearn.metrics import f1_score"
   ]
  },
  {
   "cell_type": "code",
   "execution_count": 26,
   "id": "211744d3",
   "metadata": {
    "execution": {
     "iopub.execute_input": "2021-04-04T22:21:46.600960Z",
     "iopub.status.busy": "2021-04-04T22:21:46.600083Z",
     "iopub.status.idle": "2021-04-04T22:21:46.603146Z",
     "shell.execute_reply": "2021-04-04T22:21:46.602510Z"
    },
    "papermill": {
     "duration": 0.03334,
     "end_time": "2021-04-04T22:21:46.603273",
     "exception": false,
     "start_time": "2021-04-04T22:21:46.569933",
     "status": "completed"
    },
    "tags": []
   },
   "outputs": [],
   "source": [
    "y_test = y_test.replace([0, 1], [1, -1])"
   ]
  },
  {
   "cell_type": "code",
   "execution_count": 27,
   "id": "d68a9204",
   "metadata": {
    "execution": {
     "iopub.execute_input": "2021-04-04T22:21:46.661630Z",
     "iopub.status.busy": "2021-04-04T22:21:46.660650Z",
     "iopub.status.idle": "2021-04-04T22:21:46.663471Z",
     "shell.execute_reply": "2021-04-04T22:21:46.662821Z"
    },
    "papermill": {
     "duration": 0.035764,
     "end_time": "2021-04-04T22:21:46.663619",
     "exception": false,
     "start_time": "2021-04-04T22:21:46.627855",
     "status": "completed"
    },
    "tags": []
   },
   "outputs": [],
   "source": [
    "def evaluate(truths, predictions, pos_label, neg_label):\n",
    "    TP = 0\n",
    "    FP = 0\n",
    "    TN = 0\n",
    "    FN = 0\n",
    "\n",
    "    for truth, pred in zip(truths, predictions): \n",
    "        if truth == pred == pos_label:\n",
    "           TP += 1\n",
    "        elif pred == pos_label and truth == neg_label:\n",
    "           FP += 1\n",
    "        elif truth == pred == neg_label:\n",
    "           TN += 1\n",
    "        elif pred == neg_label and truth == pos_label:\n",
    "           FN += 1\n",
    "        else:\n",
    "            __import__(\"ipdb\").set_trace()\n",
    "\n",
    "    precision = TP / (TP + FP)\n",
    "    sensitivity = TP / (TP + FN)\n",
    "    \n",
    "    return {\n",
    "        'true_pos': TP,\n",
    "        'false_pos': FP,\n",
    "        'false_neg': FN,\n",
    "        'true_neg': TN,\n",
    "        'precision': precision,\n",
    "        'sensitivity': sensitivity,\n",
    "        'f1': (2 * (precision * sensitivity)) / (precision + sensitivity)\n",
    "    }\n",
    "\n",
    "score = evaluate(y_test, predictions, pos_label=-1, neg_label=1)"
   ]
  },
  {
   "cell_type": "markdown",
   "id": "246fa8c7",
   "metadata": {
    "papermill": {
     "duration": 0.024369,
     "end_time": "2021-04-04T22:21:46.714448",
     "exception": false,
     "start_time": "2021-04-04T22:21:46.690079",
     "status": "completed"
    },
    "tags": []
   },
   "source": [
    "# Report"
   ]
  },
  {
   "cell_type": "code",
   "execution_count": 28,
   "id": "cfb47f85",
   "metadata": {
    "execution": {
     "iopub.execute_input": "2021-04-04T22:21:46.779691Z",
     "iopub.status.busy": "2021-04-04T22:21:46.778951Z",
     "iopub.status.idle": "2021-04-04T22:21:46.782613Z",
     "shell.execute_reply": "2021-04-04T22:21:46.783407Z"
    },
    "papermill": {
     "duration": 0.046021,
     "end_time": "2021-04-04T22:21:46.783626",
     "exception": false,
     "start_time": "2021-04-04T22:21:46.737605",
     "status": "completed"
    },
    "tags": []
   },
   "outputs": [],
   "source": [
    "import csv\n",
    "\n",
    "\n",
    "dataset_config_name = DATASET_CONFIG_PATH.split('/')[-1].split('.')[0]\n",
    "model_config_name = MODEL_CONFIG_PATH.split('/')[-1].split('.')[0]\n",
    "configuration = f\"dataset_{dataset_config_name}-model_{model_config_name}\"\n",
    "\n",
    "with open('results.csv', 'a') as f:\n",
    "    report = dict({'configuration': configuration}, **score)\n",
    "    writer = csv.DictWriter(f, report.keys())\n",
    "    writer.writerow(report)"
   ]
  }
 ],
 "metadata": {
  "celltoolbar": "Tags",
  "kernelspec": {
   "display_name": "Python 3",
   "language": "python",
   "name": "python3"
  },
  "language_info": {
   "codemirror_mode": {
    "name": "ipython",
    "version": 3
   },
   "file_extension": ".py",
   "mimetype": "text/x-python",
   "name": "python",
   "nbconvert_exporter": "python",
   "pygments_lexer": "ipython3",
   "version": "3.9.1"
  },
  "papermill": {
   "default_parameters": {},
   "duration": 7.695645,
   "end_time": "2021-04-04T22:21:47.422359",
   "environment_variables": {},
   "exception": null,
   "input_path": "main.ipynb",
   "output_path": "runs/dataset_000001-model_000003.ipynb",
   "parameters": {
    "DATASET_CONFIG_PATH": "config/dataset/000001.json",
    "MODEL_CONFIG_PATH": "config/model/000003.json",
    "PROFILE_REPORTING": false
   },
   "start_time": "2021-04-04T22:21:39.726714",
   "version": "2.3.3"
  }
 },
 "nbformat": 4,
 "nbformat_minor": 5
}