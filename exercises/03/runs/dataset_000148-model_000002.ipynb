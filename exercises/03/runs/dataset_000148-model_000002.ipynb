{
 "cells": [
  {
   "cell_type": "markdown",
   "id": "51c71c25",
   "metadata": {
    "papermill": {
     "duration": 0.033417,
     "end_time": "2021-04-04T23:32:48.372726",
     "exception": false,
     "start_time": "2021-04-04T23:32:48.339309",
     "status": "completed"
    },
    "tags": []
   },
   "source": [
    "# Parametrizing"
   ]
  },
  {
   "cell_type": "code",
   "execution_count": 1,
   "id": "3b136394",
   "metadata": {
    "execution": {
     "iopub.execute_input": "2021-04-04T23:32:48.437323Z",
     "iopub.status.busy": "2021-04-04T23:32:48.434363Z",
     "iopub.status.idle": "2021-04-04T23:32:48.440754Z",
     "shell.execute_reply": "2021-04-04T23:32:48.441501Z"
    },
    "papermill": {
     "duration": 0.047558,
     "end_time": "2021-04-04T23:32:48.441891",
     "exception": false,
     "start_time": "2021-04-04T23:32:48.394333",
     "status": "completed"
    },
    "tags": [
     "parameters"
    ]
   },
   "outputs": [],
   "source": [
    "DATASET_CONFIG_PATH = 'config/dataset/kc1_001.json'\n",
    "MODEL_CONFIG_PATH = 'config/model/knndd_001.json'\n",
    "PROFILE_REPORTING = False"
   ]
  },
  {
   "cell_type": "code",
   "execution_count": 2,
   "id": "22e15d2c",
   "metadata": {
    "execution": {
     "iopub.execute_input": "2021-04-04T23:32:48.507506Z",
     "iopub.status.busy": "2021-04-04T23:32:48.505510Z",
     "iopub.status.idle": "2021-04-04T23:32:48.511040Z",
     "shell.execute_reply": "2021-04-04T23:32:48.511594Z"
    },
    "papermill": {
     "duration": 0.043494,
     "end_time": "2021-04-04T23:32:48.511784",
     "exception": false,
     "start_time": "2021-04-04T23:32:48.468290",
     "status": "completed"
    },
    "tags": [
     "injected-parameters"
    ]
   },
   "outputs": [],
   "source": [
    "# Parameters\n",
    "DATASET_CONFIG_PATH = \"config/dataset/000148.json\"\n",
    "MODEL_CONFIG_PATH = \"config/model/000002.json\"\n",
    "PROFILE_REPORTING = False\n"
   ]
  },
  {
   "cell_type": "code",
   "execution_count": 3,
   "id": "b80f2a10",
   "metadata": {
    "execution": {
     "iopub.execute_input": "2021-04-04T23:32:48.564618Z",
     "iopub.status.busy": "2021-04-04T23:32:48.562596Z",
     "iopub.status.idle": "2021-04-04T23:32:48.567453Z",
     "shell.execute_reply": "2021-04-04T23:32:48.568059Z"
    },
    "papermill": {
     "duration": 0.034222,
     "end_time": "2021-04-04T23:32:48.568298",
     "exception": false,
     "start_time": "2021-04-04T23:32:48.534076",
     "status": "completed"
    },
    "tags": []
   },
   "outputs": [],
   "source": [
    "import json\n",
    "\n",
    "\n",
    "with open(DATASET_CONFIG_PATH) as f:\n",
    "    dataset_config = json.load(f)\n",
    "\n",
    "with open(MODEL_CONFIG_PATH) as f:\n",
    "    model_config = json.load(f)"
   ]
  },
  {
   "cell_type": "markdown",
   "id": "9a4b0e2d",
   "metadata": {
    "papermill": {
     "duration": 0.019994,
     "end_time": "2021-04-04T23:32:48.610197",
     "exception": false,
     "start_time": "2021-04-04T23:32:48.590203",
     "status": "completed"
    },
    "tags": []
   },
   "source": [
    "# Profiling"
   ]
  },
  {
   "cell_type": "code",
   "execution_count": 4,
   "id": "a3e0289b",
   "metadata": {
    "execution": {
     "iopub.execute_input": "2021-04-04T23:32:48.656512Z",
     "iopub.status.busy": "2021-04-04T23:32:48.655742Z",
     "iopub.status.idle": "2021-04-04T23:32:50.290221Z",
     "shell.execute_reply": "2021-04-04T23:32:50.289575Z"
    },
    "papermill": {
     "duration": 1.657642,
     "end_time": "2021-04-04T23:32:50.290348",
     "exception": false,
     "start_time": "2021-04-04T23:32:48.632706",
     "status": "completed"
    },
    "tags": []
   },
   "outputs": [],
   "source": [
    "import pandas as pd\n",
    "from pandas_profiling import ProfileReport"
   ]
  },
  {
   "cell_type": "code",
   "execution_count": 5,
   "id": "ee6c0666",
   "metadata": {
    "execution": {
     "iopub.execute_input": "2021-04-04T23:32:50.348775Z",
     "iopub.status.busy": "2021-04-04T23:32:50.347243Z",
     "iopub.status.idle": "2021-04-04T23:32:50.362096Z",
     "shell.execute_reply": "2021-04-04T23:32:50.363678Z"
    },
    "papermill": {
     "duration": 0.050801,
     "end_time": "2021-04-04T23:32:50.364233",
     "exception": false,
     "start_time": "2021-04-04T23:32:50.313432",
     "status": "completed"
    },
    "tags": []
   },
   "outputs": [],
   "source": [
    "df = pd.read_csv(dataset_config['dataset_path'])"
   ]
  },
  {
   "cell_type": "code",
   "execution_count": 6,
   "id": "7eca6c4a",
   "metadata": {
    "execution": {
     "iopub.execute_input": "2021-04-04T23:32:50.420115Z",
     "iopub.status.busy": "2021-04-04T23:32:50.419480Z",
     "iopub.status.idle": "2021-04-04T23:32:50.435578Z",
     "shell.execute_reply": "2021-04-04T23:32:50.435049Z"
    },
    "papermill": {
     "duration": 0.044404,
     "end_time": "2021-04-04T23:32:50.435697",
     "exception": false,
     "start_time": "2021-04-04T23:32:50.391293",
     "status": "completed"
    },
    "tags": []
   },
   "outputs": [
    {
     "name": "stdout",
     "output_type": "stream",
     "text": [
      "<class 'pandas.core.frame.DataFrame'>\n",
      "RangeIndex: 498 entries, 0 to 497\n",
      "Data columns (total 23 columns):\n",
      " #   Column             Non-Null Count  Dtype  \n",
      "---  ------             --------------  -----  \n",
      " 0   id                 498 non-null    int64  \n",
      " 1   loc                498 non-null    float64\n",
      " 2   v(g)               498 non-null    float64\n",
      " 3   ev(g)              498 non-null    float64\n",
      " 4   iv(g)              498 non-null    float64\n",
      " 5   n                  498 non-null    float64\n",
      " 6   v                  498 non-null    float64\n",
      " 7   l                  498 non-null    float64\n",
      " 8   d                  498 non-null    float64\n",
      " 9   i                  498 non-null    float64\n",
      " 10  e                  498 non-null    float64\n",
      " 11  b                  498 non-null    float64\n",
      " 12  t                  498 non-null    float64\n",
      " 13  lOCode             498 non-null    int64  \n",
      " 14  lOComment          498 non-null    int64  \n",
      " 15  lOBlank            498 non-null    int64  \n",
      " 16  locCodeAndComment  498 non-null    int64  \n",
      " 17  uniq_Op            498 non-null    float64\n",
      " 18  uniq_Opnd          498 non-null    float64\n",
      " 19  total_Op           498 non-null    float64\n",
      " 20  total_Opnd         498 non-null    float64\n",
      " 21  branchCount        498 non-null    float64\n",
      " 22  defects            498 non-null    bool   \n",
      "dtypes: bool(1), float64(17), int64(5)\n",
      "memory usage: 86.2 KB\n"
     ]
    }
   ],
   "source": [
    "df.info()"
   ]
  },
  {
   "cell_type": "code",
   "execution_count": 7,
   "id": "3638e5e8",
   "metadata": {
    "execution": {
     "iopub.execute_input": "2021-04-04T23:32:50.494827Z",
     "iopub.status.busy": "2021-04-04T23:32:50.494056Z",
     "iopub.status.idle": "2021-04-04T23:32:50.519995Z",
     "shell.execute_reply": "2021-04-04T23:32:50.520497Z"
    },
    "papermill": {
     "duration": 0.062251,
     "end_time": "2021-04-04T23:32:50.520645",
     "exception": false,
     "start_time": "2021-04-04T23:32:50.458394",
     "status": "completed"
    },
    "tags": []
   },
   "outputs": [
    {
     "data": {
      "text/html": [
       "<div>\n",
       "<style scoped>\n",
       "    .dataframe tbody tr th:only-of-type {\n",
       "        vertical-align: middle;\n",
       "    }\n",
       "\n",
       "    .dataframe tbody tr th {\n",
       "        vertical-align: top;\n",
       "    }\n",
       "\n",
       "    .dataframe thead th {\n",
       "        text-align: right;\n",
       "    }\n",
       "</style>\n",
       "<table border=\"1\" class=\"dataframe\">\n",
       "  <thead>\n",
       "    <tr style=\"text-align: right;\">\n",
       "      <th></th>\n",
       "      <th>id</th>\n",
       "      <th>loc</th>\n",
       "      <th>v(g)</th>\n",
       "      <th>ev(g)</th>\n",
       "      <th>iv(g)</th>\n",
       "      <th>n</th>\n",
       "      <th>v</th>\n",
       "      <th>l</th>\n",
       "      <th>d</th>\n",
       "      <th>i</th>\n",
       "      <th>...</th>\n",
       "      <th>lOCode</th>\n",
       "      <th>lOComment</th>\n",
       "      <th>lOBlank</th>\n",
       "      <th>locCodeAndComment</th>\n",
       "      <th>uniq_Op</th>\n",
       "      <th>uniq_Opnd</th>\n",
       "      <th>total_Op</th>\n",
       "      <th>total_Opnd</th>\n",
       "      <th>branchCount</th>\n",
       "      <th>defects</th>\n",
       "    </tr>\n",
       "  </thead>\n",
       "  <tbody>\n",
       "    <tr>\n",
       "      <th>0</th>\n",
       "      <td>1</td>\n",
       "      <td>1.1</td>\n",
       "      <td>1.4</td>\n",
       "      <td>1.4</td>\n",
       "      <td>1.4</td>\n",
       "      <td>1.3</td>\n",
       "      <td>1.30</td>\n",
       "      <td>1.30</td>\n",
       "      <td>1.30</td>\n",
       "      <td>1.30</td>\n",
       "      <td>...</td>\n",
       "      <td>2</td>\n",
       "      <td>2</td>\n",
       "      <td>2</td>\n",
       "      <td>2</td>\n",
       "      <td>1.2</td>\n",
       "      <td>1.2</td>\n",
       "      <td>1.2</td>\n",
       "      <td>1.2</td>\n",
       "      <td>1.4</td>\n",
       "      <td>False</td>\n",
       "    </tr>\n",
       "    <tr>\n",
       "      <th>1</th>\n",
       "      <td>2</td>\n",
       "      <td>1.0</td>\n",
       "      <td>1.0</td>\n",
       "      <td>1.0</td>\n",
       "      <td>1.0</td>\n",
       "      <td>1.0</td>\n",
       "      <td>1.00</td>\n",
       "      <td>1.00</td>\n",
       "      <td>1.00</td>\n",
       "      <td>1.00</td>\n",
       "      <td>...</td>\n",
       "      <td>1</td>\n",
       "      <td>1</td>\n",
       "      <td>1</td>\n",
       "      <td>1</td>\n",
       "      <td>1.0</td>\n",
       "      <td>1.0</td>\n",
       "      <td>1.0</td>\n",
       "      <td>1.0</td>\n",
       "      <td>1.0</td>\n",
       "      <td>True</td>\n",
       "    </tr>\n",
       "    <tr>\n",
       "      <th>2</th>\n",
       "      <td>3</td>\n",
       "      <td>24.0</td>\n",
       "      <td>5.0</td>\n",
       "      <td>1.0</td>\n",
       "      <td>3.0</td>\n",
       "      <td>63.0</td>\n",
       "      <td>309.13</td>\n",
       "      <td>0.11</td>\n",
       "      <td>9.50</td>\n",
       "      <td>32.54</td>\n",
       "      <td>...</td>\n",
       "      <td>1</td>\n",
       "      <td>0</td>\n",
       "      <td>6</td>\n",
       "      <td>0</td>\n",
       "      <td>15.0</td>\n",
       "      <td>15.0</td>\n",
       "      <td>44.0</td>\n",
       "      <td>19.0</td>\n",
       "      <td>9.0</td>\n",
       "      <td>False</td>\n",
       "    </tr>\n",
       "    <tr>\n",
       "      <th>3</th>\n",
       "      <td>4</td>\n",
       "      <td>20.0</td>\n",
       "      <td>4.0</td>\n",
       "      <td>4.0</td>\n",
       "      <td>2.0</td>\n",
       "      <td>47.0</td>\n",
       "      <td>215.49</td>\n",
       "      <td>0.06</td>\n",
       "      <td>16.00</td>\n",
       "      <td>13.47</td>\n",
       "      <td>...</td>\n",
       "      <td>0</td>\n",
       "      <td>0</td>\n",
       "      <td>3</td>\n",
       "      <td>0</td>\n",
       "      <td>16.0</td>\n",
       "      <td>8.0</td>\n",
       "      <td>31.0</td>\n",
       "      <td>16.0</td>\n",
       "      <td>7.0</td>\n",
       "      <td>False</td>\n",
       "    </tr>\n",
       "    <tr>\n",
       "      <th>4</th>\n",
       "      <td>5</td>\n",
       "      <td>24.0</td>\n",
       "      <td>6.0</td>\n",
       "      <td>6.0</td>\n",
       "      <td>2.0</td>\n",
       "      <td>72.0</td>\n",
       "      <td>346.13</td>\n",
       "      <td>0.06</td>\n",
       "      <td>17.33</td>\n",
       "      <td>19.97</td>\n",
       "      <td>...</td>\n",
       "      <td>0</td>\n",
       "      <td>0</td>\n",
       "      <td>3</td>\n",
       "      <td>0</td>\n",
       "      <td>16.0</td>\n",
       "      <td>12.0</td>\n",
       "      <td>46.0</td>\n",
       "      <td>26.0</td>\n",
       "      <td>11.0</td>\n",
       "      <td>False</td>\n",
       "    </tr>\n",
       "  </tbody>\n",
       "</table>\n",
       "<p>5 rows × 23 columns</p>\n",
       "</div>"
      ],
      "text/plain": [
       "   id   loc  v(g)  ev(g)  iv(g)     n       v     l      d      i  ...  \\\n",
       "0   1   1.1   1.4    1.4    1.4   1.3    1.30  1.30   1.30   1.30  ...   \n",
       "1   2   1.0   1.0    1.0    1.0   1.0    1.00  1.00   1.00   1.00  ...   \n",
       "2   3  24.0   5.0    1.0    3.0  63.0  309.13  0.11   9.50  32.54  ...   \n",
       "3   4  20.0   4.0    4.0    2.0  47.0  215.49  0.06  16.00  13.47  ...   \n",
       "4   5  24.0   6.0    6.0    2.0  72.0  346.13  0.06  17.33  19.97  ...   \n",
       "\n",
       "   lOCode  lOComment  lOBlank  locCodeAndComment  uniq_Op  uniq_Opnd  \\\n",
       "0       2          2        2                  2      1.2        1.2   \n",
       "1       1          1        1                  1      1.0        1.0   \n",
       "2       1          0        6                  0     15.0       15.0   \n",
       "3       0          0        3                  0     16.0        8.0   \n",
       "4       0          0        3                  0     16.0       12.0   \n",
       "\n",
       "   total_Op  total_Opnd  branchCount  defects  \n",
       "0       1.2         1.2          1.4    False  \n",
       "1       1.0         1.0          1.0     True  \n",
       "2      44.0        19.0          9.0    False  \n",
       "3      31.0        16.0          7.0    False  \n",
       "4      46.0        26.0         11.0    False  \n",
       "\n",
       "[5 rows x 23 columns]"
      ]
     },
     "execution_count": 7,
     "metadata": {},
     "output_type": "execute_result"
    }
   ],
   "source": [
    "df.head()"
   ]
  },
  {
   "cell_type": "code",
   "execution_count": 8,
   "id": "733e95eb",
   "metadata": {
    "execution": {
     "iopub.execute_input": "2021-04-04T23:32:50.600965Z",
     "iopub.status.busy": "2021-04-04T23:32:50.600051Z",
     "iopub.status.idle": "2021-04-04T23:32:50.606143Z",
     "shell.execute_reply": "2021-04-04T23:32:50.604823Z"
    },
    "papermill": {
     "duration": 0.054166,
     "end_time": "2021-04-04T23:32:50.606300",
     "exception": false,
     "start_time": "2021-04-04T23:32:50.552134",
     "status": "completed"
    },
    "tags": []
   },
   "outputs": [],
   "source": [
    "del df['id']"
   ]
  },
  {
   "cell_type": "code",
   "execution_count": 9,
   "id": "6ff6f5b0",
   "metadata": {
    "execution": {
     "iopub.execute_input": "2021-04-04T23:32:50.680092Z",
     "iopub.status.busy": "2021-04-04T23:32:50.679067Z",
     "iopub.status.idle": "2021-04-04T23:32:50.681810Z",
     "shell.execute_reply": "2021-04-04T23:32:50.683900Z"
    },
    "papermill": {
     "duration": 0.043632,
     "end_time": "2021-04-04T23:32:50.684433",
     "exception": false,
     "start_time": "2021-04-04T23:32:50.640801",
     "status": "completed"
    },
    "tags": []
   },
   "outputs": [],
   "source": [
    "if PROFILE_REPORTING:\n",
    "    ProfileReport(df).to_widgets()"
   ]
  },
  {
   "cell_type": "markdown",
   "id": "1deaf3f0",
   "metadata": {
    "papermill": {
     "duration": 0.023086,
     "end_time": "2021-04-04T23:32:50.736288",
     "exception": false,
     "start_time": "2021-04-04T23:32:50.713202",
     "status": "completed"
    },
    "tags": []
   },
   "source": [
    "# Preprocess"
   ]
  },
  {
   "cell_type": "code",
   "execution_count": 10,
   "id": "1513e563",
   "metadata": {
    "execution": {
     "iopub.execute_input": "2021-04-04T23:32:50.802691Z",
     "iopub.status.busy": "2021-04-04T23:32:50.801244Z",
     "iopub.status.idle": "2021-04-04T23:32:50.804769Z",
     "shell.execute_reply": "2021-04-04T23:32:50.803918Z"
    },
    "papermill": {
     "duration": 0.039878,
     "end_time": "2021-04-04T23:32:50.804967",
     "exception": false,
     "start_time": "2021-04-04T23:32:50.765089",
     "status": "completed"
    },
    "tags": []
   },
   "outputs": [],
   "source": [
    "working_df = df.copy()"
   ]
  },
  {
   "cell_type": "code",
   "execution_count": 11,
   "id": "3b26d675",
   "metadata": {
    "execution": {
     "iopub.execute_input": "2021-04-04T23:32:50.868488Z",
     "iopub.status.busy": "2021-04-04T23:32:50.867749Z",
     "iopub.status.idle": "2021-04-04T23:32:50.869486Z",
     "shell.execute_reply": "2021-04-04T23:32:50.870038Z"
    },
    "papermill": {
     "duration": 0.034268,
     "end_time": "2021-04-04T23:32:50.870190",
     "exception": false,
     "start_time": "2021-04-04T23:32:50.835922",
     "status": "completed"
    },
    "tags": []
   },
   "outputs": [],
   "source": [
    "working_df['defects'] = working_df['defects'].replace([False, True], [0, 1])"
   ]
  },
  {
   "cell_type": "code",
   "execution_count": 12,
   "id": "eb48604f",
   "metadata": {
    "execution": {
     "iopub.execute_input": "2021-04-04T23:32:50.930303Z",
     "iopub.status.busy": "2021-04-04T23:32:50.929270Z",
     "iopub.status.idle": "2021-04-04T23:32:50.931867Z",
     "shell.execute_reply": "2021-04-04T23:32:50.932406Z"
    },
    "papermill": {
     "duration": 0.039084,
     "end_time": "2021-04-04T23:32:50.932573",
     "exception": false,
     "start_time": "2021-04-04T23:32:50.893489",
     "status": "completed"
    },
    "tags": []
   },
   "outputs": [],
   "source": [
    "for col in dataset_config['delete_columns']:\n",
    "    del working_df[col]"
   ]
  },
  {
   "cell_type": "code",
   "execution_count": 13,
   "id": "9a17bc29",
   "metadata": {
    "execution": {
     "iopub.execute_input": "2021-04-04T23:32:50.988281Z",
     "iopub.status.busy": "2021-04-04T23:32:50.987214Z",
     "iopub.status.idle": "2021-04-04T23:32:50.994942Z",
     "shell.execute_reply": "2021-04-04T23:32:50.994336Z"
    },
    "papermill": {
     "duration": 0.035582,
     "end_time": "2021-04-04T23:32:50.995064",
     "exception": false,
     "start_time": "2021-04-04T23:32:50.959482",
     "status": "completed"
    },
    "tags": []
   },
   "outputs": [],
   "source": [
    "working_df = working_df.drop_duplicates()"
   ]
  },
  {
   "cell_type": "markdown",
   "id": "a4d52ca6",
   "metadata": {
    "papermill": {
     "duration": 0.023404,
     "end_time": "2021-04-04T23:32:51.043352",
     "exception": false,
     "start_time": "2021-04-04T23:32:51.019948",
     "status": "completed"
    },
    "tags": []
   },
   "source": [
    "# Split"
   ]
  },
  {
   "cell_type": "code",
   "execution_count": 14,
   "id": "3e9ee4b5",
   "metadata": {
    "execution": {
     "iopub.execute_input": "2021-04-04T23:32:51.097743Z",
     "iopub.status.busy": "2021-04-04T23:32:51.096732Z",
     "iopub.status.idle": "2021-04-04T23:32:51.133648Z",
     "shell.execute_reply": "2021-04-04T23:32:51.134135Z"
    },
    "papermill": {
     "duration": 0.064737,
     "end_time": "2021-04-04T23:32:51.134285",
     "exception": false,
     "start_time": "2021-04-04T23:32:51.069548",
     "status": "completed"
    },
    "tags": []
   },
   "outputs": [],
   "source": [
    "from sklearn.model_selection import train_test_split"
   ]
  },
  {
   "cell_type": "code",
   "execution_count": 15,
   "id": "274004ce",
   "metadata": {
    "execution": {
     "iopub.execute_input": "2021-04-04T23:32:51.190667Z",
     "iopub.status.busy": "2021-04-04T23:32:51.189700Z",
     "iopub.status.idle": "2021-04-04T23:32:51.194489Z",
     "shell.execute_reply": "2021-04-04T23:32:51.193978Z"
    },
    "papermill": {
     "duration": 0.036551,
     "end_time": "2021-04-04T23:32:51.194607",
     "exception": false,
     "start_time": "2021-04-04T23:32:51.158056",
     "status": "completed"
    },
    "scrolled": true,
    "tags": []
   },
   "outputs": [],
   "source": [
    "inlier, outlier = working_df[working_df['defects'] == 0], working_df[working_df['defects'] == 1]"
   ]
  },
  {
   "cell_type": "code",
   "execution_count": 16,
   "id": "753c7b03",
   "metadata": {
    "execution": {
     "iopub.execute_input": "2021-04-04T23:32:51.249077Z",
     "iopub.status.busy": "2021-04-04T23:32:51.248131Z",
     "iopub.status.idle": "2021-04-04T23:32:51.251673Z",
     "shell.execute_reply": "2021-04-04T23:32:51.251171Z"
    },
    "papermill": {
     "duration": 0.031702,
     "end_time": "2021-04-04T23:32:51.251791",
     "exception": false,
     "start_time": "2021-04-04T23:32:51.220089",
     "status": "completed"
    },
    "tags": []
   },
   "outputs": [],
   "source": [
    "X_inlier = inlier.copy()\n",
    "y_inlier = X_inlier.pop('defects')\n",
    "X_outlier = outlier.copy()\n",
    "y_outlier = X_outlier.pop('defects')"
   ]
  },
  {
   "cell_type": "code",
   "execution_count": 17,
   "id": "2ba43193",
   "metadata": {
    "execution": {
     "iopub.execute_input": "2021-04-04T23:32:51.322662Z",
     "iopub.status.busy": "2021-04-04T23:32:51.321473Z",
     "iopub.status.idle": "2021-04-04T23:32:51.323972Z",
     "shell.execute_reply": "2021-04-04T23:32:51.324579Z"
    },
    "papermill": {
     "duration": 0.04306,
     "end_time": "2021-04-04T23:32:51.324769",
     "exception": false,
     "start_time": "2021-04-04T23:32:51.281709",
     "status": "completed"
    },
    "tags": []
   },
   "outputs": [],
   "source": [
    "test_size = dataset_config['test_size']\n",
    "random_state = dataset_config['random_state']\n",
    "\n",
    "X_inlier_train, X_inlier_test, y_inlier_train, y_inlier_test = train_test_split(\n",
    "    X_inlier,\n",
    "    y_inlier,\n",
    "    test_size=test_size,\n",
    "    random_state=random_state\n",
    ")"
   ]
  },
  {
   "cell_type": "code",
   "execution_count": 18,
   "id": "0b7582ca",
   "metadata": {
    "execution": {
     "iopub.execute_input": "2021-04-04T23:32:51.391356Z",
     "iopub.status.busy": "2021-04-04T23:32:51.390467Z",
     "iopub.status.idle": "2021-04-04T23:32:51.392966Z",
     "shell.execute_reply": "2021-04-04T23:32:51.392466Z"
    },
    "papermill": {
     "duration": 0.038245,
     "end_time": "2021-04-04T23:32:51.393083",
     "exception": false,
     "start_time": "2021-04-04T23:32:51.354838",
     "status": "completed"
    },
    "tags": []
   },
   "outputs": [],
   "source": [
    "test_outlier_size = dataset_config['test_outlier_size']\n",
    "if test_outlier_size > 0.0:\n",
    "    X_outlier_train, X_outlier_test, y_outlier_train, y_outlier_test = train_test_split(\n",
    "        X_outlier,\n",
    "        y_outlier,\n",
    "        test_size=test_outlier_size,\n",
    "        random_state=random_state\n",
    "    )\n",
    "else:\n",
    "    X_outlier_train, y_outlier_train = pd.DataFrame(columns=X_outlier.columns), pd.Series(dtype='int64')\n",
    "    X_outlier_test, y_outlier_test = X_outlier.copy(), y_outlier.copy()"
   ]
  },
  {
   "cell_type": "code",
   "execution_count": 19,
   "id": "c34363db",
   "metadata": {
    "execution": {
     "iopub.execute_input": "2021-04-04T23:32:51.462461Z",
     "iopub.status.busy": "2021-04-04T23:32:51.461849Z",
     "iopub.status.idle": "2021-04-04T23:32:51.465607Z",
     "shell.execute_reply": "2021-04-04T23:32:51.466240Z"
    },
    "papermill": {
     "duration": 0.042194,
     "end_time": "2021-04-04T23:32:51.466432",
     "exception": false,
     "start_time": "2021-04-04T23:32:51.424238",
     "status": "completed"
    },
    "tags": []
   },
   "outputs": [],
   "source": [
    "X_train, y_train = pd.concat([X_inlier_train, X_outlier_train], ignore_index=True), pd.concat([y_inlier_train, y_outlier_train], ignore_index=True)\n",
    "X_test, y_test = pd.concat([X_inlier_test, X_outlier_test], ignore_index=True), pd.concat([y_inlier_test, y_outlier_test], ignore_index=True)"
   ]
  },
  {
   "cell_type": "markdown",
   "id": "7cde7309",
   "metadata": {
    "papermill": {
     "duration": 0.0333,
     "end_time": "2021-04-04T23:32:51.524102",
     "exception": false,
     "start_time": "2021-04-04T23:32:51.490802",
     "status": "completed"
    },
    "tags": []
   },
   "source": [
    "# Model"
   ]
  },
  {
   "cell_type": "code",
   "execution_count": 20,
   "id": "2b12a415",
   "metadata": {
    "execution": {
     "iopub.execute_input": "2021-04-04T23:32:51.674528Z",
     "iopub.status.busy": "2021-04-04T23:32:51.672444Z",
     "iopub.status.idle": "2021-04-04T23:32:51.677353Z",
     "shell.execute_reply": "2021-04-04T23:32:51.679337Z"
    },
    "papermill": {
     "duration": 0.084246,
     "end_time": "2021-04-04T23:32:51.680393",
     "exception": false,
     "start_time": "2021-04-04T23:32:51.596147",
     "status": "completed"
    },
    "tags": []
   },
   "outputs": [],
   "source": [
    "from math import sqrt\n",
    "\n",
    "\n",
    "class KNNDataDescription:\n",
    "    def __init__(self, k=5, outlier_threshold=1.0):\n",
    "        self.k = k\n",
    "        self.outlier_threshold = outlier_threshold\n",
    "        self.X = []\n",
    "    \n",
    "    def fit(self, X):\n",
    "        self.X = [features.to_list() for index, features in X.iterrows()]\n",
    "\n",
    "    def predict(self, entries):\n",
    "        return [self.predict_entry(features.to_list()) for index, features in entries.iterrows()]\n",
    "    \n",
    "    def predict_entry(self, entry):\n",
    "        kth_neighbor, kth_distance = self.get_kth_neighbor(entry, self.k)\n",
    "        kth_kth_neighbor, kth_kth_distance = self.get_kth_neighbor(kth_neighbor, self.k + 1)\n",
    "\n",
    "        outlier_score = kth_distance / (kth_kth_distance + 0.000001)\n",
    "\n",
    "        return 1 if outlier_score < self.outlier_threshold else -1\n",
    "        \n",
    "    def euclidean_distance(self, features1, features2):\n",
    "        distance = 0.0\n",
    "        for feat1, feat2 in zip(features1, features2):\n",
    "            distance += (feat1 - feat2)**2\n",
    "                \n",
    "        return sqrt(distance)\n",
    "\n",
    "    def get_neighbors(self, entry, k):\n",
    "        distance_to_data_points = [\n",
    "            (data_point, self.euclidean_distance(entry, data_point))\n",
    "            for data_point in self.X\n",
    "        ]\n",
    "        sorted_by_distance = sorted(distance_to_data_points, key=lambda tup: tup[1])\n",
    "        neighbors = sorted_by_distance[:k]\n",
    "        return neighbors\n",
    "\n",
    "    def get_kth_neighbor(self, entry, k):\n",
    "        neighbors = self.get_neighbors(entry, k)\n",
    "        return neighbors[-1]\n"
   ]
  },
  {
   "cell_type": "code",
   "execution_count": 21,
   "id": "1fa9ec1c",
   "metadata": {
    "execution": {
     "iopub.execute_input": "2021-04-04T23:32:51.774199Z",
     "iopub.status.busy": "2021-04-04T23:32:51.773553Z",
     "iopub.status.idle": "2021-04-04T23:32:51.797642Z",
     "shell.execute_reply": "2021-04-04T23:32:51.797153Z"
    },
    "papermill": {
     "duration": 0.076908,
     "end_time": "2021-04-04T23:32:51.797756",
     "exception": false,
     "start_time": "2021-04-04T23:32:51.720848",
     "status": "completed"
    },
    "tags": []
   },
   "outputs": [],
   "source": [
    "from sklearn.svm import OneClassSVM\n",
    "\n",
    "\n",
    "models = {\n",
    "    'oneclasssvm': OneClassSVM,\n",
    "    'knndatadescription': KNNDataDescription,\n",
    "}"
   ]
  },
  {
   "cell_type": "code",
   "execution_count": 22,
   "id": "4d72a0b1",
   "metadata": {
    "execution": {
     "iopub.execute_input": "2021-04-04T23:32:51.860498Z",
     "iopub.status.busy": "2021-04-04T23:32:51.859080Z",
     "iopub.status.idle": "2021-04-04T23:32:51.861870Z",
     "shell.execute_reply": "2021-04-04T23:32:51.863028Z"
    },
    "papermill": {
     "duration": 0.042345,
     "end_time": "2021-04-04T23:32:51.863331",
     "exception": false,
     "start_time": "2021-04-04T23:32:51.820986",
     "status": "completed"
    },
    "scrolled": true,
    "tags": []
   },
   "outputs": [],
   "source": [
    "model_cls = models[model_config['model_type']]\n",
    "model = model_cls(**model_config['hyperparameters'])"
   ]
  },
  {
   "cell_type": "markdown",
   "id": "e00cff3b",
   "metadata": {
    "papermill": {
     "duration": 0.03666,
     "end_time": "2021-04-04T23:32:51.952544",
     "exception": false,
     "start_time": "2021-04-04T23:32:51.915884",
     "status": "completed"
    },
    "tags": []
   },
   "source": [
    "# Fit"
   ]
  },
  {
   "cell_type": "code",
   "execution_count": 23,
   "id": "8b2ded89",
   "metadata": {
    "execution": {
     "iopub.execute_input": "2021-04-04T23:32:52.069303Z",
     "iopub.status.busy": "2021-04-04T23:32:52.068032Z",
     "iopub.status.idle": "2021-04-04T23:32:52.070859Z",
     "shell.execute_reply": "2021-04-04T23:32:52.070307Z"
    },
    "papermill": {
     "duration": 0.0831,
     "end_time": "2021-04-04T23:32:52.071007",
     "exception": false,
     "start_time": "2021-04-04T23:32:51.987907",
     "status": "completed"
    },
    "tags": []
   },
   "outputs": [],
   "source": [
    "model.fit(X_train)"
   ]
  },
  {
   "cell_type": "markdown",
   "id": "f99999f7",
   "metadata": {
    "papermill": {
     "duration": 0.03575,
     "end_time": "2021-04-04T23:32:52.141201",
     "exception": false,
     "start_time": "2021-04-04T23:32:52.105451",
     "status": "completed"
    },
    "tags": []
   },
   "source": [
    "# Predict"
   ]
  },
  {
   "cell_type": "code",
   "execution_count": 24,
   "id": "6536fbf7",
   "metadata": {
    "execution": {
     "iopub.execute_input": "2021-04-04T23:32:52.272427Z",
     "iopub.status.busy": "2021-04-04T23:32:52.237384Z",
     "iopub.status.idle": "2021-04-04T23:32:52.618407Z",
     "shell.execute_reply": "2021-04-04T23:32:52.619004Z"
    },
    "papermill": {
     "duration": 0.448884,
     "end_time": "2021-04-04T23:32:52.619190",
     "exception": false,
     "start_time": "2021-04-04T23:32:52.170306",
     "status": "completed"
    },
    "tags": []
   },
   "outputs": [],
   "source": [
    "predictions = model.predict(X_test)"
   ]
  },
  {
   "cell_type": "markdown",
   "id": "aa1c9881",
   "metadata": {
    "papermill": {
     "duration": 0.023408,
     "end_time": "2021-04-04T23:32:52.668006",
     "exception": false,
     "start_time": "2021-04-04T23:32:52.644598",
     "status": "completed"
    },
    "tags": []
   },
   "source": [
    "# Evaluate"
   ]
  },
  {
   "cell_type": "code",
   "execution_count": 25,
   "id": "894f0f04",
   "metadata": {
    "execution": {
     "iopub.execute_input": "2021-04-04T23:32:52.739063Z",
     "iopub.status.busy": "2021-04-04T23:32:52.736133Z",
     "iopub.status.idle": "2021-04-04T23:32:52.744505Z",
     "shell.execute_reply": "2021-04-04T23:32:52.742324Z"
    },
    "papermill": {
     "duration": 0.052716,
     "end_time": "2021-04-04T23:32:52.744823",
     "exception": false,
     "start_time": "2021-04-04T23:32:52.692107",
     "status": "completed"
    },
    "tags": []
   },
   "outputs": [],
   "source": [
    "from sklearn.metrics import f1_score"
   ]
  },
  {
   "cell_type": "code",
   "execution_count": 26,
   "id": "211744d3",
   "metadata": {
    "execution": {
     "iopub.execute_input": "2021-04-04T23:32:52.827981Z",
     "iopub.status.busy": "2021-04-04T23:32:52.826583Z",
     "iopub.status.idle": "2021-04-04T23:32:52.829241Z",
     "shell.execute_reply": "2021-04-04T23:32:52.830289Z"
    },
    "papermill": {
     "duration": 0.042362,
     "end_time": "2021-04-04T23:32:52.830605",
     "exception": false,
     "start_time": "2021-04-04T23:32:52.788243",
     "status": "completed"
    },
    "tags": []
   },
   "outputs": [],
   "source": [
    "y_test = y_test.replace([0, 1], [1, -1])"
   ]
  },
  {
   "cell_type": "code",
   "execution_count": 27,
   "id": "d68a9204",
   "metadata": {
    "execution": {
     "iopub.execute_input": "2021-04-04T23:32:52.927247Z",
     "iopub.status.busy": "2021-04-04T23:32:52.924682Z",
     "iopub.status.idle": "2021-04-04T23:32:52.935845Z",
     "shell.execute_reply": "2021-04-04T23:32:52.933495Z"
    },
    "papermill": {
     "duration": 0.063607,
     "end_time": "2021-04-04T23:32:52.936443",
     "exception": false,
     "start_time": "2021-04-04T23:32:52.872836",
     "status": "completed"
    },
    "tags": []
   },
   "outputs": [],
   "source": [
    "def evaluate(truths, predictions, pos_label, neg_label):\n",
    "    TP = 0\n",
    "    FP = 0\n",
    "    TN = 0\n",
    "    FN = 0\n",
    "\n",
    "    for truth, pred in zip(truths, predictions): \n",
    "        if truth == pred == pos_label:\n",
    "           TP += 1\n",
    "        elif pred == pos_label and truth == neg_label:\n",
    "           FP += 1\n",
    "        elif truth == pred == neg_label:\n",
    "           TN += 1\n",
    "        elif pred == neg_label and truth == pos_label:\n",
    "           FN += 1\n",
    "\n",
    "    precision = TP / (TP + FP)\n",
    "    sensitivity = TP / (TP + FN)\n",
    "    \n",
    "    return {\n",
    "        'true_pos': TP,\n",
    "        'false_pos': FP,\n",
    "        'false_neg': FN,\n",
    "        'true_neg': TN,\n",
    "        'precision': precision,\n",
    "        'sensitivity': sensitivity,\n",
    "        'f1': (2 * (precision * sensitivity)) / (precision + sensitivity)\n",
    "    }\n",
    "\n",
    "score = evaluate(y_test, predictions, pos_label=-1, neg_label=1)"
   ]
  },
  {
   "cell_type": "markdown",
   "id": "93596516",
   "metadata": {
    "papermill": {
     "duration": 0.032005,
     "end_time": "2021-04-04T23:32:52.998969",
     "exception": false,
     "start_time": "2021-04-04T23:32:52.966964",
     "status": "completed"
    },
    "tags": []
   },
   "source": [
    "# Report"
   ]
  },
  {
   "cell_type": "code",
   "execution_count": 28,
   "id": "bea5fba1",
   "metadata": {
    "execution": {
     "iopub.execute_input": "2021-04-04T23:32:53.077178Z",
     "iopub.status.busy": "2021-04-04T23:32:53.076365Z",
     "iopub.status.idle": "2021-04-04T23:32:53.079498Z",
     "shell.execute_reply": "2021-04-04T23:32:53.080756Z"
    },
    "papermill": {
     "duration": 0.045921,
     "end_time": "2021-04-04T23:32:53.081444",
     "exception": false,
     "start_time": "2021-04-04T23:32:53.035523",
     "status": "completed"
    },
    "tags": []
   },
   "outputs": [],
   "source": [
    "import csv\n",
    "\n",
    "\n",
    "dataset_config_name = DATASET_CONFIG_PATH.split('/')[-1].split('.')[0]\n",
    "model_config_name = MODEL_CONFIG_PATH.split('/')[-1].split('.')[0]\n",
    "configuration = f\"dataset_{dataset_config_name}-model_{model_config_name}\"\n",
    "\n",
    "with open('results.csv', 'a') as f:\n",
    "    report = dict({'configuration': configuration}, **score)\n",
    "    writer = csv.DictWriter(f, report.keys())\n",
    "    writer.writerow(report)"
   ]
  }
 ],
 "metadata": {
  "celltoolbar": "Tags",
  "kernelspec": {
   "display_name": "Python 3",
   "language": "python",
   "name": "python3"
  },
  "language_info": {
   "codemirror_mode": {
    "name": "ipython",
    "version": 3
   },
   "file_extension": ".py",
   "mimetype": "text/x-python",
   "name": "python",
   "nbconvert_exporter": "python",
   "pygments_lexer": "ipython3",
   "version": "3.9.1"
  },
  "papermill": {
   "default_parameters": {},
   "duration": 7.078141,
   "end_time": "2021-04-04T23:32:54.556828",
   "environment_variables": {},
   "exception": null,
   "input_path": "main.ipynb",
   "output_path": "runs/dataset_000148-model_000002.ipynb",
   "parameters": {
    "DATASET_CONFIG_PATH": "config/dataset/000148.json",
    "MODEL_CONFIG_PATH": "config/model/000002.json",
    "PROFILE_REPORTING": false
   },
   "start_time": "2021-04-04T23:32:47.478687",
   "version": "2.3.3"
  }
 },
 "nbformat": 4,
 "nbformat_minor": 5
}