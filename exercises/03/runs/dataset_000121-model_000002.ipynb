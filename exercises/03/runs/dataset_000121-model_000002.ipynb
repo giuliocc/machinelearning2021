{
 "cells": [
  {
   "cell_type": "markdown",
   "id": "51c71c25",
   "metadata": {
    "papermill": {
     "duration": 0.021998,
     "end_time": "2021-04-04T23:20:58.047749",
     "exception": false,
     "start_time": "2021-04-04T23:20:58.025751",
     "status": "completed"
    },
    "tags": []
   },
   "source": [
    "# Parametrizing"
   ]
  },
  {
   "cell_type": "code",
   "execution_count": 1,
   "id": "3b136394",
   "metadata": {
    "execution": {
     "iopub.execute_input": "2021-04-04T23:20:58.106387Z",
     "iopub.status.busy": "2021-04-04T23:20:58.104911Z",
     "iopub.status.idle": "2021-04-04T23:20:58.108809Z",
     "shell.execute_reply": "2021-04-04T23:20:58.109977Z"
    },
    "papermill": {
     "duration": 0.042502,
     "end_time": "2021-04-04T23:20:58.110840",
     "exception": false,
     "start_time": "2021-04-04T23:20:58.068338",
     "status": "completed"
    },
    "tags": [
     "parameters"
    ]
   },
   "outputs": [],
   "source": [
    "DATASET_CONFIG_PATH = 'config/dataset/kc1_001.json'\n",
    "MODEL_CONFIG_PATH = 'config/model/knndd_001.json'\n",
    "PROFILE_REPORTING = False"
   ]
  },
  {
   "cell_type": "code",
   "execution_count": 2,
   "id": "03b390e8",
   "metadata": {
    "execution": {
     "iopub.execute_input": "2021-04-04T23:20:58.163326Z",
     "iopub.status.busy": "2021-04-04T23:20:58.162436Z",
     "iopub.status.idle": "2021-04-04T23:20:58.164380Z",
     "shell.execute_reply": "2021-04-04T23:20:58.165041Z"
    },
    "papermill": {
     "duration": 0.030205,
     "end_time": "2021-04-04T23:20:58.165288",
     "exception": false,
     "start_time": "2021-04-04T23:20:58.135083",
     "status": "completed"
    },
    "tags": [
     "injected-parameters"
    ]
   },
   "outputs": [],
   "source": [
    "# Parameters\n",
    "DATASET_CONFIG_PATH = \"config/dataset/000121.json\"\n",
    "MODEL_CONFIG_PATH = \"config/model/000002.json\"\n",
    "PROFILE_REPORTING = False\n"
   ]
  },
  {
   "cell_type": "code",
   "execution_count": 3,
   "id": "b80f2a10",
   "metadata": {
    "execution": {
     "iopub.execute_input": "2021-04-04T23:20:58.220688Z",
     "iopub.status.busy": "2021-04-04T23:20:58.219782Z",
     "iopub.status.idle": "2021-04-04T23:20:58.223818Z",
     "shell.execute_reply": "2021-04-04T23:20:58.222585Z"
    },
    "papermill": {
     "duration": 0.035636,
     "end_time": "2021-04-04T23:20:58.224148",
     "exception": false,
     "start_time": "2021-04-04T23:20:58.188512",
     "status": "completed"
    },
    "tags": []
   },
   "outputs": [],
   "source": [
    "import json\n",
    "\n",
    "\n",
    "with open(DATASET_CONFIG_PATH) as f:\n",
    "    dataset_config = json.load(f)\n",
    "\n",
    "with open(MODEL_CONFIG_PATH) as f:\n",
    "    model_config = json.load(f)"
   ]
  },
  {
   "cell_type": "markdown",
   "id": "9a4b0e2d",
   "metadata": {
    "papermill": {
     "duration": 0.022577,
     "end_time": "2021-04-04T23:20:58.268005",
     "exception": false,
     "start_time": "2021-04-04T23:20:58.245428",
     "status": "completed"
    },
    "tags": []
   },
   "source": [
    "# Profiling"
   ]
  },
  {
   "cell_type": "code",
   "execution_count": 4,
   "id": "a3e0289b",
   "metadata": {
    "execution": {
     "iopub.execute_input": "2021-04-04T23:20:58.319584Z",
     "iopub.status.busy": "2021-04-04T23:20:58.318167Z",
     "iopub.status.idle": "2021-04-04T23:20:59.951627Z",
     "shell.execute_reply": "2021-04-04T23:20:59.952166Z"
    },
    "papermill": {
     "duration": 1.662129,
     "end_time": "2021-04-04T23:20:59.952349",
     "exception": false,
     "start_time": "2021-04-04T23:20:58.290220",
     "status": "completed"
    },
    "tags": []
   },
   "outputs": [],
   "source": [
    "import pandas as pd\n",
    "from pandas_profiling import ProfileReport"
   ]
  },
  {
   "cell_type": "code",
   "execution_count": 5,
   "id": "ee6c0666",
   "metadata": {
    "execution": {
     "iopub.execute_input": "2021-04-04T23:21:00.010623Z",
     "iopub.status.busy": "2021-04-04T23:21:00.009059Z",
     "iopub.status.idle": "2021-04-04T23:21:00.021554Z",
     "shell.execute_reply": "2021-04-04T23:21:00.022935Z"
    },
    "papermill": {
     "duration": 0.046186,
     "end_time": "2021-04-04T23:21:00.023291",
     "exception": false,
     "start_time": "2021-04-04T23:20:59.977105",
     "status": "completed"
    },
    "tags": []
   },
   "outputs": [],
   "source": [
    "df = pd.read_csv(dataset_config['dataset_path'])"
   ]
  },
  {
   "cell_type": "code",
   "execution_count": 6,
   "id": "7eca6c4a",
   "metadata": {
    "execution": {
     "iopub.execute_input": "2021-04-04T23:21:00.099722Z",
     "iopub.status.busy": "2021-04-04T23:21:00.098971Z",
     "iopub.status.idle": "2021-04-04T23:21:00.102225Z",
     "shell.execute_reply": "2021-04-04T23:21:00.103294Z"
    },
    "papermill": {
     "duration": 0.052914,
     "end_time": "2021-04-04T23:21:00.103646",
     "exception": false,
     "start_time": "2021-04-04T23:21:00.050732",
     "status": "completed"
    },
    "tags": []
   },
   "outputs": [
    {
     "name": "stdout",
     "output_type": "stream",
     "text": [
      "<class 'pandas.core.frame.DataFrame'>\n",
      "RangeIndex: 498 entries, 0 to 497\n",
      "Data columns (total 23 columns):\n",
      " #   Column             Non-Null Count  Dtype  \n",
      "---  ------             --------------  -----  \n",
      " 0   id                 498 non-null    int64  \n",
      " 1   loc                498 non-null    float64\n",
      " 2   v(g)               498 non-null    float64\n",
      " 3   ev(g)              498 non-null    float64\n",
      " 4   iv(g)              498 non-null    float64\n",
      " 5   n                  498 non-null    float64\n",
      " 6   v                  498 non-null    float64\n",
      " 7   l                  498 non-null    float64\n",
      " 8   d                  498 non-null    float64\n",
      " 9   i                  498 non-null    float64\n",
      " 10  e                  498 non-null    float64\n",
      " 11  b                  498 non-null    float64\n",
      " 12  t                  498 non-null    float64\n",
      " 13  lOCode             498 non-null    int64  \n",
      " 14  lOComment          498 non-null    int64  \n",
      " 15  lOBlank            498 non-null    int64  \n",
      " 16  locCodeAndComment  498 non-null    int64  \n",
      " 17  uniq_Op            498 non-null    float64\n",
      " 18  uniq_Opnd          498 non-null    float64\n",
      " 19  total_Op           498 non-null    float64\n",
      " 20  total_Opnd         498 non-null    float64\n",
      " 21  branchCount        498 non-null    float64\n",
      " 22  defects            498 non-null    bool   \n",
      "dtypes: bool(1), float64(17), int64(5)\n",
      "memory usage: 86.2 KB\n"
     ]
    }
   ],
   "source": [
    "df.info()"
   ]
  },
  {
   "cell_type": "code",
   "execution_count": 7,
   "id": "3638e5e8",
   "metadata": {
    "execution": {
     "iopub.execute_input": "2021-04-04T23:21:00.166006Z",
     "iopub.status.busy": "2021-04-04T23:21:00.165175Z",
     "iopub.status.idle": "2021-04-04T23:21:00.205463Z",
     "shell.execute_reply": "2021-04-04T23:21:00.206826Z"
    },
    "papermill": {
     "duration": 0.076258,
     "end_time": "2021-04-04T23:21:00.207271",
     "exception": false,
     "start_time": "2021-04-04T23:21:00.131013",
     "status": "completed"
    },
    "tags": []
   },
   "outputs": [
    {
     "data": {
      "text/html": [
       "<div>\n",
       "<style scoped>\n",
       "    .dataframe tbody tr th:only-of-type {\n",
       "        vertical-align: middle;\n",
       "    }\n",
       "\n",
       "    .dataframe tbody tr th {\n",
       "        vertical-align: top;\n",
       "    }\n",
       "\n",
       "    .dataframe thead th {\n",
       "        text-align: right;\n",
       "    }\n",
       "</style>\n",
       "<table border=\"1\" class=\"dataframe\">\n",
       "  <thead>\n",
       "    <tr style=\"text-align: right;\">\n",
       "      <th></th>\n",
       "      <th>id</th>\n",
       "      <th>loc</th>\n",
       "      <th>v(g)</th>\n",
       "      <th>ev(g)</th>\n",
       "      <th>iv(g)</th>\n",
       "      <th>n</th>\n",
       "      <th>v</th>\n",
       "      <th>l</th>\n",
       "      <th>d</th>\n",
       "      <th>i</th>\n",
       "      <th>...</th>\n",
       "      <th>lOCode</th>\n",
       "      <th>lOComment</th>\n",
       "      <th>lOBlank</th>\n",
       "      <th>locCodeAndComment</th>\n",
       "      <th>uniq_Op</th>\n",
       "      <th>uniq_Opnd</th>\n",
       "      <th>total_Op</th>\n",
       "      <th>total_Opnd</th>\n",
       "      <th>branchCount</th>\n",
       "      <th>defects</th>\n",
       "    </tr>\n",
       "  </thead>\n",
       "  <tbody>\n",
       "    <tr>\n",
       "      <th>0</th>\n",
       "      <td>1</td>\n",
       "      <td>1.1</td>\n",
       "      <td>1.4</td>\n",
       "      <td>1.4</td>\n",
       "      <td>1.4</td>\n",
       "      <td>1.3</td>\n",
       "      <td>1.30</td>\n",
       "      <td>1.30</td>\n",
       "      <td>1.30</td>\n",
       "      <td>1.30</td>\n",
       "      <td>...</td>\n",
       "      <td>2</td>\n",
       "      <td>2</td>\n",
       "      <td>2</td>\n",
       "      <td>2</td>\n",
       "      <td>1.2</td>\n",
       "      <td>1.2</td>\n",
       "      <td>1.2</td>\n",
       "      <td>1.2</td>\n",
       "      <td>1.4</td>\n",
       "      <td>False</td>\n",
       "    </tr>\n",
       "    <tr>\n",
       "      <th>1</th>\n",
       "      <td>2</td>\n",
       "      <td>1.0</td>\n",
       "      <td>1.0</td>\n",
       "      <td>1.0</td>\n",
       "      <td>1.0</td>\n",
       "      <td>1.0</td>\n",
       "      <td>1.00</td>\n",
       "      <td>1.00</td>\n",
       "      <td>1.00</td>\n",
       "      <td>1.00</td>\n",
       "      <td>...</td>\n",
       "      <td>1</td>\n",
       "      <td>1</td>\n",
       "      <td>1</td>\n",
       "      <td>1</td>\n",
       "      <td>1.0</td>\n",
       "      <td>1.0</td>\n",
       "      <td>1.0</td>\n",
       "      <td>1.0</td>\n",
       "      <td>1.0</td>\n",
       "      <td>True</td>\n",
       "    </tr>\n",
       "    <tr>\n",
       "      <th>2</th>\n",
       "      <td>3</td>\n",
       "      <td>24.0</td>\n",
       "      <td>5.0</td>\n",
       "      <td>1.0</td>\n",
       "      <td>3.0</td>\n",
       "      <td>63.0</td>\n",
       "      <td>309.13</td>\n",
       "      <td>0.11</td>\n",
       "      <td>9.50</td>\n",
       "      <td>32.54</td>\n",
       "      <td>...</td>\n",
       "      <td>1</td>\n",
       "      <td>0</td>\n",
       "      <td>6</td>\n",
       "      <td>0</td>\n",
       "      <td>15.0</td>\n",
       "      <td>15.0</td>\n",
       "      <td>44.0</td>\n",
       "      <td>19.0</td>\n",
       "      <td>9.0</td>\n",
       "      <td>False</td>\n",
       "    </tr>\n",
       "    <tr>\n",
       "      <th>3</th>\n",
       "      <td>4</td>\n",
       "      <td>20.0</td>\n",
       "      <td>4.0</td>\n",
       "      <td>4.0</td>\n",
       "      <td>2.0</td>\n",
       "      <td>47.0</td>\n",
       "      <td>215.49</td>\n",
       "      <td>0.06</td>\n",
       "      <td>16.00</td>\n",
       "      <td>13.47</td>\n",
       "      <td>...</td>\n",
       "      <td>0</td>\n",
       "      <td>0</td>\n",
       "      <td>3</td>\n",
       "      <td>0</td>\n",
       "      <td>16.0</td>\n",
       "      <td>8.0</td>\n",
       "      <td>31.0</td>\n",
       "      <td>16.0</td>\n",
       "      <td>7.0</td>\n",
       "      <td>False</td>\n",
       "    </tr>\n",
       "    <tr>\n",
       "      <th>4</th>\n",
       "      <td>5</td>\n",
       "      <td>24.0</td>\n",
       "      <td>6.0</td>\n",
       "      <td>6.0</td>\n",
       "      <td>2.0</td>\n",
       "      <td>72.0</td>\n",
       "      <td>346.13</td>\n",
       "      <td>0.06</td>\n",
       "      <td>17.33</td>\n",
       "      <td>19.97</td>\n",
       "      <td>...</td>\n",
       "      <td>0</td>\n",
       "      <td>0</td>\n",
       "      <td>3</td>\n",
       "      <td>0</td>\n",
       "      <td>16.0</td>\n",
       "      <td>12.0</td>\n",
       "      <td>46.0</td>\n",
       "      <td>26.0</td>\n",
       "      <td>11.0</td>\n",
       "      <td>False</td>\n",
       "    </tr>\n",
       "  </tbody>\n",
       "</table>\n",
       "<p>5 rows × 23 columns</p>\n",
       "</div>"
      ],
      "text/plain": [
       "   id   loc  v(g)  ev(g)  iv(g)     n       v     l      d      i  ...  \\\n",
       "0   1   1.1   1.4    1.4    1.4   1.3    1.30  1.30   1.30   1.30  ...   \n",
       "1   2   1.0   1.0    1.0    1.0   1.0    1.00  1.00   1.00   1.00  ...   \n",
       "2   3  24.0   5.0    1.0    3.0  63.0  309.13  0.11   9.50  32.54  ...   \n",
       "3   4  20.0   4.0    4.0    2.0  47.0  215.49  0.06  16.00  13.47  ...   \n",
       "4   5  24.0   6.0    6.0    2.0  72.0  346.13  0.06  17.33  19.97  ...   \n",
       "\n",
       "   lOCode  lOComment  lOBlank  locCodeAndComment  uniq_Op  uniq_Opnd  \\\n",
       "0       2          2        2                  2      1.2        1.2   \n",
       "1       1          1        1                  1      1.0        1.0   \n",
       "2       1          0        6                  0     15.0       15.0   \n",
       "3       0          0        3                  0     16.0        8.0   \n",
       "4       0          0        3                  0     16.0       12.0   \n",
       "\n",
       "   total_Op  total_Opnd  branchCount  defects  \n",
       "0       1.2         1.2          1.4    False  \n",
       "1       1.0         1.0          1.0     True  \n",
       "2      44.0        19.0          9.0    False  \n",
       "3      31.0        16.0          7.0    False  \n",
       "4      46.0        26.0         11.0    False  \n",
       "\n",
       "[5 rows x 23 columns]"
      ]
     },
     "execution_count": 7,
     "metadata": {},
     "output_type": "execute_result"
    }
   ],
   "source": [
    "df.head()"
   ]
  },
  {
   "cell_type": "code",
   "execution_count": 8,
   "id": "733e95eb",
   "metadata": {
    "execution": {
     "iopub.execute_input": "2021-04-04T23:21:00.277054Z",
     "iopub.status.busy": "2021-04-04T23:21:00.275794Z",
     "iopub.status.idle": "2021-04-04T23:21:00.278758Z",
     "shell.execute_reply": "2021-04-04T23:21:00.279324Z"
    },
    "papermill": {
     "duration": 0.04236,
     "end_time": "2021-04-04T23:21:00.279481",
     "exception": false,
     "start_time": "2021-04-04T23:21:00.237121",
     "status": "completed"
    },
    "tags": []
   },
   "outputs": [],
   "source": [
    "del df['id']"
   ]
  },
  {
   "cell_type": "code",
   "execution_count": 9,
   "id": "6ff6f5b0",
   "metadata": {
    "execution": {
     "iopub.execute_input": "2021-04-04T23:21:00.339948Z",
     "iopub.status.busy": "2021-04-04T23:21:00.338769Z",
     "iopub.status.idle": "2021-04-04T23:21:00.342334Z",
     "shell.execute_reply": "2021-04-04T23:21:00.341458Z"
    },
    "papermill": {
     "duration": 0.0379,
     "end_time": "2021-04-04T23:21:00.342620",
     "exception": false,
     "start_time": "2021-04-04T23:21:00.304720",
     "status": "completed"
    },
    "tags": []
   },
   "outputs": [],
   "source": [
    "if PROFILE_REPORTING:\n",
    "    ProfileReport(df).to_widgets()"
   ]
  },
  {
   "cell_type": "markdown",
   "id": "1deaf3f0",
   "metadata": {
    "papermill": {
     "duration": 0.024667,
     "end_time": "2021-04-04T23:21:00.402919",
     "exception": false,
     "start_time": "2021-04-04T23:21:00.378252",
     "status": "completed"
    },
    "tags": []
   },
   "source": [
    "# Preprocess"
   ]
  },
  {
   "cell_type": "code",
   "execution_count": 10,
   "id": "1513e563",
   "metadata": {
    "execution": {
     "iopub.execute_input": "2021-04-04T23:21:00.462577Z",
     "iopub.status.busy": "2021-04-04T23:21:00.461758Z",
     "iopub.status.idle": "2021-04-04T23:21:00.463868Z",
     "shell.execute_reply": "2021-04-04T23:21:00.464364Z"
    },
    "papermill": {
     "duration": 0.033476,
     "end_time": "2021-04-04T23:21:00.464520",
     "exception": false,
     "start_time": "2021-04-04T23:21:00.431044",
     "status": "completed"
    },
    "tags": []
   },
   "outputs": [],
   "source": [
    "working_df = df.copy()"
   ]
  },
  {
   "cell_type": "code",
   "execution_count": 11,
   "id": "3b26d675",
   "metadata": {
    "execution": {
     "iopub.execute_input": "2021-04-04T23:21:00.524573Z",
     "iopub.status.busy": "2021-04-04T23:21:00.522944Z",
     "iopub.status.idle": "2021-04-04T23:21:00.527195Z",
     "shell.execute_reply": "2021-04-04T23:21:00.526466Z"
    },
    "papermill": {
     "duration": 0.038856,
     "end_time": "2021-04-04T23:21:00.527357",
     "exception": false,
     "start_time": "2021-04-04T23:21:00.488501",
     "status": "completed"
    },
    "tags": []
   },
   "outputs": [],
   "source": [
    "working_df['defects'] = working_df['defects'].replace([False, True], [0, 1])"
   ]
  },
  {
   "cell_type": "code",
   "execution_count": 12,
   "id": "eb48604f",
   "metadata": {
    "execution": {
     "iopub.execute_input": "2021-04-04T23:21:00.585325Z",
     "iopub.status.busy": "2021-04-04T23:21:00.584747Z",
     "iopub.status.idle": "2021-04-04T23:21:00.586759Z",
     "shell.execute_reply": "2021-04-04T23:21:00.587506Z"
    },
    "papermill": {
     "duration": 0.033869,
     "end_time": "2021-04-04T23:21:00.587873",
     "exception": false,
     "start_time": "2021-04-04T23:21:00.554004",
     "status": "completed"
    },
    "tags": []
   },
   "outputs": [],
   "source": [
    "for col in dataset_config['delete_columns']:\n",
    "    del working_df[col]"
   ]
  },
  {
   "cell_type": "code",
   "execution_count": 13,
   "id": "9a17bc29",
   "metadata": {
    "execution": {
     "iopub.execute_input": "2021-04-04T23:21:00.646883Z",
     "iopub.status.busy": "2021-04-04T23:21:00.645657Z",
     "iopub.status.idle": "2021-04-04T23:21:00.656674Z",
     "shell.execute_reply": "2021-04-04T23:21:00.655939Z"
    },
    "papermill": {
     "duration": 0.045283,
     "end_time": "2021-04-04T23:21:00.656822",
     "exception": false,
     "start_time": "2021-04-04T23:21:00.611539",
     "status": "completed"
    },
    "tags": []
   },
   "outputs": [],
   "source": [
    "working_df = working_df.drop_duplicates()"
   ]
  },
  {
   "cell_type": "markdown",
   "id": "a4d52ca6",
   "metadata": {
    "papermill": {
     "duration": 0.02384,
     "end_time": "2021-04-04T23:21:00.703380",
     "exception": false,
     "start_time": "2021-04-04T23:21:00.679540",
     "status": "completed"
    },
    "tags": []
   },
   "source": [
    "# Split"
   ]
  },
  {
   "cell_type": "code",
   "execution_count": 14,
   "id": "3e9ee4b5",
   "metadata": {
    "execution": {
     "iopub.execute_input": "2021-04-04T23:21:00.761194Z",
     "iopub.status.busy": "2021-04-04T23:21:00.760623Z",
     "iopub.status.idle": "2021-04-04T23:21:00.793369Z",
     "shell.execute_reply": "2021-04-04T23:21:00.793911Z"
    },
    "papermill": {
     "duration": 0.066593,
     "end_time": "2021-04-04T23:21:00.794079",
     "exception": false,
     "start_time": "2021-04-04T23:21:00.727486",
     "status": "completed"
    },
    "tags": []
   },
   "outputs": [],
   "source": [
    "from sklearn.model_selection import train_test_split"
   ]
  },
  {
   "cell_type": "code",
   "execution_count": 15,
   "id": "274004ce",
   "metadata": {
    "execution": {
     "iopub.execute_input": "2021-04-04T23:21:00.846360Z",
     "iopub.status.busy": "2021-04-04T23:21:00.845580Z",
     "iopub.status.idle": "2021-04-04T23:21:00.852544Z",
     "shell.execute_reply": "2021-04-04T23:21:00.851927Z"
    },
    "papermill": {
     "duration": 0.035753,
     "end_time": "2021-04-04T23:21:00.852709",
     "exception": false,
     "start_time": "2021-04-04T23:21:00.816956",
     "status": "completed"
    },
    "scrolled": true,
    "tags": []
   },
   "outputs": [],
   "source": [
    "inlier, outlier = working_df[working_df['defects'] == 0], working_df[working_df['defects'] == 1]"
   ]
  },
  {
   "cell_type": "code",
   "execution_count": 16,
   "id": "753c7b03",
   "metadata": {
    "execution": {
     "iopub.execute_input": "2021-04-04T23:21:00.914110Z",
     "iopub.status.busy": "2021-04-04T23:21:00.913060Z",
     "iopub.status.idle": "2021-04-04T23:21:00.915463Z",
     "shell.execute_reply": "2021-04-04T23:21:00.916019Z"
    },
    "papermill": {
     "duration": 0.038669,
     "end_time": "2021-04-04T23:21:00.916184",
     "exception": false,
     "start_time": "2021-04-04T23:21:00.877515",
     "status": "completed"
    },
    "tags": []
   },
   "outputs": [],
   "source": [
    "X_inlier = inlier.copy()\n",
    "y_inlier = X_inlier.pop('defects')\n",
    "X_outlier = outlier.copy()\n",
    "y_outlier = X_outlier.pop('defects')"
   ]
  },
  {
   "cell_type": "code",
   "execution_count": 17,
   "id": "2ba43193",
   "metadata": {
    "execution": {
     "iopub.execute_input": "2021-04-04T23:21:00.973219Z",
     "iopub.status.busy": "2021-04-04T23:21:00.972360Z",
     "iopub.status.idle": "2021-04-04T23:21:00.974437Z",
     "shell.execute_reply": "2021-04-04T23:21:00.974927Z"
    },
    "papermill": {
     "duration": 0.031479,
     "end_time": "2021-04-04T23:21:00.975075",
     "exception": false,
     "start_time": "2021-04-04T23:21:00.943596",
     "status": "completed"
    },
    "tags": []
   },
   "outputs": [],
   "source": [
    "test_size = dataset_config['test_size']\n",
    "random_state = dataset_config['random_state']\n",
    "\n",
    "X_inlier_train, X_inlier_test, y_inlier_train, y_inlier_test = train_test_split(\n",
    "    X_inlier,\n",
    "    y_inlier,\n",
    "    test_size=test_size,\n",
    "    random_state=random_state\n",
    ")"
   ]
  },
  {
   "cell_type": "code",
   "execution_count": 18,
   "id": "0b7582ca",
   "metadata": {
    "execution": {
     "iopub.execute_input": "2021-04-04T23:21:01.041102Z",
     "iopub.status.busy": "2021-04-04T23:21:01.039465Z",
     "iopub.status.idle": "2021-04-04T23:21:01.044211Z",
     "shell.execute_reply": "2021-04-04T23:21:01.044776Z"
    },
    "papermill": {
     "duration": 0.041712,
     "end_time": "2021-04-04T23:21:01.044951",
     "exception": false,
     "start_time": "2021-04-04T23:21:01.003239",
     "status": "completed"
    },
    "tags": []
   },
   "outputs": [],
   "source": [
    "test_outlier_size = dataset_config['test_outlier_size']\n",
    "if test_outlier_size > 0.0:\n",
    "    X_outlier_train, X_outlier_test, y_outlier_train, y_outlier_test = train_test_split(\n",
    "        X_outlier,\n",
    "        y_outlier,\n",
    "        test_size=test_outlier_size,\n",
    "        random_state=random_state\n",
    "    )\n",
    "else:\n",
    "    X_outlier_train, y_outlier_train = pd.DataFrame(columns=X_outlier.columns), pd.Series(dtype='int64')\n",
    "    X_outlier_test, y_outlier_test = X_outlier.copy(), y_outlier.copy()"
   ]
  },
  {
   "cell_type": "code",
   "execution_count": 19,
   "id": "c34363db",
   "metadata": {
    "execution": {
     "iopub.execute_input": "2021-04-04T23:21:01.103860Z",
     "iopub.status.busy": "2021-04-04T23:21:01.102042Z",
     "iopub.status.idle": "2021-04-04T23:21:01.107509Z",
     "shell.execute_reply": "2021-04-04T23:21:01.106889Z"
    },
    "papermill": {
     "duration": 0.039536,
     "end_time": "2021-04-04T23:21:01.107650",
     "exception": false,
     "start_time": "2021-04-04T23:21:01.068114",
     "status": "completed"
    },
    "tags": []
   },
   "outputs": [],
   "source": [
    "X_train, y_train = pd.concat([X_inlier_train, X_outlier_train], ignore_index=True), pd.concat([y_inlier_train, y_outlier_train], ignore_index=True)\n",
    "X_test, y_test = pd.concat([X_inlier_test, X_outlier_test], ignore_index=True), pd.concat([y_inlier_test, y_outlier_test], ignore_index=True)"
   ]
  },
  {
   "cell_type": "markdown",
   "id": "7cde7309",
   "metadata": {
    "papermill": {
     "duration": 0.031687,
     "end_time": "2021-04-04T23:21:01.165704",
     "exception": false,
     "start_time": "2021-04-04T23:21:01.134017",
     "status": "completed"
    },
    "tags": []
   },
   "source": [
    "# Model"
   ]
  },
  {
   "cell_type": "code",
   "execution_count": 20,
   "id": "2b12a415",
   "metadata": {
    "execution": {
     "iopub.execute_input": "2021-04-04T23:21:01.228100Z",
     "iopub.status.busy": "2021-04-04T23:21:01.227494Z",
     "iopub.status.idle": "2021-04-04T23:21:01.229613Z",
     "shell.execute_reply": "2021-04-04T23:21:01.230098Z"
    },
    "papermill": {
     "duration": 0.037382,
     "end_time": "2021-04-04T23:21:01.230263",
     "exception": false,
     "start_time": "2021-04-04T23:21:01.192881",
     "status": "completed"
    },
    "tags": []
   },
   "outputs": [],
   "source": [
    "from math import sqrt\n",
    "\n",
    "\n",
    "class KNNDataDescription:\n",
    "    def __init__(self, k=5, outlier_threshold=1.0):\n",
    "        self.k = k\n",
    "        self.outlier_threshold = outlier_threshold\n",
    "        self.X = []\n",
    "    \n",
    "    def fit(self, X):\n",
    "        self.X = [features.to_list() for index, features in X.iterrows()]\n",
    "\n",
    "    def predict(self, entries):\n",
    "        return [self.predict_entry(features.to_list()) for index, features in entries.iterrows()]\n",
    "    \n",
    "    def predict_entry(self, entry):\n",
    "        kth_neighbor, kth_distance = self.get_kth_neighbor(entry, self.k)\n",
    "        kth_kth_neighbor, kth_kth_distance = self.get_kth_neighbor(kth_neighbor, self.k + 1)\n",
    "\n",
    "        outlier_score = kth_distance / (kth_kth_distance + 0.000001)\n",
    "\n",
    "        return 1 if outlier_score < self.outlier_threshold else -1\n",
    "        \n",
    "    def euclidean_distance(self, features1, features2):\n",
    "        distance = 0.0\n",
    "        for feat1, feat2 in zip(features1, features2):\n",
    "            distance += (feat1 - feat2)**2\n",
    "                \n",
    "        return sqrt(distance)\n",
    "\n",
    "    def get_neighbors(self, entry, k):\n",
    "        distance_to_data_points = [\n",
    "            (data_point, self.euclidean_distance(entry, data_point))\n",
    "            for data_point in self.X\n",
    "        ]\n",
    "        sorted_by_distance = sorted(distance_to_data_points, key=lambda tup: tup[1])\n",
    "        neighbors = sorted_by_distance[:k]\n",
    "        return neighbors\n",
    "\n",
    "    def get_kth_neighbor(self, entry, k):\n",
    "        neighbors = self.get_neighbors(entry, k)\n",
    "        return neighbors[-1]\n"
   ]
  },
  {
   "cell_type": "code",
   "execution_count": 21,
   "id": "1fa9ec1c",
   "metadata": {
    "execution": {
     "iopub.execute_input": "2021-04-04T23:21:01.290677Z",
     "iopub.status.busy": "2021-04-04T23:21:01.289799Z",
     "iopub.status.idle": "2021-04-04T23:21:01.319319Z",
     "shell.execute_reply": "2021-04-04T23:21:01.319840Z"
    },
    "papermill": {
     "duration": 0.063681,
     "end_time": "2021-04-04T23:21:01.320023",
     "exception": false,
     "start_time": "2021-04-04T23:21:01.256342",
     "status": "completed"
    },
    "tags": []
   },
   "outputs": [],
   "source": [
    "from sklearn.svm import OneClassSVM\n",
    "\n",
    "\n",
    "models = {\n",
    "    'oneclasssvm': OneClassSVM,\n",
    "    'knndatadescription': KNNDataDescription,\n",
    "}"
   ]
  },
  {
   "cell_type": "code",
   "execution_count": 22,
   "id": "4d72a0b1",
   "metadata": {
    "execution": {
     "iopub.execute_input": "2021-04-04T23:21:01.386311Z",
     "iopub.status.busy": "2021-04-04T23:21:01.385586Z",
     "iopub.status.idle": "2021-04-04T23:21:01.388566Z",
     "shell.execute_reply": "2021-04-04T23:21:01.389586Z"
    },
    "papermill": {
     "duration": 0.0412,
     "end_time": "2021-04-04T23:21:01.389792",
     "exception": false,
     "start_time": "2021-04-04T23:21:01.348592",
     "status": "completed"
    },
    "scrolled": true,
    "tags": []
   },
   "outputs": [],
   "source": [
    "model_cls = models[model_config['model_type']]\n",
    "model = model_cls(**model_config['hyperparameters'])"
   ]
  },
  {
   "cell_type": "markdown",
   "id": "e00cff3b",
   "metadata": {
    "papermill": {
     "duration": 0.029661,
     "end_time": "2021-04-04T23:21:01.446926",
     "exception": false,
     "start_time": "2021-04-04T23:21:01.417265",
     "status": "completed"
    },
    "tags": []
   },
   "source": [
    "# Fit"
   ]
  },
  {
   "cell_type": "code",
   "execution_count": 23,
   "id": "8b2ded89",
   "metadata": {
    "execution": {
     "iopub.execute_input": "2021-04-04T23:21:01.540616Z",
     "iopub.status.busy": "2021-04-04T23:21:01.509477Z",
     "iopub.status.idle": "2021-04-04T23:21:01.543311Z",
     "shell.execute_reply": "2021-04-04T23:21:01.543930Z"
    },
    "papermill": {
     "duration": 0.06777,
     "end_time": "2021-04-04T23:21:01.544080",
     "exception": false,
     "start_time": "2021-04-04T23:21:01.476310",
     "status": "completed"
    },
    "tags": []
   },
   "outputs": [],
   "source": [
    "model.fit(X_train)"
   ]
  },
  {
   "cell_type": "markdown",
   "id": "f99999f7",
   "metadata": {
    "papermill": {
     "duration": 0.028117,
     "end_time": "2021-04-04T23:21:01.597092",
     "exception": false,
     "start_time": "2021-04-04T23:21:01.568975",
     "status": "completed"
    },
    "tags": []
   },
   "source": [
    "# Predict"
   ]
  },
  {
   "cell_type": "code",
   "execution_count": 24,
   "id": "6536fbf7",
   "metadata": {
    "execution": {
     "iopub.execute_input": "2021-04-04T23:21:01.684564Z",
     "iopub.status.busy": "2021-04-04T23:21:01.652430Z",
     "iopub.status.idle": "2021-04-04T23:21:02.078379Z",
     "shell.execute_reply": "2021-04-04T23:21:02.077781Z"
    },
    "papermill": {
     "duration": 0.452933,
     "end_time": "2021-04-04T23:21:02.078501",
     "exception": false,
     "start_time": "2021-04-04T23:21:01.625568",
     "status": "completed"
    },
    "tags": []
   },
   "outputs": [],
   "source": [
    "predictions = model.predict(X_test)"
   ]
  },
  {
   "cell_type": "markdown",
   "id": "aa1c9881",
   "metadata": {
    "papermill": {
     "duration": 0.031153,
     "end_time": "2021-04-04T23:21:02.140775",
     "exception": false,
     "start_time": "2021-04-04T23:21:02.109622",
     "status": "completed"
    },
    "tags": []
   },
   "source": [
    "# Evaluate"
   ]
  },
  {
   "cell_type": "code",
   "execution_count": 25,
   "id": "894f0f04",
   "metadata": {
    "execution": {
     "iopub.execute_input": "2021-04-04T23:21:02.204257Z",
     "iopub.status.busy": "2021-04-04T23:21:02.203466Z",
     "iopub.status.idle": "2021-04-04T23:21:02.205439Z",
     "shell.execute_reply": "2021-04-04T23:21:02.205887Z"
    },
    "papermill": {
     "duration": 0.037327,
     "end_time": "2021-04-04T23:21:02.206037",
     "exception": false,
     "start_time": "2021-04-04T23:21:02.168710",
     "status": "completed"
    },
    "tags": []
   },
   "outputs": [],
   "source": [
    "from sklearn.metrics import f1_score"
   ]
  },
  {
   "cell_type": "code",
   "execution_count": 26,
   "id": "211744d3",
   "metadata": {
    "execution": {
     "iopub.execute_input": "2021-04-04T23:21:02.270126Z",
     "iopub.status.busy": "2021-04-04T23:21:02.268037Z",
     "iopub.status.idle": "2021-04-04T23:21:02.272742Z",
     "shell.execute_reply": "2021-04-04T23:21:02.273264Z"
    },
    "papermill": {
     "duration": 0.040748,
     "end_time": "2021-04-04T23:21:02.273413",
     "exception": false,
     "start_time": "2021-04-04T23:21:02.232665",
     "status": "completed"
    },
    "tags": []
   },
   "outputs": [],
   "source": [
    "y_test = y_test.replace([0, 1], [1, -1])"
   ]
  },
  {
   "cell_type": "code",
   "execution_count": 27,
   "id": "d68a9204",
   "metadata": {
    "execution": {
     "iopub.execute_input": "2021-04-04T23:21:02.334036Z",
     "iopub.status.busy": "2021-04-04T23:21:02.333236Z",
     "iopub.status.idle": "2021-04-04T23:21:02.336286Z",
     "shell.execute_reply": "2021-04-04T23:21:02.335487Z"
    },
    "papermill": {
     "duration": 0.034062,
     "end_time": "2021-04-04T23:21:02.336438",
     "exception": false,
     "start_time": "2021-04-04T23:21:02.302376",
     "status": "completed"
    },
    "tags": []
   },
   "outputs": [],
   "source": [
    "def evaluate(truths, predictions, pos_label, neg_label):\n",
    "    TP = 0\n",
    "    FP = 0\n",
    "    TN = 0\n",
    "    FN = 0\n",
    "\n",
    "    for truth, pred in zip(truths, predictions): \n",
    "        if truth == pred == pos_label:\n",
    "           TP += 1\n",
    "        elif pred == pos_label and truth == neg_label:\n",
    "           FP += 1\n",
    "        elif truth == pred == neg_label:\n",
    "           TN += 1\n",
    "        elif pred == neg_label and truth == pos_label:\n",
    "           FN += 1\n",
    "\n",
    "    precision = TP / (TP + FP)\n",
    "    sensitivity = TP / (TP + FN)\n",
    "    \n",
    "    return {\n",
    "        'true_pos': TP,\n",
    "        'false_pos': FP,\n",
    "        'false_neg': FN,\n",
    "        'true_neg': TN,\n",
    "        'precision': precision,\n",
    "        'sensitivity': sensitivity,\n",
    "        'f1': (2 * (precision * sensitivity)) / (precision + sensitivity)\n",
    "    }\n",
    "\n",
    "score = evaluate(y_test, predictions, pos_label=-1, neg_label=1)"
   ]
  },
  {
   "cell_type": "markdown",
   "id": "93596516",
   "metadata": {
    "papermill": {
     "duration": 0.029671,
     "end_time": "2021-04-04T23:21:02.399701",
     "exception": false,
     "start_time": "2021-04-04T23:21:02.370030",
     "status": "completed"
    },
    "tags": []
   },
   "source": [
    "# Report"
   ]
  },
  {
   "cell_type": "code",
   "execution_count": 28,
   "id": "bea5fba1",
   "metadata": {
    "execution": {
     "iopub.execute_input": "2021-04-04T23:21:02.461850Z",
     "iopub.status.busy": "2021-04-04T23:21:02.461036Z",
     "iopub.status.idle": "2021-04-04T23:21:02.464119Z",
     "shell.execute_reply": "2021-04-04T23:21:02.463511Z"
    },
    "papermill": {
     "duration": 0.036507,
     "end_time": "2021-04-04T23:21:02.464264",
     "exception": false,
     "start_time": "2021-04-04T23:21:02.427757",
     "status": "completed"
    },
    "tags": []
   },
   "outputs": [],
   "source": [
    "import csv\n",
    "\n",
    "\n",
    "dataset_config_name = DATASET_CONFIG_PATH.split('/')[-1].split('.')[0]\n",
    "model_config_name = MODEL_CONFIG_PATH.split('/')[-1].split('.')[0]\n",
    "configuration = f\"dataset_{dataset_config_name}-model_{model_config_name}\"\n",
    "\n",
    "with open('results.csv', 'a') as f:\n",
    "    report = dict({'configuration': configuration}, **score)\n",
    "    writer = csv.DictWriter(f, report.keys())\n",
    "    writer.writerow(report)"
   ]
  }
 ],
 "metadata": {
  "celltoolbar": "Tags",
  "kernelspec": {
   "display_name": "Python 3",
   "language": "python",
   "name": "python3"
  },
  "language_info": {
   "codemirror_mode": {
    "name": "ipython",
    "version": 3
   },
   "file_extension": ".py",
   "mimetype": "text/x-python",
   "name": "python",
   "nbconvert_exporter": "python",
   "pygments_lexer": "ipython3",
   "version": "3.9.1"
  },
  "papermill": {
   "default_parameters": {},
   "duration": 6.029444,
   "end_time": "2021-04-04T23:21:03.200884",
   "environment_variables": {},
   "exception": null,
   "input_path": "main.ipynb",
   "output_path": "runs/dataset_000121-model_000002.ipynb",
   "parameters": {
    "DATASET_CONFIG_PATH": "config/dataset/000121.json",
    "MODEL_CONFIG_PATH": "config/model/000002.json",
    "PROFILE_REPORTING": false
   },
   "start_time": "2021-04-04T23:20:57.171440",
   "version": "2.3.3"
  }
 },
 "nbformat": 4,
 "nbformat_minor": 5
}