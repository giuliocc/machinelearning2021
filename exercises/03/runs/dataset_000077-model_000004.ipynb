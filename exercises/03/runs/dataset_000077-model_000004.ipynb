{
 "cells": [
  {
   "cell_type": "markdown",
   "id": "51c71c25",
   "metadata": {
    "papermill": {
     "duration": 0.024993,
     "end_time": "2021-04-04T23:03:47.109248",
     "exception": false,
     "start_time": "2021-04-04T23:03:47.084255",
     "status": "completed"
    },
    "tags": []
   },
   "source": [
    "# Parametrizing"
   ]
  },
  {
   "cell_type": "code",
   "execution_count": 1,
   "id": "3b136394",
   "metadata": {
    "execution": {
     "iopub.execute_input": "2021-04-04T23:03:47.165993Z",
     "iopub.status.busy": "2021-04-04T23:03:47.165260Z",
     "iopub.status.idle": "2021-04-04T23:03:47.168823Z",
     "shell.execute_reply": "2021-04-04T23:03:47.167722Z"
    },
    "papermill": {
     "duration": 0.03933,
     "end_time": "2021-04-04T23:03:47.169151",
     "exception": false,
     "start_time": "2021-04-04T23:03:47.129821",
     "status": "completed"
    },
    "tags": [
     "parameters"
    ]
   },
   "outputs": [],
   "source": [
    "DATASET_CONFIG_PATH = 'config/dataset/kc1_001.json'\n",
    "MODEL_CONFIG_PATH = 'config/model/knndd_001.json'\n",
    "PROFILE_REPORTING = False"
   ]
  },
  {
   "cell_type": "code",
   "execution_count": 2,
   "id": "9020da0a",
   "metadata": {
    "execution": {
     "iopub.execute_input": "2021-04-04T23:03:47.215843Z",
     "iopub.status.busy": "2021-04-04T23:03:47.215088Z",
     "iopub.status.idle": "2021-04-04T23:03:47.217192Z",
     "shell.execute_reply": "2021-04-04T23:03:47.217668Z"
    },
    "papermill": {
     "duration": 0.026274,
     "end_time": "2021-04-04T23:03:47.217813",
     "exception": false,
     "start_time": "2021-04-04T23:03:47.191539",
     "status": "completed"
    },
    "tags": [
     "injected-parameters"
    ]
   },
   "outputs": [],
   "source": [
    "# Parameters\n",
    "DATASET_CONFIG_PATH = \"config/dataset/000077.json\"\n",
    "MODEL_CONFIG_PATH = \"config/model/000004.json\"\n",
    "PROFILE_REPORTING = False\n"
   ]
  },
  {
   "cell_type": "code",
   "execution_count": 3,
   "id": "b80f2a10",
   "metadata": {
    "execution": {
     "iopub.execute_input": "2021-04-04T23:03:47.272479Z",
     "iopub.status.busy": "2021-04-04T23:03:47.271531Z",
     "iopub.status.idle": "2021-04-04T23:03:47.276118Z",
     "shell.execute_reply": "2021-04-04T23:03:47.277448Z"
    },
    "papermill": {
     "duration": 0.036176,
     "end_time": "2021-04-04T23:03:47.277777",
     "exception": false,
     "start_time": "2021-04-04T23:03:47.241601",
     "status": "completed"
    },
    "tags": []
   },
   "outputs": [],
   "source": [
    "import json\n",
    "\n",
    "\n",
    "with open(DATASET_CONFIG_PATH) as f:\n",
    "    dataset_config = json.load(f)\n",
    "\n",
    "with open(MODEL_CONFIG_PATH) as f:\n",
    "    model_config = json.load(f)"
   ]
  },
  {
   "cell_type": "markdown",
   "id": "9a4b0e2d",
   "metadata": {
    "papermill": {
     "duration": 0.021246,
     "end_time": "2021-04-04T23:03:47.321515",
     "exception": false,
     "start_time": "2021-04-04T23:03:47.300269",
     "status": "completed"
    },
    "tags": []
   },
   "source": [
    "# Profiling"
   ]
  },
  {
   "cell_type": "code",
   "execution_count": 4,
   "id": "a3e0289b",
   "metadata": {
    "execution": {
     "iopub.execute_input": "2021-04-04T23:03:47.381631Z",
     "iopub.status.busy": "2021-04-04T23:03:47.380456Z",
     "iopub.status.idle": "2021-04-04T23:03:48.764361Z",
     "shell.execute_reply": "2021-04-04T23:03:48.763409Z"
    },
    "papermill": {
     "duration": 1.420602,
     "end_time": "2021-04-04T23:03:48.764536",
     "exception": false,
     "start_time": "2021-04-04T23:03:47.343934",
     "status": "completed"
    },
    "tags": []
   },
   "outputs": [],
   "source": [
    "import pandas as pd\n",
    "from pandas_profiling import ProfileReport"
   ]
  },
  {
   "cell_type": "code",
   "execution_count": 5,
   "id": "ee6c0666",
   "metadata": {
    "execution": {
     "iopub.execute_input": "2021-04-04T23:03:48.823305Z",
     "iopub.status.busy": "2021-04-04T23:03:48.820689Z",
     "iopub.status.idle": "2021-04-04T23:03:48.834426Z",
     "shell.execute_reply": "2021-04-04T23:03:48.834960Z"
    },
    "papermill": {
     "duration": 0.04293,
     "end_time": "2021-04-04T23:03:48.835103",
     "exception": false,
     "start_time": "2021-04-04T23:03:48.792173",
     "status": "completed"
    },
    "tags": []
   },
   "outputs": [],
   "source": [
    "df = pd.read_csv(dataset_config['dataset_path'])"
   ]
  },
  {
   "cell_type": "code",
   "execution_count": 6,
   "id": "7eca6c4a",
   "metadata": {
    "execution": {
     "iopub.execute_input": "2021-04-04T23:03:48.888699Z",
     "iopub.status.busy": "2021-04-04T23:03:48.885904Z",
     "iopub.status.idle": "2021-04-04T23:03:48.900341Z",
     "shell.execute_reply": "2021-04-04T23:03:48.900818Z"
    },
    "papermill": {
     "duration": 0.045267,
     "end_time": "2021-04-04T23:03:48.900965",
     "exception": false,
     "start_time": "2021-04-04T23:03:48.855698",
     "status": "completed"
    },
    "tags": []
   },
   "outputs": [
    {
     "name": "stdout",
     "output_type": "stream",
     "text": [
      "<class 'pandas.core.frame.DataFrame'>\n",
      "RangeIndex: 2109 entries, 0 to 2108\n",
      "Data columns (total 23 columns):\n",
      " #   Column             Non-Null Count  Dtype  \n",
      "---  ------             --------------  -----  \n",
      " 0   id                 2109 non-null   int64  \n",
      " 1   loc                2109 non-null   float64\n",
      " 2   v(g)               2109 non-null   float64\n",
      " 3   ev(g)              2109 non-null   float64\n",
      " 4   iv(g)              2109 non-null   float64\n",
      " 5   n                  2109 non-null   float64\n",
      " 6   v                  2109 non-null   float64\n",
      " 7   l                  2109 non-null   float64\n",
      " 8   d                  2109 non-null   float64\n",
      " 9   i                  2109 non-null   float64\n",
      " 10  e                  2109 non-null   float64\n",
      " 11  b                  2109 non-null   float64\n",
      " 12  t                  2109 non-null   float64\n",
      " 13  lOCode             2109 non-null   int64  \n",
      " 14  lOComment          2109 non-null   int64  \n",
      " 15  lOBlank            2109 non-null   int64  \n",
      " 16  locCodeAndComment  2109 non-null   int64  \n",
      " 17  uniq_Op            2109 non-null   float64\n",
      " 18  uniq_Opnd          2109 non-null   float64\n",
      " 19  total_Op           2109 non-null   float64\n",
      " 20  total_Opnd         2109 non-null   float64\n",
      " 21  branchCount        2109 non-null   float64\n",
      " 22  defects            2109 non-null   bool   \n",
      "dtypes: bool(1), float64(17), int64(5)\n",
      "memory usage: 364.7 KB\n"
     ]
    }
   ],
   "source": [
    "df.info()"
   ]
  },
  {
   "cell_type": "code",
   "execution_count": 7,
   "id": "3638e5e8",
   "metadata": {
    "execution": {
     "iopub.execute_input": "2021-04-04T23:03:48.954122Z",
     "iopub.status.busy": "2021-04-04T23:03:48.953478Z",
     "iopub.status.idle": "2021-04-04T23:03:48.983332Z",
     "shell.execute_reply": "2021-04-04T23:03:48.982140Z"
    },
    "papermill": {
     "duration": 0.058005,
     "end_time": "2021-04-04T23:03:48.983670",
     "exception": false,
     "start_time": "2021-04-04T23:03:48.925665",
     "status": "completed"
    },
    "tags": []
   },
   "outputs": [
    {
     "data": {
      "text/html": [
       "<div>\n",
       "<style scoped>\n",
       "    .dataframe tbody tr th:only-of-type {\n",
       "        vertical-align: middle;\n",
       "    }\n",
       "\n",
       "    .dataframe tbody tr th {\n",
       "        vertical-align: top;\n",
       "    }\n",
       "\n",
       "    .dataframe thead th {\n",
       "        text-align: right;\n",
       "    }\n",
       "</style>\n",
       "<table border=\"1\" class=\"dataframe\">\n",
       "  <thead>\n",
       "    <tr style=\"text-align: right;\">\n",
       "      <th></th>\n",
       "      <th>id</th>\n",
       "      <th>loc</th>\n",
       "      <th>v(g)</th>\n",
       "      <th>ev(g)</th>\n",
       "      <th>iv(g)</th>\n",
       "      <th>n</th>\n",
       "      <th>v</th>\n",
       "      <th>l</th>\n",
       "      <th>d</th>\n",
       "      <th>i</th>\n",
       "      <th>...</th>\n",
       "      <th>lOCode</th>\n",
       "      <th>lOComment</th>\n",
       "      <th>lOBlank</th>\n",
       "      <th>locCodeAndComment</th>\n",
       "      <th>uniq_Op</th>\n",
       "      <th>uniq_Opnd</th>\n",
       "      <th>total_Op</th>\n",
       "      <th>total_Opnd</th>\n",
       "      <th>branchCount</th>\n",
       "      <th>defects</th>\n",
       "    </tr>\n",
       "  </thead>\n",
       "  <tbody>\n",
       "    <tr>\n",
       "      <th>0</th>\n",
       "      <td>1</td>\n",
       "      <td>1.1</td>\n",
       "      <td>1.4</td>\n",
       "      <td>1.4</td>\n",
       "      <td>1.4</td>\n",
       "      <td>1.3</td>\n",
       "      <td>1.30</td>\n",
       "      <td>1.30</td>\n",
       "      <td>1.30</td>\n",
       "      <td>1.30</td>\n",
       "      <td>...</td>\n",
       "      <td>2</td>\n",
       "      <td>2</td>\n",
       "      <td>2</td>\n",
       "      <td>2</td>\n",
       "      <td>1.2</td>\n",
       "      <td>1.2</td>\n",
       "      <td>1.2</td>\n",
       "      <td>1.2</td>\n",
       "      <td>1.4</td>\n",
       "      <td>False</td>\n",
       "    </tr>\n",
       "    <tr>\n",
       "      <th>1</th>\n",
       "      <td>2</td>\n",
       "      <td>1.0</td>\n",
       "      <td>1.0</td>\n",
       "      <td>1.0</td>\n",
       "      <td>1.0</td>\n",
       "      <td>1.0</td>\n",
       "      <td>1.00</td>\n",
       "      <td>1.00</td>\n",
       "      <td>1.00</td>\n",
       "      <td>1.00</td>\n",
       "      <td>...</td>\n",
       "      <td>1</td>\n",
       "      <td>1</td>\n",
       "      <td>1</td>\n",
       "      <td>1</td>\n",
       "      <td>1.0</td>\n",
       "      <td>1.0</td>\n",
       "      <td>1.0</td>\n",
       "      <td>1.0</td>\n",
       "      <td>1.0</td>\n",
       "      <td>True</td>\n",
       "    </tr>\n",
       "    <tr>\n",
       "      <th>2</th>\n",
       "      <td>3</td>\n",
       "      <td>83.0</td>\n",
       "      <td>11.0</td>\n",
       "      <td>1.0</td>\n",
       "      <td>11.0</td>\n",
       "      <td>171.0</td>\n",
       "      <td>927.89</td>\n",
       "      <td>0.04</td>\n",
       "      <td>23.04</td>\n",
       "      <td>40.27</td>\n",
       "      <td>...</td>\n",
       "      <td>65</td>\n",
       "      <td>10</td>\n",
       "      <td>6</td>\n",
       "      <td>0</td>\n",
       "      <td>18.0</td>\n",
       "      <td>25.0</td>\n",
       "      <td>107.0</td>\n",
       "      <td>64.0</td>\n",
       "      <td>21.0</td>\n",
       "      <td>True</td>\n",
       "    </tr>\n",
       "    <tr>\n",
       "      <th>3</th>\n",
       "      <td>4</td>\n",
       "      <td>46.0</td>\n",
       "      <td>8.0</td>\n",
       "      <td>6.0</td>\n",
       "      <td>8.0</td>\n",
       "      <td>141.0</td>\n",
       "      <td>769.78</td>\n",
       "      <td>0.07</td>\n",
       "      <td>14.86</td>\n",
       "      <td>51.81</td>\n",
       "      <td>...</td>\n",
       "      <td>37</td>\n",
       "      <td>2</td>\n",
       "      <td>5</td>\n",
       "      <td>0</td>\n",
       "      <td>16.0</td>\n",
       "      <td>28.0</td>\n",
       "      <td>89.0</td>\n",
       "      <td>52.0</td>\n",
       "      <td>15.0</td>\n",
       "      <td>True</td>\n",
       "    </tr>\n",
       "    <tr>\n",
       "      <th>4</th>\n",
       "      <td>5</td>\n",
       "      <td>25.0</td>\n",
       "      <td>3.0</td>\n",
       "      <td>1.0</td>\n",
       "      <td>3.0</td>\n",
       "      <td>58.0</td>\n",
       "      <td>254.75</td>\n",
       "      <td>0.11</td>\n",
       "      <td>9.35</td>\n",
       "      <td>27.25</td>\n",
       "      <td>...</td>\n",
       "      <td>21</td>\n",
       "      <td>0</td>\n",
       "      <td>2</td>\n",
       "      <td>0</td>\n",
       "      <td>11.0</td>\n",
       "      <td>10.0</td>\n",
       "      <td>41.0</td>\n",
       "      <td>17.0</td>\n",
       "      <td>5.0</td>\n",
       "      <td>True</td>\n",
       "    </tr>\n",
       "  </tbody>\n",
       "</table>\n",
       "<p>5 rows × 23 columns</p>\n",
       "</div>"
      ],
      "text/plain": [
       "   id   loc  v(g)  ev(g)  iv(g)      n       v     l      d      i  ...  \\\n",
       "0   1   1.1   1.4    1.4    1.4    1.3    1.30  1.30   1.30   1.30  ...   \n",
       "1   2   1.0   1.0    1.0    1.0    1.0    1.00  1.00   1.00   1.00  ...   \n",
       "2   3  83.0  11.0    1.0   11.0  171.0  927.89  0.04  23.04  40.27  ...   \n",
       "3   4  46.0   8.0    6.0    8.0  141.0  769.78  0.07  14.86  51.81  ...   \n",
       "4   5  25.0   3.0    1.0    3.0   58.0  254.75  0.11   9.35  27.25  ...   \n",
       "\n",
       "   lOCode  lOComment  lOBlank  locCodeAndComment  uniq_Op  uniq_Opnd  \\\n",
       "0       2          2        2                  2      1.2        1.2   \n",
       "1       1          1        1                  1      1.0        1.0   \n",
       "2      65         10        6                  0     18.0       25.0   \n",
       "3      37          2        5                  0     16.0       28.0   \n",
       "4      21          0        2                  0     11.0       10.0   \n",
       "\n",
       "   total_Op  total_Opnd  branchCount  defects  \n",
       "0       1.2         1.2          1.4    False  \n",
       "1       1.0         1.0          1.0     True  \n",
       "2     107.0        64.0         21.0     True  \n",
       "3      89.0        52.0         15.0     True  \n",
       "4      41.0        17.0          5.0     True  \n",
       "\n",
       "[5 rows x 23 columns]"
      ]
     },
     "execution_count": 7,
     "metadata": {},
     "output_type": "execute_result"
    }
   ],
   "source": [
    "df.head()"
   ]
  },
  {
   "cell_type": "code",
   "execution_count": 8,
   "id": "733e95eb",
   "metadata": {
    "execution": {
     "iopub.execute_input": "2021-04-04T23:03:49.038157Z",
     "iopub.status.busy": "2021-04-04T23:03:49.036410Z",
     "iopub.status.idle": "2021-04-04T23:03:49.040222Z",
     "shell.execute_reply": "2021-04-04T23:03:49.039702Z"
    },
    "papermill": {
     "duration": 0.0334,
     "end_time": "2021-04-04T23:03:49.040345",
     "exception": false,
     "start_time": "2021-04-04T23:03:49.006945",
     "status": "completed"
    },
    "tags": []
   },
   "outputs": [],
   "source": [
    "del df['id']"
   ]
  },
  {
   "cell_type": "code",
   "execution_count": 9,
   "id": "6ff6f5b0",
   "metadata": {
    "execution": {
     "iopub.execute_input": "2021-04-04T23:03:49.089894Z",
     "iopub.status.busy": "2021-04-04T23:03:49.089186Z",
     "iopub.status.idle": "2021-04-04T23:03:49.090937Z",
     "shell.execute_reply": "2021-04-04T23:03:49.091400Z"
    },
    "papermill": {
     "duration": 0.030055,
     "end_time": "2021-04-04T23:03:49.091543",
     "exception": false,
     "start_time": "2021-04-04T23:03:49.061488",
     "status": "completed"
    },
    "tags": []
   },
   "outputs": [],
   "source": [
    "if PROFILE_REPORTING:\n",
    "    ProfileReport(df).to_widgets()"
   ]
  },
  {
   "cell_type": "markdown",
   "id": "1deaf3f0",
   "metadata": {
    "papermill": {
     "duration": 0.02755,
     "end_time": "2021-04-04T23:03:49.141305",
     "exception": false,
     "start_time": "2021-04-04T23:03:49.113755",
     "status": "completed"
    },
    "tags": []
   },
   "source": [
    "# Preprocess"
   ]
  },
  {
   "cell_type": "code",
   "execution_count": 10,
   "id": "1513e563",
   "metadata": {
    "execution": {
     "iopub.execute_input": "2021-04-04T23:03:49.195181Z",
     "iopub.status.busy": "2021-04-04T23:03:49.194275Z",
     "iopub.status.idle": "2021-04-04T23:03:49.196276Z",
     "shell.execute_reply": "2021-04-04T23:03:49.196902Z"
    },
    "papermill": {
     "duration": 0.032487,
     "end_time": "2021-04-04T23:03:49.197079",
     "exception": false,
     "start_time": "2021-04-04T23:03:49.164592",
     "status": "completed"
    },
    "tags": []
   },
   "outputs": [],
   "source": [
    "working_df = df.copy()"
   ]
  },
  {
   "cell_type": "code",
   "execution_count": 11,
   "id": "3b26d675",
   "metadata": {
    "execution": {
     "iopub.execute_input": "2021-04-04T23:03:49.254492Z",
     "iopub.status.busy": "2021-04-04T23:03:49.253718Z",
     "iopub.status.idle": "2021-04-04T23:03:49.256351Z",
     "shell.execute_reply": "2021-04-04T23:03:49.256852Z"
    },
    "papermill": {
     "duration": 0.035435,
     "end_time": "2021-04-04T23:03:49.256998",
     "exception": false,
     "start_time": "2021-04-04T23:03:49.221563",
     "status": "completed"
    },
    "tags": []
   },
   "outputs": [],
   "source": [
    "working_df['defects'] = working_df['defects'].replace([False, True], [0, 1])"
   ]
  },
  {
   "cell_type": "code",
   "execution_count": 12,
   "id": "eb48604f",
   "metadata": {
    "execution": {
     "iopub.execute_input": "2021-04-04T23:03:49.308425Z",
     "iopub.status.busy": "2021-04-04T23:03:49.307839Z",
     "iopub.status.idle": "2021-04-04T23:03:49.309819Z",
     "shell.execute_reply": "2021-04-04T23:03:49.310264Z"
    },
    "papermill": {
     "duration": 0.030944,
     "end_time": "2021-04-04T23:03:49.310403",
     "exception": false,
     "start_time": "2021-04-04T23:03:49.279459",
     "status": "completed"
    },
    "tags": []
   },
   "outputs": [],
   "source": [
    "for col in dataset_config['delete_columns']:\n",
    "    del working_df[col]"
   ]
  },
  {
   "cell_type": "code",
   "execution_count": 13,
   "id": "9a17bc29",
   "metadata": {
    "execution": {
     "iopub.execute_input": "2021-04-04T23:03:49.374160Z",
     "iopub.status.busy": "2021-04-04T23:03:49.373092Z",
     "iopub.status.idle": "2021-04-04T23:03:49.387502Z",
     "shell.execute_reply": "2021-04-04T23:03:49.386607Z"
    },
    "papermill": {
     "duration": 0.054879,
     "end_time": "2021-04-04T23:03:49.387856",
     "exception": false,
     "start_time": "2021-04-04T23:03:49.332977",
     "status": "completed"
    },
    "tags": []
   },
   "outputs": [],
   "source": [
    "working_df = working_df.drop_duplicates()"
   ]
  },
  {
   "cell_type": "markdown",
   "id": "a4d52ca6",
   "metadata": {
    "papermill": {
     "duration": 0.031057,
     "end_time": "2021-04-04T23:03:49.450848",
     "exception": false,
     "start_time": "2021-04-04T23:03:49.419791",
     "status": "completed"
    },
    "tags": []
   },
   "source": [
    "# Split"
   ]
  },
  {
   "cell_type": "code",
   "execution_count": 14,
   "id": "3e9ee4b5",
   "metadata": {
    "execution": {
     "iopub.execute_input": "2021-04-04T23:03:49.510113Z",
     "iopub.status.busy": "2021-04-04T23:03:49.509412Z",
     "iopub.status.idle": "2021-04-04T23:03:49.542162Z",
     "shell.execute_reply": "2021-04-04T23:03:49.541565Z"
    },
    "papermill": {
     "duration": 0.068926,
     "end_time": "2021-04-04T23:03:49.542297",
     "exception": false,
     "start_time": "2021-04-04T23:03:49.473371",
     "status": "completed"
    },
    "tags": []
   },
   "outputs": [],
   "source": [
    "from sklearn.model_selection import train_test_split"
   ]
  },
  {
   "cell_type": "code",
   "execution_count": 15,
   "id": "274004ce",
   "metadata": {
    "execution": {
     "iopub.execute_input": "2021-04-04T23:03:49.597813Z",
     "iopub.status.busy": "2021-04-04T23:03:49.596537Z",
     "iopub.status.idle": "2021-04-04T23:03:49.604242Z",
     "shell.execute_reply": "2021-04-04T23:03:49.603714Z"
    },
    "papermill": {
     "duration": 0.037795,
     "end_time": "2021-04-04T23:03:49.604357",
     "exception": false,
     "start_time": "2021-04-04T23:03:49.566562",
     "status": "completed"
    },
    "scrolled": true,
    "tags": []
   },
   "outputs": [],
   "source": [
    "inlier, outlier = working_df[working_df['defects'] == 0], working_df[working_df['defects'] == 1]"
   ]
  },
  {
   "cell_type": "code",
   "execution_count": 16,
   "id": "753c7b03",
   "metadata": {
    "execution": {
     "iopub.execute_input": "2021-04-04T23:03:49.659838Z",
     "iopub.status.busy": "2021-04-04T23:03:49.658425Z",
     "iopub.status.idle": "2021-04-04T23:03:49.661647Z",
     "shell.execute_reply": "2021-04-04T23:03:49.662118Z"
    },
    "papermill": {
     "duration": 0.035093,
     "end_time": "2021-04-04T23:03:49.662264",
     "exception": false,
     "start_time": "2021-04-04T23:03:49.627171",
     "status": "completed"
    },
    "tags": []
   },
   "outputs": [],
   "source": [
    "X_inlier = inlier.copy()\n",
    "y_inlier = X_inlier.pop('defects')\n",
    "X_outlier = outlier.copy()\n",
    "y_outlier = X_outlier.pop('defects')"
   ]
  },
  {
   "cell_type": "code",
   "execution_count": 17,
   "id": "2ba43193",
   "metadata": {
    "execution": {
     "iopub.execute_input": "2021-04-04T23:03:49.715409Z",
     "iopub.status.busy": "2021-04-04T23:03:49.714676Z",
     "iopub.status.idle": "2021-04-04T23:03:49.718802Z",
     "shell.execute_reply": "2021-04-04T23:03:49.718285Z"
    },
    "papermill": {
     "duration": 0.033758,
     "end_time": "2021-04-04T23:03:49.718925",
     "exception": false,
     "start_time": "2021-04-04T23:03:49.685167",
     "status": "completed"
    },
    "tags": []
   },
   "outputs": [],
   "source": [
    "test_size = dataset_config['test_size']\n",
    "random_state = dataset_config['random_state']\n",
    "\n",
    "X_inlier_train, X_inlier_test, y_inlier_train, y_inlier_test = train_test_split(\n",
    "    X_inlier,\n",
    "    y_inlier,\n",
    "    test_size=test_size,\n",
    "    random_state=random_state\n",
    ")"
   ]
  },
  {
   "cell_type": "code",
   "execution_count": 18,
   "id": "0b7582ca",
   "metadata": {
    "execution": {
     "iopub.execute_input": "2021-04-04T23:03:49.791034Z",
     "iopub.status.busy": "2021-04-04T23:03:49.788920Z",
     "iopub.status.idle": "2021-04-04T23:03:49.794163Z",
     "shell.execute_reply": "2021-04-04T23:03:49.795565Z"
    },
    "papermill": {
     "duration": 0.047783,
     "end_time": "2021-04-04T23:03:49.795937",
     "exception": false,
     "start_time": "2021-04-04T23:03:49.748154",
     "status": "completed"
    },
    "tags": []
   },
   "outputs": [],
   "source": [
    "test_outlier_size = dataset_config['test_outlier_size']\n",
    "if test_outlier_size > 0.0:\n",
    "    X_outlier_train, X_outlier_test, y_outlier_train, y_outlier_test = train_test_split(\n",
    "        X_outlier,\n",
    "        y_outlier,\n",
    "        test_size=test_outlier_size,\n",
    "        random_state=random_state\n",
    "    )\n",
    "else:\n",
    "    X_outlier_train, y_outlier_train = pd.DataFrame(columns=X_outlier.columns), pd.Series(dtype='int64')\n",
    "    X_outlier_test, y_outlier_test = X_outlier.copy(), y_outlier.copy()"
   ]
  },
  {
   "cell_type": "code",
   "execution_count": 19,
   "id": "c34363db",
   "metadata": {
    "execution": {
     "iopub.execute_input": "2021-04-04T23:03:49.860184Z",
     "iopub.status.busy": "2021-04-04T23:03:49.859558Z",
     "iopub.status.idle": "2021-04-04T23:03:49.861552Z",
     "shell.execute_reply": "2021-04-04T23:03:49.862010Z"
    },
    "papermill": {
     "duration": 0.034434,
     "end_time": "2021-04-04T23:03:49.862150",
     "exception": false,
     "start_time": "2021-04-04T23:03:49.827716",
     "status": "completed"
    },
    "tags": []
   },
   "outputs": [],
   "source": [
    "X_train, y_train = pd.concat([X_inlier_train, X_outlier_train], ignore_index=True), pd.concat([y_inlier_train, y_outlier_train], ignore_index=True)\n",
    "X_test, y_test = pd.concat([X_inlier_test, X_outlier_test], ignore_index=True), pd.concat([y_inlier_test, y_outlier_test], ignore_index=True)"
   ]
  },
  {
   "cell_type": "markdown",
   "id": "7cde7309",
   "metadata": {
    "papermill": {
     "duration": 0.030635,
     "end_time": "2021-04-04T23:03:49.917881",
     "exception": false,
     "start_time": "2021-04-04T23:03:49.887246",
     "status": "completed"
    },
    "tags": []
   },
   "source": [
    "# Model"
   ]
  },
  {
   "cell_type": "code",
   "execution_count": 20,
   "id": "2b12a415",
   "metadata": {
    "execution": {
     "iopub.execute_input": "2021-04-04T23:03:49.976606Z",
     "iopub.status.busy": "2021-04-04T23:03:49.975731Z",
     "iopub.status.idle": "2021-04-04T23:03:49.978313Z",
     "shell.execute_reply": "2021-04-04T23:03:49.977805Z"
    },
    "papermill": {
     "duration": 0.035654,
     "end_time": "2021-04-04T23:03:49.978432",
     "exception": false,
     "start_time": "2021-04-04T23:03:49.942778",
     "status": "completed"
    },
    "tags": []
   },
   "outputs": [],
   "source": [
    "from math import sqrt\n",
    "\n",
    "\n",
    "class KNNDataDescription:\n",
    "    def __init__(self, k=5, outlier_threshold=1.0):\n",
    "        self.k = k\n",
    "        self.outlier_threshold = outlier_threshold\n",
    "        self.X = []\n",
    "    \n",
    "    def fit(self, X):\n",
    "        self.X = [features.to_list() for index, features in X.iterrows()]\n",
    "\n",
    "    def predict(self, entries):\n",
    "        return [self.predict_entry(features.to_list()) for index, features in entries.iterrows()]\n",
    "    \n",
    "    def predict_entry(self, entry):\n",
    "        kth_neighbor, kth_distance = self.get_kth_neighbor(entry, self.k)\n",
    "        kth_kth_neighbor, kth_kth_distance = self.get_kth_neighbor(kth_neighbor, self.k + 1)\n",
    "\n",
    "        outlier_score = kth_distance / (kth_kth_distance + 0.000001)\n",
    "\n",
    "        return 1 if outlier_score < self.outlier_threshold else -1\n",
    "        \n",
    "    def euclidean_distance(self, features1, features2):\n",
    "        distance = 0.0\n",
    "        for feat1, feat2 in zip(features1, features2):\n",
    "            distance += (feat1 - feat2)**2\n",
    "                \n",
    "        return sqrt(distance)\n",
    "\n",
    "    def get_neighbors(self, entry, k):\n",
    "        distance_to_data_points = [\n",
    "            (data_point, self.euclidean_distance(entry, data_point))\n",
    "            for data_point in self.X\n",
    "        ]\n",
    "        sorted_by_distance = sorted(distance_to_data_points, key=lambda tup: tup[1])\n",
    "        neighbors = sorted_by_distance[:k]\n",
    "        return neighbors\n",
    "\n",
    "    def get_kth_neighbor(self, entry, k):\n",
    "        neighbors = self.get_neighbors(entry, k)\n",
    "        return neighbors[-1]\n"
   ]
  },
  {
   "cell_type": "code",
   "execution_count": 21,
   "id": "1fa9ec1c",
   "metadata": {
    "execution": {
     "iopub.execute_input": "2021-04-04T23:03:50.038356Z",
     "iopub.status.busy": "2021-04-04T23:03:50.037345Z",
     "iopub.status.idle": "2021-04-04T23:03:50.060320Z",
     "shell.execute_reply": "2021-04-04T23:03:50.059627Z"
    },
    "papermill": {
     "duration": 0.055368,
     "end_time": "2021-04-04T23:03:50.060461",
     "exception": false,
     "start_time": "2021-04-04T23:03:50.005093",
     "status": "completed"
    },
    "tags": []
   },
   "outputs": [],
   "source": [
    "from sklearn.svm import OneClassSVM\n",
    "\n",
    "\n",
    "models = {\n",
    "    'oneclasssvm': OneClassSVM,\n",
    "    'knndatadescription': KNNDataDescription,\n",
    "}"
   ]
  },
  {
   "cell_type": "code",
   "execution_count": 22,
   "id": "4d72a0b1",
   "metadata": {
    "execution": {
     "iopub.execute_input": "2021-04-04T23:03:50.114233Z",
     "iopub.status.busy": "2021-04-04T23:03:50.113174Z",
     "iopub.status.idle": "2021-04-04T23:03:50.116670Z",
     "shell.execute_reply": "2021-04-04T23:03:50.117832Z"
    },
    "papermill": {
     "duration": 0.033598,
     "end_time": "2021-04-04T23:03:50.118090",
     "exception": false,
     "start_time": "2021-04-04T23:03:50.084492",
     "status": "completed"
    },
    "scrolled": true,
    "tags": []
   },
   "outputs": [],
   "source": [
    "model_cls = models[model_config['model_type']]\n",
    "model = model_cls(**model_config['hyperparameters'])"
   ]
  },
  {
   "cell_type": "markdown",
   "id": "e00cff3b",
   "metadata": {
    "papermill": {
     "duration": 0.026761,
     "end_time": "2021-04-04T23:03:50.169277",
     "exception": false,
     "start_time": "2021-04-04T23:03:50.142516",
     "status": "completed"
    },
    "tags": []
   },
   "source": [
    "# Fit"
   ]
  },
  {
   "cell_type": "code",
   "execution_count": 23,
   "id": "8b2ded89",
   "metadata": {
    "execution": {
     "iopub.execute_input": "2021-04-04T23:03:50.224753Z",
     "iopub.status.busy": "2021-04-04T23:03:50.224110Z",
     "iopub.status.idle": "2021-04-04T23:03:50.254150Z",
     "shell.execute_reply": "2021-04-04T23:03:50.253433Z"
    },
    "papermill": {
     "duration": 0.061489,
     "end_time": "2021-04-04T23:03:50.254436",
     "exception": false,
     "start_time": "2021-04-04T23:03:50.192947",
     "status": "completed"
    },
    "tags": []
   },
   "outputs": [
    {
     "data": {
      "text/plain": [
       "OneClassSVM()"
      ]
     },
     "execution_count": 23,
     "metadata": {},
     "output_type": "execute_result"
    }
   ],
   "source": [
    "model.fit(X_train)"
   ]
  },
  {
   "cell_type": "markdown",
   "id": "f99999f7",
   "metadata": {
    "papermill": {
     "duration": 0.032432,
     "end_time": "2021-04-04T23:03:50.313181",
     "exception": false,
     "start_time": "2021-04-04T23:03:50.280749",
     "status": "completed"
    },
    "tags": []
   },
   "source": [
    "# Predict"
   ]
  },
  {
   "cell_type": "code",
   "execution_count": 24,
   "id": "6536fbf7",
   "metadata": {
    "execution": {
     "iopub.execute_input": "2021-04-04T23:03:50.383178Z",
     "iopub.status.busy": "2021-04-04T23:03:50.382378Z",
     "iopub.status.idle": "2021-04-04T23:03:50.396575Z",
     "shell.execute_reply": "2021-04-04T23:03:50.397240Z"
    },
    "papermill": {
     "duration": 0.059368,
     "end_time": "2021-04-04T23:03:50.397463",
     "exception": false,
     "start_time": "2021-04-04T23:03:50.338095",
     "status": "completed"
    },
    "tags": []
   },
   "outputs": [],
   "source": [
    "predictions = model.predict(X_test)"
   ]
  },
  {
   "cell_type": "markdown",
   "id": "aa1c9881",
   "metadata": {
    "papermill": {
     "duration": 0.030697,
     "end_time": "2021-04-04T23:03:50.460076",
     "exception": false,
     "start_time": "2021-04-04T23:03:50.429379",
     "status": "completed"
    },
    "tags": []
   },
   "source": [
    "# Evaluate"
   ]
  },
  {
   "cell_type": "code",
   "execution_count": 25,
   "id": "894f0f04",
   "metadata": {
    "execution": {
     "iopub.execute_input": "2021-04-04T23:03:50.519833Z",
     "iopub.status.busy": "2021-04-04T23:03:50.518981Z",
     "iopub.status.idle": "2021-04-04T23:03:50.521274Z",
     "shell.execute_reply": "2021-04-04T23:03:50.520762Z"
    },
    "papermill": {
     "duration": 0.035537,
     "end_time": "2021-04-04T23:03:50.521395",
     "exception": false,
     "start_time": "2021-04-04T23:03:50.485858",
     "status": "completed"
    },
    "tags": []
   },
   "outputs": [],
   "source": [
    "from sklearn.metrics import f1_score"
   ]
  },
  {
   "cell_type": "code",
   "execution_count": 26,
   "id": "211744d3",
   "metadata": {
    "execution": {
     "iopub.execute_input": "2021-04-04T23:03:50.583138Z",
     "iopub.status.busy": "2021-04-04T23:03:50.582187Z",
     "iopub.status.idle": "2021-04-04T23:03:50.585055Z",
     "shell.execute_reply": "2021-04-04T23:03:50.584106Z"
    },
    "papermill": {
     "duration": 0.039986,
     "end_time": "2021-04-04T23:03:50.585358",
     "exception": false,
     "start_time": "2021-04-04T23:03:50.545372",
     "status": "completed"
    },
    "tags": []
   },
   "outputs": [],
   "source": [
    "y_test = y_test.replace([0, 1], [1, -1])"
   ]
  },
  {
   "cell_type": "code",
   "execution_count": 27,
   "id": "d68a9204",
   "metadata": {
    "execution": {
     "iopub.execute_input": "2021-04-04T23:03:50.645237Z",
     "iopub.status.busy": "2021-04-04T23:03:50.644444Z",
     "iopub.status.idle": "2021-04-04T23:03:50.646107Z",
     "shell.execute_reply": "2021-04-04T23:03:50.646640Z"
    },
    "papermill": {
     "duration": 0.034494,
     "end_time": "2021-04-04T23:03:50.646804",
     "exception": false,
     "start_time": "2021-04-04T23:03:50.612310",
     "status": "completed"
    },
    "tags": []
   },
   "outputs": [],
   "source": [
    "def evaluate(truths, predictions, pos_label, neg_label):\n",
    "    TP = 0\n",
    "    FP = 0\n",
    "    TN = 0\n",
    "    FN = 0\n",
    "\n",
    "    for truth, pred in zip(truths, predictions): \n",
    "        if truth == pred == pos_label:\n",
    "           TP += 1\n",
    "        elif pred == pos_label and truth == neg_label:\n",
    "           FP += 1\n",
    "        elif truth == pred == neg_label:\n",
    "           TN += 1\n",
    "        elif pred == neg_label and truth == pos_label:\n",
    "           FN += 1\n",
    "\n",
    "    precision = TP / (TP + FP)\n",
    "    sensitivity = TP / (TP + FN)\n",
    "    \n",
    "    return {\n",
    "        'true_pos': TP,\n",
    "        'false_pos': FP,\n",
    "        'false_neg': FN,\n",
    "        'true_neg': TN,\n",
    "        'precision': precision,\n",
    "        'sensitivity': sensitivity,\n",
    "        'f1': (2 * (precision * sensitivity)) / (precision + sensitivity)\n",
    "    }\n",
    "\n",
    "score = evaluate(y_test, predictions, pos_label=-1, neg_label=1)"
   ]
  },
  {
   "cell_type": "markdown",
   "id": "93596516",
   "metadata": {
    "papermill": {
     "duration": 0.028247,
     "end_time": "2021-04-04T23:03:50.702150",
     "exception": false,
     "start_time": "2021-04-04T23:03:50.673903",
     "status": "completed"
    },
    "tags": []
   },
   "source": [
    "# Report"
   ]
  },
  {
   "cell_type": "code",
   "execution_count": 28,
   "id": "bea5fba1",
   "metadata": {
    "execution": {
     "iopub.execute_input": "2021-04-04T23:03:50.764308Z",
     "iopub.status.busy": "2021-04-04T23:03:50.763184Z",
     "iopub.status.idle": "2021-04-04T23:03:50.767393Z",
     "shell.execute_reply": "2021-04-04T23:03:50.765756Z"
    },
    "papermill": {
     "duration": 0.038917,
     "end_time": "2021-04-04T23:03:50.767728",
     "exception": false,
     "start_time": "2021-04-04T23:03:50.728811",
     "status": "completed"
    },
    "tags": []
   },
   "outputs": [],
   "source": [
    "import csv\n",
    "\n",
    "\n",
    "dataset_config_name = DATASET_CONFIG_PATH.split('/')[-1].split('.')[0]\n",
    "model_config_name = MODEL_CONFIG_PATH.split('/')[-1].split('.')[0]\n",
    "configuration = f\"dataset_{dataset_config_name}-model_{model_config_name}\"\n",
    "\n",
    "with open('results.csv', 'a') as f:\n",
    "    report = dict({'configuration': configuration}, **score)\n",
    "    writer = csv.DictWriter(f, report.keys())\n",
    "    writer.writerow(report)"
   ]
  }
 ],
 "metadata": {
  "celltoolbar": "Tags",
  "kernelspec": {
   "display_name": "Python 3",
   "language": "python",
   "name": "python3"
  },
  "language_info": {
   "codemirror_mode": {
    "name": "ipython",
    "version": 3
   },
   "file_extension": ".py",
   "mimetype": "text/x-python",
   "name": "python",
   "nbconvert_exporter": "python",
   "pygments_lexer": "ipython3",
   "version": "3.9.1"
  },
  "papermill": {
   "default_parameters": {},
   "duration": 5.06375,
   "end_time": "2021-04-04T23:03:51.400235",
   "environment_variables": {},
   "exception": null,
   "input_path": "main.ipynb",
   "output_path": "runs/dataset_000077-model_000004.ipynb",
   "parameters": {
    "DATASET_CONFIG_PATH": "config/dataset/000077.json",
    "MODEL_CONFIG_PATH": "config/model/000004.json",
    "PROFILE_REPORTING": false
   },
   "start_time": "2021-04-04T23:03:46.336485",
   "version": "2.3.3"
  }
 },
 "nbformat": 4,
 "nbformat_minor": 5
}