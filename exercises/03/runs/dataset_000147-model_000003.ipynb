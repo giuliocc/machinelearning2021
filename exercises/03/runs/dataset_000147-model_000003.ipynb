{
 "cells": [
  {
   "cell_type": "markdown",
   "id": "51c71c25",
   "metadata": {
    "papermill": {
     "duration": 0.021236,
     "end_time": "2021-04-04T23:32:30.045670",
     "exception": false,
     "start_time": "2021-04-04T23:32:30.024434",
     "status": "completed"
    },
    "tags": []
   },
   "source": [
    "# Parametrizing"
   ]
  },
  {
   "cell_type": "code",
   "execution_count": 1,
   "id": "3b136394",
   "metadata": {
    "execution": {
     "iopub.execute_input": "2021-04-04T23:32:30.103738Z",
     "iopub.status.busy": "2021-04-04T23:32:30.102750Z",
     "iopub.status.idle": "2021-04-04T23:32:30.105743Z",
     "shell.execute_reply": "2021-04-04T23:32:30.104801Z"
    },
    "papermill": {
     "duration": 0.037315,
     "end_time": "2021-04-04T23:32:30.105913",
     "exception": false,
     "start_time": "2021-04-04T23:32:30.068598",
     "status": "completed"
    },
    "tags": [
     "parameters"
    ]
   },
   "outputs": [],
   "source": [
    "DATASET_CONFIG_PATH = 'config/dataset/kc1_001.json'\n",
    "MODEL_CONFIG_PATH = 'config/model/knndd_001.json'\n",
    "PROFILE_REPORTING = False"
   ]
  },
  {
   "cell_type": "code",
   "execution_count": 2,
   "id": "27e253d4",
   "metadata": {
    "execution": {
     "iopub.execute_input": "2021-04-04T23:32:30.165674Z",
     "iopub.status.busy": "2021-04-04T23:32:30.164596Z",
     "iopub.status.idle": "2021-04-04T23:32:30.172259Z",
     "shell.execute_reply": "2021-04-04T23:32:30.170944Z"
    },
    "papermill": {
     "duration": 0.041447,
     "end_time": "2021-04-04T23:32:30.172668",
     "exception": false,
     "start_time": "2021-04-04T23:32:30.131221",
     "status": "completed"
    },
    "tags": [
     "injected-parameters"
    ]
   },
   "outputs": [],
   "source": [
    "# Parameters\n",
    "DATASET_CONFIG_PATH = \"config/dataset/000147.json\"\n",
    "MODEL_CONFIG_PATH = \"config/model/000003.json\"\n",
    "PROFILE_REPORTING = False\n"
   ]
  },
  {
   "cell_type": "code",
   "execution_count": 3,
   "id": "b80f2a10",
   "metadata": {
    "execution": {
     "iopub.execute_input": "2021-04-04T23:32:30.227310Z",
     "iopub.status.busy": "2021-04-04T23:32:30.226306Z",
     "iopub.status.idle": "2021-04-04T23:32:30.229406Z",
     "shell.execute_reply": "2021-04-04T23:32:30.230159Z"
    },
    "papermill": {
     "duration": 0.032494,
     "end_time": "2021-04-04T23:32:30.230519",
     "exception": false,
     "start_time": "2021-04-04T23:32:30.198025",
     "status": "completed"
    },
    "tags": []
   },
   "outputs": [],
   "source": [
    "import json\n",
    "\n",
    "\n",
    "with open(DATASET_CONFIG_PATH) as f:\n",
    "    dataset_config = json.load(f)\n",
    "\n",
    "with open(MODEL_CONFIG_PATH) as f:\n",
    "    model_config = json.load(f)"
   ]
  },
  {
   "cell_type": "markdown",
   "id": "9a4b0e2d",
   "metadata": {
    "papermill": {
     "duration": 0.021836,
     "end_time": "2021-04-04T23:32:30.273315",
     "exception": false,
     "start_time": "2021-04-04T23:32:30.251479",
     "status": "completed"
    },
    "tags": []
   },
   "source": [
    "# Profiling"
   ]
  },
  {
   "cell_type": "code",
   "execution_count": 4,
   "id": "a3e0289b",
   "metadata": {
    "execution": {
     "iopub.execute_input": "2021-04-04T23:32:30.340220Z",
     "iopub.status.busy": "2021-04-04T23:32:30.339432Z",
     "iopub.status.idle": "2021-04-04T23:32:31.734204Z",
     "shell.execute_reply": "2021-04-04T23:32:31.732870Z"
    },
    "papermill": {
     "duration": 1.433798,
     "end_time": "2021-04-04T23:32:31.734543",
     "exception": false,
     "start_time": "2021-04-04T23:32:30.300745",
     "status": "completed"
    },
    "tags": []
   },
   "outputs": [],
   "source": [
    "import pandas as pd\n",
    "from pandas_profiling import ProfileReport"
   ]
  },
  {
   "cell_type": "code",
   "execution_count": 5,
   "id": "ee6c0666",
   "metadata": {
    "execution": {
     "iopub.execute_input": "2021-04-04T23:32:31.788572Z",
     "iopub.status.busy": "2021-04-04T23:32:31.787919Z",
     "iopub.status.idle": "2021-04-04T23:32:31.800429Z",
     "shell.execute_reply": "2021-04-04T23:32:31.799833Z"
    },
    "papermill": {
     "duration": 0.04027,
     "end_time": "2021-04-04T23:32:31.800556",
     "exception": false,
     "start_time": "2021-04-04T23:32:31.760286",
     "status": "completed"
    },
    "tags": []
   },
   "outputs": [],
   "source": [
    "df = pd.read_csv(dataset_config['dataset_path'])"
   ]
  },
  {
   "cell_type": "code",
   "execution_count": 6,
   "id": "7eca6c4a",
   "metadata": {
    "execution": {
     "iopub.execute_input": "2021-04-04T23:32:31.877870Z",
     "iopub.status.busy": "2021-04-04T23:32:31.877038Z",
     "iopub.status.idle": "2021-04-04T23:32:31.880058Z",
     "shell.execute_reply": "2021-04-04T23:32:31.880530Z"
    },
    "papermill": {
     "duration": 0.050896,
     "end_time": "2021-04-04T23:32:31.880677",
     "exception": false,
     "start_time": "2021-04-04T23:32:31.829781",
     "status": "completed"
    },
    "tags": []
   },
   "outputs": [
    {
     "name": "stdout",
     "output_type": "stream",
     "text": [
      "<class 'pandas.core.frame.DataFrame'>\n",
      "RangeIndex: 498 entries, 0 to 497\n",
      "Data columns (total 23 columns):\n",
      " #   Column             Non-Null Count  Dtype  \n",
      "---  ------             --------------  -----  \n",
      " 0   id                 498 non-null    int64  \n",
      " 1   loc                498 non-null    float64\n",
      " 2   v(g)               498 non-null    float64\n",
      " 3   ev(g)              498 non-null    float64\n",
      " 4   iv(g)              498 non-null    float64\n",
      " 5   n                  498 non-null    float64\n",
      " 6   v                  498 non-null    float64\n",
      " 7   l                  498 non-null    float64\n",
      " 8   d                  498 non-null    float64\n",
      " 9   i                  498 non-null    float64\n",
      " 10  e                  498 non-null    float64\n",
      " 11  b                  498 non-null    float64\n",
      " 12  t                  498 non-null    float64\n",
      " 13  lOCode             498 non-null    int64  \n",
      " 14  lOComment          498 non-null    int64  \n",
      " 15  lOBlank            498 non-null    int64  \n",
      " 16  locCodeAndComment  498 non-null    int64  \n",
      " 17  uniq_Op            498 non-null    float64\n",
      " 18  uniq_Opnd          498 non-null    float64\n",
      " 19  total_Op           498 non-null    float64\n",
      " 20  total_Opnd         498 non-null    float64\n",
      " 21  branchCount        498 non-null    float64\n",
      " 22  defects            498 non-null    bool   \n",
      "dtypes: bool(1), float64(17), int64(5)\n",
      "memory usage: 86.2 KB\n"
     ]
    }
   ],
   "source": [
    "df.info()"
   ]
  },
  {
   "cell_type": "code",
   "execution_count": 7,
   "id": "3638e5e8",
   "metadata": {
    "execution": {
     "iopub.execute_input": "2021-04-04T23:32:31.938979Z",
     "iopub.status.busy": "2021-04-04T23:32:31.938098Z",
     "iopub.status.idle": "2021-04-04T23:32:31.969933Z",
     "shell.execute_reply": "2021-04-04T23:32:31.970476Z"
    },
    "papermill": {
     "duration": 0.065954,
     "end_time": "2021-04-04T23:32:31.970629",
     "exception": false,
     "start_time": "2021-04-04T23:32:31.904675",
     "status": "completed"
    },
    "tags": []
   },
   "outputs": [
    {
     "data": {
      "text/html": [
       "<div>\n",
       "<style scoped>\n",
       "    .dataframe tbody tr th:only-of-type {\n",
       "        vertical-align: middle;\n",
       "    }\n",
       "\n",
       "    .dataframe tbody tr th {\n",
       "        vertical-align: top;\n",
       "    }\n",
       "\n",
       "    .dataframe thead th {\n",
       "        text-align: right;\n",
       "    }\n",
       "</style>\n",
       "<table border=\"1\" class=\"dataframe\">\n",
       "  <thead>\n",
       "    <tr style=\"text-align: right;\">\n",
       "      <th></th>\n",
       "      <th>id</th>\n",
       "      <th>loc</th>\n",
       "      <th>v(g)</th>\n",
       "      <th>ev(g)</th>\n",
       "      <th>iv(g)</th>\n",
       "      <th>n</th>\n",
       "      <th>v</th>\n",
       "      <th>l</th>\n",
       "      <th>d</th>\n",
       "      <th>i</th>\n",
       "      <th>...</th>\n",
       "      <th>lOCode</th>\n",
       "      <th>lOComment</th>\n",
       "      <th>lOBlank</th>\n",
       "      <th>locCodeAndComment</th>\n",
       "      <th>uniq_Op</th>\n",
       "      <th>uniq_Opnd</th>\n",
       "      <th>total_Op</th>\n",
       "      <th>total_Opnd</th>\n",
       "      <th>branchCount</th>\n",
       "      <th>defects</th>\n",
       "    </tr>\n",
       "  </thead>\n",
       "  <tbody>\n",
       "    <tr>\n",
       "      <th>0</th>\n",
       "      <td>1</td>\n",
       "      <td>1.1</td>\n",
       "      <td>1.4</td>\n",
       "      <td>1.4</td>\n",
       "      <td>1.4</td>\n",
       "      <td>1.3</td>\n",
       "      <td>1.30</td>\n",
       "      <td>1.30</td>\n",
       "      <td>1.30</td>\n",
       "      <td>1.30</td>\n",
       "      <td>...</td>\n",
       "      <td>2</td>\n",
       "      <td>2</td>\n",
       "      <td>2</td>\n",
       "      <td>2</td>\n",
       "      <td>1.2</td>\n",
       "      <td>1.2</td>\n",
       "      <td>1.2</td>\n",
       "      <td>1.2</td>\n",
       "      <td>1.4</td>\n",
       "      <td>False</td>\n",
       "    </tr>\n",
       "    <tr>\n",
       "      <th>1</th>\n",
       "      <td>2</td>\n",
       "      <td>1.0</td>\n",
       "      <td>1.0</td>\n",
       "      <td>1.0</td>\n",
       "      <td>1.0</td>\n",
       "      <td>1.0</td>\n",
       "      <td>1.00</td>\n",
       "      <td>1.00</td>\n",
       "      <td>1.00</td>\n",
       "      <td>1.00</td>\n",
       "      <td>...</td>\n",
       "      <td>1</td>\n",
       "      <td>1</td>\n",
       "      <td>1</td>\n",
       "      <td>1</td>\n",
       "      <td>1.0</td>\n",
       "      <td>1.0</td>\n",
       "      <td>1.0</td>\n",
       "      <td>1.0</td>\n",
       "      <td>1.0</td>\n",
       "      <td>True</td>\n",
       "    </tr>\n",
       "    <tr>\n",
       "      <th>2</th>\n",
       "      <td>3</td>\n",
       "      <td>24.0</td>\n",
       "      <td>5.0</td>\n",
       "      <td>1.0</td>\n",
       "      <td>3.0</td>\n",
       "      <td>63.0</td>\n",
       "      <td>309.13</td>\n",
       "      <td>0.11</td>\n",
       "      <td>9.50</td>\n",
       "      <td>32.54</td>\n",
       "      <td>...</td>\n",
       "      <td>1</td>\n",
       "      <td>0</td>\n",
       "      <td>6</td>\n",
       "      <td>0</td>\n",
       "      <td>15.0</td>\n",
       "      <td>15.0</td>\n",
       "      <td>44.0</td>\n",
       "      <td>19.0</td>\n",
       "      <td>9.0</td>\n",
       "      <td>False</td>\n",
       "    </tr>\n",
       "    <tr>\n",
       "      <th>3</th>\n",
       "      <td>4</td>\n",
       "      <td>20.0</td>\n",
       "      <td>4.0</td>\n",
       "      <td>4.0</td>\n",
       "      <td>2.0</td>\n",
       "      <td>47.0</td>\n",
       "      <td>215.49</td>\n",
       "      <td>0.06</td>\n",
       "      <td>16.00</td>\n",
       "      <td>13.47</td>\n",
       "      <td>...</td>\n",
       "      <td>0</td>\n",
       "      <td>0</td>\n",
       "      <td>3</td>\n",
       "      <td>0</td>\n",
       "      <td>16.0</td>\n",
       "      <td>8.0</td>\n",
       "      <td>31.0</td>\n",
       "      <td>16.0</td>\n",
       "      <td>7.0</td>\n",
       "      <td>False</td>\n",
       "    </tr>\n",
       "    <tr>\n",
       "      <th>4</th>\n",
       "      <td>5</td>\n",
       "      <td>24.0</td>\n",
       "      <td>6.0</td>\n",
       "      <td>6.0</td>\n",
       "      <td>2.0</td>\n",
       "      <td>72.0</td>\n",
       "      <td>346.13</td>\n",
       "      <td>0.06</td>\n",
       "      <td>17.33</td>\n",
       "      <td>19.97</td>\n",
       "      <td>...</td>\n",
       "      <td>0</td>\n",
       "      <td>0</td>\n",
       "      <td>3</td>\n",
       "      <td>0</td>\n",
       "      <td>16.0</td>\n",
       "      <td>12.0</td>\n",
       "      <td>46.0</td>\n",
       "      <td>26.0</td>\n",
       "      <td>11.0</td>\n",
       "      <td>False</td>\n",
       "    </tr>\n",
       "  </tbody>\n",
       "</table>\n",
       "<p>5 rows × 23 columns</p>\n",
       "</div>"
      ],
      "text/plain": [
       "   id   loc  v(g)  ev(g)  iv(g)     n       v     l      d      i  ...  \\\n",
       "0   1   1.1   1.4    1.4    1.4   1.3    1.30  1.30   1.30   1.30  ...   \n",
       "1   2   1.0   1.0    1.0    1.0   1.0    1.00  1.00   1.00   1.00  ...   \n",
       "2   3  24.0   5.0    1.0    3.0  63.0  309.13  0.11   9.50  32.54  ...   \n",
       "3   4  20.0   4.0    4.0    2.0  47.0  215.49  0.06  16.00  13.47  ...   \n",
       "4   5  24.0   6.0    6.0    2.0  72.0  346.13  0.06  17.33  19.97  ...   \n",
       "\n",
       "   lOCode  lOComment  lOBlank  locCodeAndComment  uniq_Op  uniq_Opnd  \\\n",
       "0       2          2        2                  2      1.2        1.2   \n",
       "1       1          1        1                  1      1.0        1.0   \n",
       "2       1          0        6                  0     15.0       15.0   \n",
       "3       0          0        3                  0     16.0        8.0   \n",
       "4       0          0        3                  0     16.0       12.0   \n",
       "\n",
       "   total_Op  total_Opnd  branchCount  defects  \n",
       "0       1.2         1.2          1.4    False  \n",
       "1       1.0         1.0          1.0     True  \n",
       "2      44.0        19.0          9.0    False  \n",
       "3      31.0        16.0          7.0    False  \n",
       "4      46.0        26.0         11.0    False  \n",
       "\n",
       "[5 rows x 23 columns]"
      ]
     },
     "execution_count": 7,
     "metadata": {},
     "output_type": "execute_result"
    }
   ],
   "source": [
    "df.head()"
   ]
  },
  {
   "cell_type": "code",
   "execution_count": 8,
   "id": "733e95eb",
   "metadata": {
    "execution": {
     "iopub.execute_input": "2021-04-04T23:32:32.027960Z",
     "iopub.status.busy": "2021-04-04T23:32:32.026923Z",
     "iopub.status.idle": "2021-04-04T23:32:32.028924Z",
     "shell.execute_reply": "2021-04-04T23:32:32.030551Z"
    },
    "papermill": {
     "duration": 0.036579,
     "end_time": "2021-04-04T23:32:32.030917",
     "exception": false,
     "start_time": "2021-04-04T23:32:31.994338",
     "status": "completed"
    },
    "tags": []
   },
   "outputs": [],
   "source": [
    "del df['id']"
   ]
  },
  {
   "cell_type": "code",
   "execution_count": 9,
   "id": "6ff6f5b0",
   "metadata": {
    "execution": {
     "iopub.execute_input": "2021-04-04T23:32:32.082120Z",
     "iopub.status.busy": "2021-04-04T23:32:32.081035Z",
     "iopub.status.idle": "2021-04-04T23:32:32.085817Z",
     "shell.execute_reply": "2021-04-04T23:32:32.084376Z"
    },
    "papermill": {
     "duration": 0.030407,
     "end_time": "2021-04-04T23:32:32.086203",
     "exception": false,
     "start_time": "2021-04-04T23:32:32.055796",
     "status": "completed"
    },
    "tags": []
   },
   "outputs": [],
   "source": [
    "if PROFILE_REPORTING:\n",
    "    ProfileReport(df).to_widgets()"
   ]
  },
  {
   "cell_type": "markdown",
   "id": "1deaf3f0",
   "metadata": {
    "papermill": {
     "duration": 0.028581,
     "end_time": "2021-04-04T23:32:32.137879",
     "exception": false,
     "start_time": "2021-04-04T23:32:32.109298",
     "status": "completed"
    },
    "tags": []
   },
   "source": [
    "# Preprocess"
   ]
  },
  {
   "cell_type": "code",
   "execution_count": 10,
   "id": "1513e563",
   "metadata": {
    "execution": {
     "iopub.execute_input": "2021-04-04T23:32:32.193177Z",
     "iopub.status.busy": "2021-04-04T23:32:32.192214Z",
     "iopub.status.idle": "2021-04-04T23:32:32.194730Z",
     "shell.execute_reply": "2021-04-04T23:32:32.195353Z"
    },
    "papermill": {
     "duration": 0.032005,
     "end_time": "2021-04-04T23:32:32.195546",
     "exception": false,
     "start_time": "2021-04-04T23:32:32.163541",
     "status": "completed"
    },
    "tags": []
   },
   "outputs": [],
   "source": [
    "working_df = df.copy()"
   ]
  },
  {
   "cell_type": "code",
   "execution_count": 11,
   "id": "3b26d675",
   "metadata": {
    "execution": {
     "iopub.execute_input": "2021-04-04T23:32:32.256764Z",
     "iopub.status.busy": "2021-04-04T23:32:32.255584Z",
     "iopub.status.idle": "2021-04-04T23:32:32.258229Z",
     "shell.execute_reply": "2021-04-04T23:32:32.258938Z"
    },
    "papermill": {
     "duration": 0.040811,
     "end_time": "2021-04-04T23:32:32.259140",
     "exception": false,
     "start_time": "2021-04-04T23:32:32.218329",
     "status": "completed"
    },
    "tags": []
   },
   "outputs": [],
   "source": [
    "working_df['defects'] = working_df['defects'].replace([False, True], [0, 1])"
   ]
  },
  {
   "cell_type": "code",
   "execution_count": 12,
   "id": "eb48604f",
   "metadata": {
    "execution": {
     "iopub.execute_input": "2021-04-04T23:32:32.316174Z",
     "iopub.status.busy": "2021-04-04T23:32:32.315342Z",
     "iopub.status.idle": "2021-04-04T23:32:32.317860Z",
     "shell.execute_reply": "2021-04-04T23:32:32.317347Z"
    },
    "papermill": {
     "duration": 0.035138,
     "end_time": "2021-04-04T23:32:32.317980",
     "exception": false,
     "start_time": "2021-04-04T23:32:32.282842",
     "status": "completed"
    },
    "tags": []
   },
   "outputs": [],
   "source": [
    "for col in dataset_config['delete_columns']:\n",
    "    del working_df[col]"
   ]
  },
  {
   "cell_type": "code",
   "execution_count": 13,
   "id": "9a17bc29",
   "metadata": {
    "execution": {
     "iopub.execute_input": "2021-04-04T23:32:32.393431Z",
     "iopub.status.busy": "2021-04-04T23:32:32.392478Z",
     "iopub.status.idle": "2021-04-04T23:32:32.403600Z",
     "shell.execute_reply": "2021-04-04T23:32:32.401713Z"
    },
    "papermill": {
     "duration": 0.056916,
     "end_time": "2021-04-04T23:32:32.403979",
     "exception": false,
     "start_time": "2021-04-04T23:32:32.347063",
     "status": "completed"
    },
    "tags": []
   },
   "outputs": [],
   "source": [
    "working_df = working_df.drop_duplicates()"
   ]
  },
  {
   "cell_type": "markdown",
   "id": "a4d52ca6",
   "metadata": {
    "papermill": {
     "duration": 0.02208,
     "end_time": "2021-04-04T23:32:32.450066",
     "exception": false,
     "start_time": "2021-04-04T23:32:32.427986",
     "status": "completed"
    },
    "tags": []
   },
   "source": [
    "# Split"
   ]
  },
  {
   "cell_type": "code",
   "execution_count": 14,
   "id": "3e9ee4b5",
   "metadata": {
    "execution": {
     "iopub.execute_input": "2021-04-04T23:32:32.509966Z",
     "iopub.status.busy": "2021-04-04T23:32:32.508907Z",
     "iopub.status.idle": "2021-04-04T23:32:32.540895Z",
     "shell.execute_reply": "2021-04-04T23:32:32.540376Z"
    },
    "papermill": {
     "duration": 0.06664,
     "end_time": "2021-04-04T23:32:32.541017",
     "exception": false,
     "start_time": "2021-04-04T23:32:32.474377",
     "status": "completed"
    },
    "tags": []
   },
   "outputs": [],
   "source": [
    "from sklearn.model_selection import train_test_split"
   ]
  },
  {
   "cell_type": "code",
   "execution_count": 15,
   "id": "274004ce",
   "metadata": {
    "execution": {
     "iopub.execute_input": "2021-04-04T23:32:32.594111Z",
     "iopub.status.busy": "2021-04-04T23:32:32.593259Z",
     "iopub.status.idle": "2021-04-04T23:32:32.598244Z",
     "shell.execute_reply": "2021-04-04T23:32:32.598835Z"
    },
    "papermill": {
     "duration": 0.031648,
     "end_time": "2021-04-04T23:32:32.599031",
     "exception": false,
     "start_time": "2021-04-04T23:32:32.567383",
     "status": "completed"
    },
    "scrolled": true,
    "tags": []
   },
   "outputs": [],
   "source": [
    "inlier, outlier = working_df[working_df['defects'] == 0], working_df[working_df['defects'] == 1]"
   ]
  },
  {
   "cell_type": "code",
   "execution_count": 16,
   "id": "753c7b03",
   "metadata": {
    "execution": {
     "iopub.execute_input": "2021-04-04T23:32:32.657234Z",
     "iopub.status.busy": "2021-04-04T23:32:32.656479Z",
     "iopub.status.idle": "2021-04-04T23:32:32.658109Z",
     "shell.execute_reply": "2021-04-04T23:32:32.658665Z"
    },
    "papermill": {
     "duration": 0.035666,
     "end_time": "2021-04-04T23:32:32.658810",
     "exception": false,
     "start_time": "2021-04-04T23:32:32.623144",
     "status": "completed"
    },
    "tags": []
   },
   "outputs": [],
   "source": [
    "X_inlier = inlier.copy()\n",
    "y_inlier = X_inlier.pop('defects')\n",
    "X_outlier = outlier.copy()\n",
    "y_outlier = X_outlier.pop('defects')"
   ]
  },
  {
   "cell_type": "code",
   "execution_count": 17,
   "id": "2ba43193",
   "metadata": {
    "execution": {
     "iopub.execute_input": "2021-04-04T23:32:32.713133Z",
     "iopub.status.busy": "2021-04-04T23:32:32.712310Z",
     "iopub.status.idle": "2021-04-04T23:32:32.714869Z",
     "shell.execute_reply": "2021-04-04T23:32:32.714293Z"
    },
    "papermill": {
     "duration": 0.031534,
     "end_time": "2021-04-04T23:32:32.714987",
     "exception": false,
     "start_time": "2021-04-04T23:32:32.683453",
     "status": "completed"
    },
    "tags": []
   },
   "outputs": [],
   "source": [
    "test_size = dataset_config['test_size']\n",
    "random_state = dataset_config['random_state']\n",
    "\n",
    "X_inlier_train, X_inlier_test, y_inlier_train, y_inlier_test = train_test_split(\n",
    "    X_inlier,\n",
    "    y_inlier,\n",
    "    test_size=test_size,\n",
    "    random_state=random_state\n",
    ")"
   ]
  },
  {
   "cell_type": "code",
   "execution_count": 18,
   "id": "0b7582ca",
   "metadata": {
    "execution": {
     "iopub.execute_input": "2021-04-04T23:32:32.804278Z",
     "iopub.status.busy": "2021-04-04T23:32:32.802948Z",
     "iopub.status.idle": "2021-04-04T23:32:32.807566Z",
     "shell.execute_reply": "2021-04-04T23:32:32.808411Z"
    },
    "papermill": {
     "duration": 0.058479,
     "end_time": "2021-04-04T23:32:32.808646",
     "exception": false,
     "start_time": "2021-04-04T23:32:32.750167",
     "status": "completed"
    },
    "tags": []
   },
   "outputs": [],
   "source": [
    "test_outlier_size = dataset_config['test_outlier_size']\n",
    "if test_outlier_size > 0.0:\n",
    "    X_outlier_train, X_outlier_test, y_outlier_train, y_outlier_test = train_test_split(\n",
    "        X_outlier,\n",
    "        y_outlier,\n",
    "        test_size=test_outlier_size,\n",
    "        random_state=random_state\n",
    "    )\n",
    "else:\n",
    "    X_outlier_train, y_outlier_train = pd.DataFrame(columns=X_outlier.columns), pd.Series(dtype='int64')\n",
    "    X_outlier_test, y_outlier_test = X_outlier.copy(), y_outlier.copy()"
   ]
  },
  {
   "cell_type": "code",
   "execution_count": 19,
   "id": "c34363db",
   "metadata": {
    "execution": {
     "iopub.execute_input": "2021-04-04T23:32:32.867462Z",
     "iopub.status.busy": "2021-04-04T23:32:32.866253Z",
     "iopub.status.idle": "2021-04-04T23:32:32.874529Z",
     "shell.execute_reply": "2021-04-04T23:32:32.873981Z"
    },
    "papermill": {
     "duration": 0.03704,
     "end_time": "2021-04-04T23:32:32.874646",
     "exception": false,
     "start_time": "2021-04-04T23:32:32.837606",
     "status": "completed"
    },
    "tags": []
   },
   "outputs": [],
   "source": [
    "X_train, y_train = pd.concat([X_inlier_train, X_outlier_train], ignore_index=True), pd.concat([y_inlier_train, y_outlier_train], ignore_index=True)\n",
    "X_test, y_test = pd.concat([X_inlier_test, X_outlier_test], ignore_index=True), pd.concat([y_inlier_test, y_outlier_test], ignore_index=True)"
   ]
  },
  {
   "cell_type": "markdown",
   "id": "7cde7309",
   "metadata": {
    "papermill": {
     "duration": 0.029925,
     "end_time": "2021-04-04T23:32:32.928039",
     "exception": false,
     "start_time": "2021-04-04T23:32:32.898114",
     "status": "completed"
    },
    "tags": []
   },
   "source": [
    "# Model"
   ]
  },
  {
   "cell_type": "code",
   "execution_count": 20,
   "id": "2b12a415",
   "metadata": {
    "execution": {
     "iopub.execute_input": "2021-04-04T23:32:32.990092Z",
     "iopub.status.busy": "2021-04-04T23:32:32.989235Z",
     "iopub.status.idle": "2021-04-04T23:32:32.992314Z",
     "shell.execute_reply": "2021-04-04T23:32:32.991657Z"
    },
    "papermill": {
     "duration": 0.040875,
     "end_time": "2021-04-04T23:32:32.992512",
     "exception": false,
     "start_time": "2021-04-04T23:32:32.951637",
     "status": "completed"
    },
    "tags": []
   },
   "outputs": [],
   "source": [
    "from math import sqrt\n",
    "\n",
    "\n",
    "class KNNDataDescription:\n",
    "    def __init__(self, k=5, outlier_threshold=1.0):\n",
    "        self.k = k\n",
    "        self.outlier_threshold = outlier_threshold\n",
    "        self.X = []\n",
    "    \n",
    "    def fit(self, X):\n",
    "        self.X = [features.to_list() for index, features in X.iterrows()]\n",
    "\n",
    "    def predict(self, entries):\n",
    "        return [self.predict_entry(features.to_list()) for index, features in entries.iterrows()]\n",
    "    \n",
    "    def predict_entry(self, entry):\n",
    "        kth_neighbor, kth_distance = self.get_kth_neighbor(entry, self.k)\n",
    "        kth_kth_neighbor, kth_kth_distance = self.get_kth_neighbor(kth_neighbor, self.k + 1)\n",
    "\n",
    "        outlier_score = kth_distance / (kth_kth_distance + 0.000001)\n",
    "\n",
    "        return 1 if outlier_score < self.outlier_threshold else -1\n",
    "        \n",
    "    def euclidean_distance(self, features1, features2):\n",
    "        distance = 0.0\n",
    "        for feat1, feat2 in zip(features1, features2):\n",
    "            distance += (feat1 - feat2)**2\n",
    "                \n",
    "        return sqrt(distance)\n",
    "\n",
    "    def get_neighbors(self, entry, k):\n",
    "        distance_to_data_points = [\n",
    "            (data_point, self.euclidean_distance(entry, data_point))\n",
    "            for data_point in self.X\n",
    "        ]\n",
    "        sorted_by_distance = sorted(distance_to_data_points, key=lambda tup: tup[1])\n",
    "        neighbors = sorted_by_distance[:k]\n",
    "        return neighbors\n",
    "\n",
    "    def get_kth_neighbor(self, entry, k):\n",
    "        neighbors = self.get_neighbors(entry, k)\n",
    "        return neighbors[-1]\n"
   ]
  },
  {
   "cell_type": "code",
   "execution_count": 21,
   "id": "1fa9ec1c",
   "metadata": {
    "execution": {
     "iopub.execute_input": "2021-04-04T23:32:33.058753Z",
     "iopub.status.busy": "2021-04-04T23:32:33.057881Z",
     "iopub.status.idle": "2021-04-04T23:32:33.087679Z",
     "shell.execute_reply": "2021-04-04T23:32:33.087042Z"
    },
    "papermill": {
     "duration": 0.068202,
     "end_time": "2021-04-04T23:32:33.087816",
     "exception": false,
     "start_time": "2021-04-04T23:32:33.019614",
     "status": "completed"
    },
    "tags": []
   },
   "outputs": [],
   "source": [
    "from sklearn.svm import OneClassSVM\n",
    "\n",
    "\n",
    "models = {\n",
    "    'oneclasssvm': OneClassSVM,\n",
    "    'knndatadescription': KNNDataDescription,\n",
    "}"
   ]
  },
  {
   "cell_type": "code",
   "execution_count": 22,
   "id": "4d72a0b1",
   "metadata": {
    "execution": {
     "iopub.execute_input": "2021-04-04T23:32:33.141287Z",
     "iopub.status.busy": "2021-04-04T23:32:33.140277Z",
     "iopub.status.idle": "2021-04-04T23:32:33.142983Z",
     "shell.execute_reply": "2021-04-04T23:32:33.143530Z"
    },
    "papermill": {
     "duration": 0.032731,
     "end_time": "2021-04-04T23:32:33.143703",
     "exception": false,
     "start_time": "2021-04-04T23:32:33.110972",
     "status": "completed"
    },
    "scrolled": true,
    "tags": []
   },
   "outputs": [],
   "source": [
    "model_cls = models[model_config['model_type']]\n",
    "model = model_cls(**model_config['hyperparameters'])"
   ]
  },
  {
   "cell_type": "markdown",
   "id": "e00cff3b",
   "metadata": {
    "papermill": {
     "duration": 0.028507,
     "end_time": "2021-04-04T23:32:33.197828",
     "exception": false,
     "start_time": "2021-04-04T23:32:33.169321",
     "status": "completed"
    },
    "tags": []
   },
   "source": [
    "# Fit"
   ]
  },
  {
   "cell_type": "code",
   "execution_count": 23,
   "id": "8b2ded89",
   "metadata": {
    "execution": {
     "iopub.execute_input": "2021-04-04T23:32:33.253667Z",
     "iopub.status.busy": "2021-04-04T23:32:33.252676Z",
     "iopub.status.idle": "2021-04-04T23:32:33.277256Z",
     "shell.execute_reply": "2021-04-04T23:32:33.276723Z"
    },
    "papermill": {
     "duration": 0.054647,
     "end_time": "2021-04-04T23:32:33.277376",
     "exception": false,
     "start_time": "2021-04-04T23:32:33.222729",
     "status": "completed"
    },
    "tags": []
   },
   "outputs": [],
   "source": [
    "model.fit(X_train)"
   ]
  },
  {
   "cell_type": "markdown",
   "id": "f99999f7",
   "metadata": {
    "papermill": {
     "duration": 0.030095,
     "end_time": "2021-04-04T23:32:33.334172",
     "exception": false,
     "start_time": "2021-04-04T23:32:33.304077",
     "status": "completed"
    },
    "tags": []
   },
   "source": [
    "# Predict"
   ]
  },
  {
   "cell_type": "code",
   "execution_count": 24,
   "id": "6536fbf7",
   "metadata": {
    "execution": {
     "iopub.execute_input": "2021-04-04T23:32:33.443279Z",
     "iopub.status.busy": "2021-04-04T23:32:33.407412Z",
     "iopub.status.idle": "2021-04-04T23:32:33.715043Z",
     "shell.execute_reply": "2021-04-04T23:32:33.714489Z"
    },
    "papermill": {
     "duration": 0.347094,
     "end_time": "2021-04-04T23:32:33.715171",
     "exception": false,
     "start_time": "2021-04-04T23:32:33.368077",
     "status": "completed"
    },
    "tags": []
   },
   "outputs": [],
   "source": [
    "predictions = model.predict(X_test)"
   ]
  },
  {
   "cell_type": "markdown",
   "id": "aa1c9881",
   "metadata": {
    "papermill": {
     "duration": 0.033,
     "end_time": "2021-04-04T23:32:33.775788",
     "exception": false,
     "start_time": "2021-04-04T23:32:33.742788",
     "status": "completed"
    },
    "tags": []
   },
   "source": [
    "# Evaluate"
   ]
  },
  {
   "cell_type": "code",
   "execution_count": 25,
   "id": "894f0f04",
   "metadata": {
    "execution": {
     "iopub.execute_input": "2021-04-04T23:32:33.842323Z",
     "iopub.status.busy": "2021-04-04T23:32:33.841403Z",
     "iopub.status.idle": "2021-04-04T23:32:33.843393Z",
     "shell.execute_reply": "2021-04-04T23:32:33.843860Z"
    },
    "papermill": {
     "duration": 0.03687,
     "end_time": "2021-04-04T23:32:33.844007",
     "exception": false,
     "start_time": "2021-04-04T23:32:33.807137",
     "status": "completed"
    },
    "tags": []
   },
   "outputs": [],
   "source": [
    "from sklearn.metrics import f1_score"
   ]
  },
  {
   "cell_type": "code",
   "execution_count": 26,
   "id": "211744d3",
   "metadata": {
    "execution": {
     "iopub.execute_input": "2021-04-04T23:32:33.909499Z",
     "iopub.status.busy": "2021-04-04T23:32:33.908700Z",
     "iopub.status.idle": "2021-04-04T23:32:33.911100Z",
     "shell.execute_reply": "2021-04-04T23:32:33.911717Z"
    },
    "papermill": {
     "duration": 0.040871,
     "end_time": "2021-04-04T23:32:33.911905",
     "exception": false,
     "start_time": "2021-04-04T23:32:33.871034",
     "status": "completed"
    },
    "tags": []
   },
   "outputs": [],
   "source": [
    "y_test = y_test.replace([0, 1], [1, -1])"
   ]
  },
  {
   "cell_type": "code",
   "execution_count": 27,
   "id": "d68a9204",
   "metadata": {
    "execution": {
     "iopub.execute_input": "2021-04-04T23:32:33.972829Z",
     "iopub.status.busy": "2021-04-04T23:32:33.972134Z",
     "iopub.status.idle": "2021-04-04T23:32:33.973946Z",
     "shell.execute_reply": "2021-04-04T23:32:33.974528Z"
    },
    "papermill": {
     "duration": 0.037949,
     "end_time": "2021-04-04T23:32:33.974677",
     "exception": false,
     "start_time": "2021-04-04T23:32:33.936728",
     "status": "completed"
    },
    "tags": []
   },
   "outputs": [],
   "source": [
    "def evaluate(truths, predictions, pos_label, neg_label):\n",
    "    TP = 0\n",
    "    FP = 0\n",
    "    TN = 0\n",
    "    FN = 0\n",
    "\n",
    "    for truth, pred in zip(truths, predictions): \n",
    "        if truth == pred == pos_label:\n",
    "           TP += 1\n",
    "        elif pred == pos_label and truth == neg_label:\n",
    "           FP += 1\n",
    "        elif truth == pred == neg_label:\n",
    "           TN += 1\n",
    "        elif pred == neg_label and truth == pos_label:\n",
    "           FN += 1\n",
    "\n",
    "    precision = TP / (TP + FP)\n",
    "    sensitivity = TP / (TP + FN)\n",
    "    \n",
    "    return {\n",
    "        'true_pos': TP,\n",
    "        'false_pos': FP,\n",
    "        'false_neg': FN,\n",
    "        'true_neg': TN,\n",
    "        'precision': precision,\n",
    "        'sensitivity': sensitivity,\n",
    "        'f1': (2 * (precision * sensitivity)) / (precision + sensitivity)\n",
    "    }\n",
    "\n",
    "score = evaluate(y_test, predictions, pos_label=-1, neg_label=1)"
   ]
  },
  {
   "cell_type": "markdown",
   "id": "93596516",
   "metadata": {
    "papermill": {
     "duration": 0.029245,
     "end_time": "2021-04-04T23:32:34.031253",
     "exception": false,
     "start_time": "2021-04-04T23:32:34.002008",
     "status": "completed"
    },
    "tags": []
   },
   "source": [
    "# Report"
   ]
  },
  {
   "cell_type": "code",
   "execution_count": 28,
   "id": "bea5fba1",
   "metadata": {
    "execution": {
     "iopub.execute_input": "2021-04-04T23:32:34.091103Z",
     "iopub.status.busy": "2021-04-04T23:32:34.090409Z",
     "iopub.status.idle": "2021-04-04T23:32:34.093114Z",
     "shell.execute_reply": "2021-04-04T23:32:34.092605Z"
    },
    "papermill": {
     "duration": 0.035529,
     "end_time": "2021-04-04T23:32:34.093234",
     "exception": false,
     "start_time": "2021-04-04T23:32:34.057705",
     "status": "completed"
    },
    "tags": []
   },
   "outputs": [],
   "source": [
    "import csv\n",
    "\n",
    "\n",
    "dataset_config_name = DATASET_CONFIG_PATH.split('/')[-1].split('.')[0]\n",
    "model_config_name = MODEL_CONFIG_PATH.split('/')[-1].split('.')[0]\n",
    "configuration = f\"dataset_{dataset_config_name}-model_{model_config_name}\"\n",
    "\n",
    "with open('results.csv', 'a') as f:\n",
    "    report = dict({'configuration': configuration}, **score)\n",
    "    writer = csv.DictWriter(f, report.keys())\n",
    "    writer.writerow(report)"
   ]
  }
 ],
 "metadata": {
  "celltoolbar": "Tags",
  "kernelspec": {
   "display_name": "Python 3",
   "language": "python",
   "name": "python3"
  },
  "language_info": {
   "codemirror_mode": {
    "name": "ipython",
    "version": 3
   },
   "file_extension": ".py",
   "mimetype": "text/x-python",
   "name": "python",
   "nbconvert_exporter": "python",
   "pygments_lexer": "ipython3",
   "version": "3.9.1"
  },
  "papermill": {
   "default_parameters": {},
   "duration": 6.076029,
   "end_time": "2021-04-04T23:32:35.312003",
   "environment_variables": {},
   "exception": null,
   "input_path": "main.ipynb",
   "output_path": "runs/dataset_000147-model_000003.ipynb",
   "parameters": {
    "DATASET_CONFIG_PATH": "config/dataset/000147.json",
    "MODEL_CONFIG_PATH": "config/model/000003.json",
    "PROFILE_REPORTING": false
   },
   "start_time": "2021-04-04T23:32:29.235974",
   "version": "2.3.3"
  }
 },
 "nbformat": 4,
 "nbformat_minor": 5
}