{
 "cells": [
  {
   "cell_type": "markdown",
   "id": "51c71c25",
   "metadata": {
    "papermill": {
     "duration": 0.021555,
     "end_time": "2021-04-04T23:25:01.528460",
     "exception": false,
     "start_time": "2021-04-04T23:25:01.506905",
     "status": "completed"
    },
    "tags": []
   },
   "source": [
    "# Parametrizing"
   ]
  },
  {
   "cell_type": "code",
   "execution_count": 1,
   "id": "3b136394",
   "metadata": {
    "execution": {
     "iopub.execute_input": "2021-04-04T23:25:01.604340Z",
     "iopub.status.busy": "2021-04-04T23:25:01.603474Z",
     "iopub.status.idle": "2021-04-04T23:25:01.607655Z",
     "shell.execute_reply": "2021-04-04T23:25:01.608752Z"
    },
    "papermill": {
     "duration": 0.059963,
     "end_time": "2021-04-04T23:25:01.609142",
     "exception": false,
     "start_time": "2021-04-04T23:25:01.549179",
     "status": "completed"
    },
    "tags": [
     "parameters"
    ]
   },
   "outputs": [],
   "source": [
    "DATASET_CONFIG_PATH = 'config/dataset/kc1_001.json'\n",
    "MODEL_CONFIG_PATH = 'config/model/knndd_001.json'\n",
    "PROFILE_REPORTING = False"
   ]
  },
  {
   "cell_type": "code",
   "execution_count": 2,
   "id": "c0cc5ece",
   "metadata": {
    "execution": {
     "iopub.execute_input": "2021-04-04T23:25:01.659699Z",
     "iopub.status.busy": "2021-04-04T23:25:01.658984Z",
     "iopub.status.idle": "2021-04-04T23:25:01.661140Z",
     "shell.execute_reply": "2021-04-04T23:25:01.661726Z"
    },
    "papermill": {
     "duration": 0.027538,
     "end_time": "2021-04-04T23:25:01.661880",
     "exception": false,
     "start_time": "2021-04-04T23:25:01.634342",
     "status": "completed"
    },
    "tags": [
     "injected-parameters"
    ]
   },
   "outputs": [],
   "source": [
    "# Parameters\n",
    "DATASET_CONFIG_PATH = \"config/dataset/000130.json\"\n",
    "MODEL_CONFIG_PATH = \"config/model/000003.json\"\n",
    "PROFILE_REPORTING = False\n"
   ]
  },
  {
   "cell_type": "code",
   "execution_count": 3,
   "id": "b80f2a10",
   "metadata": {
    "execution": {
     "iopub.execute_input": "2021-04-04T23:25:01.716663Z",
     "iopub.status.busy": "2021-04-04T23:25:01.715612Z",
     "iopub.status.idle": "2021-04-04T23:25:01.718367Z",
     "shell.execute_reply": "2021-04-04T23:25:01.719760Z"
    },
    "papermill": {
     "duration": 0.033679,
     "end_time": "2021-04-04T23:25:01.720128",
     "exception": false,
     "start_time": "2021-04-04T23:25:01.686449",
     "status": "completed"
    },
    "tags": []
   },
   "outputs": [],
   "source": [
    "import json\n",
    "\n",
    "\n",
    "with open(DATASET_CONFIG_PATH) as f:\n",
    "    dataset_config = json.load(f)\n",
    "\n",
    "with open(MODEL_CONFIG_PATH) as f:\n",
    "    model_config = json.load(f)"
   ]
  },
  {
   "cell_type": "markdown",
   "id": "9a4b0e2d",
   "metadata": {
    "papermill": {
     "duration": 0.02488,
     "end_time": "2021-04-04T23:25:01.768929",
     "exception": false,
     "start_time": "2021-04-04T23:25:01.744049",
     "status": "completed"
    },
    "tags": []
   },
   "source": [
    "# Profiling"
   ]
  },
  {
   "cell_type": "code",
   "execution_count": 4,
   "id": "a3e0289b",
   "metadata": {
    "execution": {
     "iopub.execute_input": "2021-04-04T23:25:01.849576Z",
     "iopub.status.busy": "2021-04-04T23:25:01.848583Z",
     "iopub.status.idle": "2021-04-04T23:25:03.542435Z",
     "shell.execute_reply": "2021-04-04T23:25:03.542952Z"
    },
    "papermill": {
     "duration": 1.737784,
     "end_time": "2021-04-04T23:25:03.543133",
     "exception": false,
     "start_time": "2021-04-04T23:25:01.805349",
     "status": "completed"
    },
    "tags": []
   },
   "outputs": [],
   "source": [
    "import pandas as pd\n",
    "from pandas_profiling import ProfileReport"
   ]
  },
  {
   "cell_type": "code",
   "execution_count": 5,
   "id": "ee6c0666",
   "metadata": {
    "execution": {
     "iopub.execute_input": "2021-04-04T23:25:03.617900Z",
     "iopub.status.busy": "2021-04-04T23:25:03.616896Z",
     "iopub.status.idle": "2021-04-04T23:25:03.628199Z",
     "shell.execute_reply": "2021-04-04T23:25:03.628688Z"
    },
    "papermill": {
     "duration": 0.047488,
     "end_time": "2021-04-04T23:25:03.628838",
     "exception": false,
     "start_time": "2021-04-04T23:25:03.581350",
     "status": "completed"
    },
    "tags": []
   },
   "outputs": [],
   "source": [
    "df = pd.read_csv(dataset_config['dataset_path'])"
   ]
  },
  {
   "cell_type": "code",
   "execution_count": 6,
   "id": "7eca6c4a",
   "metadata": {
    "execution": {
     "iopub.execute_input": "2021-04-04T23:25:03.697254Z",
     "iopub.status.busy": "2021-04-04T23:25:03.696335Z",
     "iopub.status.idle": "2021-04-04T23:25:03.699603Z",
     "shell.execute_reply": "2021-04-04T23:25:03.700080Z"
    },
    "papermill": {
     "duration": 0.050338,
     "end_time": "2021-04-04T23:25:03.700225",
     "exception": false,
     "start_time": "2021-04-04T23:25:03.649887",
     "status": "completed"
    },
    "tags": []
   },
   "outputs": [
    {
     "name": "stdout",
     "output_type": "stream",
     "text": [
      "<class 'pandas.core.frame.DataFrame'>\n",
      "RangeIndex: 498 entries, 0 to 497\n",
      "Data columns (total 23 columns):\n",
      " #   Column             Non-Null Count  Dtype  \n",
      "---  ------             --------------  -----  \n",
      " 0   id                 498 non-null    int64  \n",
      " 1   loc                498 non-null    float64\n",
      " 2   v(g)               498 non-null    float64\n",
      " 3   ev(g)              498 non-null    float64\n",
      " 4   iv(g)              498 non-null    float64\n",
      " 5   n                  498 non-null    float64\n",
      " 6   v                  498 non-null    float64\n",
      " 7   l                  498 non-null    float64\n",
      " 8   d                  498 non-null    float64\n",
      " 9   i                  498 non-null    float64\n",
      " 10  e                  498 non-null    float64\n",
      " 11  b                  498 non-null    float64\n",
      " 12  t                  498 non-null    float64\n",
      " 13  lOCode             498 non-null    int64  \n",
      " 14  lOComment          498 non-null    int64  \n",
      " 15  lOBlank            498 non-null    int64  \n",
      " 16  locCodeAndComment  498 non-null    int64  \n",
      " 17  uniq_Op            498 non-null    float64\n",
      " 18  uniq_Opnd          498 non-null    float64\n",
      " 19  total_Op           498 non-null    float64\n",
      " 20  total_Opnd         498 non-null    float64\n",
      " 21  branchCount        498 non-null    float64\n",
      " 22  defects            498 non-null    bool   \n",
      "dtypes: bool(1), float64(17), int64(5)\n",
      "memory usage: 86.2 KB\n"
     ]
    }
   ],
   "source": [
    "df.info()"
   ]
  },
  {
   "cell_type": "code",
   "execution_count": 7,
   "id": "3638e5e8",
   "metadata": {
    "execution": {
     "iopub.execute_input": "2021-04-04T23:25:03.760404Z",
     "iopub.status.busy": "2021-04-04T23:25:03.759411Z",
     "iopub.status.idle": "2021-04-04T23:25:03.786847Z",
     "shell.execute_reply": "2021-04-04T23:25:03.786227Z"
    },
    "papermill": {
     "duration": 0.061914,
     "end_time": "2021-04-04T23:25:03.786972",
     "exception": false,
     "start_time": "2021-04-04T23:25:03.725058",
     "status": "completed"
    },
    "tags": []
   },
   "outputs": [
    {
     "data": {
      "text/html": [
       "<div>\n",
       "<style scoped>\n",
       "    .dataframe tbody tr th:only-of-type {\n",
       "        vertical-align: middle;\n",
       "    }\n",
       "\n",
       "    .dataframe tbody tr th {\n",
       "        vertical-align: top;\n",
       "    }\n",
       "\n",
       "    .dataframe thead th {\n",
       "        text-align: right;\n",
       "    }\n",
       "</style>\n",
       "<table border=\"1\" class=\"dataframe\">\n",
       "  <thead>\n",
       "    <tr style=\"text-align: right;\">\n",
       "      <th></th>\n",
       "      <th>id</th>\n",
       "      <th>loc</th>\n",
       "      <th>v(g)</th>\n",
       "      <th>ev(g)</th>\n",
       "      <th>iv(g)</th>\n",
       "      <th>n</th>\n",
       "      <th>v</th>\n",
       "      <th>l</th>\n",
       "      <th>d</th>\n",
       "      <th>i</th>\n",
       "      <th>...</th>\n",
       "      <th>lOCode</th>\n",
       "      <th>lOComment</th>\n",
       "      <th>lOBlank</th>\n",
       "      <th>locCodeAndComment</th>\n",
       "      <th>uniq_Op</th>\n",
       "      <th>uniq_Opnd</th>\n",
       "      <th>total_Op</th>\n",
       "      <th>total_Opnd</th>\n",
       "      <th>branchCount</th>\n",
       "      <th>defects</th>\n",
       "    </tr>\n",
       "  </thead>\n",
       "  <tbody>\n",
       "    <tr>\n",
       "      <th>0</th>\n",
       "      <td>1</td>\n",
       "      <td>1.1</td>\n",
       "      <td>1.4</td>\n",
       "      <td>1.4</td>\n",
       "      <td>1.4</td>\n",
       "      <td>1.3</td>\n",
       "      <td>1.30</td>\n",
       "      <td>1.30</td>\n",
       "      <td>1.30</td>\n",
       "      <td>1.30</td>\n",
       "      <td>...</td>\n",
       "      <td>2</td>\n",
       "      <td>2</td>\n",
       "      <td>2</td>\n",
       "      <td>2</td>\n",
       "      <td>1.2</td>\n",
       "      <td>1.2</td>\n",
       "      <td>1.2</td>\n",
       "      <td>1.2</td>\n",
       "      <td>1.4</td>\n",
       "      <td>False</td>\n",
       "    </tr>\n",
       "    <tr>\n",
       "      <th>1</th>\n",
       "      <td>2</td>\n",
       "      <td>1.0</td>\n",
       "      <td>1.0</td>\n",
       "      <td>1.0</td>\n",
       "      <td>1.0</td>\n",
       "      <td>1.0</td>\n",
       "      <td>1.00</td>\n",
       "      <td>1.00</td>\n",
       "      <td>1.00</td>\n",
       "      <td>1.00</td>\n",
       "      <td>...</td>\n",
       "      <td>1</td>\n",
       "      <td>1</td>\n",
       "      <td>1</td>\n",
       "      <td>1</td>\n",
       "      <td>1.0</td>\n",
       "      <td>1.0</td>\n",
       "      <td>1.0</td>\n",
       "      <td>1.0</td>\n",
       "      <td>1.0</td>\n",
       "      <td>True</td>\n",
       "    </tr>\n",
       "    <tr>\n",
       "      <th>2</th>\n",
       "      <td>3</td>\n",
       "      <td>24.0</td>\n",
       "      <td>5.0</td>\n",
       "      <td>1.0</td>\n",
       "      <td>3.0</td>\n",
       "      <td>63.0</td>\n",
       "      <td>309.13</td>\n",
       "      <td>0.11</td>\n",
       "      <td>9.50</td>\n",
       "      <td>32.54</td>\n",
       "      <td>...</td>\n",
       "      <td>1</td>\n",
       "      <td>0</td>\n",
       "      <td>6</td>\n",
       "      <td>0</td>\n",
       "      <td>15.0</td>\n",
       "      <td>15.0</td>\n",
       "      <td>44.0</td>\n",
       "      <td>19.0</td>\n",
       "      <td>9.0</td>\n",
       "      <td>False</td>\n",
       "    </tr>\n",
       "    <tr>\n",
       "      <th>3</th>\n",
       "      <td>4</td>\n",
       "      <td>20.0</td>\n",
       "      <td>4.0</td>\n",
       "      <td>4.0</td>\n",
       "      <td>2.0</td>\n",
       "      <td>47.0</td>\n",
       "      <td>215.49</td>\n",
       "      <td>0.06</td>\n",
       "      <td>16.00</td>\n",
       "      <td>13.47</td>\n",
       "      <td>...</td>\n",
       "      <td>0</td>\n",
       "      <td>0</td>\n",
       "      <td>3</td>\n",
       "      <td>0</td>\n",
       "      <td>16.0</td>\n",
       "      <td>8.0</td>\n",
       "      <td>31.0</td>\n",
       "      <td>16.0</td>\n",
       "      <td>7.0</td>\n",
       "      <td>False</td>\n",
       "    </tr>\n",
       "    <tr>\n",
       "      <th>4</th>\n",
       "      <td>5</td>\n",
       "      <td>24.0</td>\n",
       "      <td>6.0</td>\n",
       "      <td>6.0</td>\n",
       "      <td>2.0</td>\n",
       "      <td>72.0</td>\n",
       "      <td>346.13</td>\n",
       "      <td>0.06</td>\n",
       "      <td>17.33</td>\n",
       "      <td>19.97</td>\n",
       "      <td>...</td>\n",
       "      <td>0</td>\n",
       "      <td>0</td>\n",
       "      <td>3</td>\n",
       "      <td>0</td>\n",
       "      <td>16.0</td>\n",
       "      <td>12.0</td>\n",
       "      <td>46.0</td>\n",
       "      <td>26.0</td>\n",
       "      <td>11.0</td>\n",
       "      <td>False</td>\n",
       "    </tr>\n",
       "  </tbody>\n",
       "</table>\n",
       "<p>5 rows × 23 columns</p>\n",
       "</div>"
      ],
      "text/plain": [
       "   id   loc  v(g)  ev(g)  iv(g)     n       v     l      d      i  ...  \\\n",
       "0   1   1.1   1.4    1.4    1.4   1.3    1.30  1.30   1.30   1.30  ...   \n",
       "1   2   1.0   1.0    1.0    1.0   1.0    1.00  1.00   1.00   1.00  ...   \n",
       "2   3  24.0   5.0    1.0    3.0  63.0  309.13  0.11   9.50  32.54  ...   \n",
       "3   4  20.0   4.0    4.0    2.0  47.0  215.49  0.06  16.00  13.47  ...   \n",
       "4   5  24.0   6.0    6.0    2.0  72.0  346.13  0.06  17.33  19.97  ...   \n",
       "\n",
       "   lOCode  lOComment  lOBlank  locCodeAndComment  uniq_Op  uniq_Opnd  \\\n",
       "0       2          2        2                  2      1.2        1.2   \n",
       "1       1          1        1                  1      1.0        1.0   \n",
       "2       1          0        6                  0     15.0       15.0   \n",
       "3       0          0        3                  0     16.0        8.0   \n",
       "4       0          0        3                  0     16.0       12.0   \n",
       "\n",
       "   total_Op  total_Opnd  branchCount  defects  \n",
       "0       1.2         1.2          1.4    False  \n",
       "1       1.0         1.0          1.0     True  \n",
       "2      44.0        19.0          9.0    False  \n",
       "3      31.0        16.0          7.0    False  \n",
       "4      46.0        26.0         11.0    False  \n",
       "\n",
       "[5 rows x 23 columns]"
      ]
     },
     "execution_count": 7,
     "metadata": {},
     "output_type": "execute_result"
    }
   ],
   "source": [
    "df.head()"
   ]
  },
  {
   "cell_type": "code",
   "execution_count": 8,
   "id": "733e95eb",
   "metadata": {
    "execution": {
     "iopub.execute_input": "2021-04-04T23:25:03.861598Z",
     "iopub.status.busy": "2021-04-04T23:25:03.860483Z",
     "iopub.status.idle": "2021-04-04T23:25:03.863242Z",
     "shell.execute_reply": "2021-04-04T23:25:03.863833Z"
    },
    "papermill": {
     "duration": 0.049171,
     "end_time": "2021-04-04T23:25:03.864019",
     "exception": false,
     "start_time": "2021-04-04T23:25:03.814848",
     "status": "completed"
    },
    "tags": []
   },
   "outputs": [],
   "source": [
    "del df['id']"
   ]
  },
  {
   "cell_type": "code",
   "execution_count": 9,
   "id": "6ff6f5b0",
   "metadata": {
    "execution": {
     "iopub.execute_input": "2021-04-04T23:25:03.936305Z",
     "iopub.status.busy": "2021-04-04T23:25:03.935682Z",
     "iopub.status.idle": "2021-04-04T23:25:03.937920Z",
     "shell.execute_reply": "2021-04-04T23:25:03.938392Z"
    },
    "papermill": {
     "duration": 0.03401,
     "end_time": "2021-04-04T23:25:03.938537",
     "exception": false,
     "start_time": "2021-04-04T23:25:03.904527",
     "status": "completed"
    },
    "tags": []
   },
   "outputs": [],
   "source": [
    "if PROFILE_REPORTING:\n",
    "    ProfileReport(df).to_widgets()"
   ]
  },
  {
   "cell_type": "markdown",
   "id": "1deaf3f0",
   "metadata": {
    "papermill": {
     "duration": 0.02888,
     "end_time": "2021-04-04T23:25:03.990133",
     "exception": false,
     "start_time": "2021-04-04T23:25:03.961253",
     "status": "completed"
    },
    "tags": []
   },
   "source": [
    "# Preprocess"
   ]
  },
  {
   "cell_type": "code",
   "execution_count": 10,
   "id": "1513e563",
   "metadata": {
    "execution": {
     "iopub.execute_input": "2021-04-04T23:25:04.048828Z",
     "iopub.status.busy": "2021-04-04T23:25:04.047840Z",
     "iopub.status.idle": "2021-04-04T23:25:04.052506Z",
     "shell.execute_reply": "2021-04-04T23:25:04.051376Z"
    },
    "papermill": {
     "duration": 0.033972,
     "end_time": "2021-04-04T23:25:04.052792",
     "exception": false,
     "start_time": "2021-04-04T23:25:04.018820",
     "status": "completed"
    },
    "tags": []
   },
   "outputs": [],
   "source": [
    "working_df = df.copy()"
   ]
  },
  {
   "cell_type": "code",
   "execution_count": 11,
   "id": "3b26d675",
   "metadata": {
    "execution": {
     "iopub.execute_input": "2021-04-04T23:25:04.128154Z",
     "iopub.status.busy": "2021-04-04T23:25:04.125786Z",
     "iopub.status.idle": "2021-04-04T23:25:04.129881Z",
     "shell.execute_reply": "2021-04-04T23:25:04.129266Z"
    },
    "papermill": {
     "duration": 0.044729,
     "end_time": "2021-04-04T23:25:04.130017",
     "exception": false,
     "start_time": "2021-04-04T23:25:04.085288",
     "status": "completed"
    },
    "tags": []
   },
   "outputs": [],
   "source": [
    "working_df['defects'] = working_df['defects'].replace([False, True], [0, 1])"
   ]
  },
  {
   "cell_type": "code",
   "execution_count": 12,
   "id": "eb48604f",
   "metadata": {
    "execution": {
     "iopub.execute_input": "2021-04-04T23:25:04.188940Z",
     "iopub.status.busy": "2021-04-04T23:25:04.188323Z",
     "iopub.status.idle": "2021-04-04T23:25:04.190333Z",
     "shell.execute_reply": "2021-04-04T23:25:04.190789Z"
    },
    "papermill": {
     "duration": 0.03475,
     "end_time": "2021-04-04T23:25:04.190939",
     "exception": false,
     "start_time": "2021-04-04T23:25:04.156189",
     "status": "completed"
    },
    "tags": []
   },
   "outputs": [],
   "source": [
    "for col in dataset_config['delete_columns']:\n",
    "    del working_df[col]"
   ]
  },
  {
   "cell_type": "code",
   "execution_count": 13,
   "id": "9a17bc29",
   "metadata": {
    "execution": {
     "iopub.execute_input": "2021-04-04T23:25:04.271697Z",
     "iopub.status.busy": "2021-04-04T23:25:04.270556Z",
     "iopub.status.idle": "2021-04-04T23:25:04.282212Z",
     "shell.execute_reply": "2021-04-04T23:25:04.281421Z"
    },
    "papermill": {
     "duration": 0.056471,
     "end_time": "2021-04-04T23:25:04.282394",
     "exception": false,
     "start_time": "2021-04-04T23:25:04.225923",
     "status": "completed"
    },
    "tags": []
   },
   "outputs": [],
   "source": [
    "working_df = working_df.drop_duplicates()"
   ]
  },
  {
   "cell_type": "markdown",
   "id": "a4d52ca6",
   "metadata": {
    "papermill": {
     "duration": 0.034313,
     "end_time": "2021-04-04T23:25:04.348392",
     "exception": false,
     "start_time": "2021-04-04T23:25:04.314079",
     "status": "completed"
    },
    "tags": []
   },
   "source": [
    "# Split"
   ]
  },
  {
   "cell_type": "code",
   "execution_count": 14,
   "id": "3e9ee4b5",
   "metadata": {
    "execution": {
     "iopub.execute_input": "2021-04-04T23:25:04.424605Z",
     "iopub.status.busy": "2021-04-04T23:25:04.423816Z",
     "iopub.status.idle": "2021-04-04T23:25:04.468078Z",
     "shell.execute_reply": "2021-04-04T23:25:04.468773Z"
    },
    "papermill": {
     "duration": 0.078903,
     "end_time": "2021-04-04T23:25:04.469219",
     "exception": false,
     "start_time": "2021-04-04T23:25:04.390316",
     "status": "completed"
    },
    "tags": []
   },
   "outputs": [],
   "source": [
    "from sklearn.model_selection import train_test_split"
   ]
  },
  {
   "cell_type": "code",
   "execution_count": 15,
   "id": "274004ce",
   "metadata": {
    "execution": {
     "iopub.execute_input": "2021-04-04T23:25:04.548275Z",
     "iopub.status.busy": "2021-04-04T23:25:04.547503Z",
     "iopub.status.idle": "2021-04-04T23:25:04.555146Z",
     "shell.execute_reply": "2021-04-04T23:25:04.555753Z"
    },
    "papermill": {
     "duration": 0.04688,
     "end_time": "2021-04-04T23:25:04.555973",
     "exception": false,
     "start_time": "2021-04-04T23:25:04.509093",
     "status": "completed"
    },
    "scrolled": true,
    "tags": []
   },
   "outputs": [],
   "source": [
    "inlier, outlier = working_df[working_df['defects'] == 0], working_df[working_df['defects'] == 1]"
   ]
  },
  {
   "cell_type": "code",
   "execution_count": 16,
   "id": "753c7b03",
   "metadata": {
    "execution": {
     "iopub.execute_input": "2021-04-04T23:25:04.623698Z",
     "iopub.status.busy": "2021-04-04T23:25:04.620491Z",
     "iopub.status.idle": "2021-04-04T23:25:04.626677Z",
     "shell.execute_reply": "2021-04-04T23:25:04.626027Z"
    },
    "papermill": {
     "duration": 0.042151,
     "end_time": "2021-04-04T23:25:04.626819",
     "exception": false,
     "start_time": "2021-04-04T23:25:04.584668",
     "status": "completed"
    },
    "tags": []
   },
   "outputs": [],
   "source": [
    "X_inlier = inlier.copy()\n",
    "y_inlier = X_inlier.pop('defects')\n",
    "X_outlier = outlier.copy()\n",
    "y_outlier = X_outlier.pop('defects')"
   ]
  },
  {
   "cell_type": "code",
   "execution_count": 17,
   "id": "2ba43193",
   "metadata": {
    "execution": {
     "iopub.execute_input": "2021-04-04T23:25:04.684010Z",
     "iopub.status.busy": "2021-04-04T23:25:04.683021Z",
     "iopub.status.idle": "2021-04-04T23:25:04.686387Z",
     "shell.execute_reply": "2021-04-04T23:25:04.685315Z"
    },
    "papermill": {
     "duration": 0.034205,
     "end_time": "2021-04-04T23:25:04.687057",
     "exception": false,
     "start_time": "2021-04-04T23:25:04.652852",
     "status": "completed"
    },
    "tags": []
   },
   "outputs": [],
   "source": [
    "test_size = dataset_config['test_size']\n",
    "random_state = dataset_config['random_state']\n",
    "\n",
    "X_inlier_train, X_inlier_test, y_inlier_train, y_inlier_test = train_test_split(\n",
    "    X_inlier,\n",
    "    y_inlier,\n",
    "    test_size=test_size,\n",
    "    random_state=random_state\n",
    ")"
   ]
  },
  {
   "cell_type": "code",
   "execution_count": 18,
   "id": "0b7582ca",
   "metadata": {
    "execution": {
     "iopub.execute_input": "2021-04-04T23:25:04.757580Z",
     "iopub.status.busy": "2021-04-04T23:25:04.756689Z",
     "iopub.status.idle": "2021-04-04T23:25:04.758838Z",
     "shell.execute_reply": "2021-04-04T23:25:04.758343Z"
    },
    "papermill": {
     "duration": 0.047312,
     "end_time": "2021-04-04T23:25:04.758957",
     "exception": false,
     "start_time": "2021-04-04T23:25:04.711645",
     "status": "completed"
    },
    "tags": []
   },
   "outputs": [],
   "source": [
    "test_outlier_size = dataset_config['test_outlier_size']\n",
    "if test_outlier_size > 0.0:\n",
    "    X_outlier_train, X_outlier_test, y_outlier_train, y_outlier_test = train_test_split(\n",
    "        X_outlier,\n",
    "        y_outlier,\n",
    "        test_size=test_outlier_size,\n",
    "        random_state=random_state\n",
    "    )\n",
    "else:\n",
    "    X_outlier_train, y_outlier_train = pd.DataFrame(columns=X_outlier.columns), pd.Series(dtype='int64')\n",
    "    X_outlier_test, y_outlier_test = X_outlier.copy(), y_outlier.copy()"
   ]
  },
  {
   "cell_type": "code",
   "execution_count": 19,
   "id": "c34363db",
   "metadata": {
    "execution": {
     "iopub.execute_input": "2021-04-04T23:25:04.822901Z",
     "iopub.status.busy": "2021-04-04T23:25:04.821756Z",
     "iopub.status.idle": "2021-04-04T23:25:04.825904Z",
     "shell.execute_reply": "2021-04-04T23:25:04.825183Z"
    },
    "papermill": {
     "duration": 0.044546,
     "end_time": "2021-04-04T23:25:04.826107",
     "exception": false,
     "start_time": "2021-04-04T23:25:04.781561",
     "status": "completed"
    },
    "tags": []
   },
   "outputs": [],
   "source": [
    "X_train, y_train = pd.concat([X_inlier_train, X_outlier_train], ignore_index=True), pd.concat([y_inlier_train, y_outlier_train], ignore_index=True)\n",
    "X_test, y_test = pd.concat([X_inlier_test, X_outlier_test], ignore_index=True), pd.concat([y_inlier_test, y_outlier_test], ignore_index=True)"
   ]
  },
  {
   "cell_type": "markdown",
   "id": "7cde7309",
   "metadata": {
    "papermill": {
     "duration": 0.028233,
     "end_time": "2021-04-04T23:25:04.877593",
     "exception": false,
     "start_time": "2021-04-04T23:25:04.849360",
     "status": "completed"
    },
    "tags": []
   },
   "source": [
    "# Model"
   ]
  },
  {
   "cell_type": "code",
   "execution_count": 20,
   "id": "2b12a415",
   "metadata": {
    "execution": {
     "iopub.execute_input": "2021-04-04T23:25:04.937907Z",
     "iopub.status.busy": "2021-04-04T23:25:04.937302Z",
     "iopub.status.idle": "2021-04-04T23:25:04.940355Z",
     "shell.execute_reply": "2021-04-04T23:25:04.939313Z"
    },
    "papermill": {
     "duration": 0.036064,
     "end_time": "2021-04-04T23:25:04.940504",
     "exception": false,
     "start_time": "2021-04-04T23:25:04.904440",
     "status": "completed"
    },
    "tags": []
   },
   "outputs": [],
   "source": [
    "from math import sqrt\n",
    "\n",
    "\n",
    "class KNNDataDescription:\n",
    "    def __init__(self, k=5, outlier_threshold=1.0):\n",
    "        self.k = k\n",
    "        self.outlier_threshold = outlier_threshold\n",
    "        self.X = []\n",
    "    \n",
    "    def fit(self, X):\n",
    "        self.X = [features.to_list() for index, features in X.iterrows()]\n",
    "\n",
    "    def predict(self, entries):\n",
    "        return [self.predict_entry(features.to_list()) for index, features in entries.iterrows()]\n",
    "    \n",
    "    def predict_entry(self, entry):\n",
    "        kth_neighbor, kth_distance = self.get_kth_neighbor(entry, self.k)\n",
    "        kth_kth_neighbor, kth_kth_distance = self.get_kth_neighbor(kth_neighbor, self.k + 1)\n",
    "\n",
    "        outlier_score = kth_distance / (kth_kth_distance + 0.000001)\n",
    "\n",
    "        return 1 if outlier_score < self.outlier_threshold else -1\n",
    "        \n",
    "    def euclidean_distance(self, features1, features2):\n",
    "        distance = 0.0\n",
    "        for feat1, feat2 in zip(features1, features2):\n",
    "            distance += (feat1 - feat2)**2\n",
    "                \n",
    "        return sqrt(distance)\n",
    "\n",
    "    def get_neighbors(self, entry, k):\n",
    "        distance_to_data_points = [\n",
    "            (data_point, self.euclidean_distance(entry, data_point))\n",
    "            for data_point in self.X\n",
    "        ]\n",
    "        sorted_by_distance = sorted(distance_to_data_points, key=lambda tup: tup[1])\n",
    "        neighbors = sorted_by_distance[:k]\n",
    "        return neighbors\n",
    "\n",
    "    def get_kth_neighbor(self, entry, k):\n",
    "        neighbors = self.get_neighbors(entry, k)\n",
    "        return neighbors[-1]\n"
   ]
  },
  {
   "cell_type": "code",
   "execution_count": 21,
   "id": "1fa9ec1c",
   "metadata": {
    "execution": {
     "iopub.execute_input": "2021-04-04T23:25:05.001028Z",
     "iopub.status.busy": "2021-04-04T23:25:04.999979Z",
     "iopub.status.idle": "2021-04-04T23:25:05.027107Z",
     "shell.execute_reply": "2021-04-04T23:25:05.026501Z"
    },
    "papermill": {
     "duration": 0.05971,
     "end_time": "2021-04-04T23:25:05.027229",
     "exception": false,
     "start_time": "2021-04-04T23:25:04.967519",
     "status": "completed"
    },
    "tags": []
   },
   "outputs": [],
   "source": [
    "from sklearn.svm import OneClassSVM\n",
    "\n",
    "\n",
    "models = {\n",
    "    'oneclasssvm': OneClassSVM,\n",
    "    'knndatadescription': KNNDataDescription,\n",
    "}"
   ]
  },
  {
   "cell_type": "code",
   "execution_count": 22,
   "id": "4d72a0b1",
   "metadata": {
    "execution": {
     "iopub.execute_input": "2021-04-04T23:25:05.082181Z",
     "iopub.status.busy": "2021-04-04T23:25:05.081510Z",
     "iopub.status.idle": "2021-04-04T23:25:05.083782Z",
     "shell.execute_reply": "2021-04-04T23:25:05.083273Z"
    },
    "papermill": {
     "duration": 0.031212,
     "end_time": "2021-04-04T23:25:05.083899",
     "exception": false,
     "start_time": "2021-04-04T23:25:05.052687",
     "status": "completed"
    },
    "scrolled": true,
    "tags": []
   },
   "outputs": [],
   "source": [
    "model_cls = models[model_config['model_type']]\n",
    "model = model_cls(**model_config['hyperparameters'])"
   ]
  },
  {
   "cell_type": "markdown",
   "id": "e00cff3b",
   "metadata": {
    "papermill": {
     "duration": 0.037641,
     "end_time": "2021-04-04T23:25:05.149256",
     "exception": false,
     "start_time": "2021-04-04T23:25:05.111615",
     "status": "completed"
    },
    "tags": []
   },
   "source": [
    "# Fit"
   ]
  },
  {
   "cell_type": "code",
   "execution_count": 23,
   "id": "8b2ded89",
   "metadata": {
    "execution": {
     "iopub.execute_input": "2021-04-04T23:25:05.253997Z",
     "iopub.status.busy": "2021-04-04T23:25:05.224532Z",
     "iopub.status.idle": "2021-04-04T23:25:05.260069Z",
     "shell.execute_reply": "2021-04-04T23:25:05.259382Z"
    },
    "papermill": {
     "duration": 0.073808,
     "end_time": "2021-04-04T23:25:05.260209",
     "exception": false,
     "start_time": "2021-04-04T23:25:05.186401",
     "status": "completed"
    },
    "tags": []
   },
   "outputs": [],
   "source": [
    "model.fit(X_train)"
   ]
  },
  {
   "cell_type": "markdown",
   "id": "f99999f7",
   "metadata": {
    "papermill": {
     "duration": 0.032641,
     "end_time": "2021-04-04T23:25:05.322767",
     "exception": false,
     "start_time": "2021-04-04T23:25:05.290126",
     "status": "completed"
    },
    "tags": []
   },
   "source": [
    "# Predict"
   ]
  },
  {
   "cell_type": "code",
   "execution_count": 24,
   "id": "6536fbf7",
   "metadata": {
    "execution": {
     "iopub.execute_input": "2021-04-04T23:25:05.413925Z",
     "iopub.status.busy": "2021-04-04T23:25:05.397606Z",
     "iopub.status.idle": "2021-04-04T23:25:05.891611Z",
     "shell.execute_reply": "2021-04-04T23:25:05.891023Z"
    },
    "papermill": {
     "duration": 0.537647,
     "end_time": "2021-04-04T23:25:05.891744",
     "exception": false,
     "start_time": "2021-04-04T23:25:05.354097",
     "status": "completed"
    },
    "tags": []
   },
   "outputs": [],
   "source": [
    "predictions = model.predict(X_test)"
   ]
  },
  {
   "cell_type": "markdown",
   "id": "aa1c9881",
   "metadata": {
    "papermill": {
     "duration": 0.02733,
     "end_time": "2021-04-04T23:25:05.943895",
     "exception": false,
     "start_time": "2021-04-04T23:25:05.916565",
     "status": "completed"
    },
    "tags": []
   },
   "source": [
    "# Evaluate"
   ]
  },
  {
   "cell_type": "code",
   "execution_count": 25,
   "id": "894f0f04",
   "metadata": {
    "execution": {
     "iopub.execute_input": "2021-04-04T23:25:05.998667Z",
     "iopub.status.busy": "2021-04-04T23:25:05.996538Z",
     "iopub.status.idle": "2021-04-04T23:25:06.001478Z",
     "shell.execute_reply": "2021-04-04T23:25:06.000801Z"
    },
    "papermill": {
     "duration": 0.03381,
     "end_time": "2021-04-04T23:25:06.001601",
     "exception": false,
     "start_time": "2021-04-04T23:25:05.967791",
     "status": "completed"
    },
    "tags": []
   },
   "outputs": [],
   "source": [
    "from sklearn.metrics import f1_score"
   ]
  },
  {
   "cell_type": "code",
   "execution_count": 26,
   "id": "211744d3",
   "metadata": {
    "execution": {
     "iopub.execute_input": "2021-04-04T23:25:06.058372Z",
     "iopub.status.busy": "2021-04-04T23:25:06.057789Z",
     "iopub.status.idle": "2021-04-04T23:25:06.059681Z",
     "shell.execute_reply": "2021-04-04T23:25:06.060155Z"
    },
    "papermill": {
     "duration": 0.03375,
     "end_time": "2021-04-04T23:25:06.060298",
     "exception": false,
     "start_time": "2021-04-04T23:25:06.026548",
     "status": "completed"
    },
    "tags": []
   },
   "outputs": [],
   "source": [
    "y_test = y_test.replace([0, 1], [1, -1])"
   ]
  },
  {
   "cell_type": "code",
   "execution_count": 27,
   "id": "d68a9204",
   "metadata": {
    "execution": {
     "iopub.execute_input": "2021-04-04T23:25:06.130648Z",
     "iopub.status.busy": "2021-04-04T23:25:06.129416Z",
     "iopub.status.idle": "2021-04-04T23:25:06.132405Z",
     "shell.execute_reply": "2021-04-04T23:25:06.132896Z"
    },
    "papermill": {
     "duration": 0.043532,
     "end_time": "2021-04-04T23:25:06.133061",
     "exception": false,
     "start_time": "2021-04-04T23:25:06.089529",
     "status": "completed"
    },
    "tags": []
   },
   "outputs": [],
   "source": [
    "def evaluate(truths, predictions, pos_label, neg_label):\n",
    "    TP = 0\n",
    "    FP = 0\n",
    "    TN = 0\n",
    "    FN = 0\n",
    "\n",
    "    for truth, pred in zip(truths, predictions): \n",
    "        if truth == pred == pos_label:\n",
    "           TP += 1\n",
    "        elif pred == pos_label and truth == neg_label:\n",
    "           FP += 1\n",
    "        elif truth == pred == neg_label:\n",
    "           TN += 1\n",
    "        elif pred == neg_label and truth == pos_label:\n",
    "           FN += 1\n",
    "\n",
    "    precision = TP / (TP + FP)\n",
    "    sensitivity = TP / (TP + FN)\n",
    "    \n",
    "    return {\n",
    "        'true_pos': TP,\n",
    "        'false_pos': FP,\n",
    "        'false_neg': FN,\n",
    "        'true_neg': TN,\n",
    "        'precision': precision,\n",
    "        'sensitivity': sensitivity,\n",
    "        'f1': (2 * (precision * sensitivity)) / (precision + sensitivity)\n",
    "    }\n",
    "\n",
    "score = evaluate(y_test, predictions, pos_label=-1, neg_label=1)"
   ]
  },
  {
   "cell_type": "markdown",
   "id": "93596516",
   "metadata": {
    "papermill": {
     "duration": 0.056794,
     "end_time": "2021-04-04T23:25:06.244750",
     "exception": false,
     "start_time": "2021-04-04T23:25:06.187956",
     "status": "completed"
    },
    "tags": []
   },
   "source": [
    "# Report"
   ]
  },
  {
   "cell_type": "code",
   "execution_count": 28,
   "id": "bea5fba1",
   "metadata": {
    "execution": {
     "iopub.execute_input": "2021-04-04T23:25:06.323209Z",
     "iopub.status.busy": "2021-04-04T23:25:06.322608Z",
     "iopub.status.idle": "2021-04-04T23:25:06.324891Z",
     "shell.execute_reply": "2021-04-04T23:25:06.325362Z"
    },
    "papermill": {
     "duration": 0.034148,
     "end_time": "2021-04-04T23:25:06.325507",
     "exception": false,
     "start_time": "2021-04-04T23:25:06.291359",
     "status": "completed"
    },
    "tags": []
   },
   "outputs": [],
   "source": [
    "import csv\n",
    "\n",
    "\n",
    "dataset_config_name = DATASET_CONFIG_PATH.split('/')[-1].split('.')[0]\n",
    "model_config_name = MODEL_CONFIG_PATH.split('/')[-1].split('.')[0]\n",
    "configuration = f\"dataset_{dataset_config_name}-model_{model_config_name}\"\n",
    "\n",
    "with open('results.csv', 'a') as f:\n",
    "    report = dict({'configuration': configuration}, **score)\n",
    "    writer = csv.DictWriter(f, report.keys())\n",
    "    writer.writerow(report)"
   ]
  }
 ],
 "metadata": {
  "celltoolbar": "Tags",
  "kernelspec": {
   "display_name": "Python 3",
   "language": "python",
   "name": "python3"
  },
  "language_info": {
   "codemirror_mode": {
    "name": "ipython",
    "version": 3
   },
   "file_extension": ".py",
   "mimetype": "text/x-python",
   "name": "python",
   "nbconvert_exporter": "python",
   "pygments_lexer": "ipython3",
   "version": "3.9.1"
  },
  "papermill": {
   "default_parameters": {},
   "duration": 6.824204,
   "end_time": "2021-04-04T23:25:07.166146",
   "environment_variables": {},
   "exception": null,
   "input_path": "main.ipynb",
   "output_path": "runs/dataset_000130-model_000003.ipynb",
   "parameters": {
    "DATASET_CONFIG_PATH": "config/dataset/000130.json",
    "MODEL_CONFIG_PATH": "config/model/000003.json",
    "PROFILE_REPORTING": false
   },
   "start_time": "2021-04-04T23:25:00.341942",
   "version": "2.3.3"
  }
 },
 "nbformat": 4,
 "nbformat_minor": 5
}