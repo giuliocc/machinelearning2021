{
 "cells": [
  {
   "cell_type": "markdown",
   "id": "51c71c25",
   "metadata": {
    "papermill": {
     "duration": 0.024229,
     "end_time": "2021-04-04T23:33:01.734174",
     "exception": false,
     "start_time": "2021-04-04T23:33:01.709945",
     "status": "completed"
    },
    "tags": []
   },
   "source": [
    "# Parametrizing"
   ]
  },
  {
   "cell_type": "code",
   "execution_count": 1,
   "id": "3b136394",
   "metadata": {
    "execution": {
     "iopub.execute_input": "2021-04-04T23:33:01.797635Z",
     "iopub.status.busy": "2021-04-04T23:33:01.796666Z",
     "iopub.status.idle": "2021-04-04T23:33:01.798611Z",
     "shell.execute_reply": "2021-04-04T23:33:01.799164Z"
    },
    "papermill": {
     "duration": 0.042778,
     "end_time": "2021-04-04T23:33:01.799409",
     "exception": false,
     "start_time": "2021-04-04T23:33:01.756631",
     "status": "completed"
    },
    "tags": [
     "parameters"
    ]
   },
   "outputs": [],
   "source": [
    "DATASET_CONFIG_PATH = 'config/dataset/kc1_001.json'\n",
    "MODEL_CONFIG_PATH = 'config/model/knndd_001.json'\n",
    "PROFILE_REPORTING = False"
   ]
  },
  {
   "cell_type": "code",
   "execution_count": 2,
   "id": "2f8c65e2",
   "metadata": {
    "execution": {
     "iopub.execute_input": "2021-04-04T23:33:01.850821Z",
     "iopub.status.busy": "2021-04-04T23:33:01.849967Z",
     "iopub.status.idle": "2021-04-04T23:33:01.852161Z",
     "shell.execute_reply": "2021-04-04T23:33:01.851661Z"
    },
    "papermill": {
     "duration": 0.031761,
     "end_time": "2021-04-04T23:33:01.852280",
     "exception": false,
     "start_time": "2021-04-04T23:33:01.820519",
     "status": "completed"
    },
    "tags": [
     "injected-parameters"
    ]
   },
   "outputs": [],
   "source": [
    "# Parameters\n",
    "DATASET_CONFIG_PATH = \"config/dataset/000148.json\"\n",
    "MODEL_CONFIG_PATH = \"config/model/000004.json\"\n",
    "PROFILE_REPORTING = False\n"
   ]
  },
  {
   "cell_type": "code",
   "execution_count": 3,
   "id": "b80f2a10",
   "metadata": {
    "execution": {
     "iopub.execute_input": "2021-04-04T23:33:01.900638Z",
     "iopub.status.busy": "2021-04-04T23:33:01.899844Z",
     "iopub.status.idle": "2021-04-04T23:33:01.904032Z",
     "shell.execute_reply": "2021-04-04T23:33:01.904659Z"
    },
    "papermill": {
     "duration": 0.032331,
     "end_time": "2021-04-04T23:33:01.904813",
     "exception": false,
     "start_time": "2021-04-04T23:33:01.872482",
     "status": "completed"
    },
    "tags": []
   },
   "outputs": [],
   "source": [
    "import json\n",
    "\n",
    "\n",
    "with open(DATASET_CONFIG_PATH) as f:\n",
    "    dataset_config = json.load(f)\n",
    "\n",
    "with open(MODEL_CONFIG_PATH) as f:\n",
    "    model_config = json.load(f)"
   ]
  },
  {
   "cell_type": "markdown",
   "id": "9a4b0e2d",
   "metadata": {
    "papermill": {
     "duration": 0.02197,
     "end_time": "2021-04-04T23:33:01.946517",
     "exception": false,
     "start_time": "2021-04-04T23:33:01.924547",
     "status": "completed"
    },
    "tags": []
   },
   "source": [
    "# Profiling"
   ]
  },
  {
   "cell_type": "code",
   "execution_count": 4,
   "id": "a3e0289b",
   "metadata": {
    "execution": {
     "iopub.execute_input": "2021-04-04T23:33:01.995398Z",
     "iopub.status.busy": "2021-04-04T23:33:01.994407Z",
     "iopub.status.idle": "2021-04-04T23:33:03.350521Z",
     "shell.execute_reply": "2021-04-04T23:33:03.352100Z"
    },
    "papermill": {
     "duration": 1.3831,
     "end_time": "2021-04-04T23:33:03.352310",
     "exception": false,
     "start_time": "2021-04-04T23:33:01.969210",
     "status": "completed"
    },
    "tags": []
   },
   "outputs": [],
   "source": [
    "import pandas as pd\n",
    "from pandas_profiling import ProfileReport"
   ]
  },
  {
   "cell_type": "code",
   "execution_count": 5,
   "id": "ee6c0666",
   "metadata": {
    "execution": {
     "iopub.execute_input": "2021-04-04T23:33:03.411730Z",
     "iopub.status.busy": "2021-04-04T23:33:03.410617Z",
     "iopub.status.idle": "2021-04-04T23:33:03.421768Z",
     "shell.execute_reply": "2021-04-04T23:33:03.422253Z"
    },
    "papermill": {
     "duration": 0.044821,
     "end_time": "2021-04-04T23:33:03.422401",
     "exception": false,
     "start_time": "2021-04-04T23:33:03.377580",
     "status": "completed"
    },
    "tags": []
   },
   "outputs": [],
   "source": [
    "df = pd.read_csv(dataset_config['dataset_path'])"
   ]
  },
  {
   "cell_type": "code",
   "execution_count": 6,
   "id": "7eca6c4a",
   "metadata": {
    "execution": {
     "iopub.execute_input": "2021-04-04T23:33:03.485281Z",
     "iopub.status.busy": "2021-04-04T23:33:03.472821Z",
     "iopub.status.idle": "2021-04-04T23:33:03.489666Z",
     "shell.execute_reply": "2021-04-04T23:33:03.490205Z"
    },
    "papermill": {
     "duration": 0.043381,
     "end_time": "2021-04-04T23:33:03.490377",
     "exception": false,
     "start_time": "2021-04-04T23:33:03.446996",
     "status": "completed"
    },
    "tags": []
   },
   "outputs": [
    {
     "name": "stdout",
     "output_type": "stream",
     "text": [
      "<class 'pandas.core.frame.DataFrame'>\n",
      "RangeIndex: 498 entries, 0 to 497\n",
      "Data columns (total 23 columns):\n",
      " #   Column             Non-Null Count  Dtype  \n",
      "---  ------             --------------  -----  \n",
      " 0   id                 498 non-null    int64  \n",
      " 1   loc                498 non-null    float64\n",
      " 2   v(g)               498 non-null    float64\n",
      " 3   ev(g)              498 non-null    float64\n",
      " 4   iv(g)              498 non-null    float64\n",
      " 5   n                  498 non-null    float64\n",
      " 6   v                  498 non-null    float64\n",
      " 7   l                  498 non-null    float64\n",
      " 8   d                  498 non-null    float64\n",
      " 9   i                  498 non-null    float64\n",
      " 10  e                  498 non-null    float64\n",
      " 11  b                  498 non-null    float64\n",
      " 12  t                  498 non-null    float64\n",
      " 13  lOCode             498 non-null    int64  \n",
      " 14  lOComment          498 non-null    int64  \n",
      " 15  lOBlank            498 non-null    int64  \n",
      " 16  locCodeAndComment  498 non-null    int64  \n",
      " 17  uniq_Op            498 non-null    float64\n",
      " 18  uniq_Opnd          498 non-null    float64\n",
      " 19  total_Op           498 non-null    float64\n",
      " 20  total_Opnd         498 non-null    float64\n",
      " 21  branchCount        498 non-null    float64\n",
      " 22  defects            498 non-null    bool   \n",
      "dtypes: bool(1), float64(17), int64(5)\n",
      "memory usage: 86.2 KB\n"
     ]
    }
   ],
   "source": [
    "df.info()"
   ]
  },
  {
   "cell_type": "code",
   "execution_count": 7,
   "id": "3638e5e8",
   "metadata": {
    "execution": {
     "iopub.execute_input": "2021-04-04T23:33:03.551959Z",
     "iopub.status.busy": "2021-04-04T23:33:03.549274Z",
     "iopub.status.idle": "2021-04-04T23:33:03.576366Z",
     "shell.execute_reply": "2021-04-04T23:33:03.576944Z"
    },
    "papermill": {
     "duration": 0.061971,
     "end_time": "2021-04-04T23:33:03.577091",
     "exception": false,
     "start_time": "2021-04-04T23:33:03.515120",
     "status": "completed"
    },
    "tags": []
   },
   "outputs": [
    {
     "data": {
      "text/html": [
       "<div>\n",
       "<style scoped>\n",
       "    .dataframe tbody tr th:only-of-type {\n",
       "        vertical-align: middle;\n",
       "    }\n",
       "\n",
       "    .dataframe tbody tr th {\n",
       "        vertical-align: top;\n",
       "    }\n",
       "\n",
       "    .dataframe thead th {\n",
       "        text-align: right;\n",
       "    }\n",
       "</style>\n",
       "<table border=\"1\" class=\"dataframe\">\n",
       "  <thead>\n",
       "    <tr style=\"text-align: right;\">\n",
       "      <th></th>\n",
       "      <th>id</th>\n",
       "      <th>loc</th>\n",
       "      <th>v(g)</th>\n",
       "      <th>ev(g)</th>\n",
       "      <th>iv(g)</th>\n",
       "      <th>n</th>\n",
       "      <th>v</th>\n",
       "      <th>l</th>\n",
       "      <th>d</th>\n",
       "      <th>i</th>\n",
       "      <th>...</th>\n",
       "      <th>lOCode</th>\n",
       "      <th>lOComment</th>\n",
       "      <th>lOBlank</th>\n",
       "      <th>locCodeAndComment</th>\n",
       "      <th>uniq_Op</th>\n",
       "      <th>uniq_Opnd</th>\n",
       "      <th>total_Op</th>\n",
       "      <th>total_Opnd</th>\n",
       "      <th>branchCount</th>\n",
       "      <th>defects</th>\n",
       "    </tr>\n",
       "  </thead>\n",
       "  <tbody>\n",
       "    <tr>\n",
       "      <th>0</th>\n",
       "      <td>1</td>\n",
       "      <td>1.1</td>\n",
       "      <td>1.4</td>\n",
       "      <td>1.4</td>\n",
       "      <td>1.4</td>\n",
       "      <td>1.3</td>\n",
       "      <td>1.30</td>\n",
       "      <td>1.30</td>\n",
       "      <td>1.30</td>\n",
       "      <td>1.30</td>\n",
       "      <td>...</td>\n",
       "      <td>2</td>\n",
       "      <td>2</td>\n",
       "      <td>2</td>\n",
       "      <td>2</td>\n",
       "      <td>1.2</td>\n",
       "      <td>1.2</td>\n",
       "      <td>1.2</td>\n",
       "      <td>1.2</td>\n",
       "      <td>1.4</td>\n",
       "      <td>False</td>\n",
       "    </tr>\n",
       "    <tr>\n",
       "      <th>1</th>\n",
       "      <td>2</td>\n",
       "      <td>1.0</td>\n",
       "      <td>1.0</td>\n",
       "      <td>1.0</td>\n",
       "      <td>1.0</td>\n",
       "      <td>1.0</td>\n",
       "      <td>1.00</td>\n",
       "      <td>1.00</td>\n",
       "      <td>1.00</td>\n",
       "      <td>1.00</td>\n",
       "      <td>...</td>\n",
       "      <td>1</td>\n",
       "      <td>1</td>\n",
       "      <td>1</td>\n",
       "      <td>1</td>\n",
       "      <td>1.0</td>\n",
       "      <td>1.0</td>\n",
       "      <td>1.0</td>\n",
       "      <td>1.0</td>\n",
       "      <td>1.0</td>\n",
       "      <td>True</td>\n",
       "    </tr>\n",
       "    <tr>\n",
       "      <th>2</th>\n",
       "      <td>3</td>\n",
       "      <td>24.0</td>\n",
       "      <td>5.0</td>\n",
       "      <td>1.0</td>\n",
       "      <td>3.0</td>\n",
       "      <td>63.0</td>\n",
       "      <td>309.13</td>\n",
       "      <td>0.11</td>\n",
       "      <td>9.50</td>\n",
       "      <td>32.54</td>\n",
       "      <td>...</td>\n",
       "      <td>1</td>\n",
       "      <td>0</td>\n",
       "      <td>6</td>\n",
       "      <td>0</td>\n",
       "      <td>15.0</td>\n",
       "      <td>15.0</td>\n",
       "      <td>44.0</td>\n",
       "      <td>19.0</td>\n",
       "      <td>9.0</td>\n",
       "      <td>False</td>\n",
       "    </tr>\n",
       "    <tr>\n",
       "      <th>3</th>\n",
       "      <td>4</td>\n",
       "      <td>20.0</td>\n",
       "      <td>4.0</td>\n",
       "      <td>4.0</td>\n",
       "      <td>2.0</td>\n",
       "      <td>47.0</td>\n",
       "      <td>215.49</td>\n",
       "      <td>0.06</td>\n",
       "      <td>16.00</td>\n",
       "      <td>13.47</td>\n",
       "      <td>...</td>\n",
       "      <td>0</td>\n",
       "      <td>0</td>\n",
       "      <td>3</td>\n",
       "      <td>0</td>\n",
       "      <td>16.0</td>\n",
       "      <td>8.0</td>\n",
       "      <td>31.0</td>\n",
       "      <td>16.0</td>\n",
       "      <td>7.0</td>\n",
       "      <td>False</td>\n",
       "    </tr>\n",
       "    <tr>\n",
       "      <th>4</th>\n",
       "      <td>5</td>\n",
       "      <td>24.0</td>\n",
       "      <td>6.0</td>\n",
       "      <td>6.0</td>\n",
       "      <td>2.0</td>\n",
       "      <td>72.0</td>\n",
       "      <td>346.13</td>\n",
       "      <td>0.06</td>\n",
       "      <td>17.33</td>\n",
       "      <td>19.97</td>\n",
       "      <td>...</td>\n",
       "      <td>0</td>\n",
       "      <td>0</td>\n",
       "      <td>3</td>\n",
       "      <td>0</td>\n",
       "      <td>16.0</td>\n",
       "      <td>12.0</td>\n",
       "      <td>46.0</td>\n",
       "      <td>26.0</td>\n",
       "      <td>11.0</td>\n",
       "      <td>False</td>\n",
       "    </tr>\n",
       "  </tbody>\n",
       "</table>\n",
       "<p>5 rows × 23 columns</p>\n",
       "</div>"
      ],
      "text/plain": [
       "   id   loc  v(g)  ev(g)  iv(g)     n       v     l      d      i  ...  \\\n",
       "0   1   1.1   1.4    1.4    1.4   1.3    1.30  1.30   1.30   1.30  ...   \n",
       "1   2   1.0   1.0    1.0    1.0   1.0    1.00  1.00   1.00   1.00  ...   \n",
       "2   3  24.0   5.0    1.0    3.0  63.0  309.13  0.11   9.50  32.54  ...   \n",
       "3   4  20.0   4.0    4.0    2.0  47.0  215.49  0.06  16.00  13.47  ...   \n",
       "4   5  24.0   6.0    6.0    2.0  72.0  346.13  0.06  17.33  19.97  ...   \n",
       "\n",
       "   lOCode  lOComment  lOBlank  locCodeAndComment  uniq_Op  uniq_Opnd  \\\n",
       "0       2          2        2                  2      1.2        1.2   \n",
       "1       1          1        1                  1      1.0        1.0   \n",
       "2       1          0        6                  0     15.0       15.0   \n",
       "3       0          0        3                  0     16.0        8.0   \n",
       "4       0          0        3                  0     16.0       12.0   \n",
       "\n",
       "   total_Op  total_Opnd  branchCount  defects  \n",
       "0       1.2         1.2          1.4    False  \n",
       "1       1.0         1.0          1.0     True  \n",
       "2      44.0        19.0          9.0    False  \n",
       "3      31.0        16.0          7.0    False  \n",
       "4      46.0        26.0         11.0    False  \n",
       "\n",
       "[5 rows x 23 columns]"
      ]
     },
     "execution_count": 7,
     "metadata": {},
     "output_type": "execute_result"
    }
   ],
   "source": [
    "df.head()"
   ]
  },
  {
   "cell_type": "code",
   "execution_count": 8,
   "id": "733e95eb",
   "metadata": {
    "execution": {
     "iopub.execute_input": "2021-04-04T23:33:03.628423Z",
     "iopub.status.busy": "2021-04-04T23:33:03.627614Z",
     "iopub.status.idle": "2021-04-04T23:33:03.630399Z",
     "shell.execute_reply": "2021-04-04T23:33:03.629755Z"
    },
    "papermill": {
     "duration": 0.028773,
     "end_time": "2021-04-04T23:33:03.630584",
     "exception": false,
     "start_time": "2021-04-04T23:33:03.601811",
     "status": "completed"
    },
    "tags": []
   },
   "outputs": [],
   "source": [
    "del df['id']"
   ]
  },
  {
   "cell_type": "code",
   "execution_count": 9,
   "id": "6ff6f5b0",
   "metadata": {
    "execution": {
     "iopub.execute_input": "2021-04-04T23:33:03.695847Z",
     "iopub.status.busy": "2021-04-04T23:33:03.694772Z",
     "iopub.status.idle": "2021-04-04T23:33:03.697512Z",
     "shell.execute_reply": "2021-04-04T23:33:03.698720Z"
    },
    "papermill": {
     "duration": 0.042426,
     "end_time": "2021-04-04T23:33:03.699107",
     "exception": false,
     "start_time": "2021-04-04T23:33:03.656681",
     "status": "completed"
    },
    "tags": []
   },
   "outputs": [],
   "source": [
    "if PROFILE_REPORTING:\n",
    "    ProfileReport(df).to_widgets()"
   ]
  },
  {
   "cell_type": "markdown",
   "id": "1deaf3f0",
   "metadata": {
    "papermill": {
     "duration": 0.024,
     "end_time": "2021-04-04T23:33:03.747636",
     "exception": false,
     "start_time": "2021-04-04T23:33:03.723636",
     "status": "completed"
    },
    "tags": []
   },
   "source": [
    "# Preprocess"
   ]
  },
  {
   "cell_type": "code",
   "execution_count": 10,
   "id": "1513e563",
   "metadata": {
    "execution": {
     "iopub.execute_input": "2021-04-04T23:33:03.805924Z",
     "iopub.status.busy": "2021-04-04T23:33:03.804552Z",
     "iopub.status.idle": "2021-04-04T23:33:03.806950Z",
     "shell.execute_reply": "2021-04-04T23:33:03.807607Z"
    },
    "papermill": {
     "duration": 0.035566,
     "end_time": "2021-04-04T23:33:03.807789",
     "exception": false,
     "start_time": "2021-04-04T23:33:03.772223",
     "status": "completed"
    },
    "tags": []
   },
   "outputs": [],
   "source": [
    "working_df = df.copy()"
   ]
  },
  {
   "cell_type": "code",
   "execution_count": 11,
   "id": "3b26d675",
   "metadata": {
    "execution": {
     "iopub.execute_input": "2021-04-04T23:33:03.860894Z",
     "iopub.status.busy": "2021-04-04T23:33:03.859827Z",
     "iopub.status.idle": "2021-04-04T23:33:03.863818Z",
     "shell.execute_reply": "2021-04-04T23:33:03.863017Z"
    },
    "papermill": {
     "duration": 0.033093,
     "end_time": "2021-04-04T23:33:03.863988",
     "exception": false,
     "start_time": "2021-04-04T23:33:03.830895",
     "status": "completed"
    },
    "tags": []
   },
   "outputs": [],
   "source": [
    "working_df['defects'] = working_df['defects'].replace([False, True], [0, 1])"
   ]
  },
  {
   "cell_type": "code",
   "execution_count": 12,
   "id": "eb48604f",
   "metadata": {
    "execution": {
     "iopub.execute_input": "2021-04-04T23:33:03.919298Z",
     "iopub.status.busy": "2021-04-04T23:33:03.918517Z",
     "iopub.status.idle": "2021-04-04T23:33:03.920286Z",
     "shell.execute_reply": "2021-04-04T23:33:03.920763Z"
    },
    "papermill": {
     "duration": 0.034996,
     "end_time": "2021-04-04T23:33:03.920918",
     "exception": false,
     "start_time": "2021-04-04T23:33:03.885922",
     "status": "completed"
    },
    "tags": []
   },
   "outputs": [],
   "source": [
    "for col in dataset_config['delete_columns']:\n",
    "    del working_df[col]"
   ]
  },
  {
   "cell_type": "code",
   "execution_count": 13,
   "id": "9a17bc29",
   "metadata": {
    "execution": {
     "iopub.execute_input": "2021-04-04T23:33:03.973263Z",
     "iopub.status.busy": "2021-04-04T23:33:03.972644Z",
     "iopub.status.idle": "2021-04-04T23:33:03.980343Z",
     "shell.execute_reply": "2021-04-04T23:33:03.979827Z"
    },
    "papermill": {
     "duration": 0.037092,
     "end_time": "2021-04-04T23:33:03.980463",
     "exception": false,
     "start_time": "2021-04-04T23:33:03.943371",
     "status": "completed"
    },
    "tags": []
   },
   "outputs": [],
   "source": [
    "working_df = working_df.drop_duplicates()"
   ]
  },
  {
   "cell_type": "markdown",
   "id": "a4d52ca6",
   "metadata": {
    "papermill": {
     "duration": 0.027825,
     "end_time": "2021-04-04T23:33:04.033475",
     "exception": false,
     "start_time": "2021-04-04T23:33:04.005650",
     "status": "completed"
    },
    "tags": []
   },
   "source": [
    "# Split"
   ]
  },
  {
   "cell_type": "code",
   "execution_count": 14,
   "id": "3e9ee4b5",
   "metadata": {
    "execution": {
     "iopub.execute_input": "2021-04-04T23:33:04.098618Z",
     "iopub.status.busy": "2021-04-04T23:33:04.095987Z",
     "iopub.status.idle": "2021-04-04T23:33:04.159515Z",
     "shell.execute_reply": "2021-04-04T23:33:04.155442Z"
    },
    "papermill": {
     "duration": 0.099039,
     "end_time": "2021-04-04T23:33:04.160134",
     "exception": false,
     "start_time": "2021-04-04T23:33:04.061095",
     "status": "completed"
    },
    "tags": []
   },
   "outputs": [],
   "source": [
    "from sklearn.model_selection import train_test_split"
   ]
  },
  {
   "cell_type": "code",
   "execution_count": 15,
   "id": "274004ce",
   "metadata": {
    "execution": {
     "iopub.execute_input": "2021-04-04T23:33:04.232945Z",
     "iopub.status.busy": "2021-04-04T23:33:04.230569Z",
     "iopub.status.idle": "2021-04-04T23:33:04.239675Z",
     "shell.execute_reply": "2021-04-04T23:33:04.240852Z"
    },
    "papermill": {
     "duration": 0.047547,
     "end_time": "2021-04-04T23:33:04.241069",
     "exception": false,
     "start_time": "2021-04-04T23:33:04.193522",
     "status": "completed"
    },
    "scrolled": true,
    "tags": []
   },
   "outputs": [],
   "source": [
    "inlier, outlier = working_df[working_df['defects'] == 0], working_df[working_df['defects'] == 1]"
   ]
  },
  {
   "cell_type": "code",
   "execution_count": 16,
   "id": "753c7b03",
   "metadata": {
    "execution": {
     "iopub.execute_input": "2021-04-04T23:33:04.296251Z",
     "iopub.status.busy": "2021-04-04T23:33:04.294553Z",
     "iopub.status.idle": "2021-04-04T23:33:04.298879Z",
     "shell.execute_reply": "2021-04-04T23:33:04.299358Z"
    },
    "papermill": {
     "duration": 0.03339,
     "end_time": "2021-04-04T23:33:04.299505",
     "exception": false,
     "start_time": "2021-04-04T23:33:04.266115",
     "status": "completed"
    },
    "tags": []
   },
   "outputs": [],
   "source": [
    "X_inlier = inlier.copy()\n",
    "y_inlier = X_inlier.pop('defects')\n",
    "X_outlier = outlier.copy()\n",
    "y_outlier = X_outlier.pop('defects')"
   ]
  },
  {
   "cell_type": "code",
   "execution_count": 17,
   "id": "2ba43193",
   "metadata": {
    "execution": {
     "iopub.execute_input": "2021-04-04T23:33:04.375025Z",
     "iopub.status.busy": "2021-04-04T23:33:04.373028Z",
     "iopub.status.idle": "2021-04-04T23:33:04.377206Z",
     "shell.execute_reply": "2021-04-04T23:33:04.379234Z"
    },
    "papermill": {
     "duration": 0.055651,
     "end_time": "2021-04-04T23:33:04.379935",
     "exception": false,
     "start_time": "2021-04-04T23:33:04.324284",
     "status": "completed"
    },
    "tags": []
   },
   "outputs": [],
   "source": [
    "test_size = dataset_config['test_size']\n",
    "random_state = dataset_config['random_state']\n",
    "\n",
    "X_inlier_train, X_inlier_test, y_inlier_train, y_inlier_test = train_test_split(\n",
    "    X_inlier,\n",
    "    y_inlier,\n",
    "    test_size=test_size,\n",
    "    random_state=random_state\n",
    ")"
   ]
  },
  {
   "cell_type": "code",
   "execution_count": 18,
   "id": "0b7582ca",
   "metadata": {
    "execution": {
     "iopub.execute_input": "2021-04-04T23:33:04.471386Z",
     "iopub.status.busy": "2021-04-04T23:33:04.466325Z",
     "iopub.status.idle": "2021-04-04T23:33:04.477323Z",
     "shell.execute_reply": "2021-04-04T23:33:04.478130Z"
    },
    "papermill": {
     "duration": 0.047849,
     "end_time": "2021-04-04T23:33:04.478325",
     "exception": false,
     "start_time": "2021-04-04T23:33:04.430476",
     "status": "completed"
    },
    "tags": []
   },
   "outputs": [],
   "source": [
    "test_outlier_size = dataset_config['test_outlier_size']\n",
    "if test_outlier_size > 0.0:\n",
    "    X_outlier_train, X_outlier_test, y_outlier_train, y_outlier_test = train_test_split(\n",
    "        X_outlier,\n",
    "        y_outlier,\n",
    "        test_size=test_outlier_size,\n",
    "        random_state=random_state\n",
    "    )\n",
    "else:\n",
    "    X_outlier_train, y_outlier_train = pd.DataFrame(columns=X_outlier.columns), pd.Series(dtype='int64')\n",
    "    X_outlier_test, y_outlier_test = X_outlier.copy(), y_outlier.copy()"
   ]
  },
  {
   "cell_type": "code",
   "execution_count": 19,
   "id": "c34363db",
   "metadata": {
    "execution": {
     "iopub.execute_input": "2021-04-04T23:33:04.545660Z",
     "iopub.status.busy": "2021-04-04T23:33:04.544855Z",
     "iopub.status.idle": "2021-04-04T23:33:04.555216Z",
     "shell.execute_reply": "2021-04-04T23:33:04.553598Z"
    },
    "papermill": {
     "duration": 0.046436,
     "end_time": "2021-04-04T23:33:04.555601",
     "exception": false,
     "start_time": "2021-04-04T23:33:04.509165",
     "status": "completed"
    },
    "tags": []
   },
   "outputs": [],
   "source": [
    "X_train, y_train = pd.concat([X_inlier_train, X_outlier_train], ignore_index=True), pd.concat([y_inlier_train, y_outlier_train], ignore_index=True)\n",
    "X_test, y_test = pd.concat([X_inlier_test, X_outlier_test], ignore_index=True), pd.concat([y_inlier_test, y_outlier_test], ignore_index=True)"
   ]
  },
  {
   "cell_type": "markdown",
   "id": "7cde7309",
   "metadata": {
    "papermill": {
     "duration": 0.024538,
     "end_time": "2021-04-04T23:33:04.606216",
     "exception": false,
     "start_time": "2021-04-04T23:33:04.581678",
     "status": "completed"
    },
    "tags": []
   },
   "source": [
    "# Model"
   ]
  },
  {
   "cell_type": "code",
   "execution_count": 20,
   "id": "2b12a415",
   "metadata": {
    "execution": {
     "iopub.execute_input": "2021-04-04T23:33:04.695186Z",
     "iopub.status.busy": "2021-04-04T23:33:04.692624Z",
     "iopub.status.idle": "2021-04-04T23:33:04.697695Z",
     "shell.execute_reply": "2021-04-04T23:33:04.698426Z"
    },
    "papermill": {
     "duration": 0.06043,
     "end_time": "2021-04-04T23:33:04.698866",
     "exception": false,
     "start_time": "2021-04-04T23:33:04.638436",
     "status": "completed"
    },
    "tags": []
   },
   "outputs": [],
   "source": [
    "from math import sqrt\n",
    "\n",
    "\n",
    "class KNNDataDescription:\n",
    "    def __init__(self, k=5, outlier_threshold=1.0):\n",
    "        self.k = k\n",
    "        self.outlier_threshold = outlier_threshold\n",
    "        self.X = []\n",
    "    \n",
    "    def fit(self, X):\n",
    "        self.X = [features.to_list() for index, features in X.iterrows()]\n",
    "\n",
    "    def predict(self, entries):\n",
    "        return [self.predict_entry(features.to_list()) for index, features in entries.iterrows()]\n",
    "    \n",
    "    def predict_entry(self, entry):\n",
    "        kth_neighbor, kth_distance = self.get_kth_neighbor(entry, self.k)\n",
    "        kth_kth_neighbor, kth_kth_distance = self.get_kth_neighbor(kth_neighbor, self.k + 1)\n",
    "\n",
    "        outlier_score = kth_distance / (kth_kth_distance + 0.000001)\n",
    "\n",
    "        return 1 if outlier_score < self.outlier_threshold else -1\n",
    "        \n",
    "    def euclidean_distance(self, features1, features2):\n",
    "        distance = 0.0\n",
    "        for feat1, feat2 in zip(features1, features2):\n",
    "            distance += (feat1 - feat2)**2\n",
    "                \n",
    "        return sqrt(distance)\n",
    "\n",
    "    def get_neighbors(self, entry, k):\n",
    "        distance_to_data_points = [\n",
    "            (data_point, self.euclidean_distance(entry, data_point))\n",
    "            for data_point in self.X\n",
    "        ]\n",
    "        sorted_by_distance = sorted(distance_to_data_points, key=lambda tup: tup[1])\n",
    "        neighbors = sorted_by_distance[:k]\n",
    "        return neighbors\n",
    "\n",
    "    def get_kth_neighbor(self, entry, k):\n",
    "        neighbors = self.get_neighbors(entry, k)\n",
    "        return neighbors[-1]\n"
   ]
  },
  {
   "cell_type": "code",
   "execution_count": 21,
   "id": "1fa9ec1c",
   "metadata": {
    "execution": {
     "iopub.execute_input": "2021-04-04T23:33:04.829340Z",
     "iopub.status.busy": "2021-04-04T23:33:04.828157Z",
     "iopub.status.idle": "2021-04-04T23:33:04.861223Z",
     "shell.execute_reply": "2021-04-04T23:33:04.861762Z"
    },
    "papermill": {
     "duration": 0.116356,
     "end_time": "2021-04-04T23:33:04.861923",
     "exception": false,
     "start_time": "2021-04-04T23:33:04.745567",
     "status": "completed"
    },
    "tags": []
   },
   "outputs": [],
   "source": [
    "from sklearn.svm import OneClassSVM\n",
    "\n",
    "\n",
    "models = {\n",
    "    'oneclasssvm': OneClassSVM,\n",
    "    'knndatadescription': KNNDataDescription,\n",
    "}"
   ]
  },
  {
   "cell_type": "code",
   "execution_count": 22,
   "id": "4d72a0b1",
   "metadata": {
    "execution": {
     "iopub.execute_input": "2021-04-04T23:33:04.971106Z",
     "iopub.status.busy": "2021-04-04T23:33:04.969567Z",
     "iopub.status.idle": "2021-04-04T23:33:04.975141Z",
     "shell.execute_reply": "2021-04-04T23:33:04.977803Z"
    },
    "papermill": {
     "duration": 0.075213,
     "end_time": "2021-04-04T23:33:04.978441",
     "exception": false,
     "start_time": "2021-04-04T23:33:04.903228",
     "status": "completed"
    },
    "scrolled": true,
    "tags": []
   },
   "outputs": [],
   "source": [
    "model_cls = models[model_config['model_type']]\n",
    "model = model_cls(**model_config['hyperparameters'])"
   ]
  },
  {
   "cell_type": "markdown",
   "id": "e00cff3b",
   "metadata": {
    "papermill": {
     "duration": 0.026488,
     "end_time": "2021-04-04T23:33:05.045895",
     "exception": false,
     "start_time": "2021-04-04T23:33:05.019407",
     "status": "completed"
    },
    "tags": []
   },
   "source": [
    "# Fit"
   ]
  },
  {
   "cell_type": "code",
   "execution_count": 23,
   "id": "8b2ded89",
   "metadata": {
    "execution": {
     "iopub.execute_input": "2021-04-04T23:33:05.139197Z",
     "iopub.status.busy": "2021-04-04T23:33:05.132284Z",
     "iopub.status.idle": "2021-04-04T23:33:05.154664Z",
     "shell.execute_reply": "2021-04-04T23:33:05.156051Z"
    },
    "papermill": {
     "duration": 0.073431,
     "end_time": "2021-04-04T23:33:05.156525",
     "exception": false,
     "start_time": "2021-04-04T23:33:05.083094",
     "status": "completed"
    },
    "tags": []
   },
   "outputs": [
    {
     "data": {
      "text/plain": [
       "OneClassSVM()"
      ]
     },
     "execution_count": 23,
     "metadata": {},
     "output_type": "execute_result"
    }
   ],
   "source": [
    "model.fit(X_train)"
   ]
  },
  {
   "cell_type": "markdown",
   "id": "f99999f7",
   "metadata": {
    "papermill": {
     "duration": 0.048032,
     "end_time": "2021-04-04T23:33:05.252725",
     "exception": false,
     "start_time": "2021-04-04T23:33:05.204693",
     "status": "completed"
    },
    "tags": []
   },
   "source": [
    "# Predict"
   ]
  },
  {
   "cell_type": "code",
   "execution_count": 24,
   "id": "6536fbf7",
   "metadata": {
    "execution": {
     "iopub.execute_input": "2021-04-04T23:33:05.340058Z",
     "iopub.status.busy": "2021-04-04T23:33:05.338498Z",
     "iopub.status.idle": "2021-04-04T23:33:05.348408Z",
     "shell.execute_reply": "2021-04-04T23:33:05.349143Z"
    },
    "papermill": {
     "duration": 0.058765,
     "end_time": "2021-04-04T23:33:05.349332",
     "exception": false,
     "start_time": "2021-04-04T23:33:05.290567",
     "status": "completed"
    },
    "tags": []
   },
   "outputs": [],
   "source": [
    "predictions = model.predict(X_test)"
   ]
  },
  {
   "cell_type": "markdown",
   "id": "aa1c9881",
   "metadata": {
    "papermill": {
     "duration": 0.028361,
     "end_time": "2021-04-04T23:33:05.416807",
     "exception": false,
     "start_time": "2021-04-04T23:33:05.388446",
     "status": "completed"
    },
    "tags": []
   },
   "source": [
    "# Evaluate"
   ]
  },
  {
   "cell_type": "code",
   "execution_count": 25,
   "id": "894f0f04",
   "metadata": {
    "execution": {
     "iopub.execute_input": "2021-04-04T23:33:05.503011Z",
     "iopub.status.busy": "2021-04-04T23:33:05.500912Z",
     "iopub.status.idle": "2021-04-04T23:33:05.508390Z",
     "shell.execute_reply": "2021-04-04T23:33:05.511088Z"
    },
    "papermill": {
     "duration": 0.068016,
     "end_time": "2021-04-04T23:33:05.511773",
     "exception": false,
     "start_time": "2021-04-04T23:33:05.443757",
     "status": "completed"
    },
    "tags": []
   },
   "outputs": [],
   "source": [
    "from sklearn.metrics import f1_score"
   ]
  },
  {
   "cell_type": "code",
   "execution_count": 26,
   "id": "211744d3",
   "metadata": {
    "execution": {
     "iopub.execute_input": "2021-04-04T23:33:05.575825Z",
     "iopub.status.busy": "2021-04-04T23:33:05.575107Z",
     "iopub.status.idle": "2021-04-04T23:33:05.576865Z",
     "shell.execute_reply": "2021-04-04T23:33:05.577365Z"
    },
    "papermill": {
     "duration": 0.030996,
     "end_time": "2021-04-04T23:33:05.577542",
     "exception": false,
     "start_time": "2021-04-04T23:33:05.546546",
     "status": "completed"
    },
    "tags": []
   },
   "outputs": [],
   "source": [
    "y_test = y_test.replace([0, 1], [1, -1])"
   ]
  },
  {
   "cell_type": "code",
   "execution_count": 27,
   "id": "d68a9204",
   "metadata": {
    "execution": {
     "iopub.execute_input": "2021-04-04T23:33:05.645139Z",
     "iopub.status.busy": "2021-04-04T23:33:05.644538Z",
     "iopub.status.idle": "2021-04-04T23:33:05.646518Z",
     "shell.execute_reply": "2021-04-04T23:33:05.647013Z"
    },
    "papermill": {
     "duration": 0.042215,
     "end_time": "2021-04-04T23:33:05.647154",
     "exception": false,
     "start_time": "2021-04-04T23:33:05.604939",
     "status": "completed"
    },
    "tags": []
   },
   "outputs": [],
   "source": [
    "def evaluate(truths, predictions, pos_label, neg_label):\n",
    "    TP = 0\n",
    "    FP = 0\n",
    "    TN = 0\n",
    "    FN = 0\n",
    "\n",
    "    for truth, pred in zip(truths, predictions): \n",
    "        if truth == pred == pos_label:\n",
    "           TP += 1\n",
    "        elif pred == pos_label and truth == neg_label:\n",
    "           FP += 1\n",
    "        elif truth == pred == neg_label:\n",
    "           TN += 1\n",
    "        elif pred == neg_label and truth == pos_label:\n",
    "           FN += 1\n",
    "\n",
    "    precision = TP / (TP + FP)\n",
    "    sensitivity = TP / (TP + FN)\n",
    "    \n",
    "    return {\n",
    "        'true_pos': TP,\n",
    "        'false_pos': FP,\n",
    "        'false_neg': FN,\n",
    "        'true_neg': TN,\n",
    "        'precision': precision,\n",
    "        'sensitivity': sensitivity,\n",
    "        'f1': (2 * (precision * sensitivity)) / (precision + sensitivity)\n",
    "    }\n",
    "\n",
    "score = evaluate(y_test, predictions, pos_label=-1, neg_label=1)"
   ]
  },
  {
   "cell_type": "markdown",
   "id": "93596516",
   "metadata": {
    "papermill": {
     "duration": 0.0406,
     "end_time": "2021-04-04T23:33:05.719496",
     "exception": false,
     "start_time": "2021-04-04T23:33:05.678896",
     "status": "completed"
    },
    "tags": []
   },
   "source": [
    "# Report"
   ]
  },
  {
   "cell_type": "code",
   "execution_count": 28,
   "id": "bea5fba1",
   "metadata": {
    "execution": {
     "iopub.execute_input": "2021-04-04T23:33:05.788223Z",
     "iopub.status.busy": "2021-04-04T23:33:05.787346Z",
     "iopub.status.idle": "2021-04-04T23:33:05.789818Z",
     "shell.execute_reply": "2021-04-04T23:33:05.790436Z"
    },
    "papermill": {
     "duration": 0.039828,
     "end_time": "2021-04-04T23:33:05.790623",
     "exception": false,
     "start_time": "2021-04-04T23:33:05.750795",
     "status": "completed"
    },
    "tags": []
   },
   "outputs": [],
   "source": [
    "import csv\n",
    "\n",
    "\n",
    "dataset_config_name = DATASET_CONFIG_PATH.split('/')[-1].split('.')[0]\n",
    "model_config_name = MODEL_CONFIG_PATH.split('/')[-1].split('.')[0]\n",
    "configuration = f\"dataset_{dataset_config_name}-model_{model_config_name}\"\n",
    "\n",
    "with open('results.csv', 'a') as f:\n",
    "    report = dict({'configuration': configuration}, **score)\n",
    "    writer = csv.DictWriter(f, report.keys())\n",
    "    writer.writerow(report)"
   ]
  }
 ],
 "metadata": {
  "celltoolbar": "Tags",
  "kernelspec": {
   "display_name": "Python 3",
   "language": "python",
   "name": "python3"
  },
  "language_info": {
   "codemirror_mode": {
    "name": "ipython",
    "version": 3
   },
   "file_extension": ".py",
   "mimetype": "text/x-python",
   "name": "python",
   "nbconvert_exporter": "python",
   "pygments_lexer": "ipython3",
   "version": "3.9.1"
  },
  "papermill": {
   "default_parameters": {},
   "duration": 5.681035,
   "end_time": "2021-04-04T23:33:06.451296",
   "environment_variables": {},
   "exception": null,
   "input_path": "main.ipynb",
   "output_path": "runs/dataset_000148-model_000004.ipynb",
   "parameters": {
    "DATASET_CONFIG_PATH": "config/dataset/000148.json",
    "MODEL_CONFIG_PATH": "config/model/000004.json",
    "PROFILE_REPORTING": false
   },
   "start_time": "2021-04-04T23:33:00.770261",
   "version": "2.3.3"
  }
 },
 "nbformat": 4,
 "nbformat_minor": 5
}