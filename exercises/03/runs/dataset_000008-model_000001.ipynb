{
 "cells": [
  {
   "cell_type": "markdown",
   "id": "4588efca",
   "metadata": {
    "papermill": {
     "duration": 0.026743,
     "end_time": "2021-04-04T22:24:41.851921",
     "exception": false,
     "start_time": "2021-04-04T22:24:41.825178",
     "status": "completed"
    },
    "tags": []
   },
   "source": [
    "# Parametrizing"
   ]
  },
  {
   "cell_type": "code",
   "execution_count": 1,
   "id": "5964d9c0",
   "metadata": {
    "execution": {
     "iopub.execute_input": "2021-04-04T22:24:41.905929Z",
     "iopub.status.busy": "2021-04-04T22:24:41.900661Z",
     "iopub.status.idle": "2021-04-04T22:24:41.909630Z",
     "shell.execute_reply": "2021-04-04T22:24:41.908882Z"
    },
    "papermill": {
     "duration": 0.038416,
     "end_time": "2021-04-04T22:24:41.909770",
     "exception": false,
     "start_time": "2021-04-04T22:24:41.871354",
     "status": "completed"
    },
    "tags": [
     "parameters"
    ]
   },
   "outputs": [],
   "source": [
    "DATASET_CONFIG_PATH = 'config/dataset/kc1_001.json'\n",
    "MODEL_CONFIG_PATH = 'config/model/knndd_001.json'\n",
    "PROFILE_REPORTING = False"
   ]
  },
  {
   "cell_type": "code",
   "execution_count": 2,
   "id": "1b514df6",
   "metadata": {
    "execution": {
     "iopub.execute_input": "2021-04-04T22:24:41.953055Z",
     "iopub.status.busy": "2021-04-04T22:24:41.952282Z",
     "iopub.status.idle": "2021-04-04T22:24:41.955531Z",
     "shell.execute_reply": "2021-04-04T22:24:41.954684Z"
    },
    "papermill": {
     "duration": 0.026396,
     "end_time": "2021-04-04T22:24:41.955695",
     "exception": false,
     "start_time": "2021-04-04T22:24:41.929299",
     "status": "completed"
    },
    "tags": [
     "injected-parameters"
    ]
   },
   "outputs": [],
   "source": [
    "# Parameters\n",
    "DATASET_CONFIG_PATH = \"config/dataset/000008.json\"\n",
    "MODEL_CONFIG_PATH = \"config/model/000001.json\"\n",
    "PROFILE_REPORTING = False\n"
   ]
  },
  {
   "cell_type": "code",
   "execution_count": 3,
   "id": "3fa67035",
   "metadata": {
    "execution": {
     "iopub.execute_input": "2021-04-04T22:24:42.007823Z",
     "iopub.status.busy": "2021-04-04T22:24:42.007160Z",
     "iopub.status.idle": "2021-04-04T22:24:42.008789Z",
     "shell.execute_reply": "2021-04-04T22:24:42.009255Z"
    },
    "papermill": {
     "duration": 0.029002,
     "end_time": "2021-04-04T22:24:42.009400",
     "exception": false,
     "start_time": "2021-04-04T22:24:41.980398",
     "status": "completed"
    },
    "tags": []
   },
   "outputs": [],
   "source": [
    "import json\n",
    "\n",
    "\n",
    "with open(DATASET_CONFIG_PATH) as f:\n",
    "    dataset_config = json.load(f)\n",
    "\n",
    "with open(MODEL_CONFIG_PATH) as f:\n",
    "    model_config = json.load(f)"
   ]
  },
  {
   "cell_type": "markdown",
   "id": "9a4b0e2d",
   "metadata": {
    "papermill": {
     "duration": 0.019103,
     "end_time": "2021-04-04T22:24:42.048922",
     "exception": false,
     "start_time": "2021-04-04T22:24:42.029819",
     "status": "completed"
    },
    "tags": []
   },
   "source": [
    "# Profiling"
   ]
  },
  {
   "cell_type": "code",
   "execution_count": 4,
   "id": "a3e0289b",
   "metadata": {
    "execution": {
     "iopub.execute_input": "2021-04-04T22:24:42.090772Z",
     "iopub.status.busy": "2021-04-04T22:24:42.090175Z",
     "iopub.status.idle": "2021-04-04T22:24:43.391922Z",
     "shell.execute_reply": "2021-04-04T22:24:43.391325Z"
    },
    "papermill": {
     "duration": 1.323999,
     "end_time": "2021-04-04T22:24:43.392042",
     "exception": false,
     "start_time": "2021-04-04T22:24:42.068043",
     "status": "completed"
    },
    "tags": []
   },
   "outputs": [],
   "source": [
    "import pandas as pd\n",
    "from pandas_profiling import ProfileReport"
   ]
  },
  {
   "cell_type": "code",
   "execution_count": 5,
   "id": "ee6c0666",
   "metadata": {
    "execution": {
     "iopub.execute_input": "2021-04-04T22:24:43.442655Z",
     "iopub.status.busy": "2021-04-04T22:24:43.441817Z",
     "iopub.status.idle": "2021-04-04T22:24:43.452958Z",
     "shell.execute_reply": "2021-04-04T22:24:43.452359Z"
    },
    "papermill": {
     "duration": 0.040196,
     "end_time": "2021-04-04T22:24:43.453077",
     "exception": false,
     "start_time": "2021-04-04T22:24:43.412881",
     "status": "completed"
    },
    "tags": []
   },
   "outputs": [],
   "source": [
    "df = pd.read_csv(dataset_config['dataset_path'])"
   ]
  },
  {
   "cell_type": "code",
   "execution_count": 6,
   "id": "20d45671",
   "metadata": {
    "execution": {
     "iopub.execute_input": "2021-04-04T22:24:43.507216Z",
     "iopub.status.busy": "2021-04-04T22:24:43.506361Z",
     "iopub.status.idle": "2021-04-04T22:24:43.508979Z",
     "shell.execute_reply": "2021-04-04T22:24:43.509444Z"
    },
    "papermill": {
     "duration": 0.03601,
     "end_time": "2021-04-04T22:24:43.509589",
     "exception": false,
     "start_time": "2021-04-04T22:24:43.473579",
     "status": "completed"
    },
    "tags": []
   },
   "outputs": [
    {
     "name": "stdout",
     "output_type": "stream",
     "text": [
      "<class 'pandas.core.frame.DataFrame'>\n",
      "RangeIndex: 2109 entries, 0 to 2108\n",
      "Data columns (total 23 columns):\n",
      " #   Column             Non-Null Count  Dtype  \n",
      "---  ------             --------------  -----  \n",
      " 0   id                 2109 non-null   int64  \n",
      " 1   loc                2109 non-null   float64\n",
      " 2   v(g)               2109 non-null   float64\n",
      " 3   ev(g)              2109 non-null   float64\n",
      " 4   iv(g)              2109 non-null   float64\n",
      " 5   n                  2109 non-null   float64\n",
      " 6   v                  2109 non-null   float64\n",
      " 7   l                  2109 non-null   float64\n",
      " 8   d                  2109 non-null   float64\n",
      " 9   i                  2109 non-null   float64\n",
      " 10  e                  2109 non-null   float64\n",
      " 11  b                  2109 non-null   float64\n",
      " 12  t                  2109 non-null   float64\n",
      " 13  lOCode             2109 non-null   int64  \n",
      " 14  lOComment          2109 non-null   int64  \n",
      " 15  lOBlank            2109 non-null   int64  \n",
      " 16  locCodeAndComment  2109 non-null   int64  \n",
      " 17  uniq_Op            2109 non-null   float64\n",
      " 18  uniq_Opnd          2109 non-null   float64\n",
      " 19  total_Op           2109 non-null   float64\n",
      " 20  total_Opnd         2109 non-null   float64\n",
      " 21  branchCount        2109 non-null   float64\n",
      " 22  defects            2109 non-null   bool   \n",
      "dtypes: bool(1), float64(17), int64(5)\n",
      "memory usage: 364.7 KB\n"
     ]
    }
   ],
   "source": [
    "df.info()"
   ]
  },
  {
   "cell_type": "code",
   "execution_count": 7,
   "id": "a676db33",
   "metadata": {
    "execution": {
     "iopub.execute_input": "2021-04-04T22:24:43.582582Z",
     "iopub.status.busy": "2021-04-04T22:24:43.571834Z",
     "iopub.status.idle": "2021-04-04T22:24:43.597159Z",
     "shell.execute_reply": "2021-04-04T22:24:43.596560Z"
    },
    "papermill": {
     "duration": 0.054562,
     "end_time": "2021-04-04T22:24:43.597277",
     "exception": false,
     "start_time": "2021-04-04T22:24:43.542715",
     "status": "completed"
    },
    "tags": []
   },
   "outputs": [
    {
     "data": {
      "text/html": [
       "<div>\n",
       "<style scoped>\n",
       "    .dataframe tbody tr th:only-of-type {\n",
       "        vertical-align: middle;\n",
       "    }\n",
       "\n",
       "    .dataframe tbody tr th {\n",
       "        vertical-align: top;\n",
       "    }\n",
       "\n",
       "    .dataframe thead th {\n",
       "        text-align: right;\n",
       "    }\n",
       "</style>\n",
       "<table border=\"1\" class=\"dataframe\">\n",
       "  <thead>\n",
       "    <tr style=\"text-align: right;\">\n",
       "      <th></th>\n",
       "      <th>id</th>\n",
       "      <th>loc</th>\n",
       "      <th>v(g)</th>\n",
       "      <th>ev(g)</th>\n",
       "      <th>iv(g)</th>\n",
       "      <th>n</th>\n",
       "      <th>v</th>\n",
       "      <th>l</th>\n",
       "      <th>d</th>\n",
       "      <th>i</th>\n",
       "      <th>...</th>\n",
       "      <th>lOCode</th>\n",
       "      <th>lOComment</th>\n",
       "      <th>lOBlank</th>\n",
       "      <th>locCodeAndComment</th>\n",
       "      <th>uniq_Op</th>\n",
       "      <th>uniq_Opnd</th>\n",
       "      <th>total_Op</th>\n",
       "      <th>total_Opnd</th>\n",
       "      <th>branchCount</th>\n",
       "      <th>defects</th>\n",
       "    </tr>\n",
       "  </thead>\n",
       "  <tbody>\n",
       "    <tr>\n",
       "      <th>0</th>\n",
       "      <td>1</td>\n",
       "      <td>1.1</td>\n",
       "      <td>1.4</td>\n",
       "      <td>1.4</td>\n",
       "      <td>1.4</td>\n",
       "      <td>1.3</td>\n",
       "      <td>1.30</td>\n",
       "      <td>1.30</td>\n",
       "      <td>1.30</td>\n",
       "      <td>1.30</td>\n",
       "      <td>...</td>\n",
       "      <td>2</td>\n",
       "      <td>2</td>\n",
       "      <td>2</td>\n",
       "      <td>2</td>\n",
       "      <td>1.2</td>\n",
       "      <td>1.2</td>\n",
       "      <td>1.2</td>\n",
       "      <td>1.2</td>\n",
       "      <td>1.4</td>\n",
       "      <td>False</td>\n",
       "    </tr>\n",
       "    <tr>\n",
       "      <th>1</th>\n",
       "      <td>2</td>\n",
       "      <td>1.0</td>\n",
       "      <td>1.0</td>\n",
       "      <td>1.0</td>\n",
       "      <td>1.0</td>\n",
       "      <td>1.0</td>\n",
       "      <td>1.00</td>\n",
       "      <td>1.00</td>\n",
       "      <td>1.00</td>\n",
       "      <td>1.00</td>\n",
       "      <td>...</td>\n",
       "      <td>1</td>\n",
       "      <td>1</td>\n",
       "      <td>1</td>\n",
       "      <td>1</td>\n",
       "      <td>1.0</td>\n",
       "      <td>1.0</td>\n",
       "      <td>1.0</td>\n",
       "      <td>1.0</td>\n",
       "      <td>1.0</td>\n",
       "      <td>True</td>\n",
       "    </tr>\n",
       "    <tr>\n",
       "      <th>2</th>\n",
       "      <td>3</td>\n",
       "      <td>83.0</td>\n",
       "      <td>11.0</td>\n",
       "      <td>1.0</td>\n",
       "      <td>11.0</td>\n",
       "      <td>171.0</td>\n",
       "      <td>927.89</td>\n",
       "      <td>0.04</td>\n",
       "      <td>23.04</td>\n",
       "      <td>40.27</td>\n",
       "      <td>...</td>\n",
       "      <td>65</td>\n",
       "      <td>10</td>\n",
       "      <td>6</td>\n",
       "      <td>0</td>\n",
       "      <td>18.0</td>\n",
       "      <td>25.0</td>\n",
       "      <td>107.0</td>\n",
       "      <td>64.0</td>\n",
       "      <td>21.0</td>\n",
       "      <td>True</td>\n",
       "    </tr>\n",
       "    <tr>\n",
       "      <th>3</th>\n",
       "      <td>4</td>\n",
       "      <td>46.0</td>\n",
       "      <td>8.0</td>\n",
       "      <td>6.0</td>\n",
       "      <td>8.0</td>\n",
       "      <td>141.0</td>\n",
       "      <td>769.78</td>\n",
       "      <td>0.07</td>\n",
       "      <td>14.86</td>\n",
       "      <td>51.81</td>\n",
       "      <td>...</td>\n",
       "      <td>37</td>\n",
       "      <td>2</td>\n",
       "      <td>5</td>\n",
       "      <td>0</td>\n",
       "      <td>16.0</td>\n",
       "      <td>28.0</td>\n",
       "      <td>89.0</td>\n",
       "      <td>52.0</td>\n",
       "      <td>15.0</td>\n",
       "      <td>True</td>\n",
       "    </tr>\n",
       "    <tr>\n",
       "      <th>4</th>\n",
       "      <td>5</td>\n",
       "      <td>25.0</td>\n",
       "      <td>3.0</td>\n",
       "      <td>1.0</td>\n",
       "      <td>3.0</td>\n",
       "      <td>58.0</td>\n",
       "      <td>254.75</td>\n",
       "      <td>0.11</td>\n",
       "      <td>9.35</td>\n",
       "      <td>27.25</td>\n",
       "      <td>...</td>\n",
       "      <td>21</td>\n",
       "      <td>0</td>\n",
       "      <td>2</td>\n",
       "      <td>0</td>\n",
       "      <td>11.0</td>\n",
       "      <td>10.0</td>\n",
       "      <td>41.0</td>\n",
       "      <td>17.0</td>\n",
       "      <td>5.0</td>\n",
       "      <td>True</td>\n",
       "    </tr>\n",
       "  </tbody>\n",
       "</table>\n",
       "<p>5 rows × 23 columns</p>\n",
       "</div>"
      ],
      "text/plain": [
       "   id   loc  v(g)  ev(g)  iv(g)      n       v     l      d      i  ...  \\\n",
       "0   1   1.1   1.4    1.4    1.4    1.3    1.30  1.30   1.30   1.30  ...   \n",
       "1   2   1.0   1.0    1.0    1.0    1.0    1.00  1.00   1.00   1.00  ...   \n",
       "2   3  83.0  11.0    1.0   11.0  171.0  927.89  0.04  23.04  40.27  ...   \n",
       "3   4  46.0   8.0    6.0    8.0  141.0  769.78  0.07  14.86  51.81  ...   \n",
       "4   5  25.0   3.0    1.0    3.0   58.0  254.75  0.11   9.35  27.25  ...   \n",
       "\n",
       "   lOCode  lOComment  lOBlank  locCodeAndComment  uniq_Op  uniq_Opnd  \\\n",
       "0       2          2        2                  2      1.2        1.2   \n",
       "1       1          1        1                  1      1.0        1.0   \n",
       "2      65         10        6                  0     18.0       25.0   \n",
       "3      37          2        5                  0     16.0       28.0   \n",
       "4      21          0        2                  0     11.0       10.0   \n",
       "\n",
       "   total_Op  total_Opnd  branchCount  defects  \n",
       "0       1.2         1.2          1.4    False  \n",
       "1       1.0         1.0          1.0     True  \n",
       "2     107.0        64.0         21.0     True  \n",
       "3      89.0        52.0         15.0     True  \n",
       "4      41.0        17.0          5.0     True  \n",
       "\n",
       "[5 rows x 23 columns]"
      ]
     },
     "execution_count": 7,
     "metadata": {},
     "output_type": "execute_result"
    }
   ],
   "source": [
    "df.head()"
   ]
  },
  {
   "cell_type": "code",
   "execution_count": 8,
   "id": "dd6aa244",
   "metadata": {
    "execution": {
     "iopub.execute_input": "2021-04-04T22:24:43.643732Z",
     "iopub.status.busy": "2021-04-04T22:24:43.643134Z",
     "iopub.status.idle": "2021-04-04T22:24:43.645268Z",
     "shell.execute_reply": "2021-04-04T22:24:43.645753Z"
    },
    "papermill": {
     "duration": 0.027386,
     "end_time": "2021-04-04T22:24:43.645903",
     "exception": false,
     "start_time": "2021-04-04T22:24:43.618517",
     "status": "completed"
    },
    "tags": []
   },
   "outputs": [],
   "source": [
    "del df['id']"
   ]
  },
  {
   "cell_type": "code",
   "execution_count": 9,
   "id": "6ff6f5b0",
   "metadata": {
    "execution": {
     "iopub.execute_input": "2021-04-04T22:24:43.694885Z",
     "iopub.status.busy": "2021-04-04T22:24:43.694091Z",
     "iopub.status.idle": "2021-04-04T22:24:43.696691Z",
     "shell.execute_reply": "2021-04-04T22:24:43.696165Z"
    },
    "papermill": {
     "duration": 0.028925,
     "end_time": "2021-04-04T22:24:43.696830",
     "exception": false,
     "start_time": "2021-04-04T22:24:43.667905",
     "status": "completed"
    },
    "tags": []
   },
   "outputs": [],
   "source": [
    "if PROFILE_REPORTING:\n",
    "    ProfileReport(df).to_widgets()"
   ]
  },
  {
   "cell_type": "markdown",
   "id": "1deaf3f0",
   "metadata": {
    "papermill": {
     "duration": 0.021104,
     "end_time": "2021-04-04T22:24:43.740701",
     "exception": false,
     "start_time": "2021-04-04T22:24:43.719597",
     "status": "completed"
    },
    "tags": []
   },
   "source": [
    "# Preprocess"
   ]
  },
  {
   "cell_type": "code",
   "execution_count": 10,
   "id": "9153b2bb",
   "metadata": {
    "execution": {
     "iopub.execute_input": "2021-04-04T22:24:43.794896Z",
     "iopub.status.busy": "2021-04-04T22:24:43.794132Z",
     "iopub.status.idle": "2021-04-04T22:24:43.796856Z",
     "shell.execute_reply": "2021-04-04T22:24:43.797403Z"
    },
    "papermill": {
     "duration": 0.029115,
     "end_time": "2021-04-04T22:24:43.797566",
     "exception": false,
     "start_time": "2021-04-04T22:24:43.768451",
     "status": "completed"
    },
    "tags": []
   },
   "outputs": [],
   "source": [
    "working_df = df.copy()"
   ]
  },
  {
   "cell_type": "code",
   "execution_count": 11,
   "id": "3b26d675",
   "metadata": {
    "execution": {
     "iopub.execute_input": "2021-04-04T22:24:43.851921Z",
     "iopub.status.busy": "2021-04-04T22:24:43.851097Z",
     "iopub.status.idle": "2021-04-04T22:24:43.853822Z",
     "shell.execute_reply": "2021-04-04T22:24:43.853326Z"
    },
    "papermill": {
     "duration": 0.030029,
     "end_time": "2021-04-04T22:24:43.853941",
     "exception": false,
     "start_time": "2021-04-04T22:24:43.823912",
     "status": "completed"
    },
    "tags": []
   },
   "outputs": [],
   "source": [
    "working_df['defects'] = working_df['defects'].replace([False, True], [0, 1])"
   ]
  },
  {
   "cell_type": "code",
   "execution_count": 12,
   "id": "5f306c3e",
   "metadata": {
    "execution": {
     "iopub.execute_input": "2021-04-04T22:24:43.906774Z",
     "iopub.status.busy": "2021-04-04T22:24:43.905941Z",
     "iopub.status.idle": "2021-04-04T22:24:43.908947Z",
     "shell.execute_reply": "2021-04-04T22:24:43.908391Z"
    },
    "papermill": {
     "duration": 0.02947,
     "end_time": "2021-04-04T22:24:43.909065",
     "exception": false,
     "start_time": "2021-04-04T22:24:43.879595",
     "status": "completed"
    },
    "tags": []
   },
   "outputs": [],
   "source": [
    "for col in dataset_config['delete_columns']:\n",
    "    del working_df[col]"
   ]
  },
  {
   "cell_type": "code",
   "execution_count": 13,
   "id": "a55074fa",
   "metadata": {
    "execution": {
     "iopub.execute_input": "2021-04-04T22:24:43.959893Z",
     "iopub.status.busy": "2021-04-04T22:24:43.958906Z",
     "iopub.status.idle": "2021-04-04T22:24:43.973445Z",
     "shell.execute_reply": "2021-04-04T22:24:43.972524Z"
    },
    "papermill": {
     "duration": 0.041639,
     "end_time": "2021-04-04T22:24:43.973651",
     "exception": false,
     "start_time": "2021-04-04T22:24:43.932012",
     "status": "completed"
    },
    "tags": []
   },
   "outputs": [],
   "source": [
    "working_df = working_df.drop_duplicates()"
   ]
  },
  {
   "cell_type": "markdown",
   "id": "a4d52ca6",
   "metadata": {
    "papermill": {
     "duration": 0.024485,
     "end_time": "2021-04-04T22:24:44.028000",
     "exception": false,
     "start_time": "2021-04-04T22:24:44.003515",
     "status": "completed"
    },
    "tags": []
   },
   "source": [
    "# Split"
   ]
  },
  {
   "cell_type": "code",
   "execution_count": 14,
   "id": "3e9ee4b5",
   "metadata": {
    "execution": {
     "iopub.execute_input": "2021-04-04T22:24:44.104224Z",
     "iopub.status.busy": "2021-04-04T22:24:44.103089Z",
     "iopub.status.idle": "2021-04-04T22:24:44.150843Z",
     "shell.execute_reply": "2021-04-04T22:24:44.152056Z"
    },
    "papermill": {
     "duration": 0.090081,
     "end_time": "2021-04-04T22:24:44.152243",
     "exception": false,
     "start_time": "2021-04-04T22:24:44.062162",
     "status": "completed"
    },
    "tags": []
   },
   "outputs": [],
   "source": [
    "from sklearn.model_selection import train_test_split"
   ]
  },
  {
   "cell_type": "code",
   "execution_count": 15,
   "id": "274004ce",
   "metadata": {
    "execution": {
     "iopub.execute_input": "2021-04-04T22:24:44.223066Z",
     "iopub.status.busy": "2021-04-04T22:24:44.222439Z",
     "iopub.status.idle": "2021-04-04T22:24:44.226440Z",
     "shell.execute_reply": "2021-04-04T22:24:44.227016Z"
    },
    "papermill": {
     "duration": 0.041368,
     "end_time": "2021-04-04T22:24:44.227261",
     "exception": false,
     "start_time": "2021-04-04T22:24:44.185893",
     "status": "completed"
    },
    "scrolled": true,
    "tags": []
   },
   "outputs": [],
   "source": [
    "inlier, outlier = working_df[working_df['defects'] == 0], working_df[working_df['defects'] == 1]"
   ]
  },
  {
   "cell_type": "code",
   "execution_count": 16,
   "id": "753c7b03",
   "metadata": {
    "execution": {
     "iopub.execute_input": "2021-04-04T22:24:44.300011Z",
     "iopub.status.busy": "2021-04-04T22:24:44.299071Z",
     "iopub.status.idle": "2021-04-04T22:24:44.302842Z",
     "shell.execute_reply": "2021-04-04T22:24:44.303544Z"
    },
    "papermill": {
     "duration": 0.043856,
     "end_time": "2021-04-04T22:24:44.303743",
     "exception": false,
     "start_time": "2021-04-04T22:24:44.259887",
     "status": "completed"
    },
    "tags": []
   },
   "outputs": [],
   "source": [
    "X_inlier = inlier.copy()\n",
    "y_inlier = X_inlier.pop('defects')\n",
    "X_outlier = outlier.copy()\n",
    "y_outlier = X_outlier.pop('defects')"
   ]
  },
  {
   "cell_type": "code",
   "execution_count": 17,
   "id": "2ba43193",
   "metadata": {
    "execution": {
     "iopub.execute_input": "2021-04-04T22:24:44.406085Z",
     "iopub.status.busy": "2021-04-04T22:24:44.404785Z",
     "iopub.status.idle": "2021-04-04T22:24:44.410863Z",
     "shell.execute_reply": "2021-04-04T22:24:44.412613Z"
    },
    "papermill": {
     "duration": 0.069373,
     "end_time": "2021-04-04T22:24:44.413029",
     "exception": false,
     "start_time": "2021-04-04T22:24:44.343656",
     "status": "completed"
    },
    "tags": []
   },
   "outputs": [],
   "source": [
    "test_size = dataset_config['test_size']\n",
    "random_state = dataset_config['random_state']\n",
    "\n",
    "X_inlier_train, X_inlier_test, y_inlier_train, y_inlier_test = train_test_split(\n",
    "    X_inlier,\n",
    "    y_inlier,\n",
    "    test_size=test_size,\n",
    "    random_state=random_state\n",
    ")"
   ]
  },
  {
   "cell_type": "code",
   "execution_count": 18,
   "id": "c8b58ec3",
   "metadata": {
    "execution": {
     "iopub.execute_input": "2021-04-04T22:24:44.510619Z",
     "iopub.status.busy": "2021-04-04T22:24:44.509145Z",
     "iopub.status.idle": "2021-04-04T22:24:44.517481Z",
     "shell.execute_reply": "2021-04-04T22:24:44.519124Z"
    },
    "papermill": {
     "duration": 0.057937,
     "end_time": "2021-04-04T22:24:44.519554",
     "exception": false,
     "start_time": "2021-04-04T22:24:44.461617",
     "status": "completed"
    },
    "tags": []
   },
   "outputs": [],
   "source": [
    "test_outlier_size = dataset_config['test_outlier_size']\n",
    "if test_outlier_size > 0.0:\n",
    "    X_outlier_train, X_outlier_test, y_outlier_train, y_outlier_test = train_test_split(\n",
    "        X_outlier,\n",
    "        y_outlier,\n",
    "        test_size=test_outlier_size,\n",
    "        random_state=random_state\n",
    "    )\n",
    "else:\n",
    "    X_outlier_train, y_outlier_train = pd.DataFrame(columns=X_outlier.columns), pd.Series(dtype='int64')\n",
    "    X_outlier_test, y_outlier_test = X_outlier.copy(), y_outlier.copy()"
   ]
  },
  {
   "cell_type": "code",
   "execution_count": 19,
   "id": "95991685",
   "metadata": {
    "execution": {
     "iopub.execute_input": "2021-04-04T22:24:44.595619Z",
     "iopub.status.busy": "2021-04-04T22:24:44.593366Z",
     "iopub.status.idle": "2021-04-04T22:24:44.598722Z",
     "shell.execute_reply": "2021-04-04T22:24:44.599422Z"
    },
    "papermill": {
     "duration": 0.03903,
     "end_time": "2021-04-04T22:24:44.599620",
     "exception": false,
     "start_time": "2021-04-04T22:24:44.560590",
     "status": "completed"
    },
    "tags": []
   },
   "outputs": [],
   "source": [
    "X_train, y_train = pd.concat([X_inlier_train, X_outlier_train], ignore_index=True), pd.concat([y_inlier_train, y_outlier_train], ignore_index=True)\n",
    "X_test, y_test = pd.concat([X_inlier_test, X_outlier_test], ignore_index=True), pd.concat([y_inlier_test, y_outlier_test], ignore_index=True)"
   ]
  },
  {
   "cell_type": "markdown",
   "id": "7cde7309",
   "metadata": {
    "papermill": {
     "duration": 0.039916,
     "end_time": "2021-04-04T22:24:44.675893",
     "exception": false,
     "start_time": "2021-04-04T22:24:44.635977",
     "status": "completed"
    },
    "tags": []
   },
   "source": [
    "# Model"
   ]
  },
  {
   "cell_type": "code",
   "execution_count": 20,
   "id": "a02c5c85",
   "metadata": {
    "execution": {
     "iopub.execute_input": "2021-04-04T22:24:44.789031Z",
     "iopub.status.busy": "2021-04-04T22:24:44.787520Z",
     "iopub.status.idle": "2021-04-04T22:24:44.797717Z",
     "shell.execute_reply": "2021-04-04T22:24:44.796362Z"
    },
    "papermill": {
     "duration": 0.076401,
     "end_time": "2021-04-04T22:24:44.797977",
     "exception": false,
     "start_time": "2021-04-04T22:24:44.721576",
     "status": "completed"
    },
    "tags": []
   },
   "outputs": [],
   "source": [
    "from math import sqrt\n",
    "\n",
    "\n",
    "class KNNDataDescription:\n",
    "    def __init__(self, k=5, outlier_threshold=1.0):\n",
    "        self.k = k\n",
    "        self.outlier_threshold = outlier_threshold\n",
    "        self.X = []\n",
    "    \n",
    "    def fit(self, X):\n",
    "        self.X = [features.to_list() for index, features in X.iterrows()]\n",
    "\n",
    "    def predict(self, entries):\n",
    "        return [self.predict_entry(features.to_list()) for index, features in entries.iterrows()]\n",
    "    \n",
    "    def predict_entry(self, entry):\n",
    "        kth_neighbor, kth_distance = self.get_kth_neighbor(entry, self.k)\n",
    "        kth_kth_neighbor, kth_kth_distance = self.get_kth_neighbor(kth_neighbor, self.k + 1)\n",
    "\n",
    "        outlier_score = kth_distance / (kth_kth_distance + 0.000001)\n",
    "\n",
    "        return 1 if outlier_score < self.outlier_threshold else -1\n",
    "        \n",
    "    def euclidean_distance(self, features1, features2):\n",
    "        distance = 0.0\n",
    "        for feat1, feat2 in zip(features1, features2):\n",
    "            distance += (feat1 - feat2)**2\n",
    "                \n",
    "        return sqrt(distance)\n",
    "\n",
    "    def get_neighbors(self, entry, k):\n",
    "        distance_to_data_points = [\n",
    "            (data_point, self.euclidean_distance(entry, data_point))\n",
    "            for data_point in self.X\n",
    "        ]\n",
    "        sorted_by_distance = sorted(distance_to_data_points, key=lambda tup: tup[1])\n",
    "        neighbors = sorted_by_distance[:k]\n",
    "        return neighbors\n",
    "\n",
    "    def get_kth_neighbor(self, entry, k):\n",
    "        neighbors = self.get_neighbors(entry, k)\n",
    "        return neighbors[-1]\n"
   ]
  },
  {
   "cell_type": "code",
   "execution_count": 21,
   "id": "1fa9ec1c",
   "metadata": {
    "execution": {
     "iopub.execute_input": "2021-04-04T22:24:44.904375Z",
     "iopub.status.busy": "2021-04-04T22:24:44.903743Z",
     "iopub.status.idle": "2021-04-04T22:24:44.922001Z",
     "shell.execute_reply": "2021-04-04T22:24:44.922480Z"
    },
    "papermill": {
     "duration": 0.045916,
     "end_time": "2021-04-04T22:24:44.922629",
     "exception": false,
     "start_time": "2021-04-04T22:24:44.876713",
     "status": "completed"
    },
    "tags": []
   },
   "outputs": [],
   "source": [
    "from sklearn.svm import OneClassSVM\n",
    "\n",
    "\n",
    "models = {\n",
    "    'oneclasssvm': OneClassSVM,\n",
    "    'knndatadescription': KNNDataDescription,\n",
    "}"
   ]
  },
  {
   "cell_type": "code",
   "execution_count": 22,
   "id": "4d72a0b1",
   "metadata": {
    "execution": {
     "iopub.execute_input": "2021-04-04T22:24:44.974305Z",
     "iopub.status.busy": "2021-04-04T22:24:44.973726Z",
     "iopub.status.idle": "2021-04-04T22:24:44.975703Z",
     "shell.execute_reply": "2021-04-04T22:24:44.976199Z"
    },
    "papermill": {
     "duration": 0.029873,
     "end_time": "2021-04-04T22:24:44.976338",
     "exception": false,
     "start_time": "2021-04-04T22:24:44.946465",
     "status": "completed"
    },
    "scrolled": true,
    "tags": []
   },
   "outputs": [],
   "source": [
    "model_cls = models[model_config['model_type']]\n",
    "model = model_cls(**model_config['hyperparameters'])"
   ]
  },
  {
   "cell_type": "markdown",
   "id": "e00cff3b",
   "metadata": {
    "papermill": {
     "duration": 0.023213,
     "end_time": "2021-04-04T22:24:45.022515",
     "exception": false,
     "start_time": "2021-04-04T22:24:44.999302",
     "status": "completed"
    },
    "tags": []
   },
   "source": [
    "# Fit"
   ]
  },
  {
   "cell_type": "code",
   "execution_count": 23,
   "id": "8b2ded89",
   "metadata": {
    "execution": {
     "iopub.execute_input": "2021-04-04T22:24:45.071263Z",
     "iopub.status.busy": "2021-04-04T22:24:45.070588Z",
     "iopub.status.idle": "2021-04-04T22:24:45.119715Z",
     "shell.execute_reply": "2021-04-04T22:24:45.120240Z"
    },
    "papermill": {
     "duration": 0.07567,
     "end_time": "2021-04-04T22:24:45.120400",
     "exception": false,
     "start_time": "2021-04-04T22:24:45.044730",
     "status": "completed"
    },
    "tags": []
   },
   "outputs": [],
   "source": [
    "model.fit(X_train)"
   ]
  },
  {
   "cell_type": "markdown",
   "id": "f99999f7",
   "metadata": {
    "papermill": {
     "duration": 0.025457,
     "end_time": "2021-04-04T22:24:45.170657",
     "exception": false,
     "start_time": "2021-04-04T22:24:45.145200",
     "status": "completed"
    },
    "tags": []
   },
   "source": [
    "# Predict"
   ]
  },
  {
   "cell_type": "code",
   "execution_count": 24,
   "id": "6536fbf7",
   "metadata": {
    "execution": {
     "iopub.execute_input": "2021-04-04T22:24:45.220883Z",
     "iopub.status.busy": "2021-04-04T22:24:45.220123Z",
     "iopub.status.idle": "2021-04-04T22:24:49.297015Z",
     "shell.execute_reply": "2021-04-04T22:24:49.295985Z"
    },
    "papermill": {
     "duration": 4.103492,
     "end_time": "2021-04-04T22:24:49.297211",
     "exception": false,
     "start_time": "2021-04-04T22:24:45.193719",
     "status": "completed"
    },
    "tags": []
   },
   "outputs": [],
   "source": [
    "predictions = model.predict(X_test)"
   ]
  },
  {
   "cell_type": "markdown",
   "id": "aa1c9881",
   "metadata": {
    "papermill": {
     "duration": 0.026047,
     "end_time": "2021-04-04T22:24:49.350195",
     "exception": false,
     "start_time": "2021-04-04T22:24:49.324148",
     "status": "completed"
    },
    "tags": []
   },
   "source": [
    "# Evaluate"
   ]
  },
  {
   "cell_type": "code",
   "execution_count": 25,
   "id": "894f0f04",
   "metadata": {
    "execution": {
     "iopub.execute_input": "2021-04-04T22:24:49.407110Z",
     "iopub.status.busy": "2021-04-04T22:24:49.406465Z",
     "iopub.status.idle": "2021-04-04T22:24:49.408865Z",
     "shell.execute_reply": "2021-04-04T22:24:49.409618Z"
    },
    "papermill": {
     "duration": 0.031808,
     "end_time": "2021-04-04T22:24:49.409798",
     "exception": false,
     "start_time": "2021-04-04T22:24:49.377990",
     "status": "completed"
    },
    "tags": []
   },
   "outputs": [],
   "source": [
    "from sklearn.metrics import f1_score"
   ]
  },
  {
   "cell_type": "code",
   "execution_count": 26,
   "id": "211744d3",
   "metadata": {
    "execution": {
     "iopub.execute_input": "2021-04-04T22:24:49.489284Z",
     "iopub.status.busy": "2021-04-04T22:24:49.487389Z",
     "iopub.status.idle": "2021-04-04T22:24:49.490657Z",
     "shell.execute_reply": "2021-04-04T22:24:49.491647Z"
    },
    "papermill": {
     "duration": 0.052049,
     "end_time": "2021-04-04T22:24:49.491930",
     "exception": false,
     "start_time": "2021-04-04T22:24:49.439881",
     "status": "completed"
    },
    "tags": []
   },
   "outputs": [],
   "source": [
    "y_test = y_test.replace([0, 1], [1, -1])"
   ]
  },
  {
   "cell_type": "code",
   "execution_count": 27,
   "id": "d68a9204",
   "metadata": {
    "execution": {
     "iopub.execute_input": "2021-04-04T22:24:49.574641Z",
     "iopub.status.busy": "2021-04-04T22:24:49.573613Z",
     "iopub.status.idle": "2021-04-04T22:24:49.577058Z",
     "shell.execute_reply": "2021-04-04T22:24:49.576377Z"
    },
    "papermill": {
     "duration": 0.048279,
     "end_time": "2021-04-04T22:24:49.577209",
     "exception": false,
     "start_time": "2021-04-04T22:24:49.528930",
     "status": "completed"
    },
    "tags": []
   },
   "outputs": [],
   "source": [
    "def evaluate(truths, predictions, pos_label, neg_label):\n",
    "    TP = 0\n",
    "    FP = 0\n",
    "    TN = 0\n",
    "    FN = 0\n",
    "\n",
    "    for truth, pred in zip(truths, predictions): \n",
    "        if truth == pred == pos_label:\n",
    "           TP += 1\n",
    "        elif pred == pos_label and truth == neg_label:\n",
    "           FP += 1\n",
    "        elif truth == pred == neg_label:\n",
    "           TN += 1\n",
    "        elif pred == neg_label and truth == pos_label:\n",
    "           FN += 1\n",
    "        else:\n",
    "            __import__(\"ipdb\").set_trace()\n",
    "\n",
    "    precision = TP / (TP + FP)\n",
    "    sensitivity = TP / (TP + FN)\n",
    "    \n",
    "    return {\n",
    "        'true_pos': TP,\n",
    "        'false_pos': FP,\n",
    "        'false_neg': FN,\n",
    "        'true_neg': TN,\n",
    "        'precision': precision,\n",
    "        'sensitivity': sensitivity,\n",
    "        'f1': (2 * (precision * sensitivity)) / (precision + sensitivity)\n",
    "    }\n",
    "\n",
    "score = evaluate(y_test, predictions, pos_label=-1, neg_label=1)"
   ]
  },
  {
   "cell_type": "markdown",
   "id": "246fa8c7",
   "metadata": {
    "papermill": {
     "duration": 0.033045,
     "end_time": "2021-04-04T22:24:49.646793",
     "exception": false,
     "start_time": "2021-04-04T22:24:49.613748",
     "status": "completed"
    },
    "tags": []
   },
   "source": [
    "# Report"
   ]
  },
  {
   "cell_type": "code",
   "execution_count": 28,
   "id": "cfb47f85",
   "metadata": {
    "execution": {
     "iopub.execute_input": "2021-04-04T22:24:49.701149Z",
     "iopub.status.busy": "2021-04-04T22:24:49.700430Z",
     "iopub.status.idle": "2021-04-04T22:24:49.702076Z",
     "shell.execute_reply": "2021-04-04T22:24:49.702543Z"
    },
    "papermill": {
     "duration": 0.030328,
     "end_time": "2021-04-04T22:24:49.702685",
     "exception": false,
     "start_time": "2021-04-04T22:24:49.672357",
     "status": "completed"
    },
    "tags": []
   },
   "outputs": [],
   "source": [
    "import csv\n",
    "\n",
    "\n",
    "dataset_config_name = DATASET_CONFIG_PATH.split('/')[-1].split('.')[0]\n",
    "model_config_name = MODEL_CONFIG_PATH.split('/')[-1].split('.')[0]\n",
    "configuration = f\"dataset_{dataset_config_name}-model_{model_config_name}\"\n",
    "\n",
    "with open('results.csv', 'a') as f:\n",
    "    report = dict({'configuration': configuration}, **score)\n",
    "    writer = csv.DictWriter(f, report.keys())\n",
    "    writer.writerow(report)"
   ]
  }
 ],
 "metadata": {
  "celltoolbar": "Tags",
  "kernelspec": {
   "display_name": "Python 3",
   "language": "python",
   "name": "python3"
  },
  "language_info": {
   "codemirror_mode": {
    "name": "ipython",
    "version": 3
   },
   "file_extension": ".py",
   "mimetype": "text/x-python",
   "name": "python",
   "nbconvert_exporter": "python",
   "pygments_lexer": "ipython3",
   "version": "3.9.1"
  },
  "papermill": {
   "default_parameters": {},
   "duration": 10.056295,
   "end_time": "2021-04-04T22:24:51.016020",
   "environment_variables": {},
   "exception": null,
   "input_path": "main.ipynb",
   "output_path": "runs/dataset_000008-model_000001.ipynb",
   "parameters": {
    "DATASET_CONFIG_PATH": "config/dataset/000008.json",
    "MODEL_CONFIG_PATH": "config/model/000001.json",
    "PROFILE_REPORTING": false
   },
   "start_time": "2021-04-04T22:24:40.959725",
   "version": "2.3.3"
  }
 },
 "nbformat": 4,
 "nbformat_minor": 5
}