{
 "cells": [
  {
   "cell_type": "markdown",
   "id": "51c71c25",
   "metadata": {
    "papermill": {
     "duration": 0.021583,
     "end_time": "2021-04-04T23:32:36.405579",
     "exception": false,
     "start_time": "2021-04-04T23:32:36.383996",
     "status": "completed"
    },
    "tags": []
   },
   "source": [
    "# Parametrizing"
   ]
  },
  {
   "cell_type": "code",
   "execution_count": 1,
   "id": "3b136394",
   "metadata": {
    "execution": {
     "iopub.execute_input": "2021-04-04T23:32:36.468966Z",
     "iopub.status.busy": "2021-04-04T23:32:36.467881Z",
     "iopub.status.idle": "2021-04-04T23:32:36.471924Z",
     "shell.execute_reply": "2021-04-04T23:32:36.473515Z"
    },
    "papermill": {
     "duration": 0.046889,
     "end_time": "2021-04-04T23:32:36.473805",
     "exception": false,
     "start_time": "2021-04-04T23:32:36.426916",
     "status": "completed"
    },
    "tags": [
     "parameters"
    ]
   },
   "outputs": [],
   "source": [
    "DATASET_CONFIG_PATH = 'config/dataset/kc1_001.json'\n",
    "MODEL_CONFIG_PATH = 'config/model/knndd_001.json'\n",
    "PROFILE_REPORTING = False"
   ]
  },
  {
   "cell_type": "code",
   "execution_count": 2,
   "id": "16fc43c4",
   "metadata": {
    "execution": {
     "iopub.execute_input": "2021-04-04T23:32:36.522458Z",
     "iopub.status.busy": "2021-04-04T23:32:36.521264Z",
     "iopub.status.idle": "2021-04-04T23:32:36.523856Z",
     "shell.execute_reply": "2021-04-04T23:32:36.524474Z"
    },
    "papermill": {
     "duration": 0.029418,
     "end_time": "2021-04-04T23:32:36.524692",
     "exception": false,
     "start_time": "2021-04-04T23:32:36.495274",
     "status": "completed"
    },
    "tags": [
     "injected-parameters"
    ]
   },
   "outputs": [],
   "source": [
    "# Parameters\n",
    "DATASET_CONFIG_PATH = \"config/dataset/000147.json\"\n",
    "MODEL_CONFIG_PATH = \"config/model/000004.json\"\n",
    "PROFILE_REPORTING = False\n"
   ]
  },
  {
   "cell_type": "code",
   "execution_count": 3,
   "id": "b80f2a10",
   "metadata": {
    "execution": {
     "iopub.execute_input": "2021-04-04T23:32:36.585633Z",
     "iopub.status.busy": "2021-04-04T23:32:36.584834Z",
     "iopub.status.idle": "2021-04-04T23:32:36.588171Z",
     "shell.execute_reply": "2021-04-04T23:32:36.588821Z"
    },
    "papermill": {
     "duration": 0.042758,
     "end_time": "2021-04-04T23:32:36.589020",
     "exception": false,
     "start_time": "2021-04-04T23:32:36.546262",
     "status": "completed"
    },
    "tags": []
   },
   "outputs": [],
   "source": [
    "import json\n",
    "\n",
    "\n",
    "with open(DATASET_CONFIG_PATH) as f:\n",
    "    dataset_config = json.load(f)\n",
    "\n",
    "with open(MODEL_CONFIG_PATH) as f:\n",
    "    model_config = json.load(f)"
   ]
  },
  {
   "cell_type": "markdown",
   "id": "9a4b0e2d",
   "metadata": {
    "papermill": {
     "duration": 0.024437,
     "end_time": "2021-04-04T23:32:36.635457",
     "exception": false,
     "start_time": "2021-04-04T23:32:36.611020",
     "status": "completed"
    },
    "tags": []
   },
   "source": [
    "# Profiling"
   ]
  },
  {
   "cell_type": "code",
   "execution_count": 4,
   "id": "a3e0289b",
   "metadata": {
    "execution": {
     "iopub.execute_input": "2021-04-04T23:32:36.699698Z",
     "iopub.status.busy": "2021-04-04T23:32:36.697329Z",
     "iopub.status.idle": "2021-04-04T23:32:38.101748Z",
     "shell.execute_reply": "2021-04-04T23:32:38.102352Z"
    },
    "papermill": {
     "duration": 1.446215,
     "end_time": "2021-04-04T23:32:38.102516",
     "exception": false,
     "start_time": "2021-04-04T23:32:36.656301",
     "status": "completed"
    },
    "tags": []
   },
   "outputs": [],
   "source": [
    "import pandas as pd\n",
    "from pandas_profiling import ProfileReport"
   ]
  },
  {
   "cell_type": "code",
   "execution_count": 5,
   "id": "ee6c0666",
   "metadata": {
    "execution": {
     "iopub.execute_input": "2021-04-04T23:32:38.169104Z",
     "iopub.status.busy": "2021-04-04T23:32:38.167672Z",
     "iopub.status.idle": "2021-04-04T23:32:38.180046Z",
     "shell.execute_reply": "2021-04-04T23:32:38.182074Z"
    },
    "papermill": {
     "duration": 0.055867,
     "end_time": "2021-04-04T23:32:38.182410",
     "exception": false,
     "start_time": "2021-04-04T23:32:38.126543",
     "status": "completed"
    },
    "tags": []
   },
   "outputs": [],
   "source": [
    "df = pd.read_csv(dataset_config['dataset_path'])"
   ]
  },
  {
   "cell_type": "code",
   "execution_count": 6,
   "id": "7eca6c4a",
   "metadata": {
    "execution": {
     "iopub.execute_input": "2021-04-04T23:32:38.304029Z",
     "iopub.status.busy": "2021-04-04T23:32:38.302326Z",
     "iopub.status.idle": "2021-04-04T23:32:38.306559Z",
     "shell.execute_reply": "2021-04-04T23:32:38.307137Z"
    },
    "papermill": {
     "duration": 0.0688,
     "end_time": "2021-04-04T23:32:38.307317",
     "exception": false,
     "start_time": "2021-04-04T23:32:38.238517",
     "status": "completed"
    },
    "tags": []
   },
   "outputs": [
    {
     "name": "stdout",
     "output_type": "stream",
     "text": [
      "<class 'pandas.core.frame.DataFrame'>\n",
      "RangeIndex: 498 entries, 0 to 497\n",
      "Data columns (total 23 columns):\n",
      " #   Column             Non-Null Count  Dtype  \n",
      "---  ------             --------------  -----  \n",
      " 0   id                 498 non-null    int64  \n",
      " 1   loc                498 non-null    float64\n",
      " 2   v(g)               498 non-null    float64\n",
      " 3   ev(g)              498 non-null    float64\n",
      " 4   iv(g)              498 non-null    float64\n",
      " 5   n                  498 non-null    float64\n",
      " 6   v                  498 non-null    float64\n",
      " 7   l                  498 non-null    float64\n",
      " 8   d                  498 non-null    float64\n",
      " 9   i                  498 non-null    float64\n",
      " 10  e                  498 non-null    float64\n",
      " 11  b                  498 non-null    float64\n",
      " 12  t                  498 non-null    float64\n",
      " 13  lOCode             498 non-null    int64  \n",
      " 14  lOComment          498 non-null    int64  \n",
      " 15  lOBlank            498 non-null    int64  \n",
      " 16  locCodeAndComment  498 non-null    int64  \n",
      " 17  uniq_Op            498 non-null    float64\n",
      " 18  uniq_Opnd          498 non-null    float64\n",
      " 19  total_Op           498 non-null    float64\n",
      " 20  total_Opnd         498 non-null    float64\n",
      " 21  branchCount        498 non-null    float64\n",
      " 22  defects            498 non-null    bool   \n",
      "dtypes: bool(1), float64(17), int64(5)\n",
      "memory usage: 86.2 KB\n"
     ]
    }
   ],
   "source": [
    "df.info()"
   ]
  },
  {
   "cell_type": "code",
   "execution_count": 7,
   "id": "3638e5e8",
   "metadata": {
    "execution": {
     "iopub.execute_input": "2021-04-04T23:32:38.407788Z",
     "iopub.status.busy": "2021-04-04T23:32:38.404447Z",
     "iopub.status.idle": "2021-04-04T23:32:38.475556Z",
     "shell.execute_reply": "2021-04-04T23:32:38.473627Z"
    },
    "papermill": {
     "duration": 0.12729,
     "end_time": "2021-04-04T23:32:38.475913",
     "exception": false,
     "start_time": "2021-04-04T23:32:38.348623",
     "status": "completed"
    },
    "tags": []
   },
   "outputs": [
    {
     "data": {
      "text/html": [
       "<div>\n",
       "<style scoped>\n",
       "    .dataframe tbody tr th:only-of-type {\n",
       "        vertical-align: middle;\n",
       "    }\n",
       "\n",
       "    .dataframe tbody tr th {\n",
       "        vertical-align: top;\n",
       "    }\n",
       "\n",
       "    .dataframe thead th {\n",
       "        text-align: right;\n",
       "    }\n",
       "</style>\n",
       "<table border=\"1\" class=\"dataframe\">\n",
       "  <thead>\n",
       "    <tr style=\"text-align: right;\">\n",
       "      <th></th>\n",
       "      <th>id</th>\n",
       "      <th>loc</th>\n",
       "      <th>v(g)</th>\n",
       "      <th>ev(g)</th>\n",
       "      <th>iv(g)</th>\n",
       "      <th>n</th>\n",
       "      <th>v</th>\n",
       "      <th>l</th>\n",
       "      <th>d</th>\n",
       "      <th>i</th>\n",
       "      <th>...</th>\n",
       "      <th>lOCode</th>\n",
       "      <th>lOComment</th>\n",
       "      <th>lOBlank</th>\n",
       "      <th>locCodeAndComment</th>\n",
       "      <th>uniq_Op</th>\n",
       "      <th>uniq_Opnd</th>\n",
       "      <th>total_Op</th>\n",
       "      <th>total_Opnd</th>\n",
       "      <th>branchCount</th>\n",
       "      <th>defects</th>\n",
       "    </tr>\n",
       "  </thead>\n",
       "  <tbody>\n",
       "    <tr>\n",
       "      <th>0</th>\n",
       "      <td>1</td>\n",
       "      <td>1.1</td>\n",
       "      <td>1.4</td>\n",
       "      <td>1.4</td>\n",
       "      <td>1.4</td>\n",
       "      <td>1.3</td>\n",
       "      <td>1.30</td>\n",
       "      <td>1.30</td>\n",
       "      <td>1.30</td>\n",
       "      <td>1.30</td>\n",
       "      <td>...</td>\n",
       "      <td>2</td>\n",
       "      <td>2</td>\n",
       "      <td>2</td>\n",
       "      <td>2</td>\n",
       "      <td>1.2</td>\n",
       "      <td>1.2</td>\n",
       "      <td>1.2</td>\n",
       "      <td>1.2</td>\n",
       "      <td>1.4</td>\n",
       "      <td>False</td>\n",
       "    </tr>\n",
       "    <tr>\n",
       "      <th>1</th>\n",
       "      <td>2</td>\n",
       "      <td>1.0</td>\n",
       "      <td>1.0</td>\n",
       "      <td>1.0</td>\n",
       "      <td>1.0</td>\n",
       "      <td>1.0</td>\n",
       "      <td>1.00</td>\n",
       "      <td>1.00</td>\n",
       "      <td>1.00</td>\n",
       "      <td>1.00</td>\n",
       "      <td>...</td>\n",
       "      <td>1</td>\n",
       "      <td>1</td>\n",
       "      <td>1</td>\n",
       "      <td>1</td>\n",
       "      <td>1.0</td>\n",
       "      <td>1.0</td>\n",
       "      <td>1.0</td>\n",
       "      <td>1.0</td>\n",
       "      <td>1.0</td>\n",
       "      <td>True</td>\n",
       "    </tr>\n",
       "    <tr>\n",
       "      <th>2</th>\n",
       "      <td>3</td>\n",
       "      <td>24.0</td>\n",
       "      <td>5.0</td>\n",
       "      <td>1.0</td>\n",
       "      <td>3.0</td>\n",
       "      <td>63.0</td>\n",
       "      <td>309.13</td>\n",
       "      <td>0.11</td>\n",
       "      <td>9.50</td>\n",
       "      <td>32.54</td>\n",
       "      <td>...</td>\n",
       "      <td>1</td>\n",
       "      <td>0</td>\n",
       "      <td>6</td>\n",
       "      <td>0</td>\n",
       "      <td>15.0</td>\n",
       "      <td>15.0</td>\n",
       "      <td>44.0</td>\n",
       "      <td>19.0</td>\n",
       "      <td>9.0</td>\n",
       "      <td>False</td>\n",
       "    </tr>\n",
       "    <tr>\n",
       "      <th>3</th>\n",
       "      <td>4</td>\n",
       "      <td>20.0</td>\n",
       "      <td>4.0</td>\n",
       "      <td>4.0</td>\n",
       "      <td>2.0</td>\n",
       "      <td>47.0</td>\n",
       "      <td>215.49</td>\n",
       "      <td>0.06</td>\n",
       "      <td>16.00</td>\n",
       "      <td>13.47</td>\n",
       "      <td>...</td>\n",
       "      <td>0</td>\n",
       "      <td>0</td>\n",
       "      <td>3</td>\n",
       "      <td>0</td>\n",
       "      <td>16.0</td>\n",
       "      <td>8.0</td>\n",
       "      <td>31.0</td>\n",
       "      <td>16.0</td>\n",
       "      <td>7.0</td>\n",
       "      <td>False</td>\n",
       "    </tr>\n",
       "    <tr>\n",
       "      <th>4</th>\n",
       "      <td>5</td>\n",
       "      <td>24.0</td>\n",
       "      <td>6.0</td>\n",
       "      <td>6.0</td>\n",
       "      <td>2.0</td>\n",
       "      <td>72.0</td>\n",
       "      <td>346.13</td>\n",
       "      <td>0.06</td>\n",
       "      <td>17.33</td>\n",
       "      <td>19.97</td>\n",
       "      <td>...</td>\n",
       "      <td>0</td>\n",
       "      <td>0</td>\n",
       "      <td>3</td>\n",
       "      <td>0</td>\n",
       "      <td>16.0</td>\n",
       "      <td>12.0</td>\n",
       "      <td>46.0</td>\n",
       "      <td>26.0</td>\n",
       "      <td>11.0</td>\n",
       "      <td>False</td>\n",
       "    </tr>\n",
       "  </tbody>\n",
       "</table>\n",
       "<p>5 rows × 23 columns</p>\n",
       "</div>"
      ],
      "text/plain": [
       "   id   loc  v(g)  ev(g)  iv(g)     n       v     l      d      i  ...  \\\n",
       "0   1   1.1   1.4    1.4    1.4   1.3    1.30  1.30   1.30   1.30  ...   \n",
       "1   2   1.0   1.0    1.0    1.0   1.0    1.00  1.00   1.00   1.00  ...   \n",
       "2   3  24.0   5.0    1.0    3.0  63.0  309.13  0.11   9.50  32.54  ...   \n",
       "3   4  20.0   4.0    4.0    2.0  47.0  215.49  0.06  16.00  13.47  ...   \n",
       "4   5  24.0   6.0    6.0    2.0  72.0  346.13  0.06  17.33  19.97  ...   \n",
       "\n",
       "   lOCode  lOComment  lOBlank  locCodeAndComment  uniq_Op  uniq_Opnd  \\\n",
       "0       2          2        2                  2      1.2        1.2   \n",
       "1       1          1        1                  1      1.0        1.0   \n",
       "2       1          0        6                  0     15.0       15.0   \n",
       "3       0          0        3                  0     16.0        8.0   \n",
       "4       0          0        3                  0     16.0       12.0   \n",
       "\n",
       "   total_Op  total_Opnd  branchCount  defects  \n",
       "0       1.2         1.2          1.4    False  \n",
       "1       1.0         1.0          1.0     True  \n",
       "2      44.0        19.0          9.0    False  \n",
       "3      31.0        16.0          7.0    False  \n",
       "4      46.0        26.0         11.0    False  \n",
       "\n",
       "[5 rows x 23 columns]"
      ]
     },
     "execution_count": 7,
     "metadata": {},
     "output_type": "execute_result"
    }
   ],
   "source": [
    "df.head()"
   ]
  },
  {
   "cell_type": "code",
   "execution_count": 8,
   "id": "733e95eb",
   "metadata": {
    "execution": {
     "iopub.execute_input": "2021-04-04T23:32:38.538456Z",
     "iopub.status.busy": "2021-04-04T23:32:38.537737Z",
     "iopub.status.idle": "2021-04-04T23:32:38.540504Z",
     "shell.execute_reply": "2021-04-04T23:32:38.541013Z"
    },
    "papermill": {
     "duration": 0.037807,
     "end_time": "2021-04-04T23:32:38.541209",
     "exception": false,
     "start_time": "2021-04-04T23:32:38.503402",
     "status": "completed"
    },
    "tags": []
   },
   "outputs": [],
   "source": [
    "del df['id']"
   ]
  },
  {
   "cell_type": "code",
   "execution_count": 9,
   "id": "6ff6f5b0",
   "metadata": {
    "execution": {
     "iopub.execute_input": "2021-04-04T23:32:38.615459Z",
     "iopub.status.busy": "2021-04-04T23:32:38.614879Z",
     "iopub.status.idle": "2021-04-04T23:32:38.616986Z",
     "shell.execute_reply": "2021-04-04T23:32:38.617558Z"
    },
    "papermill": {
     "duration": 0.042929,
     "end_time": "2021-04-04T23:32:38.618043",
     "exception": false,
     "start_time": "2021-04-04T23:32:38.575114",
     "status": "completed"
    },
    "tags": []
   },
   "outputs": [],
   "source": [
    "if PROFILE_REPORTING:\n",
    "    ProfileReport(df).to_widgets()"
   ]
  },
  {
   "cell_type": "markdown",
   "id": "1deaf3f0",
   "metadata": {
    "papermill": {
     "duration": 0.030698,
     "end_time": "2021-04-04T23:32:38.672741",
     "exception": false,
     "start_time": "2021-04-04T23:32:38.642043",
     "status": "completed"
    },
    "tags": []
   },
   "source": [
    "# Preprocess"
   ]
  },
  {
   "cell_type": "code",
   "execution_count": 10,
   "id": "1513e563",
   "metadata": {
    "execution": {
     "iopub.execute_input": "2021-04-04T23:32:38.769573Z",
     "iopub.status.busy": "2021-04-04T23:32:38.767590Z",
     "iopub.status.idle": "2021-04-04T23:32:38.773430Z",
     "shell.execute_reply": "2021-04-04T23:32:38.775208Z"
    },
    "papermill": {
     "duration": 0.067577,
     "end_time": "2021-04-04T23:32:38.775733",
     "exception": false,
     "start_time": "2021-04-04T23:32:38.708156",
     "status": "completed"
    },
    "tags": []
   },
   "outputs": [],
   "source": [
    "working_df = df.copy()"
   ]
  },
  {
   "cell_type": "code",
   "execution_count": 11,
   "id": "3b26d675",
   "metadata": {
    "execution": {
     "iopub.execute_input": "2021-04-04T23:32:38.839226Z",
     "iopub.status.busy": "2021-04-04T23:32:38.838371Z",
     "iopub.status.idle": "2021-04-04T23:32:38.840914Z",
     "shell.execute_reply": "2021-04-04T23:32:38.840408Z"
    },
    "papermill": {
     "duration": 0.038966,
     "end_time": "2021-04-04T23:32:38.841032",
     "exception": false,
     "start_time": "2021-04-04T23:32:38.802066",
     "status": "completed"
    },
    "tags": []
   },
   "outputs": [],
   "source": [
    "working_df['defects'] = working_df['defects'].replace([False, True], [0, 1])"
   ]
  },
  {
   "cell_type": "code",
   "execution_count": 12,
   "id": "eb48604f",
   "metadata": {
    "execution": {
     "iopub.execute_input": "2021-04-04T23:32:38.896801Z",
     "iopub.status.busy": "2021-04-04T23:32:38.896194Z",
     "iopub.status.idle": "2021-04-04T23:32:38.898201Z",
     "shell.execute_reply": "2021-04-04T23:32:38.898643Z"
    },
    "papermill": {
     "duration": 0.032237,
     "end_time": "2021-04-04T23:32:38.898778",
     "exception": false,
     "start_time": "2021-04-04T23:32:38.866541",
     "status": "completed"
    },
    "tags": []
   },
   "outputs": [],
   "source": [
    "for col in dataset_config['delete_columns']:\n",
    "    del working_df[col]"
   ]
  },
  {
   "cell_type": "code",
   "execution_count": 13,
   "id": "9a17bc29",
   "metadata": {
    "execution": {
     "iopub.execute_input": "2021-04-04T23:32:38.961868Z",
     "iopub.status.busy": "2021-04-04T23:32:38.960865Z",
     "iopub.status.idle": "2021-04-04T23:32:38.974673Z",
     "shell.execute_reply": "2021-04-04T23:32:38.975155Z"
    },
    "papermill": {
     "duration": 0.049867,
     "end_time": "2021-04-04T23:32:38.975303",
     "exception": false,
     "start_time": "2021-04-04T23:32:38.925436",
     "status": "completed"
    },
    "tags": []
   },
   "outputs": [],
   "source": [
    "working_df = working_df.drop_duplicates()"
   ]
  },
  {
   "cell_type": "markdown",
   "id": "a4d52ca6",
   "metadata": {
    "papermill": {
     "duration": 0.044135,
     "end_time": "2021-04-04T23:32:39.048950",
     "exception": false,
     "start_time": "2021-04-04T23:32:39.004815",
     "status": "completed"
    },
    "tags": []
   },
   "source": [
    "# Split"
   ]
  },
  {
   "cell_type": "code",
   "execution_count": 14,
   "id": "3e9ee4b5",
   "metadata": {
    "execution": {
     "iopub.execute_input": "2021-04-04T23:32:39.114604Z",
     "iopub.status.busy": "2021-04-04T23:32:39.113765Z",
     "iopub.status.idle": "2021-04-04T23:32:39.164647Z",
     "shell.execute_reply": "2021-04-04T23:32:39.165450Z"
    },
    "papermill": {
     "duration": 0.088709,
     "end_time": "2021-04-04T23:32:39.165667",
     "exception": false,
     "start_time": "2021-04-04T23:32:39.076958",
     "status": "completed"
    },
    "tags": []
   },
   "outputs": [],
   "source": [
    "from sklearn.model_selection import train_test_split"
   ]
  },
  {
   "cell_type": "code",
   "execution_count": 15,
   "id": "274004ce",
   "metadata": {
    "execution": {
     "iopub.execute_input": "2021-04-04T23:32:39.245225Z",
     "iopub.status.busy": "2021-04-04T23:32:39.244307Z",
     "iopub.status.idle": "2021-04-04T23:32:39.249034Z",
     "shell.execute_reply": "2021-04-04T23:32:39.249527Z"
    },
    "papermill": {
     "duration": 0.035897,
     "end_time": "2021-04-04T23:32:39.249676",
     "exception": false,
     "start_time": "2021-04-04T23:32:39.213779",
     "status": "completed"
    },
    "scrolled": true,
    "tags": []
   },
   "outputs": [],
   "source": [
    "inlier, outlier = working_df[working_df['defects'] == 0], working_df[working_df['defects'] == 1]"
   ]
  },
  {
   "cell_type": "code",
   "execution_count": 16,
   "id": "753c7b03",
   "metadata": {
    "execution": {
     "iopub.execute_input": "2021-04-04T23:32:39.339147Z",
     "iopub.status.busy": "2021-04-04T23:32:39.336521Z",
     "iopub.status.idle": "2021-04-04T23:32:39.343952Z",
     "shell.execute_reply": "2021-04-04T23:32:39.345324Z"
    },
    "papermill": {
     "duration": 0.067551,
     "end_time": "2021-04-04T23:32:39.345573",
     "exception": false,
     "start_time": "2021-04-04T23:32:39.278022",
     "status": "completed"
    },
    "tags": []
   },
   "outputs": [],
   "source": [
    "X_inlier = inlier.copy()\n",
    "y_inlier = X_inlier.pop('defects')\n",
    "X_outlier = outlier.copy()\n",
    "y_outlier = X_outlier.pop('defects')"
   ]
  },
  {
   "cell_type": "code",
   "execution_count": 17,
   "id": "2ba43193",
   "metadata": {
    "execution": {
     "iopub.execute_input": "2021-04-04T23:32:39.416392Z",
     "iopub.status.busy": "2021-04-04T23:32:39.415543Z",
     "iopub.status.idle": "2021-04-04T23:32:39.417703Z",
     "shell.execute_reply": "2021-04-04T23:32:39.418175Z"
    },
    "papermill": {
     "duration": 0.038414,
     "end_time": "2021-04-04T23:32:39.418344",
     "exception": false,
     "start_time": "2021-04-04T23:32:39.379930",
     "status": "completed"
    },
    "tags": []
   },
   "outputs": [],
   "source": [
    "test_size = dataset_config['test_size']\n",
    "random_state = dataset_config['random_state']\n",
    "\n",
    "X_inlier_train, X_inlier_test, y_inlier_train, y_inlier_test = train_test_split(\n",
    "    X_inlier,\n",
    "    y_inlier,\n",
    "    test_size=test_size,\n",
    "    random_state=random_state\n",
    ")"
   ]
  },
  {
   "cell_type": "code",
   "execution_count": 18,
   "id": "0b7582ca",
   "metadata": {
    "execution": {
     "iopub.execute_input": "2021-04-04T23:32:39.501144Z",
     "iopub.status.busy": "2021-04-04T23:32:39.499687Z",
     "iopub.status.idle": "2021-04-04T23:32:39.502640Z",
     "shell.execute_reply": "2021-04-04T23:32:39.503331Z"
    },
    "papermill": {
     "duration": 0.059081,
     "end_time": "2021-04-04T23:32:39.503739",
     "exception": false,
     "start_time": "2021-04-04T23:32:39.444658",
     "status": "completed"
    },
    "tags": []
   },
   "outputs": [],
   "source": [
    "test_outlier_size = dataset_config['test_outlier_size']\n",
    "if test_outlier_size > 0.0:\n",
    "    X_outlier_train, X_outlier_test, y_outlier_train, y_outlier_test = train_test_split(\n",
    "        X_outlier,\n",
    "        y_outlier,\n",
    "        test_size=test_outlier_size,\n",
    "        random_state=random_state\n",
    "    )\n",
    "else:\n",
    "    X_outlier_train, y_outlier_train = pd.DataFrame(columns=X_outlier.columns), pd.Series(dtype='int64')\n",
    "    X_outlier_test, y_outlier_test = X_outlier.copy(), y_outlier.copy()"
   ]
  },
  {
   "cell_type": "code",
   "execution_count": 19,
   "id": "c34363db",
   "metadata": {
    "execution": {
     "iopub.execute_input": "2021-04-04T23:32:39.603621Z",
     "iopub.status.busy": "2021-04-04T23:32:39.590279Z",
     "iopub.status.idle": "2021-04-04T23:32:39.611187Z",
     "shell.execute_reply": "2021-04-04T23:32:39.610270Z"
    },
    "papermill": {
     "duration": 0.076321,
     "end_time": "2021-04-04T23:32:39.611472",
     "exception": false,
     "start_time": "2021-04-04T23:32:39.535151",
     "status": "completed"
    },
    "tags": []
   },
   "outputs": [],
   "source": [
    "X_train, y_train = pd.concat([X_inlier_train, X_outlier_train], ignore_index=True), pd.concat([y_inlier_train, y_outlier_train], ignore_index=True)\n",
    "X_test, y_test = pd.concat([X_inlier_test, X_outlier_test], ignore_index=True), pd.concat([y_inlier_test, y_outlier_test], ignore_index=True)"
   ]
  },
  {
   "cell_type": "markdown",
   "id": "7cde7309",
   "metadata": {
    "papermill": {
     "duration": 0.029387,
     "end_time": "2021-04-04T23:32:39.666142",
     "exception": false,
     "start_time": "2021-04-04T23:32:39.636755",
     "status": "completed"
    },
    "tags": []
   },
   "source": [
    "# Model"
   ]
  },
  {
   "cell_type": "code",
   "execution_count": 20,
   "id": "2b12a415",
   "metadata": {
    "execution": {
     "iopub.execute_input": "2021-04-04T23:32:39.750475Z",
     "iopub.status.busy": "2021-04-04T23:32:39.748780Z",
     "iopub.status.idle": "2021-04-04T23:32:39.760137Z",
     "shell.execute_reply": "2021-04-04T23:32:39.759644Z"
    },
    "papermill": {
     "duration": 0.064602,
     "end_time": "2021-04-04T23:32:39.760251",
     "exception": false,
     "start_time": "2021-04-04T23:32:39.695649",
     "status": "completed"
    },
    "tags": []
   },
   "outputs": [],
   "source": [
    "from math import sqrt\n",
    "\n",
    "\n",
    "class KNNDataDescription:\n",
    "    def __init__(self, k=5, outlier_threshold=1.0):\n",
    "        self.k = k\n",
    "        self.outlier_threshold = outlier_threshold\n",
    "        self.X = []\n",
    "    \n",
    "    def fit(self, X):\n",
    "        self.X = [features.to_list() for index, features in X.iterrows()]\n",
    "\n",
    "    def predict(self, entries):\n",
    "        return [self.predict_entry(features.to_list()) for index, features in entries.iterrows()]\n",
    "    \n",
    "    def predict_entry(self, entry):\n",
    "        kth_neighbor, kth_distance = self.get_kth_neighbor(entry, self.k)\n",
    "        kth_kth_neighbor, kth_kth_distance = self.get_kth_neighbor(kth_neighbor, self.k + 1)\n",
    "\n",
    "        outlier_score = kth_distance / (kth_kth_distance + 0.000001)\n",
    "\n",
    "        return 1 if outlier_score < self.outlier_threshold else -1\n",
    "        \n",
    "    def euclidean_distance(self, features1, features2):\n",
    "        distance = 0.0\n",
    "        for feat1, feat2 in zip(features1, features2):\n",
    "            distance += (feat1 - feat2)**2\n",
    "                \n",
    "        return sqrt(distance)\n",
    "\n",
    "    def get_neighbors(self, entry, k):\n",
    "        distance_to_data_points = [\n",
    "            (data_point, self.euclidean_distance(entry, data_point))\n",
    "            for data_point in self.X\n",
    "        ]\n",
    "        sorted_by_distance = sorted(distance_to_data_points, key=lambda tup: tup[1])\n",
    "        neighbors = sorted_by_distance[:k]\n",
    "        return neighbors\n",
    "\n",
    "    def get_kth_neighbor(self, entry, k):\n",
    "        neighbors = self.get_neighbors(entry, k)\n",
    "        return neighbors[-1]\n"
   ]
  },
  {
   "cell_type": "code",
   "execution_count": 21,
   "id": "1fa9ec1c",
   "metadata": {
    "execution": {
     "iopub.execute_input": "2021-04-04T23:32:39.819744Z",
     "iopub.status.busy": "2021-04-04T23:32:39.818424Z",
     "iopub.status.idle": "2021-04-04T23:32:39.845380Z",
     "shell.execute_reply": "2021-04-04T23:32:39.845847Z"
    },
    "papermill": {
     "duration": 0.060596,
     "end_time": "2021-04-04T23:32:39.845999",
     "exception": false,
     "start_time": "2021-04-04T23:32:39.785403",
     "status": "completed"
    },
    "tags": []
   },
   "outputs": [],
   "source": [
    "from sklearn.svm import OneClassSVM\n",
    "\n",
    "\n",
    "models = {\n",
    "    'oneclasssvm': OneClassSVM,\n",
    "    'knndatadescription': KNNDataDescription,\n",
    "}"
   ]
  },
  {
   "cell_type": "code",
   "execution_count": 22,
   "id": "4d72a0b1",
   "metadata": {
    "execution": {
     "iopub.execute_input": "2021-04-04T23:32:39.899155Z",
     "iopub.status.busy": "2021-04-04T23:32:39.898560Z",
     "iopub.status.idle": "2021-04-04T23:32:39.900535Z",
     "shell.execute_reply": "2021-04-04T23:32:39.901017Z"
    },
    "papermill": {
     "duration": 0.029829,
     "end_time": "2021-04-04T23:32:39.901171",
     "exception": false,
     "start_time": "2021-04-04T23:32:39.871342",
     "status": "completed"
    },
    "scrolled": true,
    "tags": []
   },
   "outputs": [],
   "source": [
    "model_cls = models[model_config['model_type']]\n",
    "model = model_cls(**model_config['hyperparameters'])"
   ]
  },
  {
   "cell_type": "markdown",
   "id": "e00cff3b",
   "metadata": {
    "papermill": {
     "duration": 0.043127,
     "end_time": "2021-04-04T23:32:39.969987",
     "exception": false,
     "start_time": "2021-04-04T23:32:39.926860",
     "status": "completed"
    },
    "tags": []
   },
   "source": [
    "# Fit"
   ]
  },
  {
   "cell_type": "code",
   "execution_count": 23,
   "id": "8b2ded89",
   "metadata": {
    "execution": {
     "iopub.execute_input": "2021-04-04T23:32:40.040587Z",
     "iopub.status.busy": "2021-04-04T23:32:40.039976Z",
     "iopub.status.idle": "2021-04-04T23:32:40.048781Z",
     "shell.execute_reply": "2021-04-04T23:32:40.049243Z"
    },
    "papermill": {
     "duration": 0.043514,
     "end_time": "2021-04-04T23:32:40.049397",
     "exception": false,
     "start_time": "2021-04-04T23:32:40.005883",
     "status": "completed"
    },
    "tags": []
   },
   "outputs": [
    {
     "data": {
      "text/plain": [
       "OneClassSVM()"
      ]
     },
     "execution_count": 23,
     "metadata": {},
     "output_type": "execute_result"
    }
   ],
   "source": [
    "model.fit(X_train)"
   ]
  },
  {
   "cell_type": "markdown",
   "id": "f99999f7",
   "metadata": {
    "papermill": {
     "duration": 0.040064,
     "end_time": "2021-04-04T23:32:40.123815",
     "exception": false,
     "start_time": "2021-04-04T23:32:40.083751",
     "status": "completed"
    },
    "tags": []
   },
   "source": [
    "# Predict"
   ]
  },
  {
   "cell_type": "code",
   "execution_count": 24,
   "id": "6536fbf7",
   "metadata": {
    "execution": {
     "iopub.execute_input": "2021-04-04T23:32:40.190923Z",
     "iopub.status.busy": "2021-04-04T23:32:40.188202Z",
     "iopub.status.idle": "2021-04-04T23:32:40.195930Z",
     "shell.execute_reply": "2021-04-04T23:32:40.197198Z"
    },
    "papermill": {
     "duration": 0.043187,
     "end_time": "2021-04-04T23:32:40.197576",
     "exception": false,
     "start_time": "2021-04-04T23:32:40.154389",
     "status": "completed"
    },
    "tags": []
   },
   "outputs": [],
   "source": [
    "predictions = model.predict(X_test)"
   ]
  },
  {
   "cell_type": "markdown",
   "id": "aa1c9881",
   "metadata": {
    "papermill": {
     "duration": 0.038089,
     "end_time": "2021-04-04T23:32:40.261167",
     "exception": false,
     "start_time": "2021-04-04T23:32:40.223078",
     "status": "completed"
    },
    "tags": []
   },
   "source": [
    "# Evaluate"
   ]
  },
  {
   "cell_type": "code",
   "execution_count": 25,
   "id": "894f0f04",
   "metadata": {
    "execution": {
     "iopub.execute_input": "2021-04-04T23:32:40.330263Z",
     "iopub.status.busy": "2021-04-04T23:32:40.329587Z",
     "iopub.status.idle": "2021-04-04T23:32:40.332044Z",
     "shell.execute_reply": "2021-04-04T23:32:40.331503Z"
    },
    "papermill": {
     "duration": 0.034439,
     "end_time": "2021-04-04T23:32:40.332160",
     "exception": false,
     "start_time": "2021-04-04T23:32:40.297721",
     "status": "completed"
    },
    "tags": []
   },
   "outputs": [],
   "source": [
    "from sklearn.metrics import f1_score"
   ]
  },
  {
   "cell_type": "code",
   "execution_count": 26,
   "id": "211744d3",
   "metadata": {
    "execution": {
     "iopub.execute_input": "2021-04-04T23:32:40.422415Z",
     "iopub.status.busy": "2021-04-04T23:32:40.420150Z",
     "iopub.status.idle": "2021-04-04T23:32:40.429050Z",
     "shell.execute_reply": "2021-04-04T23:32:40.426923Z"
    },
    "papermill": {
     "duration": 0.060268,
     "end_time": "2021-04-04T23:32:40.429584",
     "exception": false,
     "start_time": "2021-04-04T23:32:40.369316",
     "status": "completed"
    },
    "tags": []
   },
   "outputs": [],
   "source": [
    "y_test = y_test.replace([0, 1], [1, -1])"
   ]
  },
  {
   "cell_type": "code",
   "execution_count": 27,
   "id": "d68a9204",
   "metadata": {
    "execution": {
     "iopub.execute_input": "2021-04-04T23:32:40.497637Z",
     "iopub.status.busy": "2021-04-04T23:32:40.496776Z",
     "iopub.status.idle": "2021-04-04T23:32:40.499446Z",
     "shell.execute_reply": "2021-04-04T23:32:40.498931Z"
    },
    "papermill": {
     "duration": 0.038845,
     "end_time": "2021-04-04T23:32:40.499565",
     "exception": false,
     "start_time": "2021-04-04T23:32:40.460720",
     "status": "completed"
    },
    "tags": []
   },
   "outputs": [],
   "source": [
    "def evaluate(truths, predictions, pos_label, neg_label):\n",
    "    TP = 0\n",
    "    FP = 0\n",
    "    TN = 0\n",
    "    FN = 0\n",
    "\n",
    "    for truth, pred in zip(truths, predictions): \n",
    "        if truth == pred == pos_label:\n",
    "           TP += 1\n",
    "        elif pred == pos_label and truth == neg_label:\n",
    "           FP += 1\n",
    "        elif truth == pred == neg_label:\n",
    "           TN += 1\n",
    "        elif pred == neg_label and truth == pos_label:\n",
    "           FN += 1\n",
    "\n",
    "    precision = TP / (TP + FP)\n",
    "    sensitivity = TP / (TP + FN)\n",
    "    \n",
    "    return {\n",
    "        'true_pos': TP,\n",
    "        'false_pos': FP,\n",
    "        'false_neg': FN,\n",
    "        'true_neg': TN,\n",
    "        'precision': precision,\n",
    "        'sensitivity': sensitivity,\n",
    "        'f1': (2 * (precision * sensitivity)) / (precision + sensitivity)\n",
    "    }\n",
    "\n",
    "score = evaluate(y_test, predictions, pos_label=-1, neg_label=1)"
   ]
  },
  {
   "cell_type": "markdown",
   "id": "93596516",
   "metadata": {
    "papermill": {
     "duration": 0.031554,
     "end_time": "2021-04-04T23:32:40.556313",
     "exception": false,
     "start_time": "2021-04-04T23:32:40.524759",
     "status": "completed"
    },
    "tags": []
   },
   "source": [
    "# Report"
   ]
  },
  {
   "cell_type": "code",
   "execution_count": 28,
   "id": "bea5fba1",
   "metadata": {
    "execution": {
     "iopub.execute_input": "2021-04-04T23:32:40.617048Z",
     "iopub.status.busy": "2021-04-04T23:32:40.616133Z",
     "iopub.status.idle": "2021-04-04T23:32:40.618276Z",
     "shell.execute_reply": "2021-04-04T23:32:40.618740Z"
    },
    "papermill": {
     "duration": 0.035453,
     "end_time": "2021-04-04T23:32:40.618883",
     "exception": false,
     "start_time": "2021-04-04T23:32:40.583430",
     "status": "completed"
    },
    "tags": []
   },
   "outputs": [],
   "source": [
    "import csv\n",
    "\n",
    "\n",
    "dataset_config_name = DATASET_CONFIG_PATH.split('/')[-1].split('.')[0]\n",
    "model_config_name = MODEL_CONFIG_PATH.split('/')[-1].split('.')[0]\n",
    "configuration = f\"dataset_{dataset_config_name}-model_{model_config_name}\"\n",
    "\n",
    "with open('results.csv', 'a') as f:\n",
    "    report = dict({'configuration': configuration}, **score)\n",
    "    writer = csv.DictWriter(f, report.keys())\n",
    "    writer.writerow(report)"
   ]
  }
 ],
 "metadata": {
  "celltoolbar": "Tags",
  "kernelspec": {
   "display_name": "Python 3",
   "language": "python",
   "name": "python3"
  },
  "language_info": {
   "codemirror_mode": {
    "name": "ipython",
    "version": 3
   },
   "file_extension": ".py",
   "mimetype": "text/x-python",
   "name": "python",
   "nbconvert_exporter": "python",
   "pygments_lexer": "ipython3",
   "version": "3.9.1"
  },
  "papermill": {
   "default_parameters": {},
   "duration": 5.82871,
   "end_time": "2021-04-04T23:32:41.252179",
   "environment_variables": {},
   "exception": null,
   "input_path": "main.ipynb",
   "output_path": "runs/dataset_000147-model_000004.ipynb",
   "parameters": {
    "DATASET_CONFIG_PATH": "config/dataset/000147.json",
    "MODEL_CONFIG_PATH": "config/model/000004.json",
    "PROFILE_REPORTING": false
   },
   "start_time": "2021-04-04T23:32:35.423469",
   "version": "2.3.3"
  }
 },
 "nbformat": 4,
 "nbformat_minor": 5
}