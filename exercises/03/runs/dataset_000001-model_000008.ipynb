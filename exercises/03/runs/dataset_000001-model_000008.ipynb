{
 "cells": [
  {
   "cell_type": "markdown",
   "id": "f5d95bd5",
   "metadata": {
    "tags": [
     "papermill-error-cell-tag"
    ]
   },
   "source": [
    "<span style=\"color:red; font-family:Helvetica Neue, Helvetica, Arial, sans-serif; font-size:2em;\">An Exception was encountered at '<a href=\"#papermill-error-cell\">In [22]</a>'.</span>"
   ]
  },
  {
   "cell_type": "markdown",
   "id": "ff0916fe",
   "metadata": {
    "papermill": {
     "duration": 0.032331,
     "end_time": "2021-04-04T22:11:49.346531",
     "exception": false,
     "start_time": "2021-04-04T22:11:49.314200",
     "status": "completed"
    },
    "tags": []
   },
   "source": [
    "# Parametrizing"
   ]
  },
  {
   "cell_type": "code",
   "execution_count": 1,
   "id": "b4db9f88",
   "metadata": {
    "execution": {
     "iopub.execute_input": "2021-04-04T22:11:49.403622Z",
     "iopub.status.busy": "2021-04-04T22:11:49.403027Z",
     "iopub.status.idle": "2021-04-04T22:11:49.405491Z",
     "shell.execute_reply": "2021-04-04T22:11:49.404959Z"
    },
    "papermill": {
     "duration": 0.03406,
     "end_time": "2021-04-04T22:11:49.405611",
     "exception": false,
     "start_time": "2021-04-04T22:11:49.371551",
     "status": "completed"
    },
    "tags": [
     "parameters"
    ]
   },
   "outputs": [],
   "source": [
    "DATASET_CONFIG_PATH = 'config/dataset/kc1_001.json'\n",
    "MODEL_CONFIG_PATH = 'config/model/knndd_001.json'\n",
    "PROFILE_REPORTING = False"
   ]
  },
  {
   "cell_type": "code",
   "execution_count": 2,
   "id": "6b6889f8",
   "metadata": {
    "execution": {
     "iopub.execute_input": "2021-04-04T22:11:49.448525Z",
     "iopub.status.busy": "2021-04-04T22:11:49.447891Z",
     "iopub.status.idle": "2021-04-04T22:11:49.449735Z",
     "shell.execute_reply": "2021-04-04T22:11:49.450192Z"
    },
    "papermill": {
     "duration": 0.025293,
     "end_time": "2021-04-04T22:11:49.450340",
     "exception": false,
     "start_time": "2021-04-04T22:11:49.425047",
     "status": "completed"
    },
    "tags": [
     "injected-parameters"
    ]
   },
   "outputs": [],
   "source": [
    "# Parameters\n",
    "DATASET_CONFIG_PATH = \"config/dataset/000001.json\"\n",
    "MODEL_CONFIG_PATH = \"config/model/000008.json\"\n",
    "PROFILE_REPORTING = False\n"
   ]
  },
  {
   "cell_type": "code",
   "execution_count": 3,
   "id": "ec4ede16",
   "metadata": {
    "execution": {
     "iopub.execute_input": "2021-04-04T22:11:49.495152Z",
     "iopub.status.busy": "2021-04-04T22:11:49.494493Z",
     "iopub.status.idle": "2021-04-04T22:11:49.496877Z",
     "shell.execute_reply": "2021-04-04T22:11:49.497355Z"
    },
    "papermill": {
     "duration": 0.026646,
     "end_time": "2021-04-04T22:11:49.497508",
     "exception": false,
     "start_time": "2021-04-04T22:11:49.470862",
     "status": "completed"
    },
    "tags": []
   },
   "outputs": [],
   "source": [
    "import json\n",
    "\n",
    "\n",
    "with open(DATASET_CONFIG_PATH) as f:\n",
    "    dataset_config = json.load(f)\n",
    "\n",
    "with open(MODEL_CONFIG_PATH) as f:\n",
    "    model_config = json.load(f)"
   ]
  },
  {
   "cell_type": "markdown",
   "id": "9a4b0e2d",
   "metadata": {
    "papermill": {
     "duration": 0.022664,
     "end_time": "2021-04-04T22:11:49.541695",
     "exception": false,
     "start_time": "2021-04-04T22:11:49.519031",
     "status": "completed"
    },
    "tags": []
   },
   "source": [
    "# Profiling"
   ]
  },
  {
   "cell_type": "code",
   "execution_count": 4,
   "id": "a3e0289b",
   "metadata": {
    "execution": {
     "iopub.execute_input": "2021-04-04T22:11:49.585391Z",
     "iopub.status.busy": "2021-04-04T22:11:49.584785Z",
     "iopub.status.idle": "2021-04-04T22:11:51.484950Z",
     "shell.execute_reply": "2021-04-04T22:11:51.485992Z"
    },
    "papermill": {
     "duration": 1.924459,
     "end_time": "2021-04-04T22:11:51.486275",
     "exception": false,
     "start_time": "2021-04-04T22:11:49.561816",
     "status": "completed"
    },
    "tags": []
   },
   "outputs": [],
   "source": [
    "import pandas as pd\n",
    "from pandas_profiling import ProfileReport"
   ]
  },
  {
   "cell_type": "code",
   "execution_count": 5,
   "id": "ee6c0666",
   "metadata": {
    "execution": {
     "iopub.execute_input": "2021-04-04T22:11:51.649755Z",
     "iopub.status.busy": "2021-04-04T22:11:51.648625Z",
     "iopub.status.idle": "2021-04-04T22:11:51.679652Z",
     "shell.execute_reply": "2021-04-04T22:11:51.680645Z"
    },
    "papermill": {
     "duration": 0.117379,
     "end_time": "2021-04-04T22:11:51.680924",
     "exception": false,
     "start_time": "2021-04-04T22:11:51.563545",
     "status": "completed"
    },
    "tags": []
   },
   "outputs": [],
   "source": [
    "df = pd.read_csv(dataset_config['dataset_path'])"
   ]
  },
  {
   "cell_type": "code",
   "execution_count": 6,
   "id": "19e77450",
   "metadata": {
    "execution": {
     "iopub.execute_input": "2021-04-04T22:11:51.960486Z",
     "iopub.status.busy": "2021-04-04T22:11:51.957107Z",
     "iopub.status.idle": "2021-04-04T22:11:51.980635Z",
     "shell.execute_reply": "2021-04-04T22:11:51.985163Z"
    },
    "papermill": {
     "duration": 0.154581,
     "end_time": "2021-04-04T22:11:51.985463",
     "exception": false,
     "start_time": "2021-04-04T22:11:51.830882",
     "status": "completed"
    },
    "tags": []
   },
   "outputs": [
    {
     "name": "stdout",
     "output_type": "stream",
     "text": [
      "<class 'pandas.core.frame.DataFrame'>\n",
      "RangeIndex: 2109 entries, 0 to 2108\n",
      "Data columns (total 23 columns):\n",
      " #   Column             Non-Null Count  Dtype  \n",
      "---  ------             --------------  -----  \n",
      " 0   id                 2109 non-null   int64  \n",
      " 1   loc                2109 non-null   float64\n",
      " 2   v(g)               2109 non-null   float64\n",
      " 3   ev(g)              2109 non-null   float64\n",
      " 4   iv(g)              2109 non-null   float64\n",
      " 5   n                  2109 non-null   float64\n",
      " 6   v                  2109 non-null   float64\n",
      " 7   l                  2109 non-null   float64\n",
      " 8   d                  2109 non-null   float64\n",
      " 9   i                  2109 non-null   float64\n",
      " 10  e                  2109 non-null   float64\n",
      " 11  b                  2109 non-null   float64\n",
      " 12  t                  2109 non-null   float64\n",
      " 13  lOCode             2109 non-null   int64  \n",
      " 14  lOComment          2109 non-null   int64  \n",
      " 15  lOBlank            2109 non-null   int64  \n",
      " 16  locCodeAndComment  2109 non-null   int64  \n",
      " 17  uniq_Op            2109 non-null   float64\n",
      " 18  uniq_Opnd          2109 non-null   float64\n",
      " 19  total_Op           2109 non-null   float64\n",
      " 20  total_Opnd         2109 non-null   float64\n",
      " 21  branchCount        2109 non-null   float64\n",
      " 22  defects            2109 non-null   bool   \n",
      "dtypes: bool(1), float64(17), int64(5)\n",
      "memory usage: 364.7 KB\n"
     ]
    }
   ],
   "source": [
    "df.info()"
   ]
  },
  {
   "cell_type": "code",
   "execution_count": 7,
   "id": "b1b6e8ba",
   "metadata": {
    "execution": {
     "iopub.execute_input": "2021-04-04T22:11:52.152767Z",
     "iopub.status.busy": "2021-04-04T22:11:52.151565Z",
     "iopub.status.idle": "2021-04-04T22:11:52.255094Z",
     "shell.execute_reply": "2021-04-04T22:11:52.256125Z"
    },
    "papermill": {
     "duration": 0.187202,
     "end_time": "2021-04-04T22:11:52.256424",
     "exception": false,
     "start_time": "2021-04-04T22:11:52.069222",
     "status": "completed"
    },
    "tags": []
   },
   "outputs": [
    {
     "data": {
      "text/html": [
       "<div>\n",
       "<style scoped>\n",
       "    .dataframe tbody tr th:only-of-type {\n",
       "        vertical-align: middle;\n",
       "    }\n",
       "\n",
       "    .dataframe tbody tr th {\n",
       "        vertical-align: top;\n",
       "    }\n",
       "\n",
       "    .dataframe thead th {\n",
       "        text-align: right;\n",
       "    }\n",
       "</style>\n",
       "<table border=\"1\" class=\"dataframe\">\n",
       "  <thead>\n",
       "    <tr style=\"text-align: right;\">\n",
       "      <th></th>\n",
       "      <th>id</th>\n",
       "      <th>loc</th>\n",
       "      <th>v(g)</th>\n",
       "      <th>ev(g)</th>\n",
       "      <th>iv(g)</th>\n",
       "      <th>n</th>\n",
       "      <th>v</th>\n",
       "      <th>l</th>\n",
       "      <th>d</th>\n",
       "      <th>i</th>\n",
       "      <th>...</th>\n",
       "      <th>lOCode</th>\n",
       "      <th>lOComment</th>\n",
       "      <th>lOBlank</th>\n",
       "      <th>locCodeAndComment</th>\n",
       "      <th>uniq_Op</th>\n",
       "      <th>uniq_Opnd</th>\n",
       "      <th>total_Op</th>\n",
       "      <th>total_Opnd</th>\n",
       "      <th>branchCount</th>\n",
       "      <th>defects</th>\n",
       "    </tr>\n",
       "  </thead>\n",
       "  <tbody>\n",
       "    <tr>\n",
       "      <th>0</th>\n",
       "      <td>1</td>\n",
       "      <td>1.1</td>\n",
       "      <td>1.4</td>\n",
       "      <td>1.4</td>\n",
       "      <td>1.4</td>\n",
       "      <td>1.3</td>\n",
       "      <td>1.30</td>\n",
       "      <td>1.30</td>\n",
       "      <td>1.30</td>\n",
       "      <td>1.30</td>\n",
       "      <td>...</td>\n",
       "      <td>2</td>\n",
       "      <td>2</td>\n",
       "      <td>2</td>\n",
       "      <td>2</td>\n",
       "      <td>1.2</td>\n",
       "      <td>1.2</td>\n",
       "      <td>1.2</td>\n",
       "      <td>1.2</td>\n",
       "      <td>1.4</td>\n",
       "      <td>False</td>\n",
       "    </tr>\n",
       "    <tr>\n",
       "      <th>1</th>\n",
       "      <td>2</td>\n",
       "      <td>1.0</td>\n",
       "      <td>1.0</td>\n",
       "      <td>1.0</td>\n",
       "      <td>1.0</td>\n",
       "      <td>1.0</td>\n",
       "      <td>1.00</td>\n",
       "      <td>1.00</td>\n",
       "      <td>1.00</td>\n",
       "      <td>1.00</td>\n",
       "      <td>...</td>\n",
       "      <td>1</td>\n",
       "      <td>1</td>\n",
       "      <td>1</td>\n",
       "      <td>1</td>\n",
       "      <td>1.0</td>\n",
       "      <td>1.0</td>\n",
       "      <td>1.0</td>\n",
       "      <td>1.0</td>\n",
       "      <td>1.0</td>\n",
       "      <td>True</td>\n",
       "    </tr>\n",
       "    <tr>\n",
       "      <th>2</th>\n",
       "      <td>3</td>\n",
       "      <td>83.0</td>\n",
       "      <td>11.0</td>\n",
       "      <td>1.0</td>\n",
       "      <td>11.0</td>\n",
       "      <td>171.0</td>\n",
       "      <td>927.89</td>\n",
       "      <td>0.04</td>\n",
       "      <td>23.04</td>\n",
       "      <td>40.27</td>\n",
       "      <td>...</td>\n",
       "      <td>65</td>\n",
       "      <td>10</td>\n",
       "      <td>6</td>\n",
       "      <td>0</td>\n",
       "      <td>18.0</td>\n",
       "      <td>25.0</td>\n",
       "      <td>107.0</td>\n",
       "      <td>64.0</td>\n",
       "      <td>21.0</td>\n",
       "      <td>True</td>\n",
       "    </tr>\n",
       "    <tr>\n",
       "      <th>3</th>\n",
       "      <td>4</td>\n",
       "      <td>46.0</td>\n",
       "      <td>8.0</td>\n",
       "      <td>6.0</td>\n",
       "      <td>8.0</td>\n",
       "      <td>141.0</td>\n",
       "      <td>769.78</td>\n",
       "      <td>0.07</td>\n",
       "      <td>14.86</td>\n",
       "      <td>51.81</td>\n",
       "      <td>...</td>\n",
       "      <td>37</td>\n",
       "      <td>2</td>\n",
       "      <td>5</td>\n",
       "      <td>0</td>\n",
       "      <td>16.0</td>\n",
       "      <td>28.0</td>\n",
       "      <td>89.0</td>\n",
       "      <td>52.0</td>\n",
       "      <td>15.0</td>\n",
       "      <td>True</td>\n",
       "    </tr>\n",
       "    <tr>\n",
       "      <th>4</th>\n",
       "      <td>5</td>\n",
       "      <td>25.0</td>\n",
       "      <td>3.0</td>\n",
       "      <td>1.0</td>\n",
       "      <td>3.0</td>\n",
       "      <td>58.0</td>\n",
       "      <td>254.75</td>\n",
       "      <td>0.11</td>\n",
       "      <td>9.35</td>\n",
       "      <td>27.25</td>\n",
       "      <td>...</td>\n",
       "      <td>21</td>\n",
       "      <td>0</td>\n",
       "      <td>2</td>\n",
       "      <td>0</td>\n",
       "      <td>11.0</td>\n",
       "      <td>10.0</td>\n",
       "      <td>41.0</td>\n",
       "      <td>17.0</td>\n",
       "      <td>5.0</td>\n",
       "      <td>True</td>\n",
       "    </tr>\n",
       "  </tbody>\n",
       "</table>\n",
       "<p>5 rows × 23 columns</p>\n",
       "</div>"
      ],
      "text/plain": [
       "   id   loc  v(g)  ev(g)  iv(g)      n       v     l      d      i  ...  \\\n",
       "0   1   1.1   1.4    1.4    1.4    1.3    1.30  1.30   1.30   1.30  ...   \n",
       "1   2   1.0   1.0    1.0    1.0    1.0    1.00  1.00   1.00   1.00  ...   \n",
       "2   3  83.0  11.0    1.0   11.0  171.0  927.89  0.04  23.04  40.27  ...   \n",
       "3   4  46.0   8.0    6.0    8.0  141.0  769.78  0.07  14.86  51.81  ...   \n",
       "4   5  25.0   3.0    1.0    3.0   58.0  254.75  0.11   9.35  27.25  ...   \n",
       "\n",
       "   lOCode  lOComment  lOBlank  locCodeAndComment  uniq_Op  uniq_Opnd  \\\n",
       "0       2          2        2                  2      1.2        1.2   \n",
       "1       1          1        1                  1      1.0        1.0   \n",
       "2      65         10        6                  0     18.0       25.0   \n",
       "3      37          2        5                  0     16.0       28.0   \n",
       "4      21          0        2                  0     11.0       10.0   \n",
       "\n",
       "   total_Op  total_Opnd  branchCount  defects  \n",
       "0       1.2         1.2          1.4    False  \n",
       "1       1.0         1.0          1.0     True  \n",
       "2     107.0        64.0         21.0     True  \n",
       "3      89.0        52.0         15.0     True  \n",
       "4      41.0        17.0          5.0     True  \n",
       "\n",
       "[5 rows x 23 columns]"
      ]
     },
     "execution_count": 7,
     "metadata": {},
     "output_type": "execute_result"
    }
   ],
   "source": [
    "df.head()"
   ]
  },
  {
   "cell_type": "code",
   "execution_count": 8,
   "id": "a5e1aaca",
   "metadata": {
    "execution": {
     "iopub.execute_input": "2021-04-04T22:11:52.480196Z",
     "iopub.status.busy": "2021-04-04T22:11:52.479104Z",
     "iopub.status.idle": "2021-04-04T22:11:52.484166Z",
     "shell.execute_reply": "2021-04-04T22:11:52.485180Z"
    },
    "papermill": {
     "duration": 0.14723,
     "end_time": "2021-04-04T22:11:52.485463",
     "exception": false,
     "start_time": "2021-04-04T22:11:52.338233",
     "status": "completed"
    },
    "tags": []
   },
   "outputs": [],
   "source": [
    "del df['id']"
   ]
  },
  {
   "cell_type": "code",
   "execution_count": 9,
   "id": "6ff6f5b0",
   "metadata": {
    "execution": {
     "iopub.execute_input": "2021-04-04T22:11:52.591104Z",
     "iopub.status.busy": "2021-04-04T22:11:52.590078Z",
     "iopub.status.idle": "2021-04-04T22:11:52.602699Z",
     "shell.execute_reply": "2021-04-04T22:11:52.604857Z"
    },
    "papermill": {
     "duration": 0.075559,
     "end_time": "2021-04-04T22:11:52.611198",
     "exception": false,
     "start_time": "2021-04-04T22:11:52.535639",
     "status": "completed"
    },
    "tags": []
   },
   "outputs": [],
   "source": [
    "if PROFILE_REPORTING:\n",
    "    ProfileReport(df).to_widgets()"
   ]
  },
  {
   "cell_type": "markdown",
   "id": "1deaf3f0",
   "metadata": {
    "papermill": {
     "duration": 0.132632,
     "end_time": "2021-04-04T22:11:52.860397",
     "exception": false,
     "start_time": "2021-04-04T22:11:52.727765",
     "status": "completed"
    },
    "tags": []
   },
   "source": [
    "# Preprocess"
   ]
  },
  {
   "cell_type": "code",
   "execution_count": 10,
   "id": "ca8b0a68",
   "metadata": {
    "execution": {
     "iopub.execute_input": "2021-04-04T22:11:53.019791Z",
     "iopub.status.busy": "2021-04-04T22:11:53.018603Z",
     "iopub.status.idle": "2021-04-04T22:11:53.021872Z",
     "shell.execute_reply": "2021-04-04T22:11:53.022692Z"
    },
    "papermill": {
     "duration": 0.063233,
     "end_time": "2021-04-04T22:11:53.022871",
     "exception": false,
     "start_time": "2021-04-04T22:11:52.959638",
     "status": "completed"
    },
    "tags": []
   },
   "outputs": [],
   "source": [
    "working_df = df.copy()"
   ]
  },
  {
   "cell_type": "code",
   "execution_count": 11,
   "id": "3b26d675",
   "metadata": {
    "execution": {
     "iopub.execute_input": "2021-04-04T22:11:53.147209Z",
     "iopub.status.busy": "2021-04-04T22:11:53.145955Z",
     "iopub.status.idle": "2021-04-04T22:11:53.158869Z",
     "shell.execute_reply": "2021-04-04T22:11:53.159634Z"
    },
    "papermill": {
     "duration": 0.074577,
     "end_time": "2021-04-04T22:11:53.159874",
     "exception": false,
     "start_time": "2021-04-04T22:11:53.085297",
     "status": "completed"
    },
    "tags": []
   },
   "outputs": [],
   "source": [
    "working_df['defects'] = working_df['defects'].replace([False, True], [0, 1])"
   ]
  },
  {
   "cell_type": "code",
   "execution_count": 12,
   "id": "9ead9caf",
   "metadata": {
    "execution": {
     "iopub.execute_input": "2021-04-04T22:11:53.275217Z",
     "iopub.status.busy": "2021-04-04T22:11:53.274149Z",
     "iopub.status.idle": "2021-04-04T22:11:53.276532Z",
     "shell.execute_reply": "2021-04-04T22:11:53.277587Z"
    },
    "papermill": {
     "duration": 0.067671,
     "end_time": "2021-04-04T22:11:53.277841",
     "exception": false,
     "start_time": "2021-04-04T22:11:53.210170",
     "status": "completed"
    },
    "tags": []
   },
   "outputs": [],
   "source": [
    "for col in dataset_config['delete_columns']:\n",
    "    del working_df[col]"
   ]
  },
  {
   "cell_type": "code",
   "execution_count": 13,
   "id": "cd6a7ced",
   "metadata": {
    "execution": {
     "iopub.execute_input": "2021-04-04T22:11:53.406763Z",
     "iopub.status.busy": "2021-04-04T22:11:53.405554Z",
     "iopub.status.idle": "2021-04-04T22:11:53.453157Z",
     "shell.execute_reply": "2021-04-04T22:11:53.453908Z"
    },
    "papermill": {
     "duration": 0.123383,
     "end_time": "2021-04-04T22:11:53.454087",
     "exception": false,
     "start_time": "2021-04-04T22:11:53.330704",
     "status": "completed"
    },
    "tags": []
   },
   "outputs": [],
   "source": [
    "working_df = working_df.drop_duplicates()"
   ]
  },
  {
   "cell_type": "markdown",
   "id": "a4d52ca6",
   "metadata": {
    "papermill": {
     "duration": 0.047347,
     "end_time": "2021-04-04T22:11:53.533565",
     "exception": false,
     "start_time": "2021-04-04T22:11:53.486218",
     "status": "completed"
    },
    "tags": []
   },
   "source": [
    "# Split"
   ]
  },
  {
   "cell_type": "code",
   "execution_count": 14,
   "id": "3e9ee4b5",
   "metadata": {
    "execution": {
     "iopub.execute_input": "2021-04-04T22:11:53.616031Z",
     "iopub.status.busy": "2021-04-04T22:11:53.614974Z",
     "iopub.status.idle": "2021-04-04T22:11:53.660339Z",
     "shell.execute_reply": "2021-04-04T22:11:53.663141Z"
    },
    "papermill": {
     "duration": 0.092436,
     "end_time": "2021-04-04T22:11:53.663347",
     "exception": false,
     "start_time": "2021-04-04T22:11:53.570911",
     "status": "completed"
    },
    "tags": []
   },
   "outputs": [],
   "source": [
    "from sklearn.model_selection import train_test_split"
   ]
  },
  {
   "cell_type": "code",
   "execution_count": 15,
   "id": "274004ce",
   "metadata": {
    "execution": {
     "iopub.execute_input": "2021-04-04T22:11:53.763258Z",
     "iopub.status.busy": "2021-04-04T22:11:53.761877Z",
     "iopub.status.idle": "2021-04-04T22:11:53.765693Z",
     "shell.execute_reply": "2021-04-04T22:11:53.764493Z"
    },
    "papermill": {
     "duration": 0.056705,
     "end_time": "2021-04-04T22:11:53.765948",
     "exception": false,
     "start_time": "2021-04-04T22:11:53.709243",
     "status": "completed"
    },
    "scrolled": true,
    "tags": []
   },
   "outputs": [],
   "source": [
    "inlier, outlier = working_df[working_df['defects'] == 0], working_df[working_df['defects'] == 1]"
   ]
  },
  {
   "cell_type": "code",
   "execution_count": 16,
   "id": "753c7b03",
   "metadata": {
    "execution": {
     "iopub.execute_input": "2021-04-04T22:11:53.921419Z",
     "iopub.status.busy": "2021-04-04T22:11:53.918576Z",
     "iopub.status.idle": "2021-04-04T22:11:53.931611Z",
     "shell.execute_reply": "2021-04-04T22:11:53.930482Z"
    },
    "papermill": {
     "duration": 0.098724,
     "end_time": "2021-04-04T22:11:53.931858",
     "exception": false,
     "start_time": "2021-04-04T22:11:53.833134",
     "status": "completed"
    },
    "tags": []
   },
   "outputs": [],
   "source": [
    "X_inlier = inlier.copy()\n",
    "y_inlier = X_inlier.pop('defects')\n",
    "X_outlier = outlier.copy()\n",
    "y_outlier = X_outlier.pop('defects')"
   ]
  },
  {
   "cell_type": "code",
   "execution_count": 17,
   "id": "2ba43193",
   "metadata": {
    "execution": {
     "iopub.execute_input": "2021-04-04T22:11:54.049512Z",
     "iopub.status.busy": "2021-04-04T22:11:54.048361Z",
     "iopub.status.idle": "2021-04-04T22:11:54.053515Z",
     "shell.execute_reply": "2021-04-04T22:11:54.052611Z"
    },
    "papermill": {
     "duration": 0.07183,
     "end_time": "2021-04-04T22:11:54.053751",
     "exception": false,
     "start_time": "2021-04-04T22:11:53.981921",
     "status": "completed"
    },
    "tags": []
   },
   "outputs": [],
   "source": [
    "test_size = dataset_config['test_size']\n",
    "random_state = dataset_config['random_state']\n",
    "\n",
    "X_inlier_train, X_inlier_test, y_inlier_train, y_inlier_test = train_test_split(\n",
    "    X_inlier,\n",
    "    y_inlier,\n",
    "    test_size=test_size,\n",
    "    random_state=random_state\n",
    ")"
   ]
  },
  {
   "cell_type": "code",
   "execution_count": 18,
   "id": "55d493ad",
   "metadata": {
    "execution": {
     "iopub.execute_input": "2021-04-04T22:11:54.168432Z",
     "iopub.status.busy": "2021-04-04T22:11:54.167093Z",
     "iopub.status.idle": "2021-04-04T22:11:54.178027Z",
     "shell.execute_reply": "2021-04-04T22:11:54.179117Z"
    },
    "papermill": {
     "duration": 0.078235,
     "end_time": "2021-04-04T22:11:54.179410",
     "exception": false,
     "start_time": "2021-04-04T22:11:54.101175",
     "status": "completed"
    },
    "tags": []
   },
   "outputs": [],
   "source": [
    "test_outlier_size = dataset_config['test_outlier_size']\n",
    "if test_outlier_size > 0.0:\n",
    "    X_outlier_train, X_outlier_test, y_outlier_train, y_outlier_test = train_test_split(\n",
    "        X_outlier,\n",
    "        y_outlier,\n",
    "        test_size=test_outlier_size,\n",
    "        random_state=random_state\n",
    "    )\n",
    "else:\n",
    "    X_outlier_train, y_outlier_train = pd.DataFrame(columns=X_outlier.columns), pd.Series(dtype='int64')\n",
    "    X_outlier_test, y_outlier_test = X_outlier.copy(), y_outlier.copy()"
   ]
  },
  {
   "cell_type": "code",
   "execution_count": 19,
   "id": "8545fe79",
   "metadata": {
    "execution": {
     "iopub.execute_input": "2021-04-04T22:11:54.311273Z",
     "iopub.status.busy": "2021-04-04T22:11:54.309208Z",
     "iopub.status.idle": "2021-04-04T22:11:54.323582Z",
     "shell.execute_reply": "2021-04-04T22:11:54.327922Z"
    },
    "papermill": {
     "duration": 0.096213,
     "end_time": "2021-04-04T22:11:54.328211",
     "exception": false,
     "start_time": "2021-04-04T22:11:54.231998",
     "status": "completed"
    },
    "tags": []
   },
   "outputs": [],
   "source": [
    "X_train, y_train = pd.concat([X_inlier_train, X_outlier_train], ignore_index=True), pd.concat([y_inlier_train, y_outlier_train], ignore_index=True)\n",
    "X_test, y_test = pd.concat([X_inlier_test, X_outlier_test], ignore_index=True), pd.concat([y_inlier_test, y_outlier_test], ignore_index=True)"
   ]
  },
  {
   "cell_type": "markdown",
   "id": "7cde7309",
   "metadata": {
    "papermill": {
     "duration": 0.101191,
     "end_time": "2021-04-04T22:11:54.495013",
     "exception": false,
     "start_time": "2021-04-04T22:11:54.393822",
     "status": "completed"
    },
    "tags": []
   },
   "source": [
    "# Model"
   ]
  },
  {
   "cell_type": "code",
   "execution_count": 20,
   "id": "3a8b2da9",
   "metadata": {
    "execution": {
     "iopub.execute_input": "2021-04-04T22:11:54.681332Z",
     "iopub.status.busy": "2021-04-04T22:11:54.680184Z",
     "iopub.status.idle": "2021-04-04T22:11:54.707404Z",
     "shell.execute_reply": "2021-04-04T22:11:54.710052Z"
    },
    "papermill": {
     "duration": 0.125847,
     "end_time": "2021-04-04T22:11:54.710669",
     "exception": false,
     "start_time": "2021-04-04T22:11:54.584822",
     "status": "completed"
    },
    "tags": []
   },
   "outputs": [],
   "source": [
    "from math import sqrt\n",
    "\n",
    "\n",
    "class KNNDataDescription:\n",
    "    def __init__(self, k=5, outlier_threshold=1.0):\n",
    "        self.k = k\n",
    "        self.outlier_threshold = outlier_threshold\n",
    "        self.X = []\n",
    "    \n",
    "    def fit(self, X):\n",
    "        self.X = [features.to_list() for index, features in X.iterrows()]\n",
    "\n",
    "    def predict(self, entries):\n",
    "        return [self.predict_entry(features.to_list()) for index, features in entries.iterrows()]\n",
    "    \n",
    "    def predict_entry(self, entry):\n",
    "        kth_neighbor, kth_distance = self.get_kth_neighbor(entry, self.k)\n",
    "        kth_kth_neighbor, kth_kth_distance = self.get_kth_neighbor(kth_neighbor, self.k + 1)\n",
    "\n",
    "        outlier_score = kth_distance / (kth_kth_distance + 0.000001)\n",
    "\n",
    "        return 1 if outlier_score < self.outlier_threshold else -1\n",
    "        \n",
    "    def euclidean_distance(self, features1, features2):\n",
    "        distance = 0.0\n",
    "        for feat1, feat2 in zip(features1, features2):\n",
    "            distance += (feat1 - feat2)**2\n",
    "                \n",
    "        return sqrt(distance)\n",
    "\n",
    "    def get_neighbors(self, entry, k):\n",
    "        distance_to_data_points = [\n",
    "            (data_point, self.euclidean_distance(entry, data_point))\n",
    "            for data_point in self.X\n",
    "        ]\n",
    "        sorted_by_distance = sorted(distance_to_data_points, key=lambda tup: tup[1])\n",
    "        neighbors = sorted_by_distance[:k]\n",
    "        return neighbors\n",
    "\n",
    "    def get_kth_neighbor(self, entry, k):\n",
    "        neighbors = self.get_neighbors(entry, k)\n",
    "        return neighbors[-1]\n"
   ]
  },
  {
   "cell_type": "code",
   "execution_count": 21,
   "id": "1fa9ec1c",
   "metadata": {
    "execution": {
     "iopub.execute_input": "2021-04-04T22:11:54.932240Z",
     "iopub.status.busy": "2021-04-04T22:11:54.930143Z",
     "iopub.status.idle": "2021-04-04T22:11:55.023848Z",
     "shell.execute_reply": "2021-04-04T22:11:55.024912Z"
    },
    "papermill": {
     "duration": 0.17882,
     "end_time": "2021-04-04T22:11:55.025202",
     "exception": false,
     "start_time": "2021-04-04T22:11:54.846382",
     "status": "completed"
    },
    "tags": []
   },
   "outputs": [],
   "source": [
    "from sklearn.ensemble import IsolationForest\n",
    "from sklearn.svm import OneClassSVM\n",
    "\n",
    "\n",
    "models = {\n",
    "    'isolationforest': IsolationForest,\n",
    "    'oneclasssvm': OneClassSVM,\n",
    "    'knndatadescription': KNNDataDescription,\n",
    "}"
   ]
  },
  {
   "cell_type": "markdown",
   "id": "b7e1f571",
   "metadata": {
    "tags": [
     "papermill-error-cell-tag"
    ]
   },
   "source": [
    "<span id=\"papermill-error-cell\" style=\"color:red; font-family:Helvetica Neue, Helvetica, Arial, sans-serif; font-size:2em;\">Execution using papermill encountered an exception here and stopped:</span>"
   ]
  },
  {
   "cell_type": "code",
   "execution_count": 22,
   "id": "4d72a0b1",
   "metadata": {
    "execution": {
     "iopub.execute_input": "2021-04-04T22:11:55.197241Z",
     "iopub.status.busy": "2021-04-04T22:11:55.186163Z",
     "iopub.status.idle": "2021-04-04T22:11:55.550683Z",
     "shell.execute_reply": "2021-04-04T22:11:55.545138Z"
    },
    "papermill": {
     "duration": 0.428926,
     "end_time": "2021-04-04T22:11:55.551236",
     "exception": true,
     "start_time": "2021-04-04T22:11:55.122310",
     "status": "failed"
    },
    "scrolled": true,
    "tags": []
   },
   "outputs": [
    {
     "ename": "KeyError",
     "evalue": "'isolation_forest'",
     "output_type": "error",
     "traceback": [
      "\u001b[0;31m---------------------------------------------------------------------------\u001b[0m",
      "\u001b[0;31mKeyError\u001b[0m                                  Traceback (most recent call last)",
      "\u001b[0;32m<ipython-input-22-aa789e861a0c>\u001b[0m in \u001b[0;36m<module>\u001b[0;34m\u001b[0m\n\u001b[0;32m----> 1\u001b[0;31m \u001b[0mmodel_cls\u001b[0m \u001b[0;34m=\u001b[0m \u001b[0mmodels\u001b[0m\u001b[0;34m[\u001b[0m\u001b[0mmodel_config\u001b[0m\u001b[0;34m[\u001b[0m\u001b[0;34m'model_type'\u001b[0m\u001b[0;34m]\u001b[0m\u001b[0;34m]\u001b[0m\u001b[0;34m\u001b[0m\u001b[0;34m\u001b[0m\u001b[0m\n\u001b[0m\u001b[1;32m      2\u001b[0m \u001b[0mmodel\u001b[0m \u001b[0;34m=\u001b[0m \u001b[0mmodel_cls\u001b[0m\u001b[0;34m(\u001b[0m\u001b[0;34m**\u001b[0m\u001b[0mmodel_config\u001b[0m\u001b[0;34m[\u001b[0m\u001b[0;34m'hyperparameters'\u001b[0m\u001b[0;34m]\u001b[0m\u001b[0;34m)\u001b[0m\u001b[0;34m\u001b[0m\u001b[0;34m\u001b[0m\u001b[0m\n",
      "\u001b[0;31mKeyError\u001b[0m: 'isolation_forest'"
     ]
    }
   ],
   "source": [
    "model_cls = models[model_config['model_type']]\n",
    "model = model_cls(**model_config['hyperparameters'])"
   ]
  },
  {
   "cell_type": "markdown",
   "id": "e00cff3b",
   "metadata": {
    "papermill": {
     "duration": null,
     "end_time": null,
     "exception": null,
     "start_time": null,
     "status": "pending"
    },
    "tags": []
   },
   "source": [
    "# Fit"
   ]
  },
  {
   "cell_type": "code",
   "execution_count": null,
   "id": "8b2ded89",
   "metadata": {
    "papermill": {
     "duration": null,
     "end_time": null,
     "exception": null,
     "start_time": null,
     "status": "pending"
    },
    "tags": []
   },
   "outputs": [],
   "source": [
    "model.fit(X_train)"
   ]
  },
  {
   "cell_type": "markdown",
   "id": "f99999f7",
   "metadata": {
    "papermill": {
     "duration": null,
     "end_time": null,
     "exception": null,
     "start_time": null,
     "status": "pending"
    },
    "tags": []
   },
   "source": [
    "# Predict"
   ]
  },
  {
   "cell_type": "code",
   "execution_count": null,
   "id": "6536fbf7",
   "metadata": {
    "papermill": {
     "duration": null,
     "end_time": null,
     "exception": null,
     "start_time": null,
     "status": "pending"
    },
    "tags": []
   },
   "outputs": [],
   "source": [
    "predictions = model.predict(X_test)"
   ]
  },
  {
   "cell_type": "markdown",
   "id": "aa1c9881",
   "metadata": {
    "papermill": {
     "duration": null,
     "end_time": null,
     "exception": null,
     "start_time": null,
     "status": "pending"
    },
    "tags": []
   },
   "source": [
    "# Evaluate"
   ]
  },
  {
   "cell_type": "code",
   "execution_count": null,
   "id": "894f0f04",
   "metadata": {
    "papermill": {
     "duration": null,
     "end_time": null,
     "exception": null,
     "start_time": null,
     "status": "pending"
    },
    "tags": []
   },
   "outputs": [],
   "source": [
    "from sklearn.metrics import f1_score"
   ]
  },
  {
   "cell_type": "code",
   "execution_count": null,
   "id": "211744d3",
   "metadata": {
    "papermill": {
     "duration": null,
     "end_time": null,
     "exception": null,
     "start_time": null,
     "status": "pending"
    },
    "tags": []
   },
   "outputs": [],
   "source": [
    "y_test = y_test.replace([0, 1], [1, -1])"
   ]
  },
  {
   "cell_type": "code",
   "execution_count": null,
   "id": "d68a9204",
   "metadata": {
    "papermill": {
     "duration": null,
     "end_time": null,
     "exception": null,
     "start_time": null,
     "status": "pending"
    },
    "tags": []
   },
   "outputs": [],
   "source": [
    "def evaluate(truths, predictions, pos_label, neg_label):\n",
    "    TP = 0\n",
    "    FP = 0\n",
    "    TN = 0\n",
    "    FN = 0\n",
    "\n",
    "    for truth, pred in zip(truths, predictions): \n",
    "        if truth == pred == pos_label:\n",
    "           TP += 1\n",
    "        elif pred == pos_label and truth == neg_label:\n",
    "           FP += 1\n",
    "        elif truth == pred == neg_label:\n",
    "           TN += 1\n",
    "        elif pred == neg_label and truth == pos_label:\n",
    "           FN += 1\n",
    "        else:\n",
    "            __import__(\"ipdb\").set_trace()\n",
    "\n",
    "    precision = TP / (TP + FP)\n",
    "    sensitivity = TP / (TP + FN)\n",
    "    \n",
    "    return {\n",
    "        'true_pos': TP,\n",
    "        'false_pos': FP,\n",
    "        'false_neg': FN,\n",
    "        'true_neg': TN,\n",
    "        'precision': precision,\n",
    "        'sensitivity': sensitivity,\n",
    "        'f1': (2 * (precision * sensitivity)) / (precision + sensitivity)\n",
    "    }\n",
    "\n",
    "score = evaluate(y_test, predictions, pos_label=-1, neg_label=1)"
   ]
  },
  {
   "cell_type": "markdown",
   "id": "68e054e7",
   "metadata": {
    "papermill": {
     "duration": null,
     "end_time": null,
     "exception": null,
     "start_time": null,
     "status": "pending"
    },
    "tags": []
   },
   "source": [
    "# Report"
   ]
  },
  {
   "cell_type": "code",
   "execution_count": null,
   "id": "31de59d0",
   "metadata": {
    "papermill": {
     "duration": null,
     "end_time": null,
     "exception": null,
     "start_time": null,
     "status": "pending"
    },
    "tags": []
   },
   "outputs": [],
   "source": [
    "import csv\n",
    "\n",
    "\n",
    "dataset_config_name = DATASET_CONFIG_PATH.split('/')[-1].split('.')[0]\n",
    "model_config_name = MODEL_CONFIG_PATH.split('/')[-1].split('.')[0]\n",
    "configuration = f\"dataset_{dataset_config_name}-model_{model_config_name}\"\n",
    "\n",
    "with open('results.csv', 'a') as f:\n",
    "    report = dict({'configuration': configuration}, **score)\n",
    "    writer = csv.DictWriter(f, report.keys())\n",
    "    writer.writerow(report)"
   ]
  }
 ],
 "metadata": {
  "celltoolbar": "Tags",
  "kernelspec": {
   "display_name": "Python 3",
   "language": "python",
   "name": "python3"
  },
  "language_info": {
   "codemirror_mode": {
    "name": "ipython",
    "version": 3
   },
   "file_extension": ".py",
   "mimetype": "text/x-python",
   "name": "python",
   "nbconvert_exporter": "python",
   "pygments_lexer": "ipython3",
   "version": "3.9.1"
  },
  "papermill": {
   "default_parameters": {},
   "duration": 7.924163,
   "end_time": "2021-04-04T22:11:56.547807",
   "environment_variables": {},
   "exception": true,
   "input_path": "main.ipynb",
   "output_path": "runs/dataset_000001-model_000008.ipynb",
   "parameters": {
    "DATASET_CONFIG_PATH": "config/dataset/000001.json",
    "MODEL_CONFIG_PATH": "config/model/000008.json",
    "PROFILE_REPORTING": false
   },
   "start_time": "2021-04-04T22:11:48.623644",
   "version": "2.3.3"
  }
 },
 "nbformat": 4,
 "nbformat_minor": 5
}