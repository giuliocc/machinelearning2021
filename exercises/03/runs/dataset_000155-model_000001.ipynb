{
 "cells": [
  {
   "cell_type": "markdown",
   "id": "51c71c25",
   "metadata": {
    "papermill": {
     "duration": 0.022427,
     "end_time": "2021-04-04T23:35:42.520193",
     "exception": false,
     "start_time": "2021-04-04T23:35:42.497766",
     "status": "completed"
    },
    "tags": []
   },
   "source": [
    "# Parametrizing"
   ]
  },
  {
   "cell_type": "code",
   "execution_count": 1,
   "id": "3b136394",
   "metadata": {
    "execution": {
     "iopub.execute_input": "2021-04-04T23:35:42.576804Z",
     "iopub.status.busy": "2021-04-04T23:35:42.576033Z",
     "iopub.status.idle": "2021-04-04T23:35:42.579865Z",
     "shell.execute_reply": "2021-04-04T23:35:42.578483Z"
    },
    "papermill": {
     "duration": 0.039615,
     "end_time": "2021-04-04T23:35:42.580227",
     "exception": false,
     "start_time": "2021-04-04T23:35:42.540612",
     "status": "completed"
    },
    "tags": [
     "parameters"
    ]
   },
   "outputs": [],
   "source": [
    "DATASET_CONFIG_PATH = 'config/dataset/kc1_001.json'\n",
    "MODEL_CONFIG_PATH = 'config/model/knndd_001.json'\n",
    "PROFILE_REPORTING = False"
   ]
  },
  {
   "cell_type": "code",
   "execution_count": 2,
   "id": "18e2f253",
   "metadata": {
    "execution": {
     "iopub.execute_input": "2021-04-04T23:35:42.627890Z",
     "iopub.status.busy": "2021-04-04T23:35:42.627301Z",
     "iopub.status.idle": "2021-04-04T23:35:42.629337Z",
     "shell.execute_reply": "2021-04-04T23:35:42.629797Z"
    },
    "papermill": {
     "duration": 0.027407,
     "end_time": "2021-04-04T23:35:42.629936",
     "exception": false,
     "start_time": "2021-04-04T23:35:42.602529",
     "status": "completed"
    },
    "tags": [
     "injected-parameters"
    ]
   },
   "outputs": [],
   "source": [
    "# Parameters\n",
    "DATASET_CONFIG_PATH = \"config/dataset/000155.json\"\n",
    "MODEL_CONFIG_PATH = \"config/model/000001.json\"\n",
    "PROFILE_REPORTING = False\n"
   ]
  },
  {
   "cell_type": "code",
   "execution_count": 3,
   "id": "b80f2a10",
   "metadata": {
    "execution": {
     "iopub.execute_input": "2021-04-04T23:35:42.692895Z",
     "iopub.status.busy": "2021-04-04T23:35:42.691851Z",
     "iopub.status.idle": "2021-04-04T23:35:42.694119Z",
     "shell.execute_reply": "2021-04-04T23:35:42.694665Z"
    },
    "papermill": {
     "duration": 0.041642,
     "end_time": "2021-04-04T23:35:42.694832",
     "exception": false,
     "start_time": "2021-04-04T23:35:42.653190",
     "status": "completed"
    },
    "tags": []
   },
   "outputs": [],
   "source": [
    "import json\n",
    "\n",
    "\n",
    "with open(DATASET_CONFIG_PATH) as f:\n",
    "    dataset_config = json.load(f)\n",
    "\n",
    "with open(MODEL_CONFIG_PATH) as f:\n",
    "    model_config = json.load(f)"
   ]
  },
  {
   "cell_type": "markdown",
   "id": "9a4b0e2d",
   "metadata": {
    "papermill": {
     "duration": 0.019539,
     "end_time": "2021-04-04T23:35:42.737902",
     "exception": false,
     "start_time": "2021-04-04T23:35:42.718363",
     "status": "completed"
    },
    "tags": []
   },
   "source": [
    "# Profiling"
   ]
  },
  {
   "cell_type": "code",
   "execution_count": 4,
   "id": "a3e0289b",
   "metadata": {
    "execution": {
     "iopub.execute_input": "2021-04-04T23:35:42.820643Z",
     "iopub.status.busy": "2021-04-04T23:35:42.819800Z",
     "iopub.status.idle": "2021-04-04T23:35:44.456360Z",
     "shell.execute_reply": "2021-04-04T23:35:44.455732Z"
    },
    "papermill": {
     "duration": 1.67391,
     "end_time": "2021-04-04T23:35:44.456485",
     "exception": false,
     "start_time": "2021-04-04T23:35:42.782575",
     "status": "completed"
    },
    "tags": []
   },
   "outputs": [],
   "source": [
    "import pandas as pd\n",
    "from pandas_profiling import ProfileReport"
   ]
  },
  {
   "cell_type": "code",
   "execution_count": 5,
   "id": "ee6c0666",
   "metadata": {
    "execution": {
     "iopub.execute_input": "2021-04-04T23:35:44.504005Z",
     "iopub.status.busy": "2021-04-04T23:35:44.502270Z",
     "iopub.status.idle": "2021-04-04T23:35:44.510918Z",
     "shell.execute_reply": "2021-04-04T23:35:44.511454Z"
    },
    "papermill": {
     "duration": 0.033163,
     "end_time": "2021-04-04T23:35:44.511634",
     "exception": false,
     "start_time": "2021-04-04T23:35:44.478471",
     "status": "completed"
    },
    "tags": []
   },
   "outputs": [],
   "source": [
    "df = pd.read_csv(dataset_config['dataset_path'])"
   ]
  },
  {
   "cell_type": "code",
   "execution_count": 6,
   "id": "7eca6c4a",
   "metadata": {
    "execution": {
     "iopub.execute_input": "2021-04-04T23:35:44.576387Z",
     "iopub.status.busy": "2021-04-04T23:35:44.575639Z",
     "iopub.status.idle": "2021-04-04T23:35:44.578801Z",
     "shell.execute_reply": "2021-04-04T23:35:44.579808Z"
    },
    "papermill": {
     "duration": 0.046624,
     "end_time": "2021-04-04T23:35:44.580168",
     "exception": false,
     "start_time": "2021-04-04T23:35:44.533544",
     "status": "completed"
    },
    "tags": []
   },
   "outputs": [
    {
     "name": "stdout",
     "output_type": "stream",
     "text": [
      "<class 'pandas.core.frame.DataFrame'>\n",
      "RangeIndex: 498 entries, 0 to 497\n",
      "Data columns (total 23 columns):\n",
      " #   Column             Non-Null Count  Dtype  \n",
      "---  ------             --------------  -----  \n",
      " 0   id                 498 non-null    int64  \n",
      " 1   loc                498 non-null    float64\n",
      " 2   v(g)               498 non-null    float64\n",
      " 3   ev(g)              498 non-null    float64\n",
      " 4   iv(g)              498 non-null    float64\n",
      " 5   n                  498 non-null    float64\n",
      " 6   v                  498 non-null    float64\n",
      " 7   l                  498 non-null    float64\n",
      " 8   d                  498 non-null    float64\n",
      " 9   i                  498 non-null    float64\n",
      " 10  e                  498 non-null    float64\n",
      " 11  b                  498 non-null    float64\n",
      " 12  t                  498 non-null    float64\n",
      " 13  lOCode             498 non-null    int64  \n",
      " 14  lOComment          498 non-null    int64  \n",
      " 15  lOBlank            498 non-null    int64  \n",
      " 16  locCodeAndComment  498 non-null    int64  \n",
      " 17  uniq_Op            498 non-null    float64\n",
      " 18  uniq_Opnd          498 non-null    float64\n",
      " 19  total_Op           498 non-null    float64\n",
      " 20  total_Opnd         498 non-null    float64\n",
      " 21  branchCount        498 non-null    float64\n",
      " 22  defects            498 non-null    bool   \n",
      "dtypes: bool(1), float64(17), int64(5)\n",
      "memory usage: 86.2 KB\n"
     ]
    }
   ],
   "source": [
    "df.info()"
   ]
  },
  {
   "cell_type": "code",
   "execution_count": 7,
   "id": "3638e5e8",
   "metadata": {
    "execution": {
     "iopub.execute_input": "2021-04-04T23:35:44.654394Z",
     "iopub.status.busy": "2021-04-04T23:35:44.652328Z",
     "iopub.status.idle": "2021-04-04T23:35:44.681295Z",
     "shell.execute_reply": "2021-04-04T23:35:44.681767Z"
    },
    "papermill": {
     "duration": 0.077737,
     "end_time": "2021-04-04T23:35:44.681914",
     "exception": false,
     "start_time": "2021-04-04T23:35:44.604177",
     "status": "completed"
    },
    "tags": []
   },
   "outputs": [
    {
     "data": {
      "text/html": [
       "<div>\n",
       "<style scoped>\n",
       "    .dataframe tbody tr th:only-of-type {\n",
       "        vertical-align: middle;\n",
       "    }\n",
       "\n",
       "    .dataframe tbody tr th {\n",
       "        vertical-align: top;\n",
       "    }\n",
       "\n",
       "    .dataframe thead th {\n",
       "        text-align: right;\n",
       "    }\n",
       "</style>\n",
       "<table border=\"1\" class=\"dataframe\">\n",
       "  <thead>\n",
       "    <tr style=\"text-align: right;\">\n",
       "      <th></th>\n",
       "      <th>id</th>\n",
       "      <th>loc</th>\n",
       "      <th>v(g)</th>\n",
       "      <th>ev(g)</th>\n",
       "      <th>iv(g)</th>\n",
       "      <th>n</th>\n",
       "      <th>v</th>\n",
       "      <th>l</th>\n",
       "      <th>d</th>\n",
       "      <th>i</th>\n",
       "      <th>...</th>\n",
       "      <th>lOCode</th>\n",
       "      <th>lOComment</th>\n",
       "      <th>lOBlank</th>\n",
       "      <th>locCodeAndComment</th>\n",
       "      <th>uniq_Op</th>\n",
       "      <th>uniq_Opnd</th>\n",
       "      <th>total_Op</th>\n",
       "      <th>total_Opnd</th>\n",
       "      <th>branchCount</th>\n",
       "      <th>defects</th>\n",
       "    </tr>\n",
       "  </thead>\n",
       "  <tbody>\n",
       "    <tr>\n",
       "      <th>0</th>\n",
       "      <td>1</td>\n",
       "      <td>1.1</td>\n",
       "      <td>1.4</td>\n",
       "      <td>1.4</td>\n",
       "      <td>1.4</td>\n",
       "      <td>1.3</td>\n",
       "      <td>1.30</td>\n",
       "      <td>1.30</td>\n",
       "      <td>1.30</td>\n",
       "      <td>1.30</td>\n",
       "      <td>...</td>\n",
       "      <td>2</td>\n",
       "      <td>2</td>\n",
       "      <td>2</td>\n",
       "      <td>2</td>\n",
       "      <td>1.2</td>\n",
       "      <td>1.2</td>\n",
       "      <td>1.2</td>\n",
       "      <td>1.2</td>\n",
       "      <td>1.4</td>\n",
       "      <td>False</td>\n",
       "    </tr>\n",
       "    <tr>\n",
       "      <th>1</th>\n",
       "      <td>2</td>\n",
       "      <td>1.0</td>\n",
       "      <td>1.0</td>\n",
       "      <td>1.0</td>\n",
       "      <td>1.0</td>\n",
       "      <td>1.0</td>\n",
       "      <td>1.00</td>\n",
       "      <td>1.00</td>\n",
       "      <td>1.00</td>\n",
       "      <td>1.00</td>\n",
       "      <td>...</td>\n",
       "      <td>1</td>\n",
       "      <td>1</td>\n",
       "      <td>1</td>\n",
       "      <td>1</td>\n",
       "      <td>1.0</td>\n",
       "      <td>1.0</td>\n",
       "      <td>1.0</td>\n",
       "      <td>1.0</td>\n",
       "      <td>1.0</td>\n",
       "      <td>True</td>\n",
       "    </tr>\n",
       "    <tr>\n",
       "      <th>2</th>\n",
       "      <td>3</td>\n",
       "      <td>24.0</td>\n",
       "      <td>5.0</td>\n",
       "      <td>1.0</td>\n",
       "      <td>3.0</td>\n",
       "      <td>63.0</td>\n",
       "      <td>309.13</td>\n",
       "      <td>0.11</td>\n",
       "      <td>9.50</td>\n",
       "      <td>32.54</td>\n",
       "      <td>...</td>\n",
       "      <td>1</td>\n",
       "      <td>0</td>\n",
       "      <td>6</td>\n",
       "      <td>0</td>\n",
       "      <td>15.0</td>\n",
       "      <td>15.0</td>\n",
       "      <td>44.0</td>\n",
       "      <td>19.0</td>\n",
       "      <td>9.0</td>\n",
       "      <td>False</td>\n",
       "    </tr>\n",
       "    <tr>\n",
       "      <th>3</th>\n",
       "      <td>4</td>\n",
       "      <td>20.0</td>\n",
       "      <td>4.0</td>\n",
       "      <td>4.0</td>\n",
       "      <td>2.0</td>\n",
       "      <td>47.0</td>\n",
       "      <td>215.49</td>\n",
       "      <td>0.06</td>\n",
       "      <td>16.00</td>\n",
       "      <td>13.47</td>\n",
       "      <td>...</td>\n",
       "      <td>0</td>\n",
       "      <td>0</td>\n",
       "      <td>3</td>\n",
       "      <td>0</td>\n",
       "      <td>16.0</td>\n",
       "      <td>8.0</td>\n",
       "      <td>31.0</td>\n",
       "      <td>16.0</td>\n",
       "      <td>7.0</td>\n",
       "      <td>False</td>\n",
       "    </tr>\n",
       "    <tr>\n",
       "      <th>4</th>\n",
       "      <td>5</td>\n",
       "      <td>24.0</td>\n",
       "      <td>6.0</td>\n",
       "      <td>6.0</td>\n",
       "      <td>2.0</td>\n",
       "      <td>72.0</td>\n",
       "      <td>346.13</td>\n",
       "      <td>0.06</td>\n",
       "      <td>17.33</td>\n",
       "      <td>19.97</td>\n",
       "      <td>...</td>\n",
       "      <td>0</td>\n",
       "      <td>0</td>\n",
       "      <td>3</td>\n",
       "      <td>0</td>\n",
       "      <td>16.0</td>\n",
       "      <td>12.0</td>\n",
       "      <td>46.0</td>\n",
       "      <td>26.0</td>\n",
       "      <td>11.0</td>\n",
       "      <td>False</td>\n",
       "    </tr>\n",
       "  </tbody>\n",
       "</table>\n",
       "<p>5 rows × 23 columns</p>\n",
       "</div>"
      ],
      "text/plain": [
       "   id   loc  v(g)  ev(g)  iv(g)     n       v     l      d      i  ...  \\\n",
       "0   1   1.1   1.4    1.4    1.4   1.3    1.30  1.30   1.30   1.30  ...   \n",
       "1   2   1.0   1.0    1.0    1.0   1.0    1.00  1.00   1.00   1.00  ...   \n",
       "2   3  24.0   5.0    1.0    3.0  63.0  309.13  0.11   9.50  32.54  ...   \n",
       "3   4  20.0   4.0    4.0    2.0  47.0  215.49  0.06  16.00  13.47  ...   \n",
       "4   5  24.0   6.0    6.0    2.0  72.0  346.13  0.06  17.33  19.97  ...   \n",
       "\n",
       "   lOCode  lOComment  lOBlank  locCodeAndComment  uniq_Op  uniq_Opnd  \\\n",
       "0       2          2        2                  2      1.2        1.2   \n",
       "1       1          1        1                  1      1.0        1.0   \n",
       "2       1          0        6                  0     15.0       15.0   \n",
       "3       0          0        3                  0     16.0        8.0   \n",
       "4       0          0        3                  0     16.0       12.0   \n",
       "\n",
       "   total_Op  total_Opnd  branchCount  defects  \n",
       "0       1.2         1.2          1.4    False  \n",
       "1       1.0         1.0          1.0     True  \n",
       "2      44.0        19.0          9.0    False  \n",
       "3      31.0        16.0          7.0    False  \n",
       "4      46.0        26.0         11.0    False  \n",
       "\n",
       "[5 rows x 23 columns]"
      ]
     },
     "execution_count": 7,
     "metadata": {},
     "output_type": "execute_result"
    }
   ],
   "source": [
    "df.head()"
   ]
  },
  {
   "cell_type": "code",
   "execution_count": 8,
   "id": "733e95eb",
   "metadata": {
    "execution": {
     "iopub.execute_input": "2021-04-04T23:35:44.743084Z",
     "iopub.status.busy": "2021-04-04T23:35:44.740704Z",
     "iopub.status.idle": "2021-04-04T23:35:44.746930Z",
     "shell.execute_reply": "2021-04-04T23:35:44.746302Z"
    },
    "papermill": {
     "duration": 0.0412,
     "end_time": "2021-04-04T23:35:44.747077",
     "exception": false,
     "start_time": "2021-04-04T23:35:44.705877",
     "status": "completed"
    },
    "tags": []
   },
   "outputs": [],
   "source": [
    "del df['id']"
   ]
  },
  {
   "cell_type": "code",
   "execution_count": 9,
   "id": "6ff6f5b0",
   "metadata": {
    "execution": {
     "iopub.execute_input": "2021-04-04T23:35:44.818555Z",
     "iopub.status.busy": "2021-04-04T23:35:44.817938Z",
     "iopub.status.idle": "2021-04-04T23:35:44.819918Z",
     "shell.execute_reply": "2021-04-04T23:35:44.820417Z"
    },
    "papermill": {
     "duration": 0.040953,
     "end_time": "2021-04-04T23:35:44.820567",
     "exception": false,
     "start_time": "2021-04-04T23:35:44.779614",
     "status": "completed"
    },
    "tags": []
   },
   "outputs": [],
   "source": [
    "if PROFILE_REPORTING:\n",
    "    ProfileReport(df).to_widgets()"
   ]
  },
  {
   "cell_type": "markdown",
   "id": "1deaf3f0",
   "metadata": {
    "papermill": {
     "duration": 0.037826,
     "end_time": "2021-04-04T23:35:44.888104",
     "exception": false,
     "start_time": "2021-04-04T23:35:44.850278",
     "status": "completed"
    },
    "tags": []
   },
   "source": [
    "# Preprocess"
   ]
  },
  {
   "cell_type": "code",
   "execution_count": 10,
   "id": "1513e563",
   "metadata": {
    "execution": {
     "iopub.execute_input": "2021-04-04T23:35:44.947386Z",
     "iopub.status.busy": "2021-04-04T23:35:44.945683Z",
     "iopub.status.idle": "2021-04-04T23:35:44.949070Z",
     "shell.execute_reply": "2021-04-04T23:35:44.949646Z"
    },
    "papermill": {
     "duration": 0.034136,
     "end_time": "2021-04-04T23:35:44.949864",
     "exception": false,
     "start_time": "2021-04-04T23:35:44.915728",
     "status": "completed"
    },
    "tags": []
   },
   "outputs": [],
   "source": [
    "working_df = df.copy()"
   ]
  },
  {
   "cell_type": "code",
   "execution_count": 11,
   "id": "3b26d675",
   "metadata": {
    "execution": {
     "iopub.execute_input": "2021-04-04T23:35:45.010008Z",
     "iopub.status.busy": "2021-04-04T23:35:45.009263Z",
     "iopub.status.idle": "2021-04-04T23:35:45.012199Z",
     "shell.execute_reply": "2021-04-04T23:35:45.011645Z"
    },
    "papermill": {
     "duration": 0.040199,
     "end_time": "2021-04-04T23:35:45.012339",
     "exception": false,
     "start_time": "2021-04-04T23:35:44.972140",
     "status": "completed"
    },
    "tags": []
   },
   "outputs": [],
   "source": [
    "working_df['defects'] = working_df['defects'].replace([False, True], [0, 1])"
   ]
  },
  {
   "cell_type": "code",
   "execution_count": 12,
   "id": "eb48604f",
   "metadata": {
    "execution": {
     "iopub.execute_input": "2021-04-04T23:35:45.085757Z",
     "iopub.status.busy": "2021-04-04T23:35:45.083132Z",
     "iopub.status.idle": "2021-04-04T23:35:45.090383Z",
     "shell.execute_reply": "2021-04-04T23:35:45.091485Z"
    },
    "papermill": {
     "duration": 0.047889,
     "end_time": "2021-04-04T23:35:45.091776",
     "exception": false,
     "start_time": "2021-04-04T23:35:45.043887",
     "status": "completed"
    },
    "tags": []
   },
   "outputs": [],
   "source": [
    "for col in dataset_config['delete_columns']:\n",
    "    del working_df[col]"
   ]
  },
  {
   "cell_type": "code",
   "execution_count": 13,
   "id": "9a17bc29",
   "metadata": {
    "execution": {
     "iopub.execute_input": "2021-04-04T23:35:45.174148Z",
     "iopub.status.busy": "2021-04-04T23:35:45.173351Z",
     "iopub.status.idle": "2021-04-04T23:35:45.184172Z",
     "shell.execute_reply": "2021-04-04T23:35:45.184657Z"
    },
    "papermill": {
     "duration": 0.052015,
     "end_time": "2021-04-04T23:35:45.184807",
     "exception": false,
     "start_time": "2021-04-04T23:35:45.132792",
     "status": "completed"
    },
    "tags": []
   },
   "outputs": [],
   "source": [
    "working_df = working_df.drop_duplicates()"
   ]
  },
  {
   "cell_type": "markdown",
   "id": "a4d52ca6",
   "metadata": {
    "papermill": {
     "duration": 0.023042,
     "end_time": "2021-04-04T23:35:45.232064",
     "exception": false,
     "start_time": "2021-04-04T23:35:45.209022",
     "status": "completed"
    },
    "tags": []
   },
   "source": [
    "# Split"
   ]
  },
  {
   "cell_type": "code",
   "execution_count": 14,
   "id": "3e9ee4b5",
   "metadata": {
    "execution": {
     "iopub.execute_input": "2021-04-04T23:35:45.294191Z",
     "iopub.status.busy": "2021-04-04T23:35:45.293022Z",
     "iopub.status.idle": "2021-04-04T23:35:45.332445Z",
     "shell.execute_reply": "2021-04-04T23:35:45.331804Z"
    },
    "papermill": {
     "duration": 0.075783,
     "end_time": "2021-04-04T23:35:45.332566",
     "exception": false,
     "start_time": "2021-04-04T23:35:45.256783",
     "status": "completed"
    },
    "tags": []
   },
   "outputs": [],
   "source": [
    "from sklearn.model_selection import train_test_split"
   ]
  },
  {
   "cell_type": "code",
   "execution_count": 15,
   "id": "274004ce",
   "metadata": {
    "execution": {
     "iopub.execute_input": "2021-04-04T23:35:45.397665Z",
     "iopub.status.busy": "2021-04-04T23:35:45.397038Z",
     "iopub.status.idle": "2021-04-04T23:35:45.403848Z",
     "shell.execute_reply": "2021-04-04T23:35:45.404687Z"
    },
    "papermill": {
     "duration": 0.043098,
     "end_time": "2021-04-04T23:35:45.404921",
     "exception": false,
     "start_time": "2021-04-04T23:35:45.361823",
     "status": "completed"
    },
    "scrolled": true,
    "tags": []
   },
   "outputs": [],
   "source": [
    "inlier, outlier = working_df[working_df['defects'] == 0], working_df[working_df['defects'] == 1]"
   ]
  },
  {
   "cell_type": "code",
   "execution_count": 16,
   "id": "753c7b03",
   "metadata": {
    "execution": {
     "iopub.execute_input": "2021-04-04T23:35:45.466441Z",
     "iopub.status.busy": "2021-04-04T23:35:45.465405Z",
     "iopub.status.idle": "2021-04-04T23:35:45.469531Z",
     "shell.execute_reply": "2021-04-04T23:35:45.467895Z"
    },
    "papermill": {
     "duration": 0.042353,
     "end_time": "2021-04-04T23:35:45.469876",
     "exception": false,
     "start_time": "2021-04-04T23:35:45.427523",
     "status": "completed"
    },
    "tags": []
   },
   "outputs": [],
   "source": [
    "X_inlier = inlier.copy()\n",
    "y_inlier = X_inlier.pop('defects')\n",
    "X_outlier = outlier.copy()\n",
    "y_outlier = X_outlier.pop('defects')"
   ]
  },
  {
   "cell_type": "code",
   "execution_count": 17,
   "id": "2ba43193",
   "metadata": {
    "execution": {
     "iopub.execute_input": "2021-04-04T23:35:45.526624Z",
     "iopub.status.busy": "2021-04-04T23:35:45.525931Z",
     "iopub.status.idle": "2021-04-04T23:35:45.527775Z",
     "shell.execute_reply": "2021-04-04T23:35:45.528243Z"
    },
    "papermill": {
     "duration": 0.036044,
     "end_time": "2021-04-04T23:35:45.528387",
     "exception": false,
     "start_time": "2021-04-04T23:35:45.492343",
     "status": "completed"
    },
    "tags": []
   },
   "outputs": [],
   "source": [
    "test_size = dataset_config['test_size']\n",
    "random_state = dataset_config['random_state']\n",
    "\n",
    "X_inlier_train, X_inlier_test, y_inlier_train, y_inlier_test = train_test_split(\n",
    "    X_inlier,\n",
    "    y_inlier,\n",
    "    test_size=test_size,\n",
    "    random_state=random_state\n",
    ")"
   ]
  },
  {
   "cell_type": "code",
   "execution_count": 18,
   "id": "0b7582ca",
   "metadata": {
    "execution": {
     "iopub.execute_input": "2021-04-04T23:35:45.586500Z",
     "iopub.status.busy": "2021-04-04T23:35:45.585831Z",
     "iopub.status.idle": "2021-04-04T23:35:45.587796Z",
     "shell.execute_reply": "2021-04-04T23:35:45.588264Z"
    },
    "papermill": {
     "duration": 0.036499,
     "end_time": "2021-04-04T23:35:45.588412",
     "exception": false,
     "start_time": "2021-04-04T23:35:45.551913",
     "status": "completed"
    },
    "tags": []
   },
   "outputs": [],
   "source": [
    "test_outlier_size = dataset_config['test_outlier_size']\n",
    "if test_outlier_size > 0.0:\n",
    "    X_outlier_train, X_outlier_test, y_outlier_train, y_outlier_test = train_test_split(\n",
    "        X_outlier,\n",
    "        y_outlier,\n",
    "        test_size=test_outlier_size,\n",
    "        random_state=random_state\n",
    "    )\n",
    "else:\n",
    "    X_outlier_train, y_outlier_train = pd.DataFrame(columns=X_outlier.columns), pd.Series(dtype='int64')\n",
    "    X_outlier_test, y_outlier_test = X_outlier.copy(), y_outlier.copy()"
   ]
  },
  {
   "cell_type": "code",
   "execution_count": 19,
   "id": "c34363db",
   "metadata": {
    "execution": {
     "iopub.execute_input": "2021-04-04T23:35:45.647789Z",
     "iopub.status.busy": "2021-04-04T23:35:45.646597Z",
     "iopub.status.idle": "2021-04-04T23:35:45.655308Z",
     "shell.execute_reply": "2021-04-04T23:35:45.654709Z"
    },
    "papermill": {
     "duration": 0.037341,
     "end_time": "2021-04-04T23:35:45.655448",
     "exception": false,
     "start_time": "2021-04-04T23:35:45.618107",
     "status": "completed"
    },
    "tags": []
   },
   "outputs": [],
   "source": [
    "X_train, y_train = pd.concat([X_inlier_train, X_outlier_train], ignore_index=True), pd.concat([y_inlier_train, y_outlier_train], ignore_index=True)\n",
    "X_test, y_test = pd.concat([X_inlier_test, X_outlier_test], ignore_index=True), pd.concat([y_inlier_test, y_outlier_test], ignore_index=True)"
   ]
  },
  {
   "cell_type": "markdown",
   "id": "7cde7309",
   "metadata": {
    "papermill": {
     "duration": 0.042059,
     "end_time": "2021-04-04T23:35:45.720906",
     "exception": false,
     "start_time": "2021-04-04T23:35:45.678847",
     "status": "completed"
    },
    "tags": []
   },
   "source": [
    "# Model"
   ]
  },
  {
   "cell_type": "code",
   "execution_count": 20,
   "id": "2b12a415",
   "metadata": {
    "execution": {
     "iopub.execute_input": "2021-04-04T23:35:45.813312Z",
     "iopub.status.busy": "2021-04-04T23:35:45.812518Z",
     "iopub.status.idle": "2021-04-04T23:35:45.814997Z",
     "shell.execute_reply": "2021-04-04T23:35:45.815509Z"
    },
    "papermill": {
     "duration": 0.057217,
     "end_time": "2021-04-04T23:35:45.815778",
     "exception": false,
     "start_time": "2021-04-04T23:35:45.758561",
     "status": "completed"
    },
    "tags": []
   },
   "outputs": [],
   "source": [
    "from math import sqrt\n",
    "\n",
    "\n",
    "class KNNDataDescription:\n",
    "    def __init__(self, k=5, outlier_threshold=1.0):\n",
    "        self.k = k\n",
    "        self.outlier_threshold = outlier_threshold\n",
    "        self.X = []\n",
    "    \n",
    "    def fit(self, X):\n",
    "        self.X = [features.to_list() for index, features in X.iterrows()]\n",
    "\n",
    "    def predict(self, entries):\n",
    "        return [self.predict_entry(features.to_list()) for index, features in entries.iterrows()]\n",
    "    \n",
    "    def predict_entry(self, entry):\n",
    "        kth_neighbor, kth_distance = self.get_kth_neighbor(entry, self.k)\n",
    "        kth_kth_neighbor, kth_kth_distance = self.get_kth_neighbor(kth_neighbor, self.k + 1)\n",
    "\n",
    "        outlier_score = kth_distance / (kth_kth_distance + 0.000001)\n",
    "\n",
    "        return 1 if outlier_score < self.outlier_threshold else -1\n",
    "        \n",
    "    def euclidean_distance(self, features1, features2):\n",
    "        distance = 0.0\n",
    "        for feat1, feat2 in zip(features1, features2):\n",
    "            distance += (feat1 - feat2)**2\n",
    "                \n",
    "        return sqrt(distance)\n",
    "\n",
    "    def get_neighbors(self, entry, k):\n",
    "        distance_to_data_points = [\n",
    "            (data_point, self.euclidean_distance(entry, data_point))\n",
    "            for data_point in self.X\n",
    "        ]\n",
    "        sorted_by_distance = sorted(distance_to_data_points, key=lambda tup: tup[1])\n",
    "        neighbors = sorted_by_distance[:k]\n",
    "        return neighbors\n",
    "\n",
    "    def get_kth_neighbor(self, entry, k):\n",
    "        neighbors = self.get_neighbors(entry, k)\n",
    "        return neighbors[-1]\n"
   ]
  },
  {
   "cell_type": "code",
   "execution_count": 21,
   "id": "1fa9ec1c",
   "metadata": {
    "execution": {
     "iopub.execute_input": "2021-04-04T23:35:45.898486Z",
     "iopub.status.busy": "2021-04-04T23:35:45.897178Z",
     "iopub.status.idle": "2021-04-04T23:35:45.937632Z",
     "shell.execute_reply": "2021-04-04T23:35:45.938983Z"
    },
    "papermill": {
     "duration": 0.095076,
     "end_time": "2021-04-04T23:35:45.939312",
     "exception": false,
     "start_time": "2021-04-04T23:35:45.844236",
     "status": "completed"
    },
    "tags": []
   },
   "outputs": [],
   "source": [
    "from sklearn.svm import OneClassSVM\n",
    "\n",
    "\n",
    "models = {\n",
    "    'oneclasssvm': OneClassSVM,\n",
    "    'knndatadescription': KNNDataDescription,\n",
    "}"
   ]
  },
  {
   "cell_type": "code",
   "execution_count": 22,
   "id": "4d72a0b1",
   "metadata": {
    "execution": {
     "iopub.execute_input": "2021-04-04T23:35:46.016115Z",
     "iopub.status.busy": "2021-04-04T23:35:46.015359Z",
     "iopub.status.idle": "2021-04-04T23:35:46.018447Z",
     "shell.execute_reply": "2021-04-04T23:35:46.017695Z"
    },
    "papermill": {
     "duration": 0.038484,
     "end_time": "2021-04-04T23:35:46.018587",
     "exception": false,
     "start_time": "2021-04-04T23:35:45.980103",
     "status": "completed"
    },
    "scrolled": true,
    "tags": []
   },
   "outputs": [],
   "source": [
    "model_cls = models[model_config['model_type']]\n",
    "model = model_cls(**model_config['hyperparameters'])"
   ]
  },
  {
   "cell_type": "markdown",
   "id": "e00cff3b",
   "metadata": {
    "papermill": {
     "duration": 0.057697,
     "end_time": "2021-04-04T23:35:46.105513",
     "exception": false,
     "start_time": "2021-04-04T23:35:46.047816",
     "status": "completed"
    },
    "tags": []
   },
   "source": [
    "# Fit"
   ]
  },
  {
   "cell_type": "code",
   "execution_count": 23,
   "id": "8b2ded89",
   "metadata": {
    "execution": {
     "iopub.execute_input": "2021-04-04T23:35:46.204464Z",
     "iopub.status.busy": "2021-04-04T23:35:46.181886Z",
     "iopub.status.idle": "2021-04-04T23:35:46.207240Z",
     "shell.execute_reply": "2021-04-04T23:35:46.206718Z"
    },
    "papermill": {
     "duration": 0.054338,
     "end_time": "2021-04-04T23:35:46.207373",
     "exception": false,
     "start_time": "2021-04-04T23:35:46.153035",
     "status": "completed"
    },
    "tags": []
   },
   "outputs": [],
   "source": [
    "model.fit(X_train)"
   ]
  },
  {
   "cell_type": "markdown",
   "id": "f99999f7",
   "metadata": {
    "papermill": {
     "duration": 0.029331,
     "end_time": "2021-04-04T23:35:46.261502",
     "exception": false,
     "start_time": "2021-04-04T23:35:46.232171",
     "status": "completed"
    },
    "tags": []
   },
   "source": [
    "# Predict"
   ]
  },
  {
   "cell_type": "code",
   "execution_count": 24,
   "id": "6536fbf7",
   "metadata": {
    "execution": {
     "iopub.execute_input": "2021-04-04T23:35:46.318075Z",
     "iopub.status.busy": "2021-04-04T23:35:46.317327Z",
     "iopub.status.idle": "2021-04-04T23:35:46.750269Z",
     "shell.execute_reply": "2021-04-04T23:35:46.749506Z"
    },
    "papermill": {
     "duration": 0.464196,
     "end_time": "2021-04-04T23:35:46.750404",
     "exception": false,
     "start_time": "2021-04-04T23:35:46.286208",
     "status": "completed"
    },
    "tags": []
   },
   "outputs": [],
   "source": [
    "predictions = model.predict(X_test)"
   ]
  },
  {
   "cell_type": "markdown",
   "id": "aa1c9881",
   "metadata": {
    "papermill": {
     "duration": 0.031144,
     "end_time": "2021-04-04T23:35:46.813458",
     "exception": false,
     "start_time": "2021-04-04T23:35:46.782314",
     "status": "completed"
    },
    "tags": []
   },
   "source": [
    "# Evaluate"
   ]
  },
  {
   "cell_type": "code",
   "execution_count": 25,
   "id": "894f0f04",
   "metadata": {
    "execution": {
     "iopub.execute_input": "2021-04-04T23:35:46.896494Z",
     "iopub.status.busy": "2021-04-04T23:35:46.895432Z",
     "iopub.status.idle": "2021-04-04T23:35:46.897732Z",
     "shell.execute_reply": "2021-04-04T23:35:46.898576Z"
    },
    "papermill": {
     "duration": 0.052945,
     "end_time": "2021-04-04T23:35:46.898789",
     "exception": false,
     "start_time": "2021-04-04T23:35:46.845844",
     "status": "completed"
    },
    "tags": []
   },
   "outputs": [],
   "source": [
    "from sklearn.metrics import f1_score"
   ]
  },
  {
   "cell_type": "code",
   "execution_count": 26,
   "id": "211744d3",
   "metadata": {
    "execution": {
     "iopub.execute_input": "2021-04-04T23:35:46.982819Z",
     "iopub.status.busy": "2021-04-04T23:35:46.981954Z",
     "iopub.status.idle": "2021-04-04T23:35:46.985351Z",
     "shell.execute_reply": "2021-04-04T23:35:46.987882Z"
    },
    "papermill": {
     "duration": 0.052148,
     "end_time": "2021-04-04T23:35:46.988499",
     "exception": false,
     "start_time": "2021-04-04T23:35:46.936351",
     "status": "completed"
    },
    "tags": []
   },
   "outputs": [],
   "source": [
    "y_test = y_test.replace([0, 1], [1, -1])"
   ]
  },
  {
   "cell_type": "code",
   "execution_count": 27,
   "id": "d68a9204",
   "metadata": {
    "execution": {
     "iopub.execute_input": "2021-04-04T23:35:47.069635Z",
     "iopub.status.busy": "2021-04-04T23:35:47.068499Z",
     "iopub.status.idle": "2021-04-04T23:35:47.071286Z",
     "shell.execute_reply": "2021-04-04T23:35:47.072143Z"
    },
    "papermill": {
     "duration": 0.051027,
     "end_time": "2021-04-04T23:35:47.073957",
     "exception": false,
     "start_time": "2021-04-04T23:35:47.022930",
     "status": "completed"
    },
    "tags": []
   },
   "outputs": [],
   "source": [
    "def evaluate(truths, predictions, pos_label, neg_label):\n",
    "    TP = 0\n",
    "    FP = 0\n",
    "    TN = 0\n",
    "    FN = 0\n",
    "\n",
    "    for truth, pred in zip(truths, predictions): \n",
    "        if truth == pred == pos_label:\n",
    "           TP += 1\n",
    "        elif pred == pos_label and truth == neg_label:\n",
    "           FP += 1\n",
    "        elif truth == pred == neg_label:\n",
    "           TN += 1\n",
    "        elif pred == neg_label and truth == pos_label:\n",
    "           FN += 1\n",
    "\n",
    "    precision = TP / (TP + FP)\n",
    "    sensitivity = TP / (TP + FN)\n",
    "    \n",
    "    return {\n",
    "        'true_pos': TP,\n",
    "        'false_pos': FP,\n",
    "        'false_neg': FN,\n",
    "        'true_neg': TN,\n",
    "        'precision': precision,\n",
    "        'sensitivity': sensitivity,\n",
    "        'f1': (2 * (precision * sensitivity)) / (precision + sensitivity)\n",
    "    }\n",
    "\n",
    "score = evaluate(y_test, predictions, pos_label=-1, neg_label=1)"
   ]
  },
  {
   "cell_type": "markdown",
   "id": "93596516",
   "metadata": {
    "papermill": {
     "duration": 0.035071,
     "end_time": "2021-04-04T23:35:47.145516",
     "exception": false,
     "start_time": "2021-04-04T23:35:47.110445",
     "status": "completed"
    },
    "tags": []
   },
   "source": [
    "# Report"
   ]
  },
  {
   "cell_type": "code",
   "execution_count": 28,
   "id": "bea5fba1",
   "metadata": {
    "execution": {
     "iopub.execute_input": "2021-04-04T23:35:47.205420Z",
     "iopub.status.busy": "2021-04-04T23:35:47.204190Z",
     "iopub.status.idle": "2021-04-04T23:35:47.208098Z",
     "shell.execute_reply": "2021-04-04T23:35:47.207513Z"
    },
    "papermill": {
     "duration": 0.035362,
     "end_time": "2021-04-04T23:35:47.208230",
     "exception": false,
     "start_time": "2021-04-04T23:35:47.172868",
     "status": "completed"
    },
    "tags": []
   },
   "outputs": [],
   "source": [
    "import csv\n",
    "\n",
    "\n",
    "dataset_config_name = DATASET_CONFIG_PATH.split('/')[-1].split('.')[0]\n",
    "model_config_name = MODEL_CONFIG_PATH.split('/')[-1].split('.')[0]\n",
    "configuration = f\"dataset_{dataset_config_name}-model_{model_config_name}\"\n",
    "\n",
    "with open('results.csv', 'a') as f:\n",
    "    report = dict({'configuration': configuration}, **score)\n",
    "    writer = csv.DictWriter(f, report.keys())\n",
    "    writer.writerow(report)"
   ]
  }
 ],
 "metadata": {
  "celltoolbar": "Tags",
  "kernelspec": {
   "display_name": "Python 3",
   "language": "python",
   "name": "python3"
  },
  "language_info": {
   "codemirror_mode": {
    "name": "ipython",
    "version": 3
   },
   "file_extension": ".py",
   "mimetype": "text/x-python",
   "name": "python",
   "nbconvert_exporter": "python",
   "pygments_lexer": "ipython3",
   "version": "3.9.1"
  },
  "papermill": {
   "default_parameters": {},
   "duration": 7.077791,
   "end_time": "2021-04-04T23:35:48.638200",
   "environment_variables": {},
   "exception": null,
   "input_path": "main.ipynb",
   "output_path": "runs/dataset_000155-model_000001.ipynb",
   "parameters": {
    "DATASET_CONFIG_PATH": "config/dataset/000155.json",
    "MODEL_CONFIG_PATH": "config/model/000001.json",
    "PROFILE_REPORTING": false
   },
   "start_time": "2021-04-04T23:35:41.560409",
   "version": "2.3.3"
  }
 },
 "nbformat": 4,
 "nbformat_minor": 5
}