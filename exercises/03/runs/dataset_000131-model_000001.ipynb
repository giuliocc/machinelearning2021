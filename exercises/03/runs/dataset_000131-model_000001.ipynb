{
 "cells": [
  {
   "cell_type": "markdown",
   "id": "51c71c25",
   "metadata": {
    "papermill": {
     "duration": 0.026735,
     "end_time": "2021-04-04T23:25:13.815705",
     "exception": false,
     "start_time": "2021-04-04T23:25:13.788970",
     "status": "completed"
    },
    "tags": []
   },
   "source": [
    "# Parametrizing"
   ]
  },
  {
   "cell_type": "code",
   "execution_count": 1,
   "id": "3b136394",
   "metadata": {
    "execution": {
     "iopub.execute_input": "2021-04-04T23:25:13.879893Z",
     "iopub.status.busy": "2021-04-04T23:25:13.879096Z",
     "iopub.status.idle": "2021-04-04T23:25:13.883679Z",
     "shell.execute_reply": "2021-04-04T23:25:13.882653Z"
    },
    "papermill": {
     "duration": 0.043725,
     "end_time": "2021-04-04T23:25:13.884029",
     "exception": false,
     "start_time": "2021-04-04T23:25:13.840304",
     "status": "completed"
    },
    "tags": [
     "parameters"
    ]
   },
   "outputs": [],
   "source": [
    "DATASET_CONFIG_PATH = 'config/dataset/kc1_001.json'\n",
    "MODEL_CONFIG_PATH = 'config/model/knndd_001.json'\n",
    "PROFILE_REPORTING = False"
   ]
  },
  {
   "cell_type": "code",
   "execution_count": 2,
   "id": "06547eb7",
   "metadata": {
    "execution": {
     "iopub.execute_input": "2021-04-04T23:25:13.932830Z",
     "iopub.status.busy": "2021-04-04T23:25:13.931728Z",
     "iopub.status.idle": "2021-04-04T23:25:13.934353Z",
     "shell.execute_reply": "2021-04-04T23:25:13.934802Z"
    },
    "papermill": {
     "duration": 0.029867,
     "end_time": "2021-04-04T23:25:13.934942",
     "exception": false,
     "start_time": "2021-04-04T23:25:13.905075",
     "status": "completed"
    },
    "tags": [
     "injected-parameters"
    ]
   },
   "outputs": [],
   "source": [
    "# Parameters\n",
    "DATASET_CONFIG_PATH = \"config/dataset/000131.json\"\n",
    "MODEL_CONFIG_PATH = \"config/model/000001.json\"\n",
    "PROFILE_REPORTING = False\n"
   ]
  },
  {
   "cell_type": "code",
   "execution_count": 3,
   "id": "b80f2a10",
   "metadata": {
    "execution": {
     "iopub.execute_input": "2021-04-04T23:25:13.986184Z",
     "iopub.status.busy": "2021-04-04T23:25:13.984641Z",
     "iopub.status.idle": "2021-04-04T23:25:13.991013Z",
     "shell.execute_reply": "2021-04-04T23:25:13.989942Z"
    },
    "papermill": {
     "duration": 0.036516,
     "end_time": "2021-04-04T23:25:13.991224",
     "exception": false,
     "start_time": "2021-04-04T23:25:13.954708",
     "status": "completed"
    },
    "tags": []
   },
   "outputs": [],
   "source": [
    "import json\n",
    "\n",
    "\n",
    "with open(DATASET_CONFIG_PATH) as f:\n",
    "    dataset_config = json.load(f)\n",
    "\n",
    "with open(MODEL_CONFIG_PATH) as f:\n",
    "    model_config = json.load(f)"
   ]
  },
  {
   "cell_type": "markdown",
   "id": "9a4b0e2d",
   "metadata": {
    "papermill": {
     "duration": 0.022077,
     "end_time": "2021-04-04T23:25:14.033634",
     "exception": false,
     "start_time": "2021-04-04T23:25:14.011557",
     "status": "completed"
    },
    "tags": []
   },
   "source": [
    "# Profiling"
   ]
  },
  {
   "cell_type": "code",
   "execution_count": 4,
   "id": "a3e0289b",
   "metadata": {
    "execution": {
     "iopub.execute_input": "2021-04-04T23:25:14.086764Z",
     "iopub.status.busy": "2021-04-04T23:25:14.085436Z",
     "iopub.status.idle": "2021-04-04T23:25:15.607397Z",
     "shell.execute_reply": "2021-04-04T23:25:15.607873Z"
    },
    "papermill": {
     "duration": 1.552449,
     "end_time": "2021-04-04T23:25:15.608021",
     "exception": false,
     "start_time": "2021-04-04T23:25:14.055572",
     "status": "completed"
    },
    "tags": []
   },
   "outputs": [],
   "source": [
    "import pandas as pd\n",
    "from pandas_profiling import ProfileReport"
   ]
  },
  {
   "cell_type": "code",
   "execution_count": 5,
   "id": "ee6c0666",
   "metadata": {
    "execution": {
     "iopub.execute_input": "2021-04-04T23:25:15.657023Z",
     "iopub.status.busy": "2021-04-04T23:25:15.655222Z",
     "iopub.status.idle": "2021-04-04T23:25:15.665016Z",
     "shell.execute_reply": "2021-04-04T23:25:15.664065Z"
    },
    "papermill": {
     "duration": 0.034611,
     "end_time": "2021-04-04T23:25:15.665212",
     "exception": false,
     "start_time": "2021-04-04T23:25:15.630601",
     "status": "completed"
    },
    "tags": []
   },
   "outputs": [],
   "source": [
    "df = pd.read_csv(dataset_config['dataset_path'])"
   ]
  },
  {
   "cell_type": "code",
   "execution_count": 6,
   "id": "7eca6c4a",
   "metadata": {
    "execution": {
     "iopub.execute_input": "2021-04-04T23:25:15.737806Z",
     "iopub.status.busy": "2021-04-04T23:25:15.736488Z",
     "iopub.status.idle": "2021-04-04T23:25:15.760142Z",
     "shell.execute_reply": "2021-04-04T23:25:15.760589Z"
    },
    "papermill": {
     "duration": 0.070302,
     "end_time": "2021-04-04T23:25:15.760727",
     "exception": false,
     "start_time": "2021-04-04T23:25:15.690425",
     "status": "completed"
    },
    "tags": []
   },
   "outputs": [
    {
     "name": "stdout",
     "output_type": "stream",
     "text": [
      "<class 'pandas.core.frame.DataFrame'>\n",
      "RangeIndex: 498 entries, 0 to 497\n",
      "Data columns (total 23 columns):\n",
      " #   Column             Non-Null Count  Dtype  \n",
      "---  ------             --------------  -----  \n",
      " 0   id                 498 non-null    int64  \n",
      " 1   loc                498 non-null    float64\n",
      " 2   v(g)               498 non-null    float64\n",
      " 3   ev(g)              498 non-null    float64\n",
      " 4   iv(g)              498 non-null    float64\n",
      " 5   n                  498 non-null    float64\n",
      " 6   v                  498 non-null    float64\n",
      " 7   l                  498 non-null    float64\n",
      " 8   d                  498 non-null    float64\n",
      " 9   i                  498 non-null    float64\n",
      " 10  e                  498 non-null    float64\n",
      " 11  b                  498 non-null    float64\n",
      " 12  t                  498 non-null    float64\n",
      " 13  lOCode             498 non-null    int64  \n",
      " 14  lOComment          498 non-null    int64  \n",
      " 15  lOBlank            498 non-null    int64  \n",
      " 16  locCodeAndComment  498 non-null    int64  \n",
      " 17  uniq_Op            498 non-null    float64\n",
      " 18  uniq_Opnd          498 non-null    float64\n",
      " 19  total_Op           498 non-null    float64\n",
      " 20  total_Opnd         498 non-null    float64\n",
      " 21  branchCount        498 non-null    float64\n",
      " 22  defects            498 non-null    bool   \n",
      "dtypes: bool(1), float64(17), int64(5)\n",
      "memory usage: 86.2 KB\n"
     ]
    }
   ],
   "source": [
    "df.info()"
   ]
  },
  {
   "cell_type": "code",
   "execution_count": 7,
   "id": "3638e5e8",
   "metadata": {
    "execution": {
     "iopub.execute_input": "2021-04-04T23:25:15.816555Z",
     "iopub.status.busy": "2021-04-04T23:25:15.814732Z",
     "iopub.status.idle": "2021-04-04T23:25:15.853659Z",
     "shell.execute_reply": "2021-04-04T23:25:15.852903Z"
    },
    "papermill": {
     "duration": 0.072353,
     "end_time": "2021-04-04T23:25:15.853838",
     "exception": false,
     "start_time": "2021-04-04T23:25:15.781485",
     "status": "completed"
    },
    "tags": []
   },
   "outputs": [
    {
     "data": {
      "text/html": [
       "<div>\n",
       "<style scoped>\n",
       "    .dataframe tbody tr th:only-of-type {\n",
       "        vertical-align: middle;\n",
       "    }\n",
       "\n",
       "    .dataframe tbody tr th {\n",
       "        vertical-align: top;\n",
       "    }\n",
       "\n",
       "    .dataframe thead th {\n",
       "        text-align: right;\n",
       "    }\n",
       "</style>\n",
       "<table border=\"1\" class=\"dataframe\">\n",
       "  <thead>\n",
       "    <tr style=\"text-align: right;\">\n",
       "      <th></th>\n",
       "      <th>id</th>\n",
       "      <th>loc</th>\n",
       "      <th>v(g)</th>\n",
       "      <th>ev(g)</th>\n",
       "      <th>iv(g)</th>\n",
       "      <th>n</th>\n",
       "      <th>v</th>\n",
       "      <th>l</th>\n",
       "      <th>d</th>\n",
       "      <th>i</th>\n",
       "      <th>...</th>\n",
       "      <th>lOCode</th>\n",
       "      <th>lOComment</th>\n",
       "      <th>lOBlank</th>\n",
       "      <th>locCodeAndComment</th>\n",
       "      <th>uniq_Op</th>\n",
       "      <th>uniq_Opnd</th>\n",
       "      <th>total_Op</th>\n",
       "      <th>total_Opnd</th>\n",
       "      <th>branchCount</th>\n",
       "      <th>defects</th>\n",
       "    </tr>\n",
       "  </thead>\n",
       "  <tbody>\n",
       "    <tr>\n",
       "      <th>0</th>\n",
       "      <td>1</td>\n",
       "      <td>1.1</td>\n",
       "      <td>1.4</td>\n",
       "      <td>1.4</td>\n",
       "      <td>1.4</td>\n",
       "      <td>1.3</td>\n",
       "      <td>1.30</td>\n",
       "      <td>1.30</td>\n",
       "      <td>1.30</td>\n",
       "      <td>1.30</td>\n",
       "      <td>...</td>\n",
       "      <td>2</td>\n",
       "      <td>2</td>\n",
       "      <td>2</td>\n",
       "      <td>2</td>\n",
       "      <td>1.2</td>\n",
       "      <td>1.2</td>\n",
       "      <td>1.2</td>\n",
       "      <td>1.2</td>\n",
       "      <td>1.4</td>\n",
       "      <td>False</td>\n",
       "    </tr>\n",
       "    <tr>\n",
       "      <th>1</th>\n",
       "      <td>2</td>\n",
       "      <td>1.0</td>\n",
       "      <td>1.0</td>\n",
       "      <td>1.0</td>\n",
       "      <td>1.0</td>\n",
       "      <td>1.0</td>\n",
       "      <td>1.00</td>\n",
       "      <td>1.00</td>\n",
       "      <td>1.00</td>\n",
       "      <td>1.00</td>\n",
       "      <td>...</td>\n",
       "      <td>1</td>\n",
       "      <td>1</td>\n",
       "      <td>1</td>\n",
       "      <td>1</td>\n",
       "      <td>1.0</td>\n",
       "      <td>1.0</td>\n",
       "      <td>1.0</td>\n",
       "      <td>1.0</td>\n",
       "      <td>1.0</td>\n",
       "      <td>True</td>\n",
       "    </tr>\n",
       "    <tr>\n",
       "      <th>2</th>\n",
       "      <td>3</td>\n",
       "      <td>24.0</td>\n",
       "      <td>5.0</td>\n",
       "      <td>1.0</td>\n",
       "      <td>3.0</td>\n",
       "      <td>63.0</td>\n",
       "      <td>309.13</td>\n",
       "      <td>0.11</td>\n",
       "      <td>9.50</td>\n",
       "      <td>32.54</td>\n",
       "      <td>...</td>\n",
       "      <td>1</td>\n",
       "      <td>0</td>\n",
       "      <td>6</td>\n",
       "      <td>0</td>\n",
       "      <td>15.0</td>\n",
       "      <td>15.0</td>\n",
       "      <td>44.0</td>\n",
       "      <td>19.0</td>\n",
       "      <td>9.0</td>\n",
       "      <td>False</td>\n",
       "    </tr>\n",
       "    <tr>\n",
       "      <th>3</th>\n",
       "      <td>4</td>\n",
       "      <td>20.0</td>\n",
       "      <td>4.0</td>\n",
       "      <td>4.0</td>\n",
       "      <td>2.0</td>\n",
       "      <td>47.0</td>\n",
       "      <td>215.49</td>\n",
       "      <td>0.06</td>\n",
       "      <td>16.00</td>\n",
       "      <td>13.47</td>\n",
       "      <td>...</td>\n",
       "      <td>0</td>\n",
       "      <td>0</td>\n",
       "      <td>3</td>\n",
       "      <td>0</td>\n",
       "      <td>16.0</td>\n",
       "      <td>8.0</td>\n",
       "      <td>31.0</td>\n",
       "      <td>16.0</td>\n",
       "      <td>7.0</td>\n",
       "      <td>False</td>\n",
       "    </tr>\n",
       "    <tr>\n",
       "      <th>4</th>\n",
       "      <td>5</td>\n",
       "      <td>24.0</td>\n",
       "      <td>6.0</td>\n",
       "      <td>6.0</td>\n",
       "      <td>2.0</td>\n",
       "      <td>72.0</td>\n",
       "      <td>346.13</td>\n",
       "      <td>0.06</td>\n",
       "      <td>17.33</td>\n",
       "      <td>19.97</td>\n",
       "      <td>...</td>\n",
       "      <td>0</td>\n",
       "      <td>0</td>\n",
       "      <td>3</td>\n",
       "      <td>0</td>\n",
       "      <td>16.0</td>\n",
       "      <td>12.0</td>\n",
       "      <td>46.0</td>\n",
       "      <td>26.0</td>\n",
       "      <td>11.0</td>\n",
       "      <td>False</td>\n",
       "    </tr>\n",
       "  </tbody>\n",
       "</table>\n",
       "<p>5 rows × 23 columns</p>\n",
       "</div>"
      ],
      "text/plain": [
       "   id   loc  v(g)  ev(g)  iv(g)     n       v     l      d      i  ...  \\\n",
       "0   1   1.1   1.4    1.4    1.4   1.3    1.30  1.30   1.30   1.30  ...   \n",
       "1   2   1.0   1.0    1.0    1.0   1.0    1.00  1.00   1.00   1.00  ...   \n",
       "2   3  24.0   5.0    1.0    3.0  63.0  309.13  0.11   9.50  32.54  ...   \n",
       "3   4  20.0   4.0    4.0    2.0  47.0  215.49  0.06  16.00  13.47  ...   \n",
       "4   5  24.0   6.0    6.0    2.0  72.0  346.13  0.06  17.33  19.97  ...   \n",
       "\n",
       "   lOCode  lOComment  lOBlank  locCodeAndComment  uniq_Op  uniq_Opnd  \\\n",
       "0       2          2        2                  2      1.2        1.2   \n",
       "1       1          1        1                  1      1.0        1.0   \n",
       "2       1          0        6                  0     15.0       15.0   \n",
       "3       0          0        3                  0     16.0        8.0   \n",
       "4       0          0        3                  0     16.0       12.0   \n",
       "\n",
       "   total_Op  total_Opnd  branchCount  defects  \n",
       "0       1.2         1.2          1.4    False  \n",
       "1       1.0         1.0          1.0     True  \n",
       "2      44.0        19.0          9.0    False  \n",
       "3      31.0        16.0          7.0    False  \n",
       "4      46.0        26.0         11.0    False  \n",
       "\n",
       "[5 rows x 23 columns]"
      ]
     },
     "execution_count": 7,
     "metadata": {},
     "output_type": "execute_result"
    }
   ],
   "source": [
    "df.head()"
   ]
  },
  {
   "cell_type": "code",
   "execution_count": 8,
   "id": "733e95eb",
   "metadata": {
    "execution": {
     "iopub.execute_input": "2021-04-04T23:25:15.907982Z",
     "iopub.status.busy": "2021-04-04T23:25:15.907392Z",
     "iopub.status.idle": "2021-04-04T23:25:15.909468Z",
     "shell.execute_reply": "2021-04-04T23:25:15.909916Z"
    },
    "papermill": {
     "duration": 0.034137,
     "end_time": "2021-04-04T23:25:15.910054",
     "exception": false,
     "start_time": "2021-04-04T23:25:15.875917",
     "status": "completed"
    },
    "tags": []
   },
   "outputs": [],
   "source": [
    "del df['id']"
   ]
  },
  {
   "cell_type": "code",
   "execution_count": 9,
   "id": "6ff6f5b0",
   "metadata": {
    "execution": {
     "iopub.execute_input": "2021-04-04T23:25:15.960231Z",
     "iopub.status.busy": "2021-04-04T23:25:15.959652Z",
     "iopub.status.idle": "2021-04-04T23:25:15.961573Z",
     "shell.execute_reply": "2021-04-04T23:25:15.962011Z"
    },
    "papermill": {
     "duration": 0.029133,
     "end_time": "2021-04-04T23:25:15.962149",
     "exception": false,
     "start_time": "2021-04-04T23:25:15.933016",
     "status": "completed"
    },
    "tags": []
   },
   "outputs": [],
   "source": [
    "if PROFILE_REPORTING:\n",
    "    ProfileReport(df).to_widgets()"
   ]
  },
  {
   "cell_type": "markdown",
   "id": "1deaf3f0",
   "metadata": {
    "papermill": {
     "duration": 0.026424,
     "end_time": "2021-04-04T23:25:16.011274",
     "exception": false,
     "start_time": "2021-04-04T23:25:15.984850",
     "status": "completed"
    },
    "tags": []
   },
   "source": [
    "# Preprocess"
   ]
  },
  {
   "cell_type": "code",
   "execution_count": 10,
   "id": "1513e563",
   "metadata": {
    "execution": {
     "iopub.execute_input": "2021-04-04T23:25:16.062210Z",
     "iopub.status.busy": "2021-04-04T23:25:16.061535Z",
     "iopub.status.idle": "2021-04-04T23:25:16.063999Z",
     "shell.execute_reply": "2021-04-04T23:25:16.063507Z"
    },
    "papermill": {
     "duration": 0.030051,
     "end_time": "2021-04-04T23:25:16.064118",
     "exception": false,
     "start_time": "2021-04-04T23:25:16.034067",
     "status": "completed"
    },
    "tags": []
   },
   "outputs": [],
   "source": [
    "working_df = df.copy()"
   ]
  },
  {
   "cell_type": "code",
   "execution_count": 11,
   "id": "3b26d675",
   "metadata": {
    "execution": {
     "iopub.execute_input": "2021-04-04T23:25:16.126293Z",
     "iopub.status.busy": "2021-04-04T23:25:16.125342Z",
     "iopub.status.idle": "2021-04-04T23:25:16.128812Z",
     "shell.execute_reply": "2021-04-04T23:25:16.127983Z"
    },
    "papermill": {
     "duration": 0.040876,
     "end_time": "2021-04-04T23:25:16.129003",
     "exception": false,
     "start_time": "2021-04-04T23:25:16.088127",
     "status": "completed"
    },
    "tags": []
   },
   "outputs": [],
   "source": [
    "working_df['defects'] = working_df['defects'].replace([False, True], [0, 1])"
   ]
  },
  {
   "cell_type": "code",
   "execution_count": 12,
   "id": "eb48604f",
   "metadata": {
    "execution": {
     "iopub.execute_input": "2021-04-04T23:25:16.179639Z",
     "iopub.status.busy": "2021-04-04T23:25:16.178988Z",
     "iopub.status.idle": "2021-04-04T23:25:16.181836Z",
     "shell.execute_reply": "2021-04-04T23:25:16.181264Z"
    },
    "papermill": {
     "duration": 0.028034,
     "end_time": "2021-04-04T23:25:16.181959",
     "exception": false,
     "start_time": "2021-04-04T23:25:16.153925",
     "status": "completed"
    },
    "tags": []
   },
   "outputs": [],
   "source": [
    "for col in dataset_config['delete_columns']:\n",
    "    del working_df[col]"
   ]
  },
  {
   "cell_type": "code",
   "execution_count": 13,
   "id": "9a17bc29",
   "metadata": {
    "execution": {
     "iopub.execute_input": "2021-04-04T23:25:16.245417Z",
     "iopub.status.busy": "2021-04-04T23:25:16.243754Z",
     "iopub.status.idle": "2021-04-04T23:25:16.254922Z",
     "shell.execute_reply": "2021-04-04T23:25:16.255502Z"
    },
    "papermill": {
     "duration": 0.048924,
     "end_time": "2021-04-04T23:25:16.255685",
     "exception": false,
     "start_time": "2021-04-04T23:25:16.206761",
     "status": "completed"
    },
    "tags": []
   },
   "outputs": [],
   "source": [
    "working_df = working_df.drop_duplicates()"
   ]
  },
  {
   "cell_type": "markdown",
   "id": "a4d52ca6",
   "metadata": {
    "papermill": {
     "duration": 0.023302,
     "end_time": "2021-04-04T23:25:16.304236",
     "exception": false,
     "start_time": "2021-04-04T23:25:16.280934",
     "status": "completed"
    },
    "tags": []
   },
   "source": [
    "# Split"
   ]
  },
  {
   "cell_type": "code",
   "execution_count": 14,
   "id": "3e9ee4b5",
   "metadata": {
    "execution": {
     "iopub.execute_input": "2021-04-04T23:25:16.364981Z",
     "iopub.status.busy": "2021-04-04T23:25:16.363549Z",
     "iopub.status.idle": "2021-04-04T23:25:16.412091Z",
     "shell.execute_reply": "2021-04-04T23:25:16.412617Z"
    },
    "papermill": {
     "duration": 0.084533,
     "end_time": "2021-04-04T23:25:16.412775",
     "exception": false,
     "start_time": "2021-04-04T23:25:16.328242",
     "status": "completed"
    },
    "tags": []
   },
   "outputs": [],
   "source": [
    "from sklearn.model_selection import train_test_split"
   ]
  },
  {
   "cell_type": "code",
   "execution_count": 15,
   "id": "274004ce",
   "metadata": {
    "execution": {
     "iopub.execute_input": "2021-04-04T23:25:16.467453Z",
     "iopub.status.busy": "2021-04-04T23:25:16.466472Z",
     "iopub.status.idle": "2021-04-04T23:25:16.471450Z",
     "shell.execute_reply": "2021-04-04T23:25:16.471927Z"
    },
    "papermill": {
     "duration": 0.036135,
     "end_time": "2021-04-04T23:25:16.472069",
     "exception": false,
     "start_time": "2021-04-04T23:25:16.435934",
     "status": "completed"
    },
    "scrolled": true,
    "tags": []
   },
   "outputs": [],
   "source": [
    "inlier, outlier = working_df[working_df['defects'] == 0], working_df[working_df['defects'] == 1]"
   ]
  },
  {
   "cell_type": "code",
   "execution_count": 16,
   "id": "753c7b03",
   "metadata": {
    "execution": {
     "iopub.execute_input": "2021-04-04T23:25:16.530346Z",
     "iopub.status.busy": "2021-04-04T23:25:16.528284Z",
     "iopub.status.idle": "2021-04-04T23:25:16.534571Z",
     "shell.execute_reply": "2021-04-04T23:25:16.533228Z"
    },
    "papermill": {
     "duration": 0.040082,
     "end_time": "2021-04-04T23:25:16.534808",
     "exception": false,
     "start_time": "2021-04-04T23:25:16.494726",
     "status": "completed"
    },
    "tags": []
   },
   "outputs": [],
   "source": [
    "X_inlier = inlier.copy()\n",
    "y_inlier = X_inlier.pop('defects')\n",
    "X_outlier = outlier.copy()\n",
    "y_outlier = X_outlier.pop('defects')"
   ]
  },
  {
   "cell_type": "code",
   "execution_count": 17,
   "id": "2ba43193",
   "metadata": {
    "execution": {
     "iopub.execute_input": "2021-04-04T23:25:16.590365Z",
     "iopub.status.busy": "2021-04-04T23:25:16.589772Z",
     "iopub.status.idle": "2021-04-04T23:25:16.591808Z",
     "shell.execute_reply": "2021-04-04T23:25:16.592591Z"
    },
    "papermill": {
     "duration": 0.032402,
     "end_time": "2021-04-04T23:25:16.592811",
     "exception": false,
     "start_time": "2021-04-04T23:25:16.560409",
     "status": "completed"
    },
    "tags": []
   },
   "outputs": [],
   "source": [
    "test_size = dataset_config['test_size']\n",
    "random_state = dataset_config['random_state']\n",
    "\n",
    "X_inlier_train, X_inlier_test, y_inlier_train, y_inlier_test = train_test_split(\n",
    "    X_inlier,\n",
    "    y_inlier,\n",
    "    test_size=test_size,\n",
    "    random_state=random_state\n",
    ")"
   ]
  },
  {
   "cell_type": "code",
   "execution_count": 18,
   "id": "0b7582ca",
   "metadata": {
    "execution": {
     "iopub.execute_input": "2021-04-04T23:25:16.659054Z",
     "iopub.status.busy": "2021-04-04T23:25:16.657924Z",
     "iopub.status.idle": "2021-04-04T23:25:16.660965Z",
     "shell.execute_reply": "2021-04-04T23:25:16.660362Z"
    },
    "papermill": {
     "duration": 0.042537,
     "end_time": "2021-04-04T23:25:16.661116",
     "exception": false,
     "start_time": "2021-04-04T23:25:16.618579",
     "status": "completed"
    },
    "tags": []
   },
   "outputs": [],
   "source": [
    "test_outlier_size = dataset_config['test_outlier_size']\n",
    "if test_outlier_size > 0.0:\n",
    "    X_outlier_train, X_outlier_test, y_outlier_train, y_outlier_test = train_test_split(\n",
    "        X_outlier,\n",
    "        y_outlier,\n",
    "        test_size=test_outlier_size,\n",
    "        random_state=random_state\n",
    "    )\n",
    "else:\n",
    "    X_outlier_train, y_outlier_train = pd.DataFrame(columns=X_outlier.columns), pd.Series(dtype='int64')\n",
    "    X_outlier_test, y_outlier_test = X_outlier.copy(), y_outlier.copy()"
   ]
  },
  {
   "cell_type": "code",
   "execution_count": 19,
   "id": "c34363db",
   "metadata": {
    "execution": {
     "iopub.execute_input": "2021-04-04T23:25:16.719766Z",
     "iopub.status.busy": "2021-04-04T23:25:16.718999Z",
     "iopub.status.idle": "2021-04-04T23:25:16.721464Z",
     "shell.execute_reply": "2021-04-04T23:25:16.720906Z"
    },
    "papermill": {
     "duration": 0.037152,
     "end_time": "2021-04-04T23:25:16.721586",
     "exception": false,
     "start_time": "2021-04-04T23:25:16.684434",
     "status": "completed"
    },
    "tags": []
   },
   "outputs": [],
   "source": [
    "X_train, y_train = pd.concat([X_inlier_train, X_outlier_train], ignore_index=True), pd.concat([y_inlier_train, y_outlier_train], ignore_index=True)\n",
    "X_test, y_test = pd.concat([X_inlier_test, X_outlier_test], ignore_index=True), pd.concat([y_inlier_test, y_outlier_test], ignore_index=True)"
   ]
  },
  {
   "cell_type": "markdown",
   "id": "7cde7309",
   "metadata": {
    "papermill": {
     "duration": 0.027192,
     "end_time": "2021-04-04T23:25:16.773674",
     "exception": false,
     "start_time": "2021-04-04T23:25:16.746482",
     "status": "completed"
    },
    "tags": []
   },
   "source": [
    "# Model"
   ]
  },
  {
   "cell_type": "code",
   "execution_count": 20,
   "id": "2b12a415",
   "metadata": {
    "execution": {
     "iopub.execute_input": "2021-04-04T23:25:16.841918Z",
     "iopub.status.busy": "2021-04-04T23:25:16.839915Z",
     "iopub.status.idle": "2021-04-04T23:25:16.844909Z",
     "shell.execute_reply": "2021-04-04T23:25:16.844226Z"
    },
    "papermill": {
     "duration": 0.04696,
     "end_time": "2021-04-04T23:25:16.845089",
     "exception": false,
     "start_time": "2021-04-04T23:25:16.798129",
     "status": "completed"
    },
    "tags": []
   },
   "outputs": [],
   "source": [
    "from math import sqrt\n",
    "\n",
    "\n",
    "class KNNDataDescription:\n",
    "    def __init__(self, k=5, outlier_threshold=1.0):\n",
    "        self.k = k\n",
    "        self.outlier_threshold = outlier_threshold\n",
    "        self.X = []\n",
    "    \n",
    "    def fit(self, X):\n",
    "        self.X = [features.to_list() for index, features in X.iterrows()]\n",
    "\n",
    "    def predict(self, entries):\n",
    "        return [self.predict_entry(features.to_list()) for index, features in entries.iterrows()]\n",
    "    \n",
    "    def predict_entry(self, entry):\n",
    "        kth_neighbor, kth_distance = self.get_kth_neighbor(entry, self.k)\n",
    "        kth_kth_neighbor, kth_kth_distance = self.get_kth_neighbor(kth_neighbor, self.k + 1)\n",
    "\n",
    "        outlier_score = kth_distance / (kth_kth_distance + 0.000001)\n",
    "\n",
    "        return 1 if outlier_score < self.outlier_threshold else -1\n",
    "        \n",
    "    def euclidean_distance(self, features1, features2):\n",
    "        distance = 0.0\n",
    "        for feat1, feat2 in zip(features1, features2):\n",
    "            distance += (feat1 - feat2)**2\n",
    "                \n",
    "        return sqrt(distance)\n",
    "\n",
    "    def get_neighbors(self, entry, k):\n",
    "        distance_to_data_points = [\n",
    "            (data_point, self.euclidean_distance(entry, data_point))\n",
    "            for data_point in self.X\n",
    "        ]\n",
    "        sorted_by_distance = sorted(distance_to_data_points, key=lambda tup: tup[1])\n",
    "        neighbors = sorted_by_distance[:k]\n",
    "        return neighbors\n",
    "\n",
    "    def get_kth_neighbor(self, entry, k):\n",
    "        neighbors = self.get_neighbors(entry, k)\n",
    "        return neighbors[-1]\n"
   ]
  },
  {
   "cell_type": "code",
   "execution_count": 21,
   "id": "1fa9ec1c",
   "metadata": {
    "execution": {
     "iopub.execute_input": "2021-04-04T23:25:16.905489Z",
     "iopub.status.busy": "2021-04-04T23:25:16.903038Z",
     "iopub.status.idle": "2021-04-04T23:25:16.935634Z",
     "shell.execute_reply": "2021-04-04T23:25:16.934960Z"
    },
    "papermill": {
     "duration": 0.067198,
     "end_time": "2021-04-04T23:25:16.935833",
     "exception": false,
     "start_time": "2021-04-04T23:25:16.868635",
     "status": "completed"
    },
    "tags": []
   },
   "outputs": [],
   "source": [
    "from sklearn.svm import OneClassSVM\n",
    "\n",
    "\n",
    "models = {\n",
    "    'oneclasssvm': OneClassSVM,\n",
    "    'knndatadescription': KNNDataDescription,\n",
    "}"
   ]
  },
  {
   "cell_type": "code",
   "execution_count": 22,
   "id": "4d72a0b1",
   "metadata": {
    "execution": {
     "iopub.execute_input": "2021-04-04T23:25:16.989789Z",
     "iopub.status.busy": "2021-04-04T23:25:16.989109Z",
     "iopub.status.idle": "2021-04-04T23:25:16.990923Z",
     "shell.execute_reply": "2021-04-04T23:25:16.991386Z"
    },
    "papermill": {
     "duration": 0.031624,
     "end_time": "2021-04-04T23:25:16.991531",
     "exception": false,
     "start_time": "2021-04-04T23:25:16.959907",
     "status": "completed"
    },
    "scrolled": true,
    "tags": []
   },
   "outputs": [],
   "source": [
    "model_cls = models[model_config['model_type']]\n",
    "model = model_cls(**model_config['hyperparameters'])"
   ]
  },
  {
   "cell_type": "markdown",
   "id": "e00cff3b",
   "metadata": {
    "papermill": {
     "duration": 0.027367,
     "end_time": "2021-04-04T23:25:17.045067",
     "exception": false,
     "start_time": "2021-04-04T23:25:17.017700",
     "status": "completed"
    },
    "tags": []
   },
   "source": [
    "# Fit"
   ]
  },
  {
   "cell_type": "code",
   "execution_count": 23,
   "id": "8b2ded89",
   "metadata": {
    "execution": {
     "iopub.execute_input": "2021-04-04T23:25:17.099757Z",
     "iopub.status.busy": "2021-04-04T23:25:17.099152Z",
     "iopub.status.idle": "2021-04-04T23:25:17.125711Z",
     "shell.execute_reply": "2021-04-04T23:25:17.126295Z"
    },
    "papermill": {
     "duration": 0.054961,
     "end_time": "2021-04-04T23:25:17.126465",
     "exception": false,
     "start_time": "2021-04-04T23:25:17.071504",
     "status": "completed"
    },
    "tags": []
   },
   "outputs": [],
   "source": [
    "model.fit(X_train)"
   ]
  },
  {
   "cell_type": "markdown",
   "id": "f99999f7",
   "metadata": {
    "papermill": {
     "duration": 0.026164,
     "end_time": "2021-04-04T23:25:17.177180",
     "exception": false,
     "start_time": "2021-04-04T23:25:17.151016",
     "status": "completed"
    },
    "tags": []
   },
   "source": [
    "# Predict"
   ]
  },
  {
   "cell_type": "code",
   "execution_count": 24,
   "id": "6536fbf7",
   "metadata": {
    "execution": {
     "iopub.execute_input": "2021-04-04T23:25:17.233647Z",
     "iopub.status.busy": "2021-04-04T23:25:17.233043Z",
     "iopub.status.idle": "2021-04-04T23:25:17.651507Z",
     "shell.execute_reply": "2021-04-04T23:25:17.650209Z"
    },
    "papermill": {
     "duration": 0.451006,
     "end_time": "2021-04-04T23:25:17.651774",
     "exception": false,
     "start_time": "2021-04-04T23:25:17.200768",
     "status": "completed"
    },
    "tags": []
   },
   "outputs": [],
   "source": [
    "predictions = model.predict(X_test)"
   ]
  },
  {
   "cell_type": "markdown",
   "id": "aa1c9881",
   "metadata": {
    "papermill": {
     "duration": 0.030621,
     "end_time": "2021-04-04T23:25:17.725294",
     "exception": false,
     "start_time": "2021-04-04T23:25:17.694673",
     "status": "completed"
    },
    "tags": []
   },
   "source": [
    "# Evaluate"
   ]
  },
  {
   "cell_type": "code",
   "execution_count": 25,
   "id": "894f0f04",
   "metadata": {
    "execution": {
     "iopub.execute_input": "2021-04-04T23:25:17.794617Z",
     "iopub.status.busy": "2021-04-04T23:25:17.792139Z",
     "iopub.status.idle": "2021-04-04T23:25:17.796342Z",
     "shell.execute_reply": "2021-04-04T23:25:17.797409Z"
    },
    "papermill": {
     "duration": 0.038605,
     "end_time": "2021-04-04T23:25:17.797653",
     "exception": false,
     "start_time": "2021-04-04T23:25:17.759048",
     "status": "completed"
    },
    "tags": []
   },
   "outputs": [],
   "source": [
    "from sklearn.metrics import f1_score"
   ]
  },
  {
   "cell_type": "code",
   "execution_count": 26,
   "id": "211744d3",
   "metadata": {
    "execution": {
     "iopub.execute_input": "2021-04-04T23:25:17.920920Z",
     "iopub.status.busy": "2021-04-04T23:25:17.919556Z",
     "iopub.status.idle": "2021-04-04T23:25:17.923849Z",
     "shell.execute_reply": "2021-04-04T23:25:17.925043Z"
    },
    "papermill": {
     "duration": 0.072527,
     "end_time": "2021-04-04T23:25:17.925347",
     "exception": false,
     "start_time": "2021-04-04T23:25:17.852820",
     "status": "completed"
    },
    "tags": []
   },
   "outputs": [],
   "source": [
    "y_test = y_test.replace([0, 1], [1, -1])"
   ]
  },
  {
   "cell_type": "code",
   "execution_count": 27,
   "id": "d68a9204",
   "metadata": {
    "execution": {
     "iopub.execute_input": "2021-04-04T23:25:18.020507Z",
     "iopub.status.busy": "2021-04-04T23:25:18.017425Z",
     "iopub.status.idle": "2021-04-04T23:25:18.024380Z",
     "shell.execute_reply": "2021-04-04T23:25:18.025028Z"
    },
    "papermill": {
     "duration": 0.055883,
     "end_time": "2021-04-04T23:25:18.025216",
     "exception": false,
     "start_time": "2021-04-04T23:25:17.969333",
     "status": "completed"
    },
    "tags": []
   },
   "outputs": [],
   "source": [
    "def evaluate(truths, predictions, pos_label, neg_label):\n",
    "    TP = 0\n",
    "    FP = 0\n",
    "    TN = 0\n",
    "    FN = 0\n",
    "\n",
    "    for truth, pred in zip(truths, predictions): \n",
    "        if truth == pred == pos_label:\n",
    "           TP += 1\n",
    "        elif pred == pos_label and truth == neg_label:\n",
    "           FP += 1\n",
    "        elif truth == pred == neg_label:\n",
    "           TN += 1\n",
    "        elif pred == neg_label and truth == pos_label:\n",
    "           FN += 1\n",
    "\n",
    "    precision = TP / (TP + FP)\n",
    "    sensitivity = TP / (TP + FN)\n",
    "    \n",
    "    return {\n",
    "        'true_pos': TP,\n",
    "        'false_pos': FP,\n",
    "        'false_neg': FN,\n",
    "        'true_neg': TN,\n",
    "        'precision': precision,\n",
    "        'sensitivity': sensitivity,\n",
    "        'f1': (2 * (precision * sensitivity)) / (precision + sensitivity)\n",
    "    }\n",
    "\n",
    "score = evaluate(y_test, predictions, pos_label=-1, neg_label=1)"
   ]
  },
  {
   "cell_type": "markdown",
   "id": "93596516",
   "metadata": {
    "papermill": {
     "duration": 0.046083,
     "end_time": "2021-04-04T23:25:18.104032",
     "exception": false,
     "start_time": "2021-04-04T23:25:18.057949",
     "status": "completed"
    },
    "tags": []
   },
   "source": [
    "# Report"
   ]
  },
  {
   "cell_type": "code",
   "execution_count": 28,
   "id": "bea5fba1",
   "metadata": {
    "execution": {
     "iopub.execute_input": "2021-04-04T23:25:18.181224Z",
     "iopub.status.busy": "2021-04-04T23:25:18.179121Z",
     "iopub.status.idle": "2021-04-04T23:25:18.185430Z",
     "shell.execute_reply": "2021-04-04T23:25:18.184635Z"
    },
    "papermill": {
     "duration": 0.049421,
     "end_time": "2021-04-04T23:25:18.185622",
     "exception": false,
     "start_time": "2021-04-04T23:25:18.136201",
     "status": "completed"
    },
    "tags": []
   },
   "outputs": [],
   "source": [
    "import csv\n",
    "\n",
    "\n",
    "dataset_config_name = DATASET_CONFIG_PATH.split('/')[-1].split('.')[0]\n",
    "model_config_name = MODEL_CONFIG_PATH.split('/')[-1].split('.')[0]\n",
    "configuration = f\"dataset_{dataset_config_name}-model_{model_config_name}\"\n",
    "\n",
    "with open('results.csv', 'a') as f:\n",
    "    report = dict({'configuration': configuration}, **score)\n",
    "    writer = csv.DictWriter(f, report.keys())\n",
    "    writer.writerow(report)"
   ]
  }
 ],
 "metadata": {
  "celltoolbar": "Tags",
  "kernelspec": {
   "display_name": "Python 3",
   "language": "python",
   "name": "python3"
  },
  "language_info": {
   "codemirror_mode": {
    "name": "ipython",
    "version": 3
   },
   "file_extension": ".py",
   "mimetype": "text/x-python",
   "name": "python",
   "nbconvert_exporter": "python",
   "pygments_lexer": "ipython3",
   "version": "3.9.1"
  },
  "papermill": {
   "default_parameters": {},
   "duration": 7.068813,
   "end_time": "2021-04-04T23:25:20.104123",
   "environment_variables": {},
   "exception": null,
   "input_path": "main.ipynb",
   "output_path": "runs/dataset_000131-model_000001.ipynb",
   "parameters": {
    "DATASET_CONFIG_PATH": "config/dataset/000131.json",
    "MODEL_CONFIG_PATH": "config/model/000001.json",
    "PROFILE_REPORTING": false
   },
   "start_time": "2021-04-04T23:25:13.035310",
   "version": "2.3.3"
  }
 },
 "nbformat": 4,
 "nbformat_minor": 5
}