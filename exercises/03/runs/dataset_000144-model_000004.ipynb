{
 "cells": [
  {
   "cell_type": "markdown",
   "id": "51c71c25",
   "metadata": {
    "papermill": {
     "duration": 0.021254,
     "end_time": "2021-04-04T23:31:22.426191",
     "exception": false,
     "start_time": "2021-04-04T23:31:22.404937",
     "status": "completed"
    },
    "tags": []
   },
   "source": [
    "# Parametrizing"
   ]
  },
  {
   "cell_type": "code",
   "execution_count": 1,
   "id": "3b136394",
   "metadata": {
    "execution": {
     "iopub.execute_input": "2021-04-04T23:31:22.487069Z",
     "iopub.status.busy": "2021-04-04T23:31:22.485840Z",
     "iopub.status.idle": "2021-04-04T23:31:22.488232Z",
     "shell.execute_reply": "2021-04-04T23:31:22.489088Z"
    },
    "papermill": {
     "duration": 0.043276,
     "end_time": "2021-04-04T23:31:22.489533",
     "exception": false,
     "start_time": "2021-04-04T23:31:22.446257",
     "status": "completed"
    },
    "tags": [
     "parameters"
    ]
   },
   "outputs": [],
   "source": [
    "DATASET_CONFIG_PATH = 'config/dataset/kc1_001.json'\n",
    "MODEL_CONFIG_PATH = 'config/model/knndd_001.json'\n",
    "PROFILE_REPORTING = False"
   ]
  },
  {
   "cell_type": "code",
   "execution_count": 2,
   "id": "099d4c75",
   "metadata": {
    "execution": {
     "iopub.execute_input": "2021-04-04T23:31:22.537466Z",
     "iopub.status.busy": "2021-04-04T23:31:22.535179Z",
     "iopub.status.idle": "2021-04-04T23:31:22.539487Z",
     "shell.execute_reply": "2021-04-04T23:31:22.538771Z"
    },
    "papermill": {
     "duration": 0.02885,
     "end_time": "2021-04-04T23:31:22.539629",
     "exception": false,
     "start_time": "2021-04-04T23:31:22.510779",
     "status": "completed"
    },
    "tags": [
     "injected-parameters"
    ]
   },
   "outputs": [],
   "source": [
    "# Parameters\n",
    "DATASET_CONFIG_PATH = \"config/dataset/000144.json\"\n",
    "MODEL_CONFIG_PATH = \"config/model/000004.json\"\n",
    "PROFILE_REPORTING = False\n"
   ]
  },
  {
   "cell_type": "code",
   "execution_count": 3,
   "id": "b80f2a10",
   "metadata": {
    "execution": {
     "iopub.execute_input": "2021-04-04T23:31:22.595125Z",
     "iopub.status.busy": "2021-04-04T23:31:22.594228Z",
     "iopub.status.idle": "2021-04-04T23:31:22.597289Z",
     "shell.execute_reply": "2021-04-04T23:31:22.597892Z"
    },
    "papermill": {
     "duration": 0.037043,
     "end_time": "2021-04-04T23:31:22.598065",
     "exception": false,
     "start_time": "2021-04-04T23:31:22.561022",
     "status": "completed"
    },
    "tags": []
   },
   "outputs": [],
   "source": [
    "import json\n",
    "\n",
    "\n",
    "with open(DATASET_CONFIG_PATH) as f:\n",
    "    dataset_config = json.load(f)\n",
    "\n",
    "with open(MODEL_CONFIG_PATH) as f:\n",
    "    model_config = json.load(f)"
   ]
  },
  {
   "cell_type": "markdown",
   "id": "9a4b0e2d",
   "metadata": {
    "papermill": {
     "duration": 0.025245,
     "end_time": "2021-04-04T23:31:22.647117",
     "exception": false,
     "start_time": "2021-04-04T23:31:22.621872",
     "status": "completed"
    },
    "tags": []
   },
   "source": [
    "# Profiling"
   ]
  },
  {
   "cell_type": "code",
   "execution_count": 4,
   "id": "a3e0289b",
   "metadata": {
    "execution": {
     "iopub.execute_input": "2021-04-04T23:31:22.712226Z",
     "iopub.status.busy": "2021-04-04T23:31:22.710976Z",
     "iopub.status.idle": "2021-04-04T23:31:24.306308Z",
     "shell.execute_reply": "2021-04-04T23:31:24.305701Z"
    },
    "papermill": {
     "duration": 1.634337,
     "end_time": "2021-04-04T23:31:24.306429",
     "exception": false,
     "start_time": "2021-04-04T23:31:22.672092",
     "status": "completed"
    },
    "tags": []
   },
   "outputs": [],
   "source": [
    "import pandas as pd\n",
    "from pandas_profiling import ProfileReport"
   ]
  },
  {
   "cell_type": "code",
   "execution_count": 5,
   "id": "ee6c0666",
   "metadata": {
    "execution": {
     "iopub.execute_input": "2021-04-04T23:31:24.379503Z",
     "iopub.status.busy": "2021-04-04T23:31:24.378871Z",
     "iopub.status.idle": "2021-04-04T23:31:24.395090Z",
     "shell.execute_reply": "2021-04-04T23:31:24.393887Z"
    },
    "papermill": {
     "duration": 0.066259,
     "end_time": "2021-04-04T23:31:24.395252",
     "exception": false,
     "start_time": "2021-04-04T23:31:24.328993",
     "status": "completed"
    },
    "tags": []
   },
   "outputs": [],
   "source": [
    "df = pd.read_csv(dataset_config['dataset_path'])"
   ]
  },
  {
   "cell_type": "code",
   "execution_count": 6,
   "id": "7eca6c4a",
   "metadata": {
    "execution": {
     "iopub.execute_input": "2021-04-04T23:31:24.469493Z",
     "iopub.status.busy": "2021-04-04T23:31:24.454969Z",
     "iopub.status.idle": "2021-04-04T23:31:24.472670Z",
     "shell.execute_reply": "2021-04-04T23:31:24.473116Z"
    },
    "papermill": {
     "duration": 0.053707,
     "end_time": "2021-04-04T23:31:24.473259",
     "exception": false,
     "start_time": "2021-04-04T23:31:24.419552",
     "status": "completed"
    },
    "tags": []
   },
   "outputs": [
    {
     "name": "stdout",
     "output_type": "stream",
     "text": [
      "<class 'pandas.core.frame.DataFrame'>\n",
      "RangeIndex: 498 entries, 0 to 497\n",
      "Data columns (total 23 columns):\n",
      " #   Column             Non-Null Count  Dtype  \n",
      "---  ------             --------------  -----  \n",
      " 0   id                 498 non-null    int64  \n",
      " 1   loc                498 non-null    float64\n",
      " 2   v(g)               498 non-null    float64\n",
      " 3   ev(g)              498 non-null    float64\n",
      " 4   iv(g)              498 non-null    float64\n",
      " 5   n                  498 non-null    float64\n",
      " 6   v                  498 non-null    float64\n",
      " 7   l                  498 non-null    float64\n",
      " 8   d                  498 non-null    float64\n",
      " 9   i                  498 non-null    float64\n",
      " 10  e                  498 non-null    float64\n",
      " 11  b                  498 non-null    float64\n",
      " 12  t                  498 non-null    float64\n",
      " 13  lOCode             498 non-null    int64  \n",
      " 14  lOComment          498 non-null    int64  \n",
      " 15  lOBlank            498 non-null    int64  \n",
      " 16  locCodeAndComment  498 non-null    int64  \n",
      " 17  uniq_Op            498 non-null    float64\n",
      " 18  uniq_Opnd          498 non-null    float64\n",
      " 19  total_Op           498 non-null    float64\n",
      " 20  total_Opnd         498 non-null    float64\n",
      " 21  branchCount        498 non-null    float64\n",
      " 22  defects            498 non-null    bool   \n",
      "dtypes: bool(1), float64(17), int64(5)\n",
      "memory usage: 86.2 KB\n"
     ]
    }
   ],
   "source": [
    "df.info()"
   ]
  },
  {
   "cell_type": "code",
   "execution_count": 7,
   "id": "3638e5e8",
   "metadata": {
    "execution": {
     "iopub.execute_input": "2021-04-04T23:31:24.535743Z",
     "iopub.status.busy": "2021-04-04T23:31:24.534726Z",
     "iopub.status.idle": "2021-04-04T23:31:24.577242Z",
     "shell.execute_reply": "2021-04-04T23:31:24.576730Z"
    },
    "papermill": {
     "duration": 0.083563,
     "end_time": "2021-04-04T23:31:24.577362",
     "exception": false,
     "start_time": "2021-04-04T23:31:24.493799",
     "status": "completed"
    },
    "tags": []
   },
   "outputs": [
    {
     "data": {
      "text/html": [
       "<div>\n",
       "<style scoped>\n",
       "    .dataframe tbody tr th:only-of-type {\n",
       "        vertical-align: middle;\n",
       "    }\n",
       "\n",
       "    .dataframe tbody tr th {\n",
       "        vertical-align: top;\n",
       "    }\n",
       "\n",
       "    .dataframe thead th {\n",
       "        text-align: right;\n",
       "    }\n",
       "</style>\n",
       "<table border=\"1\" class=\"dataframe\">\n",
       "  <thead>\n",
       "    <tr style=\"text-align: right;\">\n",
       "      <th></th>\n",
       "      <th>id</th>\n",
       "      <th>loc</th>\n",
       "      <th>v(g)</th>\n",
       "      <th>ev(g)</th>\n",
       "      <th>iv(g)</th>\n",
       "      <th>n</th>\n",
       "      <th>v</th>\n",
       "      <th>l</th>\n",
       "      <th>d</th>\n",
       "      <th>i</th>\n",
       "      <th>...</th>\n",
       "      <th>lOCode</th>\n",
       "      <th>lOComment</th>\n",
       "      <th>lOBlank</th>\n",
       "      <th>locCodeAndComment</th>\n",
       "      <th>uniq_Op</th>\n",
       "      <th>uniq_Opnd</th>\n",
       "      <th>total_Op</th>\n",
       "      <th>total_Opnd</th>\n",
       "      <th>branchCount</th>\n",
       "      <th>defects</th>\n",
       "    </tr>\n",
       "  </thead>\n",
       "  <tbody>\n",
       "    <tr>\n",
       "      <th>0</th>\n",
       "      <td>1</td>\n",
       "      <td>1.1</td>\n",
       "      <td>1.4</td>\n",
       "      <td>1.4</td>\n",
       "      <td>1.4</td>\n",
       "      <td>1.3</td>\n",
       "      <td>1.30</td>\n",
       "      <td>1.30</td>\n",
       "      <td>1.30</td>\n",
       "      <td>1.30</td>\n",
       "      <td>...</td>\n",
       "      <td>2</td>\n",
       "      <td>2</td>\n",
       "      <td>2</td>\n",
       "      <td>2</td>\n",
       "      <td>1.2</td>\n",
       "      <td>1.2</td>\n",
       "      <td>1.2</td>\n",
       "      <td>1.2</td>\n",
       "      <td>1.4</td>\n",
       "      <td>False</td>\n",
       "    </tr>\n",
       "    <tr>\n",
       "      <th>1</th>\n",
       "      <td>2</td>\n",
       "      <td>1.0</td>\n",
       "      <td>1.0</td>\n",
       "      <td>1.0</td>\n",
       "      <td>1.0</td>\n",
       "      <td>1.0</td>\n",
       "      <td>1.00</td>\n",
       "      <td>1.00</td>\n",
       "      <td>1.00</td>\n",
       "      <td>1.00</td>\n",
       "      <td>...</td>\n",
       "      <td>1</td>\n",
       "      <td>1</td>\n",
       "      <td>1</td>\n",
       "      <td>1</td>\n",
       "      <td>1.0</td>\n",
       "      <td>1.0</td>\n",
       "      <td>1.0</td>\n",
       "      <td>1.0</td>\n",
       "      <td>1.0</td>\n",
       "      <td>True</td>\n",
       "    </tr>\n",
       "    <tr>\n",
       "      <th>2</th>\n",
       "      <td>3</td>\n",
       "      <td>24.0</td>\n",
       "      <td>5.0</td>\n",
       "      <td>1.0</td>\n",
       "      <td>3.0</td>\n",
       "      <td>63.0</td>\n",
       "      <td>309.13</td>\n",
       "      <td>0.11</td>\n",
       "      <td>9.50</td>\n",
       "      <td>32.54</td>\n",
       "      <td>...</td>\n",
       "      <td>1</td>\n",
       "      <td>0</td>\n",
       "      <td>6</td>\n",
       "      <td>0</td>\n",
       "      <td>15.0</td>\n",
       "      <td>15.0</td>\n",
       "      <td>44.0</td>\n",
       "      <td>19.0</td>\n",
       "      <td>9.0</td>\n",
       "      <td>False</td>\n",
       "    </tr>\n",
       "    <tr>\n",
       "      <th>3</th>\n",
       "      <td>4</td>\n",
       "      <td>20.0</td>\n",
       "      <td>4.0</td>\n",
       "      <td>4.0</td>\n",
       "      <td>2.0</td>\n",
       "      <td>47.0</td>\n",
       "      <td>215.49</td>\n",
       "      <td>0.06</td>\n",
       "      <td>16.00</td>\n",
       "      <td>13.47</td>\n",
       "      <td>...</td>\n",
       "      <td>0</td>\n",
       "      <td>0</td>\n",
       "      <td>3</td>\n",
       "      <td>0</td>\n",
       "      <td>16.0</td>\n",
       "      <td>8.0</td>\n",
       "      <td>31.0</td>\n",
       "      <td>16.0</td>\n",
       "      <td>7.0</td>\n",
       "      <td>False</td>\n",
       "    </tr>\n",
       "    <tr>\n",
       "      <th>4</th>\n",
       "      <td>5</td>\n",
       "      <td>24.0</td>\n",
       "      <td>6.0</td>\n",
       "      <td>6.0</td>\n",
       "      <td>2.0</td>\n",
       "      <td>72.0</td>\n",
       "      <td>346.13</td>\n",
       "      <td>0.06</td>\n",
       "      <td>17.33</td>\n",
       "      <td>19.97</td>\n",
       "      <td>...</td>\n",
       "      <td>0</td>\n",
       "      <td>0</td>\n",
       "      <td>3</td>\n",
       "      <td>0</td>\n",
       "      <td>16.0</td>\n",
       "      <td>12.0</td>\n",
       "      <td>46.0</td>\n",
       "      <td>26.0</td>\n",
       "      <td>11.0</td>\n",
       "      <td>False</td>\n",
       "    </tr>\n",
       "  </tbody>\n",
       "</table>\n",
       "<p>5 rows × 23 columns</p>\n",
       "</div>"
      ],
      "text/plain": [
       "   id   loc  v(g)  ev(g)  iv(g)     n       v     l      d      i  ...  \\\n",
       "0   1   1.1   1.4    1.4    1.4   1.3    1.30  1.30   1.30   1.30  ...   \n",
       "1   2   1.0   1.0    1.0    1.0   1.0    1.00  1.00   1.00   1.00  ...   \n",
       "2   3  24.0   5.0    1.0    3.0  63.0  309.13  0.11   9.50  32.54  ...   \n",
       "3   4  20.0   4.0    4.0    2.0  47.0  215.49  0.06  16.00  13.47  ...   \n",
       "4   5  24.0   6.0    6.0    2.0  72.0  346.13  0.06  17.33  19.97  ...   \n",
       "\n",
       "   lOCode  lOComment  lOBlank  locCodeAndComment  uniq_Op  uniq_Opnd  \\\n",
       "0       2          2        2                  2      1.2        1.2   \n",
       "1       1          1        1                  1      1.0        1.0   \n",
       "2       1          0        6                  0     15.0       15.0   \n",
       "3       0          0        3                  0     16.0        8.0   \n",
       "4       0          0        3                  0     16.0       12.0   \n",
       "\n",
       "   total_Op  total_Opnd  branchCount  defects  \n",
       "0       1.2         1.2          1.4    False  \n",
       "1       1.0         1.0          1.0     True  \n",
       "2      44.0        19.0          9.0    False  \n",
       "3      31.0        16.0          7.0    False  \n",
       "4      46.0        26.0         11.0    False  \n",
       "\n",
       "[5 rows x 23 columns]"
      ]
     },
     "execution_count": 7,
     "metadata": {},
     "output_type": "execute_result"
    }
   ],
   "source": [
    "df.head()"
   ]
  },
  {
   "cell_type": "code",
   "execution_count": 8,
   "id": "733e95eb",
   "metadata": {
    "execution": {
     "iopub.execute_input": "2021-04-04T23:31:24.636303Z",
     "iopub.status.busy": "2021-04-04T23:31:24.635444Z",
     "iopub.status.idle": "2021-04-04T23:31:24.638825Z",
     "shell.execute_reply": "2021-04-04T23:31:24.638326Z"
    },
    "papermill": {
     "duration": 0.038778,
     "end_time": "2021-04-04T23:31:24.638943",
     "exception": false,
     "start_time": "2021-04-04T23:31:24.600165",
     "status": "completed"
    },
    "tags": []
   },
   "outputs": [],
   "source": [
    "del df['id']"
   ]
  },
  {
   "cell_type": "code",
   "execution_count": 9,
   "id": "6ff6f5b0",
   "metadata": {
    "execution": {
     "iopub.execute_input": "2021-04-04T23:31:24.690030Z",
     "iopub.status.busy": "2021-04-04T23:31:24.689203Z",
     "iopub.status.idle": "2021-04-04T23:31:24.691300Z",
     "shell.execute_reply": "2021-04-04T23:31:24.691777Z"
    },
    "papermill": {
     "duration": 0.027769,
     "end_time": "2021-04-04T23:31:24.691922",
     "exception": false,
     "start_time": "2021-04-04T23:31:24.664153",
     "status": "completed"
    },
    "tags": []
   },
   "outputs": [],
   "source": [
    "if PROFILE_REPORTING:\n",
    "    ProfileReport(df).to_widgets()"
   ]
  },
  {
   "cell_type": "markdown",
   "id": "1deaf3f0",
   "metadata": {
    "papermill": {
     "duration": 0.031991,
     "end_time": "2021-04-04T23:31:24.747595",
     "exception": false,
     "start_time": "2021-04-04T23:31:24.715604",
     "status": "completed"
    },
    "tags": []
   },
   "source": [
    "# Preprocess"
   ]
  },
  {
   "cell_type": "code",
   "execution_count": 10,
   "id": "1513e563",
   "metadata": {
    "execution": {
     "iopub.execute_input": "2021-04-04T23:31:24.822590Z",
     "iopub.status.busy": "2021-04-04T23:31:24.821705Z",
     "iopub.status.idle": "2021-04-04T23:31:24.828004Z",
     "shell.execute_reply": "2021-04-04T23:31:24.827361Z"
    },
    "papermill": {
     "duration": 0.044164,
     "end_time": "2021-04-04T23:31:24.828139",
     "exception": false,
     "start_time": "2021-04-04T23:31:24.783975",
     "status": "completed"
    },
    "tags": []
   },
   "outputs": [],
   "source": [
    "working_df = df.copy()"
   ]
  },
  {
   "cell_type": "code",
   "execution_count": 11,
   "id": "3b26d675",
   "metadata": {
    "execution": {
     "iopub.execute_input": "2021-04-04T23:31:24.887906Z",
     "iopub.status.busy": "2021-04-04T23:31:24.887307Z",
     "iopub.status.idle": "2021-04-04T23:31:24.889786Z",
     "shell.execute_reply": "2021-04-04T23:31:24.889277Z"
    },
    "papermill": {
     "duration": 0.039091,
     "end_time": "2021-04-04T23:31:24.889907",
     "exception": false,
     "start_time": "2021-04-04T23:31:24.850816",
     "status": "completed"
    },
    "tags": []
   },
   "outputs": [],
   "source": [
    "working_df['defects'] = working_df['defects'].replace([False, True], [0, 1])"
   ]
  },
  {
   "cell_type": "code",
   "execution_count": 12,
   "id": "eb48604f",
   "metadata": {
    "execution": {
     "iopub.execute_input": "2021-04-04T23:31:24.940361Z",
     "iopub.status.busy": "2021-04-04T23:31:24.939535Z",
     "iopub.status.idle": "2021-04-04T23:31:24.941629Z",
     "shell.execute_reply": "2021-04-04T23:31:24.942097Z"
    },
    "papermill": {
     "duration": 0.030455,
     "end_time": "2021-04-04T23:31:24.942242",
     "exception": false,
     "start_time": "2021-04-04T23:31:24.911787",
     "status": "completed"
    },
    "tags": []
   },
   "outputs": [],
   "source": [
    "for col in dataset_config['delete_columns']:\n",
    "    del working_df[col]"
   ]
  },
  {
   "cell_type": "code",
   "execution_count": 13,
   "id": "9a17bc29",
   "metadata": {
    "execution": {
     "iopub.execute_input": "2021-04-04T23:31:25.029855Z",
     "iopub.status.busy": "2021-04-04T23:31:25.026801Z",
     "iopub.status.idle": "2021-04-04T23:31:25.043270Z",
     "shell.execute_reply": "2021-04-04T23:31:25.044364Z"
    },
    "papermill": {
     "duration": 0.080239,
     "end_time": "2021-04-04T23:31:25.044883",
     "exception": false,
     "start_time": "2021-04-04T23:31:24.964644",
     "status": "completed"
    },
    "tags": []
   },
   "outputs": [],
   "source": [
    "working_df = working_df.drop_duplicates()"
   ]
  },
  {
   "cell_type": "markdown",
   "id": "a4d52ca6",
   "metadata": {
    "papermill": {
     "duration": 0.024187,
     "end_time": "2021-04-04T23:31:25.102781",
     "exception": false,
     "start_time": "2021-04-04T23:31:25.078594",
     "status": "completed"
    },
    "tags": []
   },
   "source": [
    "# Split"
   ]
  },
  {
   "cell_type": "code",
   "execution_count": 14,
   "id": "3e9ee4b5",
   "metadata": {
    "execution": {
     "iopub.execute_input": "2021-04-04T23:31:25.161240Z",
     "iopub.status.busy": "2021-04-04T23:31:25.160058Z",
     "iopub.status.idle": "2021-04-04T23:31:25.199467Z",
     "shell.execute_reply": "2021-04-04T23:31:25.199920Z"
    },
    "papermill": {
     "duration": 0.073652,
     "end_time": "2021-04-04T23:31:25.200061",
     "exception": false,
     "start_time": "2021-04-04T23:31:25.126409",
     "status": "completed"
    },
    "tags": []
   },
   "outputs": [],
   "source": [
    "from sklearn.model_selection import train_test_split"
   ]
  },
  {
   "cell_type": "code",
   "execution_count": 15,
   "id": "274004ce",
   "metadata": {
    "execution": {
     "iopub.execute_input": "2021-04-04T23:31:25.254481Z",
     "iopub.status.busy": "2021-04-04T23:31:25.253565Z",
     "iopub.status.idle": "2021-04-04T23:31:25.258787Z",
     "shell.execute_reply": "2021-04-04T23:31:25.258175Z"
    },
    "papermill": {
     "duration": 0.036764,
     "end_time": "2021-04-04T23:31:25.258910",
     "exception": false,
     "start_time": "2021-04-04T23:31:25.222146",
     "status": "completed"
    },
    "scrolled": true,
    "tags": []
   },
   "outputs": [],
   "source": [
    "inlier, outlier = working_df[working_df['defects'] == 0], working_df[working_df['defects'] == 1]"
   ]
  },
  {
   "cell_type": "code",
   "execution_count": 16,
   "id": "753c7b03",
   "metadata": {
    "execution": {
     "iopub.execute_input": "2021-04-04T23:31:25.317760Z",
     "iopub.status.busy": "2021-04-04T23:31:25.316708Z",
     "iopub.status.idle": "2021-04-04T23:31:25.319827Z",
     "shell.execute_reply": "2021-04-04T23:31:25.320305Z"
    },
    "papermill": {
     "duration": 0.037129,
     "end_time": "2021-04-04T23:31:25.320454",
     "exception": false,
     "start_time": "2021-04-04T23:31:25.283325",
     "status": "completed"
    },
    "tags": []
   },
   "outputs": [],
   "source": [
    "X_inlier = inlier.copy()\n",
    "y_inlier = X_inlier.pop('defects')\n",
    "X_outlier = outlier.copy()\n",
    "y_outlier = X_outlier.pop('defects')"
   ]
  },
  {
   "cell_type": "code",
   "execution_count": 17,
   "id": "2ba43193",
   "metadata": {
    "execution": {
     "iopub.execute_input": "2021-04-04T23:31:25.417126Z",
     "iopub.status.busy": "2021-04-04T23:31:25.416360Z",
     "iopub.status.idle": "2021-04-04T23:31:25.418159Z",
     "shell.execute_reply": "2021-04-04T23:31:25.418637Z"
    },
    "papermill": {
     "duration": 0.056822,
     "end_time": "2021-04-04T23:31:25.418783",
     "exception": false,
     "start_time": "2021-04-04T23:31:25.361961",
     "status": "completed"
    },
    "tags": []
   },
   "outputs": [],
   "source": [
    "test_size = dataset_config['test_size']\n",
    "random_state = dataset_config['random_state']\n",
    "\n",
    "X_inlier_train, X_inlier_test, y_inlier_train, y_inlier_test = train_test_split(\n",
    "    X_inlier,\n",
    "    y_inlier,\n",
    "    test_size=test_size,\n",
    "    random_state=random_state\n",
    ")"
   ]
  },
  {
   "cell_type": "code",
   "execution_count": 18,
   "id": "0b7582ca",
   "metadata": {
    "execution": {
     "iopub.execute_input": "2021-04-04T23:31:25.482278Z",
     "iopub.status.busy": "2021-04-04T23:31:25.481304Z",
     "iopub.status.idle": "2021-04-04T23:31:25.484877Z",
     "shell.execute_reply": "2021-04-04T23:31:25.483935Z"
    },
    "papermill": {
     "duration": 0.041098,
     "end_time": "2021-04-04T23:31:25.485088",
     "exception": false,
     "start_time": "2021-04-04T23:31:25.443990",
     "status": "completed"
    },
    "tags": []
   },
   "outputs": [],
   "source": [
    "test_outlier_size = dataset_config['test_outlier_size']\n",
    "if test_outlier_size > 0.0:\n",
    "    X_outlier_train, X_outlier_test, y_outlier_train, y_outlier_test = train_test_split(\n",
    "        X_outlier,\n",
    "        y_outlier,\n",
    "        test_size=test_outlier_size,\n",
    "        random_state=random_state\n",
    "    )\n",
    "else:\n",
    "    X_outlier_train, y_outlier_train = pd.DataFrame(columns=X_outlier.columns), pd.Series(dtype='int64')\n",
    "    X_outlier_test, y_outlier_test = X_outlier.copy(), y_outlier.copy()"
   ]
  },
  {
   "cell_type": "code",
   "execution_count": 19,
   "id": "c34363db",
   "metadata": {
    "execution": {
     "iopub.execute_input": "2021-04-04T23:31:25.543915Z",
     "iopub.status.busy": "2021-04-04T23:31:25.540834Z",
     "iopub.status.idle": "2021-04-04T23:31:25.546446Z",
     "shell.execute_reply": "2021-04-04T23:31:25.545929Z"
    },
    "papermill": {
     "duration": 0.035818,
     "end_time": "2021-04-04T23:31:25.546567",
     "exception": false,
     "start_time": "2021-04-04T23:31:25.510749",
     "status": "completed"
    },
    "tags": []
   },
   "outputs": [],
   "source": [
    "X_train, y_train = pd.concat([X_inlier_train, X_outlier_train], ignore_index=True), pd.concat([y_inlier_train, y_outlier_train], ignore_index=True)\n",
    "X_test, y_test = pd.concat([X_inlier_test, X_outlier_test], ignore_index=True), pd.concat([y_inlier_test, y_outlier_test], ignore_index=True)"
   ]
  },
  {
   "cell_type": "markdown",
   "id": "7cde7309",
   "metadata": {
    "papermill": {
     "duration": 0.027294,
     "end_time": "2021-04-04T23:31:25.598844",
     "exception": false,
     "start_time": "2021-04-04T23:31:25.571550",
     "status": "completed"
    },
    "tags": []
   },
   "source": [
    "# Model"
   ]
  },
  {
   "cell_type": "code",
   "execution_count": 20,
   "id": "2b12a415",
   "metadata": {
    "execution": {
     "iopub.execute_input": "2021-04-04T23:31:25.659923Z",
     "iopub.status.busy": "2021-04-04T23:31:25.659010Z",
     "iopub.status.idle": "2021-04-04T23:31:25.663495Z",
     "shell.execute_reply": "2021-04-04T23:31:25.662114Z"
    },
    "papermill": {
     "duration": 0.039676,
     "end_time": "2021-04-04T23:31:25.663778",
     "exception": false,
     "start_time": "2021-04-04T23:31:25.624102",
     "status": "completed"
    },
    "tags": []
   },
   "outputs": [],
   "source": [
    "from math import sqrt\n",
    "\n",
    "\n",
    "class KNNDataDescription:\n",
    "    def __init__(self, k=5, outlier_threshold=1.0):\n",
    "        self.k = k\n",
    "        self.outlier_threshold = outlier_threshold\n",
    "        self.X = []\n",
    "    \n",
    "    def fit(self, X):\n",
    "        self.X = [features.to_list() for index, features in X.iterrows()]\n",
    "\n",
    "    def predict(self, entries):\n",
    "        return [self.predict_entry(features.to_list()) for index, features in entries.iterrows()]\n",
    "    \n",
    "    def predict_entry(self, entry):\n",
    "        kth_neighbor, kth_distance = self.get_kth_neighbor(entry, self.k)\n",
    "        kth_kth_neighbor, kth_kth_distance = self.get_kth_neighbor(kth_neighbor, self.k + 1)\n",
    "\n",
    "        outlier_score = kth_distance / (kth_kth_distance + 0.000001)\n",
    "\n",
    "        return 1 if outlier_score < self.outlier_threshold else -1\n",
    "        \n",
    "    def euclidean_distance(self, features1, features2):\n",
    "        distance = 0.0\n",
    "        for feat1, feat2 in zip(features1, features2):\n",
    "            distance += (feat1 - feat2)**2\n",
    "                \n",
    "        return sqrt(distance)\n",
    "\n",
    "    def get_neighbors(self, entry, k):\n",
    "        distance_to_data_points = [\n",
    "            (data_point, self.euclidean_distance(entry, data_point))\n",
    "            for data_point in self.X\n",
    "        ]\n",
    "        sorted_by_distance = sorted(distance_to_data_points, key=lambda tup: tup[1])\n",
    "        neighbors = sorted_by_distance[:k]\n",
    "        return neighbors\n",
    "\n",
    "    def get_kth_neighbor(self, entry, k):\n",
    "        neighbors = self.get_neighbors(entry, k)\n",
    "        return neighbors[-1]\n"
   ]
  },
  {
   "cell_type": "code",
   "execution_count": 21,
   "id": "1fa9ec1c",
   "metadata": {
    "execution": {
     "iopub.execute_input": "2021-04-04T23:31:25.722806Z",
     "iopub.status.busy": "2021-04-04T23:31:25.721817Z",
     "iopub.status.idle": "2021-04-04T23:31:25.742881Z",
     "shell.execute_reply": "2021-04-04T23:31:25.741033Z"
    },
    "papermill": {
     "duration": 0.054728,
     "end_time": "2021-04-04T23:31:25.743138",
     "exception": false,
     "start_time": "2021-04-04T23:31:25.688410",
     "status": "completed"
    },
    "tags": []
   },
   "outputs": [],
   "source": [
    "from sklearn.svm import OneClassSVM\n",
    "\n",
    "\n",
    "models = {\n",
    "    'oneclasssvm': OneClassSVM,\n",
    "    'knndatadescription': KNNDataDescription,\n",
    "}"
   ]
  },
  {
   "cell_type": "code",
   "execution_count": 22,
   "id": "4d72a0b1",
   "metadata": {
    "execution": {
     "iopub.execute_input": "2021-04-04T23:31:25.822304Z",
     "iopub.status.busy": "2021-04-04T23:31:25.821601Z",
     "iopub.status.idle": "2021-04-04T23:31:25.823349Z",
     "shell.execute_reply": "2021-04-04T23:31:25.823816Z"
    },
    "papermill": {
     "duration": 0.046246,
     "end_time": "2021-04-04T23:31:25.823960",
     "exception": false,
     "start_time": "2021-04-04T23:31:25.777714",
     "status": "completed"
    },
    "scrolled": true,
    "tags": []
   },
   "outputs": [],
   "source": [
    "model_cls = models[model_config['model_type']]\n",
    "model = model_cls(**model_config['hyperparameters'])"
   ]
  },
  {
   "cell_type": "markdown",
   "id": "e00cff3b",
   "metadata": {
    "papermill": {
     "duration": 0.028881,
     "end_time": "2021-04-04T23:31:25.878673",
     "exception": false,
     "start_time": "2021-04-04T23:31:25.849792",
     "status": "completed"
    },
    "tags": []
   },
   "source": [
    "# Fit"
   ]
  },
  {
   "cell_type": "code",
   "execution_count": 23,
   "id": "8b2ded89",
   "metadata": {
    "execution": {
     "iopub.execute_input": "2021-04-04T23:31:25.936551Z",
     "iopub.status.busy": "2021-04-04T23:31:25.935956Z",
     "iopub.status.idle": "2021-04-04T23:31:25.948939Z",
     "shell.execute_reply": "2021-04-04T23:31:25.951772Z"
    },
    "papermill": {
     "duration": 0.046662,
     "end_time": "2021-04-04T23:31:25.952645",
     "exception": false,
     "start_time": "2021-04-04T23:31:25.905983",
     "status": "completed"
    },
    "tags": []
   },
   "outputs": [
    {
     "data": {
      "text/plain": [
       "OneClassSVM()"
      ]
     },
     "execution_count": 23,
     "metadata": {},
     "output_type": "execute_result"
    }
   ],
   "source": [
    "model.fit(X_train)"
   ]
  },
  {
   "cell_type": "markdown",
   "id": "f99999f7",
   "metadata": {
    "papermill": {
     "duration": 0.032449,
     "end_time": "2021-04-04T23:31:26.021554",
     "exception": false,
     "start_time": "2021-04-04T23:31:25.989105",
     "status": "completed"
    },
    "tags": []
   },
   "source": [
    "# Predict"
   ]
  },
  {
   "cell_type": "code",
   "execution_count": 24,
   "id": "6536fbf7",
   "metadata": {
    "execution": {
     "iopub.execute_input": "2021-04-04T23:31:26.121017Z",
     "iopub.status.busy": "2021-04-04T23:31:26.119027Z",
     "iopub.status.idle": "2021-04-04T23:31:26.125354Z",
     "shell.execute_reply": "2021-04-04T23:31:26.124859Z"
    },
    "papermill": {
     "duration": 0.068219,
     "end_time": "2021-04-04T23:31:26.125490",
     "exception": false,
     "start_time": "2021-04-04T23:31:26.057271",
     "status": "completed"
    },
    "tags": []
   },
   "outputs": [],
   "source": [
    "predictions = model.predict(X_test)"
   ]
  },
  {
   "cell_type": "markdown",
   "id": "aa1c9881",
   "metadata": {
    "papermill": {
     "duration": 0.030201,
     "end_time": "2021-04-04T23:31:26.180793",
     "exception": false,
     "start_time": "2021-04-04T23:31:26.150592",
     "status": "completed"
    },
    "tags": []
   },
   "source": [
    "# Evaluate"
   ]
  },
  {
   "cell_type": "code",
   "execution_count": 25,
   "id": "894f0f04",
   "metadata": {
    "execution": {
     "iopub.execute_input": "2021-04-04T23:31:26.235904Z",
     "iopub.status.busy": "2021-04-04T23:31:26.235055Z",
     "iopub.status.idle": "2021-04-04T23:31:26.237679Z",
     "shell.execute_reply": "2021-04-04T23:31:26.237115Z"
    },
    "papermill": {
     "duration": 0.032759,
     "end_time": "2021-04-04T23:31:26.237796",
     "exception": false,
     "start_time": "2021-04-04T23:31:26.205037",
     "status": "completed"
    },
    "tags": []
   },
   "outputs": [],
   "source": [
    "from sklearn.metrics import f1_score"
   ]
  },
  {
   "cell_type": "code",
   "execution_count": 26,
   "id": "211744d3",
   "metadata": {
    "execution": {
     "iopub.execute_input": "2021-04-04T23:31:26.297665Z",
     "iopub.status.busy": "2021-04-04T23:31:26.296586Z",
     "iopub.status.idle": "2021-04-04T23:31:26.301154Z",
     "shell.execute_reply": "2021-04-04T23:31:26.299689Z"
    },
    "papermill": {
     "duration": 0.038574,
     "end_time": "2021-04-04T23:31:26.301393",
     "exception": false,
     "start_time": "2021-04-04T23:31:26.262819",
     "status": "completed"
    },
    "tags": []
   },
   "outputs": [],
   "source": [
    "y_test = y_test.replace([0, 1], [1, -1])"
   ]
  },
  {
   "cell_type": "code",
   "execution_count": 27,
   "id": "d68a9204",
   "metadata": {
    "execution": {
     "iopub.execute_input": "2021-04-04T23:31:26.372555Z",
     "iopub.status.busy": "2021-04-04T23:31:26.370869Z",
     "iopub.status.idle": "2021-04-04T23:31:26.374556Z",
     "shell.execute_reply": "2021-04-04T23:31:26.373881Z"
    },
    "papermill": {
     "duration": 0.04672,
     "end_time": "2021-04-04T23:31:26.374703",
     "exception": false,
     "start_time": "2021-04-04T23:31:26.327983",
     "status": "completed"
    },
    "tags": []
   },
   "outputs": [],
   "source": [
    "def evaluate(truths, predictions, pos_label, neg_label):\n",
    "    TP = 0\n",
    "    FP = 0\n",
    "    TN = 0\n",
    "    FN = 0\n",
    "\n",
    "    for truth, pred in zip(truths, predictions): \n",
    "        if truth == pred == pos_label:\n",
    "           TP += 1\n",
    "        elif pred == pos_label and truth == neg_label:\n",
    "           FP += 1\n",
    "        elif truth == pred == neg_label:\n",
    "           TN += 1\n",
    "        elif pred == neg_label and truth == pos_label:\n",
    "           FN += 1\n",
    "\n",
    "    precision = TP / (TP + FP)\n",
    "    sensitivity = TP / (TP + FN)\n",
    "    \n",
    "    return {\n",
    "        'true_pos': TP,\n",
    "        'false_pos': FP,\n",
    "        'false_neg': FN,\n",
    "        'true_neg': TN,\n",
    "        'precision': precision,\n",
    "        'sensitivity': sensitivity,\n",
    "        'f1': (2 * (precision * sensitivity)) / (precision + sensitivity)\n",
    "    }\n",
    "\n",
    "score = evaluate(y_test, predictions, pos_label=-1, neg_label=1)"
   ]
  },
  {
   "cell_type": "markdown",
   "id": "93596516",
   "metadata": {
    "papermill": {
     "duration": 0.034664,
     "end_time": "2021-04-04T23:31:26.449511",
     "exception": false,
     "start_time": "2021-04-04T23:31:26.414847",
     "status": "completed"
    },
    "tags": []
   },
   "source": [
    "# Report"
   ]
  },
  {
   "cell_type": "code",
   "execution_count": 28,
   "id": "bea5fba1",
   "metadata": {
    "execution": {
     "iopub.execute_input": "2021-04-04T23:31:26.516660Z",
     "iopub.status.busy": "2021-04-04T23:31:26.515915Z",
     "iopub.status.idle": "2021-04-04T23:31:26.519274Z",
     "shell.execute_reply": "2021-04-04T23:31:26.520709Z"
    },
    "papermill": {
     "duration": 0.040647,
     "end_time": "2021-04-04T23:31:26.521145",
     "exception": false,
     "start_time": "2021-04-04T23:31:26.480498",
     "status": "completed"
    },
    "tags": []
   },
   "outputs": [],
   "source": [
    "import csv\n",
    "\n",
    "\n",
    "dataset_config_name = DATASET_CONFIG_PATH.split('/')[-1].split('.')[0]\n",
    "model_config_name = MODEL_CONFIG_PATH.split('/')[-1].split('.')[0]\n",
    "configuration = f\"dataset_{dataset_config_name}-model_{model_config_name}\"\n",
    "\n",
    "with open('results.csv', 'a') as f:\n",
    "    report = dict({'configuration': configuration}, **score)\n",
    "    writer = csv.DictWriter(f, report.keys())\n",
    "    writer.writerow(report)"
   ]
  }
 ],
 "metadata": {
  "celltoolbar": "Tags",
  "kernelspec": {
   "display_name": "Python 3",
   "language": "python",
   "name": "python3"
  },
  "language_info": {
   "codemirror_mode": {
    "name": "ipython",
    "version": 3
   },
   "file_extension": ".py",
   "mimetype": "text/x-python",
   "name": "python",
   "nbconvert_exporter": "python",
   "pygments_lexer": "ipython3",
   "version": "3.9.1"
  },
  "papermill": {
   "default_parameters": {},
   "duration": 6.072027,
   "end_time": "2021-04-04T23:31:27.381652",
   "environment_variables": {},
   "exception": null,
   "input_path": "main.ipynb",
   "output_path": "runs/dataset_000144-model_000004.ipynb",
   "parameters": {
    "DATASET_CONFIG_PATH": "config/dataset/000144.json",
    "MODEL_CONFIG_PATH": "config/model/000004.json",
    "PROFILE_REPORTING": false
   },
   "start_time": "2021-04-04T23:31:21.309625",
   "version": "2.3.3"
  }
 },
 "nbformat": 4,
 "nbformat_minor": 5
}