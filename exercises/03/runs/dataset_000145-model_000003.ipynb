{
 "cells": [
  {
   "cell_type": "markdown",
   "id": "51c71c25",
   "metadata": {
    "papermill": {
     "duration": 0.030545,
     "end_time": "2021-04-04T23:31:41.586156",
     "exception": false,
     "start_time": "2021-04-04T23:31:41.555611",
     "status": "completed"
    },
    "tags": []
   },
   "source": [
    "# Parametrizing"
   ]
  },
  {
   "cell_type": "code",
   "execution_count": 1,
   "id": "3b136394",
   "metadata": {
    "execution": {
     "iopub.execute_input": "2021-04-04T23:31:41.650384Z",
     "iopub.status.busy": "2021-04-04T23:31:41.649600Z",
     "iopub.status.idle": "2021-04-04T23:31:41.652792Z",
     "shell.execute_reply": "2021-04-04T23:31:41.652156Z"
    },
    "papermill": {
     "duration": 0.041586,
     "end_time": "2021-04-04T23:31:41.652933",
     "exception": false,
     "start_time": "2021-04-04T23:31:41.611347",
     "status": "completed"
    },
    "tags": [
     "parameters"
    ]
   },
   "outputs": [],
   "source": [
    "DATASET_CONFIG_PATH = 'config/dataset/kc1_001.json'\n",
    "MODEL_CONFIG_PATH = 'config/model/knndd_001.json'\n",
    "PROFILE_REPORTING = False"
   ]
  },
  {
   "cell_type": "code",
   "execution_count": 2,
   "id": "ff11cf87",
   "metadata": {
    "execution": {
     "iopub.execute_input": "2021-04-04T23:31:41.705829Z",
     "iopub.status.busy": "2021-04-04T23:31:41.705085Z",
     "iopub.status.idle": "2021-04-04T23:31:41.707680Z",
     "shell.execute_reply": "2021-04-04T23:31:41.707173Z"
    },
    "papermill": {
     "duration": 0.028096,
     "end_time": "2021-04-04T23:31:41.707800",
     "exception": false,
     "start_time": "2021-04-04T23:31:41.679704",
     "status": "completed"
    },
    "tags": [
     "injected-parameters"
    ]
   },
   "outputs": [],
   "source": [
    "# Parameters\n",
    "DATASET_CONFIG_PATH = \"config/dataset/000145.json\"\n",
    "MODEL_CONFIG_PATH = \"config/model/000003.json\"\n",
    "PROFILE_REPORTING = False\n"
   ]
  },
  {
   "cell_type": "code",
   "execution_count": 3,
   "id": "b80f2a10",
   "metadata": {
    "execution": {
     "iopub.execute_input": "2021-04-04T23:31:41.775233Z",
     "iopub.status.busy": "2021-04-04T23:31:41.773225Z",
     "iopub.status.idle": "2021-04-04T23:31:41.780768Z",
     "shell.execute_reply": "2021-04-04T23:31:41.781798Z"
    },
    "papermill": {
     "duration": 0.052038,
     "end_time": "2021-04-04T23:31:41.782106",
     "exception": false,
     "start_time": "2021-04-04T23:31:41.730068",
     "status": "completed"
    },
    "tags": []
   },
   "outputs": [],
   "source": [
    "import json\n",
    "\n",
    "\n",
    "with open(DATASET_CONFIG_PATH) as f:\n",
    "    dataset_config = json.load(f)\n",
    "\n",
    "with open(MODEL_CONFIG_PATH) as f:\n",
    "    model_config = json.load(f)"
   ]
  },
  {
   "cell_type": "markdown",
   "id": "9a4b0e2d",
   "metadata": {
    "papermill": {
     "duration": 0.024524,
     "end_time": "2021-04-04T23:31:41.831479",
     "exception": false,
     "start_time": "2021-04-04T23:31:41.806955",
     "status": "completed"
    },
    "tags": []
   },
   "source": [
    "# Profiling"
   ]
  },
  {
   "cell_type": "code",
   "execution_count": 4,
   "id": "a3e0289b",
   "metadata": {
    "execution": {
     "iopub.execute_input": "2021-04-04T23:31:41.880764Z",
     "iopub.status.busy": "2021-04-04T23:31:41.879760Z",
     "iopub.status.idle": "2021-04-04T23:31:43.366736Z",
     "shell.execute_reply": "2021-04-04T23:31:43.367238Z"
    },
    "papermill": {
     "duration": 1.515635,
     "end_time": "2021-04-04T23:31:43.367386",
     "exception": false,
     "start_time": "2021-04-04T23:31:41.851751",
     "status": "completed"
    },
    "tags": []
   },
   "outputs": [],
   "source": [
    "import pandas as pd\n",
    "from pandas_profiling import ProfileReport"
   ]
  },
  {
   "cell_type": "code",
   "execution_count": 5,
   "id": "ee6c0666",
   "metadata": {
    "execution": {
     "iopub.execute_input": "2021-04-04T23:31:43.416159Z",
     "iopub.status.busy": "2021-04-04T23:31:43.415552Z",
     "iopub.status.idle": "2021-04-04T23:31:43.423609Z",
     "shell.execute_reply": "2021-04-04T23:31:43.424089Z"
    },
    "papermill": {
     "duration": 0.033117,
     "end_time": "2021-04-04T23:31:43.424237",
     "exception": false,
     "start_time": "2021-04-04T23:31:43.391120",
     "status": "completed"
    },
    "tags": []
   },
   "outputs": [],
   "source": [
    "df = pd.read_csv(dataset_config['dataset_path'])"
   ]
  },
  {
   "cell_type": "code",
   "execution_count": 6,
   "id": "7eca6c4a",
   "metadata": {
    "execution": {
     "iopub.execute_input": "2021-04-04T23:31:43.491916Z",
     "iopub.status.busy": "2021-04-04T23:31:43.491278Z",
     "iopub.status.idle": "2021-04-04T23:31:43.494321Z",
     "shell.execute_reply": "2021-04-04T23:31:43.493825Z"
    },
    "papermill": {
     "duration": 0.047389,
     "end_time": "2021-04-04T23:31:43.494447",
     "exception": false,
     "start_time": "2021-04-04T23:31:43.447058",
     "status": "completed"
    },
    "tags": []
   },
   "outputs": [
    {
     "name": "stdout",
     "output_type": "stream",
     "text": [
      "<class 'pandas.core.frame.DataFrame'>\n",
      "RangeIndex: 498 entries, 0 to 497\n",
      "Data columns (total 23 columns):\n",
      " #   Column             Non-Null Count  Dtype  \n",
      "---  ------             --------------  -----  \n",
      " 0   id                 498 non-null    int64  \n",
      " 1   loc                498 non-null    float64\n",
      " 2   v(g)               498 non-null    float64\n",
      " 3   ev(g)              498 non-null    float64\n",
      " 4   iv(g)              498 non-null    float64\n",
      " 5   n                  498 non-null    float64\n",
      " 6   v                  498 non-null    float64\n",
      " 7   l                  498 non-null    float64\n",
      " 8   d                  498 non-null    float64\n",
      " 9   i                  498 non-null    float64\n",
      " 10  e                  498 non-null    float64\n",
      " 11  b                  498 non-null    float64\n",
      " 12  t                  498 non-null    float64\n",
      " 13  lOCode             498 non-null    int64  \n",
      " 14  lOComment          498 non-null    int64  \n",
      " 15  lOBlank            498 non-null    int64  \n",
      " 16  locCodeAndComment  498 non-null    int64  \n",
      " 17  uniq_Op            498 non-null    float64\n",
      " 18  uniq_Opnd          498 non-null    float64\n",
      " 19  total_Op           498 non-null    float64\n",
      " 20  total_Opnd         498 non-null    float64\n",
      " 21  branchCount        498 non-null    float64\n",
      " 22  defects            498 non-null    bool   \n",
      "dtypes: bool(1), float64(17), int64(5)\n",
      "memory usage: 86.2 KB\n"
     ]
    }
   ],
   "source": [
    "df.info()"
   ]
  },
  {
   "cell_type": "code",
   "execution_count": 7,
   "id": "3638e5e8",
   "metadata": {
    "execution": {
     "iopub.execute_input": "2021-04-04T23:31:43.546454Z",
     "iopub.status.busy": "2021-04-04T23:31:43.545487Z",
     "iopub.status.idle": "2021-04-04T23:31:43.574857Z",
     "shell.execute_reply": "2021-04-04T23:31:43.575333Z"
    },
    "papermill": {
     "duration": 0.057971,
     "end_time": "2021-04-04T23:31:43.575480",
     "exception": false,
     "start_time": "2021-04-04T23:31:43.517509",
     "status": "completed"
    },
    "tags": []
   },
   "outputs": [
    {
     "data": {
      "text/html": [
       "<div>\n",
       "<style scoped>\n",
       "    .dataframe tbody tr th:only-of-type {\n",
       "        vertical-align: middle;\n",
       "    }\n",
       "\n",
       "    .dataframe tbody tr th {\n",
       "        vertical-align: top;\n",
       "    }\n",
       "\n",
       "    .dataframe thead th {\n",
       "        text-align: right;\n",
       "    }\n",
       "</style>\n",
       "<table border=\"1\" class=\"dataframe\">\n",
       "  <thead>\n",
       "    <tr style=\"text-align: right;\">\n",
       "      <th></th>\n",
       "      <th>id</th>\n",
       "      <th>loc</th>\n",
       "      <th>v(g)</th>\n",
       "      <th>ev(g)</th>\n",
       "      <th>iv(g)</th>\n",
       "      <th>n</th>\n",
       "      <th>v</th>\n",
       "      <th>l</th>\n",
       "      <th>d</th>\n",
       "      <th>i</th>\n",
       "      <th>...</th>\n",
       "      <th>lOCode</th>\n",
       "      <th>lOComment</th>\n",
       "      <th>lOBlank</th>\n",
       "      <th>locCodeAndComment</th>\n",
       "      <th>uniq_Op</th>\n",
       "      <th>uniq_Opnd</th>\n",
       "      <th>total_Op</th>\n",
       "      <th>total_Opnd</th>\n",
       "      <th>branchCount</th>\n",
       "      <th>defects</th>\n",
       "    </tr>\n",
       "  </thead>\n",
       "  <tbody>\n",
       "    <tr>\n",
       "      <th>0</th>\n",
       "      <td>1</td>\n",
       "      <td>1.1</td>\n",
       "      <td>1.4</td>\n",
       "      <td>1.4</td>\n",
       "      <td>1.4</td>\n",
       "      <td>1.3</td>\n",
       "      <td>1.30</td>\n",
       "      <td>1.30</td>\n",
       "      <td>1.30</td>\n",
       "      <td>1.30</td>\n",
       "      <td>...</td>\n",
       "      <td>2</td>\n",
       "      <td>2</td>\n",
       "      <td>2</td>\n",
       "      <td>2</td>\n",
       "      <td>1.2</td>\n",
       "      <td>1.2</td>\n",
       "      <td>1.2</td>\n",
       "      <td>1.2</td>\n",
       "      <td>1.4</td>\n",
       "      <td>False</td>\n",
       "    </tr>\n",
       "    <tr>\n",
       "      <th>1</th>\n",
       "      <td>2</td>\n",
       "      <td>1.0</td>\n",
       "      <td>1.0</td>\n",
       "      <td>1.0</td>\n",
       "      <td>1.0</td>\n",
       "      <td>1.0</td>\n",
       "      <td>1.00</td>\n",
       "      <td>1.00</td>\n",
       "      <td>1.00</td>\n",
       "      <td>1.00</td>\n",
       "      <td>...</td>\n",
       "      <td>1</td>\n",
       "      <td>1</td>\n",
       "      <td>1</td>\n",
       "      <td>1</td>\n",
       "      <td>1.0</td>\n",
       "      <td>1.0</td>\n",
       "      <td>1.0</td>\n",
       "      <td>1.0</td>\n",
       "      <td>1.0</td>\n",
       "      <td>True</td>\n",
       "    </tr>\n",
       "    <tr>\n",
       "      <th>2</th>\n",
       "      <td>3</td>\n",
       "      <td>24.0</td>\n",
       "      <td>5.0</td>\n",
       "      <td>1.0</td>\n",
       "      <td>3.0</td>\n",
       "      <td>63.0</td>\n",
       "      <td>309.13</td>\n",
       "      <td>0.11</td>\n",
       "      <td>9.50</td>\n",
       "      <td>32.54</td>\n",
       "      <td>...</td>\n",
       "      <td>1</td>\n",
       "      <td>0</td>\n",
       "      <td>6</td>\n",
       "      <td>0</td>\n",
       "      <td>15.0</td>\n",
       "      <td>15.0</td>\n",
       "      <td>44.0</td>\n",
       "      <td>19.0</td>\n",
       "      <td>9.0</td>\n",
       "      <td>False</td>\n",
       "    </tr>\n",
       "    <tr>\n",
       "      <th>3</th>\n",
       "      <td>4</td>\n",
       "      <td>20.0</td>\n",
       "      <td>4.0</td>\n",
       "      <td>4.0</td>\n",
       "      <td>2.0</td>\n",
       "      <td>47.0</td>\n",
       "      <td>215.49</td>\n",
       "      <td>0.06</td>\n",
       "      <td>16.00</td>\n",
       "      <td>13.47</td>\n",
       "      <td>...</td>\n",
       "      <td>0</td>\n",
       "      <td>0</td>\n",
       "      <td>3</td>\n",
       "      <td>0</td>\n",
       "      <td>16.0</td>\n",
       "      <td>8.0</td>\n",
       "      <td>31.0</td>\n",
       "      <td>16.0</td>\n",
       "      <td>7.0</td>\n",
       "      <td>False</td>\n",
       "    </tr>\n",
       "    <tr>\n",
       "      <th>4</th>\n",
       "      <td>5</td>\n",
       "      <td>24.0</td>\n",
       "      <td>6.0</td>\n",
       "      <td>6.0</td>\n",
       "      <td>2.0</td>\n",
       "      <td>72.0</td>\n",
       "      <td>346.13</td>\n",
       "      <td>0.06</td>\n",
       "      <td>17.33</td>\n",
       "      <td>19.97</td>\n",
       "      <td>...</td>\n",
       "      <td>0</td>\n",
       "      <td>0</td>\n",
       "      <td>3</td>\n",
       "      <td>0</td>\n",
       "      <td>16.0</td>\n",
       "      <td>12.0</td>\n",
       "      <td>46.0</td>\n",
       "      <td>26.0</td>\n",
       "      <td>11.0</td>\n",
       "      <td>False</td>\n",
       "    </tr>\n",
       "  </tbody>\n",
       "</table>\n",
       "<p>5 rows × 23 columns</p>\n",
       "</div>"
      ],
      "text/plain": [
       "   id   loc  v(g)  ev(g)  iv(g)     n       v     l      d      i  ...  \\\n",
       "0   1   1.1   1.4    1.4    1.4   1.3    1.30  1.30   1.30   1.30  ...   \n",
       "1   2   1.0   1.0    1.0    1.0   1.0    1.00  1.00   1.00   1.00  ...   \n",
       "2   3  24.0   5.0    1.0    3.0  63.0  309.13  0.11   9.50  32.54  ...   \n",
       "3   4  20.0   4.0    4.0    2.0  47.0  215.49  0.06  16.00  13.47  ...   \n",
       "4   5  24.0   6.0    6.0    2.0  72.0  346.13  0.06  17.33  19.97  ...   \n",
       "\n",
       "   lOCode  lOComment  lOBlank  locCodeAndComment  uniq_Op  uniq_Opnd  \\\n",
       "0       2          2        2                  2      1.2        1.2   \n",
       "1       1          1        1                  1      1.0        1.0   \n",
       "2       1          0        6                  0     15.0       15.0   \n",
       "3       0          0        3                  0     16.0        8.0   \n",
       "4       0          0        3                  0     16.0       12.0   \n",
       "\n",
       "   total_Op  total_Opnd  branchCount  defects  \n",
       "0       1.2         1.2          1.4    False  \n",
       "1       1.0         1.0          1.0     True  \n",
       "2      44.0        19.0          9.0    False  \n",
       "3      31.0        16.0          7.0    False  \n",
       "4      46.0        26.0         11.0    False  \n",
       "\n",
       "[5 rows x 23 columns]"
      ]
     },
     "execution_count": 7,
     "metadata": {},
     "output_type": "execute_result"
    }
   ],
   "source": [
    "df.head()"
   ]
  },
  {
   "cell_type": "code",
   "execution_count": 8,
   "id": "733e95eb",
   "metadata": {
    "execution": {
     "iopub.execute_input": "2021-04-04T23:31:43.648017Z",
     "iopub.status.busy": "2021-04-04T23:31:43.645146Z",
     "iopub.status.idle": "2021-04-04T23:31:43.649581Z",
     "shell.execute_reply": "2021-04-04T23:31:43.651416Z"
    },
    "papermill": {
     "duration": 0.049961,
     "end_time": "2021-04-04T23:31:43.651874",
     "exception": false,
     "start_time": "2021-04-04T23:31:43.601913",
     "status": "completed"
    },
    "tags": []
   },
   "outputs": [],
   "source": [
    "del df['id']"
   ]
  },
  {
   "cell_type": "code",
   "execution_count": 9,
   "id": "6ff6f5b0",
   "metadata": {
    "execution": {
     "iopub.execute_input": "2021-04-04T23:31:43.709740Z",
     "iopub.status.busy": "2021-04-04T23:31:43.708971Z",
     "iopub.status.idle": "2021-04-04T23:31:43.710870Z",
     "shell.execute_reply": "2021-04-04T23:31:43.711346Z"
    },
    "papermill": {
     "duration": 0.032542,
     "end_time": "2021-04-04T23:31:43.711493",
     "exception": false,
     "start_time": "2021-04-04T23:31:43.678951",
     "status": "completed"
    },
    "tags": []
   },
   "outputs": [],
   "source": [
    "if PROFILE_REPORTING:\n",
    "    ProfileReport(df).to_widgets()"
   ]
  },
  {
   "cell_type": "markdown",
   "id": "1deaf3f0",
   "metadata": {
    "papermill": {
     "duration": 0.029345,
     "end_time": "2021-04-04T23:31:43.763163",
     "exception": false,
     "start_time": "2021-04-04T23:31:43.733818",
     "status": "completed"
    },
    "tags": []
   },
   "source": [
    "# Preprocess"
   ]
  },
  {
   "cell_type": "code",
   "execution_count": 10,
   "id": "1513e563",
   "metadata": {
    "execution": {
     "iopub.execute_input": "2021-04-04T23:31:43.827587Z",
     "iopub.status.busy": "2021-04-04T23:31:43.826731Z",
     "iopub.status.idle": "2021-04-04T23:31:43.830135Z",
     "shell.execute_reply": "2021-04-04T23:31:43.830969Z"
    },
    "papermill": {
     "duration": 0.042737,
     "end_time": "2021-04-04T23:31:43.831250",
     "exception": false,
     "start_time": "2021-04-04T23:31:43.788513",
     "status": "completed"
    },
    "tags": []
   },
   "outputs": [],
   "source": [
    "working_df = df.copy()"
   ]
  },
  {
   "cell_type": "code",
   "execution_count": 11,
   "id": "3b26d675",
   "metadata": {
    "execution": {
     "iopub.execute_input": "2021-04-04T23:31:43.903587Z",
     "iopub.status.busy": "2021-04-04T23:31:43.901877Z",
     "iopub.status.idle": "2021-04-04T23:31:43.904802Z",
     "shell.execute_reply": "2021-04-04T23:31:43.905478Z"
    },
    "papermill": {
     "duration": 0.042266,
     "end_time": "2021-04-04T23:31:43.905671",
     "exception": false,
     "start_time": "2021-04-04T23:31:43.863405",
     "status": "completed"
    },
    "tags": []
   },
   "outputs": [],
   "source": [
    "working_df['defects'] = working_df['defects'].replace([False, True], [0, 1])"
   ]
  },
  {
   "cell_type": "code",
   "execution_count": 12,
   "id": "eb48604f",
   "metadata": {
    "execution": {
     "iopub.execute_input": "2021-04-04T23:31:43.969100Z",
     "iopub.status.busy": "2021-04-04T23:31:43.967456Z",
     "iopub.status.idle": "2021-04-04T23:31:43.972211Z",
     "shell.execute_reply": "2021-04-04T23:31:43.973808Z"
    },
    "papermill": {
     "duration": 0.043505,
     "end_time": "2021-04-04T23:31:43.974213",
     "exception": false,
     "start_time": "2021-04-04T23:31:43.930708",
     "status": "completed"
    },
    "tags": []
   },
   "outputs": [],
   "source": [
    "for col in dataset_config['delete_columns']:\n",
    "    del working_df[col]"
   ]
  },
  {
   "cell_type": "code",
   "execution_count": 13,
   "id": "9a17bc29",
   "metadata": {
    "execution": {
     "iopub.execute_input": "2021-04-04T23:31:44.042767Z",
     "iopub.status.busy": "2021-04-04T23:31:44.041402Z",
     "iopub.status.idle": "2021-04-04T23:31:44.049564Z",
     "shell.execute_reply": "2021-04-04T23:31:44.048962Z"
    },
    "papermill": {
     "duration": 0.04539,
     "end_time": "2021-04-04T23:31:44.049686",
     "exception": false,
     "start_time": "2021-04-04T23:31:44.004296",
     "status": "completed"
    },
    "tags": []
   },
   "outputs": [],
   "source": [
    "working_df = working_df.drop_duplicates()"
   ]
  },
  {
   "cell_type": "markdown",
   "id": "a4d52ca6",
   "metadata": {
    "papermill": {
     "duration": 0.023203,
     "end_time": "2021-04-04T23:31:44.097400",
     "exception": false,
     "start_time": "2021-04-04T23:31:44.074197",
     "status": "completed"
    },
    "tags": []
   },
   "source": [
    "# Split"
   ]
  },
  {
   "cell_type": "code",
   "execution_count": 14,
   "id": "3e9ee4b5",
   "metadata": {
    "execution": {
     "iopub.execute_input": "2021-04-04T23:31:44.165044Z",
     "iopub.status.busy": "2021-04-04T23:31:44.163660Z",
     "iopub.status.idle": "2021-04-04T23:31:44.224844Z",
     "shell.execute_reply": "2021-04-04T23:31:44.223448Z"
    },
    "papermill": {
     "duration": 0.102532,
     "end_time": "2021-04-04T23:31:44.225026",
     "exception": false,
     "start_time": "2021-04-04T23:31:44.122494",
     "status": "completed"
    },
    "tags": []
   },
   "outputs": [],
   "source": [
    "from sklearn.model_selection import train_test_split"
   ]
  },
  {
   "cell_type": "code",
   "execution_count": 15,
   "id": "274004ce",
   "metadata": {
    "execution": {
     "iopub.execute_input": "2021-04-04T23:31:44.277103Z",
     "iopub.status.busy": "2021-04-04T23:31:44.276449Z",
     "iopub.status.idle": "2021-04-04T23:31:44.280782Z",
     "shell.execute_reply": "2021-04-04T23:31:44.281241Z"
    },
    "papermill": {
     "duration": 0.031693,
     "end_time": "2021-04-04T23:31:44.281392",
     "exception": false,
     "start_time": "2021-04-04T23:31:44.249699",
     "status": "completed"
    },
    "scrolled": true,
    "tags": []
   },
   "outputs": [],
   "source": [
    "inlier, outlier = working_df[working_df['defects'] == 0], working_df[working_df['defects'] == 1]"
   ]
  },
  {
   "cell_type": "code",
   "execution_count": 16,
   "id": "753c7b03",
   "metadata": {
    "execution": {
     "iopub.execute_input": "2021-04-04T23:31:44.342934Z",
     "iopub.status.busy": "2021-04-04T23:31:44.341577Z",
     "iopub.status.idle": "2021-04-04T23:31:44.345937Z",
     "shell.execute_reply": "2021-04-04T23:31:44.347561Z"
    },
    "papermill": {
     "duration": 0.041727,
     "end_time": "2021-04-04T23:31:44.348081",
     "exception": false,
     "start_time": "2021-04-04T23:31:44.306354",
     "status": "completed"
    },
    "tags": []
   },
   "outputs": [],
   "source": [
    "X_inlier = inlier.copy()\n",
    "y_inlier = X_inlier.pop('defects')\n",
    "X_outlier = outlier.copy()\n",
    "y_outlier = X_outlier.pop('defects')"
   ]
  },
  {
   "cell_type": "code",
   "execution_count": 17,
   "id": "2ba43193",
   "metadata": {
    "execution": {
     "iopub.execute_input": "2021-04-04T23:31:44.413103Z",
     "iopub.status.busy": "2021-04-04T23:31:44.411438Z",
     "iopub.status.idle": "2021-04-04T23:31:44.415606Z",
     "shell.execute_reply": "2021-04-04T23:31:44.415021Z"
    },
    "papermill": {
     "duration": 0.033652,
     "end_time": "2021-04-04T23:31:44.415724",
     "exception": false,
     "start_time": "2021-04-04T23:31:44.382072",
     "status": "completed"
    },
    "tags": []
   },
   "outputs": [],
   "source": [
    "test_size = dataset_config['test_size']\n",
    "random_state = dataset_config['random_state']\n",
    "\n",
    "X_inlier_train, X_inlier_test, y_inlier_train, y_inlier_test = train_test_split(\n",
    "    X_inlier,\n",
    "    y_inlier,\n",
    "    test_size=test_size,\n",
    "    random_state=random_state\n",
    ")"
   ]
  },
  {
   "cell_type": "code",
   "execution_count": 18,
   "id": "0b7582ca",
   "metadata": {
    "execution": {
     "iopub.execute_input": "2021-04-04T23:31:44.473390Z",
     "iopub.status.busy": "2021-04-04T23:31:44.472667Z",
     "iopub.status.idle": "2021-04-04T23:31:44.475582Z",
     "shell.execute_reply": "2021-04-04T23:31:44.475021Z"
    },
    "papermill": {
     "duration": 0.035809,
     "end_time": "2021-04-04T23:31:44.475730",
     "exception": false,
     "start_time": "2021-04-04T23:31:44.439921",
     "status": "completed"
    },
    "tags": []
   },
   "outputs": [],
   "source": [
    "test_outlier_size = dataset_config['test_outlier_size']\n",
    "if test_outlier_size > 0.0:\n",
    "    X_outlier_train, X_outlier_test, y_outlier_train, y_outlier_test = train_test_split(\n",
    "        X_outlier,\n",
    "        y_outlier,\n",
    "        test_size=test_outlier_size,\n",
    "        random_state=random_state\n",
    "    )\n",
    "else:\n",
    "    X_outlier_train, y_outlier_train = pd.DataFrame(columns=X_outlier.columns), pd.Series(dtype='int64')\n",
    "    X_outlier_test, y_outlier_test = X_outlier.copy(), y_outlier.copy()"
   ]
  },
  {
   "cell_type": "code",
   "execution_count": 19,
   "id": "c34363db",
   "metadata": {
    "execution": {
     "iopub.execute_input": "2021-04-04T23:31:44.532446Z",
     "iopub.status.busy": "2021-04-04T23:31:44.529333Z",
     "iopub.status.idle": "2021-04-04T23:31:44.537447Z",
     "shell.execute_reply": "2021-04-04T23:31:44.535562Z"
    },
    "papermill": {
     "duration": 0.035935,
     "end_time": "2021-04-04T23:31:44.537624",
     "exception": false,
     "start_time": "2021-04-04T23:31:44.501689",
     "status": "completed"
    },
    "tags": []
   },
   "outputs": [],
   "source": [
    "X_train, y_train = pd.concat([X_inlier_train, X_outlier_train], ignore_index=True), pd.concat([y_inlier_train, y_outlier_train], ignore_index=True)\n",
    "X_test, y_test = pd.concat([X_inlier_test, X_outlier_test], ignore_index=True), pd.concat([y_inlier_test, y_outlier_test], ignore_index=True)"
   ]
  },
  {
   "cell_type": "markdown",
   "id": "7cde7309",
   "metadata": {
    "papermill": {
     "duration": 0.027669,
     "end_time": "2021-04-04T23:31:44.589539",
     "exception": false,
     "start_time": "2021-04-04T23:31:44.561870",
     "status": "completed"
    },
    "tags": []
   },
   "source": [
    "# Model"
   ]
  },
  {
   "cell_type": "code",
   "execution_count": 20,
   "id": "2b12a415",
   "metadata": {
    "execution": {
     "iopub.execute_input": "2021-04-04T23:31:44.650902Z",
     "iopub.status.busy": "2021-04-04T23:31:44.650144Z",
     "iopub.status.idle": "2021-04-04T23:31:44.652725Z",
     "shell.execute_reply": "2021-04-04T23:31:44.652165Z"
    },
    "papermill": {
     "duration": 0.03868,
     "end_time": "2021-04-04T23:31:44.652845",
     "exception": false,
     "start_time": "2021-04-04T23:31:44.614165",
     "status": "completed"
    },
    "tags": []
   },
   "outputs": [],
   "source": [
    "from math import sqrt\n",
    "\n",
    "\n",
    "class KNNDataDescription:\n",
    "    def __init__(self, k=5, outlier_threshold=1.0):\n",
    "        self.k = k\n",
    "        self.outlier_threshold = outlier_threshold\n",
    "        self.X = []\n",
    "    \n",
    "    def fit(self, X):\n",
    "        self.X = [features.to_list() for index, features in X.iterrows()]\n",
    "\n",
    "    def predict(self, entries):\n",
    "        return [self.predict_entry(features.to_list()) for index, features in entries.iterrows()]\n",
    "    \n",
    "    def predict_entry(self, entry):\n",
    "        kth_neighbor, kth_distance = self.get_kth_neighbor(entry, self.k)\n",
    "        kth_kth_neighbor, kth_kth_distance = self.get_kth_neighbor(kth_neighbor, self.k + 1)\n",
    "\n",
    "        outlier_score = kth_distance / (kth_kth_distance + 0.000001)\n",
    "\n",
    "        return 1 if outlier_score < self.outlier_threshold else -1\n",
    "        \n",
    "    def euclidean_distance(self, features1, features2):\n",
    "        distance = 0.0\n",
    "        for feat1, feat2 in zip(features1, features2):\n",
    "            distance += (feat1 - feat2)**2\n",
    "                \n",
    "        return sqrt(distance)\n",
    "\n",
    "    def get_neighbors(self, entry, k):\n",
    "        distance_to_data_points = [\n",
    "            (data_point, self.euclidean_distance(entry, data_point))\n",
    "            for data_point in self.X\n",
    "        ]\n",
    "        sorted_by_distance = sorted(distance_to_data_points, key=lambda tup: tup[1])\n",
    "        neighbors = sorted_by_distance[:k]\n",
    "        return neighbors\n",
    "\n",
    "    def get_kth_neighbor(self, entry, k):\n",
    "        neighbors = self.get_neighbors(entry, k)\n",
    "        return neighbors[-1]\n"
   ]
  },
  {
   "cell_type": "code",
   "execution_count": 21,
   "id": "1fa9ec1c",
   "metadata": {
    "execution": {
     "iopub.execute_input": "2021-04-04T23:31:44.712996Z",
     "iopub.status.busy": "2021-04-04T23:31:44.712182Z",
     "iopub.status.idle": "2021-04-04T23:31:44.737376Z",
     "shell.execute_reply": "2021-04-04T23:31:44.737924Z"
    },
    "papermill": {
     "duration": 0.061444,
     "end_time": "2021-04-04T23:31:44.738105",
     "exception": false,
     "start_time": "2021-04-04T23:31:44.676661",
     "status": "completed"
    },
    "tags": []
   },
   "outputs": [],
   "source": [
    "from sklearn.svm import OneClassSVM\n",
    "\n",
    "\n",
    "models = {\n",
    "    'oneclasssvm': OneClassSVM,\n",
    "    'knndatadescription': KNNDataDescription,\n",
    "}"
   ]
  },
  {
   "cell_type": "code",
   "execution_count": 22,
   "id": "4d72a0b1",
   "metadata": {
    "execution": {
     "iopub.execute_input": "2021-04-04T23:31:44.798368Z",
     "iopub.status.busy": "2021-04-04T23:31:44.796981Z",
     "iopub.status.idle": "2021-04-04T23:31:44.801311Z",
     "shell.execute_reply": "2021-04-04T23:31:44.802263Z"
    },
    "papermill": {
     "duration": 0.038543,
     "end_time": "2021-04-04T23:31:44.802779",
     "exception": false,
     "start_time": "2021-04-04T23:31:44.764236",
     "status": "completed"
    },
    "scrolled": true,
    "tags": []
   },
   "outputs": [],
   "source": [
    "model_cls = models[model_config['model_type']]\n",
    "model = model_cls(**model_config['hyperparameters'])"
   ]
  },
  {
   "cell_type": "markdown",
   "id": "e00cff3b",
   "metadata": {
    "papermill": {
     "duration": 0.028277,
     "end_time": "2021-04-04T23:31:44.855947",
     "exception": false,
     "start_time": "2021-04-04T23:31:44.827670",
     "status": "completed"
    },
    "tags": []
   },
   "source": [
    "# Fit"
   ]
  },
  {
   "cell_type": "code",
   "execution_count": 23,
   "id": "8b2ded89",
   "metadata": {
    "execution": {
     "iopub.execute_input": "2021-04-04T23:31:44.951747Z",
     "iopub.status.busy": "2021-04-04T23:31:44.929301Z",
     "iopub.status.idle": "2021-04-04T23:31:44.956189Z",
     "shell.execute_reply": "2021-04-04T23:31:44.955079Z"
    },
    "papermill": {
     "duration": 0.063436,
     "end_time": "2021-04-04T23:31:44.956343",
     "exception": false,
     "start_time": "2021-04-04T23:31:44.892907",
     "status": "completed"
    },
    "tags": []
   },
   "outputs": [],
   "source": [
    "model.fit(X_train)"
   ]
  },
  {
   "cell_type": "markdown",
   "id": "f99999f7",
   "metadata": {
    "papermill": {
     "duration": 0.029704,
     "end_time": "2021-04-04T23:31:45.010296",
     "exception": false,
     "start_time": "2021-04-04T23:31:44.980592",
     "status": "completed"
    },
    "tags": []
   },
   "source": [
    "# Predict"
   ]
  },
  {
   "cell_type": "code",
   "execution_count": 24,
   "id": "6536fbf7",
   "metadata": {
    "execution": {
     "iopub.execute_input": "2021-04-04T23:31:45.082459Z",
     "iopub.status.busy": "2021-04-04T23:31:45.072379Z",
     "iopub.status.idle": "2021-04-04T23:31:45.387187Z",
     "shell.execute_reply": "2021-04-04T23:31:45.387680Z"
    },
    "papermill": {
     "duration": 0.352596,
     "end_time": "2021-04-04T23:31:45.387829",
     "exception": false,
     "start_time": "2021-04-04T23:31:45.035233",
     "status": "completed"
    },
    "tags": []
   },
   "outputs": [],
   "source": [
    "predictions = model.predict(X_test)"
   ]
  },
  {
   "cell_type": "markdown",
   "id": "aa1c9881",
   "metadata": {
    "papermill": {
     "duration": 0.029498,
     "end_time": "2021-04-04T23:31:45.442915",
     "exception": false,
     "start_time": "2021-04-04T23:31:45.413417",
     "status": "completed"
    },
    "tags": []
   },
   "source": [
    "# Evaluate"
   ]
  },
  {
   "cell_type": "code",
   "execution_count": 25,
   "id": "894f0f04",
   "metadata": {
    "execution": {
     "iopub.execute_input": "2021-04-04T23:31:45.520787Z",
     "iopub.status.busy": "2021-04-04T23:31:45.518653Z",
     "iopub.status.idle": "2021-04-04T23:31:45.522692Z",
     "shell.execute_reply": "2021-04-04T23:31:45.523248Z"
    },
    "papermill": {
     "duration": 0.051574,
     "end_time": "2021-04-04T23:31:45.523546",
     "exception": false,
     "start_time": "2021-04-04T23:31:45.471972",
     "status": "completed"
    },
    "tags": []
   },
   "outputs": [],
   "source": [
    "from sklearn.metrics import f1_score"
   ]
  },
  {
   "cell_type": "code",
   "execution_count": 26,
   "id": "211744d3",
   "metadata": {
    "execution": {
     "iopub.execute_input": "2021-04-04T23:31:45.589165Z",
     "iopub.status.busy": "2021-04-04T23:31:45.588567Z",
     "iopub.status.idle": "2021-04-04T23:31:45.590415Z",
     "shell.execute_reply": "2021-04-04T23:31:45.590889Z"
    },
    "papermill": {
     "duration": 0.041951,
     "end_time": "2021-04-04T23:31:45.591034",
     "exception": false,
     "start_time": "2021-04-04T23:31:45.549083",
     "status": "completed"
    },
    "tags": []
   },
   "outputs": [],
   "source": [
    "y_test = y_test.replace([0, 1], [1, -1])"
   ]
  },
  {
   "cell_type": "code",
   "execution_count": 27,
   "id": "d68a9204",
   "metadata": {
    "execution": {
     "iopub.execute_input": "2021-04-04T23:31:45.648673Z",
     "iopub.status.busy": "2021-04-04T23:31:45.648063Z",
     "iopub.status.idle": "2021-04-04T23:31:45.649952Z",
     "shell.execute_reply": "2021-04-04T23:31:45.650428Z"
    },
    "papermill": {
     "duration": 0.035545,
     "end_time": "2021-04-04T23:31:45.650572",
     "exception": false,
     "start_time": "2021-04-04T23:31:45.615027",
     "status": "completed"
    },
    "tags": []
   },
   "outputs": [],
   "source": [
    "def evaluate(truths, predictions, pos_label, neg_label):\n",
    "    TP = 0\n",
    "    FP = 0\n",
    "    TN = 0\n",
    "    FN = 0\n",
    "\n",
    "    for truth, pred in zip(truths, predictions): \n",
    "        if truth == pred == pos_label:\n",
    "           TP += 1\n",
    "        elif pred == pos_label and truth == neg_label:\n",
    "           FP += 1\n",
    "        elif truth == pred == neg_label:\n",
    "           TN += 1\n",
    "        elif pred == neg_label and truth == pos_label:\n",
    "           FN += 1\n",
    "\n",
    "    precision = TP / (TP + FP)\n",
    "    sensitivity = TP / (TP + FN)\n",
    "    \n",
    "    return {\n",
    "        'true_pos': TP,\n",
    "        'false_pos': FP,\n",
    "        'false_neg': FN,\n",
    "        'true_neg': TN,\n",
    "        'precision': precision,\n",
    "        'sensitivity': sensitivity,\n",
    "        'f1': (2 * (precision * sensitivity)) / (precision + sensitivity)\n",
    "    }\n",
    "\n",
    "score = evaluate(y_test, predictions, pos_label=-1, neg_label=1)"
   ]
  },
  {
   "cell_type": "markdown",
   "id": "93596516",
   "metadata": {
    "papermill": {
     "duration": 0.034164,
     "end_time": "2021-04-04T23:31:45.711779",
     "exception": false,
     "start_time": "2021-04-04T23:31:45.677615",
     "status": "completed"
    },
    "tags": []
   },
   "source": [
    "# Report"
   ]
  },
  {
   "cell_type": "code",
   "execution_count": 28,
   "id": "bea5fba1",
   "metadata": {
    "execution": {
     "iopub.execute_input": "2021-04-04T23:31:45.776885Z",
     "iopub.status.busy": "2021-04-04T23:31:45.776068Z",
     "iopub.status.idle": "2021-04-04T23:31:45.780108Z",
     "shell.execute_reply": "2021-04-04T23:31:45.781266Z"
    },
    "papermill": {
     "duration": 0.03944,
     "end_time": "2021-04-04T23:31:45.781565",
     "exception": false,
     "start_time": "2021-04-04T23:31:45.742125",
     "status": "completed"
    },
    "tags": []
   },
   "outputs": [],
   "source": [
    "import csv\n",
    "\n",
    "\n",
    "dataset_config_name = DATASET_CONFIG_PATH.split('/')[-1].split('.')[0]\n",
    "model_config_name = MODEL_CONFIG_PATH.split('/')[-1].split('.')[0]\n",
    "configuration = f\"dataset_{dataset_config_name}-model_{model_config_name}\"\n",
    "\n",
    "with open('results.csv', 'a') as f:\n",
    "    report = dict({'configuration': configuration}, **score)\n",
    "    writer = csv.DictWriter(f, report.keys())\n",
    "    writer.writerow(report)"
   ]
  }
 ],
 "metadata": {
  "celltoolbar": "Tags",
  "kernelspec": {
   "display_name": "Python 3",
   "language": "python",
   "name": "python3"
  },
  "language_info": {
   "codemirror_mode": {
    "name": "ipython",
    "version": 3
   },
   "file_extension": ".py",
   "mimetype": "text/x-python",
   "name": "python",
   "nbconvert_exporter": "python",
   "pygments_lexer": "ipython3",
   "version": "3.9.1"
  },
  "papermill": {
   "default_parameters": {},
   "duration": 5.787258,
   "end_time": "2021-04-04T23:31:46.414838",
   "environment_variables": {},
   "exception": null,
   "input_path": "main.ipynb",
   "output_path": "runs/dataset_000145-model_000003.ipynb",
   "parameters": {
    "DATASET_CONFIG_PATH": "config/dataset/000145.json",
    "MODEL_CONFIG_PATH": "config/model/000003.json",
    "PROFILE_REPORTING": false
   },
   "start_time": "2021-04-04T23:31:40.627580",
   "version": "2.3.3"
  }
 },
 "nbformat": 4,
 "nbformat_minor": 5
}