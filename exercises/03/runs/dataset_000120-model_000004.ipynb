{
 "cells": [
  {
   "cell_type": "markdown",
   "id": "51c71c25",
   "metadata": {
    "papermill": {
     "duration": 0.023671,
     "end_time": "2021-04-04T23:20:45.120530",
     "exception": false,
     "start_time": "2021-04-04T23:20:45.096859",
     "status": "completed"
    },
    "tags": []
   },
   "source": [
    "# Parametrizing"
   ]
  },
  {
   "cell_type": "code",
   "execution_count": 1,
   "id": "3b136394",
   "metadata": {
    "execution": {
     "iopub.execute_input": "2021-04-04T23:20:45.180431Z",
     "iopub.status.busy": "2021-04-04T23:20:45.179658Z",
     "iopub.status.idle": "2021-04-04T23:20:45.184149Z",
     "shell.execute_reply": "2021-04-04T23:20:45.182094Z"
    },
    "papermill": {
     "duration": 0.040673,
     "end_time": "2021-04-04T23:20:45.184645",
     "exception": false,
     "start_time": "2021-04-04T23:20:45.143972",
     "status": "completed"
    },
    "tags": [
     "parameters"
    ]
   },
   "outputs": [],
   "source": [
    "DATASET_CONFIG_PATH = 'config/dataset/kc1_001.json'\n",
    "MODEL_CONFIG_PATH = 'config/model/knndd_001.json'\n",
    "PROFILE_REPORTING = False"
   ]
  },
  {
   "cell_type": "code",
   "execution_count": 2,
   "id": "5d8ed0cd",
   "metadata": {
    "execution": {
     "iopub.execute_input": "2021-04-04T23:20:45.235242Z",
     "iopub.status.busy": "2021-04-04T23:20:45.234641Z",
     "iopub.status.idle": "2021-04-04T23:20:45.238574Z",
     "shell.execute_reply": "2021-04-04T23:20:45.239143Z"
    },
    "papermill": {
     "duration": 0.030781,
     "end_time": "2021-04-04T23:20:45.239334",
     "exception": false,
     "start_time": "2021-04-04T23:20:45.208553",
     "status": "completed"
    },
    "tags": [
     "injected-parameters"
    ]
   },
   "outputs": [],
   "source": [
    "# Parameters\n",
    "DATASET_CONFIG_PATH = \"config/dataset/000120.json\"\n",
    "MODEL_CONFIG_PATH = \"config/model/000004.json\"\n",
    "PROFILE_REPORTING = False\n"
   ]
  },
  {
   "cell_type": "code",
   "execution_count": 3,
   "id": "b80f2a10",
   "metadata": {
    "execution": {
     "iopub.execute_input": "2021-04-04T23:20:45.297443Z",
     "iopub.status.busy": "2021-04-04T23:20:45.296480Z",
     "iopub.status.idle": "2021-04-04T23:20:45.300278Z",
     "shell.execute_reply": "2021-04-04T23:20:45.299618Z"
    },
    "papermill": {
     "duration": 0.037217,
     "end_time": "2021-04-04T23:20:45.300438",
     "exception": false,
     "start_time": "2021-04-04T23:20:45.263221",
     "status": "completed"
    },
    "tags": []
   },
   "outputs": [],
   "source": [
    "import json\n",
    "\n",
    "\n",
    "with open(DATASET_CONFIG_PATH) as f:\n",
    "    dataset_config = json.load(f)\n",
    "\n",
    "with open(MODEL_CONFIG_PATH) as f:\n",
    "    model_config = json.load(f)"
   ]
  },
  {
   "cell_type": "markdown",
   "id": "9a4b0e2d",
   "metadata": {
    "papermill": {
     "duration": 0.025564,
     "end_time": "2021-04-04T23:20:45.351905",
     "exception": false,
     "start_time": "2021-04-04T23:20:45.326341",
     "status": "completed"
    },
    "tags": []
   },
   "source": [
    "# Profiling"
   ]
  },
  {
   "cell_type": "code",
   "execution_count": 4,
   "id": "a3e0289b",
   "metadata": {
    "execution": {
     "iopub.execute_input": "2021-04-04T23:20:45.410582Z",
     "iopub.status.busy": "2021-04-04T23:20:45.408554Z",
     "iopub.status.idle": "2021-04-04T23:20:47.065076Z",
     "shell.execute_reply": "2021-04-04T23:20:47.064501Z"
    },
    "papermill": {
     "duration": 1.686004,
     "end_time": "2021-04-04T23:20:47.065255",
     "exception": false,
     "start_time": "2021-04-04T23:20:45.379251",
     "status": "completed"
    },
    "tags": []
   },
   "outputs": [],
   "source": [
    "import pandas as pd\n",
    "from pandas_profiling import ProfileReport"
   ]
  },
  {
   "cell_type": "code",
   "execution_count": 5,
   "id": "ee6c0666",
   "metadata": {
    "execution": {
     "iopub.execute_input": "2021-04-04T23:20:47.125305Z",
     "iopub.status.busy": "2021-04-04T23:20:47.124526Z",
     "iopub.status.idle": "2021-04-04T23:20:47.135563Z",
     "shell.execute_reply": "2021-04-04T23:20:47.136303Z"
    },
    "papermill": {
     "duration": 0.044985,
     "end_time": "2021-04-04T23:20:47.136589",
     "exception": false,
     "start_time": "2021-04-04T23:20:47.091604",
     "status": "completed"
    },
    "tags": []
   },
   "outputs": [],
   "source": [
    "df = pd.read_csv(dataset_config['dataset_path'])"
   ]
  },
  {
   "cell_type": "code",
   "execution_count": 6,
   "id": "7eca6c4a",
   "metadata": {
    "execution": {
     "iopub.execute_input": "2021-04-04T23:20:47.214460Z",
     "iopub.status.busy": "2021-04-04T23:20:47.213663Z",
     "iopub.status.idle": "2021-04-04T23:20:47.217298Z",
     "shell.execute_reply": "2021-04-04T23:20:47.217864Z"
    },
    "papermill": {
     "duration": 0.053898,
     "end_time": "2021-04-04T23:20:47.218046",
     "exception": false,
     "start_time": "2021-04-04T23:20:47.164148",
     "status": "completed"
    },
    "tags": []
   },
   "outputs": [
    {
     "name": "stdout",
     "output_type": "stream",
     "text": [
      "<class 'pandas.core.frame.DataFrame'>\n",
      "RangeIndex: 498 entries, 0 to 497\n",
      "Data columns (total 23 columns):\n",
      " #   Column             Non-Null Count  Dtype  \n",
      "---  ------             --------------  -----  \n",
      " 0   id                 498 non-null    int64  \n",
      " 1   loc                498 non-null    float64\n",
      " 2   v(g)               498 non-null    float64\n",
      " 3   ev(g)              498 non-null    float64\n",
      " 4   iv(g)              498 non-null    float64\n",
      " 5   n                  498 non-null    float64\n",
      " 6   v                  498 non-null    float64\n",
      " 7   l                  498 non-null    float64\n",
      " 8   d                  498 non-null    float64\n",
      " 9   i                  498 non-null    float64\n",
      " 10  e                  498 non-null    float64\n",
      " 11  b                  498 non-null    float64\n",
      " 12  t                  498 non-null    float64\n",
      " 13  lOCode             498 non-null    int64  \n",
      " 14  lOComment          498 non-null    int64  \n",
      " 15  lOBlank            498 non-null    int64  \n",
      " 16  locCodeAndComment  498 non-null    int64  \n",
      " 17  uniq_Op            498 non-null    float64\n",
      " 18  uniq_Opnd          498 non-null    float64\n",
      " 19  total_Op           498 non-null    float64\n",
      " 20  total_Opnd         498 non-null    float64\n",
      " 21  branchCount        498 non-null    float64\n",
      " 22  defects            498 non-null    bool   \n",
      "dtypes: bool(1), float64(17), int64(5)\n",
      "memory usage: 86.2 KB\n"
     ]
    }
   ],
   "source": [
    "df.info()"
   ]
  },
  {
   "cell_type": "code",
   "execution_count": 7,
   "id": "3638e5e8",
   "metadata": {
    "execution": {
     "iopub.execute_input": "2021-04-04T23:20:47.283032Z",
     "iopub.status.busy": "2021-04-04T23:20:47.282252Z",
     "iopub.status.idle": "2021-04-04T23:20:47.319894Z",
     "shell.execute_reply": "2021-04-04T23:20:47.319302Z"
    },
    "papermill": {
     "duration": 0.075061,
     "end_time": "2021-04-04T23:20:47.320051",
     "exception": false,
     "start_time": "2021-04-04T23:20:47.244990",
     "status": "completed"
    },
    "tags": []
   },
   "outputs": [
    {
     "data": {
      "text/html": [
       "<div>\n",
       "<style scoped>\n",
       "    .dataframe tbody tr th:only-of-type {\n",
       "        vertical-align: middle;\n",
       "    }\n",
       "\n",
       "    .dataframe tbody tr th {\n",
       "        vertical-align: top;\n",
       "    }\n",
       "\n",
       "    .dataframe thead th {\n",
       "        text-align: right;\n",
       "    }\n",
       "</style>\n",
       "<table border=\"1\" class=\"dataframe\">\n",
       "  <thead>\n",
       "    <tr style=\"text-align: right;\">\n",
       "      <th></th>\n",
       "      <th>id</th>\n",
       "      <th>loc</th>\n",
       "      <th>v(g)</th>\n",
       "      <th>ev(g)</th>\n",
       "      <th>iv(g)</th>\n",
       "      <th>n</th>\n",
       "      <th>v</th>\n",
       "      <th>l</th>\n",
       "      <th>d</th>\n",
       "      <th>i</th>\n",
       "      <th>...</th>\n",
       "      <th>lOCode</th>\n",
       "      <th>lOComment</th>\n",
       "      <th>lOBlank</th>\n",
       "      <th>locCodeAndComment</th>\n",
       "      <th>uniq_Op</th>\n",
       "      <th>uniq_Opnd</th>\n",
       "      <th>total_Op</th>\n",
       "      <th>total_Opnd</th>\n",
       "      <th>branchCount</th>\n",
       "      <th>defects</th>\n",
       "    </tr>\n",
       "  </thead>\n",
       "  <tbody>\n",
       "    <tr>\n",
       "      <th>0</th>\n",
       "      <td>1</td>\n",
       "      <td>1.1</td>\n",
       "      <td>1.4</td>\n",
       "      <td>1.4</td>\n",
       "      <td>1.4</td>\n",
       "      <td>1.3</td>\n",
       "      <td>1.30</td>\n",
       "      <td>1.30</td>\n",
       "      <td>1.30</td>\n",
       "      <td>1.30</td>\n",
       "      <td>...</td>\n",
       "      <td>2</td>\n",
       "      <td>2</td>\n",
       "      <td>2</td>\n",
       "      <td>2</td>\n",
       "      <td>1.2</td>\n",
       "      <td>1.2</td>\n",
       "      <td>1.2</td>\n",
       "      <td>1.2</td>\n",
       "      <td>1.4</td>\n",
       "      <td>False</td>\n",
       "    </tr>\n",
       "    <tr>\n",
       "      <th>1</th>\n",
       "      <td>2</td>\n",
       "      <td>1.0</td>\n",
       "      <td>1.0</td>\n",
       "      <td>1.0</td>\n",
       "      <td>1.0</td>\n",
       "      <td>1.0</td>\n",
       "      <td>1.00</td>\n",
       "      <td>1.00</td>\n",
       "      <td>1.00</td>\n",
       "      <td>1.00</td>\n",
       "      <td>...</td>\n",
       "      <td>1</td>\n",
       "      <td>1</td>\n",
       "      <td>1</td>\n",
       "      <td>1</td>\n",
       "      <td>1.0</td>\n",
       "      <td>1.0</td>\n",
       "      <td>1.0</td>\n",
       "      <td>1.0</td>\n",
       "      <td>1.0</td>\n",
       "      <td>True</td>\n",
       "    </tr>\n",
       "    <tr>\n",
       "      <th>2</th>\n",
       "      <td>3</td>\n",
       "      <td>24.0</td>\n",
       "      <td>5.0</td>\n",
       "      <td>1.0</td>\n",
       "      <td>3.0</td>\n",
       "      <td>63.0</td>\n",
       "      <td>309.13</td>\n",
       "      <td>0.11</td>\n",
       "      <td>9.50</td>\n",
       "      <td>32.54</td>\n",
       "      <td>...</td>\n",
       "      <td>1</td>\n",
       "      <td>0</td>\n",
       "      <td>6</td>\n",
       "      <td>0</td>\n",
       "      <td>15.0</td>\n",
       "      <td>15.0</td>\n",
       "      <td>44.0</td>\n",
       "      <td>19.0</td>\n",
       "      <td>9.0</td>\n",
       "      <td>False</td>\n",
       "    </tr>\n",
       "    <tr>\n",
       "      <th>3</th>\n",
       "      <td>4</td>\n",
       "      <td>20.0</td>\n",
       "      <td>4.0</td>\n",
       "      <td>4.0</td>\n",
       "      <td>2.0</td>\n",
       "      <td>47.0</td>\n",
       "      <td>215.49</td>\n",
       "      <td>0.06</td>\n",
       "      <td>16.00</td>\n",
       "      <td>13.47</td>\n",
       "      <td>...</td>\n",
       "      <td>0</td>\n",
       "      <td>0</td>\n",
       "      <td>3</td>\n",
       "      <td>0</td>\n",
       "      <td>16.0</td>\n",
       "      <td>8.0</td>\n",
       "      <td>31.0</td>\n",
       "      <td>16.0</td>\n",
       "      <td>7.0</td>\n",
       "      <td>False</td>\n",
       "    </tr>\n",
       "    <tr>\n",
       "      <th>4</th>\n",
       "      <td>5</td>\n",
       "      <td>24.0</td>\n",
       "      <td>6.0</td>\n",
       "      <td>6.0</td>\n",
       "      <td>2.0</td>\n",
       "      <td>72.0</td>\n",
       "      <td>346.13</td>\n",
       "      <td>0.06</td>\n",
       "      <td>17.33</td>\n",
       "      <td>19.97</td>\n",
       "      <td>...</td>\n",
       "      <td>0</td>\n",
       "      <td>0</td>\n",
       "      <td>3</td>\n",
       "      <td>0</td>\n",
       "      <td>16.0</td>\n",
       "      <td>12.0</td>\n",
       "      <td>46.0</td>\n",
       "      <td>26.0</td>\n",
       "      <td>11.0</td>\n",
       "      <td>False</td>\n",
       "    </tr>\n",
       "  </tbody>\n",
       "</table>\n",
       "<p>5 rows × 23 columns</p>\n",
       "</div>"
      ],
      "text/plain": [
       "   id   loc  v(g)  ev(g)  iv(g)     n       v     l      d      i  ...  \\\n",
       "0   1   1.1   1.4    1.4    1.4   1.3    1.30  1.30   1.30   1.30  ...   \n",
       "1   2   1.0   1.0    1.0    1.0   1.0    1.00  1.00   1.00   1.00  ...   \n",
       "2   3  24.0   5.0    1.0    3.0  63.0  309.13  0.11   9.50  32.54  ...   \n",
       "3   4  20.0   4.0    4.0    2.0  47.0  215.49  0.06  16.00  13.47  ...   \n",
       "4   5  24.0   6.0    6.0    2.0  72.0  346.13  0.06  17.33  19.97  ...   \n",
       "\n",
       "   lOCode  lOComment  lOBlank  locCodeAndComment  uniq_Op  uniq_Opnd  \\\n",
       "0       2          2        2                  2      1.2        1.2   \n",
       "1       1          1        1                  1      1.0        1.0   \n",
       "2       1          0        6                  0     15.0       15.0   \n",
       "3       0          0        3                  0     16.0        8.0   \n",
       "4       0          0        3                  0     16.0       12.0   \n",
       "\n",
       "   total_Op  total_Opnd  branchCount  defects  \n",
       "0       1.2         1.2          1.4    False  \n",
       "1       1.0         1.0          1.0     True  \n",
       "2      44.0        19.0          9.0    False  \n",
       "3      31.0        16.0          7.0    False  \n",
       "4      46.0        26.0         11.0    False  \n",
       "\n",
       "[5 rows x 23 columns]"
      ]
     },
     "execution_count": 7,
     "metadata": {},
     "output_type": "execute_result"
    }
   ],
   "source": [
    "df.head()"
   ]
  },
  {
   "cell_type": "code",
   "execution_count": 8,
   "id": "733e95eb",
   "metadata": {
    "execution": {
     "iopub.execute_input": "2021-04-04T23:20:47.391140Z",
     "iopub.status.busy": "2021-04-04T23:20:47.390274Z",
     "iopub.status.idle": "2021-04-04T23:20:47.392767Z",
     "shell.execute_reply": "2021-04-04T23:20:47.393276Z"
    },
    "papermill": {
     "duration": 0.039906,
     "end_time": "2021-04-04T23:20:47.393459",
     "exception": false,
     "start_time": "2021-04-04T23:20:47.353553",
     "status": "completed"
    },
    "tags": []
   },
   "outputs": [],
   "source": [
    "del df['id']"
   ]
  },
  {
   "cell_type": "code",
   "execution_count": 9,
   "id": "6ff6f5b0",
   "metadata": {
    "execution": {
     "iopub.execute_input": "2021-04-04T23:20:47.454383Z",
     "iopub.status.busy": "2021-04-04T23:20:47.453307Z",
     "iopub.status.idle": "2021-04-04T23:20:47.458395Z",
     "shell.execute_reply": "2021-04-04T23:20:47.457684Z"
    },
    "papermill": {
     "duration": 0.037496,
     "end_time": "2021-04-04T23:20:47.458568",
     "exception": false,
     "start_time": "2021-04-04T23:20:47.421072",
     "status": "completed"
    },
    "tags": []
   },
   "outputs": [],
   "source": [
    "if PROFILE_REPORTING:\n",
    "    ProfileReport(df).to_widgets()"
   ]
  },
  {
   "cell_type": "markdown",
   "id": "1deaf3f0",
   "metadata": {
    "papermill": {
     "duration": 0.031896,
     "end_time": "2021-04-04T23:20:47.518965",
     "exception": false,
     "start_time": "2021-04-04T23:20:47.487069",
     "status": "completed"
    },
    "tags": []
   },
   "source": [
    "# Preprocess"
   ]
  },
  {
   "cell_type": "code",
   "execution_count": 10,
   "id": "1513e563",
   "metadata": {
    "execution": {
     "iopub.execute_input": "2021-04-04T23:20:47.577990Z",
     "iopub.status.busy": "2021-04-04T23:20:47.576927Z",
     "iopub.status.idle": "2021-04-04T23:20:47.580053Z",
     "shell.execute_reply": "2021-04-04T23:20:47.579479Z"
    },
    "papermill": {
     "duration": 0.034586,
     "end_time": "2021-04-04T23:20:47.580186",
     "exception": false,
     "start_time": "2021-04-04T23:20:47.545600",
     "status": "completed"
    },
    "tags": []
   },
   "outputs": [],
   "source": [
    "working_df = df.copy()"
   ]
  },
  {
   "cell_type": "code",
   "execution_count": 11,
   "id": "3b26d675",
   "metadata": {
    "execution": {
     "iopub.execute_input": "2021-04-04T23:20:47.646363Z",
     "iopub.status.busy": "2021-04-04T23:20:47.645200Z",
     "iopub.status.idle": "2021-04-04T23:20:47.648323Z",
     "shell.execute_reply": "2021-04-04T23:20:47.647762Z"
    },
    "papermill": {
     "duration": 0.041607,
     "end_time": "2021-04-04T23:20:47.648447",
     "exception": false,
     "start_time": "2021-04-04T23:20:47.606840",
     "status": "completed"
    },
    "tags": []
   },
   "outputs": [],
   "source": [
    "working_df['defects'] = working_df['defects'].replace([False, True], [0, 1])"
   ]
  },
  {
   "cell_type": "code",
   "execution_count": 12,
   "id": "eb48604f",
   "metadata": {
    "execution": {
     "iopub.execute_input": "2021-04-04T23:20:47.711852Z",
     "iopub.status.busy": "2021-04-04T23:20:47.710014Z",
     "iopub.status.idle": "2021-04-04T23:20:47.715854Z",
     "shell.execute_reply": "2021-04-04T23:20:47.714976Z"
    },
    "papermill": {
     "duration": 0.038768,
     "end_time": "2021-04-04T23:20:47.716023",
     "exception": false,
     "start_time": "2021-04-04T23:20:47.677255",
     "status": "completed"
    },
    "tags": []
   },
   "outputs": [],
   "source": [
    "for col in dataset_config['delete_columns']:\n",
    "    del working_df[col]"
   ]
  },
  {
   "cell_type": "code",
   "execution_count": 13,
   "id": "9a17bc29",
   "metadata": {
    "execution": {
     "iopub.execute_input": "2021-04-04T23:20:47.787621Z",
     "iopub.status.busy": "2021-04-04T23:20:47.786659Z",
     "iopub.status.idle": "2021-04-04T23:20:47.797265Z",
     "shell.execute_reply": "2021-04-04T23:20:47.797836Z"
    },
    "papermill": {
     "duration": 0.047581,
     "end_time": "2021-04-04T23:20:47.798006",
     "exception": false,
     "start_time": "2021-04-04T23:20:47.750425",
     "status": "completed"
    },
    "tags": []
   },
   "outputs": [],
   "source": [
    "working_df = working_df.drop_duplicates()"
   ]
  },
  {
   "cell_type": "markdown",
   "id": "a4d52ca6",
   "metadata": {
    "papermill": {
     "duration": 0.029121,
     "end_time": "2021-04-04T23:20:47.855994",
     "exception": false,
     "start_time": "2021-04-04T23:20:47.826873",
     "status": "completed"
    },
    "tags": []
   },
   "source": [
    "# Split"
   ]
  },
  {
   "cell_type": "code",
   "execution_count": 14,
   "id": "3e9ee4b5",
   "metadata": {
    "execution": {
     "iopub.execute_input": "2021-04-04T23:20:47.919595Z",
     "iopub.status.busy": "2021-04-04T23:20:47.918815Z",
     "iopub.status.idle": "2021-04-04T23:20:47.966240Z",
     "shell.execute_reply": "2021-04-04T23:20:47.965558Z"
    },
    "papermill": {
     "duration": 0.083636,
     "end_time": "2021-04-04T23:20:47.966389",
     "exception": false,
     "start_time": "2021-04-04T23:20:47.882753",
     "status": "completed"
    },
    "tags": []
   },
   "outputs": [],
   "source": [
    "from sklearn.model_selection import train_test_split"
   ]
  },
  {
   "cell_type": "code",
   "execution_count": 15,
   "id": "274004ce",
   "metadata": {
    "execution": {
     "iopub.execute_input": "2021-04-04T23:20:48.023134Z",
     "iopub.status.busy": "2021-04-04T23:20:48.022454Z",
     "iopub.status.idle": "2021-04-04T23:20:48.026765Z",
     "shell.execute_reply": "2021-04-04T23:20:48.027239Z"
    },
    "papermill": {
     "duration": 0.035601,
     "end_time": "2021-04-04T23:20:48.027387",
     "exception": false,
     "start_time": "2021-04-04T23:20:47.991786",
     "status": "completed"
    },
    "scrolled": true,
    "tags": []
   },
   "outputs": [],
   "source": [
    "inlier, outlier = working_df[working_df['defects'] == 0], working_df[working_df['defects'] == 1]"
   ]
  },
  {
   "cell_type": "code",
   "execution_count": 16,
   "id": "753c7b03",
   "metadata": {
    "execution": {
     "iopub.execute_input": "2021-04-04T23:20:48.086582Z",
     "iopub.status.busy": "2021-04-04T23:20:48.084335Z",
     "iopub.status.idle": "2021-04-04T23:20:48.091699Z",
     "shell.execute_reply": "2021-04-04T23:20:48.090730Z"
    },
    "papermill": {
     "duration": 0.040974,
     "end_time": "2021-04-04T23:20:48.091927",
     "exception": false,
     "start_time": "2021-04-04T23:20:48.050953",
     "status": "completed"
    },
    "tags": []
   },
   "outputs": [],
   "source": [
    "X_inlier = inlier.copy()\n",
    "y_inlier = X_inlier.pop('defects')\n",
    "X_outlier = outlier.copy()\n",
    "y_outlier = X_outlier.pop('defects')"
   ]
  },
  {
   "cell_type": "code",
   "execution_count": 17,
   "id": "2ba43193",
   "metadata": {
    "execution": {
     "iopub.execute_input": "2021-04-04T23:20:48.153542Z",
     "iopub.status.busy": "2021-04-04T23:20:48.152656Z",
     "iopub.status.idle": "2021-04-04T23:20:48.157896Z",
     "shell.execute_reply": "2021-04-04T23:20:48.155991Z"
    },
    "papermill": {
     "duration": 0.038742,
     "end_time": "2021-04-04T23:20:48.158265",
     "exception": false,
     "start_time": "2021-04-04T23:20:48.119523",
     "status": "completed"
    },
    "tags": []
   },
   "outputs": [],
   "source": [
    "test_size = dataset_config['test_size']\n",
    "random_state = dataset_config['random_state']\n",
    "\n",
    "X_inlier_train, X_inlier_test, y_inlier_train, y_inlier_test = train_test_split(\n",
    "    X_inlier,\n",
    "    y_inlier,\n",
    "    test_size=test_size,\n",
    "    random_state=random_state\n",
    ")"
   ]
  },
  {
   "cell_type": "code",
   "execution_count": 18,
   "id": "0b7582ca",
   "metadata": {
    "execution": {
     "iopub.execute_input": "2021-04-04T23:20:48.220857Z",
     "iopub.status.busy": "2021-04-04T23:20:48.219725Z",
     "iopub.status.idle": "2021-04-04T23:20:48.223119Z",
     "shell.execute_reply": "2021-04-04T23:20:48.224170Z"
    },
    "papermill": {
     "duration": 0.041929,
     "end_time": "2021-04-04T23:20:48.224437",
     "exception": false,
     "start_time": "2021-04-04T23:20:48.182508",
     "status": "completed"
    },
    "tags": []
   },
   "outputs": [],
   "source": [
    "test_outlier_size = dataset_config['test_outlier_size']\n",
    "if test_outlier_size > 0.0:\n",
    "    X_outlier_train, X_outlier_test, y_outlier_train, y_outlier_test = train_test_split(\n",
    "        X_outlier,\n",
    "        y_outlier,\n",
    "        test_size=test_outlier_size,\n",
    "        random_state=random_state\n",
    "    )\n",
    "else:\n",
    "    X_outlier_train, y_outlier_train = pd.DataFrame(columns=X_outlier.columns), pd.Series(dtype='int64')\n",
    "    X_outlier_test, y_outlier_test = X_outlier.copy(), y_outlier.copy()"
   ]
  },
  {
   "cell_type": "code",
   "execution_count": 19,
   "id": "c34363db",
   "metadata": {
    "execution": {
     "iopub.execute_input": "2021-04-04T23:20:48.281780Z",
     "iopub.status.busy": "2021-04-04T23:20:48.280893Z",
     "iopub.status.idle": "2021-04-04T23:20:48.282879Z",
     "shell.execute_reply": "2021-04-04T23:20:48.283346Z"
    },
    "papermill": {
     "duration": 0.035994,
     "end_time": "2021-04-04T23:20:48.283491",
     "exception": false,
     "start_time": "2021-04-04T23:20:48.247497",
     "status": "completed"
    },
    "tags": []
   },
   "outputs": [],
   "source": [
    "X_train, y_train = pd.concat([X_inlier_train, X_outlier_train], ignore_index=True), pd.concat([y_inlier_train, y_outlier_train], ignore_index=True)\n",
    "X_test, y_test = pd.concat([X_inlier_test, X_outlier_test], ignore_index=True), pd.concat([y_inlier_test, y_outlier_test], ignore_index=True)"
   ]
  },
  {
   "cell_type": "markdown",
   "id": "7cde7309",
   "metadata": {
    "papermill": {
     "duration": 0.027141,
     "end_time": "2021-04-04T23:20:48.338263",
     "exception": false,
     "start_time": "2021-04-04T23:20:48.311122",
     "status": "completed"
    },
    "tags": []
   },
   "source": [
    "# Model"
   ]
  },
  {
   "cell_type": "code",
   "execution_count": 20,
   "id": "2b12a415",
   "metadata": {
    "execution": {
     "iopub.execute_input": "2021-04-04T23:20:48.413059Z",
     "iopub.status.busy": "2021-04-04T23:20:48.412177Z",
     "iopub.status.idle": "2021-04-04T23:20:48.416059Z",
     "shell.execute_reply": "2021-04-04T23:20:48.417617Z"
    },
    "papermill": {
     "duration": 0.04589,
     "end_time": "2021-04-04T23:20:48.417838",
     "exception": false,
     "start_time": "2021-04-04T23:20:48.371948",
     "status": "completed"
    },
    "tags": []
   },
   "outputs": [],
   "source": [
    "from math import sqrt\n",
    "\n",
    "\n",
    "class KNNDataDescription:\n",
    "    def __init__(self, k=5, outlier_threshold=1.0):\n",
    "        self.k = k\n",
    "        self.outlier_threshold = outlier_threshold\n",
    "        self.X = []\n",
    "    \n",
    "    def fit(self, X):\n",
    "        self.X = [features.to_list() for index, features in X.iterrows()]\n",
    "\n",
    "    def predict(self, entries):\n",
    "        return [self.predict_entry(features.to_list()) for index, features in entries.iterrows()]\n",
    "    \n",
    "    def predict_entry(self, entry):\n",
    "        kth_neighbor, kth_distance = self.get_kth_neighbor(entry, self.k)\n",
    "        kth_kth_neighbor, kth_kth_distance = self.get_kth_neighbor(kth_neighbor, self.k + 1)\n",
    "\n",
    "        outlier_score = kth_distance / (kth_kth_distance + 0.000001)\n",
    "\n",
    "        return 1 if outlier_score < self.outlier_threshold else -1\n",
    "        \n",
    "    def euclidean_distance(self, features1, features2):\n",
    "        distance = 0.0\n",
    "        for feat1, feat2 in zip(features1, features2):\n",
    "            distance += (feat1 - feat2)**2\n",
    "                \n",
    "        return sqrt(distance)\n",
    "\n",
    "    def get_neighbors(self, entry, k):\n",
    "        distance_to_data_points = [\n",
    "            (data_point, self.euclidean_distance(entry, data_point))\n",
    "            for data_point in self.X\n",
    "        ]\n",
    "        sorted_by_distance = sorted(distance_to_data_points, key=lambda tup: tup[1])\n",
    "        neighbors = sorted_by_distance[:k]\n",
    "        return neighbors\n",
    "\n",
    "    def get_kth_neighbor(self, entry, k):\n",
    "        neighbors = self.get_neighbors(entry, k)\n",
    "        return neighbors[-1]\n"
   ]
  },
  {
   "cell_type": "code",
   "execution_count": 21,
   "id": "1fa9ec1c",
   "metadata": {
    "execution": {
     "iopub.execute_input": "2021-04-04T23:20:48.475812Z",
     "iopub.status.busy": "2021-04-04T23:20:48.474810Z",
     "iopub.status.idle": "2021-04-04T23:20:48.496349Z",
     "shell.execute_reply": "2021-04-04T23:20:48.498001Z"
    },
    "papermill": {
     "duration": 0.055508,
     "end_time": "2021-04-04T23:20:48.498447",
     "exception": false,
     "start_time": "2021-04-04T23:20:48.442939",
     "status": "completed"
    },
    "tags": []
   },
   "outputs": [],
   "source": [
    "from sklearn.svm import OneClassSVM\n",
    "\n",
    "\n",
    "models = {\n",
    "    'oneclasssvm': OneClassSVM,\n",
    "    'knndatadescription': KNNDataDescription,\n",
    "}"
   ]
  },
  {
   "cell_type": "code",
   "execution_count": 22,
   "id": "4d72a0b1",
   "metadata": {
    "execution": {
     "iopub.execute_input": "2021-04-04T23:20:48.556548Z",
     "iopub.status.busy": "2021-04-04T23:20:48.555632Z",
     "iopub.status.idle": "2021-04-04T23:20:48.558255Z",
     "shell.execute_reply": "2021-04-04T23:20:48.557630Z"
    },
    "papermill": {
     "duration": 0.031098,
     "end_time": "2021-04-04T23:20:48.558408",
     "exception": false,
     "start_time": "2021-04-04T23:20:48.527310",
     "status": "completed"
    },
    "scrolled": true,
    "tags": []
   },
   "outputs": [],
   "source": [
    "model_cls = models[model_config['model_type']]\n",
    "model = model_cls(**model_config['hyperparameters'])"
   ]
  },
  {
   "cell_type": "markdown",
   "id": "e00cff3b",
   "metadata": {
    "papermill": {
     "duration": 0.03092,
     "end_time": "2021-04-04T23:20:48.615103",
     "exception": false,
     "start_time": "2021-04-04T23:20:48.584183",
     "status": "completed"
    },
    "tags": []
   },
   "source": [
    "# Fit"
   ]
  },
  {
   "cell_type": "code",
   "execution_count": 23,
   "id": "8b2ded89",
   "metadata": {
    "execution": {
     "iopub.execute_input": "2021-04-04T23:20:48.673258Z",
     "iopub.status.busy": "2021-04-04T23:20:48.669162Z",
     "iopub.status.idle": "2021-04-04T23:20:48.683322Z",
     "shell.execute_reply": "2021-04-04T23:20:48.682065Z"
    },
    "papermill": {
     "duration": 0.042682,
     "end_time": "2021-04-04T23:20:48.683633",
     "exception": false,
     "start_time": "2021-04-04T23:20:48.640951",
     "status": "completed"
    },
    "tags": []
   },
   "outputs": [
    {
     "data": {
      "text/plain": [
       "OneClassSVM()"
      ]
     },
     "execution_count": 23,
     "metadata": {},
     "output_type": "execute_result"
    }
   ],
   "source": [
    "model.fit(X_train)"
   ]
  },
  {
   "cell_type": "markdown",
   "id": "f99999f7",
   "metadata": {
    "papermill": {
     "duration": 0.027514,
     "end_time": "2021-04-04T23:20:48.735558",
     "exception": false,
     "start_time": "2021-04-04T23:20:48.708044",
     "status": "completed"
    },
    "tags": []
   },
   "source": [
    "# Predict"
   ]
  },
  {
   "cell_type": "code",
   "execution_count": 24,
   "id": "6536fbf7",
   "metadata": {
    "execution": {
     "iopub.execute_input": "2021-04-04T23:20:48.794115Z",
     "iopub.status.busy": "2021-04-04T23:20:48.792110Z",
     "iopub.status.idle": "2021-04-04T23:20:48.798363Z",
     "shell.execute_reply": "2021-04-04T23:20:48.798837Z"
    },
    "papermill": {
     "duration": 0.036116,
     "end_time": "2021-04-04T23:20:48.798985",
     "exception": false,
     "start_time": "2021-04-04T23:20:48.762869",
     "status": "completed"
    },
    "tags": []
   },
   "outputs": [],
   "source": [
    "predictions = model.predict(X_test)"
   ]
  },
  {
   "cell_type": "markdown",
   "id": "aa1c9881",
   "metadata": {
    "papermill": {
     "duration": 0.030859,
     "end_time": "2021-04-04T23:20:48.856882",
     "exception": false,
     "start_time": "2021-04-04T23:20:48.826023",
     "status": "completed"
    },
    "tags": []
   },
   "source": [
    "# Evaluate"
   ]
  },
  {
   "cell_type": "code",
   "execution_count": 25,
   "id": "894f0f04",
   "metadata": {
    "execution": {
     "iopub.execute_input": "2021-04-04T23:20:48.915029Z",
     "iopub.status.busy": "2021-04-04T23:20:48.914339Z",
     "iopub.status.idle": "2021-04-04T23:20:48.916608Z",
     "shell.execute_reply": "2021-04-04T23:20:48.917234Z"
    },
    "papermill": {
     "duration": 0.031245,
     "end_time": "2021-04-04T23:20:48.917421",
     "exception": false,
     "start_time": "2021-04-04T23:20:48.886176",
     "status": "completed"
    },
    "tags": []
   },
   "outputs": [],
   "source": [
    "from sklearn.metrics import f1_score"
   ]
  },
  {
   "cell_type": "code",
   "execution_count": 26,
   "id": "211744d3",
   "metadata": {
    "execution": {
     "iopub.execute_input": "2021-04-04T23:20:48.982038Z",
     "iopub.status.busy": "2021-04-04T23:20:48.981134Z",
     "iopub.status.idle": "2021-04-04T23:20:48.984207Z",
     "shell.execute_reply": "2021-04-04T23:20:48.983503Z"
    },
    "papermill": {
     "duration": 0.040181,
     "end_time": "2021-04-04T23:20:48.984349",
     "exception": false,
     "start_time": "2021-04-04T23:20:48.944168",
     "status": "completed"
    },
    "tags": []
   },
   "outputs": [],
   "source": [
    "y_test = y_test.replace([0, 1], [1, -1])"
   ]
  },
  {
   "cell_type": "code",
   "execution_count": 27,
   "id": "d68a9204",
   "metadata": {
    "execution": {
     "iopub.execute_input": "2021-04-04T23:20:49.045222Z",
     "iopub.status.busy": "2021-04-04T23:20:49.044489Z",
     "iopub.status.idle": "2021-04-04T23:20:49.046293Z",
     "shell.execute_reply": "2021-04-04T23:20:49.046789Z"
    },
    "papermill": {
     "duration": 0.037707,
     "end_time": "2021-04-04T23:20:49.046937",
     "exception": false,
     "start_time": "2021-04-04T23:20:49.009230",
     "status": "completed"
    },
    "tags": []
   },
   "outputs": [],
   "source": [
    "def evaluate(truths, predictions, pos_label, neg_label):\n",
    "    TP = 0\n",
    "    FP = 0\n",
    "    TN = 0\n",
    "    FN = 0\n",
    "\n",
    "    for truth, pred in zip(truths, predictions): \n",
    "        if truth == pred == pos_label:\n",
    "           TP += 1\n",
    "        elif pred == pos_label and truth == neg_label:\n",
    "           FP += 1\n",
    "        elif truth == pred == neg_label:\n",
    "           TN += 1\n",
    "        elif pred == neg_label and truth == pos_label:\n",
    "           FN += 1\n",
    "\n",
    "    precision = TP / (TP + FP)\n",
    "    sensitivity = TP / (TP + FN)\n",
    "    \n",
    "    return {\n",
    "        'true_pos': TP,\n",
    "        'false_pos': FP,\n",
    "        'false_neg': FN,\n",
    "        'true_neg': TN,\n",
    "        'precision': precision,\n",
    "        'sensitivity': sensitivity,\n",
    "        'f1': (2 * (precision * sensitivity)) / (precision + sensitivity)\n",
    "    }\n",
    "\n",
    "score = evaluate(y_test, predictions, pos_label=-1, neg_label=1)"
   ]
  },
  {
   "cell_type": "markdown",
   "id": "93596516",
   "metadata": {
    "papermill": {
     "duration": 0.032282,
     "end_time": "2021-04-04T23:20:49.105390",
     "exception": false,
     "start_time": "2021-04-04T23:20:49.073108",
     "status": "completed"
    },
    "tags": []
   },
   "source": [
    "# Report"
   ]
  },
  {
   "cell_type": "code",
   "execution_count": 28,
   "id": "bea5fba1",
   "metadata": {
    "execution": {
     "iopub.execute_input": "2021-04-04T23:20:49.168296Z",
     "iopub.status.busy": "2021-04-04T23:20:49.167578Z",
     "iopub.status.idle": "2021-04-04T23:20:49.170441Z",
     "shell.execute_reply": "2021-04-04T23:20:49.169836Z"
    },
    "papermill": {
     "duration": 0.034981,
     "end_time": "2021-04-04T23:20:49.170570",
     "exception": false,
     "start_time": "2021-04-04T23:20:49.135589",
     "status": "completed"
    },
    "tags": []
   },
   "outputs": [],
   "source": [
    "import csv\n",
    "\n",
    "\n",
    "dataset_config_name = DATASET_CONFIG_PATH.split('/')[-1].split('.')[0]\n",
    "model_config_name = MODEL_CONFIG_PATH.split('/')[-1].split('.')[0]\n",
    "configuration = f\"dataset_{dataset_config_name}-model_{model_config_name}\"\n",
    "\n",
    "with open('results.csv', 'a') as f:\n",
    "    report = dict({'configuration': configuration}, **score)\n",
    "    writer = csv.DictWriter(f, report.keys())\n",
    "    writer.writerow(report)"
   ]
  }
 ],
 "metadata": {
  "celltoolbar": "Tags",
  "kernelspec": {
   "display_name": "Python 3",
   "language": "python",
   "name": "python3"
  },
  "language_info": {
   "codemirror_mode": {
    "name": "ipython",
    "version": 3
   },
   "file_extension": ".py",
   "mimetype": "text/x-python",
   "name": "python",
   "nbconvert_exporter": "python",
   "pygments_lexer": "ipython3",
   "version": "3.9.1"
  },
  "papermill": {
   "default_parameters": {},
   "duration": 5.66095,
   "end_time": "2021-04-04T23:20:49.908178",
   "environment_variables": {},
   "exception": null,
   "input_path": "main.ipynb",
   "output_path": "runs/dataset_000120-model_000004.ipynb",
   "parameters": {
    "DATASET_CONFIG_PATH": "config/dataset/000120.json",
    "MODEL_CONFIG_PATH": "config/model/000004.json",
    "PROFILE_REPORTING": false
   },
   "start_time": "2021-04-04T23:20:44.247228",
   "version": "2.3.3"
  }
 },
 "nbformat": 4,
 "nbformat_minor": 5
}