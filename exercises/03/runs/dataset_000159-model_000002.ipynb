{
 "cells": [
  {
   "cell_type": "markdown",
   "id": "51c71c25",
   "metadata": {
    "papermill": {
     "duration": 0.020195,
     "end_time": "2021-04-04T23:37:30.238790",
     "exception": false,
     "start_time": "2021-04-04T23:37:30.218595",
     "status": "completed"
    },
    "tags": []
   },
   "source": [
    "# Parametrizing"
   ]
  },
  {
   "cell_type": "code",
   "execution_count": 1,
   "id": "3b136394",
   "metadata": {
    "execution": {
     "iopub.execute_input": "2021-04-04T23:37:30.321217Z",
     "iopub.status.busy": "2021-04-04T23:37:30.319543Z",
     "iopub.status.idle": "2021-04-04T23:37:30.323069Z",
     "shell.execute_reply": "2021-04-04T23:37:30.322410Z"
    },
    "papermill": {
     "duration": 0.055,
     "end_time": "2021-04-04T23:37:30.323214",
     "exception": false,
     "start_time": "2021-04-04T23:37:30.268214",
     "status": "completed"
    },
    "tags": [
     "parameters"
    ]
   },
   "outputs": [],
   "source": [
    "DATASET_CONFIG_PATH = 'config/dataset/kc1_001.json'\n",
    "MODEL_CONFIG_PATH = 'config/model/knndd_001.json'\n",
    "PROFILE_REPORTING = False"
   ]
  },
  {
   "cell_type": "code",
   "execution_count": 2,
   "id": "95b0c7ee",
   "metadata": {
    "execution": {
     "iopub.execute_input": "2021-04-04T23:37:30.404101Z",
     "iopub.status.busy": "2021-04-04T23:37:30.402342Z",
     "iopub.status.idle": "2021-04-04T23:37:30.405343Z",
     "shell.execute_reply": "2021-04-04T23:37:30.404817Z"
    },
    "papermill": {
     "duration": 0.051741,
     "end_time": "2021-04-04T23:37:30.405485",
     "exception": false,
     "start_time": "2021-04-04T23:37:30.353744",
     "status": "completed"
    },
    "tags": [
     "injected-parameters"
    ]
   },
   "outputs": [],
   "source": [
    "# Parameters\n",
    "DATASET_CONFIG_PATH = \"config/dataset/000159.json\"\n",
    "MODEL_CONFIG_PATH = \"config/model/000002.json\"\n",
    "PROFILE_REPORTING = False\n"
   ]
  },
  {
   "cell_type": "code",
   "execution_count": 3,
   "id": "b80f2a10",
   "metadata": {
    "execution": {
     "iopub.execute_input": "2021-04-04T23:37:30.469325Z",
     "iopub.status.busy": "2021-04-04T23:37:30.468459Z",
     "iopub.status.idle": "2021-04-04T23:37:30.473404Z",
     "shell.execute_reply": "2021-04-04T23:37:30.474585Z"
    },
    "papermill": {
     "duration": 0.040913,
     "end_time": "2021-04-04T23:37:30.474795",
     "exception": false,
     "start_time": "2021-04-04T23:37:30.433882",
     "status": "completed"
    },
    "tags": []
   },
   "outputs": [],
   "source": [
    "import json\n",
    "\n",
    "\n",
    "with open(DATASET_CONFIG_PATH) as f:\n",
    "    dataset_config = json.load(f)\n",
    "\n",
    "with open(MODEL_CONFIG_PATH) as f:\n",
    "    model_config = json.load(f)"
   ]
  },
  {
   "cell_type": "markdown",
   "id": "9a4b0e2d",
   "metadata": {
    "papermill": {
     "duration": 0.023594,
     "end_time": "2021-04-04T23:37:30.519782",
     "exception": false,
     "start_time": "2021-04-04T23:37:30.496188",
     "status": "completed"
    },
    "tags": []
   },
   "source": [
    "# Profiling"
   ]
  },
  {
   "cell_type": "code",
   "execution_count": 4,
   "id": "a3e0289b",
   "metadata": {
    "execution": {
     "iopub.execute_input": "2021-04-04T23:37:30.576614Z",
     "iopub.status.busy": "2021-04-04T23:37:30.575463Z",
     "iopub.status.idle": "2021-04-04T23:37:32.063666Z",
     "shell.execute_reply": "2021-04-04T23:37:32.062750Z"
    },
    "papermill": {
     "duration": 1.523089,
     "end_time": "2021-04-04T23:37:32.063842",
     "exception": false,
     "start_time": "2021-04-04T23:37:30.540753",
     "status": "completed"
    },
    "tags": []
   },
   "outputs": [],
   "source": [
    "import pandas as pd\n",
    "from pandas_profiling import ProfileReport"
   ]
  },
  {
   "cell_type": "code",
   "execution_count": 5,
   "id": "ee6c0666",
   "metadata": {
    "execution": {
     "iopub.execute_input": "2021-04-04T23:37:32.116872Z",
     "iopub.status.busy": "2021-04-04T23:37:32.115702Z",
     "iopub.status.idle": "2021-04-04T23:37:32.127937Z",
     "shell.execute_reply": "2021-04-04T23:37:32.128579Z"
    },
    "papermill": {
     "duration": 0.03941,
     "end_time": "2021-04-04T23:37:32.128769",
     "exception": false,
     "start_time": "2021-04-04T23:37:32.089359",
     "status": "completed"
    },
    "tags": []
   },
   "outputs": [],
   "source": [
    "df = pd.read_csv(dataset_config['dataset_path'])"
   ]
  },
  {
   "cell_type": "code",
   "execution_count": 6,
   "id": "7eca6c4a",
   "metadata": {
    "execution": {
     "iopub.execute_input": "2021-04-04T23:37:32.203807Z",
     "iopub.status.busy": "2021-04-04T23:37:32.188618Z",
     "iopub.status.idle": "2021-04-04T23:37:32.206813Z",
     "shell.execute_reply": "2021-04-04T23:37:32.206287Z"
    },
    "papermill": {
     "duration": 0.049257,
     "end_time": "2021-04-04T23:37:32.206934",
     "exception": false,
     "start_time": "2021-04-04T23:37:32.157677",
     "status": "completed"
    },
    "tags": []
   },
   "outputs": [
    {
     "name": "stdout",
     "output_type": "stream",
     "text": [
      "<class 'pandas.core.frame.DataFrame'>\n",
      "RangeIndex: 498 entries, 0 to 497\n",
      "Data columns (total 23 columns):\n",
      " #   Column             Non-Null Count  Dtype  \n",
      "---  ------             --------------  -----  \n",
      " 0   id                 498 non-null    int64  \n",
      " 1   loc                498 non-null    float64\n",
      " 2   v(g)               498 non-null    float64\n",
      " 3   ev(g)              498 non-null    float64\n",
      " 4   iv(g)              498 non-null    float64\n",
      " 5   n                  498 non-null    float64\n",
      " 6   v                  498 non-null    float64\n",
      " 7   l                  498 non-null    float64\n",
      " 8   d                  498 non-null    float64\n",
      " 9   i                  498 non-null    float64\n",
      " 10  e                  498 non-null    float64\n",
      " 11  b                  498 non-null    float64\n",
      " 12  t                  498 non-null    float64\n",
      " 13  lOCode             498 non-null    int64  \n",
      " 14  lOComment          498 non-null    int64  \n",
      " 15  lOBlank            498 non-null    int64  \n",
      " 16  locCodeAndComment  498 non-null    int64  \n",
      " 17  uniq_Op            498 non-null    float64\n",
      " 18  uniq_Opnd          498 non-null    float64\n",
      " 19  total_Op           498 non-null    float64\n",
      " 20  total_Opnd         498 non-null    float64\n",
      " 21  branchCount        498 non-null    float64\n",
      " 22  defects            498 non-null    bool   \n",
      "dtypes: bool(1), float64(17), int64(5)\n",
      "memory usage: 86.2 KB\n"
     ]
    }
   ],
   "source": [
    "df.info()"
   ]
  },
  {
   "cell_type": "code",
   "execution_count": 7,
   "id": "3638e5e8",
   "metadata": {
    "execution": {
     "iopub.execute_input": "2021-04-04T23:37:32.264427Z",
     "iopub.status.busy": "2021-04-04T23:37:32.263360Z",
     "iopub.status.idle": "2021-04-04T23:37:32.298364Z",
     "shell.execute_reply": "2021-04-04T23:37:32.298907Z"
    },
    "papermill": {
     "duration": 0.068441,
     "end_time": "2021-04-04T23:37:32.299053",
     "exception": false,
     "start_time": "2021-04-04T23:37:32.230612",
     "status": "completed"
    },
    "tags": []
   },
   "outputs": [
    {
     "data": {
      "text/html": [
       "<div>\n",
       "<style scoped>\n",
       "    .dataframe tbody tr th:only-of-type {\n",
       "        vertical-align: middle;\n",
       "    }\n",
       "\n",
       "    .dataframe tbody tr th {\n",
       "        vertical-align: top;\n",
       "    }\n",
       "\n",
       "    .dataframe thead th {\n",
       "        text-align: right;\n",
       "    }\n",
       "</style>\n",
       "<table border=\"1\" class=\"dataframe\">\n",
       "  <thead>\n",
       "    <tr style=\"text-align: right;\">\n",
       "      <th></th>\n",
       "      <th>id</th>\n",
       "      <th>loc</th>\n",
       "      <th>v(g)</th>\n",
       "      <th>ev(g)</th>\n",
       "      <th>iv(g)</th>\n",
       "      <th>n</th>\n",
       "      <th>v</th>\n",
       "      <th>l</th>\n",
       "      <th>d</th>\n",
       "      <th>i</th>\n",
       "      <th>...</th>\n",
       "      <th>lOCode</th>\n",
       "      <th>lOComment</th>\n",
       "      <th>lOBlank</th>\n",
       "      <th>locCodeAndComment</th>\n",
       "      <th>uniq_Op</th>\n",
       "      <th>uniq_Opnd</th>\n",
       "      <th>total_Op</th>\n",
       "      <th>total_Opnd</th>\n",
       "      <th>branchCount</th>\n",
       "      <th>defects</th>\n",
       "    </tr>\n",
       "  </thead>\n",
       "  <tbody>\n",
       "    <tr>\n",
       "      <th>0</th>\n",
       "      <td>1</td>\n",
       "      <td>1.1</td>\n",
       "      <td>1.4</td>\n",
       "      <td>1.4</td>\n",
       "      <td>1.4</td>\n",
       "      <td>1.3</td>\n",
       "      <td>1.30</td>\n",
       "      <td>1.30</td>\n",
       "      <td>1.30</td>\n",
       "      <td>1.30</td>\n",
       "      <td>...</td>\n",
       "      <td>2</td>\n",
       "      <td>2</td>\n",
       "      <td>2</td>\n",
       "      <td>2</td>\n",
       "      <td>1.2</td>\n",
       "      <td>1.2</td>\n",
       "      <td>1.2</td>\n",
       "      <td>1.2</td>\n",
       "      <td>1.4</td>\n",
       "      <td>False</td>\n",
       "    </tr>\n",
       "    <tr>\n",
       "      <th>1</th>\n",
       "      <td>2</td>\n",
       "      <td>1.0</td>\n",
       "      <td>1.0</td>\n",
       "      <td>1.0</td>\n",
       "      <td>1.0</td>\n",
       "      <td>1.0</td>\n",
       "      <td>1.00</td>\n",
       "      <td>1.00</td>\n",
       "      <td>1.00</td>\n",
       "      <td>1.00</td>\n",
       "      <td>...</td>\n",
       "      <td>1</td>\n",
       "      <td>1</td>\n",
       "      <td>1</td>\n",
       "      <td>1</td>\n",
       "      <td>1.0</td>\n",
       "      <td>1.0</td>\n",
       "      <td>1.0</td>\n",
       "      <td>1.0</td>\n",
       "      <td>1.0</td>\n",
       "      <td>True</td>\n",
       "    </tr>\n",
       "    <tr>\n",
       "      <th>2</th>\n",
       "      <td>3</td>\n",
       "      <td>24.0</td>\n",
       "      <td>5.0</td>\n",
       "      <td>1.0</td>\n",
       "      <td>3.0</td>\n",
       "      <td>63.0</td>\n",
       "      <td>309.13</td>\n",
       "      <td>0.11</td>\n",
       "      <td>9.50</td>\n",
       "      <td>32.54</td>\n",
       "      <td>...</td>\n",
       "      <td>1</td>\n",
       "      <td>0</td>\n",
       "      <td>6</td>\n",
       "      <td>0</td>\n",
       "      <td>15.0</td>\n",
       "      <td>15.0</td>\n",
       "      <td>44.0</td>\n",
       "      <td>19.0</td>\n",
       "      <td>9.0</td>\n",
       "      <td>False</td>\n",
       "    </tr>\n",
       "    <tr>\n",
       "      <th>3</th>\n",
       "      <td>4</td>\n",
       "      <td>20.0</td>\n",
       "      <td>4.0</td>\n",
       "      <td>4.0</td>\n",
       "      <td>2.0</td>\n",
       "      <td>47.0</td>\n",
       "      <td>215.49</td>\n",
       "      <td>0.06</td>\n",
       "      <td>16.00</td>\n",
       "      <td>13.47</td>\n",
       "      <td>...</td>\n",
       "      <td>0</td>\n",
       "      <td>0</td>\n",
       "      <td>3</td>\n",
       "      <td>0</td>\n",
       "      <td>16.0</td>\n",
       "      <td>8.0</td>\n",
       "      <td>31.0</td>\n",
       "      <td>16.0</td>\n",
       "      <td>7.0</td>\n",
       "      <td>False</td>\n",
       "    </tr>\n",
       "    <tr>\n",
       "      <th>4</th>\n",
       "      <td>5</td>\n",
       "      <td>24.0</td>\n",
       "      <td>6.0</td>\n",
       "      <td>6.0</td>\n",
       "      <td>2.0</td>\n",
       "      <td>72.0</td>\n",
       "      <td>346.13</td>\n",
       "      <td>0.06</td>\n",
       "      <td>17.33</td>\n",
       "      <td>19.97</td>\n",
       "      <td>...</td>\n",
       "      <td>0</td>\n",
       "      <td>0</td>\n",
       "      <td>3</td>\n",
       "      <td>0</td>\n",
       "      <td>16.0</td>\n",
       "      <td>12.0</td>\n",
       "      <td>46.0</td>\n",
       "      <td>26.0</td>\n",
       "      <td>11.0</td>\n",
       "      <td>False</td>\n",
       "    </tr>\n",
       "  </tbody>\n",
       "</table>\n",
       "<p>5 rows × 23 columns</p>\n",
       "</div>"
      ],
      "text/plain": [
       "   id   loc  v(g)  ev(g)  iv(g)     n       v     l      d      i  ...  \\\n",
       "0   1   1.1   1.4    1.4    1.4   1.3    1.30  1.30   1.30   1.30  ...   \n",
       "1   2   1.0   1.0    1.0    1.0   1.0    1.00  1.00   1.00   1.00  ...   \n",
       "2   3  24.0   5.0    1.0    3.0  63.0  309.13  0.11   9.50  32.54  ...   \n",
       "3   4  20.0   4.0    4.0    2.0  47.0  215.49  0.06  16.00  13.47  ...   \n",
       "4   5  24.0   6.0    6.0    2.0  72.0  346.13  0.06  17.33  19.97  ...   \n",
       "\n",
       "   lOCode  lOComment  lOBlank  locCodeAndComment  uniq_Op  uniq_Opnd  \\\n",
       "0       2          2        2                  2      1.2        1.2   \n",
       "1       1          1        1                  1      1.0        1.0   \n",
       "2       1          0        6                  0     15.0       15.0   \n",
       "3       0          0        3                  0     16.0        8.0   \n",
       "4       0          0        3                  0     16.0       12.0   \n",
       "\n",
       "   total_Op  total_Opnd  branchCount  defects  \n",
       "0       1.2         1.2          1.4    False  \n",
       "1       1.0         1.0          1.0     True  \n",
       "2      44.0        19.0          9.0    False  \n",
       "3      31.0        16.0          7.0    False  \n",
       "4      46.0        26.0         11.0    False  \n",
       "\n",
       "[5 rows x 23 columns]"
      ]
     },
     "execution_count": 7,
     "metadata": {},
     "output_type": "execute_result"
    }
   ],
   "source": [
    "df.head()"
   ]
  },
  {
   "cell_type": "code",
   "execution_count": 8,
   "id": "733e95eb",
   "metadata": {
    "execution": {
     "iopub.execute_input": "2021-04-04T23:37:32.365184Z",
     "iopub.status.busy": "2021-04-04T23:37:32.363812Z",
     "iopub.status.idle": "2021-04-04T23:37:32.365999Z",
     "shell.execute_reply": "2021-04-04T23:37:32.364450Z"
    },
    "papermill": {
     "duration": 0.045196,
     "end_time": "2021-04-04T23:37:32.366291",
     "exception": false,
     "start_time": "2021-04-04T23:37:32.321095",
     "status": "completed"
    },
    "tags": []
   },
   "outputs": [],
   "source": [
    "del df['id']"
   ]
  },
  {
   "cell_type": "code",
   "execution_count": 9,
   "id": "6ff6f5b0",
   "metadata": {
    "execution": {
     "iopub.execute_input": "2021-04-04T23:37:32.439782Z",
     "iopub.status.busy": "2021-04-04T23:37:32.439191Z",
     "iopub.status.idle": "2021-04-04T23:37:32.441079Z",
     "shell.execute_reply": "2021-04-04T23:37:32.441537Z"
    },
    "papermill": {
     "duration": 0.034294,
     "end_time": "2021-04-04T23:37:32.441679",
     "exception": false,
     "start_time": "2021-04-04T23:37:32.407385",
     "status": "completed"
    },
    "tags": []
   },
   "outputs": [],
   "source": [
    "if PROFILE_REPORTING:\n",
    "    ProfileReport(df).to_widgets()"
   ]
  },
  {
   "cell_type": "markdown",
   "id": "1deaf3f0",
   "metadata": {
    "papermill": {
     "duration": 0.026175,
     "end_time": "2021-04-04T23:37:32.490052",
     "exception": false,
     "start_time": "2021-04-04T23:37:32.463877",
     "status": "completed"
    },
    "tags": []
   },
   "source": [
    "# Preprocess"
   ]
  },
  {
   "cell_type": "code",
   "execution_count": 10,
   "id": "1513e563",
   "metadata": {
    "execution": {
     "iopub.execute_input": "2021-04-04T23:37:32.543106Z",
     "iopub.status.busy": "2021-04-04T23:37:32.541480Z",
     "iopub.status.idle": "2021-04-04T23:37:32.545483Z",
     "shell.execute_reply": "2021-04-04T23:37:32.546045Z"
    },
    "papermill": {
     "duration": 0.033151,
     "end_time": "2021-04-04T23:37:32.546308",
     "exception": false,
     "start_time": "2021-04-04T23:37:32.513157",
     "status": "completed"
    },
    "tags": []
   },
   "outputs": [],
   "source": [
    "working_df = df.copy()"
   ]
  },
  {
   "cell_type": "code",
   "execution_count": 11,
   "id": "3b26d675",
   "metadata": {
    "execution": {
     "iopub.execute_input": "2021-04-04T23:37:32.605199Z",
     "iopub.status.busy": "2021-04-04T23:37:32.604328Z",
     "iopub.status.idle": "2021-04-04T23:37:32.607187Z",
     "shell.execute_reply": "2021-04-04T23:37:32.606528Z"
    },
    "papermill": {
     "duration": 0.038871,
     "end_time": "2021-04-04T23:37:32.607329",
     "exception": false,
     "start_time": "2021-04-04T23:37:32.568458",
     "status": "completed"
    },
    "tags": []
   },
   "outputs": [],
   "source": [
    "working_df['defects'] = working_df['defects'].replace([False, True], [0, 1])"
   ]
  },
  {
   "cell_type": "code",
   "execution_count": 12,
   "id": "eb48604f",
   "metadata": {
    "execution": {
     "iopub.execute_input": "2021-04-04T23:37:32.660767Z",
     "iopub.status.busy": "2021-04-04T23:37:32.658860Z",
     "iopub.status.idle": "2021-04-04T23:37:32.662795Z",
     "shell.execute_reply": "2021-04-04T23:37:32.663462Z"
    },
    "papermill": {
     "duration": 0.034182,
     "end_time": "2021-04-04T23:37:32.663689",
     "exception": false,
     "start_time": "2021-04-04T23:37:32.629507",
     "status": "completed"
    },
    "tags": []
   },
   "outputs": [],
   "source": [
    "for col in dataset_config['delete_columns']:\n",
    "    del working_df[col]"
   ]
  },
  {
   "cell_type": "code",
   "execution_count": 13,
   "id": "9a17bc29",
   "metadata": {
    "execution": {
     "iopub.execute_input": "2021-04-04T23:37:32.723243Z",
     "iopub.status.busy": "2021-04-04T23:37:32.722630Z",
     "iopub.status.idle": "2021-04-04T23:37:32.729789Z",
     "shell.execute_reply": "2021-04-04T23:37:32.729269Z"
    },
    "papermill": {
     "duration": 0.040958,
     "end_time": "2021-04-04T23:37:32.729910",
     "exception": false,
     "start_time": "2021-04-04T23:37:32.688952",
     "status": "completed"
    },
    "tags": []
   },
   "outputs": [],
   "source": [
    "working_df = working_df.drop_duplicates()"
   ]
  },
  {
   "cell_type": "markdown",
   "id": "a4d52ca6",
   "metadata": {
    "papermill": {
     "duration": 0.023318,
     "end_time": "2021-04-04T23:37:32.780095",
     "exception": false,
     "start_time": "2021-04-04T23:37:32.756777",
     "status": "completed"
    },
    "tags": []
   },
   "source": [
    "# Split"
   ]
  },
  {
   "cell_type": "code",
   "execution_count": 14,
   "id": "3e9ee4b5",
   "metadata": {
    "execution": {
     "iopub.execute_input": "2021-04-04T23:37:32.858731Z",
     "iopub.status.busy": "2021-04-04T23:37:32.854940Z",
     "iopub.status.idle": "2021-04-04T23:37:32.917465Z",
     "shell.execute_reply": "2021-04-04T23:37:32.918765Z"
    },
    "papermill": {
     "duration": 0.10415,
     "end_time": "2021-04-04T23:37:32.919076",
     "exception": false,
     "start_time": "2021-04-04T23:37:32.814926",
     "status": "completed"
    },
    "tags": []
   },
   "outputs": [],
   "source": [
    "from sklearn.model_selection import train_test_split"
   ]
  },
  {
   "cell_type": "code",
   "execution_count": 15,
   "id": "274004ce",
   "metadata": {
    "execution": {
     "iopub.execute_input": "2021-04-04T23:37:32.972781Z",
     "iopub.status.busy": "2021-04-04T23:37:32.972169Z",
     "iopub.status.idle": "2021-04-04T23:37:32.976350Z",
     "shell.execute_reply": "2021-04-04T23:37:32.976839Z"
    },
    "papermill": {
     "duration": 0.032901,
     "end_time": "2021-04-04T23:37:32.976985",
     "exception": false,
     "start_time": "2021-04-04T23:37:32.944084",
     "status": "completed"
    },
    "scrolled": true,
    "tags": []
   },
   "outputs": [],
   "source": [
    "inlier, outlier = working_df[working_df['defects'] == 0], working_df[working_df['defects'] == 1]"
   ]
  },
  {
   "cell_type": "code",
   "execution_count": 16,
   "id": "753c7b03",
   "metadata": {
    "execution": {
     "iopub.execute_input": "2021-04-04T23:37:33.073868Z",
     "iopub.status.busy": "2021-04-04T23:37:33.071028Z",
     "iopub.status.idle": "2021-04-04T23:37:33.076960Z",
     "shell.execute_reply": "2021-04-04T23:37:33.078486Z"
    },
    "papermill": {
     "duration": 0.067213,
     "end_time": "2021-04-04T23:37:33.078780",
     "exception": false,
     "start_time": "2021-04-04T23:37:33.011567",
     "status": "completed"
    },
    "tags": []
   },
   "outputs": [],
   "source": [
    "X_inlier = inlier.copy()\n",
    "y_inlier = X_inlier.pop('defects')\n",
    "X_outlier = outlier.copy()\n",
    "y_outlier = X_outlier.pop('defects')"
   ]
  },
  {
   "cell_type": "code",
   "execution_count": 17,
   "id": "2ba43193",
   "metadata": {
    "execution": {
     "iopub.execute_input": "2021-04-04T23:37:33.207569Z",
     "iopub.status.busy": "2021-04-04T23:37:33.203715Z",
     "iopub.status.idle": "2021-04-04T23:37:33.223102Z",
     "shell.execute_reply": "2021-04-04T23:37:33.223843Z"
    },
    "papermill": {
     "duration": 0.083938,
     "end_time": "2021-04-04T23:37:33.224069",
     "exception": false,
     "start_time": "2021-04-04T23:37:33.140131",
     "status": "completed"
    },
    "tags": []
   },
   "outputs": [],
   "source": [
    "test_size = dataset_config['test_size']\n",
    "random_state = dataset_config['random_state']\n",
    "\n",
    "X_inlier_train, X_inlier_test, y_inlier_train, y_inlier_test = train_test_split(\n",
    "    X_inlier,\n",
    "    y_inlier,\n",
    "    test_size=test_size,\n",
    "    random_state=random_state\n",
    ")"
   ]
  },
  {
   "cell_type": "code",
   "execution_count": 18,
   "id": "0b7582ca",
   "metadata": {
    "execution": {
     "iopub.execute_input": "2021-04-04T23:37:33.326488Z",
     "iopub.status.busy": "2021-04-04T23:37:33.325268Z",
     "iopub.status.idle": "2021-04-04T23:37:33.328214Z",
     "shell.execute_reply": "2021-04-04T23:37:33.328720Z"
    },
    "papermill": {
     "duration": 0.058429,
     "end_time": "2021-04-04T23:37:33.328890",
     "exception": false,
     "start_time": "2021-04-04T23:37:33.270461",
     "status": "completed"
    },
    "tags": []
   },
   "outputs": [],
   "source": [
    "test_outlier_size = dataset_config['test_outlier_size']\n",
    "if test_outlier_size > 0.0:\n",
    "    X_outlier_train, X_outlier_test, y_outlier_train, y_outlier_test = train_test_split(\n",
    "        X_outlier,\n",
    "        y_outlier,\n",
    "        test_size=test_outlier_size,\n",
    "        random_state=random_state\n",
    "    )\n",
    "else:\n",
    "    X_outlier_train, y_outlier_train = pd.DataFrame(columns=X_outlier.columns), pd.Series(dtype='int64')\n",
    "    X_outlier_test, y_outlier_test = X_outlier.copy(), y_outlier.copy()"
   ]
  },
  {
   "cell_type": "code",
   "execution_count": 19,
   "id": "c34363db",
   "metadata": {
    "execution": {
     "iopub.execute_input": "2021-04-04T23:37:33.428120Z",
     "iopub.status.busy": "2021-04-04T23:37:33.427252Z",
     "iopub.status.idle": "2021-04-04T23:37:33.430344Z",
     "shell.execute_reply": "2021-04-04T23:37:33.430816Z"
    },
    "papermill": {
     "duration": 0.043562,
     "end_time": "2021-04-04T23:37:33.430962",
     "exception": false,
     "start_time": "2021-04-04T23:37:33.387400",
     "status": "completed"
    },
    "tags": []
   },
   "outputs": [],
   "source": [
    "X_train, y_train = pd.concat([X_inlier_train, X_outlier_train], ignore_index=True), pd.concat([y_inlier_train, y_outlier_train], ignore_index=True)\n",
    "X_test, y_test = pd.concat([X_inlier_test, X_outlier_test], ignore_index=True), pd.concat([y_inlier_test, y_outlier_test], ignore_index=True)"
   ]
  },
  {
   "cell_type": "markdown",
   "id": "7cde7309",
   "metadata": {
    "papermill": {
     "duration": 0.026949,
     "end_time": "2021-04-04T23:37:33.482516",
     "exception": false,
     "start_time": "2021-04-04T23:37:33.455567",
     "status": "completed"
    },
    "tags": []
   },
   "source": [
    "# Model"
   ]
  },
  {
   "cell_type": "code",
   "execution_count": 20,
   "id": "2b12a415",
   "metadata": {
    "execution": {
     "iopub.execute_input": "2021-04-04T23:37:33.546104Z",
     "iopub.status.busy": "2021-04-04T23:37:33.544489Z",
     "iopub.status.idle": "2021-04-04T23:37:33.548216Z",
     "shell.execute_reply": "2021-04-04T23:37:33.547703Z"
    },
    "papermill": {
     "duration": 0.040095,
     "end_time": "2021-04-04T23:37:33.548360",
     "exception": false,
     "start_time": "2021-04-04T23:37:33.508265",
     "status": "completed"
    },
    "tags": []
   },
   "outputs": [],
   "source": [
    "from math import sqrt\n",
    "\n",
    "\n",
    "class KNNDataDescription:\n",
    "    def __init__(self, k=5, outlier_threshold=1.0):\n",
    "        self.k = k\n",
    "        self.outlier_threshold = outlier_threshold\n",
    "        self.X = []\n",
    "    \n",
    "    def fit(self, X):\n",
    "        self.X = [features.to_list() for index, features in X.iterrows()]\n",
    "\n",
    "    def predict(self, entries):\n",
    "        return [self.predict_entry(features.to_list()) for index, features in entries.iterrows()]\n",
    "    \n",
    "    def predict_entry(self, entry):\n",
    "        kth_neighbor, kth_distance = self.get_kth_neighbor(entry, self.k)\n",
    "        kth_kth_neighbor, kth_kth_distance = self.get_kth_neighbor(kth_neighbor, self.k + 1)\n",
    "\n",
    "        outlier_score = kth_distance / (kth_kth_distance + 0.000001)\n",
    "\n",
    "        return 1 if outlier_score < self.outlier_threshold else -1\n",
    "        \n",
    "    def euclidean_distance(self, features1, features2):\n",
    "        distance = 0.0\n",
    "        for feat1, feat2 in zip(features1, features2):\n",
    "            distance += (feat1 - feat2)**2\n",
    "                \n",
    "        return sqrt(distance)\n",
    "\n",
    "    def get_neighbors(self, entry, k):\n",
    "        distance_to_data_points = [\n",
    "            (data_point, self.euclidean_distance(entry, data_point))\n",
    "            for data_point in self.X\n",
    "        ]\n",
    "        sorted_by_distance = sorted(distance_to_data_points, key=lambda tup: tup[1])\n",
    "        neighbors = sorted_by_distance[:k]\n",
    "        return neighbors\n",
    "\n",
    "    def get_kth_neighbor(self, entry, k):\n",
    "        neighbors = self.get_neighbors(entry, k)\n",
    "        return neighbors[-1]\n"
   ]
  },
  {
   "cell_type": "code",
   "execution_count": 21,
   "id": "1fa9ec1c",
   "metadata": {
    "execution": {
     "iopub.execute_input": "2021-04-04T23:37:33.619745Z",
     "iopub.status.busy": "2021-04-04T23:37:33.618736Z",
     "iopub.status.idle": "2021-04-04T23:37:33.668198Z",
     "shell.execute_reply": "2021-04-04T23:37:33.666143Z"
    },
    "papermill": {
     "duration": 0.094807,
     "end_time": "2021-04-04T23:37:33.668575",
     "exception": false,
     "start_time": "2021-04-04T23:37:33.573768",
     "status": "completed"
    },
    "tags": []
   },
   "outputs": [],
   "source": [
    "from sklearn.svm import OneClassSVM\n",
    "\n",
    "\n",
    "models = {\n",
    "    'oneclasssvm': OneClassSVM,\n",
    "    'knndatadescription': KNNDataDescription,\n",
    "}"
   ]
  },
  {
   "cell_type": "code",
   "execution_count": 22,
   "id": "4d72a0b1",
   "metadata": {
    "execution": {
     "iopub.execute_input": "2021-04-04T23:37:33.729267Z",
     "iopub.status.busy": "2021-04-04T23:37:33.728573Z",
     "iopub.status.idle": "2021-04-04T23:37:33.730315Z",
     "shell.execute_reply": "2021-04-04T23:37:33.730782Z"
    },
    "papermill": {
     "duration": 0.029277,
     "end_time": "2021-04-04T23:37:33.730927",
     "exception": false,
     "start_time": "2021-04-04T23:37:33.701650",
     "status": "completed"
    },
    "scrolled": true,
    "tags": []
   },
   "outputs": [],
   "source": [
    "model_cls = models[model_config['model_type']]\n",
    "model = model_cls(**model_config['hyperparameters'])"
   ]
  },
  {
   "cell_type": "markdown",
   "id": "e00cff3b",
   "metadata": {
    "papermill": {
     "duration": 0.029149,
     "end_time": "2021-04-04T23:37:33.789707",
     "exception": false,
     "start_time": "2021-04-04T23:37:33.760558",
     "status": "completed"
    },
    "tags": []
   },
   "source": [
    "# Fit"
   ]
  },
  {
   "cell_type": "code",
   "execution_count": 23,
   "id": "8b2ded89",
   "metadata": {
    "execution": {
     "iopub.execute_input": "2021-04-04T23:37:33.844699Z",
     "iopub.status.busy": "2021-04-04T23:37:33.843708Z",
     "iopub.status.idle": "2021-04-04T23:37:33.868157Z",
     "shell.execute_reply": "2021-04-04T23:37:33.868685Z"
    },
    "papermill": {
     "duration": 0.052375,
     "end_time": "2021-04-04T23:37:33.868838",
     "exception": false,
     "start_time": "2021-04-04T23:37:33.816463",
     "status": "completed"
    },
    "tags": []
   },
   "outputs": [],
   "source": [
    "model.fit(X_train)"
   ]
  },
  {
   "cell_type": "markdown",
   "id": "f99999f7",
   "metadata": {
    "papermill": {
     "duration": 0.030238,
     "end_time": "2021-04-04T23:37:33.925616",
     "exception": false,
     "start_time": "2021-04-04T23:37:33.895378",
     "status": "completed"
    },
    "tags": []
   },
   "source": [
    "# Predict"
   ]
  },
  {
   "cell_type": "code",
   "execution_count": 24,
   "id": "6536fbf7",
   "metadata": {
    "execution": {
     "iopub.execute_input": "2021-04-04T23:37:33.988992Z",
     "iopub.status.busy": "2021-04-04T23:37:33.987988Z",
     "iopub.status.idle": "2021-04-04T23:37:34.333094Z",
     "shell.execute_reply": "2021-04-04T23:37:34.332424Z"
    },
    "papermill": {
     "duration": 0.37899,
     "end_time": "2021-04-04T23:37:34.333242",
     "exception": false,
     "start_time": "2021-04-04T23:37:33.954252",
     "status": "completed"
    },
    "tags": []
   },
   "outputs": [],
   "source": [
    "predictions = model.predict(X_test)"
   ]
  },
  {
   "cell_type": "markdown",
   "id": "aa1c9881",
   "metadata": {
    "papermill": {
     "duration": 0.033708,
     "end_time": "2021-04-04T23:37:34.402013",
     "exception": false,
     "start_time": "2021-04-04T23:37:34.368305",
     "status": "completed"
    },
    "tags": []
   },
   "source": [
    "# Evaluate"
   ]
  },
  {
   "cell_type": "code",
   "execution_count": 25,
   "id": "894f0f04",
   "metadata": {
    "execution": {
     "iopub.execute_input": "2021-04-04T23:37:34.457744Z",
     "iopub.status.busy": "2021-04-04T23:37:34.456988Z",
     "iopub.status.idle": "2021-04-04T23:37:34.459390Z",
     "shell.execute_reply": "2021-04-04T23:37:34.458807Z"
    },
    "papermill": {
     "duration": 0.032056,
     "end_time": "2021-04-04T23:37:34.459509",
     "exception": false,
     "start_time": "2021-04-04T23:37:34.427453",
     "status": "completed"
    },
    "tags": []
   },
   "outputs": [],
   "source": [
    "from sklearn.metrics import f1_score"
   ]
  },
  {
   "cell_type": "code",
   "execution_count": 26,
   "id": "211744d3",
   "metadata": {
    "execution": {
     "iopub.execute_input": "2021-04-04T23:37:34.523081Z",
     "iopub.status.busy": "2021-04-04T23:37:34.522253Z",
     "iopub.status.idle": "2021-04-04T23:37:34.525235Z",
     "shell.execute_reply": "2021-04-04T23:37:34.524640Z"
    },
    "papermill": {
     "duration": 0.039382,
     "end_time": "2021-04-04T23:37:34.525377",
     "exception": false,
     "start_time": "2021-04-04T23:37:34.485995",
     "status": "completed"
    },
    "tags": []
   },
   "outputs": [],
   "source": [
    "y_test = y_test.replace([0, 1], [1, -1])"
   ]
  },
  {
   "cell_type": "code",
   "execution_count": 27,
   "id": "d68a9204",
   "metadata": {
    "execution": {
     "iopub.execute_input": "2021-04-04T23:37:34.586438Z",
     "iopub.status.busy": "2021-04-04T23:37:34.585299Z",
     "iopub.status.idle": "2021-04-04T23:37:34.587528Z",
     "shell.execute_reply": "2021-04-04T23:37:34.588048Z"
    },
    "papermill": {
     "duration": 0.035881,
     "end_time": "2021-04-04T23:37:34.588210",
     "exception": false,
     "start_time": "2021-04-04T23:37:34.552329",
     "status": "completed"
    },
    "tags": []
   },
   "outputs": [],
   "source": [
    "def evaluate(truths, predictions, pos_label, neg_label):\n",
    "    TP = 0\n",
    "    FP = 0\n",
    "    TN = 0\n",
    "    FN = 0\n",
    "\n",
    "    for truth, pred in zip(truths, predictions): \n",
    "        if truth == pred == pos_label:\n",
    "           TP += 1\n",
    "        elif pred == pos_label and truth == neg_label:\n",
    "           FP += 1\n",
    "        elif truth == pred == neg_label:\n",
    "           TN += 1\n",
    "        elif pred == neg_label and truth == pos_label:\n",
    "           FN += 1\n",
    "\n",
    "    precision = TP / (TP + FP)\n",
    "    sensitivity = TP / (TP + FN)\n",
    "    \n",
    "    return {\n",
    "        'true_pos': TP,\n",
    "        'false_pos': FP,\n",
    "        'false_neg': FN,\n",
    "        'true_neg': TN,\n",
    "        'precision': precision,\n",
    "        'sensitivity': sensitivity,\n",
    "        'f1': (2 * (precision * sensitivity)) / (precision + sensitivity)\n",
    "    }\n",
    "\n",
    "score = evaluate(y_test, predictions, pos_label=-1, neg_label=1)"
   ]
  },
  {
   "cell_type": "markdown",
   "id": "93596516",
   "metadata": {
    "papermill": {
     "duration": 0.032576,
     "end_time": "2021-04-04T23:37:34.646271",
     "exception": false,
     "start_time": "2021-04-04T23:37:34.613695",
     "status": "completed"
    },
    "tags": []
   },
   "source": [
    "# Report"
   ]
  },
  {
   "cell_type": "code",
   "execution_count": 28,
   "id": "bea5fba1",
   "metadata": {
    "execution": {
     "iopub.execute_input": "2021-04-04T23:37:34.729694Z",
     "iopub.status.busy": "2021-04-04T23:37:34.728865Z",
     "iopub.status.idle": "2021-04-04T23:37:34.733246Z",
     "shell.execute_reply": "2021-04-04T23:37:34.731809Z"
    },
    "papermill": {
     "duration": 0.051086,
     "end_time": "2021-04-04T23:37:34.733440",
     "exception": false,
     "start_time": "2021-04-04T23:37:34.682354",
     "status": "completed"
    },
    "tags": []
   },
   "outputs": [],
   "source": [
    "import csv\n",
    "\n",
    "\n",
    "dataset_config_name = DATASET_CONFIG_PATH.split('/')[-1].split('.')[0]\n",
    "model_config_name = MODEL_CONFIG_PATH.split('/')[-1].split('.')[0]\n",
    "configuration = f\"dataset_{dataset_config_name}-model_{model_config_name}\"\n",
    "\n",
    "with open('results.csv', 'a') as f:\n",
    "    report = dict({'configuration': configuration}, **score)\n",
    "    writer = csv.DictWriter(f, report.keys())\n",
    "    writer.writerow(report)"
   ]
  }
 ],
 "metadata": {
  "celltoolbar": "Tags",
  "kernelspec": {
   "display_name": "Python 3",
   "language": "python",
   "name": "python3"
  },
  "language_info": {
   "codemirror_mode": {
    "name": "ipython",
    "version": 3
   },
   "file_extension": ".py",
   "mimetype": "text/x-python",
   "name": "python",
   "nbconvert_exporter": "python",
   "pygments_lexer": "ipython3",
   "version": "3.9.1"
  },
  "papermill": {
   "default_parameters": {},
   "duration": 7.084278,
   "end_time": "2021-04-04T23:37:36.397825",
   "environment_variables": {},
   "exception": null,
   "input_path": "main.ipynb",
   "output_path": "runs/dataset_000159-model_000002.ipynb",
   "parameters": {
    "DATASET_CONFIG_PATH": "config/dataset/000159.json",
    "MODEL_CONFIG_PATH": "config/model/000002.json",
    "PROFILE_REPORTING": false
   },
   "start_time": "2021-04-04T23:37:29.313547",
   "version": "2.3.3"
  }
 },
 "nbformat": 4,
 "nbformat_minor": 5
}