{
 "cells": [
  {
   "cell_type": "markdown",
   "id": "51c71c25",
   "metadata": {
    "papermill": {
     "duration": 0.021639,
     "end_time": "2021-04-04T23:01:21.938948",
     "exception": false,
     "start_time": "2021-04-04T23:01:21.917309",
     "status": "completed"
    },
    "tags": []
   },
   "source": [
    "# Parametrizing"
   ]
  },
  {
   "cell_type": "code",
   "execution_count": 1,
   "id": "3b136394",
   "metadata": {
    "execution": {
     "iopub.execute_input": "2021-04-04T23:01:21.994655Z",
     "iopub.status.busy": "2021-04-04T23:01:21.993737Z",
     "iopub.status.idle": "2021-04-04T23:01:21.996159Z",
     "shell.execute_reply": "2021-04-04T23:01:21.996676Z"
    },
    "papermill": {
     "duration": 0.036746,
     "end_time": "2021-04-04T23:01:21.996906",
     "exception": false,
     "start_time": "2021-04-04T23:01:21.960160",
     "status": "completed"
    },
    "tags": [
     "parameters"
    ]
   },
   "outputs": [],
   "source": [
    "DATASET_CONFIG_PATH = 'config/dataset/kc1_001.json'\n",
    "MODEL_CONFIG_PATH = 'config/model/knndd_001.json'\n",
    "PROFILE_REPORTING = False"
   ]
  },
  {
   "cell_type": "code",
   "execution_count": 2,
   "id": "3b0637ad",
   "metadata": {
    "execution": {
     "iopub.execute_input": "2021-04-04T23:01:22.042552Z",
     "iopub.status.busy": "2021-04-04T23:01:22.041909Z",
     "iopub.status.idle": "2021-04-04T23:01:22.045922Z",
     "shell.execute_reply": "2021-04-04T23:01:22.046517Z"
    },
    "papermill": {
     "duration": 0.027527,
     "end_time": "2021-04-04T23:01:22.046738",
     "exception": false,
     "start_time": "2021-04-04T23:01:22.019211",
     "status": "completed"
    },
    "tags": [
     "injected-parameters"
    ]
   },
   "outputs": [],
   "source": [
    "# Parameters\n",
    "DATASET_CONFIG_PATH = \"config/dataset/000072.json\"\n",
    "MODEL_CONFIG_PATH = \"config/model/000004.json\"\n",
    "PROFILE_REPORTING = False\n"
   ]
  },
  {
   "cell_type": "code",
   "execution_count": 3,
   "id": "b80f2a10",
   "metadata": {
    "execution": {
     "iopub.execute_input": "2021-04-04T23:01:22.101802Z",
     "iopub.status.busy": "2021-04-04T23:01:22.099867Z",
     "iopub.status.idle": "2021-04-04T23:01:22.104348Z",
     "shell.execute_reply": "2021-04-04T23:01:22.103638Z"
    },
    "papermill": {
     "duration": 0.03446,
     "end_time": "2021-04-04T23:01:22.104494",
     "exception": false,
     "start_time": "2021-04-04T23:01:22.070034",
     "status": "completed"
    },
    "tags": []
   },
   "outputs": [],
   "source": [
    "import json\n",
    "\n",
    "\n",
    "with open(DATASET_CONFIG_PATH) as f:\n",
    "    dataset_config = json.load(f)\n",
    "\n",
    "with open(MODEL_CONFIG_PATH) as f:\n",
    "    model_config = json.load(f)"
   ]
  },
  {
   "cell_type": "markdown",
   "id": "9a4b0e2d",
   "metadata": {
    "papermill": {
     "duration": 0.021149,
     "end_time": "2021-04-04T23:01:22.147108",
     "exception": false,
     "start_time": "2021-04-04T23:01:22.125959",
     "status": "completed"
    },
    "tags": []
   },
   "source": [
    "# Profiling"
   ]
  },
  {
   "cell_type": "code",
   "execution_count": 4,
   "id": "a3e0289b",
   "metadata": {
    "execution": {
     "iopub.execute_input": "2021-04-04T23:01:22.192935Z",
     "iopub.status.busy": "2021-04-04T23:01:22.192152Z",
     "iopub.status.idle": "2021-04-04T23:01:23.573965Z",
     "shell.execute_reply": "2021-04-04T23:01:23.572860Z"
    },
    "papermill": {
     "duration": 1.40475,
     "end_time": "2021-04-04T23:01:23.574244",
     "exception": false,
     "start_time": "2021-04-04T23:01:22.169494",
     "status": "completed"
    },
    "tags": []
   },
   "outputs": [],
   "source": [
    "import pandas as pd\n",
    "from pandas_profiling import ProfileReport"
   ]
  },
  {
   "cell_type": "code",
   "execution_count": 5,
   "id": "ee6c0666",
   "metadata": {
    "execution": {
     "iopub.execute_input": "2021-04-04T23:01:23.628125Z",
     "iopub.status.busy": "2021-04-04T23:01:23.626089Z",
     "iopub.status.idle": "2021-04-04T23:01:23.643115Z",
     "shell.execute_reply": "2021-04-04T23:01:23.642620Z"
    },
    "papermill": {
     "duration": 0.047017,
     "end_time": "2021-04-04T23:01:23.643230",
     "exception": false,
     "start_time": "2021-04-04T23:01:23.596213",
     "status": "completed"
    },
    "tags": []
   },
   "outputs": [],
   "source": [
    "df = pd.read_csv(dataset_config['dataset_path'])"
   ]
  },
  {
   "cell_type": "code",
   "execution_count": 6,
   "id": "7eca6c4a",
   "metadata": {
    "execution": {
     "iopub.execute_input": "2021-04-04T23:01:23.706100Z",
     "iopub.status.busy": "2021-04-04T23:01:23.693605Z",
     "iopub.status.idle": "2021-04-04T23:01:23.708570Z",
     "shell.execute_reply": "2021-04-04T23:01:23.709048Z"
    },
    "papermill": {
     "duration": 0.045975,
     "end_time": "2021-04-04T23:01:23.709193",
     "exception": false,
     "start_time": "2021-04-04T23:01:23.663218",
     "status": "completed"
    },
    "tags": []
   },
   "outputs": [
    {
     "name": "stdout",
     "output_type": "stream",
     "text": [
      "<class 'pandas.core.frame.DataFrame'>\n",
      "RangeIndex: 2109 entries, 0 to 2108\n",
      "Data columns (total 23 columns):\n",
      " #   Column             Non-Null Count  Dtype  \n",
      "---  ------             --------------  -----  \n",
      " 0   id                 2109 non-null   int64  \n",
      " 1   loc                2109 non-null   float64\n",
      " 2   v(g)               2109 non-null   float64\n",
      " 3   ev(g)              2109 non-null   float64\n",
      " 4   iv(g)              2109 non-null   float64\n",
      " 5   n                  2109 non-null   float64\n",
      " 6   v                  2109 non-null   float64\n",
      " 7   l                  2109 non-null   float64\n",
      " 8   d                  2109 non-null   float64\n",
      " 9   i                  2109 non-null   float64\n",
      " 10  e                  2109 non-null   float64\n",
      " 11  b                  2109 non-null   float64\n",
      " 12  t                  2109 non-null   float64\n",
      " 13  lOCode             2109 non-null   int64  \n",
      " 14  lOComment          2109 non-null   int64  \n",
      " 15  lOBlank            2109 non-null   int64  \n",
      " 16  locCodeAndComment  2109 non-null   int64  \n",
      " 17  uniq_Op            2109 non-null   float64\n",
      " 18  uniq_Opnd          2109 non-null   float64\n",
      " 19  total_Op           2109 non-null   float64\n",
      " 20  total_Opnd         2109 non-null   float64\n",
      " 21  branchCount        2109 non-null   float64\n",
      " 22  defects            2109 non-null   bool   \n",
      "dtypes: bool(1), float64(17), int64(5)\n",
      "memory usage: 364.7 KB\n"
     ]
    }
   ],
   "source": [
    "df.info()"
   ]
  },
  {
   "cell_type": "code",
   "execution_count": 7,
   "id": "3638e5e8",
   "metadata": {
    "execution": {
     "iopub.execute_input": "2021-04-04T23:01:23.768154Z",
     "iopub.status.busy": "2021-04-04T23:01:23.767347Z",
     "iopub.status.idle": "2021-04-04T23:01:23.797446Z",
     "shell.execute_reply": "2021-04-04T23:01:23.798002Z"
    },
    "papermill": {
     "duration": 0.067488,
     "end_time": "2021-04-04T23:01:23.798173",
     "exception": false,
     "start_time": "2021-04-04T23:01:23.730685",
     "status": "completed"
    },
    "tags": []
   },
   "outputs": [
    {
     "data": {
      "text/html": [
       "<div>\n",
       "<style scoped>\n",
       "    .dataframe tbody tr th:only-of-type {\n",
       "        vertical-align: middle;\n",
       "    }\n",
       "\n",
       "    .dataframe tbody tr th {\n",
       "        vertical-align: top;\n",
       "    }\n",
       "\n",
       "    .dataframe thead th {\n",
       "        text-align: right;\n",
       "    }\n",
       "</style>\n",
       "<table border=\"1\" class=\"dataframe\">\n",
       "  <thead>\n",
       "    <tr style=\"text-align: right;\">\n",
       "      <th></th>\n",
       "      <th>id</th>\n",
       "      <th>loc</th>\n",
       "      <th>v(g)</th>\n",
       "      <th>ev(g)</th>\n",
       "      <th>iv(g)</th>\n",
       "      <th>n</th>\n",
       "      <th>v</th>\n",
       "      <th>l</th>\n",
       "      <th>d</th>\n",
       "      <th>i</th>\n",
       "      <th>...</th>\n",
       "      <th>lOCode</th>\n",
       "      <th>lOComment</th>\n",
       "      <th>lOBlank</th>\n",
       "      <th>locCodeAndComment</th>\n",
       "      <th>uniq_Op</th>\n",
       "      <th>uniq_Opnd</th>\n",
       "      <th>total_Op</th>\n",
       "      <th>total_Opnd</th>\n",
       "      <th>branchCount</th>\n",
       "      <th>defects</th>\n",
       "    </tr>\n",
       "  </thead>\n",
       "  <tbody>\n",
       "    <tr>\n",
       "      <th>0</th>\n",
       "      <td>1</td>\n",
       "      <td>1.1</td>\n",
       "      <td>1.4</td>\n",
       "      <td>1.4</td>\n",
       "      <td>1.4</td>\n",
       "      <td>1.3</td>\n",
       "      <td>1.30</td>\n",
       "      <td>1.30</td>\n",
       "      <td>1.30</td>\n",
       "      <td>1.30</td>\n",
       "      <td>...</td>\n",
       "      <td>2</td>\n",
       "      <td>2</td>\n",
       "      <td>2</td>\n",
       "      <td>2</td>\n",
       "      <td>1.2</td>\n",
       "      <td>1.2</td>\n",
       "      <td>1.2</td>\n",
       "      <td>1.2</td>\n",
       "      <td>1.4</td>\n",
       "      <td>False</td>\n",
       "    </tr>\n",
       "    <tr>\n",
       "      <th>1</th>\n",
       "      <td>2</td>\n",
       "      <td>1.0</td>\n",
       "      <td>1.0</td>\n",
       "      <td>1.0</td>\n",
       "      <td>1.0</td>\n",
       "      <td>1.0</td>\n",
       "      <td>1.00</td>\n",
       "      <td>1.00</td>\n",
       "      <td>1.00</td>\n",
       "      <td>1.00</td>\n",
       "      <td>...</td>\n",
       "      <td>1</td>\n",
       "      <td>1</td>\n",
       "      <td>1</td>\n",
       "      <td>1</td>\n",
       "      <td>1.0</td>\n",
       "      <td>1.0</td>\n",
       "      <td>1.0</td>\n",
       "      <td>1.0</td>\n",
       "      <td>1.0</td>\n",
       "      <td>True</td>\n",
       "    </tr>\n",
       "    <tr>\n",
       "      <th>2</th>\n",
       "      <td>3</td>\n",
       "      <td>83.0</td>\n",
       "      <td>11.0</td>\n",
       "      <td>1.0</td>\n",
       "      <td>11.0</td>\n",
       "      <td>171.0</td>\n",
       "      <td>927.89</td>\n",
       "      <td>0.04</td>\n",
       "      <td>23.04</td>\n",
       "      <td>40.27</td>\n",
       "      <td>...</td>\n",
       "      <td>65</td>\n",
       "      <td>10</td>\n",
       "      <td>6</td>\n",
       "      <td>0</td>\n",
       "      <td>18.0</td>\n",
       "      <td>25.0</td>\n",
       "      <td>107.0</td>\n",
       "      <td>64.0</td>\n",
       "      <td>21.0</td>\n",
       "      <td>True</td>\n",
       "    </tr>\n",
       "    <tr>\n",
       "      <th>3</th>\n",
       "      <td>4</td>\n",
       "      <td>46.0</td>\n",
       "      <td>8.0</td>\n",
       "      <td>6.0</td>\n",
       "      <td>8.0</td>\n",
       "      <td>141.0</td>\n",
       "      <td>769.78</td>\n",
       "      <td>0.07</td>\n",
       "      <td>14.86</td>\n",
       "      <td>51.81</td>\n",
       "      <td>...</td>\n",
       "      <td>37</td>\n",
       "      <td>2</td>\n",
       "      <td>5</td>\n",
       "      <td>0</td>\n",
       "      <td>16.0</td>\n",
       "      <td>28.0</td>\n",
       "      <td>89.0</td>\n",
       "      <td>52.0</td>\n",
       "      <td>15.0</td>\n",
       "      <td>True</td>\n",
       "    </tr>\n",
       "    <tr>\n",
       "      <th>4</th>\n",
       "      <td>5</td>\n",
       "      <td>25.0</td>\n",
       "      <td>3.0</td>\n",
       "      <td>1.0</td>\n",
       "      <td>3.0</td>\n",
       "      <td>58.0</td>\n",
       "      <td>254.75</td>\n",
       "      <td>0.11</td>\n",
       "      <td>9.35</td>\n",
       "      <td>27.25</td>\n",
       "      <td>...</td>\n",
       "      <td>21</td>\n",
       "      <td>0</td>\n",
       "      <td>2</td>\n",
       "      <td>0</td>\n",
       "      <td>11.0</td>\n",
       "      <td>10.0</td>\n",
       "      <td>41.0</td>\n",
       "      <td>17.0</td>\n",
       "      <td>5.0</td>\n",
       "      <td>True</td>\n",
       "    </tr>\n",
       "  </tbody>\n",
       "</table>\n",
       "<p>5 rows × 23 columns</p>\n",
       "</div>"
      ],
      "text/plain": [
       "   id   loc  v(g)  ev(g)  iv(g)      n       v     l      d      i  ...  \\\n",
       "0   1   1.1   1.4    1.4    1.4    1.3    1.30  1.30   1.30   1.30  ...   \n",
       "1   2   1.0   1.0    1.0    1.0    1.0    1.00  1.00   1.00   1.00  ...   \n",
       "2   3  83.0  11.0    1.0   11.0  171.0  927.89  0.04  23.04  40.27  ...   \n",
       "3   4  46.0   8.0    6.0    8.0  141.0  769.78  0.07  14.86  51.81  ...   \n",
       "4   5  25.0   3.0    1.0    3.0   58.0  254.75  0.11   9.35  27.25  ...   \n",
       "\n",
       "   lOCode  lOComment  lOBlank  locCodeAndComment  uniq_Op  uniq_Opnd  \\\n",
       "0       2          2        2                  2      1.2        1.2   \n",
       "1       1          1        1                  1      1.0        1.0   \n",
       "2      65         10        6                  0     18.0       25.0   \n",
       "3      37          2        5                  0     16.0       28.0   \n",
       "4      21          0        2                  0     11.0       10.0   \n",
       "\n",
       "   total_Op  total_Opnd  branchCount  defects  \n",
       "0       1.2         1.2          1.4    False  \n",
       "1       1.0         1.0          1.0     True  \n",
       "2     107.0        64.0         21.0     True  \n",
       "3      89.0        52.0         15.0     True  \n",
       "4      41.0        17.0          5.0     True  \n",
       "\n",
       "[5 rows x 23 columns]"
      ]
     },
     "execution_count": 7,
     "metadata": {},
     "output_type": "execute_result"
    }
   ],
   "source": [
    "df.head()"
   ]
  },
  {
   "cell_type": "code",
   "execution_count": 8,
   "id": "733e95eb",
   "metadata": {
    "execution": {
     "iopub.execute_input": "2021-04-04T23:01:23.857679Z",
     "iopub.status.busy": "2021-04-04T23:01:23.856820Z",
     "iopub.status.idle": "2021-04-04T23:01:23.859453Z",
     "shell.execute_reply": "2021-04-04T23:01:23.858952Z"
    },
    "papermill": {
     "duration": 0.030041,
     "end_time": "2021-04-04T23:01:23.859571",
     "exception": false,
     "start_time": "2021-04-04T23:01:23.829530",
     "status": "completed"
    },
    "tags": []
   },
   "outputs": [],
   "source": [
    "del df['id']"
   ]
  },
  {
   "cell_type": "code",
   "execution_count": 9,
   "id": "6ff6f5b0",
   "metadata": {
    "execution": {
     "iopub.execute_input": "2021-04-04T23:01:23.918739Z",
     "iopub.status.busy": "2021-04-04T23:01:23.918020Z",
     "iopub.status.idle": "2021-04-04T23:01:23.920430Z",
     "shell.execute_reply": "2021-04-04T23:01:23.920950Z"
    },
    "papermill": {
     "duration": 0.037582,
     "end_time": "2021-04-04T23:01:23.921117",
     "exception": false,
     "start_time": "2021-04-04T23:01:23.883535",
     "status": "completed"
    },
    "tags": []
   },
   "outputs": [],
   "source": [
    "if PROFILE_REPORTING:\n",
    "    ProfileReport(df).to_widgets()"
   ]
  },
  {
   "cell_type": "markdown",
   "id": "1deaf3f0",
   "metadata": {
    "papermill": {
     "duration": 0.022662,
     "end_time": "2021-04-04T23:01:23.968509",
     "exception": false,
     "start_time": "2021-04-04T23:01:23.945847",
     "status": "completed"
    },
    "tags": []
   },
   "source": [
    "# Preprocess"
   ]
  },
  {
   "cell_type": "code",
   "execution_count": 10,
   "id": "1513e563",
   "metadata": {
    "execution": {
     "iopub.execute_input": "2021-04-04T23:01:24.027606Z",
     "iopub.status.busy": "2021-04-04T23:01:24.025313Z",
     "iopub.status.idle": "2021-04-04T23:01:24.029247Z",
     "shell.execute_reply": "2021-04-04T23:01:24.029850Z"
    },
    "papermill": {
     "duration": 0.036426,
     "end_time": "2021-04-04T23:01:24.030170",
     "exception": false,
     "start_time": "2021-04-04T23:01:23.993744",
     "status": "completed"
    },
    "tags": []
   },
   "outputs": [],
   "source": [
    "working_df = df.copy()"
   ]
  },
  {
   "cell_type": "code",
   "execution_count": 11,
   "id": "3b26d675",
   "metadata": {
    "execution": {
     "iopub.execute_input": "2021-04-04T23:01:24.083242Z",
     "iopub.status.busy": "2021-04-04T23:01:24.082368Z",
     "iopub.status.idle": "2021-04-04T23:01:24.086399Z",
     "shell.execute_reply": "2021-04-04T23:01:24.086901Z"
    },
    "papermill": {
     "duration": 0.031313,
     "end_time": "2021-04-04T23:01:24.087049",
     "exception": false,
     "start_time": "2021-04-04T23:01:24.055736",
     "status": "completed"
    },
    "tags": []
   },
   "outputs": [],
   "source": [
    "working_df['defects'] = working_df['defects'].replace([False, True], [0, 1])"
   ]
  },
  {
   "cell_type": "code",
   "execution_count": 12,
   "id": "eb48604f",
   "metadata": {
    "execution": {
     "iopub.execute_input": "2021-04-04T23:01:24.145445Z",
     "iopub.status.busy": "2021-04-04T23:01:24.144264Z",
     "iopub.status.idle": "2021-04-04T23:01:24.148305Z",
     "shell.execute_reply": "2021-04-04T23:01:24.147618Z"
    },
    "papermill": {
     "duration": 0.035614,
     "end_time": "2021-04-04T23:01:24.148538",
     "exception": false,
     "start_time": "2021-04-04T23:01:24.112924",
     "status": "completed"
    },
    "tags": []
   },
   "outputs": [],
   "source": [
    "for col in dataset_config['delete_columns']:\n",
    "    del working_df[col]"
   ]
  },
  {
   "cell_type": "code",
   "execution_count": 13,
   "id": "9a17bc29",
   "metadata": {
    "execution": {
     "iopub.execute_input": "2021-04-04T23:01:24.202298Z",
     "iopub.status.busy": "2021-04-04T23:01:24.201204Z",
     "iopub.status.idle": "2021-04-04T23:01:24.211310Z",
     "shell.execute_reply": "2021-04-04T23:01:24.210791Z"
    },
    "papermill": {
     "duration": 0.040003,
     "end_time": "2021-04-04T23:01:24.211431",
     "exception": false,
     "start_time": "2021-04-04T23:01:24.171428",
     "status": "completed"
    },
    "tags": []
   },
   "outputs": [],
   "source": [
    "working_df = working_df.drop_duplicates()"
   ]
  },
  {
   "cell_type": "markdown",
   "id": "a4d52ca6",
   "metadata": {
    "papermill": {
     "duration": 0.027551,
     "end_time": "2021-04-04T23:01:24.262411",
     "exception": false,
     "start_time": "2021-04-04T23:01:24.234860",
     "status": "completed"
    },
    "tags": []
   },
   "source": [
    "# Split"
   ]
  },
  {
   "cell_type": "code",
   "execution_count": 14,
   "id": "3e9ee4b5",
   "metadata": {
    "execution": {
     "iopub.execute_input": "2021-04-04T23:01:24.315167Z",
     "iopub.status.busy": "2021-04-04T23:01:24.314167Z",
     "iopub.status.idle": "2021-04-04T23:01:24.348061Z",
     "shell.execute_reply": "2021-04-04T23:01:24.349232Z"
    },
    "papermill": {
     "duration": 0.063142,
     "end_time": "2021-04-04T23:01:24.349759",
     "exception": false,
     "start_time": "2021-04-04T23:01:24.286617",
     "status": "completed"
    },
    "tags": []
   },
   "outputs": [],
   "source": [
    "from sklearn.model_selection import train_test_split"
   ]
  },
  {
   "cell_type": "code",
   "execution_count": 15,
   "id": "274004ce",
   "metadata": {
    "execution": {
     "iopub.execute_input": "2021-04-04T23:01:24.419351Z",
     "iopub.status.busy": "2021-04-04T23:01:24.415216Z",
     "iopub.status.idle": "2021-04-04T23:01:24.425143Z",
     "shell.execute_reply": "2021-04-04T23:01:24.425803Z"
    },
    "papermill": {
     "duration": 0.046959,
     "end_time": "2021-04-04T23:01:24.425998",
     "exception": false,
     "start_time": "2021-04-04T23:01:24.379039",
     "status": "completed"
    },
    "scrolled": true,
    "tags": []
   },
   "outputs": [],
   "source": [
    "inlier, outlier = working_df[working_df['defects'] == 0], working_df[working_df['defects'] == 1]"
   ]
  },
  {
   "cell_type": "code",
   "execution_count": 16,
   "id": "753c7b03",
   "metadata": {
    "execution": {
     "iopub.execute_input": "2021-04-04T23:01:24.482048Z",
     "iopub.status.busy": "2021-04-04T23:01:24.481205Z",
     "iopub.status.idle": "2021-04-04T23:01:24.484023Z",
     "shell.execute_reply": "2021-04-04T23:01:24.484495Z"
    },
    "papermill": {
     "duration": 0.032287,
     "end_time": "2021-04-04T23:01:24.484642",
     "exception": false,
     "start_time": "2021-04-04T23:01:24.452355",
     "status": "completed"
    },
    "tags": []
   },
   "outputs": [],
   "source": [
    "X_inlier = inlier.copy()\n",
    "y_inlier = X_inlier.pop('defects')\n",
    "X_outlier = outlier.copy()\n",
    "y_outlier = X_outlier.pop('defects')"
   ]
  },
  {
   "cell_type": "code",
   "execution_count": 17,
   "id": "2ba43193",
   "metadata": {
    "execution": {
     "iopub.execute_input": "2021-04-04T23:01:24.543299Z",
     "iopub.status.busy": "2021-04-04T23:01:24.542671Z",
     "iopub.status.idle": "2021-04-04T23:01:24.545482Z",
     "shell.execute_reply": "2021-04-04T23:01:24.544974Z"
    },
    "papermill": {
     "duration": 0.035386,
     "end_time": "2021-04-04T23:01:24.545603",
     "exception": false,
     "start_time": "2021-04-04T23:01:24.510217",
     "status": "completed"
    },
    "tags": []
   },
   "outputs": [],
   "source": [
    "test_size = dataset_config['test_size']\n",
    "random_state = dataset_config['random_state']\n",
    "\n",
    "X_inlier_train, X_inlier_test, y_inlier_train, y_inlier_test = train_test_split(\n",
    "    X_inlier,\n",
    "    y_inlier,\n",
    "    test_size=test_size,\n",
    "    random_state=random_state\n",
    ")"
   ]
  },
  {
   "cell_type": "code",
   "execution_count": 18,
   "id": "0b7582ca",
   "metadata": {
    "execution": {
     "iopub.execute_input": "2021-04-04T23:01:24.599290Z",
     "iopub.status.busy": "2021-04-04T23:01:24.597444Z",
     "iopub.status.idle": "2021-04-04T23:01:24.601632Z",
     "shell.execute_reply": "2021-04-04T23:01:24.601123Z"
    },
    "papermill": {
     "duration": 0.031605,
     "end_time": "2021-04-04T23:01:24.601752",
     "exception": false,
     "start_time": "2021-04-04T23:01:24.570147",
     "status": "completed"
    },
    "tags": []
   },
   "outputs": [],
   "source": [
    "test_outlier_size = dataset_config['test_outlier_size']\n",
    "if test_outlier_size > 0.0:\n",
    "    X_outlier_train, X_outlier_test, y_outlier_train, y_outlier_test = train_test_split(\n",
    "        X_outlier,\n",
    "        y_outlier,\n",
    "        test_size=test_outlier_size,\n",
    "        random_state=random_state\n",
    "    )\n",
    "else:\n",
    "    X_outlier_train, y_outlier_train = pd.DataFrame(columns=X_outlier.columns), pd.Series(dtype='int64')\n",
    "    X_outlier_test, y_outlier_test = X_outlier.copy(), y_outlier.copy()"
   ]
  },
  {
   "cell_type": "code",
   "execution_count": 19,
   "id": "c34363db",
   "metadata": {
    "execution": {
     "iopub.execute_input": "2021-04-04T23:01:24.666793Z",
     "iopub.status.busy": "2021-04-04T23:01:24.665969Z",
     "iopub.status.idle": "2021-04-04T23:01:24.670330Z",
     "shell.execute_reply": "2021-04-04T23:01:24.670861Z"
    },
    "papermill": {
     "duration": 0.044215,
     "end_time": "2021-04-04T23:01:24.671149",
     "exception": false,
     "start_time": "2021-04-04T23:01:24.626934",
     "status": "completed"
    },
    "tags": []
   },
   "outputs": [],
   "source": [
    "X_train, y_train = pd.concat([X_inlier_train, X_outlier_train], ignore_index=True), pd.concat([y_inlier_train, y_outlier_train], ignore_index=True)\n",
    "X_test, y_test = pd.concat([X_inlier_test, X_outlier_test], ignore_index=True), pd.concat([y_inlier_test, y_outlier_test], ignore_index=True)"
   ]
  },
  {
   "cell_type": "markdown",
   "id": "7cde7309",
   "metadata": {
    "papermill": {
     "duration": 0.025236,
     "end_time": "2021-04-04T23:01:24.720491",
     "exception": false,
     "start_time": "2021-04-04T23:01:24.695255",
     "status": "completed"
    },
    "tags": []
   },
   "source": [
    "# Model"
   ]
  },
  {
   "cell_type": "code",
   "execution_count": 20,
   "id": "2b12a415",
   "metadata": {
    "execution": {
     "iopub.execute_input": "2021-04-04T23:01:24.782748Z",
     "iopub.status.busy": "2021-04-04T23:01:24.781898Z",
     "iopub.status.idle": "2021-04-04T23:01:24.784079Z",
     "shell.execute_reply": "2021-04-04T23:01:24.784551Z"
    },
    "papermill": {
     "duration": 0.038669,
     "end_time": "2021-04-04T23:01:24.784699",
     "exception": false,
     "start_time": "2021-04-04T23:01:24.746030",
     "status": "completed"
    },
    "tags": []
   },
   "outputs": [],
   "source": [
    "from math import sqrt\n",
    "\n",
    "\n",
    "class KNNDataDescription:\n",
    "    def __init__(self, k=5, outlier_threshold=1.0):\n",
    "        self.k = k\n",
    "        self.outlier_threshold = outlier_threshold\n",
    "        self.X = []\n",
    "    \n",
    "    def fit(self, X):\n",
    "        self.X = [features.to_list() for index, features in X.iterrows()]\n",
    "\n",
    "    def predict(self, entries):\n",
    "        return [self.predict_entry(features.to_list()) for index, features in entries.iterrows()]\n",
    "    \n",
    "    def predict_entry(self, entry):\n",
    "        kth_neighbor, kth_distance = self.get_kth_neighbor(entry, self.k)\n",
    "        kth_kth_neighbor, kth_kth_distance = self.get_kth_neighbor(kth_neighbor, self.k + 1)\n",
    "\n",
    "        outlier_score = kth_distance / (kth_kth_distance + 0.000001)\n",
    "\n",
    "        return 1 if outlier_score < self.outlier_threshold else -1\n",
    "        \n",
    "    def euclidean_distance(self, features1, features2):\n",
    "        distance = 0.0\n",
    "        for feat1, feat2 in zip(features1, features2):\n",
    "            distance += (feat1 - feat2)**2\n",
    "                \n",
    "        return sqrt(distance)\n",
    "\n",
    "    def get_neighbors(self, entry, k):\n",
    "        distance_to_data_points = [\n",
    "            (data_point, self.euclidean_distance(entry, data_point))\n",
    "            for data_point in self.X\n",
    "        ]\n",
    "        sorted_by_distance = sorted(distance_to_data_points, key=lambda tup: tup[1])\n",
    "        neighbors = sorted_by_distance[:k]\n",
    "        return neighbors\n",
    "\n",
    "    def get_kth_neighbor(self, entry, k):\n",
    "        neighbors = self.get_neighbors(entry, k)\n",
    "        return neighbors[-1]\n"
   ]
  },
  {
   "cell_type": "code",
   "execution_count": 21,
   "id": "1fa9ec1c",
   "metadata": {
    "execution": {
     "iopub.execute_input": "2021-04-04T23:01:24.846552Z",
     "iopub.status.busy": "2021-04-04T23:01:24.845892Z",
     "iopub.status.idle": "2021-04-04T23:01:24.868200Z",
     "shell.execute_reply": "2021-04-04T23:01:24.868654Z"
    },
    "papermill": {
     "duration": 0.056369,
     "end_time": "2021-04-04T23:01:24.868794",
     "exception": false,
     "start_time": "2021-04-04T23:01:24.812425",
     "status": "completed"
    },
    "tags": []
   },
   "outputs": [],
   "source": [
    "from sklearn.svm import OneClassSVM\n",
    "\n",
    "\n",
    "models = {\n",
    "    'oneclasssvm': OneClassSVM,\n",
    "    'knndatadescription': KNNDataDescription,\n",
    "}"
   ]
  },
  {
   "cell_type": "code",
   "execution_count": 22,
   "id": "4d72a0b1",
   "metadata": {
    "execution": {
     "iopub.execute_input": "2021-04-04T23:01:24.926683Z",
     "iopub.status.busy": "2021-04-04T23:01:24.925970Z",
     "iopub.status.idle": "2021-04-04T23:01:24.927727Z",
     "shell.execute_reply": "2021-04-04T23:01:24.928191Z"
    },
    "papermill": {
     "duration": 0.035783,
     "end_time": "2021-04-04T23:01:24.928334",
     "exception": false,
     "start_time": "2021-04-04T23:01:24.892551",
     "status": "completed"
    },
    "scrolled": true,
    "tags": []
   },
   "outputs": [],
   "source": [
    "model_cls = models[model_config['model_type']]\n",
    "model = model_cls(**model_config['hyperparameters'])"
   ]
  },
  {
   "cell_type": "markdown",
   "id": "e00cff3b",
   "metadata": {
    "papermill": {
     "duration": 0.025144,
     "end_time": "2021-04-04T23:01:24.978544",
     "exception": false,
     "start_time": "2021-04-04T23:01:24.953400",
     "status": "completed"
    },
    "tags": []
   },
   "source": [
    "# Fit"
   ]
  },
  {
   "cell_type": "code",
   "execution_count": 23,
   "id": "8b2ded89",
   "metadata": {
    "execution": {
     "iopub.execute_input": "2021-04-04T23:01:25.037392Z",
     "iopub.status.busy": "2021-04-04T23:01:25.036541Z",
     "iopub.status.idle": "2021-04-04T23:01:25.070057Z",
     "shell.execute_reply": "2021-04-04T23:01:25.069534Z"
    },
    "papermill": {
     "duration": 0.068224,
     "end_time": "2021-04-04T23:01:25.070178",
     "exception": false,
     "start_time": "2021-04-04T23:01:25.001954",
     "status": "completed"
    },
    "tags": []
   },
   "outputs": [
    {
     "data": {
      "text/plain": [
       "OneClassSVM()"
      ]
     },
     "execution_count": 23,
     "metadata": {},
     "output_type": "execute_result"
    }
   ],
   "source": [
    "model.fit(X_train)"
   ]
  },
  {
   "cell_type": "markdown",
   "id": "f99999f7",
   "metadata": {
    "papermill": {
     "duration": 0.027223,
     "end_time": "2021-04-04T23:01:25.120643",
     "exception": false,
     "start_time": "2021-04-04T23:01:25.093420",
     "status": "completed"
    },
    "tags": []
   },
   "source": [
    "# Predict"
   ]
  },
  {
   "cell_type": "code",
   "execution_count": 24,
   "id": "6536fbf7",
   "metadata": {
    "execution": {
     "iopub.execute_input": "2021-04-04T23:01:25.183674Z",
     "iopub.status.busy": "2021-04-04T23:01:25.182629Z",
     "iopub.status.idle": "2021-04-04T23:01:25.196685Z",
     "shell.execute_reply": "2021-04-04T23:01:25.197247Z"
    },
    "papermill": {
     "duration": 0.053372,
     "end_time": "2021-04-04T23:01:25.197402",
     "exception": false,
     "start_time": "2021-04-04T23:01:25.144030",
     "status": "completed"
    },
    "tags": []
   },
   "outputs": [],
   "source": [
    "predictions = model.predict(X_test)"
   ]
  },
  {
   "cell_type": "markdown",
   "id": "aa1c9881",
   "metadata": {
    "papermill": {
     "duration": 0.023098,
     "end_time": "2021-04-04T23:01:25.245921",
     "exception": false,
     "start_time": "2021-04-04T23:01:25.222823",
     "status": "completed"
    },
    "tags": []
   },
   "source": [
    "# Evaluate"
   ]
  },
  {
   "cell_type": "code",
   "execution_count": 25,
   "id": "894f0f04",
   "metadata": {
    "execution": {
     "iopub.execute_input": "2021-04-04T23:01:25.310837Z",
     "iopub.status.busy": "2021-04-04T23:01:25.309763Z",
     "iopub.status.idle": "2021-04-04T23:01:25.312251Z",
     "shell.execute_reply": "2021-04-04T23:01:25.312821Z"
    },
    "papermill": {
     "duration": 0.039765,
     "end_time": "2021-04-04T23:01:25.313002",
     "exception": false,
     "start_time": "2021-04-04T23:01:25.273237",
     "status": "completed"
    },
    "tags": []
   },
   "outputs": [],
   "source": [
    "from sklearn.metrics import f1_score"
   ]
  },
  {
   "cell_type": "code",
   "execution_count": 26,
   "id": "211744d3",
   "metadata": {
    "execution": {
     "iopub.execute_input": "2021-04-04T23:01:25.380473Z",
     "iopub.status.busy": "2021-04-04T23:01:25.378345Z",
     "iopub.status.idle": "2021-04-04T23:01:25.382340Z",
     "shell.execute_reply": "2021-04-04T23:01:25.381837Z"
    },
    "papermill": {
     "duration": 0.045218,
     "end_time": "2021-04-04T23:01:25.382460",
     "exception": false,
     "start_time": "2021-04-04T23:01:25.337242",
     "status": "completed"
    },
    "tags": []
   },
   "outputs": [],
   "source": [
    "y_test = y_test.replace([0, 1], [1, -1])"
   ]
  },
  {
   "cell_type": "code",
   "execution_count": 27,
   "id": "d68a9204",
   "metadata": {
    "execution": {
     "iopub.execute_input": "2021-04-04T23:01:25.448490Z",
     "iopub.status.busy": "2021-04-04T23:01:25.447751Z",
     "iopub.status.idle": "2021-04-04T23:01:25.450194Z",
     "shell.execute_reply": "2021-04-04T23:01:25.449686Z"
    },
    "papermill": {
     "duration": 0.038842,
     "end_time": "2021-04-04T23:01:25.450313",
     "exception": false,
     "start_time": "2021-04-04T23:01:25.411471",
     "status": "completed"
    },
    "tags": []
   },
   "outputs": [],
   "source": [
    "def evaluate(truths, predictions, pos_label, neg_label):\n",
    "    TP = 0\n",
    "    FP = 0\n",
    "    TN = 0\n",
    "    FN = 0\n",
    "\n",
    "    for truth, pred in zip(truths, predictions): \n",
    "        if truth == pred == pos_label:\n",
    "           TP += 1\n",
    "        elif pred == pos_label and truth == neg_label:\n",
    "           FP += 1\n",
    "        elif truth == pred == neg_label:\n",
    "           TN += 1\n",
    "        elif pred == neg_label and truth == pos_label:\n",
    "           FN += 1\n",
    "\n",
    "    precision = TP / (TP + FP)\n",
    "    sensitivity = TP / (TP + FN)\n",
    "    \n",
    "    return {\n",
    "        'true_pos': TP,\n",
    "        'false_pos': FP,\n",
    "        'false_neg': FN,\n",
    "        'true_neg': TN,\n",
    "        'precision': precision,\n",
    "        'sensitivity': sensitivity,\n",
    "        'f1': (2 * (precision * sensitivity)) / (precision + sensitivity)\n",
    "    }\n",
    "\n",
    "score = evaluate(y_test, predictions, pos_label=-1, neg_label=1)"
   ]
  },
  {
   "cell_type": "markdown",
   "id": "93596516",
   "metadata": {
    "papermill": {
     "duration": 0.025315,
     "end_time": "2021-04-04T23:01:25.503384",
     "exception": false,
     "start_time": "2021-04-04T23:01:25.478069",
     "status": "completed"
    },
    "tags": []
   },
   "source": [
    "# Report"
   ]
  },
  {
   "cell_type": "code",
   "execution_count": 28,
   "id": "bea5fba1",
   "metadata": {
    "execution": {
     "iopub.execute_input": "2021-04-04T23:01:25.571105Z",
     "iopub.status.busy": "2021-04-04T23:01:25.569196Z",
     "iopub.status.idle": "2021-04-04T23:01:25.573707Z",
     "shell.execute_reply": "2021-04-04T23:01:25.573024Z"
    },
    "papermill": {
     "duration": 0.04421,
     "end_time": "2021-04-04T23:01:25.573876",
     "exception": false,
     "start_time": "2021-04-04T23:01:25.529666",
     "status": "completed"
    },
    "tags": []
   },
   "outputs": [],
   "source": [
    "import csv\n",
    "\n",
    "\n",
    "dataset_config_name = DATASET_CONFIG_PATH.split('/')[-1].split('.')[0]\n",
    "model_config_name = MODEL_CONFIG_PATH.split('/')[-1].split('.')[0]\n",
    "configuration = f\"dataset_{dataset_config_name}-model_{model_config_name}\"\n",
    "\n",
    "with open('results.csv', 'a') as f:\n",
    "    report = dict({'configuration': configuration}, **score)\n",
    "    writer = csv.DictWriter(f, report.keys())\n",
    "    writer.writerow(report)"
   ]
  }
 ],
 "metadata": {
  "celltoolbar": "Tags",
  "kernelspec": {
   "display_name": "Python 3",
   "language": "python",
   "name": "python3"
  },
  "language_info": {
   "codemirror_mode": {
    "name": "ipython",
    "version": 3
   },
   "file_extension": ".py",
   "mimetype": "text/x-python",
   "name": "python",
   "nbconvert_exporter": "python",
   "pygments_lexer": "ipython3",
   "version": "3.9.1"
  },
  "papermill": {
   "default_parameters": {},
   "duration": 6.056382,
   "end_time": "2021-04-04T23:01:27.197829",
   "environment_variables": {},
   "exception": null,
   "input_path": "main.ipynb",
   "output_path": "runs/dataset_000072-model_000004.ipynb",
   "parameters": {
    "DATASET_CONFIG_PATH": "config/dataset/000072.json",
    "MODEL_CONFIG_PATH": "config/model/000004.json",
    "PROFILE_REPORTING": false
   },
   "start_time": "2021-04-04T23:01:21.141447",
   "version": "2.3.3"
  }
 },
 "nbformat": 4,
 "nbformat_minor": 5
}