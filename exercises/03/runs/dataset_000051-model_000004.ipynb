{
 "cells": [
  {
   "cell_type": "markdown",
   "id": "51c71c25",
   "metadata": {
    "papermill": {
     "duration": 0.023774,
     "end_time": "2021-04-04T22:50:26.624092",
     "exception": false,
     "start_time": "2021-04-04T22:50:26.600318",
     "status": "completed"
    },
    "tags": []
   },
   "source": [
    "# Parametrizing"
   ]
  },
  {
   "cell_type": "code",
   "execution_count": 1,
   "id": "3b136394",
   "metadata": {
    "execution": {
     "iopub.execute_input": "2021-04-04T22:50:26.682668Z",
     "iopub.status.busy": "2021-04-04T22:50:26.681650Z",
     "iopub.status.idle": "2021-04-04T22:50:26.684359Z",
     "shell.execute_reply": "2021-04-04T22:50:26.683660Z"
    },
    "papermill": {
     "duration": 0.04014,
     "end_time": "2021-04-04T22:50:26.684528",
     "exception": false,
     "start_time": "2021-04-04T22:50:26.644388",
     "status": "completed"
    },
    "tags": [
     "parameters"
    ]
   },
   "outputs": [],
   "source": [
    "DATASET_CONFIG_PATH = 'config/dataset/kc1_001.json'\n",
    "MODEL_CONFIG_PATH = 'config/model/knndd_001.json'\n",
    "PROFILE_REPORTING = False"
   ]
  },
  {
   "cell_type": "code",
   "execution_count": 2,
   "id": "2c6c1ce7",
   "metadata": {
    "execution": {
     "iopub.execute_input": "2021-04-04T22:50:26.735099Z",
     "iopub.status.busy": "2021-04-04T22:50:26.734010Z",
     "iopub.status.idle": "2021-04-04T22:50:26.739627Z",
     "shell.execute_reply": "2021-04-04T22:50:26.738544Z"
    },
    "papermill": {
     "duration": 0.033231,
     "end_time": "2021-04-04T22:50:26.739796",
     "exception": false,
     "start_time": "2021-04-04T22:50:26.706565",
     "status": "completed"
    },
    "tags": [
     "injected-parameters"
    ]
   },
   "outputs": [],
   "source": [
    "# Parameters\n",
    "DATASET_CONFIG_PATH = \"config/dataset/000051.json\"\n",
    "MODEL_CONFIG_PATH = \"config/model/000004.json\"\n",
    "PROFILE_REPORTING = False\n"
   ]
  },
  {
   "cell_type": "code",
   "execution_count": 3,
   "id": "b80f2a10",
   "metadata": {
    "execution": {
     "iopub.execute_input": "2021-04-04T22:50:26.794266Z",
     "iopub.status.busy": "2021-04-04T22:50:26.793671Z",
     "iopub.status.idle": "2021-04-04T22:50:26.796091Z",
     "shell.execute_reply": "2021-04-04T22:50:26.795593Z"
    },
    "papermill": {
     "duration": 0.033018,
     "end_time": "2021-04-04T22:50:26.796208",
     "exception": false,
     "start_time": "2021-04-04T22:50:26.763190",
     "status": "completed"
    },
    "tags": []
   },
   "outputs": [],
   "source": [
    "import json\n",
    "\n",
    "\n",
    "with open(DATASET_CONFIG_PATH) as f:\n",
    "    dataset_config = json.load(f)\n",
    "\n",
    "with open(MODEL_CONFIG_PATH) as f:\n",
    "    model_config = json.load(f)"
   ]
  },
  {
   "cell_type": "markdown",
   "id": "9a4b0e2d",
   "metadata": {
    "papermill": {
     "duration": 0.022266,
     "end_time": "2021-04-04T22:50:26.839734",
     "exception": false,
     "start_time": "2021-04-04T22:50:26.817468",
     "status": "completed"
    },
    "tags": []
   },
   "source": [
    "# Profiling"
   ]
  },
  {
   "cell_type": "code",
   "execution_count": 4,
   "id": "a3e0289b",
   "metadata": {
    "execution": {
     "iopub.execute_input": "2021-04-04T22:50:26.888642Z",
     "iopub.status.busy": "2021-04-04T22:50:26.887219Z",
     "iopub.status.idle": "2021-04-04T22:50:28.654404Z",
     "shell.execute_reply": "2021-04-04T22:50:28.654867Z"
    },
    "papermill": {
     "duration": 1.795741,
     "end_time": "2021-04-04T22:50:28.655010",
     "exception": false,
     "start_time": "2021-04-04T22:50:26.859269",
     "status": "completed"
    },
    "tags": []
   },
   "outputs": [],
   "source": [
    "import pandas as pd\n",
    "from pandas_profiling import ProfileReport"
   ]
  },
  {
   "cell_type": "code",
   "execution_count": 5,
   "id": "ee6c0666",
   "metadata": {
    "execution": {
     "iopub.execute_input": "2021-04-04T22:50:28.708350Z",
     "iopub.status.busy": "2021-04-04T22:50:28.707438Z",
     "iopub.status.idle": "2021-04-04T22:50:28.718216Z",
     "shell.execute_reply": "2021-04-04T22:50:28.718813Z"
    },
    "papermill": {
     "duration": 0.041855,
     "end_time": "2021-04-04T22:50:28.719003",
     "exception": false,
     "start_time": "2021-04-04T22:50:28.677148",
     "status": "completed"
    },
    "tags": []
   },
   "outputs": [],
   "source": [
    "df = pd.read_csv(dataset_config['dataset_path'])"
   ]
  },
  {
   "cell_type": "code",
   "execution_count": 6,
   "id": "7eca6c4a",
   "metadata": {
    "execution": {
     "iopub.execute_input": "2021-04-04T22:50:28.781326Z",
     "iopub.status.busy": "2021-04-04T22:50:28.770102Z",
     "iopub.status.idle": "2021-04-04T22:50:28.787690Z",
     "shell.execute_reply": "2021-04-04T22:50:28.788567Z"
    },
    "papermill": {
     "duration": 0.045177,
     "end_time": "2021-04-04T22:50:28.788782",
     "exception": false,
     "start_time": "2021-04-04T22:50:28.743605",
     "status": "completed"
    },
    "tags": []
   },
   "outputs": [
    {
     "name": "stdout",
     "output_type": "stream",
     "text": [
      "<class 'pandas.core.frame.DataFrame'>\n",
      "RangeIndex: 2109 entries, 0 to 2108\n",
      "Data columns (total 23 columns):\n",
      " #   Column             Non-Null Count  Dtype  \n",
      "---  ------             --------------  -----  \n",
      " 0   id                 2109 non-null   int64  \n",
      " 1   loc                2109 non-null   float64\n",
      " 2   v(g)               2109 non-null   float64\n",
      " 3   ev(g)              2109 non-null   float64\n",
      " 4   iv(g)              2109 non-null   float64\n",
      " 5   n                  2109 non-null   float64\n",
      " 6   v                  2109 non-null   float64\n",
      " 7   l                  2109 non-null   float64\n",
      " 8   d                  2109 non-null   float64\n",
      " 9   i                  2109 non-null   float64\n",
      " 10  e                  2109 non-null   float64\n",
      " 11  b                  2109 non-null   float64\n",
      " 12  t                  2109 non-null   float64\n",
      " 13  lOCode             2109 non-null   int64  \n",
      " 14  lOComment          2109 non-null   int64  \n",
      " 15  lOBlank            2109 non-null   int64  \n",
      " 16  locCodeAndComment  2109 non-null   int64  \n",
      " 17  uniq_Op            2109 non-null   float64\n",
      " 18  uniq_Opnd          2109 non-null   float64\n",
      " 19  total_Op           2109 non-null   float64\n",
      " 20  total_Opnd         2109 non-null   float64\n",
      " 21  branchCount        2109 non-null   float64\n",
      " 22  defects            2109 non-null   bool   \n",
      "dtypes: bool(1), float64(17), int64(5)\n",
      "memory usage: 364.7 KB\n"
     ]
    }
   ],
   "source": [
    "df.info()"
   ]
  },
  {
   "cell_type": "code",
   "execution_count": 7,
   "id": "3638e5e8",
   "metadata": {
    "execution": {
     "iopub.execute_input": "2021-04-04T22:50:28.871158Z",
     "iopub.status.busy": "2021-04-04T22:50:28.865056Z",
     "iopub.status.idle": "2021-04-04T22:50:28.932618Z",
     "shell.execute_reply": "2021-04-04T22:50:28.933897Z"
    },
    "papermill": {
     "duration": 0.119611,
     "end_time": "2021-04-04T22:50:28.934227",
     "exception": false,
     "start_time": "2021-04-04T22:50:28.814616",
     "status": "completed"
    },
    "tags": []
   },
   "outputs": [
    {
     "data": {
      "text/html": [
       "<div>\n",
       "<style scoped>\n",
       "    .dataframe tbody tr th:only-of-type {\n",
       "        vertical-align: middle;\n",
       "    }\n",
       "\n",
       "    .dataframe tbody tr th {\n",
       "        vertical-align: top;\n",
       "    }\n",
       "\n",
       "    .dataframe thead th {\n",
       "        text-align: right;\n",
       "    }\n",
       "</style>\n",
       "<table border=\"1\" class=\"dataframe\">\n",
       "  <thead>\n",
       "    <tr style=\"text-align: right;\">\n",
       "      <th></th>\n",
       "      <th>id</th>\n",
       "      <th>loc</th>\n",
       "      <th>v(g)</th>\n",
       "      <th>ev(g)</th>\n",
       "      <th>iv(g)</th>\n",
       "      <th>n</th>\n",
       "      <th>v</th>\n",
       "      <th>l</th>\n",
       "      <th>d</th>\n",
       "      <th>i</th>\n",
       "      <th>...</th>\n",
       "      <th>lOCode</th>\n",
       "      <th>lOComment</th>\n",
       "      <th>lOBlank</th>\n",
       "      <th>locCodeAndComment</th>\n",
       "      <th>uniq_Op</th>\n",
       "      <th>uniq_Opnd</th>\n",
       "      <th>total_Op</th>\n",
       "      <th>total_Opnd</th>\n",
       "      <th>branchCount</th>\n",
       "      <th>defects</th>\n",
       "    </tr>\n",
       "  </thead>\n",
       "  <tbody>\n",
       "    <tr>\n",
       "      <th>0</th>\n",
       "      <td>1</td>\n",
       "      <td>1.1</td>\n",
       "      <td>1.4</td>\n",
       "      <td>1.4</td>\n",
       "      <td>1.4</td>\n",
       "      <td>1.3</td>\n",
       "      <td>1.30</td>\n",
       "      <td>1.30</td>\n",
       "      <td>1.30</td>\n",
       "      <td>1.30</td>\n",
       "      <td>...</td>\n",
       "      <td>2</td>\n",
       "      <td>2</td>\n",
       "      <td>2</td>\n",
       "      <td>2</td>\n",
       "      <td>1.2</td>\n",
       "      <td>1.2</td>\n",
       "      <td>1.2</td>\n",
       "      <td>1.2</td>\n",
       "      <td>1.4</td>\n",
       "      <td>False</td>\n",
       "    </tr>\n",
       "    <tr>\n",
       "      <th>1</th>\n",
       "      <td>2</td>\n",
       "      <td>1.0</td>\n",
       "      <td>1.0</td>\n",
       "      <td>1.0</td>\n",
       "      <td>1.0</td>\n",
       "      <td>1.0</td>\n",
       "      <td>1.00</td>\n",
       "      <td>1.00</td>\n",
       "      <td>1.00</td>\n",
       "      <td>1.00</td>\n",
       "      <td>...</td>\n",
       "      <td>1</td>\n",
       "      <td>1</td>\n",
       "      <td>1</td>\n",
       "      <td>1</td>\n",
       "      <td>1.0</td>\n",
       "      <td>1.0</td>\n",
       "      <td>1.0</td>\n",
       "      <td>1.0</td>\n",
       "      <td>1.0</td>\n",
       "      <td>True</td>\n",
       "    </tr>\n",
       "    <tr>\n",
       "      <th>2</th>\n",
       "      <td>3</td>\n",
       "      <td>83.0</td>\n",
       "      <td>11.0</td>\n",
       "      <td>1.0</td>\n",
       "      <td>11.0</td>\n",
       "      <td>171.0</td>\n",
       "      <td>927.89</td>\n",
       "      <td>0.04</td>\n",
       "      <td>23.04</td>\n",
       "      <td>40.27</td>\n",
       "      <td>...</td>\n",
       "      <td>65</td>\n",
       "      <td>10</td>\n",
       "      <td>6</td>\n",
       "      <td>0</td>\n",
       "      <td>18.0</td>\n",
       "      <td>25.0</td>\n",
       "      <td>107.0</td>\n",
       "      <td>64.0</td>\n",
       "      <td>21.0</td>\n",
       "      <td>True</td>\n",
       "    </tr>\n",
       "    <tr>\n",
       "      <th>3</th>\n",
       "      <td>4</td>\n",
       "      <td>46.0</td>\n",
       "      <td>8.0</td>\n",
       "      <td>6.0</td>\n",
       "      <td>8.0</td>\n",
       "      <td>141.0</td>\n",
       "      <td>769.78</td>\n",
       "      <td>0.07</td>\n",
       "      <td>14.86</td>\n",
       "      <td>51.81</td>\n",
       "      <td>...</td>\n",
       "      <td>37</td>\n",
       "      <td>2</td>\n",
       "      <td>5</td>\n",
       "      <td>0</td>\n",
       "      <td>16.0</td>\n",
       "      <td>28.0</td>\n",
       "      <td>89.0</td>\n",
       "      <td>52.0</td>\n",
       "      <td>15.0</td>\n",
       "      <td>True</td>\n",
       "    </tr>\n",
       "    <tr>\n",
       "      <th>4</th>\n",
       "      <td>5</td>\n",
       "      <td>25.0</td>\n",
       "      <td>3.0</td>\n",
       "      <td>1.0</td>\n",
       "      <td>3.0</td>\n",
       "      <td>58.0</td>\n",
       "      <td>254.75</td>\n",
       "      <td>0.11</td>\n",
       "      <td>9.35</td>\n",
       "      <td>27.25</td>\n",
       "      <td>...</td>\n",
       "      <td>21</td>\n",
       "      <td>0</td>\n",
       "      <td>2</td>\n",
       "      <td>0</td>\n",
       "      <td>11.0</td>\n",
       "      <td>10.0</td>\n",
       "      <td>41.0</td>\n",
       "      <td>17.0</td>\n",
       "      <td>5.0</td>\n",
       "      <td>True</td>\n",
       "    </tr>\n",
       "  </tbody>\n",
       "</table>\n",
       "<p>5 rows × 23 columns</p>\n",
       "</div>"
      ],
      "text/plain": [
       "   id   loc  v(g)  ev(g)  iv(g)      n       v     l      d      i  ...  \\\n",
       "0   1   1.1   1.4    1.4    1.4    1.3    1.30  1.30   1.30   1.30  ...   \n",
       "1   2   1.0   1.0    1.0    1.0    1.0    1.00  1.00   1.00   1.00  ...   \n",
       "2   3  83.0  11.0    1.0   11.0  171.0  927.89  0.04  23.04  40.27  ...   \n",
       "3   4  46.0   8.0    6.0    8.0  141.0  769.78  0.07  14.86  51.81  ...   \n",
       "4   5  25.0   3.0    1.0    3.0   58.0  254.75  0.11   9.35  27.25  ...   \n",
       "\n",
       "   lOCode  lOComment  lOBlank  locCodeAndComment  uniq_Op  uniq_Opnd  \\\n",
       "0       2          2        2                  2      1.2        1.2   \n",
       "1       1          1        1                  1      1.0        1.0   \n",
       "2      65         10        6                  0     18.0       25.0   \n",
       "3      37          2        5                  0     16.0       28.0   \n",
       "4      21          0        2                  0     11.0       10.0   \n",
       "\n",
       "   total_Op  total_Opnd  branchCount  defects  \n",
       "0       1.2         1.2          1.4    False  \n",
       "1       1.0         1.0          1.0     True  \n",
       "2     107.0        64.0         21.0     True  \n",
       "3      89.0        52.0         15.0     True  \n",
       "4      41.0        17.0          5.0     True  \n",
       "\n",
       "[5 rows x 23 columns]"
      ]
     },
     "execution_count": 7,
     "metadata": {},
     "output_type": "execute_result"
    }
   ],
   "source": [
    "df.head()"
   ]
  },
  {
   "cell_type": "code",
   "execution_count": 8,
   "id": "733e95eb",
   "metadata": {
    "execution": {
     "iopub.execute_input": "2021-04-04T22:50:29.018745Z",
     "iopub.status.busy": "2021-04-04T22:50:29.015617Z",
     "iopub.status.idle": "2021-04-04T22:50:29.020643Z",
     "shell.execute_reply": "2021-04-04T22:50:29.020051Z"
    },
    "papermill": {
     "duration": 0.047803,
     "end_time": "2021-04-04T22:50:29.020805",
     "exception": false,
     "start_time": "2021-04-04T22:50:28.973002",
     "status": "completed"
    },
    "tags": []
   },
   "outputs": [],
   "source": [
    "del df['id']"
   ]
  },
  {
   "cell_type": "code",
   "execution_count": 9,
   "id": "6ff6f5b0",
   "metadata": {
    "execution": {
     "iopub.execute_input": "2021-04-04T22:50:29.075215Z",
     "iopub.status.busy": "2021-04-04T22:50:29.074258Z",
     "iopub.status.idle": "2021-04-04T22:50:29.076838Z",
     "shell.execute_reply": "2021-04-04T22:50:29.077431Z"
    },
    "papermill": {
     "duration": 0.029749,
     "end_time": "2021-04-04T22:50:29.077610",
     "exception": false,
     "start_time": "2021-04-04T22:50:29.047861",
     "status": "completed"
    },
    "tags": []
   },
   "outputs": [],
   "source": [
    "if PROFILE_REPORTING:\n",
    "    ProfileReport(df).to_widgets()"
   ]
  },
  {
   "cell_type": "markdown",
   "id": "1deaf3f0",
   "metadata": {
    "papermill": {
     "duration": 0.032439,
     "end_time": "2021-04-04T22:50:29.133809",
     "exception": false,
     "start_time": "2021-04-04T22:50:29.101370",
     "status": "completed"
    },
    "tags": []
   },
   "source": [
    "# Preprocess"
   ]
  },
  {
   "cell_type": "code",
   "execution_count": 10,
   "id": "1513e563",
   "metadata": {
    "execution": {
     "iopub.execute_input": "2021-04-04T22:50:29.187762Z",
     "iopub.status.busy": "2021-04-04T22:50:29.187001Z",
     "iopub.status.idle": "2021-04-04T22:50:29.189321Z",
     "shell.execute_reply": "2021-04-04T22:50:29.188744Z"
    },
    "papermill": {
     "duration": 0.029181,
     "end_time": "2021-04-04T22:50:29.189440",
     "exception": false,
     "start_time": "2021-04-04T22:50:29.160259",
     "status": "completed"
    },
    "tags": []
   },
   "outputs": [],
   "source": [
    "working_df = df.copy()"
   ]
  },
  {
   "cell_type": "code",
   "execution_count": 11,
   "id": "3b26d675",
   "metadata": {
    "execution": {
     "iopub.execute_input": "2021-04-04T22:50:29.261616Z",
     "iopub.status.busy": "2021-04-04T22:50:29.260696Z",
     "iopub.status.idle": "2021-04-04T22:50:29.270620Z",
     "shell.execute_reply": "2021-04-04T22:50:29.268970Z"
    },
    "papermill": {
     "duration": 0.056765,
     "end_time": "2021-04-04T22:50:29.271081",
     "exception": false,
     "start_time": "2021-04-04T22:50:29.214316",
     "status": "completed"
    },
    "tags": []
   },
   "outputs": [],
   "source": [
    "working_df['defects'] = working_df['defects'].replace([False, True], [0, 1])"
   ]
  },
  {
   "cell_type": "code",
   "execution_count": 12,
   "id": "eb48604f",
   "metadata": {
    "execution": {
     "iopub.execute_input": "2021-04-04T22:50:29.387321Z",
     "iopub.status.busy": "2021-04-04T22:50:29.384344Z",
     "iopub.status.idle": "2021-04-04T22:50:29.389919Z",
     "shell.execute_reply": "2021-04-04T22:50:29.391032Z"
    },
    "papermill": {
     "duration": 0.068378,
     "end_time": "2021-04-04T22:50:29.391395",
     "exception": false,
     "start_time": "2021-04-04T22:50:29.323017",
     "status": "completed"
    },
    "tags": []
   },
   "outputs": [],
   "source": [
    "for col in dataset_config['delete_columns']:\n",
    "    del working_df[col]"
   ]
  },
  {
   "cell_type": "code",
   "execution_count": 13,
   "id": "9a17bc29",
   "metadata": {
    "execution": {
     "iopub.execute_input": "2021-04-04T22:50:29.480458Z",
     "iopub.status.busy": "2021-04-04T22:50:29.479462Z",
     "iopub.status.idle": "2021-04-04T22:50:29.500090Z",
     "shell.execute_reply": "2021-04-04T22:50:29.498673Z"
    },
    "papermill": {
     "duration": 0.062803,
     "end_time": "2021-04-04T22:50:29.500335",
     "exception": false,
     "start_time": "2021-04-04T22:50:29.437532",
     "status": "completed"
    },
    "tags": []
   },
   "outputs": [],
   "source": [
    "working_df = working_df.drop_duplicates()"
   ]
  },
  {
   "cell_type": "markdown",
   "id": "a4d52ca6",
   "metadata": {
    "papermill": {
     "duration": 0.045595,
     "end_time": "2021-04-04T22:50:29.594466",
     "exception": false,
     "start_time": "2021-04-04T22:50:29.548871",
     "status": "completed"
    },
    "tags": []
   },
   "source": [
    "# Split"
   ]
  },
  {
   "cell_type": "code",
   "execution_count": 14,
   "id": "3e9ee4b5",
   "metadata": {
    "execution": {
     "iopub.execute_input": "2021-04-04T22:50:29.683621Z",
     "iopub.status.busy": "2021-04-04T22:50:29.680933Z",
     "iopub.status.idle": "2021-04-04T22:50:29.751611Z",
     "shell.execute_reply": "2021-04-04T22:50:29.752654Z"
    },
    "papermill": {
     "duration": 0.121862,
     "end_time": "2021-04-04T22:50:29.752949",
     "exception": false,
     "start_time": "2021-04-04T22:50:29.631087",
     "status": "completed"
    },
    "tags": []
   },
   "outputs": [],
   "source": [
    "from sklearn.model_selection import train_test_split"
   ]
  },
  {
   "cell_type": "code",
   "execution_count": 15,
   "id": "274004ce",
   "metadata": {
    "execution": {
     "iopub.execute_input": "2021-04-04T22:50:29.845318Z",
     "iopub.status.busy": "2021-04-04T22:50:29.844345Z",
     "iopub.status.idle": "2021-04-04T22:50:29.854890Z",
     "shell.execute_reply": "2021-04-04T22:50:29.856070Z"
    },
    "papermill": {
     "duration": 0.060926,
     "end_time": "2021-04-04T22:50:29.856451",
     "exception": false,
     "start_time": "2021-04-04T22:50:29.795525",
     "status": "completed"
    },
    "scrolled": true,
    "tags": []
   },
   "outputs": [],
   "source": [
    "inlier, outlier = working_df[working_df['defects'] == 0], working_df[working_df['defects'] == 1]"
   ]
  },
  {
   "cell_type": "code",
   "execution_count": 16,
   "id": "753c7b03",
   "metadata": {
    "execution": {
     "iopub.execute_input": "2021-04-04T22:50:29.960737Z",
     "iopub.status.busy": "2021-04-04T22:50:29.959030Z",
     "iopub.status.idle": "2021-04-04T22:50:29.968059Z",
     "shell.execute_reply": "2021-04-04T22:50:29.971127Z"
    },
    "papermill": {
     "duration": 0.075893,
     "end_time": "2021-04-04T22:50:29.971675",
     "exception": false,
     "start_time": "2021-04-04T22:50:29.895782",
     "status": "completed"
    },
    "tags": []
   },
   "outputs": [],
   "source": [
    "X_inlier = inlier.copy()\n",
    "y_inlier = X_inlier.pop('defects')\n",
    "X_outlier = outlier.copy()\n",
    "y_outlier = X_outlier.pop('defects')"
   ]
  },
  {
   "cell_type": "code",
   "execution_count": 17,
   "id": "2ba43193",
   "metadata": {
    "execution": {
     "iopub.execute_input": "2021-04-04T22:50:30.077052Z",
     "iopub.status.busy": "2021-04-04T22:50:30.074515Z",
     "iopub.status.idle": "2021-04-04T22:50:30.085629Z",
     "shell.execute_reply": "2021-04-04T22:50:30.087603Z"
    },
    "papermill": {
     "duration": 0.063667,
     "end_time": "2021-04-04T22:50:30.088197",
     "exception": false,
     "start_time": "2021-04-04T22:50:30.024530",
     "status": "completed"
    },
    "tags": []
   },
   "outputs": [],
   "source": [
    "test_size = dataset_config['test_size']\n",
    "random_state = dataset_config['random_state']\n",
    "\n",
    "X_inlier_train, X_inlier_test, y_inlier_train, y_inlier_test = train_test_split(\n",
    "    X_inlier,\n",
    "    y_inlier,\n",
    "    test_size=test_size,\n",
    "    random_state=random_state\n",
    ")"
   ]
  },
  {
   "cell_type": "code",
   "execution_count": 18,
   "id": "0b7582ca",
   "metadata": {
    "execution": {
     "iopub.execute_input": "2021-04-04T22:50:30.183322Z",
     "iopub.status.busy": "2021-04-04T22:50:30.182292Z",
     "iopub.status.idle": "2021-04-04T22:50:30.187884Z",
     "shell.execute_reply": "2021-04-04T22:50:30.186132Z"
    },
    "papermill": {
     "duration": 0.053499,
     "end_time": "2021-04-04T22:50:30.188266",
     "exception": false,
     "start_time": "2021-04-04T22:50:30.134767",
     "status": "completed"
    },
    "tags": []
   },
   "outputs": [],
   "source": [
    "test_outlier_size = dataset_config['test_outlier_size']\n",
    "if test_outlier_size > 0.0:\n",
    "    X_outlier_train, X_outlier_test, y_outlier_train, y_outlier_test = train_test_split(\n",
    "        X_outlier,\n",
    "        y_outlier,\n",
    "        test_size=test_outlier_size,\n",
    "        random_state=random_state\n",
    "    )\n",
    "else:\n",
    "    X_outlier_train, y_outlier_train = pd.DataFrame(columns=X_outlier.columns), pd.Series(dtype='int64')\n",
    "    X_outlier_test, y_outlier_test = X_outlier.copy(), y_outlier.copy()"
   ]
  },
  {
   "cell_type": "code",
   "execution_count": 19,
   "id": "c34363db",
   "metadata": {
    "execution": {
     "iopub.execute_input": "2021-04-04T22:50:30.247059Z",
     "iopub.status.busy": "2021-04-04T22:50:30.245886Z",
     "iopub.status.idle": "2021-04-04T22:50:30.251751Z",
     "shell.execute_reply": "2021-04-04T22:50:30.251232Z"
    },
    "papermill": {
     "duration": 0.039254,
     "end_time": "2021-04-04T22:50:30.251872",
     "exception": false,
     "start_time": "2021-04-04T22:50:30.212618",
     "status": "completed"
    },
    "tags": []
   },
   "outputs": [],
   "source": [
    "X_train, y_train = pd.concat([X_inlier_train, X_outlier_train], ignore_index=True), pd.concat([y_inlier_train, y_outlier_train], ignore_index=True)\n",
    "X_test, y_test = pd.concat([X_inlier_test, X_outlier_test], ignore_index=True), pd.concat([y_inlier_test, y_outlier_test], ignore_index=True)"
   ]
  },
  {
   "cell_type": "markdown",
   "id": "7cde7309",
   "metadata": {
    "papermill": {
     "duration": 0.029156,
     "end_time": "2021-04-04T22:50:30.305176",
     "exception": false,
     "start_time": "2021-04-04T22:50:30.276020",
     "status": "completed"
    },
    "tags": []
   },
   "source": [
    "# Model"
   ]
  },
  {
   "cell_type": "code",
   "execution_count": 20,
   "id": "2b12a415",
   "metadata": {
    "execution": {
     "iopub.execute_input": "2021-04-04T22:50:30.384528Z",
     "iopub.status.busy": "2021-04-04T22:50:30.380543Z",
     "iopub.status.idle": "2021-04-04T22:50:30.386364Z",
     "shell.execute_reply": "2021-04-04T22:50:30.386868Z"
    },
    "papermill": {
     "duration": 0.049527,
     "end_time": "2021-04-04T22:50:30.387017",
     "exception": false,
     "start_time": "2021-04-04T22:50:30.337490",
     "status": "completed"
    },
    "tags": []
   },
   "outputs": [],
   "source": [
    "from math import sqrt\n",
    "\n",
    "\n",
    "class KNNDataDescription:\n",
    "    def __init__(self, k=5, outlier_threshold=1.0):\n",
    "        self.k = k\n",
    "        self.outlier_threshold = outlier_threshold\n",
    "        self.X = []\n",
    "    \n",
    "    def fit(self, X):\n",
    "        self.X = [features.to_list() for index, features in X.iterrows()]\n",
    "\n",
    "    def predict(self, entries):\n",
    "        return [self.predict_entry(features.to_list()) for index, features in entries.iterrows()]\n",
    "    \n",
    "    def predict_entry(self, entry):\n",
    "        kth_neighbor, kth_distance = self.get_kth_neighbor(entry, self.k)\n",
    "        kth_kth_neighbor, kth_kth_distance = self.get_kth_neighbor(kth_neighbor, self.k + 1)\n",
    "\n",
    "        outlier_score = kth_distance / (kth_kth_distance + 0.000001)\n",
    "\n",
    "        return 1 if outlier_score < self.outlier_threshold else -1\n",
    "        \n",
    "    def euclidean_distance(self, features1, features2):\n",
    "        distance = 0.0\n",
    "        for feat1, feat2 in zip(features1, features2):\n",
    "            distance += (feat1 - feat2)**2\n",
    "                \n",
    "        return sqrt(distance)\n",
    "\n",
    "    def get_neighbors(self, entry, k):\n",
    "        distance_to_data_points = [\n",
    "            (data_point, self.euclidean_distance(entry, data_point))\n",
    "            for data_point in self.X\n",
    "        ]\n",
    "        sorted_by_distance = sorted(distance_to_data_points, key=lambda tup: tup[1])\n",
    "        neighbors = sorted_by_distance[:k]\n",
    "        return neighbors\n",
    "\n",
    "    def get_kth_neighbor(self, entry, k):\n",
    "        neighbors = self.get_neighbors(entry, k)\n",
    "        return neighbors[-1]\n"
   ]
  },
  {
   "cell_type": "code",
   "execution_count": 21,
   "id": "1fa9ec1c",
   "metadata": {
    "execution": {
     "iopub.execute_input": "2021-04-04T22:50:30.446820Z",
     "iopub.status.busy": "2021-04-04T22:50:30.445851Z",
     "iopub.status.idle": "2021-04-04T22:50:30.468488Z",
     "shell.execute_reply": "2021-04-04T22:50:30.468940Z"
    },
    "papermill": {
     "duration": 0.057181,
     "end_time": "2021-04-04T22:50:30.469080",
     "exception": false,
     "start_time": "2021-04-04T22:50:30.411899",
     "status": "completed"
    },
    "tags": []
   },
   "outputs": [],
   "source": [
    "from sklearn.svm import OneClassSVM\n",
    "\n",
    "\n",
    "models = {\n",
    "    'oneclasssvm': OneClassSVM,\n",
    "    'knndatadescription': KNNDataDescription,\n",
    "}"
   ]
  },
  {
   "cell_type": "code",
   "execution_count": 22,
   "id": "4d72a0b1",
   "metadata": {
    "execution": {
     "iopub.execute_input": "2021-04-04T22:50:30.521732Z",
     "iopub.status.busy": "2021-04-04T22:50:30.521148Z",
     "iopub.status.idle": "2021-04-04T22:50:30.523355Z",
     "shell.execute_reply": "2021-04-04T22:50:30.523877Z"
    },
    "papermill": {
     "duration": 0.028999,
     "end_time": "2021-04-04T22:50:30.524054",
     "exception": false,
     "start_time": "2021-04-04T22:50:30.495055",
     "status": "completed"
    },
    "scrolled": true,
    "tags": []
   },
   "outputs": [],
   "source": [
    "model_cls = models[model_config['model_type']]\n",
    "model = model_cls(**model_config['hyperparameters'])"
   ]
  },
  {
   "cell_type": "markdown",
   "id": "e00cff3b",
   "metadata": {
    "papermill": {
     "duration": 0.026388,
     "end_time": "2021-04-04T22:50:30.574595",
     "exception": false,
     "start_time": "2021-04-04T22:50:30.548207",
     "status": "completed"
    },
    "tags": []
   },
   "source": [
    "# Fit"
   ]
  },
  {
   "cell_type": "code",
   "execution_count": 23,
   "id": "8b2ded89",
   "metadata": {
    "execution": {
     "iopub.execute_input": "2021-04-04T22:50:30.628713Z",
     "iopub.status.busy": "2021-04-04T22:50:30.626813Z",
     "iopub.status.idle": "2021-04-04T22:50:30.664472Z",
     "shell.execute_reply": "2021-04-04T22:50:30.664946Z"
    },
    "papermill": {
     "duration": 0.065478,
     "end_time": "2021-04-04T22:50:30.665091",
     "exception": false,
     "start_time": "2021-04-04T22:50:30.599613",
     "status": "completed"
    },
    "tags": []
   },
   "outputs": [
    {
     "data": {
      "text/plain": [
       "OneClassSVM()"
      ]
     },
     "execution_count": 23,
     "metadata": {},
     "output_type": "execute_result"
    }
   ],
   "source": [
    "model.fit(X_train)"
   ]
  },
  {
   "cell_type": "markdown",
   "id": "f99999f7",
   "metadata": {
    "papermill": {
     "duration": 0.027599,
     "end_time": "2021-04-04T22:50:30.718281",
     "exception": false,
     "start_time": "2021-04-04T22:50:30.690682",
     "status": "completed"
    },
    "tags": []
   },
   "source": [
    "# Predict"
   ]
  },
  {
   "cell_type": "code",
   "execution_count": 24,
   "id": "6536fbf7",
   "metadata": {
    "execution": {
     "iopub.execute_input": "2021-04-04T22:50:30.777532Z",
     "iopub.status.busy": "2021-04-04T22:50:30.776845Z",
     "iopub.status.idle": "2021-04-04T22:50:30.793794Z",
     "shell.execute_reply": "2021-04-04T22:50:30.792474Z"
    },
    "papermill": {
     "duration": 0.048015,
     "end_time": "2021-04-04T22:50:30.794164",
     "exception": false,
     "start_time": "2021-04-04T22:50:30.746149",
     "status": "completed"
    },
    "tags": []
   },
   "outputs": [],
   "source": [
    "predictions = model.predict(X_test)"
   ]
  },
  {
   "cell_type": "markdown",
   "id": "aa1c9881",
   "metadata": {
    "papermill": {
     "duration": 0.03079,
     "end_time": "2021-04-04T22:50:30.850677",
     "exception": false,
     "start_time": "2021-04-04T22:50:30.819887",
     "status": "completed"
    },
    "tags": []
   },
   "source": [
    "# Evaluate"
   ]
  },
  {
   "cell_type": "code",
   "execution_count": 25,
   "id": "894f0f04",
   "metadata": {
    "execution": {
     "iopub.execute_input": "2021-04-04T22:50:30.907765Z",
     "iopub.status.busy": "2021-04-04T22:50:30.906870Z",
     "iopub.status.idle": "2021-04-04T22:50:30.909302Z",
     "shell.execute_reply": "2021-04-04T22:50:30.908757Z"
    },
    "papermill": {
     "duration": 0.033908,
     "end_time": "2021-04-04T22:50:30.909441",
     "exception": false,
     "start_time": "2021-04-04T22:50:30.875533",
     "status": "completed"
    },
    "tags": []
   },
   "outputs": [],
   "source": [
    "from sklearn.metrics import f1_score"
   ]
  },
  {
   "cell_type": "code",
   "execution_count": 26,
   "id": "211744d3",
   "metadata": {
    "execution": {
     "iopub.execute_input": "2021-04-04T22:50:30.969686Z",
     "iopub.status.busy": "2021-04-04T22:50:30.968962Z",
     "iopub.status.idle": "2021-04-04T22:50:30.971761Z",
     "shell.execute_reply": "2021-04-04T22:50:30.972830Z"
    },
    "papermill": {
     "duration": 0.03956,
     "end_time": "2021-04-04T22:50:30.973231",
     "exception": false,
     "start_time": "2021-04-04T22:50:30.933671",
     "status": "completed"
    },
    "tags": []
   },
   "outputs": [],
   "source": [
    "y_test = y_test.replace([0, 1], [1, -1])"
   ]
  },
  {
   "cell_type": "code",
   "execution_count": 27,
   "id": "d68a9204",
   "metadata": {
    "execution": {
     "iopub.execute_input": "2021-04-04T22:50:31.031351Z",
     "iopub.status.busy": "2021-04-04T22:50:31.030711Z",
     "iopub.status.idle": "2021-04-04T22:50:31.033161Z",
     "shell.execute_reply": "2021-04-04T22:50:31.033666Z"
    },
    "papermill": {
     "duration": 0.034788,
     "end_time": "2021-04-04T22:50:31.033814",
     "exception": false,
     "start_time": "2021-04-04T22:50:30.999026",
     "status": "completed"
    },
    "tags": []
   },
   "outputs": [],
   "source": [
    "def evaluate(truths, predictions, pos_label, neg_label):\n",
    "    TP = 0\n",
    "    FP = 0\n",
    "    TN = 0\n",
    "    FN = 0\n",
    "\n",
    "    for truth, pred in zip(truths, predictions): \n",
    "        if truth == pred == pos_label:\n",
    "           TP += 1\n",
    "        elif pred == pos_label and truth == neg_label:\n",
    "           FP += 1\n",
    "        elif truth == pred == neg_label:\n",
    "           TN += 1\n",
    "        elif pred == neg_label and truth == pos_label:\n",
    "           FN += 1\n",
    "\n",
    "    precision = TP / (TP + FP)\n",
    "    sensitivity = TP / (TP + FN)\n",
    "    \n",
    "    return {\n",
    "        'true_pos': TP,\n",
    "        'false_pos': FP,\n",
    "        'false_neg': FN,\n",
    "        'true_neg': TN,\n",
    "        'precision': precision,\n",
    "        'sensitivity': sensitivity,\n",
    "        'f1': (2 * (precision * sensitivity)) / (precision + sensitivity)\n",
    "    }\n",
    "\n",
    "score = evaluate(y_test, predictions, pos_label=-1, neg_label=1)"
   ]
  },
  {
   "cell_type": "markdown",
   "id": "93596516",
   "metadata": {
    "papermill": {
     "duration": 0.026966,
     "end_time": "2021-04-04T22:50:31.087428",
     "exception": false,
     "start_time": "2021-04-04T22:50:31.060462",
     "status": "completed"
    },
    "tags": []
   },
   "source": [
    "# Report"
   ]
  },
  {
   "cell_type": "code",
   "execution_count": 28,
   "id": "bea5fba1",
   "metadata": {
    "execution": {
     "iopub.execute_input": "2021-04-04T22:50:31.146172Z",
     "iopub.status.busy": "2021-04-04T22:50:31.145093Z",
     "iopub.status.idle": "2021-04-04T22:50:31.147166Z",
     "shell.execute_reply": "2021-04-04T22:50:31.147830Z"
    },
    "papermill": {
     "duration": 0.034121,
     "end_time": "2021-04-04T22:50:31.148126",
     "exception": false,
     "start_time": "2021-04-04T22:50:31.114005",
     "status": "completed"
    },
    "tags": []
   },
   "outputs": [],
   "source": [
    "import csv\n",
    "\n",
    "\n",
    "dataset_config_name = DATASET_CONFIG_PATH.split('/')[-1].split('.')[0]\n",
    "model_config_name = MODEL_CONFIG_PATH.split('/')[-1].split('.')[0]\n",
    "configuration = f\"dataset_{dataset_config_name}-model_{model_config_name}\"\n",
    "\n",
    "with open('results.csv', 'a') as f:\n",
    "    report = dict({'configuration': configuration}, **score)\n",
    "    writer = csv.DictWriter(f, report.keys())\n",
    "    writer.writerow(report)"
   ]
  }
 ],
 "metadata": {
  "celltoolbar": "Tags",
  "kernelspec": {
   "display_name": "Python 3",
   "language": "python",
   "name": "python3"
  },
  "language_info": {
   "codemirror_mode": {
    "name": "ipython",
    "version": 3
   },
   "file_extension": ".py",
   "mimetype": "text/x-python",
   "name": "python",
   "nbconvert_exporter": "python",
   "pygments_lexer": "ipython3",
   "version": "3.9.1"
  },
  "papermill": {
   "default_parameters": {},
   "duration": 5.976116,
   "end_time": "2021-04-04T22:50:31.783883",
   "environment_variables": {},
   "exception": null,
   "input_path": "main.ipynb",
   "output_path": "runs/dataset_000051-model_000004.ipynb",
   "parameters": {
    "DATASET_CONFIG_PATH": "config/dataset/000051.json",
    "MODEL_CONFIG_PATH": "config/model/000004.json",
    "PROFILE_REPORTING": false
   },
   "start_time": "2021-04-04T22:50:25.807767",
   "version": "2.3.3"
  }
 },
 "nbformat": 4,
 "nbformat_minor": 5
}