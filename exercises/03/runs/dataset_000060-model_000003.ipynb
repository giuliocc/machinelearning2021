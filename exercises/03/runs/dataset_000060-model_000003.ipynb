{
 "cells": [
  {
   "cell_type": "markdown",
   "id": "51c71c25",
   "metadata": {
    "papermill": {
     "duration": 0.028942,
     "end_time": "2021-04-04T22:55:19.080057",
     "exception": false,
     "start_time": "2021-04-04T22:55:19.051115",
     "status": "completed"
    },
    "tags": []
   },
   "source": [
    "# Parametrizing"
   ]
  },
  {
   "cell_type": "code",
   "execution_count": 1,
   "id": "3b136394",
   "metadata": {
    "execution": {
     "iopub.execute_input": "2021-04-04T22:55:19.173369Z",
     "iopub.status.busy": "2021-04-04T22:55:19.172145Z",
     "iopub.status.idle": "2021-04-04T22:55:19.174999Z",
     "shell.execute_reply": "2021-04-04T22:55:19.175772Z"
    },
    "papermill": {
     "duration": 0.062825,
     "end_time": "2021-04-04T22:55:19.176178",
     "exception": false,
     "start_time": "2021-04-04T22:55:19.113353",
     "status": "completed"
    },
    "tags": [
     "parameters"
    ]
   },
   "outputs": [],
   "source": [
    "DATASET_CONFIG_PATH = 'config/dataset/kc1_001.json'\n",
    "MODEL_CONFIG_PATH = 'config/model/knndd_001.json'\n",
    "PROFILE_REPORTING = False"
   ]
  },
  {
   "cell_type": "code",
   "execution_count": 2,
   "id": "a1e0cfb9",
   "metadata": {
    "execution": {
     "iopub.execute_input": "2021-04-04T22:55:19.260568Z",
     "iopub.status.busy": "2021-04-04T22:55:19.259299Z",
     "iopub.status.idle": "2021-04-04T22:55:19.263958Z",
     "shell.execute_reply": "2021-04-04T22:55:19.265932Z"
    },
    "papermill": {
     "duration": 0.052713,
     "end_time": "2021-04-04T22:55:19.266423",
     "exception": false,
     "start_time": "2021-04-04T22:55:19.213710",
     "status": "completed"
    },
    "tags": [
     "injected-parameters"
    ]
   },
   "outputs": [],
   "source": [
    "# Parameters\n",
    "DATASET_CONFIG_PATH = \"config/dataset/000060.json\"\n",
    "MODEL_CONFIG_PATH = \"config/model/000003.json\"\n",
    "PROFILE_REPORTING = False\n"
   ]
  },
  {
   "cell_type": "code",
   "execution_count": 3,
   "id": "b80f2a10",
   "metadata": {
    "execution": {
     "iopub.execute_input": "2021-04-04T22:55:19.339917Z",
     "iopub.status.busy": "2021-04-04T22:55:19.339201Z",
     "iopub.status.idle": "2021-04-04T22:55:19.343791Z",
     "shell.execute_reply": "2021-04-04T22:55:19.346483Z"
    },
    "papermill": {
     "duration": 0.044059,
     "end_time": "2021-04-04T22:55:19.347173",
     "exception": false,
     "start_time": "2021-04-04T22:55:19.303114",
     "status": "completed"
    },
    "tags": []
   },
   "outputs": [],
   "source": [
    "import json\n",
    "\n",
    "\n",
    "with open(DATASET_CONFIG_PATH) as f:\n",
    "    dataset_config = json.load(f)\n",
    "\n",
    "with open(MODEL_CONFIG_PATH) as f:\n",
    "    model_config = json.load(f)"
   ]
  },
  {
   "cell_type": "markdown",
   "id": "9a4b0e2d",
   "metadata": {
    "papermill": {
     "duration": 0.025488,
     "end_time": "2021-04-04T22:55:19.400625",
     "exception": false,
     "start_time": "2021-04-04T22:55:19.375137",
     "status": "completed"
    },
    "tags": []
   },
   "source": [
    "# Profiling"
   ]
  },
  {
   "cell_type": "code",
   "execution_count": 4,
   "id": "a3e0289b",
   "metadata": {
    "execution": {
     "iopub.execute_input": "2021-04-04T22:55:19.458541Z",
     "iopub.status.busy": "2021-04-04T22:55:19.457073Z",
     "iopub.status.idle": "2021-04-04T22:55:21.671348Z",
     "shell.execute_reply": "2021-04-04T22:55:21.670710Z"
    },
    "papermill": {
     "duration": 2.246491,
     "end_time": "2021-04-04T22:55:21.671475",
     "exception": false,
     "start_time": "2021-04-04T22:55:19.424984",
     "status": "completed"
    },
    "tags": []
   },
   "outputs": [],
   "source": [
    "import pandas as pd\n",
    "from pandas_profiling import ProfileReport"
   ]
  },
  {
   "cell_type": "code",
   "execution_count": 5,
   "id": "ee6c0666",
   "metadata": {
    "execution": {
     "iopub.execute_input": "2021-04-04T22:55:21.743474Z",
     "iopub.status.busy": "2021-04-04T22:55:21.741897Z",
     "iopub.status.idle": "2021-04-04T22:55:21.773939Z",
     "shell.execute_reply": "2021-04-04T22:55:21.775047Z"
    },
    "papermill": {
     "duration": 0.079561,
     "end_time": "2021-04-04T22:55:21.775411",
     "exception": false,
     "start_time": "2021-04-04T22:55:21.695850",
     "status": "completed"
    },
    "tags": []
   },
   "outputs": [],
   "source": [
    "df = pd.read_csv(dataset_config['dataset_path'])"
   ]
  },
  {
   "cell_type": "code",
   "execution_count": 6,
   "id": "7eca6c4a",
   "metadata": {
    "execution": {
     "iopub.execute_input": "2021-04-04T22:55:21.877676Z",
     "iopub.status.busy": "2021-04-04T22:55:21.875974Z",
     "iopub.status.idle": "2021-04-04T22:55:21.926504Z",
     "shell.execute_reply": "2021-04-04T22:55:21.928442Z"
    },
    "papermill": {
     "duration": 0.114463,
     "end_time": "2021-04-04T22:55:21.928642",
     "exception": false,
     "start_time": "2021-04-04T22:55:21.814179",
     "status": "completed"
    },
    "tags": []
   },
   "outputs": [
    {
     "name": "stdout",
     "output_type": "stream",
     "text": [
      "<class 'pandas.core.frame.DataFrame'>\n",
      "RangeIndex: 2109 entries, 0 to 2108\n",
      "Data columns (total 23 columns):\n",
      " #   Column             Non-Null Count  Dtype  \n",
      "---  ------             --------------  -----  \n",
      " 0   id                 2109 non-null   int64  \n",
      " 1   loc                2109 non-null   float64\n",
      " 2   v(g)               2109 non-null   float64\n",
      " 3   ev(g)              2109 non-null   float64\n",
      " 4   iv(g)              2109 non-null   float64\n",
      " 5   n                  2109 non-null   float64\n",
      " 6   v                  2109 non-null   float64\n",
      " 7   l                  2109 non-null   float64\n",
      " 8   d                  2109 non-null   float64\n",
      " 9   i                  2109 non-null   float64\n",
      " 10  e                  2109 non-null   float64\n",
      " 11  b                  2109 non-null   float64\n",
      " 12  t                  2109 non-null   float64\n",
      " 13  lOCode             2109 non-null   int64  \n",
      " 14  lOComment          2109 non-null   int64  \n",
      " 15  lOBlank            2109 non-null   int64  \n",
      " 16  locCodeAndComment  2109 non-null   int64  \n",
      " 17  uniq_Op            2109 non-null   float64\n",
      " 18  uniq_Opnd          2109 non-null   float64\n",
      " 19  total_Op           2109 non-null   float64\n",
      " 20  total_Opnd         2109 non-null   float64\n",
      " 21  branchCount        2109 non-null   float64\n",
      " 22  defects            2109 non-null   bool   \n",
      "dtypes: bool(1), float64(17), int64(5)\n",
      "memory usage: 364.7 KB\n"
     ]
    }
   ],
   "source": [
    "df.info()"
   ]
  },
  {
   "cell_type": "code",
   "execution_count": 7,
   "id": "3638e5e8",
   "metadata": {
    "execution": {
     "iopub.execute_input": "2021-04-04T22:55:22.000370Z",
     "iopub.status.busy": "2021-04-04T22:55:21.999546Z",
     "iopub.status.idle": "2021-04-04T22:55:22.031306Z",
     "shell.execute_reply": "2021-04-04T22:55:22.031947Z"
    },
    "papermill": {
     "duration": 0.072056,
     "end_time": "2021-04-04T22:55:22.032174",
     "exception": false,
     "start_time": "2021-04-04T22:55:21.960118",
     "status": "completed"
    },
    "tags": []
   },
   "outputs": [
    {
     "data": {
      "text/html": [
       "<div>\n",
       "<style scoped>\n",
       "    .dataframe tbody tr th:only-of-type {\n",
       "        vertical-align: middle;\n",
       "    }\n",
       "\n",
       "    .dataframe tbody tr th {\n",
       "        vertical-align: top;\n",
       "    }\n",
       "\n",
       "    .dataframe thead th {\n",
       "        text-align: right;\n",
       "    }\n",
       "</style>\n",
       "<table border=\"1\" class=\"dataframe\">\n",
       "  <thead>\n",
       "    <tr style=\"text-align: right;\">\n",
       "      <th></th>\n",
       "      <th>id</th>\n",
       "      <th>loc</th>\n",
       "      <th>v(g)</th>\n",
       "      <th>ev(g)</th>\n",
       "      <th>iv(g)</th>\n",
       "      <th>n</th>\n",
       "      <th>v</th>\n",
       "      <th>l</th>\n",
       "      <th>d</th>\n",
       "      <th>i</th>\n",
       "      <th>...</th>\n",
       "      <th>lOCode</th>\n",
       "      <th>lOComment</th>\n",
       "      <th>lOBlank</th>\n",
       "      <th>locCodeAndComment</th>\n",
       "      <th>uniq_Op</th>\n",
       "      <th>uniq_Opnd</th>\n",
       "      <th>total_Op</th>\n",
       "      <th>total_Opnd</th>\n",
       "      <th>branchCount</th>\n",
       "      <th>defects</th>\n",
       "    </tr>\n",
       "  </thead>\n",
       "  <tbody>\n",
       "    <tr>\n",
       "      <th>0</th>\n",
       "      <td>1</td>\n",
       "      <td>1.1</td>\n",
       "      <td>1.4</td>\n",
       "      <td>1.4</td>\n",
       "      <td>1.4</td>\n",
       "      <td>1.3</td>\n",
       "      <td>1.30</td>\n",
       "      <td>1.30</td>\n",
       "      <td>1.30</td>\n",
       "      <td>1.30</td>\n",
       "      <td>...</td>\n",
       "      <td>2</td>\n",
       "      <td>2</td>\n",
       "      <td>2</td>\n",
       "      <td>2</td>\n",
       "      <td>1.2</td>\n",
       "      <td>1.2</td>\n",
       "      <td>1.2</td>\n",
       "      <td>1.2</td>\n",
       "      <td>1.4</td>\n",
       "      <td>False</td>\n",
       "    </tr>\n",
       "    <tr>\n",
       "      <th>1</th>\n",
       "      <td>2</td>\n",
       "      <td>1.0</td>\n",
       "      <td>1.0</td>\n",
       "      <td>1.0</td>\n",
       "      <td>1.0</td>\n",
       "      <td>1.0</td>\n",
       "      <td>1.00</td>\n",
       "      <td>1.00</td>\n",
       "      <td>1.00</td>\n",
       "      <td>1.00</td>\n",
       "      <td>...</td>\n",
       "      <td>1</td>\n",
       "      <td>1</td>\n",
       "      <td>1</td>\n",
       "      <td>1</td>\n",
       "      <td>1.0</td>\n",
       "      <td>1.0</td>\n",
       "      <td>1.0</td>\n",
       "      <td>1.0</td>\n",
       "      <td>1.0</td>\n",
       "      <td>True</td>\n",
       "    </tr>\n",
       "    <tr>\n",
       "      <th>2</th>\n",
       "      <td>3</td>\n",
       "      <td>83.0</td>\n",
       "      <td>11.0</td>\n",
       "      <td>1.0</td>\n",
       "      <td>11.0</td>\n",
       "      <td>171.0</td>\n",
       "      <td>927.89</td>\n",
       "      <td>0.04</td>\n",
       "      <td>23.04</td>\n",
       "      <td>40.27</td>\n",
       "      <td>...</td>\n",
       "      <td>65</td>\n",
       "      <td>10</td>\n",
       "      <td>6</td>\n",
       "      <td>0</td>\n",
       "      <td>18.0</td>\n",
       "      <td>25.0</td>\n",
       "      <td>107.0</td>\n",
       "      <td>64.0</td>\n",
       "      <td>21.0</td>\n",
       "      <td>True</td>\n",
       "    </tr>\n",
       "    <tr>\n",
       "      <th>3</th>\n",
       "      <td>4</td>\n",
       "      <td>46.0</td>\n",
       "      <td>8.0</td>\n",
       "      <td>6.0</td>\n",
       "      <td>8.0</td>\n",
       "      <td>141.0</td>\n",
       "      <td>769.78</td>\n",
       "      <td>0.07</td>\n",
       "      <td>14.86</td>\n",
       "      <td>51.81</td>\n",
       "      <td>...</td>\n",
       "      <td>37</td>\n",
       "      <td>2</td>\n",
       "      <td>5</td>\n",
       "      <td>0</td>\n",
       "      <td>16.0</td>\n",
       "      <td>28.0</td>\n",
       "      <td>89.0</td>\n",
       "      <td>52.0</td>\n",
       "      <td>15.0</td>\n",
       "      <td>True</td>\n",
       "    </tr>\n",
       "    <tr>\n",
       "      <th>4</th>\n",
       "      <td>5</td>\n",
       "      <td>25.0</td>\n",
       "      <td>3.0</td>\n",
       "      <td>1.0</td>\n",
       "      <td>3.0</td>\n",
       "      <td>58.0</td>\n",
       "      <td>254.75</td>\n",
       "      <td>0.11</td>\n",
       "      <td>9.35</td>\n",
       "      <td>27.25</td>\n",
       "      <td>...</td>\n",
       "      <td>21</td>\n",
       "      <td>0</td>\n",
       "      <td>2</td>\n",
       "      <td>0</td>\n",
       "      <td>11.0</td>\n",
       "      <td>10.0</td>\n",
       "      <td>41.0</td>\n",
       "      <td>17.0</td>\n",
       "      <td>5.0</td>\n",
       "      <td>True</td>\n",
       "    </tr>\n",
       "  </tbody>\n",
       "</table>\n",
       "<p>5 rows × 23 columns</p>\n",
       "</div>"
      ],
      "text/plain": [
       "   id   loc  v(g)  ev(g)  iv(g)      n       v     l      d      i  ...  \\\n",
       "0   1   1.1   1.4    1.4    1.4    1.3    1.30  1.30   1.30   1.30  ...   \n",
       "1   2   1.0   1.0    1.0    1.0    1.0    1.00  1.00   1.00   1.00  ...   \n",
       "2   3  83.0  11.0    1.0   11.0  171.0  927.89  0.04  23.04  40.27  ...   \n",
       "3   4  46.0   8.0    6.0    8.0  141.0  769.78  0.07  14.86  51.81  ...   \n",
       "4   5  25.0   3.0    1.0    3.0   58.0  254.75  0.11   9.35  27.25  ...   \n",
       "\n",
       "   lOCode  lOComment  lOBlank  locCodeAndComment  uniq_Op  uniq_Opnd  \\\n",
       "0       2          2        2                  2      1.2        1.2   \n",
       "1       1          1        1                  1      1.0        1.0   \n",
       "2      65         10        6                  0     18.0       25.0   \n",
       "3      37          2        5                  0     16.0       28.0   \n",
       "4      21          0        2                  0     11.0       10.0   \n",
       "\n",
       "   total_Op  total_Opnd  branchCount  defects  \n",
       "0       1.2         1.2          1.4    False  \n",
       "1       1.0         1.0          1.0     True  \n",
       "2     107.0        64.0         21.0     True  \n",
       "3      89.0        52.0         15.0     True  \n",
       "4      41.0        17.0          5.0     True  \n",
       "\n",
       "[5 rows x 23 columns]"
      ]
     },
     "execution_count": 7,
     "metadata": {},
     "output_type": "execute_result"
    }
   ],
   "source": [
    "df.head()"
   ]
  },
  {
   "cell_type": "code",
   "execution_count": 8,
   "id": "733e95eb",
   "metadata": {
    "execution": {
     "iopub.execute_input": "2021-04-04T22:55:22.094802Z",
     "iopub.status.busy": "2021-04-04T22:55:22.093930Z",
     "iopub.status.idle": "2021-04-04T22:55:22.096710Z",
     "shell.execute_reply": "2021-04-04T22:55:22.096097Z"
    },
    "papermill": {
     "duration": 0.039699,
     "end_time": "2021-04-04T22:55:22.096835",
     "exception": false,
     "start_time": "2021-04-04T22:55:22.057136",
     "status": "completed"
    },
    "tags": []
   },
   "outputs": [],
   "source": [
    "del df['id']"
   ]
  },
  {
   "cell_type": "code",
   "execution_count": 9,
   "id": "6ff6f5b0",
   "metadata": {
    "execution": {
     "iopub.execute_input": "2021-04-04T22:55:22.154939Z",
     "iopub.status.busy": "2021-04-04T22:55:22.153849Z",
     "iopub.status.idle": "2021-04-04T22:55:22.156246Z",
     "shell.execute_reply": "2021-04-04T22:55:22.156753Z"
    },
    "papermill": {
     "duration": 0.035889,
     "end_time": "2021-04-04T22:55:22.156902",
     "exception": false,
     "start_time": "2021-04-04T22:55:22.121013",
     "status": "completed"
    },
    "tags": []
   },
   "outputs": [],
   "source": [
    "if PROFILE_REPORTING:\n",
    "    ProfileReport(df).to_widgets()"
   ]
  },
  {
   "cell_type": "markdown",
   "id": "1deaf3f0",
   "metadata": {
    "papermill": {
     "duration": 0.023343,
     "end_time": "2021-04-04T22:55:22.204642",
     "exception": false,
     "start_time": "2021-04-04T22:55:22.181299",
     "status": "completed"
    },
    "tags": []
   },
   "source": [
    "# Preprocess"
   ]
  },
  {
   "cell_type": "code",
   "execution_count": 10,
   "id": "1513e563",
   "metadata": {
    "execution": {
     "iopub.execute_input": "2021-04-04T22:55:22.264317Z",
     "iopub.status.busy": "2021-04-04T22:55:22.262000Z",
     "iopub.status.idle": "2021-04-04T22:55:22.266385Z",
     "shell.execute_reply": "2021-04-04T22:55:22.267096Z"
    },
    "papermill": {
     "duration": 0.03742,
     "end_time": "2021-04-04T22:55:22.267318",
     "exception": false,
     "start_time": "2021-04-04T22:55:22.229898",
     "status": "completed"
    },
    "tags": []
   },
   "outputs": [],
   "source": [
    "working_df = df.copy()"
   ]
  },
  {
   "cell_type": "code",
   "execution_count": 11,
   "id": "3b26d675",
   "metadata": {
    "execution": {
     "iopub.execute_input": "2021-04-04T22:55:22.321351Z",
     "iopub.status.busy": "2021-04-04T22:55:22.320621Z",
     "iopub.status.idle": "2021-04-04T22:55:22.324188Z",
     "shell.execute_reply": "2021-04-04T22:55:22.323519Z"
    },
    "papermill": {
     "duration": 0.030746,
     "end_time": "2021-04-04T22:55:22.324349",
     "exception": false,
     "start_time": "2021-04-04T22:55:22.293603",
     "status": "completed"
    },
    "tags": []
   },
   "outputs": [],
   "source": [
    "working_df['defects'] = working_df['defects'].replace([False, True], [0, 1])"
   ]
  },
  {
   "cell_type": "code",
   "execution_count": 12,
   "id": "eb48604f",
   "metadata": {
    "execution": {
     "iopub.execute_input": "2021-04-04T22:55:22.389481Z",
     "iopub.status.busy": "2021-04-04T22:55:22.387816Z",
     "iopub.status.idle": "2021-04-04T22:55:22.391923Z",
     "shell.execute_reply": "2021-04-04T22:55:22.392674Z"
    },
    "papermill": {
     "duration": 0.042266,
     "end_time": "2021-04-04T22:55:22.392936",
     "exception": false,
     "start_time": "2021-04-04T22:55:22.350670",
     "status": "completed"
    },
    "tags": []
   },
   "outputs": [],
   "source": [
    "for col in dataset_config['delete_columns']:\n",
    "    del working_df[col]"
   ]
  },
  {
   "cell_type": "code",
   "execution_count": 13,
   "id": "9a17bc29",
   "metadata": {
    "execution": {
     "iopub.execute_input": "2021-04-04T22:55:22.456592Z",
     "iopub.status.busy": "2021-04-04T22:55:22.455525Z",
     "iopub.status.idle": "2021-04-04T22:55:22.465335Z",
     "shell.execute_reply": "2021-04-04T22:55:22.464691Z"
    },
    "papermill": {
     "duration": 0.044028,
     "end_time": "2021-04-04T22:55:22.465450",
     "exception": false,
     "start_time": "2021-04-04T22:55:22.421422",
     "status": "completed"
    },
    "tags": []
   },
   "outputs": [],
   "source": [
    "working_df = working_df.drop_duplicates()"
   ]
  },
  {
   "cell_type": "markdown",
   "id": "a4d52ca6",
   "metadata": {
    "papermill": {
     "duration": 0.033934,
     "end_time": "2021-04-04T22:55:22.523394",
     "exception": false,
     "start_time": "2021-04-04T22:55:22.489460",
     "status": "completed"
    },
    "tags": []
   },
   "source": [
    "# Split"
   ]
  },
  {
   "cell_type": "code",
   "execution_count": 14,
   "id": "3e9ee4b5",
   "metadata": {
    "execution": {
     "iopub.execute_input": "2021-04-04T22:55:22.604227Z",
     "iopub.status.busy": "2021-04-04T22:55:22.603384Z",
     "iopub.status.idle": "2021-04-04T22:55:22.637960Z",
     "shell.execute_reply": "2021-04-04T22:55:22.638446Z"
    },
    "papermill": {
     "duration": 0.078084,
     "end_time": "2021-04-04T22:55:22.638593",
     "exception": false,
     "start_time": "2021-04-04T22:55:22.560509",
     "status": "completed"
    },
    "tags": []
   },
   "outputs": [],
   "source": [
    "from sklearn.model_selection import train_test_split"
   ]
  },
  {
   "cell_type": "code",
   "execution_count": 15,
   "id": "274004ce",
   "metadata": {
    "execution": {
     "iopub.execute_input": "2021-04-04T22:55:22.704324Z",
     "iopub.status.busy": "2021-04-04T22:55:22.703507Z",
     "iopub.status.idle": "2021-04-04T22:55:22.708752Z",
     "shell.execute_reply": "2021-04-04T22:55:22.709295Z"
    },
    "papermill": {
     "duration": 0.044998,
     "end_time": "2021-04-04T22:55:22.709463",
     "exception": false,
     "start_time": "2021-04-04T22:55:22.664465",
     "status": "completed"
    },
    "scrolled": true,
    "tags": []
   },
   "outputs": [],
   "source": [
    "inlier, outlier = working_df[working_df['defects'] == 0], working_df[working_df['defects'] == 1]"
   ]
  },
  {
   "cell_type": "code",
   "execution_count": 16,
   "id": "753c7b03",
   "metadata": {
    "execution": {
     "iopub.execute_input": "2021-04-04T22:55:22.766333Z",
     "iopub.status.busy": "2021-04-04T22:55:22.765483Z",
     "iopub.status.idle": "2021-04-04T22:55:22.768063Z",
     "shell.execute_reply": "2021-04-04T22:55:22.767563Z"
    },
    "papermill": {
     "duration": 0.03538,
     "end_time": "2021-04-04T22:55:22.768183",
     "exception": false,
     "start_time": "2021-04-04T22:55:22.732803",
     "status": "completed"
    },
    "tags": []
   },
   "outputs": [],
   "source": [
    "X_inlier = inlier.copy()\n",
    "y_inlier = X_inlier.pop('defects')\n",
    "X_outlier = outlier.copy()\n",
    "y_outlier = X_outlier.pop('defects')"
   ]
  },
  {
   "cell_type": "code",
   "execution_count": 17,
   "id": "2ba43193",
   "metadata": {
    "execution": {
     "iopub.execute_input": "2021-04-04T22:55:22.834267Z",
     "iopub.status.busy": "2021-04-04T22:55:22.832749Z",
     "iopub.status.idle": "2021-04-04T22:55:22.839293Z",
     "shell.execute_reply": "2021-04-04T22:55:22.837939Z"
    },
    "papermill": {
     "duration": 0.046641,
     "end_time": "2021-04-04T22:55:22.839659",
     "exception": false,
     "start_time": "2021-04-04T22:55:22.793018",
     "status": "completed"
    },
    "tags": []
   },
   "outputs": [],
   "source": [
    "test_size = dataset_config['test_size']\n",
    "random_state = dataset_config['random_state']\n",
    "\n",
    "X_inlier_train, X_inlier_test, y_inlier_train, y_inlier_test = train_test_split(\n",
    "    X_inlier,\n",
    "    y_inlier,\n",
    "    test_size=test_size,\n",
    "    random_state=random_state\n",
    ")"
   ]
  },
  {
   "cell_type": "code",
   "execution_count": 18,
   "id": "0b7582ca",
   "metadata": {
    "execution": {
     "iopub.execute_input": "2021-04-04T22:55:22.917533Z",
     "iopub.status.busy": "2021-04-04T22:55:22.916471Z",
     "iopub.status.idle": "2021-04-04T22:55:22.921038Z",
     "shell.execute_reply": "2021-04-04T22:55:22.920485Z"
    },
    "papermill": {
     "duration": 0.048846,
     "end_time": "2021-04-04T22:55:22.921166",
     "exception": false,
     "start_time": "2021-04-04T22:55:22.872320",
     "status": "completed"
    },
    "tags": []
   },
   "outputs": [],
   "source": [
    "test_outlier_size = dataset_config['test_outlier_size']\n",
    "if test_outlier_size > 0.0:\n",
    "    X_outlier_train, X_outlier_test, y_outlier_train, y_outlier_test = train_test_split(\n",
    "        X_outlier,\n",
    "        y_outlier,\n",
    "        test_size=test_outlier_size,\n",
    "        random_state=random_state\n",
    "    )\n",
    "else:\n",
    "    X_outlier_train, y_outlier_train = pd.DataFrame(columns=X_outlier.columns), pd.Series(dtype='int64')\n",
    "    X_outlier_test, y_outlier_test = X_outlier.copy(), y_outlier.copy()"
   ]
  },
  {
   "cell_type": "code",
   "execution_count": 19,
   "id": "c34363db",
   "metadata": {
    "execution": {
     "iopub.execute_input": "2021-04-04T22:55:22.993238Z",
     "iopub.status.busy": "2021-04-04T22:55:22.989336Z",
     "iopub.status.idle": "2021-04-04T22:55:23.000391Z",
     "shell.execute_reply": "2021-04-04T22:55:23.001734Z"
    },
    "papermill": {
     "duration": 0.053873,
     "end_time": "2021-04-04T22:55:23.002072",
     "exception": false,
     "start_time": "2021-04-04T22:55:22.948199",
     "status": "completed"
    },
    "tags": []
   },
   "outputs": [],
   "source": [
    "X_train, y_train = pd.concat([X_inlier_train, X_outlier_train], ignore_index=True), pd.concat([y_inlier_train, y_outlier_train], ignore_index=True)\n",
    "X_test, y_test = pd.concat([X_inlier_test, X_outlier_test], ignore_index=True), pd.concat([y_inlier_test, y_outlier_test], ignore_index=True)"
   ]
  },
  {
   "cell_type": "markdown",
   "id": "7cde7309",
   "metadata": {
    "papermill": {
     "duration": 0.027479,
     "end_time": "2021-04-04T22:55:23.055576",
     "exception": false,
     "start_time": "2021-04-04T22:55:23.028097",
     "status": "completed"
    },
    "tags": []
   },
   "source": [
    "# Model"
   ]
  },
  {
   "cell_type": "code",
   "execution_count": 20,
   "id": "2b12a415",
   "metadata": {
    "execution": {
     "iopub.execute_input": "2021-04-04T22:55:23.126132Z",
     "iopub.status.busy": "2021-04-04T22:55:23.125097Z",
     "iopub.status.idle": "2021-04-04T22:55:23.128116Z",
     "shell.execute_reply": "2021-04-04T22:55:23.129298Z"
    },
    "papermill": {
     "duration": 0.049164,
     "end_time": "2021-04-04T22:55:23.129679",
     "exception": false,
     "start_time": "2021-04-04T22:55:23.080515",
     "status": "completed"
    },
    "tags": []
   },
   "outputs": [],
   "source": [
    "from math import sqrt\n",
    "\n",
    "\n",
    "class KNNDataDescription:\n",
    "    def __init__(self, k=5, outlier_threshold=1.0):\n",
    "        self.k = k\n",
    "        self.outlier_threshold = outlier_threshold\n",
    "        self.X = []\n",
    "    \n",
    "    def fit(self, X):\n",
    "        self.X = [features.to_list() for index, features in X.iterrows()]\n",
    "\n",
    "    def predict(self, entries):\n",
    "        return [self.predict_entry(features.to_list()) for index, features in entries.iterrows()]\n",
    "    \n",
    "    def predict_entry(self, entry):\n",
    "        kth_neighbor, kth_distance = self.get_kth_neighbor(entry, self.k)\n",
    "        kth_kth_neighbor, kth_kth_distance = self.get_kth_neighbor(kth_neighbor, self.k + 1)\n",
    "\n",
    "        outlier_score = kth_distance / (kth_kth_distance + 0.000001)\n",
    "\n",
    "        return 1 if outlier_score < self.outlier_threshold else -1\n",
    "        \n",
    "    def euclidean_distance(self, features1, features2):\n",
    "        distance = 0.0\n",
    "        for feat1, feat2 in zip(features1, features2):\n",
    "            distance += (feat1 - feat2)**2\n",
    "                \n",
    "        return sqrt(distance)\n",
    "\n",
    "    def get_neighbors(self, entry, k):\n",
    "        distance_to_data_points = [\n",
    "            (data_point, self.euclidean_distance(entry, data_point))\n",
    "            for data_point in self.X\n",
    "        ]\n",
    "        sorted_by_distance = sorted(distance_to_data_points, key=lambda tup: tup[1])\n",
    "        neighbors = sorted_by_distance[:k]\n",
    "        return neighbors\n",
    "\n",
    "    def get_kth_neighbor(self, entry, k):\n",
    "        neighbors = self.get_neighbors(entry, k)\n",
    "        return neighbors[-1]\n"
   ]
  },
  {
   "cell_type": "code",
   "execution_count": 21,
   "id": "1fa9ec1c",
   "metadata": {
    "execution": {
     "iopub.execute_input": "2021-04-04T22:55:23.199832Z",
     "iopub.status.busy": "2021-04-04T22:55:23.198896Z",
     "iopub.status.idle": "2021-04-04T22:55:23.223059Z",
     "shell.execute_reply": "2021-04-04T22:55:23.222462Z"
    },
    "papermill": {
     "duration": 0.058049,
     "end_time": "2021-04-04T22:55:23.223177",
     "exception": false,
     "start_time": "2021-04-04T22:55:23.165128",
     "status": "completed"
    },
    "tags": []
   },
   "outputs": [],
   "source": [
    "from sklearn.svm import OneClassSVM\n",
    "\n",
    "\n",
    "models = {\n",
    "    'oneclasssvm': OneClassSVM,\n",
    "    'knndatadescription': KNNDataDescription,\n",
    "}"
   ]
  },
  {
   "cell_type": "code",
   "execution_count": 22,
   "id": "4d72a0b1",
   "metadata": {
    "execution": {
     "iopub.execute_input": "2021-04-04T22:55:23.280160Z",
     "iopub.status.busy": "2021-04-04T22:55:23.279504Z",
     "iopub.status.idle": "2021-04-04T22:55:23.281486Z",
     "shell.execute_reply": "2021-04-04T22:55:23.281963Z"
    },
    "papermill": {
     "duration": 0.034081,
     "end_time": "2021-04-04T22:55:23.282139",
     "exception": false,
     "start_time": "2021-04-04T22:55:23.248058",
     "status": "completed"
    },
    "scrolled": true,
    "tags": []
   },
   "outputs": [],
   "source": [
    "model_cls = models[model_config['model_type']]\n",
    "model = model_cls(**model_config['hyperparameters'])"
   ]
  },
  {
   "cell_type": "markdown",
   "id": "e00cff3b",
   "metadata": {
    "papermill": {
     "duration": 0.026164,
     "end_time": "2021-04-04T22:55:23.334122",
     "exception": false,
     "start_time": "2021-04-04T22:55:23.307958",
     "status": "completed"
    },
    "tags": []
   },
   "source": [
    "# Fit"
   ]
  },
  {
   "cell_type": "code",
   "execution_count": 23,
   "id": "8b2ded89",
   "metadata": {
    "execution": {
     "iopub.execute_input": "2021-04-04T22:55:23.411655Z",
     "iopub.status.busy": "2021-04-04T22:55:23.410859Z",
     "iopub.status.idle": "2021-04-04T22:55:23.483935Z",
     "shell.execute_reply": "2021-04-04T22:55:23.483146Z"
    },
    "papermill": {
     "duration": 0.112248,
     "end_time": "2021-04-04T22:55:23.484068",
     "exception": false,
     "start_time": "2021-04-04T22:55:23.371820",
     "status": "completed"
    },
    "tags": []
   },
   "outputs": [],
   "source": [
    "model.fit(X_train)"
   ]
  },
  {
   "cell_type": "markdown",
   "id": "f99999f7",
   "metadata": {
    "papermill": {
     "duration": 0.025771,
     "end_time": "2021-04-04T22:55:23.535828",
     "exception": false,
     "start_time": "2021-04-04T22:55:23.510057",
     "status": "completed"
    },
    "tags": []
   },
   "source": [
    "# Predict"
   ]
  },
  {
   "cell_type": "code",
   "execution_count": 24,
   "id": "6536fbf7",
   "metadata": {
    "execution": {
     "iopub.execute_input": "2021-04-04T22:55:23.599496Z",
     "iopub.status.busy": "2021-04-04T22:55:23.598156Z",
     "iopub.status.idle": "2021-04-04T22:55:26.084511Z",
     "shell.execute_reply": "2021-04-04T22:55:26.085180Z"
    },
    "papermill": {
     "duration": 2.523735,
     "end_time": "2021-04-04T22:55:26.085433",
     "exception": false,
     "start_time": "2021-04-04T22:55:23.561698",
     "status": "completed"
    },
    "tags": []
   },
   "outputs": [],
   "source": [
    "predictions = model.predict(X_test)"
   ]
  },
  {
   "cell_type": "markdown",
   "id": "aa1c9881",
   "metadata": {
    "papermill": {
     "duration": 0.022755,
     "end_time": "2021-04-04T22:55:26.135410",
     "exception": false,
     "start_time": "2021-04-04T22:55:26.112655",
     "status": "completed"
    },
    "tags": []
   },
   "source": [
    "# Evaluate"
   ]
  },
  {
   "cell_type": "code",
   "execution_count": 25,
   "id": "894f0f04",
   "metadata": {
    "execution": {
     "iopub.execute_input": "2021-04-04T22:55:26.194491Z",
     "iopub.status.busy": "2021-04-04T22:55:26.192579Z",
     "iopub.status.idle": "2021-04-04T22:55:26.197567Z",
     "shell.execute_reply": "2021-04-04T22:55:26.196981Z"
    },
    "papermill": {
     "duration": 0.036878,
     "end_time": "2021-04-04T22:55:26.197701",
     "exception": false,
     "start_time": "2021-04-04T22:55:26.160823",
     "status": "completed"
    },
    "tags": []
   },
   "outputs": [],
   "source": [
    "from sklearn.metrics import f1_score"
   ]
  },
  {
   "cell_type": "code",
   "execution_count": 26,
   "id": "211744d3",
   "metadata": {
    "execution": {
     "iopub.execute_input": "2021-04-04T22:55:26.253544Z",
     "iopub.status.busy": "2021-04-04T22:55:26.252825Z",
     "iopub.status.idle": "2021-04-04T22:55:26.254520Z",
     "shell.execute_reply": "2021-04-04T22:55:26.254989Z"
    },
    "papermill": {
     "duration": 0.030306,
     "end_time": "2021-04-04T22:55:26.255133",
     "exception": false,
     "start_time": "2021-04-04T22:55:26.224827",
     "status": "completed"
    },
    "tags": []
   },
   "outputs": [],
   "source": [
    "y_test = y_test.replace([0, 1], [1, -1])"
   ]
  },
  {
   "cell_type": "code",
   "execution_count": 27,
   "id": "d68a9204",
   "metadata": {
    "execution": {
     "iopub.execute_input": "2021-04-04T22:55:26.318362Z",
     "iopub.status.busy": "2021-04-04T22:55:26.317367Z",
     "iopub.status.idle": "2021-04-04T22:55:26.319484Z",
     "shell.execute_reply": "2021-04-04T22:55:26.320049Z"
    },
    "papermill": {
     "duration": 0.03949,
     "end_time": "2021-04-04T22:55:26.320255",
     "exception": false,
     "start_time": "2021-04-04T22:55:26.280765",
     "status": "completed"
    },
    "tags": []
   },
   "outputs": [],
   "source": [
    "def evaluate(truths, predictions, pos_label, neg_label):\n",
    "    TP = 0\n",
    "    FP = 0\n",
    "    TN = 0\n",
    "    FN = 0\n",
    "\n",
    "    for truth, pred in zip(truths, predictions): \n",
    "        if truth == pred == pos_label:\n",
    "           TP += 1\n",
    "        elif pred == pos_label and truth == neg_label:\n",
    "           FP += 1\n",
    "        elif truth == pred == neg_label:\n",
    "           TN += 1\n",
    "        elif pred == neg_label and truth == pos_label:\n",
    "           FN += 1\n",
    "\n",
    "    precision = TP / (TP + FP)\n",
    "    sensitivity = TP / (TP + FN)\n",
    "    \n",
    "    return {\n",
    "        'true_pos': TP,\n",
    "        'false_pos': FP,\n",
    "        'false_neg': FN,\n",
    "        'true_neg': TN,\n",
    "        'precision': precision,\n",
    "        'sensitivity': sensitivity,\n",
    "        'f1': (2 * (precision * sensitivity)) / (precision + sensitivity)\n",
    "    }\n",
    "\n",
    "score = evaluate(y_test, predictions, pos_label=-1, neg_label=1)"
   ]
  },
  {
   "cell_type": "markdown",
   "id": "93596516",
   "metadata": {
    "papermill": {
     "duration": 0.03861,
     "end_time": "2021-04-04T22:55:26.387446",
     "exception": false,
     "start_time": "2021-04-04T22:55:26.348836",
     "status": "completed"
    },
    "tags": []
   },
   "source": [
    "# Report"
   ]
  },
  {
   "cell_type": "code",
   "execution_count": 28,
   "id": "bea5fba1",
   "metadata": {
    "execution": {
     "iopub.execute_input": "2021-04-04T22:55:26.460901Z",
     "iopub.status.busy": "2021-04-04T22:55:26.460121Z",
     "iopub.status.idle": "2021-04-04T22:55:26.465696Z",
     "shell.execute_reply": "2021-04-04T22:55:26.465029Z"
    },
    "papermill": {
     "duration": 0.043126,
     "end_time": "2021-04-04T22:55:26.465835",
     "exception": false,
     "start_time": "2021-04-04T22:55:26.422709",
     "status": "completed"
    },
    "tags": []
   },
   "outputs": [],
   "source": [
    "import csv\n",
    "\n",
    "\n",
    "dataset_config_name = DATASET_CONFIG_PATH.split('/')[-1].split('.')[0]\n",
    "model_config_name = MODEL_CONFIG_PATH.split('/')[-1].split('.')[0]\n",
    "configuration = f\"dataset_{dataset_config_name}-model_{model_config_name}\"\n",
    "\n",
    "with open('results.csv', 'a') as f:\n",
    "    report = dict({'configuration': configuration}, **score)\n",
    "    writer = csv.DictWriter(f, report.keys())\n",
    "    writer.writerow(report)"
   ]
  }
 ],
 "metadata": {
  "celltoolbar": "Tags",
  "kernelspec": {
   "display_name": "Python 3",
   "language": "python",
   "name": "python3"
  },
  "language_info": {
   "codemirror_mode": {
    "name": "ipython",
    "version": 3
   },
   "file_extension": ".py",
   "mimetype": "text/x-python",
   "name": "python",
   "nbconvert_exporter": "python",
   "pygments_lexer": "ipython3",
   "version": "3.9.1"
  },
  "papermill": {
   "default_parameters": {},
   "duration": 10.096458,
   "end_time": "2021-04-04T22:55:27.934078",
   "environment_variables": {},
   "exception": null,
   "input_path": "main.ipynb",
   "output_path": "runs/dataset_000060-model_000003.ipynb",
   "parameters": {
    "DATASET_CONFIG_PATH": "config/dataset/000060.json",
    "MODEL_CONFIG_PATH": "config/model/000003.json",
    "PROFILE_REPORTING": false
   },
   "start_time": "2021-04-04T22:55:17.837620",
   "version": "2.3.3"
  }
 },
 "nbformat": 4,
 "nbformat_minor": 5
}