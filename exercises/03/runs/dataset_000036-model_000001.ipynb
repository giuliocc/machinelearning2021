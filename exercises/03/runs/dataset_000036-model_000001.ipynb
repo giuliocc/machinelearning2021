{
 "cells": [
  {
   "cell_type": "markdown",
   "id": "51c71c25",
   "metadata": {
    "papermill": {
     "duration": 0.024931,
     "end_time": "2021-04-04T22:41:08.667157",
     "exception": false,
     "start_time": "2021-04-04T22:41:08.642226",
     "status": "completed"
    },
    "tags": []
   },
   "source": [
    "# Parametrizing"
   ]
  },
  {
   "cell_type": "code",
   "execution_count": 1,
   "id": "3b136394",
   "metadata": {
    "execution": {
     "iopub.execute_input": "2021-04-04T22:41:08.725509Z",
     "iopub.status.busy": "2021-04-04T22:41:08.724510Z",
     "iopub.status.idle": "2021-04-04T22:41:08.728021Z",
     "shell.execute_reply": "2021-04-04T22:41:08.726975Z"
    },
    "papermill": {
     "duration": 0.040733,
     "end_time": "2021-04-04T22:41:08.728422",
     "exception": false,
     "start_time": "2021-04-04T22:41:08.687689",
     "status": "completed"
    },
    "tags": [
     "parameters"
    ]
   },
   "outputs": [],
   "source": [
    "DATASET_CONFIG_PATH = 'config/dataset/kc1_001.json'\n",
    "MODEL_CONFIG_PATH = 'config/model/knndd_001.json'\n",
    "PROFILE_REPORTING = False"
   ]
  },
  {
   "cell_type": "code",
   "execution_count": 2,
   "id": "458b8a05",
   "metadata": {
    "execution": {
     "iopub.execute_input": "2021-04-04T22:41:08.779687Z",
     "iopub.status.busy": "2021-04-04T22:41:08.779101Z",
     "iopub.status.idle": "2021-04-04T22:41:08.781218Z",
     "shell.execute_reply": "2021-04-04T22:41:08.781677Z"
    },
    "papermill": {
     "duration": 0.029952,
     "end_time": "2021-04-04T22:41:08.781816",
     "exception": false,
     "start_time": "2021-04-04T22:41:08.751864",
     "status": "completed"
    },
    "tags": [
     "injected-parameters"
    ]
   },
   "outputs": [],
   "source": [
    "# Parameters\n",
    "DATASET_CONFIG_PATH = \"config/dataset/000036.json\"\n",
    "MODEL_CONFIG_PATH = \"config/model/000001.json\"\n",
    "PROFILE_REPORTING = False\n"
   ]
  },
  {
   "cell_type": "code",
   "execution_count": 3,
   "id": "b80f2a10",
   "metadata": {
    "execution": {
     "iopub.execute_input": "2021-04-04T22:41:08.833529Z",
     "iopub.status.busy": "2021-04-04T22:41:08.832869Z",
     "iopub.status.idle": "2021-04-04T22:41:08.835231Z",
     "shell.execute_reply": "2021-04-04T22:41:08.835679Z"
    },
    "papermill": {
     "duration": 0.033769,
     "end_time": "2021-04-04T22:41:08.835816",
     "exception": false,
     "start_time": "2021-04-04T22:41:08.802047",
     "status": "completed"
    },
    "tags": []
   },
   "outputs": [],
   "source": [
    "import json\n",
    "\n",
    "\n",
    "with open(DATASET_CONFIG_PATH) as f:\n",
    "    dataset_config = json.load(f)\n",
    "\n",
    "with open(MODEL_CONFIG_PATH) as f:\n",
    "    model_config = json.load(f)"
   ]
  },
  {
   "cell_type": "markdown",
   "id": "9a4b0e2d",
   "metadata": {
    "papermill": {
     "duration": 0.022373,
     "end_time": "2021-04-04T22:41:08.882228",
     "exception": false,
     "start_time": "2021-04-04T22:41:08.859855",
     "status": "completed"
    },
    "tags": []
   },
   "source": [
    "# Profiling"
   ]
  },
  {
   "cell_type": "code",
   "execution_count": 4,
   "id": "a3e0289b",
   "metadata": {
    "execution": {
     "iopub.execute_input": "2021-04-04T22:41:08.935357Z",
     "iopub.status.busy": "2021-04-04T22:41:08.934185Z",
     "iopub.status.idle": "2021-04-04T22:41:10.502004Z",
     "shell.execute_reply": "2021-04-04T22:41:10.501288Z"
    },
    "papermill": {
     "duration": 1.599932,
     "end_time": "2021-04-04T22:41:10.502143",
     "exception": false,
     "start_time": "2021-04-04T22:41:08.902211",
     "status": "completed"
    },
    "tags": []
   },
   "outputs": [],
   "source": [
    "import pandas as pd\n",
    "from pandas_profiling import ProfileReport"
   ]
  },
  {
   "cell_type": "code",
   "execution_count": 5,
   "id": "ee6c0666",
   "metadata": {
    "execution": {
     "iopub.execute_input": "2021-04-04T22:41:10.551225Z",
     "iopub.status.busy": "2021-04-04T22:41:10.550123Z",
     "iopub.status.idle": "2021-04-04T22:41:10.563975Z",
     "shell.execute_reply": "2021-04-04T22:41:10.563424Z"
    },
    "papermill": {
     "duration": 0.040753,
     "end_time": "2021-04-04T22:41:10.564097",
     "exception": false,
     "start_time": "2021-04-04T22:41:10.523344",
     "status": "completed"
    },
    "tags": []
   },
   "outputs": [],
   "source": [
    "df = pd.read_csv(dataset_config['dataset_path'])"
   ]
  },
  {
   "cell_type": "code",
   "execution_count": 6,
   "id": "7eca6c4a",
   "metadata": {
    "execution": {
     "iopub.execute_input": "2021-04-04T22:41:10.633666Z",
     "iopub.status.busy": "2021-04-04T22:41:10.621043Z",
     "iopub.status.idle": "2021-04-04T22:41:10.636371Z",
     "shell.execute_reply": "2021-04-04T22:41:10.636889Z"
    },
    "papermill": {
     "duration": 0.051693,
     "end_time": "2021-04-04T22:41:10.637056",
     "exception": false,
     "start_time": "2021-04-04T22:41:10.585363",
     "status": "completed"
    },
    "tags": []
   },
   "outputs": [
    {
     "name": "stdout",
     "output_type": "stream",
     "text": [
      "<class 'pandas.core.frame.DataFrame'>\n",
      "RangeIndex: 2109 entries, 0 to 2108\n",
      "Data columns (total 23 columns):\n",
      " #   Column             Non-Null Count  Dtype  \n",
      "---  ------             --------------  -----  \n",
      " 0   id                 2109 non-null   int64  \n",
      " 1   loc                2109 non-null   float64\n",
      " 2   v(g)               2109 non-null   float64\n",
      " 3   ev(g)              2109 non-null   float64\n",
      " 4   iv(g)              2109 non-null   float64\n",
      " 5   n                  2109 non-null   float64\n",
      " 6   v                  2109 non-null   float64\n",
      " 7   l                  2109 non-null   float64\n",
      " 8   d                  2109 non-null   float64\n",
      " 9   i                  2109 non-null   float64\n",
      " 10  e                  2109 non-null   float64\n",
      " 11  b                  2109 non-null   float64\n",
      " 12  t                  2109 non-null   float64\n",
      " 13  lOCode             2109 non-null   int64  \n",
      " 14  lOComment          2109 non-null   int64  \n",
      " 15  lOBlank            2109 non-null   int64  \n",
      " 16  locCodeAndComment  2109 non-null   int64  \n",
      " 17  uniq_Op            2109 non-null   float64\n",
      " 18  uniq_Opnd          2109 non-null   float64\n",
      " 19  total_Op           2109 non-null   float64\n",
      " 20  total_Opnd         2109 non-null   float64\n",
      " 21  branchCount        2109 non-null   float64\n",
      " 22  defects            2109 non-null   bool   \n",
      "dtypes: bool(1), float64(17), int64(5)\n",
      "memory usage: 364.7 KB\n"
     ]
    }
   ],
   "source": [
    "df.info()"
   ]
  },
  {
   "cell_type": "code",
   "execution_count": 7,
   "id": "3638e5e8",
   "metadata": {
    "execution": {
     "iopub.execute_input": "2021-04-04T22:41:10.697485Z",
     "iopub.status.busy": "2021-04-04T22:41:10.687644Z",
     "iopub.status.idle": "2021-04-04T22:41:10.718973Z",
     "shell.execute_reply": "2021-04-04T22:41:10.718384Z"
    },
    "papermill": {
     "duration": 0.058789,
     "end_time": "2021-04-04T22:41:10.719090",
     "exception": false,
     "start_time": "2021-04-04T22:41:10.660301",
     "status": "completed"
    },
    "tags": []
   },
   "outputs": [
    {
     "data": {
      "text/html": [
       "<div>\n",
       "<style scoped>\n",
       "    .dataframe tbody tr th:only-of-type {\n",
       "        vertical-align: middle;\n",
       "    }\n",
       "\n",
       "    .dataframe tbody tr th {\n",
       "        vertical-align: top;\n",
       "    }\n",
       "\n",
       "    .dataframe thead th {\n",
       "        text-align: right;\n",
       "    }\n",
       "</style>\n",
       "<table border=\"1\" class=\"dataframe\">\n",
       "  <thead>\n",
       "    <tr style=\"text-align: right;\">\n",
       "      <th></th>\n",
       "      <th>id</th>\n",
       "      <th>loc</th>\n",
       "      <th>v(g)</th>\n",
       "      <th>ev(g)</th>\n",
       "      <th>iv(g)</th>\n",
       "      <th>n</th>\n",
       "      <th>v</th>\n",
       "      <th>l</th>\n",
       "      <th>d</th>\n",
       "      <th>i</th>\n",
       "      <th>...</th>\n",
       "      <th>lOCode</th>\n",
       "      <th>lOComment</th>\n",
       "      <th>lOBlank</th>\n",
       "      <th>locCodeAndComment</th>\n",
       "      <th>uniq_Op</th>\n",
       "      <th>uniq_Opnd</th>\n",
       "      <th>total_Op</th>\n",
       "      <th>total_Opnd</th>\n",
       "      <th>branchCount</th>\n",
       "      <th>defects</th>\n",
       "    </tr>\n",
       "  </thead>\n",
       "  <tbody>\n",
       "    <tr>\n",
       "      <th>0</th>\n",
       "      <td>1</td>\n",
       "      <td>1.1</td>\n",
       "      <td>1.4</td>\n",
       "      <td>1.4</td>\n",
       "      <td>1.4</td>\n",
       "      <td>1.3</td>\n",
       "      <td>1.30</td>\n",
       "      <td>1.30</td>\n",
       "      <td>1.30</td>\n",
       "      <td>1.30</td>\n",
       "      <td>...</td>\n",
       "      <td>2</td>\n",
       "      <td>2</td>\n",
       "      <td>2</td>\n",
       "      <td>2</td>\n",
       "      <td>1.2</td>\n",
       "      <td>1.2</td>\n",
       "      <td>1.2</td>\n",
       "      <td>1.2</td>\n",
       "      <td>1.4</td>\n",
       "      <td>False</td>\n",
       "    </tr>\n",
       "    <tr>\n",
       "      <th>1</th>\n",
       "      <td>2</td>\n",
       "      <td>1.0</td>\n",
       "      <td>1.0</td>\n",
       "      <td>1.0</td>\n",
       "      <td>1.0</td>\n",
       "      <td>1.0</td>\n",
       "      <td>1.00</td>\n",
       "      <td>1.00</td>\n",
       "      <td>1.00</td>\n",
       "      <td>1.00</td>\n",
       "      <td>...</td>\n",
       "      <td>1</td>\n",
       "      <td>1</td>\n",
       "      <td>1</td>\n",
       "      <td>1</td>\n",
       "      <td>1.0</td>\n",
       "      <td>1.0</td>\n",
       "      <td>1.0</td>\n",
       "      <td>1.0</td>\n",
       "      <td>1.0</td>\n",
       "      <td>True</td>\n",
       "    </tr>\n",
       "    <tr>\n",
       "      <th>2</th>\n",
       "      <td>3</td>\n",
       "      <td>83.0</td>\n",
       "      <td>11.0</td>\n",
       "      <td>1.0</td>\n",
       "      <td>11.0</td>\n",
       "      <td>171.0</td>\n",
       "      <td>927.89</td>\n",
       "      <td>0.04</td>\n",
       "      <td>23.04</td>\n",
       "      <td>40.27</td>\n",
       "      <td>...</td>\n",
       "      <td>65</td>\n",
       "      <td>10</td>\n",
       "      <td>6</td>\n",
       "      <td>0</td>\n",
       "      <td>18.0</td>\n",
       "      <td>25.0</td>\n",
       "      <td>107.0</td>\n",
       "      <td>64.0</td>\n",
       "      <td>21.0</td>\n",
       "      <td>True</td>\n",
       "    </tr>\n",
       "    <tr>\n",
       "      <th>3</th>\n",
       "      <td>4</td>\n",
       "      <td>46.0</td>\n",
       "      <td>8.0</td>\n",
       "      <td>6.0</td>\n",
       "      <td>8.0</td>\n",
       "      <td>141.0</td>\n",
       "      <td>769.78</td>\n",
       "      <td>0.07</td>\n",
       "      <td>14.86</td>\n",
       "      <td>51.81</td>\n",
       "      <td>...</td>\n",
       "      <td>37</td>\n",
       "      <td>2</td>\n",
       "      <td>5</td>\n",
       "      <td>0</td>\n",
       "      <td>16.0</td>\n",
       "      <td>28.0</td>\n",
       "      <td>89.0</td>\n",
       "      <td>52.0</td>\n",
       "      <td>15.0</td>\n",
       "      <td>True</td>\n",
       "    </tr>\n",
       "    <tr>\n",
       "      <th>4</th>\n",
       "      <td>5</td>\n",
       "      <td>25.0</td>\n",
       "      <td>3.0</td>\n",
       "      <td>1.0</td>\n",
       "      <td>3.0</td>\n",
       "      <td>58.0</td>\n",
       "      <td>254.75</td>\n",
       "      <td>0.11</td>\n",
       "      <td>9.35</td>\n",
       "      <td>27.25</td>\n",
       "      <td>...</td>\n",
       "      <td>21</td>\n",
       "      <td>0</td>\n",
       "      <td>2</td>\n",
       "      <td>0</td>\n",
       "      <td>11.0</td>\n",
       "      <td>10.0</td>\n",
       "      <td>41.0</td>\n",
       "      <td>17.0</td>\n",
       "      <td>5.0</td>\n",
       "      <td>True</td>\n",
       "    </tr>\n",
       "  </tbody>\n",
       "</table>\n",
       "<p>5 rows × 23 columns</p>\n",
       "</div>"
      ],
      "text/plain": [
       "   id   loc  v(g)  ev(g)  iv(g)      n       v     l      d      i  ...  \\\n",
       "0   1   1.1   1.4    1.4    1.4    1.3    1.30  1.30   1.30   1.30  ...   \n",
       "1   2   1.0   1.0    1.0    1.0    1.0    1.00  1.00   1.00   1.00  ...   \n",
       "2   3  83.0  11.0    1.0   11.0  171.0  927.89  0.04  23.04  40.27  ...   \n",
       "3   4  46.0   8.0    6.0    8.0  141.0  769.78  0.07  14.86  51.81  ...   \n",
       "4   5  25.0   3.0    1.0    3.0   58.0  254.75  0.11   9.35  27.25  ...   \n",
       "\n",
       "   lOCode  lOComment  lOBlank  locCodeAndComment  uniq_Op  uniq_Opnd  \\\n",
       "0       2          2        2                  2      1.2        1.2   \n",
       "1       1          1        1                  1      1.0        1.0   \n",
       "2      65         10        6                  0     18.0       25.0   \n",
       "3      37          2        5                  0     16.0       28.0   \n",
       "4      21          0        2                  0     11.0       10.0   \n",
       "\n",
       "   total_Op  total_Opnd  branchCount  defects  \n",
       "0       1.2         1.2          1.4    False  \n",
       "1       1.0         1.0          1.0     True  \n",
       "2     107.0        64.0         21.0     True  \n",
       "3      89.0        52.0         15.0     True  \n",
       "4      41.0        17.0          5.0     True  \n",
       "\n",
       "[5 rows x 23 columns]"
      ]
     },
     "execution_count": 7,
     "metadata": {},
     "output_type": "execute_result"
    }
   ],
   "source": [
    "df.head()"
   ]
  },
  {
   "cell_type": "code",
   "execution_count": 8,
   "id": "733e95eb",
   "metadata": {
    "execution": {
     "iopub.execute_input": "2021-04-04T22:41:10.776556Z",
     "iopub.status.busy": "2021-04-04T22:41:10.775779Z",
     "iopub.status.idle": "2021-04-04T22:41:10.780377Z",
     "shell.execute_reply": "2021-04-04T22:41:10.779572Z"
    },
    "papermill": {
     "duration": 0.039176,
     "end_time": "2021-04-04T22:41:10.780547",
     "exception": false,
     "start_time": "2021-04-04T22:41:10.741371",
     "status": "completed"
    },
    "tags": []
   },
   "outputs": [],
   "source": [
    "del df['id']"
   ]
  },
  {
   "cell_type": "code",
   "execution_count": 9,
   "id": "6ff6f5b0",
   "metadata": {
    "execution": {
     "iopub.execute_input": "2021-04-04T22:41:10.830144Z",
     "iopub.status.busy": "2021-04-04T22:41:10.829456Z",
     "iopub.status.idle": "2021-04-04T22:41:10.831924Z",
     "shell.execute_reply": "2021-04-04T22:41:10.831395Z"
    },
    "papermill": {
     "duration": 0.027981,
     "end_time": "2021-04-04T22:41:10.832042",
     "exception": false,
     "start_time": "2021-04-04T22:41:10.804061",
     "status": "completed"
    },
    "tags": []
   },
   "outputs": [],
   "source": [
    "if PROFILE_REPORTING:\n",
    "    ProfileReport(df).to_widgets()"
   ]
  },
  {
   "cell_type": "markdown",
   "id": "1deaf3f0",
   "metadata": {
    "papermill": {
     "duration": 0.026427,
     "end_time": "2021-04-04T22:41:10.884701",
     "exception": false,
     "start_time": "2021-04-04T22:41:10.858274",
     "status": "completed"
    },
    "tags": []
   },
   "source": [
    "# Preprocess"
   ]
  },
  {
   "cell_type": "code",
   "execution_count": 10,
   "id": "1513e563",
   "metadata": {
    "execution": {
     "iopub.execute_input": "2021-04-04T22:41:10.940924Z",
     "iopub.status.busy": "2021-04-04T22:41:10.939779Z",
     "iopub.status.idle": "2021-04-04T22:41:10.942606Z",
     "shell.execute_reply": "2021-04-04T22:41:10.943096Z"
    },
    "papermill": {
     "duration": 0.029448,
     "end_time": "2021-04-04T22:41:10.943281",
     "exception": false,
     "start_time": "2021-04-04T22:41:10.913833",
     "status": "completed"
    },
    "tags": []
   },
   "outputs": [],
   "source": [
    "working_df = df.copy()"
   ]
  },
  {
   "cell_type": "code",
   "execution_count": 11,
   "id": "3b26d675",
   "metadata": {
    "execution": {
     "iopub.execute_input": "2021-04-04T22:41:11.006825Z",
     "iopub.status.busy": "2021-04-04T22:41:11.005524Z",
     "iopub.status.idle": "2021-04-04T22:41:11.009916Z",
     "shell.execute_reply": "2021-04-04T22:41:11.009331Z"
    },
    "papermill": {
     "duration": 0.04082,
     "end_time": "2021-04-04T22:41:11.010051",
     "exception": false,
     "start_time": "2021-04-04T22:41:10.969231",
     "status": "completed"
    },
    "tags": []
   },
   "outputs": [],
   "source": [
    "working_df['defects'] = working_df['defects'].replace([False, True], [0, 1])"
   ]
  },
  {
   "cell_type": "code",
   "execution_count": 12,
   "id": "eb48604f",
   "metadata": {
    "execution": {
     "iopub.execute_input": "2021-04-04T22:41:11.061680Z",
     "iopub.status.busy": "2021-04-04T22:41:11.060865Z",
     "iopub.status.idle": "2021-04-04T22:41:11.064984Z",
     "shell.execute_reply": "2021-04-04T22:41:11.065544Z"
    },
    "papermill": {
     "duration": 0.031621,
     "end_time": "2021-04-04T22:41:11.065729",
     "exception": false,
     "start_time": "2021-04-04T22:41:11.034108",
     "status": "completed"
    },
    "tags": []
   },
   "outputs": [],
   "source": [
    "for col in dataset_config['delete_columns']:\n",
    "    del working_df[col]"
   ]
  },
  {
   "cell_type": "code",
   "execution_count": 13,
   "id": "9a17bc29",
   "metadata": {
    "execution": {
     "iopub.execute_input": "2021-04-04T22:41:11.131632Z",
     "iopub.status.busy": "2021-04-04T22:41:11.130067Z",
     "iopub.status.idle": "2021-04-04T22:41:11.155340Z",
     "shell.execute_reply": "2021-04-04T22:41:11.156010Z"
    },
    "papermill": {
     "duration": 0.066526,
     "end_time": "2021-04-04T22:41:11.156231",
     "exception": false,
     "start_time": "2021-04-04T22:41:11.089705",
     "status": "completed"
    },
    "tags": []
   },
   "outputs": [],
   "source": [
    "working_df = working_df.drop_duplicates()"
   ]
  },
  {
   "cell_type": "markdown",
   "id": "a4d52ca6",
   "metadata": {
    "papermill": {
     "duration": 0.024351,
     "end_time": "2021-04-04T22:41:11.208918",
     "exception": false,
     "start_time": "2021-04-04T22:41:11.184567",
     "status": "completed"
    },
    "tags": []
   },
   "source": [
    "# Split"
   ]
  },
  {
   "cell_type": "code",
   "execution_count": 14,
   "id": "3e9ee4b5",
   "metadata": {
    "execution": {
     "iopub.execute_input": "2021-04-04T22:41:11.272803Z",
     "iopub.status.busy": "2021-04-04T22:41:11.271580Z",
     "iopub.status.idle": "2021-04-04T22:41:11.306670Z",
     "shell.execute_reply": "2021-04-04T22:41:11.307174Z"
    },
    "papermill": {
     "duration": 0.070719,
     "end_time": "2021-04-04T22:41:11.307324",
     "exception": false,
     "start_time": "2021-04-04T22:41:11.236605",
     "status": "completed"
    },
    "tags": []
   },
   "outputs": [],
   "source": [
    "from sklearn.model_selection import train_test_split"
   ]
  },
  {
   "cell_type": "code",
   "execution_count": 15,
   "id": "274004ce",
   "metadata": {
    "execution": {
     "iopub.execute_input": "2021-04-04T22:41:11.372471Z",
     "iopub.status.busy": "2021-04-04T22:41:11.371340Z",
     "iopub.status.idle": "2021-04-04T22:41:11.379215Z",
     "shell.execute_reply": "2021-04-04T22:41:11.380337Z"
    },
    "papermill": {
     "duration": 0.046306,
     "end_time": "2021-04-04T22:41:11.380537",
     "exception": false,
     "start_time": "2021-04-04T22:41:11.334231",
     "status": "completed"
    },
    "scrolled": true,
    "tags": []
   },
   "outputs": [],
   "source": [
    "inlier, outlier = working_df[working_df['defects'] == 0], working_df[working_df['defects'] == 1]"
   ]
  },
  {
   "cell_type": "code",
   "execution_count": 16,
   "id": "753c7b03",
   "metadata": {
    "execution": {
     "iopub.execute_input": "2021-04-04T22:41:11.445344Z",
     "iopub.status.busy": "2021-04-04T22:41:11.444454Z",
     "iopub.status.idle": "2021-04-04T22:41:11.450269Z",
     "shell.execute_reply": "2021-04-04T22:41:11.449144Z"
    },
    "papermill": {
     "duration": 0.045527,
     "end_time": "2021-04-04T22:41:11.450488",
     "exception": false,
     "start_time": "2021-04-04T22:41:11.404961",
     "status": "completed"
    },
    "tags": []
   },
   "outputs": [],
   "source": [
    "X_inlier = inlier.copy()\n",
    "y_inlier = X_inlier.pop('defects')\n",
    "X_outlier = outlier.copy()\n",
    "y_outlier = X_outlier.pop('defects')"
   ]
  },
  {
   "cell_type": "code",
   "execution_count": 17,
   "id": "2ba43193",
   "metadata": {
    "execution": {
     "iopub.execute_input": "2021-04-04T22:41:11.532098Z",
     "iopub.status.busy": "2021-04-04T22:41:11.531254Z",
     "iopub.status.idle": "2021-04-04T22:41:11.540433Z",
     "shell.execute_reply": "2021-04-04T22:41:11.539149Z"
    },
    "papermill": {
     "duration": 0.059125,
     "end_time": "2021-04-04T22:41:11.540753",
     "exception": false,
     "start_time": "2021-04-04T22:41:11.481628",
     "status": "completed"
    },
    "tags": []
   },
   "outputs": [],
   "source": [
    "test_size = dataset_config['test_size']\n",
    "random_state = dataset_config['random_state']\n",
    "\n",
    "X_inlier_train, X_inlier_test, y_inlier_train, y_inlier_test = train_test_split(\n",
    "    X_inlier,\n",
    "    y_inlier,\n",
    "    test_size=test_size,\n",
    "    random_state=random_state\n",
    ")"
   ]
  },
  {
   "cell_type": "code",
   "execution_count": 18,
   "id": "0b7582ca",
   "metadata": {
    "execution": {
     "iopub.execute_input": "2021-04-04T22:41:11.633848Z",
     "iopub.status.busy": "2021-04-04T22:41:11.631351Z",
     "iopub.status.idle": "2021-04-04T22:41:11.638581Z",
     "shell.execute_reply": "2021-04-04T22:41:11.639646Z"
    },
    "papermill": {
     "duration": 0.062768,
     "end_time": "2021-04-04T22:41:11.639944",
     "exception": false,
     "start_time": "2021-04-04T22:41:11.577176",
     "status": "completed"
    },
    "tags": []
   },
   "outputs": [],
   "source": [
    "test_outlier_size = dataset_config['test_outlier_size']\n",
    "if test_outlier_size > 0.0:\n",
    "    X_outlier_train, X_outlier_test, y_outlier_train, y_outlier_test = train_test_split(\n",
    "        X_outlier,\n",
    "        y_outlier,\n",
    "        test_size=test_outlier_size,\n",
    "        random_state=random_state\n",
    "    )\n",
    "else:\n",
    "    X_outlier_train, y_outlier_train = pd.DataFrame(columns=X_outlier.columns), pd.Series(dtype='int64')\n",
    "    X_outlier_test, y_outlier_test = X_outlier.copy(), y_outlier.copy()"
   ]
  },
  {
   "cell_type": "code",
   "execution_count": 19,
   "id": "c34363db",
   "metadata": {
    "execution": {
     "iopub.execute_input": "2021-04-04T22:41:11.726562Z",
     "iopub.status.busy": "2021-04-04T22:41:11.722617Z",
     "iopub.status.idle": "2021-04-04T22:41:11.730968Z",
     "shell.execute_reply": "2021-04-04T22:41:11.731615Z"
    },
    "papermill": {
     "duration": 0.049162,
     "end_time": "2021-04-04T22:41:11.731968",
     "exception": false,
     "start_time": "2021-04-04T22:41:11.682806",
     "status": "completed"
    },
    "tags": []
   },
   "outputs": [],
   "source": [
    "X_train, y_train = pd.concat([X_inlier_train, X_outlier_train], ignore_index=True), pd.concat([y_inlier_train, y_outlier_train], ignore_index=True)\n",
    "X_test, y_test = pd.concat([X_inlier_test, X_outlier_test], ignore_index=True), pd.concat([y_inlier_test, y_outlier_test], ignore_index=True)"
   ]
  },
  {
   "cell_type": "markdown",
   "id": "7cde7309",
   "metadata": {
    "papermill": {
     "duration": 0.037864,
     "end_time": "2021-04-04T22:41:11.798736",
     "exception": false,
     "start_time": "2021-04-04T22:41:11.760872",
     "status": "completed"
    },
    "tags": []
   },
   "source": [
    "# Model"
   ]
  },
  {
   "cell_type": "code",
   "execution_count": 20,
   "id": "2b12a415",
   "metadata": {
    "execution": {
     "iopub.execute_input": "2021-04-04T22:41:11.885358Z",
     "iopub.status.busy": "2021-04-04T22:41:11.883752Z",
     "iopub.status.idle": "2021-04-04T22:41:11.893999Z",
     "shell.execute_reply": "2021-04-04T22:41:11.892942Z"
    },
    "papermill": {
     "duration": 0.057809,
     "end_time": "2021-04-04T22:41:11.894171",
     "exception": false,
     "start_time": "2021-04-04T22:41:11.836362",
     "status": "completed"
    },
    "tags": []
   },
   "outputs": [],
   "source": [
    "from math import sqrt\n",
    "\n",
    "\n",
    "class KNNDataDescription:\n",
    "    def __init__(self, k=5, outlier_threshold=1.0):\n",
    "        self.k = k\n",
    "        self.outlier_threshold = outlier_threshold\n",
    "        self.X = []\n",
    "    \n",
    "    def fit(self, X):\n",
    "        self.X = [features.to_list() for index, features in X.iterrows()]\n",
    "\n",
    "    def predict(self, entries):\n",
    "        return [self.predict_entry(features.to_list()) for index, features in entries.iterrows()]\n",
    "    \n",
    "    def predict_entry(self, entry):\n",
    "        kth_neighbor, kth_distance = self.get_kth_neighbor(entry, self.k)\n",
    "        kth_kth_neighbor, kth_kth_distance = self.get_kth_neighbor(kth_neighbor, self.k + 1)\n",
    "\n",
    "        outlier_score = kth_distance / (kth_kth_distance + 0.000001)\n",
    "\n",
    "        return 1 if outlier_score < self.outlier_threshold else -1\n",
    "        \n",
    "    def euclidean_distance(self, features1, features2):\n",
    "        distance = 0.0\n",
    "        for feat1, feat2 in zip(features1, features2):\n",
    "            distance += (feat1 - feat2)**2\n",
    "                \n",
    "        return sqrt(distance)\n",
    "\n",
    "    def get_neighbors(self, entry, k):\n",
    "        distance_to_data_points = [\n",
    "            (data_point, self.euclidean_distance(entry, data_point))\n",
    "            for data_point in self.X\n",
    "        ]\n",
    "        sorted_by_distance = sorted(distance_to_data_points, key=lambda tup: tup[1])\n",
    "        neighbors = sorted_by_distance[:k]\n",
    "        return neighbors\n",
    "\n",
    "    def get_kth_neighbor(self, entry, k):\n",
    "        neighbors = self.get_neighbors(entry, k)\n",
    "        return neighbors[-1]\n"
   ]
  },
  {
   "cell_type": "code",
   "execution_count": 21,
   "id": "1fa9ec1c",
   "metadata": {
    "execution": {
     "iopub.execute_input": "2021-04-04T22:41:11.987175Z",
     "iopub.status.busy": "2021-04-04T22:41:11.986513Z",
     "iopub.status.idle": "2021-04-04T22:41:12.021921Z",
     "shell.execute_reply": "2021-04-04T22:41:12.022497Z"
    },
    "papermill": {
     "duration": 0.08557,
     "end_time": "2021-04-04T22:41:12.022669",
     "exception": false,
     "start_time": "2021-04-04T22:41:11.937099",
     "status": "completed"
    },
    "tags": []
   },
   "outputs": [],
   "source": [
    "from sklearn.svm import OneClassSVM\n",
    "\n",
    "\n",
    "models = {\n",
    "    'oneclasssvm': OneClassSVM,\n",
    "    'knndatadescription': KNNDataDescription,\n",
    "}"
   ]
  },
  {
   "cell_type": "code",
   "execution_count": 22,
   "id": "4d72a0b1",
   "metadata": {
    "execution": {
     "iopub.execute_input": "2021-04-04T22:41:12.077697Z",
     "iopub.status.busy": "2021-04-04T22:41:12.077102Z",
     "iopub.status.idle": "2021-04-04T22:41:12.081206Z",
     "shell.execute_reply": "2021-04-04T22:41:12.082636Z"
    },
    "papermill": {
     "duration": 0.033522,
     "end_time": "2021-04-04T22:41:12.082854",
     "exception": false,
     "start_time": "2021-04-04T22:41:12.049332",
     "status": "completed"
    },
    "scrolled": true,
    "tags": []
   },
   "outputs": [],
   "source": [
    "model_cls = models[model_config['model_type']]\n",
    "model = model_cls(**model_config['hyperparameters'])"
   ]
  },
  {
   "cell_type": "markdown",
   "id": "e00cff3b",
   "metadata": {
    "papermill": {
     "duration": 0.03226,
     "end_time": "2021-04-04T22:41:12.139553",
     "exception": false,
     "start_time": "2021-04-04T22:41:12.107293",
     "status": "completed"
    },
    "tags": []
   },
   "source": [
    "# Fit"
   ]
  },
  {
   "cell_type": "code",
   "execution_count": 23,
   "id": "8b2ded89",
   "metadata": {
    "execution": {
     "iopub.execute_input": "2021-04-04T22:41:12.195362Z",
     "iopub.status.busy": "2021-04-04T22:41:12.194334Z",
     "iopub.status.idle": "2021-04-04T22:41:12.240638Z",
     "shell.execute_reply": "2021-04-04T22:41:12.239222Z"
    },
    "papermill": {
     "duration": 0.077242,
     "end_time": "2021-04-04T22:41:12.240971",
     "exception": false,
     "start_time": "2021-04-04T22:41:12.163729",
     "status": "completed"
    },
    "tags": []
   },
   "outputs": [],
   "source": [
    "model.fit(X_train)"
   ]
  },
  {
   "cell_type": "markdown",
   "id": "f99999f7",
   "metadata": {
    "papermill": {
     "duration": 0.026255,
     "end_time": "2021-04-04T22:41:12.291766",
     "exception": false,
     "start_time": "2021-04-04T22:41:12.265511",
     "status": "completed"
    },
    "tags": []
   },
   "source": [
    "# Predict"
   ]
  },
  {
   "cell_type": "code",
   "execution_count": 24,
   "id": "6536fbf7",
   "metadata": {
    "execution": {
     "iopub.execute_input": "2021-04-04T22:41:12.359583Z",
     "iopub.status.busy": "2021-04-04T22:41:12.357421Z",
     "iopub.status.idle": "2021-04-04T22:41:15.793242Z",
     "shell.execute_reply": "2021-04-04T22:41:15.792719Z"
    },
    "papermill": {
     "duration": 3.475505,
     "end_time": "2021-04-04T22:41:15.793361",
     "exception": false,
     "start_time": "2021-04-04T22:41:12.317856",
     "status": "completed"
    },
    "tags": []
   },
   "outputs": [],
   "source": [
    "predictions = model.predict(X_test)"
   ]
  },
  {
   "cell_type": "markdown",
   "id": "aa1c9881",
   "metadata": {
    "papermill": {
     "duration": 0.027842,
     "end_time": "2021-04-04T22:41:15.847063",
     "exception": false,
     "start_time": "2021-04-04T22:41:15.819221",
     "status": "completed"
    },
    "tags": []
   },
   "source": [
    "# Evaluate"
   ]
  },
  {
   "cell_type": "code",
   "execution_count": 25,
   "id": "894f0f04",
   "metadata": {
    "execution": {
     "iopub.execute_input": "2021-04-04T22:41:15.904358Z",
     "iopub.status.busy": "2021-04-04T22:41:15.903690Z",
     "iopub.status.idle": "2021-04-04T22:41:15.905447Z",
     "shell.execute_reply": "2021-04-04T22:41:15.905934Z"
    },
    "papermill": {
     "duration": 0.029858,
     "end_time": "2021-04-04T22:41:15.906084",
     "exception": false,
     "start_time": "2021-04-04T22:41:15.876226",
     "status": "completed"
    },
    "tags": []
   },
   "outputs": [],
   "source": [
    "from sklearn.metrics import f1_score"
   ]
  },
  {
   "cell_type": "code",
   "execution_count": 26,
   "id": "211744d3",
   "metadata": {
    "execution": {
     "iopub.execute_input": "2021-04-04T22:41:15.971264Z",
     "iopub.status.busy": "2021-04-04T22:41:15.970140Z",
     "iopub.status.idle": "2021-04-04T22:41:15.972611Z",
     "shell.execute_reply": "2021-04-04T22:41:15.973150Z"
    },
    "papermill": {
     "duration": 0.040801,
     "end_time": "2021-04-04T22:41:15.973312",
     "exception": false,
     "start_time": "2021-04-04T22:41:15.932511",
     "status": "completed"
    },
    "tags": []
   },
   "outputs": [],
   "source": [
    "y_test = y_test.replace([0, 1], [1, -1])"
   ]
  },
  {
   "cell_type": "code",
   "execution_count": 27,
   "id": "d68a9204",
   "metadata": {
    "execution": {
     "iopub.execute_input": "2021-04-04T22:41:16.031941Z",
     "iopub.status.busy": "2021-04-04T22:41:16.031084Z",
     "iopub.status.idle": "2021-04-04T22:41:16.033684Z",
     "shell.execute_reply": "2021-04-04T22:41:16.033173Z"
    },
    "papermill": {
     "duration": 0.036469,
     "end_time": "2021-04-04T22:41:16.033805",
     "exception": false,
     "start_time": "2021-04-04T22:41:15.997336",
     "status": "completed"
    },
    "tags": []
   },
   "outputs": [],
   "source": [
    "def evaluate(truths, predictions, pos_label, neg_label):\n",
    "    TP = 0\n",
    "    FP = 0\n",
    "    TN = 0\n",
    "    FN = 0\n",
    "\n",
    "    for truth, pred in zip(truths, predictions): \n",
    "        if truth == pred == pos_label:\n",
    "           TP += 1\n",
    "        elif pred == pos_label and truth == neg_label:\n",
    "           FP += 1\n",
    "        elif truth == pred == neg_label:\n",
    "           TN += 1\n",
    "        elif pred == neg_label and truth == pos_label:\n",
    "           FN += 1\n",
    "\n",
    "    precision = TP / (TP + FP)\n",
    "    sensitivity = TP / (TP + FN)\n",
    "    \n",
    "    return {\n",
    "        'true_pos': TP,\n",
    "        'false_pos': FP,\n",
    "        'false_neg': FN,\n",
    "        'true_neg': TN,\n",
    "        'precision': precision,\n",
    "        'sensitivity': sensitivity,\n",
    "        'f1': (2 * (precision * sensitivity)) / (precision + sensitivity)\n",
    "    }\n",
    "\n",
    "score = evaluate(y_test, predictions, pos_label=-1, neg_label=1)"
   ]
  },
  {
   "cell_type": "markdown",
   "id": "93596516",
   "metadata": {
    "papermill": {
     "duration": 0.030405,
     "end_time": "2021-04-04T22:41:16.088307",
     "exception": false,
     "start_time": "2021-04-04T22:41:16.057902",
     "status": "completed"
    },
    "tags": []
   },
   "source": [
    "# Report"
   ]
  },
  {
   "cell_type": "code",
   "execution_count": 28,
   "id": "bea5fba1",
   "metadata": {
    "execution": {
     "iopub.execute_input": "2021-04-04T22:41:16.147899Z",
     "iopub.status.busy": "2021-04-04T22:41:16.147304Z",
     "iopub.status.idle": "2021-04-04T22:41:16.149600Z",
     "shell.execute_reply": "2021-04-04T22:41:16.150061Z"
    },
    "papermill": {
     "duration": 0.034227,
     "end_time": "2021-04-04T22:41:16.150203",
     "exception": false,
     "start_time": "2021-04-04T22:41:16.115976",
     "status": "completed"
    },
    "tags": []
   },
   "outputs": [],
   "source": [
    "import csv\n",
    "\n",
    "\n",
    "dataset_config_name = DATASET_CONFIG_PATH.split('/')[-1].split('.')[0]\n",
    "model_config_name = MODEL_CONFIG_PATH.split('/')[-1].split('.')[0]\n",
    "configuration = f\"dataset_{dataset_config_name}-model_{model_config_name}\"\n",
    "\n",
    "with open('results.csv', 'a') as f:\n",
    "    report = dict({'configuration': configuration}, **score)\n",
    "    writer = csv.DictWriter(f, report.keys())\n",
    "    writer.writerow(report)"
   ]
  }
 ],
 "metadata": {
  "celltoolbar": "Tags",
  "kernelspec": {
   "display_name": "Python 3",
   "language": "python",
   "name": "python3"
  },
  "language_info": {
   "codemirror_mode": {
    "name": "ipython",
    "version": 3
   },
   "file_extension": ".py",
   "mimetype": "text/x-python",
   "name": "python",
   "nbconvert_exporter": "python",
   "pygments_lexer": "ipython3",
   "version": "3.9.1"
  },
  "papermill": {
   "default_parameters": {},
   "duration": 10.066073,
   "end_time": "2021-04-04T22:41:17.959885",
   "environment_variables": {},
   "exception": null,
   "input_path": "main.ipynb",
   "output_path": "runs/dataset_000036-model_000001.ipynb",
   "parameters": {
    "DATASET_CONFIG_PATH": "config/dataset/000036.json",
    "MODEL_CONFIG_PATH": "config/model/000001.json",
    "PROFILE_REPORTING": false
   },
   "start_time": "2021-04-04T22:41:07.893812",
   "version": "2.3.3"
  }
 },
 "nbformat": 4,
 "nbformat_minor": 5
}