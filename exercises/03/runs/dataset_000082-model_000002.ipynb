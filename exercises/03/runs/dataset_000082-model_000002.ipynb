{
 "cells": [
  {
   "cell_type": "markdown",
   "id": "51c71c25",
   "metadata": {
    "papermill": {
     "duration": 0.021944,
     "end_time": "2021-04-04T23:05:49.952759",
     "exception": false,
     "start_time": "2021-04-04T23:05:49.930815",
     "status": "completed"
    },
    "tags": []
   },
   "source": [
    "# Parametrizing"
   ]
  },
  {
   "cell_type": "code",
   "execution_count": 1,
   "id": "3b136394",
   "metadata": {
    "execution": {
     "iopub.execute_input": "2021-04-04T23:05:50.003100Z",
     "iopub.status.busy": "2021-04-04T23:05:50.002429Z",
     "iopub.status.idle": "2021-04-04T23:05:50.004760Z",
     "shell.execute_reply": "2021-04-04T23:05:50.005305Z"
    },
    "papermill": {
     "duration": 0.032148,
     "end_time": "2021-04-04T23:05:50.005528",
     "exception": false,
     "start_time": "2021-04-04T23:05:49.973380",
     "status": "completed"
    },
    "tags": [
     "parameters"
    ]
   },
   "outputs": [],
   "source": [
    "DATASET_CONFIG_PATH = 'config/dataset/kc1_001.json'\n",
    "MODEL_CONFIG_PATH = 'config/model/knndd_001.json'\n",
    "PROFILE_REPORTING = False"
   ]
  },
  {
   "cell_type": "code",
   "execution_count": 2,
   "id": "88f8b1b2",
   "metadata": {
    "execution": {
     "iopub.execute_input": "2021-04-04T23:05:50.052330Z",
     "iopub.status.busy": "2021-04-04T23:05:50.051519Z",
     "iopub.status.idle": "2021-04-04T23:05:50.053458Z",
     "shell.execute_reply": "2021-04-04T23:05:50.054031Z"
    },
    "papermill": {
     "duration": 0.025914,
     "end_time": "2021-04-04T23:05:50.054197",
     "exception": false,
     "start_time": "2021-04-04T23:05:50.028283",
     "status": "completed"
    },
    "tags": [
     "injected-parameters"
    ]
   },
   "outputs": [],
   "source": [
    "# Parameters\n",
    "DATASET_CONFIG_PATH = \"config/dataset/000082.json\"\n",
    "MODEL_CONFIG_PATH = \"config/model/000002.json\"\n",
    "PROFILE_REPORTING = False\n"
   ]
  },
  {
   "cell_type": "code",
   "execution_count": 3,
   "id": "b80f2a10",
   "metadata": {
    "execution": {
     "iopub.execute_input": "2021-04-04T23:05:50.105887Z",
     "iopub.status.busy": "2021-04-04T23:05:50.105222Z",
     "iopub.status.idle": "2021-04-04T23:05:50.108282Z",
     "shell.execute_reply": "2021-04-04T23:05:50.108745Z"
    },
    "papermill": {
     "duration": 0.02849,
     "end_time": "2021-04-04T23:05:50.108889",
     "exception": false,
     "start_time": "2021-04-04T23:05:50.080399",
     "status": "completed"
    },
    "tags": []
   },
   "outputs": [],
   "source": [
    "import json\n",
    "\n",
    "\n",
    "with open(DATASET_CONFIG_PATH) as f:\n",
    "    dataset_config = json.load(f)\n",
    "\n",
    "with open(MODEL_CONFIG_PATH) as f:\n",
    "    model_config = json.load(f)"
   ]
  },
  {
   "cell_type": "markdown",
   "id": "9a4b0e2d",
   "metadata": {
    "papermill": {
     "duration": 0.019328,
     "end_time": "2021-04-04T23:05:50.149976",
     "exception": false,
     "start_time": "2021-04-04T23:05:50.130648",
     "status": "completed"
    },
    "tags": []
   },
   "source": [
    "# Profiling"
   ]
  },
  {
   "cell_type": "code",
   "execution_count": 4,
   "id": "a3e0289b",
   "metadata": {
    "execution": {
     "iopub.execute_input": "2021-04-04T23:05:50.193830Z",
     "iopub.status.busy": "2021-04-04T23:05:50.193000Z",
     "iopub.status.idle": "2021-04-04T23:05:51.434865Z",
     "shell.execute_reply": "2021-04-04T23:05:51.434074Z"
    },
    "papermill": {
     "duration": 1.265757,
     "end_time": "2021-04-04T23:05:51.435069",
     "exception": false,
     "start_time": "2021-04-04T23:05:50.169312",
     "status": "completed"
    },
    "tags": []
   },
   "outputs": [],
   "source": [
    "import pandas as pd\n",
    "from pandas_profiling import ProfileReport"
   ]
  },
  {
   "cell_type": "code",
   "execution_count": 5,
   "id": "ee6c0666",
   "metadata": {
    "execution": {
     "iopub.execute_input": "2021-04-04T23:05:51.491371Z",
     "iopub.status.busy": "2021-04-04T23:05:51.490725Z",
     "iopub.status.idle": "2021-04-04T23:05:51.502614Z",
     "shell.execute_reply": "2021-04-04T23:05:51.503372Z"
    },
    "papermill": {
     "duration": 0.038503,
     "end_time": "2021-04-04T23:05:51.503587",
     "exception": false,
     "start_time": "2021-04-04T23:05:51.465084",
     "status": "completed"
    },
    "tags": []
   },
   "outputs": [],
   "source": [
    "df = pd.read_csv(dataset_config['dataset_path'])"
   ]
  },
  {
   "cell_type": "code",
   "execution_count": 6,
   "id": "7eca6c4a",
   "metadata": {
    "execution": {
     "iopub.execute_input": "2021-04-04T23:05:51.565595Z",
     "iopub.status.busy": "2021-04-04T23:05:51.555533Z",
     "iopub.status.idle": "2021-04-04T23:05:51.569576Z",
     "shell.execute_reply": "2021-04-04T23:05:51.570347Z"
    },
    "papermill": {
     "duration": 0.041539,
     "end_time": "2021-04-04T23:05:51.570581",
     "exception": false,
     "start_time": "2021-04-04T23:05:51.529042",
     "status": "completed"
    },
    "tags": []
   },
   "outputs": [
    {
     "name": "stdout",
     "output_type": "stream",
     "text": [
      "<class 'pandas.core.frame.DataFrame'>\n",
      "RangeIndex: 498 entries, 0 to 497\n",
      "Data columns (total 23 columns):\n",
      " #   Column             Non-Null Count  Dtype  \n",
      "---  ------             --------------  -----  \n",
      " 0   id                 498 non-null    int64  \n",
      " 1   loc                498 non-null    float64\n",
      " 2   v(g)               498 non-null    float64\n",
      " 3   ev(g)              498 non-null    float64\n",
      " 4   iv(g)              498 non-null    float64\n",
      " 5   n                  498 non-null    float64\n",
      " 6   v                  498 non-null    float64\n",
      " 7   l                  498 non-null    float64\n",
      " 8   d                  498 non-null    float64\n",
      " 9   i                  498 non-null    float64\n",
      " 10  e                  498 non-null    float64\n",
      " 11  b                  498 non-null    float64\n",
      " 12  t                  498 non-null    float64\n",
      " 13  lOCode             498 non-null    int64  \n",
      " 14  lOComment          498 non-null    int64  \n",
      " 15  lOBlank            498 non-null    int64  \n",
      " 16  locCodeAndComment  498 non-null    int64  \n",
      " 17  uniq_Op            498 non-null    float64\n",
      " 18  uniq_Opnd          498 non-null    float64\n",
      " 19  total_Op           498 non-null    float64\n",
      " 20  total_Opnd         498 non-null    float64\n",
      " 21  branchCount        498 non-null    float64\n",
      " 22  defects            498 non-null    bool   \n",
      "dtypes: bool(1), float64(17), int64(5)\n",
      "memory usage: 86.2 KB\n"
     ]
    }
   ],
   "source": [
    "df.info()"
   ]
  },
  {
   "cell_type": "code",
   "execution_count": 7,
   "id": "3638e5e8",
   "metadata": {
    "execution": {
     "iopub.execute_input": "2021-04-04T23:05:51.635677Z",
     "iopub.status.busy": "2021-04-04T23:05:51.624502Z",
     "iopub.status.idle": "2021-04-04T23:05:51.651598Z",
     "shell.execute_reply": "2021-04-04T23:05:51.650850Z"
    },
    "papermill": {
     "duration": 0.057587,
     "end_time": "2021-04-04T23:05:51.651764",
     "exception": false,
     "start_time": "2021-04-04T23:05:51.594177",
     "status": "completed"
    },
    "tags": []
   },
   "outputs": [
    {
     "data": {
      "text/html": [
       "<div>\n",
       "<style scoped>\n",
       "    .dataframe tbody tr th:only-of-type {\n",
       "        vertical-align: middle;\n",
       "    }\n",
       "\n",
       "    .dataframe tbody tr th {\n",
       "        vertical-align: top;\n",
       "    }\n",
       "\n",
       "    .dataframe thead th {\n",
       "        text-align: right;\n",
       "    }\n",
       "</style>\n",
       "<table border=\"1\" class=\"dataframe\">\n",
       "  <thead>\n",
       "    <tr style=\"text-align: right;\">\n",
       "      <th></th>\n",
       "      <th>id</th>\n",
       "      <th>loc</th>\n",
       "      <th>v(g)</th>\n",
       "      <th>ev(g)</th>\n",
       "      <th>iv(g)</th>\n",
       "      <th>n</th>\n",
       "      <th>v</th>\n",
       "      <th>l</th>\n",
       "      <th>d</th>\n",
       "      <th>i</th>\n",
       "      <th>...</th>\n",
       "      <th>lOCode</th>\n",
       "      <th>lOComment</th>\n",
       "      <th>lOBlank</th>\n",
       "      <th>locCodeAndComment</th>\n",
       "      <th>uniq_Op</th>\n",
       "      <th>uniq_Opnd</th>\n",
       "      <th>total_Op</th>\n",
       "      <th>total_Opnd</th>\n",
       "      <th>branchCount</th>\n",
       "      <th>defects</th>\n",
       "    </tr>\n",
       "  </thead>\n",
       "  <tbody>\n",
       "    <tr>\n",
       "      <th>0</th>\n",
       "      <td>1</td>\n",
       "      <td>1.1</td>\n",
       "      <td>1.4</td>\n",
       "      <td>1.4</td>\n",
       "      <td>1.4</td>\n",
       "      <td>1.3</td>\n",
       "      <td>1.30</td>\n",
       "      <td>1.30</td>\n",
       "      <td>1.30</td>\n",
       "      <td>1.30</td>\n",
       "      <td>...</td>\n",
       "      <td>2</td>\n",
       "      <td>2</td>\n",
       "      <td>2</td>\n",
       "      <td>2</td>\n",
       "      <td>1.2</td>\n",
       "      <td>1.2</td>\n",
       "      <td>1.2</td>\n",
       "      <td>1.2</td>\n",
       "      <td>1.4</td>\n",
       "      <td>False</td>\n",
       "    </tr>\n",
       "    <tr>\n",
       "      <th>1</th>\n",
       "      <td>2</td>\n",
       "      <td>1.0</td>\n",
       "      <td>1.0</td>\n",
       "      <td>1.0</td>\n",
       "      <td>1.0</td>\n",
       "      <td>1.0</td>\n",
       "      <td>1.00</td>\n",
       "      <td>1.00</td>\n",
       "      <td>1.00</td>\n",
       "      <td>1.00</td>\n",
       "      <td>...</td>\n",
       "      <td>1</td>\n",
       "      <td>1</td>\n",
       "      <td>1</td>\n",
       "      <td>1</td>\n",
       "      <td>1.0</td>\n",
       "      <td>1.0</td>\n",
       "      <td>1.0</td>\n",
       "      <td>1.0</td>\n",
       "      <td>1.0</td>\n",
       "      <td>True</td>\n",
       "    </tr>\n",
       "    <tr>\n",
       "      <th>2</th>\n",
       "      <td>3</td>\n",
       "      <td>24.0</td>\n",
       "      <td>5.0</td>\n",
       "      <td>1.0</td>\n",
       "      <td>3.0</td>\n",
       "      <td>63.0</td>\n",
       "      <td>309.13</td>\n",
       "      <td>0.11</td>\n",
       "      <td>9.50</td>\n",
       "      <td>32.54</td>\n",
       "      <td>...</td>\n",
       "      <td>1</td>\n",
       "      <td>0</td>\n",
       "      <td>6</td>\n",
       "      <td>0</td>\n",
       "      <td>15.0</td>\n",
       "      <td>15.0</td>\n",
       "      <td>44.0</td>\n",
       "      <td>19.0</td>\n",
       "      <td>9.0</td>\n",
       "      <td>False</td>\n",
       "    </tr>\n",
       "    <tr>\n",
       "      <th>3</th>\n",
       "      <td>4</td>\n",
       "      <td>20.0</td>\n",
       "      <td>4.0</td>\n",
       "      <td>4.0</td>\n",
       "      <td>2.0</td>\n",
       "      <td>47.0</td>\n",
       "      <td>215.49</td>\n",
       "      <td>0.06</td>\n",
       "      <td>16.00</td>\n",
       "      <td>13.47</td>\n",
       "      <td>...</td>\n",
       "      <td>0</td>\n",
       "      <td>0</td>\n",
       "      <td>3</td>\n",
       "      <td>0</td>\n",
       "      <td>16.0</td>\n",
       "      <td>8.0</td>\n",
       "      <td>31.0</td>\n",
       "      <td>16.0</td>\n",
       "      <td>7.0</td>\n",
       "      <td>False</td>\n",
       "    </tr>\n",
       "    <tr>\n",
       "      <th>4</th>\n",
       "      <td>5</td>\n",
       "      <td>24.0</td>\n",
       "      <td>6.0</td>\n",
       "      <td>6.0</td>\n",
       "      <td>2.0</td>\n",
       "      <td>72.0</td>\n",
       "      <td>346.13</td>\n",
       "      <td>0.06</td>\n",
       "      <td>17.33</td>\n",
       "      <td>19.97</td>\n",
       "      <td>...</td>\n",
       "      <td>0</td>\n",
       "      <td>0</td>\n",
       "      <td>3</td>\n",
       "      <td>0</td>\n",
       "      <td>16.0</td>\n",
       "      <td>12.0</td>\n",
       "      <td>46.0</td>\n",
       "      <td>26.0</td>\n",
       "      <td>11.0</td>\n",
       "      <td>False</td>\n",
       "    </tr>\n",
       "  </tbody>\n",
       "</table>\n",
       "<p>5 rows × 23 columns</p>\n",
       "</div>"
      ],
      "text/plain": [
       "   id   loc  v(g)  ev(g)  iv(g)     n       v     l      d      i  ...  \\\n",
       "0   1   1.1   1.4    1.4    1.4   1.3    1.30  1.30   1.30   1.30  ...   \n",
       "1   2   1.0   1.0    1.0    1.0   1.0    1.00  1.00   1.00   1.00  ...   \n",
       "2   3  24.0   5.0    1.0    3.0  63.0  309.13  0.11   9.50  32.54  ...   \n",
       "3   4  20.0   4.0    4.0    2.0  47.0  215.49  0.06  16.00  13.47  ...   \n",
       "4   5  24.0   6.0    6.0    2.0  72.0  346.13  0.06  17.33  19.97  ...   \n",
       "\n",
       "   lOCode  lOComment  lOBlank  locCodeAndComment  uniq_Op  uniq_Opnd  \\\n",
       "0       2          2        2                  2      1.2        1.2   \n",
       "1       1          1        1                  1      1.0        1.0   \n",
       "2       1          0        6                  0     15.0       15.0   \n",
       "3       0          0        3                  0     16.0        8.0   \n",
       "4       0          0        3                  0     16.0       12.0   \n",
       "\n",
       "   total_Op  total_Opnd  branchCount  defects  \n",
       "0       1.2         1.2          1.4    False  \n",
       "1       1.0         1.0          1.0     True  \n",
       "2      44.0        19.0          9.0    False  \n",
       "3      31.0        16.0          7.0    False  \n",
       "4      46.0        26.0         11.0    False  \n",
       "\n",
       "[5 rows x 23 columns]"
      ]
     },
     "execution_count": 7,
     "metadata": {},
     "output_type": "execute_result"
    }
   ],
   "source": [
    "df.head()"
   ]
  },
  {
   "cell_type": "code",
   "execution_count": 8,
   "id": "733e95eb",
   "metadata": {
    "execution": {
     "iopub.execute_input": "2021-04-04T23:05:51.701942Z",
     "iopub.status.busy": "2021-04-04T23:05:51.701167Z",
     "iopub.status.idle": "2021-04-04T23:05:51.703460Z",
     "shell.execute_reply": "2021-04-04T23:05:51.702900Z"
    },
    "papermill": {
     "duration": 0.028659,
     "end_time": "2021-04-04T23:05:51.703592",
     "exception": false,
     "start_time": "2021-04-04T23:05:51.674933",
     "status": "completed"
    },
    "tags": []
   },
   "outputs": [],
   "source": [
    "del df['id']"
   ]
  },
  {
   "cell_type": "code",
   "execution_count": 9,
   "id": "6ff6f5b0",
   "metadata": {
    "execution": {
     "iopub.execute_input": "2021-04-04T23:05:51.763566Z",
     "iopub.status.busy": "2021-04-04T23:05:51.762265Z",
     "iopub.status.idle": "2021-04-04T23:05:51.765491Z",
     "shell.execute_reply": "2021-04-04T23:05:51.764828Z"
    },
    "papermill": {
     "duration": 0.037794,
     "end_time": "2021-04-04T23:05:51.765644",
     "exception": false,
     "start_time": "2021-04-04T23:05:51.727850",
     "status": "completed"
    },
    "tags": []
   },
   "outputs": [],
   "source": [
    "if PROFILE_REPORTING:\n",
    "    ProfileReport(df).to_widgets()"
   ]
  },
  {
   "cell_type": "markdown",
   "id": "1deaf3f0",
   "metadata": {
    "papermill": {
     "duration": 0.023167,
     "end_time": "2021-04-04T23:05:51.811764",
     "exception": false,
     "start_time": "2021-04-04T23:05:51.788597",
     "status": "completed"
    },
    "tags": []
   },
   "source": [
    "# Preprocess"
   ]
  },
  {
   "cell_type": "code",
   "execution_count": 10,
   "id": "1513e563",
   "metadata": {
    "execution": {
     "iopub.execute_input": "2021-04-04T23:05:51.860638Z",
     "iopub.status.busy": "2021-04-04T23:05:51.859736Z",
     "iopub.status.idle": "2021-04-04T23:05:51.862183Z",
     "shell.execute_reply": "2021-04-04T23:05:51.862874Z"
    },
    "papermill": {
     "duration": 0.029656,
     "end_time": "2021-04-04T23:05:51.863071",
     "exception": false,
     "start_time": "2021-04-04T23:05:51.833415",
     "status": "completed"
    },
    "tags": []
   },
   "outputs": [],
   "source": [
    "working_df = df.copy()"
   ]
  },
  {
   "cell_type": "code",
   "execution_count": 11,
   "id": "3b26d675",
   "metadata": {
    "execution": {
     "iopub.execute_input": "2021-04-04T23:05:51.913580Z",
     "iopub.status.busy": "2021-04-04T23:05:51.912878Z",
     "iopub.status.idle": "2021-04-04T23:05:51.914734Z",
     "shell.execute_reply": "2021-04-04T23:05:51.915199Z"
    },
    "papermill": {
     "duration": 0.029684,
     "end_time": "2021-04-04T23:05:51.915339",
     "exception": false,
     "start_time": "2021-04-04T23:05:51.885655",
     "status": "completed"
    },
    "tags": []
   },
   "outputs": [],
   "source": [
    "working_df['defects'] = working_df['defects'].replace([False, True], [0, 1])"
   ]
  },
  {
   "cell_type": "code",
   "execution_count": 12,
   "id": "eb48604f",
   "metadata": {
    "execution": {
     "iopub.execute_input": "2021-04-04T23:05:51.967399Z",
     "iopub.status.busy": "2021-04-04T23:05:51.966155Z",
     "iopub.status.idle": "2021-04-04T23:05:51.969896Z",
     "shell.execute_reply": "2021-04-04T23:05:51.969068Z"
    },
    "papermill": {
     "duration": 0.029666,
     "end_time": "2021-04-04T23:05:51.970059",
     "exception": false,
     "start_time": "2021-04-04T23:05:51.940393",
     "status": "completed"
    },
    "tags": []
   },
   "outputs": [],
   "source": [
    "for col in dataset_config['delete_columns']:\n",
    "    del working_df[col]"
   ]
  },
  {
   "cell_type": "code",
   "execution_count": 13,
   "id": "9a17bc29",
   "metadata": {
    "execution": {
     "iopub.execute_input": "2021-04-04T23:05:52.026771Z",
     "iopub.status.busy": "2021-04-04T23:05:52.025336Z",
     "iopub.status.idle": "2021-04-04T23:05:52.038716Z",
     "shell.execute_reply": "2021-04-04T23:05:52.037743Z"
    },
    "papermill": {
     "duration": 0.041307,
     "end_time": "2021-04-04T23:05:52.038932",
     "exception": false,
     "start_time": "2021-04-04T23:05:51.997625",
     "status": "completed"
    },
    "tags": []
   },
   "outputs": [],
   "source": [
    "working_df = working_df.drop_duplicates()"
   ]
  },
  {
   "cell_type": "markdown",
   "id": "a4d52ca6",
   "metadata": {
    "papermill": {
     "duration": 0.021851,
     "end_time": "2021-04-04T23:05:52.087018",
     "exception": false,
     "start_time": "2021-04-04T23:05:52.065167",
     "status": "completed"
    },
    "tags": []
   },
   "source": [
    "# Split"
   ]
  },
  {
   "cell_type": "code",
   "execution_count": 14,
   "id": "3e9ee4b5",
   "metadata": {
    "execution": {
     "iopub.execute_input": "2021-04-04T23:05:52.135266Z",
     "iopub.status.busy": "2021-04-04T23:05:52.134284Z",
     "iopub.status.idle": "2021-04-04T23:05:52.168049Z",
     "shell.execute_reply": "2021-04-04T23:05:52.168788Z"
    },
    "papermill": {
     "duration": 0.060334,
     "end_time": "2021-04-04T23:05:52.168997",
     "exception": false,
     "start_time": "2021-04-04T23:05:52.108663",
     "status": "completed"
    },
    "tags": []
   },
   "outputs": [],
   "source": [
    "from sklearn.model_selection import train_test_split"
   ]
  },
  {
   "cell_type": "code",
   "execution_count": 15,
   "id": "274004ce",
   "metadata": {
    "execution": {
     "iopub.execute_input": "2021-04-04T23:05:52.222480Z",
     "iopub.status.busy": "2021-04-04T23:05:52.221594Z",
     "iopub.status.idle": "2021-04-04T23:05:52.227417Z",
     "shell.execute_reply": "2021-04-04T23:05:52.228274Z"
    },
    "papermill": {
     "duration": 0.03429,
     "end_time": "2021-04-04T23:05:52.228520",
     "exception": false,
     "start_time": "2021-04-04T23:05:52.194230",
     "status": "completed"
    },
    "scrolled": true,
    "tags": []
   },
   "outputs": [],
   "source": [
    "inlier, outlier = working_df[working_df['defects'] == 0], working_df[working_df['defects'] == 1]"
   ]
  },
  {
   "cell_type": "code",
   "execution_count": 16,
   "id": "753c7b03",
   "metadata": {
    "execution": {
     "iopub.execute_input": "2021-04-04T23:05:52.285265Z",
     "iopub.status.busy": "2021-04-04T23:05:52.284410Z",
     "iopub.status.idle": "2021-04-04T23:05:52.287120Z",
     "shell.execute_reply": "2021-04-04T23:05:52.288032Z"
    },
    "papermill": {
     "duration": 0.032782,
     "end_time": "2021-04-04T23:05:52.288282",
     "exception": false,
     "start_time": "2021-04-04T23:05:52.255500",
     "status": "completed"
    },
    "tags": []
   },
   "outputs": [],
   "source": [
    "X_inlier = inlier.copy()\n",
    "y_inlier = X_inlier.pop('defects')\n",
    "X_outlier = outlier.copy()\n",
    "y_outlier = X_outlier.pop('defects')"
   ]
  },
  {
   "cell_type": "code",
   "execution_count": 17,
   "id": "2ba43193",
   "metadata": {
    "execution": {
     "iopub.execute_input": "2021-04-04T23:05:52.353257Z",
     "iopub.status.busy": "2021-04-04T23:05:52.351849Z",
     "iopub.status.idle": "2021-04-04T23:05:52.356512Z",
     "shell.execute_reply": "2021-04-04T23:05:52.355364Z"
    },
    "papermill": {
     "duration": 0.035975,
     "end_time": "2021-04-04T23:05:52.356721",
     "exception": false,
     "start_time": "2021-04-04T23:05:52.320746",
     "status": "completed"
    },
    "tags": []
   },
   "outputs": [],
   "source": [
    "test_size = dataset_config['test_size']\n",
    "random_state = dataset_config['random_state']\n",
    "\n",
    "X_inlier_train, X_inlier_test, y_inlier_train, y_inlier_test = train_test_split(\n",
    "    X_inlier,\n",
    "    y_inlier,\n",
    "    test_size=test_size,\n",
    "    random_state=random_state\n",
    ")"
   ]
  },
  {
   "cell_type": "code",
   "execution_count": 18,
   "id": "0b7582ca",
   "metadata": {
    "execution": {
     "iopub.execute_input": "2021-04-04T23:05:52.419738Z",
     "iopub.status.busy": "2021-04-04T23:05:52.418720Z",
     "iopub.status.idle": "2021-04-04T23:05:52.421423Z",
     "shell.execute_reply": "2021-04-04T23:05:52.422311Z"
    },
    "papermill": {
     "duration": 0.038759,
     "end_time": "2021-04-04T23:05:52.422559",
     "exception": false,
     "start_time": "2021-04-04T23:05:52.383800",
     "status": "completed"
    },
    "tags": []
   },
   "outputs": [],
   "source": [
    "test_outlier_size = dataset_config['test_outlier_size']\n",
    "if test_outlier_size > 0.0:\n",
    "    X_outlier_train, X_outlier_test, y_outlier_train, y_outlier_test = train_test_split(\n",
    "        X_outlier,\n",
    "        y_outlier,\n",
    "        test_size=test_outlier_size,\n",
    "        random_state=random_state\n",
    "    )\n",
    "else:\n",
    "    X_outlier_train, y_outlier_train = pd.DataFrame(columns=X_outlier.columns), pd.Series(dtype='int64')\n",
    "    X_outlier_test, y_outlier_test = X_outlier.copy(), y_outlier.copy()"
   ]
  },
  {
   "cell_type": "code",
   "execution_count": 19,
   "id": "c34363db",
   "metadata": {
    "execution": {
     "iopub.execute_input": "2021-04-04T23:05:52.483218Z",
     "iopub.status.busy": "2021-04-04T23:05:52.482514Z",
     "iopub.status.idle": "2021-04-04T23:05:52.487442Z",
     "shell.execute_reply": "2021-04-04T23:05:52.486582Z"
    },
    "papermill": {
     "duration": 0.035852,
     "end_time": "2021-04-04T23:05:52.487621",
     "exception": false,
     "start_time": "2021-04-04T23:05:52.451769",
     "status": "completed"
    },
    "tags": []
   },
   "outputs": [],
   "source": [
    "X_train, y_train = pd.concat([X_inlier_train, X_outlier_train], ignore_index=True), pd.concat([y_inlier_train, y_outlier_train], ignore_index=True)\n",
    "X_test, y_test = pd.concat([X_inlier_test, X_outlier_test], ignore_index=True), pd.concat([y_inlier_test, y_outlier_test], ignore_index=True)"
   ]
  },
  {
   "cell_type": "markdown",
   "id": "7cde7309",
   "metadata": {
    "papermill": {
     "duration": 0.022125,
     "end_time": "2021-04-04T23:05:52.535460",
     "exception": false,
     "start_time": "2021-04-04T23:05:52.513335",
     "status": "completed"
    },
    "tags": []
   },
   "source": [
    "# Model"
   ]
  },
  {
   "cell_type": "code",
   "execution_count": 20,
   "id": "2b12a415",
   "metadata": {
    "execution": {
     "iopub.execute_input": "2021-04-04T23:05:52.595198Z",
     "iopub.status.busy": "2021-04-04T23:05:52.593880Z",
     "iopub.status.idle": "2021-04-04T23:05:52.597418Z",
     "shell.execute_reply": "2021-04-04T23:05:52.596913Z"
    },
    "papermill": {
     "duration": 0.039662,
     "end_time": "2021-04-04T23:05:52.597538",
     "exception": false,
     "start_time": "2021-04-04T23:05:52.557876",
     "status": "completed"
    },
    "tags": []
   },
   "outputs": [],
   "source": [
    "from math import sqrt\n",
    "\n",
    "\n",
    "class KNNDataDescription:\n",
    "    def __init__(self, k=5, outlier_threshold=1.0):\n",
    "        self.k = k\n",
    "        self.outlier_threshold = outlier_threshold\n",
    "        self.X = []\n",
    "    \n",
    "    def fit(self, X):\n",
    "        self.X = [features.to_list() for index, features in X.iterrows()]\n",
    "\n",
    "    def predict(self, entries):\n",
    "        return [self.predict_entry(features.to_list()) for index, features in entries.iterrows()]\n",
    "    \n",
    "    def predict_entry(self, entry):\n",
    "        kth_neighbor, kth_distance = self.get_kth_neighbor(entry, self.k)\n",
    "        kth_kth_neighbor, kth_kth_distance = self.get_kth_neighbor(kth_neighbor, self.k + 1)\n",
    "\n",
    "        outlier_score = kth_distance / (kth_kth_distance + 0.000001)\n",
    "\n",
    "        return 1 if outlier_score < self.outlier_threshold else -1\n",
    "        \n",
    "    def euclidean_distance(self, features1, features2):\n",
    "        distance = 0.0\n",
    "        for feat1, feat2 in zip(features1, features2):\n",
    "            distance += (feat1 - feat2)**2\n",
    "                \n",
    "        return sqrt(distance)\n",
    "\n",
    "    def get_neighbors(self, entry, k):\n",
    "        distance_to_data_points = [\n",
    "            (data_point, self.euclidean_distance(entry, data_point))\n",
    "            for data_point in self.X\n",
    "        ]\n",
    "        sorted_by_distance = sorted(distance_to_data_points, key=lambda tup: tup[1])\n",
    "        neighbors = sorted_by_distance[:k]\n",
    "        return neighbors\n",
    "\n",
    "    def get_kth_neighbor(self, entry, k):\n",
    "        neighbors = self.get_neighbors(entry, k)\n",
    "        return neighbors[-1]\n"
   ]
  },
  {
   "cell_type": "code",
   "execution_count": 21,
   "id": "1fa9ec1c",
   "metadata": {
    "execution": {
     "iopub.execute_input": "2021-04-04T23:05:52.648875Z",
     "iopub.status.busy": "2021-04-04T23:05:52.647448Z",
     "iopub.status.idle": "2021-04-04T23:05:52.675589Z",
     "shell.execute_reply": "2021-04-04T23:05:52.674497Z"
    },
    "papermill": {
     "duration": 0.055267,
     "end_time": "2021-04-04T23:05:52.675805",
     "exception": false,
     "start_time": "2021-04-04T23:05:52.620538",
     "status": "completed"
    },
    "tags": []
   },
   "outputs": [],
   "source": [
    "from sklearn.svm import OneClassSVM\n",
    "\n",
    "\n",
    "models = {\n",
    "    'oneclasssvm': OneClassSVM,\n",
    "    'knndatadescription': KNNDataDescription,\n",
    "}"
   ]
  },
  {
   "cell_type": "code",
   "execution_count": 22,
   "id": "4d72a0b1",
   "metadata": {
    "execution": {
     "iopub.execute_input": "2021-04-04T23:05:52.732368Z",
     "iopub.status.busy": "2021-04-04T23:05:52.731641Z",
     "iopub.status.idle": "2021-04-04T23:05:52.735360Z",
     "shell.execute_reply": "2021-04-04T23:05:52.734485Z"
    },
    "papermill": {
     "duration": 0.031376,
     "end_time": "2021-04-04T23:05:52.735531",
     "exception": false,
     "start_time": "2021-04-04T23:05:52.704155",
     "status": "completed"
    },
    "scrolled": true,
    "tags": []
   },
   "outputs": [],
   "source": [
    "model_cls = models[model_config['model_type']]\n",
    "model = model_cls(**model_config['hyperparameters'])"
   ]
  },
  {
   "cell_type": "markdown",
   "id": "e00cff3b",
   "metadata": {
    "papermill": {
     "duration": 0.022453,
     "end_time": "2021-04-04T23:05:52.792461",
     "exception": false,
     "start_time": "2021-04-04T23:05:52.770008",
     "status": "completed"
    },
    "tags": []
   },
   "source": [
    "# Fit"
   ]
  },
  {
   "cell_type": "code",
   "execution_count": 23,
   "id": "8b2ded89",
   "metadata": {
    "execution": {
     "iopub.execute_input": "2021-04-04T23:05:52.865292Z",
     "iopub.status.busy": "2021-04-04T23:05:52.858915Z",
     "iopub.status.idle": "2021-04-04T23:05:52.868034Z",
     "shell.execute_reply": "2021-04-04T23:05:52.867443Z"
    },
    "papermill": {
     "duration": 0.051529,
     "end_time": "2021-04-04T23:05:52.868169",
     "exception": false,
     "start_time": "2021-04-04T23:05:52.816640",
     "status": "completed"
    },
    "tags": []
   },
   "outputs": [],
   "source": [
    "model.fit(X_train)"
   ]
  },
  {
   "cell_type": "markdown",
   "id": "f99999f7",
   "metadata": {
    "papermill": {
     "duration": 0.023494,
     "end_time": "2021-04-04T23:05:52.916337",
     "exception": false,
     "start_time": "2021-04-04T23:05:52.892843",
     "status": "completed"
    },
    "tags": []
   },
   "source": [
    "# Predict"
   ]
  },
  {
   "cell_type": "code",
   "execution_count": 24,
   "id": "6536fbf7",
   "metadata": {
    "execution": {
     "iopub.execute_input": "2021-04-04T23:05:52.966165Z",
     "iopub.status.busy": "2021-04-04T23:05:52.965510Z",
     "iopub.status.idle": "2021-04-04T23:05:53.357552Z",
     "shell.execute_reply": "2021-04-04T23:05:53.356685Z"
    },
    "papermill": {
     "duration": 0.418374,
     "end_time": "2021-04-04T23:05:53.357759",
     "exception": false,
     "start_time": "2021-04-04T23:05:52.939385",
     "status": "completed"
    },
    "tags": []
   },
   "outputs": [],
   "source": [
    "predictions = model.predict(X_test)"
   ]
  },
  {
   "cell_type": "markdown",
   "id": "aa1c9881",
   "metadata": {
    "papermill": {
     "duration": 0.024065,
     "end_time": "2021-04-04T23:05:53.409046",
     "exception": false,
     "start_time": "2021-04-04T23:05:53.384981",
     "status": "completed"
    },
    "tags": []
   },
   "source": [
    "# Evaluate"
   ]
  },
  {
   "cell_type": "code",
   "execution_count": 25,
   "id": "894f0f04",
   "metadata": {
    "execution": {
     "iopub.execute_input": "2021-04-04T23:05:53.461804Z",
     "iopub.status.busy": "2021-04-04T23:05:53.460662Z",
     "iopub.status.idle": "2021-04-04T23:05:53.464152Z",
     "shell.execute_reply": "2021-04-04T23:05:53.463188Z"
    },
    "papermill": {
     "duration": 0.031433,
     "end_time": "2021-04-04T23:05:53.464340",
     "exception": false,
     "start_time": "2021-04-04T23:05:53.432907",
     "status": "completed"
    },
    "tags": []
   },
   "outputs": [],
   "source": [
    "from sklearn.metrics import f1_score"
   ]
  },
  {
   "cell_type": "code",
   "execution_count": 26,
   "id": "211744d3",
   "metadata": {
    "execution": {
     "iopub.execute_input": "2021-04-04T23:05:53.517400Z",
     "iopub.status.busy": "2021-04-04T23:05:53.516497Z",
     "iopub.status.idle": "2021-04-04T23:05:53.520026Z",
     "shell.execute_reply": "2021-04-04T23:05:53.519329Z"
    },
    "papermill": {
     "duration": 0.031555,
     "end_time": "2021-04-04T23:05:53.520163",
     "exception": false,
     "start_time": "2021-04-04T23:05:53.488608",
     "status": "completed"
    },
    "tags": []
   },
   "outputs": [],
   "source": [
    "y_test = y_test.replace([0, 1], [1, -1])"
   ]
  },
  {
   "cell_type": "code",
   "execution_count": 27,
   "id": "d68a9204",
   "metadata": {
    "execution": {
     "iopub.execute_input": "2021-04-04T23:05:53.577451Z",
     "iopub.status.busy": "2021-04-04T23:05:53.576732Z",
     "iopub.status.idle": "2021-04-04T23:05:53.580193Z",
     "shell.execute_reply": "2021-04-04T23:05:53.579392Z"
    },
    "papermill": {
     "duration": 0.035188,
     "end_time": "2021-04-04T23:05:53.580355",
     "exception": false,
     "start_time": "2021-04-04T23:05:53.545167",
     "status": "completed"
    },
    "tags": []
   },
   "outputs": [],
   "source": [
    "def evaluate(truths, predictions, pos_label, neg_label):\n",
    "    TP = 0\n",
    "    FP = 0\n",
    "    TN = 0\n",
    "    FN = 0\n",
    "\n",
    "    for truth, pred in zip(truths, predictions): \n",
    "        if truth == pred == pos_label:\n",
    "           TP += 1\n",
    "        elif pred == pos_label and truth == neg_label:\n",
    "           FP += 1\n",
    "        elif truth == pred == neg_label:\n",
    "           TN += 1\n",
    "        elif pred == neg_label and truth == pos_label:\n",
    "           FN += 1\n",
    "\n",
    "    precision = TP / (TP + FP)\n",
    "    sensitivity = TP / (TP + FN)\n",
    "    \n",
    "    return {\n",
    "        'true_pos': TP,\n",
    "        'false_pos': FP,\n",
    "        'false_neg': FN,\n",
    "        'true_neg': TN,\n",
    "        'precision': precision,\n",
    "        'sensitivity': sensitivity,\n",
    "        'f1': (2 * (precision * sensitivity)) / (precision + sensitivity)\n",
    "    }\n",
    "\n",
    "score = evaluate(y_test, predictions, pos_label=-1, neg_label=1)"
   ]
  },
  {
   "cell_type": "markdown",
   "id": "93596516",
   "metadata": {
    "papermill": {
     "duration": 0.022926,
     "end_time": "2021-04-04T23:05:53.628443",
     "exception": false,
     "start_time": "2021-04-04T23:05:53.605517",
     "status": "completed"
    },
    "tags": []
   },
   "source": [
    "# Report"
   ]
  },
  {
   "cell_type": "code",
   "execution_count": 28,
   "id": "bea5fba1",
   "metadata": {
    "execution": {
     "iopub.execute_input": "2021-04-04T23:05:53.681911Z",
     "iopub.status.busy": "2021-04-04T23:05:53.681312Z",
     "iopub.status.idle": "2021-04-04T23:05:53.684043Z",
     "shell.execute_reply": "2021-04-04T23:05:53.684842Z"
    },
    "papermill": {
     "duration": 0.033518,
     "end_time": "2021-04-04T23:05:53.685066",
     "exception": false,
     "start_time": "2021-04-04T23:05:53.651548",
     "status": "completed"
    },
    "tags": []
   },
   "outputs": [],
   "source": [
    "import csv\n",
    "\n",
    "\n",
    "dataset_config_name = DATASET_CONFIG_PATH.split('/')[-1].split('.')[0]\n",
    "model_config_name = MODEL_CONFIG_PATH.split('/')[-1].split('.')[0]\n",
    "configuration = f\"dataset_{dataset_config_name}-model_{model_config_name}\"\n",
    "\n",
    "with open('results.csv', 'a') as f:\n",
    "    report = dict({'configuration': configuration}, **score)\n",
    "    writer = csv.DictWriter(f, report.keys())\n",
    "    writer.writerow(report)"
   ]
  }
 ],
 "metadata": {
  "celltoolbar": "Tags",
  "kernelspec": {
   "display_name": "Python 3",
   "language": "python",
   "name": "python3"
  },
  "language_info": {
   "codemirror_mode": {
    "name": "ipython",
    "version": 3
   },
   "file_extension": ".py",
   "mimetype": "text/x-python",
   "name": "python",
   "nbconvert_exporter": "python",
   "pygments_lexer": "ipython3",
   "version": "3.9.1"
  },
  "papermill": {
   "default_parameters": {},
   "duration": 6.046787,
   "end_time": "2021-04-04T23:05:55.087865",
   "environment_variables": {},
   "exception": null,
   "input_path": "main.ipynb",
   "output_path": "runs/dataset_000082-model_000002.ipynb",
   "parameters": {
    "DATASET_CONFIG_PATH": "config/dataset/000082.json",
    "MODEL_CONFIG_PATH": "config/model/000002.json",
    "PROFILE_REPORTING": false
   },
   "start_time": "2021-04-04T23:05:49.041078",
   "version": "2.3.3"
  }
 },
 "nbformat": 4,
 "nbformat_minor": 5
}