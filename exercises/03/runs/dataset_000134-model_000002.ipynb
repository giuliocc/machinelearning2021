{
 "cells": [
  {
   "cell_type": "markdown",
   "id": "51c71c25",
   "metadata": {
    "papermill": {
     "duration": 0.022515,
     "end_time": "2021-04-04T23:26:45.576724",
     "exception": false,
     "start_time": "2021-04-04T23:26:45.554209",
     "status": "completed"
    },
    "tags": []
   },
   "source": [
    "# Parametrizing"
   ]
  },
  {
   "cell_type": "code",
   "execution_count": 1,
   "id": "3b136394",
   "metadata": {
    "execution": {
     "iopub.execute_input": "2021-04-04T23:26:45.632563Z",
     "iopub.status.busy": "2021-04-04T23:26:45.631643Z",
     "iopub.status.idle": "2021-04-04T23:26:45.636139Z",
     "shell.execute_reply": "2021-04-04T23:26:45.635137Z"
    },
    "papermill": {
     "duration": 0.039319,
     "end_time": "2021-04-04T23:26:45.636335",
     "exception": false,
     "start_time": "2021-04-04T23:26:45.597016",
     "status": "completed"
    },
    "tags": [
     "parameters"
    ]
   },
   "outputs": [],
   "source": [
    "DATASET_CONFIG_PATH = 'config/dataset/kc1_001.json'\n",
    "MODEL_CONFIG_PATH = 'config/model/knndd_001.json'\n",
    "PROFILE_REPORTING = False"
   ]
  },
  {
   "cell_type": "code",
   "execution_count": 2,
   "id": "80e2ba31",
   "metadata": {
    "execution": {
     "iopub.execute_input": "2021-04-04T23:26:45.682400Z",
     "iopub.status.busy": "2021-04-04T23:26:45.681813Z",
     "iopub.status.idle": "2021-04-04T23:26:45.683686Z",
     "shell.execute_reply": "2021-04-04T23:26:45.684159Z"
    },
    "papermill": {
     "duration": 0.026682,
     "end_time": "2021-04-04T23:26:45.684299",
     "exception": false,
     "start_time": "2021-04-04T23:26:45.657617",
     "status": "completed"
    },
    "tags": [
     "injected-parameters"
    ]
   },
   "outputs": [],
   "source": [
    "# Parameters\n",
    "DATASET_CONFIG_PATH = \"config/dataset/000134.json\"\n",
    "MODEL_CONFIG_PATH = \"config/model/000002.json\"\n",
    "PROFILE_REPORTING = False\n"
   ]
  },
  {
   "cell_type": "code",
   "execution_count": 3,
   "id": "b80f2a10",
   "metadata": {
    "execution": {
     "iopub.execute_input": "2021-04-04T23:26:45.736850Z",
     "iopub.status.busy": "2021-04-04T23:26:45.735846Z",
     "iopub.status.idle": "2021-04-04T23:26:45.740347Z",
     "shell.execute_reply": "2021-04-04T23:26:45.742093Z"
    },
    "papermill": {
     "duration": 0.036044,
     "end_time": "2021-04-04T23:26:45.742448",
     "exception": false,
     "start_time": "2021-04-04T23:26:45.706404",
     "status": "completed"
    },
    "tags": []
   },
   "outputs": [],
   "source": [
    "import json\n",
    "\n",
    "\n",
    "with open(DATASET_CONFIG_PATH) as f:\n",
    "    dataset_config = json.load(f)\n",
    "\n",
    "with open(MODEL_CONFIG_PATH) as f:\n",
    "    model_config = json.load(f)"
   ]
  },
  {
   "cell_type": "markdown",
   "id": "9a4b0e2d",
   "metadata": {
    "papermill": {
     "duration": 0.042234,
     "end_time": "2021-04-04T23:26:45.814114",
     "exception": false,
     "start_time": "2021-04-04T23:26:45.771880",
     "status": "completed"
    },
    "tags": []
   },
   "source": [
    "# Profiling"
   ]
  },
  {
   "cell_type": "code",
   "execution_count": 4,
   "id": "a3e0289b",
   "metadata": {
    "execution": {
     "iopub.execute_input": "2021-04-04T23:26:45.973523Z",
     "iopub.status.busy": "2021-04-04T23:26:45.971899Z",
     "iopub.status.idle": "2021-04-04T23:26:47.774402Z",
     "shell.execute_reply": "2021-04-04T23:26:47.773689Z"
    },
    "papermill": {
     "duration": 1.888013,
     "end_time": "2021-04-04T23:26:47.774538",
     "exception": false,
     "start_time": "2021-04-04T23:26:45.886525",
     "status": "completed"
    },
    "tags": []
   },
   "outputs": [],
   "source": [
    "import pandas as pd\n",
    "from pandas_profiling import ProfileReport"
   ]
  },
  {
   "cell_type": "code",
   "execution_count": 5,
   "id": "ee6c0666",
   "metadata": {
    "execution": {
     "iopub.execute_input": "2021-04-04T23:26:47.839028Z",
     "iopub.status.busy": "2021-04-04T23:26:47.837320Z",
     "iopub.status.idle": "2021-04-04T23:26:47.853002Z",
     "shell.execute_reply": "2021-04-04T23:26:47.857584Z"
    },
    "papermill": {
     "duration": 0.060892,
     "end_time": "2021-04-04T23:26:47.858408",
     "exception": false,
     "start_time": "2021-04-04T23:26:47.797516",
     "status": "completed"
    },
    "tags": []
   },
   "outputs": [],
   "source": [
    "df = pd.read_csv(dataset_config['dataset_path'])"
   ]
  },
  {
   "cell_type": "code",
   "execution_count": 6,
   "id": "7eca6c4a",
   "metadata": {
    "execution": {
     "iopub.execute_input": "2021-04-04T23:26:47.999762Z",
     "iopub.status.busy": "2021-04-04T23:26:47.998121Z",
     "iopub.status.idle": "2021-04-04T23:26:48.035298Z",
     "shell.execute_reply": "2021-04-04T23:26:48.036140Z"
    },
    "papermill": {
     "duration": 0.122251,
     "end_time": "2021-04-04T23:26:48.036418",
     "exception": false,
     "start_time": "2021-04-04T23:26:47.914167",
     "status": "completed"
    },
    "tags": []
   },
   "outputs": [
    {
     "name": "stdout",
     "output_type": "stream",
     "text": [
      "<class 'pandas.core.frame.DataFrame'>\n",
      "RangeIndex: 498 entries, 0 to 497\n",
      "Data columns (total 23 columns):\n",
      " #   Column             Non-Null Count  Dtype  \n",
      "---  ------             --------------  -----  \n",
      " 0   id                 498 non-null    int64  \n",
      " 1   loc                498 non-null    float64\n",
      " 2   v(g)               498 non-null    float64\n",
      " 3   ev(g)              498 non-null    float64\n",
      " 4   iv(g)              498 non-null    float64\n",
      " 5   n                  498 non-null    float64\n",
      " 6   v                  498 non-null    float64\n",
      " 7   l                  498 non-null    float64\n",
      " 8   d                  498 non-null    float64\n",
      " 9   i                  498 non-null    float64\n",
      " 10  e                  498 non-null    float64\n",
      " 11  b                  498 non-null    float64\n",
      " 12  t                  498 non-null    float64\n",
      " 13  lOCode             498 non-null    int64  \n",
      " 14  lOComment          498 non-null    int64  \n",
      " 15  lOBlank            498 non-null    int64  \n",
      " 16  locCodeAndComment  498 non-null    int64  \n",
      " 17  uniq_Op            498 non-null    float64\n",
      " 18  uniq_Opnd          498 non-null    float64\n",
      " 19  total_Op           498 non-null    float64\n",
      " 20  total_Opnd         498 non-null    float64\n",
      " 21  branchCount        498 non-null    float64\n",
      " 22  defects            498 non-null    bool   \n",
      "dtypes: bool(1), float64(17), int64(5)\n",
      "memory usage: 86.2 KB\n"
     ]
    }
   ],
   "source": [
    "df.info()"
   ]
  },
  {
   "cell_type": "code",
   "execution_count": 7,
   "id": "3638e5e8",
   "metadata": {
    "execution": {
     "iopub.execute_input": "2021-04-04T23:26:48.114112Z",
     "iopub.status.busy": "2021-04-04T23:26:48.113357Z",
     "iopub.status.idle": "2021-04-04T23:26:48.151012Z",
     "shell.execute_reply": "2021-04-04T23:26:48.149782Z"
    },
    "papermill": {
     "duration": 0.075404,
     "end_time": "2021-04-04T23:26:48.151322",
     "exception": false,
     "start_time": "2021-04-04T23:26:48.075918",
     "status": "completed"
    },
    "tags": []
   },
   "outputs": [
    {
     "data": {
      "text/html": [
       "<div>\n",
       "<style scoped>\n",
       "    .dataframe tbody tr th:only-of-type {\n",
       "        vertical-align: middle;\n",
       "    }\n",
       "\n",
       "    .dataframe tbody tr th {\n",
       "        vertical-align: top;\n",
       "    }\n",
       "\n",
       "    .dataframe thead th {\n",
       "        text-align: right;\n",
       "    }\n",
       "</style>\n",
       "<table border=\"1\" class=\"dataframe\">\n",
       "  <thead>\n",
       "    <tr style=\"text-align: right;\">\n",
       "      <th></th>\n",
       "      <th>id</th>\n",
       "      <th>loc</th>\n",
       "      <th>v(g)</th>\n",
       "      <th>ev(g)</th>\n",
       "      <th>iv(g)</th>\n",
       "      <th>n</th>\n",
       "      <th>v</th>\n",
       "      <th>l</th>\n",
       "      <th>d</th>\n",
       "      <th>i</th>\n",
       "      <th>...</th>\n",
       "      <th>lOCode</th>\n",
       "      <th>lOComment</th>\n",
       "      <th>lOBlank</th>\n",
       "      <th>locCodeAndComment</th>\n",
       "      <th>uniq_Op</th>\n",
       "      <th>uniq_Opnd</th>\n",
       "      <th>total_Op</th>\n",
       "      <th>total_Opnd</th>\n",
       "      <th>branchCount</th>\n",
       "      <th>defects</th>\n",
       "    </tr>\n",
       "  </thead>\n",
       "  <tbody>\n",
       "    <tr>\n",
       "      <th>0</th>\n",
       "      <td>1</td>\n",
       "      <td>1.1</td>\n",
       "      <td>1.4</td>\n",
       "      <td>1.4</td>\n",
       "      <td>1.4</td>\n",
       "      <td>1.3</td>\n",
       "      <td>1.30</td>\n",
       "      <td>1.30</td>\n",
       "      <td>1.30</td>\n",
       "      <td>1.30</td>\n",
       "      <td>...</td>\n",
       "      <td>2</td>\n",
       "      <td>2</td>\n",
       "      <td>2</td>\n",
       "      <td>2</td>\n",
       "      <td>1.2</td>\n",
       "      <td>1.2</td>\n",
       "      <td>1.2</td>\n",
       "      <td>1.2</td>\n",
       "      <td>1.4</td>\n",
       "      <td>False</td>\n",
       "    </tr>\n",
       "    <tr>\n",
       "      <th>1</th>\n",
       "      <td>2</td>\n",
       "      <td>1.0</td>\n",
       "      <td>1.0</td>\n",
       "      <td>1.0</td>\n",
       "      <td>1.0</td>\n",
       "      <td>1.0</td>\n",
       "      <td>1.00</td>\n",
       "      <td>1.00</td>\n",
       "      <td>1.00</td>\n",
       "      <td>1.00</td>\n",
       "      <td>...</td>\n",
       "      <td>1</td>\n",
       "      <td>1</td>\n",
       "      <td>1</td>\n",
       "      <td>1</td>\n",
       "      <td>1.0</td>\n",
       "      <td>1.0</td>\n",
       "      <td>1.0</td>\n",
       "      <td>1.0</td>\n",
       "      <td>1.0</td>\n",
       "      <td>True</td>\n",
       "    </tr>\n",
       "    <tr>\n",
       "      <th>2</th>\n",
       "      <td>3</td>\n",
       "      <td>24.0</td>\n",
       "      <td>5.0</td>\n",
       "      <td>1.0</td>\n",
       "      <td>3.0</td>\n",
       "      <td>63.0</td>\n",
       "      <td>309.13</td>\n",
       "      <td>0.11</td>\n",
       "      <td>9.50</td>\n",
       "      <td>32.54</td>\n",
       "      <td>...</td>\n",
       "      <td>1</td>\n",
       "      <td>0</td>\n",
       "      <td>6</td>\n",
       "      <td>0</td>\n",
       "      <td>15.0</td>\n",
       "      <td>15.0</td>\n",
       "      <td>44.0</td>\n",
       "      <td>19.0</td>\n",
       "      <td>9.0</td>\n",
       "      <td>False</td>\n",
       "    </tr>\n",
       "    <tr>\n",
       "      <th>3</th>\n",
       "      <td>4</td>\n",
       "      <td>20.0</td>\n",
       "      <td>4.0</td>\n",
       "      <td>4.0</td>\n",
       "      <td>2.0</td>\n",
       "      <td>47.0</td>\n",
       "      <td>215.49</td>\n",
       "      <td>0.06</td>\n",
       "      <td>16.00</td>\n",
       "      <td>13.47</td>\n",
       "      <td>...</td>\n",
       "      <td>0</td>\n",
       "      <td>0</td>\n",
       "      <td>3</td>\n",
       "      <td>0</td>\n",
       "      <td>16.0</td>\n",
       "      <td>8.0</td>\n",
       "      <td>31.0</td>\n",
       "      <td>16.0</td>\n",
       "      <td>7.0</td>\n",
       "      <td>False</td>\n",
       "    </tr>\n",
       "    <tr>\n",
       "      <th>4</th>\n",
       "      <td>5</td>\n",
       "      <td>24.0</td>\n",
       "      <td>6.0</td>\n",
       "      <td>6.0</td>\n",
       "      <td>2.0</td>\n",
       "      <td>72.0</td>\n",
       "      <td>346.13</td>\n",
       "      <td>0.06</td>\n",
       "      <td>17.33</td>\n",
       "      <td>19.97</td>\n",
       "      <td>...</td>\n",
       "      <td>0</td>\n",
       "      <td>0</td>\n",
       "      <td>3</td>\n",
       "      <td>0</td>\n",
       "      <td>16.0</td>\n",
       "      <td>12.0</td>\n",
       "      <td>46.0</td>\n",
       "      <td>26.0</td>\n",
       "      <td>11.0</td>\n",
       "      <td>False</td>\n",
       "    </tr>\n",
       "  </tbody>\n",
       "</table>\n",
       "<p>5 rows × 23 columns</p>\n",
       "</div>"
      ],
      "text/plain": [
       "   id   loc  v(g)  ev(g)  iv(g)     n       v     l      d      i  ...  \\\n",
       "0   1   1.1   1.4    1.4    1.4   1.3    1.30  1.30   1.30   1.30  ...   \n",
       "1   2   1.0   1.0    1.0    1.0   1.0    1.00  1.00   1.00   1.00  ...   \n",
       "2   3  24.0   5.0    1.0    3.0  63.0  309.13  0.11   9.50  32.54  ...   \n",
       "3   4  20.0   4.0    4.0    2.0  47.0  215.49  0.06  16.00  13.47  ...   \n",
       "4   5  24.0   6.0    6.0    2.0  72.0  346.13  0.06  17.33  19.97  ...   \n",
       "\n",
       "   lOCode  lOComment  lOBlank  locCodeAndComment  uniq_Op  uniq_Opnd  \\\n",
       "0       2          2        2                  2      1.2        1.2   \n",
       "1       1          1        1                  1      1.0        1.0   \n",
       "2       1          0        6                  0     15.0       15.0   \n",
       "3       0          0        3                  0     16.0        8.0   \n",
       "4       0          0        3                  0     16.0       12.0   \n",
       "\n",
       "   total_Op  total_Opnd  branchCount  defects  \n",
       "0       1.2         1.2          1.4    False  \n",
       "1       1.0         1.0          1.0     True  \n",
       "2      44.0        19.0          9.0    False  \n",
       "3      31.0        16.0          7.0    False  \n",
       "4      46.0        26.0         11.0    False  \n",
       "\n",
       "[5 rows x 23 columns]"
      ]
     },
     "execution_count": 7,
     "metadata": {},
     "output_type": "execute_result"
    }
   ],
   "source": [
    "df.head()"
   ]
  },
  {
   "cell_type": "code",
   "execution_count": 8,
   "id": "733e95eb",
   "metadata": {
    "execution": {
     "iopub.execute_input": "2021-04-04T23:26:48.213132Z",
     "iopub.status.busy": "2021-04-04T23:26:48.211741Z",
     "iopub.status.idle": "2021-04-04T23:26:48.217424Z",
     "shell.execute_reply": "2021-04-04T23:26:48.216096Z"
    },
    "papermill": {
     "duration": 0.040468,
     "end_time": "2021-04-04T23:26:48.217745",
     "exception": false,
     "start_time": "2021-04-04T23:26:48.177277",
     "status": "completed"
    },
    "tags": []
   },
   "outputs": [],
   "source": [
    "del df['id']"
   ]
  },
  {
   "cell_type": "code",
   "execution_count": 9,
   "id": "6ff6f5b0",
   "metadata": {
    "execution": {
     "iopub.execute_input": "2021-04-04T23:26:48.269415Z",
     "iopub.status.busy": "2021-04-04T23:26:48.268147Z",
     "iopub.status.idle": "2021-04-04T23:26:48.274461Z",
     "shell.execute_reply": "2021-04-04T23:26:48.273207Z"
    },
    "papermill": {
     "duration": 0.033662,
     "end_time": "2021-04-04T23:26:48.274648",
     "exception": false,
     "start_time": "2021-04-04T23:26:48.240986",
     "status": "completed"
    },
    "tags": []
   },
   "outputs": [],
   "source": [
    "if PROFILE_REPORTING:\n",
    "    ProfileReport(df).to_widgets()"
   ]
  },
  {
   "cell_type": "markdown",
   "id": "1deaf3f0",
   "metadata": {
    "papermill": {
     "duration": 0.031395,
     "end_time": "2021-04-04T23:26:48.328067",
     "exception": false,
     "start_time": "2021-04-04T23:26:48.296672",
     "status": "completed"
    },
    "tags": []
   },
   "source": [
    "# Preprocess"
   ]
  },
  {
   "cell_type": "code",
   "execution_count": 10,
   "id": "1513e563",
   "metadata": {
    "execution": {
     "iopub.execute_input": "2021-04-04T23:26:48.423085Z",
     "iopub.status.busy": "2021-04-04T23:26:48.420435Z",
     "iopub.status.idle": "2021-04-04T23:26:48.432880Z",
     "shell.execute_reply": "2021-04-04T23:26:48.425720Z"
    },
    "papermill": {
     "duration": 0.071615,
     "end_time": "2021-04-04T23:26:48.433243",
     "exception": false,
     "start_time": "2021-04-04T23:26:48.361628",
     "status": "completed"
    },
    "tags": []
   },
   "outputs": [],
   "source": [
    "working_df = df.copy()"
   ]
  },
  {
   "cell_type": "code",
   "execution_count": 11,
   "id": "3b26d675",
   "metadata": {
    "execution": {
     "iopub.execute_input": "2021-04-04T23:26:48.601543Z",
     "iopub.status.busy": "2021-04-04T23:26:48.599539Z",
     "iopub.status.idle": "2021-04-04T23:26:48.611756Z",
     "shell.execute_reply": "2021-04-04T23:26:48.612822Z"
    },
    "papermill": {
     "duration": 0.098382,
     "end_time": "2021-04-04T23:26:48.613345",
     "exception": false,
     "start_time": "2021-04-04T23:26:48.514963",
     "status": "completed"
    },
    "tags": []
   },
   "outputs": [],
   "source": [
    "working_df['defects'] = working_df['defects'].replace([False, True], [0, 1])"
   ]
  },
  {
   "cell_type": "code",
   "execution_count": 12,
   "id": "eb48604f",
   "metadata": {
    "execution": {
     "iopub.execute_input": "2021-04-04T23:26:48.714816Z",
     "iopub.status.busy": "2021-04-04T23:26:48.712268Z",
     "iopub.status.idle": "2021-04-04T23:26:48.717737Z",
     "shell.execute_reply": "2021-04-04T23:26:48.716297Z"
    },
    "papermill": {
     "duration": 0.045937,
     "end_time": "2021-04-04T23:26:48.718206",
     "exception": false,
     "start_time": "2021-04-04T23:26:48.672269",
     "status": "completed"
    },
    "tags": []
   },
   "outputs": [],
   "source": [
    "for col in dataset_config['delete_columns']:\n",
    "    del working_df[col]"
   ]
  },
  {
   "cell_type": "code",
   "execution_count": 13,
   "id": "9a17bc29",
   "metadata": {
    "execution": {
     "iopub.execute_input": "2021-04-04T23:26:48.783342Z",
     "iopub.status.busy": "2021-04-04T23:26:48.782482Z",
     "iopub.status.idle": "2021-04-04T23:26:48.791966Z",
     "shell.execute_reply": "2021-04-04T23:26:48.792500Z"
    },
    "papermill": {
     "duration": 0.046064,
     "end_time": "2021-04-04T23:26:48.792672",
     "exception": false,
     "start_time": "2021-04-04T23:26:48.746608",
     "status": "completed"
    },
    "tags": []
   },
   "outputs": [],
   "source": [
    "working_df = working_df.drop_duplicates()"
   ]
  },
  {
   "cell_type": "markdown",
   "id": "a4d52ca6",
   "metadata": {
    "papermill": {
     "duration": 0.021444,
     "end_time": "2021-04-04T23:26:48.838871",
     "exception": false,
     "start_time": "2021-04-04T23:26:48.817427",
     "status": "completed"
    },
    "tags": []
   },
   "source": [
    "# Split"
   ]
  },
  {
   "cell_type": "code",
   "execution_count": 14,
   "id": "3e9ee4b5",
   "metadata": {
    "execution": {
     "iopub.execute_input": "2021-04-04T23:26:48.901376Z",
     "iopub.status.busy": "2021-04-04T23:26:48.899676Z",
     "iopub.status.idle": "2021-04-04T23:26:48.935840Z",
     "shell.execute_reply": "2021-04-04T23:26:48.936300Z"
    },
    "papermill": {
     "duration": 0.072597,
     "end_time": "2021-04-04T23:26:48.936453",
     "exception": false,
     "start_time": "2021-04-04T23:26:48.863856",
     "status": "completed"
    },
    "tags": []
   },
   "outputs": [],
   "source": [
    "from sklearn.model_selection import train_test_split"
   ]
  },
  {
   "cell_type": "code",
   "execution_count": 15,
   "id": "274004ce",
   "metadata": {
    "execution": {
     "iopub.execute_input": "2021-04-04T23:26:48.989553Z",
     "iopub.status.busy": "2021-04-04T23:26:48.988482Z",
     "iopub.status.idle": "2021-04-04T23:26:48.993978Z",
     "shell.execute_reply": "2021-04-04T23:26:48.994581Z"
    },
    "papermill": {
     "duration": 0.03287,
     "end_time": "2021-04-04T23:26:48.994746",
     "exception": false,
     "start_time": "2021-04-04T23:26:48.961876",
     "status": "completed"
    },
    "scrolled": true,
    "tags": []
   },
   "outputs": [],
   "source": [
    "inlier, outlier = working_df[working_df['defects'] == 0], working_df[working_df['defects'] == 1]"
   ]
  },
  {
   "cell_type": "code",
   "execution_count": 16,
   "id": "753c7b03",
   "metadata": {
    "execution": {
     "iopub.execute_input": "2021-04-04T23:26:49.057910Z",
     "iopub.status.busy": "2021-04-04T23:26:49.057080Z",
     "iopub.status.idle": "2021-04-04T23:26:49.059047Z",
     "shell.execute_reply": "2021-04-04T23:26:49.059515Z"
    },
    "papermill": {
     "duration": 0.03618,
     "end_time": "2021-04-04T23:26:49.059660",
     "exception": false,
     "start_time": "2021-04-04T23:26:49.023480",
     "status": "completed"
    },
    "tags": []
   },
   "outputs": [],
   "source": [
    "X_inlier = inlier.copy()\n",
    "y_inlier = X_inlier.pop('defects')\n",
    "X_outlier = outlier.copy()\n",
    "y_outlier = X_outlier.pop('defects')"
   ]
  },
  {
   "cell_type": "code",
   "execution_count": 17,
   "id": "2ba43193",
   "metadata": {
    "execution": {
     "iopub.execute_input": "2021-04-04T23:26:49.113473Z",
     "iopub.status.busy": "2021-04-04T23:26:49.112884Z",
     "iopub.status.idle": "2021-04-04T23:26:49.116151Z",
     "shell.execute_reply": "2021-04-04T23:26:49.116657Z"
    },
    "papermill": {
     "duration": 0.03301,
     "end_time": "2021-04-04T23:26:49.116829",
     "exception": false,
     "start_time": "2021-04-04T23:26:49.083819",
     "status": "completed"
    },
    "tags": []
   },
   "outputs": [],
   "source": [
    "test_size = dataset_config['test_size']\n",
    "random_state = dataset_config['random_state']\n",
    "\n",
    "X_inlier_train, X_inlier_test, y_inlier_train, y_inlier_test = train_test_split(\n",
    "    X_inlier,\n",
    "    y_inlier,\n",
    "    test_size=test_size,\n",
    "    random_state=random_state\n",
    ")"
   ]
  },
  {
   "cell_type": "code",
   "execution_count": 18,
   "id": "0b7582ca",
   "metadata": {
    "execution": {
     "iopub.execute_input": "2021-04-04T23:26:49.215088Z",
     "iopub.status.busy": "2021-04-04T23:26:49.205518Z",
     "iopub.status.idle": "2021-04-04T23:26:49.245766Z",
     "shell.execute_reply": "2021-04-04T23:26:49.246805Z"
    },
    "papermill": {
     "duration": 0.100539,
     "end_time": "2021-04-04T23:26:49.247101",
     "exception": false,
     "start_time": "2021-04-04T23:26:49.146562",
     "status": "completed"
    },
    "tags": []
   },
   "outputs": [],
   "source": [
    "test_outlier_size = dataset_config['test_outlier_size']\n",
    "if test_outlier_size > 0.0:\n",
    "    X_outlier_train, X_outlier_test, y_outlier_train, y_outlier_test = train_test_split(\n",
    "        X_outlier,\n",
    "        y_outlier,\n",
    "        test_size=test_outlier_size,\n",
    "        random_state=random_state\n",
    "    )\n",
    "else:\n",
    "    X_outlier_train, y_outlier_train = pd.DataFrame(columns=X_outlier.columns), pd.Series(dtype='int64')\n",
    "    X_outlier_test, y_outlier_test = X_outlier.copy(), y_outlier.copy()"
   ]
  },
  {
   "cell_type": "code",
   "execution_count": 19,
   "id": "c34363db",
   "metadata": {
    "execution": {
     "iopub.execute_input": "2021-04-04T23:26:49.412232Z",
     "iopub.status.busy": "2021-04-04T23:26:49.402489Z",
     "iopub.status.idle": "2021-04-04T23:26:49.420347Z",
     "shell.execute_reply": "2021-04-04T23:26:49.421485Z"
    },
    "papermill": {
     "duration": 0.095965,
     "end_time": "2021-04-04T23:26:49.421916",
     "exception": false,
     "start_time": "2021-04-04T23:26:49.325951",
     "status": "completed"
    },
    "tags": []
   },
   "outputs": [],
   "source": [
    "X_train, y_train = pd.concat([X_inlier_train, X_outlier_train], ignore_index=True), pd.concat([y_inlier_train, y_outlier_train], ignore_index=True)\n",
    "X_test, y_test = pd.concat([X_inlier_test, X_outlier_test], ignore_index=True), pd.concat([y_inlier_test, y_outlier_test], ignore_index=True)"
   ]
  },
  {
   "cell_type": "markdown",
   "id": "7cde7309",
   "metadata": {
    "papermill": {
     "duration": 0.065066,
     "end_time": "2021-04-04T23:26:49.558482",
     "exception": false,
     "start_time": "2021-04-04T23:26:49.493416",
     "status": "completed"
    },
    "tags": []
   },
   "source": [
    "# Model"
   ]
  },
  {
   "cell_type": "code",
   "execution_count": 20,
   "id": "2b12a415",
   "metadata": {
    "execution": {
     "iopub.execute_input": "2021-04-04T23:26:49.637609Z",
     "iopub.status.busy": "2021-04-04T23:26:49.636525Z",
     "iopub.status.idle": "2021-04-04T23:26:49.639198Z",
     "shell.execute_reply": "2021-04-04T23:26:49.638663Z"
    },
    "papermill": {
     "duration": 0.048437,
     "end_time": "2021-04-04T23:26:49.639316",
     "exception": false,
     "start_time": "2021-04-04T23:26:49.590879",
     "status": "completed"
    },
    "tags": []
   },
   "outputs": [],
   "source": [
    "from math import sqrt\n",
    "\n",
    "\n",
    "class KNNDataDescription:\n",
    "    def __init__(self, k=5, outlier_threshold=1.0):\n",
    "        self.k = k\n",
    "        self.outlier_threshold = outlier_threshold\n",
    "        self.X = []\n",
    "    \n",
    "    def fit(self, X):\n",
    "        self.X = [features.to_list() for index, features in X.iterrows()]\n",
    "\n",
    "    def predict(self, entries):\n",
    "        return [self.predict_entry(features.to_list()) for index, features in entries.iterrows()]\n",
    "    \n",
    "    def predict_entry(self, entry):\n",
    "        kth_neighbor, kth_distance = self.get_kth_neighbor(entry, self.k)\n",
    "        kth_kth_neighbor, kth_kth_distance = self.get_kth_neighbor(kth_neighbor, self.k + 1)\n",
    "\n",
    "        outlier_score = kth_distance / (kth_kth_distance + 0.000001)\n",
    "\n",
    "        return 1 if outlier_score < self.outlier_threshold else -1\n",
    "        \n",
    "    def euclidean_distance(self, features1, features2):\n",
    "        distance = 0.0\n",
    "        for feat1, feat2 in zip(features1, features2):\n",
    "            distance += (feat1 - feat2)**2\n",
    "                \n",
    "        return sqrt(distance)\n",
    "\n",
    "    def get_neighbors(self, entry, k):\n",
    "        distance_to_data_points = [\n",
    "            (data_point, self.euclidean_distance(entry, data_point))\n",
    "            for data_point in self.X\n",
    "        ]\n",
    "        sorted_by_distance = sorted(distance_to_data_points, key=lambda tup: tup[1])\n",
    "        neighbors = sorted_by_distance[:k]\n",
    "        return neighbors\n",
    "\n",
    "    def get_kth_neighbor(self, entry, k):\n",
    "        neighbors = self.get_neighbors(entry, k)\n",
    "        return neighbors[-1]\n"
   ]
  },
  {
   "cell_type": "code",
   "execution_count": 21,
   "id": "1fa9ec1c",
   "metadata": {
    "execution": {
     "iopub.execute_input": "2021-04-04T23:26:49.701264Z",
     "iopub.status.busy": "2021-04-04T23:26:49.700424Z",
     "iopub.status.idle": "2021-04-04T23:26:49.728272Z",
     "shell.execute_reply": "2021-04-04T23:26:49.727664Z"
    },
    "papermill": {
     "duration": 0.065078,
     "end_time": "2021-04-04T23:26:49.728419",
     "exception": false,
     "start_time": "2021-04-04T23:26:49.663341",
     "status": "completed"
    },
    "tags": []
   },
   "outputs": [],
   "source": [
    "from sklearn.svm import OneClassSVM\n",
    "\n",
    "\n",
    "models = {\n",
    "    'oneclasssvm': OneClassSVM,\n",
    "    'knndatadescription': KNNDataDescription,\n",
    "}"
   ]
  },
  {
   "cell_type": "code",
   "execution_count": 22,
   "id": "4d72a0b1",
   "metadata": {
    "execution": {
     "iopub.execute_input": "2021-04-04T23:26:49.784915Z",
     "iopub.status.busy": "2021-04-04T23:26:49.784361Z",
     "iopub.status.idle": "2021-04-04T23:26:49.788241Z",
     "shell.execute_reply": "2021-04-04T23:26:49.787648Z"
    },
    "papermill": {
     "duration": 0.033773,
     "end_time": "2021-04-04T23:26:49.788359",
     "exception": false,
     "start_time": "2021-04-04T23:26:49.754586",
     "status": "completed"
    },
    "scrolled": true,
    "tags": []
   },
   "outputs": [],
   "source": [
    "model_cls = models[model_config['model_type']]\n",
    "model = model_cls(**model_config['hyperparameters'])"
   ]
  },
  {
   "cell_type": "markdown",
   "id": "e00cff3b",
   "metadata": {
    "papermill": {
     "duration": 0.02793,
     "end_time": "2021-04-04T23:26:49.840118",
     "exception": false,
     "start_time": "2021-04-04T23:26:49.812188",
     "status": "completed"
    },
    "tags": []
   },
   "source": [
    "# Fit"
   ]
  },
  {
   "cell_type": "code",
   "execution_count": 23,
   "id": "8b2ded89",
   "metadata": {
    "execution": {
     "iopub.execute_input": "2021-04-04T23:26:49.901655Z",
     "iopub.status.busy": "2021-04-04T23:26:49.899481Z",
     "iopub.status.idle": "2021-04-04T23:26:49.933134Z",
     "shell.execute_reply": "2021-04-04T23:26:49.932492Z"
    },
    "papermill": {
     "duration": 0.068066,
     "end_time": "2021-04-04T23:26:49.933288",
     "exception": false,
     "start_time": "2021-04-04T23:26:49.865222",
     "status": "completed"
    },
    "tags": []
   },
   "outputs": [],
   "source": [
    "model.fit(X_train)"
   ]
  },
  {
   "cell_type": "markdown",
   "id": "f99999f7",
   "metadata": {
    "papermill": {
     "duration": 0.030441,
     "end_time": "2021-04-04T23:26:49.988731",
     "exception": false,
     "start_time": "2021-04-04T23:26:49.958290",
     "status": "completed"
    },
    "tags": []
   },
   "source": [
    "# Predict"
   ]
  },
  {
   "cell_type": "code",
   "execution_count": 24,
   "id": "6536fbf7",
   "metadata": {
    "execution": {
     "iopub.execute_input": "2021-04-04T23:26:50.057962Z",
     "iopub.status.busy": "2021-04-04T23:26:50.052958Z",
     "iopub.status.idle": "2021-04-04T23:26:50.382499Z",
     "shell.execute_reply": "2021-04-04T23:26:50.383409Z"
    },
    "papermill": {
     "duration": 0.369907,
     "end_time": "2021-04-04T23:26:50.383817",
     "exception": false,
     "start_time": "2021-04-04T23:26:50.013910",
     "status": "completed"
    },
    "tags": []
   },
   "outputs": [],
   "source": [
    "predictions = model.predict(X_test)"
   ]
  },
  {
   "cell_type": "markdown",
   "id": "aa1c9881",
   "metadata": {
    "papermill": {
     "duration": 0.061833,
     "end_time": "2021-04-04T23:26:50.510289",
     "exception": false,
     "start_time": "2021-04-04T23:26:50.448456",
     "status": "completed"
    },
    "tags": []
   },
   "source": [
    "# Evaluate"
   ]
  },
  {
   "cell_type": "code",
   "execution_count": 25,
   "id": "894f0f04",
   "metadata": {
    "execution": {
     "iopub.execute_input": "2021-04-04T23:26:50.777076Z",
     "iopub.status.busy": "2021-04-04T23:26:50.765849Z",
     "iopub.status.idle": "2021-04-04T23:26:50.778579Z",
     "shell.execute_reply": "2021-04-04T23:26:50.779655Z"
    },
    "papermill": {
     "duration": 0.197457,
     "end_time": "2021-04-04T23:26:50.779945",
     "exception": false,
     "start_time": "2021-04-04T23:26:50.582488",
     "status": "completed"
    },
    "tags": []
   },
   "outputs": [],
   "source": [
    "from sklearn.metrics import f1_score"
   ]
  },
  {
   "cell_type": "code",
   "execution_count": 26,
   "id": "211744d3",
   "metadata": {
    "execution": {
     "iopub.execute_input": "2021-04-04T23:26:50.904254Z",
     "iopub.status.busy": "2021-04-04T23:26:50.901258Z",
     "iopub.status.idle": "2021-04-04T23:26:50.907677Z",
     "shell.execute_reply": "2021-04-04T23:26:50.908347Z"
    },
    "papermill": {
     "duration": 0.0665,
     "end_time": "2021-04-04T23:26:50.908585",
     "exception": false,
     "start_time": "2021-04-04T23:26:50.842085",
     "status": "completed"
    },
    "tags": []
   },
   "outputs": [],
   "source": [
    "y_test = y_test.replace([0, 1], [1, -1])"
   ]
  },
  {
   "cell_type": "code",
   "execution_count": 27,
   "id": "d68a9204",
   "metadata": {
    "execution": {
     "iopub.execute_input": "2021-04-04T23:26:50.992524Z",
     "iopub.status.busy": "2021-04-04T23:26:50.991426Z",
     "iopub.status.idle": "2021-04-04T23:26:50.995623Z",
     "shell.execute_reply": "2021-04-04T23:26:50.994960Z"
    },
    "papermill": {
     "duration": 0.048646,
     "end_time": "2021-04-04T23:26:50.995761",
     "exception": false,
     "start_time": "2021-04-04T23:26:50.947115",
     "status": "completed"
    },
    "tags": []
   },
   "outputs": [],
   "source": [
    "def evaluate(truths, predictions, pos_label, neg_label):\n",
    "    TP = 0\n",
    "    FP = 0\n",
    "    TN = 0\n",
    "    FN = 0\n",
    "\n",
    "    for truth, pred in zip(truths, predictions): \n",
    "        if truth == pred == pos_label:\n",
    "           TP += 1\n",
    "        elif pred == pos_label and truth == neg_label:\n",
    "           FP += 1\n",
    "        elif truth == pred == neg_label:\n",
    "           TN += 1\n",
    "        elif pred == neg_label and truth == pos_label:\n",
    "           FN += 1\n",
    "\n",
    "    precision = TP / (TP + FP)\n",
    "    sensitivity = TP / (TP + FN)\n",
    "    \n",
    "    return {\n",
    "        'true_pos': TP,\n",
    "        'false_pos': FP,\n",
    "        'false_neg': FN,\n",
    "        'true_neg': TN,\n",
    "        'precision': precision,\n",
    "        'sensitivity': sensitivity,\n",
    "        'f1': (2 * (precision * sensitivity)) / (precision + sensitivity)\n",
    "    }\n",
    "\n",
    "score = evaluate(y_test, predictions, pos_label=-1, neg_label=1)"
   ]
  },
  {
   "cell_type": "markdown",
   "id": "93596516",
   "metadata": {
    "papermill": {
     "duration": 0.032382,
     "end_time": "2021-04-04T23:26:51.059027",
     "exception": false,
     "start_time": "2021-04-04T23:26:51.026645",
     "status": "completed"
    },
    "tags": []
   },
   "source": [
    "# Report"
   ]
  },
  {
   "cell_type": "code",
   "execution_count": 28,
   "id": "bea5fba1",
   "metadata": {
    "execution": {
     "iopub.execute_input": "2021-04-04T23:26:51.133022Z",
     "iopub.status.busy": "2021-04-04T23:26:51.132259Z",
     "iopub.status.idle": "2021-04-04T23:26:51.137036Z",
     "shell.execute_reply": "2021-04-04T23:26:51.138079Z"
    },
    "papermill": {
     "duration": 0.052879,
     "end_time": "2021-04-04T23:26:51.138278",
     "exception": false,
     "start_time": "2021-04-04T23:26:51.085399",
     "status": "completed"
    },
    "tags": []
   },
   "outputs": [],
   "source": [
    "import csv\n",
    "\n",
    "\n",
    "dataset_config_name = DATASET_CONFIG_PATH.split('/')[-1].split('.')[0]\n",
    "model_config_name = MODEL_CONFIG_PATH.split('/')[-1].split('.')[0]\n",
    "configuration = f\"dataset_{dataset_config_name}-model_{model_config_name}\"\n",
    "\n",
    "with open('results.csv', 'a') as f:\n",
    "    report = dict({'configuration': configuration}, **score)\n",
    "    writer = csv.DictWriter(f, report.keys())\n",
    "    writer.writerow(report)"
   ]
  }
 ],
 "metadata": {
  "celltoolbar": "Tags",
  "kernelspec": {
   "display_name": "Python 3",
   "language": "python",
   "name": "python3"
  },
  "language_info": {
   "codemirror_mode": {
    "name": "ipython",
    "version": 3
   },
   "file_extension": ".py",
   "mimetype": "text/x-python",
   "name": "python",
   "nbconvert_exporter": "python",
   "pygments_lexer": "ipython3",
   "version": "3.9.1"
  },
  "papermill": {
   "default_parameters": {},
   "duration": 8.078739,
   "end_time": "2021-04-04T23:26:52.596759",
   "environment_variables": {},
   "exception": null,
   "input_path": "main.ipynb",
   "output_path": "runs/dataset_000134-model_000002.ipynb",
   "parameters": {
    "DATASET_CONFIG_PATH": "config/dataset/000134.json",
    "MODEL_CONFIG_PATH": "config/model/000002.json",
    "PROFILE_REPORTING": false
   },
   "start_time": "2021-04-04T23:26:44.518020",
   "version": "2.3.3"
  }
 },
 "nbformat": 4,
 "nbformat_minor": 5
}