{
 "cells": [
  {
   "cell_type": "markdown",
   "id": "51c71c25",
   "metadata": {
    "papermill": {
     "duration": 0.031934,
     "end_time": "2021-04-04T23:36:33.083228",
     "exception": false,
     "start_time": "2021-04-04T23:36:33.051294",
     "status": "completed"
    },
    "tags": []
   },
   "source": [
    "# Parametrizing"
   ]
  },
  {
   "cell_type": "code",
   "execution_count": 1,
   "id": "3b136394",
   "metadata": {
    "execution": {
     "iopub.execute_input": "2021-04-04T23:36:33.141177Z",
     "iopub.status.busy": "2021-04-04T23:36:33.140364Z",
     "iopub.status.idle": "2021-04-04T23:36:33.144307Z",
     "shell.execute_reply": "2021-04-04T23:36:33.143492Z"
    },
    "papermill": {
     "duration": 0.039696,
     "end_time": "2021-04-04T23:36:33.144487",
     "exception": false,
     "start_time": "2021-04-04T23:36:33.104791",
     "status": "completed"
    },
    "tags": [
     "parameters"
    ]
   },
   "outputs": [],
   "source": [
    "DATASET_CONFIG_PATH = 'config/dataset/kc1_001.json'\n",
    "MODEL_CONFIG_PATH = 'config/model/knndd_001.json'\n",
    "PROFILE_REPORTING = False"
   ]
  },
  {
   "cell_type": "code",
   "execution_count": 2,
   "id": "3d57fe6d",
   "metadata": {
    "execution": {
     "iopub.execute_input": "2021-04-04T23:36:33.190830Z",
     "iopub.status.busy": "2021-04-04T23:36:33.189970Z",
     "iopub.status.idle": "2021-04-04T23:36:33.192027Z",
     "shell.execute_reply": "2021-04-04T23:36:33.192509Z"
    },
    "papermill": {
     "duration": 0.025494,
     "end_time": "2021-04-04T23:36:33.192655",
     "exception": false,
     "start_time": "2021-04-04T23:36:33.167161",
     "status": "completed"
    },
    "tags": [
     "injected-parameters"
    ]
   },
   "outputs": [],
   "source": [
    "# Parameters\n",
    "DATASET_CONFIG_PATH = \"config/dataset/000157.json\"\n",
    "MODEL_CONFIG_PATH = \"config/model/000001.json\"\n",
    "PROFILE_REPORTING = False\n"
   ]
  },
  {
   "cell_type": "code",
   "execution_count": 3,
   "id": "b80f2a10",
   "metadata": {
    "execution": {
     "iopub.execute_input": "2021-04-04T23:36:33.251610Z",
     "iopub.status.busy": "2021-04-04T23:36:33.250555Z",
     "iopub.status.idle": "2021-04-04T23:36:33.253908Z",
     "shell.execute_reply": "2021-04-04T23:36:33.254525Z"
    },
    "papermill": {
     "duration": 0.036558,
     "end_time": "2021-04-04T23:36:33.254716",
     "exception": false,
     "start_time": "2021-04-04T23:36:33.218158",
     "status": "completed"
    },
    "tags": []
   },
   "outputs": [],
   "source": [
    "import json\n",
    "\n",
    "\n",
    "with open(DATASET_CONFIG_PATH) as f:\n",
    "    dataset_config = json.load(f)\n",
    "\n",
    "with open(MODEL_CONFIG_PATH) as f:\n",
    "    model_config = json.load(f)"
   ]
  },
  {
   "cell_type": "markdown",
   "id": "9a4b0e2d",
   "metadata": {
    "papermill": {
     "duration": 0.041189,
     "end_time": "2021-04-04T23:36:33.330662",
     "exception": false,
     "start_time": "2021-04-04T23:36:33.289473",
     "status": "completed"
    },
    "tags": []
   },
   "source": [
    "# Profiling"
   ]
  },
  {
   "cell_type": "code",
   "execution_count": 4,
   "id": "a3e0289b",
   "metadata": {
    "execution": {
     "iopub.execute_input": "2021-04-04T23:36:33.408924Z",
     "iopub.status.busy": "2021-04-04T23:36:33.407824Z",
     "iopub.status.idle": "2021-04-04T23:36:34.968042Z",
     "shell.execute_reply": "2021-04-04T23:36:34.967350Z"
    },
    "papermill": {
     "duration": 1.603638,
     "end_time": "2021-04-04T23:36:34.968175",
     "exception": false,
     "start_time": "2021-04-04T23:36:33.364537",
     "status": "completed"
    },
    "tags": []
   },
   "outputs": [],
   "source": [
    "import pandas as pd\n",
    "from pandas_profiling import ProfileReport"
   ]
  },
  {
   "cell_type": "code",
   "execution_count": 5,
   "id": "ee6c0666",
   "metadata": {
    "execution": {
     "iopub.execute_input": "2021-04-04T23:36:35.028652Z",
     "iopub.status.busy": "2021-04-04T23:36:35.027489Z",
     "iopub.status.idle": "2021-04-04T23:36:35.040590Z",
     "shell.execute_reply": "2021-04-04T23:36:35.038565Z"
    },
    "papermill": {
     "duration": 0.048505,
     "end_time": "2021-04-04T23:36:35.041039",
     "exception": false,
     "start_time": "2021-04-04T23:36:34.992534",
     "status": "completed"
    },
    "tags": []
   },
   "outputs": [],
   "source": [
    "df = pd.read_csv(dataset_config['dataset_path'])"
   ]
  },
  {
   "cell_type": "code",
   "execution_count": 6,
   "id": "7eca6c4a",
   "metadata": {
    "execution": {
     "iopub.execute_input": "2021-04-04T23:36:35.115467Z",
     "iopub.status.busy": "2021-04-04T23:36:35.113993Z",
     "iopub.status.idle": "2021-04-04T23:36:35.144231Z",
     "shell.execute_reply": "2021-04-04T23:36:35.142453Z"
    },
    "papermill": {
     "duration": 0.066914,
     "end_time": "2021-04-04T23:36:35.144437",
     "exception": false,
     "start_time": "2021-04-04T23:36:35.077523",
     "status": "completed"
    },
    "tags": []
   },
   "outputs": [
    {
     "name": "stdout",
     "output_type": "stream",
     "text": [
      "<class 'pandas.core.frame.DataFrame'>\n",
      "RangeIndex: 498 entries, 0 to 497\n",
      "Data columns (total 23 columns):\n",
      " #   Column             Non-Null Count  Dtype  \n",
      "---  ------             --------------  -----  \n",
      " 0   id                 498 non-null    int64  \n",
      " 1   loc                498 non-null    float64\n",
      " 2   v(g)               498 non-null    float64\n",
      " 3   ev(g)              498 non-null    float64\n",
      " 4   iv(g)              498 non-null    float64\n",
      " 5   n                  498 non-null    float64\n",
      " 6   v                  498 non-null    float64\n",
      " 7   l                  498 non-null    float64\n",
      " 8   d                  498 non-null    float64\n",
      " 9   i                  498 non-null    float64\n",
      " 10  e                  498 non-null    float64\n",
      " 11  b                  498 non-null    float64\n",
      " 12  t                  498 non-null    float64\n",
      " 13  lOCode             498 non-null    int64  \n",
      " 14  lOComment          498 non-null    int64  \n",
      " 15  lOBlank            498 non-null    int64  \n",
      " 16  locCodeAndComment  498 non-null    int64  \n",
      " 17  uniq_Op            498 non-null    float64\n",
      " 18  uniq_Opnd          498 non-null    float64\n",
      " 19  total_Op           498 non-null    float64\n",
      " 20  total_Opnd         498 non-null    float64\n",
      " 21  branchCount        498 non-null    float64\n",
      " 22  defects            498 non-null    bool   \n",
      "dtypes: bool(1), float64(17), int64(5)\n",
      "memory usage: 86.2 KB\n"
     ]
    }
   ],
   "source": [
    "df.info()"
   ]
  },
  {
   "cell_type": "code",
   "execution_count": 7,
   "id": "3638e5e8",
   "metadata": {
    "execution": {
     "iopub.execute_input": "2021-04-04T23:36:35.225526Z",
     "iopub.status.busy": "2021-04-04T23:36:35.223339Z",
     "iopub.status.idle": "2021-04-04T23:36:35.281553Z",
     "shell.execute_reply": "2021-04-04T23:36:35.280961Z"
    },
    "papermill": {
     "duration": 0.101039,
     "end_time": "2021-04-04T23:36:35.281688",
     "exception": false,
     "start_time": "2021-04-04T23:36:35.180649",
     "status": "completed"
    },
    "tags": []
   },
   "outputs": [
    {
     "data": {
      "text/html": [
       "<div>\n",
       "<style scoped>\n",
       "    .dataframe tbody tr th:only-of-type {\n",
       "        vertical-align: middle;\n",
       "    }\n",
       "\n",
       "    .dataframe tbody tr th {\n",
       "        vertical-align: top;\n",
       "    }\n",
       "\n",
       "    .dataframe thead th {\n",
       "        text-align: right;\n",
       "    }\n",
       "</style>\n",
       "<table border=\"1\" class=\"dataframe\">\n",
       "  <thead>\n",
       "    <tr style=\"text-align: right;\">\n",
       "      <th></th>\n",
       "      <th>id</th>\n",
       "      <th>loc</th>\n",
       "      <th>v(g)</th>\n",
       "      <th>ev(g)</th>\n",
       "      <th>iv(g)</th>\n",
       "      <th>n</th>\n",
       "      <th>v</th>\n",
       "      <th>l</th>\n",
       "      <th>d</th>\n",
       "      <th>i</th>\n",
       "      <th>...</th>\n",
       "      <th>lOCode</th>\n",
       "      <th>lOComment</th>\n",
       "      <th>lOBlank</th>\n",
       "      <th>locCodeAndComment</th>\n",
       "      <th>uniq_Op</th>\n",
       "      <th>uniq_Opnd</th>\n",
       "      <th>total_Op</th>\n",
       "      <th>total_Opnd</th>\n",
       "      <th>branchCount</th>\n",
       "      <th>defects</th>\n",
       "    </tr>\n",
       "  </thead>\n",
       "  <tbody>\n",
       "    <tr>\n",
       "      <th>0</th>\n",
       "      <td>1</td>\n",
       "      <td>1.1</td>\n",
       "      <td>1.4</td>\n",
       "      <td>1.4</td>\n",
       "      <td>1.4</td>\n",
       "      <td>1.3</td>\n",
       "      <td>1.30</td>\n",
       "      <td>1.30</td>\n",
       "      <td>1.30</td>\n",
       "      <td>1.30</td>\n",
       "      <td>...</td>\n",
       "      <td>2</td>\n",
       "      <td>2</td>\n",
       "      <td>2</td>\n",
       "      <td>2</td>\n",
       "      <td>1.2</td>\n",
       "      <td>1.2</td>\n",
       "      <td>1.2</td>\n",
       "      <td>1.2</td>\n",
       "      <td>1.4</td>\n",
       "      <td>False</td>\n",
       "    </tr>\n",
       "    <tr>\n",
       "      <th>1</th>\n",
       "      <td>2</td>\n",
       "      <td>1.0</td>\n",
       "      <td>1.0</td>\n",
       "      <td>1.0</td>\n",
       "      <td>1.0</td>\n",
       "      <td>1.0</td>\n",
       "      <td>1.00</td>\n",
       "      <td>1.00</td>\n",
       "      <td>1.00</td>\n",
       "      <td>1.00</td>\n",
       "      <td>...</td>\n",
       "      <td>1</td>\n",
       "      <td>1</td>\n",
       "      <td>1</td>\n",
       "      <td>1</td>\n",
       "      <td>1.0</td>\n",
       "      <td>1.0</td>\n",
       "      <td>1.0</td>\n",
       "      <td>1.0</td>\n",
       "      <td>1.0</td>\n",
       "      <td>True</td>\n",
       "    </tr>\n",
       "    <tr>\n",
       "      <th>2</th>\n",
       "      <td>3</td>\n",
       "      <td>24.0</td>\n",
       "      <td>5.0</td>\n",
       "      <td>1.0</td>\n",
       "      <td>3.0</td>\n",
       "      <td>63.0</td>\n",
       "      <td>309.13</td>\n",
       "      <td>0.11</td>\n",
       "      <td>9.50</td>\n",
       "      <td>32.54</td>\n",
       "      <td>...</td>\n",
       "      <td>1</td>\n",
       "      <td>0</td>\n",
       "      <td>6</td>\n",
       "      <td>0</td>\n",
       "      <td>15.0</td>\n",
       "      <td>15.0</td>\n",
       "      <td>44.0</td>\n",
       "      <td>19.0</td>\n",
       "      <td>9.0</td>\n",
       "      <td>False</td>\n",
       "    </tr>\n",
       "    <tr>\n",
       "      <th>3</th>\n",
       "      <td>4</td>\n",
       "      <td>20.0</td>\n",
       "      <td>4.0</td>\n",
       "      <td>4.0</td>\n",
       "      <td>2.0</td>\n",
       "      <td>47.0</td>\n",
       "      <td>215.49</td>\n",
       "      <td>0.06</td>\n",
       "      <td>16.00</td>\n",
       "      <td>13.47</td>\n",
       "      <td>...</td>\n",
       "      <td>0</td>\n",
       "      <td>0</td>\n",
       "      <td>3</td>\n",
       "      <td>0</td>\n",
       "      <td>16.0</td>\n",
       "      <td>8.0</td>\n",
       "      <td>31.0</td>\n",
       "      <td>16.0</td>\n",
       "      <td>7.0</td>\n",
       "      <td>False</td>\n",
       "    </tr>\n",
       "    <tr>\n",
       "      <th>4</th>\n",
       "      <td>5</td>\n",
       "      <td>24.0</td>\n",
       "      <td>6.0</td>\n",
       "      <td>6.0</td>\n",
       "      <td>2.0</td>\n",
       "      <td>72.0</td>\n",
       "      <td>346.13</td>\n",
       "      <td>0.06</td>\n",
       "      <td>17.33</td>\n",
       "      <td>19.97</td>\n",
       "      <td>...</td>\n",
       "      <td>0</td>\n",
       "      <td>0</td>\n",
       "      <td>3</td>\n",
       "      <td>0</td>\n",
       "      <td>16.0</td>\n",
       "      <td>12.0</td>\n",
       "      <td>46.0</td>\n",
       "      <td>26.0</td>\n",
       "      <td>11.0</td>\n",
       "      <td>False</td>\n",
       "    </tr>\n",
       "  </tbody>\n",
       "</table>\n",
       "<p>5 rows × 23 columns</p>\n",
       "</div>"
      ],
      "text/plain": [
       "   id   loc  v(g)  ev(g)  iv(g)     n       v     l      d      i  ...  \\\n",
       "0   1   1.1   1.4    1.4    1.4   1.3    1.30  1.30   1.30   1.30  ...   \n",
       "1   2   1.0   1.0    1.0    1.0   1.0    1.00  1.00   1.00   1.00  ...   \n",
       "2   3  24.0   5.0    1.0    3.0  63.0  309.13  0.11   9.50  32.54  ...   \n",
       "3   4  20.0   4.0    4.0    2.0  47.0  215.49  0.06  16.00  13.47  ...   \n",
       "4   5  24.0   6.0    6.0    2.0  72.0  346.13  0.06  17.33  19.97  ...   \n",
       "\n",
       "   lOCode  lOComment  lOBlank  locCodeAndComment  uniq_Op  uniq_Opnd  \\\n",
       "0       2          2        2                  2      1.2        1.2   \n",
       "1       1          1        1                  1      1.0        1.0   \n",
       "2       1          0        6                  0     15.0       15.0   \n",
       "3       0          0        3                  0     16.0        8.0   \n",
       "4       0          0        3                  0     16.0       12.0   \n",
       "\n",
       "   total_Op  total_Opnd  branchCount  defects  \n",
       "0       1.2         1.2          1.4    False  \n",
       "1       1.0         1.0          1.0     True  \n",
       "2      44.0        19.0          9.0    False  \n",
       "3      31.0        16.0          7.0    False  \n",
       "4      46.0        26.0         11.0    False  \n",
       "\n",
       "[5 rows x 23 columns]"
      ]
     },
     "execution_count": 7,
     "metadata": {},
     "output_type": "execute_result"
    }
   ],
   "source": [
    "df.head()"
   ]
  },
  {
   "cell_type": "code",
   "execution_count": 8,
   "id": "733e95eb",
   "metadata": {
    "execution": {
     "iopub.execute_input": "2021-04-04T23:36:35.367061Z",
     "iopub.status.busy": "2021-04-04T23:36:35.364199Z",
     "iopub.status.idle": "2021-04-04T23:36:35.375860Z",
     "shell.execute_reply": "2021-04-04T23:36:35.377241Z"
    },
    "papermill": {
     "duration": 0.070704,
     "end_time": "2021-04-04T23:36:35.377807",
     "exception": false,
     "start_time": "2021-04-04T23:36:35.307103",
     "status": "completed"
    },
    "tags": []
   },
   "outputs": [],
   "source": [
    "del df['id']"
   ]
  },
  {
   "cell_type": "code",
   "execution_count": 9,
   "id": "6ff6f5b0",
   "metadata": {
    "execution": {
     "iopub.execute_input": "2021-04-04T23:36:35.476062Z",
     "iopub.status.busy": "2021-04-04T23:36:35.475039Z",
     "iopub.status.idle": "2021-04-04T23:36:35.477638Z",
     "shell.execute_reply": "2021-04-04T23:36:35.479463Z"
    },
    "papermill": {
     "duration": 0.052468,
     "end_time": "2021-04-04T23:36:35.480016",
     "exception": false,
     "start_time": "2021-04-04T23:36:35.427548",
     "status": "completed"
    },
    "tags": []
   },
   "outputs": [],
   "source": [
    "if PROFILE_REPORTING:\n",
    "    ProfileReport(df).to_widgets()"
   ]
  },
  {
   "cell_type": "markdown",
   "id": "1deaf3f0",
   "metadata": {
    "papermill": {
     "duration": 0.022638,
     "end_time": "2021-04-04T23:36:35.532688",
     "exception": false,
     "start_time": "2021-04-04T23:36:35.510050",
     "status": "completed"
    },
    "tags": []
   },
   "source": [
    "# Preprocess"
   ]
  },
  {
   "cell_type": "code",
   "execution_count": 10,
   "id": "1513e563",
   "metadata": {
    "execution": {
     "iopub.execute_input": "2021-04-04T23:36:35.594950Z",
     "iopub.status.busy": "2021-04-04T23:36:35.593221Z",
     "iopub.status.idle": "2021-04-04T23:36:35.596431Z",
     "shell.execute_reply": "2021-04-04T23:36:35.597056Z"
    },
    "papermill": {
     "duration": 0.040453,
     "end_time": "2021-04-04T23:36:35.597248",
     "exception": false,
     "start_time": "2021-04-04T23:36:35.556795",
     "status": "completed"
    },
    "tags": []
   },
   "outputs": [],
   "source": [
    "working_df = df.copy()"
   ]
  },
  {
   "cell_type": "code",
   "execution_count": 11,
   "id": "3b26d675",
   "metadata": {
    "execution": {
     "iopub.execute_input": "2021-04-04T23:36:35.655150Z",
     "iopub.status.busy": "2021-04-04T23:36:35.654057Z",
     "iopub.status.idle": "2021-04-04T23:36:35.657146Z",
     "shell.execute_reply": "2021-04-04T23:36:35.656453Z"
    },
    "papermill": {
     "duration": 0.033325,
     "end_time": "2021-04-04T23:36:35.657289",
     "exception": false,
     "start_time": "2021-04-04T23:36:35.623964",
     "status": "completed"
    },
    "tags": []
   },
   "outputs": [],
   "source": [
    "working_df['defects'] = working_df['defects'].replace([False, True], [0, 1])"
   ]
  },
  {
   "cell_type": "code",
   "execution_count": 12,
   "id": "eb48604f",
   "metadata": {
    "execution": {
     "iopub.execute_input": "2021-04-04T23:36:35.711870Z",
     "iopub.status.busy": "2021-04-04T23:36:35.709920Z",
     "iopub.status.idle": "2021-04-04T23:36:35.714947Z",
     "shell.execute_reply": "2021-04-04T23:36:35.714290Z"
    },
    "papermill": {
     "duration": 0.034799,
     "end_time": "2021-04-04T23:36:35.715066",
     "exception": false,
     "start_time": "2021-04-04T23:36:35.680267",
     "status": "completed"
    },
    "tags": []
   },
   "outputs": [],
   "source": [
    "for col in dataset_config['delete_columns']:\n",
    "    del working_df[col]"
   ]
  },
  {
   "cell_type": "code",
   "execution_count": 13,
   "id": "9a17bc29",
   "metadata": {
    "execution": {
     "iopub.execute_input": "2021-04-04T23:36:35.770604Z",
     "iopub.status.busy": "2021-04-04T23:36:35.769998Z",
     "iopub.status.idle": "2021-04-04T23:36:35.776662Z",
     "shell.execute_reply": "2021-04-04T23:36:35.777170Z"
    },
    "papermill": {
     "duration": 0.040562,
     "end_time": "2021-04-04T23:36:35.777320",
     "exception": false,
     "start_time": "2021-04-04T23:36:35.736758",
     "status": "completed"
    },
    "tags": []
   },
   "outputs": [],
   "source": [
    "working_df = working_df.drop_duplicates()"
   ]
  },
  {
   "cell_type": "markdown",
   "id": "a4d52ca6",
   "metadata": {
    "papermill": {
     "duration": 0.030659,
     "end_time": "2021-04-04T23:36:35.834948",
     "exception": false,
     "start_time": "2021-04-04T23:36:35.804289",
     "status": "completed"
    },
    "tags": []
   },
   "source": [
    "# Split"
   ]
  },
  {
   "cell_type": "code",
   "execution_count": 14,
   "id": "3e9ee4b5",
   "metadata": {
    "execution": {
     "iopub.execute_input": "2021-04-04T23:36:35.892592Z",
     "iopub.status.busy": "2021-04-04T23:36:35.891918Z",
     "iopub.status.idle": "2021-04-04T23:36:35.932184Z",
     "shell.execute_reply": "2021-04-04T23:36:35.931637Z"
    },
    "papermill": {
     "duration": 0.067247,
     "end_time": "2021-04-04T23:36:35.932303",
     "exception": false,
     "start_time": "2021-04-04T23:36:35.865056",
     "status": "completed"
    },
    "tags": []
   },
   "outputs": [],
   "source": [
    "from sklearn.model_selection import train_test_split"
   ]
  },
  {
   "cell_type": "code",
   "execution_count": 15,
   "id": "274004ce",
   "metadata": {
    "execution": {
     "iopub.execute_input": "2021-04-04T23:36:35.991455Z",
     "iopub.status.busy": "2021-04-04T23:36:35.988577Z",
     "iopub.status.idle": "2021-04-04T23:36:36.000173Z",
     "shell.execute_reply": "2021-04-04T23:36:36.000690Z"
    },
    "papermill": {
     "duration": 0.044336,
     "end_time": "2021-04-04T23:36:36.000844",
     "exception": false,
     "start_time": "2021-04-04T23:36:35.956508",
     "status": "completed"
    },
    "scrolled": true,
    "tags": []
   },
   "outputs": [],
   "source": [
    "inlier, outlier = working_df[working_df['defects'] == 0], working_df[working_df['defects'] == 1]"
   ]
  },
  {
   "cell_type": "code",
   "execution_count": 16,
   "id": "753c7b03",
   "metadata": {
    "execution": {
     "iopub.execute_input": "2021-04-04T23:36:36.077224Z",
     "iopub.status.busy": "2021-04-04T23:36:36.076443Z",
     "iopub.status.idle": "2021-04-04T23:36:36.079037Z",
     "shell.execute_reply": "2021-04-04T23:36:36.079601Z"
    },
    "papermill": {
     "duration": 0.037488,
     "end_time": "2021-04-04T23:36:36.079775",
     "exception": false,
     "start_time": "2021-04-04T23:36:36.042287",
     "status": "completed"
    },
    "tags": []
   },
   "outputs": [],
   "source": [
    "X_inlier = inlier.copy()\n",
    "y_inlier = X_inlier.pop('defects')\n",
    "X_outlier = outlier.copy()\n",
    "y_outlier = X_outlier.pop('defects')"
   ]
  },
  {
   "cell_type": "code",
   "execution_count": 17,
   "id": "2ba43193",
   "metadata": {
    "execution": {
     "iopub.execute_input": "2021-04-04T23:36:36.144120Z",
     "iopub.status.busy": "2021-04-04T23:36:36.143025Z",
     "iopub.status.idle": "2021-04-04T23:36:36.146045Z",
     "shell.execute_reply": "2021-04-04T23:36:36.146531Z"
    },
    "papermill": {
     "duration": 0.039781,
     "end_time": "2021-04-04T23:36:36.146679",
     "exception": false,
     "start_time": "2021-04-04T23:36:36.106898",
     "status": "completed"
    },
    "tags": []
   },
   "outputs": [],
   "source": [
    "test_size = dataset_config['test_size']\n",
    "random_state = dataset_config['random_state']\n",
    "\n",
    "X_inlier_train, X_inlier_test, y_inlier_train, y_inlier_test = train_test_split(\n",
    "    X_inlier,\n",
    "    y_inlier,\n",
    "    test_size=test_size,\n",
    "    random_state=random_state\n",
    ")"
   ]
  },
  {
   "cell_type": "code",
   "execution_count": 18,
   "id": "0b7582ca",
   "metadata": {
    "execution": {
     "iopub.execute_input": "2021-04-04T23:36:36.202506Z",
     "iopub.status.busy": "2021-04-04T23:36:36.201770Z",
     "iopub.status.idle": "2021-04-04T23:36:36.204756Z",
     "shell.execute_reply": "2021-04-04T23:36:36.204174Z"
    },
    "papermill": {
     "duration": 0.033513,
     "end_time": "2021-04-04T23:36:36.204935",
     "exception": false,
     "start_time": "2021-04-04T23:36:36.171422",
     "status": "completed"
    },
    "tags": []
   },
   "outputs": [],
   "source": [
    "test_outlier_size = dataset_config['test_outlier_size']\n",
    "if test_outlier_size > 0.0:\n",
    "    X_outlier_train, X_outlier_test, y_outlier_train, y_outlier_test = train_test_split(\n",
    "        X_outlier,\n",
    "        y_outlier,\n",
    "        test_size=test_outlier_size,\n",
    "        random_state=random_state\n",
    "    )\n",
    "else:\n",
    "    X_outlier_train, y_outlier_train = pd.DataFrame(columns=X_outlier.columns), pd.Series(dtype='int64')\n",
    "    X_outlier_test, y_outlier_test = X_outlier.copy(), y_outlier.copy()"
   ]
  },
  {
   "cell_type": "code",
   "execution_count": 19,
   "id": "c34363db",
   "metadata": {
    "execution": {
     "iopub.execute_input": "2021-04-04T23:36:36.293840Z",
     "iopub.status.busy": "2021-04-04T23:36:36.292472Z",
     "iopub.status.idle": "2021-04-04T23:36:36.306736Z",
     "shell.execute_reply": "2021-04-04T23:36:36.310071Z"
    },
    "papermill": {
     "duration": 0.07907,
     "end_time": "2021-04-04T23:36:36.310808",
     "exception": false,
     "start_time": "2021-04-04T23:36:36.231738",
     "status": "completed"
    },
    "tags": []
   },
   "outputs": [],
   "source": [
    "X_train, y_train = pd.concat([X_inlier_train, X_outlier_train], ignore_index=True), pd.concat([y_inlier_train, y_outlier_train], ignore_index=True)\n",
    "X_test, y_test = pd.concat([X_inlier_test, X_outlier_test], ignore_index=True), pd.concat([y_inlier_test, y_outlier_test], ignore_index=True)"
   ]
  },
  {
   "cell_type": "markdown",
   "id": "7cde7309",
   "metadata": {
    "papermill": {
     "duration": 0.038726,
     "end_time": "2021-04-04T23:36:36.401341",
     "exception": false,
     "start_time": "2021-04-04T23:36:36.362615",
     "status": "completed"
    },
    "tags": []
   },
   "source": [
    "# Model"
   ]
  },
  {
   "cell_type": "code",
   "execution_count": 20,
   "id": "2b12a415",
   "metadata": {
    "execution": {
     "iopub.execute_input": "2021-04-04T23:36:36.469809Z",
     "iopub.status.busy": "2021-04-04T23:36:36.466431Z",
     "iopub.status.idle": "2021-04-04T23:36:36.472983Z",
     "shell.execute_reply": "2021-04-04T23:36:36.472307Z"
    },
    "papermill": {
     "duration": 0.044648,
     "end_time": "2021-04-04T23:36:36.473146",
     "exception": false,
     "start_time": "2021-04-04T23:36:36.428498",
     "status": "completed"
    },
    "tags": []
   },
   "outputs": [],
   "source": [
    "from math import sqrt\n",
    "\n",
    "\n",
    "class KNNDataDescription:\n",
    "    def __init__(self, k=5, outlier_threshold=1.0):\n",
    "        self.k = k\n",
    "        self.outlier_threshold = outlier_threshold\n",
    "        self.X = []\n",
    "    \n",
    "    def fit(self, X):\n",
    "        self.X = [features.to_list() for index, features in X.iterrows()]\n",
    "\n",
    "    def predict(self, entries):\n",
    "        return [self.predict_entry(features.to_list()) for index, features in entries.iterrows()]\n",
    "    \n",
    "    def predict_entry(self, entry):\n",
    "        kth_neighbor, kth_distance = self.get_kth_neighbor(entry, self.k)\n",
    "        kth_kth_neighbor, kth_kth_distance = self.get_kth_neighbor(kth_neighbor, self.k + 1)\n",
    "\n",
    "        outlier_score = kth_distance / (kth_kth_distance + 0.000001)\n",
    "\n",
    "        return 1 if outlier_score < self.outlier_threshold else -1\n",
    "        \n",
    "    def euclidean_distance(self, features1, features2):\n",
    "        distance = 0.0\n",
    "        for feat1, feat2 in zip(features1, features2):\n",
    "            distance += (feat1 - feat2)**2\n",
    "                \n",
    "        return sqrt(distance)\n",
    "\n",
    "    def get_neighbors(self, entry, k):\n",
    "        distance_to_data_points = [\n",
    "            (data_point, self.euclidean_distance(entry, data_point))\n",
    "            for data_point in self.X\n",
    "        ]\n",
    "        sorted_by_distance = sorted(distance_to_data_points, key=lambda tup: tup[1])\n",
    "        neighbors = sorted_by_distance[:k]\n",
    "        return neighbors\n",
    "\n",
    "    def get_kth_neighbor(self, entry, k):\n",
    "        neighbors = self.get_neighbors(entry, k)\n",
    "        return neighbors[-1]\n"
   ]
  },
  {
   "cell_type": "code",
   "execution_count": 21,
   "id": "1fa9ec1c",
   "metadata": {
    "execution": {
     "iopub.execute_input": "2021-04-04T23:36:36.527131Z",
     "iopub.status.busy": "2021-04-04T23:36:36.526465Z",
     "iopub.status.idle": "2021-04-04T23:36:36.551958Z",
     "shell.execute_reply": "2021-04-04T23:36:36.551365Z"
    },
    "papermill": {
     "duration": 0.053204,
     "end_time": "2021-04-04T23:36:36.552077",
     "exception": false,
     "start_time": "2021-04-04T23:36:36.498873",
     "status": "completed"
    },
    "tags": []
   },
   "outputs": [],
   "source": [
    "from sklearn.svm import OneClassSVM\n",
    "\n",
    "\n",
    "models = {\n",
    "    'oneclasssvm': OneClassSVM,\n",
    "    'knndatadescription': KNNDataDescription,\n",
    "}"
   ]
  },
  {
   "cell_type": "code",
   "execution_count": 22,
   "id": "4d72a0b1",
   "metadata": {
    "execution": {
     "iopub.execute_input": "2021-04-04T23:36:36.617859Z",
     "iopub.status.busy": "2021-04-04T23:36:36.615025Z",
     "iopub.status.idle": "2021-04-04T23:36:36.619898Z",
     "shell.execute_reply": "2021-04-04T23:36:36.620425Z"
    },
    "papermill": {
     "duration": 0.042553,
     "end_time": "2021-04-04T23:36:36.620578",
     "exception": false,
     "start_time": "2021-04-04T23:36:36.578025",
     "status": "completed"
    },
    "scrolled": true,
    "tags": []
   },
   "outputs": [],
   "source": [
    "model_cls = models[model_config['model_type']]\n",
    "model = model_cls(**model_config['hyperparameters'])"
   ]
  },
  {
   "cell_type": "markdown",
   "id": "e00cff3b",
   "metadata": {
    "papermill": {
     "duration": 0.022451,
     "end_time": "2021-04-04T23:36:36.669395",
     "exception": false,
     "start_time": "2021-04-04T23:36:36.646944",
     "status": "completed"
    },
    "tags": []
   },
   "source": [
    "# Fit"
   ]
  },
  {
   "cell_type": "code",
   "execution_count": 23,
   "id": "8b2ded89",
   "metadata": {
    "execution": {
     "iopub.execute_input": "2021-04-04T23:36:36.728970Z",
     "iopub.status.busy": "2021-04-04T23:36:36.727893Z",
     "iopub.status.idle": "2021-04-04T23:36:36.757262Z",
     "shell.execute_reply": "2021-04-04T23:36:36.757743Z"
    },
    "papermill": {
     "duration": 0.06231,
     "end_time": "2021-04-04T23:36:36.757892",
     "exception": false,
     "start_time": "2021-04-04T23:36:36.695582",
     "status": "completed"
    },
    "tags": []
   },
   "outputs": [],
   "source": [
    "model.fit(X_train)"
   ]
  },
  {
   "cell_type": "markdown",
   "id": "f99999f7",
   "metadata": {
    "papermill": {
     "duration": 0.027508,
     "end_time": "2021-04-04T23:36:36.809936",
     "exception": false,
     "start_time": "2021-04-04T23:36:36.782428",
     "status": "completed"
    },
    "tags": []
   },
   "source": [
    "# Predict"
   ]
  },
  {
   "cell_type": "code",
   "execution_count": 24,
   "id": "6536fbf7",
   "metadata": {
    "execution": {
     "iopub.execute_input": "2021-04-04T23:36:36.871391Z",
     "iopub.status.busy": "2021-04-04T23:36:36.870187Z",
     "iopub.status.idle": "2021-04-04T23:36:37.252620Z",
     "shell.execute_reply": "2021-04-04T23:36:37.251738Z"
    },
    "papermill": {
     "duration": 0.418338,
     "end_time": "2021-04-04T23:36:37.252897",
     "exception": false,
     "start_time": "2021-04-04T23:36:36.834559",
     "status": "completed"
    },
    "tags": []
   },
   "outputs": [],
   "source": [
    "predictions = model.predict(X_test)"
   ]
  },
  {
   "cell_type": "markdown",
   "id": "aa1c9881",
   "metadata": {
    "papermill": {
     "duration": 0.024461,
     "end_time": "2021-04-04T23:36:37.302228",
     "exception": false,
     "start_time": "2021-04-04T23:36:37.277767",
     "status": "completed"
    },
    "tags": []
   },
   "source": [
    "# Evaluate"
   ]
  },
  {
   "cell_type": "code",
   "execution_count": 25,
   "id": "894f0f04",
   "metadata": {
    "execution": {
     "iopub.execute_input": "2021-04-04T23:36:37.402419Z",
     "iopub.status.busy": "2021-04-04T23:36:37.401005Z",
     "iopub.status.idle": "2021-04-04T23:36:37.404172Z",
     "shell.execute_reply": "2021-04-04T23:36:37.403508Z"
    },
    "papermill": {
     "duration": 0.055487,
     "end_time": "2021-04-04T23:36:37.404346",
     "exception": false,
     "start_time": "2021-04-04T23:36:37.348859",
     "status": "completed"
    },
    "tags": []
   },
   "outputs": [],
   "source": [
    "from sklearn.metrics import f1_score"
   ]
  },
  {
   "cell_type": "code",
   "execution_count": 26,
   "id": "211744d3",
   "metadata": {
    "execution": {
     "iopub.execute_input": "2021-04-04T23:36:37.513524Z",
     "iopub.status.busy": "2021-04-04T23:36:37.511435Z",
     "iopub.status.idle": "2021-04-04T23:36:37.518208Z",
     "shell.execute_reply": "2021-04-04T23:36:37.516588Z"
    },
    "papermill": {
     "duration": 0.058715,
     "end_time": "2021-04-04T23:36:37.518363",
     "exception": false,
     "start_time": "2021-04-04T23:36:37.459648",
     "status": "completed"
    },
    "tags": []
   },
   "outputs": [],
   "source": [
    "y_test = y_test.replace([0, 1], [1, -1])"
   ]
  },
  {
   "cell_type": "code",
   "execution_count": 27,
   "id": "d68a9204",
   "metadata": {
    "execution": {
     "iopub.execute_input": "2021-04-04T23:36:37.592340Z",
     "iopub.status.busy": "2021-04-04T23:36:37.591610Z",
     "iopub.status.idle": "2021-04-04T23:36:37.593292Z",
     "shell.execute_reply": "2021-04-04T23:36:37.593785Z"
    },
    "papermill": {
     "duration": 0.042524,
     "end_time": "2021-04-04T23:36:37.593928",
     "exception": false,
     "start_time": "2021-04-04T23:36:37.551404",
     "status": "completed"
    },
    "tags": []
   },
   "outputs": [],
   "source": [
    "def evaluate(truths, predictions, pos_label, neg_label):\n",
    "    TP = 0\n",
    "    FP = 0\n",
    "    TN = 0\n",
    "    FN = 0\n",
    "\n",
    "    for truth, pred in zip(truths, predictions): \n",
    "        if truth == pred == pos_label:\n",
    "           TP += 1\n",
    "        elif pred == pos_label and truth == neg_label:\n",
    "           FP += 1\n",
    "        elif truth == pred == neg_label:\n",
    "           TN += 1\n",
    "        elif pred == neg_label and truth == pos_label:\n",
    "           FN += 1\n",
    "\n",
    "    precision = TP / (TP + FP)\n",
    "    sensitivity = TP / (TP + FN)\n",
    "    \n",
    "    return {\n",
    "        'true_pos': TP,\n",
    "        'false_pos': FP,\n",
    "        'false_neg': FN,\n",
    "        'true_neg': TN,\n",
    "        'precision': precision,\n",
    "        'sensitivity': sensitivity,\n",
    "        'f1': (2 * (precision * sensitivity)) / (precision + sensitivity)\n",
    "    }\n",
    "\n",
    "score = evaluate(y_test, predictions, pos_label=-1, neg_label=1)"
   ]
  },
  {
   "cell_type": "markdown",
   "id": "93596516",
   "metadata": {
    "papermill": {
     "duration": 0.036703,
     "end_time": "2021-04-04T23:36:37.657672",
     "exception": false,
     "start_time": "2021-04-04T23:36:37.620969",
     "status": "completed"
    },
    "tags": []
   },
   "source": [
    "# Report"
   ]
  },
  {
   "cell_type": "code",
   "execution_count": 28,
   "id": "bea5fba1",
   "metadata": {
    "execution": {
     "iopub.execute_input": "2021-04-04T23:36:37.743329Z",
     "iopub.status.busy": "2021-04-04T23:36:37.739169Z",
     "iopub.status.idle": "2021-04-04T23:36:37.745346Z",
     "shell.execute_reply": "2021-04-04T23:36:37.746666Z"
    },
    "papermill": {
     "duration": 0.051466,
     "end_time": "2021-04-04T23:36:37.747034",
     "exception": false,
     "start_time": "2021-04-04T23:36:37.695568",
     "status": "completed"
    },
    "tags": []
   },
   "outputs": [],
   "source": [
    "import csv\n",
    "\n",
    "\n",
    "dataset_config_name = DATASET_CONFIG_PATH.split('/')[-1].split('.')[0]\n",
    "model_config_name = MODEL_CONFIG_PATH.split('/')[-1].split('.')[0]\n",
    "configuration = f\"dataset_{dataset_config_name}-model_{model_config_name}\"\n",
    "\n",
    "with open('results.csv', 'a') as f:\n",
    "    report = dict({'configuration': configuration}, **score)\n",
    "    writer = csv.DictWriter(f, report.keys())\n",
    "    writer.writerow(report)"
   ]
  }
 ],
 "metadata": {
  "celltoolbar": "Tags",
  "kernelspec": {
   "display_name": "Python 3",
   "language": "python",
   "name": "python3"
  },
  "language_info": {
   "codemirror_mode": {
    "name": "ipython",
    "version": 3
   },
   "file_extension": ".py",
   "mimetype": "text/x-python",
   "name": "python",
   "nbconvert_exporter": "python",
   "pygments_lexer": "ipython3",
   "version": "3.9.1"
  },
  "papermill": {
   "default_parameters": {},
   "duration": 7.066837,
   "end_time": "2021-04-04T23:36:39.135748",
   "environment_variables": {},
   "exception": null,
   "input_path": "main.ipynb",
   "output_path": "runs/dataset_000157-model_000001.ipynb",
   "parameters": {
    "DATASET_CONFIG_PATH": "config/dataset/000157.json",
    "MODEL_CONFIG_PATH": "config/model/000001.json",
    "PROFILE_REPORTING": false
   },
   "start_time": "2021-04-04T23:36:32.068911",
   "version": "2.3.3"
  }
 },
 "nbformat": 4,
 "nbformat_minor": 5
}