{
 "cells": [
  {
   "cell_type": "markdown",
   "id": "51c71c25",
   "metadata": {
    "papermill": {
     "duration": 0.023032,
     "end_time": "2021-04-04T22:41:39.300989",
     "exception": false,
     "start_time": "2021-04-04T22:41:39.277957",
     "status": "completed"
    },
    "tags": []
   },
   "source": [
    "# Parametrizing"
   ]
  },
  {
   "cell_type": "code",
   "execution_count": 1,
   "id": "3b136394",
   "metadata": {
    "execution": {
     "iopub.execute_input": "2021-04-04T22:41:39.370922Z",
     "iopub.status.busy": "2021-04-04T22:41:39.370153Z",
     "iopub.status.idle": "2021-04-04T22:41:39.373506Z",
     "shell.execute_reply": "2021-04-04T22:41:39.372707Z"
    },
    "papermill": {
     "duration": 0.044987,
     "end_time": "2021-04-04T22:41:39.373669",
     "exception": false,
     "start_time": "2021-04-04T22:41:39.328682",
     "status": "completed"
    },
    "tags": [
     "parameters"
    ]
   },
   "outputs": [],
   "source": [
    "DATASET_CONFIG_PATH = 'config/dataset/kc1_001.json'\n",
    "MODEL_CONFIG_PATH = 'config/model/knndd_001.json'\n",
    "PROFILE_REPORTING = False"
   ]
  },
  {
   "cell_type": "code",
   "execution_count": 2,
   "id": "e988ffa9",
   "metadata": {
    "execution": {
     "iopub.execute_input": "2021-04-04T22:41:39.426735Z",
     "iopub.status.busy": "2021-04-04T22:41:39.426009Z",
     "iopub.status.idle": "2021-04-04T22:41:39.427943Z",
     "shell.execute_reply": "2021-04-04T22:41:39.428560Z"
    },
    "papermill": {
     "duration": 0.028093,
     "end_time": "2021-04-04T22:41:39.428727",
     "exception": false,
     "start_time": "2021-04-04T22:41:39.400634",
     "status": "completed"
    },
    "tags": [
     "injected-parameters"
    ]
   },
   "outputs": [],
   "source": [
    "# Parameters\n",
    "DATASET_CONFIG_PATH = \"config/dataset/000036.json\"\n",
    "MODEL_CONFIG_PATH = \"config/model/000004.json\"\n",
    "PROFILE_REPORTING = False\n"
   ]
  },
  {
   "cell_type": "code",
   "execution_count": 3,
   "id": "b80f2a10",
   "metadata": {
    "execution": {
     "iopub.execute_input": "2021-04-04T22:41:39.500470Z",
     "iopub.status.busy": "2021-04-04T22:41:39.499069Z",
     "iopub.status.idle": "2021-04-04T22:41:39.506017Z",
     "shell.execute_reply": "2021-04-04T22:41:39.506592Z"
    },
    "papermill": {
     "duration": 0.052066,
     "end_time": "2021-04-04T22:41:39.506896",
     "exception": false,
     "start_time": "2021-04-04T22:41:39.454830",
     "status": "completed"
    },
    "tags": []
   },
   "outputs": [],
   "source": [
    "import json\n",
    "\n",
    "\n",
    "with open(DATASET_CONFIG_PATH) as f:\n",
    "    dataset_config = json.load(f)\n",
    "\n",
    "with open(MODEL_CONFIG_PATH) as f:\n",
    "    model_config = json.load(f)"
   ]
  },
  {
   "cell_type": "markdown",
   "id": "9a4b0e2d",
   "metadata": {
    "papermill": {
     "duration": 0.032137,
     "end_time": "2021-04-04T22:41:39.575687",
     "exception": false,
     "start_time": "2021-04-04T22:41:39.543550",
     "status": "completed"
    },
    "tags": []
   },
   "source": [
    "# Profiling"
   ]
  },
  {
   "cell_type": "code",
   "execution_count": 4,
   "id": "a3e0289b",
   "metadata": {
    "execution": {
     "iopub.execute_input": "2021-04-04T22:41:39.658559Z",
     "iopub.status.busy": "2021-04-04T22:41:39.656295Z",
     "iopub.status.idle": "2021-04-04T22:41:41.680177Z",
     "shell.execute_reply": "2021-04-04T22:41:41.679472Z"
    },
    "papermill": {
     "duration": 2.068627,
     "end_time": "2021-04-04T22:41:41.680293",
     "exception": false,
     "start_time": "2021-04-04T22:41:39.611666",
     "status": "completed"
    },
    "tags": []
   },
   "outputs": [],
   "source": [
    "import pandas as pd\n",
    "from pandas_profiling import ProfileReport"
   ]
  },
  {
   "cell_type": "code",
   "execution_count": 5,
   "id": "ee6c0666",
   "metadata": {
    "execution": {
     "iopub.execute_input": "2021-04-04T22:41:41.741736Z",
     "iopub.status.busy": "2021-04-04T22:41:41.740798Z",
     "iopub.status.idle": "2021-04-04T22:41:41.772806Z",
     "shell.execute_reply": "2021-04-04T22:41:41.773915Z"
    },
    "papermill": {
     "duration": 0.072639,
     "end_time": "2021-04-04T22:41:41.774298",
     "exception": false,
     "start_time": "2021-04-04T22:41:41.701659",
     "status": "completed"
    },
    "tags": []
   },
   "outputs": [],
   "source": [
    "df = pd.read_csv(dataset_config['dataset_path'])"
   ]
  },
  {
   "cell_type": "code",
   "execution_count": 6,
   "id": "7eca6c4a",
   "metadata": {
    "execution": {
     "iopub.execute_input": "2021-04-04T22:41:41.861667Z",
     "iopub.status.busy": "2021-04-04T22:41:41.860081Z",
     "iopub.status.idle": "2021-04-04T22:41:41.888350Z",
     "shell.execute_reply": "2021-04-04T22:41:41.888962Z"
    },
    "papermill": {
     "duration": 0.076587,
     "end_time": "2021-04-04T22:41:41.889150",
     "exception": false,
     "start_time": "2021-04-04T22:41:41.812563",
     "status": "completed"
    },
    "tags": []
   },
   "outputs": [
    {
     "name": "stdout",
     "output_type": "stream",
     "text": [
      "<class 'pandas.core.frame.DataFrame'>\n",
      "RangeIndex: 2109 entries, 0 to 2108\n",
      "Data columns (total 23 columns):\n",
      " #   Column             Non-Null Count  Dtype  \n",
      "---  ------             --------------  -----  \n",
      " 0   id                 2109 non-null   int64  \n",
      " 1   loc                2109 non-null   float64\n",
      " 2   v(g)               2109 non-null   float64\n",
      " 3   ev(g)              2109 non-null   float64\n",
      " 4   iv(g)              2109 non-null   float64\n",
      " 5   n                  2109 non-null   float64\n",
      " 6   v                  2109 non-null   float64\n",
      " 7   l                  2109 non-null   float64\n",
      " 8   d                  2109 non-null   float64\n",
      " 9   i                  2109 non-null   float64\n",
      " 10  e                  2109 non-null   float64\n",
      " 11  b                  2109 non-null   float64\n",
      " 12  t                  2109 non-null   float64\n",
      " 13  lOCode             2109 non-null   int64  \n",
      " 14  lOComment          2109 non-null   int64  \n",
      " 15  lOBlank            2109 non-null   int64  \n",
      " 16  locCodeAndComment  2109 non-null   int64  \n",
      " 17  uniq_Op            2109 non-null   float64\n",
      " 18  uniq_Opnd          2109 non-null   float64\n",
      " 19  total_Op           2109 non-null   float64\n",
      " 20  total_Opnd         2109 non-null   float64\n",
      " 21  branchCount        2109 non-null   float64\n",
      " 22  defects            2109 non-null   bool   \n",
      "dtypes: bool(1), float64(17), int64(5)\n",
      "memory usage: 364.7 KB\n"
     ]
    }
   ],
   "source": [
    "df.info()"
   ]
  },
  {
   "cell_type": "code",
   "execution_count": 7,
   "id": "3638e5e8",
   "metadata": {
    "execution": {
     "iopub.execute_input": "2021-04-04T22:41:41.972841Z",
     "iopub.status.busy": "2021-04-04T22:41:41.971203Z",
     "iopub.status.idle": "2021-04-04T22:41:42.021792Z",
     "shell.execute_reply": "2021-04-04T22:41:42.022356Z"
    },
    "papermill": {
     "duration": 0.095026,
     "end_time": "2021-04-04T22:41:42.022545",
     "exception": false,
     "start_time": "2021-04-04T22:41:41.927519",
     "status": "completed"
    },
    "tags": []
   },
   "outputs": [
    {
     "data": {
      "text/html": [
       "<div>\n",
       "<style scoped>\n",
       "    .dataframe tbody tr th:only-of-type {\n",
       "        vertical-align: middle;\n",
       "    }\n",
       "\n",
       "    .dataframe tbody tr th {\n",
       "        vertical-align: top;\n",
       "    }\n",
       "\n",
       "    .dataframe thead th {\n",
       "        text-align: right;\n",
       "    }\n",
       "</style>\n",
       "<table border=\"1\" class=\"dataframe\">\n",
       "  <thead>\n",
       "    <tr style=\"text-align: right;\">\n",
       "      <th></th>\n",
       "      <th>id</th>\n",
       "      <th>loc</th>\n",
       "      <th>v(g)</th>\n",
       "      <th>ev(g)</th>\n",
       "      <th>iv(g)</th>\n",
       "      <th>n</th>\n",
       "      <th>v</th>\n",
       "      <th>l</th>\n",
       "      <th>d</th>\n",
       "      <th>i</th>\n",
       "      <th>...</th>\n",
       "      <th>lOCode</th>\n",
       "      <th>lOComment</th>\n",
       "      <th>lOBlank</th>\n",
       "      <th>locCodeAndComment</th>\n",
       "      <th>uniq_Op</th>\n",
       "      <th>uniq_Opnd</th>\n",
       "      <th>total_Op</th>\n",
       "      <th>total_Opnd</th>\n",
       "      <th>branchCount</th>\n",
       "      <th>defects</th>\n",
       "    </tr>\n",
       "  </thead>\n",
       "  <tbody>\n",
       "    <tr>\n",
       "      <th>0</th>\n",
       "      <td>1</td>\n",
       "      <td>1.1</td>\n",
       "      <td>1.4</td>\n",
       "      <td>1.4</td>\n",
       "      <td>1.4</td>\n",
       "      <td>1.3</td>\n",
       "      <td>1.30</td>\n",
       "      <td>1.30</td>\n",
       "      <td>1.30</td>\n",
       "      <td>1.30</td>\n",
       "      <td>...</td>\n",
       "      <td>2</td>\n",
       "      <td>2</td>\n",
       "      <td>2</td>\n",
       "      <td>2</td>\n",
       "      <td>1.2</td>\n",
       "      <td>1.2</td>\n",
       "      <td>1.2</td>\n",
       "      <td>1.2</td>\n",
       "      <td>1.4</td>\n",
       "      <td>False</td>\n",
       "    </tr>\n",
       "    <tr>\n",
       "      <th>1</th>\n",
       "      <td>2</td>\n",
       "      <td>1.0</td>\n",
       "      <td>1.0</td>\n",
       "      <td>1.0</td>\n",
       "      <td>1.0</td>\n",
       "      <td>1.0</td>\n",
       "      <td>1.00</td>\n",
       "      <td>1.00</td>\n",
       "      <td>1.00</td>\n",
       "      <td>1.00</td>\n",
       "      <td>...</td>\n",
       "      <td>1</td>\n",
       "      <td>1</td>\n",
       "      <td>1</td>\n",
       "      <td>1</td>\n",
       "      <td>1.0</td>\n",
       "      <td>1.0</td>\n",
       "      <td>1.0</td>\n",
       "      <td>1.0</td>\n",
       "      <td>1.0</td>\n",
       "      <td>True</td>\n",
       "    </tr>\n",
       "    <tr>\n",
       "      <th>2</th>\n",
       "      <td>3</td>\n",
       "      <td>83.0</td>\n",
       "      <td>11.0</td>\n",
       "      <td>1.0</td>\n",
       "      <td>11.0</td>\n",
       "      <td>171.0</td>\n",
       "      <td>927.89</td>\n",
       "      <td>0.04</td>\n",
       "      <td>23.04</td>\n",
       "      <td>40.27</td>\n",
       "      <td>...</td>\n",
       "      <td>65</td>\n",
       "      <td>10</td>\n",
       "      <td>6</td>\n",
       "      <td>0</td>\n",
       "      <td>18.0</td>\n",
       "      <td>25.0</td>\n",
       "      <td>107.0</td>\n",
       "      <td>64.0</td>\n",
       "      <td>21.0</td>\n",
       "      <td>True</td>\n",
       "    </tr>\n",
       "    <tr>\n",
       "      <th>3</th>\n",
       "      <td>4</td>\n",
       "      <td>46.0</td>\n",
       "      <td>8.0</td>\n",
       "      <td>6.0</td>\n",
       "      <td>8.0</td>\n",
       "      <td>141.0</td>\n",
       "      <td>769.78</td>\n",
       "      <td>0.07</td>\n",
       "      <td>14.86</td>\n",
       "      <td>51.81</td>\n",
       "      <td>...</td>\n",
       "      <td>37</td>\n",
       "      <td>2</td>\n",
       "      <td>5</td>\n",
       "      <td>0</td>\n",
       "      <td>16.0</td>\n",
       "      <td>28.0</td>\n",
       "      <td>89.0</td>\n",
       "      <td>52.0</td>\n",
       "      <td>15.0</td>\n",
       "      <td>True</td>\n",
       "    </tr>\n",
       "    <tr>\n",
       "      <th>4</th>\n",
       "      <td>5</td>\n",
       "      <td>25.0</td>\n",
       "      <td>3.0</td>\n",
       "      <td>1.0</td>\n",
       "      <td>3.0</td>\n",
       "      <td>58.0</td>\n",
       "      <td>254.75</td>\n",
       "      <td>0.11</td>\n",
       "      <td>9.35</td>\n",
       "      <td>27.25</td>\n",
       "      <td>...</td>\n",
       "      <td>21</td>\n",
       "      <td>0</td>\n",
       "      <td>2</td>\n",
       "      <td>0</td>\n",
       "      <td>11.0</td>\n",
       "      <td>10.0</td>\n",
       "      <td>41.0</td>\n",
       "      <td>17.0</td>\n",
       "      <td>5.0</td>\n",
       "      <td>True</td>\n",
       "    </tr>\n",
       "  </tbody>\n",
       "</table>\n",
       "<p>5 rows × 23 columns</p>\n",
       "</div>"
      ],
      "text/plain": [
       "   id   loc  v(g)  ev(g)  iv(g)      n       v     l      d      i  ...  \\\n",
       "0   1   1.1   1.4    1.4    1.4    1.3    1.30  1.30   1.30   1.30  ...   \n",
       "1   2   1.0   1.0    1.0    1.0    1.0    1.00  1.00   1.00   1.00  ...   \n",
       "2   3  83.0  11.0    1.0   11.0  171.0  927.89  0.04  23.04  40.27  ...   \n",
       "3   4  46.0   8.0    6.0    8.0  141.0  769.78  0.07  14.86  51.81  ...   \n",
       "4   5  25.0   3.0    1.0    3.0   58.0  254.75  0.11   9.35  27.25  ...   \n",
       "\n",
       "   lOCode  lOComment  lOBlank  locCodeAndComment  uniq_Op  uniq_Opnd  \\\n",
       "0       2          2        2                  2      1.2        1.2   \n",
       "1       1          1        1                  1      1.0        1.0   \n",
       "2      65         10        6                  0     18.0       25.0   \n",
       "3      37          2        5                  0     16.0       28.0   \n",
       "4      21          0        2                  0     11.0       10.0   \n",
       "\n",
       "   total_Op  total_Opnd  branchCount  defects  \n",
       "0       1.2         1.2          1.4    False  \n",
       "1       1.0         1.0          1.0     True  \n",
       "2     107.0        64.0         21.0     True  \n",
       "3      89.0        52.0         15.0     True  \n",
       "4      41.0        17.0          5.0     True  \n",
       "\n",
       "[5 rows x 23 columns]"
      ]
     },
     "execution_count": 7,
     "metadata": {},
     "output_type": "execute_result"
    }
   ],
   "source": [
    "df.head()"
   ]
  },
  {
   "cell_type": "code",
   "execution_count": 8,
   "id": "733e95eb",
   "metadata": {
    "execution": {
     "iopub.execute_input": "2021-04-04T22:41:42.103306Z",
     "iopub.status.busy": "2021-04-04T22:41:42.101470Z",
     "iopub.status.idle": "2021-04-04T22:41:42.105727Z",
     "shell.execute_reply": "2021-04-04T22:41:42.105187Z"
    },
    "papermill": {
     "duration": 0.049204,
     "end_time": "2021-04-04T22:41:42.105848",
     "exception": false,
     "start_time": "2021-04-04T22:41:42.056644",
     "status": "completed"
    },
    "tags": []
   },
   "outputs": [],
   "source": [
    "del df['id']"
   ]
  },
  {
   "cell_type": "code",
   "execution_count": 9,
   "id": "6ff6f5b0",
   "metadata": {
    "execution": {
     "iopub.execute_input": "2021-04-04T22:41:42.199961Z",
     "iopub.status.busy": "2021-04-04T22:41:42.196871Z",
     "iopub.status.idle": "2021-04-04T22:41:42.203399Z",
     "shell.execute_reply": "2021-04-04T22:41:42.202598Z"
    },
    "papermill": {
     "duration": 0.057596,
     "end_time": "2021-04-04T22:41:42.203621",
     "exception": false,
     "start_time": "2021-04-04T22:41:42.146025",
     "status": "completed"
    },
    "tags": []
   },
   "outputs": [],
   "source": [
    "if PROFILE_REPORTING:\n",
    "    ProfileReport(df).to_widgets()"
   ]
  },
  {
   "cell_type": "markdown",
   "id": "1deaf3f0",
   "metadata": {
    "papermill": {
     "duration": 0.032435,
     "end_time": "2021-04-04T22:41:42.267042",
     "exception": false,
     "start_time": "2021-04-04T22:41:42.234607",
     "status": "completed"
    },
    "tags": []
   },
   "source": [
    "# Preprocess"
   ]
  },
  {
   "cell_type": "code",
   "execution_count": 10,
   "id": "1513e563",
   "metadata": {
    "execution": {
     "iopub.execute_input": "2021-04-04T22:41:42.352954Z",
     "iopub.status.busy": "2021-04-04T22:41:42.351307Z",
     "iopub.status.idle": "2021-04-04T22:41:42.355709Z",
     "shell.execute_reply": "2021-04-04T22:41:42.356687Z"
    },
    "papermill": {
     "duration": 0.058411,
     "end_time": "2021-04-04T22:41:42.357065",
     "exception": false,
     "start_time": "2021-04-04T22:41:42.298654",
     "status": "completed"
    },
    "tags": []
   },
   "outputs": [],
   "source": [
    "working_df = df.copy()"
   ]
  },
  {
   "cell_type": "code",
   "execution_count": 11,
   "id": "3b26d675",
   "metadata": {
    "execution": {
     "iopub.execute_input": "2021-04-04T22:41:42.451023Z",
     "iopub.status.busy": "2021-04-04T22:41:42.449704Z",
     "iopub.status.idle": "2021-04-04T22:41:42.456934Z",
     "shell.execute_reply": "2021-04-04T22:41:42.458610Z"
    },
    "papermill": {
     "duration": 0.056887,
     "end_time": "2021-04-04T22:41:42.458833",
     "exception": false,
     "start_time": "2021-04-04T22:41:42.401946",
     "status": "completed"
    },
    "tags": []
   },
   "outputs": [],
   "source": [
    "working_df['defects'] = working_df['defects'].replace([False, True], [0, 1])"
   ]
  },
  {
   "cell_type": "code",
   "execution_count": 12,
   "id": "eb48604f",
   "metadata": {
    "execution": {
     "iopub.execute_input": "2021-04-04T22:41:42.545005Z",
     "iopub.status.busy": "2021-04-04T22:41:42.543862Z",
     "iopub.status.idle": "2021-04-04T22:41:42.547138Z",
     "shell.execute_reply": "2021-04-04T22:41:42.546459Z"
    },
    "papermill": {
     "duration": 0.045437,
     "end_time": "2021-04-04T22:41:42.547395",
     "exception": false,
     "start_time": "2021-04-04T22:41:42.501958",
     "status": "completed"
    },
    "tags": []
   },
   "outputs": [],
   "source": [
    "for col in dataset_config['delete_columns']:\n",
    "    del working_df[col]"
   ]
  },
  {
   "cell_type": "code",
   "execution_count": 13,
   "id": "9a17bc29",
   "metadata": {
    "execution": {
     "iopub.execute_input": "2021-04-04T22:41:42.637694Z",
     "iopub.status.busy": "2021-04-04T22:41:42.634851Z",
     "iopub.status.idle": "2021-04-04T22:41:42.653964Z",
     "shell.execute_reply": "2021-04-04T22:41:42.654713Z"
    },
    "papermill": {
     "duration": 0.074105,
     "end_time": "2021-04-04T22:41:42.655038",
     "exception": false,
     "start_time": "2021-04-04T22:41:42.580933",
     "status": "completed"
    },
    "tags": []
   },
   "outputs": [],
   "source": [
    "working_df = working_df.drop_duplicates()"
   ]
  },
  {
   "cell_type": "markdown",
   "id": "a4d52ca6",
   "metadata": {
    "papermill": {
     "duration": 0.046045,
     "end_time": "2021-04-04T22:41:42.742350",
     "exception": false,
     "start_time": "2021-04-04T22:41:42.696305",
     "status": "completed"
    },
    "tags": []
   },
   "source": [
    "# Split"
   ]
  },
  {
   "cell_type": "code",
   "execution_count": 14,
   "id": "3e9ee4b5",
   "metadata": {
    "execution": {
     "iopub.execute_input": "2021-04-04T22:41:42.828385Z",
     "iopub.status.busy": "2021-04-04T22:41:42.827523Z",
     "iopub.status.idle": "2021-04-04T22:41:42.870190Z",
     "shell.execute_reply": "2021-04-04T22:41:42.870668Z"
    },
    "papermill": {
     "duration": 0.078963,
     "end_time": "2021-04-04T22:41:42.870814",
     "exception": false,
     "start_time": "2021-04-04T22:41:42.791851",
     "status": "completed"
    },
    "tags": []
   },
   "outputs": [],
   "source": [
    "from sklearn.model_selection import train_test_split"
   ]
  },
  {
   "cell_type": "code",
   "execution_count": 15,
   "id": "274004ce",
   "metadata": {
    "execution": {
     "iopub.execute_input": "2021-04-04T22:41:42.938890Z",
     "iopub.status.busy": "2021-04-04T22:41:42.937532Z",
     "iopub.status.idle": "2021-04-04T22:41:42.949310Z",
     "shell.execute_reply": "2021-04-04T22:41:42.950206Z"
    },
    "papermill": {
     "duration": 0.055893,
     "end_time": "2021-04-04T22:41:42.950522",
     "exception": false,
     "start_time": "2021-04-04T22:41:42.894629",
     "status": "completed"
    },
    "scrolled": true,
    "tags": []
   },
   "outputs": [],
   "source": [
    "inlier, outlier = working_df[working_df['defects'] == 0], working_df[working_df['defects'] == 1]"
   ]
  },
  {
   "cell_type": "code",
   "execution_count": 16,
   "id": "753c7b03",
   "metadata": {
    "execution": {
     "iopub.execute_input": "2021-04-04T22:41:43.035332Z",
     "iopub.status.busy": "2021-04-04T22:41:43.033971Z",
     "iopub.status.idle": "2021-04-04T22:41:43.039510Z",
     "shell.execute_reply": "2021-04-04T22:41:43.038800Z"
    },
    "papermill": {
     "duration": 0.055295,
     "end_time": "2021-04-04T22:41:43.039820",
     "exception": false,
     "start_time": "2021-04-04T22:41:42.984525",
     "status": "completed"
    },
    "tags": []
   },
   "outputs": [],
   "source": [
    "X_inlier = inlier.copy()\n",
    "y_inlier = X_inlier.pop('defects')\n",
    "X_outlier = outlier.copy()\n",
    "y_outlier = X_outlier.pop('defects')"
   ]
  },
  {
   "cell_type": "code",
   "execution_count": 17,
   "id": "2ba43193",
   "metadata": {
    "execution": {
     "iopub.execute_input": "2021-04-04T22:41:43.126646Z",
     "iopub.status.busy": "2021-04-04T22:41:43.125107Z",
     "iopub.status.idle": "2021-04-04T22:41:43.129540Z",
     "shell.execute_reply": "2021-04-04T22:41:43.128940Z"
    },
    "papermill": {
     "duration": 0.049808,
     "end_time": "2021-04-04T22:41:43.129752",
     "exception": false,
     "start_time": "2021-04-04T22:41:43.079944",
     "status": "completed"
    },
    "tags": []
   },
   "outputs": [],
   "source": [
    "test_size = dataset_config['test_size']\n",
    "random_state = dataset_config['random_state']\n",
    "\n",
    "X_inlier_train, X_inlier_test, y_inlier_train, y_inlier_test = train_test_split(\n",
    "    X_inlier,\n",
    "    y_inlier,\n",
    "    test_size=test_size,\n",
    "    random_state=random_state\n",
    ")"
   ]
  },
  {
   "cell_type": "code",
   "execution_count": 18,
   "id": "0b7582ca",
   "metadata": {
    "execution": {
     "iopub.execute_input": "2021-04-04T22:41:43.225986Z",
     "iopub.status.busy": "2021-04-04T22:41:43.223459Z",
     "iopub.status.idle": "2021-04-04T22:41:43.231738Z",
     "shell.execute_reply": "2021-04-04T22:41:43.229371Z"
    },
    "papermill": {
     "duration": 0.061575,
     "end_time": "2021-04-04T22:41:43.232256",
     "exception": false,
     "start_time": "2021-04-04T22:41:43.170681",
     "status": "completed"
    },
    "tags": []
   },
   "outputs": [],
   "source": [
    "test_outlier_size = dataset_config['test_outlier_size']\n",
    "if test_outlier_size > 0.0:\n",
    "    X_outlier_train, X_outlier_test, y_outlier_train, y_outlier_test = train_test_split(\n",
    "        X_outlier,\n",
    "        y_outlier,\n",
    "        test_size=test_outlier_size,\n",
    "        random_state=random_state\n",
    "    )\n",
    "else:\n",
    "    X_outlier_train, y_outlier_train = pd.DataFrame(columns=X_outlier.columns), pd.Series(dtype='int64')\n",
    "    X_outlier_test, y_outlier_test = X_outlier.copy(), y_outlier.copy()"
   ]
  },
  {
   "cell_type": "code",
   "execution_count": 19,
   "id": "c34363db",
   "metadata": {
    "execution": {
     "iopub.execute_input": "2021-04-04T22:41:43.335485Z",
     "iopub.status.busy": "2021-04-04T22:41:43.334084Z",
     "iopub.status.idle": "2021-04-04T22:41:43.340652Z",
     "shell.execute_reply": "2021-04-04T22:41:43.341428Z"
    },
    "papermill": {
     "duration": 0.062631,
     "end_time": "2021-04-04T22:41:43.341781",
     "exception": false,
     "start_time": "2021-04-04T22:41:43.279150",
     "status": "completed"
    },
    "tags": []
   },
   "outputs": [],
   "source": [
    "X_train, y_train = pd.concat([X_inlier_train, X_outlier_train], ignore_index=True), pd.concat([y_inlier_train, y_outlier_train], ignore_index=True)\n",
    "X_test, y_test = pd.concat([X_inlier_test, X_outlier_test], ignore_index=True), pd.concat([y_inlier_test, y_outlier_test], ignore_index=True)"
   ]
  },
  {
   "cell_type": "markdown",
   "id": "7cde7309",
   "metadata": {
    "papermill": {
     "duration": 0.032303,
     "end_time": "2021-04-04T22:41:43.415068",
     "exception": false,
     "start_time": "2021-04-04T22:41:43.382765",
     "status": "completed"
    },
    "tags": []
   },
   "source": [
    "# Model"
   ]
  },
  {
   "cell_type": "code",
   "execution_count": 20,
   "id": "2b12a415",
   "metadata": {
    "execution": {
     "iopub.execute_input": "2021-04-04T22:41:43.521481Z",
     "iopub.status.busy": "2021-04-04T22:41:43.520400Z",
     "iopub.status.idle": "2021-04-04T22:41:43.526714Z",
     "shell.execute_reply": "2021-04-04T22:41:43.529615Z"
    },
    "papermill": {
     "duration": 0.072684,
     "end_time": "2021-04-04T22:41:43.530159",
     "exception": false,
     "start_time": "2021-04-04T22:41:43.457475",
     "status": "completed"
    },
    "tags": []
   },
   "outputs": [],
   "source": [
    "from math import sqrt\n",
    "\n",
    "\n",
    "class KNNDataDescription:\n",
    "    def __init__(self, k=5, outlier_threshold=1.0):\n",
    "        self.k = k\n",
    "        self.outlier_threshold = outlier_threshold\n",
    "        self.X = []\n",
    "    \n",
    "    def fit(self, X):\n",
    "        self.X = [features.to_list() for index, features in X.iterrows()]\n",
    "\n",
    "    def predict(self, entries):\n",
    "        return [self.predict_entry(features.to_list()) for index, features in entries.iterrows()]\n",
    "    \n",
    "    def predict_entry(self, entry):\n",
    "        kth_neighbor, kth_distance = self.get_kth_neighbor(entry, self.k)\n",
    "        kth_kth_neighbor, kth_kth_distance = self.get_kth_neighbor(kth_neighbor, self.k + 1)\n",
    "\n",
    "        outlier_score = kth_distance / (kth_kth_distance + 0.000001)\n",
    "\n",
    "        return 1 if outlier_score < self.outlier_threshold else -1\n",
    "        \n",
    "    def euclidean_distance(self, features1, features2):\n",
    "        distance = 0.0\n",
    "        for feat1, feat2 in zip(features1, features2):\n",
    "            distance += (feat1 - feat2)**2\n",
    "                \n",
    "        return sqrt(distance)\n",
    "\n",
    "    def get_neighbors(self, entry, k):\n",
    "        distance_to_data_points = [\n",
    "            (data_point, self.euclidean_distance(entry, data_point))\n",
    "            for data_point in self.X\n",
    "        ]\n",
    "        sorted_by_distance = sorted(distance_to_data_points, key=lambda tup: tup[1])\n",
    "        neighbors = sorted_by_distance[:k]\n",
    "        return neighbors\n",
    "\n",
    "    def get_kth_neighbor(self, entry, k):\n",
    "        neighbors = self.get_neighbors(entry, k)\n",
    "        return neighbors[-1]\n"
   ]
  },
  {
   "cell_type": "code",
   "execution_count": 21,
   "id": "1fa9ec1c",
   "metadata": {
    "execution": {
     "iopub.execute_input": "2021-04-04T22:41:43.627183Z",
     "iopub.status.busy": "2021-04-04T22:41:43.625906Z",
     "iopub.status.idle": "2021-04-04T22:41:43.661116Z",
     "shell.execute_reply": "2021-04-04T22:41:43.658731Z"
    },
    "papermill": {
     "duration": 0.084542,
     "end_time": "2021-04-04T22:41:43.661552",
     "exception": false,
     "start_time": "2021-04-04T22:41:43.577010",
     "status": "completed"
    },
    "tags": []
   },
   "outputs": [],
   "source": [
    "from sklearn.svm import OneClassSVM\n",
    "\n",
    "\n",
    "models = {\n",
    "    'oneclasssvm': OneClassSVM,\n",
    "    'knndatadescription': KNNDataDescription,\n",
    "}"
   ]
  },
  {
   "cell_type": "code",
   "execution_count": 22,
   "id": "4d72a0b1",
   "metadata": {
    "execution": {
     "iopub.execute_input": "2021-04-04T22:41:43.748365Z",
     "iopub.status.busy": "2021-04-04T22:41:43.744058Z",
     "iopub.status.idle": "2021-04-04T22:41:43.750455Z",
     "shell.execute_reply": "2021-04-04T22:41:43.751685Z"
    },
    "papermill": {
     "duration": 0.053643,
     "end_time": "2021-04-04T22:41:43.751999",
     "exception": false,
     "start_time": "2021-04-04T22:41:43.698356",
     "status": "completed"
    },
    "scrolled": true,
    "tags": []
   },
   "outputs": [],
   "source": [
    "model_cls = models[model_config['model_type']]\n",
    "model = model_cls(**model_config['hyperparameters'])"
   ]
  },
  {
   "cell_type": "markdown",
   "id": "e00cff3b",
   "metadata": {
    "papermill": {
     "duration": 0.043806,
     "end_time": "2021-04-04T22:41:43.841298",
     "exception": false,
     "start_time": "2021-04-04T22:41:43.797492",
     "status": "completed"
    },
    "tags": []
   },
   "source": [
    "# Fit"
   ]
  },
  {
   "cell_type": "code",
   "execution_count": 23,
   "id": "8b2ded89",
   "metadata": {
    "execution": {
     "iopub.execute_input": "2021-04-04T22:41:43.949636Z",
     "iopub.status.busy": "2021-04-04T22:41:43.948546Z",
     "iopub.status.idle": "2021-04-04T22:41:43.983907Z",
     "shell.execute_reply": "2021-04-04T22:41:43.981393Z"
    },
    "papermill": {
     "duration": 0.08875,
     "end_time": "2021-04-04T22:41:43.984090",
     "exception": false,
     "start_time": "2021-04-04T22:41:43.895340",
     "status": "completed"
    },
    "tags": []
   },
   "outputs": [
    {
     "data": {
      "text/plain": [
       "OneClassSVM()"
      ]
     },
     "execution_count": 23,
     "metadata": {},
     "output_type": "execute_result"
    }
   ],
   "source": [
    "model.fit(X_train)"
   ]
  },
  {
   "cell_type": "markdown",
   "id": "f99999f7",
   "metadata": {
    "papermill": {
     "duration": 0.033801,
     "end_time": "2021-04-04T22:41:44.050616",
     "exception": false,
     "start_time": "2021-04-04T22:41:44.016815",
     "status": "completed"
    },
    "tags": []
   },
   "source": [
    "# Predict"
   ]
  },
  {
   "cell_type": "code",
   "execution_count": 24,
   "id": "6536fbf7",
   "metadata": {
    "execution": {
     "iopub.execute_input": "2021-04-04T22:41:44.127354Z",
     "iopub.status.busy": "2021-04-04T22:41:44.126411Z",
     "iopub.status.idle": "2021-04-04T22:41:44.152015Z",
     "shell.execute_reply": "2021-04-04T22:41:44.152715Z"
    },
    "papermill": {
     "duration": 0.062921,
     "end_time": "2021-04-04T22:41:44.152924",
     "exception": false,
     "start_time": "2021-04-04T22:41:44.090003",
     "status": "completed"
    },
    "tags": []
   },
   "outputs": [],
   "source": [
    "predictions = model.predict(X_test)"
   ]
  },
  {
   "cell_type": "markdown",
   "id": "aa1c9881",
   "metadata": {
    "papermill": {
     "duration": 0.051943,
     "end_time": "2021-04-04T22:41:44.264227",
     "exception": false,
     "start_time": "2021-04-04T22:41:44.212284",
     "status": "completed"
    },
    "tags": []
   },
   "source": [
    "# Evaluate"
   ]
  },
  {
   "cell_type": "code",
   "execution_count": 25,
   "id": "894f0f04",
   "metadata": {
    "execution": {
     "iopub.execute_input": "2021-04-04T22:41:44.371487Z",
     "iopub.status.busy": "2021-04-04T22:41:44.370194Z",
     "iopub.status.idle": "2021-04-04T22:41:44.373632Z",
     "shell.execute_reply": "2021-04-04T22:41:44.374214Z"
    },
    "papermill": {
     "duration": 0.056771,
     "end_time": "2021-04-04T22:41:44.374405",
     "exception": false,
     "start_time": "2021-04-04T22:41:44.317634",
     "status": "completed"
    },
    "tags": []
   },
   "outputs": [],
   "source": [
    "from sklearn.metrics import f1_score"
   ]
  },
  {
   "cell_type": "code",
   "execution_count": 26,
   "id": "211744d3",
   "metadata": {
    "execution": {
     "iopub.execute_input": "2021-04-04T22:41:44.458147Z",
     "iopub.status.busy": "2021-04-04T22:41:44.457088Z",
     "iopub.status.idle": "2021-04-04T22:41:44.459377Z",
     "shell.execute_reply": "2021-04-04T22:41:44.459968Z"
    },
    "papermill": {
     "duration": 0.044952,
     "end_time": "2021-04-04T22:41:44.460139",
     "exception": false,
     "start_time": "2021-04-04T22:41:44.415187",
     "status": "completed"
    },
    "tags": []
   },
   "outputs": [],
   "source": [
    "y_test = y_test.replace([0, 1], [1, -1])"
   ]
  },
  {
   "cell_type": "code",
   "execution_count": 27,
   "id": "d68a9204",
   "metadata": {
    "execution": {
     "iopub.execute_input": "2021-04-04T22:41:44.533697Z",
     "iopub.status.busy": "2021-04-04T22:41:44.532792Z",
     "iopub.status.idle": "2021-04-04T22:41:44.535504Z",
     "shell.execute_reply": "2021-04-04T22:41:44.534869Z"
    },
    "papermill": {
     "duration": 0.045346,
     "end_time": "2021-04-04T22:41:44.535650",
     "exception": false,
     "start_time": "2021-04-04T22:41:44.490304",
     "status": "completed"
    },
    "tags": []
   },
   "outputs": [],
   "source": [
    "def evaluate(truths, predictions, pos_label, neg_label):\n",
    "    TP = 0\n",
    "    FP = 0\n",
    "    TN = 0\n",
    "    FN = 0\n",
    "\n",
    "    for truth, pred in zip(truths, predictions): \n",
    "        if truth == pred == pos_label:\n",
    "           TP += 1\n",
    "        elif pred == pos_label and truth == neg_label:\n",
    "           FP += 1\n",
    "        elif truth == pred == neg_label:\n",
    "           TN += 1\n",
    "        elif pred == neg_label and truth == pos_label:\n",
    "           FN += 1\n",
    "\n",
    "    precision = TP / (TP + FP)\n",
    "    sensitivity = TP / (TP + FN)\n",
    "    \n",
    "    return {\n",
    "        'true_pos': TP,\n",
    "        'false_pos': FP,\n",
    "        'false_neg': FN,\n",
    "        'true_neg': TN,\n",
    "        'precision': precision,\n",
    "        'sensitivity': sensitivity,\n",
    "        'f1': (2 * (precision * sensitivity)) / (precision + sensitivity)\n",
    "    }\n",
    "\n",
    "score = evaluate(y_test, predictions, pos_label=-1, neg_label=1)"
   ]
  },
  {
   "cell_type": "markdown",
   "id": "93596516",
   "metadata": {
    "papermill": {
     "duration": 0.029568,
     "end_time": "2021-04-04T22:41:44.593907",
     "exception": false,
     "start_time": "2021-04-04T22:41:44.564339",
     "status": "completed"
    },
    "tags": []
   },
   "source": [
    "# Report"
   ]
  },
  {
   "cell_type": "code",
   "execution_count": 28,
   "id": "bea5fba1",
   "metadata": {
    "execution": {
     "iopub.execute_input": "2021-04-04T22:41:44.659938Z",
     "iopub.status.busy": "2021-04-04T22:41:44.658977Z",
     "iopub.status.idle": "2021-04-04T22:41:44.661822Z",
     "shell.execute_reply": "2021-04-04T22:41:44.662972Z"
    },
    "papermill": {
     "duration": 0.042023,
     "end_time": "2021-04-04T22:41:44.663334",
     "exception": false,
     "start_time": "2021-04-04T22:41:44.621311",
     "status": "completed"
    },
    "tags": []
   },
   "outputs": [],
   "source": [
    "import csv\n",
    "\n",
    "\n",
    "dataset_config_name = DATASET_CONFIG_PATH.split('/')[-1].split('.')[0]\n",
    "model_config_name = MODEL_CONFIG_PATH.split('/')[-1].split('.')[0]\n",
    "configuration = f\"dataset_{dataset_config_name}-model_{model_config_name}\"\n",
    "\n",
    "with open('results.csv', 'a') as f:\n",
    "    report = dict({'configuration': configuration}, **score)\n",
    "    writer = csv.DictWriter(f, report.keys())\n",
    "    writer.writerow(report)"
   ]
  }
 ],
 "metadata": {
  "celltoolbar": "Tags",
  "kernelspec": {
   "display_name": "Python 3",
   "language": "python",
   "name": "python3"
  },
  "language_info": {
   "codemirror_mode": {
    "name": "ipython",
    "version": 3
   },
   "file_extension": ".py",
   "mimetype": "text/x-python",
   "name": "python",
   "nbconvert_exporter": "python",
   "pygments_lexer": "ipython3",
   "version": "3.9.1"
  },
  "papermill": {
   "default_parameters": {},
   "duration": 8.092271,
   "end_time": "2021-04-04T22:41:46.505614",
   "environment_variables": {},
   "exception": null,
   "input_path": "main.ipynb",
   "output_path": "runs/dataset_000036-model_000004.ipynb",
   "parameters": {
    "DATASET_CONFIG_PATH": "config/dataset/000036.json",
    "MODEL_CONFIG_PATH": "config/model/000004.json",
    "PROFILE_REPORTING": false
   },
   "start_time": "2021-04-04T22:41:38.413343",
   "version": "2.3.3"
  }
 },
 "nbformat": 4,
 "nbformat_minor": 5
}