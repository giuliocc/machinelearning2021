{
 "cells": [
  {
   "cell_type": "markdown",
   "id": "51c71c25",
   "metadata": {
    "papermill": {
     "duration": 0.031261,
     "end_time": "2021-04-04T23:07:05.725212",
     "exception": false,
     "start_time": "2021-04-04T23:07:05.693951",
     "status": "completed"
    },
    "tags": []
   },
   "source": [
    "# Parametrizing"
   ]
  },
  {
   "cell_type": "code",
   "execution_count": 1,
   "id": "3b136394",
   "metadata": {
    "execution": {
     "iopub.execute_input": "2021-04-04T23:07:05.781789Z",
     "iopub.status.busy": "2021-04-04T23:07:05.780927Z",
     "iopub.status.idle": "2021-04-04T23:07:05.783529Z",
     "shell.execute_reply": "2021-04-04T23:07:05.782893Z"
    },
    "papermill": {
     "duration": 0.032293,
     "end_time": "2021-04-04T23:07:05.783652",
     "exception": false,
     "start_time": "2021-04-04T23:07:05.751359",
     "status": "completed"
    },
    "tags": [
     "parameters"
    ]
   },
   "outputs": [],
   "source": [
    "DATASET_CONFIG_PATH = 'config/dataset/kc1_001.json'\n",
    "MODEL_CONFIG_PATH = 'config/model/knndd_001.json'\n",
    "PROFILE_REPORTING = False"
   ]
  },
  {
   "cell_type": "code",
   "execution_count": 2,
   "id": "3a07c9f1",
   "metadata": {
    "execution": {
     "iopub.execute_input": "2021-04-04T23:07:05.829253Z",
     "iopub.status.busy": "2021-04-04T23:07:05.828382Z",
     "iopub.status.idle": "2021-04-04T23:07:05.831096Z",
     "shell.execute_reply": "2021-04-04T23:07:05.830502Z"
    },
    "papermill": {
     "duration": 0.027107,
     "end_time": "2021-04-04T23:07:05.831217",
     "exception": false,
     "start_time": "2021-04-04T23:07:05.804110",
     "status": "completed"
    },
    "tags": [
     "injected-parameters"
    ]
   },
   "outputs": [],
   "source": [
    "# Parameters\n",
    "DATASET_CONFIG_PATH = \"config/dataset/000085.json\"\n",
    "MODEL_CONFIG_PATH = \"config/model/000003.json\"\n",
    "PROFILE_REPORTING = False\n"
   ]
  },
  {
   "cell_type": "code",
   "execution_count": 3,
   "id": "b80f2a10",
   "metadata": {
    "execution": {
     "iopub.execute_input": "2021-04-04T23:07:05.876356Z",
     "iopub.status.busy": "2021-04-04T23:07:05.875632Z",
     "iopub.status.idle": "2021-04-04T23:07:05.877929Z",
     "shell.execute_reply": "2021-04-04T23:07:05.878421Z"
    },
    "papermill": {
     "duration": 0.026467,
     "end_time": "2021-04-04T23:07:05.878570",
     "exception": false,
     "start_time": "2021-04-04T23:07:05.852103",
     "status": "completed"
    },
    "tags": []
   },
   "outputs": [],
   "source": [
    "import json\n",
    "\n",
    "\n",
    "with open(DATASET_CONFIG_PATH) as f:\n",
    "    dataset_config = json.load(f)\n",
    "\n",
    "with open(MODEL_CONFIG_PATH) as f:\n",
    "    model_config = json.load(f)"
   ]
  },
  {
   "cell_type": "markdown",
   "id": "9a4b0e2d",
   "metadata": {
    "papermill": {
     "duration": 0.019443,
     "end_time": "2021-04-04T23:07:05.918888",
     "exception": false,
     "start_time": "2021-04-04T23:07:05.899445",
     "status": "completed"
    },
    "tags": []
   },
   "source": [
    "# Profiling"
   ]
  },
  {
   "cell_type": "code",
   "execution_count": 4,
   "id": "a3e0289b",
   "metadata": {
    "execution": {
     "iopub.execute_input": "2021-04-04T23:07:05.962340Z",
     "iopub.status.busy": "2021-04-04T23:07:05.961672Z",
     "iopub.status.idle": "2021-04-04T23:07:07.238729Z",
     "shell.execute_reply": "2021-04-04T23:07:07.237860Z"
    },
    "papermill": {
     "duration": 1.300415,
     "end_time": "2021-04-04T23:07:07.238896",
     "exception": false,
     "start_time": "2021-04-04T23:07:05.938481",
     "status": "completed"
    },
    "tags": []
   },
   "outputs": [],
   "source": [
    "import pandas as pd\n",
    "from pandas_profiling import ProfileReport"
   ]
  },
  {
   "cell_type": "code",
   "execution_count": 5,
   "id": "ee6c0666",
   "metadata": {
    "execution": {
     "iopub.execute_input": "2021-04-04T23:07:07.293591Z",
     "iopub.status.busy": "2021-04-04T23:07:07.292937Z",
     "iopub.status.idle": "2021-04-04T23:07:07.302366Z",
     "shell.execute_reply": "2021-04-04T23:07:07.302842Z"
    },
    "papermill": {
     "duration": 0.034159,
     "end_time": "2021-04-04T23:07:07.302988",
     "exception": false,
     "start_time": "2021-04-04T23:07:07.268829",
     "status": "completed"
    },
    "tags": []
   },
   "outputs": [],
   "source": [
    "df = pd.read_csv(dataset_config['dataset_path'])"
   ]
  },
  {
   "cell_type": "code",
   "execution_count": 6,
   "id": "7eca6c4a",
   "metadata": {
    "execution": {
     "iopub.execute_input": "2021-04-04T23:07:07.366937Z",
     "iopub.status.busy": "2021-04-04T23:07:07.354314Z",
     "iopub.status.idle": "2021-04-04T23:07:07.370062Z",
     "shell.execute_reply": "2021-04-04T23:07:07.370822Z"
    },
    "papermill": {
     "duration": 0.0443,
     "end_time": "2021-04-04T23:07:07.371036",
     "exception": false,
     "start_time": "2021-04-04T23:07:07.326736",
     "status": "completed"
    },
    "tags": []
   },
   "outputs": [
    {
     "name": "stdout",
     "output_type": "stream",
     "text": [
      "<class 'pandas.core.frame.DataFrame'>\n",
      "RangeIndex: 498 entries, 0 to 497\n",
      "Data columns (total 23 columns):\n",
      " #   Column             Non-Null Count  Dtype  \n",
      "---  ------             --------------  -----  \n",
      " 0   id                 498 non-null    int64  \n",
      " 1   loc                498 non-null    float64\n",
      " 2   v(g)               498 non-null    float64\n",
      " 3   ev(g)              498 non-null    float64\n",
      " 4   iv(g)              498 non-null    float64\n",
      " 5   n                  498 non-null    float64\n",
      " 6   v                  498 non-null    float64\n",
      " 7   l                  498 non-null    float64\n",
      " 8   d                  498 non-null    float64\n",
      " 9   i                  498 non-null    float64\n",
      " 10  e                  498 non-null    float64\n",
      " 11  b                  498 non-null    float64\n",
      " 12  t                  498 non-null    float64\n",
      " 13  lOCode             498 non-null    int64  \n",
      " 14  lOComment          498 non-null    int64  \n",
      " 15  lOBlank            498 non-null    int64  \n",
      " 16  locCodeAndComment  498 non-null    int64  \n",
      " 17  uniq_Op            498 non-null    float64\n",
      " 18  uniq_Opnd          498 non-null    float64\n",
      " 19  total_Op           498 non-null    float64\n",
      " 20  total_Opnd         498 non-null    float64\n",
      " 21  branchCount        498 non-null    float64\n",
      " 22  defects            498 non-null    bool   \n",
      "dtypes: bool(1), float64(17), int64(5)\n",
      "memory usage: 86.2 KB\n"
     ]
    }
   ],
   "source": [
    "df.info()"
   ]
  },
  {
   "cell_type": "code",
   "execution_count": 7,
   "id": "3638e5e8",
   "metadata": {
    "execution": {
     "iopub.execute_input": "2021-04-04T23:07:07.426025Z",
     "iopub.status.busy": "2021-04-04T23:07:07.425100Z",
     "iopub.status.idle": "2021-04-04T23:07:07.455283Z",
     "shell.execute_reply": "2021-04-04T23:07:07.456011Z"
    },
    "papermill": {
     "duration": 0.061856,
     "end_time": "2021-04-04T23:07:07.456218",
     "exception": false,
     "start_time": "2021-04-04T23:07:07.394362",
     "status": "completed"
    },
    "tags": []
   },
   "outputs": [
    {
     "data": {
      "text/html": [
       "<div>\n",
       "<style scoped>\n",
       "    .dataframe tbody tr th:only-of-type {\n",
       "        vertical-align: middle;\n",
       "    }\n",
       "\n",
       "    .dataframe tbody tr th {\n",
       "        vertical-align: top;\n",
       "    }\n",
       "\n",
       "    .dataframe thead th {\n",
       "        text-align: right;\n",
       "    }\n",
       "</style>\n",
       "<table border=\"1\" class=\"dataframe\">\n",
       "  <thead>\n",
       "    <tr style=\"text-align: right;\">\n",
       "      <th></th>\n",
       "      <th>id</th>\n",
       "      <th>loc</th>\n",
       "      <th>v(g)</th>\n",
       "      <th>ev(g)</th>\n",
       "      <th>iv(g)</th>\n",
       "      <th>n</th>\n",
       "      <th>v</th>\n",
       "      <th>l</th>\n",
       "      <th>d</th>\n",
       "      <th>i</th>\n",
       "      <th>...</th>\n",
       "      <th>lOCode</th>\n",
       "      <th>lOComment</th>\n",
       "      <th>lOBlank</th>\n",
       "      <th>locCodeAndComment</th>\n",
       "      <th>uniq_Op</th>\n",
       "      <th>uniq_Opnd</th>\n",
       "      <th>total_Op</th>\n",
       "      <th>total_Opnd</th>\n",
       "      <th>branchCount</th>\n",
       "      <th>defects</th>\n",
       "    </tr>\n",
       "  </thead>\n",
       "  <tbody>\n",
       "    <tr>\n",
       "      <th>0</th>\n",
       "      <td>1</td>\n",
       "      <td>1.1</td>\n",
       "      <td>1.4</td>\n",
       "      <td>1.4</td>\n",
       "      <td>1.4</td>\n",
       "      <td>1.3</td>\n",
       "      <td>1.30</td>\n",
       "      <td>1.30</td>\n",
       "      <td>1.30</td>\n",
       "      <td>1.30</td>\n",
       "      <td>...</td>\n",
       "      <td>2</td>\n",
       "      <td>2</td>\n",
       "      <td>2</td>\n",
       "      <td>2</td>\n",
       "      <td>1.2</td>\n",
       "      <td>1.2</td>\n",
       "      <td>1.2</td>\n",
       "      <td>1.2</td>\n",
       "      <td>1.4</td>\n",
       "      <td>False</td>\n",
       "    </tr>\n",
       "    <tr>\n",
       "      <th>1</th>\n",
       "      <td>2</td>\n",
       "      <td>1.0</td>\n",
       "      <td>1.0</td>\n",
       "      <td>1.0</td>\n",
       "      <td>1.0</td>\n",
       "      <td>1.0</td>\n",
       "      <td>1.00</td>\n",
       "      <td>1.00</td>\n",
       "      <td>1.00</td>\n",
       "      <td>1.00</td>\n",
       "      <td>...</td>\n",
       "      <td>1</td>\n",
       "      <td>1</td>\n",
       "      <td>1</td>\n",
       "      <td>1</td>\n",
       "      <td>1.0</td>\n",
       "      <td>1.0</td>\n",
       "      <td>1.0</td>\n",
       "      <td>1.0</td>\n",
       "      <td>1.0</td>\n",
       "      <td>True</td>\n",
       "    </tr>\n",
       "    <tr>\n",
       "      <th>2</th>\n",
       "      <td>3</td>\n",
       "      <td>24.0</td>\n",
       "      <td>5.0</td>\n",
       "      <td>1.0</td>\n",
       "      <td>3.0</td>\n",
       "      <td>63.0</td>\n",
       "      <td>309.13</td>\n",
       "      <td>0.11</td>\n",
       "      <td>9.50</td>\n",
       "      <td>32.54</td>\n",
       "      <td>...</td>\n",
       "      <td>1</td>\n",
       "      <td>0</td>\n",
       "      <td>6</td>\n",
       "      <td>0</td>\n",
       "      <td>15.0</td>\n",
       "      <td>15.0</td>\n",
       "      <td>44.0</td>\n",
       "      <td>19.0</td>\n",
       "      <td>9.0</td>\n",
       "      <td>False</td>\n",
       "    </tr>\n",
       "    <tr>\n",
       "      <th>3</th>\n",
       "      <td>4</td>\n",
       "      <td>20.0</td>\n",
       "      <td>4.0</td>\n",
       "      <td>4.0</td>\n",
       "      <td>2.0</td>\n",
       "      <td>47.0</td>\n",
       "      <td>215.49</td>\n",
       "      <td>0.06</td>\n",
       "      <td>16.00</td>\n",
       "      <td>13.47</td>\n",
       "      <td>...</td>\n",
       "      <td>0</td>\n",
       "      <td>0</td>\n",
       "      <td>3</td>\n",
       "      <td>0</td>\n",
       "      <td>16.0</td>\n",
       "      <td>8.0</td>\n",
       "      <td>31.0</td>\n",
       "      <td>16.0</td>\n",
       "      <td>7.0</td>\n",
       "      <td>False</td>\n",
       "    </tr>\n",
       "    <tr>\n",
       "      <th>4</th>\n",
       "      <td>5</td>\n",
       "      <td>24.0</td>\n",
       "      <td>6.0</td>\n",
       "      <td>6.0</td>\n",
       "      <td>2.0</td>\n",
       "      <td>72.0</td>\n",
       "      <td>346.13</td>\n",
       "      <td>0.06</td>\n",
       "      <td>17.33</td>\n",
       "      <td>19.97</td>\n",
       "      <td>...</td>\n",
       "      <td>0</td>\n",
       "      <td>0</td>\n",
       "      <td>3</td>\n",
       "      <td>0</td>\n",
       "      <td>16.0</td>\n",
       "      <td>12.0</td>\n",
       "      <td>46.0</td>\n",
       "      <td>26.0</td>\n",
       "      <td>11.0</td>\n",
       "      <td>False</td>\n",
       "    </tr>\n",
       "  </tbody>\n",
       "</table>\n",
       "<p>5 rows × 23 columns</p>\n",
       "</div>"
      ],
      "text/plain": [
       "   id   loc  v(g)  ev(g)  iv(g)     n       v     l      d      i  ...  \\\n",
       "0   1   1.1   1.4    1.4    1.4   1.3    1.30  1.30   1.30   1.30  ...   \n",
       "1   2   1.0   1.0    1.0    1.0   1.0    1.00  1.00   1.00   1.00  ...   \n",
       "2   3  24.0   5.0    1.0    3.0  63.0  309.13  0.11   9.50  32.54  ...   \n",
       "3   4  20.0   4.0    4.0    2.0  47.0  215.49  0.06  16.00  13.47  ...   \n",
       "4   5  24.0   6.0    6.0    2.0  72.0  346.13  0.06  17.33  19.97  ...   \n",
       "\n",
       "   lOCode  lOComment  lOBlank  locCodeAndComment  uniq_Op  uniq_Opnd  \\\n",
       "0       2          2        2                  2      1.2        1.2   \n",
       "1       1          1        1                  1      1.0        1.0   \n",
       "2       1          0        6                  0     15.0       15.0   \n",
       "3       0          0        3                  0     16.0        8.0   \n",
       "4       0          0        3                  0     16.0       12.0   \n",
       "\n",
       "   total_Op  total_Opnd  branchCount  defects  \n",
       "0       1.2         1.2          1.4    False  \n",
       "1       1.0         1.0          1.0     True  \n",
       "2      44.0        19.0          9.0    False  \n",
       "3      31.0        16.0          7.0    False  \n",
       "4      46.0        26.0         11.0    False  \n",
       "\n",
       "[5 rows x 23 columns]"
      ]
     },
     "execution_count": 7,
     "metadata": {},
     "output_type": "execute_result"
    }
   ],
   "source": [
    "df.head()"
   ]
  },
  {
   "cell_type": "code",
   "execution_count": 8,
   "id": "733e95eb",
   "metadata": {
    "execution": {
     "iopub.execute_input": "2021-04-04T23:07:07.511746Z",
     "iopub.status.busy": "2021-04-04T23:07:07.511032Z",
     "iopub.status.idle": "2021-04-04T23:07:07.513539Z",
     "shell.execute_reply": "2021-04-04T23:07:07.513032Z"
    },
    "papermill": {
     "duration": 0.028691,
     "end_time": "2021-04-04T23:07:07.513660",
     "exception": false,
     "start_time": "2021-04-04T23:07:07.484969",
     "status": "completed"
    },
    "tags": []
   },
   "outputs": [],
   "source": [
    "del df['id']"
   ]
  },
  {
   "cell_type": "code",
   "execution_count": 9,
   "id": "6ff6f5b0",
   "metadata": {
    "execution": {
     "iopub.execute_input": "2021-04-04T23:07:07.561539Z",
     "iopub.status.busy": "2021-04-04T23:07:07.560770Z",
     "iopub.status.idle": "2021-04-04T23:07:07.563284Z",
     "shell.execute_reply": "2021-04-04T23:07:07.563956Z"
    },
    "papermill": {
     "duration": 0.028959,
     "end_time": "2021-04-04T23:07:07.564147",
     "exception": false,
     "start_time": "2021-04-04T23:07:07.535188",
     "status": "completed"
    },
    "tags": []
   },
   "outputs": [],
   "source": [
    "if PROFILE_REPORTING:\n",
    "    ProfileReport(df).to_widgets()"
   ]
  },
  {
   "cell_type": "markdown",
   "id": "1deaf3f0",
   "metadata": {
    "papermill": {
     "duration": 0.020974,
     "end_time": "2021-04-04T23:07:07.612459",
     "exception": false,
     "start_time": "2021-04-04T23:07:07.591485",
     "status": "completed"
    },
    "tags": []
   },
   "source": [
    "# Preprocess"
   ]
  },
  {
   "cell_type": "code",
   "execution_count": 10,
   "id": "1513e563",
   "metadata": {
    "execution": {
     "iopub.execute_input": "2021-04-04T23:07:07.661487Z",
     "iopub.status.busy": "2021-04-04T23:07:07.660486Z",
     "iopub.status.idle": "2021-04-04T23:07:07.662793Z",
     "shell.execute_reply": "2021-04-04T23:07:07.663713Z"
    },
    "papermill": {
     "duration": 0.03016,
     "end_time": "2021-04-04T23:07:07.663938",
     "exception": false,
     "start_time": "2021-04-04T23:07:07.633778",
     "status": "completed"
    },
    "tags": []
   },
   "outputs": [],
   "source": [
    "working_df = df.copy()"
   ]
  },
  {
   "cell_type": "code",
   "execution_count": 11,
   "id": "3b26d675",
   "metadata": {
    "execution": {
     "iopub.execute_input": "2021-04-04T23:07:07.716348Z",
     "iopub.status.busy": "2021-04-04T23:07:07.715513Z",
     "iopub.status.idle": "2021-04-04T23:07:07.719824Z",
     "shell.execute_reply": "2021-04-04T23:07:07.718409Z"
    },
    "papermill": {
     "duration": 0.033081,
     "end_time": "2021-04-04T23:07:07.720050",
     "exception": false,
     "start_time": "2021-04-04T23:07:07.686969",
     "status": "completed"
    },
    "tags": []
   },
   "outputs": [],
   "source": [
    "working_df['defects'] = working_df['defects'].replace([False, True], [0, 1])"
   ]
  },
  {
   "cell_type": "code",
   "execution_count": 12,
   "id": "eb48604f",
   "metadata": {
    "execution": {
     "iopub.execute_input": "2021-04-04T23:07:07.779595Z",
     "iopub.status.busy": "2021-04-04T23:07:07.778794Z",
     "iopub.status.idle": "2021-04-04T23:07:07.782257Z",
     "shell.execute_reply": "2021-04-04T23:07:07.781436Z"
    },
    "papermill": {
     "duration": 0.031309,
     "end_time": "2021-04-04T23:07:07.782422",
     "exception": false,
     "start_time": "2021-04-04T23:07:07.751113",
     "status": "completed"
    },
    "tags": []
   },
   "outputs": [],
   "source": [
    "for col in dataset_config['delete_columns']:\n",
    "    del working_df[col]"
   ]
  },
  {
   "cell_type": "code",
   "execution_count": 13,
   "id": "9a17bc29",
   "metadata": {
    "execution": {
     "iopub.execute_input": "2021-04-04T23:07:07.837301Z",
     "iopub.status.busy": "2021-04-04T23:07:07.836416Z",
     "iopub.status.idle": "2021-04-04T23:07:07.848162Z",
     "shell.execute_reply": "2021-04-04T23:07:07.847286Z"
    },
    "papermill": {
     "duration": 0.039393,
     "end_time": "2021-04-04T23:07:07.848357",
     "exception": false,
     "start_time": "2021-04-04T23:07:07.808964",
     "status": "completed"
    },
    "tags": []
   },
   "outputs": [],
   "source": [
    "working_df = working_df.drop_duplicates()"
   ]
  },
  {
   "cell_type": "markdown",
   "id": "a4d52ca6",
   "metadata": {
    "papermill": {
     "duration": 0.02158,
     "end_time": "2021-04-04T23:07:07.899503",
     "exception": false,
     "start_time": "2021-04-04T23:07:07.877923",
     "status": "completed"
    },
    "tags": []
   },
   "source": [
    "# Split"
   ]
  },
  {
   "cell_type": "code",
   "execution_count": 14,
   "id": "3e9ee4b5",
   "metadata": {
    "execution": {
     "iopub.execute_input": "2021-04-04T23:07:07.950032Z",
     "iopub.status.busy": "2021-04-04T23:07:07.948537Z",
     "iopub.status.idle": "2021-04-04T23:07:07.986315Z",
     "shell.execute_reply": "2021-04-04T23:07:07.985154Z"
    },
    "papermill": {
     "duration": 0.064823,
     "end_time": "2021-04-04T23:07:07.986538",
     "exception": false,
     "start_time": "2021-04-04T23:07:07.921715",
     "status": "completed"
    },
    "tags": []
   },
   "outputs": [],
   "source": [
    "from sklearn.model_selection import train_test_split"
   ]
  },
  {
   "cell_type": "code",
   "execution_count": 15,
   "id": "274004ce",
   "metadata": {
    "execution": {
     "iopub.execute_input": "2021-04-04T23:07:08.048174Z",
     "iopub.status.busy": "2021-04-04T23:07:08.047519Z",
     "iopub.status.idle": "2021-04-04T23:07:08.054089Z",
     "shell.execute_reply": "2021-04-04T23:07:08.053135Z"
    },
    "papermill": {
     "duration": 0.034932,
     "end_time": "2021-04-04T23:07:08.054376",
     "exception": false,
     "start_time": "2021-04-04T23:07:08.019444",
     "status": "completed"
    },
    "scrolled": true,
    "tags": []
   },
   "outputs": [],
   "source": [
    "inlier, outlier = working_df[working_df['defects'] == 0], working_df[working_df['defects'] == 1]"
   ]
  },
  {
   "cell_type": "code",
   "execution_count": 16,
   "id": "753c7b03",
   "metadata": {
    "execution": {
     "iopub.execute_input": "2021-04-04T23:07:08.115576Z",
     "iopub.status.busy": "2021-04-04T23:07:08.114668Z",
     "iopub.status.idle": "2021-04-04T23:07:08.116711Z",
     "shell.execute_reply": "2021-04-04T23:07:08.117358Z"
    },
    "papermill": {
     "duration": 0.031362,
     "end_time": "2021-04-04T23:07:08.117536",
     "exception": false,
     "start_time": "2021-04-04T23:07:08.086174",
     "status": "completed"
    },
    "tags": []
   },
   "outputs": [],
   "source": [
    "X_inlier = inlier.copy()\n",
    "y_inlier = X_inlier.pop('defects')\n",
    "X_outlier = outlier.copy()\n",
    "y_outlier = X_outlier.pop('defects')"
   ]
  },
  {
   "cell_type": "code",
   "execution_count": 17,
   "id": "2ba43193",
   "metadata": {
    "execution": {
     "iopub.execute_input": "2021-04-04T23:07:08.176123Z",
     "iopub.status.busy": "2021-04-04T23:07:08.175258Z",
     "iopub.status.idle": "2021-04-04T23:07:08.178060Z",
     "shell.execute_reply": "2021-04-04T23:07:08.178793Z"
    },
    "papermill": {
     "duration": 0.03394,
     "end_time": "2021-04-04T23:07:08.178998",
     "exception": false,
     "start_time": "2021-04-04T23:07:08.145058",
     "status": "completed"
    },
    "tags": []
   },
   "outputs": [],
   "source": [
    "test_size = dataset_config['test_size']\n",
    "random_state = dataset_config['random_state']\n",
    "\n",
    "X_inlier_train, X_inlier_test, y_inlier_train, y_inlier_test = train_test_split(\n",
    "    X_inlier,\n",
    "    y_inlier,\n",
    "    test_size=test_size,\n",
    "    random_state=random_state\n",
    ")"
   ]
  },
  {
   "cell_type": "code",
   "execution_count": 18,
   "id": "0b7582ca",
   "metadata": {
    "execution": {
     "iopub.execute_input": "2021-04-04T23:07:08.239289Z",
     "iopub.status.busy": "2021-04-04T23:07:08.238014Z",
     "iopub.status.idle": "2021-04-04T23:07:08.240762Z",
     "shell.execute_reply": "2021-04-04T23:07:08.241585Z"
    },
    "papermill": {
     "duration": 0.037774,
     "end_time": "2021-04-04T23:07:08.241813",
     "exception": false,
     "start_time": "2021-04-04T23:07:08.204039",
     "status": "completed"
    },
    "tags": []
   },
   "outputs": [],
   "source": [
    "test_outlier_size = dataset_config['test_outlier_size']\n",
    "if test_outlier_size > 0.0:\n",
    "    X_outlier_train, X_outlier_test, y_outlier_train, y_outlier_test = train_test_split(\n",
    "        X_outlier,\n",
    "        y_outlier,\n",
    "        test_size=test_outlier_size,\n",
    "        random_state=random_state\n",
    "    )\n",
    "else:\n",
    "    X_outlier_train, y_outlier_train = pd.DataFrame(columns=X_outlier.columns), pd.Series(dtype='int64')\n",
    "    X_outlier_test, y_outlier_test = X_outlier.copy(), y_outlier.copy()"
   ]
  },
  {
   "cell_type": "code",
   "execution_count": 19,
   "id": "c34363db",
   "metadata": {
    "execution": {
     "iopub.execute_input": "2021-04-04T23:07:08.298784Z",
     "iopub.status.busy": "2021-04-04T23:07:08.297349Z",
     "iopub.status.idle": "2021-04-04T23:07:08.301525Z",
     "shell.execute_reply": "2021-04-04T23:07:08.302228Z"
    },
    "papermill": {
     "duration": 0.036201,
     "end_time": "2021-04-04T23:07:08.302430",
     "exception": false,
     "start_time": "2021-04-04T23:07:08.266229",
     "status": "completed"
    },
    "tags": []
   },
   "outputs": [],
   "source": [
    "X_train, y_train = pd.concat([X_inlier_train, X_outlier_train], ignore_index=True), pd.concat([y_inlier_train, y_outlier_train], ignore_index=True)\n",
    "X_test, y_test = pd.concat([X_inlier_test, X_outlier_test], ignore_index=True), pd.concat([y_inlier_test, y_outlier_test], ignore_index=True)"
   ]
  },
  {
   "cell_type": "markdown",
   "id": "7cde7309",
   "metadata": {
    "papermill": {
     "duration": 0.024261,
     "end_time": "2021-04-04T23:07:08.351636",
     "exception": false,
     "start_time": "2021-04-04T23:07:08.327375",
     "status": "completed"
    },
    "tags": []
   },
   "source": [
    "# Model"
   ]
  },
  {
   "cell_type": "code",
   "execution_count": 20,
   "id": "2b12a415",
   "metadata": {
    "execution": {
     "iopub.execute_input": "2021-04-04T23:07:08.412330Z",
     "iopub.status.busy": "2021-04-04T23:07:08.411377Z",
     "iopub.status.idle": "2021-04-04T23:07:08.414809Z",
     "shell.execute_reply": "2021-04-04T23:07:08.413840Z"
    },
    "papermill": {
     "duration": 0.038933,
     "end_time": "2021-04-04T23:07:08.415049",
     "exception": false,
     "start_time": "2021-04-04T23:07:08.376116",
     "status": "completed"
    },
    "tags": []
   },
   "outputs": [],
   "source": [
    "from math import sqrt\n",
    "\n",
    "\n",
    "class KNNDataDescription:\n",
    "    def __init__(self, k=5, outlier_threshold=1.0):\n",
    "        self.k = k\n",
    "        self.outlier_threshold = outlier_threshold\n",
    "        self.X = []\n",
    "    \n",
    "    def fit(self, X):\n",
    "        self.X = [features.to_list() for index, features in X.iterrows()]\n",
    "\n",
    "    def predict(self, entries):\n",
    "        return [self.predict_entry(features.to_list()) for index, features in entries.iterrows()]\n",
    "    \n",
    "    def predict_entry(self, entry):\n",
    "        kth_neighbor, kth_distance = self.get_kth_neighbor(entry, self.k)\n",
    "        kth_kth_neighbor, kth_kth_distance = self.get_kth_neighbor(kth_neighbor, self.k + 1)\n",
    "\n",
    "        outlier_score = kth_distance / (kth_kth_distance + 0.000001)\n",
    "\n",
    "        return 1 if outlier_score < self.outlier_threshold else -1\n",
    "        \n",
    "    def euclidean_distance(self, features1, features2):\n",
    "        distance = 0.0\n",
    "        for feat1, feat2 in zip(features1, features2):\n",
    "            distance += (feat1 - feat2)**2\n",
    "                \n",
    "        return sqrt(distance)\n",
    "\n",
    "    def get_neighbors(self, entry, k):\n",
    "        distance_to_data_points = [\n",
    "            (data_point, self.euclidean_distance(entry, data_point))\n",
    "            for data_point in self.X\n",
    "        ]\n",
    "        sorted_by_distance = sorted(distance_to_data_points, key=lambda tup: tup[1])\n",
    "        neighbors = sorted_by_distance[:k]\n",
    "        return neighbors\n",
    "\n",
    "    def get_kth_neighbor(self, entry, k):\n",
    "        neighbors = self.get_neighbors(entry, k)\n",
    "        return neighbors[-1]\n"
   ]
  },
  {
   "cell_type": "code",
   "execution_count": 21,
   "id": "1fa9ec1c",
   "metadata": {
    "execution": {
     "iopub.execute_input": "2021-04-04T23:07:08.469890Z",
     "iopub.status.busy": "2021-04-04T23:07:08.469169Z",
     "iopub.status.idle": "2021-04-04T23:07:08.490623Z",
     "shell.execute_reply": "2021-04-04T23:07:08.489626Z"
    },
    "papermill": {
     "duration": 0.048534,
     "end_time": "2021-04-04T23:07:08.490815",
     "exception": false,
     "start_time": "2021-04-04T23:07:08.442281",
     "status": "completed"
    },
    "tags": []
   },
   "outputs": [],
   "source": [
    "from sklearn.svm import OneClassSVM\n",
    "\n",
    "\n",
    "models = {\n",
    "    'oneclasssvm': OneClassSVM,\n",
    "    'knndatadescription': KNNDataDescription,\n",
    "}"
   ]
  },
  {
   "cell_type": "code",
   "execution_count": 22,
   "id": "4d72a0b1",
   "metadata": {
    "execution": {
     "iopub.execute_input": "2021-04-04T23:07:08.550417Z",
     "iopub.status.busy": "2021-04-04T23:07:08.549615Z",
     "iopub.status.idle": "2021-04-04T23:07:08.551876Z",
     "shell.execute_reply": "2021-04-04T23:07:08.552649Z"
    },
    "papermill": {
     "duration": 0.031087,
     "end_time": "2021-04-04T23:07:08.552852",
     "exception": false,
     "start_time": "2021-04-04T23:07:08.521765",
     "status": "completed"
    },
    "scrolled": true,
    "tags": []
   },
   "outputs": [],
   "source": [
    "model_cls = models[model_config['model_type']]\n",
    "model = model_cls(**model_config['hyperparameters'])"
   ]
  },
  {
   "cell_type": "markdown",
   "id": "e00cff3b",
   "metadata": {
    "papermill": {
     "duration": 0.022313,
     "end_time": "2021-04-04T23:07:08.601683",
     "exception": false,
     "start_time": "2021-04-04T23:07:08.579370",
     "status": "completed"
    },
    "tags": []
   },
   "source": [
    "# Fit"
   ]
  },
  {
   "cell_type": "code",
   "execution_count": 23,
   "id": "8b2ded89",
   "metadata": {
    "execution": {
     "iopub.execute_input": "2021-04-04T23:07:08.666782Z",
     "iopub.status.busy": "2021-04-04T23:07:08.661647Z",
     "iopub.status.idle": "2021-04-04T23:07:08.682696Z",
     "shell.execute_reply": "2021-04-04T23:07:08.683453Z"
    },
    "papermill": {
     "duration": 0.059541,
     "end_time": "2021-04-04T23:07:08.683681",
     "exception": false,
     "start_time": "2021-04-04T23:07:08.624140",
     "status": "completed"
    },
    "tags": []
   },
   "outputs": [],
   "source": [
    "model.fit(X_train)"
   ]
  },
  {
   "cell_type": "markdown",
   "id": "f99999f7",
   "metadata": {
    "papermill": {
     "duration": 0.02307,
     "end_time": "2021-04-04T23:07:08.736239",
     "exception": false,
     "start_time": "2021-04-04T23:07:08.713169",
     "status": "completed"
    },
    "tags": []
   },
   "source": [
    "# Predict"
   ]
  },
  {
   "cell_type": "code",
   "execution_count": 24,
   "id": "6536fbf7",
   "metadata": {
    "execution": {
     "iopub.execute_input": "2021-04-04T23:07:08.796567Z",
     "iopub.status.busy": "2021-04-04T23:07:08.795973Z",
     "iopub.status.idle": "2021-04-04T23:07:09.192600Z",
     "shell.execute_reply": "2021-04-04T23:07:09.191844Z"
    },
    "papermill": {
     "duration": 0.424519,
     "end_time": "2021-04-04T23:07:09.192769",
     "exception": false,
     "start_time": "2021-04-04T23:07:08.768250",
     "status": "completed"
    },
    "tags": []
   },
   "outputs": [],
   "source": [
    "predictions = model.predict(X_test)"
   ]
  },
  {
   "cell_type": "markdown",
   "id": "aa1c9881",
   "metadata": {
    "papermill": {
     "duration": 0.022604,
     "end_time": "2021-04-04T23:07:09.243209",
     "exception": false,
     "start_time": "2021-04-04T23:07:09.220605",
     "status": "completed"
    },
    "tags": []
   },
   "source": [
    "# Evaluate"
   ]
  },
  {
   "cell_type": "code",
   "execution_count": 25,
   "id": "894f0f04",
   "metadata": {
    "execution": {
     "iopub.execute_input": "2021-04-04T23:07:09.294035Z",
     "iopub.status.busy": "2021-04-04T23:07:09.293103Z",
     "iopub.status.idle": "2021-04-04T23:07:09.295325Z",
     "shell.execute_reply": "2021-04-04T23:07:09.295988Z"
    },
    "papermill": {
     "duration": 0.029959,
     "end_time": "2021-04-04T23:07:09.296221",
     "exception": false,
     "start_time": "2021-04-04T23:07:09.266262",
     "status": "completed"
    },
    "tags": []
   },
   "outputs": [],
   "source": [
    "from sklearn.metrics import f1_score"
   ]
  },
  {
   "cell_type": "code",
   "execution_count": 26,
   "id": "211744d3",
   "metadata": {
    "execution": {
     "iopub.execute_input": "2021-04-04T23:07:09.355407Z",
     "iopub.status.busy": "2021-04-04T23:07:09.354263Z",
     "iopub.status.idle": "2021-04-04T23:07:09.357402Z",
     "shell.execute_reply": "2021-04-04T23:07:09.358284Z"
    },
    "papermill": {
     "duration": 0.034927,
     "end_time": "2021-04-04T23:07:09.358518",
     "exception": false,
     "start_time": "2021-04-04T23:07:09.323591",
     "status": "completed"
    },
    "tags": []
   },
   "outputs": [],
   "source": [
    "y_test = y_test.replace([0, 1], [1, -1])"
   ]
  },
  {
   "cell_type": "code",
   "execution_count": 27,
   "id": "d68a9204",
   "metadata": {
    "execution": {
     "iopub.execute_input": "2021-04-04T23:07:09.420318Z",
     "iopub.status.busy": "2021-04-04T23:07:09.419459Z",
     "iopub.status.idle": "2021-04-04T23:07:09.422474Z",
     "shell.execute_reply": "2021-04-04T23:07:09.423361Z"
    },
    "papermill": {
     "duration": 0.037739,
     "end_time": "2021-04-04T23:07:09.423611",
     "exception": false,
     "start_time": "2021-04-04T23:07:09.385872",
     "status": "completed"
    },
    "tags": []
   },
   "outputs": [],
   "source": [
    "def evaluate(truths, predictions, pos_label, neg_label):\n",
    "    TP = 0\n",
    "    FP = 0\n",
    "    TN = 0\n",
    "    FN = 0\n",
    "\n",
    "    for truth, pred in zip(truths, predictions): \n",
    "        if truth == pred == pos_label:\n",
    "           TP += 1\n",
    "        elif pred == pos_label and truth == neg_label:\n",
    "           FP += 1\n",
    "        elif truth == pred == neg_label:\n",
    "           TN += 1\n",
    "        elif pred == neg_label and truth == pos_label:\n",
    "           FN += 1\n",
    "\n",
    "    precision = TP / (TP + FP)\n",
    "    sensitivity = TP / (TP + FN)\n",
    "    \n",
    "    return {\n",
    "        'true_pos': TP,\n",
    "        'false_pos': FP,\n",
    "        'false_neg': FN,\n",
    "        'true_neg': TN,\n",
    "        'precision': precision,\n",
    "        'sensitivity': sensitivity,\n",
    "        'f1': (2 * (precision * sensitivity)) / (precision + sensitivity)\n",
    "    }\n",
    "\n",
    "score = evaluate(y_test, predictions, pos_label=-1, neg_label=1)"
   ]
  },
  {
   "cell_type": "markdown",
   "id": "93596516",
   "metadata": {
    "papermill": {
     "duration": 0.022859,
     "end_time": "2021-04-04T23:07:09.476343",
     "exception": false,
     "start_time": "2021-04-04T23:07:09.453484",
     "status": "completed"
    },
    "tags": []
   },
   "source": [
    "# Report"
   ]
  },
  {
   "cell_type": "code",
   "execution_count": 28,
   "id": "bea5fba1",
   "metadata": {
    "execution": {
     "iopub.execute_input": "2021-04-04T23:07:09.529907Z",
     "iopub.status.busy": "2021-04-04T23:07:09.529242Z",
     "iopub.status.idle": "2021-04-04T23:07:09.532717Z",
     "shell.execute_reply": "2021-04-04T23:07:09.532123Z"
    },
    "papermill": {
     "duration": 0.033297,
     "end_time": "2021-04-04T23:07:09.532838",
     "exception": false,
     "start_time": "2021-04-04T23:07:09.499541",
     "status": "completed"
    },
    "tags": []
   },
   "outputs": [],
   "source": [
    "import csv\n",
    "\n",
    "\n",
    "dataset_config_name = DATASET_CONFIG_PATH.split('/')[-1].split('.')[0]\n",
    "model_config_name = MODEL_CONFIG_PATH.split('/')[-1].split('.')[0]\n",
    "configuration = f\"dataset_{dataset_config_name}-model_{model_config_name}\"\n",
    "\n",
    "with open('results.csv', 'a') as f:\n",
    "    report = dict({'configuration': configuration}, **score)\n",
    "    writer = csv.DictWriter(f, report.keys())\n",
    "    writer.writerow(report)"
   ]
  }
 ],
 "metadata": {
  "celltoolbar": "Tags",
  "kernelspec": {
   "display_name": "Python 3",
   "language": "python",
   "name": "python3"
  },
  "language_info": {
   "codemirror_mode": {
    "name": "ipython",
    "version": 3
   },
   "file_extension": ".py",
   "mimetype": "text/x-python",
   "name": "python",
   "nbconvert_exporter": "python",
   "pygments_lexer": "ipython3",
   "version": "3.9.1"
  },
  "papermill": {
   "default_parameters": {},
   "duration": 6.04201,
   "end_time": "2021-04-04T23:07:11.041210",
   "environment_variables": {},
   "exception": null,
   "input_path": "main.ipynb",
   "output_path": "runs/dataset_000085-model_000003.ipynb",
   "parameters": {
    "DATASET_CONFIG_PATH": "config/dataset/000085.json",
    "MODEL_CONFIG_PATH": "config/model/000003.json",
    "PROFILE_REPORTING": false
   },
   "start_time": "2021-04-04T23:07:04.999200",
   "version": "2.3.3"
  }
 },
 "nbformat": 4,
 "nbformat_minor": 5
}