{
 "cells": [
  {
   "cell_type": "markdown",
   "id": "51c71c25",
   "metadata": {
    "papermill": {
     "duration": 0.029253,
     "end_time": "2021-04-04T23:30:50.323891",
     "exception": false,
     "start_time": "2021-04-04T23:30:50.294638",
     "status": "completed"
    },
    "tags": []
   },
   "source": [
    "# Parametrizing"
   ]
  },
  {
   "cell_type": "code",
   "execution_count": 1,
   "id": "3b136394",
   "metadata": {
    "execution": {
     "iopub.execute_input": "2021-04-04T23:30:50.396559Z",
     "iopub.status.busy": "2021-04-04T23:30:50.395764Z",
     "iopub.status.idle": "2021-04-04T23:30:50.398307Z",
     "shell.execute_reply": "2021-04-04T23:30:50.398914Z"
    },
    "papermill": {
     "duration": 0.05435,
     "end_time": "2021-04-04T23:30:50.399163",
     "exception": false,
     "start_time": "2021-04-04T23:30:50.344813",
     "status": "completed"
    },
    "tags": [
     "parameters"
    ]
   },
   "outputs": [],
   "source": [
    "DATASET_CONFIG_PATH = 'config/dataset/kc1_001.json'\n",
    "MODEL_CONFIG_PATH = 'config/model/knndd_001.json'\n",
    "PROFILE_REPORTING = False"
   ]
  },
  {
   "cell_type": "code",
   "execution_count": 2,
   "id": "87e970bc",
   "metadata": {
    "execution": {
     "iopub.execute_input": "2021-04-04T23:30:50.448990Z",
     "iopub.status.busy": "2021-04-04T23:30:50.448405Z",
     "iopub.status.idle": "2021-04-04T23:30:50.450297Z",
     "shell.execute_reply": "2021-04-04T23:30:50.450768Z"
    },
    "papermill": {
     "duration": 0.026495,
     "end_time": "2021-04-04T23:30:50.450902",
     "exception": false,
     "start_time": "2021-04-04T23:30:50.424407",
     "status": "completed"
    },
    "tags": [
     "injected-parameters"
    ]
   },
   "outputs": [],
   "source": [
    "# Parameters\n",
    "DATASET_CONFIG_PATH = \"config/dataset/000143.json\"\n",
    "MODEL_CONFIG_PATH = \"config/model/000003.json\"\n",
    "PROFILE_REPORTING = False\n"
   ]
  },
  {
   "cell_type": "code",
   "execution_count": 3,
   "id": "b80f2a10",
   "metadata": {
    "execution": {
     "iopub.execute_input": "2021-04-04T23:30:50.507261Z",
     "iopub.status.busy": "2021-04-04T23:30:50.505286Z",
     "iopub.status.idle": "2021-04-04T23:30:50.509078Z",
     "shell.execute_reply": "2021-04-04T23:30:50.509687Z"
    },
    "papermill": {
     "duration": 0.03616,
     "end_time": "2021-04-04T23:30:50.509881",
     "exception": false,
     "start_time": "2021-04-04T23:30:50.473721",
     "status": "completed"
    },
    "tags": []
   },
   "outputs": [],
   "source": [
    "import json\n",
    "\n",
    "\n",
    "with open(DATASET_CONFIG_PATH) as f:\n",
    "    dataset_config = json.load(f)\n",
    "\n",
    "with open(MODEL_CONFIG_PATH) as f:\n",
    "    model_config = json.load(f)"
   ]
  },
  {
   "cell_type": "markdown",
   "id": "9a4b0e2d",
   "metadata": {
    "papermill": {
     "duration": 0.019586,
     "end_time": "2021-04-04T23:30:50.556603",
     "exception": false,
     "start_time": "2021-04-04T23:30:50.537017",
     "status": "completed"
    },
    "tags": []
   },
   "source": [
    "# Profiling"
   ]
  },
  {
   "cell_type": "code",
   "execution_count": 4,
   "id": "a3e0289b",
   "metadata": {
    "execution": {
     "iopub.execute_input": "2021-04-04T23:30:50.612032Z",
     "iopub.status.busy": "2021-04-04T23:30:50.610402Z",
     "iopub.status.idle": "2021-04-04T23:30:52.244347Z",
     "shell.execute_reply": "2021-04-04T23:30:52.244832Z"
    },
    "papermill": {
     "duration": 1.663483,
     "end_time": "2021-04-04T23:30:52.244979",
     "exception": false,
     "start_time": "2021-04-04T23:30:50.581496",
     "status": "completed"
    },
    "tags": []
   },
   "outputs": [],
   "source": [
    "import pandas as pd\n",
    "from pandas_profiling import ProfileReport"
   ]
  },
  {
   "cell_type": "code",
   "execution_count": 5,
   "id": "ee6c0666",
   "metadata": {
    "execution": {
     "iopub.execute_input": "2021-04-04T23:30:52.300079Z",
     "iopub.status.busy": "2021-04-04T23:30:52.298907Z",
     "iopub.status.idle": "2021-04-04T23:30:52.308041Z",
     "shell.execute_reply": "2021-04-04T23:30:52.308568Z"
    },
    "papermill": {
     "duration": 0.040523,
     "end_time": "2021-04-04T23:30:52.308741",
     "exception": false,
     "start_time": "2021-04-04T23:30:52.268218",
     "status": "completed"
    },
    "tags": []
   },
   "outputs": [],
   "source": [
    "df = pd.read_csv(dataset_config['dataset_path'])"
   ]
  },
  {
   "cell_type": "code",
   "execution_count": 6,
   "id": "7eca6c4a",
   "metadata": {
    "execution": {
     "iopub.execute_input": "2021-04-04T23:30:52.401073Z",
     "iopub.status.busy": "2021-04-04T23:30:52.385923Z",
     "iopub.status.idle": "2021-04-04T23:30:52.404156Z",
     "shell.execute_reply": "2021-04-04T23:30:52.404834Z"
    },
    "papermill": {
     "duration": 0.063484,
     "end_time": "2021-04-04T23:30:52.405114",
     "exception": false,
     "start_time": "2021-04-04T23:30:52.341630",
     "status": "completed"
    },
    "tags": []
   },
   "outputs": [
    {
     "name": "stdout",
     "output_type": "stream",
     "text": [
      "<class 'pandas.core.frame.DataFrame'>\n",
      "RangeIndex: 498 entries, 0 to 497\n",
      "Data columns (total 23 columns):\n",
      " #   Column             Non-Null Count  Dtype  \n",
      "---  ------             --------------  -----  \n",
      " 0   id                 498 non-null    int64  \n",
      " 1   loc                498 non-null    float64\n",
      " 2   v(g)               498 non-null    float64\n",
      " 3   ev(g)              498 non-null    float64\n",
      " 4   iv(g)              498 non-null    float64\n",
      " 5   n                  498 non-null    float64\n",
      " 6   v                  498 non-null    float64\n",
      " 7   l                  498 non-null    float64\n",
      " 8   d                  498 non-null    float64\n",
      " 9   i                  498 non-null    float64\n",
      " 10  e                  498 non-null    float64\n",
      " 11  b                  498 non-null    float64\n",
      " 12  t                  498 non-null    float64\n",
      " 13  lOCode             498 non-null    int64  \n",
      " 14  lOComment          498 non-null    int64  \n",
      " 15  lOBlank            498 non-null    int64  \n",
      " 16  locCodeAndComment  498 non-null    int64  \n",
      " 17  uniq_Op            498 non-null    float64\n",
      " 18  uniq_Opnd          498 non-null    float64\n",
      " 19  total_Op           498 non-null    float64\n",
      " 20  total_Opnd         498 non-null    float64\n",
      " 21  branchCount        498 non-null    float64\n",
      " 22  defects            498 non-null    bool   \n",
      "dtypes: bool(1), float64(17), int64(5)\n",
      "memory usage: 86.2 KB\n"
     ]
    }
   ],
   "source": [
    "df.info()"
   ]
  },
  {
   "cell_type": "code",
   "execution_count": 7,
   "id": "3638e5e8",
   "metadata": {
    "execution": {
     "iopub.execute_input": "2021-04-04T23:30:52.472845Z",
     "iopub.status.busy": "2021-04-04T23:30:52.471704Z",
     "iopub.status.idle": "2021-04-04T23:30:52.525363Z",
     "shell.execute_reply": "2021-04-04T23:30:52.525920Z"
    },
    "papermill": {
     "duration": 0.098433,
     "end_time": "2021-04-04T23:30:52.526065",
     "exception": false,
     "start_time": "2021-04-04T23:30:52.427632",
     "status": "completed"
    },
    "tags": []
   },
   "outputs": [
    {
     "data": {
      "text/html": [
       "<div>\n",
       "<style scoped>\n",
       "    .dataframe tbody tr th:only-of-type {\n",
       "        vertical-align: middle;\n",
       "    }\n",
       "\n",
       "    .dataframe tbody tr th {\n",
       "        vertical-align: top;\n",
       "    }\n",
       "\n",
       "    .dataframe thead th {\n",
       "        text-align: right;\n",
       "    }\n",
       "</style>\n",
       "<table border=\"1\" class=\"dataframe\">\n",
       "  <thead>\n",
       "    <tr style=\"text-align: right;\">\n",
       "      <th></th>\n",
       "      <th>id</th>\n",
       "      <th>loc</th>\n",
       "      <th>v(g)</th>\n",
       "      <th>ev(g)</th>\n",
       "      <th>iv(g)</th>\n",
       "      <th>n</th>\n",
       "      <th>v</th>\n",
       "      <th>l</th>\n",
       "      <th>d</th>\n",
       "      <th>i</th>\n",
       "      <th>...</th>\n",
       "      <th>lOCode</th>\n",
       "      <th>lOComment</th>\n",
       "      <th>lOBlank</th>\n",
       "      <th>locCodeAndComment</th>\n",
       "      <th>uniq_Op</th>\n",
       "      <th>uniq_Opnd</th>\n",
       "      <th>total_Op</th>\n",
       "      <th>total_Opnd</th>\n",
       "      <th>branchCount</th>\n",
       "      <th>defects</th>\n",
       "    </tr>\n",
       "  </thead>\n",
       "  <tbody>\n",
       "    <tr>\n",
       "      <th>0</th>\n",
       "      <td>1</td>\n",
       "      <td>1.1</td>\n",
       "      <td>1.4</td>\n",
       "      <td>1.4</td>\n",
       "      <td>1.4</td>\n",
       "      <td>1.3</td>\n",
       "      <td>1.30</td>\n",
       "      <td>1.30</td>\n",
       "      <td>1.30</td>\n",
       "      <td>1.30</td>\n",
       "      <td>...</td>\n",
       "      <td>2</td>\n",
       "      <td>2</td>\n",
       "      <td>2</td>\n",
       "      <td>2</td>\n",
       "      <td>1.2</td>\n",
       "      <td>1.2</td>\n",
       "      <td>1.2</td>\n",
       "      <td>1.2</td>\n",
       "      <td>1.4</td>\n",
       "      <td>False</td>\n",
       "    </tr>\n",
       "    <tr>\n",
       "      <th>1</th>\n",
       "      <td>2</td>\n",
       "      <td>1.0</td>\n",
       "      <td>1.0</td>\n",
       "      <td>1.0</td>\n",
       "      <td>1.0</td>\n",
       "      <td>1.0</td>\n",
       "      <td>1.00</td>\n",
       "      <td>1.00</td>\n",
       "      <td>1.00</td>\n",
       "      <td>1.00</td>\n",
       "      <td>...</td>\n",
       "      <td>1</td>\n",
       "      <td>1</td>\n",
       "      <td>1</td>\n",
       "      <td>1</td>\n",
       "      <td>1.0</td>\n",
       "      <td>1.0</td>\n",
       "      <td>1.0</td>\n",
       "      <td>1.0</td>\n",
       "      <td>1.0</td>\n",
       "      <td>True</td>\n",
       "    </tr>\n",
       "    <tr>\n",
       "      <th>2</th>\n",
       "      <td>3</td>\n",
       "      <td>24.0</td>\n",
       "      <td>5.0</td>\n",
       "      <td>1.0</td>\n",
       "      <td>3.0</td>\n",
       "      <td>63.0</td>\n",
       "      <td>309.13</td>\n",
       "      <td>0.11</td>\n",
       "      <td>9.50</td>\n",
       "      <td>32.54</td>\n",
       "      <td>...</td>\n",
       "      <td>1</td>\n",
       "      <td>0</td>\n",
       "      <td>6</td>\n",
       "      <td>0</td>\n",
       "      <td>15.0</td>\n",
       "      <td>15.0</td>\n",
       "      <td>44.0</td>\n",
       "      <td>19.0</td>\n",
       "      <td>9.0</td>\n",
       "      <td>False</td>\n",
       "    </tr>\n",
       "    <tr>\n",
       "      <th>3</th>\n",
       "      <td>4</td>\n",
       "      <td>20.0</td>\n",
       "      <td>4.0</td>\n",
       "      <td>4.0</td>\n",
       "      <td>2.0</td>\n",
       "      <td>47.0</td>\n",
       "      <td>215.49</td>\n",
       "      <td>0.06</td>\n",
       "      <td>16.00</td>\n",
       "      <td>13.47</td>\n",
       "      <td>...</td>\n",
       "      <td>0</td>\n",
       "      <td>0</td>\n",
       "      <td>3</td>\n",
       "      <td>0</td>\n",
       "      <td>16.0</td>\n",
       "      <td>8.0</td>\n",
       "      <td>31.0</td>\n",
       "      <td>16.0</td>\n",
       "      <td>7.0</td>\n",
       "      <td>False</td>\n",
       "    </tr>\n",
       "    <tr>\n",
       "      <th>4</th>\n",
       "      <td>5</td>\n",
       "      <td>24.0</td>\n",
       "      <td>6.0</td>\n",
       "      <td>6.0</td>\n",
       "      <td>2.0</td>\n",
       "      <td>72.0</td>\n",
       "      <td>346.13</td>\n",
       "      <td>0.06</td>\n",
       "      <td>17.33</td>\n",
       "      <td>19.97</td>\n",
       "      <td>...</td>\n",
       "      <td>0</td>\n",
       "      <td>0</td>\n",
       "      <td>3</td>\n",
       "      <td>0</td>\n",
       "      <td>16.0</td>\n",
       "      <td>12.0</td>\n",
       "      <td>46.0</td>\n",
       "      <td>26.0</td>\n",
       "      <td>11.0</td>\n",
       "      <td>False</td>\n",
       "    </tr>\n",
       "  </tbody>\n",
       "</table>\n",
       "<p>5 rows × 23 columns</p>\n",
       "</div>"
      ],
      "text/plain": [
       "   id   loc  v(g)  ev(g)  iv(g)     n       v     l      d      i  ...  \\\n",
       "0   1   1.1   1.4    1.4    1.4   1.3    1.30  1.30   1.30   1.30  ...   \n",
       "1   2   1.0   1.0    1.0    1.0   1.0    1.00  1.00   1.00   1.00  ...   \n",
       "2   3  24.0   5.0    1.0    3.0  63.0  309.13  0.11   9.50  32.54  ...   \n",
       "3   4  20.0   4.0    4.0    2.0  47.0  215.49  0.06  16.00  13.47  ...   \n",
       "4   5  24.0   6.0    6.0    2.0  72.0  346.13  0.06  17.33  19.97  ...   \n",
       "\n",
       "   lOCode  lOComment  lOBlank  locCodeAndComment  uniq_Op  uniq_Opnd  \\\n",
       "0       2          2        2                  2      1.2        1.2   \n",
       "1       1          1        1                  1      1.0        1.0   \n",
       "2       1          0        6                  0     15.0       15.0   \n",
       "3       0          0        3                  0     16.0        8.0   \n",
       "4       0          0        3                  0     16.0       12.0   \n",
       "\n",
       "   total_Op  total_Opnd  branchCount  defects  \n",
       "0       1.2         1.2          1.4    False  \n",
       "1       1.0         1.0          1.0     True  \n",
       "2      44.0        19.0          9.0    False  \n",
       "3      31.0        16.0          7.0    False  \n",
       "4      46.0        26.0         11.0    False  \n",
       "\n",
       "[5 rows x 23 columns]"
      ]
     },
     "execution_count": 7,
     "metadata": {},
     "output_type": "execute_result"
    }
   ],
   "source": [
    "df.head()"
   ]
  },
  {
   "cell_type": "code",
   "execution_count": 8,
   "id": "733e95eb",
   "metadata": {
    "execution": {
     "iopub.execute_input": "2021-04-04T23:30:52.590169Z",
     "iopub.status.busy": "2021-04-04T23:30:52.589065Z",
     "iopub.status.idle": "2021-04-04T23:30:52.601154Z",
     "shell.execute_reply": "2021-04-04T23:30:52.602271Z"
    },
    "papermill": {
     "duration": 0.051979,
     "end_time": "2021-04-04T23:30:52.602557",
     "exception": false,
     "start_time": "2021-04-04T23:30:52.550578",
     "status": "completed"
    },
    "tags": []
   },
   "outputs": [],
   "source": [
    "del df['id']"
   ]
  },
  {
   "cell_type": "code",
   "execution_count": 9,
   "id": "6ff6f5b0",
   "metadata": {
    "execution": {
     "iopub.execute_input": "2021-04-04T23:30:52.666882Z",
     "iopub.status.busy": "2021-04-04T23:30:52.666143Z",
     "iopub.status.idle": "2021-04-04T23:30:52.668161Z",
     "shell.execute_reply": "2021-04-04T23:30:52.668644Z"
    },
    "papermill": {
     "duration": 0.033638,
     "end_time": "2021-04-04T23:30:52.668789",
     "exception": false,
     "start_time": "2021-04-04T23:30:52.635151",
     "status": "completed"
    },
    "tags": []
   },
   "outputs": [],
   "source": [
    "if PROFILE_REPORTING:\n",
    "    ProfileReport(df).to_widgets()"
   ]
  },
  {
   "cell_type": "markdown",
   "id": "1deaf3f0",
   "metadata": {
    "papermill": {
     "duration": 0.027416,
     "end_time": "2021-04-04T23:30:52.718778",
     "exception": false,
     "start_time": "2021-04-04T23:30:52.691362",
     "status": "completed"
    },
    "tags": []
   },
   "source": [
    "# Preprocess"
   ]
  },
  {
   "cell_type": "code",
   "execution_count": 10,
   "id": "1513e563",
   "metadata": {
    "execution": {
     "iopub.execute_input": "2021-04-04T23:30:52.824559Z",
     "iopub.status.busy": "2021-04-04T23:30:52.823864Z",
     "iopub.status.idle": "2021-04-04T23:30:52.828813Z",
     "shell.execute_reply": "2021-04-04T23:30:52.827927Z"
    },
    "papermill": {
     "duration": 0.062071,
     "end_time": "2021-04-04T23:30:52.828937",
     "exception": false,
     "start_time": "2021-04-04T23:30:52.766866",
     "status": "completed"
    },
    "tags": []
   },
   "outputs": [],
   "source": [
    "working_df = df.copy()"
   ]
  },
  {
   "cell_type": "code",
   "execution_count": 11,
   "id": "3b26d675",
   "metadata": {
    "execution": {
     "iopub.execute_input": "2021-04-04T23:30:52.905260Z",
     "iopub.status.busy": "2021-04-04T23:30:52.903874Z",
     "iopub.status.idle": "2021-04-04T23:30:52.907432Z",
     "shell.execute_reply": "2021-04-04T23:30:52.908252Z"
    },
    "papermill": {
     "duration": 0.050956,
     "end_time": "2021-04-04T23:30:52.908638",
     "exception": false,
     "start_time": "2021-04-04T23:30:52.857682",
     "status": "completed"
    },
    "tags": []
   },
   "outputs": [],
   "source": [
    "working_df['defects'] = working_df['defects'].replace([False, True], [0, 1])"
   ]
  },
  {
   "cell_type": "code",
   "execution_count": 12,
   "id": "eb48604f",
   "metadata": {
    "execution": {
     "iopub.execute_input": "2021-04-04T23:30:52.991939Z",
     "iopub.status.busy": "2021-04-04T23:30:52.990707Z",
     "iopub.status.idle": "2021-04-04T23:30:52.993465Z",
     "shell.execute_reply": "2021-04-04T23:30:52.994349Z"
    },
    "papermill": {
     "duration": 0.057145,
     "end_time": "2021-04-04T23:30:52.994617",
     "exception": false,
     "start_time": "2021-04-04T23:30:52.937472",
     "status": "completed"
    },
    "tags": []
   },
   "outputs": [],
   "source": [
    "for col in dataset_config['delete_columns']:\n",
    "    del working_df[col]"
   ]
  },
  {
   "cell_type": "code",
   "execution_count": 13,
   "id": "9a17bc29",
   "metadata": {
    "execution": {
     "iopub.execute_input": "2021-04-04T23:30:53.064277Z",
     "iopub.status.busy": "2021-04-04T23:30:53.061837Z",
     "iopub.status.idle": "2021-04-04T23:30:53.081200Z",
     "shell.execute_reply": "2021-04-04T23:30:53.081765Z"
    },
    "papermill": {
     "duration": 0.055834,
     "end_time": "2021-04-04T23:30:53.081938",
     "exception": false,
     "start_time": "2021-04-04T23:30:53.026104",
     "status": "completed"
    },
    "tags": []
   },
   "outputs": [],
   "source": [
    "working_df = working_df.drop_duplicates()"
   ]
  },
  {
   "cell_type": "markdown",
   "id": "a4d52ca6",
   "metadata": {
    "papermill": {
     "duration": 0.029757,
     "end_time": "2021-04-04T23:30:53.143682",
     "exception": false,
     "start_time": "2021-04-04T23:30:53.113925",
     "status": "completed"
    },
    "tags": []
   },
   "source": [
    "# Split"
   ]
  },
  {
   "cell_type": "code",
   "execution_count": 14,
   "id": "3e9ee4b5",
   "metadata": {
    "execution": {
     "iopub.execute_input": "2021-04-04T23:30:53.216654Z",
     "iopub.status.busy": "2021-04-04T23:30:53.213763Z",
     "iopub.status.idle": "2021-04-04T23:30:53.288179Z",
     "shell.execute_reply": "2021-04-04T23:30:53.287327Z"
    },
    "papermill": {
     "duration": 0.117556,
     "end_time": "2021-04-04T23:30:53.288599",
     "exception": false,
     "start_time": "2021-04-04T23:30:53.171043",
     "status": "completed"
    },
    "tags": []
   },
   "outputs": [],
   "source": [
    "from sklearn.model_selection import train_test_split"
   ]
  },
  {
   "cell_type": "code",
   "execution_count": 15,
   "id": "274004ce",
   "metadata": {
    "execution": {
     "iopub.execute_input": "2021-04-04T23:30:53.349659Z",
     "iopub.status.busy": "2021-04-04T23:30:53.348455Z",
     "iopub.status.idle": "2021-04-04T23:30:53.360575Z",
     "shell.execute_reply": "2021-04-04T23:30:53.361938Z"
    },
    "papermill": {
     "duration": 0.050373,
     "end_time": "2021-04-04T23:30:53.362632",
     "exception": false,
     "start_time": "2021-04-04T23:30:53.312259",
     "status": "completed"
    },
    "scrolled": true,
    "tags": []
   },
   "outputs": [],
   "source": [
    "inlier, outlier = working_df[working_df['defects'] == 0], working_df[working_df['defects'] == 1]"
   ]
  },
  {
   "cell_type": "code",
   "execution_count": 16,
   "id": "753c7b03",
   "metadata": {
    "execution": {
     "iopub.execute_input": "2021-04-04T23:30:53.438619Z",
     "iopub.status.busy": "2021-04-04T23:30:53.436471Z",
     "iopub.status.idle": "2021-04-04T23:30:53.441943Z",
     "shell.execute_reply": "2021-04-04T23:30:53.442489Z"
    },
    "papermill": {
     "duration": 0.042411,
     "end_time": "2021-04-04T23:30:53.442655",
     "exception": false,
     "start_time": "2021-04-04T23:30:53.400244",
     "status": "completed"
    },
    "tags": []
   },
   "outputs": [],
   "source": [
    "X_inlier = inlier.copy()\n",
    "y_inlier = X_inlier.pop('defects')\n",
    "X_outlier = outlier.copy()\n",
    "y_outlier = X_outlier.pop('defects')"
   ]
  },
  {
   "cell_type": "code",
   "execution_count": 17,
   "id": "2ba43193",
   "metadata": {
    "execution": {
     "iopub.execute_input": "2021-04-04T23:30:53.504366Z",
     "iopub.status.busy": "2021-04-04T23:30:53.503641Z",
     "iopub.status.idle": "2021-04-04T23:30:53.505760Z",
     "shell.execute_reply": "2021-04-04T23:30:53.505260Z"
    },
    "papermill": {
     "duration": 0.036341,
     "end_time": "2021-04-04T23:30:53.505878",
     "exception": false,
     "start_time": "2021-04-04T23:30:53.469537",
     "status": "completed"
    },
    "tags": []
   },
   "outputs": [],
   "source": [
    "test_size = dataset_config['test_size']\n",
    "random_state = dataset_config['random_state']\n",
    "\n",
    "X_inlier_train, X_inlier_test, y_inlier_train, y_inlier_test = train_test_split(\n",
    "    X_inlier,\n",
    "    y_inlier,\n",
    "    test_size=test_size,\n",
    "    random_state=random_state\n",
    ")"
   ]
  },
  {
   "cell_type": "code",
   "execution_count": 18,
   "id": "0b7582ca",
   "metadata": {
    "execution": {
     "iopub.execute_input": "2021-04-04T23:30:53.601350Z",
     "iopub.status.busy": "2021-04-04T23:30:53.596154Z",
     "iopub.status.idle": "2021-04-04T23:30:53.606286Z",
     "shell.execute_reply": "2021-04-04T23:30:53.607486Z"
    },
    "papermill": {
     "duration": 0.060731,
     "end_time": "2021-04-04T23:30:53.607938",
     "exception": false,
     "start_time": "2021-04-04T23:30:53.547207",
     "status": "completed"
    },
    "tags": []
   },
   "outputs": [],
   "source": [
    "test_outlier_size = dataset_config['test_outlier_size']\n",
    "if test_outlier_size > 0.0:\n",
    "    X_outlier_train, X_outlier_test, y_outlier_train, y_outlier_test = train_test_split(\n",
    "        X_outlier,\n",
    "        y_outlier,\n",
    "        test_size=test_outlier_size,\n",
    "        random_state=random_state\n",
    "    )\n",
    "else:\n",
    "    X_outlier_train, y_outlier_train = pd.DataFrame(columns=X_outlier.columns), pd.Series(dtype='int64')\n",
    "    X_outlier_test, y_outlier_test = X_outlier.copy(), y_outlier.copy()"
   ]
  },
  {
   "cell_type": "code",
   "execution_count": 19,
   "id": "c34363db",
   "metadata": {
    "execution": {
     "iopub.execute_input": "2021-04-04T23:30:53.679815Z",
     "iopub.status.busy": "2021-04-04T23:30:53.677312Z",
     "iopub.status.idle": "2021-04-04T23:30:53.682204Z",
     "shell.execute_reply": "2021-04-04T23:30:53.681635Z"
    },
    "papermill": {
     "duration": 0.038583,
     "end_time": "2021-04-04T23:30:53.682331",
     "exception": false,
     "start_time": "2021-04-04T23:30:53.643748",
     "status": "completed"
    },
    "tags": []
   },
   "outputs": [],
   "source": [
    "X_train, y_train = pd.concat([X_inlier_train, X_outlier_train], ignore_index=True), pd.concat([y_inlier_train, y_outlier_train], ignore_index=True)\n",
    "X_test, y_test = pd.concat([X_inlier_test, X_outlier_test], ignore_index=True), pd.concat([y_inlier_test, y_outlier_test], ignore_index=True)"
   ]
  },
  {
   "cell_type": "markdown",
   "id": "7cde7309",
   "metadata": {
    "papermill": {
     "duration": 0.026045,
     "end_time": "2021-04-04T23:30:53.733357",
     "exception": false,
     "start_time": "2021-04-04T23:30:53.707312",
     "status": "completed"
    },
    "tags": []
   },
   "source": [
    "# Model"
   ]
  },
  {
   "cell_type": "code",
   "execution_count": 20,
   "id": "2b12a415",
   "metadata": {
    "execution": {
     "iopub.execute_input": "2021-04-04T23:30:53.822228Z",
     "iopub.status.busy": "2021-04-04T23:30:53.820295Z",
     "iopub.status.idle": "2021-04-04T23:30:53.824116Z",
     "shell.execute_reply": "2021-04-04T23:30:53.823600Z"
    },
    "papermill": {
     "duration": 0.050157,
     "end_time": "2021-04-04T23:30:53.824236",
     "exception": false,
     "start_time": "2021-04-04T23:30:53.774079",
     "status": "completed"
    },
    "tags": []
   },
   "outputs": [],
   "source": [
    "from math import sqrt\n",
    "\n",
    "\n",
    "class KNNDataDescription:\n",
    "    def __init__(self, k=5, outlier_threshold=1.0):\n",
    "        self.k = k\n",
    "        self.outlier_threshold = outlier_threshold\n",
    "        self.X = []\n",
    "    \n",
    "    def fit(self, X):\n",
    "        self.X = [features.to_list() for index, features in X.iterrows()]\n",
    "\n",
    "    def predict(self, entries):\n",
    "        return [self.predict_entry(features.to_list()) for index, features in entries.iterrows()]\n",
    "    \n",
    "    def predict_entry(self, entry):\n",
    "        kth_neighbor, kth_distance = self.get_kth_neighbor(entry, self.k)\n",
    "        kth_kth_neighbor, kth_kth_distance = self.get_kth_neighbor(kth_neighbor, self.k + 1)\n",
    "\n",
    "        outlier_score = kth_distance / (kth_kth_distance + 0.000001)\n",
    "\n",
    "        return 1 if outlier_score < self.outlier_threshold else -1\n",
    "        \n",
    "    def euclidean_distance(self, features1, features2):\n",
    "        distance = 0.0\n",
    "        for feat1, feat2 in zip(features1, features2):\n",
    "            distance += (feat1 - feat2)**2\n",
    "                \n",
    "        return sqrt(distance)\n",
    "\n",
    "    def get_neighbors(self, entry, k):\n",
    "        distance_to_data_points = [\n",
    "            (data_point, self.euclidean_distance(entry, data_point))\n",
    "            for data_point in self.X\n",
    "        ]\n",
    "        sorted_by_distance = sorted(distance_to_data_points, key=lambda tup: tup[1])\n",
    "        neighbors = sorted_by_distance[:k]\n",
    "        return neighbors\n",
    "\n",
    "    def get_kth_neighbor(self, entry, k):\n",
    "        neighbors = self.get_neighbors(entry, k)\n",
    "        return neighbors[-1]\n"
   ]
  },
  {
   "cell_type": "code",
   "execution_count": 21,
   "id": "1fa9ec1c",
   "metadata": {
    "execution": {
     "iopub.execute_input": "2021-04-04T23:30:53.894541Z",
     "iopub.status.busy": "2021-04-04T23:30:53.893101Z",
     "iopub.status.idle": "2021-04-04T23:30:53.944407Z",
     "shell.execute_reply": "2021-04-04T23:30:53.945554Z"
    },
    "papermill": {
     "duration": 0.094026,
     "end_time": "2021-04-04T23:30:53.945934",
     "exception": false,
     "start_time": "2021-04-04T23:30:53.851908",
     "status": "completed"
    },
    "tags": []
   },
   "outputs": [],
   "source": [
    "from sklearn.svm import OneClassSVM\n",
    "\n",
    "\n",
    "models = {\n",
    "    'oneclasssvm': OneClassSVM,\n",
    "    'knndatadescription': KNNDataDescription,\n",
    "}"
   ]
  },
  {
   "cell_type": "code",
   "execution_count": 22,
   "id": "4d72a0b1",
   "metadata": {
    "execution": {
     "iopub.execute_input": "2021-04-04T23:30:54.007101Z",
     "iopub.status.busy": "2021-04-04T23:30:54.006194Z",
     "iopub.status.idle": "2021-04-04T23:30:54.008383Z",
     "shell.execute_reply": "2021-04-04T23:30:54.008997Z"
    },
    "papermill": {
     "duration": 0.031726,
     "end_time": "2021-04-04T23:30:54.009192",
     "exception": false,
     "start_time": "2021-04-04T23:30:53.977466",
     "status": "completed"
    },
    "scrolled": true,
    "tags": []
   },
   "outputs": [],
   "source": [
    "model_cls = models[model_config['model_type']]\n",
    "model = model_cls(**model_config['hyperparameters'])"
   ]
  },
  {
   "cell_type": "markdown",
   "id": "e00cff3b",
   "metadata": {
    "papermill": {
     "duration": 0.038824,
     "end_time": "2021-04-04T23:30:54.072867",
     "exception": false,
     "start_time": "2021-04-04T23:30:54.034043",
     "status": "completed"
    },
    "tags": []
   },
   "source": [
    "# Fit"
   ]
  },
  {
   "cell_type": "code",
   "execution_count": 23,
   "id": "8b2ded89",
   "metadata": {
    "execution": {
     "iopub.execute_input": "2021-04-04T23:30:54.141166Z",
     "iopub.status.busy": "2021-04-04T23:30:54.140167Z",
     "iopub.status.idle": "2021-04-04T23:30:54.163046Z",
     "shell.execute_reply": "2021-04-04T23:30:54.163646Z"
    },
    "papermill": {
     "duration": 0.056308,
     "end_time": "2021-04-04T23:30:54.163829",
     "exception": false,
     "start_time": "2021-04-04T23:30:54.107521",
     "status": "completed"
    },
    "tags": []
   },
   "outputs": [],
   "source": [
    "model.fit(X_train)"
   ]
  },
  {
   "cell_type": "markdown",
   "id": "f99999f7",
   "metadata": {
    "papermill": {
     "duration": 0.038056,
     "end_time": "2021-04-04T23:30:54.229814",
     "exception": false,
     "start_time": "2021-04-04T23:30:54.191758",
     "status": "completed"
    },
    "tags": []
   },
   "source": [
    "# Predict"
   ]
  },
  {
   "cell_type": "code",
   "execution_count": 24,
   "id": "6536fbf7",
   "metadata": {
    "execution": {
     "iopub.execute_input": "2021-04-04T23:30:54.312500Z",
     "iopub.status.busy": "2021-04-04T23:30:54.310623Z",
     "iopub.status.idle": "2021-04-04T23:30:54.720066Z",
     "shell.execute_reply": "2021-04-04T23:30:54.720564Z"
    },
    "papermill": {
     "duration": 0.459831,
     "end_time": "2021-04-04T23:30:54.720715",
     "exception": false,
     "start_time": "2021-04-04T23:30:54.260884",
     "status": "completed"
    },
    "tags": []
   },
   "outputs": [],
   "source": [
    "predictions = model.predict(X_test)"
   ]
  },
  {
   "cell_type": "markdown",
   "id": "aa1c9881",
   "metadata": {
    "papermill": {
     "duration": 0.032027,
     "end_time": "2021-04-04T23:30:54.779351",
     "exception": false,
     "start_time": "2021-04-04T23:30:54.747324",
     "status": "completed"
    },
    "tags": []
   },
   "source": [
    "# Evaluate"
   ]
  },
  {
   "cell_type": "code",
   "execution_count": 25,
   "id": "894f0f04",
   "metadata": {
    "execution": {
     "iopub.execute_input": "2021-04-04T23:30:54.833733Z",
     "iopub.status.busy": "2021-04-04T23:30:54.832882Z",
     "iopub.status.idle": "2021-04-04T23:30:54.835069Z",
     "shell.execute_reply": "2021-04-04T23:30:54.835581Z"
    },
    "papermill": {
     "duration": 0.030329,
     "end_time": "2021-04-04T23:30:54.835754",
     "exception": false,
     "start_time": "2021-04-04T23:30:54.805425",
     "status": "completed"
    },
    "tags": []
   },
   "outputs": [],
   "source": [
    "from sklearn.metrics import f1_score"
   ]
  },
  {
   "cell_type": "code",
   "execution_count": 26,
   "id": "211744d3",
   "metadata": {
    "execution": {
     "iopub.execute_input": "2021-04-04T23:30:54.901797Z",
     "iopub.status.busy": "2021-04-04T23:30:54.900268Z",
     "iopub.status.idle": "2021-04-04T23:30:54.904582Z",
     "shell.execute_reply": "2021-04-04T23:30:54.903907Z"
    },
    "papermill": {
     "duration": 0.041535,
     "end_time": "2021-04-04T23:30:54.904739",
     "exception": false,
     "start_time": "2021-04-04T23:30:54.863204",
     "status": "completed"
    },
    "tags": []
   },
   "outputs": [],
   "source": [
    "y_test = y_test.replace([0, 1], [1, -1])"
   ]
  },
  {
   "cell_type": "code",
   "execution_count": 27,
   "id": "d68a9204",
   "metadata": {
    "execution": {
     "iopub.execute_input": "2021-04-04T23:30:54.966424Z",
     "iopub.status.busy": "2021-04-04T23:30:54.965453Z",
     "iopub.status.idle": "2021-04-04T23:30:54.967819Z",
     "shell.execute_reply": "2021-04-04T23:30:54.967287Z"
    },
    "papermill": {
     "duration": 0.037283,
     "end_time": "2021-04-04T23:30:54.967939",
     "exception": false,
     "start_time": "2021-04-04T23:30:54.930656",
     "status": "completed"
    },
    "tags": []
   },
   "outputs": [],
   "source": [
    "def evaluate(truths, predictions, pos_label, neg_label):\n",
    "    TP = 0\n",
    "    FP = 0\n",
    "    TN = 0\n",
    "    FN = 0\n",
    "\n",
    "    for truth, pred in zip(truths, predictions): \n",
    "        if truth == pred == pos_label:\n",
    "           TP += 1\n",
    "        elif pred == pos_label and truth == neg_label:\n",
    "           FP += 1\n",
    "        elif truth == pred == neg_label:\n",
    "           TN += 1\n",
    "        elif pred == neg_label and truth == pos_label:\n",
    "           FN += 1\n",
    "\n",
    "    precision = TP / (TP + FP)\n",
    "    sensitivity = TP / (TP + FN)\n",
    "    \n",
    "    return {\n",
    "        'true_pos': TP,\n",
    "        'false_pos': FP,\n",
    "        'false_neg': FN,\n",
    "        'true_neg': TN,\n",
    "        'precision': precision,\n",
    "        'sensitivity': sensitivity,\n",
    "        'f1': (2 * (precision * sensitivity)) / (precision + sensitivity)\n",
    "    }\n",
    "\n",
    "score = evaluate(y_test, predictions, pos_label=-1, neg_label=1)"
   ]
  },
  {
   "cell_type": "markdown",
   "id": "93596516",
   "metadata": {
    "papermill": {
     "duration": 0.02964,
     "end_time": "2021-04-04T23:30:55.022219",
     "exception": false,
     "start_time": "2021-04-04T23:30:54.992579",
     "status": "completed"
    },
    "tags": []
   },
   "source": [
    "# Report"
   ]
  },
  {
   "cell_type": "code",
   "execution_count": 28,
   "id": "bea5fba1",
   "metadata": {
    "execution": {
     "iopub.execute_input": "2021-04-04T23:30:55.078150Z",
     "iopub.status.busy": "2021-04-04T23:30:55.077548Z",
     "iopub.status.idle": "2021-04-04T23:30:55.080497Z",
     "shell.execute_reply": "2021-04-04T23:30:55.079915Z"
    },
    "papermill": {
     "duration": 0.033451,
     "end_time": "2021-04-04T23:30:55.080615",
     "exception": false,
     "start_time": "2021-04-04T23:30:55.047164",
     "status": "completed"
    },
    "tags": []
   },
   "outputs": [],
   "source": [
    "import csv\n",
    "\n",
    "\n",
    "dataset_config_name = DATASET_CONFIG_PATH.split('/')[-1].split('.')[0]\n",
    "model_config_name = MODEL_CONFIG_PATH.split('/')[-1].split('.')[0]\n",
    "configuration = f\"dataset_{dataset_config_name}-model_{model_config_name}\"\n",
    "\n",
    "with open('results.csv', 'a') as f:\n",
    "    report = dict({'configuration': configuration}, **score)\n",
    "    writer = csv.DictWriter(f, report.keys())\n",
    "    writer.writerow(report)"
   ]
  }
 ],
 "metadata": {
  "celltoolbar": "Tags",
  "kernelspec": {
   "display_name": "Python 3",
   "language": "python",
   "name": "python3"
  },
  "language_info": {
   "codemirror_mode": {
    "name": "ipython",
    "version": 3
   },
   "file_extension": ".py",
   "mimetype": "text/x-python",
   "name": "python",
   "nbconvert_exporter": "python",
   "pygments_lexer": "ipython3",
   "version": "3.9.1"
  },
  "papermill": {
   "default_parameters": {},
   "duration": 7.084912,
   "end_time": "2021-04-04T23:30:56.431099",
   "environment_variables": {},
   "exception": null,
   "input_path": "main.ipynb",
   "output_path": "runs/dataset_000143-model_000003.ipynb",
   "parameters": {
    "DATASET_CONFIG_PATH": "config/dataset/000143.json",
    "MODEL_CONFIG_PATH": "config/model/000003.json",
    "PROFILE_REPORTING": false
   },
   "start_time": "2021-04-04T23:30:49.346187",
   "version": "2.3.3"
  }
 },
 "nbformat": 4,
 "nbformat_minor": 5
}