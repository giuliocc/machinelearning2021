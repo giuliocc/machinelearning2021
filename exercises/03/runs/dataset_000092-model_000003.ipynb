{
 "cells": [
  {
   "cell_type": "markdown",
   "id": "51c71c25",
   "metadata": {
    "papermill": {
     "duration": 0.024938,
     "end_time": "2021-04-04T23:09:48.110480",
     "exception": false,
     "start_time": "2021-04-04T23:09:48.085542",
     "status": "completed"
    },
    "tags": []
   },
   "source": [
    "# Parametrizing"
   ]
  },
  {
   "cell_type": "code",
   "execution_count": 1,
   "id": "3b136394",
   "metadata": {
    "execution": {
     "iopub.execute_input": "2021-04-04T23:09:48.162511Z",
     "iopub.status.busy": "2021-04-04T23:09:48.161739Z",
     "iopub.status.idle": "2021-04-04T23:09:48.164641Z",
     "shell.execute_reply": "2021-04-04T23:09:48.165350Z"
    },
    "papermill": {
     "duration": 0.035167,
     "end_time": "2021-04-04T23:09:48.165625",
     "exception": false,
     "start_time": "2021-04-04T23:09:48.130458",
     "status": "completed"
    },
    "tags": [
     "parameters"
    ]
   },
   "outputs": [],
   "source": [
    "DATASET_CONFIG_PATH = 'config/dataset/kc1_001.json'\n",
    "MODEL_CONFIG_PATH = 'config/model/knndd_001.json'\n",
    "PROFILE_REPORTING = False"
   ]
  },
  {
   "cell_type": "code",
   "execution_count": 2,
   "id": "e6d9cee2",
   "metadata": {
    "execution": {
     "iopub.execute_input": "2021-04-04T23:09:48.215313Z",
     "iopub.status.busy": "2021-04-04T23:09:48.214313Z",
     "iopub.status.idle": "2021-04-04T23:09:48.217387Z",
     "shell.execute_reply": "2021-04-04T23:09:48.216579Z"
    },
    "papermill": {
     "duration": 0.027187,
     "end_time": "2021-04-04T23:09:48.217533",
     "exception": false,
     "start_time": "2021-04-04T23:09:48.190346",
     "status": "completed"
    },
    "tags": [
     "injected-parameters"
    ]
   },
   "outputs": [],
   "source": [
    "# Parameters\n",
    "DATASET_CONFIG_PATH = \"config/dataset/000092.json\"\n",
    "MODEL_CONFIG_PATH = \"config/model/000003.json\"\n",
    "PROFILE_REPORTING = False\n"
   ]
  },
  {
   "cell_type": "code",
   "execution_count": 3,
   "id": "b80f2a10",
   "metadata": {
    "execution": {
     "iopub.execute_input": "2021-04-04T23:09:48.268704Z",
     "iopub.status.busy": "2021-04-04T23:09:48.267771Z",
     "iopub.status.idle": "2021-04-04T23:09:48.271340Z",
     "shell.execute_reply": "2021-04-04T23:09:48.272058Z"
    },
    "papermill": {
     "duration": 0.029875,
     "end_time": "2021-04-04T23:09:48.272261",
     "exception": false,
     "start_time": "2021-04-04T23:09:48.242386",
     "status": "completed"
    },
    "tags": []
   },
   "outputs": [],
   "source": [
    "import json\n",
    "\n",
    "\n",
    "with open(DATASET_CONFIG_PATH) as f:\n",
    "    dataset_config = json.load(f)\n",
    "\n",
    "with open(MODEL_CONFIG_PATH) as f:\n",
    "    model_config = json.load(f)"
   ]
  },
  {
   "cell_type": "markdown",
   "id": "9a4b0e2d",
   "metadata": {
    "papermill": {
     "duration": 0.01922,
     "end_time": "2021-04-04T23:09:48.312666",
     "exception": false,
     "start_time": "2021-04-04T23:09:48.293446",
     "status": "completed"
    },
    "tags": []
   },
   "source": [
    "# Profiling"
   ]
  },
  {
   "cell_type": "code",
   "execution_count": 4,
   "id": "a3e0289b",
   "metadata": {
    "execution": {
     "iopub.execute_input": "2021-04-04T23:09:48.360583Z",
     "iopub.status.busy": "2021-04-04T23:09:48.359868Z",
     "iopub.status.idle": "2021-04-04T23:09:49.627476Z",
     "shell.execute_reply": "2021-04-04T23:09:49.627964Z"
    },
    "papermill": {
     "duration": 1.295988,
     "end_time": "2021-04-04T23:09:49.628113",
     "exception": false,
     "start_time": "2021-04-04T23:09:48.332125",
     "status": "completed"
    },
    "tags": []
   },
   "outputs": [],
   "source": [
    "import pandas as pd\n",
    "from pandas_profiling import ProfileReport"
   ]
  },
  {
   "cell_type": "code",
   "execution_count": 5,
   "id": "ee6c0666",
   "metadata": {
    "execution": {
     "iopub.execute_input": "2021-04-04T23:09:49.674174Z",
     "iopub.status.busy": "2021-04-04T23:09:49.673530Z",
     "iopub.status.idle": "2021-04-04T23:09:49.683249Z",
     "shell.execute_reply": "2021-04-04T23:09:49.683861Z"
    },
    "papermill": {
     "duration": 0.0346,
     "end_time": "2021-04-04T23:09:49.684038",
     "exception": false,
     "start_time": "2021-04-04T23:09:49.649438",
     "status": "completed"
    },
    "tags": []
   },
   "outputs": [],
   "source": [
    "df = pd.read_csv(dataset_config['dataset_path'])"
   ]
  },
  {
   "cell_type": "code",
   "execution_count": 6,
   "id": "7eca6c4a",
   "metadata": {
    "execution": {
     "iopub.execute_input": "2021-04-04T23:09:49.758320Z",
     "iopub.status.busy": "2021-04-04T23:09:49.738399Z",
     "iopub.status.idle": "2021-04-04T23:09:49.763041Z",
     "shell.execute_reply": "2021-04-04T23:09:49.762508Z"
    },
    "papermill": {
     "duration": 0.051332,
     "end_time": "2021-04-04T23:09:49.763160",
     "exception": false,
     "start_time": "2021-04-04T23:09:49.711828",
     "status": "completed"
    },
    "tags": []
   },
   "outputs": [
    {
     "name": "stdout",
     "output_type": "stream",
     "text": [
      "<class 'pandas.core.frame.DataFrame'>\n",
      "RangeIndex: 498 entries, 0 to 497\n",
      "Data columns (total 23 columns):\n",
      " #   Column             Non-Null Count  Dtype  \n",
      "---  ------             --------------  -----  \n",
      " 0   id                 498 non-null    int64  \n",
      " 1   loc                498 non-null    float64\n",
      " 2   v(g)               498 non-null    float64\n",
      " 3   ev(g)              498 non-null    float64\n",
      " 4   iv(g)              498 non-null    float64\n",
      " 5   n                  498 non-null    float64\n",
      " 6   v                  498 non-null    float64\n",
      " 7   l                  498 non-null    float64\n",
      " 8   d                  498 non-null    float64\n",
      " 9   i                  498 non-null    float64\n",
      " 10  e                  498 non-null    float64\n",
      " 11  b                  498 non-null    float64\n",
      " 12  t                  498 non-null    float64\n",
      " 13  lOCode             498 non-null    int64  \n",
      " 14  lOComment          498 non-null    int64  \n",
      " 15  lOBlank            498 non-null    int64  \n",
      " 16  locCodeAndComment  498 non-null    int64  \n",
      " 17  uniq_Op            498 non-null    float64\n",
      " 18  uniq_Opnd          498 non-null    float64\n",
      " 19  total_Op           498 non-null    float64\n",
      " 20  total_Opnd         498 non-null    float64\n",
      " 21  branchCount        498 non-null    float64\n",
      " 22  defects            498 non-null    bool   \n",
      "dtypes: bool(1), float64(17), int64(5)\n",
      "memory usage: 86.2 KB\n"
     ]
    }
   ],
   "source": [
    "df.info()"
   ]
  },
  {
   "cell_type": "code",
   "execution_count": 7,
   "id": "3638e5e8",
   "metadata": {
    "execution": {
     "iopub.execute_input": "2021-04-04T23:09:49.820009Z",
     "iopub.status.busy": "2021-04-04T23:09:49.819018Z",
     "iopub.status.idle": "2021-04-04T23:09:49.847055Z",
     "shell.execute_reply": "2021-04-04T23:09:49.847894Z"
    },
    "papermill": {
     "duration": 0.060721,
     "end_time": "2021-04-04T23:09:49.848125",
     "exception": false,
     "start_time": "2021-04-04T23:09:49.787404",
     "status": "completed"
    },
    "tags": []
   },
   "outputs": [
    {
     "data": {
      "text/html": [
       "<div>\n",
       "<style scoped>\n",
       "    .dataframe tbody tr th:only-of-type {\n",
       "        vertical-align: middle;\n",
       "    }\n",
       "\n",
       "    .dataframe tbody tr th {\n",
       "        vertical-align: top;\n",
       "    }\n",
       "\n",
       "    .dataframe thead th {\n",
       "        text-align: right;\n",
       "    }\n",
       "</style>\n",
       "<table border=\"1\" class=\"dataframe\">\n",
       "  <thead>\n",
       "    <tr style=\"text-align: right;\">\n",
       "      <th></th>\n",
       "      <th>id</th>\n",
       "      <th>loc</th>\n",
       "      <th>v(g)</th>\n",
       "      <th>ev(g)</th>\n",
       "      <th>iv(g)</th>\n",
       "      <th>n</th>\n",
       "      <th>v</th>\n",
       "      <th>l</th>\n",
       "      <th>d</th>\n",
       "      <th>i</th>\n",
       "      <th>...</th>\n",
       "      <th>lOCode</th>\n",
       "      <th>lOComment</th>\n",
       "      <th>lOBlank</th>\n",
       "      <th>locCodeAndComment</th>\n",
       "      <th>uniq_Op</th>\n",
       "      <th>uniq_Opnd</th>\n",
       "      <th>total_Op</th>\n",
       "      <th>total_Opnd</th>\n",
       "      <th>branchCount</th>\n",
       "      <th>defects</th>\n",
       "    </tr>\n",
       "  </thead>\n",
       "  <tbody>\n",
       "    <tr>\n",
       "      <th>0</th>\n",
       "      <td>1</td>\n",
       "      <td>1.1</td>\n",
       "      <td>1.4</td>\n",
       "      <td>1.4</td>\n",
       "      <td>1.4</td>\n",
       "      <td>1.3</td>\n",
       "      <td>1.30</td>\n",
       "      <td>1.30</td>\n",
       "      <td>1.30</td>\n",
       "      <td>1.30</td>\n",
       "      <td>...</td>\n",
       "      <td>2</td>\n",
       "      <td>2</td>\n",
       "      <td>2</td>\n",
       "      <td>2</td>\n",
       "      <td>1.2</td>\n",
       "      <td>1.2</td>\n",
       "      <td>1.2</td>\n",
       "      <td>1.2</td>\n",
       "      <td>1.4</td>\n",
       "      <td>False</td>\n",
       "    </tr>\n",
       "    <tr>\n",
       "      <th>1</th>\n",
       "      <td>2</td>\n",
       "      <td>1.0</td>\n",
       "      <td>1.0</td>\n",
       "      <td>1.0</td>\n",
       "      <td>1.0</td>\n",
       "      <td>1.0</td>\n",
       "      <td>1.00</td>\n",
       "      <td>1.00</td>\n",
       "      <td>1.00</td>\n",
       "      <td>1.00</td>\n",
       "      <td>...</td>\n",
       "      <td>1</td>\n",
       "      <td>1</td>\n",
       "      <td>1</td>\n",
       "      <td>1</td>\n",
       "      <td>1.0</td>\n",
       "      <td>1.0</td>\n",
       "      <td>1.0</td>\n",
       "      <td>1.0</td>\n",
       "      <td>1.0</td>\n",
       "      <td>True</td>\n",
       "    </tr>\n",
       "    <tr>\n",
       "      <th>2</th>\n",
       "      <td>3</td>\n",
       "      <td>24.0</td>\n",
       "      <td>5.0</td>\n",
       "      <td>1.0</td>\n",
       "      <td>3.0</td>\n",
       "      <td>63.0</td>\n",
       "      <td>309.13</td>\n",
       "      <td>0.11</td>\n",
       "      <td>9.50</td>\n",
       "      <td>32.54</td>\n",
       "      <td>...</td>\n",
       "      <td>1</td>\n",
       "      <td>0</td>\n",
       "      <td>6</td>\n",
       "      <td>0</td>\n",
       "      <td>15.0</td>\n",
       "      <td>15.0</td>\n",
       "      <td>44.0</td>\n",
       "      <td>19.0</td>\n",
       "      <td>9.0</td>\n",
       "      <td>False</td>\n",
       "    </tr>\n",
       "    <tr>\n",
       "      <th>3</th>\n",
       "      <td>4</td>\n",
       "      <td>20.0</td>\n",
       "      <td>4.0</td>\n",
       "      <td>4.0</td>\n",
       "      <td>2.0</td>\n",
       "      <td>47.0</td>\n",
       "      <td>215.49</td>\n",
       "      <td>0.06</td>\n",
       "      <td>16.00</td>\n",
       "      <td>13.47</td>\n",
       "      <td>...</td>\n",
       "      <td>0</td>\n",
       "      <td>0</td>\n",
       "      <td>3</td>\n",
       "      <td>0</td>\n",
       "      <td>16.0</td>\n",
       "      <td>8.0</td>\n",
       "      <td>31.0</td>\n",
       "      <td>16.0</td>\n",
       "      <td>7.0</td>\n",
       "      <td>False</td>\n",
       "    </tr>\n",
       "    <tr>\n",
       "      <th>4</th>\n",
       "      <td>5</td>\n",
       "      <td>24.0</td>\n",
       "      <td>6.0</td>\n",
       "      <td>6.0</td>\n",
       "      <td>2.0</td>\n",
       "      <td>72.0</td>\n",
       "      <td>346.13</td>\n",
       "      <td>0.06</td>\n",
       "      <td>17.33</td>\n",
       "      <td>19.97</td>\n",
       "      <td>...</td>\n",
       "      <td>0</td>\n",
       "      <td>0</td>\n",
       "      <td>3</td>\n",
       "      <td>0</td>\n",
       "      <td>16.0</td>\n",
       "      <td>12.0</td>\n",
       "      <td>46.0</td>\n",
       "      <td>26.0</td>\n",
       "      <td>11.0</td>\n",
       "      <td>False</td>\n",
       "    </tr>\n",
       "  </tbody>\n",
       "</table>\n",
       "<p>5 rows × 23 columns</p>\n",
       "</div>"
      ],
      "text/plain": [
       "   id   loc  v(g)  ev(g)  iv(g)     n       v     l      d      i  ...  \\\n",
       "0   1   1.1   1.4    1.4    1.4   1.3    1.30  1.30   1.30   1.30  ...   \n",
       "1   2   1.0   1.0    1.0    1.0   1.0    1.00  1.00   1.00   1.00  ...   \n",
       "2   3  24.0   5.0    1.0    3.0  63.0  309.13  0.11   9.50  32.54  ...   \n",
       "3   4  20.0   4.0    4.0    2.0  47.0  215.49  0.06  16.00  13.47  ...   \n",
       "4   5  24.0   6.0    6.0    2.0  72.0  346.13  0.06  17.33  19.97  ...   \n",
       "\n",
       "   lOCode  lOComment  lOBlank  locCodeAndComment  uniq_Op  uniq_Opnd  \\\n",
       "0       2          2        2                  2      1.2        1.2   \n",
       "1       1          1        1                  1      1.0        1.0   \n",
       "2       1          0        6                  0     15.0       15.0   \n",
       "3       0          0        3                  0     16.0        8.0   \n",
       "4       0          0        3                  0     16.0       12.0   \n",
       "\n",
       "   total_Op  total_Opnd  branchCount  defects  \n",
       "0       1.2         1.2          1.4    False  \n",
       "1       1.0         1.0          1.0     True  \n",
       "2      44.0        19.0          9.0    False  \n",
       "3      31.0        16.0          7.0    False  \n",
       "4      46.0        26.0         11.0    False  \n",
       "\n",
       "[5 rows x 23 columns]"
      ]
     },
     "execution_count": 7,
     "metadata": {},
     "output_type": "execute_result"
    }
   ],
   "source": [
    "df.head()"
   ]
  },
  {
   "cell_type": "code",
   "execution_count": 8,
   "id": "733e95eb",
   "metadata": {
    "execution": {
     "iopub.execute_input": "2021-04-04T23:09:49.904079Z",
     "iopub.status.busy": "2021-04-04T23:09:49.903421Z",
     "iopub.status.idle": "2021-04-04T23:09:49.905956Z",
     "shell.execute_reply": "2021-04-04T23:09:49.906450Z"
    },
    "papermill": {
     "duration": 0.029077,
     "end_time": "2021-04-04T23:09:49.906598",
     "exception": false,
     "start_time": "2021-04-04T23:09:49.877521",
     "status": "completed"
    },
    "tags": []
   },
   "outputs": [],
   "source": [
    "del df['id']"
   ]
  },
  {
   "cell_type": "code",
   "execution_count": 9,
   "id": "6ff6f5b0",
   "metadata": {
    "execution": {
     "iopub.execute_input": "2021-04-04T23:09:49.956091Z",
     "iopub.status.busy": "2021-04-04T23:09:49.955453Z",
     "iopub.status.idle": "2021-04-04T23:09:49.957884Z",
     "shell.execute_reply": "2021-04-04T23:09:49.958391Z"
    },
    "papermill": {
     "duration": 0.028786,
     "end_time": "2021-04-04T23:09:49.958541",
     "exception": false,
     "start_time": "2021-04-04T23:09:49.929755",
     "status": "completed"
    },
    "tags": []
   },
   "outputs": [],
   "source": [
    "if PROFILE_REPORTING:\n",
    "    ProfileReport(df).to_widgets()"
   ]
  },
  {
   "cell_type": "markdown",
   "id": "1deaf3f0",
   "metadata": {
    "papermill": {
     "duration": 0.020871,
     "end_time": "2021-04-04T23:09:50.001459",
     "exception": false,
     "start_time": "2021-04-04T23:09:49.980588",
     "status": "completed"
    },
    "tags": []
   },
   "source": [
    "# Preprocess"
   ]
  },
  {
   "cell_type": "code",
   "execution_count": 10,
   "id": "1513e563",
   "metadata": {
    "execution": {
     "iopub.execute_input": "2021-04-04T23:09:50.049384Z",
     "iopub.status.busy": "2021-04-04T23:09:50.048737Z",
     "iopub.status.idle": "2021-04-04T23:09:50.051124Z",
     "shell.execute_reply": "2021-04-04T23:09:50.051614Z"
    },
    "papermill": {
     "duration": 0.029048,
     "end_time": "2021-04-04T23:09:50.051762",
     "exception": false,
     "start_time": "2021-04-04T23:09:50.022714",
     "status": "completed"
    },
    "tags": []
   },
   "outputs": [],
   "source": [
    "working_df = df.copy()"
   ]
  },
  {
   "cell_type": "code",
   "execution_count": 11,
   "id": "3b26d675",
   "metadata": {
    "execution": {
     "iopub.execute_input": "2021-04-04T23:09:50.105237Z",
     "iopub.status.busy": "2021-04-04T23:09:50.104303Z",
     "iopub.status.idle": "2021-04-04T23:09:50.106929Z",
     "shell.execute_reply": "2021-04-04T23:09:50.107761Z"
    },
    "papermill": {
     "duration": 0.031416,
     "end_time": "2021-04-04T23:09:50.107976",
     "exception": false,
     "start_time": "2021-04-04T23:09:50.076560",
     "status": "completed"
    },
    "tags": []
   },
   "outputs": [],
   "source": [
    "working_df['defects'] = working_df['defects'].replace([False, True], [0, 1])"
   ]
  },
  {
   "cell_type": "code",
   "execution_count": 12,
   "id": "eb48604f",
   "metadata": {
    "execution": {
     "iopub.execute_input": "2021-04-04T23:09:50.164558Z",
     "iopub.status.busy": "2021-04-04T23:09:50.163319Z",
     "iopub.status.idle": "2021-04-04T23:09:50.167070Z",
     "shell.execute_reply": "2021-04-04T23:09:50.166244Z"
    },
    "papermill": {
     "duration": 0.030756,
     "end_time": "2021-04-04T23:09:50.167245",
     "exception": false,
     "start_time": "2021-04-04T23:09:50.136489",
     "status": "completed"
    },
    "tags": []
   },
   "outputs": [],
   "source": [
    "for col in dataset_config['delete_columns']:\n",
    "    del working_df[col]"
   ]
  },
  {
   "cell_type": "code",
   "execution_count": 13,
   "id": "9a17bc29",
   "metadata": {
    "execution": {
     "iopub.execute_input": "2021-04-04T23:09:50.222151Z",
     "iopub.status.busy": "2021-04-04T23:09:50.221503Z",
     "iopub.status.idle": "2021-04-04T23:09:50.232467Z",
     "shell.execute_reply": "2021-04-04T23:09:50.231608Z"
    },
    "papermill": {
     "duration": 0.040004,
     "end_time": "2021-04-04T23:09:50.232648",
     "exception": false,
     "start_time": "2021-04-04T23:09:50.192644",
     "status": "completed"
    },
    "tags": []
   },
   "outputs": [],
   "source": [
    "working_df = working_df.drop_duplicates()"
   ]
  },
  {
   "cell_type": "markdown",
   "id": "a4d52ca6",
   "metadata": {
    "papermill": {
     "duration": 0.021466,
     "end_time": "2021-04-04T23:09:50.282022",
     "exception": false,
     "start_time": "2021-04-04T23:09:50.260556",
     "status": "completed"
    },
    "tags": []
   },
   "source": [
    "# Split"
   ]
  },
  {
   "cell_type": "code",
   "execution_count": 14,
   "id": "3e9ee4b5",
   "metadata": {
    "execution": {
     "iopub.execute_input": "2021-04-04T23:09:50.330602Z",
     "iopub.status.busy": "2021-04-04T23:09:50.329697Z",
     "iopub.status.idle": "2021-04-04T23:09:50.364781Z",
     "shell.execute_reply": "2021-04-04T23:09:50.365485Z"
    },
    "papermill": {
     "duration": 0.061935,
     "end_time": "2021-04-04T23:09:50.365683",
     "exception": false,
     "start_time": "2021-04-04T23:09:50.303748",
     "status": "completed"
    },
    "tags": []
   },
   "outputs": [],
   "source": [
    "from sklearn.model_selection import train_test_split"
   ]
  },
  {
   "cell_type": "code",
   "execution_count": 15,
   "id": "274004ce",
   "metadata": {
    "execution": {
     "iopub.execute_input": "2021-04-04T23:09:50.423282Z",
     "iopub.status.busy": "2021-04-04T23:09:50.422597Z",
     "iopub.status.idle": "2021-04-04T23:09:50.428339Z",
     "shell.execute_reply": "2021-04-04T23:09:50.427799Z"
    },
    "papermill": {
     "duration": 0.034551,
     "end_time": "2021-04-04T23:09:50.428464",
     "exception": false,
     "start_time": "2021-04-04T23:09:50.393913",
     "status": "completed"
    },
    "scrolled": true,
    "tags": []
   },
   "outputs": [],
   "source": [
    "inlier, outlier = working_df[working_df['defects'] == 0], working_df[working_df['defects'] == 1]"
   ]
  },
  {
   "cell_type": "code",
   "execution_count": 16,
   "id": "753c7b03",
   "metadata": {
    "execution": {
     "iopub.execute_input": "2021-04-04T23:09:50.484730Z",
     "iopub.status.busy": "2021-04-04T23:09:50.483267Z",
     "iopub.status.idle": "2021-04-04T23:09:50.486981Z",
     "shell.execute_reply": "2021-04-04T23:09:50.486026Z"
    },
    "papermill": {
     "duration": 0.034191,
     "end_time": "2021-04-04T23:09:50.487106",
     "exception": false,
     "start_time": "2021-04-04T23:09:50.452915",
     "status": "completed"
    },
    "tags": []
   },
   "outputs": [],
   "source": [
    "X_inlier = inlier.copy()\n",
    "y_inlier = X_inlier.pop('defects')\n",
    "X_outlier = outlier.copy()\n",
    "y_outlier = X_outlier.pop('defects')"
   ]
  },
  {
   "cell_type": "code",
   "execution_count": 17,
   "id": "2ba43193",
   "metadata": {
    "execution": {
     "iopub.execute_input": "2021-04-04T23:09:50.541718Z",
     "iopub.status.busy": "2021-04-04T23:09:50.540346Z",
     "iopub.status.idle": "2021-04-04T23:09:50.543963Z",
     "shell.execute_reply": "2021-04-04T23:09:50.543053Z"
    },
    "papermill": {
     "duration": 0.034675,
     "end_time": "2021-04-04T23:09:50.544166",
     "exception": false,
     "start_time": "2021-04-04T23:09:50.509491",
     "status": "completed"
    },
    "tags": []
   },
   "outputs": [],
   "source": [
    "test_size = dataset_config['test_size']\n",
    "random_state = dataset_config['random_state']\n",
    "\n",
    "X_inlier_train, X_inlier_test, y_inlier_train, y_inlier_test = train_test_split(\n",
    "    X_inlier,\n",
    "    y_inlier,\n",
    "    test_size=test_size,\n",
    "    random_state=random_state\n",
    ")"
   ]
  },
  {
   "cell_type": "code",
   "execution_count": 18,
   "id": "0b7582ca",
   "metadata": {
    "execution": {
     "iopub.execute_input": "2021-04-04T23:09:50.599647Z",
     "iopub.status.busy": "2021-04-04T23:09:50.598705Z",
     "iopub.status.idle": "2021-04-04T23:09:50.601478Z",
     "shell.execute_reply": "2021-04-04T23:09:50.602336Z"
    },
    "papermill": {
     "duration": 0.034419,
     "end_time": "2021-04-04T23:09:50.602586",
     "exception": false,
     "start_time": "2021-04-04T23:09:50.568167",
     "status": "completed"
    },
    "tags": []
   },
   "outputs": [],
   "source": [
    "test_outlier_size = dataset_config['test_outlier_size']\n",
    "if test_outlier_size > 0.0:\n",
    "    X_outlier_train, X_outlier_test, y_outlier_train, y_outlier_test = train_test_split(\n",
    "        X_outlier,\n",
    "        y_outlier,\n",
    "        test_size=test_outlier_size,\n",
    "        random_state=random_state\n",
    "    )\n",
    "else:\n",
    "    X_outlier_train, y_outlier_train = pd.DataFrame(columns=X_outlier.columns), pd.Series(dtype='int64')\n",
    "    X_outlier_test, y_outlier_test = X_outlier.copy(), y_outlier.copy()"
   ]
  },
  {
   "cell_type": "code",
   "execution_count": 19,
   "id": "c34363db",
   "metadata": {
    "execution": {
     "iopub.execute_input": "2021-04-04T23:09:50.662140Z",
     "iopub.status.busy": "2021-04-04T23:09:50.660914Z",
     "iopub.status.idle": "2021-04-04T23:09:50.664418Z",
     "shell.execute_reply": "2021-04-04T23:09:50.663667Z"
    },
    "papermill": {
     "duration": 0.036478,
     "end_time": "2021-04-04T23:09:50.664622",
     "exception": false,
     "start_time": "2021-04-04T23:09:50.628144",
     "status": "completed"
    },
    "tags": []
   },
   "outputs": [],
   "source": [
    "X_train, y_train = pd.concat([X_inlier_train, X_outlier_train], ignore_index=True), pd.concat([y_inlier_train, y_outlier_train], ignore_index=True)\n",
    "X_test, y_test = pd.concat([X_inlier_test, X_outlier_test], ignore_index=True), pd.concat([y_inlier_test, y_outlier_test], ignore_index=True)"
   ]
  },
  {
   "cell_type": "markdown",
   "id": "7cde7309",
   "metadata": {
    "papermill": {
     "duration": 0.022023,
     "end_time": "2021-04-04T23:09:50.710135",
     "exception": false,
     "start_time": "2021-04-04T23:09:50.688112",
     "status": "completed"
    },
    "tags": []
   },
   "source": [
    "# Model"
   ]
  },
  {
   "cell_type": "code",
   "execution_count": 20,
   "id": "2b12a415",
   "metadata": {
    "execution": {
     "iopub.execute_input": "2021-04-04T23:09:50.776374Z",
     "iopub.status.busy": "2021-04-04T23:09:50.775337Z",
     "iopub.status.idle": "2021-04-04T23:09:50.778034Z",
     "shell.execute_reply": "2021-04-04T23:09:50.778808Z"
    },
    "papermill": {
     "duration": 0.046784,
     "end_time": "2021-04-04T23:09:50.779024",
     "exception": false,
     "start_time": "2021-04-04T23:09:50.732240",
     "status": "completed"
    },
    "tags": []
   },
   "outputs": [],
   "source": [
    "from math import sqrt\n",
    "\n",
    "\n",
    "class KNNDataDescription:\n",
    "    def __init__(self, k=5, outlier_threshold=1.0):\n",
    "        self.k = k\n",
    "        self.outlier_threshold = outlier_threshold\n",
    "        self.X = []\n",
    "    \n",
    "    def fit(self, X):\n",
    "        self.X = [features.to_list() for index, features in X.iterrows()]\n",
    "\n",
    "    def predict(self, entries):\n",
    "        return [self.predict_entry(features.to_list()) for index, features in entries.iterrows()]\n",
    "    \n",
    "    def predict_entry(self, entry):\n",
    "        kth_neighbor, kth_distance = self.get_kth_neighbor(entry, self.k)\n",
    "        kth_kth_neighbor, kth_kth_distance = self.get_kth_neighbor(kth_neighbor, self.k + 1)\n",
    "\n",
    "        outlier_score = kth_distance / (kth_kth_distance + 0.000001)\n",
    "\n",
    "        return 1 if outlier_score < self.outlier_threshold else -1\n",
    "        \n",
    "    def euclidean_distance(self, features1, features2):\n",
    "        distance = 0.0\n",
    "        for feat1, feat2 in zip(features1, features2):\n",
    "            distance += (feat1 - feat2)**2\n",
    "                \n",
    "        return sqrt(distance)\n",
    "\n",
    "    def get_neighbors(self, entry, k):\n",
    "        distance_to_data_points = [\n",
    "            (data_point, self.euclidean_distance(entry, data_point))\n",
    "            for data_point in self.X\n",
    "        ]\n",
    "        sorted_by_distance = sorted(distance_to_data_points, key=lambda tup: tup[1])\n",
    "        neighbors = sorted_by_distance[:k]\n",
    "        return neighbors\n",
    "\n",
    "    def get_kth_neighbor(self, entry, k):\n",
    "        neighbors = self.get_neighbors(entry, k)\n",
    "        return neighbors[-1]\n"
   ]
  },
  {
   "cell_type": "code",
   "execution_count": 21,
   "id": "1fa9ec1c",
   "metadata": {
    "execution": {
     "iopub.execute_input": "2021-04-04T23:09:50.838006Z",
     "iopub.status.busy": "2021-04-04T23:09:50.837308Z",
     "iopub.status.idle": "2021-04-04T23:09:50.858040Z",
     "shell.execute_reply": "2021-04-04T23:09:50.857443Z"
    },
    "papermill": {
     "duration": 0.047498,
     "end_time": "2021-04-04T23:09:50.858177",
     "exception": false,
     "start_time": "2021-04-04T23:09:50.810679",
     "status": "completed"
    },
    "tags": []
   },
   "outputs": [],
   "source": [
    "from sklearn.svm import OneClassSVM\n",
    "\n",
    "\n",
    "models = {\n",
    "    'oneclasssvm': OneClassSVM,\n",
    "    'knndatadescription': KNNDataDescription,\n",
    "}"
   ]
  },
  {
   "cell_type": "code",
   "execution_count": 22,
   "id": "4d72a0b1",
   "metadata": {
    "execution": {
     "iopub.execute_input": "2021-04-04T23:09:50.909506Z",
     "iopub.status.busy": "2021-04-04T23:09:50.908743Z",
     "iopub.status.idle": "2021-04-04T23:09:50.910722Z",
     "shell.execute_reply": "2021-04-04T23:09:50.911236Z"
    },
    "papermill": {
     "duration": 0.029779,
     "end_time": "2021-04-04T23:09:50.911389",
     "exception": false,
     "start_time": "2021-04-04T23:09:50.881610",
     "status": "completed"
    },
    "scrolled": true,
    "tags": []
   },
   "outputs": [],
   "source": [
    "model_cls = models[model_config['model_type']]\n",
    "model = model_cls(**model_config['hyperparameters'])"
   ]
  },
  {
   "cell_type": "markdown",
   "id": "e00cff3b",
   "metadata": {
    "papermill": {
     "duration": 0.022604,
     "end_time": "2021-04-04T23:09:50.958630",
     "exception": false,
     "start_time": "2021-04-04T23:09:50.936026",
     "status": "completed"
    },
    "tags": []
   },
   "source": [
    "# Fit"
   ]
  },
  {
   "cell_type": "code",
   "execution_count": 23,
   "id": "8b2ded89",
   "metadata": {
    "execution": {
     "iopub.execute_input": "2021-04-04T23:09:51.009704Z",
     "iopub.status.busy": "2021-04-04T23:09:51.008500Z",
     "iopub.status.idle": "2021-04-04T23:09:51.032222Z",
     "shell.execute_reply": "2021-04-04T23:09:51.031584Z"
    },
    "papermill": {
     "duration": 0.050905,
     "end_time": "2021-04-04T23:09:51.032365",
     "exception": false,
     "start_time": "2021-04-04T23:09:50.981460",
     "status": "completed"
    },
    "tags": []
   },
   "outputs": [],
   "source": [
    "model.fit(X_train)"
   ]
  },
  {
   "cell_type": "markdown",
   "id": "f99999f7",
   "metadata": {
    "papermill": {
     "duration": 0.022721,
     "end_time": "2021-04-04T23:09:51.083165",
     "exception": false,
     "start_time": "2021-04-04T23:09:51.060444",
     "status": "completed"
    },
    "tags": []
   },
   "source": [
    "# Predict"
   ]
  },
  {
   "cell_type": "code",
   "execution_count": 24,
   "id": "6536fbf7",
   "metadata": {
    "execution": {
     "iopub.execute_input": "2021-04-04T23:09:51.148863Z",
     "iopub.status.busy": "2021-04-04T23:09:51.143883Z",
     "iopub.status.idle": "2021-04-04T23:09:51.477578Z",
     "shell.execute_reply": "2021-04-04T23:09:51.476437Z"
    },
    "papermill": {
     "duration": 0.371933,
     "end_time": "2021-04-04T23:09:51.477792",
     "exception": false,
     "start_time": "2021-04-04T23:09:51.105859",
     "status": "completed"
    },
    "tags": []
   },
   "outputs": [],
   "source": [
    "predictions = model.predict(X_test)"
   ]
  },
  {
   "cell_type": "markdown",
   "id": "aa1c9881",
   "metadata": {
    "papermill": {
     "duration": 0.022652,
     "end_time": "2021-04-04T23:09:51.529882",
     "exception": false,
     "start_time": "2021-04-04T23:09:51.507230",
     "status": "completed"
    },
    "tags": []
   },
   "source": [
    "# Evaluate"
   ]
  },
  {
   "cell_type": "code",
   "execution_count": 25,
   "id": "894f0f04",
   "metadata": {
    "execution": {
     "iopub.execute_input": "2021-04-04T23:09:51.581063Z",
     "iopub.status.busy": "2021-04-04T23:09:51.580166Z",
     "iopub.status.idle": "2021-04-04T23:09:51.582320Z",
     "shell.execute_reply": "2021-04-04T23:09:51.582814Z"
    },
    "papermill": {
     "duration": 0.030459,
     "end_time": "2021-04-04T23:09:51.582963",
     "exception": false,
     "start_time": "2021-04-04T23:09:51.552504",
     "status": "completed"
    },
    "tags": []
   },
   "outputs": [],
   "source": [
    "from sklearn.metrics import f1_score"
   ]
  },
  {
   "cell_type": "code",
   "execution_count": 26,
   "id": "211744d3",
   "metadata": {
    "execution": {
     "iopub.execute_input": "2021-04-04T23:09:51.639783Z",
     "iopub.status.busy": "2021-04-04T23:09:51.639123Z",
     "iopub.status.idle": "2021-04-04T23:09:51.641390Z",
     "shell.execute_reply": "2021-04-04T23:09:51.641882Z"
    },
    "papermill": {
     "duration": 0.03139,
     "end_time": "2021-04-04T23:09:51.642029",
     "exception": false,
     "start_time": "2021-04-04T23:09:51.610639",
     "status": "completed"
    },
    "tags": []
   },
   "outputs": [],
   "source": [
    "y_test = y_test.replace([0, 1], [1, -1])"
   ]
  },
  {
   "cell_type": "code",
   "execution_count": 27,
   "id": "d68a9204",
   "metadata": {
    "execution": {
     "iopub.execute_input": "2021-04-04T23:09:51.703869Z",
     "iopub.status.busy": "2021-04-04T23:09:51.702565Z",
     "iopub.status.idle": "2021-04-04T23:09:51.706818Z",
     "shell.execute_reply": "2021-04-04T23:09:51.705744Z"
    },
    "papermill": {
     "duration": 0.038068,
     "end_time": "2021-04-04T23:09:51.706982",
     "exception": false,
     "start_time": "2021-04-04T23:09:51.668914",
     "status": "completed"
    },
    "tags": []
   },
   "outputs": [],
   "source": [
    "def evaluate(truths, predictions, pos_label, neg_label):\n",
    "    TP = 0\n",
    "    FP = 0\n",
    "    TN = 0\n",
    "    FN = 0\n",
    "\n",
    "    for truth, pred in zip(truths, predictions): \n",
    "        if truth == pred == pos_label:\n",
    "           TP += 1\n",
    "        elif pred == pos_label and truth == neg_label:\n",
    "           FP += 1\n",
    "        elif truth == pred == neg_label:\n",
    "           TN += 1\n",
    "        elif pred == neg_label and truth == pos_label:\n",
    "           FN += 1\n",
    "\n",
    "    precision = TP / (TP + FP)\n",
    "    sensitivity = TP / (TP + FN)\n",
    "    \n",
    "    return {\n",
    "        'true_pos': TP,\n",
    "        'false_pos': FP,\n",
    "        'false_neg': FN,\n",
    "        'true_neg': TN,\n",
    "        'precision': precision,\n",
    "        'sensitivity': sensitivity,\n",
    "        'f1': (2 * (precision * sensitivity)) / (precision + sensitivity)\n",
    "    }\n",
    "\n",
    "score = evaluate(y_test, predictions, pos_label=-1, neg_label=1)"
   ]
  },
  {
   "cell_type": "markdown",
   "id": "93596516",
   "metadata": {
    "papermill": {
     "duration": 0.031217,
     "end_time": "2021-04-04T23:09:51.766981",
     "exception": false,
     "start_time": "2021-04-04T23:09:51.735764",
     "status": "completed"
    },
    "tags": []
   },
   "source": [
    "# Report"
   ]
  },
  {
   "cell_type": "code",
   "execution_count": 28,
   "id": "bea5fba1",
   "metadata": {
    "execution": {
     "iopub.execute_input": "2021-04-04T23:09:51.822255Z",
     "iopub.status.busy": "2021-04-04T23:09:51.821590Z",
     "iopub.status.idle": "2021-04-04T23:09:51.823786Z",
     "shell.execute_reply": "2021-04-04T23:09:51.824314Z"
    },
    "papermill": {
     "duration": 0.033235,
     "end_time": "2021-04-04T23:09:51.824468",
     "exception": false,
     "start_time": "2021-04-04T23:09:51.791233",
     "status": "completed"
    },
    "tags": []
   },
   "outputs": [],
   "source": [
    "import csv\n",
    "\n",
    "\n",
    "dataset_config_name = DATASET_CONFIG_PATH.split('/')[-1].split('.')[0]\n",
    "model_config_name = MODEL_CONFIG_PATH.split('/')[-1].split('.')[0]\n",
    "configuration = f\"dataset_{dataset_config_name}-model_{model_config_name}\"\n",
    "\n",
    "with open('results.csv', 'a') as f:\n",
    "    report = dict({'configuration': configuration}, **score)\n",
    "    writer = csv.DictWriter(f, report.keys())\n",
    "    writer.writerow(report)"
   ]
  }
 ],
 "metadata": {
  "celltoolbar": "Tags",
  "kernelspec": {
   "display_name": "Python 3",
   "language": "python",
   "name": "python3"
  },
  "language_info": {
   "codemirror_mode": {
    "name": "ipython",
    "version": 3
   },
   "file_extension": ".py",
   "mimetype": "text/x-python",
   "name": "python",
   "nbconvert_exporter": "python",
   "pygments_lexer": "ipython3",
   "version": "3.9.1"
  },
  "papermill": {
   "default_parameters": {},
   "duration": 6.046048,
   "end_time": "2021-04-04T23:09:53.261331",
   "environment_variables": {},
   "exception": null,
   "input_path": "main.ipynb",
   "output_path": "runs/dataset_000092-model_000003.ipynb",
   "parameters": {
    "DATASET_CONFIG_PATH": "config/dataset/000092.json",
    "MODEL_CONFIG_PATH": "config/model/000003.json",
    "PROFILE_REPORTING": false
   },
   "start_time": "2021-04-04T23:09:47.215283",
   "version": "2.3.3"
  }
 },
 "nbformat": 4,
 "nbformat_minor": 5
}