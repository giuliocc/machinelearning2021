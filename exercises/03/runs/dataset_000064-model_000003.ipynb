{
 "cells": [
  {
   "cell_type": "markdown",
   "id": "51c71c25",
   "metadata": {
    "papermill": {
     "duration": 0.027775,
     "end_time": "2021-04-04T22:57:20.152176",
     "exception": false,
     "start_time": "2021-04-04T22:57:20.124401",
     "status": "completed"
    },
    "tags": []
   },
   "source": [
    "# Parametrizing"
   ]
  },
  {
   "cell_type": "code",
   "execution_count": 1,
   "id": "3b136394",
   "metadata": {
    "execution": {
     "iopub.execute_input": "2021-04-04T22:57:20.210278Z",
     "iopub.status.busy": "2021-04-04T22:57:20.209464Z",
     "iopub.status.idle": "2021-04-04T22:57:20.214187Z",
     "shell.execute_reply": "2021-04-04T22:57:20.212472Z"
    },
    "papermill": {
     "duration": 0.041799,
     "end_time": "2021-04-04T22:57:20.214534",
     "exception": false,
     "start_time": "2021-04-04T22:57:20.172735",
     "status": "completed"
    },
    "tags": [
     "parameters"
    ]
   },
   "outputs": [],
   "source": [
    "DATASET_CONFIG_PATH = 'config/dataset/kc1_001.json'\n",
    "MODEL_CONFIG_PATH = 'config/model/knndd_001.json'\n",
    "PROFILE_REPORTING = False"
   ]
  },
  {
   "cell_type": "code",
   "execution_count": 2,
   "id": "a175c31a",
   "metadata": {
    "execution": {
     "iopub.execute_input": "2021-04-04T22:57:20.262776Z",
     "iopub.status.busy": "2021-04-04T22:57:20.261822Z",
     "iopub.status.idle": "2021-04-04T22:57:20.264195Z",
     "shell.execute_reply": "2021-04-04T22:57:20.264719Z"
    },
    "papermill": {
     "duration": 0.02943,
     "end_time": "2021-04-04T22:57:20.264880",
     "exception": false,
     "start_time": "2021-04-04T22:57:20.235450",
     "status": "completed"
    },
    "tags": [
     "injected-parameters"
    ]
   },
   "outputs": [],
   "source": [
    "# Parameters\n",
    "DATASET_CONFIG_PATH = \"config/dataset/000064.json\"\n",
    "MODEL_CONFIG_PATH = \"config/model/000003.json\"\n",
    "PROFILE_REPORTING = False\n"
   ]
  },
  {
   "cell_type": "code",
   "execution_count": 3,
   "id": "b80f2a10",
   "metadata": {
    "execution": {
     "iopub.execute_input": "2021-04-04T22:57:20.318786Z",
     "iopub.status.busy": "2021-04-04T22:57:20.317999Z",
     "iopub.status.idle": "2021-04-04T22:57:20.320205Z",
     "shell.execute_reply": "2021-04-04T22:57:20.320940Z"
    },
    "papermill": {
     "duration": 0.035276,
     "end_time": "2021-04-04T22:57:20.321120",
     "exception": false,
     "start_time": "2021-04-04T22:57:20.285844",
     "status": "completed"
    },
    "tags": []
   },
   "outputs": [],
   "source": [
    "import json\n",
    "\n",
    "\n",
    "with open(DATASET_CONFIG_PATH) as f:\n",
    "    dataset_config = json.load(f)\n",
    "\n",
    "with open(MODEL_CONFIG_PATH) as f:\n",
    "    model_config = json.load(f)"
   ]
  },
  {
   "cell_type": "markdown",
   "id": "9a4b0e2d",
   "metadata": {
    "papermill": {
     "duration": 0.029039,
     "end_time": "2021-04-04T22:57:20.370719",
     "exception": false,
     "start_time": "2021-04-04T22:57:20.341680",
     "status": "completed"
    },
    "tags": []
   },
   "source": [
    "# Profiling"
   ]
  },
  {
   "cell_type": "code",
   "execution_count": 4,
   "id": "a3e0289b",
   "metadata": {
    "execution": {
     "iopub.execute_input": "2021-04-04T22:57:20.430091Z",
     "iopub.status.busy": "2021-04-04T22:57:20.429166Z",
     "iopub.status.idle": "2021-04-04T22:57:21.816560Z",
     "shell.execute_reply": "2021-04-04T22:57:21.817114Z"
    },
    "papermill": {
     "duration": 1.422636,
     "end_time": "2021-04-04T22:57:21.817284",
     "exception": false,
     "start_time": "2021-04-04T22:57:20.394648",
     "status": "completed"
    },
    "tags": []
   },
   "outputs": [],
   "source": [
    "import pandas as pd\n",
    "from pandas_profiling import ProfileReport"
   ]
  },
  {
   "cell_type": "code",
   "execution_count": 5,
   "id": "ee6c0666",
   "metadata": {
    "execution": {
     "iopub.execute_input": "2021-04-04T22:57:21.867797Z",
     "iopub.status.busy": "2021-04-04T22:57:21.866783Z",
     "iopub.status.idle": "2021-04-04T22:57:21.878782Z",
     "shell.execute_reply": "2021-04-04T22:57:21.878202Z"
    },
    "papermill": {
     "duration": 0.038579,
     "end_time": "2021-04-04T22:57:21.878914",
     "exception": false,
     "start_time": "2021-04-04T22:57:21.840335",
     "status": "completed"
    },
    "tags": []
   },
   "outputs": [],
   "source": [
    "df = pd.read_csv(dataset_config['dataset_path'])"
   ]
  },
  {
   "cell_type": "code",
   "execution_count": 6,
   "id": "7eca6c4a",
   "metadata": {
    "execution": {
     "iopub.execute_input": "2021-04-04T22:57:21.953618Z",
     "iopub.status.busy": "2021-04-04T22:57:21.940773Z",
     "iopub.status.idle": "2021-04-04T22:57:21.955775Z",
     "shell.execute_reply": "2021-04-04T22:57:21.956524Z"
    },
    "papermill": {
     "duration": 0.055619,
     "end_time": "2021-04-04T22:57:21.956954",
     "exception": false,
     "start_time": "2021-04-04T22:57:21.901335",
     "status": "completed"
    },
    "tags": []
   },
   "outputs": [
    {
     "name": "stdout",
     "output_type": "stream",
     "text": [
      "<class 'pandas.core.frame.DataFrame'>\n",
      "RangeIndex: 2109 entries, 0 to 2108\n",
      "Data columns (total 23 columns):\n",
      " #   Column             Non-Null Count  Dtype  \n",
      "---  ------             --------------  -----  \n",
      " 0   id                 2109 non-null   int64  \n",
      " 1   loc                2109 non-null   float64\n",
      " 2   v(g)               2109 non-null   float64\n",
      " 3   ev(g)              2109 non-null   float64\n",
      " 4   iv(g)              2109 non-null   float64\n",
      " 5   n                  2109 non-null   float64\n",
      " 6   v                  2109 non-null   float64\n",
      " 7   l                  2109 non-null   float64\n",
      " 8   d                  2109 non-null   float64\n",
      " 9   i                  2109 non-null   float64\n",
      " 10  e                  2109 non-null   float64\n",
      " 11  b                  2109 non-null   float64\n",
      " 12  t                  2109 non-null   float64\n",
      " 13  lOCode             2109 non-null   int64  \n",
      " 14  lOComment          2109 non-null   int64  \n",
      " 15  lOBlank            2109 non-null   int64  \n",
      " 16  locCodeAndComment  2109 non-null   int64  \n",
      " 17  uniq_Op            2109 non-null   float64\n",
      " 18  uniq_Opnd          2109 non-null   float64\n",
      " 19  total_Op           2109 non-null   float64\n",
      " 20  total_Opnd         2109 non-null   float64\n",
      " 21  branchCount        2109 non-null   float64\n",
      " 22  defects            2109 non-null   bool   \n",
      "dtypes: bool(1), float64(17), int64(5)\n",
      "memory usage: 364.7 KB\n"
     ]
    }
   ],
   "source": [
    "df.info()"
   ]
  },
  {
   "cell_type": "code",
   "execution_count": 7,
   "id": "3638e5e8",
   "metadata": {
    "execution": {
     "iopub.execute_input": "2021-04-04T22:57:22.009944Z",
     "iopub.status.busy": "2021-04-04T22:57:22.007961Z",
     "iopub.status.idle": "2021-04-04T22:57:22.036831Z",
     "shell.execute_reply": "2021-04-04T22:57:22.036320Z"
    },
    "papermill": {
     "duration": 0.057778,
     "end_time": "2021-04-04T22:57:22.036950",
     "exception": false,
     "start_time": "2021-04-04T22:57:21.979172",
     "status": "completed"
    },
    "tags": []
   },
   "outputs": [
    {
     "data": {
      "text/html": [
       "<div>\n",
       "<style scoped>\n",
       "    .dataframe tbody tr th:only-of-type {\n",
       "        vertical-align: middle;\n",
       "    }\n",
       "\n",
       "    .dataframe tbody tr th {\n",
       "        vertical-align: top;\n",
       "    }\n",
       "\n",
       "    .dataframe thead th {\n",
       "        text-align: right;\n",
       "    }\n",
       "</style>\n",
       "<table border=\"1\" class=\"dataframe\">\n",
       "  <thead>\n",
       "    <tr style=\"text-align: right;\">\n",
       "      <th></th>\n",
       "      <th>id</th>\n",
       "      <th>loc</th>\n",
       "      <th>v(g)</th>\n",
       "      <th>ev(g)</th>\n",
       "      <th>iv(g)</th>\n",
       "      <th>n</th>\n",
       "      <th>v</th>\n",
       "      <th>l</th>\n",
       "      <th>d</th>\n",
       "      <th>i</th>\n",
       "      <th>...</th>\n",
       "      <th>lOCode</th>\n",
       "      <th>lOComment</th>\n",
       "      <th>lOBlank</th>\n",
       "      <th>locCodeAndComment</th>\n",
       "      <th>uniq_Op</th>\n",
       "      <th>uniq_Opnd</th>\n",
       "      <th>total_Op</th>\n",
       "      <th>total_Opnd</th>\n",
       "      <th>branchCount</th>\n",
       "      <th>defects</th>\n",
       "    </tr>\n",
       "  </thead>\n",
       "  <tbody>\n",
       "    <tr>\n",
       "      <th>0</th>\n",
       "      <td>1</td>\n",
       "      <td>1.1</td>\n",
       "      <td>1.4</td>\n",
       "      <td>1.4</td>\n",
       "      <td>1.4</td>\n",
       "      <td>1.3</td>\n",
       "      <td>1.30</td>\n",
       "      <td>1.30</td>\n",
       "      <td>1.30</td>\n",
       "      <td>1.30</td>\n",
       "      <td>...</td>\n",
       "      <td>2</td>\n",
       "      <td>2</td>\n",
       "      <td>2</td>\n",
       "      <td>2</td>\n",
       "      <td>1.2</td>\n",
       "      <td>1.2</td>\n",
       "      <td>1.2</td>\n",
       "      <td>1.2</td>\n",
       "      <td>1.4</td>\n",
       "      <td>False</td>\n",
       "    </tr>\n",
       "    <tr>\n",
       "      <th>1</th>\n",
       "      <td>2</td>\n",
       "      <td>1.0</td>\n",
       "      <td>1.0</td>\n",
       "      <td>1.0</td>\n",
       "      <td>1.0</td>\n",
       "      <td>1.0</td>\n",
       "      <td>1.00</td>\n",
       "      <td>1.00</td>\n",
       "      <td>1.00</td>\n",
       "      <td>1.00</td>\n",
       "      <td>...</td>\n",
       "      <td>1</td>\n",
       "      <td>1</td>\n",
       "      <td>1</td>\n",
       "      <td>1</td>\n",
       "      <td>1.0</td>\n",
       "      <td>1.0</td>\n",
       "      <td>1.0</td>\n",
       "      <td>1.0</td>\n",
       "      <td>1.0</td>\n",
       "      <td>True</td>\n",
       "    </tr>\n",
       "    <tr>\n",
       "      <th>2</th>\n",
       "      <td>3</td>\n",
       "      <td>83.0</td>\n",
       "      <td>11.0</td>\n",
       "      <td>1.0</td>\n",
       "      <td>11.0</td>\n",
       "      <td>171.0</td>\n",
       "      <td>927.89</td>\n",
       "      <td>0.04</td>\n",
       "      <td>23.04</td>\n",
       "      <td>40.27</td>\n",
       "      <td>...</td>\n",
       "      <td>65</td>\n",
       "      <td>10</td>\n",
       "      <td>6</td>\n",
       "      <td>0</td>\n",
       "      <td>18.0</td>\n",
       "      <td>25.0</td>\n",
       "      <td>107.0</td>\n",
       "      <td>64.0</td>\n",
       "      <td>21.0</td>\n",
       "      <td>True</td>\n",
       "    </tr>\n",
       "    <tr>\n",
       "      <th>3</th>\n",
       "      <td>4</td>\n",
       "      <td>46.0</td>\n",
       "      <td>8.0</td>\n",
       "      <td>6.0</td>\n",
       "      <td>8.0</td>\n",
       "      <td>141.0</td>\n",
       "      <td>769.78</td>\n",
       "      <td>0.07</td>\n",
       "      <td>14.86</td>\n",
       "      <td>51.81</td>\n",
       "      <td>...</td>\n",
       "      <td>37</td>\n",
       "      <td>2</td>\n",
       "      <td>5</td>\n",
       "      <td>0</td>\n",
       "      <td>16.0</td>\n",
       "      <td>28.0</td>\n",
       "      <td>89.0</td>\n",
       "      <td>52.0</td>\n",
       "      <td>15.0</td>\n",
       "      <td>True</td>\n",
       "    </tr>\n",
       "    <tr>\n",
       "      <th>4</th>\n",
       "      <td>5</td>\n",
       "      <td>25.0</td>\n",
       "      <td>3.0</td>\n",
       "      <td>1.0</td>\n",
       "      <td>3.0</td>\n",
       "      <td>58.0</td>\n",
       "      <td>254.75</td>\n",
       "      <td>0.11</td>\n",
       "      <td>9.35</td>\n",
       "      <td>27.25</td>\n",
       "      <td>...</td>\n",
       "      <td>21</td>\n",
       "      <td>0</td>\n",
       "      <td>2</td>\n",
       "      <td>0</td>\n",
       "      <td>11.0</td>\n",
       "      <td>10.0</td>\n",
       "      <td>41.0</td>\n",
       "      <td>17.0</td>\n",
       "      <td>5.0</td>\n",
       "      <td>True</td>\n",
       "    </tr>\n",
       "  </tbody>\n",
       "</table>\n",
       "<p>5 rows × 23 columns</p>\n",
       "</div>"
      ],
      "text/plain": [
       "   id   loc  v(g)  ev(g)  iv(g)      n       v     l      d      i  ...  \\\n",
       "0   1   1.1   1.4    1.4    1.4    1.3    1.30  1.30   1.30   1.30  ...   \n",
       "1   2   1.0   1.0    1.0    1.0    1.0    1.00  1.00   1.00   1.00  ...   \n",
       "2   3  83.0  11.0    1.0   11.0  171.0  927.89  0.04  23.04  40.27  ...   \n",
       "3   4  46.0   8.0    6.0    8.0  141.0  769.78  0.07  14.86  51.81  ...   \n",
       "4   5  25.0   3.0    1.0    3.0   58.0  254.75  0.11   9.35  27.25  ...   \n",
       "\n",
       "   lOCode  lOComment  lOBlank  locCodeAndComment  uniq_Op  uniq_Opnd  \\\n",
       "0       2          2        2                  2      1.2        1.2   \n",
       "1       1          1        1                  1      1.0        1.0   \n",
       "2      65         10        6                  0     18.0       25.0   \n",
       "3      37          2        5                  0     16.0       28.0   \n",
       "4      21          0        2                  0     11.0       10.0   \n",
       "\n",
       "   total_Op  total_Opnd  branchCount  defects  \n",
       "0       1.2         1.2          1.4    False  \n",
       "1       1.0         1.0          1.0     True  \n",
       "2     107.0        64.0         21.0     True  \n",
       "3      89.0        52.0         15.0     True  \n",
       "4      41.0        17.0          5.0     True  \n",
       "\n",
       "[5 rows x 23 columns]"
      ]
     },
     "execution_count": 7,
     "metadata": {},
     "output_type": "execute_result"
    }
   ],
   "source": [
    "df.head()"
   ]
  },
  {
   "cell_type": "code",
   "execution_count": 8,
   "id": "733e95eb",
   "metadata": {
    "execution": {
     "iopub.execute_input": "2021-04-04T22:57:22.091333Z",
     "iopub.status.busy": "2021-04-04T22:57:22.090608Z",
     "iopub.status.idle": "2021-04-04T22:57:22.093707Z",
     "shell.execute_reply": "2021-04-04T22:57:22.092962Z"
    },
    "papermill": {
     "duration": 0.034387,
     "end_time": "2021-04-04T22:57:22.093861",
     "exception": false,
     "start_time": "2021-04-04T22:57:22.059474",
     "status": "completed"
    },
    "tags": []
   },
   "outputs": [],
   "source": [
    "del df['id']"
   ]
  },
  {
   "cell_type": "code",
   "execution_count": 9,
   "id": "6ff6f5b0",
   "metadata": {
    "execution": {
     "iopub.execute_input": "2021-04-04T22:57:22.144683Z",
     "iopub.status.busy": "2021-04-04T22:57:22.143768Z",
     "iopub.status.idle": "2021-04-04T22:57:22.146189Z",
     "shell.execute_reply": "2021-04-04T22:57:22.146781Z"
    },
    "papermill": {
     "duration": 0.02901,
     "end_time": "2021-04-04T22:57:22.146958",
     "exception": false,
     "start_time": "2021-04-04T22:57:22.117948",
     "status": "completed"
    },
    "tags": []
   },
   "outputs": [],
   "source": [
    "if PROFILE_REPORTING:\n",
    "    ProfileReport(df).to_widgets()"
   ]
  },
  {
   "cell_type": "markdown",
   "id": "1deaf3f0",
   "metadata": {
    "papermill": {
     "duration": 0.027341,
     "end_time": "2021-04-04T22:57:22.199389",
     "exception": false,
     "start_time": "2021-04-04T22:57:22.172048",
     "status": "completed"
    },
    "tags": []
   },
   "source": [
    "# Preprocess"
   ]
  },
  {
   "cell_type": "code",
   "execution_count": 10,
   "id": "1513e563",
   "metadata": {
    "execution": {
     "iopub.execute_input": "2021-04-04T22:57:22.251471Z",
     "iopub.status.busy": "2021-04-04T22:57:22.250569Z",
     "iopub.status.idle": "2021-04-04T22:57:22.252596Z",
     "shell.execute_reply": "2021-04-04T22:57:22.253074Z"
    },
    "papermill": {
     "duration": 0.029224,
     "end_time": "2021-04-04T22:57:22.253221",
     "exception": false,
     "start_time": "2021-04-04T22:57:22.223997",
     "status": "completed"
    },
    "tags": []
   },
   "outputs": [],
   "source": [
    "working_df = df.copy()"
   ]
  },
  {
   "cell_type": "code",
   "execution_count": 11,
   "id": "3b26d675",
   "metadata": {
    "execution": {
     "iopub.execute_input": "2021-04-04T22:57:22.313696Z",
     "iopub.status.busy": "2021-04-04T22:57:22.312950Z",
     "iopub.status.idle": "2021-04-04T22:57:22.316763Z",
     "shell.execute_reply": "2021-04-04T22:57:22.316116Z"
    },
    "papermill": {
     "duration": 0.039308,
     "end_time": "2021-04-04T22:57:22.316905",
     "exception": false,
     "start_time": "2021-04-04T22:57:22.277597",
     "status": "completed"
    },
    "tags": []
   },
   "outputs": [],
   "source": [
    "working_df['defects'] = working_df['defects'].replace([False, True], [0, 1])"
   ]
  },
  {
   "cell_type": "code",
   "execution_count": 12,
   "id": "eb48604f",
   "metadata": {
    "execution": {
     "iopub.execute_input": "2021-04-04T22:57:22.378912Z",
     "iopub.status.busy": "2021-04-04T22:57:22.377637Z",
     "iopub.status.idle": "2021-04-04T22:57:22.381069Z",
     "shell.execute_reply": "2021-04-04T22:57:22.381524Z"
    },
    "papermill": {
     "duration": 0.042384,
     "end_time": "2021-04-04T22:57:22.381665",
     "exception": false,
     "start_time": "2021-04-04T22:57:22.339281",
     "status": "completed"
    },
    "tags": []
   },
   "outputs": [],
   "source": [
    "for col in dataset_config['delete_columns']:\n",
    "    del working_df[col]"
   ]
  },
  {
   "cell_type": "code",
   "execution_count": 13,
   "id": "9a17bc29",
   "metadata": {
    "execution": {
     "iopub.execute_input": "2021-04-04T22:57:22.455029Z",
     "iopub.status.busy": "2021-04-04T22:57:22.454129Z",
     "iopub.status.idle": "2021-04-04T22:57:22.467749Z",
     "shell.execute_reply": "2021-04-04T22:57:22.468321Z"
    },
    "papermill": {
     "duration": 0.061183,
     "end_time": "2021-04-04T22:57:22.468485",
     "exception": false,
     "start_time": "2021-04-04T22:57:22.407302",
     "status": "completed"
    },
    "tags": []
   },
   "outputs": [],
   "source": [
    "working_df = working_df.drop_duplicates()"
   ]
  },
  {
   "cell_type": "markdown",
   "id": "a4d52ca6",
   "metadata": {
    "papermill": {
     "duration": 0.023772,
     "end_time": "2021-04-04T22:57:22.515006",
     "exception": false,
     "start_time": "2021-04-04T22:57:22.491234",
     "status": "completed"
    },
    "tags": []
   },
   "source": [
    "# Split"
   ]
  },
  {
   "cell_type": "code",
   "execution_count": 14,
   "id": "3e9ee4b5",
   "metadata": {
    "execution": {
     "iopub.execute_input": "2021-04-04T22:57:22.571672Z",
     "iopub.status.busy": "2021-04-04T22:57:22.570387Z",
     "iopub.status.idle": "2021-04-04T22:57:22.599206Z",
     "shell.execute_reply": "2021-04-04T22:57:22.599948Z"
    },
    "papermill": {
     "duration": 0.061454,
     "end_time": "2021-04-04T22:57:22.600118",
     "exception": false,
     "start_time": "2021-04-04T22:57:22.538664",
     "status": "completed"
    },
    "tags": []
   },
   "outputs": [],
   "source": [
    "from sklearn.model_selection import train_test_split"
   ]
  },
  {
   "cell_type": "code",
   "execution_count": 15,
   "id": "274004ce",
   "metadata": {
    "execution": {
     "iopub.execute_input": "2021-04-04T22:57:22.652318Z",
     "iopub.status.busy": "2021-04-04T22:57:22.651150Z",
     "iopub.status.idle": "2021-04-04T22:57:22.658141Z",
     "shell.execute_reply": "2021-04-04T22:57:22.659564Z"
    },
    "papermill": {
     "duration": 0.035283,
     "end_time": "2021-04-04T22:57:22.659963",
     "exception": false,
     "start_time": "2021-04-04T22:57:22.624680",
     "status": "completed"
    },
    "scrolled": true,
    "tags": []
   },
   "outputs": [],
   "source": [
    "inlier, outlier = working_df[working_df['defects'] == 0], working_df[working_df['defects'] == 1]"
   ]
  },
  {
   "cell_type": "code",
   "execution_count": 16,
   "id": "753c7b03",
   "metadata": {
    "execution": {
     "iopub.execute_input": "2021-04-04T22:57:22.722432Z",
     "iopub.status.busy": "2021-04-04T22:57:22.721599Z",
     "iopub.status.idle": "2021-04-04T22:57:22.728622Z",
     "shell.execute_reply": "2021-04-04T22:57:22.729929Z"
    },
    "papermill": {
     "duration": 0.046482,
     "end_time": "2021-04-04T22:57:22.730369",
     "exception": false,
     "start_time": "2021-04-04T22:57:22.683887",
     "status": "completed"
    },
    "tags": []
   },
   "outputs": [],
   "source": [
    "X_inlier = inlier.copy()\n",
    "y_inlier = X_inlier.pop('defects')\n",
    "X_outlier = outlier.copy()\n",
    "y_outlier = X_outlier.pop('defects')"
   ]
  },
  {
   "cell_type": "code",
   "execution_count": 17,
   "id": "2ba43193",
   "metadata": {
    "execution": {
     "iopub.execute_input": "2021-04-04T22:57:22.788545Z",
     "iopub.status.busy": "2021-04-04T22:57:22.787894Z",
     "iopub.status.idle": "2021-04-04T22:57:22.791153Z",
     "shell.execute_reply": "2021-04-04T22:57:22.791611Z"
    },
    "papermill": {
     "duration": 0.035444,
     "end_time": "2021-04-04T22:57:22.791763",
     "exception": false,
     "start_time": "2021-04-04T22:57:22.756319",
     "status": "completed"
    },
    "tags": []
   },
   "outputs": [],
   "source": [
    "test_size = dataset_config['test_size']\n",
    "random_state = dataset_config['random_state']\n",
    "\n",
    "X_inlier_train, X_inlier_test, y_inlier_train, y_inlier_test = train_test_split(\n",
    "    X_inlier,\n",
    "    y_inlier,\n",
    "    test_size=test_size,\n",
    "    random_state=random_state\n",
    ")"
   ]
  },
  {
   "cell_type": "code",
   "execution_count": 18,
   "id": "0b7582ca",
   "metadata": {
    "execution": {
     "iopub.execute_input": "2021-04-04T22:57:22.865879Z",
     "iopub.status.busy": "2021-04-04T22:57:22.865155Z",
     "iopub.status.idle": "2021-04-04T22:57:22.867823Z",
     "shell.execute_reply": "2021-04-04T22:57:22.867281Z"
    },
    "papermill": {
     "duration": 0.047188,
     "end_time": "2021-04-04T22:57:22.867944",
     "exception": false,
     "start_time": "2021-04-04T22:57:22.820756",
     "status": "completed"
    },
    "tags": []
   },
   "outputs": [],
   "source": [
    "test_outlier_size = dataset_config['test_outlier_size']\n",
    "if test_outlier_size > 0.0:\n",
    "    X_outlier_train, X_outlier_test, y_outlier_train, y_outlier_test = train_test_split(\n",
    "        X_outlier,\n",
    "        y_outlier,\n",
    "        test_size=test_outlier_size,\n",
    "        random_state=random_state\n",
    "    )\n",
    "else:\n",
    "    X_outlier_train, y_outlier_train = pd.DataFrame(columns=X_outlier.columns), pd.Series(dtype='int64')\n",
    "    X_outlier_test, y_outlier_test = X_outlier.copy(), y_outlier.copy()"
   ]
  },
  {
   "cell_type": "code",
   "execution_count": 19,
   "id": "c34363db",
   "metadata": {
    "execution": {
     "iopub.execute_input": "2021-04-04T22:57:22.926874Z",
     "iopub.status.busy": "2021-04-04T22:57:22.924559Z",
     "iopub.status.idle": "2021-04-04T22:57:22.931436Z",
     "shell.execute_reply": "2021-04-04T22:57:22.930808Z"
    },
    "papermill": {
     "duration": 0.038974,
     "end_time": "2021-04-04T22:57:22.931580",
     "exception": false,
     "start_time": "2021-04-04T22:57:22.892606",
     "status": "completed"
    },
    "tags": []
   },
   "outputs": [],
   "source": [
    "X_train, y_train = pd.concat([X_inlier_train, X_outlier_train], ignore_index=True), pd.concat([y_inlier_train, y_outlier_train], ignore_index=True)\n",
    "X_test, y_test = pd.concat([X_inlier_test, X_outlier_test], ignore_index=True), pd.concat([y_inlier_test, y_outlier_test], ignore_index=True)"
   ]
  },
  {
   "cell_type": "markdown",
   "id": "7cde7309",
   "metadata": {
    "papermill": {
     "duration": 0.028315,
     "end_time": "2021-04-04T22:57:22.984567",
     "exception": false,
     "start_time": "2021-04-04T22:57:22.956252",
     "status": "completed"
    },
    "tags": []
   },
   "source": [
    "# Model"
   ]
  },
  {
   "cell_type": "code",
   "execution_count": 20,
   "id": "2b12a415",
   "metadata": {
    "execution": {
     "iopub.execute_input": "2021-04-04T22:57:23.045117Z",
     "iopub.status.busy": "2021-04-04T22:57:23.044433Z",
     "iopub.status.idle": "2021-04-04T22:57:23.046164Z",
     "shell.execute_reply": "2021-04-04T22:57:23.046726Z"
    },
    "papermill": {
     "duration": 0.038899,
     "end_time": "2021-04-04T22:57:23.046872",
     "exception": false,
     "start_time": "2021-04-04T22:57:23.007973",
     "status": "completed"
    },
    "tags": []
   },
   "outputs": [],
   "source": [
    "from math import sqrt\n",
    "\n",
    "\n",
    "class KNNDataDescription:\n",
    "    def __init__(self, k=5, outlier_threshold=1.0):\n",
    "        self.k = k\n",
    "        self.outlier_threshold = outlier_threshold\n",
    "        self.X = []\n",
    "    \n",
    "    def fit(self, X):\n",
    "        self.X = [features.to_list() for index, features in X.iterrows()]\n",
    "\n",
    "    def predict(self, entries):\n",
    "        return [self.predict_entry(features.to_list()) for index, features in entries.iterrows()]\n",
    "    \n",
    "    def predict_entry(self, entry):\n",
    "        kth_neighbor, kth_distance = self.get_kth_neighbor(entry, self.k)\n",
    "        kth_kth_neighbor, kth_kth_distance = self.get_kth_neighbor(kth_neighbor, self.k + 1)\n",
    "\n",
    "        outlier_score = kth_distance / (kth_kth_distance + 0.000001)\n",
    "\n",
    "        return 1 if outlier_score < self.outlier_threshold else -1\n",
    "        \n",
    "    def euclidean_distance(self, features1, features2):\n",
    "        distance = 0.0\n",
    "        for feat1, feat2 in zip(features1, features2):\n",
    "            distance += (feat1 - feat2)**2\n",
    "                \n",
    "        return sqrt(distance)\n",
    "\n",
    "    def get_neighbors(self, entry, k):\n",
    "        distance_to_data_points = [\n",
    "            (data_point, self.euclidean_distance(entry, data_point))\n",
    "            for data_point in self.X\n",
    "        ]\n",
    "        sorted_by_distance = sorted(distance_to_data_points, key=lambda tup: tup[1])\n",
    "        neighbors = sorted_by_distance[:k]\n",
    "        return neighbors\n",
    "\n",
    "    def get_kth_neighbor(self, entry, k):\n",
    "        neighbors = self.get_neighbors(entry, k)\n",
    "        return neighbors[-1]\n"
   ]
  },
  {
   "cell_type": "code",
   "execution_count": 21,
   "id": "1fa9ec1c",
   "metadata": {
    "execution": {
     "iopub.execute_input": "2021-04-04T22:57:23.107351Z",
     "iopub.status.busy": "2021-04-04T22:57:23.106273Z",
     "iopub.status.idle": "2021-04-04T22:57:23.137323Z",
     "shell.execute_reply": "2021-04-04T22:57:23.136562Z"
    },
    "papermill": {
     "duration": 0.06621,
     "end_time": "2021-04-04T22:57:23.137626",
     "exception": false,
     "start_time": "2021-04-04T22:57:23.071416",
     "status": "completed"
    },
    "tags": []
   },
   "outputs": [],
   "source": [
    "from sklearn.svm import OneClassSVM\n",
    "\n",
    "\n",
    "models = {\n",
    "    'oneclasssvm': OneClassSVM,\n",
    "    'knndatadescription': KNNDataDescription,\n",
    "}"
   ]
  },
  {
   "cell_type": "code",
   "execution_count": 22,
   "id": "4d72a0b1",
   "metadata": {
    "execution": {
     "iopub.execute_input": "2021-04-04T22:57:23.191571Z",
     "iopub.status.busy": "2021-04-04T22:57:23.190989Z",
     "iopub.status.idle": "2021-04-04T22:57:23.193049Z",
     "shell.execute_reply": "2021-04-04T22:57:23.193495Z"
    },
    "papermill": {
     "duration": 0.032143,
     "end_time": "2021-04-04T22:57:23.193630",
     "exception": false,
     "start_time": "2021-04-04T22:57:23.161487",
     "status": "completed"
    },
    "scrolled": true,
    "tags": []
   },
   "outputs": [],
   "source": [
    "model_cls = models[model_config['model_type']]\n",
    "model = model_cls(**model_config['hyperparameters'])"
   ]
  },
  {
   "cell_type": "markdown",
   "id": "e00cff3b",
   "metadata": {
    "papermill": {
     "duration": 0.030644,
     "end_time": "2021-04-04T22:57:23.248425",
     "exception": false,
     "start_time": "2021-04-04T22:57:23.217781",
     "status": "completed"
    },
    "tags": []
   },
   "source": [
    "# Fit"
   ]
  },
  {
   "cell_type": "code",
   "execution_count": 23,
   "id": "8b2ded89",
   "metadata": {
    "execution": {
     "iopub.execute_input": "2021-04-04T22:57:23.306559Z",
     "iopub.status.busy": "2021-04-04T22:57:23.305889Z",
     "iopub.status.idle": "2021-04-04T22:57:23.366427Z",
     "shell.execute_reply": "2021-04-04T22:57:23.367307Z"
    },
    "papermill": {
     "duration": 0.090938,
     "end_time": "2021-04-04T22:57:23.367583",
     "exception": false,
     "start_time": "2021-04-04T22:57:23.276645",
     "status": "completed"
    },
    "tags": []
   },
   "outputs": [],
   "source": [
    "model.fit(X_train)"
   ]
  },
  {
   "cell_type": "markdown",
   "id": "f99999f7",
   "metadata": {
    "papermill": {
     "duration": 0.040288,
     "end_time": "2021-04-04T22:57:23.434297",
     "exception": false,
     "start_time": "2021-04-04T22:57:23.394009",
     "status": "completed"
    },
    "tags": []
   },
   "source": [
    "# Predict"
   ]
  },
  {
   "cell_type": "code",
   "execution_count": 24,
   "id": "6536fbf7",
   "metadata": {
    "execution": {
     "iopub.execute_input": "2021-04-04T22:57:23.501013Z",
     "iopub.status.busy": "2021-04-04T22:57:23.500305Z",
     "iopub.status.idle": "2021-04-04T22:57:25.884432Z",
     "shell.execute_reply": "2021-04-04T22:57:25.883910Z"
    },
    "papermill": {
     "duration": 2.416076,
     "end_time": "2021-04-04T22:57:25.884554",
     "exception": false,
     "start_time": "2021-04-04T22:57:23.468478",
     "status": "completed"
    },
    "tags": []
   },
   "outputs": [],
   "source": [
    "predictions = model.predict(X_test)"
   ]
  },
  {
   "cell_type": "markdown",
   "id": "aa1c9881",
   "metadata": {
    "papermill": {
     "duration": 0.029105,
     "end_time": "2021-04-04T22:57:25.937187",
     "exception": false,
     "start_time": "2021-04-04T22:57:25.908082",
     "status": "completed"
    },
    "tags": []
   },
   "source": [
    "# Evaluate"
   ]
  },
  {
   "cell_type": "code",
   "execution_count": 25,
   "id": "894f0f04",
   "metadata": {
    "execution": {
     "iopub.execute_input": "2021-04-04T22:57:25.993311Z",
     "iopub.status.busy": "2021-04-04T22:57:25.992653Z",
     "iopub.status.idle": "2021-04-04T22:57:25.994710Z",
     "shell.execute_reply": "2021-04-04T22:57:25.995259Z"
    },
    "papermill": {
     "duration": 0.034156,
     "end_time": "2021-04-04T22:57:25.995442",
     "exception": false,
     "start_time": "2021-04-04T22:57:25.961286",
     "status": "completed"
    },
    "tags": []
   },
   "outputs": [],
   "source": [
    "from sklearn.metrics import f1_score"
   ]
  },
  {
   "cell_type": "code",
   "execution_count": 26,
   "id": "211744d3",
   "metadata": {
    "execution": {
     "iopub.execute_input": "2021-04-04T22:57:26.058743Z",
     "iopub.status.busy": "2021-04-04T22:57:26.057569Z",
     "iopub.status.idle": "2021-04-04T22:57:26.063903Z",
     "shell.execute_reply": "2021-04-04T22:57:26.063264Z"
    },
    "papermill": {
     "duration": 0.0453,
     "end_time": "2021-04-04T22:57:26.064043",
     "exception": false,
     "start_time": "2021-04-04T22:57:26.018743",
     "status": "completed"
    },
    "tags": []
   },
   "outputs": [],
   "source": [
    "y_test = y_test.replace([0, 1], [1, -1])"
   ]
  },
  {
   "cell_type": "code",
   "execution_count": 27,
   "id": "d68a9204",
   "metadata": {
    "execution": {
     "iopub.execute_input": "2021-04-04T22:57:26.124786Z",
     "iopub.status.busy": "2021-04-04T22:57:26.123775Z",
     "iopub.status.idle": "2021-04-04T22:57:26.125877Z",
     "shell.execute_reply": "2021-04-04T22:57:26.126509Z"
    },
    "papermill": {
     "duration": 0.035866,
     "end_time": "2021-04-04T22:57:26.126738",
     "exception": false,
     "start_time": "2021-04-04T22:57:26.090872",
     "status": "completed"
    },
    "tags": []
   },
   "outputs": [],
   "source": [
    "def evaluate(truths, predictions, pos_label, neg_label):\n",
    "    TP = 0\n",
    "    FP = 0\n",
    "    TN = 0\n",
    "    FN = 0\n",
    "\n",
    "    for truth, pred in zip(truths, predictions): \n",
    "        if truth == pred == pos_label:\n",
    "           TP += 1\n",
    "        elif pred == pos_label and truth == neg_label:\n",
    "           FP += 1\n",
    "        elif truth == pred == neg_label:\n",
    "           TN += 1\n",
    "        elif pred == neg_label and truth == pos_label:\n",
    "           FN += 1\n",
    "\n",
    "    precision = TP / (TP + FP)\n",
    "    sensitivity = TP / (TP + FN)\n",
    "    \n",
    "    return {\n",
    "        'true_pos': TP,\n",
    "        'false_pos': FP,\n",
    "        'false_neg': FN,\n",
    "        'true_neg': TN,\n",
    "        'precision': precision,\n",
    "        'sensitivity': sensitivity,\n",
    "        'f1': (2 * (precision * sensitivity)) / (precision + sensitivity)\n",
    "    }\n",
    "\n",
    "score = evaluate(y_test, predictions, pos_label=-1, neg_label=1)"
   ]
  },
  {
   "cell_type": "markdown",
   "id": "93596516",
   "metadata": {
    "papermill": {
     "duration": 0.031687,
     "end_time": "2021-04-04T22:57:26.186610",
     "exception": false,
     "start_time": "2021-04-04T22:57:26.154923",
     "status": "completed"
    },
    "tags": []
   },
   "source": [
    "# Report"
   ]
  },
  {
   "cell_type": "code",
   "execution_count": 28,
   "id": "bea5fba1",
   "metadata": {
    "execution": {
     "iopub.execute_input": "2021-04-04T22:57:26.248285Z",
     "iopub.status.busy": "2021-04-04T22:57:26.246805Z",
     "iopub.status.idle": "2021-04-04T22:57:26.249929Z",
     "shell.execute_reply": "2021-04-04T22:57:26.250684Z"
    },
    "papermill": {
     "duration": 0.036444,
     "end_time": "2021-04-04T22:57:26.251023",
     "exception": false,
     "start_time": "2021-04-04T22:57:26.214579",
     "status": "completed"
    },
    "tags": []
   },
   "outputs": [],
   "source": [
    "import csv\n",
    "\n",
    "\n",
    "dataset_config_name = DATASET_CONFIG_PATH.split('/')[-1].split('.')[0]\n",
    "model_config_name = MODEL_CONFIG_PATH.split('/')[-1].split('.')[0]\n",
    "configuration = f\"dataset_{dataset_config_name}-model_{model_config_name}\"\n",
    "\n",
    "with open('results.csv', 'a') as f:\n",
    "    report = dict({'configuration': configuration}, **score)\n",
    "    writer = csv.DictWriter(f, report.keys())\n",
    "    writer.writerow(report)"
   ]
  }
 ],
 "metadata": {
  "celltoolbar": "Tags",
  "kernelspec": {
   "display_name": "Python 3",
   "language": "python",
   "name": "python3"
  },
  "language_info": {
   "codemirror_mode": {
    "name": "ipython",
    "version": 3
   },
   "file_extension": ".py",
   "mimetype": "text/x-python",
   "name": "python",
   "nbconvert_exporter": "python",
   "pygments_lexer": "ipython3",
   "version": "3.9.1"
  },
  "papermill": {
   "default_parameters": {},
   "duration": 7.718278,
   "end_time": "2021-04-04T22:57:26.886583",
   "environment_variables": {},
   "exception": null,
   "input_path": "main.ipynb",
   "output_path": "runs/dataset_000064-model_000003.ipynb",
   "parameters": {
    "DATASET_CONFIG_PATH": "config/dataset/000064.json",
    "MODEL_CONFIG_PATH": "config/model/000003.json",
    "PROFILE_REPORTING": false
   },
   "start_time": "2021-04-04T22:57:19.168305",
   "version": "2.3.3"
  }
 },
 "nbformat": 4,
 "nbformat_minor": 5
}