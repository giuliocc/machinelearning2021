{
 "cells": [
  {
   "cell_type": "markdown",
   "id": "51c71c25",
   "metadata": {
    "papermill": {
     "duration": 0.031464,
     "end_time": "2021-04-04T23:08:08.580182",
     "exception": false,
     "start_time": "2021-04-04T23:08:08.548718",
     "status": "completed"
    },
    "tags": []
   },
   "source": [
    "# Parametrizing"
   ]
  },
  {
   "cell_type": "code",
   "execution_count": 1,
   "id": "3b136394",
   "metadata": {
    "execution": {
     "iopub.execute_input": "2021-04-04T23:08:08.632086Z",
     "iopub.status.busy": "2021-04-04T23:08:08.631232Z",
     "iopub.status.idle": "2021-04-04T23:08:08.635280Z",
     "shell.execute_reply": "2021-04-04T23:08:08.634279Z"
    },
    "papermill": {
     "duration": 0.035543,
     "end_time": "2021-04-04T23:08:08.635492",
     "exception": false,
     "start_time": "2021-04-04T23:08:08.599949",
     "status": "completed"
    },
    "tags": [
     "parameters"
    ]
   },
   "outputs": [],
   "source": [
    "DATASET_CONFIG_PATH = 'config/dataset/kc1_001.json'\n",
    "MODEL_CONFIG_PATH = 'config/model/knndd_001.json'\n",
    "PROFILE_REPORTING = False"
   ]
  },
  {
   "cell_type": "code",
   "execution_count": 2,
   "id": "b2fa7db3",
   "metadata": {
    "execution": {
     "iopub.execute_input": "2021-04-04T23:08:08.684974Z",
     "iopub.status.busy": "2021-04-04T23:08:08.684266Z",
     "iopub.status.idle": "2021-04-04T23:08:08.686161Z",
     "shell.execute_reply": "2021-04-04T23:08:08.686629Z"
    },
    "papermill": {
     "duration": 0.02602,
     "end_time": "2021-04-04T23:08:08.686785",
     "exception": false,
     "start_time": "2021-04-04T23:08:08.660765",
     "status": "completed"
    },
    "tags": [
     "injected-parameters"
    ]
   },
   "outputs": [],
   "source": [
    "# Parameters\n",
    "DATASET_CONFIG_PATH = \"config/dataset/000088.json\"\n",
    "MODEL_CONFIG_PATH = \"config/model/000002.json\"\n",
    "PROFILE_REPORTING = False\n"
   ]
  },
  {
   "cell_type": "code",
   "execution_count": 3,
   "id": "b80f2a10",
   "metadata": {
    "execution": {
     "iopub.execute_input": "2021-04-04T23:08:08.734053Z",
     "iopub.status.busy": "2021-04-04T23:08:08.733304Z",
     "iopub.status.idle": "2021-04-04T23:08:08.735448Z",
     "shell.execute_reply": "2021-04-04T23:08:08.734948Z"
    },
    "papermill": {
     "duration": 0.027735,
     "end_time": "2021-04-04T23:08:08.735565",
     "exception": false,
     "start_time": "2021-04-04T23:08:08.707830",
     "status": "completed"
    },
    "tags": []
   },
   "outputs": [],
   "source": [
    "import json\n",
    "\n",
    "\n",
    "with open(DATASET_CONFIG_PATH) as f:\n",
    "    dataset_config = json.load(f)\n",
    "\n",
    "with open(MODEL_CONFIG_PATH) as f:\n",
    "    model_config = json.load(f)"
   ]
  },
  {
   "cell_type": "markdown",
   "id": "9a4b0e2d",
   "metadata": {
    "papermill": {
     "duration": 0.020229,
     "end_time": "2021-04-04T23:08:08.785399",
     "exception": false,
     "start_time": "2021-04-04T23:08:08.765170",
     "status": "completed"
    },
    "tags": []
   },
   "source": [
    "# Profiling"
   ]
  },
  {
   "cell_type": "code",
   "execution_count": 4,
   "id": "a3e0289b",
   "metadata": {
    "execution": {
     "iopub.execute_input": "2021-04-04T23:08:08.831282Z",
     "iopub.status.busy": "2021-04-04T23:08:08.830251Z",
     "iopub.status.idle": "2021-04-04T23:08:10.096898Z",
     "shell.execute_reply": "2021-04-04T23:08:10.096118Z"
    },
    "papermill": {
     "duration": 1.290769,
     "end_time": "2021-04-04T23:08:10.097068",
     "exception": false,
     "start_time": "2021-04-04T23:08:08.806299",
     "status": "completed"
    },
    "tags": []
   },
   "outputs": [],
   "source": [
    "import pandas as pd\n",
    "from pandas_profiling import ProfileReport"
   ]
  },
  {
   "cell_type": "code",
   "execution_count": 5,
   "id": "ee6c0666",
   "metadata": {
    "execution": {
     "iopub.execute_input": "2021-04-04T23:08:10.152846Z",
     "iopub.status.busy": "2021-04-04T23:08:10.151429Z",
     "iopub.status.idle": "2021-04-04T23:08:10.162226Z",
     "shell.execute_reply": "2021-04-04T23:08:10.162703Z"
    },
    "papermill": {
     "duration": 0.036957,
     "end_time": "2021-04-04T23:08:10.162848",
     "exception": false,
     "start_time": "2021-04-04T23:08:10.125891",
     "status": "completed"
    },
    "tags": []
   },
   "outputs": [],
   "source": [
    "df = pd.read_csv(dataset_config['dataset_path'])"
   ]
  },
  {
   "cell_type": "code",
   "execution_count": 6,
   "id": "7eca6c4a",
   "metadata": {
    "execution": {
     "iopub.execute_input": "2021-04-04T23:08:10.223990Z",
     "iopub.status.busy": "2021-04-04T23:08:10.208445Z",
     "iopub.status.idle": "2021-04-04T23:08:10.227208Z",
     "shell.execute_reply": "2021-04-04T23:08:10.226716Z"
    },
    "papermill": {
     "duration": 0.044118,
     "end_time": "2021-04-04T23:08:10.227329",
     "exception": false,
     "start_time": "2021-04-04T23:08:10.183211",
     "status": "completed"
    },
    "tags": []
   },
   "outputs": [
    {
     "name": "stdout",
     "output_type": "stream",
     "text": [
      "<class 'pandas.core.frame.DataFrame'>\n",
      "RangeIndex: 498 entries, 0 to 497\n",
      "Data columns (total 23 columns):\n",
      " #   Column             Non-Null Count  Dtype  \n",
      "---  ------             --------------  -----  \n",
      " 0   id                 498 non-null    int64  \n",
      " 1   loc                498 non-null    float64\n",
      " 2   v(g)               498 non-null    float64\n",
      " 3   ev(g)              498 non-null    float64\n",
      " 4   iv(g)              498 non-null    float64\n",
      " 5   n                  498 non-null    float64\n",
      " 6   v                  498 non-null    float64\n",
      " 7   l                  498 non-null    float64\n",
      " 8   d                  498 non-null    float64\n",
      " 9   i                  498 non-null    float64\n",
      " 10  e                  498 non-null    float64\n",
      " 11  b                  498 non-null    float64\n",
      " 12  t                  498 non-null    float64\n",
      " 13  lOCode             498 non-null    int64  \n",
      " 14  lOComment          498 non-null    int64  \n",
      " 15  lOBlank            498 non-null    int64  \n",
      " 16  locCodeAndComment  498 non-null    int64  \n",
      " 17  uniq_Op            498 non-null    float64\n",
      " 18  uniq_Opnd          498 non-null    float64\n",
      " 19  total_Op           498 non-null    float64\n",
      " 20  total_Opnd         498 non-null    float64\n",
      " 21  branchCount        498 non-null    float64\n",
      " 22  defects            498 non-null    bool   \n",
      "dtypes: bool(1), float64(17), int64(5)\n",
      "memory usage: 86.2 KB\n"
     ]
    }
   ],
   "source": [
    "df.info()"
   ]
  },
  {
   "cell_type": "code",
   "execution_count": 7,
   "id": "3638e5e8",
   "metadata": {
    "execution": {
     "iopub.execute_input": "2021-04-04T23:08:10.278200Z",
     "iopub.status.busy": "2021-04-04T23:08:10.277588Z",
     "iopub.status.idle": "2021-04-04T23:08:10.308025Z",
     "shell.execute_reply": "2021-04-04T23:08:10.307166Z"
    },
    "papermill": {
     "duration": 0.059157,
     "end_time": "2021-04-04T23:08:10.308216",
     "exception": false,
     "start_time": "2021-04-04T23:08:10.249059",
     "status": "completed"
    },
    "tags": []
   },
   "outputs": [
    {
     "data": {
      "text/html": [
       "<div>\n",
       "<style scoped>\n",
       "    .dataframe tbody tr th:only-of-type {\n",
       "        vertical-align: middle;\n",
       "    }\n",
       "\n",
       "    .dataframe tbody tr th {\n",
       "        vertical-align: top;\n",
       "    }\n",
       "\n",
       "    .dataframe thead th {\n",
       "        text-align: right;\n",
       "    }\n",
       "</style>\n",
       "<table border=\"1\" class=\"dataframe\">\n",
       "  <thead>\n",
       "    <tr style=\"text-align: right;\">\n",
       "      <th></th>\n",
       "      <th>id</th>\n",
       "      <th>loc</th>\n",
       "      <th>v(g)</th>\n",
       "      <th>ev(g)</th>\n",
       "      <th>iv(g)</th>\n",
       "      <th>n</th>\n",
       "      <th>v</th>\n",
       "      <th>l</th>\n",
       "      <th>d</th>\n",
       "      <th>i</th>\n",
       "      <th>...</th>\n",
       "      <th>lOCode</th>\n",
       "      <th>lOComment</th>\n",
       "      <th>lOBlank</th>\n",
       "      <th>locCodeAndComment</th>\n",
       "      <th>uniq_Op</th>\n",
       "      <th>uniq_Opnd</th>\n",
       "      <th>total_Op</th>\n",
       "      <th>total_Opnd</th>\n",
       "      <th>branchCount</th>\n",
       "      <th>defects</th>\n",
       "    </tr>\n",
       "  </thead>\n",
       "  <tbody>\n",
       "    <tr>\n",
       "      <th>0</th>\n",
       "      <td>1</td>\n",
       "      <td>1.1</td>\n",
       "      <td>1.4</td>\n",
       "      <td>1.4</td>\n",
       "      <td>1.4</td>\n",
       "      <td>1.3</td>\n",
       "      <td>1.30</td>\n",
       "      <td>1.30</td>\n",
       "      <td>1.30</td>\n",
       "      <td>1.30</td>\n",
       "      <td>...</td>\n",
       "      <td>2</td>\n",
       "      <td>2</td>\n",
       "      <td>2</td>\n",
       "      <td>2</td>\n",
       "      <td>1.2</td>\n",
       "      <td>1.2</td>\n",
       "      <td>1.2</td>\n",
       "      <td>1.2</td>\n",
       "      <td>1.4</td>\n",
       "      <td>False</td>\n",
       "    </tr>\n",
       "    <tr>\n",
       "      <th>1</th>\n",
       "      <td>2</td>\n",
       "      <td>1.0</td>\n",
       "      <td>1.0</td>\n",
       "      <td>1.0</td>\n",
       "      <td>1.0</td>\n",
       "      <td>1.0</td>\n",
       "      <td>1.00</td>\n",
       "      <td>1.00</td>\n",
       "      <td>1.00</td>\n",
       "      <td>1.00</td>\n",
       "      <td>...</td>\n",
       "      <td>1</td>\n",
       "      <td>1</td>\n",
       "      <td>1</td>\n",
       "      <td>1</td>\n",
       "      <td>1.0</td>\n",
       "      <td>1.0</td>\n",
       "      <td>1.0</td>\n",
       "      <td>1.0</td>\n",
       "      <td>1.0</td>\n",
       "      <td>True</td>\n",
       "    </tr>\n",
       "    <tr>\n",
       "      <th>2</th>\n",
       "      <td>3</td>\n",
       "      <td>24.0</td>\n",
       "      <td>5.0</td>\n",
       "      <td>1.0</td>\n",
       "      <td>3.0</td>\n",
       "      <td>63.0</td>\n",
       "      <td>309.13</td>\n",
       "      <td>0.11</td>\n",
       "      <td>9.50</td>\n",
       "      <td>32.54</td>\n",
       "      <td>...</td>\n",
       "      <td>1</td>\n",
       "      <td>0</td>\n",
       "      <td>6</td>\n",
       "      <td>0</td>\n",
       "      <td>15.0</td>\n",
       "      <td>15.0</td>\n",
       "      <td>44.0</td>\n",
       "      <td>19.0</td>\n",
       "      <td>9.0</td>\n",
       "      <td>False</td>\n",
       "    </tr>\n",
       "    <tr>\n",
       "      <th>3</th>\n",
       "      <td>4</td>\n",
       "      <td>20.0</td>\n",
       "      <td>4.0</td>\n",
       "      <td>4.0</td>\n",
       "      <td>2.0</td>\n",
       "      <td>47.0</td>\n",
       "      <td>215.49</td>\n",
       "      <td>0.06</td>\n",
       "      <td>16.00</td>\n",
       "      <td>13.47</td>\n",
       "      <td>...</td>\n",
       "      <td>0</td>\n",
       "      <td>0</td>\n",
       "      <td>3</td>\n",
       "      <td>0</td>\n",
       "      <td>16.0</td>\n",
       "      <td>8.0</td>\n",
       "      <td>31.0</td>\n",
       "      <td>16.0</td>\n",
       "      <td>7.0</td>\n",
       "      <td>False</td>\n",
       "    </tr>\n",
       "    <tr>\n",
       "      <th>4</th>\n",
       "      <td>5</td>\n",
       "      <td>24.0</td>\n",
       "      <td>6.0</td>\n",
       "      <td>6.0</td>\n",
       "      <td>2.0</td>\n",
       "      <td>72.0</td>\n",
       "      <td>346.13</td>\n",
       "      <td>0.06</td>\n",
       "      <td>17.33</td>\n",
       "      <td>19.97</td>\n",
       "      <td>...</td>\n",
       "      <td>0</td>\n",
       "      <td>0</td>\n",
       "      <td>3</td>\n",
       "      <td>0</td>\n",
       "      <td>16.0</td>\n",
       "      <td>12.0</td>\n",
       "      <td>46.0</td>\n",
       "      <td>26.0</td>\n",
       "      <td>11.0</td>\n",
       "      <td>False</td>\n",
       "    </tr>\n",
       "  </tbody>\n",
       "</table>\n",
       "<p>5 rows × 23 columns</p>\n",
       "</div>"
      ],
      "text/plain": [
       "   id   loc  v(g)  ev(g)  iv(g)     n       v     l      d      i  ...  \\\n",
       "0   1   1.1   1.4    1.4    1.4   1.3    1.30  1.30   1.30   1.30  ...   \n",
       "1   2   1.0   1.0    1.0    1.0   1.0    1.00  1.00   1.00   1.00  ...   \n",
       "2   3  24.0   5.0    1.0    3.0  63.0  309.13  0.11   9.50  32.54  ...   \n",
       "3   4  20.0   4.0    4.0    2.0  47.0  215.49  0.06  16.00  13.47  ...   \n",
       "4   5  24.0   6.0    6.0    2.0  72.0  346.13  0.06  17.33  19.97  ...   \n",
       "\n",
       "   lOCode  lOComment  lOBlank  locCodeAndComment  uniq_Op  uniq_Opnd  \\\n",
       "0       2          2        2                  2      1.2        1.2   \n",
       "1       1          1        1                  1      1.0        1.0   \n",
       "2       1          0        6                  0     15.0       15.0   \n",
       "3       0          0        3                  0     16.0        8.0   \n",
       "4       0          0        3                  0     16.0       12.0   \n",
       "\n",
       "   total_Op  total_Opnd  branchCount  defects  \n",
       "0       1.2         1.2          1.4    False  \n",
       "1       1.0         1.0          1.0     True  \n",
       "2      44.0        19.0          9.0    False  \n",
       "3      31.0        16.0          7.0    False  \n",
       "4      46.0        26.0         11.0    False  \n",
       "\n",
       "[5 rows x 23 columns]"
      ]
     },
     "execution_count": 7,
     "metadata": {},
     "output_type": "execute_result"
    }
   ],
   "source": [
    "df.head()"
   ]
  },
  {
   "cell_type": "code",
   "execution_count": 8,
   "id": "733e95eb",
   "metadata": {
    "execution": {
     "iopub.execute_input": "2021-04-04T23:08:10.363758Z",
     "iopub.status.busy": "2021-04-04T23:08:10.362756Z",
     "iopub.status.idle": "2021-04-04T23:08:10.365047Z",
     "shell.execute_reply": "2021-04-04T23:08:10.365725Z"
    },
    "papermill": {
     "duration": 0.033045,
     "end_time": "2021-04-04T23:08:10.365920",
     "exception": false,
     "start_time": "2021-04-04T23:08:10.332875",
     "status": "completed"
    },
    "tags": []
   },
   "outputs": [],
   "source": [
    "del df['id']"
   ]
  },
  {
   "cell_type": "code",
   "execution_count": 9,
   "id": "6ff6f5b0",
   "metadata": {
    "execution": {
     "iopub.execute_input": "2021-04-04T23:08:10.420560Z",
     "iopub.status.busy": "2021-04-04T23:08:10.419837Z",
     "iopub.status.idle": "2021-04-04T23:08:10.421896Z",
     "shell.execute_reply": "2021-04-04T23:08:10.422360Z"
    },
    "papermill": {
     "duration": 0.028986,
     "end_time": "2021-04-04T23:08:10.422512",
     "exception": false,
     "start_time": "2021-04-04T23:08:10.393526",
     "status": "completed"
    },
    "tags": []
   },
   "outputs": [],
   "source": [
    "if PROFILE_REPORTING:\n",
    "    ProfileReport(df).to_widgets()"
   ]
  },
  {
   "cell_type": "markdown",
   "id": "1deaf3f0",
   "metadata": {
    "papermill": {
     "duration": 0.021002,
     "end_time": "2021-04-04T23:08:10.465287",
     "exception": false,
     "start_time": "2021-04-04T23:08:10.444285",
     "status": "completed"
    },
    "tags": []
   },
   "source": [
    "# Preprocess"
   ]
  },
  {
   "cell_type": "code",
   "execution_count": 10,
   "id": "1513e563",
   "metadata": {
    "execution": {
     "iopub.execute_input": "2021-04-04T23:08:10.513034Z",
     "iopub.status.busy": "2021-04-04T23:08:10.512277Z",
     "iopub.status.idle": "2021-04-04T23:08:10.515350Z",
     "shell.execute_reply": "2021-04-04T23:08:10.514443Z"
    },
    "papermill": {
     "duration": 0.029005,
     "end_time": "2021-04-04T23:08:10.515531",
     "exception": false,
     "start_time": "2021-04-04T23:08:10.486526",
     "status": "completed"
    },
    "tags": []
   },
   "outputs": [],
   "source": [
    "working_df = df.copy()"
   ]
  },
  {
   "cell_type": "code",
   "execution_count": 11,
   "id": "3b26d675",
   "metadata": {
    "execution": {
     "iopub.execute_input": "2021-04-04T23:08:10.571410Z",
     "iopub.status.busy": "2021-04-04T23:08:10.570541Z",
     "iopub.status.idle": "2021-04-04T23:08:10.572762Z",
     "shell.execute_reply": "2021-04-04T23:08:10.573245Z"
    },
    "papermill": {
     "duration": 0.031308,
     "end_time": "2021-04-04T23:08:10.573392",
     "exception": false,
     "start_time": "2021-04-04T23:08:10.542084",
     "status": "completed"
    },
    "tags": []
   },
   "outputs": [],
   "source": [
    "working_df['defects'] = working_df['defects'].replace([False, True], [0, 1])"
   ]
  },
  {
   "cell_type": "code",
   "execution_count": 12,
   "id": "eb48604f",
   "metadata": {
    "execution": {
     "iopub.execute_input": "2021-04-04T23:08:10.624899Z",
     "iopub.status.busy": "2021-04-04T23:08:10.624066Z",
     "iopub.status.idle": "2021-04-04T23:08:10.626291Z",
     "shell.execute_reply": "2021-04-04T23:08:10.626786Z"
    },
    "papermill": {
     "duration": 0.028914,
     "end_time": "2021-04-04T23:08:10.626932",
     "exception": false,
     "start_time": "2021-04-04T23:08:10.598018",
     "status": "completed"
    },
    "tags": []
   },
   "outputs": [],
   "source": [
    "for col in dataset_config['delete_columns']:\n",
    "    del working_df[col]"
   ]
  },
  {
   "cell_type": "code",
   "execution_count": 13,
   "id": "9a17bc29",
   "metadata": {
    "execution": {
     "iopub.execute_input": "2021-04-04T23:08:10.680956Z",
     "iopub.status.busy": "2021-04-04T23:08:10.678915Z",
     "iopub.status.idle": "2021-04-04T23:08:10.691783Z",
     "shell.execute_reply": "2021-04-04T23:08:10.692714Z"
    },
    "papermill": {
     "duration": 0.042464,
     "end_time": "2021-04-04T23:08:10.692970",
     "exception": false,
     "start_time": "2021-04-04T23:08:10.650506",
     "status": "completed"
    },
    "tags": []
   },
   "outputs": [],
   "source": [
    "working_df = working_df.drop_duplicates()"
   ]
  },
  {
   "cell_type": "markdown",
   "id": "a4d52ca6",
   "metadata": {
    "papermill": {
     "duration": 0.028061,
     "end_time": "2021-04-04T23:08:10.749610",
     "exception": false,
     "start_time": "2021-04-04T23:08:10.721549",
     "status": "completed"
    },
    "tags": []
   },
   "source": [
    "# Split"
   ]
  },
  {
   "cell_type": "code",
   "execution_count": 14,
   "id": "3e9ee4b5",
   "metadata": {
    "execution": {
     "iopub.execute_input": "2021-04-04T23:08:10.801391Z",
     "iopub.status.busy": "2021-04-04T23:08:10.800560Z",
     "iopub.status.idle": "2021-04-04T23:08:10.832802Z",
     "shell.execute_reply": "2021-04-04T23:08:10.831949Z"
    },
    "papermill": {
     "duration": 0.058982,
     "end_time": "2021-04-04T23:08:10.832967",
     "exception": false,
     "start_time": "2021-04-04T23:08:10.773985",
     "status": "completed"
    },
    "tags": []
   },
   "outputs": [],
   "source": [
    "from sklearn.model_selection import train_test_split"
   ]
  },
  {
   "cell_type": "code",
   "execution_count": 15,
   "id": "274004ce",
   "metadata": {
    "execution": {
     "iopub.execute_input": "2021-04-04T23:08:10.894199Z",
     "iopub.status.busy": "2021-04-04T23:08:10.893585Z",
     "iopub.status.idle": "2021-04-04T23:08:10.899978Z",
     "shell.execute_reply": "2021-04-04T23:08:10.899330Z"
    },
    "papermill": {
     "duration": 0.033389,
     "end_time": "2021-04-04T23:08:10.900105",
     "exception": false,
     "start_time": "2021-04-04T23:08:10.866716",
     "status": "completed"
    },
    "scrolled": true,
    "tags": []
   },
   "outputs": [],
   "source": [
    "inlier, outlier = working_df[working_df['defects'] == 0], working_df[working_df['defects'] == 1]"
   ]
  },
  {
   "cell_type": "code",
   "execution_count": 16,
   "id": "753c7b03",
   "metadata": {
    "execution": {
     "iopub.execute_input": "2021-04-04T23:08:10.954362Z",
     "iopub.status.busy": "2021-04-04T23:08:10.952031Z",
     "iopub.status.idle": "2021-04-04T23:08:10.956821Z",
     "shell.execute_reply": "2021-04-04T23:08:10.957602Z"
    },
    "papermill": {
     "duration": 0.032908,
     "end_time": "2021-04-04T23:08:10.957811",
     "exception": false,
     "start_time": "2021-04-04T23:08:10.924903",
     "status": "completed"
    },
    "tags": []
   },
   "outputs": [],
   "source": [
    "X_inlier = inlier.copy()\n",
    "y_inlier = X_inlier.pop('defects')\n",
    "X_outlier = outlier.copy()\n",
    "y_outlier = X_outlier.pop('defects')"
   ]
  },
  {
   "cell_type": "code",
   "execution_count": 17,
   "id": "2ba43193",
   "metadata": {
    "execution": {
     "iopub.execute_input": "2021-04-04T23:08:11.019316Z",
     "iopub.status.busy": "2021-04-04T23:08:11.018204Z",
     "iopub.status.idle": "2021-04-04T23:08:11.020727Z",
     "shell.execute_reply": "2021-04-04T23:08:11.021355Z"
    },
    "papermill": {
     "duration": 0.03437,
     "end_time": "2021-04-04T23:08:11.021537",
     "exception": false,
     "start_time": "2021-04-04T23:08:10.987167",
     "status": "completed"
    },
    "tags": []
   },
   "outputs": [],
   "source": [
    "test_size = dataset_config['test_size']\n",
    "random_state = dataset_config['random_state']\n",
    "\n",
    "X_inlier_train, X_inlier_test, y_inlier_train, y_inlier_test = train_test_split(\n",
    "    X_inlier,\n",
    "    y_inlier,\n",
    "    test_size=test_size,\n",
    "    random_state=random_state\n",
    ")"
   ]
  },
  {
   "cell_type": "code",
   "execution_count": 18,
   "id": "0b7582ca",
   "metadata": {
    "execution": {
     "iopub.execute_input": "2021-04-04T23:08:11.080091Z",
     "iopub.status.busy": "2021-04-04T23:08:11.079141Z",
     "iopub.status.idle": "2021-04-04T23:08:11.082647Z",
     "shell.execute_reply": "2021-04-04T23:08:11.081785Z"
    },
    "papermill": {
     "duration": 0.037272,
     "end_time": "2021-04-04T23:08:11.082836",
     "exception": false,
     "start_time": "2021-04-04T23:08:11.045564",
     "status": "completed"
    },
    "tags": []
   },
   "outputs": [],
   "source": [
    "test_outlier_size = dataset_config['test_outlier_size']\n",
    "if test_outlier_size > 0.0:\n",
    "    X_outlier_train, X_outlier_test, y_outlier_train, y_outlier_test = train_test_split(\n",
    "        X_outlier,\n",
    "        y_outlier,\n",
    "        test_size=test_outlier_size,\n",
    "        random_state=random_state\n",
    "    )\n",
    "else:\n",
    "    X_outlier_train, y_outlier_train = pd.DataFrame(columns=X_outlier.columns), pd.Series(dtype='int64')\n",
    "    X_outlier_test, y_outlier_test = X_outlier.copy(), y_outlier.copy()"
   ]
  },
  {
   "cell_type": "code",
   "execution_count": 19,
   "id": "c34363db",
   "metadata": {
    "execution": {
     "iopub.execute_input": "2021-04-04T23:08:11.142258Z",
     "iopub.status.busy": "2021-04-04T23:08:11.141356Z",
     "iopub.status.idle": "2021-04-04T23:08:11.143716Z",
     "shell.execute_reply": "2021-04-04T23:08:11.144599Z"
    },
    "papermill": {
     "duration": 0.037028,
     "end_time": "2021-04-04T23:08:11.144846",
     "exception": false,
     "start_time": "2021-04-04T23:08:11.107818",
     "status": "completed"
    },
    "tags": []
   },
   "outputs": [],
   "source": [
    "X_train, y_train = pd.concat([X_inlier_train, X_outlier_train], ignore_index=True), pd.concat([y_inlier_train, y_outlier_train], ignore_index=True)\n",
    "X_test, y_test = pd.concat([X_inlier_test, X_outlier_test], ignore_index=True), pd.concat([y_inlier_test, y_outlier_test], ignore_index=True)"
   ]
  },
  {
   "cell_type": "markdown",
   "id": "7cde7309",
   "metadata": {
    "papermill": {
     "duration": 0.02195,
     "end_time": "2021-04-04T23:08:11.190748",
     "exception": false,
     "start_time": "2021-04-04T23:08:11.168798",
     "status": "completed"
    },
    "tags": []
   },
   "source": [
    "# Model"
   ]
  },
  {
   "cell_type": "code",
   "execution_count": 20,
   "id": "2b12a415",
   "metadata": {
    "execution": {
     "iopub.execute_input": "2021-04-04T23:08:11.249289Z",
     "iopub.status.busy": "2021-04-04T23:08:11.247864Z",
     "iopub.status.idle": "2021-04-04T23:08:11.251598Z",
     "shell.execute_reply": "2021-04-04T23:08:11.250713Z"
    },
    "papermill": {
     "duration": 0.039073,
     "end_time": "2021-04-04T23:08:11.251799",
     "exception": false,
     "start_time": "2021-04-04T23:08:11.212726",
     "status": "completed"
    },
    "tags": []
   },
   "outputs": [],
   "source": [
    "from math import sqrt\n",
    "\n",
    "\n",
    "class KNNDataDescription:\n",
    "    def __init__(self, k=5, outlier_threshold=1.0):\n",
    "        self.k = k\n",
    "        self.outlier_threshold = outlier_threshold\n",
    "        self.X = []\n",
    "    \n",
    "    def fit(self, X):\n",
    "        self.X = [features.to_list() for index, features in X.iterrows()]\n",
    "\n",
    "    def predict(self, entries):\n",
    "        return [self.predict_entry(features.to_list()) for index, features in entries.iterrows()]\n",
    "    \n",
    "    def predict_entry(self, entry):\n",
    "        kth_neighbor, kth_distance = self.get_kth_neighbor(entry, self.k)\n",
    "        kth_kth_neighbor, kth_kth_distance = self.get_kth_neighbor(kth_neighbor, self.k + 1)\n",
    "\n",
    "        outlier_score = kth_distance / (kth_kth_distance + 0.000001)\n",
    "\n",
    "        return 1 if outlier_score < self.outlier_threshold else -1\n",
    "        \n",
    "    def euclidean_distance(self, features1, features2):\n",
    "        distance = 0.0\n",
    "        for feat1, feat2 in zip(features1, features2):\n",
    "            distance += (feat1 - feat2)**2\n",
    "                \n",
    "        return sqrt(distance)\n",
    "\n",
    "    def get_neighbors(self, entry, k):\n",
    "        distance_to_data_points = [\n",
    "            (data_point, self.euclidean_distance(entry, data_point))\n",
    "            for data_point in self.X\n",
    "        ]\n",
    "        sorted_by_distance = sorted(distance_to_data_points, key=lambda tup: tup[1])\n",
    "        neighbors = sorted_by_distance[:k]\n",
    "        return neighbors\n",
    "\n",
    "    def get_kth_neighbor(self, entry, k):\n",
    "        neighbors = self.get_neighbors(entry, k)\n",
    "        return neighbors[-1]\n"
   ]
  },
  {
   "cell_type": "code",
   "execution_count": 21,
   "id": "1fa9ec1c",
   "metadata": {
    "execution": {
     "iopub.execute_input": "2021-04-04T23:08:11.309987Z",
     "iopub.status.busy": "2021-04-04T23:08:11.308552Z",
     "iopub.status.idle": "2021-04-04T23:08:11.337902Z",
     "shell.execute_reply": "2021-04-04T23:08:11.336571Z"
    },
    "papermill": {
     "duration": 0.056714,
     "end_time": "2021-04-04T23:08:11.338147",
     "exception": false,
     "start_time": "2021-04-04T23:08:11.281433",
     "status": "completed"
    },
    "tags": []
   },
   "outputs": [],
   "source": [
    "from sklearn.svm import OneClassSVM\n",
    "\n",
    "\n",
    "models = {\n",
    "    'oneclasssvm': OneClassSVM,\n",
    "    'knndatadescription': KNNDataDescription,\n",
    "}"
   ]
  },
  {
   "cell_type": "code",
   "execution_count": 22,
   "id": "4d72a0b1",
   "metadata": {
    "execution": {
     "iopub.execute_input": "2021-04-04T23:08:11.401629Z",
     "iopub.status.busy": "2021-04-04T23:08:11.400556Z",
     "iopub.status.idle": "2021-04-04T23:08:11.404495Z",
     "shell.execute_reply": "2021-04-04T23:08:11.403534Z"
    },
    "papermill": {
     "duration": 0.032809,
     "end_time": "2021-04-04T23:08:11.404703",
     "exception": false,
     "start_time": "2021-04-04T23:08:11.371894",
     "status": "completed"
    },
    "scrolled": true,
    "tags": []
   },
   "outputs": [],
   "source": [
    "model_cls = models[model_config['model_type']]\n",
    "model = model_cls(**model_config['hyperparameters'])"
   ]
  },
  {
   "cell_type": "markdown",
   "id": "e00cff3b",
   "metadata": {
    "papermill": {
     "duration": 0.022382,
     "end_time": "2021-04-04T23:08:11.453211",
     "exception": false,
     "start_time": "2021-04-04T23:08:11.430829",
     "status": "completed"
    },
    "tags": []
   },
   "source": [
    "# Fit"
   ]
  },
  {
   "cell_type": "code",
   "execution_count": 23,
   "id": "8b2ded89",
   "metadata": {
    "execution": {
     "iopub.execute_input": "2021-04-04T23:08:11.514675Z",
     "iopub.status.busy": "2021-04-04T23:08:11.509924Z",
     "iopub.status.idle": "2021-04-04T23:08:11.536194Z",
     "shell.execute_reply": "2021-04-04T23:08:11.535052Z"
    },
    "papermill": {
     "duration": 0.05966,
     "end_time": "2021-04-04T23:08:11.536415",
     "exception": false,
     "start_time": "2021-04-04T23:08:11.476755",
     "status": "completed"
    },
    "tags": []
   },
   "outputs": [],
   "source": [
    "model.fit(X_train)"
   ]
  },
  {
   "cell_type": "markdown",
   "id": "f99999f7",
   "metadata": {
    "papermill": {
     "duration": 0.022384,
     "end_time": "2021-04-04T23:08:11.587270",
     "exception": false,
     "start_time": "2021-04-04T23:08:11.564886",
     "status": "completed"
    },
    "tags": []
   },
   "source": [
    "# Predict"
   ]
  },
  {
   "cell_type": "code",
   "execution_count": 24,
   "id": "6536fbf7",
   "metadata": {
    "execution": {
     "iopub.execute_input": "2021-04-04T23:08:11.637901Z",
     "iopub.status.busy": "2021-04-04T23:08:11.637248Z",
     "iopub.status.idle": "2021-04-04T23:08:12.048668Z",
     "shell.execute_reply": "2021-04-04T23:08:12.047674Z"
    },
    "papermill": {
     "duration": 0.438904,
     "end_time": "2021-04-04T23:08:12.048859",
     "exception": false,
     "start_time": "2021-04-04T23:08:11.609955",
     "status": "completed"
    },
    "tags": []
   },
   "outputs": [],
   "source": [
    "predictions = model.predict(X_test)"
   ]
  },
  {
   "cell_type": "markdown",
   "id": "aa1c9881",
   "metadata": {
    "papermill": {
     "duration": 0.023159,
     "end_time": "2021-04-04T23:08:12.099368",
     "exception": false,
     "start_time": "2021-04-04T23:08:12.076209",
     "status": "completed"
    },
    "tags": []
   },
   "source": [
    "# Evaluate"
   ]
  },
  {
   "cell_type": "code",
   "execution_count": 25,
   "id": "894f0f04",
   "metadata": {
    "execution": {
     "iopub.execute_input": "2021-04-04T23:08:12.150346Z",
     "iopub.status.busy": "2021-04-04T23:08:12.149728Z",
     "iopub.status.idle": "2021-04-04T23:08:12.152109Z",
     "shell.execute_reply": "2021-04-04T23:08:12.152794Z"
    },
    "papermill": {
     "duration": 0.030557,
     "end_time": "2021-04-04T23:08:12.152990",
     "exception": false,
     "start_time": "2021-04-04T23:08:12.122433",
     "status": "completed"
    },
    "tags": []
   },
   "outputs": [],
   "source": [
    "from sklearn.metrics import f1_score"
   ]
  },
  {
   "cell_type": "code",
   "execution_count": 26,
   "id": "211744d3",
   "metadata": {
    "execution": {
     "iopub.execute_input": "2021-04-04T23:08:12.210162Z",
     "iopub.status.busy": "2021-04-04T23:08:12.208917Z",
     "iopub.status.idle": "2021-04-04T23:08:12.211555Z",
     "shell.execute_reply": "2021-04-04T23:08:12.212444Z"
    },
    "papermill": {
     "duration": 0.032289,
     "end_time": "2021-04-04T23:08:12.212693",
     "exception": false,
     "start_time": "2021-04-04T23:08:12.180404",
     "status": "completed"
    },
    "tags": []
   },
   "outputs": [],
   "source": [
    "y_test = y_test.replace([0, 1], [1, -1])"
   ]
  },
  {
   "cell_type": "code",
   "execution_count": 27,
   "id": "d68a9204",
   "metadata": {
    "execution": {
     "iopub.execute_input": "2021-04-04T23:08:12.271769Z",
     "iopub.status.busy": "2021-04-04T23:08:12.270675Z",
     "iopub.status.idle": "2021-04-04T23:08:12.273215Z",
     "shell.execute_reply": "2021-04-04T23:08:12.273759Z"
    },
    "papermill": {
     "duration": 0.036116,
     "end_time": "2021-04-04T23:08:12.273934",
     "exception": false,
     "start_time": "2021-04-04T23:08:12.237818",
     "status": "completed"
    },
    "tags": []
   },
   "outputs": [],
   "source": [
    "def evaluate(truths, predictions, pos_label, neg_label):\n",
    "    TP = 0\n",
    "    FP = 0\n",
    "    TN = 0\n",
    "    FN = 0\n",
    "\n",
    "    for truth, pred in zip(truths, predictions): \n",
    "        if truth == pred == pos_label:\n",
    "           TP += 1\n",
    "        elif pred == pos_label and truth == neg_label:\n",
    "           FP += 1\n",
    "        elif truth == pred == neg_label:\n",
    "           TN += 1\n",
    "        elif pred == neg_label and truth == pos_label:\n",
    "           FN += 1\n",
    "\n",
    "    precision = TP / (TP + FP)\n",
    "    sensitivity = TP / (TP + FN)\n",
    "    \n",
    "    return {\n",
    "        'true_pos': TP,\n",
    "        'false_pos': FP,\n",
    "        'false_neg': FN,\n",
    "        'true_neg': TN,\n",
    "        'precision': precision,\n",
    "        'sensitivity': sensitivity,\n",
    "        'f1': (2 * (precision * sensitivity)) / (precision + sensitivity)\n",
    "    }\n",
    "\n",
    "score = evaluate(y_test, predictions, pos_label=-1, neg_label=1)"
   ]
  },
  {
   "cell_type": "markdown",
   "id": "93596516",
   "metadata": {
    "papermill": {
     "duration": 0.022865,
     "end_time": "2021-04-04T23:08:12.320697",
     "exception": false,
     "start_time": "2021-04-04T23:08:12.297832",
     "status": "completed"
    },
    "tags": []
   },
   "source": [
    "# Report"
   ]
  },
  {
   "cell_type": "code",
   "execution_count": 28,
   "id": "bea5fba1",
   "metadata": {
    "execution": {
     "iopub.execute_input": "2021-04-04T23:08:12.379019Z",
     "iopub.status.busy": "2021-04-04T23:08:12.378056Z",
     "iopub.status.idle": "2021-04-04T23:08:12.380918Z",
     "shell.execute_reply": "2021-04-04T23:08:12.381779Z"
    },
    "papermill": {
     "duration": 0.037157,
     "end_time": "2021-04-04T23:08:12.382019",
     "exception": false,
     "start_time": "2021-04-04T23:08:12.344862",
     "status": "completed"
    },
    "tags": []
   },
   "outputs": [],
   "source": [
    "import csv\n",
    "\n",
    "\n",
    "dataset_config_name = DATASET_CONFIG_PATH.split('/')[-1].split('.')[0]\n",
    "model_config_name = MODEL_CONFIG_PATH.split('/')[-1].split('.')[0]\n",
    "configuration = f\"dataset_{dataset_config_name}-model_{model_config_name}\"\n",
    "\n",
    "with open('results.csv', 'a') as f:\n",
    "    report = dict({'configuration': configuration}, **score)\n",
    "    writer = csv.DictWriter(f, report.keys())\n",
    "    writer.writerow(report)"
   ]
  }
 ],
 "metadata": {
  "celltoolbar": "Tags",
  "kernelspec": {
   "display_name": "Python 3",
   "language": "python",
   "name": "python3"
  },
  "language_info": {
   "codemirror_mode": {
    "name": "ipython",
    "version": 3
   },
   "file_extension": ".py",
   "mimetype": "text/x-python",
   "name": "python",
   "nbconvert_exporter": "python",
   "pygments_lexer": "ipython3",
   "version": "3.9.1"
  },
  "papermill": {
   "default_parameters": {},
   "duration": 6.041432,
   "end_time": "2021-04-04T23:08:13.857833",
   "environment_variables": {},
   "exception": null,
   "input_path": "main.ipynb",
   "output_path": "runs/dataset_000088-model_000002.ipynb",
   "parameters": {
    "DATASET_CONFIG_PATH": "config/dataset/000088.json",
    "MODEL_CONFIG_PATH": "config/model/000002.json",
    "PROFILE_REPORTING": false
   },
   "start_time": "2021-04-04T23:08:07.816401",
   "version": "2.3.3"
  }
 },
 "nbformat": 4,
 "nbformat_minor": 5
}