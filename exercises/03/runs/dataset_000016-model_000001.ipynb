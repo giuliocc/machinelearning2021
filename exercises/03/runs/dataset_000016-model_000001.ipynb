{
 "cells": [
  {
   "cell_type": "markdown",
   "id": "51c71c25",
   "metadata": {
    "papermill": {
     "duration": 0.022455,
     "end_time": "2021-04-04T22:28:46.106096",
     "exception": false,
     "start_time": "2021-04-04T22:28:46.083641",
     "status": "completed"
    },
    "tags": []
   },
   "source": [
    "# Parametrizing"
   ]
  },
  {
   "cell_type": "code",
   "execution_count": 1,
   "id": "3b136394",
   "metadata": {
    "execution": {
     "iopub.execute_input": "2021-04-04T22:28:46.165001Z",
     "iopub.status.busy": "2021-04-04T22:28:46.164221Z",
     "iopub.status.idle": "2021-04-04T22:28:46.166892Z",
     "shell.execute_reply": "2021-04-04T22:28:46.167745Z"
    },
    "papermill": {
     "duration": 0.03889,
     "end_time": "2021-04-04T22:28:46.168182",
     "exception": false,
     "start_time": "2021-04-04T22:28:46.129292",
     "status": "completed"
    },
    "tags": [
     "parameters"
    ]
   },
   "outputs": [],
   "source": [
    "DATASET_CONFIG_PATH = 'config/dataset/kc1_001.json'\n",
    "MODEL_CONFIG_PATH = 'config/model/knndd_001.json'\n",
    "PROFILE_REPORTING = False"
   ]
  },
  {
   "cell_type": "code",
   "execution_count": 2,
   "id": "4329d7e6",
   "metadata": {
    "execution": {
     "iopub.execute_input": "2021-04-04T22:28:46.211813Z",
     "iopub.status.busy": "2021-04-04T22:28:46.211025Z",
     "iopub.status.idle": "2021-04-04T22:28:46.213846Z",
     "shell.execute_reply": "2021-04-04T22:28:46.213260Z"
    },
    "papermill": {
     "duration": 0.025437,
     "end_time": "2021-04-04T22:28:46.214003",
     "exception": false,
     "start_time": "2021-04-04T22:28:46.188566",
     "status": "completed"
    },
    "tags": [
     "injected-parameters"
    ]
   },
   "outputs": [],
   "source": [
    "# Parameters\n",
    "DATASET_CONFIG_PATH = \"config/dataset/000016.json\"\n",
    "MODEL_CONFIG_PATH = \"config/model/000001.json\"\n",
    "PROFILE_REPORTING = False\n"
   ]
  },
  {
   "cell_type": "code",
   "execution_count": 3,
   "id": "b80f2a10",
   "metadata": {
    "execution": {
     "iopub.execute_input": "2021-04-04T22:28:46.266840Z",
     "iopub.status.busy": "2021-04-04T22:28:46.265840Z",
     "iopub.status.idle": "2021-04-04T22:28:46.271224Z",
     "shell.execute_reply": "2021-04-04T22:28:46.270428Z"
    },
    "papermill": {
     "duration": 0.034541,
     "end_time": "2021-04-04T22:28:46.271372",
     "exception": false,
     "start_time": "2021-04-04T22:28:46.236831",
     "status": "completed"
    },
    "tags": []
   },
   "outputs": [],
   "source": [
    "import json\n",
    "\n",
    "\n",
    "with open(DATASET_CONFIG_PATH) as f:\n",
    "    dataset_config = json.load(f)\n",
    "\n",
    "with open(MODEL_CONFIG_PATH) as f:\n",
    "    model_config = json.load(f)"
   ]
  },
  {
   "cell_type": "markdown",
   "id": "9a4b0e2d",
   "metadata": {
    "papermill": {
     "duration": 0.019082,
     "end_time": "2021-04-04T22:28:46.310421",
     "exception": false,
     "start_time": "2021-04-04T22:28:46.291339",
     "status": "completed"
    },
    "tags": []
   },
   "source": [
    "# Profiling"
   ]
  },
  {
   "cell_type": "code",
   "execution_count": 4,
   "id": "a3e0289b",
   "metadata": {
    "execution": {
     "iopub.execute_input": "2021-04-04T22:28:46.362177Z",
     "iopub.status.busy": "2021-04-04T22:28:46.360980Z",
     "iopub.status.idle": "2021-04-04T22:28:47.805362Z",
     "shell.execute_reply": "2021-04-04T22:28:47.805970Z"
    },
    "papermill": {
     "duration": 1.474181,
     "end_time": "2021-04-04T22:28:47.806189",
     "exception": false,
     "start_time": "2021-04-04T22:28:46.332008",
     "status": "completed"
    },
    "tags": []
   },
   "outputs": [],
   "source": [
    "import pandas as pd\n",
    "from pandas_profiling import ProfileReport"
   ]
  },
  {
   "cell_type": "code",
   "execution_count": 5,
   "id": "ee6c0666",
   "metadata": {
    "execution": {
     "iopub.execute_input": "2021-04-04T22:28:47.859727Z",
     "iopub.status.busy": "2021-04-04T22:28:47.858960Z",
     "iopub.status.idle": "2021-04-04T22:28:47.871114Z",
     "shell.execute_reply": "2021-04-04T22:28:47.870510Z"
    },
    "papermill": {
     "duration": 0.04107,
     "end_time": "2021-04-04T22:28:47.871233",
     "exception": false,
     "start_time": "2021-04-04T22:28:47.830163",
     "status": "completed"
    },
    "tags": []
   },
   "outputs": [],
   "source": [
    "df = pd.read_csv(dataset_config['dataset_path'])"
   ]
  },
  {
   "cell_type": "code",
   "execution_count": 6,
   "id": "7eca6c4a",
   "metadata": {
    "execution": {
     "iopub.execute_input": "2021-04-04T22:28:47.927553Z",
     "iopub.status.busy": "2021-04-04T22:28:47.918247Z",
     "iopub.status.idle": "2021-04-04T22:28:47.929984Z",
     "shell.execute_reply": "2021-04-04T22:28:47.930457Z"
    },
    "papermill": {
     "duration": 0.039064,
     "end_time": "2021-04-04T22:28:47.930603",
     "exception": false,
     "start_time": "2021-04-04T22:28:47.891539",
     "status": "completed"
    },
    "tags": []
   },
   "outputs": [
    {
     "name": "stdout",
     "output_type": "stream",
     "text": [
      "<class 'pandas.core.frame.DataFrame'>\n",
      "RangeIndex: 2109 entries, 0 to 2108\n",
      "Data columns (total 23 columns):\n",
      " #   Column             Non-Null Count  Dtype  \n",
      "---  ------             --------------  -----  \n",
      " 0   id                 2109 non-null   int64  \n",
      " 1   loc                2109 non-null   float64\n",
      " 2   v(g)               2109 non-null   float64\n",
      " 3   ev(g)              2109 non-null   float64\n",
      " 4   iv(g)              2109 non-null   float64\n",
      " 5   n                  2109 non-null   float64\n",
      " 6   v                  2109 non-null   float64\n",
      " 7   l                  2109 non-null   float64\n",
      " 8   d                  2109 non-null   float64\n",
      " 9   i                  2109 non-null   float64\n",
      " 10  e                  2109 non-null   float64\n",
      " 11  b                  2109 non-null   float64\n",
      " 12  t                  2109 non-null   float64\n",
      " 13  lOCode             2109 non-null   int64  \n",
      " 14  lOComment          2109 non-null   int64  \n",
      " 15  lOBlank            2109 non-null   int64  \n",
      " 16  locCodeAndComment  2109 non-null   int64  \n",
      " 17  uniq_Op            2109 non-null   float64\n",
      " 18  uniq_Opnd          2109 non-null   float64\n",
      " 19  total_Op           2109 non-null   float64\n",
      " 20  total_Opnd         2109 non-null   float64\n",
      " 21  branchCount        2109 non-null   float64\n",
      " 22  defects            2109 non-null   bool   \n",
      "dtypes: bool(1), float64(17), int64(5)\n",
      "memory usage: 364.7 KB\n"
     ]
    }
   ],
   "source": [
    "df.info()"
   ]
  },
  {
   "cell_type": "code",
   "execution_count": 7,
   "id": "3638e5e8",
   "metadata": {
    "execution": {
     "iopub.execute_input": "2021-04-04T22:28:47.988466Z",
     "iopub.status.busy": "2021-04-04T22:28:47.987635Z",
     "iopub.status.idle": "2021-04-04T22:28:48.020497Z",
     "shell.execute_reply": "2021-04-04T22:28:48.019964Z"
    },
    "papermill": {
     "duration": 0.067228,
     "end_time": "2021-04-04T22:28:48.020617",
     "exception": false,
     "start_time": "2021-04-04T22:28:47.953389",
     "status": "completed"
    },
    "tags": []
   },
   "outputs": [
    {
     "data": {
      "text/html": [
       "<div>\n",
       "<style scoped>\n",
       "    .dataframe tbody tr th:only-of-type {\n",
       "        vertical-align: middle;\n",
       "    }\n",
       "\n",
       "    .dataframe tbody tr th {\n",
       "        vertical-align: top;\n",
       "    }\n",
       "\n",
       "    .dataframe thead th {\n",
       "        text-align: right;\n",
       "    }\n",
       "</style>\n",
       "<table border=\"1\" class=\"dataframe\">\n",
       "  <thead>\n",
       "    <tr style=\"text-align: right;\">\n",
       "      <th></th>\n",
       "      <th>id</th>\n",
       "      <th>loc</th>\n",
       "      <th>v(g)</th>\n",
       "      <th>ev(g)</th>\n",
       "      <th>iv(g)</th>\n",
       "      <th>n</th>\n",
       "      <th>v</th>\n",
       "      <th>l</th>\n",
       "      <th>d</th>\n",
       "      <th>i</th>\n",
       "      <th>...</th>\n",
       "      <th>lOCode</th>\n",
       "      <th>lOComment</th>\n",
       "      <th>lOBlank</th>\n",
       "      <th>locCodeAndComment</th>\n",
       "      <th>uniq_Op</th>\n",
       "      <th>uniq_Opnd</th>\n",
       "      <th>total_Op</th>\n",
       "      <th>total_Opnd</th>\n",
       "      <th>branchCount</th>\n",
       "      <th>defects</th>\n",
       "    </tr>\n",
       "  </thead>\n",
       "  <tbody>\n",
       "    <tr>\n",
       "      <th>0</th>\n",
       "      <td>1</td>\n",
       "      <td>1.1</td>\n",
       "      <td>1.4</td>\n",
       "      <td>1.4</td>\n",
       "      <td>1.4</td>\n",
       "      <td>1.3</td>\n",
       "      <td>1.30</td>\n",
       "      <td>1.30</td>\n",
       "      <td>1.30</td>\n",
       "      <td>1.30</td>\n",
       "      <td>...</td>\n",
       "      <td>2</td>\n",
       "      <td>2</td>\n",
       "      <td>2</td>\n",
       "      <td>2</td>\n",
       "      <td>1.2</td>\n",
       "      <td>1.2</td>\n",
       "      <td>1.2</td>\n",
       "      <td>1.2</td>\n",
       "      <td>1.4</td>\n",
       "      <td>False</td>\n",
       "    </tr>\n",
       "    <tr>\n",
       "      <th>1</th>\n",
       "      <td>2</td>\n",
       "      <td>1.0</td>\n",
       "      <td>1.0</td>\n",
       "      <td>1.0</td>\n",
       "      <td>1.0</td>\n",
       "      <td>1.0</td>\n",
       "      <td>1.00</td>\n",
       "      <td>1.00</td>\n",
       "      <td>1.00</td>\n",
       "      <td>1.00</td>\n",
       "      <td>...</td>\n",
       "      <td>1</td>\n",
       "      <td>1</td>\n",
       "      <td>1</td>\n",
       "      <td>1</td>\n",
       "      <td>1.0</td>\n",
       "      <td>1.0</td>\n",
       "      <td>1.0</td>\n",
       "      <td>1.0</td>\n",
       "      <td>1.0</td>\n",
       "      <td>True</td>\n",
       "    </tr>\n",
       "    <tr>\n",
       "      <th>2</th>\n",
       "      <td>3</td>\n",
       "      <td>83.0</td>\n",
       "      <td>11.0</td>\n",
       "      <td>1.0</td>\n",
       "      <td>11.0</td>\n",
       "      <td>171.0</td>\n",
       "      <td>927.89</td>\n",
       "      <td>0.04</td>\n",
       "      <td>23.04</td>\n",
       "      <td>40.27</td>\n",
       "      <td>...</td>\n",
       "      <td>65</td>\n",
       "      <td>10</td>\n",
       "      <td>6</td>\n",
       "      <td>0</td>\n",
       "      <td>18.0</td>\n",
       "      <td>25.0</td>\n",
       "      <td>107.0</td>\n",
       "      <td>64.0</td>\n",
       "      <td>21.0</td>\n",
       "      <td>True</td>\n",
       "    </tr>\n",
       "    <tr>\n",
       "      <th>3</th>\n",
       "      <td>4</td>\n",
       "      <td>46.0</td>\n",
       "      <td>8.0</td>\n",
       "      <td>6.0</td>\n",
       "      <td>8.0</td>\n",
       "      <td>141.0</td>\n",
       "      <td>769.78</td>\n",
       "      <td>0.07</td>\n",
       "      <td>14.86</td>\n",
       "      <td>51.81</td>\n",
       "      <td>...</td>\n",
       "      <td>37</td>\n",
       "      <td>2</td>\n",
       "      <td>5</td>\n",
       "      <td>0</td>\n",
       "      <td>16.0</td>\n",
       "      <td>28.0</td>\n",
       "      <td>89.0</td>\n",
       "      <td>52.0</td>\n",
       "      <td>15.0</td>\n",
       "      <td>True</td>\n",
       "    </tr>\n",
       "    <tr>\n",
       "      <th>4</th>\n",
       "      <td>5</td>\n",
       "      <td>25.0</td>\n",
       "      <td>3.0</td>\n",
       "      <td>1.0</td>\n",
       "      <td>3.0</td>\n",
       "      <td>58.0</td>\n",
       "      <td>254.75</td>\n",
       "      <td>0.11</td>\n",
       "      <td>9.35</td>\n",
       "      <td>27.25</td>\n",
       "      <td>...</td>\n",
       "      <td>21</td>\n",
       "      <td>0</td>\n",
       "      <td>2</td>\n",
       "      <td>0</td>\n",
       "      <td>11.0</td>\n",
       "      <td>10.0</td>\n",
       "      <td>41.0</td>\n",
       "      <td>17.0</td>\n",
       "      <td>5.0</td>\n",
       "      <td>True</td>\n",
       "    </tr>\n",
       "  </tbody>\n",
       "</table>\n",
       "<p>5 rows × 23 columns</p>\n",
       "</div>"
      ],
      "text/plain": [
       "   id   loc  v(g)  ev(g)  iv(g)      n       v     l      d      i  ...  \\\n",
       "0   1   1.1   1.4    1.4    1.4    1.3    1.30  1.30   1.30   1.30  ...   \n",
       "1   2   1.0   1.0    1.0    1.0    1.0    1.00  1.00   1.00   1.00  ...   \n",
       "2   3  83.0  11.0    1.0   11.0  171.0  927.89  0.04  23.04  40.27  ...   \n",
       "3   4  46.0   8.0    6.0    8.0  141.0  769.78  0.07  14.86  51.81  ...   \n",
       "4   5  25.0   3.0    1.0    3.0   58.0  254.75  0.11   9.35  27.25  ...   \n",
       "\n",
       "   lOCode  lOComment  lOBlank  locCodeAndComment  uniq_Op  uniq_Opnd  \\\n",
       "0       2          2        2                  2      1.2        1.2   \n",
       "1       1          1        1                  1      1.0        1.0   \n",
       "2      65         10        6                  0     18.0       25.0   \n",
       "3      37          2        5                  0     16.0       28.0   \n",
       "4      21          0        2                  0     11.0       10.0   \n",
       "\n",
       "   total_Op  total_Opnd  branchCount  defects  \n",
       "0       1.2         1.2          1.4    False  \n",
       "1       1.0         1.0          1.0     True  \n",
       "2     107.0        64.0         21.0     True  \n",
       "3      89.0        52.0         15.0     True  \n",
       "4      41.0        17.0          5.0     True  \n",
       "\n",
       "[5 rows x 23 columns]"
      ]
     },
     "execution_count": 7,
     "metadata": {},
     "output_type": "execute_result"
    }
   ],
   "source": [
    "df.head()"
   ]
  },
  {
   "cell_type": "code",
   "execution_count": 8,
   "id": "733e95eb",
   "metadata": {
    "execution": {
     "iopub.execute_input": "2021-04-04T22:28:48.070553Z",
     "iopub.status.busy": "2021-04-04T22:28:48.069721Z",
     "iopub.status.idle": "2021-04-04T22:28:48.072315Z",
     "shell.execute_reply": "2021-04-04T22:28:48.071735Z"
    },
    "papermill": {
     "duration": 0.02979,
     "end_time": "2021-04-04T22:28:48.072465",
     "exception": false,
     "start_time": "2021-04-04T22:28:48.042675",
     "status": "completed"
    },
    "tags": []
   },
   "outputs": [],
   "source": [
    "del df['id']"
   ]
  },
  {
   "cell_type": "code",
   "execution_count": 9,
   "id": "6ff6f5b0",
   "metadata": {
    "execution": {
     "iopub.execute_input": "2021-04-04T22:28:48.125820Z",
     "iopub.status.busy": "2021-04-04T22:28:48.124769Z",
     "iopub.status.idle": "2021-04-04T22:28:48.127270Z",
     "shell.execute_reply": "2021-04-04T22:28:48.128325Z"
    },
    "papermill": {
     "duration": 0.033132,
     "end_time": "2021-04-04T22:28:48.128653",
     "exception": false,
     "start_time": "2021-04-04T22:28:48.095521",
     "status": "completed"
    },
    "tags": []
   },
   "outputs": [],
   "source": [
    "if PROFILE_REPORTING:\n",
    "    ProfileReport(df).to_widgets()"
   ]
  },
  {
   "cell_type": "markdown",
   "id": "1deaf3f0",
   "metadata": {
    "papermill": {
     "duration": 0.021578,
     "end_time": "2021-04-04T22:28:48.173799",
     "exception": false,
     "start_time": "2021-04-04T22:28:48.152221",
     "status": "completed"
    },
    "tags": []
   },
   "source": [
    "# Preprocess"
   ]
  },
  {
   "cell_type": "code",
   "execution_count": 10,
   "id": "1513e563",
   "metadata": {
    "execution": {
     "iopub.execute_input": "2021-04-04T22:28:48.226962Z",
     "iopub.status.busy": "2021-04-04T22:28:48.226041Z",
     "iopub.status.idle": "2021-04-04T22:28:48.228268Z",
     "shell.execute_reply": "2021-04-04T22:28:48.228965Z"
    },
    "papermill": {
     "duration": 0.033425,
     "end_time": "2021-04-04T22:28:48.229277",
     "exception": false,
     "start_time": "2021-04-04T22:28:48.195852",
     "status": "completed"
    },
    "tags": []
   },
   "outputs": [],
   "source": [
    "working_df = df.copy()"
   ]
  },
  {
   "cell_type": "code",
   "execution_count": 11,
   "id": "3b26d675",
   "metadata": {
    "execution": {
     "iopub.execute_input": "2021-04-04T22:28:48.280713Z",
     "iopub.status.busy": "2021-04-04T22:28:48.279671Z",
     "iopub.status.idle": "2021-04-04T22:28:48.283110Z",
     "shell.execute_reply": "2021-04-04T22:28:48.282604Z"
    },
    "papermill": {
     "duration": 0.029567,
     "end_time": "2021-04-04T22:28:48.283231",
     "exception": false,
     "start_time": "2021-04-04T22:28:48.253664",
     "status": "completed"
    },
    "tags": []
   },
   "outputs": [],
   "source": [
    "working_df['defects'] = working_df['defects'].replace([False, True], [0, 1])"
   ]
  },
  {
   "cell_type": "code",
   "execution_count": 12,
   "id": "eb48604f",
   "metadata": {
    "execution": {
     "iopub.execute_input": "2021-04-04T22:28:48.339450Z",
     "iopub.status.busy": "2021-04-04T22:28:48.338388Z",
     "iopub.status.idle": "2021-04-04T22:28:48.340903Z",
     "shell.execute_reply": "2021-04-04T22:28:48.341462Z"
    },
    "papermill": {
     "duration": 0.033827,
     "end_time": "2021-04-04T22:28:48.341638",
     "exception": false,
     "start_time": "2021-04-04T22:28:48.307811",
     "status": "completed"
    },
    "tags": []
   },
   "outputs": [],
   "source": [
    "for col in dataset_config['delete_columns']:\n",
    "    del working_df[col]"
   ]
  },
  {
   "cell_type": "code",
   "execution_count": 13,
   "id": "9a17bc29",
   "metadata": {
    "execution": {
     "iopub.execute_input": "2021-04-04T22:28:48.403727Z",
     "iopub.status.busy": "2021-04-04T22:28:48.402545Z",
     "iopub.status.idle": "2021-04-04T22:28:48.412403Z",
     "shell.execute_reply": "2021-04-04T22:28:48.411803Z"
    },
    "papermill": {
     "duration": 0.040402,
     "end_time": "2021-04-04T22:28:48.412522",
     "exception": false,
     "start_time": "2021-04-04T22:28:48.372120",
     "status": "completed"
    },
    "tags": []
   },
   "outputs": [],
   "source": [
    "working_df = working_df.drop_duplicates()"
   ]
  },
  {
   "cell_type": "markdown",
   "id": "a4d52ca6",
   "metadata": {
    "papermill": {
     "duration": 0.026103,
     "end_time": "2021-04-04T22:28:48.462111",
     "exception": false,
     "start_time": "2021-04-04T22:28:48.436008",
     "status": "completed"
    },
    "tags": []
   },
   "source": [
    "# Split"
   ]
  },
  {
   "cell_type": "code",
   "execution_count": 14,
   "id": "3e9ee4b5",
   "metadata": {
    "execution": {
     "iopub.execute_input": "2021-04-04T22:28:48.513114Z",
     "iopub.status.busy": "2021-04-04T22:28:48.512495Z",
     "iopub.status.idle": "2021-04-04T22:28:48.545346Z",
     "shell.execute_reply": "2021-04-04T22:28:48.544749Z"
    },
    "papermill": {
     "duration": 0.059834,
     "end_time": "2021-04-04T22:28:48.545466",
     "exception": false,
     "start_time": "2021-04-04T22:28:48.485632",
     "status": "completed"
    },
    "tags": []
   },
   "outputs": [],
   "source": [
    "from sklearn.model_selection import train_test_split"
   ]
  },
  {
   "cell_type": "code",
   "execution_count": 15,
   "id": "274004ce",
   "metadata": {
    "execution": {
     "iopub.execute_input": "2021-04-04T22:28:48.604605Z",
     "iopub.status.busy": "2021-04-04T22:28:48.603814Z",
     "iopub.status.idle": "2021-04-04T22:28:48.609121Z",
     "shell.execute_reply": "2021-04-04T22:28:48.609637Z"
    },
    "papermill": {
     "duration": 0.03919,
     "end_time": "2021-04-04T22:28:48.609803",
     "exception": false,
     "start_time": "2021-04-04T22:28:48.570613",
     "status": "completed"
    },
    "scrolled": true,
    "tags": []
   },
   "outputs": [],
   "source": [
    "inlier, outlier = working_df[working_df['defects'] == 0], working_df[working_df['defects'] == 1]"
   ]
  },
  {
   "cell_type": "code",
   "execution_count": 16,
   "id": "753c7b03",
   "metadata": {
    "execution": {
     "iopub.execute_input": "2021-04-04T22:28:48.662674Z",
     "iopub.status.busy": "2021-04-04T22:28:48.660905Z",
     "iopub.status.idle": "2021-04-04T22:28:48.664558Z",
     "shell.execute_reply": "2021-04-04T22:28:48.665043Z"
    },
    "papermill": {
     "duration": 0.030528,
     "end_time": "2021-04-04T22:28:48.665189",
     "exception": false,
     "start_time": "2021-04-04T22:28:48.634661",
     "status": "completed"
    },
    "tags": []
   },
   "outputs": [],
   "source": [
    "X_inlier = inlier.copy()\n",
    "y_inlier = X_inlier.pop('defects')\n",
    "X_outlier = outlier.copy()\n",
    "y_outlier = X_outlier.pop('defects')"
   ]
  },
  {
   "cell_type": "code",
   "execution_count": 17,
   "id": "2ba43193",
   "metadata": {
    "execution": {
     "iopub.execute_input": "2021-04-04T22:28:48.723426Z",
     "iopub.status.busy": "2021-04-04T22:28:48.722718Z",
     "iopub.status.idle": "2021-04-04T22:28:48.728816Z",
     "shell.execute_reply": "2021-04-04T22:28:48.729519Z"
    },
    "papermill": {
     "duration": 0.04042,
     "end_time": "2021-04-04T22:28:48.729703",
     "exception": false,
     "start_time": "2021-04-04T22:28:48.689283",
     "status": "completed"
    },
    "tags": []
   },
   "outputs": [],
   "source": [
    "test_size = dataset_config['test_size']\n",
    "random_state = dataset_config['random_state']\n",
    "\n",
    "X_inlier_train, X_inlier_test, y_inlier_train, y_inlier_test = train_test_split(\n",
    "    X_inlier,\n",
    "    y_inlier,\n",
    "    test_size=test_size,\n",
    "    random_state=random_state\n",
    ")"
   ]
  },
  {
   "cell_type": "code",
   "execution_count": 18,
   "id": "0b7582ca",
   "metadata": {
    "execution": {
     "iopub.execute_input": "2021-04-04T22:28:48.790566Z",
     "iopub.status.busy": "2021-04-04T22:28:48.789962Z",
     "iopub.status.idle": "2021-04-04T22:28:48.791910Z",
     "shell.execute_reply": "2021-04-04T22:28:48.792389Z"
    },
    "papermill": {
     "duration": 0.032429,
     "end_time": "2021-04-04T22:28:48.792532",
     "exception": false,
     "start_time": "2021-04-04T22:28:48.760103",
     "status": "completed"
    },
    "tags": []
   },
   "outputs": [],
   "source": [
    "test_outlier_size = dataset_config['test_outlier_size']\n",
    "if test_outlier_size > 0.0:\n",
    "    X_outlier_train, X_outlier_test, y_outlier_train, y_outlier_test = train_test_split(\n",
    "        X_outlier,\n",
    "        y_outlier,\n",
    "        test_size=test_outlier_size,\n",
    "        random_state=random_state\n",
    "    )\n",
    "else:\n",
    "    X_outlier_train, y_outlier_train = pd.DataFrame(columns=X_outlier.columns), pd.Series(dtype='int64')\n",
    "    X_outlier_test, y_outlier_test = X_outlier.copy(), y_outlier.copy()"
   ]
  },
  {
   "cell_type": "code",
   "execution_count": 19,
   "id": "c34363db",
   "metadata": {
    "execution": {
     "iopub.execute_input": "2021-04-04T22:28:48.850933Z",
     "iopub.status.busy": "2021-04-04T22:28:48.849221Z",
     "iopub.status.idle": "2021-04-04T22:28:48.854327Z",
     "shell.execute_reply": "2021-04-04T22:28:48.855057Z"
    },
    "papermill": {
     "duration": 0.039316,
     "end_time": "2021-04-04T22:28:48.855269",
     "exception": false,
     "start_time": "2021-04-04T22:28:48.815953",
     "status": "completed"
    },
    "tags": []
   },
   "outputs": [],
   "source": [
    "X_train, y_train = pd.concat([X_inlier_train, X_outlier_train], ignore_index=True), pd.concat([y_inlier_train, y_outlier_train], ignore_index=True)\n",
    "X_test, y_test = pd.concat([X_inlier_test, X_outlier_test], ignore_index=True), pd.concat([y_inlier_test, y_outlier_test], ignore_index=True)"
   ]
  },
  {
   "cell_type": "markdown",
   "id": "7cde7309",
   "metadata": {
    "papermill": {
     "duration": 0.022069,
     "end_time": "2021-04-04T22:28:48.903085",
     "exception": false,
     "start_time": "2021-04-04T22:28:48.881016",
     "status": "completed"
    },
    "tags": []
   },
   "source": [
    "# Model"
   ]
  },
  {
   "cell_type": "code",
   "execution_count": 20,
   "id": "2b12a415",
   "metadata": {
    "execution": {
     "iopub.execute_input": "2021-04-04T22:28:48.972075Z",
     "iopub.status.busy": "2021-04-04T22:28:48.971155Z",
     "iopub.status.idle": "2021-04-04T22:28:48.973586Z",
     "shell.execute_reply": "2021-04-04T22:28:48.974088Z"
    },
    "papermill": {
     "duration": 0.043893,
     "end_time": "2021-04-04T22:28:48.974264",
     "exception": false,
     "start_time": "2021-04-04T22:28:48.930371",
     "status": "completed"
    },
    "tags": []
   },
   "outputs": [],
   "source": [
    "from math import sqrt\n",
    "\n",
    "\n",
    "class KNNDataDescription:\n",
    "    def __init__(self, k=5, outlier_threshold=1.0):\n",
    "        self.k = k\n",
    "        self.outlier_threshold = outlier_threshold\n",
    "        self.X = []\n",
    "    \n",
    "    def fit(self, X):\n",
    "        self.X = [features.to_list() for index, features in X.iterrows()]\n",
    "\n",
    "    def predict(self, entries):\n",
    "        return [self.predict_entry(features.to_list()) for index, features in entries.iterrows()]\n",
    "    \n",
    "    def predict_entry(self, entry):\n",
    "        kth_neighbor, kth_distance = self.get_kth_neighbor(entry, self.k)\n",
    "        kth_kth_neighbor, kth_kth_distance = self.get_kth_neighbor(kth_neighbor, self.k + 1)\n",
    "\n",
    "        outlier_score = kth_distance / (kth_kth_distance + 0.000001)\n",
    "\n",
    "        return 1 if outlier_score < self.outlier_threshold else -1\n",
    "        \n",
    "    def euclidean_distance(self, features1, features2):\n",
    "        distance = 0.0\n",
    "        for feat1, feat2 in zip(features1, features2):\n",
    "            distance += (feat1 - feat2)**2\n",
    "                \n",
    "        return sqrt(distance)\n",
    "\n",
    "    def get_neighbors(self, entry, k):\n",
    "        distance_to_data_points = [\n",
    "            (data_point, self.euclidean_distance(entry, data_point))\n",
    "            for data_point in self.X\n",
    "        ]\n",
    "        sorted_by_distance = sorted(distance_to_data_points, key=lambda tup: tup[1])\n",
    "        neighbors = sorted_by_distance[:k]\n",
    "        return neighbors\n",
    "\n",
    "    def get_kth_neighbor(self, entry, k):\n",
    "        neighbors = self.get_neighbors(entry, k)\n",
    "        return neighbors[-1]\n"
   ]
  },
  {
   "cell_type": "code",
   "execution_count": 21,
   "id": "1fa9ec1c",
   "metadata": {
    "execution": {
     "iopub.execute_input": "2021-04-04T22:28:49.029716Z",
     "iopub.status.busy": "2021-04-04T22:28:49.028813Z",
     "iopub.status.idle": "2021-04-04T22:28:49.048139Z",
     "shell.execute_reply": "2021-04-04T22:28:49.048634Z"
    },
    "papermill": {
     "duration": 0.051006,
     "end_time": "2021-04-04T22:28:49.048778",
     "exception": false,
     "start_time": "2021-04-04T22:28:48.997772",
     "status": "completed"
    },
    "tags": []
   },
   "outputs": [],
   "source": [
    "from sklearn.svm import OneClassSVM\n",
    "\n",
    "\n",
    "models = {\n",
    "    'oneclasssvm': OneClassSVM,\n",
    "    'knndatadescription': KNNDataDescription,\n",
    "}"
   ]
  },
  {
   "cell_type": "code",
   "execution_count": 22,
   "id": "4d72a0b1",
   "metadata": {
    "execution": {
     "iopub.execute_input": "2021-04-04T22:28:49.108595Z",
     "iopub.status.busy": "2021-04-04T22:28:49.107787Z",
     "iopub.status.idle": "2021-04-04T22:28:49.111167Z",
     "shell.execute_reply": "2021-04-04T22:28:49.113153Z"
    },
    "papermill": {
     "duration": 0.038869,
     "end_time": "2021-04-04T22:28:49.113451",
     "exception": false,
     "start_time": "2021-04-04T22:28:49.074582",
     "status": "completed"
    },
    "scrolled": true,
    "tags": []
   },
   "outputs": [],
   "source": [
    "model_cls = models[model_config['model_type']]\n",
    "model = model_cls(**model_config['hyperparameters'])"
   ]
  },
  {
   "cell_type": "markdown",
   "id": "e00cff3b",
   "metadata": {
    "papermill": {
     "duration": 0.022482,
     "end_time": "2021-04-04T22:28:49.161846",
     "exception": false,
     "start_time": "2021-04-04T22:28:49.139364",
     "status": "completed"
    },
    "tags": []
   },
   "source": [
    "# Fit"
   ]
  },
  {
   "cell_type": "code",
   "execution_count": 23,
   "id": "8b2ded89",
   "metadata": {
    "execution": {
     "iopub.execute_input": "2021-04-04T22:28:49.221943Z",
     "iopub.status.busy": "2021-04-04T22:28:49.220531Z",
     "iopub.status.idle": "2021-04-04T22:28:49.266122Z",
     "shell.execute_reply": "2021-04-04T22:28:49.266805Z"
    },
    "papermill": {
     "duration": 0.079609,
     "end_time": "2021-04-04T22:28:49.266996",
     "exception": false,
     "start_time": "2021-04-04T22:28:49.187387",
     "status": "completed"
    },
    "tags": []
   },
   "outputs": [],
   "source": [
    "model.fit(X_train)"
   ]
  },
  {
   "cell_type": "markdown",
   "id": "f99999f7",
   "metadata": {
    "papermill": {
     "duration": 0.022444,
     "end_time": "2021-04-04T22:28:49.313476",
     "exception": false,
     "start_time": "2021-04-04T22:28:49.291032",
     "status": "completed"
    },
    "tags": []
   },
   "source": [
    "# Predict"
   ]
  },
  {
   "cell_type": "code",
   "execution_count": 24,
   "id": "6536fbf7",
   "metadata": {
    "execution": {
     "iopub.execute_input": "2021-04-04T22:28:49.402555Z",
     "iopub.status.busy": "2021-04-04T22:28:49.376019Z",
     "iopub.status.idle": "2021-04-04T22:28:52.047977Z",
     "shell.execute_reply": "2021-04-04T22:28:52.047405Z"
    },
    "papermill": {
     "duration": 2.709676,
     "end_time": "2021-04-04T22:28:52.048106",
     "exception": false,
     "start_time": "2021-04-04T22:28:49.338430",
     "status": "completed"
    },
    "tags": []
   },
   "outputs": [],
   "source": [
    "predictions = model.predict(X_test)"
   ]
  },
  {
   "cell_type": "markdown",
   "id": "aa1c9881",
   "metadata": {
    "papermill": {
     "duration": 0.02323,
     "end_time": "2021-04-04T22:28:52.099403",
     "exception": false,
     "start_time": "2021-04-04T22:28:52.076173",
     "status": "completed"
    },
    "tags": []
   },
   "source": [
    "# Evaluate"
   ]
  },
  {
   "cell_type": "code",
   "execution_count": 25,
   "id": "894f0f04",
   "metadata": {
    "execution": {
     "iopub.execute_input": "2021-04-04T22:28:52.158808Z",
     "iopub.status.busy": "2021-04-04T22:28:52.157683Z",
     "iopub.status.idle": "2021-04-04T22:28:52.161598Z",
     "shell.execute_reply": "2021-04-04T22:28:52.163054Z"
    },
    "papermill": {
     "duration": 0.038169,
     "end_time": "2021-04-04T22:28:52.163449",
     "exception": false,
     "start_time": "2021-04-04T22:28:52.125280",
     "status": "completed"
    },
    "tags": []
   },
   "outputs": [],
   "source": [
    "from sklearn.metrics import f1_score"
   ]
  },
  {
   "cell_type": "code",
   "execution_count": 26,
   "id": "211744d3",
   "metadata": {
    "execution": {
     "iopub.execute_input": "2021-04-04T22:28:52.217774Z",
     "iopub.status.busy": "2021-04-04T22:28:52.216547Z",
     "iopub.status.idle": "2021-04-04T22:28:52.221511Z",
     "shell.execute_reply": "2021-04-04T22:28:52.220946Z"
    },
    "papermill": {
     "duration": 0.032951,
     "end_time": "2021-04-04T22:28:52.221647",
     "exception": false,
     "start_time": "2021-04-04T22:28:52.188696",
     "status": "completed"
    },
    "tags": []
   },
   "outputs": [],
   "source": [
    "y_test = y_test.replace([0, 1], [1, -1])"
   ]
  },
  {
   "cell_type": "code",
   "execution_count": 27,
   "id": "d68a9204",
   "metadata": {
    "execution": {
     "iopub.execute_input": "2021-04-04T22:28:52.284263Z",
     "iopub.status.busy": "2021-04-04T22:28:52.283490Z",
     "iopub.status.idle": "2021-04-04T22:28:52.285616Z",
     "shell.execute_reply": "2021-04-04T22:28:52.286091Z"
    },
    "papermill": {
     "duration": 0.040162,
     "end_time": "2021-04-04T22:28:52.286238",
     "exception": false,
     "start_time": "2021-04-04T22:28:52.246076",
     "status": "completed"
    },
    "tags": []
   },
   "outputs": [],
   "source": [
    "def evaluate(truths, predictions, pos_label, neg_label):\n",
    "    TP = 0\n",
    "    FP = 0\n",
    "    TN = 0\n",
    "    FN = 0\n",
    "\n",
    "    for truth, pred in zip(truths, predictions): \n",
    "        if truth == pred == pos_label:\n",
    "           TP += 1\n",
    "        elif pred == pos_label and truth == neg_label:\n",
    "           FP += 1\n",
    "        elif truth == pred == neg_label:\n",
    "           TN += 1\n",
    "        elif pred == neg_label and truth == pos_label:\n",
    "           FN += 1\n",
    "\n",
    "    precision = TP / (TP + FP)\n",
    "    sensitivity = TP / (TP + FN)\n",
    "    \n",
    "    return {\n",
    "        'true_pos': TP,\n",
    "        'false_pos': FP,\n",
    "        'false_neg': FN,\n",
    "        'true_neg': TN,\n",
    "        'precision': precision,\n",
    "        'sensitivity': sensitivity,\n",
    "        'f1': (2 * (precision * sensitivity)) / (precision + sensitivity)\n",
    "    }\n",
    "\n",
    "score = evaluate(y_test, predictions, pos_label=-1, neg_label=1)"
   ]
  },
  {
   "cell_type": "markdown",
   "id": "93596516",
   "metadata": {
    "papermill": {
     "duration": 0.024598,
     "end_time": "2021-04-04T22:28:52.334581",
     "exception": false,
     "start_time": "2021-04-04T22:28:52.309983",
     "status": "completed"
    },
    "tags": []
   },
   "source": [
    "# Report"
   ]
  },
  {
   "cell_type": "code",
   "execution_count": 28,
   "id": "bea5fba1",
   "metadata": {
    "execution": {
     "iopub.execute_input": "2021-04-04T22:28:52.403401Z",
     "iopub.status.busy": "2021-04-04T22:28:52.401890Z",
     "iopub.status.idle": "2021-04-04T22:28:52.405706Z",
     "shell.execute_reply": "2021-04-04T22:28:52.407269Z"
    },
    "papermill": {
     "duration": 0.042155,
     "end_time": "2021-04-04T22:28:52.407683",
     "exception": false,
     "start_time": "2021-04-04T22:28:52.365528",
     "status": "completed"
    },
    "tags": []
   },
   "outputs": [],
   "source": [
    "import csv\n",
    "\n",
    "\n",
    "dataset_config_name = DATASET_CONFIG_PATH.split('/')[-1].split('.')[0]\n",
    "model_config_name = MODEL_CONFIG_PATH.split('/')[-1].split('.')[0]\n",
    "configuration = f\"dataset_{dataset_config_name}-model_{model_config_name}\"\n",
    "\n",
    "with open('results.csv', 'a') as f:\n",
    "    report = dict({'configuration': configuration}, **score)\n",
    "    writer = csv.DictWriter(f, report.keys())\n",
    "    writer.writerow(report)"
   ]
  }
 ],
 "metadata": {
  "celltoolbar": "Tags",
  "kernelspec": {
   "display_name": "Python 3",
   "language": "python",
   "name": "python3"
  },
  "language_info": {
   "codemirror_mode": {
    "name": "ipython",
    "version": 3
   },
   "file_extension": ".py",
   "mimetype": "text/x-python",
   "name": "python",
   "nbconvert_exporter": "python",
   "pygments_lexer": "ipython3",
   "version": "3.9.1"
  },
  "papermill": {
   "default_parameters": {},
   "duration": 7.87547,
   "end_time": "2021-04-04T22:28:53.043808",
   "environment_variables": {},
   "exception": null,
   "input_path": "main.ipynb",
   "output_path": "runs/dataset_000016-model_000001.ipynb",
   "parameters": {
    "DATASET_CONFIG_PATH": "config/dataset/000016.json",
    "MODEL_CONFIG_PATH": "config/model/000001.json",
    "PROFILE_REPORTING": false
   },
   "start_time": "2021-04-04T22:28:45.168338",
   "version": "2.3.3"
  }
 },
 "nbformat": 4,
 "nbformat_minor": 5
}