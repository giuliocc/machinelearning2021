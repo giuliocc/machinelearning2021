{
 "cells": [
  {
   "cell_type": "markdown",
   "id": "51c71c25",
   "metadata": {
    "papermill": {
     "duration": 0.027711,
     "end_time": "2021-04-04T23:31:28.372487",
     "exception": false,
     "start_time": "2021-04-04T23:31:28.344776",
     "status": "completed"
    },
    "tags": []
   },
   "source": [
    "# Parametrizing"
   ]
  },
  {
   "cell_type": "code",
   "execution_count": 1,
   "id": "3b136394",
   "metadata": {
    "execution": {
     "iopub.execute_input": "2021-04-04T23:31:28.441074Z",
     "iopub.status.busy": "2021-04-04T23:31:28.432933Z",
     "iopub.status.idle": "2021-04-04T23:31:28.446425Z",
     "shell.execute_reply": "2021-04-04T23:31:28.444231Z"
    },
    "papermill": {
     "duration": 0.05269,
     "end_time": "2021-04-04T23:31:28.446828",
     "exception": false,
     "start_time": "2021-04-04T23:31:28.394138",
     "status": "completed"
    },
    "tags": [
     "parameters"
    ]
   },
   "outputs": [],
   "source": [
    "DATASET_CONFIG_PATH = 'config/dataset/kc1_001.json'\n",
    "MODEL_CONFIG_PATH = 'config/model/knndd_001.json'\n",
    "PROFILE_REPORTING = False"
   ]
  },
  {
   "cell_type": "code",
   "execution_count": 2,
   "id": "9d895885",
   "metadata": {
    "execution": {
     "iopub.execute_input": "2021-04-04T23:31:28.521986Z",
     "iopub.status.busy": "2021-04-04T23:31:28.520800Z",
     "iopub.status.idle": "2021-04-04T23:31:28.525959Z",
     "shell.execute_reply": "2021-04-04T23:31:28.524204Z"
    },
    "papermill": {
     "duration": 0.049551,
     "end_time": "2021-04-04T23:31:28.526311",
     "exception": false,
     "start_time": "2021-04-04T23:31:28.476760",
     "status": "completed"
    },
    "tags": [
     "injected-parameters"
    ]
   },
   "outputs": [],
   "source": [
    "# Parameters\n",
    "DATASET_CONFIG_PATH = \"config/dataset/000145.json\"\n",
    "MODEL_CONFIG_PATH = \"config/model/000001.json\"\n",
    "PROFILE_REPORTING = False\n"
   ]
  },
  {
   "cell_type": "code",
   "execution_count": 3,
   "id": "b80f2a10",
   "metadata": {
    "execution": {
     "iopub.execute_input": "2021-04-04T23:31:28.595496Z",
     "iopub.status.busy": "2021-04-04T23:31:28.594460Z",
     "iopub.status.idle": "2021-04-04T23:31:28.598153Z",
     "shell.execute_reply": "2021-04-04T23:31:28.599023Z"
    },
    "papermill": {
     "duration": 0.037206,
     "end_time": "2021-04-04T23:31:28.599366",
     "exception": false,
     "start_time": "2021-04-04T23:31:28.562160",
     "status": "completed"
    },
    "tags": []
   },
   "outputs": [],
   "source": [
    "import json\n",
    "\n",
    "\n",
    "with open(DATASET_CONFIG_PATH) as f:\n",
    "    dataset_config = json.load(f)\n",
    "\n",
    "with open(MODEL_CONFIG_PATH) as f:\n",
    "    model_config = json.load(f)"
   ]
  },
  {
   "cell_type": "markdown",
   "id": "9a4b0e2d",
   "metadata": {
    "papermill": {
     "duration": 0.025871,
     "end_time": "2021-04-04T23:31:28.650171",
     "exception": false,
     "start_time": "2021-04-04T23:31:28.624300",
     "status": "completed"
    },
    "tags": []
   },
   "source": [
    "# Profiling"
   ]
  },
  {
   "cell_type": "code",
   "execution_count": 4,
   "id": "a3e0289b",
   "metadata": {
    "execution": {
     "iopub.execute_input": "2021-04-04T23:31:28.747305Z",
     "iopub.status.busy": "2021-04-04T23:31:28.746010Z",
     "iopub.status.idle": "2021-04-04T23:31:30.422236Z",
     "shell.execute_reply": "2021-04-04T23:31:30.421683Z"
    },
    "papermill": {
     "duration": 1.739436,
     "end_time": "2021-04-04T23:31:30.422357",
     "exception": false,
     "start_time": "2021-04-04T23:31:28.682921",
     "status": "completed"
    },
    "tags": []
   },
   "outputs": [],
   "source": [
    "import pandas as pd\n",
    "from pandas_profiling import ProfileReport"
   ]
  },
  {
   "cell_type": "code",
   "execution_count": 5,
   "id": "ee6c0666",
   "metadata": {
    "execution": {
     "iopub.execute_input": "2021-04-04T23:31:30.474780Z",
     "iopub.status.busy": "2021-04-04T23:31:30.473534Z",
     "iopub.status.idle": "2021-04-04T23:31:30.488253Z",
     "shell.execute_reply": "2021-04-04T23:31:30.487036Z"
    },
    "papermill": {
     "duration": 0.04133,
     "end_time": "2021-04-04T23:31:30.488506",
     "exception": false,
     "start_time": "2021-04-04T23:31:30.447176",
     "status": "completed"
    },
    "tags": []
   },
   "outputs": [],
   "source": [
    "df = pd.read_csv(dataset_config['dataset_path'])"
   ]
  },
  {
   "cell_type": "code",
   "execution_count": 6,
   "id": "7eca6c4a",
   "metadata": {
    "execution": {
     "iopub.execute_input": "2021-04-04T23:31:30.558704Z",
     "iopub.status.busy": "2021-04-04T23:31:30.556849Z",
     "iopub.status.idle": "2021-04-04T23:31:30.577611Z",
     "shell.execute_reply": "2021-04-04T23:31:30.578059Z"
    },
    "papermill": {
     "duration": 0.058903,
     "end_time": "2021-04-04T23:31:30.578199",
     "exception": false,
     "start_time": "2021-04-04T23:31:30.519296",
     "status": "completed"
    },
    "tags": []
   },
   "outputs": [
    {
     "name": "stdout",
     "output_type": "stream",
     "text": [
      "<class 'pandas.core.frame.DataFrame'>\n",
      "RangeIndex: 498 entries, 0 to 497\n",
      "Data columns (total 23 columns):\n",
      " #   Column             Non-Null Count  Dtype  \n",
      "---  ------             --------------  -----  \n",
      " 0   id                 498 non-null    int64  \n",
      " 1   loc                498 non-null    float64\n",
      " 2   v(g)               498 non-null    float64\n",
      " 3   ev(g)              498 non-null    float64\n",
      " 4   iv(g)              498 non-null    float64\n",
      " 5   n                  498 non-null    float64\n",
      " 6   v                  498 non-null    float64\n",
      " 7   l                  498 non-null    float64\n",
      " 8   d                  498 non-null    float64\n",
      " 9   i                  498 non-null    float64\n",
      " 10  e                  498 non-null    float64\n",
      " 11  b                  498 non-null    float64\n",
      " 12  t                  498 non-null    float64\n",
      " 13  lOCode             498 non-null    int64  \n",
      " 14  lOComment          498 non-null    int64  \n",
      " 15  lOBlank            498 non-null    int64  \n",
      " 16  locCodeAndComment  498 non-null    int64  \n",
      " 17  uniq_Op            498 non-null    float64\n",
      " 18  uniq_Opnd          498 non-null    float64\n",
      " 19  total_Op           498 non-null    float64\n",
      " 20  total_Opnd         498 non-null    float64\n",
      " 21  branchCount        498 non-null    float64\n",
      " 22  defects            498 non-null    bool   \n",
      "dtypes: bool(1), float64(17), int64(5)\n",
      "memory usage: 86.2 KB\n"
     ]
    }
   ],
   "source": [
    "df.info()"
   ]
  },
  {
   "cell_type": "code",
   "execution_count": 7,
   "id": "3638e5e8",
   "metadata": {
    "execution": {
     "iopub.execute_input": "2021-04-04T23:31:30.629313Z",
     "iopub.status.busy": "2021-04-04T23:31:30.628398Z",
     "iopub.status.idle": "2021-04-04T23:31:30.655188Z",
     "shell.execute_reply": "2021-04-04T23:31:30.655659Z"
    },
    "papermill": {
     "duration": 0.056838,
     "end_time": "2021-04-04T23:31:30.655806",
     "exception": false,
     "start_time": "2021-04-04T23:31:30.598968",
     "status": "completed"
    },
    "tags": []
   },
   "outputs": [
    {
     "data": {
      "text/html": [
       "<div>\n",
       "<style scoped>\n",
       "    .dataframe tbody tr th:only-of-type {\n",
       "        vertical-align: middle;\n",
       "    }\n",
       "\n",
       "    .dataframe tbody tr th {\n",
       "        vertical-align: top;\n",
       "    }\n",
       "\n",
       "    .dataframe thead th {\n",
       "        text-align: right;\n",
       "    }\n",
       "</style>\n",
       "<table border=\"1\" class=\"dataframe\">\n",
       "  <thead>\n",
       "    <tr style=\"text-align: right;\">\n",
       "      <th></th>\n",
       "      <th>id</th>\n",
       "      <th>loc</th>\n",
       "      <th>v(g)</th>\n",
       "      <th>ev(g)</th>\n",
       "      <th>iv(g)</th>\n",
       "      <th>n</th>\n",
       "      <th>v</th>\n",
       "      <th>l</th>\n",
       "      <th>d</th>\n",
       "      <th>i</th>\n",
       "      <th>...</th>\n",
       "      <th>lOCode</th>\n",
       "      <th>lOComment</th>\n",
       "      <th>lOBlank</th>\n",
       "      <th>locCodeAndComment</th>\n",
       "      <th>uniq_Op</th>\n",
       "      <th>uniq_Opnd</th>\n",
       "      <th>total_Op</th>\n",
       "      <th>total_Opnd</th>\n",
       "      <th>branchCount</th>\n",
       "      <th>defects</th>\n",
       "    </tr>\n",
       "  </thead>\n",
       "  <tbody>\n",
       "    <tr>\n",
       "      <th>0</th>\n",
       "      <td>1</td>\n",
       "      <td>1.1</td>\n",
       "      <td>1.4</td>\n",
       "      <td>1.4</td>\n",
       "      <td>1.4</td>\n",
       "      <td>1.3</td>\n",
       "      <td>1.30</td>\n",
       "      <td>1.30</td>\n",
       "      <td>1.30</td>\n",
       "      <td>1.30</td>\n",
       "      <td>...</td>\n",
       "      <td>2</td>\n",
       "      <td>2</td>\n",
       "      <td>2</td>\n",
       "      <td>2</td>\n",
       "      <td>1.2</td>\n",
       "      <td>1.2</td>\n",
       "      <td>1.2</td>\n",
       "      <td>1.2</td>\n",
       "      <td>1.4</td>\n",
       "      <td>False</td>\n",
       "    </tr>\n",
       "    <tr>\n",
       "      <th>1</th>\n",
       "      <td>2</td>\n",
       "      <td>1.0</td>\n",
       "      <td>1.0</td>\n",
       "      <td>1.0</td>\n",
       "      <td>1.0</td>\n",
       "      <td>1.0</td>\n",
       "      <td>1.00</td>\n",
       "      <td>1.00</td>\n",
       "      <td>1.00</td>\n",
       "      <td>1.00</td>\n",
       "      <td>...</td>\n",
       "      <td>1</td>\n",
       "      <td>1</td>\n",
       "      <td>1</td>\n",
       "      <td>1</td>\n",
       "      <td>1.0</td>\n",
       "      <td>1.0</td>\n",
       "      <td>1.0</td>\n",
       "      <td>1.0</td>\n",
       "      <td>1.0</td>\n",
       "      <td>True</td>\n",
       "    </tr>\n",
       "    <tr>\n",
       "      <th>2</th>\n",
       "      <td>3</td>\n",
       "      <td>24.0</td>\n",
       "      <td>5.0</td>\n",
       "      <td>1.0</td>\n",
       "      <td>3.0</td>\n",
       "      <td>63.0</td>\n",
       "      <td>309.13</td>\n",
       "      <td>0.11</td>\n",
       "      <td>9.50</td>\n",
       "      <td>32.54</td>\n",
       "      <td>...</td>\n",
       "      <td>1</td>\n",
       "      <td>0</td>\n",
       "      <td>6</td>\n",
       "      <td>0</td>\n",
       "      <td>15.0</td>\n",
       "      <td>15.0</td>\n",
       "      <td>44.0</td>\n",
       "      <td>19.0</td>\n",
       "      <td>9.0</td>\n",
       "      <td>False</td>\n",
       "    </tr>\n",
       "    <tr>\n",
       "      <th>3</th>\n",
       "      <td>4</td>\n",
       "      <td>20.0</td>\n",
       "      <td>4.0</td>\n",
       "      <td>4.0</td>\n",
       "      <td>2.0</td>\n",
       "      <td>47.0</td>\n",
       "      <td>215.49</td>\n",
       "      <td>0.06</td>\n",
       "      <td>16.00</td>\n",
       "      <td>13.47</td>\n",
       "      <td>...</td>\n",
       "      <td>0</td>\n",
       "      <td>0</td>\n",
       "      <td>3</td>\n",
       "      <td>0</td>\n",
       "      <td>16.0</td>\n",
       "      <td>8.0</td>\n",
       "      <td>31.0</td>\n",
       "      <td>16.0</td>\n",
       "      <td>7.0</td>\n",
       "      <td>False</td>\n",
       "    </tr>\n",
       "    <tr>\n",
       "      <th>4</th>\n",
       "      <td>5</td>\n",
       "      <td>24.0</td>\n",
       "      <td>6.0</td>\n",
       "      <td>6.0</td>\n",
       "      <td>2.0</td>\n",
       "      <td>72.0</td>\n",
       "      <td>346.13</td>\n",
       "      <td>0.06</td>\n",
       "      <td>17.33</td>\n",
       "      <td>19.97</td>\n",
       "      <td>...</td>\n",
       "      <td>0</td>\n",
       "      <td>0</td>\n",
       "      <td>3</td>\n",
       "      <td>0</td>\n",
       "      <td>16.0</td>\n",
       "      <td>12.0</td>\n",
       "      <td>46.0</td>\n",
       "      <td>26.0</td>\n",
       "      <td>11.0</td>\n",
       "      <td>False</td>\n",
       "    </tr>\n",
       "  </tbody>\n",
       "</table>\n",
       "<p>5 rows × 23 columns</p>\n",
       "</div>"
      ],
      "text/plain": [
       "   id   loc  v(g)  ev(g)  iv(g)     n       v     l      d      i  ...  \\\n",
       "0   1   1.1   1.4    1.4    1.4   1.3    1.30  1.30   1.30   1.30  ...   \n",
       "1   2   1.0   1.0    1.0    1.0   1.0    1.00  1.00   1.00   1.00  ...   \n",
       "2   3  24.0   5.0    1.0    3.0  63.0  309.13  0.11   9.50  32.54  ...   \n",
       "3   4  20.0   4.0    4.0    2.0  47.0  215.49  0.06  16.00  13.47  ...   \n",
       "4   5  24.0   6.0    6.0    2.0  72.0  346.13  0.06  17.33  19.97  ...   \n",
       "\n",
       "   lOCode  lOComment  lOBlank  locCodeAndComment  uniq_Op  uniq_Opnd  \\\n",
       "0       2          2        2                  2      1.2        1.2   \n",
       "1       1          1        1                  1      1.0        1.0   \n",
       "2       1          0        6                  0     15.0       15.0   \n",
       "3       0          0        3                  0     16.0        8.0   \n",
       "4       0          0        3                  0     16.0       12.0   \n",
       "\n",
       "   total_Op  total_Opnd  branchCount  defects  \n",
       "0       1.2         1.2          1.4    False  \n",
       "1       1.0         1.0          1.0     True  \n",
       "2      44.0        19.0          9.0    False  \n",
       "3      31.0        16.0          7.0    False  \n",
       "4      46.0        26.0         11.0    False  \n",
       "\n",
       "[5 rows x 23 columns]"
      ]
     },
     "execution_count": 7,
     "metadata": {},
     "output_type": "execute_result"
    }
   ],
   "source": [
    "df.head()"
   ]
  },
  {
   "cell_type": "code",
   "execution_count": 8,
   "id": "733e95eb",
   "metadata": {
    "execution": {
     "iopub.execute_input": "2021-04-04T23:31:30.715367Z",
     "iopub.status.busy": "2021-04-04T23:31:30.714357Z",
     "iopub.status.idle": "2021-04-04T23:31:30.717713Z",
     "shell.execute_reply": "2021-04-04T23:31:30.716964Z"
    },
    "papermill": {
     "duration": 0.039401,
     "end_time": "2021-04-04T23:31:30.717861",
     "exception": false,
     "start_time": "2021-04-04T23:31:30.678460",
     "status": "completed"
    },
    "tags": []
   },
   "outputs": [],
   "source": [
    "del df['id']"
   ]
  },
  {
   "cell_type": "code",
   "execution_count": 9,
   "id": "6ff6f5b0",
   "metadata": {
    "execution": {
     "iopub.execute_input": "2021-04-04T23:31:30.771577Z",
     "iopub.status.busy": "2021-04-04T23:31:30.770918Z",
     "iopub.status.idle": "2021-04-04T23:31:30.772817Z",
     "shell.execute_reply": "2021-04-04T23:31:30.773282Z"
    },
    "papermill": {
     "duration": 0.030911,
     "end_time": "2021-04-04T23:31:30.773427",
     "exception": false,
     "start_time": "2021-04-04T23:31:30.742516",
     "status": "completed"
    },
    "tags": []
   },
   "outputs": [],
   "source": [
    "if PROFILE_REPORTING:\n",
    "    ProfileReport(df).to_widgets()"
   ]
  },
  {
   "cell_type": "markdown",
   "id": "1deaf3f0",
   "metadata": {
    "papermill": {
     "duration": 0.027353,
     "end_time": "2021-04-04T23:31:30.823310",
     "exception": false,
     "start_time": "2021-04-04T23:31:30.795957",
     "status": "completed"
    },
    "tags": []
   },
   "source": [
    "# Preprocess"
   ]
  },
  {
   "cell_type": "code",
   "execution_count": 10,
   "id": "1513e563",
   "metadata": {
    "execution": {
     "iopub.execute_input": "2021-04-04T23:31:30.888152Z",
     "iopub.status.busy": "2021-04-04T23:31:30.886923Z",
     "iopub.status.idle": "2021-04-04T23:31:30.898695Z",
     "shell.execute_reply": "2021-04-04T23:31:30.900007Z"
    },
    "papermill": {
     "duration": 0.053728,
     "end_time": "2021-04-04T23:31:30.900280",
     "exception": false,
     "start_time": "2021-04-04T23:31:30.846552",
     "status": "completed"
    },
    "tags": []
   },
   "outputs": [],
   "source": [
    "working_df = df.copy()"
   ]
  },
  {
   "cell_type": "code",
   "execution_count": 11,
   "id": "3b26d675",
   "metadata": {
    "execution": {
     "iopub.execute_input": "2021-04-04T23:31:30.969095Z",
     "iopub.status.busy": "2021-04-04T23:31:30.967984Z",
     "iopub.status.idle": "2021-04-04T23:31:30.971346Z",
     "shell.execute_reply": "2021-04-04T23:31:30.970765Z"
    },
    "papermill": {
     "duration": 0.0371,
     "end_time": "2021-04-04T23:31:30.971492",
     "exception": false,
     "start_time": "2021-04-04T23:31:30.934392",
     "status": "completed"
    },
    "tags": []
   },
   "outputs": [],
   "source": [
    "working_df['defects'] = working_df['defects'].replace([False, True], [0, 1])"
   ]
  },
  {
   "cell_type": "code",
   "execution_count": 12,
   "id": "eb48604f",
   "metadata": {
    "execution": {
     "iopub.execute_input": "2021-04-04T23:31:31.042689Z",
     "iopub.status.busy": "2021-04-04T23:31:31.041964Z",
     "iopub.status.idle": "2021-04-04T23:31:31.045115Z",
     "shell.execute_reply": "2021-04-04T23:31:31.046652Z"
    },
    "papermill": {
     "duration": 0.048207,
     "end_time": "2021-04-04T23:31:31.046946",
     "exception": false,
     "start_time": "2021-04-04T23:31:30.998739",
     "status": "completed"
    },
    "tags": []
   },
   "outputs": [],
   "source": [
    "for col in dataset_config['delete_columns']:\n",
    "    del working_df[col]"
   ]
  },
  {
   "cell_type": "code",
   "execution_count": 13,
   "id": "9a17bc29",
   "metadata": {
    "execution": {
     "iopub.execute_input": "2021-04-04T23:31:31.109668Z",
     "iopub.status.busy": "2021-04-04T23:31:31.108423Z",
     "iopub.status.idle": "2021-04-04T23:31:31.118712Z",
     "shell.execute_reply": "2021-04-04T23:31:31.117960Z"
    },
    "papermill": {
     "duration": 0.044735,
     "end_time": "2021-04-04T23:31:31.118887",
     "exception": false,
     "start_time": "2021-04-04T23:31:31.074152",
     "status": "completed"
    },
    "tags": []
   },
   "outputs": [],
   "source": [
    "working_df = working_df.drop_duplicates()"
   ]
  },
  {
   "cell_type": "markdown",
   "id": "a4d52ca6",
   "metadata": {
    "papermill": {
     "duration": 0.031679,
     "end_time": "2021-04-04T23:31:31.184290",
     "exception": false,
     "start_time": "2021-04-04T23:31:31.152611",
     "status": "completed"
    },
    "tags": []
   },
   "source": [
    "# Split"
   ]
  },
  {
   "cell_type": "code",
   "execution_count": 14,
   "id": "3e9ee4b5",
   "metadata": {
    "execution": {
     "iopub.execute_input": "2021-04-04T23:31:31.246150Z",
     "iopub.status.busy": "2021-04-04T23:31:31.245294Z",
     "iopub.status.idle": "2021-04-04T23:31:31.287986Z",
     "shell.execute_reply": "2021-04-04T23:31:31.288467Z"
    },
    "papermill": {
     "duration": 0.07849,
     "end_time": "2021-04-04T23:31:31.288616",
     "exception": false,
     "start_time": "2021-04-04T23:31:31.210126",
     "status": "completed"
    },
    "tags": []
   },
   "outputs": [],
   "source": [
    "from sklearn.model_selection import train_test_split"
   ]
  },
  {
   "cell_type": "code",
   "execution_count": 15,
   "id": "274004ce",
   "metadata": {
    "execution": {
     "iopub.execute_input": "2021-04-04T23:31:31.340851Z",
     "iopub.status.busy": "2021-04-04T23:31:31.340230Z",
     "iopub.status.idle": "2021-04-04T23:31:31.345235Z",
     "shell.execute_reply": "2021-04-04T23:31:31.346252Z"
    },
    "papermill": {
     "duration": 0.034595,
     "end_time": "2021-04-04T23:31:31.346477",
     "exception": false,
     "start_time": "2021-04-04T23:31:31.311882",
     "status": "completed"
    },
    "scrolled": true,
    "tags": []
   },
   "outputs": [],
   "source": [
    "inlier, outlier = working_df[working_df['defects'] == 0], working_df[working_df['defects'] == 1]"
   ]
  },
  {
   "cell_type": "code",
   "execution_count": 16,
   "id": "753c7b03",
   "metadata": {
    "execution": {
     "iopub.execute_input": "2021-04-04T23:31:31.412937Z",
     "iopub.status.busy": "2021-04-04T23:31:31.410875Z",
     "iopub.status.idle": "2021-04-04T23:31:31.418468Z",
     "shell.execute_reply": "2021-04-04T23:31:31.417669Z"
    },
    "papermill": {
     "duration": 0.039887,
     "end_time": "2021-04-04T23:31:31.418628",
     "exception": false,
     "start_time": "2021-04-04T23:31:31.378741",
     "status": "completed"
    },
    "tags": []
   },
   "outputs": [],
   "source": [
    "X_inlier = inlier.copy()\n",
    "y_inlier = X_inlier.pop('defects')\n",
    "X_outlier = outlier.copy()\n",
    "y_outlier = X_outlier.pop('defects')"
   ]
  },
  {
   "cell_type": "code",
   "execution_count": 17,
   "id": "2ba43193",
   "metadata": {
    "execution": {
     "iopub.execute_input": "2021-04-04T23:31:31.473364Z",
     "iopub.status.busy": "2021-04-04T23:31:31.472583Z",
     "iopub.status.idle": "2021-04-04T23:31:31.474849Z",
     "shell.execute_reply": "2021-04-04T23:31:31.474278Z"
    },
    "papermill": {
     "duration": 0.032517,
     "end_time": "2021-04-04T23:31:31.474967",
     "exception": false,
     "start_time": "2021-04-04T23:31:31.442450",
     "status": "completed"
    },
    "tags": []
   },
   "outputs": [],
   "source": [
    "test_size = dataset_config['test_size']\n",
    "random_state = dataset_config['random_state']\n",
    "\n",
    "X_inlier_train, X_inlier_test, y_inlier_train, y_inlier_test = train_test_split(\n",
    "    X_inlier,\n",
    "    y_inlier,\n",
    "    test_size=test_size,\n",
    "    random_state=random_state\n",
    ")"
   ]
  },
  {
   "cell_type": "code",
   "execution_count": 18,
   "id": "0b7582ca",
   "metadata": {
    "execution": {
     "iopub.execute_input": "2021-04-04T23:31:31.539999Z",
     "iopub.status.busy": "2021-04-04T23:31:31.539110Z",
     "iopub.status.idle": "2021-04-04T23:31:31.541460Z",
     "shell.execute_reply": "2021-04-04T23:31:31.542020Z"
    },
    "papermill": {
     "duration": 0.042125,
     "end_time": "2021-04-04T23:31:31.542194",
     "exception": false,
     "start_time": "2021-04-04T23:31:31.500069",
     "status": "completed"
    },
    "tags": []
   },
   "outputs": [],
   "source": [
    "test_outlier_size = dataset_config['test_outlier_size']\n",
    "if test_outlier_size > 0.0:\n",
    "    X_outlier_train, X_outlier_test, y_outlier_train, y_outlier_test = train_test_split(\n",
    "        X_outlier,\n",
    "        y_outlier,\n",
    "        test_size=test_outlier_size,\n",
    "        random_state=random_state\n",
    "    )\n",
    "else:\n",
    "    X_outlier_train, y_outlier_train = pd.DataFrame(columns=X_outlier.columns), pd.Series(dtype='int64')\n",
    "    X_outlier_test, y_outlier_test = X_outlier.copy(), y_outlier.copy()"
   ]
  },
  {
   "cell_type": "code",
   "execution_count": 19,
   "id": "c34363db",
   "metadata": {
    "execution": {
     "iopub.execute_input": "2021-04-04T23:31:31.601083Z",
     "iopub.status.busy": "2021-04-04T23:31:31.600432Z",
     "iopub.status.idle": "2021-04-04T23:31:31.602374Z",
     "shell.execute_reply": "2021-04-04T23:31:31.602966Z"
    },
    "papermill": {
     "duration": 0.037155,
     "end_time": "2021-04-04T23:31:31.603126",
     "exception": false,
     "start_time": "2021-04-04T23:31:31.565971",
     "status": "completed"
    },
    "tags": []
   },
   "outputs": [],
   "source": [
    "X_train, y_train = pd.concat([X_inlier_train, X_outlier_train], ignore_index=True), pd.concat([y_inlier_train, y_outlier_train], ignore_index=True)\n",
    "X_test, y_test = pd.concat([X_inlier_test, X_outlier_test], ignore_index=True), pd.concat([y_inlier_test, y_outlier_test], ignore_index=True)"
   ]
  },
  {
   "cell_type": "markdown",
   "id": "7cde7309",
   "metadata": {
    "papermill": {
     "duration": 0.027343,
     "end_time": "2021-04-04T23:31:31.654019",
     "exception": false,
     "start_time": "2021-04-04T23:31:31.626676",
     "status": "completed"
    },
    "tags": []
   },
   "source": [
    "# Model"
   ]
  },
  {
   "cell_type": "code",
   "execution_count": 20,
   "id": "2b12a415",
   "metadata": {
    "execution": {
     "iopub.execute_input": "2021-04-04T23:31:31.712381Z",
     "iopub.status.busy": "2021-04-04T23:31:31.711778Z",
     "iopub.status.idle": "2021-04-04T23:31:31.713744Z",
     "shell.execute_reply": "2021-04-04T23:31:31.714202Z"
    },
    "papermill": {
     "duration": 0.035901,
     "end_time": "2021-04-04T23:31:31.714344",
     "exception": false,
     "start_time": "2021-04-04T23:31:31.678443",
     "status": "completed"
    },
    "tags": []
   },
   "outputs": [],
   "source": [
    "from math import sqrt\n",
    "\n",
    "\n",
    "class KNNDataDescription:\n",
    "    def __init__(self, k=5, outlier_threshold=1.0):\n",
    "        self.k = k\n",
    "        self.outlier_threshold = outlier_threshold\n",
    "        self.X = []\n",
    "    \n",
    "    def fit(self, X):\n",
    "        self.X = [features.to_list() for index, features in X.iterrows()]\n",
    "\n",
    "    def predict(self, entries):\n",
    "        return [self.predict_entry(features.to_list()) for index, features in entries.iterrows()]\n",
    "    \n",
    "    def predict_entry(self, entry):\n",
    "        kth_neighbor, kth_distance = self.get_kth_neighbor(entry, self.k)\n",
    "        kth_kth_neighbor, kth_kth_distance = self.get_kth_neighbor(kth_neighbor, self.k + 1)\n",
    "\n",
    "        outlier_score = kth_distance / (kth_kth_distance + 0.000001)\n",
    "\n",
    "        return 1 if outlier_score < self.outlier_threshold else -1\n",
    "        \n",
    "    def euclidean_distance(self, features1, features2):\n",
    "        distance = 0.0\n",
    "        for feat1, feat2 in zip(features1, features2):\n",
    "            distance += (feat1 - feat2)**2\n",
    "                \n",
    "        return sqrt(distance)\n",
    "\n",
    "    def get_neighbors(self, entry, k):\n",
    "        distance_to_data_points = [\n",
    "            (data_point, self.euclidean_distance(entry, data_point))\n",
    "            for data_point in self.X\n",
    "        ]\n",
    "        sorted_by_distance = sorted(distance_to_data_points, key=lambda tup: tup[1])\n",
    "        neighbors = sorted_by_distance[:k]\n",
    "        return neighbors\n",
    "\n",
    "    def get_kth_neighbor(self, entry, k):\n",
    "        neighbors = self.get_neighbors(entry, k)\n",
    "        return neighbors[-1]\n"
   ]
  },
  {
   "cell_type": "code",
   "execution_count": 21,
   "id": "1fa9ec1c",
   "metadata": {
    "execution": {
     "iopub.execute_input": "2021-04-04T23:31:31.803986Z",
     "iopub.status.busy": "2021-04-04T23:31:31.802533Z",
     "iopub.status.idle": "2021-04-04T23:31:31.846858Z",
     "shell.execute_reply": "2021-04-04T23:31:31.847466Z"
    },
    "papermill": {
     "duration": 0.098907,
     "end_time": "2021-04-04T23:31:31.847653",
     "exception": false,
     "start_time": "2021-04-04T23:31:31.748746",
     "status": "completed"
    },
    "tags": []
   },
   "outputs": [],
   "source": [
    "from sklearn.svm import OneClassSVM\n",
    "\n",
    "\n",
    "models = {\n",
    "    'oneclasssvm': OneClassSVM,\n",
    "    'knndatadescription': KNNDataDescription,\n",
    "}"
   ]
  },
  {
   "cell_type": "code",
   "execution_count": 22,
   "id": "4d72a0b1",
   "metadata": {
    "execution": {
     "iopub.execute_input": "2021-04-04T23:31:31.905251Z",
     "iopub.status.busy": "2021-04-04T23:31:31.904403Z",
     "iopub.status.idle": "2021-04-04T23:31:31.906447Z",
     "shell.execute_reply": "2021-04-04T23:31:31.906933Z"
    },
    "papermill": {
     "duration": 0.031669,
     "end_time": "2021-04-04T23:31:31.907082",
     "exception": false,
     "start_time": "2021-04-04T23:31:31.875413",
     "status": "completed"
    },
    "scrolled": true,
    "tags": []
   },
   "outputs": [],
   "source": [
    "model_cls = models[model_config['model_type']]\n",
    "model = model_cls(**model_config['hyperparameters'])"
   ]
  },
  {
   "cell_type": "markdown",
   "id": "e00cff3b",
   "metadata": {
    "papermill": {
     "duration": 0.027816,
     "end_time": "2021-04-04T23:31:31.958457",
     "exception": false,
     "start_time": "2021-04-04T23:31:31.930641",
     "status": "completed"
    },
    "tags": []
   },
   "source": [
    "# Fit"
   ]
  },
  {
   "cell_type": "code",
   "execution_count": 23,
   "id": "8b2ded89",
   "metadata": {
    "execution": {
     "iopub.execute_input": "2021-04-04T23:31:32.031837Z",
     "iopub.status.busy": "2021-04-04T23:31:32.017226Z",
     "iopub.status.idle": "2021-04-04T23:31:32.034672Z",
     "shell.execute_reply": "2021-04-04T23:31:32.034114Z"
    },
    "papermill": {
     "duration": 0.052649,
     "end_time": "2021-04-04T23:31:32.034796",
     "exception": false,
     "start_time": "2021-04-04T23:31:31.982147",
     "status": "completed"
    },
    "tags": []
   },
   "outputs": [],
   "source": [
    "model.fit(X_train)"
   ]
  },
  {
   "cell_type": "markdown",
   "id": "f99999f7",
   "metadata": {
    "papermill": {
     "duration": 0.031093,
     "end_time": "2021-04-04T23:31:32.091624",
     "exception": false,
     "start_time": "2021-04-04T23:31:32.060531",
     "status": "completed"
    },
    "tags": []
   },
   "source": [
    "# Predict"
   ]
  },
  {
   "cell_type": "code",
   "execution_count": 24,
   "id": "6536fbf7",
   "metadata": {
    "execution": {
     "iopub.execute_input": "2021-04-04T23:31:32.162275Z",
     "iopub.status.busy": "2021-04-04T23:31:32.151792Z",
     "iopub.status.idle": "2021-04-04T23:31:32.497695Z",
     "shell.execute_reply": "2021-04-04T23:31:32.498414Z"
    },
    "papermill": {
     "duration": 0.380115,
     "end_time": "2021-04-04T23:31:32.498632",
     "exception": false,
     "start_time": "2021-04-04T23:31:32.118517",
     "status": "completed"
    },
    "tags": []
   },
   "outputs": [],
   "source": [
    "predictions = model.predict(X_test)"
   ]
  },
  {
   "cell_type": "markdown",
   "id": "aa1c9881",
   "metadata": {
    "papermill": {
     "duration": 0.032198,
     "end_time": "2021-04-04T23:31:32.557837",
     "exception": false,
     "start_time": "2021-04-04T23:31:32.525639",
     "status": "completed"
    },
    "tags": []
   },
   "source": [
    "# Evaluate"
   ]
  },
  {
   "cell_type": "code",
   "execution_count": 25,
   "id": "894f0f04",
   "metadata": {
    "execution": {
     "iopub.execute_input": "2021-04-04T23:31:32.643038Z",
     "iopub.status.busy": "2021-04-04T23:31:32.642323Z",
     "iopub.status.idle": "2021-04-04T23:31:32.644679Z",
     "shell.execute_reply": "2021-04-04T23:31:32.644170Z"
    },
    "papermill": {
     "duration": 0.037927,
     "end_time": "2021-04-04T23:31:32.644797",
     "exception": false,
     "start_time": "2021-04-04T23:31:32.606870",
     "status": "completed"
    },
    "tags": []
   },
   "outputs": [],
   "source": [
    "from sklearn.metrics import f1_score"
   ]
  },
  {
   "cell_type": "code",
   "execution_count": 26,
   "id": "211744d3",
   "metadata": {
    "execution": {
     "iopub.execute_input": "2021-04-04T23:31:32.710112Z",
     "iopub.status.busy": "2021-04-04T23:31:32.709381Z",
     "iopub.status.idle": "2021-04-04T23:31:32.711931Z",
     "shell.execute_reply": "2021-04-04T23:31:32.712485Z"
    },
    "papermill": {
     "duration": 0.041728,
     "end_time": "2021-04-04T23:31:32.712660",
     "exception": false,
     "start_time": "2021-04-04T23:31:32.670932",
     "status": "completed"
    },
    "tags": []
   },
   "outputs": [],
   "source": [
    "y_test = y_test.replace([0, 1], [1, -1])"
   ]
  },
  {
   "cell_type": "code",
   "execution_count": 27,
   "id": "d68a9204",
   "metadata": {
    "execution": {
     "iopub.execute_input": "2021-04-04T23:31:32.811417Z",
     "iopub.status.busy": "2021-04-04T23:31:32.810725Z",
     "iopub.status.idle": "2021-04-04T23:31:32.812859Z",
     "shell.execute_reply": "2021-04-04T23:31:32.813336Z"
    },
    "papermill": {
     "duration": 0.033781,
     "end_time": "2021-04-04T23:31:32.813484",
     "exception": false,
     "start_time": "2021-04-04T23:31:32.779703",
     "status": "completed"
    },
    "tags": []
   },
   "outputs": [],
   "source": [
    "def evaluate(truths, predictions, pos_label, neg_label):\n",
    "    TP = 0\n",
    "    FP = 0\n",
    "    TN = 0\n",
    "    FN = 0\n",
    "\n",
    "    for truth, pred in zip(truths, predictions): \n",
    "        if truth == pred == pos_label:\n",
    "           TP += 1\n",
    "        elif pred == pos_label and truth == neg_label:\n",
    "           FP += 1\n",
    "        elif truth == pred == neg_label:\n",
    "           TN += 1\n",
    "        elif pred == neg_label and truth == pos_label:\n",
    "           FN += 1\n",
    "\n",
    "    precision = TP / (TP + FP)\n",
    "    sensitivity = TP / (TP + FN)\n",
    "    \n",
    "    return {\n",
    "        'true_pos': TP,\n",
    "        'false_pos': FP,\n",
    "        'false_neg': FN,\n",
    "        'true_neg': TN,\n",
    "        'precision': precision,\n",
    "        'sensitivity': sensitivity,\n",
    "        'f1': (2 * (precision * sensitivity)) / (precision + sensitivity)\n",
    "    }\n",
    "\n",
    "score = evaluate(y_test, predictions, pos_label=-1, neg_label=1)"
   ]
  },
  {
   "cell_type": "markdown",
   "id": "93596516",
   "metadata": {
    "papermill": {
     "duration": 0.027402,
     "end_time": "2021-04-04T23:31:32.867677",
     "exception": false,
     "start_time": "2021-04-04T23:31:32.840275",
     "status": "completed"
    },
    "tags": []
   },
   "source": [
    "# Report"
   ]
  },
  {
   "cell_type": "code",
   "execution_count": 28,
   "id": "bea5fba1",
   "metadata": {
    "execution": {
     "iopub.execute_input": "2021-04-04T23:31:32.927733Z",
     "iopub.status.busy": "2021-04-04T23:31:32.926753Z",
     "iopub.status.idle": "2021-04-04T23:31:32.931489Z",
     "shell.execute_reply": "2021-04-04T23:31:32.932107Z"
    },
    "papermill": {
     "duration": 0.036361,
     "end_time": "2021-04-04T23:31:32.932285",
     "exception": false,
     "start_time": "2021-04-04T23:31:32.895924",
     "status": "completed"
    },
    "tags": []
   },
   "outputs": [],
   "source": [
    "import csv\n",
    "\n",
    "\n",
    "dataset_config_name = DATASET_CONFIG_PATH.split('/')[-1].split('.')[0]\n",
    "model_config_name = MODEL_CONFIG_PATH.split('/')[-1].split('.')[0]\n",
    "configuration = f\"dataset_{dataset_config_name}-model_{model_config_name}\"\n",
    "\n",
    "with open('results.csv', 'a') as f:\n",
    "    report = dict({'configuration': configuration}, **score)\n",
    "    writer = csv.DictWriter(f, report.keys())\n",
    "    writer.writerow(report)"
   ]
  }
 ],
 "metadata": {
  "celltoolbar": "Tags",
  "kernelspec": {
   "display_name": "Python 3",
   "language": "python",
   "name": "python3"
  },
  "language_info": {
   "codemirror_mode": {
    "name": "ipython",
    "version": 3
   },
   "file_extension": ".py",
   "mimetype": "text/x-python",
   "name": "python",
   "nbconvert_exporter": "python",
   "pygments_lexer": "ipython3",
   "version": "3.9.1"
  },
  "papermill": {
   "default_parameters": {},
   "duration": 7.073833,
   "end_time": "2021-04-04T23:31:34.557795",
   "environment_variables": {},
   "exception": null,
   "input_path": "main.ipynb",
   "output_path": "runs/dataset_000145-model_000001.ipynb",
   "parameters": {
    "DATASET_CONFIG_PATH": "config/dataset/000145.json",
    "MODEL_CONFIG_PATH": "config/model/000001.json",
    "PROFILE_REPORTING": false
   },
   "start_time": "2021-04-04T23:31:27.483962",
   "version": "2.3.3"
  }
 },
 "nbformat": 4,
 "nbformat_minor": 5
}