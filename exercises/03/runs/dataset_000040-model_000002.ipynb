{
 "cells": [
  {
   "cell_type": "markdown",
   "id": "51c71c25",
   "metadata": {
    "papermill": {
     "duration": 0.023232,
     "end_time": "2021-04-04T22:43:44.486500",
     "exception": false,
     "start_time": "2021-04-04T22:43:44.463268",
     "status": "completed"
    },
    "tags": []
   },
   "source": [
    "# Parametrizing"
   ]
  },
  {
   "cell_type": "code",
   "execution_count": 1,
   "id": "3b136394",
   "metadata": {
    "execution": {
     "iopub.execute_input": "2021-04-04T22:43:44.542914Z",
     "iopub.status.busy": "2021-04-04T22:43:44.542125Z",
     "iopub.status.idle": "2021-04-04T22:43:44.544601Z",
     "shell.execute_reply": "2021-04-04T22:43:44.545142Z"
    },
    "papermill": {
     "duration": 0.038456,
     "end_time": "2021-04-04T22:43:44.545377",
     "exception": false,
     "start_time": "2021-04-04T22:43:44.506921",
     "status": "completed"
    },
    "tags": [
     "parameters"
    ]
   },
   "outputs": [],
   "source": [
    "DATASET_CONFIG_PATH = 'config/dataset/kc1_001.json'\n",
    "MODEL_CONFIG_PATH = 'config/model/knndd_001.json'\n",
    "PROFILE_REPORTING = False"
   ]
  },
  {
   "cell_type": "code",
   "execution_count": 2,
   "id": "df1f8894",
   "metadata": {
    "execution": {
     "iopub.execute_input": "2021-04-04T22:43:44.593324Z",
     "iopub.status.busy": "2021-04-04T22:43:44.591882Z",
     "iopub.status.idle": "2021-04-04T22:43:44.595113Z",
     "shell.execute_reply": "2021-04-04T22:43:44.594601Z"
    },
    "papermill": {
     "duration": 0.029647,
     "end_time": "2021-04-04T22:43:44.595232",
     "exception": false,
     "start_time": "2021-04-04T22:43:44.565585",
     "status": "completed"
    },
    "tags": [
     "injected-parameters"
    ]
   },
   "outputs": [],
   "source": [
    "# Parameters\n",
    "DATASET_CONFIG_PATH = \"config/dataset/000040.json\"\n",
    "MODEL_CONFIG_PATH = \"config/model/000002.json\"\n",
    "PROFILE_REPORTING = False\n"
   ]
  },
  {
   "cell_type": "code",
   "execution_count": 3,
   "id": "b80f2a10",
   "metadata": {
    "execution": {
     "iopub.execute_input": "2021-04-04T22:43:44.646360Z",
     "iopub.status.busy": "2021-04-04T22:43:44.645109Z",
     "iopub.status.idle": "2021-04-04T22:43:44.649757Z",
     "shell.execute_reply": "2021-04-04T22:43:44.650278Z"
    },
    "papermill": {
     "duration": 0.035555,
     "end_time": "2021-04-04T22:43:44.650439",
     "exception": false,
     "start_time": "2021-04-04T22:43:44.614884",
     "status": "completed"
    },
    "tags": []
   },
   "outputs": [],
   "source": [
    "import json\n",
    "\n",
    "\n",
    "with open(DATASET_CONFIG_PATH) as f:\n",
    "    dataset_config = json.load(f)\n",
    "\n",
    "with open(MODEL_CONFIG_PATH) as f:\n",
    "    model_config = json.load(f)"
   ]
  },
  {
   "cell_type": "markdown",
   "id": "9a4b0e2d",
   "metadata": {
    "papermill": {
     "duration": 0.01988,
     "end_time": "2021-04-04T22:43:44.690516",
     "exception": false,
     "start_time": "2021-04-04T22:43:44.670636",
     "status": "completed"
    },
    "tags": []
   },
   "source": [
    "# Profiling"
   ]
  },
  {
   "cell_type": "code",
   "execution_count": 4,
   "id": "a3e0289b",
   "metadata": {
    "execution": {
     "iopub.execute_input": "2021-04-04T22:43:44.735780Z",
     "iopub.status.busy": "2021-04-04T22:43:44.735175Z",
     "iopub.status.idle": "2021-04-04T22:43:46.231285Z",
     "shell.execute_reply": "2021-04-04T22:43:46.230684Z"
    },
    "papermill": {
     "duration": 1.519334,
     "end_time": "2021-04-04T22:43:46.231406",
     "exception": false,
     "start_time": "2021-04-04T22:43:44.712072",
     "status": "completed"
    },
    "tags": []
   },
   "outputs": [],
   "source": [
    "import pandas as pd\n",
    "from pandas_profiling import ProfileReport"
   ]
  },
  {
   "cell_type": "code",
   "execution_count": 5,
   "id": "ee6c0666",
   "metadata": {
    "execution": {
     "iopub.execute_input": "2021-04-04T22:43:46.286126Z",
     "iopub.status.busy": "2021-04-04T22:43:46.285350Z",
     "iopub.status.idle": "2021-04-04T22:43:46.299909Z",
     "shell.execute_reply": "2021-04-04T22:43:46.299254Z"
    },
    "papermill": {
     "duration": 0.047415,
     "end_time": "2021-04-04T22:43:46.300361",
     "exception": false,
     "start_time": "2021-04-04T22:43:46.252946",
     "status": "completed"
    },
    "tags": []
   },
   "outputs": [],
   "source": [
    "df = pd.read_csv(dataset_config['dataset_path'])"
   ]
  },
  {
   "cell_type": "code",
   "execution_count": 6,
   "id": "7eca6c4a",
   "metadata": {
    "execution": {
     "iopub.execute_input": "2021-04-04T22:43:46.379091Z",
     "iopub.status.busy": "2021-04-04T22:43:46.365620Z",
     "iopub.status.idle": "2021-04-04T22:43:46.383832Z",
     "shell.execute_reply": "2021-04-04T22:43:46.382884Z"
    },
    "papermill": {
     "duration": 0.056365,
     "end_time": "2021-04-04T22:43:46.384213",
     "exception": false,
     "start_time": "2021-04-04T22:43:46.327848",
     "status": "completed"
    },
    "tags": []
   },
   "outputs": [
    {
     "name": "stdout",
     "output_type": "stream",
     "text": [
      "<class 'pandas.core.frame.DataFrame'>\n",
      "RangeIndex: 2109 entries, 0 to 2108\n",
      "Data columns (total 23 columns):\n",
      " #   Column             Non-Null Count  Dtype  \n",
      "---  ------             --------------  -----  \n",
      " 0   id                 2109 non-null   int64  \n",
      " 1   loc                2109 non-null   float64\n",
      " 2   v(g)               2109 non-null   float64\n",
      " 3   ev(g)              2109 non-null   float64\n",
      " 4   iv(g)              2109 non-null   float64\n",
      " 5   n                  2109 non-null   float64\n",
      " 6   v                  2109 non-null   float64\n",
      " 7   l                  2109 non-null   float64\n",
      " 8   d                  2109 non-null   float64\n",
      " 9   i                  2109 non-null   float64\n",
      " 10  e                  2109 non-null   float64\n",
      " 11  b                  2109 non-null   float64\n",
      " 12  t                  2109 non-null   float64\n",
      " 13  lOCode             2109 non-null   int64  \n",
      " 14  lOComment          2109 non-null   int64  \n",
      " 15  lOBlank            2109 non-null   int64  \n",
      " 16  locCodeAndComment  2109 non-null   int64  \n",
      " 17  uniq_Op            2109 non-null   float64\n",
      " 18  uniq_Opnd          2109 non-null   float64\n",
      " 19  total_Op           2109 non-null   float64\n",
      " 20  total_Opnd         2109 non-null   float64\n",
      " 21  branchCount        2109 non-null   float64\n",
      " 22  defects            2109 non-null   bool   \n",
      "dtypes: bool(1), float64(17), int64(5)\n",
      "memory usage: 364.7 KB\n"
     ]
    }
   ],
   "source": [
    "df.info()"
   ]
  },
  {
   "cell_type": "code",
   "execution_count": 7,
   "id": "3638e5e8",
   "metadata": {
    "execution": {
     "iopub.execute_input": "2021-04-04T22:43:46.446599Z",
     "iopub.status.busy": "2021-04-04T22:43:46.445840Z",
     "iopub.status.idle": "2021-04-04T22:43:46.479397Z",
     "shell.execute_reply": "2021-04-04T22:43:46.477696Z"
    },
    "papermill": {
     "duration": 0.070962,
     "end_time": "2021-04-04T22:43:46.479768",
     "exception": false,
     "start_time": "2021-04-04T22:43:46.408806",
     "status": "completed"
    },
    "tags": []
   },
   "outputs": [
    {
     "data": {
      "text/html": [
       "<div>\n",
       "<style scoped>\n",
       "    .dataframe tbody tr th:only-of-type {\n",
       "        vertical-align: middle;\n",
       "    }\n",
       "\n",
       "    .dataframe tbody tr th {\n",
       "        vertical-align: top;\n",
       "    }\n",
       "\n",
       "    .dataframe thead th {\n",
       "        text-align: right;\n",
       "    }\n",
       "</style>\n",
       "<table border=\"1\" class=\"dataframe\">\n",
       "  <thead>\n",
       "    <tr style=\"text-align: right;\">\n",
       "      <th></th>\n",
       "      <th>id</th>\n",
       "      <th>loc</th>\n",
       "      <th>v(g)</th>\n",
       "      <th>ev(g)</th>\n",
       "      <th>iv(g)</th>\n",
       "      <th>n</th>\n",
       "      <th>v</th>\n",
       "      <th>l</th>\n",
       "      <th>d</th>\n",
       "      <th>i</th>\n",
       "      <th>...</th>\n",
       "      <th>lOCode</th>\n",
       "      <th>lOComment</th>\n",
       "      <th>lOBlank</th>\n",
       "      <th>locCodeAndComment</th>\n",
       "      <th>uniq_Op</th>\n",
       "      <th>uniq_Opnd</th>\n",
       "      <th>total_Op</th>\n",
       "      <th>total_Opnd</th>\n",
       "      <th>branchCount</th>\n",
       "      <th>defects</th>\n",
       "    </tr>\n",
       "  </thead>\n",
       "  <tbody>\n",
       "    <tr>\n",
       "      <th>0</th>\n",
       "      <td>1</td>\n",
       "      <td>1.1</td>\n",
       "      <td>1.4</td>\n",
       "      <td>1.4</td>\n",
       "      <td>1.4</td>\n",
       "      <td>1.3</td>\n",
       "      <td>1.30</td>\n",
       "      <td>1.30</td>\n",
       "      <td>1.30</td>\n",
       "      <td>1.30</td>\n",
       "      <td>...</td>\n",
       "      <td>2</td>\n",
       "      <td>2</td>\n",
       "      <td>2</td>\n",
       "      <td>2</td>\n",
       "      <td>1.2</td>\n",
       "      <td>1.2</td>\n",
       "      <td>1.2</td>\n",
       "      <td>1.2</td>\n",
       "      <td>1.4</td>\n",
       "      <td>False</td>\n",
       "    </tr>\n",
       "    <tr>\n",
       "      <th>1</th>\n",
       "      <td>2</td>\n",
       "      <td>1.0</td>\n",
       "      <td>1.0</td>\n",
       "      <td>1.0</td>\n",
       "      <td>1.0</td>\n",
       "      <td>1.0</td>\n",
       "      <td>1.00</td>\n",
       "      <td>1.00</td>\n",
       "      <td>1.00</td>\n",
       "      <td>1.00</td>\n",
       "      <td>...</td>\n",
       "      <td>1</td>\n",
       "      <td>1</td>\n",
       "      <td>1</td>\n",
       "      <td>1</td>\n",
       "      <td>1.0</td>\n",
       "      <td>1.0</td>\n",
       "      <td>1.0</td>\n",
       "      <td>1.0</td>\n",
       "      <td>1.0</td>\n",
       "      <td>True</td>\n",
       "    </tr>\n",
       "    <tr>\n",
       "      <th>2</th>\n",
       "      <td>3</td>\n",
       "      <td>83.0</td>\n",
       "      <td>11.0</td>\n",
       "      <td>1.0</td>\n",
       "      <td>11.0</td>\n",
       "      <td>171.0</td>\n",
       "      <td>927.89</td>\n",
       "      <td>0.04</td>\n",
       "      <td>23.04</td>\n",
       "      <td>40.27</td>\n",
       "      <td>...</td>\n",
       "      <td>65</td>\n",
       "      <td>10</td>\n",
       "      <td>6</td>\n",
       "      <td>0</td>\n",
       "      <td>18.0</td>\n",
       "      <td>25.0</td>\n",
       "      <td>107.0</td>\n",
       "      <td>64.0</td>\n",
       "      <td>21.0</td>\n",
       "      <td>True</td>\n",
       "    </tr>\n",
       "    <tr>\n",
       "      <th>3</th>\n",
       "      <td>4</td>\n",
       "      <td>46.0</td>\n",
       "      <td>8.0</td>\n",
       "      <td>6.0</td>\n",
       "      <td>8.0</td>\n",
       "      <td>141.0</td>\n",
       "      <td>769.78</td>\n",
       "      <td>0.07</td>\n",
       "      <td>14.86</td>\n",
       "      <td>51.81</td>\n",
       "      <td>...</td>\n",
       "      <td>37</td>\n",
       "      <td>2</td>\n",
       "      <td>5</td>\n",
       "      <td>0</td>\n",
       "      <td>16.0</td>\n",
       "      <td>28.0</td>\n",
       "      <td>89.0</td>\n",
       "      <td>52.0</td>\n",
       "      <td>15.0</td>\n",
       "      <td>True</td>\n",
       "    </tr>\n",
       "    <tr>\n",
       "      <th>4</th>\n",
       "      <td>5</td>\n",
       "      <td>25.0</td>\n",
       "      <td>3.0</td>\n",
       "      <td>1.0</td>\n",
       "      <td>3.0</td>\n",
       "      <td>58.0</td>\n",
       "      <td>254.75</td>\n",
       "      <td>0.11</td>\n",
       "      <td>9.35</td>\n",
       "      <td>27.25</td>\n",
       "      <td>...</td>\n",
       "      <td>21</td>\n",
       "      <td>0</td>\n",
       "      <td>2</td>\n",
       "      <td>0</td>\n",
       "      <td>11.0</td>\n",
       "      <td>10.0</td>\n",
       "      <td>41.0</td>\n",
       "      <td>17.0</td>\n",
       "      <td>5.0</td>\n",
       "      <td>True</td>\n",
       "    </tr>\n",
       "  </tbody>\n",
       "</table>\n",
       "<p>5 rows × 23 columns</p>\n",
       "</div>"
      ],
      "text/plain": [
       "   id   loc  v(g)  ev(g)  iv(g)      n       v     l      d      i  ...  \\\n",
       "0   1   1.1   1.4    1.4    1.4    1.3    1.30  1.30   1.30   1.30  ...   \n",
       "1   2   1.0   1.0    1.0    1.0    1.0    1.00  1.00   1.00   1.00  ...   \n",
       "2   3  83.0  11.0    1.0   11.0  171.0  927.89  0.04  23.04  40.27  ...   \n",
       "3   4  46.0   8.0    6.0    8.0  141.0  769.78  0.07  14.86  51.81  ...   \n",
       "4   5  25.0   3.0    1.0    3.0   58.0  254.75  0.11   9.35  27.25  ...   \n",
       "\n",
       "   lOCode  lOComment  lOBlank  locCodeAndComment  uniq_Op  uniq_Opnd  \\\n",
       "0       2          2        2                  2      1.2        1.2   \n",
       "1       1          1        1                  1      1.0        1.0   \n",
       "2      65         10        6                  0     18.0       25.0   \n",
       "3      37          2        5                  0     16.0       28.0   \n",
       "4      21          0        2                  0     11.0       10.0   \n",
       "\n",
       "   total_Op  total_Opnd  branchCount  defects  \n",
       "0       1.2         1.2          1.4    False  \n",
       "1       1.0         1.0          1.0     True  \n",
       "2     107.0        64.0         21.0     True  \n",
       "3      89.0        52.0         15.0     True  \n",
       "4      41.0        17.0          5.0     True  \n",
       "\n",
       "[5 rows x 23 columns]"
      ]
     },
     "execution_count": 7,
     "metadata": {},
     "output_type": "execute_result"
    }
   ],
   "source": [
    "df.head()"
   ]
  },
  {
   "cell_type": "code",
   "execution_count": 8,
   "id": "733e95eb",
   "metadata": {
    "execution": {
     "iopub.execute_input": "2021-04-04T22:43:46.532015Z",
     "iopub.status.busy": "2021-04-04T22:43:46.531434Z",
     "iopub.status.idle": "2021-04-04T22:43:46.533361Z",
     "shell.execute_reply": "2021-04-04T22:43:46.533830Z"
    },
    "papermill": {
     "duration": 0.032256,
     "end_time": "2021-04-04T22:43:46.534015",
     "exception": false,
     "start_time": "2021-04-04T22:43:46.501759",
     "status": "completed"
    },
    "tags": []
   },
   "outputs": [],
   "source": [
    "del df['id']"
   ]
  },
  {
   "cell_type": "code",
   "execution_count": 9,
   "id": "6ff6f5b0",
   "metadata": {
    "execution": {
     "iopub.execute_input": "2021-04-04T22:43:46.588436Z",
     "iopub.status.busy": "2021-04-04T22:43:46.587265Z",
     "iopub.status.idle": "2021-04-04T22:43:46.589494Z",
     "shell.execute_reply": "2021-04-04T22:43:46.590025Z"
    },
    "papermill": {
     "duration": 0.034463,
     "end_time": "2021-04-04T22:43:46.590185",
     "exception": false,
     "start_time": "2021-04-04T22:43:46.555722",
     "status": "completed"
    },
    "tags": []
   },
   "outputs": [],
   "source": [
    "if PROFILE_REPORTING:\n",
    "    ProfileReport(df).to_widgets()"
   ]
  },
  {
   "cell_type": "markdown",
   "id": "1deaf3f0",
   "metadata": {
    "papermill": {
     "duration": 0.022884,
     "end_time": "2021-04-04T22:43:46.635416",
     "exception": false,
     "start_time": "2021-04-04T22:43:46.612532",
     "status": "completed"
    },
    "tags": []
   },
   "source": [
    "# Preprocess"
   ]
  },
  {
   "cell_type": "code",
   "execution_count": 10,
   "id": "1513e563",
   "metadata": {
    "execution": {
     "iopub.execute_input": "2021-04-04T22:43:46.695368Z",
     "iopub.status.busy": "2021-04-04T22:43:46.694157Z",
     "iopub.status.idle": "2021-04-04T22:43:46.699205Z",
     "shell.execute_reply": "2021-04-04T22:43:46.698619Z"
    },
    "papermill": {
     "duration": 0.037384,
     "end_time": "2021-04-04T22:43:46.699333",
     "exception": false,
     "start_time": "2021-04-04T22:43:46.661949",
     "status": "completed"
    },
    "tags": []
   },
   "outputs": [],
   "source": [
    "working_df = df.copy()"
   ]
  },
  {
   "cell_type": "code",
   "execution_count": 11,
   "id": "3b26d675",
   "metadata": {
    "execution": {
     "iopub.execute_input": "2021-04-04T22:43:46.755289Z",
     "iopub.status.busy": "2021-04-04T22:43:46.754639Z",
     "iopub.status.idle": "2021-04-04T22:43:46.757279Z",
     "shell.execute_reply": "2021-04-04T22:43:46.756770Z"
    },
    "papermill": {
     "duration": 0.032674,
     "end_time": "2021-04-04T22:43:46.757398",
     "exception": false,
     "start_time": "2021-04-04T22:43:46.724724",
     "status": "completed"
    },
    "tags": []
   },
   "outputs": [],
   "source": [
    "working_df['defects'] = working_df['defects'].replace([False, True], [0, 1])"
   ]
  },
  {
   "cell_type": "code",
   "execution_count": 12,
   "id": "eb48604f",
   "metadata": {
    "execution": {
     "iopub.execute_input": "2021-04-04T22:43:46.814337Z",
     "iopub.status.busy": "2021-04-04T22:43:46.813380Z",
     "iopub.status.idle": "2021-04-04T22:43:46.816327Z",
     "shell.execute_reply": "2021-04-04T22:43:46.815667Z"
    },
    "papermill": {
     "duration": 0.034957,
     "end_time": "2021-04-04T22:43:46.816484",
     "exception": false,
     "start_time": "2021-04-04T22:43:46.781527",
     "status": "completed"
    },
    "tags": []
   },
   "outputs": [],
   "source": [
    "for col in dataset_config['delete_columns']:\n",
    "    del working_df[col]"
   ]
  },
  {
   "cell_type": "code",
   "execution_count": 13,
   "id": "9a17bc29",
   "metadata": {
    "execution": {
     "iopub.execute_input": "2021-04-04T22:43:46.873310Z",
     "iopub.status.busy": "2021-04-04T22:43:46.872324Z",
     "iopub.status.idle": "2021-04-04T22:43:46.883850Z",
     "shell.execute_reply": "2021-04-04T22:43:46.883259Z"
    },
    "papermill": {
     "duration": 0.041796,
     "end_time": "2021-04-04T22:43:46.883995",
     "exception": false,
     "start_time": "2021-04-04T22:43:46.842199",
     "status": "completed"
    },
    "tags": []
   },
   "outputs": [],
   "source": [
    "working_df = working_df.drop_duplicates()"
   ]
  },
  {
   "cell_type": "markdown",
   "id": "a4d52ca6",
   "metadata": {
    "papermill": {
     "duration": 0.027023,
     "end_time": "2021-04-04T22:43:46.934141",
     "exception": false,
     "start_time": "2021-04-04T22:43:46.907118",
     "status": "completed"
    },
    "tags": []
   },
   "source": [
    "# Split"
   ]
  },
  {
   "cell_type": "code",
   "execution_count": 14,
   "id": "3e9ee4b5",
   "metadata": {
    "execution": {
     "iopub.execute_input": "2021-04-04T22:43:46.986890Z",
     "iopub.status.busy": "2021-04-04T22:43:46.985594Z",
     "iopub.status.idle": "2021-04-04T22:43:47.016861Z",
     "shell.execute_reply": "2021-04-04T22:43:47.017425Z"
    },
    "papermill": {
     "duration": 0.059404,
     "end_time": "2021-04-04T22:43:47.017623",
     "exception": false,
     "start_time": "2021-04-04T22:43:46.958219",
     "status": "completed"
    },
    "tags": []
   },
   "outputs": [],
   "source": [
    "from sklearn.model_selection import train_test_split"
   ]
  },
  {
   "cell_type": "code",
   "execution_count": 15,
   "id": "274004ce",
   "metadata": {
    "execution": {
     "iopub.execute_input": "2021-04-04T22:43:47.085787Z",
     "iopub.status.busy": "2021-04-04T22:43:47.084471Z",
     "iopub.status.idle": "2021-04-04T22:43:47.090914Z",
     "shell.execute_reply": "2021-04-04T22:43:47.089946Z"
    },
    "papermill": {
     "duration": 0.04468,
     "end_time": "2021-04-04T22:43:47.091357",
     "exception": false,
     "start_time": "2021-04-04T22:43:47.046677",
     "status": "completed"
    },
    "scrolled": true,
    "tags": []
   },
   "outputs": [],
   "source": [
    "inlier, outlier = working_df[working_df['defects'] == 0], working_df[working_df['defects'] == 1]"
   ]
  },
  {
   "cell_type": "code",
   "execution_count": 16,
   "id": "753c7b03",
   "metadata": {
    "execution": {
     "iopub.execute_input": "2021-04-04T22:43:47.147058Z",
     "iopub.status.busy": "2021-04-04T22:43:47.145313Z",
     "iopub.status.idle": "2021-04-04T22:43:47.149584Z",
     "shell.execute_reply": "2021-04-04T22:43:47.148995Z"
    },
    "papermill": {
     "duration": 0.033946,
     "end_time": "2021-04-04T22:43:47.149707",
     "exception": false,
     "start_time": "2021-04-04T22:43:47.115761",
     "status": "completed"
    },
    "tags": []
   },
   "outputs": [],
   "source": [
    "X_inlier = inlier.copy()\n",
    "y_inlier = X_inlier.pop('defects')\n",
    "X_outlier = outlier.copy()\n",
    "y_outlier = X_outlier.pop('defects')"
   ]
  },
  {
   "cell_type": "code",
   "execution_count": 17,
   "id": "2ba43193",
   "metadata": {
    "execution": {
     "iopub.execute_input": "2021-04-04T22:43:47.212450Z",
     "iopub.status.busy": "2021-04-04T22:43:47.210997Z",
     "iopub.status.idle": "2021-04-04T22:43:47.215702Z",
     "shell.execute_reply": "2021-04-04T22:43:47.214954Z"
    },
    "papermill": {
     "duration": 0.04142,
     "end_time": "2021-04-04T22:43:47.215857",
     "exception": false,
     "start_time": "2021-04-04T22:43:47.174437",
     "status": "completed"
    },
    "tags": []
   },
   "outputs": [],
   "source": [
    "test_size = dataset_config['test_size']\n",
    "random_state = dataset_config['random_state']\n",
    "\n",
    "X_inlier_train, X_inlier_test, y_inlier_train, y_inlier_test = train_test_split(\n",
    "    X_inlier,\n",
    "    y_inlier,\n",
    "    test_size=test_size,\n",
    "    random_state=random_state\n",
    ")"
   ]
  },
  {
   "cell_type": "code",
   "execution_count": 18,
   "id": "0b7582ca",
   "metadata": {
    "execution": {
     "iopub.execute_input": "2021-04-04T22:43:47.273256Z",
     "iopub.status.busy": "2021-04-04T22:43:47.271731Z",
     "iopub.status.idle": "2021-04-04T22:43:47.275784Z",
     "shell.execute_reply": "2021-04-04T22:43:47.275199Z"
    },
    "papermill": {
     "duration": 0.033896,
     "end_time": "2021-04-04T22:43:47.275903",
     "exception": false,
     "start_time": "2021-04-04T22:43:47.242007",
     "status": "completed"
    },
    "tags": []
   },
   "outputs": [],
   "source": [
    "test_outlier_size = dataset_config['test_outlier_size']\n",
    "if test_outlier_size > 0.0:\n",
    "    X_outlier_train, X_outlier_test, y_outlier_train, y_outlier_test = train_test_split(\n",
    "        X_outlier,\n",
    "        y_outlier,\n",
    "        test_size=test_outlier_size,\n",
    "        random_state=random_state\n",
    "    )\n",
    "else:\n",
    "    X_outlier_train, y_outlier_train = pd.DataFrame(columns=X_outlier.columns), pd.Series(dtype='int64')\n",
    "    X_outlier_test, y_outlier_test = X_outlier.copy(), y_outlier.copy()"
   ]
  },
  {
   "cell_type": "code",
   "execution_count": 19,
   "id": "c34363db",
   "metadata": {
    "execution": {
     "iopub.execute_input": "2021-04-04T22:43:47.340351Z",
     "iopub.status.busy": "2021-04-04T22:43:47.338626Z",
     "iopub.status.idle": "2021-04-04T22:43:47.348239Z",
     "shell.execute_reply": "2021-04-04T22:43:47.351552Z"
    },
    "papermill": {
     "duration": 0.051811,
     "end_time": "2021-04-04T22:43:47.351939",
     "exception": false,
     "start_time": "2021-04-04T22:43:47.300128",
     "status": "completed"
    },
    "tags": []
   },
   "outputs": [],
   "source": [
    "X_train, y_train = pd.concat([X_inlier_train, X_outlier_train], ignore_index=True), pd.concat([y_inlier_train, y_outlier_train], ignore_index=True)\n",
    "X_test, y_test = pd.concat([X_inlier_test, X_outlier_test], ignore_index=True), pd.concat([y_inlier_test, y_outlier_test], ignore_index=True)"
   ]
  },
  {
   "cell_type": "markdown",
   "id": "7cde7309",
   "metadata": {
    "papermill": {
     "duration": 0.030029,
     "end_time": "2021-04-04T22:43:47.411664",
     "exception": false,
     "start_time": "2021-04-04T22:43:47.381635",
     "status": "completed"
    },
    "tags": []
   },
   "source": [
    "# Model"
   ]
  },
  {
   "cell_type": "code",
   "execution_count": 20,
   "id": "2b12a415",
   "metadata": {
    "execution": {
     "iopub.execute_input": "2021-04-04T22:43:47.480080Z",
     "iopub.status.busy": "2021-04-04T22:43:47.479349Z",
     "iopub.status.idle": "2021-04-04T22:43:47.481748Z",
     "shell.execute_reply": "2021-04-04T22:43:47.482285Z"
    },
    "papermill": {
     "duration": 0.043797,
     "end_time": "2021-04-04T22:43:47.482456",
     "exception": false,
     "start_time": "2021-04-04T22:43:47.438659",
     "status": "completed"
    },
    "tags": []
   },
   "outputs": [],
   "source": [
    "from math import sqrt\n",
    "\n",
    "\n",
    "class KNNDataDescription:\n",
    "    def __init__(self, k=5, outlier_threshold=1.0):\n",
    "        self.k = k\n",
    "        self.outlier_threshold = outlier_threshold\n",
    "        self.X = []\n",
    "    \n",
    "    def fit(self, X):\n",
    "        self.X = [features.to_list() for index, features in X.iterrows()]\n",
    "\n",
    "    def predict(self, entries):\n",
    "        return [self.predict_entry(features.to_list()) for index, features in entries.iterrows()]\n",
    "    \n",
    "    def predict_entry(self, entry):\n",
    "        kth_neighbor, kth_distance = self.get_kth_neighbor(entry, self.k)\n",
    "        kth_kth_neighbor, kth_kth_distance = self.get_kth_neighbor(kth_neighbor, self.k + 1)\n",
    "\n",
    "        outlier_score = kth_distance / (kth_kth_distance + 0.000001)\n",
    "\n",
    "        return 1 if outlier_score < self.outlier_threshold else -1\n",
    "        \n",
    "    def euclidean_distance(self, features1, features2):\n",
    "        distance = 0.0\n",
    "        for feat1, feat2 in zip(features1, features2):\n",
    "            distance += (feat1 - feat2)**2\n",
    "                \n",
    "        return sqrt(distance)\n",
    "\n",
    "    def get_neighbors(self, entry, k):\n",
    "        distance_to_data_points = [\n",
    "            (data_point, self.euclidean_distance(entry, data_point))\n",
    "            for data_point in self.X\n",
    "        ]\n",
    "        sorted_by_distance = sorted(distance_to_data_points, key=lambda tup: tup[1])\n",
    "        neighbors = sorted_by_distance[:k]\n",
    "        return neighbors\n",
    "\n",
    "    def get_kth_neighbor(self, entry, k):\n",
    "        neighbors = self.get_neighbors(entry, k)\n",
    "        return neighbors[-1]\n"
   ]
  },
  {
   "cell_type": "code",
   "execution_count": 21,
   "id": "1fa9ec1c",
   "metadata": {
    "execution": {
     "iopub.execute_input": "2021-04-04T22:43:47.537652Z",
     "iopub.status.busy": "2021-04-04T22:43:47.536841Z",
     "iopub.status.idle": "2021-04-04T22:43:47.558432Z",
     "shell.execute_reply": "2021-04-04T22:43:47.558892Z"
    },
    "papermill": {
     "duration": 0.050856,
     "end_time": "2021-04-04T22:43:47.559045",
     "exception": false,
     "start_time": "2021-04-04T22:43:47.508189",
     "status": "completed"
    },
    "tags": []
   },
   "outputs": [],
   "source": [
    "from sklearn.svm import OneClassSVM\n",
    "\n",
    "\n",
    "models = {\n",
    "    'oneclasssvm': OneClassSVM,\n",
    "    'knndatadescription': KNNDataDescription,\n",
    "}"
   ]
  },
  {
   "cell_type": "code",
   "execution_count": 22,
   "id": "4d72a0b1",
   "metadata": {
    "execution": {
     "iopub.execute_input": "2021-04-04T22:43:47.623522Z",
     "iopub.status.busy": "2021-04-04T22:43:47.622867Z",
     "iopub.status.idle": "2021-04-04T22:43:47.628783Z",
     "shell.execute_reply": "2021-04-04T22:43:47.627922Z"
    },
    "papermill": {
     "duration": 0.043981,
     "end_time": "2021-04-04T22:43:47.628952",
     "exception": false,
     "start_time": "2021-04-04T22:43:47.584971",
     "status": "completed"
    },
    "scrolled": true,
    "tags": []
   },
   "outputs": [],
   "source": [
    "model_cls = models[model_config['model_type']]\n",
    "model = model_cls(**model_config['hyperparameters'])"
   ]
  },
  {
   "cell_type": "markdown",
   "id": "e00cff3b",
   "metadata": {
    "papermill": {
     "duration": 0.025185,
     "end_time": "2021-04-04T22:43:47.682654",
     "exception": false,
     "start_time": "2021-04-04T22:43:47.657469",
     "status": "completed"
    },
    "tags": []
   },
   "source": [
    "# Fit"
   ]
  },
  {
   "cell_type": "code",
   "execution_count": 23,
   "id": "8b2ded89",
   "metadata": {
    "execution": {
     "iopub.execute_input": "2021-04-04T22:43:47.739886Z",
     "iopub.status.busy": "2021-04-04T22:43:47.739124Z",
     "iopub.status.idle": "2021-04-04T22:43:47.785951Z",
     "shell.execute_reply": "2021-04-04T22:43:47.786493Z"
    },
    "papermill": {
     "duration": 0.080466,
     "end_time": "2021-04-04T22:43:47.786659",
     "exception": false,
     "start_time": "2021-04-04T22:43:47.706193",
     "status": "completed"
    },
    "tags": []
   },
   "outputs": [],
   "source": [
    "model.fit(X_train)"
   ]
  },
  {
   "cell_type": "markdown",
   "id": "f99999f7",
   "metadata": {
    "papermill": {
     "duration": 0.024601,
     "end_time": "2021-04-04T22:43:47.834733",
     "exception": false,
     "start_time": "2021-04-04T22:43:47.810132",
     "status": "completed"
    },
    "tags": []
   },
   "source": [
    "# Predict"
   ]
  },
  {
   "cell_type": "code",
   "execution_count": 24,
   "id": "6536fbf7",
   "metadata": {
    "execution": {
     "iopub.execute_input": "2021-04-04T22:43:47.889751Z",
     "iopub.status.busy": "2021-04-04T22:43:47.888715Z",
     "iopub.status.idle": "2021-04-04T22:43:50.784442Z",
     "shell.execute_reply": "2021-04-04T22:43:50.783755Z"
    },
    "papermill": {
     "duration": 2.925815,
     "end_time": "2021-04-04T22:43:50.784575",
     "exception": false,
     "start_time": "2021-04-04T22:43:47.858760",
     "status": "completed"
    },
    "tags": []
   },
   "outputs": [],
   "source": [
    "predictions = model.predict(X_test)"
   ]
  },
  {
   "cell_type": "markdown",
   "id": "aa1c9881",
   "metadata": {
    "papermill": {
     "duration": 0.03209,
     "end_time": "2021-04-04T22:43:50.848545",
     "exception": false,
     "start_time": "2021-04-04T22:43:50.816455",
     "status": "completed"
    },
    "tags": []
   },
   "source": [
    "# Evaluate"
   ]
  },
  {
   "cell_type": "code",
   "execution_count": 25,
   "id": "894f0f04",
   "metadata": {
    "execution": {
     "iopub.execute_input": "2021-04-04T22:43:50.923213Z",
     "iopub.status.busy": "2021-04-04T22:43:50.921587Z",
     "iopub.status.idle": "2021-04-04T22:43:50.925378Z",
     "shell.execute_reply": "2021-04-04T22:43:50.925972Z"
    },
    "papermill": {
     "duration": 0.043272,
     "end_time": "2021-04-04T22:43:50.926207",
     "exception": false,
     "start_time": "2021-04-04T22:43:50.882935",
     "status": "completed"
    },
    "tags": []
   },
   "outputs": [],
   "source": [
    "from sklearn.metrics import f1_score"
   ]
  },
  {
   "cell_type": "code",
   "execution_count": 26,
   "id": "211744d3",
   "metadata": {
    "execution": {
     "iopub.execute_input": "2021-04-04T22:43:50.993013Z",
     "iopub.status.busy": "2021-04-04T22:43:50.990148Z",
     "iopub.status.idle": "2021-04-04T22:43:50.996171Z",
     "shell.execute_reply": "2021-04-04T22:43:50.995566Z"
    },
    "papermill": {
     "duration": 0.041318,
     "end_time": "2021-04-04T22:43:50.996307",
     "exception": false,
     "start_time": "2021-04-04T22:43:50.954989",
     "status": "completed"
    },
    "tags": []
   },
   "outputs": [],
   "source": [
    "y_test = y_test.replace([0, 1], [1, -1])"
   ]
  },
  {
   "cell_type": "code",
   "execution_count": 27,
   "id": "d68a9204",
   "metadata": {
    "execution": {
     "iopub.execute_input": "2021-04-04T22:43:51.068894Z",
     "iopub.status.busy": "2021-04-04T22:43:51.067479Z",
     "iopub.status.idle": "2021-04-04T22:43:51.070767Z",
     "shell.execute_reply": "2021-04-04T22:43:51.070010Z"
    },
    "papermill": {
     "duration": 0.045475,
     "end_time": "2021-04-04T22:43:51.070901",
     "exception": false,
     "start_time": "2021-04-04T22:43:51.025426",
     "status": "completed"
    },
    "tags": []
   },
   "outputs": [],
   "source": [
    "def evaluate(truths, predictions, pos_label, neg_label):\n",
    "    TP = 0\n",
    "    FP = 0\n",
    "    TN = 0\n",
    "    FN = 0\n",
    "\n",
    "    for truth, pred in zip(truths, predictions): \n",
    "        if truth == pred == pos_label:\n",
    "           TP += 1\n",
    "        elif pred == pos_label and truth == neg_label:\n",
    "           FP += 1\n",
    "        elif truth == pred == neg_label:\n",
    "           TN += 1\n",
    "        elif pred == neg_label and truth == pos_label:\n",
    "           FN += 1\n",
    "\n",
    "    precision = TP / (TP + FP)\n",
    "    sensitivity = TP / (TP + FN)\n",
    "    \n",
    "    return {\n",
    "        'true_pos': TP,\n",
    "        'false_pos': FP,\n",
    "        'false_neg': FN,\n",
    "        'true_neg': TN,\n",
    "        'precision': precision,\n",
    "        'sensitivity': sensitivity,\n",
    "        'f1': (2 * (precision * sensitivity)) / (precision + sensitivity)\n",
    "    }\n",
    "\n",
    "score = evaluate(y_test, predictions, pos_label=-1, neg_label=1)"
   ]
  },
  {
   "cell_type": "markdown",
   "id": "93596516",
   "metadata": {
    "papermill": {
     "duration": 0.029003,
     "end_time": "2021-04-04T22:43:51.130003",
     "exception": false,
     "start_time": "2021-04-04T22:43:51.101000",
     "status": "completed"
    },
    "tags": []
   },
   "source": [
    "# Report"
   ]
  },
  {
   "cell_type": "code",
   "execution_count": 28,
   "id": "bea5fba1",
   "metadata": {
    "execution": {
     "iopub.execute_input": "2021-04-04T22:43:51.191853Z",
     "iopub.status.busy": "2021-04-04T22:43:51.190684Z",
     "iopub.status.idle": "2021-04-04T22:43:51.194949Z",
     "shell.execute_reply": "2021-04-04T22:43:51.195444Z"
    },
    "papermill": {
     "duration": 0.037519,
     "end_time": "2021-04-04T22:43:51.195595",
     "exception": false,
     "start_time": "2021-04-04T22:43:51.158076",
     "status": "completed"
    },
    "tags": []
   },
   "outputs": [],
   "source": [
    "import csv\n",
    "\n",
    "\n",
    "dataset_config_name = DATASET_CONFIG_PATH.split('/')[-1].split('.')[0]\n",
    "model_config_name = MODEL_CONFIG_PATH.split('/')[-1].split('.')[0]\n",
    "configuration = f\"dataset_{dataset_config_name}-model_{model_config_name}\"\n",
    "\n",
    "with open('results.csv', 'a') as f:\n",
    "    report = dict({'configuration': configuration}, **score)\n",
    "    writer = csv.DictWriter(f, report.keys())\n",
    "    writer.writerow(report)"
   ]
  }
 ],
 "metadata": {
  "celltoolbar": "Tags",
  "kernelspec": {
   "display_name": "Python 3",
   "language": "python",
   "name": "python3"
  },
  "language_info": {
   "codemirror_mode": {
    "name": "ipython",
    "version": 3
   },
   "file_extension": ".py",
   "mimetype": "text/x-python",
   "name": "python",
   "nbconvert_exporter": "python",
   "pygments_lexer": "ipython3",
   "version": "3.9.1"
  },
  "papermill": {
   "default_parameters": {},
   "duration": 9.061175,
   "end_time": "2021-04-04T22:43:52.479123",
   "environment_variables": {},
   "exception": null,
   "input_path": "main.ipynb",
   "output_path": "runs/dataset_000040-model_000002.ipynb",
   "parameters": {
    "DATASET_CONFIG_PATH": "config/dataset/000040.json",
    "MODEL_CONFIG_PATH": "config/model/000002.json",
    "PROFILE_REPORTING": false
   },
   "start_time": "2021-04-04T22:43:43.417948",
   "version": "2.3.3"
  }
 },
 "nbformat": 4,
 "nbformat_minor": 5
}