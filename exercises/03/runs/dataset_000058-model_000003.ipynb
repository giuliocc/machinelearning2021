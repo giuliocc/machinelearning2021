{
 "cells": [
  {
   "cell_type": "markdown",
   "id": "51c71c25",
   "metadata": {
    "papermill": {
     "duration": 0.029585,
     "end_time": "2021-04-04T22:54:04.186601",
     "exception": false,
     "start_time": "2021-04-04T22:54:04.157016",
     "status": "completed"
    },
    "tags": []
   },
   "source": [
    "# Parametrizing"
   ]
  },
  {
   "cell_type": "code",
   "execution_count": 1,
   "id": "3b136394",
   "metadata": {
    "execution": {
     "iopub.execute_input": "2021-04-04T22:54:04.253179Z",
     "iopub.status.busy": "2021-04-04T22:54:04.252117Z",
     "iopub.status.idle": "2021-04-04T22:54:04.260992Z",
     "shell.execute_reply": "2021-04-04T22:54:04.262005Z"
    },
    "papermill": {
     "duration": 0.052342,
     "end_time": "2021-04-04T22:54:04.262431",
     "exception": false,
     "start_time": "2021-04-04T22:54:04.210089",
     "status": "completed"
    },
    "tags": [
     "parameters"
    ]
   },
   "outputs": [],
   "source": [
    "DATASET_CONFIG_PATH = 'config/dataset/kc1_001.json'\n",
    "MODEL_CONFIG_PATH = 'config/model/knndd_001.json'\n",
    "PROFILE_REPORTING = False"
   ]
  },
  {
   "cell_type": "code",
   "execution_count": 2,
   "id": "f604e8c2",
   "metadata": {
    "execution": {
     "iopub.execute_input": "2021-04-04T22:54:04.337135Z",
     "iopub.status.busy": "2021-04-04T22:54:04.334906Z",
     "iopub.status.idle": "2021-04-04T22:54:04.338030Z",
     "shell.execute_reply": "2021-04-04T22:54:04.338612Z"
    },
    "papermill": {
     "duration": 0.043681,
     "end_time": "2021-04-04T22:54:04.338795",
     "exception": false,
     "start_time": "2021-04-04T22:54:04.295114",
     "status": "completed"
    },
    "tags": [
     "injected-parameters"
    ]
   },
   "outputs": [],
   "source": [
    "# Parameters\n",
    "DATASET_CONFIG_PATH = \"config/dataset/000058.json\"\n",
    "MODEL_CONFIG_PATH = \"config/model/000003.json\"\n",
    "PROFILE_REPORTING = False\n"
   ]
  },
  {
   "cell_type": "code",
   "execution_count": 3,
   "id": "b80f2a10",
   "metadata": {
    "execution": {
     "iopub.execute_input": "2021-04-04T22:54:04.421961Z",
     "iopub.status.busy": "2021-04-04T22:54:04.420949Z",
     "iopub.status.idle": "2021-04-04T22:54:04.427357Z",
     "shell.execute_reply": "2021-04-04T22:54:04.425789Z"
    },
    "papermill": {
     "duration": 0.048145,
     "end_time": "2021-04-04T22:54:04.427698",
     "exception": false,
     "start_time": "2021-04-04T22:54:04.379553",
     "status": "completed"
    },
    "tags": []
   },
   "outputs": [],
   "source": [
    "import json\n",
    "\n",
    "\n",
    "with open(DATASET_CONFIG_PATH) as f:\n",
    "    dataset_config = json.load(f)\n",
    "\n",
    "with open(MODEL_CONFIG_PATH) as f:\n",
    "    model_config = json.load(f)"
   ]
  },
  {
   "cell_type": "markdown",
   "id": "9a4b0e2d",
   "metadata": {
    "papermill": {
     "duration": 0.031012,
     "end_time": "2021-04-04T22:54:04.489961",
     "exception": false,
     "start_time": "2021-04-04T22:54:04.458949",
     "status": "completed"
    },
    "tags": []
   },
   "source": [
    "# Profiling"
   ]
  },
  {
   "cell_type": "code",
   "execution_count": 4,
   "id": "a3e0289b",
   "metadata": {
    "execution": {
     "iopub.execute_input": "2021-04-04T22:54:04.560211Z",
     "iopub.status.busy": "2021-04-04T22:54:04.559224Z",
     "iopub.status.idle": "2021-04-04T22:54:06.527363Z",
     "shell.execute_reply": "2021-04-04T22:54:06.529519Z"
    },
    "papermill": {
     "duration": 2.007729,
     "end_time": "2021-04-04T22:54:06.529835",
     "exception": false,
     "start_time": "2021-04-04T22:54:04.522106",
     "status": "completed"
    },
    "tags": []
   },
   "outputs": [],
   "source": [
    "import pandas as pd\n",
    "from pandas_profiling import ProfileReport"
   ]
  },
  {
   "cell_type": "code",
   "execution_count": 5,
   "id": "ee6c0666",
   "metadata": {
    "execution": {
     "iopub.execute_input": "2021-04-04T22:54:06.590032Z",
     "iopub.status.busy": "2021-04-04T22:54:06.589419Z",
     "iopub.status.idle": "2021-04-04T22:54:06.605892Z",
     "shell.execute_reply": "2021-04-04T22:54:06.606370Z"
    },
    "papermill": {
     "duration": 0.050762,
     "end_time": "2021-04-04T22:54:06.606510",
     "exception": false,
     "start_time": "2021-04-04T22:54:06.555748",
     "status": "completed"
    },
    "tags": []
   },
   "outputs": [],
   "source": [
    "df = pd.read_csv(dataset_config['dataset_path'])"
   ]
  },
  {
   "cell_type": "code",
   "execution_count": 6,
   "id": "7eca6c4a",
   "metadata": {
    "execution": {
     "iopub.execute_input": "2021-04-04T22:54:06.697652Z",
     "iopub.status.busy": "2021-04-04T22:54:06.678857Z",
     "iopub.status.idle": "2021-04-04T22:54:06.702604Z",
     "shell.execute_reply": "2021-04-04T22:54:06.701869Z"
    },
    "papermill": {
     "duration": 0.068014,
     "end_time": "2021-04-04T22:54:06.702937",
     "exception": false,
     "start_time": "2021-04-04T22:54:06.634923",
     "status": "completed"
    },
    "tags": []
   },
   "outputs": [
    {
     "name": "stdout",
     "output_type": "stream",
     "text": [
      "<class 'pandas.core.frame.DataFrame'>\n",
      "RangeIndex: 2109 entries, 0 to 2108\n",
      "Data columns (total 23 columns):\n",
      " #   Column             Non-Null Count  Dtype  \n",
      "---  ------             --------------  -----  \n",
      " 0   id                 2109 non-null   int64  \n",
      " 1   loc                2109 non-null   float64\n",
      " 2   v(g)               2109 non-null   float64\n",
      " 3   ev(g)              2109 non-null   float64\n",
      " 4   iv(g)              2109 non-null   float64\n",
      " 5   n                  2109 non-null   float64\n",
      " 6   v                  2109 non-null   float64\n",
      " 7   l                  2109 non-null   float64\n",
      " 8   d                  2109 non-null   float64\n",
      " 9   i                  2109 non-null   float64\n",
      " 10  e                  2109 non-null   float64\n",
      " 11  b                  2109 non-null   float64\n",
      " 12  t                  2109 non-null   float64\n",
      " 13  lOCode             2109 non-null   int64  \n",
      " 14  lOComment          2109 non-null   int64  \n",
      " 15  lOBlank            2109 non-null   int64  \n",
      " 16  locCodeAndComment  2109 non-null   int64  \n",
      " 17  uniq_Op            2109 non-null   float64\n",
      " 18  uniq_Opnd          2109 non-null   float64\n",
      " 19  total_Op           2109 non-null   float64\n",
      " 20  total_Opnd         2109 non-null   float64\n",
      " 21  branchCount        2109 non-null   float64\n",
      " 22  defects            2109 non-null   bool   \n",
      "dtypes: bool(1), float64(17), int64(5)\n",
      "memory usage: 364.7 KB\n"
     ]
    }
   ],
   "source": [
    "df.info()"
   ]
  },
  {
   "cell_type": "code",
   "execution_count": 7,
   "id": "3638e5e8",
   "metadata": {
    "execution": {
     "iopub.execute_input": "2021-04-04T22:54:06.783648Z",
     "iopub.status.busy": "2021-04-04T22:54:06.782630Z",
     "iopub.status.idle": "2021-04-04T22:54:06.822523Z",
     "shell.execute_reply": "2021-04-04T22:54:06.821972Z"
    },
    "papermill": {
     "duration": 0.08884,
     "end_time": "2021-04-04T22:54:06.822649",
     "exception": false,
     "start_time": "2021-04-04T22:54:06.733809",
     "status": "completed"
    },
    "tags": []
   },
   "outputs": [
    {
     "data": {
      "text/html": [
       "<div>\n",
       "<style scoped>\n",
       "    .dataframe tbody tr th:only-of-type {\n",
       "        vertical-align: middle;\n",
       "    }\n",
       "\n",
       "    .dataframe tbody tr th {\n",
       "        vertical-align: top;\n",
       "    }\n",
       "\n",
       "    .dataframe thead th {\n",
       "        text-align: right;\n",
       "    }\n",
       "</style>\n",
       "<table border=\"1\" class=\"dataframe\">\n",
       "  <thead>\n",
       "    <tr style=\"text-align: right;\">\n",
       "      <th></th>\n",
       "      <th>id</th>\n",
       "      <th>loc</th>\n",
       "      <th>v(g)</th>\n",
       "      <th>ev(g)</th>\n",
       "      <th>iv(g)</th>\n",
       "      <th>n</th>\n",
       "      <th>v</th>\n",
       "      <th>l</th>\n",
       "      <th>d</th>\n",
       "      <th>i</th>\n",
       "      <th>...</th>\n",
       "      <th>lOCode</th>\n",
       "      <th>lOComment</th>\n",
       "      <th>lOBlank</th>\n",
       "      <th>locCodeAndComment</th>\n",
       "      <th>uniq_Op</th>\n",
       "      <th>uniq_Opnd</th>\n",
       "      <th>total_Op</th>\n",
       "      <th>total_Opnd</th>\n",
       "      <th>branchCount</th>\n",
       "      <th>defects</th>\n",
       "    </tr>\n",
       "  </thead>\n",
       "  <tbody>\n",
       "    <tr>\n",
       "      <th>0</th>\n",
       "      <td>1</td>\n",
       "      <td>1.1</td>\n",
       "      <td>1.4</td>\n",
       "      <td>1.4</td>\n",
       "      <td>1.4</td>\n",
       "      <td>1.3</td>\n",
       "      <td>1.30</td>\n",
       "      <td>1.30</td>\n",
       "      <td>1.30</td>\n",
       "      <td>1.30</td>\n",
       "      <td>...</td>\n",
       "      <td>2</td>\n",
       "      <td>2</td>\n",
       "      <td>2</td>\n",
       "      <td>2</td>\n",
       "      <td>1.2</td>\n",
       "      <td>1.2</td>\n",
       "      <td>1.2</td>\n",
       "      <td>1.2</td>\n",
       "      <td>1.4</td>\n",
       "      <td>False</td>\n",
       "    </tr>\n",
       "    <tr>\n",
       "      <th>1</th>\n",
       "      <td>2</td>\n",
       "      <td>1.0</td>\n",
       "      <td>1.0</td>\n",
       "      <td>1.0</td>\n",
       "      <td>1.0</td>\n",
       "      <td>1.0</td>\n",
       "      <td>1.00</td>\n",
       "      <td>1.00</td>\n",
       "      <td>1.00</td>\n",
       "      <td>1.00</td>\n",
       "      <td>...</td>\n",
       "      <td>1</td>\n",
       "      <td>1</td>\n",
       "      <td>1</td>\n",
       "      <td>1</td>\n",
       "      <td>1.0</td>\n",
       "      <td>1.0</td>\n",
       "      <td>1.0</td>\n",
       "      <td>1.0</td>\n",
       "      <td>1.0</td>\n",
       "      <td>True</td>\n",
       "    </tr>\n",
       "    <tr>\n",
       "      <th>2</th>\n",
       "      <td>3</td>\n",
       "      <td>83.0</td>\n",
       "      <td>11.0</td>\n",
       "      <td>1.0</td>\n",
       "      <td>11.0</td>\n",
       "      <td>171.0</td>\n",
       "      <td>927.89</td>\n",
       "      <td>0.04</td>\n",
       "      <td>23.04</td>\n",
       "      <td>40.27</td>\n",
       "      <td>...</td>\n",
       "      <td>65</td>\n",
       "      <td>10</td>\n",
       "      <td>6</td>\n",
       "      <td>0</td>\n",
       "      <td>18.0</td>\n",
       "      <td>25.0</td>\n",
       "      <td>107.0</td>\n",
       "      <td>64.0</td>\n",
       "      <td>21.0</td>\n",
       "      <td>True</td>\n",
       "    </tr>\n",
       "    <tr>\n",
       "      <th>3</th>\n",
       "      <td>4</td>\n",
       "      <td>46.0</td>\n",
       "      <td>8.0</td>\n",
       "      <td>6.0</td>\n",
       "      <td>8.0</td>\n",
       "      <td>141.0</td>\n",
       "      <td>769.78</td>\n",
       "      <td>0.07</td>\n",
       "      <td>14.86</td>\n",
       "      <td>51.81</td>\n",
       "      <td>...</td>\n",
       "      <td>37</td>\n",
       "      <td>2</td>\n",
       "      <td>5</td>\n",
       "      <td>0</td>\n",
       "      <td>16.0</td>\n",
       "      <td>28.0</td>\n",
       "      <td>89.0</td>\n",
       "      <td>52.0</td>\n",
       "      <td>15.0</td>\n",
       "      <td>True</td>\n",
       "    </tr>\n",
       "    <tr>\n",
       "      <th>4</th>\n",
       "      <td>5</td>\n",
       "      <td>25.0</td>\n",
       "      <td>3.0</td>\n",
       "      <td>1.0</td>\n",
       "      <td>3.0</td>\n",
       "      <td>58.0</td>\n",
       "      <td>254.75</td>\n",
       "      <td>0.11</td>\n",
       "      <td>9.35</td>\n",
       "      <td>27.25</td>\n",
       "      <td>...</td>\n",
       "      <td>21</td>\n",
       "      <td>0</td>\n",
       "      <td>2</td>\n",
       "      <td>0</td>\n",
       "      <td>11.0</td>\n",
       "      <td>10.0</td>\n",
       "      <td>41.0</td>\n",
       "      <td>17.0</td>\n",
       "      <td>5.0</td>\n",
       "      <td>True</td>\n",
       "    </tr>\n",
       "  </tbody>\n",
       "</table>\n",
       "<p>5 rows × 23 columns</p>\n",
       "</div>"
      ],
      "text/plain": [
       "   id   loc  v(g)  ev(g)  iv(g)      n       v     l      d      i  ...  \\\n",
       "0   1   1.1   1.4    1.4    1.4    1.3    1.30  1.30   1.30   1.30  ...   \n",
       "1   2   1.0   1.0    1.0    1.0    1.0    1.00  1.00   1.00   1.00  ...   \n",
       "2   3  83.0  11.0    1.0   11.0  171.0  927.89  0.04  23.04  40.27  ...   \n",
       "3   4  46.0   8.0    6.0    8.0  141.0  769.78  0.07  14.86  51.81  ...   \n",
       "4   5  25.0   3.0    1.0    3.0   58.0  254.75  0.11   9.35  27.25  ...   \n",
       "\n",
       "   lOCode  lOComment  lOBlank  locCodeAndComment  uniq_Op  uniq_Opnd  \\\n",
       "0       2          2        2                  2      1.2        1.2   \n",
       "1       1          1        1                  1      1.0        1.0   \n",
       "2      65         10        6                  0     18.0       25.0   \n",
       "3      37          2        5                  0     16.0       28.0   \n",
       "4      21          0        2                  0     11.0       10.0   \n",
       "\n",
       "   total_Op  total_Opnd  branchCount  defects  \n",
       "0       1.2         1.2          1.4    False  \n",
       "1       1.0         1.0          1.0     True  \n",
       "2     107.0        64.0         21.0     True  \n",
       "3      89.0        52.0         15.0     True  \n",
       "4      41.0        17.0          5.0     True  \n",
       "\n",
       "[5 rows x 23 columns]"
      ]
     },
     "execution_count": 7,
     "metadata": {},
     "output_type": "execute_result"
    }
   ],
   "source": [
    "df.head()"
   ]
  },
  {
   "cell_type": "code",
   "execution_count": 8,
   "id": "733e95eb",
   "metadata": {
    "execution": {
     "iopub.execute_input": "2021-04-04T22:54:06.894795Z",
     "iopub.status.busy": "2021-04-04T22:54:06.893202Z",
     "iopub.status.idle": "2021-04-04T22:54:06.899404Z",
     "shell.execute_reply": "2021-04-04T22:54:06.898699Z"
    },
    "papermill": {
     "duration": 0.046224,
     "end_time": "2021-04-04T22:54:06.899561",
     "exception": false,
     "start_time": "2021-04-04T22:54:06.853337",
     "status": "completed"
    },
    "tags": []
   },
   "outputs": [],
   "source": [
    "del df['id']"
   ]
  },
  {
   "cell_type": "code",
   "execution_count": 9,
   "id": "6ff6f5b0",
   "metadata": {
    "execution": {
     "iopub.execute_input": "2021-04-04T22:54:06.968328Z",
     "iopub.status.busy": "2021-04-04T22:54:06.966878Z",
     "iopub.status.idle": "2021-04-04T22:54:06.971930Z",
     "shell.execute_reply": "2021-04-04T22:54:06.973305Z"
    },
    "papermill": {
     "duration": 0.045009,
     "end_time": "2021-04-04T22:54:06.973504",
     "exception": false,
     "start_time": "2021-04-04T22:54:06.928495",
     "status": "completed"
    },
    "tags": []
   },
   "outputs": [],
   "source": [
    "if PROFILE_REPORTING:\n",
    "    ProfileReport(df).to_widgets()"
   ]
  },
  {
   "cell_type": "markdown",
   "id": "1deaf3f0",
   "metadata": {
    "papermill": {
     "duration": 0.030974,
     "end_time": "2021-04-04T22:54:07.036361",
     "exception": false,
     "start_time": "2021-04-04T22:54:07.005387",
     "status": "completed"
    },
    "tags": []
   },
   "source": [
    "# Preprocess"
   ]
  },
  {
   "cell_type": "code",
   "execution_count": 10,
   "id": "1513e563",
   "metadata": {
    "execution": {
     "iopub.execute_input": "2021-04-04T22:54:07.105894Z",
     "iopub.status.busy": "2021-04-04T22:54:07.104960Z",
     "iopub.status.idle": "2021-04-04T22:54:07.109760Z",
     "shell.execute_reply": "2021-04-04T22:54:07.108625Z"
    },
    "papermill": {
     "duration": 0.042951,
     "end_time": "2021-04-04T22:54:07.109985",
     "exception": false,
     "start_time": "2021-04-04T22:54:07.067034",
     "status": "completed"
    },
    "tags": []
   },
   "outputs": [],
   "source": [
    "working_df = df.copy()"
   ]
  },
  {
   "cell_type": "code",
   "execution_count": 11,
   "id": "3b26d675",
   "metadata": {
    "execution": {
     "iopub.execute_input": "2021-04-04T22:54:07.186812Z",
     "iopub.status.busy": "2021-04-04T22:54:07.185232Z",
     "iopub.status.idle": "2021-04-04T22:54:07.193060Z",
     "shell.execute_reply": "2021-04-04T22:54:07.191951Z"
    },
    "papermill": {
     "duration": 0.051029,
     "end_time": "2021-04-04T22:54:07.193299",
     "exception": false,
     "start_time": "2021-04-04T22:54:07.142270",
     "status": "completed"
    },
    "tags": []
   },
   "outputs": [],
   "source": [
    "working_df['defects'] = working_df['defects'].replace([False, True], [0, 1])"
   ]
  },
  {
   "cell_type": "code",
   "execution_count": 12,
   "id": "eb48604f",
   "metadata": {
    "execution": {
     "iopub.execute_input": "2021-04-04T22:54:07.265165Z",
     "iopub.status.busy": "2021-04-04T22:54:07.263376Z",
     "iopub.status.idle": "2021-04-04T22:54:07.268116Z",
     "shell.execute_reply": "2021-04-04T22:54:07.269275Z"
    },
    "papermill": {
     "duration": 0.046615,
     "end_time": "2021-04-04T22:54:07.269731",
     "exception": false,
     "start_time": "2021-04-04T22:54:07.223116",
     "status": "completed"
    },
    "tags": []
   },
   "outputs": [],
   "source": [
    "for col in dataset_config['delete_columns']:\n",
    "    del working_df[col]"
   ]
  },
  {
   "cell_type": "code",
   "execution_count": 13,
   "id": "9a17bc29",
   "metadata": {
    "execution": {
     "iopub.execute_input": "2021-04-04T22:54:07.345871Z",
     "iopub.status.busy": "2021-04-04T22:54:07.342607Z",
     "iopub.status.idle": "2021-04-04T22:54:07.366177Z",
     "shell.execute_reply": "2021-04-04T22:54:07.366903Z"
    },
    "papermill": {
     "duration": 0.065305,
     "end_time": "2021-04-04T22:54:07.367092",
     "exception": false,
     "start_time": "2021-04-04T22:54:07.301787",
     "status": "completed"
    },
    "tags": []
   },
   "outputs": [],
   "source": [
    "working_df = working_df.drop_duplicates()"
   ]
  },
  {
   "cell_type": "markdown",
   "id": "a4d52ca6",
   "metadata": {
    "papermill": {
     "duration": 0.032261,
     "end_time": "2021-04-04T22:54:07.431774",
     "exception": false,
     "start_time": "2021-04-04T22:54:07.399513",
     "status": "completed"
    },
    "tags": []
   },
   "source": [
    "# Split"
   ]
  },
  {
   "cell_type": "code",
   "execution_count": 14,
   "id": "3e9ee4b5",
   "metadata": {
    "execution": {
     "iopub.execute_input": "2021-04-04T22:54:07.509144Z",
     "iopub.status.busy": "2021-04-04T22:54:07.507634Z",
     "iopub.status.idle": "2021-04-04T22:54:07.564550Z",
     "shell.execute_reply": "2021-04-04T22:54:07.563940Z"
    },
    "papermill": {
     "duration": 0.097949,
     "end_time": "2021-04-04T22:54:07.564793",
     "exception": false,
     "start_time": "2021-04-04T22:54:07.466844",
     "status": "completed"
    },
    "tags": []
   },
   "outputs": [],
   "source": [
    "from sklearn.model_selection import train_test_split"
   ]
  },
  {
   "cell_type": "code",
   "execution_count": 15,
   "id": "274004ce",
   "metadata": {
    "execution": {
     "iopub.execute_input": "2021-04-04T22:54:07.636759Z",
     "iopub.status.busy": "2021-04-04T22:54:07.636098Z",
     "iopub.status.idle": "2021-04-04T22:54:07.640175Z",
     "shell.execute_reply": "2021-04-04T22:54:07.640659Z"
    },
    "papermill": {
     "duration": 0.042897,
     "end_time": "2021-04-04T22:54:07.640806",
     "exception": false,
     "start_time": "2021-04-04T22:54:07.597909",
     "status": "completed"
    },
    "scrolled": true,
    "tags": []
   },
   "outputs": [],
   "source": [
    "inlier, outlier = working_df[working_df['defects'] == 0], working_df[working_df['defects'] == 1]"
   ]
  },
  {
   "cell_type": "code",
   "execution_count": 16,
   "id": "753c7b03",
   "metadata": {
    "execution": {
     "iopub.execute_input": "2021-04-04T22:54:07.713610Z",
     "iopub.status.busy": "2021-04-04T22:54:07.711242Z",
     "iopub.status.idle": "2021-04-04T22:54:07.718299Z",
     "shell.execute_reply": "2021-04-04T22:54:07.717713Z"
    },
    "papermill": {
     "duration": 0.046765,
     "end_time": "2021-04-04T22:54:07.718433",
     "exception": false,
     "start_time": "2021-04-04T22:54:07.671668",
     "status": "completed"
    },
    "tags": []
   },
   "outputs": [],
   "source": [
    "X_inlier = inlier.copy()\n",
    "y_inlier = X_inlier.pop('defects')\n",
    "X_outlier = outlier.copy()\n",
    "y_outlier = X_outlier.pop('defects')"
   ]
  },
  {
   "cell_type": "code",
   "execution_count": 17,
   "id": "2ba43193",
   "metadata": {
    "execution": {
     "iopub.execute_input": "2021-04-04T22:54:07.805663Z",
     "iopub.status.busy": "2021-04-04T22:54:07.802533Z",
     "iopub.status.idle": "2021-04-04T22:54:07.807781Z",
     "shell.execute_reply": "2021-04-04T22:54:07.808444Z"
    },
    "papermill": {
     "duration": 0.051401,
     "end_time": "2021-04-04T22:54:07.808628",
     "exception": false,
     "start_time": "2021-04-04T22:54:07.757227",
     "status": "completed"
    },
    "tags": []
   },
   "outputs": [],
   "source": [
    "test_size = dataset_config['test_size']\n",
    "random_state = dataset_config['random_state']\n",
    "\n",
    "X_inlier_train, X_inlier_test, y_inlier_train, y_inlier_test = train_test_split(\n",
    "    X_inlier,\n",
    "    y_inlier,\n",
    "    test_size=test_size,\n",
    "    random_state=random_state\n",
    ")"
   ]
  },
  {
   "cell_type": "code",
   "execution_count": 18,
   "id": "0b7582ca",
   "metadata": {
    "execution": {
     "iopub.execute_input": "2021-04-04T22:54:07.882250Z",
     "iopub.status.busy": "2021-04-04T22:54:07.881285Z",
     "iopub.status.idle": "2021-04-04T22:54:07.884071Z",
     "shell.execute_reply": "2021-04-04T22:54:07.883432Z"
    },
    "papermill": {
     "duration": 0.046175,
     "end_time": "2021-04-04T22:54:07.884207",
     "exception": false,
     "start_time": "2021-04-04T22:54:07.838032",
     "status": "completed"
    },
    "tags": []
   },
   "outputs": [],
   "source": [
    "test_outlier_size = dataset_config['test_outlier_size']\n",
    "if test_outlier_size > 0.0:\n",
    "    X_outlier_train, X_outlier_test, y_outlier_train, y_outlier_test = train_test_split(\n",
    "        X_outlier,\n",
    "        y_outlier,\n",
    "        test_size=test_outlier_size,\n",
    "        random_state=random_state\n",
    "    )\n",
    "else:\n",
    "    X_outlier_train, y_outlier_train = pd.DataFrame(columns=X_outlier.columns), pd.Series(dtype='int64')\n",
    "    X_outlier_test, y_outlier_test = X_outlier.copy(), y_outlier.copy()"
   ]
  },
  {
   "cell_type": "code",
   "execution_count": 19,
   "id": "c34363db",
   "metadata": {
    "execution": {
     "iopub.execute_input": "2021-04-04T22:54:07.962969Z",
     "iopub.status.busy": "2021-04-04T22:54:07.961990Z",
     "iopub.status.idle": "2021-04-04T22:54:07.973388Z",
     "shell.execute_reply": "2021-04-04T22:54:07.972861Z"
    },
    "papermill": {
     "duration": 0.054318,
     "end_time": "2021-04-04T22:54:07.973510",
     "exception": false,
     "start_time": "2021-04-04T22:54:07.919192",
     "status": "completed"
    },
    "tags": []
   },
   "outputs": [],
   "source": [
    "X_train, y_train = pd.concat([X_inlier_train, X_outlier_train], ignore_index=True), pd.concat([y_inlier_train, y_outlier_train], ignore_index=True)\n",
    "X_test, y_test = pd.concat([X_inlier_test, X_outlier_test], ignore_index=True), pd.concat([y_inlier_test, y_outlier_test], ignore_index=True)"
   ]
  },
  {
   "cell_type": "markdown",
   "id": "7cde7309",
   "metadata": {
    "papermill": {
     "duration": 0.036051,
     "end_time": "2021-04-04T22:54:08.040788",
     "exception": false,
     "start_time": "2021-04-04T22:54:08.004737",
     "status": "completed"
    },
    "tags": []
   },
   "source": [
    "# Model"
   ]
  },
  {
   "cell_type": "code",
   "execution_count": 20,
   "id": "2b12a415",
   "metadata": {
    "execution": {
     "iopub.execute_input": "2021-04-04T22:54:08.135150Z",
     "iopub.status.busy": "2021-04-04T22:54:08.129205Z",
     "iopub.status.idle": "2021-04-04T22:54:08.137418Z",
     "shell.execute_reply": "2021-04-04T22:54:08.136900Z"
    },
    "papermill": {
     "duration": 0.058197,
     "end_time": "2021-04-04T22:54:08.137537",
     "exception": false,
     "start_time": "2021-04-04T22:54:08.079340",
     "status": "completed"
    },
    "tags": []
   },
   "outputs": [],
   "source": [
    "from math import sqrt\n",
    "\n",
    "\n",
    "class KNNDataDescription:\n",
    "    def __init__(self, k=5, outlier_threshold=1.0):\n",
    "        self.k = k\n",
    "        self.outlier_threshold = outlier_threshold\n",
    "        self.X = []\n",
    "    \n",
    "    def fit(self, X):\n",
    "        self.X = [features.to_list() for index, features in X.iterrows()]\n",
    "\n",
    "    def predict(self, entries):\n",
    "        return [self.predict_entry(features.to_list()) for index, features in entries.iterrows()]\n",
    "    \n",
    "    def predict_entry(self, entry):\n",
    "        kth_neighbor, kth_distance = self.get_kth_neighbor(entry, self.k)\n",
    "        kth_kth_neighbor, kth_kth_distance = self.get_kth_neighbor(kth_neighbor, self.k + 1)\n",
    "\n",
    "        outlier_score = kth_distance / (kth_kth_distance + 0.000001)\n",
    "\n",
    "        return 1 if outlier_score < self.outlier_threshold else -1\n",
    "        \n",
    "    def euclidean_distance(self, features1, features2):\n",
    "        distance = 0.0\n",
    "        for feat1, feat2 in zip(features1, features2):\n",
    "            distance += (feat1 - feat2)**2\n",
    "                \n",
    "        return sqrt(distance)\n",
    "\n",
    "    def get_neighbors(self, entry, k):\n",
    "        distance_to_data_points = [\n",
    "            (data_point, self.euclidean_distance(entry, data_point))\n",
    "            for data_point in self.X\n",
    "        ]\n",
    "        sorted_by_distance = sorted(distance_to_data_points, key=lambda tup: tup[1])\n",
    "        neighbors = sorted_by_distance[:k]\n",
    "        return neighbors\n",
    "\n",
    "    def get_kth_neighbor(self, entry, k):\n",
    "        neighbors = self.get_neighbors(entry, k)\n",
    "        return neighbors[-1]\n"
   ]
  },
  {
   "cell_type": "code",
   "execution_count": 21,
   "id": "1fa9ec1c",
   "metadata": {
    "execution": {
     "iopub.execute_input": "2021-04-04T22:54:08.217295Z",
     "iopub.status.busy": "2021-04-04T22:54:08.214363Z",
     "iopub.status.idle": "2021-04-04T22:54:08.257475Z",
     "shell.execute_reply": "2021-04-04T22:54:08.258895Z"
    },
    "papermill": {
     "duration": 0.088712,
     "end_time": "2021-04-04T22:54:08.259477",
     "exception": false,
     "start_time": "2021-04-04T22:54:08.170765",
     "status": "completed"
    },
    "tags": []
   },
   "outputs": [],
   "source": [
    "from sklearn.svm import OneClassSVM\n",
    "\n",
    "\n",
    "models = {\n",
    "    'oneclasssvm': OneClassSVM,\n",
    "    'knndatadescription': KNNDataDescription,\n",
    "}"
   ]
  },
  {
   "cell_type": "code",
   "execution_count": 22,
   "id": "4d72a0b1",
   "metadata": {
    "execution": {
     "iopub.execute_input": "2021-04-04T22:54:08.338272Z",
     "iopub.status.busy": "2021-04-04T22:54:08.337573Z",
     "iopub.status.idle": "2021-04-04T22:54:08.339345Z",
     "shell.execute_reply": "2021-04-04T22:54:08.339897Z"
    },
    "papermill": {
     "duration": 0.04089,
     "end_time": "2021-04-04T22:54:08.340044",
     "exception": false,
     "start_time": "2021-04-04T22:54:08.299154",
     "status": "completed"
    },
    "scrolled": true,
    "tags": []
   },
   "outputs": [],
   "source": [
    "model_cls = models[model_config['model_type']]\n",
    "model = model_cls(**model_config['hyperparameters'])"
   ]
  },
  {
   "cell_type": "markdown",
   "id": "e00cff3b",
   "metadata": {
    "papermill": {
     "duration": 0.041588,
     "end_time": "2021-04-04T22:54:08.422972",
     "exception": false,
     "start_time": "2021-04-04T22:54:08.381384",
     "status": "completed"
    },
    "tags": []
   },
   "source": [
    "# Fit"
   ]
  },
  {
   "cell_type": "code",
   "execution_count": 23,
   "id": "8b2ded89",
   "metadata": {
    "execution": {
     "iopub.execute_input": "2021-04-04T22:54:08.504861Z",
     "iopub.status.busy": "2021-04-04T22:54:08.502205Z",
     "iopub.status.idle": "2021-04-04T22:54:08.582743Z",
     "shell.execute_reply": "2021-04-04T22:54:08.583473Z"
    },
    "papermill": {
     "duration": 0.122862,
     "end_time": "2021-04-04T22:54:08.583628",
     "exception": false,
     "start_time": "2021-04-04T22:54:08.460766",
     "status": "completed"
    },
    "tags": []
   },
   "outputs": [],
   "source": [
    "model.fit(X_train)"
   ]
  },
  {
   "cell_type": "markdown",
   "id": "f99999f7",
   "metadata": {
    "papermill": {
     "duration": 0.032663,
     "end_time": "2021-04-04T22:54:08.648337",
     "exception": false,
     "start_time": "2021-04-04T22:54:08.615674",
     "status": "completed"
    },
    "tags": []
   },
   "source": [
    "# Predict"
   ]
  },
  {
   "cell_type": "code",
   "execution_count": 24,
   "id": "6536fbf7",
   "metadata": {
    "execution": {
     "iopub.execute_input": "2021-04-04T22:54:08.725081Z",
     "iopub.status.busy": "2021-04-04T22:54:08.722497Z",
     "iopub.status.idle": "2021-04-04T22:54:12.165618Z",
     "shell.execute_reply": "2021-04-04T22:54:12.164759Z"
    },
    "papermill": {
     "duration": 3.485359,
     "end_time": "2021-04-04T22:54:12.165781",
     "exception": false,
     "start_time": "2021-04-04T22:54:08.680422",
     "status": "completed"
    },
    "tags": []
   },
   "outputs": [],
   "source": [
    "predictions = model.predict(X_test)"
   ]
  },
  {
   "cell_type": "markdown",
   "id": "aa1c9881",
   "metadata": {
    "papermill": {
     "duration": 0.030319,
     "end_time": "2021-04-04T22:54:12.232396",
     "exception": false,
     "start_time": "2021-04-04T22:54:12.202077",
     "status": "completed"
    },
    "tags": []
   },
   "source": [
    "# Evaluate"
   ]
  },
  {
   "cell_type": "code",
   "execution_count": 25,
   "id": "894f0f04",
   "metadata": {
    "execution": {
     "iopub.execute_input": "2021-04-04T22:54:12.291830Z",
     "iopub.status.busy": "2021-04-04T22:54:12.290805Z",
     "iopub.status.idle": "2021-04-04T22:54:12.293943Z",
     "shell.execute_reply": "2021-04-04T22:54:12.293309Z"
    },
    "papermill": {
     "duration": 0.032484,
     "end_time": "2021-04-04T22:54:12.294100",
     "exception": false,
     "start_time": "2021-04-04T22:54:12.261616",
     "status": "completed"
    },
    "tags": []
   },
   "outputs": [],
   "source": [
    "from sklearn.metrics import f1_score"
   ]
  },
  {
   "cell_type": "code",
   "execution_count": 26,
   "id": "211744d3",
   "metadata": {
    "execution": {
     "iopub.execute_input": "2021-04-04T22:54:12.368356Z",
     "iopub.status.busy": "2021-04-04T22:54:12.366594Z",
     "iopub.status.idle": "2021-04-04T22:54:12.369360Z",
     "shell.execute_reply": "2021-04-04T22:54:12.369879Z"
    },
    "papermill": {
     "duration": 0.047414,
     "end_time": "2021-04-04T22:54:12.370054",
     "exception": false,
     "start_time": "2021-04-04T22:54:12.322640",
     "status": "completed"
    },
    "tags": []
   },
   "outputs": [],
   "source": [
    "y_test = y_test.replace([0, 1], [1, -1])"
   ]
  },
  {
   "cell_type": "code",
   "execution_count": 27,
   "id": "d68a9204",
   "metadata": {
    "execution": {
     "iopub.execute_input": "2021-04-04T22:54:12.433844Z",
     "iopub.status.busy": "2021-04-04T22:54:12.433007Z",
     "iopub.status.idle": "2021-04-04T22:54:12.435652Z",
     "shell.execute_reply": "2021-04-04T22:54:12.435114Z"
    },
    "papermill": {
     "duration": 0.035473,
     "end_time": "2021-04-04T22:54:12.435770",
     "exception": false,
     "start_time": "2021-04-04T22:54:12.400297",
     "status": "completed"
    },
    "tags": []
   },
   "outputs": [],
   "source": [
    "def evaluate(truths, predictions, pos_label, neg_label):\n",
    "    TP = 0\n",
    "    FP = 0\n",
    "    TN = 0\n",
    "    FN = 0\n",
    "\n",
    "    for truth, pred in zip(truths, predictions): \n",
    "        if truth == pred == pos_label:\n",
    "           TP += 1\n",
    "        elif pred == pos_label and truth == neg_label:\n",
    "           FP += 1\n",
    "        elif truth == pred == neg_label:\n",
    "           TN += 1\n",
    "        elif pred == neg_label and truth == pos_label:\n",
    "           FN += 1\n",
    "\n",
    "    precision = TP / (TP + FP)\n",
    "    sensitivity = TP / (TP + FN)\n",
    "    \n",
    "    return {\n",
    "        'true_pos': TP,\n",
    "        'false_pos': FP,\n",
    "        'false_neg': FN,\n",
    "        'true_neg': TN,\n",
    "        'precision': precision,\n",
    "        'sensitivity': sensitivity,\n",
    "        'f1': (2 * (precision * sensitivity)) / (precision + sensitivity)\n",
    "    }\n",
    "\n",
    "score = evaluate(y_test, predictions, pos_label=-1, neg_label=1)"
   ]
  },
  {
   "cell_type": "markdown",
   "id": "93596516",
   "metadata": {
    "papermill": {
     "duration": 0.026366,
     "end_time": "2021-04-04T22:54:12.487000",
     "exception": false,
     "start_time": "2021-04-04T22:54:12.460634",
     "status": "completed"
    },
    "tags": []
   },
   "source": [
    "# Report"
   ]
  },
  {
   "cell_type": "code",
   "execution_count": 28,
   "id": "bea5fba1",
   "metadata": {
    "execution": {
     "iopub.execute_input": "2021-04-04T22:54:12.542302Z",
     "iopub.status.busy": "2021-04-04T22:54:12.541619Z",
     "iopub.status.idle": "2021-04-04T22:54:12.544595Z",
     "shell.execute_reply": "2021-04-04T22:54:12.545147Z"
    },
    "papermill": {
     "duration": 0.032407,
     "end_time": "2021-04-04T22:54:12.545336",
     "exception": false,
     "start_time": "2021-04-04T22:54:12.512929",
     "status": "completed"
    },
    "tags": []
   },
   "outputs": [],
   "source": [
    "import csv\n",
    "\n",
    "\n",
    "dataset_config_name = DATASET_CONFIG_PATH.split('/')[-1].split('.')[0]\n",
    "model_config_name = MODEL_CONFIG_PATH.split('/')[-1].split('.')[0]\n",
    "configuration = f\"dataset_{dataset_config_name}-model_{model_config_name}\"\n",
    "\n",
    "with open('results.csv', 'a') as f:\n",
    "    report = dict({'configuration': configuration}, **score)\n",
    "    writer = csv.DictWriter(f, report.keys())\n",
    "    writer.writerow(report)"
   ]
  }
 ],
 "metadata": {
  "celltoolbar": "Tags",
  "kernelspec": {
   "display_name": "Python 3",
   "language": "python",
   "name": "python3"
  },
  "language_info": {
   "codemirror_mode": {
    "name": "ipython",
    "version": 3
   },
   "file_extension": ".py",
   "mimetype": "text/x-python",
   "name": "python",
   "nbconvert_exporter": "python",
   "pygments_lexer": "ipython3",
   "version": "3.9.1"
  },
  "papermill": {
   "default_parameters": {},
   "duration": 11.087222,
   "end_time": "2021-04-04T22:54:14.101237",
   "environment_variables": {},
   "exception": null,
   "input_path": "main.ipynb",
   "output_path": "runs/dataset_000058-model_000003.ipynb",
   "parameters": {
    "DATASET_CONFIG_PATH": "config/dataset/000058.json",
    "MODEL_CONFIG_PATH": "config/model/000003.json",
    "PROFILE_REPORTING": false
   },
   "start_time": "2021-04-04T22:54:03.014015",
   "version": "2.3.3"
  }
 },
 "nbformat": 4,
 "nbformat_minor": 5
}