{
 "cells": [
  {
   "cell_type": "markdown",
   "id": "51c71c25",
   "metadata": {
    "papermill": {
     "duration": 0.021792,
     "end_time": "2021-04-04T23:28:45.122090",
     "exception": false,
     "start_time": "2021-04-04T23:28:45.100298",
     "status": "completed"
    },
    "tags": []
   },
   "source": [
    "# Parametrizing"
   ]
  },
  {
   "cell_type": "code",
   "execution_count": 1,
   "id": "3b136394",
   "metadata": {
    "execution": {
     "iopub.execute_input": "2021-04-04T23:28:45.180867Z",
     "iopub.status.busy": "2021-04-04T23:28:45.179652Z",
     "iopub.status.idle": "2021-04-04T23:28:45.183511Z",
     "shell.execute_reply": "2021-04-04T23:28:45.184074Z"
    },
    "papermill": {
     "duration": 0.040046,
     "end_time": "2021-04-04T23:28:45.184421",
     "exception": false,
     "start_time": "2021-04-04T23:28:45.144375",
     "status": "completed"
    },
    "tags": [
     "parameters"
    ]
   },
   "outputs": [],
   "source": [
    "DATASET_CONFIG_PATH = 'config/dataset/kc1_001.json'\n",
    "MODEL_CONFIG_PATH = 'config/model/knndd_001.json'\n",
    "PROFILE_REPORTING = False"
   ]
  },
  {
   "cell_type": "code",
   "execution_count": 2,
   "id": "6142afb7",
   "metadata": {
    "execution": {
     "iopub.execute_input": "2021-04-04T23:28:45.231544Z",
     "iopub.status.busy": "2021-04-04T23:28:45.230627Z",
     "iopub.status.idle": "2021-04-04T23:28:45.233087Z",
     "shell.execute_reply": "2021-04-04T23:28:45.233558Z"
    },
    "papermill": {
     "duration": 0.026883,
     "end_time": "2021-04-04T23:28:45.233710",
     "exception": false,
     "start_time": "2021-04-04T23:28:45.206827",
     "status": "completed"
    },
    "tags": [
     "injected-parameters"
    ]
   },
   "outputs": [],
   "source": [
    "# Parameters\n",
    "DATASET_CONFIG_PATH = \"config/dataset/000138.json\"\n",
    "MODEL_CONFIG_PATH = \"config/model/000004.json\"\n",
    "PROFILE_REPORTING = False\n"
   ]
  },
  {
   "cell_type": "code",
   "execution_count": 3,
   "id": "b80f2a10",
   "metadata": {
    "execution": {
     "iopub.execute_input": "2021-04-04T23:28:45.293866Z",
     "iopub.status.busy": "2021-04-04T23:28:45.290940Z",
     "iopub.status.idle": "2021-04-04T23:28:45.296989Z",
     "shell.execute_reply": "2021-04-04T23:28:45.297573Z"
    },
    "papermill": {
     "duration": 0.040244,
     "end_time": "2021-04-04T23:28:45.297754",
     "exception": false,
     "start_time": "2021-04-04T23:28:45.257510",
     "status": "completed"
    },
    "tags": []
   },
   "outputs": [],
   "source": [
    "import json\n",
    "\n",
    "\n",
    "with open(DATASET_CONFIG_PATH) as f:\n",
    "    dataset_config = json.load(f)\n",
    "\n",
    "with open(MODEL_CONFIG_PATH) as f:\n",
    "    model_config = json.load(f)"
   ]
  },
  {
   "cell_type": "markdown",
   "id": "9a4b0e2d",
   "metadata": {
    "papermill": {
     "duration": 0.022315,
     "end_time": "2021-04-04T23:28:45.341133",
     "exception": false,
     "start_time": "2021-04-04T23:28:45.318818",
     "status": "completed"
    },
    "tags": []
   },
   "source": [
    "# Profiling"
   ]
  },
  {
   "cell_type": "code",
   "execution_count": 4,
   "id": "a3e0289b",
   "metadata": {
    "execution": {
     "iopub.execute_input": "2021-04-04T23:28:45.410161Z",
     "iopub.status.busy": "2021-04-04T23:28:45.409171Z",
     "iopub.status.idle": "2021-04-04T23:28:46.774058Z",
     "shell.execute_reply": "2021-04-04T23:28:46.774617Z"
    },
    "papermill": {
     "duration": 1.402063,
     "end_time": "2021-04-04T23:28:46.774813",
     "exception": false,
     "start_time": "2021-04-04T23:28:45.372750",
     "status": "completed"
    },
    "tags": []
   },
   "outputs": [],
   "source": [
    "import pandas as pd\n",
    "from pandas_profiling import ProfileReport"
   ]
  },
  {
   "cell_type": "code",
   "execution_count": 5,
   "id": "ee6c0666",
   "metadata": {
    "execution": {
     "iopub.execute_input": "2021-04-04T23:28:46.824036Z",
     "iopub.status.busy": "2021-04-04T23:28:46.821806Z",
     "iopub.status.idle": "2021-04-04T23:28:46.833411Z",
     "shell.execute_reply": "2021-04-04T23:28:46.834063Z"
    },
    "papermill": {
     "duration": 0.036997,
     "end_time": "2021-04-04T23:28:46.834252",
     "exception": false,
     "start_time": "2021-04-04T23:28:46.797255",
     "status": "completed"
    },
    "tags": []
   },
   "outputs": [],
   "source": [
    "df = pd.read_csv(dataset_config['dataset_path'])"
   ]
  },
  {
   "cell_type": "code",
   "execution_count": 6,
   "id": "7eca6c4a",
   "metadata": {
    "execution": {
     "iopub.execute_input": "2021-04-04T23:28:46.905354Z",
     "iopub.status.busy": "2021-04-04T23:28:46.904065Z",
     "iopub.status.idle": "2021-04-04T23:28:46.907583Z",
     "shell.execute_reply": "2021-04-04T23:28:46.908050Z"
    },
    "papermill": {
     "duration": 0.049892,
     "end_time": "2021-04-04T23:28:46.908236",
     "exception": false,
     "start_time": "2021-04-04T23:28:46.858344",
     "status": "completed"
    },
    "tags": []
   },
   "outputs": [
    {
     "name": "stdout",
     "output_type": "stream",
     "text": [
      "<class 'pandas.core.frame.DataFrame'>\n",
      "RangeIndex: 498 entries, 0 to 497\n",
      "Data columns (total 23 columns):\n",
      " #   Column             Non-Null Count  Dtype  \n",
      "---  ------             --------------  -----  \n",
      " 0   id                 498 non-null    int64  \n",
      " 1   loc                498 non-null    float64\n",
      " 2   v(g)               498 non-null    float64\n",
      " 3   ev(g)              498 non-null    float64\n",
      " 4   iv(g)              498 non-null    float64\n",
      " 5   n                  498 non-null    float64\n",
      " 6   v                  498 non-null    float64\n",
      " 7   l                  498 non-null    float64\n",
      " 8   d                  498 non-null    float64\n",
      " 9   i                  498 non-null    float64\n",
      " 10  e                  498 non-null    float64\n",
      " 11  b                  498 non-null    float64\n",
      " 12  t                  498 non-null    float64\n",
      " 13  lOCode             498 non-null    int64  \n",
      " 14  lOComment          498 non-null    int64  \n",
      " 15  lOBlank            498 non-null    int64  \n",
      " 16  locCodeAndComment  498 non-null    int64  \n",
      " 17  uniq_Op            498 non-null    float64\n",
      " 18  uniq_Opnd          498 non-null    float64\n",
      " 19  total_Op           498 non-null    float64\n",
      " 20  total_Opnd         498 non-null    float64\n",
      " 21  branchCount        498 non-null    float64\n",
      " 22  defects            498 non-null    bool   \n",
      "dtypes: bool(1), float64(17), int64(5)\n",
      "memory usage: 86.2 KB\n"
     ]
    }
   ],
   "source": [
    "df.info()"
   ]
  },
  {
   "cell_type": "code",
   "execution_count": 7,
   "id": "3638e5e8",
   "metadata": {
    "execution": {
     "iopub.execute_input": "2021-04-04T23:28:46.967894Z",
     "iopub.status.busy": "2021-04-04T23:28:46.966657Z",
     "iopub.status.idle": "2021-04-04T23:28:46.998520Z",
     "shell.execute_reply": "2021-04-04T23:28:46.998995Z"
    },
    "papermill": {
     "duration": 0.066778,
     "end_time": "2021-04-04T23:28:46.999133",
     "exception": false,
     "start_time": "2021-04-04T23:28:46.932355",
     "status": "completed"
    },
    "tags": []
   },
   "outputs": [
    {
     "data": {
      "text/html": [
       "<div>\n",
       "<style scoped>\n",
       "    .dataframe tbody tr th:only-of-type {\n",
       "        vertical-align: middle;\n",
       "    }\n",
       "\n",
       "    .dataframe tbody tr th {\n",
       "        vertical-align: top;\n",
       "    }\n",
       "\n",
       "    .dataframe thead th {\n",
       "        text-align: right;\n",
       "    }\n",
       "</style>\n",
       "<table border=\"1\" class=\"dataframe\">\n",
       "  <thead>\n",
       "    <tr style=\"text-align: right;\">\n",
       "      <th></th>\n",
       "      <th>id</th>\n",
       "      <th>loc</th>\n",
       "      <th>v(g)</th>\n",
       "      <th>ev(g)</th>\n",
       "      <th>iv(g)</th>\n",
       "      <th>n</th>\n",
       "      <th>v</th>\n",
       "      <th>l</th>\n",
       "      <th>d</th>\n",
       "      <th>i</th>\n",
       "      <th>...</th>\n",
       "      <th>lOCode</th>\n",
       "      <th>lOComment</th>\n",
       "      <th>lOBlank</th>\n",
       "      <th>locCodeAndComment</th>\n",
       "      <th>uniq_Op</th>\n",
       "      <th>uniq_Opnd</th>\n",
       "      <th>total_Op</th>\n",
       "      <th>total_Opnd</th>\n",
       "      <th>branchCount</th>\n",
       "      <th>defects</th>\n",
       "    </tr>\n",
       "  </thead>\n",
       "  <tbody>\n",
       "    <tr>\n",
       "      <th>0</th>\n",
       "      <td>1</td>\n",
       "      <td>1.1</td>\n",
       "      <td>1.4</td>\n",
       "      <td>1.4</td>\n",
       "      <td>1.4</td>\n",
       "      <td>1.3</td>\n",
       "      <td>1.30</td>\n",
       "      <td>1.30</td>\n",
       "      <td>1.30</td>\n",
       "      <td>1.30</td>\n",
       "      <td>...</td>\n",
       "      <td>2</td>\n",
       "      <td>2</td>\n",
       "      <td>2</td>\n",
       "      <td>2</td>\n",
       "      <td>1.2</td>\n",
       "      <td>1.2</td>\n",
       "      <td>1.2</td>\n",
       "      <td>1.2</td>\n",
       "      <td>1.4</td>\n",
       "      <td>False</td>\n",
       "    </tr>\n",
       "    <tr>\n",
       "      <th>1</th>\n",
       "      <td>2</td>\n",
       "      <td>1.0</td>\n",
       "      <td>1.0</td>\n",
       "      <td>1.0</td>\n",
       "      <td>1.0</td>\n",
       "      <td>1.0</td>\n",
       "      <td>1.00</td>\n",
       "      <td>1.00</td>\n",
       "      <td>1.00</td>\n",
       "      <td>1.00</td>\n",
       "      <td>...</td>\n",
       "      <td>1</td>\n",
       "      <td>1</td>\n",
       "      <td>1</td>\n",
       "      <td>1</td>\n",
       "      <td>1.0</td>\n",
       "      <td>1.0</td>\n",
       "      <td>1.0</td>\n",
       "      <td>1.0</td>\n",
       "      <td>1.0</td>\n",
       "      <td>True</td>\n",
       "    </tr>\n",
       "    <tr>\n",
       "      <th>2</th>\n",
       "      <td>3</td>\n",
       "      <td>24.0</td>\n",
       "      <td>5.0</td>\n",
       "      <td>1.0</td>\n",
       "      <td>3.0</td>\n",
       "      <td>63.0</td>\n",
       "      <td>309.13</td>\n",
       "      <td>0.11</td>\n",
       "      <td>9.50</td>\n",
       "      <td>32.54</td>\n",
       "      <td>...</td>\n",
       "      <td>1</td>\n",
       "      <td>0</td>\n",
       "      <td>6</td>\n",
       "      <td>0</td>\n",
       "      <td>15.0</td>\n",
       "      <td>15.0</td>\n",
       "      <td>44.0</td>\n",
       "      <td>19.0</td>\n",
       "      <td>9.0</td>\n",
       "      <td>False</td>\n",
       "    </tr>\n",
       "    <tr>\n",
       "      <th>3</th>\n",
       "      <td>4</td>\n",
       "      <td>20.0</td>\n",
       "      <td>4.0</td>\n",
       "      <td>4.0</td>\n",
       "      <td>2.0</td>\n",
       "      <td>47.0</td>\n",
       "      <td>215.49</td>\n",
       "      <td>0.06</td>\n",
       "      <td>16.00</td>\n",
       "      <td>13.47</td>\n",
       "      <td>...</td>\n",
       "      <td>0</td>\n",
       "      <td>0</td>\n",
       "      <td>3</td>\n",
       "      <td>0</td>\n",
       "      <td>16.0</td>\n",
       "      <td>8.0</td>\n",
       "      <td>31.0</td>\n",
       "      <td>16.0</td>\n",
       "      <td>7.0</td>\n",
       "      <td>False</td>\n",
       "    </tr>\n",
       "    <tr>\n",
       "      <th>4</th>\n",
       "      <td>5</td>\n",
       "      <td>24.0</td>\n",
       "      <td>6.0</td>\n",
       "      <td>6.0</td>\n",
       "      <td>2.0</td>\n",
       "      <td>72.0</td>\n",
       "      <td>346.13</td>\n",
       "      <td>0.06</td>\n",
       "      <td>17.33</td>\n",
       "      <td>19.97</td>\n",
       "      <td>...</td>\n",
       "      <td>0</td>\n",
       "      <td>0</td>\n",
       "      <td>3</td>\n",
       "      <td>0</td>\n",
       "      <td>16.0</td>\n",
       "      <td>12.0</td>\n",
       "      <td>46.0</td>\n",
       "      <td>26.0</td>\n",
       "      <td>11.0</td>\n",
       "      <td>False</td>\n",
       "    </tr>\n",
       "  </tbody>\n",
       "</table>\n",
       "<p>5 rows × 23 columns</p>\n",
       "</div>"
      ],
      "text/plain": [
       "   id   loc  v(g)  ev(g)  iv(g)     n       v     l      d      i  ...  \\\n",
       "0   1   1.1   1.4    1.4    1.4   1.3    1.30  1.30   1.30   1.30  ...   \n",
       "1   2   1.0   1.0    1.0    1.0   1.0    1.00  1.00   1.00   1.00  ...   \n",
       "2   3  24.0   5.0    1.0    3.0  63.0  309.13  0.11   9.50  32.54  ...   \n",
       "3   4  20.0   4.0    4.0    2.0  47.0  215.49  0.06  16.00  13.47  ...   \n",
       "4   5  24.0   6.0    6.0    2.0  72.0  346.13  0.06  17.33  19.97  ...   \n",
       "\n",
       "   lOCode  lOComment  lOBlank  locCodeAndComment  uniq_Op  uniq_Opnd  \\\n",
       "0       2          2        2                  2      1.2        1.2   \n",
       "1       1          1        1                  1      1.0        1.0   \n",
       "2       1          0        6                  0     15.0       15.0   \n",
       "3       0          0        3                  0     16.0        8.0   \n",
       "4       0          0        3                  0     16.0       12.0   \n",
       "\n",
       "   total_Op  total_Opnd  branchCount  defects  \n",
       "0       1.2         1.2          1.4    False  \n",
       "1       1.0         1.0          1.0     True  \n",
       "2      44.0        19.0          9.0    False  \n",
       "3      31.0        16.0          7.0    False  \n",
       "4      46.0        26.0         11.0    False  \n",
       "\n",
       "[5 rows x 23 columns]"
      ]
     },
     "execution_count": 7,
     "metadata": {},
     "output_type": "execute_result"
    }
   ],
   "source": [
    "df.head()"
   ]
  },
  {
   "cell_type": "code",
   "execution_count": 8,
   "id": "733e95eb",
   "metadata": {
    "execution": {
     "iopub.execute_input": "2021-04-04T23:28:47.055383Z",
     "iopub.status.busy": "2021-04-04T23:28:47.054793Z",
     "iopub.status.idle": "2021-04-04T23:28:47.056642Z",
     "shell.execute_reply": "2021-04-04T23:28:47.057106Z"
    },
    "papermill": {
     "duration": 0.036819,
     "end_time": "2021-04-04T23:28:47.057256",
     "exception": false,
     "start_time": "2021-04-04T23:28:47.020437",
     "status": "completed"
    },
    "tags": []
   },
   "outputs": [],
   "source": [
    "del df['id']"
   ]
  },
  {
   "cell_type": "code",
   "execution_count": 9,
   "id": "6ff6f5b0",
   "metadata": {
    "execution": {
     "iopub.execute_input": "2021-04-04T23:28:47.109426Z",
     "iopub.status.busy": "2021-04-04T23:28:47.108325Z",
     "iopub.status.idle": "2021-04-04T23:28:47.111291Z",
     "shell.execute_reply": "2021-04-04T23:28:47.110664Z"
    },
    "papermill": {
     "duration": 0.032604,
     "end_time": "2021-04-04T23:28:47.111431",
     "exception": false,
     "start_time": "2021-04-04T23:28:47.078827",
     "status": "completed"
    },
    "tags": []
   },
   "outputs": [],
   "source": [
    "if PROFILE_REPORTING:\n",
    "    ProfileReport(df).to_widgets()"
   ]
  },
  {
   "cell_type": "markdown",
   "id": "1deaf3f0",
   "metadata": {
    "papermill": {
     "duration": 0.027603,
     "end_time": "2021-04-04T23:28:47.161684",
     "exception": false,
     "start_time": "2021-04-04T23:28:47.134081",
     "status": "completed"
    },
    "tags": []
   },
   "source": [
    "# Preprocess"
   ]
  },
  {
   "cell_type": "code",
   "execution_count": 10,
   "id": "1513e563",
   "metadata": {
    "execution": {
     "iopub.execute_input": "2021-04-04T23:28:47.213276Z",
     "iopub.status.busy": "2021-04-04T23:28:47.211516Z",
     "iopub.status.idle": "2021-04-04T23:28:47.215672Z",
     "shell.execute_reply": "2021-04-04T23:28:47.216260Z"
    },
    "papermill": {
     "duration": 0.03224,
     "end_time": "2021-04-04T23:28:47.216405",
     "exception": false,
     "start_time": "2021-04-04T23:28:47.184165",
     "status": "completed"
    },
    "tags": []
   },
   "outputs": [],
   "source": [
    "working_df = df.copy()"
   ]
  },
  {
   "cell_type": "code",
   "execution_count": 11,
   "id": "3b26d675",
   "metadata": {
    "execution": {
     "iopub.execute_input": "2021-04-04T23:28:47.273852Z",
     "iopub.status.busy": "2021-04-04T23:28:47.273089Z",
     "iopub.status.idle": "2021-04-04T23:28:47.275534Z",
     "shell.execute_reply": "2021-04-04T23:28:47.275015Z"
    },
    "papermill": {
     "duration": 0.035926,
     "end_time": "2021-04-04T23:28:47.275653",
     "exception": false,
     "start_time": "2021-04-04T23:28:47.239727",
     "status": "completed"
    },
    "tags": []
   },
   "outputs": [],
   "source": [
    "working_df['defects'] = working_df['defects'].replace([False, True], [0, 1])"
   ]
  },
  {
   "cell_type": "code",
   "execution_count": 12,
   "id": "eb48604f",
   "metadata": {
    "execution": {
     "iopub.execute_input": "2021-04-04T23:28:47.327343Z",
     "iopub.status.busy": "2021-04-04T23:28:47.326547Z",
     "iopub.status.idle": "2021-04-04T23:28:47.328300Z",
     "shell.execute_reply": "2021-04-04T23:28:47.328779Z"
    },
    "papermill": {
     "duration": 0.03077,
     "end_time": "2021-04-04T23:28:47.328927",
     "exception": false,
     "start_time": "2021-04-04T23:28:47.298157",
     "status": "completed"
    },
    "tags": []
   },
   "outputs": [],
   "source": [
    "for col in dataset_config['delete_columns']:\n",
    "    del working_df[col]"
   ]
  },
  {
   "cell_type": "code",
   "execution_count": 13,
   "id": "9a17bc29",
   "metadata": {
    "execution": {
     "iopub.execute_input": "2021-04-04T23:28:47.406623Z",
     "iopub.status.busy": "2021-04-04T23:28:47.405752Z",
     "iopub.status.idle": "2021-04-04T23:28:47.417637Z",
     "shell.execute_reply": "2021-04-04T23:28:47.416828Z"
    },
    "papermill": {
     "duration": 0.058952,
     "end_time": "2021-04-04T23:28:47.417834",
     "exception": false,
     "start_time": "2021-04-04T23:28:47.358882",
     "status": "completed"
    },
    "tags": []
   },
   "outputs": [],
   "source": [
    "working_df = working_df.drop_duplicates()"
   ]
  },
  {
   "cell_type": "markdown",
   "id": "a4d52ca6",
   "metadata": {
    "papermill": {
     "duration": 0.027167,
     "end_time": "2021-04-04T23:28:47.469904",
     "exception": false,
     "start_time": "2021-04-04T23:28:47.442737",
     "status": "completed"
    },
    "tags": []
   },
   "source": [
    "# Split"
   ]
  },
  {
   "cell_type": "code",
   "execution_count": 14,
   "id": "3e9ee4b5",
   "metadata": {
    "execution": {
     "iopub.execute_input": "2021-04-04T23:28:47.523892Z",
     "iopub.status.busy": "2021-04-04T23:28:47.523215Z",
     "iopub.status.idle": "2021-04-04T23:28:47.575099Z",
     "shell.execute_reply": "2021-04-04T23:28:47.575583Z"
    },
    "papermill": {
     "duration": 0.083888,
     "end_time": "2021-04-04T23:28:47.575730",
     "exception": false,
     "start_time": "2021-04-04T23:28:47.491842",
     "status": "completed"
    },
    "tags": []
   },
   "outputs": [],
   "source": [
    "from sklearn.model_selection import train_test_split"
   ]
  },
  {
   "cell_type": "code",
   "execution_count": 15,
   "id": "274004ce",
   "metadata": {
    "execution": {
     "iopub.execute_input": "2021-04-04T23:28:47.627666Z",
     "iopub.status.busy": "2021-04-04T23:28:47.626718Z",
     "iopub.status.idle": "2021-04-04T23:28:47.632347Z",
     "shell.execute_reply": "2021-04-04T23:28:47.631645Z"
    },
    "papermill": {
     "duration": 0.03453,
     "end_time": "2021-04-04T23:28:47.632525",
     "exception": false,
     "start_time": "2021-04-04T23:28:47.597995",
     "status": "completed"
    },
    "scrolled": true,
    "tags": []
   },
   "outputs": [],
   "source": [
    "inlier, outlier = working_df[working_df['defects'] == 0], working_df[working_df['defects'] == 1]"
   ]
  },
  {
   "cell_type": "code",
   "execution_count": 16,
   "id": "753c7b03",
   "metadata": {
    "execution": {
     "iopub.execute_input": "2021-04-04T23:28:47.690297Z",
     "iopub.status.busy": "2021-04-04T23:28:47.689394Z",
     "iopub.status.idle": "2021-04-04T23:28:47.691921Z",
     "shell.execute_reply": "2021-04-04T23:28:47.692509Z"
    },
    "papermill": {
     "duration": 0.036056,
     "end_time": "2021-04-04T23:28:47.692660",
     "exception": false,
     "start_time": "2021-04-04T23:28:47.656604",
     "status": "completed"
    },
    "tags": []
   },
   "outputs": [],
   "source": [
    "X_inlier = inlier.copy()\n",
    "y_inlier = X_inlier.pop('defects')\n",
    "X_outlier = outlier.copy()\n",
    "y_outlier = X_outlier.pop('defects')"
   ]
  },
  {
   "cell_type": "code",
   "execution_count": 17,
   "id": "2ba43193",
   "metadata": {
    "execution": {
     "iopub.execute_input": "2021-04-04T23:28:47.748675Z",
     "iopub.status.busy": "2021-04-04T23:28:47.747666Z",
     "iopub.status.idle": "2021-04-04T23:28:47.749877Z",
     "shell.execute_reply": "2021-04-04T23:28:47.750362Z"
    },
    "papermill": {
     "duration": 0.035411,
     "end_time": "2021-04-04T23:28:47.750512",
     "exception": false,
     "start_time": "2021-04-04T23:28:47.715101",
     "status": "completed"
    },
    "tags": []
   },
   "outputs": [],
   "source": [
    "test_size = dataset_config['test_size']\n",
    "random_state = dataset_config['random_state']\n",
    "\n",
    "X_inlier_train, X_inlier_test, y_inlier_train, y_inlier_test = train_test_split(\n",
    "    X_inlier,\n",
    "    y_inlier,\n",
    "    test_size=test_size,\n",
    "    random_state=random_state\n",
    ")"
   ]
  },
  {
   "cell_type": "code",
   "execution_count": 18,
   "id": "0b7582ca",
   "metadata": {
    "execution": {
     "iopub.execute_input": "2021-04-04T23:28:47.815219Z",
     "iopub.status.busy": "2021-04-04T23:28:47.814192Z",
     "iopub.status.idle": "2021-04-04T23:28:47.818173Z",
     "shell.execute_reply": "2021-04-04T23:28:47.819122Z"
    },
    "papermill": {
     "duration": 0.043521,
     "end_time": "2021-04-04T23:28:47.819430",
     "exception": false,
     "start_time": "2021-04-04T23:28:47.775909",
     "status": "completed"
    },
    "tags": []
   },
   "outputs": [],
   "source": [
    "test_outlier_size = dataset_config['test_outlier_size']\n",
    "if test_outlier_size > 0.0:\n",
    "    X_outlier_train, X_outlier_test, y_outlier_train, y_outlier_test = train_test_split(\n",
    "        X_outlier,\n",
    "        y_outlier,\n",
    "        test_size=test_outlier_size,\n",
    "        random_state=random_state\n",
    "    )\n",
    "else:\n",
    "    X_outlier_train, y_outlier_train = pd.DataFrame(columns=X_outlier.columns), pd.Series(dtype='int64')\n",
    "    X_outlier_test, y_outlier_test = X_outlier.copy(), y_outlier.copy()"
   ]
  },
  {
   "cell_type": "code",
   "execution_count": 19,
   "id": "c34363db",
   "metadata": {
    "execution": {
     "iopub.execute_input": "2021-04-04T23:28:47.878447Z",
     "iopub.status.busy": "2021-04-04T23:28:47.877530Z",
     "iopub.status.idle": "2021-04-04T23:28:47.884965Z",
     "shell.execute_reply": "2021-04-04T23:28:47.885427Z"
    },
    "papermill": {
     "duration": 0.039055,
     "end_time": "2021-04-04T23:28:47.885580",
     "exception": false,
     "start_time": "2021-04-04T23:28:47.846525",
     "status": "completed"
    },
    "tags": []
   },
   "outputs": [],
   "source": [
    "X_train, y_train = pd.concat([X_inlier_train, X_outlier_train], ignore_index=True), pd.concat([y_inlier_train, y_outlier_train], ignore_index=True)\n",
    "X_test, y_test = pd.concat([X_inlier_test, X_outlier_test], ignore_index=True), pd.concat([y_inlier_test, y_outlier_test], ignore_index=True)"
   ]
  },
  {
   "cell_type": "markdown",
   "id": "7cde7309",
   "metadata": {
    "papermill": {
     "duration": 0.034671,
     "end_time": "2021-04-04T23:28:47.945962",
     "exception": false,
     "start_time": "2021-04-04T23:28:47.911291",
     "status": "completed"
    },
    "tags": []
   },
   "source": [
    "# Model"
   ]
  },
  {
   "cell_type": "code",
   "execution_count": 20,
   "id": "2b12a415",
   "metadata": {
    "execution": {
     "iopub.execute_input": "2021-04-04T23:28:48.010543Z",
     "iopub.status.busy": "2021-04-04T23:28:48.009841Z",
     "iopub.status.idle": "2021-04-04T23:28:48.013221Z",
     "shell.execute_reply": "2021-04-04T23:28:48.012372Z"
    },
    "papermill": {
     "duration": 0.036969,
     "end_time": "2021-04-04T23:28:48.013391",
     "exception": false,
     "start_time": "2021-04-04T23:28:47.976422",
     "status": "completed"
    },
    "tags": []
   },
   "outputs": [],
   "source": [
    "from math import sqrt\n",
    "\n",
    "\n",
    "class KNNDataDescription:\n",
    "    def __init__(self, k=5, outlier_threshold=1.0):\n",
    "        self.k = k\n",
    "        self.outlier_threshold = outlier_threshold\n",
    "        self.X = []\n",
    "    \n",
    "    def fit(self, X):\n",
    "        self.X = [features.to_list() for index, features in X.iterrows()]\n",
    "\n",
    "    def predict(self, entries):\n",
    "        return [self.predict_entry(features.to_list()) for index, features in entries.iterrows()]\n",
    "    \n",
    "    def predict_entry(self, entry):\n",
    "        kth_neighbor, kth_distance = self.get_kth_neighbor(entry, self.k)\n",
    "        kth_kth_neighbor, kth_kth_distance = self.get_kth_neighbor(kth_neighbor, self.k + 1)\n",
    "\n",
    "        outlier_score = kth_distance / (kth_kth_distance + 0.000001)\n",
    "\n",
    "        return 1 if outlier_score < self.outlier_threshold else -1\n",
    "        \n",
    "    def euclidean_distance(self, features1, features2):\n",
    "        distance = 0.0\n",
    "        for feat1, feat2 in zip(features1, features2):\n",
    "            distance += (feat1 - feat2)**2\n",
    "                \n",
    "        return sqrt(distance)\n",
    "\n",
    "    def get_neighbors(self, entry, k):\n",
    "        distance_to_data_points = [\n",
    "            (data_point, self.euclidean_distance(entry, data_point))\n",
    "            for data_point in self.X\n",
    "        ]\n",
    "        sorted_by_distance = sorted(distance_to_data_points, key=lambda tup: tup[1])\n",
    "        neighbors = sorted_by_distance[:k]\n",
    "        return neighbors\n",
    "\n",
    "    def get_kth_neighbor(self, entry, k):\n",
    "        neighbors = self.get_neighbors(entry, k)\n",
    "        return neighbors[-1]\n"
   ]
  },
  {
   "cell_type": "code",
   "execution_count": 21,
   "id": "1fa9ec1c",
   "metadata": {
    "execution": {
     "iopub.execute_input": "2021-04-04T23:28:48.080973Z",
     "iopub.status.busy": "2021-04-04T23:28:48.080111Z",
     "iopub.status.idle": "2021-04-04T23:28:48.103825Z",
     "shell.execute_reply": "2021-04-04T23:28:48.103292Z"
    },
    "papermill": {
     "duration": 0.06172,
     "end_time": "2021-04-04T23:28:48.103947",
     "exception": false,
     "start_time": "2021-04-04T23:28:48.042227",
     "status": "completed"
    },
    "tags": []
   },
   "outputs": [],
   "source": [
    "from sklearn.svm import OneClassSVM\n",
    "\n",
    "\n",
    "models = {\n",
    "    'oneclasssvm': OneClassSVM,\n",
    "    'knndatadescription': KNNDataDescription,\n",
    "}"
   ]
  },
  {
   "cell_type": "code",
   "execution_count": 22,
   "id": "4d72a0b1",
   "metadata": {
    "execution": {
     "iopub.execute_input": "2021-04-04T23:28:48.160029Z",
     "iopub.status.busy": "2021-04-04T23:28:48.159439Z",
     "iopub.status.idle": "2021-04-04T23:28:48.161351Z",
     "shell.execute_reply": "2021-04-04T23:28:48.161825Z"
    },
    "papermill": {
     "duration": 0.03234,
     "end_time": "2021-04-04T23:28:48.161971",
     "exception": false,
     "start_time": "2021-04-04T23:28:48.129631",
     "status": "completed"
    },
    "scrolled": true,
    "tags": []
   },
   "outputs": [],
   "source": [
    "model_cls = models[model_config['model_type']]\n",
    "model = model_cls(**model_config['hyperparameters'])"
   ]
  },
  {
   "cell_type": "markdown",
   "id": "e00cff3b",
   "metadata": {
    "papermill": {
     "duration": 0.027726,
     "end_time": "2021-04-04T23:28:48.215791",
     "exception": false,
     "start_time": "2021-04-04T23:28:48.188065",
     "status": "completed"
    },
    "tags": []
   },
   "source": [
    "# Fit"
   ]
  },
  {
   "cell_type": "code",
   "execution_count": 23,
   "id": "8b2ded89",
   "metadata": {
    "execution": {
     "iopub.execute_input": "2021-04-04T23:28:48.273850Z",
     "iopub.status.busy": "2021-04-04T23:28:48.271660Z",
     "iopub.status.idle": "2021-04-04T23:28:48.282932Z",
     "shell.execute_reply": "2021-04-04T23:28:48.283382Z"
    },
    "papermill": {
     "duration": 0.039819,
     "end_time": "2021-04-04T23:28:48.283519",
     "exception": false,
     "start_time": "2021-04-04T23:28:48.243700",
     "status": "completed"
    },
    "tags": []
   },
   "outputs": [
    {
     "data": {
      "text/plain": [
       "OneClassSVM()"
      ]
     },
     "execution_count": 23,
     "metadata": {},
     "output_type": "execute_result"
    }
   ],
   "source": [
    "model.fit(X_train)"
   ]
  },
  {
   "cell_type": "markdown",
   "id": "f99999f7",
   "metadata": {
    "papermill": {
     "duration": 0.029693,
     "end_time": "2021-04-04T23:28:48.340035",
     "exception": false,
     "start_time": "2021-04-04T23:28:48.310342",
     "status": "completed"
    },
    "tags": []
   },
   "source": [
    "# Predict"
   ]
  },
  {
   "cell_type": "code",
   "execution_count": 24,
   "id": "6536fbf7",
   "metadata": {
    "execution": {
     "iopub.execute_input": "2021-04-04T23:28:48.415823Z",
     "iopub.status.busy": "2021-04-04T23:28:48.413807Z",
     "iopub.status.idle": "2021-04-04T23:28:48.419712Z",
     "shell.execute_reply": "2021-04-04T23:28:48.420189Z"
    },
    "papermill": {
     "duration": 0.040128,
     "end_time": "2021-04-04T23:28:48.420336",
     "exception": false,
     "start_time": "2021-04-04T23:28:48.380208",
     "status": "completed"
    },
    "tags": []
   },
   "outputs": [],
   "source": [
    "predictions = model.predict(X_test)"
   ]
  },
  {
   "cell_type": "markdown",
   "id": "aa1c9881",
   "metadata": {
    "papermill": {
     "duration": 0.030649,
     "end_time": "2021-04-04T23:28:48.476907",
     "exception": false,
     "start_time": "2021-04-04T23:28:48.446258",
     "status": "completed"
    },
    "tags": []
   },
   "source": [
    "# Evaluate"
   ]
  },
  {
   "cell_type": "code",
   "execution_count": 25,
   "id": "894f0f04",
   "metadata": {
    "execution": {
     "iopub.execute_input": "2021-04-04T23:28:48.537792Z",
     "iopub.status.busy": "2021-04-04T23:28:48.536803Z",
     "iopub.status.idle": "2021-04-04T23:28:48.539118Z",
     "shell.execute_reply": "2021-04-04T23:28:48.540629Z"
    },
    "papermill": {
     "duration": 0.035764,
     "end_time": "2021-04-04T23:28:48.541012",
     "exception": false,
     "start_time": "2021-04-04T23:28:48.505248",
     "status": "completed"
    },
    "tags": []
   },
   "outputs": [],
   "source": [
    "from sklearn.metrics import f1_score"
   ]
  },
  {
   "cell_type": "code",
   "execution_count": 26,
   "id": "211744d3",
   "metadata": {
    "execution": {
     "iopub.execute_input": "2021-04-04T23:28:48.603574Z",
     "iopub.status.busy": "2021-04-04T23:28:48.602427Z",
     "iopub.status.idle": "2021-04-04T23:28:48.604782Z",
     "shell.execute_reply": "2021-04-04T23:28:48.605260Z"
    },
    "papermill": {
     "duration": 0.037418,
     "end_time": "2021-04-04T23:28:48.605408",
     "exception": false,
     "start_time": "2021-04-04T23:28:48.567990",
     "status": "completed"
    },
    "tags": []
   },
   "outputs": [],
   "source": [
    "y_test = y_test.replace([0, 1], [1, -1])"
   ]
  },
  {
   "cell_type": "code",
   "execution_count": 27,
   "id": "d68a9204",
   "metadata": {
    "execution": {
     "iopub.execute_input": "2021-04-04T23:28:48.707266Z",
     "iopub.status.busy": "2021-04-04T23:28:48.706621Z",
     "iopub.status.idle": "2021-04-04T23:28:48.708591Z",
     "shell.execute_reply": "2021-04-04T23:28:48.709033Z"
    },
    "papermill": {
     "duration": 0.038268,
     "end_time": "2021-04-04T23:28:48.709170",
     "exception": false,
     "start_time": "2021-04-04T23:28:48.670902",
     "status": "completed"
    },
    "tags": []
   },
   "outputs": [],
   "source": [
    "def evaluate(truths, predictions, pos_label, neg_label):\n",
    "    TP = 0\n",
    "    FP = 0\n",
    "    TN = 0\n",
    "    FN = 0\n",
    "\n",
    "    for truth, pred in zip(truths, predictions): \n",
    "        if truth == pred == pos_label:\n",
    "           TP += 1\n",
    "        elif pred == pos_label and truth == neg_label:\n",
    "           FP += 1\n",
    "        elif truth == pred == neg_label:\n",
    "           TN += 1\n",
    "        elif pred == neg_label and truth == pos_label:\n",
    "           FN += 1\n",
    "\n",
    "    precision = TP / (TP + FP)\n",
    "    sensitivity = TP / (TP + FN)\n",
    "    \n",
    "    return {\n",
    "        'true_pos': TP,\n",
    "        'false_pos': FP,\n",
    "        'false_neg': FN,\n",
    "        'true_neg': TN,\n",
    "        'precision': precision,\n",
    "        'sensitivity': sensitivity,\n",
    "        'f1': (2 * (precision * sensitivity)) / (precision + sensitivity)\n",
    "    }\n",
    "\n",
    "score = evaluate(y_test, predictions, pos_label=-1, neg_label=1)"
   ]
  },
  {
   "cell_type": "markdown",
   "id": "93596516",
   "metadata": {
    "papermill": {
     "duration": 0.03331,
     "end_time": "2021-04-04T23:28:48.766533",
     "exception": false,
     "start_time": "2021-04-04T23:28:48.733223",
     "status": "completed"
    },
    "tags": []
   },
   "source": [
    "# Report"
   ]
  },
  {
   "cell_type": "code",
   "execution_count": 28,
   "id": "bea5fba1",
   "metadata": {
    "execution": {
     "iopub.execute_input": "2021-04-04T23:28:48.823605Z",
     "iopub.status.busy": "2021-04-04T23:28:48.823005Z",
     "iopub.status.idle": "2021-04-04T23:28:48.825361Z",
     "shell.execute_reply": "2021-04-04T23:28:48.825801Z"
    },
    "papermill": {
     "duration": 0.034846,
     "end_time": "2021-04-04T23:28:48.825939",
     "exception": false,
     "start_time": "2021-04-04T23:28:48.791093",
     "status": "completed"
    },
    "tags": []
   },
   "outputs": [],
   "source": [
    "import csv\n",
    "\n",
    "\n",
    "dataset_config_name = DATASET_CONFIG_PATH.split('/')[-1].split('.')[0]\n",
    "model_config_name = MODEL_CONFIG_PATH.split('/')[-1].split('.')[0]\n",
    "configuration = f\"dataset_{dataset_config_name}-model_{model_config_name}\"\n",
    "\n",
    "with open('results.csv', 'a') as f:\n",
    "    report = dict({'configuration': configuration}, **score)\n",
    "    writer = csv.DictWriter(f, report.keys())\n",
    "    writer.writerow(report)"
   ]
  }
 ],
 "metadata": {
  "celltoolbar": "Tags",
  "kernelspec": {
   "display_name": "Python 3",
   "language": "python",
   "name": "python3"
  },
  "language_info": {
   "codemirror_mode": {
    "name": "ipython",
    "version": 3
   },
   "file_extension": ".py",
   "mimetype": "text/x-python",
   "name": "python",
   "nbconvert_exporter": "python",
   "pygments_lexer": "ipython3",
   "version": "3.9.1"
  },
  "papermill": {
   "default_parameters": {},
   "duration": 6.055371,
   "end_time": "2021-04-04T23:28:50.187349",
   "environment_variables": {},
   "exception": null,
   "input_path": "main.ipynb",
   "output_path": "runs/dataset_000138-model_000004.ipynb",
   "parameters": {
    "DATASET_CONFIG_PATH": "config/dataset/000138.json",
    "MODEL_CONFIG_PATH": "config/model/000004.json",
    "PROFILE_REPORTING": false
   },
   "start_time": "2021-04-04T23:28:44.131978",
   "version": "2.3.3"
  }
 },
 "nbformat": 4,
 "nbformat_minor": 5
}