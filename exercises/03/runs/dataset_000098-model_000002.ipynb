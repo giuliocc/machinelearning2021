{
 "cells": [
  {
   "cell_type": "markdown",
   "id": "51c71c25",
   "metadata": {
    "papermill": {
     "duration": 0.033732,
     "end_time": "2021-04-04T23:12:01.991685",
     "exception": false,
     "start_time": "2021-04-04T23:12:01.957953",
     "status": "completed"
    },
    "tags": []
   },
   "source": [
    "# Parametrizing"
   ]
  },
  {
   "cell_type": "code",
   "execution_count": 1,
   "id": "3b136394",
   "metadata": {
    "execution": {
     "iopub.execute_input": "2021-04-04T23:12:02.044235Z",
     "iopub.status.busy": "2021-04-04T23:12:02.043215Z",
     "iopub.status.idle": "2021-04-04T23:12:02.047347Z",
     "shell.execute_reply": "2021-04-04T23:12:02.046283Z"
    },
    "papermill": {
     "duration": 0.036258,
     "end_time": "2021-04-04T23:12:02.047561",
     "exception": false,
     "start_time": "2021-04-04T23:12:02.011303",
     "status": "completed"
    },
    "tags": [
     "parameters"
    ]
   },
   "outputs": [],
   "source": [
    "DATASET_CONFIG_PATH = 'config/dataset/kc1_001.json'\n",
    "MODEL_CONFIG_PATH = 'config/model/knndd_001.json'\n",
    "PROFILE_REPORTING = False"
   ]
  },
  {
   "cell_type": "code",
   "execution_count": 2,
   "id": "63ae9e65",
   "metadata": {
    "execution": {
     "iopub.execute_input": "2021-04-04T23:12:02.101421Z",
     "iopub.status.busy": "2021-04-04T23:12:02.100201Z",
     "iopub.status.idle": "2021-04-04T23:12:02.103951Z",
     "shell.execute_reply": "2021-04-04T23:12:02.103058Z"
    },
    "papermill": {
     "duration": 0.028096,
     "end_time": "2021-04-04T23:12:02.104149",
     "exception": false,
     "start_time": "2021-04-04T23:12:02.076053",
     "status": "completed"
    },
    "tags": [
     "injected-parameters"
    ]
   },
   "outputs": [],
   "source": [
    "# Parameters\n",
    "DATASET_CONFIG_PATH = \"config/dataset/000098.json\"\n",
    "MODEL_CONFIG_PATH = \"config/model/000002.json\"\n",
    "PROFILE_REPORTING = False\n"
   ]
  },
  {
   "cell_type": "code",
   "execution_count": 3,
   "id": "b80f2a10",
   "metadata": {
    "execution": {
     "iopub.execute_input": "2021-04-04T23:12:02.151357Z",
     "iopub.status.busy": "2021-04-04T23:12:02.150572Z",
     "iopub.status.idle": "2021-04-04T23:12:02.152974Z",
     "shell.execute_reply": "2021-04-04T23:12:02.153665Z"
    },
    "papermill": {
     "duration": 0.028899,
     "end_time": "2021-04-04T23:12:02.153859",
     "exception": false,
     "start_time": "2021-04-04T23:12:02.124960",
     "status": "completed"
    },
    "tags": []
   },
   "outputs": [],
   "source": [
    "import json\n",
    "\n",
    "\n",
    "with open(DATASET_CONFIG_PATH) as f:\n",
    "    dataset_config = json.load(f)\n",
    "\n",
    "with open(MODEL_CONFIG_PATH) as f:\n",
    "    model_config = json.load(f)"
   ]
  },
  {
   "cell_type": "markdown",
   "id": "9a4b0e2d",
   "metadata": {
    "papermill": {
     "duration": 0.019273,
     "end_time": "2021-04-04T23:12:02.200333",
     "exception": false,
     "start_time": "2021-04-04T23:12:02.181060",
     "status": "completed"
    },
    "tags": []
   },
   "source": [
    "# Profiling"
   ]
  },
  {
   "cell_type": "code",
   "execution_count": 4,
   "id": "a3e0289b",
   "metadata": {
    "execution": {
     "iopub.execute_input": "2021-04-04T23:12:02.244408Z",
     "iopub.status.busy": "2021-04-04T23:12:02.243381Z",
     "iopub.status.idle": "2021-04-04T23:12:03.510970Z",
     "shell.execute_reply": "2021-04-04T23:12:03.510095Z"
    },
    "papermill": {
     "duration": 1.291221,
     "end_time": "2021-04-04T23:12:03.511135",
     "exception": false,
     "start_time": "2021-04-04T23:12:02.219914",
     "status": "completed"
    },
    "tags": []
   },
   "outputs": [],
   "source": [
    "import pandas as pd\n",
    "from pandas_profiling import ProfileReport"
   ]
  },
  {
   "cell_type": "code",
   "execution_count": 5,
   "id": "ee6c0666",
   "metadata": {
    "execution": {
     "iopub.execute_input": "2021-04-04T23:12:03.562681Z",
     "iopub.status.busy": "2021-04-04T23:12:03.562031Z",
     "iopub.status.idle": "2021-04-04T23:12:03.572526Z",
     "shell.execute_reply": "2021-04-04T23:12:03.572001Z"
    },
    "papermill": {
     "duration": 0.035612,
     "end_time": "2021-04-04T23:12:03.572646",
     "exception": false,
     "start_time": "2021-04-04T23:12:03.537034",
     "status": "completed"
    },
    "tags": []
   },
   "outputs": [],
   "source": [
    "df = pd.read_csv(dataset_config['dataset_path'])"
   ]
  },
  {
   "cell_type": "code",
   "execution_count": 6,
   "id": "7eca6c4a",
   "metadata": {
    "execution": {
     "iopub.execute_input": "2021-04-04T23:12:03.632765Z",
     "iopub.status.busy": "2021-04-04T23:12:03.631458Z",
     "iopub.status.idle": "2021-04-04T23:12:03.636649Z",
     "shell.execute_reply": "2021-04-04T23:12:03.635680Z"
    },
    "papermill": {
     "duration": 0.044404,
     "end_time": "2021-04-04T23:12:03.636848",
     "exception": false,
     "start_time": "2021-04-04T23:12:03.592444",
     "status": "completed"
    },
    "tags": []
   },
   "outputs": [
    {
     "name": "stdout",
     "output_type": "stream",
     "text": [
      "<class 'pandas.core.frame.DataFrame'>\n",
      "RangeIndex: 498 entries, 0 to 497\n",
      "Data columns (total 23 columns):\n",
      " #   Column             Non-Null Count  Dtype  \n",
      "---  ------             --------------  -----  \n",
      " 0   id                 498 non-null    int64  \n",
      " 1   loc                498 non-null    float64\n",
      " 2   v(g)               498 non-null    float64\n",
      " 3   ev(g)              498 non-null    float64\n",
      " 4   iv(g)              498 non-null    float64\n",
      " 5   n                  498 non-null    float64\n",
      " 6   v                  498 non-null    float64\n",
      " 7   l                  498 non-null    float64\n",
      " 8   d                  498 non-null    float64\n",
      " 9   i                  498 non-null    float64\n",
      " 10  e                  498 non-null    float64\n",
      " 11  b                  498 non-null    float64\n",
      " 12  t                  498 non-null    float64\n",
      " 13  lOCode             498 non-null    int64  \n",
      " 14  lOComment          498 non-null    int64  \n",
      " 15  lOBlank            498 non-null    int64  \n",
      " 16  locCodeAndComment  498 non-null    int64  \n",
      " 17  uniq_Op            498 non-null    float64\n",
      " 18  uniq_Opnd          498 non-null    float64\n",
      " 19  total_Op           498 non-null    float64\n",
      " 20  total_Opnd         498 non-null    float64\n",
      " 21  branchCount        498 non-null    float64\n",
      " 22  defects            498 non-null    bool   \n",
      "dtypes: bool(1), float64(17), int64(5)\n",
      "memory usage: 86.2 KB\n"
     ]
    }
   ],
   "source": [
    "df.info()"
   ]
  },
  {
   "cell_type": "code",
   "execution_count": 7,
   "id": "3638e5e8",
   "metadata": {
    "execution": {
     "iopub.execute_input": "2021-04-04T23:12:03.690884Z",
     "iopub.status.busy": "2021-04-04T23:12:03.690045Z",
     "iopub.status.idle": "2021-04-04T23:12:03.718069Z",
     "shell.execute_reply": "2021-04-04T23:12:03.718919Z"
    },
    "papermill": {
     "duration": 0.057913,
     "end_time": "2021-04-04T23:12:03.719176",
     "exception": false,
     "start_time": "2021-04-04T23:12:03.661263",
     "status": "completed"
    },
    "tags": []
   },
   "outputs": [
    {
     "data": {
      "text/html": [
       "<div>\n",
       "<style scoped>\n",
       "    .dataframe tbody tr th:only-of-type {\n",
       "        vertical-align: middle;\n",
       "    }\n",
       "\n",
       "    .dataframe tbody tr th {\n",
       "        vertical-align: top;\n",
       "    }\n",
       "\n",
       "    .dataframe thead th {\n",
       "        text-align: right;\n",
       "    }\n",
       "</style>\n",
       "<table border=\"1\" class=\"dataframe\">\n",
       "  <thead>\n",
       "    <tr style=\"text-align: right;\">\n",
       "      <th></th>\n",
       "      <th>id</th>\n",
       "      <th>loc</th>\n",
       "      <th>v(g)</th>\n",
       "      <th>ev(g)</th>\n",
       "      <th>iv(g)</th>\n",
       "      <th>n</th>\n",
       "      <th>v</th>\n",
       "      <th>l</th>\n",
       "      <th>d</th>\n",
       "      <th>i</th>\n",
       "      <th>...</th>\n",
       "      <th>lOCode</th>\n",
       "      <th>lOComment</th>\n",
       "      <th>lOBlank</th>\n",
       "      <th>locCodeAndComment</th>\n",
       "      <th>uniq_Op</th>\n",
       "      <th>uniq_Opnd</th>\n",
       "      <th>total_Op</th>\n",
       "      <th>total_Opnd</th>\n",
       "      <th>branchCount</th>\n",
       "      <th>defects</th>\n",
       "    </tr>\n",
       "  </thead>\n",
       "  <tbody>\n",
       "    <tr>\n",
       "      <th>0</th>\n",
       "      <td>1</td>\n",
       "      <td>1.1</td>\n",
       "      <td>1.4</td>\n",
       "      <td>1.4</td>\n",
       "      <td>1.4</td>\n",
       "      <td>1.3</td>\n",
       "      <td>1.30</td>\n",
       "      <td>1.30</td>\n",
       "      <td>1.30</td>\n",
       "      <td>1.30</td>\n",
       "      <td>...</td>\n",
       "      <td>2</td>\n",
       "      <td>2</td>\n",
       "      <td>2</td>\n",
       "      <td>2</td>\n",
       "      <td>1.2</td>\n",
       "      <td>1.2</td>\n",
       "      <td>1.2</td>\n",
       "      <td>1.2</td>\n",
       "      <td>1.4</td>\n",
       "      <td>False</td>\n",
       "    </tr>\n",
       "    <tr>\n",
       "      <th>1</th>\n",
       "      <td>2</td>\n",
       "      <td>1.0</td>\n",
       "      <td>1.0</td>\n",
       "      <td>1.0</td>\n",
       "      <td>1.0</td>\n",
       "      <td>1.0</td>\n",
       "      <td>1.00</td>\n",
       "      <td>1.00</td>\n",
       "      <td>1.00</td>\n",
       "      <td>1.00</td>\n",
       "      <td>...</td>\n",
       "      <td>1</td>\n",
       "      <td>1</td>\n",
       "      <td>1</td>\n",
       "      <td>1</td>\n",
       "      <td>1.0</td>\n",
       "      <td>1.0</td>\n",
       "      <td>1.0</td>\n",
       "      <td>1.0</td>\n",
       "      <td>1.0</td>\n",
       "      <td>True</td>\n",
       "    </tr>\n",
       "    <tr>\n",
       "      <th>2</th>\n",
       "      <td>3</td>\n",
       "      <td>24.0</td>\n",
       "      <td>5.0</td>\n",
       "      <td>1.0</td>\n",
       "      <td>3.0</td>\n",
       "      <td>63.0</td>\n",
       "      <td>309.13</td>\n",
       "      <td>0.11</td>\n",
       "      <td>9.50</td>\n",
       "      <td>32.54</td>\n",
       "      <td>...</td>\n",
       "      <td>1</td>\n",
       "      <td>0</td>\n",
       "      <td>6</td>\n",
       "      <td>0</td>\n",
       "      <td>15.0</td>\n",
       "      <td>15.0</td>\n",
       "      <td>44.0</td>\n",
       "      <td>19.0</td>\n",
       "      <td>9.0</td>\n",
       "      <td>False</td>\n",
       "    </tr>\n",
       "    <tr>\n",
       "      <th>3</th>\n",
       "      <td>4</td>\n",
       "      <td>20.0</td>\n",
       "      <td>4.0</td>\n",
       "      <td>4.0</td>\n",
       "      <td>2.0</td>\n",
       "      <td>47.0</td>\n",
       "      <td>215.49</td>\n",
       "      <td>0.06</td>\n",
       "      <td>16.00</td>\n",
       "      <td>13.47</td>\n",
       "      <td>...</td>\n",
       "      <td>0</td>\n",
       "      <td>0</td>\n",
       "      <td>3</td>\n",
       "      <td>0</td>\n",
       "      <td>16.0</td>\n",
       "      <td>8.0</td>\n",
       "      <td>31.0</td>\n",
       "      <td>16.0</td>\n",
       "      <td>7.0</td>\n",
       "      <td>False</td>\n",
       "    </tr>\n",
       "    <tr>\n",
       "      <th>4</th>\n",
       "      <td>5</td>\n",
       "      <td>24.0</td>\n",
       "      <td>6.0</td>\n",
       "      <td>6.0</td>\n",
       "      <td>2.0</td>\n",
       "      <td>72.0</td>\n",
       "      <td>346.13</td>\n",
       "      <td>0.06</td>\n",
       "      <td>17.33</td>\n",
       "      <td>19.97</td>\n",
       "      <td>...</td>\n",
       "      <td>0</td>\n",
       "      <td>0</td>\n",
       "      <td>3</td>\n",
       "      <td>0</td>\n",
       "      <td>16.0</td>\n",
       "      <td>12.0</td>\n",
       "      <td>46.0</td>\n",
       "      <td>26.0</td>\n",
       "      <td>11.0</td>\n",
       "      <td>False</td>\n",
       "    </tr>\n",
       "  </tbody>\n",
       "</table>\n",
       "<p>5 rows × 23 columns</p>\n",
       "</div>"
      ],
      "text/plain": [
       "   id   loc  v(g)  ev(g)  iv(g)     n       v     l      d      i  ...  \\\n",
       "0   1   1.1   1.4    1.4    1.4   1.3    1.30  1.30   1.30   1.30  ...   \n",
       "1   2   1.0   1.0    1.0    1.0   1.0    1.00  1.00   1.00   1.00  ...   \n",
       "2   3  24.0   5.0    1.0    3.0  63.0  309.13  0.11   9.50  32.54  ...   \n",
       "3   4  20.0   4.0    4.0    2.0  47.0  215.49  0.06  16.00  13.47  ...   \n",
       "4   5  24.0   6.0    6.0    2.0  72.0  346.13  0.06  17.33  19.97  ...   \n",
       "\n",
       "   lOCode  lOComment  lOBlank  locCodeAndComment  uniq_Op  uniq_Opnd  \\\n",
       "0       2          2        2                  2      1.2        1.2   \n",
       "1       1          1        1                  1      1.0        1.0   \n",
       "2       1          0        6                  0     15.0       15.0   \n",
       "3       0          0        3                  0     16.0        8.0   \n",
       "4       0          0        3                  0     16.0       12.0   \n",
       "\n",
       "   total_Op  total_Opnd  branchCount  defects  \n",
       "0       1.2         1.2          1.4    False  \n",
       "1       1.0         1.0          1.0     True  \n",
       "2      44.0        19.0          9.0    False  \n",
       "3      31.0        16.0          7.0    False  \n",
       "4      46.0        26.0         11.0    False  \n",
       "\n",
       "[5 rows x 23 columns]"
      ]
     },
     "execution_count": 7,
     "metadata": {},
     "output_type": "execute_result"
    }
   ],
   "source": [
    "df.head()"
   ]
  },
  {
   "cell_type": "code",
   "execution_count": 8,
   "id": "733e95eb",
   "metadata": {
    "execution": {
     "iopub.execute_input": "2021-04-04T23:12:03.778045Z",
     "iopub.status.busy": "2021-04-04T23:12:03.777074Z",
     "iopub.status.idle": "2021-04-04T23:12:03.779277Z",
     "shell.execute_reply": "2021-04-04T23:12:03.779991Z"
    },
    "papermill": {
     "duration": 0.032407,
     "end_time": "2021-04-04T23:12:03.780196",
     "exception": false,
     "start_time": "2021-04-04T23:12:03.747789",
     "status": "completed"
    },
    "tags": []
   },
   "outputs": [],
   "source": [
    "del df['id']"
   ]
  },
  {
   "cell_type": "code",
   "execution_count": 9,
   "id": "6ff6f5b0",
   "metadata": {
    "execution": {
     "iopub.execute_input": "2021-04-04T23:12:03.831732Z",
     "iopub.status.busy": "2021-04-04T23:12:03.831016Z",
     "iopub.status.idle": "2021-04-04T23:12:03.833133Z",
     "shell.execute_reply": "2021-04-04T23:12:03.833616Z"
    },
    "papermill": {
     "duration": 0.028687,
     "end_time": "2021-04-04T23:12:03.833759",
     "exception": false,
     "start_time": "2021-04-04T23:12:03.805072",
     "status": "completed"
    },
    "tags": []
   },
   "outputs": [],
   "source": [
    "if PROFILE_REPORTING:\n",
    "    ProfileReport(df).to_widgets()"
   ]
  },
  {
   "cell_type": "markdown",
   "id": "1deaf3f0",
   "metadata": {
    "papermill": {
     "duration": 0.020913,
     "end_time": "2021-04-04T23:12:03.879168",
     "exception": false,
     "start_time": "2021-04-04T23:12:03.858255",
     "status": "completed"
    },
    "tags": []
   },
   "source": [
    "# Preprocess"
   ]
  },
  {
   "cell_type": "code",
   "execution_count": 10,
   "id": "1513e563",
   "metadata": {
    "execution": {
     "iopub.execute_input": "2021-04-04T23:12:03.927110Z",
     "iopub.status.busy": "2021-04-04T23:12:03.926291Z",
     "iopub.status.idle": "2021-04-04T23:12:03.928973Z",
     "shell.execute_reply": "2021-04-04T23:12:03.929855Z"
    },
    "papermill": {
     "duration": 0.02978,
     "end_time": "2021-04-04T23:12:03.930103",
     "exception": false,
     "start_time": "2021-04-04T23:12:03.900323",
     "status": "completed"
    },
    "tags": []
   },
   "outputs": [],
   "source": [
    "working_df = df.copy()"
   ]
  },
  {
   "cell_type": "code",
   "execution_count": 11,
   "id": "3b26d675",
   "metadata": {
    "execution": {
     "iopub.execute_input": "2021-04-04T23:12:03.982938Z",
     "iopub.status.busy": "2021-04-04T23:12:03.982284Z",
     "iopub.status.idle": "2021-04-04T23:12:03.985020Z",
     "shell.execute_reply": "2021-04-04T23:12:03.984508Z"
    },
    "papermill": {
     "duration": 0.030448,
     "end_time": "2021-04-04T23:12:03.985141",
     "exception": false,
     "start_time": "2021-04-04T23:12:03.954693",
     "status": "completed"
    },
    "tags": []
   },
   "outputs": [],
   "source": [
    "working_df['defects'] = working_df['defects'].replace([False, True], [0, 1])"
   ]
  },
  {
   "cell_type": "code",
   "execution_count": 12,
   "id": "eb48604f",
   "metadata": {
    "execution": {
     "iopub.execute_input": "2021-04-04T23:12:04.039835Z",
     "iopub.status.busy": "2021-04-04T23:12:04.038607Z",
     "iopub.status.idle": "2021-04-04T23:12:04.041379Z",
     "shell.execute_reply": "2021-04-04T23:12:04.041875Z"
    },
    "papermill": {
     "duration": 0.030255,
     "end_time": "2021-04-04T23:12:04.042022",
     "exception": false,
     "start_time": "2021-04-04T23:12:04.011767",
     "status": "completed"
    },
    "tags": []
   },
   "outputs": [],
   "source": [
    "for col in dataset_config['delete_columns']:\n",
    "    del working_df[col]"
   ]
  },
  {
   "cell_type": "code",
   "execution_count": 13,
   "id": "9a17bc29",
   "metadata": {
    "execution": {
     "iopub.execute_input": "2021-04-04T23:12:04.096930Z",
     "iopub.status.busy": "2021-04-04T23:12:04.096050Z",
     "iopub.status.idle": "2021-04-04T23:12:04.105000Z",
     "shell.execute_reply": "2021-04-04T23:12:04.103947Z"
    },
    "papermill": {
     "duration": 0.037629,
     "end_time": "2021-04-04T23:12:04.105202",
     "exception": false,
     "start_time": "2021-04-04T23:12:04.067573",
     "status": "completed"
    },
    "tags": []
   },
   "outputs": [],
   "source": [
    "working_df = working_df.drop_duplicates()"
   ]
  },
  {
   "cell_type": "markdown",
   "id": "a4d52ca6",
   "metadata": {
    "papermill": {
     "duration": 0.021588,
     "end_time": "2021-04-04T23:12:04.155849",
     "exception": false,
     "start_time": "2021-04-04T23:12:04.134261",
     "status": "completed"
    },
    "tags": []
   },
   "source": [
    "# Split"
   ]
  },
  {
   "cell_type": "code",
   "execution_count": 14,
   "id": "3e9ee4b5",
   "metadata": {
    "execution": {
     "iopub.execute_input": "2021-04-04T23:12:04.204628Z",
     "iopub.status.busy": "2021-04-04T23:12:04.203965Z",
     "iopub.status.idle": "2021-04-04T23:12:04.239431Z",
     "shell.execute_reply": "2021-04-04T23:12:04.238378Z"
    },
    "papermill": {
     "duration": 0.061819,
     "end_time": "2021-04-04T23:12:04.239633",
     "exception": false,
     "start_time": "2021-04-04T23:12:04.177814",
     "status": "completed"
    },
    "tags": []
   },
   "outputs": [],
   "source": [
    "from sklearn.model_selection import train_test_split"
   ]
  },
  {
   "cell_type": "code",
   "execution_count": 15,
   "id": "274004ce",
   "metadata": {
    "execution": {
     "iopub.execute_input": "2021-04-04T23:12:04.301505Z",
     "iopub.status.busy": "2021-04-04T23:12:04.300885Z",
     "iopub.status.idle": "2021-04-04T23:12:04.307889Z",
     "shell.execute_reply": "2021-04-04T23:12:04.309117Z"
    },
    "papermill": {
     "duration": 0.035684,
     "end_time": "2021-04-04T23:12:04.309375",
     "exception": false,
     "start_time": "2021-04-04T23:12:04.273691",
     "status": "completed"
    },
    "scrolled": true,
    "tags": []
   },
   "outputs": [],
   "source": [
    "inlier, outlier = working_df[working_df['defects'] == 0], working_df[working_df['defects'] == 1]"
   ]
  },
  {
   "cell_type": "code",
   "execution_count": 16,
   "id": "753c7b03",
   "metadata": {
    "execution": {
     "iopub.execute_input": "2021-04-04T23:12:04.365874Z",
     "iopub.status.busy": "2021-04-04T23:12:04.364927Z",
     "iopub.status.idle": "2021-04-04T23:12:04.369873Z",
     "shell.execute_reply": "2021-04-04T23:12:04.370576Z"
    },
    "papermill": {
     "duration": 0.036085,
     "end_time": "2021-04-04T23:12:04.370778",
     "exception": false,
     "start_time": "2021-04-04T23:12:04.334693",
     "status": "completed"
    },
    "tags": []
   },
   "outputs": [],
   "source": [
    "X_inlier = inlier.copy()\n",
    "y_inlier = X_inlier.pop('defects')\n",
    "X_outlier = outlier.copy()\n",
    "y_outlier = X_outlier.pop('defects')"
   ]
  },
  {
   "cell_type": "code",
   "execution_count": 17,
   "id": "2ba43193",
   "metadata": {
    "execution": {
     "iopub.execute_input": "2021-04-04T23:12:04.435321Z",
     "iopub.status.busy": "2021-04-04T23:12:04.434528Z",
     "iopub.status.idle": "2021-04-04T23:12:04.437085Z",
     "shell.execute_reply": "2021-04-04T23:12:04.437885Z"
    },
    "papermill": {
     "duration": 0.035419,
     "end_time": "2021-04-04T23:12:04.438106",
     "exception": false,
     "start_time": "2021-04-04T23:12:04.402687",
     "status": "completed"
    },
    "tags": []
   },
   "outputs": [],
   "source": [
    "test_size = dataset_config['test_size']\n",
    "random_state = dataset_config['random_state']\n",
    "\n",
    "X_inlier_train, X_inlier_test, y_inlier_train, y_inlier_test = train_test_split(\n",
    "    X_inlier,\n",
    "    y_inlier,\n",
    "    test_size=test_size,\n",
    "    random_state=random_state\n",
    ")"
   ]
  },
  {
   "cell_type": "code",
   "execution_count": 18,
   "id": "0b7582ca",
   "metadata": {
    "execution": {
     "iopub.execute_input": "2021-04-04T23:12:04.495913Z",
     "iopub.status.busy": "2021-04-04T23:12:04.494776Z",
     "iopub.status.idle": "2021-04-04T23:12:04.497455Z",
     "shell.execute_reply": "2021-04-04T23:12:04.498632Z"
    },
    "papermill": {
     "duration": 0.034721,
     "end_time": "2021-04-04T23:12:04.498890",
     "exception": false,
     "start_time": "2021-04-04T23:12:04.464169",
     "status": "completed"
    },
    "tags": []
   },
   "outputs": [],
   "source": [
    "test_outlier_size = dataset_config['test_outlier_size']\n",
    "if test_outlier_size > 0.0:\n",
    "    X_outlier_train, X_outlier_test, y_outlier_train, y_outlier_test = train_test_split(\n",
    "        X_outlier,\n",
    "        y_outlier,\n",
    "        test_size=test_outlier_size,\n",
    "        random_state=random_state\n",
    "    )\n",
    "else:\n",
    "    X_outlier_train, y_outlier_train = pd.DataFrame(columns=X_outlier.columns), pd.Series(dtype='int64')\n",
    "    X_outlier_test, y_outlier_test = X_outlier.copy(), y_outlier.copy()"
   ]
  },
  {
   "cell_type": "code",
   "execution_count": 19,
   "id": "c34363db",
   "metadata": {
    "execution": {
     "iopub.execute_input": "2021-04-04T23:12:04.559018Z",
     "iopub.status.busy": "2021-04-04T23:12:04.558259Z",
     "iopub.status.idle": "2021-04-04T23:12:04.560531Z",
     "shell.execute_reply": "2021-04-04T23:12:04.561240Z"
    },
    "papermill": {
     "duration": 0.035907,
     "end_time": "2021-04-04T23:12:04.561441",
     "exception": false,
     "start_time": "2021-04-04T23:12:04.525534",
     "status": "completed"
    },
    "tags": []
   },
   "outputs": [],
   "source": [
    "X_train, y_train = pd.concat([X_inlier_train, X_outlier_train], ignore_index=True), pd.concat([y_inlier_train, y_outlier_train], ignore_index=True)\n",
    "X_test, y_test = pd.concat([X_inlier_test, X_outlier_test], ignore_index=True), pd.concat([y_inlier_test, y_outlier_test], ignore_index=True)"
   ]
  },
  {
   "cell_type": "markdown",
   "id": "7cde7309",
   "metadata": {
    "papermill": {
     "duration": 0.022181,
     "end_time": "2021-04-04T23:12:04.611858",
     "exception": false,
     "start_time": "2021-04-04T23:12:04.589677",
     "status": "completed"
    },
    "tags": []
   },
   "source": [
    "# Model"
   ]
  },
  {
   "cell_type": "code",
   "execution_count": 20,
   "id": "2b12a415",
   "metadata": {
    "execution": {
     "iopub.execute_input": "2021-04-04T23:12:04.670579Z",
     "iopub.status.busy": "2021-04-04T23:12:04.669715Z",
     "iopub.status.idle": "2021-04-04T23:12:04.671694Z",
     "shell.execute_reply": "2021-04-04T23:12:04.672202Z"
    },
    "papermill": {
     "duration": 0.038291,
     "end_time": "2021-04-04T23:12:04.672347",
     "exception": false,
     "start_time": "2021-04-04T23:12:04.634056",
     "status": "completed"
    },
    "tags": []
   },
   "outputs": [],
   "source": [
    "from math import sqrt\n",
    "\n",
    "\n",
    "class KNNDataDescription:\n",
    "    def __init__(self, k=5, outlier_threshold=1.0):\n",
    "        self.k = k\n",
    "        self.outlier_threshold = outlier_threshold\n",
    "        self.X = []\n",
    "    \n",
    "    def fit(self, X):\n",
    "        self.X = [features.to_list() for index, features in X.iterrows()]\n",
    "\n",
    "    def predict(self, entries):\n",
    "        return [self.predict_entry(features.to_list()) for index, features in entries.iterrows()]\n",
    "    \n",
    "    def predict_entry(self, entry):\n",
    "        kth_neighbor, kth_distance = self.get_kth_neighbor(entry, self.k)\n",
    "        kth_kth_neighbor, kth_kth_distance = self.get_kth_neighbor(kth_neighbor, self.k + 1)\n",
    "\n",
    "        outlier_score = kth_distance / (kth_kth_distance + 0.000001)\n",
    "\n",
    "        return 1 if outlier_score < self.outlier_threshold else -1\n",
    "        \n",
    "    def euclidean_distance(self, features1, features2):\n",
    "        distance = 0.0\n",
    "        for feat1, feat2 in zip(features1, features2):\n",
    "            distance += (feat1 - feat2)**2\n",
    "                \n",
    "        return sqrt(distance)\n",
    "\n",
    "    def get_neighbors(self, entry, k):\n",
    "        distance_to_data_points = [\n",
    "            (data_point, self.euclidean_distance(entry, data_point))\n",
    "            for data_point in self.X\n",
    "        ]\n",
    "        sorted_by_distance = sorted(distance_to_data_points, key=lambda tup: tup[1])\n",
    "        neighbors = sorted_by_distance[:k]\n",
    "        return neighbors\n",
    "\n",
    "    def get_kth_neighbor(self, entry, k):\n",
    "        neighbors = self.get_neighbors(entry, k)\n",
    "        return neighbors[-1]\n"
   ]
  },
  {
   "cell_type": "code",
   "execution_count": 21,
   "id": "1fa9ec1c",
   "metadata": {
    "execution": {
     "iopub.execute_input": "2021-04-04T23:12:04.724446Z",
     "iopub.status.busy": "2021-04-04T23:12:04.722983Z",
     "iopub.status.idle": "2021-04-04T23:12:04.750524Z",
     "shell.execute_reply": "2021-04-04T23:12:04.749369Z"
    },
    "papermill": {
     "duration": 0.055163,
     "end_time": "2021-04-04T23:12:04.750729",
     "exception": false,
     "start_time": "2021-04-04T23:12:04.695566",
     "status": "completed"
    },
    "tags": []
   },
   "outputs": [],
   "source": [
    "from sklearn.svm import OneClassSVM\n",
    "\n",
    "\n",
    "models = {\n",
    "    'oneclasssvm': OneClassSVM,\n",
    "    'knndatadescription': KNNDataDescription,\n",
    "}"
   ]
  },
  {
   "cell_type": "code",
   "execution_count": 22,
   "id": "4d72a0b1",
   "metadata": {
    "execution": {
     "iopub.execute_input": "2021-04-04T23:12:04.803374Z",
     "iopub.status.busy": "2021-04-04T23:12:04.802290Z",
     "iopub.status.idle": "2021-04-04T23:12:04.805237Z",
     "shell.execute_reply": "2021-04-04T23:12:04.806026Z"
    },
    "papermill": {
     "duration": 0.030945,
     "end_time": "2021-04-04T23:12:04.806336",
     "exception": false,
     "start_time": "2021-04-04T23:12:04.775391",
     "status": "completed"
    },
    "scrolled": true,
    "tags": []
   },
   "outputs": [],
   "source": [
    "model_cls = models[model_config['model_type']]\n",
    "model = model_cls(**model_config['hyperparameters'])"
   ]
  },
  {
   "cell_type": "markdown",
   "id": "e00cff3b",
   "metadata": {
    "papermill": {
     "duration": 0.022459,
     "end_time": "2021-04-04T23:12:04.856342",
     "exception": false,
     "start_time": "2021-04-04T23:12:04.833883",
     "status": "completed"
    },
    "tags": []
   },
   "source": [
    "# Fit"
   ]
  },
  {
   "cell_type": "code",
   "execution_count": 23,
   "id": "8b2ded89",
   "metadata": {
    "execution": {
     "iopub.execute_input": "2021-04-04T23:12:04.918032Z",
     "iopub.status.busy": "2021-04-04T23:12:04.907660Z",
     "iopub.status.idle": "2021-04-04T23:12:04.932941Z",
     "shell.execute_reply": "2021-04-04T23:12:04.932057Z"
    },
    "papermill": {
     "duration": 0.05324,
     "end_time": "2021-04-04T23:12:04.933110",
     "exception": false,
     "start_time": "2021-04-04T23:12:04.879870",
     "status": "completed"
    },
    "tags": []
   },
   "outputs": [],
   "source": [
    "model.fit(X_train)"
   ]
  },
  {
   "cell_type": "markdown",
   "id": "f99999f7",
   "metadata": {
    "papermill": {
     "duration": 0.023053,
     "end_time": "2021-04-04T23:12:04.989709",
     "exception": false,
     "start_time": "2021-04-04T23:12:04.966656",
     "status": "completed"
    },
    "tags": []
   },
   "source": [
    "# Predict"
   ]
  },
  {
   "cell_type": "code",
   "execution_count": 24,
   "id": "6536fbf7",
   "metadata": {
    "execution": {
     "iopub.execute_input": "2021-04-04T23:12:05.056513Z",
     "iopub.status.busy": "2021-04-04T23:12:05.055847Z",
     "iopub.status.idle": "2021-04-04T23:12:05.385434Z",
     "shell.execute_reply": "2021-04-04T23:12:05.386135Z"
    },
    "papermill": {
     "duration": 0.373696,
     "end_time": "2021-04-04T23:12:05.386333",
     "exception": false,
     "start_time": "2021-04-04T23:12:05.012637",
     "status": "completed"
    },
    "tags": []
   },
   "outputs": [],
   "source": [
    "predictions = model.predict(X_test)"
   ]
  },
  {
   "cell_type": "markdown",
   "id": "aa1c9881",
   "metadata": {
    "papermill": {
     "duration": 0.023243,
     "end_time": "2021-04-04T23:12:05.442333",
     "exception": false,
     "start_time": "2021-04-04T23:12:05.419090",
     "status": "completed"
    },
    "tags": []
   },
   "source": [
    "# Evaluate"
   ]
  },
  {
   "cell_type": "code",
   "execution_count": 25,
   "id": "894f0f04",
   "metadata": {
    "execution": {
     "iopub.execute_input": "2021-04-04T23:12:05.493454Z",
     "iopub.status.busy": "2021-04-04T23:12:05.492373Z",
     "iopub.status.idle": "2021-04-04T23:12:05.494865Z",
     "shell.execute_reply": "2021-04-04T23:12:05.495701Z"
    },
    "papermill": {
     "duration": 0.030897,
     "end_time": "2021-04-04T23:12:05.495930",
     "exception": false,
     "start_time": "2021-04-04T23:12:05.465033",
     "status": "completed"
    },
    "tags": []
   },
   "outputs": [],
   "source": [
    "from sklearn.metrics import f1_score"
   ]
  },
  {
   "cell_type": "code",
   "execution_count": 26,
   "id": "211744d3",
   "metadata": {
    "execution": {
     "iopub.execute_input": "2021-04-04T23:12:05.554710Z",
     "iopub.status.busy": "2021-04-04T23:12:05.553414Z",
     "iopub.status.idle": "2021-04-04T23:12:05.556968Z",
     "shell.execute_reply": "2021-04-04T23:12:05.556106Z"
    },
    "papermill": {
     "duration": 0.032594,
     "end_time": "2021-04-04T23:12:05.557172",
     "exception": false,
     "start_time": "2021-04-04T23:12:05.524578",
     "status": "completed"
    },
    "tags": []
   },
   "outputs": [],
   "source": [
    "y_test = y_test.replace([0, 1], [1, -1])"
   ]
  },
  {
   "cell_type": "code",
   "execution_count": 27,
   "id": "d68a9204",
   "metadata": {
    "execution": {
     "iopub.execute_input": "2021-04-04T23:12:05.624885Z",
     "iopub.status.busy": "2021-04-04T23:12:05.623510Z",
     "iopub.status.idle": "2021-04-04T23:12:05.627297Z",
     "shell.execute_reply": "2021-04-04T23:12:05.626375Z"
    },
    "papermill": {
     "duration": 0.037675,
     "end_time": "2021-04-04T23:12:05.627504",
     "exception": false,
     "start_time": "2021-04-04T23:12:05.589829",
     "status": "completed"
    },
    "tags": []
   },
   "outputs": [],
   "source": [
    "def evaluate(truths, predictions, pos_label, neg_label):\n",
    "    TP = 0\n",
    "    FP = 0\n",
    "    TN = 0\n",
    "    FN = 0\n",
    "\n",
    "    for truth, pred in zip(truths, predictions): \n",
    "        if truth == pred == pos_label:\n",
    "           TP += 1\n",
    "        elif pred == pos_label and truth == neg_label:\n",
    "           FP += 1\n",
    "        elif truth == pred == neg_label:\n",
    "           TN += 1\n",
    "        elif pred == neg_label and truth == pos_label:\n",
    "           FN += 1\n",
    "\n",
    "    precision = TP / (TP + FP)\n",
    "    sensitivity = TP / (TP + FN)\n",
    "    \n",
    "    return {\n",
    "        'true_pos': TP,\n",
    "        'false_pos': FP,\n",
    "        'false_neg': FN,\n",
    "        'true_neg': TN,\n",
    "        'precision': precision,\n",
    "        'sensitivity': sensitivity,\n",
    "        'f1': (2 * (precision * sensitivity)) / (precision + sensitivity)\n",
    "    }\n",
    "\n",
    "score = evaluate(y_test, predictions, pos_label=-1, neg_label=1)"
   ]
  },
  {
   "cell_type": "markdown",
   "id": "93596516",
   "metadata": {
    "papermill": {
     "duration": 0.02315,
     "end_time": "2021-04-04T23:12:05.683572",
     "exception": false,
     "start_time": "2021-04-04T23:12:05.660422",
     "status": "completed"
    },
    "tags": []
   },
   "source": [
    "# Report"
   ]
  },
  {
   "cell_type": "code",
   "execution_count": 28,
   "id": "bea5fba1",
   "metadata": {
    "execution": {
     "iopub.execute_input": "2021-04-04T23:12:05.736665Z",
     "iopub.status.busy": "2021-04-04T23:12:05.736015Z",
     "iopub.status.idle": "2021-04-04T23:12:05.739669Z",
     "shell.execute_reply": "2021-04-04T23:12:05.740441Z"
    },
    "papermill": {
     "duration": 0.033549,
     "end_time": "2021-04-04T23:12:05.740653",
     "exception": false,
     "start_time": "2021-04-04T23:12:05.707104",
     "status": "completed"
    },
    "tags": []
   },
   "outputs": [],
   "source": [
    "import csv\n",
    "\n",
    "\n",
    "dataset_config_name = DATASET_CONFIG_PATH.split('/')[-1].split('.')[0]\n",
    "model_config_name = MODEL_CONFIG_PATH.split('/')[-1].split('.')[0]\n",
    "configuration = f\"dataset_{dataset_config_name}-model_{model_config_name}\"\n",
    "\n",
    "with open('results.csv', 'a') as f:\n",
    "    report = dict({'configuration': configuration}, **score)\n",
    "    writer = csv.DictWriter(f, report.keys())\n",
    "    writer.writerow(report)"
   ]
  }
 ],
 "metadata": {
  "celltoolbar": "Tags",
  "kernelspec": {
   "display_name": "Python 3",
   "language": "python",
   "name": "python3"
  },
  "language_info": {
   "codemirror_mode": {
    "name": "ipython",
    "version": 3
   },
   "file_extension": ".py",
   "mimetype": "text/x-python",
   "name": "python",
   "nbconvert_exporter": "python",
   "pygments_lexer": "ipython3",
   "version": "3.9.1"
  },
  "papermill": {
   "default_parameters": {},
   "duration": 6.033674,
   "end_time": "2021-04-04T23:12:07.037875",
   "environment_variables": {},
   "exception": null,
   "input_path": "main.ipynb",
   "output_path": "runs/dataset_000098-model_000002.ipynb",
   "parameters": {
    "DATASET_CONFIG_PATH": "config/dataset/000098.json",
    "MODEL_CONFIG_PATH": "config/model/000002.json",
    "PROFILE_REPORTING": false
   },
   "start_time": "2021-04-04T23:12:01.004201",
   "version": "2.3.3"
  }
 },
 "nbformat": 4,
 "nbformat_minor": 5
}