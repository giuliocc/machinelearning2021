{
 "cells": [
  {
   "cell_type": "markdown",
   "id": "51c71c25",
   "metadata": {
    "papermill": {
     "duration": 0.021948,
     "end_time": "2021-04-04T23:13:22.918908",
     "exception": false,
     "start_time": "2021-04-04T23:13:22.896960",
     "status": "completed"
    },
    "tags": []
   },
   "source": [
    "# Parametrizing"
   ]
  },
  {
   "cell_type": "code",
   "execution_count": 1,
   "id": "3b136394",
   "metadata": {
    "execution": {
     "iopub.execute_input": "2021-04-04T23:13:22.968331Z",
     "iopub.status.busy": "2021-04-04T23:13:22.967704Z",
     "iopub.status.idle": "2021-04-04T23:13:22.969796Z",
     "shell.execute_reply": "2021-04-04T23:13:22.970326Z"
    },
    "papermill": {
     "duration": 0.031538,
     "end_time": "2021-04-04T23:13:22.970548",
     "exception": false,
     "start_time": "2021-04-04T23:13:22.939010",
     "status": "completed"
    },
    "tags": [
     "parameters"
    ]
   },
   "outputs": [],
   "source": [
    "DATASET_CONFIG_PATH = 'config/dataset/kc1_001.json'\n",
    "MODEL_CONFIG_PATH = 'config/model/knndd_001.json'\n",
    "PROFILE_REPORTING = False"
   ]
  },
  {
   "cell_type": "code",
   "execution_count": 2,
   "id": "d4b3d239",
   "metadata": {
    "execution": {
     "iopub.execute_input": "2021-04-04T23:13:23.017468Z",
     "iopub.status.busy": "2021-04-04T23:13:23.016807Z",
     "iopub.status.idle": "2021-04-04T23:13:23.018953Z",
     "shell.execute_reply": "2021-04-04T23:13:23.019426Z"
    },
    "papermill": {
     "duration": 0.026065,
     "end_time": "2021-04-04T23:13:23.019567",
     "exception": false,
     "start_time": "2021-04-04T23:13:22.993502",
     "status": "completed"
    },
    "tags": [
     "injected-parameters"
    ]
   },
   "outputs": [],
   "source": [
    "# Parameters\n",
    "DATASET_CONFIG_PATH = \"config/dataset/000101.json\"\n",
    "MODEL_CONFIG_PATH = \"config/model/000004.json\"\n",
    "PROFILE_REPORTING = False\n"
   ]
  },
  {
   "cell_type": "code",
   "execution_count": 3,
   "id": "b80f2a10",
   "metadata": {
    "execution": {
     "iopub.execute_input": "2021-04-04T23:13:23.066205Z",
     "iopub.status.busy": "2021-04-04T23:13:23.065356Z",
     "iopub.status.idle": "2021-04-04T23:13:23.068455Z",
     "shell.execute_reply": "2021-04-04T23:13:23.069148Z"
    },
    "papermill": {
     "duration": 0.028717,
     "end_time": "2021-04-04T23:13:23.069344",
     "exception": false,
     "start_time": "2021-04-04T23:13:23.040627",
     "status": "completed"
    },
    "tags": []
   },
   "outputs": [],
   "source": [
    "import json\n",
    "\n",
    "\n",
    "with open(DATASET_CONFIG_PATH) as f:\n",
    "    dataset_config = json.load(f)\n",
    "\n",
    "with open(MODEL_CONFIG_PATH) as f:\n",
    "    model_config = json.load(f)"
   ]
  },
  {
   "cell_type": "markdown",
   "id": "9a4b0e2d",
   "metadata": {
    "papermill": {
     "duration": 0.01926,
     "end_time": "2021-04-04T23:13:23.113219",
     "exception": false,
     "start_time": "2021-04-04T23:13:23.093959",
     "status": "completed"
    },
    "tags": []
   },
   "source": [
    "# Profiling"
   ]
  },
  {
   "cell_type": "code",
   "execution_count": 4,
   "id": "a3e0289b",
   "metadata": {
    "execution": {
     "iopub.execute_input": "2021-04-04T23:13:23.157598Z",
     "iopub.status.busy": "2021-04-04T23:13:23.156561Z",
     "iopub.status.idle": "2021-04-04T23:13:24.420828Z",
     "shell.execute_reply": "2021-04-04T23:13:24.420252Z"
    },
    "papermill": {
     "duration": 1.288297,
     "end_time": "2021-04-04T23:13:24.420959",
     "exception": false,
     "start_time": "2021-04-04T23:13:23.132662",
     "status": "completed"
    },
    "tags": []
   },
   "outputs": [],
   "source": [
    "import pandas as pd\n",
    "from pandas_profiling import ProfileReport"
   ]
  },
  {
   "cell_type": "code",
   "execution_count": 5,
   "id": "ee6c0666",
   "metadata": {
    "execution": {
     "iopub.execute_input": "2021-04-04T23:13:24.467820Z",
     "iopub.status.busy": "2021-04-04T23:13:24.466668Z",
     "iopub.status.idle": "2021-04-04T23:13:24.481097Z",
     "shell.execute_reply": "2021-04-04T23:13:24.479817Z"
    },
    "papermill": {
     "duration": 0.039988,
     "end_time": "2021-04-04T23:13:24.481335",
     "exception": false,
     "start_time": "2021-04-04T23:13:24.441347",
     "status": "completed"
    },
    "tags": []
   },
   "outputs": [],
   "source": [
    "df = pd.read_csv(dataset_config['dataset_path'])"
   ]
  },
  {
   "cell_type": "code",
   "execution_count": 6,
   "id": "7eca6c4a",
   "metadata": {
    "execution": {
     "iopub.execute_input": "2021-04-04T23:13:24.544331Z",
     "iopub.status.busy": "2021-04-04T23:13:24.531639Z",
     "iopub.status.idle": "2021-04-04T23:13:24.548294Z",
     "shell.execute_reply": "2021-04-04T23:13:24.549278Z"
    },
    "papermill": {
     "duration": 0.045065,
     "end_time": "2021-04-04T23:13:24.549553",
     "exception": false,
     "start_time": "2021-04-04T23:13:24.504488",
     "status": "completed"
    },
    "tags": []
   },
   "outputs": [
    {
     "name": "stdout",
     "output_type": "stream",
     "text": [
      "<class 'pandas.core.frame.DataFrame'>\n",
      "RangeIndex: 498 entries, 0 to 497\n",
      "Data columns (total 23 columns):\n",
      " #   Column             Non-Null Count  Dtype  \n",
      "---  ------             --------------  -----  \n",
      " 0   id                 498 non-null    int64  \n",
      " 1   loc                498 non-null    float64\n",
      " 2   v(g)               498 non-null    float64\n",
      " 3   ev(g)              498 non-null    float64\n",
      " 4   iv(g)              498 non-null    float64\n",
      " 5   n                  498 non-null    float64\n",
      " 6   v                  498 non-null    float64\n",
      " 7   l                  498 non-null    float64\n",
      " 8   d                  498 non-null    float64\n",
      " 9   i                  498 non-null    float64\n",
      " 10  e                  498 non-null    float64\n",
      " 11  b                  498 non-null    float64\n",
      " 12  t                  498 non-null    float64\n",
      " 13  lOCode             498 non-null    int64  \n",
      " 14  lOComment          498 non-null    int64  \n",
      " 15  lOBlank            498 non-null    int64  \n",
      " 16  locCodeAndComment  498 non-null    int64  \n",
      " 17  uniq_Op            498 non-null    float64\n",
      " 18  uniq_Opnd          498 non-null    float64\n",
      " 19  total_Op           498 non-null    float64\n",
      " 20  total_Opnd         498 non-null    float64\n",
      " 21  branchCount        498 non-null    float64\n",
      " 22  defects            498 non-null    bool   \n",
      "dtypes: bool(1), float64(17), int64(5)\n",
      "memory usage: 86.2 KB\n"
     ]
    }
   ],
   "source": [
    "df.info()"
   ]
  },
  {
   "cell_type": "code",
   "execution_count": 7,
   "id": "3638e5e8",
   "metadata": {
    "execution": {
     "iopub.execute_input": "2021-04-04T23:13:24.605927Z",
     "iopub.status.busy": "2021-04-04T23:13:24.604526Z",
     "iopub.status.idle": "2021-04-04T23:13:24.640531Z",
     "shell.execute_reply": "2021-04-04T23:13:24.639518Z"
    },
    "papermill": {
     "duration": 0.066092,
     "end_time": "2021-04-04T23:13:24.640755",
     "exception": false,
     "start_time": "2021-04-04T23:13:24.574663",
     "status": "completed"
    },
    "tags": []
   },
   "outputs": [
    {
     "data": {
      "text/html": [
       "<div>\n",
       "<style scoped>\n",
       "    .dataframe tbody tr th:only-of-type {\n",
       "        vertical-align: middle;\n",
       "    }\n",
       "\n",
       "    .dataframe tbody tr th {\n",
       "        vertical-align: top;\n",
       "    }\n",
       "\n",
       "    .dataframe thead th {\n",
       "        text-align: right;\n",
       "    }\n",
       "</style>\n",
       "<table border=\"1\" class=\"dataframe\">\n",
       "  <thead>\n",
       "    <tr style=\"text-align: right;\">\n",
       "      <th></th>\n",
       "      <th>id</th>\n",
       "      <th>loc</th>\n",
       "      <th>v(g)</th>\n",
       "      <th>ev(g)</th>\n",
       "      <th>iv(g)</th>\n",
       "      <th>n</th>\n",
       "      <th>v</th>\n",
       "      <th>l</th>\n",
       "      <th>d</th>\n",
       "      <th>i</th>\n",
       "      <th>...</th>\n",
       "      <th>lOCode</th>\n",
       "      <th>lOComment</th>\n",
       "      <th>lOBlank</th>\n",
       "      <th>locCodeAndComment</th>\n",
       "      <th>uniq_Op</th>\n",
       "      <th>uniq_Opnd</th>\n",
       "      <th>total_Op</th>\n",
       "      <th>total_Opnd</th>\n",
       "      <th>branchCount</th>\n",
       "      <th>defects</th>\n",
       "    </tr>\n",
       "  </thead>\n",
       "  <tbody>\n",
       "    <tr>\n",
       "      <th>0</th>\n",
       "      <td>1</td>\n",
       "      <td>1.1</td>\n",
       "      <td>1.4</td>\n",
       "      <td>1.4</td>\n",
       "      <td>1.4</td>\n",
       "      <td>1.3</td>\n",
       "      <td>1.30</td>\n",
       "      <td>1.30</td>\n",
       "      <td>1.30</td>\n",
       "      <td>1.30</td>\n",
       "      <td>...</td>\n",
       "      <td>2</td>\n",
       "      <td>2</td>\n",
       "      <td>2</td>\n",
       "      <td>2</td>\n",
       "      <td>1.2</td>\n",
       "      <td>1.2</td>\n",
       "      <td>1.2</td>\n",
       "      <td>1.2</td>\n",
       "      <td>1.4</td>\n",
       "      <td>False</td>\n",
       "    </tr>\n",
       "    <tr>\n",
       "      <th>1</th>\n",
       "      <td>2</td>\n",
       "      <td>1.0</td>\n",
       "      <td>1.0</td>\n",
       "      <td>1.0</td>\n",
       "      <td>1.0</td>\n",
       "      <td>1.0</td>\n",
       "      <td>1.00</td>\n",
       "      <td>1.00</td>\n",
       "      <td>1.00</td>\n",
       "      <td>1.00</td>\n",
       "      <td>...</td>\n",
       "      <td>1</td>\n",
       "      <td>1</td>\n",
       "      <td>1</td>\n",
       "      <td>1</td>\n",
       "      <td>1.0</td>\n",
       "      <td>1.0</td>\n",
       "      <td>1.0</td>\n",
       "      <td>1.0</td>\n",
       "      <td>1.0</td>\n",
       "      <td>True</td>\n",
       "    </tr>\n",
       "    <tr>\n",
       "      <th>2</th>\n",
       "      <td>3</td>\n",
       "      <td>24.0</td>\n",
       "      <td>5.0</td>\n",
       "      <td>1.0</td>\n",
       "      <td>3.0</td>\n",
       "      <td>63.0</td>\n",
       "      <td>309.13</td>\n",
       "      <td>0.11</td>\n",
       "      <td>9.50</td>\n",
       "      <td>32.54</td>\n",
       "      <td>...</td>\n",
       "      <td>1</td>\n",
       "      <td>0</td>\n",
       "      <td>6</td>\n",
       "      <td>0</td>\n",
       "      <td>15.0</td>\n",
       "      <td>15.0</td>\n",
       "      <td>44.0</td>\n",
       "      <td>19.0</td>\n",
       "      <td>9.0</td>\n",
       "      <td>False</td>\n",
       "    </tr>\n",
       "    <tr>\n",
       "      <th>3</th>\n",
       "      <td>4</td>\n",
       "      <td>20.0</td>\n",
       "      <td>4.0</td>\n",
       "      <td>4.0</td>\n",
       "      <td>2.0</td>\n",
       "      <td>47.0</td>\n",
       "      <td>215.49</td>\n",
       "      <td>0.06</td>\n",
       "      <td>16.00</td>\n",
       "      <td>13.47</td>\n",
       "      <td>...</td>\n",
       "      <td>0</td>\n",
       "      <td>0</td>\n",
       "      <td>3</td>\n",
       "      <td>0</td>\n",
       "      <td>16.0</td>\n",
       "      <td>8.0</td>\n",
       "      <td>31.0</td>\n",
       "      <td>16.0</td>\n",
       "      <td>7.0</td>\n",
       "      <td>False</td>\n",
       "    </tr>\n",
       "    <tr>\n",
       "      <th>4</th>\n",
       "      <td>5</td>\n",
       "      <td>24.0</td>\n",
       "      <td>6.0</td>\n",
       "      <td>6.0</td>\n",
       "      <td>2.0</td>\n",
       "      <td>72.0</td>\n",
       "      <td>346.13</td>\n",
       "      <td>0.06</td>\n",
       "      <td>17.33</td>\n",
       "      <td>19.97</td>\n",
       "      <td>...</td>\n",
       "      <td>0</td>\n",
       "      <td>0</td>\n",
       "      <td>3</td>\n",
       "      <td>0</td>\n",
       "      <td>16.0</td>\n",
       "      <td>12.0</td>\n",
       "      <td>46.0</td>\n",
       "      <td>26.0</td>\n",
       "      <td>11.0</td>\n",
       "      <td>False</td>\n",
       "    </tr>\n",
       "  </tbody>\n",
       "</table>\n",
       "<p>5 rows × 23 columns</p>\n",
       "</div>"
      ],
      "text/plain": [
       "   id   loc  v(g)  ev(g)  iv(g)     n       v     l      d      i  ...  \\\n",
       "0   1   1.1   1.4    1.4    1.4   1.3    1.30  1.30   1.30   1.30  ...   \n",
       "1   2   1.0   1.0    1.0    1.0   1.0    1.00  1.00   1.00   1.00  ...   \n",
       "2   3  24.0   5.0    1.0    3.0  63.0  309.13  0.11   9.50  32.54  ...   \n",
       "3   4  20.0   4.0    4.0    2.0  47.0  215.49  0.06  16.00  13.47  ...   \n",
       "4   5  24.0   6.0    6.0    2.0  72.0  346.13  0.06  17.33  19.97  ...   \n",
       "\n",
       "   lOCode  lOComment  lOBlank  locCodeAndComment  uniq_Op  uniq_Opnd  \\\n",
       "0       2          2        2                  2      1.2        1.2   \n",
       "1       1          1        1                  1      1.0        1.0   \n",
       "2       1          0        6                  0     15.0       15.0   \n",
       "3       0          0        3                  0     16.0        8.0   \n",
       "4       0          0        3                  0     16.0       12.0   \n",
       "\n",
       "   total_Op  total_Opnd  branchCount  defects  \n",
       "0       1.2         1.2          1.4    False  \n",
       "1       1.0         1.0          1.0     True  \n",
       "2      44.0        19.0          9.0    False  \n",
       "3      31.0        16.0          7.0    False  \n",
       "4      46.0        26.0         11.0    False  \n",
       "\n",
       "[5 rows x 23 columns]"
      ]
     },
     "execution_count": 7,
     "metadata": {},
     "output_type": "execute_result"
    }
   ],
   "source": [
    "df.head()"
   ]
  },
  {
   "cell_type": "code",
   "execution_count": 8,
   "id": "733e95eb",
   "metadata": {
    "execution": {
     "iopub.execute_input": "2021-04-04T23:13:24.692142Z",
     "iopub.status.busy": "2021-04-04T23:13:24.691355Z",
     "iopub.status.idle": "2021-04-04T23:13:24.694971Z",
     "shell.execute_reply": "2021-04-04T23:13:24.694128Z"
    },
    "papermill": {
     "duration": 0.030351,
     "end_time": "2021-04-04T23:13:24.695133",
     "exception": false,
     "start_time": "2021-04-04T23:13:24.664782",
     "status": "completed"
    },
    "tags": []
   },
   "outputs": [],
   "source": [
    "del df['id']"
   ]
  },
  {
   "cell_type": "code",
   "execution_count": 9,
   "id": "6ff6f5b0",
   "metadata": {
    "execution": {
     "iopub.execute_input": "2021-04-04T23:13:24.753392Z",
     "iopub.status.busy": "2021-04-04T23:13:24.752423Z",
     "iopub.status.idle": "2021-04-04T23:13:24.755296Z",
     "shell.execute_reply": "2021-04-04T23:13:24.754723Z"
    },
    "papermill": {
     "duration": 0.033804,
     "end_time": "2021-04-04T23:13:24.755431",
     "exception": false,
     "start_time": "2021-04-04T23:13:24.721627",
     "status": "completed"
    },
    "tags": []
   },
   "outputs": [],
   "source": [
    "if PROFILE_REPORTING:\n",
    "    ProfileReport(df).to_widgets()"
   ]
  },
  {
   "cell_type": "markdown",
   "id": "1deaf3f0",
   "metadata": {
    "papermill": {
     "duration": 0.020861,
     "end_time": "2021-04-04T23:13:24.799085",
     "exception": false,
     "start_time": "2021-04-04T23:13:24.778224",
     "status": "completed"
    },
    "tags": []
   },
   "source": [
    "# Preprocess"
   ]
  },
  {
   "cell_type": "code",
   "execution_count": 10,
   "id": "1513e563",
   "metadata": {
    "execution": {
     "iopub.execute_input": "2021-04-04T23:13:24.849635Z",
     "iopub.status.busy": "2021-04-04T23:13:24.848574Z",
     "iopub.status.idle": "2021-04-04T23:13:24.851756Z",
     "shell.execute_reply": "2021-04-04T23:13:24.852638Z"
    },
    "papermill": {
     "duration": 0.030612,
     "end_time": "2021-04-04T23:13:24.852876",
     "exception": false,
     "start_time": "2021-04-04T23:13:24.822264",
     "status": "completed"
    },
    "tags": []
   },
   "outputs": [],
   "source": [
    "working_df = df.copy()"
   ]
  },
  {
   "cell_type": "code",
   "execution_count": 11,
   "id": "3b26d675",
   "metadata": {
    "execution": {
     "iopub.execute_input": "2021-04-04T23:13:24.905280Z",
     "iopub.status.busy": "2021-04-04T23:13:24.904454Z",
     "iopub.status.idle": "2021-04-04T23:13:24.906913Z",
     "shell.execute_reply": "2021-04-04T23:13:24.906098Z"
    },
    "papermill": {
     "duration": 0.030812,
     "end_time": "2021-04-04T23:13:24.907075",
     "exception": false,
     "start_time": "2021-04-04T23:13:24.876263",
     "status": "completed"
    },
    "tags": []
   },
   "outputs": [],
   "source": [
    "working_df['defects'] = working_df['defects'].replace([False, True], [0, 1])"
   ]
  },
  {
   "cell_type": "code",
   "execution_count": 12,
   "id": "eb48604f",
   "metadata": {
    "execution": {
     "iopub.execute_input": "2021-04-04T23:13:24.961076Z",
     "iopub.status.busy": "2021-04-04T23:13:24.960032Z",
     "iopub.status.idle": "2021-04-04T23:13:24.962762Z",
     "shell.execute_reply": "2021-04-04T23:13:24.963692Z"
    },
    "papermill": {
     "duration": 0.030147,
     "end_time": "2021-04-04T23:13:24.963940",
     "exception": false,
     "start_time": "2021-04-04T23:13:24.933793",
     "status": "completed"
    },
    "tags": []
   },
   "outputs": [],
   "source": [
    "for col in dataset_config['delete_columns']:\n",
    "    del working_df[col]"
   ]
  },
  {
   "cell_type": "code",
   "execution_count": 13,
   "id": "9a17bc29",
   "metadata": {
    "execution": {
     "iopub.execute_input": "2021-04-04T23:13:25.019194Z",
     "iopub.status.busy": "2021-04-04T23:13:25.018001Z",
     "iopub.status.idle": "2021-04-04T23:13:25.028996Z",
     "shell.execute_reply": "2021-04-04T23:13:25.027967Z"
    },
    "papermill": {
     "duration": 0.040089,
     "end_time": "2021-04-04T23:13:25.029191",
     "exception": false,
     "start_time": "2021-04-04T23:13:24.989102",
     "status": "completed"
    },
    "tags": []
   },
   "outputs": [],
   "source": [
    "working_df = working_df.drop_duplicates()"
   ]
  },
  {
   "cell_type": "markdown",
   "id": "a4d52ca6",
   "metadata": {
    "papermill": {
     "duration": 0.02168,
     "end_time": "2021-04-04T23:13:25.080765",
     "exception": false,
     "start_time": "2021-04-04T23:13:25.059085",
     "status": "completed"
    },
    "tags": []
   },
   "source": [
    "# Split"
   ]
  },
  {
   "cell_type": "code",
   "execution_count": 14,
   "id": "3e9ee4b5",
   "metadata": {
    "execution": {
     "iopub.execute_input": "2021-04-04T23:13:25.130062Z",
     "iopub.status.busy": "2021-04-04T23:13:25.129191Z",
     "iopub.status.idle": "2021-04-04T23:13:25.165590Z",
     "shell.execute_reply": "2021-04-04T23:13:25.164646Z"
    },
    "papermill": {
     "duration": 0.062882,
     "end_time": "2021-04-04T23:13:25.165772",
     "exception": false,
     "start_time": "2021-04-04T23:13:25.102890",
     "status": "completed"
    },
    "tags": []
   },
   "outputs": [],
   "source": [
    "from sklearn.model_selection import train_test_split"
   ]
  },
  {
   "cell_type": "code",
   "execution_count": 15,
   "id": "274004ce",
   "metadata": {
    "execution": {
     "iopub.execute_input": "2021-04-04T23:13:25.224532Z",
     "iopub.status.busy": "2021-04-04T23:13:25.223045Z",
     "iopub.status.idle": "2021-04-04T23:13:25.230188Z",
     "shell.execute_reply": "2021-04-04T23:13:25.229136Z"
    },
    "papermill": {
     "duration": 0.034806,
     "end_time": "2021-04-04T23:13:25.230390",
     "exception": false,
     "start_time": "2021-04-04T23:13:25.195584",
     "status": "completed"
    },
    "scrolled": true,
    "tags": []
   },
   "outputs": [],
   "source": [
    "inlier, outlier = working_df[working_df['defects'] == 0], working_df[working_df['defects'] == 1]"
   ]
  },
  {
   "cell_type": "code",
   "execution_count": 16,
   "id": "753c7b03",
   "metadata": {
    "execution": {
     "iopub.execute_input": "2021-04-04T23:13:25.289434Z",
     "iopub.status.busy": "2021-04-04T23:13:25.288587Z",
     "iopub.status.idle": "2021-04-04T23:13:25.291477Z",
     "shell.execute_reply": "2021-04-04T23:13:25.292301Z"
    },
    "papermill": {
     "duration": 0.032124,
     "end_time": "2021-04-04T23:13:25.292590",
     "exception": false,
     "start_time": "2021-04-04T23:13:25.260466",
     "status": "completed"
    },
    "tags": []
   },
   "outputs": [],
   "source": [
    "X_inlier = inlier.copy()\n",
    "y_inlier = X_inlier.pop('defects')\n",
    "X_outlier = outlier.copy()\n",
    "y_outlier = X_outlier.pop('defects')"
   ]
  },
  {
   "cell_type": "code",
   "execution_count": 17,
   "id": "2ba43193",
   "metadata": {
    "execution": {
     "iopub.execute_input": "2021-04-04T23:13:25.353805Z",
     "iopub.status.busy": "2021-04-04T23:13:25.353170Z",
     "iopub.status.idle": "2021-04-04T23:13:25.356296Z",
     "shell.execute_reply": "2021-04-04T23:13:25.357014Z"
    },
    "papermill": {
     "duration": 0.035978,
     "end_time": "2021-04-04T23:13:25.357201",
     "exception": false,
     "start_time": "2021-04-04T23:13:25.321223",
     "status": "completed"
    },
    "tags": []
   },
   "outputs": [],
   "source": [
    "test_size = dataset_config['test_size']\n",
    "random_state = dataset_config['random_state']\n",
    "\n",
    "X_inlier_train, X_inlier_test, y_inlier_train, y_inlier_test = train_test_split(\n",
    "    X_inlier,\n",
    "    y_inlier,\n",
    "    test_size=test_size,\n",
    "    random_state=random_state\n",
    ")"
   ]
  },
  {
   "cell_type": "code",
   "execution_count": 18,
   "id": "0b7582ca",
   "metadata": {
    "execution": {
     "iopub.execute_input": "2021-04-04T23:13:25.412658Z",
     "iopub.status.busy": "2021-04-04T23:13:25.411974Z",
     "iopub.status.idle": "2021-04-04T23:13:25.414167Z",
     "shell.execute_reply": "2021-04-04T23:13:25.414664Z"
    },
    "papermill": {
     "duration": 0.034035,
     "end_time": "2021-04-04T23:13:25.414814",
     "exception": false,
     "start_time": "2021-04-04T23:13:25.380779",
     "status": "completed"
    },
    "tags": []
   },
   "outputs": [],
   "source": [
    "test_outlier_size = dataset_config['test_outlier_size']\n",
    "if test_outlier_size > 0.0:\n",
    "    X_outlier_train, X_outlier_test, y_outlier_train, y_outlier_test = train_test_split(\n",
    "        X_outlier,\n",
    "        y_outlier,\n",
    "        test_size=test_outlier_size,\n",
    "        random_state=random_state\n",
    "    )\n",
    "else:\n",
    "    X_outlier_train, y_outlier_train = pd.DataFrame(columns=X_outlier.columns), pd.Series(dtype='int64')\n",
    "    X_outlier_test, y_outlier_test = X_outlier.copy(), y_outlier.copy()"
   ]
  },
  {
   "cell_type": "code",
   "execution_count": 19,
   "id": "c34363db",
   "metadata": {
    "execution": {
     "iopub.execute_input": "2021-04-04T23:13:25.475630Z",
     "iopub.status.busy": "2021-04-04T23:13:25.474646Z",
     "iopub.status.idle": "2021-04-04T23:13:25.477712Z",
     "shell.execute_reply": "2021-04-04T23:13:25.478525Z"
    },
    "papermill": {
     "duration": 0.037884,
     "end_time": "2021-04-04T23:13:25.478752",
     "exception": false,
     "start_time": "2021-04-04T23:13:25.440868",
     "status": "completed"
    },
    "tags": []
   },
   "outputs": [],
   "source": [
    "X_train, y_train = pd.concat([X_inlier_train, X_outlier_train], ignore_index=True), pd.concat([y_inlier_train, y_outlier_train], ignore_index=True)\n",
    "X_test, y_test = pd.concat([X_inlier_test, X_outlier_test], ignore_index=True), pd.concat([y_inlier_test, y_outlier_test], ignore_index=True)"
   ]
  },
  {
   "cell_type": "markdown",
   "id": "7cde7309",
   "metadata": {
    "papermill": {
     "duration": 0.022213,
     "end_time": "2021-04-04T23:13:25.526844",
     "exception": false,
     "start_time": "2021-04-04T23:13:25.504631",
     "status": "completed"
    },
    "tags": []
   },
   "source": [
    "# Model"
   ]
  },
  {
   "cell_type": "code",
   "execution_count": 20,
   "id": "2b12a415",
   "metadata": {
    "execution": {
     "iopub.execute_input": "2021-04-04T23:13:25.587288Z",
     "iopub.status.busy": "2021-04-04T23:13:25.586256Z",
     "iopub.status.idle": "2021-04-04T23:13:25.588986Z",
     "shell.execute_reply": "2021-04-04T23:13:25.589877Z"
    },
    "papermill": {
     "duration": 0.040984,
     "end_time": "2021-04-04T23:13:25.590123",
     "exception": false,
     "start_time": "2021-04-04T23:13:25.549139",
     "status": "completed"
    },
    "tags": []
   },
   "outputs": [],
   "source": [
    "from math import sqrt\n",
    "\n",
    "\n",
    "class KNNDataDescription:\n",
    "    def __init__(self, k=5, outlier_threshold=1.0):\n",
    "        self.k = k\n",
    "        self.outlier_threshold = outlier_threshold\n",
    "        self.X = []\n",
    "    \n",
    "    def fit(self, X):\n",
    "        self.X = [features.to_list() for index, features in X.iterrows()]\n",
    "\n",
    "    def predict(self, entries):\n",
    "        return [self.predict_entry(features.to_list()) for index, features in entries.iterrows()]\n",
    "    \n",
    "    def predict_entry(self, entry):\n",
    "        kth_neighbor, kth_distance = self.get_kth_neighbor(entry, self.k)\n",
    "        kth_kth_neighbor, kth_kth_distance = self.get_kth_neighbor(kth_neighbor, self.k + 1)\n",
    "\n",
    "        outlier_score = kth_distance / (kth_kth_distance + 0.000001)\n",
    "\n",
    "        return 1 if outlier_score < self.outlier_threshold else -1\n",
    "        \n",
    "    def euclidean_distance(self, features1, features2):\n",
    "        distance = 0.0\n",
    "        for feat1, feat2 in zip(features1, features2):\n",
    "            distance += (feat1 - feat2)**2\n",
    "                \n",
    "        return sqrt(distance)\n",
    "\n",
    "    def get_neighbors(self, entry, k):\n",
    "        distance_to_data_points = [\n",
    "            (data_point, self.euclidean_distance(entry, data_point))\n",
    "            for data_point in self.X\n",
    "        ]\n",
    "        sorted_by_distance = sorted(distance_to_data_points, key=lambda tup: tup[1])\n",
    "        neighbors = sorted_by_distance[:k]\n",
    "        return neighbors\n",
    "\n",
    "    def get_kth_neighbor(self, entry, k):\n",
    "        neighbors = self.get_neighbors(entry, k)\n",
    "        return neighbors[-1]\n"
   ]
  },
  {
   "cell_type": "code",
   "execution_count": 21,
   "id": "1fa9ec1c",
   "metadata": {
    "execution": {
     "iopub.execute_input": "2021-04-04T23:13:25.643620Z",
     "iopub.status.busy": "2021-04-04T23:13:25.642704Z",
     "iopub.status.idle": "2021-04-04T23:13:25.668674Z",
     "shell.execute_reply": "2021-04-04T23:13:25.668081Z"
    },
    "papermill": {
     "duration": 0.052743,
     "end_time": "2021-04-04T23:13:25.668791",
     "exception": false,
     "start_time": "2021-04-04T23:13:25.616048",
     "status": "completed"
    },
    "tags": []
   },
   "outputs": [],
   "source": [
    "from sklearn.svm import OneClassSVM\n",
    "\n",
    "\n",
    "models = {\n",
    "    'oneclasssvm': OneClassSVM,\n",
    "    'knndatadescription': KNNDataDescription,\n",
    "}"
   ]
  },
  {
   "cell_type": "code",
   "execution_count": 22,
   "id": "4d72a0b1",
   "metadata": {
    "execution": {
     "iopub.execute_input": "2021-04-04T23:13:25.718926Z",
     "iopub.status.busy": "2021-04-04T23:13:25.718292Z",
     "iopub.status.idle": "2021-04-04T23:13:25.721454Z",
     "shell.execute_reply": "2021-04-04T23:13:25.722292Z"
    },
    "papermill": {
     "duration": 0.031021,
     "end_time": "2021-04-04T23:13:25.722525",
     "exception": false,
     "start_time": "2021-04-04T23:13:25.691504",
     "status": "completed"
    },
    "scrolled": true,
    "tags": []
   },
   "outputs": [],
   "source": [
    "model_cls = models[model_config['model_type']]\n",
    "model = model_cls(**model_config['hyperparameters'])"
   ]
  },
  {
   "cell_type": "markdown",
   "id": "e00cff3b",
   "metadata": {
    "papermill": {
     "duration": 0.023828,
     "end_time": "2021-04-04T23:13:25.783742",
     "exception": false,
     "start_time": "2021-04-04T23:13:25.759914",
     "status": "completed"
    },
    "tags": []
   },
   "source": [
    "# Fit"
   ]
  },
  {
   "cell_type": "code",
   "execution_count": 23,
   "id": "8b2ded89",
   "metadata": {
    "execution": {
     "iopub.execute_input": "2021-04-04T23:13:25.841144Z",
     "iopub.status.busy": "2021-04-04T23:13:25.840497Z",
     "iopub.status.idle": "2021-04-04T23:13:25.851754Z",
     "shell.execute_reply": "2021-04-04T23:13:25.852534Z"
    },
    "papermill": {
     "duration": 0.044228,
     "end_time": "2021-04-04T23:13:25.852751",
     "exception": false,
     "start_time": "2021-04-04T23:13:25.808523",
     "status": "completed"
    },
    "tags": []
   },
   "outputs": [
    {
     "data": {
      "text/plain": [
       "OneClassSVM()"
      ]
     },
     "execution_count": 23,
     "metadata": {},
     "output_type": "execute_result"
    }
   ],
   "source": [
    "model.fit(X_train)"
   ]
  },
  {
   "cell_type": "markdown",
   "id": "f99999f7",
   "metadata": {
    "papermill": {
     "duration": 0.022766,
     "end_time": "2021-04-04T23:13:25.903724",
     "exception": false,
     "start_time": "2021-04-04T23:13:25.880958",
     "status": "completed"
    },
    "tags": []
   },
   "source": [
    "# Predict"
   ]
  },
  {
   "cell_type": "code",
   "execution_count": 24,
   "id": "6536fbf7",
   "metadata": {
    "execution": {
     "iopub.execute_input": "2021-04-04T23:13:25.958036Z",
     "iopub.status.busy": "2021-04-04T23:13:25.957423Z",
     "iopub.status.idle": "2021-04-04T23:13:25.963358Z",
     "shell.execute_reply": "2021-04-04T23:13:25.962548Z"
    },
    "papermill": {
     "duration": 0.036468,
     "end_time": "2021-04-04T23:13:25.963530",
     "exception": false,
     "start_time": "2021-04-04T23:13:25.927062",
     "status": "completed"
    },
    "tags": []
   },
   "outputs": [],
   "source": [
    "predictions = model.predict(X_test)"
   ]
  },
  {
   "cell_type": "markdown",
   "id": "aa1c9881",
   "metadata": {
    "papermill": {
     "duration": 0.022851,
     "end_time": "2021-04-04T23:13:26.014703",
     "exception": false,
     "start_time": "2021-04-04T23:13:25.991852",
     "status": "completed"
    },
    "tags": []
   },
   "source": [
    "# Evaluate"
   ]
  },
  {
   "cell_type": "code",
   "execution_count": 25,
   "id": "894f0f04",
   "metadata": {
    "execution": {
     "iopub.execute_input": "2021-04-04T23:13:26.066823Z",
     "iopub.status.busy": "2021-04-04T23:13:26.066203Z",
     "iopub.status.idle": "2021-04-04T23:13:26.068822Z",
     "shell.execute_reply": "2021-04-04T23:13:26.069288Z"
    },
    "papermill": {
     "duration": 0.030235,
     "end_time": "2021-04-04T23:13:26.069437",
     "exception": false,
     "start_time": "2021-04-04T23:13:26.039202",
     "status": "completed"
    },
    "tags": []
   },
   "outputs": [],
   "source": [
    "from sklearn.metrics import f1_score"
   ]
  },
  {
   "cell_type": "code",
   "execution_count": 26,
   "id": "211744d3",
   "metadata": {
    "execution": {
     "iopub.execute_input": "2021-04-04T23:13:26.123315Z",
     "iopub.status.busy": "2021-04-04T23:13:26.122734Z",
     "iopub.status.idle": "2021-04-04T23:13:26.125518Z",
     "shell.execute_reply": "2021-04-04T23:13:26.125027Z"
    },
    "papermill": {
     "duration": 0.031493,
     "end_time": "2021-04-04T23:13:26.125640",
     "exception": false,
     "start_time": "2021-04-04T23:13:26.094147",
     "status": "completed"
    },
    "tags": []
   },
   "outputs": [],
   "source": [
    "y_test = y_test.replace([0, 1], [1, -1])"
   ]
  },
  {
   "cell_type": "code",
   "execution_count": 27,
   "id": "d68a9204",
   "metadata": {
    "execution": {
     "iopub.execute_input": "2021-04-04T23:13:26.187354Z",
     "iopub.status.busy": "2021-04-04T23:13:26.185991Z",
     "iopub.status.idle": "2021-04-04T23:13:26.188374Z",
     "shell.execute_reply": "2021-04-04T23:13:26.189212Z"
    },
    "papermill": {
     "duration": 0.036116,
     "end_time": "2021-04-04T23:13:26.189445",
     "exception": false,
     "start_time": "2021-04-04T23:13:26.153329",
     "status": "completed"
    },
    "tags": []
   },
   "outputs": [],
   "source": [
    "def evaluate(truths, predictions, pos_label, neg_label):\n",
    "    TP = 0\n",
    "    FP = 0\n",
    "    TN = 0\n",
    "    FN = 0\n",
    "\n",
    "    for truth, pred in zip(truths, predictions): \n",
    "        if truth == pred == pos_label:\n",
    "           TP += 1\n",
    "        elif pred == pos_label and truth == neg_label:\n",
    "           FP += 1\n",
    "        elif truth == pred == neg_label:\n",
    "           TN += 1\n",
    "        elif pred == neg_label and truth == pos_label:\n",
    "           FN += 1\n",
    "\n",
    "    precision = TP / (TP + FP)\n",
    "    sensitivity = TP / (TP + FN)\n",
    "    \n",
    "    return {\n",
    "        'true_pos': TP,\n",
    "        'false_pos': FP,\n",
    "        'false_neg': FN,\n",
    "        'true_neg': TN,\n",
    "        'precision': precision,\n",
    "        'sensitivity': sensitivity,\n",
    "        'f1': (2 * (precision * sensitivity)) / (precision + sensitivity)\n",
    "    }\n",
    "\n",
    "score = evaluate(y_test, predictions, pos_label=-1, neg_label=1)"
   ]
  },
  {
   "cell_type": "markdown",
   "id": "93596516",
   "metadata": {
    "papermill": {
     "duration": 0.024077,
     "end_time": "2021-04-04T23:13:26.240346",
     "exception": false,
     "start_time": "2021-04-04T23:13:26.216269",
     "status": "completed"
    },
    "tags": []
   },
   "source": [
    "# Report"
   ]
  },
  {
   "cell_type": "code",
   "execution_count": 28,
   "id": "bea5fba1",
   "metadata": {
    "execution": {
     "iopub.execute_input": "2021-04-04T23:13:26.295204Z",
     "iopub.status.busy": "2021-04-04T23:13:26.294530Z",
     "iopub.status.idle": "2021-04-04T23:13:26.297254Z",
     "shell.execute_reply": "2021-04-04T23:13:26.296604Z"
    },
    "papermill": {
     "duration": 0.032981,
     "end_time": "2021-04-04T23:13:26.297400",
     "exception": false,
     "start_time": "2021-04-04T23:13:26.264419",
     "status": "completed"
    },
    "tags": []
   },
   "outputs": [],
   "source": [
    "import csv\n",
    "\n",
    "\n",
    "dataset_config_name = DATASET_CONFIG_PATH.split('/')[-1].split('.')[0]\n",
    "model_config_name = MODEL_CONFIG_PATH.split('/')[-1].split('.')[0]\n",
    "configuration = f\"dataset_{dataset_config_name}-model_{model_config_name}\"\n",
    "\n",
    "with open('results.csv', 'a') as f:\n",
    "    report = dict({'configuration': configuration}, **score)\n",
    "    writer = csv.DictWriter(f, report.keys())\n",
    "    writer.writerow(report)"
   ]
  }
 ],
 "metadata": {
  "celltoolbar": "Tags",
  "kernelspec": {
   "display_name": "Python 3",
   "language": "python",
   "name": "python3"
  },
  "language_info": {
   "codemirror_mode": {
    "name": "ipython",
    "version": 3
   },
   "file_extension": ".py",
   "mimetype": "text/x-python",
   "name": "python",
   "nbconvert_exporter": "python",
   "pygments_lexer": "ipython3",
   "version": "3.9.1"
  },
  "papermill": {
   "default_parameters": {},
   "duration": 4.90055,
   "end_time": "2021-04-04T23:13:26.938206",
   "environment_variables": {},
   "exception": null,
   "input_path": "main.ipynb",
   "output_path": "runs/dataset_000101-model_000004.ipynb",
   "parameters": {
    "DATASET_CONFIG_PATH": "config/dataset/000101.json",
    "MODEL_CONFIG_PATH": "config/model/000004.json",
    "PROFILE_REPORTING": false
   },
   "start_time": "2021-04-04T23:13:22.037656",
   "version": "2.3.3"
  }
 },
 "nbformat": 4,
 "nbformat_minor": 5
}