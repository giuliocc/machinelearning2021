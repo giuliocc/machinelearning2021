{
 "cells": [
  {
   "cell_type": "markdown",
   "id": "51c71c25",
   "metadata": {
    "papermill": {
     "duration": 0.034087,
     "end_time": "2021-04-04T22:57:57.252352",
     "exception": false,
     "start_time": "2021-04-04T22:57:57.218265",
     "status": "completed"
    },
    "tags": []
   },
   "source": [
    "# Parametrizing"
   ]
  },
  {
   "cell_type": "code",
   "execution_count": 1,
   "id": "3b136394",
   "metadata": {
    "execution": {
     "iopub.execute_input": "2021-04-04T22:57:57.311745Z",
     "iopub.status.busy": "2021-04-04T22:57:57.310664Z",
     "iopub.status.idle": "2021-04-04T22:57:57.313421Z",
     "shell.execute_reply": "2021-04-04T22:57:57.312739Z"
    },
    "papermill": {
     "duration": 0.039204,
     "end_time": "2021-04-04T22:57:57.313581",
     "exception": false,
     "start_time": "2021-04-04T22:57:57.274377",
     "status": "completed"
    },
    "tags": [
     "parameters"
    ]
   },
   "outputs": [],
   "source": [
    "DATASET_CONFIG_PATH = 'config/dataset/kc1_001.json'\n",
    "MODEL_CONFIG_PATH = 'config/model/knndd_001.json'\n",
    "PROFILE_REPORTING = False"
   ]
  },
  {
   "cell_type": "code",
   "execution_count": 2,
   "id": "2ffb485e",
   "metadata": {
    "execution": {
     "iopub.execute_input": "2021-04-04T22:57:57.372477Z",
     "iopub.status.busy": "2021-04-04T22:57:57.371515Z",
     "iopub.status.idle": "2021-04-04T22:57:57.374890Z",
     "shell.execute_reply": "2021-04-04T22:57:57.375769Z"
    },
    "papermill": {
     "duration": 0.040657,
     "end_time": "2021-04-04T22:57:57.376139",
     "exception": false,
     "start_time": "2021-04-04T22:57:57.335482",
     "status": "completed"
    },
    "tags": [
     "injected-parameters"
    ]
   },
   "outputs": [],
   "source": [
    "# Parameters\n",
    "DATASET_CONFIG_PATH = \"config/dataset/000065.json\"\n",
    "MODEL_CONFIG_PATH = \"config/model/000004.json\"\n",
    "PROFILE_REPORTING = False\n"
   ]
  },
  {
   "cell_type": "code",
   "execution_count": 3,
   "id": "b80f2a10",
   "metadata": {
    "execution": {
     "iopub.execute_input": "2021-04-04T22:57:57.444668Z",
     "iopub.status.busy": "2021-04-04T22:57:57.443568Z",
     "iopub.status.idle": "2021-04-04T22:57:57.447304Z",
     "shell.execute_reply": "2021-04-04T22:57:57.448480Z"
    },
    "papermill": {
     "duration": 0.045836,
     "end_time": "2021-04-04T22:57:57.449115",
     "exception": false,
     "start_time": "2021-04-04T22:57:57.403279",
     "status": "completed"
    },
    "tags": []
   },
   "outputs": [],
   "source": [
    "import json\n",
    "\n",
    "\n",
    "with open(DATASET_CONFIG_PATH) as f:\n",
    "    dataset_config = json.load(f)\n",
    "\n",
    "with open(MODEL_CONFIG_PATH) as f:\n",
    "    model_config = json.load(f)"
   ]
  },
  {
   "cell_type": "markdown",
   "id": "9a4b0e2d",
   "metadata": {
    "papermill": {
     "duration": 0.021047,
     "end_time": "2021-04-04T22:57:57.495090",
     "exception": false,
     "start_time": "2021-04-04T22:57:57.474043",
     "status": "completed"
    },
    "tags": []
   },
   "source": [
    "# Profiling"
   ]
  },
  {
   "cell_type": "code",
   "execution_count": 4,
   "id": "a3e0289b",
   "metadata": {
    "execution": {
     "iopub.execute_input": "2021-04-04T22:57:57.545906Z",
     "iopub.status.busy": "2021-04-04T22:57:57.545031Z",
     "iopub.status.idle": "2021-04-04T22:57:58.919457Z",
     "shell.execute_reply": "2021-04-04T22:57:58.918922Z"
    },
    "papermill": {
     "duration": 1.404208,
     "end_time": "2021-04-04T22:57:58.919631",
     "exception": false,
     "start_time": "2021-04-04T22:57:57.515423",
     "status": "completed"
    },
    "tags": []
   },
   "outputs": [],
   "source": [
    "import pandas as pd\n",
    "from pandas_profiling import ProfileReport"
   ]
  },
  {
   "cell_type": "code",
   "execution_count": 5,
   "id": "ee6c0666",
   "metadata": {
    "execution": {
     "iopub.execute_input": "2021-04-04T22:57:58.966569Z",
     "iopub.status.busy": "2021-04-04T22:57:58.965955Z",
     "iopub.status.idle": "2021-04-04T22:57:58.977287Z",
     "shell.execute_reply": "2021-04-04T22:57:58.977799Z"
    },
    "papermill": {
     "duration": 0.035482,
     "end_time": "2021-04-04T22:57:58.977952",
     "exception": false,
     "start_time": "2021-04-04T22:57:58.942470",
     "status": "completed"
    },
    "tags": []
   },
   "outputs": [],
   "source": [
    "df = pd.read_csv(dataset_config['dataset_path'])"
   ]
  },
  {
   "cell_type": "code",
   "execution_count": 6,
   "id": "7eca6c4a",
   "metadata": {
    "execution": {
     "iopub.execute_input": "2021-04-04T22:57:59.032490Z",
     "iopub.status.busy": "2021-04-04T22:57:59.031719Z",
     "iopub.status.idle": "2021-04-04T22:57:59.048718Z",
     "shell.execute_reply": "2021-04-04T22:57:59.049191Z"
    },
    "papermill": {
     "duration": 0.048046,
     "end_time": "2021-04-04T22:57:59.049337",
     "exception": false,
     "start_time": "2021-04-04T22:57:59.001291",
     "status": "completed"
    },
    "tags": []
   },
   "outputs": [
    {
     "name": "stdout",
     "output_type": "stream",
     "text": [
      "<class 'pandas.core.frame.DataFrame'>\n",
      "RangeIndex: 2109 entries, 0 to 2108\n",
      "Data columns (total 23 columns):\n",
      " #   Column             Non-Null Count  Dtype  \n",
      "---  ------             --------------  -----  \n",
      " 0   id                 2109 non-null   int64  \n",
      " 1   loc                2109 non-null   float64\n",
      " 2   v(g)               2109 non-null   float64\n",
      " 3   ev(g)              2109 non-null   float64\n",
      " 4   iv(g)              2109 non-null   float64\n",
      " 5   n                  2109 non-null   float64\n",
      " 6   v                  2109 non-null   float64\n",
      " 7   l                  2109 non-null   float64\n",
      " 8   d                  2109 non-null   float64\n",
      " 9   i                  2109 non-null   float64\n",
      " 10  e                  2109 non-null   float64\n",
      " 11  b                  2109 non-null   float64\n",
      " 12  t                  2109 non-null   float64\n",
      " 13  lOCode             2109 non-null   int64  \n",
      " 14  lOComment          2109 non-null   int64  \n",
      " 15  lOBlank            2109 non-null   int64  \n",
      " 16  locCodeAndComment  2109 non-null   int64  \n",
      " 17  uniq_Op            2109 non-null   float64\n",
      " 18  uniq_Opnd          2109 non-null   float64\n",
      " 19  total_Op           2109 non-null   float64\n",
      " 20  total_Opnd         2109 non-null   float64\n",
      " 21  branchCount        2109 non-null   float64\n",
      " 22  defects            2109 non-null   bool   \n",
      "dtypes: bool(1), float64(17), int64(5)\n",
      "memory usage: 364.7 KB\n"
     ]
    }
   ],
   "source": [
    "df.info()"
   ]
  },
  {
   "cell_type": "code",
   "execution_count": 7,
   "id": "3638e5e8",
   "metadata": {
    "execution": {
     "iopub.execute_input": "2021-04-04T22:57:59.105670Z",
     "iopub.status.busy": "2021-04-04T22:57:59.104462Z",
     "iopub.status.idle": "2021-04-04T22:57:59.129578Z",
     "shell.execute_reply": "2021-04-04T22:57:59.129067Z"
    },
    "papermill": {
     "duration": 0.057287,
     "end_time": "2021-04-04T22:57:59.129698",
     "exception": false,
     "start_time": "2021-04-04T22:57:59.072411",
     "status": "completed"
    },
    "tags": []
   },
   "outputs": [
    {
     "data": {
      "text/html": [
       "<div>\n",
       "<style scoped>\n",
       "    .dataframe tbody tr th:only-of-type {\n",
       "        vertical-align: middle;\n",
       "    }\n",
       "\n",
       "    .dataframe tbody tr th {\n",
       "        vertical-align: top;\n",
       "    }\n",
       "\n",
       "    .dataframe thead th {\n",
       "        text-align: right;\n",
       "    }\n",
       "</style>\n",
       "<table border=\"1\" class=\"dataframe\">\n",
       "  <thead>\n",
       "    <tr style=\"text-align: right;\">\n",
       "      <th></th>\n",
       "      <th>id</th>\n",
       "      <th>loc</th>\n",
       "      <th>v(g)</th>\n",
       "      <th>ev(g)</th>\n",
       "      <th>iv(g)</th>\n",
       "      <th>n</th>\n",
       "      <th>v</th>\n",
       "      <th>l</th>\n",
       "      <th>d</th>\n",
       "      <th>i</th>\n",
       "      <th>...</th>\n",
       "      <th>lOCode</th>\n",
       "      <th>lOComment</th>\n",
       "      <th>lOBlank</th>\n",
       "      <th>locCodeAndComment</th>\n",
       "      <th>uniq_Op</th>\n",
       "      <th>uniq_Opnd</th>\n",
       "      <th>total_Op</th>\n",
       "      <th>total_Opnd</th>\n",
       "      <th>branchCount</th>\n",
       "      <th>defects</th>\n",
       "    </tr>\n",
       "  </thead>\n",
       "  <tbody>\n",
       "    <tr>\n",
       "      <th>0</th>\n",
       "      <td>1</td>\n",
       "      <td>1.1</td>\n",
       "      <td>1.4</td>\n",
       "      <td>1.4</td>\n",
       "      <td>1.4</td>\n",
       "      <td>1.3</td>\n",
       "      <td>1.30</td>\n",
       "      <td>1.30</td>\n",
       "      <td>1.30</td>\n",
       "      <td>1.30</td>\n",
       "      <td>...</td>\n",
       "      <td>2</td>\n",
       "      <td>2</td>\n",
       "      <td>2</td>\n",
       "      <td>2</td>\n",
       "      <td>1.2</td>\n",
       "      <td>1.2</td>\n",
       "      <td>1.2</td>\n",
       "      <td>1.2</td>\n",
       "      <td>1.4</td>\n",
       "      <td>False</td>\n",
       "    </tr>\n",
       "    <tr>\n",
       "      <th>1</th>\n",
       "      <td>2</td>\n",
       "      <td>1.0</td>\n",
       "      <td>1.0</td>\n",
       "      <td>1.0</td>\n",
       "      <td>1.0</td>\n",
       "      <td>1.0</td>\n",
       "      <td>1.00</td>\n",
       "      <td>1.00</td>\n",
       "      <td>1.00</td>\n",
       "      <td>1.00</td>\n",
       "      <td>...</td>\n",
       "      <td>1</td>\n",
       "      <td>1</td>\n",
       "      <td>1</td>\n",
       "      <td>1</td>\n",
       "      <td>1.0</td>\n",
       "      <td>1.0</td>\n",
       "      <td>1.0</td>\n",
       "      <td>1.0</td>\n",
       "      <td>1.0</td>\n",
       "      <td>True</td>\n",
       "    </tr>\n",
       "    <tr>\n",
       "      <th>2</th>\n",
       "      <td>3</td>\n",
       "      <td>83.0</td>\n",
       "      <td>11.0</td>\n",
       "      <td>1.0</td>\n",
       "      <td>11.0</td>\n",
       "      <td>171.0</td>\n",
       "      <td>927.89</td>\n",
       "      <td>0.04</td>\n",
       "      <td>23.04</td>\n",
       "      <td>40.27</td>\n",
       "      <td>...</td>\n",
       "      <td>65</td>\n",
       "      <td>10</td>\n",
       "      <td>6</td>\n",
       "      <td>0</td>\n",
       "      <td>18.0</td>\n",
       "      <td>25.0</td>\n",
       "      <td>107.0</td>\n",
       "      <td>64.0</td>\n",
       "      <td>21.0</td>\n",
       "      <td>True</td>\n",
       "    </tr>\n",
       "    <tr>\n",
       "      <th>3</th>\n",
       "      <td>4</td>\n",
       "      <td>46.0</td>\n",
       "      <td>8.0</td>\n",
       "      <td>6.0</td>\n",
       "      <td>8.0</td>\n",
       "      <td>141.0</td>\n",
       "      <td>769.78</td>\n",
       "      <td>0.07</td>\n",
       "      <td>14.86</td>\n",
       "      <td>51.81</td>\n",
       "      <td>...</td>\n",
       "      <td>37</td>\n",
       "      <td>2</td>\n",
       "      <td>5</td>\n",
       "      <td>0</td>\n",
       "      <td>16.0</td>\n",
       "      <td>28.0</td>\n",
       "      <td>89.0</td>\n",
       "      <td>52.0</td>\n",
       "      <td>15.0</td>\n",
       "      <td>True</td>\n",
       "    </tr>\n",
       "    <tr>\n",
       "      <th>4</th>\n",
       "      <td>5</td>\n",
       "      <td>25.0</td>\n",
       "      <td>3.0</td>\n",
       "      <td>1.0</td>\n",
       "      <td>3.0</td>\n",
       "      <td>58.0</td>\n",
       "      <td>254.75</td>\n",
       "      <td>0.11</td>\n",
       "      <td>9.35</td>\n",
       "      <td>27.25</td>\n",
       "      <td>...</td>\n",
       "      <td>21</td>\n",
       "      <td>0</td>\n",
       "      <td>2</td>\n",
       "      <td>0</td>\n",
       "      <td>11.0</td>\n",
       "      <td>10.0</td>\n",
       "      <td>41.0</td>\n",
       "      <td>17.0</td>\n",
       "      <td>5.0</td>\n",
       "      <td>True</td>\n",
       "    </tr>\n",
       "  </tbody>\n",
       "</table>\n",
       "<p>5 rows × 23 columns</p>\n",
       "</div>"
      ],
      "text/plain": [
       "   id   loc  v(g)  ev(g)  iv(g)      n       v     l      d      i  ...  \\\n",
       "0   1   1.1   1.4    1.4    1.4    1.3    1.30  1.30   1.30   1.30  ...   \n",
       "1   2   1.0   1.0    1.0    1.0    1.0    1.00  1.00   1.00   1.00  ...   \n",
       "2   3  83.0  11.0    1.0   11.0  171.0  927.89  0.04  23.04  40.27  ...   \n",
       "3   4  46.0   8.0    6.0    8.0  141.0  769.78  0.07  14.86  51.81  ...   \n",
       "4   5  25.0   3.0    1.0    3.0   58.0  254.75  0.11   9.35  27.25  ...   \n",
       "\n",
       "   lOCode  lOComment  lOBlank  locCodeAndComment  uniq_Op  uniq_Opnd  \\\n",
       "0       2          2        2                  2      1.2        1.2   \n",
       "1       1          1        1                  1      1.0        1.0   \n",
       "2      65         10        6                  0     18.0       25.0   \n",
       "3      37          2        5                  0     16.0       28.0   \n",
       "4      21          0        2                  0     11.0       10.0   \n",
       "\n",
       "   total_Op  total_Opnd  branchCount  defects  \n",
       "0       1.2         1.2          1.4    False  \n",
       "1       1.0         1.0          1.0     True  \n",
       "2     107.0        64.0         21.0     True  \n",
       "3      89.0        52.0         15.0     True  \n",
       "4      41.0        17.0          5.0     True  \n",
       "\n",
       "[5 rows x 23 columns]"
      ]
     },
     "execution_count": 7,
     "metadata": {},
     "output_type": "execute_result"
    }
   ],
   "source": [
    "df.head()"
   ]
  },
  {
   "cell_type": "code",
   "execution_count": 8,
   "id": "733e95eb",
   "metadata": {
    "execution": {
     "iopub.execute_input": "2021-04-04T22:57:59.184487Z",
     "iopub.status.busy": "2021-04-04T22:57:59.183454Z",
     "iopub.status.idle": "2021-04-04T22:57:59.186082Z",
     "shell.execute_reply": "2021-04-04T22:57:59.187886Z"
    },
    "papermill": {
     "duration": 0.036555,
     "end_time": "2021-04-04T22:57:59.188437",
     "exception": false,
     "start_time": "2021-04-04T22:57:59.151882",
     "status": "completed"
    },
    "tags": []
   },
   "outputs": [],
   "source": [
    "del df['id']"
   ]
  },
  {
   "cell_type": "code",
   "execution_count": 9,
   "id": "6ff6f5b0",
   "metadata": {
    "execution": {
     "iopub.execute_input": "2021-04-04T22:57:59.238998Z",
     "iopub.status.busy": "2021-04-04T22:57:59.238027Z",
     "iopub.status.idle": "2021-04-04T22:57:59.240029Z",
     "shell.execute_reply": "2021-04-04T22:57:59.240729Z"
    },
    "papermill": {
     "duration": 0.028737,
     "end_time": "2021-04-04T22:57:59.240915",
     "exception": false,
     "start_time": "2021-04-04T22:57:59.212178",
     "status": "completed"
    },
    "tags": []
   },
   "outputs": [],
   "source": [
    "if PROFILE_REPORTING:\n",
    "    ProfileReport(df).to_widgets()"
   ]
  },
  {
   "cell_type": "markdown",
   "id": "1deaf3f0",
   "metadata": {
    "papermill": {
     "duration": 0.031652,
     "end_time": "2021-04-04T22:57:59.296381",
     "exception": false,
     "start_time": "2021-04-04T22:57:59.264729",
     "status": "completed"
    },
    "tags": []
   },
   "source": [
    "# Preprocess"
   ]
  },
  {
   "cell_type": "code",
   "execution_count": 10,
   "id": "1513e563",
   "metadata": {
    "execution": {
     "iopub.execute_input": "2021-04-04T22:57:59.355302Z",
     "iopub.status.busy": "2021-04-04T22:57:59.353042Z",
     "iopub.status.idle": "2021-04-04T22:57:59.356391Z",
     "shell.execute_reply": "2021-04-04T22:57:59.356977Z"
    },
    "papermill": {
     "duration": 0.035585,
     "end_time": "2021-04-04T22:57:59.357148",
     "exception": false,
     "start_time": "2021-04-04T22:57:59.321563",
     "status": "completed"
    },
    "tags": []
   },
   "outputs": [],
   "source": [
    "working_df = df.copy()"
   ]
  },
  {
   "cell_type": "code",
   "execution_count": 11,
   "id": "3b26d675",
   "metadata": {
    "execution": {
     "iopub.execute_input": "2021-04-04T22:57:59.427836Z",
     "iopub.status.busy": "2021-04-04T22:57:59.426503Z",
     "iopub.status.idle": "2021-04-04T22:57:59.430524Z",
     "shell.execute_reply": "2021-04-04T22:57:59.429745Z"
    },
    "papermill": {
     "duration": 0.046369,
     "end_time": "2021-04-04T22:57:59.430718",
     "exception": false,
     "start_time": "2021-04-04T22:57:59.384349",
     "status": "completed"
    },
    "tags": []
   },
   "outputs": [],
   "source": [
    "working_df['defects'] = working_df['defects'].replace([False, True], [0, 1])"
   ]
  },
  {
   "cell_type": "code",
   "execution_count": 12,
   "id": "eb48604f",
   "metadata": {
    "execution": {
     "iopub.execute_input": "2021-04-04T22:57:59.486778Z",
     "iopub.status.busy": "2021-04-04T22:57:59.485897Z",
     "iopub.status.idle": "2021-04-04T22:57:59.488542Z",
     "shell.execute_reply": "2021-04-04T22:57:59.488060Z"
    },
    "papermill": {
     "duration": 0.029537,
     "end_time": "2021-04-04T22:57:59.488665",
     "exception": false,
     "start_time": "2021-04-04T22:57:59.459128",
     "status": "completed"
    },
    "tags": []
   },
   "outputs": [],
   "source": [
    "for col in dataset_config['delete_columns']:\n",
    "    del working_df[col]"
   ]
  },
  {
   "cell_type": "code",
   "execution_count": 13,
   "id": "9a17bc29",
   "metadata": {
    "execution": {
     "iopub.execute_input": "2021-04-04T22:57:59.545343Z",
     "iopub.status.busy": "2021-04-04T22:57:59.544158Z",
     "iopub.status.idle": "2021-04-04T22:57:59.554161Z",
     "shell.execute_reply": "2021-04-04T22:57:59.553572Z"
    },
    "papermill": {
     "duration": 0.04046,
     "end_time": "2021-04-04T22:57:59.554285",
     "exception": false,
     "start_time": "2021-04-04T22:57:59.513825",
     "status": "completed"
    },
    "tags": []
   },
   "outputs": [],
   "source": [
    "working_df = working_df.drop_duplicates()"
   ]
  },
  {
   "cell_type": "markdown",
   "id": "a4d52ca6",
   "metadata": {
    "papermill": {
     "duration": 0.023038,
     "end_time": "2021-04-04T22:57:59.601633",
     "exception": false,
     "start_time": "2021-04-04T22:57:59.578595",
     "status": "completed"
    },
    "tags": []
   },
   "source": [
    "# Split"
   ]
  },
  {
   "cell_type": "code",
   "execution_count": 14,
   "id": "3e9ee4b5",
   "metadata": {
    "execution": {
     "iopub.execute_input": "2021-04-04T22:57:59.662949Z",
     "iopub.status.busy": "2021-04-04T22:57:59.661794Z",
     "iopub.status.idle": "2021-04-04T22:57:59.693388Z",
     "shell.execute_reply": "2021-04-04T22:57:59.692865Z"
    },
    "papermill": {
     "duration": 0.066963,
     "end_time": "2021-04-04T22:57:59.693511",
     "exception": false,
     "start_time": "2021-04-04T22:57:59.626548",
     "status": "completed"
    },
    "tags": []
   },
   "outputs": [],
   "source": [
    "from sklearn.model_selection import train_test_split"
   ]
  },
  {
   "cell_type": "code",
   "execution_count": 15,
   "id": "274004ce",
   "metadata": {
    "execution": {
     "iopub.execute_input": "2021-04-04T22:57:59.748791Z",
     "iopub.status.busy": "2021-04-04T22:57:59.747665Z",
     "iopub.status.idle": "2021-04-04T22:57:59.752771Z",
     "shell.execute_reply": "2021-04-04T22:57:59.753246Z"
    },
    "papermill": {
     "duration": 0.03451,
     "end_time": "2021-04-04T22:57:59.753391",
     "exception": false,
     "start_time": "2021-04-04T22:57:59.718881",
     "status": "completed"
    },
    "scrolled": true,
    "tags": []
   },
   "outputs": [],
   "source": [
    "inlier, outlier = working_df[working_df['defects'] == 0], working_df[working_df['defects'] == 1]"
   ]
  },
  {
   "cell_type": "code",
   "execution_count": 16,
   "id": "753c7b03",
   "metadata": {
    "execution": {
     "iopub.execute_input": "2021-04-04T22:57:59.816201Z",
     "iopub.status.busy": "2021-04-04T22:57:59.815300Z",
     "iopub.status.idle": "2021-04-04T22:57:59.817554Z",
     "shell.execute_reply": "2021-04-04T22:57:59.818096Z"
    },
    "papermill": {
     "duration": 0.041883,
     "end_time": "2021-04-04T22:57:59.818263",
     "exception": false,
     "start_time": "2021-04-04T22:57:59.776380",
     "status": "completed"
    },
    "tags": []
   },
   "outputs": [],
   "source": [
    "X_inlier = inlier.copy()\n",
    "y_inlier = X_inlier.pop('defects')\n",
    "X_outlier = outlier.copy()\n",
    "y_outlier = X_outlier.pop('defects')"
   ]
  },
  {
   "cell_type": "code",
   "execution_count": 17,
   "id": "2ba43193",
   "metadata": {
    "execution": {
     "iopub.execute_input": "2021-04-04T22:57:59.878905Z",
     "iopub.status.busy": "2021-04-04T22:57:59.878176Z",
     "iopub.status.idle": "2021-04-04T22:57:59.881084Z",
     "shell.execute_reply": "2021-04-04T22:57:59.880586Z"
    },
    "papermill": {
     "duration": 0.032777,
     "end_time": "2021-04-04T22:57:59.881203",
     "exception": false,
     "start_time": "2021-04-04T22:57:59.848426",
     "status": "completed"
    },
    "tags": []
   },
   "outputs": [],
   "source": [
    "test_size = dataset_config['test_size']\n",
    "random_state = dataset_config['random_state']\n",
    "\n",
    "X_inlier_train, X_inlier_test, y_inlier_train, y_inlier_test = train_test_split(\n",
    "    X_inlier,\n",
    "    y_inlier,\n",
    "    test_size=test_size,\n",
    "    random_state=random_state\n",
    ")"
   ]
  },
  {
   "cell_type": "code",
   "execution_count": 18,
   "id": "0b7582ca",
   "metadata": {
    "execution": {
     "iopub.execute_input": "2021-04-04T22:57:59.943853Z",
     "iopub.status.busy": "2021-04-04T22:57:59.942969Z",
     "iopub.status.idle": "2021-04-04T22:57:59.944940Z",
     "shell.execute_reply": "2021-04-04T22:57:59.945419Z"
    },
    "papermill": {
     "duration": 0.040335,
     "end_time": "2021-04-04T22:57:59.945566",
     "exception": false,
     "start_time": "2021-04-04T22:57:59.905231",
     "status": "completed"
    },
    "tags": []
   },
   "outputs": [],
   "source": [
    "test_outlier_size = dataset_config['test_outlier_size']\n",
    "if test_outlier_size > 0.0:\n",
    "    X_outlier_train, X_outlier_test, y_outlier_train, y_outlier_test = train_test_split(\n",
    "        X_outlier,\n",
    "        y_outlier,\n",
    "        test_size=test_outlier_size,\n",
    "        random_state=random_state\n",
    "    )\n",
    "else:\n",
    "    X_outlier_train, y_outlier_train = pd.DataFrame(columns=X_outlier.columns), pd.Series(dtype='int64')\n",
    "    X_outlier_test, y_outlier_test = X_outlier.copy(), y_outlier.copy()"
   ]
  },
  {
   "cell_type": "code",
   "execution_count": 19,
   "id": "c34363db",
   "metadata": {
    "execution": {
     "iopub.execute_input": "2021-04-04T22:58:00.000450Z",
     "iopub.status.busy": "2021-04-04T22:57:59.999272Z",
     "iopub.status.idle": "2021-04-04T22:58:00.005175Z",
     "shell.execute_reply": "2021-04-04T22:58:00.005659Z"
    },
    "papermill": {
     "duration": 0.034283,
     "end_time": "2021-04-04T22:58:00.005813",
     "exception": false,
     "start_time": "2021-04-04T22:57:59.971530",
     "status": "completed"
    },
    "tags": []
   },
   "outputs": [],
   "source": [
    "X_train, y_train = pd.concat([X_inlier_train, X_outlier_train], ignore_index=True), pd.concat([y_inlier_train, y_outlier_train], ignore_index=True)\n",
    "X_test, y_test = pd.concat([X_inlier_test, X_outlier_test], ignore_index=True), pd.concat([y_inlier_test, y_outlier_test], ignore_index=True)"
   ]
  },
  {
   "cell_type": "markdown",
   "id": "7cde7309",
   "metadata": {
    "papermill": {
     "duration": 0.026831,
     "end_time": "2021-04-04T22:58:00.058009",
     "exception": false,
     "start_time": "2021-04-04T22:58:00.031178",
     "status": "completed"
    },
    "tags": []
   },
   "source": [
    "# Model"
   ]
  },
  {
   "cell_type": "code",
   "execution_count": 20,
   "id": "2b12a415",
   "metadata": {
    "execution": {
     "iopub.execute_input": "2021-04-04T22:58:00.119250Z",
     "iopub.status.busy": "2021-04-04T22:58:00.117507Z",
     "iopub.status.idle": "2021-04-04T22:58:00.120911Z",
     "shell.execute_reply": "2021-04-04T22:58:00.121392Z"
    },
    "papermill": {
     "duration": 0.039088,
     "end_time": "2021-04-04T22:58:00.121539",
     "exception": false,
     "start_time": "2021-04-04T22:58:00.082451",
     "status": "completed"
    },
    "tags": []
   },
   "outputs": [],
   "source": [
    "from math import sqrt\n",
    "\n",
    "\n",
    "class KNNDataDescription:\n",
    "    def __init__(self, k=5, outlier_threshold=1.0):\n",
    "        self.k = k\n",
    "        self.outlier_threshold = outlier_threshold\n",
    "        self.X = []\n",
    "    \n",
    "    def fit(self, X):\n",
    "        self.X = [features.to_list() for index, features in X.iterrows()]\n",
    "\n",
    "    def predict(self, entries):\n",
    "        return [self.predict_entry(features.to_list()) for index, features in entries.iterrows()]\n",
    "    \n",
    "    def predict_entry(self, entry):\n",
    "        kth_neighbor, kth_distance = self.get_kth_neighbor(entry, self.k)\n",
    "        kth_kth_neighbor, kth_kth_distance = self.get_kth_neighbor(kth_neighbor, self.k + 1)\n",
    "\n",
    "        outlier_score = kth_distance / (kth_kth_distance + 0.000001)\n",
    "\n",
    "        return 1 if outlier_score < self.outlier_threshold else -1\n",
    "        \n",
    "    def euclidean_distance(self, features1, features2):\n",
    "        distance = 0.0\n",
    "        for feat1, feat2 in zip(features1, features2):\n",
    "            distance += (feat1 - feat2)**2\n",
    "                \n",
    "        return sqrt(distance)\n",
    "\n",
    "    def get_neighbors(self, entry, k):\n",
    "        distance_to_data_points = [\n",
    "            (data_point, self.euclidean_distance(entry, data_point))\n",
    "            for data_point in self.X\n",
    "        ]\n",
    "        sorted_by_distance = sorted(distance_to_data_points, key=lambda tup: tup[1])\n",
    "        neighbors = sorted_by_distance[:k]\n",
    "        return neighbors\n",
    "\n",
    "    def get_kth_neighbor(self, entry, k):\n",
    "        neighbors = self.get_neighbors(entry, k)\n",
    "        return neighbors[-1]\n"
   ]
  },
  {
   "cell_type": "code",
   "execution_count": 21,
   "id": "1fa9ec1c",
   "metadata": {
    "execution": {
     "iopub.execute_input": "2021-04-04T22:58:00.177725Z",
     "iopub.status.busy": "2021-04-04T22:58:00.177079Z",
     "iopub.status.idle": "2021-04-04T22:58:00.196376Z",
     "shell.execute_reply": "2021-04-04T22:58:00.195862Z"
    },
    "papermill": {
     "duration": 0.051767,
     "end_time": "2021-04-04T22:58:00.196498",
     "exception": false,
     "start_time": "2021-04-04T22:58:00.144731",
     "status": "completed"
    },
    "tags": []
   },
   "outputs": [],
   "source": [
    "from sklearn.svm import OneClassSVM\n",
    "\n",
    "\n",
    "models = {\n",
    "    'oneclasssvm': OneClassSVM,\n",
    "    'knndatadescription': KNNDataDescription,\n",
    "}"
   ]
  },
  {
   "cell_type": "code",
   "execution_count": 22,
   "id": "4d72a0b1",
   "metadata": {
    "execution": {
     "iopub.execute_input": "2021-04-04T22:58:00.249218Z",
     "iopub.status.busy": "2021-04-04T22:58:00.248163Z",
     "iopub.status.idle": "2021-04-04T22:58:00.250694Z",
     "shell.execute_reply": "2021-04-04T22:58:00.251173Z"
    },
    "papermill": {
     "duration": 0.029269,
     "end_time": "2021-04-04T22:58:00.251326",
     "exception": false,
     "start_time": "2021-04-04T22:58:00.222057",
     "status": "completed"
    },
    "scrolled": true,
    "tags": []
   },
   "outputs": [],
   "source": [
    "model_cls = models[model_config['model_type']]\n",
    "model = model_cls(**model_config['hyperparameters'])"
   ]
  },
  {
   "cell_type": "markdown",
   "id": "e00cff3b",
   "metadata": {
    "papermill": {
     "duration": 0.029645,
     "end_time": "2021-04-04T22:58:00.306687",
     "exception": false,
     "start_time": "2021-04-04T22:58:00.277042",
     "status": "completed"
    },
    "tags": []
   },
   "source": [
    "# Fit"
   ]
  },
  {
   "cell_type": "code",
   "execution_count": 23,
   "id": "8b2ded89",
   "metadata": {
    "execution": {
     "iopub.execute_input": "2021-04-04T22:58:00.375569Z",
     "iopub.status.busy": "2021-04-04T22:58:00.373463Z",
     "iopub.status.idle": "2021-04-04T22:58:00.411599Z",
     "shell.execute_reply": "2021-04-04T22:58:00.412292Z"
    },
    "papermill": {
     "duration": 0.080969,
     "end_time": "2021-04-04T22:58:00.412640",
     "exception": false,
     "start_time": "2021-04-04T22:58:00.331671",
     "status": "completed"
    },
    "tags": []
   },
   "outputs": [
    {
     "data": {
      "text/plain": [
       "OneClassSVM()"
      ]
     },
     "execution_count": 23,
     "metadata": {},
     "output_type": "execute_result"
    }
   ],
   "source": [
    "model.fit(X_train)"
   ]
  },
  {
   "cell_type": "markdown",
   "id": "f99999f7",
   "metadata": {
    "papermill": {
     "duration": 0.031972,
     "end_time": "2021-04-04T22:58:00.470733",
     "exception": false,
     "start_time": "2021-04-04T22:58:00.438761",
     "status": "completed"
    },
    "tags": []
   },
   "source": [
    "# Predict"
   ]
  },
  {
   "cell_type": "code",
   "execution_count": 24,
   "id": "6536fbf7",
   "metadata": {
    "execution": {
     "iopub.execute_input": "2021-04-04T22:58:00.530544Z",
     "iopub.status.busy": "2021-04-04T22:58:00.529805Z",
     "iopub.status.idle": "2021-04-04T22:58:00.543890Z",
     "shell.execute_reply": "2021-04-04T22:58:00.544374Z"
    },
    "papermill": {
     "duration": 0.048022,
     "end_time": "2021-04-04T22:58:00.544520",
     "exception": false,
     "start_time": "2021-04-04T22:58:00.496498",
     "status": "completed"
    },
    "tags": []
   },
   "outputs": [],
   "source": [
    "predictions = model.predict(X_test)"
   ]
  },
  {
   "cell_type": "markdown",
   "id": "aa1c9881",
   "metadata": {
    "papermill": {
     "duration": 0.028323,
     "end_time": "2021-04-04T22:58:00.598095",
     "exception": false,
     "start_time": "2021-04-04T22:58:00.569772",
     "status": "completed"
    },
    "tags": []
   },
   "source": [
    "# Evaluate"
   ]
  },
  {
   "cell_type": "code",
   "execution_count": 25,
   "id": "894f0f04",
   "metadata": {
    "execution": {
     "iopub.execute_input": "2021-04-04T22:58:00.653360Z",
     "iopub.status.busy": "2021-04-04T22:58:00.652720Z",
     "iopub.status.idle": "2021-04-04T22:58:00.654579Z",
     "shell.execute_reply": "2021-04-04T22:58:00.655050Z"
    },
    "papermill": {
     "duration": 0.030948,
     "end_time": "2021-04-04T22:58:00.655198",
     "exception": false,
     "start_time": "2021-04-04T22:58:00.624250",
     "status": "completed"
    },
    "tags": []
   },
   "outputs": [],
   "source": [
    "from sklearn.metrics import f1_score"
   ]
  },
  {
   "cell_type": "code",
   "execution_count": 26,
   "id": "211744d3",
   "metadata": {
    "execution": {
     "iopub.execute_input": "2021-04-04T22:58:00.720539Z",
     "iopub.status.busy": "2021-04-04T22:58:00.719156Z",
     "iopub.status.idle": "2021-04-04T22:58:00.723888Z",
     "shell.execute_reply": "2021-04-04T22:58:00.723186Z"
    },
    "papermill": {
     "duration": 0.042159,
     "end_time": "2021-04-04T22:58:00.724066",
     "exception": false,
     "start_time": "2021-04-04T22:58:00.681907",
     "status": "completed"
    },
    "tags": []
   },
   "outputs": [],
   "source": [
    "y_test = y_test.replace([0, 1], [1, -1])"
   ]
  },
  {
   "cell_type": "code",
   "execution_count": 27,
   "id": "d68a9204",
   "metadata": {
    "execution": {
     "iopub.execute_input": "2021-04-04T22:58:00.788623Z",
     "iopub.status.busy": "2021-04-04T22:58:00.787722Z",
     "iopub.status.idle": "2021-04-04T22:58:00.790246Z",
     "shell.execute_reply": "2021-04-04T22:58:00.789736Z"
    },
    "papermill": {
     "duration": 0.038005,
     "end_time": "2021-04-04T22:58:00.790367",
     "exception": false,
     "start_time": "2021-04-04T22:58:00.752362",
     "status": "completed"
    },
    "tags": []
   },
   "outputs": [],
   "source": [
    "def evaluate(truths, predictions, pos_label, neg_label):\n",
    "    TP = 0\n",
    "    FP = 0\n",
    "    TN = 0\n",
    "    FN = 0\n",
    "\n",
    "    for truth, pred in zip(truths, predictions): \n",
    "        if truth == pred == pos_label:\n",
    "           TP += 1\n",
    "        elif pred == pos_label and truth == neg_label:\n",
    "           FP += 1\n",
    "        elif truth == pred == neg_label:\n",
    "           TN += 1\n",
    "        elif pred == neg_label and truth == pos_label:\n",
    "           FN += 1\n",
    "\n",
    "    precision = TP / (TP + FP)\n",
    "    sensitivity = TP / (TP + FN)\n",
    "    \n",
    "    return {\n",
    "        'true_pos': TP,\n",
    "        'false_pos': FP,\n",
    "        'false_neg': FN,\n",
    "        'true_neg': TN,\n",
    "        'precision': precision,\n",
    "        'sensitivity': sensitivity,\n",
    "        'f1': (2 * (precision * sensitivity)) / (precision + sensitivity)\n",
    "    }\n",
    "\n",
    "score = evaluate(y_test, predictions, pos_label=-1, neg_label=1)"
   ]
  },
  {
   "cell_type": "markdown",
   "id": "93596516",
   "metadata": {
    "papermill": {
     "duration": 0.035887,
     "end_time": "2021-04-04T22:58:00.855165",
     "exception": false,
     "start_time": "2021-04-04T22:58:00.819278",
     "status": "completed"
    },
    "tags": []
   },
   "source": [
    "# Report"
   ]
  },
  {
   "cell_type": "code",
   "execution_count": 28,
   "id": "bea5fba1",
   "metadata": {
    "execution": {
     "iopub.execute_input": "2021-04-04T22:58:00.915293Z",
     "iopub.status.busy": "2021-04-04T22:58:00.914566Z",
     "iopub.status.idle": "2021-04-04T22:58:00.916838Z",
     "shell.execute_reply": "2021-04-04T22:58:00.917338Z"
    },
    "papermill": {
     "duration": 0.031946,
     "end_time": "2021-04-04T22:58:00.917495",
     "exception": false,
     "start_time": "2021-04-04T22:58:00.885549",
     "status": "completed"
    },
    "tags": []
   },
   "outputs": [],
   "source": [
    "import csv\n",
    "\n",
    "\n",
    "dataset_config_name = DATASET_CONFIG_PATH.split('/')[-1].split('.')[0]\n",
    "model_config_name = MODEL_CONFIG_PATH.split('/')[-1].split('.')[0]\n",
    "configuration = f\"dataset_{dataset_config_name}-model_{model_config_name}\"\n",
    "\n",
    "with open('results.csv', 'a') as f:\n",
    "    report = dict({'configuration': configuration}, **score)\n",
    "    writer = csv.DictWriter(f, report.keys())\n",
    "    writer.writerow(report)"
   ]
  }
 ],
 "metadata": {
  "celltoolbar": "Tags",
  "kernelspec": {
   "display_name": "Python 3",
   "language": "python",
   "name": "python3"
  },
  "language_info": {
   "codemirror_mode": {
    "name": "ipython",
    "version": 3
   },
   "file_extension": ".py",
   "mimetype": "text/x-python",
   "name": "python",
   "nbconvert_exporter": "python",
   "pygments_lexer": "ipython3",
   "version": "3.9.1"
  },
  "papermill": {
   "default_parameters": {},
   "duration": 6.058696,
   "end_time": "2021-04-04T22:58:02.541754",
   "environment_variables": {},
   "exception": null,
   "input_path": "main.ipynb",
   "output_path": "runs/dataset_000065-model_000004.ipynb",
   "parameters": {
    "DATASET_CONFIG_PATH": "config/dataset/000065.json",
    "MODEL_CONFIG_PATH": "config/model/000004.json",
    "PROFILE_REPORTING": false
   },
   "start_time": "2021-04-04T22:57:56.483058",
   "version": "2.3.3"
  }
 },
 "nbformat": 4,
 "nbformat_minor": 5
}