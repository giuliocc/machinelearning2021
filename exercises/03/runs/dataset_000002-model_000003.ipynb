{
 "cells": [
  {
   "cell_type": "markdown",
   "id": "4588efca",
   "metadata": {
    "papermill": {
     "duration": 0.090384,
     "end_time": "2021-04-04T22:22:08.568149",
     "exception": false,
     "start_time": "2021-04-04T22:22:08.477765",
     "status": "completed"
    },
    "tags": []
   },
   "source": [
    "# Parametrizing"
   ]
  },
  {
   "cell_type": "code",
   "execution_count": 1,
   "id": "5964d9c0",
   "metadata": {
    "execution": {
     "iopub.execute_input": "2021-04-04T22:22:08.634246Z",
     "iopub.status.busy": "2021-04-04T22:22:08.633313Z",
     "iopub.status.idle": "2021-04-04T22:22:08.636393Z",
     "shell.execute_reply": "2021-04-04T22:22:08.637414Z"
    },
    "papermill": {
     "duration": 0.036862,
     "end_time": "2021-04-04T22:22:08.637837",
     "exception": false,
     "start_time": "2021-04-04T22:22:08.600975",
     "status": "completed"
    },
    "tags": [
     "parameters"
    ]
   },
   "outputs": [],
   "source": [
    "DATASET_CONFIG_PATH = 'config/dataset/kc1_001.json'\n",
    "MODEL_CONFIG_PATH = 'config/model/knndd_001.json'\n",
    "PROFILE_REPORTING = False"
   ]
  },
  {
   "cell_type": "code",
   "execution_count": 2,
   "id": "de5ae5b1",
   "metadata": {
    "execution": {
     "iopub.execute_input": "2021-04-04T22:22:08.691037Z",
     "iopub.status.busy": "2021-04-04T22:22:08.689813Z",
     "iopub.status.idle": "2021-04-04T22:22:08.692547Z",
     "shell.execute_reply": "2021-04-04T22:22:08.692037Z"
    },
    "papermill": {
     "duration": 0.02766,
     "end_time": "2021-04-04T22:22:08.692667",
     "exception": false,
     "start_time": "2021-04-04T22:22:08.665007",
     "status": "completed"
    },
    "tags": [
     "injected-parameters"
    ]
   },
   "outputs": [],
   "source": [
    "# Parameters\n",
    "DATASET_CONFIG_PATH = \"config/dataset/000002.json\"\n",
    "MODEL_CONFIG_PATH = \"config/model/000003.json\"\n",
    "PROFILE_REPORTING = False\n"
   ]
  },
  {
   "cell_type": "code",
   "execution_count": 3,
   "id": "3fa67035",
   "metadata": {
    "execution": {
     "iopub.execute_input": "2021-04-04T22:22:08.741677Z",
     "iopub.status.busy": "2021-04-04T22:22:08.740807Z",
     "iopub.status.idle": "2021-04-04T22:22:08.749453Z",
     "shell.execute_reply": "2021-04-04T22:22:08.748367Z"
    },
    "papermill": {
     "duration": 0.03487,
     "end_time": "2021-04-04T22:22:08.749597",
     "exception": false,
     "start_time": "2021-04-04T22:22:08.714727",
     "status": "completed"
    },
    "tags": []
   },
   "outputs": [],
   "source": [
    "import json\n",
    "\n",
    "\n",
    "with open(DATASET_CONFIG_PATH) as f:\n",
    "    dataset_config = json.load(f)\n",
    "\n",
    "with open(MODEL_CONFIG_PATH) as f:\n",
    "    model_config = json.load(f)"
   ]
  },
  {
   "cell_type": "markdown",
   "id": "9a4b0e2d",
   "metadata": {
    "papermill": {
     "duration": 0.019554,
     "end_time": "2021-04-04T22:22:08.790455",
     "exception": false,
     "start_time": "2021-04-04T22:22:08.770901",
     "status": "completed"
    },
    "tags": []
   },
   "source": [
    "# Profiling"
   ]
  },
  {
   "cell_type": "code",
   "execution_count": 4,
   "id": "a3e0289b",
   "metadata": {
    "execution": {
     "iopub.execute_input": "2021-04-04T22:22:08.833659Z",
     "iopub.status.busy": "2021-04-04T22:22:08.833048Z",
     "iopub.status.idle": "2021-04-04T22:22:10.090572Z",
     "shell.execute_reply": "2021-04-04T22:22:10.091098Z"
    },
    "papermill": {
     "duration": 1.281652,
     "end_time": "2021-04-04T22:22:10.091256",
     "exception": false,
     "start_time": "2021-04-04T22:22:08.809604",
     "status": "completed"
    },
    "tags": []
   },
   "outputs": [],
   "source": [
    "import pandas as pd\n",
    "from pandas_profiling import ProfileReport"
   ]
  },
  {
   "cell_type": "code",
   "execution_count": 5,
   "id": "ee6c0666",
   "metadata": {
    "execution": {
     "iopub.execute_input": "2021-04-04T22:22:10.140209Z",
     "iopub.status.busy": "2021-04-04T22:22:10.139476Z",
     "iopub.status.idle": "2021-04-04T22:22:10.154217Z",
     "shell.execute_reply": "2021-04-04T22:22:10.153106Z"
    },
    "papermill": {
     "duration": 0.042085,
     "end_time": "2021-04-04T22:22:10.154431",
     "exception": false,
     "start_time": "2021-04-04T22:22:10.112346",
     "status": "completed"
    },
    "tags": []
   },
   "outputs": [],
   "source": [
    "df = pd.read_csv(dataset_config['dataset_path'])"
   ]
  },
  {
   "cell_type": "code",
   "execution_count": 6,
   "id": "20d45671",
   "metadata": {
    "execution": {
     "iopub.execute_input": "2021-04-04T22:22:10.209794Z",
     "iopub.status.busy": "2021-04-04T22:22:10.208910Z",
     "iopub.status.idle": "2021-04-04T22:22:10.225850Z",
     "shell.execute_reply": "2021-04-04T22:22:10.226855Z"
    },
    "papermill": {
     "duration": 0.043979,
     "end_time": "2021-04-04T22:22:10.227077",
     "exception": false,
     "start_time": "2021-04-04T22:22:10.183098",
     "status": "completed"
    },
    "tags": []
   },
   "outputs": [
    {
     "name": "stdout",
     "output_type": "stream",
     "text": [
      "<class 'pandas.core.frame.DataFrame'>\n",
      "RangeIndex: 2109 entries, 0 to 2108\n",
      "Data columns (total 23 columns):\n",
      " #   Column             Non-Null Count  Dtype  \n",
      "---  ------             --------------  -----  \n",
      " 0   id                 2109 non-null   int64  \n",
      " 1   loc                2109 non-null   float64\n",
      " 2   v(g)               2109 non-null   float64\n",
      " 3   ev(g)              2109 non-null   float64\n",
      " 4   iv(g)              2109 non-null   float64\n",
      " 5   n                  2109 non-null   float64\n",
      " 6   v                  2109 non-null   float64\n",
      " 7   l                  2109 non-null   float64\n",
      " 8   d                  2109 non-null   float64\n",
      " 9   i                  2109 non-null   float64\n",
      " 10  e                  2109 non-null   float64\n",
      " 11  b                  2109 non-null   float64\n",
      " 12  t                  2109 non-null   float64\n",
      " 13  lOCode             2109 non-null   int64  \n",
      " 14  lOComment          2109 non-null   int64  \n",
      " 15  lOBlank            2109 non-null   int64  \n",
      " 16  locCodeAndComment  2109 non-null   int64  \n",
      " 17  uniq_Op            2109 non-null   float64\n",
      " 18  uniq_Opnd          2109 non-null   float64\n",
      " 19  total_Op           2109 non-null   float64\n",
      " 20  total_Opnd         2109 non-null   float64\n",
      " 21  branchCount        2109 non-null   float64\n",
      " 22  defects            2109 non-null   bool   \n",
      "dtypes: bool(1), float64(17), int64(5)\n",
      "memory usage: 364.7 KB\n"
     ]
    }
   ],
   "source": [
    "df.info()"
   ]
  },
  {
   "cell_type": "code",
   "execution_count": 7,
   "id": "a676db33",
   "metadata": {
    "execution": {
     "iopub.execute_input": "2021-04-04T22:22:10.288270Z",
     "iopub.status.busy": "2021-04-04T22:22:10.287289Z",
     "iopub.status.idle": "2021-04-04T22:22:10.317293Z",
     "shell.execute_reply": "2021-04-04T22:22:10.316081Z"
    },
    "papermill": {
     "duration": 0.061702,
     "end_time": "2021-04-04T22:22:10.317516",
     "exception": false,
     "start_time": "2021-04-04T22:22:10.255814",
     "status": "completed"
    },
    "tags": []
   },
   "outputs": [
    {
     "data": {
      "text/html": [
       "<div>\n",
       "<style scoped>\n",
       "    .dataframe tbody tr th:only-of-type {\n",
       "        vertical-align: middle;\n",
       "    }\n",
       "\n",
       "    .dataframe tbody tr th {\n",
       "        vertical-align: top;\n",
       "    }\n",
       "\n",
       "    .dataframe thead th {\n",
       "        text-align: right;\n",
       "    }\n",
       "</style>\n",
       "<table border=\"1\" class=\"dataframe\">\n",
       "  <thead>\n",
       "    <tr style=\"text-align: right;\">\n",
       "      <th></th>\n",
       "      <th>id</th>\n",
       "      <th>loc</th>\n",
       "      <th>v(g)</th>\n",
       "      <th>ev(g)</th>\n",
       "      <th>iv(g)</th>\n",
       "      <th>n</th>\n",
       "      <th>v</th>\n",
       "      <th>l</th>\n",
       "      <th>d</th>\n",
       "      <th>i</th>\n",
       "      <th>...</th>\n",
       "      <th>lOCode</th>\n",
       "      <th>lOComment</th>\n",
       "      <th>lOBlank</th>\n",
       "      <th>locCodeAndComment</th>\n",
       "      <th>uniq_Op</th>\n",
       "      <th>uniq_Opnd</th>\n",
       "      <th>total_Op</th>\n",
       "      <th>total_Opnd</th>\n",
       "      <th>branchCount</th>\n",
       "      <th>defects</th>\n",
       "    </tr>\n",
       "  </thead>\n",
       "  <tbody>\n",
       "    <tr>\n",
       "      <th>0</th>\n",
       "      <td>1</td>\n",
       "      <td>1.1</td>\n",
       "      <td>1.4</td>\n",
       "      <td>1.4</td>\n",
       "      <td>1.4</td>\n",
       "      <td>1.3</td>\n",
       "      <td>1.30</td>\n",
       "      <td>1.30</td>\n",
       "      <td>1.30</td>\n",
       "      <td>1.30</td>\n",
       "      <td>...</td>\n",
       "      <td>2</td>\n",
       "      <td>2</td>\n",
       "      <td>2</td>\n",
       "      <td>2</td>\n",
       "      <td>1.2</td>\n",
       "      <td>1.2</td>\n",
       "      <td>1.2</td>\n",
       "      <td>1.2</td>\n",
       "      <td>1.4</td>\n",
       "      <td>False</td>\n",
       "    </tr>\n",
       "    <tr>\n",
       "      <th>1</th>\n",
       "      <td>2</td>\n",
       "      <td>1.0</td>\n",
       "      <td>1.0</td>\n",
       "      <td>1.0</td>\n",
       "      <td>1.0</td>\n",
       "      <td>1.0</td>\n",
       "      <td>1.00</td>\n",
       "      <td>1.00</td>\n",
       "      <td>1.00</td>\n",
       "      <td>1.00</td>\n",
       "      <td>...</td>\n",
       "      <td>1</td>\n",
       "      <td>1</td>\n",
       "      <td>1</td>\n",
       "      <td>1</td>\n",
       "      <td>1.0</td>\n",
       "      <td>1.0</td>\n",
       "      <td>1.0</td>\n",
       "      <td>1.0</td>\n",
       "      <td>1.0</td>\n",
       "      <td>True</td>\n",
       "    </tr>\n",
       "    <tr>\n",
       "      <th>2</th>\n",
       "      <td>3</td>\n",
       "      <td>83.0</td>\n",
       "      <td>11.0</td>\n",
       "      <td>1.0</td>\n",
       "      <td>11.0</td>\n",
       "      <td>171.0</td>\n",
       "      <td>927.89</td>\n",
       "      <td>0.04</td>\n",
       "      <td>23.04</td>\n",
       "      <td>40.27</td>\n",
       "      <td>...</td>\n",
       "      <td>65</td>\n",
       "      <td>10</td>\n",
       "      <td>6</td>\n",
       "      <td>0</td>\n",
       "      <td>18.0</td>\n",
       "      <td>25.0</td>\n",
       "      <td>107.0</td>\n",
       "      <td>64.0</td>\n",
       "      <td>21.0</td>\n",
       "      <td>True</td>\n",
       "    </tr>\n",
       "    <tr>\n",
       "      <th>3</th>\n",
       "      <td>4</td>\n",
       "      <td>46.0</td>\n",
       "      <td>8.0</td>\n",
       "      <td>6.0</td>\n",
       "      <td>8.0</td>\n",
       "      <td>141.0</td>\n",
       "      <td>769.78</td>\n",
       "      <td>0.07</td>\n",
       "      <td>14.86</td>\n",
       "      <td>51.81</td>\n",
       "      <td>...</td>\n",
       "      <td>37</td>\n",
       "      <td>2</td>\n",
       "      <td>5</td>\n",
       "      <td>0</td>\n",
       "      <td>16.0</td>\n",
       "      <td>28.0</td>\n",
       "      <td>89.0</td>\n",
       "      <td>52.0</td>\n",
       "      <td>15.0</td>\n",
       "      <td>True</td>\n",
       "    </tr>\n",
       "    <tr>\n",
       "      <th>4</th>\n",
       "      <td>5</td>\n",
       "      <td>25.0</td>\n",
       "      <td>3.0</td>\n",
       "      <td>1.0</td>\n",
       "      <td>3.0</td>\n",
       "      <td>58.0</td>\n",
       "      <td>254.75</td>\n",
       "      <td>0.11</td>\n",
       "      <td>9.35</td>\n",
       "      <td>27.25</td>\n",
       "      <td>...</td>\n",
       "      <td>21</td>\n",
       "      <td>0</td>\n",
       "      <td>2</td>\n",
       "      <td>0</td>\n",
       "      <td>11.0</td>\n",
       "      <td>10.0</td>\n",
       "      <td>41.0</td>\n",
       "      <td>17.0</td>\n",
       "      <td>5.0</td>\n",
       "      <td>True</td>\n",
       "    </tr>\n",
       "  </tbody>\n",
       "</table>\n",
       "<p>5 rows × 23 columns</p>\n",
       "</div>"
      ],
      "text/plain": [
       "   id   loc  v(g)  ev(g)  iv(g)      n       v     l      d      i  ...  \\\n",
       "0   1   1.1   1.4    1.4    1.4    1.3    1.30  1.30   1.30   1.30  ...   \n",
       "1   2   1.0   1.0    1.0    1.0    1.0    1.00  1.00   1.00   1.00  ...   \n",
       "2   3  83.0  11.0    1.0   11.0  171.0  927.89  0.04  23.04  40.27  ...   \n",
       "3   4  46.0   8.0    6.0    8.0  141.0  769.78  0.07  14.86  51.81  ...   \n",
       "4   5  25.0   3.0    1.0    3.0   58.0  254.75  0.11   9.35  27.25  ...   \n",
       "\n",
       "   lOCode  lOComment  lOBlank  locCodeAndComment  uniq_Op  uniq_Opnd  \\\n",
       "0       2          2        2                  2      1.2        1.2   \n",
       "1       1          1        1                  1      1.0        1.0   \n",
       "2      65         10        6                  0     18.0       25.0   \n",
       "3      37          2        5                  0     16.0       28.0   \n",
       "4      21          0        2                  0     11.0       10.0   \n",
       "\n",
       "   total_Op  total_Opnd  branchCount  defects  \n",
       "0       1.2         1.2          1.4    False  \n",
       "1       1.0         1.0          1.0     True  \n",
       "2     107.0        64.0         21.0     True  \n",
       "3      89.0        52.0         15.0     True  \n",
       "4      41.0        17.0          5.0     True  \n",
       "\n",
       "[5 rows x 23 columns]"
      ]
     },
     "execution_count": 7,
     "metadata": {},
     "output_type": "execute_result"
    }
   ],
   "source": [
    "df.head()"
   ]
  },
  {
   "cell_type": "code",
   "execution_count": 8,
   "id": "dd6aa244",
   "metadata": {
    "execution": {
     "iopub.execute_input": "2021-04-04T22:22:10.375406Z",
     "iopub.status.busy": "2021-04-04T22:22:10.374280Z",
     "iopub.status.idle": "2021-04-04T22:22:10.376528Z",
     "shell.execute_reply": "2021-04-04T22:22:10.377261Z"
    },
    "papermill": {
     "duration": 0.033673,
     "end_time": "2021-04-04T22:22:10.377454",
     "exception": false,
     "start_time": "2021-04-04T22:22:10.343781",
     "status": "completed"
    },
    "tags": []
   },
   "outputs": [],
   "source": [
    "del df['id']"
   ]
  },
  {
   "cell_type": "code",
   "execution_count": 9,
   "id": "6ff6f5b0",
   "metadata": {
    "execution": {
     "iopub.execute_input": "2021-04-04T22:22:10.425834Z",
     "iopub.status.busy": "2021-04-04T22:22:10.425126Z",
     "iopub.status.idle": "2021-04-04T22:22:10.426872Z",
     "shell.execute_reply": "2021-04-04T22:22:10.427344Z"
    },
    "papermill": {
     "duration": 0.028834,
     "end_time": "2021-04-04T22:22:10.427488",
     "exception": false,
     "start_time": "2021-04-04T22:22:10.398654",
     "status": "completed"
    },
    "tags": []
   },
   "outputs": [],
   "source": [
    "if PROFILE_REPORTING:\n",
    "    ProfileReport(df).to_widgets()"
   ]
  },
  {
   "cell_type": "markdown",
   "id": "1deaf3f0",
   "metadata": {
    "papermill": {
     "duration": 0.021453,
     "end_time": "2021-04-04T22:22:10.470390",
     "exception": false,
     "start_time": "2021-04-04T22:22:10.448937",
     "status": "completed"
    },
    "tags": []
   },
   "source": [
    "# Preprocess"
   ]
  },
  {
   "cell_type": "code",
   "execution_count": 10,
   "id": "9153b2bb",
   "metadata": {
    "execution": {
     "iopub.execute_input": "2021-04-04T22:22:10.517025Z",
     "iopub.status.busy": "2021-04-04T22:22:10.516256Z",
     "iopub.status.idle": "2021-04-04T22:22:10.518258Z",
     "shell.execute_reply": "2021-04-04T22:22:10.518767Z"
    },
    "papermill": {
     "duration": 0.027314,
     "end_time": "2021-04-04T22:22:10.518922",
     "exception": false,
     "start_time": "2021-04-04T22:22:10.491608",
     "status": "completed"
    },
    "tags": []
   },
   "outputs": [],
   "source": [
    "working_df = df.copy()"
   ]
  },
  {
   "cell_type": "code",
   "execution_count": 11,
   "id": "3b26d675",
   "metadata": {
    "execution": {
     "iopub.execute_input": "2021-04-04T22:22:10.570594Z",
     "iopub.status.busy": "2021-04-04T22:22:10.569893Z",
     "iopub.status.idle": "2021-04-04T22:22:10.573431Z",
     "shell.execute_reply": "2021-04-04T22:22:10.573943Z"
    },
    "papermill": {
     "duration": 0.031396,
     "end_time": "2021-04-04T22:22:10.574101",
     "exception": false,
     "start_time": "2021-04-04T22:22:10.542705",
     "status": "completed"
    },
    "tags": []
   },
   "outputs": [],
   "source": [
    "working_df['defects'] = working_df['defects'].replace([False, True], [0, 1])"
   ]
  },
  {
   "cell_type": "code",
   "execution_count": 12,
   "id": "5f306c3e",
   "metadata": {
    "execution": {
     "iopub.execute_input": "2021-04-04T22:22:10.623385Z",
     "iopub.status.busy": "2021-04-04T22:22:10.622626Z",
     "iopub.status.idle": "2021-04-04T22:22:10.624806Z",
     "shell.execute_reply": "2021-04-04T22:22:10.625319Z"
    },
    "papermill": {
     "duration": 0.027589,
     "end_time": "2021-04-04T22:22:10.625485",
     "exception": false,
     "start_time": "2021-04-04T22:22:10.597896",
     "status": "completed"
    },
    "tags": []
   },
   "outputs": [],
   "source": [
    "for col in dataset_config['delete_columns']:\n",
    "    del working_df[col]"
   ]
  },
  {
   "cell_type": "code",
   "execution_count": 13,
   "id": "a55074fa",
   "metadata": {
    "execution": {
     "iopub.execute_input": "2021-04-04T22:22:10.680627Z",
     "iopub.status.busy": "2021-04-04T22:22:10.679800Z",
     "iopub.status.idle": "2021-04-04T22:22:10.689894Z",
     "shell.execute_reply": "2021-04-04T22:22:10.690473Z"
    },
    "papermill": {
     "duration": 0.039634,
     "end_time": "2021-04-04T22:22:10.690657",
     "exception": false,
     "start_time": "2021-04-04T22:22:10.651023",
     "status": "completed"
    },
    "tags": []
   },
   "outputs": [],
   "source": [
    "working_df = working_df.drop_duplicates()"
   ]
  },
  {
   "cell_type": "markdown",
   "id": "a4d52ca6",
   "metadata": {
    "papermill": {
     "duration": 0.021009,
     "end_time": "2021-04-04T22:22:10.735611",
     "exception": false,
     "start_time": "2021-04-04T22:22:10.714602",
     "status": "completed"
    },
    "tags": []
   },
   "source": [
    "# Split"
   ]
  },
  {
   "cell_type": "code",
   "execution_count": 14,
   "id": "3e9ee4b5",
   "metadata": {
    "execution": {
     "iopub.execute_input": "2021-04-04T22:22:10.787981Z",
     "iopub.status.busy": "2021-04-04T22:22:10.787301Z",
     "iopub.status.idle": "2021-04-04T22:22:10.820274Z",
     "shell.execute_reply": "2021-04-04T22:22:10.820994Z"
    },
    "papermill": {
     "duration": 0.06073,
     "end_time": "2021-04-04T22:22:10.821213",
     "exception": false,
     "start_time": "2021-04-04T22:22:10.760483",
     "status": "completed"
    },
    "tags": []
   },
   "outputs": [],
   "source": [
    "from sklearn.model_selection import train_test_split"
   ]
  },
  {
   "cell_type": "code",
   "execution_count": 15,
   "id": "274004ce",
   "metadata": {
    "execution": {
     "iopub.execute_input": "2021-04-04T22:22:10.874453Z",
     "iopub.status.busy": "2021-04-04T22:22:10.873528Z",
     "iopub.status.idle": "2021-04-04T22:22:10.880498Z",
     "shell.execute_reply": "2021-04-04T22:22:10.880996Z"
    },
    "papermill": {
     "duration": 0.034076,
     "end_time": "2021-04-04T22:22:10.881147",
     "exception": false,
     "start_time": "2021-04-04T22:22:10.847071",
     "status": "completed"
    },
    "scrolled": true,
    "tags": []
   },
   "outputs": [],
   "source": [
    "inlier, outlier = working_df[working_df['defects'] == 0], working_df[working_df['defects'] == 1]"
   ]
  },
  {
   "cell_type": "code",
   "execution_count": 16,
   "id": "753c7b03",
   "metadata": {
    "execution": {
     "iopub.execute_input": "2021-04-04T22:22:10.936086Z",
     "iopub.status.busy": "2021-04-04T22:22:10.935328Z",
     "iopub.status.idle": "2021-04-04T22:22:10.939822Z",
     "shell.execute_reply": "2021-04-04T22:22:10.940301Z"
    },
    "papermill": {
     "duration": 0.032669,
     "end_time": "2021-04-04T22:22:10.940452",
     "exception": false,
     "start_time": "2021-04-04T22:22:10.907783",
     "status": "completed"
    },
    "tags": []
   },
   "outputs": [],
   "source": [
    "X_inlier = inlier.copy()\n",
    "y_inlier = X_inlier.pop('defects')\n",
    "X_outlier = outlier.copy()\n",
    "y_outlier = X_outlier.pop('defects')"
   ]
  },
  {
   "cell_type": "code",
   "execution_count": 17,
   "id": "2ba43193",
   "metadata": {
    "execution": {
     "iopub.execute_input": "2021-04-04T22:22:10.995111Z",
     "iopub.status.busy": "2021-04-04T22:22:10.994475Z",
     "iopub.status.idle": "2021-04-04T22:22:10.997296Z",
     "shell.execute_reply": "2021-04-04T22:22:10.998099Z"
    },
    "papermill": {
     "duration": 0.033679,
     "end_time": "2021-04-04T22:22:10.998326",
     "exception": false,
     "start_time": "2021-04-04T22:22:10.964647",
     "status": "completed"
    },
    "tags": []
   },
   "outputs": [],
   "source": [
    "test_size = dataset_config['test_size']\n",
    "random_state = dataset_config['random_state']\n",
    "\n",
    "X_inlier_train, X_inlier_test, y_inlier_train, y_inlier_test = train_test_split(\n",
    "    X_inlier,\n",
    "    y_inlier,\n",
    "    test_size=test_size,\n",
    "    random_state=random_state\n",
    ")"
   ]
  },
  {
   "cell_type": "code",
   "execution_count": 18,
   "id": "c8b58ec3",
   "metadata": {
    "execution": {
     "iopub.execute_input": "2021-04-04T22:22:11.063844Z",
     "iopub.status.busy": "2021-04-04T22:22:11.062880Z",
     "iopub.status.idle": "2021-04-04T22:22:11.065741Z",
     "shell.execute_reply": "2021-04-04T22:22:11.065154Z"
    },
    "papermill": {
     "duration": 0.036743,
     "end_time": "2021-04-04T22:22:11.065876",
     "exception": false,
     "start_time": "2021-04-04T22:22:11.029133",
     "status": "completed"
    },
    "tags": []
   },
   "outputs": [],
   "source": [
    "test_outlier_size = dataset_config['test_outlier_size']\n",
    "if test_outlier_size > 0.0:\n",
    "    X_outlier_train, X_outlier_test, y_outlier_train, y_outlier_test = train_test_split(\n",
    "        X_outlier,\n",
    "        y_outlier,\n",
    "        test_size=test_outlier_size,\n",
    "        random_state=random_state\n",
    "    )\n",
    "else:\n",
    "    X_outlier_train, y_outlier_train = pd.DataFrame(columns=X_outlier.columns), pd.Series(dtype='int64')\n",
    "    X_outlier_test, y_outlier_test = X_outlier.copy(), y_outlier.copy()"
   ]
  },
  {
   "cell_type": "code",
   "execution_count": 19,
   "id": "95991685",
   "metadata": {
    "execution": {
     "iopub.execute_input": "2021-04-04T22:22:11.128045Z",
     "iopub.status.busy": "2021-04-04T22:22:11.125964Z",
     "iopub.status.idle": "2021-04-04T22:22:11.133690Z",
     "shell.execute_reply": "2021-04-04T22:22:11.132855Z"
    },
    "papermill": {
     "duration": 0.038088,
     "end_time": "2021-04-04T22:22:11.133854",
     "exception": false,
     "start_time": "2021-04-04T22:22:11.095766",
     "status": "completed"
    },
    "tags": []
   },
   "outputs": [],
   "source": [
    "X_train, y_train = pd.concat([X_inlier_train, X_outlier_train], ignore_index=True), pd.concat([y_inlier_train, y_outlier_train], ignore_index=True)\n",
    "X_test, y_test = pd.concat([X_inlier_test, X_outlier_test], ignore_index=True), pd.concat([y_inlier_test, y_outlier_test], ignore_index=True)"
   ]
  },
  {
   "cell_type": "markdown",
   "id": "7cde7309",
   "metadata": {
    "papermill": {
     "duration": 0.023709,
     "end_time": "2021-04-04T22:22:11.185984",
     "exception": false,
     "start_time": "2021-04-04T22:22:11.162275",
     "status": "completed"
    },
    "tags": []
   },
   "source": [
    "# Model"
   ]
  },
  {
   "cell_type": "code",
   "execution_count": 20,
   "id": "a02c5c85",
   "metadata": {
    "execution": {
     "iopub.execute_input": "2021-04-04T22:22:11.244969Z",
     "iopub.status.busy": "2021-04-04T22:22:11.244319Z",
     "iopub.status.idle": "2021-04-04T22:22:11.247605Z",
     "shell.execute_reply": "2021-04-04T22:22:11.248428Z"
    },
    "papermill": {
     "duration": 0.040242,
     "end_time": "2021-04-04T22:22:11.248674",
     "exception": false,
     "start_time": "2021-04-04T22:22:11.208432",
     "status": "completed"
    },
    "tags": []
   },
   "outputs": [],
   "source": [
    "from math import sqrt\n",
    "\n",
    "\n",
    "class KNNDataDescription:\n",
    "    def __init__(self, k=5, outlier_threshold=1.0):\n",
    "        self.k = k\n",
    "        self.outlier_threshold = outlier_threshold\n",
    "        self.X = []\n",
    "    \n",
    "    def fit(self, X):\n",
    "        self.X = [features.to_list() for index, features in X.iterrows()]\n",
    "\n",
    "    def predict(self, entries):\n",
    "        return [self.predict_entry(features.to_list()) for index, features in entries.iterrows()]\n",
    "    \n",
    "    def predict_entry(self, entry):\n",
    "        kth_neighbor, kth_distance = self.get_kth_neighbor(entry, self.k)\n",
    "        kth_kth_neighbor, kth_kth_distance = self.get_kth_neighbor(kth_neighbor, self.k + 1)\n",
    "\n",
    "        outlier_score = kth_distance / (kth_kth_distance + 0.000001)\n",
    "\n",
    "        return 1 if outlier_score < self.outlier_threshold else -1\n",
    "        \n",
    "    def euclidean_distance(self, features1, features2):\n",
    "        distance = 0.0\n",
    "        for feat1, feat2 in zip(features1, features2):\n",
    "            distance += (feat1 - feat2)**2\n",
    "                \n",
    "        return sqrt(distance)\n",
    "\n",
    "    def get_neighbors(self, entry, k):\n",
    "        distance_to_data_points = [\n",
    "            (data_point, self.euclidean_distance(entry, data_point))\n",
    "            for data_point in self.X\n",
    "        ]\n",
    "        sorted_by_distance = sorted(distance_to_data_points, key=lambda tup: tup[1])\n",
    "        neighbors = sorted_by_distance[:k]\n",
    "        return neighbors\n",
    "\n",
    "    def get_kth_neighbor(self, entry, k):\n",
    "        neighbors = self.get_neighbors(entry, k)\n",
    "        return neighbors[-1]\n"
   ]
  },
  {
   "cell_type": "code",
   "execution_count": 21,
   "id": "1fa9ec1c",
   "metadata": {
    "execution": {
     "iopub.execute_input": "2021-04-04T22:22:11.303280Z",
     "iopub.status.busy": "2021-04-04T22:22:11.302607Z",
     "iopub.status.idle": "2021-04-04T22:22:11.322820Z",
     "shell.execute_reply": "2021-04-04T22:22:11.322220Z"
    },
    "papermill": {
     "duration": 0.048829,
     "end_time": "2021-04-04T22:22:11.322939",
     "exception": false,
     "start_time": "2021-04-04T22:22:11.274110",
     "status": "completed"
    },
    "tags": []
   },
   "outputs": [],
   "source": [
    "from sklearn.svm import OneClassSVM\n",
    "\n",
    "\n",
    "models = {\n",
    "    'oneclasssvm': OneClassSVM,\n",
    "    'knndatadescription': KNNDataDescription,\n",
    "}"
   ]
  },
  {
   "cell_type": "code",
   "execution_count": 22,
   "id": "4d72a0b1",
   "metadata": {
    "execution": {
     "iopub.execute_input": "2021-04-04T22:22:11.380334Z",
     "iopub.status.busy": "2021-04-04T22:22:11.379370Z",
     "iopub.status.idle": "2021-04-04T22:22:11.381544Z",
     "shell.execute_reply": "2021-04-04T22:22:11.382021Z"
    },
    "papermill": {
     "duration": 0.034266,
     "end_time": "2021-04-04T22:22:11.382169",
     "exception": false,
     "start_time": "2021-04-04T22:22:11.347903",
     "status": "completed"
    },
    "scrolled": true,
    "tags": []
   },
   "outputs": [],
   "source": [
    "model_cls = models[model_config['model_type']]\n",
    "model = model_cls(**model_config['hyperparameters'])"
   ]
  },
  {
   "cell_type": "markdown",
   "id": "e00cff3b",
   "metadata": {
    "papermill": {
     "duration": 0.023784,
     "end_time": "2021-04-04T22:22:11.428752",
     "exception": false,
     "start_time": "2021-04-04T22:22:11.404968",
     "status": "completed"
    },
    "tags": []
   },
   "source": [
    "# Fit"
   ]
  },
  {
   "cell_type": "code",
   "execution_count": 23,
   "id": "8b2ded89",
   "metadata": {
    "execution": {
     "iopub.execute_input": "2021-04-04T22:22:11.484884Z",
     "iopub.status.busy": "2021-04-04T22:22:11.478894Z",
     "iopub.status.idle": "2021-04-04T22:22:11.529543Z",
     "shell.execute_reply": "2021-04-04T22:22:11.528923Z"
    },
    "papermill": {
     "duration": 0.07777,
     "end_time": "2021-04-04T22:22:11.529667",
     "exception": false,
     "start_time": "2021-04-04T22:22:11.451897",
     "status": "completed"
    },
    "tags": []
   },
   "outputs": [],
   "source": [
    "model.fit(X_train)"
   ]
  },
  {
   "cell_type": "markdown",
   "id": "f99999f7",
   "metadata": {
    "papermill": {
     "duration": 0.025283,
     "end_time": "2021-04-04T22:22:11.608265",
     "exception": false,
     "start_time": "2021-04-04T22:22:11.582982",
     "status": "completed"
    },
    "tags": []
   },
   "source": [
    "# Predict"
   ]
  },
  {
   "cell_type": "code",
   "execution_count": 24,
   "id": "6536fbf7",
   "metadata": {
    "execution": {
     "iopub.execute_input": "2021-04-04T22:22:11.658042Z",
     "iopub.status.busy": "2021-04-04T22:22:11.657292Z",
     "iopub.status.idle": "2021-04-04T22:22:14.538741Z",
     "shell.execute_reply": "2021-04-04T22:22:14.537833Z"
    },
    "papermill": {
     "duration": 2.907945,
     "end_time": "2021-04-04T22:22:14.538918",
     "exception": false,
     "start_time": "2021-04-04T22:22:11.630973",
     "status": "completed"
    },
    "tags": []
   },
   "outputs": [],
   "source": [
    "predictions = model.predict(X_test)"
   ]
  },
  {
   "cell_type": "markdown",
   "id": "aa1c9881",
   "metadata": {
    "papermill": {
     "duration": 0.02381,
     "end_time": "2021-04-04T22:22:14.592552",
     "exception": false,
     "start_time": "2021-04-04T22:22:14.568742",
     "status": "completed"
    },
    "tags": []
   },
   "source": [
    "# Evaluate"
   ]
  },
  {
   "cell_type": "code",
   "execution_count": 25,
   "id": "894f0f04",
   "metadata": {
    "execution": {
     "iopub.execute_input": "2021-04-04T22:22:14.643252Z",
     "iopub.status.busy": "2021-04-04T22:22:14.642476Z",
     "iopub.status.idle": "2021-04-04T22:22:14.645244Z",
     "shell.execute_reply": "2021-04-04T22:22:14.644747Z"
    },
    "papermill": {
     "duration": 0.029419,
     "end_time": "2021-04-04T22:22:14.645364",
     "exception": false,
     "start_time": "2021-04-04T22:22:14.615945",
     "status": "completed"
    },
    "tags": []
   },
   "outputs": [],
   "source": [
    "from sklearn.metrics import f1_score"
   ]
  },
  {
   "cell_type": "code",
   "execution_count": 26,
   "id": "211744d3",
   "metadata": {
    "execution": {
     "iopub.execute_input": "2021-04-04T22:22:14.704204Z",
     "iopub.status.busy": "2021-04-04T22:22:14.703080Z",
     "iopub.status.idle": "2021-04-04T22:22:14.705632Z",
     "shell.execute_reply": "2021-04-04T22:22:14.706122Z"
    },
    "papermill": {
     "duration": 0.03586,
     "end_time": "2021-04-04T22:22:14.706276",
     "exception": false,
     "start_time": "2021-04-04T22:22:14.670416",
     "status": "completed"
    },
    "tags": []
   },
   "outputs": [],
   "source": [
    "y_test = y_test.replace([0, 1], [1, -1])"
   ]
  },
  {
   "cell_type": "code",
   "execution_count": 27,
   "id": "d68a9204",
   "metadata": {
    "execution": {
     "iopub.execute_input": "2021-04-04T22:22:14.776867Z",
     "iopub.status.busy": "2021-04-04T22:22:14.775767Z",
     "iopub.status.idle": "2021-04-04T22:22:14.778051Z",
     "shell.execute_reply": "2021-04-04T22:22:14.778942Z"
    },
    "papermill": {
     "duration": 0.049343,
     "end_time": "2021-04-04T22:22:14.779198",
     "exception": false,
     "start_time": "2021-04-04T22:22:14.729855",
     "status": "completed"
    },
    "tags": []
   },
   "outputs": [],
   "source": [
    "def evaluate(truths, predictions, pos_label, neg_label):\n",
    "    TP = 0\n",
    "    FP = 0\n",
    "    TN = 0\n",
    "    FN = 0\n",
    "\n",
    "    for truth, pred in zip(truths, predictions): \n",
    "        if truth == pred == pos_label:\n",
    "           TP += 1\n",
    "        elif pred == pos_label and truth == neg_label:\n",
    "           FP += 1\n",
    "        elif truth == pred == neg_label:\n",
    "           TN += 1\n",
    "        elif pred == neg_label and truth == pos_label:\n",
    "           FN += 1\n",
    "        else:\n",
    "            __import__(\"ipdb\").set_trace()\n",
    "\n",
    "    precision = TP / (TP + FP)\n",
    "    sensitivity = TP / (TP + FN)\n",
    "    \n",
    "    return {\n",
    "        'true_pos': TP,\n",
    "        'false_pos': FP,\n",
    "        'false_neg': FN,\n",
    "        'true_neg': TN,\n",
    "        'precision': precision,\n",
    "        'sensitivity': sensitivity,\n",
    "        'f1': (2 * (precision * sensitivity)) / (precision + sensitivity)\n",
    "    }\n",
    "\n",
    "score = evaluate(y_test, predictions, pos_label=-1, neg_label=1)"
   ]
  },
  {
   "cell_type": "markdown",
   "id": "246fa8c7",
   "metadata": {
    "papermill": {
     "duration": 0.02366,
     "end_time": "2021-04-04T22:22:14.830970",
     "exception": false,
     "start_time": "2021-04-04T22:22:14.807310",
     "status": "completed"
    },
    "tags": []
   },
   "source": [
    "# Report"
   ]
  },
  {
   "cell_type": "code",
   "execution_count": 28,
   "id": "cfb47f85",
   "metadata": {
    "execution": {
     "iopub.execute_input": "2021-04-04T22:22:14.884918Z",
     "iopub.status.busy": "2021-04-04T22:22:14.884196Z",
     "iopub.status.idle": "2021-04-04T22:22:14.886158Z",
     "shell.execute_reply": "2021-04-04T22:22:14.886627Z"
    },
    "papermill": {
     "duration": 0.032807,
     "end_time": "2021-04-04T22:22:14.886833",
     "exception": false,
     "start_time": "2021-04-04T22:22:14.854026",
     "status": "completed"
    },
    "tags": []
   },
   "outputs": [],
   "source": [
    "import csv\n",
    "\n",
    "\n",
    "dataset_config_name = DATASET_CONFIG_PATH.split('/')[-1].split('.')[0]\n",
    "model_config_name = MODEL_CONFIG_PATH.split('/')[-1].split('.')[0]\n",
    "configuration = f\"dataset_{dataset_config_name}-model_{model_config_name}\"\n",
    "\n",
    "with open('results.csv', 'a') as f:\n",
    "    report = dict({'configuration': configuration}, **score)\n",
    "    writer = csv.DictWriter(f, report.keys())\n",
    "    writer.writerow(report)"
   ]
  }
 ],
 "metadata": {
  "celltoolbar": "Tags",
  "kernelspec": {
   "display_name": "Python 3",
   "language": "python",
   "name": "python3"
  },
  "language_info": {
   "codemirror_mode": {
    "name": "ipython",
    "version": 3
   },
   "file_extension": ".py",
   "mimetype": "text/x-python",
   "name": "python",
   "nbconvert_exporter": "python",
   "pygments_lexer": "ipython3",
   "version": "3.9.1"
  },
  "papermill": {
   "default_parameters": {},
   "duration": 7.903353,
   "end_time": "2021-04-04T22:22:15.526225",
   "environment_variables": {},
   "exception": null,
   "input_path": "main.ipynb",
   "output_path": "runs/dataset_000002-model_000003.ipynb",
   "parameters": {
    "DATASET_CONFIG_PATH": "config/dataset/000002.json",
    "MODEL_CONFIG_PATH": "config/model/000003.json",
    "PROFILE_REPORTING": false
   },
   "start_time": "2021-04-04T22:22:07.622872",
   "version": "2.3.3"
  }
 },
 "nbformat": 4,
 "nbformat_minor": 5
}