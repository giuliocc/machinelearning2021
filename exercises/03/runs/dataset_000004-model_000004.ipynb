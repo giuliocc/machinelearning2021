{
 "cells": [
  {
   "cell_type": "markdown",
   "id": "4588efca",
   "metadata": {
    "papermill": {
     "duration": 0.029727,
     "end_time": "2021-04-04T22:23:12.340564",
     "exception": false,
     "start_time": "2021-04-04T22:23:12.310837",
     "status": "completed"
    },
    "tags": []
   },
   "source": [
    "# Parametrizing"
   ]
  },
  {
   "cell_type": "code",
   "execution_count": 1,
   "id": "5964d9c0",
   "metadata": {
    "execution": {
     "iopub.execute_input": "2021-04-04T22:23:12.400274Z",
     "iopub.status.busy": "2021-04-04T22:23:12.399373Z",
     "iopub.status.idle": "2021-04-04T22:23:12.401756Z",
     "shell.execute_reply": "2021-04-04T22:23:12.402327Z"
    },
    "papermill": {
     "duration": 0.036594,
     "end_time": "2021-04-04T22:23:12.402564",
     "exception": false,
     "start_time": "2021-04-04T22:23:12.365970",
     "status": "completed"
    },
    "tags": [
     "parameters"
    ]
   },
   "outputs": [],
   "source": [
    "DATASET_CONFIG_PATH = 'config/dataset/kc1_001.json'\n",
    "MODEL_CONFIG_PATH = 'config/model/knndd_001.json'\n",
    "PROFILE_REPORTING = False"
   ]
  },
  {
   "cell_type": "code",
   "execution_count": 2,
   "id": "41ba570d",
   "metadata": {
    "execution": {
     "iopub.execute_input": "2021-04-04T22:23:12.445240Z",
     "iopub.status.busy": "2021-04-04T22:23:12.444650Z",
     "iopub.status.idle": "2021-04-04T22:23:12.446556Z",
     "shell.execute_reply": "2021-04-04T22:23:12.447052Z"
    },
    "papermill": {
     "duration": 0.024831,
     "end_time": "2021-04-04T22:23:12.447191",
     "exception": false,
     "start_time": "2021-04-04T22:23:12.422360",
     "status": "completed"
    },
    "tags": [
     "injected-parameters"
    ]
   },
   "outputs": [],
   "source": [
    "# Parameters\n",
    "DATASET_CONFIG_PATH = \"config/dataset/000004.json\"\n",
    "MODEL_CONFIG_PATH = \"config/model/000004.json\"\n",
    "PROFILE_REPORTING = False\n"
   ]
  },
  {
   "cell_type": "code",
   "execution_count": 3,
   "id": "3fa67035",
   "metadata": {
    "execution": {
     "iopub.execute_input": "2021-04-04T22:23:12.492747Z",
     "iopub.status.busy": "2021-04-04T22:23:12.492072Z",
     "iopub.status.idle": "2021-04-04T22:23:12.494282Z",
     "shell.execute_reply": "2021-04-04T22:23:12.494765Z"
    },
    "papermill": {
     "duration": 0.027739,
     "end_time": "2021-04-04T22:23:12.494914",
     "exception": false,
     "start_time": "2021-04-04T22:23:12.467175",
     "status": "completed"
    },
    "tags": []
   },
   "outputs": [],
   "source": [
    "import json\n",
    "\n",
    "\n",
    "with open(DATASET_CONFIG_PATH) as f:\n",
    "    dataset_config = json.load(f)\n",
    "\n",
    "with open(MODEL_CONFIG_PATH) as f:\n",
    "    model_config = json.load(f)"
   ]
  },
  {
   "cell_type": "markdown",
   "id": "9a4b0e2d",
   "metadata": {
    "papermill": {
     "duration": 0.019117,
     "end_time": "2021-04-04T22:23:12.535179",
     "exception": false,
     "start_time": "2021-04-04T22:23:12.516062",
     "status": "completed"
    },
    "tags": []
   },
   "source": [
    "# Profiling"
   ]
  },
  {
   "cell_type": "code",
   "execution_count": 4,
   "id": "a3e0289b",
   "metadata": {
    "execution": {
     "iopub.execute_input": "2021-04-04T22:23:12.577953Z",
     "iopub.status.busy": "2021-04-04T22:23:12.576856Z",
     "iopub.status.idle": "2021-04-04T22:23:13.792860Z",
     "shell.execute_reply": "2021-04-04T22:23:13.791998Z"
    },
    "papermill": {
     "duration": 1.238843,
     "end_time": "2021-04-04T22:23:13.793029",
     "exception": false,
     "start_time": "2021-04-04T22:23:12.554186",
     "status": "completed"
    },
    "tags": []
   },
   "outputs": [],
   "source": [
    "import pandas as pd\n",
    "from pandas_profiling import ProfileReport"
   ]
  },
  {
   "cell_type": "code",
   "execution_count": 5,
   "id": "ee6c0666",
   "metadata": {
    "execution": {
     "iopub.execute_input": "2021-04-04T22:23:13.846850Z",
     "iopub.status.busy": "2021-04-04T22:23:13.845972Z",
     "iopub.status.idle": "2021-04-04T22:23:13.860073Z",
     "shell.execute_reply": "2021-04-04T22:23:13.859267Z"
    },
    "papermill": {
     "duration": 0.040747,
     "end_time": "2021-04-04T22:23:13.860232",
     "exception": false,
     "start_time": "2021-04-04T22:23:13.819485",
     "status": "completed"
    },
    "tags": []
   },
   "outputs": [],
   "source": [
    "df = pd.read_csv(dataset_config['dataset_path'])"
   ]
  },
  {
   "cell_type": "code",
   "execution_count": 6,
   "id": "20d45671",
   "metadata": {
    "execution": {
     "iopub.execute_input": "2021-04-04T22:23:13.910804Z",
     "iopub.status.busy": "2021-04-04T22:23:13.909707Z",
     "iopub.status.idle": "2021-04-04T22:23:13.927409Z",
     "shell.execute_reply": "2021-04-04T22:23:13.928403Z"
    },
    "papermill": {
     "duration": 0.044731,
     "end_time": "2021-04-04T22:23:13.928699",
     "exception": false,
     "start_time": "2021-04-04T22:23:13.883968",
     "status": "completed"
    },
    "tags": []
   },
   "outputs": [
    {
     "name": "stdout",
     "output_type": "stream",
     "text": [
      "<class 'pandas.core.frame.DataFrame'>\n",
      "RangeIndex: 2109 entries, 0 to 2108\n",
      "Data columns (total 23 columns):\n",
      " #   Column             Non-Null Count  Dtype  \n",
      "---  ------             --------------  -----  \n",
      " 0   id                 2109 non-null   int64  \n",
      " 1   loc                2109 non-null   float64\n",
      " 2   v(g)               2109 non-null   float64\n",
      " 3   ev(g)              2109 non-null   float64\n",
      " 4   iv(g)              2109 non-null   float64\n",
      " 5   n                  2109 non-null   float64\n",
      " 6   v                  2109 non-null   float64\n",
      " 7   l                  2109 non-null   float64\n",
      " 8   d                  2109 non-null   float64\n",
      " 9   i                  2109 non-null   float64\n",
      " 10  e                  2109 non-null   float64\n",
      " 11  b                  2109 non-null   float64\n",
      " 12  t                  2109 non-null   float64\n",
      " 13  lOCode             2109 non-null   int64  \n",
      " 14  lOComment          2109 non-null   int64  \n",
      " 15  lOBlank            2109 non-null   int64  \n",
      " 16  locCodeAndComment  2109 non-null   int64  \n",
      " 17  uniq_Op            2109 non-null   float64\n",
      " 18  uniq_Opnd          2109 non-null   float64\n",
      " 19  total_Op           2109 non-null   float64\n",
      " 20  total_Opnd         2109 non-null   float64\n",
      " 21  branchCount        2109 non-null   float64\n",
      " 22  defects            2109 non-null   bool   \n",
      "dtypes: bool(1), float64(17), int64(5)\n",
      "memory usage: 364.7 KB\n"
     ]
    }
   ],
   "source": [
    "df.info()"
   ]
  },
  {
   "cell_type": "code",
   "execution_count": 7,
   "id": "a676db33",
   "metadata": {
    "execution": {
     "iopub.execute_input": "2021-04-04T22:23:13.988085Z",
     "iopub.status.busy": "2021-04-04T22:23:13.986979Z",
     "iopub.status.idle": "2021-04-04T22:23:14.013680Z",
     "shell.execute_reply": "2021-04-04T22:23:14.012705Z"
    },
    "papermill": {
     "duration": 0.057634,
     "end_time": "2021-04-04T22:23:14.013896",
     "exception": false,
     "start_time": "2021-04-04T22:23:13.956262",
     "status": "completed"
    },
    "tags": []
   },
   "outputs": [
    {
     "data": {
      "text/html": [
       "<div>\n",
       "<style scoped>\n",
       "    .dataframe tbody tr th:only-of-type {\n",
       "        vertical-align: middle;\n",
       "    }\n",
       "\n",
       "    .dataframe tbody tr th {\n",
       "        vertical-align: top;\n",
       "    }\n",
       "\n",
       "    .dataframe thead th {\n",
       "        text-align: right;\n",
       "    }\n",
       "</style>\n",
       "<table border=\"1\" class=\"dataframe\">\n",
       "  <thead>\n",
       "    <tr style=\"text-align: right;\">\n",
       "      <th></th>\n",
       "      <th>id</th>\n",
       "      <th>loc</th>\n",
       "      <th>v(g)</th>\n",
       "      <th>ev(g)</th>\n",
       "      <th>iv(g)</th>\n",
       "      <th>n</th>\n",
       "      <th>v</th>\n",
       "      <th>l</th>\n",
       "      <th>d</th>\n",
       "      <th>i</th>\n",
       "      <th>...</th>\n",
       "      <th>lOCode</th>\n",
       "      <th>lOComment</th>\n",
       "      <th>lOBlank</th>\n",
       "      <th>locCodeAndComment</th>\n",
       "      <th>uniq_Op</th>\n",
       "      <th>uniq_Opnd</th>\n",
       "      <th>total_Op</th>\n",
       "      <th>total_Opnd</th>\n",
       "      <th>branchCount</th>\n",
       "      <th>defects</th>\n",
       "    </tr>\n",
       "  </thead>\n",
       "  <tbody>\n",
       "    <tr>\n",
       "      <th>0</th>\n",
       "      <td>1</td>\n",
       "      <td>1.1</td>\n",
       "      <td>1.4</td>\n",
       "      <td>1.4</td>\n",
       "      <td>1.4</td>\n",
       "      <td>1.3</td>\n",
       "      <td>1.30</td>\n",
       "      <td>1.30</td>\n",
       "      <td>1.30</td>\n",
       "      <td>1.30</td>\n",
       "      <td>...</td>\n",
       "      <td>2</td>\n",
       "      <td>2</td>\n",
       "      <td>2</td>\n",
       "      <td>2</td>\n",
       "      <td>1.2</td>\n",
       "      <td>1.2</td>\n",
       "      <td>1.2</td>\n",
       "      <td>1.2</td>\n",
       "      <td>1.4</td>\n",
       "      <td>False</td>\n",
       "    </tr>\n",
       "    <tr>\n",
       "      <th>1</th>\n",
       "      <td>2</td>\n",
       "      <td>1.0</td>\n",
       "      <td>1.0</td>\n",
       "      <td>1.0</td>\n",
       "      <td>1.0</td>\n",
       "      <td>1.0</td>\n",
       "      <td>1.00</td>\n",
       "      <td>1.00</td>\n",
       "      <td>1.00</td>\n",
       "      <td>1.00</td>\n",
       "      <td>...</td>\n",
       "      <td>1</td>\n",
       "      <td>1</td>\n",
       "      <td>1</td>\n",
       "      <td>1</td>\n",
       "      <td>1.0</td>\n",
       "      <td>1.0</td>\n",
       "      <td>1.0</td>\n",
       "      <td>1.0</td>\n",
       "      <td>1.0</td>\n",
       "      <td>True</td>\n",
       "    </tr>\n",
       "    <tr>\n",
       "      <th>2</th>\n",
       "      <td>3</td>\n",
       "      <td>83.0</td>\n",
       "      <td>11.0</td>\n",
       "      <td>1.0</td>\n",
       "      <td>11.0</td>\n",
       "      <td>171.0</td>\n",
       "      <td>927.89</td>\n",
       "      <td>0.04</td>\n",
       "      <td>23.04</td>\n",
       "      <td>40.27</td>\n",
       "      <td>...</td>\n",
       "      <td>65</td>\n",
       "      <td>10</td>\n",
       "      <td>6</td>\n",
       "      <td>0</td>\n",
       "      <td>18.0</td>\n",
       "      <td>25.0</td>\n",
       "      <td>107.0</td>\n",
       "      <td>64.0</td>\n",
       "      <td>21.0</td>\n",
       "      <td>True</td>\n",
       "    </tr>\n",
       "    <tr>\n",
       "      <th>3</th>\n",
       "      <td>4</td>\n",
       "      <td>46.0</td>\n",
       "      <td>8.0</td>\n",
       "      <td>6.0</td>\n",
       "      <td>8.0</td>\n",
       "      <td>141.0</td>\n",
       "      <td>769.78</td>\n",
       "      <td>0.07</td>\n",
       "      <td>14.86</td>\n",
       "      <td>51.81</td>\n",
       "      <td>...</td>\n",
       "      <td>37</td>\n",
       "      <td>2</td>\n",
       "      <td>5</td>\n",
       "      <td>0</td>\n",
       "      <td>16.0</td>\n",
       "      <td>28.0</td>\n",
       "      <td>89.0</td>\n",
       "      <td>52.0</td>\n",
       "      <td>15.0</td>\n",
       "      <td>True</td>\n",
       "    </tr>\n",
       "    <tr>\n",
       "      <th>4</th>\n",
       "      <td>5</td>\n",
       "      <td>25.0</td>\n",
       "      <td>3.0</td>\n",
       "      <td>1.0</td>\n",
       "      <td>3.0</td>\n",
       "      <td>58.0</td>\n",
       "      <td>254.75</td>\n",
       "      <td>0.11</td>\n",
       "      <td>9.35</td>\n",
       "      <td>27.25</td>\n",
       "      <td>...</td>\n",
       "      <td>21</td>\n",
       "      <td>0</td>\n",
       "      <td>2</td>\n",
       "      <td>0</td>\n",
       "      <td>11.0</td>\n",
       "      <td>10.0</td>\n",
       "      <td>41.0</td>\n",
       "      <td>17.0</td>\n",
       "      <td>5.0</td>\n",
       "      <td>True</td>\n",
       "    </tr>\n",
       "  </tbody>\n",
       "</table>\n",
       "<p>5 rows × 23 columns</p>\n",
       "</div>"
      ],
      "text/plain": [
       "   id   loc  v(g)  ev(g)  iv(g)      n       v     l      d      i  ...  \\\n",
       "0   1   1.1   1.4    1.4    1.4    1.3    1.30  1.30   1.30   1.30  ...   \n",
       "1   2   1.0   1.0    1.0    1.0    1.0    1.00  1.00   1.00   1.00  ...   \n",
       "2   3  83.0  11.0    1.0   11.0  171.0  927.89  0.04  23.04  40.27  ...   \n",
       "3   4  46.0   8.0    6.0    8.0  141.0  769.78  0.07  14.86  51.81  ...   \n",
       "4   5  25.0   3.0    1.0    3.0   58.0  254.75  0.11   9.35  27.25  ...   \n",
       "\n",
       "   lOCode  lOComment  lOBlank  locCodeAndComment  uniq_Op  uniq_Opnd  \\\n",
       "0       2          2        2                  2      1.2        1.2   \n",
       "1       1          1        1                  1      1.0        1.0   \n",
       "2      65         10        6                  0     18.0       25.0   \n",
       "3      37          2        5                  0     16.0       28.0   \n",
       "4      21          0        2                  0     11.0       10.0   \n",
       "\n",
       "   total_Op  total_Opnd  branchCount  defects  \n",
       "0       1.2         1.2          1.4    False  \n",
       "1       1.0         1.0          1.0     True  \n",
       "2     107.0        64.0         21.0     True  \n",
       "3      89.0        52.0         15.0     True  \n",
       "4      41.0        17.0          5.0     True  \n",
       "\n",
       "[5 rows x 23 columns]"
      ]
     },
     "execution_count": 7,
     "metadata": {},
     "output_type": "execute_result"
    }
   ],
   "source": [
    "df.head()"
   ]
  },
  {
   "cell_type": "code",
   "execution_count": 8,
   "id": "dd6aa244",
   "metadata": {
    "execution": {
     "iopub.execute_input": "2021-04-04T22:23:14.067270Z",
     "iopub.status.busy": "2021-04-04T22:23:14.066667Z",
     "iopub.status.idle": "2021-04-04T22:23:14.070332Z",
     "shell.execute_reply": "2021-04-04T22:23:14.071242Z"
    },
    "papermill": {
     "duration": 0.030499,
     "end_time": "2021-04-04T22:23:14.071502",
     "exception": false,
     "start_time": "2021-04-04T22:23:14.041003",
     "status": "completed"
    },
    "tags": []
   },
   "outputs": [],
   "source": [
    "del df['id']"
   ]
  },
  {
   "cell_type": "code",
   "execution_count": 9,
   "id": "6ff6f5b0",
   "metadata": {
    "execution": {
     "iopub.execute_input": "2021-04-04T22:23:14.123026Z",
     "iopub.status.busy": "2021-04-04T22:23:14.121911Z",
     "iopub.status.idle": "2021-04-04T22:23:14.124360Z",
     "shell.execute_reply": "2021-04-04T22:23:14.125093Z"
    },
    "papermill": {
     "duration": 0.029433,
     "end_time": "2021-04-04T22:23:14.125294",
     "exception": false,
     "start_time": "2021-04-04T22:23:14.095861",
     "status": "completed"
    },
    "tags": []
   },
   "outputs": [],
   "source": [
    "if PROFILE_REPORTING:\n",
    "    ProfileReport(df).to_widgets()"
   ]
  },
  {
   "cell_type": "markdown",
   "id": "1deaf3f0",
   "metadata": {
    "papermill": {
     "duration": 0.020735,
     "end_time": "2021-04-04T22:23:14.171691",
     "exception": false,
     "start_time": "2021-04-04T22:23:14.150956",
     "status": "completed"
    },
    "tags": []
   },
   "source": [
    "# Preprocess"
   ]
  },
  {
   "cell_type": "code",
   "execution_count": 10,
   "id": "9153b2bb",
   "metadata": {
    "execution": {
     "iopub.execute_input": "2021-04-04T22:23:14.218854Z",
     "iopub.status.busy": "2021-04-04T22:23:14.218185Z",
     "iopub.status.idle": "2021-04-04T22:23:14.221467Z",
     "shell.execute_reply": "2021-04-04T22:23:14.222342Z"
    },
    "papermill": {
     "duration": 0.030056,
     "end_time": "2021-04-04T22:23:14.222583",
     "exception": false,
     "start_time": "2021-04-04T22:23:14.192527",
     "status": "completed"
    },
    "tags": []
   },
   "outputs": [],
   "source": [
    "working_df = df.copy()"
   ]
  },
  {
   "cell_type": "code",
   "execution_count": 11,
   "id": "3b26d675",
   "metadata": {
    "execution": {
     "iopub.execute_input": "2021-04-04T22:23:14.274300Z",
     "iopub.status.busy": "2021-04-04T22:23:14.273608Z",
     "iopub.status.idle": "2021-04-04T22:23:14.278247Z",
     "shell.execute_reply": "2021-04-04T22:23:14.279084Z"
    },
    "papermill": {
     "duration": 0.032913,
     "end_time": "2021-04-04T22:23:14.279322",
     "exception": false,
     "start_time": "2021-04-04T22:23:14.246409",
     "status": "completed"
    },
    "tags": []
   },
   "outputs": [],
   "source": [
    "working_df['defects'] = working_df['defects'].replace([False, True], [0, 1])"
   ]
  },
  {
   "cell_type": "code",
   "execution_count": 12,
   "id": "5f306c3e",
   "metadata": {
    "execution": {
     "iopub.execute_input": "2021-04-04T22:23:14.335344Z",
     "iopub.status.busy": "2021-04-04T22:23:14.334192Z",
     "iopub.status.idle": "2021-04-04T22:23:14.336517Z",
     "shell.execute_reply": "2021-04-04T22:23:14.337019Z"
    },
    "papermill": {
     "duration": 0.028668,
     "end_time": "2021-04-04T22:23:14.337166",
     "exception": false,
     "start_time": "2021-04-04T22:23:14.308498",
     "status": "completed"
    },
    "tags": []
   },
   "outputs": [],
   "source": [
    "for col in dataset_config['delete_columns']:\n",
    "    del working_df[col]"
   ]
  },
  {
   "cell_type": "code",
   "execution_count": 13,
   "id": "a55074fa",
   "metadata": {
    "execution": {
     "iopub.execute_input": "2021-04-04T22:23:14.396065Z",
     "iopub.status.busy": "2021-04-04T22:23:14.394994Z",
     "iopub.status.idle": "2021-04-04T22:23:14.405876Z",
     "shell.execute_reply": "2021-04-04T22:23:14.406431Z"
    },
    "papermill": {
     "duration": 0.041966,
     "end_time": "2021-04-04T22:23:14.406614",
     "exception": false,
     "start_time": "2021-04-04T22:23:14.364648",
     "status": "completed"
    },
    "tags": []
   },
   "outputs": [],
   "source": [
    "working_df = working_df.drop_duplicates()"
   ]
  },
  {
   "cell_type": "markdown",
   "id": "a4d52ca6",
   "metadata": {
    "papermill": {
     "duration": 0.021023,
     "end_time": "2021-04-04T22:23:14.449339",
     "exception": false,
     "start_time": "2021-04-04T22:23:14.428316",
     "status": "completed"
    },
    "tags": []
   },
   "source": [
    "# Split"
   ]
  },
  {
   "cell_type": "code",
   "execution_count": 14,
   "id": "3e9ee4b5",
   "metadata": {
    "execution": {
     "iopub.execute_input": "2021-04-04T22:23:14.497766Z",
     "iopub.status.busy": "2021-04-04T22:23:14.497164Z",
     "iopub.status.idle": "2021-04-04T22:23:14.525592Z",
     "shell.execute_reply": "2021-04-04T22:23:14.526066Z"
    },
    "papermill": {
     "duration": 0.055425,
     "end_time": "2021-04-04T22:23:14.526223",
     "exception": false,
     "start_time": "2021-04-04T22:23:14.470798",
     "status": "completed"
    },
    "tags": []
   },
   "outputs": [],
   "source": [
    "from sklearn.model_selection import train_test_split"
   ]
  },
  {
   "cell_type": "code",
   "execution_count": 15,
   "id": "274004ce",
   "metadata": {
    "execution": {
     "iopub.execute_input": "2021-04-04T22:23:14.576457Z",
     "iopub.status.busy": "2021-04-04T22:23:14.575478Z",
     "iopub.status.idle": "2021-04-04T22:23:14.580349Z",
     "shell.execute_reply": "2021-04-04T22:23:14.580860Z"
    },
    "papermill": {
     "duration": 0.03111,
     "end_time": "2021-04-04T22:23:14.581017",
     "exception": false,
     "start_time": "2021-04-04T22:23:14.549907",
     "status": "completed"
    },
    "scrolled": true,
    "tags": []
   },
   "outputs": [],
   "source": [
    "inlier, outlier = working_df[working_df['defects'] == 0], working_df[working_df['defects'] == 1]"
   ]
  },
  {
   "cell_type": "code",
   "execution_count": 16,
   "id": "753c7b03",
   "metadata": {
    "execution": {
     "iopub.execute_input": "2021-04-04T22:23:14.634564Z",
     "iopub.status.busy": "2021-04-04T22:23:14.633724Z",
     "iopub.status.idle": "2021-04-04T22:23:14.636532Z",
     "shell.execute_reply": "2021-04-04T22:23:14.637076Z"
    },
    "papermill": {
     "duration": 0.031465,
     "end_time": "2021-04-04T22:23:14.637241",
     "exception": false,
     "start_time": "2021-04-04T22:23:14.605776",
     "status": "completed"
    },
    "tags": []
   },
   "outputs": [],
   "source": [
    "X_inlier = inlier.copy()\n",
    "y_inlier = X_inlier.pop('defects')\n",
    "X_outlier = outlier.copy()\n",
    "y_outlier = X_outlier.pop('defects')"
   ]
  },
  {
   "cell_type": "code",
   "execution_count": 17,
   "id": "2ba43193",
   "metadata": {
    "execution": {
     "iopub.execute_input": "2021-04-04T22:23:14.689951Z",
     "iopub.status.busy": "2021-04-04T22:23:14.689149Z",
     "iopub.status.idle": "2021-04-04T22:23:14.692575Z",
     "shell.execute_reply": "2021-04-04T22:23:14.693131Z"
    },
    "papermill": {
     "duration": 0.031032,
     "end_time": "2021-04-04T22:23:14.693298",
     "exception": false,
     "start_time": "2021-04-04T22:23:14.662266",
     "status": "completed"
    },
    "tags": []
   },
   "outputs": [],
   "source": [
    "test_size = dataset_config['test_size']\n",
    "random_state = dataset_config['random_state']\n",
    "\n",
    "X_inlier_train, X_inlier_test, y_inlier_train, y_inlier_test = train_test_split(\n",
    "    X_inlier,\n",
    "    y_inlier,\n",
    "    test_size=test_size,\n",
    "    random_state=random_state\n",
    ")"
   ]
  },
  {
   "cell_type": "code",
   "execution_count": 18,
   "id": "c8b58ec3",
   "metadata": {
    "execution": {
     "iopub.execute_input": "2021-04-04T22:23:14.759234Z",
     "iopub.status.busy": "2021-04-04T22:23:14.758271Z",
     "iopub.status.idle": "2021-04-04T22:23:14.762386Z",
     "shell.execute_reply": "2021-04-04T22:23:14.763103Z"
    },
    "papermill": {
     "duration": 0.04318,
     "end_time": "2021-04-04T22:23:14.763324",
     "exception": false,
     "start_time": "2021-04-04T22:23:14.720144",
     "status": "completed"
    },
    "tags": []
   },
   "outputs": [],
   "source": [
    "test_outlier_size = dataset_config['test_outlier_size']\n",
    "if test_outlier_size > 0.0:\n",
    "    X_outlier_train, X_outlier_test, y_outlier_train, y_outlier_test = train_test_split(\n",
    "        X_outlier,\n",
    "        y_outlier,\n",
    "        test_size=test_outlier_size,\n",
    "        random_state=random_state\n",
    "    )\n",
    "else:\n",
    "    X_outlier_train, y_outlier_train = pd.DataFrame(columns=X_outlier.columns), pd.Series(dtype='int64')\n",
    "    X_outlier_test, y_outlier_test = X_outlier.copy(), y_outlier.copy()"
   ]
  },
  {
   "cell_type": "code",
   "execution_count": 19,
   "id": "95991685",
   "metadata": {
    "execution": {
     "iopub.execute_input": "2021-04-04T22:23:14.835152Z",
     "iopub.status.busy": "2021-04-04T22:23:14.833722Z",
     "iopub.status.idle": "2021-04-04T22:23:14.838301Z",
     "shell.execute_reply": "2021-04-04T22:23:14.839069Z"
    },
    "papermill": {
     "duration": 0.035537,
     "end_time": "2021-04-04T22:23:14.839290",
     "exception": false,
     "start_time": "2021-04-04T22:23:14.803753",
     "status": "completed"
    },
    "tags": []
   },
   "outputs": [],
   "source": [
    "X_train, y_train = pd.concat([X_inlier_train, X_outlier_train], ignore_index=True), pd.concat([y_inlier_train, y_outlier_train], ignore_index=True)\n",
    "X_test, y_test = pd.concat([X_inlier_test, X_outlier_test], ignore_index=True), pd.concat([y_inlier_test, y_outlier_test], ignore_index=True)"
   ]
  },
  {
   "cell_type": "markdown",
   "id": "7cde7309",
   "metadata": {
    "papermill": {
     "duration": 0.024044,
     "end_time": "2021-04-04T22:23:14.889642",
     "exception": false,
     "start_time": "2021-04-04T22:23:14.865598",
     "status": "completed"
    },
    "tags": []
   },
   "source": [
    "# Model"
   ]
  },
  {
   "cell_type": "code",
   "execution_count": 20,
   "id": "a02c5c85",
   "metadata": {
    "execution": {
     "iopub.execute_input": "2021-04-04T22:23:14.943185Z",
     "iopub.status.busy": "2021-04-04T22:23:14.942327Z",
     "iopub.status.idle": "2021-04-04T22:23:14.944874Z",
     "shell.execute_reply": "2021-04-04T22:23:14.944298Z"
    },
    "papermill": {
     "duration": 0.033365,
     "end_time": "2021-04-04T22:23:14.944993",
     "exception": false,
     "start_time": "2021-04-04T22:23:14.911628",
     "status": "completed"
    },
    "tags": []
   },
   "outputs": [],
   "source": [
    "from math import sqrt\n",
    "\n",
    "\n",
    "class KNNDataDescription:\n",
    "    def __init__(self, k=5, outlier_threshold=1.0):\n",
    "        self.k = k\n",
    "        self.outlier_threshold = outlier_threshold\n",
    "        self.X = []\n",
    "    \n",
    "    def fit(self, X):\n",
    "        self.X = [features.to_list() for index, features in X.iterrows()]\n",
    "\n",
    "    def predict(self, entries):\n",
    "        return [self.predict_entry(features.to_list()) for index, features in entries.iterrows()]\n",
    "    \n",
    "    def predict_entry(self, entry):\n",
    "        kth_neighbor, kth_distance = self.get_kth_neighbor(entry, self.k)\n",
    "        kth_kth_neighbor, kth_kth_distance = self.get_kth_neighbor(kth_neighbor, self.k + 1)\n",
    "\n",
    "        outlier_score = kth_distance / (kth_kth_distance + 0.000001)\n",
    "\n",
    "        return 1 if outlier_score < self.outlier_threshold else -1\n",
    "        \n",
    "    def euclidean_distance(self, features1, features2):\n",
    "        distance = 0.0\n",
    "        for feat1, feat2 in zip(features1, features2):\n",
    "            distance += (feat1 - feat2)**2\n",
    "                \n",
    "        return sqrt(distance)\n",
    "\n",
    "    def get_neighbors(self, entry, k):\n",
    "        distance_to_data_points = [\n",
    "            (data_point, self.euclidean_distance(entry, data_point))\n",
    "            for data_point in self.X\n",
    "        ]\n",
    "        sorted_by_distance = sorted(distance_to_data_points, key=lambda tup: tup[1])\n",
    "        neighbors = sorted_by_distance[:k]\n",
    "        return neighbors\n",
    "\n",
    "    def get_kth_neighbor(self, entry, k):\n",
    "        neighbors = self.get_neighbors(entry, k)\n",
    "        return neighbors[-1]\n"
   ]
  },
  {
   "cell_type": "code",
   "execution_count": 21,
   "id": "1fa9ec1c",
   "metadata": {
    "execution": {
     "iopub.execute_input": "2021-04-04T22:23:14.998095Z",
     "iopub.status.busy": "2021-04-04T22:23:14.997025Z",
     "iopub.status.idle": "2021-04-04T22:23:15.017441Z",
     "shell.execute_reply": "2021-04-04T22:23:15.016799Z"
    },
    "papermill": {
     "duration": 0.048558,
     "end_time": "2021-04-04T22:23:15.017569",
     "exception": false,
     "start_time": "2021-04-04T22:23:14.969011",
     "status": "completed"
    },
    "tags": []
   },
   "outputs": [],
   "source": [
    "from sklearn.svm import OneClassSVM\n",
    "\n",
    "\n",
    "models = {\n",
    "    'oneclasssvm': OneClassSVM,\n",
    "    'knndatadescription': KNNDataDescription,\n",
    "}"
   ]
  },
  {
   "cell_type": "code",
   "execution_count": 22,
   "id": "4d72a0b1",
   "metadata": {
    "execution": {
     "iopub.execute_input": "2021-04-04T22:23:15.067863Z",
     "iopub.status.busy": "2021-04-04T22:23:15.067231Z",
     "iopub.status.idle": "2021-04-04T22:23:15.069398Z",
     "shell.execute_reply": "2021-04-04T22:23:15.069921Z"
    },
    "papermill": {
     "duration": 0.028701,
     "end_time": "2021-04-04T22:23:15.070079",
     "exception": false,
     "start_time": "2021-04-04T22:23:15.041378",
     "status": "completed"
    },
    "scrolled": true,
    "tags": []
   },
   "outputs": [],
   "source": [
    "model_cls = models[model_config['model_type']]\n",
    "model = model_cls(**model_config['hyperparameters'])"
   ]
  },
  {
   "cell_type": "markdown",
   "id": "e00cff3b",
   "metadata": {
    "papermill": {
     "duration": 0.024065,
     "end_time": "2021-04-04T22:23:15.117657",
     "exception": false,
     "start_time": "2021-04-04T22:23:15.093592",
     "status": "completed"
    },
    "tags": []
   },
   "source": [
    "# Fit"
   ]
  },
  {
   "cell_type": "code",
   "execution_count": 23,
   "id": "8b2ded89",
   "metadata": {
    "execution": {
     "iopub.execute_input": "2021-04-04T22:23:15.169136Z",
     "iopub.status.busy": "2021-04-04T22:23:15.168321Z",
     "iopub.status.idle": "2021-04-04T22:23:15.187728Z",
     "shell.execute_reply": "2021-04-04T22:23:15.188539Z"
    },
    "papermill": {
     "duration": 0.048744,
     "end_time": "2021-04-04T22:23:15.188766",
     "exception": false,
     "start_time": "2021-04-04T22:23:15.140022",
     "status": "completed"
    },
    "tags": []
   },
   "outputs": [
    {
     "data": {
      "text/plain": [
       "OneClassSVM()"
      ]
     },
     "execution_count": 23,
     "metadata": {},
     "output_type": "execute_result"
    }
   ],
   "source": [
    "model.fit(X_train)"
   ]
  },
  {
   "cell_type": "markdown",
   "id": "f99999f7",
   "metadata": {
    "papermill": {
     "duration": 0.024652,
     "end_time": "2021-04-04T22:23:15.240526",
     "exception": false,
     "start_time": "2021-04-04T22:23:15.215874",
     "status": "completed"
    },
    "tags": []
   },
   "source": [
    "# Predict"
   ]
  },
  {
   "cell_type": "code",
   "execution_count": 24,
   "id": "6536fbf7",
   "metadata": {
    "execution": {
     "iopub.execute_input": "2021-04-04T22:23:15.291356Z",
     "iopub.status.busy": "2021-04-04T22:23:15.290396Z",
     "iopub.status.idle": "2021-04-04T22:23:15.308244Z",
     "shell.execute_reply": "2021-04-04T22:23:15.307681Z"
    },
    "papermill": {
     "duration": 0.04436,
     "end_time": "2021-04-04T22:23:15.308375",
     "exception": false,
     "start_time": "2021-04-04T22:23:15.264015",
     "status": "completed"
    },
    "tags": []
   },
   "outputs": [],
   "source": [
    "predictions = model.predict(X_test)"
   ]
  },
  {
   "cell_type": "markdown",
   "id": "aa1c9881",
   "metadata": {
    "papermill": {
     "duration": 0.028782,
     "end_time": "2021-04-04T22:23:15.362035",
     "exception": false,
     "start_time": "2021-04-04T22:23:15.333253",
     "status": "completed"
    },
    "tags": []
   },
   "source": [
    "# Evaluate"
   ]
  },
  {
   "cell_type": "code",
   "execution_count": 25,
   "id": "894f0f04",
   "metadata": {
    "execution": {
     "iopub.execute_input": "2021-04-04T22:23:15.413766Z",
     "iopub.status.busy": "2021-04-04T22:23:15.413182Z",
     "iopub.status.idle": "2021-04-04T22:23:15.415098Z",
     "shell.execute_reply": "2021-04-04T22:23:15.415545Z"
    },
    "papermill": {
     "duration": 0.028423,
     "end_time": "2021-04-04T22:23:15.415681",
     "exception": false,
     "start_time": "2021-04-04T22:23:15.387258",
     "status": "completed"
    },
    "tags": []
   },
   "outputs": [],
   "source": [
    "from sklearn.metrics import f1_score"
   ]
  },
  {
   "cell_type": "code",
   "execution_count": 26,
   "id": "211744d3",
   "metadata": {
    "execution": {
     "iopub.execute_input": "2021-04-04T22:23:15.469279Z",
     "iopub.status.busy": "2021-04-04T22:23:15.468677Z",
     "iopub.status.idle": "2021-04-04T22:23:15.470462Z",
     "shell.execute_reply": "2021-04-04T22:23:15.470905Z"
    },
    "papermill": {
     "duration": 0.032357,
     "end_time": "2021-04-04T22:23:15.471091",
     "exception": false,
     "start_time": "2021-04-04T22:23:15.438734",
     "status": "completed"
    },
    "tags": []
   },
   "outputs": [],
   "source": [
    "y_test = y_test.replace([0, 1], [1, -1])"
   ]
  },
  {
   "cell_type": "code",
   "execution_count": 27,
   "id": "d68a9204",
   "metadata": {
    "execution": {
     "iopub.execute_input": "2021-04-04T22:23:15.526929Z",
     "iopub.status.busy": "2021-04-04T22:23:15.526033Z",
     "iopub.status.idle": "2021-04-04T22:23:15.528024Z",
     "shell.execute_reply": "2021-04-04T22:23:15.528490Z"
    },
    "papermill": {
     "duration": 0.034183,
     "end_time": "2021-04-04T22:23:15.528635",
     "exception": false,
     "start_time": "2021-04-04T22:23:15.494452",
     "status": "completed"
    },
    "tags": []
   },
   "outputs": [],
   "source": [
    "def evaluate(truths, predictions, pos_label, neg_label):\n",
    "    TP = 0\n",
    "    FP = 0\n",
    "    TN = 0\n",
    "    FN = 0\n",
    "\n",
    "    for truth, pred in zip(truths, predictions): \n",
    "        if truth == pred == pos_label:\n",
    "           TP += 1\n",
    "        elif pred == pos_label and truth == neg_label:\n",
    "           FP += 1\n",
    "        elif truth == pred == neg_label:\n",
    "           TN += 1\n",
    "        elif pred == neg_label and truth == pos_label:\n",
    "           FN += 1\n",
    "        else:\n",
    "            __import__(\"ipdb\").set_trace()\n",
    "\n",
    "    precision = TP / (TP + FP)\n",
    "    sensitivity = TP / (TP + FN)\n",
    "    \n",
    "    return {\n",
    "        'true_pos': TP,\n",
    "        'false_pos': FP,\n",
    "        'false_neg': FN,\n",
    "        'true_neg': TN,\n",
    "        'precision': precision,\n",
    "        'sensitivity': sensitivity,\n",
    "        'f1': (2 * (precision * sensitivity)) / (precision + sensitivity)\n",
    "    }\n",
    "\n",
    "score = evaluate(y_test, predictions, pos_label=-1, neg_label=1)"
   ]
  },
  {
   "cell_type": "markdown",
   "id": "246fa8c7",
   "metadata": {
    "papermill": {
     "duration": 0.024939,
     "end_time": "2021-04-04T22:23:15.577851",
     "exception": false,
     "start_time": "2021-04-04T22:23:15.552912",
     "status": "completed"
    },
    "tags": []
   },
   "source": [
    "# Report"
   ]
  },
  {
   "cell_type": "code",
   "execution_count": 28,
   "id": "cfb47f85",
   "metadata": {
    "execution": {
     "iopub.execute_input": "2021-04-04T22:23:15.631251Z",
     "iopub.status.busy": "2021-04-04T22:23:15.630401Z",
     "iopub.status.idle": "2021-04-04T22:23:15.633110Z",
     "shell.execute_reply": "2021-04-04T22:23:15.632527Z"
    },
    "papermill": {
     "duration": 0.031602,
     "end_time": "2021-04-04T22:23:15.633233",
     "exception": false,
     "start_time": "2021-04-04T22:23:15.601631",
     "status": "completed"
    },
    "tags": []
   },
   "outputs": [],
   "source": [
    "import csv\n",
    "\n",
    "\n",
    "dataset_config_name = DATASET_CONFIG_PATH.split('/')[-1].split('.')[0]\n",
    "model_config_name = MODEL_CONFIG_PATH.split('/')[-1].split('.')[0]\n",
    "configuration = f\"dataset_{dataset_config_name}-model_{model_config_name}\"\n",
    "\n",
    "with open('results.csv', 'a') as f:\n",
    "    report = dict({'configuration': configuration}, **score)\n",
    "    writer = csv.DictWriter(f, report.keys())\n",
    "    writer.writerow(report)"
   ]
  }
 ],
 "metadata": {
  "celltoolbar": "Tags",
  "kernelspec": {
   "display_name": "Python 3",
   "language": "python",
   "name": "python3"
  },
  "language_info": {
   "codemirror_mode": {
    "name": "ipython",
    "version": 3
   },
   "file_extension": ".py",
   "mimetype": "text/x-python",
   "name": "python",
   "nbconvert_exporter": "python",
   "pygments_lexer": "ipython3",
   "version": "3.9.1"
  },
  "papermill": {
   "default_parameters": {},
   "duration": 4.720728,
   "end_time": "2021-04-04T22:23:16.167707",
   "environment_variables": {},
   "exception": null,
   "input_path": "main.ipynb",
   "output_path": "runs/dataset_000004-model_000004.ipynb",
   "parameters": {
    "DATASET_CONFIG_PATH": "config/dataset/000004.json",
    "MODEL_CONFIG_PATH": "config/model/000004.json",
    "PROFILE_REPORTING": false
   },
   "start_time": "2021-04-04T22:23:11.446979",
   "version": "2.3.3"
  }
 },
 "nbformat": 4,
 "nbformat_minor": 5
}