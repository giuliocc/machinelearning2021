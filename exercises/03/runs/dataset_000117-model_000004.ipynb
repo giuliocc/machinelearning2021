{
 "cells": [
  {
   "cell_type": "markdown",
   "id": "51c71c25",
   "metadata": {
    "papermill": {
     "duration": 0.021596,
     "end_time": "2021-04-04T23:19:32.060046",
     "exception": false,
     "start_time": "2021-04-04T23:19:32.038450",
     "status": "completed"
    },
    "tags": []
   },
   "source": [
    "# Parametrizing"
   ]
  },
  {
   "cell_type": "code",
   "execution_count": 1,
   "id": "3b136394",
   "metadata": {
    "execution": {
     "iopub.execute_input": "2021-04-04T23:19:32.119735Z",
     "iopub.status.busy": "2021-04-04T23:19:32.118552Z",
     "iopub.status.idle": "2021-04-04T23:19:32.121473Z",
     "shell.execute_reply": "2021-04-04T23:19:32.122020Z"
    },
    "papermill": {
     "duration": 0.042233,
     "end_time": "2021-04-04T23:19:32.122249",
     "exception": false,
     "start_time": "2021-04-04T23:19:32.080016",
     "status": "completed"
    },
    "tags": [
     "parameters"
    ]
   },
   "outputs": [],
   "source": [
    "DATASET_CONFIG_PATH = 'config/dataset/kc1_001.json'\n",
    "MODEL_CONFIG_PATH = 'config/model/knndd_001.json'\n",
    "PROFILE_REPORTING = False"
   ]
  },
  {
   "cell_type": "code",
   "execution_count": 2,
   "id": "2f0e4eeb",
   "metadata": {
    "execution": {
     "iopub.execute_input": "2021-04-04T23:19:32.168616Z",
     "iopub.status.busy": "2021-04-04T23:19:32.168015Z",
     "iopub.status.idle": "2021-04-04T23:19:32.169977Z",
     "shell.execute_reply": "2021-04-04T23:19:32.170449Z"
    },
    "papermill": {
     "duration": 0.026566,
     "end_time": "2021-04-04T23:19:32.170593",
     "exception": false,
     "start_time": "2021-04-04T23:19:32.144027",
     "status": "completed"
    },
    "tags": [
     "injected-parameters"
    ]
   },
   "outputs": [],
   "source": [
    "# Parameters\n",
    "DATASET_CONFIG_PATH = \"config/dataset/000117.json\"\n",
    "MODEL_CONFIG_PATH = \"config/model/000004.json\"\n",
    "PROFILE_REPORTING = False\n"
   ]
  },
  {
   "cell_type": "code",
   "execution_count": 3,
   "id": "b80f2a10",
   "metadata": {
    "execution": {
     "iopub.execute_input": "2021-04-04T23:19:32.221094Z",
     "iopub.status.busy": "2021-04-04T23:19:32.220291Z",
     "iopub.status.idle": "2021-04-04T23:19:32.224304Z",
     "shell.execute_reply": "2021-04-04T23:19:32.223496Z"
    },
    "papermill": {
     "duration": 0.031523,
     "end_time": "2021-04-04T23:19:32.224470",
     "exception": false,
     "start_time": "2021-04-04T23:19:32.192947",
     "status": "completed"
    },
    "tags": []
   },
   "outputs": [],
   "source": [
    "import json\n",
    "\n",
    "\n",
    "with open(DATASET_CONFIG_PATH) as f:\n",
    "    dataset_config = json.load(f)\n",
    "\n",
    "with open(MODEL_CONFIG_PATH) as f:\n",
    "    model_config = json.load(f)"
   ]
  },
  {
   "cell_type": "markdown",
   "id": "9a4b0e2d",
   "metadata": {
    "papermill": {
     "duration": 0.021323,
     "end_time": "2021-04-04T23:19:32.270914",
     "exception": false,
     "start_time": "2021-04-04T23:19:32.249591",
     "status": "completed"
    },
    "tags": []
   },
   "source": [
    "# Profiling"
   ]
  },
  {
   "cell_type": "code",
   "execution_count": 4,
   "id": "a3e0289b",
   "metadata": {
    "execution": {
     "iopub.execute_input": "2021-04-04T23:19:32.316491Z",
     "iopub.status.busy": "2021-04-04T23:19:32.315875Z",
     "iopub.status.idle": "2021-04-04T23:19:33.914535Z",
     "shell.execute_reply": "2021-04-04T23:19:33.915071Z"
    },
    "papermill": {
     "duration": 1.622728,
     "end_time": "2021-04-04T23:19:33.915295",
     "exception": false,
     "start_time": "2021-04-04T23:19:32.292567",
     "status": "completed"
    },
    "tags": []
   },
   "outputs": [],
   "source": [
    "import pandas as pd\n",
    "from pandas_profiling import ProfileReport"
   ]
  },
  {
   "cell_type": "code",
   "execution_count": 5,
   "id": "ee6c0666",
   "metadata": {
    "execution": {
     "iopub.execute_input": "2021-04-04T23:19:33.969142Z",
     "iopub.status.busy": "2021-04-04T23:19:33.968123Z",
     "iopub.status.idle": "2021-04-04T23:19:33.979562Z",
     "shell.execute_reply": "2021-04-04T23:19:33.978658Z"
    },
    "papermill": {
     "duration": 0.038712,
     "end_time": "2021-04-04T23:19:33.979731",
     "exception": false,
     "start_time": "2021-04-04T23:19:33.941019",
     "status": "completed"
    },
    "tags": []
   },
   "outputs": [],
   "source": [
    "df = pd.read_csv(dataset_config['dataset_path'])"
   ]
  },
  {
   "cell_type": "code",
   "execution_count": 6,
   "id": "7eca6c4a",
   "metadata": {
    "execution": {
     "iopub.execute_input": "2021-04-04T23:19:34.028073Z",
     "iopub.status.busy": "2021-04-04T23:19:34.027275Z",
     "iopub.status.idle": "2021-04-04T23:19:34.041652Z",
     "shell.execute_reply": "2021-04-04T23:19:34.042129Z"
    },
    "papermill": {
     "duration": 0.041692,
     "end_time": "2021-04-04T23:19:34.042274",
     "exception": false,
     "start_time": "2021-04-04T23:19:34.000582",
     "status": "completed"
    },
    "tags": []
   },
   "outputs": [
    {
     "name": "stdout",
     "output_type": "stream",
     "text": [
      "<class 'pandas.core.frame.DataFrame'>\n",
      "RangeIndex: 498 entries, 0 to 497\n",
      "Data columns (total 23 columns):\n",
      " #   Column             Non-Null Count  Dtype  \n",
      "---  ------             --------------  -----  \n",
      " 0   id                 498 non-null    int64  \n",
      " 1   loc                498 non-null    float64\n",
      " 2   v(g)               498 non-null    float64\n",
      " 3   ev(g)              498 non-null    float64\n",
      " 4   iv(g)              498 non-null    float64\n",
      " 5   n                  498 non-null    float64\n",
      " 6   v                  498 non-null    float64\n",
      " 7   l                  498 non-null    float64\n",
      " 8   d                  498 non-null    float64\n",
      " 9   i                  498 non-null    float64\n",
      " 10  e                  498 non-null    float64\n",
      " 11  b                  498 non-null    float64\n",
      " 12  t                  498 non-null    float64\n",
      " 13  lOCode             498 non-null    int64  \n",
      " 14  lOComment          498 non-null    int64  \n",
      " 15  lOBlank            498 non-null    int64  \n",
      " 16  locCodeAndComment  498 non-null    int64  \n",
      " 17  uniq_Op            498 non-null    float64\n",
      " 18  uniq_Opnd          498 non-null    float64\n",
      " 19  total_Op           498 non-null    float64\n",
      " 20  total_Opnd         498 non-null    float64\n",
      " 21  branchCount        498 non-null    float64\n",
      " 22  defects            498 non-null    bool   \n",
      "dtypes: bool(1), float64(17), int64(5)\n",
      "memory usage: 86.2 KB\n"
     ]
    }
   ],
   "source": [
    "df.info()"
   ]
  },
  {
   "cell_type": "code",
   "execution_count": 7,
   "id": "3638e5e8",
   "metadata": {
    "execution": {
     "iopub.execute_input": "2021-04-04T23:19:34.100448Z",
     "iopub.status.busy": "2021-04-04T23:19:34.099139Z",
     "iopub.status.idle": "2021-04-04T23:19:34.136770Z",
     "shell.execute_reply": "2021-04-04T23:19:34.136092Z"
    },
    "papermill": {
     "duration": 0.073041,
     "end_time": "2021-04-04T23:19:34.137251",
     "exception": false,
     "start_time": "2021-04-04T23:19:34.064210",
     "status": "completed"
    },
    "tags": []
   },
   "outputs": [
    {
     "data": {
      "text/html": [
       "<div>\n",
       "<style scoped>\n",
       "    .dataframe tbody tr th:only-of-type {\n",
       "        vertical-align: middle;\n",
       "    }\n",
       "\n",
       "    .dataframe tbody tr th {\n",
       "        vertical-align: top;\n",
       "    }\n",
       "\n",
       "    .dataframe thead th {\n",
       "        text-align: right;\n",
       "    }\n",
       "</style>\n",
       "<table border=\"1\" class=\"dataframe\">\n",
       "  <thead>\n",
       "    <tr style=\"text-align: right;\">\n",
       "      <th></th>\n",
       "      <th>id</th>\n",
       "      <th>loc</th>\n",
       "      <th>v(g)</th>\n",
       "      <th>ev(g)</th>\n",
       "      <th>iv(g)</th>\n",
       "      <th>n</th>\n",
       "      <th>v</th>\n",
       "      <th>l</th>\n",
       "      <th>d</th>\n",
       "      <th>i</th>\n",
       "      <th>...</th>\n",
       "      <th>lOCode</th>\n",
       "      <th>lOComment</th>\n",
       "      <th>lOBlank</th>\n",
       "      <th>locCodeAndComment</th>\n",
       "      <th>uniq_Op</th>\n",
       "      <th>uniq_Opnd</th>\n",
       "      <th>total_Op</th>\n",
       "      <th>total_Opnd</th>\n",
       "      <th>branchCount</th>\n",
       "      <th>defects</th>\n",
       "    </tr>\n",
       "  </thead>\n",
       "  <tbody>\n",
       "    <tr>\n",
       "      <th>0</th>\n",
       "      <td>1</td>\n",
       "      <td>1.1</td>\n",
       "      <td>1.4</td>\n",
       "      <td>1.4</td>\n",
       "      <td>1.4</td>\n",
       "      <td>1.3</td>\n",
       "      <td>1.30</td>\n",
       "      <td>1.30</td>\n",
       "      <td>1.30</td>\n",
       "      <td>1.30</td>\n",
       "      <td>...</td>\n",
       "      <td>2</td>\n",
       "      <td>2</td>\n",
       "      <td>2</td>\n",
       "      <td>2</td>\n",
       "      <td>1.2</td>\n",
       "      <td>1.2</td>\n",
       "      <td>1.2</td>\n",
       "      <td>1.2</td>\n",
       "      <td>1.4</td>\n",
       "      <td>False</td>\n",
       "    </tr>\n",
       "    <tr>\n",
       "      <th>1</th>\n",
       "      <td>2</td>\n",
       "      <td>1.0</td>\n",
       "      <td>1.0</td>\n",
       "      <td>1.0</td>\n",
       "      <td>1.0</td>\n",
       "      <td>1.0</td>\n",
       "      <td>1.00</td>\n",
       "      <td>1.00</td>\n",
       "      <td>1.00</td>\n",
       "      <td>1.00</td>\n",
       "      <td>...</td>\n",
       "      <td>1</td>\n",
       "      <td>1</td>\n",
       "      <td>1</td>\n",
       "      <td>1</td>\n",
       "      <td>1.0</td>\n",
       "      <td>1.0</td>\n",
       "      <td>1.0</td>\n",
       "      <td>1.0</td>\n",
       "      <td>1.0</td>\n",
       "      <td>True</td>\n",
       "    </tr>\n",
       "    <tr>\n",
       "      <th>2</th>\n",
       "      <td>3</td>\n",
       "      <td>24.0</td>\n",
       "      <td>5.0</td>\n",
       "      <td>1.0</td>\n",
       "      <td>3.0</td>\n",
       "      <td>63.0</td>\n",
       "      <td>309.13</td>\n",
       "      <td>0.11</td>\n",
       "      <td>9.50</td>\n",
       "      <td>32.54</td>\n",
       "      <td>...</td>\n",
       "      <td>1</td>\n",
       "      <td>0</td>\n",
       "      <td>6</td>\n",
       "      <td>0</td>\n",
       "      <td>15.0</td>\n",
       "      <td>15.0</td>\n",
       "      <td>44.0</td>\n",
       "      <td>19.0</td>\n",
       "      <td>9.0</td>\n",
       "      <td>False</td>\n",
       "    </tr>\n",
       "    <tr>\n",
       "      <th>3</th>\n",
       "      <td>4</td>\n",
       "      <td>20.0</td>\n",
       "      <td>4.0</td>\n",
       "      <td>4.0</td>\n",
       "      <td>2.0</td>\n",
       "      <td>47.0</td>\n",
       "      <td>215.49</td>\n",
       "      <td>0.06</td>\n",
       "      <td>16.00</td>\n",
       "      <td>13.47</td>\n",
       "      <td>...</td>\n",
       "      <td>0</td>\n",
       "      <td>0</td>\n",
       "      <td>3</td>\n",
       "      <td>0</td>\n",
       "      <td>16.0</td>\n",
       "      <td>8.0</td>\n",
       "      <td>31.0</td>\n",
       "      <td>16.0</td>\n",
       "      <td>7.0</td>\n",
       "      <td>False</td>\n",
       "    </tr>\n",
       "    <tr>\n",
       "      <th>4</th>\n",
       "      <td>5</td>\n",
       "      <td>24.0</td>\n",
       "      <td>6.0</td>\n",
       "      <td>6.0</td>\n",
       "      <td>2.0</td>\n",
       "      <td>72.0</td>\n",
       "      <td>346.13</td>\n",
       "      <td>0.06</td>\n",
       "      <td>17.33</td>\n",
       "      <td>19.97</td>\n",
       "      <td>...</td>\n",
       "      <td>0</td>\n",
       "      <td>0</td>\n",
       "      <td>3</td>\n",
       "      <td>0</td>\n",
       "      <td>16.0</td>\n",
       "      <td>12.0</td>\n",
       "      <td>46.0</td>\n",
       "      <td>26.0</td>\n",
       "      <td>11.0</td>\n",
       "      <td>False</td>\n",
       "    </tr>\n",
       "  </tbody>\n",
       "</table>\n",
       "<p>5 rows × 23 columns</p>\n",
       "</div>"
      ],
      "text/plain": [
       "   id   loc  v(g)  ev(g)  iv(g)     n       v     l      d      i  ...  \\\n",
       "0   1   1.1   1.4    1.4    1.4   1.3    1.30  1.30   1.30   1.30  ...   \n",
       "1   2   1.0   1.0    1.0    1.0   1.0    1.00  1.00   1.00   1.00  ...   \n",
       "2   3  24.0   5.0    1.0    3.0  63.0  309.13  0.11   9.50  32.54  ...   \n",
       "3   4  20.0   4.0    4.0    2.0  47.0  215.49  0.06  16.00  13.47  ...   \n",
       "4   5  24.0   6.0    6.0    2.0  72.0  346.13  0.06  17.33  19.97  ...   \n",
       "\n",
       "   lOCode  lOComment  lOBlank  locCodeAndComment  uniq_Op  uniq_Opnd  \\\n",
       "0       2          2        2                  2      1.2        1.2   \n",
       "1       1          1        1                  1      1.0        1.0   \n",
       "2       1          0        6                  0     15.0       15.0   \n",
       "3       0          0        3                  0     16.0        8.0   \n",
       "4       0          0        3                  0     16.0       12.0   \n",
       "\n",
       "   total_Op  total_Opnd  branchCount  defects  \n",
       "0       1.2         1.2          1.4    False  \n",
       "1       1.0         1.0          1.0     True  \n",
       "2      44.0        19.0          9.0    False  \n",
       "3      31.0        16.0          7.0    False  \n",
       "4      46.0        26.0         11.0    False  \n",
       "\n",
       "[5 rows x 23 columns]"
      ]
     },
     "execution_count": 7,
     "metadata": {},
     "output_type": "execute_result"
    }
   ],
   "source": [
    "df.head()"
   ]
  },
  {
   "cell_type": "code",
   "execution_count": 8,
   "id": "733e95eb",
   "metadata": {
    "execution": {
     "iopub.execute_input": "2021-04-04T23:19:34.197861Z",
     "iopub.status.busy": "2021-04-04T23:19:34.196807Z",
     "iopub.status.idle": "2021-04-04T23:19:34.200431Z",
     "shell.execute_reply": "2021-04-04T23:19:34.199789Z"
    },
    "papermill": {
     "duration": 0.03452,
     "end_time": "2021-04-04T23:19:34.200586",
     "exception": false,
     "start_time": "2021-04-04T23:19:34.166066",
     "status": "completed"
    },
    "tags": []
   },
   "outputs": [],
   "source": [
    "del df['id']"
   ]
  },
  {
   "cell_type": "code",
   "execution_count": 9,
   "id": "6ff6f5b0",
   "metadata": {
    "execution": {
     "iopub.execute_input": "2021-04-04T23:19:34.258204Z",
     "iopub.status.busy": "2021-04-04T23:19:34.256561Z",
     "iopub.status.idle": "2021-04-04T23:19:34.259366Z",
     "shell.execute_reply": "2021-04-04T23:19:34.259966Z"
    },
    "papermill": {
     "duration": 0.034505,
     "end_time": "2021-04-04T23:19:34.260153",
     "exception": false,
     "start_time": "2021-04-04T23:19:34.225648",
     "status": "completed"
    },
    "tags": []
   },
   "outputs": [],
   "source": [
    "if PROFILE_REPORTING:\n",
    "    ProfileReport(df).to_widgets()"
   ]
  },
  {
   "cell_type": "markdown",
   "id": "1deaf3f0",
   "metadata": {
    "papermill": {
     "duration": 0.021039,
     "end_time": "2021-04-04T23:19:34.308343",
     "exception": false,
     "start_time": "2021-04-04T23:19:34.287304",
     "status": "completed"
    },
    "tags": []
   },
   "source": [
    "# Preprocess"
   ]
  },
  {
   "cell_type": "code",
   "execution_count": 10,
   "id": "1513e563",
   "metadata": {
    "execution": {
     "iopub.execute_input": "2021-04-04T23:19:34.369363Z",
     "iopub.status.busy": "2021-04-04T23:19:34.368354Z",
     "iopub.status.idle": "2021-04-04T23:19:34.370744Z",
     "shell.execute_reply": "2021-04-04T23:19:34.371400Z"
    },
    "papermill": {
     "duration": 0.037234,
     "end_time": "2021-04-04T23:19:34.371744",
     "exception": false,
     "start_time": "2021-04-04T23:19:34.334510",
     "status": "completed"
    },
    "tags": []
   },
   "outputs": [],
   "source": [
    "working_df = df.copy()"
   ]
  },
  {
   "cell_type": "code",
   "execution_count": 11,
   "id": "3b26d675",
   "metadata": {
    "execution": {
     "iopub.execute_input": "2021-04-04T23:19:34.428156Z",
     "iopub.status.busy": "2021-04-04T23:19:34.427202Z",
     "iopub.status.idle": "2021-04-04T23:19:34.430350Z",
     "shell.execute_reply": "2021-04-04T23:19:34.429372Z"
    },
    "papermill": {
     "duration": 0.033057,
     "end_time": "2021-04-04T23:19:34.430624",
     "exception": false,
     "start_time": "2021-04-04T23:19:34.397567",
     "status": "completed"
    },
    "tags": []
   },
   "outputs": [],
   "source": [
    "working_df['defects'] = working_df['defects'].replace([False, True], [0, 1])"
   ]
  },
  {
   "cell_type": "code",
   "execution_count": 12,
   "id": "eb48604f",
   "metadata": {
    "execution": {
     "iopub.execute_input": "2021-04-04T23:19:34.484992Z",
     "iopub.status.busy": "2021-04-04T23:19:34.483890Z",
     "iopub.status.idle": "2021-04-04T23:19:34.486512Z",
     "shell.execute_reply": "2021-04-04T23:19:34.486006Z"
    },
    "papermill": {
     "duration": 0.033569,
     "end_time": "2021-04-04T23:19:34.486631",
     "exception": false,
     "start_time": "2021-04-04T23:19:34.453062",
     "status": "completed"
    },
    "tags": []
   },
   "outputs": [],
   "source": [
    "for col in dataset_config['delete_columns']:\n",
    "    del working_df[col]"
   ]
  },
  {
   "cell_type": "code",
   "execution_count": 13,
   "id": "9a17bc29",
   "metadata": {
    "execution": {
     "iopub.execute_input": "2021-04-04T23:19:34.543018Z",
     "iopub.status.busy": "2021-04-04T23:19:34.542083Z",
     "iopub.status.idle": "2021-04-04T23:19:34.550323Z",
     "shell.execute_reply": "2021-04-04T23:19:34.550804Z"
    },
    "papermill": {
     "duration": 0.039101,
     "end_time": "2021-04-04T23:19:34.550951",
     "exception": false,
     "start_time": "2021-04-04T23:19:34.511850",
     "status": "completed"
    },
    "tags": []
   },
   "outputs": [],
   "source": [
    "working_df = working_df.drop_duplicates()"
   ]
  },
  {
   "cell_type": "markdown",
   "id": "a4d52ca6",
   "metadata": {
    "papermill": {
     "duration": 0.025358,
     "end_time": "2021-04-04T23:19:34.600527",
     "exception": false,
     "start_time": "2021-04-04T23:19:34.575169",
     "status": "completed"
    },
    "tags": []
   },
   "source": [
    "# Split"
   ]
  },
  {
   "cell_type": "code",
   "execution_count": 14,
   "id": "3e9ee4b5",
   "metadata": {
    "execution": {
     "iopub.execute_input": "2021-04-04T23:19:34.655222Z",
     "iopub.status.busy": "2021-04-04T23:19:34.654217Z",
     "iopub.status.idle": "2021-04-04T23:19:34.688433Z",
     "shell.execute_reply": "2021-04-04T23:19:34.687909Z"
    },
    "papermill": {
     "duration": 0.062473,
     "end_time": "2021-04-04T23:19:34.688553",
     "exception": false,
     "start_time": "2021-04-04T23:19:34.626080",
     "status": "completed"
    },
    "tags": []
   },
   "outputs": [],
   "source": [
    "from sklearn.model_selection import train_test_split"
   ]
  },
  {
   "cell_type": "code",
   "execution_count": 15,
   "id": "274004ce",
   "metadata": {
    "execution": {
     "iopub.execute_input": "2021-04-04T23:19:34.745136Z",
     "iopub.status.busy": "2021-04-04T23:19:34.744263Z",
     "iopub.status.idle": "2021-04-04T23:19:34.752771Z",
     "shell.execute_reply": "2021-04-04T23:19:34.752180Z"
    },
    "papermill": {
     "duration": 0.041911,
     "end_time": "2021-04-04T23:19:34.752892",
     "exception": false,
     "start_time": "2021-04-04T23:19:34.710981",
     "status": "completed"
    },
    "scrolled": true,
    "tags": []
   },
   "outputs": [],
   "source": [
    "inlier, outlier = working_df[working_df['defects'] == 0], working_df[working_df['defects'] == 1]"
   ]
  },
  {
   "cell_type": "code",
   "execution_count": 16,
   "id": "753c7b03",
   "metadata": {
    "execution": {
     "iopub.execute_input": "2021-04-04T23:19:34.809717Z",
     "iopub.status.busy": "2021-04-04T23:19:34.809044Z",
     "iopub.status.idle": "2021-04-04T23:19:34.810915Z",
     "shell.execute_reply": "2021-04-04T23:19:34.811384Z"
    },
    "papermill": {
     "duration": 0.032114,
     "end_time": "2021-04-04T23:19:34.811530",
     "exception": false,
     "start_time": "2021-04-04T23:19:34.779416",
     "status": "completed"
    },
    "tags": []
   },
   "outputs": [],
   "source": [
    "X_inlier = inlier.copy()\n",
    "y_inlier = X_inlier.pop('defects')\n",
    "X_outlier = outlier.copy()\n",
    "y_outlier = X_outlier.pop('defects')"
   ]
  },
  {
   "cell_type": "code",
   "execution_count": 17,
   "id": "2ba43193",
   "metadata": {
    "execution": {
     "iopub.execute_input": "2021-04-04T23:19:34.873074Z",
     "iopub.status.busy": "2021-04-04T23:19:34.871150Z",
     "iopub.status.idle": "2021-04-04T23:19:34.875813Z",
     "shell.execute_reply": "2021-04-04T23:19:34.876394Z"
    },
    "papermill": {
     "duration": 0.040418,
     "end_time": "2021-04-04T23:19:34.876560",
     "exception": false,
     "start_time": "2021-04-04T23:19:34.836142",
     "status": "completed"
    },
    "tags": []
   },
   "outputs": [],
   "source": [
    "test_size = dataset_config['test_size']\n",
    "random_state = dataset_config['random_state']\n",
    "\n",
    "X_inlier_train, X_inlier_test, y_inlier_train, y_inlier_test = train_test_split(\n",
    "    X_inlier,\n",
    "    y_inlier,\n",
    "    test_size=test_size,\n",
    "    random_state=random_state\n",
    ")"
   ]
  },
  {
   "cell_type": "code",
   "execution_count": 18,
   "id": "0b7582ca",
   "metadata": {
    "execution": {
     "iopub.execute_input": "2021-04-04T23:19:34.931547Z",
     "iopub.status.busy": "2021-04-04T23:19:34.930764Z",
     "iopub.status.idle": "2021-04-04T23:19:34.933257Z",
     "shell.execute_reply": "2021-04-04T23:19:34.932672Z"
    },
    "papermill": {
     "duration": 0.031682,
     "end_time": "2021-04-04T23:19:34.933375",
     "exception": false,
     "start_time": "2021-04-04T23:19:34.901693",
     "status": "completed"
    },
    "tags": []
   },
   "outputs": [],
   "source": [
    "test_outlier_size = dataset_config['test_outlier_size']\n",
    "if test_outlier_size > 0.0:\n",
    "    X_outlier_train, X_outlier_test, y_outlier_train, y_outlier_test = train_test_split(\n",
    "        X_outlier,\n",
    "        y_outlier,\n",
    "        test_size=test_outlier_size,\n",
    "        random_state=random_state\n",
    "    )\n",
    "else:\n",
    "    X_outlier_train, y_outlier_train = pd.DataFrame(columns=X_outlier.columns), pd.Series(dtype='int64')\n",
    "    X_outlier_test, y_outlier_test = X_outlier.copy(), y_outlier.copy()"
   ]
  },
  {
   "cell_type": "code",
   "execution_count": 19,
   "id": "c34363db",
   "metadata": {
    "execution": {
     "iopub.execute_input": "2021-04-04T23:19:34.991780Z",
     "iopub.status.busy": "2021-04-04T23:19:34.990913Z",
     "iopub.status.idle": "2021-04-04T23:19:34.998074Z",
     "shell.execute_reply": "2021-04-04T23:19:34.997414Z"
    },
    "papermill": {
     "duration": 0.040103,
     "end_time": "2021-04-04T23:19:34.998222",
     "exception": false,
     "start_time": "2021-04-04T23:19:34.958119",
     "status": "completed"
    },
    "tags": []
   },
   "outputs": [],
   "source": [
    "X_train, y_train = pd.concat([X_inlier_train, X_outlier_train], ignore_index=True), pd.concat([y_inlier_train, y_outlier_train], ignore_index=True)\n",
    "X_test, y_test = pd.concat([X_inlier_test, X_outlier_test], ignore_index=True), pd.concat([y_inlier_test, y_outlier_test], ignore_index=True)"
   ]
  },
  {
   "cell_type": "markdown",
   "id": "7cde7309",
   "metadata": {
    "papermill": {
     "duration": 0.024181,
     "end_time": "2021-04-04T23:19:35.044908",
     "exception": false,
     "start_time": "2021-04-04T23:19:35.020727",
     "status": "completed"
    },
    "tags": []
   },
   "source": [
    "# Model"
   ]
  },
  {
   "cell_type": "code",
   "execution_count": 20,
   "id": "2b12a415",
   "metadata": {
    "execution": {
     "iopub.execute_input": "2021-04-04T23:19:35.110511Z",
     "iopub.status.busy": "2021-04-04T23:19:35.109479Z",
     "iopub.status.idle": "2021-04-04T23:19:35.112190Z",
     "shell.execute_reply": "2021-04-04T23:19:35.112862Z"
    },
    "papermill": {
     "duration": 0.04465,
     "end_time": "2021-04-04T23:19:35.113191",
     "exception": false,
     "start_time": "2021-04-04T23:19:35.068541",
     "status": "completed"
    },
    "tags": []
   },
   "outputs": [],
   "source": [
    "from math import sqrt\n",
    "\n",
    "\n",
    "class KNNDataDescription:\n",
    "    def __init__(self, k=5, outlier_threshold=1.0):\n",
    "        self.k = k\n",
    "        self.outlier_threshold = outlier_threshold\n",
    "        self.X = []\n",
    "    \n",
    "    def fit(self, X):\n",
    "        self.X = [features.to_list() for index, features in X.iterrows()]\n",
    "\n",
    "    def predict(self, entries):\n",
    "        return [self.predict_entry(features.to_list()) for index, features in entries.iterrows()]\n",
    "    \n",
    "    def predict_entry(self, entry):\n",
    "        kth_neighbor, kth_distance = self.get_kth_neighbor(entry, self.k)\n",
    "        kth_kth_neighbor, kth_kth_distance = self.get_kth_neighbor(kth_neighbor, self.k + 1)\n",
    "\n",
    "        outlier_score = kth_distance / (kth_kth_distance + 0.000001)\n",
    "\n",
    "        return 1 if outlier_score < self.outlier_threshold else -1\n",
    "        \n",
    "    def euclidean_distance(self, features1, features2):\n",
    "        distance = 0.0\n",
    "        for feat1, feat2 in zip(features1, features2):\n",
    "            distance += (feat1 - feat2)**2\n",
    "                \n",
    "        return sqrt(distance)\n",
    "\n",
    "    def get_neighbors(self, entry, k):\n",
    "        distance_to_data_points = [\n",
    "            (data_point, self.euclidean_distance(entry, data_point))\n",
    "            for data_point in self.X\n",
    "        ]\n",
    "        sorted_by_distance = sorted(distance_to_data_points, key=lambda tup: tup[1])\n",
    "        neighbors = sorted_by_distance[:k]\n",
    "        return neighbors\n",
    "\n",
    "    def get_kth_neighbor(self, entry, k):\n",
    "        neighbors = self.get_neighbors(entry, k)\n",
    "        return neighbors[-1]\n"
   ]
  },
  {
   "cell_type": "code",
   "execution_count": 21,
   "id": "1fa9ec1c",
   "metadata": {
    "execution": {
     "iopub.execute_input": "2021-04-04T23:19:35.167170Z",
     "iopub.status.busy": "2021-04-04T23:19:35.166516Z",
     "iopub.status.idle": "2021-04-04T23:19:35.189487Z",
     "shell.execute_reply": "2021-04-04T23:19:35.188274Z"
    },
    "papermill": {
     "duration": 0.051196,
     "end_time": "2021-04-04T23:19:35.189802",
     "exception": false,
     "start_time": "2021-04-04T23:19:35.138606",
     "status": "completed"
    },
    "tags": []
   },
   "outputs": [],
   "source": [
    "from sklearn.svm import OneClassSVM\n",
    "\n",
    "\n",
    "models = {\n",
    "    'oneclasssvm': OneClassSVM,\n",
    "    'knndatadescription': KNNDataDescription,\n",
    "}"
   ]
  },
  {
   "cell_type": "code",
   "execution_count": 22,
   "id": "4d72a0b1",
   "metadata": {
    "execution": {
     "iopub.execute_input": "2021-04-04T23:19:35.248223Z",
     "iopub.status.busy": "2021-04-04T23:19:35.247085Z",
     "iopub.status.idle": "2021-04-04T23:19:35.250520Z",
     "shell.execute_reply": "2021-04-04T23:19:35.249875Z"
    },
    "papermill": {
     "duration": 0.0354,
     "end_time": "2021-04-04T23:19:35.250683",
     "exception": false,
     "start_time": "2021-04-04T23:19:35.215283",
     "status": "completed"
    },
    "scrolled": true,
    "tags": []
   },
   "outputs": [],
   "source": [
    "model_cls = models[model_config['model_type']]\n",
    "model = model_cls(**model_config['hyperparameters'])"
   ]
  },
  {
   "cell_type": "markdown",
   "id": "e00cff3b",
   "metadata": {
    "papermill": {
     "duration": 0.025056,
     "end_time": "2021-04-04T23:19:35.299034",
     "exception": false,
     "start_time": "2021-04-04T23:19:35.273978",
     "status": "completed"
    },
    "tags": []
   },
   "source": [
    "# Fit"
   ]
  },
  {
   "cell_type": "code",
   "execution_count": 23,
   "id": "8b2ded89",
   "metadata": {
    "execution": {
     "iopub.execute_input": "2021-04-04T23:19:35.370800Z",
     "iopub.status.busy": "2021-04-04T23:19:35.369929Z",
     "iopub.status.idle": "2021-04-04T23:19:35.380507Z",
     "shell.execute_reply": "2021-04-04T23:19:35.379252Z"
    },
    "papermill": {
     "duration": 0.053775,
     "end_time": "2021-04-04T23:19:35.380690",
     "exception": false,
     "start_time": "2021-04-04T23:19:35.326915",
     "status": "completed"
    },
    "tags": []
   },
   "outputs": [
    {
     "data": {
      "text/plain": [
       "OneClassSVM()"
      ]
     },
     "execution_count": 23,
     "metadata": {},
     "output_type": "execute_result"
    }
   ],
   "source": [
    "model.fit(X_train)"
   ]
  },
  {
   "cell_type": "markdown",
   "id": "f99999f7",
   "metadata": {
    "papermill": {
     "duration": 0.0259,
     "end_time": "2021-04-04T23:19:35.433727",
     "exception": false,
     "start_time": "2021-04-04T23:19:35.407827",
     "status": "completed"
    },
    "tags": []
   },
   "source": [
    "# Predict"
   ]
  },
  {
   "cell_type": "code",
   "execution_count": 24,
   "id": "6536fbf7",
   "metadata": {
    "execution": {
     "iopub.execute_input": "2021-04-04T23:19:35.495998Z",
     "iopub.status.busy": "2021-04-04T23:19:35.495291Z",
     "iopub.status.idle": "2021-04-04T23:19:35.504094Z",
     "shell.execute_reply": "2021-04-04T23:19:35.505057Z"
    },
    "papermill": {
     "duration": 0.046695,
     "end_time": "2021-04-04T23:19:35.505401",
     "exception": false,
     "start_time": "2021-04-04T23:19:35.458706",
     "status": "completed"
    },
    "tags": []
   },
   "outputs": [],
   "source": [
    "predictions = model.predict(X_test)"
   ]
  },
  {
   "cell_type": "markdown",
   "id": "aa1c9881",
   "metadata": {
    "papermill": {
     "duration": 0.027039,
     "end_time": "2021-04-04T23:19:35.559391",
     "exception": false,
     "start_time": "2021-04-04T23:19:35.532352",
     "status": "completed"
    },
    "tags": []
   },
   "source": [
    "# Evaluate"
   ]
  },
  {
   "cell_type": "code",
   "execution_count": 25,
   "id": "894f0f04",
   "metadata": {
    "execution": {
     "iopub.execute_input": "2021-04-04T23:19:35.618268Z",
     "iopub.status.busy": "2021-04-04T23:19:35.616163Z",
     "iopub.status.idle": "2021-04-04T23:19:35.620311Z",
     "shell.execute_reply": "2021-04-04T23:19:35.619618Z"
    },
    "papermill": {
     "duration": 0.037039,
     "end_time": "2021-04-04T23:19:35.620467",
     "exception": false,
     "start_time": "2021-04-04T23:19:35.583428",
     "status": "completed"
    },
    "tags": []
   },
   "outputs": [],
   "source": [
    "from sklearn.metrics import f1_score"
   ]
  },
  {
   "cell_type": "code",
   "execution_count": 26,
   "id": "211744d3",
   "metadata": {
    "execution": {
     "iopub.execute_input": "2021-04-04T23:19:35.676213Z",
     "iopub.status.busy": "2021-04-04T23:19:35.675639Z",
     "iopub.status.idle": "2021-04-04T23:19:35.677650Z",
     "shell.execute_reply": "2021-04-04T23:19:35.678156Z"
    },
    "papermill": {
     "duration": 0.030671,
     "end_time": "2021-04-04T23:19:35.678298",
     "exception": false,
     "start_time": "2021-04-04T23:19:35.647627",
     "status": "completed"
    },
    "tags": []
   },
   "outputs": [],
   "source": [
    "y_test = y_test.replace([0, 1], [1, -1])"
   ]
  },
  {
   "cell_type": "code",
   "execution_count": 27,
   "id": "d68a9204",
   "metadata": {
    "execution": {
     "iopub.execute_input": "2021-04-04T23:19:35.749109Z",
     "iopub.status.busy": "2021-04-04T23:19:35.748201Z",
     "iopub.status.idle": "2021-04-04T23:19:35.750700Z",
     "shell.execute_reply": "2021-04-04T23:19:35.751299Z"
    },
    "papermill": {
     "duration": 0.04579,
     "end_time": "2021-04-04T23:19:35.751491",
     "exception": false,
     "start_time": "2021-04-04T23:19:35.705701",
     "status": "completed"
    },
    "tags": []
   },
   "outputs": [],
   "source": [
    "def evaluate(truths, predictions, pos_label, neg_label):\n",
    "    TP = 0\n",
    "    FP = 0\n",
    "    TN = 0\n",
    "    FN = 0\n",
    "\n",
    "    for truth, pred in zip(truths, predictions): \n",
    "        if truth == pred == pos_label:\n",
    "           TP += 1\n",
    "        elif pred == pos_label and truth == neg_label:\n",
    "           FP += 1\n",
    "        elif truth == pred == neg_label:\n",
    "           TN += 1\n",
    "        elif pred == neg_label and truth == pos_label:\n",
    "           FN += 1\n",
    "\n",
    "    precision = TP / (TP + FP)\n",
    "    sensitivity = TP / (TP + FN)\n",
    "    \n",
    "    return {\n",
    "        'true_pos': TP,\n",
    "        'false_pos': FP,\n",
    "        'false_neg': FN,\n",
    "        'true_neg': TN,\n",
    "        'precision': precision,\n",
    "        'sensitivity': sensitivity,\n",
    "        'f1': (2 * (precision * sensitivity)) / (precision + sensitivity)\n",
    "    }\n",
    "\n",
    "score = evaluate(y_test, predictions, pos_label=-1, neg_label=1)"
   ]
  },
  {
   "cell_type": "markdown",
   "id": "93596516",
   "metadata": {
    "papermill": {
     "duration": 0.024465,
     "end_time": "2021-04-04T23:19:35.802964",
     "exception": false,
     "start_time": "2021-04-04T23:19:35.778499",
     "status": "completed"
    },
    "tags": []
   },
   "source": [
    "# Report"
   ]
  },
  {
   "cell_type": "code",
   "execution_count": 28,
   "id": "bea5fba1",
   "metadata": {
    "execution": {
     "iopub.execute_input": "2021-04-04T23:19:35.864265Z",
     "iopub.status.busy": "2021-04-04T23:19:35.863150Z",
     "iopub.status.idle": "2021-04-04T23:19:35.865714Z",
     "shell.execute_reply": "2021-04-04T23:19:35.866323Z"
    },
    "papermill": {
     "duration": 0.037304,
     "end_time": "2021-04-04T23:19:35.866517",
     "exception": false,
     "start_time": "2021-04-04T23:19:35.829213",
     "status": "completed"
    },
    "tags": []
   },
   "outputs": [],
   "source": [
    "import csv\n",
    "\n",
    "\n",
    "dataset_config_name = DATASET_CONFIG_PATH.split('/')[-1].split('.')[0]\n",
    "model_config_name = MODEL_CONFIG_PATH.split('/')[-1].split('.')[0]\n",
    "configuration = f\"dataset_{dataset_config_name}-model_{model_config_name}\"\n",
    "\n",
    "with open('results.csv', 'a') as f:\n",
    "    report = dict({'configuration': configuration}, **score)\n",
    "    writer = csv.DictWriter(f, report.keys())\n",
    "    writer.writerow(report)"
   ]
  }
 ],
 "metadata": {
  "celltoolbar": "Tags",
  "kernelspec": {
   "display_name": "Python 3",
   "language": "python",
   "name": "python3"
  },
  "language_info": {
   "codemirror_mode": {
    "name": "ipython",
    "version": 3
   },
   "file_extension": ".py",
   "mimetype": "text/x-python",
   "name": "python",
   "nbconvert_exporter": "python",
   "pygments_lexer": "ipython3",
   "version": "3.9.1"
  },
  "papermill": {
   "default_parameters": {},
   "duration": 6.055435,
   "end_time": "2021-04-04T23:19:37.129834",
   "environment_variables": {},
   "exception": null,
   "input_path": "main.ipynb",
   "output_path": "runs/dataset_000117-model_000004.ipynb",
   "parameters": {
    "DATASET_CONFIG_PATH": "config/dataset/000117.json",
    "MODEL_CONFIG_PATH": "config/model/000004.json",
    "PROFILE_REPORTING": false
   },
   "start_time": "2021-04-04T23:19:31.074399",
   "version": "2.3.3"
  }
 },
 "nbformat": 4,
 "nbformat_minor": 5
}