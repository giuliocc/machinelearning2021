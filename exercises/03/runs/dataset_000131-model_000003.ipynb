{
 "cells": [
  {
   "cell_type": "markdown",
   "id": "51c71c25",
   "metadata": {
    "papermill": {
     "duration": 0.050864,
     "end_time": "2021-04-04T23:25:28.409716",
     "exception": false,
     "start_time": "2021-04-04T23:25:28.358852",
     "status": "completed"
    },
    "tags": []
   },
   "source": [
    "# Parametrizing"
   ]
  },
  {
   "cell_type": "code",
   "execution_count": 1,
   "id": "3b136394",
   "metadata": {
    "execution": {
     "iopub.execute_input": "2021-04-04T23:25:28.561181Z",
     "iopub.status.busy": "2021-04-04T23:25:28.559962Z",
     "iopub.status.idle": "2021-04-04T23:25:28.609581Z",
     "shell.execute_reply": "2021-04-04T23:25:28.611039Z"
    },
    "papermill": {
     "duration": 0.143753,
     "end_time": "2021-04-04T23:25:28.612168",
     "exception": false,
     "start_time": "2021-04-04T23:25:28.468415",
     "status": "completed"
    },
    "tags": [
     "parameters"
    ]
   },
   "outputs": [],
   "source": [
    "DATASET_CONFIG_PATH = 'config/dataset/kc1_001.json'\n",
    "MODEL_CONFIG_PATH = 'config/model/knndd_001.json'\n",
    "PROFILE_REPORTING = False"
   ]
  },
  {
   "cell_type": "code",
   "execution_count": 2,
   "id": "587e9189",
   "metadata": {
    "execution": {
     "iopub.execute_input": "2021-04-04T23:25:28.798594Z",
     "iopub.status.busy": "2021-04-04T23:25:28.797341Z",
     "iopub.status.idle": "2021-04-04T23:25:28.800057Z",
     "shell.execute_reply": "2021-04-04T23:25:28.799410Z"
    },
    "papermill": {
     "duration": 0.071136,
     "end_time": "2021-04-04T23:25:28.800271",
     "exception": false,
     "start_time": "2021-04-04T23:25:28.729135",
     "status": "completed"
    },
    "tags": [
     "injected-parameters"
    ]
   },
   "outputs": [],
   "source": [
    "# Parameters\n",
    "DATASET_CONFIG_PATH = \"config/dataset/000131.json\"\n",
    "MODEL_CONFIG_PATH = \"config/model/000003.json\"\n",
    "PROFILE_REPORTING = False\n"
   ]
  },
  {
   "cell_type": "code",
   "execution_count": 3,
   "id": "b80f2a10",
   "metadata": {
    "execution": {
     "iopub.execute_input": "2021-04-04T23:25:28.923584Z",
     "iopub.status.busy": "2021-04-04T23:25:28.919916Z",
     "iopub.status.idle": "2021-04-04T23:25:28.928872Z",
     "shell.execute_reply": "2021-04-04T23:25:28.929835Z"
    },
    "papermill": {
     "duration": 0.076846,
     "end_time": "2021-04-04T23:25:28.930139",
     "exception": false,
     "start_time": "2021-04-04T23:25:28.853293",
     "status": "completed"
    },
    "tags": []
   },
   "outputs": [],
   "source": [
    "import json\n",
    "\n",
    "\n",
    "with open(DATASET_CONFIG_PATH) as f:\n",
    "    dataset_config = json.load(f)\n",
    "\n",
    "with open(MODEL_CONFIG_PATH) as f:\n",
    "    model_config = json.load(f)"
   ]
  },
  {
   "cell_type": "markdown",
   "id": "9a4b0e2d",
   "metadata": {
    "papermill": {
     "duration": 0.029023,
     "end_time": "2021-04-04T23:25:29.023248",
     "exception": false,
     "start_time": "2021-04-04T23:25:28.994225",
     "status": "completed"
    },
    "tags": []
   },
   "source": [
    "# Profiling"
   ]
  },
  {
   "cell_type": "code",
   "execution_count": 4,
   "id": "a3e0289b",
   "metadata": {
    "execution": {
     "iopub.execute_input": "2021-04-04T23:25:29.080602Z",
     "iopub.status.busy": "2021-04-04T23:25:29.079898Z",
     "iopub.status.idle": "2021-04-04T23:25:31.013234Z",
     "shell.execute_reply": "2021-04-04T23:25:31.012520Z"
    },
    "papermill": {
     "duration": 1.966072,
     "end_time": "2021-04-04T23:25:31.013444",
     "exception": false,
     "start_time": "2021-04-04T23:25:29.047372",
     "status": "completed"
    },
    "tags": []
   },
   "outputs": [],
   "source": [
    "import pandas as pd\n",
    "from pandas_profiling import ProfileReport"
   ]
  },
  {
   "cell_type": "code",
   "execution_count": 5,
   "id": "ee6c0666",
   "metadata": {
    "execution": {
     "iopub.execute_input": "2021-04-04T23:25:31.066998Z",
     "iopub.status.busy": "2021-04-04T23:25:31.065314Z",
     "iopub.status.idle": "2021-04-04T23:25:31.075999Z",
     "shell.execute_reply": "2021-04-04T23:25:31.075481Z"
    },
    "papermill": {
     "duration": 0.039176,
     "end_time": "2021-04-04T23:25:31.076120",
     "exception": false,
     "start_time": "2021-04-04T23:25:31.036944",
     "status": "completed"
    },
    "tags": []
   },
   "outputs": [],
   "source": [
    "df = pd.read_csv(dataset_config['dataset_path'])"
   ]
  },
  {
   "cell_type": "code",
   "execution_count": 6,
   "id": "7eca6c4a",
   "metadata": {
    "execution": {
     "iopub.execute_input": "2021-04-04T23:25:31.132969Z",
     "iopub.status.busy": "2021-04-04T23:25:31.132339Z",
     "iopub.status.idle": "2021-04-04T23:25:31.135443Z",
     "shell.execute_reply": "2021-04-04T23:25:31.134944Z"
    },
    "papermill": {
     "duration": 0.038797,
     "end_time": "2021-04-04T23:25:31.135560",
     "exception": false,
     "start_time": "2021-04-04T23:25:31.096763",
     "status": "completed"
    },
    "tags": []
   },
   "outputs": [
    {
     "name": "stdout",
     "output_type": "stream",
     "text": [
      "<class 'pandas.core.frame.DataFrame'>\n",
      "RangeIndex: 498 entries, 0 to 497\n",
      "Data columns (total 23 columns):\n",
      " #   Column             Non-Null Count  Dtype  \n",
      "---  ------             --------------  -----  \n",
      " 0   id                 498 non-null    int64  \n",
      " 1   loc                498 non-null    float64\n",
      " 2   v(g)               498 non-null    float64\n",
      " 3   ev(g)              498 non-null    float64\n",
      " 4   iv(g)              498 non-null    float64\n",
      " 5   n                  498 non-null    float64\n",
      " 6   v                  498 non-null    float64\n",
      " 7   l                  498 non-null    float64\n",
      " 8   d                  498 non-null    float64\n",
      " 9   i                  498 non-null    float64\n",
      " 10  e                  498 non-null    float64\n",
      " 11  b                  498 non-null    float64\n",
      " 12  t                  498 non-null    float64\n",
      " 13  lOCode             498 non-null    int64  \n",
      " 14  lOComment          498 non-null    int64  \n",
      " 15  lOBlank            498 non-null    int64  \n",
      " 16  locCodeAndComment  498 non-null    int64  \n",
      " 17  uniq_Op            498 non-null    float64\n",
      " 18  uniq_Opnd          498 non-null    float64\n",
      " 19  total_Op           498 non-null    float64\n",
      " 20  total_Opnd         498 non-null    float64\n",
      " 21  branchCount        498 non-null    float64\n",
      " 22  defects            498 non-null    bool   \n",
      "dtypes: bool(1), float64(17), int64(5)\n",
      "memory usage: 86.2 KB\n"
     ]
    }
   ],
   "source": [
    "df.info()"
   ]
  },
  {
   "cell_type": "code",
   "execution_count": 7,
   "id": "3638e5e8",
   "metadata": {
    "execution": {
     "iopub.execute_input": "2021-04-04T23:25:31.205834Z",
     "iopub.status.busy": "2021-04-04T23:25:31.204602Z",
     "iopub.status.idle": "2021-04-04T23:25:31.234760Z",
     "shell.execute_reply": "2021-04-04T23:25:31.234168Z"
    },
    "papermill": {
     "duration": 0.074132,
     "end_time": "2021-04-04T23:25:31.234881",
     "exception": false,
     "start_time": "2021-04-04T23:25:31.160749",
     "status": "completed"
    },
    "tags": []
   },
   "outputs": [
    {
     "data": {
      "text/html": [
       "<div>\n",
       "<style scoped>\n",
       "    .dataframe tbody tr th:only-of-type {\n",
       "        vertical-align: middle;\n",
       "    }\n",
       "\n",
       "    .dataframe tbody tr th {\n",
       "        vertical-align: top;\n",
       "    }\n",
       "\n",
       "    .dataframe thead th {\n",
       "        text-align: right;\n",
       "    }\n",
       "</style>\n",
       "<table border=\"1\" class=\"dataframe\">\n",
       "  <thead>\n",
       "    <tr style=\"text-align: right;\">\n",
       "      <th></th>\n",
       "      <th>id</th>\n",
       "      <th>loc</th>\n",
       "      <th>v(g)</th>\n",
       "      <th>ev(g)</th>\n",
       "      <th>iv(g)</th>\n",
       "      <th>n</th>\n",
       "      <th>v</th>\n",
       "      <th>l</th>\n",
       "      <th>d</th>\n",
       "      <th>i</th>\n",
       "      <th>...</th>\n",
       "      <th>lOCode</th>\n",
       "      <th>lOComment</th>\n",
       "      <th>lOBlank</th>\n",
       "      <th>locCodeAndComment</th>\n",
       "      <th>uniq_Op</th>\n",
       "      <th>uniq_Opnd</th>\n",
       "      <th>total_Op</th>\n",
       "      <th>total_Opnd</th>\n",
       "      <th>branchCount</th>\n",
       "      <th>defects</th>\n",
       "    </tr>\n",
       "  </thead>\n",
       "  <tbody>\n",
       "    <tr>\n",
       "      <th>0</th>\n",
       "      <td>1</td>\n",
       "      <td>1.1</td>\n",
       "      <td>1.4</td>\n",
       "      <td>1.4</td>\n",
       "      <td>1.4</td>\n",
       "      <td>1.3</td>\n",
       "      <td>1.30</td>\n",
       "      <td>1.30</td>\n",
       "      <td>1.30</td>\n",
       "      <td>1.30</td>\n",
       "      <td>...</td>\n",
       "      <td>2</td>\n",
       "      <td>2</td>\n",
       "      <td>2</td>\n",
       "      <td>2</td>\n",
       "      <td>1.2</td>\n",
       "      <td>1.2</td>\n",
       "      <td>1.2</td>\n",
       "      <td>1.2</td>\n",
       "      <td>1.4</td>\n",
       "      <td>False</td>\n",
       "    </tr>\n",
       "    <tr>\n",
       "      <th>1</th>\n",
       "      <td>2</td>\n",
       "      <td>1.0</td>\n",
       "      <td>1.0</td>\n",
       "      <td>1.0</td>\n",
       "      <td>1.0</td>\n",
       "      <td>1.0</td>\n",
       "      <td>1.00</td>\n",
       "      <td>1.00</td>\n",
       "      <td>1.00</td>\n",
       "      <td>1.00</td>\n",
       "      <td>...</td>\n",
       "      <td>1</td>\n",
       "      <td>1</td>\n",
       "      <td>1</td>\n",
       "      <td>1</td>\n",
       "      <td>1.0</td>\n",
       "      <td>1.0</td>\n",
       "      <td>1.0</td>\n",
       "      <td>1.0</td>\n",
       "      <td>1.0</td>\n",
       "      <td>True</td>\n",
       "    </tr>\n",
       "    <tr>\n",
       "      <th>2</th>\n",
       "      <td>3</td>\n",
       "      <td>24.0</td>\n",
       "      <td>5.0</td>\n",
       "      <td>1.0</td>\n",
       "      <td>3.0</td>\n",
       "      <td>63.0</td>\n",
       "      <td>309.13</td>\n",
       "      <td>0.11</td>\n",
       "      <td>9.50</td>\n",
       "      <td>32.54</td>\n",
       "      <td>...</td>\n",
       "      <td>1</td>\n",
       "      <td>0</td>\n",
       "      <td>6</td>\n",
       "      <td>0</td>\n",
       "      <td>15.0</td>\n",
       "      <td>15.0</td>\n",
       "      <td>44.0</td>\n",
       "      <td>19.0</td>\n",
       "      <td>9.0</td>\n",
       "      <td>False</td>\n",
       "    </tr>\n",
       "    <tr>\n",
       "      <th>3</th>\n",
       "      <td>4</td>\n",
       "      <td>20.0</td>\n",
       "      <td>4.0</td>\n",
       "      <td>4.0</td>\n",
       "      <td>2.0</td>\n",
       "      <td>47.0</td>\n",
       "      <td>215.49</td>\n",
       "      <td>0.06</td>\n",
       "      <td>16.00</td>\n",
       "      <td>13.47</td>\n",
       "      <td>...</td>\n",
       "      <td>0</td>\n",
       "      <td>0</td>\n",
       "      <td>3</td>\n",
       "      <td>0</td>\n",
       "      <td>16.0</td>\n",
       "      <td>8.0</td>\n",
       "      <td>31.0</td>\n",
       "      <td>16.0</td>\n",
       "      <td>7.0</td>\n",
       "      <td>False</td>\n",
       "    </tr>\n",
       "    <tr>\n",
       "      <th>4</th>\n",
       "      <td>5</td>\n",
       "      <td>24.0</td>\n",
       "      <td>6.0</td>\n",
       "      <td>6.0</td>\n",
       "      <td>2.0</td>\n",
       "      <td>72.0</td>\n",
       "      <td>346.13</td>\n",
       "      <td>0.06</td>\n",
       "      <td>17.33</td>\n",
       "      <td>19.97</td>\n",
       "      <td>...</td>\n",
       "      <td>0</td>\n",
       "      <td>0</td>\n",
       "      <td>3</td>\n",
       "      <td>0</td>\n",
       "      <td>16.0</td>\n",
       "      <td>12.0</td>\n",
       "      <td>46.0</td>\n",
       "      <td>26.0</td>\n",
       "      <td>11.0</td>\n",
       "      <td>False</td>\n",
       "    </tr>\n",
       "  </tbody>\n",
       "</table>\n",
       "<p>5 rows × 23 columns</p>\n",
       "</div>"
      ],
      "text/plain": [
       "   id   loc  v(g)  ev(g)  iv(g)     n       v     l      d      i  ...  \\\n",
       "0   1   1.1   1.4    1.4    1.4   1.3    1.30  1.30   1.30   1.30  ...   \n",
       "1   2   1.0   1.0    1.0    1.0   1.0    1.00  1.00   1.00   1.00  ...   \n",
       "2   3  24.0   5.0    1.0    3.0  63.0  309.13  0.11   9.50  32.54  ...   \n",
       "3   4  20.0   4.0    4.0    2.0  47.0  215.49  0.06  16.00  13.47  ...   \n",
       "4   5  24.0   6.0    6.0    2.0  72.0  346.13  0.06  17.33  19.97  ...   \n",
       "\n",
       "   lOCode  lOComment  lOBlank  locCodeAndComment  uniq_Op  uniq_Opnd  \\\n",
       "0       2          2        2                  2      1.2        1.2   \n",
       "1       1          1        1                  1      1.0        1.0   \n",
       "2       1          0        6                  0     15.0       15.0   \n",
       "3       0          0        3                  0     16.0        8.0   \n",
       "4       0          0        3                  0     16.0       12.0   \n",
       "\n",
       "   total_Op  total_Opnd  branchCount  defects  \n",
       "0       1.2         1.2          1.4    False  \n",
       "1       1.0         1.0          1.0     True  \n",
       "2      44.0        19.0          9.0    False  \n",
       "3      31.0        16.0          7.0    False  \n",
       "4      46.0        26.0         11.0    False  \n",
       "\n",
       "[5 rows x 23 columns]"
      ]
     },
     "execution_count": 7,
     "metadata": {},
     "output_type": "execute_result"
    }
   ],
   "source": [
    "df.head()"
   ]
  },
  {
   "cell_type": "code",
   "execution_count": 8,
   "id": "733e95eb",
   "metadata": {
    "execution": {
     "iopub.execute_input": "2021-04-04T23:25:31.286438Z",
     "iopub.status.busy": "2021-04-04T23:25:31.285856Z",
     "iopub.status.idle": "2021-04-04T23:25:31.288014Z",
     "shell.execute_reply": "2021-04-04T23:25:31.288489Z"
    },
    "papermill": {
     "duration": 0.030246,
     "end_time": "2021-04-04T23:25:31.288634",
     "exception": false,
     "start_time": "2021-04-04T23:25:31.258388",
     "status": "completed"
    },
    "tags": []
   },
   "outputs": [],
   "source": [
    "del df['id']"
   ]
  },
  {
   "cell_type": "code",
   "execution_count": 9,
   "id": "6ff6f5b0",
   "metadata": {
    "execution": {
     "iopub.execute_input": "2021-04-04T23:25:31.357705Z",
     "iopub.status.busy": "2021-04-04T23:25:31.356496Z",
     "iopub.status.idle": "2021-04-04T23:25:31.358718Z",
     "shell.execute_reply": "2021-04-04T23:25:31.359206Z"
    },
    "papermill": {
     "duration": 0.039952,
     "end_time": "2021-04-04T23:25:31.359353",
     "exception": false,
     "start_time": "2021-04-04T23:25:31.319401",
     "status": "completed"
    },
    "tags": []
   },
   "outputs": [],
   "source": [
    "if PROFILE_REPORTING:\n",
    "    ProfileReport(df).to_widgets()"
   ]
  },
  {
   "cell_type": "markdown",
   "id": "1deaf3f0",
   "metadata": {
    "papermill": {
     "duration": 0.026996,
     "end_time": "2021-04-04T23:25:31.413526",
     "exception": false,
     "start_time": "2021-04-04T23:25:31.386530",
     "status": "completed"
    },
    "tags": []
   },
   "source": [
    "# Preprocess"
   ]
  },
  {
   "cell_type": "code",
   "execution_count": 10,
   "id": "1513e563",
   "metadata": {
    "execution": {
     "iopub.execute_input": "2021-04-04T23:25:31.468398Z",
     "iopub.status.busy": "2021-04-04T23:25:31.466453Z",
     "iopub.status.idle": "2021-04-04T23:25:31.470202Z",
     "shell.execute_reply": "2021-04-04T23:25:31.469704Z"
    },
    "papermill": {
     "duration": 0.033805,
     "end_time": "2021-04-04T23:25:31.470319",
     "exception": false,
     "start_time": "2021-04-04T23:25:31.436514",
     "status": "completed"
    },
    "tags": []
   },
   "outputs": [],
   "source": [
    "working_df = df.copy()"
   ]
  },
  {
   "cell_type": "code",
   "execution_count": 11,
   "id": "3b26d675",
   "metadata": {
    "execution": {
     "iopub.execute_input": "2021-04-04T23:25:31.522770Z",
     "iopub.status.busy": "2021-04-04T23:25:31.522056Z",
     "iopub.status.idle": "2021-04-04T23:25:31.523880Z",
     "shell.execute_reply": "2021-04-04T23:25:31.524349Z"
    },
    "papermill": {
     "duration": 0.032933,
     "end_time": "2021-04-04T23:25:31.524497",
     "exception": false,
     "start_time": "2021-04-04T23:25:31.491564",
     "status": "completed"
    },
    "tags": []
   },
   "outputs": [],
   "source": [
    "working_df['defects'] = working_df['defects'].replace([False, True], [0, 1])"
   ]
  },
  {
   "cell_type": "code",
   "execution_count": 12,
   "id": "eb48604f",
   "metadata": {
    "execution": {
     "iopub.execute_input": "2021-04-04T23:25:31.581380Z",
     "iopub.status.busy": "2021-04-04T23:25:31.580622Z",
     "iopub.status.idle": "2021-04-04T23:25:31.583130Z",
     "shell.execute_reply": "2021-04-04T23:25:31.583821Z"
    },
    "papermill": {
     "duration": 0.037272,
     "end_time": "2021-04-04T23:25:31.584022",
     "exception": false,
     "start_time": "2021-04-04T23:25:31.546750",
     "status": "completed"
    },
    "tags": []
   },
   "outputs": [],
   "source": [
    "for col in dataset_config['delete_columns']:\n",
    "    del working_df[col]"
   ]
  },
  {
   "cell_type": "code",
   "execution_count": 13,
   "id": "9a17bc29",
   "metadata": {
    "execution": {
     "iopub.execute_input": "2021-04-04T23:25:31.637162Z",
     "iopub.status.busy": "2021-04-04T23:25:31.636513Z",
     "iopub.status.idle": "2021-04-04T23:25:31.643959Z",
     "shell.execute_reply": "2021-04-04T23:25:31.644418Z"
    },
    "papermill": {
     "duration": 0.036733,
     "end_time": "2021-04-04T23:25:31.644569",
     "exception": false,
     "start_time": "2021-04-04T23:25:31.607836",
     "status": "completed"
    },
    "tags": []
   },
   "outputs": [],
   "source": [
    "working_df = working_df.drop_duplicates()"
   ]
  },
  {
   "cell_type": "markdown",
   "id": "a4d52ca6",
   "metadata": {
    "papermill": {
     "duration": 0.027003,
     "end_time": "2021-04-04T23:25:31.694410",
     "exception": false,
     "start_time": "2021-04-04T23:25:31.667407",
     "status": "completed"
    },
    "tags": []
   },
   "source": [
    "# Split"
   ]
  },
  {
   "cell_type": "code",
   "execution_count": 14,
   "id": "3e9ee4b5",
   "metadata": {
    "execution": {
     "iopub.execute_input": "2021-04-04T23:25:31.751587Z",
     "iopub.status.busy": "2021-04-04T23:25:31.750787Z",
     "iopub.status.idle": "2021-04-04T23:25:31.791390Z",
     "shell.execute_reply": "2021-04-04T23:25:31.790795Z"
    },
    "papermill": {
     "duration": 0.072001,
     "end_time": "2021-04-04T23:25:31.791510",
     "exception": false,
     "start_time": "2021-04-04T23:25:31.719509",
     "status": "completed"
    },
    "tags": []
   },
   "outputs": [],
   "source": [
    "from sklearn.model_selection import train_test_split"
   ]
  },
  {
   "cell_type": "code",
   "execution_count": 15,
   "id": "274004ce",
   "metadata": {
    "execution": {
     "iopub.execute_input": "2021-04-04T23:25:31.864996Z",
     "iopub.status.busy": "2021-04-04T23:25:31.862846Z",
     "iopub.status.idle": "2021-04-04T23:25:31.870658Z",
     "shell.execute_reply": "2021-04-04T23:25:31.871214Z"
    },
    "papermill": {
     "duration": 0.047452,
     "end_time": "2021-04-04T23:25:31.871379",
     "exception": false,
     "start_time": "2021-04-04T23:25:31.823927",
     "status": "completed"
    },
    "scrolled": true,
    "tags": []
   },
   "outputs": [],
   "source": [
    "inlier, outlier = working_df[working_df['defects'] == 0], working_df[working_df['defects'] == 1]"
   ]
  },
  {
   "cell_type": "code",
   "execution_count": 16,
   "id": "753c7b03",
   "metadata": {
    "execution": {
     "iopub.execute_input": "2021-04-04T23:25:31.928048Z",
     "iopub.status.busy": "2021-04-04T23:25:31.927324Z",
     "iopub.status.idle": "2021-04-04T23:25:31.929854Z",
     "shell.execute_reply": "2021-04-04T23:25:31.930895Z"
    },
    "papermill": {
     "duration": 0.035091,
     "end_time": "2021-04-04T23:25:31.931280",
     "exception": false,
     "start_time": "2021-04-04T23:25:31.896189",
     "status": "completed"
    },
    "tags": []
   },
   "outputs": [],
   "source": [
    "X_inlier = inlier.copy()\n",
    "y_inlier = X_inlier.pop('defects')\n",
    "X_outlier = outlier.copy()\n",
    "y_outlier = X_outlier.pop('defects')"
   ]
  },
  {
   "cell_type": "code",
   "execution_count": 17,
   "id": "2ba43193",
   "metadata": {
    "execution": {
     "iopub.execute_input": "2021-04-04T23:25:31.987240Z",
     "iopub.status.busy": "2021-04-04T23:25:31.986264Z",
     "iopub.status.idle": "2021-04-04T23:25:31.989398Z",
     "shell.execute_reply": "2021-04-04T23:25:31.989876Z"
    },
    "papermill": {
     "duration": 0.035529,
     "end_time": "2021-04-04T23:25:31.990015",
     "exception": false,
     "start_time": "2021-04-04T23:25:31.954486",
     "status": "completed"
    },
    "tags": []
   },
   "outputs": [],
   "source": [
    "test_size = dataset_config['test_size']\n",
    "random_state = dataset_config['random_state']\n",
    "\n",
    "X_inlier_train, X_inlier_test, y_inlier_train, y_inlier_test = train_test_split(\n",
    "    X_inlier,\n",
    "    y_inlier,\n",
    "    test_size=test_size,\n",
    "    random_state=random_state\n",
    ")"
   ]
  },
  {
   "cell_type": "code",
   "execution_count": 18,
   "id": "0b7582ca",
   "metadata": {
    "execution": {
     "iopub.execute_input": "2021-04-04T23:25:32.052758Z",
     "iopub.status.busy": "2021-04-04T23:25:32.051585Z",
     "iopub.status.idle": "2021-04-04T23:25:32.054936Z",
     "shell.execute_reply": "2021-04-04T23:25:32.054420Z"
    },
    "papermill": {
     "duration": 0.038853,
     "end_time": "2021-04-04T23:25:32.055058",
     "exception": false,
     "start_time": "2021-04-04T23:25:32.016205",
     "status": "completed"
    },
    "tags": []
   },
   "outputs": [],
   "source": [
    "test_outlier_size = dataset_config['test_outlier_size']\n",
    "if test_outlier_size > 0.0:\n",
    "    X_outlier_train, X_outlier_test, y_outlier_train, y_outlier_test = train_test_split(\n",
    "        X_outlier,\n",
    "        y_outlier,\n",
    "        test_size=test_outlier_size,\n",
    "        random_state=random_state\n",
    "    )\n",
    "else:\n",
    "    X_outlier_train, y_outlier_train = pd.DataFrame(columns=X_outlier.columns), pd.Series(dtype='int64')\n",
    "    X_outlier_test, y_outlier_test = X_outlier.copy(), y_outlier.copy()"
   ]
  },
  {
   "cell_type": "code",
   "execution_count": 19,
   "id": "c34363db",
   "metadata": {
    "execution": {
     "iopub.execute_input": "2021-04-04T23:25:32.114932Z",
     "iopub.status.busy": "2021-04-04T23:25:32.113493Z",
     "iopub.status.idle": "2021-04-04T23:25:32.119517Z",
     "shell.execute_reply": "2021-04-04T23:25:32.120815Z"
    },
    "papermill": {
     "duration": 0.041459,
     "end_time": "2021-04-04T23:25:32.121176",
     "exception": false,
     "start_time": "2021-04-04T23:25:32.079717",
     "status": "completed"
    },
    "tags": []
   },
   "outputs": [],
   "source": [
    "X_train, y_train = pd.concat([X_inlier_train, X_outlier_train], ignore_index=True), pd.concat([y_inlier_train, y_outlier_train], ignore_index=True)\n",
    "X_test, y_test = pd.concat([X_inlier_test, X_outlier_test], ignore_index=True), pd.concat([y_inlier_test, y_outlier_test], ignore_index=True)"
   ]
  },
  {
   "cell_type": "markdown",
   "id": "7cde7309",
   "metadata": {
    "papermill": {
     "duration": 0.02346,
     "end_time": "2021-04-04T23:25:32.169735",
     "exception": false,
     "start_time": "2021-04-04T23:25:32.146275",
     "status": "completed"
    },
    "tags": []
   },
   "source": [
    "# Model"
   ]
  },
  {
   "cell_type": "code",
   "execution_count": 20,
   "id": "2b12a415",
   "metadata": {
    "execution": {
     "iopub.execute_input": "2021-04-04T23:25:32.238448Z",
     "iopub.status.busy": "2021-04-04T23:25:32.237539Z",
     "iopub.status.idle": "2021-04-04T23:25:32.242006Z",
     "shell.execute_reply": "2021-04-04T23:25:32.240566Z"
    },
    "papermill": {
     "duration": 0.048275,
     "end_time": "2021-04-04T23:25:32.242394",
     "exception": false,
     "start_time": "2021-04-04T23:25:32.194119",
     "status": "completed"
    },
    "tags": []
   },
   "outputs": [],
   "source": [
    "from math import sqrt\n",
    "\n",
    "\n",
    "class KNNDataDescription:\n",
    "    def __init__(self, k=5, outlier_threshold=1.0):\n",
    "        self.k = k\n",
    "        self.outlier_threshold = outlier_threshold\n",
    "        self.X = []\n",
    "    \n",
    "    def fit(self, X):\n",
    "        self.X = [features.to_list() for index, features in X.iterrows()]\n",
    "\n",
    "    def predict(self, entries):\n",
    "        return [self.predict_entry(features.to_list()) for index, features in entries.iterrows()]\n",
    "    \n",
    "    def predict_entry(self, entry):\n",
    "        kth_neighbor, kth_distance = self.get_kth_neighbor(entry, self.k)\n",
    "        kth_kth_neighbor, kth_kth_distance = self.get_kth_neighbor(kth_neighbor, self.k + 1)\n",
    "\n",
    "        outlier_score = kth_distance / (kth_kth_distance + 0.000001)\n",
    "\n",
    "        return 1 if outlier_score < self.outlier_threshold else -1\n",
    "        \n",
    "    def euclidean_distance(self, features1, features2):\n",
    "        distance = 0.0\n",
    "        for feat1, feat2 in zip(features1, features2):\n",
    "            distance += (feat1 - feat2)**2\n",
    "                \n",
    "        return sqrt(distance)\n",
    "\n",
    "    def get_neighbors(self, entry, k):\n",
    "        distance_to_data_points = [\n",
    "            (data_point, self.euclidean_distance(entry, data_point))\n",
    "            for data_point in self.X\n",
    "        ]\n",
    "        sorted_by_distance = sorted(distance_to_data_points, key=lambda tup: tup[1])\n",
    "        neighbors = sorted_by_distance[:k]\n",
    "        return neighbors\n",
    "\n",
    "    def get_kth_neighbor(self, entry, k):\n",
    "        neighbors = self.get_neighbors(entry, k)\n",
    "        return neighbors[-1]\n"
   ]
  },
  {
   "cell_type": "code",
   "execution_count": 21,
   "id": "1fa9ec1c",
   "metadata": {
    "execution": {
     "iopub.execute_input": "2021-04-04T23:25:32.297729Z",
     "iopub.status.busy": "2021-04-04T23:25:32.295509Z",
     "iopub.status.idle": "2021-04-04T23:25:32.326488Z",
     "shell.execute_reply": "2021-04-04T23:25:32.326991Z"
    },
    "papermill": {
     "duration": 0.06044,
     "end_time": "2021-04-04T23:25:32.327165",
     "exception": false,
     "start_time": "2021-04-04T23:25:32.266725",
     "status": "completed"
    },
    "tags": []
   },
   "outputs": [],
   "source": [
    "from sklearn.svm import OneClassSVM\n",
    "\n",
    "\n",
    "models = {\n",
    "    'oneclasssvm': OneClassSVM,\n",
    "    'knndatadescription': KNNDataDescription,\n",
    "}"
   ]
  },
  {
   "cell_type": "code",
   "execution_count": 22,
   "id": "4d72a0b1",
   "metadata": {
    "execution": {
     "iopub.execute_input": "2021-04-04T23:25:32.400927Z",
     "iopub.status.busy": "2021-04-04T23:25:32.399858Z",
     "iopub.status.idle": "2021-04-04T23:25:32.402569Z",
     "shell.execute_reply": "2021-04-04T23:25:32.403033Z"
    },
    "papermill": {
     "duration": 0.043642,
     "end_time": "2021-04-04T23:25:32.403176",
     "exception": false,
     "start_time": "2021-04-04T23:25:32.359534",
     "status": "completed"
    },
    "scrolled": true,
    "tags": []
   },
   "outputs": [],
   "source": [
    "model_cls = models[model_config['model_type']]\n",
    "model = model_cls(**model_config['hyperparameters'])"
   ]
  },
  {
   "cell_type": "markdown",
   "id": "e00cff3b",
   "metadata": {
    "papermill": {
     "duration": 0.02553,
     "end_time": "2021-04-04T23:25:32.456359",
     "exception": false,
     "start_time": "2021-04-04T23:25:32.430829",
     "status": "completed"
    },
    "tags": []
   },
   "source": [
    "# Fit"
   ]
  },
  {
   "cell_type": "code",
   "execution_count": 23,
   "id": "8b2ded89",
   "metadata": {
    "execution": {
     "iopub.execute_input": "2021-04-04T23:25:32.515251Z",
     "iopub.status.busy": "2021-04-04T23:25:32.514490Z",
     "iopub.status.idle": "2021-04-04T23:25:32.538283Z",
     "shell.execute_reply": "2021-04-04T23:25:32.537687Z"
    },
    "papermill": {
     "duration": 0.059105,
     "end_time": "2021-04-04T23:25:32.538434",
     "exception": false,
     "start_time": "2021-04-04T23:25:32.479329",
     "status": "completed"
    },
    "tags": []
   },
   "outputs": [],
   "source": [
    "model.fit(X_train)"
   ]
  },
  {
   "cell_type": "markdown",
   "id": "f99999f7",
   "metadata": {
    "papermill": {
     "duration": 0.02417,
     "end_time": "2021-04-04T23:25:32.587223",
     "exception": false,
     "start_time": "2021-04-04T23:25:32.563053",
     "status": "completed"
    },
    "tags": []
   },
   "source": [
    "# Predict"
   ]
  },
  {
   "cell_type": "code",
   "execution_count": 24,
   "id": "6536fbf7",
   "metadata": {
    "execution": {
     "iopub.execute_input": "2021-04-04T23:25:32.669466Z",
     "iopub.status.busy": "2021-04-04T23:25:32.659191Z",
     "iopub.status.idle": "2021-04-04T23:25:32.972247Z",
     "shell.execute_reply": "2021-04-04T23:25:32.971723Z"
    },
    "papermill": {
     "duration": 0.360083,
     "end_time": "2021-04-04T23:25:32.972368",
     "exception": false,
     "start_time": "2021-04-04T23:25:32.612285",
     "status": "completed"
    },
    "tags": []
   },
   "outputs": [],
   "source": [
    "predictions = model.predict(X_test)"
   ]
  },
  {
   "cell_type": "markdown",
   "id": "aa1c9881",
   "metadata": {
    "papermill": {
     "duration": 0.026069,
     "end_time": "2021-04-04T23:25:33.022554",
     "exception": false,
     "start_time": "2021-04-04T23:25:32.996485",
     "status": "completed"
    },
    "tags": []
   },
   "source": [
    "# Evaluate"
   ]
  },
  {
   "cell_type": "code",
   "execution_count": 25,
   "id": "894f0f04",
   "metadata": {
    "execution": {
     "iopub.execute_input": "2021-04-04T23:25:33.080713Z",
     "iopub.status.busy": "2021-04-04T23:25:33.079659Z",
     "iopub.status.idle": "2021-04-04T23:25:33.083015Z",
     "shell.execute_reply": "2021-04-04T23:25:33.082303Z"
    },
    "papermill": {
     "duration": 0.035986,
     "end_time": "2021-04-04T23:25:33.083196",
     "exception": false,
     "start_time": "2021-04-04T23:25:33.047210",
     "status": "completed"
    },
    "tags": []
   },
   "outputs": [],
   "source": [
    "from sklearn.metrics import f1_score"
   ]
  },
  {
   "cell_type": "code",
   "execution_count": 26,
   "id": "211744d3",
   "metadata": {
    "execution": {
     "iopub.execute_input": "2021-04-04T23:25:33.138227Z",
     "iopub.status.busy": "2021-04-04T23:25:33.137349Z",
     "iopub.status.idle": "2021-04-04T23:25:33.139341Z",
     "shell.execute_reply": "2021-04-04T23:25:33.139818Z"
    },
    "papermill": {
     "duration": 0.030859,
     "end_time": "2021-04-04T23:25:33.139964",
     "exception": false,
     "start_time": "2021-04-04T23:25:33.109105",
     "status": "completed"
    },
    "tags": []
   },
   "outputs": [],
   "source": [
    "y_test = y_test.replace([0, 1], [1, -1])"
   ]
  },
  {
   "cell_type": "code",
   "execution_count": 27,
   "id": "d68a9204",
   "metadata": {
    "execution": {
     "iopub.execute_input": "2021-04-04T23:25:33.206949Z",
     "iopub.status.busy": "2021-04-04T23:25:33.205521Z",
     "iopub.status.idle": "2021-04-04T23:25:33.209387Z",
     "shell.execute_reply": "2021-04-04T23:25:33.209901Z"
    },
    "papermill": {
     "duration": 0.041794,
     "end_time": "2021-04-04T23:25:33.210058",
     "exception": false,
     "start_time": "2021-04-04T23:25:33.168264",
     "status": "completed"
    },
    "tags": []
   },
   "outputs": [],
   "source": [
    "def evaluate(truths, predictions, pos_label, neg_label):\n",
    "    TP = 0\n",
    "    FP = 0\n",
    "    TN = 0\n",
    "    FN = 0\n",
    "\n",
    "    for truth, pred in zip(truths, predictions): \n",
    "        if truth == pred == pos_label:\n",
    "           TP += 1\n",
    "        elif pred == pos_label and truth == neg_label:\n",
    "           FP += 1\n",
    "        elif truth == pred == neg_label:\n",
    "           TN += 1\n",
    "        elif pred == neg_label and truth == pos_label:\n",
    "           FN += 1\n",
    "\n",
    "    precision = TP / (TP + FP)\n",
    "    sensitivity = TP / (TP + FN)\n",
    "    \n",
    "    return {\n",
    "        'true_pos': TP,\n",
    "        'false_pos': FP,\n",
    "        'false_neg': FN,\n",
    "        'true_neg': TN,\n",
    "        'precision': precision,\n",
    "        'sensitivity': sensitivity,\n",
    "        'f1': (2 * (precision * sensitivity)) / (precision + sensitivity)\n",
    "    }\n",
    "\n",
    "score = evaluate(y_test, predictions, pos_label=-1, neg_label=1)"
   ]
  },
  {
   "cell_type": "markdown",
   "id": "93596516",
   "metadata": {
    "papermill": {
     "duration": 0.025765,
     "end_time": "2021-04-04T23:25:33.259705",
     "exception": false,
     "start_time": "2021-04-04T23:25:33.233940",
     "status": "completed"
    },
    "tags": []
   },
   "source": [
    "# Report"
   ]
  },
  {
   "cell_type": "code",
   "execution_count": 28,
   "id": "bea5fba1",
   "metadata": {
    "execution": {
     "iopub.execute_input": "2021-04-04T23:25:33.324736Z",
     "iopub.status.busy": "2021-04-04T23:25:33.322788Z",
     "iopub.status.idle": "2021-04-04T23:25:33.326405Z",
     "shell.execute_reply": "2021-04-04T23:25:33.326984Z"
    },
    "papermill": {
     "duration": 0.042847,
     "end_time": "2021-04-04T23:25:33.327146",
     "exception": false,
     "start_time": "2021-04-04T23:25:33.284299",
     "status": "completed"
    },
    "tags": []
   },
   "outputs": [],
   "source": [
    "import csv\n",
    "\n",
    "\n",
    "dataset_config_name = DATASET_CONFIG_PATH.split('/')[-1].split('.')[0]\n",
    "model_config_name = MODEL_CONFIG_PATH.split('/')[-1].split('.')[0]\n",
    "configuration = f\"dataset_{dataset_config_name}-model_{model_config_name}\"\n",
    "\n",
    "with open('results.csv', 'a') as f:\n",
    "    report = dict({'configuration': configuration}, **score)\n",
    "    writer = csv.DictWriter(f, report.keys())\n",
    "    writer.writerow(report)"
   ]
  }
 ],
 "metadata": {
  "celltoolbar": "Tags",
  "kernelspec": {
   "display_name": "Python 3",
   "language": "python",
   "name": "python3"
  },
  "language_info": {
   "codemirror_mode": {
    "name": "ipython",
    "version": 3
   },
   "file_extension": ".py",
   "mimetype": "text/x-python",
   "name": "python",
   "nbconvert_exporter": "python",
   "pygments_lexer": "ipython3",
   "version": "3.9.1"
  },
  "papermill": {
   "default_parameters": {},
   "duration": 6.689929,
   "end_time": "2021-04-04T23:25:34.074597",
   "environment_variables": {},
   "exception": null,
   "input_path": "main.ipynb",
   "output_path": "runs/dataset_000131-model_000003.ipynb",
   "parameters": {
    "DATASET_CONFIG_PATH": "config/dataset/000131.json",
    "MODEL_CONFIG_PATH": "config/model/000003.json",
    "PROFILE_REPORTING": false
   },
   "start_time": "2021-04-04T23:25:27.384668",
   "version": "2.3.3"
  }
 },
 "nbformat": 4,
 "nbformat_minor": 5
}