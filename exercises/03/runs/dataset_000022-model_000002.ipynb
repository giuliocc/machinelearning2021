{
 "cells": [
  {
   "cell_type": "markdown",
   "id": "51c71c25",
   "metadata": {
    "papermill": {
     "duration": 0.023738,
     "end_time": "2021-04-04T22:32:45.230671",
     "exception": false,
     "start_time": "2021-04-04T22:32:45.206933",
     "status": "completed"
    },
    "tags": []
   },
   "source": [
    "# Parametrizing"
   ]
  },
  {
   "cell_type": "code",
   "execution_count": 1,
   "id": "3b136394",
   "metadata": {
    "execution": {
     "iopub.execute_input": "2021-04-04T22:32:45.284315Z",
     "iopub.status.busy": "2021-04-04T22:32:45.283722Z",
     "iopub.status.idle": "2021-04-04T22:32:45.285731Z",
     "shell.execute_reply": "2021-04-04T22:32:45.286210Z"
    },
    "papermill": {
     "duration": 0.035388,
     "end_time": "2021-04-04T22:32:45.286418",
     "exception": false,
     "start_time": "2021-04-04T22:32:45.251030",
     "status": "completed"
    },
    "tags": [
     "parameters"
    ]
   },
   "outputs": [],
   "source": [
    "DATASET_CONFIG_PATH = 'config/dataset/kc1_001.json'\n",
    "MODEL_CONFIG_PATH = 'config/model/knndd_001.json'\n",
    "PROFILE_REPORTING = False"
   ]
  },
  {
   "cell_type": "code",
   "execution_count": 2,
   "id": "5ba05403",
   "metadata": {
    "execution": {
     "iopub.execute_input": "2021-04-04T22:32:45.332363Z",
     "iopub.status.busy": "2021-04-04T22:32:45.331779Z",
     "iopub.status.idle": "2021-04-04T22:32:45.334206Z",
     "shell.execute_reply": "2021-04-04T22:32:45.333704Z"
    },
    "papermill": {
     "duration": 0.028261,
     "end_time": "2021-04-04T22:32:45.334326",
     "exception": false,
     "start_time": "2021-04-04T22:32:45.306065",
     "status": "completed"
    },
    "tags": [
     "injected-parameters"
    ]
   },
   "outputs": [],
   "source": [
    "# Parameters\n",
    "DATASET_CONFIG_PATH = \"config/dataset/000022.json\"\n",
    "MODEL_CONFIG_PATH = \"config/model/000002.json\"\n",
    "PROFILE_REPORTING = False\n"
   ]
  },
  {
   "cell_type": "code",
   "execution_count": 3,
   "id": "b80f2a10",
   "metadata": {
    "execution": {
     "iopub.execute_input": "2021-04-04T22:32:45.396096Z",
     "iopub.status.busy": "2021-04-04T22:32:45.395272Z",
     "iopub.status.idle": "2021-04-04T22:32:45.398845Z",
     "shell.execute_reply": "2021-04-04T22:32:45.398251Z"
    },
    "papermill": {
     "duration": 0.037903,
     "end_time": "2021-04-04T22:32:45.398981",
     "exception": false,
     "start_time": "2021-04-04T22:32:45.361078",
     "status": "completed"
    },
    "tags": []
   },
   "outputs": [],
   "source": [
    "import json\n",
    "\n",
    "\n",
    "with open(DATASET_CONFIG_PATH) as f:\n",
    "    dataset_config = json.load(f)\n",
    "\n",
    "with open(MODEL_CONFIG_PATH) as f:\n",
    "    model_config = json.load(f)"
   ]
  },
  {
   "cell_type": "markdown",
   "id": "9a4b0e2d",
   "metadata": {
    "papermill": {
     "duration": 0.022608,
     "end_time": "2021-04-04T22:32:45.446180",
     "exception": false,
     "start_time": "2021-04-04T22:32:45.423572",
     "status": "completed"
    },
    "tags": []
   },
   "source": [
    "# Profiling"
   ]
  },
  {
   "cell_type": "code",
   "execution_count": 4,
   "id": "a3e0289b",
   "metadata": {
    "execution": {
     "iopub.execute_input": "2021-04-04T22:32:45.495811Z",
     "iopub.status.busy": "2021-04-04T22:32:45.494534Z",
     "iopub.status.idle": "2021-04-04T22:32:47.382832Z",
     "shell.execute_reply": "2021-04-04T22:32:47.381206Z"
    },
    "papermill": {
     "duration": 1.916725,
     "end_time": "2021-04-04T22:32:47.383153",
     "exception": false,
     "start_time": "2021-04-04T22:32:45.466428",
     "status": "completed"
    },
    "tags": []
   },
   "outputs": [],
   "source": [
    "import pandas as pd\n",
    "from pandas_profiling import ProfileReport"
   ]
  },
  {
   "cell_type": "code",
   "execution_count": 5,
   "id": "ee6c0666",
   "metadata": {
    "execution": {
     "iopub.execute_input": "2021-04-04T22:32:47.451771Z",
     "iopub.status.busy": "2021-04-04T22:32:47.450119Z",
     "iopub.status.idle": "2021-04-04T22:32:47.475474Z",
     "shell.execute_reply": "2021-04-04T22:32:47.476093Z"
    },
    "papermill": {
     "duration": 0.065757,
     "end_time": "2021-04-04T22:32:47.476301",
     "exception": false,
     "start_time": "2021-04-04T22:32:47.410544",
     "status": "completed"
    },
    "tags": []
   },
   "outputs": [],
   "source": [
    "df = pd.read_csv(dataset_config['dataset_path'])"
   ]
  },
  {
   "cell_type": "code",
   "execution_count": 6,
   "id": "7eca6c4a",
   "metadata": {
    "execution": {
     "iopub.execute_input": "2021-04-04T22:32:47.563346Z",
     "iopub.status.busy": "2021-04-04T22:32:47.551237Z",
     "iopub.status.idle": "2021-04-04T22:32:47.570807Z",
     "shell.execute_reply": "2021-04-04T22:32:47.572502Z"
    },
    "papermill": {
     "duration": 0.062184,
     "end_time": "2021-04-04T22:32:47.572906",
     "exception": false,
     "start_time": "2021-04-04T22:32:47.510722",
     "status": "completed"
    },
    "tags": []
   },
   "outputs": [
    {
     "name": "stdout",
     "output_type": "stream",
     "text": [
      "<class 'pandas.core.frame.DataFrame'>\n",
      "RangeIndex: 2109 entries, 0 to 2108\n",
      "Data columns (total 23 columns):\n",
      " #   Column             Non-Null Count  Dtype  \n",
      "---  ------             --------------  -----  \n",
      " 0   id                 2109 non-null   int64  \n",
      " 1   loc                2109 non-null   float64\n",
      " 2   v(g)               2109 non-null   float64\n",
      " 3   ev(g)              2109 non-null   float64\n",
      " 4   iv(g)              2109 non-null   float64\n",
      " 5   n                  2109 non-null   float64\n",
      " 6   v                  2109 non-null   float64\n",
      " 7   l                  2109 non-null   float64\n",
      " 8   d                  2109 non-null   float64\n",
      " 9   i                  2109 non-null   float64\n",
      " 10  e                  2109 non-null   float64\n",
      " 11  b                  2109 non-null   float64\n",
      " 12  t                  2109 non-null   float64\n",
      " 13  lOCode             2109 non-null   int64  \n",
      " 14  lOComment          2109 non-null   int64  \n",
      " 15  lOBlank            2109 non-null   int64  \n",
      " 16  locCodeAndComment  2109 non-null   int64  \n",
      " 17  uniq_Op            2109 non-null   float64\n",
      " 18  uniq_Opnd          2109 non-null   float64\n",
      " 19  total_Op           2109 non-null   float64\n",
      " 20  total_Opnd         2109 non-null   float64\n",
      " 21  branchCount        2109 non-null   float64\n",
      " 22  defects            2109 non-null   bool   \n",
      "dtypes: bool(1), float64(17), int64(5)\n",
      "memory usage: 364.7 KB\n"
     ]
    }
   ],
   "source": [
    "df.info()"
   ]
  },
  {
   "cell_type": "code",
   "execution_count": 7,
   "id": "3638e5e8",
   "metadata": {
    "execution": {
     "iopub.execute_input": "2021-04-04T22:32:47.645894Z",
     "iopub.status.busy": "2021-04-04T22:32:47.645126Z",
     "iopub.status.idle": "2021-04-04T22:32:47.699000Z",
     "shell.execute_reply": "2021-04-04T22:32:47.697456Z"
    },
    "papermill": {
     "duration": 0.09631,
     "end_time": "2021-04-04T22:32:47.699185",
     "exception": false,
     "start_time": "2021-04-04T22:32:47.602875",
     "status": "completed"
    },
    "tags": []
   },
   "outputs": [
    {
     "data": {
      "text/html": [
       "<div>\n",
       "<style scoped>\n",
       "    .dataframe tbody tr th:only-of-type {\n",
       "        vertical-align: middle;\n",
       "    }\n",
       "\n",
       "    .dataframe tbody tr th {\n",
       "        vertical-align: top;\n",
       "    }\n",
       "\n",
       "    .dataframe thead th {\n",
       "        text-align: right;\n",
       "    }\n",
       "</style>\n",
       "<table border=\"1\" class=\"dataframe\">\n",
       "  <thead>\n",
       "    <tr style=\"text-align: right;\">\n",
       "      <th></th>\n",
       "      <th>id</th>\n",
       "      <th>loc</th>\n",
       "      <th>v(g)</th>\n",
       "      <th>ev(g)</th>\n",
       "      <th>iv(g)</th>\n",
       "      <th>n</th>\n",
       "      <th>v</th>\n",
       "      <th>l</th>\n",
       "      <th>d</th>\n",
       "      <th>i</th>\n",
       "      <th>...</th>\n",
       "      <th>lOCode</th>\n",
       "      <th>lOComment</th>\n",
       "      <th>lOBlank</th>\n",
       "      <th>locCodeAndComment</th>\n",
       "      <th>uniq_Op</th>\n",
       "      <th>uniq_Opnd</th>\n",
       "      <th>total_Op</th>\n",
       "      <th>total_Opnd</th>\n",
       "      <th>branchCount</th>\n",
       "      <th>defects</th>\n",
       "    </tr>\n",
       "  </thead>\n",
       "  <tbody>\n",
       "    <tr>\n",
       "      <th>0</th>\n",
       "      <td>1</td>\n",
       "      <td>1.1</td>\n",
       "      <td>1.4</td>\n",
       "      <td>1.4</td>\n",
       "      <td>1.4</td>\n",
       "      <td>1.3</td>\n",
       "      <td>1.30</td>\n",
       "      <td>1.30</td>\n",
       "      <td>1.30</td>\n",
       "      <td>1.30</td>\n",
       "      <td>...</td>\n",
       "      <td>2</td>\n",
       "      <td>2</td>\n",
       "      <td>2</td>\n",
       "      <td>2</td>\n",
       "      <td>1.2</td>\n",
       "      <td>1.2</td>\n",
       "      <td>1.2</td>\n",
       "      <td>1.2</td>\n",
       "      <td>1.4</td>\n",
       "      <td>False</td>\n",
       "    </tr>\n",
       "    <tr>\n",
       "      <th>1</th>\n",
       "      <td>2</td>\n",
       "      <td>1.0</td>\n",
       "      <td>1.0</td>\n",
       "      <td>1.0</td>\n",
       "      <td>1.0</td>\n",
       "      <td>1.0</td>\n",
       "      <td>1.00</td>\n",
       "      <td>1.00</td>\n",
       "      <td>1.00</td>\n",
       "      <td>1.00</td>\n",
       "      <td>...</td>\n",
       "      <td>1</td>\n",
       "      <td>1</td>\n",
       "      <td>1</td>\n",
       "      <td>1</td>\n",
       "      <td>1.0</td>\n",
       "      <td>1.0</td>\n",
       "      <td>1.0</td>\n",
       "      <td>1.0</td>\n",
       "      <td>1.0</td>\n",
       "      <td>True</td>\n",
       "    </tr>\n",
       "    <tr>\n",
       "      <th>2</th>\n",
       "      <td>3</td>\n",
       "      <td>83.0</td>\n",
       "      <td>11.0</td>\n",
       "      <td>1.0</td>\n",
       "      <td>11.0</td>\n",
       "      <td>171.0</td>\n",
       "      <td>927.89</td>\n",
       "      <td>0.04</td>\n",
       "      <td>23.04</td>\n",
       "      <td>40.27</td>\n",
       "      <td>...</td>\n",
       "      <td>65</td>\n",
       "      <td>10</td>\n",
       "      <td>6</td>\n",
       "      <td>0</td>\n",
       "      <td>18.0</td>\n",
       "      <td>25.0</td>\n",
       "      <td>107.0</td>\n",
       "      <td>64.0</td>\n",
       "      <td>21.0</td>\n",
       "      <td>True</td>\n",
       "    </tr>\n",
       "    <tr>\n",
       "      <th>3</th>\n",
       "      <td>4</td>\n",
       "      <td>46.0</td>\n",
       "      <td>8.0</td>\n",
       "      <td>6.0</td>\n",
       "      <td>8.0</td>\n",
       "      <td>141.0</td>\n",
       "      <td>769.78</td>\n",
       "      <td>0.07</td>\n",
       "      <td>14.86</td>\n",
       "      <td>51.81</td>\n",
       "      <td>...</td>\n",
       "      <td>37</td>\n",
       "      <td>2</td>\n",
       "      <td>5</td>\n",
       "      <td>0</td>\n",
       "      <td>16.0</td>\n",
       "      <td>28.0</td>\n",
       "      <td>89.0</td>\n",
       "      <td>52.0</td>\n",
       "      <td>15.0</td>\n",
       "      <td>True</td>\n",
       "    </tr>\n",
       "    <tr>\n",
       "      <th>4</th>\n",
       "      <td>5</td>\n",
       "      <td>25.0</td>\n",
       "      <td>3.0</td>\n",
       "      <td>1.0</td>\n",
       "      <td>3.0</td>\n",
       "      <td>58.0</td>\n",
       "      <td>254.75</td>\n",
       "      <td>0.11</td>\n",
       "      <td>9.35</td>\n",
       "      <td>27.25</td>\n",
       "      <td>...</td>\n",
       "      <td>21</td>\n",
       "      <td>0</td>\n",
       "      <td>2</td>\n",
       "      <td>0</td>\n",
       "      <td>11.0</td>\n",
       "      <td>10.0</td>\n",
       "      <td>41.0</td>\n",
       "      <td>17.0</td>\n",
       "      <td>5.0</td>\n",
       "      <td>True</td>\n",
       "    </tr>\n",
       "  </tbody>\n",
       "</table>\n",
       "<p>5 rows × 23 columns</p>\n",
       "</div>"
      ],
      "text/plain": [
       "   id   loc  v(g)  ev(g)  iv(g)      n       v     l      d      i  ...  \\\n",
       "0   1   1.1   1.4    1.4    1.4    1.3    1.30  1.30   1.30   1.30  ...   \n",
       "1   2   1.0   1.0    1.0    1.0    1.0    1.00  1.00   1.00   1.00  ...   \n",
       "2   3  83.0  11.0    1.0   11.0  171.0  927.89  0.04  23.04  40.27  ...   \n",
       "3   4  46.0   8.0    6.0    8.0  141.0  769.78  0.07  14.86  51.81  ...   \n",
       "4   5  25.0   3.0    1.0    3.0   58.0  254.75  0.11   9.35  27.25  ...   \n",
       "\n",
       "   lOCode  lOComment  lOBlank  locCodeAndComment  uniq_Op  uniq_Opnd  \\\n",
       "0       2          2        2                  2      1.2        1.2   \n",
       "1       1          1        1                  1      1.0        1.0   \n",
       "2      65         10        6                  0     18.0       25.0   \n",
       "3      37          2        5                  0     16.0       28.0   \n",
       "4      21          0        2                  0     11.0       10.0   \n",
       "\n",
       "   total_Op  total_Opnd  branchCount  defects  \n",
       "0       1.2         1.2          1.4    False  \n",
       "1       1.0         1.0          1.0     True  \n",
       "2     107.0        64.0         21.0     True  \n",
       "3      89.0        52.0         15.0     True  \n",
       "4      41.0        17.0          5.0     True  \n",
       "\n",
       "[5 rows x 23 columns]"
      ]
     },
     "execution_count": 7,
     "metadata": {},
     "output_type": "execute_result"
    }
   ],
   "source": [
    "df.head()"
   ]
  },
  {
   "cell_type": "code",
   "execution_count": 8,
   "id": "733e95eb",
   "metadata": {
    "execution": {
     "iopub.execute_input": "2021-04-04T22:32:47.775467Z",
     "iopub.status.busy": "2021-04-04T22:32:47.774620Z",
     "iopub.status.idle": "2021-04-04T22:32:47.777429Z",
     "shell.execute_reply": "2021-04-04T22:32:47.778581Z"
    },
    "papermill": {
     "duration": 0.050183,
     "end_time": "2021-04-04T22:32:47.778996",
     "exception": false,
     "start_time": "2021-04-04T22:32:47.728813",
     "status": "completed"
    },
    "tags": []
   },
   "outputs": [],
   "source": [
    "del df['id']"
   ]
  },
  {
   "cell_type": "code",
   "execution_count": 9,
   "id": "6ff6f5b0",
   "metadata": {
    "execution": {
     "iopub.execute_input": "2021-04-04T22:32:47.854365Z",
     "iopub.status.busy": "2021-04-04T22:32:47.851406Z",
     "iopub.status.idle": "2021-04-04T22:32:47.857434Z",
     "shell.execute_reply": "2021-04-04T22:32:47.856680Z"
    },
    "papermill": {
     "duration": 0.050033,
     "end_time": "2021-04-04T22:32:47.857605",
     "exception": false,
     "start_time": "2021-04-04T22:32:47.807572",
     "status": "completed"
    },
    "tags": []
   },
   "outputs": [],
   "source": [
    "if PROFILE_REPORTING:\n",
    "    ProfileReport(df).to_widgets()"
   ]
  },
  {
   "cell_type": "markdown",
   "id": "1deaf3f0",
   "metadata": {
    "papermill": {
     "duration": 0.037281,
     "end_time": "2021-04-04T22:32:47.927794",
     "exception": false,
     "start_time": "2021-04-04T22:32:47.890513",
     "status": "completed"
    },
    "tags": []
   },
   "source": [
    "# Preprocess"
   ]
  },
  {
   "cell_type": "code",
   "execution_count": 10,
   "id": "1513e563",
   "metadata": {
    "execution": {
     "iopub.execute_input": "2021-04-04T22:32:48.031947Z",
     "iopub.status.busy": "2021-04-04T22:32:48.030698Z",
     "iopub.status.idle": "2021-04-04T22:32:48.033543Z",
     "shell.execute_reply": "2021-04-04T22:32:48.034979Z"
    },
    "papermill": {
     "duration": 0.049116,
     "end_time": "2021-04-04T22:32:48.035382",
     "exception": false,
     "start_time": "2021-04-04T22:32:47.986266",
     "status": "completed"
    },
    "tags": []
   },
   "outputs": [],
   "source": [
    "working_df = df.copy()"
   ]
  },
  {
   "cell_type": "code",
   "execution_count": 11,
   "id": "3b26d675",
   "metadata": {
    "execution": {
     "iopub.execute_input": "2021-04-04T22:32:48.125032Z",
     "iopub.status.busy": "2021-04-04T22:32:48.122679Z",
     "iopub.status.idle": "2021-04-04T22:32:48.129090Z",
     "shell.execute_reply": "2021-04-04T22:32:48.130382Z"
    },
    "papermill": {
     "duration": 0.057988,
     "end_time": "2021-04-04T22:32:48.130651",
     "exception": false,
     "start_time": "2021-04-04T22:32:48.072663",
     "status": "completed"
    },
    "tags": []
   },
   "outputs": [],
   "source": [
    "working_df['defects'] = working_df['defects'].replace([False, True], [0, 1])"
   ]
  },
  {
   "cell_type": "code",
   "execution_count": 12,
   "id": "eb48604f",
   "metadata": {
    "execution": {
     "iopub.execute_input": "2021-04-04T22:32:48.240332Z",
     "iopub.status.busy": "2021-04-04T22:32:48.233396Z",
     "iopub.status.idle": "2021-04-04T22:32:48.241430Z",
     "shell.execute_reply": "2021-04-04T22:32:48.242230Z"
    },
    "papermill": {
     "duration": 0.063106,
     "end_time": "2021-04-04T22:32:48.242475",
     "exception": false,
     "start_time": "2021-04-04T22:32:48.179369",
     "status": "completed"
    },
    "tags": []
   },
   "outputs": [],
   "source": [
    "for col in dataset_config['delete_columns']:\n",
    "    del working_df[col]"
   ]
  },
  {
   "cell_type": "code",
   "execution_count": 13,
   "id": "9a17bc29",
   "metadata": {
    "execution": {
     "iopub.execute_input": "2021-04-04T22:32:48.364615Z",
     "iopub.status.busy": "2021-04-04T22:32:48.362654Z",
     "iopub.status.idle": "2021-04-04T22:32:48.379281Z",
     "shell.execute_reply": "2021-04-04T22:32:48.381377Z"
    },
    "papermill": {
     "duration": 0.074558,
     "end_time": "2021-04-04T22:32:48.382055",
     "exception": false,
     "start_time": "2021-04-04T22:32:48.307497",
     "status": "completed"
    },
    "tags": []
   },
   "outputs": [],
   "source": [
    "working_df = working_df.drop_duplicates()"
   ]
  },
  {
   "cell_type": "markdown",
   "id": "a4d52ca6",
   "metadata": {
    "papermill": {
     "duration": 0.058318,
     "end_time": "2021-04-04T22:32:48.492530",
     "exception": false,
     "start_time": "2021-04-04T22:32:48.434212",
     "status": "completed"
    },
    "tags": []
   },
   "source": [
    "# Split"
   ]
  },
  {
   "cell_type": "code",
   "execution_count": 14,
   "id": "3e9ee4b5",
   "metadata": {
    "execution": {
     "iopub.execute_input": "2021-04-04T22:32:48.590995Z",
     "iopub.status.busy": "2021-04-04T22:32:48.589140Z",
     "iopub.status.idle": "2021-04-04T22:32:48.647620Z",
     "shell.execute_reply": "2021-04-04T22:32:48.646656Z"
    },
    "papermill": {
     "duration": 0.094233,
     "end_time": "2021-04-04T22:32:48.647773",
     "exception": false,
     "start_time": "2021-04-04T22:32:48.553540",
     "status": "completed"
    },
    "tags": []
   },
   "outputs": [],
   "source": [
    "from sklearn.model_selection import train_test_split"
   ]
  },
  {
   "cell_type": "code",
   "execution_count": 15,
   "id": "274004ce",
   "metadata": {
    "execution": {
     "iopub.execute_input": "2021-04-04T22:32:48.751581Z",
     "iopub.status.busy": "2021-04-04T22:32:48.750487Z",
     "iopub.status.idle": "2021-04-04T22:32:48.762936Z",
     "shell.execute_reply": "2021-04-04T22:32:48.761306Z"
    },
    "papermill": {
     "duration": 0.065663,
     "end_time": "2021-04-04T22:32:48.763259",
     "exception": false,
     "start_time": "2021-04-04T22:32:48.697596",
     "status": "completed"
    },
    "scrolled": true,
    "tags": []
   },
   "outputs": [],
   "source": [
    "inlier, outlier = working_df[working_df['defects'] == 0], working_df[working_df['defects'] == 1]"
   ]
  },
  {
   "cell_type": "code",
   "execution_count": 16,
   "id": "753c7b03",
   "metadata": {
    "execution": {
     "iopub.execute_input": "2021-04-04T22:32:48.848438Z",
     "iopub.status.busy": "2021-04-04T22:32:48.847214Z",
     "iopub.status.idle": "2021-04-04T22:32:48.853331Z",
     "shell.execute_reply": "2021-04-04T22:32:48.851703Z"
    },
    "papermill": {
     "duration": 0.053958,
     "end_time": "2021-04-04T22:32:48.853611",
     "exception": false,
     "start_time": "2021-04-04T22:32:48.799653",
     "status": "completed"
    },
    "tags": []
   },
   "outputs": [],
   "source": [
    "X_inlier = inlier.copy()\n",
    "y_inlier = X_inlier.pop('defects')\n",
    "X_outlier = outlier.copy()\n",
    "y_outlier = X_outlier.pop('defects')"
   ]
  },
  {
   "cell_type": "code",
   "execution_count": 17,
   "id": "2ba43193",
   "metadata": {
    "execution": {
     "iopub.execute_input": "2021-04-04T22:32:48.944352Z",
     "iopub.status.busy": "2021-04-04T22:32:48.942327Z",
     "iopub.status.idle": "2021-04-04T22:32:48.947724Z",
     "shell.execute_reply": "2021-04-04T22:32:48.948717Z"
    },
    "papermill": {
     "duration": 0.056088,
     "end_time": "2021-04-04T22:32:48.949177",
     "exception": false,
     "start_time": "2021-04-04T22:32:48.893089",
     "status": "completed"
    },
    "tags": []
   },
   "outputs": [],
   "source": [
    "test_size = dataset_config['test_size']\n",
    "random_state = dataset_config['random_state']\n",
    "\n",
    "X_inlier_train, X_inlier_test, y_inlier_train, y_inlier_test = train_test_split(\n",
    "    X_inlier,\n",
    "    y_inlier,\n",
    "    test_size=test_size,\n",
    "    random_state=random_state\n",
    ")"
   ]
  },
  {
   "cell_type": "code",
   "execution_count": 18,
   "id": "0b7582ca",
   "metadata": {
    "execution": {
     "iopub.execute_input": "2021-04-04T22:32:49.032979Z",
     "iopub.status.busy": "2021-04-04T22:32:49.031896Z",
     "iopub.status.idle": "2021-04-04T22:32:49.038246Z",
     "shell.execute_reply": "2021-04-04T22:32:49.038817Z"
    },
    "papermill": {
     "duration": 0.051971,
     "end_time": "2021-04-04T22:32:49.039034",
     "exception": false,
     "start_time": "2021-04-04T22:32:48.987063",
     "status": "completed"
    },
    "tags": []
   },
   "outputs": [],
   "source": [
    "test_outlier_size = dataset_config['test_outlier_size']\n",
    "if test_outlier_size > 0.0:\n",
    "    X_outlier_train, X_outlier_test, y_outlier_train, y_outlier_test = train_test_split(\n",
    "        X_outlier,\n",
    "        y_outlier,\n",
    "        test_size=test_outlier_size,\n",
    "        random_state=random_state\n",
    "    )\n",
    "else:\n",
    "    X_outlier_train, y_outlier_train = pd.DataFrame(columns=X_outlier.columns), pd.Series(dtype='int64')\n",
    "    X_outlier_test, y_outlier_test = X_outlier.copy(), y_outlier.copy()"
   ]
  },
  {
   "cell_type": "code",
   "execution_count": 19,
   "id": "c34363db",
   "metadata": {
    "execution": {
     "iopub.execute_input": "2021-04-04T22:32:49.117475Z",
     "iopub.status.busy": "2021-04-04T22:32:49.115872Z",
     "iopub.status.idle": "2021-04-04T22:32:49.127927Z",
     "shell.execute_reply": "2021-04-04T22:32:49.129460Z"
    },
    "papermill": {
     "duration": 0.061314,
     "end_time": "2021-04-04T22:32:49.130043",
     "exception": false,
     "start_time": "2021-04-04T22:32:49.068729",
     "status": "completed"
    },
    "tags": []
   },
   "outputs": [],
   "source": [
    "X_train, y_train = pd.concat([X_inlier_train, X_outlier_train], ignore_index=True), pd.concat([y_inlier_train, y_outlier_train], ignore_index=True)\n",
    "X_test, y_test = pd.concat([X_inlier_test, X_outlier_test], ignore_index=True), pd.concat([y_inlier_test, y_outlier_test], ignore_index=True)"
   ]
  },
  {
   "cell_type": "markdown",
   "id": "7cde7309",
   "metadata": {
    "papermill": {
     "duration": 0.033582,
     "end_time": "2021-04-04T22:32:49.203888",
     "exception": false,
     "start_time": "2021-04-04T22:32:49.170306",
     "status": "completed"
    },
    "tags": []
   },
   "source": [
    "# Model"
   ]
  },
  {
   "cell_type": "code",
   "execution_count": 20,
   "id": "2b12a415",
   "metadata": {
    "execution": {
     "iopub.execute_input": "2021-04-04T22:32:49.293424Z",
     "iopub.status.busy": "2021-04-04T22:32:49.291795Z",
     "iopub.status.idle": "2021-04-04T22:32:49.295987Z",
     "shell.execute_reply": "2021-04-04T22:32:49.296615Z"
    },
    "papermill": {
     "duration": 0.062255,
     "end_time": "2021-04-04T22:32:49.296896",
     "exception": false,
     "start_time": "2021-04-04T22:32:49.234641",
     "status": "completed"
    },
    "tags": []
   },
   "outputs": [],
   "source": [
    "from math import sqrt\n",
    "\n",
    "\n",
    "class KNNDataDescription:\n",
    "    def __init__(self, k=5, outlier_threshold=1.0):\n",
    "        self.k = k\n",
    "        self.outlier_threshold = outlier_threshold\n",
    "        self.X = []\n",
    "    \n",
    "    def fit(self, X):\n",
    "        self.X = [features.to_list() for index, features in X.iterrows()]\n",
    "\n",
    "    def predict(self, entries):\n",
    "        return [self.predict_entry(features.to_list()) for index, features in entries.iterrows()]\n",
    "    \n",
    "    def predict_entry(self, entry):\n",
    "        kth_neighbor, kth_distance = self.get_kth_neighbor(entry, self.k)\n",
    "        kth_kth_neighbor, kth_kth_distance = self.get_kth_neighbor(kth_neighbor, self.k + 1)\n",
    "\n",
    "        outlier_score = kth_distance / (kth_kth_distance + 0.000001)\n",
    "\n",
    "        return 1 if outlier_score < self.outlier_threshold else -1\n",
    "        \n",
    "    def euclidean_distance(self, features1, features2):\n",
    "        distance = 0.0\n",
    "        for feat1, feat2 in zip(features1, features2):\n",
    "            distance += (feat1 - feat2)**2\n",
    "                \n",
    "        return sqrt(distance)\n",
    "\n",
    "    def get_neighbors(self, entry, k):\n",
    "        distance_to_data_points = [\n",
    "            (data_point, self.euclidean_distance(entry, data_point))\n",
    "            for data_point in self.X\n",
    "        ]\n",
    "        sorted_by_distance = sorted(distance_to_data_points, key=lambda tup: tup[1])\n",
    "        neighbors = sorted_by_distance[:k]\n",
    "        return neighbors\n",
    "\n",
    "    def get_kth_neighbor(self, entry, k):\n",
    "        neighbors = self.get_neighbors(entry, k)\n",
    "        return neighbors[-1]\n"
   ]
  },
  {
   "cell_type": "code",
   "execution_count": 21,
   "id": "1fa9ec1c",
   "metadata": {
    "execution": {
     "iopub.execute_input": "2021-04-04T22:32:49.379868Z",
     "iopub.status.busy": "2021-04-04T22:32:49.377597Z",
     "iopub.status.idle": "2021-04-04T22:32:49.414222Z",
     "shell.execute_reply": "2021-04-04T22:32:49.413517Z"
    },
    "papermill": {
     "duration": 0.082084,
     "end_time": "2021-04-04T22:32:49.414377",
     "exception": false,
     "start_time": "2021-04-04T22:32:49.332293",
     "status": "completed"
    },
    "tags": []
   },
   "outputs": [],
   "source": [
    "from sklearn.svm import OneClassSVM\n",
    "\n",
    "\n",
    "models = {\n",
    "    'oneclasssvm': OneClassSVM,\n",
    "    'knndatadescription': KNNDataDescription,\n",
    "}"
   ]
  },
  {
   "cell_type": "code",
   "execution_count": 22,
   "id": "4d72a0b1",
   "metadata": {
    "execution": {
     "iopub.execute_input": "2021-04-04T22:32:49.490294Z",
     "iopub.status.busy": "2021-04-04T22:32:49.487778Z",
     "iopub.status.idle": "2021-04-04T22:32:49.493445Z",
     "shell.execute_reply": "2021-04-04T22:32:49.495093Z"
    },
    "papermill": {
     "duration": 0.047577,
     "end_time": "2021-04-04T22:32:49.496892",
     "exception": false,
     "start_time": "2021-04-04T22:32:49.449315",
     "status": "completed"
    },
    "scrolled": true,
    "tags": []
   },
   "outputs": [],
   "source": [
    "model_cls = models[model_config['model_type']]\n",
    "model = model_cls(**model_config['hyperparameters'])"
   ]
  },
  {
   "cell_type": "markdown",
   "id": "e00cff3b",
   "metadata": {
    "papermill": {
     "duration": 0.032344,
     "end_time": "2021-04-04T22:32:49.568518",
     "exception": false,
     "start_time": "2021-04-04T22:32:49.536174",
     "status": "completed"
    },
    "tags": []
   },
   "source": [
    "# Fit"
   ]
  },
  {
   "cell_type": "code",
   "execution_count": 23,
   "id": "8b2ded89",
   "metadata": {
    "execution": {
     "iopub.execute_input": "2021-04-04T22:32:49.631395Z",
     "iopub.status.busy": "2021-04-04T22:32:49.630288Z",
     "iopub.status.idle": "2021-04-04T22:32:49.680005Z",
     "shell.execute_reply": "2021-04-04T22:32:49.680492Z"
    },
    "papermill": {
     "duration": 0.0821,
     "end_time": "2021-04-04T22:32:49.680671",
     "exception": false,
     "start_time": "2021-04-04T22:32:49.598571",
     "status": "completed"
    },
    "tags": []
   },
   "outputs": [],
   "source": [
    "model.fit(X_train)"
   ]
  },
  {
   "cell_type": "markdown",
   "id": "f99999f7",
   "metadata": {
    "papermill": {
     "duration": 0.03057,
     "end_time": "2021-04-04T22:32:49.737066",
     "exception": false,
     "start_time": "2021-04-04T22:32:49.706496",
     "status": "completed"
    },
    "tags": []
   },
   "source": [
    "# Predict"
   ]
  },
  {
   "cell_type": "code",
   "execution_count": 24,
   "id": "6536fbf7",
   "metadata": {
    "execution": {
     "iopub.execute_input": "2021-04-04T22:32:49.797392Z",
     "iopub.status.busy": "2021-04-04T22:32:49.796453Z",
     "iopub.status.idle": "2021-04-04T22:32:54.520575Z",
     "shell.execute_reply": "2021-04-04T22:32:54.521103Z"
    },
    "papermill": {
     "duration": 4.752024,
     "end_time": "2021-04-04T22:32:54.521266",
     "exception": false,
     "start_time": "2021-04-04T22:32:49.769242",
     "status": "completed"
    },
    "tags": []
   },
   "outputs": [],
   "source": [
    "predictions = model.predict(X_test)"
   ]
  },
  {
   "cell_type": "markdown",
   "id": "aa1c9881",
   "metadata": {
    "papermill": {
     "duration": 0.033622,
     "end_time": "2021-04-04T22:32:54.579489",
     "exception": false,
     "start_time": "2021-04-04T22:32:54.545867",
     "status": "completed"
    },
    "tags": []
   },
   "source": [
    "# Evaluate"
   ]
  },
  {
   "cell_type": "code",
   "execution_count": 25,
   "id": "894f0f04",
   "metadata": {
    "execution": {
     "iopub.execute_input": "2021-04-04T22:32:54.661188Z",
     "iopub.status.busy": "2021-04-04T22:32:54.659769Z",
     "iopub.status.idle": "2021-04-04T22:32:54.666617Z",
     "shell.execute_reply": "2021-04-04T22:32:54.665442Z"
    },
    "papermill": {
     "duration": 0.049625,
     "end_time": "2021-04-04T22:32:54.667061",
     "exception": false,
     "start_time": "2021-04-04T22:32:54.617436",
     "status": "completed"
    },
    "tags": []
   },
   "outputs": [],
   "source": [
    "from sklearn.metrics import f1_score"
   ]
  },
  {
   "cell_type": "code",
   "execution_count": 26,
   "id": "211744d3",
   "metadata": {
    "execution": {
     "iopub.execute_input": "2021-04-04T22:32:54.756385Z",
     "iopub.status.busy": "2021-04-04T22:32:54.754920Z",
     "iopub.status.idle": "2021-04-04T22:32:54.758563Z",
     "shell.execute_reply": "2021-04-04T22:32:54.757980Z"
    },
    "papermill": {
     "duration": 0.053068,
     "end_time": "2021-04-04T22:32:54.758720",
     "exception": false,
     "start_time": "2021-04-04T22:32:54.705652",
     "status": "completed"
    },
    "tags": []
   },
   "outputs": [],
   "source": [
    "y_test = y_test.replace([0, 1], [1, -1])"
   ]
  },
  {
   "cell_type": "code",
   "execution_count": 27,
   "id": "d68a9204",
   "metadata": {
    "execution": {
     "iopub.execute_input": "2021-04-04T22:32:54.844067Z",
     "iopub.status.busy": "2021-04-04T22:32:54.843230Z",
     "iopub.status.idle": "2021-04-04T22:32:54.846222Z",
     "shell.execute_reply": "2021-04-04T22:32:54.845614Z"
    },
    "papermill": {
     "duration": 0.048334,
     "end_time": "2021-04-04T22:32:54.846358",
     "exception": false,
     "start_time": "2021-04-04T22:32:54.798024",
     "status": "completed"
    },
    "tags": []
   },
   "outputs": [],
   "source": [
    "def evaluate(truths, predictions, pos_label, neg_label):\n",
    "    TP = 0\n",
    "    FP = 0\n",
    "    TN = 0\n",
    "    FN = 0\n",
    "\n",
    "    for truth, pred in zip(truths, predictions): \n",
    "        if truth == pred == pos_label:\n",
    "           TP += 1\n",
    "        elif pred == pos_label and truth == neg_label:\n",
    "           FP += 1\n",
    "        elif truth == pred == neg_label:\n",
    "           TN += 1\n",
    "        elif pred == neg_label and truth == pos_label:\n",
    "           FN += 1\n",
    "\n",
    "    precision = TP / (TP + FP)\n",
    "    sensitivity = TP / (TP + FN)\n",
    "    \n",
    "    return {\n",
    "        'true_pos': TP,\n",
    "        'false_pos': FP,\n",
    "        'false_neg': FN,\n",
    "        'true_neg': TN,\n",
    "        'precision': precision,\n",
    "        'sensitivity': sensitivity,\n",
    "        'f1': (2 * (precision * sensitivity)) / (precision + sensitivity)\n",
    "    }\n",
    "\n",
    "score = evaluate(y_test, predictions, pos_label=-1, neg_label=1)"
   ]
  },
  {
   "cell_type": "markdown",
   "id": "93596516",
   "metadata": {
    "papermill": {
     "duration": 0.032972,
     "end_time": "2021-04-04T22:32:54.907475",
     "exception": false,
     "start_time": "2021-04-04T22:32:54.874503",
     "status": "completed"
    },
    "tags": []
   },
   "source": [
    "# Report"
   ]
  },
  {
   "cell_type": "code",
   "execution_count": 28,
   "id": "bea5fba1",
   "metadata": {
    "execution": {
     "iopub.execute_input": "2021-04-04T22:32:54.968197Z",
     "iopub.status.busy": "2021-04-04T22:32:54.967424Z",
     "iopub.status.idle": "2021-04-04T22:32:54.970525Z",
     "shell.execute_reply": "2021-04-04T22:32:54.971069Z"
    },
    "papermill": {
     "duration": 0.035669,
     "end_time": "2021-04-04T22:32:54.971250",
     "exception": false,
     "start_time": "2021-04-04T22:32:54.935581",
     "status": "completed"
    },
    "tags": []
   },
   "outputs": [],
   "source": [
    "import csv\n",
    "\n",
    "\n",
    "dataset_config_name = DATASET_CONFIG_PATH.split('/')[-1].split('.')[0]\n",
    "model_config_name = MODEL_CONFIG_PATH.split('/')[-1].split('.')[0]\n",
    "configuration = f\"dataset_{dataset_config_name}-model_{model_config_name}\"\n",
    "\n",
    "with open('results.csv', 'a') as f:\n",
    "    report = dict({'configuration': configuration}, **score)\n",
    "    writer = csv.DictWriter(f, report.keys())\n",
    "    writer.writerow(report)"
   ]
  }
 ],
 "metadata": {
  "celltoolbar": "Tags",
  "kernelspec": {
   "display_name": "Python 3",
   "language": "python",
   "name": "python3"
  },
  "language_info": {
   "codemirror_mode": {
    "name": "ipython",
    "version": 3
   },
   "file_extension": ".py",
   "mimetype": "text/x-python",
   "name": "python",
   "nbconvert_exporter": "python",
   "pygments_lexer": "ipython3",
   "version": "3.9.1"
  },
  "papermill": {
   "default_parameters": {},
   "duration": 11.750348,
   "end_time": "2021-04-04T22:32:55.808091",
   "environment_variables": {},
   "exception": null,
   "input_path": "main.ipynb",
   "output_path": "runs/dataset_000022-model_000002.ipynb",
   "parameters": {
    "DATASET_CONFIG_PATH": "config/dataset/000022.json",
    "MODEL_CONFIG_PATH": "config/model/000002.json",
    "PROFILE_REPORTING": false
   },
   "start_time": "2021-04-04T22:32:44.057743",
   "version": "2.3.3"
  }
 },
 "nbformat": 4,
 "nbformat_minor": 5
}