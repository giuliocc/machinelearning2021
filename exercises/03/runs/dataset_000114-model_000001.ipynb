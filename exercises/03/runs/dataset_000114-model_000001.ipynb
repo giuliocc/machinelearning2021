{
 "cells": [
  {
   "cell_type": "markdown",
   "id": "51c71c25",
   "metadata": {
    "papermill": {
     "duration": 0.034384,
     "end_time": "2021-04-04T23:18:00.360094",
     "exception": false,
     "start_time": "2021-04-04T23:18:00.325710",
     "status": "completed"
    },
    "tags": []
   },
   "source": [
    "# Parametrizing"
   ]
  },
  {
   "cell_type": "code",
   "execution_count": 1,
   "id": "3b136394",
   "metadata": {
    "execution": {
     "iopub.execute_input": "2021-04-04T23:18:00.413762Z",
     "iopub.status.busy": "2021-04-04T23:18:00.412871Z",
     "iopub.status.idle": "2021-04-04T23:18:00.416224Z",
     "shell.execute_reply": "2021-04-04T23:18:00.415375Z"
    },
    "papermill": {
     "duration": 0.035604,
     "end_time": "2021-04-04T23:18:00.416399",
     "exception": false,
     "start_time": "2021-04-04T23:18:00.380795",
     "status": "completed"
    },
    "tags": [
     "parameters"
    ]
   },
   "outputs": [],
   "source": [
    "DATASET_CONFIG_PATH = 'config/dataset/kc1_001.json'\n",
    "MODEL_CONFIG_PATH = 'config/model/knndd_001.json'\n",
    "PROFILE_REPORTING = False"
   ]
  },
  {
   "cell_type": "code",
   "execution_count": 2,
   "id": "eda1a2cb",
   "metadata": {
    "execution": {
     "iopub.execute_input": "2021-04-04T23:18:00.467997Z",
     "iopub.status.busy": "2021-04-04T23:18:00.466511Z",
     "iopub.status.idle": "2021-04-04T23:18:00.471000Z",
     "shell.execute_reply": "2021-04-04T23:18:00.469728Z"
    },
    "papermill": {
     "duration": 0.029109,
     "end_time": "2021-04-04T23:18:00.471216",
     "exception": false,
     "start_time": "2021-04-04T23:18:00.442107",
     "status": "completed"
    },
    "tags": [
     "injected-parameters"
    ]
   },
   "outputs": [],
   "source": [
    "# Parameters\n",
    "DATASET_CONFIG_PATH = \"config/dataset/000114.json\"\n",
    "MODEL_CONFIG_PATH = \"config/model/000001.json\"\n",
    "PROFILE_REPORTING = False\n"
   ]
  },
  {
   "cell_type": "code",
   "execution_count": 3,
   "id": "b80f2a10",
   "metadata": {
    "execution": {
     "iopub.execute_input": "2021-04-04T23:18:00.519727Z",
     "iopub.status.busy": "2021-04-04T23:18:00.518690Z",
     "iopub.status.idle": "2021-04-04T23:18:00.522478Z",
     "shell.execute_reply": "2021-04-04T23:18:00.521967Z"
    },
    "papermill": {
     "duration": 0.028596,
     "end_time": "2021-04-04T23:18:00.522596",
     "exception": false,
     "start_time": "2021-04-04T23:18:00.494000",
     "status": "completed"
    },
    "tags": []
   },
   "outputs": [],
   "source": [
    "import json\n",
    "\n",
    "\n",
    "with open(DATASET_CONFIG_PATH) as f:\n",
    "    dataset_config = json.load(f)\n",
    "\n",
    "with open(MODEL_CONFIG_PATH) as f:\n",
    "    model_config = json.load(f)"
   ]
  },
  {
   "cell_type": "markdown",
   "id": "9a4b0e2d",
   "metadata": {
    "papermill": {
     "duration": 0.019242,
     "end_time": "2021-04-04T23:18:00.567316",
     "exception": false,
     "start_time": "2021-04-04T23:18:00.548074",
     "status": "completed"
    },
    "tags": []
   },
   "source": [
    "# Profiling"
   ]
  },
  {
   "cell_type": "code",
   "execution_count": 4,
   "id": "a3e0289b",
   "metadata": {
    "execution": {
     "iopub.execute_input": "2021-04-04T23:18:00.612558Z",
     "iopub.status.busy": "2021-04-04T23:18:00.611138Z",
     "iopub.status.idle": "2021-04-04T23:18:01.885508Z",
     "shell.execute_reply": "2021-04-04T23:18:01.884959Z"
    },
    "papermill": {
     "duration": 1.298372,
     "end_time": "2021-04-04T23:18:01.885632",
     "exception": false,
     "start_time": "2021-04-04T23:18:00.587260",
     "status": "completed"
    },
    "tags": []
   },
   "outputs": [],
   "source": [
    "import pandas as pd\n",
    "from pandas_profiling import ProfileReport"
   ]
  },
  {
   "cell_type": "code",
   "execution_count": 5,
   "id": "ee6c0666",
   "metadata": {
    "execution": {
     "iopub.execute_input": "2021-04-04T23:18:01.931873Z",
     "iopub.status.busy": "2021-04-04T23:18:01.931191Z",
     "iopub.status.idle": "2021-04-04T23:18:01.939956Z",
     "shell.execute_reply": "2021-04-04T23:18:01.940694Z"
    },
    "papermill": {
     "duration": 0.035044,
     "end_time": "2021-04-04T23:18:01.940907",
     "exception": false,
     "start_time": "2021-04-04T23:18:01.905863",
     "status": "completed"
    },
    "tags": []
   },
   "outputs": [],
   "source": [
    "df = pd.read_csv(dataset_config['dataset_path'])"
   ]
  },
  {
   "cell_type": "code",
   "execution_count": 6,
   "id": "7eca6c4a",
   "metadata": {
    "execution": {
     "iopub.execute_input": "2021-04-04T23:18:02.003174Z",
     "iopub.status.busy": "2021-04-04T23:18:01.992475Z",
     "iopub.status.idle": "2021-04-04T23:18:02.007416Z",
     "shell.execute_reply": "2021-04-04T23:18:02.006475Z"
    },
    "papermill": {
     "duration": 0.040342,
     "end_time": "2021-04-04T23:18:02.007596",
     "exception": false,
     "start_time": "2021-04-04T23:18:01.967254",
     "status": "completed"
    },
    "tags": []
   },
   "outputs": [
    {
     "name": "stdout",
     "output_type": "stream",
     "text": [
      "<class 'pandas.core.frame.DataFrame'>\n",
      "RangeIndex: 498 entries, 0 to 497\n",
      "Data columns (total 23 columns):\n",
      " #   Column             Non-Null Count  Dtype  \n",
      "---  ------             --------------  -----  \n",
      " 0   id                 498 non-null    int64  \n",
      " 1   loc                498 non-null    float64\n",
      " 2   v(g)               498 non-null    float64\n",
      " 3   ev(g)              498 non-null    float64\n",
      " 4   iv(g)              498 non-null    float64\n",
      " 5   n                  498 non-null    float64\n",
      " 6   v                  498 non-null    float64\n",
      " 7   l                  498 non-null    float64\n",
      " 8   d                  498 non-null    float64\n",
      " 9   i                  498 non-null    float64\n",
      " 10  e                  498 non-null    float64\n",
      " 11  b                  498 non-null    float64\n",
      " 12  t                  498 non-null    float64\n",
      " 13  lOCode             498 non-null    int64  \n",
      " 14  lOComment          498 non-null    int64  \n",
      " 15  lOBlank            498 non-null    int64  \n",
      " 16  locCodeAndComment  498 non-null    int64  \n",
      " 17  uniq_Op            498 non-null    float64\n",
      " 18  uniq_Opnd          498 non-null    float64\n",
      " 19  total_Op           498 non-null    float64\n",
      " 20  total_Opnd         498 non-null    float64\n",
      " 21  branchCount        498 non-null    float64\n",
      " 22  defects            498 non-null    bool   \n",
      "dtypes: bool(1), float64(17), int64(5)\n",
      "memory usage: 86.2 KB\n"
     ]
    }
   ],
   "source": [
    "df.info()"
   ]
  },
  {
   "cell_type": "code",
   "execution_count": 7,
   "id": "3638e5e8",
   "metadata": {
    "execution": {
     "iopub.execute_input": "2021-04-04T23:18:02.075584Z",
     "iopub.status.busy": "2021-04-04T23:18:02.062292Z",
     "iopub.status.idle": "2021-04-04T23:18:02.099330Z",
     "shell.execute_reply": "2021-04-04T23:18:02.100184Z"
    },
    "papermill": {
     "duration": 0.068029,
     "end_time": "2021-04-04T23:18:02.100419",
     "exception": false,
     "start_time": "2021-04-04T23:18:02.032390",
     "status": "completed"
    },
    "tags": []
   },
   "outputs": [
    {
     "data": {
      "text/html": [
       "<div>\n",
       "<style scoped>\n",
       "    .dataframe tbody tr th:only-of-type {\n",
       "        vertical-align: middle;\n",
       "    }\n",
       "\n",
       "    .dataframe tbody tr th {\n",
       "        vertical-align: top;\n",
       "    }\n",
       "\n",
       "    .dataframe thead th {\n",
       "        text-align: right;\n",
       "    }\n",
       "</style>\n",
       "<table border=\"1\" class=\"dataframe\">\n",
       "  <thead>\n",
       "    <tr style=\"text-align: right;\">\n",
       "      <th></th>\n",
       "      <th>id</th>\n",
       "      <th>loc</th>\n",
       "      <th>v(g)</th>\n",
       "      <th>ev(g)</th>\n",
       "      <th>iv(g)</th>\n",
       "      <th>n</th>\n",
       "      <th>v</th>\n",
       "      <th>l</th>\n",
       "      <th>d</th>\n",
       "      <th>i</th>\n",
       "      <th>...</th>\n",
       "      <th>lOCode</th>\n",
       "      <th>lOComment</th>\n",
       "      <th>lOBlank</th>\n",
       "      <th>locCodeAndComment</th>\n",
       "      <th>uniq_Op</th>\n",
       "      <th>uniq_Opnd</th>\n",
       "      <th>total_Op</th>\n",
       "      <th>total_Opnd</th>\n",
       "      <th>branchCount</th>\n",
       "      <th>defects</th>\n",
       "    </tr>\n",
       "  </thead>\n",
       "  <tbody>\n",
       "    <tr>\n",
       "      <th>0</th>\n",
       "      <td>1</td>\n",
       "      <td>1.1</td>\n",
       "      <td>1.4</td>\n",
       "      <td>1.4</td>\n",
       "      <td>1.4</td>\n",
       "      <td>1.3</td>\n",
       "      <td>1.30</td>\n",
       "      <td>1.30</td>\n",
       "      <td>1.30</td>\n",
       "      <td>1.30</td>\n",
       "      <td>...</td>\n",
       "      <td>2</td>\n",
       "      <td>2</td>\n",
       "      <td>2</td>\n",
       "      <td>2</td>\n",
       "      <td>1.2</td>\n",
       "      <td>1.2</td>\n",
       "      <td>1.2</td>\n",
       "      <td>1.2</td>\n",
       "      <td>1.4</td>\n",
       "      <td>False</td>\n",
       "    </tr>\n",
       "    <tr>\n",
       "      <th>1</th>\n",
       "      <td>2</td>\n",
       "      <td>1.0</td>\n",
       "      <td>1.0</td>\n",
       "      <td>1.0</td>\n",
       "      <td>1.0</td>\n",
       "      <td>1.0</td>\n",
       "      <td>1.00</td>\n",
       "      <td>1.00</td>\n",
       "      <td>1.00</td>\n",
       "      <td>1.00</td>\n",
       "      <td>...</td>\n",
       "      <td>1</td>\n",
       "      <td>1</td>\n",
       "      <td>1</td>\n",
       "      <td>1</td>\n",
       "      <td>1.0</td>\n",
       "      <td>1.0</td>\n",
       "      <td>1.0</td>\n",
       "      <td>1.0</td>\n",
       "      <td>1.0</td>\n",
       "      <td>True</td>\n",
       "    </tr>\n",
       "    <tr>\n",
       "      <th>2</th>\n",
       "      <td>3</td>\n",
       "      <td>24.0</td>\n",
       "      <td>5.0</td>\n",
       "      <td>1.0</td>\n",
       "      <td>3.0</td>\n",
       "      <td>63.0</td>\n",
       "      <td>309.13</td>\n",
       "      <td>0.11</td>\n",
       "      <td>9.50</td>\n",
       "      <td>32.54</td>\n",
       "      <td>...</td>\n",
       "      <td>1</td>\n",
       "      <td>0</td>\n",
       "      <td>6</td>\n",
       "      <td>0</td>\n",
       "      <td>15.0</td>\n",
       "      <td>15.0</td>\n",
       "      <td>44.0</td>\n",
       "      <td>19.0</td>\n",
       "      <td>9.0</td>\n",
       "      <td>False</td>\n",
       "    </tr>\n",
       "    <tr>\n",
       "      <th>3</th>\n",
       "      <td>4</td>\n",
       "      <td>20.0</td>\n",
       "      <td>4.0</td>\n",
       "      <td>4.0</td>\n",
       "      <td>2.0</td>\n",
       "      <td>47.0</td>\n",
       "      <td>215.49</td>\n",
       "      <td>0.06</td>\n",
       "      <td>16.00</td>\n",
       "      <td>13.47</td>\n",
       "      <td>...</td>\n",
       "      <td>0</td>\n",
       "      <td>0</td>\n",
       "      <td>3</td>\n",
       "      <td>0</td>\n",
       "      <td>16.0</td>\n",
       "      <td>8.0</td>\n",
       "      <td>31.0</td>\n",
       "      <td>16.0</td>\n",
       "      <td>7.0</td>\n",
       "      <td>False</td>\n",
       "    </tr>\n",
       "    <tr>\n",
       "      <th>4</th>\n",
       "      <td>5</td>\n",
       "      <td>24.0</td>\n",
       "      <td>6.0</td>\n",
       "      <td>6.0</td>\n",
       "      <td>2.0</td>\n",
       "      <td>72.0</td>\n",
       "      <td>346.13</td>\n",
       "      <td>0.06</td>\n",
       "      <td>17.33</td>\n",
       "      <td>19.97</td>\n",
       "      <td>...</td>\n",
       "      <td>0</td>\n",
       "      <td>0</td>\n",
       "      <td>3</td>\n",
       "      <td>0</td>\n",
       "      <td>16.0</td>\n",
       "      <td>12.0</td>\n",
       "      <td>46.0</td>\n",
       "      <td>26.0</td>\n",
       "      <td>11.0</td>\n",
       "      <td>False</td>\n",
       "    </tr>\n",
       "  </tbody>\n",
       "</table>\n",
       "<p>5 rows × 23 columns</p>\n",
       "</div>"
      ],
      "text/plain": [
       "   id   loc  v(g)  ev(g)  iv(g)     n       v     l      d      i  ...  \\\n",
       "0   1   1.1   1.4    1.4    1.4   1.3    1.30  1.30   1.30   1.30  ...   \n",
       "1   2   1.0   1.0    1.0    1.0   1.0    1.00  1.00   1.00   1.00  ...   \n",
       "2   3  24.0   5.0    1.0    3.0  63.0  309.13  0.11   9.50  32.54  ...   \n",
       "3   4  20.0   4.0    4.0    2.0  47.0  215.49  0.06  16.00  13.47  ...   \n",
       "4   5  24.0   6.0    6.0    2.0  72.0  346.13  0.06  17.33  19.97  ...   \n",
       "\n",
       "   lOCode  lOComment  lOBlank  locCodeAndComment  uniq_Op  uniq_Opnd  \\\n",
       "0       2          2        2                  2      1.2        1.2   \n",
       "1       1          1        1                  1      1.0        1.0   \n",
       "2       1          0        6                  0     15.0       15.0   \n",
       "3       0          0        3                  0     16.0        8.0   \n",
       "4       0          0        3                  0     16.0       12.0   \n",
       "\n",
       "   total_Op  total_Opnd  branchCount  defects  \n",
       "0       1.2         1.2          1.4    False  \n",
       "1       1.0         1.0          1.0     True  \n",
       "2      44.0        19.0          9.0    False  \n",
       "3      31.0        16.0          7.0    False  \n",
       "4      46.0        26.0         11.0    False  \n",
       "\n",
       "[5 rows x 23 columns]"
      ]
     },
     "execution_count": 7,
     "metadata": {},
     "output_type": "execute_result"
    }
   ],
   "source": [
    "df.head()"
   ]
  },
  {
   "cell_type": "code",
   "execution_count": 8,
   "id": "733e95eb",
   "metadata": {
    "execution": {
     "iopub.execute_input": "2021-04-04T23:18:02.152761Z",
     "iopub.status.busy": "2021-04-04T23:18:02.151519Z",
     "iopub.status.idle": "2021-04-04T23:18:02.153942Z",
     "shell.execute_reply": "2021-04-04T23:18:02.154656Z"
    },
    "papermill": {
     "duration": 0.029685,
     "end_time": "2021-04-04T23:18:02.154860",
     "exception": false,
     "start_time": "2021-04-04T23:18:02.125175",
     "status": "completed"
    },
    "tags": []
   },
   "outputs": [],
   "source": [
    "del df['id']"
   ]
  },
  {
   "cell_type": "code",
   "execution_count": 9,
   "id": "6ff6f5b0",
   "metadata": {
    "execution": {
     "iopub.execute_input": "2021-04-04T23:18:02.203408Z",
     "iopub.status.busy": "2021-04-04T23:18:02.202432Z",
     "iopub.status.idle": "2021-04-04T23:18:02.205533Z",
     "shell.execute_reply": "2021-04-04T23:18:02.204706Z"
    },
    "papermill": {
     "duration": 0.028526,
     "end_time": "2021-04-04T23:18:02.205695",
     "exception": false,
     "start_time": "2021-04-04T23:18:02.177169",
     "status": "completed"
    },
    "tags": []
   },
   "outputs": [],
   "source": [
    "if PROFILE_REPORTING:\n",
    "    ProfileReport(df).to_widgets()"
   ]
  },
  {
   "cell_type": "markdown",
   "id": "1deaf3f0",
   "metadata": {
    "papermill": {
     "duration": 0.021345,
     "end_time": "2021-04-04T23:18:02.252892",
     "exception": false,
     "start_time": "2021-04-04T23:18:02.231547",
     "status": "completed"
    },
    "tags": []
   },
   "source": [
    "# Preprocess"
   ]
  },
  {
   "cell_type": "code",
   "execution_count": 10,
   "id": "1513e563",
   "metadata": {
    "execution": {
     "iopub.execute_input": "2021-04-04T23:18:02.300409Z",
     "iopub.status.busy": "2021-04-04T23:18:02.299693Z",
     "iopub.status.idle": "2021-04-04T23:18:02.302128Z",
     "shell.execute_reply": "2021-04-04T23:18:02.302822Z"
    },
    "papermill": {
     "duration": 0.0289,
     "end_time": "2021-04-04T23:18:02.303022",
     "exception": false,
     "start_time": "2021-04-04T23:18:02.274122",
     "status": "completed"
    },
    "tags": []
   },
   "outputs": [],
   "source": [
    "working_df = df.copy()"
   ]
  },
  {
   "cell_type": "code",
   "execution_count": 11,
   "id": "3b26d675",
   "metadata": {
    "execution": {
     "iopub.execute_input": "2021-04-04T23:18:02.360591Z",
     "iopub.status.busy": "2021-04-04T23:18:02.359287Z",
     "iopub.status.idle": "2021-04-04T23:18:02.362873Z",
     "shell.execute_reply": "2021-04-04T23:18:02.361998Z"
    },
    "papermill": {
     "duration": 0.034293,
     "end_time": "2021-04-04T23:18:02.363040",
     "exception": false,
     "start_time": "2021-04-04T23:18:02.328747",
     "status": "completed"
    },
    "tags": []
   },
   "outputs": [],
   "source": [
    "working_df['defects'] = working_df['defects'].replace([False, True], [0, 1])"
   ]
  },
  {
   "cell_type": "code",
   "execution_count": 12,
   "id": "eb48604f",
   "metadata": {
    "execution": {
     "iopub.execute_input": "2021-04-04T23:18:02.418778Z",
     "iopub.status.busy": "2021-04-04T23:18:02.417895Z",
     "iopub.status.idle": "2021-04-04T23:18:02.420878Z",
     "shell.execute_reply": "2021-04-04T23:18:02.421724Z"
    },
    "papermill": {
     "duration": 0.031821,
     "end_time": "2021-04-04T23:18:02.421968",
     "exception": false,
     "start_time": "2021-04-04T23:18:02.390147",
     "status": "completed"
    },
    "tags": []
   },
   "outputs": [],
   "source": [
    "for col in dataset_config['delete_columns']:\n",
    "    del working_df[col]"
   ]
  },
  {
   "cell_type": "code",
   "execution_count": 13,
   "id": "9a17bc29",
   "metadata": {
    "execution": {
     "iopub.execute_input": "2021-04-04T23:18:02.478981Z",
     "iopub.status.busy": "2021-04-04T23:18:02.478375Z",
     "iopub.status.idle": "2021-04-04T23:18:02.487818Z",
     "shell.execute_reply": "2021-04-04T23:18:02.488730Z"
    },
    "papermill": {
     "duration": 0.038443,
     "end_time": "2021-04-04T23:18:02.488986",
     "exception": false,
     "start_time": "2021-04-04T23:18:02.450543",
     "status": "completed"
    },
    "tags": []
   },
   "outputs": [],
   "source": [
    "working_df = working_df.drop_duplicates()"
   ]
  },
  {
   "cell_type": "markdown",
   "id": "a4d52ca6",
   "metadata": {
    "papermill": {
     "duration": 0.021456,
     "end_time": "2021-04-04T23:18:02.542651",
     "exception": false,
     "start_time": "2021-04-04T23:18:02.521195",
     "status": "completed"
    },
    "tags": []
   },
   "source": [
    "# Split"
   ]
  },
  {
   "cell_type": "code",
   "execution_count": 14,
   "id": "3e9ee4b5",
   "metadata": {
    "execution": {
     "iopub.execute_input": "2021-04-04T23:18:02.591627Z",
     "iopub.status.busy": "2021-04-04T23:18:02.590760Z",
     "iopub.status.idle": "2021-04-04T23:18:02.627070Z",
     "shell.execute_reply": "2021-04-04T23:18:02.626151Z"
    },
    "papermill": {
     "duration": 0.062902,
     "end_time": "2021-04-04T23:18:02.627242",
     "exception": false,
     "start_time": "2021-04-04T23:18:02.564340",
     "status": "completed"
    },
    "tags": []
   },
   "outputs": [],
   "source": [
    "from sklearn.model_selection import train_test_split"
   ]
  },
  {
   "cell_type": "code",
   "execution_count": 15,
   "id": "274004ce",
   "metadata": {
    "execution": {
     "iopub.execute_input": "2021-04-04T23:18:02.680158Z",
     "iopub.status.busy": "2021-04-04T23:18:02.679323Z",
     "iopub.status.idle": "2021-04-04T23:18:02.686795Z",
     "shell.execute_reply": "2021-04-04T23:18:02.687562Z"
    },
    "papermill": {
     "duration": 0.035236,
     "end_time": "2021-04-04T23:18:02.687747",
     "exception": false,
     "start_time": "2021-04-04T23:18:02.652511",
     "status": "completed"
    },
    "scrolled": true,
    "tags": []
   },
   "outputs": [],
   "source": [
    "inlier, outlier = working_df[working_df['defects'] == 0], working_df[working_df['defects'] == 1]"
   ]
  },
  {
   "cell_type": "code",
   "execution_count": 16,
   "id": "753c7b03",
   "metadata": {
    "execution": {
     "iopub.execute_input": "2021-04-04T23:18:02.748348Z",
     "iopub.status.busy": "2021-04-04T23:18:02.746072Z",
     "iopub.status.idle": "2021-04-04T23:18:02.749343Z",
     "shell.execute_reply": "2021-04-04T23:18:02.750120Z"
    },
    "papermill": {
     "duration": 0.038288,
     "end_time": "2021-04-04T23:18:02.750318",
     "exception": false,
     "start_time": "2021-04-04T23:18:02.712030",
     "status": "completed"
    },
    "tags": []
   },
   "outputs": [],
   "source": [
    "X_inlier = inlier.copy()\n",
    "y_inlier = X_inlier.pop('defects')\n",
    "X_outlier = outlier.copy()\n",
    "y_outlier = X_outlier.pop('defects')"
   ]
  },
  {
   "cell_type": "code",
   "execution_count": 17,
   "id": "2ba43193",
   "metadata": {
    "execution": {
     "iopub.execute_input": "2021-04-04T23:18:02.804748Z",
     "iopub.status.busy": "2021-04-04T23:18:02.803672Z",
     "iopub.status.idle": "2021-04-04T23:18:02.807712Z",
     "shell.execute_reply": "2021-04-04T23:18:02.806814Z"
    },
    "papermill": {
     "duration": 0.033607,
     "end_time": "2021-04-04T23:18:02.807898",
     "exception": false,
     "start_time": "2021-04-04T23:18:02.774291",
     "status": "completed"
    },
    "tags": []
   },
   "outputs": [],
   "source": [
    "test_size = dataset_config['test_size']\n",
    "random_state = dataset_config['random_state']\n",
    "\n",
    "X_inlier_train, X_inlier_test, y_inlier_train, y_inlier_test = train_test_split(\n",
    "    X_inlier,\n",
    "    y_inlier,\n",
    "    test_size=test_size,\n",
    "    random_state=random_state\n",
    ")"
   ]
  },
  {
   "cell_type": "code",
   "execution_count": 18,
   "id": "0b7582ca",
   "metadata": {
    "execution": {
     "iopub.execute_input": "2021-04-04T23:18:02.869231Z",
     "iopub.status.busy": "2021-04-04T23:18:02.868090Z",
     "iopub.status.idle": "2021-04-04T23:18:02.870624Z",
     "shell.execute_reply": "2021-04-04T23:18:02.871389Z"
    },
    "papermill": {
     "duration": 0.033812,
     "end_time": "2021-04-04T23:18:02.871604",
     "exception": false,
     "start_time": "2021-04-04T23:18:02.837792",
     "status": "completed"
    },
    "tags": []
   },
   "outputs": [],
   "source": [
    "test_outlier_size = dataset_config['test_outlier_size']\n",
    "if test_outlier_size > 0.0:\n",
    "    X_outlier_train, X_outlier_test, y_outlier_train, y_outlier_test = train_test_split(\n",
    "        X_outlier,\n",
    "        y_outlier,\n",
    "        test_size=test_outlier_size,\n",
    "        random_state=random_state\n",
    "    )\n",
    "else:\n",
    "    X_outlier_train, y_outlier_train = pd.DataFrame(columns=X_outlier.columns), pd.Series(dtype='int64')\n",
    "    X_outlier_test, y_outlier_test = X_outlier.copy(), y_outlier.copy()"
   ]
  },
  {
   "cell_type": "code",
   "execution_count": 19,
   "id": "c34363db",
   "metadata": {
    "execution": {
     "iopub.execute_input": "2021-04-04T23:18:02.933414Z",
     "iopub.status.busy": "2021-04-04T23:18:02.932665Z",
     "iopub.status.idle": "2021-04-04T23:18:02.935417Z",
     "shell.execute_reply": "2021-04-04T23:18:02.936274Z"
    },
    "papermill": {
     "duration": 0.036687,
     "end_time": "2021-04-04T23:18:02.936509",
     "exception": false,
     "start_time": "2021-04-04T23:18:02.899822",
     "status": "completed"
    },
    "tags": []
   },
   "outputs": [],
   "source": [
    "X_train, y_train = pd.concat([X_inlier_train, X_outlier_train], ignore_index=True), pd.concat([y_inlier_train, y_outlier_train], ignore_index=True)\n",
    "X_test, y_test = pd.concat([X_inlier_test, X_outlier_test], ignore_index=True), pd.concat([y_inlier_test, y_outlier_test], ignore_index=True)"
   ]
  },
  {
   "cell_type": "markdown",
   "id": "7cde7309",
   "metadata": {
    "papermill": {
     "duration": 0.022071,
     "end_time": "2021-04-04T23:18:02.985803",
     "exception": false,
     "start_time": "2021-04-04T23:18:02.963732",
     "status": "completed"
    },
    "tags": []
   },
   "source": [
    "# Model"
   ]
  },
  {
   "cell_type": "code",
   "execution_count": 20,
   "id": "2b12a415",
   "metadata": {
    "execution": {
     "iopub.execute_input": "2021-04-04T23:18:03.045428Z",
     "iopub.status.busy": "2021-04-04T23:18:03.044255Z",
     "iopub.status.idle": "2021-04-04T23:18:03.047071Z",
     "shell.execute_reply": "2021-04-04T23:18:03.047885Z"
    },
    "papermill": {
     "duration": 0.039737,
     "end_time": "2021-04-04T23:18:03.048099",
     "exception": false,
     "start_time": "2021-04-04T23:18:03.008362",
     "status": "completed"
    },
    "tags": []
   },
   "outputs": [],
   "source": [
    "from math import sqrt\n",
    "\n",
    "\n",
    "class KNNDataDescription:\n",
    "    def __init__(self, k=5, outlier_threshold=1.0):\n",
    "        self.k = k\n",
    "        self.outlier_threshold = outlier_threshold\n",
    "        self.X = []\n",
    "    \n",
    "    def fit(self, X):\n",
    "        self.X = [features.to_list() for index, features in X.iterrows()]\n",
    "\n",
    "    def predict(self, entries):\n",
    "        return [self.predict_entry(features.to_list()) for index, features in entries.iterrows()]\n",
    "    \n",
    "    def predict_entry(self, entry):\n",
    "        kth_neighbor, kth_distance = self.get_kth_neighbor(entry, self.k)\n",
    "        kth_kth_neighbor, kth_kth_distance = self.get_kth_neighbor(kth_neighbor, self.k + 1)\n",
    "\n",
    "        outlier_score = kth_distance / (kth_kth_distance + 0.000001)\n",
    "\n",
    "        return 1 if outlier_score < self.outlier_threshold else -1\n",
    "        \n",
    "    def euclidean_distance(self, features1, features2):\n",
    "        distance = 0.0\n",
    "        for feat1, feat2 in zip(features1, features2):\n",
    "            distance += (feat1 - feat2)**2\n",
    "                \n",
    "        return sqrt(distance)\n",
    "\n",
    "    def get_neighbors(self, entry, k):\n",
    "        distance_to_data_points = [\n",
    "            (data_point, self.euclidean_distance(entry, data_point))\n",
    "            for data_point in self.X\n",
    "        ]\n",
    "        sorted_by_distance = sorted(distance_to_data_points, key=lambda tup: tup[1])\n",
    "        neighbors = sorted_by_distance[:k]\n",
    "        return neighbors\n",
    "\n",
    "    def get_kth_neighbor(self, entry, k):\n",
    "        neighbors = self.get_neighbors(entry, k)\n",
    "        return neighbors[-1]\n"
   ]
  },
  {
   "cell_type": "code",
   "execution_count": 21,
   "id": "1fa9ec1c",
   "metadata": {
    "execution": {
     "iopub.execute_input": "2021-04-04T23:18:03.101993Z",
     "iopub.status.busy": "2021-04-04T23:18:03.101075Z",
     "iopub.status.idle": "2021-04-04T23:18:03.123092Z",
     "shell.execute_reply": "2021-04-04T23:18:03.122195Z"
    },
    "papermill": {
     "duration": 0.04918,
     "end_time": "2021-04-04T23:18:03.123261",
     "exception": false,
     "start_time": "2021-04-04T23:18:03.074081",
     "status": "completed"
    },
    "tags": []
   },
   "outputs": [],
   "source": [
    "from sklearn.svm import OneClassSVM\n",
    "\n",
    "\n",
    "models = {\n",
    "    'oneclasssvm': OneClassSVM,\n",
    "    'knndatadescription': KNNDataDescription,\n",
    "}"
   ]
  },
  {
   "cell_type": "code",
   "execution_count": 22,
   "id": "4d72a0b1",
   "metadata": {
    "execution": {
     "iopub.execute_input": "2021-04-04T23:18:03.181645Z",
     "iopub.status.busy": "2021-04-04T23:18:03.180500Z",
     "iopub.status.idle": "2021-04-04T23:18:03.183203Z",
     "shell.execute_reply": "2021-04-04T23:18:03.184044Z"
    },
    "papermill": {
     "duration": 0.031465,
     "end_time": "2021-04-04T23:18:03.184278",
     "exception": false,
     "start_time": "2021-04-04T23:18:03.152813",
     "status": "completed"
    },
    "scrolled": true,
    "tags": []
   },
   "outputs": [],
   "source": [
    "model_cls = models[model_config['model_type']]\n",
    "model = model_cls(**model_config['hyperparameters'])"
   ]
  },
  {
   "cell_type": "markdown",
   "id": "e00cff3b",
   "metadata": {
    "papermill": {
     "duration": 0.022413,
     "end_time": "2021-04-04T23:18:03.235459",
     "exception": false,
     "start_time": "2021-04-04T23:18:03.213046",
     "status": "completed"
    },
    "tags": []
   },
   "source": [
    "# Fit"
   ]
  },
  {
   "cell_type": "code",
   "execution_count": 23,
   "id": "8b2ded89",
   "metadata": {
    "execution": {
     "iopub.execute_input": "2021-04-04T23:18:03.290839Z",
     "iopub.status.busy": "2021-04-04T23:18:03.285837Z",
     "iopub.status.idle": "2021-04-04T23:18:03.309216Z",
     "shell.execute_reply": "2021-04-04T23:18:03.309924Z"
    },
    "papermill": {
     "duration": 0.051852,
     "end_time": "2021-04-04T23:18:03.310140",
     "exception": false,
     "start_time": "2021-04-04T23:18:03.258288",
     "status": "completed"
    },
    "tags": []
   },
   "outputs": [],
   "source": [
    "model.fit(X_train)"
   ]
  },
  {
   "cell_type": "markdown",
   "id": "f99999f7",
   "metadata": {
    "papermill": {
     "duration": 0.026502,
     "end_time": "2021-04-04T23:18:03.362706",
     "exception": false,
     "start_time": "2021-04-04T23:18:03.336204",
     "status": "completed"
    },
    "tags": []
   },
   "source": [
    "# Predict"
   ]
  },
  {
   "cell_type": "code",
   "execution_count": 24,
   "id": "6536fbf7",
   "metadata": {
    "execution": {
     "iopub.execute_input": "2021-04-04T23:18:03.481439Z",
     "iopub.status.busy": "2021-04-04T23:18:03.445813Z",
     "iopub.status.idle": "2021-04-04T23:18:03.767698Z",
     "shell.execute_reply": "2021-04-04T23:18:03.768440Z"
    },
    "papermill": {
     "duration": 0.382495,
     "end_time": "2021-04-04T23:18:03.768707",
     "exception": false,
     "start_time": "2021-04-04T23:18:03.386212",
     "status": "completed"
    },
    "tags": []
   },
   "outputs": [],
   "source": [
    "predictions = model.predict(X_test)"
   ]
  },
  {
   "cell_type": "markdown",
   "id": "aa1c9881",
   "metadata": {
    "papermill": {
     "duration": 0.024349,
     "end_time": "2021-04-04T23:18:03.825926",
     "exception": false,
     "start_time": "2021-04-04T23:18:03.801577",
     "status": "completed"
    },
    "tags": []
   },
   "source": [
    "# Evaluate"
   ]
  },
  {
   "cell_type": "code",
   "execution_count": 25,
   "id": "894f0f04",
   "metadata": {
    "execution": {
     "iopub.execute_input": "2021-04-04T23:18:03.875970Z",
     "iopub.status.busy": "2021-04-04T23:18:03.875131Z",
     "iopub.status.idle": "2021-04-04T23:18:03.877715Z",
     "shell.execute_reply": "2021-04-04T23:18:03.877141Z"
    },
    "papermill": {
     "duration": 0.028809,
     "end_time": "2021-04-04T23:18:03.877832",
     "exception": false,
     "start_time": "2021-04-04T23:18:03.849023",
     "status": "completed"
    },
    "tags": []
   },
   "outputs": [],
   "source": [
    "from sklearn.metrics import f1_score"
   ]
  },
  {
   "cell_type": "code",
   "execution_count": 26,
   "id": "211744d3",
   "metadata": {
    "execution": {
     "iopub.execute_input": "2021-04-04T23:18:03.929093Z",
     "iopub.status.busy": "2021-04-04T23:18:03.928509Z",
     "iopub.status.idle": "2021-04-04T23:18:03.930451Z",
     "shell.execute_reply": "2021-04-04T23:18:03.930926Z"
    },
    "papermill": {
     "duration": 0.02989,
     "end_time": "2021-04-04T23:18:03.931070",
     "exception": false,
     "start_time": "2021-04-04T23:18:03.901180",
     "status": "completed"
    },
    "tags": []
   },
   "outputs": [],
   "source": [
    "y_test = y_test.replace([0, 1], [1, -1])"
   ]
  },
  {
   "cell_type": "code",
   "execution_count": 27,
   "id": "d68a9204",
   "metadata": {
    "execution": {
     "iopub.execute_input": "2021-04-04T23:18:03.985479Z",
     "iopub.status.busy": "2021-04-04T23:18:03.984882Z",
     "iopub.status.idle": "2021-04-04T23:18:03.986910Z",
     "shell.execute_reply": "2021-04-04T23:18:03.987436Z"
    },
    "papermill": {
     "duration": 0.03264,
     "end_time": "2021-04-04T23:18:03.987595",
     "exception": false,
     "start_time": "2021-04-04T23:18:03.954955",
     "status": "completed"
    },
    "tags": []
   },
   "outputs": [],
   "source": [
    "def evaluate(truths, predictions, pos_label, neg_label):\n",
    "    TP = 0\n",
    "    FP = 0\n",
    "    TN = 0\n",
    "    FN = 0\n",
    "\n",
    "    for truth, pred in zip(truths, predictions): \n",
    "        if truth == pred == pos_label:\n",
    "           TP += 1\n",
    "        elif pred == pos_label and truth == neg_label:\n",
    "           FP += 1\n",
    "        elif truth == pred == neg_label:\n",
    "           TN += 1\n",
    "        elif pred == neg_label and truth == pos_label:\n",
    "           FN += 1\n",
    "\n",
    "    precision = TP / (TP + FP)\n",
    "    sensitivity = TP / (TP + FN)\n",
    "    \n",
    "    return {\n",
    "        'true_pos': TP,\n",
    "        'false_pos': FP,\n",
    "        'false_neg': FN,\n",
    "        'true_neg': TN,\n",
    "        'precision': precision,\n",
    "        'sensitivity': sensitivity,\n",
    "        'f1': (2 * (precision * sensitivity)) / (precision + sensitivity)\n",
    "    }\n",
    "\n",
    "score = evaluate(y_test, predictions, pos_label=-1, neg_label=1)"
   ]
  },
  {
   "cell_type": "markdown",
   "id": "93596516",
   "metadata": {
    "papermill": {
     "duration": 0.02595,
     "end_time": "2021-04-04T23:18:04.039838",
     "exception": false,
     "start_time": "2021-04-04T23:18:04.013888",
     "status": "completed"
    },
    "tags": []
   },
   "source": [
    "# Report"
   ]
  },
  {
   "cell_type": "code",
   "execution_count": 28,
   "id": "bea5fba1",
   "metadata": {
    "execution": {
     "iopub.execute_input": "2021-04-04T23:18:04.095805Z",
     "iopub.status.busy": "2021-04-04T23:18:04.094544Z",
     "iopub.status.idle": "2021-04-04T23:18:04.097999Z",
     "shell.execute_reply": "2021-04-04T23:18:04.099172Z"
    },
    "papermill": {
     "duration": 0.034842,
     "end_time": "2021-04-04T23:18:04.099454",
     "exception": false,
     "start_time": "2021-04-04T23:18:04.064612",
     "status": "completed"
    },
    "tags": []
   },
   "outputs": [],
   "source": [
    "import csv\n",
    "\n",
    "\n",
    "dataset_config_name = DATASET_CONFIG_PATH.split('/')[-1].split('.')[0]\n",
    "model_config_name = MODEL_CONFIG_PATH.split('/')[-1].split('.')[0]\n",
    "configuration = f\"dataset_{dataset_config_name}-model_{model_config_name}\"\n",
    "\n",
    "with open('results.csv', 'a') as f:\n",
    "    report = dict({'configuration': configuration}, **score)\n",
    "    writer = csv.DictWriter(f, report.keys())\n",
    "    writer.writerow(report)"
   ]
  }
 ],
 "metadata": {
  "celltoolbar": "Tags",
  "kernelspec": {
   "display_name": "Python 3",
   "language": "python",
   "name": "python3"
  },
  "language_info": {
   "codemirror_mode": {
    "name": "ipython",
    "version": 3
   },
   "file_extension": ".py",
   "mimetype": "text/x-python",
   "name": "python",
   "nbconvert_exporter": "python",
   "pygments_lexer": "ipython3",
   "version": "3.9.1"
  },
  "papermill": {
   "default_parameters": {},
   "duration": 6.03581,
   "end_time": "2021-04-04T23:18:05.610645",
   "environment_variables": {},
   "exception": null,
   "input_path": "main.ipynb",
   "output_path": "runs/dataset_000114-model_000001.ipynb",
   "parameters": {
    "DATASET_CONFIG_PATH": "config/dataset/000114.json",
    "MODEL_CONFIG_PATH": "config/model/000001.json",
    "PROFILE_REPORTING": false
   },
   "start_time": "2021-04-04T23:17:59.574835",
   "version": "2.3.3"
  }
 },
 "nbformat": 4,
 "nbformat_minor": 5
}