{
 "cells": [
  {
   "cell_type": "markdown",
   "id": "51c71c25",
   "metadata": {
    "papermill": {
     "duration": 0.027643,
     "end_time": "2021-04-04T23:15:42.825738",
     "exception": false,
     "start_time": "2021-04-04T23:15:42.798095",
     "status": "completed"
    },
    "tags": []
   },
   "source": [
    "# Parametrizing"
   ]
  },
  {
   "cell_type": "code",
   "execution_count": 1,
   "id": "3b136394",
   "metadata": {
    "execution": {
     "iopub.execute_input": "2021-04-04T23:15:42.879191Z",
     "iopub.status.busy": "2021-04-04T23:15:42.877870Z",
     "iopub.status.idle": "2021-04-04T23:15:42.881937Z",
     "shell.execute_reply": "2021-04-04T23:15:42.880751Z"
    },
    "papermill": {
     "duration": 0.037009,
     "end_time": "2021-04-04T23:15:42.882160",
     "exception": false,
     "start_time": "2021-04-04T23:15:42.845151",
     "status": "completed"
    },
    "tags": [
     "parameters"
    ]
   },
   "outputs": [],
   "source": [
    "DATASET_CONFIG_PATH = 'config/dataset/kc1_001.json'\n",
    "MODEL_CONFIG_PATH = 'config/model/knndd_001.json'\n",
    "PROFILE_REPORTING = False"
   ]
  },
  {
   "cell_type": "code",
   "execution_count": 2,
   "id": "f4582778",
   "metadata": {
    "execution": {
     "iopub.execute_input": "2021-04-04T23:15:42.934194Z",
     "iopub.status.busy": "2021-04-04T23:15:42.932975Z",
     "iopub.status.idle": "2021-04-04T23:15:42.936576Z",
     "shell.execute_reply": "2021-04-04T23:15:42.935841Z"
    },
    "papermill": {
     "duration": 0.027637,
     "end_time": "2021-04-04T23:15:42.936796",
     "exception": false,
     "start_time": "2021-04-04T23:15:42.909159",
     "status": "completed"
    },
    "tags": [
     "injected-parameters"
    ]
   },
   "outputs": [],
   "source": [
    "# Parameters\n",
    "DATASET_CONFIG_PATH = \"config/dataset/000108.json\"\n",
    "MODEL_CONFIG_PATH = \"config/model/000001.json\"\n",
    "PROFILE_REPORTING = False\n"
   ]
  },
  {
   "cell_type": "code",
   "execution_count": 3,
   "id": "b80f2a10",
   "metadata": {
    "execution": {
     "iopub.execute_input": "2021-04-04T23:15:42.987724Z",
     "iopub.status.busy": "2021-04-04T23:15:42.986389Z",
     "iopub.status.idle": "2021-04-04T23:15:42.990428Z",
     "shell.execute_reply": "2021-04-04T23:15:42.991281Z"
    },
    "papermill": {
     "duration": 0.030004,
     "end_time": "2021-04-04T23:15:42.991518",
     "exception": false,
     "start_time": "2021-04-04T23:15:42.961514",
     "status": "completed"
    },
    "tags": []
   },
   "outputs": [],
   "source": [
    "import json\n",
    "\n",
    "\n",
    "with open(DATASET_CONFIG_PATH) as f:\n",
    "    dataset_config = json.load(f)\n",
    "\n",
    "with open(MODEL_CONFIG_PATH) as f:\n",
    "    model_config = json.load(f)"
   ]
  },
  {
   "cell_type": "markdown",
   "id": "9a4b0e2d",
   "metadata": {
    "papermill": {
     "duration": 0.019491,
     "end_time": "2021-04-04T23:15:43.032941",
     "exception": false,
     "start_time": "2021-04-04T23:15:43.013450",
     "status": "completed"
    },
    "tags": []
   },
   "source": [
    "# Profiling"
   ]
  },
  {
   "cell_type": "code",
   "execution_count": 4,
   "id": "a3e0289b",
   "metadata": {
    "execution": {
     "iopub.execute_input": "2021-04-04T23:15:43.076845Z",
     "iopub.status.busy": "2021-04-04T23:15:43.075923Z",
     "iopub.status.idle": "2021-04-04T23:15:44.323081Z",
     "shell.execute_reply": "2021-04-04T23:15:44.323849Z"
    },
    "papermill": {
     "duration": 1.271672,
     "end_time": "2021-04-04T23:15:44.324098",
     "exception": false,
     "start_time": "2021-04-04T23:15:43.052426",
     "status": "completed"
    },
    "tags": []
   },
   "outputs": [],
   "source": [
    "import pandas as pd\n",
    "from pandas_profiling import ProfileReport"
   ]
  },
  {
   "cell_type": "code",
   "execution_count": 5,
   "id": "ee6c0666",
   "metadata": {
    "execution": {
     "iopub.execute_input": "2021-04-04T23:15:44.377712Z",
     "iopub.status.busy": "2021-04-04T23:15:44.376831Z",
     "iopub.status.idle": "2021-04-04T23:15:44.388478Z",
     "shell.execute_reply": "2021-04-04T23:15:44.387490Z"
    },
    "papermill": {
     "duration": 0.037703,
     "end_time": "2021-04-04T23:15:44.388692",
     "exception": false,
     "start_time": "2021-04-04T23:15:44.350989",
     "status": "completed"
    },
    "tags": []
   },
   "outputs": [],
   "source": [
    "df = pd.read_csv(dataset_config['dataset_path'])"
   ]
  },
  {
   "cell_type": "code",
   "execution_count": 6,
   "id": "7eca6c4a",
   "metadata": {
    "execution": {
     "iopub.execute_input": "2021-04-04T23:15:44.459699Z",
     "iopub.status.busy": "2021-04-04T23:15:44.444085Z",
     "iopub.status.idle": "2021-04-04T23:15:44.463927Z",
     "shell.execute_reply": "2021-04-04T23:15:44.463042Z"
    },
    "papermill": {
     "duration": 0.045631,
     "end_time": "2021-04-04T23:15:44.464103",
     "exception": false,
     "start_time": "2021-04-04T23:15:44.418472",
     "status": "completed"
    },
    "tags": []
   },
   "outputs": [
    {
     "name": "stdout",
     "output_type": "stream",
     "text": [
      "<class 'pandas.core.frame.DataFrame'>\n",
      "RangeIndex: 498 entries, 0 to 497\n",
      "Data columns (total 23 columns):\n",
      " #   Column             Non-Null Count  Dtype  \n",
      "---  ------             --------------  -----  \n",
      " 0   id                 498 non-null    int64  \n",
      " 1   loc                498 non-null    float64\n",
      " 2   v(g)               498 non-null    float64\n",
      " 3   ev(g)              498 non-null    float64\n",
      " 4   iv(g)              498 non-null    float64\n",
      " 5   n                  498 non-null    float64\n",
      " 6   v                  498 non-null    float64\n",
      " 7   l                  498 non-null    float64\n",
      " 8   d                  498 non-null    float64\n",
      " 9   i                  498 non-null    float64\n",
      " 10  e                  498 non-null    float64\n",
      " 11  b                  498 non-null    float64\n",
      " 12  t                  498 non-null    float64\n",
      " 13  lOCode             498 non-null    int64  \n",
      " 14  lOComment          498 non-null    int64  \n",
      " 15  lOBlank            498 non-null    int64  \n",
      " 16  locCodeAndComment  498 non-null    int64  \n",
      " 17  uniq_Op            498 non-null    float64\n",
      " 18  uniq_Opnd          498 non-null    float64\n",
      " 19  total_Op           498 non-null    float64\n",
      " 20  total_Opnd         498 non-null    float64\n",
      " 21  branchCount        498 non-null    float64\n",
      " 22  defects            498 non-null    bool   \n",
      "dtypes: bool(1), float64(17), int64(5)\n",
      "memory usage: 86.2 KB\n"
     ]
    }
   ],
   "source": [
    "df.info()"
   ]
  },
  {
   "cell_type": "code",
   "execution_count": 7,
   "id": "3638e5e8",
   "metadata": {
    "execution": {
     "iopub.execute_input": "2021-04-04T23:15:44.516689Z",
     "iopub.status.busy": "2021-04-04T23:15:44.515739Z",
     "iopub.status.idle": "2021-04-04T23:15:44.541241Z",
     "shell.execute_reply": "2021-04-04T23:15:44.541963Z"
    },
    "papermill": {
     "duration": 0.055543,
     "end_time": "2021-04-04T23:15:44.542165",
     "exception": false,
     "start_time": "2021-04-04T23:15:44.486622",
     "status": "completed"
    },
    "tags": []
   },
   "outputs": [
    {
     "data": {
      "text/html": [
       "<div>\n",
       "<style scoped>\n",
       "    .dataframe tbody tr th:only-of-type {\n",
       "        vertical-align: middle;\n",
       "    }\n",
       "\n",
       "    .dataframe tbody tr th {\n",
       "        vertical-align: top;\n",
       "    }\n",
       "\n",
       "    .dataframe thead th {\n",
       "        text-align: right;\n",
       "    }\n",
       "</style>\n",
       "<table border=\"1\" class=\"dataframe\">\n",
       "  <thead>\n",
       "    <tr style=\"text-align: right;\">\n",
       "      <th></th>\n",
       "      <th>id</th>\n",
       "      <th>loc</th>\n",
       "      <th>v(g)</th>\n",
       "      <th>ev(g)</th>\n",
       "      <th>iv(g)</th>\n",
       "      <th>n</th>\n",
       "      <th>v</th>\n",
       "      <th>l</th>\n",
       "      <th>d</th>\n",
       "      <th>i</th>\n",
       "      <th>...</th>\n",
       "      <th>lOCode</th>\n",
       "      <th>lOComment</th>\n",
       "      <th>lOBlank</th>\n",
       "      <th>locCodeAndComment</th>\n",
       "      <th>uniq_Op</th>\n",
       "      <th>uniq_Opnd</th>\n",
       "      <th>total_Op</th>\n",
       "      <th>total_Opnd</th>\n",
       "      <th>branchCount</th>\n",
       "      <th>defects</th>\n",
       "    </tr>\n",
       "  </thead>\n",
       "  <tbody>\n",
       "    <tr>\n",
       "      <th>0</th>\n",
       "      <td>1</td>\n",
       "      <td>1.1</td>\n",
       "      <td>1.4</td>\n",
       "      <td>1.4</td>\n",
       "      <td>1.4</td>\n",
       "      <td>1.3</td>\n",
       "      <td>1.30</td>\n",
       "      <td>1.30</td>\n",
       "      <td>1.30</td>\n",
       "      <td>1.30</td>\n",
       "      <td>...</td>\n",
       "      <td>2</td>\n",
       "      <td>2</td>\n",
       "      <td>2</td>\n",
       "      <td>2</td>\n",
       "      <td>1.2</td>\n",
       "      <td>1.2</td>\n",
       "      <td>1.2</td>\n",
       "      <td>1.2</td>\n",
       "      <td>1.4</td>\n",
       "      <td>False</td>\n",
       "    </tr>\n",
       "    <tr>\n",
       "      <th>1</th>\n",
       "      <td>2</td>\n",
       "      <td>1.0</td>\n",
       "      <td>1.0</td>\n",
       "      <td>1.0</td>\n",
       "      <td>1.0</td>\n",
       "      <td>1.0</td>\n",
       "      <td>1.00</td>\n",
       "      <td>1.00</td>\n",
       "      <td>1.00</td>\n",
       "      <td>1.00</td>\n",
       "      <td>...</td>\n",
       "      <td>1</td>\n",
       "      <td>1</td>\n",
       "      <td>1</td>\n",
       "      <td>1</td>\n",
       "      <td>1.0</td>\n",
       "      <td>1.0</td>\n",
       "      <td>1.0</td>\n",
       "      <td>1.0</td>\n",
       "      <td>1.0</td>\n",
       "      <td>True</td>\n",
       "    </tr>\n",
       "    <tr>\n",
       "      <th>2</th>\n",
       "      <td>3</td>\n",
       "      <td>24.0</td>\n",
       "      <td>5.0</td>\n",
       "      <td>1.0</td>\n",
       "      <td>3.0</td>\n",
       "      <td>63.0</td>\n",
       "      <td>309.13</td>\n",
       "      <td>0.11</td>\n",
       "      <td>9.50</td>\n",
       "      <td>32.54</td>\n",
       "      <td>...</td>\n",
       "      <td>1</td>\n",
       "      <td>0</td>\n",
       "      <td>6</td>\n",
       "      <td>0</td>\n",
       "      <td>15.0</td>\n",
       "      <td>15.0</td>\n",
       "      <td>44.0</td>\n",
       "      <td>19.0</td>\n",
       "      <td>9.0</td>\n",
       "      <td>False</td>\n",
       "    </tr>\n",
       "    <tr>\n",
       "      <th>3</th>\n",
       "      <td>4</td>\n",
       "      <td>20.0</td>\n",
       "      <td>4.0</td>\n",
       "      <td>4.0</td>\n",
       "      <td>2.0</td>\n",
       "      <td>47.0</td>\n",
       "      <td>215.49</td>\n",
       "      <td>0.06</td>\n",
       "      <td>16.00</td>\n",
       "      <td>13.47</td>\n",
       "      <td>...</td>\n",
       "      <td>0</td>\n",
       "      <td>0</td>\n",
       "      <td>3</td>\n",
       "      <td>0</td>\n",
       "      <td>16.0</td>\n",
       "      <td>8.0</td>\n",
       "      <td>31.0</td>\n",
       "      <td>16.0</td>\n",
       "      <td>7.0</td>\n",
       "      <td>False</td>\n",
       "    </tr>\n",
       "    <tr>\n",
       "      <th>4</th>\n",
       "      <td>5</td>\n",
       "      <td>24.0</td>\n",
       "      <td>6.0</td>\n",
       "      <td>6.0</td>\n",
       "      <td>2.0</td>\n",
       "      <td>72.0</td>\n",
       "      <td>346.13</td>\n",
       "      <td>0.06</td>\n",
       "      <td>17.33</td>\n",
       "      <td>19.97</td>\n",
       "      <td>...</td>\n",
       "      <td>0</td>\n",
       "      <td>0</td>\n",
       "      <td>3</td>\n",
       "      <td>0</td>\n",
       "      <td>16.0</td>\n",
       "      <td>12.0</td>\n",
       "      <td>46.0</td>\n",
       "      <td>26.0</td>\n",
       "      <td>11.0</td>\n",
       "      <td>False</td>\n",
       "    </tr>\n",
       "  </tbody>\n",
       "</table>\n",
       "<p>5 rows × 23 columns</p>\n",
       "</div>"
      ],
      "text/plain": [
       "   id   loc  v(g)  ev(g)  iv(g)     n       v     l      d      i  ...  \\\n",
       "0   1   1.1   1.4    1.4    1.4   1.3    1.30  1.30   1.30   1.30  ...   \n",
       "1   2   1.0   1.0    1.0    1.0   1.0    1.00  1.00   1.00   1.00  ...   \n",
       "2   3  24.0   5.0    1.0    3.0  63.0  309.13  0.11   9.50  32.54  ...   \n",
       "3   4  20.0   4.0    4.0    2.0  47.0  215.49  0.06  16.00  13.47  ...   \n",
       "4   5  24.0   6.0    6.0    2.0  72.0  346.13  0.06  17.33  19.97  ...   \n",
       "\n",
       "   lOCode  lOComment  lOBlank  locCodeAndComment  uniq_Op  uniq_Opnd  \\\n",
       "0       2          2        2                  2      1.2        1.2   \n",
       "1       1          1        1                  1      1.0        1.0   \n",
       "2       1          0        6                  0     15.0       15.0   \n",
       "3       0          0        3                  0     16.0        8.0   \n",
       "4       0          0        3                  0     16.0       12.0   \n",
       "\n",
       "   total_Op  total_Opnd  branchCount  defects  \n",
       "0       1.2         1.2          1.4    False  \n",
       "1       1.0         1.0          1.0     True  \n",
       "2      44.0        19.0          9.0    False  \n",
       "3      31.0        16.0          7.0    False  \n",
       "4      46.0        26.0         11.0    False  \n",
       "\n",
       "[5 rows x 23 columns]"
      ]
     },
     "execution_count": 7,
     "metadata": {},
     "output_type": "execute_result"
    }
   ],
   "source": [
    "df.head()"
   ]
  },
  {
   "cell_type": "code",
   "execution_count": 8,
   "id": "733e95eb",
   "metadata": {
    "execution": {
     "iopub.execute_input": "2021-04-04T23:15:44.592746Z",
     "iopub.status.busy": "2021-04-04T23:15:44.591895Z",
     "iopub.status.idle": "2021-04-04T23:15:44.594698Z",
     "shell.execute_reply": "2021-04-04T23:15:44.594143Z"
    },
    "papermill": {
     "duration": 0.029519,
     "end_time": "2021-04-04T23:15:44.594813",
     "exception": false,
     "start_time": "2021-04-04T23:15:44.565294",
     "status": "completed"
    },
    "tags": []
   },
   "outputs": [],
   "source": [
    "del df['id']"
   ]
  },
  {
   "cell_type": "code",
   "execution_count": 9,
   "id": "6ff6f5b0",
   "metadata": {
    "execution": {
     "iopub.execute_input": "2021-04-04T23:15:44.642365Z",
     "iopub.status.busy": "2021-04-04T23:15:44.641565Z",
     "iopub.status.idle": "2021-04-04T23:15:44.643794Z",
     "shell.execute_reply": "2021-04-04T23:15:44.644266Z"
    },
    "papermill": {
     "duration": 0.028071,
     "end_time": "2021-04-04T23:15:44.644410",
     "exception": false,
     "start_time": "2021-04-04T23:15:44.616339",
     "status": "completed"
    },
    "tags": []
   },
   "outputs": [],
   "source": [
    "if PROFILE_REPORTING:\n",
    "    ProfileReport(df).to_widgets()"
   ]
  },
  {
   "cell_type": "markdown",
   "id": "1deaf3f0",
   "metadata": {
    "papermill": {
     "duration": 0.021039,
     "end_time": "2021-04-04T23:15:44.690074",
     "exception": false,
     "start_time": "2021-04-04T23:15:44.669035",
     "status": "completed"
    },
    "tags": []
   },
   "source": [
    "# Preprocess"
   ]
  },
  {
   "cell_type": "code",
   "execution_count": 10,
   "id": "1513e563",
   "metadata": {
    "execution": {
     "iopub.execute_input": "2021-04-04T23:15:44.736947Z",
     "iopub.status.busy": "2021-04-04T23:15:44.736110Z",
     "iopub.status.idle": "2021-04-04T23:15:44.739033Z",
     "shell.execute_reply": "2021-04-04T23:15:44.739881Z"
    },
    "papermill": {
     "duration": 0.029017,
     "end_time": "2021-04-04T23:15:44.740113",
     "exception": false,
     "start_time": "2021-04-04T23:15:44.711096",
     "status": "completed"
    },
    "tags": []
   },
   "outputs": [],
   "source": [
    "working_df = df.copy()"
   ]
  },
  {
   "cell_type": "code",
   "execution_count": 11,
   "id": "3b26d675",
   "metadata": {
    "execution": {
     "iopub.execute_input": "2021-04-04T23:15:44.799801Z",
     "iopub.status.busy": "2021-04-04T23:15:44.798691Z",
     "iopub.status.idle": "2021-04-04T23:15:44.800916Z",
     "shell.execute_reply": "2021-04-04T23:15:44.801412Z"
    },
    "papermill": {
     "duration": 0.031784,
     "end_time": "2021-04-04T23:15:44.801561",
     "exception": false,
     "start_time": "2021-04-04T23:15:44.769777",
     "status": "completed"
    },
    "tags": []
   },
   "outputs": [],
   "source": [
    "working_df['defects'] = working_df['defects'].replace([False, True], [0, 1])"
   ]
  },
  {
   "cell_type": "code",
   "execution_count": 12,
   "id": "eb48604f",
   "metadata": {
    "execution": {
     "iopub.execute_input": "2021-04-04T23:15:44.851942Z",
     "iopub.status.busy": "2021-04-04T23:15:44.851133Z",
     "iopub.status.idle": "2021-04-04T23:15:44.853465Z",
     "shell.execute_reply": "2021-04-04T23:15:44.853938Z"
    },
    "papermill": {
     "duration": 0.028559,
     "end_time": "2021-04-04T23:15:44.854079",
     "exception": false,
     "start_time": "2021-04-04T23:15:44.825520",
     "status": "completed"
    },
    "tags": []
   },
   "outputs": [],
   "source": [
    "for col in dataset_config['delete_columns']:\n",
    "    del working_df[col]"
   ]
  },
  {
   "cell_type": "code",
   "execution_count": 13,
   "id": "9a17bc29",
   "metadata": {
    "execution": {
     "iopub.execute_input": "2021-04-04T23:15:44.908915Z",
     "iopub.status.busy": "2021-04-04T23:15:44.907764Z",
     "iopub.status.idle": "2021-04-04T23:15:44.920816Z",
     "shell.execute_reply": "2021-04-04T23:15:44.919800Z"
    },
    "papermill": {
     "duration": 0.041015,
     "end_time": "2021-04-04T23:15:44.921005",
     "exception": false,
     "start_time": "2021-04-04T23:15:44.879990",
     "status": "completed"
    },
    "tags": []
   },
   "outputs": [],
   "source": [
    "working_df = working_df.drop_duplicates()"
   ]
  },
  {
   "cell_type": "markdown",
   "id": "a4d52ca6",
   "metadata": {
    "papermill": {
     "duration": 0.021386,
     "end_time": "2021-04-04T23:15:44.973435",
     "exception": false,
     "start_time": "2021-04-04T23:15:44.952049",
     "status": "completed"
    },
    "tags": []
   },
   "source": [
    "# Split"
   ]
  },
  {
   "cell_type": "code",
   "execution_count": 14,
   "id": "3e9ee4b5",
   "metadata": {
    "execution": {
     "iopub.execute_input": "2021-04-04T23:15:45.022992Z",
     "iopub.status.busy": "2021-04-04T23:15:45.021990Z",
     "iopub.status.idle": "2021-04-04T23:15:45.057309Z",
     "shell.execute_reply": "2021-04-04T23:15:45.058172Z"
    },
    "papermill": {
     "duration": 0.062376,
     "end_time": "2021-04-04T23:15:45.058415",
     "exception": false,
     "start_time": "2021-04-04T23:15:44.996039",
     "status": "completed"
    },
    "tags": []
   },
   "outputs": [],
   "source": [
    "from sklearn.model_selection import train_test_split"
   ]
  },
  {
   "cell_type": "code",
   "execution_count": 15,
   "id": "274004ce",
   "metadata": {
    "execution": {
     "iopub.execute_input": "2021-04-04T23:15:45.112256Z",
     "iopub.status.busy": "2021-04-04T23:15:45.111640Z",
     "iopub.status.idle": "2021-04-04T23:15:45.117798Z",
     "shell.execute_reply": "2021-04-04T23:15:45.118494Z"
    },
    "papermill": {
     "duration": 0.034517,
     "end_time": "2021-04-04T23:15:45.118693",
     "exception": false,
     "start_time": "2021-04-04T23:15:45.084176",
     "status": "completed"
    },
    "scrolled": true,
    "tags": []
   },
   "outputs": [],
   "source": [
    "inlier, outlier = working_df[working_df['defects'] == 0], working_df[working_df['defects'] == 1]"
   ]
  },
  {
   "cell_type": "code",
   "execution_count": 16,
   "id": "753c7b03",
   "metadata": {
    "execution": {
     "iopub.execute_input": "2021-04-04T23:15:45.171292Z",
     "iopub.status.busy": "2021-04-04T23:15:45.170658Z",
     "iopub.status.idle": "2021-04-04T23:15:45.175610Z",
     "shell.execute_reply": "2021-04-04T23:15:45.176216Z"
    },
    "papermill": {
     "duration": 0.032559,
     "end_time": "2021-04-04T23:15:45.176369",
     "exception": false,
     "start_time": "2021-04-04T23:15:45.143810",
     "status": "completed"
    },
    "tags": []
   },
   "outputs": [],
   "source": [
    "X_inlier = inlier.copy()\n",
    "y_inlier = X_inlier.pop('defects')\n",
    "X_outlier = outlier.copy()\n",
    "y_outlier = X_outlier.pop('defects')"
   ]
  },
  {
   "cell_type": "code",
   "execution_count": 17,
   "id": "2ba43193",
   "metadata": {
    "execution": {
     "iopub.execute_input": "2021-04-04T23:15:45.236171Z",
     "iopub.status.busy": "2021-04-04T23:15:45.235588Z",
     "iopub.status.idle": "2021-04-04T23:15:45.238426Z",
     "shell.execute_reply": "2021-04-04T23:15:45.239120Z"
    },
    "papermill": {
     "duration": 0.033966,
     "end_time": "2021-04-04T23:15:45.239316",
     "exception": false,
     "start_time": "2021-04-04T23:15:45.205350",
     "status": "completed"
    },
    "tags": []
   },
   "outputs": [],
   "source": [
    "test_size = dataset_config['test_size']\n",
    "random_state = dataset_config['random_state']\n",
    "\n",
    "X_inlier_train, X_inlier_test, y_inlier_train, y_inlier_test = train_test_split(\n",
    "    X_inlier,\n",
    "    y_inlier,\n",
    "    test_size=test_size,\n",
    "    random_state=random_state\n",
    ")"
   ]
  },
  {
   "cell_type": "code",
   "execution_count": 18,
   "id": "0b7582ca",
   "metadata": {
    "execution": {
     "iopub.execute_input": "2021-04-04T23:15:45.300185Z",
     "iopub.status.busy": "2021-04-04T23:15:45.299165Z",
     "iopub.status.idle": "2021-04-04T23:15:45.301413Z",
     "shell.execute_reply": "2021-04-04T23:15:45.302047Z"
    },
    "papermill": {
     "duration": 0.034139,
     "end_time": "2021-04-04T23:15:45.302228",
     "exception": false,
     "start_time": "2021-04-04T23:15:45.268089",
     "status": "completed"
    },
    "tags": []
   },
   "outputs": [],
   "source": [
    "test_outlier_size = dataset_config['test_outlier_size']\n",
    "if test_outlier_size > 0.0:\n",
    "    X_outlier_train, X_outlier_test, y_outlier_train, y_outlier_test = train_test_split(\n",
    "        X_outlier,\n",
    "        y_outlier,\n",
    "        test_size=test_outlier_size,\n",
    "        random_state=random_state\n",
    "    )\n",
    "else:\n",
    "    X_outlier_train, y_outlier_train = pd.DataFrame(columns=X_outlier.columns), pd.Series(dtype='int64')\n",
    "    X_outlier_test, y_outlier_test = X_outlier.copy(), y_outlier.copy()"
   ]
  },
  {
   "cell_type": "code",
   "execution_count": 19,
   "id": "c34363db",
   "metadata": {
    "execution": {
     "iopub.execute_input": "2021-04-04T23:15:45.361902Z",
     "iopub.status.busy": "2021-04-04T23:15:45.357820Z",
     "iopub.status.idle": "2021-04-04T23:15:45.364613Z",
     "shell.execute_reply": "2021-04-04T23:15:45.365322Z"
    },
    "papermill": {
     "duration": 0.03958,
     "end_time": "2021-04-04T23:15:45.365519",
     "exception": false,
     "start_time": "2021-04-04T23:15:45.325939",
     "status": "completed"
    },
    "tags": []
   },
   "outputs": [],
   "source": [
    "X_train, y_train = pd.concat([X_inlier_train, X_outlier_train], ignore_index=True), pd.concat([y_inlier_train, y_outlier_train], ignore_index=True)\n",
    "X_test, y_test = pd.concat([X_inlier_test, X_outlier_test], ignore_index=True), pd.concat([y_inlier_test, y_outlier_test], ignore_index=True)"
   ]
  },
  {
   "cell_type": "markdown",
   "id": "7cde7309",
   "metadata": {
    "papermill": {
     "duration": 0.023811,
     "end_time": "2021-04-04T23:15:45.416219",
     "exception": false,
     "start_time": "2021-04-04T23:15:45.392408",
     "status": "completed"
    },
    "tags": []
   },
   "source": [
    "# Model"
   ]
  },
  {
   "cell_type": "code",
   "execution_count": 20,
   "id": "2b12a415",
   "metadata": {
    "execution": {
     "iopub.execute_input": "2021-04-04T23:15:45.476580Z",
     "iopub.status.busy": "2021-04-04T23:15:45.475313Z",
     "iopub.status.idle": "2021-04-04T23:15:45.478689Z",
     "shell.execute_reply": "2021-04-04T23:15:45.478037Z"
    },
    "papermill": {
     "duration": 0.040196,
     "end_time": "2021-04-04T23:15:45.478836",
     "exception": false,
     "start_time": "2021-04-04T23:15:45.438640",
     "status": "completed"
    },
    "tags": []
   },
   "outputs": [],
   "source": [
    "from math import sqrt\n",
    "\n",
    "\n",
    "class KNNDataDescription:\n",
    "    def __init__(self, k=5, outlier_threshold=1.0):\n",
    "        self.k = k\n",
    "        self.outlier_threshold = outlier_threshold\n",
    "        self.X = []\n",
    "    \n",
    "    def fit(self, X):\n",
    "        self.X = [features.to_list() for index, features in X.iterrows()]\n",
    "\n",
    "    def predict(self, entries):\n",
    "        return [self.predict_entry(features.to_list()) for index, features in entries.iterrows()]\n",
    "    \n",
    "    def predict_entry(self, entry):\n",
    "        kth_neighbor, kth_distance = self.get_kth_neighbor(entry, self.k)\n",
    "        kth_kth_neighbor, kth_kth_distance = self.get_kth_neighbor(kth_neighbor, self.k + 1)\n",
    "\n",
    "        outlier_score = kth_distance / (kth_kth_distance + 0.000001)\n",
    "\n",
    "        return 1 if outlier_score < self.outlier_threshold else -1\n",
    "        \n",
    "    def euclidean_distance(self, features1, features2):\n",
    "        distance = 0.0\n",
    "        for feat1, feat2 in zip(features1, features2):\n",
    "            distance += (feat1 - feat2)**2\n",
    "                \n",
    "        return sqrt(distance)\n",
    "\n",
    "    def get_neighbors(self, entry, k):\n",
    "        distance_to_data_points = [\n",
    "            (data_point, self.euclidean_distance(entry, data_point))\n",
    "            for data_point in self.X\n",
    "        ]\n",
    "        sorted_by_distance = sorted(distance_to_data_points, key=lambda tup: tup[1])\n",
    "        neighbors = sorted_by_distance[:k]\n",
    "        return neighbors\n",
    "\n",
    "    def get_kth_neighbor(self, entry, k):\n",
    "        neighbors = self.get_neighbors(entry, k)\n",
    "        return neighbors[-1]\n"
   ]
  },
  {
   "cell_type": "code",
   "execution_count": 21,
   "id": "1fa9ec1c",
   "metadata": {
    "execution": {
     "iopub.execute_input": "2021-04-04T23:15:45.538459Z",
     "iopub.status.busy": "2021-04-04T23:15:45.536985Z",
     "iopub.status.idle": "2021-04-04T23:15:45.562815Z",
     "shell.execute_reply": "2021-04-04T23:15:45.561815Z"
    },
    "papermill": {
     "duration": 0.053579,
     "end_time": "2021-04-04T23:15:45.563006",
     "exception": false,
     "start_time": "2021-04-04T23:15:45.509427",
     "status": "completed"
    },
    "tags": []
   },
   "outputs": [],
   "source": [
    "from sklearn.svm import OneClassSVM\n",
    "\n",
    "\n",
    "models = {\n",
    "    'oneclasssvm': OneClassSVM,\n",
    "    'knndatadescription': KNNDataDescription,\n",
    "}"
   ]
  },
  {
   "cell_type": "code",
   "execution_count": 22,
   "id": "4d72a0b1",
   "metadata": {
    "execution": {
     "iopub.execute_input": "2021-04-04T23:15:45.623158Z",
     "iopub.status.busy": "2021-04-04T23:15:45.622323Z",
     "iopub.status.idle": "2021-04-04T23:15:45.625962Z",
     "shell.execute_reply": "2021-04-04T23:15:45.625012Z"
    },
    "papermill": {
     "duration": 0.030802,
     "end_time": "2021-04-04T23:15:45.626160",
     "exception": false,
     "start_time": "2021-04-04T23:15:45.595358",
     "status": "completed"
    },
    "scrolled": true,
    "tags": []
   },
   "outputs": [],
   "source": [
    "model_cls = models[model_config['model_type']]\n",
    "model = model_cls(**model_config['hyperparameters'])"
   ]
  },
  {
   "cell_type": "markdown",
   "id": "e00cff3b",
   "metadata": {
    "papermill": {
     "duration": 0.022266,
     "end_time": "2021-04-04T23:15:45.676629",
     "exception": false,
     "start_time": "2021-04-04T23:15:45.654363",
     "status": "completed"
    },
    "tags": []
   },
   "source": [
    "# Fit"
   ]
  },
  {
   "cell_type": "code",
   "execution_count": 23,
   "id": "8b2ded89",
   "metadata": {
    "execution": {
     "iopub.execute_input": "2021-04-04T23:15:45.727682Z",
     "iopub.status.busy": "2021-04-04T23:15:45.727081Z",
     "iopub.status.idle": "2021-04-04T23:15:45.757897Z",
     "shell.execute_reply": "2021-04-04T23:15:45.756961Z"
    },
    "papermill": {
     "duration": 0.058438,
     "end_time": "2021-04-04T23:15:45.758126",
     "exception": false,
     "start_time": "2021-04-04T23:15:45.699688",
     "status": "completed"
    },
    "tags": []
   },
   "outputs": [],
   "source": [
    "model.fit(X_train)"
   ]
  },
  {
   "cell_type": "markdown",
   "id": "f99999f7",
   "metadata": {
    "papermill": {
     "duration": 0.023251,
     "end_time": "2021-04-04T23:15:45.805730",
     "exception": false,
     "start_time": "2021-04-04T23:15:45.782479",
     "status": "completed"
    },
    "tags": []
   },
   "source": [
    "# Predict"
   ]
  },
  {
   "cell_type": "code",
   "execution_count": 24,
   "id": "6536fbf7",
   "metadata": {
    "execution": {
     "iopub.execute_input": "2021-04-04T23:15:45.871659Z",
     "iopub.status.busy": "2021-04-04T23:15:45.866612Z",
     "iopub.status.idle": "2021-04-04T23:15:46.197206Z",
     "shell.execute_reply": "2021-04-04T23:15:46.196327Z"
    },
    "papermill": {
     "duration": 0.368473,
     "end_time": "2021-04-04T23:15:46.197373",
     "exception": false,
     "start_time": "2021-04-04T23:15:45.828900",
     "status": "completed"
    },
    "tags": []
   },
   "outputs": [],
   "source": [
    "predictions = model.predict(X_test)"
   ]
  },
  {
   "cell_type": "markdown",
   "id": "aa1c9881",
   "metadata": {
    "papermill": {
     "duration": 0.022561,
     "end_time": "2021-04-04T23:15:46.247794",
     "exception": false,
     "start_time": "2021-04-04T23:15:46.225233",
     "status": "completed"
    },
    "tags": []
   },
   "source": [
    "# Evaluate"
   ]
  },
  {
   "cell_type": "code",
   "execution_count": 25,
   "id": "894f0f04",
   "metadata": {
    "execution": {
     "iopub.execute_input": "2021-04-04T23:15:46.298137Z",
     "iopub.status.busy": "2021-04-04T23:15:46.297483Z",
     "iopub.status.idle": "2021-04-04T23:15:46.299881Z",
     "shell.execute_reply": "2021-04-04T23:15:46.300352Z"
    },
    "papermill": {
     "duration": 0.029895,
     "end_time": "2021-04-04T23:15:46.300495",
     "exception": false,
     "start_time": "2021-04-04T23:15:46.270600",
     "status": "completed"
    },
    "tags": []
   },
   "outputs": [],
   "source": [
    "from sklearn.metrics import f1_score"
   ]
  },
  {
   "cell_type": "code",
   "execution_count": 26,
   "id": "211744d3",
   "metadata": {
    "execution": {
     "iopub.execute_input": "2021-04-04T23:15:46.357554Z",
     "iopub.status.busy": "2021-04-04T23:15:46.356488Z",
     "iopub.status.idle": "2021-04-04T23:15:46.360115Z",
     "shell.execute_reply": "2021-04-04T23:15:46.359275Z"
    },
    "papermill": {
     "duration": 0.034902,
     "end_time": "2021-04-04T23:15:46.360279",
     "exception": false,
     "start_time": "2021-04-04T23:15:46.325377",
     "status": "completed"
    },
    "tags": []
   },
   "outputs": [],
   "source": [
    "y_test = y_test.replace([0, 1], [1, -1])"
   ]
  },
  {
   "cell_type": "code",
   "execution_count": 27,
   "id": "d68a9204",
   "metadata": {
    "execution": {
     "iopub.execute_input": "2021-04-04T23:15:46.421224Z",
     "iopub.status.busy": "2021-04-04T23:15:46.420190Z",
     "iopub.status.idle": "2021-04-04T23:15:46.422471Z",
     "shell.execute_reply": "2021-04-04T23:15:46.423177Z"
    },
    "papermill": {
     "duration": 0.037077,
     "end_time": "2021-04-04T23:15:46.423356",
     "exception": false,
     "start_time": "2021-04-04T23:15:46.386279",
     "status": "completed"
    },
    "tags": []
   },
   "outputs": [],
   "source": [
    "def evaluate(truths, predictions, pos_label, neg_label):\n",
    "    TP = 0\n",
    "    FP = 0\n",
    "    TN = 0\n",
    "    FN = 0\n",
    "\n",
    "    for truth, pred in zip(truths, predictions): \n",
    "        if truth == pred == pos_label:\n",
    "           TP += 1\n",
    "        elif pred == pos_label and truth == neg_label:\n",
    "           FP += 1\n",
    "        elif truth == pred == neg_label:\n",
    "           TN += 1\n",
    "        elif pred == neg_label and truth == pos_label:\n",
    "           FN += 1\n",
    "\n",
    "    precision = TP / (TP + FP)\n",
    "    sensitivity = TP / (TP + FN)\n",
    "    \n",
    "    return {\n",
    "        'true_pos': TP,\n",
    "        'false_pos': FP,\n",
    "        'false_neg': FN,\n",
    "        'true_neg': TN,\n",
    "        'precision': precision,\n",
    "        'sensitivity': sensitivity,\n",
    "        'f1': (2 * (precision * sensitivity)) / (precision + sensitivity)\n",
    "    }\n",
    "\n",
    "score = evaluate(y_test, predictions, pos_label=-1, neg_label=1)"
   ]
  },
  {
   "cell_type": "markdown",
   "id": "93596516",
   "metadata": {
    "papermill": {
     "duration": 0.023167,
     "end_time": "2021-04-04T23:15:46.471420",
     "exception": false,
     "start_time": "2021-04-04T23:15:46.448253",
     "status": "completed"
    },
    "tags": []
   },
   "source": [
    "# Report"
   ]
  },
  {
   "cell_type": "code",
   "execution_count": 28,
   "id": "bea5fba1",
   "metadata": {
    "execution": {
     "iopub.execute_input": "2021-04-04T23:15:46.527219Z",
     "iopub.status.busy": "2021-04-04T23:15:46.525882Z",
     "iopub.status.idle": "2021-04-04T23:15:46.528987Z",
     "shell.execute_reply": "2021-04-04T23:15:46.529716Z"
    },
    "papermill": {
     "duration": 0.035465,
     "end_time": "2021-04-04T23:15:46.529921",
     "exception": false,
     "start_time": "2021-04-04T23:15:46.494456",
     "status": "completed"
    },
    "tags": []
   },
   "outputs": [],
   "source": [
    "import csv\n",
    "\n",
    "\n",
    "dataset_config_name = DATASET_CONFIG_PATH.split('/')[-1].split('.')[0]\n",
    "model_config_name = MODEL_CONFIG_PATH.split('/')[-1].split('.')[0]\n",
    "configuration = f\"dataset_{dataset_config_name}-model_{model_config_name}\"\n",
    "\n",
    "with open('results.csv', 'a') as f:\n",
    "    report = dict({'configuration': configuration}, **score)\n",
    "    writer = csv.DictWriter(f, report.keys())\n",
    "    writer.writerow(report)"
   ]
  }
 ],
 "metadata": {
  "celltoolbar": "Tags",
  "kernelspec": {
   "display_name": "Python 3",
   "language": "python",
   "name": "python3"
  },
  "language_info": {
   "codemirror_mode": {
    "name": "ipython",
    "version": 3
   },
   "file_extension": ".py",
   "mimetype": "text/x-python",
   "name": "python",
   "nbconvert_exporter": "python",
   "pygments_lexer": "ipython3",
   "version": "3.9.1"
  },
  "papermill": {
   "default_parameters": {},
   "duration": 6.040095,
   "end_time": "2021-04-04T23:15:48.109523",
   "environment_variables": {},
   "exception": null,
   "input_path": "main.ipynb",
   "output_path": "runs/dataset_000108-model_000001.ipynb",
   "parameters": {
    "DATASET_CONFIG_PATH": "config/dataset/000108.json",
    "MODEL_CONFIG_PATH": "config/model/000001.json",
    "PROFILE_REPORTING": false
   },
   "start_time": "2021-04-04T23:15:42.069428",
   "version": "2.3.3"
  }
 },
 "nbformat": 4,
 "nbformat_minor": 5
}