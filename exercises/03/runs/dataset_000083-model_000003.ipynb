{
 "cells": [
  {
   "cell_type": "markdown",
   "id": "51c71c25",
   "metadata": {
    "papermill": {
     "duration": 0.030305,
     "end_time": "2021-04-04T23:06:19.328763",
     "exception": false,
     "start_time": "2021-04-04T23:06:19.298458",
     "status": "completed"
    },
    "tags": []
   },
   "source": [
    "# Parametrizing"
   ]
  },
  {
   "cell_type": "code",
   "execution_count": 1,
   "id": "3b136394",
   "metadata": {
    "execution": {
     "iopub.execute_input": "2021-04-04T23:06:19.385947Z",
     "iopub.status.busy": "2021-04-04T23:06:19.384833Z",
     "iopub.status.idle": "2021-04-04T23:06:19.388155Z",
     "shell.execute_reply": "2021-04-04T23:06:19.388970Z"
    },
    "papermill": {
     "duration": 0.038515,
     "end_time": "2021-04-04T23:06:19.389288",
     "exception": false,
     "start_time": "2021-04-04T23:06:19.350773",
     "status": "completed"
    },
    "tags": [
     "parameters"
    ]
   },
   "outputs": [],
   "source": [
    "DATASET_CONFIG_PATH = 'config/dataset/kc1_001.json'\n",
    "MODEL_CONFIG_PATH = 'config/model/knndd_001.json'\n",
    "PROFILE_REPORTING = False"
   ]
  },
  {
   "cell_type": "code",
   "execution_count": 2,
   "id": "c529f332",
   "metadata": {
    "execution": {
     "iopub.execute_input": "2021-04-04T23:06:19.440812Z",
     "iopub.status.busy": "2021-04-04T23:06:19.439599Z",
     "iopub.status.idle": "2021-04-04T23:06:19.441891Z",
     "shell.execute_reply": "2021-04-04T23:06:19.442379Z"
    },
    "papermill": {
     "duration": 0.028091,
     "end_time": "2021-04-04T23:06:19.442527",
     "exception": false,
     "start_time": "2021-04-04T23:06:19.414436",
     "status": "completed"
    },
    "tags": [
     "injected-parameters"
    ]
   },
   "outputs": [],
   "source": [
    "# Parameters\n",
    "DATASET_CONFIG_PATH = \"config/dataset/000083.json\"\n",
    "MODEL_CONFIG_PATH = \"config/model/000003.json\"\n",
    "PROFILE_REPORTING = False\n"
   ]
  },
  {
   "cell_type": "code",
   "execution_count": 3,
   "id": "b80f2a10",
   "metadata": {
    "execution": {
     "iopub.execute_input": "2021-04-04T23:06:19.490737Z",
     "iopub.status.busy": "2021-04-04T23:06:19.490008Z",
     "iopub.status.idle": "2021-04-04T23:06:19.492622Z",
     "shell.execute_reply": "2021-04-04T23:06:19.493385Z"
    },
    "papermill": {
     "duration": 0.029021,
     "end_time": "2021-04-04T23:06:19.493603",
     "exception": false,
     "start_time": "2021-04-04T23:06:19.464582",
     "status": "completed"
    },
    "tags": []
   },
   "outputs": [],
   "source": [
    "import json\n",
    "\n",
    "\n",
    "with open(DATASET_CONFIG_PATH) as f:\n",
    "    dataset_config = json.load(f)\n",
    "\n",
    "with open(MODEL_CONFIG_PATH) as f:\n",
    "    model_config = json.load(f)"
   ]
  },
  {
   "cell_type": "markdown",
   "id": "9a4b0e2d",
   "metadata": {
    "papermill": {
     "duration": 0.019382,
     "end_time": "2021-04-04T23:06:19.538016",
     "exception": false,
     "start_time": "2021-04-04T23:06:19.518634",
     "status": "completed"
    },
    "tags": []
   },
   "source": [
    "# Profiling"
   ]
  },
  {
   "cell_type": "code",
   "execution_count": 4,
   "id": "a3e0289b",
   "metadata": {
    "execution": {
     "iopub.execute_input": "2021-04-04T23:06:19.583191Z",
     "iopub.status.busy": "2021-04-04T23:06:19.581740Z",
     "iopub.status.idle": "2021-04-04T23:06:20.862583Z",
     "shell.execute_reply": "2021-04-04T23:06:20.863246Z"
    },
    "papermill": {
     "duration": 1.305914,
     "end_time": "2021-04-04T23:06:20.863440",
     "exception": false,
     "start_time": "2021-04-04T23:06:19.557526",
     "status": "completed"
    },
    "tags": []
   },
   "outputs": [],
   "source": [
    "import pandas as pd\n",
    "from pandas_profiling import ProfileReport"
   ]
  },
  {
   "cell_type": "code",
   "execution_count": 5,
   "id": "ee6c0666",
   "metadata": {
    "execution": {
     "iopub.execute_input": "2021-04-04T23:06:20.913409Z",
     "iopub.status.busy": "2021-04-04T23:06:20.912513Z",
     "iopub.status.idle": "2021-04-04T23:06:20.922793Z",
     "shell.execute_reply": "2021-04-04T23:06:20.922202Z"
    },
    "papermill": {
     "duration": 0.035081,
     "end_time": "2021-04-04T23:06:20.922912",
     "exception": false,
     "start_time": "2021-04-04T23:06:20.887831",
     "status": "completed"
    },
    "tags": []
   },
   "outputs": [],
   "source": [
    "df = pd.read_csv(dataset_config['dataset_path'])"
   ]
  },
  {
   "cell_type": "code",
   "execution_count": 6,
   "id": "7eca6c4a",
   "metadata": {
    "execution": {
     "iopub.execute_input": "2021-04-04T23:06:20.989337Z",
     "iopub.status.busy": "2021-04-04T23:06:20.988075Z",
     "iopub.status.idle": "2021-04-04T23:06:20.992224Z",
     "shell.execute_reply": "2021-04-04T23:06:20.993115Z"
    },
    "papermill": {
     "duration": 0.044541,
     "end_time": "2021-04-04T23:06:20.993368",
     "exception": false,
     "start_time": "2021-04-04T23:06:20.948827",
     "status": "completed"
    },
    "tags": []
   },
   "outputs": [
    {
     "name": "stdout",
     "output_type": "stream",
     "text": [
      "<class 'pandas.core.frame.DataFrame'>\n",
      "RangeIndex: 498 entries, 0 to 497\n",
      "Data columns (total 23 columns):\n",
      " #   Column             Non-Null Count  Dtype  \n",
      "---  ------             --------------  -----  \n",
      " 0   id                 498 non-null    int64  \n",
      " 1   loc                498 non-null    float64\n",
      " 2   v(g)               498 non-null    float64\n",
      " 3   ev(g)              498 non-null    float64\n",
      " 4   iv(g)              498 non-null    float64\n",
      " 5   n                  498 non-null    float64\n",
      " 6   v                  498 non-null    float64\n",
      " 7   l                  498 non-null    float64\n",
      " 8   d                  498 non-null    float64\n",
      " 9   i                  498 non-null    float64\n",
      " 10  e                  498 non-null    float64\n",
      " 11  b                  498 non-null    float64\n",
      " 12  t                  498 non-null    float64\n",
      " 13  lOCode             498 non-null    int64  \n",
      " 14  lOComment          498 non-null    int64  \n",
      " 15  lOBlank            498 non-null    int64  \n",
      " 16  locCodeAndComment  498 non-null    int64  \n",
      " 17  uniq_Op            498 non-null    float64\n",
      " 18  uniq_Opnd          498 non-null    float64\n",
      " 19  total_Op           498 non-null    float64\n",
      " 20  total_Opnd         498 non-null    float64\n",
      " 21  branchCount        498 non-null    float64\n",
      " 22  defects            498 non-null    bool   \n",
      "dtypes: bool(1), float64(17), int64(5)\n",
      "memory usage: 86.2 KB\n"
     ]
    }
   ],
   "source": [
    "df.info()"
   ]
  },
  {
   "cell_type": "code",
   "execution_count": 7,
   "id": "3638e5e8",
   "metadata": {
    "execution": {
     "iopub.execute_input": "2021-04-04T23:06:21.049840Z",
     "iopub.status.busy": "2021-04-04T23:06:21.048926Z",
     "iopub.status.idle": "2021-04-04T23:06:21.078818Z",
     "shell.execute_reply": "2021-04-04T23:06:21.079513Z"
    },
    "papermill": {
     "duration": 0.061012,
     "end_time": "2021-04-04T23:06:21.079712",
     "exception": false,
     "start_time": "2021-04-04T23:06:21.018700",
     "status": "completed"
    },
    "tags": []
   },
   "outputs": [
    {
     "data": {
      "text/html": [
       "<div>\n",
       "<style scoped>\n",
       "    .dataframe tbody tr th:only-of-type {\n",
       "        vertical-align: middle;\n",
       "    }\n",
       "\n",
       "    .dataframe tbody tr th {\n",
       "        vertical-align: top;\n",
       "    }\n",
       "\n",
       "    .dataframe thead th {\n",
       "        text-align: right;\n",
       "    }\n",
       "</style>\n",
       "<table border=\"1\" class=\"dataframe\">\n",
       "  <thead>\n",
       "    <tr style=\"text-align: right;\">\n",
       "      <th></th>\n",
       "      <th>id</th>\n",
       "      <th>loc</th>\n",
       "      <th>v(g)</th>\n",
       "      <th>ev(g)</th>\n",
       "      <th>iv(g)</th>\n",
       "      <th>n</th>\n",
       "      <th>v</th>\n",
       "      <th>l</th>\n",
       "      <th>d</th>\n",
       "      <th>i</th>\n",
       "      <th>...</th>\n",
       "      <th>lOCode</th>\n",
       "      <th>lOComment</th>\n",
       "      <th>lOBlank</th>\n",
       "      <th>locCodeAndComment</th>\n",
       "      <th>uniq_Op</th>\n",
       "      <th>uniq_Opnd</th>\n",
       "      <th>total_Op</th>\n",
       "      <th>total_Opnd</th>\n",
       "      <th>branchCount</th>\n",
       "      <th>defects</th>\n",
       "    </tr>\n",
       "  </thead>\n",
       "  <tbody>\n",
       "    <tr>\n",
       "      <th>0</th>\n",
       "      <td>1</td>\n",
       "      <td>1.1</td>\n",
       "      <td>1.4</td>\n",
       "      <td>1.4</td>\n",
       "      <td>1.4</td>\n",
       "      <td>1.3</td>\n",
       "      <td>1.30</td>\n",
       "      <td>1.30</td>\n",
       "      <td>1.30</td>\n",
       "      <td>1.30</td>\n",
       "      <td>...</td>\n",
       "      <td>2</td>\n",
       "      <td>2</td>\n",
       "      <td>2</td>\n",
       "      <td>2</td>\n",
       "      <td>1.2</td>\n",
       "      <td>1.2</td>\n",
       "      <td>1.2</td>\n",
       "      <td>1.2</td>\n",
       "      <td>1.4</td>\n",
       "      <td>False</td>\n",
       "    </tr>\n",
       "    <tr>\n",
       "      <th>1</th>\n",
       "      <td>2</td>\n",
       "      <td>1.0</td>\n",
       "      <td>1.0</td>\n",
       "      <td>1.0</td>\n",
       "      <td>1.0</td>\n",
       "      <td>1.0</td>\n",
       "      <td>1.00</td>\n",
       "      <td>1.00</td>\n",
       "      <td>1.00</td>\n",
       "      <td>1.00</td>\n",
       "      <td>...</td>\n",
       "      <td>1</td>\n",
       "      <td>1</td>\n",
       "      <td>1</td>\n",
       "      <td>1</td>\n",
       "      <td>1.0</td>\n",
       "      <td>1.0</td>\n",
       "      <td>1.0</td>\n",
       "      <td>1.0</td>\n",
       "      <td>1.0</td>\n",
       "      <td>True</td>\n",
       "    </tr>\n",
       "    <tr>\n",
       "      <th>2</th>\n",
       "      <td>3</td>\n",
       "      <td>24.0</td>\n",
       "      <td>5.0</td>\n",
       "      <td>1.0</td>\n",
       "      <td>3.0</td>\n",
       "      <td>63.0</td>\n",
       "      <td>309.13</td>\n",
       "      <td>0.11</td>\n",
       "      <td>9.50</td>\n",
       "      <td>32.54</td>\n",
       "      <td>...</td>\n",
       "      <td>1</td>\n",
       "      <td>0</td>\n",
       "      <td>6</td>\n",
       "      <td>0</td>\n",
       "      <td>15.0</td>\n",
       "      <td>15.0</td>\n",
       "      <td>44.0</td>\n",
       "      <td>19.0</td>\n",
       "      <td>9.0</td>\n",
       "      <td>False</td>\n",
       "    </tr>\n",
       "    <tr>\n",
       "      <th>3</th>\n",
       "      <td>4</td>\n",
       "      <td>20.0</td>\n",
       "      <td>4.0</td>\n",
       "      <td>4.0</td>\n",
       "      <td>2.0</td>\n",
       "      <td>47.0</td>\n",
       "      <td>215.49</td>\n",
       "      <td>0.06</td>\n",
       "      <td>16.00</td>\n",
       "      <td>13.47</td>\n",
       "      <td>...</td>\n",
       "      <td>0</td>\n",
       "      <td>0</td>\n",
       "      <td>3</td>\n",
       "      <td>0</td>\n",
       "      <td>16.0</td>\n",
       "      <td>8.0</td>\n",
       "      <td>31.0</td>\n",
       "      <td>16.0</td>\n",
       "      <td>7.0</td>\n",
       "      <td>False</td>\n",
       "    </tr>\n",
       "    <tr>\n",
       "      <th>4</th>\n",
       "      <td>5</td>\n",
       "      <td>24.0</td>\n",
       "      <td>6.0</td>\n",
       "      <td>6.0</td>\n",
       "      <td>2.0</td>\n",
       "      <td>72.0</td>\n",
       "      <td>346.13</td>\n",
       "      <td>0.06</td>\n",
       "      <td>17.33</td>\n",
       "      <td>19.97</td>\n",
       "      <td>...</td>\n",
       "      <td>0</td>\n",
       "      <td>0</td>\n",
       "      <td>3</td>\n",
       "      <td>0</td>\n",
       "      <td>16.0</td>\n",
       "      <td>12.0</td>\n",
       "      <td>46.0</td>\n",
       "      <td>26.0</td>\n",
       "      <td>11.0</td>\n",
       "      <td>False</td>\n",
       "    </tr>\n",
       "  </tbody>\n",
       "</table>\n",
       "<p>5 rows × 23 columns</p>\n",
       "</div>"
      ],
      "text/plain": [
       "   id   loc  v(g)  ev(g)  iv(g)     n       v     l      d      i  ...  \\\n",
       "0   1   1.1   1.4    1.4    1.4   1.3    1.30  1.30   1.30   1.30  ...   \n",
       "1   2   1.0   1.0    1.0    1.0   1.0    1.00  1.00   1.00   1.00  ...   \n",
       "2   3  24.0   5.0    1.0    3.0  63.0  309.13  0.11   9.50  32.54  ...   \n",
       "3   4  20.0   4.0    4.0    2.0  47.0  215.49  0.06  16.00  13.47  ...   \n",
       "4   5  24.0   6.0    6.0    2.0  72.0  346.13  0.06  17.33  19.97  ...   \n",
       "\n",
       "   lOCode  lOComment  lOBlank  locCodeAndComment  uniq_Op  uniq_Opnd  \\\n",
       "0       2          2        2                  2      1.2        1.2   \n",
       "1       1          1        1                  1      1.0        1.0   \n",
       "2       1          0        6                  0     15.0       15.0   \n",
       "3       0          0        3                  0     16.0        8.0   \n",
       "4       0          0        3                  0     16.0       12.0   \n",
       "\n",
       "   total_Op  total_Opnd  branchCount  defects  \n",
       "0       1.2         1.2          1.4    False  \n",
       "1       1.0         1.0          1.0     True  \n",
       "2      44.0        19.0          9.0    False  \n",
       "3      31.0        16.0          7.0    False  \n",
       "4      46.0        26.0         11.0    False  \n",
       "\n",
       "[5 rows x 23 columns]"
      ]
     },
     "execution_count": 7,
     "metadata": {},
     "output_type": "execute_result"
    }
   ],
   "source": [
    "df.head()"
   ]
  },
  {
   "cell_type": "code",
   "execution_count": 8,
   "id": "733e95eb",
   "metadata": {
    "execution": {
     "iopub.execute_input": "2021-04-04T23:06:21.135968Z",
     "iopub.status.busy": "2021-04-04T23:06:21.135280Z",
     "iopub.status.idle": "2021-04-04T23:06:21.139426Z",
     "shell.execute_reply": "2021-04-04T23:06:21.138691Z"
    },
    "papermill": {
     "duration": 0.029898,
     "end_time": "2021-04-04T23:06:21.139591",
     "exception": false,
     "start_time": "2021-04-04T23:06:21.109693",
     "status": "completed"
    },
    "tags": []
   },
   "outputs": [],
   "source": [
    "del df['id']"
   ]
  },
  {
   "cell_type": "code",
   "execution_count": 9,
   "id": "6ff6f5b0",
   "metadata": {
    "execution": {
     "iopub.execute_input": "2021-04-04T23:06:21.193732Z",
     "iopub.status.busy": "2021-04-04T23:06:21.193029Z",
     "iopub.status.idle": "2021-04-04T23:06:21.195433Z",
     "shell.execute_reply": "2021-04-04T23:06:21.196093Z"
    },
    "papermill": {
     "duration": 0.029152,
     "end_time": "2021-04-04T23:06:21.196283",
     "exception": false,
     "start_time": "2021-04-04T23:06:21.167131",
     "status": "completed"
    },
    "tags": []
   },
   "outputs": [],
   "source": [
    "if PROFILE_REPORTING:\n",
    "    ProfileReport(df).to_widgets()"
   ]
  },
  {
   "cell_type": "markdown",
   "id": "1deaf3f0",
   "metadata": {
    "papermill": {
     "duration": 0.021397,
     "end_time": "2021-04-04T23:06:21.243215",
     "exception": false,
     "start_time": "2021-04-04T23:06:21.221818",
     "status": "completed"
    },
    "tags": []
   },
   "source": [
    "# Preprocess"
   ]
  },
  {
   "cell_type": "code",
   "execution_count": 10,
   "id": "1513e563",
   "metadata": {
    "execution": {
     "iopub.execute_input": "2021-04-04T23:06:21.291660Z",
     "iopub.status.busy": "2021-04-04T23:06:21.290611Z",
     "iopub.status.idle": "2021-04-04T23:06:21.293264Z",
     "shell.execute_reply": "2021-04-04T23:06:21.292771Z"
    },
    "papermill": {
     "duration": 0.028661,
     "end_time": "2021-04-04T23:06:21.293381",
     "exception": false,
     "start_time": "2021-04-04T23:06:21.264720",
     "status": "completed"
    },
    "tags": []
   },
   "outputs": [],
   "source": [
    "working_df = df.copy()"
   ]
  },
  {
   "cell_type": "code",
   "execution_count": 11,
   "id": "3b26d675",
   "metadata": {
    "execution": {
     "iopub.execute_input": "2021-04-04T23:06:21.347866Z",
     "iopub.status.busy": "2021-04-04T23:06:21.346827Z",
     "iopub.status.idle": "2021-04-04T23:06:21.350111Z",
     "shell.execute_reply": "2021-04-04T23:06:21.349533Z"
    },
    "papermill": {
     "duration": 0.031285,
     "end_time": "2021-04-04T23:06:21.350234",
     "exception": false,
     "start_time": "2021-04-04T23:06:21.318949",
     "status": "completed"
    },
    "tags": []
   },
   "outputs": [],
   "source": [
    "working_df['defects'] = working_df['defects'].replace([False, True], [0, 1])"
   ]
  },
  {
   "cell_type": "code",
   "execution_count": 12,
   "id": "eb48604f",
   "metadata": {
    "execution": {
     "iopub.execute_input": "2021-04-04T23:06:21.400606Z",
     "iopub.status.busy": "2021-04-04T23:06:21.399627Z",
     "iopub.status.idle": "2021-04-04T23:06:21.402421Z",
     "shell.execute_reply": "2021-04-04T23:06:21.402967Z"
    },
    "papermill": {
     "duration": 0.029948,
     "end_time": "2021-04-04T23:06:21.403124",
     "exception": false,
     "start_time": "2021-04-04T23:06:21.373176",
     "status": "completed"
    },
    "tags": []
   },
   "outputs": [],
   "source": [
    "for col in dataset_config['delete_columns']:\n",
    "    del working_df[col]"
   ]
  },
  {
   "cell_type": "code",
   "execution_count": 13,
   "id": "9a17bc29",
   "metadata": {
    "execution": {
     "iopub.execute_input": "2021-04-04T23:06:21.456222Z",
     "iopub.status.busy": "2021-04-04T23:06:21.455595Z",
     "iopub.status.idle": "2021-04-04T23:06:21.463247Z",
     "shell.execute_reply": "2021-04-04T23:06:21.463837Z"
    },
    "papermill": {
     "duration": 0.036822,
     "end_time": "2021-04-04T23:06:21.464020",
     "exception": false,
     "start_time": "2021-04-04T23:06:21.427198",
     "status": "completed"
    },
    "tags": []
   },
   "outputs": [],
   "source": [
    "working_df = working_df.drop_duplicates()"
   ]
  },
  {
   "cell_type": "markdown",
   "id": "a4d52ca6",
   "metadata": {
    "papermill": {
     "duration": 0.021259,
     "end_time": "2021-04-04T23:06:21.514889",
     "exception": false,
     "start_time": "2021-04-04T23:06:21.493630",
     "status": "completed"
    },
    "tags": []
   },
   "source": [
    "# Split"
   ]
  },
  {
   "cell_type": "code",
   "execution_count": 14,
   "id": "3e9ee4b5",
   "metadata": {
    "execution": {
     "iopub.execute_input": "2021-04-04T23:06:21.563150Z",
     "iopub.status.busy": "2021-04-04T23:06:21.562319Z",
     "iopub.status.idle": "2021-04-04T23:06:21.596981Z",
     "shell.execute_reply": "2021-04-04T23:06:21.597808Z"
    },
    "papermill": {
     "duration": 0.061582,
     "end_time": "2021-04-04T23:06:21.598055",
     "exception": false,
     "start_time": "2021-04-04T23:06:21.536473",
     "status": "completed"
    },
    "tags": []
   },
   "outputs": [],
   "source": [
    "from sklearn.model_selection import train_test_split"
   ]
  },
  {
   "cell_type": "code",
   "execution_count": 15,
   "id": "274004ce",
   "metadata": {
    "execution": {
     "iopub.execute_input": "2021-04-04T23:06:21.658426Z",
     "iopub.status.busy": "2021-04-04T23:06:21.657464Z",
     "iopub.status.idle": "2021-04-04T23:06:21.664381Z",
     "shell.execute_reply": "2021-04-04T23:06:21.665244Z"
    },
    "papermill": {
     "duration": 0.035398,
     "end_time": "2021-04-04T23:06:21.665486",
     "exception": false,
     "start_time": "2021-04-04T23:06:21.630088",
     "status": "completed"
    },
    "scrolled": true,
    "tags": []
   },
   "outputs": [],
   "source": [
    "inlier, outlier = working_df[working_df['defects'] == 0], working_df[working_df['defects'] == 1]"
   ]
  },
  {
   "cell_type": "code",
   "execution_count": 16,
   "id": "753c7b03",
   "metadata": {
    "execution": {
     "iopub.execute_input": "2021-04-04T23:06:21.722277Z",
     "iopub.status.busy": "2021-04-04T23:06:21.721257Z",
     "iopub.status.idle": "2021-04-04T23:06:21.726320Z",
     "shell.execute_reply": "2021-04-04T23:06:21.727133Z"
    },
    "papermill": {
     "duration": 0.033127,
     "end_time": "2021-04-04T23:06:21.727374",
     "exception": false,
     "start_time": "2021-04-04T23:06:21.694247",
     "status": "completed"
    },
    "tags": []
   },
   "outputs": [],
   "source": [
    "X_inlier = inlier.copy()\n",
    "y_inlier = X_inlier.pop('defects')\n",
    "X_outlier = outlier.copy()\n",
    "y_outlier = X_outlier.pop('defects')"
   ]
  },
  {
   "cell_type": "code",
   "execution_count": 17,
   "id": "2ba43193",
   "metadata": {
    "execution": {
     "iopub.execute_input": "2021-04-04T23:06:21.797142Z",
     "iopub.status.busy": "2021-04-04T23:06:21.796388Z",
     "iopub.status.idle": "2021-04-04T23:06:21.799724Z",
     "shell.execute_reply": "2021-04-04T23:06:21.799056Z"
    },
    "papermill": {
     "duration": 0.033792,
     "end_time": "2021-04-04T23:06:21.799876",
     "exception": false,
     "start_time": "2021-04-04T23:06:21.766084",
     "status": "completed"
    },
    "tags": []
   },
   "outputs": [],
   "source": [
    "test_size = dataset_config['test_size']\n",
    "random_state = dataset_config['random_state']\n",
    "\n",
    "X_inlier_train, X_inlier_test, y_inlier_train, y_inlier_test = train_test_split(\n",
    "    X_inlier,\n",
    "    y_inlier,\n",
    "    test_size=test_size,\n",
    "    random_state=random_state\n",
    ")"
   ]
  },
  {
   "cell_type": "code",
   "execution_count": 18,
   "id": "0b7582ca",
   "metadata": {
    "execution": {
     "iopub.execute_input": "2021-04-04T23:06:21.861451Z",
     "iopub.status.busy": "2021-04-04T23:06:21.860363Z",
     "iopub.status.idle": "2021-04-04T23:06:21.862994Z",
     "shell.execute_reply": "2021-04-04T23:06:21.863657Z"
    },
    "papermill": {
     "duration": 0.037728,
     "end_time": "2021-04-04T23:06:21.863849",
     "exception": false,
     "start_time": "2021-04-04T23:06:21.826121",
     "status": "completed"
    },
    "tags": []
   },
   "outputs": [],
   "source": [
    "test_outlier_size = dataset_config['test_outlier_size']\n",
    "if test_outlier_size > 0.0:\n",
    "    X_outlier_train, X_outlier_test, y_outlier_train, y_outlier_test = train_test_split(\n",
    "        X_outlier,\n",
    "        y_outlier,\n",
    "        test_size=test_outlier_size,\n",
    "        random_state=random_state\n",
    "    )\n",
    "else:\n",
    "    X_outlier_train, y_outlier_train = pd.DataFrame(columns=X_outlier.columns), pd.Series(dtype='int64')\n",
    "    X_outlier_test, y_outlier_test = X_outlier.copy(), y_outlier.copy()"
   ]
  },
  {
   "cell_type": "code",
   "execution_count": 19,
   "id": "c34363db",
   "metadata": {
    "execution": {
     "iopub.execute_input": "2021-04-04T23:06:21.921548Z",
     "iopub.status.busy": "2021-04-04T23:06:21.920827Z",
     "iopub.status.idle": "2021-04-04T23:06:21.922927Z",
     "shell.execute_reply": "2021-04-04T23:06:21.923607Z"
    },
    "papermill": {
     "duration": 0.03468,
     "end_time": "2021-04-04T23:06:21.923802",
     "exception": false,
     "start_time": "2021-04-04T23:06:21.889122",
     "status": "completed"
    },
    "tags": []
   },
   "outputs": [],
   "source": [
    "X_train, y_train = pd.concat([X_inlier_train, X_outlier_train], ignore_index=True), pd.concat([y_inlier_train, y_outlier_train], ignore_index=True)\n",
    "X_test, y_test = pd.concat([X_inlier_test, X_outlier_test], ignore_index=True), pd.concat([y_inlier_test, y_outlier_test], ignore_index=True)"
   ]
  },
  {
   "cell_type": "markdown",
   "id": "7cde7309",
   "metadata": {
    "papermill": {
     "duration": 0.022175,
     "end_time": "2021-04-04T23:06:21.973190",
     "exception": false,
     "start_time": "2021-04-04T23:06:21.951015",
     "status": "completed"
    },
    "tags": []
   },
   "source": [
    "# Model"
   ]
  },
  {
   "cell_type": "code",
   "execution_count": 20,
   "id": "2b12a415",
   "metadata": {
    "execution": {
     "iopub.execute_input": "2021-04-04T23:06:22.031240Z",
     "iopub.status.busy": "2021-04-04T23:06:22.030201Z",
     "iopub.status.idle": "2021-04-04T23:06:22.032709Z",
     "shell.execute_reply": "2021-04-04T23:06:22.033394Z"
    },
    "papermill": {
     "duration": 0.037972,
     "end_time": "2021-04-04T23:06:22.033590",
     "exception": false,
     "start_time": "2021-04-04T23:06:21.995618",
     "status": "completed"
    },
    "tags": []
   },
   "outputs": [],
   "source": [
    "from math import sqrt\n",
    "\n",
    "\n",
    "class KNNDataDescription:\n",
    "    def __init__(self, k=5, outlier_threshold=1.0):\n",
    "        self.k = k\n",
    "        self.outlier_threshold = outlier_threshold\n",
    "        self.X = []\n",
    "    \n",
    "    def fit(self, X):\n",
    "        self.X = [features.to_list() for index, features in X.iterrows()]\n",
    "\n",
    "    def predict(self, entries):\n",
    "        return [self.predict_entry(features.to_list()) for index, features in entries.iterrows()]\n",
    "    \n",
    "    def predict_entry(self, entry):\n",
    "        kth_neighbor, kth_distance = self.get_kth_neighbor(entry, self.k)\n",
    "        kth_kth_neighbor, kth_kth_distance = self.get_kth_neighbor(kth_neighbor, self.k + 1)\n",
    "\n",
    "        outlier_score = kth_distance / (kth_kth_distance + 0.000001)\n",
    "\n",
    "        return 1 if outlier_score < self.outlier_threshold else -1\n",
    "        \n",
    "    def euclidean_distance(self, features1, features2):\n",
    "        distance = 0.0\n",
    "        for feat1, feat2 in zip(features1, features2):\n",
    "            distance += (feat1 - feat2)**2\n",
    "                \n",
    "        return sqrt(distance)\n",
    "\n",
    "    def get_neighbors(self, entry, k):\n",
    "        distance_to_data_points = [\n",
    "            (data_point, self.euclidean_distance(entry, data_point))\n",
    "            for data_point in self.X\n",
    "        ]\n",
    "        sorted_by_distance = sorted(distance_to_data_points, key=lambda tup: tup[1])\n",
    "        neighbors = sorted_by_distance[:k]\n",
    "        return neighbors\n",
    "\n",
    "    def get_kth_neighbor(self, entry, k):\n",
    "        neighbors = self.get_neighbors(entry, k)\n",
    "        return neighbors[-1]\n"
   ]
  },
  {
   "cell_type": "code",
   "execution_count": 21,
   "id": "1fa9ec1c",
   "metadata": {
    "execution": {
     "iopub.execute_input": "2021-04-04T23:06:22.090826Z",
     "iopub.status.busy": "2021-04-04T23:06:22.089943Z",
     "iopub.status.idle": "2021-04-04T23:06:22.113530Z",
     "shell.execute_reply": "2021-04-04T23:06:22.112417Z"
    },
    "papermill": {
     "duration": 0.05138,
     "end_time": "2021-04-04T23:06:22.113744",
     "exception": false,
     "start_time": "2021-04-04T23:06:22.062364",
     "status": "completed"
    },
    "tags": []
   },
   "outputs": [],
   "source": [
    "from sklearn.svm import OneClassSVM\n",
    "\n",
    "\n",
    "models = {\n",
    "    'oneclasssvm': OneClassSVM,\n",
    "    'knndatadescription': KNNDataDescription,\n",
    "}"
   ]
  },
  {
   "cell_type": "code",
   "execution_count": 22,
   "id": "4d72a0b1",
   "metadata": {
    "execution": {
     "iopub.execute_input": "2021-04-04T23:06:22.171765Z",
     "iopub.status.busy": "2021-04-04T23:06:22.171051Z",
     "iopub.status.idle": "2021-04-04T23:06:22.173718Z",
     "shell.execute_reply": "2021-04-04T23:06:22.174530Z"
    },
    "papermill": {
     "duration": 0.031496,
     "end_time": "2021-04-04T23:06:22.174753",
     "exception": false,
     "start_time": "2021-04-04T23:06:22.143257",
     "status": "completed"
    },
    "scrolled": true,
    "tags": []
   },
   "outputs": [],
   "source": [
    "model_cls = models[model_config['model_type']]\n",
    "model = model_cls(**model_config['hyperparameters'])"
   ]
  },
  {
   "cell_type": "markdown",
   "id": "e00cff3b",
   "metadata": {
    "papermill": {
     "duration": 0.022468,
     "end_time": "2021-04-04T23:06:22.225379",
     "exception": false,
     "start_time": "2021-04-04T23:06:22.202911",
     "status": "completed"
    },
    "tags": []
   },
   "source": [
    "# Fit"
   ]
  },
  {
   "cell_type": "code",
   "execution_count": 23,
   "id": "8b2ded89",
   "metadata": {
    "execution": {
     "iopub.execute_input": "2021-04-04T23:06:22.280500Z",
     "iopub.status.busy": "2021-04-04T23:06:22.274741Z",
     "iopub.status.idle": "2021-04-04T23:06:22.303204Z",
     "shell.execute_reply": "2021-04-04T23:06:22.302266Z"
    },
    "papermill": {
     "duration": 0.055504,
     "end_time": "2021-04-04T23:06:22.303385",
     "exception": false,
     "start_time": "2021-04-04T23:06:22.247881",
     "status": "completed"
    },
    "tags": []
   },
   "outputs": [],
   "source": [
    "model.fit(X_train)"
   ]
  },
  {
   "cell_type": "markdown",
   "id": "f99999f7",
   "metadata": {
    "papermill": {
     "duration": 0.025498,
     "end_time": "2021-04-04T23:06:22.359709",
     "exception": false,
     "start_time": "2021-04-04T23:06:22.334211",
     "status": "completed"
    },
    "tags": []
   },
   "source": [
    "# Predict"
   ]
  },
  {
   "cell_type": "code",
   "execution_count": 24,
   "id": "6536fbf7",
   "metadata": {
    "execution": {
     "iopub.execute_input": "2021-04-04T23:06:22.413899Z",
     "iopub.status.busy": "2021-04-04T23:06:22.413271Z",
     "iopub.status.idle": "2021-04-04T23:06:22.823839Z",
     "shell.execute_reply": "2021-04-04T23:06:22.824349Z"
    },
    "papermill": {
     "duration": 0.44122,
     "end_time": "2021-04-04T23:06:22.824502",
     "exception": false,
     "start_time": "2021-04-04T23:06:22.383282",
     "status": "completed"
    },
    "tags": []
   },
   "outputs": [],
   "source": [
    "predictions = model.predict(X_test)"
   ]
  },
  {
   "cell_type": "markdown",
   "id": "aa1c9881",
   "metadata": {
    "papermill": {
     "duration": 0.022486,
     "end_time": "2021-04-04T23:06:22.870604",
     "exception": false,
     "start_time": "2021-04-04T23:06:22.848118",
     "status": "completed"
    },
    "tags": []
   },
   "source": [
    "# Evaluate"
   ]
  },
  {
   "cell_type": "code",
   "execution_count": 25,
   "id": "894f0f04",
   "metadata": {
    "execution": {
     "iopub.execute_input": "2021-04-04T23:06:22.921304Z",
     "iopub.status.busy": "2021-04-04T23:06:22.920573Z",
     "iopub.status.idle": "2021-04-04T23:06:22.923632Z",
     "shell.execute_reply": "2021-04-04T23:06:22.922841Z"
    },
    "papermill": {
     "duration": 0.030334,
     "end_time": "2021-04-04T23:06:22.923768",
     "exception": false,
     "start_time": "2021-04-04T23:06:22.893434",
     "status": "completed"
    },
    "tags": []
   },
   "outputs": [],
   "source": [
    "from sklearn.metrics import f1_score"
   ]
  },
  {
   "cell_type": "code",
   "execution_count": 26,
   "id": "211744d3",
   "metadata": {
    "execution": {
     "iopub.execute_input": "2021-04-04T23:06:22.977537Z",
     "iopub.status.busy": "2021-04-04T23:06:22.976677Z",
     "iopub.status.idle": "2021-04-04T23:06:22.979340Z",
     "shell.execute_reply": "2021-04-04T23:06:22.978773Z"
    },
    "papermill": {
     "duration": 0.030037,
     "end_time": "2021-04-04T23:06:22.979457",
     "exception": false,
     "start_time": "2021-04-04T23:06:22.949420",
     "status": "completed"
    },
    "tags": []
   },
   "outputs": [],
   "source": [
    "y_test = y_test.replace([0, 1], [1, -1])"
   ]
  },
  {
   "cell_type": "code",
   "execution_count": 27,
   "id": "d68a9204",
   "metadata": {
    "execution": {
     "iopub.execute_input": "2021-04-04T23:06:23.035017Z",
     "iopub.status.busy": "2021-04-04T23:06:23.034059Z",
     "iopub.status.idle": "2021-04-04T23:06:23.036933Z",
     "shell.execute_reply": "2021-04-04T23:06:23.036224Z"
    },
    "papermill": {
     "duration": 0.03361,
     "end_time": "2021-04-04T23:06:23.037069",
     "exception": false,
     "start_time": "2021-04-04T23:06:23.003459",
     "status": "completed"
    },
    "tags": []
   },
   "outputs": [],
   "source": [
    "def evaluate(truths, predictions, pos_label, neg_label):\n",
    "    TP = 0\n",
    "    FP = 0\n",
    "    TN = 0\n",
    "    FN = 0\n",
    "\n",
    "    for truth, pred in zip(truths, predictions): \n",
    "        if truth == pred == pos_label:\n",
    "           TP += 1\n",
    "        elif pred == pos_label and truth == neg_label:\n",
    "           FP += 1\n",
    "        elif truth == pred == neg_label:\n",
    "           TN += 1\n",
    "        elif pred == neg_label and truth == pos_label:\n",
    "           FN += 1\n",
    "\n",
    "    precision = TP / (TP + FP)\n",
    "    sensitivity = TP / (TP + FN)\n",
    "    \n",
    "    return {\n",
    "        'true_pos': TP,\n",
    "        'false_pos': FP,\n",
    "        'false_neg': FN,\n",
    "        'true_neg': TN,\n",
    "        'precision': precision,\n",
    "        'sensitivity': sensitivity,\n",
    "        'f1': (2 * (precision * sensitivity)) / (precision + sensitivity)\n",
    "    }\n",
    "\n",
    "score = evaluate(y_test, predictions, pos_label=-1, neg_label=1)"
   ]
  },
  {
   "cell_type": "markdown",
   "id": "93596516",
   "metadata": {
    "papermill": {
     "duration": 0.023357,
     "end_time": "2021-04-04T23:06:23.090246",
     "exception": false,
     "start_time": "2021-04-04T23:06:23.066889",
     "status": "completed"
    },
    "tags": []
   },
   "source": [
    "# Report"
   ]
  },
  {
   "cell_type": "code",
   "execution_count": 28,
   "id": "bea5fba1",
   "metadata": {
    "execution": {
     "iopub.execute_input": "2021-04-04T23:06:23.143942Z",
     "iopub.status.busy": "2021-04-04T23:06:23.143346Z",
     "iopub.status.idle": "2021-04-04T23:06:23.146103Z",
     "shell.execute_reply": "2021-04-04T23:06:23.146887Z"
    },
    "papermill": {
     "duration": 0.033868,
     "end_time": "2021-04-04T23:06:23.147101",
     "exception": false,
     "start_time": "2021-04-04T23:06:23.113233",
     "status": "completed"
    },
    "tags": []
   },
   "outputs": [],
   "source": [
    "import csv\n",
    "\n",
    "\n",
    "dataset_config_name = DATASET_CONFIG_PATH.split('/')[-1].split('.')[0]\n",
    "model_config_name = MODEL_CONFIG_PATH.split('/')[-1].split('.')[0]\n",
    "configuration = f\"dataset_{dataset_config_name}-model_{model_config_name}\"\n",
    "\n",
    "with open('results.csv', 'a') as f:\n",
    "    report = dict({'configuration': configuration}, **score)\n",
    "    writer = csv.DictWriter(f, report.keys())\n",
    "    writer.writerow(report)"
   ]
  }
 ],
 "metadata": {
  "celltoolbar": "Tags",
  "kernelspec": {
   "display_name": "Python 3",
   "language": "python",
   "name": "python3"
  },
  "language_info": {
   "codemirror_mode": {
    "name": "ipython",
    "version": 3
   },
   "file_extension": ".py",
   "mimetype": "text/x-python",
   "name": "python",
   "nbconvert_exporter": "python",
   "pygments_lexer": "ipython3",
   "version": "3.9.1"
  },
  "papermill": {
   "default_parameters": {},
   "duration": 6.052666,
   "end_time": "2021-04-04T23:06:24.416748",
   "environment_variables": {},
   "exception": null,
   "input_path": "main.ipynb",
   "output_path": "runs/dataset_000083-model_000003.ipynb",
   "parameters": {
    "DATASET_CONFIG_PATH": "config/dataset/000083.json",
    "MODEL_CONFIG_PATH": "config/model/000003.json",
    "PROFILE_REPORTING": false
   },
   "start_time": "2021-04-04T23:06:18.364082",
   "version": "2.3.3"
  }
 },
 "nbformat": 4,
 "nbformat_minor": 5
}