{
 "cells": [
  {
   "cell_type": "markdown",
   "id": "51c71c25",
   "metadata": {
    "papermill": {
     "duration": 0.032816,
     "end_time": "2021-04-04T23:14:06.209555",
     "exception": false,
     "start_time": "2021-04-04T23:14:06.176739",
     "status": "completed"
    },
    "tags": []
   },
   "source": [
    "# Parametrizing"
   ]
  },
  {
   "cell_type": "code",
   "execution_count": 1,
   "id": "3b136394",
   "metadata": {
    "execution": {
     "iopub.execute_input": "2021-04-04T23:14:06.261438Z",
     "iopub.status.busy": "2021-04-04T23:14:06.260842Z",
     "iopub.status.idle": "2021-04-04T23:14:06.263519Z",
     "shell.execute_reply": "2021-04-04T23:14:06.264330Z"
    },
    "papermill": {
     "duration": 0.035449,
     "end_time": "2021-04-04T23:14:06.264644",
     "exception": false,
     "start_time": "2021-04-04T23:14:06.229195",
     "status": "completed"
    },
    "tags": [
     "parameters"
    ]
   },
   "outputs": [],
   "source": [
    "DATASET_CONFIG_PATH = 'config/dataset/kc1_001.json'\n",
    "MODEL_CONFIG_PATH = 'config/model/knndd_001.json'\n",
    "PROFILE_REPORTING = False"
   ]
  },
  {
   "cell_type": "code",
   "execution_count": 2,
   "id": "cb2727ca",
   "metadata": {
    "execution": {
     "iopub.execute_input": "2021-04-04T23:14:06.312780Z",
     "iopub.status.busy": "2021-04-04T23:14:06.312199Z",
     "iopub.status.idle": "2021-04-04T23:14:06.314645Z",
     "shell.execute_reply": "2021-04-04T23:14:06.315334Z"
    },
    "papermill": {
     "duration": 0.026434,
     "end_time": "2021-04-04T23:14:06.315527",
     "exception": false,
     "start_time": "2021-04-04T23:14:06.289093",
     "status": "completed"
    },
    "tags": [
     "injected-parameters"
    ]
   },
   "outputs": [],
   "source": [
    "# Parameters\n",
    "DATASET_CONFIG_PATH = \"config/dataset/000103.json\"\n",
    "MODEL_CONFIG_PATH = \"config/model/000004.json\"\n",
    "PROFILE_REPORTING = False\n"
   ]
  },
  {
   "cell_type": "code",
   "execution_count": 3,
   "id": "b80f2a10",
   "metadata": {
    "execution": {
     "iopub.execute_input": "2021-04-04T23:14:06.372687Z",
     "iopub.status.busy": "2021-04-04T23:14:06.371791Z",
     "iopub.status.idle": "2021-04-04T23:14:06.375419Z",
     "shell.execute_reply": "2021-04-04T23:14:06.376393Z"
    },
    "papermill": {
     "duration": 0.031869,
     "end_time": "2021-04-04T23:14:06.376647",
     "exception": false,
     "start_time": "2021-04-04T23:14:06.344778",
     "status": "completed"
    },
    "tags": []
   },
   "outputs": [],
   "source": [
    "import json\n",
    "\n",
    "\n",
    "with open(DATASET_CONFIG_PATH) as f:\n",
    "    dataset_config = json.load(f)\n",
    "\n",
    "with open(MODEL_CONFIG_PATH) as f:\n",
    "    model_config = json.load(f)"
   ]
  },
  {
   "cell_type": "markdown",
   "id": "9a4b0e2d",
   "metadata": {
    "papermill": {
     "duration": 0.019979,
     "end_time": "2021-04-04T23:14:06.421520",
     "exception": false,
     "start_time": "2021-04-04T23:14:06.401541",
     "status": "completed"
    },
    "tags": []
   },
   "source": [
    "# Profiling"
   ]
  },
  {
   "cell_type": "code",
   "execution_count": 4,
   "id": "a3e0289b",
   "metadata": {
    "execution": {
     "iopub.execute_input": "2021-04-04T23:14:06.465234Z",
     "iopub.status.busy": "2021-04-04T23:14:06.464580Z",
     "iopub.status.idle": "2021-04-04T23:14:07.726370Z",
     "shell.execute_reply": "2021-04-04T23:14:07.725515Z"
    },
    "papermill": {
     "duration": 1.285436,
     "end_time": "2021-04-04T23:14:07.726536",
     "exception": false,
     "start_time": "2021-04-04T23:14:06.441100",
     "status": "completed"
    },
    "tags": []
   },
   "outputs": [],
   "source": [
    "import pandas as pd\n",
    "from pandas_profiling import ProfileReport"
   ]
  },
  {
   "cell_type": "code",
   "execution_count": 5,
   "id": "ee6c0666",
   "metadata": {
    "execution": {
     "iopub.execute_input": "2021-04-04T23:14:07.786575Z",
     "iopub.status.busy": "2021-04-04T23:14:07.785156Z",
     "iopub.status.idle": "2021-04-04T23:14:07.796569Z",
     "shell.execute_reply": "2021-04-04T23:14:07.795790Z"
    },
    "papermill": {
     "duration": 0.037367,
     "end_time": "2021-04-04T23:14:07.796763",
     "exception": false,
     "start_time": "2021-04-04T23:14:07.759396",
     "status": "completed"
    },
    "tags": []
   },
   "outputs": [],
   "source": [
    "df = pd.read_csv(dataset_config['dataset_path'])"
   ]
  },
  {
   "cell_type": "code",
   "execution_count": 6,
   "id": "7eca6c4a",
   "metadata": {
    "execution": {
     "iopub.execute_input": "2021-04-04T23:14:07.870924Z",
     "iopub.status.busy": "2021-04-04T23:14:07.869650Z",
     "iopub.status.idle": "2021-04-04T23:14:07.874039Z",
     "shell.execute_reply": "2021-04-04T23:14:07.875080Z"
    },
    "papermill": {
     "duration": 0.04957,
     "end_time": "2021-04-04T23:14:07.875369",
     "exception": false,
     "start_time": "2021-04-04T23:14:07.825799",
     "status": "completed"
    },
    "tags": []
   },
   "outputs": [
    {
     "name": "stdout",
     "output_type": "stream",
     "text": [
      "<class 'pandas.core.frame.DataFrame'>\n",
      "RangeIndex: 498 entries, 0 to 497\n",
      "Data columns (total 23 columns):\n",
      " #   Column             Non-Null Count  Dtype  \n",
      "---  ------             --------------  -----  \n",
      " 0   id                 498 non-null    int64  \n",
      " 1   loc                498 non-null    float64\n",
      " 2   v(g)               498 non-null    float64\n",
      " 3   ev(g)              498 non-null    float64\n",
      " 4   iv(g)              498 non-null    float64\n",
      " 5   n                  498 non-null    float64\n",
      " 6   v                  498 non-null    float64\n",
      " 7   l                  498 non-null    float64\n",
      " 8   d                  498 non-null    float64\n",
      " 9   i                  498 non-null    float64\n",
      " 10  e                  498 non-null    float64\n",
      " 11  b                  498 non-null    float64\n",
      " 12  t                  498 non-null    float64\n",
      " 13  lOCode             498 non-null    int64  \n",
      " 14  lOComment          498 non-null    int64  \n",
      " 15  lOBlank            498 non-null    int64  \n",
      " 16  locCodeAndComment  498 non-null    int64  \n",
      " 17  uniq_Op            498 non-null    float64\n",
      " 18  uniq_Opnd          498 non-null    float64\n",
      " 19  total_Op           498 non-null    float64\n",
      " 20  total_Opnd         498 non-null    float64\n",
      " 21  branchCount        498 non-null    float64\n",
      " 22  defects            498 non-null    bool   \n",
      "dtypes: bool(1), float64(17), int64(5)\n",
      "memory usage: 86.2 KB\n"
     ]
    }
   ],
   "source": [
    "df.info()"
   ]
  },
  {
   "cell_type": "code",
   "execution_count": 7,
   "id": "3638e5e8",
   "metadata": {
    "execution": {
     "iopub.execute_input": "2021-04-04T23:14:07.927276Z",
     "iopub.status.busy": "2021-04-04T23:14:07.926576Z",
     "iopub.status.idle": "2021-04-04T23:14:07.950742Z",
     "shell.execute_reply": "2021-04-04T23:14:07.951586Z"
    },
    "papermill": {
     "duration": 0.055068,
     "end_time": "2021-04-04T23:14:07.951789",
     "exception": false,
     "start_time": "2021-04-04T23:14:07.896721",
     "status": "completed"
    },
    "tags": []
   },
   "outputs": [
    {
     "data": {
      "text/html": [
       "<div>\n",
       "<style scoped>\n",
       "    .dataframe tbody tr th:only-of-type {\n",
       "        vertical-align: middle;\n",
       "    }\n",
       "\n",
       "    .dataframe tbody tr th {\n",
       "        vertical-align: top;\n",
       "    }\n",
       "\n",
       "    .dataframe thead th {\n",
       "        text-align: right;\n",
       "    }\n",
       "</style>\n",
       "<table border=\"1\" class=\"dataframe\">\n",
       "  <thead>\n",
       "    <tr style=\"text-align: right;\">\n",
       "      <th></th>\n",
       "      <th>id</th>\n",
       "      <th>loc</th>\n",
       "      <th>v(g)</th>\n",
       "      <th>ev(g)</th>\n",
       "      <th>iv(g)</th>\n",
       "      <th>n</th>\n",
       "      <th>v</th>\n",
       "      <th>l</th>\n",
       "      <th>d</th>\n",
       "      <th>i</th>\n",
       "      <th>...</th>\n",
       "      <th>lOCode</th>\n",
       "      <th>lOComment</th>\n",
       "      <th>lOBlank</th>\n",
       "      <th>locCodeAndComment</th>\n",
       "      <th>uniq_Op</th>\n",
       "      <th>uniq_Opnd</th>\n",
       "      <th>total_Op</th>\n",
       "      <th>total_Opnd</th>\n",
       "      <th>branchCount</th>\n",
       "      <th>defects</th>\n",
       "    </tr>\n",
       "  </thead>\n",
       "  <tbody>\n",
       "    <tr>\n",
       "      <th>0</th>\n",
       "      <td>1</td>\n",
       "      <td>1.1</td>\n",
       "      <td>1.4</td>\n",
       "      <td>1.4</td>\n",
       "      <td>1.4</td>\n",
       "      <td>1.3</td>\n",
       "      <td>1.30</td>\n",
       "      <td>1.30</td>\n",
       "      <td>1.30</td>\n",
       "      <td>1.30</td>\n",
       "      <td>...</td>\n",
       "      <td>2</td>\n",
       "      <td>2</td>\n",
       "      <td>2</td>\n",
       "      <td>2</td>\n",
       "      <td>1.2</td>\n",
       "      <td>1.2</td>\n",
       "      <td>1.2</td>\n",
       "      <td>1.2</td>\n",
       "      <td>1.4</td>\n",
       "      <td>False</td>\n",
       "    </tr>\n",
       "    <tr>\n",
       "      <th>1</th>\n",
       "      <td>2</td>\n",
       "      <td>1.0</td>\n",
       "      <td>1.0</td>\n",
       "      <td>1.0</td>\n",
       "      <td>1.0</td>\n",
       "      <td>1.0</td>\n",
       "      <td>1.00</td>\n",
       "      <td>1.00</td>\n",
       "      <td>1.00</td>\n",
       "      <td>1.00</td>\n",
       "      <td>...</td>\n",
       "      <td>1</td>\n",
       "      <td>1</td>\n",
       "      <td>1</td>\n",
       "      <td>1</td>\n",
       "      <td>1.0</td>\n",
       "      <td>1.0</td>\n",
       "      <td>1.0</td>\n",
       "      <td>1.0</td>\n",
       "      <td>1.0</td>\n",
       "      <td>True</td>\n",
       "    </tr>\n",
       "    <tr>\n",
       "      <th>2</th>\n",
       "      <td>3</td>\n",
       "      <td>24.0</td>\n",
       "      <td>5.0</td>\n",
       "      <td>1.0</td>\n",
       "      <td>3.0</td>\n",
       "      <td>63.0</td>\n",
       "      <td>309.13</td>\n",
       "      <td>0.11</td>\n",
       "      <td>9.50</td>\n",
       "      <td>32.54</td>\n",
       "      <td>...</td>\n",
       "      <td>1</td>\n",
       "      <td>0</td>\n",
       "      <td>6</td>\n",
       "      <td>0</td>\n",
       "      <td>15.0</td>\n",
       "      <td>15.0</td>\n",
       "      <td>44.0</td>\n",
       "      <td>19.0</td>\n",
       "      <td>9.0</td>\n",
       "      <td>False</td>\n",
       "    </tr>\n",
       "    <tr>\n",
       "      <th>3</th>\n",
       "      <td>4</td>\n",
       "      <td>20.0</td>\n",
       "      <td>4.0</td>\n",
       "      <td>4.0</td>\n",
       "      <td>2.0</td>\n",
       "      <td>47.0</td>\n",
       "      <td>215.49</td>\n",
       "      <td>0.06</td>\n",
       "      <td>16.00</td>\n",
       "      <td>13.47</td>\n",
       "      <td>...</td>\n",
       "      <td>0</td>\n",
       "      <td>0</td>\n",
       "      <td>3</td>\n",
       "      <td>0</td>\n",
       "      <td>16.0</td>\n",
       "      <td>8.0</td>\n",
       "      <td>31.0</td>\n",
       "      <td>16.0</td>\n",
       "      <td>7.0</td>\n",
       "      <td>False</td>\n",
       "    </tr>\n",
       "    <tr>\n",
       "      <th>4</th>\n",
       "      <td>5</td>\n",
       "      <td>24.0</td>\n",
       "      <td>6.0</td>\n",
       "      <td>6.0</td>\n",
       "      <td>2.0</td>\n",
       "      <td>72.0</td>\n",
       "      <td>346.13</td>\n",
       "      <td>0.06</td>\n",
       "      <td>17.33</td>\n",
       "      <td>19.97</td>\n",
       "      <td>...</td>\n",
       "      <td>0</td>\n",
       "      <td>0</td>\n",
       "      <td>3</td>\n",
       "      <td>0</td>\n",
       "      <td>16.0</td>\n",
       "      <td>12.0</td>\n",
       "      <td>46.0</td>\n",
       "      <td>26.0</td>\n",
       "      <td>11.0</td>\n",
       "      <td>False</td>\n",
       "    </tr>\n",
       "  </tbody>\n",
       "</table>\n",
       "<p>5 rows × 23 columns</p>\n",
       "</div>"
      ],
      "text/plain": [
       "   id   loc  v(g)  ev(g)  iv(g)     n       v     l      d      i  ...  \\\n",
       "0   1   1.1   1.4    1.4    1.4   1.3    1.30  1.30   1.30   1.30  ...   \n",
       "1   2   1.0   1.0    1.0    1.0   1.0    1.00  1.00   1.00   1.00  ...   \n",
       "2   3  24.0   5.0    1.0    3.0  63.0  309.13  0.11   9.50  32.54  ...   \n",
       "3   4  20.0   4.0    4.0    2.0  47.0  215.49  0.06  16.00  13.47  ...   \n",
       "4   5  24.0   6.0    6.0    2.0  72.0  346.13  0.06  17.33  19.97  ...   \n",
       "\n",
       "   lOCode  lOComment  lOBlank  locCodeAndComment  uniq_Op  uniq_Opnd  \\\n",
       "0       2          2        2                  2      1.2        1.2   \n",
       "1       1          1        1                  1      1.0        1.0   \n",
       "2       1          0        6                  0     15.0       15.0   \n",
       "3       0          0        3                  0     16.0        8.0   \n",
       "4       0          0        3                  0     16.0       12.0   \n",
       "\n",
       "   total_Op  total_Opnd  branchCount  defects  \n",
       "0       1.2         1.2          1.4    False  \n",
       "1       1.0         1.0          1.0     True  \n",
       "2      44.0        19.0          9.0    False  \n",
       "3      31.0        16.0          7.0    False  \n",
       "4      46.0        26.0         11.0    False  \n",
       "\n",
       "[5 rows x 23 columns]"
      ]
     },
     "execution_count": 7,
     "metadata": {},
     "output_type": "execute_result"
    }
   ],
   "source": [
    "df.head()"
   ]
  },
  {
   "cell_type": "code",
   "execution_count": 8,
   "id": "733e95eb",
   "metadata": {
    "execution": {
     "iopub.execute_input": "2021-04-04T23:14:08.003866Z",
     "iopub.status.busy": "2021-04-04T23:14:08.003025Z",
     "iopub.status.idle": "2021-04-04T23:14:08.005853Z",
     "shell.execute_reply": "2021-04-04T23:14:08.006545Z"
    },
    "papermill": {
     "duration": 0.02997,
     "end_time": "2021-04-04T23:14:08.006781",
     "exception": false,
     "start_time": "2021-04-04T23:14:07.976811",
     "status": "completed"
    },
    "tags": []
   },
   "outputs": [],
   "source": [
    "del df['id']"
   ]
  },
  {
   "cell_type": "code",
   "execution_count": 9,
   "id": "6ff6f5b0",
   "metadata": {
    "execution": {
     "iopub.execute_input": "2021-04-04T23:14:08.062895Z",
     "iopub.status.busy": "2021-04-04T23:14:08.061897Z",
     "iopub.status.idle": "2021-04-04T23:14:08.065122Z",
     "shell.execute_reply": "2021-04-04T23:14:08.064307Z"
    },
    "papermill": {
     "duration": 0.028501,
     "end_time": "2021-04-04T23:14:08.065285",
     "exception": false,
     "start_time": "2021-04-04T23:14:08.036784",
     "status": "completed"
    },
    "tags": []
   },
   "outputs": [],
   "source": [
    "if PROFILE_REPORTING:\n",
    "    ProfileReport(df).to_widgets()"
   ]
  },
  {
   "cell_type": "markdown",
   "id": "1deaf3f0",
   "metadata": {
    "papermill": {
     "duration": 0.020759,
     "end_time": "2021-04-04T23:14:08.107891",
     "exception": false,
     "start_time": "2021-04-04T23:14:08.087132",
     "status": "completed"
    },
    "tags": []
   },
   "source": [
    "# Preprocess"
   ]
  },
  {
   "cell_type": "code",
   "execution_count": 10,
   "id": "1513e563",
   "metadata": {
    "execution": {
     "iopub.execute_input": "2021-04-04T23:14:08.156064Z",
     "iopub.status.busy": "2021-04-04T23:14:08.154810Z",
     "iopub.status.idle": "2021-04-04T23:14:08.158024Z",
     "shell.execute_reply": "2021-04-04T23:14:08.157426Z"
    },
    "papermill": {
     "duration": 0.029044,
     "end_time": "2021-04-04T23:14:08.158156",
     "exception": false,
     "start_time": "2021-04-04T23:14:08.129112",
     "status": "completed"
    },
    "tags": []
   },
   "outputs": [],
   "source": [
    "working_df = df.copy()"
   ]
  },
  {
   "cell_type": "code",
   "execution_count": 11,
   "id": "3b26d675",
   "metadata": {
    "execution": {
     "iopub.execute_input": "2021-04-04T23:14:08.210107Z",
     "iopub.status.busy": "2021-04-04T23:14:08.209434Z",
     "iopub.status.idle": "2021-04-04T23:14:08.212776Z",
     "shell.execute_reply": "2021-04-04T23:14:08.211970Z"
    },
    "papermill": {
     "duration": 0.03116,
     "end_time": "2021-04-04T23:14:08.212957",
     "exception": false,
     "start_time": "2021-04-04T23:14:08.181797",
     "status": "completed"
    },
    "tags": []
   },
   "outputs": [],
   "source": [
    "working_df['defects'] = working_df['defects'].replace([False, True], [0, 1])"
   ]
  },
  {
   "cell_type": "code",
   "execution_count": 12,
   "id": "eb48604f",
   "metadata": {
    "execution": {
     "iopub.execute_input": "2021-04-04T23:14:08.264509Z",
     "iopub.status.busy": "2021-04-04T23:14:08.263908Z",
     "iopub.status.idle": "2021-04-04T23:14:08.266617Z",
     "shell.execute_reply": "2021-04-04T23:14:08.267437Z"
    },
    "papermill": {
     "duration": 0.029542,
     "end_time": "2021-04-04T23:14:08.267657",
     "exception": false,
     "start_time": "2021-04-04T23:14:08.238115",
     "status": "completed"
    },
    "tags": []
   },
   "outputs": [],
   "source": [
    "for col in dataset_config['delete_columns']:\n",
    "    del working_df[col]"
   ]
  },
  {
   "cell_type": "code",
   "execution_count": 13,
   "id": "9a17bc29",
   "metadata": {
    "execution": {
     "iopub.execute_input": "2021-04-04T23:14:08.327709Z",
     "iopub.status.busy": "2021-04-04T23:14:08.326627Z",
     "iopub.status.idle": "2021-04-04T23:14:08.339235Z",
     "shell.execute_reply": "2021-04-04T23:14:08.338242Z"
    },
    "papermill": {
     "duration": 0.041515,
     "end_time": "2021-04-04T23:14:08.339427",
     "exception": false,
     "start_time": "2021-04-04T23:14:08.297912",
     "status": "completed"
    },
    "tags": []
   },
   "outputs": [],
   "source": [
    "working_df = working_df.drop_duplicates()"
   ]
  },
  {
   "cell_type": "markdown",
   "id": "a4d52ca6",
   "metadata": {
    "papermill": {
     "duration": 0.022199,
     "end_time": "2021-04-04T23:14:08.387984",
     "exception": false,
     "start_time": "2021-04-04T23:14:08.365785",
     "status": "completed"
    },
    "tags": []
   },
   "source": [
    "# Split"
   ]
  },
  {
   "cell_type": "code",
   "execution_count": 14,
   "id": "3e9ee4b5",
   "metadata": {
    "execution": {
     "iopub.execute_input": "2021-04-04T23:14:08.438291Z",
     "iopub.status.busy": "2021-04-04T23:14:08.437286Z",
     "iopub.status.idle": "2021-04-04T23:14:08.473081Z",
     "shell.execute_reply": "2021-04-04T23:14:08.472484Z"
    },
    "papermill": {
     "duration": 0.062287,
     "end_time": "2021-04-04T23:14:08.473199",
     "exception": false,
     "start_time": "2021-04-04T23:14:08.410912",
     "status": "completed"
    },
    "tags": []
   },
   "outputs": [],
   "source": [
    "from sklearn.model_selection import train_test_split"
   ]
  },
  {
   "cell_type": "code",
   "execution_count": 15,
   "id": "274004ce",
   "metadata": {
    "execution": {
     "iopub.execute_input": "2021-04-04T23:14:08.524367Z",
     "iopub.status.busy": "2021-04-04T23:14:08.523367Z",
     "iopub.status.idle": "2021-04-04T23:14:08.530013Z",
     "shell.execute_reply": "2021-04-04T23:14:08.528921Z"
    },
    "papermill": {
     "duration": 0.03469,
     "end_time": "2021-04-04T23:14:08.530301",
     "exception": false,
     "start_time": "2021-04-04T23:14:08.495611",
     "status": "completed"
    },
    "scrolled": true,
    "tags": []
   },
   "outputs": [],
   "source": [
    "inlier, outlier = working_df[working_df['defects'] == 0], working_df[working_df['defects'] == 1]"
   ]
  },
  {
   "cell_type": "code",
   "execution_count": 16,
   "id": "753c7b03",
   "metadata": {
    "execution": {
     "iopub.execute_input": "2021-04-04T23:14:08.588720Z",
     "iopub.status.busy": "2021-04-04T23:14:08.587801Z",
     "iopub.status.idle": "2021-04-04T23:14:08.590776Z",
     "shell.execute_reply": "2021-04-04T23:14:08.591629Z"
    },
    "papermill": {
     "duration": 0.032443,
     "end_time": "2021-04-04T23:14:08.591864",
     "exception": false,
     "start_time": "2021-04-04T23:14:08.559421",
     "status": "completed"
    },
    "tags": []
   },
   "outputs": [],
   "source": [
    "X_inlier = inlier.copy()\n",
    "y_inlier = X_inlier.pop('defects')\n",
    "X_outlier = outlier.copy()\n",
    "y_outlier = X_outlier.pop('defects')"
   ]
  },
  {
   "cell_type": "code",
   "execution_count": 17,
   "id": "2ba43193",
   "metadata": {
    "execution": {
     "iopub.execute_input": "2021-04-04T23:14:08.646840Z",
     "iopub.status.busy": "2021-04-04T23:14:08.646192Z",
     "iopub.status.idle": "2021-04-04T23:14:08.648936Z",
     "shell.execute_reply": "2021-04-04T23:14:08.649598Z"
    },
    "papermill": {
     "duration": 0.033118,
     "end_time": "2021-04-04T23:14:08.649786",
     "exception": false,
     "start_time": "2021-04-04T23:14:08.616668",
     "status": "completed"
    },
    "tags": []
   },
   "outputs": [],
   "source": [
    "test_size = dataset_config['test_size']\n",
    "random_state = dataset_config['random_state']\n",
    "\n",
    "X_inlier_train, X_inlier_test, y_inlier_train, y_inlier_test = train_test_split(\n",
    "    X_inlier,\n",
    "    y_inlier,\n",
    "    test_size=test_size,\n",
    "    random_state=random_state\n",
    ")"
   ]
  },
  {
   "cell_type": "code",
   "execution_count": 18,
   "id": "0b7582ca",
   "metadata": {
    "execution": {
     "iopub.execute_input": "2021-04-04T23:14:08.705848Z",
     "iopub.status.busy": "2021-04-04T23:14:08.704882Z",
     "iopub.status.idle": "2021-04-04T23:14:08.707252Z",
     "shell.execute_reply": "2021-04-04T23:14:08.707991Z"
    },
    "papermill": {
     "duration": 0.033827,
     "end_time": "2021-04-04T23:14:08.708213",
     "exception": false,
     "start_time": "2021-04-04T23:14:08.674386",
     "status": "completed"
    },
    "tags": []
   },
   "outputs": [],
   "source": [
    "test_outlier_size = dataset_config['test_outlier_size']\n",
    "if test_outlier_size > 0.0:\n",
    "    X_outlier_train, X_outlier_test, y_outlier_train, y_outlier_test = train_test_split(\n",
    "        X_outlier,\n",
    "        y_outlier,\n",
    "        test_size=test_outlier_size,\n",
    "        random_state=random_state\n",
    "    )\n",
    "else:\n",
    "    X_outlier_train, y_outlier_train = pd.DataFrame(columns=X_outlier.columns), pd.Series(dtype='int64')\n",
    "    X_outlier_test, y_outlier_test = X_outlier.copy(), y_outlier.copy()"
   ]
  },
  {
   "cell_type": "code",
   "execution_count": 19,
   "id": "c34363db",
   "metadata": {
    "execution": {
     "iopub.execute_input": "2021-04-04T23:14:08.774235Z",
     "iopub.status.busy": "2021-04-04T23:14:08.773385Z",
     "iopub.status.idle": "2021-04-04T23:14:08.775774Z",
     "shell.execute_reply": "2021-04-04T23:14:08.776476Z"
    },
    "papermill": {
     "duration": 0.042739,
     "end_time": "2021-04-04T23:14:08.776673",
     "exception": false,
     "start_time": "2021-04-04T23:14:08.733934",
     "status": "completed"
    },
    "tags": []
   },
   "outputs": [],
   "source": [
    "X_train, y_train = pd.concat([X_inlier_train, X_outlier_train], ignore_index=True), pd.concat([y_inlier_train, y_outlier_train], ignore_index=True)\n",
    "X_test, y_test = pd.concat([X_inlier_test, X_outlier_test], ignore_index=True), pd.concat([y_inlier_test, y_outlier_test], ignore_index=True)"
   ]
  },
  {
   "cell_type": "markdown",
   "id": "7cde7309",
   "metadata": {
    "papermill": {
     "duration": 0.023065,
     "end_time": "2021-04-04T23:14:08.834008",
     "exception": false,
     "start_time": "2021-04-04T23:14:08.810943",
     "status": "completed"
    },
    "tags": []
   },
   "source": [
    "# Model"
   ]
  },
  {
   "cell_type": "code",
   "execution_count": 20,
   "id": "2b12a415",
   "metadata": {
    "execution": {
     "iopub.execute_input": "2021-04-04T23:14:08.893603Z",
     "iopub.status.busy": "2021-04-04T23:14:08.892356Z",
     "iopub.status.idle": "2021-04-04T23:14:08.895273Z",
     "shell.execute_reply": "2021-04-04T23:14:08.895909Z"
    },
    "papermill": {
     "duration": 0.039508,
     "end_time": "2021-04-04T23:14:08.896099",
     "exception": false,
     "start_time": "2021-04-04T23:14:08.856591",
     "status": "completed"
    },
    "tags": []
   },
   "outputs": [],
   "source": [
    "from math import sqrt\n",
    "\n",
    "\n",
    "class KNNDataDescription:\n",
    "    def __init__(self, k=5, outlier_threshold=1.0):\n",
    "        self.k = k\n",
    "        self.outlier_threshold = outlier_threshold\n",
    "        self.X = []\n",
    "    \n",
    "    def fit(self, X):\n",
    "        self.X = [features.to_list() for index, features in X.iterrows()]\n",
    "\n",
    "    def predict(self, entries):\n",
    "        return [self.predict_entry(features.to_list()) for index, features in entries.iterrows()]\n",
    "    \n",
    "    def predict_entry(self, entry):\n",
    "        kth_neighbor, kth_distance = self.get_kth_neighbor(entry, self.k)\n",
    "        kth_kth_neighbor, kth_kth_distance = self.get_kth_neighbor(kth_neighbor, self.k + 1)\n",
    "\n",
    "        outlier_score = kth_distance / (kth_kth_distance + 0.000001)\n",
    "\n",
    "        return 1 if outlier_score < self.outlier_threshold else -1\n",
    "        \n",
    "    def euclidean_distance(self, features1, features2):\n",
    "        distance = 0.0\n",
    "        for feat1, feat2 in zip(features1, features2):\n",
    "            distance += (feat1 - feat2)**2\n",
    "                \n",
    "        return sqrt(distance)\n",
    "\n",
    "    def get_neighbors(self, entry, k):\n",
    "        distance_to_data_points = [\n",
    "            (data_point, self.euclidean_distance(entry, data_point))\n",
    "            for data_point in self.X\n",
    "        ]\n",
    "        sorted_by_distance = sorted(distance_to_data_points, key=lambda tup: tup[1])\n",
    "        neighbors = sorted_by_distance[:k]\n",
    "        return neighbors\n",
    "\n",
    "    def get_kth_neighbor(self, entry, k):\n",
    "        neighbors = self.get_neighbors(entry, k)\n",
    "        return neighbors[-1]\n"
   ]
  },
  {
   "cell_type": "code",
   "execution_count": 21,
   "id": "1fa9ec1c",
   "metadata": {
    "execution": {
     "iopub.execute_input": "2021-04-04T23:14:08.948039Z",
     "iopub.status.busy": "2021-04-04T23:14:08.947015Z",
     "iopub.status.idle": "2021-04-04T23:14:08.972762Z",
     "shell.execute_reply": "2021-04-04T23:14:08.971843Z"
    },
    "papermill": {
     "duration": 0.053462,
     "end_time": "2021-04-04T23:14:08.972965",
     "exception": false,
     "start_time": "2021-04-04T23:14:08.919503",
     "status": "completed"
    },
    "tags": []
   },
   "outputs": [],
   "source": [
    "from sklearn.svm import OneClassSVM\n",
    "\n",
    "\n",
    "models = {\n",
    "    'oneclasssvm': OneClassSVM,\n",
    "    'knndatadescription': KNNDataDescription,\n",
    "}"
   ]
  },
  {
   "cell_type": "code",
   "execution_count": 22,
   "id": "4d72a0b1",
   "metadata": {
    "execution": {
     "iopub.execute_input": "2021-04-04T23:14:09.030122Z",
     "iopub.status.busy": "2021-04-04T23:14:09.029093Z",
     "iopub.status.idle": "2021-04-04T23:14:09.031391Z",
     "shell.execute_reply": "2021-04-04T23:14:09.032075Z"
    },
    "papermill": {
     "duration": 0.030365,
     "end_time": "2021-04-04T23:14:09.032270",
     "exception": false,
     "start_time": "2021-04-04T23:14:09.001905",
     "status": "completed"
    },
    "scrolled": true,
    "tags": []
   },
   "outputs": [],
   "source": [
    "model_cls = models[model_config['model_type']]\n",
    "model = model_cls(**model_config['hyperparameters'])"
   ]
  },
  {
   "cell_type": "markdown",
   "id": "e00cff3b",
   "metadata": {
    "papermill": {
     "duration": 0.022264,
     "end_time": "2021-04-04T23:14:09.083611",
     "exception": false,
     "start_time": "2021-04-04T23:14:09.061347",
     "status": "completed"
    },
    "tags": []
   },
   "source": [
    "# Fit"
   ]
  },
  {
   "cell_type": "code",
   "execution_count": 23,
   "id": "8b2ded89",
   "metadata": {
    "execution": {
     "iopub.execute_input": "2021-04-04T23:14:09.138255Z",
     "iopub.status.busy": "2021-04-04T23:14:09.137492Z",
     "iopub.status.idle": "2021-04-04T23:14:09.148415Z",
     "shell.execute_reply": "2021-04-04T23:14:09.149316Z"
    },
    "papermill": {
     "duration": 0.043005,
     "end_time": "2021-04-04T23:14:09.149563",
     "exception": false,
     "start_time": "2021-04-04T23:14:09.106558",
     "status": "completed"
    },
    "tags": []
   },
   "outputs": [
    {
     "data": {
      "text/plain": [
       "OneClassSVM()"
      ]
     },
     "execution_count": 23,
     "metadata": {},
     "output_type": "execute_result"
    }
   ],
   "source": [
    "model.fit(X_train)"
   ]
  },
  {
   "cell_type": "markdown",
   "id": "f99999f7",
   "metadata": {
    "papermill": {
     "duration": 0.022761,
     "end_time": "2021-04-04T23:14:09.199515",
     "exception": false,
     "start_time": "2021-04-04T23:14:09.176754",
     "status": "completed"
    },
    "tags": []
   },
   "source": [
    "# Predict"
   ]
  },
  {
   "cell_type": "code",
   "execution_count": 24,
   "id": "6536fbf7",
   "metadata": {
    "execution": {
     "iopub.execute_input": "2021-04-04T23:14:09.253811Z",
     "iopub.status.busy": "2021-04-04T23:14:09.253169Z",
     "iopub.status.idle": "2021-04-04T23:14:09.258654Z",
     "shell.execute_reply": "2021-04-04T23:14:09.259437Z"
    },
    "papermill": {
     "duration": 0.037445,
     "end_time": "2021-04-04T23:14:09.259645",
     "exception": false,
     "start_time": "2021-04-04T23:14:09.222200",
     "status": "completed"
    },
    "tags": []
   },
   "outputs": [],
   "source": [
    "predictions = model.predict(X_test)"
   ]
  },
  {
   "cell_type": "markdown",
   "id": "aa1c9881",
   "metadata": {
    "papermill": {
     "duration": 0.023428,
     "end_time": "2021-04-04T23:14:09.309421",
     "exception": false,
     "start_time": "2021-04-04T23:14:09.285993",
     "status": "completed"
    },
    "tags": []
   },
   "source": [
    "# Evaluate"
   ]
  },
  {
   "cell_type": "code",
   "execution_count": 25,
   "id": "894f0f04",
   "metadata": {
    "execution": {
     "iopub.execute_input": "2021-04-04T23:14:09.364163Z",
     "iopub.status.busy": "2021-04-04T23:14:09.363304Z",
     "iopub.status.idle": "2021-04-04T23:14:09.365932Z",
     "shell.execute_reply": "2021-04-04T23:14:09.366647Z"
    },
    "papermill": {
     "duration": 0.034476,
     "end_time": "2021-04-04T23:14:09.366870",
     "exception": false,
     "start_time": "2021-04-04T23:14:09.332394",
     "status": "completed"
    },
    "tags": []
   },
   "outputs": [],
   "source": [
    "from sklearn.metrics import f1_score"
   ]
  },
  {
   "cell_type": "code",
   "execution_count": 26,
   "id": "211744d3",
   "metadata": {
    "execution": {
     "iopub.execute_input": "2021-04-04T23:14:09.428090Z",
     "iopub.status.busy": "2021-04-04T23:14:09.426888Z",
     "iopub.status.idle": "2021-04-04T23:14:09.430112Z",
     "shell.execute_reply": "2021-04-04T23:14:09.429404Z"
    },
    "papermill": {
     "duration": 0.033221,
     "end_time": "2021-04-04T23:14:09.430252",
     "exception": false,
     "start_time": "2021-04-04T23:14:09.397031",
     "status": "completed"
    },
    "tags": []
   },
   "outputs": [],
   "source": [
    "y_test = y_test.replace([0, 1], [1, -1])"
   ]
  },
  {
   "cell_type": "code",
   "execution_count": 27,
   "id": "d68a9204",
   "metadata": {
    "execution": {
     "iopub.execute_input": "2021-04-04T23:14:09.491025Z",
     "iopub.status.busy": "2021-04-04T23:14:09.489941Z",
     "iopub.status.idle": "2021-04-04T23:14:09.494137Z",
     "shell.execute_reply": "2021-04-04T23:14:09.493102Z"
    },
    "papermill": {
     "duration": 0.036803,
     "end_time": "2021-04-04T23:14:09.494340",
     "exception": false,
     "start_time": "2021-04-04T23:14:09.457537",
     "status": "completed"
    },
    "tags": []
   },
   "outputs": [],
   "source": [
    "def evaluate(truths, predictions, pos_label, neg_label):\n",
    "    TP = 0\n",
    "    FP = 0\n",
    "    TN = 0\n",
    "    FN = 0\n",
    "\n",
    "    for truth, pred in zip(truths, predictions): \n",
    "        if truth == pred == pos_label:\n",
    "           TP += 1\n",
    "        elif pred == pos_label and truth == neg_label:\n",
    "           FP += 1\n",
    "        elif truth == pred == neg_label:\n",
    "           TN += 1\n",
    "        elif pred == neg_label and truth == pos_label:\n",
    "           FN += 1\n",
    "\n",
    "    precision = TP / (TP + FP)\n",
    "    sensitivity = TP / (TP + FN)\n",
    "    \n",
    "    return {\n",
    "        'true_pos': TP,\n",
    "        'false_pos': FP,\n",
    "        'false_neg': FN,\n",
    "        'true_neg': TN,\n",
    "        'precision': precision,\n",
    "        'sensitivity': sensitivity,\n",
    "        'f1': (2 * (precision * sensitivity)) / (precision + sensitivity)\n",
    "    }\n",
    "\n",
    "score = evaluate(y_test, predictions, pos_label=-1, neg_label=1)"
   ]
  },
  {
   "cell_type": "markdown",
   "id": "93596516",
   "metadata": {
    "papermill": {
     "duration": 0.023374,
     "end_time": "2021-04-04T23:14:09.547597",
     "exception": false,
     "start_time": "2021-04-04T23:14:09.524223",
     "status": "completed"
    },
    "tags": []
   },
   "source": [
    "# Report"
   ]
  },
  {
   "cell_type": "code",
   "execution_count": 28,
   "id": "bea5fba1",
   "metadata": {
    "execution": {
     "iopub.execute_input": "2021-04-04T23:14:09.602070Z",
     "iopub.status.busy": "2021-04-04T23:14:09.601332Z",
     "iopub.status.idle": "2021-04-04T23:14:09.604192Z",
     "shell.execute_reply": "2021-04-04T23:14:09.604664Z"
    },
    "papermill": {
     "duration": 0.033745,
     "end_time": "2021-04-04T23:14:09.604809",
     "exception": false,
     "start_time": "2021-04-04T23:14:09.571064",
     "status": "completed"
    },
    "tags": []
   },
   "outputs": [],
   "source": [
    "import csv\n",
    "\n",
    "\n",
    "dataset_config_name = DATASET_CONFIG_PATH.split('/')[-1].split('.')[0]\n",
    "model_config_name = MODEL_CONFIG_PATH.split('/')[-1].split('.')[0]\n",
    "configuration = f\"dataset_{dataset_config_name}-model_{model_config_name}\"\n",
    "\n",
    "with open('results.csv', 'a') as f:\n",
    "    report = dict({'configuration': configuration}, **score)\n",
    "    writer = csv.DictWriter(f, report.keys())\n",
    "    writer.writerow(report)"
   ]
  }
 ],
 "metadata": {
  "celltoolbar": "Tags",
  "kernelspec": {
   "display_name": "Python 3",
   "language": "python",
   "name": "python3"
  },
  "language_info": {
   "codemirror_mode": {
    "name": "ipython",
    "version": 3
   },
   "file_extension": ".py",
   "mimetype": "text/x-python",
   "name": "python",
   "nbconvert_exporter": "python",
   "pygments_lexer": "ipython3",
   "version": "3.9.1"
  },
  "papermill": {
   "default_parameters": {},
   "duration": 4.767934,
   "end_time": "2021-04-04T23:14:10.245643",
   "environment_variables": {},
   "exception": null,
   "input_path": "main.ipynb",
   "output_path": "runs/dataset_000103-model_000004.ipynb",
   "parameters": {
    "DATASET_CONFIG_PATH": "config/dataset/000103.json",
    "MODEL_CONFIG_PATH": "config/model/000004.json",
    "PROFILE_REPORTING": false
   },
   "start_time": "2021-04-04T23:14:05.477709",
   "version": "2.3.3"
  }
 },
 "nbformat": 4,
 "nbformat_minor": 5
}