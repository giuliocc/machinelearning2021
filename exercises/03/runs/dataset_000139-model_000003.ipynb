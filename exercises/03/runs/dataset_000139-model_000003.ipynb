{
 "cells": [
  {
   "cell_type": "markdown",
   "id": "51c71c25",
   "metadata": {
    "papermill": {
     "duration": 0.02674,
     "end_time": "2021-04-04T23:29:03.801359",
     "exception": false,
     "start_time": "2021-04-04T23:29:03.774619",
     "status": "completed"
    },
    "tags": []
   },
   "source": [
    "# Parametrizing"
   ]
  },
  {
   "cell_type": "code",
   "execution_count": 1,
   "id": "3b136394",
   "metadata": {
    "execution": {
     "iopub.execute_input": "2021-04-04T23:29:03.868354Z",
     "iopub.status.busy": "2021-04-04T23:29:03.865175Z",
     "iopub.status.idle": "2021-04-04T23:29:03.871916Z",
     "shell.execute_reply": "2021-04-04T23:29:03.870982Z"
    },
    "papermill": {
     "duration": 0.045065,
     "end_time": "2021-04-04T23:29:03.872217",
     "exception": false,
     "start_time": "2021-04-04T23:29:03.827152",
     "status": "completed"
    },
    "tags": [
     "parameters"
    ]
   },
   "outputs": [],
   "source": [
    "DATASET_CONFIG_PATH = 'config/dataset/kc1_001.json'\n",
    "MODEL_CONFIG_PATH = 'config/model/knndd_001.json'\n",
    "PROFILE_REPORTING = False"
   ]
  },
  {
   "cell_type": "code",
   "execution_count": 2,
   "id": "8ec9da59",
   "metadata": {
    "execution": {
     "iopub.execute_input": "2021-04-04T23:29:03.924241Z",
     "iopub.status.busy": "2021-04-04T23:29:03.923530Z",
     "iopub.status.idle": "2021-04-04T23:29:03.925813Z",
     "shell.execute_reply": "2021-04-04T23:29:03.926279Z"
    },
    "papermill": {
     "duration": 0.031389,
     "end_time": "2021-04-04T23:29:03.926425",
     "exception": false,
     "start_time": "2021-04-04T23:29:03.895036",
     "status": "completed"
    },
    "tags": [
     "injected-parameters"
    ]
   },
   "outputs": [],
   "source": [
    "# Parameters\n",
    "DATASET_CONFIG_PATH = \"config/dataset/000139.json\"\n",
    "MODEL_CONFIG_PATH = \"config/model/000003.json\"\n",
    "PROFILE_REPORTING = False\n"
   ]
  },
  {
   "cell_type": "code",
   "execution_count": 3,
   "id": "b80f2a10",
   "metadata": {
    "execution": {
     "iopub.execute_input": "2021-04-04T23:29:03.981063Z",
     "iopub.status.busy": "2021-04-04T23:29:03.980286Z",
     "iopub.status.idle": "2021-04-04T23:29:03.985822Z",
     "shell.execute_reply": "2021-04-04T23:29:03.983801Z"
    },
    "papermill": {
     "duration": 0.038349,
     "end_time": "2021-04-04T23:29:03.986158",
     "exception": false,
     "start_time": "2021-04-04T23:29:03.947809",
     "status": "completed"
    },
    "tags": []
   },
   "outputs": [],
   "source": [
    "import json\n",
    "\n",
    "\n",
    "with open(DATASET_CONFIG_PATH) as f:\n",
    "    dataset_config = json.load(f)\n",
    "\n",
    "with open(MODEL_CONFIG_PATH) as f:\n",
    "    model_config = json.load(f)"
   ]
  },
  {
   "cell_type": "markdown",
   "id": "9a4b0e2d",
   "metadata": {
    "papermill": {
     "duration": 0.021941,
     "end_time": "2021-04-04T23:29:04.032246",
     "exception": false,
     "start_time": "2021-04-04T23:29:04.010305",
     "status": "completed"
    },
    "tags": []
   },
   "source": [
    "# Profiling"
   ]
  },
  {
   "cell_type": "code",
   "execution_count": 4,
   "id": "a3e0289b",
   "metadata": {
    "execution": {
     "iopub.execute_input": "2021-04-04T23:29:04.107257Z",
     "iopub.status.busy": "2021-04-04T23:29:04.104891Z",
     "iopub.status.idle": "2021-04-04T23:29:06.858482Z",
     "shell.execute_reply": "2021-04-04T23:29:06.858993Z"
    },
    "papermill": {
     "duration": 2.802724,
     "end_time": "2021-04-04T23:29:06.859141",
     "exception": false,
     "start_time": "2021-04-04T23:29:04.056417",
     "status": "completed"
    },
    "tags": []
   },
   "outputs": [],
   "source": [
    "import pandas as pd\n",
    "from pandas_profiling import ProfileReport"
   ]
  },
  {
   "cell_type": "code",
   "execution_count": 5,
   "id": "ee6c0666",
   "metadata": {
    "execution": {
     "iopub.execute_input": "2021-04-04T23:29:06.929355Z",
     "iopub.status.busy": "2021-04-04T23:29:06.928587Z",
     "iopub.status.idle": "2021-04-04T23:29:06.940733Z",
     "shell.execute_reply": "2021-04-04T23:29:06.941507Z"
    },
    "papermill": {
     "duration": 0.058905,
     "end_time": "2021-04-04T23:29:06.941696",
     "exception": false,
     "start_time": "2021-04-04T23:29:06.882791",
     "status": "completed"
    },
    "tags": []
   },
   "outputs": [],
   "source": [
    "df = pd.read_csv(dataset_config['dataset_path'])"
   ]
  },
  {
   "cell_type": "code",
   "execution_count": 6,
   "id": "7eca6c4a",
   "metadata": {
    "execution": {
     "iopub.execute_input": "2021-04-04T23:29:07.029998Z",
     "iopub.status.busy": "2021-04-04T23:29:07.027239Z",
     "iopub.status.idle": "2021-04-04T23:29:07.056364Z",
     "shell.execute_reply": "2021-04-04T23:29:07.057457Z"
    },
    "papermill": {
     "duration": 0.077837,
     "end_time": "2021-04-04T23:29:07.057860",
     "exception": false,
     "start_time": "2021-04-04T23:29:06.980023",
     "status": "completed"
    },
    "tags": []
   },
   "outputs": [
    {
     "name": "stdout",
     "output_type": "stream",
     "text": [
      "<class 'pandas.core.frame.DataFrame'>\n",
      "RangeIndex: 498 entries, 0 to 497\n",
      "Data columns (total 23 columns):\n",
      " #   Column             Non-Null Count  Dtype  \n",
      "---  ------             --------------  -----  \n",
      " 0   id                 498 non-null    int64  \n",
      " 1   loc                498 non-null    float64\n",
      " 2   v(g)               498 non-null    float64\n",
      " 3   ev(g)              498 non-null    float64\n",
      " 4   iv(g)              498 non-null    float64\n",
      " 5   n                  498 non-null    float64\n",
      " 6   v                  498 non-null    float64\n",
      " 7   l                  498 non-null    float64\n",
      " 8   d                  498 non-null    float64\n",
      " 9   i                  498 non-null    float64\n",
      " 10  e                  498 non-null    float64\n",
      " 11  b                  498 non-null    float64\n",
      " 12  t                  498 non-null    float64\n",
      " 13  lOCode             498 non-null    int64  \n",
      " 14  lOComment          498 non-null    int64  \n",
      " 15  lOBlank            498 non-null    int64  \n",
      " 16  locCodeAndComment  498 non-null    int64  \n",
      " 17  uniq_Op            498 non-null    float64\n",
      " 18  uniq_Opnd          498 non-null    float64\n",
      " 19  total_Op           498 non-null    float64\n",
      " 20  total_Opnd         498 non-null    float64\n",
      " 21  branchCount        498 non-null    float64\n",
      " 22  defects            498 non-null    bool   \n",
      "dtypes: bool(1), float64(17), int64(5)\n",
      "memory usage: 86.2 KB\n"
     ]
    }
   ],
   "source": [
    "df.info()"
   ]
  },
  {
   "cell_type": "code",
   "execution_count": 7,
   "id": "3638e5e8",
   "metadata": {
    "execution": {
     "iopub.execute_input": "2021-04-04T23:29:07.137793Z",
     "iopub.status.busy": "2021-04-04T23:29:07.136440Z",
     "iopub.status.idle": "2021-04-04T23:29:07.218335Z",
     "shell.execute_reply": "2021-04-04T23:29:07.220200Z"
    },
    "papermill": {
     "duration": 0.131353,
     "end_time": "2021-04-04T23:29:07.220717",
     "exception": false,
     "start_time": "2021-04-04T23:29:07.089364",
     "status": "completed"
    },
    "tags": []
   },
   "outputs": [
    {
     "data": {
      "text/html": [
       "<div>\n",
       "<style scoped>\n",
       "    .dataframe tbody tr th:only-of-type {\n",
       "        vertical-align: middle;\n",
       "    }\n",
       "\n",
       "    .dataframe tbody tr th {\n",
       "        vertical-align: top;\n",
       "    }\n",
       "\n",
       "    .dataframe thead th {\n",
       "        text-align: right;\n",
       "    }\n",
       "</style>\n",
       "<table border=\"1\" class=\"dataframe\">\n",
       "  <thead>\n",
       "    <tr style=\"text-align: right;\">\n",
       "      <th></th>\n",
       "      <th>id</th>\n",
       "      <th>loc</th>\n",
       "      <th>v(g)</th>\n",
       "      <th>ev(g)</th>\n",
       "      <th>iv(g)</th>\n",
       "      <th>n</th>\n",
       "      <th>v</th>\n",
       "      <th>l</th>\n",
       "      <th>d</th>\n",
       "      <th>i</th>\n",
       "      <th>...</th>\n",
       "      <th>lOCode</th>\n",
       "      <th>lOComment</th>\n",
       "      <th>lOBlank</th>\n",
       "      <th>locCodeAndComment</th>\n",
       "      <th>uniq_Op</th>\n",
       "      <th>uniq_Opnd</th>\n",
       "      <th>total_Op</th>\n",
       "      <th>total_Opnd</th>\n",
       "      <th>branchCount</th>\n",
       "      <th>defects</th>\n",
       "    </tr>\n",
       "  </thead>\n",
       "  <tbody>\n",
       "    <tr>\n",
       "      <th>0</th>\n",
       "      <td>1</td>\n",
       "      <td>1.1</td>\n",
       "      <td>1.4</td>\n",
       "      <td>1.4</td>\n",
       "      <td>1.4</td>\n",
       "      <td>1.3</td>\n",
       "      <td>1.30</td>\n",
       "      <td>1.30</td>\n",
       "      <td>1.30</td>\n",
       "      <td>1.30</td>\n",
       "      <td>...</td>\n",
       "      <td>2</td>\n",
       "      <td>2</td>\n",
       "      <td>2</td>\n",
       "      <td>2</td>\n",
       "      <td>1.2</td>\n",
       "      <td>1.2</td>\n",
       "      <td>1.2</td>\n",
       "      <td>1.2</td>\n",
       "      <td>1.4</td>\n",
       "      <td>False</td>\n",
       "    </tr>\n",
       "    <tr>\n",
       "      <th>1</th>\n",
       "      <td>2</td>\n",
       "      <td>1.0</td>\n",
       "      <td>1.0</td>\n",
       "      <td>1.0</td>\n",
       "      <td>1.0</td>\n",
       "      <td>1.0</td>\n",
       "      <td>1.00</td>\n",
       "      <td>1.00</td>\n",
       "      <td>1.00</td>\n",
       "      <td>1.00</td>\n",
       "      <td>...</td>\n",
       "      <td>1</td>\n",
       "      <td>1</td>\n",
       "      <td>1</td>\n",
       "      <td>1</td>\n",
       "      <td>1.0</td>\n",
       "      <td>1.0</td>\n",
       "      <td>1.0</td>\n",
       "      <td>1.0</td>\n",
       "      <td>1.0</td>\n",
       "      <td>True</td>\n",
       "    </tr>\n",
       "    <tr>\n",
       "      <th>2</th>\n",
       "      <td>3</td>\n",
       "      <td>24.0</td>\n",
       "      <td>5.0</td>\n",
       "      <td>1.0</td>\n",
       "      <td>3.0</td>\n",
       "      <td>63.0</td>\n",
       "      <td>309.13</td>\n",
       "      <td>0.11</td>\n",
       "      <td>9.50</td>\n",
       "      <td>32.54</td>\n",
       "      <td>...</td>\n",
       "      <td>1</td>\n",
       "      <td>0</td>\n",
       "      <td>6</td>\n",
       "      <td>0</td>\n",
       "      <td>15.0</td>\n",
       "      <td>15.0</td>\n",
       "      <td>44.0</td>\n",
       "      <td>19.0</td>\n",
       "      <td>9.0</td>\n",
       "      <td>False</td>\n",
       "    </tr>\n",
       "    <tr>\n",
       "      <th>3</th>\n",
       "      <td>4</td>\n",
       "      <td>20.0</td>\n",
       "      <td>4.0</td>\n",
       "      <td>4.0</td>\n",
       "      <td>2.0</td>\n",
       "      <td>47.0</td>\n",
       "      <td>215.49</td>\n",
       "      <td>0.06</td>\n",
       "      <td>16.00</td>\n",
       "      <td>13.47</td>\n",
       "      <td>...</td>\n",
       "      <td>0</td>\n",
       "      <td>0</td>\n",
       "      <td>3</td>\n",
       "      <td>0</td>\n",
       "      <td>16.0</td>\n",
       "      <td>8.0</td>\n",
       "      <td>31.0</td>\n",
       "      <td>16.0</td>\n",
       "      <td>7.0</td>\n",
       "      <td>False</td>\n",
       "    </tr>\n",
       "    <tr>\n",
       "      <th>4</th>\n",
       "      <td>5</td>\n",
       "      <td>24.0</td>\n",
       "      <td>6.0</td>\n",
       "      <td>6.0</td>\n",
       "      <td>2.0</td>\n",
       "      <td>72.0</td>\n",
       "      <td>346.13</td>\n",
       "      <td>0.06</td>\n",
       "      <td>17.33</td>\n",
       "      <td>19.97</td>\n",
       "      <td>...</td>\n",
       "      <td>0</td>\n",
       "      <td>0</td>\n",
       "      <td>3</td>\n",
       "      <td>0</td>\n",
       "      <td>16.0</td>\n",
       "      <td>12.0</td>\n",
       "      <td>46.0</td>\n",
       "      <td>26.0</td>\n",
       "      <td>11.0</td>\n",
       "      <td>False</td>\n",
       "    </tr>\n",
       "  </tbody>\n",
       "</table>\n",
       "<p>5 rows × 23 columns</p>\n",
       "</div>"
      ],
      "text/plain": [
       "   id   loc  v(g)  ev(g)  iv(g)     n       v     l      d      i  ...  \\\n",
       "0   1   1.1   1.4    1.4    1.4   1.3    1.30  1.30   1.30   1.30  ...   \n",
       "1   2   1.0   1.0    1.0    1.0   1.0    1.00  1.00   1.00   1.00  ...   \n",
       "2   3  24.0   5.0    1.0    3.0  63.0  309.13  0.11   9.50  32.54  ...   \n",
       "3   4  20.0   4.0    4.0    2.0  47.0  215.49  0.06  16.00  13.47  ...   \n",
       "4   5  24.0   6.0    6.0    2.0  72.0  346.13  0.06  17.33  19.97  ...   \n",
       "\n",
       "   lOCode  lOComment  lOBlank  locCodeAndComment  uniq_Op  uniq_Opnd  \\\n",
       "0       2          2        2                  2      1.2        1.2   \n",
       "1       1          1        1                  1      1.0        1.0   \n",
       "2       1          0        6                  0     15.0       15.0   \n",
       "3       0          0        3                  0     16.0        8.0   \n",
       "4       0          0        3                  0     16.0       12.0   \n",
       "\n",
       "   total_Op  total_Opnd  branchCount  defects  \n",
       "0       1.2         1.2          1.4    False  \n",
       "1       1.0         1.0          1.0     True  \n",
       "2      44.0        19.0          9.0    False  \n",
       "3      31.0        16.0          7.0    False  \n",
       "4      46.0        26.0         11.0    False  \n",
       "\n",
       "[5 rows x 23 columns]"
      ]
     },
     "execution_count": 7,
     "metadata": {},
     "output_type": "execute_result"
    }
   ],
   "source": [
    "df.head()"
   ]
  },
  {
   "cell_type": "code",
   "execution_count": 8,
   "id": "733e95eb",
   "metadata": {
    "execution": {
     "iopub.execute_input": "2021-04-04T23:29:07.301890Z",
     "iopub.status.busy": "2021-04-04T23:29:07.299132Z",
     "iopub.status.idle": "2021-04-04T23:29:07.311282Z",
     "shell.execute_reply": "2021-04-04T23:29:07.312464Z"
    },
    "papermill": {
     "duration": 0.054707,
     "end_time": "2021-04-04T23:29:07.312683",
     "exception": false,
     "start_time": "2021-04-04T23:29:07.257976",
     "status": "completed"
    },
    "tags": []
   },
   "outputs": [],
   "source": [
    "del df['id']"
   ]
  },
  {
   "cell_type": "code",
   "execution_count": 9,
   "id": "6ff6f5b0",
   "metadata": {
    "execution": {
     "iopub.execute_input": "2021-04-04T23:29:07.396165Z",
     "iopub.status.busy": "2021-04-04T23:29:07.395227Z",
     "iopub.status.idle": "2021-04-04T23:29:07.397579Z",
     "shell.execute_reply": "2021-04-04T23:29:07.397003Z"
    },
    "papermill": {
     "duration": 0.05745,
     "end_time": "2021-04-04T23:29:07.397708",
     "exception": false,
     "start_time": "2021-04-04T23:29:07.340258",
     "status": "completed"
    },
    "tags": []
   },
   "outputs": [],
   "source": [
    "if PROFILE_REPORTING:\n",
    "    ProfileReport(df).to_widgets()"
   ]
  },
  {
   "cell_type": "markdown",
   "id": "1deaf3f0",
   "metadata": {
    "papermill": {
     "duration": 0.03341,
     "end_time": "2021-04-04T23:29:07.468433",
     "exception": false,
     "start_time": "2021-04-04T23:29:07.435023",
     "status": "completed"
    },
    "tags": []
   },
   "source": [
    "# Preprocess"
   ]
  },
  {
   "cell_type": "code",
   "execution_count": 10,
   "id": "1513e563",
   "metadata": {
    "execution": {
     "iopub.execute_input": "2021-04-04T23:29:07.557788Z",
     "iopub.status.busy": "2021-04-04T23:29:07.556423Z",
     "iopub.status.idle": "2021-04-04T23:29:07.561609Z",
     "shell.execute_reply": "2021-04-04T23:29:07.562116Z"
    },
    "papermill": {
     "duration": 0.055877,
     "end_time": "2021-04-04T23:29:07.562268",
     "exception": false,
     "start_time": "2021-04-04T23:29:07.506391",
     "status": "completed"
    },
    "tags": []
   },
   "outputs": [],
   "source": [
    "working_df = df.copy()"
   ]
  },
  {
   "cell_type": "code",
   "execution_count": 11,
   "id": "3b26d675",
   "metadata": {
    "execution": {
     "iopub.execute_input": "2021-04-04T23:29:07.632877Z",
     "iopub.status.busy": "2021-04-04T23:29:07.631552Z",
     "iopub.status.idle": "2021-04-04T23:29:07.635718Z",
     "shell.execute_reply": "2021-04-04T23:29:07.634501Z"
    },
    "papermill": {
     "duration": 0.044405,
     "end_time": "2021-04-04T23:29:07.636024",
     "exception": false,
     "start_time": "2021-04-04T23:29:07.591619",
     "status": "completed"
    },
    "tags": []
   },
   "outputs": [],
   "source": [
    "working_df['defects'] = working_df['defects'].replace([False, True], [0, 1])"
   ]
  },
  {
   "cell_type": "code",
   "execution_count": 12,
   "id": "eb48604f",
   "metadata": {
    "execution": {
     "iopub.execute_input": "2021-04-04T23:29:07.692517Z",
     "iopub.status.busy": "2021-04-04T23:29:07.691386Z",
     "iopub.status.idle": "2021-04-04T23:29:07.694042Z",
     "shell.execute_reply": "2021-04-04T23:29:07.694595Z"
    },
    "papermill": {
     "duration": 0.034299,
     "end_time": "2021-04-04T23:29:07.694773",
     "exception": false,
     "start_time": "2021-04-04T23:29:07.660474",
     "status": "completed"
    },
    "tags": []
   },
   "outputs": [],
   "source": [
    "for col in dataset_config['delete_columns']:\n",
    "    del working_df[col]"
   ]
  },
  {
   "cell_type": "code",
   "execution_count": 13,
   "id": "9a17bc29",
   "metadata": {
    "execution": {
     "iopub.execute_input": "2021-04-04T23:29:07.762453Z",
     "iopub.status.busy": "2021-04-04T23:29:07.761600Z",
     "iopub.status.idle": "2021-04-04T23:29:07.772378Z",
     "shell.execute_reply": "2021-04-04T23:29:07.772840Z"
    },
    "papermill": {
     "duration": 0.052298,
     "end_time": "2021-04-04T23:29:07.772993",
     "exception": false,
     "start_time": "2021-04-04T23:29:07.720695",
     "status": "completed"
    },
    "tags": []
   },
   "outputs": [],
   "source": [
    "working_df = working_df.drop_duplicates()"
   ]
  },
  {
   "cell_type": "markdown",
   "id": "a4d52ca6",
   "metadata": {
    "papermill": {
     "duration": 0.025113,
     "end_time": "2021-04-04T23:29:07.825058",
     "exception": false,
     "start_time": "2021-04-04T23:29:07.799945",
     "status": "completed"
    },
    "tags": []
   },
   "source": [
    "# Split"
   ]
  },
  {
   "cell_type": "code",
   "execution_count": 14,
   "id": "3e9ee4b5",
   "metadata": {
    "execution": {
     "iopub.execute_input": "2021-04-04T23:29:07.883038Z",
     "iopub.status.busy": "2021-04-04T23:29:07.881089Z",
     "iopub.status.idle": "2021-04-04T23:29:07.921697Z",
     "shell.execute_reply": "2021-04-04T23:29:07.922184Z"
    },
    "papermill": {
     "duration": 0.071944,
     "end_time": "2021-04-04T23:29:07.922334",
     "exception": false,
     "start_time": "2021-04-04T23:29:07.850390",
     "status": "completed"
    },
    "tags": []
   },
   "outputs": [],
   "source": [
    "from sklearn.model_selection import train_test_split"
   ]
  },
  {
   "cell_type": "code",
   "execution_count": 15,
   "id": "274004ce",
   "metadata": {
    "execution": {
     "iopub.execute_input": "2021-04-04T23:29:07.999249Z",
     "iopub.status.busy": "2021-04-04T23:29:07.997892Z",
     "iopub.status.idle": "2021-04-04T23:29:08.008491Z",
     "shell.execute_reply": "2021-04-04T23:29:08.009499Z"
    },
    "papermill": {
     "duration": 0.061828,
     "end_time": "2021-04-04T23:29:08.009728",
     "exception": false,
     "start_time": "2021-04-04T23:29:07.947900",
     "status": "completed"
    },
    "scrolled": true,
    "tags": []
   },
   "outputs": [],
   "source": [
    "inlier, outlier = working_df[working_df['defects'] == 0], working_df[working_df['defects'] == 1]"
   ]
  },
  {
   "cell_type": "code",
   "execution_count": 16,
   "id": "753c7b03",
   "metadata": {
    "execution": {
     "iopub.execute_input": "2021-04-04T23:29:08.091840Z",
     "iopub.status.busy": "2021-04-04T23:29:08.088561Z",
     "iopub.status.idle": "2021-04-04T23:29:08.093784Z",
     "shell.execute_reply": "2021-04-04T23:29:08.094322Z"
    },
    "papermill": {
     "duration": 0.04911,
     "end_time": "2021-04-04T23:29:08.094490",
     "exception": false,
     "start_time": "2021-04-04T23:29:08.045380",
     "status": "completed"
    },
    "tags": []
   },
   "outputs": [],
   "source": [
    "X_inlier = inlier.copy()\n",
    "y_inlier = X_inlier.pop('defects')\n",
    "X_outlier = outlier.copy()\n",
    "y_outlier = X_outlier.pop('defects')"
   ]
  },
  {
   "cell_type": "code",
   "execution_count": 17,
   "id": "2ba43193",
   "metadata": {
    "execution": {
     "iopub.execute_input": "2021-04-04T23:29:08.152664Z",
     "iopub.status.busy": "2021-04-04T23:29:08.151696Z",
     "iopub.status.idle": "2021-04-04T23:29:08.155828Z",
     "shell.execute_reply": "2021-04-04T23:29:08.156967Z"
    },
    "papermill": {
     "duration": 0.033714,
     "end_time": "2021-04-04T23:29:08.157192",
     "exception": false,
     "start_time": "2021-04-04T23:29:08.123478",
     "status": "completed"
    },
    "tags": []
   },
   "outputs": [],
   "source": [
    "test_size = dataset_config['test_size']\n",
    "random_state = dataset_config['random_state']\n",
    "\n",
    "X_inlier_train, X_inlier_test, y_inlier_train, y_inlier_test = train_test_split(\n",
    "    X_inlier,\n",
    "    y_inlier,\n",
    "    test_size=test_size,\n",
    "    random_state=random_state\n",
    ")"
   ]
  },
  {
   "cell_type": "code",
   "execution_count": 18,
   "id": "0b7582ca",
   "metadata": {
    "execution": {
     "iopub.execute_input": "2021-04-04T23:29:08.227702Z",
     "iopub.status.busy": "2021-04-04T23:29:08.226627Z",
     "iopub.status.idle": "2021-04-04T23:29:08.228869Z",
     "shell.execute_reply": "2021-04-04T23:29:08.229638Z"
    },
    "papermill": {
     "duration": 0.044164,
     "end_time": "2021-04-04T23:29:08.229972",
     "exception": false,
     "start_time": "2021-04-04T23:29:08.185808",
     "status": "completed"
    },
    "tags": []
   },
   "outputs": [],
   "source": [
    "test_outlier_size = dataset_config['test_outlier_size']\n",
    "if test_outlier_size > 0.0:\n",
    "    X_outlier_train, X_outlier_test, y_outlier_train, y_outlier_test = train_test_split(\n",
    "        X_outlier,\n",
    "        y_outlier,\n",
    "        test_size=test_outlier_size,\n",
    "        random_state=random_state\n",
    "    )\n",
    "else:\n",
    "    X_outlier_train, y_outlier_train = pd.DataFrame(columns=X_outlier.columns), pd.Series(dtype='int64')\n",
    "    X_outlier_test, y_outlier_test = X_outlier.copy(), y_outlier.copy()"
   ]
  },
  {
   "cell_type": "code",
   "execution_count": 19,
   "id": "c34363db",
   "metadata": {
    "execution": {
     "iopub.execute_input": "2021-04-04T23:29:08.293256Z",
     "iopub.status.busy": "2021-04-04T23:29:08.292591Z",
     "iopub.status.idle": "2021-04-04T23:29:08.294468Z",
     "shell.execute_reply": "2021-04-04T23:29:08.294943Z"
    },
    "papermill": {
     "duration": 0.038216,
     "end_time": "2021-04-04T23:29:08.295089",
     "exception": false,
     "start_time": "2021-04-04T23:29:08.256873",
     "status": "completed"
    },
    "tags": []
   },
   "outputs": [],
   "source": [
    "X_train, y_train = pd.concat([X_inlier_train, X_outlier_train], ignore_index=True), pd.concat([y_inlier_train, y_outlier_train], ignore_index=True)\n",
    "X_test, y_test = pd.concat([X_inlier_test, X_outlier_test], ignore_index=True), pd.concat([y_inlier_test, y_outlier_test], ignore_index=True)"
   ]
  },
  {
   "cell_type": "markdown",
   "id": "7cde7309",
   "metadata": {
    "papermill": {
     "duration": 0.039583,
     "end_time": "2021-04-04T23:29:08.370816",
     "exception": false,
     "start_time": "2021-04-04T23:29:08.331233",
     "status": "completed"
    },
    "tags": []
   },
   "source": [
    "# Model"
   ]
  },
  {
   "cell_type": "code",
   "execution_count": 20,
   "id": "2b12a415",
   "metadata": {
    "execution": {
     "iopub.execute_input": "2021-04-04T23:29:08.441544Z",
     "iopub.status.busy": "2021-04-04T23:29:08.440936Z",
     "iopub.status.idle": "2021-04-04T23:29:08.443408Z",
     "shell.execute_reply": "2021-04-04T23:29:08.442936Z"
    },
    "papermill": {
     "duration": 0.043534,
     "end_time": "2021-04-04T23:29:08.443520",
     "exception": false,
     "start_time": "2021-04-04T23:29:08.399986",
     "status": "completed"
    },
    "tags": []
   },
   "outputs": [],
   "source": [
    "from math import sqrt\n",
    "\n",
    "\n",
    "class KNNDataDescription:\n",
    "    def __init__(self, k=5, outlier_threshold=1.0):\n",
    "        self.k = k\n",
    "        self.outlier_threshold = outlier_threshold\n",
    "        self.X = []\n",
    "    \n",
    "    def fit(self, X):\n",
    "        self.X = [features.to_list() for index, features in X.iterrows()]\n",
    "\n",
    "    def predict(self, entries):\n",
    "        return [self.predict_entry(features.to_list()) for index, features in entries.iterrows()]\n",
    "    \n",
    "    def predict_entry(self, entry):\n",
    "        kth_neighbor, kth_distance = self.get_kth_neighbor(entry, self.k)\n",
    "        kth_kth_neighbor, kth_kth_distance = self.get_kth_neighbor(kth_neighbor, self.k + 1)\n",
    "\n",
    "        outlier_score = kth_distance / (kth_kth_distance + 0.000001)\n",
    "\n",
    "        return 1 if outlier_score < self.outlier_threshold else -1\n",
    "        \n",
    "    def euclidean_distance(self, features1, features2):\n",
    "        distance = 0.0\n",
    "        for feat1, feat2 in zip(features1, features2):\n",
    "            distance += (feat1 - feat2)**2\n",
    "                \n",
    "        return sqrt(distance)\n",
    "\n",
    "    def get_neighbors(self, entry, k):\n",
    "        distance_to_data_points = [\n",
    "            (data_point, self.euclidean_distance(entry, data_point))\n",
    "            for data_point in self.X\n",
    "        ]\n",
    "        sorted_by_distance = sorted(distance_to_data_points, key=lambda tup: tup[1])\n",
    "        neighbors = sorted_by_distance[:k]\n",
    "        return neighbors\n",
    "\n",
    "    def get_kth_neighbor(self, entry, k):\n",
    "        neighbors = self.get_neighbors(entry, k)\n",
    "        return neighbors[-1]\n"
   ]
  },
  {
   "cell_type": "code",
   "execution_count": 21,
   "id": "1fa9ec1c",
   "metadata": {
    "execution": {
     "iopub.execute_input": "2021-04-04T23:29:08.520565Z",
     "iopub.status.busy": "2021-04-04T23:29:08.519062Z",
     "iopub.status.idle": "2021-04-04T23:29:08.605757Z",
     "shell.execute_reply": "2021-04-04T23:29:08.606823Z"
    },
    "papermill": {
     "duration": 0.133636,
     "end_time": "2021-04-04T23:29:08.607110",
     "exception": false,
     "start_time": "2021-04-04T23:29:08.473474",
     "status": "completed"
    },
    "tags": []
   },
   "outputs": [],
   "source": [
    "from sklearn.svm import OneClassSVM\n",
    "\n",
    "\n",
    "models = {\n",
    "    'oneclasssvm': OneClassSVM,\n",
    "    'knndatadescription': KNNDataDescription,\n",
    "}"
   ]
  },
  {
   "cell_type": "code",
   "execution_count": 22,
   "id": "4d72a0b1",
   "metadata": {
    "execution": {
     "iopub.execute_input": "2021-04-04T23:29:08.786647Z",
     "iopub.status.busy": "2021-04-04T23:29:08.784883Z",
     "iopub.status.idle": "2021-04-04T23:29:08.792571Z",
     "shell.execute_reply": "2021-04-04T23:29:08.794948Z"
    },
    "papermill": {
     "duration": 0.130056,
     "end_time": "2021-04-04T23:29:08.795750",
     "exception": false,
     "start_time": "2021-04-04T23:29:08.665694",
     "status": "completed"
    },
    "scrolled": true,
    "tags": []
   },
   "outputs": [],
   "source": [
    "model_cls = models[model_config['model_type']]\n",
    "model = model_cls(**model_config['hyperparameters'])"
   ]
  },
  {
   "cell_type": "markdown",
   "id": "e00cff3b",
   "metadata": {
    "papermill": {
     "duration": 0.081501,
     "end_time": "2021-04-04T23:29:08.944124",
     "exception": false,
     "start_time": "2021-04-04T23:29:08.862623",
     "status": "completed"
    },
    "tags": []
   },
   "source": [
    "# Fit"
   ]
  },
  {
   "cell_type": "code",
   "execution_count": 23,
   "id": "8b2ded89",
   "metadata": {
    "execution": {
     "iopub.execute_input": "2021-04-04T23:29:09.164606Z",
     "iopub.status.busy": "2021-04-04T23:29:09.162275Z",
     "iopub.status.idle": "2021-04-04T23:29:09.170245Z",
     "shell.execute_reply": "2021-04-04T23:29:09.172251Z"
    },
    "papermill": {
     "duration": 0.131802,
     "end_time": "2021-04-04T23:29:09.174238",
     "exception": false,
     "start_time": "2021-04-04T23:29:09.042436",
     "status": "completed"
    },
    "tags": []
   },
   "outputs": [],
   "source": [
    "model.fit(X_train)"
   ]
  },
  {
   "cell_type": "markdown",
   "id": "f99999f7",
   "metadata": {
    "papermill": {
     "duration": 0.058736,
     "end_time": "2021-04-04T23:29:09.302110",
     "exception": false,
     "start_time": "2021-04-04T23:29:09.243374",
     "status": "completed"
    },
    "tags": []
   },
   "source": [
    "# Predict"
   ]
  },
  {
   "cell_type": "code",
   "execution_count": 24,
   "id": "6536fbf7",
   "metadata": {
    "execution": {
     "iopub.execute_input": "2021-04-04T23:29:09.394077Z",
     "iopub.status.busy": "2021-04-04T23:29:09.383455Z",
     "iopub.status.idle": "2021-04-04T23:29:09.696303Z",
     "shell.execute_reply": "2021-04-04T23:29:09.695707Z"
    },
    "papermill": {
     "duration": 0.357508,
     "end_time": "2021-04-04T23:29:09.696438",
     "exception": false,
     "start_time": "2021-04-04T23:29:09.338930",
     "status": "completed"
    },
    "tags": []
   },
   "outputs": [],
   "source": [
    "predictions = model.predict(X_test)"
   ]
  },
  {
   "cell_type": "markdown",
   "id": "aa1c9881",
   "metadata": {
    "papermill": {
     "duration": 0.038961,
     "end_time": "2021-04-04T23:29:09.766096",
     "exception": false,
     "start_time": "2021-04-04T23:29:09.727135",
     "status": "completed"
    },
    "tags": []
   },
   "source": [
    "# Evaluate"
   ]
  },
  {
   "cell_type": "code",
   "execution_count": 25,
   "id": "894f0f04",
   "metadata": {
    "execution": {
     "iopub.execute_input": "2021-04-04T23:29:09.822378Z",
     "iopub.status.busy": "2021-04-04T23:29:09.821699Z",
     "iopub.status.idle": "2021-04-04T23:29:09.823565Z",
     "shell.execute_reply": "2021-04-04T23:29:09.824036Z"
    },
    "papermill": {
     "duration": 0.032999,
     "end_time": "2021-04-04T23:29:09.824179",
     "exception": false,
     "start_time": "2021-04-04T23:29:09.791180",
     "status": "completed"
    },
    "tags": []
   },
   "outputs": [],
   "source": [
    "from sklearn.metrics import f1_score"
   ]
  },
  {
   "cell_type": "code",
   "execution_count": 26,
   "id": "211744d3",
   "metadata": {
    "execution": {
     "iopub.execute_input": "2021-04-04T23:29:09.905049Z",
     "iopub.status.busy": "2021-04-04T23:29:09.903862Z",
     "iopub.status.idle": "2021-04-04T23:29:09.906049Z",
     "shell.execute_reply": "2021-04-04T23:29:09.907250Z"
    },
    "papermill": {
     "duration": 0.040123,
     "end_time": "2021-04-04T23:29:09.907829",
     "exception": false,
     "start_time": "2021-04-04T23:29:09.867706",
     "status": "completed"
    },
    "tags": []
   },
   "outputs": [],
   "source": [
    "y_test = y_test.replace([0, 1], [1, -1])"
   ]
  },
  {
   "cell_type": "code",
   "execution_count": 27,
   "id": "d68a9204",
   "metadata": {
    "execution": {
     "iopub.execute_input": "2021-04-04T23:29:09.972143Z",
     "iopub.status.busy": "2021-04-04T23:29:09.971529Z",
     "iopub.status.idle": "2021-04-04T23:29:09.973474Z",
     "shell.execute_reply": "2021-04-04T23:29:09.973944Z"
    },
    "papermill": {
     "duration": 0.039642,
     "end_time": "2021-04-04T23:29:09.974088",
     "exception": false,
     "start_time": "2021-04-04T23:29:09.934446",
     "status": "completed"
    },
    "tags": []
   },
   "outputs": [],
   "source": [
    "def evaluate(truths, predictions, pos_label, neg_label):\n",
    "    TP = 0\n",
    "    FP = 0\n",
    "    TN = 0\n",
    "    FN = 0\n",
    "\n",
    "    for truth, pred in zip(truths, predictions): \n",
    "        if truth == pred == pos_label:\n",
    "           TP += 1\n",
    "        elif pred == pos_label and truth == neg_label:\n",
    "           FP += 1\n",
    "        elif truth == pred == neg_label:\n",
    "           TN += 1\n",
    "        elif pred == neg_label and truth == pos_label:\n",
    "           FN += 1\n",
    "\n",
    "    precision = TP / (TP + FP)\n",
    "    sensitivity = TP / (TP + FN)\n",
    "    \n",
    "    return {\n",
    "        'true_pos': TP,\n",
    "        'false_pos': FP,\n",
    "        'false_neg': FN,\n",
    "        'true_neg': TN,\n",
    "        'precision': precision,\n",
    "        'sensitivity': sensitivity,\n",
    "        'f1': (2 * (precision * sensitivity)) / (precision + sensitivity)\n",
    "    }\n",
    "\n",
    "score = evaluate(y_test, predictions, pos_label=-1, neg_label=1)"
   ]
  },
  {
   "cell_type": "markdown",
   "id": "93596516",
   "metadata": {
    "papermill": {
     "duration": 0.02984,
     "end_time": "2021-04-04T23:29:10.028033",
     "exception": false,
     "start_time": "2021-04-04T23:29:09.998193",
     "status": "completed"
    },
    "tags": []
   },
   "source": [
    "# Report"
   ]
  },
  {
   "cell_type": "code",
   "execution_count": 28,
   "id": "bea5fba1",
   "metadata": {
    "execution": {
     "iopub.execute_input": "2021-04-04T23:29:10.088043Z",
     "iopub.status.busy": "2021-04-04T23:29:10.087452Z",
     "iopub.status.idle": "2021-04-04T23:29:10.089707Z",
     "shell.execute_reply": "2021-04-04T23:29:10.090182Z"
    },
    "papermill": {
     "duration": 0.036048,
     "end_time": "2021-04-04T23:29:10.090361",
     "exception": false,
     "start_time": "2021-04-04T23:29:10.054313",
     "status": "completed"
    },
    "tags": []
   },
   "outputs": [],
   "source": [
    "import csv\n",
    "\n",
    "\n",
    "dataset_config_name = DATASET_CONFIG_PATH.split('/')[-1].split('.')[0]\n",
    "model_config_name = MODEL_CONFIG_PATH.split('/')[-1].split('.')[0]\n",
    "configuration = f\"dataset_{dataset_config_name}-model_{model_config_name}\"\n",
    "\n",
    "with open('results.csv', 'a') as f:\n",
    "    report = dict({'configuration': configuration}, **score)\n",
    "    writer = csv.DictWriter(f, report.keys())\n",
    "    writer.writerow(report)"
   ]
  }
 ],
 "metadata": {
  "celltoolbar": "Tags",
  "kernelspec": {
   "display_name": "Python 3",
   "language": "python",
   "name": "python3"
  },
  "language_info": {
   "codemirror_mode": {
    "name": "ipython",
    "version": 3
   },
   "file_extension": ".py",
   "mimetype": "text/x-python",
   "name": "python",
   "nbconvert_exporter": "python",
   "pygments_lexer": "ipython3",
   "version": "3.9.1"
  },
  "papermill": {
   "default_parameters": {},
   "duration": 9.069056,
   "end_time": "2021-04-04T23:29:11.686930",
   "environment_variables": {},
   "exception": null,
   "input_path": "main.ipynb",
   "output_path": "runs/dataset_000139-model_000003.ipynb",
   "parameters": {
    "DATASET_CONFIG_PATH": "config/dataset/000139.json",
    "MODEL_CONFIG_PATH": "config/model/000003.json",
    "PROFILE_REPORTING": false
   },
   "start_time": "2021-04-04T23:29:02.617874",
   "version": "2.3.3"
  }
 },
 "nbformat": 4,
 "nbformat_minor": 5
}