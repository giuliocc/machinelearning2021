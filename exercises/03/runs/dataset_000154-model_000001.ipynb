{
 "cells": [
  {
   "cell_type": "markdown",
   "id": "51c71c25",
   "metadata": {
    "papermill": {
     "duration": 0.031181,
     "end_time": "2021-04-04T23:35:18.765922",
     "exception": false,
     "start_time": "2021-04-04T23:35:18.734741",
     "status": "completed"
    },
    "tags": []
   },
   "source": [
    "# Parametrizing"
   ]
  },
  {
   "cell_type": "code",
   "execution_count": 1,
   "id": "3b136394",
   "metadata": {
    "execution": {
     "iopub.execute_input": "2021-04-04T23:35:18.836042Z",
     "iopub.status.busy": "2021-04-04T23:35:18.833066Z",
     "iopub.status.idle": "2021-04-04T23:35:18.838618Z",
     "shell.execute_reply": "2021-04-04T23:35:18.839118Z"
    },
    "papermill": {
     "duration": 0.04224,
     "end_time": "2021-04-04T23:35:18.839345",
     "exception": false,
     "start_time": "2021-04-04T23:35:18.797105",
     "status": "completed"
    },
    "tags": [
     "parameters"
    ]
   },
   "outputs": [],
   "source": [
    "DATASET_CONFIG_PATH = 'config/dataset/kc1_001.json'\n",
    "MODEL_CONFIG_PATH = 'config/model/knndd_001.json'\n",
    "PROFILE_REPORTING = False"
   ]
  },
  {
   "cell_type": "code",
   "execution_count": 2,
   "id": "22502506",
   "metadata": {
    "execution": {
     "iopub.execute_input": "2021-04-04T23:35:18.885903Z",
     "iopub.status.busy": "2021-04-04T23:35:18.885147Z",
     "iopub.status.idle": "2021-04-04T23:35:18.888469Z",
     "shell.execute_reply": "2021-04-04T23:35:18.887491Z"
    },
    "papermill": {
     "duration": 0.027439,
     "end_time": "2021-04-04T23:35:18.888642",
     "exception": false,
     "start_time": "2021-04-04T23:35:18.861203",
     "status": "completed"
    },
    "tags": [
     "injected-parameters"
    ]
   },
   "outputs": [],
   "source": [
    "# Parameters\n",
    "DATASET_CONFIG_PATH = \"config/dataset/000154.json\"\n",
    "MODEL_CONFIG_PATH = \"config/model/000001.json\"\n",
    "PROFILE_REPORTING = False\n"
   ]
  },
  {
   "cell_type": "code",
   "execution_count": 3,
   "id": "b80f2a10",
   "metadata": {
    "execution": {
     "iopub.execute_input": "2021-04-04T23:35:18.944440Z",
     "iopub.status.busy": "2021-04-04T23:35:18.942698Z",
     "iopub.status.idle": "2021-04-04T23:35:18.947003Z",
     "shell.execute_reply": "2021-04-04T23:35:18.948732Z"
    },
    "papermill": {
     "duration": 0.037385,
     "end_time": "2021-04-04T23:35:18.949399",
     "exception": false,
     "start_time": "2021-04-04T23:35:18.912014",
     "status": "completed"
    },
    "tags": []
   },
   "outputs": [],
   "source": [
    "import json\n",
    "\n",
    "\n",
    "with open(DATASET_CONFIG_PATH) as f:\n",
    "    dataset_config = json.load(f)\n",
    "\n",
    "with open(MODEL_CONFIG_PATH) as f:\n",
    "    model_config = json.load(f)"
   ]
  },
  {
   "cell_type": "markdown",
   "id": "9a4b0e2d",
   "metadata": {
    "papermill": {
     "duration": 0.029314,
     "end_time": "2021-04-04T23:35:19.015295",
     "exception": false,
     "start_time": "2021-04-04T23:35:18.985981",
     "status": "completed"
    },
    "tags": []
   },
   "source": [
    "# Profiling"
   ]
  },
  {
   "cell_type": "code",
   "execution_count": 4,
   "id": "a3e0289b",
   "metadata": {
    "execution": {
     "iopub.execute_input": "2021-04-04T23:35:19.064288Z",
     "iopub.status.busy": "2021-04-04T23:35:19.062932Z",
     "iopub.status.idle": "2021-04-04T23:35:20.424637Z",
     "shell.execute_reply": "2021-04-04T23:35:20.425119Z"
    },
    "papermill": {
     "duration": 1.38975,
     "end_time": "2021-04-04T23:35:20.425267",
     "exception": false,
     "start_time": "2021-04-04T23:35:19.035517",
     "status": "completed"
    },
    "tags": []
   },
   "outputs": [],
   "source": [
    "import pandas as pd\n",
    "from pandas_profiling import ProfileReport"
   ]
  },
  {
   "cell_type": "code",
   "execution_count": 5,
   "id": "ee6c0666",
   "metadata": {
    "execution": {
     "iopub.execute_input": "2021-04-04T23:35:20.471714Z",
     "iopub.status.busy": "2021-04-04T23:35:20.470514Z",
     "iopub.status.idle": "2021-04-04T23:35:20.478182Z",
     "shell.execute_reply": "2021-04-04T23:35:20.478669Z"
    },
    "papermill": {
     "duration": 0.032766,
     "end_time": "2021-04-04T23:35:20.478816",
     "exception": false,
     "start_time": "2021-04-04T23:35:20.446050",
     "status": "completed"
    },
    "tags": []
   },
   "outputs": [],
   "source": [
    "df = pd.read_csv(dataset_config['dataset_path'])"
   ]
  },
  {
   "cell_type": "code",
   "execution_count": 6,
   "id": "7eca6c4a",
   "metadata": {
    "execution": {
     "iopub.execute_input": "2021-04-04T23:35:20.540791Z",
     "iopub.status.busy": "2021-04-04T23:35:20.539940Z",
     "iopub.status.idle": "2021-04-04T23:35:20.542796Z",
     "shell.execute_reply": "2021-04-04T23:35:20.543362Z"
    },
    "papermill": {
     "duration": 0.043621,
     "end_time": "2021-04-04T23:35:20.543505",
     "exception": false,
     "start_time": "2021-04-04T23:35:20.499884",
     "status": "completed"
    },
    "tags": []
   },
   "outputs": [
    {
     "name": "stdout",
     "output_type": "stream",
     "text": [
      "<class 'pandas.core.frame.DataFrame'>\n",
      "RangeIndex: 498 entries, 0 to 497\n",
      "Data columns (total 23 columns):\n",
      " #   Column             Non-Null Count  Dtype  \n",
      "---  ------             --------------  -----  \n",
      " 0   id                 498 non-null    int64  \n",
      " 1   loc                498 non-null    float64\n",
      " 2   v(g)               498 non-null    float64\n",
      " 3   ev(g)              498 non-null    float64\n",
      " 4   iv(g)              498 non-null    float64\n",
      " 5   n                  498 non-null    float64\n",
      " 6   v                  498 non-null    float64\n",
      " 7   l                  498 non-null    float64\n",
      " 8   d                  498 non-null    float64\n",
      " 9   i                  498 non-null    float64\n",
      " 10  e                  498 non-null    float64\n",
      " 11  b                  498 non-null    float64\n",
      " 12  t                  498 non-null    float64\n",
      " 13  lOCode             498 non-null    int64  \n",
      " 14  lOComment          498 non-null    int64  \n",
      " 15  lOBlank            498 non-null    int64  \n",
      " 16  locCodeAndComment  498 non-null    int64  \n",
      " 17  uniq_Op            498 non-null    float64\n",
      " 18  uniq_Opnd          498 non-null    float64\n",
      " 19  total_Op           498 non-null    float64\n",
      " 20  total_Opnd         498 non-null    float64\n",
      " 21  branchCount        498 non-null    float64\n",
      " 22  defects            498 non-null    bool   \n",
      "dtypes: bool(1), float64(17), int64(5)\n",
      "memory usage: 86.2 KB\n"
     ]
    }
   ],
   "source": [
    "df.info()"
   ]
  },
  {
   "cell_type": "code",
   "execution_count": 7,
   "id": "3638e5e8",
   "metadata": {
    "execution": {
     "iopub.execute_input": "2021-04-04T23:35:20.601216Z",
     "iopub.status.busy": "2021-04-04T23:35:20.600383Z",
     "iopub.status.idle": "2021-04-04T23:35:20.631038Z",
     "shell.execute_reply": "2021-04-04T23:35:20.631529Z"
    },
    "papermill": {
     "duration": 0.064914,
     "end_time": "2021-04-04T23:35:20.631675",
     "exception": false,
     "start_time": "2021-04-04T23:35:20.566761",
     "status": "completed"
    },
    "tags": []
   },
   "outputs": [
    {
     "data": {
      "text/html": [
       "<div>\n",
       "<style scoped>\n",
       "    .dataframe tbody tr th:only-of-type {\n",
       "        vertical-align: middle;\n",
       "    }\n",
       "\n",
       "    .dataframe tbody tr th {\n",
       "        vertical-align: top;\n",
       "    }\n",
       "\n",
       "    .dataframe thead th {\n",
       "        text-align: right;\n",
       "    }\n",
       "</style>\n",
       "<table border=\"1\" class=\"dataframe\">\n",
       "  <thead>\n",
       "    <tr style=\"text-align: right;\">\n",
       "      <th></th>\n",
       "      <th>id</th>\n",
       "      <th>loc</th>\n",
       "      <th>v(g)</th>\n",
       "      <th>ev(g)</th>\n",
       "      <th>iv(g)</th>\n",
       "      <th>n</th>\n",
       "      <th>v</th>\n",
       "      <th>l</th>\n",
       "      <th>d</th>\n",
       "      <th>i</th>\n",
       "      <th>...</th>\n",
       "      <th>lOCode</th>\n",
       "      <th>lOComment</th>\n",
       "      <th>lOBlank</th>\n",
       "      <th>locCodeAndComment</th>\n",
       "      <th>uniq_Op</th>\n",
       "      <th>uniq_Opnd</th>\n",
       "      <th>total_Op</th>\n",
       "      <th>total_Opnd</th>\n",
       "      <th>branchCount</th>\n",
       "      <th>defects</th>\n",
       "    </tr>\n",
       "  </thead>\n",
       "  <tbody>\n",
       "    <tr>\n",
       "      <th>0</th>\n",
       "      <td>1</td>\n",
       "      <td>1.1</td>\n",
       "      <td>1.4</td>\n",
       "      <td>1.4</td>\n",
       "      <td>1.4</td>\n",
       "      <td>1.3</td>\n",
       "      <td>1.30</td>\n",
       "      <td>1.30</td>\n",
       "      <td>1.30</td>\n",
       "      <td>1.30</td>\n",
       "      <td>...</td>\n",
       "      <td>2</td>\n",
       "      <td>2</td>\n",
       "      <td>2</td>\n",
       "      <td>2</td>\n",
       "      <td>1.2</td>\n",
       "      <td>1.2</td>\n",
       "      <td>1.2</td>\n",
       "      <td>1.2</td>\n",
       "      <td>1.4</td>\n",
       "      <td>False</td>\n",
       "    </tr>\n",
       "    <tr>\n",
       "      <th>1</th>\n",
       "      <td>2</td>\n",
       "      <td>1.0</td>\n",
       "      <td>1.0</td>\n",
       "      <td>1.0</td>\n",
       "      <td>1.0</td>\n",
       "      <td>1.0</td>\n",
       "      <td>1.00</td>\n",
       "      <td>1.00</td>\n",
       "      <td>1.00</td>\n",
       "      <td>1.00</td>\n",
       "      <td>...</td>\n",
       "      <td>1</td>\n",
       "      <td>1</td>\n",
       "      <td>1</td>\n",
       "      <td>1</td>\n",
       "      <td>1.0</td>\n",
       "      <td>1.0</td>\n",
       "      <td>1.0</td>\n",
       "      <td>1.0</td>\n",
       "      <td>1.0</td>\n",
       "      <td>True</td>\n",
       "    </tr>\n",
       "    <tr>\n",
       "      <th>2</th>\n",
       "      <td>3</td>\n",
       "      <td>24.0</td>\n",
       "      <td>5.0</td>\n",
       "      <td>1.0</td>\n",
       "      <td>3.0</td>\n",
       "      <td>63.0</td>\n",
       "      <td>309.13</td>\n",
       "      <td>0.11</td>\n",
       "      <td>9.50</td>\n",
       "      <td>32.54</td>\n",
       "      <td>...</td>\n",
       "      <td>1</td>\n",
       "      <td>0</td>\n",
       "      <td>6</td>\n",
       "      <td>0</td>\n",
       "      <td>15.0</td>\n",
       "      <td>15.0</td>\n",
       "      <td>44.0</td>\n",
       "      <td>19.0</td>\n",
       "      <td>9.0</td>\n",
       "      <td>False</td>\n",
       "    </tr>\n",
       "    <tr>\n",
       "      <th>3</th>\n",
       "      <td>4</td>\n",
       "      <td>20.0</td>\n",
       "      <td>4.0</td>\n",
       "      <td>4.0</td>\n",
       "      <td>2.0</td>\n",
       "      <td>47.0</td>\n",
       "      <td>215.49</td>\n",
       "      <td>0.06</td>\n",
       "      <td>16.00</td>\n",
       "      <td>13.47</td>\n",
       "      <td>...</td>\n",
       "      <td>0</td>\n",
       "      <td>0</td>\n",
       "      <td>3</td>\n",
       "      <td>0</td>\n",
       "      <td>16.0</td>\n",
       "      <td>8.0</td>\n",
       "      <td>31.0</td>\n",
       "      <td>16.0</td>\n",
       "      <td>7.0</td>\n",
       "      <td>False</td>\n",
       "    </tr>\n",
       "    <tr>\n",
       "      <th>4</th>\n",
       "      <td>5</td>\n",
       "      <td>24.0</td>\n",
       "      <td>6.0</td>\n",
       "      <td>6.0</td>\n",
       "      <td>2.0</td>\n",
       "      <td>72.0</td>\n",
       "      <td>346.13</td>\n",
       "      <td>0.06</td>\n",
       "      <td>17.33</td>\n",
       "      <td>19.97</td>\n",
       "      <td>...</td>\n",
       "      <td>0</td>\n",
       "      <td>0</td>\n",
       "      <td>3</td>\n",
       "      <td>0</td>\n",
       "      <td>16.0</td>\n",
       "      <td>12.0</td>\n",
       "      <td>46.0</td>\n",
       "      <td>26.0</td>\n",
       "      <td>11.0</td>\n",
       "      <td>False</td>\n",
       "    </tr>\n",
       "  </tbody>\n",
       "</table>\n",
       "<p>5 rows × 23 columns</p>\n",
       "</div>"
      ],
      "text/plain": [
       "   id   loc  v(g)  ev(g)  iv(g)     n       v     l      d      i  ...  \\\n",
       "0   1   1.1   1.4    1.4    1.4   1.3    1.30  1.30   1.30   1.30  ...   \n",
       "1   2   1.0   1.0    1.0    1.0   1.0    1.00  1.00   1.00   1.00  ...   \n",
       "2   3  24.0   5.0    1.0    3.0  63.0  309.13  0.11   9.50  32.54  ...   \n",
       "3   4  20.0   4.0    4.0    2.0  47.0  215.49  0.06  16.00  13.47  ...   \n",
       "4   5  24.0   6.0    6.0    2.0  72.0  346.13  0.06  17.33  19.97  ...   \n",
       "\n",
       "   lOCode  lOComment  lOBlank  locCodeAndComment  uniq_Op  uniq_Opnd  \\\n",
       "0       2          2        2                  2      1.2        1.2   \n",
       "1       1          1        1                  1      1.0        1.0   \n",
       "2       1          0        6                  0     15.0       15.0   \n",
       "3       0          0        3                  0     16.0        8.0   \n",
       "4       0          0        3                  0     16.0       12.0   \n",
       "\n",
       "   total_Op  total_Opnd  branchCount  defects  \n",
       "0       1.2         1.2          1.4    False  \n",
       "1       1.0         1.0          1.0     True  \n",
       "2      44.0        19.0          9.0    False  \n",
       "3      31.0        16.0          7.0    False  \n",
       "4      46.0        26.0         11.0    False  \n",
       "\n",
       "[5 rows x 23 columns]"
      ]
     },
     "execution_count": 7,
     "metadata": {},
     "output_type": "execute_result"
    }
   ],
   "source": [
    "df.head()"
   ]
  },
  {
   "cell_type": "code",
   "execution_count": 8,
   "id": "733e95eb",
   "metadata": {
    "execution": {
     "iopub.execute_input": "2021-04-04T23:35:20.685533Z",
     "iopub.status.busy": "2021-04-04T23:35:20.684854Z",
     "iopub.status.idle": "2021-04-04T23:35:20.687023Z",
     "shell.execute_reply": "2021-04-04T23:35:20.687543Z"
    },
    "papermill": {
     "duration": 0.031807,
     "end_time": "2021-04-04T23:35:20.687701",
     "exception": false,
     "start_time": "2021-04-04T23:35:20.655894",
     "status": "completed"
    },
    "tags": []
   },
   "outputs": [],
   "source": [
    "del df['id']"
   ]
  },
  {
   "cell_type": "code",
   "execution_count": 9,
   "id": "6ff6f5b0",
   "metadata": {
    "execution": {
     "iopub.execute_input": "2021-04-04T23:35:20.738170Z",
     "iopub.status.busy": "2021-04-04T23:35:20.737395Z",
     "iopub.status.idle": "2021-04-04T23:35:20.739770Z",
     "shell.execute_reply": "2021-04-04T23:35:20.740559Z"
    },
    "papermill": {
     "duration": 0.02906,
     "end_time": "2021-04-04T23:35:20.740761",
     "exception": false,
     "start_time": "2021-04-04T23:35:20.711701",
     "status": "completed"
    },
    "tags": []
   },
   "outputs": [],
   "source": [
    "if PROFILE_REPORTING:\n",
    "    ProfileReport(df).to_widgets()"
   ]
  },
  {
   "cell_type": "markdown",
   "id": "1deaf3f0",
   "metadata": {
    "papermill": {
     "duration": 0.028771,
     "end_time": "2021-04-04T23:35:20.795388",
     "exception": false,
     "start_time": "2021-04-04T23:35:20.766617",
     "status": "completed"
    },
    "tags": []
   },
   "source": [
    "# Preprocess"
   ]
  },
  {
   "cell_type": "code",
   "execution_count": 10,
   "id": "1513e563",
   "metadata": {
    "execution": {
     "iopub.execute_input": "2021-04-04T23:35:20.845342Z",
     "iopub.status.busy": "2021-04-04T23:35:20.844618Z",
     "iopub.status.idle": "2021-04-04T23:35:20.848313Z",
     "shell.execute_reply": "2021-04-04T23:35:20.847649Z"
    },
    "papermill": {
     "duration": 0.028339,
     "end_time": "2021-04-04T23:35:20.848467",
     "exception": false,
     "start_time": "2021-04-04T23:35:20.820128",
     "status": "completed"
    },
    "tags": []
   },
   "outputs": [],
   "source": [
    "working_df = df.copy()"
   ]
  },
  {
   "cell_type": "code",
   "execution_count": 11,
   "id": "3b26d675",
   "metadata": {
    "execution": {
     "iopub.execute_input": "2021-04-04T23:35:20.909726Z",
     "iopub.status.busy": "2021-04-04T23:35:20.908624Z",
     "iopub.status.idle": "2021-04-04T23:35:20.911312Z",
     "shell.execute_reply": "2021-04-04T23:35:20.910730Z"
    },
    "papermill": {
     "duration": 0.039404,
     "end_time": "2021-04-04T23:35:20.911448",
     "exception": false,
     "start_time": "2021-04-04T23:35:20.872044",
     "status": "completed"
    },
    "tags": []
   },
   "outputs": [],
   "source": [
    "working_df['defects'] = working_df['defects'].replace([False, True], [0, 1])"
   ]
  },
  {
   "cell_type": "code",
   "execution_count": 12,
   "id": "eb48604f",
   "metadata": {
    "execution": {
     "iopub.execute_input": "2021-04-04T23:35:20.963472Z",
     "iopub.status.busy": "2021-04-04T23:35:20.961508Z",
     "iopub.status.idle": "2021-04-04T23:35:20.965725Z",
     "shell.execute_reply": "2021-04-04T23:35:20.965155Z"
    },
    "papermill": {
     "duration": 0.031566,
     "end_time": "2021-04-04T23:35:20.965851",
     "exception": false,
     "start_time": "2021-04-04T23:35:20.934285",
     "status": "completed"
    },
    "tags": []
   },
   "outputs": [],
   "source": [
    "for col in dataset_config['delete_columns']:\n",
    "    del working_df[col]"
   ]
  },
  {
   "cell_type": "code",
   "execution_count": 13,
   "id": "9a17bc29",
   "metadata": {
    "execution": {
     "iopub.execute_input": "2021-04-04T23:35:21.032634Z",
     "iopub.status.busy": "2021-04-04T23:35:21.031431Z",
     "iopub.status.idle": "2021-04-04T23:35:21.045450Z",
     "shell.execute_reply": "2021-04-04T23:35:21.044778Z"
    },
    "papermill": {
     "duration": 0.05407,
     "end_time": "2021-04-04T23:35:21.045615",
     "exception": false,
     "start_time": "2021-04-04T23:35:20.991545",
     "status": "completed"
    },
    "tags": []
   },
   "outputs": [],
   "source": [
    "working_df = working_df.drop_duplicates()"
   ]
  },
  {
   "cell_type": "markdown",
   "id": "a4d52ca6",
   "metadata": {
    "papermill": {
     "duration": 0.0228,
     "end_time": "2021-04-04T23:35:21.097219",
     "exception": false,
     "start_time": "2021-04-04T23:35:21.074419",
     "status": "completed"
    },
    "tags": []
   },
   "source": [
    "# Split"
   ]
  },
  {
   "cell_type": "code",
   "execution_count": 14,
   "id": "3e9ee4b5",
   "metadata": {
    "execution": {
     "iopub.execute_input": "2021-04-04T23:35:21.160057Z",
     "iopub.status.busy": "2021-04-04T23:35:21.158595Z",
     "iopub.status.idle": "2021-04-04T23:35:21.201467Z",
     "shell.execute_reply": "2021-04-04T23:35:21.200862Z"
    },
    "papermill": {
     "duration": 0.077807,
     "end_time": "2021-04-04T23:35:21.201611",
     "exception": false,
     "start_time": "2021-04-04T23:35:21.123804",
     "status": "completed"
    },
    "tags": []
   },
   "outputs": [],
   "source": [
    "from sklearn.model_selection import train_test_split"
   ]
  },
  {
   "cell_type": "code",
   "execution_count": 15,
   "id": "274004ce",
   "metadata": {
    "execution": {
     "iopub.execute_input": "2021-04-04T23:35:21.252275Z",
     "iopub.status.busy": "2021-04-04T23:35:21.251659Z",
     "iopub.status.idle": "2021-04-04T23:35:21.255889Z",
     "shell.execute_reply": "2021-04-04T23:35:21.256365Z"
    },
    "papermill": {
     "duration": 0.030725,
     "end_time": "2021-04-04T23:35:21.256510",
     "exception": false,
     "start_time": "2021-04-04T23:35:21.225785",
     "status": "completed"
    },
    "scrolled": true,
    "tags": []
   },
   "outputs": [],
   "source": [
    "inlier, outlier = working_df[working_df['defects'] == 0], working_df[working_df['defects'] == 1]"
   ]
  },
  {
   "cell_type": "code",
   "execution_count": 16,
   "id": "753c7b03",
   "metadata": {
    "execution": {
     "iopub.execute_input": "2021-04-04T23:35:21.317281Z",
     "iopub.status.busy": "2021-04-04T23:35:21.316222Z",
     "iopub.status.idle": "2021-04-04T23:35:21.322228Z",
     "shell.execute_reply": "2021-04-04T23:35:21.321503Z"
    },
    "papermill": {
     "duration": 0.041325,
     "end_time": "2021-04-04T23:35:21.322374",
     "exception": false,
     "start_time": "2021-04-04T23:35:21.281049",
     "status": "completed"
    },
    "tags": []
   },
   "outputs": [],
   "source": [
    "X_inlier = inlier.copy()\n",
    "y_inlier = X_inlier.pop('defects')\n",
    "X_outlier = outlier.copy()\n",
    "y_outlier = X_outlier.pop('defects')"
   ]
  },
  {
   "cell_type": "code",
   "execution_count": 17,
   "id": "2ba43193",
   "metadata": {
    "execution": {
     "iopub.execute_input": "2021-04-04T23:35:21.400460Z",
     "iopub.status.busy": "2021-04-04T23:35:21.399825Z",
     "iopub.status.idle": "2021-04-04T23:35:21.401888Z",
     "shell.execute_reply": "2021-04-04T23:35:21.402361Z"
    },
    "papermill": {
     "duration": 0.039415,
     "end_time": "2021-04-04T23:35:21.402506",
     "exception": false,
     "start_time": "2021-04-04T23:35:21.363091",
     "status": "completed"
    },
    "tags": []
   },
   "outputs": [],
   "source": [
    "test_size = dataset_config['test_size']\n",
    "random_state = dataset_config['random_state']\n",
    "\n",
    "X_inlier_train, X_inlier_test, y_inlier_train, y_inlier_test = train_test_split(\n",
    "    X_inlier,\n",
    "    y_inlier,\n",
    "    test_size=test_size,\n",
    "    random_state=random_state\n",
    ")"
   ]
  },
  {
   "cell_type": "code",
   "execution_count": 18,
   "id": "0b7582ca",
   "metadata": {
    "execution": {
     "iopub.execute_input": "2021-04-04T23:35:21.467833Z",
     "iopub.status.busy": "2021-04-04T23:35:21.465114Z",
     "iopub.status.idle": "2021-04-04T23:35:21.482306Z",
     "shell.execute_reply": "2021-04-04T23:35:21.481060Z"
    },
    "papermill": {
     "duration": 0.05536,
     "end_time": "2021-04-04T23:35:21.482573",
     "exception": false,
     "start_time": "2021-04-04T23:35:21.427213",
     "status": "completed"
    },
    "tags": []
   },
   "outputs": [],
   "source": [
    "test_outlier_size = dataset_config['test_outlier_size']\n",
    "if test_outlier_size > 0.0:\n",
    "    X_outlier_train, X_outlier_test, y_outlier_train, y_outlier_test = train_test_split(\n",
    "        X_outlier,\n",
    "        y_outlier,\n",
    "        test_size=test_outlier_size,\n",
    "        random_state=random_state\n",
    "    )\n",
    "else:\n",
    "    X_outlier_train, y_outlier_train = pd.DataFrame(columns=X_outlier.columns), pd.Series(dtype='int64')\n",
    "    X_outlier_test, y_outlier_test = X_outlier.copy(), y_outlier.copy()"
   ]
  },
  {
   "cell_type": "code",
   "execution_count": 19,
   "id": "c34363db",
   "metadata": {
    "execution": {
     "iopub.execute_input": "2021-04-04T23:35:21.548044Z",
     "iopub.status.busy": "2021-04-04T23:35:21.547177Z",
     "iopub.status.idle": "2021-04-04T23:35:21.549870Z",
     "shell.execute_reply": "2021-04-04T23:35:21.549349Z"
    },
    "papermill": {
     "duration": 0.039225,
     "end_time": "2021-04-04T23:35:21.549990",
     "exception": false,
     "start_time": "2021-04-04T23:35:21.510765",
     "status": "completed"
    },
    "tags": []
   },
   "outputs": [],
   "source": [
    "X_train, y_train = pd.concat([X_inlier_train, X_outlier_train], ignore_index=True), pd.concat([y_inlier_train, y_outlier_train], ignore_index=True)\n",
    "X_test, y_test = pd.concat([X_inlier_test, X_outlier_test], ignore_index=True), pd.concat([y_inlier_test, y_outlier_test], ignore_index=True)"
   ]
  },
  {
   "cell_type": "markdown",
   "id": "7cde7309",
   "metadata": {
    "papermill": {
     "duration": 0.030351,
     "end_time": "2021-04-04T23:35:21.604462",
     "exception": false,
     "start_time": "2021-04-04T23:35:21.574111",
     "status": "completed"
    },
    "tags": []
   },
   "source": [
    "# Model"
   ]
  },
  {
   "cell_type": "code",
   "execution_count": 20,
   "id": "2b12a415",
   "metadata": {
    "execution": {
     "iopub.execute_input": "2021-04-04T23:35:21.688926Z",
     "iopub.status.busy": "2021-04-04T23:35:21.687220Z",
     "iopub.status.idle": "2021-04-04T23:35:21.689944Z",
     "shell.execute_reply": "2021-04-04T23:35:21.690418Z"
    },
    "papermill": {
     "duration": 0.048,
     "end_time": "2021-04-04T23:35:21.690562",
     "exception": false,
     "start_time": "2021-04-04T23:35:21.642562",
     "status": "completed"
    },
    "tags": []
   },
   "outputs": [],
   "source": [
    "from math import sqrt\n",
    "\n",
    "\n",
    "class KNNDataDescription:\n",
    "    def __init__(self, k=5, outlier_threshold=1.0):\n",
    "        self.k = k\n",
    "        self.outlier_threshold = outlier_threshold\n",
    "        self.X = []\n",
    "    \n",
    "    def fit(self, X):\n",
    "        self.X = [features.to_list() for index, features in X.iterrows()]\n",
    "\n",
    "    def predict(self, entries):\n",
    "        return [self.predict_entry(features.to_list()) for index, features in entries.iterrows()]\n",
    "    \n",
    "    def predict_entry(self, entry):\n",
    "        kth_neighbor, kth_distance = self.get_kth_neighbor(entry, self.k)\n",
    "        kth_kth_neighbor, kth_kth_distance = self.get_kth_neighbor(kth_neighbor, self.k + 1)\n",
    "\n",
    "        outlier_score = kth_distance / (kth_kth_distance + 0.000001)\n",
    "\n",
    "        return 1 if outlier_score < self.outlier_threshold else -1\n",
    "        \n",
    "    def euclidean_distance(self, features1, features2):\n",
    "        distance = 0.0\n",
    "        for feat1, feat2 in zip(features1, features2):\n",
    "            distance += (feat1 - feat2)**2\n",
    "                \n",
    "        return sqrt(distance)\n",
    "\n",
    "    def get_neighbors(self, entry, k):\n",
    "        distance_to_data_points = [\n",
    "            (data_point, self.euclidean_distance(entry, data_point))\n",
    "            for data_point in self.X\n",
    "        ]\n",
    "        sorted_by_distance = sorted(distance_to_data_points, key=lambda tup: tup[1])\n",
    "        neighbors = sorted_by_distance[:k]\n",
    "        return neighbors\n",
    "\n",
    "    def get_kth_neighbor(self, entry, k):\n",
    "        neighbors = self.get_neighbors(entry, k)\n",
    "        return neighbors[-1]\n"
   ]
  },
  {
   "cell_type": "code",
   "execution_count": 21,
   "id": "1fa9ec1c",
   "metadata": {
    "execution": {
     "iopub.execute_input": "2021-04-04T23:35:21.763078Z",
     "iopub.status.busy": "2021-04-04T23:35:21.755268Z",
     "iopub.status.idle": "2021-04-04T23:35:21.801295Z",
     "shell.execute_reply": "2021-04-04T23:35:21.802480Z"
    },
    "papermill": {
     "duration": 0.089267,
     "end_time": "2021-04-04T23:35:21.802956",
     "exception": false,
     "start_time": "2021-04-04T23:35:21.713689",
     "status": "completed"
    },
    "tags": []
   },
   "outputs": [],
   "source": [
    "from sklearn.svm import OneClassSVM\n",
    "\n",
    "\n",
    "models = {\n",
    "    'oneclasssvm': OneClassSVM,\n",
    "    'knndatadescription': KNNDataDescription,\n",
    "}"
   ]
  },
  {
   "cell_type": "code",
   "execution_count": 22,
   "id": "4d72a0b1",
   "metadata": {
    "execution": {
     "iopub.execute_input": "2021-04-04T23:35:21.857958Z",
     "iopub.status.busy": "2021-04-04T23:35:21.857371Z",
     "iopub.status.idle": "2021-04-04T23:35:21.859446Z",
     "shell.execute_reply": "2021-04-04T23:35:21.859901Z"
    },
    "papermill": {
     "duration": 0.032037,
     "end_time": "2021-04-04T23:35:21.860043",
     "exception": false,
     "start_time": "2021-04-04T23:35:21.828006",
     "status": "completed"
    },
    "scrolled": true,
    "tags": []
   },
   "outputs": [],
   "source": [
    "model_cls = models[model_config['model_type']]\n",
    "model = model_cls(**model_config['hyperparameters'])"
   ]
  },
  {
   "cell_type": "markdown",
   "id": "e00cff3b",
   "metadata": {
    "papermill": {
     "duration": 0.03615,
     "end_time": "2021-04-04T23:35:21.921587",
     "exception": false,
     "start_time": "2021-04-04T23:35:21.885437",
     "status": "completed"
    },
    "tags": []
   },
   "source": [
    "# Fit"
   ]
  },
  {
   "cell_type": "code",
   "execution_count": 23,
   "id": "8b2ded89",
   "metadata": {
    "execution": {
     "iopub.execute_input": "2021-04-04T23:35:21.991316Z",
     "iopub.status.busy": "2021-04-04T23:35:21.990536Z",
     "iopub.status.idle": "2021-04-04T23:35:22.013684Z",
     "shell.execute_reply": "2021-04-04T23:35:22.014142Z"
    },
    "papermill": {
     "duration": 0.058401,
     "end_time": "2021-04-04T23:35:22.014294",
     "exception": false,
     "start_time": "2021-04-04T23:35:21.955893",
     "status": "completed"
    },
    "tags": []
   },
   "outputs": [],
   "source": [
    "model.fit(X_train)"
   ]
  },
  {
   "cell_type": "markdown",
   "id": "f99999f7",
   "metadata": {
    "papermill": {
     "duration": 0.038124,
     "end_time": "2021-04-04T23:35:22.082059",
     "exception": false,
     "start_time": "2021-04-04T23:35:22.043935",
     "status": "completed"
    },
    "tags": []
   },
   "source": [
    "# Predict"
   ]
  },
  {
   "cell_type": "code",
   "execution_count": 24,
   "id": "6536fbf7",
   "metadata": {
    "execution": {
     "iopub.execute_input": "2021-04-04T23:35:22.155811Z",
     "iopub.status.busy": "2021-04-04T23:35:22.144410Z",
     "iopub.status.idle": "2021-04-04T23:35:22.527453Z",
     "shell.execute_reply": "2021-04-04T23:35:22.527927Z"
    },
    "papermill": {
     "duration": 0.413713,
     "end_time": "2021-04-04T23:35:22.528071",
     "exception": false,
     "start_time": "2021-04-04T23:35:22.114358",
     "status": "completed"
    },
    "tags": []
   },
   "outputs": [],
   "source": [
    "predictions = model.predict(X_test)"
   ]
  },
  {
   "cell_type": "markdown",
   "id": "aa1c9881",
   "metadata": {
    "papermill": {
     "duration": 0.03046,
     "end_time": "2021-04-04T23:35:22.583519",
     "exception": false,
     "start_time": "2021-04-04T23:35:22.553059",
     "status": "completed"
    },
    "tags": []
   },
   "source": [
    "# Evaluate"
   ]
  },
  {
   "cell_type": "code",
   "execution_count": 25,
   "id": "894f0f04",
   "metadata": {
    "execution": {
     "iopub.execute_input": "2021-04-04T23:35:22.638271Z",
     "iopub.status.busy": "2021-04-04T23:35:22.637515Z",
     "iopub.status.idle": "2021-04-04T23:35:22.639619Z",
     "shell.execute_reply": "2021-04-04T23:35:22.640092Z"
    },
    "papermill": {
     "duration": 0.033025,
     "end_time": "2021-04-04T23:35:22.640237",
     "exception": false,
     "start_time": "2021-04-04T23:35:22.607212",
     "status": "completed"
    },
    "tags": []
   },
   "outputs": [],
   "source": [
    "from sklearn.metrics import f1_score"
   ]
  },
  {
   "cell_type": "code",
   "execution_count": 26,
   "id": "211744d3",
   "metadata": {
    "execution": {
     "iopub.execute_input": "2021-04-04T23:35:22.718714Z",
     "iopub.status.busy": "2021-04-04T23:35:22.716794Z",
     "iopub.status.idle": "2021-04-04T23:35:22.721217Z",
     "shell.execute_reply": "2021-04-04T23:35:22.722769Z"
    },
    "papermill": {
     "duration": 0.052402,
     "end_time": "2021-04-04T23:35:22.723168",
     "exception": false,
     "start_time": "2021-04-04T23:35:22.670766",
     "status": "completed"
    },
    "tags": []
   },
   "outputs": [],
   "source": [
    "y_test = y_test.replace([0, 1], [1, -1])"
   ]
  },
  {
   "cell_type": "code",
   "execution_count": 27,
   "id": "d68a9204",
   "metadata": {
    "execution": {
     "iopub.execute_input": "2021-04-04T23:35:22.795453Z",
     "iopub.status.busy": "2021-04-04T23:35:22.793783Z",
     "iopub.status.idle": "2021-04-04T23:35:22.798174Z",
     "shell.execute_reply": "2021-04-04T23:35:22.798873Z"
    },
    "papermill": {
     "duration": 0.042618,
     "end_time": "2021-04-04T23:35:22.799113",
     "exception": false,
     "start_time": "2021-04-04T23:35:22.756495",
     "status": "completed"
    },
    "tags": []
   },
   "outputs": [],
   "source": [
    "def evaluate(truths, predictions, pos_label, neg_label):\n",
    "    TP = 0\n",
    "    FP = 0\n",
    "    TN = 0\n",
    "    FN = 0\n",
    "\n",
    "    for truth, pred in zip(truths, predictions): \n",
    "        if truth == pred == pos_label:\n",
    "           TP += 1\n",
    "        elif pred == pos_label and truth == neg_label:\n",
    "           FP += 1\n",
    "        elif truth == pred == neg_label:\n",
    "           TN += 1\n",
    "        elif pred == neg_label and truth == pos_label:\n",
    "           FN += 1\n",
    "\n",
    "    precision = TP / (TP + FP)\n",
    "    sensitivity = TP / (TP + FN)\n",
    "    \n",
    "    return {\n",
    "        'true_pos': TP,\n",
    "        'false_pos': FP,\n",
    "        'false_neg': FN,\n",
    "        'true_neg': TN,\n",
    "        'precision': precision,\n",
    "        'sensitivity': sensitivity,\n",
    "        'f1': (2 * (precision * sensitivity)) / (precision + sensitivity)\n",
    "    }\n",
    "\n",
    "score = evaluate(y_test, predictions, pos_label=-1, neg_label=1)"
   ]
  },
  {
   "cell_type": "markdown",
   "id": "93596516",
   "metadata": {
    "papermill": {
     "duration": 0.036737,
     "end_time": "2021-04-04T23:35:22.864807",
     "exception": false,
     "start_time": "2021-04-04T23:35:22.828070",
     "status": "completed"
    },
    "tags": []
   },
   "source": [
    "# Report"
   ]
  },
  {
   "cell_type": "code",
   "execution_count": 28,
   "id": "bea5fba1",
   "metadata": {
    "execution": {
     "iopub.execute_input": "2021-04-04T23:35:22.936396Z",
     "iopub.status.busy": "2021-04-04T23:35:22.935560Z",
     "iopub.status.idle": "2021-04-04T23:35:22.939612Z",
     "shell.execute_reply": "2021-04-04T23:35:22.940093Z"
    },
    "papermill": {
     "duration": 0.041574,
     "end_time": "2021-04-04T23:35:22.940240",
     "exception": false,
     "start_time": "2021-04-04T23:35:22.898666",
     "status": "completed"
    },
    "tags": []
   },
   "outputs": [],
   "source": [
    "import csv\n",
    "\n",
    "\n",
    "dataset_config_name = DATASET_CONFIG_PATH.split('/')[-1].split('.')[0]\n",
    "model_config_name = MODEL_CONFIG_PATH.split('/')[-1].split('.')[0]\n",
    "configuration = f\"dataset_{dataset_config_name}-model_{model_config_name}\"\n",
    "\n",
    "with open('results.csv', 'a') as f:\n",
    "    report = dict({'configuration': configuration}, **score)\n",
    "    writer = csv.DictWriter(f, report.keys())\n",
    "    writer.writerow(report)"
   ]
  }
 ],
 "metadata": {
  "celltoolbar": "Tags",
  "kernelspec": {
   "display_name": "Python 3",
   "language": "python",
   "name": "python3"
  },
  "language_info": {
   "codemirror_mode": {
    "name": "ipython",
    "version": 3
   },
   "file_extension": ".py",
   "mimetype": "text/x-python",
   "name": "python",
   "nbconvert_exporter": "python",
   "pygments_lexer": "ipython3",
   "version": "3.9.1"
  },
  "papermill": {
   "default_parameters": {},
   "duration": 5.522063,
   "end_time": "2021-04-04T23:35:23.571789",
   "environment_variables": {},
   "exception": null,
   "input_path": "main.ipynb",
   "output_path": "runs/dataset_000154-model_000001.ipynb",
   "parameters": {
    "DATASET_CONFIG_PATH": "config/dataset/000154.json",
    "MODEL_CONFIG_PATH": "config/model/000001.json",
    "PROFILE_REPORTING": false
   },
   "start_time": "2021-04-04T23:35:18.049726",
   "version": "2.3.3"
  }
 },
 "nbformat": 4,
 "nbformat_minor": 5
}