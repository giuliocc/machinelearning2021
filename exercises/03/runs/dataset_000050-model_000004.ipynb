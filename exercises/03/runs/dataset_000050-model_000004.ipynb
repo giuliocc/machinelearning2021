{
 "cells": [
  {
   "cell_type": "markdown",
   "id": "51c71c25",
   "metadata": {
    "papermill": {
     "duration": 0.023801,
     "end_time": "2021-04-04T22:49:54.500343",
     "exception": false,
     "start_time": "2021-04-04T22:49:54.476542",
     "status": "completed"
    },
    "tags": []
   },
   "source": [
    "# Parametrizing"
   ]
  },
  {
   "cell_type": "code",
   "execution_count": 1,
   "id": "3b136394",
   "metadata": {
    "execution": {
     "iopub.execute_input": "2021-04-04T22:49:54.560984Z",
     "iopub.status.busy": "2021-04-04T22:49:54.560178Z",
     "iopub.status.idle": "2021-04-04T22:49:54.562731Z",
     "shell.execute_reply": "2021-04-04T22:49:54.563285Z"
    },
    "papermill": {
     "duration": 0.043159,
     "end_time": "2021-04-04T22:49:54.563535",
     "exception": false,
     "start_time": "2021-04-04T22:49:54.520376",
     "status": "completed"
    },
    "tags": [
     "parameters"
    ]
   },
   "outputs": [],
   "source": [
    "DATASET_CONFIG_PATH = 'config/dataset/kc1_001.json'\n",
    "MODEL_CONFIG_PATH = 'config/model/knndd_001.json'\n",
    "PROFILE_REPORTING = False"
   ]
  },
  {
   "cell_type": "code",
   "execution_count": 2,
   "id": "bb6891c1",
   "metadata": {
    "execution": {
     "iopub.execute_input": "2021-04-04T22:49:54.612077Z",
     "iopub.status.busy": "2021-04-04T22:49:54.611358Z",
     "iopub.status.idle": "2021-04-04T22:49:54.612994Z",
     "shell.execute_reply": "2021-04-04T22:49:54.613534Z"
    },
    "papermill": {
     "duration": 0.029122,
     "end_time": "2021-04-04T22:49:54.613679",
     "exception": false,
     "start_time": "2021-04-04T22:49:54.584557",
     "status": "completed"
    },
    "tags": [
     "injected-parameters"
    ]
   },
   "outputs": [],
   "source": [
    "# Parameters\n",
    "DATASET_CONFIG_PATH = \"config/dataset/000050.json\"\n",
    "MODEL_CONFIG_PATH = \"config/model/000004.json\"\n",
    "PROFILE_REPORTING = False\n"
   ]
  },
  {
   "cell_type": "code",
   "execution_count": 3,
   "id": "b80f2a10",
   "metadata": {
    "execution": {
     "iopub.execute_input": "2021-04-04T22:49:54.666133Z",
     "iopub.status.busy": "2021-04-04T22:49:54.664221Z",
     "iopub.status.idle": "2021-04-04T22:49:54.668653Z",
     "shell.execute_reply": "2021-04-04T22:49:54.667938Z"
    },
    "papermill": {
     "duration": 0.034304,
     "end_time": "2021-04-04T22:49:54.668797",
     "exception": false,
     "start_time": "2021-04-04T22:49:54.634493",
     "status": "completed"
    },
    "tags": []
   },
   "outputs": [],
   "source": [
    "import json\n",
    "\n",
    "\n",
    "with open(DATASET_CONFIG_PATH) as f:\n",
    "    dataset_config = json.load(f)\n",
    "\n",
    "with open(MODEL_CONFIG_PATH) as f:\n",
    "    model_config = json.load(f)"
   ]
  },
  {
   "cell_type": "markdown",
   "id": "9a4b0e2d",
   "metadata": {
    "papermill": {
     "duration": 0.021832,
     "end_time": "2021-04-04T22:49:54.712169",
     "exception": false,
     "start_time": "2021-04-04T22:49:54.690337",
     "status": "completed"
    },
    "tags": []
   },
   "source": [
    "# Profiling"
   ]
  },
  {
   "cell_type": "code",
   "execution_count": 4,
   "id": "a3e0289b",
   "metadata": {
    "execution": {
     "iopub.execute_input": "2021-04-04T22:49:54.763387Z",
     "iopub.status.busy": "2021-04-04T22:49:54.762387Z",
     "iopub.status.idle": "2021-04-04T22:49:56.122907Z",
     "shell.execute_reply": "2021-04-04T22:49:56.122282Z"
    },
    "papermill": {
     "duration": 1.391401,
     "end_time": "2021-04-04T22:49:56.123026",
     "exception": false,
     "start_time": "2021-04-04T22:49:54.731625",
     "status": "completed"
    },
    "tags": []
   },
   "outputs": [],
   "source": [
    "import pandas as pd\n",
    "from pandas_profiling import ProfileReport"
   ]
  },
  {
   "cell_type": "code",
   "execution_count": 5,
   "id": "ee6c0666",
   "metadata": {
    "execution": {
     "iopub.execute_input": "2021-04-04T22:49:56.176292Z",
     "iopub.status.busy": "2021-04-04T22:49:56.174985Z",
     "iopub.status.idle": "2021-04-04T22:49:56.191717Z",
     "shell.execute_reply": "2021-04-04T22:49:56.192230Z"
    },
    "papermill": {
     "duration": 0.0468,
     "end_time": "2021-04-04T22:49:56.192380",
     "exception": false,
     "start_time": "2021-04-04T22:49:56.145580",
     "status": "completed"
    },
    "tags": []
   },
   "outputs": [],
   "source": [
    "df = pd.read_csv(dataset_config['dataset_path'])"
   ]
  },
  {
   "cell_type": "code",
   "execution_count": 6,
   "id": "7eca6c4a",
   "metadata": {
    "execution": {
     "iopub.execute_input": "2021-04-04T22:49:56.252253Z",
     "iopub.status.busy": "2021-04-04T22:49:56.242492Z",
     "iopub.status.idle": "2021-04-04T22:49:56.254324Z",
     "shell.execute_reply": "2021-04-04T22:49:56.254793Z"
    },
    "papermill": {
     "duration": 0.042159,
     "end_time": "2021-04-04T22:49:56.254939",
     "exception": false,
     "start_time": "2021-04-04T22:49:56.212780",
     "status": "completed"
    },
    "tags": []
   },
   "outputs": [
    {
     "name": "stdout",
     "output_type": "stream",
     "text": [
      "<class 'pandas.core.frame.DataFrame'>\n",
      "RangeIndex: 2109 entries, 0 to 2108\n",
      "Data columns (total 23 columns):\n",
      " #   Column             Non-Null Count  Dtype  \n",
      "---  ------             --------------  -----  \n",
      " 0   id                 2109 non-null   int64  \n",
      " 1   loc                2109 non-null   float64\n",
      " 2   v(g)               2109 non-null   float64\n",
      " 3   ev(g)              2109 non-null   float64\n",
      " 4   iv(g)              2109 non-null   float64\n",
      " 5   n                  2109 non-null   float64\n",
      " 6   v                  2109 non-null   float64\n",
      " 7   l                  2109 non-null   float64\n",
      " 8   d                  2109 non-null   float64\n",
      " 9   i                  2109 non-null   float64\n",
      " 10  e                  2109 non-null   float64\n",
      " 11  b                  2109 non-null   float64\n",
      " 12  t                  2109 non-null   float64\n",
      " 13  lOCode             2109 non-null   int64  \n",
      " 14  lOComment          2109 non-null   int64  \n",
      " 15  lOBlank            2109 non-null   int64  \n",
      " 16  locCodeAndComment  2109 non-null   int64  \n",
      " 17  uniq_Op            2109 non-null   float64\n",
      " 18  uniq_Opnd          2109 non-null   float64\n",
      " 19  total_Op           2109 non-null   float64\n",
      " 20  total_Opnd         2109 non-null   float64\n",
      " 21  branchCount        2109 non-null   float64\n",
      " 22  defects            2109 non-null   bool   \n",
      "dtypes: bool(1), float64(17), int64(5)\n",
      "memory usage: 364.7 KB\n"
     ]
    }
   ],
   "source": [
    "df.info()"
   ]
  },
  {
   "cell_type": "code",
   "execution_count": 7,
   "id": "3638e5e8",
   "metadata": {
    "execution": {
     "iopub.execute_input": "2021-04-04T22:49:56.309189Z",
     "iopub.status.busy": "2021-04-04T22:49:56.308547Z",
     "iopub.status.idle": "2021-04-04T22:49:56.338223Z",
     "shell.execute_reply": "2021-04-04T22:49:56.339113Z"
    },
    "papermill": {
     "duration": 0.062466,
     "end_time": "2021-04-04T22:49:56.339316",
     "exception": false,
     "start_time": "2021-04-04T22:49:56.276850",
     "status": "completed"
    },
    "tags": []
   },
   "outputs": [
    {
     "data": {
      "text/html": [
       "<div>\n",
       "<style scoped>\n",
       "    .dataframe tbody tr th:only-of-type {\n",
       "        vertical-align: middle;\n",
       "    }\n",
       "\n",
       "    .dataframe tbody tr th {\n",
       "        vertical-align: top;\n",
       "    }\n",
       "\n",
       "    .dataframe thead th {\n",
       "        text-align: right;\n",
       "    }\n",
       "</style>\n",
       "<table border=\"1\" class=\"dataframe\">\n",
       "  <thead>\n",
       "    <tr style=\"text-align: right;\">\n",
       "      <th></th>\n",
       "      <th>id</th>\n",
       "      <th>loc</th>\n",
       "      <th>v(g)</th>\n",
       "      <th>ev(g)</th>\n",
       "      <th>iv(g)</th>\n",
       "      <th>n</th>\n",
       "      <th>v</th>\n",
       "      <th>l</th>\n",
       "      <th>d</th>\n",
       "      <th>i</th>\n",
       "      <th>...</th>\n",
       "      <th>lOCode</th>\n",
       "      <th>lOComment</th>\n",
       "      <th>lOBlank</th>\n",
       "      <th>locCodeAndComment</th>\n",
       "      <th>uniq_Op</th>\n",
       "      <th>uniq_Opnd</th>\n",
       "      <th>total_Op</th>\n",
       "      <th>total_Opnd</th>\n",
       "      <th>branchCount</th>\n",
       "      <th>defects</th>\n",
       "    </tr>\n",
       "  </thead>\n",
       "  <tbody>\n",
       "    <tr>\n",
       "      <th>0</th>\n",
       "      <td>1</td>\n",
       "      <td>1.1</td>\n",
       "      <td>1.4</td>\n",
       "      <td>1.4</td>\n",
       "      <td>1.4</td>\n",
       "      <td>1.3</td>\n",
       "      <td>1.30</td>\n",
       "      <td>1.30</td>\n",
       "      <td>1.30</td>\n",
       "      <td>1.30</td>\n",
       "      <td>...</td>\n",
       "      <td>2</td>\n",
       "      <td>2</td>\n",
       "      <td>2</td>\n",
       "      <td>2</td>\n",
       "      <td>1.2</td>\n",
       "      <td>1.2</td>\n",
       "      <td>1.2</td>\n",
       "      <td>1.2</td>\n",
       "      <td>1.4</td>\n",
       "      <td>False</td>\n",
       "    </tr>\n",
       "    <tr>\n",
       "      <th>1</th>\n",
       "      <td>2</td>\n",
       "      <td>1.0</td>\n",
       "      <td>1.0</td>\n",
       "      <td>1.0</td>\n",
       "      <td>1.0</td>\n",
       "      <td>1.0</td>\n",
       "      <td>1.00</td>\n",
       "      <td>1.00</td>\n",
       "      <td>1.00</td>\n",
       "      <td>1.00</td>\n",
       "      <td>...</td>\n",
       "      <td>1</td>\n",
       "      <td>1</td>\n",
       "      <td>1</td>\n",
       "      <td>1</td>\n",
       "      <td>1.0</td>\n",
       "      <td>1.0</td>\n",
       "      <td>1.0</td>\n",
       "      <td>1.0</td>\n",
       "      <td>1.0</td>\n",
       "      <td>True</td>\n",
       "    </tr>\n",
       "    <tr>\n",
       "      <th>2</th>\n",
       "      <td>3</td>\n",
       "      <td>83.0</td>\n",
       "      <td>11.0</td>\n",
       "      <td>1.0</td>\n",
       "      <td>11.0</td>\n",
       "      <td>171.0</td>\n",
       "      <td>927.89</td>\n",
       "      <td>0.04</td>\n",
       "      <td>23.04</td>\n",
       "      <td>40.27</td>\n",
       "      <td>...</td>\n",
       "      <td>65</td>\n",
       "      <td>10</td>\n",
       "      <td>6</td>\n",
       "      <td>0</td>\n",
       "      <td>18.0</td>\n",
       "      <td>25.0</td>\n",
       "      <td>107.0</td>\n",
       "      <td>64.0</td>\n",
       "      <td>21.0</td>\n",
       "      <td>True</td>\n",
       "    </tr>\n",
       "    <tr>\n",
       "      <th>3</th>\n",
       "      <td>4</td>\n",
       "      <td>46.0</td>\n",
       "      <td>8.0</td>\n",
       "      <td>6.0</td>\n",
       "      <td>8.0</td>\n",
       "      <td>141.0</td>\n",
       "      <td>769.78</td>\n",
       "      <td>0.07</td>\n",
       "      <td>14.86</td>\n",
       "      <td>51.81</td>\n",
       "      <td>...</td>\n",
       "      <td>37</td>\n",
       "      <td>2</td>\n",
       "      <td>5</td>\n",
       "      <td>0</td>\n",
       "      <td>16.0</td>\n",
       "      <td>28.0</td>\n",
       "      <td>89.0</td>\n",
       "      <td>52.0</td>\n",
       "      <td>15.0</td>\n",
       "      <td>True</td>\n",
       "    </tr>\n",
       "    <tr>\n",
       "      <th>4</th>\n",
       "      <td>5</td>\n",
       "      <td>25.0</td>\n",
       "      <td>3.0</td>\n",
       "      <td>1.0</td>\n",
       "      <td>3.0</td>\n",
       "      <td>58.0</td>\n",
       "      <td>254.75</td>\n",
       "      <td>0.11</td>\n",
       "      <td>9.35</td>\n",
       "      <td>27.25</td>\n",
       "      <td>...</td>\n",
       "      <td>21</td>\n",
       "      <td>0</td>\n",
       "      <td>2</td>\n",
       "      <td>0</td>\n",
       "      <td>11.0</td>\n",
       "      <td>10.0</td>\n",
       "      <td>41.0</td>\n",
       "      <td>17.0</td>\n",
       "      <td>5.0</td>\n",
       "      <td>True</td>\n",
       "    </tr>\n",
       "  </tbody>\n",
       "</table>\n",
       "<p>5 rows × 23 columns</p>\n",
       "</div>"
      ],
      "text/plain": [
       "   id   loc  v(g)  ev(g)  iv(g)      n       v     l      d      i  ...  \\\n",
       "0   1   1.1   1.4    1.4    1.4    1.3    1.30  1.30   1.30   1.30  ...   \n",
       "1   2   1.0   1.0    1.0    1.0    1.0    1.00  1.00   1.00   1.00  ...   \n",
       "2   3  83.0  11.0    1.0   11.0  171.0  927.89  0.04  23.04  40.27  ...   \n",
       "3   4  46.0   8.0    6.0    8.0  141.0  769.78  0.07  14.86  51.81  ...   \n",
       "4   5  25.0   3.0    1.0    3.0   58.0  254.75  0.11   9.35  27.25  ...   \n",
       "\n",
       "   lOCode  lOComment  lOBlank  locCodeAndComment  uniq_Op  uniq_Opnd  \\\n",
       "0       2          2        2                  2      1.2        1.2   \n",
       "1       1          1        1                  1      1.0        1.0   \n",
       "2      65         10        6                  0     18.0       25.0   \n",
       "3      37          2        5                  0     16.0       28.0   \n",
       "4      21          0        2                  0     11.0       10.0   \n",
       "\n",
       "   total_Op  total_Opnd  branchCount  defects  \n",
       "0       1.2         1.2          1.4    False  \n",
       "1       1.0         1.0          1.0     True  \n",
       "2     107.0        64.0         21.0     True  \n",
       "3      89.0        52.0         15.0     True  \n",
       "4      41.0        17.0          5.0     True  \n",
       "\n",
       "[5 rows x 23 columns]"
      ]
     },
     "execution_count": 7,
     "metadata": {},
     "output_type": "execute_result"
    }
   ],
   "source": [
    "df.head()"
   ]
  },
  {
   "cell_type": "code",
   "execution_count": 8,
   "id": "733e95eb",
   "metadata": {
    "execution": {
     "iopub.execute_input": "2021-04-04T22:49:56.398699Z",
     "iopub.status.busy": "2021-04-04T22:49:56.397974Z",
     "iopub.status.idle": "2021-04-04T22:49:56.399681Z",
     "shell.execute_reply": "2021-04-04T22:49:56.400149Z"
    },
    "papermill": {
     "duration": 0.031746,
     "end_time": "2021-04-04T22:49:56.400294",
     "exception": false,
     "start_time": "2021-04-04T22:49:56.368548",
     "status": "completed"
    },
    "tags": []
   },
   "outputs": [],
   "source": [
    "del df['id']"
   ]
  },
  {
   "cell_type": "code",
   "execution_count": 9,
   "id": "6ff6f5b0",
   "metadata": {
    "execution": {
     "iopub.execute_input": "2021-04-04T22:49:56.455135Z",
     "iopub.status.busy": "2021-04-04T22:49:56.454407Z",
     "iopub.status.idle": "2021-04-04T22:49:56.456787Z",
     "shell.execute_reply": "2021-04-04T22:49:56.457459Z"
    },
    "papermill": {
     "duration": 0.03497,
     "end_time": "2021-04-04T22:49:56.457775",
     "exception": false,
     "start_time": "2021-04-04T22:49:56.422805",
     "status": "completed"
    },
    "tags": []
   },
   "outputs": [],
   "source": [
    "if PROFILE_REPORTING:\n",
    "    ProfileReport(df).to_widgets()"
   ]
  },
  {
   "cell_type": "markdown",
   "id": "1deaf3f0",
   "metadata": {
    "papermill": {
     "duration": 0.02571,
     "end_time": "2021-04-04T22:49:56.511936",
     "exception": false,
     "start_time": "2021-04-04T22:49:56.486226",
     "status": "completed"
    },
    "tags": []
   },
   "source": [
    "# Preprocess"
   ]
  },
  {
   "cell_type": "code",
   "execution_count": 10,
   "id": "1513e563",
   "metadata": {
    "execution": {
     "iopub.execute_input": "2021-04-04T22:49:56.572493Z",
     "iopub.status.busy": "2021-04-04T22:49:56.570376Z",
     "iopub.status.idle": "2021-04-04T22:49:56.574756Z",
     "shell.execute_reply": "2021-04-04T22:49:56.575325Z"
    },
    "papermill": {
     "duration": 0.039581,
     "end_time": "2021-04-04T22:49:56.575526",
     "exception": false,
     "start_time": "2021-04-04T22:49:56.535945",
     "status": "completed"
    },
    "tags": []
   },
   "outputs": [],
   "source": [
    "working_df = df.copy()"
   ]
  },
  {
   "cell_type": "code",
   "execution_count": 11,
   "id": "3b26d675",
   "metadata": {
    "execution": {
     "iopub.execute_input": "2021-04-04T22:49:56.630817Z",
     "iopub.status.busy": "2021-04-04T22:49:56.629504Z",
     "iopub.status.idle": "2021-04-04T22:49:56.633268Z",
     "shell.execute_reply": "2021-04-04T22:49:56.633824Z"
    },
    "papermill": {
     "duration": 0.035174,
     "end_time": "2021-04-04T22:49:56.633980",
     "exception": false,
     "start_time": "2021-04-04T22:49:56.598806",
     "status": "completed"
    },
    "tags": []
   },
   "outputs": [],
   "source": [
    "working_df['defects'] = working_df['defects'].replace([False, True], [0, 1])"
   ]
  },
  {
   "cell_type": "code",
   "execution_count": 12,
   "id": "eb48604f",
   "metadata": {
    "execution": {
     "iopub.execute_input": "2021-04-04T22:49:56.686273Z",
     "iopub.status.busy": "2021-04-04T22:49:56.685432Z",
     "iopub.status.idle": "2021-04-04T22:49:56.688700Z",
     "shell.execute_reply": "2021-04-04T22:49:56.689613Z"
    },
    "papermill": {
     "duration": 0.032976,
     "end_time": "2021-04-04T22:49:56.689826",
     "exception": false,
     "start_time": "2021-04-04T22:49:56.656850",
     "status": "completed"
    },
    "tags": []
   },
   "outputs": [],
   "source": [
    "for col in dataset_config['delete_columns']:\n",
    "    del working_df[col]"
   ]
  },
  {
   "cell_type": "code",
   "execution_count": 13,
   "id": "9a17bc29",
   "metadata": {
    "execution": {
     "iopub.execute_input": "2021-04-04T22:49:56.742852Z",
     "iopub.status.busy": "2021-04-04T22:49:56.741654Z",
     "iopub.status.idle": "2021-04-04T22:49:56.752365Z",
     "shell.execute_reply": "2021-04-04T22:49:56.751768Z"
    },
    "papermill": {
     "duration": 0.040508,
     "end_time": "2021-04-04T22:49:56.752485",
     "exception": false,
     "start_time": "2021-04-04T22:49:56.711977",
     "status": "completed"
    },
    "tags": []
   },
   "outputs": [],
   "source": [
    "working_df = working_df.drop_duplicates()"
   ]
  },
  {
   "cell_type": "markdown",
   "id": "a4d52ca6",
   "metadata": {
    "papermill": {
     "duration": 0.03076,
     "end_time": "2021-04-04T22:49:56.806655",
     "exception": false,
     "start_time": "2021-04-04T22:49:56.775895",
     "status": "completed"
    },
    "tags": []
   },
   "source": [
    "# Split"
   ]
  },
  {
   "cell_type": "code",
   "execution_count": 14,
   "id": "3e9ee4b5",
   "metadata": {
    "execution": {
     "iopub.execute_input": "2021-04-04T22:49:56.862153Z",
     "iopub.status.busy": "2021-04-04T22:49:56.861541Z",
     "iopub.status.idle": "2021-04-04T22:49:56.897447Z",
     "shell.execute_reply": "2021-04-04T22:49:56.897929Z"
    },
    "papermill": {
     "duration": 0.062878,
     "end_time": "2021-04-04T22:49:56.898078",
     "exception": false,
     "start_time": "2021-04-04T22:49:56.835200",
     "status": "completed"
    },
    "tags": []
   },
   "outputs": [],
   "source": [
    "from sklearn.model_selection import train_test_split"
   ]
  },
  {
   "cell_type": "code",
   "execution_count": 15,
   "id": "274004ce",
   "metadata": {
    "execution": {
     "iopub.execute_input": "2021-04-04T22:49:56.957536Z",
     "iopub.status.busy": "2021-04-04T22:49:56.956543Z",
     "iopub.status.idle": "2021-04-04T22:49:56.964170Z",
     "shell.execute_reply": "2021-04-04T22:49:56.963530Z"
    },
    "papermill": {
     "duration": 0.043524,
     "end_time": "2021-04-04T22:49:56.964314",
     "exception": false,
     "start_time": "2021-04-04T22:49:56.920790",
     "status": "completed"
    },
    "scrolled": true,
    "tags": []
   },
   "outputs": [],
   "source": [
    "inlier, outlier = working_df[working_df['defects'] == 0], working_df[working_df['defects'] == 1]"
   ]
  },
  {
   "cell_type": "code",
   "execution_count": 16,
   "id": "753c7b03",
   "metadata": {
    "execution": {
     "iopub.execute_input": "2021-04-04T22:49:57.017612Z",
     "iopub.status.busy": "2021-04-04T22:49:57.016142Z",
     "iopub.status.idle": "2021-04-04T22:49:57.019927Z",
     "shell.execute_reply": "2021-04-04T22:49:57.020410Z"
    },
    "papermill": {
     "duration": 0.032708,
     "end_time": "2021-04-04T22:49:57.020557",
     "exception": false,
     "start_time": "2021-04-04T22:49:56.987849",
     "status": "completed"
    },
    "tags": []
   },
   "outputs": [],
   "source": [
    "X_inlier = inlier.copy()\n",
    "y_inlier = X_inlier.pop('defects')\n",
    "X_outlier = outlier.copy()\n",
    "y_outlier = X_outlier.pop('defects')"
   ]
  },
  {
   "cell_type": "code",
   "execution_count": 17,
   "id": "2ba43193",
   "metadata": {
    "execution": {
     "iopub.execute_input": "2021-04-04T22:49:57.082148Z",
     "iopub.status.busy": "2021-04-04T22:49:57.081195Z",
     "iopub.status.idle": "2021-04-04T22:49:57.088370Z",
     "shell.execute_reply": "2021-04-04T22:49:57.089086Z"
    },
    "papermill": {
     "duration": 0.04399,
     "end_time": "2021-04-04T22:49:57.089285",
     "exception": false,
     "start_time": "2021-04-04T22:49:57.045295",
     "status": "completed"
    },
    "tags": []
   },
   "outputs": [],
   "source": [
    "test_size = dataset_config['test_size']\n",
    "random_state = dataset_config['random_state']\n",
    "\n",
    "X_inlier_train, X_inlier_test, y_inlier_train, y_inlier_test = train_test_split(\n",
    "    X_inlier,\n",
    "    y_inlier,\n",
    "    test_size=test_size,\n",
    "    random_state=random_state\n",
    ")"
   ]
  },
  {
   "cell_type": "code",
   "execution_count": 18,
   "id": "0b7582ca",
   "metadata": {
    "execution": {
     "iopub.execute_input": "2021-04-04T22:49:57.153077Z",
     "iopub.status.busy": "2021-04-04T22:49:57.152244Z",
     "iopub.status.idle": "2021-04-04T22:49:57.157009Z",
     "shell.execute_reply": "2021-04-04T22:49:57.155468Z"
    },
    "papermill": {
     "duration": 0.041723,
     "end_time": "2021-04-04T22:49:57.157377",
     "exception": false,
     "start_time": "2021-04-04T22:49:57.115654",
     "status": "completed"
    },
    "tags": []
   },
   "outputs": [],
   "source": [
    "test_outlier_size = dataset_config['test_outlier_size']\n",
    "if test_outlier_size > 0.0:\n",
    "    X_outlier_train, X_outlier_test, y_outlier_train, y_outlier_test = train_test_split(\n",
    "        X_outlier,\n",
    "        y_outlier,\n",
    "        test_size=test_outlier_size,\n",
    "        random_state=random_state\n",
    "    )\n",
    "else:\n",
    "    X_outlier_train, y_outlier_train = pd.DataFrame(columns=X_outlier.columns), pd.Series(dtype='int64')\n",
    "    X_outlier_test, y_outlier_test = X_outlier.copy(), y_outlier.copy()"
   ]
  },
  {
   "cell_type": "code",
   "execution_count": 19,
   "id": "c34363db",
   "metadata": {
    "execution": {
     "iopub.execute_input": "2021-04-04T22:49:57.217147Z",
     "iopub.status.busy": "2021-04-04T22:49:57.216482Z",
     "iopub.status.idle": "2021-04-04T22:49:57.219401Z",
     "shell.execute_reply": "2021-04-04T22:49:57.218893Z"
    },
    "papermill": {
     "duration": 0.037275,
     "end_time": "2021-04-04T22:49:57.219520",
     "exception": false,
     "start_time": "2021-04-04T22:49:57.182245",
     "status": "completed"
    },
    "tags": []
   },
   "outputs": [],
   "source": [
    "X_train, y_train = pd.concat([X_inlier_train, X_outlier_train], ignore_index=True), pd.concat([y_inlier_train, y_outlier_train], ignore_index=True)\n",
    "X_test, y_test = pd.concat([X_inlier_test, X_outlier_test], ignore_index=True), pd.concat([y_inlier_test, y_outlier_test], ignore_index=True)"
   ]
  },
  {
   "cell_type": "markdown",
   "id": "7cde7309",
   "metadata": {
    "papermill": {
     "duration": 0.023971,
     "end_time": "2021-04-04T22:49:57.267665",
     "exception": false,
     "start_time": "2021-04-04T22:49:57.243694",
     "status": "completed"
    },
    "tags": []
   },
   "source": [
    "# Model"
   ]
  },
  {
   "cell_type": "code",
   "execution_count": 20,
   "id": "2b12a415",
   "metadata": {
    "execution": {
     "iopub.execute_input": "2021-04-04T22:49:57.334222Z",
     "iopub.status.busy": "2021-04-04T22:49:57.332950Z",
     "iopub.status.idle": "2021-04-04T22:49:57.335885Z",
     "shell.execute_reply": "2021-04-04T22:49:57.336397Z"
    },
    "papermill": {
     "duration": 0.045638,
     "end_time": "2021-04-04T22:49:57.336553",
     "exception": false,
     "start_time": "2021-04-04T22:49:57.290915",
     "status": "completed"
    },
    "tags": []
   },
   "outputs": [],
   "source": [
    "from math import sqrt\n",
    "\n",
    "\n",
    "class KNNDataDescription:\n",
    "    def __init__(self, k=5, outlier_threshold=1.0):\n",
    "        self.k = k\n",
    "        self.outlier_threshold = outlier_threshold\n",
    "        self.X = []\n",
    "    \n",
    "    def fit(self, X):\n",
    "        self.X = [features.to_list() for index, features in X.iterrows()]\n",
    "\n",
    "    def predict(self, entries):\n",
    "        return [self.predict_entry(features.to_list()) for index, features in entries.iterrows()]\n",
    "    \n",
    "    def predict_entry(self, entry):\n",
    "        kth_neighbor, kth_distance = self.get_kth_neighbor(entry, self.k)\n",
    "        kth_kth_neighbor, kth_kth_distance = self.get_kth_neighbor(kth_neighbor, self.k + 1)\n",
    "\n",
    "        outlier_score = kth_distance / (kth_kth_distance + 0.000001)\n",
    "\n",
    "        return 1 if outlier_score < self.outlier_threshold else -1\n",
    "        \n",
    "    def euclidean_distance(self, features1, features2):\n",
    "        distance = 0.0\n",
    "        for feat1, feat2 in zip(features1, features2):\n",
    "            distance += (feat1 - feat2)**2\n",
    "                \n",
    "        return sqrt(distance)\n",
    "\n",
    "    def get_neighbors(self, entry, k):\n",
    "        distance_to_data_points = [\n",
    "            (data_point, self.euclidean_distance(entry, data_point))\n",
    "            for data_point in self.X\n",
    "        ]\n",
    "        sorted_by_distance = sorted(distance_to_data_points, key=lambda tup: tup[1])\n",
    "        neighbors = sorted_by_distance[:k]\n",
    "        return neighbors\n",
    "\n",
    "    def get_kth_neighbor(self, entry, k):\n",
    "        neighbors = self.get_neighbors(entry, k)\n",
    "        return neighbors[-1]\n"
   ]
  },
  {
   "cell_type": "code",
   "execution_count": 21,
   "id": "1fa9ec1c",
   "metadata": {
    "execution": {
     "iopub.execute_input": "2021-04-04T22:49:57.402468Z",
     "iopub.status.busy": "2021-04-04T22:49:57.401833Z",
     "iopub.status.idle": "2021-04-04T22:49:57.420550Z",
     "shell.execute_reply": "2021-04-04T22:49:57.421054Z"
    },
    "papermill": {
     "duration": 0.052091,
     "end_time": "2021-04-04T22:49:57.421195",
     "exception": false,
     "start_time": "2021-04-04T22:49:57.369104",
     "status": "completed"
    },
    "tags": []
   },
   "outputs": [],
   "source": [
    "from sklearn.svm import OneClassSVM\n",
    "\n",
    "\n",
    "models = {\n",
    "    'oneclasssvm': OneClassSVM,\n",
    "    'knndatadescription': KNNDataDescription,\n",
    "}"
   ]
  },
  {
   "cell_type": "code",
   "execution_count": 22,
   "id": "4d72a0b1",
   "metadata": {
    "execution": {
     "iopub.execute_input": "2021-04-04T22:49:57.481518Z",
     "iopub.status.busy": "2021-04-04T22:49:57.480236Z",
     "iopub.status.idle": "2021-04-04T22:49:57.484338Z",
     "shell.execute_reply": "2021-04-04T22:49:57.485118Z"
    },
    "papermill": {
     "duration": 0.039498,
     "end_time": "2021-04-04T22:49:57.485471",
     "exception": false,
     "start_time": "2021-04-04T22:49:57.445973",
     "status": "completed"
    },
    "scrolled": true,
    "tags": []
   },
   "outputs": [],
   "source": [
    "model_cls = models[model_config['model_type']]\n",
    "model = model_cls(**model_config['hyperparameters'])"
   ]
  },
  {
   "cell_type": "markdown",
   "id": "e00cff3b",
   "metadata": {
    "papermill": {
     "duration": 0.022427,
     "end_time": "2021-04-04T22:49:57.534511",
     "exception": false,
     "start_time": "2021-04-04T22:49:57.512084",
     "status": "completed"
    },
    "tags": []
   },
   "source": [
    "# Fit"
   ]
  },
  {
   "cell_type": "code",
   "execution_count": 23,
   "id": "8b2ded89",
   "metadata": {
    "execution": {
     "iopub.execute_input": "2021-04-04T22:49:57.593304Z",
     "iopub.status.busy": "2021-04-04T22:49:57.592301Z",
     "iopub.status.idle": "2021-04-04T22:49:57.621205Z",
     "shell.execute_reply": "2021-04-04T22:49:57.621679Z"
    },
    "papermill": {
     "duration": 0.060524,
     "end_time": "2021-04-04T22:49:57.621823",
     "exception": false,
     "start_time": "2021-04-04T22:49:57.561299",
     "status": "completed"
    },
    "tags": []
   },
   "outputs": [
    {
     "data": {
      "text/plain": [
       "OneClassSVM()"
      ]
     },
     "execution_count": 23,
     "metadata": {},
     "output_type": "execute_result"
    }
   ],
   "source": [
    "model.fit(X_train)"
   ]
  },
  {
   "cell_type": "markdown",
   "id": "f99999f7",
   "metadata": {
    "papermill": {
     "duration": 0.023907,
     "end_time": "2021-04-04T22:49:57.671646",
     "exception": false,
     "start_time": "2021-04-04T22:49:57.647739",
     "status": "completed"
    },
    "tags": []
   },
   "source": [
    "# Predict"
   ]
  },
  {
   "cell_type": "code",
   "execution_count": 24,
   "id": "6536fbf7",
   "metadata": {
    "execution": {
     "iopub.execute_input": "2021-04-04T22:49:57.729104Z",
     "iopub.status.busy": "2021-04-04T22:49:57.728496Z",
     "iopub.status.idle": "2021-04-04T22:49:57.746475Z",
     "shell.execute_reply": "2021-04-04T22:49:57.747064Z"
    },
    "papermill": {
     "duration": 0.051375,
     "end_time": "2021-04-04T22:49:57.747261",
     "exception": false,
     "start_time": "2021-04-04T22:49:57.695886",
     "status": "completed"
    },
    "tags": []
   },
   "outputs": [],
   "source": [
    "predictions = model.predict(X_test)"
   ]
  },
  {
   "cell_type": "markdown",
   "id": "aa1c9881",
   "metadata": {
    "papermill": {
     "duration": 0.02352,
     "end_time": "2021-04-04T22:49:57.797317",
     "exception": false,
     "start_time": "2021-04-04T22:49:57.773797",
     "status": "completed"
    },
    "tags": []
   },
   "source": [
    "# Evaluate"
   ]
  },
  {
   "cell_type": "code",
   "execution_count": 25,
   "id": "894f0f04",
   "metadata": {
    "execution": {
     "iopub.execute_input": "2021-04-04T22:49:57.854574Z",
     "iopub.status.busy": "2021-04-04T22:49:57.853843Z",
     "iopub.status.idle": "2021-04-04T22:49:57.857935Z",
     "shell.execute_reply": "2021-04-04T22:49:57.856797Z"
    },
    "papermill": {
     "duration": 0.034341,
     "end_time": "2021-04-04T22:49:57.858269",
     "exception": false,
     "start_time": "2021-04-04T22:49:57.823928",
     "status": "completed"
    },
    "tags": []
   },
   "outputs": [],
   "source": [
    "from sklearn.metrics import f1_score"
   ]
  },
  {
   "cell_type": "code",
   "execution_count": 26,
   "id": "211744d3",
   "metadata": {
    "execution": {
     "iopub.execute_input": "2021-04-04T22:49:57.916662Z",
     "iopub.status.busy": "2021-04-04T22:49:57.915577Z",
     "iopub.status.idle": "2021-04-04T22:49:57.918037Z",
     "shell.execute_reply": "2021-04-04T22:49:57.918585Z"
    },
    "papermill": {
     "duration": 0.034707,
     "end_time": "2021-04-04T22:49:57.918758",
     "exception": false,
     "start_time": "2021-04-04T22:49:57.884051",
     "status": "completed"
    },
    "tags": []
   },
   "outputs": [],
   "source": [
    "y_test = y_test.replace([0, 1], [1, -1])"
   ]
  },
  {
   "cell_type": "code",
   "execution_count": 27,
   "id": "d68a9204",
   "metadata": {
    "execution": {
     "iopub.execute_input": "2021-04-04T22:49:57.981231Z",
     "iopub.status.busy": "2021-04-04T22:49:57.980487Z",
     "iopub.status.idle": "2021-04-04T22:49:57.982136Z",
     "shell.execute_reply": "2021-04-04T22:49:57.982682Z"
    },
    "papermill": {
     "duration": 0.039194,
     "end_time": "2021-04-04T22:49:57.982826",
     "exception": false,
     "start_time": "2021-04-04T22:49:57.943632",
     "status": "completed"
    },
    "tags": []
   },
   "outputs": [],
   "source": [
    "def evaluate(truths, predictions, pos_label, neg_label):\n",
    "    TP = 0\n",
    "    FP = 0\n",
    "    TN = 0\n",
    "    FN = 0\n",
    "\n",
    "    for truth, pred in zip(truths, predictions): \n",
    "        if truth == pred == pos_label:\n",
    "           TP += 1\n",
    "        elif pred == pos_label and truth == neg_label:\n",
    "           FP += 1\n",
    "        elif truth == pred == neg_label:\n",
    "           TN += 1\n",
    "        elif pred == neg_label and truth == pos_label:\n",
    "           FN += 1\n",
    "\n",
    "    precision = TP / (TP + FP)\n",
    "    sensitivity = TP / (TP + FN)\n",
    "    \n",
    "    return {\n",
    "        'true_pos': TP,\n",
    "        'false_pos': FP,\n",
    "        'false_neg': FN,\n",
    "        'true_neg': TN,\n",
    "        'precision': precision,\n",
    "        'sensitivity': sensitivity,\n",
    "        'f1': (2 * (precision * sensitivity)) / (precision + sensitivity)\n",
    "    }\n",
    "\n",
    "score = evaluate(y_test, predictions, pos_label=-1, neg_label=1)"
   ]
  },
  {
   "cell_type": "markdown",
   "id": "93596516",
   "metadata": {
    "papermill": {
     "duration": 0.024784,
     "end_time": "2021-04-04T22:49:58.035049",
     "exception": false,
     "start_time": "2021-04-04T22:49:58.010265",
     "status": "completed"
    },
    "tags": []
   },
   "source": [
    "# Report"
   ]
  },
  {
   "cell_type": "code",
   "execution_count": 28,
   "id": "bea5fba1",
   "metadata": {
    "execution": {
     "iopub.execute_input": "2021-04-04T22:49:58.104269Z",
     "iopub.status.busy": "2021-04-04T22:49:58.103554Z",
     "iopub.status.idle": "2021-04-04T22:49:58.107001Z",
     "shell.execute_reply": "2021-04-04T22:49:58.107533Z"
    },
    "papermill": {
     "duration": 0.046444,
     "end_time": "2021-04-04T22:49:58.107708",
     "exception": false,
     "start_time": "2021-04-04T22:49:58.061264",
     "status": "completed"
    },
    "tags": []
   },
   "outputs": [],
   "source": [
    "import csv\n",
    "\n",
    "\n",
    "dataset_config_name = DATASET_CONFIG_PATH.split('/')[-1].split('.')[0]\n",
    "model_config_name = MODEL_CONFIG_PATH.split('/')[-1].split('.')[0]\n",
    "configuration = f\"dataset_{dataset_config_name}-model_{model_config_name}\"\n",
    "\n",
    "with open('results.csv', 'a') as f:\n",
    "    report = dict({'configuration': configuration}, **score)\n",
    "    writer = csv.DictWriter(f, report.keys())\n",
    "    writer.writerow(report)"
   ]
  }
 ],
 "metadata": {
  "celltoolbar": "Tags",
  "kernelspec": {
   "display_name": "Python 3",
   "language": "python",
   "name": "python3"
  },
  "language_info": {
   "codemirror_mode": {
    "name": "ipython",
    "version": 3
   },
   "file_extension": ".py",
   "mimetype": "text/x-python",
   "name": "python",
   "nbconvert_exporter": "python",
   "pygments_lexer": "ipython3",
   "version": "3.9.1"
  },
  "papermill": {
   "default_parameters": {},
   "duration": 6.063793,
   "end_time": "2021-04-04T22:49:59.636993",
   "environment_variables": {},
   "exception": null,
   "input_path": "main.ipynb",
   "output_path": "runs/dataset_000050-model_000004.ipynb",
   "parameters": {
    "DATASET_CONFIG_PATH": "config/dataset/000050.json",
    "MODEL_CONFIG_PATH": "config/model/000004.json",
    "PROFILE_REPORTING": false
   },
   "start_time": "2021-04-04T22:49:53.573200",
   "version": "2.3.3"
  }
 },
 "nbformat": 4,
 "nbformat_minor": 5
}