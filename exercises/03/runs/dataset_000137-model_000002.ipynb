{
 "cells": [
  {
   "cell_type": "markdown",
   "id": "51c71c25",
   "metadata": {
    "papermill": {
     "duration": 0.042575,
     "end_time": "2021-04-04T23:28:08.648459",
     "exception": false,
     "start_time": "2021-04-04T23:28:08.605884",
     "status": "completed"
    },
    "tags": []
   },
   "source": [
    "# Parametrizing"
   ]
  },
  {
   "cell_type": "code",
   "execution_count": 1,
   "id": "3b136394",
   "metadata": {
    "execution": {
     "iopub.execute_input": "2021-04-04T23:28:08.733275Z",
     "iopub.status.busy": "2021-04-04T23:28:08.732309Z",
     "iopub.status.idle": "2021-04-04T23:28:08.735560Z",
     "shell.execute_reply": "2021-04-04T23:28:08.737187Z"
    },
    "papermill": {
     "duration": 0.048136,
     "end_time": "2021-04-04T23:28:08.737631",
     "exception": false,
     "start_time": "2021-04-04T23:28:08.689495",
     "status": "completed"
    },
    "tags": [
     "parameters"
    ]
   },
   "outputs": [],
   "source": [
    "DATASET_CONFIG_PATH = 'config/dataset/kc1_001.json'\n",
    "MODEL_CONFIG_PATH = 'config/model/knndd_001.json'\n",
    "PROFILE_REPORTING = False"
   ]
  },
  {
   "cell_type": "code",
   "execution_count": 2,
   "id": "a8273291",
   "metadata": {
    "execution": {
     "iopub.execute_input": "2021-04-04T23:28:08.794907Z",
     "iopub.status.busy": "2021-04-04T23:28:08.794042Z",
     "iopub.status.idle": "2021-04-04T23:28:08.795930Z",
     "shell.execute_reply": "2021-04-04T23:28:08.796403Z"
    },
    "papermill": {
     "duration": 0.030018,
     "end_time": "2021-04-04T23:28:08.796549",
     "exception": false,
     "start_time": "2021-04-04T23:28:08.766531",
     "status": "completed"
    },
    "tags": [
     "injected-parameters"
    ]
   },
   "outputs": [],
   "source": [
    "# Parameters\n",
    "DATASET_CONFIG_PATH = \"config/dataset/000137.json\"\n",
    "MODEL_CONFIG_PATH = \"config/model/000002.json\"\n",
    "PROFILE_REPORTING = False\n"
   ]
  },
  {
   "cell_type": "code",
   "execution_count": 3,
   "id": "b80f2a10",
   "metadata": {
    "execution": {
     "iopub.execute_input": "2021-04-04T23:28:08.849598Z",
     "iopub.status.busy": "2021-04-04T23:28:08.848094Z",
     "iopub.status.idle": "2021-04-04T23:28:08.852109Z",
     "shell.execute_reply": "2021-04-04T23:28:08.852592Z"
    },
    "papermill": {
     "duration": 0.036017,
     "end_time": "2021-04-04T23:28:08.852744",
     "exception": false,
     "start_time": "2021-04-04T23:28:08.816727",
     "status": "completed"
    },
    "tags": []
   },
   "outputs": [],
   "source": [
    "import json\n",
    "\n",
    "\n",
    "with open(DATASET_CONFIG_PATH) as f:\n",
    "    dataset_config = json.load(f)\n",
    "\n",
    "with open(MODEL_CONFIG_PATH) as f:\n",
    "    model_config = json.load(f)"
   ]
  },
  {
   "cell_type": "markdown",
   "id": "9a4b0e2d",
   "metadata": {
    "papermill": {
     "duration": 0.024317,
     "end_time": "2021-04-04T23:28:08.898459",
     "exception": false,
     "start_time": "2021-04-04T23:28:08.874142",
     "status": "completed"
    },
    "tags": []
   },
   "source": [
    "# Profiling"
   ]
  },
  {
   "cell_type": "code",
   "execution_count": 4,
   "id": "a3e0289b",
   "metadata": {
    "execution": {
     "iopub.execute_input": "2021-04-04T23:28:08.948249Z",
     "iopub.status.busy": "2021-04-04T23:28:08.946502Z",
     "iopub.status.idle": "2021-04-04T23:28:10.415311Z",
     "shell.execute_reply": "2021-04-04T23:28:10.415798Z"
    },
    "papermill": {
     "duration": 1.496739,
     "end_time": "2021-04-04T23:28:10.415946",
     "exception": false,
     "start_time": "2021-04-04T23:28:08.919207",
     "status": "completed"
    },
    "tags": []
   },
   "outputs": [],
   "source": [
    "import pandas as pd\n",
    "from pandas_profiling import ProfileReport"
   ]
  },
  {
   "cell_type": "code",
   "execution_count": 5,
   "id": "ee6c0666",
   "metadata": {
    "execution": {
     "iopub.execute_input": "2021-04-04T23:28:10.478480Z",
     "iopub.status.busy": "2021-04-04T23:28:10.476287Z",
     "iopub.status.idle": "2021-04-04T23:28:10.494477Z",
     "shell.execute_reply": "2021-04-04T23:28:10.493276Z"
    },
    "papermill": {
     "duration": 0.054837,
     "end_time": "2021-04-04T23:28:10.494765",
     "exception": false,
     "start_time": "2021-04-04T23:28:10.439928",
     "status": "completed"
    },
    "tags": []
   },
   "outputs": [],
   "source": [
    "df = pd.read_csv(dataset_config['dataset_path'])"
   ]
  },
  {
   "cell_type": "code",
   "execution_count": 6,
   "id": "7eca6c4a",
   "metadata": {
    "execution": {
     "iopub.execute_input": "2021-04-04T23:28:10.562099Z",
     "iopub.status.busy": "2021-04-04T23:28:10.548819Z",
     "iopub.status.idle": "2021-04-04T23:28:10.564763Z",
     "shell.execute_reply": "2021-04-04T23:28:10.565240Z"
    },
    "papermill": {
     "duration": 0.048204,
     "end_time": "2021-04-04T23:28:10.565388",
     "exception": false,
     "start_time": "2021-04-04T23:28:10.517184",
     "status": "completed"
    },
    "tags": []
   },
   "outputs": [
    {
     "name": "stdout",
     "output_type": "stream",
     "text": [
      "<class 'pandas.core.frame.DataFrame'>\n",
      "RangeIndex: 498 entries, 0 to 497\n",
      "Data columns (total 23 columns):\n",
      " #   Column             Non-Null Count  Dtype  \n",
      "---  ------             --------------  -----  \n",
      " 0   id                 498 non-null    int64  \n",
      " 1   loc                498 non-null    float64\n",
      " 2   v(g)               498 non-null    float64\n",
      " 3   ev(g)              498 non-null    float64\n",
      " 4   iv(g)              498 non-null    float64\n",
      " 5   n                  498 non-null    float64\n",
      " 6   v                  498 non-null    float64\n",
      " 7   l                  498 non-null    float64\n",
      " 8   d                  498 non-null    float64\n",
      " 9   i                  498 non-null    float64\n",
      " 10  e                  498 non-null    float64\n",
      " 11  b                  498 non-null    float64\n",
      " 12  t                  498 non-null    float64\n",
      " 13  lOCode             498 non-null    int64  \n",
      " 14  lOComment          498 non-null    int64  \n",
      " 15  lOBlank            498 non-null    int64  \n",
      " 16  locCodeAndComment  498 non-null    int64  \n",
      " 17  uniq_Op            498 non-null    float64\n",
      " 18  uniq_Opnd          498 non-null    float64\n",
      " 19  total_Op           498 non-null    float64\n",
      " 20  total_Opnd         498 non-null    float64\n",
      " 21  branchCount        498 non-null    float64\n",
      " 22  defects            498 non-null    bool   \n",
      "dtypes: bool(1), float64(17), int64(5)\n",
      "memory usage: 86.2 KB\n"
     ]
    }
   ],
   "source": [
    "df.info()"
   ]
  },
  {
   "cell_type": "code",
   "execution_count": 7,
   "id": "3638e5e8",
   "metadata": {
    "execution": {
     "iopub.execute_input": "2021-04-04T23:28:10.631659Z",
     "iopub.status.busy": "2021-04-04T23:28:10.620778Z",
     "iopub.status.idle": "2021-04-04T23:28:10.645864Z",
     "shell.execute_reply": "2021-04-04T23:28:10.646425Z"
    },
    "papermill": {
     "duration": 0.05862,
     "end_time": "2021-04-04T23:28:10.646569",
     "exception": false,
     "start_time": "2021-04-04T23:28:10.587949",
     "status": "completed"
    },
    "tags": []
   },
   "outputs": [
    {
     "data": {
      "text/html": [
       "<div>\n",
       "<style scoped>\n",
       "    .dataframe tbody tr th:only-of-type {\n",
       "        vertical-align: middle;\n",
       "    }\n",
       "\n",
       "    .dataframe tbody tr th {\n",
       "        vertical-align: top;\n",
       "    }\n",
       "\n",
       "    .dataframe thead th {\n",
       "        text-align: right;\n",
       "    }\n",
       "</style>\n",
       "<table border=\"1\" class=\"dataframe\">\n",
       "  <thead>\n",
       "    <tr style=\"text-align: right;\">\n",
       "      <th></th>\n",
       "      <th>id</th>\n",
       "      <th>loc</th>\n",
       "      <th>v(g)</th>\n",
       "      <th>ev(g)</th>\n",
       "      <th>iv(g)</th>\n",
       "      <th>n</th>\n",
       "      <th>v</th>\n",
       "      <th>l</th>\n",
       "      <th>d</th>\n",
       "      <th>i</th>\n",
       "      <th>...</th>\n",
       "      <th>lOCode</th>\n",
       "      <th>lOComment</th>\n",
       "      <th>lOBlank</th>\n",
       "      <th>locCodeAndComment</th>\n",
       "      <th>uniq_Op</th>\n",
       "      <th>uniq_Opnd</th>\n",
       "      <th>total_Op</th>\n",
       "      <th>total_Opnd</th>\n",
       "      <th>branchCount</th>\n",
       "      <th>defects</th>\n",
       "    </tr>\n",
       "  </thead>\n",
       "  <tbody>\n",
       "    <tr>\n",
       "      <th>0</th>\n",
       "      <td>1</td>\n",
       "      <td>1.1</td>\n",
       "      <td>1.4</td>\n",
       "      <td>1.4</td>\n",
       "      <td>1.4</td>\n",
       "      <td>1.3</td>\n",
       "      <td>1.30</td>\n",
       "      <td>1.30</td>\n",
       "      <td>1.30</td>\n",
       "      <td>1.30</td>\n",
       "      <td>...</td>\n",
       "      <td>2</td>\n",
       "      <td>2</td>\n",
       "      <td>2</td>\n",
       "      <td>2</td>\n",
       "      <td>1.2</td>\n",
       "      <td>1.2</td>\n",
       "      <td>1.2</td>\n",
       "      <td>1.2</td>\n",
       "      <td>1.4</td>\n",
       "      <td>False</td>\n",
       "    </tr>\n",
       "    <tr>\n",
       "      <th>1</th>\n",
       "      <td>2</td>\n",
       "      <td>1.0</td>\n",
       "      <td>1.0</td>\n",
       "      <td>1.0</td>\n",
       "      <td>1.0</td>\n",
       "      <td>1.0</td>\n",
       "      <td>1.00</td>\n",
       "      <td>1.00</td>\n",
       "      <td>1.00</td>\n",
       "      <td>1.00</td>\n",
       "      <td>...</td>\n",
       "      <td>1</td>\n",
       "      <td>1</td>\n",
       "      <td>1</td>\n",
       "      <td>1</td>\n",
       "      <td>1.0</td>\n",
       "      <td>1.0</td>\n",
       "      <td>1.0</td>\n",
       "      <td>1.0</td>\n",
       "      <td>1.0</td>\n",
       "      <td>True</td>\n",
       "    </tr>\n",
       "    <tr>\n",
       "      <th>2</th>\n",
       "      <td>3</td>\n",
       "      <td>24.0</td>\n",
       "      <td>5.0</td>\n",
       "      <td>1.0</td>\n",
       "      <td>3.0</td>\n",
       "      <td>63.0</td>\n",
       "      <td>309.13</td>\n",
       "      <td>0.11</td>\n",
       "      <td>9.50</td>\n",
       "      <td>32.54</td>\n",
       "      <td>...</td>\n",
       "      <td>1</td>\n",
       "      <td>0</td>\n",
       "      <td>6</td>\n",
       "      <td>0</td>\n",
       "      <td>15.0</td>\n",
       "      <td>15.0</td>\n",
       "      <td>44.0</td>\n",
       "      <td>19.0</td>\n",
       "      <td>9.0</td>\n",
       "      <td>False</td>\n",
       "    </tr>\n",
       "    <tr>\n",
       "      <th>3</th>\n",
       "      <td>4</td>\n",
       "      <td>20.0</td>\n",
       "      <td>4.0</td>\n",
       "      <td>4.0</td>\n",
       "      <td>2.0</td>\n",
       "      <td>47.0</td>\n",
       "      <td>215.49</td>\n",
       "      <td>0.06</td>\n",
       "      <td>16.00</td>\n",
       "      <td>13.47</td>\n",
       "      <td>...</td>\n",
       "      <td>0</td>\n",
       "      <td>0</td>\n",
       "      <td>3</td>\n",
       "      <td>0</td>\n",
       "      <td>16.0</td>\n",
       "      <td>8.0</td>\n",
       "      <td>31.0</td>\n",
       "      <td>16.0</td>\n",
       "      <td>7.0</td>\n",
       "      <td>False</td>\n",
       "    </tr>\n",
       "    <tr>\n",
       "      <th>4</th>\n",
       "      <td>5</td>\n",
       "      <td>24.0</td>\n",
       "      <td>6.0</td>\n",
       "      <td>6.0</td>\n",
       "      <td>2.0</td>\n",
       "      <td>72.0</td>\n",
       "      <td>346.13</td>\n",
       "      <td>0.06</td>\n",
       "      <td>17.33</td>\n",
       "      <td>19.97</td>\n",
       "      <td>...</td>\n",
       "      <td>0</td>\n",
       "      <td>0</td>\n",
       "      <td>3</td>\n",
       "      <td>0</td>\n",
       "      <td>16.0</td>\n",
       "      <td>12.0</td>\n",
       "      <td>46.0</td>\n",
       "      <td>26.0</td>\n",
       "      <td>11.0</td>\n",
       "      <td>False</td>\n",
       "    </tr>\n",
       "  </tbody>\n",
       "</table>\n",
       "<p>5 rows × 23 columns</p>\n",
       "</div>"
      ],
      "text/plain": [
       "   id   loc  v(g)  ev(g)  iv(g)     n       v     l      d      i  ...  \\\n",
       "0   1   1.1   1.4    1.4    1.4   1.3    1.30  1.30   1.30   1.30  ...   \n",
       "1   2   1.0   1.0    1.0    1.0   1.0    1.00  1.00   1.00   1.00  ...   \n",
       "2   3  24.0   5.0    1.0    3.0  63.0  309.13  0.11   9.50  32.54  ...   \n",
       "3   4  20.0   4.0    4.0    2.0  47.0  215.49  0.06  16.00  13.47  ...   \n",
       "4   5  24.0   6.0    6.0    2.0  72.0  346.13  0.06  17.33  19.97  ...   \n",
       "\n",
       "   lOCode  lOComment  lOBlank  locCodeAndComment  uniq_Op  uniq_Opnd  \\\n",
       "0       2          2        2                  2      1.2        1.2   \n",
       "1       1          1        1                  1      1.0        1.0   \n",
       "2       1          0        6                  0     15.0       15.0   \n",
       "3       0          0        3                  0     16.0        8.0   \n",
       "4       0          0        3                  0     16.0       12.0   \n",
       "\n",
       "   total_Op  total_Opnd  branchCount  defects  \n",
       "0       1.2         1.2          1.4    False  \n",
       "1       1.0         1.0          1.0     True  \n",
       "2      44.0        19.0          9.0    False  \n",
       "3      31.0        16.0          7.0    False  \n",
       "4      46.0        26.0         11.0    False  \n",
       "\n",
       "[5 rows x 23 columns]"
      ]
     },
     "execution_count": 7,
     "metadata": {},
     "output_type": "execute_result"
    }
   ],
   "source": [
    "df.head()"
   ]
  },
  {
   "cell_type": "code",
   "execution_count": 8,
   "id": "733e95eb",
   "metadata": {
    "execution": {
     "iopub.execute_input": "2021-04-04T23:28:10.706195Z",
     "iopub.status.busy": "2021-04-04T23:28:10.703529Z",
     "iopub.status.idle": "2021-04-04T23:28:10.707823Z",
     "shell.execute_reply": "2021-04-04T23:28:10.708329Z"
    },
    "papermill": {
     "duration": 0.038213,
     "end_time": "2021-04-04T23:28:10.708504",
     "exception": false,
     "start_time": "2021-04-04T23:28:10.670291",
     "status": "completed"
    },
    "tags": []
   },
   "outputs": [],
   "source": [
    "del df['id']"
   ]
  },
  {
   "cell_type": "code",
   "execution_count": 9,
   "id": "6ff6f5b0",
   "metadata": {
    "execution": {
     "iopub.execute_input": "2021-04-04T23:28:10.764925Z",
     "iopub.status.busy": "2021-04-04T23:28:10.763259Z",
     "iopub.status.idle": "2021-04-04T23:28:10.766783Z",
     "shell.execute_reply": "2021-04-04T23:28:10.767270Z"
    },
    "papermill": {
     "duration": 0.035367,
     "end_time": "2021-04-04T23:28:10.767415",
     "exception": false,
     "start_time": "2021-04-04T23:28:10.732048",
     "status": "completed"
    },
    "tags": []
   },
   "outputs": [],
   "source": [
    "if PROFILE_REPORTING:\n",
    "    ProfileReport(df).to_widgets()"
   ]
  },
  {
   "cell_type": "markdown",
   "id": "1deaf3f0",
   "metadata": {
    "papermill": {
     "duration": 0.026744,
     "end_time": "2021-04-04T23:28:10.815901",
     "exception": false,
     "start_time": "2021-04-04T23:28:10.789157",
     "status": "completed"
    },
    "tags": []
   },
   "source": [
    "# Preprocess"
   ]
  },
  {
   "cell_type": "code",
   "execution_count": 10,
   "id": "1513e563",
   "metadata": {
    "execution": {
     "iopub.execute_input": "2021-04-04T23:28:10.868193Z",
     "iopub.status.busy": "2021-04-04T23:28:10.867528Z",
     "iopub.status.idle": "2021-04-04T23:28:10.870052Z",
     "shell.execute_reply": "2021-04-04T23:28:10.870546Z"
    },
    "papermill": {
     "duration": 0.03255,
     "end_time": "2021-04-04T23:28:10.870689",
     "exception": false,
     "start_time": "2021-04-04T23:28:10.838139",
     "status": "completed"
    },
    "tags": []
   },
   "outputs": [],
   "source": [
    "working_df = df.copy()"
   ]
  },
  {
   "cell_type": "code",
   "execution_count": 11,
   "id": "3b26d675",
   "metadata": {
    "execution": {
     "iopub.execute_input": "2021-04-04T23:28:10.925487Z",
     "iopub.status.busy": "2021-04-04T23:28:10.924723Z",
     "iopub.status.idle": "2021-04-04T23:28:10.927000Z",
     "shell.execute_reply": "2021-04-04T23:28:10.926474Z"
    },
    "papermill": {
     "duration": 0.034921,
     "end_time": "2021-04-04T23:28:10.927121",
     "exception": false,
     "start_time": "2021-04-04T23:28:10.892200",
     "status": "completed"
    },
    "tags": []
   },
   "outputs": [],
   "source": [
    "working_df['defects'] = working_df['defects'].replace([False, True], [0, 1])"
   ]
  },
  {
   "cell_type": "code",
   "execution_count": 12,
   "id": "eb48604f",
   "metadata": {
    "execution": {
     "iopub.execute_input": "2021-04-04T23:28:10.982232Z",
     "iopub.status.busy": "2021-04-04T23:28:10.981154Z",
     "iopub.status.idle": "2021-04-04T23:28:10.984062Z",
     "shell.execute_reply": "2021-04-04T23:28:10.984758Z"
    },
    "papermill": {
     "duration": 0.033321,
     "end_time": "2021-04-04T23:28:10.984971",
     "exception": false,
     "start_time": "2021-04-04T23:28:10.951650",
     "status": "completed"
    },
    "tags": []
   },
   "outputs": [],
   "source": [
    "for col in dataset_config['delete_columns']:\n",
    "    del working_df[col]"
   ]
  },
  {
   "cell_type": "code",
   "execution_count": 13,
   "id": "9a17bc29",
   "metadata": {
    "execution": {
     "iopub.execute_input": "2021-04-04T23:28:11.066039Z",
     "iopub.status.busy": "2021-04-04T23:28:11.063069Z",
     "iopub.status.idle": "2021-04-04T23:28:11.075940Z",
     "shell.execute_reply": "2021-04-04T23:28:11.076505Z"
    },
    "papermill": {
     "duration": 0.058915,
     "end_time": "2021-04-04T23:28:11.076676",
     "exception": false,
     "start_time": "2021-04-04T23:28:11.017761",
     "status": "completed"
    },
    "tags": []
   },
   "outputs": [],
   "source": [
    "working_df = working_df.drop_duplicates()"
   ]
  },
  {
   "cell_type": "markdown",
   "id": "a4d52ca6",
   "metadata": {
    "papermill": {
     "duration": 0.024512,
     "end_time": "2021-04-04T23:28:11.128914",
     "exception": false,
     "start_time": "2021-04-04T23:28:11.104402",
     "status": "completed"
    },
    "tags": []
   },
   "source": [
    "# Split"
   ]
  },
  {
   "cell_type": "code",
   "execution_count": 14,
   "id": "3e9ee4b5",
   "metadata": {
    "execution": {
     "iopub.execute_input": "2021-04-04T23:28:11.185759Z",
     "iopub.status.busy": "2021-04-04T23:28:11.184698Z",
     "iopub.status.idle": "2021-04-04T23:28:11.214843Z",
     "shell.execute_reply": "2021-04-04T23:28:11.214223Z"
    },
    "papermill": {
     "duration": 0.062971,
     "end_time": "2021-04-04T23:28:11.214963",
     "exception": false,
     "start_time": "2021-04-04T23:28:11.151992",
     "status": "completed"
    },
    "tags": []
   },
   "outputs": [],
   "source": [
    "from sklearn.model_selection import train_test_split"
   ]
  },
  {
   "cell_type": "code",
   "execution_count": 15,
   "id": "274004ce",
   "metadata": {
    "execution": {
     "iopub.execute_input": "2021-04-04T23:28:11.267687Z",
     "iopub.status.busy": "2021-04-04T23:28:11.266703Z",
     "iopub.status.idle": "2021-04-04T23:28:11.275896Z",
     "shell.execute_reply": "2021-04-04T23:28:11.275172Z"
    },
    "papermill": {
     "duration": 0.036936,
     "end_time": "2021-04-04T23:28:11.276058",
     "exception": false,
     "start_time": "2021-04-04T23:28:11.239122",
     "status": "completed"
    },
    "scrolled": true,
    "tags": []
   },
   "outputs": [],
   "source": [
    "inlier, outlier = working_df[working_df['defects'] == 0], working_df[working_df['defects'] == 1]"
   ]
  },
  {
   "cell_type": "code",
   "execution_count": 16,
   "id": "753c7b03",
   "metadata": {
    "execution": {
     "iopub.execute_input": "2021-04-04T23:28:11.332808Z",
     "iopub.status.busy": "2021-04-04T23:28:11.331056Z",
     "iopub.status.idle": "2021-04-04T23:28:11.336686Z",
     "shell.execute_reply": "2021-04-04T23:28:11.337198Z"
    },
    "papermill": {
     "duration": 0.037654,
     "end_time": "2021-04-04T23:28:11.337347",
     "exception": false,
     "start_time": "2021-04-04T23:28:11.299693",
     "status": "completed"
    },
    "tags": []
   },
   "outputs": [],
   "source": [
    "X_inlier = inlier.copy()\n",
    "y_inlier = X_inlier.pop('defects')\n",
    "X_outlier = outlier.copy()\n",
    "y_outlier = X_outlier.pop('defects')"
   ]
  },
  {
   "cell_type": "code",
   "execution_count": 17,
   "id": "2ba43193",
   "metadata": {
    "execution": {
     "iopub.execute_input": "2021-04-04T23:28:11.405479Z",
     "iopub.status.busy": "2021-04-04T23:28:11.404729Z",
     "iopub.status.idle": "2021-04-04T23:28:11.406923Z",
     "shell.execute_reply": "2021-04-04T23:28:11.406398Z"
    },
    "papermill": {
     "duration": 0.038888,
     "end_time": "2021-04-04T23:28:11.407043",
     "exception": false,
     "start_time": "2021-04-04T23:28:11.368155",
     "status": "completed"
    },
    "tags": []
   },
   "outputs": [],
   "source": [
    "test_size = dataset_config['test_size']\n",
    "random_state = dataset_config['random_state']\n",
    "\n",
    "X_inlier_train, X_inlier_test, y_inlier_train, y_inlier_test = train_test_split(\n",
    "    X_inlier,\n",
    "    y_inlier,\n",
    "    test_size=test_size,\n",
    "    random_state=random_state\n",
    ")"
   ]
  },
  {
   "cell_type": "code",
   "execution_count": 18,
   "id": "0b7582ca",
   "metadata": {
    "execution": {
     "iopub.execute_input": "2021-04-04T23:28:11.473024Z",
     "iopub.status.busy": "2021-04-04T23:28:11.472155Z",
     "iopub.status.idle": "2021-04-04T23:28:11.474513Z",
     "shell.execute_reply": "2021-04-04T23:28:11.475133Z"
    },
    "papermill": {
     "duration": 0.043386,
     "end_time": "2021-04-04T23:28:11.475279",
     "exception": false,
     "start_time": "2021-04-04T23:28:11.431893",
     "status": "completed"
    },
    "tags": []
   },
   "outputs": [],
   "source": [
    "test_outlier_size = dataset_config['test_outlier_size']\n",
    "if test_outlier_size > 0.0:\n",
    "    X_outlier_train, X_outlier_test, y_outlier_train, y_outlier_test = train_test_split(\n",
    "        X_outlier,\n",
    "        y_outlier,\n",
    "        test_size=test_outlier_size,\n",
    "        random_state=random_state\n",
    "    )\n",
    "else:\n",
    "    X_outlier_train, y_outlier_train = pd.DataFrame(columns=X_outlier.columns), pd.Series(dtype='int64')\n",
    "    X_outlier_test, y_outlier_test = X_outlier.copy(), y_outlier.copy()"
   ]
  },
  {
   "cell_type": "code",
   "execution_count": 19,
   "id": "c34363db",
   "metadata": {
    "execution": {
     "iopub.execute_input": "2021-04-04T23:28:11.532063Z",
     "iopub.status.busy": "2021-04-04T23:28:11.531260Z",
     "iopub.status.idle": "2021-04-04T23:28:11.538624Z",
     "shell.execute_reply": "2021-04-04T23:28:11.537264Z"
    },
    "papermill": {
     "duration": 0.036924,
     "end_time": "2021-04-04T23:28:11.538805",
     "exception": false,
     "start_time": "2021-04-04T23:28:11.501881",
     "status": "completed"
    },
    "tags": []
   },
   "outputs": [],
   "source": [
    "X_train, y_train = pd.concat([X_inlier_train, X_outlier_train], ignore_index=True), pd.concat([y_inlier_train, y_outlier_train], ignore_index=True)\n",
    "X_test, y_test = pd.concat([X_inlier_test, X_outlier_test], ignore_index=True), pd.concat([y_inlier_test, y_outlier_test], ignore_index=True)"
   ]
  },
  {
   "cell_type": "markdown",
   "id": "7cde7309",
   "metadata": {
    "papermill": {
     "duration": 0.034296,
     "end_time": "2021-04-04T23:28:11.597683",
     "exception": false,
     "start_time": "2021-04-04T23:28:11.563387",
     "status": "completed"
    },
    "tags": []
   },
   "source": [
    "# Model"
   ]
  },
  {
   "cell_type": "code",
   "execution_count": 20,
   "id": "2b12a415",
   "metadata": {
    "execution": {
     "iopub.execute_input": "2021-04-04T23:28:11.671224Z",
     "iopub.status.busy": "2021-04-04T23:28:11.670284Z",
     "iopub.status.idle": "2021-04-04T23:28:11.672774Z",
     "shell.execute_reply": "2021-04-04T23:28:11.672264Z"
    },
    "papermill": {
     "duration": 0.050627,
     "end_time": "2021-04-04T23:28:11.672893",
     "exception": false,
     "start_time": "2021-04-04T23:28:11.622266",
     "status": "completed"
    },
    "tags": []
   },
   "outputs": [],
   "source": [
    "from math import sqrt\n",
    "\n",
    "\n",
    "class KNNDataDescription:\n",
    "    def __init__(self, k=5, outlier_threshold=1.0):\n",
    "        self.k = k\n",
    "        self.outlier_threshold = outlier_threshold\n",
    "        self.X = []\n",
    "    \n",
    "    def fit(self, X):\n",
    "        self.X = [features.to_list() for index, features in X.iterrows()]\n",
    "\n",
    "    def predict(self, entries):\n",
    "        return [self.predict_entry(features.to_list()) for index, features in entries.iterrows()]\n",
    "    \n",
    "    def predict_entry(self, entry):\n",
    "        kth_neighbor, kth_distance = self.get_kth_neighbor(entry, self.k)\n",
    "        kth_kth_neighbor, kth_kth_distance = self.get_kth_neighbor(kth_neighbor, self.k + 1)\n",
    "\n",
    "        outlier_score = kth_distance / (kth_kth_distance + 0.000001)\n",
    "\n",
    "        return 1 if outlier_score < self.outlier_threshold else -1\n",
    "        \n",
    "    def euclidean_distance(self, features1, features2):\n",
    "        distance = 0.0\n",
    "        for feat1, feat2 in zip(features1, features2):\n",
    "            distance += (feat1 - feat2)**2\n",
    "                \n",
    "        return sqrt(distance)\n",
    "\n",
    "    def get_neighbors(self, entry, k):\n",
    "        distance_to_data_points = [\n",
    "            (data_point, self.euclidean_distance(entry, data_point))\n",
    "            for data_point in self.X\n",
    "        ]\n",
    "        sorted_by_distance = sorted(distance_to_data_points, key=lambda tup: tup[1])\n",
    "        neighbors = sorted_by_distance[:k]\n",
    "        return neighbors\n",
    "\n",
    "    def get_kth_neighbor(self, entry, k):\n",
    "        neighbors = self.get_neighbors(entry, k)\n",
    "        return neighbors[-1]\n"
   ]
  },
  {
   "cell_type": "code",
   "execution_count": 21,
   "id": "1fa9ec1c",
   "metadata": {
    "execution": {
     "iopub.execute_input": "2021-04-04T23:28:11.733152Z",
     "iopub.status.busy": "2021-04-04T23:28:11.731316Z",
     "iopub.status.idle": "2021-04-04T23:28:11.771891Z",
     "shell.execute_reply": "2021-04-04T23:28:11.772470Z"
    },
    "papermill": {
     "duration": 0.074335,
     "end_time": "2021-04-04T23:28:11.772650",
     "exception": false,
     "start_time": "2021-04-04T23:28:11.698315",
     "status": "completed"
    },
    "tags": []
   },
   "outputs": [],
   "source": [
    "from sklearn.svm import OneClassSVM\n",
    "\n",
    "\n",
    "models = {\n",
    "    'oneclasssvm': OneClassSVM,\n",
    "    'knndatadescription': KNNDataDescription,\n",
    "}"
   ]
  },
  {
   "cell_type": "code",
   "execution_count": 22,
   "id": "4d72a0b1",
   "metadata": {
    "execution": {
     "iopub.execute_input": "2021-04-04T23:28:11.825416Z",
     "iopub.status.busy": "2021-04-04T23:28:11.824830Z",
     "iopub.status.idle": "2021-04-04T23:28:11.826862Z",
     "shell.execute_reply": "2021-04-04T23:28:11.827313Z"
    },
    "papermill": {
     "duration": 0.028614,
     "end_time": "2021-04-04T23:28:11.827451",
     "exception": false,
     "start_time": "2021-04-04T23:28:11.798837",
     "status": "completed"
    },
    "scrolled": true,
    "tags": []
   },
   "outputs": [],
   "source": [
    "model_cls = models[model_config['model_type']]\n",
    "model = model_cls(**model_config['hyperparameters'])"
   ]
  },
  {
   "cell_type": "markdown",
   "id": "e00cff3b",
   "metadata": {
    "papermill": {
     "duration": 0.028821,
     "end_time": "2021-04-04T23:28:11.881224",
     "exception": false,
     "start_time": "2021-04-04T23:28:11.852403",
     "status": "completed"
    },
    "tags": []
   },
   "source": [
    "# Fit"
   ]
  },
  {
   "cell_type": "code",
   "execution_count": 23,
   "id": "8b2ded89",
   "metadata": {
    "execution": {
     "iopub.execute_input": "2021-04-04T23:28:11.934502Z",
     "iopub.status.busy": "2021-04-04T23:28:11.933370Z",
     "iopub.status.idle": "2021-04-04T23:28:11.959073Z",
     "shell.execute_reply": "2021-04-04T23:28:11.958466Z"
    },
    "papermill": {
     "duration": 0.052789,
     "end_time": "2021-04-04T23:28:11.959214",
     "exception": false,
     "start_time": "2021-04-04T23:28:11.906425",
     "status": "completed"
    },
    "tags": []
   },
   "outputs": [],
   "source": [
    "model.fit(X_train)"
   ]
  },
  {
   "cell_type": "markdown",
   "id": "f99999f7",
   "metadata": {
    "papermill": {
     "duration": 0.026649,
     "end_time": "2021-04-04T23:28:12.010660",
     "exception": false,
     "start_time": "2021-04-04T23:28:11.984011",
     "status": "completed"
    },
    "tags": []
   },
   "source": [
    "# Predict"
   ]
  },
  {
   "cell_type": "code",
   "execution_count": 24,
   "id": "6536fbf7",
   "metadata": {
    "execution": {
     "iopub.execute_input": "2021-04-04T23:28:12.086895Z",
     "iopub.status.busy": "2021-04-04T23:28:12.082289Z",
     "iopub.status.idle": "2021-04-04T23:28:12.375982Z",
     "shell.execute_reply": "2021-04-04T23:28:12.376445Z"
    },
    "papermill": {
     "duration": 0.342181,
     "end_time": "2021-04-04T23:28:12.376595",
     "exception": false,
     "start_time": "2021-04-04T23:28:12.034414",
     "status": "completed"
    },
    "tags": []
   },
   "outputs": [],
   "source": [
    "predictions = model.predict(X_test)"
   ]
  },
  {
   "cell_type": "markdown",
   "id": "aa1c9881",
   "metadata": {
    "papermill": {
     "duration": 0.02672,
     "end_time": "2021-04-04T23:28:12.427653",
     "exception": false,
     "start_time": "2021-04-04T23:28:12.400933",
     "status": "completed"
    },
    "tags": []
   },
   "source": [
    "# Evaluate"
   ]
  },
  {
   "cell_type": "code",
   "execution_count": 25,
   "id": "894f0f04",
   "metadata": {
    "execution": {
     "iopub.execute_input": "2021-04-04T23:28:12.484331Z",
     "iopub.status.busy": "2021-04-04T23:28:12.483583Z",
     "iopub.status.idle": "2021-04-04T23:28:12.485863Z",
     "shell.execute_reply": "2021-04-04T23:28:12.486367Z"
    },
    "papermill": {
     "duration": 0.034149,
     "end_time": "2021-04-04T23:28:12.486516",
     "exception": false,
     "start_time": "2021-04-04T23:28:12.452367",
     "status": "completed"
    },
    "tags": []
   },
   "outputs": [],
   "source": [
    "from sklearn.metrics import f1_score"
   ]
  },
  {
   "cell_type": "code",
   "execution_count": 26,
   "id": "211744d3",
   "metadata": {
    "execution": {
     "iopub.execute_input": "2021-04-04T23:28:12.547253Z",
     "iopub.status.busy": "2021-04-04T23:28:12.546420Z",
     "iopub.status.idle": "2021-04-04T23:28:12.551656Z",
     "shell.execute_reply": "2021-04-04T23:28:12.550380Z"
    },
    "papermill": {
     "duration": 0.040714,
     "end_time": "2021-04-04T23:28:12.551906",
     "exception": false,
     "start_time": "2021-04-04T23:28:12.511192",
     "status": "completed"
    },
    "tags": []
   },
   "outputs": [],
   "source": [
    "y_test = y_test.replace([0, 1], [1, -1])"
   ]
  },
  {
   "cell_type": "code",
   "execution_count": 27,
   "id": "d68a9204",
   "metadata": {
    "execution": {
     "iopub.execute_input": "2021-04-04T23:28:12.614874Z",
     "iopub.status.busy": "2021-04-04T23:28:12.614129Z",
     "iopub.status.idle": "2021-04-04T23:28:12.616394Z",
     "shell.execute_reply": "2021-04-04T23:28:12.615891Z"
    },
    "papermill": {
     "duration": 0.034926,
     "end_time": "2021-04-04T23:28:12.616514",
     "exception": false,
     "start_time": "2021-04-04T23:28:12.581588",
     "status": "completed"
    },
    "tags": []
   },
   "outputs": [],
   "source": [
    "def evaluate(truths, predictions, pos_label, neg_label):\n",
    "    TP = 0\n",
    "    FP = 0\n",
    "    TN = 0\n",
    "    FN = 0\n",
    "\n",
    "    for truth, pred in zip(truths, predictions): \n",
    "        if truth == pred == pos_label:\n",
    "           TP += 1\n",
    "        elif pred == pos_label and truth == neg_label:\n",
    "           FP += 1\n",
    "        elif truth == pred == neg_label:\n",
    "           TN += 1\n",
    "        elif pred == neg_label and truth == pos_label:\n",
    "           FN += 1\n",
    "\n",
    "    precision = TP / (TP + FP)\n",
    "    sensitivity = TP / (TP + FN)\n",
    "    \n",
    "    return {\n",
    "        'true_pos': TP,\n",
    "        'false_pos': FP,\n",
    "        'false_neg': FN,\n",
    "        'true_neg': TN,\n",
    "        'precision': precision,\n",
    "        'sensitivity': sensitivity,\n",
    "        'f1': (2 * (precision * sensitivity)) / (precision + sensitivity)\n",
    "    }\n",
    "\n",
    "score = evaluate(y_test, predictions, pos_label=-1, neg_label=1)"
   ]
  },
  {
   "cell_type": "markdown",
   "id": "93596516",
   "metadata": {
    "papermill": {
     "duration": 0.030366,
     "end_time": "2021-04-04T23:28:12.677201",
     "exception": false,
     "start_time": "2021-04-04T23:28:12.646835",
     "status": "completed"
    },
    "tags": []
   },
   "source": [
    "# Report"
   ]
  },
  {
   "cell_type": "code",
   "execution_count": 28,
   "id": "bea5fba1",
   "metadata": {
    "execution": {
     "iopub.execute_input": "2021-04-04T23:28:12.737185Z",
     "iopub.status.busy": "2021-04-04T23:28:12.736567Z",
     "iopub.status.idle": "2021-04-04T23:28:12.738589Z",
     "shell.execute_reply": "2021-04-04T23:28:12.739062Z"
    },
    "papermill": {
     "duration": 0.03522,
     "end_time": "2021-04-04T23:28:12.739207",
     "exception": false,
     "start_time": "2021-04-04T23:28:12.703987",
     "status": "completed"
    },
    "tags": []
   },
   "outputs": [],
   "source": [
    "import csv\n",
    "\n",
    "\n",
    "dataset_config_name = DATASET_CONFIG_PATH.split('/')[-1].split('.')[0]\n",
    "model_config_name = MODEL_CONFIG_PATH.split('/')[-1].split('.')[0]\n",
    "configuration = f\"dataset_{dataset_config_name}-model_{model_config_name}\"\n",
    "\n",
    "with open('results.csv', 'a') as f:\n",
    "    report = dict({'configuration': configuration}, **score)\n",
    "    writer = csv.DictWriter(f, report.keys())\n",
    "    writer.writerow(report)"
   ]
  }
 ],
 "metadata": {
  "celltoolbar": "Tags",
  "kernelspec": {
   "display_name": "Python 3",
   "language": "python",
   "name": "python3"
  },
  "language_info": {
   "codemirror_mode": {
    "name": "ipython",
    "version": 3
   },
   "file_extension": ".py",
   "mimetype": "text/x-python",
   "name": "python",
   "nbconvert_exporter": "python",
   "pygments_lexer": "ipython3",
   "version": "3.9.1"
  },
  "papermill": {
   "default_parameters": {},
   "duration": 6.047516,
   "end_time": "2021-04-04T23:28:13.578901",
   "environment_variables": {},
   "exception": null,
   "input_path": "main.ipynb",
   "output_path": "runs/dataset_000137-model_000002.ipynb",
   "parameters": {
    "DATASET_CONFIG_PATH": "config/dataset/000137.json",
    "MODEL_CONFIG_PATH": "config/model/000002.json",
    "PROFILE_REPORTING": false
   },
   "start_time": "2021-04-04T23:28:07.531385",
   "version": "2.3.3"
  }
 },
 "nbformat": 4,
 "nbformat_minor": 5
}