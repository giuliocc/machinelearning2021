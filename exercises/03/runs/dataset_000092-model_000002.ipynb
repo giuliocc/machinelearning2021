{
 "cells": [
  {
   "cell_type": "markdown",
   "id": "51c71c25",
   "metadata": {
    "papermill": {
     "duration": 0.021828,
     "end_time": "2021-04-04T23:09:41.972974",
     "exception": false,
     "start_time": "2021-04-04T23:09:41.951146",
     "status": "completed"
    },
    "tags": []
   },
   "source": [
    "# Parametrizing"
   ]
  },
  {
   "cell_type": "code",
   "execution_count": 1,
   "id": "3b136394",
   "metadata": {
    "execution": {
     "iopub.execute_input": "2021-04-04T23:09:42.023060Z",
     "iopub.status.busy": "2021-04-04T23:09:42.022065Z",
     "iopub.status.idle": "2021-04-04T23:09:42.025073Z",
     "shell.execute_reply": "2021-04-04T23:09:42.024375Z"
    },
    "papermill": {
     "duration": 0.032305,
     "end_time": "2021-04-04T23:09:42.025210",
     "exception": false,
     "start_time": "2021-04-04T23:09:41.992905",
     "status": "completed"
    },
    "tags": [
     "parameters"
    ]
   },
   "outputs": [],
   "source": [
    "DATASET_CONFIG_PATH = 'config/dataset/kc1_001.json'\n",
    "MODEL_CONFIG_PATH = 'config/model/knndd_001.json'\n",
    "PROFILE_REPORTING = False"
   ]
  },
  {
   "cell_type": "code",
   "execution_count": 2,
   "id": "80957e87",
   "metadata": {
    "execution": {
     "iopub.execute_input": "2021-04-04T23:09:42.074338Z",
     "iopub.status.busy": "2021-04-04T23:09:42.073101Z",
     "iopub.status.idle": "2021-04-04T23:09:42.076762Z",
     "shell.execute_reply": "2021-04-04T23:09:42.075907Z"
    },
    "papermill": {
     "duration": 0.027663,
     "end_time": "2021-04-04T23:09:42.077019",
     "exception": false,
     "start_time": "2021-04-04T23:09:42.049356",
     "status": "completed"
    },
    "tags": [
     "injected-parameters"
    ]
   },
   "outputs": [],
   "source": [
    "# Parameters\n",
    "DATASET_CONFIG_PATH = \"config/dataset/000092.json\"\n",
    "MODEL_CONFIG_PATH = \"config/model/000002.json\"\n",
    "PROFILE_REPORTING = False\n"
   ]
  },
  {
   "cell_type": "code",
   "execution_count": 3,
   "id": "b80f2a10",
   "metadata": {
    "execution": {
     "iopub.execute_input": "2021-04-04T23:09:42.127788Z",
     "iopub.status.busy": "2021-04-04T23:09:42.126943Z",
     "iopub.status.idle": "2021-04-04T23:09:42.129805Z",
     "shell.execute_reply": "2021-04-04T23:09:42.129329Z"
    },
    "papermill": {
     "duration": 0.02789,
     "end_time": "2021-04-04T23:09:42.129927",
     "exception": false,
     "start_time": "2021-04-04T23:09:42.102037",
     "status": "completed"
    },
    "tags": []
   },
   "outputs": [],
   "source": [
    "import json\n",
    "\n",
    "\n",
    "with open(DATASET_CONFIG_PATH) as f:\n",
    "    dataset_config = json.load(f)\n",
    "\n",
    "with open(MODEL_CONFIG_PATH) as f:\n",
    "    model_config = json.load(f)"
   ]
  },
  {
   "cell_type": "markdown",
   "id": "9a4b0e2d",
   "metadata": {
    "papermill": {
     "duration": 0.019301,
     "end_time": "2021-04-04T23:09:42.170396",
     "exception": false,
     "start_time": "2021-04-04T23:09:42.151095",
     "status": "completed"
    },
    "tags": []
   },
   "source": [
    "# Profiling"
   ]
  },
  {
   "cell_type": "code",
   "execution_count": 4,
   "id": "a3e0289b",
   "metadata": {
    "execution": {
     "iopub.execute_input": "2021-04-04T23:09:42.214730Z",
     "iopub.status.busy": "2021-04-04T23:09:42.213756Z",
     "iopub.status.idle": "2021-04-04T23:09:43.495414Z",
     "shell.execute_reply": "2021-04-04T23:09:43.494806Z"
    },
    "papermill": {
     "duration": 1.305651,
     "end_time": "2021-04-04T23:09:43.495534",
     "exception": false,
     "start_time": "2021-04-04T23:09:42.189883",
     "status": "completed"
    },
    "tags": []
   },
   "outputs": [],
   "source": [
    "import pandas as pd\n",
    "from pandas_profiling import ProfileReport"
   ]
  },
  {
   "cell_type": "code",
   "execution_count": 5,
   "id": "ee6c0666",
   "metadata": {
    "execution": {
     "iopub.execute_input": "2021-04-04T23:09:43.541244Z",
     "iopub.status.busy": "2021-04-04T23:09:43.540547Z",
     "iopub.status.idle": "2021-04-04T23:09:43.551654Z",
     "shell.execute_reply": "2021-04-04T23:09:43.552352Z"
    },
    "papermill": {
     "duration": 0.036692,
     "end_time": "2021-04-04T23:09:43.552552",
     "exception": false,
     "start_time": "2021-04-04T23:09:43.515860",
     "status": "completed"
    },
    "tags": []
   },
   "outputs": [],
   "source": [
    "df = pd.read_csv(dataset_config['dataset_path'])"
   ]
  },
  {
   "cell_type": "code",
   "execution_count": 6,
   "id": "7eca6c4a",
   "metadata": {
    "execution": {
     "iopub.execute_input": "2021-04-04T23:09:43.614353Z",
     "iopub.status.busy": "2021-04-04T23:09:43.604189Z",
     "iopub.status.idle": "2021-04-04T23:09:43.617591Z",
     "shell.execute_reply": "2021-04-04T23:09:43.618396Z"
    },
    "papermill": {
     "duration": 0.039661,
     "end_time": "2021-04-04T23:09:43.618622",
     "exception": false,
     "start_time": "2021-04-04T23:09:43.578961",
     "status": "completed"
    },
    "tags": []
   },
   "outputs": [
    {
     "name": "stdout",
     "output_type": "stream",
     "text": [
      "<class 'pandas.core.frame.DataFrame'>\n",
      "RangeIndex: 498 entries, 0 to 497\n",
      "Data columns (total 23 columns):\n",
      " #   Column             Non-Null Count  Dtype  \n",
      "---  ------             --------------  -----  \n",
      " 0   id                 498 non-null    int64  \n",
      " 1   loc                498 non-null    float64\n",
      " 2   v(g)               498 non-null    float64\n",
      " 3   ev(g)              498 non-null    float64\n",
      " 4   iv(g)              498 non-null    float64\n",
      " 5   n                  498 non-null    float64\n",
      " 6   v                  498 non-null    float64\n",
      " 7   l                  498 non-null    float64\n",
      " 8   d                  498 non-null    float64\n",
      " 9   i                  498 non-null    float64\n",
      " 10  e                  498 non-null    float64\n",
      " 11  b                  498 non-null    float64\n",
      " 12  t                  498 non-null    float64\n",
      " 13  lOCode             498 non-null    int64  \n",
      " 14  lOComment          498 non-null    int64  \n",
      " 15  lOBlank            498 non-null    int64  \n",
      " 16  locCodeAndComment  498 non-null    int64  \n",
      " 17  uniq_Op            498 non-null    float64\n",
      " 18  uniq_Opnd          498 non-null    float64\n",
      " 19  total_Op           498 non-null    float64\n",
      " 20  total_Opnd         498 non-null    float64\n",
      " 21  branchCount        498 non-null    float64\n",
      " 22  defects            498 non-null    bool   \n",
      "dtypes: bool(1), float64(17), int64(5)\n",
      "memory usage: 86.2 KB\n"
     ]
    }
   ],
   "source": [
    "df.info()"
   ]
  },
  {
   "cell_type": "code",
   "execution_count": 7,
   "id": "3638e5e8",
   "metadata": {
    "execution": {
     "iopub.execute_input": "2021-04-04T23:09:43.672577Z",
     "iopub.status.busy": "2021-04-04T23:09:43.671696Z",
     "iopub.status.idle": "2021-04-04T23:09:43.698489Z",
     "shell.execute_reply": "2021-04-04T23:09:43.698962Z"
    },
    "papermill": {
     "duration": 0.056455,
     "end_time": "2021-04-04T23:09:43.699104",
     "exception": false,
     "start_time": "2021-04-04T23:09:43.642649",
     "status": "completed"
    },
    "tags": []
   },
   "outputs": [
    {
     "data": {
      "text/html": [
       "<div>\n",
       "<style scoped>\n",
       "    .dataframe tbody tr th:only-of-type {\n",
       "        vertical-align: middle;\n",
       "    }\n",
       "\n",
       "    .dataframe tbody tr th {\n",
       "        vertical-align: top;\n",
       "    }\n",
       "\n",
       "    .dataframe thead th {\n",
       "        text-align: right;\n",
       "    }\n",
       "</style>\n",
       "<table border=\"1\" class=\"dataframe\">\n",
       "  <thead>\n",
       "    <tr style=\"text-align: right;\">\n",
       "      <th></th>\n",
       "      <th>id</th>\n",
       "      <th>loc</th>\n",
       "      <th>v(g)</th>\n",
       "      <th>ev(g)</th>\n",
       "      <th>iv(g)</th>\n",
       "      <th>n</th>\n",
       "      <th>v</th>\n",
       "      <th>l</th>\n",
       "      <th>d</th>\n",
       "      <th>i</th>\n",
       "      <th>...</th>\n",
       "      <th>lOCode</th>\n",
       "      <th>lOComment</th>\n",
       "      <th>lOBlank</th>\n",
       "      <th>locCodeAndComment</th>\n",
       "      <th>uniq_Op</th>\n",
       "      <th>uniq_Opnd</th>\n",
       "      <th>total_Op</th>\n",
       "      <th>total_Opnd</th>\n",
       "      <th>branchCount</th>\n",
       "      <th>defects</th>\n",
       "    </tr>\n",
       "  </thead>\n",
       "  <tbody>\n",
       "    <tr>\n",
       "      <th>0</th>\n",
       "      <td>1</td>\n",
       "      <td>1.1</td>\n",
       "      <td>1.4</td>\n",
       "      <td>1.4</td>\n",
       "      <td>1.4</td>\n",
       "      <td>1.3</td>\n",
       "      <td>1.30</td>\n",
       "      <td>1.30</td>\n",
       "      <td>1.30</td>\n",
       "      <td>1.30</td>\n",
       "      <td>...</td>\n",
       "      <td>2</td>\n",
       "      <td>2</td>\n",
       "      <td>2</td>\n",
       "      <td>2</td>\n",
       "      <td>1.2</td>\n",
       "      <td>1.2</td>\n",
       "      <td>1.2</td>\n",
       "      <td>1.2</td>\n",
       "      <td>1.4</td>\n",
       "      <td>False</td>\n",
       "    </tr>\n",
       "    <tr>\n",
       "      <th>1</th>\n",
       "      <td>2</td>\n",
       "      <td>1.0</td>\n",
       "      <td>1.0</td>\n",
       "      <td>1.0</td>\n",
       "      <td>1.0</td>\n",
       "      <td>1.0</td>\n",
       "      <td>1.00</td>\n",
       "      <td>1.00</td>\n",
       "      <td>1.00</td>\n",
       "      <td>1.00</td>\n",
       "      <td>...</td>\n",
       "      <td>1</td>\n",
       "      <td>1</td>\n",
       "      <td>1</td>\n",
       "      <td>1</td>\n",
       "      <td>1.0</td>\n",
       "      <td>1.0</td>\n",
       "      <td>1.0</td>\n",
       "      <td>1.0</td>\n",
       "      <td>1.0</td>\n",
       "      <td>True</td>\n",
       "    </tr>\n",
       "    <tr>\n",
       "      <th>2</th>\n",
       "      <td>3</td>\n",
       "      <td>24.0</td>\n",
       "      <td>5.0</td>\n",
       "      <td>1.0</td>\n",
       "      <td>3.0</td>\n",
       "      <td>63.0</td>\n",
       "      <td>309.13</td>\n",
       "      <td>0.11</td>\n",
       "      <td>9.50</td>\n",
       "      <td>32.54</td>\n",
       "      <td>...</td>\n",
       "      <td>1</td>\n",
       "      <td>0</td>\n",
       "      <td>6</td>\n",
       "      <td>0</td>\n",
       "      <td>15.0</td>\n",
       "      <td>15.0</td>\n",
       "      <td>44.0</td>\n",
       "      <td>19.0</td>\n",
       "      <td>9.0</td>\n",
       "      <td>False</td>\n",
       "    </tr>\n",
       "    <tr>\n",
       "      <th>3</th>\n",
       "      <td>4</td>\n",
       "      <td>20.0</td>\n",
       "      <td>4.0</td>\n",
       "      <td>4.0</td>\n",
       "      <td>2.0</td>\n",
       "      <td>47.0</td>\n",
       "      <td>215.49</td>\n",
       "      <td>0.06</td>\n",
       "      <td>16.00</td>\n",
       "      <td>13.47</td>\n",
       "      <td>...</td>\n",
       "      <td>0</td>\n",
       "      <td>0</td>\n",
       "      <td>3</td>\n",
       "      <td>0</td>\n",
       "      <td>16.0</td>\n",
       "      <td>8.0</td>\n",
       "      <td>31.0</td>\n",
       "      <td>16.0</td>\n",
       "      <td>7.0</td>\n",
       "      <td>False</td>\n",
       "    </tr>\n",
       "    <tr>\n",
       "      <th>4</th>\n",
       "      <td>5</td>\n",
       "      <td>24.0</td>\n",
       "      <td>6.0</td>\n",
       "      <td>6.0</td>\n",
       "      <td>2.0</td>\n",
       "      <td>72.0</td>\n",
       "      <td>346.13</td>\n",
       "      <td>0.06</td>\n",
       "      <td>17.33</td>\n",
       "      <td>19.97</td>\n",
       "      <td>...</td>\n",
       "      <td>0</td>\n",
       "      <td>0</td>\n",
       "      <td>3</td>\n",
       "      <td>0</td>\n",
       "      <td>16.0</td>\n",
       "      <td>12.0</td>\n",
       "      <td>46.0</td>\n",
       "      <td>26.0</td>\n",
       "      <td>11.0</td>\n",
       "      <td>False</td>\n",
       "    </tr>\n",
       "  </tbody>\n",
       "</table>\n",
       "<p>5 rows × 23 columns</p>\n",
       "</div>"
      ],
      "text/plain": [
       "   id   loc  v(g)  ev(g)  iv(g)     n       v     l      d      i  ...  \\\n",
       "0   1   1.1   1.4    1.4    1.4   1.3    1.30  1.30   1.30   1.30  ...   \n",
       "1   2   1.0   1.0    1.0    1.0   1.0    1.00  1.00   1.00   1.00  ...   \n",
       "2   3  24.0   5.0    1.0    3.0  63.0  309.13  0.11   9.50  32.54  ...   \n",
       "3   4  20.0   4.0    4.0    2.0  47.0  215.49  0.06  16.00  13.47  ...   \n",
       "4   5  24.0   6.0    6.0    2.0  72.0  346.13  0.06  17.33  19.97  ...   \n",
       "\n",
       "   lOCode  lOComment  lOBlank  locCodeAndComment  uniq_Op  uniq_Opnd  \\\n",
       "0       2          2        2                  2      1.2        1.2   \n",
       "1       1          1        1                  1      1.0        1.0   \n",
       "2       1          0        6                  0     15.0       15.0   \n",
       "3       0          0        3                  0     16.0        8.0   \n",
       "4       0          0        3                  0     16.0       12.0   \n",
       "\n",
       "   total_Op  total_Opnd  branchCount  defects  \n",
       "0       1.2         1.2          1.4    False  \n",
       "1       1.0         1.0          1.0     True  \n",
       "2      44.0        19.0          9.0    False  \n",
       "3      31.0        16.0          7.0    False  \n",
       "4      46.0        26.0         11.0    False  \n",
       "\n",
       "[5 rows x 23 columns]"
      ]
     },
     "execution_count": 7,
     "metadata": {},
     "output_type": "execute_result"
    }
   ],
   "source": [
    "df.head()"
   ]
  },
  {
   "cell_type": "code",
   "execution_count": 8,
   "id": "733e95eb",
   "metadata": {
    "execution": {
     "iopub.execute_input": "2021-04-04T23:09:43.751694Z",
     "iopub.status.busy": "2021-04-04T23:09:43.749568Z",
     "iopub.status.idle": "2021-04-04T23:09:43.754503Z",
     "shell.execute_reply": "2021-04-04T23:09:43.755034Z"
    },
    "papermill": {
     "duration": 0.034917,
     "end_time": "2021-04-04T23:09:43.755212",
     "exception": false,
     "start_time": "2021-04-04T23:09:43.720295",
     "status": "completed"
    },
    "tags": []
   },
   "outputs": [],
   "source": [
    "del df['id']"
   ]
  },
  {
   "cell_type": "code",
   "execution_count": 9,
   "id": "6ff6f5b0",
   "metadata": {
    "execution": {
     "iopub.execute_input": "2021-04-04T23:09:43.803671Z",
     "iopub.status.busy": "2021-04-04T23:09:43.802472Z",
     "iopub.status.idle": "2021-04-04T23:09:43.804854Z",
     "shell.execute_reply": "2021-04-04T23:09:43.805907Z"
    },
    "papermill": {
     "duration": 0.028612,
     "end_time": "2021-04-04T23:09:43.806257",
     "exception": false,
     "start_time": "2021-04-04T23:09:43.777645",
     "status": "completed"
    },
    "tags": []
   },
   "outputs": [],
   "source": [
    "if PROFILE_REPORTING:\n",
    "    ProfileReport(df).to_widgets()"
   ]
  },
  {
   "cell_type": "markdown",
   "id": "1deaf3f0",
   "metadata": {
    "papermill": {
     "duration": 0.020894,
     "end_time": "2021-04-04T23:09:43.852107",
     "exception": false,
     "start_time": "2021-04-04T23:09:43.831213",
     "status": "completed"
    },
    "tags": []
   },
   "source": [
    "# Preprocess"
   ]
  },
  {
   "cell_type": "code",
   "execution_count": 10,
   "id": "1513e563",
   "metadata": {
    "execution": {
     "iopub.execute_input": "2021-04-04T23:09:43.899909Z",
     "iopub.status.busy": "2021-04-04T23:09:43.899267Z",
     "iopub.status.idle": "2021-04-04T23:09:43.901724Z",
     "shell.execute_reply": "2021-04-04T23:09:43.902215Z"
    },
    "papermill": {
     "duration": 0.029056,
     "end_time": "2021-04-04T23:09:43.902360",
     "exception": false,
     "start_time": "2021-04-04T23:09:43.873304",
     "status": "completed"
    },
    "tags": []
   },
   "outputs": [],
   "source": [
    "working_df = df.copy()"
   ]
  },
  {
   "cell_type": "code",
   "execution_count": 11,
   "id": "3b26d675",
   "metadata": {
    "execution": {
     "iopub.execute_input": "2021-04-04T23:09:43.953971Z",
     "iopub.status.busy": "2021-04-04T23:09:43.953314Z",
     "iopub.status.idle": "2021-04-04T23:09:43.955650Z",
     "shell.execute_reply": "2021-04-04T23:09:43.956145Z"
    },
    "papermill": {
     "duration": 0.031668,
     "end_time": "2021-04-04T23:09:43.956295",
     "exception": false,
     "start_time": "2021-04-04T23:09:43.924627",
     "status": "completed"
    },
    "tags": []
   },
   "outputs": [],
   "source": [
    "working_df['defects'] = working_df['defects'].replace([False, True], [0, 1])"
   ]
  },
  {
   "cell_type": "code",
   "execution_count": 12,
   "id": "eb48604f",
   "metadata": {
    "execution": {
     "iopub.execute_input": "2021-04-04T23:09:44.012004Z",
     "iopub.status.busy": "2021-04-04T23:09:44.011024Z",
     "iopub.status.idle": "2021-04-04T23:09:44.013641Z",
     "shell.execute_reply": "2021-04-04T23:09:44.014390Z"
    },
    "papermill": {
     "duration": 0.02958,
     "end_time": "2021-04-04T23:09:44.014602",
     "exception": false,
     "start_time": "2021-04-04T23:09:43.985022",
     "status": "completed"
    },
    "tags": []
   },
   "outputs": [],
   "source": [
    "for col in dataset_config['delete_columns']:\n",
    "    del working_df[col]"
   ]
  },
  {
   "cell_type": "code",
   "execution_count": 13,
   "id": "9a17bc29",
   "metadata": {
    "execution": {
     "iopub.execute_input": "2021-04-04T23:09:44.071127Z",
     "iopub.status.busy": "2021-04-04T23:09:44.070090Z",
     "iopub.status.idle": "2021-04-04T23:09:44.080163Z",
     "shell.execute_reply": "2021-04-04T23:09:44.080887Z"
    },
    "papermill": {
     "duration": 0.040151,
     "end_time": "2021-04-04T23:09:44.081108",
     "exception": false,
     "start_time": "2021-04-04T23:09:44.040957",
     "status": "completed"
    },
    "tags": []
   },
   "outputs": [],
   "source": [
    "working_df = working_df.drop_duplicates()"
   ]
  },
  {
   "cell_type": "markdown",
   "id": "a4d52ca6",
   "metadata": {
    "papermill": {
     "duration": 0.022597,
     "end_time": "2021-04-04T23:09:44.128240",
     "exception": false,
     "start_time": "2021-04-04T23:09:44.105643",
     "status": "completed"
    },
    "tags": []
   },
   "source": [
    "# Split"
   ]
  },
  {
   "cell_type": "code",
   "execution_count": 14,
   "id": "3e9ee4b5",
   "metadata": {
    "execution": {
     "iopub.execute_input": "2021-04-04T23:09:44.177579Z",
     "iopub.status.busy": "2021-04-04T23:09:44.176888Z",
     "iopub.status.idle": "2021-04-04T23:09:44.210442Z",
     "shell.execute_reply": "2021-04-04T23:09:44.211469Z"
    },
    "papermill": {
     "duration": 0.061289,
     "end_time": "2021-04-04T23:09:44.211790",
     "exception": false,
     "start_time": "2021-04-04T23:09:44.150501",
     "status": "completed"
    },
    "tags": []
   },
   "outputs": [],
   "source": [
    "from sklearn.model_selection import train_test_split"
   ]
  },
  {
   "cell_type": "code",
   "execution_count": 15,
   "id": "274004ce",
   "metadata": {
    "execution": {
     "iopub.execute_input": "2021-04-04T23:09:44.264767Z",
     "iopub.status.busy": "2021-04-04T23:09:44.263500Z",
     "iopub.status.idle": "2021-04-04T23:09:44.271022Z",
     "shell.execute_reply": "2021-04-04T23:09:44.270009Z"
    },
    "papermill": {
     "duration": 0.035264,
     "end_time": "2021-04-04T23:09:44.271215",
     "exception": false,
     "start_time": "2021-04-04T23:09:44.235951",
     "status": "completed"
    },
    "scrolled": true,
    "tags": []
   },
   "outputs": [],
   "source": [
    "inlier, outlier = working_df[working_df['defects'] == 0], working_df[working_df['defects'] == 1]"
   ]
  },
  {
   "cell_type": "code",
   "execution_count": 16,
   "id": "753c7b03",
   "metadata": {
    "execution": {
     "iopub.execute_input": "2021-04-04T23:09:44.330802Z",
     "iopub.status.busy": "2021-04-04T23:09:44.328035Z",
     "iopub.status.idle": "2021-04-04T23:09:44.334857Z",
     "shell.execute_reply": "2021-04-04T23:09:44.333922Z"
    },
    "papermill": {
     "duration": 0.034626,
     "end_time": "2021-04-04T23:09:44.335061",
     "exception": false,
     "start_time": "2021-04-04T23:09:44.300435",
     "status": "completed"
    },
    "tags": []
   },
   "outputs": [],
   "source": [
    "X_inlier = inlier.copy()\n",
    "y_inlier = X_inlier.pop('defects')\n",
    "X_outlier = outlier.copy()\n",
    "y_outlier = X_outlier.pop('defects')"
   ]
  },
  {
   "cell_type": "code",
   "execution_count": 17,
   "id": "2ba43193",
   "metadata": {
    "execution": {
     "iopub.execute_input": "2021-04-04T23:09:44.395778Z",
     "iopub.status.busy": "2021-04-04T23:09:44.395198Z",
     "iopub.status.idle": "2021-04-04T23:09:44.398236Z",
     "shell.execute_reply": "2021-04-04T23:09:44.399086Z"
    },
    "papermill": {
     "duration": 0.034125,
     "end_time": "2021-04-04T23:09:44.399338",
     "exception": false,
     "start_time": "2021-04-04T23:09:44.365213",
     "status": "completed"
    },
    "tags": []
   },
   "outputs": [],
   "source": [
    "test_size = dataset_config['test_size']\n",
    "random_state = dataset_config['random_state']\n",
    "\n",
    "X_inlier_train, X_inlier_test, y_inlier_train, y_inlier_test = train_test_split(\n",
    "    X_inlier,\n",
    "    y_inlier,\n",
    "    test_size=test_size,\n",
    "    random_state=random_state\n",
    ")"
   ]
  },
  {
   "cell_type": "code",
   "execution_count": 18,
   "id": "0b7582ca",
   "metadata": {
    "execution": {
     "iopub.execute_input": "2021-04-04T23:09:44.457861Z",
     "iopub.status.busy": "2021-04-04T23:09:44.456686Z",
     "iopub.status.idle": "2021-04-04T23:09:44.459422Z",
     "shell.execute_reply": "2021-04-04T23:09:44.460230Z"
    },
    "papermill": {
     "duration": 0.035103,
     "end_time": "2021-04-04T23:09:44.460458",
     "exception": false,
     "start_time": "2021-04-04T23:09:44.425355",
     "status": "completed"
    },
    "tags": []
   },
   "outputs": [],
   "source": [
    "test_outlier_size = dataset_config['test_outlier_size']\n",
    "if test_outlier_size > 0.0:\n",
    "    X_outlier_train, X_outlier_test, y_outlier_train, y_outlier_test = train_test_split(\n",
    "        X_outlier,\n",
    "        y_outlier,\n",
    "        test_size=test_outlier_size,\n",
    "        random_state=random_state\n",
    "    )\n",
    "else:\n",
    "    X_outlier_train, y_outlier_train = pd.DataFrame(columns=X_outlier.columns), pd.Series(dtype='int64')\n",
    "    X_outlier_test, y_outlier_test = X_outlier.copy(), y_outlier.copy()"
   ]
  },
  {
   "cell_type": "code",
   "execution_count": 19,
   "id": "c34363db",
   "metadata": {
    "execution": {
     "iopub.execute_input": "2021-04-04T23:09:44.527210Z",
     "iopub.status.busy": "2021-04-04T23:09:44.525731Z",
     "iopub.status.idle": "2021-04-04T23:09:44.528721Z",
     "shell.execute_reply": "2021-04-04T23:09:44.528245Z"
    },
    "papermill": {
     "duration": 0.039056,
     "end_time": "2021-04-04T23:09:44.528844",
     "exception": false,
     "start_time": "2021-04-04T23:09:44.489788",
     "status": "completed"
    },
    "tags": []
   },
   "outputs": [],
   "source": [
    "X_train, y_train = pd.concat([X_inlier_train, X_outlier_train], ignore_index=True), pd.concat([y_inlier_train, y_outlier_train], ignore_index=True)\n",
    "X_test, y_test = pd.concat([X_inlier_test, X_outlier_test], ignore_index=True), pd.concat([y_inlier_test, y_outlier_test], ignore_index=True)"
   ]
  },
  {
   "cell_type": "markdown",
   "id": "7cde7309",
   "metadata": {
    "papermill": {
     "duration": 0.022334,
     "end_time": "2021-04-04T23:09:44.574779",
     "exception": false,
     "start_time": "2021-04-04T23:09:44.552445",
     "status": "completed"
    },
    "tags": []
   },
   "source": [
    "# Model"
   ]
  },
  {
   "cell_type": "code",
   "execution_count": 20,
   "id": "2b12a415",
   "metadata": {
    "execution": {
     "iopub.execute_input": "2021-04-04T23:09:44.631949Z",
     "iopub.status.busy": "2021-04-04T23:09:44.630852Z",
     "iopub.status.idle": "2021-04-04T23:09:44.634282Z",
     "shell.execute_reply": "2021-04-04T23:09:44.633304Z"
    },
    "papermill": {
     "duration": 0.037709,
     "end_time": "2021-04-04T23:09:44.634471",
     "exception": false,
     "start_time": "2021-04-04T23:09:44.596762",
     "status": "completed"
    },
    "tags": []
   },
   "outputs": [],
   "source": [
    "from math import sqrt\n",
    "\n",
    "\n",
    "class KNNDataDescription:\n",
    "    def __init__(self, k=5, outlier_threshold=1.0):\n",
    "        self.k = k\n",
    "        self.outlier_threshold = outlier_threshold\n",
    "        self.X = []\n",
    "    \n",
    "    def fit(self, X):\n",
    "        self.X = [features.to_list() for index, features in X.iterrows()]\n",
    "\n",
    "    def predict(self, entries):\n",
    "        return [self.predict_entry(features.to_list()) for index, features in entries.iterrows()]\n",
    "    \n",
    "    def predict_entry(self, entry):\n",
    "        kth_neighbor, kth_distance = self.get_kth_neighbor(entry, self.k)\n",
    "        kth_kth_neighbor, kth_kth_distance = self.get_kth_neighbor(kth_neighbor, self.k + 1)\n",
    "\n",
    "        outlier_score = kth_distance / (kth_kth_distance + 0.000001)\n",
    "\n",
    "        return 1 if outlier_score < self.outlier_threshold else -1\n",
    "        \n",
    "    def euclidean_distance(self, features1, features2):\n",
    "        distance = 0.0\n",
    "        for feat1, feat2 in zip(features1, features2):\n",
    "            distance += (feat1 - feat2)**2\n",
    "                \n",
    "        return sqrt(distance)\n",
    "\n",
    "    def get_neighbors(self, entry, k):\n",
    "        distance_to_data_points = [\n",
    "            (data_point, self.euclidean_distance(entry, data_point))\n",
    "            for data_point in self.X\n",
    "        ]\n",
    "        sorted_by_distance = sorted(distance_to_data_points, key=lambda tup: tup[1])\n",
    "        neighbors = sorted_by_distance[:k]\n",
    "        return neighbors\n",
    "\n",
    "    def get_kth_neighbor(self, entry, k):\n",
    "        neighbors = self.get_neighbors(entry, k)\n",
    "        return neighbors[-1]\n"
   ]
  },
  {
   "cell_type": "code",
   "execution_count": 21,
   "id": "1fa9ec1c",
   "metadata": {
    "execution": {
     "iopub.execute_input": "2021-04-04T23:09:44.689499Z",
     "iopub.status.busy": "2021-04-04T23:09:44.688400Z",
     "iopub.status.idle": "2021-04-04T23:09:44.713843Z",
     "shell.execute_reply": "2021-04-04T23:09:44.712559Z"
    },
    "papermill": {
     "duration": 0.053093,
     "end_time": "2021-04-04T23:09:44.714080",
     "exception": false,
     "start_time": "2021-04-04T23:09:44.660987",
     "status": "completed"
    },
    "tags": []
   },
   "outputs": [],
   "source": [
    "from sklearn.svm import OneClassSVM\n",
    "\n",
    "\n",
    "models = {\n",
    "    'oneclasssvm': OneClassSVM,\n",
    "    'knndatadescription': KNNDataDescription,\n",
    "}"
   ]
  },
  {
   "cell_type": "code",
   "execution_count": 22,
   "id": "4d72a0b1",
   "metadata": {
    "execution": {
     "iopub.execute_input": "2021-04-04T23:09:44.781518Z",
     "iopub.status.busy": "2021-04-04T23:09:44.780733Z",
     "iopub.status.idle": "2021-04-04T23:09:44.782949Z",
     "shell.execute_reply": "2021-04-04T23:09:44.783418Z"
    },
    "papermill": {
     "duration": 0.031786,
     "end_time": "2021-04-04T23:09:44.783560",
     "exception": false,
     "start_time": "2021-04-04T23:09:44.751774",
     "status": "completed"
    },
    "scrolled": true,
    "tags": []
   },
   "outputs": [],
   "source": [
    "model_cls = models[model_config['model_type']]\n",
    "model = model_cls(**model_config['hyperparameters'])"
   ]
  },
  {
   "cell_type": "markdown",
   "id": "e00cff3b",
   "metadata": {
    "papermill": {
     "duration": 0.022736,
     "end_time": "2021-04-04T23:09:44.831989",
     "exception": false,
     "start_time": "2021-04-04T23:09:44.809253",
     "status": "completed"
    },
    "tags": []
   },
   "source": [
    "# Fit"
   ]
  },
  {
   "cell_type": "code",
   "execution_count": 23,
   "id": "8b2ded89",
   "metadata": {
    "execution": {
     "iopub.execute_input": "2021-04-04T23:09:44.882572Z",
     "iopub.status.busy": "2021-04-04T23:09:44.881580Z",
     "iopub.status.idle": "2021-04-04T23:09:44.903522Z",
     "shell.execute_reply": "2021-04-04T23:09:44.902587Z"
    },
    "papermill": {
     "duration": 0.049237,
     "end_time": "2021-04-04T23:09:44.903704",
     "exception": false,
     "start_time": "2021-04-04T23:09:44.854467",
     "status": "completed"
    },
    "tags": []
   },
   "outputs": [],
   "source": [
    "model.fit(X_train)"
   ]
  },
  {
   "cell_type": "markdown",
   "id": "f99999f7",
   "metadata": {
    "papermill": {
     "duration": 0.022472,
     "end_time": "2021-04-04T23:09:44.955171",
     "exception": false,
     "start_time": "2021-04-04T23:09:44.932699",
     "status": "completed"
    },
    "tags": []
   },
   "source": [
    "# Predict"
   ]
  },
  {
   "cell_type": "code",
   "execution_count": 24,
   "id": "6536fbf7",
   "metadata": {
    "execution": {
     "iopub.execute_input": "2021-04-04T23:09:45.041594Z",
     "iopub.status.busy": "2021-04-04T23:09:45.005988Z",
     "iopub.status.idle": "2021-04-04T23:09:45.345739Z",
     "shell.execute_reply": "2021-04-04T23:09:45.346607Z"
    },
    "papermill": {
     "duration": 0.368999,
     "end_time": "2021-04-04T23:09:45.346876",
     "exception": false,
     "start_time": "2021-04-04T23:09:44.977877",
     "status": "completed"
    },
    "tags": []
   },
   "outputs": [],
   "source": [
    "predictions = model.predict(X_test)"
   ]
  },
  {
   "cell_type": "markdown",
   "id": "aa1c9881",
   "metadata": {
    "papermill": {
     "duration": 0.022976,
     "end_time": "2021-04-04T23:09:45.397660",
     "exception": false,
     "start_time": "2021-04-04T23:09:45.374684",
     "status": "completed"
    },
    "tags": []
   },
   "source": [
    "# Evaluate"
   ]
  },
  {
   "cell_type": "code",
   "execution_count": 25,
   "id": "894f0f04",
   "metadata": {
    "execution": {
     "iopub.execute_input": "2021-04-04T23:09:45.449910Z",
     "iopub.status.busy": "2021-04-04T23:09:45.448879Z",
     "iopub.status.idle": "2021-04-04T23:09:45.451100Z",
     "shell.execute_reply": "2021-04-04T23:09:45.451583Z"
    },
    "papermill": {
     "duration": 0.030215,
     "end_time": "2021-04-04T23:09:45.451728",
     "exception": false,
     "start_time": "2021-04-04T23:09:45.421513",
     "status": "completed"
    },
    "tags": []
   },
   "outputs": [],
   "source": [
    "from sklearn.metrics import f1_score"
   ]
  },
  {
   "cell_type": "code",
   "execution_count": 26,
   "id": "211744d3",
   "metadata": {
    "execution": {
     "iopub.execute_input": "2021-04-04T23:09:45.505660Z",
     "iopub.status.busy": "2021-04-04T23:09:45.504754Z",
     "iopub.status.idle": "2021-04-04T23:09:45.507286Z",
     "shell.execute_reply": "2021-04-04T23:09:45.507915Z"
    },
    "papermill": {
     "duration": 0.031491,
     "end_time": "2021-04-04T23:09:45.508097",
     "exception": false,
     "start_time": "2021-04-04T23:09:45.476606",
     "status": "completed"
    },
    "tags": []
   },
   "outputs": [],
   "source": [
    "y_test = y_test.replace([0, 1], [1, -1])"
   ]
  },
  {
   "cell_type": "code",
   "execution_count": 27,
   "id": "d68a9204",
   "metadata": {
    "execution": {
     "iopub.execute_input": "2021-04-04T23:09:45.569824Z",
     "iopub.status.busy": "2021-04-04T23:09:45.568593Z",
     "iopub.status.idle": "2021-04-04T23:09:45.572480Z",
     "shell.execute_reply": "2021-04-04T23:09:45.571627Z"
    },
    "papermill": {
     "duration": 0.036617,
     "end_time": "2021-04-04T23:09:45.572649",
     "exception": false,
     "start_time": "2021-04-04T23:09:45.536032",
     "status": "completed"
    },
    "tags": []
   },
   "outputs": [],
   "source": [
    "def evaluate(truths, predictions, pos_label, neg_label):\n",
    "    TP = 0\n",
    "    FP = 0\n",
    "    TN = 0\n",
    "    FN = 0\n",
    "\n",
    "    for truth, pred in zip(truths, predictions): \n",
    "        if truth == pred == pos_label:\n",
    "           TP += 1\n",
    "        elif pred == pos_label and truth == neg_label:\n",
    "           FP += 1\n",
    "        elif truth == pred == neg_label:\n",
    "           TN += 1\n",
    "        elif pred == neg_label and truth == pos_label:\n",
    "           FN += 1\n",
    "\n",
    "    precision = TP / (TP + FP)\n",
    "    sensitivity = TP / (TP + FN)\n",
    "    \n",
    "    return {\n",
    "        'true_pos': TP,\n",
    "        'false_pos': FP,\n",
    "        'false_neg': FN,\n",
    "        'true_neg': TN,\n",
    "        'precision': precision,\n",
    "        'sensitivity': sensitivity,\n",
    "        'f1': (2 * (precision * sensitivity)) / (precision + sensitivity)\n",
    "    }\n",
    "\n",
    "score = evaluate(y_test, predictions, pos_label=-1, neg_label=1)"
   ]
  },
  {
   "cell_type": "markdown",
   "id": "93596516",
   "metadata": {
    "papermill": {
     "duration": 0.022673,
     "end_time": "2021-04-04T23:09:45.620361",
     "exception": false,
     "start_time": "2021-04-04T23:09:45.597688",
     "status": "completed"
    },
    "tags": []
   },
   "source": [
    "# Report"
   ]
  },
  {
   "cell_type": "code",
   "execution_count": 28,
   "id": "bea5fba1",
   "metadata": {
    "execution": {
     "iopub.execute_input": "2021-04-04T23:09:45.674209Z",
     "iopub.status.busy": "2021-04-04T23:09:45.673587Z",
     "iopub.status.idle": "2021-04-04T23:09:45.676180Z",
     "shell.execute_reply": "2021-04-04T23:09:45.676943Z"
    },
    "papermill": {
     "duration": 0.033924,
     "end_time": "2021-04-04T23:09:45.677172",
     "exception": false,
     "start_time": "2021-04-04T23:09:45.643248",
     "status": "completed"
    },
    "tags": []
   },
   "outputs": [],
   "source": [
    "import csv\n",
    "\n",
    "\n",
    "dataset_config_name = DATASET_CONFIG_PATH.split('/')[-1].split('.')[0]\n",
    "model_config_name = MODEL_CONFIG_PATH.split('/')[-1].split('.')[0]\n",
    "configuration = f\"dataset_{dataset_config_name}-model_{model_config_name}\"\n",
    "\n",
    "with open('results.csv', 'a') as f:\n",
    "    report = dict({'configuration': configuration}, **score)\n",
    "    writer = csv.DictWriter(f, report.keys())\n",
    "    writer.writerow(report)"
   ]
  }
 ],
 "metadata": {
  "celltoolbar": "Tags",
  "kernelspec": {
   "display_name": "Python 3",
   "language": "python",
   "name": "python3"
  },
  "language_info": {
   "codemirror_mode": {
    "name": "ipython",
    "version": 3
   },
   "file_extension": ".py",
   "mimetype": "text/x-python",
   "name": "python",
   "nbconvert_exporter": "python",
   "pygments_lexer": "ipython3",
   "version": "3.9.1"
  },
  "papermill": {
   "default_parameters": {},
   "duration": 6.044949,
   "end_time": "2021-04-04T23:09:47.130262",
   "environment_variables": {},
   "exception": null,
   "input_path": "main.ipynb",
   "output_path": "runs/dataset_000092-model_000002.ipynb",
   "parameters": {
    "DATASET_CONFIG_PATH": "config/dataset/000092.json",
    "MODEL_CONFIG_PATH": "config/model/000002.json",
    "PROFILE_REPORTING": false
   },
   "start_time": "2021-04-04T23:09:41.085313",
   "version": "2.3.3"
  }
 },
 "nbformat": 4,
 "nbformat_minor": 5
}