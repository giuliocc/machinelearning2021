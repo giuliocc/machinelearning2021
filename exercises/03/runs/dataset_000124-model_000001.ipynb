{
 "cells": [
  {
   "cell_type": "markdown",
   "id": "51c71c25",
   "metadata": {
    "papermill": {
     "duration": 0.024355,
     "end_time": "2021-04-04T23:22:08.326428",
     "exception": false,
     "start_time": "2021-04-04T23:22:08.302073",
     "status": "completed"
    },
    "tags": []
   },
   "source": [
    "# Parametrizing"
   ]
  },
  {
   "cell_type": "code",
   "execution_count": 1,
   "id": "3b136394",
   "metadata": {
    "execution": {
     "iopub.execute_input": "2021-04-04T23:22:08.400337Z",
     "iopub.status.busy": "2021-04-04T23:22:08.399146Z",
     "iopub.status.idle": "2021-04-04T23:22:08.405504Z",
     "shell.execute_reply": "2021-04-04T23:22:08.404509Z"
    },
    "papermill": {
     "duration": 0.051848,
     "end_time": "2021-04-04T23:22:08.405701",
     "exception": false,
     "start_time": "2021-04-04T23:22:08.353853",
     "status": "completed"
    },
    "tags": [
     "parameters"
    ]
   },
   "outputs": [],
   "source": [
    "DATASET_CONFIG_PATH = 'config/dataset/kc1_001.json'\n",
    "MODEL_CONFIG_PATH = 'config/model/knndd_001.json'\n",
    "PROFILE_REPORTING = False"
   ]
  },
  {
   "cell_type": "code",
   "execution_count": 2,
   "id": "8775bba6",
   "metadata": {
    "execution": {
     "iopub.execute_input": "2021-04-04T23:22:08.463796Z",
     "iopub.status.busy": "2021-04-04T23:22:08.462125Z",
     "iopub.status.idle": "2021-04-04T23:22:08.465189Z",
     "shell.execute_reply": "2021-04-04T23:22:08.465840Z"
    },
    "papermill": {
     "duration": 0.036044,
     "end_time": "2021-04-04T23:22:08.466020",
     "exception": false,
     "start_time": "2021-04-04T23:22:08.429976",
     "status": "completed"
    },
    "tags": [
     "injected-parameters"
    ]
   },
   "outputs": [],
   "source": [
    "# Parameters\n",
    "DATASET_CONFIG_PATH = \"config/dataset/000124.json\"\n",
    "MODEL_CONFIG_PATH = \"config/model/000001.json\"\n",
    "PROFILE_REPORTING = False\n"
   ]
  },
  {
   "cell_type": "code",
   "execution_count": 3,
   "id": "b80f2a10",
   "metadata": {
    "execution": {
     "iopub.execute_input": "2021-04-04T23:22:08.525553Z",
     "iopub.status.busy": "2021-04-04T23:22:08.524767Z",
     "iopub.status.idle": "2021-04-04T23:22:08.529201Z",
     "shell.execute_reply": "2021-04-04T23:22:08.529866Z"
    },
    "papermill": {
     "duration": 0.038622,
     "end_time": "2021-04-04T23:22:08.530087",
     "exception": false,
     "start_time": "2021-04-04T23:22:08.491465",
     "status": "completed"
    },
    "tags": []
   },
   "outputs": [],
   "source": [
    "import json\n",
    "\n",
    "\n",
    "with open(DATASET_CONFIG_PATH) as f:\n",
    "    dataset_config = json.load(f)\n",
    "\n",
    "with open(MODEL_CONFIG_PATH) as f:\n",
    "    model_config = json.load(f)"
   ]
  },
  {
   "cell_type": "markdown",
   "id": "9a4b0e2d",
   "metadata": {
    "papermill": {
     "duration": 0.023522,
     "end_time": "2021-04-04T23:22:08.576357",
     "exception": false,
     "start_time": "2021-04-04T23:22:08.552835",
     "status": "completed"
    },
    "tags": []
   },
   "source": [
    "# Profiling"
   ]
  },
  {
   "cell_type": "code",
   "execution_count": 4,
   "id": "a3e0289b",
   "metadata": {
    "execution": {
     "iopub.execute_input": "2021-04-04T23:22:08.661264Z",
     "iopub.status.busy": "2021-04-04T23:22:08.657735Z",
     "iopub.status.idle": "2021-04-04T23:22:10.521321Z",
     "shell.execute_reply": "2021-04-04T23:22:10.520531Z"
    },
    "papermill": {
     "duration": 1.920219,
     "end_time": "2021-04-04T23:22:10.521513",
     "exception": false,
     "start_time": "2021-04-04T23:22:08.601294",
     "status": "completed"
    },
    "tags": []
   },
   "outputs": [],
   "source": [
    "import pandas as pd\n",
    "from pandas_profiling import ProfileReport"
   ]
  },
  {
   "cell_type": "code",
   "execution_count": 5,
   "id": "ee6c0666",
   "metadata": {
    "execution": {
     "iopub.execute_input": "2021-04-04T23:22:10.572162Z",
     "iopub.status.busy": "2021-04-04T23:22:10.571475Z",
     "iopub.status.idle": "2021-04-04T23:22:10.584515Z",
     "shell.execute_reply": "2021-04-04T23:22:10.585105Z"
    },
    "papermill": {
     "duration": 0.04279,
     "end_time": "2021-04-04T23:22:10.585277",
     "exception": false,
     "start_time": "2021-04-04T23:22:10.542487",
     "status": "completed"
    },
    "tags": []
   },
   "outputs": [],
   "source": [
    "df = pd.read_csv(dataset_config['dataset_path'])"
   ]
  },
  {
   "cell_type": "code",
   "execution_count": 6,
   "id": "7eca6c4a",
   "metadata": {
    "execution": {
     "iopub.execute_input": "2021-04-04T23:22:10.662049Z",
     "iopub.status.busy": "2021-04-04T23:22:10.644807Z",
     "iopub.status.idle": "2021-04-04T23:22:10.665538Z",
     "shell.execute_reply": "2021-04-04T23:22:10.666520Z"
    },
    "papermill": {
     "duration": 0.056939,
     "end_time": "2021-04-04T23:22:10.667067",
     "exception": false,
     "start_time": "2021-04-04T23:22:10.610128",
     "status": "completed"
    },
    "tags": []
   },
   "outputs": [
    {
     "name": "stdout",
     "output_type": "stream",
     "text": [
      "<class 'pandas.core.frame.DataFrame'>\n",
      "RangeIndex: 498 entries, 0 to 497\n",
      "Data columns (total 23 columns):\n",
      " #   Column             Non-Null Count  Dtype  \n",
      "---  ------             --------------  -----  \n",
      " 0   id                 498 non-null    int64  \n",
      " 1   loc                498 non-null    float64\n",
      " 2   v(g)               498 non-null    float64\n",
      " 3   ev(g)              498 non-null    float64\n",
      " 4   iv(g)              498 non-null    float64\n",
      " 5   n                  498 non-null    float64\n",
      " 6   v                  498 non-null    float64\n",
      " 7   l                  498 non-null    float64\n",
      " 8   d                  498 non-null    float64\n",
      " 9   i                  498 non-null    float64\n",
      " 10  e                  498 non-null    float64\n",
      " 11  b                  498 non-null    float64\n",
      " 12  t                  498 non-null    float64\n",
      " 13  lOCode             498 non-null    int64  \n",
      " 14  lOComment          498 non-null    int64  \n",
      " 15  lOBlank            498 non-null    int64  \n",
      " 16  locCodeAndComment  498 non-null    int64  \n",
      " 17  uniq_Op            498 non-null    float64\n",
      " 18  uniq_Opnd          498 non-null    float64\n",
      " 19  total_Op           498 non-null    float64\n",
      " 20  total_Opnd         498 non-null    float64\n",
      " 21  branchCount        498 non-null    float64\n",
      " 22  defects            498 non-null    bool   \n",
      "dtypes: bool(1), float64(17), int64(5)\n",
      "memory usage: 86.2 KB\n"
     ]
    }
   ],
   "source": [
    "df.info()"
   ]
  },
  {
   "cell_type": "code",
   "execution_count": 7,
   "id": "3638e5e8",
   "metadata": {
    "execution": {
     "iopub.execute_input": "2021-04-04T23:22:10.716775Z",
     "iopub.status.busy": "2021-04-04T23:22:10.716138Z",
     "iopub.status.idle": "2021-04-04T23:22:10.747492Z",
     "shell.execute_reply": "2021-04-04T23:22:10.748062Z"
    },
    "papermill": {
     "duration": 0.059515,
     "end_time": "2021-04-04T23:22:10.748233",
     "exception": false,
     "start_time": "2021-04-04T23:22:10.688718",
     "status": "completed"
    },
    "tags": []
   },
   "outputs": [
    {
     "data": {
      "text/html": [
       "<div>\n",
       "<style scoped>\n",
       "    .dataframe tbody tr th:only-of-type {\n",
       "        vertical-align: middle;\n",
       "    }\n",
       "\n",
       "    .dataframe tbody tr th {\n",
       "        vertical-align: top;\n",
       "    }\n",
       "\n",
       "    .dataframe thead th {\n",
       "        text-align: right;\n",
       "    }\n",
       "</style>\n",
       "<table border=\"1\" class=\"dataframe\">\n",
       "  <thead>\n",
       "    <tr style=\"text-align: right;\">\n",
       "      <th></th>\n",
       "      <th>id</th>\n",
       "      <th>loc</th>\n",
       "      <th>v(g)</th>\n",
       "      <th>ev(g)</th>\n",
       "      <th>iv(g)</th>\n",
       "      <th>n</th>\n",
       "      <th>v</th>\n",
       "      <th>l</th>\n",
       "      <th>d</th>\n",
       "      <th>i</th>\n",
       "      <th>...</th>\n",
       "      <th>lOCode</th>\n",
       "      <th>lOComment</th>\n",
       "      <th>lOBlank</th>\n",
       "      <th>locCodeAndComment</th>\n",
       "      <th>uniq_Op</th>\n",
       "      <th>uniq_Opnd</th>\n",
       "      <th>total_Op</th>\n",
       "      <th>total_Opnd</th>\n",
       "      <th>branchCount</th>\n",
       "      <th>defects</th>\n",
       "    </tr>\n",
       "  </thead>\n",
       "  <tbody>\n",
       "    <tr>\n",
       "      <th>0</th>\n",
       "      <td>1</td>\n",
       "      <td>1.1</td>\n",
       "      <td>1.4</td>\n",
       "      <td>1.4</td>\n",
       "      <td>1.4</td>\n",
       "      <td>1.3</td>\n",
       "      <td>1.30</td>\n",
       "      <td>1.30</td>\n",
       "      <td>1.30</td>\n",
       "      <td>1.30</td>\n",
       "      <td>...</td>\n",
       "      <td>2</td>\n",
       "      <td>2</td>\n",
       "      <td>2</td>\n",
       "      <td>2</td>\n",
       "      <td>1.2</td>\n",
       "      <td>1.2</td>\n",
       "      <td>1.2</td>\n",
       "      <td>1.2</td>\n",
       "      <td>1.4</td>\n",
       "      <td>False</td>\n",
       "    </tr>\n",
       "    <tr>\n",
       "      <th>1</th>\n",
       "      <td>2</td>\n",
       "      <td>1.0</td>\n",
       "      <td>1.0</td>\n",
       "      <td>1.0</td>\n",
       "      <td>1.0</td>\n",
       "      <td>1.0</td>\n",
       "      <td>1.00</td>\n",
       "      <td>1.00</td>\n",
       "      <td>1.00</td>\n",
       "      <td>1.00</td>\n",
       "      <td>...</td>\n",
       "      <td>1</td>\n",
       "      <td>1</td>\n",
       "      <td>1</td>\n",
       "      <td>1</td>\n",
       "      <td>1.0</td>\n",
       "      <td>1.0</td>\n",
       "      <td>1.0</td>\n",
       "      <td>1.0</td>\n",
       "      <td>1.0</td>\n",
       "      <td>True</td>\n",
       "    </tr>\n",
       "    <tr>\n",
       "      <th>2</th>\n",
       "      <td>3</td>\n",
       "      <td>24.0</td>\n",
       "      <td>5.0</td>\n",
       "      <td>1.0</td>\n",
       "      <td>3.0</td>\n",
       "      <td>63.0</td>\n",
       "      <td>309.13</td>\n",
       "      <td>0.11</td>\n",
       "      <td>9.50</td>\n",
       "      <td>32.54</td>\n",
       "      <td>...</td>\n",
       "      <td>1</td>\n",
       "      <td>0</td>\n",
       "      <td>6</td>\n",
       "      <td>0</td>\n",
       "      <td>15.0</td>\n",
       "      <td>15.0</td>\n",
       "      <td>44.0</td>\n",
       "      <td>19.0</td>\n",
       "      <td>9.0</td>\n",
       "      <td>False</td>\n",
       "    </tr>\n",
       "    <tr>\n",
       "      <th>3</th>\n",
       "      <td>4</td>\n",
       "      <td>20.0</td>\n",
       "      <td>4.0</td>\n",
       "      <td>4.0</td>\n",
       "      <td>2.0</td>\n",
       "      <td>47.0</td>\n",
       "      <td>215.49</td>\n",
       "      <td>0.06</td>\n",
       "      <td>16.00</td>\n",
       "      <td>13.47</td>\n",
       "      <td>...</td>\n",
       "      <td>0</td>\n",
       "      <td>0</td>\n",
       "      <td>3</td>\n",
       "      <td>0</td>\n",
       "      <td>16.0</td>\n",
       "      <td>8.0</td>\n",
       "      <td>31.0</td>\n",
       "      <td>16.0</td>\n",
       "      <td>7.0</td>\n",
       "      <td>False</td>\n",
       "    </tr>\n",
       "    <tr>\n",
       "      <th>4</th>\n",
       "      <td>5</td>\n",
       "      <td>24.0</td>\n",
       "      <td>6.0</td>\n",
       "      <td>6.0</td>\n",
       "      <td>2.0</td>\n",
       "      <td>72.0</td>\n",
       "      <td>346.13</td>\n",
       "      <td>0.06</td>\n",
       "      <td>17.33</td>\n",
       "      <td>19.97</td>\n",
       "      <td>...</td>\n",
       "      <td>0</td>\n",
       "      <td>0</td>\n",
       "      <td>3</td>\n",
       "      <td>0</td>\n",
       "      <td>16.0</td>\n",
       "      <td>12.0</td>\n",
       "      <td>46.0</td>\n",
       "      <td>26.0</td>\n",
       "      <td>11.0</td>\n",
       "      <td>False</td>\n",
       "    </tr>\n",
       "  </tbody>\n",
       "</table>\n",
       "<p>5 rows × 23 columns</p>\n",
       "</div>"
      ],
      "text/plain": [
       "   id   loc  v(g)  ev(g)  iv(g)     n       v     l      d      i  ...  \\\n",
       "0   1   1.1   1.4    1.4    1.4   1.3    1.30  1.30   1.30   1.30  ...   \n",
       "1   2   1.0   1.0    1.0    1.0   1.0    1.00  1.00   1.00   1.00  ...   \n",
       "2   3  24.0   5.0    1.0    3.0  63.0  309.13  0.11   9.50  32.54  ...   \n",
       "3   4  20.0   4.0    4.0    2.0  47.0  215.49  0.06  16.00  13.47  ...   \n",
       "4   5  24.0   6.0    6.0    2.0  72.0  346.13  0.06  17.33  19.97  ...   \n",
       "\n",
       "   lOCode  lOComment  lOBlank  locCodeAndComment  uniq_Op  uniq_Opnd  \\\n",
       "0       2          2        2                  2      1.2        1.2   \n",
       "1       1          1        1                  1      1.0        1.0   \n",
       "2       1          0        6                  0     15.0       15.0   \n",
       "3       0          0        3                  0     16.0        8.0   \n",
       "4       0          0        3                  0     16.0       12.0   \n",
       "\n",
       "   total_Op  total_Opnd  branchCount  defects  \n",
       "0       1.2         1.2          1.4    False  \n",
       "1       1.0         1.0          1.0     True  \n",
       "2      44.0        19.0          9.0    False  \n",
       "3      31.0        16.0          7.0    False  \n",
       "4      46.0        26.0         11.0    False  \n",
       "\n",
       "[5 rows x 23 columns]"
      ]
     },
     "execution_count": 7,
     "metadata": {},
     "output_type": "execute_result"
    }
   ],
   "source": [
    "df.head()"
   ]
  },
  {
   "cell_type": "code",
   "execution_count": 8,
   "id": "733e95eb",
   "metadata": {
    "execution": {
     "iopub.execute_input": "2021-04-04T23:22:10.811394Z",
     "iopub.status.busy": "2021-04-04T23:22:10.810681Z",
     "iopub.status.idle": "2021-04-04T23:22:10.813410Z",
     "shell.execute_reply": "2021-04-04T23:22:10.813968Z"
    },
    "papermill": {
     "duration": 0.039802,
     "end_time": "2021-04-04T23:22:10.814135",
     "exception": false,
     "start_time": "2021-04-04T23:22:10.774333",
     "status": "completed"
    },
    "tags": []
   },
   "outputs": [],
   "source": [
    "del df['id']"
   ]
  },
  {
   "cell_type": "code",
   "execution_count": 9,
   "id": "6ff6f5b0",
   "metadata": {
    "execution": {
     "iopub.execute_input": "2021-04-04T23:22:10.867842Z",
     "iopub.status.busy": "2021-04-04T23:22:10.866538Z",
     "iopub.status.idle": "2021-04-04T23:22:10.870158Z",
     "shell.execute_reply": "2021-04-04T23:22:10.869179Z"
    },
    "papermill": {
     "duration": 0.029886,
     "end_time": "2021-04-04T23:22:10.870531",
     "exception": false,
     "start_time": "2021-04-04T23:22:10.840645",
     "status": "completed"
    },
    "tags": []
   },
   "outputs": [],
   "source": [
    "if PROFILE_REPORTING:\n",
    "    ProfileReport(df).to_widgets()"
   ]
  },
  {
   "cell_type": "markdown",
   "id": "1deaf3f0",
   "metadata": {
    "papermill": {
     "duration": 0.027596,
     "end_time": "2021-04-04T23:22:10.922345",
     "exception": false,
     "start_time": "2021-04-04T23:22:10.894749",
     "status": "completed"
    },
    "tags": []
   },
   "source": [
    "# Preprocess"
   ]
  },
  {
   "cell_type": "code",
   "execution_count": 10,
   "id": "1513e563",
   "metadata": {
    "execution": {
     "iopub.execute_input": "2021-04-04T23:22:10.973962Z",
     "iopub.status.busy": "2021-04-04T23:22:10.972561Z",
     "iopub.status.idle": "2021-04-04T23:22:10.974930Z",
     "shell.execute_reply": "2021-04-04T23:22:10.975468Z"
    },
    "papermill": {
     "duration": 0.030091,
     "end_time": "2021-04-04T23:22:10.975632",
     "exception": false,
     "start_time": "2021-04-04T23:22:10.945541",
     "status": "completed"
    },
    "tags": []
   },
   "outputs": [],
   "source": [
    "working_df = df.copy()"
   ]
  },
  {
   "cell_type": "code",
   "execution_count": 11,
   "id": "3b26d675",
   "metadata": {
    "execution": {
     "iopub.execute_input": "2021-04-04T23:22:11.035434Z",
     "iopub.status.busy": "2021-04-04T23:22:11.034515Z",
     "iopub.status.idle": "2021-04-04T23:22:11.037892Z",
     "shell.execute_reply": "2021-04-04T23:22:11.036546Z"
    },
    "papermill": {
     "duration": 0.039708,
     "end_time": "2021-04-04T23:22:11.038283",
     "exception": false,
     "start_time": "2021-04-04T23:22:10.998575",
     "status": "completed"
    },
    "tags": []
   },
   "outputs": [],
   "source": [
    "working_df['defects'] = working_df['defects'].replace([False, True], [0, 1])"
   ]
  },
  {
   "cell_type": "code",
   "execution_count": 12,
   "id": "eb48604f",
   "metadata": {
    "execution": {
     "iopub.execute_input": "2021-04-04T23:22:11.096953Z",
     "iopub.status.busy": "2021-04-04T23:22:11.096183Z",
     "iopub.status.idle": "2021-04-04T23:22:11.098475Z",
     "shell.execute_reply": "2021-04-04T23:22:11.097975Z"
    },
    "papermill": {
     "duration": 0.031939,
     "end_time": "2021-04-04T23:22:11.098593",
     "exception": false,
     "start_time": "2021-04-04T23:22:11.066654",
     "status": "completed"
    },
    "tags": []
   },
   "outputs": [],
   "source": [
    "for col in dataset_config['delete_columns']:\n",
    "    del working_df[col]"
   ]
  },
  {
   "cell_type": "code",
   "execution_count": 13,
   "id": "9a17bc29",
   "metadata": {
    "execution": {
     "iopub.execute_input": "2021-04-04T23:22:11.159397Z",
     "iopub.status.busy": "2021-04-04T23:22:11.158596Z",
     "iopub.status.idle": "2021-04-04T23:22:11.169661Z",
     "shell.execute_reply": "2021-04-04T23:22:11.170359Z"
    },
    "papermill": {
     "duration": 0.045963,
     "end_time": "2021-04-04T23:22:11.170570",
     "exception": false,
     "start_time": "2021-04-04T23:22:11.124607",
     "status": "completed"
    },
    "tags": []
   },
   "outputs": [],
   "source": [
    "working_df = working_df.drop_duplicates()"
   ]
  },
  {
   "cell_type": "markdown",
   "id": "a4d52ca6",
   "metadata": {
    "papermill": {
     "duration": 0.022521,
     "end_time": "2021-04-04T23:22:11.219441",
     "exception": false,
     "start_time": "2021-04-04T23:22:11.196920",
     "status": "completed"
    },
    "tags": []
   },
   "source": [
    "# Split"
   ]
  },
  {
   "cell_type": "code",
   "execution_count": 14,
   "id": "3e9ee4b5",
   "metadata": {
    "execution": {
     "iopub.execute_input": "2021-04-04T23:22:11.280078Z",
     "iopub.status.busy": "2021-04-04T23:22:11.278902Z",
     "iopub.status.idle": "2021-04-04T23:22:11.318712Z",
     "shell.execute_reply": "2021-04-04T23:22:11.319241Z"
    },
    "papermill": {
     "duration": 0.075746,
     "end_time": "2021-04-04T23:22:11.319435",
     "exception": false,
     "start_time": "2021-04-04T23:22:11.243689",
     "status": "completed"
    },
    "tags": []
   },
   "outputs": [],
   "source": [
    "from sklearn.model_selection import train_test_split"
   ]
  },
  {
   "cell_type": "code",
   "execution_count": 15,
   "id": "274004ce",
   "metadata": {
    "execution": {
     "iopub.execute_input": "2021-04-04T23:22:11.386406Z",
     "iopub.status.busy": "2021-04-04T23:22:11.385493Z",
     "iopub.status.idle": "2021-04-04T23:22:11.394391Z",
     "shell.execute_reply": "2021-04-04T23:22:11.393676Z"
    },
    "papermill": {
     "duration": 0.047451,
     "end_time": "2021-04-04T23:22:11.394555",
     "exception": false,
     "start_time": "2021-04-04T23:22:11.347104",
     "status": "completed"
    },
    "scrolled": true,
    "tags": []
   },
   "outputs": [],
   "source": [
    "inlier, outlier = working_df[working_df['defects'] == 0], working_df[working_df['defects'] == 1]"
   ]
  },
  {
   "cell_type": "code",
   "execution_count": 16,
   "id": "753c7b03",
   "metadata": {
    "execution": {
     "iopub.execute_input": "2021-04-04T23:22:11.461659Z",
     "iopub.status.busy": "2021-04-04T23:22:11.458718Z",
     "iopub.status.idle": "2021-04-04T23:22:11.464009Z",
     "shell.execute_reply": "2021-04-04T23:22:11.464566Z"
    },
    "papermill": {
     "duration": 0.043688,
     "end_time": "2021-04-04T23:22:11.464733",
     "exception": false,
     "start_time": "2021-04-04T23:22:11.421045",
     "status": "completed"
    },
    "tags": []
   },
   "outputs": [],
   "source": [
    "X_inlier = inlier.copy()\n",
    "y_inlier = X_inlier.pop('defects')\n",
    "X_outlier = outlier.copy()\n",
    "y_outlier = X_outlier.pop('defects')"
   ]
  },
  {
   "cell_type": "code",
   "execution_count": 17,
   "id": "2ba43193",
   "metadata": {
    "execution": {
     "iopub.execute_input": "2021-04-04T23:22:11.521727Z",
     "iopub.status.busy": "2021-04-04T23:22:11.520752Z",
     "iopub.status.idle": "2021-04-04T23:22:11.525175Z",
     "shell.execute_reply": "2021-04-04T23:22:11.524557Z"
    },
    "papermill": {
     "duration": 0.03334,
     "end_time": "2021-04-04T23:22:11.525304",
     "exception": false,
     "start_time": "2021-04-04T23:22:11.491964",
     "status": "completed"
    },
    "tags": []
   },
   "outputs": [],
   "source": [
    "test_size = dataset_config['test_size']\n",
    "random_state = dataset_config['random_state']\n",
    "\n",
    "X_inlier_train, X_inlier_test, y_inlier_train, y_inlier_test = train_test_split(\n",
    "    X_inlier,\n",
    "    y_inlier,\n",
    "    test_size=test_size,\n",
    "    random_state=random_state\n",
    ")"
   ]
  },
  {
   "cell_type": "code",
   "execution_count": 18,
   "id": "0b7582ca",
   "metadata": {
    "execution": {
     "iopub.execute_input": "2021-04-04T23:22:11.621596Z",
     "iopub.status.busy": "2021-04-04T23:22:11.620832Z",
     "iopub.status.idle": "2021-04-04T23:22:11.623241Z",
     "shell.execute_reply": "2021-04-04T23:22:11.623777Z"
    },
    "papermill": {
     "duration": 0.050645,
     "end_time": "2021-04-04T23:22:11.623941",
     "exception": false,
     "start_time": "2021-04-04T23:22:11.573296",
     "status": "completed"
    },
    "tags": []
   },
   "outputs": [],
   "source": [
    "test_outlier_size = dataset_config['test_outlier_size']\n",
    "if test_outlier_size > 0.0:\n",
    "    X_outlier_train, X_outlier_test, y_outlier_train, y_outlier_test = train_test_split(\n",
    "        X_outlier,\n",
    "        y_outlier,\n",
    "        test_size=test_outlier_size,\n",
    "        random_state=random_state\n",
    "    )\n",
    "else:\n",
    "    X_outlier_train, y_outlier_train = pd.DataFrame(columns=X_outlier.columns), pd.Series(dtype='int64')\n",
    "    X_outlier_test, y_outlier_test = X_outlier.copy(), y_outlier.copy()"
   ]
  },
  {
   "cell_type": "code",
   "execution_count": 19,
   "id": "c34363db",
   "metadata": {
    "execution": {
     "iopub.execute_input": "2021-04-04T23:22:11.684093Z",
     "iopub.status.busy": "2021-04-04T23:22:11.681999Z",
     "iopub.status.idle": "2021-04-04T23:22:11.686324Z",
     "shell.execute_reply": "2021-04-04T23:22:11.687091Z"
    },
    "papermill": {
     "duration": 0.035147,
     "end_time": "2021-04-04T23:22:11.687403",
     "exception": false,
     "start_time": "2021-04-04T23:22:11.652256",
     "status": "completed"
    },
    "tags": []
   },
   "outputs": [],
   "source": [
    "X_train, y_train = pd.concat([X_inlier_train, X_outlier_train], ignore_index=True), pd.concat([y_inlier_train, y_outlier_train], ignore_index=True)\n",
    "X_test, y_test = pd.concat([X_inlier_test, X_outlier_test], ignore_index=True), pd.concat([y_inlier_test, y_outlier_test], ignore_index=True)"
   ]
  },
  {
   "cell_type": "markdown",
   "id": "7cde7309",
   "metadata": {
    "papermill": {
     "duration": 0.033953,
     "end_time": "2021-04-04T23:22:11.749737",
     "exception": false,
     "start_time": "2021-04-04T23:22:11.715784",
     "status": "completed"
    },
    "tags": []
   },
   "source": [
    "# Model"
   ]
  },
  {
   "cell_type": "code",
   "execution_count": 20,
   "id": "2b12a415",
   "metadata": {
    "execution": {
     "iopub.execute_input": "2021-04-04T23:22:11.812507Z",
     "iopub.status.busy": "2021-04-04T23:22:11.811612Z",
     "iopub.status.idle": "2021-04-04T23:22:11.815335Z",
     "shell.execute_reply": "2021-04-04T23:22:11.813939Z"
    },
    "papermill": {
     "duration": 0.038823,
     "end_time": "2021-04-04T23:22:11.815670",
     "exception": false,
     "start_time": "2021-04-04T23:22:11.776847",
     "status": "completed"
    },
    "tags": []
   },
   "outputs": [],
   "source": [
    "from math import sqrt\n",
    "\n",
    "\n",
    "class KNNDataDescription:\n",
    "    def __init__(self, k=5, outlier_threshold=1.0):\n",
    "        self.k = k\n",
    "        self.outlier_threshold = outlier_threshold\n",
    "        self.X = []\n",
    "    \n",
    "    def fit(self, X):\n",
    "        self.X = [features.to_list() for index, features in X.iterrows()]\n",
    "\n",
    "    def predict(self, entries):\n",
    "        return [self.predict_entry(features.to_list()) for index, features in entries.iterrows()]\n",
    "    \n",
    "    def predict_entry(self, entry):\n",
    "        kth_neighbor, kth_distance = self.get_kth_neighbor(entry, self.k)\n",
    "        kth_kth_neighbor, kth_kth_distance = self.get_kth_neighbor(kth_neighbor, self.k + 1)\n",
    "\n",
    "        outlier_score = kth_distance / (kth_kth_distance + 0.000001)\n",
    "\n",
    "        return 1 if outlier_score < self.outlier_threshold else -1\n",
    "        \n",
    "    def euclidean_distance(self, features1, features2):\n",
    "        distance = 0.0\n",
    "        for feat1, feat2 in zip(features1, features2):\n",
    "            distance += (feat1 - feat2)**2\n",
    "                \n",
    "        return sqrt(distance)\n",
    "\n",
    "    def get_neighbors(self, entry, k):\n",
    "        distance_to_data_points = [\n",
    "            (data_point, self.euclidean_distance(entry, data_point))\n",
    "            for data_point in self.X\n",
    "        ]\n",
    "        sorted_by_distance = sorted(distance_to_data_points, key=lambda tup: tup[1])\n",
    "        neighbors = sorted_by_distance[:k]\n",
    "        return neighbors\n",
    "\n",
    "    def get_kth_neighbor(self, entry, k):\n",
    "        neighbors = self.get_neighbors(entry, k)\n",
    "        return neighbors[-1]\n"
   ]
  },
  {
   "cell_type": "code",
   "execution_count": 21,
   "id": "1fa9ec1c",
   "metadata": {
    "execution": {
     "iopub.execute_input": "2021-04-04T23:22:11.874339Z",
     "iopub.status.busy": "2021-04-04T23:22:11.873698Z",
     "iopub.status.idle": "2021-04-04T23:22:11.895136Z",
     "shell.execute_reply": "2021-04-04T23:22:11.894376Z"
    },
    "papermill": {
     "duration": 0.055337,
     "end_time": "2021-04-04T23:22:11.895293",
     "exception": false,
     "start_time": "2021-04-04T23:22:11.839956",
     "status": "completed"
    },
    "tags": []
   },
   "outputs": [],
   "source": [
    "from sklearn.svm import OneClassSVM\n",
    "\n",
    "\n",
    "models = {\n",
    "    'oneclasssvm': OneClassSVM,\n",
    "    'knndatadescription': KNNDataDescription,\n",
    "}"
   ]
  },
  {
   "cell_type": "code",
   "execution_count": 22,
   "id": "4d72a0b1",
   "metadata": {
    "execution": {
     "iopub.execute_input": "2021-04-04T23:22:11.948920Z",
     "iopub.status.busy": "2021-04-04T23:22:11.948078Z",
     "iopub.status.idle": "2021-04-04T23:22:11.950550Z",
     "shell.execute_reply": "2021-04-04T23:22:11.950043Z"
    },
    "papermill": {
     "duration": 0.030238,
     "end_time": "2021-04-04T23:22:11.950669",
     "exception": false,
     "start_time": "2021-04-04T23:22:11.920431",
     "status": "completed"
    },
    "scrolled": true,
    "tags": []
   },
   "outputs": [],
   "source": [
    "model_cls = models[model_config['model_type']]\n",
    "model = model_cls(**model_config['hyperparameters'])"
   ]
  },
  {
   "cell_type": "markdown",
   "id": "e00cff3b",
   "metadata": {
    "papermill": {
     "duration": 0.036296,
     "end_time": "2021-04-04T23:22:12.012344",
     "exception": false,
     "start_time": "2021-04-04T23:22:11.976048",
     "status": "completed"
    },
    "tags": []
   },
   "source": [
    "# Fit"
   ]
  },
  {
   "cell_type": "code",
   "execution_count": 23,
   "id": "8b2ded89",
   "metadata": {
    "execution": {
     "iopub.execute_input": "2021-04-04T23:22:12.081060Z",
     "iopub.status.busy": "2021-04-04T23:22:12.079513Z",
     "iopub.status.idle": "2021-04-04T23:22:12.116367Z",
     "shell.execute_reply": "2021-04-04T23:22:12.115241Z"
    },
    "papermill": {
     "duration": 0.072729,
     "end_time": "2021-04-04T23:22:12.116791",
     "exception": false,
     "start_time": "2021-04-04T23:22:12.044062",
     "status": "completed"
    },
    "tags": []
   },
   "outputs": [],
   "source": [
    "model.fit(X_train)"
   ]
  },
  {
   "cell_type": "markdown",
   "id": "f99999f7",
   "metadata": {
    "papermill": {
     "duration": 0.0289,
     "end_time": "2021-04-04T23:22:12.171605",
     "exception": false,
     "start_time": "2021-04-04T23:22:12.142705",
     "status": "completed"
    },
    "tags": []
   },
   "source": [
    "# Predict"
   ]
  },
  {
   "cell_type": "code",
   "execution_count": 24,
   "id": "6536fbf7",
   "metadata": {
    "execution": {
     "iopub.execute_input": "2021-04-04T23:22:12.227227Z",
     "iopub.status.busy": "2021-04-04T23:22:12.224900Z",
     "iopub.status.idle": "2021-04-04T23:22:12.732347Z",
     "shell.execute_reply": "2021-04-04T23:22:12.733120Z"
    },
    "papermill": {
     "duration": 0.538243,
     "end_time": "2021-04-04T23:22:12.733407",
     "exception": false,
     "start_time": "2021-04-04T23:22:12.195164",
     "status": "completed"
    },
    "tags": []
   },
   "outputs": [],
   "source": [
    "predictions = model.predict(X_test)"
   ]
  },
  {
   "cell_type": "markdown",
   "id": "aa1c9881",
   "metadata": {
    "papermill": {
     "duration": 0.033886,
     "end_time": "2021-04-04T23:22:12.797942",
     "exception": false,
     "start_time": "2021-04-04T23:22:12.764056",
     "status": "completed"
    },
    "tags": []
   },
   "source": [
    "# Evaluate"
   ]
  },
  {
   "cell_type": "code",
   "execution_count": 25,
   "id": "894f0f04",
   "metadata": {
    "execution": {
     "iopub.execute_input": "2021-04-04T23:22:12.855927Z",
     "iopub.status.busy": "2021-04-04T23:22:12.855335Z",
     "iopub.status.idle": "2021-04-04T23:22:12.857330Z",
     "shell.execute_reply": "2021-04-04T23:22:12.857773Z"
    },
    "papermill": {
     "duration": 0.032042,
     "end_time": "2021-04-04T23:22:12.857910",
     "exception": false,
     "start_time": "2021-04-04T23:22:12.825868",
     "status": "completed"
    },
    "tags": []
   },
   "outputs": [],
   "source": [
    "from sklearn.metrics import f1_score"
   ]
  },
  {
   "cell_type": "code",
   "execution_count": 26,
   "id": "211744d3",
   "metadata": {
    "execution": {
     "iopub.execute_input": "2021-04-04T23:22:12.923676Z",
     "iopub.status.busy": "2021-04-04T23:22:12.922779Z",
     "iopub.status.idle": "2021-04-04T23:22:12.924632Z",
     "shell.execute_reply": "2021-04-04T23:22:12.925197Z"
    },
    "papermill": {
     "duration": 0.039744,
     "end_time": "2021-04-04T23:22:12.925362",
     "exception": false,
     "start_time": "2021-04-04T23:22:12.885618",
     "status": "completed"
    },
    "tags": []
   },
   "outputs": [],
   "source": [
    "y_test = y_test.replace([0, 1], [1, -1])"
   ]
  },
  {
   "cell_type": "code",
   "execution_count": 27,
   "id": "d68a9204",
   "metadata": {
    "execution": {
     "iopub.execute_input": "2021-04-04T23:22:12.988894Z",
     "iopub.status.busy": "2021-04-04T23:22:12.988265Z",
     "iopub.status.idle": "2021-04-04T23:22:12.991090Z",
     "shell.execute_reply": "2021-04-04T23:22:12.992194Z"
    },
    "papermill": {
     "duration": 0.03849,
     "end_time": "2021-04-04T23:22:12.992403",
     "exception": false,
     "start_time": "2021-04-04T23:22:12.953913",
     "status": "completed"
    },
    "tags": []
   },
   "outputs": [],
   "source": [
    "def evaluate(truths, predictions, pos_label, neg_label):\n",
    "    TP = 0\n",
    "    FP = 0\n",
    "    TN = 0\n",
    "    FN = 0\n",
    "\n",
    "    for truth, pred in zip(truths, predictions): \n",
    "        if truth == pred == pos_label:\n",
    "           TP += 1\n",
    "        elif pred == pos_label and truth == neg_label:\n",
    "           FP += 1\n",
    "        elif truth == pred == neg_label:\n",
    "           TN += 1\n",
    "        elif pred == neg_label and truth == pos_label:\n",
    "           FN += 1\n",
    "\n",
    "    precision = TP / (TP + FP)\n",
    "    sensitivity = TP / (TP + FN)\n",
    "    \n",
    "    return {\n",
    "        'true_pos': TP,\n",
    "        'false_pos': FP,\n",
    "        'false_neg': FN,\n",
    "        'true_neg': TN,\n",
    "        'precision': precision,\n",
    "        'sensitivity': sensitivity,\n",
    "        'f1': (2 * (precision * sensitivity)) / (precision + sensitivity)\n",
    "    }\n",
    "\n",
    "score = evaluate(y_test, predictions, pos_label=-1, neg_label=1)"
   ]
  },
  {
   "cell_type": "markdown",
   "id": "93596516",
   "metadata": {
    "papermill": {
     "duration": 0.031888,
     "end_time": "2021-04-04T23:22:13.051459",
     "exception": false,
     "start_time": "2021-04-04T23:22:13.019571",
     "status": "completed"
    },
    "tags": []
   },
   "source": [
    "# Report"
   ]
  },
  {
   "cell_type": "code",
   "execution_count": 28,
   "id": "bea5fba1",
   "metadata": {
    "execution": {
     "iopub.execute_input": "2021-04-04T23:22:13.132474Z",
     "iopub.status.busy": "2021-04-04T23:22:13.131583Z",
     "iopub.status.idle": "2021-04-04T23:22:13.135143Z",
     "shell.execute_reply": "2021-04-04T23:22:13.135699Z"
    },
    "papermill": {
     "duration": 0.048722,
     "end_time": "2021-04-04T23:22:13.135870",
     "exception": false,
     "start_time": "2021-04-04T23:22:13.087148",
     "status": "completed"
    },
    "tags": []
   },
   "outputs": [],
   "source": [
    "import csv\n",
    "\n",
    "\n",
    "dataset_config_name = DATASET_CONFIG_PATH.split('/')[-1].split('.')[0]\n",
    "model_config_name = MODEL_CONFIG_PATH.split('/')[-1].split('.')[0]\n",
    "configuration = f\"dataset_{dataset_config_name}-model_{model_config_name}\"\n",
    "\n",
    "with open('results.csv', 'a') as f:\n",
    "    report = dict({'configuration': configuration}, **score)\n",
    "    writer = csv.DictWriter(f, report.keys())\n",
    "    writer.writerow(report)"
   ]
  }
 ],
 "metadata": {
  "celltoolbar": "Tags",
  "kernelspec": {
   "display_name": "Python 3",
   "language": "python",
   "name": "python3"
  },
  "language_info": {
   "codemirror_mode": {
    "name": "ipython",
    "version": 3
   },
   "file_extension": ".py",
   "mimetype": "text/x-python",
   "name": "python",
   "nbconvert_exporter": "python",
   "pygments_lexer": "ipython3",
   "version": "3.9.1"
  },
  "papermill": {
   "default_parameters": {},
   "duration": 7.075743,
   "end_time": "2021-04-04T23:22:14.553999",
   "environment_variables": {},
   "exception": null,
   "input_path": "main.ipynb",
   "output_path": "runs/dataset_000124-model_000001.ipynb",
   "parameters": {
    "DATASET_CONFIG_PATH": "config/dataset/000124.json",
    "MODEL_CONFIG_PATH": "config/model/000001.json",
    "PROFILE_REPORTING": false
   },
   "start_time": "2021-04-04T23:22:07.478256",
   "version": "2.3.3"
  }
 },
 "nbformat": 4,
 "nbformat_minor": 5
}