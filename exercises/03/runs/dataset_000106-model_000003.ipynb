{
 "cells": [
  {
   "cell_type": "markdown",
   "id": "51c71c25",
   "metadata": {
    "papermill": {
     "duration": 0.021018,
     "end_time": "2021-04-04T23:15:09.817415",
     "exception": false,
     "start_time": "2021-04-04T23:15:09.796397",
     "status": "completed"
    },
    "tags": []
   },
   "source": [
    "# Parametrizing"
   ]
  },
  {
   "cell_type": "code",
   "execution_count": 1,
   "id": "3b136394",
   "metadata": {
    "execution": {
     "iopub.execute_input": "2021-04-04T23:15:09.866443Z",
     "iopub.status.busy": "2021-04-04T23:15:09.865850Z",
     "iopub.status.idle": "2021-04-04T23:15:09.868013Z",
     "shell.execute_reply": "2021-04-04T23:15:09.868490Z"
    },
    "papermill": {
     "duration": 0.031235,
     "end_time": "2021-04-04T23:15:09.868702",
     "exception": false,
     "start_time": "2021-04-04T23:15:09.837467",
     "status": "completed"
    },
    "tags": [
     "parameters"
    ]
   },
   "outputs": [],
   "source": [
    "DATASET_CONFIG_PATH = 'config/dataset/kc1_001.json'\n",
    "MODEL_CONFIG_PATH = 'config/model/knndd_001.json'\n",
    "PROFILE_REPORTING = False"
   ]
  },
  {
   "cell_type": "code",
   "execution_count": 2,
   "id": "9450b642",
   "metadata": {
    "execution": {
     "iopub.execute_input": "2021-04-04T23:15:09.913038Z",
     "iopub.status.busy": "2021-04-04T23:15:09.912270Z",
     "iopub.status.idle": "2021-04-04T23:15:09.915123Z",
     "shell.execute_reply": "2021-04-04T23:15:09.914536Z"
    },
    "papermill": {
     "duration": 0.02565,
     "end_time": "2021-04-04T23:15:09.915241",
     "exception": false,
     "start_time": "2021-04-04T23:15:09.889591",
     "status": "completed"
    },
    "tags": [
     "injected-parameters"
    ]
   },
   "outputs": [],
   "source": [
    "# Parameters\n",
    "DATASET_CONFIG_PATH = \"config/dataset/000106.json\"\n",
    "MODEL_CONFIG_PATH = \"config/model/000003.json\"\n",
    "PROFILE_REPORTING = False\n"
   ]
  },
  {
   "cell_type": "code",
   "execution_count": 3,
   "id": "b80f2a10",
   "metadata": {
    "execution": {
     "iopub.execute_input": "2021-04-04T23:15:09.960578Z",
     "iopub.status.busy": "2021-04-04T23:15:09.959846Z",
     "iopub.status.idle": "2021-04-04T23:15:09.962430Z",
     "shell.execute_reply": "2021-04-04T23:15:09.962972Z"
    },
    "papermill": {
     "duration": 0.026818,
     "end_time": "2021-04-04T23:15:09.963127",
     "exception": false,
     "start_time": "2021-04-04T23:15:09.936309",
     "status": "completed"
    },
    "tags": []
   },
   "outputs": [],
   "source": [
    "import json\n",
    "\n",
    "\n",
    "with open(DATASET_CONFIG_PATH) as f:\n",
    "    dataset_config = json.load(f)\n",
    "\n",
    "with open(MODEL_CONFIG_PATH) as f:\n",
    "    model_config = json.load(f)"
   ]
  },
  {
   "cell_type": "markdown",
   "id": "9a4b0e2d",
   "metadata": {
    "papermill": {
     "duration": 0.01959,
     "end_time": "2021-04-04T23:15:10.005826",
     "exception": false,
     "start_time": "2021-04-04T23:15:09.986236",
     "status": "completed"
    },
    "tags": []
   },
   "source": [
    "# Profiling"
   ]
  },
  {
   "cell_type": "code",
   "execution_count": 4,
   "id": "a3e0289b",
   "metadata": {
    "execution": {
     "iopub.execute_input": "2021-04-04T23:15:10.049197Z",
     "iopub.status.busy": "2021-04-04T23:15:10.048487Z",
     "iopub.status.idle": "2021-04-04T23:15:11.305104Z",
     "shell.execute_reply": "2021-04-04T23:15:11.304252Z"
    },
    "papermill": {
     "duration": 1.279977,
     "end_time": "2021-04-04T23:15:11.305270",
     "exception": false,
     "start_time": "2021-04-04T23:15:10.025293",
     "status": "completed"
    },
    "tags": []
   },
   "outputs": [],
   "source": [
    "import pandas as pd\n",
    "from pandas_profiling import ProfileReport"
   ]
  },
  {
   "cell_type": "code",
   "execution_count": 5,
   "id": "ee6c0666",
   "metadata": {
    "execution": {
     "iopub.execute_input": "2021-04-04T23:15:11.365049Z",
     "iopub.status.busy": "2021-04-04T23:15:11.364371Z",
     "iopub.status.idle": "2021-04-04T23:15:11.374609Z",
     "shell.execute_reply": "2021-04-04T23:15:11.375339Z"
    },
    "papermill": {
     "duration": 0.039308,
     "end_time": "2021-04-04T23:15:11.375548",
     "exception": false,
     "start_time": "2021-04-04T23:15:11.336240",
     "status": "completed"
    },
    "tags": []
   },
   "outputs": [],
   "source": [
    "df = pd.read_csv(dataset_config['dataset_path'])"
   ]
  },
  {
   "cell_type": "code",
   "execution_count": 6,
   "id": "7eca6c4a",
   "metadata": {
    "execution": {
     "iopub.execute_input": "2021-04-04T23:15:11.445371Z",
     "iopub.status.busy": "2021-04-04T23:15:11.431368Z",
     "iopub.status.idle": "2021-04-04T23:15:11.448970Z",
     "shell.execute_reply": "2021-04-04T23:15:11.449875Z"
    },
    "papermill": {
     "duration": 0.045677,
     "end_time": "2021-04-04T23:15:11.450128",
     "exception": false,
     "start_time": "2021-04-04T23:15:11.404451",
     "status": "completed"
    },
    "tags": []
   },
   "outputs": [
    {
     "name": "stdout",
     "output_type": "stream",
     "text": [
      "<class 'pandas.core.frame.DataFrame'>\n",
      "RangeIndex: 498 entries, 0 to 497\n",
      "Data columns (total 23 columns):\n",
      " #   Column             Non-Null Count  Dtype  \n",
      "---  ------             --------------  -----  \n",
      " 0   id                 498 non-null    int64  \n",
      " 1   loc                498 non-null    float64\n",
      " 2   v(g)               498 non-null    float64\n",
      " 3   ev(g)              498 non-null    float64\n",
      " 4   iv(g)              498 non-null    float64\n",
      " 5   n                  498 non-null    float64\n",
      " 6   v                  498 non-null    float64\n",
      " 7   l                  498 non-null    float64\n",
      " 8   d                  498 non-null    float64\n",
      " 9   i                  498 non-null    float64\n",
      " 10  e                  498 non-null    float64\n",
      " 11  b                  498 non-null    float64\n",
      " 12  t                  498 non-null    float64\n",
      " 13  lOCode             498 non-null    int64  \n",
      " 14  lOComment          498 non-null    int64  \n",
      " 15  lOBlank            498 non-null    int64  \n",
      " 16  locCodeAndComment  498 non-null    int64  \n",
      " 17  uniq_Op            498 non-null    float64\n",
      " 18  uniq_Opnd          498 non-null    float64\n",
      " 19  total_Op           498 non-null    float64\n",
      " 20  total_Opnd         498 non-null    float64\n",
      " 21  branchCount        498 non-null    float64\n",
      " 22  defects            498 non-null    bool   \n",
      "dtypes: bool(1), float64(17), int64(5)\n",
      "memory usage: 86.2 KB\n"
     ]
    }
   ],
   "source": [
    "df.info()"
   ]
  },
  {
   "cell_type": "code",
   "execution_count": 7,
   "id": "3638e5e8",
   "metadata": {
    "execution": {
     "iopub.execute_input": "2021-04-04T23:15:11.517136Z",
     "iopub.status.busy": "2021-04-04T23:15:11.515640Z",
     "iopub.status.idle": "2021-04-04T23:15:11.544206Z",
     "shell.execute_reply": "2021-04-04T23:15:11.543222Z"
    },
    "papermill": {
     "duration": 0.061247,
     "end_time": "2021-04-04T23:15:11.544393",
     "exception": false,
     "start_time": "2021-04-04T23:15:11.483146",
     "status": "completed"
    },
    "tags": []
   },
   "outputs": [
    {
     "data": {
      "text/html": [
       "<div>\n",
       "<style scoped>\n",
       "    .dataframe tbody tr th:only-of-type {\n",
       "        vertical-align: middle;\n",
       "    }\n",
       "\n",
       "    .dataframe tbody tr th {\n",
       "        vertical-align: top;\n",
       "    }\n",
       "\n",
       "    .dataframe thead th {\n",
       "        text-align: right;\n",
       "    }\n",
       "</style>\n",
       "<table border=\"1\" class=\"dataframe\">\n",
       "  <thead>\n",
       "    <tr style=\"text-align: right;\">\n",
       "      <th></th>\n",
       "      <th>id</th>\n",
       "      <th>loc</th>\n",
       "      <th>v(g)</th>\n",
       "      <th>ev(g)</th>\n",
       "      <th>iv(g)</th>\n",
       "      <th>n</th>\n",
       "      <th>v</th>\n",
       "      <th>l</th>\n",
       "      <th>d</th>\n",
       "      <th>i</th>\n",
       "      <th>...</th>\n",
       "      <th>lOCode</th>\n",
       "      <th>lOComment</th>\n",
       "      <th>lOBlank</th>\n",
       "      <th>locCodeAndComment</th>\n",
       "      <th>uniq_Op</th>\n",
       "      <th>uniq_Opnd</th>\n",
       "      <th>total_Op</th>\n",
       "      <th>total_Opnd</th>\n",
       "      <th>branchCount</th>\n",
       "      <th>defects</th>\n",
       "    </tr>\n",
       "  </thead>\n",
       "  <tbody>\n",
       "    <tr>\n",
       "      <th>0</th>\n",
       "      <td>1</td>\n",
       "      <td>1.1</td>\n",
       "      <td>1.4</td>\n",
       "      <td>1.4</td>\n",
       "      <td>1.4</td>\n",
       "      <td>1.3</td>\n",
       "      <td>1.30</td>\n",
       "      <td>1.30</td>\n",
       "      <td>1.30</td>\n",
       "      <td>1.30</td>\n",
       "      <td>...</td>\n",
       "      <td>2</td>\n",
       "      <td>2</td>\n",
       "      <td>2</td>\n",
       "      <td>2</td>\n",
       "      <td>1.2</td>\n",
       "      <td>1.2</td>\n",
       "      <td>1.2</td>\n",
       "      <td>1.2</td>\n",
       "      <td>1.4</td>\n",
       "      <td>False</td>\n",
       "    </tr>\n",
       "    <tr>\n",
       "      <th>1</th>\n",
       "      <td>2</td>\n",
       "      <td>1.0</td>\n",
       "      <td>1.0</td>\n",
       "      <td>1.0</td>\n",
       "      <td>1.0</td>\n",
       "      <td>1.0</td>\n",
       "      <td>1.00</td>\n",
       "      <td>1.00</td>\n",
       "      <td>1.00</td>\n",
       "      <td>1.00</td>\n",
       "      <td>...</td>\n",
       "      <td>1</td>\n",
       "      <td>1</td>\n",
       "      <td>1</td>\n",
       "      <td>1</td>\n",
       "      <td>1.0</td>\n",
       "      <td>1.0</td>\n",
       "      <td>1.0</td>\n",
       "      <td>1.0</td>\n",
       "      <td>1.0</td>\n",
       "      <td>True</td>\n",
       "    </tr>\n",
       "    <tr>\n",
       "      <th>2</th>\n",
       "      <td>3</td>\n",
       "      <td>24.0</td>\n",
       "      <td>5.0</td>\n",
       "      <td>1.0</td>\n",
       "      <td>3.0</td>\n",
       "      <td>63.0</td>\n",
       "      <td>309.13</td>\n",
       "      <td>0.11</td>\n",
       "      <td>9.50</td>\n",
       "      <td>32.54</td>\n",
       "      <td>...</td>\n",
       "      <td>1</td>\n",
       "      <td>0</td>\n",
       "      <td>6</td>\n",
       "      <td>0</td>\n",
       "      <td>15.0</td>\n",
       "      <td>15.0</td>\n",
       "      <td>44.0</td>\n",
       "      <td>19.0</td>\n",
       "      <td>9.0</td>\n",
       "      <td>False</td>\n",
       "    </tr>\n",
       "    <tr>\n",
       "      <th>3</th>\n",
       "      <td>4</td>\n",
       "      <td>20.0</td>\n",
       "      <td>4.0</td>\n",
       "      <td>4.0</td>\n",
       "      <td>2.0</td>\n",
       "      <td>47.0</td>\n",
       "      <td>215.49</td>\n",
       "      <td>0.06</td>\n",
       "      <td>16.00</td>\n",
       "      <td>13.47</td>\n",
       "      <td>...</td>\n",
       "      <td>0</td>\n",
       "      <td>0</td>\n",
       "      <td>3</td>\n",
       "      <td>0</td>\n",
       "      <td>16.0</td>\n",
       "      <td>8.0</td>\n",
       "      <td>31.0</td>\n",
       "      <td>16.0</td>\n",
       "      <td>7.0</td>\n",
       "      <td>False</td>\n",
       "    </tr>\n",
       "    <tr>\n",
       "      <th>4</th>\n",
       "      <td>5</td>\n",
       "      <td>24.0</td>\n",
       "      <td>6.0</td>\n",
       "      <td>6.0</td>\n",
       "      <td>2.0</td>\n",
       "      <td>72.0</td>\n",
       "      <td>346.13</td>\n",
       "      <td>0.06</td>\n",
       "      <td>17.33</td>\n",
       "      <td>19.97</td>\n",
       "      <td>...</td>\n",
       "      <td>0</td>\n",
       "      <td>0</td>\n",
       "      <td>3</td>\n",
       "      <td>0</td>\n",
       "      <td>16.0</td>\n",
       "      <td>12.0</td>\n",
       "      <td>46.0</td>\n",
       "      <td>26.0</td>\n",
       "      <td>11.0</td>\n",
       "      <td>False</td>\n",
       "    </tr>\n",
       "  </tbody>\n",
       "</table>\n",
       "<p>5 rows × 23 columns</p>\n",
       "</div>"
      ],
      "text/plain": [
       "   id   loc  v(g)  ev(g)  iv(g)     n       v     l      d      i  ...  \\\n",
       "0   1   1.1   1.4    1.4    1.4   1.3    1.30  1.30   1.30   1.30  ...   \n",
       "1   2   1.0   1.0    1.0    1.0   1.0    1.00  1.00   1.00   1.00  ...   \n",
       "2   3  24.0   5.0    1.0    3.0  63.0  309.13  0.11   9.50  32.54  ...   \n",
       "3   4  20.0   4.0    4.0    2.0  47.0  215.49  0.06  16.00  13.47  ...   \n",
       "4   5  24.0   6.0    6.0    2.0  72.0  346.13  0.06  17.33  19.97  ...   \n",
       "\n",
       "   lOCode  lOComment  lOBlank  locCodeAndComment  uniq_Op  uniq_Opnd  \\\n",
       "0       2          2        2                  2      1.2        1.2   \n",
       "1       1          1        1                  1      1.0        1.0   \n",
       "2       1          0        6                  0     15.0       15.0   \n",
       "3       0          0        3                  0     16.0        8.0   \n",
       "4       0          0        3                  0     16.0       12.0   \n",
       "\n",
       "   total_Op  total_Opnd  branchCount  defects  \n",
       "0       1.2         1.2          1.4    False  \n",
       "1       1.0         1.0          1.0     True  \n",
       "2      44.0        19.0          9.0    False  \n",
       "3      31.0        16.0          7.0    False  \n",
       "4      46.0        26.0         11.0    False  \n",
       "\n",
       "[5 rows x 23 columns]"
      ]
     },
     "execution_count": 7,
     "metadata": {},
     "output_type": "execute_result"
    }
   ],
   "source": [
    "df.head()"
   ]
  },
  {
   "cell_type": "code",
   "execution_count": 8,
   "id": "733e95eb",
   "metadata": {
    "execution": {
     "iopub.execute_input": "2021-04-04T23:15:11.597626Z",
     "iopub.status.busy": "2021-04-04T23:15:11.596796Z",
     "iopub.status.idle": "2021-04-04T23:15:11.599825Z",
     "shell.execute_reply": "2021-04-04T23:15:11.599259Z"
    },
    "papermill": {
     "duration": 0.029061,
     "end_time": "2021-04-04T23:15:11.599939",
     "exception": false,
     "start_time": "2021-04-04T23:15:11.570878",
     "status": "completed"
    },
    "tags": []
   },
   "outputs": [],
   "source": [
    "del df['id']"
   ]
  },
  {
   "cell_type": "code",
   "execution_count": 9,
   "id": "6ff6f5b0",
   "metadata": {
    "execution": {
     "iopub.execute_input": "2021-04-04T23:15:11.649852Z",
     "iopub.status.busy": "2021-04-04T23:15:11.648843Z",
     "iopub.status.idle": "2021-04-04T23:15:11.651036Z",
     "shell.execute_reply": "2021-04-04T23:15:11.651961Z"
    },
    "papermill": {
     "duration": 0.029377,
     "end_time": "2021-04-04T23:15:11.652194",
     "exception": false,
     "start_time": "2021-04-04T23:15:11.622817",
     "status": "completed"
    },
    "tags": []
   },
   "outputs": [],
   "source": [
    "if PROFILE_REPORTING:\n",
    "    ProfileReport(df).to_widgets()"
   ]
  },
  {
   "cell_type": "markdown",
   "id": "1deaf3f0",
   "metadata": {
    "papermill": {
     "duration": 0.021752,
     "end_time": "2021-04-04T23:15:11.696894",
     "exception": false,
     "start_time": "2021-04-04T23:15:11.675142",
     "status": "completed"
    },
    "tags": []
   },
   "source": [
    "# Preprocess"
   ]
  },
  {
   "cell_type": "code",
   "execution_count": 10,
   "id": "1513e563",
   "metadata": {
    "execution": {
     "iopub.execute_input": "2021-04-04T23:15:11.750325Z",
     "iopub.status.busy": "2021-04-04T23:15:11.749562Z",
     "iopub.status.idle": "2021-04-04T23:15:11.752735Z",
     "shell.execute_reply": "2021-04-04T23:15:11.753246Z"
    },
    "papermill": {
     "duration": 0.035209,
     "end_time": "2021-04-04T23:15:11.753420",
     "exception": false,
     "start_time": "2021-04-04T23:15:11.718211",
     "status": "completed"
    },
    "tags": []
   },
   "outputs": [],
   "source": [
    "working_df = df.copy()"
   ]
  },
  {
   "cell_type": "code",
   "execution_count": 11,
   "id": "3b26d675",
   "metadata": {
    "execution": {
     "iopub.execute_input": "2021-04-04T23:15:11.805358Z",
     "iopub.status.busy": "2021-04-04T23:15:11.803903Z",
     "iopub.status.idle": "2021-04-04T23:15:11.808172Z",
     "shell.execute_reply": "2021-04-04T23:15:11.807425Z"
    },
    "papermill": {
     "duration": 0.032235,
     "end_time": "2021-04-04T23:15:11.808398",
     "exception": false,
     "start_time": "2021-04-04T23:15:11.776163",
     "status": "completed"
    },
    "tags": []
   },
   "outputs": [],
   "source": [
    "working_df['defects'] = working_df['defects'].replace([False, True], [0, 1])"
   ]
  },
  {
   "cell_type": "code",
   "execution_count": 12,
   "id": "eb48604f",
   "metadata": {
    "execution": {
     "iopub.execute_input": "2021-04-04T23:15:11.860302Z",
     "iopub.status.busy": "2021-04-04T23:15:11.859298Z",
     "iopub.status.idle": "2021-04-04T23:15:11.861690Z",
     "shell.execute_reply": "2021-04-04T23:15:11.862391Z"
    },
    "papermill": {
     "duration": 0.029388,
     "end_time": "2021-04-04T23:15:11.862588",
     "exception": false,
     "start_time": "2021-04-04T23:15:11.833200",
     "status": "completed"
    },
    "tags": []
   },
   "outputs": [],
   "source": [
    "for col in dataset_config['delete_columns']:\n",
    "    del working_df[col]"
   ]
  },
  {
   "cell_type": "code",
   "execution_count": 13,
   "id": "9a17bc29",
   "metadata": {
    "execution": {
     "iopub.execute_input": "2021-04-04T23:15:11.918695Z",
     "iopub.status.busy": "2021-04-04T23:15:11.918087Z",
     "iopub.status.idle": "2021-04-04T23:15:11.927836Z",
     "shell.execute_reply": "2021-04-04T23:15:11.928579Z"
    },
    "papermill": {
     "duration": 0.039047,
     "end_time": "2021-04-04T23:15:11.928787",
     "exception": false,
     "start_time": "2021-04-04T23:15:11.889740",
     "status": "completed"
    },
    "tags": []
   },
   "outputs": [],
   "source": [
    "working_df = working_df.drop_duplicates()"
   ]
  },
  {
   "cell_type": "markdown",
   "id": "a4d52ca6",
   "metadata": {
    "papermill": {
     "duration": 0.021903,
     "end_time": "2021-04-04T23:15:11.975308",
     "exception": false,
     "start_time": "2021-04-04T23:15:11.953405",
     "status": "completed"
    },
    "tags": []
   },
   "source": [
    "# Split"
   ]
  },
  {
   "cell_type": "code",
   "execution_count": 14,
   "id": "3e9ee4b5",
   "metadata": {
    "execution": {
     "iopub.execute_input": "2021-04-04T23:15:12.023753Z",
     "iopub.status.busy": "2021-04-04T23:15:12.022895Z",
     "iopub.status.idle": "2021-04-04T23:15:12.057088Z",
     "shell.execute_reply": "2021-04-04T23:15:12.057859Z"
    },
    "papermill": {
     "duration": 0.060566,
     "end_time": "2021-04-04T23:15:12.058074",
     "exception": false,
     "start_time": "2021-04-04T23:15:11.997508",
     "status": "completed"
    },
    "tags": []
   },
   "outputs": [],
   "source": [
    "from sklearn.model_selection import train_test_split"
   ]
  },
  {
   "cell_type": "code",
   "execution_count": 15,
   "id": "274004ce",
   "metadata": {
    "execution": {
     "iopub.execute_input": "2021-04-04T23:15:12.111616Z",
     "iopub.status.busy": "2021-04-04T23:15:12.110639Z",
     "iopub.status.idle": "2021-04-04T23:15:12.117775Z",
     "shell.execute_reply": "2021-04-04T23:15:12.116984Z"
    },
    "papermill": {
     "duration": 0.034415,
     "end_time": "2021-04-04T23:15:12.117952",
     "exception": false,
     "start_time": "2021-04-04T23:15:12.083537",
     "status": "completed"
    },
    "scrolled": true,
    "tags": []
   },
   "outputs": [],
   "source": [
    "inlier, outlier = working_df[working_df['defects'] == 0], working_df[working_df['defects'] == 1]"
   ]
  },
  {
   "cell_type": "code",
   "execution_count": 16,
   "id": "753c7b03",
   "metadata": {
    "execution": {
     "iopub.execute_input": "2021-04-04T23:15:12.173363Z",
     "iopub.status.busy": "2021-04-04T23:15:12.172727Z",
     "iopub.status.idle": "2021-04-04T23:15:12.177917Z",
     "shell.execute_reply": "2021-04-04T23:15:12.178735Z"
    },
    "papermill": {
     "duration": 0.03236,
     "end_time": "2021-04-04T23:15:12.178967",
     "exception": false,
     "start_time": "2021-04-04T23:15:12.146607",
     "status": "completed"
    },
    "tags": []
   },
   "outputs": [],
   "source": [
    "X_inlier = inlier.copy()\n",
    "y_inlier = X_inlier.pop('defects')\n",
    "X_outlier = outlier.copy()\n",
    "y_outlier = X_outlier.pop('defects')"
   ]
  },
  {
   "cell_type": "code",
   "execution_count": 17,
   "id": "2ba43193",
   "metadata": {
    "execution": {
     "iopub.execute_input": "2021-04-04T23:15:12.236058Z",
     "iopub.status.busy": "2021-04-04T23:15:12.234778Z",
     "iopub.status.idle": "2021-04-04T23:15:12.238295Z",
     "shell.execute_reply": "2021-04-04T23:15:12.237413Z"
    },
    "papermill": {
     "duration": 0.033804,
     "end_time": "2021-04-04T23:15:12.238492",
     "exception": false,
     "start_time": "2021-04-04T23:15:12.204688",
     "status": "completed"
    },
    "tags": []
   },
   "outputs": [],
   "source": [
    "test_size = dataset_config['test_size']\n",
    "random_state = dataset_config['random_state']\n",
    "\n",
    "X_inlier_train, X_inlier_test, y_inlier_train, y_inlier_test = train_test_split(\n",
    "    X_inlier,\n",
    "    y_inlier,\n",
    "    test_size=test_size,\n",
    "    random_state=random_state\n",
    ")"
   ]
  },
  {
   "cell_type": "code",
   "execution_count": 18,
   "id": "0b7582ca",
   "metadata": {
    "execution": {
     "iopub.execute_input": "2021-04-04T23:15:12.296022Z",
     "iopub.status.busy": "2021-04-04T23:15:12.295218Z",
     "iopub.status.idle": "2021-04-04T23:15:12.297600Z",
     "shell.execute_reply": "2021-04-04T23:15:12.298327Z"
    },
    "papermill": {
     "duration": 0.033598,
     "end_time": "2021-04-04T23:15:12.298532",
     "exception": false,
     "start_time": "2021-04-04T23:15:12.264934",
     "status": "completed"
    },
    "tags": []
   },
   "outputs": [],
   "source": [
    "test_outlier_size = dataset_config['test_outlier_size']\n",
    "if test_outlier_size > 0.0:\n",
    "    X_outlier_train, X_outlier_test, y_outlier_train, y_outlier_test = train_test_split(\n",
    "        X_outlier,\n",
    "        y_outlier,\n",
    "        test_size=test_outlier_size,\n",
    "        random_state=random_state\n",
    "    )\n",
    "else:\n",
    "    X_outlier_train, y_outlier_train = pd.DataFrame(columns=X_outlier.columns), pd.Series(dtype='int64')\n",
    "    X_outlier_test, y_outlier_test = X_outlier.copy(), y_outlier.copy()"
   ]
  },
  {
   "cell_type": "code",
   "execution_count": 19,
   "id": "c34363db",
   "metadata": {
    "execution": {
     "iopub.execute_input": "2021-04-04T23:15:12.362713Z",
     "iopub.status.busy": "2021-04-04T23:15:12.360294Z",
     "iopub.status.idle": "2021-04-04T23:15:12.368025Z",
     "shell.execute_reply": "2021-04-04T23:15:12.368886Z"
    },
    "papermill": {
     "duration": 0.04137,
     "end_time": "2021-04-04T23:15:12.369110",
     "exception": false,
     "start_time": "2021-04-04T23:15:12.327740",
     "status": "completed"
    },
    "tags": []
   },
   "outputs": [],
   "source": [
    "X_train, y_train = pd.concat([X_inlier_train, X_outlier_train], ignore_index=True), pd.concat([y_inlier_train, y_outlier_train], ignore_index=True)\n",
    "X_test, y_test = pd.concat([X_inlier_test, X_outlier_test], ignore_index=True), pd.concat([y_inlier_test, y_outlier_test], ignore_index=True)"
   ]
  },
  {
   "cell_type": "markdown",
   "id": "7cde7309",
   "metadata": {
    "papermill": {
     "duration": 0.023975,
     "end_time": "2021-04-04T23:15:12.419490",
     "exception": false,
     "start_time": "2021-04-04T23:15:12.395515",
     "status": "completed"
    },
    "tags": []
   },
   "source": [
    "# Model"
   ]
  },
  {
   "cell_type": "code",
   "execution_count": 20,
   "id": "2b12a415",
   "metadata": {
    "execution": {
     "iopub.execute_input": "2021-04-04T23:15:12.479085Z",
     "iopub.status.busy": "2021-04-04T23:15:12.478349Z",
     "iopub.status.idle": "2021-04-04T23:15:12.482195Z",
     "shell.execute_reply": "2021-04-04T23:15:12.481414Z"
    },
    "papermill": {
     "duration": 0.040689,
     "end_time": "2021-04-04T23:15:12.482385",
     "exception": false,
     "start_time": "2021-04-04T23:15:12.441696",
     "status": "completed"
    },
    "tags": []
   },
   "outputs": [],
   "source": [
    "from math import sqrt\n",
    "\n",
    "\n",
    "class KNNDataDescription:\n",
    "    def __init__(self, k=5, outlier_threshold=1.0):\n",
    "        self.k = k\n",
    "        self.outlier_threshold = outlier_threshold\n",
    "        self.X = []\n",
    "    \n",
    "    def fit(self, X):\n",
    "        self.X = [features.to_list() for index, features in X.iterrows()]\n",
    "\n",
    "    def predict(self, entries):\n",
    "        return [self.predict_entry(features.to_list()) for index, features in entries.iterrows()]\n",
    "    \n",
    "    def predict_entry(self, entry):\n",
    "        kth_neighbor, kth_distance = self.get_kth_neighbor(entry, self.k)\n",
    "        kth_kth_neighbor, kth_kth_distance = self.get_kth_neighbor(kth_neighbor, self.k + 1)\n",
    "\n",
    "        outlier_score = kth_distance / (kth_kth_distance + 0.000001)\n",
    "\n",
    "        return 1 if outlier_score < self.outlier_threshold else -1\n",
    "        \n",
    "    def euclidean_distance(self, features1, features2):\n",
    "        distance = 0.0\n",
    "        for feat1, feat2 in zip(features1, features2):\n",
    "            distance += (feat1 - feat2)**2\n",
    "                \n",
    "        return sqrt(distance)\n",
    "\n",
    "    def get_neighbors(self, entry, k):\n",
    "        distance_to_data_points = [\n",
    "            (data_point, self.euclidean_distance(entry, data_point))\n",
    "            for data_point in self.X\n",
    "        ]\n",
    "        sorted_by_distance = sorted(distance_to_data_points, key=lambda tup: tup[1])\n",
    "        neighbors = sorted_by_distance[:k]\n",
    "        return neighbors\n",
    "\n",
    "    def get_kth_neighbor(self, entry, k):\n",
    "        neighbors = self.get_neighbors(entry, k)\n",
    "        return neighbors[-1]\n"
   ]
  },
  {
   "cell_type": "code",
   "execution_count": 21,
   "id": "1fa9ec1c",
   "metadata": {
    "execution": {
     "iopub.execute_input": "2021-04-04T23:15:12.536822Z",
     "iopub.status.busy": "2021-04-04T23:15:12.535776Z",
     "iopub.status.idle": "2021-04-04T23:15:12.558156Z",
     "shell.execute_reply": "2021-04-04T23:15:12.557035Z"
    },
    "papermill": {
     "duration": 0.049957,
     "end_time": "2021-04-04T23:15:12.558369",
     "exception": false,
     "start_time": "2021-04-04T23:15:12.508412",
     "status": "completed"
    },
    "tags": []
   },
   "outputs": [],
   "source": [
    "from sklearn.svm import OneClassSVM\n",
    "\n",
    "\n",
    "models = {\n",
    "    'oneclasssvm': OneClassSVM,\n",
    "    'knndatadescription': KNNDataDescription,\n",
    "}"
   ]
  },
  {
   "cell_type": "code",
   "execution_count": 22,
   "id": "4d72a0b1",
   "metadata": {
    "execution": {
     "iopub.execute_input": "2021-04-04T23:15:12.617867Z",
     "iopub.status.busy": "2021-04-04T23:15:12.617193Z",
     "iopub.status.idle": "2021-04-04T23:15:12.619284Z",
     "shell.execute_reply": "2021-04-04T23:15:12.619743Z"
    },
    "papermill": {
     "duration": 0.029349,
     "end_time": "2021-04-04T23:15:12.619894",
     "exception": false,
     "start_time": "2021-04-04T23:15:12.590545",
     "status": "completed"
    },
    "scrolled": true,
    "tags": []
   },
   "outputs": [],
   "source": [
    "model_cls = models[model_config['model_type']]\n",
    "model = model_cls(**model_config['hyperparameters'])"
   ]
  },
  {
   "cell_type": "markdown",
   "id": "e00cff3b",
   "metadata": {
    "papermill": {
     "duration": 0.022333,
     "end_time": "2021-04-04T23:15:12.667320",
     "exception": false,
     "start_time": "2021-04-04T23:15:12.644987",
     "status": "completed"
    },
    "tags": []
   },
   "source": [
    "# Fit"
   ]
  },
  {
   "cell_type": "code",
   "execution_count": 23,
   "id": "8b2ded89",
   "metadata": {
    "execution": {
     "iopub.execute_input": "2021-04-04T23:15:12.740974Z",
     "iopub.status.busy": "2021-04-04T23:15:12.717499Z",
     "iopub.status.idle": "2021-04-04T23:15:12.748361Z",
     "shell.execute_reply": "2021-04-04T23:15:12.750405Z"
    },
    "papermill": {
     "duration": 0.060463,
     "end_time": "2021-04-04T23:15:12.750667",
     "exception": false,
     "start_time": "2021-04-04T23:15:12.690204",
     "status": "completed"
    },
    "tags": []
   },
   "outputs": [],
   "source": [
    "model.fit(X_train)"
   ]
  },
  {
   "cell_type": "markdown",
   "id": "f99999f7",
   "metadata": {
    "papermill": {
     "duration": 0.022863,
     "end_time": "2021-04-04T23:15:12.799612",
     "exception": false,
     "start_time": "2021-04-04T23:15:12.776749",
     "status": "completed"
    },
    "tags": []
   },
   "source": [
    "# Predict"
   ]
  },
  {
   "cell_type": "code",
   "execution_count": 24,
   "id": "6536fbf7",
   "metadata": {
    "execution": {
     "iopub.execute_input": "2021-04-04T23:15:12.857621Z",
     "iopub.status.busy": "2021-04-04T23:15:12.851998Z",
     "iopub.status.idle": "2021-04-04T23:15:13.189175Z",
     "shell.execute_reply": "2021-04-04T23:15:13.188576Z"
    },
    "papermill": {
     "duration": 0.365016,
     "end_time": "2021-04-04T23:15:13.189293",
     "exception": false,
     "start_time": "2021-04-04T23:15:12.824277",
     "status": "completed"
    },
    "tags": []
   },
   "outputs": [],
   "source": [
    "predictions = model.predict(X_test)"
   ]
  },
  {
   "cell_type": "markdown",
   "id": "aa1c9881",
   "metadata": {
    "papermill": {
     "duration": 0.022574,
     "end_time": "2021-04-04T23:15:13.235302",
     "exception": false,
     "start_time": "2021-04-04T23:15:13.212728",
     "status": "completed"
    },
    "tags": []
   },
   "source": [
    "# Evaluate"
   ]
  },
  {
   "cell_type": "code",
   "execution_count": 25,
   "id": "894f0f04",
   "metadata": {
    "execution": {
     "iopub.execute_input": "2021-04-04T23:15:13.285736Z",
     "iopub.status.busy": "2021-04-04T23:15:13.285031Z",
     "iopub.status.idle": "2021-04-04T23:15:13.286926Z",
     "shell.execute_reply": "2021-04-04T23:15:13.287409Z"
    },
    "papermill": {
     "duration": 0.029029,
     "end_time": "2021-04-04T23:15:13.287555",
     "exception": false,
     "start_time": "2021-04-04T23:15:13.258526",
     "status": "completed"
    },
    "tags": []
   },
   "outputs": [],
   "source": [
    "from sklearn.metrics import f1_score"
   ]
  },
  {
   "cell_type": "code",
   "execution_count": 26,
   "id": "211744d3",
   "metadata": {
    "execution": {
     "iopub.execute_input": "2021-04-04T23:15:13.342126Z",
     "iopub.status.busy": "2021-04-04T23:15:13.341229Z",
     "iopub.status.idle": "2021-04-04T23:15:13.344777Z",
     "shell.execute_reply": "2021-04-04T23:15:13.345659Z"
    },
    "papermill": {
     "duration": 0.032997,
     "end_time": "2021-04-04T23:15:13.345865",
     "exception": false,
     "start_time": "2021-04-04T23:15:13.312868",
     "status": "completed"
    },
    "tags": []
   },
   "outputs": [],
   "source": [
    "y_test = y_test.replace([0, 1], [1, -1])"
   ]
  },
  {
   "cell_type": "code",
   "execution_count": 27,
   "id": "d68a9204",
   "metadata": {
    "execution": {
     "iopub.execute_input": "2021-04-04T23:15:13.407115Z",
     "iopub.status.busy": "2021-04-04T23:15:13.405849Z",
     "iopub.status.idle": "2021-04-04T23:15:13.408005Z",
     "shell.execute_reply": "2021-04-04T23:15:13.408506Z"
    },
    "papermill": {
     "duration": 0.036744,
     "end_time": "2021-04-04T23:15:13.408666",
     "exception": false,
     "start_time": "2021-04-04T23:15:13.371922",
     "status": "completed"
    },
    "tags": []
   },
   "outputs": [],
   "source": [
    "def evaluate(truths, predictions, pos_label, neg_label):\n",
    "    TP = 0\n",
    "    FP = 0\n",
    "    TN = 0\n",
    "    FN = 0\n",
    "\n",
    "    for truth, pred in zip(truths, predictions): \n",
    "        if truth == pred == pos_label:\n",
    "           TP += 1\n",
    "        elif pred == pos_label and truth == neg_label:\n",
    "           FP += 1\n",
    "        elif truth == pred == neg_label:\n",
    "           TN += 1\n",
    "        elif pred == neg_label and truth == pos_label:\n",
    "           FN += 1\n",
    "\n",
    "    precision = TP / (TP + FP)\n",
    "    sensitivity = TP / (TP + FN)\n",
    "    \n",
    "    return {\n",
    "        'true_pos': TP,\n",
    "        'false_pos': FP,\n",
    "        'false_neg': FN,\n",
    "        'true_neg': TN,\n",
    "        'precision': precision,\n",
    "        'sensitivity': sensitivity,\n",
    "        'f1': (2 * (precision * sensitivity)) / (precision + sensitivity)\n",
    "    }\n",
    "\n",
    "score = evaluate(y_test, predictions, pos_label=-1, neg_label=1)"
   ]
  },
  {
   "cell_type": "markdown",
   "id": "93596516",
   "metadata": {
    "papermill": {
     "duration": 0.023013,
     "end_time": "2021-04-04T23:15:13.455690",
     "exception": false,
     "start_time": "2021-04-04T23:15:13.432677",
     "status": "completed"
    },
    "tags": []
   },
   "source": [
    "# Report"
   ]
  },
  {
   "cell_type": "code",
   "execution_count": 28,
   "id": "bea5fba1",
   "metadata": {
    "execution": {
     "iopub.execute_input": "2021-04-04T23:15:13.509875Z",
     "iopub.status.busy": "2021-04-04T23:15:13.508932Z",
     "iopub.status.idle": "2021-04-04T23:15:13.511975Z",
     "shell.execute_reply": "2021-04-04T23:15:13.511303Z"
    },
    "papermill": {
     "duration": 0.033464,
     "end_time": "2021-04-04T23:15:13.512113",
     "exception": false,
     "start_time": "2021-04-04T23:15:13.478649",
     "status": "completed"
    },
    "tags": []
   },
   "outputs": [],
   "source": [
    "import csv\n",
    "\n",
    "\n",
    "dataset_config_name = DATASET_CONFIG_PATH.split('/')[-1].split('.')[0]\n",
    "model_config_name = MODEL_CONFIG_PATH.split('/')[-1].split('.')[0]\n",
    "configuration = f\"dataset_{dataset_config_name}-model_{model_config_name}\"\n",
    "\n",
    "with open('results.csv', 'a') as f:\n",
    "    report = dict({'configuration': configuration}, **score)\n",
    "    writer = csv.DictWriter(f, report.keys())\n",
    "    writer.writerow(report)"
   ]
  }
 ],
 "metadata": {
  "celltoolbar": "Tags",
  "kernelspec": {
   "display_name": "Python 3",
   "language": "python",
   "name": "python3"
  },
  "language_info": {
   "codemirror_mode": {
    "name": "ipython",
    "version": 3
   },
   "file_extension": ".py",
   "mimetype": "text/x-python",
   "name": "python",
   "nbconvert_exporter": "python",
   "pygments_lexer": "ipython3",
   "version": "3.9.1"
  },
  "papermill": {
   "default_parameters": {},
   "duration": 6.046071,
   "end_time": "2021-04-04T23:15:14.997772",
   "environment_variables": {},
   "exception": null,
   "input_path": "main.ipynb",
   "output_path": "runs/dataset_000106-model_000003.ipynb",
   "parameters": {
    "DATASET_CONFIG_PATH": "config/dataset/000106.json",
    "MODEL_CONFIG_PATH": "config/model/000003.json",
    "PROFILE_REPORTING": false
   },
   "start_time": "2021-04-04T23:15:08.951701",
   "version": "2.3.3"
  }
 },
 "nbformat": 4,
 "nbformat_minor": 5
}