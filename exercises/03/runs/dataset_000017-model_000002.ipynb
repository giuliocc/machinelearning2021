{
 "cells": [
  {
   "cell_type": "markdown",
   "id": "51c71c25",
   "metadata": {
    "papermill": {
     "duration": 0.046256,
     "end_time": "2021-04-04T22:29:26.978345",
     "exception": false,
     "start_time": "2021-04-04T22:29:26.932089",
     "status": "completed"
    },
    "tags": []
   },
   "source": [
    "# Parametrizing"
   ]
  },
  {
   "cell_type": "code",
   "execution_count": 1,
   "id": "3b136394",
   "metadata": {
    "execution": {
     "iopub.execute_input": "2021-04-04T22:29:27.057282Z",
     "iopub.status.busy": "2021-04-04T22:29:27.056188Z",
     "iopub.status.idle": "2021-04-04T22:29:27.059880Z",
     "shell.execute_reply": "2021-04-04T22:29:27.059040Z"
    },
    "papermill": {
     "duration": 0.044783,
     "end_time": "2021-04-04T22:29:27.060059",
     "exception": false,
     "start_time": "2021-04-04T22:29:27.015276",
     "status": "completed"
    },
    "tags": [
     "parameters"
    ]
   },
   "outputs": [],
   "source": [
    "DATASET_CONFIG_PATH = 'config/dataset/kc1_001.json'\n",
    "MODEL_CONFIG_PATH = 'config/model/knndd_001.json'\n",
    "PROFILE_REPORTING = False"
   ]
  },
  {
   "cell_type": "code",
   "execution_count": 2,
   "id": "ae35780f",
   "metadata": {
    "execution": {
     "iopub.execute_input": "2021-04-04T22:29:27.107062Z",
     "iopub.status.busy": "2021-04-04T22:29:27.105960Z",
     "iopub.status.idle": "2021-04-04T22:29:27.108475Z",
     "shell.execute_reply": "2021-04-04T22:29:27.109076Z"
    },
    "papermill": {
     "duration": 0.028937,
     "end_time": "2021-04-04T22:29:27.109342",
     "exception": false,
     "start_time": "2021-04-04T22:29:27.080405",
     "status": "completed"
    },
    "tags": [
     "injected-parameters"
    ]
   },
   "outputs": [],
   "source": [
    "# Parameters\n",
    "DATASET_CONFIG_PATH = \"config/dataset/000017.json\"\n",
    "MODEL_CONFIG_PATH = \"config/model/000002.json\"\n",
    "PROFILE_REPORTING = False\n"
   ]
  },
  {
   "cell_type": "code",
   "execution_count": 3,
   "id": "b80f2a10",
   "metadata": {
    "execution": {
     "iopub.execute_input": "2021-04-04T22:29:27.160500Z",
     "iopub.status.busy": "2021-04-04T22:29:27.159605Z",
     "iopub.status.idle": "2021-04-04T22:29:27.162643Z",
     "shell.execute_reply": "2021-04-04T22:29:27.163587Z"
    },
    "papermill": {
     "duration": 0.033182,
     "end_time": "2021-04-04T22:29:27.163907",
     "exception": false,
     "start_time": "2021-04-04T22:29:27.130725",
     "status": "completed"
    },
    "tags": []
   },
   "outputs": [],
   "source": [
    "import json\n",
    "\n",
    "\n",
    "with open(DATASET_CONFIG_PATH) as f:\n",
    "    dataset_config = json.load(f)\n",
    "\n",
    "with open(MODEL_CONFIG_PATH) as f:\n",
    "    model_config = json.load(f)"
   ]
  },
  {
   "cell_type": "markdown",
   "id": "9a4b0e2d",
   "metadata": {
    "papermill": {
     "duration": 0.019933,
     "end_time": "2021-04-04T22:29:27.204058",
     "exception": false,
     "start_time": "2021-04-04T22:29:27.184125",
     "status": "completed"
    },
    "tags": []
   },
   "source": [
    "# Profiling"
   ]
  },
  {
   "cell_type": "code",
   "execution_count": 4,
   "id": "a3e0289b",
   "metadata": {
    "execution": {
     "iopub.execute_input": "2021-04-04T22:29:27.251055Z",
     "iopub.status.busy": "2021-04-04T22:29:27.249825Z",
     "iopub.status.idle": "2021-04-04T22:29:28.925127Z",
     "shell.execute_reply": "2021-04-04T22:29:28.925738Z"
    },
    "papermill": {
     "duration": 1.701095,
     "end_time": "2021-04-04T22:29:28.926036",
     "exception": false,
     "start_time": "2021-04-04T22:29:27.224941",
     "status": "completed"
    },
    "tags": []
   },
   "outputs": [],
   "source": [
    "import pandas as pd\n",
    "from pandas_profiling import ProfileReport"
   ]
  },
  {
   "cell_type": "code",
   "execution_count": 5,
   "id": "ee6c0666",
   "metadata": {
    "execution": {
     "iopub.execute_input": "2021-04-04T22:29:28.983049Z",
     "iopub.status.busy": "2021-04-04T22:29:28.981934Z",
     "iopub.status.idle": "2021-04-04T22:29:29.000301Z",
     "shell.execute_reply": "2021-04-04T22:29:29.000976Z"
    },
    "papermill": {
     "duration": 0.05387,
     "end_time": "2021-04-04T22:29:29.001151",
     "exception": false,
     "start_time": "2021-04-04T22:29:28.947281",
     "status": "completed"
    },
    "tags": []
   },
   "outputs": [],
   "source": [
    "df = pd.read_csv(dataset_config['dataset_path'])"
   ]
  },
  {
   "cell_type": "code",
   "execution_count": 6,
   "id": "7eca6c4a",
   "metadata": {
    "execution": {
     "iopub.execute_input": "2021-04-04T22:29:29.066922Z",
     "iopub.status.busy": "2021-04-04T22:29:29.066202Z",
     "iopub.status.idle": "2021-04-04T22:29:29.068972Z",
     "shell.execute_reply": "2021-04-04T22:29:29.069427Z"
    },
    "papermill": {
     "duration": 0.044916,
     "end_time": "2021-04-04T22:29:29.069575",
     "exception": false,
     "start_time": "2021-04-04T22:29:29.024659",
     "status": "completed"
    },
    "tags": []
   },
   "outputs": [
    {
     "name": "stdout",
     "output_type": "stream",
     "text": [
      "<class 'pandas.core.frame.DataFrame'>\n",
      "RangeIndex: 2109 entries, 0 to 2108\n",
      "Data columns (total 23 columns):\n",
      " #   Column             Non-Null Count  Dtype  \n",
      "---  ------             --------------  -----  \n",
      " 0   id                 2109 non-null   int64  \n",
      " 1   loc                2109 non-null   float64\n",
      " 2   v(g)               2109 non-null   float64\n",
      " 3   ev(g)              2109 non-null   float64\n",
      " 4   iv(g)              2109 non-null   float64\n",
      " 5   n                  2109 non-null   float64\n",
      " 6   v                  2109 non-null   float64\n",
      " 7   l                  2109 non-null   float64\n",
      " 8   d                  2109 non-null   float64\n",
      " 9   i                  2109 non-null   float64\n",
      " 10  e                  2109 non-null   float64\n",
      " 11  b                  2109 non-null   float64\n",
      " 12  t                  2109 non-null   float64\n",
      " 13  lOCode             2109 non-null   int64  \n",
      " 14  lOComment          2109 non-null   int64  \n",
      " 15  lOBlank            2109 non-null   int64  \n",
      " 16  locCodeAndComment  2109 non-null   int64  \n",
      " 17  uniq_Op            2109 non-null   float64\n",
      " 18  uniq_Opnd          2109 non-null   float64\n",
      " 19  total_Op           2109 non-null   float64\n",
      " 20  total_Opnd         2109 non-null   float64\n",
      " 21  branchCount        2109 non-null   float64\n",
      " 22  defects            2109 non-null   bool   \n",
      "dtypes: bool(1), float64(17), int64(5)\n",
      "memory usage: 364.7 KB\n"
     ]
    }
   ],
   "source": [
    "df.info()"
   ]
  },
  {
   "cell_type": "code",
   "execution_count": 7,
   "id": "3638e5e8",
   "metadata": {
    "execution": {
     "iopub.execute_input": "2021-04-04T22:29:29.123028Z",
     "iopub.status.busy": "2021-04-04T22:29:29.122044Z",
     "iopub.status.idle": "2021-04-04T22:29:29.147606Z",
     "shell.execute_reply": "2021-04-04T22:29:29.148091Z"
    },
    "papermill": {
     "duration": 0.055961,
     "end_time": "2021-04-04T22:29:29.148234",
     "exception": false,
     "start_time": "2021-04-04T22:29:29.092273",
     "status": "completed"
    },
    "tags": []
   },
   "outputs": [
    {
     "data": {
      "text/html": [
       "<div>\n",
       "<style scoped>\n",
       "    .dataframe tbody tr th:only-of-type {\n",
       "        vertical-align: middle;\n",
       "    }\n",
       "\n",
       "    .dataframe tbody tr th {\n",
       "        vertical-align: top;\n",
       "    }\n",
       "\n",
       "    .dataframe thead th {\n",
       "        text-align: right;\n",
       "    }\n",
       "</style>\n",
       "<table border=\"1\" class=\"dataframe\">\n",
       "  <thead>\n",
       "    <tr style=\"text-align: right;\">\n",
       "      <th></th>\n",
       "      <th>id</th>\n",
       "      <th>loc</th>\n",
       "      <th>v(g)</th>\n",
       "      <th>ev(g)</th>\n",
       "      <th>iv(g)</th>\n",
       "      <th>n</th>\n",
       "      <th>v</th>\n",
       "      <th>l</th>\n",
       "      <th>d</th>\n",
       "      <th>i</th>\n",
       "      <th>...</th>\n",
       "      <th>lOCode</th>\n",
       "      <th>lOComment</th>\n",
       "      <th>lOBlank</th>\n",
       "      <th>locCodeAndComment</th>\n",
       "      <th>uniq_Op</th>\n",
       "      <th>uniq_Opnd</th>\n",
       "      <th>total_Op</th>\n",
       "      <th>total_Opnd</th>\n",
       "      <th>branchCount</th>\n",
       "      <th>defects</th>\n",
       "    </tr>\n",
       "  </thead>\n",
       "  <tbody>\n",
       "    <tr>\n",
       "      <th>0</th>\n",
       "      <td>1</td>\n",
       "      <td>1.1</td>\n",
       "      <td>1.4</td>\n",
       "      <td>1.4</td>\n",
       "      <td>1.4</td>\n",
       "      <td>1.3</td>\n",
       "      <td>1.30</td>\n",
       "      <td>1.30</td>\n",
       "      <td>1.30</td>\n",
       "      <td>1.30</td>\n",
       "      <td>...</td>\n",
       "      <td>2</td>\n",
       "      <td>2</td>\n",
       "      <td>2</td>\n",
       "      <td>2</td>\n",
       "      <td>1.2</td>\n",
       "      <td>1.2</td>\n",
       "      <td>1.2</td>\n",
       "      <td>1.2</td>\n",
       "      <td>1.4</td>\n",
       "      <td>False</td>\n",
       "    </tr>\n",
       "    <tr>\n",
       "      <th>1</th>\n",
       "      <td>2</td>\n",
       "      <td>1.0</td>\n",
       "      <td>1.0</td>\n",
       "      <td>1.0</td>\n",
       "      <td>1.0</td>\n",
       "      <td>1.0</td>\n",
       "      <td>1.00</td>\n",
       "      <td>1.00</td>\n",
       "      <td>1.00</td>\n",
       "      <td>1.00</td>\n",
       "      <td>...</td>\n",
       "      <td>1</td>\n",
       "      <td>1</td>\n",
       "      <td>1</td>\n",
       "      <td>1</td>\n",
       "      <td>1.0</td>\n",
       "      <td>1.0</td>\n",
       "      <td>1.0</td>\n",
       "      <td>1.0</td>\n",
       "      <td>1.0</td>\n",
       "      <td>True</td>\n",
       "    </tr>\n",
       "    <tr>\n",
       "      <th>2</th>\n",
       "      <td>3</td>\n",
       "      <td>83.0</td>\n",
       "      <td>11.0</td>\n",
       "      <td>1.0</td>\n",
       "      <td>11.0</td>\n",
       "      <td>171.0</td>\n",
       "      <td>927.89</td>\n",
       "      <td>0.04</td>\n",
       "      <td>23.04</td>\n",
       "      <td>40.27</td>\n",
       "      <td>...</td>\n",
       "      <td>65</td>\n",
       "      <td>10</td>\n",
       "      <td>6</td>\n",
       "      <td>0</td>\n",
       "      <td>18.0</td>\n",
       "      <td>25.0</td>\n",
       "      <td>107.0</td>\n",
       "      <td>64.0</td>\n",
       "      <td>21.0</td>\n",
       "      <td>True</td>\n",
       "    </tr>\n",
       "    <tr>\n",
       "      <th>3</th>\n",
       "      <td>4</td>\n",
       "      <td>46.0</td>\n",
       "      <td>8.0</td>\n",
       "      <td>6.0</td>\n",
       "      <td>8.0</td>\n",
       "      <td>141.0</td>\n",
       "      <td>769.78</td>\n",
       "      <td>0.07</td>\n",
       "      <td>14.86</td>\n",
       "      <td>51.81</td>\n",
       "      <td>...</td>\n",
       "      <td>37</td>\n",
       "      <td>2</td>\n",
       "      <td>5</td>\n",
       "      <td>0</td>\n",
       "      <td>16.0</td>\n",
       "      <td>28.0</td>\n",
       "      <td>89.0</td>\n",
       "      <td>52.0</td>\n",
       "      <td>15.0</td>\n",
       "      <td>True</td>\n",
       "    </tr>\n",
       "    <tr>\n",
       "      <th>4</th>\n",
       "      <td>5</td>\n",
       "      <td>25.0</td>\n",
       "      <td>3.0</td>\n",
       "      <td>1.0</td>\n",
       "      <td>3.0</td>\n",
       "      <td>58.0</td>\n",
       "      <td>254.75</td>\n",
       "      <td>0.11</td>\n",
       "      <td>9.35</td>\n",
       "      <td>27.25</td>\n",
       "      <td>...</td>\n",
       "      <td>21</td>\n",
       "      <td>0</td>\n",
       "      <td>2</td>\n",
       "      <td>0</td>\n",
       "      <td>11.0</td>\n",
       "      <td>10.0</td>\n",
       "      <td>41.0</td>\n",
       "      <td>17.0</td>\n",
       "      <td>5.0</td>\n",
       "      <td>True</td>\n",
       "    </tr>\n",
       "  </tbody>\n",
       "</table>\n",
       "<p>5 rows × 23 columns</p>\n",
       "</div>"
      ],
      "text/plain": [
       "   id   loc  v(g)  ev(g)  iv(g)      n       v     l      d      i  ...  \\\n",
       "0   1   1.1   1.4    1.4    1.4    1.3    1.30  1.30   1.30   1.30  ...   \n",
       "1   2   1.0   1.0    1.0    1.0    1.0    1.00  1.00   1.00   1.00  ...   \n",
       "2   3  83.0  11.0    1.0   11.0  171.0  927.89  0.04  23.04  40.27  ...   \n",
       "3   4  46.0   8.0    6.0    8.0  141.0  769.78  0.07  14.86  51.81  ...   \n",
       "4   5  25.0   3.0    1.0    3.0   58.0  254.75  0.11   9.35  27.25  ...   \n",
       "\n",
       "   lOCode  lOComment  lOBlank  locCodeAndComment  uniq_Op  uniq_Opnd  \\\n",
       "0       2          2        2                  2      1.2        1.2   \n",
       "1       1          1        1                  1      1.0        1.0   \n",
       "2      65         10        6                  0     18.0       25.0   \n",
       "3      37          2        5                  0     16.0       28.0   \n",
       "4      21          0        2                  0     11.0       10.0   \n",
       "\n",
       "   total_Op  total_Opnd  branchCount  defects  \n",
       "0       1.2         1.2          1.4    False  \n",
       "1       1.0         1.0          1.0     True  \n",
       "2     107.0        64.0         21.0     True  \n",
       "3      89.0        52.0         15.0     True  \n",
       "4      41.0        17.0          5.0     True  \n",
       "\n",
       "[5 rows x 23 columns]"
      ]
     },
     "execution_count": 7,
     "metadata": {},
     "output_type": "execute_result"
    }
   ],
   "source": [
    "df.head()"
   ]
  },
  {
   "cell_type": "code",
   "execution_count": 8,
   "id": "733e95eb",
   "metadata": {
    "execution": {
     "iopub.execute_input": "2021-04-04T22:29:29.202618Z",
     "iopub.status.busy": "2021-04-04T22:29:29.201207Z",
     "iopub.status.idle": "2021-04-04T22:29:29.207364Z",
     "shell.execute_reply": "2021-04-04T22:29:29.206746Z"
    },
    "papermill": {
     "duration": 0.036594,
     "end_time": "2021-04-04T22:29:29.207512",
     "exception": false,
     "start_time": "2021-04-04T22:29:29.170918",
     "status": "completed"
    },
    "tags": []
   },
   "outputs": [],
   "source": [
    "del df['id']"
   ]
  },
  {
   "cell_type": "code",
   "execution_count": 9,
   "id": "6ff6f5b0",
   "metadata": {
    "execution": {
     "iopub.execute_input": "2021-04-04T22:29:29.264322Z",
     "iopub.status.busy": "2021-04-04T22:29:29.263063Z",
     "iopub.status.idle": "2021-04-04T22:29:29.265911Z",
     "shell.execute_reply": "2021-04-04T22:29:29.266438Z"
    },
    "papermill": {
     "duration": 0.033767,
     "end_time": "2021-04-04T22:29:29.266627",
     "exception": false,
     "start_time": "2021-04-04T22:29:29.232860",
     "status": "completed"
    },
    "tags": []
   },
   "outputs": [],
   "source": [
    "if PROFILE_REPORTING:\n",
    "    ProfileReport(df).to_widgets()"
   ]
  },
  {
   "cell_type": "markdown",
   "id": "1deaf3f0",
   "metadata": {
    "papermill": {
     "duration": 0.025951,
     "end_time": "2021-04-04T22:29:29.314194",
     "exception": false,
     "start_time": "2021-04-04T22:29:29.288243",
     "status": "completed"
    },
    "tags": []
   },
   "source": [
    "# Preprocess"
   ]
  },
  {
   "cell_type": "code",
   "execution_count": 10,
   "id": "1513e563",
   "metadata": {
    "execution": {
     "iopub.execute_input": "2021-04-04T22:29:29.376643Z",
     "iopub.status.busy": "2021-04-04T22:29:29.374971Z",
     "iopub.status.idle": "2021-04-04T22:29:29.378757Z",
     "shell.execute_reply": "2021-04-04T22:29:29.378166Z"
    },
    "papermill": {
     "duration": 0.042302,
     "end_time": "2021-04-04T22:29:29.378892",
     "exception": false,
     "start_time": "2021-04-04T22:29:29.336590",
     "status": "completed"
    },
    "tags": []
   },
   "outputs": [],
   "source": [
    "working_df = df.copy()"
   ]
  },
  {
   "cell_type": "code",
   "execution_count": 11,
   "id": "3b26d675",
   "metadata": {
    "execution": {
     "iopub.execute_input": "2021-04-04T22:29:29.462247Z",
     "iopub.status.busy": "2021-04-04T22:29:29.461097Z",
     "iopub.status.idle": "2021-04-04T22:29:29.463896Z",
     "shell.execute_reply": "2021-04-04T22:29:29.465315Z"
    },
    "papermill": {
     "duration": 0.053342,
     "end_time": "2021-04-04T22:29:29.465725",
     "exception": false,
     "start_time": "2021-04-04T22:29:29.412383",
     "status": "completed"
    },
    "tags": []
   },
   "outputs": [],
   "source": [
    "working_df['defects'] = working_df['defects'].replace([False, True], [0, 1])"
   ]
  },
  {
   "cell_type": "code",
   "execution_count": 12,
   "id": "eb48604f",
   "metadata": {
    "execution": {
     "iopub.execute_input": "2021-04-04T22:29:29.573403Z",
     "iopub.status.busy": "2021-04-04T22:29:29.572047Z",
     "iopub.status.idle": "2021-04-04T22:29:29.576078Z",
     "shell.execute_reply": "2021-04-04T22:29:29.577346Z"
    },
    "papermill": {
     "duration": 0.063156,
     "end_time": "2021-04-04T22:29:29.577649",
     "exception": false,
     "start_time": "2021-04-04T22:29:29.514493",
     "status": "completed"
    },
    "tags": []
   },
   "outputs": [],
   "source": [
    "for col in dataset_config['delete_columns']:\n",
    "    del working_df[col]"
   ]
  },
  {
   "cell_type": "code",
   "execution_count": 13,
   "id": "9a17bc29",
   "metadata": {
    "execution": {
     "iopub.execute_input": "2021-04-04T22:29:29.667701Z",
     "iopub.status.busy": "2021-04-04T22:29:29.666455Z",
     "iopub.status.idle": "2021-04-04T22:29:29.682530Z",
     "shell.execute_reply": "2021-04-04T22:29:29.683205Z"
    },
    "papermill": {
     "duration": 0.065963,
     "end_time": "2021-04-04T22:29:29.683402",
     "exception": false,
     "start_time": "2021-04-04T22:29:29.617439",
     "status": "completed"
    },
    "tags": []
   },
   "outputs": [],
   "source": [
    "working_df = working_df.drop_duplicates()"
   ]
  },
  {
   "cell_type": "markdown",
   "id": "a4d52ca6",
   "metadata": {
    "papermill": {
     "duration": 0.043778,
     "end_time": "2021-04-04T22:29:29.771587",
     "exception": false,
     "start_time": "2021-04-04T22:29:29.727809",
     "status": "completed"
    },
    "tags": []
   },
   "source": [
    "# Split"
   ]
  },
  {
   "cell_type": "code",
   "execution_count": 14,
   "id": "3e9ee4b5",
   "metadata": {
    "execution": {
     "iopub.execute_input": "2021-04-04T22:29:29.873720Z",
     "iopub.status.busy": "2021-04-04T22:29:29.870829Z",
     "iopub.status.idle": "2021-04-04T22:29:29.941972Z",
     "shell.execute_reply": "2021-04-04T22:29:29.942825Z"
    },
    "papermill": {
     "duration": 0.121858,
     "end_time": "2021-04-04T22:29:29.943188",
     "exception": false,
     "start_time": "2021-04-04T22:29:29.821330",
     "status": "completed"
    },
    "tags": []
   },
   "outputs": [],
   "source": [
    "from sklearn.model_selection import train_test_split"
   ]
  },
  {
   "cell_type": "code",
   "execution_count": 15,
   "id": "274004ce",
   "metadata": {
    "execution": {
     "iopub.execute_input": "2021-04-04T22:29:30.028440Z",
     "iopub.status.busy": "2021-04-04T22:29:30.027156Z",
     "iopub.status.idle": "2021-04-04T22:29:30.035961Z",
     "shell.execute_reply": "2021-04-04T22:29:30.036620Z"
    },
    "papermill": {
     "duration": 0.054667,
     "end_time": "2021-04-04T22:29:30.036898",
     "exception": false,
     "start_time": "2021-04-04T22:29:29.982231",
     "status": "completed"
    },
    "scrolled": true,
    "tags": []
   },
   "outputs": [],
   "source": [
    "inlier, outlier = working_df[working_df['defects'] == 0], working_df[working_df['defects'] == 1]"
   ]
  },
  {
   "cell_type": "code",
   "execution_count": 16,
   "id": "753c7b03",
   "metadata": {
    "execution": {
     "iopub.execute_input": "2021-04-04T22:29:30.096585Z",
     "iopub.status.busy": "2021-04-04T22:29:30.094528Z",
     "iopub.status.idle": "2021-04-04T22:29:30.102097Z",
     "shell.execute_reply": "2021-04-04T22:29:30.101574Z"
    },
    "papermill": {
     "duration": 0.039287,
     "end_time": "2021-04-04T22:29:30.102218",
     "exception": false,
     "start_time": "2021-04-04T22:29:30.062931",
     "status": "completed"
    },
    "tags": []
   },
   "outputs": [],
   "source": [
    "X_inlier = inlier.copy()\n",
    "y_inlier = X_inlier.pop('defects')\n",
    "X_outlier = outlier.copy()\n",
    "y_outlier = X_outlier.pop('defects')"
   ]
  },
  {
   "cell_type": "code",
   "execution_count": 17,
   "id": "2ba43193",
   "metadata": {
    "execution": {
     "iopub.execute_input": "2021-04-04T22:29:30.163255Z",
     "iopub.status.busy": "2021-04-04T22:29:30.162461Z",
     "iopub.status.idle": "2021-04-04T22:29:30.167060Z",
     "shell.execute_reply": "2021-04-04T22:29:30.166444Z"
    },
    "papermill": {
     "duration": 0.040309,
     "end_time": "2021-04-04T22:29:30.167181",
     "exception": false,
     "start_time": "2021-04-04T22:29:30.126872",
     "status": "completed"
    },
    "tags": []
   },
   "outputs": [],
   "source": [
    "test_size = dataset_config['test_size']\n",
    "random_state = dataset_config['random_state']\n",
    "\n",
    "X_inlier_train, X_inlier_test, y_inlier_train, y_inlier_test = train_test_split(\n",
    "    X_inlier,\n",
    "    y_inlier,\n",
    "    test_size=test_size,\n",
    "    random_state=random_state\n",
    ")"
   ]
  },
  {
   "cell_type": "code",
   "execution_count": 18,
   "id": "0b7582ca",
   "metadata": {
    "execution": {
     "iopub.execute_input": "2021-04-04T22:29:30.223696Z",
     "iopub.status.busy": "2021-04-04T22:29:30.221726Z",
     "iopub.status.idle": "2021-04-04T22:29:30.226750Z",
     "shell.execute_reply": "2021-04-04T22:29:30.225958Z"
    },
    "papermill": {
     "duration": 0.034013,
     "end_time": "2021-04-04T22:29:30.226906",
     "exception": false,
     "start_time": "2021-04-04T22:29:30.192893",
     "status": "completed"
    },
    "tags": []
   },
   "outputs": [],
   "source": [
    "test_outlier_size = dataset_config['test_outlier_size']\n",
    "if test_outlier_size > 0.0:\n",
    "    X_outlier_train, X_outlier_test, y_outlier_train, y_outlier_test = train_test_split(\n",
    "        X_outlier,\n",
    "        y_outlier,\n",
    "        test_size=test_outlier_size,\n",
    "        random_state=random_state\n",
    "    )\n",
    "else:\n",
    "    X_outlier_train, y_outlier_train = pd.DataFrame(columns=X_outlier.columns), pd.Series(dtype='int64')\n",
    "    X_outlier_test, y_outlier_test = X_outlier.copy(), y_outlier.copy()"
   ]
  },
  {
   "cell_type": "code",
   "execution_count": 19,
   "id": "c34363db",
   "metadata": {
    "execution": {
     "iopub.execute_input": "2021-04-04T22:29:30.288101Z",
     "iopub.status.busy": "2021-04-04T22:29:30.286948Z",
     "iopub.status.idle": "2021-04-04T22:29:30.293188Z",
     "shell.execute_reply": "2021-04-04T22:29:30.292215Z"
    },
    "papermill": {
     "duration": 0.041445,
     "end_time": "2021-04-04T22:29:30.293462",
     "exception": false,
     "start_time": "2021-04-04T22:29:30.252017",
     "status": "completed"
    },
    "tags": []
   },
   "outputs": [],
   "source": [
    "X_train, y_train = pd.concat([X_inlier_train, X_outlier_train], ignore_index=True), pd.concat([y_inlier_train, y_outlier_train], ignore_index=True)\n",
    "X_test, y_test = pd.concat([X_inlier_test, X_outlier_test], ignore_index=True), pd.concat([y_inlier_test, y_outlier_test], ignore_index=True)"
   ]
  },
  {
   "cell_type": "markdown",
   "id": "7cde7309",
   "metadata": {
    "papermill": {
     "duration": 0.027173,
     "end_time": "2021-04-04T22:29:30.344315",
     "exception": false,
     "start_time": "2021-04-04T22:29:30.317142",
     "status": "completed"
    },
    "tags": []
   },
   "source": [
    "# Model"
   ]
  },
  {
   "cell_type": "code",
   "execution_count": 20,
   "id": "2b12a415",
   "metadata": {
    "execution": {
     "iopub.execute_input": "2021-04-04T22:29:30.415789Z",
     "iopub.status.busy": "2021-04-04T22:29:30.415011Z",
     "iopub.status.idle": "2021-04-04T22:29:30.417952Z",
     "shell.execute_reply": "2021-04-04T22:29:30.417334Z"
    },
    "papermill": {
     "duration": 0.042209,
     "end_time": "2021-04-04T22:29:30.418092",
     "exception": false,
     "start_time": "2021-04-04T22:29:30.375883",
     "status": "completed"
    },
    "tags": []
   },
   "outputs": [],
   "source": [
    "from math import sqrt\n",
    "\n",
    "\n",
    "class KNNDataDescription:\n",
    "    def __init__(self, k=5, outlier_threshold=1.0):\n",
    "        self.k = k\n",
    "        self.outlier_threshold = outlier_threshold\n",
    "        self.X = []\n",
    "    \n",
    "    def fit(self, X):\n",
    "        self.X = [features.to_list() for index, features in X.iterrows()]\n",
    "\n",
    "    def predict(self, entries):\n",
    "        return [self.predict_entry(features.to_list()) for index, features in entries.iterrows()]\n",
    "    \n",
    "    def predict_entry(self, entry):\n",
    "        kth_neighbor, kth_distance = self.get_kth_neighbor(entry, self.k)\n",
    "        kth_kth_neighbor, kth_kth_distance = self.get_kth_neighbor(kth_neighbor, self.k + 1)\n",
    "\n",
    "        outlier_score = kth_distance / (kth_kth_distance + 0.000001)\n",
    "\n",
    "        return 1 if outlier_score < self.outlier_threshold else -1\n",
    "        \n",
    "    def euclidean_distance(self, features1, features2):\n",
    "        distance = 0.0\n",
    "        for feat1, feat2 in zip(features1, features2):\n",
    "            distance += (feat1 - feat2)**2\n",
    "                \n",
    "        return sqrt(distance)\n",
    "\n",
    "    def get_neighbors(self, entry, k):\n",
    "        distance_to_data_points = [\n",
    "            (data_point, self.euclidean_distance(entry, data_point))\n",
    "            for data_point in self.X\n",
    "        ]\n",
    "        sorted_by_distance = sorted(distance_to_data_points, key=lambda tup: tup[1])\n",
    "        neighbors = sorted_by_distance[:k]\n",
    "        return neighbors\n",
    "\n",
    "    def get_kth_neighbor(self, entry, k):\n",
    "        neighbors = self.get_neighbors(entry, k)\n",
    "        return neighbors[-1]\n"
   ]
  },
  {
   "cell_type": "code",
   "execution_count": 21,
   "id": "1fa9ec1c",
   "metadata": {
    "execution": {
     "iopub.execute_input": "2021-04-04T22:29:30.469972Z",
     "iopub.status.busy": "2021-04-04T22:29:30.469290Z",
     "iopub.status.idle": "2021-04-04T22:29:30.492261Z",
     "shell.execute_reply": "2021-04-04T22:29:30.492907Z"
    },
    "papermill": {
     "duration": 0.050222,
     "end_time": "2021-04-04T22:29:30.493180",
     "exception": false,
     "start_time": "2021-04-04T22:29:30.442958",
     "status": "completed"
    },
    "tags": []
   },
   "outputs": [],
   "source": [
    "from sklearn.svm import OneClassSVM\n",
    "\n",
    "\n",
    "models = {\n",
    "    'oneclasssvm': OneClassSVM,\n",
    "    'knndatadescription': KNNDataDescription,\n",
    "}"
   ]
  },
  {
   "cell_type": "code",
   "execution_count": 22,
   "id": "4d72a0b1",
   "metadata": {
    "execution": {
     "iopub.execute_input": "2021-04-04T22:29:30.549817Z",
     "iopub.status.busy": "2021-04-04T22:29:30.549067Z",
     "iopub.status.idle": "2021-04-04T22:29:30.551359Z",
     "shell.execute_reply": "2021-04-04T22:29:30.550864Z"
    },
    "papermill": {
     "duration": 0.034164,
     "end_time": "2021-04-04T22:29:30.551476",
     "exception": false,
     "start_time": "2021-04-04T22:29:30.517312",
     "status": "completed"
    },
    "scrolled": true,
    "tags": []
   },
   "outputs": [],
   "source": [
    "model_cls = models[model_config['model_type']]\n",
    "model = model_cls(**model_config['hyperparameters'])"
   ]
  },
  {
   "cell_type": "markdown",
   "id": "e00cff3b",
   "metadata": {
    "papermill": {
     "duration": 0.025926,
     "end_time": "2021-04-04T22:29:30.600596",
     "exception": false,
     "start_time": "2021-04-04T22:29:30.574670",
     "status": "completed"
    },
    "tags": []
   },
   "source": [
    "# Fit"
   ]
  },
  {
   "cell_type": "code",
   "execution_count": 23,
   "id": "8b2ded89",
   "metadata": {
    "execution": {
     "iopub.execute_input": "2021-04-04T22:29:30.655187Z",
     "iopub.status.busy": "2021-04-04T22:29:30.654249Z",
     "iopub.status.idle": "2021-04-04T22:29:30.702354Z",
     "shell.execute_reply": "2021-04-04T22:29:30.701832Z"
    },
    "papermill": {
     "duration": 0.079132,
     "end_time": "2021-04-04T22:29:30.702476",
     "exception": false,
     "start_time": "2021-04-04T22:29:30.623344",
     "status": "completed"
    },
    "tags": []
   },
   "outputs": [],
   "source": [
    "model.fit(X_train)"
   ]
  },
  {
   "cell_type": "markdown",
   "id": "f99999f7",
   "metadata": {
    "papermill": {
     "duration": 0.027067,
     "end_time": "2021-04-04T22:29:30.752560",
     "exception": false,
     "start_time": "2021-04-04T22:29:30.725493",
     "status": "completed"
    },
    "tags": []
   },
   "source": [
    "# Predict"
   ]
  },
  {
   "cell_type": "code",
   "execution_count": 24,
   "id": "6536fbf7",
   "metadata": {
    "execution": {
     "iopub.execute_input": "2021-04-04T22:29:30.873342Z",
     "iopub.status.busy": "2021-04-04T22:29:30.837959Z",
     "iopub.status.idle": "2021-04-04T22:29:33.774927Z",
     "shell.execute_reply": "2021-04-04T22:29:33.774239Z"
    },
    "papermill": {
     "duration": 2.996406,
     "end_time": "2021-04-04T22:29:33.775082",
     "exception": false,
     "start_time": "2021-04-04T22:29:30.778676",
     "status": "completed"
    },
    "tags": []
   },
   "outputs": [],
   "source": [
    "predictions = model.predict(X_test)"
   ]
  },
  {
   "cell_type": "markdown",
   "id": "aa1c9881",
   "metadata": {
    "papermill": {
     "duration": 0.024575,
     "end_time": "2021-04-04T22:29:33.823631",
     "exception": false,
     "start_time": "2021-04-04T22:29:33.799056",
     "status": "completed"
    },
    "tags": []
   },
   "source": [
    "# Evaluate"
   ]
  },
  {
   "cell_type": "code",
   "execution_count": 25,
   "id": "894f0f04",
   "metadata": {
    "execution": {
     "iopub.execute_input": "2021-04-04T22:29:33.880595Z",
     "iopub.status.busy": "2021-04-04T22:29:33.879586Z",
     "iopub.status.idle": "2021-04-04T22:29:33.882106Z",
     "shell.execute_reply": "2021-04-04T22:29:33.881544Z"
    },
    "papermill": {
     "duration": 0.034836,
     "end_time": "2021-04-04T22:29:33.882223",
     "exception": false,
     "start_time": "2021-04-04T22:29:33.847387",
     "status": "completed"
    },
    "tags": []
   },
   "outputs": [],
   "source": [
    "from sklearn.metrics import f1_score"
   ]
  },
  {
   "cell_type": "code",
   "execution_count": 26,
   "id": "211744d3",
   "metadata": {
    "execution": {
     "iopub.execute_input": "2021-04-04T22:29:33.935206Z",
     "iopub.status.busy": "2021-04-04T22:29:33.934341Z",
     "iopub.status.idle": "2021-04-04T22:29:33.936331Z",
     "shell.execute_reply": "2021-04-04T22:29:33.936828Z"
    },
    "papermill": {
     "duration": 0.031673,
     "end_time": "2021-04-04T22:29:33.936967",
     "exception": false,
     "start_time": "2021-04-04T22:29:33.905294",
     "status": "completed"
    },
    "tags": []
   },
   "outputs": [],
   "source": [
    "y_test = y_test.replace([0, 1], [1, -1])"
   ]
  },
  {
   "cell_type": "code",
   "execution_count": 27,
   "id": "d68a9204",
   "metadata": {
    "execution": {
     "iopub.execute_input": "2021-04-04T22:29:33.997913Z",
     "iopub.status.busy": "2021-04-04T22:29:33.997312Z",
     "iopub.status.idle": "2021-04-04T22:29:33.999294Z",
     "shell.execute_reply": "2021-04-04T22:29:33.999768Z"
    },
    "papermill": {
     "duration": 0.037451,
     "end_time": "2021-04-04T22:29:33.999915",
     "exception": false,
     "start_time": "2021-04-04T22:29:33.962464",
     "status": "completed"
    },
    "tags": []
   },
   "outputs": [],
   "source": [
    "def evaluate(truths, predictions, pos_label, neg_label):\n",
    "    TP = 0\n",
    "    FP = 0\n",
    "    TN = 0\n",
    "    FN = 0\n",
    "\n",
    "    for truth, pred in zip(truths, predictions): \n",
    "        if truth == pred == pos_label:\n",
    "           TP += 1\n",
    "        elif pred == pos_label and truth == neg_label:\n",
    "           FP += 1\n",
    "        elif truth == pred == neg_label:\n",
    "           TN += 1\n",
    "        elif pred == neg_label and truth == pos_label:\n",
    "           FN += 1\n",
    "\n",
    "    precision = TP / (TP + FP)\n",
    "    sensitivity = TP / (TP + FN)\n",
    "    \n",
    "    return {\n",
    "        'true_pos': TP,\n",
    "        'false_pos': FP,\n",
    "        'false_neg': FN,\n",
    "        'true_neg': TN,\n",
    "        'precision': precision,\n",
    "        'sensitivity': sensitivity,\n",
    "        'f1': (2 * (precision * sensitivity)) / (precision + sensitivity)\n",
    "    }\n",
    "\n",
    "score = evaluate(y_test, predictions, pos_label=-1, neg_label=1)"
   ]
  },
  {
   "cell_type": "markdown",
   "id": "93596516",
   "metadata": {
    "papermill": {
     "duration": 0.023984,
     "end_time": "2021-04-04T22:29:34.049064",
     "exception": false,
     "start_time": "2021-04-04T22:29:34.025080",
     "status": "completed"
    },
    "tags": []
   },
   "source": [
    "# Report"
   ]
  },
  {
   "cell_type": "code",
   "execution_count": 28,
   "id": "bea5fba1",
   "metadata": {
    "execution": {
     "iopub.execute_input": "2021-04-04T22:29:34.108857Z",
     "iopub.status.busy": "2021-04-04T22:29:34.107349Z",
     "iopub.status.idle": "2021-04-04T22:29:34.112846Z",
     "shell.execute_reply": "2021-04-04T22:29:34.112265Z"
    },
    "papermill": {
     "duration": 0.039098,
     "end_time": "2021-04-04T22:29:34.112990",
     "exception": false,
     "start_time": "2021-04-04T22:29:34.073892",
     "status": "completed"
    },
    "tags": []
   },
   "outputs": [],
   "source": [
    "import csv\n",
    "\n",
    "\n",
    "dataset_config_name = DATASET_CONFIG_PATH.split('/')[-1].split('.')[0]\n",
    "model_config_name = MODEL_CONFIG_PATH.split('/')[-1].split('.')[0]\n",
    "configuration = f\"dataset_{dataset_config_name}-model_{model_config_name}\"\n",
    "\n",
    "with open('results.csv', 'a') as f:\n",
    "    report = dict({'configuration': configuration}, **score)\n",
    "    writer = csv.DictWriter(f, report.keys())\n",
    "    writer.writerow(report)"
   ]
  }
 ],
 "metadata": {
  "celltoolbar": "Tags",
  "kernelspec": {
   "display_name": "Python 3",
   "language": "python",
   "name": "python3"
  },
  "language_info": {
   "codemirror_mode": {
    "name": "ipython",
    "version": 3
   },
   "file_extension": ".py",
   "mimetype": "text/x-python",
   "name": "python",
   "nbconvert_exporter": "python",
   "pygments_lexer": "ipython3",
   "version": "3.9.1"
  },
  "papermill": {
   "default_parameters": {},
   "duration": 8.887142,
   "end_time": "2021-04-04T22:29:34.847086",
   "environment_variables": {},
   "exception": null,
   "input_path": "main.ipynb",
   "output_path": "runs/dataset_000017-model_000002.ipynb",
   "parameters": {
    "DATASET_CONFIG_PATH": "config/dataset/000017.json",
    "MODEL_CONFIG_PATH": "config/model/000002.json",
    "PROFILE_REPORTING": false
   },
   "start_time": "2021-04-04T22:29:25.959944",
   "version": "2.3.3"
  }
 },
 "nbformat": 4,
 "nbformat_minor": 5
}