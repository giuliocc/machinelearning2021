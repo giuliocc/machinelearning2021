{
 "cells": [
  {
   "cell_type": "markdown",
   "id": "4588efca",
   "metadata": {
    "papermill": {
     "duration": 0.024217,
     "end_time": "2021-04-04T22:23:40.378403",
     "exception": false,
     "start_time": "2021-04-04T22:23:40.354186",
     "status": "completed"
    },
    "tags": []
   },
   "source": [
    "# Parametrizing"
   ]
  },
  {
   "cell_type": "code",
   "execution_count": 1,
   "id": "5964d9c0",
   "metadata": {
    "execution": {
     "iopub.execute_input": "2021-04-04T22:23:40.431859Z",
     "iopub.status.busy": "2021-04-04T22:23:40.431171Z",
     "iopub.status.idle": "2021-04-04T22:23:40.433995Z",
     "shell.execute_reply": "2021-04-04T22:23:40.433315Z"
    },
    "papermill": {
     "duration": 0.035657,
     "end_time": "2021-04-04T22:23:40.434132",
     "exception": false,
     "start_time": "2021-04-04T22:23:40.398475",
     "status": "completed"
    },
    "tags": [
     "parameters"
    ]
   },
   "outputs": [],
   "source": [
    "DATASET_CONFIG_PATH = 'config/dataset/kc1_001.json'\n",
    "MODEL_CONFIG_PATH = 'config/model/knndd_001.json'\n",
    "PROFILE_REPORTING = False"
   ]
  },
  {
   "cell_type": "code",
   "execution_count": 2,
   "id": "d836ebcf",
   "metadata": {
    "execution": {
     "iopub.execute_input": "2021-04-04T22:23:40.478895Z",
     "iopub.status.busy": "2021-04-04T22:23:40.477962Z",
     "iopub.status.idle": "2021-04-04T22:23:40.480571Z",
     "shell.execute_reply": "2021-04-04T22:23:40.481430Z"
    },
    "papermill": {
     "duration": 0.027297,
     "end_time": "2021-04-04T22:23:40.481668",
     "exception": false,
     "start_time": "2021-04-04T22:23:40.454371",
     "status": "completed"
    },
    "tags": [
     "injected-parameters"
    ]
   },
   "outputs": [],
   "source": [
    "# Parameters\n",
    "DATASET_CONFIG_PATH = \"config/dataset/000005.json\"\n",
    "MODEL_CONFIG_PATH = \"config/model/000004.json\"\n",
    "PROFILE_REPORTING = False\n"
   ]
  },
  {
   "cell_type": "code",
   "execution_count": 3,
   "id": "3fa67035",
   "metadata": {
    "execution": {
     "iopub.execute_input": "2021-04-04T22:23:40.534209Z",
     "iopub.status.busy": "2021-04-04T22:23:40.533264Z",
     "iopub.status.idle": "2021-04-04T22:23:40.536568Z",
     "shell.execute_reply": "2021-04-04T22:23:40.537474Z"
    },
    "papermill": {
     "duration": 0.031087,
     "end_time": "2021-04-04T22:23:40.537710",
     "exception": false,
     "start_time": "2021-04-04T22:23:40.506623",
     "status": "completed"
    },
    "tags": []
   },
   "outputs": [],
   "source": [
    "import json\n",
    "\n",
    "\n",
    "with open(DATASET_CONFIG_PATH) as f:\n",
    "    dataset_config = json.load(f)\n",
    "\n",
    "with open(MODEL_CONFIG_PATH) as f:\n",
    "    model_config = json.load(f)"
   ]
  },
  {
   "cell_type": "markdown",
   "id": "9a4b0e2d",
   "metadata": {
    "papermill": {
     "duration": 0.019153,
     "end_time": "2021-04-04T22:23:40.580693",
     "exception": false,
     "start_time": "2021-04-04T22:23:40.561540",
     "status": "completed"
    },
    "tags": []
   },
   "source": [
    "# Profiling"
   ]
  },
  {
   "cell_type": "code",
   "execution_count": 4,
   "id": "a3e0289b",
   "metadata": {
    "execution": {
     "iopub.execute_input": "2021-04-04T22:23:40.624425Z",
     "iopub.status.busy": "2021-04-04T22:23:40.623524Z",
     "iopub.status.idle": "2021-04-04T22:23:41.883275Z",
     "shell.execute_reply": "2021-04-04T22:23:41.884140Z"
    },
    "papermill": {
     "duration": 1.284393,
     "end_time": "2021-04-04T22:23:41.884385",
     "exception": false,
     "start_time": "2021-04-04T22:23:40.599992",
     "status": "completed"
    },
    "tags": []
   },
   "outputs": [],
   "source": [
    "import pandas as pd\n",
    "from pandas_profiling import ProfileReport"
   ]
  },
  {
   "cell_type": "code",
   "execution_count": 5,
   "id": "ee6c0666",
   "metadata": {
    "execution": {
     "iopub.execute_input": "2021-04-04T22:23:41.937300Z",
     "iopub.status.busy": "2021-04-04T22:23:41.936233Z",
     "iopub.status.idle": "2021-04-04T22:23:41.950337Z",
     "shell.execute_reply": "2021-04-04T22:23:41.949686Z"
    },
    "papermill": {
     "duration": 0.040381,
     "end_time": "2021-04-04T22:23:41.950462",
     "exception": false,
     "start_time": "2021-04-04T22:23:41.910081",
     "status": "completed"
    },
    "tags": []
   },
   "outputs": [],
   "source": [
    "df = pd.read_csv(dataset_config['dataset_path'])"
   ]
  },
  {
   "cell_type": "code",
   "execution_count": 6,
   "id": "20d45671",
   "metadata": {
    "execution": {
     "iopub.execute_input": "2021-04-04T22:23:41.995865Z",
     "iopub.status.busy": "2021-04-04T22:23:41.995257Z",
     "iopub.status.idle": "2021-04-04T22:23:42.013795Z",
     "shell.execute_reply": "2021-04-04T22:23:42.014485Z"
    },
    "papermill": {
     "duration": 0.044206,
     "end_time": "2021-04-04T22:23:42.014686",
     "exception": false,
     "start_time": "2021-04-04T22:23:41.970480",
     "status": "completed"
    },
    "tags": []
   },
   "outputs": [
    {
     "name": "stdout",
     "output_type": "stream",
     "text": [
      "<class 'pandas.core.frame.DataFrame'>\n",
      "RangeIndex: 2109 entries, 0 to 2108\n",
      "Data columns (total 23 columns):\n",
      " #   Column             Non-Null Count  Dtype  \n",
      "---  ------             --------------  -----  \n",
      " 0   id                 2109 non-null   int64  \n",
      " 1   loc                2109 non-null   float64\n",
      " 2   v(g)               2109 non-null   float64\n",
      " 3   ev(g)              2109 non-null   float64\n",
      " 4   iv(g)              2109 non-null   float64\n",
      " 5   n                  2109 non-null   float64\n",
      " 6   v                  2109 non-null   float64\n",
      " 7   l                  2109 non-null   float64\n",
      " 8   d                  2109 non-null   float64\n",
      " 9   i                  2109 non-null   float64\n",
      " 10  e                  2109 non-null   float64\n",
      " 11  b                  2109 non-null   float64\n",
      " 12  t                  2109 non-null   float64\n",
      " 13  lOCode             2109 non-null   int64  \n",
      " 14  lOComment          2109 non-null   int64  \n",
      " 15  lOBlank            2109 non-null   int64  \n",
      " 16  locCodeAndComment  2109 non-null   int64  \n",
      " 17  uniq_Op            2109 non-null   float64\n",
      " 18  uniq_Opnd          2109 non-null   float64\n",
      " 19  total_Op           2109 non-null   float64\n",
      " 20  total_Opnd         2109 non-null   float64\n",
      " 21  branchCount        2109 non-null   float64\n",
      " 22  defects            2109 non-null   bool   \n",
      "dtypes: bool(1), float64(17), int64(5)\n",
      "memory usage: 364.7 KB\n"
     ]
    }
   ],
   "source": [
    "df.info()"
   ]
  },
  {
   "cell_type": "code",
   "execution_count": 7,
   "id": "a676db33",
   "metadata": {
    "execution": {
     "iopub.execute_input": "2021-04-04T22:23:42.074858Z",
     "iopub.status.busy": "2021-04-04T22:23:42.074230Z",
     "iopub.status.idle": "2021-04-04T22:23:42.105105Z",
     "shell.execute_reply": "2021-04-04T22:23:42.106019Z"
    },
    "papermill": {
     "duration": 0.063967,
     "end_time": "2021-04-04T22:23:42.106267",
     "exception": false,
     "start_time": "2021-04-04T22:23:42.042300",
     "status": "completed"
    },
    "tags": []
   },
   "outputs": [
    {
     "data": {
      "text/html": [
       "<div>\n",
       "<style scoped>\n",
       "    .dataframe tbody tr th:only-of-type {\n",
       "        vertical-align: middle;\n",
       "    }\n",
       "\n",
       "    .dataframe tbody tr th {\n",
       "        vertical-align: top;\n",
       "    }\n",
       "\n",
       "    .dataframe thead th {\n",
       "        text-align: right;\n",
       "    }\n",
       "</style>\n",
       "<table border=\"1\" class=\"dataframe\">\n",
       "  <thead>\n",
       "    <tr style=\"text-align: right;\">\n",
       "      <th></th>\n",
       "      <th>id</th>\n",
       "      <th>loc</th>\n",
       "      <th>v(g)</th>\n",
       "      <th>ev(g)</th>\n",
       "      <th>iv(g)</th>\n",
       "      <th>n</th>\n",
       "      <th>v</th>\n",
       "      <th>l</th>\n",
       "      <th>d</th>\n",
       "      <th>i</th>\n",
       "      <th>...</th>\n",
       "      <th>lOCode</th>\n",
       "      <th>lOComment</th>\n",
       "      <th>lOBlank</th>\n",
       "      <th>locCodeAndComment</th>\n",
       "      <th>uniq_Op</th>\n",
       "      <th>uniq_Opnd</th>\n",
       "      <th>total_Op</th>\n",
       "      <th>total_Opnd</th>\n",
       "      <th>branchCount</th>\n",
       "      <th>defects</th>\n",
       "    </tr>\n",
       "  </thead>\n",
       "  <tbody>\n",
       "    <tr>\n",
       "      <th>0</th>\n",
       "      <td>1</td>\n",
       "      <td>1.1</td>\n",
       "      <td>1.4</td>\n",
       "      <td>1.4</td>\n",
       "      <td>1.4</td>\n",
       "      <td>1.3</td>\n",
       "      <td>1.30</td>\n",
       "      <td>1.30</td>\n",
       "      <td>1.30</td>\n",
       "      <td>1.30</td>\n",
       "      <td>...</td>\n",
       "      <td>2</td>\n",
       "      <td>2</td>\n",
       "      <td>2</td>\n",
       "      <td>2</td>\n",
       "      <td>1.2</td>\n",
       "      <td>1.2</td>\n",
       "      <td>1.2</td>\n",
       "      <td>1.2</td>\n",
       "      <td>1.4</td>\n",
       "      <td>False</td>\n",
       "    </tr>\n",
       "    <tr>\n",
       "      <th>1</th>\n",
       "      <td>2</td>\n",
       "      <td>1.0</td>\n",
       "      <td>1.0</td>\n",
       "      <td>1.0</td>\n",
       "      <td>1.0</td>\n",
       "      <td>1.0</td>\n",
       "      <td>1.00</td>\n",
       "      <td>1.00</td>\n",
       "      <td>1.00</td>\n",
       "      <td>1.00</td>\n",
       "      <td>...</td>\n",
       "      <td>1</td>\n",
       "      <td>1</td>\n",
       "      <td>1</td>\n",
       "      <td>1</td>\n",
       "      <td>1.0</td>\n",
       "      <td>1.0</td>\n",
       "      <td>1.0</td>\n",
       "      <td>1.0</td>\n",
       "      <td>1.0</td>\n",
       "      <td>True</td>\n",
       "    </tr>\n",
       "    <tr>\n",
       "      <th>2</th>\n",
       "      <td>3</td>\n",
       "      <td>83.0</td>\n",
       "      <td>11.0</td>\n",
       "      <td>1.0</td>\n",
       "      <td>11.0</td>\n",
       "      <td>171.0</td>\n",
       "      <td>927.89</td>\n",
       "      <td>0.04</td>\n",
       "      <td>23.04</td>\n",
       "      <td>40.27</td>\n",
       "      <td>...</td>\n",
       "      <td>65</td>\n",
       "      <td>10</td>\n",
       "      <td>6</td>\n",
       "      <td>0</td>\n",
       "      <td>18.0</td>\n",
       "      <td>25.0</td>\n",
       "      <td>107.0</td>\n",
       "      <td>64.0</td>\n",
       "      <td>21.0</td>\n",
       "      <td>True</td>\n",
       "    </tr>\n",
       "    <tr>\n",
       "      <th>3</th>\n",
       "      <td>4</td>\n",
       "      <td>46.0</td>\n",
       "      <td>8.0</td>\n",
       "      <td>6.0</td>\n",
       "      <td>8.0</td>\n",
       "      <td>141.0</td>\n",
       "      <td>769.78</td>\n",
       "      <td>0.07</td>\n",
       "      <td>14.86</td>\n",
       "      <td>51.81</td>\n",
       "      <td>...</td>\n",
       "      <td>37</td>\n",
       "      <td>2</td>\n",
       "      <td>5</td>\n",
       "      <td>0</td>\n",
       "      <td>16.0</td>\n",
       "      <td>28.0</td>\n",
       "      <td>89.0</td>\n",
       "      <td>52.0</td>\n",
       "      <td>15.0</td>\n",
       "      <td>True</td>\n",
       "    </tr>\n",
       "    <tr>\n",
       "      <th>4</th>\n",
       "      <td>5</td>\n",
       "      <td>25.0</td>\n",
       "      <td>3.0</td>\n",
       "      <td>1.0</td>\n",
       "      <td>3.0</td>\n",
       "      <td>58.0</td>\n",
       "      <td>254.75</td>\n",
       "      <td>0.11</td>\n",
       "      <td>9.35</td>\n",
       "      <td>27.25</td>\n",
       "      <td>...</td>\n",
       "      <td>21</td>\n",
       "      <td>0</td>\n",
       "      <td>2</td>\n",
       "      <td>0</td>\n",
       "      <td>11.0</td>\n",
       "      <td>10.0</td>\n",
       "      <td>41.0</td>\n",
       "      <td>17.0</td>\n",
       "      <td>5.0</td>\n",
       "      <td>True</td>\n",
       "    </tr>\n",
       "  </tbody>\n",
       "</table>\n",
       "<p>5 rows × 23 columns</p>\n",
       "</div>"
      ],
      "text/plain": [
       "   id   loc  v(g)  ev(g)  iv(g)      n       v     l      d      i  ...  \\\n",
       "0   1   1.1   1.4    1.4    1.4    1.3    1.30  1.30   1.30   1.30  ...   \n",
       "1   2   1.0   1.0    1.0    1.0    1.0    1.00  1.00   1.00   1.00  ...   \n",
       "2   3  83.0  11.0    1.0   11.0  171.0  927.89  0.04  23.04  40.27  ...   \n",
       "3   4  46.0   8.0    6.0    8.0  141.0  769.78  0.07  14.86  51.81  ...   \n",
       "4   5  25.0   3.0    1.0    3.0   58.0  254.75  0.11   9.35  27.25  ...   \n",
       "\n",
       "   lOCode  lOComment  lOBlank  locCodeAndComment  uniq_Op  uniq_Opnd  \\\n",
       "0       2          2        2                  2      1.2        1.2   \n",
       "1       1          1        1                  1      1.0        1.0   \n",
       "2      65         10        6                  0     18.0       25.0   \n",
       "3      37          2        5                  0     16.0       28.0   \n",
       "4      21          0        2                  0     11.0       10.0   \n",
       "\n",
       "   total_Op  total_Opnd  branchCount  defects  \n",
       "0       1.2         1.2          1.4    False  \n",
       "1       1.0         1.0          1.0     True  \n",
       "2     107.0        64.0         21.0     True  \n",
       "3      89.0        52.0         15.0     True  \n",
       "4      41.0        17.0          5.0     True  \n",
       "\n",
       "[5 rows x 23 columns]"
      ]
     },
     "execution_count": 7,
     "metadata": {},
     "output_type": "execute_result"
    }
   ],
   "source": [
    "df.head()"
   ]
  },
  {
   "cell_type": "code",
   "execution_count": 8,
   "id": "dd6aa244",
   "metadata": {
    "execution": {
     "iopub.execute_input": "2021-04-04T22:23:42.163128Z",
     "iopub.status.busy": "2021-04-04T22:23:42.162338Z",
     "iopub.status.idle": "2021-04-04T22:23:42.164854Z",
     "shell.execute_reply": "2021-04-04T22:23:42.165559Z"
    },
    "papermill": {
     "duration": 0.030174,
     "end_time": "2021-04-04T22:23:42.165759",
     "exception": false,
     "start_time": "2021-04-04T22:23:42.135585",
     "status": "completed"
    },
    "tags": []
   },
   "outputs": [],
   "source": [
    "del df['id']"
   ]
  },
  {
   "cell_type": "code",
   "execution_count": 9,
   "id": "6ff6f5b0",
   "metadata": {
    "execution": {
     "iopub.execute_input": "2021-04-04T22:23:42.221792Z",
     "iopub.status.busy": "2021-04-04T22:23:42.220803Z",
     "iopub.status.idle": "2021-04-04T22:23:42.223699Z",
     "shell.execute_reply": "2021-04-04T22:23:42.224415Z"
    },
    "papermill": {
     "duration": 0.031915,
     "end_time": "2021-04-04T22:23:42.224633",
     "exception": false,
     "start_time": "2021-04-04T22:23:42.192718",
     "status": "completed"
    },
    "tags": []
   },
   "outputs": [],
   "source": [
    "if PROFILE_REPORTING:\n",
    "    ProfileReport(df).to_widgets()"
   ]
  },
  {
   "cell_type": "markdown",
   "id": "1deaf3f0",
   "metadata": {
    "papermill": {
     "duration": 0.020686,
     "end_time": "2021-04-04T22:23:42.275074",
     "exception": false,
     "start_time": "2021-04-04T22:23:42.254388",
     "status": "completed"
    },
    "tags": []
   },
   "source": [
    "# Preprocess"
   ]
  },
  {
   "cell_type": "code",
   "execution_count": 10,
   "id": "9153b2bb",
   "metadata": {
    "execution": {
     "iopub.execute_input": "2021-04-04T22:23:42.335967Z",
     "iopub.status.busy": "2021-04-04T22:23:42.335297Z",
     "iopub.status.idle": "2021-04-04T22:23:42.338757Z",
     "shell.execute_reply": "2021-04-04T22:23:42.339510Z"
    },
    "papermill": {
     "duration": 0.039924,
     "end_time": "2021-04-04T22:23:42.339725",
     "exception": false,
     "start_time": "2021-04-04T22:23:42.299801",
     "status": "completed"
    },
    "tags": []
   },
   "outputs": [],
   "source": [
    "working_df = df.copy()"
   ]
  },
  {
   "cell_type": "code",
   "execution_count": 11,
   "id": "3b26d675",
   "metadata": {
    "execution": {
     "iopub.execute_input": "2021-04-04T22:23:42.398283Z",
     "iopub.status.busy": "2021-04-04T22:23:42.397449Z",
     "iopub.status.idle": "2021-04-04T22:23:42.399919Z",
     "shell.execute_reply": "2021-04-04T22:23:42.399408Z"
    },
    "papermill": {
     "duration": 0.030115,
     "end_time": "2021-04-04T22:23:42.400040",
     "exception": false,
     "start_time": "2021-04-04T22:23:42.369925",
     "status": "completed"
    },
    "tags": []
   },
   "outputs": [],
   "source": [
    "working_df['defects'] = working_df['defects'].replace([False, True], [0, 1])"
   ]
  },
  {
   "cell_type": "code",
   "execution_count": 12,
   "id": "5f306c3e",
   "metadata": {
    "execution": {
     "iopub.execute_input": "2021-04-04T22:23:42.451463Z",
     "iopub.status.busy": "2021-04-04T22:23:42.450397Z",
     "iopub.status.idle": "2021-04-04T22:23:42.453510Z",
     "shell.execute_reply": "2021-04-04T22:23:42.453007Z"
    },
    "papermill": {
     "duration": 0.031016,
     "end_time": "2021-04-04T22:23:42.453629",
     "exception": false,
     "start_time": "2021-04-04T22:23:42.422613",
     "status": "completed"
    },
    "tags": []
   },
   "outputs": [],
   "source": [
    "for col in dataset_config['delete_columns']:\n",
    "    del working_df[col]"
   ]
  },
  {
   "cell_type": "code",
   "execution_count": 13,
   "id": "a55074fa",
   "metadata": {
    "execution": {
     "iopub.execute_input": "2021-04-04T22:23:42.501283Z",
     "iopub.status.busy": "2021-04-04T22:23:42.500672Z",
     "iopub.status.idle": "2021-04-04T22:23:42.509001Z",
     "shell.execute_reply": "2021-04-04T22:23:42.508384Z"
    },
    "papermill": {
     "duration": 0.034211,
     "end_time": "2021-04-04T22:23:42.509125",
     "exception": false,
     "start_time": "2021-04-04T22:23:42.474914",
     "status": "completed"
    },
    "tags": []
   },
   "outputs": [],
   "source": [
    "working_df = working_df.drop_duplicates()"
   ]
  },
  {
   "cell_type": "markdown",
   "id": "a4d52ca6",
   "metadata": {
    "papermill": {
     "duration": 0.023185,
     "end_time": "2021-04-04T22:23:42.556364",
     "exception": false,
     "start_time": "2021-04-04T22:23:42.533179",
     "status": "completed"
    },
    "tags": []
   },
   "source": [
    "# Split"
   ]
  },
  {
   "cell_type": "code",
   "execution_count": 14,
   "id": "3e9ee4b5",
   "metadata": {
    "execution": {
     "iopub.execute_input": "2021-04-04T22:23:42.605251Z",
     "iopub.status.busy": "2021-04-04T22:23:42.604147Z",
     "iopub.status.idle": "2021-04-04T22:23:42.635847Z",
     "shell.execute_reply": "2021-04-04T22:23:42.635217Z"
    },
    "papermill": {
     "duration": 0.05725,
     "end_time": "2021-04-04T22:23:42.635991",
     "exception": false,
     "start_time": "2021-04-04T22:23:42.578741",
     "status": "completed"
    },
    "tags": []
   },
   "outputs": [],
   "source": [
    "from sklearn.model_selection import train_test_split"
   ]
  },
  {
   "cell_type": "code",
   "execution_count": 15,
   "id": "274004ce",
   "metadata": {
    "execution": {
     "iopub.execute_input": "2021-04-04T22:23:42.689891Z",
     "iopub.status.busy": "2021-04-04T22:23:42.689093Z",
     "iopub.status.idle": "2021-04-04T22:23:42.694925Z",
     "shell.execute_reply": "2021-04-04T22:23:42.694203Z"
    },
    "papermill": {
     "duration": 0.034132,
     "end_time": "2021-04-04T22:23:42.695071",
     "exception": false,
     "start_time": "2021-04-04T22:23:42.660939",
     "status": "completed"
    },
    "scrolled": true,
    "tags": []
   },
   "outputs": [],
   "source": [
    "inlier, outlier = working_df[working_df['defects'] == 0], working_df[working_df['defects'] == 1]"
   ]
  },
  {
   "cell_type": "code",
   "execution_count": 16,
   "id": "753c7b03",
   "metadata": {
    "execution": {
     "iopub.execute_input": "2021-04-04T22:23:42.754847Z",
     "iopub.status.busy": "2021-04-04T22:23:42.752467Z",
     "iopub.status.idle": "2021-04-04T22:23:42.759121Z",
     "shell.execute_reply": "2021-04-04T22:23:42.759698Z"
    },
    "papermill": {
     "duration": 0.038645,
     "end_time": "2021-04-04T22:23:42.759872",
     "exception": false,
     "start_time": "2021-04-04T22:23:42.721227",
     "status": "completed"
    },
    "tags": []
   },
   "outputs": [],
   "source": [
    "X_inlier = inlier.copy()\n",
    "y_inlier = X_inlier.pop('defects')\n",
    "X_outlier = outlier.copy()\n",
    "y_outlier = X_outlier.pop('defects')"
   ]
  },
  {
   "cell_type": "code",
   "execution_count": 17,
   "id": "2ba43193",
   "metadata": {
    "execution": {
     "iopub.execute_input": "2021-04-04T22:23:42.815521Z",
     "iopub.status.busy": "2021-04-04T22:23:42.814619Z",
     "iopub.status.idle": "2021-04-04T22:23:42.817330Z",
     "shell.execute_reply": "2021-04-04T22:23:42.818167Z"
    },
    "papermill": {
     "duration": 0.035249,
     "end_time": "2021-04-04T22:23:42.818400",
     "exception": false,
     "start_time": "2021-04-04T22:23:42.783151",
     "status": "completed"
    },
    "tags": []
   },
   "outputs": [],
   "source": [
    "test_size = dataset_config['test_size']\n",
    "random_state = dataset_config['random_state']\n",
    "\n",
    "X_inlier_train, X_inlier_test, y_inlier_train, y_inlier_test = train_test_split(\n",
    "    X_inlier,\n",
    "    y_inlier,\n",
    "    test_size=test_size,\n",
    "    random_state=random_state\n",
    ")"
   ]
  },
  {
   "cell_type": "code",
   "execution_count": 18,
   "id": "c8b58ec3",
   "metadata": {
    "execution": {
     "iopub.execute_input": "2021-04-04T22:23:42.883970Z",
     "iopub.status.busy": "2021-04-04T22:23:42.882598Z",
     "iopub.status.idle": "2021-04-04T22:23:42.885538Z",
     "shell.execute_reply": "2021-04-04T22:23:42.886372Z"
    },
    "papermill": {
     "duration": 0.037966,
     "end_time": "2021-04-04T22:23:42.886611",
     "exception": false,
     "start_time": "2021-04-04T22:23:42.848645",
     "status": "completed"
    },
    "tags": []
   },
   "outputs": [],
   "source": [
    "test_outlier_size = dataset_config['test_outlier_size']\n",
    "if test_outlier_size > 0.0:\n",
    "    X_outlier_train, X_outlier_test, y_outlier_train, y_outlier_test = train_test_split(\n",
    "        X_outlier,\n",
    "        y_outlier,\n",
    "        test_size=test_outlier_size,\n",
    "        random_state=random_state\n",
    "    )\n",
    "else:\n",
    "    X_outlier_train, y_outlier_train = pd.DataFrame(columns=X_outlier.columns), pd.Series(dtype='int64')\n",
    "    X_outlier_test, y_outlier_test = X_outlier.copy(), y_outlier.copy()"
   ]
  },
  {
   "cell_type": "code",
   "execution_count": 19,
   "id": "95991685",
   "metadata": {
    "execution": {
     "iopub.execute_input": "2021-04-04T22:23:42.947496Z",
     "iopub.status.busy": "2021-04-04T22:23:42.946453Z",
     "iopub.status.idle": "2021-04-04T22:23:42.949505Z",
     "shell.execute_reply": "2021-04-04T22:23:42.950008Z"
    },
    "papermill": {
     "duration": 0.036178,
     "end_time": "2021-04-04T22:23:42.950161",
     "exception": false,
     "start_time": "2021-04-04T22:23:42.913983",
     "status": "completed"
    },
    "tags": []
   },
   "outputs": [],
   "source": [
    "X_train, y_train = pd.concat([X_inlier_train, X_outlier_train], ignore_index=True), pd.concat([y_inlier_train, y_outlier_train], ignore_index=True)\n",
    "X_test, y_test = pd.concat([X_inlier_test, X_outlier_test], ignore_index=True), pd.concat([y_inlier_test, y_outlier_test], ignore_index=True)"
   ]
  },
  {
   "cell_type": "markdown",
   "id": "7cde7309",
   "metadata": {
    "papermill": {
     "duration": 0.022121,
     "end_time": "2021-04-04T22:23:42.995273",
     "exception": false,
     "start_time": "2021-04-04T22:23:42.973152",
     "status": "completed"
    },
    "tags": []
   },
   "source": [
    "# Model"
   ]
  },
  {
   "cell_type": "code",
   "execution_count": 20,
   "id": "a02c5c85",
   "metadata": {
    "execution": {
     "iopub.execute_input": "2021-04-04T22:23:43.051526Z",
     "iopub.status.busy": "2021-04-04T22:23:43.050793Z",
     "iopub.status.idle": "2021-04-04T22:23:43.052965Z",
     "shell.execute_reply": "2021-04-04T22:23:43.053558Z"
    },
    "papermill": {
     "duration": 0.036205,
     "end_time": "2021-04-04T22:23:43.053721",
     "exception": false,
     "start_time": "2021-04-04T22:23:43.017516",
     "status": "completed"
    },
    "tags": []
   },
   "outputs": [],
   "source": [
    "from math import sqrt\n",
    "\n",
    "\n",
    "class KNNDataDescription:\n",
    "    def __init__(self, k=5, outlier_threshold=1.0):\n",
    "        self.k = k\n",
    "        self.outlier_threshold = outlier_threshold\n",
    "        self.X = []\n",
    "    \n",
    "    def fit(self, X):\n",
    "        self.X = [features.to_list() for index, features in X.iterrows()]\n",
    "\n",
    "    def predict(self, entries):\n",
    "        return [self.predict_entry(features.to_list()) for index, features in entries.iterrows()]\n",
    "    \n",
    "    def predict_entry(self, entry):\n",
    "        kth_neighbor, kth_distance = self.get_kth_neighbor(entry, self.k)\n",
    "        kth_kth_neighbor, kth_kth_distance = self.get_kth_neighbor(kth_neighbor, self.k + 1)\n",
    "\n",
    "        outlier_score = kth_distance / (kth_kth_distance + 0.000001)\n",
    "\n",
    "        return 1 if outlier_score < self.outlier_threshold else -1\n",
    "        \n",
    "    def euclidean_distance(self, features1, features2):\n",
    "        distance = 0.0\n",
    "        for feat1, feat2 in zip(features1, features2):\n",
    "            distance += (feat1 - feat2)**2\n",
    "                \n",
    "        return sqrt(distance)\n",
    "\n",
    "    def get_neighbors(self, entry, k):\n",
    "        distance_to_data_points = [\n",
    "            (data_point, self.euclidean_distance(entry, data_point))\n",
    "            for data_point in self.X\n",
    "        ]\n",
    "        sorted_by_distance = sorted(distance_to_data_points, key=lambda tup: tup[1])\n",
    "        neighbors = sorted_by_distance[:k]\n",
    "        return neighbors\n",
    "\n",
    "    def get_kth_neighbor(self, entry, k):\n",
    "        neighbors = self.get_neighbors(entry, k)\n",
    "        return neighbors[-1]\n"
   ]
  },
  {
   "cell_type": "code",
   "execution_count": 21,
   "id": "1fa9ec1c",
   "metadata": {
    "execution": {
     "iopub.execute_input": "2021-04-04T22:23:43.106040Z",
     "iopub.status.busy": "2021-04-04T22:23:43.105305Z",
     "iopub.status.idle": "2021-04-04T22:23:43.126276Z",
     "shell.execute_reply": "2021-04-04T22:23:43.126807Z"
    },
    "papermill": {
     "duration": 0.048344,
     "end_time": "2021-04-04T22:23:43.126973",
     "exception": false,
     "start_time": "2021-04-04T22:23:43.078629",
     "status": "completed"
    },
    "tags": []
   },
   "outputs": [],
   "source": [
    "from sklearn.svm import OneClassSVM\n",
    "\n",
    "\n",
    "models = {\n",
    "    'oneclasssvm': OneClassSVM,\n",
    "    'knndatadescription': KNNDataDescription,\n",
    "}"
   ]
  },
  {
   "cell_type": "code",
   "execution_count": 22,
   "id": "4d72a0b1",
   "metadata": {
    "execution": {
     "iopub.execute_input": "2021-04-04T22:23:43.181995Z",
     "iopub.status.busy": "2021-04-04T22:23:43.181377Z",
     "iopub.status.idle": "2021-04-04T22:23:43.183509Z",
     "shell.execute_reply": "2021-04-04T22:23:43.184141Z"
    },
    "papermill": {
     "duration": 0.030804,
     "end_time": "2021-04-04T22:23:43.184312",
     "exception": false,
     "start_time": "2021-04-04T22:23:43.153508",
     "status": "completed"
    },
    "scrolled": true,
    "tags": []
   },
   "outputs": [],
   "source": [
    "model_cls = models[model_config['model_type']]\n",
    "model = model_cls(**model_config['hyperparameters'])"
   ]
  },
  {
   "cell_type": "markdown",
   "id": "e00cff3b",
   "metadata": {
    "papermill": {
     "duration": 0.022201,
     "end_time": "2021-04-04T22:23:43.231594",
     "exception": false,
     "start_time": "2021-04-04T22:23:43.209393",
     "status": "completed"
    },
    "tags": []
   },
   "source": [
    "# Fit"
   ]
  },
  {
   "cell_type": "code",
   "execution_count": 23,
   "id": "8b2ded89",
   "metadata": {
    "execution": {
     "iopub.execute_input": "2021-04-04T22:23:43.287575Z",
     "iopub.status.busy": "2021-04-04T22:23:43.286508Z",
     "iopub.status.idle": "2021-04-04T22:23:43.309229Z",
     "shell.execute_reply": "2021-04-04T22:23:43.310069Z"
    },
    "papermill": {
     "duration": 0.055492,
     "end_time": "2021-04-04T22:23:43.310294",
     "exception": false,
     "start_time": "2021-04-04T22:23:43.254802",
     "status": "completed"
    },
    "tags": []
   },
   "outputs": [
    {
     "data": {
      "text/plain": [
       "OneClassSVM()"
      ]
     },
     "execution_count": 23,
     "metadata": {},
     "output_type": "execute_result"
    }
   ],
   "source": [
    "model.fit(X_train)"
   ]
  },
  {
   "cell_type": "markdown",
   "id": "f99999f7",
   "metadata": {
    "papermill": {
     "duration": 0.028412,
     "end_time": "2021-04-04T22:23:43.365466",
     "exception": false,
     "start_time": "2021-04-04T22:23:43.337054",
     "status": "completed"
    },
    "tags": []
   },
   "source": [
    "# Predict"
   ]
  },
  {
   "cell_type": "code",
   "execution_count": 24,
   "id": "6536fbf7",
   "metadata": {
    "execution": {
     "iopub.execute_input": "2021-04-04T22:23:43.421280Z",
     "iopub.status.busy": "2021-04-04T22:23:43.419429Z",
     "iopub.status.idle": "2021-04-04T22:23:43.435593Z",
     "shell.execute_reply": "2021-04-04T22:23:43.435004Z"
    },
    "papermill": {
     "duration": 0.045579,
     "end_time": "2021-04-04T22:23:43.435715",
     "exception": false,
     "start_time": "2021-04-04T22:23:43.390136",
     "status": "completed"
    },
    "tags": []
   },
   "outputs": [],
   "source": [
    "predictions = model.predict(X_test)"
   ]
  },
  {
   "cell_type": "markdown",
   "id": "aa1c9881",
   "metadata": {
    "papermill": {
     "duration": 0.022738,
     "end_time": "2021-04-04T22:23:43.482310",
     "exception": false,
     "start_time": "2021-04-04T22:23:43.459572",
     "status": "completed"
    },
    "tags": []
   },
   "source": [
    "# Evaluate"
   ]
  },
  {
   "cell_type": "code",
   "execution_count": 25,
   "id": "894f0f04",
   "metadata": {
    "execution": {
     "iopub.execute_input": "2021-04-04T22:23:43.535797Z",
     "iopub.status.busy": "2021-04-04T22:23:43.535102Z",
     "iopub.status.idle": "2021-04-04T22:23:43.537392Z",
     "shell.execute_reply": "2021-04-04T22:23:43.537922Z"
    },
    "papermill": {
     "duration": 0.03276,
     "end_time": "2021-04-04T22:23:43.538079",
     "exception": false,
     "start_time": "2021-04-04T22:23:43.505319",
     "status": "completed"
    },
    "tags": []
   },
   "outputs": [],
   "source": [
    "from sklearn.metrics import f1_score"
   ]
  },
  {
   "cell_type": "code",
   "execution_count": 26,
   "id": "211744d3",
   "metadata": {
    "execution": {
     "iopub.execute_input": "2021-04-04T22:23:43.592330Z",
     "iopub.status.busy": "2021-04-04T22:23:43.591523Z",
     "iopub.status.idle": "2021-04-04T22:23:43.593484Z",
     "shell.execute_reply": "2021-04-04T22:23:43.594016Z"
    },
    "papermill": {
     "duration": 0.030362,
     "end_time": "2021-04-04T22:23:43.594172",
     "exception": false,
     "start_time": "2021-04-04T22:23:43.563810",
     "status": "completed"
    },
    "tags": []
   },
   "outputs": [],
   "source": [
    "y_test = y_test.replace([0, 1], [1, -1])"
   ]
  },
  {
   "cell_type": "code",
   "execution_count": 27,
   "id": "d68a9204",
   "metadata": {
    "execution": {
     "iopub.execute_input": "2021-04-04T22:23:43.654569Z",
     "iopub.status.busy": "2021-04-04T22:23:43.653507Z",
     "iopub.status.idle": "2021-04-04T22:23:43.655858Z",
     "shell.execute_reply": "2021-04-04T22:23:43.656355Z"
    },
    "papermill": {
     "duration": 0.036954,
     "end_time": "2021-04-04T22:23:43.656507",
     "exception": false,
     "start_time": "2021-04-04T22:23:43.619553",
     "status": "completed"
    },
    "tags": []
   },
   "outputs": [],
   "source": [
    "def evaluate(truths, predictions, pos_label, neg_label):\n",
    "    TP = 0\n",
    "    FP = 0\n",
    "    TN = 0\n",
    "    FN = 0\n",
    "\n",
    "    for truth, pred in zip(truths, predictions): \n",
    "        if truth == pred == pos_label:\n",
    "           TP += 1\n",
    "        elif pred == pos_label and truth == neg_label:\n",
    "           FP += 1\n",
    "        elif truth == pred == neg_label:\n",
    "           TN += 1\n",
    "        elif pred == neg_label and truth == pos_label:\n",
    "           FN += 1\n",
    "        else:\n",
    "            __import__(\"ipdb\").set_trace()\n",
    "\n",
    "    precision = TP / (TP + FP)\n",
    "    sensitivity = TP / (TP + FN)\n",
    "    \n",
    "    return {\n",
    "        'true_pos': TP,\n",
    "        'false_pos': FP,\n",
    "        'false_neg': FN,\n",
    "        'true_neg': TN,\n",
    "        'precision': precision,\n",
    "        'sensitivity': sensitivity,\n",
    "        'f1': (2 * (precision * sensitivity)) / (precision + sensitivity)\n",
    "    }\n",
    "\n",
    "score = evaluate(y_test, predictions, pos_label=-1, neg_label=1)"
   ]
  },
  {
   "cell_type": "markdown",
   "id": "246fa8c7",
   "metadata": {
    "papermill": {
     "duration": 0.023247,
     "end_time": "2021-04-04T22:23:43.707124",
     "exception": false,
     "start_time": "2021-04-04T22:23:43.683877",
     "status": "completed"
    },
    "tags": []
   },
   "source": [
    "# Report"
   ]
  },
  {
   "cell_type": "code",
   "execution_count": 28,
   "id": "cfb47f85",
   "metadata": {
    "execution": {
     "iopub.execute_input": "2021-04-04T22:23:43.775048Z",
     "iopub.status.busy": "2021-04-04T22:23:43.773802Z",
     "iopub.status.idle": "2021-04-04T22:23:43.777734Z",
     "shell.execute_reply": "2021-04-04T22:23:43.776652Z"
    },
    "papermill": {
     "duration": 0.047594,
     "end_time": "2021-04-04T22:23:43.777939",
     "exception": false,
     "start_time": "2021-04-04T22:23:43.730345",
     "status": "completed"
    },
    "tags": []
   },
   "outputs": [],
   "source": [
    "import csv\n",
    "\n",
    "\n",
    "dataset_config_name = DATASET_CONFIG_PATH.split('/')[-1].split('.')[0]\n",
    "model_config_name = MODEL_CONFIG_PATH.split('/')[-1].split('.')[0]\n",
    "configuration = f\"dataset_{dataset_config_name}-model_{model_config_name}\"\n",
    "\n",
    "with open('results.csv', 'a') as f:\n",
    "    report = dict({'configuration': configuration}, **score)\n",
    "    writer = csv.DictWriter(f, report.keys())\n",
    "    writer.writerow(report)"
   ]
  }
 ],
 "metadata": {
  "celltoolbar": "Tags",
  "kernelspec": {
   "display_name": "Python 3",
   "language": "python",
   "name": "python3"
  },
  "language_info": {
   "codemirror_mode": {
    "name": "ipython",
    "version": 3
   },
   "file_extension": ".py",
   "mimetype": "text/x-python",
   "name": "python",
   "nbconvert_exporter": "python",
   "pygments_lexer": "ipython3",
   "version": "3.9.1"
  },
  "papermill": {
   "default_parameters": {},
   "duration": 4.9096,
   "end_time": "2021-04-04T22:23:44.416090",
   "environment_variables": {},
   "exception": null,
   "input_path": "main.ipynb",
   "output_path": "runs/dataset_000005-model_000004.ipynb",
   "parameters": {
    "DATASET_CONFIG_PATH": "config/dataset/000005.json",
    "MODEL_CONFIG_PATH": "config/model/000004.json",
    "PROFILE_REPORTING": false
   },
   "start_time": "2021-04-04T22:23:39.506490",
   "version": "2.3.3"
  }
 },
 "nbformat": 4,
 "nbformat_minor": 5
}