{
 "cells": [
  {
   "cell_type": "markdown",
   "id": "51c71c25",
   "metadata": {
    "papermill": {
     "duration": 0.022901,
     "end_time": "2021-04-04T23:25:40.879970",
     "exception": false,
     "start_time": "2021-04-04T23:25:40.857069",
     "status": "completed"
    },
    "tags": []
   },
   "source": [
    "# Parametrizing"
   ]
  },
  {
   "cell_type": "code",
   "execution_count": 1,
   "id": "3b136394",
   "metadata": {
    "execution": {
     "iopub.execute_input": "2021-04-04T23:25:40.935328Z",
     "iopub.status.busy": "2021-04-04T23:25:40.934415Z",
     "iopub.status.idle": "2021-04-04T23:25:40.936941Z",
     "shell.execute_reply": "2021-04-04T23:25:40.936290Z"
    },
    "papermill": {
     "duration": 0.036664,
     "end_time": "2021-04-04T23:25:40.937069",
     "exception": false,
     "start_time": "2021-04-04T23:25:40.900405",
     "status": "completed"
    },
    "tags": [
     "parameters"
    ]
   },
   "outputs": [],
   "source": [
    "DATASET_CONFIG_PATH = 'config/dataset/kc1_001.json'\n",
    "MODEL_CONFIG_PATH = 'config/model/knndd_001.json'\n",
    "PROFILE_REPORTING = False"
   ]
  },
  {
   "cell_type": "code",
   "execution_count": 2,
   "id": "e1d63ce8",
   "metadata": {
    "execution": {
     "iopub.execute_input": "2021-04-04T23:25:40.984641Z",
     "iopub.status.busy": "2021-04-04T23:25:40.984037Z",
     "iopub.status.idle": "2021-04-04T23:25:40.985830Z",
     "shell.execute_reply": "2021-04-04T23:25:40.986305Z"
    },
    "papermill": {
     "duration": 0.02966,
     "end_time": "2021-04-04T23:25:40.986450",
     "exception": false,
     "start_time": "2021-04-04T23:25:40.956790",
     "status": "completed"
    },
    "tags": [
     "injected-parameters"
    ]
   },
   "outputs": [],
   "source": [
    "# Parameters\n",
    "DATASET_CONFIG_PATH = \"config/dataset/000132.json\"\n",
    "MODEL_CONFIG_PATH = \"config/model/000001.json\"\n",
    "PROFILE_REPORTING = False\n"
   ]
  },
  {
   "cell_type": "code",
   "execution_count": 3,
   "id": "b80f2a10",
   "metadata": {
    "execution": {
     "iopub.execute_input": "2021-04-04T23:25:41.036536Z",
     "iopub.status.busy": "2021-04-04T23:25:41.035925Z",
     "iopub.status.idle": "2021-04-04T23:25:41.038259Z",
     "shell.execute_reply": "2021-04-04T23:25:41.038746Z"
    },
    "papermill": {
     "duration": 0.032313,
     "end_time": "2021-04-04T23:25:41.038892",
     "exception": false,
     "start_time": "2021-04-04T23:25:41.006579",
     "status": "completed"
    },
    "tags": []
   },
   "outputs": [],
   "source": [
    "import json\n",
    "\n",
    "\n",
    "with open(DATASET_CONFIG_PATH) as f:\n",
    "    dataset_config = json.load(f)\n",
    "\n",
    "with open(MODEL_CONFIG_PATH) as f:\n",
    "    model_config = json.load(f)"
   ]
  },
  {
   "cell_type": "markdown",
   "id": "9a4b0e2d",
   "metadata": {
    "papermill": {
     "duration": 0.021844,
     "end_time": "2021-04-04T23:25:41.080957",
     "exception": false,
     "start_time": "2021-04-04T23:25:41.059113",
     "status": "completed"
    },
    "tags": []
   },
   "source": [
    "# Profiling"
   ]
  },
  {
   "cell_type": "code",
   "execution_count": 4,
   "id": "a3e0289b",
   "metadata": {
    "execution": {
     "iopub.execute_input": "2021-04-04T23:25:41.128988Z",
     "iopub.status.busy": "2021-04-04T23:25:41.127835Z",
     "iopub.status.idle": "2021-04-04T23:25:42.630427Z",
     "shell.execute_reply": "2021-04-04T23:25:42.629583Z"
    },
    "papermill": {
     "duration": 1.529552,
     "end_time": "2021-04-04T23:25:42.630690",
     "exception": false,
     "start_time": "2021-04-04T23:25:41.101138",
     "status": "completed"
    },
    "tags": []
   },
   "outputs": [],
   "source": [
    "import pandas as pd\n",
    "from pandas_profiling import ProfileReport"
   ]
  },
  {
   "cell_type": "code",
   "execution_count": 5,
   "id": "ee6c0666",
   "metadata": {
    "execution": {
     "iopub.execute_input": "2021-04-04T23:25:42.688177Z",
     "iopub.status.busy": "2021-04-04T23:25:42.686953Z",
     "iopub.status.idle": "2021-04-04T23:25:42.700133Z",
     "shell.execute_reply": "2021-04-04T23:25:42.698737Z"
    },
    "papermill": {
     "duration": 0.045142,
     "end_time": "2021-04-04T23:25:42.700365",
     "exception": false,
     "start_time": "2021-04-04T23:25:42.655223",
     "status": "completed"
    },
    "tags": []
   },
   "outputs": [],
   "source": [
    "df = pd.read_csv(dataset_config['dataset_path'])"
   ]
  },
  {
   "cell_type": "code",
   "execution_count": 6,
   "id": "7eca6c4a",
   "metadata": {
    "execution": {
     "iopub.execute_input": "2021-04-04T23:25:42.757256Z",
     "iopub.status.busy": "2021-04-04T23:25:42.754308Z",
     "iopub.status.idle": "2021-04-04T23:25:42.767289Z",
     "shell.execute_reply": "2021-04-04T23:25:42.766590Z"
    },
    "papermill": {
     "duration": 0.042219,
     "end_time": "2021-04-04T23:25:42.767451",
     "exception": false,
     "start_time": "2021-04-04T23:25:42.725232",
     "status": "completed"
    },
    "tags": []
   },
   "outputs": [
    {
     "name": "stdout",
     "output_type": "stream",
     "text": [
      "<class 'pandas.core.frame.DataFrame'>\n",
      "RangeIndex: 498 entries, 0 to 497\n",
      "Data columns (total 23 columns):\n",
      " #   Column             Non-Null Count  Dtype  \n",
      "---  ------             --------------  -----  \n",
      " 0   id                 498 non-null    int64  \n",
      " 1   loc                498 non-null    float64\n",
      " 2   v(g)               498 non-null    float64\n",
      " 3   ev(g)              498 non-null    float64\n",
      " 4   iv(g)              498 non-null    float64\n",
      " 5   n                  498 non-null    float64\n",
      " 6   v                  498 non-null    float64\n",
      " 7   l                  498 non-null    float64\n",
      " 8   d                  498 non-null    float64\n",
      " 9   i                  498 non-null    float64\n",
      " 10  e                  498 non-null    float64\n",
      " 11  b                  498 non-null    float64\n",
      " 12  t                  498 non-null    float64\n",
      " 13  lOCode             498 non-null    int64  \n",
      " 14  lOComment          498 non-null    int64  \n",
      " 15  lOBlank            498 non-null    int64  \n",
      " 16  locCodeAndComment  498 non-null    int64  \n",
      " 17  uniq_Op            498 non-null    float64\n",
      " 18  uniq_Opnd          498 non-null    float64\n",
      " 19  total_Op           498 non-null    float64\n",
      " 20  total_Opnd         498 non-null    float64\n",
      " 21  branchCount        498 non-null    float64\n",
      " 22  defects            498 non-null    bool   \n",
      "dtypes: bool(1), float64(17), int64(5)\n",
      "memory usage: 86.2 KB\n"
     ]
    }
   ],
   "source": [
    "df.info()"
   ]
  },
  {
   "cell_type": "code",
   "execution_count": 7,
   "id": "3638e5e8",
   "metadata": {
    "execution": {
     "iopub.execute_input": "2021-04-04T23:25:42.825761Z",
     "iopub.status.busy": "2021-04-04T23:25:42.824640Z",
     "iopub.status.idle": "2021-04-04T23:25:42.851746Z",
     "shell.execute_reply": "2021-04-04T23:25:42.851154Z"
    },
    "papermill": {
     "duration": 0.062162,
     "end_time": "2021-04-04T23:25:42.851866",
     "exception": false,
     "start_time": "2021-04-04T23:25:42.789704",
     "status": "completed"
    },
    "tags": []
   },
   "outputs": [
    {
     "data": {
      "text/html": [
       "<div>\n",
       "<style scoped>\n",
       "    .dataframe tbody tr th:only-of-type {\n",
       "        vertical-align: middle;\n",
       "    }\n",
       "\n",
       "    .dataframe tbody tr th {\n",
       "        vertical-align: top;\n",
       "    }\n",
       "\n",
       "    .dataframe thead th {\n",
       "        text-align: right;\n",
       "    }\n",
       "</style>\n",
       "<table border=\"1\" class=\"dataframe\">\n",
       "  <thead>\n",
       "    <tr style=\"text-align: right;\">\n",
       "      <th></th>\n",
       "      <th>id</th>\n",
       "      <th>loc</th>\n",
       "      <th>v(g)</th>\n",
       "      <th>ev(g)</th>\n",
       "      <th>iv(g)</th>\n",
       "      <th>n</th>\n",
       "      <th>v</th>\n",
       "      <th>l</th>\n",
       "      <th>d</th>\n",
       "      <th>i</th>\n",
       "      <th>...</th>\n",
       "      <th>lOCode</th>\n",
       "      <th>lOComment</th>\n",
       "      <th>lOBlank</th>\n",
       "      <th>locCodeAndComment</th>\n",
       "      <th>uniq_Op</th>\n",
       "      <th>uniq_Opnd</th>\n",
       "      <th>total_Op</th>\n",
       "      <th>total_Opnd</th>\n",
       "      <th>branchCount</th>\n",
       "      <th>defects</th>\n",
       "    </tr>\n",
       "  </thead>\n",
       "  <tbody>\n",
       "    <tr>\n",
       "      <th>0</th>\n",
       "      <td>1</td>\n",
       "      <td>1.1</td>\n",
       "      <td>1.4</td>\n",
       "      <td>1.4</td>\n",
       "      <td>1.4</td>\n",
       "      <td>1.3</td>\n",
       "      <td>1.30</td>\n",
       "      <td>1.30</td>\n",
       "      <td>1.30</td>\n",
       "      <td>1.30</td>\n",
       "      <td>...</td>\n",
       "      <td>2</td>\n",
       "      <td>2</td>\n",
       "      <td>2</td>\n",
       "      <td>2</td>\n",
       "      <td>1.2</td>\n",
       "      <td>1.2</td>\n",
       "      <td>1.2</td>\n",
       "      <td>1.2</td>\n",
       "      <td>1.4</td>\n",
       "      <td>False</td>\n",
       "    </tr>\n",
       "    <tr>\n",
       "      <th>1</th>\n",
       "      <td>2</td>\n",
       "      <td>1.0</td>\n",
       "      <td>1.0</td>\n",
       "      <td>1.0</td>\n",
       "      <td>1.0</td>\n",
       "      <td>1.0</td>\n",
       "      <td>1.00</td>\n",
       "      <td>1.00</td>\n",
       "      <td>1.00</td>\n",
       "      <td>1.00</td>\n",
       "      <td>...</td>\n",
       "      <td>1</td>\n",
       "      <td>1</td>\n",
       "      <td>1</td>\n",
       "      <td>1</td>\n",
       "      <td>1.0</td>\n",
       "      <td>1.0</td>\n",
       "      <td>1.0</td>\n",
       "      <td>1.0</td>\n",
       "      <td>1.0</td>\n",
       "      <td>True</td>\n",
       "    </tr>\n",
       "    <tr>\n",
       "      <th>2</th>\n",
       "      <td>3</td>\n",
       "      <td>24.0</td>\n",
       "      <td>5.0</td>\n",
       "      <td>1.0</td>\n",
       "      <td>3.0</td>\n",
       "      <td>63.0</td>\n",
       "      <td>309.13</td>\n",
       "      <td>0.11</td>\n",
       "      <td>9.50</td>\n",
       "      <td>32.54</td>\n",
       "      <td>...</td>\n",
       "      <td>1</td>\n",
       "      <td>0</td>\n",
       "      <td>6</td>\n",
       "      <td>0</td>\n",
       "      <td>15.0</td>\n",
       "      <td>15.0</td>\n",
       "      <td>44.0</td>\n",
       "      <td>19.0</td>\n",
       "      <td>9.0</td>\n",
       "      <td>False</td>\n",
       "    </tr>\n",
       "    <tr>\n",
       "      <th>3</th>\n",
       "      <td>4</td>\n",
       "      <td>20.0</td>\n",
       "      <td>4.0</td>\n",
       "      <td>4.0</td>\n",
       "      <td>2.0</td>\n",
       "      <td>47.0</td>\n",
       "      <td>215.49</td>\n",
       "      <td>0.06</td>\n",
       "      <td>16.00</td>\n",
       "      <td>13.47</td>\n",
       "      <td>...</td>\n",
       "      <td>0</td>\n",
       "      <td>0</td>\n",
       "      <td>3</td>\n",
       "      <td>0</td>\n",
       "      <td>16.0</td>\n",
       "      <td>8.0</td>\n",
       "      <td>31.0</td>\n",
       "      <td>16.0</td>\n",
       "      <td>7.0</td>\n",
       "      <td>False</td>\n",
       "    </tr>\n",
       "    <tr>\n",
       "      <th>4</th>\n",
       "      <td>5</td>\n",
       "      <td>24.0</td>\n",
       "      <td>6.0</td>\n",
       "      <td>6.0</td>\n",
       "      <td>2.0</td>\n",
       "      <td>72.0</td>\n",
       "      <td>346.13</td>\n",
       "      <td>0.06</td>\n",
       "      <td>17.33</td>\n",
       "      <td>19.97</td>\n",
       "      <td>...</td>\n",
       "      <td>0</td>\n",
       "      <td>0</td>\n",
       "      <td>3</td>\n",
       "      <td>0</td>\n",
       "      <td>16.0</td>\n",
       "      <td>12.0</td>\n",
       "      <td>46.0</td>\n",
       "      <td>26.0</td>\n",
       "      <td>11.0</td>\n",
       "      <td>False</td>\n",
       "    </tr>\n",
       "  </tbody>\n",
       "</table>\n",
       "<p>5 rows × 23 columns</p>\n",
       "</div>"
      ],
      "text/plain": [
       "   id   loc  v(g)  ev(g)  iv(g)     n       v     l      d      i  ...  \\\n",
       "0   1   1.1   1.4    1.4    1.4   1.3    1.30  1.30   1.30   1.30  ...   \n",
       "1   2   1.0   1.0    1.0    1.0   1.0    1.00  1.00   1.00   1.00  ...   \n",
       "2   3  24.0   5.0    1.0    3.0  63.0  309.13  0.11   9.50  32.54  ...   \n",
       "3   4  20.0   4.0    4.0    2.0  47.0  215.49  0.06  16.00  13.47  ...   \n",
       "4   5  24.0   6.0    6.0    2.0  72.0  346.13  0.06  17.33  19.97  ...   \n",
       "\n",
       "   lOCode  lOComment  lOBlank  locCodeAndComment  uniq_Op  uniq_Opnd  \\\n",
       "0       2          2        2                  2      1.2        1.2   \n",
       "1       1          1        1                  1      1.0        1.0   \n",
       "2       1          0        6                  0     15.0       15.0   \n",
       "3       0          0        3                  0     16.0        8.0   \n",
       "4       0          0        3                  0     16.0       12.0   \n",
       "\n",
       "   total_Op  total_Opnd  branchCount  defects  \n",
       "0       1.2         1.2          1.4    False  \n",
       "1       1.0         1.0          1.0     True  \n",
       "2      44.0        19.0          9.0    False  \n",
       "3      31.0        16.0          7.0    False  \n",
       "4      46.0        26.0         11.0    False  \n",
       "\n",
       "[5 rows x 23 columns]"
      ]
     },
     "execution_count": 7,
     "metadata": {},
     "output_type": "execute_result"
    }
   ],
   "source": [
    "df.head()"
   ]
  },
  {
   "cell_type": "code",
   "execution_count": 8,
   "id": "733e95eb",
   "metadata": {
    "execution": {
     "iopub.execute_input": "2021-04-04T23:25:42.901146Z",
     "iopub.status.busy": "2021-04-04T23:25:42.900324Z",
     "iopub.status.idle": "2021-04-04T23:25:42.902911Z",
     "shell.execute_reply": "2021-04-04T23:25:42.902311Z"
    },
    "papermill": {
     "duration": 0.02841,
     "end_time": "2021-04-04T23:25:42.903029",
     "exception": false,
     "start_time": "2021-04-04T23:25:42.874619",
     "status": "completed"
    },
    "tags": []
   },
   "outputs": [],
   "source": [
    "del df['id']"
   ]
  },
  {
   "cell_type": "code",
   "execution_count": 9,
   "id": "6ff6f5b0",
   "metadata": {
    "execution": {
     "iopub.execute_input": "2021-04-04T23:25:42.960311Z",
     "iopub.status.busy": "2021-04-04T23:25:42.958684Z",
     "iopub.status.idle": "2021-04-04T23:25:42.961147Z",
     "shell.execute_reply": "2021-04-04T23:25:42.961669Z"
    },
    "papermill": {
     "duration": 0.034939,
     "end_time": "2021-04-04T23:25:42.961829",
     "exception": false,
     "start_time": "2021-04-04T23:25:42.926890",
     "status": "completed"
    },
    "tags": []
   },
   "outputs": [],
   "source": [
    "if PROFILE_REPORTING:\n",
    "    ProfileReport(df).to_widgets()"
   ]
  },
  {
   "cell_type": "markdown",
   "id": "1deaf3f0",
   "metadata": {
    "papermill": {
     "duration": 0.023259,
     "end_time": "2021-04-04T23:25:43.008691",
     "exception": false,
     "start_time": "2021-04-04T23:25:42.985432",
     "status": "completed"
    },
    "tags": []
   },
   "source": [
    "# Preprocess"
   ]
  },
  {
   "cell_type": "code",
   "execution_count": 10,
   "id": "1513e563",
   "metadata": {
    "execution": {
     "iopub.execute_input": "2021-04-04T23:25:43.063068Z",
     "iopub.status.busy": "2021-04-04T23:25:43.062070Z",
     "iopub.status.idle": "2021-04-04T23:25:43.064586Z",
     "shell.execute_reply": "2021-04-04T23:25:43.065151Z"
    },
    "papermill": {
     "duration": 0.034986,
     "end_time": "2021-04-04T23:25:43.065376",
     "exception": false,
     "start_time": "2021-04-04T23:25:43.030390",
     "status": "completed"
    },
    "tags": []
   },
   "outputs": [],
   "source": [
    "working_df = df.copy()"
   ]
  },
  {
   "cell_type": "code",
   "execution_count": 11,
   "id": "3b26d675",
   "metadata": {
    "execution": {
     "iopub.execute_input": "2021-04-04T23:25:43.118743Z",
     "iopub.status.busy": "2021-04-04T23:25:43.118077Z",
     "iopub.status.idle": "2021-04-04T23:25:43.119976Z",
     "shell.execute_reply": "2021-04-04T23:25:43.120555Z"
    },
    "papermill": {
     "duration": 0.029817,
     "end_time": "2021-04-04T23:25:43.120719",
     "exception": false,
     "start_time": "2021-04-04T23:25:43.090902",
     "status": "completed"
    },
    "tags": []
   },
   "outputs": [],
   "source": [
    "working_df['defects'] = working_df['defects'].replace([False, True], [0, 1])"
   ]
  },
  {
   "cell_type": "code",
   "execution_count": 12,
   "id": "eb48604f",
   "metadata": {
    "execution": {
     "iopub.execute_input": "2021-04-04T23:25:43.181485Z",
     "iopub.status.busy": "2021-04-04T23:25:43.180573Z",
     "iopub.status.idle": "2021-04-04T23:25:43.183601Z",
     "shell.execute_reply": "2021-04-04T23:25:43.182887Z"
    },
    "papermill": {
     "duration": 0.039357,
     "end_time": "2021-04-04T23:25:43.183745",
     "exception": false,
     "start_time": "2021-04-04T23:25:43.144388",
     "status": "completed"
    },
    "tags": []
   },
   "outputs": [],
   "source": [
    "for col in dataset_config['delete_columns']:\n",
    "    del working_df[col]"
   ]
  },
  {
   "cell_type": "code",
   "execution_count": 13,
   "id": "9a17bc29",
   "metadata": {
    "execution": {
     "iopub.execute_input": "2021-04-04T23:25:43.243340Z",
     "iopub.status.busy": "2021-04-04T23:25:43.240487Z",
     "iopub.status.idle": "2021-04-04T23:25:43.249654Z",
     "shell.execute_reply": "2021-04-04T23:25:43.250863Z"
    },
    "papermill": {
     "duration": 0.041474,
     "end_time": "2021-04-04T23:25:43.251239",
     "exception": false,
     "start_time": "2021-04-04T23:25:43.209765",
     "status": "completed"
    },
    "tags": []
   },
   "outputs": [],
   "source": [
    "working_df = working_df.drop_duplicates()"
   ]
  },
  {
   "cell_type": "markdown",
   "id": "a4d52ca6",
   "metadata": {
    "papermill": {
     "duration": 0.0242,
     "end_time": "2021-04-04T23:25:43.297711",
     "exception": false,
     "start_time": "2021-04-04T23:25:43.273511",
     "status": "completed"
    },
    "tags": []
   },
   "source": [
    "# Split"
   ]
  },
  {
   "cell_type": "code",
   "execution_count": 14,
   "id": "3e9ee4b5",
   "metadata": {
    "execution": {
     "iopub.execute_input": "2021-04-04T23:25:43.354162Z",
     "iopub.status.busy": "2021-04-04T23:25:43.351734Z",
     "iopub.status.idle": "2021-04-04T23:25:43.405120Z",
     "shell.execute_reply": "2021-04-04T23:25:43.404399Z"
    },
    "papermill": {
     "duration": 0.085105,
     "end_time": "2021-04-04T23:25:43.405297",
     "exception": false,
     "start_time": "2021-04-04T23:25:43.320192",
     "status": "completed"
    },
    "tags": []
   },
   "outputs": [],
   "source": [
    "from sklearn.model_selection import train_test_split"
   ]
  },
  {
   "cell_type": "code",
   "execution_count": 15,
   "id": "274004ce",
   "metadata": {
    "execution": {
     "iopub.execute_input": "2021-04-04T23:25:43.462841Z",
     "iopub.status.busy": "2021-04-04T23:25:43.461575Z",
     "iopub.status.idle": "2021-04-04T23:25:43.467954Z",
     "shell.execute_reply": "2021-04-04T23:25:43.467095Z"
    },
    "papermill": {
     "duration": 0.03924,
     "end_time": "2021-04-04T23:25:43.468284",
     "exception": false,
     "start_time": "2021-04-04T23:25:43.429044",
     "status": "completed"
    },
    "scrolled": true,
    "tags": []
   },
   "outputs": [],
   "source": [
    "inlier, outlier = working_df[working_df['defects'] == 0], working_df[working_df['defects'] == 1]"
   ]
  },
  {
   "cell_type": "code",
   "execution_count": 16,
   "id": "753c7b03",
   "metadata": {
    "execution": {
     "iopub.execute_input": "2021-04-04T23:25:43.521704Z",
     "iopub.status.busy": "2021-04-04T23:25:43.521025Z",
     "iopub.status.idle": "2021-04-04T23:25:43.522854Z",
     "shell.execute_reply": "2021-04-04T23:25:43.523322Z"
    },
    "papermill": {
     "duration": 0.030375,
     "end_time": "2021-04-04T23:25:43.523466",
     "exception": false,
     "start_time": "2021-04-04T23:25:43.493091",
     "status": "completed"
    },
    "tags": []
   },
   "outputs": [],
   "source": [
    "X_inlier = inlier.copy()\n",
    "y_inlier = X_inlier.pop('defects')\n",
    "X_outlier = outlier.copy()\n",
    "y_outlier = X_outlier.pop('defects')"
   ]
  },
  {
   "cell_type": "code",
   "execution_count": 17,
   "id": "2ba43193",
   "metadata": {
    "execution": {
     "iopub.execute_input": "2021-04-04T23:25:43.585636Z",
     "iopub.status.busy": "2021-04-04T23:25:43.583307Z",
     "iopub.status.idle": "2021-04-04T23:25:43.588390Z",
     "shell.execute_reply": "2021-04-04T23:25:43.589041Z"
    },
    "papermill": {
     "duration": 0.042806,
     "end_time": "2021-04-04T23:25:43.589242",
     "exception": false,
     "start_time": "2021-04-04T23:25:43.546436",
     "status": "completed"
    },
    "tags": []
   },
   "outputs": [],
   "source": [
    "test_size = dataset_config['test_size']\n",
    "random_state = dataset_config['random_state']\n",
    "\n",
    "X_inlier_train, X_inlier_test, y_inlier_train, y_inlier_test = train_test_split(\n",
    "    X_inlier,\n",
    "    y_inlier,\n",
    "    test_size=test_size,\n",
    "    random_state=random_state\n",
    ")"
   ]
  },
  {
   "cell_type": "code",
   "execution_count": 18,
   "id": "0b7582ca",
   "metadata": {
    "execution": {
     "iopub.execute_input": "2021-04-04T23:25:43.645390Z",
     "iopub.status.busy": "2021-04-04T23:25:43.644707Z",
     "iopub.status.idle": "2021-04-04T23:25:43.647717Z",
     "shell.execute_reply": "2021-04-04T23:25:43.647216Z"
    },
    "papermill": {
     "duration": 0.033443,
     "end_time": "2021-04-04T23:25:43.647836",
     "exception": false,
     "start_time": "2021-04-04T23:25:43.614393",
     "status": "completed"
    },
    "tags": []
   },
   "outputs": [],
   "source": [
    "test_outlier_size = dataset_config['test_outlier_size']\n",
    "if test_outlier_size > 0.0:\n",
    "    X_outlier_train, X_outlier_test, y_outlier_train, y_outlier_test = train_test_split(\n",
    "        X_outlier,\n",
    "        y_outlier,\n",
    "        test_size=test_outlier_size,\n",
    "        random_state=random_state\n",
    "    )\n",
    "else:\n",
    "    X_outlier_train, y_outlier_train = pd.DataFrame(columns=X_outlier.columns), pd.Series(dtype='int64')\n",
    "    X_outlier_test, y_outlier_test = X_outlier.copy(), y_outlier.copy()"
   ]
  },
  {
   "cell_type": "code",
   "execution_count": 19,
   "id": "c34363db",
   "metadata": {
    "execution": {
     "iopub.execute_input": "2021-04-04T23:25:43.713718Z",
     "iopub.status.busy": "2021-04-04T23:25:43.712303Z",
     "iopub.status.idle": "2021-04-04T23:25:43.721262Z",
     "shell.execute_reply": "2021-04-04T23:25:43.720476Z"
    },
    "papermill": {
     "duration": 0.045017,
     "end_time": "2021-04-04T23:25:43.721407",
     "exception": false,
     "start_time": "2021-04-04T23:25:43.676390",
     "status": "completed"
    },
    "tags": []
   },
   "outputs": [],
   "source": [
    "X_train, y_train = pd.concat([X_inlier_train, X_outlier_train], ignore_index=True), pd.concat([y_inlier_train, y_outlier_train], ignore_index=True)\n",
    "X_test, y_test = pd.concat([X_inlier_test, X_outlier_test], ignore_index=True), pd.concat([y_inlier_test, y_outlier_test], ignore_index=True)"
   ]
  },
  {
   "cell_type": "markdown",
   "id": "7cde7309",
   "metadata": {
    "papermill": {
     "duration": 0.024877,
     "end_time": "2021-04-04T23:25:43.772027",
     "exception": false,
     "start_time": "2021-04-04T23:25:43.747150",
     "status": "completed"
    },
    "tags": []
   },
   "source": [
    "# Model"
   ]
  },
  {
   "cell_type": "code",
   "execution_count": 20,
   "id": "2b12a415",
   "metadata": {
    "execution": {
     "iopub.execute_input": "2021-04-04T23:25:43.837924Z",
     "iopub.status.busy": "2021-04-04T23:25:43.837060Z",
     "iopub.status.idle": "2021-04-04T23:25:43.839324Z",
     "shell.execute_reply": "2021-04-04T23:25:43.839801Z"
    },
    "papermill": {
     "duration": 0.045068,
     "end_time": "2021-04-04T23:25:43.839948",
     "exception": false,
     "start_time": "2021-04-04T23:25:43.794880",
     "status": "completed"
    },
    "tags": []
   },
   "outputs": [],
   "source": [
    "from math import sqrt\n",
    "\n",
    "\n",
    "class KNNDataDescription:\n",
    "    def __init__(self, k=5, outlier_threshold=1.0):\n",
    "        self.k = k\n",
    "        self.outlier_threshold = outlier_threshold\n",
    "        self.X = []\n",
    "    \n",
    "    def fit(self, X):\n",
    "        self.X = [features.to_list() for index, features in X.iterrows()]\n",
    "\n",
    "    def predict(self, entries):\n",
    "        return [self.predict_entry(features.to_list()) for index, features in entries.iterrows()]\n",
    "    \n",
    "    def predict_entry(self, entry):\n",
    "        kth_neighbor, kth_distance = self.get_kth_neighbor(entry, self.k)\n",
    "        kth_kth_neighbor, kth_kth_distance = self.get_kth_neighbor(kth_neighbor, self.k + 1)\n",
    "\n",
    "        outlier_score = kth_distance / (kth_kth_distance + 0.000001)\n",
    "\n",
    "        return 1 if outlier_score < self.outlier_threshold else -1\n",
    "        \n",
    "    def euclidean_distance(self, features1, features2):\n",
    "        distance = 0.0\n",
    "        for feat1, feat2 in zip(features1, features2):\n",
    "            distance += (feat1 - feat2)**2\n",
    "                \n",
    "        return sqrt(distance)\n",
    "\n",
    "    def get_neighbors(self, entry, k):\n",
    "        distance_to_data_points = [\n",
    "            (data_point, self.euclidean_distance(entry, data_point))\n",
    "            for data_point in self.X\n",
    "        ]\n",
    "        sorted_by_distance = sorted(distance_to_data_points, key=lambda tup: tup[1])\n",
    "        neighbors = sorted_by_distance[:k]\n",
    "        return neighbors\n",
    "\n",
    "    def get_kth_neighbor(self, entry, k):\n",
    "        neighbors = self.get_neighbors(entry, k)\n",
    "        return neighbors[-1]\n"
   ]
  },
  {
   "cell_type": "code",
   "execution_count": 21,
   "id": "1fa9ec1c",
   "metadata": {
    "execution": {
     "iopub.execute_input": "2021-04-04T23:25:43.893045Z",
     "iopub.status.busy": "2021-04-04T23:25:43.892407Z",
     "iopub.status.idle": "2021-04-04T23:25:43.918339Z",
     "shell.execute_reply": "2021-04-04T23:25:43.918813Z"
    },
    "papermill": {
     "duration": 0.052545,
     "end_time": "2021-04-04T23:25:43.918984",
     "exception": false,
     "start_time": "2021-04-04T23:25:43.866439",
     "status": "completed"
    },
    "tags": []
   },
   "outputs": [],
   "source": [
    "from sklearn.svm import OneClassSVM\n",
    "\n",
    "\n",
    "models = {\n",
    "    'oneclasssvm': OneClassSVM,\n",
    "    'knndatadescription': KNNDataDescription,\n",
    "}"
   ]
  },
  {
   "cell_type": "code",
   "execution_count": 22,
   "id": "4d72a0b1",
   "metadata": {
    "execution": {
     "iopub.execute_input": "2021-04-04T23:25:43.975140Z",
     "iopub.status.busy": "2021-04-04T23:25:43.974551Z",
     "iopub.status.idle": "2021-04-04T23:25:43.976478Z",
     "shell.execute_reply": "2021-04-04T23:25:43.976965Z"
    },
    "papermill": {
     "duration": 0.034741,
     "end_time": "2021-04-04T23:25:43.977103",
     "exception": false,
     "start_time": "2021-04-04T23:25:43.942362",
     "status": "completed"
    },
    "scrolled": true,
    "tags": []
   },
   "outputs": [],
   "source": [
    "model_cls = models[model_config['model_type']]\n",
    "model = model_cls(**model_config['hyperparameters'])"
   ]
  },
  {
   "cell_type": "markdown",
   "id": "e00cff3b",
   "metadata": {
    "papermill": {
     "duration": 0.02436,
     "end_time": "2021-04-04T23:25:44.026134",
     "exception": false,
     "start_time": "2021-04-04T23:25:44.001774",
     "status": "completed"
    },
    "tags": []
   },
   "source": [
    "# Fit"
   ]
  },
  {
   "cell_type": "code",
   "execution_count": 23,
   "id": "8b2ded89",
   "metadata": {
    "execution": {
     "iopub.execute_input": "2021-04-04T23:25:44.087255Z",
     "iopub.status.busy": "2021-04-04T23:25:44.081081Z",
     "iopub.status.idle": "2021-04-04T23:25:44.108636Z",
     "shell.execute_reply": "2021-04-04T23:25:44.107757Z"
    },
    "papermill": {
     "duration": 0.059986,
     "end_time": "2021-04-04T23:25:44.108777",
     "exception": false,
     "start_time": "2021-04-04T23:25:44.048791",
     "status": "completed"
    },
    "tags": []
   },
   "outputs": [],
   "source": [
    "model.fit(X_train)"
   ]
  },
  {
   "cell_type": "markdown",
   "id": "f99999f7",
   "metadata": {
    "papermill": {
     "duration": 0.026677,
     "end_time": "2021-04-04T23:25:44.159026",
     "exception": false,
     "start_time": "2021-04-04T23:25:44.132349",
     "status": "completed"
    },
    "tags": []
   },
   "source": [
    "# Predict"
   ]
  },
  {
   "cell_type": "code",
   "execution_count": 24,
   "id": "6536fbf7",
   "metadata": {
    "execution": {
     "iopub.execute_input": "2021-04-04T23:25:44.245501Z",
     "iopub.status.busy": "2021-04-04T23:25:44.236559Z",
     "iopub.status.idle": "2021-04-04T23:25:44.583666Z",
     "shell.execute_reply": "2021-04-04T23:25:44.585141Z"
    },
    "papermill": {
     "duration": 0.398657,
     "end_time": "2021-04-04T23:25:44.585518",
     "exception": false,
     "start_time": "2021-04-04T23:25:44.186861",
     "status": "completed"
    },
    "tags": []
   },
   "outputs": [],
   "source": [
    "predictions = model.predict(X_test)"
   ]
  },
  {
   "cell_type": "markdown",
   "id": "aa1c9881",
   "metadata": {
    "papermill": {
     "duration": 0.026133,
     "end_time": "2021-04-04T23:25:44.635554",
     "exception": false,
     "start_time": "2021-04-04T23:25:44.609421",
     "status": "completed"
    },
    "tags": []
   },
   "source": [
    "# Evaluate"
   ]
  },
  {
   "cell_type": "code",
   "execution_count": 25,
   "id": "894f0f04",
   "metadata": {
    "execution": {
     "iopub.execute_input": "2021-04-04T23:25:44.696764Z",
     "iopub.status.busy": "2021-04-04T23:25:44.695618Z",
     "iopub.status.idle": "2021-04-04T23:25:44.698214Z",
     "shell.execute_reply": "2021-04-04T23:25:44.699504Z"
    },
    "papermill": {
     "duration": 0.041026,
     "end_time": "2021-04-04T23:25:44.699935",
     "exception": false,
     "start_time": "2021-04-04T23:25:44.658909",
     "status": "completed"
    },
    "tags": []
   },
   "outputs": [],
   "source": [
    "from sklearn.metrics import f1_score"
   ]
  },
  {
   "cell_type": "code",
   "execution_count": 26,
   "id": "211744d3",
   "metadata": {
    "execution": {
     "iopub.execute_input": "2021-04-04T23:25:44.757789Z",
     "iopub.status.busy": "2021-04-04T23:25:44.756935Z",
     "iopub.status.idle": "2021-04-04T23:25:44.759506Z",
     "shell.execute_reply": "2021-04-04T23:25:44.759009Z"
    },
    "papermill": {
     "duration": 0.033198,
     "end_time": "2021-04-04T23:25:44.759623",
     "exception": false,
     "start_time": "2021-04-04T23:25:44.726425",
     "status": "completed"
    },
    "tags": []
   },
   "outputs": [],
   "source": [
    "y_test = y_test.replace([0, 1], [1, -1])"
   ]
  },
  {
   "cell_type": "code",
   "execution_count": 27,
   "id": "d68a9204",
   "metadata": {
    "execution": {
     "iopub.execute_input": "2021-04-04T23:25:44.832346Z",
     "iopub.status.busy": "2021-04-04T23:25:44.830151Z",
     "iopub.status.idle": "2021-04-04T23:25:44.834405Z",
     "shell.execute_reply": "2021-04-04T23:25:44.833774Z"
    },
    "papermill": {
     "duration": 0.049186,
     "end_time": "2021-04-04T23:25:44.834580",
     "exception": false,
     "start_time": "2021-04-04T23:25:44.785394",
     "status": "completed"
    },
    "tags": []
   },
   "outputs": [],
   "source": [
    "def evaluate(truths, predictions, pos_label, neg_label):\n",
    "    TP = 0\n",
    "    FP = 0\n",
    "    TN = 0\n",
    "    FN = 0\n",
    "\n",
    "    for truth, pred in zip(truths, predictions): \n",
    "        if truth == pred == pos_label:\n",
    "           TP += 1\n",
    "        elif pred == pos_label and truth == neg_label:\n",
    "           FP += 1\n",
    "        elif truth == pred == neg_label:\n",
    "           TN += 1\n",
    "        elif pred == neg_label and truth == pos_label:\n",
    "           FN += 1\n",
    "\n",
    "    precision = TP / (TP + FP)\n",
    "    sensitivity = TP / (TP + FN)\n",
    "    \n",
    "    return {\n",
    "        'true_pos': TP,\n",
    "        'false_pos': FP,\n",
    "        'false_neg': FN,\n",
    "        'true_neg': TN,\n",
    "        'precision': precision,\n",
    "        'sensitivity': sensitivity,\n",
    "        'f1': (2 * (precision * sensitivity)) / (precision + sensitivity)\n",
    "    }\n",
    "\n",
    "score = evaluate(y_test, predictions, pos_label=-1, neg_label=1)"
   ]
  },
  {
   "cell_type": "markdown",
   "id": "93596516",
   "metadata": {
    "papermill": {
     "duration": 0.02958,
     "end_time": "2021-04-04T23:25:44.897895",
     "exception": false,
     "start_time": "2021-04-04T23:25:44.868315",
     "status": "completed"
    },
    "tags": []
   },
   "source": [
    "# Report"
   ]
  },
  {
   "cell_type": "code",
   "execution_count": 28,
   "id": "bea5fba1",
   "metadata": {
    "execution": {
     "iopub.execute_input": "2021-04-04T23:25:44.967066Z",
     "iopub.status.busy": "2021-04-04T23:25:44.966082Z",
     "iopub.status.idle": "2021-04-04T23:25:44.971150Z",
     "shell.execute_reply": "2021-04-04T23:25:44.970042Z"
    },
    "papermill": {
     "duration": 0.046705,
     "end_time": "2021-04-04T23:25:44.971465",
     "exception": false,
     "start_time": "2021-04-04T23:25:44.924760",
     "status": "completed"
    },
    "tags": []
   },
   "outputs": [],
   "source": [
    "import csv\n",
    "\n",
    "\n",
    "dataset_config_name = DATASET_CONFIG_PATH.split('/')[-1].split('.')[0]\n",
    "model_config_name = MODEL_CONFIG_PATH.split('/')[-1].split('.')[0]\n",
    "configuration = f\"dataset_{dataset_config_name}-model_{model_config_name}\"\n",
    "\n",
    "with open('results.csv', 'a') as f:\n",
    "    report = dict({'configuration': configuration}, **score)\n",
    "    writer = csv.DictWriter(f, report.keys())\n",
    "    writer.writerow(report)"
   ]
  }
 ],
 "metadata": {
  "celltoolbar": "Tags",
  "kernelspec": {
   "display_name": "Python 3",
   "language": "python",
   "name": "python3"
  },
  "language_info": {
   "codemirror_mode": {
    "name": "ipython",
    "version": 3
   },
   "file_extension": ".py",
   "mimetype": "text/x-python",
   "name": "python",
   "nbconvert_exporter": "python",
   "pygments_lexer": "ipython3",
   "version": "3.9.1"
  },
  "papermill": {
   "default_parameters": {},
   "duration": 5.998153,
   "end_time": "2021-04-04T23:25:45.915938",
   "environment_variables": {},
   "exception": null,
   "input_path": "main.ipynb",
   "output_path": "runs/dataset_000132-model_000001.ipynb",
   "parameters": {
    "DATASET_CONFIG_PATH": "config/dataset/000132.json",
    "MODEL_CONFIG_PATH": "config/model/000001.json",
    "PROFILE_REPORTING": false
   },
   "start_time": "2021-04-04T23:25:39.917785",
   "version": "2.3.3"
  }
 },
 "nbformat": 4,
 "nbformat_minor": 5
}