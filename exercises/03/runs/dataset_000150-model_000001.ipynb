{
 "cells": [
  {
   "cell_type": "markdown",
   "id": "51c71c25",
   "metadata": {
    "papermill": {
     "duration": 0.021645,
     "end_time": "2021-04-04T23:33:35.189659",
     "exception": false,
     "start_time": "2021-04-04T23:33:35.168014",
     "status": "completed"
    },
    "tags": []
   },
   "source": [
    "# Parametrizing"
   ]
  },
  {
   "cell_type": "code",
   "execution_count": 1,
   "id": "3b136394",
   "metadata": {
    "execution": {
     "iopub.execute_input": "2021-04-04T23:33:35.251447Z",
     "iopub.status.busy": "2021-04-04T23:33:35.250391Z",
     "iopub.status.idle": "2021-04-04T23:33:35.256562Z",
     "shell.execute_reply": "2021-04-04T23:33:35.255083Z"
    },
    "papermill": {
     "duration": 0.045145,
     "end_time": "2021-04-04T23:33:35.256760",
     "exception": false,
     "start_time": "2021-04-04T23:33:35.211615",
     "status": "completed"
    },
    "tags": [
     "parameters"
    ]
   },
   "outputs": [],
   "source": [
    "DATASET_CONFIG_PATH = 'config/dataset/kc1_001.json'\n",
    "MODEL_CONFIG_PATH = 'config/model/knndd_001.json'\n",
    "PROFILE_REPORTING = False"
   ]
  },
  {
   "cell_type": "code",
   "execution_count": 2,
   "id": "2bfc4048",
   "metadata": {
    "execution": {
     "iopub.execute_input": "2021-04-04T23:33:35.305072Z",
     "iopub.status.busy": "2021-04-04T23:33:35.303458Z",
     "iopub.status.idle": "2021-04-04T23:33:35.310548Z",
     "shell.execute_reply": "2021-04-04T23:33:35.311187Z"
    },
    "papermill": {
     "duration": 0.031686,
     "end_time": "2021-04-04T23:33:35.311390",
     "exception": false,
     "start_time": "2021-04-04T23:33:35.279704",
     "status": "completed"
    },
    "tags": [
     "injected-parameters"
    ]
   },
   "outputs": [],
   "source": [
    "# Parameters\n",
    "DATASET_CONFIG_PATH = \"config/dataset/000150.json\"\n",
    "MODEL_CONFIG_PATH = \"config/model/000001.json\"\n",
    "PROFILE_REPORTING = False\n"
   ]
  },
  {
   "cell_type": "code",
   "execution_count": 3,
   "id": "b80f2a10",
   "metadata": {
    "execution": {
     "iopub.execute_input": "2021-04-04T23:33:35.401659Z",
     "iopub.status.busy": "2021-04-04T23:33:35.400536Z",
     "iopub.status.idle": "2021-04-04T23:33:35.407926Z",
     "shell.execute_reply": "2021-04-04T23:33:35.409075Z"
    },
    "papermill": {
     "duration": 0.067957,
     "end_time": "2021-04-04T23:33:35.409443",
     "exception": false,
     "start_time": "2021-04-04T23:33:35.341486",
     "status": "completed"
    },
    "tags": []
   },
   "outputs": [],
   "source": [
    "import json\n",
    "\n",
    "\n",
    "with open(DATASET_CONFIG_PATH) as f:\n",
    "    dataset_config = json.load(f)\n",
    "\n",
    "with open(MODEL_CONFIG_PATH) as f:\n",
    "    model_config = json.load(f)"
   ]
  },
  {
   "cell_type": "markdown",
   "id": "9a4b0e2d",
   "metadata": {
    "papermill": {
     "duration": 0.041707,
     "end_time": "2021-04-04T23:33:35.483870",
     "exception": false,
     "start_time": "2021-04-04T23:33:35.442163",
     "status": "completed"
    },
    "tags": []
   },
   "source": [
    "# Profiling"
   ]
  },
  {
   "cell_type": "code",
   "execution_count": 4,
   "id": "a3e0289b",
   "metadata": {
    "execution": {
     "iopub.execute_input": "2021-04-04T23:33:35.545348Z",
     "iopub.status.busy": "2021-04-04T23:33:35.542940Z",
     "iopub.status.idle": "2021-04-04T23:33:37.055270Z",
     "shell.execute_reply": "2021-04-04T23:33:37.054665Z"
    },
    "papermill": {
     "duration": 1.545991,
     "end_time": "2021-04-04T23:33:37.055389",
     "exception": false,
     "start_time": "2021-04-04T23:33:35.509398",
     "status": "completed"
    },
    "tags": []
   },
   "outputs": [],
   "source": [
    "import pandas as pd\n",
    "from pandas_profiling import ProfileReport"
   ]
  },
  {
   "cell_type": "code",
   "execution_count": 5,
   "id": "ee6c0666",
   "metadata": {
    "execution": {
     "iopub.execute_input": "2021-04-04T23:33:37.111409Z",
     "iopub.status.busy": "2021-04-04T23:33:37.110639Z",
     "iopub.status.idle": "2021-04-04T23:33:37.125757Z",
     "shell.execute_reply": "2021-04-04T23:33:37.126279Z"
    },
    "papermill": {
     "duration": 0.048584,
     "end_time": "2021-04-04T23:33:37.126528",
     "exception": false,
     "start_time": "2021-04-04T23:33:37.077944",
     "status": "completed"
    },
    "tags": []
   },
   "outputs": [],
   "source": [
    "df = pd.read_csv(dataset_config['dataset_path'])"
   ]
  },
  {
   "cell_type": "code",
   "execution_count": 6,
   "id": "7eca6c4a",
   "metadata": {
    "execution": {
     "iopub.execute_input": "2021-04-04T23:33:37.198173Z",
     "iopub.status.busy": "2021-04-04T23:33:37.186538Z",
     "iopub.status.idle": "2021-04-04T23:33:37.201272Z",
     "shell.execute_reply": "2021-04-04T23:33:37.200762Z"
    },
    "papermill": {
     "duration": 0.047379,
     "end_time": "2021-04-04T23:33:37.201390",
     "exception": false,
     "start_time": "2021-04-04T23:33:37.154011",
     "status": "completed"
    },
    "tags": []
   },
   "outputs": [
    {
     "name": "stdout",
     "output_type": "stream",
     "text": [
      "<class 'pandas.core.frame.DataFrame'>\n",
      "RangeIndex: 498 entries, 0 to 497\n",
      "Data columns (total 23 columns):\n",
      " #   Column             Non-Null Count  Dtype  \n",
      "---  ------             --------------  -----  \n",
      " 0   id                 498 non-null    int64  \n",
      " 1   loc                498 non-null    float64\n",
      " 2   v(g)               498 non-null    float64\n",
      " 3   ev(g)              498 non-null    float64\n",
      " 4   iv(g)              498 non-null    float64\n",
      " 5   n                  498 non-null    float64\n",
      " 6   v                  498 non-null    float64\n",
      " 7   l                  498 non-null    float64\n",
      " 8   d                  498 non-null    float64\n",
      " 9   i                  498 non-null    float64\n",
      " 10  e                  498 non-null    float64\n",
      " 11  b                  498 non-null    float64\n",
      " 12  t                  498 non-null    float64\n",
      " 13  lOCode             498 non-null    int64  \n",
      " 14  lOComment          498 non-null    int64  \n",
      " 15  lOBlank            498 non-null    int64  \n",
      " 16  locCodeAndComment  498 non-null    int64  \n",
      " 17  uniq_Op            498 non-null    float64\n",
      " 18  uniq_Opnd          498 non-null    float64\n",
      " 19  total_Op           498 non-null    float64\n",
      " 20  total_Opnd         498 non-null    float64\n",
      " 21  branchCount        498 non-null    float64\n",
      " 22  defects            498 non-null    bool   \n",
      "dtypes: bool(1), float64(17), int64(5)\n",
      "memory usage: 86.2 KB\n"
     ]
    }
   ],
   "source": [
    "df.info()"
   ]
  },
  {
   "cell_type": "code",
   "execution_count": 7,
   "id": "3638e5e8",
   "metadata": {
    "execution": {
     "iopub.execute_input": "2021-04-04T23:33:37.275106Z",
     "iopub.status.busy": "2021-04-04T23:33:37.262900Z",
     "iopub.status.idle": "2021-04-04T23:33:37.298556Z",
     "shell.execute_reply": "2021-04-04T23:33:37.297840Z"
    },
    "papermill": {
     "duration": 0.073911,
     "end_time": "2021-04-04T23:33:37.298684",
     "exception": false,
     "start_time": "2021-04-04T23:33:37.224773",
     "status": "completed"
    },
    "tags": []
   },
   "outputs": [
    {
     "data": {
      "text/html": [
       "<div>\n",
       "<style scoped>\n",
       "    .dataframe tbody tr th:only-of-type {\n",
       "        vertical-align: middle;\n",
       "    }\n",
       "\n",
       "    .dataframe tbody tr th {\n",
       "        vertical-align: top;\n",
       "    }\n",
       "\n",
       "    .dataframe thead th {\n",
       "        text-align: right;\n",
       "    }\n",
       "</style>\n",
       "<table border=\"1\" class=\"dataframe\">\n",
       "  <thead>\n",
       "    <tr style=\"text-align: right;\">\n",
       "      <th></th>\n",
       "      <th>id</th>\n",
       "      <th>loc</th>\n",
       "      <th>v(g)</th>\n",
       "      <th>ev(g)</th>\n",
       "      <th>iv(g)</th>\n",
       "      <th>n</th>\n",
       "      <th>v</th>\n",
       "      <th>l</th>\n",
       "      <th>d</th>\n",
       "      <th>i</th>\n",
       "      <th>...</th>\n",
       "      <th>lOCode</th>\n",
       "      <th>lOComment</th>\n",
       "      <th>lOBlank</th>\n",
       "      <th>locCodeAndComment</th>\n",
       "      <th>uniq_Op</th>\n",
       "      <th>uniq_Opnd</th>\n",
       "      <th>total_Op</th>\n",
       "      <th>total_Opnd</th>\n",
       "      <th>branchCount</th>\n",
       "      <th>defects</th>\n",
       "    </tr>\n",
       "  </thead>\n",
       "  <tbody>\n",
       "    <tr>\n",
       "      <th>0</th>\n",
       "      <td>1</td>\n",
       "      <td>1.1</td>\n",
       "      <td>1.4</td>\n",
       "      <td>1.4</td>\n",
       "      <td>1.4</td>\n",
       "      <td>1.3</td>\n",
       "      <td>1.30</td>\n",
       "      <td>1.30</td>\n",
       "      <td>1.30</td>\n",
       "      <td>1.30</td>\n",
       "      <td>...</td>\n",
       "      <td>2</td>\n",
       "      <td>2</td>\n",
       "      <td>2</td>\n",
       "      <td>2</td>\n",
       "      <td>1.2</td>\n",
       "      <td>1.2</td>\n",
       "      <td>1.2</td>\n",
       "      <td>1.2</td>\n",
       "      <td>1.4</td>\n",
       "      <td>False</td>\n",
       "    </tr>\n",
       "    <tr>\n",
       "      <th>1</th>\n",
       "      <td>2</td>\n",
       "      <td>1.0</td>\n",
       "      <td>1.0</td>\n",
       "      <td>1.0</td>\n",
       "      <td>1.0</td>\n",
       "      <td>1.0</td>\n",
       "      <td>1.00</td>\n",
       "      <td>1.00</td>\n",
       "      <td>1.00</td>\n",
       "      <td>1.00</td>\n",
       "      <td>...</td>\n",
       "      <td>1</td>\n",
       "      <td>1</td>\n",
       "      <td>1</td>\n",
       "      <td>1</td>\n",
       "      <td>1.0</td>\n",
       "      <td>1.0</td>\n",
       "      <td>1.0</td>\n",
       "      <td>1.0</td>\n",
       "      <td>1.0</td>\n",
       "      <td>True</td>\n",
       "    </tr>\n",
       "    <tr>\n",
       "      <th>2</th>\n",
       "      <td>3</td>\n",
       "      <td>24.0</td>\n",
       "      <td>5.0</td>\n",
       "      <td>1.0</td>\n",
       "      <td>3.0</td>\n",
       "      <td>63.0</td>\n",
       "      <td>309.13</td>\n",
       "      <td>0.11</td>\n",
       "      <td>9.50</td>\n",
       "      <td>32.54</td>\n",
       "      <td>...</td>\n",
       "      <td>1</td>\n",
       "      <td>0</td>\n",
       "      <td>6</td>\n",
       "      <td>0</td>\n",
       "      <td>15.0</td>\n",
       "      <td>15.0</td>\n",
       "      <td>44.0</td>\n",
       "      <td>19.0</td>\n",
       "      <td>9.0</td>\n",
       "      <td>False</td>\n",
       "    </tr>\n",
       "    <tr>\n",
       "      <th>3</th>\n",
       "      <td>4</td>\n",
       "      <td>20.0</td>\n",
       "      <td>4.0</td>\n",
       "      <td>4.0</td>\n",
       "      <td>2.0</td>\n",
       "      <td>47.0</td>\n",
       "      <td>215.49</td>\n",
       "      <td>0.06</td>\n",
       "      <td>16.00</td>\n",
       "      <td>13.47</td>\n",
       "      <td>...</td>\n",
       "      <td>0</td>\n",
       "      <td>0</td>\n",
       "      <td>3</td>\n",
       "      <td>0</td>\n",
       "      <td>16.0</td>\n",
       "      <td>8.0</td>\n",
       "      <td>31.0</td>\n",
       "      <td>16.0</td>\n",
       "      <td>7.0</td>\n",
       "      <td>False</td>\n",
       "    </tr>\n",
       "    <tr>\n",
       "      <th>4</th>\n",
       "      <td>5</td>\n",
       "      <td>24.0</td>\n",
       "      <td>6.0</td>\n",
       "      <td>6.0</td>\n",
       "      <td>2.0</td>\n",
       "      <td>72.0</td>\n",
       "      <td>346.13</td>\n",
       "      <td>0.06</td>\n",
       "      <td>17.33</td>\n",
       "      <td>19.97</td>\n",
       "      <td>...</td>\n",
       "      <td>0</td>\n",
       "      <td>0</td>\n",
       "      <td>3</td>\n",
       "      <td>0</td>\n",
       "      <td>16.0</td>\n",
       "      <td>12.0</td>\n",
       "      <td>46.0</td>\n",
       "      <td>26.0</td>\n",
       "      <td>11.0</td>\n",
       "      <td>False</td>\n",
       "    </tr>\n",
       "  </tbody>\n",
       "</table>\n",
       "<p>5 rows × 23 columns</p>\n",
       "</div>"
      ],
      "text/plain": [
       "   id   loc  v(g)  ev(g)  iv(g)     n       v     l      d      i  ...  \\\n",
       "0   1   1.1   1.4    1.4    1.4   1.3    1.30  1.30   1.30   1.30  ...   \n",
       "1   2   1.0   1.0    1.0    1.0   1.0    1.00  1.00   1.00   1.00  ...   \n",
       "2   3  24.0   5.0    1.0    3.0  63.0  309.13  0.11   9.50  32.54  ...   \n",
       "3   4  20.0   4.0    4.0    2.0  47.0  215.49  0.06  16.00  13.47  ...   \n",
       "4   5  24.0   6.0    6.0    2.0  72.0  346.13  0.06  17.33  19.97  ...   \n",
       "\n",
       "   lOCode  lOComment  lOBlank  locCodeAndComment  uniq_Op  uniq_Opnd  \\\n",
       "0       2          2        2                  2      1.2        1.2   \n",
       "1       1          1        1                  1      1.0        1.0   \n",
       "2       1          0        6                  0     15.0       15.0   \n",
       "3       0          0        3                  0     16.0        8.0   \n",
       "4       0          0        3                  0     16.0       12.0   \n",
       "\n",
       "   total_Op  total_Opnd  branchCount  defects  \n",
       "0       1.2         1.2          1.4    False  \n",
       "1       1.0         1.0          1.0     True  \n",
       "2      44.0        19.0          9.0    False  \n",
       "3      31.0        16.0          7.0    False  \n",
       "4      46.0        26.0         11.0    False  \n",
       "\n",
       "[5 rows x 23 columns]"
      ]
     },
     "execution_count": 7,
     "metadata": {},
     "output_type": "execute_result"
    }
   ],
   "source": [
    "df.head()"
   ]
  },
  {
   "cell_type": "code",
   "execution_count": 8,
   "id": "733e95eb",
   "metadata": {
    "execution": {
     "iopub.execute_input": "2021-04-04T23:33:37.355233Z",
     "iopub.status.busy": "2021-04-04T23:33:37.353014Z",
     "iopub.status.idle": "2021-04-04T23:33:37.358283Z",
     "shell.execute_reply": "2021-04-04T23:33:37.358935Z"
    },
    "papermill": {
     "duration": 0.038999,
     "end_time": "2021-04-04T23:33:37.359154",
     "exception": false,
     "start_time": "2021-04-04T23:33:37.320155",
     "status": "completed"
    },
    "tags": []
   },
   "outputs": [],
   "source": [
    "del df['id']"
   ]
  },
  {
   "cell_type": "code",
   "execution_count": 9,
   "id": "6ff6f5b0",
   "metadata": {
    "execution": {
     "iopub.execute_input": "2021-04-04T23:33:37.422282Z",
     "iopub.status.busy": "2021-04-04T23:33:37.419892Z",
     "iopub.status.idle": "2021-04-04T23:33:37.425236Z",
     "shell.execute_reply": "2021-04-04T23:33:37.424449Z"
    },
    "papermill": {
     "duration": 0.038589,
     "end_time": "2021-04-04T23:33:37.425450",
     "exception": false,
     "start_time": "2021-04-04T23:33:37.386861",
     "status": "completed"
    },
    "tags": []
   },
   "outputs": [],
   "source": [
    "if PROFILE_REPORTING:\n",
    "    ProfileReport(df).to_widgets()"
   ]
  },
  {
   "cell_type": "markdown",
   "id": "1deaf3f0",
   "metadata": {
    "papermill": {
     "duration": 0.022124,
     "end_time": "2021-04-04T23:33:37.473301",
     "exception": false,
     "start_time": "2021-04-04T23:33:37.451177",
     "status": "completed"
    },
    "tags": []
   },
   "source": [
    "# Preprocess"
   ]
  },
  {
   "cell_type": "code",
   "execution_count": 10,
   "id": "1513e563",
   "metadata": {
    "execution": {
     "iopub.execute_input": "2021-04-04T23:33:37.533348Z",
     "iopub.status.busy": "2021-04-04T23:33:37.531768Z",
     "iopub.status.idle": "2021-04-04T23:33:37.536420Z",
     "shell.execute_reply": "2021-04-04T23:33:37.537063Z"
    },
    "papermill": {
     "duration": 0.039747,
     "end_time": "2021-04-04T23:33:37.537238",
     "exception": false,
     "start_time": "2021-04-04T23:33:37.497491",
     "status": "completed"
    },
    "tags": []
   },
   "outputs": [],
   "source": [
    "working_df = df.copy()"
   ]
  },
  {
   "cell_type": "code",
   "execution_count": 11,
   "id": "3b26d675",
   "metadata": {
    "execution": {
     "iopub.execute_input": "2021-04-04T23:33:37.617448Z",
     "iopub.status.busy": "2021-04-04T23:33:37.616093Z",
     "iopub.status.idle": "2021-04-04T23:33:37.623769Z",
     "shell.execute_reply": "2021-04-04T23:33:37.622307Z"
    },
    "papermill": {
     "duration": 0.04885,
     "end_time": "2021-04-04T23:33:37.624158",
     "exception": false,
     "start_time": "2021-04-04T23:33:37.575308",
     "status": "completed"
    },
    "tags": []
   },
   "outputs": [],
   "source": [
    "working_df['defects'] = working_df['defects'].replace([False, True], [0, 1])"
   ]
  },
  {
   "cell_type": "code",
   "execution_count": 12,
   "id": "eb48604f",
   "metadata": {
    "execution": {
     "iopub.execute_input": "2021-04-04T23:33:37.694164Z",
     "iopub.status.busy": "2021-04-04T23:33:37.693024Z",
     "iopub.status.idle": "2021-04-04T23:33:37.695841Z",
     "shell.execute_reply": "2021-04-04T23:33:37.697529Z"
    },
    "papermill": {
     "duration": 0.039253,
     "end_time": "2021-04-04T23:33:37.698239",
     "exception": false,
     "start_time": "2021-04-04T23:33:37.658986",
     "status": "completed"
    },
    "tags": []
   },
   "outputs": [],
   "source": [
    "for col in dataset_config['delete_columns']:\n",
    "    del working_df[col]"
   ]
  },
  {
   "cell_type": "code",
   "execution_count": 13,
   "id": "9a17bc29",
   "metadata": {
    "execution": {
     "iopub.execute_input": "2021-04-04T23:33:37.780126Z",
     "iopub.status.busy": "2021-04-04T23:33:37.779249Z",
     "iopub.status.idle": "2021-04-04T23:33:37.785625Z",
     "shell.execute_reply": "2021-04-04T23:33:37.786110Z"
    },
    "papermill": {
     "duration": 0.051685,
     "end_time": "2021-04-04T23:33:37.786258",
     "exception": false,
     "start_time": "2021-04-04T23:33:37.734573",
     "status": "completed"
    },
    "tags": []
   },
   "outputs": [],
   "source": [
    "working_df = working_df.drop_duplicates()"
   ]
  },
  {
   "cell_type": "markdown",
   "id": "a4d52ca6",
   "metadata": {
    "papermill": {
     "duration": 0.031394,
     "end_time": "2021-04-04T23:33:37.842821",
     "exception": false,
     "start_time": "2021-04-04T23:33:37.811427",
     "status": "completed"
    },
    "tags": []
   },
   "source": [
    "# Split"
   ]
  },
  {
   "cell_type": "code",
   "execution_count": 14,
   "id": "3e9ee4b5",
   "metadata": {
    "execution": {
     "iopub.execute_input": "2021-04-04T23:33:37.896929Z",
     "iopub.status.busy": "2021-04-04T23:33:37.896065Z",
     "iopub.status.idle": "2021-04-04T23:33:37.965834Z",
     "shell.execute_reply": "2021-04-04T23:33:37.967980Z"
    },
    "papermill": {
     "duration": 0.09955,
     "end_time": "2021-04-04T23:33:37.968804",
     "exception": false,
     "start_time": "2021-04-04T23:33:37.869254",
     "status": "completed"
    },
    "tags": []
   },
   "outputs": [],
   "source": [
    "from sklearn.model_selection import train_test_split"
   ]
  },
  {
   "cell_type": "code",
   "execution_count": 15,
   "id": "274004ce",
   "metadata": {
    "execution": {
     "iopub.execute_input": "2021-04-04T23:33:38.044439Z",
     "iopub.status.busy": "2021-04-04T23:33:38.043276Z",
     "iopub.status.idle": "2021-04-04T23:33:38.055883Z",
     "shell.execute_reply": "2021-04-04T23:33:38.053977Z"
    },
    "papermill": {
     "duration": 0.048129,
     "end_time": "2021-04-04T23:33:38.056220",
     "exception": false,
     "start_time": "2021-04-04T23:33:38.008091",
     "status": "completed"
    },
    "scrolled": true,
    "tags": []
   },
   "outputs": [],
   "source": [
    "inlier, outlier = working_df[working_df['defects'] == 0], working_df[working_df['defects'] == 1]"
   ]
  },
  {
   "cell_type": "code",
   "execution_count": 16,
   "id": "753c7b03",
   "metadata": {
    "execution": {
     "iopub.execute_input": "2021-04-04T23:33:38.112501Z",
     "iopub.status.busy": "2021-04-04T23:33:38.111638Z",
     "iopub.status.idle": "2021-04-04T23:33:38.114214Z",
     "shell.execute_reply": "2021-04-04T23:33:38.113636Z"
    },
    "papermill": {
     "duration": 0.032575,
     "end_time": "2021-04-04T23:33:38.114333",
     "exception": false,
     "start_time": "2021-04-04T23:33:38.081758",
     "status": "completed"
    },
    "tags": []
   },
   "outputs": [],
   "source": [
    "X_inlier = inlier.copy()\n",
    "y_inlier = X_inlier.pop('defects')\n",
    "X_outlier = outlier.copy()\n",
    "y_outlier = X_outlier.pop('defects')"
   ]
  },
  {
   "cell_type": "code",
   "execution_count": 17,
   "id": "2ba43193",
   "metadata": {
    "execution": {
     "iopub.execute_input": "2021-04-04T23:33:38.199309Z",
     "iopub.status.busy": "2021-04-04T23:33:38.196378Z",
     "iopub.status.idle": "2021-04-04T23:33:38.201261Z",
     "shell.execute_reply": "2021-04-04T23:33:38.201804Z"
    },
    "papermill": {
     "duration": 0.06103,
     "end_time": "2021-04-04T23:33:38.201967",
     "exception": false,
     "start_time": "2021-04-04T23:33:38.140937",
     "status": "completed"
    },
    "tags": []
   },
   "outputs": [],
   "source": [
    "test_size = dataset_config['test_size']\n",
    "random_state = dataset_config['random_state']\n",
    "\n",
    "X_inlier_train, X_inlier_test, y_inlier_train, y_inlier_test = train_test_split(\n",
    "    X_inlier,\n",
    "    y_inlier,\n",
    "    test_size=test_size,\n",
    "    random_state=random_state\n",
    ")"
   ]
  },
  {
   "cell_type": "code",
   "execution_count": 18,
   "id": "0b7582ca",
   "metadata": {
    "execution": {
     "iopub.execute_input": "2021-04-04T23:33:38.275470Z",
     "iopub.status.busy": "2021-04-04T23:33:38.273987Z",
     "iopub.status.idle": "2021-04-04T23:33:38.282683Z",
     "shell.execute_reply": "2021-04-04T23:33:38.283582Z"
    },
    "papermill": {
     "duration": 0.054266,
     "end_time": "2021-04-04T23:33:38.284199",
     "exception": false,
     "start_time": "2021-04-04T23:33:38.229933",
     "status": "completed"
    },
    "tags": []
   },
   "outputs": [],
   "source": [
    "test_outlier_size = dataset_config['test_outlier_size']\n",
    "if test_outlier_size > 0.0:\n",
    "    X_outlier_train, X_outlier_test, y_outlier_train, y_outlier_test = train_test_split(\n",
    "        X_outlier,\n",
    "        y_outlier,\n",
    "        test_size=test_outlier_size,\n",
    "        random_state=random_state\n",
    "    )\n",
    "else:\n",
    "    X_outlier_train, y_outlier_train = pd.DataFrame(columns=X_outlier.columns), pd.Series(dtype='int64')\n",
    "    X_outlier_test, y_outlier_test = X_outlier.copy(), y_outlier.copy()"
   ]
  },
  {
   "cell_type": "code",
   "execution_count": 19,
   "id": "c34363db",
   "metadata": {
    "execution": {
     "iopub.execute_input": "2021-04-04T23:33:38.379051Z",
     "iopub.status.busy": "2021-04-04T23:33:38.376970Z",
     "iopub.status.idle": "2021-04-04T23:33:38.386922Z",
     "shell.execute_reply": "2021-04-04T23:33:38.386290Z"
    },
    "papermill": {
     "duration": 0.062002,
     "end_time": "2021-04-04T23:33:38.387067",
     "exception": false,
     "start_time": "2021-04-04T23:33:38.325065",
     "status": "completed"
    },
    "tags": []
   },
   "outputs": [],
   "source": [
    "X_train, y_train = pd.concat([X_inlier_train, X_outlier_train], ignore_index=True), pd.concat([y_inlier_train, y_outlier_train], ignore_index=True)\n",
    "X_test, y_test = pd.concat([X_inlier_test, X_outlier_test], ignore_index=True), pd.concat([y_inlier_test, y_outlier_test], ignore_index=True)"
   ]
  },
  {
   "cell_type": "markdown",
   "id": "7cde7309",
   "metadata": {
    "papermill": {
     "duration": 0.029294,
     "end_time": "2021-04-04T23:33:38.445408",
     "exception": false,
     "start_time": "2021-04-04T23:33:38.416114",
     "status": "completed"
    },
    "tags": []
   },
   "source": [
    "# Model"
   ]
  },
  {
   "cell_type": "code",
   "execution_count": 20,
   "id": "2b12a415",
   "metadata": {
    "execution": {
     "iopub.execute_input": "2021-04-04T23:33:38.549113Z",
     "iopub.status.busy": "2021-04-04T23:33:38.547716Z",
     "iopub.status.idle": "2021-04-04T23:33:38.559075Z",
     "shell.execute_reply": "2021-04-04T23:33:38.558076Z"
    },
    "papermill": {
     "duration": 0.068671,
     "end_time": "2021-04-04T23:33:38.559313",
     "exception": false,
     "start_time": "2021-04-04T23:33:38.490642",
     "status": "completed"
    },
    "tags": []
   },
   "outputs": [],
   "source": [
    "from math import sqrt\n",
    "\n",
    "\n",
    "class KNNDataDescription:\n",
    "    def __init__(self, k=5, outlier_threshold=1.0):\n",
    "        self.k = k\n",
    "        self.outlier_threshold = outlier_threshold\n",
    "        self.X = []\n",
    "    \n",
    "    def fit(self, X):\n",
    "        self.X = [features.to_list() for index, features in X.iterrows()]\n",
    "\n",
    "    def predict(self, entries):\n",
    "        return [self.predict_entry(features.to_list()) for index, features in entries.iterrows()]\n",
    "    \n",
    "    def predict_entry(self, entry):\n",
    "        kth_neighbor, kth_distance = self.get_kth_neighbor(entry, self.k)\n",
    "        kth_kth_neighbor, kth_kth_distance = self.get_kth_neighbor(kth_neighbor, self.k + 1)\n",
    "\n",
    "        outlier_score = kth_distance / (kth_kth_distance + 0.000001)\n",
    "\n",
    "        return 1 if outlier_score < self.outlier_threshold else -1\n",
    "        \n",
    "    def euclidean_distance(self, features1, features2):\n",
    "        distance = 0.0\n",
    "        for feat1, feat2 in zip(features1, features2):\n",
    "            distance += (feat1 - feat2)**2\n",
    "                \n",
    "        return sqrt(distance)\n",
    "\n",
    "    def get_neighbors(self, entry, k):\n",
    "        distance_to_data_points = [\n",
    "            (data_point, self.euclidean_distance(entry, data_point))\n",
    "            for data_point in self.X\n",
    "        ]\n",
    "        sorted_by_distance = sorted(distance_to_data_points, key=lambda tup: tup[1])\n",
    "        neighbors = sorted_by_distance[:k]\n",
    "        return neighbors\n",
    "\n",
    "    def get_kth_neighbor(self, entry, k):\n",
    "        neighbors = self.get_neighbors(entry, k)\n",
    "        return neighbors[-1]\n"
   ]
  },
  {
   "cell_type": "code",
   "execution_count": 21,
   "id": "1fa9ec1c",
   "metadata": {
    "execution": {
     "iopub.execute_input": "2021-04-04T23:33:38.640586Z",
     "iopub.status.busy": "2021-04-04T23:33:38.639906Z",
     "iopub.status.idle": "2021-04-04T23:33:38.664749Z",
     "shell.execute_reply": "2021-04-04T23:33:38.665234Z"
    },
    "papermill": {
     "duration": 0.071405,
     "end_time": "2021-04-04T23:33:38.665383",
     "exception": false,
     "start_time": "2021-04-04T23:33:38.593978",
     "status": "completed"
    },
    "tags": []
   },
   "outputs": [],
   "source": [
    "from sklearn.svm import OneClassSVM\n",
    "\n",
    "\n",
    "models = {\n",
    "    'oneclasssvm': OneClassSVM,\n",
    "    'knndatadescription': KNNDataDescription,\n",
    "}"
   ]
  },
  {
   "cell_type": "code",
   "execution_count": 22,
   "id": "4d72a0b1",
   "metadata": {
    "execution": {
     "iopub.execute_input": "2021-04-04T23:33:38.748145Z",
     "iopub.status.busy": "2021-04-04T23:33:38.745966Z",
     "iopub.status.idle": "2021-04-04T23:33:38.751748Z",
     "shell.execute_reply": "2021-04-04T23:33:38.752335Z"
    },
    "papermill": {
     "duration": 0.046494,
     "end_time": "2021-04-04T23:33:38.752562",
     "exception": false,
     "start_time": "2021-04-04T23:33:38.706068",
     "status": "completed"
    },
    "scrolled": true,
    "tags": []
   },
   "outputs": [],
   "source": [
    "model_cls = models[model_config['model_type']]\n",
    "model = model_cls(**model_config['hyperparameters'])"
   ]
  },
  {
   "cell_type": "markdown",
   "id": "e00cff3b",
   "metadata": {
    "papermill": {
     "duration": 0.025989,
     "end_time": "2021-04-04T23:33:38.805248",
     "exception": false,
     "start_time": "2021-04-04T23:33:38.779259",
     "status": "completed"
    },
    "tags": []
   },
   "source": [
    "# Fit"
   ]
  },
  {
   "cell_type": "code",
   "execution_count": 23,
   "id": "8b2ded89",
   "metadata": {
    "execution": {
     "iopub.execute_input": "2021-04-04T23:33:38.884455Z",
     "iopub.status.busy": "2021-04-04T23:33:38.863217Z",
     "iopub.status.idle": "2021-04-04T23:33:38.889277Z",
     "shell.execute_reply": "2021-04-04T23:33:38.889794Z"
    },
    "papermill": {
     "duration": 0.061115,
     "end_time": "2021-04-04T23:33:38.889951",
     "exception": false,
     "start_time": "2021-04-04T23:33:38.828836",
     "status": "completed"
    },
    "tags": []
   },
   "outputs": [],
   "source": [
    "model.fit(X_train)"
   ]
  },
  {
   "cell_type": "markdown",
   "id": "f99999f7",
   "metadata": {
    "papermill": {
     "duration": 0.02451,
     "end_time": "2021-04-04T23:33:38.938120",
     "exception": false,
     "start_time": "2021-04-04T23:33:38.913610",
     "status": "completed"
    },
    "tags": []
   },
   "source": [
    "# Predict"
   ]
  },
  {
   "cell_type": "code",
   "execution_count": 24,
   "id": "6536fbf7",
   "metadata": {
    "execution": {
     "iopub.execute_input": "2021-04-04T23:33:39.053938Z",
     "iopub.status.busy": "2021-04-04T23:33:39.017724Z",
     "iopub.status.idle": "2021-04-04T23:33:39.318996Z",
     "shell.execute_reply": "2021-04-04T23:33:39.318272Z"
    },
    "papermill": {
     "duration": 0.354934,
     "end_time": "2021-04-04T23:33:39.319151",
     "exception": false,
     "start_time": "2021-04-04T23:33:38.964217",
     "status": "completed"
    },
    "tags": []
   },
   "outputs": [],
   "source": [
    "predictions = model.predict(X_test)"
   ]
  },
  {
   "cell_type": "markdown",
   "id": "aa1c9881",
   "metadata": {
    "papermill": {
     "duration": 0.0282,
     "end_time": "2021-04-04T23:33:39.385234",
     "exception": false,
     "start_time": "2021-04-04T23:33:39.357034",
     "status": "completed"
    },
    "tags": []
   },
   "source": [
    "# Evaluate"
   ]
  },
  {
   "cell_type": "code",
   "execution_count": 25,
   "id": "894f0f04",
   "metadata": {
    "execution": {
     "iopub.execute_input": "2021-04-04T23:33:39.460502Z",
     "iopub.status.busy": "2021-04-04T23:33:39.459144Z",
     "iopub.status.idle": "2021-04-04T23:33:39.461840Z",
     "shell.execute_reply": "2021-04-04T23:33:39.462841Z"
    },
    "papermill": {
     "duration": 0.052393,
     "end_time": "2021-04-04T23:33:39.463423",
     "exception": false,
     "start_time": "2021-04-04T23:33:39.411030",
     "status": "completed"
    },
    "tags": []
   },
   "outputs": [],
   "source": [
    "from sklearn.metrics import f1_score"
   ]
  },
  {
   "cell_type": "code",
   "execution_count": 26,
   "id": "211744d3",
   "metadata": {
    "execution": {
     "iopub.execute_input": "2021-04-04T23:33:39.535468Z",
     "iopub.status.busy": "2021-04-04T23:33:39.534607Z",
     "iopub.status.idle": "2021-04-04T23:33:39.537079Z",
     "shell.execute_reply": "2021-04-04T23:33:39.536548Z"
    },
    "papermill": {
     "duration": 0.032951,
     "end_time": "2021-04-04T23:33:39.537198",
     "exception": false,
     "start_time": "2021-04-04T23:33:39.504247",
     "status": "completed"
    },
    "tags": []
   },
   "outputs": [],
   "source": [
    "y_test = y_test.replace([0, 1], [1, -1])"
   ]
  },
  {
   "cell_type": "code",
   "execution_count": 27,
   "id": "d68a9204",
   "metadata": {
    "execution": {
     "iopub.execute_input": "2021-04-04T23:33:39.602732Z",
     "iopub.status.busy": "2021-04-04T23:33:39.601700Z",
     "iopub.status.idle": "2021-04-04T23:33:39.604210Z",
     "shell.execute_reply": "2021-04-04T23:33:39.604819Z"
    },
    "papermill": {
     "duration": 0.040392,
     "end_time": "2021-04-04T23:33:39.605010",
     "exception": false,
     "start_time": "2021-04-04T23:33:39.564618",
     "status": "completed"
    },
    "tags": []
   },
   "outputs": [],
   "source": [
    "def evaluate(truths, predictions, pos_label, neg_label):\n",
    "    TP = 0\n",
    "    FP = 0\n",
    "    TN = 0\n",
    "    FN = 0\n",
    "\n",
    "    for truth, pred in zip(truths, predictions): \n",
    "        if truth == pred == pos_label:\n",
    "           TP += 1\n",
    "        elif pred == pos_label and truth == neg_label:\n",
    "           FP += 1\n",
    "        elif truth == pred == neg_label:\n",
    "           TN += 1\n",
    "        elif pred == neg_label and truth == pos_label:\n",
    "           FN += 1\n",
    "\n",
    "    precision = TP / (TP + FP)\n",
    "    sensitivity = TP / (TP + FN)\n",
    "    \n",
    "    return {\n",
    "        'true_pos': TP,\n",
    "        'false_pos': FP,\n",
    "        'false_neg': FN,\n",
    "        'true_neg': TN,\n",
    "        'precision': precision,\n",
    "        'sensitivity': sensitivity,\n",
    "        'f1': (2 * (precision * sensitivity)) / (precision + sensitivity)\n",
    "    }\n",
    "\n",
    "score = evaluate(y_test, predictions, pos_label=-1, neg_label=1)"
   ]
  },
  {
   "cell_type": "markdown",
   "id": "93596516",
   "metadata": {
    "papermill": {
     "duration": 0.024659,
     "end_time": "2021-04-04T23:33:39.656020",
     "exception": false,
     "start_time": "2021-04-04T23:33:39.631361",
     "status": "completed"
    },
    "tags": []
   },
   "source": [
    "# Report"
   ]
  },
  {
   "cell_type": "code",
   "execution_count": 28,
   "id": "bea5fba1",
   "metadata": {
    "execution": {
     "iopub.execute_input": "2021-04-04T23:33:39.718760Z",
     "iopub.status.busy": "2021-04-04T23:33:39.717677Z",
     "iopub.status.idle": "2021-04-04T23:33:39.721896Z",
     "shell.execute_reply": "2021-04-04T23:33:39.722436Z"
    },
    "papermill": {
     "duration": 0.040077,
     "end_time": "2021-04-04T23:33:39.722602",
     "exception": false,
     "start_time": "2021-04-04T23:33:39.682525",
     "status": "completed"
    },
    "tags": []
   },
   "outputs": [],
   "source": [
    "import csv\n",
    "\n",
    "\n",
    "dataset_config_name = DATASET_CONFIG_PATH.split('/')[-1].split('.')[0]\n",
    "model_config_name = MODEL_CONFIG_PATH.split('/')[-1].split('.')[0]\n",
    "configuration = f\"dataset_{dataset_config_name}-model_{model_config_name}\"\n",
    "\n",
    "with open('results.csv', 'a') as f:\n",
    "    report = dict({'configuration': configuration}, **score)\n",
    "    writer = csv.DictWriter(f, report.keys())\n",
    "    writer.writerow(report)"
   ]
  }
 ],
 "metadata": {
  "celltoolbar": "Tags",
  "kernelspec": {
   "display_name": "Python 3",
   "language": "python",
   "name": "python3"
  },
  "language_info": {
   "codemirror_mode": {
    "name": "ipython",
    "version": 3
   },
   "file_extension": ".py",
   "mimetype": "text/x-python",
   "name": "python",
   "nbconvert_exporter": "python",
   "pygments_lexer": "ipython3",
   "version": "3.9.1"
  },
  "papermill": {
   "default_parameters": {},
   "duration": 7.066385,
   "end_time": "2021-04-04T23:33:41.317820",
   "environment_variables": {},
   "exception": null,
   "input_path": "main.ipynb",
   "output_path": "runs/dataset_000150-model_000001.ipynb",
   "parameters": {
    "DATASET_CONFIG_PATH": "config/dataset/000150.json",
    "MODEL_CONFIG_PATH": "config/model/000001.json",
    "PROFILE_REPORTING": false
   },
   "start_time": "2021-04-04T23:33:34.251435",
   "version": "2.3.3"
  }
 },
 "nbformat": 4,
 "nbformat_minor": 5
}