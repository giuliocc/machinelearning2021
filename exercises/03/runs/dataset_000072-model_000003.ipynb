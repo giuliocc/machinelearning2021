{
 "cells": [
  {
   "cell_type": "markdown",
   "id": "51c71c25",
   "metadata": {
    "papermill": {
     "duration": 0.034737,
     "end_time": "2021-04-04T23:01:14.272792",
     "exception": false,
     "start_time": "2021-04-04T23:01:14.238055",
     "status": "completed"
    },
    "tags": []
   },
   "source": [
    "# Parametrizing"
   ]
  },
  {
   "cell_type": "code",
   "execution_count": 1,
   "id": "3b136394",
   "metadata": {
    "execution": {
     "iopub.execute_input": "2021-04-04T23:01:14.327120Z",
     "iopub.status.busy": "2021-04-04T23:01:14.325943Z",
     "iopub.status.idle": "2021-04-04T23:01:14.331789Z",
     "shell.execute_reply": "2021-04-04T23:01:14.329959Z"
    },
    "papermill": {
     "duration": 0.039446,
     "end_time": "2021-04-04T23:01:14.332048",
     "exception": false,
     "start_time": "2021-04-04T23:01:14.292602",
     "status": "completed"
    },
    "tags": [
     "parameters"
    ]
   },
   "outputs": [],
   "source": [
    "DATASET_CONFIG_PATH = 'config/dataset/kc1_001.json'\n",
    "MODEL_CONFIG_PATH = 'config/model/knndd_001.json'\n",
    "PROFILE_REPORTING = False"
   ]
  },
  {
   "cell_type": "code",
   "execution_count": 2,
   "id": "56ea703e",
   "metadata": {
    "execution": {
     "iopub.execute_input": "2021-04-04T23:01:14.396101Z",
     "iopub.status.busy": "2021-04-04T23:01:14.394058Z",
     "iopub.status.idle": "2021-04-04T23:01:14.398351Z",
     "shell.execute_reply": "2021-04-04T23:01:14.399220Z"
    },
    "papermill": {
     "duration": 0.039176,
     "end_time": "2021-04-04T23:01:14.399384",
     "exception": false,
     "start_time": "2021-04-04T23:01:14.360208",
     "status": "completed"
    },
    "tags": [
     "injected-parameters"
    ]
   },
   "outputs": [],
   "source": [
    "# Parameters\n",
    "DATASET_CONFIG_PATH = \"config/dataset/000072.json\"\n",
    "MODEL_CONFIG_PATH = \"config/model/000003.json\"\n",
    "PROFILE_REPORTING = False\n"
   ]
  },
  {
   "cell_type": "code",
   "execution_count": 3,
   "id": "b80f2a10",
   "metadata": {
    "execution": {
     "iopub.execute_input": "2021-04-04T23:01:14.463449Z",
     "iopub.status.busy": "2021-04-04T23:01:14.462843Z",
     "iopub.status.idle": "2021-04-04T23:01:14.464798Z",
     "shell.execute_reply": "2021-04-04T23:01:14.465301Z"
    },
    "papermill": {
     "duration": 0.040566,
     "end_time": "2021-04-04T23:01:14.465463",
     "exception": false,
     "start_time": "2021-04-04T23:01:14.424897",
     "status": "completed"
    },
    "tags": []
   },
   "outputs": [],
   "source": [
    "import json\n",
    "\n",
    "\n",
    "with open(DATASET_CONFIG_PATH) as f:\n",
    "    dataset_config = json.load(f)\n",
    "\n",
    "with open(MODEL_CONFIG_PATH) as f:\n",
    "    model_config = json.load(f)"
   ]
  },
  {
   "cell_type": "markdown",
   "id": "9a4b0e2d",
   "metadata": {
    "papermill": {
     "duration": 0.019834,
     "end_time": "2021-04-04T23:01:14.507781",
     "exception": false,
     "start_time": "2021-04-04T23:01:14.487947",
     "status": "completed"
    },
    "tags": []
   },
   "source": [
    "# Profiling"
   ]
  },
  {
   "cell_type": "code",
   "execution_count": 4,
   "id": "a3e0289b",
   "metadata": {
    "execution": {
     "iopub.execute_input": "2021-04-04T23:01:14.565577Z",
     "iopub.status.busy": "2021-04-04T23:01:14.564242Z",
     "iopub.status.idle": "2021-04-04T23:01:15.936144Z",
     "shell.execute_reply": "2021-04-04T23:01:15.935547Z"
    },
    "papermill": {
     "duration": 1.406018,
     "end_time": "2021-04-04T23:01:15.936300",
     "exception": false,
     "start_time": "2021-04-04T23:01:14.530282",
     "status": "completed"
    },
    "tags": []
   },
   "outputs": [],
   "source": [
    "import pandas as pd\n",
    "from pandas_profiling import ProfileReport"
   ]
  },
  {
   "cell_type": "code",
   "execution_count": 5,
   "id": "ee6c0666",
   "metadata": {
    "execution": {
     "iopub.execute_input": "2021-04-04T23:01:15.984117Z",
     "iopub.status.busy": "2021-04-04T23:01:15.983278Z",
     "iopub.status.idle": "2021-04-04T23:01:15.995572Z",
     "shell.execute_reply": "2021-04-04T23:01:15.994972Z"
    },
    "papermill": {
     "duration": 0.036368,
     "end_time": "2021-04-04T23:01:15.995693",
     "exception": false,
     "start_time": "2021-04-04T23:01:15.959325",
     "status": "completed"
    },
    "tags": []
   },
   "outputs": [],
   "source": [
    "df = pd.read_csv(dataset_config['dataset_path'])"
   ]
  },
  {
   "cell_type": "code",
   "execution_count": 6,
   "id": "7eca6c4a",
   "metadata": {
    "execution": {
     "iopub.execute_input": "2021-04-04T23:01:16.064088Z",
     "iopub.status.busy": "2021-04-04T23:01:16.051511Z",
     "iopub.status.idle": "2021-04-04T23:01:16.072638Z",
     "shell.execute_reply": "2021-04-04T23:01:16.071371Z"
    },
    "papermill": {
     "duration": 0.056096,
     "end_time": "2021-04-04T23:01:16.072821",
     "exception": false,
     "start_time": "2021-04-04T23:01:16.016725",
     "status": "completed"
    },
    "tags": []
   },
   "outputs": [
    {
     "name": "stdout",
     "output_type": "stream",
     "text": [
      "<class 'pandas.core.frame.DataFrame'>\n",
      "RangeIndex: 2109 entries, 0 to 2108\n",
      "Data columns (total 23 columns):\n",
      " #   Column             Non-Null Count  Dtype  \n",
      "---  ------             --------------  -----  \n",
      " 0   id                 2109 non-null   int64  \n",
      " 1   loc                2109 non-null   float64\n",
      " 2   v(g)               2109 non-null   float64\n",
      " 3   ev(g)              2109 non-null   float64\n",
      " 4   iv(g)              2109 non-null   float64\n",
      " 5   n                  2109 non-null   float64\n",
      " 6   v                  2109 non-null   float64\n",
      " 7   l                  2109 non-null   float64\n",
      " 8   d                  2109 non-null   float64\n",
      " 9   i                  2109 non-null   float64\n",
      " 10  e                  2109 non-null   float64\n",
      " 11  b                  2109 non-null   float64\n",
      " 12  t                  2109 non-null   float64\n",
      " 13  lOCode             2109 non-null   int64  \n",
      " 14  lOComment          2109 non-null   int64  \n",
      " 15  lOBlank            2109 non-null   int64  \n",
      " 16  locCodeAndComment  2109 non-null   int64  \n",
      " 17  uniq_Op            2109 non-null   float64\n",
      " 18  uniq_Opnd          2109 non-null   float64\n",
      " 19  total_Op           2109 non-null   float64\n",
      " 20  total_Opnd         2109 non-null   float64\n",
      " 21  branchCount        2109 non-null   float64\n",
      " 22  defects            2109 non-null   bool   \n",
      "dtypes: bool(1), float64(17), int64(5)\n",
      "memory usage: 364.7 KB\n"
     ]
    }
   ],
   "source": [
    "df.info()"
   ]
  },
  {
   "cell_type": "code",
   "execution_count": 7,
   "id": "3638e5e8",
   "metadata": {
    "execution": {
     "iopub.execute_input": "2021-04-04T23:01:16.132199Z",
     "iopub.status.busy": "2021-04-04T23:01:16.125819Z",
     "iopub.status.idle": "2021-04-04T23:01:16.151707Z",
     "shell.execute_reply": "2021-04-04T23:01:16.152183Z"
    },
    "papermill": {
     "duration": 0.056749,
     "end_time": "2021-04-04T23:01:16.152326",
     "exception": false,
     "start_time": "2021-04-04T23:01:16.095577",
     "status": "completed"
    },
    "tags": []
   },
   "outputs": [
    {
     "data": {
      "text/html": [
       "<div>\n",
       "<style scoped>\n",
       "    .dataframe tbody tr th:only-of-type {\n",
       "        vertical-align: middle;\n",
       "    }\n",
       "\n",
       "    .dataframe tbody tr th {\n",
       "        vertical-align: top;\n",
       "    }\n",
       "\n",
       "    .dataframe thead th {\n",
       "        text-align: right;\n",
       "    }\n",
       "</style>\n",
       "<table border=\"1\" class=\"dataframe\">\n",
       "  <thead>\n",
       "    <tr style=\"text-align: right;\">\n",
       "      <th></th>\n",
       "      <th>id</th>\n",
       "      <th>loc</th>\n",
       "      <th>v(g)</th>\n",
       "      <th>ev(g)</th>\n",
       "      <th>iv(g)</th>\n",
       "      <th>n</th>\n",
       "      <th>v</th>\n",
       "      <th>l</th>\n",
       "      <th>d</th>\n",
       "      <th>i</th>\n",
       "      <th>...</th>\n",
       "      <th>lOCode</th>\n",
       "      <th>lOComment</th>\n",
       "      <th>lOBlank</th>\n",
       "      <th>locCodeAndComment</th>\n",
       "      <th>uniq_Op</th>\n",
       "      <th>uniq_Opnd</th>\n",
       "      <th>total_Op</th>\n",
       "      <th>total_Opnd</th>\n",
       "      <th>branchCount</th>\n",
       "      <th>defects</th>\n",
       "    </tr>\n",
       "  </thead>\n",
       "  <tbody>\n",
       "    <tr>\n",
       "      <th>0</th>\n",
       "      <td>1</td>\n",
       "      <td>1.1</td>\n",
       "      <td>1.4</td>\n",
       "      <td>1.4</td>\n",
       "      <td>1.4</td>\n",
       "      <td>1.3</td>\n",
       "      <td>1.30</td>\n",
       "      <td>1.30</td>\n",
       "      <td>1.30</td>\n",
       "      <td>1.30</td>\n",
       "      <td>...</td>\n",
       "      <td>2</td>\n",
       "      <td>2</td>\n",
       "      <td>2</td>\n",
       "      <td>2</td>\n",
       "      <td>1.2</td>\n",
       "      <td>1.2</td>\n",
       "      <td>1.2</td>\n",
       "      <td>1.2</td>\n",
       "      <td>1.4</td>\n",
       "      <td>False</td>\n",
       "    </tr>\n",
       "    <tr>\n",
       "      <th>1</th>\n",
       "      <td>2</td>\n",
       "      <td>1.0</td>\n",
       "      <td>1.0</td>\n",
       "      <td>1.0</td>\n",
       "      <td>1.0</td>\n",
       "      <td>1.0</td>\n",
       "      <td>1.00</td>\n",
       "      <td>1.00</td>\n",
       "      <td>1.00</td>\n",
       "      <td>1.00</td>\n",
       "      <td>...</td>\n",
       "      <td>1</td>\n",
       "      <td>1</td>\n",
       "      <td>1</td>\n",
       "      <td>1</td>\n",
       "      <td>1.0</td>\n",
       "      <td>1.0</td>\n",
       "      <td>1.0</td>\n",
       "      <td>1.0</td>\n",
       "      <td>1.0</td>\n",
       "      <td>True</td>\n",
       "    </tr>\n",
       "    <tr>\n",
       "      <th>2</th>\n",
       "      <td>3</td>\n",
       "      <td>83.0</td>\n",
       "      <td>11.0</td>\n",
       "      <td>1.0</td>\n",
       "      <td>11.0</td>\n",
       "      <td>171.0</td>\n",
       "      <td>927.89</td>\n",
       "      <td>0.04</td>\n",
       "      <td>23.04</td>\n",
       "      <td>40.27</td>\n",
       "      <td>...</td>\n",
       "      <td>65</td>\n",
       "      <td>10</td>\n",
       "      <td>6</td>\n",
       "      <td>0</td>\n",
       "      <td>18.0</td>\n",
       "      <td>25.0</td>\n",
       "      <td>107.0</td>\n",
       "      <td>64.0</td>\n",
       "      <td>21.0</td>\n",
       "      <td>True</td>\n",
       "    </tr>\n",
       "    <tr>\n",
       "      <th>3</th>\n",
       "      <td>4</td>\n",
       "      <td>46.0</td>\n",
       "      <td>8.0</td>\n",
       "      <td>6.0</td>\n",
       "      <td>8.0</td>\n",
       "      <td>141.0</td>\n",
       "      <td>769.78</td>\n",
       "      <td>0.07</td>\n",
       "      <td>14.86</td>\n",
       "      <td>51.81</td>\n",
       "      <td>...</td>\n",
       "      <td>37</td>\n",
       "      <td>2</td>\n",
       "      <td>5</td>\n",
       "      <td>0</td>\n",
       "      <td>16.0</td>\n",
       "      <td>28.0</td>\n",
       "      <td>89.0</td>\n",
       "      <td>52.0</td>\n",
       "      <td>15.0</td>\n",
       "      <td>True</td>\n",
       "    </tr>\n",
       "    <tr>\n",
       "      <th>4</th>\n",
       "      <td>5</td>\n",
       "      <td>25.0</td>\n",
       "      <td>3.0</td>\n",
       "      <td>1.0</td>\n",
       "      <td>3.0</td>\n",
       "      <td>58.0</td>\n",
       "      <td>254.75</td>\n",
       "      <td>0.11</td>\n",
       "      <td>9.35</td>\n",
       "      <td>27.25</td>\n",
       "      <td>...</td>\n",
       "      <td>21</td>\n",
       "      <td>0</td>\n",
       "      <td>2</td>\n",
       "      <td>0</td>\n",
       "      <td>11.0</td>\n",
       "      <td>10.0</td>\n",
       "      <td>41.0</td>\n",
       "      <td>17.0</td>\n",
       "      <td>5.0</td>\n",
       "      <td>True</td>\n",
       "    </tr>\n",
       "  </tbody>\n",
       "</table>\n",
       "<p>5 rows × 23 columns</p>\n",
       "</div>"
      ],
      "text/plain": [
       "   id   loc  v(g)  ev(g)  iv(g)      n       v     l      d      i  ...  \\\n",
       "0   1   1.1   1.4    1.4    1.4    1.3    1.30  1.30   1.30   1.30  ...   \n",
       "1   2   1.0   1.0    1.0    1.0    1.0    1.00  1.00   1.00   1.00  ...   \n",
       "2   3  83.0  11.0    1.0   11.0  171.0  927.89  0.04  23.04  40.27  ...   \n",
       "3   4  46.0   8.0    6.0    8.0  141.0  769.78  0.07  14.86  51.81  ...   \n",
       "4   5  25.0   3.0    1.0    3.0   58.0  254.75  0.11   9.35  27.25  ...   \n",
       "\n",
       "   lOCode  lOComment  lOBlank  locCodeAndComment  uniq_Op  uniq_Opnd  \\\n",
       "0       2          2        2                  2      1.2        1.2   \n",
       "1       1          1        1                  1      1.0        1.0   \n",
       "2      65         10        6                  0     18.0       25.0   \n",
       "3      37          2        5                  0     16.0       28.0   \n",
       "4      21          0        2                  0     11.0       10.0   \n",
       "\n",
       "   total_Op  total_Opnd  branchCount  defects  \n",
       "0       1.2         1.2          1.4    False  \n",
       "1       1.0         1.0          1.0     True  \n",
       "2     107.0        64.0         21.0     True  \n",
       "3      89.0        52.0         15.0     True  \n",
       "4      41.0        17.0          5.0     True  \n",
       "\n",
       "[5 rows x 23 columns]"
      ]
     },
     "execution_count": 7,
     "metadata": {},
     "output_type": "execute_result"
    }
   ],
   "source": [
    "df.head()"
   ]
  },
  {
   "cell_type": "code",
   "execution_count": 8,
   "id": "733e95eb",
   "metadata": {
    "execution": {
     "iopub.execute_input": "2021-04-04T23:01:16.206568Z",
     "iopub.status.busy": "2021-04-04T23:01:16.205286Z",
     "iopub.status.idle": "2021-04-04T23:01:16.209977Z",
     "shell.execute_reply": "2021-04-04T23:01:16.210563Z"
    },
    "papermill": {
     "duration": 0.036145,
     "end_time": "2021-04-04T23:01:16.210729",
     "exception": false,
     "start_time": "2021-04-04T23:01:16.174584",
     "status": "completed"
    },
    "tags": []
   },
   "outputs": [],
   "source": [
    "del df['id']"
   ]
  },
  {
   "cell_type": "code",
   "execution_count": 9,
   "id": "6ff6f5b0",
   "metadata": {
    "execution": {
     "iopub.execute_input": "2021-04-04T23:01:16.262111Z",
     "iopub.status.busy": "2021-04-04T23:01:16.261251Z",
     "iopub.status.idle": "2021-04-04T23:01:16.263572Z",
     "shell.execute_reply": "2021-04-04T23:01:16.264074Z"
    },
    "papermill": {
     "duration": 0.031381,
     "end_time": "2021-04-04T23:01:16.264249",
     "exception": false,
     "start_time": "2021-04-04T23:01:16.232868",
     "status": "completed"
    },
    "tags": []
   },
   "outputs": [],
   "source": [
    "if PROFILE_REPORTING:\n",
    "    ProfileReport(df).to_widgets()"
   ]
  },
  {
   "cell_type": "markdown",
   "id": "1deaf3f0",
   "metadata": {
    "papermill": {
     "duration": 0.028579,
     "end_time": "2021-04-04T23:01:16.315756",
     "exception": false,
     "start_time": "2021-04-04T23:01:16.287177",
     "status": "completed"
    },
    "tags": []
   },
   "source": [
    "# Preprocess"
   ]
  },
  {
   "cell_type": "code",
   "execution_count": 10,
   "id": "1513e563",
   "metadata": {
    "execution": {
     "iopub.execute_input": "2021-04-04T23:01:16.381099Z",
     "iopub.status.busy": "2021-04-04T23:01:16.380327Z",
     "iopub.status.idle": "2021-04-04T23:01:16.382671Z",
     "shell.execute_reply": "2021-04-04T23:01:16.383218Z"
    },
    "papermill": {
     "duration": 0.045387,
     "end_time": "2021-04-04T23:01:16.383385",
     "exception": false,
     "start_time": "2021-04-04T23:01:16.337998",
     "status": "completed"
    },
    "tags": []
   },
   "outputs": [],
   "source": [
    "working_df = df.copy()"
   ]
  },
  {
   "cell_type": "code",
   "execution_count": 11,
   "id": "3b26d675",
   "metadata": {
    "execution": {
     "iopub.execute_input": "2021-04-04T23:01:16.457455Z",
     "iopub.status.busy": "2021-04-04T23:01:16.455374Z",
     "iopub.status.idle": "2021-04-04T23:01:16.460311Z",
     "shell.execute_reply": "2021-04-04T23:01:16.459616Z"
    },
    "papermill": {
     "duration": 0.045628,
     "end_time": "2021-04-04T23:01:16.460472",
     "exception": false,
     "start_time": "2021-04-04T23:01:16.414844",
     "status": "completed"
    },
    "tags": []
   },
   "outputs": [],
   "source": [
    "working_df['defects'] = working_df['defects'].replace([False, True], [0, 1])"
   ]
  },
  {
   "cell_type": "code",
   "execution_count": 12,
   "id": "eb48604f",
   "metadata": {
    "execution": {
     "iopub.execute_input": "2021-04-04T23:01:16.513007Z",
     "iopub.status.busy": "2021-04-04T23:01:16.512268Z",
     "iopub.status.idle": "2021-04-04T23:01:16.514638Z",
     "shell.execute_reply": "2021-04-04T23:01:16.515174Z"
    },
    "papermill": {
     "duration": 0.031371,
     "end_time": "2021-04-04T23:01:16.515345",
     "exception": false,
     "start_time": "2021-04-04T23:01:16.483974",
     "status": "completed"
    },
    "tags": []
   },
   "outputs": [],
   "source": [
    "for col in dataset_config['delete_columns']:\n",
    "    del working_df[col]"
   ]
  },
  {
   "cell_type": "code",
   "execution_count": 13,
   "id": "9a17bc29",
   "metadata": {
    "execution": {
     "iopub.execute_input": "2021-04-04T23:01:16.572946Z",
     "iopub.status.busy": "2021-04-04T23:01:16.571689Z",
     "iopub.status.idle": "2021-04-04T23:01:16.581890Z",
     "shell.execute_reply": "2021-04-04T23:01:16.581287Z"
    },
    "papermill": {
     "duration": 0.043334,
     "end_time": "2021-04-04T23:01:16.582011",
     "exception": false,
     "start_time": "2021-04-04T23:01:16.538677",
     "status": "completed"
    },
    "tags": []
   },
   "outputs": [],
   "source": [
    "working_df = working_df.drop_duplicates()"
   ]
  },
  {
   "cell_type": "markdown",
   "id": "a4d52ca6",
   "metadata": {
    "papermill": {
     "duration": 0.023783,
     "end_time": "2021-04-04T23:01:16.627963",
     "exception": false,
     "start_time": "2021-04-04T23:01:16.604180",
     "status": "completed"
    },
    "tags": []
   },
   "source": [
    "# Split"
   ]
  },
  {
   "cell_type": "code",
   "execution_count": 14,
   "id": "3e9ee4b5",
   "metadata": {
    "execution": {
     "iopub.execute_input": "2021-04-04T23:01:16.681100Z",
     "iopub.status.busy": "2021-04-04T23:01:16.679479Z",
     "iopub.status.idle": "2021-04-04T23:01:16.715074Z",
     "shell.execute_reply": "2021-04-04T23:01:16.715526Z"
    },
    "papermill": {
     "duration": 0.066078,
     "end_time": "2021-04-04T23:01:16.715668",
     "exception": false,
     "start_time": "2021-04-04T23:01:16.649590",
     "status": "completed"
    },
    "tags": []
   },
   "outputs": [],
   "source": [
    "from sklearn.model_selection import train_test_split"
   ]
  },
  {
   "cell_type": "code",
   "execution_count": 15,
   "id": "274004ce",
   "metadata": {
    "execution": {
     "iopub.execute_input": "2021-04-04T23:01:16.773452Z",
     "iopub.status.busy": "2021-04-04T23:01:16.772830Z",
     "iopub.status.idle": "2021-04-04T23:01:16.777258Z",
     "shell.execute_reply": "2021-04-04T23:01:16.777733Z"
    },
    "papermill": {
     "duration": 0.03775,
     "end_time": "2021-04-04T23:01:16.777880",
     "exception": false,
     "start_time": "2021-04-04T23:01:16.740130",
     "status": "completed"
    },
    "scrolled": true,
    "tags": []
   },
   "outputs": [],
   "source": [
    "inlier, outlier = working_df[working_df['defects'] == 0], working_df[working_df['defects'] == 1]"
   ]
  },
  {
   "cell_type": "code",
   "execution_count": 16,
   "id": "753c7b03",
   "metadata": {
    "execution": {
     "iopub.execute_input": "2021-04-04T23:01:16.842691Z",
     "iopub.status.busy": "2021-04-04T23:01:16.841603Z",
     "iopub.status.idle": "2021-04-04T23:01:16.845453Z",
     "shell.execute_reply": "2021-04-04T23:01:16.845927Z"
    },
    "papermill": {
     "duration": 0.041435,
     "end_time": "2021-04-04T23:01:16.846075",
     "exception": false,
     "start_time": "2021-04-04T23:01:16.804640",
     "status": "completed"
    },
    "tags": []
   },
   "outputs": [],
   "source": [
    "X_inlier = inlier.copy()\n",
    "y_inlier = X_inlier.pop('defects')\n",
    "X_outlier = outlier.copy()\n",
    "y_outlier = X_outlier.pop('defects')"
   ]
  },
  {
   "cell_type": "code",
   "execution_count": 17,
   "id": "2ba43193",
   "metadata": {
    "execution": {
     "iopub.execute_input": "2021-04-04T23:01:16.900869Z",
     "iopub.status.busy": "2021-04-04T23:01:16.900241Z",
     "iopub.status.idle": "2021-04-04T23:01:16.904164Z",
     "shell.execute_reply": "2021-04-04T23:01:16.903586Z"
    },
    "papermill": {
     "duration": 0.034553,
     "end_time": "2021-04-04T23:01:16.904302",
     "exception": false,
     "start_time": "2021-04-04T23:01:16.869749",
     "status": "completed"
    },
    "tags": []
   },
   "outputs": [],
   "source": [
    "test_size = dataset_config['test_size']\n",
    "random_state = dataset_config['random_state']\n",
    "\n",
    "X_inlier_train, X_inlier_test, y_inlier_train, y_inlier_test = train_test_split(\n",
    "    X_inlier,\n",
    "    y_inlier,\n",
    "    test_size=test_size,\n",
    "    random_state=random_state\n",
    ")"
   ]
  },
  {
   "cell_type": "code",
   "execution_count": 18,
   "id": "0b7582ca",
   "metadata": {
    "execution": {
     "iopub.execute_input": "2021-04-04T23:01:16.972760Z",
     "iopub.status.busy": "2021-04-04T23:01:16.968693Z",
     "iopub.status.idle": "2021-04-04T23:01:16.974872Z",
     "shell.execute_reply": "2021-04-04T23:01:16.975475Z"
    },
    "papermill": {
     "duration": 0.046214,
     "end_time": "2021-04-04T23:01:16.975757",
     "exception": false,
     "start_time": "2021-04-04T23:01:16.929543",
     "status": "completed"
    },
    "tags": []
   },
   "outputs": [],
   "source": [
    "test_outlier_size = dataset_config['test_outlier_size']\n",
    "if test_outlier_size > 0.0:\n",
    "    X_outlier_train, X_outlier_test, y_outlier_train, y_outlier_test = train_test_split(\n",
    "        X_outlier,\n",
    "        y_outlier,\n",
    "        test_size=test_outlier_size,\n",
    "        random_state=random_state\n",
    "    )\n",
    "else:\n",
    "    X_outlier_train, y_outlier_train = pd.DataFrame(columns=X_outlier.columns), pd.Series(dtype='int64')\n",
    "    X_outlier_test, y_outlier_test = X_outlier.copy(), y_outlier.copy()"
   ]
  },
  {
   "cell_type": "code",
   "execution_count": 19,
   "id": "c34363db",
   "metadata": {
    "execution": {
     "iopub.execute_input": "2021-04-04T23:01:17.035401Z",
     "iopub.status.busy": "2021-04-04T23:01:17.030565Z",
     "iopub.status.idle": "2021-04-04T23:01:17.037949Z",
     "shell.execute_reply": "2021-04-04T23:01:17.037474Z"
    },
    "papermill": {
     "duration": 0.038131,
     "end_time": "2021-04-04T23:01:17.038091",
     "exception": false,
     "start_time": "2021-04-04T23:01:16.999960",
     "status": "completed"
    },
    "tags": []
   },
   "outputs": [],
   "source": [
    "X_train, y_train = pd.concat([X_inlier_train, X_outlier_train], ignore_index=True), pd.concat([y_inlier_train, y_outlier_train], ignore_index=True)\n",
    "X_test, y_test = pd.concat([X_inlier_test, X_outlier_test], ignore_index=True), pd.concat([y_inlier_test, y_outlier_test], ignore_index=True)"
   ]
  },
  {
   "cell_type": "markdown",
   "id": "7cde7309",
   "metadata": {
    "papermill": {
     "duration": 0.026784,
     "end_time": "2021-04-04T23:01:17.089820",
     "exception": false,
     "start_time": "2021-04-04T23:01:17.063036",
     "status": "completed"
    },
    "tags": []
   },
   "source": [
    "# Model"
   ]
  },
  {
   "cell_type": "code",
   "execution_count": 20,
   "id": "2b12a415",
   "metadata": {
    "execution": {
     "iopub.execute_input": "2021-04-04T23:01:17.150910Z",
     "iopub.status.busy": "2021-04-04T23:01:17.150096Z",
     "iopub.status.idle": "2021-04-04T23:01:17.152746Z",
     "shell.execute_reply": "2021-04-04T23:01:17.152240Z"
    },
    "papermill": {
     "duration": 0.036294,
     "end_time": "2021-04-04T23:01:17.152866",
     "exception": false,
     "start_time": "2021-04-04T23:01:17.116572",
     "status": "completed"
    },
    "tags": []
   },
   "outputs": [],
   "source": [
    "from math import sqrt\n",
    "\n",
    "\n",
    "class KNNDataDescription:\n",
    "    def __init__(self, k=5, outlier_threshold=1.0):\n",
    "        self.k = k\n",
    "        self.outlier_threshold = outlier_threshold\n",
    "        self.X = []\n",
    "    \n",
    "    def fit(self, X):\n",
    "        self.X = [features.to_list() for index, features in X.iterrows()]\n",
    "\n",
    "    def predict(self, entries):\n",
    "        return [self.predict_entry(features.to_list()) for index, features in entries.iterrows()]\n",
    "    \n",
    "    def predict_entry(self, entry):\n",
    "        kth_neighbor, kth_distance = self.get_kth_neighbor(entry, self.k)\n",
    "        kth_kth_neighbor, kth_kth_distance = self.get_kth_neighbor(kth_neighbor, self.k + 1)\n",
    "\n",
    "        outlier_score = kth_distance / (kth_kth_distance + 0.000001)\n",
    "\n",
    "        return 1 if outlier_score < self.outlier_threshold else -1\n",
    "        \n",
    "    def euclidean_distance(self, features1, features2):\n",
    "        distance = 0.0\n",
    "        for feat1, feat2 in zip(features1, features2):\n",
    "            distance += (feat1 - feat2)**2\n",
    "                \n",
    "        return sqrt(distance)\n",
    "\n",
    "    def get_neighbors(self, entry, k):\n",
    "        distance_to_data_points = [\n",
    "            (data_point, self.euclidean_distance(entry, data_point))\n",
    "            for data_point in self.X\n",
    "        ]\n",
    "        sorted_by_distance = sorted(distance_to_data_points, key=lambda tup: tup[1])\n",
    "        neighbors = sorted_by_distance[:k]\n",
    "        return neighbors\n",
    "\n",
    "    def get_kth_neighbor(self, entry, k):\n",
    "        neighbors = self.get_neighbors(entry, k)\n",
    "        return neighbors[-1]\n"
   ]
  },
  {
   "cell_type": "code",
   "execution_count": 21,
   "id": "1fa9ec1c",
   "metadata": {
    "execution": {
     "iopub.execute_input": "2021-04-04T23:01:17.216822Z",
     "iopub.status.busy": "2021-04-04T23:01:17.215979Z",
     "iopub.status.idle": "2021-04-04T23:01:17.244365Z",
     "shell.execute_reply": "2021-04-04T23:01:17.244822Z"
    },
    "papermill": {
     "duration": 0.066015,
     "end_time": "2021-04-04T23:01:17.244972",
     "exception": false,
     "start_time": "2021-04-04T23:01:17.178957",
     "status": "completed"
    },
    "tags": []
   },
   "outputs": [],
   "source": [
    "from sklearn.svm import OneClassSVM\n",
    "\n",
    "\n",
    "models = {\n",
    "    'oneclasssvm': OneClassSVM,\n",
    "    'knndatadescription': KNNDataDescription,\n",
    "}"
   ]
  },
  {
   "cell_type": "code",
   "execution_count": 22,
   "id": "4d72a0b1",
   "metadata": {
    "execution": {
     "iopub.execute_input": "2021-04-04T23:01:17.299574Z",
     "iopub.status.busy": "2021-04-04T23:01:17.298988Z",
     "iopub.status.idle": "2021-04-04T23:01:17.300916Z",
     "shell.execute_reply": "2021-04-04T23:01:17.301387Z"
    },
    "papermill": {
     "duration": 0.031193,
     "end_time": "2021-04-04T23:01:17.301530",
     "exception": false,
     "start_time": "2021-04-04T23:01:17.270337",
     "status": "completed"
    },
    "scrolled": true,
    "tags": []
   },
   "outputs": [],
   "source": [
    "model_cls = models[model_config['model_type']]\n",
    "model = model_cls(**model_config['hyperparameters'])"
   ]
  },
  {
   "cell_type": "markdown",
   "id": "e00cff3b",
   "metadata": {
    "papermill": {
     "duration": 0.032579,
     "end_time": "2021-04-04T23:01:17.358942",
     "exception": false,
     "start_time": "2021-04-04T23:01:17.326363",
     "status": "completed"
    },
    "tags": []
   },
   "source": [
    "# Fit"
   ]
  },
  {
   "cell_type": "code",
   "execution_count": 23,
   "id": "8b2ded89",
   "metadata": {
    "execution": {
     "iopub.execute_input": "2021-04-04T23:01:17.425265Z",
     "iopub.status.busy": "2021-04-04T23:01:17.423694Z",
     "iopub.status.idle": "2021-04-04T23:01:17.480491Z",
     "shell.execute_reply": "2021-04-04T23:01:17.479793Z"
    },
    "papermill": {
     "duration": 0.092146,
     "end_time": "2021-04-04T23:01:17.480609",
     "exception": false,
     "start_time": "2021-04-04T23:01:17.388463",
     "status": "completed"
    },
    "tags": []
   },
   "outputs": [],
   "source": [
    "model.fit(X_train)"
   ]
  },
  {
   "cell_type": "markdown",
   "id": "f99999f7",
   "metadata": {
    "papermill": {
     "duration": 0.026419,
     "end_time": "2021-04-04T23:01:17.530465",
     "exception": false,
     "start_time": "2021-04-04T23:01:17.504046",
     "status": "completed"
    },
    "tags": []
   },
   "source": [
    "# Predict"
   ]
  },
  {
   "cell_type": "code",
   "execution_count": 24,
   "id": "6536fbf7",
   "metadata": {
    "execution": {
     "iopub.execute_input": "2021-04-04T23:01:17.641052Z",
     "iopub.status.busy": "2021-04-04T23:01:17.604213Z",
     "iopub.status.idle": "2021-04-04T23:01:20.047923Z",
     "shell.execute_reply": "2021-04-04T23:01:20.047354Z"
    },
    "papermill": {
     "duration": 2.492882,
     "end_time": "2021-04-04T23:01:20.048053",
     "exception": false,
     "start_time": "2021-04-04T23:01:17.555171",
     "status": "completed"
    },
    "tags": []
   },
   "outputs": [],
   "source": [
    "predictions = model.predict(X_test)"
   ]
  },
  {
   "cell_type": "markdown",
   "id": "aa1c9881",
   "metadata": {
    "papermill": {
     "duration": 0.025651,
     "end_time": "2021-04-04T23:01:20.101063",
     "exception": false,
     "start_time": "2021-04-04T23:01:20.075412",
     "status": "completed"
    },
    "tags": []
   },
   "source": [
    "# Evaluate"
   ]
  },
  {
   "cell_type": "code",
   "execution_count": 25,
   "id": "894f0f04",
   "metadata": {
    "execution": {
     "iopub.execute_input": "2021-04-04T23:01:20.154848Z",
     "iopub.status.busy": "2021-04-04T23:01:20.153941Z",
     "iopub.status.idle": "2021-04-04T23:01:20.155971Z",
     "shell.execute_reply": "2021-04-04T23:01:20.156442Z"
    },
    "papermill": {
     "duration": 0.029651,
     "end_time": "2021-04-04T23:01:20.156586",
     "exception": false,
     "start_time": "2021-04-04T23:01:20.126935",
     "status": "completed"
    },
    "tags": []
   },
   "outputs": [],
   "source": [
    "from sklearn.metrics import f1_score"
   ]
  },
  {
   "cell_type": "code",
   "execution_count": 26,
   "id": "211744d3",
   "metadata": {
    "execution": {
     "iopub.execute_input": "2021-04-04T23:01:20.220507Z",
     "iopub.status.busy": "2021-04-04T23:01:20.218916Z",
     "iopub.status.idle": "2021-04-04T23:01:20.223357Z",
     "shell.execute_reply": "2021-04-04T23:01:20.223940Z"
    },
    "papermill": {
     "duration": 0.041265,
     "end_time": "2021-04-04T23:01:20.224137",
     "exception": false,
     "start_time": "2021-04-04T23:01:20.182872",
     "status": "completed"
    },
    "tags": []
   },
   "outputs": [],
   "source": [
    "y_test = y_test.replace([0, 1], [1, -1])"
   ]
  },
  {
   "cell_type": "code",
   "execution_count": 27,
   "id": "d68a9204",
   "metadata": {
    "execution": {
     "iopub.execute_input": "2021-04-04T23:01:20.285643Z",
     "iopub.status.busy": "2021-04-04T23:01:20.284755Z",
     "iopub.status.idle": "2021-04-04T23:01:20.287028Z",
     "shell.execute_reply": "2021-04-04T23:01:20.287550Z"
    },
    "papermill": {
     "duration": 0.038056,
     "end_time": "2021-04-04T23:01:20.287703",
     "exception": false,
     "start_time": "2021-04-04T23:01:20.249647",
     "status": "completed"
    },
    "tags": []
   },
   "outputs": [],
   "source": [
    "def evaluate(truths, predictions, pos_label, neg_label):\n",
    "    TP = 0\n",
    "    FP = 0\n",
    "    TN = 0\n",
    "    FN = 0\n",
    "\n",
    "    for truth, pred in zip(truths, predictions): \n",
    "        if truth == pred == pos_label:\n",
    "           TP += 1\n",
    "        elif pred == pos_label and truth == neg_label:\n",
    "           FP += 1\n",
    "        elif truth == pred == neg_label:\n",
    "           TN += 1\n",
    "        elif pred == neg_label and truth == pos_label:\n",
    "           FN += 1\n",
    "\n",
    "    precision = TP / (TP + FP)\n",
    "    sensitivity = TP / (TP + FN)\n",
    "    \n",
    "    return {\n",
    "        'true_pos': TP,\n",
    "        'false_pos': FP,\n",
    "        'false_neg': FN,\n",
    "        'true_neg': TN,\n",
    "        'precision': precision,\n",
    "        'sensitivity': sensitivity,\n",
    "        'f1': (2 * (precision * sensitivity)) / (precision + sensitivity)\n",
    "    }\n",
    "\n",
    "score = evaluate(y_test, predictions, pos_label=-1, neg_label=1)"
   ]
  },
  {
   "cell_type": "markdown",
   "id": "93596516",
   "metadata": {
    "papermill": {
     "duration": 0.028028,
     "end_time": "2021-04-04T23:01:20.339895",
     "exception": false,
     "start_time": "2021-04-04T23:01:20.311867",
     "status": "completed"
    },
    "tags": []
   },
   "source": [
    "# Report"
   ]
  },
  {
   "cell_type": "code",
   "execution_count": 28,
   "id": "bea5fba1",
   "metadata": {
    "execution": {
     "iopub.execute_input": "2021-04-04T23:01:20.414019Z",
     "iopub.status.busy": "2021-04-04T23:01:20.405903Z",
     "iopub.status.idle": "2021-04-04T23:01:20.417375Z",
     "shell.execute_reply": "2021-04-04T23:01:20.417930Z"
    },
    "papermill": {
     "duration": 0.043329,
     "end_time": "2021-04-04T23:01:20.418181",
     "exception": false,
     "start_time": "2021-04-04T23:01:20.374852",
     "status": "completed"
    },
    "tags": []
   },
   "outputs": [],
   "source": [
    "import csv\n",
    "\n",
    "\n",
    "dataset_config_name = DATASET_CONFIG_PATH.split('/')[-1].split('.')[0]\n",
    "model_config_name = MODEL_CONFIG_PATH.split('/')[-1].split('.')[0]\n",
    "configuration = f\"dataset_{dataset_config_name}-model_{model_config_name}\"\n",
    "\n",
    "with open('results.csv', 'a') as f:\n",
    "    report = dict({'configuration': configuration}, **score)\n",
    "    writer = csv.DictWriter(f, report.keys())\n",
    "    writer.writerow(report)"
   ]
  }
 ],
 "metadata": {
  "celltoolbar": "Tags",
  "kernelspec": {
   "display_name": "Python 3",
   "language": "python",
   "name": "python3"
  },
  "language_info": {
   "codemirror_mode": {
    "name": "ipython",
    "version": 3
   },
   "file_extension": ".py",
   "mimetype": "text/x-python",
   "name": "python",
   "nbconvert_exporter": "python",
   "pygments_lexer": "ipython3",
   "version": "3.9.1"
  },
  "papermill": {
   "default_parameters": {},
   "duration": 7.577616,
   "end_time": "2021-04-04T23:01:21.052627",
   "environment_variables": {},
   "exception": null,
   "input_path": "main.ipynb",
   "output_path": "runs/dataset_000072-model_000003.ipynb",
   "parameters": {
    "DATASET_CONFIG_PATH": "config/dataset/000072.json",
    "MODEL_CONFIG_PATH": "config/model/000003.json",
    "PROFILE_REPORTING": false
   },
   "start_time": "2021-04-04T23:01:13.475011",
   "version": "2.3.3"
  }
 },
 "nbformat": 4,
 "nbformat_minor": 5
}