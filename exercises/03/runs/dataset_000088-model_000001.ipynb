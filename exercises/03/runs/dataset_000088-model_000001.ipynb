{
 "cells": [
  {
   "cell_type": "markdown",
   "id": "51c71c25",
   "metadata": {
    "papermill": {
     "duration": 0.030204,
     "end_time": "2021-04-04T23:08:02.388842",
     "exception": false,
     "start_time": "2021-04-04T23:08:02.358638",
     "status": "completed"
    },
    "tags": []
   },
   "source": [
    "# Parametrizing"
   ]
  },
  {
   "cell_type": "code",
   "execution_count": 1,
   "id": "3b136394",
   "metadata": {
    "execution": {
     "iopub.execute_input": "2021-04-04T23:08:02.441724Z",
     "iopub.status.busy": "2021-04-04T23:08:02.437798Z",
     "iopub.status.idle": "2021-04-04T23:08:02.445303Z",
     "shell.execute_reply": "2021-04-04T23:08:02.444348Z"
    },
    "papermill": {
     "duration": 0.035915,
     "end_time": "2021-04-04T23:08:02.445488",
     "exception": false,
     "start_time": "2021-04-04T23:08:02.409573",
     "status": "completed"
    },
    "tags": [
     "parameters"
    ]
   },
   "outputs": [],
   "source": [
    "DATASET_CONFIG_PATH = 'config/dataset/kc1_001.json'\n",
    "MODEL_CONFIG_PATH = 'config/model/knndd_001.json'\n",
    "PROFILE_REPORTING = False"
   ]
  },
  {
   "cell_type": "code",
   "execution_count": 2,
   "id": "9e503ffc",
   "metadata": {
    "execution": {
     "iopub.execute_input": "2021-04-04T23:08:02.497925Z",
     "iopub.status.busy": "2021-04-04T23:08:02.496421Z",
     "iopub.status.idle": "2021-04-04T23:08:02.500955Z",
     "shell.execute_reply": "2021-04-04T23:08:02.500043Z"
    },
    "papermill": {
     "duration": 0.028829,
     "end_time": "2021-04-04T23:08:02.501157",
     "exception": false,
     "start_time": "2021-04-04T23:08:02.472328",
     "status": "completed"
    },
    "tags": [
     "injected-parameters"
    ]
   },
   "outputs": [],
   "source": [
    "# Parameters\n",
    "DATASET_CONFIG_PATH = \"config/dataset/000088.json\"\n",
    "MODEL_CONFIG_PATH = \"config/model/000001.json\"\n",
    "PROFILE_REPORTING = False\n"
   ]
  },
  {
   "cell_type": "code",
   "execution_count": 3,
   "id": "b80f2a10",
   "metadata": {
    "execution": {
     "iopub.execute_input": "2021-04-04T23:08:02.549940Z",
     "iopub.status.busy": "2021-04-04T23:08:02.548800Z",
     "iopub.status.idle": "2021-04-04T23:08:02.552129Z",
     "shell.execute_reply": "2021-04-04T23:08:02.552880Z"
    },
    "papermill": {
     "duration": 0.029469,
     "end_time": "2021-04-04T23:08:02.553090",
     "exception": false,
     "start_time": "2021-04-04T23:08:02.523621",
     "status": "completed"
    },
    "tags": []
   },
   "outputs": [],
   "source": [
    "import json\n",
    "\n",
    "\n",
    "with open(DATASET_CONFIG_PATH) as f:\n",
    "    dataset_config = json.load(f)\n",
    "\n",
    "with open(MODEL_CONFIG_PATH) as f:\n",
    "    model_config = json.load(f)"
   ]
  },
  {
   "cell_type": "markdown",
   "id": "9a4b0e2d",
   "metadata": {
    "papermill": {
     "duration": 0.019286,
     "end_time": "2021-04-04T23:08:02.595419",
     "exception": false,
     "start_time": "2021-04-04T23:08:02.576133",
     "status": "completed"
    },
    "tags": []
   },
   "source": [
    "# Profiling"
   ]
  },
  {
   "cell_type": "code",
   "execution_count": 4,
   "id": "a3e0289b",
   "metadata": {
    "execution": {
     "iopub.execute_input": "2021-04-04T23:08:02.639302Z",
     "iopub.status.busy": "2021-04-04T23:08:02.638635Z",
     "iopub.status.idle": "2021-04-04T23:08:03.924221Z",
     "shell.execute_reply": "2021-04-04T23:08:03.923395Z"
    },
    "papermill": {
     "duration": 1.309407,
     "end_time": "2021-04-04T23:08:03.924399",
     "exception": false,
     "start_time": "2021-04-04T23:08:02.614992",
     "status": "completed"
    },
    "tags": []
   },
   "outputs": [],
   "source": [
    "import pandas as pd\n",
    "from pandas_profiling import ProfileReport"
   ]
  },
  {
   "cell_type": "code",
   "execution_count": 5,
   "id": "ee6c0666",
   "metadata": {
    "execution": {
     "iopub.execute_input": "2021-04-04T23:08:03.977842Z",
     "iopub.status.busy": "2021-04-04T23:08:03.976765Z",
     "iopub.status.idle": "2021-04-04T23:08:03.990556Z",
     "shell.execute_reply": "2021-04-04T23:08:03.991691Z"
    },
    "papermill": {
     "duration": 0.041215,
     "end_time": "2021-04-04T23:08:03.992004",
     "exception": false,
     "start_time": "2021-04-04T23:08:03.950789",
     "status": "completed"
    },
    "tags": []
   },
   "outputs": [],
   "source": [
    "df = pd.read_csv(dataset_config['dataset_path'])"
   ]
  },
  {
   "cell_type": "code",
   "execution_count": 6,
   "id": "7eca6c4a",
   "metadata": {
    "execution": {
     "iopub.execute_input": "2021-04-04T23:08:04.057932Z",
     "iopub.status.busy": "2021-04-04T23:08:04.056847Z",
     "iopub.status.idle": "2021-04-04T23:08:04.060676Z",
     "shell.execute_reply": "2021-04-04T23:08:04.061709Z"
    },
    "papermill": {
     "duration": 0.047738,
     "end_time": "2021-04-04T23:08:04.062004",
     "exception": false,
     "start_time": "2021-04-04T23:08:04.014266",
     "status": "completed"
    },
    "tags": []
   },
   "outputs": [
    {
     "name": "stdout",
     "output_type": "stream",
     "text": [
      "<class 'pandas.core.frame.DataFrame'>\n",
      "RangeIndex: 498 entries, 0 to 497\n",
      "Data columns (total 23 columns):\n",
      " #   Column             Non-Null Count  Dtype  \n",
      "---  ------             --------------  -----  \n",
      " 0   id                 498 non-null    int64  \n",
      " 1   loc                498 non-null    float64\n",
      " 2   v(g)               498 non-null    float64\n",
      " 3   ev(g)              498 non-null    float64\n",
      " 4   iv(g)              498 non-null    float64\n",
      " 5   n                  498 non-null    float64\n",
      " 6   v                  498 non-null    float64\n",
      " 7   l                  498 non-null    float64\n",
      " 8   d                  498 non-null    float64\n",
      " 9   i                  498 non-null    float64\n",
      " 10  e                  498 non-null    float64\n",
      " 11  b                  498 non-null    float64\n",
      " 12  t                  498 non-null    float64\n",
      " 13  lOCode             498 non-null    int64  \n",
      " 14  lOComment          498 non-null    int64  \n",
      " 15  lOBlank            498 non-null    int64  \n",
      " 16  locCodeAndComment  498 non-null    int64  \n",
      " 17  uniq_Op            498 non-null    float64\n",
      " 18  uniq_Opnd          498 non-null    float64\n",
      " 19  total_Op           498 non-null    float64\n",
      " 20  total_Opnd         498 non-null    float64\n",
      " 21  branchCount        498 non-null    float64\n",
      " 22  defects            498 non-null    bool   \n",
      "dtypes: bool(1), float64(17), int64(5)\n",
      "memory usage: 86.2 KB\n"
     ]
    }
   ],
   "source": [
    "df.info()"
   ]
  },
  {
   "cell_type": "code",
   "execution_count": 7,
   "id": "3638e5e8",
   "metadata": {
    "execution": {
     "iopub.execute_input": "2021-04-04T23:08:04.121812Z",
     "iopub.status.busy": "2021-04-04T23:08:04.121161Z",
     "iopub.status.idle": "2021-04-04T23:08:04.148642Z",
     "shell.execute_reply": "2021-04-04T23:08:04.149511Z"
    },
    "papermill": {
     "duration": 0.058615,
     "end_time": "2021-04-04T23:08:04.149750",
     "exception": false,
     "start_time": "2021-04-04T23:08:04.091135",
     "status": "completed"
    },
    "tags": []
   },
   "outputs": [
    {
     "data": {
      "text/html": [
       "<div>\n",
       "<style scoped>\n",
       "    .dataframe tbody tr th:only-of-type {\n",
       "        vertical-align: middle;\n",
       "    }\n",
       "\n",
       "    .dataframe tbody tr th {\n",
       "        vertical-align: top;\n",
       "    }\n",
       "\n",
       "    .dataframe thead th {\n",
       "        text-align: right;\n",
       "    }\n",
       "</style>\n",
       "<table border=\"1\" class=\"dataframe\">\n",
       "  <thead>\n",
       "    <tr style=\"text-align: right;\">\n",
       "      <th></th>\n",
       "      <th>id</th>\n",
       "      <th>loc</th>\n",
       "      <th>v(g)</th>\n",
       "      <th>ev(g)</th>\n",
       "      <th>iv(g)</th>\n",
       "      <th>n</th>\n",
       "      <th>v</th>\n",
       "      <th>l</th>\n",
       "      <th>d</th>\n",
       "      <th>i</th>\n",
       "      <th>...</th>\n",
       "      <th>lOCode</th>\n",
       "      <th>lOComment</th>\n",
       "      <th>lOBlank</th>\n",
       "      <th>locCodeAndComment</th>\n",
       "      <th>uniq_Op</th>\n",
       "      <th>uniq_Opnd</th>\n",
       "      <th>total_Op</th>\n",
       "      <th>total_Opnd</th>\n",
       "      <th>branchCount</th>\n",
       "      <th>defects</th>\n",
       "    </tr>\n",
       "  </thead>\n",
       "  <tbody>\n",
       "    <tr>\n",
       "      <th>0</th>\n",
       "      <td>1</td>\n",
       "      <td>1.1</td>\n",
       "      <td>1.4</td>\n",
       "      <td>1.4</td>\n",
       "      <td>1.4</td>\n",
       "      <td>1.3</td>\n",
       "      <td>1.30</td>\n",
       "      <td>1.30</td>\n",
       "      <td>1.30</td>\n",
       "      <td>1.30</td>\n",
       "      <td>...</td>\n",
       "      <td>2</td>\n",
       "      <td>2</td>\n",
       "      <td>2</td>\n",
       "      <td>2</td>\n",
       "      <td>1.2</td>\n",
       "      <td>1.2</td>\n",
       "      <td>1.2</td>\n",
       "      <td>1.2</td>\n",
       "      <td>1.4</td>\n",
       "      <td>False</td>\n",
       "    </tr>\n",
       "    <tr>\n",
       "      <th>1</th>\n",
       "      <td>2</td>\n",
       "      <td>1.0</td>\n",
       "      <td>1.0</td>\n",
       "      <td>1.0</td>\n",
       "      <td>1.0</td>\n",
       "      <td>1.0</td>\n",
       "      <td>1.00</td>\n",
       "      <td>1.00</td>\n",
       "      <td>1.00</td>\n",
       "      <td>1.00</td>\n",
       "      <td>...</td>\n",
       "      <td>1</td>\n",
       "      <td>1</td>\n",
       "      <td>1</td>\n",
       "      <td>1</td>\n",
       "      <td>1.0</td>\n",
       "      <td>1.0</td>\n",
       "      <td>1.0</td>\n",
       "      <td>1.0</td>\n",
       "      <td>1.0</td>\n",
       "      <td>True</td>\n",
       "    </tr>\n",
       "    <tr>\n",
       "      <th>2</th>\n",
       "      <td>3</td>\n",
       "      <td>24.0</td>\n",
       "      <td>5.0</td>\n",
       "      <td>1.0</td>\n",
       "      <td>3.0</td>\n",
       "      <td>63.0</td>\n",
       "      <td>309.13</td>\n",
       "      <td>0.11</td>\n",
       "      <td>9.50</td>\n",
       "      <td>32.54</td>\n",
       "      <td>...</td>\n",
       "      <td>1</td>\n",
       "      <td>0</td>\n",
       "      <td>6</td>\n",
       "      <td>0</td>\n",
       "      <td>15.0</td>\n",
       "      <td>15.0</td>\n",
       "      <td>44.0</td>\n",
       "      <td>19.0</td>\n",
       "      <td>9.0</td>\n",
       "      <td>False</td>\n",
       "    </tr>\n",
       "    <tr>\n",
       "      <th>3</th>\n",
       "      <td>4</td>\n",
       "      <td>20.0</td>\n",
       "      <td>4.0</td>\n",
       "      <td>4.0</td>\n",
       "      <td>2.0</td>\n",
       "      <td>47.0</td>\n",
       "      <td>215.49</td>\n",
       "      <td>0.06</td>\n",
       "      <td>16.00</td>\n",
       "      <td>13.47</td>\n",
       "      <td>...</td>\n",
       "      <td>0</td>\n",
       "      <td>0</td>\n",
       "      <td>3</td>\n",
       "      <td>0</td>\n",
       "      <td>16.0</td>\n",
       "      <td>8.0</td>\n",
       "      <td>31.0</td>\n",
       "      <td>16.0</td>\n",
       "      <td>7.0</td>\n",
       "      <td>False</td>\n",
       "    </tr>\n",
       "    <tr>\n",
       "      <th>4</th>\n",
       "      <td>5</td>\n",
       "      <td>24.0</td>\n",
       "      <td>6.0</td>\n",
       "      <td>6.0</td>\n",
       "      <td>2.0</td>\n",
       "      <td>72.0</td>\n",
       "      <td>346.13</td>\n",
       "      <td>0.06</td>\n",
       "      <td>17.33</td>\n",
       "      <td>19.97</td>\n",
       "      <td>...</td>\n",
       "      <td>0</td>\n",
       "      <td>0</td>\n",
       "      <td>3</td>\n",
       "      <td>0</td>\n",
       "      <td>16.0</td>\n",
       "      <td>12.0</td>\n",
       "      <td>46.0</td>\n",
       "      <td>26.0</td>\n",
       "      <td>11.0</td>\n",
       "      <td>False</td>\n",
       "    </tr>\n",
       "  </tbody>\n",
       "</table>\n",
       "<p>5 rows × 23 columns</p>\n",
       "</div>"
      ],
      "text/plain": [
       "   id   loc  v(g)  ev(g)  iv(g)     n       v     l      d      i  ...  \\\n",
       "0   1   1.1   1.4    1.4    1.4   1.3    1.30  1.30   1.30   1.30  ...   \n",
       "1   2   1.0   1.0    1.0    1.0   1.0    1.00  1.00   1.00   1.00  ...   \n",
       "2   3  24.0   5.0    1.0    3.0  63.0  309.13  0.11   9.50  32.54  ...   \n",
       "3   4  20.0   4.0    4.0    2.0  47.0  215.49  0.06  16.00  13.47  ...   \n",
       "4   5  24.0   6.0    6.0    2.0  72.0  346.13  0.06  17.33  19.97  ...   \n",
       "\n",
       "   lOCode  lOComment  lOBlank  locCodeAndComment  uniq_Op  uniq_Opnd  \\\n",
       "0       2          2        2                  2      1.2        1.2   \n",
       "1       1          1        1                  1      1.0        1.0   \n",
       "2       1          0        6                  0     15.0       15.0   \n",
       "3       0          0        3                  0     16.0        8.0   \n",
       "4       0          0        3                  0     16.0       12.0   \n",
       "\n",
       "   total_Op  total_Opnd  branchCount  defects  \n",
       "0       1.2         1.2          1.4    False  \n",
       "1       1.0         1.0          1.0     True  \n",
       "2      44.0        19.0          9.0    False  \n",
       "3      31.0        16.0          7.0    False  \n",
       "4      46.0        26.0         11.0    False  \n",
       "\n",
       "[5 rows x 23 columns]"
      ]
     },
     "execution_count": 7,
     "metadata": {},
     "output_type": "execute_result"
    }
   ],
   "source": [
    "df.head()"
   ]
  },
  {
   "cell_type": "code",
   "execution_count": 8,
   "id": "733e95eb",
   "metadata": {
    "execution": {
     "iopub.execute_input": "2021-04-04T23:08:04.201914Z",
     "iopub.status.busy": "2021-04-04T23:08:04.201297Z",
     "iopub.status.idle": "2021-04-04T23:08:04.204429Z",
     "shell.execute_reply": "2021-04-04T23:08:04.203914Z"
    },
    "papermill": {
     "duration": 0.029899,
     "end_time": "2021-04-04T23:08:04.204548",
     "exception": false,
     "start_time": "2021-04-04T23:08:04.174649",
     "status": "completed"
    },
    "tags": []
   },
   "outputs": [],
   "source": [
    "del df['id']"
   ]
  },
  {
   "cell_type": "code",
   "execution_count": 9,
   "id": "6ff6f5b0",
   "metadata": {
    "execution": {
     "iopub.execute_input": "2021-04-04T23:08:04.258642Z",
     "iopub.status.busy": "2021-04-04T23:08:04.257840Z",
     "iopub.status.idle": "2021-04-04T23:08:04.260646Z",
     "shell.execute_reply": "2021-04-04T23:08:04.261309Z"
    },
    "papermill": {
     "duration": 0.030274,
     "end_time": "2021-04-04T23:08:04.261510",
     "exception": false,
     "start_time": "2021-04-04T23:08:04.231236",
     "status": "completed"
    },
    "tags": []
   },
   "outputs": [],
   "source": [
    "if PROFILE_REPORTING:\n",
    "    ProfileReport(df).to_widgets()"
   ]
  },
  {
   "cell_type": "markdown",
   "id": "1deaf3f0",
   "metadata": {
    "papermill": {
     "duration": 0.021166,
     "end_time": "2021-04-04T23:08:04.309172",
     "exception": false,
     "start_time": "2021-04-04T23:08:04.288006",
     "status": "completed"
    },
    "tags": []
   },
   "source": [
    "# Preprocess"
   ]
  },
  {
   "cell_type": "code",
   "execution_count": 10,
   "id": "1513e563",
   "metadata": {
    "execution": {
     "iopub.execute_input": "2021-04-04T23:08:04.360100Z",
     "iopub.status.busy": "2021-04-04T23:08:04.359306Z",
     "iopub.status.idle": "2021-04-04T23:08:04.361445Z",
     "shell.execute_reply": "2021-04-04T23:08:04.361913Z"
    },
    "papermill": {
     "duration": 0.031829,
     "end_time": "2021-04-04T23:08:04.362056",
     "exception": false,
     "start_time": "2021-04-04T23:08:04.330227",
     "status": "completed"
    },
    "tags": []
   },
   "outputs": [],
   "source": [
    "working_df = df.copy()"
   ]
  },
  {
   "cell_type": "code",
   "execution_count": 11,
   "id": "3b26d675",
   "metadata": {
    "execution": {
     "iopub.execute_input": "2021-04-04T23:08:04.414836Z",
     "iopub.status.busy": "2021-04-04T23:08:04.413766Z",
     "iopub.status.idle": "2021-04-04T23:08:04.416247Z",
     "shell.execute_reply": "2021-04-04T23:08:04.417074Z"
    },
    "papermill": {
     "duration": 0.033047,
     "end_time": "2021-04-04T23:08:04.417318",
     "exception": false,
     "start_time": "2021-04-04T23:08:04.384271",
     "status": "completed"
    },
    "tags": []
   },
   "outputs": [],
   "source": [
    "working_df['defects'] = working_df['defects'].replace([False, True], [0, 1])"
   ]
  },
  {
   "cell_type": "code",
   "execution_count": 12,
   "id": "eb48604f",
   "metadata": {
    "execution": {
     "iopub.execute_input": "2021-04-04T23:08:04.475719Z",
     "iopub.status.busy": "2021-04-04T23:08:04.474779Z",
     "iopub.status.idle": "2021-04-04T23:08:04.476977Z",
     "shell.execute_reply": "2021-04-04T23:08:04.477476Z"
    },
    "papermill": {
     "duration": 0.029025,
     "end_time": "2021-04-04T23:08:04.477624",
     "exception": false,
     "start_time": "2021-04-04T23:08:04.448599",
     "status": "completed"
    },
    "tags": []
   },
   "outputs": [],
   "source": [
    "for col in dataset_config['delete_columns']:\n",
    "    del working_df[col]"
   ]
  },
  {
   "cell_type": "code",
   "execution_count": 13,
   "id": "9a17bc29",
   "metadata": {
    "execution": {
     "iopub.execute_input": "2021-04-04T23:08:04.530440Z",
     "iopub.status.busy": "2021-04-04T23:08:04.529789Z",
     "iopub.status.idle": "2021-04-04T23:08:04.541892Z",
     "shell.execute_reply": "2021-04-04T23:08:04.540973Z"
    },
    "papermill": {
     "duration": 0.041009,
     "end_time": "2021-04-04T23:08:04.542079",
     "exception": false,
     "start_time": "2021-04-04T23:08:04.501070",
     "status": "completed"
    },
    "tags": []
   },
   "outputs": [],
   "source": [
    "working_df = working_df.drop_duplicates()"
   ]
  },
  {
   "cell_type": "markdown",
   "id": "a4d52ca6",
   "metadata": {
    "papermill": {
     "duration": 0.021648,
     "end_time": "2021-04-04T23:08:04.589005",
     "exception": false,
     "start_time": "2021-04-04T23:08:04.567357",
     "status": "completed"
    },
    "tags": []
   },
   "source": [
    "# Split"
   ]
  },
  {
   "cell_type": "code",
   "execution_count": 14,
   "id": "3e9ee4b5",
   "metadata": {
    "execution": {
     "iopub.execute_input": "2021-04-04T23:08:04.638578Z",
     "iopub.status.busy": "2021-04-04T23:08:04.637596Z",
     "iopub.status.idle": "2021-04-04T23:08:04.668687Z",
     "shell.execute_reply": "2021-04-04T23:08:04.667521Z"
    },
    "papermill": {
     "duration": 0.057584,
     "end_time": "2021-04-04T23:08:04.668891",
     "exception": false,
     "start_time": "2021-04-04T23:08:04.611307",
     "status": "completed"
    },
    "tags": []
   },
   "outputs": [],
   "source": [
    "from sklearn.model_selection import train_test_split"
   ]
  },
  {
   "cell_type": "code",
   "execution_count": 15,
   "id": "274004ce",
   "metadata": {
    "execution": {
     "iopub.execute_input": "2021-04-04T23:08:04.724613Z",
     "iopub.status.busy": "2021-04-04T23:08:04.723746Z",
     "iopub.status.idle": "2021-04-04T23:08:04.729810Z",
     "shell.execute_reply": "2021-04-04T23:08:04.730668Z"
    },
    "papermill": {
     "duration": 0.034478,
     "end_time": "2021-04-04T23:08:04.730906",
     "exception": false,
     "start_time": "2021-04-04T23:08:04.696428",
     "status": "completed"
    },
    "scrolled": true,
    "tags": []
   },
   "outputs": [],
   "source": [
    "inlier, outlier = working_df[working_df['defects'] == 0], working_df[working_df['defects'] == 1]"
   ]
  },
  {
   "cell_type": "code",
   "execution_count": 16,
   "id": "753c7b03",
   "metadata": {
    "execution": {
     "iopub.execute_input": "2021-04-04T23:08:04.795771Z",
     "iopub.status.busy": "2021-04-04T23:08:04.795043Z",
     "iopub.status.idle": "2021-04-04T23:08:04.797676Z",
     "shell.execute_reply": "2021-04-04T23:08:04.798494Z"
    },
    "papermill": {
     "duration": 0.032518,
     "end_time": "2021-04-04T23:08:04.798721",
     "exception": false,
     "start_time": "2021-04-04T23:08:04.766203",
     "status": "completed"
    },
    "tags": []
   },
   "outputs": [],
   "source": [
    "X_inlier = inlier.copy()\n",
    "y_inlier = X_inlier.pop('defects')\n",
    "X_outlier = outlier.copy()\n",
    "y_outlier = X_outlier.pop('defects')"
   ]
  },
  {
   "cell_type": "code",
   "execution_count": 17,
   "id": "2ba43193",
   "metadata": {
    "execution": {
     "iopub.execute_input": "2021-04-04T23:08:04.853889Z",
     "iopub.status.busy": "2021-04-04T23:08:04.852979Z",
     "iopub.status.idle": "2021-04-04T23:08:04.855642Z",
     "shell.execute_reply": "2021-04-04T23:08:04.855036Z"
    },
    "papermill": {
     "duration": 0.031014,
     "end_time": "2021-04-04T23:08:04.855765",
     "exception": false,
     "start_time": "2021-04-04T23:08:04.824751",
     "status": "completed"
    },
    "tags": []
   },
   "outputs": [],
   "source": [
    "test_size = dataset_config['test_size']\n",
    "random_state = dataset_config['random_state']\n",
    "\n",
    "X_inlier_train, X_inlier_test, y_inlier_train, y_inlier_test = train_test_split(\n",
    "    X_inlier,\n",
    "    y_inlier,\n",
    "    test_size=test_size,\n",
    "    random_state=random_state\n",
    ")"
   ]
  },
  {
   "cell_type": "code",
   "execution_count": 18,
   "id": "0b7582ca",
   "metadata": {
    "execution": {
     "iopub.execute_input": "2021-04-04T23:08:04.912191Z",
     "iopub.status.busy": "2021-04-04T23:08:04.911539Z",
     "iopub.status.idle": "2021-04-04T23:08:04.913508Z",
     "shell.execute_reply": "2021-04-04T23:08:04.913993Z"
    },
    "papermill": {
     "duration": 0.034354,
     "end_time": "2021-04-04T23:08:04.914140",
     "exception": false,
     "start_time": "2021-04-04T23:08:04.879786",
     "status": "completed"
    },
    "tags": []
   },
   "outputs": [],
   "source": [
    "test_outlier_size = dataset_config['test_outlier_size']\n",
    "if test_outlier_size > 0.0:\n",
    "    X_outlier_train, X_outlier_test, y_outlier_train, y_outlier_test = train_test_split(\n",
    "        X_outlier,\n",
    "        y_outlier,\n",
    "        test_size=test_outlier_size,\n",
    "        random_state=random_state\n",
    "    )\n",
    "else:\n",
    "    X_outlier_train, y_outlier_train = pd.DataFrame(columns=X_outlier.columns), pd.Series(dtype='int64')\n",
    "    X_outlier_test, y_outlier_test = X_outlier.copy(), y_outlier.copy()"
   ]
  },
  {
   "cell_type": "code",
   "execution_count": 19,
   "id": "c34363db",
   "metadata": {
    "execution": {
     "iopub.execute_input": "2021-04-04T23:08:04.967919Z",
     "iopub.status.busy": "2021-04-04T23:08:04.966651Z",
     "iopub.status.idle": "2021-04-04T23:08:04.971110Z",
     "shell.execute_reply": "2021-04-04T23:08:04.971582Z"
    },
    "papermill": {
     "duration": 0.033166,
     "end_time": "2021-04-04T23:08:04.971726",
     "exception": false,
     "start_time": "2021-04-04T23:08:04.938560",
     "status": "completed"
    },
    "tags": []
   },
   "outputs": [],
   "source": [
    "X_train, y_train = pd.concat([X_inlier_train, X_outlier_train], ignore_index=True), pd.concat([y_inlier_train, y_outlier_train], ignore_index=True)\n",
    "X_test, y_test = pd.concat([X_inlier_test, X_outlier_test], ignore_index=True), pd.concat([y_inlier_test, y_outlier_test], ignore_index=True)"
   ]
  },
  {
   "cell_type": "markdown",
   "id": "7cde7309",
   "metadata": {
    "papermill": {
     "duration": 0.022384,
     "end_time": "2021-04-04T23:08:05.019734",
     "exception": false,
     "start_time": "2021-04-04T23:08:04.997350",
     "status": "completed"
    },
    "tags": []
   },
   "source": [
    "# Model"
   ]
  },
  {
   "cell_type": "code",
   "execution_count": 20,
   "id": "2b12a415",
   "metadata": {
    "execution": {
     "iopub.execute_input": "2021-04-04T23:08:05.080111Z",
     "iopub.status.busy": "2021-04-04T23:08:05.079276Z",
     "iopub.status.idle": "2021-04-04T23:08:05.082029Z",
     "shell.execute_reply": "2021-04-04T23:08:05.082998Z"
    },
    "papermill": {
     "duration": 0.041459,
     "end_time": "2021-04-04T23:08:05.083268",
     "exception": false,
     "start_time": "2021-04-04T23:08:05.041809",
     "status": "completed"
    },
    "tags": []
   },
   "outputs": [],
   "source": [
    "from math import sqrt\n",
    "\n",
    "\n",
    "class KNNDataDescription:\n",
    "    def __init__(self, k=5, outlier_threshold=1.0):\n",
    "        self.k = k\n",
    "        self.outlier_threshold = outlier_threshold\n",
    "        self.X = []\n",
    "    \n",
    "    def fit(self, X):\n",
    "        self.X = [features.to_list() for index, features in X.iterrows()]\n",
    "\n",
    "    def predict(self, entries):\n",
    "        return [self.predict_entry(features.to_list()) for index, features in entries.iterrows()]\n",
    "    \n",
    "    def predict_entry(self, entry):\n",
    "        kth_neighbor, kth_distance = self.get_kth_neighbor(entry, self.k)\n",
    "        kth_kth_neighbor, kth_kth_distance = self.get_kth_neighbor(kth_neighbor, self.k + 1)\n",
    "\n",
    "        outlier_score = kth_distance / (kth_kth_distance + 0.000001)\n",
    "\n",
    "        return 1 if outlier_score < self.outlier_threshold else -1\n",
    "        \n",
    "    def euclidean_distance(self, features1, features2):\n",
    "        distance = 0.0\n",
    "        for feat1, feat2 in zip(features1, features2):\n",
    "            distance += (feat1 - feat2)**2\n",
    "                \n",
    "        return sqrt(distance)\n",
    "\n",
    "    def get_neighbors(self, entry, k):\n",
    "        distance_to_data_points = [\n",
    "            (data_point, self.euclidean_distance(entry, data_point))\n",
    "            for data_point in self.X\n",
    "        ]\n",
    "        sorted_by_distance = sorted(distance_to_data_points, key=lambda tup: tup[1])\n",
    "        neighbors = sorted_by_distance[:k]\n",
    "        return neighbors\n",
    "\n",
    "    def get_kth_neighbor(self, entry, k):\n",
    "        neighbors = self.get_neighbors(entry, k)\n",
    "        return neighbors[-1]\n"
   ]
  },
  {
   "cell_type": "code",
   "execution_count": 21,
   "id": "1fa9ec1c",
   "metadata": {
    "execution": {
     "iopub.execute_input": "2021-04-04T23:08:05.136309Z",
     "iopub.status.busy": "2021-04-04T23:08:05.135426Z",
     "iopub.status.idle": "2021-04-04T23:08:05.161936Z",
     "shell.execute_reply": "2021-04-04T23:08:05.160882Z"
    },
    "papermill": {
     "duration": 0.05349,
     "end_time": "2021-04-04T23:08:05.162138",
     "exception": false,
     "start_time": "2021-04-04T23:08:05.108648",
     "status": "completed"
    },
    "tags": []
   },
   "outputs": [],
   "source": [
    "from sklearn.svm import OneClassSVM\n",
    "\n",
    "\n",
    "models = {\n",
    "    'oneclasssvm': OneClassSVM,\n",
    "    'knndatadescription': KNNDataDescription,\n",
    "}"
   ]
  },
  {
   "cell_type": "code",
   "execution_count": 22,
   "id": "4d72a0b1",
   "metadata": {
    "execution": {
     "iopub.execute_input": "2021-04-04T23:08:05.218810Z",
     "iopub.status.busy": "2021-04-04T23:08:05.218110Z",
     "iopub.status.idle": "2021-04-04T23:08:05.220418Z",
     "shell.execute_reply": "2021-04-04T23:08:05.221154Z"
    },
    "papermill": {
     "duration": 0.030121,
     "end_time": "2021-04-04T23:08:05.221358",
     "exception": false,
     "start_time": "2021-04-04T23:08:05.191237",
     "status": "completed"
    },
    "scrolled": true,
    "tags": []
   },
   "outputs": [],
   "source": [
    "model_cls = models[model_config['model_type']]\n",
    "model = model_cls(**model_config['hyperparameters'])"
   ]
  },
  {
   "cell_type": "markdown",
   "id": "e00cff3b",
   "metadata": {
    "papermill": {
     "duration": 0.022419,
     "end_time": "2021-04-04T23:08:05.272958",
     "exception": false,
     "start_time": "2021-04-04T23:08:05.250539",
     "status": "completed"
    },
    "tags": []
   },
   "source": [
    "# Fit"
   ]
  },
  {
   "cell_type": "code",
   "execution_count": 23,
   "id": "8b2ded89",
   "metadata": {
    "execution": {
     "iopub.execute_input": "2021-04-04T23:08:05.343498Z",
     "iopub.status.busy": "2021-04-04T23:08:05.332730Z",
     "iopub.status.idle": "2021-04-04T23:08:05.359810Z",
     "shell.execute_reply": "2021-04-04T23:08:05.360729Z"
    },
    "papermill": {
     "duration": 0.065688,
     "end_time": "2021-04-04T23:08:05.360981",
     "exception": false,
     "start_time": "2021-04-04T23:08:05.295293",
     "status": "completed"
    },
    "tags": []
   },
   "outputs": [],
   "source": [
    "model.fit(X_train)"
   ]
  },
  {
   "cell_type": "markdown",
   "id": "f99999f7",
   "metadata": {
    "papermill": {
     "duration": 0.024056,
     "end_time": "2021-04-04T23:08:05.415036",
     "exception": false,
     "start_time": "2021-04-04T23:08:05.390980",
     "status": "completed"
    },
    "tags": []
   },
   "source": [
    "# Predict"
   ]
  },
  {
   "cell_type": "code",
   "execution_count": 24,
   "id": "6536fbf7",
   "metadata": {
    "execution": {
     "iopub.execute_input": "2021-04-04T23:08:05.476380Z",
     "iopub.status.busy": "2021-04-04T23:08:05.471190Z",
     "iopub.status.idle": "2021-04-04T23:08:05.872388Z",
     "shell.execute_reply": "2021-04-04T23:08:05.872885Z"
    },
    "papermill": {
     "duration": 0.434494,
     "end_time": "2021-04-04T23:08:05.873034",
     "exception": false,
     "start_time": "2021-04-04T23:08:05.438540",
     "status": "completed"
    },
    "tags": []
   },
   "outputs": [],
   "source": [
    "predictions = model.predict(X_test)"
   ]
  },
  {
   "cell_type": "markdown",
   "id": "aa1c9881",
   "metadata": {
    "papermill": {
     "duration": 0.022816,
     "end_time": "2021-04-04T23:08:05.921152",
     "exception": false,
     "start_time": "2021-04-04T23:08:05.898336",
     "status": "completed"
    },
    "tags": []
   },
   "source": [
    "# Evaluate"
   ]
  },
  {
   "cell_type": "code",
   "execution_count": 25,
   "id": "894f0f04",
   "metadata": {
    "execution": {
     "iopub.execute_input": "2021-04-04T23:08:05.971192Z",
     "iopub.status.busy": "2021-04-04T23:08:05.970261Z",
     "iopub.status.idle": "2021-04-04T23:08:05.972427Z",
     "shell.execute_reply": "2021-04-04T23:08:05.972906Z"
    },
    "papermill": {
     "duration": 0.029034,
     "end_time": "2021-04-04T23:08:05.973051",
     "exception": false,
     "start_time": "2021-04-04T23:08:05.944017",
     "status": "completed"
    },
    "tags": []
   },
   "outputs": [],
   "source": [
    "from sklearn.metrics import f1_score"
   ]
  },
  {
   "cell_type": "code",
   "execution_count": 26,
   "id": "211744d3",
   "metadata": {
    "execution": {
     "iopub.execute_input": "2021-04-04T23:08:06.025661Z",
     "iopub.status.busy": "2021-04-04T23:08:06.024652Z",
     "iopub.status.idle": "2021-04-04T23:08:06.027475Z",
     "shell.execute_reply": "2021-04-04T23:08:06.026883Z"
    },
    "papermill": {
     "duration": 0.030492,
     "end_time": "2021-04-04T23:08:06.027593",
     "exception": false,
     "start_time": "2021-04-04T23:08:05.997101",
     "status": "completed"
    },
    "tags": []
   },
   "outputs": [],
   "source": [
    "y_test = y_test.replace([0, 1], [1, -1])"
   ]
  },
  {
   "cell_type": "code",
   "execution_count": 27,
   "id": "d68a9204",
   "metadata": {
    "execution": {
     "iopub.execute_input": "2021-04-04T23:08:06.085535Z",
     "iopub.status.busy": "2021-04-04T23:08:06.084633Z",
     "iopub.status.idle": "2021-04-04T23:08:06.087084Z",
     "shell.execute_reply": "2021-04-04T23:08:06.088044Z"
    },
    "papermill": {
     "duration": 0.035891,
     "end_time": "2021-04-04T23:08:06.088269",
     "exception": false,
     "start_time": "2021-04-04T23:08:06.052378",
     "status": "completed"
    },
    "tags": []
   },
   "outputs": [],
   "source": [
    "def evaluate(truths, predictions, pos_label, neg_label):\n",
    "    TP = 0\n",
    "    FP = 0\n",
    "    TN = 0\n",
    "    FN = 0\n",
    "\n",
    "    for truth, pred in zip(truths, predictions): \n",
    "        if truth == pred == pos_label:\n",
    "           TP += 1\n",
    "        elif pred == pos_label and truth == neg_label:\n",
    "           FP += 1\n",
    "        elif truth == pred == neg_label:\n",
    "           TN += 1\n",
    "        elif pred == neg_label and truth == pos_label:\n",
    "           FN += 1\n",
    "\n",
    "    precision = TP / (TP + FP)\n",
    "    sensitivity = TP / (TP + FN)\n",
    "    \n",
    "    return {\n",
    "        'true_pos': TP,\n",
    "        'false_pos': FP,\n",
    "        'false_neg': FN,\n",
    "        'true_neg': TN,\n",
    "        'precision': precision,\n",
    "        'sensitivity': sensitivity,\n",
    "        'f1': (2 * (precision * sensitivity)) / (precision + sensitivity)\n",
    "    }\n",
    "\n",
    "score = evaluate(y_test, predictions, pos_label=-1, neg_label=1)"
   ]
  },
  {
   "cell_type": "markdown",
   "id": "93596516",
   "metadata": {
    "papermill": {
     "duration": 0.022816,
     "end_time": "2021-04-04T23:08:06.138400",
     "exception": false,
     "start_time": "2021-04-04T23:08:06.115584",
     "status": "completed"
    },
    "tags": []
   },
   "source": [
    "# Report"
   ]
  },
  {
   "cell_type": "code",
   "execution_count": 28,
   "id": "bea5fba1",
   "metadata": {
    "execution": {
     "iopub.execute_input": "2021-04-04T23:08:06.191600Z",
     "iopub.status.busy": "2021-04-04T23:08:06.191015Z",
     "iopub.status.idle": "2021-04-04T23:08:06.194236Z",
     "shell.execute_reply": "2021-04-04T23:08:06.194716Z"
    },
    "papermill": {
     "duration": 0.033338,
     "end_time": "2021-04-04T23:08:06.194862",
     "exception": false,
     "start_time": "2021-04-04T23:08:06.161524",
     "status": "completed"
    },
    "tags": []
   },
   "outputs": [],
   "source": [
    "import csv\n",
    "\n",
    "\n",
    "dataset_config_name = DATASET_CONFIG_PATH.split('/')[-1].split('.')[0]\n",
    "model_config_name = MODEL_CONFIG_PATH.split('/')[-1].split('.')[0]\n",
    "configuration = f\"dataset_{dataset_config_name}-model_{model_config_name}\"\n",
    "\n",
    "with open('results.csv', 'a') as f:\n",
    "    report = dict({'configuration': configuration}, **score)\n",
    "    writer = csv.DictWriter(f, report.keys())\n",
    "    writer.writerow(report)"
   ]
  }
 ],
 "metadata": {
  "celltoolbar": "Tags",
  "kernelspec": {
   "display_name": "Python 3",
   "language": "python",
   "name": "python3"
  },
  "language_info": {
   "codemirror_mode": {
    "name": "ipython",
    "version": 3
   },
   "file_extension": ".py",
   "mimetype": "text/x-python",
   "name": "python",
   "nbconvert_exporter": "python",
   "pygments_lexer": "ipython3",
   "version": "3.9.1"
  },
  "papermill": {
   "default_parameters": {},
   "duration": 6.040937,
   "end_time": "2021-04-04T23:08:07.719057",
   "environment_variables": {},
   "exception": null,
   "input_path": "main.ipynb",
   "output_path": "runs/dataset_000088-model_000001.ipynb",
   "parameters": {
    "DATASET_CONFIG_PATH": "config/dataset/000088.json",
    "MODEL_CONFIG_PATH": "config/model/000001.json",
    "PROFILE_REPORTING": false
   },
   "start_time": "2021-04-04T23:08:01.678120",
   "version": "2.3.3"
  }
 },
 "nbformat": 4,
 "nbformat_minor": 5
}