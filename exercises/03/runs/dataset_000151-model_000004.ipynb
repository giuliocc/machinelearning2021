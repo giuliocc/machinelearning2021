{
 "cells": [
  {
   "cell_type": "markdown",
   "id": "51c71c25",
   "metadata": {
    "papermill": {
     "duration": 0.032588,
     "end_time": "2021-04-04T23:34:20.719326",
     "exception": false,
     "start_time": "2021-04-04T23:34:20.686738",
     "status": "completed"
    },
    "tags": []
   },
   "source": [
    "# Parametrizing"
   ]
  },
  {
   "cell_type": "code",
   "execution_count": 1,
   "id": "3b136394",
   "metadata": {
    "execution": {
     "iopub.execute_input": "2021-04-04T23:34:20.783293Z",
     "iopub.status.busy": "2021-04-04T23:34:20.782301Z",
     "iopub.status.idle": "2021-04-04T23:34:20.785611Z",
     "shell.execute_reply": "2021-04-04T23:34:20.787264Z"
    },
    "papermill": {
     "duration": 0.049052,
     "end_time": "2021-04-04T23:34:20.787873",
     "exception": false,
     "start_time": "2021-04-04T23:34:20.738821",
     "status": "completed"
    },
    "tags": [
     "parameters"
    ]
   },
   "outputs": [],
   "source": [
    "DATASET_CONFIG_PATH = 'config/dataset/kc1_001.json'\n",
    "MODEL_CONFIG_PATH = 'config/model/knndd_001.json'\n",
    "PROFILE_REPORTING = False"
   ]
  },
  {
   "cell_type": "code",
   "execution_count": 2,
   "id": "cdfb928b",
   "metadata": {
    "execution": {
     "iopub.execute_input": "2021-04-04T23:34:20.836008Z",
     "iopub.status.busy": "2021-04-04T23:34:20.835231Z",
     "iopub.status.idle": "2021-04-04T23:34:20.837797Z",
     "shell.execute_reply": "2021-04-04T23:34:20.837287Z"
    },
    "papermill": {
     "duration": 0.027269,
     "end_time": "2021-04-04T23:34:20.837917",
     "exception": false,
     "start_time": "2021-04-04T23:34:20.810648",
     "status": "completed"
    },
    "tags": [
     "injected-parameters"
    ]
   },
   "outputs": [],
   "source": [
    "# Parameters\n",
    "DATASET_CONFIG_PATH = \"config/dataset/000151.json\"\n",
    "MODEL_CONFIG_PATH = \"config/model/000004.json\"\n",
    "PROFILE_REPORTING = False\n"
   ]
  },
  {
   "cell_type": "code",
   "execution_count": 3,
   "id": "b80f2a10",
   "metadata": {
    "execution": {
     "iopub.execute_input": "2021-04-04T23:34:20.889934Z",
     "iopub.status.busy": "2021-04-04T23:34:20.888990Z",
     "iopub.status.idle": "2021-04-04T23:34:20.892867Z",
     "shell.execute_reply": "2021-04-04T23:34:20.892272Z"
    },
    "papermill": {
     "duration": 0.03337,
     "end_time": "2021-04-04T23:34:20.893008",
     "exception": false,
     "start_time": "2021-04-04T23:34:20.859638",
     "status": "completed"
    },
    "tags": []
   },
   "outputs": [],
   "source": [
    "import json\n",
    "\n",
    "\n",
    "with open(DATASET_CONFIG_PATH) as f:\n",
    "    dataset_config = json.load(f)\n",
    "\n",
    "with open(MODEL_CONFIG_PATH) as f:\n",
    "    model_config = json.load(f)"
   ]
  },
  {
   "cell_type": "markdown",
   "id": "9a4b0e2d",
   "metadata": {
    "papermill": {
     "duration": 0.021465,
     "end_time": "2021-04-04T23:34:20.935499",
     "exception": false,
     "start_time": "2021-04-04T23:34:20.914034",
     "status": "completed"
    },
    "tags": []
   },
   "source": [
    "# Profiling"
   ]
  },
  {
   "cell_type": "code",
   "execution_count": 4,
   "id": "a3e0289b",
   "metadata": {
    "execution": {
     "iopub.execute_input": "2021-04-04T23:34:20.983349Z",
     "iopub.status.busy": "2021-04-04T23:34:20.982379Z",
     "iopub.status.idle": "2021-04-04T23:34:22.336377Z",
     "shell.execute_reply": "2021-04-04T23:34:22.335524Z"
    },
    "papermill": {
     "duration": 1.38148,
     "end_time": "2021-04-04T23:34:22.336544",
     "exception": false,
     "start_time": "2021-04-04T23:34:20.955064",
     "status": "completed"
    },
    "tags": []
   },
   "outputs": [],
   "source": [
    "import pandas as pd\n",
    "from pandas_profiling import ProfileReport"
   ]
  },
  {
   "cell_type": "code",
   "execution_count": 5,
   "id": "ee6c0666",
   "metadata": {
    "execution": {
     "iopub.execute_input": "2021-04-04T23:34:22.405890Z",
     "iopub.status.busy": "2021-04-04T23:34:22.404415Z",
     "iopub.status.idle": "2021-04-04T23:34:22.417135Z",
     "shell.execute_reply": "2021-04-04T23:34:22.417694Z"
    },
    "papermill": {
     "duration": 0.046469,
     "end_time": "2021-04-04T23:34:22.417874",
     "exception": false,
     "start_time": "2021-04-04T23:34:22.371405",
     "status": "completed"
    },
    "tags": []
   },
   "outputs": [],
   "source": [
    "df = pd.read_csv(dataset_config['dataset_path'])"
   ]
  },
  {
   "cell_type": "code",
   "execution_count": 6,
   "id": "7eca6c4a",
   "metadata": {
    "execution": {
     "iopub.execute_input": "2021-04-04T23:34:22.478634Z",
     "iopub.status.busy": "2021-04-04T23:34:22.477942Z",
     "iopub.status.idle": "2021-04-04T23:34:22.480473Z",
     "shell.execute_reply": "2021-04-04T23:34:22.480941Z"
    },
    "papermill": {
     "duration": 0.041448,
     "end_time": "2021-04-04T23:34:22.481087",
     "exception": false,
     "start_time": "2021-04-04T23:34:22.439639",
     "status": "completed"
    },
    "tags": []
   },
   "outputs": [
    {
     "name": "stdout",
     "output_type": "stream",
     "text": [
      "<class 'pandas.core.frame.DataFrame'>\n",
      "RangeIndex: 498 entries, 0 to 497\n",
      "Data columns (total 23 columns):\n",
      " #   Column             Non-Null Count  Dtype  \n",
      "---  ------             --------------  -----  \n",
      " 0   id                 498 non-null    int64  \n",
      " 1   loc                498 non-null    float64\n",
      " 2   v(g)               498 non-null    float64\n",
      " 3   ev(g)              498 non-null    float64\n",
      " 4   iv(g)              498 non-null    float64\n",
      " 5   n                  498 non-null    float64\n",
      " 6   v                  498 non-null    float64\n",
      " 7   l                  498 non-null    float64\n",
      " 8   d                  498 non-null    float64\n",
      " 9   i                  498 non-null    float64\n",
      " 10  e                  498 non-null    float64\n",
      " 11  b                  498 non-null    float64\n",
      " 12  t                  498 non-null    float64\n",
      " 13  lOCode             498 non-null    int64  \n",
      " 14  lOComment          498 non-null    int64  \n",
      " 15  lOBlank            498 non-null    int64  \n",
      " 16  locCodeAndComment  498 non-null    int64  \n",
      " 17  uniq_Op            498 non-null    float64\n",
      " 18  uniq_Opnd          498 non-null    float64\n",
      " 19  total_Op           498 non-null    float64\n",
      " 20  total_Opnd         498 non-null    float64\n",
      " 21  branchCount        498 non-null    float64\n",
      " 22  defects            498 non-null    bool   \n",
      "dtypes: bool(1), float64(17), int64(5)\n",
      "memory usage: 86.2 KB\n"
     ]
    }
   ],
   "source": [
    "df.info()"
   ]
  },
  {
   "cell_type": "code",
   "execution_count": 7,
   "id": "3638e5e8",
   "metadata": {
    "execution": {
     "iopub.execute_input": "2021-04-04T23:34:22.542964Z",
     "iopub.status.busy": "2021-04-04T23:34:22.542201Z",
     "iopub.status.idle": "2021-04-04T23:34:22.574440Z",
     "shell.execute_reply": "2021-04-04T23:34:22.573754Z"
    },
    "papermill": {
     "duration": 0.070389,
     "end_time": "2021-04-04T23:34:22.574584",
     "exception": false,
     "start_time": "2021-04-04T23:34:22.504195",
     "status": "completed"
    },
    "tags": []
   },
   "outputs": [
    {
     "data": {
      "text/html": [
       "<div>\n",
       "<style scoped>\n",
       "    .dataframe tbody tr th:only-of-type {\n",
       "        vertical-align: middle;\n",
       "    }\n",
       "\n",
       "    .dataframe tbody tr th {\n",
       "        vertical-align: top;\n",
       "    }\n",
       "\n",
       "    .dataframe thead th {\n",
       "        text-align: right;\n",
       "    }\n",
       "</style>\n",
       "<table border=\"1\" class=\"dataframe\">\n",
       "  <thead>\n",
       "    <tr style=\"text-align: right;\">\n",
       "      <th></th>\n",
       "      <th>id</th>\n",
       "      <th>loc</th>\n",
       "      <th>v(g)</th>\n",
       "      <th>ev(g)</th>\n",
       "      <th>iv(g)</th>\n",
       "      <th>n</th>\n",
       "      <th>v</th>\n",
       "      <th>l</th>\n",
       "      <th>d</th>\n",
       "      <th>i</th>\n",
       "      <th>...</th>\n",
       "      <th>lOCode</th>\n",
       "      <th>lOComment</th>\n",
       "      <th>lOBlank</th>\n",
       "      <th>locCodeAndComment</th>\n",
       "      <th>uniq_Op</th>\n",
       "      <th>uniq_Opnd</th>\n",
       "      <th>total_Op</th>\n",
       "      <th>total_Opnd</th>\n",
       "      <th>branchCount</th>\n",
       "      <th>defects</th>\n",
       "    </tr>\n",
       "  </thead>\n",
       "  <tbody>\n",
       "    <tr>\n",
       "      <th>0</th>\n",
       "      <td>1</td>\n",
       "      <td>1.1</td>\n",
       "      <td>1.4</td>\n",
       "      <td>1.4</td>\n",
       "      <td>1.4</td>\n",
       "      <td>1.3</td>\n",
       "      <td>1.30</td>\n",
       "      <td>1.30</td>\n",
       "      <td>1.30</td>\n",
       "      <td>1.30</td>\n",
       "      <td>...</td>\n",
       "      <td>2</td>\n",
       "      <td>2</td>\n",
       "      <td>2</td>\n",
       "      <td>2</td>\n",
       "      <td>1.2</td>\n",
       "      <td>1.2</td>\n",
       "      <td>1.2</td>\n",
       "      <td>1.2</td>\n",
       "      <td>1.4</td>\n",
       "      <td>False</td>\n",
       "    </tr>\n",
       "    <tr>\n",
       "      <th>1</th>\n",
       "      <td>2</td>\n",
       "      <td>1.0</td>\n",
       "      <td>1.0</td>\n",
       "      <td>1.0</td>\n",
       "      <td>1.0</td>\n",
       "      <td>1.0</td>\n",
       "      <td>1.00</td>\n",
       "      <td>1.00</td>\n",
       "      <td>1.00</td>\n",
       "      <td>1.00</td>\n",
       "      <td>...</td>\n",
       "      <td>1</td>\n",
       "      <td>1</td>\n",
       "      <td>1</td>\n",
       "      <td>1</td>\n",
       "      <td>1.0</td>\n",
       "      <td>1.0</td>\n",
       "      <td>1.0</td>\n",
       "      <td>1.0</td>\n",
       "      <td>1.0</td>\n",
       "      <td>True</td>\n",
       "    </tr>\n",
       "    <tr>\n",
       "      <th>2</th>\n",
       "      <td>3</td>\n",
       "      <td>24.0</td>\n",
       "      <td>5.0</td>\n",
       "      <td>1.0</td>\n",
       "      <td>3.0</td>\n",
       "      <td>63.0</td>\n",
       "      <td>309.13</td>\n",
       "      <td>0.11</td>\n",
       "      <td>9.50</td>\n",
       "      <td>32.54</td>\n",
       "      <td>...</td>\n",
       "      <td>1</td>\n",
       "      <td>0</td>\n",
       "      <td>6</td>\n",
       "      <td>0</td>\n",
       "      <td>15.0</td>\n",
       "      <td>15.0</td>\n",
       "      <td>44.0</td>\n",
       "      <td>19.0</td>\n",
       "      <td>9.0</td>\n",
       "      <td>False</td>\n",
       "    </tr>\n",
       "    <tr>\n",
       "      <th>3</th>\n",
       "      <td>4</td>\n",
       "      <td>20.0</td>\n",
       "      <td>4.0</td>\n",
       "      <td>4.0</td>\n",
       "      <td>2.0</td>\n",
       "      <td>47.0</td>\n",
       "      <td>215.49</td>\n",
       "      <td>0.06</td>\n",
       "      <td>16.00</td>\n",
       "      <td>13.47</td>\n",
       "      <td>...</td>\n",
       "      <td>0</td>\n",
       "      <td>0</td>\n",
       "      <td>3</td>\n",
       "      <td>0</td>\n",
       "      <td>16.0</td>\n",
       "      <td>8.0</td>\n",
       "      <td>31.0</td>\n",
       "      <td>16.0</td>\n",
       "      <td>7.0</td>\n",
       "      <td>False</td>\n",
       "    </tr>\n",
       "    <tr>\n",
       "      <th>4</th>\n",
       "      <td>5</td>\n",
       "      <td>24.0</td>\n",
       "      <td>6.0</td>\n",
       "      <td>6.0</td>\n",
       "      <td>2.0</td>\n",
       "      <td>72.0</td>\n",
       "      <td>346.13</td>\n",
       "      <td>0.06</td>\n",
       "      <td>17.33</td>\n",
       "      <td>19.97</td>\n",
       "      <td>...</td>\n",
       "      <td>0</td>\n",
       "      <td>0</td>\n",
       "      <td>3</td>\n",
       "      <td>0</td>\n",
       "      <td>16.0</td>\n",
       "      <td>12.0</td>\n",
       "      <td>46.0</td>\n",
       "      <td>26.0</td>\n",
       "      <td>11.0</td>\n",
       "      <td>False</td>\n",
       "    </tr>\n",
       "  </tbody>\n",
       "</table>\n",
       "<p>5 rows × 23 columns</p>\n",
       "</div>"
      ],
      "text/plain": [
       "   id   loc  v(g)  ev(g)  iv(g)     n       v     l      d      i  ...  \\\n",
       "0   1   1.1   1.4    1.4    1.4   1.3    1.30  1.30   1.30   1.30  ...   \n",
       "1   2   1.0   1.0    1.0    1.0   1.0    1.00  1.00   1.00   1.00  ...   \n",
       "2   3  24.0   5.0    1.0    3.0  63.0  309.13  0.11   9.50  32.54  ...   \n",
       "3   4  20.0   4.0    4.0    2.0  47.0  215.49  0.06  16.00  13.47  ...   \n",
       "4   5  24.0   6.0    6.0    2.0  72.0  346.13  0.06  17.33  19.97  ...   \n",
       "\n",
       "   lOCode  lOComment  lOBlank  locCodeAndComment  uniq_Op  uniq_Opnd  \\\n",
       "0       2          2        2                  2      1.2        1.2   \n",
       "1       1          1        1                  1      1.0        1.0   \n",
       "2       1          0        6                  0     15.0       15.0   \n",
       "3       0          0        3                  0     16.0        8.0   \n",
       "4       0          0        3                  0     16.0       12.0   \n",
       "\n",
       "   total_Op  total_Opnd  branchCount  defects  \n",
       "0       1.2         1.2          1.4    False  \n",
       "1       1.0         1.0          1.0     True  \n",
       "2      44.0        19.0          9.0    False  \n",
       "3      31.0        16.0          7.0    False  \n",
       "4      46.0        26.0         11.0    False  \n",
       "\n",
       "[5 rows x 23 columns]"
      ]
     },
     "execution_count": 7,
     "metadata": {},
     "output_type": "execute_result"
    }
   ],
   "source": [
    "df.head()"
   ]
  },
  {
   "cell_type": "code",
   "execution_count": 8,
   "id": "733e95eb",
   "metadata": {
    "execution": {
     "iopub.execute_input": "2021-04-04T23:34:22.627664Z",
     "iopub.status.busy": "2021-04-04T23:34:22.626290Z",
     "iopub.status.idle": "2021-04-04T23:34:22.629871Z",
     "shell.execute_reply": "2021-04-04T23:34:22.630428Z"
    },
    "papermill": {
     "duration": 0.033986,
     "end_time": "2021-04-04T23:34:22.630652",
     "exception": false,
     "start_time": "2021-04-04T23:34:22.596666",
     "status": "completed"
    },
    "tags": []
   },
   "outputs": [],
   "source": [
    "del df['id']"
   ]
  },
  {
   "cell_type": "code",
   "execution_count": 9,
   "id": "6ff6f5b0",
   "metadata": {
    "execution": {
     "iopub.execute_input": "2021-04-04T23:34:22.684897Z",
     "iopub.status.busy": "2021-04-04T23:34:22.684171Z",
     "iopub.status.idle": "2021-04-04T23:34:22.686362Z",
     "shell.execute_reply": "2021-04-04T23:34:22.685788Z"
    },
    "papermill": {
     "duration": 0.032816,
     "end_time": "2021-04-04T23:34:22.686478",
     "exception": false,
     "start_time": "2021-04-04T23:34:22.653662",
     "status": "completed"
    },
    "tags": []
   },
   "outputs": [],
   "source": [
    "if PROFILE_REPORTING:\n",
    "    ProfileReport(df).to_widgets()"
   ]
  },
  {
   "cell_type": "markdown",
   "id": "1deaf3f0",
   "metadata": {
    "papermill": {
     "duration": 0.023354,
     "end_time": "2021-04-04T23:34:22.733054",
     "exception": false,
     "start_time": "2021-04-04T23:34:22.709700",
     "status": "completed"
    },
    "tags": []
   },
   "source": [
    "# Preprocess"
   ]
  },
  {
   "cell_type": "code",
   "execution_count": 10,
   "id": "1513e563",
   "metadata": {
    "execution": {
     "iopub.execute_input": "2021-04-04T23:34:22.798006Z",
     "iopub.status.busy": "2021-04-04T23:34:22.796105Z",
     "iopub.status.idle": "2021-04-04T23:34:22.799615Z",
     "shell.execute_reply": "2021-04-04T23:34:22.800152Z"
    },
    "papermill": {
     "duration": 0.035627,
     "end_time": "2021-04-04T23:34:22.800393",
     "exception": false,
     "start_time": "2021-04-04T23:34:22.764766",
     "status": "completed"
    },
    "tags": []
   },
   "outputs": [],
   "source": [
    "working_df = df.copy()"
   ]
  },
  {
   "cell_type": "code",
   "execution_count": 11,
   "id": "3b26d675",
   "metadata": {
    "execution": {
     "iopub.execute_input": "2021-04-04T23:34:22.853583Z",
     "iopub.status.busy": "2021-04-04T23:34:22.852947Z",
     "iopub.status.idle": "2021-04-04T23:34:22.855013Z",
     "shell.execute_reply": "2021-04-04T23:34:22.855630Z"
    },
    "papermill": {
     "duration": 0.030127,
     "end_time": "2021-04-04T23:34:22.855780",
     "exception": false,
     "start_time": "2021-04-04T23:34:22.825653",
     "status": "completed"
    },
    "tags": []
   },
   "outputs": [],
   "source": [
    "working_df['defects'] = working_df['defects'].replace([False, True], [0, 1])"
   ]
  },
  {
   "cell_type": "code",
   "execution_count": 12,
   "id": "eb48604f",
   "metadata": {
    "execution": {
     "iopub.execute_input": "2021-04-04T23:34:22.911768Z",
     "iopub.status.busy": "2021-04-04T23:34:22.909817Z",
     "iopub.status.idle": "2021-04-04T23:34:22.914329Z",
     "shell.execute_reply": "2021-04-04T23:34:22.914888Z"
    },
    "papermill": {
     "duration": 0.033576,
     "end_time": "2021-04-04T23:34:22.915054",
     "exception": false,
     "start_time": "2021-04-04T23:34:22.881478",
     "status": "completed"
    },
    "tags": []
   },
   "outputs": [],
   "source": [
    "for col in dataset_config['delete_columns']:\n",
    "    del working_df[col]"
   ]
  },
  {
   "cell_type": "code",
   "execution_count": 13,
   "id": "9a17bc29",
   "metadata": {
    "execution": {
     "iopub.execute_input": "2021-04-04T23:34:22.965931Z",
     "iopub.status.busy": "2021-04-04T23:34:22.965224Z",
     "iopub.status.idle": "2021-04-04T23:34:22.974192Z",
     "shell.execute_reply": "2021-04-04T23:34:22.974674Z"
    },
    "papermill": {
     "duration": 0.036338,
     "end_time": "2021-04-04T23:34:22.974829",
     "exception": false,
     "start_time": "2021-04-04T23:34:22.938491",
     "status": "completed"
    },
    "tags": []
   },
   "outputs": [],
   "source": [
    "working_df = working_df.drop_duplicates()"
   ]
  },
  {
   "cell_type": "markdown",
   "id": "a4d52ca6",
   "metadata": {
    "papermill": {
     "duration": 0.024394,
     "end_time": "2021-04-04T23:34:23.024867",
     "exception": false,
     "start_time": "2021-04-04T23:34:23.000473",
     "status": "completed"
    },
    "tags": []
   },
   "source": [
    "# Split"
   ]
  },
  {
   "cell_type": "code",
   "execution_count": 14,
   "id": "3e9ee4b5",
   "metadata": {
    "execution": {
     "iopub.execute_input": "2021-04-04T23:34:23.075682Z",
     "iopub.status.busy": "2021-04-04T23:34:23.074863Z",
     "iopub.status.idle": "2021-04-04T23:34:23.109655Z",
     "shell.execute_reply": "2021-04-04T23:34:23.110132Z"
    },
    "papermill": {
     "duration": 0.060628,
     "end_time": "2021-04-04T23:34:23.110281",
     "exception": false,
     "start_time": "2021-04-04T23:34:23.049653",
     "status": "completed"
    },
    "tags": []
   },
   "outputs": [],
   "source": [
    "from sklearn.model_selection import train_test_split"
   ]
  },
  {
   "cell_type": "code",
   "execution_count": 15,
   "id": "274004ce",
   "metadata": {
    "execution": {
     "iopub.execute_input": "2021-04-04T23:34:23.165626Z",
     "iopub.status.busy": "2021-04-04T23:34:23.164547Z",
     "iopub.status.idle": "2021-04-04T23:34:23.169965Z",
     "shell.execute_reply": "2021-04-04T23:34:23.169339Z"
    },
    "papermill": {
     "duration": 0.03594,
     "end_time": "2021-04-04T23:34:23.170086",
     "exception": false,
     "start_time": "2021-04-04T23:34:23.134146",
     "status": "completed"
    },
    "scrolled": true,
    "tags": []
   },
   "outputs": [],
   "source": [
    "inlier, outlier = working_df[working_df['defects'] == 0], working_df[working_df['defects'] == 1]"
   ]
  },
  {
   "cell_type": "code",
   "execution_count": 16,
   "id": "753c7b03",
   "metadata": {
    "execution": {
     "iopub.execute_input": "2021-04-04T23:34:23.224318Z",
     "iopub.status.busy": "2021-04-04T23:34:23.222214Z",
     "iopub.status.idle": "2021-04-04T23:34:23.227240Z",
     "shell.execute_reply": "2021-04-04T23:34:23.226387Z"
    },
    "papermill": {
     "duration": 0.031512,
     "end_time": "2021-04-04T23:34:23.227461",
     "exception": false,
     "start_time": "2021-04-04T23:34:23.195949",
     "status": "completed"
    },
    "tags": []
   },
   "outputs": [],
   "source": [
    "X_inlier = inlier.copy()\n",
    "y_inlier = X_inlier.pop('defects')\n",
    "X_outlier = outlier.copy()\n",
    "y_outlier = X_outlier.pop('defects')"
   ]
  },
  {
   "cell_type": "code",
   "execution_count": 17,
   "id": "2ba43193",
   "metadata": {
    "execution": {
     "iopub.execute_input": "2021-04-04T23:34:23.288260Z",
     "iopub.status.busy": "2021-04-04T23:34:23.287656Z",
     "iopub.status.idle": "2021-04-04T23:34:23.290968Z",
     "shell.execute_reply": "2021-04-04T23:34:23.290379Z"
    },
    "papermill": {
     "duration": 0.036849,
     "end_time": "2021-04-04T23:34:23.291088",
     "exception": false,
     "start_time": "2021-04-04T23:34:23.254239",
     "status": "completed"
    },
    "tags": []
   },
   "outputs": [],
   "source": [
    "test_size = dataset_config['test_size']\n",
    "random_state = dataset_config['random_state']\n",
    "\n",
    "X_inlier_train, X_inlier_test, y_inlier_train, y_inlier_test = train_test_split(\n",
    "    X_inlier,\n",
    "    y_inlier,\n",
    "    test_size=test_size,\n",
    "    random_state=random_state\n",
    ")"
   ]
  },
  {
   "cell_type": "code",
   "execution_count": 18,
   "id": "0b7582ca",
   "metadata": {
    "execution": {
     "iopub.execute_input": "2021-04-04T23:34:23.352908Z",
     "iopub.status.busy": "2021-04-04T23:34:23.352075Z",
     "iopub.status.idle": "2021-04-04T23:34:23.358450Z",
     "shell.execute_reply": "2021-04-04T23:34:23.359980Z"
    },
    "papermill": {
     "duration": 0.044116,
     "end_time": "2021-04-04T23:34:23.360370",
     "exception": false,
     "start_time": "2021-04-04T23:34:23.316254",
     "status": "completed"
    },
    "tags": []
   },
   "outputs": [],
   "source": [
    "test_outlier_size = dataset_config['test_outlier_size']\n",
    "if test_outlier_size > 0.0:\n",
    "    X_outlier_train, X_outlier_test, y_outlier_train, y_outlier_test = train_test_split(\n",
    "        X_outlier,\n",
    "        y_outlier,\n",
    "        test_size=test_outlier_size,\n",
    "        random_state=random_state\n",
    "    )\n",
    "else:\n",
    "    X_outlier_train, y_outlier_train = pd.DataFrame(columns=X_outlier.columns), pd.Series(dtype='int64')\n",
    "    X_outlier_test, y_outlier_test = X_outlier.copy(), y_outlier.copy()"
   ]
  },
  {
   "cell_type": "code",
   "execution_count": 19,
   "id": "c34363db",
   "metadata": {
    "execution": {
     "iopub.execute_input": "2021-04-04T23:34:23.430725Z",
     "iopub.status.busy": "2021-04-04T23:34:23.428177Z",
     "iopub.status.idle": "2021-04-04T23:34:23.436950Z",
     "shell.execute_reply": "2021-04-04T23:34:23.439085Z"
    },
    "papermill": {
     "duration": 0.04741,
     "end_time": "2021-04-04T23:34:23.439607",
     "exception": false,
     "start_time": "2021-04-04T23:34:23.392197",
     "status": "completed"
    },
    "tags": []
   },
   "outputs": [],
   "source": [
    "X_train, y_train = pd.concat([X_inlier_train, X_outlier_train], ignore_index=True), pd.concat([y_inlier_train, y_outlier_train], ignore_index=True)\n",
    "X_test, y_test = pd.concat([X_inlier_test, X_outlier_test], ignore_index=True), pd.concat([y_inlier_test, y_outlier_test], ignore_index=True)"
   ]
  },
  {
   "cell_type": "markdown",
   "id": "7cde7309",
   "metadata": {
    "papermill": {
     "duration": 0.023654,
     "end_time": "2021-04-04T23:34:23.488897",
     "exception": false,
     "start_time": "2021-04-04T23:34:23.465243",
     "status": "completed"
    },
    "tags": []
   },
   "source": [
    "# Model"
   ]
  },
  {
   "cell_type": "code",
   "execution_count": 20,
   "id": "2b12a415",
   "metadata": {
    "execution": {
     "iopub.execute_input": "2021-04-04T23:34:23.554398Z",
     "iopub.status.busy": "2021-04-04T23:34:23.552825Z",
     "iopub.status.idle": "2021-04-04T23:34:23.555669Z",
     "shell.execute_reply": "2021-04-04T23:34:23.556198Z"
    },
    "papermill": {
     "duration": 0.041648,
     "end_time": "2021-04-04T23:34:23.556361",
     "exception": false,
     "start_time": "2021-04-04T23:34:23.514713",
     "status": "completed"
    },
    "tags": []
   },
   "outputs": [],
   "source": [
    "from math import sqrt\n",
    "\n",
    "\n",
    "class KNNDataDescription:\n",
    "    def __init__(self, k=5, outlier_threshold=1.0):\n",
    "        self.k = k\n",
    "        self.outlier_threshold = outlier_threshold\n",
    "        self.X = []\n",
    "    \n",
    "    def fit(self, X):\n",
    "        self.X = [features.to_list() for index, features in X.iterrows()]\n",
    "\n",
    "    def predict(self, entries):\n",
    "        return [self.predict_entry(features.to_list()) for index, features in entries.iterrows()]\n",
    "    \n",
    "    def predict_entry(self, entry):\n",
    "        kth_neighbor, kth_distance = self.get_kth_neighbor(entry, self.k)\n",
    "        kth_kth_neighbor, kth_kth_distance = self.get_kth_neighbor(kth_neighbor, self.k + 1)\n",
    "\n",
    "        outlier_score = kth_distance / (kth_kth_distance + 0.000001)\n",
    "\n",
    "        return 1 if outlier_score < self.outlier_threshold else -1\n",
    "        \n",
    "    def euclidean_distance(self, features1, features2):\n",
    "        distance = 0.0\n",
    "        for feat1, feat2 in zip(features1, features2):\n",
    "            distance += (feat1 - feat2)**2\n",
    "                \n",
    "        return sqrt(distance)\n",
    "\n",
    "    def get_neighbors(self, entry, k):\n",
    "        distance_to_data_points = [\n",
    "            (data_point, self.euclidean_distance(entry, data_point))\n",
    "            for data_point in self.X\n",
    "        ]\n",
    "        sorted_by_distance = sorted(distance_to_data_points, key=lambda tup: tup[1])\n",
    "        neighbors = sorted_by_distance[:k]\n",
    "        return neighbors\n",
    "\n",
    "    def get_kth_neighbor(self, entry, k):\n",
    "        neighbors = self.get_neighbors(entry, k)\n",
    "        return neighbors[-1]\n"
   ]
  },
  {
   "cell_type": "code",
   "execution_count": 21,
   "id": "1fa9ec1c",
   "metadata": {
    "execution": {
     "iopub.execute_input": "2021-04-04T23:34:23.611128Z",
     "iopub.status.busy": "2021-04-04T23:34:23.609669Z",
     "iopub.status.idle": "2021-04-04T23:34:23.631811Z",
     "shell.execute_reply": "2021-04-04T23:34:23.631267Z"
    },
    "papermill": {
     "duration": 0.052148,
     "end_time": "2021-04-04T23:34:23.631931",
     "exception": false,
     "start_time": "2021-04-04T23:34:23.579783",
     "status": "completed"
    },
    "tags": []
   },
   "outputs": [],
   "source": [
    "from sklearn.svm import OneClassSVM\n",
    "\n",
    "\n",
    "models = {\n",
    "    'oneclasssvm': OneClassSVM,\n",
    "    'knndatadescription': KNNDataDescription,\n",
    "}"
   ]
  },
  {
   "cell_type": "code",
   "execution_count": 22,
   "id": "4d72a0b1",
   "metadata": {
    "execution": {
     "iopub.execute_input": "2021-04-04T23:34:23.687232Z",
     "iopub.status.busy": "2021-04-04T23:34:23.686475Z",
     "iopub.status.idle": "2021-04-04T23:34:23.688992Z",
     "shell.execute_reply": "2021-04-04T23:34:23.688482Z"
    },
    "papermill": {
     "duration": 0.032701,
     "end_time": "2021-04-04T23:34:23.689111",
     "exception": false,
     "start_time": "2021-04-04T23:34:23.656410",
     "status": "completed"
    },
    "scrolled": true,
    "tags": []
   },
   "outputs": [],
   "source": [
    "model_cls = models[model_config['model_type']]\n",
    "model = model_cls(**model_config['hyperparameters'])"
   ]
  },
  {
   "cell_type": "markdown",
   "id": "e00cff3b",
   "metadata": {
    "papermill": {
     "duration": 0.022513,
     "end_time": "2021-04-04T23:34:23.738121",
     "exception": false,
     "start_time": "2021-04-04T23:34:23.715608",
     "status": "completed"
    },
    "tags": []
   },
   "source": [
    "# Fit"
   ]
  },
  {
   "cell_type": "code",
   "execution_count": 23,
   "id": "8b2ded89",
   "metadata": {
    "execution": {
     "iopub.execute_input": "2021-04-04T23:34:23.820025Z",
     "iopub.status.busy": "2021-04-04T23:34:23.815202Z",
     "iopub.status.idle": "2021-04-04T23:34:23.833295Z",
     "shell.execute_reply": "2021-04-04T23:34:23.834595Z"
    },
    "papermill": {
     "duration": 0.061805,
     "end_time": "2021-04-04T23:34:23.834955",
     "exception": false,
     "start_time": "2021-04-04T23:34:23.773150",
     "status": "completed"
    },
    "tags": []
   },
   "outputs": [
    {
     "data": {
      "text/plain": [
       "OneClassSVM()"
      ]
     },
     "execution_count": 23,
     "metadata": {},
     "output_type": "execute_result"
    }
   ],
   "source": [
    "model.fit(X_train)"
   ]
  },
  {
   "cell_type": "markdown",
   "id": "f99999f7",
   "metadata": {
    "papermill": {
     "duration": 0.032968,
     "end_time": "2021-04-04T23:34:23.913215",
     "exception": false,
     "start_time": "2021-04-04T23:34:23.880247",
     "status": "completed"
    },
    "tags": []
   },
   "source": [
    "# Predict"
   ]
  },
  {
   "cell_type": "code",
   "execution_count": 24,
   "id": "6536fbf7",
   "metadata": {
    "execution": {
     "iopub.execute_input": "2021-04-04T23:34:23.997395Z",
     "iopub.status.busy": "2021-04-04T23:34:23.996559Z",
     "iopub.status.idle": "2021-04-04T23:34:24.003682Z",
     "shell.execute_reply": "2021-04-04T23:34:24.004722Z"
    },
    "papermill": {
     "duration": 0.062666,
     "end_time": "2021-04-04T23:34:24.005060",
     "exception": false,
     "start_time": "2021-04-04T23:34:23.942394",
     "status": "completed"
    },
    "tags": []
   },
   "outputs": [],
   "source": [
    "predictions = model.predict(X_test)"
   ]
  },
  {
   "cell_type": "markdown",
   "id": "aa1c9881",
   "metadata": {
    "papermill": {
     "duration": 0.024599,
     "end_time": "2021-04-04T23:34:24.059486",
     "exception": false,
     "start_time": "2021-04-04T23:34:24.034887",
     "status": "completed"
    },
    "tags": []
   },
   "source": [
    "# Evaluate"
   ]
  },
  {
   "cell_type": "code",
   "execution_count": 25,
   "id": "894f0f04",
   "metadata": {
    "execution": {
     "iopub.execute_input": "2021-04-04T23:34:24.124682Z",
     "iopub.status.busy": "2021-04-04T23:34:24.123725Z",
     "iopub.status.idle": "2021-04-04T23:34:24.125913Z",
     "shell.execute_reply": "2021-04-04T23:34:24.126573Z"
    },
    "papermill": {
     "duration": 0.040497,
     "end_time": "2021-04-04T23:34:24.126740",
     "exception": false,
     "start_time": "2021-04-04T23:34:24.086243",
     "status": "completed"
    },
    "tags": []
   },
   "outputs": [],
   "source": [
    "from sklearn.metrics import f1_score"
   ]
  },
  {
   "cell_type": "code",
   "execution_count": 26,
   "id": "211744d3",
   "metadata": {
    "execution": {
     "iopub.execute_input": "2021-04-04T23:34:24.180933Z",
     "iopub.status.busy": "2021-04-04T23:34:24.180346Z",
     "iopub.status.idle": "2021-04-04T23:34:24.182253Z",
     "shell.execute_reply": "2021-04-04T23:34:24.182882Z"
    },
    "papermill": {
     "duration": 0.03098,
     "end_time": "2021-04-04T23:34:24.183259",
     "exception": false,
     "start_time": "2021-04-04T23:34:24.152279",
     "status": "completed"
    },
    "tags": []
   },
   "outputs": [],
   "source": [
    "y_test = y_test.replace([0, 1], [1, -1])"
   ]
  },
  {
   "cell_type": "code",
   "execution_count": 27,
   "id": "d68a9204",
   "metadata": {
    "execution": {
     "iopub.execute_input": "2021-04-04T23:34:24.249619Z",
     "iopub.status.busy": "2021-04-04T23:34:24.248247Z",
     "iopub.status.idle": "2021-04-04T23:34:24.251980Z",
     "shell.execute_reply": "2021-04-04T23:34:24.252834Z"
    },
    "papermill": {
     "duration": 0.043366,
     "end_time": "2021-04-04T23:34:24.253112",
     "exception": false,
     "start_time": "2021-04-04T23:34:24.209746",
     "status": "completed"
    },
    "tags": []
   },
   "outputs": [],
   "source": [
    "def evaluate(truths, predictions, pos_label, neg_label):\n",
    "    TP = 0\n",
    "    FP = 0\n",
    "    TN = 0\n",
    "    FN = 0\n",
    "\n",
    "    for truth, pred in zip(truths, predictions): \n",
    "        if truth == pred == pos_label:\n",
    "           TP += 1\n",
    "        elif pred == pos_label and truth == neg_label:\n",
    "           FP += 1\n",
    "        elif truth == pred == neg_label:\n",
    "           TN += 1\n",
    "        elif pred == neg_label and truth == pos_label:\n",
    "           FN += 1\n",
    "\n",
    "    precision = TP / (TP + FP)\n",
    "    sensitivity = TP / (TP + FN)\n",
    "    \n",
    "    return {\n",
    "        'true_pos': TP,\n",
    "        'false_pos': FP,\n",
    "        'false_neg': FN,\n",
    "        'true_neg': TN,\n",
    "        'precision': precision,\n",
    "        'sensitivity': sensitivity,\n",
    "        'f1': (2 * (precision * sensitivity)) / (precision + sensitivity)\n",
    "    }\n",
    "\n",
    "score = evaluate(y_test, predictions, pos_label=-1, neg_label=1)"
   ]
  },
  {
   "cell_type": "markdown",
   "id": "93596516",
   "metadata": {
    "papermill": {
     "duration": 0.026104,
     "end_time": "2021-04-04T23:34:24.303673",
     "exception": false,
     "start_time": "2021-04-04T23:34:24.277569",
     "status": "completed"
    },
    "tags": []
   },
   "source": [
    "# Report"
   ]
  },
  {
   "cell_type": "code",
   "execution_count": 28,
   "id": "bea5fba1",
   "metadata": {
    "execution": {
     "iopub.execute_input": "2021-04-04T23:34:24.372531Z",
     "iopub.status.busy": "2021-04-04T23:34:24.370402Z",
     "iopub.status.idle": "2021-04-04T23:34:24.377051Z",
     "shell.execute_reply": "2021-04-04T23:34:24.378758Z"
    },
    "papermill": {
     "duration": 0.051367,
     "end_time": "2021-04-04T23:34:24.379412",
     "exception": false,
     "start_time": "2021-04-04T23:34:24.328045",
     "status": "completed"
    },
    "tags": []
   },
   "outputs": [],
   "source": [
    "import csv\n",
    "\n",
    "\n",
    "dataset_config_name = DATASET_CONFIG_PATH.split('/')[-1].split('.')[0]\n",
    "model_config_name = MODEL_CONFIG_PATH.split('/')[-1].split('.')[0]\n",
    "configuration = f\"dataset_{dataset_config_name}-model_{model_config_name}\"\n",
    "\n",
    "with open('results.csv', 'a') as f:\n",
    "    report = dict({'configuration': configuration}, **score)\n",
    "    writer = csv.DictWriter(f, report.keys())\n",
    "    writer.writerow(report)"
   ]
  }
 ],
 "metadata": {
  "celltoolbar": "Tags",
  "kernelspec": {
   "display_name": "Python 3",
   "language": "python",
   "name": "python3"
  },
  "language_info": {
   "codemirror_mode": {
    "name": "ipython",
    "version": 3
   },
   "file_extension": ".py",
   "mimetype": "text/x-python",
   "name": "python",
   "nbconvert_exporter": "python",
   "pygments_lexer": "ipython3",
   "version": "3.9.1"
  },
  "papermill": {
   "default_parameters": {},
   "duration": 6.072665,
   "end_time": "2021-04-04T23:34:25.821810",
   "environment_variables": {},
   "exception": null,
   "input_path": "main.ipynb",
   "output_path": "runs/dataset_000151-model_000004.ipynb",
   "parameters": {
    "DATASET_CONFIG_PATH": "config/dataset/000151.json",
    "MODEL_CONFIG_PATH": "config/model/000004.json",
    "PROFILE_REPORTING": false
   },
   "start_time": "2021-04-04T23:34:19.749145",
   "version": "2.3.3"
  }
 },
 "nbformat": 4,
 "nbformat_minor": 5
}