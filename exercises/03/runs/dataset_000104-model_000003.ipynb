{
 "cells": [
  {
   "cell_type": "markdown",
   "id": "51c71c25",
   "metadata": {
    "papermill": {
     "duration": 0.028257,
     "end_time": "2021-04-04T23:14:23.373906",
     "exception": false,
     "start_time": "2021-04-04T23:14:23.345649",
     "status": "completed"
    },
    "tags": []
   },
   "source": [
    "# Parametrizing"
   ]
  },
  {
   "cell_type": "code",
   "execution_count": 1,
   "id": "3b136394",
   "metadata": {
    "execution": {
     "iopub.execute_input": "2021-04-04T23:14:23.429228Z",
     "iopub.status.busy": "2021-04-04T23:14:23.428466Z",
     "iopub.status.idle": "2021-04-04T23:14:23.431272Z",
     "shell.execute_reply": "2021-04-04T23:14:23.432221Z"
    },
    "papermill": {
     "duration": 0.038709,
     "end_time": "2021-04-04T23:14:23.432579",
     "exception": false,
     "start_time": "2021-04-04T23:14:23.393870",
     "status": "completed"
    },
    "tags": [
     "parameters"
    ]
   },
   "outputs": [],
   "source": [
    "DATASET_CONFIG_PATH = 'config/dataset/kc1_001.json'\n",
    "MODEL_CONFIG_PATH = 'config/model/knndd_001.json'\n",
    "PROFILE_REPORTING = False"
   ]
  },
  {
   "cell_type": "code",
   "execution_count": 2,
   "id": "fbef9605",
   "metadata": {
    "execution": {
     "iopub.execute_input": "2021-04-04T23:14:23.481026Z",
     "iopub.status.busy": "2021-04-04T23:14:23.479919Z",
     "iopub.status.idle": "2021-04-04T23:14:23.482344Z",
     "shell.execute_reply": "2021-04-04T23:14:23.483409Z"
    },
    "papermill": {
     "duration": 0.028398,
     "end_time": "2021-04-04T23:14:23.483657",
     "exception": false,
     "start_time": "2021-04-04T23:14:23.455259",
     "status": "completed"
    },
    "tags": [
     "injected-parameters"
    ]
   },
   "outputs": [],
   "source": [
    "# Parameters\n",
    "DATASET_CONFIG_PATH = \"config/dataset/000104.json\"\n",
    "MODEL_CONFIG_PATH = \"config/model/000003.json\"\n",
    "PROFILE_REPORTING = False\n"
   ]
  },
  {
   "cell_type": "code",
   "execution_count": 3,
   "id": "b80f2a10",
   "metadata": {
    "execution": {
     "iopub.execute_input": "2021-04-04T23:14:23.536467Z",
     "iopub.status.busy": "2021-04-04T23:14:23.535657Z",
     "iopub.status.idle": "2021-04-04T23:14:23.538230Z",
     "shell.execute_reply": "2021-04-04T23:14:23.539102Z"
    },
    "papermill": {
     "duration": 0.028699,
     "end_time": "2021-04-04T23:14:23.539340",
     "exception": false,
     "start_time": "2021-04-04T23:14:23.510641",
     "status": "completed"
    },
    "tags": []
   },
   "outputs": [],
   "source": [
    "import json\n",
    "\n",
    "\n",
    "with open(DATASET_CONFIG_PATH) as f:\n",
    "    dataset_config = json.load(f)\n",
    "\n",
    "with open(MODEL_CONFIG_PATH) as f:\n",
    "    model_config = json.load(f)"
   ]
  },
  {
   "cell_type": "markdown",
   "id": "9a4b0e2d",
   "metadata": {
    "papermill": {
     "duration": 0.020046,
     "end_time": "2021-04-04T23:14:23.586017",
     "exception": false,
     "start_time": "2021-04-04T23:14:23.565971",
     "status": "completed"
    },
    "tags": []
   },
   "source": [
    "# Profiling"
   ]
  },
  {
   "cell_type": "code",
   "execution_count": 4,
   "id": "a3e0289b",
   "metadata": {
    "execution": {
     "iopub.execute_input": "2021-04-04T23:14:23.631870Z",
     "iopub.status.busy": "2021-04-04T23:14:23.630294Z",
     "iopub.status.idle": "2021-04-04T23:14:24.916025Z",
     "shell.execute_reply": "2021-04-04T23:14:24.915346Z"
    },
    "papermill": {
     "duration": 1.31067,
     "end_time": "2021-04-04T23:14:24.916153",
     "exception": false,
     "start_time": "2021-04-04T23:14:23.605483",
     "status": "completed"
    },
    "tags": []
   },
   "outputs": [],
   "source": [
    "import pandas as pd\n",
    "from pandas_profiling import ProfileReport"
   ]
  },
  {
   "cell_type": "code",
   "execution_count": 5,
   "id": "ee6c0666",
   "metadata": {
    "execution": {
     "iopub.execute_input": "2021-04-04T23:14:24.962259Z",
     "iopub.status.busy": "2021-04-04T23:14:24.961545Z",
     "iopub.status.idle": "2021-04-04T23:14:24.972067Z",
     "shell.execute_reply": "2021-04-04T23:14:24.972609Z"
    },
    "papermill": {
     "duration": 0.036002,
     "end_time": "2021-04-04T23:14:24.972766",
     "exception": false,
     "start_time": "2021-04-04T23:14:24.936764",
     "status": "completed"
    },
    "tags": []
   },
   "outputs": [],
   "source": [
    "df = pd.read_csv(dataset_config['dataset_path'])"
   ]
  },
  {
   "cell_type": "code",
   "execution_count": 6,
   "id": "7eca6c4a",
   "metadata": {
    "execution": {
     "iopub.execute_input": "2021-04-04T23:14:25.033949Z",
     "iopub.status.busy": "2021-04-04T23:14:25.023253Z",
     "iopub.status.idle": "2021-04-04T23:14:25.037518Z",
     "shell.execute_reply": "2021-04-04T23:14:25.038401Z"
    },
    "papermill": {
     "duration": 0.042152,
     "end_time": "2021-04-04T23:14:25.038643",
     "exception": false,
     "start_time": "2021-04-04T23:14:24.996491",
     "status": "completed"
    },
    "tags": []
   },
   "outputs": [
    {
     "name": "stdout",
     "output_type": "stream",
     "text": [
      "<class 'pandas.core.frame.DataFrame'>\n",
      "RangeIndex: 498 entries, 0 to 497\n",
      "Data columns (total 23 columns):\n",
      " #   Column             Non-Null Count  Dtype  \n",
      "---  ------             --------------  -----  \n",
      " 0   id                 498 non-null    int64  \n",
      " 1   loc                498 non-null    float64\n",
      " 2   v(g)               498 non-null    float64\n",
      " 3   ev(g)              498 non-null    float64\n",
      " 4   iv(g)              498 non-null    float64\n",
      " 5   n                  498 non-null    float64\n",
      " 6   v                  498 non-null    float64\n",
      " 7   l                  498 non-null    float64\n",
      " 8   d                  498 non-null    float64\n",
      " 9   i                  498 non-null    float64\n",
      " 10  e                  498 non-null    float64\n",
      " 11  b                  498 non-null    float64\n",
      " 12  t                  498 non-null    float64\n",
      " 13  lOCode             498 non-null    int64  \n",
      " 14  lOComment          498 non-null    int64  \n",
      " 15  lOBlank            498 non-null    int64  \n",
      " 16  locCodeAndComment  498 non-null    int64  \n",
      " 17  uniq_Op            498 non-null    float64\n",
      " 18  uniq_Opnd          498 non-null    float64\n",
      " 19  total_Op           498 non-null    float64\n",
      " 20  total_Opnd         498 non-null    float64\n",
      " 21  branchCount        498 non-null    float64\n",
      " 22  defects            498 non-null    bool   \n",
      "dtypes: bool(1), float64(17), int64(5)\n",
      "memory usage: 86.2 KB\n"
     ]
    }
   ],
   "source": [
    "df.info()"
   ]
  },
  {
   "cell_type": "code",
   "execution_count": 7,
   "id": "3638e5e8",
   "metadata": {
    "execution": {
     "iopub.execute_input": "2021-04-04T23:14:25.097019Z",
     "iopub.status.busy": "2021-04-04T23:14:25.096104Z",
     "iopub.status.idle": "2021-04-04T23:14:25.121684Z",
     "shell.execute_reply": "2021-04-04T23:14:25.122621Z"
    },
    "papermill": {
     "duration": 0.056824,
     "end_time": "2021-04-04T23:14:25.122887",
     "exception": false,
     "start_time": "2021-04-04T23:14:25.066063",
     "status": "completed"
    },
    "tags": []
   },
   "outputs": [
    {
     "data": {
      "text/html": [
       "<div>\n",
       "<style scoped>\n",
       "    .dataframe tbody tr th:only-of-type {\n",
       "        vertical-align: middle;\n",
       "    }\n",
       "\n",
       "    .dataframe tbody tr th {\n",
       "        vertical-align: top;\n",
       "    }\n",
       "\n",
       "    .dataframe thead th {\n",
       "        text-align: right;\n",
       "    }\n",
       "</style>\n",
       "<table border=\"1\" class=\"dataframe\">\n",
       "  <thead>\n",
       "    <tr style=\"text-align: right;\">\n",
       "      <th></th>\n",
       "      <th>id</th>\n",
       "      <th>loc</th>\n",
       "      <th>v(g)</th>\n",
       "      <th>ev(g)</th>\n",
       "      <th>iv(g)</th>\n",
       "      <th>n</th>\n",
       "      <th>v</th>\n",
       "      <th>l</th>\n",
       "      <th>d</th>\n",
       "      <th>i</th>\n",
       "      <th>...</th>\n",
       "      <th>lOCode</th>\n",
       "      <th>lOComment</th>\n",
       "      <th>lOBlank</th>\n",
       "      <th>locCodeAndComment</th>\n",
       "      <th>uniq_Op</th>\n",
       "      <th>uniq_Opnd</th>\n",
       "      <th>total_Op</th>\n",
       "      <th>total_Opnd</th>\n",
       "      <th>branchCount</th>\n",
       "      <th>defects</th>\n",
       "    </tr>\n",
       "  </thead>\n",
       "  <tbody>\n",
       "    <tr>\n",
       "      <th>0</th>\n",
       "      <td>1</td>\n",
       "      <td>1.1</td>\n",
       "      <td>1.4</td>\n",
       "      <td>1.4</td>\n",
       "      <td>1.4</td>\n",
       "      <td>1.3</td>\n",
       "      <td>1.30</td>\n",
       "      <td>1.30</td>\n",
       "      <td>1.30</td>\n",
       "      <td>1.30</td>\n",
       "      <td>...</td>\n",
       "      <td>2</td>\n",
       "      <td>2</td>\n",
       "      <td>2</td>\n",
       "      <td>2</td>\n",
       "      <td>1.2</td>\n",
       "      <td>1.2</td>\n",
       "      <td>1.2</td>\n",
       "      <td>1.2</td>\n",
       "      <td>1.4</td>\n",
       "      <td>False</td>\n",
       "    </tr>\n",
       "    <tr>\n",
       "      <th>1</th>\n",
       "      <td>2</td>\n",
       "      <td>1.0</td>\n",
       "      <td>1.0</td>\n",
       "      <td>1.0</td>\n",
       "      <td>1.0</td>\n",
       "      <td>1.0</td>\n",
       "      <td>1.00</td>\n",
       "      <td>1.00</td>\n",
       "      <td>1.00</td>\n",
       "      <td>1.00</td>\n",
       "      <td>...</td>\n",
       "      <td>1</td>\n",
       "      <td>1</td>\n",
       "      <td>1</td>\n",
       "      <td>1</td>\n",
       "      <td>1.0</td>\n",
       "      <td>1.0</td>\n",
       "      <td>1.0</td>\n",
       "      <td>1.0</td>\n",
       "      <td>1.0</td>\n",
       "      <td>True</td>\n",
       "    </tr>\n",
       "    <tr>\n",
       "      <th>2</th>\n",
       "      <td>3</td>\n",
       "      <td>24.0</td>\n",
       "      <td>5.0</td>\n",
       "      <td>1.0</td>\n",
       "      <td>3.0</td>\n",
       "      <td>63.0</td>\n",
       "      <td>309.13</td>\n",
       "      <td>0.11</td>\n",
       "      <td>9.50</td>\n",
       "      <td>32.54</td>\n",
       "      <td>...</td>\n",
       "      <td>1</td>\n",
       "      <td>0</td>\n",
       "      <td>6</td>\n",
       "      <td>0</td>\n",
       "      <td>15.0</td>\n",
       "      <td>15.0</td>\n",
       "      <td>44.0</td>\n",
       "      <td>19.0</td>\n",
       "      <td>9.0</td>\n",
       "      <td>False</td>\n",
       "    </tr>\n",
       "    <tr>\n",
       "      <th>3</th>\n",
       "      <td>4</td>\n",
       "      <td>20.0</td>\n",
       "      <td>4.0</td>\n",
       "      <td>4.0</td>\n",
       "      <td>2.0</td>\n",
       "      <td>47.0</td>\n",
       "      <td>215.49</td>\n",
       "      <td>0.06</td>\n",
       "      <td>16.00</td>\n",
       "      <td>13.47</td>\n",
       "      <td>...</td>\n",
       "      <td>0</td>\n",
       "      <td>0</td>\n",
       "      <td>3</td>\n",
       "      <td>0</td>\n",
       "      <td>16.0</td>\n",
       "      <td>8.0</td>\n",
       "      <td>31.0</td>\n",
       "      <td>16.0</td>\n",
       "      <td>7.0</td>\n",
       "      <td>False</td>\n",
       "    </tr>\n",
       "    <tr>\n",
       "      <th>4</th>\n",
       "      <td>5</td>\n",
       "      <td>24.0</td>\n",
       "      <td>6.0</td>\n",
       "      <td>6.0</td>\n",
       "      <td>2.0</td>\n",
       "      <td>72.0</td>\n",
       "      <td>346.13</td>\n",
       "      <td>0.06</td>\n",
       "      <td>17.33</td>\n",
       "      <td>19.97</td>\n",
       "      <td>...</td>\n",
       "      <td>0</td>\n",
       "      <td>0</td>\n",
       "      <td>3</td>\n",
       "      <td>0</td>\n",
       "      <td>16.0</td>\n",
       "      <td>12.0</td>\n",
       "      <td>46.0</td>\n",
       "      <td>26.0</td>\n",
       "      <td>11.0</td>\n",
       "      <td>False</td>\n",
       "    </tr>\n",
       "  </tbody>\n",
       "</table>\n",
       "<p>5 rows × 23 columns</p>\n",
       "</div>"
      ],
      "text/plain": [
       "   id   loc  v(g)  ev(g)  iv(g)     n       v     l      d      i  ...  \\\n",
       "0   1   1.1   1.4    1.4    1.4   1.3    1.30  1.30   1.30   1.30  ...   \n",
       "1   2   1.0   1.0    1.0    1.0   1.0    1.00  1.00   1.00   1.00  ...   \n",
       "2   3  24.0   5.0    1.0    3.0  63.0  309.13  0.11   9.50  32.54  ...   \n",
       "3   4  20.0   4.0    4.0    2.0  47.0  215.49  0.06  16.00  13.47  ...   \n",
       "4   5  24.0   6.0    6.0    2.0  72.0  346.13  0.06  17.33  19.97  ...   \n",
       "\n",
       "   lOCode  lOComment  lOBlank  locCodeAndComment  uniq_Op  uniq_Opnd  \\\n",
       "0       2          2        2                  2      1.2        1.2   \n",
       "1       1          1        1                  1      1.0        1.0   \n",
       "2       1          0        6                  0     15.0       15.0   \n",
       "3       0          0        3                  0     16.0        8.0   \n",
       "4       0          0        3                  0     16.0       12.0   \n",
       "\n",
       "   total_Op  total_Opnd  branchCount  defects  \n",
       "0       1.2         1.2          1.4    False  \n",
       "1       1.0         1.0          1.0     True  \n",
       "2      44.0        19.0          9.0    False  \n",
       "3      31.0        16.0          7.0    False  \n",
       "4      46.0        26.0         11.0    False  \n",
       "\n",
       "[5 rows x 23 columns]"
      ]
     },
     "execution_count": 7,
     "metadata": {},
     "output_type": "execute_result"
    }
   ],
   "source": [
    "df.head()"
   ]
  },
  {
   "cell_type": "code",
   "execution_count": 8,
   "id": "733e95eb",
   "metadata": {
    "execution": {
     "iopub.execute_input": "2021-04-04T23:14:25.178803Z",
     "iopub.status.busy": "2021-04-04T23:14:25.177476Z",
     "iopub.status.idle": "2021-04-04T23:14:25.181055Z",
     "shell.execute_reply": "2021-04-04T23:14:25.181921Z"
    },
    "papermill": {
     "duration": 0.03134,
     "end_time": "2021-04-04T23:14:25.182163",
     "exception": false,
     "start_time": "2021-04-04T23:14:25.150823",
     "status": "completed"
    },
    "tags": []
   },
   "outputs": [],
   "source": [
    "del df['id']"
   ]
  },
  {
   "cell_type": "code",
   "execution_count": 9,
   "id": "6ff6f5b0",
   "metadata": {
    "execution": {
     "iopub.execute_input": "2021-04-04T23:14:25.234046Z",
     "iopub.status.busy": "2021-04-04T23:14:25.232789Z",
     "iopub.status.idle": "2021-04-04T23:14:25.236656Z",
     "shell.execute_reply": "2021-04-04T23:14:25.235705Z"
    },
    "papermill": {
     "duration": 0.02972,
     "end_time": "2021-04-04T23:14:25.236882",
     "exception": false,
     "start_time": "2021-04-04T23:14:25.207162",
     "status": "completed"
    },
    "tags": []
   },
   "outputs": [],
   "source": [
    "if PROFILE_REPORTING:\n",
    "    ProfileReport(df).to_widgets()"
   ]
  },
  {
   "cell_type": "markdown",
   "id": "1deaf3f0",
   "metadata": {
    "papermill": {
     "duration": 0.021436,
     "end_time": "2021-04-04T23:14:25.284469",
     "exception": false,
     "start_time": "2021-04-04T23:14:25.263033",
     "status": "completed"
    },
    "tags": []
   },
   "source": [
    "# Preprocess"
   ]
  },
  {
   "cell_type": "code",
   "execution_count": 10,
   "id": "1513e563",
   "metadata": {
    "execution": {
     "iopub.execute_input": "2021-04-04T23:14:25.333356Z",
     "iopub.status.busy": "2021-04-04T23:14:25.332258Z",
     "iopub.status.idle": "2021-04-04T23:14:25.334962Z",
     "shell.execute_reply": "2021-04-04T23:14:25.334374Z"
    },
    "papermill": {
     "duration": 0.029329,
     "end_time": "2021-04-04T23:14:25.335083",
     "exception": false,
     "start_time": "2021-04-04T23:14:25.305754",
     "status": "completed"
    },
    "tags": []
   },
   "outputs": [],
   "source": [
    "working_df = df.copy()"
   ]
  },
  {
   "cell_type": "code",
   "execution_count": 11,
   "id": "3b26d675",
   "metadata": {
    "execution": {
     "iopub.execute_input": "2021-04-04T23:14:25.390569Z",
     "iopub.status.busy": "2021-04-04T23:14:25.389796Z",
     "iopub.status.idle": "2021-04-04T23:14:25.393263Z",
     "shell.execute_reply": "2021-04-04T23:14:25.392370Z"
    },
    "papermill": {
     "duration": 0.033035,
     "end_time": "2021-04-04T23:14:25.393461",
     "exception": false,
     "start_time": "2021-04-04T23:14:25.360426",
     "status": "completed"
    },
    "tags": []
   },
   "outputs": [],
   "source": [
    "working_df['defects'] = working_df['defects'].replace([False, True], [0, 1])"
   ]
  },
  {
   "cell_type": "code",
   "execution_count": 12,
   "id": "eb48604f",
   "metadata": {
    "execution": {
     "iopub.execute_input": "2021-04-04T23:14:25.447386Z",
     "iopub.status.busy": "2021-04-04T23:14:25.445931Z",
     "iopub.status.idle": "2021-04-04T23:14:25.448778Z",
     "shell.execute_reply": "2021-04-04T23:14:25.449494Z"
    },
    "papermill": {
     "duration": 0.030176,
     "end_time": "2021-04-04T23:14:25.449696",
     "exception": false,
     "start_time": "2021-04-04T23:14:25.419520",
     "status": "completed"
    },
    "tags": []
   },
   "outputs": [],
   "source": [
    "for col in dataset_config['delete_columns']:\n",
    "    del working_df[col]"
   ]
  },
  {
   "cell_type": "code",
   "execution_count": 13,
   "id": "9a17bc29",
   "metadata": {
    "execution": {
     "iopub.execute_input": "2021-04-04T23:14:25.506086Z",
     "iopub.status.busy": "2021-04-04T23:14:25.504592Z",
     "iopub.status.idle": "2021-04-04T23:14:25.517625Z",
     "shell.execute_reply": "2021-04-04T23:14:25.516412Z"
    },
    "papermill": {
     "duration": 0.042351,
     "end_time": "2021-04-04T23:14:25.517854",
     "exception": false,
     "start_time": "2021-04-04T23:14:25.475503",
     "status": "completed"
    },
    "tags": []
   },
   "outputs": [],
   "source": [
    "working_df = working_df.drop_duplicates()"
   ]
  },
  {
   "cell_type": "markdown",
   "id": "a4d52ca6",
   "metadata": {
    "papermill": {
     "duration": 0.021232,
     "end_time": "2021-04-04T23:14:25.570443",
     "exception": false,
     "start_time": "2021-04-04T23:14:25.549211",
     "status": "completed"
    },
    "tags": []
   },
   "source": [
    "# Split"
   ]
  },
  {
   "cell_type": "code",
   "execution_count": 14,
   "id": "3e9ee4b5",
   "metadata": {
    "execution": {
     "iopub.execute_input": "2021-04-04T23:14:25.619714Z",
     "iopub.status.busy": "2021-04-04T23:14:25.618798Z",
     "iopub.status.idle": "2021-04-04T23:14:25.651631Z",
     "shell.execute_reply": "2021-04-04T23:14:25.650690Z"
    },
    "papermill": {
     "duration": 0.059043,
     "end_time": "2021-04-04T23:14:25.651812",
     "exception": false,
     "start_time": "2021-04-04T23:14:25.592769",
     "status": "completed"
    },
    "tags": []
   },
   "outputs": [],
   "source": [
    "from sklearn.model_selection import train_test_split"
   ]
  },
  {
   "cell_type": "code",
   "execution_count": 15,
   "id": "274004ce",
   "metadata": {
    "execution": {
     "iopub.execute_input": "2021-04-04T23:14:25.705416Z",
     "iopub.status.busy": "2021-04-04T23:14:25.704747Z",
     "iopub.status.idle": "2021-04-04T23:14:25.709999Z",
     "shell.execute_reply": "2021-04-04T23:14:25.710496Z"
    },
    "papermill": {
     "duration": 0.032805,
     "end_time": "2021-04-04T23:14:25.710646",
     "exception": false,
     "start_time": "2021-04-04T23:14:25.677841",
     "status": "completed"
    },
    "scrolled": true,
    "tags": []
   },
   "outputs": [],
   "source": [
    "inlier, outlier = working_df[working_df['defects'] == 0], working_df[working_df['defects'] == 1]"
   ]
  },
  {
   "cell_type": "code",
   "execution_count": 16,
   "id": "753c7b03",
   "metadata": {
    "execution": {
     "iopub.execute_input": "2021-04-04T23:14:25.775100Z",
     "iopub.status.busy": "2021-04-04T23:14:25.773665Z",
     "iopub.status.idle": "2021-04-04T23:14:25.777353Z",
     "shell.execute_reply": "2021-04-04T23:14:25.776525Z"
    },
    "papermill": {
     "duration": 0.040394,
     "end_time": "2021-04-04T23:14:25.777534",
     "exception": false,
     "start_time": "2021-04-04T23:14:25.737140",
     "status": "completed"
    },
    "tags": []
   },
   "outputs": [],
   "source": [
    "X_inlier = inlier.copy()\n",
    "y_inlier = X_inlier.pop('defects')\n",
    "X_outlier = outlier.copy()\n",
    "y_outlier = X_outlier.pop('defects')"
   ]
  },
  {
   "cell_type": "code",
   "execution_count": 17,
   "id": "2ba43193",
   "metadata": {
    "execution": {
     "iopub.execute_input": "2021-04-04T23:14:25.835751Z",
     "iopub.status.busy": "2021-04-04T23:14:25.834947Z",
     "iopub.status.idle": "2021-04-04T23:14:25.837886Z",
     "shell.execute_reply": "2021-04-04T23:14:25.837150Z"
    },
    "papermill": {
     "duration": 0.033782,
     "end_time": "2021-04-04T23:14:25.838074",
     "exception": false,
     "start_time": "2021-04-04T23:14:25.804292",
     "status": "completed"
    },
    "tags": []
   },
   "outputs": [],
   "source": [
    "test_size = dataset_config['test_size']\n",
    "random_state = dataset_config['random_state']\n",
    "\n",
    "X_inlier_train, X_inlier_test, y_inlier_train, y_inlier_test = train_test_split(\n",
    "    X_inlier,\n",
    "    y_inlier,\n",
    "    test_size=test_size,\n",
    "    random_state=random_state\n",
    ")"
   ]
  },
  {
   "cell_type": "code",
   "execution_count": 18,
   "id": "0b7582ca",
   "metadata": {
    "execution": {
     "iopub.execute_input": "2021-04-04T23:14:25.897177Z",
     "iopub.status.busy": "2021-04-04T23:14:25.895826Z",
     "iopub.status.idle": "2021-04-04T23:14:25.898543Z",
     "shell.execute_reply": "2021-04-04T23:14:25.899463Z"
    },
    "papermill": {
     "duration": 0.035991,
     "end_time": "2021-04-04T23:14:25.899723",
     "exception": false,
     "start_time": "2021-04-04T23:14:25.863732",
     "status": "completed"
    },
    "tags": []
   },
   "outputs": [],
   "source": [
    "test_outlier_size = dataset_config['test_outlier_size']\n",
    "if test_outlier_size > 0.0:\n",
    "    X_outlier_train, X_outlier_test, y_outlier_train, y_outlier_test = train_test_split(\n",
    "        X_outlier,\n",
    "        y_outlier,\n",
    "        test_size=test_outlier_size,\n",
    "        random_state=random_state\n",
    "    )\n",
    "else:\n",
    "    X_outlier_train, y_outlier_train = pd.DataFrame(columns=X_outlier.columns), pd.Series(dtype='int64')\n",
    "    X_outlier_test, y_outlier_test = X_outlier.copy(), y_outlier.copy()"
   ]
  },
  {
   "cell_type": "code",
   "execution_count": 19,
   "id": "c34363db",
   "metadata": {
    "execution": {
     "iopub.execute_input": "2021-04-04T23:14:25.960809Z",
     "iopub.status.busy": "2021-04-04T23:14:25.959752Z",
     "iopub.status.idle": "2021-04-04T23:14:25.963247Z",
     "shell.execute_reply": "2021-04-04T23:14:25.962385Z"
    },
    "papermill": {
     "duration": 0.036332,
     "end_time": "2021-04-04T23:14:25.963438",
     "exception": false,
     "start_time": "2021-04-04T23:14:25.927106",
     "status": "completed"
    },
    "tags": []
   },
   "outputs": [],
   "source": [
    "X_train, y_train = pd.concat([X_inlier_train, X_outlier_train], ignore_index=True), pd.concat([y_inlier_train, y_outlier_train], ignore_index=True)\n",
    "X_test, y_test = pd.concat([X_inlier_test, X_outlier_test], ignore_index=True), pd.concat([y_inlier_test, y_outlier_test], ignore_index=True)"
   ]
  },
  {
   "cell_type": "markdown",
   "id": "7cde7309",
   "metadata": {
    "papermill": {
     "duration": 0.022497,
     "end_time": "2021-04-04T23:14:26.013559",
     "exception": false,
     "start_time": "2021-04-04T23:14:25.991062",
     "status": "completed"
    },
    "tags": []
   },
   "source": [
    "# Model"
   ]
  },
  {
   "cell_type": "code",
   "execution_count": 20,
   "id": "2b12a415",
   "metadata": {
    "execution": {
     "iopub.execute_input": "2021-04-04T23:14:26.070755Z",
     "iopub.status.busy": "2021-04-04T23:14:26.070010Z",
     "iopub.status.idle": "2021-04-04T23:14:26.072634Z",
     "shell.execute_reply": "2021-04-04T23:14:26.073532Z"
    },
    "papermill": {
     "duration": 0.038053,
     "end_time": "2021-04-04T23:14:26.073780",
     "exception": false,
     "start_time": "2021-04-04T23:14:26.035727",
     "status": "completed"
    },
    "tags": []
   },
   "outputs": [],
   "source": [
    "from math import sqrt\n",
    "\n",
    "\n",
    "class KNNDataDescription:\n",
    "    def __init__(self, k=5, outlier_threshold=1.0):\n",
    "        self.k = k\n",
    "        self.outlier_threshold = outlier_threshold\n",
    "        self.X = []\n",
    "    \n",
    "    def fit(self, X):\n",
    "        self.X = [features.to_list() for index, features in X.iterrows()]\n",
    "\n",
    "    def predict(self, entries):\n",
    "        return [self.predict_entry(features.to_list()) for index, features in entries.iterrows()]\n",
    "    \n",
    "    def predict_entry(self, entry):\n",
    "        kth_neighbor, kth_distance = self.get_kth_neighbor(entry, self.k)\n",
    "        kth_kth_neighbor, kth_kth_distance = self.get_kth_neighbor(kth_neighbor, self.k + 1)\n",
    "\n",
    "        outlier_score = kth_distance / (kth_kth_distance + 0.000001)\n",
    "\n",
    "        return 1 if outlier_score < self.outlier_threshold else -1\n",
    "        \n",
    "    def euclidean_distance(self, features1, features2):\n",
    "        distance = 0.0\n",
    "        for feat1, feat2 in zip(features1, features2):\n",
    "            distance += (feat1 - feat2)**2\n",
    "                \n",
    "        return sqrt(distance)\n",
    "\n",
    "    def get_neighbors(self, entry, k):\n",
    "        distance_to_data_points = [\n",
    "            (data_point, self.euclidean_distance(entry, data_point))\n",
    "            for data_point in self.X\n",
    "        ]\n",
    "        sorted_by_distance = sorted(distance_to_data_points, key=lambda tup: tup[1])\n",
    "        neighbors = sorted_by_distance[:k]\n",
    "        return neighbors\n",
    "\n",
    "    def get_kth_neighbor(self, entry, k):\n",
    "        neighbors = self.get_neighbors(entry, k)\n",
    "        return neighbors[-1]\n"
   ]
  },
  {
   "cell_type": "code",
   "execution_count": 21,
   "id": "1fa9ec1c",
   "metadata": {
    "execution": {
     "iopub.execute_input": "2021-04-04T23:14:26.130578Z",
     "iopub.status.busy": "2021-04-04T23:14:26.129540Z",
     "iopub.status.idle": "2021-04-04T23:14:26.152044Z",
     "shell.execute_reply": "2021-04-04T23:14:26.151121Z"
    },
    "papermill": {
     "duration": 0.049649,
     "end_time": "2021-04-04T23:14:26.152218",
     "exception": false,
     "start_time": "2021-04-04T23:14:26.102569",
     "status": "completed"
    },
    "tags": []
   },
   "outputs": [],
   "source": [
    "from sklearn.svm import OneClassSVM\n",
    "\n",
    "\n",
    "models = {\n",
    "    'oneclasssvm': OneClassSVM,\n",
    "    'knndatadescription': KNNDataDescription,\n",
    "}"
   ]
  },
  {
   "cell_type": "code",
   "execution_count": 22,
   "id": "4d72a0b1",
   "metadata": {
    "execution": {
     "iopub.execute_input": "2021-04-04T23:14:26.209231Z",
     "iopub.status.busy": "2021-04-04T23:14:26.208339Z",
     "iopub.status.idle": "2021-04-04T23:14:26.211159Z",
     "shell.execute_reply": "2021-04-04T23:14:26.211910Z"
    },
    "papermill": {
     "duration": 0.030944,
     "end_time": "2021-04-04T23:14:26.212121",
     "exception": false,
     "start_time": "2021-04-04T23:14:26.181177",
     "status": "completed"
    },
    "scrolled": true,
    "tags": []
   },
   "outputs": [],
   "source": [
    "model_cls = models[model_config['model_type']]\n",
    "model = model_cls(**model_config['hyperparameters'])"
   ]
  },
  {
   "cell_type": "markdown",
   "id": "e00cff3b",
   "metadata": {
    "papermill": {
     "duration": 0.023514,
     "end_time": "2021-04-04T23:14:26.260414",
     "exception": false,
     "start_time": "2021-04-04T23:14:26.236900",
     "status": "completed"
    },
    "tags": []
   },
   "source": [
    "# Fit"
   ]
  },
  {
   "cell_type": "code",
   "execution_count": 23,
   "id": "8b2ded89",
   "metadata": {
    "execution": {
     "iopub.execute_input": "2021-04-04T23:14:26.316310Z",
     "iopub.status.busy": "2021-04-04T23:14:26.310867Z",
     "iopub.status.idle": "2021-04-04T23:14:26.334926Z",
     "shell.execute_reply": "2021-04-04T23:14:26.334016Z"
    },
    "papermill": {
     "duration": 0.052081,
     "end_time": "2021-04-04T23:14:26.335100",
     "exception": false,
     "start_time": "2021-04-04T23:14:26.283019",
     "status": "completed"
    },
    "tags": []
   },
   "outputs": [],
   "source": [
    "model.fit(X_train)"
   ]
  },
  {
   "cell_type": "markdown",
   "id": "f99999f7",
   "metadata": {
    "papermill": {
     "duration": 0.023269,
     "end_time": "2021-04-04T23:14:26.390518",
     "exception": false,
     "start_time": "2021-04-04T23:14:26.367249",
     "status": "completed"
    },
    "tags": []
   },
   "source": [
    "# Predict"
   ]
  },
  {
   "cell_type": "code",
   "execution_count": 24,
   "id": "6536fbf7",
   "metadata": {
    "execution": {
     "iopub.execute_input": "2021-04-04T23:14:26.452997Z",
     "iopub.status.busy": "2021-04-04T23:14:26.447802Z",
     "iopub.status.idle": "2021-04-04T23:14:26.786068Z",
     "shell.execute_reply": "2021-04-04T23:14:26.785198Z"
    },
    "papermill": {
     "duration": 0.371394,
     "end_time": "2021-04-04T23:14:26.786236",
     "exception": false,
     "start_time": "2021-04-04T23:14:26.414842",
     "status": "completed"
    },
    "tags": []
   },
   "outputs": [],
   "source": [
    "predictions = model.predict(X_test)"
   ]
  },
  {
   "cell_type": "markdown",
   "id": "aa1c9881",
   "metadata": {
    "papermill": {
     "duration": 0.022981,
     "end_time": "2021-04-04T23:14:26.836777",
     "exception": false,
     "start_time": "2021-04-04T23:14:26.813796",
     "status": "completed"
    },
    "tags": []
   },
   "source": [
    "# Evaluate"
   ]
  },
  {
   "cell_type": "code",
   "execution_count": 25,
   "id": "894f0f04",
   "metadata": {
    "execution": {
     "iopub.execute_input": "2021-04-04T23:14:26.887230Z",
     "iopub.status.busy": "2021-04-04T23:14:26.886288Z",
     "iopub.status.idle": "2021-04-04T23:14:26.889017Z",
     "shell.execute_reply": "2021-04-04T23:14:26.888417Z"
    },
    "papermill": {
     "duration": 0.02944,
     "end_time": "2021-04-04T23:14:26.889138",
     "exception": false,
     "start_time": "2021-04-04T23:14:26.859698",
     "status": "completed"
    },
    "tags": []
   },
   "outputs": [],
   "source": [
    "from sklearn.metrics import f1_score"
   ]
  },
  {
   "cell_type": "code",
   "execution_count": 26,
   "id": "211744d3",
   "metadata": {
    "execution": {
     "iopub.execute_input": "2021-04-04T23:14:26.941190Z",
     "iopub.status.busy": "2021-04-04T23:14:26.940293Z",
     "iopub.status.idle": "2021-04-04T23:14:26.943086Z",
     "shell.execute_reply": "2021-04-04T23:14:26.942528Z"
    },
    "papermill": {
     "duration": 0.030228,
     "end_time": "2021-04-04T23:14:26.943217",
     "exception": false,
     "start_time": "2021-04-04T23:14:26.912989",
     "status": "completed"
    },
    "tags": []
   },
   "outputs": [],
   "source": [
    "y_test = y_test.replace([0, 1], [1, -1])"
   ]
  },
  {
   "cell_type": "code",
   "execution_count": 27,
   "id": "d68a9204",
   "metadata": {
    "execution": {
     "iopub.execute_input": "2021-04-04T23:14:27.000035Z",
     "iopub.status.busy": "2021-04-04T23:14:26.999271Z",
     "iopub.status.idle": "2021-04-04T23:14:27.001393Z",
     "shell.execute_reply": "2021-04-04T23:14:27.001963Z"
    },
    "papermill": {
     "duration": 0.033429,
     "end_time": "2021-04-04T23:14:27.002129",
     "exception": false,
     "start_time": "2021-04-04T23:14:26.968700",
     "status": "completed"
    },
    "tags": []
   },
   "outputs": [],
   "source": [
    "def evaluate(truths, predictions, pos_label, neg_label):\n",
    "    TP = 0\n",
    "    FP = 0\n",
    "    TN = 0\n",
    "    FN = 0\n",
    "\n",
    "    for truth, pred in zip(truths, predictions): \n",
    "        if truth == pred == pos_label:\n",
    "           TP += 1\n",
    "        elif pred == pos_label and truth == neg_label:\n",
    "           FP += 1\n",
    "        elif truth == pred == neg_label:\n",
    "           TN += 1\n",
    "        elif pred == neg_label and truth == pos_label:\n",
    "           FN += 1\n",
    "\n",
    "    precision = TP / (TP + FP)\n",
    "    sensitivity = TP / (TP + FN)\n",
    "    \n",
    "    return {\n",
    "        'true_pos': TP,\n",
    "        'false_pos': FP,\n",
    "        'false_neg': FN,\n",
    "        'true_neg': TN,\n",
    "        'precision': precision,\n",
    "        'sensitivity': sensitivity,\n",
    "        'f1': (2 * (precision * sensitivity)) / (precision + sensitivity)\n",
    "    }\n",
    "\n",
    "score = evaluate(y_test, predictions, pos_label=-1, neg_label=1)"
   ]
  },
  {
   "cell_type": "markdown",
   "id": "93596516",
   "metadata": {
    "papermill": {
     "duration": 0.023029,
     "end_time": "2021-04-04T23:14:27.049997",
     "exception": false,
     "start_time": "2021-04-04T23:14:27.026968",
     "status": "completed"
    },
    "tags": []
   },
   "source": [
    "# Report"
   ]
  },
  {
   "cell_type": "code",
   "execution_count": 28,
   "id": "bea5fba1",
   "metadata": {
    "execution": {
     "iopub.execute_input": "2021-04-04T23:14:27.103597Z",
     "iopub.status.busy": "2021-04-04T23:14:27.102937Z",
     "iopub.status.idle": "2021-04-04T23:14:27.106308Z",
     "shell.execute_reply": "2021-04-04T23:14:27.107126Z"
    },
    "papermill": {
     "duration": 0.034029,
     "end_time": "2021-04-04T23:14:27.107374",
     "exception": false,
     "start_time": "2021-04-04T23:14:27.073345",
     "status": "completed"
    },
    "tags": []
   },
   "outputs": [],
   "source": [
    "import csv\n",
    "\n",
    "\n",
    "dataset_config_name = DATASET_CONFIG_PATH.split('/')[-1].split('.')[0]\n",
    "model_config_name = MODEL_CONFIG_PATH.split('/')[-1].split('.')[0]\n",
    "configuration = f\"dataset_{dataset_config_name}-model_{model_config_name}\"\n",
    "\n",
    "with open('results.csv', 'a') as f:\n",
    "    report = dict({'configuration': configuration}, **score)\n",
    "    writer = csv.DictWriter(f, report.keys())\n",
    "    writer.writerow(report)"
   ]
  }
 ],
 "metadata": {
  "celltoolbar": "Tags",
  "kernelspec": {
   "display_name": "Python 3",
   "language": "python",
   "name": "python3"
  },
  "language_info": {
   "codemirror_mode": {
    "name": "ipython",
    "version": 3
   },
   "file_extension": ".py",
   "mimetype": "text/x-python",
   "name": "python",
   "nbconvert_exporter": "python",
   "pygments_lexer": "ipython3",
   "version": "3.9.1"
  },
  "papermill": {
   "default_parameters": {},
   "duration": 6.036519,
   "end_time": "2021-04-04T23:14:28.637639",
   "environment_variables": {},
   "exception": null,
   "input_path": "main.ipynb",
   "output_path": "runs/dataset_000104-model_000003.ipynb",
   "parameters": {
    "DATASET_CONFIG_PATH": "config/dataset/000104.json",
    "MODEL_CONFIG_PATH": "config/model/000003.json",
    "PROFILE_REPORTING": false
   },
   "start_time": "2021-04-04T23:14:22.601120",
   "version": "2.3.3"
  }
 },
 "nbformat": 4,
 "nbformat_minor": 5
}