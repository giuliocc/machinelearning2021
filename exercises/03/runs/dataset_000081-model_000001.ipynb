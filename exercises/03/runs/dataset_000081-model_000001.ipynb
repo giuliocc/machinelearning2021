{
 "cells": [
  {
   "cell_type": "markdown",
   "id": "51c71c25",
   "metadata": {
    "papermill": {
     "duration": 0.020329,
     "end_time": "2021-04-04T23:05:20.587183",
     "exception": false,
     "start_time": "2021-04-04T23:05:20.566854",
     "status": "completed"
    },
    "tags": []
   },
   "source": [
    "# Parametrizing"
   ]
  },
  {
   "cell_type": "code",
   "execution_count": 1,
   "id": "3b136394",
   "metadata": {
    "execution": {
     "iopub.execute_input": "2021-04-04T23:05:20.643441Z",
     "iopub.status.busy": "2021-04-04T23:05:20.642851Z",
     "iopub.status.idle": "2021-04-04T23:05:20.644966Z",
     "shell.execute_reply": "2021-04-04T23:05:20.645418Z"
    },
    "papermill": {
     "duration": 0.036072,
     "end_time": "2021-04-04T23:05:20.645619",
     "exception": false,
     "start_time": "2021-04-04T23:05:20.609547",
     "status": "completed"
    },
    "tags": [
     "parameters"
    ]
   },
   "outputs": [],
   "source": [
    "DATASET_CONFIG_PATH = 'config/dataset/kc1_001.json'\n",
    "MODEL_CONFIG_PATH = 'config/model/knndd_001.json'\n",
    "PROFILE_REPORTING = False"
   ]
  },
  {
   "cell_type": "code",
   "execution_count": 2,
   "id": "e19f865a",
   "metadata": {
    "execution": {
     "iopub.execute_input": "2021-04-04T23:05:20.693065Z",
     "iopub.status.busy": "2021-04-04T23:05:20.692358Z",
     "iopub.status.idle": "2021-04-04T23:05:20.694110Z",
     "shell.execute_reply": "2021-04-04T23:05:20.694574Z"
    },
    "papermill": {
     "duration": 0.025387,
     "end_time": "2021-04-04T23:05:20.694715",
     "exception": false,
     "start_time": "2021-04-04T23:05:20.669328",
     "status": "completed"
    },
    "tags": [
     "injected-parameters"
    ]
   },
   "outputs": [],
   "source": [
    "# Parameters\n",
    "DATASET_CONFIG_PATH = \"config/dataset/000081.json\"\n",
    "MODEL_CONFIG_PATH = \"config/model/000001.json\"\n",
    "PROFILE_REPORTING = False\n"
   ]
  },
  {
   "cell_type": "code",
   "execution_count": 3,
   "id": "b80f2a10",
   "metadata": {
    "execution": {
     "iopub.execute_input": "2021-04-04T23:05:20.751468Z",
     "iopub.status.busy": "2021-04-04T23:05:20.750096Z",
     "iopub.status.idle": "2021-04-04T23:05:20.753676Z",
     "shell.execute_reply": "2021-04-04T23:05:20.754175Z"
    },
    "papermill": {
     "duration": 0.036316,
     "end_time": "2021-04-04T23:05:20.754354",
     "exception": false,
     "start_time": "2021-04-04T23:05:20.718038",
     "status": "completed"
    },
    "tags": []
   },
   "outputs": [],
   "source": [
    "import json\n",
    "\n",
    "\n",
    "with open(DATASET_CONFIG_PATH) as f:\n",
    "    dataset_config = json.load(f)\n",
    "\n",
    "with open(MODEL_CONFIG_PATH) as f:\n",
    "    model_config = json.load(f)"
   ]
  },
  {
   "cell_type": "markdown",
   "id": "9a4b0e2d",
   "metadata": {
    "papermill": {
     "duration": 0.020993,
     "end_time": "2021-04-04T23:05:20.796705",
     "exception": false,
     "start_time": "2021-04-04T23:05:20.775712",
     "status": "completed"
    },
    "tags": []
   },
   "source": [
    "# Profiling"
   ]
  },
  {
   "cell_type": "code",
   "execution_count": 4,
   "id": "a3e0289b",
   "metadata": {
    "execution": {
     "iopub.execute_input": "2021-04-04T23:05:20.870798Z",
     "iopub.status.busy": "2021-04-04T23:05:20.869253Z",
     "iopub.status.idle": "2021-04-04T23:05:22.233445Z",
     "shell.execute_reply": "2021-04-04T23:05:22.232669Z"
    },
    "papermill": {
     "duration": 1.411743,
     "end_time": "2021-04-04T23:05:22.233635",
     "exception": false,
     "start_time": "2021-04-04T23:05:20.821892",
     "status": "completed"
    },
    "tags": []
   },
   "outputs": [],
   "source": [
    "import pandas as pd\n",
    "from pandas_profiling import ProfileReport"
   ]
  },
  {
   "cell_type": "code",
   "execution_count": 5,
   "id": "ee6c0666",
   "metadata": {
    "execution": {
     "iopub.execute_input": "2021-04-04T23:05:22.288615Z",
     "iopub.status.busy": "2021-04-04T23:05:22.286316Z",
     "iopub.status.idle": "2021-04-04T23:05:22.300468Z",
     "shell.execute_reply": "2021-04-04T23:05:22.301467Z"
    },
    "papermill": {
     "duration": 0.038471,
     "end_time": "2021-04-04T23:05:22.301851",
     "exception": false,
     "start_time": "2021-04-04T23:05:22.263380",
     "status": "completed"
    },
    "tags": []
   },
   "outputs": [],
   "source": [
    "df = pd.read_csv(dataset_config['dataset_path'])"
   ]
  },
  {
   "cell_type": "code",
   "execution_count": 6,
   "id": "7eca6c4a",
   "metadata": {
    "execution": {
     "iopub.execute_input": "2021-04-04T23:05:22.378423Z",
     "iopub.status.busy": "2021-04-04T23:05:22.359212Z",
     "iopub.status.idle": "2021-04-04T23:05:22.383543Z",
     "shell.execute_reply": "2021-04-04T23:05:22.384206Z"
    },
    "papermill": {
     "duration": 0.05854,
     "end_time": "2021-04-04T23:05:22.384594",
     "exception": false,
     "start_time": "2021-04-04T23:05:22.326054",
     "status": "completed"
    },
    "tags": []
   },
   "outputs": [
    {
     "name": "stdout",
     "output_type": "stream",
     "text": [
      "<class 'pandas.core.frame.DataFrame'>\n",
      "RangeIndex: 498 entries, 0 to 497\n",
      "Data columns (total 23 columns):\n",
      " #   Column             Non-Null Count  Dtype  \n",
      "---  ------             --------------  -----  \n",
      " 0   id                 498 non-null    int64  \n",
      " 1   loc                498 non-null    float64\n",
      " 2   v(g)               498 non-null    float64\n",
      " 3   ev(g)              498 non-null    float64\n",
      " 4   iv(g)              498 non-null    float64\n",
      " 5   n                  498 non-null    float64\n",
      " 6   v                  498 non-null    float64\n",
      " 7   l                  498 non-null    float64\n",
      " 8   d                  498 non-null    float64\n",
      " 9   i                  498 non-null    float64\n",
      " 10  e                  498 non-null    float64\n",
      " 11  b                  498 non-null    float64\n",
      " 12  t                  498 non-null    float64\n",
      " 13  lOCode             498 non-null    int64  \n",
      " 14  lOComment          498 non-null    int64  \n",
      " 15  lOBlank            498 non-null    int64  \n",
      " 16  locCodeAndComment  498 non-null    int64  \n",
      " 17  uniq_Op            498 non-null    float64\n",
      " 18  uniq_Opnd          498 non-null    float64\n",
      " 19  total_Op           498 non-null    float64\n",
      " 20  total_Opnd         498 non-null    float64\n",
      " 21  branchCount        498 non-null    float64\n",
      " 22  defects            498 non-null    bool   \n",
      "dtypes: bool(1), float64(17), int64(5)\n",
      "memory usage: 86.2 KB\n"
     ]
    }
   ],
   "source": [
    "df.info()"
   ]
  },
  {
   "cell_type": "code",
   "execution_count": 7,
   "id": "3638e5e8",
   "metadata": {
    "execution": {
     "iopub.execute_input": "2021-04-04T23:05:22.453599Z",
     "iopub.status.busy": "2021-04-04T23:05:22.452424Z",
     "iopub.status.idle": "2021-04-04T23:05:22.482856Z",
     "shell.execute_reply": "2021-04-04T23:05:22.482216Z"
    },
    "papermill": {
     "duration": 0.070508,
     "end_time": "2021-04-04T23:05:22.482982",
     "exception": false,
     "start_time": "2021-04-04T23:05:22.412474",
     "status": "completed"
    },
    "tags": []
   },
   "outputs": [
    {
     "data": {
      "text/html": [
       "<div>\n",
       "<style scoped>\n",
       "    .dataframe tbody tr th:only-of-type {\n",
       "        vertical-align: middle;\n",
       "    }\n",
       "\n",
       "    .dataframe tbody tr th {\n",
       "        vertical-align: top;\n",
       "    }\n",
       "\n",
       "    .dataframe thead th {\n",
       "        text-align: right;\n",
       "    }\n",
       "</style>\n",
       "<table border=\"1\" class=\"dataframe\">\n",
       "  <thead>\n",
       "    <tr style=\"text-align: right;\">\n",
       "      <th></th>\n",
       "      <th>id</th>\n",
       "      <th>loc</th>\n",
       "      <th>v(g)</th>\n",
       "      <th>ev(g)</th>\n",
       "      <th>iv(g)</th>\n",
       "      <th>n</th>\n",
       "      <th>v</th>\n",
       "      <th>l</th>\n",
       "      <th>d</th>\n",
       "      <th>i</th>\n",
       "      <th>...</th>\n",
       "      <th>lOCode</th>\n",
       "      <th>lOComment</th>\n",
       "      <th>lOBlank</th>\n",
       "      <th>locCodeAndComment</th>\n",
       "      <th>uniq_Op</th>\n",
       "      <th>uniq_Opnd</th>\n",
       "      <th>total_Op</th>\n",
       "      <th>total_Opnd</th>\n",
       "      <th>branchCount</th>\n",
       "      <th>defects</th>\n",
       "    </tr>\n",
       "  </thead>\n",
       "  <tbody>\n",
       "    <tr>\n",
       "      <th>0</th>\n",
       "      <td>1</td>\n",
       "      <td>1.1</td>\n",
       "      <td>1.4</td>\n",
       "      <td>1.4</td>\n",
       "      <td>1.4</td>\n",
       "      <td>1.3</td>\n",
       "      <td>1.30</td>\n",
       "      <td>1.30</td>\n",
       "      <td>1.30</td>\n",
       "      <td>1.30</td>\n",
       "      <td>...</td>\n",
       "      <td>2</td>\n",
       "      <td>2</td>\n",
       "      <td>2</td>\n",
       "      <td>2</td>\n",
       "      <td>1.2</td>\n",
       "      <td>1.2</td>\n",
       "      <td>1.2</td>\n",
       "      <td>1.2</td>\n",
       "      <td>1.4</td>\n",
       "      <td>False</td>\n",
       "    </tr>\n",
       "    <tr>\n",
       "      <th>1</th>\n",
       "      <td>2</td>\n",
       "      <td>1.0</td>\n",
       "      <td>1.0</td>\n",
       "      <td>1.0</td>\n",
       "      <td>1.0</td>\n",
       "      <td>1.0</td>\n",
       "      <td>1.00</td>\n",
       "      <td>1.00</td>\n",
       "      <td>1.00</td>\n",
       "      <td>1.00</td>\n",
       "      <td>...</td>\n",
       "      <td>1</td>\n",
       "      <td>1</td>\n",
       "      <td>1</td>\n",
       "      <td>1</td>\n",
       "      <td>1.0</td>\n",
       "      <td>1.0</td>\n",
       "      <td>1.0</td>\n",
       "      <td>1.0</td>\n",
       "      <td>1.0</td>\n",
       "      <td>True</td>\n",
       "    </tr>\n",
       "    <tr>\n",
       "      <th>2</th>\n",
       "      <td>3</td>\n",
       "      <td>24.0</td>\n",
       "      <td>5.0</td>\n",
       "      <td>1.0</td>\n",
       "      <td>3.0</td>\n",
       "      <td>63.0</td>\n",
       "      <td>309.13</td>\n",
       "      <td>0.11</td>\n",
       "      <td>9.50</td>\n",
       "      <td>32.54</td>\n",
       "      <td>...</td>\n",
       "      <td>1</td>\n",
       "      <td>0</td>\n",
       "      <td>6</td>\n",
       "      <td>0</td>\n",
       "      <td>15.0</td>\n",
       "      <td>15.0</td>\n",
       "      <td>44.0</td>\n",
       "      <td>19.0</td>\n",
       "      <td>9.0</td>\n",
       "      <td>False</td>\n",
       "    </tr>\n",
       "    <tr>\n",
       "      <th>3</th>\n",
       "      <td>4</td>\n",
       "      <td>20.0</td>\n",
       "      <td>4.0</td>\n",
       "      <td>4.0</td>\n",
       "      <td>2.0</td>\n",
       "      <td>47.0</td>\n",
       "      <td>215.49</td>\n",
       "      <td>0.06</td>\n",
       "      <td>16.00</td>\n",
       "      <td>13.47</td>\n",
       "      <td>...</td>\n",
       "      <td>0</td>\n",
       "      <td>0</td>\n",
       "      <td>3</td>\n",
       "      <td>0</td>\n",
       "      <td>16.0</td>\n",
       "      <td>8.0</td>\n",
       "      <td>31.0</td>\n",
       "      <td>16.0</td>\n",
       "      <td>7.0</td>\n",
       "      <td>False</td>\n",
       "    </tr>\n",
       "    <tr>\n",
       "      <th>4</th>\n",
       "      <td>5</td>\n",
       "      <td>24.0</td>\n",
       "      <td>6.0</td>\n",
       "      <td>6.0</td>\n",
       "      <td>2.0</td>\n",
       "      <td>72.0</td>\n",
       "      <td>346.13</td>\n",
       "      <td>0.06</td>\n",
       "      <td>17.33</td>\n",
       "      <td>19.97</td>\n",
       "      <td>...</td>\n",
       "      <td>0</td>\n",
       "      <td>0</td>\n",
       "      <td>3</td>\n",
       "      <td>0</td>\n",
       "      <td>16.0</td>\n",
       "      <td>12.0</td>\n",
       "      <td>46.0</td>\n",
       "      <td>26.0</td>\n",
       "      <td>11.0</td>\n",
       "      <td>False</td>\n",
       "    </tr>\n",
       "  </tbody>\n",
       "</table>\n",
       "<p>5 rows × 23 columns</p>\n",
       "</div>"
      ],
      "text/plain": [
       "   id   loc  v(g)  ev(g)  iv(g)     n       v     l      d      i  ...  \\\n",
       "0   1   1.1   1.4    1.4    1.4   1.3    1.30  1.30   1.30   1.30  ...   \n",
       "1   2   1.0   1.0    1.0    1.0   1.0    1.00  1.00   1.00   1.00  ...   \n",
       "2   3  24.0   5.0    1.0    3.0  63.0  309.13  0.11   9.50  32.54  ...   \n",
       "3   4  20.0   4.0    4.0    2.0  47.0  215.49  0.06  16.00  13.47  ...   \n",
       "4   5  24.0   6.0    6.0    2.0  72.0  346.13  0.06  17.33  19.97  ...   \n",
       "\n",
       "   lOCode  lOComment  lOBlank  locCodeAndComment  uniq_Op  uniq_Opnd  \\\n",
       "0       2          2        2                  2      1.2        1.2   \n",
       "1       1          1        1                  1      1.0        1.0   \n",
       "2       1          0        6                  0     15.0       15.0   \n",
       "3       0          0        3                  0     16.0        8.0   \n",
       "4       0          0        3                  0     16.0       12.0   \n",
       "\n",
       "   total_Op  total_Opnd  branchCount  defects  \n",
       "0       1.2         1.2          1.4    False  \n",
       "1       1.0         1.0          1.0     True  \n",
       "2      44.0        19.0          9.0    False  \n",
       "3      31.0        16.0          7.0    False  \n",
       "4      46.0        26.0         11.0    False  \n",
       "\n",
       "[5 rows x 23 columns]"
      ]
     },
     "execution_count": 7,
     "metadata": {},
     "output_type": "execute_result"
    }
   ],
   "source": [
    "df.head()"
   ]
  },
  {
   "cell_type": "code",
   "execution_count": 8,
   "id": "733e95eb",
   "metadata": {
    "execution": {
     "iopub.execute_input": "2021-04-04T23:05:22.542758Z",
     "iopub.status.busy": "2021-04-04T23:05:22.541775Z",
     "iopub.status.idle": "2021-04-04T23:05:22.545138Z",
     "shell.execute_reply": "2021-04-04T23:05:22.544337Z"
    },
    "papermill": {
     "duration": 0.038781,
     "end_time": "2021-04-04T23:05:22.545327",
     "exception": false,
     "start_time": "2021-04-04T23:05:22.506546",
     "status": "completed"
    },
    "tags": []
   },
   "outputs": [],
   "source": [
    "del df['id']"
   ]
  },
  {
   "cell_type": "code",
   "execution_count": 9,
   "id": "6ff6f5b0",
   "metadata": {
    "execution": {
     "iopub.execute_input": "2021-04-04T23:05:22.596469Z",
     "iopub.status.busy": "2021-04-04T23:05:22.595377Z",
     "iopub.status.idle": "2021-04-04T23:05:22.598126Z",
     "shell.execute_reply": "2021-04-04T23:05:22.597616Z"
    },
    "papermill": {
     "duration": 0.028512,
     "end_time": "2021-04-04T23:05:22.598243",
     "exception": false,
     "start_time": "2021-04-04T23:05:22.569731",
     "status": "completed"
    },
    "tags": []
   },
   "outputs": [],
   "source": [
    "if PROFILE_REPORTING:\n",
    "    ProfileReport(df).to_widgets()"
   ]
  },
  {
   "cell_type": "markdown",
   "id": "1deaf3f0",
   "metadata": {
    "papermill": {
     "duration": 0.024856,
     "end_time": "2021-04-04T23:05:22.647243",
     "exception": false,
     "start_time": "2021-04-04T23:05:22.622387",
     "status": "completed"
    },
    "tags": []
   },
   "source": [
    "# Preprocess"
   ]
  },
  {
   "cell_type": "code",
   "execution_count": 10,
   "id": "1513e563",
   "metadata": {
    "execution": {
     "iopub.execute_input": "2021-04-04T23:05:22.698330Z",
     "iopub.status.busy": "2021-04-04T23:05:22.697424Z",
     "iopub.status.idle": "2021-04-04T23:05:22.700902Z",
     "shell.execute_reply": "2021-04-04T23:05:22.700219Z"
    },
    "papermill": {
     "duration": 0.029034,
     "end_time": "2021-04-04T23:05:22.701033",
     "exception": false,
     "start_time": "2021-04-04T23:05:22.671999",
     "status": "completed"
    },
    "tags": []
   },
   "outputs": [],
   "source": [
    "working_df = df.copy()"
   ]
  },
  {
   "cell_type": "code",
   "execution_count": 11,
   "id": "3b26d675",
   "metadata": {
    "execution": {
     "iopub.execute_input": "2021-04-04T23:05:22.765317Z",
     "iopub.status.busy": "2021-04-04T23:05:22.764548Z",
     "iopub.status.idle": "2021-04-04T23:05:22.767410Z",
     "shell.execute_reply": "2021-04-04T23:05:22.766808Z"
    },
    "papermill": {
     "duration": 0.042321,
     "end_time": "2021-04-04T23:05:22.767571",
     "exception": false,
     "start_time": "2021-04-04T23:05:22.725250",
     "status": "completed"
    },
    "tags": []
   },
   "outputs": [],
   "source": [
    "working_df['defects'] = working_df['defects'].replace([False, True], [0, 1])"
   ]
  },
  {
   "cell_type": "code",
   "execution_count": 12,
   "id": "eb48604f",
   "metadata": {
    "execution": {
     "iopub.execute_input": "2021-04-04T23:05:22.828297Z",
     "iopub.status.busy": "2021-04-04T23:05:22.826471Z",
     "iopub.status.idle": "2021-04-04T23:05:22.832485Z",
     "shell.execute_reply": "2021-04-04T23:05:22.831878Z"
    },
    "papermill": {
     "duration": 0.042647,
     "end_time": "2021-04-04T23:05:22.832619",
     "exception": false,
     "start_time": "2021-04-04T23:05:22.789972",
     "status": "completed"
    },
    "tags": []
   },
   "outputs": [],
   "source": [
    "for col in dataset_config['delete_columns']:\n",
    "    del working_df[col]"
   ]
  },
  {
   "cell_type": "code",
   "execution_count": 13,
   "id": "9a17bc29",
   "metadata": {
    "execution": {
     "iopub.execute_input": "2021-04-04T23:05:22.892047Z",
     "iopub.status.busy": "2021-04-04T23:05:22.891314Z",
     "iopub.status.idle": "2021-04-04T23:05:22.899728Z",
     "shell.execute_reply": "2021-04-04T23:05:22.900527Z"
    },
    "papermill": {
     "duration": 0.04113,
     "end_time": "2021-04-04T23:05:22.900758",
     "exception": false,
     "start_time": "2021-04-04T23:05:22.859628",
     "status": "completed"
    },
    "tags": []
   },
   "outputs": [],
   "source": [
    "working_df = working_df.drop_duplicates()"
   ]
  },
  {
   "cell_type": "markdown",
   "id": "a4d52ca6",
   "metadata": {
    "papermill": {
     "duration": 0.021365,
     "end_time": "2021-04-04T23:05:22.946114",
     "exception": false,
     "start_time": "2021-04-04T23:05:22.924749",
     "status": "completed"
    },
    "tags": []
   },
   "source": [
    "# Split"
   ]
  },
  {
   "cell_type": "code",
   "execution_count": 14,
   "id": "3e9ee4b5",
   "metadata": {
    "execution": {
     "iopub.execute_input": "2021-04-04T23:05:23.004822Z",
     "iopub.status.busy": "2021-04-04T23:05:23.003468Z",
     "iopub.status.idle": "2021-04-04T23:05:23.037936Z",
     "shell.execute_reply": "2021-04-04T23:05:23.038415Z"
    },
    "papermill": {
     "duration": 0.066489,
     "end_time": "2021-04-04T23:05:23.038562",
     "exception": false,
     "start_time": "2021-04-04T23:05:22.972073",
     "status": "completed"
    },
    "tags": []
   },
   "outputs": [],
   "source": [
    "from sklearn.model_selection import train_test_split"
   ]
  },
  {
   "cell_type": "code",
   "execution_count": 15,
   "id": "274004ce",
   "metadata": {
    "execution": {
     "iopub.execute_input": "2021-04-04T23:05:23.090473Z",
     "iopub.status.busy": "2021-04-04T23:05:23.089855Z",
     "iopub.status.idle": "2021-04-04T23:05:23.094090Z",
     "shell.execute_reply": "2021-04-04T23:05:23.094575Z"
    },
    "papermill": {
     "duration": 0.032638,
     "end_time": "2021-04-04T23:05:23.094720",
     "exception": false,
     "start_time": "2021-04-04T23:05:23.062082",
     "status": "completed"
    },
    "scrolled": true,
    "tags": []
   },
   "outputs": [],
   "source": [
    "inlier, outlier = working_df[working_df['defects'] == 0], working_df[working_df['defects'] == 1]"
   ]
  },
  {
   "cell_type": "code",
   "execution_count": 16,
   "id": "753c7b03",
   "metadata": {
    "execution": {
     "iopub.execute_input": "2021-04-04T23:05:23.154558Z",
     "iopub.status.busy": "2021-04-04T23:05:23.152873Z",
     "iopub.status.idle": "2021-04-04T23:05:23.157413Z",
     "shell.execute_reply": "2021-04-04T23:05:23.156763Z"
    },
    "papermill": {
     "duration": 0.038032,
     "end_time": "2021-04-04T23:05:23.157567",
     "exception": false,
     "start_time": "2021-04-04T23:05:23.119535",
     "status": "completed"
    },
    "tags": []
   },
   "outputs": [],
   "source": [
    "X_inlier = inlier.copy()\n",
    "y_inlier = X_inlier.pop('defects')\n",
    "X_outlier = outlier.copy()\n",
    "y_outlier = X_outlier.pop('defects')"
   ]
  },
  {
   "cell_type": "code",
   "execution_count": 17,
   "id": "2ba43193",
   "metadata": {
    "execution": {
     "iopub.execute_input": "2021-04-04T23:05:23.213093Z",
     "iopub.status.busy": "2021-04-04T23:05:23.212505Z",
     "iopub.status.idle": "2021-04-04T23:05:23.215976Z",
     "shell.execute_reply": "2021-04-04T23:05:23.216462Z"
    },
    "papermill": {
     "duration": 0.034142,
     "end_time": "2021-04-04T23:05:23.216612",
     "exception": false,
     "start_time": "2021-04-04T23:05:23.182470",
     "status": "completed"
    },
    "tags": []
   },
   "outputs": [],
   "source": [
    "test_size = dataset_config['test_size']\n",
    "random_state = dataset_config['random_state']\n",
    "\n",
    "X_inlier_train, X_inlier_test, y_inlier_train, y_inlier_test = train_test_split(\n",
    "    X_inlier,\n",
    "    y_inlier,\n",
    "    test_size=test_size,\n",
    "    random_state=random_state\n",
    ")"
   ]
  },
  {
   "cell_type": "code",
   "execution_count": 18,
   "id": "0b7582ca",
   "metadata": {
    "execution": {
     "iopub.execute_input": "2021-04-04T23:05:23.281811Z",
     "iopub.status.busy": "2021-04-04T23:05:23.280873Z",
     "iopub.status.idle": "2021-04-04T23:05:23.283412Z",
     "shell.execute_reply": "2021-04-04T23:05:23.284977Z"
    },
    "papermill": {
     "duration": 0.04324,
     "end_time": "2021-04-04T23:05:23.285333",
     "exception": false,
     "start_time": "2021-04-04T23:05:23.242093",
     "status": "completed"
    },
    "tags": []
   },
   "outputs": [],
   "source": [
    "test_outlier_size = dataset_config['test_outlier_size']\n",
    "if test_outlier_size > 0.0:\n",
    "    X_outlier_train, X_outlier_test, y_outlier_train, y_outlier_test = train_test_split(\n",
    "        X_outlier,\n",
    "        y_outlier,\n",
    "        test_size=test_outlier_size,\n",
    "        random_state=random_state\n",
    "    )\n",
    "else:\n",
    "    X_outlier_train, y_outlier_train = pd.DataFrame(columns=X_outlier.columns), pd.Series(dtype='int64')\n",
    "    X_outlier_test, y_outlier_test = X_outlier.copy(), y_outlier.copy()"
   ]
  },
  {
   "cell_type": "code",
   "execution_count": 19,
   "id": "c34363db",
   "metadata": {
    "execution": {
     "iopub.execute_input": "2021-04-04T23:05:23.341138Z",
     "iopub.status.busy": "2021-04-04T23:05:23.340506Z",
     "iopub.status.idle": "2021-04-04T23:05:23.344745Z",
     "shell.execute_reply": "2021-04-04T23:05:23.345513Z"
    },
    "papermill": {
     "duration": 0.037219,
     "end_time": "2021-04-04T23:05:23.345695",
     "exception": false,
     "start_time": "2021-04-04T23:05:23.308476",
     "status": "completed"
    },
    "tags": []
   },
   "outputs": [],
   "source": [
    "X_train, y_train = pd.concat([X_inlier_train, X_outlier_train], ignore_index=True), pd.concat([y_inlier_train, y_outlier_train], ignore_index=True)\n",
    "X_test, y_test = pd.concat([X_inlier_test, X_outlier_test], ignore_index=True), pd.concat([y_inlier_test, y_outlier_test], ignore_index=True)"
   ]
  },
  {
   "cell_type": "markdown",
   "id": "7cde7309",
   "metadata": {
    "papermill": {
     "duration": 0.033274,
     "end_time": "2021-04-04T23:05:23.411821",
     "exception": false,
     "start_time": "2021-04-04T23:05:23.378547",
     "status": "completed"
    },
    "tags": []
   },
   "source": [
    "# Model"
   ]
  },
  {
   "cell_type": "code",
   "execution_count": 20,
   "id": "2b12a415",
   "metadata": {
    "execution": {
     "iopub.execute_input": "2021-04-04T23:05:23.487429Z",
     "iopub.status.busy": "2021-04-04T23:05:23.485412Z",
     "iopub.status.idle": "2021-04-04T23:05:23.489052Z",
     "shell.execute_reply": "2021-04-04T23:05:23.489536Z"
    },
    "papermill": {
     "duration": 0.044764,
     "end_time": "2021-04-04T23:05:23.489683",
     "exception": false,
     "start_time": "2021-04-04T23:05:23.444919",
     "status": "completed"
    },
    "tags": []
   },
   "outputs": [],
   "source": [
    "from math import sqrt\n",
    "\n",
    "\n",
    "class KNNDataDescription:\n",
    "    def __init__(self, k=5, outlier_threshold=1.0):\n",
    "        self.k = k\n",
    "        self.outlier_threshold = outlier_threshold\n",
    "        self.X = []\n",
    "    \n",
    "    def fit(self, X):\n",
    "        self.X = [features.to_list() for index, features in X.iterrows()]\n",
    "\n",
    "    def predict(self, entries):\n",
    "        return [self.predict_entry(features.to_list()) for index, features in entries.iterrows()]\n",
    "    \n",
    "    def predict_entry(self, entry):\n",
    "        kth_neighbor, kth_distance = self.get_kth_neighbor(entry, self.k)\n",
    "        kth_kth_neighbor, kth_kth_distance = self.get_kth_neighbor(kth_neighbor, self.k + 1)\n",
    "\n",
    "        outlier_score = kth_distance / (kth_kth_distance + 0.000001)\n",
    "\n",
    "        return 1 if outlier_score < self.outlier_threshold else -1\n",
    "        \n",
    "    def euclidean_distance(self, features1, features2):\n",
    "        distance = 0.0\n",
    "        for feat1, feat2 in zip(features1, features2):\n",
    "            distance += (feat1 - feat2)**2\n",
    "                \n",
    "        return sqrt(distance)\n",
    "\n",
    "    def get_neighbors(self, entry, k):\n",
    "        distance_to_data_points = [\n",
    "            (data_point, self.euclidean_distance(entry, data_point))\n",
    "            for data_point in self.X\n",
    "        ]\n",
    "        sorted_by_distance = sorted(distance_to_data_points, key=lambda tup: tup[1])\n",
    "        neighbors = sorted_by_distance[:k]\n",
    "        return neighbors\n",
    "\n",
    "    def get_kth_neighbor(self, entry, k):\n",
    "        neighbors = self.get_neighbors(entry, k)\n",
    "        return neighbors[-1]\n"
   ]
  },
  {
   "cell_type": "code",
   "execution_count": 21,
   "id": "1fa9ec1c",
   "metadata": {
    "execution": {
     "iopub.execute_input": "2021-04-04T23:05:23.555613Z",
     "iopub.status.busy": "2021-04-04T23:05:23.553650Z",
     "iopub.status.idle": "2021-04-04T23:05:23.578102Z",
     "shell.execute_reply": "2021-04-04T23:05:23.578620Z"
    },
    "papermill": {
     "duration": 0.06461,
     "end_time": "2021-04-04T23:05:23.578776",
     "exception": false,
     "start_time": "2021-04-04T23:05:23.514166",
     "status": "completed"
    },
    "tags": []
   },
   "outputs": [],
   "source": [
    "from sklearn.svm import OneClassSVM\n",
    "\n",
    "\n",
    "models = {\n",
    "    'oneclasssvm': OneClassSVM,\n",
    "    'knndatadescription': KNNDataDescription,\n",
    "}"
   ]
  },
  {
   "cell_type": "code",
   "execution_count": 22,
   "id": "4d72a0b1",
   "metadata": {
    "execution": {
     "iopub.execute_input": "2021-04-04T23:05:23.633666Z",
     "iopub.status.busy": "2021-04-04T23:05:23.631590Z",
     "iopub.status.idle": "2021-04-04T23:05:23.635516Z",
     "shell.execute_reply": "2021-04-04T23:05:23.635986Z"
    },
    "papermill": {
     "duration": 0.033775,
     "end_time": "2021-04-04T23:05:23.636132",
     "exception": false,
     "start_time": "2021-04-04T23:05:23.602357",
     "status": "completed"
    },
    "scrolled": true,
    "tags": []
   },
   "outputs": [],
   "source": [
    "model_cls = models[model_config['model_type']]\n",
    "model = model_cls(**model_config['hyperparameters'])"
   ]
  },
  {
   "cell_type": "markdown",
   "id": "e00cff3b",
   "metadata": {
    "papermill": {
     "duration": 0.027048,
     "end_time": "2021-04-04T23:05:23.686265",
     "exception": false,
     "start_time": "2021-04-04T23:05:23.659217",
     "status": "completed"
    },
    "tags": []
   },
   "source": [
    "# Fit"
   ]
  },
  {
   "cell_type": "code",
   "execution_count": 23,
   "id": "8b2ded89",
   "metadata": {
    "execution": {
     "iopub.execute_input": "2021-04-04T23:05:23.755049Z",
     "iopub.status.busy": "2021-04-04T23:05:23.749778Z",
     "iopub.status.idle": "2021-04-04T23:05:23.766129Z",
     "shell.execute_reply": "2021-04-04T23:05:23.765202Z"
    },
    "papermill": {
     "duration": 0.056714,
     "end_time": "2021-04-04T23:05:23.766304",
     "exception": false,
     "start_time": "2021-04-04T23:05:23.709590",
     "status": "completed"
    },
    "tags": []
   },
   "outputs": [],
   "source": [
    "model.fit(X_train)"
   ]
  },
  {
   "cell_type": "markdown",
   "id": "f99999f7",
   "metadata": {
    "papermill": {
     "duration": 0.0313,
     "end_time": "2021-04-04T23:05:23.823970",
     "exception": false,
     "start_time": "2021-04-04T23:05:23.792670",
     "status": "completed"
    },
    "tags": []
   },
   "source": [
    "# Predict"
   ]
  },
  {
   "cell_type": "code",
   "execution_count": 24,
   "id": "6536fbf7",
   "metadata": {
    "execution": {
     "iopub.execute_input": "2021-04-04T23:05:23.925207Z",
     "iopub.status.busy": "2021-04-04T23:05:23.899538Z",
     "iopub.status.idle": "2021-04-04T23:05:24.295175Z",
     "shell.execute_reply": "2021-04-04T23:05:24.295881Z"
    },
    "papermill": {
     "duration": 0.440242,
     "end_time": "2021-04-04T23:05:24.296084",
     "exception": false,
     "start_time": "2021-04-04T23:05:23.855842",
     "status": "completed"
    },
    "tags": []
   },
   "outputs": [],
   "source": [
    "predictions = model.predict(X_test)"
   ]
  },
  {
   "cell_type": "markdown",
   "id": "aa1c9881",
   "metadata": {
    "papermill": {
     "duration": 0.029476,
     "end_time": "2021-04-04T23:05:24.354871",
     "exception": false,
     "start_time": "2021-04-04T23:05:24.325395",
     "status": "completed"
    },
    "tags": []
   },
   "source": [
    "# Evaluate"
   ]
  },
  {
   "cell_type": "code",
   "execution_count": 25,
   "id": "894f0f04",
   "metadata": {
    "execution": {
     "iopub.execute_input": "2021-04-04T23:05:24.423224Z",
     "iopub.status.busy": "2021-04-04T23:05:24.422377Z",
     "iopub.status.idle": "2021-04-04T23:05:24.424475Z",
     "shell.execute_reply": "2021-04-04T23:05:24.425017Z"
    },
    "papermill": {
     "duration": 0.038957,
     "end_time": "2021-04-04T23:05:24.425197",
     "exception": false,
     "start_time": "2021-04-04T23:05:24.386240",
     "status": "completed"
    },
    "tags": []
   },
   "outputs": [],
   "source": [
    "from sklearn.metrics import f1_score"
   ]
  },
  {
   "cell_type": "code",
   "execution_count": 26,
   "id": "211744d3",
   "metadata": {
    "execution": {
     "iopub.execute_input": "2021-04-04T23:05:24.494168Z",
     "iopub.status.busy": "2021-04-04T23:05:24.491818Z",
     "iopub.status.idle": "2021-04-04T23:05:24.497019Z",
     "shell.execute_reply": "2021-04-04T23:05:24.497812Z"
    },
    "papermill": {
     "duration": 0.046497,
     "end_time": "2021-04-04T23:05:24.498122",
     "exception": false,
     "start_time": "2021-04-04T23:05:24.451625",
     "status": "completed"
    },
    "tags": []
   },
   "outputs": [],
   "source": [
    "y_test = y_test.replace([0, 1], [1, -1])"
   ]
  },
  {
   "cell_type": "code",
   "execution_count": 27,
   "id": "d68a9204",
   "metadata": {
    "execution": {
     "iopub.execute_input": "2021-04-04T23:05:24.559901Z",
     "iopub.status.busy": "2021-04-04T23:05:24.558956Z",
     "iopub.status.idle": "2021-04-04T23:05:24.561641Z",
     "shell.execute_reply": "2021-04-04T23:05:24.561108Z"
    },
    "papermill": {
     "duration": 0.038147,
     "end_time": "2021-04-04T23:05:24.561766",
     "exception": false,
     "start_time": "2021-04-04T23:05:24.523619",
     "status": "completed"
    },
    "tags": []
   },
   "outputs": [],
   "source": [
    "def evaluate(truths, predictions, pos_label, neg_label):\n",
    "    TP = 0\n",
    "    FP = 0\n",
    "    TN = 0\n",
    "    FN = 0\n",
    "\n",
    "    for truth, pred in zip(truths, predictions): \n",
    "        if truth == pred == pos_label:\n",
    "           TP += 1\n",
    "        elif pred == pos_label and truth == neg_label:\n",
    "           FP += 1\n",
    "        elif truth == pred == neg_label:\n",
    "           TN += 1\n",
    "        elif pred == neg_label and truth == pos_label:\n",
    "           FN += 1\n",
    "\n",
    "    precision = TP / (TP + FP)\n",
    "    sensitivity = TP / (TP + FN)\n",
    "    \n",
    "    return {\n",
    "        'true_pos': TP,\n",
    "        'false_pos': FP,\n",
    "        'false_neg': FN,\n",
    "        'true_neg': TN,\n",
    "        'precision': precision,\n",
    "        'sensitivity': sensitivity,\n",
    "        'f1': (2 * (precision * sensitivity)) / (precision + sensitivity)\n",
    "    }\n",
    "\n",
    "score = evaluate(y_test, predictions, pos_label=-1, neg_label=1)"
   ]
  },
  {
   "cell_type": "markdown",
   "id": "93596516",
   "metadata": {
    "papermill": {
     "duration": 0.027284,
     "end_time": "2021-04-04T23:05:24.614439",
     "exception": false,
     "start_time": "2021-04-04T23:05:24.587155",
     "status": "completed"
    },
    "tags": []
   },
   "source": [
    "# Report"
   ]
  },
  {
   "cell_type": "code",
   "execution_count": 28,
   "id": "bea5fba1",
   "metadata": {
    "execution": {
     "iopub.execute_input": "2021-04-04T23:05:24.673825Z",
     "iopub.status.busy": "2021-04-04T23:05:24.673165Z",
     "iopub.status.idle": "2021-04-04T23:05:24.675450Z",
     "shell.execute_reply": "2021-04-04T23:05:24.675915Z"
    },
    "papermill": {
     "duration": 0.033224,
     "end_time": "2021-04-04T23:05:24.676061",
     "exception": false,
     "start_time": "2021-04-04T23:05:24.642837",
     "status": "completed"
    },
    "tags": []
   },
   "outputs": [],
   "source": [
    "import csv\n",
    "\n",
    "\n",
    "dataset_config_name = DATASET_CONFIG_PATH.split('/')[-1].split('.')[0]\n",
    "model_config_name = MODEL_CONFIG_PATH.split('/')[-1].split('.')[0]\n",
    "configuration = f\"dataset_{dataset_config_name}-model_{model_config_name}\"\n",
    "\n",
    "with open('results.csv', 'a') as f:\n",
    "    report = dict({'configuration': configuration}, **score)\n",
    "    writer = csv.DictWriter(f, report.keys())\n",
    "    writer.writerow(report)"
   ]
  }
 ],
 "metadata": {
  "celltoolbar": "Tags",
  "kernelspec": {
   "display_name": "Python 3",
   "language": "python",
   "name": "python3"
  },
  "language_info": {
   "codemirror_mode": {
    "name": "ipython",
    "version": 3
   },
   "file_extension": ".py",
   "mimetype": "text/x-python",
   "name": "python",
   "nbconvert_exporter": "python",
   "pygments_lexer": "ipython3",
   "version": "3.9.1"
  },
  "papermill": {
   "default_parameters": {},
   "duration": 5.642896,
   "end_time": "2021-04-04T23:05:25.316069",
   "environment_variables": {},
   "exception": null,
   "input_path": "main.ipynb",
   "output_path": "runs/dataset_000081-model_000001.ipynb",
   "parameters": {
    "DATASET_CONFIG_PATH": "config/dataset/000081.json",
    "MODEL_CONFIG_PATH": "config/model/000001.json",
    "PROFILE_REPORTING": false
   },
   "start_time": "2021-04-04T23:05:19.673173",
   "version": "2.3.3"
  }
 },
 "nbformat": 4,
 "nbformat_minor": 5
}