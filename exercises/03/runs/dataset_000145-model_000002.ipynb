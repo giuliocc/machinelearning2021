{
 "cells": [
  {
   "cell_type": "markdown",
   "id": "51c71c25",
   "metadata": {
    "papermill": {
     "duration": 0.020128,
     "end_time": "2021-04-04T23:31:35.427669",
     "exception": false,
     "start_time": "2021-04-04T23:31:35.407541",
     "status": "completed"
    },
    "tags": []
   },
   "source": [
    "# Parametrizing"
   ]
  },
  {
   "cell_type": "code",
   "execution_count": 1,
   "id": "3b136394",
   "metadata": {
    "execution": {
     "iopub.execute_input": "2021-04-04T23:31:35.484120Z",
     "iopub.status.busy": "2021-04-04T23:31:35.483273Z",
     "iopub.status.idle": "2021-04-04T23:31:35.486111Z",
     "shell.execute_reply": "2021-04-04T23:31:35.485458Z"
    },
    "papermill": {
     "duration": 0.038183,
     "end_time": "2021-04-04T23:31:35.486241",
     "exception": false,
     "start_time": "2021-04-04T23:31:35.448058",
     "status": "completed"
    },
    "tags": [
     "parameters"
    ]
   },
   "outputs": [],
   "source": [
    "DATASET_CONFIG_PATH = 'config/dataset/kc1_001.json'\n",
    "MODEL_CONFIG_PATH = 'config/model/knndd_001.json'\n",
    "PROFILE_REPORTING = False"
   ]
  },
  {
   "cell_type": "code",
   "execution_count": 2,
   "id": "ba97f8df",
   "metadata": {
    "execution": {
     "iopub.execute_input": "2021-04-04T23:31:35.532732Z",
     "iopub.status.busy": "2021-04-04T23:31:35.531894Z",
     "iopub.status.idle": "2021-04-04T23:31:35.534562Z",
     "shell.execute_reply": "2021-04-04T23:31:35.533968Z"
    },
    "papermill": {
     "duration": 0.0263,
     "end_time": "2021-04-04T23:31:35.534685",
     "exception": false,
     "start_time": "2021-04-04T23:31:35.508385",
     "status": "completed"
    },
    "tags": [
     "injected-parameters"
    ]
   },
   "outputs": [],
   "source": [
    "# Parameters\n",
    "DATASET_CONFIG_PATH = \"config/dataset/000145.json\"\n",
    "MODEL_CONFIG_PATH = \"config/model/000002.json\"\n",
    "PROFILE_REPORTING = False\n"
   ]
  },
  {
   "cell_type": "code",
   "execution_count": 3,
   "id": "b80f2a10",
   "metadata": {
    "execution": {
     "iopub.execute_input": "2021-04-04T23:31:35.591532Z",
     "iopub.status.busy": "2021-04-04T23:31:35.590643Z",
     "iopub.status.idle": "2021-04-04T23:31:35.593625Z",
     "shell.execute_reply": "2021-04-04T23:31:35.594514Z"
    },
    "papermill": {
     "duration": 0.034765,
     "end_time": "2021-04-04T23:31:35.594776",
     "exception": false,
     "start_time": "2021-04-04T23:31:35.560011",
     "status": "completed"
    },
    "tags": []
   },
   "outputs": [],
   "source": [
    "import json\n",
    "\n",
    "\n",
    "with open(DATASET_CONFIG_PATH) as f:\n",
    "    dataset_config = json.load(f)\n",
    "\n",
    "with open(MODEL_CONFIG_PATH) as f:\n",
    "    model_config = json.load(f)"
   ]
  },
  {
   "cell_type": "markdown",
   "id": "9a4b0e2d",
   "metadata": {
    "papermill": {
     "duration": 0.020832,
     "end_time": "2021-04-04T23:31:35.639666",
     "exception": false,
     "start_time": "2021-04-04T23:31:35.618834",
     "status": "completed"
    },
    "tags": []
   },
   "source": [
    "# Profiling"
   ]
  },
  {
   "cell_type": "code",
   "execution_count": 4,
   "id": "a3e0289b",
   "metadata": {
    "execution": {
     "iopub.execute_input": "2021-04-04T23:31:35.693191Z",
     "iopub.status.busy": "2021-04-04T23:31:35.691989Z",
     "iopub.status.idle": "2021-04-04T23:31:37.271173Z",
     "shell.execute_reply": "2021-04-04T23:31:37.270280Z"
    },
    "papermill": {
     "duration": 1.60942,
     "end_time": "2021-04-04T23:31:37.271418",
     "exception": false,
     "start_time": "2021-04-04T23:31:35.661998",
     "status": "completed"
    },
    "tags": []
   },
   "outputs": [],
   "source": [
    "import pandas as pd\n",
    "from pandas_profiling import ProfileReport"
   ]
  },
  {
   "cell_type": "code",
   "execution_count": 5,
   "id": "ee6c0666",
   "metadata": {
    "execution": {
     "iopub.execute_input": "2021-04-04T23:31:37.334617Z",
     "iopub.status.busy": "2021-04-04T23:31:37.333768Z",
     "iopub.status.idle": "2021-04-04T23:31:37.345301Z",
     "shell.execute_reply": "2021-04-04T23:31:37.346463Z"
    },
    "papermill": {
     "duration": 0.046939,
     "end_time": "2021-04-04T23:31:37.346709",
     "exception": false,
     "start_time": "2021-04-04T23:31:37.299770",
     "status": "completed"
    },
    "tags": []
   },
   "outputs": [],
   "source": [
    "df = pd.read_csv(dataset_config['dataset_path'])"
   ]
  },
  {
   "cell_type": "code",
   "execution_count": 6,
   "id": "7eca6c4a",
   "metadata": {
    "execution": {
     "iopub.execute_input": "2021-04-04T23:31:37.430331Z",
     "iopub.status.busy": "2021-04-04T23:31:37.429537Z",
     "iopub.status.idle": "2021-04-04T23:31:37.448205Z",
     "shell.execute_reply": "2021-04-04T23:31:37.448714Z"
    },
    "papermill": {
     "duration": 0.061312,
     "end_time": "2021-04-04T23:31:37.448873",
     "exception": false,
     "start_time": "2021-04-04T23:31:37.387561",
     "status": "completed"
    },
    "tags": []
   },
   "outputs": [
    {
     "name": "stdout",
     "output_type": "stream",
     "text": [
      "<class 'pandas.core.frame.DataFrame'>\n",
      "RangeIndex: 498 entries, 0 to 497\n",
      "Data columns (total 23 columns):\n",
      " #   Column             Non-Null Count  Dtype  \n",
      "---  ------             --------------  -----  \n",
      " 0   id                 498 non-null    int64  \n",
      " 1   loc                498 non-null    float64\n",
      " 2   v(g)               498 non-null    float64\n",
      " 3   ev(g)              498 non-null    float64\n",
      " 4   iv(g)              498 non-null    float64\n",
      " 5   n                  498 non-null    float64\n",
      " 6   v                  498 non-null    float64\n",
      " 7   l                  498 non-null    float64\n",
      " 8   d                  498 non-null    float64\n",
      " 9   i                  498 non-null    float64\n",
      " 10  e                  498 non-null    float64\n",
      " 11  b                  498 non-null    float64\n",
      " 12  t                  498 non-null    float64\n",
      " 13  lOCode             498 non-null    int64  \n",
      " 14  lOComment          498 non-null    int64  \n",
      " 15  lOBlank            498 non-null    int64  \n",
      " 16  locCodeAndComment  498 non-null    int64  \n",
      " 17  uniq_Op            498 non-null    float64\n",
      " 18  uniq_Opnd          498 non-null    float64\n",
      " 19  total_Op           498 non-null    float64\n",
      " 20  total_Opnd         498 non-null    float64\n",
      " 21  branchCount        498 non-null    float64\n",
      " 22  defects            498 non-null    bool   \n",
      "dtypes: bool(1), float64(17), int64(5)\n",
      "memory usage: 86.2 KB\n"
     ]
    }
   ],
   "source": [
    "df.info()"
   ]
  },
  {
   "cell_type": "code",
   "execution_count": 7,
   "id": "3638e5e8",
   "metadata": {
    "execution": {
     "iopub.execute_input": "2021-04-04T23:31:37.501877Z",
     "iopub.status.busy": "2021-04-04T23:31:37.501268Z",
     "iopub.status.idle": "2021-04-04T23:31:37.526193Z",
     "shell.execute_reply": "2021-04-04T23:31:37.525689Z"
    },
    "papermill": {
     "duration": 0.054209,
     "end_time": "2021-04-04T23:31:37.526313",
     "exception": false,
     "start_time": "2021-04-04T23:31:37.472104",
     "status": "completed"
    },
    "tags": []
   },
   "outputs": [
    {
     "data": {
      "text/html": [
       "<div>\n",
       "<style scoped>\n",
       "    .dataframe tbody tr th:only-of-type {\n",
       "        vertical-align: middle;\n",
       "    }\n",
       "\n",
       "    .dataframe tbody tr th {\n",
       "        vertical-align: top;\n",
       "    }\n",
       "\n",
       "    .dataframe thead th {\n",
       "        text-align: right;\n",
       "    }\n",
       "</style>\n",
       "<table border=\"1\" class=\"dataframe\">\n",
       "  <thead>\n",
       "    <tr style=\"text-align: right;\">\n",
       "      <th></th>\n",
       "      <th>id</th>\n",
       "      <th>loc</th>\n",
       "      <th>v(g)</th>\n",
       "      <th>ev(g)</th>\n",
       "      <th>iv(g)</th>\n",
       "      <th>n</th>\n",
       "      <th>v</th>\n",
       "      <th>l</th>\n",
       "      <th>d</th>\n",
       "      <th>i</th>\n",
       "      <th>...</th>\n",
       "      <th>lOCode</th>\n",
       "      <th>lOComment</th>\n",
       "      <th>lOBlank</th>\n",
       "      <th>locCodeAndComment</th>\n",
       "      <th>uniq_Op</th>\n",
       "      <th>uniq_Opnd</th>\n",
       "      <th>total_Op</th>\n",
       "      <th>total_Opnd</th>\n",
       "      <th>branchCount</th>\n",
       "      <th>defects</th>\n",
       "    </tr>\n",
       "  </thead>\n",
       "  <tbody>\n",
       "    <tr>\n",
       "      <th>0</th>\n",
       "      <td>1</td>\n",
       "      <td>1.1</td>\n",
       "      <td>1.4</td>\n",
       "      <td>1.4</td>\n",
       "      <td>1.4</td>\n",
       "      <td>1.3</td>\n",
       "      <td>1.30</td>\n",
       "      <td>1.30</td>\n",
       "      <td>1.30</td>\n",
       "      <td>1.30</td>\n",
       "      <td>...</td>\n",
       "      <td>2</td>\n",
       "      <td>2</td>\n",
       "      <td>2</td>\n",
       "      <td>2</td>\n",
       "      <td>1.2</td>\n",
       "      <td>1.2</td>\n",
       "      <td>1.2</td>\n",
       "      <td>1.2</td>\n",
       "      <td>1.4</td>\n",
       "      <td>False</td>\n",
       "    </tr>\n",
       "    <tr>\n",
       "      <th>1</th>\n",
       "      <td>2</td>\n",
       "      <td>1.0</td>\n",
       "      <td>1.0</td>\n",
       "      <td>1.0</td>\n",
       "      <td>1.0</td>\n",
       "      <td>1.0</td>\n",
       "      <td>1.00</td>\n",
       "      <td>1.00</td>\n",
       "      <td>1.00</td>\n",
       "      <td>1.00</td>\n",
       "      <td>...</td>\n",
       "      <td>1</td>\n",
       "      <td>1</td>\n",
       "      <td>1</td>\n",
       "      <td>1</td>\n",
       "      <td>1.0</td>\n",
       "      <td>1.0</td>\n",
       "      <td>1.0</td>\n",
       "      <td>1.0</td>\n",
       "      <td>1.0</td>\n",
       "      <td>True</td>\n",
       "    </tr>\n",
       "    <tr>\n",
       "      <th>2</th>\n",
       "      <td>3</td>\n",
       "      <td>24.0</td>\n",
       "      <td>5.0</td>\n",
       "      <td>1.0</td>\n",
       "      <td>3.0</td>\n",
       "      <td>63.0</td>\n",
       "      <td>309.13</td>\n",
       "      <td>0.11</td>\n",
       "      <td>9.50</td>\n",
       "      <td>32.54</td>\n",
       "      <td>...</td>\n",
       "      <td>1</td>\n",
       "      <td>0</td>\n",
       "      <td>6</td>\n",
       "      <td>0</td>\n",
       "      <td>15.0</td>\n",
       "      <td>15.0</td>\n",
       "      <td>44.0</td>\n",
       "      <td>19.0</td>\n",
       "      <td>9.0</td>\n",
       "      <td>False</td>\n",
       "    </tr>\n",
       "    <tr>\n",
       "      <th>3</th>\n",
       "      <td>4</td>\n",
       "      <td>20.0</td>\n",
       "      <td>4.0</td>\n",
       "      <td>4.0</td>\n",
       "      <td>2.0</td>\n",
       "      <td>47.0</td>\n",
       "      <td>215.49</td>\n",
       "      <td>0.06</td>\n",
       "      <td>16.00</td>\n",
       "      <td>13.47</td>\n",
       "      <td>...</td>\n",
       "      <td>0</td>\n",
       "      <td>0</td>\n",
       "      <td>3</td>\n",
       "      <td>0</td>\n",
       "      <td>16.0</td>\n",
       "      <td>8.0</td>\n",
       "      <td>31.0</td>\n",
       "      <td>16.0</td>\n",
       "      <td>7.0</td>\n",
       "      <td>False</td>\n",
       "    </tr>\n",
       "    <tr>\n",
       "      <th>4</th>\n",
       "      <td>5</td>\n",
       "      <td>24.0</td>\n",
       "      <td>6.0</td>\n",
       "      <td>6.0</td>\n",
       "      <td>2.0</td>\n",
       "      <td>72.0</td>\n",
       "      <td>346.13</td>\n",
       "      <td>0.06</td>\n",
       "      <td>17.33</td>\n",
       "      <td>19.97</td>\n",
       "      <td>...</td>\n",
       "      <td>0</td>\n",
       "      <td>0</td>\n",
       "      <td>3</td>\n",
       "      <td>0</td>\n",
       "      <td>16.0</td>\n",
       "      <td>12.0</td>\n",
       "      <td>46.0</td>\n",
       "      <td>26.0</td>\n",
       "      <td>11.0</td>\n",
       "      <td>False</td>\n",
       "    </tr>\n",
       "  </tbody>\n",
       "</table>\n",
       "<p>5 rows × 23 columns</p>\n",
       "</div>"
      ],
      "text/plain": [
       "   id   loc  v(g)  ev(g)  iv(g)     n       v     l      d      i  ...  \\\n",
       "0   1   1.1   1.4    1.4    1.4   1.3    1.30  1.30   1.30   1.30  ...   \n",
       "1   2   1.0   1.0    1.0    1.0   1.0    1.00  1.00   1.00   1.00  ...   \n",
       "2   3  24.0   5.0    1.0    3.0  63.0  309.13  0.11   9.50  32.54  ...   \n",
       "3   4  20.0   4.0    4.0    2.0  47.0  215.49  0.06  16.00  13.47  ...   \n",
       "4   5  24.0   6.0    6.0    2.0  72.0  346.13  0.06  17.33  19.97  ...   \n",
       "\n",
       "   lOCode  lOComment  lOBlank  locCodeAndComment  uniq_Op  uniq_Opnd  \\\n",
       "0       2          2        2                  2      1.2        1.2   \n",
       "1       1          1        1                  1      1.0        1.0   \n",
       "2       1          0        6                  0     15.0       15.0   \n",
       "3       0          0        3                  0     16.0        8.0   \n",
       "4       0          0        3                  0     16.0       12.0   \n",
       "\n",
       "   total_Op  total_Opnd  branchCount  defects  \n",
       "0       1.2         1.2          1.4    False  \n",
       "1       1.0         1.0          1.0     True  \n",
       "2      44.0        19.0          9.0    False  \n",
       "3      31.0        16.0          7.0    False  \n",
       "4      46.0        26.0         11.0    False  \n",
       "\n",
       "[5 rows x 23 columns]"
      ]
     },
     "execution_count": 7,
     "metadata": {},
     "output_type": "execute_result"
    }
   ],
   "source": [
    "df.head()"
   ]
  },
  {
   "cell_type": "code",
   "execution_count": 8,
   "id": "733e95eb",
   "metadata": {
    "execution": {
     "iopub.execute_input": "2021-04-04T23:31:37.581486Z",
     "iopub.status.busy": "2021-04-04T23:31:37.579998Z",
     "iopub.status.idle": "2021-04-04T23:31:37.582913Z",
     "shell.execute_reply": "2021-04-04T23:31:37.583484Z"
    },
    "papermill": {
     "duration": 0.033271,
     "end_time": "2021-04-04T23:31:37.583749",
     "exception": false,
     "start_time": "2021-04-04T23:31:37.550478",
     "status": "completed"
    },
    "tags": []
   },
   "outputs": [],
   "source": [
    "del df['id']"
   ]
  },
  {
   "cell_type": "code",
   "execution_count": 9,
   "id": "6ff6f5b0",
   "metadata": {
    "execution": {
     "iopub.execute_input": "2021-04-04T23:31:37.632847Z",
     "iopub.status.busy": "2021-04-04T23:31:37.632258Z",
     "iopub.status.idle": "2021-04-04T23:31:37.637155Z",
     "shell.execute_reply": "2021-04-04T23:31:37.635300Z"
    },
    "papermill": {
     "duration": 0.030455,
     "end_time": "2021-04-04T23:31:37.637345",
     "exception": false,
     "start_time": "2021-04-04T23:31:37.606890",
     "status": "completed"
    },
    "tags": []
   },
   "outputs": [],
   "source": [
    "if PROFILE_REPORTING:\n",
    "    ProfileReport(df).to_widgets()"
   ]
  },
  {
   "cell_type": "markdown",
   "id": "1deaf3f0",
   "metadata": {
    "papermill": {
     "duration": 0.028169,
     "end_time": "2021-04-04T23:31:37.688558",
     "exception": false,
     "start_time": "2021-04-04T23:31:37.660389",
     "status": "completed"
    },
    "tags": []
   },
   "source": [
    "# Preprocess"
   ]
  },
  {
   "cell_type": "code",
   "execution_count": 10,
   "id": "1513e563",
   "metadata": {
    "execution": {
     "iopub.execute_input": "2021-04-04T23:31:37.752384Z",
     "iopub.status.busy": "2021-04-04T23:31:37.751668Z",
     "iopub.status.idle": "2021-04-04T23:31:37.753896Z",
     "shell.execute_reply": "2021-04-04T23:31:37.753396Z"
    },
    "papermill": {
     "duration": 0.034919,
     "end_time": "2021-04-04T23:31:37.754016",
     "exception": false,
     "start_time": "2021-04-04T23:31:37.719097",
     "status": "completed"
    },
    "tags": []
   },
   "outputs": [],
   "source": [
    "working_df = df.copy()"
   ]
  },
  {
   "cell_type": "code",
   "execution_count": 11,
   "id": "3b26d675",
   "metadata": {
    "execution": {
     "iopub.execute_input": "2021-04-04T23:31:37.812695Z",
     "iopub.status.busy": "2021-04-04T23:31:37.811858Z",
     "iopub.status.idle": "2021-04-04T23:31:37.816437Z",
     "shell.execute_reply": "2021-04-04T23:31:37.815513Z"
    },
    "papermill": {
     "duration": 0.038427,
     "end_time": "2021-04-04T23:31:37.816591",
     "exception": false,
     "start_time": "2021-04-04T23:31:37.778164",
     "status": "completed"
    },
    "tags": []
   },
   "outputs": [],
   "source": [
    "working_df['defects'] = working_df['defects'].replace([False, True], [0, 1])"
   ]
  },
  {
   "cell_type": "code",
   "execution_count": 12,
   "id": "eb48604f",
   "metadata": {
    "execution": {
     "iopub.execute_input": "2021-04-04T23:31:37.869866Z",
     "iopub.status.busy": "2021-04-04T23:31:37.869282Z",
     "iopub.status.idle": "2021-04-04T23:31:37.871202Z",
     "shell.execute_reply": "2021-04-04T23:31:37.871644Z"
    },
    "papermill": {
     "duration": 0.031771,
     "end_time": "2021-04-04T23:31:37.871779",
     "exception": false,
     "start_time": "2021-04-04T23:31:37.840008",
     "status": "completed"
    },
    "tags": []
   },
   "outputs": [],
   "source": [
    "for col in dataset_config['delete_columns']:\n",
    "    del working_df[col]"
   ]
  },
  {
   "cell_type": "code",
   "execution_count": 13,
   "id": "9a17bc29",
   "metadata": {
    "execution": {
     "iopub.execute_input": "2021-04-04T23:31:37.931983Z",
     "iopub.status.busy": "2021-04-04T23:31:37.930528Z",
     "iopub.status.idle": "2021-04-04T23:31:37.942205Z",
     "shell.execute_reply": "2021-04-04T23:31:37.941503Z"
    },
    "papermill": {
     "duration": 0.04366,
     "end_time": "2021-04-04T23:31:37.942350",
     "exception": false,
     "start_time": "2021-04-04T23:31:37.898690",
     "status": "completed"
    },
    "tags": []
   },
   "outputs": [],
   "source": [
    "working_df = working_df.drop_duplicates()"
   ]
  },
  {
   "cell_type": "markdown",
   "id": "a4d52ca6",
   "metadata": {
    "papermill": {
     "duration": 0.025649,
     "end_time": "2021-04-04T23:31:37.991139",
     "exception": false,
     "start_time": "2021-04-04T23:31:37.965490",
     "status": "completed"
    },
    "tags": []
   },
   "source": [
    "# Split"
   ]
  },
  {
   "cell_type": "code",
   "execution_count": 14,
   "id": "3e9ee4b5",
   "metadata": {
    "execution": {
     "iopub.execute_input": "2021-04-04T23:31:38.054137Z",
     "iopub.status.busy": "2021-04-04T23:31:38.052630Z",
     "iopub.status.idle": "2021-04-04T23:31:38.093702Z",
     "shell.execute_reply": "2021-04-04T23:31:38.093095Z"
    },
    "papermill": {
     "duration": 0.07624,
     "end_time": "2021-04-04T23:31:38.093822",
     "exception": false,
     "start_time": "2021-04-04T23:31:38.017582",
     "status": "completed"
    },
    "tags": []
   },
   "outputs": [],
   "source": [
    "from sklearn.model_selection import train_test_split"
   ]
  },
  {
   "cell_type": "code",
   "execution_count": 15,
   "id": "274004ce",
   "metadata": {
    "execution": {
     "iopub.execute_input": "2021-04-04T23:31:38.158715Z",
     "iopub.status.busy": "2021-04-04T23:31:38.157796Z",
     "iopub.status.idle": "2021-04-04T23:31:38.163296Z",
     "shell.execute_reply": "2021-04-04T23:31:38.162701Z"
    },
    "papermill": {
     "duration": 0.036304,
     "end_time": "2021-04-04T23:31:38.163416",
     "exception": false,
     "start_time": "2021-04-04T23:31:38.127112",
     "status": "completed"
    },
    "scrolled": true,
    "tags": []
   },
   "outputs": [],
   "source": [
    "inlier, outlier = working_df[working_df['defects'] == 0], working_df[working_df['defects'] == 1]"
   ]
  },
  {
   "cell_type": "code",
   "execution_count": 16,
   "id": "753c7b03",
   "metadata": {
    "execution": {
     "iopub.execute_input": "2021-04-04T23:31:38.221002Z",
     "iopub.status.busy": "2021-04-04T23:31:38.220362Z",
     "iopub.status.idle": "2021-04-04T23:31:38.223377Z",
     "shell.execute_reply": "2021-04-04T23:31:38.223862Z"
    },
    "papermill": {
     "duration": 0.037477,
     "end_time": "2021-04-04T23:31:38.224011",
     "exception": false,
     "start_time": "2021-04-04T23:31:38.186534",
     "status": "completed"
    },
    "tags": []
   },
   "outputs": [],
   "source": [
    "X_inlier = inlier.copy()\n",
    "y_inlier = X_inlier.pop('defects')\n",
    "X_outlier = outlier.copy()\n",
    "y_outlier = X_outlier.pop('defects')"
   ]
  },
  {
   "cell_type": "code",
   "execution_count": 17,
   "id": "2ba43193",
   "metadata": {
    "execution": {
     "iopub.execute_input": "2021-04-04T23:31:38.279444Z",
     "iopub.status.busy": "2021-04-04T23:31:38.278466Z",
     "iopub.status.idle": "2021-04-04T23:31:38.281557Z",
     "shell.execute_reply": "2021-04-04T23:31:38.282021Z"
    },
    "papermill": {
     "duration": 0.033339,
     "end_time": "2021-04-04T23:31:38.282171",
     "exception": false,
     "start_time": "2021-04-04T23:31:38.248832",
     "status": "completed"
    },
    "tags": []
   },
   "outputs": [],
   "source": [
    "test_size = dataset_config['test_size']\n",
    "random_state = dataset_config['random_state']\n",
    "\n",
    "X_inlier_train, X_inlier_test, y_inlier_train, y_inlier_test = train_test_split(\n",
    "    X_inlier,\n",
    "    y_inlier,\n",
    "    test_size=test_size,\n",
    "    random_state=random_state\n",
    ")"
   ]
  },
  {
   "cell_type": "code",
   "execution_count": 18,
   "id": "0b7582ca",
   "metadata": {
    "execution": {
     "iopub.execute_input": "2021-04-04T23:31:38.351288Z",
     "iopub.status.busy": "2021-04-04T23:31:38.348798Z",
     "iopub.status.idle": "2021-04-04T23:31:38.353306Z",
     "shell.execute_reply": "2021-04-04T23:31:38.352677Z"
    },
    "papermill": {
     "duration": 0.046704,
     "end_time": "2021-04-04T23:31:38.353462",
     "exception": false,
     "start_time": "2021-04-04T23:31:38.306758",
     "status": "completed"
    },
    "tags": []
   },
   "outputs": [],
   "source": [
    "test_outlier_size = dataset_config['test_outlier_size']\n",
    "if test_outlier_size > 0.0:\n",
    "    X_outlier_train, X_outlier_test, y_outlier_train, y_outlier_test = train_test_split(\n",
    "        X_outlier,\n",
    "        y_outlier,\n",
    "        test_size=test_outlier_size,\n",
    "        random_state=random_state\n",
    "    )\n",
    "else:\n",
    "    X_outlier_train, y_outlier_train = pd.DataFrame(columns=X_outlier.columns), pd.Series(dtype='int64')\n",
    "    X_outlier_test, y_outlier_test = X_outlier.copy(), y_outlier.copy()"
   ]
  },
  {
   "cell_type": "code",
   "execution_count": 19,
   "id": "c34363db",
   "metadata": {
    "execution": {
     "iopub.execute_input": "2021-04-04T23:31:38.436681Z",
     "iopub.status.busy": "2021-04-04T23:31:38.434949Z",
     "iopub.status.idle": "2021-04-04T23:31:38.441837Z",
     "shell.execute_reply": "2021-04-04T23:31:38.442639Z"
    },
    "papermill": {
     "duration": 0.057653,
     "end_time": "2021-04-04T23:31:38.442904",
     "exception": false,
     "start_time": "2021-04-04T23:31:38.385251",
     "status": "completed"
    },
    "tags": []
   },
   "outputs": [],
   "source": [
    "X_train, y_train = pd.concat([X_inlier_train, X_outlier_train], ignore_index=True), pd.concat([y_inlier_train, y_outlier_train], ignore_index=True)\n",
    "X_test, y_test = pd.concat([X_inlier_test, X_outlier_test], ignore_index=True), pd.concat([y_inlier_test, y_outlier_test], ignore_index=True)"
   ]
  },
  {
   "cell_type": "markdown",
   "id": "7cde7309",
   "metadata": {
    "papermill": {
     "duration": 0.033562,
     "end_time": "2021-04-04T23:31:38.506854",
     "exception": false,
     "start_time": "2021-04-04T23:31:38.473292",
     "status": "completed"
    },
    "tags": []
   },
   "source": [
    "# Model"
   ]
  },
  {
   "cell_type": "code",
   "execution_count": 20,
   "id": "2b12a415",
   "metadata": {
    "execution": {
     "iopub.execute_input": "2021-04-04T23:31:38.594065Z",
     "iopub.status.busy": "2021-04-04T23:31:38.593167Z",
     "iopub.status.idle": "2021-04-04T23:31:38.595298Z",
     "shell.execute_reply": "2021-04-04T23:31:38.595824Z"
    },
    "papermill": {
     "duration": 0.043431,
     "end_time": "2021-04-04T23:31:38.595974",
     "exception": false,
     "start_time": "2021-04-04T23:31:38.552543",
     "status": "completed"
    },
    "tags": []
   },
   "outputs": [],
   "source": [
    "from math import sqrt\n",
    "\n",
    "\n",
    "class KNNDataDescription:\n",
    "    def __init__(self, k=5, outlier_threshold=1.0):\n",
    "        self.k = k\n",
    "        self.outlier_threshold = outlier_threshold\n",
    "        self.X = []\n",
    "    \n",
    "    def fit(self, X):\n",
    "        self.X = [features.to_list() for index, features in X.iterrows()]\n",
    "\n",
    "    def predict(self, entries):\n",
    "        return [self.predict_entry(features.to_list()) for index, features in entries.iterrows()]\n",
    "    \n",
    "    def predict_entry(self, entry):\n",
    "        kth_neighbor, kth_distance = self.get_kth_neighbor(entry, self.k)\n",
    "        kth_kth_neighbor, kth_kth_distance = self.get_kth_neighbor(kth_neighbor, self.k + 1)\n",
    "\n",
    "        outlier_score = kth_distance / (kth_kth_distance + 0.000001)\n",
    "\n",
    "        return 1 if outlier_score < self.outlier_threshold else -1\n",
    "        \n",
    "    def euclidean_distance(self, features1, features2):\n",
    "        distance = 0.0\n",
    "        for feat1, feat2 in zip(features1, features2):\n",
    "            distance += (feat1 - feat2)**2\n",
    "                \n",
    "        return sqrt(distance)\n",
    "\n",
    "    def get_neighbors(self, entry, k):\n",
    "        distance_to_data_points = [\n",
    "            (data_point, self.euclidean_distance(entry, data_point))\n",
    "            for data_point in self.X\n",
    "        ]\n",
    "        sorted_by_distance = sorted(distance_to_data_points, key=lambda tup: tup[1])\n",
    "        neighbors = sorted_by_distance[:k]\n",
    "        return neighbors\n",
    "\n",
    "    def get_kth_neighbor(self, entry, k):\n",
    "        neighbors = self.get_neighbors(entry, k)\n",
    "        return neighbors[-1]\n"
   ]
  },
  {
   "cell_type": "code",
   "execution_count": 21,
   "id": "1fa9ec1c",
   "metadata": {
    "execution": {
     "iopub.execute_input": "2021-04-04T23:31:38.656815Z",
     "iopub.status.busy": "2021-04-04T23:31:38.655561Z",
     "iopub.status.idle": "2021-04-04T23:31:38.685734Z",
     "shell.execute_reply": "2021-04-04T23:31:38.685136Z"
    },
    "papermill": {
     "duration": 0.064581,
     "end_time": "2021-04-04T23:31:38.685855",
     "exception": false,
     "start_time": "2021-04-04T23:31:38.621274",
     "status": "completed"
    },
    "tags": []
   },
   "outputs": [],
   "source": [
    "from sklearn.svm import OneClassSVM\n",
    "\n",
    "\n",
    "models = {\n",
    "    'oneclasssvm': OneClassSVM,\n",
    "    'knndatadescription': KNNDataDescription,\n",
    "}"
   ]
  },
  {
   "cell_type": "code",
   "execution_count": 22,
   "id": "4d72a0b1",
   "metadata": {
    "execution": {
     "iopub.execute_input": "2021-04-04T23:31:38.737477Z",
     "iopub.status.busy": "2021-04-04T23:31:38.736760Z",
     "iopub.status.idle": "2021-04-04T23:31:38.738491Z",
     "shell.execute_reply": "2021-04-04T23:31:38.739033Z"
    },
    "papermill": {
     "duration": 0.02892,
     "end_time": "2021-04-04T23:31:38.739175",
     "exception": false,
     "start_time": "2021-04-04T23:31:38.710255",
     "status": "completed"
    },
    "scrolled": true,
    "tags": []
   },
   "outputs": [],
   "source": [
    "model_cls = models[model_config['model_type']]\n",
    "model = model_cls(**model_config['hyperparameters'])"
   ]
  },
  {
   "cell_type": "markdown",
   "id": "e00cff3b",
   "metadata": {
    "papermill": {
     "duration": 0.025495,
     "end_time": "2021-04-04T23:31:38.791108",
     "exception": false,
     "start_time": "2021-04-04T23:31:38.765613",
     "status": "completed"
    },
    "tags": []
   },
   "source": [
    "# Fit"
   ]
  },
  {
   "cell_type": "code",
   "execution_count": 23,
   "id": "8b2ded89",
   "metadata": {
    "execution": {
     "iopub.execute_input": "2021-04-04T23:31:38.845337Z",
     "iopub.status.busy": "2021-04-04T23:31:38.844694Z",
     "iopub.status.idle": "2021-04-04T23:31:38.870096Z",
     "shell.execute_reply": "2021-04-04T23:31:38.870950Z"
    },
    "papermill": {
     "duration": 0.05472,
     "end_time": "2021-04-04T23:31:38.871134",
     "exception": false,
     "start_time": "2021-04-04T23:31:38.816414",
     "status": "completed"
    },
    "tags": []
   },
   "outputs": [],
   "source": [
    "model.fit(X_train)"
   ]
  },
  {
   "cell_type": "markdown",
   "id": "f99999f7",
   "metadata": {
    "papermill": {
     "duration": 0.055254,
     "end_time": "2021-04-04T23:31:38.953399",
     "exception": false,
     "start_time": "2021-04-04T23:31:38.898145",
     "status": "completed"
    },
    "tags": []
   },
   "source": [
    "# Predict"
   ]
  },
  {
   "cell_type": "code",
   "execution_count": 24,
   "id": "6536fbf7",
   "metadata": {
    "execution": {
     "iopub.execute_input": "2021-04-04T23:31:39.039442Z",
     "iopub.status.busy": "2021-04-04T23:31:39.038835Z",
     "iopub.status.idle": "2021-04-04T23:31:39.371041Z",
     "shell.execute_reply": "2021-04-04T23:31:39.371545Z"
    },
    "papermill": {
     "duration": 0.370461,
     "end_time": "2021-04-04T23:31:39.371721",
     "exception": false,
     "start_time": "2021-04-04T23:31:39.001260",
     "status": "completed"
    },
    "tags": []
   },
   "outputs": [],
   "source": [
    "predictions = model.predict(X_test)"
   ]
  },
  {
   "cell_type": "markdown",
   "id": "aa1c9881",
   "metadata": {
    "papermill": {
     "duration": 0.027154,
     "end_time": "2021-04-04T23:31:39.426679",
     "exception": false,
     "start_time": "2021-04-04T23:31:39.399525",
     "status": "completed"
    },
    "tags": []
   },
   "source": [
    "# Evaluate"
   ]
  },
  {
   "cell_type": "code",
   "execution_count": 25,
   "id": "894f0f04",
   "metadata": {
    "execution": {
     "iopub.execute_input": "2021-04-04T23:31:39.483027Z",
     "iopub.status.busy": "2021-04-04T23:31:39.482428Z",
     "iopub.status.idle": "2021-04-04T23:31:39.487271Z",
     "shell.execute_reply": "2021-04-04T23:31:39.485693Z"
    },
    "papermill": {
     "duration": 0.03283,
     "end_time": "2021-04-04T23:31:39.487453",
     "exception": false,
     "start_time": "2021-04-04T23:31:39.454623",
     "status": "completed"
    },
    "tags": []
   },
   "outputs": [],
   "source": [
    "from sklearn.metrics import f1_score"
   ]
  },
  {
   "cell_type": "code",
   "execution_count": 26,
   "id": "211744d3",
   "metadata": {
    "execution": {
     "iopub.execute_input": "2021-04-04T23:31:39.548978Z",
     "iopub.status.busy": "2021-04-04T23:31:39.548221Z",
     "iopub.status.idle": "2021-04-04T23:31:39.550734Z",
     "shell.execute_reply": "2021-04-04T23:31:39.551270Z"
    },
    "papermill": {
     "duration": 0.038847,
     "end_time": "2021-04-04T23:31:39.551430",
     "exception": false,
     "start_time": "2021-04-04T23:31:39.512583",
     "status": "completed"
    },
    "tags": []
   },
   "outputs": [],
   "source": [
    "y_test = y_test.replace([0, 1], [1, -1])"
   ]
  },
  {
   "cell_type": "code",
   "execution_count": 27,
   "id": "d68a9204",
   "metadata": {
    "execution": {
     "iopub.execute_input": "2021-04-04T23:31:39.611887Z",
     "iopub.status.busy": "2021-04-04T23:31:39.610622Z",
     "iopub.status.idle": "2021-04-04T23:31:39.615216Z",
     "shell.execute_reply": "2021-04-04T23:31:39.614517Z"
    },
    "papermill": {
     "duration": 0.040056,
     "end_time": "2021-04-04T23:31:39.615362",
     "exception": false,
     "start_time": "2021-04-04T23:31:39.575306",
     "status": "completed"
    },
    "tags": []
   },
   "outputs": [],
   "source": [
    "def evaluate(truths, predictions, pos_label, neg_label):\n",
    "    TP = 0\n",
    "    FP = 0\n",
    "    TN = 0\n",
    "    FN = 0\n",
    "\n",
    "    for truth, pred in zip(truths, predictions): \n",
    "        if truth == pred == pos_label:\n",
    "           TP += 1\n",
    "        elif pred == pos_label and truth == neg_label:\n",
    "           FP += 1\n",
    "        elif truth == pred == neg_label:\n",
    "           TN += 1\n",
    "        elif pred == neg_label and truth == pos_label:\n",
    "           FN += 1\n",
    "\n",
    "    precision = TP / (TP + FP)\n",
    "    sensitivity = TP / (TP + FN)\n",
    "    \n",
    "    return {\n",
    "        'true_pos': TP,\n",
    "        'false_pos': FP,\n",
    "        'false_neg': FN,\n",
    "        'true_neg': TN,\n",
    "        'precision': precision,\n",
    "        'sensitivity': sensitivity,\n",
    "        'f1': (2 * (precision * sensitivity)) / (precision + sensitivity)\n",
    "    }\n",
    "\n",
    "score = evaluate(y_test, predictions, pos_label=-1, neg_label=1)"
   ]
  },
  {
   "cell_type": "markdown",
   "id": "93596516",
   "metadata": {
    "papermill": {
     "duration": 0.032708,
     "end_time": "2021-04-04T23:31:39.672273",
     "exception": false,
     "start_time": "2021-04-04T23:31:39.639565",
     "status": "completed"
    },
    "tags": []
   },
   "source": [
    "# Report"
   ]
  },
  {
   "cell_type": "code",
   "execution_count": 28,
   "id": "bea5fba1",
   "metadata": {
    "execution": {
     "iopub.execute_input": "2021-04-04T23:31:39.762133Z",
     "iopub.status.busy": "2021-04-04T23:31:39.760330Z",
     "iopub.status.idle": "2021-04-04T23:31:39.765284Z",
     "shell.execute_reply": "2021-04-04T23:31:39.764726Z"
    },
    "papermill": {
     "duration": 0.052777,
     "end_time": "2021-04-04T23:31:39.765414",
     "exception": false,
     "start_time": "2021-04-04T23:31:39.712637",
     "status": "completed"
    },
    "tags": []
   },
   "outputs": [],
   "source": [
    "import csv\n",
    "\n",
    "\n",
    "dataset_config_name = DATASET_CONFIG_PATH.split('/')[-1].split('.')[0]\n",
    "model_config_name = MODEL_CONFIG_PATH.split('/')[-1].split('.')[0]\n",
    "configuration = f\"dataset_{dataset_config_name}-model_{model_config_name}\"\n",
    "\n",
    "with open('results.csv', 'a') as f:\n",
    "    report = dict({'configuration': configuration}, **score)\n",
    "    writer = csv.DictWriter(f, report.keys())\n",
    "    writer.writerow(report)"
   ]
  }
 ],
 "metadata": {
  "celltoolbar": "Tags",
  "kernelspec": {
   "display_name": "Python 3",
   "language": "python",
   "name": "python3"
  },
  "language_info": {
   "codemirror_mode": {
    "name": "ipython",
    "version": 3
   },
   "file_extension": ".py",
   "mimetype": "text/x-python",
   "name": "python",
   "nbconvert_exporter": "python",
   "pygments_lexer": "ipython3",
   "version": "3.9.1"
  },
  "papermill": {
   "default_parameters": {},
   "duration": 5.866884,
   "end_time": "2021-04-04T23:31:40.512856",
   "environment_variables": {},
   "exception": null,
   "input_path": "main.ipynb",
   "output_path": "runs/dataset_000145-model_000002.ipynb",
   "parameters": {
    "DATASET_CONFIG_PATH": "config/dataset/000145.json",
    "MODEL_CONFIG_PATH": "config/model/000002.json",
    "PROFILE_REPORTING": false
   },
   "start_time": "2021-04-04T23:31:34.645972",
   "version": "2.3.3"
  }
 },
 "nbformat": 4,
 "nbformat_minor": 5
}