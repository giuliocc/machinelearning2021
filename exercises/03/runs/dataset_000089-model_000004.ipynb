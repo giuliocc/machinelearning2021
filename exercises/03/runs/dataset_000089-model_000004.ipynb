{
 "cells": [
  {
   "cell_type": "markdown",
   "id": "51c71c25",
   "metadata": {
    "papermill": {
     "duration": 0.030396,
     "end_time": "2021-04-04T23:08:44.127842",
     "exception": false,
     "start_time": "2021-04-04T23:08:44.097446",
     "status": "completed"
    },
    "tags": []
   },
   "source": [
    "# Parametrizing"
   ]
  },
  {
   "cell_type": "code",
   "execution_count": 1,
   "id": "3b136394",
   "metadata": {
    "execution": {
     "iopub.execute_input": "2021-04-04T23:08:44.178398Z",
     "iopub.status.busy": "2021-04-04T23:08:44.174452Z",
     "iopub.status.idle": "2021-04-04T23:08:44.180752Z",
     "shell.execute_reply": "2021-04-04T23:08:44.181832Z"
    },
    "papermill": {
     "duration": 0.034738,
     "end_time": "2021-04-04T23:08:44.182162",
     "exception": false,
     "start_time": "2021-04-04T23:08:44.147424",
     "status": "completed"
    },
    "tags": [
     "parameters"
    ]
   },
   "outputs": [],
   "source": [
    "DATASET_CONFIG_PATH = 'config/dataset/kc1_001.json'\n",
    "MODEL_CONFIG_PATH = 'config/model/knndd_001.json'\n",
    "PROFILE_REPORTING = False"
   ]
  },
  {
   "cell_type": "code",
   "execution_count": 2,
   "id": "89223fd1",
   "metadata": {
    "execution": {
     "iopub.execute_input": "2021-04-04T23:08:44.229176Z",
     "iopub.status.busy": "2021-04-04T23:08:44.227875Z",
     "iopub.status.idle": "2021-04-04T23:08:44.230768Z",
     "shell.execute_reply": "2021-04-04T23:08:44.231440Z"
    },
    "papermill": {
     "duration": 0.028053,
     "end_time": "2021-04-04T23:08:44.231657",
     "exception": false,
     "start_time": "2021-04-04T23:08:44.203604",
     "status": "completed"
    },
    "tags": [
     "injected-parameters"
    ]
   },
   "outputs": [],
   "source": [
    "# Parameters\n",
    "DATASET_CONFIG_PATH = \"config/dataset/000089.json\"\n",
    "MODEL_CONFIG_PATH = \"config/model/000004.json\"\n",
    "PROFILE_REPORTING = False\n"
   ]
  },
  {
   "cell_type": "code",
   "execution_count": 3,
   "id": "b80f2a10",
   "metadata": {
    "execution": {
     "iopub.execute_input": "2021-04-04T23:08:44.283221Z",
     "iopub.status.busy": "2021-04-04T23:08:44.282328Z",
     "iopub.status.idle": "2021-04-04T23:08:44.285862Z",
     "shell.execute_reply": "2021-04-04T23:08:44.286617Z"
    },
    "papermill": {
     "duration": 0.029097,
     "end_time": "2021-04-04T23:08:44.286860",
     "exception": false,
     "start_time": "2021-04-04T23:08:44.257763",
     "status": "completed"
    },
    "tags": []
   },
   "outputs": [],
   "source": [
    "import json\n",
    "\n",
    "\n",
    "with open(DATASET_CONFIG_PATH) as f:\n",
    "    dataset_config = json.load(f)\n",
    "\n",
    "with open(MODEL_CONFIG_PATH) as f:\n",
    "    model_config = json.load(f)"
   ]
  },
  {
   "cell_type": "markdown",
   "id": "9a4b0e2d",
   "metadata": {
    "papermill": {
     "duration": 0.019283,
     "end_time": "2021-04-04T23:08:44.330361",
     "exception": false,
     "start_time": "2021-04-04T23:08:44.311078",
     "status": "completed"
    },
    "tags": []
   },
   "source": [
    "# Profiling"
   ]
  },
  {
   "cell_type": "code",
   "execution_count": 4,
   "id": "a3e0289b",
   "metadata": {
    "execution": {
     "iopub.execute_input": "2021-04-04T23:08:44.380172Z",
     "iopub.status.busy": "2021-04-04T23:08:44.379309Z",
     "iopub.status.idle": "2021-04-04T23:08:45.645150Z",
     "shell.execute_reply": "2021-04-04T23:08:45.644295Z"
    },
    "papermill": {
     "duration": 1.291244,
     "end_time": "2021-04-04T23:08:45.645317",
     "exception": false,
     "start_time": "2021-04-04T23:08:44.354073",
     "status": "completed"
    },
    "tags": []
   },
   "outputs": [],
   "source": [
    "import pandas as pd\n",
    "from pandas_profiling import ProfileReport"
   ]
  },
  {
   "cell_type": "code",
   "execution_count": 5,
   "id": "ee6c0666",
   "metadata": {
    "execution": {
     "iopub.execute_input": "2021-04-04T23:08:45.703270Z",
     "iopub.status.busy": "2021-04-04T23:08:45.701363Z",
     "iopub.status.idle": "2021-04-04T23:08:45.713380Z",
     "shell.execute_reply": "2021-04-04T23:08:45.712419Z"
    },
    "papermill": {
     "duration": 0.037752,
     "end_time": "2021-04-04T23:08:45.713561",
     "exception": false,
     "start_time": "2021-04-04T23:08:45.675809",
     "status": "completed"
    },
    "tags": []
   },
   "outputs": [],
   "source": [
    "df = pd.read_csv(dataset_config['dataset_path'])"
   ]
  },
  {
   "cell_type": "code",
   "execution_count": 6,
   "id": "7eca6c4a",
   "metadata": {
    "execution": {
     "iopub.execute_input": "2021-04-04T23:08:45.786069Z",
     "iopub.status.busy": "2021-04-04T23:08:45.779978Z",
     "iopub.status.idle": "2021-04-04T23:08:45.790540Z",
     "shell.execute_reply": "2021-04-04T23:08:45.791397Z"
    },
    "papermill": {
     "duration": 0.050502,
     "end_time": "2021-04-04T23:08:45.791632",
     "exception": false,
     "start_time": "2021-04-04T23:08:45.741130",
     "status": "completed"
    },
    "tags": []
   },
   "outputs": [
    {
     "name": "stdout",
     "output_type": "stream",
     "text": [
      "<class 'pandas.core.frame.DataFrame'>\n",
      "RangeIndex: 498 entries, 0 to 497\n",
      "Data columns (total 23 columns):\n",
      " #   Column             Non-Null Count  Dtype  \n",
      "---  ------             --------------  -----  \n",
      " 0   id                 498 non-null    int64  \n",
      " 1   loc                498 non-null    float64\n",
      " 2   v(g)               498 non-null    float64\n",
      " 3   ev(g)              498 non-null    float64\n",
      " 4   iv(g)              498 non-null    float64\n",
      " 5   n                  498 non-null    float64\n",
      " 6   v                  498 non-null    float64\n",
      " 7   l                  498 non-null    float64\n",
      " 8   d                  498 non-null    float64\n",
      " 9   i                  498 non-null    float64\n",
      " 10  e                  498 non-null    float64\n",
      " 11  b                  498 non-null    float64\n",
      " 12  t                  498 non-null    float64\n",
      " 13  lOCode             498 non-null    int64  \n",
      " 14  lOComment          498 non-null    int64  \n",
      " 15  lOBlank            498 non-null    int64  \n",
      " 16  locCodeAndComment  498 non-null    int64  \n",
      " 17  uniq_Op            498 non-null    float64\n",
      " 18  uniq_Opnd          498 non-null    float64\n",
      " 19  total_Op           498 non-null    float64\n",
      " 20  total_Opnd         498 non-null    float64\n",
      " 21  branchCount        498 non-null    float64\n",
      " 22  defects            498 non-null    bool   \n",
      "dtypes: bool(1), float64(17), int64(5)\n",
      "memory usage: 86.2 KB\n"
     ]
    }
   ],
   "source": [
    "df.info()"
   ]
  },
  {
   "cell_type": "code",
   "execution_count": 7,
   "id": "3638e5e8",
   "metadata": {
    "execution": {
     "iopub.execute_input": "2021-04-04T23:08:45.846861Z",
     "iopub.status.busy": "2021-04-04T23:08:45.845786Z",
     "iopub.status.idle": "2021-04-04T23:08:45.872378Z",
     "shell.execute_reply": "2021-04-04T23:08:45.871518Z"
    },
    "papermill": {
     "duration": 0.056593,
     "end_time": "2021-04-04T23:08:45.872569",
     "exception": false,
     "start_time": "2021-04-04T23:08:45.815976",
     "status": "completed"
    },
    "tags": []
   },
   "outputs": [
    {
     "data": {
      "text/html": [
       "<div>\n",
       "<style scoped>\n",
       "    .dataframe tbody tr th:only-of-type {\n",
       "        vertical-align: middle;\n",
       "    }\n",
       "\n",
       "    .dataframe tbody tr th {\n",
       "        vertical-align: top;\n",
       "    }\n",
       "\n",
       "    .dataframe thead th {\n",
       "        text-align: right;\n",
       "    }\n",
       "</style>\n",
       "<table border=\"1\" class=\"dataframe\">\n",
       "  <thead>\n",
       "    <tr style=\"text-align: right;\">\n",
       "      <th></th>\n",
       "      <th>id</th>\n",
       "      <th>loc</th>\n",
       "      <th>v(g)</th>\n",
       "      <th>ev(g)</th>\n",
       "      <th>iv(g)</th>\n",
       "      <th>n</th>\n",
       "      <th>v</th>\n",
       "      <th>l</th>\n",
       "      <th>d</th>\n",
       "      <th>i</th>\n",
       "      <th>...</th>\n",
       "      <th>lOCode</th>\n",
       "      <th>lOComment</th>\n",
       "      <th>lOBlank</th>\n",
       "      <th>locCodeAndComment</th>\n",
       "      <th>uniq_Op</th>\n",
       "      <th>uniq_Opnd</th>\n",
       "      <th>total_Op</th>\n",
       "      <th>total_Opnd</th>\n",
       "      <th>branchCount</th>\n",
       "      <th>defects</th>\n",
       "    </tr>\n",
       "  </thead>\n",
       "  <tbody>\n",
       "    <tr>\n",
       "      <th>0</th>\n",
       "      <td>1</td>\n",
       "      <td>1.1</td>\n",
       "      <td>1.4</td>\n",
       "      <td>1.4</td>\n",
       "      <td>1.4</td>\n",
       "      <td>1.3</td>\n",
       "      <td>1.30</td>\n",
       "      <td>1.30</td>\n",
       "      <td>1.30</td>\n",
       "      <td>1.30</td>\n",
       "      <td>...</td>\n",
       "      <td>2</td>\n",
       "      <td>2</td>\n",
       "      <td>2</td>\n",
       "      <td>2</td>\n",
       "      <td>1.2</td>\n",
       "      <td>1.2</td>\n",
       "      <td>1.2</td>\n",
       "      <td>1.2</td>\n",
       "      <td>1.4</td>\n",
       "      <td>False</td>\n",
       "    </tr>\n",
       "    <tr>\n",
       "      <th>1</th>\n",
       "      <td>2</td>\n",
       "      <td>1.0</td>\n",
       "      <td>1.0</td>\n",
       "      <td>1.0</td>\n",
       "      <td>1.0</td>\n",
       "      <td>1.0</td>\n",
       "      <td>1.00</td>\n",
       "      <td>1.00</td>\n",
       "      <td>1.00</td>\n",
       "      <td>1.00</td>\n",
       "      <td>...</td>\n",
       "      <td>1</td>\n",
       "      <td>1</td>\n",
       "      <td>1</td>\n",
       "      <td>1</td>\n",
       "      <td>1.0</td>\n",
       "      <td>1.0</td>\n",
       "      <td>1.0</td>\n",
       "      <td>1.0</td>\n",
       "      <td>1.0</td>\n",
       "      <td>True</td>\n",
       "    </tr>\n",
       "    <tr>\n",
       "      <th>2</th>\n",
       "      <td>3</td>\n",
       "      <td>24.0</td>\n",
       "      <td>5.0</td>\n",
       "      <td>1.0</td>\n",
       "      <td>3.0</td>\n",
       "      <td>63.0</td>\n",
       "      <td>309.13</td>\n",
       "      <td>0.11</td>\n",
       "      <td>9.50</td>\n",
       "      <td>32.54</td>\n",
       "      <td>...</td>\n",
       "      <td>1</td>\n",
       "      <td>0</td>\n",
       "      <td>6</td>\n",
       "      <td>0</td>\n",
       "      <td>15.0</td>\n",
       "      <td>15.0</td>\n",
       "      <td>44.0</td>\n",
       "      <td>19.0</td>\n",
       "      <td>9.0</td>\n",
       "      <td>False</td>\n",
       "    </tr>\n",
       "    <tr>\n",
       "      <th>3</th>\n",
       "      <td>4</td>\n",
       "      <td>20.0</td>\n",
       "      <td>4.0</td>\n",
       "      <td>4.0</td>\n",
       "      <td>2.0</td>\n",
       "      <td>47.0</td>\n",
       "      <td>215.49</td>\n",
       "      <td>0.06</td>\n",
       "      <td>16.00</td>\n",
       "      <td>13.47</td>\n",
       "      <td>...</td>\n",
       "      <td>0</td>\n",
       "      <td>0</td>\n",
       "      <td>3</td>\n",
       "      <td>0</td>\n",
       "      <td>16.0</td>\n",
       "      <td>8.0</td>\n",
       "      <td>31.0</td>\n",
       "      <td>16.0</td>\n",
       "      <td>7.0</td>\n",
       "      <td>False</td>\n",
       "    </tr>\n",
       "    <tr>\n",
       "      <th>4</th>\n",
       "      <td>5</td>\n",
       "      <td>24.0</td>\n",
       "      <td>6.0</td>\n",
       "      <td>6.0</td>\n",
       "      <td>2.0</td>\n",
       "      <td>72.0</td>\n",
       "      <td>346.13</td>\n",
       "      <td>0.06</td>\n",
       "      <td>17.33</td>\n",
       "      <td>19.97</td>\n",
       "      <td>...</td>\n",
       "      <td>0</td>\n",
       "      <td>0</td>\n",
       "      <td>3</td>\n",
       "      <td>0</td>\n",
       "      <td>16.0</td>\n",
       "      <td>12.0</td>\n",
       "      <td>46.0</td>\n",
       "      <td>26.0</td>\n",
       "      <td>11.0</td>\n",
       "      <td>False</td>\n",
       "    </tr>\n",
       "  </tbody>\n",
       "</table>\n",
       "<p>5 rows × 23 columns</p>\n",
       "</div>"
      ],
      "text/plain": [
       "   id   loc  v(g)  ev(g)  iv(g)     n       v     l      d      i  ...  \\\n",
       "0   1   1.1   1.4    1.4    1.4   1.3    1.30  1.30   1.30   1.30  ...   \n",
       "1   2   1.0   1.0    1.0    1.0   1.0    1.00  1.00   1.00   1.00  ...   \n",
       "2   3  24.0   5.0    1.0    3.0  63.0  309.13  0.11   9.50  32.54  ...   \n",
       "3   4  20.0   4.0    4.0    2.0  47.0  215.49  0.06  16.00  13.47  ...   \n",
       "4   5  24.0   6.0    6.0    2.0  72.0  346.13  0.06  17.33  19.97  ...   \n",
       "\n",
       "   lOCode  lOComment  lOBlank  locCodeAndComment  uniq_Op  uniq_Opnd  \\\n",
       "0       2          2        2                  2      1.2        1.2   \n",
       "1       1          1        1                  1      1.0        1.0   \n",
       "2       1          0        6                  0     15.0       15.0   \n",
       "3       0          0        3                  0     16.0        8.0   \n",
       "4       0          0        3                  0     16.0       12.0   \n",
       "\n",
       "   total_Op  total_Opnd  branchCount  defects  \n",
       "0       1.2         1.2          1.4    False  \n",
       "1       1.0         1.0          1.0     True  \n",
       "2      44.0        19.0          9.0    False  \n",
       "3      31.0        16.0          7.0    False  \n",
       "4      46.0        26.0         11.0    False  \n",
       "\n",
       "[5 rows x 23 columns]"
      ]
     },
     "execution_count": 7,
     "metadata": {},
     "output_type": "execute_result"
    }
   ],
   "source": [
    "df.head()"
   ]
  },
  {
   "cell_type": "code",
   "execution_count": 8,
   "id": "733e95eb",
   "metadata": {
    "execution": {
     "iopub.execute_input": "2021-04-04T23:08:45.926461Z",
     "iopub.status.busy": "2021-04-04T23:08:45.925877Z",
     "iopub.status.idle": "2021-04-04T23:08:45.928313Z",
     "shell.execute_reply": "2021-04-04T23:08:45.928787Z"
    },
    "papermill": {
     "duration": 0.028828,
     "end_time": "2021-04-04T23:08:45.928931",
     "exception": false,
     "start_time": "2021-04-04T23:08:45.900103",
     "status": "completed"
    },
    "tags": []
   },
   "outputs": [],
   "source": [
    "del df['id']"
   ]
  },
  {
   "cell_type": "code",
   "execution_count": 9,
   "id": "6ff6f5b0",
   "metadata": {
    "execution": {
     "iopub.execute_input": "2021-04-04T23:08:45.979662Z",
     "iopub.status.busy": "2021-04-04T23:08:45.978955Z",
     "iopub.status.idle": "2021-04-04T23:08:45.981124Z",
     "shell.execute_reply": "2021-04-04T23:08:45.981848Z"
    },
    "papermill": {
     "duration": 0.028695,
     "end_time": "2021-04-04T23:08:45.982043",
     "exception": false,
     "start_time": "2021-04-04T23:08:45.953348",
     "status": "completed"
    },
    "tags": []
   },
   "outputs": [],
   "source": [
    "if PROFILE_REPORTING:\n",
    "    ProfileReport(df).to_widgets()"
   ]
  },
  {
   "cell_type": "markdown",
   "id": "1deaf3f0",
   "metadata": {
    "papermill": {
     "duration": 0.020927,
     "end_time": "2021-04-04T23:08:46.025494",
     "exception": false,
     "start_time": "2021-04-04T23:08:46.004567",
     "status": "completed"
    },
    "tags": []
   },
   "source": [
    "# Preprocess"
   ]
  },
  {
   "cell_type": "code",
   "execution_count": 10,
   "id": "1513e563",
   "metadata": {
    "execution": {
     "iopub.execute_input": "2021-04-04T23:08:46.073091Z",
     "iopub.status.busy": "2021-04-04T23:08:46.072131Z",
     "iopub.status.idle": "2021-04-04T23:08:46.075203Z",
     "shell.execute_reply": "2021-04-04T23:08:46.074399Z"
    },
    "papermill": {
     "duration": 0.028856,
     "end_time": "2021-04-04T23:08:46.075369",
     "exception": false,
     "start_time": "2021-04-04T23:08:46.046513",
     "status": "completed"
    },
    "tags": []
   },
   "outputs": [],
   "source": [
    "working_df = df.copy()"
   ]
  },
  {
   "cell_type": "code",
   "execution_count": 11,
   "id": "3b26d675",
   "metadata": {
    "execution": {
     "iopub.execute_input": "2021-04-04T23:08:46.132688Z",
     "iopub.status.busy": "2021-04-04T23:08:46.131933Z",
     "iopub.status.idle": "2021-04-04T23:08:46.134333Z",
     "shell.execute_reply": "2021-04-04T23:08:46.135092Z"
    },
    "papermill": {
     "duration": 0.031681,
     "end_time": "2021-04-04T23:08:46.135317",
     "exception": false,
     "start_time": "2021-04-04T23:08:46.103636",
     "status": "completed"
    },
    "tags": []
   },
   "outputs": [],
   "source": [
    "working_df['defects'] = working_df['defects'].replace([False, True], [0, 1])"
   ]
  },
  {
   "cell_type": "code",
   "execution_count": 12,
   "id": "eb48604f",
   "metadata": {
    "execution": {
     "iopub.execute_input": "2021-04-04T23:08:46.187753Z",
     "iopub.status.busy": "2021-04-04T23:08:46.186871Z",
     "iopub.status.idle": "2021-04-04T23:08:46.189432Z",
     "shell.execute_reply": "2021-04-04T23:08:46.190127Z"
    },
    "papermill": {
     "duration": 0.02881,
     "end_time": "2021-04-04T23:08:46.190324",
     "exception": false,
     "start_time": "2021-04-04T23:08:46.161514",
     "status": "completed"
    },
    "tags": []
   },
   "outputs": [],
   "source": [
    "for col in dataset_config['delete_columns']:\n",
    "    del working_df[col]"
   ]
  },
  {
   "cell_type": "code",
   "execution_count": 13,
   "id": "9a17bc29",
   "metadata": {
    "execution": {
     "iopub.execute_input": "2021-04-04T23:08:46.250553Z",
     "iopub.status.busy": "2021-04-04T23:08:46.249720Z",
     "iopub.status.idle": "2021-04-04T23:08:46.260511Z",
     "shell.execute_reply": "2021-04-04T23:08:46.261505Z"
    },
    "papermill": {
     "duration": 0.039699,
     "end_time": "2021-04-04T23:08:46.261741",
     "exception": false,
     "start_time": "2021-04-04T23:08:46.222042",
     "status": "completed"
    },
    "tags": []
   },
   "outputs": [],
   "source": [
    "working_df = working_df.drop_duplicates()"
   ]
  },
  {
   "cell_type": "markdown",
   "id": "a4d52ca6",
   "metadata": {
    "papermill": {
     "duration": 0.021569,
     "end_time": "2021-04-04T23:08:46.311673",
     "exception": false,
     "start_time": "2021-04-04T23:08:46.290104",
     "status": "completed"
    },
    "tags": []
   },
   "source": [
    "# Split"
   ]
  },
  {
   "cell_type": "code",
   "execution_count": 14,
   "id": "3e9ee4b5",
   "metadata": {
    "execution": {
     "iopub.execute_input": "2021-04-04T23:08:46.365659Z",
     "iopub.status.busy": "2021-04-04T23:08:46.364218Z",
     "iopub.status.idle": "2021-04-04T23:08:46.398551Z",
     "shell.execute_reply": "2021-04-04T23:08:46.397500Z"
    },
    "papermill": {
     "duration": 0.065335,
     "end_time": "2021-04-04T23:08:46.398750",
     "exception": false,
     "start_time": "2021-04-04T23:08:46.333415",
     "status": "completed"
    },
    "tags": []
   },
   "outputs": [],
   "source": [
    "from sklearn.model_selection import train_test_split"
   ]
  },
  {
   "cell_type": "code",
   "execution_count": 15,
   "id": "274004ce",
   "metadata": {
    "execution": {
     "iopub.execute_input": "2021-04-04T23:08:46.452766Z",
     "iopub.status.busy": "2021-04-04T23:08:46.452081Z",
     "iopub.status.idle": "2021-04-04T23:08:46.457473Z",
     "shell.execute_reply": "2021-04-04T23:08:46.458041Z"
    },
    "papermill": {
     "duration": 0.033653,
     "end_time": "2021-04-04T23:08:46.458207",
     "exception": false,
     "start_time": "2021-04-04T23:08:46.424554",
     "status": "completed"
    },
    "scrolled": true,
    "tags": []
   },
   "outputs": [],
   "source": [
    "inlier, outlier = working_df[working_df['defects'] == 0], working_df[working_df['defects'] == 1]"
   ]
  },
  {
   "cell_type": "code",
   "execution_count": 16,
   "id": "753c7b03",
   "metadata": {
    "execution": {
     "iopub.execute_input": "2021-04-04T23:08:46.509628Z",
     "iopub.status.busy": "2021-04-04T23:08:46.508643Z",
     "iopub.status.idle": "2021-04-04T23:08:46.514560Z",
     "shell.execute_reply": "2021-04-04T23:08:46.514016Z"
    },
    "papermill": {
     "duration": 0.032507,
     "end_time": "2021-04-04T23:08:46.514684",
     "exception": false,
     "start_time": "2021-04-04T23:08:46.482177",
     "status": "completed"
    },
    "tags": []
   },
   "outputs": [],
   "source": [
    "X_inlier = inlier.copy()\n",
    "y_inlier = X_inlier.pop('defects')\n",
    "X_outlier = outlier.copy()\n",
    "y_outlier = X_outlier.pop('defects')"
   ]
  },
  {
   "cell_type": "code",
   "execution_count": 17,
   "id": "2ba43193",
   "metadata": {
    "execution": {
     "iopub.execute_input": "2021-04-04T23:08:46.573368Z",
     "iopub.status.busy": "2021-04-04T23:08:46.572779Z",
     "iopub.status.idle": "2021-04-04T23:08:46.575893Z",
     "shell.execute_reply": "2021-04-04T23:08:46.576498Z"
    },
    "papermill": {
     "duration": 0.034463,
     "end_time": "2021-04-04T23:08:46.576686",
     "exception": false,
     "start_time": "2021-04-04T23:08:46.542223",
     "status": "completed"
    },
    "tags": []
   },
   "outputs": [],
   "source": [
    "test_size = dataset_config['test_size']\n",
    "random_state = dataset_config['random_state']\n",
    "\n",
    "X_inlier_train, X_inlier_test, y_inlier_train, y_inlier_test = train_test_split(\n",
    "    X_inlier,\n",
    "    y_inlier,\n",
    "    test_size=test_size,\n",
    "    random_state=random_state\n",
    ")"
   ]
  },
  {
   "cell_type": "code",
   "execution_count": 18,
   "id": "0b7582ca",
   "metadata": {
    "execution": {
     "iopub.execute_input": "2021-04-04T23:08:46.636591Z",
     "iopub.status.busy": "2021-04-04T23:08:46.635994Z",
     "iopub.status.idle": "2021-04-04T23:08:46.638460Z",
     "shell.execute_reply": "2021-04-04T23:08:46.639240Z"
    },
    "papermill": {
     "duration": 0.037483,
     "end_time": "2021-04-04T23:08:46.639441",
     "exception": false,
     "start_time": "2021-04-04T23:08:46.601958",
     "status": "completed"
    },
    "tags": []
   },
   "outputs": [],
   "source": [
    "test_outlier_size = dataset_config['test_outlier_size']\n",
    "if test_outlier_size > 0.0:\n",
    "    X_outlier_train, X_outlier_test, y_outlier_train, y_outlier_test = train_test_split(\n",
    "        X_outlier,\n",
    "        y_outlier,\n",
    "        test_size=test_outlier_size,\n",
    "        random_state=random_state\n",
    "    )\n",
    "else:\n",
    "    X_outlier_train, y_outlier_train = pd.DataFrame(columns=X_outlier.columns), pd.Series(dtype='int64')\n",
    "    X_outlier_test, y_outlier_test = X_outlier.copy(), y_outlier.copy()"
   ]
  },
  {
   "cell_type": "code",
   "execution_count": 19,
   "id": "c34363db",
   "metadata": {
    "execution": {
     "iopub.execute_input": "2021-04-04T23:08:46.697793Z",
     "iopub.status.busy": "2021-04-04T23:08:46.693102Z",
     "iopub.status.idle": "2021-04-04T23:08:46.699931Z",
     "shell.execute_reply": "2021-04-04T23:08:46.700691Z"
    },
    "papermill": {
     "duration": 0.037036,
     "end_time": "2021-04-04T23:08:46.700904",
     "exception": false,
     "start_time": "2021-04-04T23:08:46.663868",
     "status": "completed"
    },
    "tags": []
   },
   "outputs": [],
   "source": [
    "X_train, y_train = pd.concat([X_inlier_train, X_outlier_train], ignore_index=True), pd.concat([y_inlier_train, y_outlier_train], ignore_index=True)\n",
    "X_test, y_test = pd.concat([X_inlier_test, X_outlier_test], ignore_index=True), pd.concat([y_inlier_test, y_outlier_test], ignore_index=True)"
   ]
  },
  {
   "cell_type": "markdown",
   "id": "7cde7309",
   "metadata": {
    "papermill": {
     "duration": 0.032843,
     "end_time": "2021-04-04T23:08:46.763156",
     "exception": false,
     "start_time": "2021-04-04T23:08:46.730313",
     "status": "completed"
    },
    "tags": []
   },
   "source": [
    "# Model"
   ]
  },
  {
   "cell_type": "code",
   "execution_count": 20,
   "id": "2b12a415",
   "metadata": {
    "execution": {
     "iopub.execute_input": "2021-04-04T23:08:46.824405Z",
     "iopub.status.busy": "2021-04-04T23:08:46.823634Z",
     "iopub.status.idle": "2021-04-04T23:08:46.826210Z",
     "shell.execute_reply": "2021-04-04T23:08:46.826951Z"
    },
    "papermill": {
     "duration": 0.041047,
     "end_time": "2021-04-04T23:08:46.827167",
     "exception": false,
     "start_time": "2021-04-04T23:08:46.786120",
     "status": "completed"
    },
    "tags": []
   },
   "outputs": [],
   "source": [
    "from math import sqrt\n",
    "\n",
    "\n",
    "class KNNDataDescription:\n",
    "    def __init__(self, k=5, outlier_threshold=1.0):\n",
    "        self.k = k\n",
    "        self.outlier_threshold = outlier_threshold\n",
    "        self.X = []\n",
    "    \n",
    "    def fit(self, X):\n",
    "        self.X = [features.to_list() for index, features in X.iterrows()]\n",
    "\n",
    "    def predict(self, entries):\n",
    "        return [self.predict_entry(features.to_list()) for index, features in entries.iterrows()]\n",
    "    \n",
    "    def predict_entry(self, entry):\n",
    "        kth_neighbor, kth_distance = self.get_kth_neighbor(entry, self.k)\n",
    "        kth_kth_neighbor, kth_kth_distance = self.get_kth_neighbor(kth_neighbor, self.k + 1)\n",
    "\n",
    "        outlier_score = kth_distance / (kth_kth_distance + 0.000001)\n",
    "\n",
    "        return 1 if outlier_score < self.outlier_threshold else -1\n",
    "        \n",
    "    def euclidean_distance(self, features1, features2):\n",
    "        distance = 0.0\n",
    "        for feat1, feat2 in zip(features1, features2):\n",
    "            distance += (feat1 - feat2)**2\n",
    "                \n",
    "        return sqrt(distance)\n",
    "\n",
    "    def get_neighbors(self, entry, k):\n",
    "        distance_to_data_points = [\n",
    "            (data_point, self.euclidean_distance(entry, data_point))\n",
    "            for data_point in self.X\n",
    "        ]\n",
    "        sorted_by_distance = sorted(distance_to_data_points, key=lambda tup: tup[1])\n",
    "        neighbors = sorted_by_distance[:k]\n",
    "        return neighbors\n",
    "\n",
    "    def get_kth_neighbor(self, entry, k):\n",
    "        neighbors = self.get_neighbors(entry, k)\n",
    "        return neighbors[-1]\n"
   ]
  },
  {
   "cell_type": "code",
   "execution_count": 21,
   "id": "1fa9ec1c",
   "metadata": {
    "execution": {
     "iopub.execute_input": "2021-04-04T23:08:46.881260Z",
     "iopub.status.busy": "2021-04-04T23:08:46.880595Z",
     "iopub.status.idle": "2021-04-04T23:08:46.903987Z",
     "shell.execute_reply": "2021-04-04T23:08:46.904468Z"
    },
    "papermill": {
     "duration": 0.05097,
     "end_time": "2021-04-04T23:08:46.904613",
     "exception": false,
     "start_time": "2021-04-04T23:08:46.853643",
     "status": "completed"
    },
    "tags": []
   },
   "outputs": [],
   "source": [
    "from sklearn.svm import OneClassSVM\n",
    "\n",
    "\n",
    "models = {\n",
    "    'oneclasssvm': OneClassSVM,\n",
    "    'knndatadescription': KNNDataDescription,\n",
    "}"
   ]
  },
  {
   "cell_type": "code",
   "execution_count": 22,
   "id": "4d72a0b1",
   "metadata": {
    "execution": {
     "iopub.execute_input": "2021-04-04T23:08:46.959890Z",
     "iopub.status.busy": "2021-04-04T23:08:46.958628Z",
     "iopub.status.idle": "2021-04-04T23:08:46.962275Z",
     "shell.execute_reply": "2021-04-04T23:08:46.961540Z"
    },
    "papermill": {
     "duration": 0.034084,
     "end_time": "2021-04-04T23:08:46.962439",
     "exception": false,
     "start_time": "2021-04-04T23:08:46.928355",
     "status": "completed"
    },
    "scrolled": true,
    "tags": []
   },
   "outputs": [],
   "source": [
    "model_cls = models[model_config['model_type']]\n",
    "model = model_cls(**model_config['hyperparameters'])"
   ]
  },
  {
   "cell_type": "markdown",
   "id": "e00cff3b",
   "metadata": {
    "papermill": {
     "duration": 0.022621,
     "end_time": "2021-04-04T23:08:47.014854",
     "exception": false,
     "start_time": "2021-04-04T23:08:46.992233",
     "status": "completed"
    },
    "tags": []
   },
   "source": [
    "# Fit"
   ]
  },
  {
   "cell_type": "code",
   "execution_count": 23,
   "id": "8b2ded89",
   "metadata": {
    "execution": {
     "iopub.execute_input": "2021-04-04T23:08:47.067419Z",
     "iopub.status.busy": "2021-04-04T23:08:47.066798Z",
     "iopub.status.idle": "2021-04-04T23:08:47.077333Z",
     "shell.execute_reply": "2021-04-04T23:08:47.078039Z"
    },
    "papermill": {
     "duration": 0.040968,
     "end_time": "2021-04-04T23:08:47.078237",
     "exception": false,
     "start_time": "2021-04-04T23:08:47.037269",
     "status": "completed"
    },
    "tags": []
   },
   "outputs": [
    {
     "data": {
      "text/plain": [
       "OneClassSVM()"
      ]
     },
     "execution_count": 23,
     "metadata": {},
     "output_type": "execute_result"
    }
   ],
   "source": [
    "model.fit(X_train)"
   ]
  },
  {
   "cell_type": "markdown",
   "id": "f99999f7",
   "metadata": {
    "papermill": {
     "duration": 0.023076,
     "end_time": "2021-04-04T23:08:47.127610",
     "exception": false,
     "start_time": "2021-04-04T23:08:47.104534",
     "status": "completed"
    },
    "tags": []
   },
   "source": [
    "# Predict"
   ]
  },
  {
   "cell_type": "code",
   "execution_count": 24,
   "id": "6536fbf7",
   "metadata": {
    "execution": {
     "iopub.execute_input": "2021-04-04T23:08:47.183550Z",
     "iopub.status.busy": "2021-04-04T23:08:47.182048Z",
     "iopub.status.idle": "2021-04-04T23:08:47.190072Z",
     "shell.execute_reply": "2021-04-04T23:08:47.188969Z"
    },
    "papermill": {
     "duration": 0.039892,
     "end_time": "2021-04-04T23:08:47.190283",
     "exception": false,
     "start_time": "2021-04-04T23:08:47.150391",
     "status": "completed"
    },
    "tags": []
   },
   "outputs": [],
   "source": [
    "predictions = model.predict(X_test)"
   ]
  },
  {
   "cell_type": "markdown",
   "id": "aa1c9881",
   "metadata": {
    "papermill": {
     "duration": 0.023117,
     "end_time": "2021-04-04T23:08:47.240068",
     "exception": false,
     "start_time": "2021-04-04T23:08:47.216951",
     "status": "completed"
    },
    "tags": []
   },
   "source": [
    "# Evaluate"
   ]
  },
  {
   "cell_type": "code",
   "execution_count": 25,
   "id": "894f0f04",
   "metadata": {
    "execution": {
     "iopub.execute_input": "2021-04-04T23:08:47.291181Z",
     "iopub.status.busy": "2021-04-04T23:08:47.290366Z",
     "iopub.status.idle": "2021-04-04T23:08:47.293534Z",
     "shell.execute_reply": "2021-04-04T23:08:47.292905Z"
    },
    "papermill": {
     "duration": 0.030171,
     "end_time": "2021-04-04T23:08:47.293657",
     "exception": false,
     "start_time": "2021-04-04T23:08:47.263486",
     "status": "completed"
    },
    "tags": []
   },
   "outputs": [],
   "source": [
    "from sklearn.metrics import f1_score"
   ]
  },
  {
   "cell_type": "code",
   "execution_count": 26,
   "id": "211744d3",
   "metadata": {
    "execution": {
     "iopub.execute_input": "2021-04-04T23:08:47.346949Z",
     "iopub.status.busy": "2021-04-04T23:08:47.346253Z",
     "iopub.status.idle": "2021-04-04T23:08:47.351822Z",
     "shell.execute_reply": "2021-04-04T23:08:47.350986Z"
    },
    "papermill": {
     "duration": 0.03444,
     "end_time": "2021-04-04T23:08:47.352006",
     "exception": false,
     "start_time": "2021-04-04T23:08:47.317566",
     "status": "completed"
    },
    "tags": []
   },
   "outputs": [],
   "source": [
    "y_test = y_test.replace([0, 1], [1, -1])"
   ]
  },
  {
   "cell_type": "code",
   "execution_count": 27,
   "id": "d68a9204",
   "metadata": {
    "execution": {
     "iopub.execute_input": "2021-04-04T23:08:47.416039Z",
     "iopub.status.busy": "2021-04-04T23:08:47.414801Z",
     "iopub.status.idle": "2021-04-04T23:08:47.417747Z",
     "shell.execute_reply": "2021-04-04T23:08:47.417190Z"
    },
    "papermill": {
     "duration": 0.038568,
     "end_time": "2021-04-04T23:08:47.417870",
     "exception": false,
     "start_time": "2021-04-04T23:08:47.379302",
     "status": "completed"
    },
    "tags": []
   },
   "outputs": [],
   "source": [
    "def evaluate(truths, predictions, pos_label, neg_label):\n",
    "    TP = 0\n",
    "    FP = 0\n",
    "    TN = 0\n",
    "    FN = 0\n",
    "\n",
    "    for truth, pred in zip(truths, predictions): \n",
    "        if truth == pred == pos_label:\n",
    "           TP += 1\n",
    "        elif pred == pos_label and truth == neg_label:\n",
    "           FP += 1\n",
    "        elif truth == pred == neg_label:\n",
    "           TN += 1\n",
    "        elif pred == neg_label and truth == pos_label:\n",
    "           FN += 1\n",
    "\n",
    "    precision = TP / (TP + FP)\n",
    "    sensitivity = TP / (TP + FN)\n",
    "    \n",
    "    return {\n",
    "        'true_pos': TP,\n",
    "        'false_pos': FP,\n",
    "        'false_neg': FN,\n",
    "        'true_neg': TN,\n",
    "        'precision': precision,\n",
    "        'sensitivity': sensitivity,\n",
    "        'f1': (2 * (precision * sensitivity)) / (precision + sensitivity)\n",
    "    }\n",
    "\n",
    "score = evaluate(y_test, predictions, pos_label=-1, neg_label=1)"
   ]
  },
  {
   "cell_type": "markdown",
   "id": "93596516",
   "metadata": {
    "papermill": {
     "duration": 0.023147,
     "end_time": "2021-04-04T23:08:47.465792",
     "exception": false,
     "start_time": "2021-04-04T23:08:47.442645",
     "status": "completed"
    },
    "tags": []
   },
   "source": [
    "# Report"
   ]
  },
  {
   "cell_type": "code",
   "execution_count": 28,
   "id": "bea5fba1",
   "metadata": {
    "execution": {
     "iopub.execute_input": "2021-04-04T23:08:47.520193Z",
     "iopub.status.busy": "2021-04-04T23:08:47.519265Z",
     "iopub.status.idle": "2021-04-04T23:08:47.522279Z",
     "shell.execute_reply": "2021-04-04T23:08:47.522807Z"
    },
    "papermill": {
     "duration": 0.033708,
     "end_time": "2021-04-04T23:08:47.522962",
     "exception": false,
     "start_time": "2021-04-04T23:08:47.489254",
     "status": "completed"
    },
    "tags": []
   },
   "outputs": [],
   "source": [
    "import csv\n",
    "\n",
    "\n",
    "dataset_config_name = DATASET_CONFIG_PATH.split('/')[-1].split('.')[0]\n",
    "model_config_name = MODEL_CONFIG_PATH.split('/')[-1].split('.')[0]\n",
    "configuration = f\"dataset_{dataset_config_name}-model_{model_config_name}\"\n",
    "\n",
    "with open('results.csv', 'a') as f:\n",
    "    report = dict({'configuration': configuration}, **score)\n",
    "    writer = csv.DictWriter(f, report.keys())\n",
    "    writer.writerow(report)"
   ]
  }
 ],
 "metadata": {
  "celltoolbar": "Tags",
  "kernelspec": {
   "display_name": "Python 3",
   "language": "python",
   "name": "python3"
  },
  "language_info": {
   "codemirror_mode": {
    "name": "ipython",
    "version": 3
   },
   "file_extension": ".py",
   "mimetype": "text/x-python",
   "name": "python",
   "nbconvert_exporter": "python",
   "pygments_lexer": "ipython3",
   "version": "3.9.1"
  },
  "papermill": {
   "default_parameters": {},
   "duration": 4.815252,
   "end_time": "2021-04-04T23:08:48.163004",
   "environment_variables": {},
   "exception": null,
   "input_path": "main.ipynb",
   "output_path": "runs/dataset_000089-model_000004.ipynb",
   "parameters": {
    "DATASET_CONFIG_PATH": "config/dataset/000089.json",
    "MODEL_CONFIG_PATH": "config/model/000004.json",
    "PROFILE_REPORTING": false
   },
   "start_time": "2021-04-04T23:08:43.347752",
   "version": "2.3.3"
  }
 },
 "nbformat": 4,
 "nbformat_minor": 5
}