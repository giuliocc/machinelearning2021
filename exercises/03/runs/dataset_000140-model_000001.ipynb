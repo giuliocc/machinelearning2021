{
 "cells": [
  {
   "cell_type": "markdown",
   "id": "51c71c25",
   "metadata": {
    "papermill": {
     "duration": 0.021391,
     "end_time": "2021-04-04T23:29:18.862823",
     "exception": false,
     "start_time": "2021-04-04T23:29:18.841432",
     "status": "completed"
    },
    "tags": []
   },
   "source": [
    "# Parametrizing"
   ]
  },
  {
   "cell_type": "code",
   "execution_count": 1,
   "id": "3b136394",
   "metadata": {
    "execution": {
     "iopub.execute_input": "2021-04-04T23:29:18.918961Z",
     "iopub.status.busy": "2021-04-04T23:29:18.917801Z",
     "iopub.status.idle": "2021-04-04T23:29:18.923293Z",
     "shell.execute_reply": "2021-04-04T23:29:18.922305Z"
    },
    "papermill": {
     "duration": 0.03973,
     "end_time": "2021-04-04T23:29:18.923469",
     "exception": false,
     "start_time": "2021-04-04T23:29:18.883739",
     "status": "completed"
    },
    "tags": [
     "parameters"
    ]
   },
   "outputs": [],
   "source": [
    "DATASET_CONFIG_PATH = 'config/dataset/kc1_001.json'\n",
    "MODEL_CONFIG_PATH = 'config/model/knndd_001.json'\n",
    "PROFILE_REPORTING = False"
   ]
  },
  {
   "cell_type": "code",
   "execution_count": 2,
   "id": "54c88e56",
   "metadata": {
    "execution": {
     "iopub.execute_input": "2021-04-04T23:29:18.968274Z",
     "iopub.status.busy": "2021-04-04T23:29:18.967050Z",
     "iopub.status.idle": "2021-04-04T23:29:18.971558Z",
     "shell.execute_reply": "2021-04-04T23:29:18.972157Z"
    },
    "papermill": {
     "duration": 0.028208,
     "end_time": "2021-04-04T23:29:18.972353",
     "exception": false,
     "start_time": "2021-04-04T23:29:18.944145",
     "status": "completed"
    },
    "tags": [
     "injected-parameters"
    ]
   },
   "outputs": [],
   "source": [
    "# Parameters\n",
    "DATASET_CONFIG_PATH = \"config/dataset/000140.json\"\n",
    "MODEL_CONFIG_PATH = \"config/model/000001.json\"\n",
    "PROFILE_REPORTING = False\n"
   ]
  },
  {
   "cell_type": "code",
   "execution_count": 3,
   "id": "b80f2a10",
   "metadata": {
    "execution": {
     "iopub.execute_input": "2021-04-04T23:29:19.028850Z",
     "iopub.status.busy": "2021-04-04T23:29:19.028056Z",
     "iopub.status.idle": "2021-04-04T23:29:19.031257Z",
     "shell.execute_reply": "2021-04-04T23:29:19.031856Z"
    },
    "papermill": {
     "duration": 0.037998,
     "end_time": "2021-04-04T23:29:19.032042",
     "exception": false,
     "start_time": "2021-04-04T23:29:18.994044",
     "status": "completed"
    },
    "tags": []
   },
   "outputs": [],
   "source": [
    "import json\n",
    "\n",
    "\n",
    "with open(DATASET_CONFIG_PATH) as f:\n",
    "    dataset_config = json.load(f)\n",
    "\n",
    "with open(MODEL_CONFIG_PATH) as f:\n",
    "    model_config = json.load(f)"
   ]
  },
  {
   "cell_type": "markdown",
   "id": "9a4b0e2d",
   "metadata": {
    "papermill": {
     "duration": 0.022804,
     "end_time": "2021-04-04T23:29:19.075847",
     "exception": false,
     "start_time": "2021-04-04T23:29:19.053043",
     "status": "completed"
    },
    "tags": []
   },
   "source": [
    "# Profiling"
   ]
  },
  {
   "cell_type": "code",
   "execution_count": 4,
   "id": "a3e0289b",
   "metadata": {
    "execution": {
     "iopub.execute_input": "2021-04-04T23:29:19.129960Z",
     "iopub.status.busy": "2021-04-04T23:29:19.129105Z",
     "iopub.status.idle": "2021-04-04T23:29:21.127466Z",
     "shell.execute_reply": "2021-04-04T23:29:21.126829Z"
    },
    "papermill": {
     "duration": 2.030609,
     "end_time": "2021-04-04T23:29:21.127590",
     "exception": false,
     "start_time": "2021-04-04T23:29:19.096981",
     "status": "completed"
    },
    "tags": []
   },
   "outputs": [],
   "source": [
    "import pandas as pd\n",
    "from pandas_profiling import ProfileReport"
   ]
  },
  {
   "cell_type": "code",
   "execution_count": 5,
   "id": "ee6c0666",
   "metadata": {
    "execution": {
     "iopub.execute_input": "2021-04-04T23:29:21.175989Z",
     "iopub.status.busy": "2021-04-04T23:29:21.175355Z",
     "iopub.status.idle": "2021-04-04T23:29:21.185294Z",
     "shell.execute_reply": "2021-04-04T23:29:21.184702Z"
    },
    "papermill": {
     "duration": 0.035384,
     "end_time": "2021-04-04T23:29:21.185428",
     "exception": false,
     "start_time": "2021-04-04T23:29:21.150044",
     "status": "completed"
    },
    "tags": []
   },
   "outputs": [],
   "source": [
    "df = pd.read_csv(dataset_config['dataset_path'])"
   ]
  },
  {
   "cell_type": "code",
   "execution_count": 6,
   "id": "7eca6c4a",
   "metadata": {
    "execution": {
     "iopub.execute_input": "2021-04-04T23:29:21.261545Z",
     "iopub.status.busy": "2021-04-04T23:29:21.242583Z",
     "iopub.status.idle": "2021-04-04T23:29:21.264805Z",
     "shell.execute_reply": "2021-04-04T23:29:21.266633Z"
    },
    "papermill": {
     "duration": 0.057458,
     "end_time": "2021-04-04T23:29:21.267140",
     "exception": false,
     "start_time": "2021-04-04T23:29:21.209682",
     "status": "completed"
    },
    "tags": []
   },
   "outputs": [
    {
     "name": "stdout",
     "output_type": "stream",
     "text": [
      "<class 'pandas.core.frame.DataFrame'>\n",
      "RangeIndex: 498 entries, 0 to 497\n",
      "Data columns (total 23 columns):\n",
      " #   Column             Non-Null Count  Dtype  \n",
      "---  ------             --------------  -----  \n",
      " 0   id                 498 non-null    int64  \n",
      " 1   loc                498 non-null    float64\n",
      " 2   v(g)               498 non-null    float64\n",
      " 3   ev(g)              498 non-null    float64\n",
      " 4   iv(g)              498 non-null    float64\n",
      " 5   n                  498 non-null    float64\n",
      " 6   v                  498 non-null    float64\n",
      " 7   l                  498 non-null    float64\n",
      " 8   d                  498 non-null    float64\n",
      " 9   i                  498 non-null    float64\n",
      " 10  e                  498 non-null    float64\n",
      " 11  b                  498 non-null    float64\n",
      " 12  t                  498 non-null    float64\n",
      " 13  lOCode             498 non-null    int64  \n",
      " 14  lOComment          498 non-null    int64  \n",
      " 15  lOBlank            498 non-null    int64  \n",
      " 16  locCodeAndComment  498 non-null    int64  \n",
      " 17  uniq_Op            498 non-null    float64\n",
      " 18  uniq_Opnd          498 non-null    float64\n",
      " 19  total_Op           498 non-null    float64\n",
      " 20  total_Opnd         498 non-null    float64\n",
      " 21  branchCount        498 non-null    float64\n",
      " 22  defects            498 non-null    bool   \n",
      "dtypes: bool(1), float64(17), int64(5)\n",
      "memory usage: 86.2 KB\n"
     ]
    }
   ],
   "source": [
    "df.info()"
   ]
  },
  {
   "cell_type": "code",
   "execution_count": 7,
   "id": "3638e5e8",
   "metadata": {
    "execution": {
     "iopub.execute_input": "2021-04-04T23:29:21.322431Z",
     "iopub.status.busy": "2021-04-04T23:29:21.321440Z",
     "iopub.status.idle": "2021-04-04T23:29:21.349334Z",
     "shell.execute_reply": "2021-04-04T23:29:21.351840Z"
    },
    "papermill": {
     "duration": 0.06324,
     "end_time": "2021-04-04T23:29:21.352289",
     "exception": false,
     "start_time": "2021-04-04T23:29:21.289049",
     "status": "completed"
    },
    "tags": []
   },
   "outputs": [
    {
     "data": {
      "text/html": [
       "<div>\n",
       "<style scoped>\n",
       "    .dataframe tbody tr th:only-of-type {\n",
       "        vertical-align: middle;\n",
       "    }\n",
       "\n",
       "    .dataframe tbody tr th {\n",
       "        vertical-align: top;\n",
       "    }\n",
       "\n",
       "    .dataframe thead th {\n",
       "        text-align: right;\n",
       "    }\n",
       "</style>\n",
       "<table border=\"1\" class=\"dataframe\">\n",
       "  <thead>\n",
       "    <tr style=\"text-align: right;\">\n",
       "      <th></th>\n",
       "      <th>id</th>\n",
       "      <th>loc</th>\n",
       "      <th>v(g)</th>\n",
       "      <th>ev(g)</th>\n",
       "      <th>iv(g)</th>\n",
       "      <th>n</th>\n",
       "      <th>v</th>\n",
       "      <th>l</th>\n",
       "      <th>d</th>\n",
       "      <th>i</th>\n",
       "      <th>...</th>\n",
       "      <th>lOCode</th>\n",
       "      <th>lOComment</th>\n",
       "      <th>lOBlank</th>\n",
       "      <th>locCodeAndComment</th>\n",
       "      <th>uniq_Op</th>\n",
       "      <th>uniq_Opnd</th>\n",
       "      <th>total_Op</th>\n",
       "      <th>total_Opnd</th>\n",
       "      <th>branchCount</th>\n",
       "      <th>defects</th>\n",
       "    </tr>\n",
       "  </thead>\n",
       "  <tbody>\n",
       "    <tr>\n",
       "      <th>0</th>\n",
       "      <td>1</td>\n",
       "      <td>1.1</td>\n",
       "      <td>1.4</td>\n",
       "      <td>1.4</td>\n",
       "      <td>1.4</td>\n",
       "      <td>1.3</td>\n",
       "      <td>1.30</td>\n",
       "      <td>1.30</td>\n",
       "      <td>1.30</td>\n",
       "      <td>1.30</td>\n",
       "      <td>...</td>\n",
       "      <td>2</td>\n",
       "      <td>2</td>\n",
       "      <td>2</td>\n",
       "      <td>2</td>\n",
       "      <td>1.2</td>\n",
       "      <td>1.2</td>\n",
       "      <td>1.2</td>\n",
       "      <td>1.2</td>\n",
       "      <td>1.4</td>\n",
       "      <td>False</td>\n",
       "    </tr>\n",
       "    <tr>\n",
       "      <th>1</th>\n",
       "      <td>2</td>\n",
       "      <td>1.0</td>\n",
       "      <td>1.0</td>\n",
       "      <td>1.0</td>\n",
       "      <td>1.0</td>\n",
       "      <td>1.0</td>\n",
       "      <td>1.00</td>\n",
       "      <td>1.00</td>\n",
       "      <td>1.00</td>\n",
       "      <td>1.00</td>\n",
       "      <td>...</td>\n",
       "      <td>1</td>\n",
       "      <td>1</td>\n",
       "      <td>1</td>\n",
       "      <td>1</td>\n",
       "      <td>1.0</td>\n",
       "      <td>1.0</td>\n",
       "      <td>1.0</td>\n",
       "      <td>1.0</td>\n",
       "      <td>1.0</td>\n",
       "      <td>True</td>\n",
       "    </tr>\n",
       "    <tr>\n",
       "      <th>2</th>\n",
       "      <td>3</td>\n",
       "      <td>24.0</td>\n",
       "      <td>5.0</td>\n",
       "      <td>1.0</td>\n",
       "      <td>3.0</td>\n",
       "      <td>63.0</td>\n",
       "      <td>309.13</td>\n",
       "      <td>0.11</td>\n",
       "      <td>9.50</td>\n",
       "      <td>32.54</td>\n",
       "      <td>...</td>\n",
       "      <td>1</td>\n",
       "      <td>0</td>\n",
       "      <td>6</td>\n",
       "      <td>0</td>\n",
       "      <td>15.0</td>\n",
       "      <td>15.0</td>\n",
       "      <td>44.0</td>\n",
       "      <td>19.0</td>\n",
       "      <td>9.0</td>\n",
       "      <td>False</td>\n",
       "    </tr>\n",
       "    <tr>\n",
       "      <th>3</th>\n",
       "      <td>4</td>\n",
       "      <td>20.0</td>\n",
       "      <td>4.0</td>\n",
       "      <td>4.0</td>\n",
       "      <td>2.0</td>\n",
       "      <td>47.0</td>\n",
       "      <td>215.49</td>\n",
       "      <td>0.06</td>\n",
       "      <td>16.00</td>\n",
       "      <td>13.47</td>\n",
       "      <td>...</td>\n",
       "      <td>0</td>\n",
       "      <td>0</td>\n",
       "      <td>3</td>\n",
       "      <td>0</td>\n",
       "      <td>16.0</td>\n",
       "      <td>8.0</td>\n",
       "      <td>31.0</td>\n",
       "      <td>16.0</td>\n",
       "      <td>7.0</td>\n",
       "      <td>False</td>\n",
       "    </tr>\n",
       "    <tr>\n",
       "      <th>4</th>\n",
       "      <td>5</td>\n",
       "      <td>24.0</td>\n",
       "      <td>6.0</td>\n",
       "      <td>6.0</td>\n",
       "      <td>2.0</td>\n",
       "      <td>72.0</td>\n",
       "      <td>346.13</td>\n",
       "      <td>0.06</td>\n",
       "      <td>17.33</td>\n",
       "      <td>19.97</td>\n",
       "      <td>...</td>\n",
       "      <td>0</td>\n",
       "      <td>0</td>\n",
       "      <td>3</td>\n",
       "      <td>0</td>\n",
       "      <td>16.0</td>\n",
       "      <td>12.0</td>\n",
       "      <td>46.0</td>\n",
       "      <td>26.0</td>\n",
       "      <td>11.0</td>\n",
       "      <td>False</td>\n",
       "    </tr>\n",
       "  </tbody>\n",
       "</table>\n",
       "<p>5 rows × 23 columns</p>\n",
       "</div>"
      ],
      "text/plain": [
       "   id   loc  v(g)  ev(g)  iv(g)     n       v     l      d      i  ...  \\\n",
       "0   1   1.1   1.4    1.4    1.4   1.3    1.30  1.30   1.30   1.30  ...   \n",
       "1   2   1.0   1.0    1.0    1.0   1.0    1.00  1.00   1.00   1.00  ...   \n",
       "2   3  24.0   5.0    1.0    3.0  63.0  309.13  0.11   9.50  32.54  ...   \n",
       "3   4  20.0   4.0    4.0    2.0  47.0  215.49  0.06  16.00  13.47  ...   \n",
       "4   5  24.0   6.0    6.0    2.0  72.0  346.13  0.06  17.33  19.97  ...   \n",
       "\n",
       "   lOCode  lOComment  lOBlank  locCodeAndComment  uniq_Op  uniq_Opnd  \\\n",
       "0       2          2        2                  2      1.2        1.2   \n",
       "1       1          1        1                  1      1.0        1.0   \n",
       "2       1          0        6                  0     15.0       15.0   \n",
       "3       0          0        3                  0     16.0        8.0   \n",
       "4       0          0        3                  0     16.0       12.0   \n",
       "\n",
       "   total_Op  total_Opnd  branchCount  defects  \n",
       "0       1.2         1.2          1.4    False  \n",
       "1       1.0         1.0          1.0     True  \n",
       "2      44.0        19.0          9.0    False  \n",
       "3      31.0        16.0          7.0    False  \n",
       "4      46.0        26.0         11.0    False  \n",
       "\n",
       "[5 rows x 23 columns]"
      ]
     },
     "execution_count": 7,
     "metadata": {},
     "output_type": "execute_result"
    }
   ],
   "source": [
    "df.head()"
   ]
  },
  {
   "cell_type": "code",
   "execution_count": 8,
   "id": "733e95eb",
   "metadata": {
    "execution": {
     "iopub.execute_input": "2021-04-04T23:29:21.419264Z",
     "iopub.status.busy": "2021-04-04T23:29:21.418198Z",
     "iopub.status.idle": "2021-04-04T23:29:21.421548Z",
     "shell.execute_reply": "2021-04-04T23:29:21.420770Z"
    },
    "papermill": {
     "duration": 0.042129,
     "end_time": "2021-04-04T23:29:21.421708",
     "exception": false,
     "start_time": "2021-04-04T23:29:21.379579",
     "status": "completed"
    },
    "tags": []
   },
   "outputs": [],
   "source": [
    "del df['id']"
   ]
  },
  {
   "cell_type": "code",
   "execution_count": 9,
   "id": "6ff6f5b0",
   "metadata": {
    "execution": {
     "iopub.execute_input": "2021-04-04T23:29:21.497927Z",
     "iopub.status.busy": "2021-04-04T23:29:21.495360Z",
     "iopub.status.idle": "2021-04-04T23:29:21.499183Z",
     "shell.execute_reply": "2021-04-04T23:29:21.500289Z"
    },
    "papermill": {
     "duration": 0.054879,
     "end_time": "2021-04-04T23:29:21.500858",
     "exception": false,
     "start_time": "2021-04-04T23:29:21.445979",
     "status": "completed"
    },
    "tags": []
   },
   "outputs": [],
   "source": [
    "if PROFILE_REPORTING:\n",
    "    ProfileReport(df).to_widgets()"
   ]
  },
  {
   "cell_type": "markdown",
   "id": "1deaf3f0",
   "metadata": {
    "papermill": {
     "duration": 0.059622,
     "end_time": "2021-04-04T23:29:21.635244",
     "exception": false,
     "start_time": "2021-04-04T23:29:21.575622",
     "status": "completed"
    },
    "tags": []
   },
   "source": [
    "# Preprocess"
   ]
  },
  {
   "cell_type": "code",
   "execution_count": 10,
   "id": "1513e563",
   "metadata": {
    "execution": {
     "iopub.execute_input": "2021-04-04T23:29:21.733132Z",
     "iopub.status.busy": "2021-04-04T23:29:21.732444Z",
     "iopub.status.idle": "2021-04-04T23:29:21.734167Z",
     "shell.execute_reply": "2021-04-04T23:29:21.734780Z"
    },
    "papermill": {
     "duration": 0.035574,
     "end_time": "2021-04-04T23:29:21.734925",
     "exception": false,
     "start_time": "2021-04-04T23:29:21.699351",
     "status": "completed"
    },
    "tags": []
   },
   "outputs": [],
   "source": [
    "working_df = df.copy()"
   ]
  },
  {
   "cell_type": "code",
   "execution_count": 11,
   "id": "3b26d675",
   "metadata": {
    "execution": {
     "iopub.execute_input": "2021-04-04T23:29:21.798931Z",
     "iopub.status.busy": "2021-04-04T23:29:21.798055Z",
     "iopub.status.idle": "2021-04-04T23:29:21.802411Z",
     "shell.execute_reply": "2021-04-04T23:29:21.803391Z"
    },
    "papermill": {
     "duration": 0.044493,
     "end_time": "2021-04-04T23:29:21.803854",
     "exception": false,
     "start_time": "2021-04-04T23:29:21.759361",
     "status": "completed"
    },
    "tags": []
   },
   "outputs": [],
   "source": [
    "working_df['defects'] = working_df['defects'].replace([False, True], [0, 1])"
   ]
  },
  {
   "cell_type": "code",
   "execution_count": 12,
   "id": "eb48604f",
   "metadata": {
    "execution": {
     "iopub.execute_input": "2021-04-04T23:29:21.915956Z",
     "iopub.status.busy": "2021-04-04T23:29:21.914655Z",
     "iopub.status.idle": "2021-04-04T23:29:21.918365Z",
     "shell.execute_reply": "2021-04-04T23:29:21.921772Z"
    },
    "papermill": {
     "duration": 0.079314,
     "end_time": "2021-04-04T23:29:21.922727",
     "exception": false,
     "start_time": "2021-04-04T23:29:21.843413",
     "status": "completed"
    },
    "tags": []
   },
   "outputs": [],
   "source": [
    "for col in dataset_config['delete_columns']:\n",
    "    del working_df[col]"
   ]
  },
  {
   "cell_type": "code",
   "execution_count": 13,
   "id": "9a17bc29",
   "metadata": {
    "execution": {
     "iopub.execute_input": "2021-04-04T23:29:22.058359Z",
     "iopub.status.busy": "2021-04-04T23:29:22.055326Z",
     "iopub.status.idle": "2021-04-04T23:29:22.067278Z",
     "shell.execute_reply": "2021-04-04T23:29:22.068834Z"
    },
    "papermill": {
     "duration": 0.091693,
     "end_time": "2021-04-04T23:29:22.069248",
     "exception": false,
     "start_time": "2021-04-04T23:29:21.977555",
     "status": "completed"
    },
    "tags": []
   },
   "outputs": [],
   "source": [
    "working_df = working_df.drop_duplicates()"
   ]
  },
  {
   "cell_type": "markdown",
   "id": "a4d52ca6",
   "metadata": {
    "papermill": {
     "duration": 0.035618,
     "end_time": "2021-04-04T23:29:22.135173",
     "exception": false,
     "start_time": "2021-04-04T23:29:22.099555",
     "status": "completed"
    },
    "tags": []
   },
   "source": [
    "# Split"
   ]
  },
  {
   "cell_type": "code",
   "execution_count": 14,
   "id": "3e9ee4b5",
   "metadata": {
    "execution": {
     "iopub.execute_input": "2021-04-04T23:29:22.257375Z",
     "iopub.status.busy": "2021-04-04T23:29:22.255582Z",
     "iopub.status.idle": "2021-04-04T23:29:22.399753Z",
     "shell.execute_reply": "2021-04-04T23:29:22.400792Z"
    },
    "papermill": {
     "duration": 0.222432,
     "end_time": "2021-04-04T23:29:22.400998",
     "exception": false,
     "start_time": "2021-04-04T23:29:22.178566",
     "status": "completed"
    },
    "tags": []
   },
   "outputs": [],
   "source": [
    "from sklearn.model_selection import train_test_split"
   ]
  },
  {
   "cell_type": "code",
   "execution_count": 15,
   "id": "274004ce",
   "metadata": {
    "execution": {
     "iopub.execute_input": "2021-04-04T23:29:22.508001Z",
     "iopub.status.busy": "2021-04-04T23:29:22.505634Z",
     "iopub.status.idle": "2021-04-04T23:29:22.527648Z",
     "shell.execute_reply": "2021-04-04T23:29:22.529081Z"
    },
    "papermill": {
     "duration": 0.080343,
     "end_time": "2021-04-04T23:29:22.529362",
     "exception": false,
     "start_time": "2021-04-04T23:29:22.449019",
     "status": "completed"
    },
    "scrolled": true,
    "tags": []
   },
   "outputs": [],
   "source": [
    "inlier, outlier = working_df[working_df['defects'] == 0], working_df[working_df['defects'] == 1]"
   ]
  },
  {
   "cell_type": "code",
   "execution_count": 16,
   "id": "753c7b03",
   "metadata": {
    "execution": {
     "iopub.execute_input": "2021-04-04T23:29:22.695233Z",
     "iopub.status.busy": "2021-04-04T23:29:22.694155Z",
     "iopub.status.idle": "2021-04-04T23:29:22.697421Z",
     "shell.execute_reply": "2021-04-04T23:29:22.699332Z"
    },
    "papermill": {
     "duration": 0.087009,
     "end_time": "2021-04-04T23:29:22.699798",
     "exception": false,
     "start_time": "2021-04-04T23:29:22.612789",
     "status": "completed"
    },
    "tags": []
   },
   "outputs": [],
   "source": [
    "X_inlier = inlier.copy()\n",
    "y_inlier = X_inlier.pop('defects')\n",
    "X_outlier = outlier.copy()\n",
    "y_outlier = X_outlier.pop('defects')"
   ]
  },
  {
   "cell_type": "code",
   "execution_count": 17,
   "id": "2ba43193",
   "metadata": {
    "execution": {
     "iopub.execute_input": "2021-04-04T23:29:22.827357Z",
     "iopub.status.busy": "2021-04-04T23:29:22.824354Z",
     "iopub.status.idle": "2021-04-04T23:29:22.836477Z",
     "shell.execute_reply": "2021-04-04T23:29:22.838948Z"
    },
    "papermill": {
     "duration": 0.090274,
     "end_time": "2021-04-04T23:29:22.840127",
     "exception": false,
     "start_time": "2021-04-04T23:29:22.749853",
     "status": "completed"
    },
    "tags": []
   },
   "outputs": [],
   "source": [
    "test_size = dataset_config['test_size']\n",
    "random_state = dataset_config['random_state']\n",
    "\n",
    "X_inlier_train, X_inlier_test, y_inlier_train, y_inlier_test = train_test_split(\n",
    "    X_inlier,\n",
    "    y_inlier,\n",
    "    test_size=test_size,\n",
    "    random_state=random_state\n",
    ")"
   ]
  },
  {
   "cell_type": "code",
   "execution_count": 18,
   "id": "0b7582ca",
   "metadata": {
    "execution": {
     "iopub.execute_input": "2021-04-04T23:29:22.970070Z",
     "iopub.status.busy": "2021-04-04T23:29:22.969148Z",
     "iopub.status.idle": "2021-04-04T23:29:22.972234Z",
     "shell.execute_reply": "2021-04-04T23:29:22.974607Z"
    },
    "papermill": {
     "duration": 0.062559,
     "end_time": "2021-04-04T23:29:22.975272",
     "exception": false,
     "start_time": "2021-04-04T23:29:22.912713",
     "status": "completed"
    },
    "tags": []
   },
   "outputs": [],
   "source": [
    "test_outlier_size = dataset_config['test_outlier_size']\n",
    "if test_outlier_size > 0.0:\n",
    "    X_outlier_train, X_outlier_test, y_outlier_train, y_outlier_test = train_test_split(\n",
    "        X_outlier,\n",
    "        y_outlier,\n",
    "        test_size=test_outlier_size,\n",
    "        random_state=random_state\n",
    "    )\n",
    "else:\n",
    "    X_outlier_train, y_outlier_train = pd.DataFrame(columns=X_outlier.columns), pd.Series(dtype='int64')\n",
    "    X_outlier_test, y_outlier_test = X_outlier.copy(), y_outlier.copy()"
   ]
  },
  {
   "cell_type": "code",
   "execution_count": 19,
   "id": "c34363db",
   "metadata": {
    "execution": {
     "iopub.execute_input": "2021-04-04T23:29:23.034598Z",
     "iopub.status.busy": "2021-04-04T23:29:23.033699Z",
     "iopub.status.idle": "2021-04-04T23:29:23.036944Z",
     "shell.execute_reply": "2021-04-04T23:29:23.036423Z"
    },
    "papermill": {
     "duration": 0.036951,
     "end_time": "2021-04-04T23:29:23.037066",
     "exception": false,
     "start_time": "2021-04-04T23:29:23.000115",
     "status": "completed"
    },
    "tags": []
   },
   "outputs": [],
   "source": [
    "X_train, y_train = pd.concat([X_inlier_train, X_outlier_train], ignore_index=True), pd.concat([y_inlier_train, y_outlier_train], ignore_index=True)\n",
    "X_test, y_test = pd.concat([X_inlier_test, X_outlier_test], ignore_index=True), pd.concat([y_inlier_test, y_outlier_test], ignore_index=True)"
   ]
  },
  {
   "cell_type": "markdown",
   "id": "7cde7309",
   "metadata": {
    "papermill": {
     "duration": 0.029221,
     "end_time": "2021-04-04T23:29:23.089585",
     "exception": false,
     "start_time": "2021-04-04T23:29:23.060364",
     "status": "completed"
    },
    "tags": []
   },
   "source": [
    "# Model"
   ]
  },
  {
   "cell_type": "code",
   "execution_count": 20,
   "id": "2b12a415",
   "metadata": {
    "execution": {
     "iopub.execute_input": "2021-04-04T23:29:23.182203Z",
     "iopub.status.busy": "2021-04-04T23:29:23.178722Z",
     "iopub.status.idle": "2021-04-04T23:29:23.193496Z",
     "shell.execute_reply": "2021-04-04T23:29:23.196431Z"
    },
    "papermill": {
     "duration": 0.07744,
     "end_time": "2021-04-04T23:29:23.197162",
     "exception": false,
     "start_time": "2021-04-04T23:29:23.119722",
     "status": "completed"
    },
    "tags": []
   },
   "outputs": [],
   "source": [
    "from math import sqrt\n",
    "\n",
    "\n",
    "class KNNDataDescription:\n",
    "    def __init__(self, k=5, outlier_threshold=1.0):\n",
    "        self.k = k\n",
    "        self.outlier_threshold = outlier_threshold\n",
    "        self.X = []\n",
    "    \n",
    "    def fit(self, X):\n",
    "        self.X = [features.to_list() for index, features in X.iterrows()]\n",
    "\n",
    "    def predict(self, entries):\n",
    "        return [self.predict_entry(features.to_list()) for index, features in entries.iterrows()]\n",
    "    \n",
    "    def predict_entry(self, entry):\n",
    "        kth_neighbor, kth_distance = self.get_kth_neighbor(entry, self.k)\n",
    "        kth_kth_neighbor, kth_kth_distance = self.get_kth_neighbor(kth_neighbor, self.k + 1)\n",
    "\n",
    "        outlier_score = kth_distance / (kth_kth_distance + 0.000001)\n",
    "\n",
    "        return 1 if outlier_score < self.outlier_threshold else -1\n",
    "        \n",
    "    def euclidean_distance(self, features1, features2):\n",
    "        distance = 0.0\n",
    "        for feat1, feat2 in zip(features1, features2):\n",
    "            distance += (feat1 - feat2)**2\n",
    "                \n",
    "        return sqrt(distance)\n",
    "\n",
    "    def get_neighbors(self, entry, k):\n",
    "        distance_to_data_points = [\n",
    "            (data_point, self.euclidean_distance(entry, data_point))\n",
    "            for data_point in self.X\n",
    "        ]\n",
    "        sorted_by_distance = sorted(distance_to_data_points, key=lambda tup: tup[1])\n",
    "        neighbors = sorted_by_distance[:k]\n",
    "        return neighbors\n",
    "\n",
    "    def get_kth_neighbor(self, entry, k):\n",
    "        neighbors = self.get_neighbors(entry, k)\n",
    "        return neighbors[-1]\n"
   ]
  },
  {
   "cell_type": "code",
   "execution_count": 21,
   "id": "1fa9ec1c",
   "metadata": {
    "execution": {
     "iopub.execute_input": "2021-04-04T23:29:23.336307Z",
     "iopub.status.busy": "2021-04-04T23:29:23.334390Z",
     "iopub.status.idle": "2021-04-04T23:29:23.392240Z",
     "shell.execute_reply": "2021-04-04T23:29:23.391023Z"
    },
    "papermill": {
     "duration": 0.125646,
     "end_time": "2021-04-04T23:29:23.392564",
     "exception": false,
     "start_time": "2021-04-04T23:29:23.266918",
     "status": "completed"
    },
    "tags": []
   },
   "outputs": [],
   "source": [
    "from sklearn.svm import OneClassSVM\n",
    "\n",
    "\n",
    "models = {\n",
    "    'oneclasssvm': OneClassSVM,\n",
    "    'knndatadescription': KNNDataDescription,\n",
    "}"
   ]
  },
  {
   "cell_type": "code",
   "execution_count": 22,
   "id": "4d72a0b1",
   "metadata": {
    "execution": {
     "iopub.execute_input": "2021-04-04T23:29:23.521096Z",
     "iopub.status.busy": "2021-04-04T23:29:23.517282Z",
     "iopub.status.idle": "2021-04-04T23:29:23.527878Z",
     "shell.execute_reply": "2021-04-04T23:29:23.526279Z"
    },
    "papermill": {
     "duration": 0.100944,
     "end_time": "2021-04-04T23:29:23.528201",
     "exception": false,
     "start_time": "2021-04-04T23:29:23.427257",
     "status": "completed"
    },
    "scrolled": true,
    "tags": []
   },
   "outputs": [],
   "source": [
    "model_cls = models[model_config['model_type']]\n",
    "model = model_cls(**model_config['hyperparameters'])"
   ]
  },
  {
   "cell_type": "markdown",
   "id": "e00cff3b",
   "metadata": {
    "papermill": {
     "duration": 0.061235,
     "end_time": "2021-04-04T23:29:23.656905",
     "exception": false,
     "start_time": "2021-04-04T23:29:23.595670",
     "status": "completed"
    },
    "tags": []
   },
   "source": [
    "# Fit"
   ]
  },
  {
   "cell_type": "code",
   "execution_count": 23,
   "id": "8b2ded89",
   "metadata": {
    "execution": {
     "iopub.execute_input": "2021-04-04T23:29:23.718362Z",
     "iopub.status.busy": "2021-04-04T23:29:23.717742Z",
     "iopub.status.idle": "2021-04-04T23:29:23.741317Z",
     "shell.execute_reply": "2021-04-04T23:29:23.742102Z"
    },
    "papermill": {
     "duration": 0.054897,
     "end_time": "2021-04-04T23:29:23.742381",
     "exception": false,
     "start_time": "2021-04-04T23:29:23.687484",
     "status": "completed"
    },
    "tags": []
   },
   "outputs": [],
   "source": [
    "model.fit(X_train)"
   ]
  },
  {
   "cell_type": "markdown",
   "id": "f99999f7",
   "metadata": {
    "papermill": {
     "duration": 0.033338,
     "end_time": "2021-04-04T23:29:23.804232",
     "exception": false,
     "start_time": "2021-04-04T23:29:23.770894",
     "status": "completed"
    },
    "tags": []
   },
   "source": [
    "# Predict"
   ]
  },
  {
   "cell_type": "code",
   "execution_count": 24,
   "id": "6536fbf7",
   "metadata": {
    "execution": {
     "iopub.execute_input": "2021-04-04T23:29:23.903653Z",
     "iopub.status.busy": "2021-04-04T23:29:23.865253Z",
     "iopub.status.idle": "2021-04-04T23:29:24.454277Z",
     "shell.execute_reply": "2021-04-04T23:29:24.453658Z"
    },
    "papermill": {
     "duration": 0.62503,
     "end_time": "2021-04-04T23:29:24.454400",
     "exception": false,
     "start_time": "2021-04-04T23:29:23.829370",
     "status": "completed"
    },
    "tags": []
   },
   "outputs": [],
   "source": [
    "predictions = model.predict(X_test)"
   ]
  },
  {
   "cell_type": "markdown",
   "id": "aa1c9881",
   "metadata": {
    "papermill": {
     "duration": 0.058219,
     "end_time": "2021-04-04T23:29:24.539183",
     "exception": false,
     "start_time": "2021-04-04T23:29:24.480964",
     "status": "completed"
    },
    "tags": []
   },
   "source": [
    "# Evaluate"
   ]
  },
  {
   "cell_type": "code",
   "execution_count": 25,
   "id": "894f0f04",
   "metadata": {
    "execution": {
     "iopub.execute_input": "2021-04-04T23:29:24.676161Z",
     "iopub.status.busy": "2021-04-04T23:29:24.672671Z",
     "iopub.status.idle": "2021-04-04T23:29:24.698213Z",
     "shell.execute_reply": "2021-04-04T23:29:24.695396Z"
    },
    "papermill": {
     "duration": 0.092925,
     "end_time": "2021-04-04T23:29:24.699133",
     "exception": false,
     "start_time": "2021-04-04T23:29:24.606208",
     "status": "completed"
    },
    "tags": []
   },
   "outputs": [],
   "source": [
    "from sklearn.metrics import f1_score"
   ]
  },
  {
   "cell_type": "code",
   "execution_count": 26,
   "id": "211744d3",
   "metadata": {
    "execution": {
     "iopub.execute_input": "2021-04-04T23:29:24.784727Z",
     "iopub.status.busy": "2021-04-04T23:29:24.782330Z",
     "iopub.status.idle": "2021-04-04T23:29:24.790230Z",
     "shell.execute_reply": "2021-04-04T23:29:24.790945Z"
    },
    "papermill": {
     "duration": 0.056327,
     "end_time": "2021-04-04T23:29:24.791193",
     "exception": false,
     "start_time": "2021-04-04T23:29:24.734866",
     "status": "completed"
    },
    "tags": []
   },
   "outputs": [],
   "source": [
    "y_test = y_test.replace([0, 1], [1, -1])"
   ]
  },
  {
   "cell_type": "code",
   "execution_count": 27,
   "id": "d68a9204",
   "metadata": {
    "execution": {
     "iopub.execute_input": "2021-04-04T23:29:24.942973Z",
     "iopub.status.busy": "2021-04-04T23:29:24.941649Z",
     "iopub.status.idle": "2021-04-04T23:29:24.947506Z",
     "shell.execute_reply": "2021-04-04T23:29:24.950301Z"
    },
    "papermill": {
     "duration": 0.096004,
     "end_time": "2021-04-04T23:29:24.951427",
     "exception": false,
     "start_time": "2021-04-04T23:29:24.855423",
     "status": "completed"
    },
    "tags": []
   },
   "outputs": [],
   "source": [
    "def evaluate(truths, predictions, pos_label, neg_label):\n",
    "    TP = 0\n",
    "    FP = 0\n",
    "    TN = 0\n",
    "    FN = 0\n",
    "\n",
    "    for truth, pred in zip(truths, predictions): \n",
    "        if truth == pred == pos_label:\n",
    "           TP += 1\n",
    "        elif pred == pos_label and truth == neg_label:\n",
    "           FP += 1\n",
    "        elif truth == pred == neg_label:\n",
    "           TN += 1\n",
    "        elif pred == neg_label and truth == pos_label:\n",
    "           FN += 1\n",
    "\n",
    "    precision = TP / (TP + FP)\n",
    "    sensitivity = TP / (TP + FN)\n",
    "    \n",
    "    return {\n",
    "        'true_pos': TP,\n",
    "        'false_pos': FP,\n",
    "        'false_neg': FN,\n",
    "        'true_neg': TN,\n",
    "        'precision': precision,\n",
    "        'sensitivity': sensitivity,\n",
    "        'f1': (2 * (precision * sensitivity)) / (precision + sensitivity)\n",
    "    }\n",
    "\n",
    "score = evaluate(y_test, predictions, pos_label=-1, neg_label=1)"
   ]
  },
  {
   "cell_type": "markdown",
   "id": "93596516",
   "metadata": {
    "papermill": {
     "duration": 0.040799,
     "end_time": "2021-04-04T23:29:25.051952",
     "exception": false,
     "start_time": "2021-04-04T23:29:25.011153",
     "status": "completed"
    },
    "tags": []
   },
   "source": [
    "# Report"
   ]
  },
  {
   "cell_type": "code",
   "execution_count": 28,
   "id": "bea5fba1",
   "metadata": {
    "execution": {
     "iopub.execute_input": "2021-04-04T23:29:25.171158Z",
     "iopub.status.busy": "2021-04-04T23:29:25.168782Z",
     "iopub.status.idle": "2021-04-04T23:29:25.175092Z",
     "shell.execute_reply": "2021-04-04T23:29:25.177533Z"
    },
    "papermill": {
     "duration": 0.070695,
     "end_time": "2021-04-04T23:29:25.178101",
     "exception": false,
     "start_time": "2021-04-04T23:29:25.107406",
     "status": "completed"
    },
    "tags": []
   },
   "outputs": [],
   "source": [
    "import csv\n",
    "\n",
    "\n",
    "dataset_config_name = DATASET_CONFIG_PATH.split('/')[-1].split('.')[0]\n",
    "model_config_name = MODEL_CONFIG_PATH.split('/')[-1].split('.')[0]\n",
    "configuration = f\"dataset_{dataset_config_name}-model_{model_config_name}\"\n",
    "\n",
    "with open('results.csv', 'a') as f:\n",
    "    report = dict({'configuration': configuration}, **score)\n",
    "    writer = csv.DictWriter(f, report.keys())\n",
    "    writer.writerow(report)"
   ]
  }
 ],
 "metadata": {
  "celltoolbar": "Tags",
  "kernelspec": {
   "display_name": "Python 3",
   "language": "python",
   "name": "python3"
  },
  "language_info": {
   "codemirror_mode": {
    "name": "ipython",
    "version": 3
   },
   "file_extension": ".py",
   "mimetype": "text/x-python",
   "name": "python",
   "nbconvert_exporter": "python",
   "pygments_lexer": "ipython3",
   "version": "3.9.1"
  },
  "papermill": {
   "default_parameters": {},
   "duration": 9.085863,
   "end_time": "2021-04-04T23:29:27.036089",
   "environment_variables": {},
   "exception": null,
   "input_path": "main.ipynb",
   "output_path": "runs/dataset_000140-model_000001.ipynb",
   "parameters": {
    "DATASET_CONFIG_PATH": "config/dataset/000140.json",
    "MODEL_CONFIG_PATH": "config/model/000001.json",
    "PROFILE_REPORTING": false
   },
   "start_time": "2021-04-04T23:29:17.950226",
   "version": "2.3.3"
  }
 },
 "nbformat": 4,
 "nbformat_minor": 5
}