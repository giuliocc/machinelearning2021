{
 "cells": [
  {
   "cell_type": "markdown",
   "id": "51c71c25",
   "metadata": {
    "papermill": {
     "duration": 0.023886,
     "end_time": "2021-04-04T23:22:02.549281",
     "exception": false,
     "start_time": "2021-04-04T23:22:02.525395",
     "status": "completed"
    },
    "tags": []
   },
   "source": [
    "# Parametrizing"
   ]
  },
  {
   "cell_type": "code",
   "execution_count": 1,
   "id": "3b136394",
   "metadata": {
    "execution": {
     "iopub.execute_input": "2021-04-04T23:22:02.608556Z",
     "iopub.status.busy": "2021-04-04T23:22:02.607252Z",
     "iopub.status.idle": "2021-04-04T23:22:02.610195Z",
     "shell.execute_reply": "2021-04-04T23:22:02.610747Z"
    },
    "papermill": {
     "duration": 0.04108,
     "end_time": "2021-04-04T23:22:02.611062",
     "exception": false,
     "start_time": "2021-04-04T23:22:02.569982",
     "status": "completed"
    },
    "tags": [
     "parameters"
    ]
   },
   "outputs": [],
   "source": [
    "DATASET_CONFIG_PATH = 'config/dataset/kc1_001.json'\n",
    "MODEL_CONFIG_PATH = 'config/model/knndd_001.json'\n",
    "PROFILE_REPORTING = False"
   ]
  },
  {
   "cell_type": "code",
   "execution_count": 2,
   "id": "8dd58650",
   "metadata": {
    "execution": {
     "iopub.execute_input": "2021-04-04T23:22:02.657732Z",
     "iopub.status.busy": "2021-04-04T23:22:02.657141Z",
     "iopub.status.idle": "2021-04-04T23:22:02.659032Z",
     "shell.execute_reply": "2021-04-04T23:22:02.659481Z"
    },
    "papermill": {
     "duration": 0.027029,
     "end_time": "2021-04-04T23:22:02.659618",
     "exception": false,
     "start_time": "2021-04-04T23:22:02.632589",
     "status": "completed"
    },
    "tags": [
     "injected-parameters"
    ]
   },
   "outputs": [],
   "source": [
    "# Parameters\n",
    "DATASET_CONFIG_PATH = \"config/dataset/000123.json\"\n",
    "MODEL_CONFIG_PATH = \"config/model/000004.json\"\n",
    "PROFILE_REPORTING = False\n"
   ]
  },
  {
   "cell_type": "code",
   "execution_count": 3,
   "id": "b80f2a10",
   "metadata": {
    "execution": {
     "iopub.execute_input": "2021-04-04T23:22:02.712506Z",
     "iopub.status.busy": "2021-04-04T23:22:02.711671Z",
     "iopub.status.idle": "2021-04-04T23:22:02.714608Z",
     "shell.execute_reply": "2021-04-04T23:22:02.715155Z"
    },
    "papermill": {
     "duration": 0.034755,
     "end_time": "2021-04-04T23:22:02.715319",
     "exception": false,
     "start_time": "2021-04-04T23:22:02.680564",
     "status": "completed"
    },
    "tags": []
   },
   "outputs": [],
   "source": [
    "import json\n",
    "\n",
    "\n",
    "with open(DATASET_CONFIG_PATH) as f:\n",
    "    dataset_config = json.load(f)\n",
    "\n",
    "with open(MODEL_CONFIG_PATH) as f:\n",
    "    model_config = json.load(f)"
   ]
  },
  {
   "cell_type": "markdown",
   "id": "9a4b0e2d",
   "metadata": {
    "papermill": {
     "duration": 0.024659,
     "end_time": "2021-04-04T23:22:02.762798",
     "exception": false,
     "start_time": "2021-04-04T23:22:02.738139",
     "status": "completed"
    },
    "tags": []
   },
   "source": [
    "# Profiling"
   ]
  },
  {
   "cell_type": "code",
   "execution_count": 4,
   "id": "a3e0289b",
   "metadata": {
    "execution": {
     "iopub.execute_input": "2021-04-04T23:22:02.814740Z",
     "iopub.status.busy": "2021-04-04T23:22:02.813989Z",
     "iopub.status.idle": "2021-04-04T23:22:04.329140Z",
     "shell.execute_reply": "2021-04-04T23:22:04.329660Z"
    },
    "papermill": {
     "duration": 1.54511,
     "end_time": "2021-04-04T23:22:04.329824",
     "exception": false,
     "start_time": "2021-04-04T23:22:02.784714",
     "status": "completed"
    },
    "tags": []
   },
   "outputs": [],
   "source": [
    "import pandas as pd\n",
    "from pandas_profiling import ProfileReport"
   ]
  },
  {
   "cell_type": "code",
   "execution_count": 5,
   "id": "ee6c0666",
   "metadata": {
    "execution": {
     "iopub.execute_input": "2021-04-04T23:22:04.468758Z",
     "iopub.status.busy": "2021-04-04T23:22:04.466035Z",
     "iopub.status.idle": "2021-04-04T23:22:04.483902Z",
     "shell.execute_reply": "2021-04-04T23:22:04.482941Z"
    },
    "papermill": {
     "duration": 0.110837,
     "end_time": "2021-04-04T23:22:04.484101",
     "exception": false,
     "start_time": "2021-04-04T23:22:04.373264",
     "status": "completed"
    },
    "tags": []
   },
   "outputs": [],
   "source": [
    "df = pd.read_csv(dataset_config['dataset_path'])"
   ]
  },
  {
   "cell_type": "code",
   "execution_count": 6,
   "id": "7eca6c4a",
   "metadata": {
    "execution": {
     "iopub.execute_input": "2021-04-04T23:22:04.612665Z",
     "iopub.status.busy": "2021-04-04T23:22:04.608059Z",
     "iopub.status.idle": "2021-04-04T23:22:04.639742Z",
     "shell.execute_reply": "2021-04-04T23:22:04.640806Z"
    },
    "papermill": {
     "duration": 0.094677,
     "end_time": "2021-04-04T23:22:04.641123",
     "exception": false,
     "start_time": "2021-04-04T23:22:04.546446",
     "status": "completed"
    },
    "tags": []
   },
   "outputs": [
    {
     "name": "stdout",
     "output_type": "stream",
     "text": [
      "<class 'pandas.core.frame.DataFrame'>\n",
      "RangeIndex: 498 entries, 0 to 497\n",
      "Data columns (total 23 columns):\n",
      " #   Column             Non-Null Count  Dtype  \n",
      "---  ------             --------------  -----  \n",
      " 0   id                 498 non-null    int64  \n",
      " 1   loc                498 non-null    float64\n",
      " 2   v(g)               498 non-null    float64\n",
      " 3   ev(g)              498 non-null    float64\n",
      " 4   iv(g)              498 non-null    float64\n",
      " 5   n                  498 non-null    float64\n",
      " 6   v                  498 non-null    float64\n",
      " 7   l                  498 non-null    float64\n",
      " 8   d                  498 non-null    float64\n",
      " 9   i                  498 non-null    float64\n",
      " 10  e                  498 non-null    float64\n",
      " 11  b                  498 non-null    float64\n",
      " 12  t                  498 non-null    float64\n",
      " 13  lOCode             498 non-null    int64  \n",
      " 14  lOComment          498 non-null    int64  \n",
      " 15  lOBlank            498 non-null    int64  \n",
      " 16  locCodeAndComment  498 non-null    int64  \n",
      " 17  uniq_Op            498 non-null    float64\n",
      " 18  uniq_Opnd          498 non-null    float64\n",
      " 19  total_Op           498 non-null    float64\n",
      " 20  total_Opnd         498 non-null    float64\n",
      " 21  branchCount        498 non-null    float64\n",
      " 22  defects            498 non-null    bool   \n",
      "dtypes: bool(1), float64(17), int64(5)\n",
      "memory usage: 86.2 KB\n"
     ]
    }
   ],
   "source": [
    "df.info()"
   ]
  },
  {
   "cell_type": "code",
   "execution_count": 7,
   "id": "3638e5e8",
   "metadata": {
    "execution": {
     "iopub.execute_input": "2021-04-04T23:22:04.711957Z",
     "iopub.status.busy": "2021-04-04T23:22:04.708797Z",
     "iopub.status.idle": "2021-04-04T23:22:04.765711Z",
     "shell.execute_reply": "2021-04-04T23:22:04.765158Z"
    },
    "papermill": {
     "duration": 0.094944,
     "end_time": "2021-04-04T23:22:04.765853",
     "exception": false,
     "start_time": "2021-04-04T23:22:04.670909",
     "status": "completed"
    },
    "tags": []
   },
   "outputs": [
    {
     "data": {
      "text/html": [
       "<div>\n",
       "<style scoped>\n",
       "    .dataframe tbody tr th:only-of-type {\n",
       "        vertical-align: middle;\n",
       "    }\n",
       "\n",
       "    .dataframe tbody tr th {\n",
       "        vertical-align: top;\n",
       "    }\n",
       "\n",
       "    .dataframe thead th {\n",
       "        text-align: right;\n",
       "    }\n",
       "</style>\n",
       "<table border=\"1\" class=\"dataframe\">\n",
       "  <thead>\n",
       "    <tr style=\"text-align: right;\">\n",
       "      <th></th>\n",
       "      <th>id</th>\n",
       "      <th>loc</th>\n",
       "      <th>v(g)</th>\n",
       "      <th>ev(g)</th>\n",
       "      <th>iv(g)</th>\n",
       "      <th>n</th>\n",
       "      <th>v</th>\n",
       "      <th>l</th>\n",
       "      <th>d</th>\n",
       "      <th>i</th>\n",
       "      <th>...</th>\n",
       "      <th>lOCode</th>\n",
       "      <th>lOComment</th>\n",
       "      <th>lOBlank</th>\n",
       "      <th>locCodeAndComment</th>\n",
       "      <th>uniq_Op</th>\n",
       "      <th>uniq_Opnd</th>\n",
       "      <th>total_Op</th>\n",
       "      <th>total_Opnd</th>\n",
       "      <th>branchCount</th>\n",
       "      <th>defects</th>\n",
       "    </tr>\n",
       "  </thead>\n",
       "  <tbody>\n",
       "    <tr>\n",
       "      <th>0</th>\n",
       "      <td>1</td>\n",
       "      <td>1.1</td>\n",
       "      <td>1.4</td>\n",
       "      <td>1.4</td>\n",
       "      <td>1.4</td>\n",
       "      <td>1.3</td>\n",
       "      <td>1.30</td>\n",
       "      <td>1.30</td>\n",
       "      <td>1.30</td>\n",
       "      <td>1.30</td>\n",
       "      <td>...</td>\n",
       "      <td>2</td>\n",
       "      <td>2</td>\n",
       "      <td>2</td>\n",
       "      <td>2</td>\n",
       "      <td>1.2</td>\n",
       "      <td>1.2</td>\n",
       "      <td>1.2</td>\n",
       "      <td>1.2</td>\n",
       "      <td>1.4</td>\n",
       "      <td>False</td>\n",
       "    </tr>\n",
       "    <tr>\n",
       "      <th>1</th>\n",
       "      <td>2</td>\n",
       "      <td>1.0</td>\n",
       "      <td>1.0</td>\n",
       "      <td>1.0</td>\n",
       "      <td>1.0</td>\n",
       "      <td>1.0</td>\n",
       "      <td>1.00</td>\n",
       "      <td>1.00</td>\n",
       "      <td>1.00</td>\n",
       "      <td>1.00</td>\n",
       "      <td>...</td>\n",
       "      <td>1</td>\n",
       "      <td>1</td>\n",
       "      <td>1</td>\n",
       "      <td>1</td>\n",
       "      <td>1.0</td>\n",
       "      <td>1.0</td>\n",
       "      <td>1.0</td>\n",
       "      <td>1.0</td>\n",
       "      <td>1.0</td>\n",
       "      <td>True</td>\n",
       "    </tr>\n",
       "    <tr>\n",
       "      <th>2</th>\n",
       "      <td>3</td>\n",
       "      <td>24.0</td>\n",
       "      <td>5.0</td>\n",
       "      <td>1.0</td>\n",
       "      <td>3.0</td>\n",
       "      <td>63.0</td>\n",
       "      <td>309.13</td>\n",
       "      <td>0.11</td>\n",
       "      <td>9.50</td>\n",
       "      <td>32.54</td>\n",
       "      <td>...</td>\n",
       "      <td>1</td>\n",
       "      <td>0</td>\n",
       "      <td>6</td>\n",
       "      <td>0</td>\n",
       "      <td>15.0</td>\n",
       "      <td>15.0</td>\n",
       "      <td>44.0</td>\n",
       "      <td>19.0</td>\n",
       "      <td>9.0</td>\n",
       "      <td>False</td>\n",
       "    </tr>\n",
       "    <tr>\n",
       "      <th>3</th>\n",
       "      <td>4</td>\n",
       "      <td>20.0</td>\n",
       "      <td>4.0</td>\n",
       "      <td>4.0</td>\n",
       "      <td>2.0</td>\n",
       "      <td>47.0</td>\n",
       "      <td>215.49</td>\n",
       "      <td>0.06</td>\n",
       "      <td>16.00</td>\n",
       "      <td>13.47</td>\n",
       "      <td>...</td>\n",
       "      <td>0</td>\n",
       "      <td>0</td>\n",
       "      <td>3</td>\n",
       "      <td>0</td>\n",
       "      <td>16.0</td>\n",
       "      <td>8.0</td>\n",
       "      <td>31.0</td>\n",
       "      <td>16.0</td>\n",
       "      <td>7.0</td>\n",
       "      <td>False</td>\n",
       "    </tr>\n",
       "    <tr>\n",
       "      <th>4</th>\n",
       "      <td>5</td>\n",
       "      <td>24.0</td>\n",
       "      <td>6.0</td>\n",
       "      <td>6.0</td>\n",
       "      <td>2.0</td>\n",
       "      <td>72.0</td>\n",
       "      <td>346.13</td>\n",
       "      <td>0.06</td>\n",
       "      <td>17.33</td>\n",
       "      <td>19.97</td>\n",
       "      <td>...</td>\n",
       "      <td>0</td>\n",
       "      <td>0</td>\n",
       "      <td>3</td>\n",
       "      <td>0</td>\n",
       "      <td>16.0</td>\n",
       "      <td>12.0</td>\n",
       "      <td>46.0</td>\n",
       "      <td>26.0</td>\n",
       "      <td>11.0</td>\n",
       "      <td>False</td>\n",
       "    </tr>\n",
       "  </tbody>\n",
       "</table>\n",
       "<p>5 rows × 23 columns</p>\n",
       "</div>"
      ],
      "text/plain": [
       "   id   loc  v(g)  ev(g)  iv(g)     n       v     l      d      i  ...  \\\n",
       "0   1   1.1   1.4    1.4    1.4   1.3    1.30  1.30   1.30   1.30  ...   \n",
       "1   2   1.0   1.0    1.0    1.0   1.0    1.00  1.00   1.00   1.00  ...   \n",
       "2   3  24.0   5.0    1.0    3.0  63.0  309.13  0.11   9.50  32.54  ...   \n",
       "3   4  20.0   4.0    4.0    2.0  47.0  215.49  0.06  16.00  13.47  ...   \n",
       "4   5  24.0   6.0    6.0    2.0  72.0  346.13  0.06  17.33  19.97  ...   \n",
       "\n",
       "   lOCode  lOComment  lOBlank  locCodeAndComment  uniq_Op  uniq_Opnd  \\\n",
       "0       2          2        2                  2      1.2        1.2   \n",
       "1       1          1        1                  1      1.0        1.0   \n",
       "2       1          0        6                  0     15.0       15.0   \n",
       "3       0          0        3                  0     16.0        8.0   \n",
       "4       0          0        3                  0     16.0       12.0   \n",
       "\n",
       "   total_Op  total_Opnd  branchCount  defects  \n",
       "0       1.2         1.2          1.4    False  \n",
       "1       1.0         1.0          1.0     True  \n",
       "2      44.0        19.0          9.0    False  \n",
       "3      31.0        16.0          7.0    False  \n",
       "4      46.0        26.0         11.0    False  \n",
       "\n",
       "[5 rows x 23 columns]"
      ]
     },
     "execution_count": 7,
     "metadata": {},
     "output_type": "execute_result"
    }
   ],
   "source": [
    "df.head()"
   ]
  },
  {
   "cell_type": "code",
   "execution_count": 8,
   "id": "733e95eb",
   "metadata": {
    "execution": {
     "iopub.execute_input": "2021-04-04T23:22:04.845760Z",
     "iopub.status.busy": "2021-04-04T23:22:04.844755Z",
     "iopub.status.idle": "2021-04-04T23:22:04.846918Z",
     "shell.execute_reply": "2021-04-04T23:22:04.847733Z"
    },
    "papermill": {
     "duration": 0.053309,
     "end_time": "2021-04-04T23:22:04.847938",
     "exception": false,
     "start_time": "2021-04-04T23:22:04.794629",
     "status": "completed"
    },
    "tags": []
   },
   "outputs": [],
   "source": [
    "del df['id']"
   ]
  },
  {
   "cell_type": "code",
   "execution_count": 9,
   "id": "6ff6f5b0",
   "metadata": {
    "execution": {
     "iopub.execute_input": "2021-04-04T23:22:04.899529Z",
     "iopub.status.busy": "2021-04-04T23:22:04.897644Z",
     "iopub.status.idle": "2021-04-04T23:22:04.903187Z",
     "shell.execute_reply": "2021-04-04T23:22:04.901837Z"
    },
    "papermill": {
     "duration": 0.033721,
     "end_time": "2021-04-04T23:22:04.903388",
     "exception": false,
     "start_time": "2021-04-04T23:22:04.869667",
     "status": "completed"
    },
    "tags": []
   },
   "outputs": [],
   "source": [
    "if PROFILE_REPORTING:\n",
    "    ProfileReport(df).to_widgets()"
   ]
  },
  {
   "cell_type": "markdown",
   "id": "1deaf3f0",
   "metadata": {
    "papermill": {
     "duration": 0.034152,
     "end_time": "2021-04-04T23:22:04.964643",
     "exception": false,
     "start_time": "2021-04-04T23:22:04.930491",
     "status": "completed"
    },
    "tags": []
   },
   "source": [
    "# Preprocess"
   ]
  },
  {
   "cell_type": "code",
   "execution_count": 10,
   "id": "1513e563",
   "metadata": {
    "execution": {
     "iopub.execute_input": "2021-04-04T23:22:05.031250Z",
     "iopub.status.busy": "2021-04-04T23:22:05.029920Z",
     "iopub.status.idle": "2021-04-04T23:22:05.035163Z",
     "shell.execute_reply": "2021-04-04T23:22:05.035768Z"
    },
    "papermill": {
     "duration": 0.043961,
     "end_time": "2021-04-04T23:22:05.035944",
     "exception": false,
     "start_time": "2021-04-04T23:22:04.991983",
     "status": "completed"
    },
    "tags": []
   },
   "outputs": [],
   "source": [
    "working_df = df.copy()"
   ]
  },
  {
   "cell_type": "code",
   "execution_count": 11,
   "id": "3b26d675",
   "metadata": {
    "execution": {
     "iopub.execute_input": "2021-04-04T23:22:05.107422Z",
     "iopub.status.busy": "2021-04-04T23:22:05.105616Z",
     "iopub.status.idle": "2021-04-04T23:22:05.111087Z",
     "shell.execute_reply": "2021-04-04T23:22:05.111929Z"
    },
    "papermill": {
     "duration": 0.042966,
     "end_time": "2021-04-04T23:22:05.112106",
     "exception": false,
     "start_time": "2021-04-04T23:22:05.069140",
     "status": "completed"
    },
    "tags": []
   },
   "outputs": [],
   "source": [
    "working_df['defects'] = working_df['defects'].replace([False, True], [0, 1])"
   ]
  },
  {
   "cell_type": "code",
   "execution_count": 12,
   "id": "eb48604f",
   "metadata": {
    "execution": {
     "iopub.execute_input": "2021-04-04T23:22:05.165030Z",
     "iopub.status.busy": "2021-04-04T23:22:05.164171Z",
     "iopub.status.idle": "2021-04-04T23:22:05.166155Z",
     "shell.execute_reply": "2021-04-04T23:22:05.166628Z"
    },
    "papermill": {
     "duration": 0.030807,
     "end_time": "2021-04-04T23:22:05.166794",
     "exception": false,
     "start_time": "2021-04-04T23:22:05.135987",
     "status": "completed"
    },
    "tags": []
   },
   "outputs": [],
   "source": [
    "for col in dataset_config['delete_columns']:\n",
    "    del working_df[col]"
   ]
  },
  {
   "cell_type": "code",
   "execution_count": 13,
   "id": "9a17bc29",
   "metadata": {
    "execution": {
     "iopub.execute_input": "2021-04-04T23:22:05.227524Z",
     "iopub.status.busy": "2021-04-04T23:22:05.226564Z",
     "iopub.status.idle": "2021-04-04T23:22:05.236511Z",
     "shell.execute_reply": "2021-04-04T23:22:05.237330Z"
    },
    "papermill": {
     "duration": 0.046101,
     "end_time": "2021-04-04T23:22:05.237591",
     "exception": false,
     "start_time": "2021-04-04T23:22:05.191490",
     "status": "completed"
    },
    "tags": []
   },
   "outputs": [],
   "source": [
    "working_df = working_df.drop_duplicates()"
   ]
  },
  {
   "cell_type": "markdown",
   "id": "a4d52ca6",
   "metadata": {
    "papermill": {
     "duration": 0.022166,
     "end_time": "2021-04-04T23:22:05.284172",
     "exception": false,
     "start_time": "2021-04-04T23:22:05.262006",
     "status": "completed"
    },
    "tags": []
   },
   "source": [
    "# Split"
   ]
  },
  {
   "cell_type": "code",
   "execution_count": 14,
   "id": "3e9ee4b5",
   "metadata": {
    "execution": {
     "iopub.execute_input": "2021-04-04T23:22:05.342912Z",
     "iopub.status.busy": "2021-04-04T23:22:05.341458Z",
     "iopub.status.idle": "2021-04-04T23:22:05.397149Z",
     "shell.execute_reply": "2021-04-04T23:22:05.397716Z"
    },
    "papermill": {
     "duration": 0.089394,
     "end_time": "2021-04-04T23:22:05.397907",
     "exception": false,
     "start_time": "2021-04-04T23:22:05.308513",
     "status": "completed"
    },
    "tags": []
   },
   "outputs": [],
   "source": [
    "from sklearn.model_selection import train_test_split"
   ]
  },
  {
   "cell_type": "code",
   "execution_count": 15,
   "id": "274004ce",
   "metadata": {
    "execution": {
     "iopub.execute_input": "2021-04-04T23:22:05.460125Z",
     "iopub.status.busy": "2021-04-04T23:22:05.459322Z",
     "iopub.status.idle": "2021-04-04T23:22:05.464318Z",
     "shell.execute_reply": "2021-04-04T23:22:05.464860Z"
    },
    "papermill": {
     "duration": 0.041154,
     "end_time": "2021-04-04T23:22:05.465032",
     "exception": false,
     "start_time": "2021-04-04T23:22:05.423878",
     "status": "completed"
    },
    "scrolled": true,
    "tags": []
   },
   "outputs": [],
   "source": [
    "inlier, outlier = working_df[working_df['defects'] == 0], working_df[working_df['defects'] == 1]"
   ]
  },
  {
   "cell_type": "code",
   "execution_count": 16,
   "id": "753c7b03",
   "metadata": {
    "execution": {
     "iopub.execute_input": "2021-04-04T23:22:05.530099Z",
     "iopub.status.busy": "2021-04-04T23:22:05.528744Z",
     "iopub.status.idle": "2021-04-04T23:22:05.536522Z",
     "shell.execute_reply": "2021-04-04T23:22:05.535953Z"
    },
    "papermill": {
     "duration": 0.044061,
     "end_time": "2021-04-04T23:22:05.536670",
     "exception": false,
     "start_time": "2021-04-04T23:22:05.492609",
     "status": "completed"
    },
    "tags": []
   },
   "outputs": [],
   "source": [
    "X_inlier = inlier.copy()\n",
    "y_inlier = X_inlier.pop('defects')\n",
    "X_outlier = outlier.copy()\n",
    "y_outlier = X_outlier.pop('defects')"
   ]
  },
  {
   "cell_type": "code",
   "execution_count": 17,
   "id": "2ba43193",
   "metadata": {
    "execution": {
     "iopub.execute_input": "2021-04-04T23:22:05.597383Z",
     "iopub.status.busy": "2021-04-04T23:22:05.596269Z",
     "iopub.status.idle": "2021-04-04T23:22:05.598951Z",
     "shell.execute_reply": "2021-04-04T23:22:05.599543Z"
    },
    "papermill": {
     "duration": 0.035433,
     "end_time": "2021-04-04T23:22:05.599836",
     "exception": false,
     "start_time": "2021-04-04T23:22:05.564403",
     "status": "completed"
    },
    "tags": []
   },
   "outputs": [],
   "source": [
    "test_size = dataset_config['test_size']\n",
    "random_state = dataset_config['random_state']\n",
    "\n",
    "X_inlier_train, X_inlier_test, y_inlier_train, y_inlier_test = train_test_split(\n",
    "    X_inlier,\n",
    "    y_inlier,\n",
    "    test_size=test_size,\n",
    "    random_state=random_state\n",
    ")"
   ]
  },
  {
   "cell_type": "code",
   "execution_count": 18,
   "id": "0b7582ca",
   "metadata": {
    "execution": {
     "iopub.execute_input": "2021-04-04T23:22:05.666533Z",
     "iopub.status.busy": "2021-04-04T23:22:05.664743Z",
     "iopub.status.idle": "2021-04-04T23:22:05.669673Z",
     "shell.execute_reply": "2021-04-04T23:22:05.669030Z"
    },
    "papermill": {
     "duration": 0.046179,
     "end_time": "2021-04-04T23:22:05.669790",
     "exception": false,
     "start_time": "2021-04-04T23:22:05.623611",
     "status": "completed"
    },
    "tags": []
   },
   "outputs": [],
   "source": [
    "test_outlier_size = dataset_config['test_outlier_size']\n",
    "if test_outlier_size > 0.0:\n",
    "    X_outlier_train, X_outlier_test, y_outlier_train, y_outlier_test = train_test_split(\n",
    "        X_outlier,\n",
    "        y_outlier,\n",
    "        test_size=test_outlier_size,\n",
    "        random_state=random_state\n",
    "    )\n",
    "else:\n",
    "    X_outlier_train, y_outlier_train = pd.DataFrame(columns=X_outlier.columns), pd.Series(dtype='int64')\n",
    "    X_outlier_test, y_outlier_test = X_outlier.copy(), y_outlier.copy()"
   ]
  },
  {
   "cell_type": "code",
   "execution_count": 19,
   "id": "c34363db",
   "metadata": {
    "execution": {
     "iopub.execute_input": "2021-04-04T23:22:05.726668Z",
     "iopub.status.busy": "2021-04-04T23:22:05.725735Z",
     "iopub.status.idle": "2021-04-04T23:22:05.728365Z",
     "shell.execute_reply": "2021-04-04T23:22:05.727786Z"
    },
    "papermill": {
     "duration": 0.035607,
     "end_time": "2021-04-04T23:22:05.728485",
     "exception": false,
     "start_time": "2021-04-04T23:22:05.692878",
     "status": "completed"
    },
    "tags": []
   },
   "outputs": [],
   "source": [
    "X_train, y_train = pd.concat([X_inlier_train, X_outlier_train], ignore_index=True), pd.concat([y_inlier_train, y_outlier_train], ignore_index=True)\n",
    "X_test, y_test = pd.concat([X_inlier_test, X_outlier_test], ignore_index=True), pd.concat([y_inlier_test, y_outlier_test], ignore_index=True)"
   ]
  },
  {
   "cell_type": "markdown",
   "id": "7cde7309",
   "metadata": {
    "papermill": {
     "duration": 0.027498,
     "end_time": "2021-04-04T23:22:05.784282",
     "exception": false,
     "start_time": "2021-04-04T23:22:05.756784",
     "status": "completed"
    },
    "tags": []
   },
   "source": [
    "# Model"
   ]
  },
  {
   "cell_type": "code",
   "execution_count": 20,
   "id": "2b12a415",
   "metadata": {
    "execution": {
     "iopub.execute_input": "2021-04-04T23:22:05.847280Z",
     "iopub.status.busy": "2021-04-04T23:22:05.846251Z",
     "iopub.status.idle": "2021-04-04T23:22:05.849566Z",
     "shell.execute_reply": "2021-04-04T23:22:05.849040Z"
    },
    "papermill": {
     "duration": 0.036972,
     "end_time": "2021-04-04T23:22:05.849688",
     "exception": false,
     "start_time": "2021-04-04T23:22:05.812716",
     "status": "completed"
    },
    "tags": []
   },
   "outputs": [],
   "source": [
    "from math import sqrt\n",
    "\n",
    "\n",
    "class KNNDataDescription:\n",
    "    def __init__(self, k=5, outlier_threshold=1.0):\n",
    "        self.k = k\n",
    "        self.outlier_threshold = outlier_threshold\n",
    "        self.X = []\n",
    "    \n",
    "    def fit(self, X):\n",
    "        self.X = [features.to_list() for index, features in X.iterrows()]\n",
    "\n",
    "    def predict(self, entries):\n",
    "        return [self.predict_entry(features.to_list()) for index, features in entries.iterrows()]\n",
    "    \n",
    "    def predict_entry(self, entry):\n",
    "        kth_neighbor, kth_distance = self.get_kth_neighbor(entry, self.k)\n",
    "        kth_kth_neighbor, kth_kth_distance = self.get_kth_neighbor(kth_neighbor, self.k + 1)\n",
    "\n",
    "        outlier_score = kth_distance / (kth_kth_distance + 0.000001)\n",
    "\n",
    "        return 1 if outlier_score < self.outlier_threshold else -1\n",
    "        \n",
    "    def euclidean_distance(self, features1, features2):\n",
    "        distance = 0.0\n",
    "        for feat1, feat2 in zip(features1, features2):\n",
    "            distance += (feat1 - feat2)**2\n",
    "                \n",
    "        return sqrt(distance)\n",
    "\n",
    "    def get_neighbors(self, entry, k):\n",
    "        distance_to_data_points = [\n",
    "            (data_point, self.euclidean_distance(entry, data_point))\n",
    "            for data_point in self.X\n",
    "        ]\n",
    "        sorted_by_distance = sorted(distance_to_data_points, key=lambda tup: tup[1])\n",
    "        neighbors = sorted_by_distance[:k]\n",
    "        return neighbors\n",
    "\n",
    "    def get_kth_neighbor(self, entry, k):\n",
    "        neighbors = self.get_neighbors(entry, k)\n",
    "        return neighbors[-1]\n"
   ]
  },
  {
   "cell_type": "code",
   "execution_count": 21,
   "id": "1fa9ec1c",
   "metadata": {
    "execution": {
     "iopub.execute_input": "2021-04-04T23:22:05.909273Z",
     "iopub.status.busy": "2021-04-04T23:22:05.908266Z",
     "iopub.status.idle": "2021-04-04T23:22:05.931470Z",
     "shell.execute_reply": "2021-04-04T23:22:05.931951Z"
    },
    "papermill": {
     "duration": 0.056346,
     "end_time": "2021-04-04T23:22:05.932100",
     "exception": false,
     "start_time": "2021-04-04T23:22:05.875754",
     "status": "completed"
    },
    "tags": []
   },
   "outputs": [],
   "source": [
    "from sklearn.svm import OneClassSVM\n",
    "\n",
    "\n",
    "models = {\n",
    "    'oneclasssvm': OneClassSVM,\n",
    "    'knndatadescription': KNNDataDescription,\n",
    "}"
   ]
  },
  {
   "cell_type": "code",
   "execution_count": 22,
   "id": "4d72a0b1",
   "metadata": {
    "execution": {
     "iopub.execute_input": "2021-04-04T23:22:05.985100Z",
     "iopub.status.busy": "2021-04-04T23:22:05.984485Z",
     "iopub.status.idle": "2021-04-04T23:22:05.986501Z",
     "shell.execute_reply": "2021-04-04T23:22:05.987001Z"
    },
    "papermill": {
     "duration": 0.029846,
     "end_time": "2021-04-04T23:22:05.987145",
     "exception": false,
     "start_time": "2021-04-04T23:22:05.957299",
     "status": "completed"
    },
    "scrolled": true,
    "tags": []
   },
   "outputs": [],
   "source": [
    "model_cls = models[model_config['model_type']]\n",
    "model = model_cls(**model_config['hyperparameters'])"
   ]
  },
  {
   "cell_type": "markdown",
   "id": "e00cff3b",
   "metadata": {
    "papermill": {
     "duration": 0.02964,
     "end_time": "2021-04-04T23:22:06.043710",
     "exception": false,
     "start_time": "2021-04-04T23:22:06.014070",
     "status": "completed"
    },
    "tags": []
   },
   "source": [
    "# Fit"
   ]
  },
  {
   "cell_type": "code",
   "execution_count": 23,
   "id": "8b2ded89",
   "metadata": {
    "execution": {
     "iopub.execute_input": "2021-04-04T23:22:06.105624Z",
     "iopub.status.busy": "2021-04-04T23:22:06.104422Z",
     "iopub.status.idle": "2021-04-04T23:22:06.115628Z",
     "shell.execute_reply": "2021-04-04T23:22:06.116162Z"
    },
    "papermill": {
     "duration": 0.042246,
     "end_time": "2021-04-04T23:22:06.116392",
     "exception": false,
     "start_time": "2021-04-04T23:22:06.074146",
     "status": "completed"
    },
    "tags": []
   },
   "outputs": [
    {
     "data": {
      "text/plain": [
       "OneClassSVM()"
      ]
     },
     "execution_count": 23,
     "metadata": {},
     "output_type": "execute_result"
    }
   ],
   "source": [
    "model.fit(X_train)"
   ]
  },
  {
   "cell_type": "markdown",
   "id": "f99999f7",
   "metadata": {
    "papermill": {
     "duration": 0.033415,
     "end_time": "2021-04-04T23:22:06.175425",
     "exception": false,
     "start_time": "2021-04-04T23:22:06.142010",
     "status": "completed"
    },
    "tags": []
   },
   "source": [
    "# Predict"
   ]
  },
  {
   "cell_type": "code",
   "execution_count": 24,
   "id": "6536fbf7",
   "metadata": {
    "execution": {
     "iopub.execute_input": "2021-04-04T23:22:06.231174Z",
     "iopub.status.busy": "2021-04-04T23:22:06.230221Z",
     "iopub.status.idle": "2021-04-04T23:22:06.235810Z",
     "shell.execute_reply": "2021-04-04T23:22:06.236294Z"
    },
    "papermill": {
     "duration": 0.03749,
     "end_time": "2021-04-04T23:22:06.236440",
     "exception": false,
     "start_time": "2021-04-04T23:22:06.198950",
     "status": "completed"
    },
    "tags": []
   },
   "outputs": [],
   "source": [
    "predictions = model.predict(X_test)"
   ]
  },
  {
   "cell_type": "markdown",
   "id": "aa1c9881",
   "metadata": {
    "papermill": {
     "duration": 0.029882,
     "end_time": "2021-04-04T23:22:06.292793",
     "exception": false,
     "start_time": "2021-04-04T23:22:06.262911",
     "status": "completed"
    },
    "tags": []
   },
   "source": [
    "# Evaluate"
   ]
  },
  {
   "cell_type": "code",
   "execution_count": 25,
   "id": "894f0f04",
   "metadata": {
    "execution": {
     "iopub.execute_input": "2021-04-04T23:22:06.358231Z",
     "iopub.status.busy": "2021-04-04T23:22:06.356917Z",
     "iopub.status.idle": "2021-04-04T23:22:06.359195Z",
     "shell.execute_reply": "2021-04-04T23:22:06.360210Z"
    },
    "papermill": {
     "duration": 0.039068,
     "end_time": "2021-04-04T23:22:06.360456",
     "exception": false,
     "start_time": "2021-04-04T23:22:06.321388",
     "status": "completed"
    },
    "tags": []
   },
   "outputs": [],
   "source": [
    "from sklearn.metrics import f1_score"
   ]
  },
  {
   "cell_type": "code",
   "execution_count": 26,
   "id": "211744d3",
   "metadata": {
    "execution": {
     "iopub.execute_input": "2021-04-04T23:22:06.432413Z",
     "iopub.status.busy": "2021-04-04T23:22:06.431688Z",
     "iopub.status.idle": "2021-04-04T23:22:06.434863Z",
     "shell.execute_reply": "2021-04-04T23:22:06.435702Z"
    },
    "papermill": {
     "duration": 0.042229,
     "end_time": "2021-04-04T23:22:06.436199",
     "exception": false,
     "start_time": "2021-04-04T23:22:06.393970",
     "status": "completed"
    },
    "tags": []
   },
   "outputs": [],
   "source": [
    "y_test = y_test.replace([0, 1], [1, -1])"
   ]
  },
  {
   "cell_type": "code",
   "execution_count": 27,
   "id": "d68a9204",
   "metadata": {
    "execution": {
     "iopub.execute_input": "2021-04-04T23:22:06.504096Z",
     "iopub.status.busy": "2021-04-04T23:22:06.503204Z",
     "iopub.status.idle": "2021-04-04T23:22:06.505357Z",
     "shell.execute_reply": "2021-04-04T23:22:06.505837Z"
    },
    "papermill": {
     "duration": 0.037297,
     "end_time": "2021-04-04T23:22:06.505983",
     "exception": false,
     "start_time": "2021-04-04T23:22:06.468686",
     "status": "completed"
    },
    "tags": []
   },
   "outputs": [],
   "source": [
    "def evaluate(truths, predictions, pos_label, neg_label):\n",
    "    TP = 0\n",
    "    FP = 0\n",
    "    TN = 0\n",
    "    FN = 0\n",
    "\n",
    "    for truth, pred in zip(truths, predictions): \n",
    "        if truth == pred == pos_label:\n",
    "           TP += 1\n",
    "        elif pred == pos_label and truth == neg_label:\n",
    "           FP += 1\n",
    "        elif truth == pred == neg_label:\n",
    "           TN += 1\n",
    "        elif pred == neg_label and truth == pos_label:\n",
    "           FN += 1\n",
    "\n",
    "    precision = TP / (TP + FP)\n",
    "    sensitivity = TP / (TP + FN)\n",
    "    \n",
    "    return {\n",
    "        'true_pos': TP,\n",
    "        'false_pos': FP,\n",
    "        'false_neg': FN,\n",
    "        'true_neg': TN,\n",
    "        'precision': precision,\n",
    "        'sensitivity': sensitivity,\n",
    "        'f1': (2 * (precision * sensitivity)) / (precision + sensitivity)\n",
    "    }\n",
    "\n",
    "score = evaluate(y_test, predictions, pos_label=-1, neg_label=1)"
   ]
  },
  {
   "cell_type": "markdown",
   "id": "93596516",
   "metadata": {
    "papermill": {
     "duration": 0.028184,
     "end_time": "2021-04-04T23:22:06.562405",
     "exception": false,
     "start_time": "2021-04-04T23:22:06.534221",
     "status": "completed"
    },
    "tags": []
   },
   "source": [
    "# Report"
   ]
  },
  {
   "cell_type": "code",
   "execution_count": 28,
   "id": "bea5fba1",
   "metadata": {
    "execution": {
     "iopub.execute_input": "2021-04-04T23:22:06.619477Z",
     "iopub.status.busy": "2021-04-04T23:22:06.618849Z",
     "iopub.status.idle": "2021-04-04T23:22:06.623223Z",
     "shell.execute_reply": "2021-04-04T23:22:06.624050Z"
    },
    "papermill": {
     "duration": 0.034383,
     "end_time": "2021-04-04T23:22:06.624294",
     "exception": false,
     "start_time": "2021-04-04T23:22:06.589911",
     "status": "completed"
    },
    "tags": []
   },
   "outputs": [],
   "source": [
    "import csv\n",
    "\n",
    "\n",
    "dataset_config_name = DATASET_CONFIG_PATH.split('/')[-1].split('.')[0]\n",
    "model_config_name = MODEL_CONFIG_PATH.split('/')[-1].split('.')[0]\n",
    "configuration = f\"dataset_{dataset_config_name}-model_{model_config_name}\"\n",
    "\n",
    "with open('results.csv', 'a') as f:\n",
    "    report = dict({'configuration': configuration}, **score)\n",
    "    writer = csv.DictWriter(f, report.keys())\n",
    "    writer.writerow(report)"
   ]
  }
 ],
 "metadata": {
  "celltoolbar": "Tags",
  "kernelspec": {
   "display_name": "Python 3",
   "language": "python",
   "name": "python3"
  },
  "language_info": {
   "codemirror_mode": {
    "name": "ipython",
    "version": 3
   },
   "file_extension": ".py",
   "mimetype": "text/x-python",
   "name": "python",
   "nbconvert_exporter": "python",
   "pygments_lexer": "ipython3",
   "version": "3.9.1"
  },
  "papermill": {
   "default_parameters": {},
   "duration": 5.563111,
   "end_time": "2021-04-04T23:22:07.361226",
   "environment_variables": {},
   "exception": null,
   "input_path": "main.ipynb",
   "output_path": "runs/dataset_000123-model_000004.ipynb",
   "parameters": {
    "DATASET_CONFIG_PATH": "config/dataset/000123.json",
    "MODEL_CONFIG_PATH": "config/model/000004.json",
    "PROFILE_REPORTING": false
   },
   "start_time": "2021-04-04T23:22:01.798115",
   "version": "2.3.3"
  }
 },
 "nbformat": 4,
 "nbformat_minor": 5
}