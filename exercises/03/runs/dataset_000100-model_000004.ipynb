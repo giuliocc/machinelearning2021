{
 "cells": [
  {
   "cell_type": "markdown",
   "id": "51c71c25",
   "metadata": {
    "papermill": {
     "duration": 0.030392,
     "end_time": "2021-04-04T23:12:59.541601",
     "exception": false,
     "start_time": "2021-04-04T23:12:59.511209",
     "status": "completed"
    },
    "tags": []
   },
   "source": [
    "# Parametrizing"
   ]
  },
  {
   "cell_type": "code",
   "execution_count": 1,
   "id": "3b136394",
   "metadata": {
    "execution": {
     "iopub.execute_input": "2021-04-04T23:12:59.593529Z",
     "iopub.status.busy": "2021-04-04T23:12:59.592507Z",
     "iopub.status.idle": "2021-04-04T23:12:59.596071Z",
     "shell.execute_reply": "2021-04-04T23:12:59.595274Z"
    },
    "papermill": {
     "duration": 0.03468,
     "end_time": "2021-04-04T23:12:59.596231",
     "exception": false,
     "start_time": "2021-04-04T23:12:59.561551",
     "status": "completed"
    },
    "tags": [
     "parameters"
    ]
   },
   "outputs": [],
   "source": [
    "DATASET_CONFIG_PATH = 'config/dataset/kc1_001.json'\n",
    "MODEL_CONFIG_PATH = 'config/model/knndd_001.json'\n",
    "PROFILE_REPORTING = False"
   ]
  },
  {
   "cell_type": "code",
   "execution_count": 2,
   "id": "e31b745f",
   "metadata": {
    "execution": {
     "iopub.execute_input": "2021-04-04T23:12:59.642916Z",
     "iopub.status.busy": "2021-04-04T23:12:59.642137Z",
     "iopub.status.idle": "2021-04-04T23:12:59.645765Z",
     "shell.execute_reply": "2021-04-04T23:12:59.645057Z"
    },
    "papermill": {
     "duration": 0.027257,
     "end_time": "2021-04-04T23:12:59.645937",
     "exception": false,
     "start_time": "2021-04-04T23:12:59.618680",
     "status": "completed"
    },
    "tags": [
     "injected-parameters"
    ]
   },
   "outputs": [],
   "source": [
    "# Parameters\n",
    "DATASET_CONFIG_PATH = \"config/dataset/000100.json\"\n",
    "MODEL_CONFIG_PATH = \"config/model/000004.json\"\n",
    "PROFILE_REPORTING = False\n"
   ]
  },
  {
   "cell_type": "code",
   "execution_count": 3,
   "id": "b80f2a10",
   "metadata": {
    "execution": {
     "iopub.execute_input": "2021-04-04T23:12:59.698690Z",
     "iopub.status.busy": "2021-04-04T23:12:59.697314Z",
     "iopub.status.idle": "2021-04-04T23:12:59.700988Z",
     "shell.execute_reply": "2021-04-04T23:12:59.700407Z"
    },
    "papermill": {
     "duration": 0.030168,
     "end_time": "2021-04-04T23:12:59.701106",
     "exception": false,
     "start_time": "2021-04-04T23:12:59.670938",
     "status": "completed"
    },
    "tags": []
   },
   "outputs": [],
   "source": [
    "import json\n",
    "\n",
    "\n",
    "with open(DATASET_CONFIG_PATH) as f:\n",
    "    dataset_config = json.load(f)\n",
    "\n",
    "with open(MODEL_CONFIG_PATH) as f:\n",
    "    model_config = json.load(f)"
   ]
  },
  {
   "cell_type": "markdown",
   "id": "9a4b0e2d",
   "metadata": {
    "papermill": {
     "duration": 0.024598,
     "end_time": "2021-04-04T23:12:59.747797",
     "exception": false,
     "start_time": "2021-04-04T23:12:59.723199",
     "status": "completed"
    },
    "tags": []
   },
   "source": [
    "# Profiling"
   ]
  },
  {
   "cell_type": "code",
   "execution_count": 4,
   "id": "a3e0289b",
   "metadata": {
    "execution": {
     "iopub.execute_input": "2021-04-04T23:12:59.796197Z",
     "iopub.status.busy": "2021-04-04T23:12:59.794938Z",
     "iopub.status.idle": "2021-04-04T23:13:01.060015Z",
     "shell.execute_reply": "2021-04-04T23:13:01.059138Z"
    },
    "papermill": {
     "duration": 1.291123,
     "end_time": "2021-04-04T23:13:01.060180",
     "exception": false,
     "start_time": "2021-04-04T23:12:59.769057",
     "status": "completed"
    },
    "tags": []
   },
   "outputs": [],
   "source": [
    "import pandas as pd\n",
    "from pandas_profiling import ProfileReport"
   ]
  },
  {
   "cell_type": "code",
   "execution_count": 5,
   "id": "ee6c0666",
   "metadata": {
    "execution": {
     "iopub.execute_input": "2021-04-04T23:13:01.109839Z",
     "iopub.status.busy": "2021-04-04T23:13:01.108002Z",
     "iopub.status.idle": "2021-04-04T23:13:01.120694Z",
     "shell.execute_reply": "2021-04-04T23:13:01.119837Z"
    },
    "papermill": {
     "duration": 0.037848,
     "end_time": "2021-04-04T23:13:01.120862",
     "exception": false,
     "start_time": "2021-04-04T23:13:01.083014",
     "status": "completed"
    },
    "tags": []
   },
   "outputs": [],
   "source": [
    "df = pd.read_csv(dataset_config['dataset_path'])"
   ]
  },
  {
   "cell_type": "code",
   "execution_count": 6,
   "id": "7eca6c4a",
   "metadata": {
    "execution": {
     "iopub.execute_input": "2021-04-04T23:13:01.182570Z",
     "iopub.status.busy": "2021-04-04T23:13:01.169318Z",
     "iopub.status.idle": "2021-04-04T23:13:01.186103Z",
     "shell.execute_reply": "2021-04-04T23:13:01.187113Z"
    },
    "papermill": {
     "duration": 0.044268,
     "end_time": "2021-04-04T23:13:01.187405",
     "exception": false,
     "start_time": "2021-04-04T23:13:01.143137",
     "status": "completed"
    },
    "tags": []
   },
   "outputs": [
    {
     "name": "stdout",
     "output_type": "stream",
     "text": [
      "<class 'pandas.core.frame.DataFrame'>\n",
      "RangeIndex: 498 entries, 0 to 497\n",
      "Data columns (total 23 columns):\n",
      " #   Column             Non-Null Count  Dtype  \n",
      "---  ------             --------------  -----  \n",
      " 0   id                 498 non-null    int64  \n",
      " 1   loc                498 non-null    float64\n",
      " 2   v(g)               498 non-null    float64\n",
      " 3   ev(g)              498 non-null    float64\n",
      " 4   iv(g)              498 non-null    float64\n",
      " 5   n                  498 non-null    float64\n",
      " 6   v                  498 non-null    float64\n",
      " 7   l                  498 non-null    float64\n",
      " 8   d                  498 non-null    float64\n",
      " 9   i                  498 non-null    float64\n",
      " 10  e                  498 non-null    float64\n",
      " 11  b                  498 non-null    float64\n",
      " 12  t                  498 non-null    float64\n",
      " 13  lOCode             498 non-null    int64  \n",
      " 14  lOComment          498 non-null    int64  \n",
      " 15  lOBlank            498 non-null    int64  \n",
      " 16  locCodeAndComment  498 non-null    int64  \n",
      " 17  uniq_Op            498 non-null    float64\n",
      " 18  uniq_Opnd          498 non-null    float64\n",
      " 19  total_Op           498 non-null    float64\n",
      " 20  total_Opnd         498 non-null    float64\n",
      " 21  branchCount        498 non-null    float64\n",
      " 22  defects            498 non-null    bool   \n",
      "dtypes: bool(1), float64(17), int64(5)\n",
      "memory usage: 86.2 KB\n"
     ]
    }
   ],
   "source": [
    "df.info()"
   ]
  },
  {
   "cell_type": "code",
   "execution_count": 7,
   "id": "3638e5e8",
   "metadata": {
    "execution": {
     "iopub.execute_input": "2021-04-04T23:13:01.248968Z",
     "iopub.status.busy": "2021-04-04T23:13:01.248263Z",
     "iopub.status.idle": "2021-04-04T23:13:01.274645Z",
     "shell.execute_reply": "2021-04-04T23:13:01.274135Z"
    },
    "papermill": {
     "duration": 0.05585,
     "end_time": "2021-04-04T23:13:01.274763",
     "exception": false,
     "start_time": "2021-04-04T23:13:01.218913",
     "status": "completed"
    },
    "tags": []
   },
   "outputs": [
    {
     "data": {
      "text/html": [
       "<div>\n",
       "<style scoped>\n",
       "    .dataframe tbody tr th:only-of-type {\n",
       "        vertical-align: middle;\n",
       "    }\n",
       "\n",
       "    .dataframe tbody tr th {\n",
       "        vertical-align: top;\n",
       "    }\n",
       "\n",
       "    .dataframe thead th {\n",
       "        text-align: right;\n",
       "    }\n",
       "</style>\n",
       "<table border=\"1\" class=\"dataframe\">\n",
       "  <thead>\n",
       "    <tr style=\"text-align: right;\">\n",
       "      <th></th>\n",
       "      <th>id</th>\n",
       "      <th>loc</th>\n",
       "      <th>v(g)</th>\n",
       "      <th>ev(g)</th>\n",
       "      <th>iv(g)</th>\n",
       "      <th>n</th>\n",
       "      <th>v</th>\n",
       "      <th>l</th>\n",
       "      <th>d</th>\n",
       "      <th>i</th>\n",
       "      <th>...</th>\n",
       "      <th>lOCode</th>\n",
       "      <th>lOComment</th>\n",
       "      <th>lOBlank</th>\n",
       "      <th>locCodeAndComment</th>\n",
       "      <th>uniq_Op</th>\n",
       "      <th>uniq_Opnd</th>\n",
       "      <th>total_Op</th>\n",
       "      <th>total_Opnd</th>\n",
       "      <th>branchCount</th>\n",
       "      <th>defects</th>\n",
       "    </tr>\n",
       "  </thead>\n",
       "  <tbody>\n",
       "    <tr>\n",
       "      <th>0</th>\n",
       "      <td>1</td>\n",
       "      <td>1.1</td>\n",
       "      <td>1.4</td>\n",
       "      <td>1.4</td>\n",
       "      <td>1.4</td>\n",
       "      <td>1.3</td>\n",
       "      <td>1.30</td>\n",
       "      <td>1.30</td>\n",
       "      <td>1.30</td>\n",
       "      <td>1.30</td>\n",
       "      <td>...</td>\n",
       "      <td>2</td>\n",
       "      <td>2</td>\n",
       "      <td>2</td>\n",
       "      <td>2</td>\n",
       "      <td>1.2</td>\n",
       "      <td>1.2</td>\n",
       "      <td>1.2</td>\n",
       "      <td>1.2</td>\n",
       "      <td>1.4</td>\n",
       "      <td>False</td>\n",
       "    </tr>\n",
       "    <tr>\n",
       "      <th>1</th>\n",
       "      <td>2</td>\n",
       "      <td>1.0</td>\n",
       "      <td>1.0</td>\n",
       "      <td>1.0</td>\n",
       "      <td>1.0</td>\n",
       "      <td>1.0</td>\n",
       "      <td>1.00</td>\n",
       "      <td>1.00</td>\n",
       "      <td>1.00</td>\n",
       "      <td>1.00</td>\n",
       "      <td>...</td>\n",
       "      <td>1</td>\n",
       "      <td>1</td>\n",
       "      <td>1</td>\n",
       "      <td>1</td>\n",
       "      <td>1.0</td>\n",
       "      <td>1.0</td>\n",
       "      <td>1.0</td>\n",
       "      <td>1.0</td>\n",
       "      <td>1.0</td>\n",
       "      <td>True</td>\n",
       "    </tr>\n",
       "    <tr>\n",
       "      <th>2</th>\n",
       "      <td>3</td>\n",
       "      <td>24.0</td>\n",
       "      <td>5.0</td>\n",
       "      <td>1.0</td>\n",
       "      <td>3.0</td>\n",
       "      <td>63.0</td>\n",
       "      <td>309.13</td>\n",
       "      <td>0.11</td>\n",
       "      <td>9.50</td>\n",
       "      <td>32.54</td>\n",
       "      <td>...</td>\n",
       "      <td>1</td>\n",
       "      <td>0</td>\n",
       "      <td>6</td>\n",
       "      <td>0</td>\n",
       "      <td>15.0</td>\n",
       "      <td>15.0</td>\n",
       "      <td>44.0</td>\n",
       "      <td>19.0</td>\n",
       "      <td>9.0</td>\n",
       "      <td>False</td>\n",
       "    </tr>\n",
       "    <tr>\n",
       "      <th>3</th>\n",
       "      <td>4</td>\n",
       "      <td>20.0</td>\n",
       "      <td>4.0</td>\n",
       "      <td>4.0</td>\n",
       "      <td>2.0</td>\n",
       "      <td>47.0</td>\n",
       "      <td>215.49</td>\n",
       "      <td>0.06</td>\n",
       "      <td>16.00</td>\n",
       "      <td>13.47</td>\n",
       "      <td>...</td>\n",
       "      <td>0</td>\n",
       "      <td>0</td>\n",
       "      <td>3</td>\n",
       "      <td>0</td>\n",
       "      <td>16.0</td>\n",
       "      <td>8.0</td>\n",
       "      <td>31.0</td>\n",
       "      <td>16.0</td>\n",
       "      <td>7.0</td>\n",
       "      <td>False</td>\n",
       "    </tr>\n",
       "    <tr>\n",
       "      <th>4</th>\n",
       "      <td>5</td>\n",
       "      <td>24.0</td>\n",
       "      <td>6.0</td>\n",
       "      <td>6.0</td>\n",
       "      <td>2.0</td>\n",
       "      <td>72.0</td>\n",
       "      <td>346.13</td>\n",
       "      <td>0.06</td>\n",
       "      <td>17.33</td>\n",
       "      <td>19.97</td>\n",
       "      <td>...</td>\n",
       "      <td>0</td>\n",
       "      <td>0</td>\n",
       "      <td>3</td>\n",
       "      <td>0</td>\n",
       "      <td>16.0</td>\n",
       "      <td>12.0</td>\n",
       "      <td>46.0</td>\n",
       "      <td>26.0</td>\n",
       "      <td>11.0</td>\n",
       "      <td>False</td>\n",
       "    </tr>\n",
       "  </tbody>\n",
       "</table>\n",
       "<p>5 rows × 23 columns</p>\n",
       "</div>"
      ],
      "text/plain": [
       "   id   loc  v(g)  ev(g)  iv(g)     n       v     l      d      i  ...  \\\n",
       "0   1   1.1   1.4    1.4    1.4   1.3    1.30  1.30   1.30   1.30  ...   \n",
       "1   2   1.0   1.0    1.0    1.0   1.0    1.00  1.00   1.00   1.00  ...   \n",
       "2   3  24.0   5.0    1.0    3.0  63.0  309.13  0.11   9.50  32.54  ...   \n",
       "3   4  20.0   4.0    4.0    2.0  47.0  215.49  0.06  16.00  13.47  ...   \n",
       "4   5  24.0   6.0    6.0    2.0  72.0  346.13  0.06  17.33  19.97  ...   \n",
       "\n",
       "   lOCode  lOComment  lOBlank  locCodeAndComment  uniq_Op  uniq_Opnd  \\\n",
       "0       2          2        2                  2      1.2        1.2   \n",
       "1       1          1        1                  1      1.0        1.0   \n",
       "2       1          0        6                  0     15.0       15.0   \n",
       "3       0          0        3                  0     16.0        8.0   \n",
       "4       0          0        3                  0     16.0       12.0   \n",
       "\n",
       "   total_Op  total_Opnd  branchCount  defects  \n",
       "0       1.2         1.2          1.4    False  \n",
       "1       1.0         1.0          1.0     True  \n",
       "2      44.0        19.0          9.0    False  \n",
       "3      31.0        16.0          7.0    False  \n",
       "4      46.0        26.0         11.0    False  \n",
       "\n",
       "[5 rows x 23 columns]"
      ]
     },
     "execution_count": 7,
     "metadata": {},
     "output_type": "execute_result"
    }
   ],
   "source": [
    "df.head()"
   ]
  },
  {
   "cell_type": "code",
   "execution_count": 8,
   "id": "733e95eb",
   "metadata": {
    "execution": {
     "iopub.execute_input": "2021-04-04T23:13:01.324816Z",
     "iopub.status.busy": "2021-04-04T23:13:01.323465Z",
     "iopub.status.idle": "2021-04-04T23:13:01.326370Z",
     "shell.execute_reply": "2021-04-04T23:13:01.327190Z"
    },
    "papermill": {
     "duration": 0.031044,
     "end_time": "2021-04-04T23:13:01.327428",
     "exception": false,
     "start_time": "2021-04-04T23:13:01.296384",
     "status": "completed"
    },
    "tags": []
   },
   "outputs": [],
   "source": [
    "del df['id']"
   ]
  },
  {
   "cell_type": "code",
   "execution_count": 9,
   "id": "6ff6f5b0",
   "metadata": {
    "execution": {
     "iopub.execute_input": "2021-04-04T23:13:01.387703Z",
     "iopub.status.busy": "2021-04-04T23:13:01.386820Z",
     "iopub.status.idle": "2021-04-04T23:13:01.389760Z",
     "shell.execute_reply": "2021-04-04T23:13:01.390487Z"
    },
    "papermill": {
     "duration": 0.030202,
     "end_time": "2021-04-04T23:13:01.390692",
     "exception": false,
     "start_time": "2021-04-04T23:13:01.360490",
     "status": "completed"
    },
    "tags": []
   },
   "outputs": [],
   "source": [
    "if PROFILE_REPORTING:\n",
    "    ProfileReport(df).to_widgets()"
   ]
  },
  {
   "cell_type": "markdown",
   "id": "1deaf3f0",
   "metadata": {
    "papermill": {
     "duration": 0.021496,
     "end_time": "2021-04-04T23:13:01.437363",
     "exception": false,
     "start_time": "2021-04-04T23:13:01.415867",
     "status": "completed"
    },
    "tags": []
   },
   "source": [
    "# Preprocess"
   ]
  },
  {
   "cell_type": "code",
   "execution_count": 10,
   "id": "1513e563",
   "metadata": {
    "execution": {
     "iopub.execute_input": "2021-04-04T23:13:01.485235Z",
     "iopub.status.busy": "2021-04-04T23:13:01.484238Z",
     "iopub.status.idle": "2021-04-04T23:13:01.488046Z",
     "shell.execute_reply": "2021-04-04T23:13:01.487083Z"
    },
    "papermill": {
     "duration": 0.029868,
     "end_time": "2021-04-04T23:13:01.488263",
     "exception": false,
     "start_time": "2021-04-04T23:13:01.458395",
     "status": "completed"
    },
    "tags": []
   },
   "outputs": [],
   "source": [
    "working_df = df.copy()"
   ]
  },
  {
   "cell_type": "code",
   "execution_count": 11,
   "id": "3b26d675",
   "metadata": {
    "execution": {
     "iopub.execute_input": "2021-04-04T23:13:01.543439Z",
     "iopub.status.busy": "2021-04-04T23:13:01.542170Z",
     "iopub.status.idle": "2021-04-04T23:13:01.545811Z",
     "shell.execute_reply": "2021-04-04T23:13:01.544923Z"
    },
    "papermill": {
     "duration": 0.032293,
     "end_time": "2021-04-04T23:13:01.546010",
     "exception": false,
     "start_time": "2021-04-04T23:13:01.513717",
     "status": "completed"
    },
    "tags": []
   },
   "outputs": [],
   "source": [
    "working_df['defects'] = working_df['defects'].replace([False, True], [0, 1])"
   ]
  },
  {
   "cell_type": "code",
   "execution_count": 12,
   "id": "eb48604f",
   "metadata": {
    "execution": {
     "iopub.execute_input": "2021-04-04T23:13:01.595320Z",
     "iopub.status.busy": "2021-04-04T23:13:01.594294Z",
     "iopub.status.idle": "2021-04-04T23:13:01.597617Z",
     "shell.execute_reply": "2021-04-04T23:13:01.596686Z"
    },
    "papermill": {
     "duration": 0.029184,
     "end_time": "2021-04-04T23:13:01.597803",
     "exception": false,
     "start_time": "2021-04-04T23:13:01.568619",
     "status": "completed"
    },
    "tags": []
   },
   "outputs": [],
   "source": [
    "for col in dataset_config['delete_columns']:\n",
    "    del working_df[col]"
   ]
  },
  {
   "cell_type": "code",
   "execution_count": 13,
   "id": "9a17bc29",
   "metadata": {
    "execution": {
     "iopub.execute_input": "2021-04-04T23:13:01.655225Z",
     "iopub.status.busy": "2021-04-04T23:13:01.654504Z",
     "iopub.status.idle": "2021-04-04T23:13:01.664147Z",
     "shell.execute_reply": "2021-04-04T23:13:01.663633Z"
    },
    "papermill": {
     "duration": 0.036268,
     "end_time": "2021-04-04T23:13:01.664267",
     "exception": false,
     "start_time": "2021-04-04T23:13:01.627999",
     "status": "completed"
    },
    "tags": []
   },
   "outputs": [],
   "source": [
    "working_df = working_df.drop_duplicates()"
   ]
  },
  {
   "cell_type": "markdown",
   "id": "a4d52ca6",
   "metadata": {
    "papermill": {
     "duration": 0.021234,
     "end_time": "2021-04-04T23:13:01.710787",
     "exception": false,
     "start_time": "2021-04-04T23:13:01.689553",
     "status": "completed"
    },
    "tags": []
   },
   "source": [
    "# Split"
   ]
  },
  {
   "cell_type": "code",
   "execution_count": 14,
   "id": "3e9ee4b5",
   "metadata": {
    "execution": {
     "iopub.execute_input": "2021-04-04T23:13:01.766158Z",
     "iopub.status.busy": "2021-04-04T23:13:01.764971Z",
     "iopub.status.idle": "2021-04-04T23:13:01.801526Z",
     "shell.execute_reply": "2021-04-04T23:13:01.800676Z"
    },
    "papermill": {
     "duration": 0.069222,
     "end_time": "2021-04-04T23:13:01.801692",
     "exception": false,
     "start_time": "2021-04-04T23:13:01.732470",
     "status": "completed"
    },
    "tags": []
   },
   "outputs": [],
   "source": [
    "from sklearn.model_selection import train_test_split"
   ]
  },
  {
   "cell_type": "code",
   "execution_count": 15,
   "id": "274004ce",
   "metadata": {
    "execution": {
     "iopub.execute_input": "2021-04-04T23:13:01.854724Z",
     "iopub.status.busy": "2021-04-04T23:13:01.854099Z",
     "iopub.status.idle": "2021-04-04T23:13:01.860608Z",
     "shell.execute_reply": "2021-04-04T23:13:01.859659Z"
    },
    "papermill": {
     "duration": 0.03341,
     "end_time": "2021-04-04T23:13:01.860817",
     "exception": false,
     "start_time": "2021-04-04T23:13:01.827407",
     "status": "completed"
    },
    "scrolled": true,
    "tags": []
   },
   "outputs": [],
   "source": [
    "inlier, outlier = working_df[working_df['defects'] == 0], working_df[working_df['defects'] == 1]"
   ]
  },
  {
   "cell_type": "code",
   "execution_count": 16,
   "id": "753c7b03",
   "metadata": {
    "execution": {
     "iopub.execute_input": "2021-04-04T23:13:01.920503Z",
     "iopub.status.busy": "2021-04-04T23:13:01.919291Z",
     "iopub.status.idle": "2021-04-04T23:13:01.921924Z",
     "shell.execute_reply": "2021-04-04T23:13:01.922391Z"
    },
    "papermill": {
     "duration": 0.032021,
     "end_time": "2021-04-04T23:13:01.922541",
     "exception": false,
     "start_time": "2021-04-04T23:13:01.890520",
     "status": "completed"
    },
    "tags": []
   },
   "outputs": [],
   "source": [
    "X_inlier = inlier.copy()\n",
    "y_inlier = X_inlier.pop('defects')\n",
    "X_outlier = outlier.copy()\n",
    "y_outlier = X_outlier.pop('defects')"
   ]
  },
  {
   "cell_type": "code",
   "execution_count": 17,
   "id": "2ba43193",
   "metadata": {
    "execution": {
     "iopub.execute_input": "2021-04-04T23:13:01.981671Z",
     "iopub.status.busy": "2021-04-04T23:13:01.980596Z",
     "iopub.status.idle": "2021-04-04T23:13:01.983817Z",
     "shell.execute_reply": "2021-04-04T23:13:01.984667Z"
    },
    "papermill": {
     "duration": 0.035343,
     "end_time": "2021-04-04T23:13:01.984904",
     "exception": false,
     "start_time": "2021-04-04T23:13:01.949561",
     "status": "completed"
    },
    "tags": []
   },
   "outputs": [],
   "source": [
    "test_size = dataset_config['test_size']\n",
    "random_state = dataset_config['random_state']\n",
    "\n",
    "X_inlier_train, X_inlier_test, y_inlier_train, y_inlier_test = train_test_split(\n",
    "    X_inlier,\n",
    "    y_inlier,\n",
    "    test_size=test_size,\n",
    "    random_state=random_state\n",
    ")"
   ]
  },
  {
   "cell_type": "code",
   "execution_count": 18,
   "id": "0b7582ca",
   "metadata": {
    "execution": {
     "iopub.execute_input": "2021-04-04T23:13:02.045188Z",
     "iopub.status.busy": "2021-04-04T23:13:02.044164Z",
     "iopub.status.idle": "2021-04-04T23:13:02.047401Z",
     "shell.execute_reply": "2021-04-04T23:13:02.046497Z"
    },
    "papermill": {
     "duration": 0.034556,
     "end_time": "2021-04-04T23:13:02.047596",
     "exception": false,
     "start_time": "2021-04-04T23:13:02.013040",
     "status": "completed"
    },
    "tags": []
   },
   "outputs": [],
   "source": [
    "test_outlier_size = dataset_config['test_outlier_size']\n",
    "if test_outlier_size > 0.0:\n",
    "    X_outlier_train, X_outlier_test, y_outlier_train, y_outlier_test = train_test_split(\n",
    "        X_outlier,\n",
    "        y_outlier,\n",
    "        test_size=test_outlier_size,\n",
    "        random_state=random_state\n",
    "    )\n",
    "else:\n",
    "    X_outlier_train, y_outlier_train = pd.DataFrame(columns=X_outlier.columns), pd.Series(dtype='int64')\n",
    "    X_outlier_test, y_outlier_test = X_outlier.copy(), y_outlier.copy()"
   ]
  },
  {
   "cell_type": "code",
   "execution_count": 19,
   "id": "c34363db",
   "metadata": {
    "execution": {
     "iopub.execute_input": "2021-04-04T23:13:02.108599Z",
     "iopub.status.busy": "2021-04-04T23:13:02.107220Z",
     "iopub.status.idle": "2021-04-04T23:13:02.111051Z",
     "shell.execute_reply": "2021-04-04T23:13:02.110131Z"
    },
    "papermill": {
     "duration": 0.036812,
     "end_time": "2021-04-04T23:13:02.111270",
     "exception": false,
     "start_time": "2021-04-04T23:13:02.074458",
     "status": "completed"
    },
    "tags": []
   },
   "outputs": [],
   "source": [
    "X_train, y_train = pd.concat([X_inlier_train, X_outlier_train], ignore_index=True), pd.concat([y_inlier_train, y_outlier_train], ignore_index=True)\n",
    "X_test, y_test = pd.concat([X_inlier_test, X_outlier_test], ignore_index=True), pd.concat([y_inlier_test, y_outlier_test], ignore_index=True)"
   ]
  },
  {
   "cell_type": "markdown",
   "id": "7cde7309",
   "metadata": {
    "papermill": {
     "duration": 0.022049,
     "end_time": "2021-04-04T23:13:02.158850",
     "exception": false,
     "start_time": "2021-04-04T23:13:02.136801",
     "status": "completed"
    },
    "tags": []
   },
   "source": [
    "# Model"
   ]
  },
  {
   "cell_type": "code",
   "execution_count": 20,
   "id": "2b12a415",
   "metadata": {
    "execution": {
     "iopub.execute_input": "2021-04-04T23:13:02.217739Z",
     "iopub.status.busy": "2021-04-04T23:13:02.216669Z",
     "iopub.status.idle": "2021-04-04T23:13:02.221089Z",
     "shell.execute_reply": "2021-04-04T23:13:02.220240Z"
    },
    "papermill": {
     "duration": 0.03998,
     "end_time": "2021-04-04T23:13:02.221254",
     "exception": false,
     "start_time": "2021-04-04T23:13:02.181274",
     "status": "completed"
    },
    "tags": []
   },
   "outputs": [],
   "source": [
    "from math import sqrt\n",
    "\n",
    "\n",
    "class KNNDataDescription:\n",
    "    def __init__(self, k=5, outlier_threshold=1.0):\n",
    "        self.k = k\n",
    "        self.outlier_threshold = outlier_threshold\n",
    "        self.X = []\n",
    "    \n",
    "    def fit(self, X):\n",
    "        self.X = [features.to_list() for index, features in X.iterrows()]\n",
    "\n",
    "    def predict(self, entries):\n",
    "        return [self.predict_entry(features.to_list()) for index, features in entries.iterrows()]\n",
    "    \n",
    "    def predict_entry(self, entry):\n",
    "        kth_neighbor, kth_distance = self.get_kth_neighbor(entry, self.k)\n",
    "        kth_kth_neighbor, kth_kth_distance = self.get_kth_neighbor(kth_neighbor, self.k + 1)\n",
    "\n",
    "        outlier_score = kth_distance / (kth_kth_distance + 0.000001)\n",
    "\n",
    "        return 1 if outlier_score < self.outlier_threshold else -1\n",
    "        \n",
    "    def euclidean_distance(self, features1, features2):\n",
    "        distance = 0.0\n",
    "        for feat1, feat2 in zip(features1, features2):\n",
    "            distance += (feat1 - feat2)**2\n",
    "                \n",
    "        return sqrt(distance)\n",
    "\n",
    "    def get_neighbors(self, entry, k):\n",
    "        distance_to_data_points = [\n",
    "            (data_point, self.euclidean_distance(entry, data_point))\n",
    "            for data_point in self.X\n",
    "        ]\n",
    "        sorted_by_distance = sorted(distance_to_data_points, key=lambda tup: tup[1])\n",
    "        neighbors = sorted_by_distance[:k]\n",
    "        return neighbors\n",
    "\n",
    "    def get_kth_neighbor(self, entry, k):\n",
    "        neighbors = self.get_neighbors(entry, k)\n",
    "        return neighbors[-1]\n"
   ]
  },
  {
   "cell_type": "code",
   "execution_count": 21,
   "id": "1fa9ec1c",
   "metadata": {
    "execution": {
     "iopub.execute_input": "2021-04-04T23:13:02.274408Z",
     "iopub.status.busy": "2021-04-04T23:13:02.273565Z",
     "iopub.status.idle": "2021-04-04T23:13:02.299670Z",
     "shell.execute_reply": "2021-04-04T23:13:02.300583Z"
    },
    "papermill": {
     "duration": 0.054336,
     "end_time": "2021-04-04T23:13:02.300836",
     "exception": false,
     "start_time": "2021-04-04T23:13:02.246500",
     "status": "completed"
    },
    "tags": []
   },
   "outputs": [],
   "source": [
    "from sklearn.svm import OneClassSVM\n",
    "\n",
    "\n",
    "models = {\n",
    "    'oneclasssvm': OneClassSVM,\n",
    "    'knndatadescription': KNNDataDescription,\n",
    "}"
   ]
  },
  {
   "cell_type": "code",
   "execution_count": 22,
   "id": "4d72a0b1",
   "metadata": {
    "execution": {
     "iopub.execute_input": "2021-04-04T23:13:02.366915Z",
     "iopub.status.busy": "2021-04-04T23:13:02.365649Z",
     "iopub.status.idle": "2021-04-04T23:13:02.369102Z",
     "shell.execute_reply": "2021-04-04T23:13:02.368278Z"
    },
    "papermill": {
     "duration": 0.033478,
     "end_time": "2021-04-04T23:13:02.369264",
     "exception": false,
     "start_time": "2021-04-04T23:13:02.335786",
     "status": "completed"
    },
    "scrolled": true,
    "tags": []
   },
   "outputs": [],
   "source": [
    "model_cls = models[model_config['model_type']]\n",
    "model = model_cls(**model_config['hyperparameters'])"
   ]
  },
  {
   "cell_type": "markdown",
   "id": "e00cff3b",
   "metadata": {
    "papermill": {
     "duration": 0.023147,
     "end_time": "2021-04-04T23:13:02.423608",
     "exception": false,
     "start_time": "2021-04-04T23:13:02.400461",
     "status": "completed"
    },
    "tags": []
   },
   "source": [
    "# Fit"
   ]
  },
  {
   "cell_type": "code",
   "execution_count": 23,
   "id": "8b2ded89",
   "metadata": {
    "execution": {
     "iopub.execute_input": "2021-04-04T23:13:02.476683Z",
     "iopub.status.busy": "2021-04-04T23:13:02.476077Z",
     "iopub.status.idle": "2021-04-04T23:13:02.487890Z",
     "shell.execute_reply": "2021-04-04T23:13:02.487071Z"
    },
    "papermill": {
     "duration": 0.041476,
     "end_time": "2021-04-04T23:13:02.488072",
     "exception": false,
     "start_time": "2021-04-04T23:13:02.446596",
     "status": "completed"
    },
    "tags": []
   },
   "outputs": [
    {
     "data": {
      "text/plain": [
       "OneClassSVM()"
      ]
     },
     "execution_count": 23,
     "metadata": {},
     "output_type": "execute_result"
    }
   ],
   "source": [
    "model.fit(X_train)"
   ]
  },
  {
   "cell_type": "markdown",
   "id": "f99999f7",
   "metadata": {
    "papermill": {
     "duration": 0.02275,
     "end_time": "2021-04-04T23:13:02.542024",
     "exception": false,
     "start_time": "2021-04-04T23:13:02.519274",
     "status": "completed"
    },
    "tags": []
   },
   "source": [
    "# Predict"
   ]
  },
  {
   "cell_type": "code",
   "execution_count": 24,
   "id": "6536fbf7",
   "metadata": {
    "execution": {
     "iopub.execute_input": "2021-04-04T23:13:02.596525Z",
     "iopub.status.busy": "2021-04-04T23:13:02.595686Z",
     "iopub.status.idle": "2021-04-04T23:13:02.600817Z",
     "shell.execute_reply": "2021-04-04T23:13:02.601681Z"
    },
    "papermill": {
     "duration": 0.037068,
     "end_time": "2021-04-04T23:13:02.601987",
     "exception": false,
     "start_time": "2021-04-04T23:13:02.564919",
     "status": "completed"
    },
    "tags": []
   },
   "outputs": [],
   "source": [
    "predictions = model.predict(X_test)"
   ]
  },
  {
   "cell_type": "markdown",
   "id": "aa1c9881",
   "metadata": {
    "papermill": {
     "duration": 0.022948,
     "end_time": "2021-04-04T23:13:02.653218",
     "exception": false,
     "start_time": "2021-04-04T23:13:02.630270",
     "status": "completed"
    },
    "tags": []
   },
   "source": [
    "# Evaluate"
   ]
  },
  {
   "cell_type": "code",
   "execution_count": 25,
   "id": "894f0f04",
   "metadata": {
    "execution": {
     "iopub.execute_input": "2021-04-04T23:13:02.704568Z",
     "iopub.status.busy": "2021-04-04T23:13:02.703532Z",
     "iopub.status.idle": "2021-04-04T23:13:02.705961Z",
     "shell.execute_reply": "2021-04-04T23:13:02.706805Z"
    },
    "papermill": {
     "duration": 0.030821,
     "end_time": "2021-04-04T23:13:02.707020",
     "exception": false,
     "start_time": "2021-04-04T23:13:02.676199",
     "status": "completed"
    },
    "tags": []
   },
   "outputs": [],
   "source": [
    "from sklearn.metrics import f1_score"
   ]
  },
  {
   "cell_type": "code",
   "execution_count": 26,
   "id": "211744d3",
   "metadata": {
    "execution": {
     "iopub.execute_input": "2021-04-04T23:13:02.770081Z",
     "iopub.status.busy": "2021-04-04T23:13:02.769540Z",
     "iopub.status.idle": "2021-04-04T23:13:02.772677Z",
     "shell.execute_reply": "2021-04-04T23:13:02.773140Z"
    },
    "papermill": {
     "duration": 0.038887,
     "end_time": "2021-04-04T23:13:02.773275",
     "exception": false,
     "start_time": "2021-04-04T23:13:02.734388",
     "status": "completed"
    },
    "tags": []
   },
   "outputs": [],
   "source": [
    "y_test = y_test.replace([0, 1], [1, -1])"
   ]
  },
  {
   "cell_type": "code",
   "execution_count": 27,
   "id": "d68a9204",
   "metadata": {
    "execution": {
     "iopub.execute_input": "2021-04-04T23:13:02.829584Z",
     "iopub.status.busy": "2021-04-04T23:13:02.828802Z",
     "iopub.status.idle": "2021-04-04T23:13:02.830647Z",
     "shell.execute_reply": "2021-04-04T23:13:02.831196Z"
    },
    "papermill": {
     "duration": 0.034317,
     "end_time": "2021-04-04T23:13:02.831341",
     "exception": false,
     "start_time": "2021-04-04T23:13:02.797024",
     "status": "completed"
    },
    "tags": []
   },
   "outputs": [],
   "source": [
    "def evaluate(truths, predictions, pos_label, neg_label):\n",
    "    TP = 0\n",
    "    FP = 0\n",
    "    TN = 0\n",
    "    FN = 0\n",
    "\n",
    "    for truth, pred in zip(truths, predictions): \n",
    "        if truth == pred == pos_label:\n",
    "           TP += 1\n",
    "        elif pred == pos_label and truth == neg_label:\n",
    "           FP += 1\n",
    "        elif truth == pred == neg_label:\n",
    "           TN += 1\n",
    "        elif pred == neg_label and truth == pos_label:\n",
    "           FN += 1\n",
    "\n",
    "    precision = TP / (TP + FP)\n",
    "    sensitivity = TP / (TP + FN)\n",
    "    \n",
    "    return {\n",
    "        'true_pos': TP,\n",
    "        'false_pos': FP,\n",
    "        'false_neg': FN,\n",
    "        'true_neg': TN,\n",
    "        'precision': precision,\n",
    "        'sensitivity': sensitivity,\n",
    "        'f1': (2 * (precision * sensitivity)) / (precision + sensitivity)\n",
    "    }\n",
    "\n",
    "score = evaluate(y_test, predictions, pos_label=-1, neg_label=1)"
   ]
  },
  {
   "cell_type": "markdown",
   "id": "93596516",
   "metadata": {
    "papermill": {
     "duration": 0.023286,
     "end_time": "2021-04-04T23:13:02.878661",
     "exception": false,
     "start_time": "2021-04-04T23:13:02.855375",
     "status": "completed"
    },
    "tags": []
   },
   "source": [
    "# Report"
   ]
  },
  {
   "cell_type": "code",
   "execution_count": 28,
   "id": "bea5fba1",
   "metadata": {
    "execution": {
     "iopub.execute_input": "2021-04-04T23:13:02.931315Z",
     "iopub.status.busy": "2021-04-04T23:13:02.930411Z",
     "iopub.status.idle": "2021-04-04T23:13:02.933284Z",
     "shell.execute_reply": "2021-04-04T23:13:02.932713Z"
    },
    "papermill": {
     "duration": 0.031256,
     "end_time": "2021-04-04T23:13:02.933408",
     "exception": false,
     "start_time": "2021-04-04T23:13:02.902152",
     "status": "completed"
    },
    "tags": []
   },
   "outputs": [],
   "source": [
    "import csv\n",
    "\n",
    "\n",
    "dataset_config_name = DATASET_CONFIG_PATH.split('/')[-1].split('.')[0]\n",
    "model_config_name = MODEL_CONFIG_PATH.split('/')[-1].split('.')[0]\n",
    "configuration = f\"dataset_{dataset_config_name}-model_{model_config_name}\"\n",
    "\n",
    "with open('results.csv', 'a') as f:\n",
    "    report = dict({'configuration': configuration}, **score)\n",
    "    writer = csv.DictWriter(f, report.keys())\n",
    "    writer.writerow(report)"
   ]
  }
 ],
 "metadata": {
  "celltoolbar": "Tags",
  "kernelspec": {
   "display_name": "Python 3",
   "language": "python",
   "name": "python3"
  },
  "language_info": {
   "codemirror_mode": {
    "name": "ipython",
    "version": 3
   },
   "file_extension": ".py",
   "mimetype": "text/x-python",
   "name": "python",
   "nbconvert_exporter": "python",
   "pygments_lexer": "ipython3",
   "version": "3.9.1"
  },
  "papermill": {
   "default_parameters": {},
   "duration": 4.835936,
   "end_time": "2021-04-04T23:13:03.568281",
   "environment_variables": {},
   "exception": null,
   "input_path": "main.ipynb",
   "output_path": "runs/dataset_000100-model_000004.ipynb",
   "parameters": {
    "DATASET_CONFIG_PATH": "config/dataset/000100.json",
    "MODEL_CONFIG_PATH": "config/model/000004.json",
    "PROFILE_REPORTING": false
   },
   "start_time": "2021-04-04T23:12:58.732345",
   "version": "2.3.3"
  }
 },
 "nbformat": 4,
 "nbformat_minor": 5
}