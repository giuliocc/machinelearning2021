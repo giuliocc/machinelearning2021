{
 "cells": [
  {
   "cell_type": "markdown",
   "id": "4588efca",
   "metadata": {
    "papermill": {
     "duration": 0.028668,
     "end_time": "2021-04-04T22:22:16.330958",
     "exception": false,
     "start_time": "2021-04-04T22:22:16.302290",
     "status": "completed"
    },
    "tags": []
   },
   "source": [
    "# Parametrizing"
   ]
  },
  {
   "cell_type": "code",
   "execution_count": 1,
   "id": "5964d9c0",
   "metadata": {
    "execution": {
     "iopub.execute_input": "2021-04-04T22:22:16.389454Z",
     "iopub.status.busy": "2021-04-04T22:22:16.388581Z",
     "iopub.status.idle": "2021-04-04T22:22:16.390950Z",
     "shell.execute_reply": "2021-04-04T22:22:16.391457Z"
    },
    "papermill": {
     "duration": 0.03746,
     "end_time": "2021-04-04T22:22:16.391683",
     "exception": false,
     "start_time": "2021-04-04T22:22:16.354223",
     "status": "completed"
    },
    "tags": [
     "parameters"
    ]
   },
   "outputs": [],
   "source": [
    "DATASET_CONFIG_PATH = 'config/dataset/kc1_001.json'\n",
    "MODEL_CONFIG_PATH = 'config/model/knndd_001.json'\n",
    "PROFILE_REPORTING = False"
   ]
  },
  {
   "cell_type": "code",
   "execution_count": 2,
   "id": "39dbf7da",
   "metadata": {
    "execution": {
     "iopub.execute_input": "2021-04-04T22:22:16.439211Z",
     "iopub.status.busy": "2021-04-04T22:22:16.438399Z",
     "iopub.status.idle": "2021-04-04T22:22:16.440671Z",
     "shell.execute_reply": "2021-04-04T22:22:16.441142Z"
    },
    "papermill": {
     "duration": 0.026921,
     "end_time": "2021-04-04T22:22:16.441285",
     "exception": false,
     "start_time": "2021-04-04T22:22:16.414364",
     "status": "completed"
    },
    "tags": [
     "injected-parameters"
    ]
   },
   "outputs": [],
   "source": [
    "# Parameters\n",
    "DATASET_CONFIG_PATH = \"config/dataset/000002.json\"\n",
    "MODEL_CONFIG_PATH = \"config/model/000004.json\"\n",
    "PROFILE_REPORTING = False\n"
   ]
  },
  {
   "cell_type": "code",
   "execution_count": 3,
   "id": "3fa67035",
   "metadata": {
    "execution": {
     "iopub.execute_input": "2021-04-04T22:22:16.489750Z",
     "iopub.status.busy": "2021-04-04T22:22:16.488875Z",
     "iopub.status.idle": "2021-04-04T22:22:16.492360Z",
     "shell.execute_reply": "2021-04-04T22:22:16.493219Z"
    },
    "papermill": {
     "duration": 0.03023,
     "end_time": "2021-04-04T22:22:16.493462",
     "exception": false,
     "start_time": "2021-04-04T22:22:16.463232",
     "status": "completed"
    },
    "tags": []
   },
   "outputs": [],
   "source": [
    "import json\n",
    "\n",
    "\n",
    "with open(DATASET_CONFIG_PATH) as f:\n",
    "    dataset_config = json.load(f)\n",
    "\n",
    "with open(MODEL_CONFIG_PATH) as f:\n",
    "    model_config = json.load(f)"
   ]
  },
  {
   "cell_type": "markdown",
   "id": "9a4b0e2d",
   "metadata": {
    "papermill": {
     "duration": 0.019136,
     "end_time": "2021-04-04T22:22:16.539392",
     "exception": false,
     "start_time": "2021-04-04T22:22:16.520256",
     "status": "completed"
    },
    "tags": []
   },
   "source": [
    "# Profiling"
   ]
  },
  {
   "cell_type": "code",
   "execution_count": 4,
   "id": "a3e0289b",
   "metadata": {
    "execution": {
     "iopub.execute_input": "2021-04-04T22:22:16.582754Z",
     "iopub.status.busy": "2021-04-04T22:22:16.581880Z",
     "iopub.status.idle": "2021-04-04T22:22:17.841818Z",
     "shell.execute_reply": "2021-04-04T22:22:17.842516Z"
    },
    "papermill": {
     "duration": 1.284187,
     "end_time": "2021-04-04T22:22:17.842720",
     "exception": false,
     "start_time": "2021-04-04T22:22:16.558533",
     "status": "completed"
    },
    "tags": []
   },
   "outputs": [],
   "source": [
    "import pandas as pd\n",
    "from pandas_profiling import ProfileReport"
   ]
  },
  {
   "cell_type": "code",
   "execution_count": 5,
   "id": "ee6c0666",
   "metadata": {
    "execution": {
     "iopub.execute_input": "2021-04-04T22:22:17.894117Z",
     "iopub.status.busy": "2021-04-04T22:22:17.892690Z",
     "iopub.status.idle": "2021-04-04T22:22:17.905802Z",
     "shell.execute_reply": "2021-04-04T22:22:17.904969Z"
    },
    "papermill": {
     "duration": 0.040647,
     "end_time": "2021-04-04T22:22:17.905964",
     "exception": false,
     "start_time": "2021-04-04T22:22:17.865317",
     "status": "completed"
    },
    "tags": []
   },
   "outputs": [],
   "source": [
    "df = pd.read_csv(dataset_config['dataset_path'])"
   ]
  },
  {
   "cell_type": "code",
   "execution_count": 6,
   "id": "20d45671",
   "metadata": {
    "execution": {
     "iopub.execute_input": "2021-04-04T22:22:17.956496Z",
     "iopub.status.busy": "2021-04-04T22:22:17.955518Z",
     "iopub.status.idle": "2021-04-04T22:22:17.972287Z",
     "shell.execute_reply": "2021-04-04T22:22:17.973200Z"
    },
    "papermill": {
     "duration": 0.043773,
     "end_time": "2021-04-04T22:22:17.973455",
     "exception": false,
     "start_time": "2021-04-04T22:22:17.929682",
     "status": "completed"
    },
    "tags": []
   },
   "outputs": [
    {
     "name": "stdout",
     "output_type": "stream",
     "text": [
      "<class 'pandas.core.frame.DataFrame'>\n",
      "RangeIndex: 2109 entries, 0 to 2108\n",
      "Data columns (total 23 columns):\n",
      " #   Column             Non-Null Count  Dtype  \n",
      "---  ------             --------------  -----  \n",
      " 0   id                 2109 non-null   int64  \n",
      " 1   loc                2109 non-null   float64\n",
      " 2   v(g)               2109 non-null   float64\n",
      " 3   ev(g)              2109 non-null   float64\n",
      " 4   iv(g)              2109 non-null   float64\n",
      " 5   n                  2109 non-null   float64\n",
      " 6   v                  2109 non-null   float64\n",
      " 7   l                  2109 non-null   float64\n",
      " 8   d                  2109 non-null   float64\n",
      " 9   i                  2109 non-null   float64\n",
      " 10  e                  2109 non-null   float64\n",
      " 11  b                  2109 non-null   float64\n",
      " 12  t                  2109 non-null   float64\n",
      " 13  lOCode             2109 non-null   int64  \n",
      " 14  lOComment          2109 non-null   int64  \n",
      " 15  lOBlank            2109 non-null   int64  \n",
      " 16  locCodeAndComment  2109 non-null   int64  \n",
      " 17  uniq_Op            2109 non-null   float64\n",
      " 18  uniq_Opnd          2109 non-null   float64\n",
      " 19  total_Op           2109 non-null   float64\n",
      " 20  total_Opnd         2109 non-null   float64\n",
      " 21  branchCount        2109 non-null   float64\n",
      " 22  defects            2109 non-null   bool   \n",
      "dtypes: bool(1), float64(17), int64(5)\n",
      "memory usage: 364.7 KB\n"
     ]
    }
   ],
   "source": [
    "df.info()"
   ]
  },
  {
   "cell_type": "code",
   "execution_count": 7,
   "id": "a676db33",
   "metadata": {
    "execution": {
     "iopub.execute_input": "2021-04-04T22:22:18.025862Z",
     "iopub.status.busy": "2021-04-04T22:22:18.024932Z",
     "iopub.status.idle": "2021-04-04T22:22:18.055366Z",
     "shell.execute_reply": "2021-04-04T22:22:18.056276Z"
    },
    "papermill": {
     "duration": 0.061207,
     "end_time": "2021-04-04T22:22:18.056532",
     "exception": false,
     "start_time": "2021-04-04T22:22:17.995325",
     "status": "completed"
    },
    "tags": []
   },
   "outputs": [
    {
     "data": {
      "text/html": [
       "<div>\n",
       "<style scoped>\n",
       "    .dataframe tbody tr th:only-of-type {\n",
       "        vertical-align: middle;\n",
       "    }\n",
       "\n",
       "    .dataframe tbody tr th {\n",
       "        vertical-align: top;\n",
       "    }\n",
       "\n",
       "    .dataframe thead th {\n",
       "        text-align: right;\n",
       "    }\n",
       "</style>\n",
       "<table border=\"1\" class=\"dataframe\">\n",
       "  <thead>\n",
       "    <tr style=\"text-align: right;\">\n",
       "      <th></th>\n",
       "      <th>id</th>\n",
       "      <th>loc</th>\n",
       "      <th>v(g)</th>\n",
       "      <th>ev(g)</th>\n",
       "      <th>iv(g)</th>\n",
       "      <th>n</th>\n",
       "      <th>v</th>\n",
       "      <th>l</th>\n",
       "      <th>d</th>\n",
       "      <th>i</th>\n",
       "      <th>...</th>\n",
       "      <th>lOCode</th>\n",
       "      <th>lOComment</th>\n",
       "      <th>lOBlank</th>\n",
       "      <th>locCodeAndComment</th>\n",
       "      <th>uniq_Op</th>\n",
       "      <th>uniq_Opnd</th>\n",
       "      <th>total_Op</th>\n",
       "      <th>total_Opnd</th>\n",
       "      <th>branchCount</th>\n",
       "      <th>defects</th>\n",
       "    </tr>\n",
       "  </thead>\n",
       "  <tbody>\n",
       "    <tr>\n",
       "      <th>0</th>\n",
       "      <td>1</td>\n",
       "      <td>1.1</td>\n",
       "      <td>1.4</td>\n",
       "      <td>1.4</td>\n",
       "      <td>1.4</td>\n",
       "      <td>1.3</td>\n",
       "      <td>1.30</td>\n",
       "      <td>1.30</td>\n",
       "      <td>1.30</td>\n",
       "      <td>1.30</td>\n",
       "      <td>...</td>\n",
       "      <td>2</td>\n",
       "      <td>2</td>\n",
       "      <td>2</td>\n",
       "      <td>2</td>\n",
       "      <td>1.2</td>\n",
       "      <td>1.2</td>\n",
       "      <td>1.2</td>\n",
       "      <td>1.2</td>\n",
       "      <td>1.4</td>\n",
       "      <td>False</td>\n",
       "    </tr>\n",
       "    <tr>\n",
       "      <th>1</th>\n",
       "      <td>2</td>\n",
       "      <td>1.0</td>\n",
       "      <td>1.0</td>\n",
       "      <td>1.0</td>\n",
       "      <td>1.0</td>\n",
       "      <td>1.0</td>\n",
       "      <td>1.00</td>\n",
       "      <td>1.00</td>\n",
       "      <td>1.00</td>\n",
       "      <td>1.00</td>\n",
       "      <td>...</td>\n",
       "      <td>1</td>\n",
       "      <td>1</td>\n",
       "      <td>1</td>\n",
       "      <td>1</td>\n",
       "      <td>1.0</td>\n",
       "      <td>1.0</td>\n",
       "      <td>1.0</td>\n",
       "      <td>1.0</td>\n",
       "      <td>1.0</td>\n",
       "      <td>True</td>\n",
       "    </tr>\n",
       "    <tr>\n",
       "      <th>2</th>\n",
       "      <td>3</td>\n",
       "      <td>83.0</td>\n",
       "      <td>11.0</td>\n",
       "      <td>1.0</td>\n",
       "      <td>11.0</td>\n",
       "      <td>171.0</td>\n",
       "      <td>927.89</td>\n",
       "      <td>0.04</td>\n",
       "      <td>23.04</td>\n",
       "      <td>40.27</td>\n",
       "      <td>...</td>\n",
       "      <td>65</td>\n",
       "      <td>10</td>\n",
       "      <td>6</td>\n",
       "      <td>0</td>\n",
       "      <td>18.0</td>\n",
       "      <td>25.0</td>\n",
       "      <td>107.0</td>\n",
       "      <td>64.0</td>\n",
       "      <td>21.0</td>\n",
       "      <td>True</td>\n",
       "    </tr>\n",
       "    <tr>\n",
       "      <th>3</th>\n",
       "      <td>4</td>\n",
       "      <td>46.0</td>\n",
       "      <td>8.0</td>\n",
       "      <td>6.0</td>\n",
       "      <td>8.0</td>\n",
       "      <td>141.0</td>\n",
       "      <td>769.78</td>\n",
       "      <td>0.07</td>\n",
       "      <td>14.86</td>\n",
       "      <td>51.81</td>\n",
       "      <td>...</td>\n",
       "      <td>37</td>\n",
       "      <td>2</td>\n",
       "      <td>5</td>\n",
       "      <td>0</td>\n",
       "      <td>16.0</td>\n",
       "      <td>28.0</td>\n",
       "      <td>89.0</td>\n",
       "      <td>52.0</td>\n",
       "      <td>15.0</td>\n",
       "      <td>True</td>\n",
       "    </tr>\n",
       "    <tr>\n",
       "      <th>4</th>\n",
       "      <td>5</td>\n",
       "      <td>25.0</td>\n",
       "      <td>3.0</td>\n",
       "      <td>1.0</td>\n",
       "      <td>3.0</td>\n",
       "      <td>58.0</td>\n",
       "      <td>254.75</td>\n",
       "      <td>0.11</td>\n",
       "      <td>9.35</td>\n",
       "      <td>27.25</td>\n",
       "      <td>...</td>\n",
       "      <td>21</td>\n",
       "      <td>0</td>\n",
       "      <td>2</td>\n",
       "      <td>0</td>\n",
       "      <td>11.0</td>\n",
       "      <td>10.0</td>\n",
       "      <td>41.0</td>\n",
       "      <td>17.0</td>\n",
       "      <td>5.0</td>\n",
       "      <td>True</td>\n",
       "    </tr>\n",
       "  </tbody>\n",
       "</table>\n",
       "<p>5 rows × 23 columns</p>\n",
       "</div>"
      ],
      "text/plain": [
       "   id   loc  v(g)  ev(g)  iv(g)      n       v     l      d      i  ...  \\\n",
       "0   1   1.1   1.4    1.4    1.4    1.3    1.30  1.30   1.30   1.30  ...   \n",
       "1   2   1.0   1.0    1.0    1.0    1.0    1.00  1.00   1.00   1.00  ...   \n",
       "2   3  83.0  11.0    1.0   11.0  171.0  927.89  0.04  23.04  40.27  ...   \n",
       "3   4  46.0   8.0    6.0    8.0  141.0  769.78  0.07  14.86  51.81  ...   \n",
       "4   5  25.0   3.0    1.0    3.0   58.0  254.75  0.11   9.35  27.25  ...   \n",
       "\n",
       "   lOCode  lOComment  lOBlank  locCodeAndComment  uniq_Op  uniq_Opnd  \\\n",
       "0       2          2        2                  2      1.2        1.2   \n",
       "1       1          1        1                  1      1.0        1.0   \n",
       "2      65         10        6                  0     18.0       25.0   \n",
       "3      37          2        5                  0     16.0       28.0   \n",
       "4      21          0        2                  0     11.0       10.0   \n",
       "\n",
       "   total_Op  total_Opnd  branchCount  defects  \n",
       "0       1.2         1.2          1.4    False  \n",
       "1       1.0         1.0          1.0     True  \n",
       "2     107.0        64.0         21.0     True  \n",
       "3      89.0        52.0         15.0     True  \n",
       "4      41.0        17.0          5.0     True  \n",
       "\n",
       "[5 rows x 23 columns]"
      ]
     },
     "execution_count": 7,
     "metadata": {},
     "output_type": "execute_result"
    }
   ],
   "source": [
    "df.head()"
   ]
  },
  {
   "cell_type": "code",
   "execution_count": 8,
   "id": "dd6aa244",
   "metadata": {
    "execution": {
     "iopub.execute_input": "2021-04-04T22:22:18.112047Z",
     "iopub.status.busy": "2021-04-04T22:22:18.111223Z",
     "iopub.status.idle": "2021-04-04T22:22:18.113505Z",
     "shell.execute_reply": "2021-04-04T22:22:18.113976Z"
    },
    "papermill": {
     "duration": 0.029053,
     "end_time": "2021-04-04T22:22:18.114123",
     "exception": false,
     "start_time": "2021-04-04T22:22:18.085070",
     "status": "completed"
    },
    "tags": []
   },
   "outputs": [],
   "source": [
    "del df['id']"
   ]
  },
  {
   "cell_type": "code",
   "execution_count": 9,
   "id": "6ff6f5b0",
   "metadata": {
    "execution": {
     "iopub.execute_input": "2021-04-04T22:22:18.166998Z",
     "iopub.status.busy": "2021-04-04T22:22:18.166133Z",
     "iopub.status.idle": "2021-04-04T22:22:18.168390Z",
     "shell.execute_reply": "2021-04-04T22:22:18.168879Z"
    },
    "papermill": {
     "duration": 0.02949,
     "end_time": "2021-04-04T22:22:18.169026",
     "exception": false,
     "start_time": "2021-04-04T22:22:18.139536",
     "status": "completed"
    },
    "tags": []
   },
   "outputs": [],
   "source": [
    "if PROFILE_REPORTING:\n",
    "    ProfileReport(df).to_widgets()"
   ]
  },
  {
   "cell_type": "markdown",
   "id": "1deaf3f0",
   "metadata": {
    "papermill": {
     "duration": 0.020916,
     "end_time": "2021-04-04T22:22:18.211396",
     "exception": false,
     "start_time": "2021-04-04T22:22:18.190480",
     "status": "completed"
    },
    "tags": []
   },
   "source": [
    "# Preprocess"
   ]
  },
  {
   "cell_type": "code",
   "execution_count": 10,
   "id": "9153b2bb",
   "metadata": {
    "execution": {
     "iopub.execute_input": "2021-04-04T22:22:18.259273Z",
     "iopub.status.busy": "2021-04-04T22:22:18.258385Z",
     "iopub.status.idle": "2021-04-04T22:22:18.260648Z",
     "shell.execute_reply": "2021-04-04T22:22:18.261139Z"
    },
    "papermill": {
     "duration": 0.029005,
     "end_time": "2021-04-04T22:22:18.261289",
     "exception": false,
     "start_time": "2021-04-04T22:22:18.232284",
     "status": "completed"
    },
    "tags": []
   },
   "outputs": [],
   "source": [
    "working_df = df.copy()"
   ]
  },
  {
   "cell_type": "code",
   "execution_count": 11,
   "id": "3b26d675",
   "metadata": {
    "execution": {
     "iopub.execute_input": "2021-04-04T22:22:18.316955Z",
     "iopub.status.busy": "2021-04-04T22:22:18.315974Z",
     "iopub.status.idle": "2021-04-04T22:22:18.318547Z",
     "shell.execute_reply": "2021-04-04T22:22:18.319346Z"
    },
    "papermill": {
     "duration": 0.034111,
     "end_time": "2021-04-04T22:22:18.319574",
     "exception": false,
     "start_time": "2021-04-04T22:22:18.285463",
     "status": "completed"
    },
    "tags": []
   },
   "outputs": [],
   "source": [
    "working_df['defects'] = working_df['defects'].replace([False, True], [0, 1])"
   ]
  },
  {
   "cell_type": "code",
   "execution_count": 12,
   "id": "5f306c3e",
   "metadata": {
    "execution": {
     "iopub.execute_input": "2021-04-04T22:22:18.380888Z",
     "iopub.status.busy": "2021-04-04T22:22:18.379997Z",
     "iopub.status.idle": "2021-04-04T22:22:18.382344Z",
     "shell.execute_reply": "2021-04-04T22:22:18.381818Z"
    },
    "papermill": {
     "duration": 0.031612,
     "end_time": "2021-04-04T22:22:18.382464",
     "exception": false,
     "start_time": "2021-04-04T22:22:18.350852",
     "status": "completed"
    },
    "tags": []
   },
   "outputs": [],
   "source": [
    "for col in dataset_config['delete_columns']:\n",
    "    del working_df[col]"
   ]
  },
  {
   "cell_type": "code",
   "execution_count": 13,
   "id": "a55074fa",
   "metadata": {
    "execution": {
     "iopub.execute_input": "2021-04-04T22:22:18.432697Z",
     "iopub.status.busy": "2021-04-04T22:22:18.431909Z",
     "iopub.status.idle": "2021-04-04T22:22:18.440787Z",
     "shell.execute_reply": "2021-04-04T22:22:18.441248Z"
    },
    "papermill": {
     "duration": 0.037347,
     "end_time": "2021-04-04T22:22:18.441400",
     "exception": false,
     "start_time": "2021-04-04T22:22:18.404053",
     "status": "completed"
    },
    "tags": []
   },
   "outputs": [],
   "source": [
    "working_df = working_df.drop_duplicates()"
   ]
  },
  {
   "cell_type": "markdown",
   "id": "a4d52ca6",
   "metadata": {
    "papermill": {
     "duration": 0.021866,
     "end_time": "2021-04-04T22:22:18.486249",
     "exception": false,
     "start_time": "2021-04-04T22:22:18.464383",
     "status": "completed"
    },
    "tags": []
   },
   "source": [
    "# Split"
   ]
  },
  {
   "cell_type": "code",
   "execution_count": 14,
   "id": "3e9ee4b5",
   "metadata": {
    "execution": {
     "iopub.execute_input": "2021-04-04T22:22:18.535358Z",
     "iopub.status.busy": "2021-04-04T22:22:18.534366Z",
     "iopub.status.idle": "2021-04-04T22:22:18.563366Z",
     "shell.execute_reply": "2021-04-04T22:22:18.562748Z"
    },
    "papermill": {
     "duration": 0.055667,
     "end_time": "2021-04-04T22:22:18.563490",
     "exception": false,
     "start_time": "2021-04-04T22:22:18.507823",
     "status": "completed"
    },
    "tags": []
   },
   "outputs": [],
   "source": [
    "from sklearn.model_selection import train_test_split"
   ]
  },
  {
   "cell_type": "code",
   "execution_count": 15,
   "id": "274004ce",
   "metadata": {
    "execution": {
     "iopub.execute_input": "2021-04-04T22:22:18.613788Z",
     "iopub.status.busy": "2021-04-04T22:22:18.613170Z",
     "iopub.status.idle": "2021-04-04T22:22:18.617782Z",
     "shell.execute_reply": "2021-04-04T22:22:18.618282Z"
    },
    "papermill": {
     "duration": 0.031496,
     "end_time": "2021-04-04T22:22:18.618440",
     "exception": false,
     "start_time": "2021-04-04T22:22:18.586944",
     "status": "completed"
    },
    "scrolled": true,
    "tags": []
   },
   "outputs": [],
   "source": [
    "inlier, outlier = working_df[working_df['defects'] == 0], working_df[working_df['defects'] == 1]"
   ]
  },
  {
   "cell_type": "code",
   "execution_count": 16,
   "id": "753c7b03",
   "metadata": {
    "execution": {
     "iopub.execute_input": "2021-04-04T22:22:18.673321Z",
     "iopub.status.busy": "2021-04-04T22:22:18.672311Z",
     "iopub.status.idle": "2021-04-04T22:22:18.674908Z",
     "shell.execute_reply": "2021-04-04T22:22:18.674388Z"
    },
    "papermill": {
     "duration": 0.03212,
     "end_time": "2021-04-04T22:22:18.675030",
     "exception": false,
     "start_time": "2021-04-04T22:22:18.642910",
     "status": "completed"
    },
    "tags": []
   },
   "outputs": [],
   "source": [
    "X_inlier = inlier.copy()\n",
    "y_inlier = X_inlier.pop('defects')\n",
    "X_outlier = outlier.copy()\n",
    "y_outlier = X_outlier.pop('defects')"
   ]
  },
  {
   "cell_type": "code",
   "execution_count": 17,
   "id": "2ba43193",
   "metadata": {
    "execution": {
     "iopub.execute_input": "2021-04-04T22:22:18.727417Z",
     "iopub.status.busy": "2021-04-04T22:22:18.726311Z",
     "iopub.status.idle": "2021-04-04T22:22:18.730920Z",
     "shell.execute_reply": "2021-04-04T22:22:18.730278Z"
    },
    "papermill": {
     "duration": 0.032729,
     "end_time": "2021-04-04T22:22:18.731061",
     "exception": false,
     "start_time": "2021-04-04T22:22:18.698332",
     "status": "completed"
    },
    "tags": []
   },
   "outputs": [],
   "source": [
    "test_size = dataset_config['test_size']\n",
    "random_state = dataset_config['random_state']\n",
    "\n",
    "X_inlier_train, X_inlier_test, y_inlier_train, y_inlier_test = train_test_split(\n",
    "    X_inlier,\n",
    "    y_inlier,\n",
    "    test_size=test_size,\n",
    "    random_state=random_state\n",
    ")"
   ]
  },
  {
   "cell_type": "code",
   "execution_count": 18,
   "id": "c8b58ec3",
   "metadata": {
    "execution": {
     "iopub.execute_input": "2021-04-04T22:22:18.798110Z",
     "iopub.status.busy": "2021-04-04T22:22:18.797222Z",
     "iopub.status.idle": "2021-04-04T22:22:18.799096Z",
     "shell.execute_reply": "2021-04-04T22:22:18.799642Z"
    },
    "papermill": {
     "duration": 0.03794,
     "end_time": "2021-04-04T22:22:18.799801",
     "exception": false,
     "start_time": "2021-04-04T22:22:18.761861",
     "status": "completed"
    },
    "tags": []
   },
   "outputs": [],
   "source": [
    "test_outlier_size = dataset_config['test_outlier_size']\n",
    "if test_outlier_size > 0.0:\n",
    "    X_outlier_train, X_outlier_test, y_outlier_train, y_outlier_test = train_test_split(\n",
    "        X_outlier,\n",
    "        y_outlier,\n",
    "        test_size=test_outlier_size,\n",
    "        random_state=random_state\n",
    "    )\n",
    "else:\n",
    "    X_outlier_train, y_outlier_train = pd.DataFrame(columns=X_outlier.columns), pd.Series(dtype='int64')\n",
    "    X_outlier_test, y_outlier_test = X_outlier.copy(), y_outlier.copy()"
   ]
  },
  {
   "cell_type": "code",
   "execution_count": 19,
   "id": "95991685",
   "metadata": {
    "execution": {
     "iopub.execute_input": "2021-04-04T22:22:18.857828Z",
     "iopub.status.busy": "2021-04-04T22:22:18.856834Z",
     "iopub.status.idle": "2021-04-04T22:22:18.860034Z",
     "shell.execute_reply": "2021-04-04T22:22:18.860724Z"
    },
    "papermill": {
     "duration": 0.035559,
     "end_time": "2021-04-04T22:22:18.860929",
     "exception": false,
     "start_time": "2021-04-04T22:22:18.825370",
     "status": "completed"
    },
    "tags": []
   },
   "outputs": [],
   "source": [
    "X_train, y_train = pd.concat([X_inlier_train, X_outlier_train], ignore_index=True), pd.concat([y_inlier_train, y_outlier_train], ignore_index=True)\n",
    "X_test, y_test = pd.concat([X_inlier_test, X_outlier_test], ignore_index=True), pd.concat([y_inlier_test, y_outlier_test], ignore_index=True)"
   ]
  },
  {
   "cell_type": "markdown",
   "id": "7cde7309",
   "metadata": {
    "papermill": {
     "duration": 0.023619,
     "end_time": "2021-04-04T22:22:18.909196",
     "exception": false,
     "start_time": "2021-04-04T22:22:18.885577",
     "status": "completed"
    },
    "tags": []
   },
   "source": [
    "# Model"
   ]
  },
  {
   "cell_type": "code",
   "execution_count": 20,
   "id": "a02c5c85",
   "metadata": {
    "execution": {
     "iopub.execute_input": "2021-04-04T22:22:18.969105Z",
     "iopub.status.busy": "2021-04-04T22:22:18.968263Z",
     "iopub.status.idle": "2021-04-04T22:22:18.972188Z",
     "shell.execute_reply": "2021-04-04T22:22:18.971329Z"
    },
    "papermill": {
     "duration": 0.040667,
     "end_time": "2021-04-04T22:22:18.972370",
     "exception": false,
     "start_time": "2021-04-04T22:22:18.931703",
     "status": "completed"
    },
    "tags": []
   },
   "outputs": [],
   "source": [
    "from math import sqrt\n",
    "\n",
    "\n",
    "class KNNDataDescription:\n",
    "    def __init__(self, k=5, outlier_threshold=1.0):\n",
    "        self.k = k\n",
    "        self.outlier_threshold = outlier_threshold\n",
    "        self.X = []\n",
    "    \n",
    "    def fit(self, X):\n",
    "        self.X = [features.to_list() for index, features in X.iterrows()]\n",
    "\n",
    "    def predict(self, entries):\n",
    "        return [self.predict_entry(features.to_list()) for index, features in entries.iterrows()]\n",
    "    \n",
    "    def predict_entry(self, entry):\n",
    "        kth_neighbor, kth_distance = self.get_kth_neighbor(entry, self.k)\n",
    "        kth_kth_neighbor, kth_kth_distance = self.get_kth_neighbor(kth_neighbor, self.k + 1)\n",
    "\n",
    "        outlier_score = kth_distance / (kth_kth_distance + 0.000001)\n",
    "\n",
    "        return 1 if outlier_score < self.outlier_threshold else -1\n",
    "        \n",
    "    def euclidean_distance(self, features1, features2):\n",
    "        distance = 0.0\n",
    "        for feat1, feat2 in zip(features1, features2):\n",
    "            distance += (feat1 - feat2)**2\n",
    "                \n",
    "        return sqrt(distance)\n",
    "\n",
    "    def get_neighbors(self, entry, k):\n",
    "        distance_to_data_points = [\n",
    "            (data_point, self.euclidean_distance(entry, data_point))\n",
    "            for data_point in self.X\n",
    "        ]\n",
    "        sorted_by_distance = sorted(distance_to_data_points, key=lambda tup: tup[1])\n",
    "        neighbors = sorted_by_distance[:k]\n",
    "        return neighbors\n",
    "\n",
    "    def get_kth_neighbor(self, entry, k):\n",
    "        neighbors = self.get_neighbors(entry, k)\n",
    "        return neighbors[-1]\n"
   ]
  },
  {
   "cell_type": "code",
   "execution_count": 21,
   "id": "1fa9ec1c",
   "metadata": {
    "execution": {
     "iopub.execute_input": "2021-04-04T22:22:19.034108Z",
     "iopub.status.busy": "2021-04-04T22:22:19.033079Z",
     "iopub.status.idle": "2021-04-04T22:22:19.055379Z",
     "shell.execute_reply": "2021-04-04T22:22:19.054378Z"
    },
    "papermill": {
     "duration": 0.051135,
     "end_time": "2021-04-04T22:22:19.055574",
     "exception": false,
     "start_time": "2021-04-04T22:22:19.004439",
     "status": "completed"
    },
    "tags": []
   },
   "outputs": [],
   "source": [
    "from sklearn.svm import OneClassSVM\n",
    "\n",
    "\n",
    "models = {\n",
    "    'oneclasssvm': OneClassSVM,\n",
    "    'knndatadescription': KNNDataDescription,\n",
    "}"
   ]
  },
  {
   "cell_type": "code",
   "execution_count": 22,
   "id": "4d72a0b1",
   "metadata": {
    "execution": {
     "iopub.execute_input": "2021-04-04T22:22:19.111873Z",
     "iopub.status.busy": "2021-04-04T22:22:19.111157Z",
     "iopub.status.idle": "2021-04-04T22:22:19.114013Z",
     "shell.execute_reply": "2021-04-04T22:22:19.113282Z"
    },
    "papermill": {
     "duration": 0.029862,
     "end_time": "2021-04-04T22:22:19.114179",
     "exception": false,
     "start_time": "2021-04-04T22:22:19.084317",
     "status": "completed"
    },
    "scrolled": true,
    "tags": []
   },
   "outputs": [],
   "source": [
    "model_cls = models[model_config['model_type']]\n",
    "model = model_cls(**model_config['hyperparameters'])"
   ]
  },
  {
   "cell_type": "markdown",
   "id": "e00cff3b",
   "metadata": {
    "papermill": {
     "duration": 0.023559,
     "end_time": "2021-04-04T22:22:19.165658",
     "exception": false,
     "start_time": "2021-04-04T22:22:19.142099",
     "status": "completed"
    },
    "tags": []
   },
   "source": [
    "# Fit"
   ]
  },
  {
   "cell_type": "code",
   "execution_count": 23,
   "id": "8b2ded89",
   "metadata": {
    "execution": {
     "iopub.execute_input": "2021-04-04T22:22:19.219509Z",
     "iopub.status.busy": "2021-04-04T22:22:19.215771Z",
     "iopub.status.idle": "2021-04-04T22:22:19.241614Z",
     "shell.execute_reply": "2021-04-04T22:22:19.242659Z"
    },
    "papermill": {
     "duration": 0.054806,
     "end_time": "2021-04-04T22:22:19.242952",
     "exception": false,
     "start_time": "2021-04-04T22:22:19.188146",
     "status": "completed"
    },
    "tags": []
   },
   "outputs": [
    {
     "data": {
      "text/plain": [
       "OneClassSVM()"
      ]
     },
     "execution_count": 23,
     "metadata": {},
     "output_type": "execute_result"
    }
   ],
   "source": [
    "model.fit(X_train)"
   ]
  },
  {
   "cell_type": "markdown",
   "id": "f99999f7",
   "metadata": {
    "papermill": {
     "duration": 0.024004,
     "end_time": "2021-04-04T22:22:19.297902",
     "exception": false,
     "start_time": "2021-04-04T22:22:19.273898",
     "status": "completed"
    },
    "tags": []
   },
   "source": [
    "# Predict"
   ]
  },
  {
   "cell_type": "code",
   "execution_count": 24,
   "id": "6536fbf7",
   "metadata": {
    "execution": {
     "iopub.execute_input": "2021-04-04T22:22:19.353785Z",
     "iopub.status.busy": "2021-04-04T22:22:19.348624Z",
     "iopub.status.idle": "2021-04-04T22:22:19.369873Z",
     "shell.execute_reply": "2021-04-04T22:22:19.368735Z"
    },
    "papermill": {
     "duration": 0.049225,
     "end_time": "2021-04-04T22:22:19.370047",
     "exception": false,
     "start_time": "2021-04-04T22:22:19.320822",
     "status": "completed"
    },
    "tags": []
   },
   "outputs": [],
   "source": [
    "predictions = model.predict(X_test)"
   ]
  },
  {
   "cell_type": "markdown",
   "id": "aa1c9881",
   "metadata": {
    "papermill": {
     "duration": 0.025505,
     "end_time": "2021-04-04T22:22:19.419704",
     "exception": false,
     "start_time": "2021-04-04T22:22:19.394199",
     "status": "completed"
    },
    "tags": []
   },
   "source": [
    "# Evaluate"
   ]
  },
  {
   "cell_type": "code",
   "execution_count": 25,
   "id": "894f0f04",
   "metadata": {
    "execution": {
     "iopub.execute_input": "2021-04-04T22:22:19.469744Z",
     "iopub.status.busy": "2021-04-04T22:22:19.469035Z",
     "iopub.status.idle": "2021-04-04T22:22:19.470837Z",
     "shell.execute_reply": "2021-04-04T22:22:19.471314Z"
    },
    "papermill": {
     "duration": 0.028661,
     "end_time": "2021-04-04T22:22:19.471463",
     "exception": false,
     "start_time": "2021-04-04T22:22:19.442802",
     "status": "completed"
    },
    "tags": []
   },
   "outputs": [],
   "source": [
    "from sklearn.metrics import f1_score"
   ]
  },
  {
   "cell_type": "code",
   "execution_count": 26,
   "id": "211744d3",
   "metadata": {
    "execution": {
     "iopub.execute_input": "2021-04-04T22:22:19.525440Z",
     "iopub.status.busy": "2021-04-04T22:22:19.524663Z",
     "iopub.status.idle": "2021-04-04T22:22:19.526989Z",
     "shell.execute_reply": "2021-04-04T22:22:19.526379Z"
    },
    "papermill": {
     "duration": 0.031349,
     "end_time": "2021-04-04T22:22:19.527111",
     "exception": false,
     "start_time": "2021-04-04T22:22:19.495762",
     "status": "completed"
    },
    "tags": []
   },
   "outputs": [],
   "source": [
    "y_test = y_test.replace([0, 1], [1, -1])"
   ]
  },
  {
   "cell_type": "code",
   "execution_count": 27,
   "id": "d68a9204",
   "metadata": {
    "execution": {
     "iopub.execute_input": "2021-04-04T22:22:19.582912Z",
     "iopub.status.busy": "2021-04-04T22:22:19.582148Z",
     "iopub.status.idle": "2021-04-04T22:22:19.583896Z",
     "shell.execute_reply": "2021-04-04T22:22:19.584509Z"
    },
    "papermill": {
     "duration": 0.033698,
     "end_time": "2021-04-04T22:22:19.584663",
     "exception": false,
     "start_time": "2021-04-04T22:22:19.550965",
     "status": "completed"
    },
    "tags": []
   },
   "outputs": [],
   "source": [
    "def evaluate(truths, predictions, pos_label, neg_label):\n",
    "    TP = 0\n",
    "    FP = 0\n",
    "    TN = 0\n",
    "    FN = 0\n",
    "\n",
    "    for truth, pred in zip(truths, predictions): \n",
    "        if truth == pred == pos_label:\n",
    "           TP += 1\n",
    "        elif pred == pos_label and truth == neg_label:\n",
    "           FP += 1\n",
    "        elif truth == pred == neg_label:\n",
    "           TN += 1\n",
    "        elif pred == neg_label and truth == pos_label:\n",
    "           FN += 1\n",
    "        else:\n",
    "            __import__(\"ipdb\").set_trace()\n",
    "\n",
    "    precision = TP / (TP + FP)\n",
    "    sensitivity = TP / (TP + FN)\n",
    "    \n",
    "    return {\n",
    "        'true_pos': TP,\n",
    "        'false_pos': FP,\n",
    "        'false_neg': FN,\n",
    "        'true_neg': TN,\n",
    "        'precision': precision,\n",
    "        'sensitivity': sensitivity,\n",
    "        'f1': (2 * (precision * sensitivity)) / (precision + sensitivity)\n",
    "    }\n",
    "\n",
    "score = evaluate(y_test, predictions, pos_label=-1, neg_label=1)"
   ]
  },
  {
   "cell_type": "markdown",
   "id": "246fa8c7",
   "metadata": {
    "papermill": {
     "duration": 0.024471,
     "end_time": "2021-04-04T22:22:19.634787",
     "exception": false,
     "start_time": "2021-04-04T22:22:19.610316",
     "status": "completed"
    },
    "tags": []
   },
   "source": [
    "# Report"
   ]
  },
  {
   "cell_type": "code",
   "execution_count": 28,
   "id": "cfb47f85",
   "metadata": {
    "execution": {
     "iopub.execute_input": "2021-04-04T22:22:19.688006Z",
     "iopub.status.busy": "2021-04-04T22:22:19.687339Z",
     "iopub.status.idle": "2021-04-04T22:22:19.690077Z",
     "shell.execute_reply": "2021-04-04T22:22:19.690664Z"
    },
    "papermill": {
     "duration": 0.032118,
     "end_time": "2021-04-04T22:22:19.690835",
     "exception": false,
     "start_time": "2021-04-04T22:22:19.658717",
     "status": "completed"
    },
    "tags": []
   },
   "outputs": [],
   "source": [
    "import csv\n",
    "\n",
    "\n",
    "dataset_config_name = DATASET_CONFIG_PATH.split('/')[-1].split('.')[0]\n",
    "model_config_name = MODEL_CONFIG_PATH.split('/')[-1].split('.')[0]\n",
    "configuration = f\"dataset_{dataset_config_name}-model_{model_config_name}\"\n",
    "\n",
    "with open('results.csv', 'a') as f:\n",
    "    report = dict({'configuration': configuration}, **score)\n",
    "    writer = csv.DictWriter(f, report.keys())\n",
    "    writer.writerow(report)"
   ]
  }
 ],
 "metadata": {
  "celltoolbar": "Tags",
  "kernelspec": {
   "display_name": "Python 3",
   "language": "python",
   "name": "python3"
  },
  "language_info": {
   "codemirror_mode": {
    "name": "ipython",
    "version": 3
   },
   "file_extension": ".py",
   "mimetype": "text/x-python",
   "name": "python",
   "nbconvert_exporter": "python",
   "pygments_lexer": "ipython3",
   "version": "3.9.1"
  },
  "papermill": {
   "default_parameters": {},
   "duration": 4.719602,
   "end_time": "2021-04-04T22:22:20.328320",
   "environment_variables": {},
   "exception": null,
   "input_path": "main.ipynb",
   "output_path": "runs/dataset_000002-model_000004.ipynb",
   "parameters": {
    "DATASET_CONFIG_PATH": "config/dataset/000002.json",
    "MODEL_CONFIG_PATH": "config/model/000004.json",
    "PROFILE_REPORTING": false
   },
   "start_time": "2021-04-04T22:22:15.608718",
   "version": "2.3.3"
  }
 },
 "nbformat": 4,
 "nbformat_minor": 5
}