{
 "cells": [
  {
   "cell_type": "markdown",
   "id": "51c71c25",
   "metadata": {
    "papermill": {
     "duration": 0.027982,
     "end_time": "2021-04-04T23:08:14.682946",
     "exception": false,
     "start_time": "2021-04-04T23:08:14.654964",
     "status": "completed"
    },
    "tags": []
   },
   "source": [
    "# Parametrizing"
   ]
  },
  {
   "cell_type": "code",
   "execution_count": 1,
   "id": "3b136394",
   "metadata": {
    "execution": {
     "iopub.execute_input": "2021-04-04T23:08:14.734783Z",
     "iopub.status.busy": "2021-04-04T23:08:14.734191Z",
     "iopub.status.idle": "2021-04-04T23:08:14.737582Z",
     "shell.execute_reply": "2021-04-04T23:08:14.737058Z"
    },
    "papermill": {
     "duration": 0.035022,
     "end_time": "2021-04-04T23:08:14.737701",
     "exception": false,
     "start_time": "2021-04-04T23:08:14.702679",
     "status": "completed"
    },
    "tags": [
     "parameters"
    ]
   },
   "outputs": [],
   "source": [
    "DATASET_CONFIG_PATH = 'config/dataset/kc1_001.json'\n",
    "MODEL_CONFIG_PATH = 'config/model/knndd_001.json'\n",
    "PROFILE_REPORTING = False"
   ]
  },
  {
   "cell_type": "code",
   "execution_count": 2,
   "id": "7157aa45",
   "metadata": {
    "execution": {
     "iopub.execute_input": "2021-04-04T23:08:14.790081Z",
     "iopub.status.busy": "2021-04-04T23:08:14.788795Z",
     "iopub.status.idle": "2021-04-04T23:08:14.791267Z",
     "shell.execute_reply": "2021-04-04T23:08:14.792425Z"
    },
    "papermill": {
     "duration": 0.027731,
     "end_time": "2021-04-04T23:08:14.792763",
     "exception": false,
     "start_time": "2021-04-04T23:08:14.765032",
     "status": "completed"
    },
    "tags": [
     "injected-parameters"
    ]
   },
   "outputs": [],
   "source": [
    "# Parameters\n",
    "DATASET_CONFIG_PATH = \"config/dataset/000088.json\"\n",
    "MODEL_CONFIG_PATH = \"config/model/000003.json\"\n",
    "PROFILE_REPORTING = False\n"
   ]
  },
  {
   "cell_type": "code",
   "execution_count": 3,
   "id": "b80f2a10",
   "metadata": {
    "execution": {
     "iopub.execute_input": "2021-04-04T23:08:14.840319Z",
     "iopub.status.busy": "2021-04-04T23:08:14.839360Z",
     "iopub.status.idle": "2021-04-04T23:08:14.842290Z",
     "shell.execute_reply": "2021-04-04T23:08:14.843080Z"
    },
    "papermill": {
     "duration": 0.029086,
     "end_time": "2021-04-04T23:08:14.843306",
     "exception": false,
     "start_time": "2021-04-04T23:08:14.814220",
     "status": "completed"
    },
    "tags": []
   },
   "outputs": [],
   "source": [
    "import json\n",
    "\n",
    "\n",
    "with open(DATASET_CONFIG_PATH) as f:\n",
    "    dataset_config = json.load(f)\n",
    "\n",
    "with open(MODEL_CONFIG_PATH) as f:\n",
    "    model_config = json.load(f)"
   ]
  },
  {
   "cell_type": "markdown",
   "id": "9a4b0e2d",
   "metadata": {
    "papermill": {
     "duration": 0.019425,
     "end_time": "2021-04-04T23:08:14.887686",
     "exception": false,
     "start_time": "2021-04-04T23:08:14.868261",
     "status": "completed"
    },
    "tags": []
   },
   "source": [
    "# Profiling"
   ]
  },
  {
   "cell_type": "code",
   "execution_count": 4,
   "id": "a3e0289b",
   "metadata": {
    "execution": {
     "iopub.execute_input": "2021-04-04T23:08:14.933288Z",
     "iopub.status.busy": "2021-04-04T23:08:14.931815Z",
     "iopub.status.idle": "2021-04-04T23:08:16.196675Z",
     "shell.execute_reply": "2021-04-04T23:08:16.195815Z"
    },
    "papermill": {
     "duration": 1.289434,
     "end_time": "2021-04-04T23:08:16.196917",
     "exception": false,
     "start_time": "2021-04-04T23:08:14.907483",
     "status": "completed"
    },
    "tags": []
   },
   "outputs": [],
   "source": [
    "import pandas as pd\n",
    "from pandas_profiling import ProfileReport"
   ]
  },
  {
   "cell_type": "code",
   "execution_count": 5,
   "id": "ee6c0666",
   "metadata": {
    "execution": {
     "iopub.execute_input": "2021-04-04T23:08:16.253030Z",
     "iopub.status.busy": "2021-04-04T23:08:16.251975Z",
     "iopub.status.idle": "2021-04-04T23:08:16.262909Z",
     "shell.execute_reply": "2021-04-04T23:08:16.261971Z"
    },
    "papermill": {
     "duration": 0.036054,
     "end_time": "2021-04-04T23:08:16.263084",
     "exception": false,
     "start_time": "2021-04-04T23:08:16.227030",
     "status": "completed"
    },
    "tags": []
   },
   "outputs": [],
   "source": [
    "df = pd.read_csv(dataset_config['dataset_path'])"
   ]
  },
  {
   "cell_type": "code",
   "execution_count": 6,
   "id": "7eca6c4a",
   "metadata": {
    "execution": {
     "iopub.execute_input": "2021-04-04T23:08:16.326778Z",
     "iopub.status.busy": "2021-04-04T23:08:16.315474Z",
     "iopub.status.idle": "2021-04-04T23:08:16.331104Z",
     "shell.execute_reply": "2021-04-04T23:08:16.330069Z"
    },
    "papermill": {
     "duration": 0.041321,
     "end_time": "2021-04-04T23:08:16.331303",
     "exception": false,
     "start_time": "2021-04-04T23:08:16.289982",
     "status": "completed"
    },
    "tags": []
   },
   "outputs": [
    {
     "name": "stdout",
     "output_type": "stream",
     "text": [
      "<class 'pandas.core.frame.DataFrame'>\n",
      "RangeIndex: 498 entries, 0 to 497\n",
      "Data columns (total 23 columns):\n",
      " #   Column             Non-Null Count  Dtype  \n",
      "---  ------             --------------  -----  \n",
      " 0   id                 498 non-null    int64  \n",
      " 1   loc                498 non-null    float64\n",
      " 2   v(g)               498 non-null    float64\n",
      " 3   ev(g)              498 non-null    float64\n",
      " 4   iv(g)              498 non-null    float64\n",
      " 5   n                  498 non-null    float64\n",
      " 6   v                  498 non-null    float64\n",
      " 7   l                  498 non-null    float64\n",
      " 8   d                  498 non-null    float64\n",
      " 9   i                  498 non-null    float64\n",
      " 10  e                  498 non-null    float64\n",
      " 11  b                  498 non-null    float64\n",
      " 12  t                  498 non-null    float64\n",
      " 13  lOCode             498 non-null    int64  \n",
      " 14  lOComment          498 non-null    int64  \n",
      " 15  lOBlank            498 non-null    int64  \n",
      " 16  locCodeAndComment  498 non-null    int64  \n",
      " 17  uniq_Op            498 non-null    float64\n",
      " 18  uniq_Opnd          498 non-null    float64\n",
      " 19  total_Op           498 non-null    float64\n",
      " 20  total_Opnd         498 non-null    float64\n",
      " 21  branchCount        498 non-null    float64\n",
      " 22  defects            498 non-null    bool   \n",
      "dtypes: bool(1), float64(17), int64(5)\n",
      "memory usage: 86.2 KB\n"
     ]
    }
   ],
   "source": [
    "df.info()"
   ]
  },
  {
   "cell_type": "code",
   "execution_count": 7,
   "id": "3638e5e8",
   "metadata": {
    "execution": {
     "iopub.execute_input": "2021-04-04T23:08:16.399560Z",
     "iopub.status.busy": "2021-04-04T23:08:16.398154Z",
     "iopub.status.idle": "2021-04-04T23:08:16.429339Z",
     "shell.execute_reply": "2021-04-04T23:08:16.430031Z"
    },
    "papermill": {
     "duration": 0.062305,
     "end_time": "2021-04-04T23:08:16.430241",
     "exception": false,
     "start_time": "2021-04-04T23:08:16.367936",
     "status": "completed"
    },
    "tags": []
   },
   "outputs": [
    {
     "data": {
      "text/html": [
       "<div>\n",
       "<style scoped>\n",
       "    .dataframe tbody tr th:only-of-type {\n",
       "        vertical-align: middle;\n",
       "    }\n",
       "\n",
       "    .dataframe tbody tr th {\n",
       "        vertical-align: top;\n",
       "    }\n",
       "\n",
       "    .dataframe thead th {\n",
       "        text-align: right;\n",
       "    }\n",
       "</style>\n",
       "<table border=\"1\" class=\"dataframe\">\n",
       "  <thead>\n",
       "    <tr style=\"text-align: right;\">\n",
       "      <th></th>\n",
       "      <th>id</th>\n",
       "      <th>loc</th>\n",
       "      <th>v(g)</th>\n",
       "      <th>ev(g)</th>\n",
       "      <th>iv(g)</th>\n",
       "      <th>n</th>\n",
       "      <th>v</th>\n",
       "      <th>l</th>\n",
       "      <th>d</th>\n",
       "      <th>i</th>\n",
       "      <th>...</th>\n",
       "      <th>lOCode</th>\n",
       "      <th>lOComment</th>\n",
       "      <th>lOBlank</th>\n",
       "      <th>locCodeAndComment</th>\n",
       "      <th>uniq_Op</th>\n",
       "      <th>uniq_Opnd</th>\n",
       "      <th>total_Op</th>\n",
       "      <th>total_Opnd</th>\n",
       "      <th>branchCount</th>\n",
       "      <th>defects</th>\n",
       "    </tr>\n",
       "  </thead>\n",
       "  <tbody>\n",
       "    <tr>\n",
       "      <th>0</th>\n",
       "      <td>1</td>\n",
       "      <td>1.1</td>\n",
       "      <td>1.4</td>\n",
       "      <td>1.4</td>\n",
       "      <td>1.4</td>\n",
       "      <td>1.3</td>\n",
       "      <td>1.30</td>\n",
       "      <td>1.30</td>\n",
       "      <td>1.30</td>\n",
       "      <td>1.30</td>\n",
       "      <td>...</td>\n",
       "      <td>2</td>\n",
       "      <td>2</td>\n",
       "      <td>2</td>\n",
       "      <td>2</td>\n",
       "      <td>1.2</td>\n",
       "      <td>1.2</td>\n",
       "      <td>1.2</td>\n",
       "      <td>1.2</td>\n",
       "      <td>1.4</td>\n",
       "      <td>False</td>\n",
       "    </tr>\n",
       "    <tr>\n",
       "      <th>1</th>\n",
       "      <td>2</td>\n",
       "      <td>1.0</td>\n",
       "      <td>1.0</td>\n",
       "      <td>1.0</td>\n",
       "      <td>1.0</td>\n",
       "      <td>1.0</td>\n",
       "      <td>1.00</td>\n",
       "      <td>1.00</td>\n",
       "      <td>1.00</td>\n",
       "      <td>1.00</td>\n",
       "      <td>...</td>\n",
       "      <td>1</td>\n",
       "      <td>1</td>\n",
       "      <td>1</td>\n",
       "      <td>1</td>\n",
       "      <td>1.0</td>\n",
       "      <td>1.0</td>\n",
       "      <td>1.0</td>\n",
       "      <td>1.0</td>\n",
       "      <td>1.0</td>\n",
       "      <td>True</td>\n",
       "    </tr>\n",
       "    <tr>\n",
       "      <th>2</th>\n",
       "      <td>3</td>\n",
       "      <td>24.0</td>\n",
       "      <td>5.0</td>\n",
       "      <td>1.0</td>\n",
       "      <td>3.0</td>\n",
       "      <td>63.0</td>\n",
       "      <td>309.13</td>\n",
       "      <td>0.11</td>\n",
       "      <td>9.50</td>\n",
       "      <td>32.54</td>\n",
       "      <td>...</td>\n",
       "      <td>1</td>\n",
       "      <td>0</td>\n",
       "      <td>6</td>\n",
       "      <td>0</td>\n",
       "      <td>15.0</td>\n",
       "      <td>15.0</td>\n",
       "      <td>44.0</td>\n",
       "      <td>19.0</td>\n",
       "      <td>9.0</td>\n",
       "      <td>False</td>\n",
       "    </tr>\n",
       "    <tr>\n",
       "      <th>3</th>\n",
       "      <td>4</td>\n",
       "      <td>20.0</td>\n",
       "      <td>4.0</td>\n",
       "      <td>4.0</td>\n",
       "      <td>2.0</td>\n",
       "      <td>47.0</td>\n",
       "      <td>215.49</td>\n",
       "      <td>0.06</td>\n",
       "      <td>16.00</td>\n",
       "      <td>13.47</td>\n",
       "      <td>...</td>\n",
       "      <td>0</td>\n",
       "      <td>0</td>\n",
       "      <td>3</td>\n",
       "      <td>0</td>\n",
       "      <td>16.0</td>\n",
       "      <td>8.0</td>\n",
       "      <td>31.0</td>\n",
       "      <td>16.0</td>\n",
       "      <td>7.0</td>\n",
       "      <td>False</td>\n",
       "    </tr>\n",
       "    <tr>\n",
       "      <th>4</th>\n",
       "      <td>5</td>\n",
       "      <td>24.0</td>\n",
       "      <td>6.0</td>\n",
       "      <td>6.0</td>\n",
       "      <td>2.0</td>\n",
       "      <td>72.0</td>\n",
       "      <td>346.13</td>\n",
       "      <td>0.06</td>\n",
       "      <td>17.33</td>\n",
       "      <td>19.97</td>\n",
       "      <td>...</td>\n",
       "      <td>0</td>\n",
       "      <td>0</td>\n",
       "      <td>3</td>\n",
       "      <td>0</td>\n",
       "      <td>16.0</td>\n",
       "      <td>12.0</td>\n",
       "      <td>46.0</td>\n",
       "      <td>26.0</td>\n",
       "      <td>11.0</td>\n",
       "      <td>False</td>\n",
       "    </tr>\n",
       "  </tbody>\n",
       "</table>\n",
       "<p>5 rows × 23 columns</p>\n",
       "</div>"
      ],
      "text/plain": [
       "   id   loc  v(g)  ev(g)  iv(g)     n       v     l      d      i  ...  \\\n",
       "0   1   1.1   1.4    1.4    1.4   1.3    1.30  1.30   1.30   1.30  ...   \n",
       "1   2   1.0   1.0    1.0    1.0   1.0    1.00  1.00   1.00   1.00  ...   \n",
       "2   3  24.0   5.0    1.0    3.0  63.0  309.13  0.11   9.50  32.54  ...   \n",
       "3   4  20.0   4.0    4.0    2.0  47.0  215.49  0.06  16.00  13.47  ...   \n",
       "4   5  24.0   6.0    6.0    2.0  72.0  346.13  0.06  17.33  19.97  ...   \n",
       "\n",
       "   lOCode  lOComment  lOBlank  locCodeAndComment  uniq_Op  uniq_Opnd  \\\n",
       "0       2          2        2                  2      1.2        1.2   \n",
       "1       1          1        1                  1      1.0        1.0   \n",
       "2       1          0        6                  0     15.0       15.0   \n",
       "3       0          0        3                  0     16.0        8.0   \n",
       "4       0          0        3                  0     16.0       12.0   \n",
       "\n",
       "   total_Op  total_Opnd  branchCount  defects  \n",
       "0       1.2         1.2          1.4    False  \n",
       "1       1.0         1.0          1.0     True  \n",
       "2      44.0        19.0          9.0    False  \n",
       "3      31.0        16.0          7.0    False  \n",
       "4      46.0        26.0         11.0    False  \n",
       "\n",
       "[5 rows x 23 columns]"
      ]
     },
     "execution_count": 7,
     "metadata": {},
     "output_type": "execute_result"
    }
   ],
   "source": [
    "df.head()"
   ]
  },
  {
   "cell_type": "code",
   "execution_count": 8,
   "id": "733e95eb",
   "metadata": {
    "execution": {
     "iopub.execute_input": "2021-04-04T23:08:16.489469Z",
     "iopub.status.busy": "2021-04-04T23:08:16.488161Z",
     "iopub.status.idle": "2021-04-04T23:08:16.491196Z",
     "shell.execute_reply": "2021-04-04T23:08:16.492010Z"
    },
    "papermill": {
     "duration": 0.03154,
     "end_time": "2021-04-04T23:08:16.492242",
     "exception": false,
     "start_time": "2021-04-04T23:08:16.460702",
     "status": "completed"
    },
    "tags": []
   },
   "outputs": [],
   "source": [
    "del df['id']"
   ]
  },
  {
   "cell_type": "code",
   "execution_count": 9,
   "id": "6ff6f5b0",
   "metadata": {
    "execution": {
     "iopub.execute_input": "2021-04-04T23:08:16.543435Z",
     "iopub.status.busy": "2021-04-04T23:08:16.542310Z",
     "iopub.status.idle": "2021-04-04T23:08:16.544901Z",
     "shell.execute_reply": "2021-04-04T23:08:16.545718Z"
    },
    "papermill": {
     "duration": 0.029717,
     "end_time": "2021-04-04T23:08:16.545960",
     "exception": false,
     "start_time": "2021-04-04T23:08:16.516243",
     "status": "completed"
    },
    "tags": []
   },
   "outputs": [],
   "source": [
    "if PROFILE_REPORTING:\n",
    "    ProfileReport(df).to_widgets()"
   ]
  },
  {
   "cell_type": "markdown",
   "id": "1deaf3f0",
   "metadata": {
    "papermill": {
     "duration": 0.021152,
     "end_time": "2021-04-04T23:08:16.593443",
     "exception": false,
     "start_time": "2021-04-04T23:08:16.572291",
     "status": "completed"
    },
    "tags": []
   },
   "source": [
    "# Preprocess"
   ]
  },
  {
   "cell_type": "code",
   "execution_count": 10,
   "id": "1513e563",
   "metadata": {
    "execution": {
     "iopub.execute_input": "2021-04-04T23:08:16.641986Z",
     "iopub.status.busy": "2021-04-04T23:08:16.640785Z",
     "iopub.status.idle": "2021-04-04T23:08:16.644339Z",
     "shell.execute_reply": "2021-04-04T23:08:16.643476Z"
    },
    "papermill": {
     "duration": 0.029941,
     "end_time": "2021-04-04T23:08:16.644507",
     "exception": false,
     "start_time": "2021-04-04T23:08:16.614566",
     "status": "completed"
    },
    "tags": []
   },
   "outputs": [],
   "source": [
    "working_df = df.copy()"
   ]
  },
  {
   "cell_type": "code",
   "execution_count": 11,
   "id": "3b26d675",
   "metadata": {
    "execution": {
     "iopub.execute_input": "2021-04-04T23:08:16.704844Z",
     "iopub.status.busy": "2021-04-04T23:08:16.703644Z",
     "iopub.status.idle": "2021-04-04T23:08:16.706403Z",
     "shell.execute_reply": "2021-04-04T23:08:16.707074Z"
    },
    "papermill": {
     "duration": 0.032729,
     "end_time": "2021-04-04T23:08:16.707225",
     "exception": false,
     "start_time": "2021-04-04T23:08:16.674496",
     "status": "completed"
    },
    "tags": []
   },
   "outputs": [],
   "source": [
    "working_df['defects'] = working_df['defects'].replace([False, True], [0, 1])"
   ]
  },
  {
   "cell_type": "code",
   "execution_count": 12,
   "id": "eb48604f",
   "metadata": {
    "execution": {
     "iopub.execute_input": "2021-04-04T23:08:16.764505Z",
     "iopub.status.busy": "2021-04-04T23:08:16.763611Z",
     "iopub.status.idle": "2021-04-04T23:08:16.766950Z",
     "shell.execute_reply": "2021-04-04T23:08:16.765863Z"
    },
    "papermill": {
     "duration": 0.038062,
     "end_time": "2021-04-04T23:08:16.767156",
     "exception": false,
     "start_time": "2021-04-04T23:08:16.729094",
     "status": "completed"
    },
    "tags": []
   },
   "outputs": [],
   "source": [
    "for col in dataset_config['delete_columns']:\n",
    "    del working_df[col]"
   ]
  },
  {
   "cell_type": "code",
   "execution_count": 13,
   "id": "9a17bc29",
   "metadata": {
    "execution": {
     "iopub.execute_input": "2021-04-04T23:08:16.819277Z",
     "iopub.status.busy": "2021-04-04T23:08:16.818608Z",
     "iopub.status.idle": "2021-04-04T23:08:16.830131Z",
     "shell.execute_reply": "2021-04-04T23:08:16.829114Z"
    },
    "papermill": {
     "duration": 0.039576,
     "end_time": "2021-04-04T23:08:16.830325",
     "exception": false,
     "start_time": "2021-04-04T23:08:16.790749",
     "status": "completed"
    },
    "tags": []
   },
   "outputs": [],
   "source": [
    "working_df = working_df.drop_duplicates()"
   ]
  },
  {
   "cell_type": "markdown",
   "id": "a4d52ca6",
   "metadata": {
    "papermill": {
     "duration": 0.021505,
     "end_time": "2021-04-04T23:08:16.876072",
     "exception": false,
     "start_time": "2021-04-04T23:08:16.854567",
     "status": "completed"
    },
    "tags": []
   },
   "source": [
    "# Split"
   ]
  },
  {
   "cell_type": "code",
   "execution_count": 14,
   "id": "3e9ee4b5",
   "metadata": {
    "execution": {
     "iopub.execute_input": "2021-04-04T23:08:16.926199Z",
     "iopub.status.busy": "2021-04-04T23:08:16.925527Z",
     "iopub.status.idle": "2021-04-04T23:08:16.962161Z",
     "shell.execute_reply": "2021-04-04T23:08:16.961107Z"
    },
    "papermill": {
     "duration": 0.063048,
     "end_time": "2021-04-04T23:08:16.962354",
     "exception": false,
     "start_time": "2021-04-04T23:08:16.899306",
     "status": "completed"
    },
    "tags": []
   },
   "outputs": [],
   "source": [
    "from sklearn.model_selection import train_test_split"
   ]
  },
  {
   "cell_type": "code",
   "execution_count": 15,
   "id": "274004ce",
   "metadata": {
    "execution": {
     "iopub.execute_input": "2021-04-04T23:08:17.016104Z",
     "iopub.status.busy": "2021-04-04T23:08:17.015429Z",
     "iopub.status.idle": "2021-04-04T23:08:17.021323Z",
     "shell.execute_reply": "2021-04-04T23:08:17.020747Z"
    },
    "papermill": {
     "duration": 0.032979,
     "end_time": "2021-04-04T23:08:17.021450",
     "exception": false,
     "start_time": "2021-04-04T23:08:16.988471",
     "status": "completed"
    },
    "scrolled": true,
    "tags": []
   },
   "outputs": [],
   "source": [
    "inlier, outlier = working_df[working_df['defects'] == 0], working_df[working_df['defects'] == 1]"
   ]
  },
  {
   "cell_type": "code",
   "execution_count": 16,
   "id": "753c7b03",
   "metadata": {
    "execution": {
     "iopub.execute_input": "2021-04-04T23:08:17.074681Z",
     "iopub.status.busy": "2021-04-04T23:08:17.073386Z",
     "iopub.status.idle": "2021-04-04T23:08:17.078276Z",
     "shell.execute_reply": "2021-04-04T23:08:17.079199Z"
    },
    "papermill": {
     "duration": 0.033425,
     "end_time": "2021-04-04T23:08:17.079543",
     "exception": false,
     "start_time": "2021-04-04T23:08:17.046118",
     "status": "completed"
    },
    "tags": []
   },
   "outputs": [],
   "source": [
    "X_inlier = inlier.copy()\n",
    "y_inlier = X_inlier.pop('defects')\n",
    "X_outlier = outlier.copy()\n",
    "y_outlier = X_outlier.pop('defects')"
   ]
  },
  {
   "cell_type": "code",
   "execution_count": 17,
   "id": "2ba43193",
   "metadata": {
    "execution": {
     "iopub.execute_input": "2021-04-04T23:08:17.136082Z",
     "iopub.status.busy": "2021-04-04T23:08:17.135405Z",
     "iopub.status.idle": "2021-04-04T23:08:17.138011Z",
     "shell.execute_reply": "2021-04-04T23:08:17.138799Z"
    },
    "papermill": {
     "duration": 0.033779,
     "end_time": "2021-04-04T23:08:17.139018",
     "exception": false,
     "start_time": "2021-04-04T23:08:17.105239",
     "status": "completed"
    },
    "tags": []
   },
   "outputs": [],
   "source": [
    "test_size = dataset_config['test_size']\n",
    "random_state = dataset_config['random_state']\n",
    "\n",
    "X_inlier_train, X_inlier_test, y_inlier_train, y_inlier_test = train_test_split(\n",
    "    X_inlier,\n",
    "    y_inlier,\n",
    "    test_size=test_size,\n",
    "    random_state=random_state\n",
    ")"
   ]
  },
  {
   "cell_type": "code",
   "execution_count": 18,
   "id": "0b7582ca",
   "metadata": {
    "execution": {
     "iopub.execute_input": "2021-04-04T23:08:17.198569Z",
     "iopub.status.busy": "2021-04-04T23:08:17.197630Z",
     "iopub.status.idle": "2021-04-04T23:08:17.200279Z",
     "shell.execute_reply": "2021-04-04T23:08:17.201027Z"
    },
    "papermill": {
     "duration": 0.036487,
     "end_time": "2021-04-04T23:08:17.201240",
     "exception": false,
     "start_time": "2021-04-04T23:08:17.164753",
     "status": "completed"
    },
    "tags": []
   },
   "outputs": [],
   "source": [
    "test_outlier_size = dataset_config['test_outlier_size']\n",
    "if test_outlier_size > 0.0:\n",
    "    X_outlier_train, X_outlier_test, y_outlier_train, y_outlier_test = train_test_split(\n",
    "        X_outlier,\n",
    "        y_outlier,\n",
    "        test_size=test_outlier_size,\n",
    "        random_state=random_state\n",
    "    )\n",
    "else:\n",
    "    X_outlier_train, y_outlier_train = pd.DataFrame(columns=X_outlier.columns), pd.Series(dtype='int64')\n",
    "    X_outlier_test, y_outlier_test = X_outlier.copy(), y_outlier.copy()"
   ]
  },
  {
   "cell_type": "code",
   "execution_count": 19,
   "id": "c34363db",
   "metadata": {
    "execution": {
     "iopub.execute_input": "2021-04-04T23:08:17.258023Z",
     "iopub.status.busy": "2021-04-04T23:08:17.256452Z",
     "iopub.status.idle": "2021-04-04T23:08:17.261344Z",
     "shell.execute_reply": "2021-04-04T23:08:17.260579Z"
    },
    "papermill": {
     "duration": 0.036377,
     "end_time": "2021-04-04T23:08:17.261526",
     "exception": false,
     "start_time": "2021-04-04T23:08:17.225149",
     "status": "completed"
    },
    "tags": []
   },
   "outputs": [],
   "source": [
    "X_train, y_train = pd.concat([X_inlier_train, X_outlier_train], ignore_index=True), pd.concat([y_inlier_train, y_outlier_train], ignore_index=True)\n",
    "X_test, y_test = pd.concat([X_inlier_test, X_outlier_test], ignore_index=True), pd.concat([y_inlier_test, y_outlier_test], ignore_index=True)"
   ]
  },
  {
   "cell_type": "markdown",
   "id": "7cde7309",
   "metadata": {
    "papermill": {
     "duration": 0.02247,
     "end_time": "2021-04-04T23:08:17.308369",
     "exception": false,
     "start_time": "2021-04-04T23:08:17.285899",
     "status": "completed"
    },
    "tags": []
   },
   "source": [
    "# Model"
   ]
  },
  {
   "cell_type": "code",
   "execution_count": 20,
   "id": "2b12a415",
   "metadata": {
    "execution": {
     "iopub.execute_input": "2021-04-04T23:08:17.368540Z",
     "iopub.status.busy": "2021-04-04T23:08:17.363616Z",
     "iopub.status.idle": "2021-04-04T23:08:17.371742Z",
     "shell.execute_reply": "2021-04-04T23:08:17.370931Z"
    },
    "papermill": {
     "duration": 0.041722,
     "end_time": "2021-04-04T23:08:17.371969",
     "exception": false,
     "start_time": "2021-04-04T23:08:17.330247",
     "status": "completed"
    },
    "tags": []
   },
   "outputs": [],
   "source": [
    "from math import sqrt\n",
    "\n",
    "\n",
    "class KNNDataDescription:\n",
    "    def __init__(self, k=5, outlier_threshold=1.0):\n",
    "        self.k = k\n",
    "        self.outlier_threshold = outlier_threshold\n",
    "        self.X = []\n",
    "    \n",
    "    def fit(self, X):\n",
    "        self.X = [features.to_list() for index, features in X.iterrows()]\n",
    "\n",
    "    def predict(self, entries):\n",
    "        return [self.predict_entry(features.to_list()) for index, features in entries.iterrows()]\n",
    "    \n",
    "    def predict_entry(self, entry):\n",
    "        kth_neighbor, kth_distance = self.get_kth_neighbor(entry, self.k)\n",
    "        kth_kth_neighbor, kth_kth_distance = self.get_kth_neighbor(kth_neighbor, self.k + 1)\n",
    "\n",
    "        outlier_score = kth_distance / (kth_kth_distance + 0.000001)\n",
    "\n",
    "        return 1 if outlier_score < self.outlier_threshold else -1\n",
    "        \n",
    "    def euclidean_distance(self, features1, features2):\n",
    "        distance = 0.0\n",
    "        for feat1, feat2 in zip(features1, features2):\n",
    "            distance += (feat1 - feat2)**2\n",
    "                \n",
    "        return sqrt(distance)\n",
    "\n",
    "    def get_neighbors(self, entry, k):\n",
    "        distance_to_data_points = [\n",
    "            (data_point, self.euclidean_distance(entry, data_point))\n",
    "            for data_point in self.X\n",
    "        ]\n",
    "        sorted_by_distance = sorted(distance_to_data_points, key=lambda tup: tup[1])\n",
    "        neighbors = sorted_by_distance[:k]\n",
    "        return neighbors\n",
    "\n",
    "    def get_kth_neighbor(self, entry, k):\n",
    "        neighbors = self.get_neighbors(entry, k)\n",
    "        return neighbors[-1]\n"
   ]
  },
  {
   "cell_type": "code",
   "execution_count": 21,
   "id": "1fa9ec1c",
   "metadata": {
    "execution": {
     "iopub.execute_input": "2021-04-04T23:08:17.429695Z",
     "iopub.status.busy": "2021-04-04T23:08:17.429004Z",
     "iopub.status.idle": "2021-04-04T23:08:17.453141Z",
     "shell.execute_reply": "2021-04-04T23:08:17.452064Z"
    },
    "papermill": {
     "duration": 0.051678,
     "end_time": "2021-04-04T23:08:17.453340",
     "exception": false,
     "start_time": "2021-04-04T23:08:17.401662",
     "status": "completed"
    },
    "tags": []
   },
   "outputs": [],
   "source": [
    "from sklearn.svm import OneClassSVM\n",
    "\n",
    "\n",
    "models = {\n",
    "    'oneclasssvm': OneClassSVM,\n",
    "    'knndatadescription': KNNDataDescription,\n",
    "}"
   ]
  },
  {
   "cell_type": "code",
   "execution_count": 22,
   "id": "4d72a0b1",
   "metadata": {
    "execution": {
     "iopub.execute_input": "2021-04-04T23:08:17.511171Z",
     "iopub.status.busy": "2021-04-04T23:08:17.510451Z",
     "iopub.status.idle": "2021-04-04T23:08:17.512821Z",
     "shell.execute_reply": "2021-04-04T23:08:17.513483Z"
    },
    "papermill": {
     "duration": 0.031046,
     "end_time": "2021-04-04T23:08:17.513671",
     "exception": false,
     "start_time": "2021-04-04T23:08:17.482625",
     "status": "completed"
    },
    "scrolled": true,
    "tags": []
   },
   "outputs": [],
   "source": [
    "model_cls = models[model_config['model_type']]\n",
    "model = model_cls(**model_config['hyperparameters'])"
   ]
  },
  {
   "cell_type": "markdown",
   "id": "e00cff3b",
   "metadata": {
    "papermill": {
     "duration": 0.022352,
     "end_time": "2021-04-04T23:08:17.563195",
     "exception": false,
     "start_time": "2021-04-04T23:08:17.540843",
     "status": "completed"
    },
    "tags": []
   },
   "source": [
    "# Fit"
   ]
  },
  {
   "cell_type": "code",
   "execution_count": 23,
   "id": "8b2ded89",
   "metadata": {
    "execution": {
     "iopub.execute_input": "2021-04-04T23:08:17.623328Z",
     "iopub.status.busy": "2021-04-04T23:08:17.612765Z",
     "iopub.status.idle": "2021-04-04T23:08:17.639701Z",
     "shell.execute_reply": "2021-04-04T23:08:17.638893Z"
    },
    "papermill": {
     "duration": 0.054225,
     "end_time": "2021-04-04T23:08:17.639871",
     "exception": false,
     "start_time": "2021-04-04T23:08:17.585646",
     "status": "completed"
    },
    "tags": []
   },
   "outputs": [],
   "source": [
    "model.fit(X_train)"
   ]
  },
  {
   "cell_type": "markdown",
   "id": "f99999f7",
   "metadata": {
    "papermill": {
     "duration": 0.022718,
     "end_time": "2021-04-04T23:08:17.688637",
     "exception": false,
     "start_time": "2021-04-04T23:08:17.665919",
     "status": "completed"
    },
    "tags": []
   },
   "source": [
    "# Predict"
   ]
  },
  {
   "cell_type": "code",
   "execution_count": 24,
   "id": "6536fbf7",
   "metadata": {
    "execution": {
     "iopub.execute_input": "2021-04-04T23:08:17.749421Z",
     "iopub.status.busy": "2021-04-04T23:08:17.738791Z",
     "iopub.status.idle": "2021-04-04T23:08:18.148314Z",
     "shell.execute_reply": "2021-04-04T23:08:18.147369Z"
    },
    "papermill": {
     "duration": 0.436854,
     "end_time": "2021-04-04T23:08:18.148494",
     "exception": false,
     "start_time": "2021-04-04T23:08:17.711640",
     "status": "completed"
    },
    "tags": []
   },
   "outputs": [],
   "source": [
    "predictions = model.predict(X_test)"
   ]
  },
  {
   "cell_type": "markdown",
   "id": "aa1c9881",
   "metadata": {
    "papermill": {
     "duration": 0.022699,
     "end_time": "2021-04-04T23:08:18.197867",
     "exception": false,
     "start_time": "2021-04-04T23:08:18.175168",
     "status": "completed"
    },
    "tags": []
   },
   "source": [
    "# Evaluate"
   ]
  },
  {
   "cell_type": "code",
   "execution_count": 25,
   "id": "894f0f04",
   "metadata": {
    "execution": {
     "iopub.execute_input": "2021-04-04T23:08:18.249241Z",
     "iopub.status.busy": "2021-04-04T23:08:18.247934Z",
     "iopub.status.idle": "2021-04-04T23:08:18.252005Z",
     "shell.execute_reply": "2021-04-04T23:08:18.251090Z"
    },
    "papermill": {
     "duration": 0.031392,
     "end_time": "2021-04-04T23:08:18.252185",
     "exception": false,
     "start_time": "2021-04-04T23:08:18.220793",
     "status": "completed"
    },
    "tags": []
   },
   "outputs": [],
   "source": [
    "from sklearn.metrics import f1_score"
   ]
  },
  {
   "cell_type": "code",
   "execution_count": 26,
   "id": "211744d3",
   "metadata": {
    "execution": {
     "iopub.execute_input": "2021-04-04T23:08:18.305819Z",
     "iopub.status.busy": "2021-04-04T23:08:18.304989Z",
     "iopub.status.idle": "2021-04-04T23:08:18.307831Z",
     "shell.execute_reply": "2021-04-04T23:08:18.308694Z"
    },
    "papermill": {
     "duration": 0.031617,
     "end_time": "2021-04-04T23:08:18.308938",
     "exception": false,
     "start_time": "2021-04-04T23:08:18.277321",
     "status": "completed"
    },
    "tags": []
   },
   "outputs": [],
   "source": [
    "y_test = y_test.replace([0, 1], [1, -1])"
   ]
  },
  {
   "cell_type": "code",
   "execution_count": 27,
   "id": "d68a9204",
   "metadata": {
    "execution": {
     "iopub.execute_input": "2021-04-04T23:08:18.374241Z",
     "iopub.status.busy": "2021-04-04T23:08:18.372854Z",
     "iopub.status.idle": "2021-04-04T23:08:18.376773Z",
     "shell.execute_reply": "2021-04-04T23:08:18.375852Z"
    },
    "papermill": {
     "duration": 0.040544,
     "end_time": "2021-04-04T23:08:18.376903",
     "exception": false,
     "start_time": "2021-04-04T23:08:18.336359",
     "status": "completed"
    },
    "tags": []
   },
   "outputs": [],
   "source": [
    "def evaluate(truths, predictions, pos_label, neg_label):\n",
    "    TP = 0\n",
    "    FP = 0\n",
    "    TN = 0\n",
    "    FN = 0\n",
    "\n",
    "    for truth, pred in zip(truths, predictions): \n",
    "        if truth == pred == pos_label:\n",
    "           TP += 1\n",
    "        elif pred == pos_label and truth == neg_label:\n",
    "           FP += 1\n",
    "        elif truth == pred == neg_label:\n",
    "           TN += 1\n",
    "        elif pred == neg_label and truth == pos_label:\n",
    "           FN += 1\n",
    "\n",
    "    precision = TP / (TP + FP)\n",
    "    sensitivity = TP / (TP + FN)\n",
    "    \n",
    "    return {\n",
    "        'true_pos': TP,\n",
    "        'false_pos': FP,\n",
    "        'false_neg': FN,\n",
    "        'true_neg': TN,\n",
    "        'precision': precision,\n",
    "        'sensitivity': sensitivity,\n",
    "        'f1': (2 * (precision * sensitivity)) / (precision + sensitivity)\n",
    "    }\n",
    "\n",
    "score = evaluate(y_test, predictions, pos_label=-1, neg_label=1)"
   ]
  },
  {
   "cell_type": "markdown",
   "id": "93596516",
   "metadata": {
    "papermill": {
     "duration": 0.02345,
     "end_time": "2021-04-04T23:08:18.424791",
     "exception": false,
     "start_time": "2021-04-04T23:08:18.401341",
     "status": "completed"
    },
    "tags": []
   },
   "source": [
    "# Report"
   ]
  },
  {
   "cell_type": "code",
   "execution_count": 28,
   "id": "bea5fba1",
   "metadata": {
    "execution": {
     "iopub.execute_input": "2021-04-04T23:08:18.479002Z",
     "iopub.status.busy": "2021-04-04T23:08:18.477667Z",
     "iopub.status.idle": "2021-04-04T23:08:18.481614Z",
     "shell.execute_reply": "2021-04-04T23:08:18.480663Z"
    },
    "papermill": {
     "duration": 0.034131,
     "end_time": "2021-04-04T23:08:18.481795",
     "exception": false,
     "start_time": "2021-04-04T23:08:18.447664",
     "status": "completed"
    },
    "tags": []
   },
   "outputs": [],
   "source": [
    "import csv\n",
    "\n",
    "\n",
    "dataset_config_name = DATASET_CONFIG_PATH.split('/')[-1].split('.')[0]\n",
    "model_config_name = MODEL_CONFIG_PATH.split('/')[-1].split('.')[0]\n",
    "configuration = f\"dataset_{dataset_config_name}-model_{model_config_name}\"\n",
    "\n",
    "with open('results.csv', 'a') as f:\n",
    "    report = dict({'configuration': configuration}, **score)\n",
    "    writer = csv.DictWriter(f, report.keys())\n",
    "    writer.writerow(report)"
   ]
  }
 ],
 "metadata": {
  "celltoolbar": "Tags",
  "kernelspec": {
   "display_name": "Python 3",
   "language": "python",
   "name": "python3"
  },
  "language_info": {
   "codemirror_mode": {
    "name": "ipython",
    "version": 3
   },
   "file_extension": ".py",
   "mimetype": "text/x-python",
   "name": "python",
   "nbconvert_exporter": "python",
   "pygments_lexer": "ipython3",
   "version": "3.9.1"
  },
  "papermill": {
   "default_parameters": {},
   "duration": 6.041547,
   "end_time": "2021-04-04T23:08:19.976554",
   "environment_variables": {},
   "exception": null,
   "input_path": "main.ipynb",
   "output_path": "runs/dataset_000088-model_000003.ipynb",
   "parameters": {
    "DATASET_CONFIG_PATH": "config/dataset/000088.json",
    "MODEL_CONFIG_PATH": "config/model/000003.json",
    "PROFILE_REPORTING": false
   },
   "start_time": "2021-04-04T23:08:13.935007",
   "version": "2.3.3"
  }
 },
 "nbformat": 4,
 "nbformat_minor": 5
}