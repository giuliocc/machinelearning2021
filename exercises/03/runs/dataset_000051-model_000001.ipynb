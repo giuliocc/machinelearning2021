{
 "cells": [
  {
   "cell_type": "markdown",
   "id": "51c71c25",
   "metadata": {
    "papermill": {
     "duration": 0.021713,
     "end_time": "2021-04-04T22:50:00.668035",
     "exception": false,
     "start_time": "2021-04-04T22:50:00.646322",
     "status": "completed"
    },
    "tags": []
   },
   "source": [
    "# Parametrizing"
   ]
  },
  {
   "cell_type": "code",
   "execution_count": 1,
   "id": "3b136394",
   "metadata": {
    "execution": {
     "iopub.execute_input": "2021-04-04T22:50:00.725696Z",
     "iopub.status.busy": "2021-04-04T22:50:00.724686Z",
     "iopub.status.idle": "2021-04-04T22:50:00.728626Z",
     "shell.execute_reply": "2021-04-04T22:50:00.727142Z"
    },
    "papermill": {
     "duration": 0.041312,
     "end_time": "2021-04-04T22:50:00.728981",
     "exception": false,
     "start_time": "2021-04-04T22:50:00.687669",
     "status": "completed"
    },
    "tags": [
     "parameters"
    ]
   },
   "outputs": [],
   "source": [
    "DATASET_CONFIG_PATH = 'config/dataset/kc1_001.json'\n",
    "MODEL_CONFIG_PATH = 'config/model/knndd_001.json'\n",
    "PROFILE_REPORTING = False"
   ]
  },
  {
   "cell_type": "code",
   "execution_count": 2,
   "id": "85443f7b",
   "metadata": {
    "execution": {
     "iopub.execute_input": "2021-04-04T22:50:00.784850Z",
     "iopub.status.busy": "2021-04-04T22:50:00.784147Z",
     "iopub.status.idle": "2021-04-04T22:50:00.786218Z",
     "shell.execute_reply": "2021-04-04T22:50:00.786688Z"
    },
    "papermill": {
     "duration": 0.031403,
     "end_time": "2021-04-04T22:50:00.786854",
     "exception": false,
     "start_time": "2021-04-04T22:50:00.755451",
     "status": "completed"
    },
    "tags": [
     "injected-parameters"
    ]
   },
   "outputs": [],
   "source": [
    "# Parameters\n",
    "DATASET_CONFIG_PATH = \"config/dataset/000051.json\"\n",
    "MODEL_CONFIG_PATH = \"config/model/000001.json\"\n",
    "PROFILE_REPORTING = False\n"
   ]
  },
  {
   "cell_type": "code",
   "execution_count": 3,
   "id": "b80f2a10",
   "metadata": {
    "execution": {
     "iopub.execute_input": "2021-04-04T22:50:00.841272Z",
     "iopub.status.busy": "2021-04-04T22:50:00.839976Z",
     "iopub.status.idle": "2021-04-04T22:50:00.843548Z",
     "shell.execute_reply": "2021-04-04T22:50:00.844531Z"
    },
    "papermill": {
     "duration": 0.037407,
     "end_time": "2021-04-04T22:50:00.845098",
     "exception": false,
     "start_time": "2021-04-04T22:50:00.807691",
     "status": "completed"
    },
    "tags": []
   },
   "outputs": [],
   "source": [
    "import json\n",
    "\n",
    "\n",
    "with open(DATASET_CONFIG_PATH) as f:\n",
    "    dataset_config = json.load(f)\n",
    "\n",
    "with open(MODEL_CONFIG_PATH) as f:\n",
    "    model_config = json.load(f)"
   ]
  },
  {
   "cell_type": "markdown",
   "id": "9a4b0e2d",
   "metadata": {
    "papermill": {
     "duration": 0.020293,
     "end_time": "2021-04-04T22:50:00.887995",
     "exception": false,
     "start_time": "2021-04-04T22:50:00.867702",
     "status": "completed"
    },
    "tags": []
   },
   "source": [
    "# Profiling"
   ]
  },
  {
   "cell_type": "code",
   "execution_count": 4,
   "id": "a3e0289b",
   "metadata": {
    "execution": {
     "iopub.execute_input": "2021-04-04T22:50:00.942157Z",
     "iopub.status.busy": "2021-04-04T22:50:00.941376Z",
     "iopub.status.idle": "2021-04-04T22:50:02.317764Z",
     "shell.execute_reply": "2021-04-04T22:50:02.318345Z"
    },
    "papermill": {
     "duration": 1.410073,
     "end_time": "2021-04-04T22:50:02.318515",
     "exception": false,
     "start_time": "2021-04-04T22:50:00.908442",
     "status": "completed"
    },
    "tags": []
   },
   "outputs": [],
   "source": [
    "import pandas as pd\n",
    "from pandas_profiling import ProfileReport"
   ]
  },
  {
   "cell_type": "code",
   "execution_count": 5,
   "id": "ee6c0666",
   "metadata": {
    "execution": {
     "iopub.execute_input": "2021-04-04T22:50:02.372143Z",
     "iopub.status.busy": "2021-04-04T22:50:02.371606Z",
     "iopub.status.idle": "2021-04-04T22:50:02.383809Z",
     "shell.execute_reply": "2021-04-04T22:50:02.384256Z"
    },
    "papermill": {
     "duration": 0.042907,
     "end_time": "2021-04-04T22:50:02.384397",
     "exception": false,
     "start_time": "2021-04-04T22:50:02.341490",
     "status": "completed"
    },
    "tags": []
   },
   "outputs": [],
   "source": [
    "df = pd.read_csv(dataset_config['dataset_path'])"
   ]
  },
  {
   "cell_type": "code",
   "execution_count": 6,
   "id": "7eca6c4a",
   "metadata": {
    "execution": {
     "iopub.execute_input": "2021-04-04T22:50:02.440035Z",
     "iopub.status.busy": "2021-04-04T22:50:02.439080Z",
     "iopub.status.idle": "2021-04-04T22:50:02.458224Z",
     "shell.execute_reply": "2021-04-04T22:50:02.459424Z"
    },
    "papermill": {
     "duration": 0.05388,
     "end_time": "2021-04-04T22:50:02.459653",
     "exception": false,
     "start_time": "2021-04-04T22:50:02.405773",
     "status": "completed"
    },
    "tags": []
   },
   "outputs": [
    {
     "name": "stdout",
     "output_type": "stream",
     "text": [
      "<class 'pandas.core.frame.DataFrame'>\n",
      "RangeIndex: 2109 entries, 0 to 2108\n",
      "Data columns (total 23 columns):\n",
      " #   Column             Non-Null Count  Dtype  \n",
      "---  ------             --------------  -----  \n",
      " 0   id                 2109 non-null   int64  \n",
      " 1   loc                2109 non-null   float64\n",
      " 2   v(g)               2109 non-null   float64\n",
      " 3   ev(g)              2109 non-null   float64\n",
      " 4   iv(g)              2109 non-null   float64\n",
      " 5   n                  2109 non-null   float64\n",
      " 6   v                  2109 non-null   float64\n",
      " 7   l                  2109 non-null   float64\n",
      " 8   d                  2109 non-null   float64\n",
      " 9   i                  2109 non-null   float64\n",
      " 10  e                  2109 non-null   float64\n",
      " 11  b                  2109 non-null   float64\n",
      " 12  t                  2109 non-null   float64\n",
      " 13  lOCode             2109 non-null   int64  \n",
      " 14  lOComment          2109 non-null   int64  \n",
      " 15  lOBlank            2109 non-null   int64  \n",
      " 16  locCodeAndComment  2109 non-null   int64  \n",
      " 17  uniq_Op            2109 non-null   float64\n",
      " 18  uniq_Opnd          2109 non-null   float64\n",
      " 19  total_Op           2109 non-null   float64\n",
      " 20  total_Opnd         2109 non-null   float64\n",
      " 21  branchCount        2109 non-null   float64\n",
      " 22  defects            2109 non-null   bool   \n",
      "dtypes: bool(1), float64(17), int64(5)\n",
      "memory usage: 364.7 KB\n"
     ]
    }
   ],
   "source": [
    "df.info()"
   ]
  },
  {
   "cell_type": "code",
   "execution_count": 7,
   "id": "3638e5e8",
   "metadata": {
    "execution": {
     "iopub.execute_input": "2021-04-04T22:50:02.512482Z",
     "iopub.status.busy": "2021-04-04T22:50:02.511867Z",
     "iopub.status.idle": "2021-04-04T22:50:02.538042Z",
     "shell.execute_reply": "2021-04-04T22:50:02.538517Z"
    },
    "papermill": {
     "duration": 0.055081,
     "end_time": "2021-04-04T22:50:02.538663",
     "exception": false,
     "start_time": "2021-04-04T22:50:02.483582",
     "status": "completed"
    },
    "tags": []
   },
   "outputs": [
    {
     "data": {
      "text/html": [
       "<div>\n",
       "<style scoped>\n",
       "    .dataframe tbody tr th:only-of-type {\n",
       "        vertical-align: middle;\n",
       "    }\n",
       "\n",
       "    .dataframe tbody tr th {\n",
       "        vertical-align: top;\n",
       "    }\n",
       "\n",
       "    .dataframe thead th {\n",
       "        text-align: right;\n",
       "    }\n",
       "</style>\n",
       "<table border=\"1\" class=\"dataframe\">\n",
       "  <thead>\n",
       "    <tr style=\"text-align: right;\">\n",
       "      <th></th>\n",
       "      <th>id</th>\n",
       "      <th>loc</th>\n",
       "      <th>v(g)</th>\n",
       "      <th>ev(g)</th>\n",
       "      <th>iv(g)</th>\n",
       "      <th>n</th>\n",
       "      <th>v</th>\n",
       "      <th>l</th>\n",
       "      <th>d</th>\n",
       "      <th>i</th>\n",
       "      <th>...</th>\n",
       "      <th>lOCode</th>\n",
       "      <th>lOComment</th>\n",
       "      <th>lOBlank</th>\n",
       "      <th>locCodeAndComment</th>\n",
       "      <th>uniq_Op</th>\n",
       "      <th>uniq_Opnd</th>\n",
       "      <th>total_Op</th>\n",
       "      <th>total_Opnd</th>\n",
       "      <th>branchCount</th>\n",
       "      <th>defects</th>\n",
       "    </tr>\n",
       "  </thead>\n",
       "  <tbody>\n",
       "    <tr>\n",
       "      <th>0</th>\n",
       "      <td>1</td>\n",
       "      <td>1.1</td>\n",
       "      <td>1.4</td>\n",
       "      <td>1.4</td>\n",
       "      <td>1.4</td>\n",
       "      <td>1.3</td>\n",
       "      <td>1.30</td>\n",
       "      <td>1.30</td>\n",
       "      <td>1.30</td>\n",
       "      <td>1.30</td>\n",
       "      <td>...</td>\n",
       "      <td>2</td>\n",
       "      <td>2</td>\n",
       "      <td>2</td>\n",
       "      <td>2</td>\n",
       "      <td>1.2</td>\n",
       "      <td>1.2</td>\n",
       "      <td>1.2</td>\n",
       "      <td>1.2</td>\n",
       "      <td>1.4</td>\n",
       "      <td>False</td>\n",
       "    </tr>\n",
       "    <tr>\n",
       "      <th>1</th>\n",
       "      <td>2</td>\n",
       "      <td>1.0</td>\n",
       "      <td>1.0</td>\n",
       "      <td>1.0</td>\n",
       "      <td>1.0</td>\n",
       "      <td>1.0</td>\n",
       "      <td>1.00</td>\n",
       "      <td>1.00</td>\n",
       "      <td>1.00</td>\n",
       "      <td>1.00</td>\n",
       "      <td>...</td>\n",
       "      <td>1</td>\n",
       "      <td>1</td>\n",
       "      <td>1</td>\n",
       "      <td>1</td>\n",
       "      <td>1.0</td>\n",
       "      <td>1.0</td>\n",
       "      <td>1.0</td>\n",
       "      <td>1.0</td>\n",
       "      <td>1.0</td>\n",
       "      <td>True</td>\n",
       "    </tr>\n",
       "    <tr>\n",
       "      <th>2</th>\n",
       "      <td>3</td>\n",
       "      <td>83.0</td>\n",
       "      <td>11.0</td>\n",
       "      <td>1.0</td>\n",
       "      <td>11.0</td>\n",
       "      <td>171.0</td>\n",
       "      <td>927.89</td>\n",
       "      <td>0.04</td>\n",
       "      <td>23.04</td>\n",
       "      <td>40.27</td>\n",
       "      <td>...</td>\n",
       "      <td>65</td>\n",
       "      <td>10</td>\n",
       "      <td>6</td>\n",
       "      <td>0</td>\n",
       "      <td>18.0</td>\n",
       "      <td>25.0</td>\n",
       "      <td>107.0</td>\n",
       "      <td>64.0</td>\n",
       "      <td>21.0</td>\n",
       "      <td>True</td>\n",
       "    </tr>\n",
       "    <tr>\n",
       "      <th>3</th>\n",
       "      <td>4</td>\n",
       "      <td>46.0</td>\n",
       "      <td>8.0</td>\n",
       "      <td>6.0</td>\n",
       "      <td>8.0</td>\n",
       "      <td>141.0</td>\n",
       "      <td>769.78</td>\n",
       "      <td>0.07</td>\n",
       "      <td>14.86</td>\n",
       "      <td>51.81</td>\n",
       "      <td>...</td>\n",
       "      <td>37</td>\n",
       "      <td>2</td>\n",
       "      <td>5</td>\n",
       "      <td>0</td>\n",
       "      <td>16.0</td>\n",
       "      <td>28.0</td>\n",
       "      <td>89.0</td>\n",
       "      <td>52.0</td>\n",
       "      <td>15.0</td>\n",
       "      <td>True</td>\n",
       "    </tr>\n",
       "    <tr>\n",
       "      <th>4</th>\n",
       "      <td>5</td>\n",
       "      <td>25.0</td>\n",
       "      <td>3.0</td>\n",
       "      <td>1.0</td>\n",
       "      <td>3.0</td>\n",
       "      <td>58.0</td>\n",
       "      <td>254.75</td>\n",
       "      <td>0.11</td>\n",
       "      <td>9.35</td>\n",
       "      <td>27.25</td>\n",
       "      <td>...</td>\n",
       "      <td>21</td>\n",
       "      <td>0</td>\n",
       "      <td>2</td>\n",
       "      <td>0</td>\n",
       "      <td>11.0</td>\n",
       "      <td>10.0</td>\n",
       "      <td>41.0</td>\n",
       "      <td>17.0</td>\n",
       "      <td>5.0</td>\n",
       "      <td>True</td>\n",
       "    </tr>\n",
       "  </tbody>\n",
       "</table>\n",
       "<p>5 rows × 23 columns</p>\n",
       "</div>"
      ],
      "text/plain": [
       "   id   loc  v(g)  ev(g)  iv(g)      n       v     l      d      i  ...  \\\n",
       "0   1   1.1   1.4    1.4    1.4    1.3    1.30  1.30   1.30   1.30  ...   \n",
       "1   2   1.0   1.0    1.0    1.0    1.0    1.00  1.00   1.00   1.00  ...   \n",
       "2   3  83.0  11.0    1.0   11.0  171.0  927.89  0.04  23.04  40.27  ...   \n",
       "3   4  46.0   8.0    6.0    8.0  141.0  769.78  0.07  14.86  51.81  ...   \n",
       "4   5  25.0   3.0    1.0    3.0   58.0  254.75  0.11   9.35  27.25  ...   \n",
       "\n",
       "   lOCode  lOComment  lOBlank  locCodeAndComment  uniq_Op  uniq_Opnd  \\\n",
       "0       2          2        2                  2      1.2        1.2   \n",
       "1       1          1        1                  1      1.0        1.0   \n",
       "2      65         10        6                  0     18.0       25.0   \n",
       "3      37          2        5                  0     16.0       28.0   \n",
       "4      21          0        2                  0     11.0       10.0   \n",
       "\n",
       "   total_Op  total_Opnd  branchCount  defects  \n",
       "0       1.2         1.2          1.4    False  \n",
       "1       1.0         1.0          1.0     True  \n",
       "2     107.0        64.0         21.0     True  \n",
       "3      89.0        52.0         15.0     True  \n",
       "4      41.0        17.0          5.0     True  \n",
       "\n",
       "[5 rows x 23 columns]"
      ]
     },
     "execution_count": 7,
     "metadata": {},
     "output_type": "execute_result"
    }
   ],
   "source": [
    "df.head()"
   ]
  },
  {
   "cell_type": "code",
   "execution_count": 8,
   "id": "733e95eb",
   "metadata": {
    "execution": {
     "iopub.execute_input": "2021-04-04T22:50:02.596087Z",
     "iopub.status.busy": "2021-04-04T22:50:02.594119Z",
     "iopub.status.idle": "2021-04-04T22:50:02.598482Z",
     "shell.execute_reply": "2021-04-04T22:50:02.597874Z"
    },
    "papermill": {
     "duration": 0.036594,
     "end_time": "2021-04-04T22:50:02.598625",
     "exception": false,
     "start_time": "2021-04-04T22:50:02.562031",
     "status": "completed"
    },
    "tags": []
   },
   "outputs": [],
   "source": [
    "del df['id']"
   ]
  },
  {
   "cell_type": "code",
   "execution_count": 9,
   "id": "6ff6f5b0",
   "metadata": {
    "execution": {
     "iopub.execute_input": "2021-04-04T22:50:02.649455Z",
     "iopub.status.busy": "2021-04-04T22:50:02.648631Z",
     "iopub.status.idle": "2021-04-04T22:50:02.651891Z",
     "shell.execute_reply": "2021-04-04T22:50:02.651167Z"
    },
    "papermill": {
     "duration": 0.030999,
     "end_time": "2021-04-04T22:50:02.652048",
     "exception": false,
     "start_time": "2021-04-04T22:50:02.621049",
     "status": "completed"
    },
    "tags": []
   },
   "outputs": [],
   "source": [
    "if PROFILE_REPORTING:\n",
    "    ProfileReport(df).to_widgets()"
   ]
  },
  {
   "cell_type": "markdown",
   "id": "1deaf3f0",
   "metadata": {
    "papermill": {
     "duration": 0.0274,
     "end_time": "2021-04-04T22:50:02.702349",
     "exception": false,
     "start_time": "2021-04-04T22:50:02.674949",
     "status": "completed"
    },
    "tags": []
   },
   "source": [
    "# Preprocess"
   ]
  },
  {
   "cell_type": "code",
   "execution_count": 10,
   "id": "1513e563",
   "metadata": {
    "execution": {
     "iopub.execute_input": "2021-04-04T22:50:02.755967Z",
     "iopub.status.busy": "2021-04-04T22:50:02.754450Z",
     "iopub.status.idle": "2021-04-04T22:50:02.757945Z",
     "shell.execute_reply": "2021-04-04T22:50:02.758475Z"
    },
    "papermill": {
     "duration": 0.034179,
     "end_time": "2021-04-04T22:50:02.758619",
     "exception": false,
     "start_time": "2021-04-04T22:50:02.724440",
     "status": "completed"
    },
    "tags": []
   },
   "outputs": [],
   "source": [
    "working_df = df.copy()"
   ]
  },
  {
   "cell_type": "code",
   "execution_count": 11,
   "id": "3b26d675",
   "metadata": {
    "execution": {
     "iopub.execute_input": "2021-04-04T22:50:02.813608Z",
     "iopub.status.busy": "2021-04-04T22:50:02.812996Z",
     "iopub.status.idle": "2021-04-04T22:50:02.815992Z",
     "shell.execute_reply": "2021-04-04T22:50:02.815497Z"
    },
    "papermill": {
     "duration": 0.035292,
     "end_time": "2021-04-04T22:50:02.816111",
     "exception": false,
     "start_time": "2021-04-04T22:50:02.780819",
     "status": "completed"
    },
    "tags": []
   },
   "outputs": [],
   "source": [
    "working_df['defects'] = working_df['defects'].replace([False, True], [0, 1])"
   ]
  },
  {
   "cell_type": "code",
   "execution_count": 12,
   "id": "eb48604f",
   "metadata": {
    "execution": {
     "iopub.execute_input": "2021-04-04T22:50:02.866902Z",
     "iopub.status.busy": "2021-04-04T22:50:02.866249Z",
     "iopub.status.idle": "2021-04-04T22:50:02.868255Z",
     "shell.execute_reply": "2021-04-04T22:50:02.868727Z"
    },
    "papermill": {
     "duration": 0.029676,
     "end_time": "2021-04-04T22:50:02.868873",
     "exception": false,
     "start_time": "2021-04-04T22:50:02.839197",
     "status": "completed"
    },
    "tags": []
   },
   "outputs": [],
   "source": [
    "for col in dataset_config['delete_columns']:\n",
    "    del working_df[col]"
   ]
  },
  {
   "cell_type": "code",
   "execution_count": 13,
   "id": "9a17bc29",
   "metadata": {
    "execution": {
     "iopub.execute_input": "2021-04-04T22:50:02.930224Z",
     "iopub.status.busy": "2021-04-04T22:50:02.928478Z",
     "iopub.status.idle": "2021-04-04T22:50:02.944075Z",
     "shell.execute_reply": "2021-04-04T22:50:02.944631Z"
    },
    "papermill": {
     "duration": 0.051847,
     "end_time": "2021-04-04T22:50:02.944824",
     "exception": false,
     "start_time": "2021-04-04T22:50:02.892977",
     "status": "completed"
    },
    "tags": []
   },
   "outputs": [],
   "source": [
    "working_df = working_df.drop_duplicates()"
   ]
  },
  {
   "cell_type": "markdown",
   "id": "a4d52ca6",
   "metadata": {
    "papermill": {
     "duration": 0.022227,
     "end_time": "2021-04-04T22:50:02.991063",
     "exception": false,
     "start_time": "2021-04-04T22:50:02.968836",
     "status": "completed"
    },
    "tags": []
   },
   "source": [
    "# Split"
   ]
  },
  {
   "cell_type": "code",
   "execution_count": 14,
   "id": "3e9ee4b5",
   "metadata": {
    "execution": {
     "iopub.execute_input": "2021-04-04T22:50:03.052493Z",
     "iopub.status.busy": "2021-04-04T22:50:03.051471Z",
     "iopub.status.idle": "2021-04-04T22:50:03.095219Z",
     "shell.execute_reply": "2021-04-04T22:50:03.095677Z"
    },
    "papermill": {
     "duration": 0.079583,
     "end_time": "2021-04-04T22:50:03.095831",
     "exception": false,
     "start_time": "2021-04-04T22:50:03.016248",
     "status": "completed"
    },
    "tags": []
   },
   "outputs": [],
   "source": [
    "from sklearn.model_selection import train_test_split"
   ]
  },
  {
   "cell_type": "code",
   "execution_count": 15,
   "id": "274004ce",
   "metadata": {
    "execution": {
     "iopub.execute_input": "2021-04-04T22:50:03.150817Z",
     "iopub.status.busy": "2021-04-04T22:50:03.150103Z",
     "iopub.status.idle": "2021-04-04T22:50:03.155129Z",
     "shell.execute_reply": "2021-04-04T22:50:03.154633Z"
    },
    "papermill": {
     "duration": 0.034264,
     "end_time": "2021-04-04T22:50:03.155245",
     "exception": false,
     "start_time": "2021-04-04T22:50:03.120981",
     "status": "completed"
    },
    "scrolled": true,
    "tags": []
   },
   "outputs": [],
   "source": [
    "inlier, outlier = working_df[working_df['defects'] == 0], working_df[working_df['defects'] == 1]"
   ]
  },
  {
   "cell_type": "code",
   "execution_count": 16,
   "id": "753c7b03",
   "metadata": {
    "execution": {
     "iopub.execute_input": "2021-04-04T22:50:03.215842Z",
     "iopub.status.busy": "2021-04-04T22:50:03.214602Z",
     "iopub.status.idle": "2021-04-04T22:50:03.218386Z",
     "shell.execute_reply": "2021-04-04T22:50:03.218939Z"
    },
    "papermill": {
     "duration": 0.039233,
     "end_time": "2021-04-04T22:50:03.219104",
     "exception": false,
     "start_time": "2021-04-04T22:50:03.179871",
     "status": "completed"
    },
    "tags": []
   },
   "outputs": [],
   "source": [
    "X_inlier = inlier.copy()\n",
    "y_inlier = X_inlier.pop('defects')\n",
    "X_outlier = outlier.copy()\n",
    "y_outlier = X_outlier.pop('defects')"
   ]
  },
  {
   "cell_type": "code",
   "execution_count": 17,
   "id": "2ba43193",
   "metadata": {
    "execution": {
     "iopub.execute_input": "2021-04-04T22:50:03.276337Z",
     "iopub.status.busy": "2021-04-04T22:50:03.275463Z",
     "iopub.status.idle": "2021-04-04T22:50:03.277995Z",
     "shell.execute_reply": "2021-04-04T22:50:03.277473Z"
    },
    "papermill": {
     "duration": 0.035365,
     "end_time": "2021-04-04T22:50:03.278115",
     "exception": false,
     "start_time": "2021-04-04T22:50:03.242750",
     "status": "completed"
    },
    "tags": []
   },
   "outputs": [],
   "source": [
    "test_size = dataset_config['test_size']\n",
    "random_state = dataset_config['random_state']\n",
    "\n",
    "X_inlier_train, X_inlier_test, y_inlier_train, y_inlier_test = train_test_split(\n",
    "    X_inlier,\n",
    "    y_inlier,\n",
    "    test_size=test_size,\n",
    "    random_state=random_state\n",
    ")"
   ]
  },
  {
   "cell_type": "code",
   "execution_count": 18,
   "id": "0b7582ca",
   "metadata": {
    "execution": {
     "iopub.execute_input": "2021-04-04T22:50:03.337655Z",
     "iopub.status.busy": "2021-04-04T22:50:03.336607Z",
     "iopub.status.idle": "2021-04-04T22:50:03.341213Z",
     "shell.execute_reply": "2021-04-04T22:50:03.340626Z"
    },
    "papermill": {
     "duration": 0.039802,
     "end_time": "2021-04-04T22:50:03.341398",
     "exception": false,
     "start_time": "2021-04-04T22:50:03.301596",
     "status": "completed"
    },
    "tags": []
   },
   "outputs": [],
   "source": [
    "test_outlier_size = dataset_config['test_outlier_size']\n",
    "if test_outlier_size > 0.0:\n",
    "    X_outlier_train, X_outlier_test, y_outlier_train, y_outlier_test = train_test_split(\n",
    "        X_outlier,\n",
    "        y_outlier,\n",
    "        test_size=test_outlier_size,\n",
    "        random_state=random_state\n",
    "    )\n",
    "else:\n",
    "    X_outlier_train, y_outlier_train = pd.DataFrame(columns=X_outlier.columns), pd.Series(dtype='int64')\n",
    "    X_outlier_test, y_outlier_test = X_outlier.copy(), y_outlier.copy()"
   ]
  },
  {
   "cell_type": "code",
   "execution_count": 19,
   "id": "c34363db",
   "metadata": {
    "execution": {
     "iopub.execute_input": "2021-04-04T22:50:03.410825Z",
     "iopub.status.busy": "2021-04-04T22:50:03.406096Z",
     "iopub.status.idle": "2021-04-04T22:50:03.413964Z",
     "shell.execute_reply": "2021-04-04T22:50:03.414837Z"
    },
    "papermill": {
     "duration": 0.042419,
     "end_time": "2021-04-04T22:50:03.415141",
     "exception": false,
     "start_time": "2021-04-04T22:50:03.372722",
     "status": "completed"
    },
    "tags": []
   },
   "outputs": [],
   "source": [
    "X_train, y_train = pd.concat([X_inlier_train, X_outlier_train], ignore_index=True), pd.concat([y_inlier_train, y_outlier_train], ignore_index=True)\n",
    "X_test, y_test = pd.concat([X_inlier_test, X_outlier_test], ignore_index=True), pd.concat([y_inlier_test, y_outlier_test], ignore_index=True)"
   ]
  },
  {
   "cell_type": "markdown",
   "id": "7cde7309",
   "metadata": {
    "papermill": {
     "duration": 0.03203,
     "end_time": "2021-04-04T22:50:03.470057",
     "exception": false,
     "start_time": "2021-04-04T22:50:03.438027",
     "status": "completed"
    },
    "tags": []
   },
   "source": [
    "# Model"
   ]
  },
  {
   "cell_type": "code",
   "execution_count": 20,
   "id": "2b12a415",
   "metadata": {
    "execution": {
     "iopub.execute_input": "2021-04-04T22:50:03.534429Z",
     "iopub.status.busy": "2021-04-04T22:50:03.533823Z",
     "iopub.status.idle": "2021-04-04T22:50:03.535739Z",
     "shell.execute_reply": "2021-04-04T22:50:03.536180Z"
    },
    "papermill": {
     "duration": 0.040788,
     "end_time": "2021-04-04T22:50:03.536319",
     "exception": false,
     "start_time": "2021-04-04T22:50:03.495531",
     "status": "completed"
    },
    "tags": []
   },
   "outputs": [],
   "source": [
    "from math import sqrt\n",
    "\n",
    "\n",
    "class KNNDataDescription:\n",
    "    def __init__(self, k=5, outlier_threshold=1.0):\n",
    "        self.k = k\n",
    "        self.outlier_threshold = outlier_threshold\n",
    "        self.X = []\n",
    "    \n",
    "    def fit(self, X):\n",
    "        self.X = [features.to_list() for index, features in X.iterrows()]\n",
    "\n",
    "    def predict(self, entries):\n",
    "        return [self.predict_entry(features.to_list()) for index, features in entries.iterrows()]\n",
    "    \n",
    "    def predict_entry(self, entry):\n",
    "        kth_neighbor, kth_distance = self.get_kth_neighbor(entry, self.k)\n",
    "        kth_kth_neighbor, kth_kth_distance = self.get_kth_neighbor(kth_neighbor, self.k + 1)\n",
    "\n",
    "        outlier_score = kth_distance / (kth_kth_distance + 0.000001)\n",
    "\n",
    "        return 1 if outlier_score < self.outlier_threshold else -1\n",
    "        \n",
    "    def euclidean_distance(self, features1, features2):\n",
    "        distance = 0.0\n",
    "        for feat1, feat2 in zip(features1, features2):\n",
    "            distance += (feat1 - feat2)**2\n",
    "                \n",
    "        return sqrt(distance)\n",
    "\n",
    "    def get_neighbors(self, entry, k):\n",
    "        distance_to_data_points = [\n",
    "            (data_point, self.euclidean_distance(entry, data_point))\n",
    "            for data_point in self.X\n",
    "        ]\n",
    "        sorted_by_distance = sorted(distance_to_data_points, key=lambda tup: tup[1])\n",
    "        neighbors = sorted_by_distance[:k]\n",
    "        return neighbors\n",
    "\n",
    "    def get_kth_neighbor(self, entry, k):\n",
    "        neighbors = self.get_neighbors(entry, k)\n",
    "        return neighbors[-1]\n"
   ]
  },
  {
   "cell_type": "code",
   "execution_count": 21,
   "id": "1fa9ec1c",
   "metadata": {
    "execution": {
     "iopub.execute_input": "2021-04-04T22:50:03.603405Z",
     "iopub.status.busy": "2021-04-04T22:50:03.601810Z",
     "iopub.status.idle": "2021-04-04T22:50:03.631362Z",
     "shell.execute_reply": "2021-04-04T22:50:03.631889Z"
    },
    "papermill": {
     "duration": 0.067952,
     "end_time": "2021-04-04T22:50:03.632049",
     "exception": false,
     "start_time": "2021-04-04T22:50:03.564097",
     "status": "completed"
    },
    "tags": []
   },
   "outputs": [],
   "source": [
    "from sklearn.svm import OneClassSVM\n",
    "\n",
    "\n",
    "models = {\n",
    "    'oneclasssvm': OneClassSVM,\n",
    "    'knndatadescription': KNNDataDescription,\n",
    "}"
   ]
  },
  {
   "cell_type": "code",
   "execution_count": 22,
   "id": "4d72a0b1",
   "metadata": {
    "execution": {
     "iopub.execute_input": "2021-04-04T22:50:03.686311Z",
     "iopub.status.busy": "2021-04-04T22:50:03.685590Z",
     "iopub.status.idle": "2021-04-04T22:50:03.687362Z",
     "shell.execute_reply": "2021-04-04T22:50:03.687833Z"
    },
    "papermill": {
     "duration": 0.031026,
     "end_time": "2021-04-04T22:50:03.687976",
     "exception": false,
     "start_time": "2021-04-04T22:50:03.656950",
     "status": "completed"
    },
    "scrolled": true,
    "tags": []
   },
   "outputs": [],
   "source": [
    "model_cls = models[model_config['model_type']]\n",
    "model = model_cls(**model_config['hyperparameters'])"
   ]
  },
  {
   "cell_type": "markdown",
   "id": "e00cff3b",
   "metadata": {
    "papermill": {
     "duration": 0.025987,
     "end_time": "2021-04-04T22:50:03.740293",
     "exception": false,
     "start_time": "2021-04-04T22:50:03.714306",
     "status": "completed"
    },
    "tags": []
   },
   "source": [
    "# Fit"
   ]
  },
  {
   "cell_type": "code",
   "execution_count": 23,
   "id": "8b2ded89",
   "metadata": {
    "execution": {
     "iopub.execute_input": "2021-04-04T22:50:03.799012Z",
     "iopub.status.busy": "2021-04-04T22:50:03.798316Z",
     "iopub.status.idle": "2021-04-04T22:50:03.856328Z",
     "shell.execute_reply": "2021-04-04T22:50:03.855704Z"
    },
    "papermill": {
     "duration": 0.087125,
     "end_time": "2021-04-04T22:50:03.856456",
     "exception": false,
     "start_time": "2021-04-04T22:50:03.769331",
     "status": "completed"
    },
    "tags": []
   },
   "outputs": [],
   "source": [
    "model.fit(X_train)"
   ]
  },
  {
   "cell_type": "markdown",
   "id": "f99999f7",
   "metadata": {
    "papermill": {
     "duration": 0.03036,
     "end_time": "2021-04-04T22:50:03.913229",
     "exception": false,
     "start_time": "2021-04-04T22:50:03.882869",
     "status": "completed"
    },
    "tags": []
   },
   "source": [
    "# Predict"
   ]
  },
  {
   "cell_type": "code",
   "execution_count": 24,
   "id": "6536fbf7",
   "metadata": {
    "execution": {
     "iopub.execute_input": "2021-04-04T22:50:03.983392Z",
     "iopub.status.busy": "2021-04-04T22:50:03.972791Z",
     "iopub.status.idle": "2021-04-04T22:50:06.278316Z",
     "shell.execute_reply": "2021-04-04T22:50:06.278840Z"
    },
    "papermill": {
     "duration": 2.338929,
     "end_time": "2021-04-04T22:50:06.279004",
     "exception": false,
     "start_time": "2021-04-04T22:50:03.940075",
     "status": "completed"
    },
    "tags": []
   },
   "outputs": [],
   "source": [
    "predictions = model.predict(X_test)"
   ]
  },
  {
   "cell_type": "markdown",
   "id": "aa1c9881",
   "metadata": {
    "papermill": {
     "duration": 0.029805,
     "end_time": "2021-04-04T22:50:06.333682",
     "exception": false,
     "start_time": "2021-04-04T22:50:06.303877",
     "status": "completed"
    },
    "tags": []
   },
   "source": [
    "# Evaluate"
   ]
  },
  {
   "cell_type": "code",
   "execution_count": 25,
   "id": "894f0f04",
   "metadata": {
    "execution": {
     "iopub.execute_input": "2021-04-04T22:50:06.398933Z",
     "iopub.status.busy": "2021-04-04T22:50:06.397982Z",
     "iopub.status.idle": "2021-04-04T22:50:06.399992Z",
     "shell.execute_reply": "2021-04-04T22:50:06.400730Z"
    },
    "papermill": {
     "duration": 0.034802,
     "end_time": "2021-04-04T22:50:06.400920",
     "exception": false,
     "start_time": "2021-04-04T22:50:06.366118",
     "status": "completed"
    },
    "tags": []
   },
   "outputs": [],
   "source": [
    "from sklearn.metrics import f1_score"
   ]
  },
  {
   "cell_type": "code",
   "execution_count": 26,
   "id": "211744d3",
   "metadata": {
    "execution": {
     "iopub.execute_input": "2021-04-04T22:50:06.465224Z",
     "iopub.status.busy": "2021-04-04T22:50:06.464336Z",
     "iopub.status.idle": "2021-04-04T22:50:06.466359Z",
     "shell.execute_reply": "2021-04-04T22:50:06.466913Z"
    },
    "papermill": {
     "duration": 0.040641,
     "end_time": "2021-04-04T22:50:06.467093",
     "exception": false,
     "start_time": "2021-04-04T22:50:06.426452",
     "status": "completed"
    },
    "tags": []
   },
   "outputs": [],
   "source": [
    "y_test = y_test.replace([0, 1], [1, -1])"
   ]
  },
  {
   "cell_type": "code",
   "execution_count": 27,
   "id": "d68a9204",
   "metadata": {
    "execution": {
     "iopub.execute_input": "2021-04-04T22:50:06.537244Z",
     "iopub.status.busy": "2021-04-04T22:50:06.536114Z",
     "iopub.status.idle": "2021-04-04T22:50:06.538790Z",
     "shell.execute_reply": "2021-04-04T22:50:06.539823Z"
    },
    "papermill": {
     "duration": 0.049013,
     "end_time": "2021-04-04T22:50:06.540133",
     "exception": false,
     "start_time": "2021-04-04T22:50:06.491120",
     "status": "completed"
    },
    "tags": []
   },
   "outputs": [],
   "source": [
    "def evaluate(truths, predictions, pos_label, neg_label):\n",
    "    TP = 0\n",
    "    FP = 0\n",
    "    TN = 0\n",
    "    FN = 0\n",
    "\n",
    "    for truth, pred in zip(truths, predictions): \n",
    "        if truth == pred == pos_label:\n",
    "           TP += 1\n",
    "        elif pred == pos_label and truth == neg_label:\n",
    "           FP += 1\n",
    "        elif truth == pred == neg_label:\n",
    "           TN += 1\n",
    "        elif pred == neg_label and truth == pos_label:\n",
    "           FN += 1\n",
    "\n",
    "    precision = TP / (TP + FP)\n",
    "    sensitivity = TP / (TP + FN)\n",
    "    \n",
    "    return {\n",
    "        'true_pos': TP,\n",
    "        'false_pos': FP,\n",
    "        'false_neg': FN,\n",
    "        'true_neg': TN,\n",
    "        'precision': precision,\n",
    "        'sensitivity': sensitivity,\n",
    "        'f1': (2 * (precision * sensitivity)) / (precision + sensitivity)\n",
    "    }\n",
    "\n",
    "score = evaluate(y_test, predictions, pos_label=-1, neg_label=1)"
   ]
  },
  {
   "cell_type": "markdown",
   "id": "93596516",
   "metadata": {
    "papermill": {
     "duration": 0.029438,
     "end_time": "2021-04-04T22:50:06.602931",
     "exception": false,
     "start_time": "2021-04-04T22:50:06.573493",
     "status": "completed"
    },
    "tags": []
   },
   "source": [
    "# Report"
   ]
  },
  {
   "cell_type": "code",
   "execution_count": 28,
   "id": "bea5fba1",
   "metadata": {
    "execution": {
     "iopub.execute_input": "2021-04-04T22:50:06.662514Z",
     "iopub.status.busy": "2021-04-04T22:50:06.660198Z",
     "iopub.status.idle": "2021-04-04T22:50:06.664840Z",
     "shell.execute_reply": "2021-04-04T22:50:06.664263Z"
    },
    "papermill": {
     "duration": 0.034437,
     "end_time": "2021-04-04T22:50:06.664978",
     "exception": false,
     "start_time": "2021-04-04T22:50:06.630541",
     "status": "completed"
    },
    "tags": []
   },
   "outputs": [],
   "source": [
    "import csv\n",
    "\n",
    "\n",
    "dataset_config_name = DATASET_CONFIG_PATH.split('/')[-1].split('.')[0]\n",
    "model_config_name = MODEL_CONFIG_PATH.split('/')[-1].split('.')[0]\n",
    "configuration = f\"dataset_{dataset_config_name}-model_{model_config_name}\"\n",
    "\n",
    "with open('results.csv', 'a') as f:\n",
    "    report = dict({'configuration': configuration}, **score)\n",
    "    writer = csv.DictWriter(f, report.keys())\n",
    "    writer.writerow(report)"
   ]
  }
 ],
 "metadata": {
  "celltoolbar": "Tags",
  "kernelspec": {
   "display_name": "Python 3",
   "language": "python",
   "name": "python3"
  },
  "language_info": {
   "codemirror_mode": {
    "name": "ipython",
    "version": 3
   },
   "file_extension": ".py",
   "mimetype": "text/x-python",
   "name": "python",
   "nbconvert_exporter": "python",
   "pygments_lexer": "ipython3",
   "version": "3.9.1"
  },
  "papermill": {
   "default_parameters": {},
   "duration": 7.676376,
   "end_time": "2021-04-04T22:50:07.400626",
   "environment_variables": {},
   "exception": null,
   "input_path": "main.ipynb",
   "output_path": "runs/dataset_000051-model_000001.ipynb",
   "parameters": {
    "DATASET_CONFIG_PATH": "config/dataset/000051.json",
    "MODEL_CONFIG_PATH": "config/model/000001.json",
    "PROFILE_REPORTING": false
   },
   "start_time": "2021-04-04T22:49:59.724250",
   "version": "2.3.3"
  }
 },
 "nbformat": 4,
 "nbformat_minor": 5
}