{
 "cells": [
  {
   "cell_type": "markdown",
   "id": "51c71c25",
   "metadata": {
    "papermill": {
     "duration": 0.031245,
     "end_time": "2021-04-04T23:33:42.432414",
     "exception": false,
     "start_time": "2021-04-04T23:33:42.401169",
     "status": "completed"
    },
    "tags": []
   },
   "source": [
    "# Parametrizing"
   ]
  },
  {
   "cell_type": "code",
   "execution_count": 1,
   "id": "3b136394",
   "metadata": {
    "execution": {
     "iopub.execute_input": "2021-04-04T23:33:42.517203Z",
     "iopub.status.busy": "2021-04-04T23:33:42.515285Z",
     "iopub.status.idle": "2021-04-04T23:33:42.525043Z",
     "shell.execute_reply": "2021-04-04T23:33:42.523649Z"
    },
    "papermill": {
     "duration": 0.063482,
     "end_time": "2021-04-04T23:33:42.525303",
     "exception": false,
     "start_time": "2021-04-04T23:33:42.461821",
     "status": "completed"
    },
    "tags": [
     "parameters"
    ]
   },
   "outputs": [],
   "source": [
    "DATASET_CONFIG_PATH = 'config/dataset/kc1_001.json'\n",
    "MODEL_CONFIG_PATH = 'config/model/knndd_001.json'\n",
    "PROFILE_REPORTING = False"
   ]
  },
  {
   "cell_type": "code",
   "execution_count": 2,
   "id": "56f7ef4d",
   "metadata": {
    "execution": {
     "iopub.execute_input": "2021-04-04T23:33:42.602482Z",
     "iopub.status.busy": "2021-04-04T23:33:42.601117Z",
     "iopub.status.idle": "2021-04-04T23:33:42.603812Z",
     "shell.execute_reply": "2021-04-04T23:33:42.605856Z"
    },
    "papermill": {
     "duration": 0.052265,
     "end_time": "2021-04-04T23:33:42.606090",
     "exception": false,
     "start_time": "2021-04-04T23:33:42.553825",
     "status": "completed"
    },
    "tags": [
     "injected-parameters"
    ]
   },
   "outputs": [],
   "source": [
    "# Parameters\n",
    "DATASET_CONFIG_PATH = \"config/dataset/000150.json\"\n",
    "MODEL_CONFIG_PATH = \"config/model/000002.json\"\n",
    "PROFILE_REPORTING = False\n"
   ]
  },
  {
   "cell_type": "code",
   "execution_count": 3,
   "id": "b80f2a10",
   "metadata": {
    "execution": {
     "iopub.execute_input": "2021-04-04T23:33:42.668562Z",
     "iopub.status.busy": "2021-04-04T23:33:42.666716Z",
     "iopub.status.idle": "2021-04-04T23:33:42.671104Z",
     "shell.execute_reply": "2021-04-04T23:33:42.671774Z"
    },
    "papermill": {
     "duration": 0.038562,
     "end_time": "2021-04-04T23:33:42.672056",
     "exception": false,
     "start_time": "2021-04-04T23:33:42.633494",
     "status": "completed"
    },
    "tags": []
   },
   "outputs": [],
   "source": [
    "import json\n",
    "\n",
    "\n",
    "with open(DATASET_CONFIG_PATH) as f:\n",
    "    dataset_config = json.load(f)\n",
    "\n",
    "with open(MODEL_CONFIG_PATH) as f:\n",
    "    model_config = json.load(f)"
   ]
  },
  {
   "cell_type": "markdown",
   "id": "9a4b0e2d",
   "metadata": {
    "papermill": {
     "duration": 0.022537,
     "end_time": "2021-04-04T23:33:42.717863",
     "exception": false,
     "start_time": "2021-04-04T23:33:42.695326",
     "status": "completed"
    },
    "tags": []
   },
   "source": [
    "# Profiling"
   ]
  },
  {
   "cell_type": "code",
   "execution_count": 4,
   "id": "a3e0289b",
   "metadata": {
    "execution": {
     "iopub.execute_input": "2021-04-04T23:33:42.792291Z",
     "iopub.status.busy": "2021-04-04T23:33:42.790067Z",
     "iopub.status.idle": "2021-04-04T23:33:44.498736Z",
     "shell.execute_reply": "2021-04-04T23:33:44.498220Z"
    },
    "papermill": {
     "duration": 1.745235,
     "end_time": "2021-04-04T23:33:44.498856",
     "exception": false,
     "start_time": "2021-04-04T23:33:42.753621",
     "status": "completed"
    },
    "tags": []
   },
   "outputs": [],
   "source": [
    "import pandas as pd\n",
    "from pandas_profiling import ProfileReport"
   ]
  },
  {
   "cell_type": "code",
   "execution_count": 5,
   "id": "ee6c0666",
   "metadata": {
    "execution": {
     "iopub.execute_input": "2021-04-04T23:33:44.545322Z",
     "iopub.status.busy": "2021-04-04T23:33:44.544428Z",
     "iopub.status.idle": "2021-04-04T23:33:44.554550Z",
     "shell.execute_reply": "2021-04-04T23:33:44.553908Z"
    },
    "papermill": {
     "duration": 0.034536,
     "end_time": "2021-04-04T23:33:44.554677",
     "exception": false,
     "start_time": "2021-04-04T23:33:44.520141",
     "status": "completed"
    },
    "tags": []
   },
   "outputs": [],
   "source": [
    "df = pd.read_csv(dataset_config['dataset_path'])"
   ]
  },
  {
   "cell_type": "code",
   "execution_count": 6,
   "id": "7eca6c4a",
   "metadata": {
    "execution": {
     "iopub.execute_input": "2021-04-04T23:33:44.627565Z",
     "iopub.status.busy": "2021-04-04T23:33:44.610506Z",
     "iopub.status.idle": "2021-04-04T23:33:44.631396Z",
     "shell.execute_reply": "2021-04-04T23:33:44.633951Z"
    },
    "papermill": {
     "duration": 0.057249,
     "end_time": "2021-04-04T23:33:44.634516",
     "exception": false,
     "start_time": "2021-04-04T23:33:44.577267",
     "status": "completed"
    },
    "tags": []
   },
   "outputs": [
    {
     "name": "stdout",
     "output_type": "stream",
     "text": [
      "<class 'pandas.core.frame.DataFrame'>\n",
      "RangeIndex: 498 entries, 0 to 497\n",
      "Data columns (total 23 columns):\n",
      " #   Column             Non-Null Count  Dtype  \n",
      "---  ------             --------------  -----  \n",
      " 0   id                 498 non-null    int64  \n",
      " 1   loc                498 non-null    float64\n",
      " 2   v(g)               498 non-null    float64\n",
      " 3   ev(g)              498 non-null    float64\n",
      " 4   iv(g)              498 non-null    float64\n",
      " 5   n                  498 non-null    float64\n",
      " 6   v                  498 non-null    float64\n",
      " 7   l                  498 non-null    float64\n",
      " 8   d                  498 non-null    float64\n",
      " 9   i                  498 non-null    float64\n",
      " 10  e                  498 non-null    float64\n",
      " 11  b                  498 non-null    float64\n",
      " 12  t                  498 non-null    float64\n",
      " 13  lOCode             498 non-null    int64  \n",
      " 14  lOComment          498 non-null    int64  \n",
      " 15  lOBlank            498 non-null    int64  \n",
      " 16  locCodeAndComment  498 non-null    int64  \n",
      " 17  uniq_Op            498 non-null    float64\n",
      " 18  uniq_Opnd          498 non-null    float64\n",
      " 19  total_Op           498 non-null    float64\n",
      " 20  total_Opnd         498 non-null    float64\n",
      " 21  branchCount        498 non-null    float64\n",
      " 22  defects            498 non-null    bool   \n",
      "dtypes: bool(1), float64(17), int64(5)\n",
      "memory usage: 86.2 KB\n"
     ]
    }
   ],
   "source": [
    "df.info()"
   ]
  },
  {
   "cell_type": "code",
   "execution_count": 7,
   "id": "3638e5e8",
   "metadata": {
    "execution": {
     "iopub.execute_input": "2021-04-04T23:33:44.725094Z",
     "iopub.status.busy": "2021-04-04T23:33:44.723488Z",
     "iopub.status.idle": "2021-04-04T23:33:44.799281Z",
     "shell.execute_reply": "2021-04-04T23:33:44.798044Z"
    },
    "papermill": {
     "duration": 0.115523,
     "end_time": "2021-04-04T23:33:44.799511",
     "exception": false,
     "start_time": "2021-04-04T23:33:44.683988",
     "status": "completed"
    },
    "tags": []
   },
   "outputs": [
    {
     "data": {
      "text/html": [
       "<div>\n",
       "<style scoped>\n",
       "    .dataframe tbody tr th:only-of-type {\n",
       "        vertical-align: middle;\n",
       "    }\n",
       "\n",
       "    .dataframe tbody tr th {\n",
       "        vertical-align: top;\n",
       "    }\n",
       "\n",
       "    .dataframe thead th {\n",
       "        text-align: right;\n",
       "    }\n",
       "</style>\n",
       "<table border=\"1\" class=\"dataframe\">\n",
       "  <thead>\n",
       "    <tr style=\"text-align: right;\">\n",
       "      <th></th>\n",
       "      <th>id</th>\n",
       "      <th>loc</th>\n",
       "      <th>v(g)</th>\n",
       "      <th>ev(g)</th>\n",
       "      <th>iv(g)</th>\n",
       "      <th>n</th>\n",
       "      <th>v</th>\n",
       "      <th>l</th>\n",
       "      <th>d</th>\n",
       "      <th>i</th>\n",
       "      <th>...</th>\n",
       "      <th>lOCode</th>\n",
       "      <th>lOComment</th>\n",
       "      <th>lOBlank</th>\n",
       "      <th>locCodeAndComment</th>\n",
       "      <th>uniq_Op</th>\n",
       "      <th>uniq_Opnd</th>\n",
       "      <th>total_Op</th>\n",
       "      <th>total_Opnd</th>\n",
       "      <th>branchCount</th>\n",
       "      <th>defects</th>\n",
       "    </tr>\n",
       "  </thead>\n",
       "  <tbody>\n",
       "    <tr>\n",
       "      <th>0</th>\n",
       "      <td>1</td>\n",
       "      <td>1.1</td>\n",
       "      <td>1.4</td>\n",
       "      <td>1.4</td>\n",
       "      <td>1.4</td>\n",
       "      <td>1.3</td>\n",
       "      <td>1.30</td>\n",
       "      <td>1.30</td>\n",
       "      <td>1.30</td>\n",
       "      <td>1.30</td>\n",
       "      <td>...</td>\n",
       "      <td>2</td>\n",
       "      <td>2</td>\n",
       "      <td>2</td>\n",
       "      <td>2</td>\n",
       "      <td>1.2</td>\n",
       "      <td>1.2</td>\n",
       "      <td>1.2</td>\n",
       "      <td>1.2</td>\n",
       "      <td>1.4</td>\n",
       "      <td>False</td>\n",
       "    </tr>\n",
       "    <tr>\n",
       "      <th>1</th>\n",
       "      <td>2</td>\n",
       "      <td>1.0</td>\n",
       "      <td>1.0</td>\n",
       "      <td>1.0</td>\n",
       "      <td>1.0</td>\n",
       "      <td>1.0</td>\n",
       "      <td>1.00</td>\n",
       "      <td>1.00</td>\n",
       "      <td>1.00</td>\n",
       "      <td>1.00</td>\n",
       "      <td>...</td>\n",
       "      <td>1</td>\n",
       "      <td>1</td>\n",
       "      <td>1</td>\n",
       "      <td>1</td>\n",
       "      <td>1.0</td>\n",
       "      <td>1.0</td>\n",
       "      <td>1.0</td>\n",
       "      <td>1.0</td>\n",
       "      <td>1.0</td>\n",
       "      <td>True</td>\n",
       "    </tr>\n",
       "    <tr>\n",
       "      <th>2</th>\n",
       "      <td>3</td>\n",
       "      <td>24.0</td>\n",
       "      <td>5.0</td>\n",
       "      <td>1.0</td>\n",
       "      <td>3.0</td>\n",
       "      <td>63.0</td>\n",
       "      <td>309.13</td>\n",
       "      <td>0.11</td>\n",
       "      <td>9.50</td>\n",
       "      <td>32.54</td>\n",
       "      <td>...</td>\n",
       "      <td>1</td>\n",
       "      <td>0</td>\n",
       "      <td>6</td>\n",
       "      <td>0</td>\n",
       "      <td>15.0</td>\n",
       "      <td>15.0</td>\n",
       "      <td>44.0</td>\n",
       "      <td>19.0</td>\n",
       "      <td>9.0</td>\n",
       "      <td>False</td>\n",
       "    </tr>\n",
       "    <tr>\n",
       "      <th>3</th>\n",
       "      <td>4</td>\n",
       "      <td>20.0</td>\n",
       "      <td>4.0</td>\n",
       "      <td>4.0</td>\n",
       "      <td>2.0</td>\n",
       "      <td>47.0</td>\n",
       "      <td>215.49</td>\n",
       "      <td>0.06</td>\n",
       "      <td>16.00</td>\n",
       "      <td>13.47</td>\n",
       "      <td>...</td>\n",
       "      <td>0</td>\n",
       "      <td>0</td>\n",
       "      <td>3</td>\n",
       "      <td>0</td>\n",
       "      <td>16.0</td>\n",
       "      <td>8.0</td>\n",
       "      <td>31.0</td>\n",
       "      <td>16.0</td>\n",
       "      <td>7.0</td>\n",
       "      <td>False</td>\n",
       "    </tr>\n",
       "    <tr>\n",
       "      <th>4</th>\n",
       "      <td>5</td>\n",
       "      <td>24.0</td>\n",
       "      <td>6.0</td>\n",
       "      <td>6.0</td>\n",
       "      <td>2.0</td>\n",
       "      <td>72.0</td>\n",
       "      <td>346.13</td>\n",
       "      <td>0.06</td>\n",
       "      <td>17.33</td>\n",
       "      <td>19.97</td>\n",
       "      <td>...</td>\n",
       "      <td>0</td>\n",
       "      <td>0</td>\n",
       "      <td>3</td>\n",
       "      <td>0</td>\n",
       "      <td>16.0</td>\n",
       "      <td>12.0</td>\n",
       "      <td>46.0</td>\n",
       "      <td>26.0</td>\n",
       "      <td>11.0</td>\n",
       "      <td>False</td>\n",
       "    </tr>\n",
       "  </tbody>\n",
       "</table>\n",
       "<p>5 rows × 23 columns</p>\n",
       "</div>"
      ],
      "text/plain": [
       "   id   loc  v(g)  ev(g)  iv(g)     n       v     l      d      i  ...  \\\n",
       "0   1   1.1   1.4    1.4    1.4   1.3    1.30  1.30   1.30   1.30  ...   \n",
       "1   2   1.0   1.0    1.0    1.0   1.0    1.00  1.00   1.00   1.00  ...   \n",
       "2   3  24.0   5.0    1.0    3.0  63.0  309.13  0.11   9.50  32.54  ...   \n",
       "3   4  20.0   4.0    4.0    2.0  47.0  215.49  0.06  16.00  13.47  ...   \n",
       "4   5  24.0   6.0    6.0    2.0  72.0  346.13  0.06  17.33  19.97  ...   \n",
       "\n",
       "   lOCode  lOComment  lOBlank  locCodeAndComment  uniq_Op  uniq_Opnd  \\\n",
       "0       2          2        2                  2      1.2        1.2   \n",
       "1       1          1        1                  1      1.0        1.0   \n",
       "2       1          0        6                  0     15.0       15.0   \n",
       "3       0          0        3                  0     16.0        8.0   \n",
       "4       0          0        3                  0     16.0       12.0   \n",
       "\n",
       "   total_Op  total_Opnd  branchCount  defects  \n",
       "0       1.2         1.2          1.4    False  \n",
       "1       1.0         1.0          1.0     True  \n",
       "2      44.0        19.0          9.0    False  \n",
       "3      31.0        16.0          7.0    False  \n",
       "4      46.0        26.0         11.0    False  \n",
       "\n",
       "[5 rows x 23 columns]"
      ]
     },
     "execution_count": 7,
     "metadata": {},
     "output_type": "execute_result"
    }
   ],
   "source": [
    "df.head()"
   ]
  },
  {
   "cell_type": "code",
   "execution_count": 8,
   "id": "733e95eb",
   "metadata": {
    "execution": {
     "iopub.execute_input": "2021-04-04T23:33:44.874233Z",
     "iopub.status.busy": "2021-04-04T23:33:44.873325Z",
     "iopub.status.idle": "2021-04-04T23:33:44.875783Z",
     "shell.execute_reply": "2021-04-04T23:33:44.876534Z"
    },
    "papermill": {
     "duration": 0.036532,
     "end_time": "2021-04-04T23:33:44.876748",
     "exception": false,
     "start_time": "2021-04-04T23:33:44.840216",
     "status": "completed"
    },
    "tags": []
   },
   "outputs": [],
   "source": [
    "del df['id']"
   ]
  },
  {
   "cell_type": "code",
   "execution_count": 9,
   "id": "6ff6f5b0",
   "metadata": {
    "execution": {
     "iopub.execute_input": "2021-04-04T23:33:44.931760Z",
     "iopub.status.busy": "2021-04-04T23:33:44.929530Z",
     "iopub.status.idle": "2021-04-04T23:33:44.934027Z",
     "shell.execute_reply": "2021-04-04T23:33:44.933394Z"
    },
    "papermill": {
     "duration": 0.032707,
     "end_time": "2021-04-04T23:33:44.934264",
     "exception": false,
     "start_time": "2021-04-04T23:33:44.901557",
     "status": "completed"
    },
    "tags": []
   },
   "outputs": [],
   "source": [
    "if PROFILE_REPORTING:\n",
    "    ProfileReport(df).to_widgets()"
   ]
  },
  {
   "cell_type": "markdown",
   "id": "1deaf3f0",
   "metadata": {
    "papermill": {
     "duration": 0.035481,
     "end_time": "2021-04-04T23:33:44.992938",
     "exception": false,
     "start_time": "2021-04-04T23:33:44.957457",
     "status": "completed"
    },
    "tags": []
   },
   "source": [
    "# Preprocess"
   ]
  },
  {
   "cell_type": "code",
   "execution_count": 10,
   "id": "1513e563",
   "metadata": {
    "execution": {
     "iopub.execute_input": "2021-04-04T23:33:45.085587Z",
     "iopub.status.busy": "2021-04-04T23:33:45.083345Z",
     "iopub.status.idle": "2021-04-04T23:33:45.087576Z",
     "shell.execute_reply": "2021-04-04T23:33:45.088440Z"
    },
    "papermill": {
     "duration": 0.053056,
     "end_time": "2021-04-04T23:33:45.088817",
     "exception": false,
     "start_time": "2021-04-04T23:33:45.035761",
     "status": "completed"
    },
    "tags": []
   },
   "outputs": [],
   "source": [
    "working_df = df.copy()"
   ]
  },
  {
   "cell_type": "code",
   "execution_count": 11,
   "id": "3b26d675",
   "metadata": {
    "execution": {
     "iopub.execute_input": "2021-04-04T23:33:45.150320Z",
     "iopub.status.busy": "2021-04-04T23:33:45.149173Z",
     "iopub.status.idle": "2021-04-04T23:33:45.152884Z",
     "shell.execute_reply": "2021-04-04T23:33:45.151833Z"
    },
    "papermill": {
     "duration": 0.04085,
     "end_time": "2021-04-04T23:33:45.153187",
     "exception": false,
     "start_time": "2021-04-04T23:33:45.112337",
     "status": "completed"
    },
    "tags": []
   },
   "outputs": [],
   "source": [
    "working_df['defects'] = working_df['defects'].replace([False, True], [0, 1])"
   ]
  },
  {
   "cell_type": "code",
   "execution_count": 12,
   "id": "eb48604f",
   "metadata": {
    "execution": {
     "iopub.execute_input": "2021-04-04T23:33:45.233590Z",
     "iopub.status.busy": "2021-04-04T23:33:45.231896Z",
     "iopub.status.idle": "2021-04-04T23:33:45.238332Z",
     "shell.execute_reply": "2021-04-04T23:33:45.236239Z"
    },
    "papermill": {
     "duration": 0.058165,
     "end_time": "2021-04-04T23:33:45.238904",
     "exception": false,
     "start_time": "2021-04-04T23:33:45.180739",
     "status": "completed"
    },
    "tags": []
   },
   "outputs": [],
   "source": [
    "for col in dataset_config['delete_columns']:\n",
    "    del working_df[col]"
   ]
  },
  {
   "cell_type": "code",
   "execution_count": 13,
   "id": "9a17bc29",
   "metadata": {
    "execution": {
     "iopub.execute_input": "2021-04-04T23:33:45.325313Z",
     "iopub.status.busy": "2021-04-04T23:33:45.324115Z",
     "iopub.status.idle": "2021-04-04T23:33:45.335763Z",
     "shell.execute_reply": "2021-04-04T23:33:45.335083Z"
    },
    "papermill": {
     "duration": 0.058132,
     "end_time": "2021-04-04T23:33:45.335911",
     "exception": false,
     "start_time": "2021-04-04T23:33:45.277779",
     "status": "completed"
    },
    "tags": []
   },
   "outputs": [],
   "source": [
    "working_df = working_df.drop_duplicates()"
   ]
  },
  {
   "cell_type": "markdown",
   "id": "a4d52ca6",
   "metadata": {
    "papermill": {
     "duration": 0.026688,
     "end_time": "2021-04-04T23:33:45.398387",
     "exception": false,
     "start_time": "2021-04-04T23:33:45.371699",
     "status": "completed"
    },
    "tags": []
   },
   "source": [
    "# Split"
   ]
  },
  {
   "cell_type": "code",
   "execution_count": 14,
   "id": "3e9ee4b5",
   "metadata": {
    "execution": {
     "iopub.execute_input": "2021-04-04T23:33:45.455833Z",
     "iopub.status.busy": "2021-04-04T23:33:45.455206Z",
     "iopub.status.idle": "2021-04-04T23:33:45.484496Z",
     "shell.execute_reply": "2021-04-04T23:33:45.486478Z"
    },
    "papermill": {
     "duration": 0.06545,
     "end_time": "2021-04-04T23:33:45.486746",
     "exception": false,
     "start_time": "2021-04-04T23:33:45.421296",
     "status": "completed"
    },
    "tags": []
   },
   "outputs": [],
   "source": [
    "from sklearn.model_selection import train_test_split"
   ]
  },
  {
   "cell_type": "code",
   "execution_count": 15,
   "id": "274004ce",
   "metadata": {
    "execution": {
     "iopub.execute_input": "2021-04-04T23:33:45.541185Z",
     "iopub.status.busy": "2021-04-04T23:33:45.540385Z",
     "iopub.status.idle": "2021-04-04T23:33:45.546611Z",
     "shell.execute_reply": "2021-04-04T23:33:45.547293Z"
    },
    "papermill": {
     "duration": 0.037636,
     "end_time": "2021-04-04T23:33:45.547537",
     "exception": false,
     "start_time": "2021-04-04T23:33:45.509901",
     "status": "completed"
    },
    "scrolled": true,
    "tags": []
   },
   "outputs": [],
   "source": [
    "inlier, outlier = working_df[working_df['defects'] == 0], working_df[working_df['defects'] == 1]"
   ]
  },
  {
   "cell_type": "code",
   "execution_count": 16,
   "id": "753c7b03",
   "metadata": {
    "execution": {
     "iopub.execute_input": "2021-04-04T23:33:45.603593Z",
     "iopub.status.busy": "2021-04-04T23:33:45.602946Z",
     "iopub.status.idle": "2021-04-04T23:33:45.606588Z",
     "shell.execute_reply": "2021-04-04T23:33:45.607070Z"
    },
    "papermill": {
     "duration": 0.035111,
     "end_time": "2021-04-04T23:33:45.607223",
     "exception": false,
     "start_time": "2021-04-04T23:33:45.572112",
     "status": "completed"
    },
    "tags": []
   },
   "outputs": [],
   "source": [
    "X_inlier = inlier.copy()\n",
    "y_inlier = X_inlier.pop('defects')\n",
    "X_outlier = outlier.copy()\n",
    "y_outlier = X_outlier.pop('defects')"
   ]
  },
  {
   "cell_type": "code",
   "execution_count": 17,
   "id": "2ba43193",
   "metadata": {
    "execution": {
     "iopub.execute_input": "2021-04-04T23:33:45.662701Z",
     "iopub.status.busy": "2021-04-04T23:33:45.661612Z",
     "iopub.status.idle": "2021-04-04T23:33:45.664709Z",
     "shell.execute_reply": "2021-04-04T23:33:45.665182Z"
    },
    "papermill": {
     "duration": 0.032816,
     "end_time": "2021-04-04T23:33:45.665327",
     "exception": false,
     "start_time": "2021-04-04T23:33:45.632511",
     "status": "completed"
    },
    "tags": []
   },
   "outputs": [],
   "source": [
    "test_size = dataset_config['test_size']\n",
    "random_state = dataset_config['random_state']\n",
    "\n",
    "X_inlier_train, X_inlier_test, y_inlier_train, y_inlier_test = train_test_split(\n",
    "    X_inlier,\n",
    "    y_inlier,\n",
    "    test_size=test_size,\n",
    "    random_state=random_state\n",
    ")"
   ]
  },
  {
   "cell_type": "code",
   "execution_count": 18,
   "id": "0b7582ca",
   "metadata": {
    "execution": {
     "iopub.execute_input": "2021-04-04T23:33:45.730816Z",
     "iopub.status.busy": "2021-04-04T23:33:45.728630Z",
     "iopub.status.idle": "2021-04-04T23:33:45.733765Z",
     "shell.execute_reply": "2021-04-04T23:33:45.734402Z"
    },
    "papermill": {
     "duration": 0.043509,
     "end_time": "2021-04-04T23:33:45.734599",
     "exception": false,
     "start_time": "2021-04-04T23:33:45.691090",
     "status": "completed"
    },
    "tags": []
   },
   "outputs": [],
   "source": [
    "test_outlier_size = dataset_config['test_outlier_size']\n",
    "if test_outlier_size > 0.0:\n",
    "    X_outlier_train, X_outlier_test, y_outlier_train, y_outlier_test = train_test_split(\n",
    "        X_outlier,\n",
    "        y_outlier,\n",
    "        test_size=test_outlier_size,\n",
    "        random_state=random_state\n",
    "    )\n",
    "else:\n",
    "    X_outlier_train, y_outlier_train = pd.DataFrame(columns=X_outlier.columns), pd.Series(dtype='int64')\n",
    "    X_outlier_test, y_outlier_test = X_outlier.copy(), y_outlier.copy()"
   ]
  },
  {
   "cell_type": "code",
   "execution_count": 19,
   "id": "c34363db",
   "metadata": {
    "execution": {
     "iopub.execute_input": "2021-04-04T23:33:45.804308Z",
     "iopub.status.busy": "2021-04-04T23:33:45.801896Z",
     "iopub.status.idle": "2021-04-04T23:33:45.806627Z",
     "shell.execute_reply": "2021-04-04T23:33:45.806111Z"
    },
    "papermill": {
     "duration": 0.039248,
     "end_time": "2021-04-04T23:33:45.806766",
     "exception": false,
     "start_time": "2021-04-04T23:33:45.767518",
     "status": "completed"
    },
    "tags": []
   },
   "outputs": [],
   "source": [
    "X_train, y_train = pd.concat([X_inlier_train, X_outlier_train], ignore_index=True), pd.concat([y_inlier_train, y_outlier_train], ignore_index=True)\n",
    "X_test, y_test = pd.concat([X_inlier_test, X_outlier_test], ignore_index=True), pd.concat([y_inlier_test, y_outlier_test], ignore_index=True)"
   ]
  },
  {
   "cell_type": "markdown",
   "id": "7cde7309",
   "metadata": {
    "papermill": {
     "duration": 0.026077,
     "end_time": "2021-04-04T23:33:45.856329",
     "exception": false,
     "start_time": "2021-04-04T23:33:45.830252",
     "status": "completed"
    },
    "tags": []
   },
   "source": [
    "# Model"
   ]
  },
  {
   "cell_type": "code",
   "execution_count": 20,
   "id": "2b12a415",
   "metadata": {
    "execution": {
     "iopub.execute_input": "2021-04-04T23:33:45.919813Z",
     "iopub.status.busy": "2021-04-04T23:33:45.917151Z",
     "iopub.status.idle": "2021-04-04T23:33:45.922289Z",
     "shell.execute_reply": "2021-04-04T23:33:45.922831Z"
    },
    "papermill": {
     "duration": 0.043137,
     "end_time": "2021-04-04T23:33:45.923001",
     "exception": false,
     "start_time": "2021-04-04T23:33:45.879864",
     "status": "completed"
    },
    "tags": []
   },
   "outputs": [],
   "source": [
    "from math import sqrt\n",
    "\n",
    "\n",
    "class KNNDataDescription:\n",
    "    def __init__(self, k=5, outlier_threshold=1.0):\n",
    "        self.k = k\n",
    "        self.outlier_threshold = outlier_threshold\n",
    "        self.X = []\n",
    "    \n",
    "    def fit(self, X):\n",
    "        self.X = [features.to_list() for index, features in X.iterrows()]\n",
    "\n",
    "    def predict(self, entries):\n",
    "        return [self.predict_entry(features.to_list()) for index, features in entries.iterrows()]\n",
    "    \n",
    "    def predict_entry(self, entry):\n",
    "        kth_neighbor, kth_distance = self.get_kth_neighbor(entry, self.k)\n",
    "        kth_kth_neighbor, kth_kth_distance = self.get_kth_neighbor(kth_neighbor, self.k + 1)\n",
    "\n",
    "        outlier_score = kth_distance / (kth_kth_distance + 0.000001)\n",
    "\n",
    "        return 1 if outlier_score < self.outlier_threshold else -1\n",
    "        \n",
    "    def euclidean_distance(self, features1, features2):\n",
    "        distance = 0.0\n",
    "        for feat1, feat2 in zip(features1, features2):\n",
    "            distance += (feat1 - feat2)**2\n",
    "                \n",
    "        return sqrt(distance)\n",
    "\n",
    "    def get_neighbors(self, entry, k):\n",
    "        distance_to_data_points = [\n",
    "            (data_point, self.euclidean_distance(entry, data_point))\n",
    "            for data_point in self.X\n",
    "        ]\n",
    "        sorted_by_distance = sorted(distance_to_data_points, key=lambda tup: tup[1])\n",
    "        neighbors = sorted_by_distance[:k]\n",
    "        return neighbors\n",
    "\n",
    "    def get_kth_neighbor(self, entry, k):\n",
    "        neighbors = self.get_neighbors(entry, k)\n",
    "        return neighbors[-1]\n"
   ]
  },
  {
   "cell_type": "code",
   "execution_count": 21,
   "id": "1fa9ec1c",
   "metadata": {
    "execution": {
     "iopub.execute_input": "2021-04-04T23:33:45.982492Z",
     "iopub.status.busy": "2021-04-04T23:33:45.980965Z",
     "iopub.status.idle": "2021-04-04T23:33:46.015546Z",
     "shell.execute_reply": "2021-04-04T23:33:46.014357Z"
    },
    "papermill": {
     "duration": 0.067686,
     "end_time": "2021-04-04T23:33:46.015869",
     "exception": false,
     "start_time": "2021-04-04T23:33:45.948183",
     "status": "completed"
    },
    "tags": []
   },
   "outputs": [],
   "source": [
    "from sklearn.svm import OneClassSVM\n",
    "\n",
    "\n",
    "models = {\n",
    "    'oneclasssvm': OneClassSVM,\n",
    "    'knndatadescription': KNNDataDescription,\n",
    "}"
   ]
  },
  {
   "cell_type": "code",
   "execution_count": 22,
   "id": "4d72a0b1",
   "metadata": {
    "execution": {
     "iopub.execute_input": "2021-04-04T23:33:46.072561Z",
     "iopub.status.busy": "2021-04-04T23:33:46.071978Z",
     "iopub.status.idle": "2021-04-04T23:33:46.073906Z",
     "shell.execute_reply": "2021-04-04T23:33:46.074384Z"
    },
    "papermill": {
     "duration": 0.031942,
     "end_time": "2021-04-04T23:33:46.074520",
     "exception": false,
     "start_time": "2021-04-04T23:33:46.042578",
     "status": "completed"
    },
    "scrolled": true,
    "tags": []
   },
   "outputs": [],
   "source": [
    "model_cls = models[model_config['model_type']]\n",
    "model = model_cls(**model_config['hyperparameters'])"
   ]
  },
  {
   "cell_type": "markdown",
   "id": "e00cff3b",
   "metadata": {
    "papermill": {
     "duration": 0.033267,
     "end_time": "2021-04-04T23:33:46.139775",
     "exception": false,
     "start_time": "2021-04-04T23:33:46.106508",
     "status": "completed"
    },
    "tags": []
   },
   "source": [
    "# Fit"
   ]
  },
  {
   "cell_type": "code",
   "execution_count": 23,
   "id": "8b2ded89",
   "metadata": {
    "execution": {
     "iopub.execute_input": "2021-04-04T23:33:46.200411Z",
     "iopub.status.busy": "2021-04-04T23:33:46.199472Z",
     "iopub.status.idle": "2021-04-04T23:33:46.224112Z",
     "shell.execute_reply": "2021-04-04T23:33:46.224571Z"
    },
    "papermill": {
     "duration": 0.053148,
     "end_time": "2021-04-04T23:33:46.224724",
     "exception": false,
     "start_time": "2021-04-04T23:33:46.171576",
     "status": "completed"
    },
    "tags": []
   },
   "outputs": [],
   "source": [
    "model.fit(X_train)"
   ]
  },
  {
   "cell_type": "markdown",
   "id": "f99999f7",
   "metadata": {
    "papermill": {
     "duration": 0.02602,
     "end_time": "2021-04-04T23:33:46.276652",
     "exception": false,
     "start_time": "2021-04-04T23:33:46.250632",
     "status": "completed"
    },
    "tags": []
   },
   "source": [
    "# Predict"
   ]
  },
  {
   "cell_type": "code",
   "execution_count": 24,
   "id": "6536fbf7",
   "metadata": {
    "execution": {
     "iopub.execute_input": "2021-04-04T23:33:46.354386Z",
     "iopub.status.busy": "2021-04-04T23:33:46.335860Z",
     "iopub.status.idle": "2021-04-04T23:33:46.647407Z",
     "shell.execute_reply": "2021-04-04T23:33:46.646681Z"
    },
    "papermill": {
     "duration": 0.346109,
     "end_time": "2021-04-04T23:33:46.647548",
     "exception": false,
     "start_time": "2021-04-04T23:33:46.301439",
     "status": "completed"
    },
    "tags": []
   },
   "outputs": [],
   "source": [
    "predictions = model.predict(X_test)"
   ]
  },
  {
   "cell_type": "markdown",
   "id": "aa1c9881",
   "metadata": {
    "papermill": {
     "duration": 0.029941,
     "end_time": "2021-04-04T23:33:46.705544",
     "exception": false,
     "start_time": "2021-04-04T23:33:46.675603",
     "status": "completed"
    },
    "tags": []
   },
   "source": [
    "# Evaluate"
   ]
  },
  {
   "cell_type": "code",
   "execution_count": 25,
   "id": "894f0f04",
   "metadata": {
    "execution": {
     "iopub.execute_input": "2021-04-04T23:33:46.765593Z",
     "iopub.status.busy": "2021-04-04T23:33:46.764970Z",
     "iopub.status.idle": "2021-04-04T23:33:46.768300Z",
     "shell.execute_reply": "2021-04-04T23:33:46.769729Z"
    },
    "papermill": {
     "duration": 0.03527,
     "end_time": "2021-04-04T23:33:46.769952",
     "exception": false,
     "start_time": "2021-04-04T23:33:46.734682",
     "status": "completed"
    },
    "tags": []
   },
   "outputs": [],
   "source": [
    "from sklearn.metrics import f1_score"
   ]
  },
  {
   "cell_type": "code",
   "execution_count": 26,
   "id": "211744d3",
   "metadata": {
    "execution": {
     "iopub.execute_input": "2021-04-04T23:33:46.860644Z",
     "iopub.status.busy": "2021-04-04T23:33:46.859642Z",
     "iopub.status.idle": "2021-04-04T23:33:46.864234Z",
     "shell.execute_reply": "2021-04-04T23:33:46.864877Z"
    },
    "papermill": {
     "duration": 0.07114,
     "end_time": "2021-04-04T23:33:46.865127",
     "exception": false,
     "start_time": "2021-04-04T23:33:46.793987",
     "status": "completed"
    },
    "tags": []
   },
   "outputs": [],
   "source": [
    "y_test = y_test.replace([0, 1], [1, -1])"
   ]
  },
  {
   "cell_type": "code",
   "execution_count": 27,
   "id": "d68a9204",
   "metadata": {
    "execution": {
     "iopub.execute_input": "2021-04-04T23:33:46.951395Z",
     "iopub.status.busy": "2021-04-04T23:33:46.948179Z",
     "iopub.status.idle": "2021-04-04T23:33:46.953500Z",
     "shell.execute_reply": "2021-04-04T23:33:46.955076Z"
    },
    "papermill": {
     "duration": 0.056114,
     "end_time": "2021-04-04T23:33:46.955431",
     "exception": false,
     "start_time": "2021-04-04T23:33:46.899317",
     "status": "completed"
    },
    "tags": []
   },
   "outputs": [],
   "source": [
    "def evaluate(truths, predictions, pos_label, neg_label):\n",
    "    TP = 0\n",
    "    FP = 0\n",
    "    TN = 0\n",
    "    FN = 0\n",
    "\n",
    "    for truth, pred in zip(truths, predictions): \n",
    "        if truth == pred == pos_label:\n",
    "           TP += 1\n",
    "        elif pred == pos_label and truth == neg_label:\n",
    "           FP += 1\n",
    "        elif truth == pred == neg_label:\n",
    "           TN += 1\n",
    "        elif pred == neg_label and truth == pos_label:\n",
    "           FN += 1\n",
    "\n",
    "    precision = TP / (TP + FP)\n",
    "    sensitivity = TP / (TP + FN)\n",
    "    \n",
    "    return {\n",
    "        'true_pos': TP,\n",
    "        'false_pos': FP,\n",
    "        'false_neg': FN,\n",
    "        'true_neg': TN,\n",
    "        'precision': precision,\n",
    "        'sensitivity': sensitivity,\n",
    "        'f1': (2 * (precision * sensitivity)) / (precision + sensitivity)\n",
    "    }\n",
    "\n",
    "score = evaluate(y_test, predictions, pos_label=-1, neg_label=1)"
   ]
  },
  {
   "cell_type": "markdown",
   "id": "93596516",
   "metadata": {
    "papermill": {
     "duration": 0.031495,
     "end_time": "2021-04-04T23:33:47.017134",
     "exception": false,
     "start_time": "2021-04-04T23:33:46.985639",
     "status": "completed"
    },
    "tags": []
   },
   "source": [
    "# Report"
   ]
  },
  {
   "cell_type": "code",
   "execution_count": 28,
   "id": "bea5fba1",
   "metadata": {
    "execution": {
     "iopub.execute_input": "2021-04-04T23:33:47.097556Z",
     "iopub.status.busy": "2021-04-04T23:33:47.096667Z",
     "iopub.status.idle": "2021-04-04T23:33:47.099255Z",
     "shell.execute_reply": "2021-04-04T23:33:47.098676Z"
    },
    "papermill": {
     "duration": 0.044946,
     "end_time": "2021-04-04T23:33:47.099372",
     "exception": false,
     "start_time": "2021-04-04T23:33:47.054426",
     "status": "completed"
    },
    "tags": []
   },
   "outputs": [],
   "source": [
    "import csv\n",
    "\n",
    "\n",
    "dataset_config_name = DATASET_CONFIG_PATH.split('/')[-1].split('.')[0]\n",
    "model_config_name = MODEL_CONFIG_PATH.split('/')[-1].split('.')[0]\n",
    "configuration = f\"dataset_{dataset_config_name}-model_{model_config_name}\"\n",
    "\n",
    "with open('results.csv', 'a') as f:\n",
    "    report = dict({'configuration': configuration}, **score)\n",
    "    writer = csv.DictWriter(f, report.keys())\n",
    "    writer.writerow(report)"
   ]
  }
 ],
 "metadata": {
  "celltoolbar": "Tags",
  "kernelspec": {
   "display_name": "Python 3",
   "language": "python",
   "name": "python3"
  },
  "language_info": {
   "codemirror_mode": {
    "name": "ipython",
    "version": 3
   },
   "file_extension": ".py",
   "mimetype": "text/x-python",
   "name": "python",
   "nbconvert_exporter": "python",
   "pygments_lexer": "ipython3",
   "version": "3.9.1"
  },
  "papermill": {
   "default_parameters": {},
   "duration": 7.074245,
   "end_time": "2021-04-04T23:33:48.493420",
   "environment_variables": {},
   "exception": null,
   "input_path": "main.ipynb",
   "output_path": "runs/dataset_000150-model_000002.ipynb",
   "parameters": {
    "DATASET_CONFIG_PATH": "config/dataset/000150.json",
    "MODEL_CONFIG_PATH": "config/model/000002.json",
    "PROFILE_REPORTING": false
   },
   "start_time": "2021-04-04T23:33:41.419175",
   "version": "2.3.3"
  }
 },
 "nbformat": 4,
 "nbformat_minor": 5
}