{
 "cells": [
  {
   "cell_type": "markdown",
   "id": "51c71c25",
   "metadata": {
    "papermill": {
     "duration": 0.024581,
     "end_time": "2021-04-04T23:21:49.507761",
     "exception": false,
     "start_time": "2021-04-04T23:21:49.483180",
     "status": "completed"
    },
    "tags": []
   },
   "source": [
    "# Parametrizing"
   ]
  },
  {
   "cell_type": "code",
   "execution_count": 1,
   "id": "3b136394",
   "metadata": {
    "execution": {
     "iopub.execute_input": "2021-04-04T23:21:49.570406Z",
     "iopub.status.busy": "2021-04-04T23:21:49.569575Z",
     "iopub.status.idle": "2021-04-04T23:21:49.573899Z",
     "shell.execute_reply": "2021-04-04T23:21:49.572320Z"
    },
    "papermill": {
     "duration": 0.042947,
     "end_time": "2021-04-04T23:21:49.574278",
     "exception": false,
     "start_time": "2021-04-04T23:21:49.531331",
     "status": "completed"
    },
    "tags": [
     "parameters"
    ]
   },
   "outputs": [],
   "source": [
    "DATASET_CONFIG_PATH = 'config/dataset/kc1_001.json'\n",
    "MODEL_CONFIG_PATH = 'config/model/knndd_001.json'\n",
    "PROFILE_REPORTING = False"
   ]
  },
  {
   "cell_type": "code",
   "execution_count": 2,
   "id": "695a56da",
   "metadata": {
    "execution": {
     "iopub.execute_input": "2021-04-04T23:21:49.625516Z",
     "iopub.status.busy": "2021-04-04T23:21:49.624702Z",
     "iopub.status.idle": "2021-04-04T23:21:49.627254Z",
     "shell.execute_reply": "2021-04-04T23:21:49.626652Z"
    },
    "papermill": {
     "duration": 0.028485,
     "end_time": "2021-04-04T23:21:49.627393",
     "exception": false,
     "start_time": "2021-04-04T23:21:49.598908",
     "status": "completed"
    },
    "tags": [
     "injected-parameters"
    ]
   },
   "outputs": [],
   "source": [
    "# Parameters\n",
    "DATASET_CONFIG_PATH = \"config/dataset/000123.json\"\n",
    "MODEL_CONFIG_PATH = \"config/model/000002.json\"\n",
    "PROFILE_REPORTING = False\n"
   ]
  },
  {
   "cell_type": "code",
   "execution_count": 3,
   "id": "b80f2a10",
   "metadata": {
    "execution": {
     "iopub.execute_input": "2021-04-04T23:21:49.680422Z",
     "iopub.status.busy": "2021-04-04T23:21:49.678973Z",
     "iopub.status.idle": "2021-04-04T23:21:49.682520Z",
     "shell.execute_reply": "2021-04-04T23:21:49.683026Z"
    },
    "papermill": {
     "duration": 0.03437,
     "end_time": "2021-04-04T23:21:49.683182",
     "exception": false,
     "start_time": "2021-04-04T23:21:49.648812",
     "status": "completed"
    },
    "tags": []
   },
   "outputs": [],
   "source": [
    "import json\n",
    "\n",
    "\n",
    "with open(DATASET_CONFIG_PATH) as f:\n",
    "    dataset_config = json.load(f)\n",
    "\n",
    "with open(MODEL_CONFIG_PATH) as f:\n",
    "    model_config = json.load(f)"
   ]
  },
  {
   "cell_type": "markdown",
   "id": "9a4b0e2d",
   "metadata": {
    "papermill": {
     "duration": 0.021244,
     "end_time": "2021-04-04T23:21:49.726793",
     "exception": false,
     "start_time": "2021-04-04T23:21:49.705549",
     "status": "completed"
    },
    "tags": []
   },
   "source": [
    "# Profiling"
   ]
  },
  {
   "cell_type": "code",
   "execution_count": 4,
   "id": "a3e0289b",
   "metadata": {
    "execution": {
     "iopub.execute_input": "2021-04-04T23:21:49.774096Z",
     "iopub.status.busy": "2021-04-04T23:21:49.773495Z",
     "iopub.status.idle": "2021-04-04T23:21:51.300367Z",
     "shell.execute_reply": "2021-04-04T23:21:51.301351Z"
    },
    "papermill": {
     "duration": 1.553452,
     "end_time": "2021-04-04T23:21:51.301732",
     "exception": false,
     "start_time": "2021-04-04T23:21:49.748280",
     "status": "completed"
    },
    "tags": []
   },
   "outputs": [],
   "source": [
    "import pandas as pd\n",
    "from pandas_profiling import ProfileReport"
   ]
  },
  {
   "cell_type": "code",
   "execution_count": 5,
   "id": "ee6c0666",
   "metadata": {
    "execution": {
     "iopub.execute_input": "2021-04-04T23:21:51.355205Z",
     "iopub.status.busy": "2021-04-04T23:21:51.353564Z",
     "iopub.status.idle": "2021-04-04T23:21:51.369882Z",
     "shell.execute_reply": "2021-04-04T23:21:51.369281Z"
    },
    "papermill": {
     "duration": 0.047299,
     "end_time": "2021-04-04T23:21:51.370022",
     "exception": false,
     "start_time": "2021-04-04T23:21:51.322723",
     "status": "completed"
    },
    "tags": []
   },
   "outputs": [],
   "source": [
    "df = pd.read_csv(dataset_config['dataset_path'])"
   ]
  },
  {
   "cell_type": "code",
   "execution_count": 6,
   "id": "7eca6c4a",
   "metadata": {
    "execution": {
     "iopub.execute_input": "2021-04-04T23:21:51.437229Z",
     "iopub.status.busy": "2021-04-04T23:21:51.436452Z",
     "iopub.status.idle": "2021-04-04T23:21:51.439815Z",
     "shell.execute_reply": "2021-04-04T23:21:51.440332Z"
    },
    "papermill": {
     "duration": 0.044562,
     "end_time": "2021-04-04T23:21:51.440502",
     "exception": false,
     "start_time": "2021-04-04T23:21:51.395940",
     "status": "completed"
    },
    "tags": []
   },
   "outputs": [
    {
     "name": "stdout",
     "output_type": "stream",
     "text": [
      "<class 'pandas.core.frame.DataFrame'>\n",
      "RangeIndex: 498 entries, 0 to 497\n",
      "Data columns (total 23 columns):\n",
      " #   Column             Non-Null Count  Dtype  \n",
      "---  ------             --------------  -----  \n",
      " 0   id                 498 non-null    int64  \n",
      " 1   loc                498 non-null    float64\n",
      " 2   v(g)               498 non-null    float64\n",
      " 3   ev(g)              498 non-null    float64\n",
      " 4   iv(g)              498 non-null    float64\n",
      " 5   n                  498 non-null    float64\n",
      " 6   v                  498 non-null    float64\n",
      " 7   l                  498 non-null    float64\n",
      " 8   d                  498 non-null    float64\n",
      " 9   i                  498 non-null    float64\n",
      " 10  e                  498 non-null    float64\n",
      " 11  b                  498 non-null    float64\n",
      " 12  t                  498 non-null    float64\n",
      " 13  lOCode             498 non-null    int64  \n",
      " 14  lOComment          498 non-null    int64  \n",
      " 15  lOBlank            498 non-null    int64  \n",
      " 16  locCodeAndComment  498 non-null    int64  \n",
      " 17  uniq_Op            498 non-null    float64\n",
      " 18  uniq_Opnd          498 non-null    float64\n",
      " 19  total_Op           498 non-null    float64\n",
      " 20  total_Opnd         498 non-null    float64\n",
      " 21  branchCount        498 non-null    float64\n",
      " 22  defects            498 non-null    bool   \n",
      "dtypes: bool(1), float64(17), int64(5)\n",
      "memory usage: 86.2 KB\n"
     ]
    }
   ],
   "source": [
    "df.info()"
   ]
  },
  {
   "cell_type": "code",
   "execution_count": 7,
   "id": "3638e5e8",
   "metadata": {
    "execution": {
     "iopub.execute_input": "2021-04-04T23:21:51.502536Z",
     "iopub.status.busy": "2021-04-04T23:21:51.501275Z",
     "iopub.status.idle": "2021-04-04T23:21:51.537833Z",
     "shell.execute_reply": "2021-04-04T23:21:51.537300Z"
    },
    "papermill": {
     "duration": 0.074269,
     "end_time": "2021-04-04T23:21:51.537951",
     "exception": false,
     "start_time": "2021-04-04T23:21:51.463682",
     "status": "completed"
    },
    "tags": []
   },
   "outputs": [
    {
     "data": {
      "text/html": [
       "<div>\n",
       "<style scoped>\n",
       "    .dataframe tbody tr th:only-of-type {\n",
       "        vertical-align: middle;\n",
       "    }\n",
       "\n",
       "    .dataframe tbody tr th {\n",
       "        vertical-align: top;\n",
       "    }\n",
       "\n",
       "    .dataframe thead th {\n",
       "        text-align: right;\n",
       "    }\n",
       "</style>\n",
       "<table border=\"1\" class=\"dataframe\">\n",
       "  <thead>\n",
       "    <tr style=\"text-align: right;\">\n",
       "      <th></th>\n",
       "      <th>id</th>\n",
       "      <th>loc</th>\n",
       "      <th>v(g)</th>\n",
       "      <th>ev(g)</th>\n",
       "      <th>iv(g)</th>\n",
       "      <th>n</th>\n",
       "      <th>v</th>\n",
       "      <th>l</th>\n",
       "      <th>d</th>\n",
       "      <th>i</th>\n",
       "      <th>...</th>\n",
       "      <th>lOCode</th>\n",
       "      <th>lOComment</th>\n",
       "      <th>lOBlank</th>\n",
       "      <th>locCodeAndComment</th>\n",
       "      <th>uniq_Op</th>\n",
       "      <th>uniq_Opnd</th>\n",
       "      <th>total_Op</th>\n",
       "      <th>total_Opnd</th>\n",
       "      <th>branchCount</th>\n",
       "      <th>defects</th>\n",
       "    </tr>\n",
       "  </thead>\n",
       "  <tbody>\n",
       "    <tr>\n",
       "      <th>0</th>\n",
       "      <td>1</td>\n",
       "      <td>1.1</td>\n",
       "      <td>1.4</td>\n",
       "      <td>1.4</td>\n",
       "      <td>1.4</td>\n",
       "      <td>1.3</td>\n",
       "      <td>1.30</td>\n",
       "      <td>1.30</td>\n",
       "      <td>1.30</td>\n",
       "      <td>1.30</td>\n",
       "      <td>...</td>\n",
       "      <td>2</td>\n",
       "      <td>2</td>\n",
       "      <td>2</td>\n",
       "      <td>2</td>\n",
       "      <td>1.2</td>\n",
       "      <td>1.2</td>\n",
       "      <td>1.2</td>\n",
       "      <td>1.2</td>\n",
       "      <td>1.4</td>\n",
       "      <td>False</td>\n",
       "    </tr>\n",
       "    <tr>\n",
       "      <th>1</th>\n",
       "      <td>2</td>\n",
       "      <td>1.0</td>\n",
       "      <td>1.0</td>\n",
       "      <td>1.0</td>\n",
       "      <td>1.0</td>\n",
       "      <td>1.0</td>\n",
       "      <td>1.00</td>\n",
       "      <td>1.00</td>\n",
       "      <td>1.00</td>\n",
       "      <td>1.00</td>\n",
       "      <td>...</td>\n",
       "      <td>1</td>\n",
       "      <td>1</td>\n",
       "      <td>1</td>\n",
       "      <td>1</td>\n",
       "      <td>1.0</td>\n",
       "      <td>1.0</td>\n",
       "      <td>1.0</td>\n",
       "      <td>1.0</td>\n",
       "      <td>1.0</td>\n",
       "      <td>True</td>\n",
       "    </tr>\n",
       "    <tr>\n",
       "      <th>2</th>\n",
       "      <td>3</td>\n",
       "      <td>24.0</td>\n",
       "      <td>5.0</td>\n",
       "      <td>1.0</td>\n",
       "      <td>3.0</td>\n",
       "      <td>63.0</td>\n",
       "      <td>309.13</td>\n",
       "      <td>0.11</td>\n",
       "      <td>9.50</td>\n",
       "      <td>32.54</td>\n",
       "      <td>...</td>\n",
       "      <td>1</td>\n",
       "      <td>0</td>\n",
       "      <td>6</td>\n",
       "      <td>0</td>\n",
       "      <td>15.0</td>\n",
       "      <td>15.0</td>\n",
       "      <td>44.0</td>\n",
       "      <td>19.0</td>\n",
       "      <td>9.0</td>\n",
       "      <td>False</td>\n",
       "    </tr>\n",
       "    <tr>\n",
       "      <th>3</th>\n",
       "      <td>4</td>\n",
       "      <td>20.0</td>\n",
       "      <td>4.0</td>\n",
       "      <td>4.0</td>\n",
       "      <td>2.0</td>\n",
       "      <td>47.0</td>\n",
       "      <td>215.49</td>\n",
       "      <td>0.06</td>\n",
       "      <td>16.00</td>\n",
       "      <td>13.47</td>\n",
       "      <td>...</td>\n",
       "      <td>0</td>\n",
       "      <td>0</td>\n",
       "      <td>3</td>\n",
       "      <td>0</td>\n",
       "      <td>16.0</td>\n",
       "      <td>8.0</td>\n",
       "      <td>31.0</td>\n",
       "      <td>16.0</td>\n",
       "      <td>7.0</td>\n",
       "      <td>False</td>\n",
       "    </tr>\n",
       "    <tr>\n",
       "      <th>4</th>\n",
       "      <td>5</td>\n",
       "      <td>24.0</td>\n",
       "      <td>6.0</td>\n",
       "      <td>6.0</td>\n",
       "      <td>2.0</td>\n",
       "      <td>72.0</td>\n",
       "      <td>346.13</td>\n",
       "      <td>0.06</td>\n",
       "      <td>17.33</td>\n",
       "      <td>19.97</td>\n",
       "      <td>...</td>\n",
       "      <td>0</td>\n",
       "      <td>0</td>\n",
       "      <td>3</td>\n",
       "      <td>0</td>\n",
       "      <td>16.0</td>\n",
       "      <td>12.0</td>\n",
       "      <td>46.0</td>\n",
       "      <td>26.0</td>\n",
       "      <td>11.0</td>\n",
       "      <td>False</td>\n",
       "    </tr>\n",
       "  </tbody>\n",
       "</table>\n",
       "<p>5 rows × 23 columns</p>\n",
       "</div>"
      ],
      "text/plain": [
       "   id   loc  v(g)  ev(g)  iv(g)     n       v     l      d      i  ...  \\\n",
       "0   1   1.1   1.4    1.4    1.4   1.3    1.30  1.30   1.30   1.30  ...   \n",
       "1   2   1.0   1.0    1.0    1.0   1.0    1.00  1.00   1.00   1.00  ...   \n",
       "2   3  24.0   5.0    1.0    3.0  63.0  309.13  0.11   9.50  32.54  ...   \n",
       "3   4  20.0   4.0    4.0    2.0  47.0  215.49  0.06  16.00  13.47  ...   \n",
       "4   5  24.0   6.0    6.0    2.0  72.0  346.13  0.06  17.33  19.97  ...   \n",
       "\n",
       "   lOCode  lOComment  lOBlank  locCodeAndComment  uniq_Op  uniq_Opnd  \\\n",
       "0       2          2        2                  2      1.2        1.2   \n",
       "1       1          1        1                  1      1.0        1.0   \n",
       "2       1          0        6                  0     15.0       15.0   \n",
       "3       0          0        3                  0     16.0        8.0   \n",
       "4       0          0        3                  0     16.0       12.0   \n",
       "\n",
       "   total_Op  total_Opnd  branchCount  defects  \n",
       "0       1.2         1.2          1.4    False  \n",
       "1       1.0         1.0          1.0     True  \n",
       "2      44.0        19.0          9.0    False  \n",
       "3      31.0        16.0          7.0    False  \n",
       "4      46.0        26.0         11.0    False  \n",
       "\n",
       "[5 rows x 23 columns]"
      ]
     },
     "execution_count": 7,
     "metadata": {},
     "output_type": "execute_result"
    }
   ],
   "source": [
    "df.head()"
   ]
  },
  {
   "cell_type": "code",
   "execution_count": 8,
   "id": "733e95eb",
   "metadata": {
    "execution": {
     "iopub.execute_input": "2021-04-04T23:21:51.589612Z",
     "iopub.status.busy": "2021-04-04T23:21:51.588801Z",
     "iopub.status.idle": "2021-04-04T23:21:51.591388Z",
     "shell.execute_reply": "2021-04-04T23:21:51.590827Z"
    },
    "papermill": {
     "duration": 0.028983,
     "end_time": "2021-04-04T23:21:51.591528",
     "exception": false,
     "start_time": "2021-04-04T23:21:51.562545",
     "status": "completed"
    },
    "tags": []
   },
   "outputs": [],
   "source": [
    "del df['id']"
   ]
  },
  {
   "cell_type": "code",
   "execution_count": 9,
   "id": "6ff6f5b0",
   "metadata": {
    "execution": {
     "iopub.execute_input": "2021-04-04T23:21:51.650651Z",
     "iopub.status.busy": "2021-04-04T23:21:51.648695Z",
     "iopub.status.idle": "2021-04-04T23:21:51.653554Z",
     "shell.execute_reply": "2021-04-04T23:21:51.654105Z"
    },
    "papermill": {
     "duration": 0.036693,
     "end_time": "2021-04-04T23:21:51.654288",
     "exception": false,
     "start_time": "2021-04-04T23:21:51.617595",
     "status": "completed"
    },
    "tags": []
   },
   "outputs": [],
   "source": [
    "if PROFILE_REPORTING:\n",
    "    ProfileReport(df).to_widgets()"
   ]
  },
  {
   "cell_type": "markdown",
   "id": "1deaf3f0",
   "metadata": {
    "papermill": {
     "duration": 0.02218,
     "end_time": "2021-04-04T23:21:51.701635",
     "exception": false,
     "start_time": "2021-04-04T23:21:51.679455",
     "status": "completed"
    },
    "tags": []
   },
   "source": [
    "# Preprocess"
   ]
  },
  {
   "cell_type": "code",
   "execution_count": 10,
   "id": "1513e563",
   "metadata": {
    "execution": {
     "iopub.execute_input": "2021-04-04T23:21:51.760664Z",
     "iopub.status.busy": "2021-04-04T23:21:51.759693Z",
     "iopub.status.idle": "2021-04-04T23:21:51.763481Z",
     "shell.execute_reply": "2021-04-04T23:21:51.762783Z"
    },
    "papermill": {
     "duration": 0.038342,
     "end_time": "2021-04-04T23:21:51.763626",
     "exception": false,
     "start_time": "2021-04-04T23:21:51.725284",
     "status": "completed"
    },
    "tags": []
   },
   "outputs": [],
   "source": [
    "working_df = df.copy()"
   ]
  },
  {
   "cell_type": "code",
   "execution_count": 11,
   "id": "3b26d675",
   "metadata": {
    "execution": {
     "iopub.execute_input": "2021-04-04T23:21:51.818412Z",
     "iopub.status.busy": "2021-04-04T23:21:51.816482Z",
     "iopub.status.idle": "2021-04-04T23:21:51.822970Z",
     "shell.execute_reply": "2021-04-04T23:21:51.822314Z"
    },
    "papermill": {
     "duration": 0.037174,
     "end_time": "2021-04-04T23:21:51.823127",
     "exception": false,
     "start_time": "2021-04-04T23:21:51.785953",
     "status": "completed"
    },
    "tags": []
   },
   "outputs": [],
   "source": [
    "working_df['defects'] = working_df['defects'].replace([False, True], [0, 1])"
   ]
  },
  {
   "cell_type": "code",
   "execution_count": 12,
   "id": "eb48604f",
   "metadata": {
    "execution": {
     "iopub.execute_input": "2021-04-04T23:21:51.887353Z",
     "iopub.status.busy": "2021-04-04T23:21:51.886558Z",
     "iopub.status.idle": "2021-04-04T23:21:51.889023Z",
     "shell.execute_reply": "2021-04-04T23:21:51.889547Z"
    },
    "papermill": {
     "duration": 0.038538,
     "end_time": "2021-04-04T23:21:51.889713",
     "exception": false,
     "start_time": "2021-04-04T23:21:51.851175",
     "status": "completed"
    },
    "tags": []
   },
   "outputs": [],
   "source": [
    "for col in dataset_config['delete_columns']:\n",
    "    del working_df[col]"
   ]
  },
  {
   "cell_type": "code",
   "execution_count": 13,
   "id": "9a17bc29",
   "metadata": {
    "execution": {
     "iopub.execute_input": "2021-04-04T23:21:51.943771Z",
     "iopub.status.busy": "2021-04-04T23:21:51.942781Z",
     "iopub.status.idle": "2021-04-04T23:21:51.951418Z",
     "shell.execute_reply": "2021-04-04T23:21:51.950833Z"
    },
    "papermill": {
     "duration": 0.036552,
     "end_time": "2021-04-04T23:21:51.951540",
     "exception": false,
     "start_time": "2021-04-04T23:21:51.914988",
     "status": "completed"
    },
    "tags": []
   },
   "outputs": [],
   "source": [
    "working_df = working_df.drop_duplicates()"
   ]
  },
  {
   "cell_type": "markdown",
   "id": "a4d52ca6",
   "metadata": {
    "papermill": {
     "duration": 0.026771,
     "end_time": "2021-04-04T23:21:52.003904",
     "exception": false,
     "start_time": "2021-04-04T23:21:51.977133",
     "status": "completed"
    },
    "tags": []
   },
   "source": [
    "# Split"
   ]
  },
  {
   "cell_type": "code",
   "execution_count": 14,
   "id": "3e9ee4b5",
   "metadata": {
    "execution": {
     "iopub.execute_input": "2021-04-04T23:21:52.062688Z",
     "iopub.status.busy": "2021-04-04T23:21:52.061954Z",
     "iopub.status.idle": "2021-04-04T23:21:52.098455Z",
     "shell.execute_reply": "2021-04-04T23:21:52.097595Z"
    },
    "papermill": {
     "duration": 0.067606,
     "end_time": "2021-04-04T23:21:52.098640",
     "exception": false,
     "start_time": "2021-04-04T23:21:52.031034",
     "status": "completed"
    },
    "tags": []
   },
   "outputs": [],
   "source": [
    "from sklearn.model_selection import train_test_split"
   ]
  },
  {
   "cell_type": "code",
   "execution_count": 15,
   "id": "274004ce",
   "metadata": {
    "execution": {
     "iopub.execute_input": "2021-04-04T23:21:52.163742Z",
     "iopub.status.busy": "2021-04-04T23:21:52.162855Z",
     "iopub.status.idle": "2021-04-04T23:21:52.167811Z",
     "shell.execute_reply": "2021-04-04T23:21:52.168368Z"
    },
    "papermill": {
     "duration": 0.039893,
     "end_time": "2021-04-04T23:21:52.168600",
     "exception": false,
     "start_time": "2021-04-04T23:21:52.128707",
     "status": "completed"
    },
    "scrolled": true,
    "tags": []
   },
   "outputs": [],
   "source": [
    "inlier, outlier = working_df[working_df['defects'] == 0], working_df[working_df['defects'] == 1]"
   ]
  },
  {
   "cell_type": "code",
   "execution_count": 16,
   "id": "753c7b03",
   "metadata": {
    "execution": {
     "iopub.execute_input": "2021-04-04T23:21:52.231730Z",
     "iopub.status.busy": "2021-04-04T23:21:52.230687Z",
     "iopub.status.idle": "2021-04-04T23:21:52.233220Z",
     "shell.execute_reply": "2021-04-04T23:21:52.233779Z"
    },
    "papermill": {
     "duration": 0.037092,
     "end_time": "2021-04-04T23:21:52.233951",
     "exception": false,
     "start_time": "2021-04-04T23:21:52.196859",
     "status": "completed"
    },
    "tags": []
   },
   "outputs": [],
   "source": [
    "X_inlier = inlier.copy()\n",
    "y_inlier = X_inlier.pop('defects')\n",
    "X_outlier = outlier.copy()\n",
    "y_outlier = X_outlier.pop('defects')"
   ]
  },
  {
   "cell_type": "code",
   "execution_count": 17,
   "id": "2ba43193",
   "metadata": {
    "execution": {
     "iopub.execute_input": "2021-04-04T23:21:52.294135Z",
     "iopub.status.busy": "2021-04-04T23:21:52.293401Z",
     "iopub.status.idle": "2021-04-04T23:21:52.295391Z",
     "shell.execute_reply": "2021-04-04T23:21:52.295866Z"
    },
    "papermill": {
     "duration": 0.036209,
     "end_time": "2021-04-04T23:21:52.296013",
     "exception": false,
     "start_time": "2021-04-04T23:21:52.259804",
     "status": "completed"
    },
    "tags": []
   },
   "outputs": [],
   "source": [
    "test_size = dataset_config['test_size']\n",
    "random_state = dataset_config['random_state']\n",
    "\n",
    "X_inlier_train, X_inlier_test, y_inlier_train, y_inlier_test = train_test_split(\n",
    "    X_inlier,\n",
    "    y_inlier,\n",
    "    test_size=test_size,\n",
    "    random_state=random_state\n",
    ")"
   ]
  },
  {
   "cell_type": "code",
   "execution_count": 18,
   "id": "0b7582ca",
   "metadata": {
    "execution": {
     "iopub.execute_input": "2021-04-04T23:21:52.360044Z",
     "iopub.status.busy": "2021-04-04T23:21:52.358229Z",
     "iopub.status.idle": "2021-04-04T23:21:52.361669Z",
     "shell.execute_reply": "2021-04-04T23:21:52.362213Z"
    },
    "papermill": {
     "duration": 0.042589,
     "end_time": "2021-04-04T23:21:52.362380",
     "exception": false,
     "start_time": "2021-04-04T23:21:52.319791",
     "status": "completed"
    },
    "tags": []
   },
   "outputs": [],
   "source": [
    "test_outlier_size = dataset_config['test_outlier_size']\n",
    "if test_outlier_size > 0.0:\n",
    "    X_outlier_train, X_outlier_test, y_outlier_train, y_outlier_test = train_test_split(\n",
    "        X_outlier,\n",
    "        y_outlier,\n",
    "        test_size=test_outlier_size,\n",
    "        random_state=random_state\n",
    "    )\n",
    "else:\n",
    "    X_outlier_train, y_outlier_train = pd.DataFrame(columns=X_outlier.columns), pd.Series(dtype='int64')\n",
    "    X_outlier_test, y_outlier_test = X_outlier.copy(), y_outlier.copy()"
   ]
  },
  {
   "cell_type": "code",
   "execution_count": 19,
   "id": "c34363db",
   "metadata": {
    "execution": {
     "iopub.execute_input": "2021-04-04T23:21:52.431709Z",
     "iopub.status.busy": "2021-04-04T23:21:52.430833Z",
     "iopub.status.idle": "2021-04-04T23:21:52.435570Z",
     "shell.execute_reply": "2021-04-04T23:21:52.434610Z"
    },
    "papermill": {
     "duration": 0.04448,
     "end_time": "2021-04-04T23:21:52.435813",
     "exception": false,
     "start_time": "2021-04-04T23:21:52.391333",
     "status": "completed"
    },
    "tags": []
   },
   "outputs": [],
   "source": [
    "X_train, y_train = pd.concat([X_inlier_train, X_outlier_train], ignore_index=True), pd.concat([y_inlier_train, y_outlier_train], ignore_index=True)\n",
    "X_test, y_test = pd.concat([X_inlier_test, X_outlier_test], ignore_index=True), pd.concat([y_inlier_test, y_outlier_test], ignore_index=True)"
   ]
  },
  {
   "cell_type": "markdown",
   "id": "7cde7309",
   "metadata": {
    "papermill": {
     "duration": 0.023164,
     "end_time": "2021-04-04T23:21:52.483454",
     "exception": false,
     "start_time": "2021-04-04T23:21:52.460290",
     "status": "completed"
    },
    "tags": []
   },
   "source": [
    "# Model"
   ]
  },
  {
   "cell_type": "code",
   "execution_count": 20,
   "id": "2b12a415",
   "metadata": {
    "execution": {
     "iopub.execute_input": "2021-04-04T23:21:52.552888Z",
     "iopub.status.busy": "2021-04-04T23:21:52.551041Z",
     "iopub.status.idle": "2021-04-04T23:21:52.555921Z",
     "shell.execute_reply": "2021-04-04T23:21:52.555237Z"
    },
    "papermill": {
     "duration": 0.042892,
     "end_time": "2021-04-04T23:21:52.556099",
     "exception": false,
     "start_time": "2021-04-04T23:21:52.513207",
     "status": "completed"
    },
    "tags": []
   },
   "outputs": [],
   "source": [
    "from math import sqrt\n",
    "\n",
    "\n",
    "class KNNDataDescription:\n",
    "    def __init__(self, k=5, outlier_threshold=1.0):\n",
    "        self.k = k\n",
    "        self.outlier_threshold = outlier_threshold\n",
    "        self.X = []\n",
    "    \n",
    "    def fit(self, X):\n",
    "        self.X = [features.to_list() for index, features in X.iterrows()]\n",
    "\n",
    "    def predict(self, entries):\n",
    "        return [self.predict_entry(features.to_list()) for index, features in entries.iterrows()]\n",
    "    \n",
    "    def predict_entry(self, entry):\n",
    "        kth_neighbor, kth_distance = self.get_kth_neighbor(entry, self.k)\n",
    "        kth_kth_neighbor, kth_kth_distance = self.get_kth_neighbor(kth_neighbor, self.k + 1)\n",
    "\n",
    "        outlier_score = kth_distance / (kth_kth_distance + 0.000001)\n",
    "\n",
    "        return 1 if outlier_score < self.outlier_threshold else -1\n",
    "        \n",
    "    def euclidean_distance(self, features1, features2):\n",
    "        distance = 0.0\n",
    "        for feat1, feat2 in zip(features1, features2):\n",
    "            distance += (feat1 - feat2)**2\n",
    "                \n",
    "        return sqrt(distance)\n",
    "\n",
    "    def get_neighbors(self, entry, k):\n",
    "        distance_to_data_points = [\n",
    "            (data_point, self.euclidean_distance(entry, data_point))\n",
    "            for data_point in self.X\n",
    "        ]\n",
    "        sorted_by_distance = sorted(distance_to_data_points, key=lambda tup: tup[1])\n",
    "        neighbors = sorted_by_distance[:k]\n",
    "        return neighbors\n",
    "\n",
    "    def get_kth_neighbor(self, entry, k):\n",
    "        neighbors = self.get_neighbors(entry, k)\n",
    "        return neighbors[-1]\n"
   ]
  },
  {
   "cell_type": "code",
   "execution_count": 21,
   "id": "1fa9ec1c",
   "metadata": {
    "execution": {
     "iopub.execute_input": "2021-04-04T23:21:52.613428Z",
     "iopub.status.busy": "2021-04-04T23:21:52.612786Z",
     "iopub.status.idle": "2021-04-04T23:21:52.634045Z",
     "shell.execute_reply": "2021-04-04T23:21:52.633526Z"
    },
    "papermill": {
     "duration": 0.050342,
     "end_time": "2021-04-04T23:21:52.634165",
     "exception": false,
     "start_time": "2021-04-04T23:21:52.583823",
     "status": "completed"
    },
    "tags": []
   },
   "outputs": [],
   "source": [
    "from sklearn.svm import OneClassSVM\n",
    "\n",
    "\n",
    "models = {\n",
    "    'oneclasssvm': OneClassSVM,\n",
    "    'knndatadescription': KNNDataDescription,\n",
    "}"
   ]
  },
  {
   "cell_type": "code",
   "execution_count": 22,
   "id": "4d72a0b1",
   "metadata": {
    "execution": {
     "iopub.execute_input": "2021-04-04T23:21:52.693828Z",
     "iopub.status.busy": "2021-04-04T23:21:52.692871Z",
     "iopub.status.idle": "2021-04-04T23:21:52.694854Z",
     "shell.execute_reply": "2021-04-04T23:21:52.695500Z"
    },
    "papermill": {
     "duration": 0.035443,
     "end_time": "2021-04-04T23:21:52.695655",
     "exception": false,
     "start_time": "2021-04-04T23:21:52.660212",
     "status": "completed"
    },
    "scrolled": true,
    "tags": []
   },
   "outputs": [],
   "source": [
    "model_cls = models[model_config['model_type']]\n",
    "model = model_cls(**model_config['hyperparameters'])"
   ]
  },
  {
   "cell_type": "markdown",
   "id": "e00cff3b",
   "metadata": {
    "papermill": {
     "duration": 0.028291,
     "end_time": "2021-04-04T23:21:52.748130",
     "exception": false,
     "start_time": "2021-04-04T23:21:52.719839",
     "status": "completed"
    },
    "tags": []
   },
   "source": [
    "# Fit"
   ]
  },
  {
   "cell_type": "code",
   "execution_count": 23,
   "id": "8b2ded89",
   "metadata": {
    "execution": {
     "iopub.execute_input": "2021-04-04T23:21:52.832853Z",
     "iopub.status.busy": "2021-04-04T23:21:52.816285Z",
     "iopub.status.idle": "2021-04-04T23:21:52.835268Z",
     "shell.execute_reply": "2021-04-04T23:21:52.835746Z"
    },
    "papermill": {
     "duration": 0.063539,
     "end_time": "2021-04-04T23:21:52.835895",
     "exception": false,
     "start_time": "2021-04-04T23:21:52.772356",
     "status": "completed"
    },
    "tags": []
   },
   "outputs": [],
   "source": [
    "model.fit(X_train)"
   ]
  },
  {
   "cell_type": "markdown",
   "id": "f99999f7",
   "metadata": {
    "papermill": {
     "duration": 0.03121,
     "end_time": "2021-04-04T23:21:52.897999",
     "exception": false,
     "start_time": "2021-04-04T23:21:52.866789",
     "status": "completed"
    },
    "tags": []
   },
   "source": [
    "# Predict"
   ]
  },
  {
   "cell_type": "code",
   "execution_count": 24,
   "id": "6536fbf7",
   "metadata": {
    "execution": {
     "iopub.execute_input": "2021-04-04T23:21:52.970779Z",
     "iopub.status.busy": "2021-04-04T23:21:52.965774Z",
     "iopub.status.idle": "2021-04-04T23:21:53.438017Z",
     "shell.execute_reply": "2021-04-04T23:21:53.437349Z"
    },
    "papermill": {
     "duration": 0.515637,
     "end_time": "2021-04-04T23:21:53.438140",
     "exception": false,
     "start_time": "2021-04-04T23:21:52.922503",
     "status": "completed"
    },
    "tags": []
   },
   "outputs": [],
   "source": [
    "predictions = model.predict(X_test)"
   ]
  },
  {
   "cell_type": "markdown",
   "id": "aa1c9881",
   "metadata": {
    "papermill": {
     "duration": 0.024181,
     "end_time": "2021-04-04T23:21:53.489592",
     "exception": false,
     "start_time": "2021-04-04T23:21:53.465411",
     "status": "completed"
    },
    "tags": []
   },
   "source": [
    "# Evaluate"
   ]
  },
  {
   "cell_type": "code",
   "execution_count": 25,
   "id": "894f0f04",
   "metadata": {
    "execution": {
     "iopub.execute_input": "2021-04-04T23:21:53.557721Z",
     "iopub.status.busy": "2021-04-04T23:21:53.556413Z",
     "iopub.status.idle": "2021-04-04T23:21:53.559465Z",
     "shell.execute_reply": "2021-04-04T23:21:53.560026Z"
    },
    "papermill": {
     "duration": 0.039505,
     "end_time": "2021-04-04T23:21:53.560188",
     "exception": false,
     "start_time": "2021-04-04T23:21:53.520683",
     "status": "completed"
    },
    "tags": []
   },
   "outputs": [],
   "source": [
    "from sklearn.metrics import f1_score"
   ]
  },
  {
   "cell_type": "code",
   "execution_count": 26,
   "id": "211744d3",
   "metadata": {
    "execution": {
     "iopub.execute_input": "2021-04-04T23:21:53.617251Z",
     "iopub.status.busy": "2021-04-04T23:21:53.616385Z",
     "iopub.status.idle": "2021-04-04T23:21:53.619029Z",
     "shell.execute_reply": "2021-04-04T23:21:53.618498Z"
    },
    "papermill": {
     "duration": 0.032427,
     "end_time": "2021-04-04T23:21:53.619147",
     "exception": false,
     "start_time": "2021-04-04T23:21:53.586720",
     "status": "completed"
    },
    "tags": []
   },
   "outputs": [],
   "source": [
    "y_test = y_test.replace([0, 1], [1, -1])"
   ]
  },
  {
   "cell_type": "code",
   "execution_count": 27,
   "id": "d68a9204",
   "metadata": {
    "execution": {
     "iopub.execute_input": "2021-04-04T23:21:53.686517Z",
     "iopub.status.busy": "2021-04-04T23:21:53.685485Z",
     "iopub.status.idle": "2021-04-04T23:21:53.688441Z",
     "shell.execute_reply": "2021-04-04T23:21:53.689638Z"
    },
    "papermill": {
     "duration": 0.044615,
     "end_time": "2021-04-04T23:21:53.689982",
     "exception": false,
     "start_time": "2021-04-04T23:21:53.645367",
     "status": "completed"
    },
    "tags": []
   },
   "outputs": [],
   "source": [
    "def evaluate(truths, predictions, pos_label, neg_label):\n",
    "    TP = 0\n",
    "    FP = 0\n",
    "    TN = 0\n",
    "    FN = 0\n",
    "\n",
    "    for truth, pred in zip(truths, predictions): \n",
    "        if truth == pred == pos_label:\n",
    "           TP += 1\n",
    "        elif pred == pos_label and truth == neg_label:\n",
    "           FP += 1\n",
    "        elif truth == pred == neg_label:\n",
    "           TN += 1\n",
    "        elif pred == neg_label and truth == pos_label:\n",
    "           FN += 1\n",
    "\n",
    "    precision = TP / (TP + FP)\n",
    "    sensitivity = TP / (TP + FN)\n",
    "    \n",
    "    return {\n",
    "        'true_pos': TP,\n",
    "        'false_pos': FP,\n",
    "        'false_neg': FN,\n",
    "        'true_neg': TN,\n",
    "        'precision': precision,\n",
    "        'sensitivity': sensitivity,\n",
    "        'f1': (2 * (precision * sensitivity)) / (precision + sensitivity)\n",
    "    }\n",
    "\n",
    "score = evaluate(y_test, predictions, pos_label=-1, neg_label=1)"
   ]
  },
  {
   "cell_type": "markdown",
   "id": "93596516",
   "metadata": {
    "papermill": {
     "duration": 0.025554,
     "end_time": "2021-04-04T23:21:53.740432",
     "exception": false,
     "start_time": "2021-04-04T23:21:53.714878",
     "status": "completed"
    },
    "tags": []
   },
   "source": [
    "# Report"
   ]
  },
  {
   "cell_type": "code",
   "execution_count": 28,
   "id": "bea5fba1",
   "metadata": {
    "execution": {
     "iopub.execute_input": "2021-04-04T23:21:53.801535Z",
     "iopub.status.busy": "2021-04-04T23:21:53.800577Z",
     "iopub.status.idle": "2021-04-04T23:21:53.805170Z",
     "shell.execute_reply": "2021-04-04T23:21:53.804295Z"
    },
    "papermill": {
     "duration": 0.039102,
     "end_time": "2021-04-04T23:21:53.805335",
     "exception": false,
     "start_time": "2021-04-04T23:21:53.766233",
     "status": "completed"
    },
    "tags": []
   },
   "outputs": [],
   "source": [
    "import csv\n",
    "\n",
    "\n",
    "dataset_config_name = DATASET_CONFIG_PATH.split('/')[-1].split('.')[0]\n",
    "model_config_name = MODEL_CONFIG_PATH.split('/')[-1].split('.')[0]\n",
    "configuration = f\"dataset_{dataset_config_name}-model_{model_config_name}\"\n",
    "\n",
    "with open('results.csv', 'a') as f:\n",
    "    report = dict({'configuration': configuration}, **score)\n",
    "    writer = csv.DictWriter(f, report.keys())\n",
    "    writer.writerow(report)"
   ]
  }
 ],
 "metadata": {
  "celltoolbar": "Tags",
  "kernelspec": {
   "display_name": "Python 3",
   "language": "python",
   "name": "python3"
  },
  "language_info": {
   "codemirror_mode": {
    "name": "ipython",
    "version": 3
   },
   "file_extension": ".py",
   "mimetype": "text/x-python",
   "name": "python",
   "nbconvert_exporter": "python",
   "pygments_lexer": "ipython3",
   "version": "3.9.1"
  },
  "papermill": {
   "default_parameters": {},
   "duration": 5.994743,
   "end_time": "2021-04-04T23:21:54.543228",
   "environment_variables": {},
   "exception": null,
   "input_path": "main.ipynb",
   "output_path": "runs/dataset_000123-model_000002.ipynb",
   "parameters": {
    "DATASET_CONFIG_PATH": "config/dataset/000123.json",
    "MODEL_CONFIG_PATH": "config/model/000002.json",
    "PROFILE_REPORTING": false
   },
   "start_time": "2021-04-04T23:21:48.548485",
   "version": "2.3.3"
  }
 },
 "nbformat": 4,
 "nbformat_minor": 5
}