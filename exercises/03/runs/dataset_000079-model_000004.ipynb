{
 "cells": [
  {
   "cell_type": "markdown",
   "id": "51c71c25",
   "metadata": {
    "papermill": {
     "duration": 0.024684,
     "end_time": "2021-04-04T23:04:44.734038",
     "exception": false,
     "start_time": "2021-04-04T23:04:44.709354",
     "status": "completed"
    },
    "tags": []
   },
   "source": [
    "# Parametrizing"
   ]
  },
  {
   "cell_type": "code",
   "execution_count": 1,
   "id": "3b136394",
   "metadata": {
    "execution": {
     "iopub.execute_input": "2021-04-04T23:04:44.791939Z",
     "iopub.status.busy": "2021-04-04T23:04:44.791226Z",
     "iopub.status.idle": "2021-04-04T23:04:44.793603Z",
     "shell.execute_reply": "2021-04-04T23:04:44.793021Z"
    },
    "papermill": {
     "duration": 0.036364,
     "end_time": "2021-04-04T23:04:44.793729",
     "exception": false,
     "start_time": "2021-04-04T23:04:44.757365",
     "status": "completed"
    },
    "tags": [
     "parameters"
    ]
   },
   "outputs": [],
   "source": [
    "DATASET_CONFIG_PATH = 'config/dataset/kc1_001.json'\n",
    "MODEL_CONFIG_PATH = 'config/model/knndd_001.json'\n",
    "PROFILE_REPORTING = False"
   ]
  },
  {
   "cell_type": "code",
   "execution_count": 2,
   "id": "633ad575",
   "metadata": {
    "execution": {
     "iopub.execute_input": "2021-04-04T23:04:44.847475Z",
     "iopub.status.busy": "2021-04-04T23:04:44.846602Z",
     "iopub.status.idle": "2021-04-04T23:04:44.848695Z",
     "shell.execute_reply": "2021-04-04T23:04:44.849138Z"
    },
    "papermill": {
     "duration": 0.028591,
     "end_time": "2021-04-04T23:04:44.849285",
     "exception": false,
     "start_time": "2021-04-04T23:04:44.820694",
     "status": "completed"
    },
    "tags": [
     "injected-parameters"
    ]
   },
   "outputs": [],
   "source": [
    "# Parameters\n",
    "DATASET_CONFIG_PATH = \"config/dataset/000079.json\"\n",
    "MODEL_CONFIG_PATH = \"config/model/000004.json\"\n",
    "PROFILE_REPORTING = False\n"
   ]
  },
  {
   "cell_type": "code",
   "execution_count": 3,
   "id": "b80f2a10",
   "metadata": {
    "execution": {
     "iopub.execute_input": "2021-04-04T23:04:44.903127Z",
     "iopub.status.busy": "2021-04-04T23:04:44.902469Z",
     "iopub.status.idle": "2021-04-04T23:04:44.904733Z",
     "shell.execute_reply": "2021-04-04T23:04:44.905199Z"
    },
    "papermill": {
     "duration": 0.034434,
     "end_time": "2021-04-04T23:04:44.905341",
     "exception": false,
     "start_time": "2021-04-04T23:04:44.870907",
     "status": "completed"
    },
    "tags": []
   },
   "outputs": [],
   "source": [
    "import json\n",
    "\n",
    "\n",
    "with open(DATASET_CONFIG_PATH) as f:\n",
    "    dataset_config = json.load(f)\n",
    "\n",
    "with open(MODEL_CONFIG_PATH) as f:\n",
    "    model_config = json.load(f)"
   ]
  },
  {
   "cell_type": "markdown",
   "id": "9a4b0e2d",
   "metadata": {
    "papermill": {
     "duration": 0.020504,
     "end_time": "2021-04-04T23:04:44.949224",
     "exception": false,
     "start_time": "2021-04-04T23:04:44.928720",
     "status": "completed"
    },
    "tags": []
   },
   "source": [
    "# Profiling"
   ]
  },
  {
   "cell_type": "code",
   "execution_count": 4,
   "id": "a3e0289b",
   "metadata": {
    "execution": {
     "iopub.execute_input": "2021-04-04T23:04:45.007893Z",
     "iopub.status.busy": "2021-04-04T23:04:45.006037Z",
     "iopub.status.idle": "2021-04-04T23:04:46.376184Z",
     "shell.execute_reply": "2021-04-04T23:04:46.376674Z"
    },
    "papermill": {
     "duration": 1.403829,
     "end_time": "2021-04-04T23:04:46.376845",
     "exception": false,
     "start_time": "2021-04-04T23:04:44.973016",
     "status": "completed"
    },
    "tags": []
   },
   "outputs": [],
   "source": [
    "import pandas as pd\n",
    "from pandas_profiling import ProfileReport"
   ]
  },
  {
   "cell_type": "code",
   "execution_count": 5,
   "id": "ee6c0666",
   "metadata": {
    "execution": {
     "iopub.execute_input": "2021-04-04T23:04:46.428698Z",
     "iopub.status.busy": "2021-04-04T23:04:46.427808Z",
     "iopub.status.idle": "2021-04-04T23:04:46.438794Z",
     "shell.execute_reply": "2021-04-04T23:04:46.439370Z"
    },
    "papermill": {
     "duration": 0.041931,
     "end_time": "2021-04-04T23:04:46.439561",
     "exception": false,
     "start_time": "2021-04-04T23:04:46.397630",
     "status": "completed"
    },
    "tags": []
   },
   "outputs": [],
   "source": [
    "df = pd.read_csv(dataset_config['dataset_path'])"
   ]
  },
  {
   "cell_type": "code",
   "execution_count": 6,
   "id": "7eca6c4a",
   "metadata": {
    "execution": {
     "iopub.execute_input": "2021-04-04T23:04:46.495030Z",
     "iopub.status.busy": "2021-04-04T23:04:46.494263Z",
     "iopub.status.idle": "2021-04-04T23:04:46.513151Z",
     "shell.execute_reply": "2021-04-04T23:04:46.512466Z"
    },
    "papermill": {
     "duration": 0.051456,
     "end_time": "2021-04-04T23:04:46.513309",
     "exception": false,
     "start_time": "2021-04-04T23:04:46.461853",
     "status": "completed"
    },
    "tags": []
   },
   "outputs": [
    {
     "name": "stdout",
     "output_type": "stream",
     "text": [
      "<class 'pandas.core.frame.DataFrame'>\n",
      "RangeIndex: 2109 entries, 0 to 2108\n",
      "Data columns (total 23 columns):\n",
      " #   Column             Non-Null Count  Dtype  \n",
      "---  ------             --------------  -----  \n",
      " 0   id                 2109 non-null   int64  \n",
      " 1   loc                2109 non-null   float64\n",
      " 2   v(g)               2109 non-null   float64\n",
      " 3   ev(g)              2109 non-null   float64\n",
      " 4   iv(g)              2109 non-null   float64\n",
      " 5   n                  2109 non-null   float64\n",
      " 6   v                  2109 non-null   float64\n",
      " 7   l                  2109 non-null   float64\n",
      " 8   d                  2109 non-null   float64\n",
      " 9   i                  2109 non-null   float64\n",
      " 10  e                  2109 non-null   float64\n",
      " 11  b                  2109 non-null   float64\n",
      " 12  t                  2109 non-null   float64\n",
      " 13  lOCode             2109 non-null   int64  \n",
      " 14  lOComment          2109 non-null   int64  \n",
      " 15  lOBlank            2109 non-null   int64  \n",
      " 16  locCodeAndComment  2109 non-null   int64  \n",
      " 17  uniq_Op            2109 non-null   float64\n",
      " 18  uniq_Opnd          2109 non-null   float64\n",
      " 19  total_Op           2109 non-null   float64\n",
      " 20  total_Opnd         2109 non-null   float64\n",
      " 21  branchCount        2109 non-null   float64\n",
      " 22  defects            2109 non-null   bool   \n",
      "dtypes: bool(1), float64(17), int64(5)\n",
      "memory usage: 364.7 KB\n"
     ]
    }
   ],
   "source": [
    "df.info()"
   ]
  },
  {
   "cell_type": "code",
   "execution_count": 7,
   "id": "3638e5e8",
   "metadata": {
    "execution": {
     "iopub.execute_input": "2021-04-04T23:04:46.569292Z",
     "iopub.status.busy": "2021-04-04T23:04:46.568072Z",
     "iopub.status.idle": "2021-04-04T23:04:46.593963Z",
     "shell.execute_reply": "2021-04-04T23:04:46.593369Z"
    },
    "papermill": {
     "duration": 0.059347,
     "end_time": "2021-04-04T23:04:46.594125",
     "exception": false,
     "start_time": "2021-04-04T23:04:46.534778",
     "status": "completed"
    },
    "tags": []
   },
   "outputs": [
    {
     "data": {
      "text/html": [
       "<div>\n",
       "<style scoped>\n",
       "    .dataframe tbody tr th:only-of-type {\n",
       "        vertical-align: middle;\n",
       "    }\n",
       "\n",
       "    .dataframe tbody tr th {\n",
       "        vertical-align: top;\n",
       "    }\n",
       "\n",
       "    .dataframe thead th {\n",
       "        text-align: right;\n",
       "    }\n",
       "</style>\n",
       "<table border=\"1\" class=\"dataframe\">\n",
       "  <thead>\n",
       "    <tr style=\"text-align: right;\">\n",
       "      <th></th>\n",
       "      <th>id</th>\n",
       "      <th>loc</th>\n",
       "      <th>v(g)</th>\n",
       "      <th>ev(g)</th>\n",
       "      <th>iv(g)</th>\n",
       "      <th>n</th>\n",
       "      <th>v</th>\n",
       "      <th>l</th>\n",
       "      <th>d</th>\n",
       "      <th>i</th>\n",
       "      <th>...</th>\n",
       "      <th>lOCode</th>\n",
       "      <th>lOComment</th>\n",
       "      <th>lOBlank</th>\n",
       "      <th>locCodeAndComment</th>\n",
       "      <th>uniq_Op</th>\n",
       "      <th>uniq_Opnd</th>\n",
       "      <th>total_Op</th>\n",
       "      <th>total_Opnd</th>\n",
       "      <th>branchCount</th>\n",
       "      <th>defects</th>\n",
       "    </tr>\n",
       "  </thead>\n",
       "  <tbody>\n",
       "    <tr>\n",
       "      <th>0</th>\n",
       "      <td>1</td>\n",
       "      <td>1.1</td>\n",
       "      <td>1.4</td>\n",
       "      <td>1.4</td>\n",
       "      <td>1.4</td>\n",
       "      <td>1.3</td>\n",
       "      <td>1.30</td>\n",
       "      <td>1.30</td>\n",
       "      <td>1.30</td>\n",
       "      <td>1.30</td>\n",
       "      <td>...</td>\n",
       "      <td>2</td>\n",
       "      <td>2</td>\n",
       "      <td>2</td>\n",
       "      <td>2</td>\n",
       "      <td>1.2</td>\n",
       "      <td>1.2</td>\n",
       "      <td>1.2</td>\n",
       "      <td>1.2</td>\n",
       "      <td>1.4</td>\n",
       "      <td>False</td>\n",
       "    </tr>\n",
       "    <tr>\n",
       "      <th>1</th>\n",
       "      <td>2</td>\n",
       "      <td>1.0</td>\n",
       "      <td>1.0</td>\n",
       "      <td>1.0</td>\n",
       "      <td>1.0</td>\n",
       "      <td>1.0</td>\n",
       "      <td>1.00</td>\n",
       "      <td>1.00</td>\n",
       "      <td>1.00</td>\n",
       "      <td>1.00</td>\n",
       "      <td>...</td>\n",
       "      <td>1</td>\n",
       "      <td>1</td>\n",
       "      <td>1</td>\n",
       "      <td>1</td>\n",
       "      <td>1.0</td>\n",
       "      <td>1.0</td>\n",
       "      <td>1.0</td>\n",
       "      <td>1.0</td>\n",
       "      <td>1.0</td>\n",
       "      <td>True</td>\n",
       "    </tr>\n",
       "    <tr>\n",
       "      <th>2</th>\n",
       "      <td>3</td>\n",
       "      <td>83.0</td>\n",
       "      <td>11.0</td>\n",
       "      <td>1.0</td>\n",
       "      <td>11.0</td>\n",
       "      <td>171.0</td>\n",
       "      <td>927.89</td>\n",
       "      <td>0.04</td>\n",
       "      <td>23.04</td>\n",
       "      <td>40.27</td>\n",
       "      <td>...</td>\n",
       "      <td>65</td>\n",
       "      <td>10</td>\n",
       "      <td>6</td>\n",
       "      <td>0</td>\n",
       "      <td>18.0</td>\n",
       "      <td>25.0</td>\n",
       "      <td>107.0</td>\n",
       "      <td>64.0</td>\n",
       "      <td>21.0</td>\n",
       "      <td>True</td>\n",
       "    </tr>\n",
       "    <tr>\n",
       "      <th>3</th>\n",
       "      <td>4</td>\n",
       "      <td>46.0</td>\n",
       "      <td>8.0</td>\n",
       "      <td>6.0</td>\n",
       "      <td>8.0</td>\n",
       "      <td>141.0</td>\n",
       "      <td>769.78</td>\n",
       "      <td>0.07</td>\n",
       "      <td>14.86</td>\n",
       "      <td>51.81</td>\n",
       "      <td>...</td>\n",
       "      <td>37</td>\n",
       "      <td>2</td>\n",
       "      <td>5</td>\n",
       "      <td>0</td>\n",
       "      <td>16.0</td>\n",
       "      <td>28.0</td>\n",
       "      <td>89.0</td>\n",
       "      <td>52.0</td>\n",
       "      <td>15.0</td>\n",
       "      <td>True</td>\n",
       "    </tr>\n",
       "    <tr>\n",
       "      <th>4</th>\n",
       "      <td>5</td>\n",
       "      <td>25.0</td>\n",
       "      <td>3.0</td>\n",
       "      <td>1.0</td>\n",
       "      <td>3.0</td>\n",
       "      <td>58.0</td>\n",
       "      <td>254.75</td>\n",
       "      <td>0.11</td>\n",
       "      <td>9.35</td>\n",
       "      <td>27.25</td>\n",
       "      <td>...</td>\n",
       "      <td>21</td>\n",
       "      <td>0</td>\n",
       "      <td>2</td>\n",
       "      <td>0</td>\n",
       "      <td>11.0</td>\n",
       "      <td>10.0</td>\n",
       "      <td>41.0</td>\n",
       "      <td>17.0</td>\n",
       "      <td>5.0</td>\n",
       "      <td>True</td>\n",
       "    </tr>\n",
       "  </tbody>\n",
       "</table>\n",
       "<p>5 rows × 23 columns</p>\n",
       "</div>"
      ],
      "text/plain": [
       "   id   loc  v(g)  ev(g)  iv(g)      n       v     l      d      i  ...  \\\n",
       "0   1   1.1   1.4    1.4    1.4    1.3    1.30  1.30   1.30   1.30  ...   \n",
       "1   2   1.0   1.0    1.0    1.0    1.0    1.00  1.00   1.00   1.00  ...   \n",
       "2   3  83.0  11.0    1.0   11.0  171.0  927.89  0.04  23.04  40.27  ...   \n",
       "3   4  46.0   8.0    6.0    8.0  141.0  769.78  0.07  14.86  51.81  ...   \n",
       "4   5  25.0   3.0    1.0    3.0   58.0  254.75  0.11   9.35  27.25  ...   \n",
       "\n",
       "   lOCode  lOComment  lOBlank  locCodeAndComment  uniq_Op  uniq_Opnd  \\\n",
       "0       2          2        2                  2      1.2        1.2   \n",
       "1       1          1        1                  1      1.0        1.0   \n",
       "2      65         10        6                  0     18.0       25.0   \n",
       "3      37          2        5                  0     16.0       28.0   \n",
       "4      21          0        2                  0     11.0       10.0   \n",
       "\n",
       "   total_Op  total_Opnd  branchCount  defects  \n",
       "0       1.2         1.2          1.4    False  \n",
       "1       1.0         1.0          1.0     True  \n",
       "2     107.0        64.0         21.0     True  \n",
       "3      89.0        52.0         15.0     True  \n",
       "4      41.0        17.0          5.0     True  \n",
       "\n",
       "[5 rows x 23 columns]"
      ]
     },
     "execution_count": 7,
     "metadata": {},
     "output_type": "execute_result"
    }
   ],
   "source": [
    "df.head()"
   ]
  },
  {
   "cell_type": "code",
   "execution_count": 8,
   "id": "733e95eb",
   "metadata": {
    "execution": {
     "iopub.execute_input": "2021-04-04T23:04:46.648351Z",
     "iopub.status.busy": "2021-04-04T23:04:46.647553Z",
     "iopub.status.idle": "2021-04-04T23:04:46.649825Z",
     "shell.execute_reply": "2021-04-04T23:04:46.650361Z"
    },
    "papermill": {
     "duration": 0.034355,
     "end_time": "2021-04-04T23:04:46.650532",
     "exception": false,
     "start_time": "2021-04-04T23:04:46.616177",
     "status": "completed"
    },
    "tags": []
   },
   "outputs": [],
   "source": [
    "del df['id']"
   ]
  },
  {
   "cell_type": "code",
   "execution_count": 9,
   "id": "6ff6f5b0",
   "metadata": {
    "execution": {
     "iopub.execute_input": "2021-04-04T23:04:46.701523Z",
     "iopub.status.busy": "2021-04-04T23:04:46.700882Z",
     "iopub.status.idle": "2021-04-04T23:04:46.703146Z",
     "shell.execute_reply": "2021-04-04T23:04:46.702654Z"
    },
    "papermill": {
     "duration": 0.02802,
     "end_time": "2021-04-04T23:04:46.703263",
     "exception": false,
     "start_time": "2021-04-04T23:04:46.675243",
     "status": "completed"
    },
    "tags": []
   },
   "outputs": [],
   "source": [
    "if PROFILE_REPORTING:\n",
    "    ProfileReport(df).to_widgets()"
   ]
  },
  {
   "cell_type": "markdown",
   "id": "1deaf3f0",
   "metadata": {
    "papermill": {
     "duration": 0.030556,
     "end_time": "2021-04-04T23:04:46.757812",
     "exception": false,
     "start_time": "2021-04-04T23:04:46.727256",
     "status": "completed"
    },
    "tags": []
   },
   "source": [
    "# Preprocess"
   ]
  },
  {
   "cell_type": "code",
   "execution_count": 10,
   "id": "1513e563",
   "metadata": {
    "execution": {
     "iopub.execute_input": "2021-04-04T23:04:46.816087Z",
     "iopub.status.busy": "2021-04-04T23:04:46.813759Z",
     "iopub.status.idle": "2021-04-04T23:04:46.818801Z",
     "shell.execute_reply": "2021-04-04T23:04:46.819535Z"
    },
    "papermill": {
     "duration": 0.03811,
     "end_time": "2021-04-04T23:04:46.819790",
     "exception": false,
     "start_time": "2021-04-04T23:04:46.781680",
     "status": "completed"
    },
    "tags": []
   },
   "outputs": [],
   "source": [
    "working_df = df.copy()"
   ]
  },
  {
   "cell_type": "code",
   "execution_count": 11,
   "id": "3b26d675",
   "metadata": {
    "execution": {
     "iopub.execute_input": "2021-04-04T23:04:46.886918Z",
     "iopub.status.busy": "2021-04-04T23:04:46.886024Z",
     "iopub.status.idle": "2021-04-04T23:04:46.892687Z",
     "shell.execute_reply": "2021-04-04T23:04:46.891231Z"
    },
    "papermill": {
     "duration": 0.044933,
     "end_time": "2021-04-04T23:04:46.892996",
     "exception": false,
     "start_time": "2021-04-04T23:04:46.848063",
     "status": "completed"
    },
    "tags": []
   },
   "outputs": [],
   "source": [
    "working_df['defects'] = working_df['defects'].replace([False, True], [0, 1])"
   ]
  },
  {
   "cell_type": "code",
   "execution_count": 12,
   "id": "eb48604f",
   "metadata": {
    "execution": {
     "iopub.execute_input": "2021-04-04T23:04:46.944431Z",
     "iopub.status.busy": "2021-04-04T23:04:46.943680Z",
     "iopub.status.idle": "2021-04-04T23:04:46.946806Z",
     "shell.execute_reply": "2021-04-04T23:04:46.946197Z"
    },
    "papermill": {
     "duration": 0.02828,
     "end_time": "2021-04-04T23:04:46.946963",
     "exception": false,
     "start_time": "2021-04-04T23:04:46.918683",
     "status": "completed"
    },
    "tags": []
   },
   "outputs": [],
   "source": [
    "for col in dataset_config['delete_columns']:\n",
    "    del working_df[col]"
   ]
  },
  {
   "cell_type": "code",
   "execution_count": 13,
   "id": "9a17bc29",
   "metadata": {
    "execution": {
     "iopub.execute_input": "2021-04-04T23:04:47.005592Z",
     "iopub.status.busy": "2021-04-04T23:04:47.004388Z",
     "iopub.status.idle": "2021-04-04T23:04:47.017623Z",
     "shell.execute_reply": "2021-04-04T23:04:47.018434Z"
    },
    "papermill": {
     "duration": 0.046366,
     "end_time": "2021-04-04T23:04:47.018652",
     "exception": false,
     "start_time": "2021-04-04T23:04:46.972286",
     "status": "completed"
    },
    "tags": []
   },
   "outputs": [],
   "source": [
    "working_df = working_df.drop_duplicates()"
   ]
  },
  {
   "cell_type": "markdown",
   "id": "a4d52ca6",
   "metadata": {
    "papermill": {
     "duration": 0.024523,
     "end_time": "2021-04-04T23:04:47.065515",
     "exception": false,
     "start_time": "2021-04-04T23:04:47.040992",
     "status": "completed"
    },
    "tags": []
   },
   "source": [
    "# Split"
   ]
  },
  {
   "cell_type": "code",
   "execution_count": 14,
   "id": "3e9ee4b5",
   "metadata": {
    "execution": {
     "iopub.execute_input": "2021-04-04T23:04:47.119032Z",
     "iopub.status.busy": "2021-04-04T23:04:47.117733Z",
     "iopub.status.idle": "2021-04-04T23:04:47.146299Z",
     "shell.execute_reply": "2021-04-04T23:04:47.146809Z"
    },
    "papermill": {
     "duration": 0.058625,
     "end_time": "2021-04-04T23:04:47.146957",
     "exception": false,
     "start_time": "2021-04-04T23:04:47.088332",
     "status": "completed"
    },
    "tags": []
   },
   "outputs": [],
   "source": [
    "from sklearn.model_selection import train_test_split"
   ]
  },
  {
   "cell_type": "code",
   "execution_count": 15,
   "id": "274004ce",
   "metadata": {
    "execution": {
     "iopub.execute_input": "2021-04-04T23:04:47.198168Z",
     "iopub.status.busy": "2021-04-04T23:04:47.197249Z",
     "iopub.status.idle": "2021-04-04T23:04:47.202125Z",
     "shell.execute_reply": "2021-04-04T23:04:47.202711Z"
    },
    "papermill": {
     "duration": 0.03144,
     "end_time": "2021-04-04T23:04:47.202891",
     "exception": false,
     "start_time": "2021-04-04T23:04:47.171451",
     "status": "completed"
    },
    "scrolled": true,
    "tags": []
   },
   "outputs": [],
   "source": [
    "inlier, outlier = working_df[working_df['defects'] == 0], working_df[working_df['defects'] == 1]"
   ]
  },
  {
   "cell_type": "code",
   "execution_count": 16,
   "id": "753c7b03",
   "metadata": {
    "execution": {
     "iopub.execute_input": "2021-04-04T23:04:47.265319Z",
     "iopub.status.busy": "2021-04-04T23:04:47.263788Z",
     "iopub.status.idle": "2021-04-04T23:04:47.268863Z",
     "shell.execute_reply": "2021-04-04T23:04:47.269366Z"
    },
    "papermill": {
     "duration": 0.042207,
     "end_time": "2021-04-04T23:04:47.269521",
     "exception": false,
     "start_time": "2021-04-04T23:04:47.227314",
     "status": "completed"
    },
    "tags": []
   },
   "outputs": [],
   "source": [
    "X_inlier = inlier.copy()\n",
    "y_inlier = X_inlier.pop('defects')\n",
    "X_outlier = outlier.copy()\n",
    "y_outlier = X_outlier.pop('defects')"
   ]
  },
  {
   "cell_type": "code",
   "execution_count": 17,
   "id": "2ba43193",
   "metadata": {
    "execution": {
     "iopub.execute_input": "2021-04-04T23:04:47.324524Z",
     "iopub.status.busy": "2021-04-04T23:04:47.323453Z",
     "iopub.status.idle": "2021-04-04T23:04:47.326871Z",
     "shell.execute_reply": "2021-04-04T23:04:47.327320Z"
    },
    "papermill": {
     "duration": 0.035398,
     "end_time": "2021-04-04T23:04:47.327457",
     "exception": false,
     "start_time": "2021-04-04T23:04:47.292059",
     "status": "completed"
    },
    "tags": []
   },
   "outputs": [],
   "source": [
    "test_size = dataset_config['test_size']\n",
    "random_state = dataset_config['random_state']\n",
    "\n",
    "X_inlier_train, X_inlier_test, y_inlier_train, y_inlier_test = train_test_split(\n",
    "    X_inlier,\n",
    "    y_inlier,\n",
    "    test_size=test_size,\n",
    "    random_state=random_state\n",
    ")"
   ]
  },
  {
   "cell_type": "code",
   "execution_count": 18,
   "id": "0b7582ca",
   "metadata": {
    "execution": {
     "iopub.execute_input": "2021-04-04T23:04:47.395893Z",
     "iopub.status.busy": "2021-04-04T23:04:47.394522Z",
     "iopub.status.idle": "2021-04-04T23:04:47.397998Z",
     "shell.execute_reply": "2021-04-04T23:04:47.397166Z"
    },
    "papermill": {
     "duration": 0.04245,
     "end_time": "2021-04-04T23:04:47.398168",
     "exception": false,
     "start_time": "2021-04-04T23:04:47.355718",
     "status": "completed"
    },
    "tags": []
   },
   "outputs": [],
   "source": [
    "test_outlier_size = dataset_config['test_outlier_size']\n",
    "if test_outlier_size > 0.0:\n",
    "    X_outlier_train, X_outlier_test, y_outlier_train, y_outlier_test = train_test_split(\n",
    "        X_outlier,\n",
    "        y_outlier,\n",
    "        test_size=test_outlier_size,\n",
    "        random_state=random_state\n",
    "    )\n",
    "else:\n",
    "    X_outlier_train, y_outlier_train = pd.DataFrame(columns=X_outlier.columns), pd.Series(dtype='int64')\n",
    "    X_outlier_test, y_outlier_test = X_outlier.copy(), y_outlier.copy()"
   ]
  },
  {
   "cell_type": "code",
   "execution_count": 19,
   "id": "c34363db",
   "metadata": {
    "execution": {
     "iopub.execute_input": "2021-04-04T23:04:47.468778Z",
     "iopub.status.busy": "2021-04-04T23:04:47.468058Z",
     "iopub.status.idle": "2021-04-04T23:04:47.469786Z",
     "shell.execute_reply": "2021-04-04T23:04:47.470250Z"
    },
    "papermill": {
     "duration": 0.0365,
     "end_time": "2021-04-04T23:04:47.470553",
     "exception": false,
     "start_time": "2021-04-04T23:04:47.434053",
     "status": "completed"
    },
    "tags": []
   },
   "outputs": [],
   "source": [
    "X_train, y_train = pd.concat([X_inlier_train, X_outlier_train], ignore_index=True), pd.concat([y_inlier_train, y_outlier_train], ignore_index=True)\n",
    "X_test, y_test = pd.concat([X_inlier_test, X_outlier_test], ignore_index=True), pd.concat([y_inlier_test, y_outlier_test], ignore_index=True)"
   ]
  },
  {
   "cell_type": "markdown",
   "id": "7cde7309",
   "metadata": {
    "papermill": {
     "duration": 0.03226,
     "end_time": "2021-04-04T23:04:47.530224",
     "exception": false,
     "start_time": "2021-04-04T23:04:47.497964",
     "status": "completed"
    },
    "tags": []
   },
   "source": [
    "# Model"
   ]
  },
  {
   "cell_type": "code",
   "execution_count": 20,
   "id": "2b12a415",
   "metadata": {
    "execution": {
     "iopub.execute_input": "2021-04-04T23:04:47.590412Z",
     "iopub.status.busy": "2021-04-04T23:04:47.589675Z",
     "iopub.status.idle": "2021-04-04T23:04:47.591476Z",
     "shell.execute_reply": "2021-04-04T23:04:47.592022Z"
    },
    "papermill": {
     "duration": 0.037668,
     "end_time": "2021-04-04T23:04:47.592168",
     "exception": false,
     "start_time": "2021-04-04T23:04:47.554500",
     "status": "completed"
    },
    "tags": []
   },
   "outputs": [],
   "source": [
    "from math import sqrt\n",
    "\n",
    "\n",
    "class KNNDataDescription:\n",
    "    def __init__(self, k=5, outlier_threshold=1.0):\n",
    "        self.k = k\n",
    "        self.outlier_threshold = outlier_threshold\n",
    "        self.X = []\n",
    "    \n",
    "    def fit(self, X):\n",
    "        self.X = [features.to_list() for index, features in X.iterrows()]\n",
    "\n",
    "    def predict(self, entries):\n",
    "        return [self.predict_entry(features.to_list()) for index, features in entries.iterrows()]\n",
    "    \n",
    "    def predict_entry(self, entry):\n",
    "        kth_neighbor, kth_distance = self.get_kth_neighbor(entry, self.k)\n",
    "        kth_kth_neighbor, kth_kth_distance = self.get_kth_neighbor(kth_neighbor, self.k + 1)\n",
    "\n",
    "        outlier_score = kth_distance / (kth_kth_distance + 0.000001)\n",
    "\n",
    "        return 1 if outlier_score < self.outlier_threshold else -1\n",
    "        \n",
    "    def euclidean_distance(self, features1, features2):\n",
    "        distance = 0.0\n",
    "        for feat1, feat2 in zip(features1, features2):\n",
    "            distance += (feat1 - feat2)**2\n",
    "                \n",
    "        return sqrt(distance)\n",
    "\n",
    "    def get_neighbors(self, entry, k):\n",
    "        distance_to_data_points = [\n",
    "            (data_point, self.euclidean_distance(entry, data_point))\n",
    "            for data_point in self.X\n",
    "        ]\n",
    "        sorted_by_distance = sorted(distance_to_data_points, key=lambda tup: tup[1])\n",
    "        neighbors = sorted_by_distance[:k]\n",
    "        return neighbors\n",
    "\n",
    "    def get_kth_neighbor(self, entry, k):\n",
    "        neighbors = self.get_neighbors(entry, k)\n",
    "        return neighbors[-1]\n"
   ]
  },
  {
   "cell_type": "code",
   "execution_count": 21,
   "id": "1fa9ec1c",
   "metadata": {
    "execution": {
     "iopub.execute_input": "2021-04-04T23:04:47.651109Z",
     "iopub.status.busy": "2021-04-04T23:04:47.649867Z",
     "iopub.status.idle": "2021-04-04T23:04:47.675624Z",
     "shell.execute_reply": "2021-04-04T23:04:47.676210Z"
    },
    "papermill": {
     "duration": 0.059547,
     "end_time": "2021-04-04T23:04:47.676388",
     "exception": false,
     "start_time": "2021-04-04T23:04:47.616841",
     "status": "completed"
    },
    "tags": []
   },
   "outputs": [],
   "source": [
    "from sklearn.svm import OneClassSVM\n",
    "\n",
    "\n",
    "models = {\n",
    "    'oneclasssvm': OneClassSVM,\n",
    "    'knndatadescription': KNNDataDescription,\n",
    "}"
   ]
  },
  {
   "cell_type": "code",
   "execution_count": 22,
   "id": "4d72a0b1",
   "metadata": {
    "execution": {
     "iopub.execute_input": "2021-04-04T23:04:47.730551Z",
     "iopub.status.busy": "2021-04-04T23:04:47.729522Z",
     "iopub.status.idle": "2021-04-04T23:04:47.732672Z",
     "shell.execute_reply": "2021-04-04T23:04:47.733781Z"
    },
    "papermill": {
     "duration": 0.033841,
     "end_time": "2021-04-04T23:04:47.734133",
     "exception": false,
     "start_time": "2021-04-04T23:04:47.700292",
     "status": "completed"
    },
    "scrolled": true,
    "tags": []
   },
   "outputs": [],
   "source": [
    "model_cls = models[model_config['model_type']]\n",
    "model = model_cls(**model_config['hyperparameters'])"
   ]
  },
  {
   "cell_type": "markdown",
   "id": "e00cff3b",
   "metadata": {
    "papermill": {
     "duration": 0.032609,
     "end_time": "2021-04-04T23:04:47.793147",
     "exception": false,
     "start_time": "2021-04-04T23:04:47.760538",
     "status": "completed"
    },
    "tags": []
   },
   "source": [
    "# Fit"
   ]
  },
  {
   "cell_type": "code",
   "execution_count": 23,
   "id": "8b2ded89",
   "metadata": {
    "execution": {
     "iopub.execute_input": "2021-04-04T23:04:47.859558Z",
     "iopub.status.busy": "2021-04-04T23:04:47.858829Z",
     "iopub.status.idle": "2021-04-04T23:04:47.889597Z",
     "shell.execute_reply": "2021-04-04T23:04:47.889012Z"
    },
    "papermill": {
     "duration": 0.064569,
     "end_time": "2021-04-04T23:04:47.889716",
     "exception": false,
     "start_time": "2021-04-04T23:04:47.825147",
     "status": "completed"
    },
    "tags": []
   },
   "outputs": [
    {
     "data": {
      "text/plain": [
       "OneClassSVM()"
      ]
     },
     "execution_count": 23,
     "metadata": {},
     "output_type": "execute_result"
    }
   ],
   "source": [
    "model.fit(X_train)"
   ]
  },
  {
   "cell_type": "markdown",
   "id": "f99999f7",
   "metadata": {
    "papermill": {
     "duration": 0.027883,
     "end_time": "2021-04-04T23:04:47.942608",
     "exception": false,
     "start_time": "2021-04-04T23:04:47.914725",
     "status": "completed"
    },
    "tags": []
   },
   "source": [
    "# Predict"
   ]
  },
  {
   "cell_type": "code",
   "execution_count": 24,
   "id": "6536fbf7",
   "metadata": {
    "execution": {
     "iopub.execute_input": "2021-04-04T23:04:48.002993Z",
     "iopub.status.busy": "2021-04-04T23:04:48.002413Z",
     "iopub.status.idle": "2021-04-04T23:04:48.017503Z",
     "shell.execute_reply": "2021-04-04T23:04:48.016931Z"
    },
    "papermill": {
     "duration": 0.046809,
     "end_time": "2021-04-04T23:04:48.017661",
     "exception": false,
     "start_time": "2021-04-04T23:04:47.970852",
     "status": "completed"
    },
    "tags": []
   },
   "outputs": [],
   "source": [
    "predictions = model.predict(X_test)"
   ]
  },
  {
   "cell_type": "markdown",
   "id": "aa1c9881",
   "metadata": {
    "papermill": {
     "duration": 0.027217,
     "end_time": "2021-04-04T23:04:48.071664",
     "exception": false,
     "start_time": "2021-04-04T23:04:48.044447",
     "status": "completed"
    },
    "tags": []
   },
   "source": [
    "# Evaluate"
   ]
  },
  {
   "cell_type": "code",
   "execution_count": 25,
   "id": "894f0f04",
   "metadata": {
    "execution": {
     "iopub.execute_input": "2021-04-04T23:04:48.128233Z",
     "iopub.status.busy": "2021-04-04T23:04:48.127103Z",
     "iopub.status.idle": "2021-04-04T23:04:48.129699Z",
     "shell.execute_reply": "2021-04-04T23:04:48.130203Z"
    },
    "papermill": {
     "duration": 0.032944,
     "end_time": "2021-04-04T23:04:48.130359",
     "exception": false,
     "start_time": "2021-04-04T23:04:48.097415",
     "status": "completed"
    },
    "tags": []
   },
   "outputs": [],
   "source": [
    "from sklearn.metrics import f1_score"
   ]
  },
  {
   "cell_type": "code",
   "execution_count": 26,
   "id": "211744d3",
   "metadata": {
    "execution": {
     "iopub.execute_input": "2021-04-04T23:04:48.187530Z",
     "iopub.status.busy": "2021-04-04T23:04:48.186461Z",
     "iopub.status.idle": "2021-04-04T23:04:48.189103Z",
     "shell.execute_reply": "2021-04-04T23:04:48.189577Z"
    },
    "papermill": {
     "duration": 0.035378,
     "end_time": "2021-04-04T23:04:48.189724",
     "exception": false,
     "start_time": "2021-04-04T23:04:48.154346",
     "status": "completed"
    },
    "tags": []
   },
   "outputs": [],
   "source": [
    "y_test = y_test.replace([0, 1], [1, -1])"
   ]
  },
  {
   "cell_type": "code",
   "execution_count": 27,
   "id": "d68a9204",
   "metadata": {
    "execution": {
     "iopub.execute_input": "2021-04-04T23:04:48.248060Z",
     "iopub.status.busy": "2021-04-04T23:04:48.247100Z",
     "iopub.status.idle": "2021-04-04T23:04:48.249722Z",
     "shell.execute_reply": "2021-04-04T23:04:48.250202Z"
    },
    "papermill": {
     "duration": 0.036391,
     "end_time": "2021-04-04T23:04:48.250353",
     "exception": false,
     "start_time": "2021-04-04T23:04:48.213962",
     "status": "completed"
    },
    "tags": []
   },
   "outputs": [],
   "source": [
    "def evaluate(truths, predictions, pos_label, neg_label):\n",
    "    TP = 0\n",
    "    FP = 0\n",
    "    TN = 0\n",
    "    FN = 0\n",
    "\n",
    "    for truth, pred in zip(truths, predictions): \n",
    "        if truth == pred == pos_label:\n",
    "           TP += 1\n",
    "        elif pred == pos_label and truth == neg_label:\n",
    "           FP += 1\n",
    "        elif truth == pred == neg_label:\n",
    "           TN += 1\n",
    "        elif pred == neg_label and truth == pos_label:\n",
    "           FN += 1\n",
    "\n",
    "    precision = TP / (TP + FP)\n",
    "    sensitivity = TP / (TP + FN)\n",
    "    \n",
    "    return {\n",
    "        'true_pos': TP,\n",
    "        'false_pos': FP,\n",
    "        'false_neg': FN,\n",
    "        'true_neg': TN,\n",
    "        'precision': precision,\n",
    "        'sensitivity': sensitivity,\n",
    "        'f1': (2 * (precision * sensitivity)) / (precision + sensitivity)\n",
    "    }\n",
    "\n",
    "score = evaluate(y_test, predictions, pos_label=-1, neg_label=1)"
   ]
  },
  {
   "cell_type": "markdown",
   "id": "93596516",
   "metadata": {
    "papermill": {
     "duration": 0.027836,
     "end_time": "2021-04-04T23:04:48.303417",
     "exception": false,
     "start_time": "2021-04-04T23:04:48.275581",
     "status": "completed"
    },
    "tags": []
   },
   "source": [
    "# Report"
   ]
  },
  {
   "cell_type": "code",
   "execution_count": 28,
   "id": "bea5fba1",
   "metadata": {
    "execution": {
     "iopub.execute_input": "2021-04-04T23:04:48.367346Z",
     "iopub.status.busy": "2021-04-04T23:04:48.366441Z",
     "iopub.status.idle": "2021-04-04T23:04:48.373020Z",
     "shell.execute_reply": "2021-04-04T23:04:48.370809Z"
    },
    "papermill": {
     "duration": 0.045931,
     "end_time": "2021-04-04T23:04:48.373399",
     "exception": false,
     "start_time": "2021-04-04T23:04:48.327468",
     "status": "completed"
    },
    "tags": []
   },
   "outputs": [],
   "source": [
    "import csv\n",
    "\n",
    "\n",
    "dataset_config_name = DATASET_CONFIG_PATH.split('/')[-1].split('.')[0]\n",
    "model_config_name = MODEL_CONFIG_PATH.split('/')[-1].split('.')[0]\n",
    "configuration = f\"dataset_{dataset_config_name}-model_{model_config_name}\"\n",
    "\n",
    "with open('results.csv', 'a') as f:\n",
    "    report = dict({'configuration': configuration}, **score)\n",
    "    writer = csv.DictWriter(f, report.keys())\n",
    "    writer.writerow(report)"
   ]
  }
 ],
 "metadata": {
  "celltoolbar": "Tags",
  "kernelspec": {
   "display_name": "Python 3",
   "language": "python",
   "name": "python3"
  },
  "language_info": {
   "codemirror_mode": {
    "name": "ipython",
    "version": 3
   },
   "file_extension": ".py",
   "mimetype": "text/x-python",
   "name": "python",
   "nbconvert_exporter": "python",
   "pygments_lexer": "ipython3",
   "version": "3.9.1"
  },
  "papermill": {
   "default_parameters": {},
   "duration": 6.066337,
   "end_time": "2021-04-04T23:04:49.997704",
   "environment_variables": {},
   "exception": null,
   "input_path": "main.ipynb",
   "output_path": "runs/dataset_000079-model_000004.ipynb",
   "parameters": {
    "DATASET_CONFIG_PATH": "config/dataset/000079.json",
    "MODEL_CONFIG_PATH": "config/model/000004.json",
    "PROFILE_REPORTING": false
   },
   "start_time": "2021-04-04T23:04:43.931367",
   "version": "2.3.3"
  }
 },
 "nbformat": 4,
 "nbformat_minor": 5
}