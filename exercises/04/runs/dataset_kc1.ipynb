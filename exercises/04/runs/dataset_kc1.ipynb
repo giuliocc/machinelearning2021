{
 "cells": [
  {
   "cell_type": "markdown",
   "id": "51c71c25",
   "metadata": {
    "papermill": {
     "duration": 0.025197,
     "end_time": "2021-04-13T07:23:16.646050",
     "exception": false,
     "start_time": "2021-04-13T07:23:16.620853",
     "status": "completed"
    },
    "tags": []
   },
   "source": [
    "# Parametrizing"
   ]
  },
  {
   "cell_type": "code",
   "execution_count": 1,
   "id": "3b136394",
   "metadata": {
    "execution": {
     "iopub.execute_input": "2021-04-13T07:23:16.691040Z",
     "iopub.status.busy": "2021-04-13T07:23:16.690074Z",
     "iopub.status.idle": "2021-04-13T07:23:16.692432Z",
     "shell.execute_reply": "2021-04-13T07:23:16.693204Z"
    },
    "papermill": {
     "duration": 0.03094,
     "end_time": "2021-04-13T07:23:16.693484",
     "exception": false,
     "start_time": "2021-04-13T07:23:16.662544",
     "status": "completed"
    },
    "tags": [
     "parameters"
    ]
   },
   "outputs": [],
   "source": [
    "DATASET_CONFIG_PATH = 'config/dataset/kc1.json'\n",
    "PROFILE_REPORTING = False"
   ]
  },
  {
   "cell_type": "code",
   "execution_count": 2,
   "id": "98b5b5d3",
   "metadata": {
    "execution": {
     "iopub.execute_input": "2021-04-13T07:23:16.735363Z",
     "iopub.status.busy": "2021-04-13T07:23:16.734593Z",
     "iopub.status.idle": "2021-04-13T07:23:16.737001Z",
     "shell.execute_reply": "2021-04-13T07:23:16.737912Z"
    },
    "papermill": {
     "duration": 0.024292,
     "end_time": "2021-04-13T07:23:16.738175",
     "exception": false,
     "start_time": "2021-04-13T07:23:16.713883",
     "status": "completed"
    },
    "tags": [
     "injected-parameters"
    ]
   },
   "outputs": [],
   "source": [
    "# Parameters\n",
    "DATASET_CONFIG_PATH = \"config/dataset/kc1.json\"\n",
    "PROFILE_REPORTING = False\n"
   ]
  },
  {
   "cell_type": "code",
   "execution_count": 3,
   "id": "b80f2a10",
   "metadata": {
    "execution": {
     "iopub.execute_input": "2021-04-13T07:23:16.783792Z",
     "iopub.status.busy": "2021-04-13T07:23:16.782641Z",
     "iopub.status.idle": "2021-04-13T07:23:16.786550Z",
     "shell.execute_reply": "2021-04-13T07:23:16.785936Z"
    },
    "papermill": {
     "duration": 0.02744,
     "end_time": "2021-04-13T07:23:16.786694",
     "exception": false,
     "start_time": "2021-04-13T07:23:16.759254",
     "status": "completed"
    },
    "tags": []
   },
   "outputs": [],
   "source": [
    "import json\n",
    "\n",
    "\n",
    "with open(DATASET_CONFIG_PATH) as f:\n",
    "    dataset_config = json.load(f)"
   ]
  },
  {
   "cell_type": "markdown",
   "id": "9a4b0e2d",
   "metadata": {
    "papermill": {
     "duration": 0.01723,
     "end_time": "2021-04-13T07:23:16.824738",
     "exception": false,
     "start_time": "2021-04-13T07:23:16.807508",
     "status": "completed"
    },
    "tags": []
   },
   "source": [
    "# Profiling"
   ]
  },
  {
   "cell_type": "code",
   "execution_count": 4,
   "id": "a3e0289b",
   "metadata": {
    "execution": {
     "iopub.execute_input": "2021-04-13T07:23:16.867205Z",
     "iopub.status.busy": "2021-04-13T07:23:16.866203Z",
     "iopub.status.idle": "2021-04-13T07:23:18.175436Z",
     "shell.execute_reply": "2021-04-13T07:23:18.174545Z"
    },
    "papermill": {
     "duration": 1.330658,
     "end_time": "2021-04-13T07:23:18.175611",
     "exception": false,
     "start_time": "2021-04-13T07:23:16.844953",
     "status": "completed"
    },
    "tags": []
   },
   "outputs": [],
   "source": [
    "import pandas as pd\n",
    "from pandas_profiling import ProfileReport"
   ]
  },
  {
   "cell_type": "code",
   "execution_count": 5,
   "id": "ee6c0666",
   "metadata": {
    "execution": {
     "iopub.execute_input": "2021-04-13T07:23:18.223032Z",
     "iopub.status.busy": "2021-04-13T07:23:18.221996Z",
     "iopub.status.idle": "2021-04-13T07:23:18.238741Z",
     "shell.execute_reply": "2021-04-13T07:23:18.237509Z"
    },
    "papermill": {
     "duration": 0.041556,
     "end_time": "2021-04-13T07:23:18.239006",
     "exception": false,
     "start_time": "2021-04-13T07:23:18.197450",
     "status": "completed"
    },
    "tags": []
   },
   "outputs": [],
   "source": [
    "df = pd.read_csv(dataset_config['dataset_path'])"
   ]
  },
  {
   "cell_type": "code",
   "execution_count": 6,
   "id": "7eca6c4a",
   "metadata": {
    "execution": {
     "iopub.execute_input": "2021-04-13T07:23:18.282703Z",
     "iopub.status.busy": "2021-04-13T07:23:18.281976Z",
     "iopub.status.idle": "2021-04-13T07:23:18.298462Z",
     "shell.execute_reply": "2021-04-13T07:23:18.297849Z"
    },
    "papermill": {
     "duration": 0.038954,
     "end_time": "2021-04-13T07:23:18.298586",
     "exception": false,
     "start_time": "2021-04-13T07:23:18.259632",
     "status": "completed"
    },
    "tags": []
   },
   "outputs": [
    {
     "name": "stdout",
     "output_type": "stream",
     "text": [
      "<class 'pandas.core.frame.DataFrame'>\n",
      "RangeIndex: 2109 entries, 0 to 2108\n",
      "Data columns (total 23 columns):\n",
      " #   Column             Non-Null Count  Dtype  \n",
      "---  ------             --------------  -----  \n",
      " 0   id                 2109 non-null   int64  \n",
      " 1   loc                2109 non-null   float64\n",
      " 2   v(g)               2109 non-null   float64\n",
      " 3   ev(g)              2109 non-null   float64\n",
      " 4   iv(g)              2109 non-null   float64\n",
      " 5   n                  2109 non-null   float64\n",
      " 6   v                  2109 non-null   float64\n",
      " 7   l                  2109 non-null   float64\n",
      " 8   d                  2109 non-null   float64\n",
      " 9   i                  2109 non-null   float64\n",
      " 10  e                  2109 non-null   float64\n",
      " 11  b                  2109 non-null   float64\n",
      " 12  t                  2109 non-null   float64\n",
      " 13  lOCode             2109 non-null   int64  \n",
      " 14  lOComment          2109 non-null   int64  \n",
      " 15  lOBlank            2109 non-null   int64  \n",
      " 16  locCodeAndComment  2109 non-null   int64  \n",
      " 17  uniq_Op            2109 non-null   float64\n",
      " 18  uniq_Opnd          2109 non-null   float64\n",
      " 19  total_Op           2109 non-null   float64\n",
      " 20  total_Opnd         2109 non-null   float64\n",
      " 21  branchCount        2109 non-null   float64\n",
      " 22  defects            2109 non-null   bool   \n",
      "dtypes: bool(1), float64(17), int64(5)\n",
      "memory usage: 364.7 KB\n"
     ]
    }
   ],
   "source": [
    "df.info()"
   ]
  },
  {
   "cell_type": "code",
   "execution_count": 7,
   "id": "3638e5e8",
   "metadata": {
    "execution": {
     "iopub.execute_input": "2021-04-13T07:23:18.343176Z",
     "iopub.status.busy": "2021-04-13T07:23:18.342538Z",
     "iopub.status.idle": "2021-04-13T07:23:18.366314Z",
     "shell.execute_reply": "2021-04-13T07:23:18.366808Z"
    },
    "papermill": {
     "duration": 0.05024,
     "end_time": "2021-04-13T07:23:18.366960",
     "exception": false,
     "start_time": "2021-04-13T07:23:18.316720",
     "status": "completed"
    },
    "tags": []
   },
   "outputs": [
    {
     "data": {
      "text/html": [
       "<div>\n",
       "<style scoped>\n",
       "    .dataframe tbody tr th:only-of-type {\n",
       "        vertical-align: middle;\n",
       "    }\n",
       "\n",
       "    .dataframe tbody tr th {\n",
       "        vertical-align: top;\n",
       "    }\n",
       "\n",
       "    .dataframe thead th {\n",
       "        text-align: right;\n",
       "    }\n",
       "</style>\n",
       "<table border=\"1\" class=\"dataframe\">\n",
       "  <thead>\n",
       "    <tr style=\"text-align: right;\">\n",
       "      <th></th>\n",
       "      <th>id</th>\n",
       "      <th>loc</th>\n",
       "      <th>v(g)</th>\n",
       "      <th>ev(g)</th>\n",
       "      <th>iv(g)</th>\n",
       "      <th>n</th>\n",
       "      <th>v</th>\n",
       "      <th>l</th>\n",
       "      <th>d</th>\n",
       "      <th>i</th>\n",
       "      <th>...</th>\n",
       "      <th>lOCode</th>\n",
       "      <th>lOComment</th>\n",
       "      <th>lOBlank</th>\n",
       "      <th>locCodeAndComment</th>\n",
       "      <th>uniq_Op</th>\n",
       "      <th>uniq_Opnd</th>\n",
       "      <th>total_Op</th>\n",
       "      <th>total_Opnd</th>\n",
       "      <th>branchCount</th>\n",
       "      <th>defects</th>\n",
       "    </tr>\n",
       "  </thead>\n",
       "  <tbody>\n",
       "    <tr>\n",
       "      <th>0</th>\n",
       "      <td>1</td>\n",
       "      <td>1.1</td>\n",
       "      <td>1.4</td>\n",
       "      <td>1.4</td>\n",
       "      <td>1.4</td>\n",
       "      <td>1.3</td>\n",
       "      <td>1.30</td>\n",
       "      <td>1.30</td>\n",
       "      <td>1.30</td>\n",
       "      <td>1.30</td>\n",
       "      <td>...</td>\n",
       "      <td>2</td>\n",
       "      <td>2</td>\n",
       "      <td>2</td>\n",
       "      <td>2</td>\n",
       "      <td>1.2</td>\n",
       "      <td>1.2</td>\n",
       "      <td>1.2</td>\n",
       "      <td>1.2</td>\n",
       "      <td>1.4</td>\n",
       "      <td>False</td>\n",
       "    </tr>\n",
       "    <tr>\n",
       "      <th>1</th>\n",
       "      <td>2</td>\n",
       "      <td>1.0</td>\n",
       "      <td>1.0</td>\n",
       "      <td>1.0</td>\n",
       "      <td>1.0</td>\n",
       "      <td>1.0</td>\n",
       "      <td>1.00</td>\n",
       "      <td>1.00</td>\n",
       "      <td>1.00</td>\n",
       "      <td>1.00</td>\n",
       "      <td>...</td>\n",
       "      <td>1</td>\n",
       "      <td>1</td>\n",
       "      <td>1</td>\n",
       "      <td>1</td>\n",
       "      <td>1.0</td>\n",
       "      <td>1.0</td>\n",
       "      <td>1.0</td>\n",
       "      <td>1.0</td>\n",
       "      <td>1.0</td>\n",
       "      <td>True</td>\n",
       "    </tr>\n",
       "    <tr>\n",
       "      <th>2</th>\n",
       "      <td>3</td>\n",
       "      <td>83.0</td>\n",
       "      <td>11.0</td>\n",
       "      <td>1.0</td>\n",
       "      <td>11.0</td>\n",
       "      <td>171.0</td>\n",
       "      <td>927.89</td>\n",
       "      <td>0.04</td>\n",
       "      <td>23.04</td>\n",
       "      <td>40.27</td>\n",
       "      <td>...</td>\n",
       "      <td>65</td>\n",
       "      <td>10</td>\n",
       "      <td>6</td>\n",
       "      <td>0</td>\n",
       "      <td>18.0</td>\n",
       "      <td>25.0</td>\n",
       "      <td>107.0</td>\n",
       "      <td>64.0</td>\n",
       "      <td>21.0</td>\n",
       "      <td>True</td>\n",
       "    </tr>\n",
       "    <tr>\n",
       "      <th>3</th>\n",
       "      <td>4</td>\n",
       "      <td>46.0</td>\n",
       "      <td>8.0</td>\n",
       "      <td>6.0</td>\n",
       "      <td>8.0</td>\n",
       "      <td>141.0</td>\n",
       "      <td>769.78</td>\n",
       "      <td>0.07</td>\n",
       "      <td>14.86</td>\n",
       "      <td>51.81</td>\n",
       "      <td>...</td>\n",
       "      <td>37</td>\n",
       "      <td>2</td>\n",
       "      <td>5</td>\n",
       "      <td>0</td>\n",
       "      <td>16.0</td>\n",
       "      <td>28.0</td>\n",
       "      <td>89.0</td>\n",
       "      <td>52.0</td>\n",
       "      <td>15.0</td>\n",
       "      <td>True</td>\n",
       "    </tr>\n",
       "    <tr>\n",
       "      <th>4</th>\n",
       "      <td>5</td>\n",
       "      <td>25.0</td>\n",
       "      <td>3.0</td>\n",
       "      <td>1.0</td>\n",
       "      <td>3.0</td>\n",
       "      <td>58.0</td>\n",
       "      <td>254.75</td>\n",
       "      <td>0.11</td>\n",
       "      <td>9.35</td>\n",
       "      <td>27.25</td>\n",
       "      <td>...</td>\n",
       "      <td>21</td>\n",
       "      <td>0</td>\n",
       "      <td>2</td>\n",
       "      <td>0</td>\n",
       "      <td>11.0</td>\n",
       "      <td>10.0</td>\n",
       "      <td>41.0</td>\n",
       "      <td>17.0</td>\n",
       "      <td>5.0</td>\n",
       "      <td>True</td>\n",
       "    </tr>\n",
       "  </tbody>\n",
       "</table>\n",
       "<p>5 rows × 23 columns</p>\n",
       "</div>"
      ],
      "text/plain": [
       "   id   loc  v(g)  ev(g)  iv(g)      n       v     l      d      i  ...  \\\n",
       "0   1   1.1   1.4    1.4    1.4    1.3    1.30  1.30   1.30   1.30  ...   \n",
       "1   2   1.0   1.0    1.0    1.0    1.0    1.00  1.00   1.00   1.00  ...   \n",
       "2   3  83.0  11.0    1.0   11.0  171.0  927.89  0.04  23.04  40.27  ...   \n",
       "3   4  46.0   8.0    6.0    8.0  141.0  769.78  0.07  14.86  51.81  ...   \n",
       "4   5  25.0   3.0    1.0    3.0   58.0  254.75  0.11   9.35  27.25  ...   \n",
       "\n",
       "   lOCode  lOComment  lOBlank  locCodeAndComment  uniq_Op  uniq_Opnd  \\\n",
       "0       2          2        2                  2      1.2        1.2   \n",
       "1       1          1        1                  1      1.0        1.0   \n",
       "2      65         10        6                  0     18.0       25.0   \n",
       "3      37          2        5                  0     16.0       28.0   \n",
       "4      21          0        2                  0     11.0       10.0   \n",
       "\n",
       "   total_Op  total_Opnd  branchCount  defects  \n",
       "0       1.2         1.2          1.4    False  \n",
       "1       1.0         1.0          1.0     True  \n",
       "2     107.0        64.0         21.0     True  \n",
       "3      89.0        52.0         15.0     True  \n",
       "4      41.0        17.0          5.0     True  \n",
       "\n",
       "[5 rows x 23 columns]"
      ]
     },
     "execution_count": 7,
     "metadata": {},
     "output_type": "execute_result"
    }
   ],
   "source": [
    "df.head()"
   ]
  },
  {
   "cell_type": "code",
   "execution_count": 8,
   "id": "733e95eb",
   "metadata": {
    "execution": {
     "iopub.execute_input": "2021-04-13T07:23:18.408258Z",
     "iopub.status.busy": "2021-04-13T07:23:18.407503Z",
     "iopub.status.idle": "2021-04-13T07:23:18.409836Z",
     "shell.execute_reply": "2021-04-13T07:23:18.409321Z"
    },
    "papermill": {
     "duration": 0.024528,
     "end_time": "2021-04-13T07:23:18.409959",
     "exception": false,
     "start_time": "2021-04-13T07:23:18.385431",
     "status": "completed"
    },
    "tags": []
   },
   "outputs": [],
   "source": [
    "del df['id']"
   ]
  },
  {
   "cell_type": "code",
   "execution_count": 9,
   "id": "6ff6f5b0",
   "metadata": {
    "execution": {
     "iopub.execute_input": "2021-04-13T07:23:18.453918Z",
     "iopub.status.busy": "2021-04-13T07:23:18.453168Z",
     "iopub.status.idle": "2021-04-13T07:23:18.455376Z",
     "shell.execute_reply": "2021-04-13T07:23:18.455891Z"
    },
    "papermill": {
     "duration": 0.026685,
     "end_time": "2021-04-13T07:23:18.456042",
     "exception": false,
     "start_time": "2021-04-13T07:23:18.429357",
     "status": "completed"
    },
    "tags": []
   },
   "outputs": [],
   "source": [
    "if PROFILE_REPORTING:\n",
    "    ProfileReport(df).to_widgets()"
   ]
  },
  {
   "cell_type": "markdown",
   "id": "1deaf3f0",
   "metadata": {
    "papermill": {
     "duration": 0.017782,
     "end_time": "2021-04-13T07:23:18.492182",
     "exception": false,
     "start_time": "2021-04-13T07:23:18.474400",
     "status": "completed"
    },
    "tags": []
   },
   "source": [
    "# Preprocess"
   ]
  },
  {
   "cell_type": "code",
   "execution_count": 10,
   "id": "1513e563",
   "metadata": {
    "execution": {
     "iopub.execute_input": "2021-04-13T07:23:18.532706Z",
     "iopub.status.busy": "2021-04-13T07:23:18.531846Z",
     "iopub.status.idle": "2021-04-13T07:23:18.534635Z",
     "shell.execute_reply": "2021-04-13T07:23:18.534027Z"
    },
    "papermill": {
     "duration": 0.02467,
     "end_time": "2021-04-13T07:23:18.534761",
     "exception": false,
     "start_time": "2021-04-13T07:23:18.510091",
     "status": "completed"
    },
    "tags": []
   },
   "outputs": [],
   "source": [
    "working_df = df.copy()"
   ]
  },
  {
   "cell_type": "code",
   "execution_count": 11,
   "id": "3b26d675",
   "metadata": {
    "execution": {
     "iopub.execute_input": "2021-04-13T07:23:18.580228Z",
     "iopub.status.busy": "2021-04-13T07:23:18.579424Z",
     "iopub.status.idle": "2021-04-13T07:23:18.581985Z",
     "shell.execute_reply": "2021-04-13T07:23:18.582522Z"
    },
    "papermill": {
     "duration": 0.027697,
     "end_time": "2021-04-13T07:23:18.582685",
     "exception": false,
     "start_time": "2021-04-13T07:23:18.554988",
     "status": "completed"
    },
    "tags": []
   },
   "outputs": [],
   "source": [
    "working_df['defects'] = working_df['defects'].replace([False, True], [0, 1])"
   ]
  },
  {
   "cell_type": "code",
   "execution_count": 12,
   "id": "9a17bc29",
   "metadata": {
    "execution": {
     "iopub.execute_input": "2021-04-13T07:23:18.626939Z",
     "iopub.status.busy": "2021-04-13T07:23:18.626244Z",
     "iopub.status.idle": "2021-04-13T07:23:18.636259Z",
     "shell.execute_reply": "2021-04-13T07:23:18.636801Z"
    },
    "papermill": {
     "duration": 0.03356,
     "end_time": "2021-04-13T07:23:18.636963",
     "exception": false,
     "start_time": "2021-04-13T07:23:18.603403",
     "status": "completed"
    },
    "tags": []
   },
   "outputs": [],
   "source": [
    "working_df = working_df.drop_duplicates()\n",
    "working_df = working_df.reset_index(drop=True)"
   ]
  },
  {
   "cell_type": "code",
   "execution_count": 13,
   "id": "d484678b",
   "metadata": {
    "execution": {
     "iopub.execute_input": "2021-04-13T07:23:18.684057Z",
     "iopub.status.busy": "2021-04-13T07:23:18.682281Z",
     "iopub.status.idle": "2021-04-13T07:23:18.687242Z",
     "shell.execute_reply": "2021-04-13T07:23:18.687843Z"
    },
    "papermill": {
     "duration": 0.029252,
     "end_time": "2021-04-13T07:23:18.688021",
     "exception": false,
     "start_time": "2021-04-13T07:23:18.658769",
     "status": "completed"
    },
    "tags": []
   },
   "outputs": [
    {
     "data": {
      "text/plain": [
       "0    897\n",
       "1    315\n",
       "Name: defects, dtype: int64"
      ]
     },
     "execution_count": 13,
     "metadata": {},
     "output_type": "execute_result"
    }
   ],
   "source": [
    "working_df['defects'].value_counts()"
   ]
  },
  {
   "cell_type": "markdown",
   "id": "a4d52ca6",
   "metadata": {
    "papermill": {
     "duration": 0.018869,
     "end_time": "2021-04-13T07:23:18.729536",
     "exception": false,
     "start_time": "2021-04-13T07:23:18.710667",
     "status": "completed"
    },
    "tags": []
   },
   "source": [
    "# Split"
   ]
  },
  {
   "cell_type": "code",
   "execution_count": 14,
   "id": "3e9ee4b5",
   "metadata": {
    "execution": {
     "iopub.execute_input": "2021-04-13T07:23:18.776230Z",
     "iopub.status.busy": "2021-04-13T07:23:18.774863Z",
     "iopub.status.idle": "2021-04-13T07:23:18.778425Z",
     "shell.execute_reply": "2021-04-13T07:23:18.777617Z"
    },
    "papermill": {
     "duration": 0.0298,
     "end_time": "2021-04-13T07:23:18.778602",
     "exception": false,
     "start_time": "2021-04-13T07:23:18.748802",
     "status": "completed"
    },
    "tags": []
   },
   "outputs": [],
   "source": [
    "random_state = dataset_config['random_state']"
   ]
  },
  {
   "cell_type": "code",
   "execution_count": 15,
   "id": "274004ce",
   "metadata": {
    "execution": {
     "iopub.execute_input": "2021-04-13T07:23:18.829785Z",
     "iopub.status.busy": "2021-04-13T07:23:18.828588Z",
     "iopub.status.idle": "2021-04-13T07:23:18.836893Z",
     "shell.execute_reply": "2021-04-13T07:23:18.835909Z"
    },
    "papermill": {
     "duration": 0.034619,
     "end_time": "2021-04-13T07:23:18.837113",
     "exception": false,
     "start_time": "2021-04-13T07:23:18.802494",
     "status": "completed"
    },
    "scrolled": true,
    "tags": []
   },
   "outputs": [],
   "source": [
    "inlier, outlier = working_df[working_df['defects'] == 0], working_df[working_df['defects'] == 1]"
   ]
  },
  {
   "cell_type": "code",
   "execution_count": 16,
   "id": "753c7b03",
   "metadata": {
    "execution": {
     "iopub.execute_input": "2021-04-13T07:23:18.887228Z",
     "iopub.status.busy": "2021-04-13T07:23:18.886497Z",
     "iopub.status.idle": "2021-04-13T07:23:18.892793Z",
     "shell.execute_reply": "2021-04-13T07:23:18.893354Z"
    },
    "papermill": {
     "duration": 0.03279,
     "end_time": "2021-04-13T07:23:18.893525",
     "exception": false,
     "start_time": "2021-04-13T07:23:18.860735",
     "status": "completed"
    },
    "tags": []
   },
   "outputs": [],
   "source": [
    "X_inlier = inlier.copy().reset_index(drop=True)\n",
    "y_inlier = X_inlier.pop('defects').reset_index(drop=True)\n",
    "X_outlier = outlier.copy().reset_index(drop=True)\n",
    "y_outlier = X_outlier.pop('defects').reset_index(drop=True)"
   ]
  },
  {
   "cell_type": "markdown",
   "id": "7ec1ea03",
   "metadata": {
    "papermill": {
     "duration": 0.019892,
     "end_time": "2021-04-13T07:23:18.938720",
     "exception": false,
     "start_time": "2021-04-13T07:23:18.918828",
     "status": "completed"
    },
    "tags": []
   },
   "source": [
    "# Naive Bayes"
   ]
  },
  {
   "cell_type": "code",
   "execution_count": 17,
   "id": "747ff755",
   "metadata": {
    "execution": {
     "iopub.execute_input": "2021-04-13T07:23:18.992430Z",
     "iopub.status.busy": "2021-04-13T07:23:18.991413Z",
     "iopub.status.idle": "2021-04-13T07:23:19.296328Z",
     "shell.execute_reply": "2021-04-13T07:23:19.297113Z"
    },
    "papermill": {
     "duration": 0.338664,
     "end_time": "2021-04-13T07:23:19.297332",
     "exception": false,
     "start_time": "2021-04-13T07:23:18.958668",
     "status": "completed"
    },
    "tags": []
   },
   "outputs": [
    {
     "data": {
      "image/png": "[encoded data removed]",
      "text/plain": [
       "<Figure size 576x396 with 1 Axes>"
      ]
     },
     "metadata": {},
     "output_type": "display_data"
    },
    {
     "data": {
      "text/plain": [
       "<AxesSubplot:title={'center':'Cross Validation Scores for GaussianNB'}, xlabel='Training Instances', ylabel='Score'>"
      ]
     },
     "execution_count": 17,
     "metadata": {},
     "output_type": "execute_result"
    }
   ],
   "source": [
    "from sklearn.model_selection import StratifiedKFold\n",
    "from sklearn.naive_bayes import GaussianNB\n",
    "\n",
    "from yellowbrick.model_selection import CVScores\n",
    "\n",
    "\n",
    "cv = StratifiedKFold(5)\n",
    "visualizer = CVScores(GaussianNB(), cv=cv, scoring='f1_weighted', random_state=random_state)\n",
    "\n",
    "X = pd.concat([X_inlier, X_outlier], ignore_index=True)\n",
    "y = pd.concat([y_inlier, y_outlier], ignore_index=True)\n",
    "\n",
    "visualizer.fit(X, y)\n",
    "visualizer.show()"
   ]
  },
  {
   "cell_type": "markdown",
   "id": "852ba4fc",
   "metadata": {
    "papermill": {
     "duration": 0.022025,
     "end_time": "2021-04-13T07:23:19.345389",
     "exception": false,
     "start_time": "2021-04-13T07:23:19.323364",
     "status": "completed"
    },
    "tags": []
   },
   "source": [
    "# 1-NN"
   ]
  },
  {
   "cell_type": "code",
   "execution_count": 18,
   "id": "73593bfa",
   "metadata": {
    "execution": {
     "iopub.execute_input": "2021-04-13T07:23:19.395645Z",
     "iopub.status.busy": "2021-04-13T07:23:19.394707Z",
     "iopub.status.idle": "2021-04-13T07:23:19.787188Z",
     "shell.execute_reply": "2021-04-13T07:23:19.787679Z"
    },
    "papermill": {
     "duration": 0.421318,
     "end_time": "2021-04-13T07:23:19.787830",
     "exception": false,
     "start_time": "2021-04-13T07:23:19.366512",
     "status": "completed"
    },
    "tags": []
   },
   "outputs": [
    {
     "data": {
      "image/png": "[encoded data removed]",
      "text/plain": [
       "<Figure size 576x396 with 1 Axes>"
      ]
     },
     "metadata": {},
     "output_type": "display_data"
    },
    {
     "data": {
      "text/plain": [
       "<AxesSubplot:title={'center':'Cross Validation Scores for KNeighborsClassifier'}, xlabel='Training Instances', ylabel='Score'>"
      ]
     },
     "execution_count": 18,
     "metadata": {},
     "output_type": "execute_result"
    }
   ],
   "source": [
    "from sklearn.neighbors import KNeighborsClassifier\n",
    "\n",
    "\n",
    "cv = StratifiedKFold(5)\n",
    "visualizer = CVScores(KNeighborsClassifier(n_neighbors=1), cv=cv, scoring='f1_weighted', random_state=random_state)\n",
    "\n",
    "X = pd.concat([X_inlier, X_outlier], ignore_index=True)\n",
    "y = pd.concat([y_inlier, y_outlier], ignore_index=True)\n",
    "\n",
    "visualizer.fit(X, y)\n",
    "visualizer.show()"
   ]
  },
  {
   "cell_type": "markdown",
   "id": "39046db9",
   "metadata": {
    "papermill": {
     "duration": 0.023089,
     "end_time": "2021-04-13T07:23:19.833460",
     "exception": false,
     "start_time": "2021-04-13T07:23:19.810371",
     "status": "completed"
    },
    "tags": []
   },
   "source": [
    "# Kmeans metaclasses + Naive Bayes"
   ]
  },
  {
   "cell_type": "code",
   "execution_count": 19,
   "id": "14d897ba",
   "metadata": {
    "execution": {
     "iopub.execute_input": "2021-04-13T07:23:19.883247Z",
     "iopub.status.busy": "2021-04-13T07:23:19.882576Z",
     "iopub.status.idle": "2021-04-13T07:23:23.958440Z",
     "shell.execute_reply": "2021-04-13T07:23:23.957507Z"
    },
    "papermill": {
     "duration": 4.103556,
     "end_time": "2021-04-13T07:23:23.958650",
     "exception": false,
     "start_time": "2021-04-13T07:23:19.855094",
     "status": "completed"
    },
    "tags": []
   },
   "outputs": [
    {
     "data": {
      "image/png": "[encoded data removed]",
      "text/plain": [
       "<Figure size 576x396 with 2 Axes>"
      ]
     },
     "metadata": {},
     "output_type": "display_data"
    }
   ],
   "source": [
    "from sklearn.cluster import KMeans\n",
    "\n",
    "from yellowbrick.cluster import KElbowVisualizer\n",
    "\n",
    "\n",
    "model = KMeans()\n",
    "visualizer = KElbowVisualizer(model, k=(2,7), random_state=random_state)\n",
    "\n",
    "visualizer.fit(X_inlier)\n",
    "visualizer.show()\n",
    "inlier_best_k = visualizer.elbow_value_"
   ]
  },
  {
   "cell_type": "code",
   "execution_count": 20,
   "id": "24bdde0b",
   "metadata": {
    "execution": {
     "iopub.execute_input": "2021-04-13T07:23:24.025439Z",
     "iopub.status.busy": "2021-04-13T07:23:24.024762Z",
     "iopub.status.idle": "2021-04-13T07:23:24.514732Z",
     "shell.execute_reply": "2021-04-13T07:23:24.515427Z"
    },
    "papermill": {
     "duration": 0.522296,
     "end_time": "2021-04-13T07:23:24.515678",
     "exception": false,
     "start_time": "2021-04-13T07:23:23.993382",
     "status": "completed"
    },
    "tags": []
   },
   "outputs": [
    {
     "data": {
      "image/png": "[encoded data removed]",
      "text/plain": [
       "<Figure size 576x396 with 2 Axes>"
      ]
     },
     "metadata": {},
     "output_type": "display_data"
    }
   ],
   "source": [
    "model = KMeans()\n",
    "visualizer = KElbowVisualizer(model, k=(2,7), random_state=random_state)\n",
    "\n",
    "visualizer.fit(X_outlier)\n",
    "visualizer.show()\n",
    "outlier_best_k = visualizer.elbow_value_"
   ]
  },
  {
   "cell_type": "markdown",
   "id": "f73c0c07",
   "metadata": {
    "papermill": {
     "duration": 0.025298,
     "end_time": "2021-04-13T07:23:24.570122",
     "exception": false,
     "start_time": "2021-04-13T07:23:24.544824",
     "status": "completed"
    },
    "tags": []
   },
   "source": [
    "## Encoding metaclasses"
   ]
  },
  {
   "cell_type": "code",
   "execution_count": 21,
   "id": "bfb39848",
   "metadata": {
    "execution": {
     "iopub.execute_input": "2021-04-13T07:23:24.629606Z",
     "iopub.status.busy": "2021-04-13T07:23:24.628464Z",
     "iopub.status.idle": "2021-04-13T07:23:25.288778Z",
     "shell.execute_reply": "2021-04-13T07:23:25.289246Z"
    },
    "papermill": {
     "duration": 0.694284,
     "end_time": "2021-04-13T07:23:25.289401",
     "exception": false,
     "start_time": "2021-04-13T07:23:24.595117",
     "status": "completed"
    },
    "tags": []
   },
   "outputs": [],
   "source": [
    "y_inlier_clustered = pd.Series(KMeans(inlier_best_k, random_state=random_state).fit_predict(X_inlier))\n",
    "y_outlier_clustered = pd.Series(KMeans(outlier_best_k, random_state=random_state).fit_predict(X_outlier))\n",
    "y_outlier_clustered = y_outlier_clustered + inlier_best_k"
   ]
  },
  {
   "cell_type": "code",
   "execution_count": 22,
   "id": "0c4e7374",
   "metadata": {
    "execution": {
     "iopub.execute_input": "2021-04-13T07:23:25.357726Z",
     "iopub.status.busy": "2021-04-13T07:23:25.356875Z",
     "iopub.status.idle": "2021-04-13T07:23:25.361172Z",
     "shell.execute_reply": "2021-04-13T07:23:25.361898Z"
    },
    "papermill": {
     "duration": 0.044456,
     "end_time": "2021-04-13T07:23:25.362112",
     "exception": false,
     "start_time": "2021-04-13T07:23:25.317656",
     "status": "completed"
    },
    "tags": []
   },
   "outputs": [],
   "source": [
    "X = pd.concat([X_inlier, X_outlier], ignore_index=True)\n",
    "y = pd.concat([y_inlier_clustered, y_outlier_clustered], ignore_index=True)"
   ]
  },
  {
   "cell_type": "code",
   "execution_count": 23,
   "id": "a988f9c9",
   "metadata": {
    "execution": {
     "iopub.execute_input": "2021-04-13T07:23:25.429350Z",
     "iopub.status.busy": "2021-04-13T07:23:25.428369Z",
     "iopub.status.idle": "2021-04-13T07:23:25.642285Z",
     "shell.execute_reply": "2021-04-13T07:23:25.643027Z"
    },
    "papermill": {
     "duration": 0.246338,
     "end_time": "2021-04-13T07:23:25.643240",
     "exception": false,
     "start_time": "2021-04-13T07:23:25.396902",
     "status": "completed"
    },
    "tags": []
   },
   "outputs": [
    {
     "name": "stderr",
     "output_type": "stream",
     "text": [
      "/home/gcc/work/.virtualenvs/tmp-d8e6ef899cc5740/lib/python3.9/site-packages/sklearn/model_selection/_split.py:666: UserWarning: The least populated class in y has only 3 members, which is less than n_splits=5.\n",
      "  warnings.warn((\"The least populated class in y has only %d\"\n"
     ]
    },
    {
     "data": {
      "image/png": "[encoded data removed]",
      "text/plain": [
       "<Figure size 576x396 with 1 Axes>"
      ]
     },
     "metadata": {},
     "output_type": "display_data"
    },
    {
     "data": {
      "text/plain": [
       "<AxesSubplot:title={'center':'Cross Validation Scores for GaussianNB'}, xlabel='Training Instances', ylabel='Score'>"
      ]
     },
     "execution_count": 23,
     "metadata": {},
     "output_type": "execute_result"
    }
   ],
   "source": [
    "cv = StratifiedKFold(5)\n",
    "visualizer = CVScores(GaussianNB(), cv=cv, scoring='f1_weighted', random_state=random_state)\n",
    "\n",
    "visualizer.fit(X, y)\n",
    "visualizer.show()"
   ]
  }
 ],
 "metadata": {
  "celltoolbar": "Tags",
  "kernelspec": {
   "display_name": "Python 3",
   "language": "python",
   "name": "python3"
  },
  "language_info": {
   "codemirror_mode": {
    "name": "ipython",
    "version": 3
   },
   "file_extension": ".py",
   "mimetype": "text/x-python",
   "name": "python",
   "nbconvert_exporter": "python",
   "pygments_lexer": "ipython3",
   "version": "3.9.1"
  },
  "papermill": {
   "default_parameters": {},
   "duration": 12.265663,
   "end_time": "2021-04-13T07:23:28.015723",
   "environment_variables": {},
   "exception": null,
   "input_path": "main.ipynb",
   "output_path": "runs/dataset_kc1.ipynb",
   "parameters": {
    "DATASET_CONFIG_PATH": "config/dataset/kc1.json",
    "PROFILE_REPORTING": false
   },
   "start_time": "2021-04-13T07:23:15.750060",
   "version": "2.3.3"
  }
 },
 "nbformat": 4,
 "nbformat_minor": 5
}