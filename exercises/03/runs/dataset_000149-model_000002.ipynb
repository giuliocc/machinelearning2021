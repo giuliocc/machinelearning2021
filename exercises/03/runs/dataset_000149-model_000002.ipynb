{
 "cells": [
  {
   "cell_type": "markdown",
   "id": "51c71c25",
   "metadata": {
    "papermill": {
     "duration": 0.028985,
     "end_time": "2021-04-04T23:33:14.594708",
     "exception": false,
     "start_time": "2021-04-04T23:33:14.565723",
     "status": "completed"
    },
    "tags": []
   },
   "source": [
    "# Parametrizing"
   ]
  },
  {
   "cell_type": "code",
   "execution_count": 1,
   "id": "3b136394",
   "metadata": {
    "execution": {
     "iopub.execute_input": "2021-04-04T23:33:14.654030Z",
     "iopub.status.busy": "2021-04-04T23:33:14.652856Z",
     "iopub.status.idle": "2021-04-04T23:33:14.656760Z",
     "shell.execute_reply": "2021-04-04T23:33:14.655350Z"
    },
    "papermill": {
     "duration": 0.041161,
     "end_time": "2021-04-04T23:33:14.657153",
     "exception": false,
     "start_time": "2021-04-04T23:33:14.615992",
     "status": "completed"
    },
    "tags": [
     "parameters"
    ]
   },
   "outputs": [],
   "source": [
    "DATASET_CONFIG_PATH = 'config/dataset/kc1_001.json'\n",
    "MODEL_CONFIG_PATH = 'config/model/knndd_001.json'\n",
    "PROFILE_REPORTING = False"
   ]
  },
  {
   "cell_type": "code",
   "execution_count": 2,
   "id": "4ab3e508",
   "metadata": {
    "execution": {
     "iopub.execute_input": "2021-04-04T23:33:14.721820Z",
     "iopub.status.busy": "2021-04-04T23:33:14.720924Z",
     "iopub.status.idle": "2021-04-04T23:33:14.724235Z",
     "shell.execute_reply": "2021-04-04T23:33:14.725115Z"
    },
    "papermill": {
     "duration": 0.042077,
     "end_time": "2021-04-04T23:33:14.725695",
     "exception": false,
     "start_time": "2021-04-04T23:33:14.683618",
     "status": "completed"
    },
    "tags": [
     "injected-parameters"
    ]
   },
   "outputs": [],
   "source": [
    "# Parameters\n",
    "DATASET_CONFIG_PATH = \"config/dataset/000149.json\"\n",
    "MODEL_CONFIG_PATH = \"config/model/000002.json\"\n",
    "PROFILE_REPORTING = False\n"
   ]
  },
  {
   "cell_type": "code",
   "execution_count": 3,
   "id": "b80f2a10",
   "metadata": {
    "execution": {
     "iopub.execute_input": "2021-04-04T23:33:14.791557Z",
     "iopub.status.busy": "2021-04-04T23:33:14.789280Z",
     "iopub.status.idle": "2021-04-04T23:33:14.795503Z",
     "shell.execute_reply": "2021-04-04T23:33:14.795996Z"
    },
    "papermill": {
     "duration": 0.039929,
     "end_time": "2021-04-04T23:33:14.796159",
     "exception": false,
     "start_time": "2021-04-04T23:33:14.756230",
     "status": "completed"
    },
    "tags": []
   },
   "outputs": [],
   "source": [
    "import json\n",
    "\n",
    "\n",
    "with open(DATASET_CONFIG_PATH) as f:\n",
    "    dataset_config = json.load(f)\n",
    "\n",
    "with open(MODEL_CONFIG_PATH) as f:\n",
    "    model_config = json.load(f)"
   ]
  },
  {
   "cell_type": "markdown",
   "id": "9a4b0e2d",
   "metadata": {
    "papermill": {
     "duration": 0.030246,
     "end_time": "2021-04-04T23:33:14.853670",
     "exception": false,
     "start_time": "2021-04-04T23:33:14.823424",
     "status": "completed"
    },
    "tags": []
   },
   "source": [
    "# Profiling"
   ]
  },
  {
   "cell_type": "code",
   "execution_count": 4,
   "id": "a3e0289b",
   "metadata": {
    "execution": {
     "iopub.execute_input": "2021-04-04T23:33:14.917478Z",
     "iopub.status.busy": "2021-04-04T23:33:14.915554Z",
     "iopub.status.idle": "2021-04-04T23:33:16.672312Z",
     "shell.execute_reply": "2021-04-04T23:33:16.671292Z"
    },
    "papermill": {
     "duration": 1.788539,
     "end_time": "2021-04-04T23:33:16.672494",
     "exception": false,
     "start_time": "2021-04-04T23:33:14.883955",
     "status": "completed"
    },
    "tags": []
   },
   "outputs": [],
   "source": [
    "import pandas as pd\n",
    "from pandas_profiling import ProfileReport"
   ]
  },
  {
   "cell_type": "code",
   "execution_count": 5,
   "id": "ee6c0666",
   "metadata": {
    "execution": {
     "iopub.execute_input": "2021-04-04T23:33:16.741862Z",
     "iopub.status.busy": "2021-04-04T23:33:16.739534Z",
     "iopub.status.idle": "2021-04-04T23:33:16.752495Z",
     "shell.execute_reply": "2021-04-04T23:33:16.753006Z"
    },
    "papermill": {
     "duration": 0.04793,
     "end_time": "2021-04-04T23:33:16.753148",
     "exception": false,
     "start_time": "2021-04-04T23:33:16.705218",
     "status": "completed"
    },
    "tags": []
   },
   "outputs": [],
   "source": [
    "df = pd.read_csv(dataset_config['dataset_path'])"
   ]
  },
  {
   "cell_type": "code",
   "execution_count": 6,
   "id": "7eca6c4a",
   "metadata": {
    "execution": {
     "iopub.execute_input": "2021-04-04T23:33:16.822333Z",
     "iopub.status.busy": "2021-04-04T23:33:16.805350Z",
     "iopub.status.idle": "2021-04-04T23:33:16.825574Z",
     "shell.execute_reply": "2021-04-04T23:33:16.826060Z"
    },
    "papermill": {
     "duration": 0.052592,
     "end_time": "2021-04-04T23:33:16.826220",
     "exception": false,
     "start_time": "2021-04-04T23:33:16.773628",
     "status": "completed"
    },
    "tags": []
   },
   "outputs": [
    {
     "name": "stdout",
     "output_type": "stream",
     "text": [
      "<class 'pandas.core.frame.DataFrame'>\n",
      "RangeIndex: 498 entries, 0 to 497\n",
      "Data columns (total 23 columns):\n",
      " #   Column             Non-Null Count  Dtype  \n",
      "---  ------             --------------  -----  \n",
      " 0   id                 498 non-null    int64  \n",
      " 1   loc                498 non-null    float64\n",
      " 2   v(g)               498 non-null    float64\n",
      " 3   ev(g)              498 non-null    float64\n",
      " 4   iv(g)              498 non-null    float64\n",
      " 5   n                  498 non-null    float64\n",
      " 6   v                  498 non-null    float64\n",
      " 7   l                  498 non-null    float64\n",
      " 8   d                  498 non-null    float64\n",
      " 9   i                  498 non-null    float64\n",
      " 10  e                  498 non-null    float64\n",
      " 11  b                  498 non-null    float64\n",
      " 12  t                  498 non-null    float64\n",
      " 13  lOCode             498 non-null    int64  \n",
      " 14  lOComment          498 non-null    int64  \n",
      " 15  lOBlank            498 non-null    int64  \n",
      " 16  locCodeAndComment  498 non-null    int64  \n",
      " 17  uniq_Op            498 non-null    float64\n",
      " 18  uniq_Opnd          498 non-null    float64\n",
      " 19  total_Op           498 non-null    float64\n",
      " 20  total_Opnd         498 non-null    float64\n",
      " 21  branchCount        498 non-null    float64\n",
      " 22  defects            498 non-null    bool   \n",
      "dtypes: bool(1), float64(17), int64(5)\n",
      "memory usage: 86.2 KB\n"
     ]
    }
   ],
   "source": [
    "df.info()"
   ]
  },
  {
   "cell_type": "code",
   "execution_count": 7,
   "id": "3638e5e8",
   "metadata": {
    "execution": {
     "iopub.execute_input": "2021-04-04T23:33:16.884314Z",
     "iopub.status.busy": "2021-04-04T23:33:16.881681Z",
     "iopub.status.idle": "2021-04-04T23:33:16.909209Z",
     "shell.execute_reply": "2021-04-04T23:33:16.908698Z"
    },
    "papermill": {
     "duration": 0.058585,
     "end_time": "2021-04-04T23:33:16.909327",
     "exception": false,
     "start_time": "2021-04-04T23:33:16.850742",
     "status": "completed"
    },
    "tags": []
   },
   "outputs": [
    {
     "data": {
      "text/html": [
       "<div>\n",
       "<style scoped>\n",
       "    .dataframe tbody tr th:only-of-type {\n",
       "        vertical-align: middle;\n",
       "    }\n",
       "\n",
       "    .dataframe tbody tr th {\n",
       "        vertical-align: top;\n",
       "    }\n",
       "\n",
       "    .dataframe thead th {\n",
       "        text-align: right;\n",
       "    }\n",
       "</style>\n",
       "<table border=\"1\" class=\"dataframe\">\n",
       "  <thead>\n",
       "    <tr style=\"text-align: right;\">\n",
       "      <th></th>\n",
       "      <th>id</th>\n",
       "      <th>loc</th>\n",
       "      <th>v(g)</th>\n",
       "      <th>ev(g)</th>\n",
       "      <th>iv(g)</th>\n",
       "      <th>n</th>\n",
       "      <th>v</th>\n",
       "      <th>l</th>\n",
       "      <th>d</th>\n",
       "      <th>i</th>\n",
       "      <th>...</th>\n",
       "      <th>lOCode</th>\n",
       "      <th>lOComment</th>\n",
       "      <th>lOBlank</th>\n",
       "      <th>locCodeAndComment</th>\n",
       "      <th>uniq_Op</th>\n",
       "      <th>uniq_Opnd</th>\n",
       "      <th>total_Op</th>\n",
       "      <th>total_Opnd</th>\n",
       "      <th>branchCount</th>\n",
       "      <th>defects</th>\n",
       "    </tr>\n",
       "  </thead>\n",
       "  <tbody>\n",
       "    <tr>\n",
       "      <th>0</th>\n",
       "      <td>1</td>\n",
       "      <td>1.1</td>\n",
       "      <td>1.4</td>\n",
       "      <td>1.4</td>\n",
       "      <td>1.4</td>\n",
       "      <td>1.3</td>\n",
       "      <td>1.30</td>\n",
       "      <td>1.30</td>\n",
       "      <td>1.30</td>\n",
       "      <td>1.30</td>\n",
       "      <td>...</td>\n",
       "      <td>2</td>\n",
       "      <td>2</td>\n",
       "      <td>2</td>\n",
       "      <td>2</td>\n",
       "      <td>1.2</td>\n",
       "      <td>1.2</td>\n",
       "      <td>1.2</td>\n",
       "      <td>1.2</td>\n",
       "      <td>1.4</td>\n",
       "      <td>False</td>\n",
       "    </tr>\n",
       "    <tr>\n",
       "      <th>1</th>\n",
       "      <td>2</td>\n",
       "      <td>1.0</td>\n",
       "      <td>1.0</td>\n",
       "      <td>1.0</td>\n",
       "      <td>1.0</td>\n",
       "      <td>1.0</td>\n",
       "      <td>1.00</td>\n",
       "      <td>1.00</td>\n",
       "      <td>1.00</td>\n",
       "      <td>1.00</td>\n",
       "      <td>...</td>\n",
       "      <td>1</td>\n",
       "      <td>1</td>\n",
       "      <td>1</td>\n",
       "      <td>1</td>\n",
       "      <td>1.0</td>\n",
       "      <td>1.0</td>\n",
       "      <td>1.0</td>\n",
       "      <td>1.0</td>\n",
       "      <td>1.0</td>\n",
       "      <td>True</td>\n",
       "    </tr>\n",
       "    <tr>\n",
       "      <th>2</th>\n",
       "      <td>3</td>\n",
       "      <td>24.0</td>\n",
       "      <td>5.0</td>\n",
       "      <td>1.0</td>\n",
       "      <td>3.0</td>\n",
       "      <td>63.0</td>\n",
       "      <td>309.13</td>\n",
       "      <td>0.11</td>\n",
       "      <td>9.50</td>\n",
       "      <td>32.54</td>\n",
       "      <td>...</td>\n",
       "      <td>1</td>\n",
       "      <td>0</td>\n",
       "      <td>6</td>\n",
       "      <td>0</td>\n",
       "      <td>15.0</td>\n",
       "      <td>15.0</td>\n",
       "      <td>44.0</td>\n",
       "      <td>19.0</td>\n",
       "      <td>9.0</td>\n",
       "      <td>False</td>\n",
       "    </tr>\n",
       "    <tr>\n",
       "      <th>3</th>\n",
       "      <td>4</td>\n",
       "      <td>20.0</td>\n",
       "      <td>4.0</td>\n",
       "      <td>4.0</td>\n",
       "      <td>2.0</td>\n",
       "      <td>47.0</td>\n",
       "      <td>215.49</td>\n",
       "      <td>0.06</td>\n",
       "      <td>16.00</td>\n",
       "      <td>13.47</td>\n",
       "      <td>...</td>\n",
       "      <td>0</td>\n",
       "      <td>0</td>\n",
       "      <td>3</td>\n",
       "      <td>0</td>\n",
       "      <td>16.0</td>\n",
       "      <td>8.0</td>\n",
       "      <td>31.0</td>\n",
       "      <td>16.0</td>\n",
       "      <td>7.0</td>\n",
       "      <td>False</td>\n",
       "    </tr>\n",
       "    <tr>\n",
       "      <th>4</th>\n",
       "      <td>5</td>\n",
       "      <td>24.0</td>\n",
       "      <td>6.0</td>\n",
       "      <td>6.0</td>\n",
       "      <td>2.0</td>\n",
       "      <td>72.0</td>\n",
       "      <td>346.13</td>\n",
       "      <td>0.06</td>\n",
       "      <td>17.33</td>\n",
       "      <td>19.97</td>\n",
       "      <td>...</td>\n",
       "      <td>0</td>\n",
       "      <td>0</td>\n",
       "      <td>3</td>\n",
       "      <td>0</td>\n",
       "      <td>16.0</td>\n",
       "      <td>12.0</td>\n",
       "      <td>46.0</td>\n",
       "      <td>26.0</td>\n",
       "      <td>11.0</td>\n",
       "      <td>False</td>\n",
       "    </tr>\n",
       "  </tbody>\n",
       "</table>\n",
       "<p>5 rows × 23 columns</p>\n",
       "</div>"
      ],
      "text/plain": [
       "   id   loc  v(g)  ev(g)  iv(g)     n       v     l      d      i  ...  \\\n",
       "0   1   1.1   1.4    1.4    1.4   1.3    1.30  1.30   1.30   1.30  ...   \n",
       "1   2   1.0   1.0    1.0    1.0   1.0    1.00  1.00   1.00   1.00  ...   \n",
       "2   3  24.0   5.0    1.0    3.0  63.0  309.13  0.11   9.50  32.54  ...   \n",
       "3   4  20.0   4.0    4.0    2.0  47.0  215.49  0.06  16.00  13.47  ...   \n",
       "4   5  24.0   6.0    6.0    2.0  72.0  346.13  0.06  17.33  19.97  ...   \n",
       "\n",
       "   lOCode  lOComment  lOBlank  locCodeAndComment  uniq_Op  uniq_Opnd  \\\n",
       "0       2          2        2                  2      1.2        1.2   \n",
       "1       1          1        1                  1      1.0        1.0   \n",
       "2       1          0        6                  0     15.0       15.0   \n",
       "3       0          0        3                  0     16.0        8.0   \n",
       "4       0          0        3                  0     16.0       12.0   \n",
       "\n",
       "   total_Op  total_Opnd  branchCount  defects  \n",
       "0       1.2         1.2          1.4    False  \n",
       "1       1.0         1.0          1.0     True  \n",
       "2      44.0        19.0          9.0    False  \n",
       "3      31.0        16.0          7.0    False  \n",
       "4      46.0        26.0         11.0    False  \n",
       "\n",
       "[5 rows x 23 columns]"
      ]
     },
     "execution_count": 7,
     "metadata": {},
     "output_type": "execute_result"
    }
   ],
   "source": [
    "df.head()"
   ]
  },
  {
   "cell_type": "code",
   "execution_count": 8,
   "id": "733e95eb",
   "metadata": {
    "execution": {
     "iopub.execute_input": "2021-04-04T23:33:16.971230Z",
     "iopub.status.busy": "2021-04-04T23:33:16.970172Z",
     "iopub.status.idle": "2021-04-04T23:33:16.974137Z",
     "shell.execute_reply": "2021-04-04T23:33:16.975119Z"
    },
    "papermill": {
     "duration": 0.043901,
     "end_time": "2021-04-04T23:33:16.975402",
     "exception": false,
     "start_time": "2021-04-04T23:33:16.931501",
     "status": "completed"
    },
    "tags": []
   },
   "outputs": [],
   "source": [
    "del df['id']"
   ]
  },
  {
   "cell_type": "code",
   "execution_count": 9,
   "id": "6ff6f5b0",
   "metadata": {
    "execution": {
     "iopub.execute_input": "2021-04-04T23:33:17.043367Z",
     "iopub.status.busy": "2021-04-04T23:33:17.042782Z",
     "iopub.status.idle": "2021-04-04T23:33:17.044782Z",
     "shell.execute_reply": "2021-04-04T23:33:17.045252Z"
    },
    "papermill": {
     "duration": 0.031612,
     "end_time": "2021-04-04T23:33:17.045394",
     "exception": false,
     "start_time": "2021-04-04T23:33:17.013782",
     "status": "completed"
    },
    "tags": []
   },
   "outputs": [],
   "source": [
    "if PROFILE_REPORTING:\n",
    "    ProfileReport(df).to_widgets()"
   ]
  },
  {
   "cell_type": "markdown",
   "id": "1deaf3f0",
   "metadata": {
    "papermill": {
     "duration": 0.029316,
     "end_time": "2021-04-04T23:33:17.100794",
     "exception": false,
     "start_time": "2021-04-04T23:33:17.071478",
     "status": "completed"
    },
    "tags": []
   },
   "source": [
    "# Preprocess"
   ]
  },
  {
   "cell_type": "code",
   "execution_count": 10,
   "id": "1513e563",
   "metadata": {
    "execution": {
     "iopub.execute_input": "2021-04-04T23:33:17.152593Z",
     "iopub.status.busy": "2021-04-04T23:33:17.150769Z",
     "iopub.status.idle": "2021-04-04T23:33:17.156552Z",
     "shell.execute_reply": "2021-04-04T23:33:17.155679Z"
    },
    "papermill": {
     "duration": 0.032612,
     "end_time": "2021-04-04T23:33:17.156684",
     "exception": false,
     "start_time": "2021-04-04T23:33:17.124072",
     "status": "completed"
    },
    "tags": []
   },
   "outputs": [],
   "source": [
    "working_df = df.copy()"
   ]
  },
  {
   "cell_type": "code",
   "execution_count": 11,
   "id": "3b26d675",
   "metadata": {
    "execution": {
     "iopub.execute_input": "2021-04-04T23:33:17.215294Z",
     "iopub.status.busy": "2021-04-04T23:33:17.214351Z",
     "iopub.status.idle": "2021-04-04T23:33:17.216931Z",
     "shell.execute_reply": "2021-04-04T23:33:17.219938Z"
    },
    "papermill": {
     "duration": 0.042539,
     "end_time": "2021-04-04T23:33:17.220533",
     "exception": false,
     "start_time": "2021-04-04T23:33:17.177994",
     "status": "completed"
    },
    "tags": []
   },
   "outputs": [],
   "source": [
    "working_df['defects'] = working_df['defects'].replace([False, True], [0, 1])"
   ]
  },
  {
   "cell_type": "code",
   "execution_count": 12,
   "id": "eb48604f",
   "metadata": {
    "execution": {
     "iopub.execute_input": "2021-04-04T23:33:17.273165Z",
     "iopub.status.busy": "2021-04-04T23:33:17.272449Z",
     "iopub.status.idle": "2021-04-04T23:33:17.274119Z",
     "shell.execute_reply": "2021-04-04T23:33:17.274583Z"
    },
    "papermill": {
     "duration": 0.030668,
     "end_time": "2021-04-04T23:33:17.274727",
     "exception": false,
     "start_time": "2021-04-04T23:33:17.244059",
     "status": "completed"
    },
    "tags": []
   },
   "outputs": [],
   "source": [
    "for col in dataset_config['delete_columns']:\n",
    "    del working_df[col]"
   ]
  },
  {
   "cell_type": "code",
   "execution_count": 13,
   "id": "9a17bc29",
   "metadata": {
    "execution": {
     "iopub.execute_input": "2021-04-04T23:33:17.341553Z",
     "iopub.status.busy": "2021-04-04T23:33:17.336650Z",
     "iopub.status.idle": "2021-04-04T23:33:17.354954Z",
     "shell.execute_reply": "2021-04-04T23:33:17.355750Z"
    },
    "papermill": {
     "duration": 0.057938,
     "end_time": "2021-04-04T23:33:17.356111",
     "exception": false,
     "start_time": "2021-04-04T23:33:17.298173",
     "status": "completed"
    },
    "tags": []
   },
   "outputs": [],
   "source": [
    "working_df = working_df.drop_duplicates()"
   ]
  },
  {
   "cell_type": "markdown",
   "id": "a4d52ca6",
   "metadata": {
    "papermill": {
     "duration": 0.030168,
     "end_time": "2021-04-04T23:33:17.441505",
     "exception": false,
     "start_time": "2021-04-04T23:33:17.411337",
     "status": "completed"
    },
    "tags": []
   },
   "source": [
    "# Split"
   ]
  },
  {
   "cell_type": "code",
   "execution_count": 14,
   "id": "3e9ee4b5",
   "metadata": {
    "execution": {
     "iopub.execute_input": "2021-04-04T23:33:17.514210Z",
     "iopub.status.busy": "2021-04-04T23:33:17.512657Z",
     "iopub.status.idle": "2021-04-04T23:33:17.559162Z",
     "shell.execute_reply": "2021-04-04T23:33:17.560525Z"
    },
    "papermill": {
     "duration": 0.089705,
     "end_time": "2021-04-04T23:33:17.560856",
     "exception": false,
     "start_time": "2021-04-04T23:33:17.471151",
     "status": "completed"
    },
    "tags": []
   },
   "outputs": [],
   "source": [
    "from sklearn.model_selection import train_test_split"
   ]
  },
  {
   "cell_type": "code",
   "execution_count": 15,
   "id": "274004ce",
   "metadata": {
    "execution": {
     "iopub.execute_input": "2021-04-04T23:33:17.646799Z",
     "iopub.status.busy": "2021-04-04T23:33:17.645838Z",
     "iopub.status.idle": "2021-04-04T23:33:17.650822Z",
     "shell.execute_reply": "2021-04-04T23:33:17.651751Z"
    },
    "papermill": {
     "duration": 0.042964,
     "end_time": "2021-04-04T23:33:17.652005",
     "exception": false,
     "start_time": "2021-04-04T23:33:17.609041",
     "status": "completed"
    },
    "scrolled": true,
    "tags": []
   },
   "outputs": [],
   "source": [
    "inlier, outlier = working_df[working_df['defects'] == 0], working_df[working_df['defects'] == 1]"
   ]
  },
  {
   "cell_type": "code",
   "execution_count": 16,
   "id": "753c7b03",
   "metadata": {
    "execution": {
     "iopub.execute_input": "2021-04-04T23:33:17.746975Z",
     "iopub.status.busy": "2021-04-04T23:33:17.745149Z",
     "iopub.status.idle": "2021-04-04T23:33:17.751662Z",
     "shell.execute_reply": "2021-04-04T23:33:17.753361Z"
    },
    "papermill": {
     "duration": 0.054587,
     "end_time": "2021-04-04T23:33:17.753555",
     "exception": false,
     "start_time": "2021-04-04T23:33:17.698968",
     "status": "completed"
    },
    "tags": []
   },
   "outputs": [],
   "source": [
    "X_inlier = inlier.copy()\n",
    "y_inlier = X_inlier.pop('defects')\n",
    "X_outlier = outlier.copy()\n",
    "y_outlier = X_outlier.pop('defects')"
   ]
  },
  {
   "cell_type": "code",
   "execution_count": 17,
   "id": "2ba43193",
   "metadata": {
    "execution": {
     "iopub.execute_input": "2021-04-04T23:33:17.851621Z",
     "iopub.status.busy": "2021-04-04T23:33:17.850417Z",
     "iopub.status.idle": "2021-04-04T23:33:17.856947Z",
     "shell.execute_reply": "2021-04-04T23:33:17.855927Z"
    },
    "papermill": {
     "duration": 0.060548,
     "end_time": "2021-04-04T23:33:17.857088",
     "exception": false,
     "start_time": "2021-04-04T23:33:17.796540",
     "status": "completed"
    },
    "tags": []
   },
   "outputs": [],
   "source": [
    "test_size = dataset_config['test_size']\n",
    "random_state = dataset_config['random_state']\n",
    "\n",
    "X_inlier_train, X_inlier_test, y_inlier_train, y_inlier_test = train_test_split(\n",
    "    X_inlier,\n",
    "    y_inlier,\n",
    "    test_size=test_size,\n",
    "    random_state=random_state\n",
    ")"
   ]
  },
  {
   "cell_type": "code",
   "execution_count": 18,
   "id": "0b7582ca",
   "metadata": {
    "execution": {
     "iopub.execute_input": "2021-04-04T23:33:17.921903Z",
     "iopub.status.busy": "2021-04-04T23:33:17.921042Z",
     "iopub.status.idle": "2021-04-04T23:33:17.923867Z",
     "shell.execute_reply": "2021-04-04T23:33:17.923318Z"
    },
    "papermill": {
     "duration": 0.041873,
     "end_time": "2021-04-04T23:33:17.924016",
     "exception": false,
     "start_time": "2021-04-04T23:33:17.882143",
     "status": "completed"
    },
    "tags": []
   },
   "outputs": [],
   "source": [
    "test_outlier_size = dataset_config['test_outlier_size']\n",
    "if test_outlier_size > 0.0:\n",
    "    X_outlier_train, X_outlier_test, y_outlier_train, y_outlier_test = train_test_split(\n",
    "        X_outlier,\n",
    "        y_outlier,\n",
    "        test_size=test_outlier_size,\n",
    "        random_state=random_state\n",
    "    )\n",
    "else:\n",
    "    X_outlier_train, y_outlier_train = pd.DataFrame(columns=X_outlier.columns), pd.Series(dtype='int64')\n",
    "    X_outlier_test, y_outlier_test = X_outlier.copy(), y_outlier.copy()"
   ]
  },
  {
   "cell_type": "code",
   "execution_count": 19,
   "id": "c34363db",
   "metadata": {
    "execution": {
     "iopub.execute_input": "2021-04-04T23:33:17.996478Z",
     "iopub.status.busy": "2021-04-04T23:33:17.990851Z",
     "iopub.status.idle": "2021-04-04T23:33:18.003978Z",
     "shell.execute_reply": "2021-04-04T23:33:18.002676Z"
    },
    "papermill": {
     "duration": 0.055383,
     "end_time": "2021-04-04T23:33:18.004241",
     "exception": false,
     "start_time": "2021-04-04T23:33:17.948858",
     "status": "completed"
    },
    "tags": []
   },
   "outputs": [],
   "source": [
    "X_train, y_train = pd.concat([X_inlier_train, X_outlier_train], ignore_index=True), pd.concat([y_inlier_train, y_outlier_train], ignore_index=True)\n",
    "X_test, y_test = pd.concat([X_inlier_test, X_outlier_test], ignore_index=True), pd.concat([y_inlier_test, y_outlier_test], ignore_index=True)"
   ]
  },
  {
   "cell_type": "markdown",
   "id": "7cde7309",
   "metadata": {
    "papermill": {
     "duration": 0.028509,
     "end_time": "2021-04-04T23:33:18.060838",
     "exception": false,
     "start_time": "2021-04-04T23:33:18.032329",
     "status": "completed"
    },
    "tags": []
   },
   "source": [
    "# Model"
   ]
  },
  {
   "cell_type": "code",
   "execution_count": 20,
   "id": "2b12a415",
   "metadata": {
    "execution": {
     "iopub.execute_input": "2021-04-04T23:33:18.155188Z",
     "iopub.status.busy": "2021-04-04T23:33:18.153788Z",
     "iopub.status.idle": "2021-04-04T23:33:18.157363Z",
     "shell.execute_reply": "2021-04-04T23:33:18.157817Z"
    },
    "papermill": {
     "duration": 0.049774,
     "end_time": "2021-04-04T23:33:18.157961",
     "exception": false,
     "start_time": "2021-04-04T23:33:18.108187",
     "status": "completed"
    },
    "tags": []
   },
   "outputs": [],
   "source": [
    "from math import sqrt\n",
    "\n",
    "\n",
    "class KNNDataDescription:\n",
    "    def __init__(self, k=5, outlier_threshold=1.0):\n",
    "        self.k = k\n",
    "        self.outlier_threshold = outlier_threshold\n",
    "        self.X = []\n",
    "    \n",
    "    def fit(self, X):\n",
    "        self.X = [features.to_list() for index, features in X.iterrows()]\n",
    "\n",
    "    def predict(self, entries):\n",
    "        return [self.predict_entry(features.to_list()) for index, features in entries.iterrows()]\n",
    "    \n",
    "    def predict_entry(self, entry):\n",
    "        kth_neighbor, kth_distance = self.get_kth_neighbor(entry, self.k)\n",
    "        kth_kth_neighbor, kth_kth_distance = self.get_kth_neighbor(kth_neighbor, self.k + 1)\n",
    "\n",
    "        outlier_score = kth_distance / (kth_kth_distance + 0.000001)\n",
    "\n",
    "        return 1 if outlier_score < self.outlier_threshold else -1\n",
    "        \n",
    "    def euclidean_distance(self, features1, features2):\n",
    "        distance = 0.0\n",
    "        for feat1, feat2 in zip(features1, features2):\n",
    "            distance += (feat1 - feat2)**2\n",
    "                \n",
    "        return sqrt(distance)\n",
    "\n",
    "    def get_neighbors(self, entry, k):\n",
    "        distance_to_data_points = [\n",
    "            (data_point, self.euclidean_distance(entry, data_point))\n",
    "            for data_point in self.X\n",
    "        ]\n",
    "        sorted_by_distance = sorted(distance_to_data_points, key=lambda tup: tup[1])\n",
    "        neighbors = sorted_by_distance[:k]\n",
    "        return neighbors\n",
    "\n",
    "    def get_kth_neighbor(self, entry, k):\n",
    "        neighbors = self.get_neighbors(entry, k)\n",
    "        return neighbors[-1]\n"
   ]
  },
  {
   "cell_type": "code",
   "execution_count": 21,
   "id": "1fa9ec1c",
   "metadata": {
    "execution": {
     "iopub.execute_input": "2021-04-04T23:33:18.216925Z",
     "iopub.status.busy": "2021-04-04T23:33:18.214621Z",
     "iopub.status.idle": "2021-04-04T23:33:18.248834Z",
     "shell.execute_reply": "2021-04-04T23:33:18.249407Z"
    },
    "papermill": {
     "duration": 0.068657,
     "end_time": "2021-04-04T23:33:18.249583",
     "exception": false,
     "start_time": "2021-04-04T23:33:18.180926",
     "status": "completed"
    },
    "tags": []
   },
   "outputs": [],
   "source": [
    "from sklearn.svm import OneClassSVM\n",
    "\n",
    "\n",
    "models = {\n",
    "    'oneclasssvm': OneClassSVM,\n",
    "    'knndatadescription': KNNDataDescription,\n",
    "}"
   ]
  },
  {
   "cell_type": "code",
   "execution_count": 22,
   "id": "4d72a0b1",
   "metadata": {
    "execution": {
     "iopub.execute_input": "2021-04-04T23:33:18.324666Z",
     "iopub.status.busy": "2021-04-04T23:33:18.324031Z",
     "iopub.status.idle": "2021-04-04T23:33:18.326863Z",
     "shell.execute_reply": "2021-04-04T23:33:18.327369Z"
    },
    "papermill": {
     "duration": 0.039776,
     "end_time": "2021-04-04T23:33:18.327533",
     "exception": false,
     "start_time": "2021-04-04T23:33:18.287757",
     "status": "completed"
    },
    "scrolled": true,
    "tags": []
   },
   "outputs": [],
   "source": [
    "model_cls = models[model_config['model_type']]\n",
    "model = model_cls(**model_config['hyperparameters'])"
   ]
  },
  {
   "cell_type": "markdown",
   "id": "e00cff3b",
   "metadata": {
    "papermill": {
     "duration": 0.031293,
     "end_time": "2021-04-04T23:33:18.398412",
     "exception": false,
     "start_time": "2021-04-04T23:33:18.367119",
     "status": "completed"
    },
    "tags": []
   },
   "source": [
    "# Fit"
   ]
  },
  {
   "cell_type": "code",
   "execution_count": 23,
   "id": "8b2ded89",
   "metadata": {
    "execution": {
     "iopub.execute_input": "2021-04-04T23:33:18.503070Z",
     "iopub.status.busy": "2021-04-04T23:33:18.480640Z",
     "iopub.status.idle": "2021-04-04T23:33:18.506901Z",
     "shell.execute_reply": "2021-04-04T23:33:18.507407Z"
    },
    "papermill": {
     "duration": 0.071763,
     "end_time": "2021-04-04T23:33:18.507558",
     "exception": false,
     "start_time": "2021-04-04T23:33:18.435795",
     "status": "completed"
    },
    "tags": []
   },
   "outputs": [],
   "source": [
    "model.fit(X_train)"
   ]
  },
  {
   "cell_type": "markdown",
   "id": "f99999f7",
   "metadata": {
    "papermill": {
     "duration": 0.042157,
     "end_time": "2021-04-04T23:33:18.584240",
     "exception": false,
     "start_time": "2021-04-04T23:33:18.542083",
     "status": "completed"
    },
    "tags": []
   },
   "source": [
    "# Predict"
   ]
  },
  {
   "cell_type": "code",
   "execution_count": 24,
   "id": "6536fbf7",
   "metadata": {
    "execution": {
     "iopub.execute_input": "2021-04-04T23:33:18.688786Z",
     "iopub.status.busy": "2021-04-04T23:33:18.651158Z",
     "iopub.status.idle": "2021-04-04T23:33:19.044132Z",
     "shell.execute_reply": "2021-04-04T23:33:19.043557Z"
    },
    "papermill": {
     "duration": 0.428678,
     "end_time": "2021-04-04T23:33:19.044260",
     "exception": false,
     "start_time": "2021-04-04T23:33:18.615582",
     "status": "completed"
    },
    "tags": []
   },
   "outputs": [],
   "source": [
    "predictions = model.predict(X_test)"
   ]
  },
  {
   "cell_type": "markdown",
   "id": "aa1c9881",
   "metadata": {
    "papermill": {
     "duration": 0.047895,
     "end_time": "2021-04-04T23:33:19.141665",
     "exception": false,
     "start_time": "2021-04-04T23:33:19.093770",
     "status": "completed"
    },
    "tags": []
   },
   "source": [
    "# Evaluate"
   ]
  },
  {
   "cell_type": "code",
   "execution_count": 25,
   "id": "894f0f04",
   "metadata": {
    "execution": {
     "iopub.execute_input": "2021-04-04T23:33:19.205616Z",
     "iopub.status.busy": "2021-04-04T23:33:19.204787Z",
     "iopub.status.idle": "2021-04-04T23:33:19.206736Z",
     "shell.execute_reply": "2021-04-04T23:33:19.207228Z"
    },
    "papermill": {
     "duration": 0.034274,
     "end_time": "2021-04-04T23:33:19.207373",
     "exception": false,
     "start_time": "2021-04-04T23:33:19.173099",
     "status": "completed"
    },
    "tags": []
   },
   "outputs": [],
   "source": [
    "from sklearn.metrics import f1_score"
   ]
  },
  {
   "cell_type": "code",
   "execution_count": 26,
   "id": "211744d3",
   "metadata": {
    "execution": {
     "iopub.execute_input": "2021-04-04T23:33:19.289480Z",
     "iopub.status.busy": "2021-04-04T23:33:19.288311Z",
     "iopub.status.idle": "2021-04-04T23:33:19.292397Z",
     "shell.execute_reply": "2021-04-04T23:33:19.291081Z"
    },
    "papermill": {
     "duration": 0.061398,
     "end_time": "2021-04-04T23:33:19.292722",
     "exception": false,
     "start_time": "2021-04-04T23:33:19.231324",
     "status": "completed"
    },
    "tags": []
   },
   "outputs": [],
   "source": [
    "y_test = y_test.replace([0, 1], [1, -1])"
   ]
  },
  {
   "cell_type": "code",
   "execution_count": 27,
   "id": "d68a9204",
   "metadata": {
    "execution": {
     "iopub.execute_input": "2021-04-04T23:33:19.374695Z",
     "iopub.status.busy": "2021-04-04T23:33:19.373474Z",
     "iopub.status.idle": "2021-04-04T23:33:19.380039Z",
     "shell.execute_reply": "2021-04-04T23:33:19.380982Z"
    },
    "papermill": {
     "duration": 0.054819,
     "end_time": "2021-04-04T23:33:19.381211",
     "exception": false,
     "start_time": "2021-04-04T23:33:19.326392",
     "status": "completed"
    },
    "tags": []
   },
   "outputs": [],
   "source": [
    "def evaluate(truths, predictions, pos_label, neg_label):\n",
    "    TP = 0\n",
    "    FP = 0\n",
    "    TN = 0\n",
    "    FN = 0\n",
    "\n",
    "    for truth, pred in zip(truths, predictions): \n",
    "        if truth == pred == pos_label:\n",
    "           TP += 1\n",
    "        elif pred == pos_label and truth == neg_label:\n",
    "           FP += 1\n",
    "        elif truth == pred == neg_label:\n",
    "           TN += 1\n",
    "        elif pred == neg_label and truth == pos_label:\n",
    "           FN += 1\n",
    "\n",
    "    precision = TP / (TP + FP)\n",
    "    sensitivity = TP / (TP + FN)\n",
    "    \n",
    "    return {\n",
    "        'true_pos': TP,\n",
    "        'false_pos': FP,\n",
    "        'false_neg': FN,\n",
    "        'true_neg': TN,\n",
    "        'precision': precision,\n",
    "        'sensitivity': sensitivity,\n",
    "        'f1': (2 * (precision * sensitivity)) / (precision + sensitivity)\n",
    "    }\n",
    "\n",
    "score = evaluate(y_test, predictions, pos_label=-1, neg_label=1)"
   ]
  },
  {
   "cell_type": "markdown",
   "id": "93596516",
   "metadata": {
    "papermill": {
     "duration": 0.029164,
     "end_time": "2021-04-04T23:33:19.446419",
     "exception": false,
     "start_time": "2021-04-04T23:33:19.417255",
     "status": "completed"
    },
    "tags": []
   },
   "source": [
    "# Report"
   ]
  },
  {
   "cell_type": "code",
   "execution_count": 28,
   "id": "bea5fba1",
   "metadata": {
    "execution": {
     "iopub.execute_input": "2021-04-04T23:33:19.507178Z",
     "iopub.status.busy": "2021-04-04T23:33:19.506423Z",
     "iopub.status.idle": "2021-04-04T23:33:19.508082Z",
     "shell.execute_reply": "2021-04-04T23:33:19.508551Z"
    },
    "papermill": {
     "duration": 0.03561,
     "end_time": "2021-04-04T23:33:19.508697",
     "exception": false,
     "start_time": "2021-04-04T23:33:19.473087",
     "status": "completed"
    },
    "tags": []
   },
   "outputs": [],
   "source": [
    "import csv\n",
    "\n",
    "\n",
    "dataset_config_name = DATASET_CONFIG_PATH.split('/')[-1].split('.')[0]\n",
    "model_config_name = MODEL_CONFIG_PATH.split('/')[-1].split('.')[0]\n",
    "configuration = f\"dataset_{dataset_config_name}-model_{model_config_name}\"\n",
    "\n",
    "with open('results.csv', 'a') as f:\n",
    "    report = dict({'configuration': configuration}, **score)\n",
    "    writer = csv.DictWriter(f, report.keys())\n",
    "    writer.writerow(report)"
   ]
  }
 ],
 "metadata": {
  "celltoolbar": "Tags",
  "kernelspec": {
   "display_name": "Python 3",
   "language": "python",
   "name": "python3"
  },
  "language_info": {
   "codemirror_mode": {
    "name": "ipython",
    "version": 3
   },
   "file_extension": ".py",
   "mimetype": "text/x-python",
   "name": "python",
   "nbconvert_exporter": "python",
   "pygments_lexer": "ipython3",
   "version": "3.9.1"
  },
  "papermill": {
   "default_parameters": {},
   "duration": 7.068985,
   "end_time": "2021-04-04T23:33:20.820766",
   "environment_variables": {},
   "exception": null,
   "input_path": "main.ipynb",
   "output_path": "runs/dataset_000149-model_000002.ipynb",
   "parameters": {
    "DATASET_CONFIG_PATH": "config/dataset/000149.json",
    "MODEL_CONFIG_PATH": "config/model/000002.json",
    "PROFILE_REPORTING": false
   },
   "start_time": "2021-04-04T23:33:13.751781",
   "version": "2.3.3"
  }
 },
 "nbformat": 4,
 "nbformat_minor": 5
}