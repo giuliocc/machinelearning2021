{
 "cells": [
  {
   "cell_type": "markdown",
   "id": "51c71c25",
   "metadata": {
    "papermill": {
     "duration": 0.022404,
     "end_time": "2021-04-04T23:35:55.546231",
     "exception": false,
     "start_time": "2021-04-04T23:35:55.523827",
     "status": "completed"
    },
    "tags": []
   },
   "source": [
    "# Parametrizing"
   ]
  },
  {
   "cell_type": "code",
   "execution_count": 1,
   "id": "3b136394",
   "metadata": {
    "execution": {
     "iopub.execute_input": "2021-04-04T23:35:55.603087Z",
     "iopub.status.busy": "2021-04-04T23:35:55.599055Z",
     "iopub.status.idle": "2021-04-04T23:35:55.605508Z",
     "shell.execute_reply": "2021-04-04T23:35:55.604931Z"
    },
    "papermill": {
     "duration": 0.039528,
     "end_time": "2021-04-04T23:35:55.605637",
     "exception": false,
     "start_time": "2021-04-04T23:35:55.566109",
     "status": "completed"
    },
    "tags": [
     "parameters"
    ]
   },
   "outputs": [],
   "source": [
    "DATASET_CONFIG_PATH = 'config/dataset/kc1_001.json'\n",
    "MODEL_CONFIG_PATH = 'config/model/knndd_001.json'\n",
    "PROFILE_REPORTING = False"
   ]
  },
  {
   "cell_type": "code",
   "execution_count": 2,
   "id": "5b7817dd",
   "metadata": {
    "execution": {
     "iopub.execute_input": "2021-04-04T23:35:55.653187Z",
     "iopub.status.busy": "2021-04-04T23:35:55.652486Z",
     "iopub.status.idle": "2021-04-04T23:35:55.654322Z",
     "shell.execute_reply": "2021-04-04T23:35:55.654806Z"
    },
    "papermill": {
     "duration": 0.028799,
     "end_time": "2021-04-04T23:35:55.654950",
     "exception": false,
     "start_time": "2021-04-04T23:35:55.626151",
     "status": "completed"
    },
    "tags": [
     "injected-parameters"
    ]
   },
   "outputs": [],
   "source": [
    "# Parameters\n",
    "DATASET_CONFIG_PATH = \"config/dataset/000155.json\"\n",
    "MODEL_CONFIG_PATH = \"config/model/000003.json\"\n",
    "PROFILE_REPORTING = False\n"
   ]
  },
  {
   "cell_type": "code",
   "execution_count": 3,
   "id": "b80f2a10",
   "metadata": {
    "execution": {
     "iopub.execute_input": "2021-04-04T23:35:55.709235Z",
     "iopub.status.busy": "2021-04-04T23:35:55.708285Z",
     "iopub.status.idle": "2021-04-04T23:35:55.711909Z",
     "shell.execute_reply": "2021-04-04T23:35:55.711269Z"
    },
    "papermill": {
     "duration": 0.036285,
     "end_time": "2021-04-04T23:35:55.712183",
     "exception": false,
     "start_time": "2021-04-04T23:35:55.675898",
     "status": "completed"
    },
    "tags": []
   },
   "outputs": [],
   "source": [
    "import json\n",
    "\n",
    "\n",
    "with open(DATASET_CONFIG_PATH) as f:\n",
    "    dataset_config = json.load(f)\n",
    "\n",
    "with open(MODEL_CONFIG_PATH) as f:\n",
    "    model_config = json.load(f)"
   ]
  },
  {
   "cell_type": "markdown",
   "id": "9a4b0e2d",
   "metadata": {
    "papermill": {
     "duration": 0.024821,
     "end_time": "2021-04-04T23:35:55.760537",
     "exception": false,
     "start_time": "2021-04-04T23:35:55.735716",
     "status": "completed"
    },
    "tags": []
   },
   "source": [
    "# Profiling"
   ]
  },
  {
   "cell_type": "code",
   "execution_count": 4,
   "id": "a3e0289b",
   "metadata": {
    "execution": {
     "iopub.execute_input": "2021-04-04T23:35:55.817444Z",
     "iopub.status.busy": "2021-04-04T23:35:55.816725Z",
     "iopub.status.idle": "2021-04-04T23:35:57.575531Z",
     "shell.execute_reply": "2021-04-04T23:35:57.574926Z"
    },
    "papermill": {
     "duration": 1.79306,
     "end_time": "2021-04-04T23:35:57.575651",
     "exception": false,
     "start_time": "2021-04-04T23:35:55.782591",
     "status": "completed"
    },
    "tags": []
   },
   "outputs": [],
   "source": [
    "import pandas as pd\n",
    "from pandas_profiling import ProfileReport"
   ]
  },
  {
   "cell_type": "code",
   "execution_count": 5,
   "id": "ee6c0666",
   "metadata": {
    "execution": {
     "iopub.execute_input": "2021-04-04T23:35:57.628173Z",
     "iopub.status.busy": "2021-04-04T23:35:57.626953Z",
     "iopub.status.idle": "2021-04-04T23:35:57.635929Z",
     "shell.execute_reply": "2021-04-04T23:35:57.635406Z"
    },
    "papermill": {
     "duration": 0.033829,
     "end_time": "2021-04-04T23:35:57.636051",
     "exception": false,
     "start_time": "2021-04-04T23:35:57.602222",
     "status": "completed"
    },
    "tags": []
   },
   "outputs": [],
   "source": [
    "df = pd.read_csv(dataset_config['dataset_path'])"
   ]
  },
  {
   "cell_type": "code",
   "execution_count": 6,
   "id": "7eca6c4a",
   "metadata": {
    "execution": {
     "iopub.execute_input": "2021-04-04T23:35:57.705782Z",
     "iopub.status.busy": "2021-04-04T23:35:57.703289Z",
     "iopub.status.idle": "2021-04-04T23:35:57.731960Z",
     "shell.execute_reply": "2021-04-04T23:35:57.734027Z"
    },
    "papermill": {
     "duration": 0.073905,
     "end_time": "2021-04-04T23:35:57.734458",
     "exception": false,
     "start_time": "2021-04-04T23:35:57.660553",
     "status": "completed"
    },
    "tags": []
   },
   "outputs": [
    {
     "name": "stdout",
     "output_type": "stream",
     "text": [
      "<class 'pandas.core.frame.DataFrame'>\n",
      "RangeIndex: 498 entries, 0 to 497\n",
      "Data columns (total 23 columns):\n",
      " #   Column             Non-Null Count  Dtype  \n",
      "---  ------             --------------  -----  \n",
      " 0   id                 498 non-null    int64  \n",
      " 1   loc                498 non-null    float64\n",
      " 2   v(g)               498 non-null    float64\n",
      " 3   ev(g)              498 non-null    float64\n",
      " 4   iv(g)              498 non-null    float64\n",
      " 5   n                  498 non-null    float64\n",
      " 6   v                  498 non-null    float64\n",
      " 7   l                  498 non-null    float64\n",
      " 8   d                  498 non-null    float64\n",
      " 9   i                  498 non-null    float64\n",
      " 10  e                  498 non-null    float64\n",
      " 11  b                  498 non-null    float64\n",
      " 12  t                  498 non-null    float64\n",
      " 13  lOCode             498 non-null    int64  \n",
      " 14  lOComment          498 non-null    int64  \n",
      " 15  lOBlank            498 non-null    int64  \n",
      " 16  locCodeAndComment  498 non-null    int64  \n",
      " 17  uniq_Op            498 non-null    float64\n",
      " 18  uniq_Opnd          498 non-null    float64\n",
      " 19  total_Op           498 non-null    float64\n",
      " 20  total_Opnd         498 non-null    float64\n",
      " 21  branchCount        498 non-null    float64\n",
      " 22  defects            498 non-null    bool   \n",
      "dtypes: bool(1), float64(17), int64(5)\n",
      "memory usage: 86.2 KB\n"
     ]
    }
   ],
   "source": [
    "df.info()"
   ]
  },
  {
   "cell_type": "code",
   "execution_count": 7,
   "id": "3638e5e8",
   "metadata": {
    "execution": {
     "iopub.execute_input": "2021-04-04T23:35:57.839063Z",
     "iopub.status.busy": "2021-04-04T23:35:57.836545Z",
     "iopub.status.idle": "2021-04-04T23:35:57.874256Z",
     "shell.execute_reply": "2021-04-04T23:35:57.873657Z"
    },
    "papermill": {
     "duration": 0.080637,
     "end_time": "2021-04-04T23:35:57.874395",
     "exception": false,
     "start_time": "2021-04-04T23:35:57.793758",
     "status": "completed"
    },
    "tags": []
   },
   "outputs": [
    {
     "data": {
      "text/html": [
       "<div>\n",
       "<style scoped>\n",
       "    .dataframe tbody tr th:only-of-type {\n",
       "        vertical-align: middle;\n",
       "    }\n",
       "\n",
       "    .dataframe tbody tr th {\n",
       "        vertical-align: top;\n",
       "    }\n",
       "\n",
       "    .dataframe thead th {\n",
       "        text-align: right;\n",
       "    }\n",
       "</style>\n",
       "<table border=\"1\" class=\"dataframe\">\n",
       "  <thead>\n",
       "    <tr style=\"text-align: right;\">\n",
       "      <th></th>\n",
       "      <th>id</th>\n",
       "      <th>loc</th>\n",
       "      <th>v(g)</th>\n",
       "      <th>ev(g)</th>\n",
       "      <th>iv(g)</th>\n",
       "      <th>n</th>\n",
       "      <th>v</th>\n",
       "      <th>l</th>\n",
       "      <th>d</th>\n",
       "      <th>i</th>\n",
       "      <th>...</th>\n",
       "      <th>lOCode</th>\n",
       "      <th>lOComment</th>\n",
       "      <th>lOBlank</th>\n",
       "      <th>locCodeAndComment</th>\n",
       "      <th>uniq_Op</th>\n",
       "      <th>uniq_Opnd</th>\n",
       "      <th>total_Op</th>\n",
       "      <th>total_Opnd</th>\n",
       "      <th>branchCount</th>\n",
       "      <th>defects</th>\n",
       "    </tr>\n",
       "  </thead>\n",
       "  <tbody>\n",
       "    <tr>\n",
       "      <th>0</th>\n",
       "      <td>1</td>\n",
       "      <td>1.1</td>\n",
       "      <td>1.4</td>\n",
       "      <td>1.4</td>\n",
       "      <td>1.4</td>\n",
       "      <td>1.3</td>\n",
       "      <td>1.30</td>\n",
       "      <td>1.30</td>\n",
       "      <td>1.30</td>\n",
       "      <td>1.30</td>\n",
       "      <td>...</td>\n",
       "      <td>2</td>\n",
       "      <td>2</td>\n",
       "      <td>2</td>\n",
       "      <td>2</td>\n",
       "      <td>1.2</td>\n",
       "      <td>1.2</td>\n",
       "      <td>1.2</td>\n",
       "      <td>1.2</td>\n",
       "      <td>1.4</td>\n",
       "      <td>False</td>\n",
       "    </tr>\n",
       "    <tr>\n",
       "      <th>1</th>\n",
       "      <td>2</td>\n",
       "      <td>1.0</td>\n",
       "      <td>1.0</td>\n",
       "      <td>1.0</td>\n",
       "      <td>1.0</td>\n",
       "      <td>1.0</td>\n",
       "      <td>1.00</td>\n",
       "      <td>1.00</td>\n",
       "      <td>1.00</td>\n",
       "      <td>1.00</td>\n",
       "      <td>...</td>\n",
       "      <td>1</td>\n",
       "      <td>1</td>\n",
       "      <td>1</td>\n",
       "      <td>1</td>\n",
       "      <td>1.0</td>\n",
       "      <td>1.0</td>\n",
       "      <td>1.0</td>\n",
       "      <td>1.0</td>\n",
       "      <td>1.0</td>\n",
       "      <td>True</td>\n",
       "    </tr>\n",
       "    <tr>\n",
       "      <th>2</th>\n",
       "      <td>3</td>\n",
       "      <td>24.0</td>\n",
       "      <td>5.0</td>\n",
       "      <td>1.0</td>\n",
       "      <td>3.0</td>\n",
       "      <td>63.0</td>\n",
       "      <td>309.13</td>\n",
       "      <td>0.11</td>\n",
       "      <td>9.50</td>\n",
       "      <td>32.54</td>\n",
       "      <td>...</td>\n",
       "      <td>1</td>\n",
       "      <td>0</td>\n",
       "      <td>6</td>\n",
       "      <td>0</td>\n",
       "      <td>15.0</td>\n",
       "      <td>15.0</td>\n",
       "      <td>44.0</td>\n",
       "      <td>19.0</td>\n",
       "      <td>9.0</td>\n",
       "      <td>False</td>\n",
       "    </tr>\n",
       "    <tr>\n",
       "      <th>3</th>\n",
       "      <td>4</td>\n",
       "      <td>20.0</td>\n",
       "      <td>4.0</td>\n",
       "      <td>4.0</td>\n",
       "      <td>2.0</td>\n",
       "      <td>47.0</td>\n",
       "      <td>215.49</td>\n",
       "      <td>0.06</td>\n",
       "      <td>16.00</td>\n",
       "      <td>13.47</td>\n",
       "      <td>...</td>\n",
       "      <td>0</td>\n",
       "      <td>0</td>\n",
       "      <td>3</td>\n",
       "      <td>0</td>\n",
       "      <td>16.0</td>\n",
       "      <td>8.0</td>\n",
       "      <td>31.0</td>\n",
       "      <td>16.0</td>\n",
       "      <td>7.0</td>\n",
       "      <td>False</td>\n",
       "    </tr>\n",
       "    <tr>\n",
       "      <th>4</th>\n",
       "      <td>5</td>\n",
       "      <td>24.0</td>\n",
       "      <td>6.0</td>\n",
       "      <td>6.0</td>\n",
       "      <td>2.0</td>\n",
       "      <td>72.0</td>\n",
       "      <td>346.13</td>\n",
       "      <td>0.06</td>\n",
       "      <td>17.33</td>\n",
       "      <td>19.97</td>\n",
       "      <td>...</td>\n",
       "      <td>0</td>\n",
       "      <td>0</td>\n",
       "      <td>3</td>\n",
       "      <td>0</td>\n",
       "      <td>16.0</td>\n",
       "      <td>12.0</td>\n",
       "      <td>46.0</td>\n",
       "      <td>26.0</td>\n",
       "      <td>11.0</td>\n",
       "      <td>False</td>\n",
       "    </tr>\n",
       "  </tbody>\n",
       "</table>\n",
       "<p>5 rows × 23 columns</p>\n",
       "</div>"
      ],
      "text/plain": [
       "   id   loc  v(g)  ev(g)  iv(g)     n       v     l      d      i  ...  \\\n",
       "0   1   1.1   1.4    1.4    1.4   1.3    1.30  1.30   1.30   1.30  ...   \n",
       "1   2   1.0   1.0    1.0    1.0   1.0    1.00  1.00   1.00   1.00  ...   \n",
       "2   3  24.0   5.0    1.0    3.0  63.0  309.13  0.11   9.50  32.54  ...   \n",
       "3   4  20.0   4.0    4.0    2.0  47.0  215.49  0.06  16.00  13.47  ...   \n",
       "4   5  24.0   6.0    6.0    2.0  72.0  346.13  0.06  17.33  19.97  ...   \n",
       "\n",
       "   lOCode  lOComment  lOBlank  locCodeAndComment  uniq_Op  uniq_Opnd  \\\n",
       "0       2          2        2                  2      1.2        1.2   \n",
       "1       1          1        1                  1      1.0        1.0   \n",
       "2       1          0        6                  0     15.0       15.0   \n",
       "3       0          0        3                  0     16.0        8.0   \n",
       "4       0          0        3                  0     16.0       12.0   \n",
       "\n",
       "   total_Op  total_Opnd  branchCount  defects  \n",
       "0       1.2         1.2          1.4    False  \n",
       "1       1.0         1.0          1.0     True  \n",
       "2      44.0        19.0          9.0    False  \n",
       "3      31.0        16.0          7.0    False  \n",
       "4      46.0        26.0         11.0    False  \n",
       "\n",
       "[5 rows x 23 columns]"
      ]
     },
     "execution_count": 7,
     "metadata": {},
     "output_type": "execute_result"
    }
   ],
   "source": [
    "df.head()"
   ]
  },
  {
   "cell_type": "code",
   "execution_count": 8,
   "id": "733e95eb",
   "metadata": {
    "execution": {
     "iopub.execute_input": "2021-04-04T23:35:57.932652Z",
     "iopub.status.busy": "2021-04-04T23:35:57.931913Z",
     "iopub.status.idle": "2021-04-04T23:35:57.933568Z",
     "shell.execute_reply": "2021-04-04T23:35:57.934100Z"
    },
    "papermill": {
     "duration": 0.036535,
     "end_time": "2021-04-04T23:35:57.934245",
     "exception": false,
     "start_time": "2021-04-04T23:35:57.897710",
     "status": "completed"
    },
    "tags": []
   },
   "outputs": [],
   "source": [
    "del df['id']"
   ]
  },
  {
   "cell_type": "code",
   "execution_count": 9,
   "id": "6ff6f5b0",
   "metadata": {
    "execution": {
     "iopub.execute_input": "2021-04-04T23:35:57.984743Z",
     "iopub.status.busy": "2021-04-04T23:35:57.984112Z",
     "iopub.status.idle": "2021-04-04T23:35:57.986214Z",
     "shell.execute_reply": "2021-04-04T23:35:57.986744Z"
    },
    "papermill": {
     "duration": 0.030282,
     "end_time": "2021-04-04T23:35:57.986890",
     "exception": false,
     "start_time": "2021-04-04T23:35:57.956608",
     "status": "completed"
    },
    "tags": []
   },
   "outputs": [],
   "source": [
    "if PROFILE_REPORTING:\n",
    "    ProfileReport(df).to_widgets()"
   ]
  },
  {
   "cell_type": "markdown",
   "id": "1deaf3f0",
   "metadata": {
    "papermill": {
     "duration": 0.025064,
     "end_time": "2021-04-04T23:35:58.034528",
     "exception": false,
     "start_time": "2021-04-04T23:35:58.009464",
     "status": "completed"
    },
    "tags": []
   },
   "source": [
    "# Preprocess"
   ]
  },
  {
   "cell_type": "code",
   "execution_count": 10,
   "id": "1513e563",
   "metadata": {
    "execution": {
     "iopub.execute_input": "2021-04-04T23:35:58.086594Z",
     "iopub.status.busy": "2021-04-04T23:35:58.085938Z",
     "iopub.status.idle": "2021-04-04T23:35:58.088108Z",
     "shell.execute_reply": "2021-04-04T23:35:58.088574Z"
    },
    "papermill": {
     "duration": 0.030047,
     "end_time": "2021-04-04T23:35:58.088717",
     "exception": false,
     "start_time": "2021-04-04T23:35:58.058670",
     "status": "completed"
    },
    "tags": []
   },
   "outputs": [],
   "source": [
    "working_df = df.copy()"
   ]
  },
  {
   "cell_type": "code",
   "execution_count": 11,
   "id": "3b26d675",
   "metadata": {
    "execution": {
     "iopub.execute_input": "2021-04-04T23:35:58.145609Z",
     "iopub.status.busy": "2021-04-04T23:35:58.144527Z",
     "iopub.status.idle": "2021-04-04T23:35:58.146993Z",
     "shell.execute_reply": "2021-04-04T23:35:58.148054Z"
    },
    "papermill": {
     "duration": 0.037084,
     "end_time": "2021-04-04T23:35:58.148429",
     "exception": false,
     "start_time": "2021-04-04T23:35:58.111345",
     "status": "completed"
    },
    "tags": []
   },
   "outputs": [],
   "source": [
    "working_df['defects'] = working_df['defects'].replace([False, True], [0, 1])"
   ]
  },
  {
   "cell_type": "code",
   "execution_count": 12,
   "id": "eb48604f",
   "metadata": {
    "execution": {
     "iopub.execute_input": "2021-04-04T23:35:58.199123Z",
     "iopub.status.busy": "2021-04-04T23:35:58.198451Z",
     "iopub.status.idle": "2021-04-04T23:35:58.200368Z",
     "shell.execute_reply": "2021-04-04T23:35:58.200847Z"
    },
    "papermill": {
     "duration": 0.028669,
     "end_time": "2021-04-04T23:35:58.200993",
     "exception": false,
     "start_time": "2021-04-04T23:35:58.172324",
     "status": "completed"
    },
    "tags": []
   },
   "outputs": [],
   "source": [
    "for col in dataset_config['delete_columns']:\n",
    "    del working_df[col]"
   ]
  },
  {
   "cell_type": "code",
   "execution_count": 13,
   "id": "9a17bc29",
   "metadata": {
    "execution": {
     "iopub.execute_input": "2021-04-04T23:35:58.266907Z",
     "iopub.status.busy": "2021-04-04T23:35:58.265193Z",
     "iopub.status.idle": "2021-04-04T23:35:58.277387Z",
     "shell.execute_reply": "2021-04-04T23:35:58.277981Z"
    },
    "papermill": {
     "duration": 0.051872,
     "end_time": "2021-04-04T23:35:58.278161",
     "exception": false,
     "start_time": "2021-04-04T23:35:58.226289",
     "status": "completed"
    },
    "tags": []
   },
   "outputs": [],
   "source": [
    "working_df = working_df.drop_duplicates()"
   ]
  },
  {
   "cell_type": "markdown",
   "id": "a4d52ca6",
   "metadata": {
    "papermill": {
     "duration": 0.025799,
     "end_time": "2021-04-04T23:35:58.327386",
     "exception": false,
     "start_time": "2021-04-04T23:35:58.301587",
     "status": "completed"
    },
    "tags": []
   },
   "source": [
    "# Split"
   ]
  },
  {
   "cell_type": "code",
   "execution_count": 14,
   "id": "3e9ee4b5",
   "metadata": {
    "execution": {
     "iopub.execute_input": "2021-04-04T23:35:58.399441Z",
     "iopub.status.busy": "2021-04-04T23:35:58.398210Z",
     "iopub.status.idle": "2021-04-04T23:35:58.446740Z",
     "shell.execute_reply": "2021-04-04T23:35:58.447956Z"
    },
    "papermill": {
     "duration": 0.091858,
     "end_time": "2021-04-04T23:35:58.448309",
     "exception": false,
     "start_time": "2021-04-04T23:35:58.356451",
     "status": "completed"
    },
    "tags": []
   },
   "outputs": [],
   "source": [
    "from sklearn.model_selection import train_test_split"
   ]
  },
  {
   "cell_type": "code",
   "execution_count": 15,
   "id": "274004ce",
   "metadata": {
    "execution": {
     "iopub.execute_input": "2021-04-04T23:35:58.514465Z",
     "iopub.status.busy": "2021-04-04T23:35:58.512326Z",
     "iopub.status.idle": "2021-04-04T23:35:58.519859Z",
     "shell.execute_reply": "2021-04-04T23:35:58.520427Z"
    },
    "papermill": {
     "duration": 0.048427,
     "end_time": "2021-04-04T23:35:58.520593",
     "exception": false,
     "start_time": "2021-04-04T23:35:58.472166",
     "status": "completed"
    },
    "scrolled": true,
    "tags": []
   },
   "outputs": [],
   "source": [
    "inlier, outlier = working_df[working_df['defects'] == 0], working_df[working_df['defects'] == 1]"
   ]
  },
  {
   "cell_type": "code",
   "execution_count": 16,
   "id": "753c7b03",
   "metadata": {
    "execution": {
     "iopub.execute_input": "2021-04-04T23:35:58.592398Z",
     "iopub.status.busy": "2021-04-04T23:35:58.590040Z",
     "iopub.status.idle": "2021-04-04T23:35:58.599688Z",
     "shell.execute_reply": "2021-04-04T23:35:58.598030Z"
    },
    "papermill": {
     "duration": 0.051642,
     "end_time": "2021-04-04T23:35:58.600078",
     "exception": false,
     "start_time": "2021-04-04T23:35:58.548436",
     "status": "completed"
    },
    "tags": []
   },
   "outputs": [],
   "source": [
    "X_inlier = inlier.copy()\n",
    "y_inlier = X_inlier.pop('defects')\n",
    "X_outlier = outlier.copy()\n",
    "y_outlier = X_outlier.pop('defects')"
   ]
  },
  {
   "cell_type": "code",
   "execution_count": 17,
   "id": "2ba43193",
   "metadata": {
    "execution": {
     "iopub.execute_input": "2021-04-04T23:35:58.660130Z",
     "iopub.status.busy": "2021-04-04T23:35:58.659527Z",
     "iopub.status.idle": "2021-04-04T23:35:58.661633Z",
     "shell.execute_reply": "2021-04-04T23:35:58.662095Z"
    },
    "papermill": {
     "duration": 0.034512,
     "end_time": "2021-04-04T23:35:58.662239",
     "exception": false,
     "start_time": "2021-04-04T23:35:58.627727",
     "status": "completed"
    },
    "tags": []
   },
   "outputs": [],
   "source": [
    "test_size = dataset_config['test_size']\n",
    "random_state = dataset_config['random_state']\n",
    "\n",
    "X_inlier_train, X_inlier_test, y_inlier_train, y_inlier_test = train_test_split(\n",
    "    X_inlier,\n",
    "    y_inlier,\n",
    "    test_size=test_size,\n",
    "    random_state=random_state\n",
    ")"
   ]
  },
  {
   "cell_type": "code",
   "execution_count": 18,
   "id": "0b7582ca",
   "metadata": {
    "execution": {
     "iopub.execute_input": "2021-04-04T23:35:58.721743Z",
     "iopub.status.busy": "2021-04-04T23:35:58.721011Z",
     "iopub.status.idle": "2021-04-04T23:35:58.722728Z",
     "shell.execute_reply": "2021-04-04T23:35:58.723265Z"
    },
    "papermill": {
     "duration": 0.035246,
     "end_time": "2021-04-04T23:35:58.723407",
     "exception": false,
     "start_time": "2021-04-04T23:35:58.688161",
     "status": "completed"
    },
    "tags": []
   },
   "outputs": [],
   "source": [
    "test_outlier_size = dataset_config['test_outlier_size']\n",
    "if test_outlier_size > 0.0:\n",
    "    X_outlier_train, X_outlier_test, y_outlier_train, y_outlier_test = train_test_split(\n",
    "        X_outlier,\n",
    "        y_outlier,\n",
    "        test_size=test_outlier_size,\n",
    "        random_state=random_state\n",
    "    )\n",
    "else:\n",
    "    X_outlier_train, y_outlier_train = pd.DataFrame(columns=X_outlier.columns), pd.Series(dtype='int64')\n",
    "    X_outlier_test, y_outlier_test = X_outlier.copy(), y_outlier.copy()"
   ]
  },
  {
   "cell_type": "code",
   "execution_count": 19,
   "id": "c34363db",
   "metadata": {
    "execution": {
     "iopub.execute_input": "2021-04-04T23:35:58.810479Z",
     "iopub.status.busy": "2021-04-04T23:35:58.809380Z",
     "iopub.status.idle": "2021-04-04T23:35:58.815254Z",
     "shell.execute_reply": "2021-04-04T23:35:58.814672Z"
    },
    "papermill": {
     "duration": 0.05824,
     "end_time": "2021-04-04T23:35:58.815374",
     "exception": false,
     "start_time": "2021-04-04T23:35:58.757134",
     "status": "completed"
    },
    "tags": []
   },
   "outputs": [],
   "source": [
    "X_train, y_train = pd.concat([X_inlier_train, X_outlier_train], ignore_index=True), pd.concat([y_inlier_train, y_outlier_train], ignore_index=True)\n",
    "X_test, y_test = pd.concat([X_inlier_test, X_outlier_test], ignore_index=True), pd.concat([y_inlier_test, y_outlier_test], ignore_index=True)"
   ]
  },
  {
   "cell_type": "markdown",
   "id": "7cde7309",
   "metadata": {
    "papermill": {
     "duration": 0.026689,
     "end_time": "2021-04-04T23:35:58.865686",
     "exception": false,
     "start_time": "2021-04-04T23:35:58.838997",
     "status": "completed"
    },
    "tags": []
   },
   "source": [
    "# Model"
   ]
  },
  {
   "cell_type": "code",
   "execution_count": 20,
   "id": "2b12a415",
   "metadata": {
    "execution": {
     "iopub.execute_input": "2021-04-04T23:35:58.925869Z",
     "iopub.status.busy": "2021-04-04T23:35:58.925136Z",
     "iopub.status.idle": "2021-04-04T23:35:58.926840Z",
     "shell.execute_reply": "2021-04-04T23:35:58.927313Z"
    },
    "papermill": {
     "duration": 0.038085,
     "end_time": "2021-04-04T23:35:58.927459",
     "exception": false,
     "start_time": "2021-04-04T23:35:58.889374",
     "status": "completed"
    },
    "tags": []
   },
   "outputs": [],
   "source": [
    "from math import sqrt\n",
    "\n",
    "\n",
    "class KNNDataDescription:\n",
    "    def __init__(self, k=5, outlier_threshold=1.0):\n",
    "        self.k = k\n",
    "        self.outlier_threshold = outlier_threshold\n",
    "        self.X = []\n",
    "    \n",
    "    def fit(self, X):\n",
    "        self.X = [features.to_list() for index, features in X.iterrows()]\n",
    "\n",
    "    def predict(self, entries):\n",
    "        return [self.predict_entry(features.to_list()) for index, features in entries.iterrows()]\n",
    "    \n",
    "    def predict_entry(self, entry):\n",
    "        kth_neighbor, kth_distance = self.get_kth_neighbor(entry, self.k)\n",
    "        kth_kth_neighbor, kth_kth_distance = self.get_kth_neighbor(kth_neighbor, self.k + 1)\n",
    "\n",
    "        outlier_score = kth_distance / (kth_kth_distance + 0.000001)\n",
    "\n",
    "        return 1 if outlier_score < self.outlier_threshold else -1\n",
    "        \n",
    "    def euclidean_distance(self, features1, features2):\n",
    "        distance = 0.0\n",
    "        for feat1, feat2 in zip(features1, features2):\n",
    "            distance += (feat1 - feat2)**2\n",
    "                \n",
    "        return sqrt(distance)\n",
    "\n",
    "    def get_neighbors(self, entry, k):\n",
    "        distance_to_data_points = [\n",
    "            (data_point, self.euclidean_distance(entry, data_point))\n",
    "            for data_point in self.X\n",
    "        ]\n",
    "        sorted_by_distance = sorted(distance_to_data_points, key=lambda tup: tup[1])\n",
    "        neighbors = sorted_by_distance[:k]\n",
    "        return neighbors\n",
    "\n",
    "    def get_kth_neighbor(self, entry, k):\n",
    "        neighbors = self.get_neighbors(entry, k)\n",
    "        return neighbors[-1]\n"
   ]
  },
  {
   "cell_type": "code",
   "execution_count": 21,
   "id": "1fa9ec1c",
   "metadata": {
    "execution": {
     "iopub.execute_input": "2021-04-04T23:35:58.991283Z",
     "iopub.status.busy": "2021-04-04T23:35:58.989994Z",
     "iopub.status.idle": "2021-04-04T23:35:59.022301Z",
     "shell.execute_reply": "2021-04-04T23:35:59.021702Z"
    },
    "papermill": {
     "duration": 0.069423,
     "end_time": "2021-04-04T23:35:59.022420",
     "exception": false,
     "start_time": "2021-04-04T23:35:58.952997",
     "status": "completed"
    },
    "tags": []
   },
   "outputs": [],
   "source": [
    "from sklearn.svm import OneClassSVM\n",
    "\n",
    "\n",
    "models = {\n",
    "    'oneclasssvm': OneClassSVM,\n",
    "    'knndatadescription': KNNDataDescription,\n",
    "}"
   ]
  },
  {
   "cell_type": "code",
   "execution_count": 22,
   "id": "4d72a0b1",
   "metadata": {
    "execution": {
     "iopub.execute_input": "2021-04-04T23:35:59.077753Z",
     "iopub.status.busy": "2021-04-04T23:35:59.077020Z",
     "iopub.status.idle": "2021-04-04T23:35:59.078743Z",
     "shell.execute_reply": "2021-04-04T23:35:59.079208Z"
    },
    "papermill": {
     "duration": 0.033776,
     "end_time": "2021-04-04T23:35:59.079350",
     "exception": false,
     "start_time": "2021-04-04T23:35:59.045574",
     "status": "completed"
    },
    "scrolled": true,
    "tags": []
   },
   "outputs": [],
   "source": [
    "model_cls = models[model_config['model_type']]\n",
    "model = model_cls(**model_config['hyperparameters'])"
   ]
  },
  {
   "cell_type": "markdown",
   "id": "e00cff3b",
   "metadata": {
    "papermill": {
     "duration": 0.027022,
     "end_time": "2021-04-04T23:35:59.131121",
     "exception": false,
     "start_time": "2021-04-04T23:35:59.104099",
     "status": "completed"
    },
    "tags": []
   },
   "source": [
    "# Fit"
   ]
  },
  {
   "cell_type": "code",
   "execution_count": 23,
   "id": "8b2ded89",
   "metadata": {
    "execution": {
     "iopub.execute_input": "2021-04-04T23:35:59.192711Z",
     "iopub.status.busy": "2021-04-04T23:35:59.184610Z",
     "iopub.status.idle": "2021-04-04T23:35:59.219673Z",
     "shell.execute_reply": "2021-04-04T23:35:59.218546Z"
    },
    "papermill": {
     "duration": 0.06323,
     "end_time": "2021-04-04T23:35:59.219818",
     "exception": false,
     "start_time": "2021-04-04T23:35:59.156588",
     "status": "completed"
    },
    "tags": []
   },
   "outputs": [],
   "source": [
    "model.fit(X_train)"
   ]
  },
  {
   "cell_type": "markdown",
   "id": "f99999f7",
   "metadata": {
    "papermill": {
     "duration": 0.028953,
     "end_time": "2021-04-04T23:35:59.273363",
     "exception": false,
     "start_time": "2021-04-04T23:35:59.244410",
     "status": "completed"
    },
    "tags": []
   },
   "source": [
    "# Predict"
   ]
  },
  {
   "cell_type": "code",
   "execution_count": 24,
   "id": "6536fbf7",
   "metadata": {
    "execution": {
     "iopub.execute_input": "2021-04-04T23:35:59.354695Z",
     "iopub.status.busy": "2021-04-04T23:35:59.343077Z",
     "iopub.status.idle": "2021-04-04T23:35:59.651041Z",
     "shell.execute_reply": "2021-04-04T23:35:59.651555Z"
    },
    "papermill": {
     "duration": 0.35269,
     "end_time": "2021-04-04T23:35:59.651703",
     "exception": false,
     "start_time": "2021-04-04T23:35:59.299013",
     "status": "completed"
    },
    "tags": []
   },
   "outputs": [],
   "source": [
    "predictions = model.predict(X_test)"
   ]
  },
  {
   "cell_type": "markdown",
   "id": "aa1c9881",
   "metadata": {
    "papermill": {
     "duration": 0.028175,
     "end_time": "2021-04-04T23:35:59.707146",
     "exception": false,
     "start_time": "2021-04-04T23:35:59.678971",
     "status": "completed"
    },
    "tags": []
   },
   "source": [
    "# Evaluate"
   ]
  },
  {
   "cell_type": "code",
   "execution_count": 25,
   "id": "894f0f04",
   "metadata": {
    "execution": {
     "iopub.execute_input": "2021-04-04T23:35:59.764465Z",
     "iopub.status.busy": "2021-04-04T23:35:59.763878Z",
     "iopub.status.idle": "2021-04-04T23:35:59.766146Z",
     "shell.execute_reply": "2021-04-04T23:35:59.767410Z"
    },
    "papermill": {
     "duration": 0.033901,
     "end_time": "2021-04-04T23:35:59.767857",
     "exception": false,
     "start_time": "2021-04-04T23:35:59.733956",
     "status": "completed"
    },
    "tags": []
   },
   "outputs": [],
   "source": [
    "from sklearn.metrics import f1_score"
   ]
  },
  {
   "cell_type": "code",
   "execution_count": 26,
   "id": "211744d3",
   "metadata": {
    "execution": {
     "iopub.execute_input": "2021-04-04T23:35:59.830125Z",
     "iopub.status.busy": "2021-04-04T23:35:59.829224Z",
     "iopub.status.idle": "2021-04-04T23:35:59.831290Z",
     "shell.execute_reply": "2021-04-04T23:35:59.831931Z"
    },
    "papermill": {
     "duration": 0.038383,
     "end_time": "2021-04-04T23:35:59.832098",
     "exception": false,
     "start_time": "2021-04-04T23:35:59.793715",
     "status": "completed"
    },
    "tags": []
   },
   "outputs": [],
   "source": [
    "y_test = y_test.replace([0, 1], [1, -1])"
   ]
  },
  {
   "cell_type": "code",
   "execution_count": 27,
   "id": "d68a9204",
   "metadata": {
    "execution": {
     "iopub.execute_input": "2021-04-04T23:35:59.890256Z",
     "iopub.status.busy": "2021-04-04T23:35:59.889389Z",
     "iopub.status.idle": "2021-04-04T23:35:59.892042Z",
     "shell.execute_reply": "2021-04-04T23:35:59.891509Z"
    },
    "papermill": {
     "duration": 0.035312,
     "end_time": "2021-04-04T23:35:59.892161",
     "exception": false,
     "start_time": "2021-04-04T23:35:59.856849",
     "status": "completed"
    },
    "tags": []
   },
   "outputs": [],
   "source": [
    "def evaluate(truths, predictions, pos_label, neg_label):\n",
    "    TP = 0\n",
    "    FP = 0\n",
    "    TN = 0\n",
    "    FN = 0\n",
    "\n",
    "    for truth, pred in zip(truths, predictions): \n",
    "        if truth == pred == pos_label:\n",
    "           TP += 1\n",
    "        elif pred == pos_label and truth == neg_label:\n",
    "           FP += 1\n",
    "        elif truth == pred == neg_label:\n",
    "           TN += 1\n",
    "        elif pred == neg_label and truth == pos_label:\n",
    "           FN += 1\n",
    "\n",
    "    precision = TP / (TP + FP)\n",
    "    sensitivity = TP / (TP + FN)\n",
    "    \n",
    "    return {\n",
    "        'true_pos': TP,\n",
    "        'false_pos': FP,\n",
    "        'false_neg': FN,\n",
    "        'true_neg': TN,\n",
    "        'precision': precision,\n",
    "        'sensitivity': sensitivity,\n",
    "        'f1': (2 * (precision * sensitivity)) / (precision + sensitivity)\n",
    "    }\n",
    "\n",
    "score = evaluate(y_test, predictions, pos_label=-1, neg_label=1)"
   ]
  },
  {
   "cell_type": "markdown",
   "id": "93596516",
   "metadata": {
    "papermill": {
     "duration": 0.02938,
     "end_time": "2021-04-04T23:35:59.950025",
     "exception": false,
     "start_time": "2021-04-04T23:35:59.920645",
     "status": "completed"
    },
    "tags": []
   },
   "source": [
    "# Report"
   ]
  },
  {
   "cell_type": "code",
   "execution_count": 28,
   "id": "bea5fba1",
   "metadata": {
    "execution": {
     "iopub.execute_input": "2021-04-04T23:36:00.006638Z",
     "iopub.status.busy": "2021-04-04T23:36:00.006044Z",
     "iopub.status.idle": "2021-04-04T23:36:00.008384Z",
     "shell.execute_reply": "2021-04-04T23:36:00.008860Z"
    },
    "papermill": {
     "duration": 0.031508,
     "end_time": "2021-04-04T23:36:00.009005",
     "exception": false,
     "start_time": "2021-04-04T23:35:59.977497",
     "status": "completed"
    },
    "tags": []
   },
   "outputs": [],
   "source": [
    "import csv\n",
    "\n",
    "\n",
    "dataset_config_name = DATASET_CONFIG_PATH.split('/')[-1].split('.')[0]\n",
    "model_config_name = MODEL_CONFIG_PATH.split('/')[-1].split('.')[0]\n",
    "configuration = f\"dataset_{dataset_config_name}-model_{model_config_name}\"\n",
    "\n",
    "with open('results.csv', 'a') as f:\n",
    "    report = dict({'configuration': configuration}, **score)\n",
    "    writer = csv.DictWriter(f, report.keys())\n",
    "    writer.writerow(report)"
   ]
  }
 ],
 "metadata": {
  "celltoolbar": "Tags",
  "kernelspec": {
   "display_name": "Python 3",
   "language": "python",
   "name": "python3"
  },
  "language_info": {
   "codemirror_mode": {
    "name": "ipython",
    "version": 3
   },
   "file_extension": ".py",
   "mimetype": "text/x-python",
   "name": "python",
   "nbconvert_exporter": "python",
   "pygments_lexer": "ipython3",
   "version": "3.9.1"
  },
  "papermill": {
   "default_parameters": {},
   "duration": 5.859982,
   "end_time": "2021-04-04T23:36:00.644148",
   "environment_variables": {},
   "exception": null,
   "input_path": "main.ipynb",
   "output_path": "runs/dataset_000155-model_000003.ipynb",
   "parameters": {
    "DATASET_CONFIG_PATH": "config/dataset/000155.json",
    "MODEL_CONFIG_PATH": "config/model/000003.json",
    "PROFILE_REPORTING": false
   },
   "start_time": "2021-04-04T23:35:54.784166",
   "version": "2.3.3"
  }
 },
 "nbformat": 4,
 "nbformat_minor": 5
}