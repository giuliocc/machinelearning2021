{
 "cells": [
  {
   "cell_type": "markdown",
   "id": "51c71c25",
   "metadata": {
    "papermill": {
     "duration": 0.029354,
     "end_time": "2021-04-04T23:13:50.955246",
     "exception": false,
     "start_time": "2021-04-04T23:13:50.925892",
     "status": "completed"
    },
    "tags": []
   },
   "source": [
    "# Parametrizing"
   ]
  },
  {
   "cell_type": "code",
   "execution_count": 1,
   "id": "3b136394",
   "metadata": {
    "execution": {
     "iopub.execute_input": "2021-04-04T23:13:51.009917Z",
     "iopub.status.busy": "2021-04-04T23:13:51.008680Z",
     "iopub.status.idle": "2021-04-04T23:13:51.012783Z",
     "shell.execute_reply": "2021-04-04T23:13:51.011667Z"
    },
    "papermill": {
     "duration": 0.037961,
     "end_time": "2021-04-04T23:13:51.013026",
     "exception": false,
     "start_time": "2021-04-04T23:13:50.975065",
     "status": "completed"
    },
    "tags": [
     "parameters"
    ]
   },
   "outputs": [],
   "source": [
    "DATASET_CONFIG_PATH = 'config/dataset/kc1_001.json'\n",
    "MODEL_CONFIG_PATH = 'config/model/knndd_001.json'\n",
    "PROFILE_REPORTING = False"
   ]
  },
  {
   "cell_type": "code",
   "execution_count": 2,
   "id": "0b77e873",
   "metadata": {
    "execution": {
     "iopub.execute_input": "2021-04-04T23:13:51.062131Z",
     "iopub.status.busy": "2021-04-04T23:13:51.060923Z",
     "iopub.status.idle": "2021-04-04T23:13:51.064496Z",
     "shell.execute_reply": "2021-04-04T23:13:51.063659Z"
    },
    "papermill": {
     "duration": 0.027993,
     "end_time": "2021-04-04T23:13:51.064663",
     "exception": false,
     "start_time": "2021-04-04T23:13:51.036670",
     "status": "completed"
    },
    "tags": [
     "injected-parameters"
    ]
   },
   "outputs": [],
   "source": [
    "# Parameters\n",
    "DATASET_CONFIG_PATH = \"config/dataset/000103.json\"\n",
    "MODEL_CONFIG_PATH = \"config/model/000001.json\"\n",
    "PROFILE_REPORTING = False\n"
   ]
  },
  {
   "cell_type": "code",
   "execution_count": 3,
   "id": "b80f2a10",
   "metadata": {
    "execution": {
     "iopub.execute_input": "2021-04-04T23:13:51.113432Z",
     "iopub.status.busy": "2021-04-04T23:13:51.112531Z",
     "iopub.status.idle": "2021-04-04T23:13:51.114806Z",
     "shell.execute_reply": "2021-04-04T23:13:51.115258Z"
    },
    "papermill": {
     "duration": 0.027972,
     "end_time": "2021-04-04T23:13:51.115408",
     "exception": false,
     "start_time": "2021-04-04T23:13:51.087436",
     "status": "completed"
    },
    "tags": []
   },
   "outputs": [],
   "source": [
    "import json\n",
    "\n",
    "\n",
    "with open(DATASET_CONFIG_PATH) as f:\n",
    "    dataset_config = json.load(f)\n",
    "\n",
    "with open(MODEL_CONFIG_PATH) as f:\n",
    "    model_config = json.load(f)"
   ]
  },
  {
   "cell_type": "markdown",
   "id": "9a4b0e2d",
   "metadata": {
    "papermill": {
     "duration": 0.019416,
     "end_time": "2021-04-04T23:13:51.154791",
     "exception": false,
     "start_time": "2021-04-04T23:13:51.135375",
     "status": "completed"
    },
    "tags": []
   },
   "source": [
    "# Profiling"
   ]
  },
  {
   "cell_type": "code",
   "execution_count": 4,
   "id": "a3e0289b",
   "metadata": {
    "execution": {
     "iopub.execute_input": "2021-04-04T23:13:51.198933Z",
     "iopub.status.busy": "2021-04-04T23:13:51.197908Z",
     "iopub.status.idle": "2021-04-04T23:13:52.467861Z",
     "shell.execute_reply": "2021-04-04T23:13:52.466803Z"
    },
    "papermill": {
     "duration": 1.293988,
     "end_time": "2021-04-04T23:13:52.468058",
     "exception": false,
     "start_time": "2021-04-04T23:13:51.174070",
     "status": "completed"
    },
    "tags": []
   },
   "outputs": [],
   "source": [
    "import pandas as pd\n",
    "from pandas_profiling import ProfileReport"
   ]
  },
  {
   "cell_type": "code",
   "execution_count": 5,
   "id": "ee6c0666",
   "metadata": {
    "execution": {
     "iopub.execute_input": "2021-04-04T23:13:52.523649Z",
     "iopub.status.busy": "2021-04-04T23:13:52.521706Z",
     "iopub.status.idle": "2021-04-04T23:13:52.533466Z",
     "shell.execute_reply": "2021-04-04T23:13:52.532393Z"
    },
    "papermill": {
     "duration": 0.036913,
     "end_time": "2021-04-04T23:13:52.533670",
     "exception": false,
     "start_time": "2021-04-04T23:13:52.496757",
     "status": "completed"
    },
    "tags": []
   },
   "outputs": [],
   "source": [
    "df = pd.read_csv(dataset_config['dataset_path'])"
   ]
  },
  {
   "cell_type": "code",
   "execution_count": 6,
   "id": "7eca6c4a",
   "metadata": {
    "execution": {
     "iopub.execute_input": "2021-04-04T23:13:52.602986Z",
     "iopub.status.busy": "2021-04-04T23:13:52.591254Z",
     "iopub.status.idle": "2021-04-04T23:13:52.607251Z",
     "shell.execute_reply": "2021-04-04T23:13:52.608050Z"
    },
    "papermill": {
     "duration": 0.045681,
     "end_time": "2021-04-04T23:13:52.608278",
     "exception": false,
     "start_time": "2021-04-04T23:13:52.562597",
     "status": "completed"
    },
    "tags": []
   },
   "outputs": [
    {
     "name": "stdout",
     "output_type": "stream",
     "text": [
      "<class 'pandas.core.frame.DataFrame'>\n",
      "RangeIndex: 498 entries, 0 to 497\n",
      "Data columns (total 23 columns):\n",
      " #   Column             Non-Null Count  Dtype  \n",
      "---  ------             --------------  -----  \n",
      " 0   id                 498 non-null    int64  \n",
      " 1   loc                498 non-null    float64\n",
      " 2   v(g)               498 non-null    float64\n",
      " 3   ev(g)              498 non-null    float64\n",
      " 4   iv(g)              498 non-null    float64\n",
      " 5   n                  498 non-null    float64\n",
      " 6   v                  498 non-null    float64\n",
      " 7   l                  498 non-null    float64\n",
      " 8   d                  498 non-null    float64\n",
      " 9   i                  498 non-null    float64\n",
      " 10  e                  498 non-null    float64\n",
      " 11  b                  498 non-null    float64\n",
      " 12  t                  498 non-null    float64\n",
      " 13  lOCode             498 non-null    int64  \n",
      " 14  lOComment          498 non-null    int64  \n",
      " 15  lOBlank            498 non-null    int64  \n",
      " 16  locCodeAndComment  498 non-null    int64  \n",
      " 17  uniq_Op            498 non-null    float64\n",
      " 18  uniq_Opnd          498 non-null    float64\n",
      " 19  total_Op           498 non-null    float64\n",
      " 20  total_Opnd         498 non-null    float64\n",
      " 21  branchCount        498 non-null    float64\n",
      " 22  defects            498 non-null    bool   \n",
      "dtypes: bool(1), float64(17), int64(5)\n",
      "memory usage: 86.2 KB\n"
     ]
    }
   ],
   "source": [
    "df.info()"
   ]
  },
  {
   "cell_type": "code",
   "execution_count": 7,
   "id": "3638e5e8",
   "metadata": {
    "execution": {
     "iopub.execute_input": "2021-04-04T23:13:52.666551Z",
     "iopub.status.busy": "2021-04-04T23:13:52.665797Z",
     "iopub.status.idle": "2021-04-04T23:13:52.691160Z",
     "shell.execute_reply": "2021-04-04T23:13:52.691632Z"
    },
    "papermill": {
     "duration": 0.054735,
     "end_time": "2021-04-04T23:13:52.691776",
     "exception": false,
     "start_time": "2021-04-04T23:13:52.637041",
     "status": "completed"
    },
    "tags": []
   },
   "outputs": [
    {
     "data": {
      "text/html": [
       "<div>\n",
       "<style scoped>\n",
       "    .dataframe tbody tr th:only-of-type {\n",
       "        vertical-align: middle;\n",
       "    }\n",
       "\n",
       "    .dataframe tbody tr th {\n",
       "        vertical-align: top;\n",
       "    }\n",
       "\n",
       "    .dataframe thead th {\n",
       "        text-align: right;\n",
       "    }\n",
       "</style>\n",
       "<table border=\"1\" class=\"dataframe\">\n",
       "  <thead>\n",
       "    <tr style=\"text-align: right;\">\n",
       "      <th></th>\n",
       "      <th>id</th>\n",
       "      <th>loc</th>\n",
       "      <th>v(g)</th>\n",
       "      <th>ev(g)</th>\n",
       "      <th>iv(g)</th>\n",
       "      <th>n</th>\n",
       "      <th>v</th>\n",
       "      <th>l</th>\n",
       "      <th>d</th>\n",
       "      <th>i</th>\n",
       "      <th>...</th>\n",
       "      <th>lOCode</th>\n",
       "      <th>lOComment</th>\n",
       "      <th>lOBlank</th>\n",
       "      <th>locCodeAndComment</th>\n",
       "      <th>uniq_Op</th>\n",
       "      <th>uniq_Opnd</th>\n",
       "      <th>total_Op</th>\n",
       "      <th>total_Opnd</th>\n",
       "      <th>branchCount</th>\n",
       "      <th>defects</th>\n",
       "    </tr>\n",
       "  </thead>\n",
       "  <tbody>\n",
       "    <tr>\n",
       "      <th>0</th>\n",
       "      <td>1</td>\n",
       "      <td>1.1</td>\n",
       "      <td>1.4</td>\n",
       "      <td>1.4</td>\n",
       "      <td>1.4</td>\n",
       "      <td>1.3</td>\n",
       "      <td>1.30</td>\n",
       "      <td>1.30</td>\n",
       "      <td>1.30</td>\n",
       "      <td>1.30</td>\n",
       "      <td>...</td>\n",
       "      <td>2</td>\n",
       "      <td>2</td>\n",
       "      <td>2</td>\n",
       "      <td>2</td>\n",
       "      <td>1.2</td>\n",
       "      <td>1.2</td>\n",
       "      <td>1.2</td>\n",
       "      <td>1.2</td>\n",
       "      <td>1.4</td>\n",
       "      <td>False</td>\n",
       "    </tr>\n",
       "    <tr>\n",
       "      <th>1</th>\n",
       "      <td>2</td>\n",
       "      <td>1.0</td>\n",
       "      <td>1.0</td>\n",
       "      <td>1.0</td>\n",
       "      <td>1.0</td>\n",
       "      <td>1.0</td>\n",
       "      <td>1.00</td>\n",
       "      <td>1.00</td>\n",
       "      <td>1.00</td>\n",
       "      <td>1.00</td>\n",
       "      <td>...</td>\n",
       "      <td>1</td>\n",
       "      <td>1</td>\n",
       "      <td>1</td>\n",
       "      <td>1</td>\n",
       "      <td>1.0</td>\n",
       "      <td>1.0</td>\n",
       "      <td>1.0</td>\n",
       "      <td>1.0</td>\n",
       "      <td>1.0</td>\n",
       "      <td>True</td>\n",
       "    </tr>\n",
       "    <tr>\n",
       "      <th>2</th>\n",
       "      <td>3</td>\n",
       "      <td>24.0</td>\n",
       "      <td>5.0</td>\n",
       "      <td>1.0</td>\n",
       "      <td>3.0</td>\n",
       "      <td>63.0</td>\n",
       "      <td>309.13</td>\n",
       "      <td>0.11</td>\n",
       "      <td>9.50</td>\n",
       "      <td>32.54</td>\n",
       "      <td>...</td>\n",
       "      <td>1</td>\n",
       "      <td>0</td>\n",
       "      <td>6</td>\n",
       "      <td>0</td>\n",
       "      <td>15.0</td>\n",
       "      <td>15.0</td>\n",
       "      <td>44.0</td>\n",
       "      <td>19.0</td>\n",
       "      <td>9.0</td>\n",
       "      <td>False</td>\n",
       "    </tr>\n",
       "    <tr>\n",
       "      <th>3</th>\n",
       "      <td>4</td>\n",
       "      <td>20.0</td>\n",
       "      <td>4.0</td>\n",
       "      <td>4.0</td>\n",
       "      <td>2.0</td>\n",
       "      <td>47.0</td>\n",
       "      <td>215.49</td>\n",
       "      <td>0.06</td>\n",
       "      <td>16.00</td>\n",
       "      <td>13.47</td>\n",
       "      <td>...</td>\n",
       "      <td>0</td>\n",
       "      <td>0</td>\n",
       "      <td>3</td>\n",
       "      <td>0</td>\n",
       "      <td>16.0</td>\n",
       "      <td>8.0</td>\n",
       "      <td>31.0</td>\n",
       "      <td>16.0</td>\n",
       "      <td>7.0</td>\n",
       "      <td>False</td>\n",
       "    </tr>\n",
       "    <tr>\n",
       "      <th>4</th>\n",
       "      <td>5</td>\n",
       "      <td>24.0</td>\n",
       "      <td>6.0</td>\n",
       "      <td>6.0</td>\n",
       "      <td>2.0</td>\n",
       "      <td>72.0</td>\n",
       "      <td>346.13</td>\n",
       "      <td>0.06</td>\n",
       "      <td>17.33</td>\n",
       "      <td>19.97</td>\n",
       "      <td>...</td>\n",
       "      <td>0</td>\n",
       "      <td>0</td>\n",
       "      <td>3</td>\n",
       "      <td>0</td>\n",
       "      <td>16.0</td>\n",
       "      <td>12.0</td>\n",
       "      <td>46.0</td>\n",
       "      <td>26.0</td>\n",
       "      <td>11.0</td>\n",
       "      <td>False</td>\n",
       "    </tr>\n",
       "  </tbody>\n",
       "</table>\n",
       "<p>5 rows × 23 columns</p>\n",
       "</div>"
      ],
      "text/plain": [
       "   id   loc  v(g)  ev(g)  iv(g)     n       v     l      d      i  ...  \\\n",
       "0   1   1.1   1.4    1.4    1.4   1.3    1.30  1.30   1.30   1.30  ...   \n",
       "1   2   1.0   1.0    1.0    1.0   1.0    1.00  1.00   1.00   1.00  ...   \n",
       "2   3  24.0   5.0    1.0    3.0  63.0  309.13  0.11   9.50  32.54  ...   \n",
       "3   4  20.0   4.0    4.0    2.0  47.0  215.49  0.06  16.00  13.47  ...   \n",
       "4   5  24.0   6.0    6.0    2.0  72.0  346.13  0.06  17.33  19.97  ...   \n",
       "\n",
       "   lOCode  lOComment  lOBlank  locCodeAndComment  uniq_Op  uniq_Opnd  \\\n",
       "0       2          2        2                  2      1.2        1.2   \n",
       "1       1          1        1                  1      1.0        1.0   \n",
       "2       1          0        6                  0     15.0       15.0   \n",
       "3       0          0        3                  0     16.0        8.0   \n",
       "4       0          0        3                  0     16.0       12.0   \n",
       "\n",
       "   total_Op  total_Opnd  branchCount  defects  \n",
       "0       1.2         1.2          1.4    False  \n",
       "1       1.0         1.0          1.0     True  \n",
       "2      44.0        19.0          9.0    False  \n",
       "3      31.0        16.0          7.0    False  \n",
       "4      46.0        26.0         11.0    False  \n",
       "\n",
       "[5 rows x 23 columns]"
      ]
     },
     "execution_count": 7,
     "metadata": {},
     "output_type": "execute_result"
    }
   ],
   "source": [
    "df.head()"
   ]
  },
  {
   "cell_type": "code",
   "execution_count": 8,
   "id": "733e95eb",
   "metadata": {
    "execution": {
     "iopub.execute_input": "2021-04-04T23:13:52.747826Z",
     "iopub.status.busy": "2021-04-04T23:13:52.741320Z",
     "iopub.status.idle": "2021-04-04T23:13:52.751127Z",
     "shell.execute_reply": "2021-04-04T23:13:52.750278Z"
    },
    "papermill": {
     "duration": 0.037417,
     "end_time": "2021-04-04T23:13:52.751283",
     "exception": false,
     "start_time": "2021-04-04T23:13:52.713866",
     "status": "completed"
    },
    "tags": []
   },
   "outputs": [],
   "source": [
    "del df['id']"
   ]
  },
  {
   "cell_type": "code",
   "execution_count": 9,
   "id": "6ff6f5b0",
   "metadata": {
    "execution": {
     "iopub.execute_input": "2021-04-04T23:13:52.800707Z",
     "iopub.status.busy": "2021-04-04T23:13:52.799981Z",
     "iopub.status.idle": "2021-04-04T23:13:52.802736Z",
     "shell.execute_reply": "2021-04-04T23:13:52.803477Z"
    },
    "papermill": {
     "duration": 0.029181,
     "end_time": "2021-04-04T23:13:52.803689",
     "exception": false,
     "start_time": "2021-04-04T23:13:52.774508",
     "status": "completed"
    },
    "tags": []
   },
   "outputs": [],
   "source": [
    "if PROFILE_REPORTING:\n",
    "    ProfileReport(df).to_widgets()"
   ]
  },
  {
   "cell_type": "markdown",
   "id": "1deaf3f0",
   "metadata": {
    "papermill": {
     "duration": 0.021176,
     "end_time": "2021-04-04T23:13:52.848738",
     "exception": false,
     "start_time": "2021-04-04T23:13:52.827562",
     "status": "completed"
    },
    "tags": []
   },
   "source": [
    "# Preprocess"
   ]
  },
  {
   "cell_type": "code",
   "execution_count": 10,
   "id": "1513e563",
   "metadata": {
    "execution": {
     "iopub.execute_input": "2021-04-04T23:13:52.895862Z",
     "iopub.status.busy": "2021-04-04T23:13:52.895056Z",
     "iopub.status.idle": "2021-04-04T23:13:52.896945Z",
     "shell.execute_reply": "2021-04-04T23:13:52.897552Z"
    },
    "papermill": {
     "duration": 0.027942,
     "end_time": "2021-04-04T23:13:52.897705",
     "exception": false,
     "start_time": "2021-04-04T23:13:52.869763",
     "status": "completed"
    },
    "tags": []
   },
   "outputs": [],
   "source": [
    "working_df = df.copy()"
   ]
  },
  {
   "cell_type": "code",
   "execution_count": 11,
   "id": "3b26d675",
   "metadata": {
    "execution": {
     "iopub.execute_input": "2021-04-04T23:13:52.947745Z",
     "iopub.status.busy": "2021-04-04T23:13:52.947008Z",
     "iopub.status.idle": "2021-04-04T23:13:52.949142Z",
     "shell.execute_reply": "2021-04-04T23:13:52.949686Z"
    },
    "papermill": {
     "duration": 0.029572,
     "end_time": "2021-04-04T23:13:52.949867",
     "exception": false,
     "start_time": "2021-04-04T23:13:52.920295",
     "status": "completed"
    },
    "tags": []
   },
   "outputs": [],
   "source": [
    "working_df['defects'] = working_df['defects'].replace([False, True], [0, 1])"
   ]
  },
  {
   "cell_type": "code",
   "execution_count": 12,
   "id": "eb48604f",
   "metadata": {
    "execution": {
     "iopub.execute_input": "2021-04-04T23:13:52.999847Z",
     "iopub.status.busy": "2021-04-04T23:13:52.999206Z",
     "iopub.status.idle": "2021-04-04T23:13:53.001440Z",
     "shell.execute_reply": "2021-04-04T23:13:53.001999Z"
    },
    "papermill": {
     "duration": 0.028399,
     "end_time": "2021-04-04T23:13:53.002161",
     "exception": false,
     "start_time": "2021-04-04T23:13:52.973762",
     "status": "completed"
    },
    "tags": []
   },
   "outputs": [],
   "source": [
    "for col in dataset_config['delete_columns']:\n",
    "    del working_df[col]"
   ]
  },
  {
   "cell_type": "code",
   "execution_count": 13,
   "id": "9a17bc29",
   "metadata": {
    "execution": {
     "iopub.execute_input": "2021-04-04T23:13:53.055582Z",
     "iopub.status.busy": "2021-04-04T23:13:53.054653Z",
     "iopub.status.idle": "2021-04-04T23:13:53.064831Z",
     "shell.execute_reply": "2021-04-04T23:13:53.063801Z"
    },
    "papermill": {
     "duration": 0.038381,
     "end_time": "2021-04-04T23:13:53.065025",
     "exception": false,
     "start_time": "2021-04-04T23:13:53.026644",
     "status": "completed"
    },
    "tags": []
   },
   "outputs": [],
   "source": [
    "working_df = working_df.drop_duplicates()"
   ]
  },
  {
   "cell_type": "markdown",
   "id": "a4d52ca6",
   "metadata": {
    "papermill": {
     "duration": 0.021805,
     "end_time": "2021-04-04T23:13:53.118148",
     "exception": false,
     "start_time": "2021-04-04T23:13:53.096343",
     "status": "completed"
    },
    "tags": []
   },
   "source": [
    "# Split"
   ]
  },
  {
   "cell_type": "code",
   "execution_count": 14,
   "id": "3e9ee4b5",
   "metadata": {
    "execution": {
     "iopub.execute_input": "2021-04-04T23:13:53.168432Z",
     "iopub.status.busy": "2021-04-04T23:13:53.166943Z",
     "iopub.status.idle": "2021-04-04T23:13:53.204454Z",
     "shell.execute_reply": "2021-04-04T23:13:53.203263Z"
    },
    "papermill": {
     "duration": 0.064405,
     "end_time": "2021-04-04T23:13:53.204679",
     "exception": false,
     "start_time": "2021-04-04T23:13:53.140274",
     "status": "completed"
    },
    "tags": []
   },
   "outputs": [],
   "source": [
    "from sklearn.model_selection import train_test_split"
   ]
  },
  {
   "cell_type": "code",
   "execution_count": 15,
   "id": "274004ce",
   "metadata": {
    "execution": {
     "iopub.execute_input": "2021-04-04T23:13:53.261805Z",
     "iopub.status.busy": "2021-04-04T23:13:53.260849Z",
     "iopub.status.idle": "2021-04-04T23:13:53.266922Z",
     "shell.execute_reply": "2021-04-04T23:13:53.267647Z"
    },
    "papermill": {
     "duration": 0.034756,
     "end_time": "2021-04-04T23:13:53.267852",
     "exception": false,
     "start_time": "2021-04-04T23:13:53.233096",
     "status": "completed"
    },
    "scrolled": true,
    "tags": []
   },
   "outputs": [],
   "source": [
    "inlier, outlier = working_df[working_df['defects'] == 0], working_df[working_df['defects'] == 1]"
   ]
  },
  {
   "cell_type": "code",
   "execution_count": 16,
   "id": "753c7b03",
   "metadata": {
    "execution": {
     "iopub.execute_input": "2021-04-04T23:13:53.326382Z",
     "iopub.status.busy": "2021-04-04T23:13:53.325330Z",
     "iopub.status.idle": "2021-04-04T23:13:53.330381Z",
     "shell.execute_reply": "2021-04-04T23:13:53.330856Z"
    },
    "papermill": {
     "duration": 0.032601,
     "end_time": "2021-04-04T23:13:53.331000",
     "exception": false,
     "start_time": "2021-04-04T23:13:53.298399",
     "status": "completed"
    },
    "tags": []
   },
   "outputs": [],
   "source": [
    "X_inlier = inlier.copy()\n",
    "y_inlier = X_inlier.pop('defects')\n",
    "X_outlier = outlier.copy()\n",
    "y_outlier = X_outlier.pop('defects')"
   ]
  },
  {
   "cell_type": "code",
   "execution_count": 17,
   "id": "2ba43193",
   "metadata": {
    "execution": {
     "iopub.execute_input": "2021-04-04T23:13:53.391239Z",
     "iopub.status.busy": "2021-04-04T23:13:53.390049Z",
     "iopub.status.idle": "2021-04-04T23:13:53.392775Z",
     "shell.execute_reply": "2021-04-04T23:13:53.393716Z"
    },
    "papermill": {
     "duration": 0.036126,
     "end_time": "2021-04-04T23:13:53.393952",
     "exception": false,
     "start_time": "2021-04-04T23:13:53.357826",
     "status": "completed"
    },
    "tags": []
   },
   "outputs": [],
   "source": [
    "test_size = dataset_config['test_size']\n",
    "random_state = dataset_config['random_state']\n",
    "\n",
    "X_inlier_train, X_inlier_test, y_inlier_train, y_inlier_test = train_test_split(\n",
    "    X_inlier,\n",
    "    y_inlier,\n",
    "    test_size=test_size,\n",
    "    random_state=random_state\n",
    ")"
   ]
  },
  {
   "cell_type": "code",
   "execution_count": 18,
   "id": "0b7582ca",
   "metadata": {
    "execution": {
     "iopub.execute_input": "2021-04-04T23:13:53.451298Z",
     "iopub.status.busy": "2021-04-04T23:13:53.450549Z",
     "iopub.status.idle": "2021-04-04T23:13:53.453675Z",
     "shell.execute_reply": "2021-04-04T23:13:53.454638Z"
    },
    "papermill": {
     "duration": 0.035398,
     "end_time": "2021-04-04T23:13:53.454900",
     "exception": false,
     "start_time": "2021-04-04T23:13:53.419502",
     "status": "completed"
    },
    "tags": []
   },
   "outputs": [],
   "source": [
    "test_outlier_size = dataset_config['test_outlier_size']\n",
    "if test_outlier_size > 0.0:\n",
    "    X_outlier_train, X_outlier_test, y_outlier_train, y_outlier_test = train_test_split(\n",
    "        X_outlier,\n",
    "        y_outlier,\n",
    "        test_size=test_outlier_size,\n",
    "        random_state=random_state\n",
    "    )\n",
    "else:\n",
    "    X_outlier_train, y_outlier_train = pd.DataFrame(columns=X_outlier.columns), pd.Series(dtype='int64')\n",
    "    X_outlier_test, y_outlier_test = X_outlier.copy(), y_outlier.copy()"
   ]
  },
  {
   "cell_type": "code",
   "execution_count": 19,
   "id": "c34363db",
   "metadata": {
    "execution": {
     "iopub.execute_input": "2021-04-04T23:13:53.518222Z",
     "iopub.status.busy": "2021-04-04T23:13:53.513394Z",
     "iopub.status.idle": "2021-04-04T23:13:53.521176Z",
     "shell.execute_reply": "2021-04-04T23:13:53.521939Z"
    },
    "papermill": {
     "duration": 0.038587,
     "end_time": "2021-04-04T23:13:53.522152",
     "exception": false,
     "start_time": "2021-04-04T23:13:53.483565",
     "status": "completed"
    },
    "tags": []
   },
   "outputs": [],
   "source": [
    "X_train, y_train = pd.concat([X_inlier_train, X_outlier_train], ignore_index=True), pd.concat([y_inlier_train, y_outlier_train], ignore_index=True)\n",
    "X_test, y_test = pd.concat([X_inlier_test, X_outlier_test], ignore_index=True), pd.concat([y_inlier_test, y_outlier_test], ignore_index=True)"
   ]
  },
  {
   "cell_type": "markdown",
   "id": "7cde7309",
   "metadata": {
    "papermill": {
     "duration": 0.022255,
     "end_time": "2021-04-04T23:13:53.571660",
     "exception": false,
     "start_time": "2021-04-04T23:13:53.549405",
     "status": "completed"
    },
    "tags": []
   },
   "source": [
    "# Model"
   ]
  },
  {
   "cell_type": "code",
   "execution_count": 20,
   "id": "2b12a415",
   "metadata": {
    "execution": {
     "iopub.execute_input": "2021-04-04T23:13:53.630177Z",
     "iopub.status.busy": "2021-04-04T23:13:53.629233Z",
     "iopub.status.idle": "2021-04-04T23:13:53.631838Z",
     "shell.execute_reply": "2021-04-04T23:13:53.632324Z"
    },
    "papermill": {
     "duration": 0.038661,
     "end_time": "2021-04-04T23:13:53.632473",
     "exception": false,
     "start_time": "2021-04-04T23:13:53.593812",
     "status": "completed"
    },
    "tags": []
   },
   "outputs": [],
   "source": [
    "from math import sqrt\n",
    "\n",
    "\n",
    "class KNNDataDescription:\n",
    "    def __init__(self, k=5, outlier_threshold=1.0):\n",
    "        self.k = k\n",
    "        self.outlier_threshold = outlier_threshold\n",
    "        self.X = []\n",
    "    \n",
    "    def fit(self, X):\n",
    "        self.X = [features.to_list() for index, features in X.iterrows()]\n",
    "\n",
    "    def predict(self, entries):\n",
    "        return [self.predict_entry(features.to_list()) for index, features in entries.iterrows()]\n",
    "    \n",
    "    def predict_entry(self, entry):\n",
    "        kth_neighbor, kth_distance = self.get_kth_neighbor(entry, self.k)\n",
    "        kth_kth_neighbor, kth_kth_distance = self.get_kth_neighbor(kth_neighbor, self.k + 1)\n",
    "\n",
    "        outlier_score = kth_distance / (kth_kth_distance + 0.000001)\n",
    "\n",
    "        return 1 if outlier_score < self.outlier_threshold else -1\n",
    "        \n",
    "    def euclidean_distance(self, features1, features2):\n",
    "        distance = 0.0\n",
    "        for feat1, feat2 in zip(features1, features2):\n",
    "            distance += (feat1 - feat2)**2\n",
    "                \n",
    "        return sqrt(distance)\n",
    "\n",
    "    def get_neighbors(self, entry, k):\n",
    "        distance_to_data_points = [\n",
    "            (data_point, self.euclidean_distance(entry, data_point))\n",
    "            for data_point in self.X\n",
    "        ]\n",
    "        sorted_by_distance = sorted(distance_to_data_points, key=lambda tup: tup[1])\n",
    "        neighbors = sorted_by_distance[:k]\n",
    "        return neighbors\n",
    "\n",
    "    def get_kth_neighbor(self, entry, k):\n",
    "        neighbors = self.get_neighbors(entry, k)\n",
    "        return neighbors[-1]\n"
   ]
  },
  {
   "cell_type": "code",
   "execution_count": 21,
   "id": "1fa9ec1c",
   "metadata": {
    "execution": {
     "iopub.execute_input": "2021-04-04T23:13:53.682909Z",
     "iopub.status.busy": "2021-04-04T23:13:53.682219Z",
     "iopub.status.idle": "2021-04-04T23:13:53.704006Z",
     "shell.execute_reply": "2021-04-04T23:13:53.702930Z"
    },
    "papermill": {
     "duration": 0.048797,
     "end_time": "2021-04-04T23:13:53.704184",
     "exception": false,
     "start_time": "2021-04-04T23:13:53.655387",
     "status": "completed"
    },
    "tags": []
   },
   "outputs": [],
   "source": [
    "from sklearn.svm import OneClassSVM\n",
    "\n",
    "\n",
    "models = {\n",
    "    'oneclasssvm': OneClassSVM,\n",
    "    'knndatadescription': KNNDataDescription,\n",
    "}"
   ]
  },
  {
   "cell_type": "code",
   "execution_count": 22,
   "id": "4d72a0b1",
   "metadata": {
    "execution": {
     "iopub.execute_input": "2021-04-04T23:13:53.769303Z",
     "iopub.status.busy": "2021-04-04T23:13:53.768484Z",
     "iopub.status.idle": "2021-04-04T23:13:53.770891Z",
     "shell.execute_reply": "2021-04-04T23:13:53.771374Z"
    },
    "papermill": {
     "duration": 0.036427,
     "end_time": "2021-04-04T23:13:53.771518",
     "exception": false,
     "start_time": "2021-04-04T23:13:53.735091",
     "status": "completed"
    },
    "scrolled": true,
    "tags": []
   },
   "outputs": [],
   "source": [
    "model_cls = models[model_config['model_type']]\n",
    "model = model_cls(**model_config['hyperparameters'])"
   ]
  },
  {
   "cell_type": "markdown",
   "id": "e00cff3b",
   "metadata": {
    "papermill": {
     "duration": 0.024953,
     "end_time": "2021-04-04T23:13:53.820232",
     "exception": false,
     "start_time": "2021-04-04T23:13:53.795279",
     "status": "completed"
    },
    "tags": []
   },
   "source": [
    "# Fit"
   ]
  },
  {
   "cell_type": "code",
   "execution_count": 23,
   "id": "8b2ded89",
   "metadata": {
    "execution": {
     "iopub.execute_input": "2021-04-04T23:13:53.880080Z",
     "iopub.status.busy": "2021-04-04T23:13:53.874950Z",
     "iopub.status.idle": "2021-04-04T23:13:53.889412Z",
     "shell.execute_reply": "2021-04-04T23:13:53.888778Z"
    },
    "papermill": {
     "duration": 0.046205,
     "end_time": "2021-04-04T23:13:53.889538",
     "exception": false,
     "start_time": "2021-04-04T23:13:53.843333",
     "status": "completed"
    },
    "tags": []
   },
   "outputs": [],
   "source": [
    "model.fit(X_train)"
   ]
  },
  {
   "cell_type": "markdown",
   "id": "f99999f7",
   "metadata": {
    "papermill": {
     "duration": 0.022257,
     "end_time": "2021-04-04T23:13:53.936239",
     "exception": false,
     "start_time": "2021-04-04T23:13:53.913982",
     "status": "completed"
    },
    "tags": []
   },
   "source": [
    "# Predict"
   ]
  },
  {
   "cell_type": "code",
   "execution_count": 24,
   "id": "6536fbf7",
   "metadata": {
    "execution": {
     "iopub.execute_input": "2021-04-04T23:13:53.986257Z",
     "iopub.status.busy": "2021-04-04T23:13:53.985544Z",
     "iopub.status.idle": "2021-04-04T23:13:54.320283Z",
     "shell.execute_reply": "2021-04-04T23:13:54.320979Z"
    },
    "papermill": {
     "duration": 0.362042,
     "end_time": "2021-04-04T23:13:54.321178",
     "exception": false,
     "start_time": "2021-04-04T23:13:53.959136",
     "status": "completed"
    },
    "tags": []
   },
   "outputs": [],
   "source": [
    "predictions = model.predict(X_test)"
   ]
  },
  {
   "cell_type": "markdown",
   "id": "aa1c9881",
   "metadata": {
    "papermill": {
     "duration": 0.024812,
     "end_time": "2021-04-04T23:13:54.376535",
     "exception": false,
     "start_time": "2021-04-04T23:13:54.351723",
     "status": "completed"
    },
    "tags": []
   },
   "source": [
    "# Evaluate"
   ]
  },
  {
   "cell_type": "code",
   "execution_count": 25,
   "id": "894f0f04",
   "metadata": {
    "execution": {
     "iopub.execute_input": "2021-04-04T23:13:54.430102Z",
     "iopub.status.busy": "2021-04-04T23:13:54.428891Z",
     "iopub.status.idle": "2021-04-04T23:13:54.431479Z",
     "shell.execute_reply": "2021-04-04T23:13:54.431988Z"
    },
    "papermill": {
     "duration": 0.031898,
     "end_time": "2021-04-04T23:13:54.432139",
     "exception": false,
     "start_time": "2021-04-04T23:13:54.400241",
     "status": "completed"
    },
    "tags": []
   },
   "outputs": [],
   "source": [
    "from sklearn.metrics import f1_score"
   ]
  },
  {
   "cell_type": "code",
   "execution_count": 26,
   "id": "211744d3",
   "metadata": {
    "execution": {
     "iopub.execute_input": "2021-04-04T23:13:54.488191Z",
     "iopub.status.busy": "2021-04-04T23:13:54.487028Z",
     "iopub.status.idle": "2021-04-04T23:13:54.490257Z",
     "shell.execute_reply": "2021-04-04T23:13:54.489519Z"
    },
    "papermill": {
     "duration": 0.032319,
     "end_time": "2021-04-04T23:13:54.490424",
     "exception": false,
     "start_time": "2021-04-04T23:13:54.458105",
     "status": "completed"
    },
    "tags": []
   },
   "outputs": [],
   "source": [
    "y_test = y_test.replace([0, 1], [1, -1])"
   ]
  },
  {
   "cell_type": "code",
   "execution_count": 27,
   "id": "d68a9204",
   "metadata": {
    "execution": {
     "iopub.execute_input": "2021-04-04T23:13:54.550256Z",
     "iopub.status.busy": "2021-04-04T23:13:54.548925Z",
     "iopub.status.idle": "2021-04-04T23:13:54.551883Z",
     "shell.execute_reply": "2021-04-04T23:13:54.552682Z"
    },
    "papermill": {
     "duration": 0.036699,
     "end_time": "2021-04-04T23:13:54.552936",
     "exception": false,
     "start_time": "2021-04-04T23:13:54.516237",
     "status": "completed"
    },
    "tags": []
   },
   "outputs": [],
   "source": [
    "def evaluate(truths, predictions, pos_label, neg_label):\n",
    "    TP = 0\n",
    "    FP = 0\n",
    "    TN = 0\n",
    "    FN = 0\n",
    "\n",
    "    for truth, pred in zip(truths, predictions): \n",
    "        if truth == pred == pos_label:\n",
    "           TP += 1\n",
    "        elif pred == pos_label and truth == neg_label:\n",
    "           FP += 1\n",
    "        elif truth == pred == neg_label:\n",
    "           TN += 1\n",
    "        elif pred == neg_label and truth == pos_label:\n",
    "           FN += 1\n",
    "\n",
    "    precision = TP / (TP + FP)\n",
    "    sensitivity = TP / (TP + FN)\n",
    "    \n",
    "    return {\n",
    "        'true_pos': TP,\n",
    "        'false_pos': FP,\n",
    "        'false_neg': FN,\n",
    "        'true_neg': TN,\n",
    "        'precision': precision,\n",
    "        'sensitivity': sensitivity,\n",
    "        'f1': (2 * (precision * sensitivity)) / (precision + sensitivity)\n",
    "    }\n",
    "\n",
    "score = evaluate(y_test, predictions, pos_label=-1, neg_label=1)"
   ]
  },
  {
   "cell_type": "markdown",
   "id": "93596516",
   "metadata": {
    "papermill": {
     "duration": 0.023143,
     "end_time": "2021-04-04T23:13:54.602679",
     "exception": false,
     "start_time": "2021-04-04T23:13:54.579536",
     "status": "completed"
    },
    "tags": []
   },
   "source": [
    "# Report"
   ]
  },
  {
   "cell_type": "code",
   "execution_count": 28,
   "id": "bea5fba1",
   "metadata": {
    "execution": {
     "iopub.execute_input": "2021-04-04T23:13:54.656406Z",
     "iopub.status.busy": "2021-04-04T23:13:54.655730Z",
     "iopub.status.idle": "2021-04-04T23:13:54.658433Z",
     "shell.execute_reply": "2021-04-04T23:13:54.659200Z"
    },
    "papermill": {
     "duration": 0.033618,
     "end_time": "2021-04-04T23:13:54.659417",
     "exception": false,
     "start_time": "2021-04-04T23:13:54.625799",
     "status": "completed"
    },
    "tags": []
   },
   "outputs": [],
   "source": [
    "import csv\n",
    "\n",
    "\n",
    "dataset_config_name = DATASET_CONFIG_PATH.split('/')[-1].split('.')[0]\n",
    "model_config_name = MODEL_CONFIG_PATH.split('/')[-1].split('.')[0]\n",
    "configuration = f\"dataset_{dataset_config_name}-model_{model_config_name}\"\n",
    "\n",
    "with open('results.csv', 'a') as f:\n",
    "    report = dict({'configuration': configuration}, **score)\n",
    "    writer = csv.DictWriter(f, report.keys())\n",
    "    writer.writerow(report)"
   ]
  }
 ],
 "metadata": {
  "celltoolbar": "Tags",
  "kernelspec": {
   "display_name": "Python 3",
   "language": "python",
   "name": "python3"
  },
  "language_info": {
   "codemirror_mode": {
    "name": "ipython",
    "version": 3
   },
   "file_extension": ".py",
   "mimetype": "text/x-python",
   "name": "python",
   "nbconvert_exporter": "python",
   "pygments_lexer": "ipython3",
   "version": "3.9.1"
  },
  "papermill": {
   "default_parameters": {},
   "duration": 4.937478,
   "end_time": "2021-04-04T23:13:55.199297",
   "environment_variables": {},
   "exception": null,
   "input_path": "main.ipynb",
   "output_path": "runs/dataset_000103-model_000001.ipynb",
   "parameters": {
    "DATASET_CONFIG_PATH": "config/dataset/000103.json",
    "MODEL_CONFIG_PATH": "config/model/000001.json",
    "PROFILE_REPORTING": false
   },
   "start_time": "2021-04-04T23:13:50.261819",
   "version": "2.3.3"
  }
 },
 "nbformat": 4,
 "nbformat_minor": 5
}