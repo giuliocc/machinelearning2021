{
 "cells": [
  {
   "cell_type": "markdown",
   "id": "51c71c25",
   "metadata": {
    "papermill": {
     "duration": 0.021975,
     "end_time": "2021-04-04T23:32:24.537369",
     "exception": false,
     "start_time": "2021-04-04T23:32:24.515394",
     "status": "completed"
    },
    "tags": []
   },
   "source": [
    "# Parametrizing"
   ]
  },
  {
   "cell_type": "code",
   "execution_count": 1,
   "id": "3b136394",
   "metadata": {
    "execution": {
     "iopub.execute_input": "2021-04-04T23:32:24.604694Z",
     "iopub.status.busy": "2021-04-04T23:32:24.603738Z",
     "iopub.status.idle": "2021-04-04T23:32:24.606113Z",
     "shell.execute_reply": "2021-04-04T23:32:24.607078Z"
    },
    "papermill": {
     "duration": 0.045926,
     "end_time": "2021-04-04T23:32:24.607659",
     "exception": false,
     "start_time": "2021-04-04T23:32:24.561733",
     "status": "completed"
    },
    "tags": [
     "parameters"
    ]
   },
   "outputs": [],
   "source": [
    "DATASET_CONFIG_PATH = 'config/dataset/kc1_001.json'\n",
    "MODEL_CONFIG_PATH = 'config/model/knndd_001.json'\n",
    "PROFILE_REPORTING = False"
   ]
  },
  {
   "cell_type": "code",
   "execution_count": 2,
   "id": "2a1d6cb4",
   "metadata": {
    "execution": {
     "iopub.execute_input": "2021-04-04T23:32:24.656915Z",
     "iopub.status.busy": "2021-04-04T23:32:24.656070Z",
     "iopub.status.idle": "2021-04-04T23:32:24.658162Z",
     "shell.execute_reply": "2021-04-04T23:32:24.658634Z"
    },
    "papermill": {
     "duration": 0.025812,
     "end_time": "2021-04-04T23:32:24.658780",
     "exception": false,
     "start_time": "2021-04-04T23:32:24.632968",
     "status": "completed"
    },
    "tags": [
     "injected-parameters"
    ]
   },
   "outputs": [],
   "source": [
    "# Parameters\n",
    "DATASET_CONFIG_PATH = \"config/dataset/000147.json\"\n",
    "MODEL_CONFIG_PATH = \"config/model/000002.json\"\n",
    "PROFILE_REPORTING = False\n"
   ]
  },
  {
   "cell_type": "code",
   "execution_count": 3,
   "id": "b80f2a10",
   "metadata": {
    "execution": {
     "iopub.execute_input": "2021-04-04T23:32:24.710945Z",
     "iopub.status.busy": "2021-04-04T23:32:24.710020Z",
     "iopub.status.idle": "2021-04-04T23:32:24.715249Z",
     "shell.execute_reply": "2021-04-04T23:32:24.716001Z"
    },
    "papermill": {
     "duration": 0.032665,
     "end_time": "2021-04-04T23:32:24.716207",
     "exception": false,
     "start_time": "2021-04-04T23:32:24.683542",
     "status": "completed"
    },
    "tags": []
   },
   "outputs": [],
   "source": [
    "import json\n",
    "\n",
    "\n",
    "with open(DATASET_CONFIG_PATH) as f:\n",
    "    dataset_config = json.load(f)\n",
    "\n",
    "with open(MODEL_CONFIG_PATH) as f:\n",
    "    model_config = json.load(f)"
   ]
  },
  {
   "cell_type": "markdown",
   "id": "9a4b0e2d",
   "metadata": {
    "papermill": {
     "duration": 0.025584,
     "end_time": "2021-04-04T23:32:24.764585",
     "exception": false,
     "start_time": "2021-04-04T23:32:24.739001",
     "status": "completed"
    },
    "tags": []
   },
   "source": [
    "# Profiling"
   ]
  },
  {
   "cell_type": "code",
   "execution_count": 4,
   "id": "a3e0289b",
   "metadata": {
    "execution": {
     "iopub.execute_input": "2021-04-04T23:32:24.823641Z",
     "iopub.status.busy": "2021-04-04T23:32:24.821310Z",
     "iopub.status.idle": "2021-04-04T23:32:26.179348Z",
     "shell.execute_reply": "2021-04-04T23:32:26.178746Z"
    },
    "papermill": {
     "duration": 1.392191,
     "end_time": "2021-04-04T23:32:26.179469",
     "exception": false,
     "start_time": "2021-04-04T23:32:24.787278",
     "status": "completed"
    },
    "tags": []
   },
   "outputs": [],
   "source": [
    "import pandas as pd\n",
    "from pandas_profiling import ProfileReport"
   ]
  },
  {
   "cell_type": "code",
   "execution_count": 5,
   "id": "ee6c0666",
   "metadata": {
    "execution": {
     "iopub.execute_input": "2021-04-04T23:32:26.225514Z",
     "iopub.status.busy": "2021-04-04T23:32:26.224886Z",
     "iopub.status.idle": "2021-04-04T23:32:26.234122Z",
     "shell.execute_reply": "2021-04-04T23:32:26.234677Z"
    },
    "papermill": {
     "duration": 0.034543,
     "end_time": "2021-04-04T23:32:26.234849",
     "exception": false,
     "start_time": "2021-04-04T23:32:26.200306",
     "status": "completed"
    },
    "tags": []
   },
   "outputs": [],
   "source": [
    "df = pd.read_csv(dataset_config['dataset_path'])"
   ]
  },
  {
   "cell_type": "code",
   "execution_count": 6,
   "id": "7eca6c4a",
   "metadata": {
    "execution": {
     "iopub.execute_input": "2021-04-04T23:32:26.304538Z",
     "iopub.status.busy": "2021-04-04T23:32:26.291314Z",
     "iopub.status.idle": "2021-04-04T23:32:26.307252Z",
     "shell.execute_reply": "2021-04-04T23:32:26.307748Z"
    },
    "papermill": {
     "duration": 0.048542,
     "end_time": "2021-04-04T23:32:26.307928",
     "exception": false,
     "start_time": "2021-04-04T23:32:26.259386",
     "status": "completed"
    },
    "tags": []
   },
   "outputs": [
    {
     "name": "stdout",
     "output_type": "stream",
     "text": [
      "<class 'pandas.core.frame.DataFrame'>\n",
      "RangeIndex: 498 entries, 0 to 497\n",
      "Data columns (total 23 columns):\n",
      " #   Column             Non-Null Count  Dtype  \n",
      "---  ------             --------------  -----  \n",
      " 0   id                 498 non-null    int64  \n",
      " 1   loc                498 non-null    float64\n",
      " 2   v(g)               498 non-null    float64\n",
      " 3   ev(g)              498 non-null    float64\n",
      " 4   iv(g)              498 non-null    float64\n",
      " 5   n                  498 non-null    float64\n",
      " 6   v                  498 non-null    float64\n",
      " 7   l                  498 non-null    float64\n",
      " 8   d                  498 non-null    float64\n",
      " 9   i                  498 non-null    float64\n",
      " 10  e                  498 non-null    float64\n",
      " 11  b                  498 non-null    float64\n",
      " 12  t                  498 non-null    float64\n",
      " 13  lOCode             498 non-null    int64  \n",
      " 14  lOComment          498 non-null    int64  \n",
      " 15  lOBlank            498 non-null    int64  \n",
      " 16  locCodeAndComment  498 non-null    int64  \n",
      " 17  uniq_Op            498 non-null    float64\n",
      " 18  uniq_Opnd          498 non-null    float64\n",
      " 19  total_Op           498 non-null    float64\n",
      " 20  total_Opnd         498 non-null    float64\n",
      " 21  branchCount        498 non-null    float64\n",
      " 22  defects            498 non-null    bool   \n",
      "dtypes: bool(1), float64(17), int64(5)\n",
      "memory usage: 86.2 KB\n"
     ]
    }
   ],
   "source": [
    "df.info()"
   ]
  },
  {
   "cell_type": "code",
   "execution_count": 7,
   "id": "3638e5e8",
   "metadata": {
    "execution": {
     "iopub.execute_input": "2021-04-04T23:32:26.386961Z",
     "iopub.status.busy": "2021-04-04T23:32:26.371659Z",
     "iopub.status.idle": "2021-04-04T23:32:26.400269Z",
     "shell.execute_reply": "2021-04-04T23:32:26.400885Z"
    },
    "papermill": {
     "duration": 0.069824,
     "end_time": "2021-04-04T23:32:26.401038",
     "exception": false,
     "start_time": "2021-04-04T23:32:26.331214",
     "status": "completed"
    },
    "tags": []
   },
   "outputs": [
    {
     "data": {
      "text/html": [
       "<div>\n",
       "<style scoped>\n",
       "    .dataframe tbody tr th:only-of-type {\n",
       "        vertical-align: middle;\n",
       "    }\n",
       "\n",
       "    .dataframe tbody tr th {\n",
       "        vertical-align: top;\n",
       "    }\n",
       "\n",
       "    .dataframe thead th {\n",
       "        text-align: right;\n",
       "    }\n",
       "</style>\n",
       "<table border=\"1\" class=\"dataframe\">\n",
       "  <thead>\n",
       "    <tr style=\"text-align: right;\">\n",
       "      <th></th>\n",
       "      <th>id</th>\n",
       "      <th>loc</th>\n",
       "      <th>v(g)</th>\n",
       "      <th>ev(g)</th>\n",
       "      <th>iv(g)</th>\n",
       "      <th>n</th>\n",
       "      <th>v</th>\n",
       "      <th>l</th>\n",
       "      <th>d</th>\n",
       "      <th>i</th>\n",
       "      <th>...</th>\n",
       "      <th>lOCode</th>\n",
       "      <th>lOComment</th>\n",
       "      <th>lOBlank</th>\n",
       "      <th>locCodeAndComment</th>\n",
       "      <th>uniq_Op</th>\n",
       "      <th>uniq_Opnd</th>\n",
       "      <th>total_Op</th>\n",
       "      <th>total_Opnd</th>\n",
       "      <th>branchCount</th>\n",
       "      <th>defects</th>\n",
       "    </tr>\n",
       "  </thead>\n",
       "  <tbody>\n",
       "    <tr>\n",
       "      <th>0</th>\n",
       "      <td>1</td>\n",
       "      <td>1.1</td>\n",
       "      <td>1.4</td>\n",
       "      <td>1.4</td>\n",
       "      <td>1.4</td>\n",
       "      <td>1.3</td>\n",
       "      <td>1.30</td>\n",
       "      <td>1.30</td>\n",
       "      <td>1.30</td>\n",
       "      <td>1.30</td>\n",
       "      <td>...</td>\n",
       "      <td>2</td>\n",
       "      <td>2</td>\n",
       "      <td>2</td>\n",
       "      <td>2</td>\n",
       "      <td>1.2</td>\n",
       "      <td>1.2</td>\n",
       "      <td>1.2</td>\n",
       "      <td>1.2</td>\n",
       "      <td>1.4</td>\n",
       "      <td>False</td>\n",
       "    </tr>\n",
       "    <tr>\n",
       "      <th>1</th>\n",
       "      <td>2</td>\n",
       "      <td>1.0</td>\n",
       "      <td>1.0</td>\n",
       "      <td>1.0</td>\n",
       "      <td>1.0</td>\n",
       "      <td>1.0</td>\n",
       "      <td>1.00</td>\n",
       "      <td>1.00</td>\n",
       "      <td>1.00</td>\n",
       "      <td>1.00</td>\n",
       "      <td>...</td>\n",
       "      <td>1</td>\n",
       "      <td>1</td>\n",
       "      <td>1</td>\n",
       "      <td>1</td>\n",
       "      <td>1.0</td>\n",
       "      <td>1.0</td>\n",
       "      <td>1.0</td>\n",
       "      <td>1.0</td>\n",
       "      <td>1.0</td>\n",
       "      <td>True</td>\n",
       "    </tr>\n",
       "    <tr>\n",
       "      <th>2</th>\n",
       "      <td>3</td>\n",
       "      <td>24.0</td>\n",
       "      <td>5.0</td>\n",
       "      <td>1.0</td>\n",
       "      <td>3.0</td>\n",
       "      <td>63.0</td>\n",
       "      <td>309.13</td>\n",
       "      <td>0.11</td>\n",
       "      <td>9.50</td>\n",
       "      <td>32.54</td>\n",
       "      <td>...</td>\n",
       "      <td>1</td>\n",
       "      <td>0</td>\n",
       "      <td>6</td>\n",
       "      <td>0</td>\n",
       "      <td>15.0</td>\n",
       "      <td>15.0</td>\n",
       "      <td>44.0</td>\n",
       "      <td>19.0</td>\n",
       "      <td>9.0</td>\n",
       "      <td>False</td>\n",
       "    </tr>\n",
       "    <tr>\n",
       "      <th>3</th>\n",
       "      <td>4</td>\n",
       "      <td>20.0</td>\n",
       "      <td>4.0</td>\n",
       "      <td>4.0</td>\n",
       "      <td>2.0</td>\n",
       "      <td>47.0</td>\n",
       "      <td>215.49</td>\n",
       "      <td>0.06</td>\n",
       "      <td>16.00</td>\n",
       "      <td>13.47</td>\n",
       "      <td>...</td>\n",
       "      <td>0</td>\n",
       "      <td>0</td>\n",
       "      <td>3</td>\n",
       "      <td>0</td>\n",
       "      <td>16.0</td>\n",
       "      <td>8.0</td>\n",
       "      <td>31.0</td>\n",
       "      <td>16.0</td>\n",
       "      <td>7.0</td>\n",
       "      <td>False</td>\n",
       "    </tr>\n",
       "    <tr>\n",
       "      <th>4</th>\n",
       "      <td>5</td>\n",
       "      <td>24.0</td>\n",
       "      <td>6.0</td>\n",
       "      <td>6.0</td>\n",
       "      <td>2.0</td>\n",
       "      <td>72.0</td>\n",
       "      <td>346.13</td>\n",
       "      <td>0.06</td>\n",
       "      <td>17.33</td>\n",
       "      <td>19.97</td>\n",
       "      <td>...</td>\n",
       "      <td>0</td>\n",
       "      <td>0</td>\n",
       "      <td>3</td>\n",
       "      <td>0</td>\n",
       "      <td>16.0</td>\n",
       "      <td>12.0</td>\n",
       "      <td>46.0</td>\n",
       "      <td>26.0</td>\n",
       "      <td>11.0</td>\n",
       "      <td>False</td>\n",
       "    </tr>\n",
       "  </tbody>\n",
       "</table>\n",
       "<p>5 rows × 23 columns</p>\n",
       "</div>"
      ],
      "text/plain": [
       "   id   loc  v(g)  ev(g)  iv(g)     n       v     l      d      i  ...  \\\n",
       "0   1   1.1   1.4    1.4    1.4   1.3    1.30  1.30   1.30   1.30  ...   \n",
       "1   2   1.0   1.0    1.0    1.0   1.0    1.00  1.00   1.00   1.00  ...   \n",
       "2   3  24.0   5.0    1.0    3.0  63.0  309.13  0.11   9.50  32.54  ...   \n",
       "3   4  20.0   4.0    4.0    2.0  47.0  215.49  0.06  16.00  13.47  ...   \n",
       "4   5  24.0   6.0    6.0    2.0  72.0  346.13  0.06  17.33  19.97  ...   \n",
       "\n",
       "   lOCode  lOComment  lOBlank  locCodeAndComment  uniq_Op  uniq_Opnd  \\\n",
       "0       2          2        2                  2      1.2        1.2   \n",
       "1       1          1        1                  1      1.0        1.0   \n",
       "2       1          0        6                  0     15.0       15.0   \n",
       "3       0          0        3                  0     16.0        8.0   \n",
       "4       0          0        3                  0     16.0       12.0   \n",
       "\n",
       "   total_Op  total_Opnd  branchCount  defects  \n",
       "0       1.2         1.2          1.4    False  \n",
       "1       1.0         1.0          1.0     True  \n",
       "2      44.0        19.0          9.0    False  \n",
       "3      31.0        16.0          7.0    False  \n",
       "4      46.0        26.0         11.0    False  \n",
       "\n",
       "[5 rows x 23 columns]"
      ]
     },
     "execution_count": 7,
     "metadata": {},
     "output_type": "execute_result"
    }
   ],
   "source": [
    "df.head()"
   ]
  },
  {
   "cell_type": "code",
   "execution_count": 8,
   "id": "733e95eb",
   "metadata": {
    "execution": {
     "iopub.execute_input": "2021-04-04T23:32:26.459407Z",
     "iopub.status.busy": "2021-04-04T23:32:26.458509Z",
     "iopub.status.idle": "2021-04-04T23:32:26.462576Z",
     "shell.execute_reply": "2021-04-04T23:32:26.464417Z"
    },
    "papermill": {
     "duration": 0.038136,
     "end_time": "2021-04-04T23:32:26.465165",
     "exception": false,
     "start_time": "2021-04-04T23:32:26.427029",
     "status": "completed"
    },
    "tags": []
   },
   "outputs": [],
   "source": [
    "del df['id']"
   ]
  },
  {
   "cell_type": "code",
   "execution_count": 9,
   "id": "6ff6f5b0",
   "metadata": {
    "execution": {
     "iopub.execute_input": "2021-04-04T23:32:26.514941Z",
     "iopub.status.busy": "2021-04-04T23:32:26.514089Z",
     "iopub.status.idle": "2021-04-04T23:32:26.516044Z",
     "shell.execute_reply": "2021-04-04T23:32:26.516664Z"
    },
    "papermill": {
     "duration": 0.027792,
     "end_time": "2021-04-04T23:32:26.516931",
     "exception": false,
     "start_time": "2021-04-04T23:32:26.489139",
     "status": "completed"
    },
    "tags": []
   },
   "outputs": [],
   "source": [
    "if PROFILE_REPORTING:\n",
    "    ProfileReport(df).to_widgets()"
   ]
  },
  {
   "cell_type": "markdown",
   "id": "1deaf3f0",
   "metadata": {
    "papermill": {
     "duration": 0.026685,
     "end_time": "2021-04-04T23:32:26.567300",
     "exception": false,
     "start_time": "2021-04-04T23:32:26.540615",
     "status": "completed"
    },
    "tags": []
   },
   "source": [
    "# Preprocess"
   ]
  },
  {
   "cell_type": "code",
   "execution_count": 10,
   "id": "1513e563",
   "metadata": {
    "execution": {
     "iopub.execute_input": "2021-04-04T23:32:26.624871Z",
     "iopub.status.busy": "2021-04-04T23:32:26.623026Z",
     "iopub.status.idle": "2021-04-04T23:32:26.626848Z",
     "shell.execute_reply": "2021-04-04T23:32:26.627319Z"
    },
    "papermill": {
     "duration": 0.033085,
     "end_time": "2021-04-04T23:32:26.627465",
     "exception": false,
     "start_time": "2021-04-04T23:32:26.594380",
     "status": "completed"
    },
    "tags": []
   },
   "outputs": [],
   "source": [
    "working_df = df.copy()"
   ]
  },
  {
   "cell_type": "code",
   "execution_count": 11,
   "id": "3b26d675",
   "metadata": {
    "execution": {
     "iopub.execute_input": "2021-04-04T23:32:26.683533Z",
     "iopub.status.busy": "2021-04-04T23:32:26.681758Z",
     "iopub.status.idle": "2021-04-04T23:32:26.687993Z",
     "shell.execute_reply": "2021-04-04T23:32:26.686269Z"
    },
    "papermill": {
     "duration": 0.038248,
     "end_time": "2021-04-04T23:32:26.688183",
     "exception": false,
     "start_time": "2021-04-04T23:32:26.649935",
     "status": "completed"
    },
    "tags": []
   },
   "outputs": [],
   "source": [
    "working_df['defects'] = working_df['defects'].replace([False, True], [0, 1])"
   ]
  },
  {
   "cell_type": "code",
   "execution_count": 12,
   "id": "eb48604f",
   "metadata": {
    "execution": {
     "iopub.execute_input": "2021-04-04T23:32:26.739917Z",
     "iopub.status.busy": "2021-04-04T23:32:26.739215Z",
     "iopub.status.idle": "2021-04-04T23:32:26.742121Z",
     "shell.execute_reply": "2021-04-04T23:32:26.743106Z"
    },
    "papermill": {
     "duration": 0.032415,
     "end_time": "2021-04-04T23:32:26.743452",
     "exception": false,
     "start_time": "2021-04-04T23:32:26.711037",
     "status": "completed"
    },
    "tags": []
   },
   "outputs": [],
   "source": [
    "for col in dataset_config['delete_columns']:\n",
    "    del working_df[col]"
   ]
  },
  {
   "cell_type": "code",
   "execution_count": 13,
   "id": "9a17bc29",
   "metadata": {
    "execution": {
     "iopub.execute_input": "2021-04-04T23:32:26.801802Z",
     "iopub.status.busy": "2021-04-04T23:32:26.800782Z",
     "iopub.status.idle": "2021-04-04T23:32:26.809238Z",
     "shell.execute_reply": "2021-04-04T23:32:26.808751Z"
    },
    "papermill": {
     "duration": 0.041535,
     "end_time": "2021-04-04T23:32:26.809354",
     "exception": false,
     "start_time": "2021-04-04T23:32:26.767819",
     "status": "completed"
    },
    "tags": []
   },
   "outputs": [],
   "source": [
    "working_df = working_df.drop_duplicates()"
   ]
  },
  {
   "cell_type": "markdown",
   "id": "a4d52ca6",
   "metadata": {
    "papermill": {
     "duration": 0.025153,
     "end_time": "2021-04-04T23:32:26.856578",
     "exception": false,
     "start_time": "2021-04-04T23:32:26.831425",
     "status": "completed"
    },
    "tags": []
   },
   "source": [
    "# Split"
   ]
  },
  {
   "cell_type": "code",
   "execution_count": 14,
   "id": "3e9ee4b5",
   "metadata": {
    "execution": {
     "iopub.execute_input": "2021-04-04T23:32:26.913924Z",
     "iopub.status.busy": "2021-04-04T23:32:26.912630Z",
     "iopub.status.idle": "2021-04-04T23:32:26.955296Z",
     "shell.execute_reply": "2021-04-04T23:32:26.956781Z"
    },
    "papermill": {
     "duration": 0.078389,
     "end_time": "2021-04-04T23:32:26.957334",
     "exception": false,
     "start_time": "2021-04-04T23:32:26.878945",
     "status": "completed"
    },
    "tags": []
   },
   "outputs": [],
   "source": [
    "from sklearn.model_selection import train_test_split"
   ]
  },
  {
   "cell_type": "code",
   "execution_count": 15,
   "id": "274004ce",
   "metadata": {
    "execution": {
     "iopub.execute_input": "2021-04-04T23:32:27.013375Z",
     "iopub.status.busy": "2021-04-04T23:32:27.012749Z",
     "iopub.status.idle": "2021-04-04T23:32:27.016876Z",
     "shell.execute_reply": "2021-04-04T23:32:27.017361Z"
    },
    "papermill": {
     "duration": 0.03206,
     "end_time": "2021-04-04T23:32:27.017510",
     "exception": false,
     "start_time": "2021-04-04T23:32:26.985450",
     "status": "completed"
    },
    "scrolled": true,
    "tags": []
   },
   "outputs": [],
   "source": [
    "inlier, outlier = working_df[working_df['defects'] == 0], working_df[working_df['defects'] == 1]"
   ]
  },
  {
   "cell_type": "code",
   "execution_count": 16,
   "id": "753c7b03",
   "metadata": {
    "execution": {
     "iopub.execute_input": "2021-04-04T23:32:27.078166Z",
     "iopub.status.busy": "2021-04-04T23:32:27.075569Z",
     "iopub.status.idle": "2021-04-04T23:32:27.081578Z",
     "shell.execute_reply": "2021-04-04T23:32:27.082297Z"
    },
    "papermill": {
     "duration": 0.039847,
     "end_time": "2021-04-04T23:32:27.082521",
     "exception": false,
     "start_time": "2021-04-04T23:32:27.042674",
     "status": "completed"
    },
    "tags": []
   },
   "outputs": [],
   "source": [
    "X_inlier = inlier.copy()\n",
    "y_inlier = X_inlier.pop('defects')\n",
    "X_outlier = outlier.copy()\n",
    "y_outlier = X_outlier.pop('defects')"
   ]
  },
  {
   "cell_type": "code",
   "execution_count": 17,
   "id": "2ba43193",
   "metadata": {
    "execution": {
     "iopub.execute_input": "2021-04-04T23:32:27.138655Z",
     "iopub.status.busy": "2021-04-04T23:32:27.137406Z",
     "iopub.status.idle": "2021-04-04T23:32:27.142193Z",
     "shell.execute_reply": "2021-04-04T23:32:27.142741Z"
    },
    "papermill": {
     "duration": 0.035263,
     "end_time": "2021-04-04T23:32:27.142909",
     "exception": false,
     "start_time": "2021-04-04T23:32:27.107646",
     "status": "completed"
    },
    "tags": []
   },
   "outputs": [],
   "source": [
    "test_size = dataset_config['test_size']\n",
    "random_state = dataset_config['random_state']\n",
    "\n",
    "X_inlier_train, X_inlier_test, y_inlier_train, y_inlier_test = train_test_split(\n",
    "    X_inlier,\n",
    "    y_inlier,\n",
    "    test_size=test_size,\n",
    "    random_state=random_state\n",
    ")"
   ]
  },
  {
   "cell_type": "code",
   "execution_count": 18,
   "id": "0b7582ca",
   "metadata": {
    "execution": {
     "iopub.execute_input": "2021-04-04T23:32:27.201875Z",
     "iopub.status.busy": "2021-04-04T23:32:27.201273Z",
     "iopub.status.idle": "2021-04-04T23:32:27.203824Z",
     "shell.execute_reply": "2021-04-04T23:32:27.203287Z"
    },
    "papermill": {
     "duration": 0.037579,
     "end_time": "2021-04-04T23:32:27.203944",
     "exception": false,
     "start_time": "2021-04-04T23:32:27.166365",
     "status": "completed"
    },
    "tags": []
   },
   "outputs": [],
   "source": [
    "test_outlier_size = dataset_config['test_outlier_size']\n",
    "if test_outlier_size > 0.0:\n",
    "    X_outlier_train, X_outlier_test, y_outlier_train, y_outlier_test = train_test_split(\n",
    "        X_outlier,\n",
    "        y_outlier,\n",
    "        test_size=test_outlier_size,\n",
    "        random_state=random_state\n",
    "    )\n",
    "else:\n",
    "    X_outlier_train, y_outlier_train = pd.DataFrame(columns=X_outlier.columns), pd.Series(dtype='int64')\n",
    "    X_outlier_test, y_outlier_test = X_outlier.copy(), y_outlier.copy()"
   ]
  },
  {
   "cell_type": "code",
   "execution_count": 19,
   "id": "c34363db",
   "metadata": {
    "execution": {
     "iopub.execute_input": "2021-04-04T23:32:27.259219Z",
     "iopub.status.busy": "2021-04-04T23:32:27.257989Z",
     "iopub.status.idle": "2021-04-04T23:32:27.263159Z",
     "shell.execute_reply": "2021-04-04T23:32:27.262639Z"
    },
    "papermill": {
     "duration": 0.03664,
     "end_time": "2021-04-04T23:32:27.263281",
     "exception": false,
     "start_time": "2021-04-04T23:32:27.226641",
     "status": "completed"
    },
    "tags": []
   },
   "outputs": [],
   "source": [
    "X_train, y_train = pd.concat([X_inlier_train, X_outlier_train], ignore_index=True), pd.concat([y_inlier_train, y_outlier_train], ignore_index=True)\n",
    "X_test, y_test = pd.concat([X_inlier_test, X_outlier_test], ignore_index=True), pd.concat([y_inlier_test, y_outlier_test], ignore_index=True)"
   ]
  },
  {
   "cell_type": "markdown",
   "id": "7cde7309",
   "metadata": {
    "papermill": {
     "duration": 0.028838,
     "end_time": "2021-04-04T23:32:27.317138",
     "exception": false,
     "start_time": "2021-04-04T23:32:27.288300",
     "status": "completed"
    },
    "tags": []
   },
   "source": [
    "# Model"
   ]
  },
  {
   "cell_type": "code",
   "execution_count": 20,
   "id": "2b12a415",
   "metadata": {
    "execution": {
     "iopub.execute_input": "2021-04-04T23:32:27.395150Z",
     "iopub.status.busy": "2021-04-04T23:32:27.394432Z",
     "iopub.status.idle": "2021-04-04T23:32:27.396769Z",
     "shell.execute_reply": "2021-04-04T23:32:27.396252Z"
    },
    "papermill": {
     "duration": 0.050947,
     "end_time": "2021-04-04T23:32:27.396889",
     "exception": false,
     "start_time": "2021-04-04T23:32:27.345942",
     "status": "completed"
    },
    "tags": []
   },
   "outputs": [],
   "source": [
    "from math import sqrt\n",
    "\n",
    "\n",
    "class KNNDataDescription:\n",
    "    def __init__(self, k=5, outlier_threshold=1.0):\n",
    "        self.k = k\n",
    "        self.outlier_threshold = outlier_threshold\n",
    "        self.X = []\n",
    "    \n",
    "    def fit(self, X):\n",
    "        self.X = [features.to_list() for index, features in X.iterrows()]\n",
    "\n",
    "    def predict(self, entries):\n",
    "        return [self.predict_entry(features.to_list()) for index, features in entries.iterrows()]\n",
    "    \n",
    "    def predict_entry(self, entry):\n",
    "        kth_neighbor, kth_distance = self.get_kth_neighbor(entry, self.k)\n",
    "        kth_kth_neighbor, kth_kth_distance = self.get_kth_neighbor(kth_neighbor, self.k + 1)\n",
    "\n",
    "        outlier_score = kth_distance / (kth_kth_distance + 0.000001)\n",
    "\n",
    "        return 1 if outlier_score < self.outlier_threshold else -1\n",
    "        \n",
    "    def euclidean_distance(self, features1, features2):\n",
    "        distance = 0.0\n",
    "        for feat1, feat2 in zip(features1, features2):\n",
    "            distance += (feat1 - feat2)**2\n",
    "                \n",
    "        return sqrt(distance)\n",
    "\n",
    "    def get_neighbors(self, entry, k):\n",
    "        distance_to_data_points = [\n",
    "            (data_point, self.euclidean_distance(entry, data_point))\n",
    "            for data_point in self.X\n",
    "        ]\n",
    "        sorted_by_distance = sorted(distance_to_data_points, key=lambda tup: tup[1])\n",
    "        neighbors = sorted_by_distance[:k]\n",
    "        return neighbors\n",
    "\n",
    "    def get_kth_neighbor(self, entry, k):\n",
    "        neighbors = self.get_neighbors(entry, k)\n",
    "        return neighbors[-1]\n"
   ]
  },
  {
   "cell_type": "code",
   "execution_count": 21,
   "id": "1fa9ec1c",
   "metadata": {
    "execution": {
     "iopub.execute_input": "2021-04-04T23:32:27.458324Z",
     "iopub.status.busy": "2021-04-04T23:32:27.457481Z",
     "iopub.status.idle": "2021-04-04T23:32:27.480163Z",
     "shell.execute_reply": "2021-04-04T23:32:27.480613Z"
    },
    "papermill": {
     "duration": 0.058215,
     "end_time": "2021-04-04T23:32:27.480756",
     "exception": false,
     "start_time": "2021-04-04T23:32:27.422541",
     "status": "completed"
    },
    "tags": []
   },
   "outputs": [],
   "source": [
    "from sklearn.svm import OneClassSVM\n",
    "\n",
    "\n",
    "models = {\n",
    "    'oneclasssvm': OneClassSVM,\n",
    "    'knndatadescription': KNNDataDescription,\n",
    "}"
   ]
  },
  {
   "cell_type": "code",
   "execution_count": 22,
   "id": "4d72a0b1",
   "metadata": {
    "execution": {
     "iopub.execute_input": "2021-04-04T23:32:27.533851Z",
     "iopub.status.busy": "2021-04-04T23:32:27.533037Z",
     "iopub.status.idle": "2021-04-04T23:32:27.537091Z",
     "shell.execute_reply": "2021-04-04T23:32:27.536395Z"
    },
    "papermill": {
     "duration": 0.031557,
     "end_time": "2021-04-04T23:32:27.537252",
     "exception": false,
     "start_time": "2021-04-04T23:32:27.505695",
     "status": "completed"
    },
    "scrolled": true,
    "tags": []
   },
   "outputs": [],
   "source": [
    "model_cls = models[model_config['model_type']]\n",
    "model = model_cls(**model_config['hyperparameters'])"
   ]
  },
  {
   "cell_type": "markdown",
   "id": "e00cff3b",
   "metadata": {
    "papermill": {
     "duration": 0.0264,
     "end_time": "2021-04-04T23:32:27.590966",
     "exception": false,
     "start_time": "2021-04-04T23:32:27.564566",
     "status": "completed"
    },
    "tags": []
   },
   "source": [
    "# Fit"
   ]
  },
  {
   "cell_type": "code",
   "execution_count": 23,
   "id": "8b2ded89",
   "metadata": {
    "execution": {
     "iopub.execute_input": "2021-04-04T23:32:27.669557Z",
     "iopub.status.busy": "2021-04-04T23:32:27.648744Z",
     "iopub.status.idle": "2021-04-04T23:32:27.673987Z",
     "shell.execute_reply": "2021-04-04T23:32:27.673396Z"
    },
    "papermill": {
     "duration": 0.055169,
     "end_time": "2021-04-04T23:32:27.674108",
     "exception": false,
     "start_time": "2021-04-04T23:32:27.618939",
     "status": "completed"
    },
    "tags": []
   },
   "outputs": [],
   "source": [
    "model.fit(X_train)"
   ]
  },
  {
   "cell_type": "markdown",
   "id": "f99999f7",
   "metadata": {
    "papermill": {
     "duration": 0.025778,
     "end_time": "2021-04-04T23:32:27.724454",
     "exception": false,
     "start_time": "2021-04-04T23:32:27.698676",
     "status": "completed"
    },
    "tags": []
   },
   "source": [
    "# Predict"
   ]
  },
  {
   "cell_type": "code",
   "execution_count": 24,
   "id": "6536fbf7",
   "metadata": {
    "execution": {
     "iopub.execute_input": "2021-04-04T23:32:27.808314Z",
     "iopub.status.busy": "2021-04-04T23:32:27.792722Z",
     "iopub.status.idle": "2021-04-04T23:32:28.092851Z",
     "shell.execute_reply": "2021-04-04T23:32:28.092247Z"
    },
    "papermill": {
     "duration": 0.338482,
     "end_time": "2021-04-04T23:32:28.092970",
     "exception": false,
     "start_time": "2021-04-04T23:32:27.754488",
     "status": "completed"
    },
    "tags": []
   },
   "outputs": [],
   "source": [
    "predictions = model.predict(X_test)"
   ]
  },
  {
   "cell_type": "markdown",
   "id": "aa1c9881",
   "metadata": {
    "papermill": {
     "duration": 0.025927,
     "end_time": "2021-04-04T23:32:28.143255",
     "exception": false,
     "start_time": "2021-04-04T23:32:28.117328",
     "status": "completed"
    },
    "tags": []
   },
   "source": [
    "# Evaluate"
   ]
  },
  {
   "cell_type": "code",
   "execution_count": 25,
   "id": "894f0f04",
   "metadata": {
    "execution": {
     "iopub.execute_input": "2021-04-04T23:32:28.198814Z",
     "iopub.status.busy": "2021-04-04T23:32:28.197963Z",
     "iopub.status.idle": "2021-04-04T23:32:28.200551Z",
     "shell.execute_reply": "2021-04-04T23:32:28.201061Z"
    },
    "papermill": {
     "duration": 0.030993,
     "end_time": "2021-04-04T23:32:28.201211",
     "exception": false,
     "start_time": "2021-04-04T23:32:28.170218",
     "status": "completed"
    },
    "tags": []
   },
   "outputs": [],
   "source": [
    "from sklearn.metrics import f1_score"
   ]
  },
  {
   "cell_type": "code",
   "execution_count": 26,
   "id": "211744d3",
   "metadata": {
    "execution": {
     "iopub.execute_input": "2021-04-04T23:32:28.273121Z",
     "iopub.status.busy": "2021-04-04T23:32:28.271284Z",
     "iopub.status.idle": "2021-04-04T23:32:28.275824Z",
     "shell.execute_reply": "2021-04-04T23:32:28.276447Z"
    },
    "papermill": {
     "duration": 0.048751,
     "end_time": "2021-04-04T23:32:28.276637",
     "exception": false,
     "start_time": "2021-04-04T23:32:28.227886",
     "status": "completed"
    },
    "tags": []
   },
   "outputs": [],
   "source": [
    "y_test = y_test.replace([0, 1], [1, -1])"
   ]
  },
  {
   "cell_type": "code",
   "execution_count": 27,
   "id": "d68a9204",
   "metadata": {
    "execution": {
     "iopub.execute_input": "2021-04-04T23:32:28.337526Z",
     "iopub.status.busy": "2021-04-04T23:32:28.332701Z",
     "iopub.status.idle": "2021-04-04T23:32:28.339222Z",
     "shell.execute_reply": "2021-04-04T23:32:28.339694Z"
    },
    "papermill": {
     "duration": 0.038238,
     "end_time": "2021-04-04T23:32:28.339841",
     "exception": false,
     "start_time": "2021-04-04T23:32:28.301603",
     "status": "completed"
    },
    "tags": []
   },
   "outputs": [],
   "source": [
    "def evaluate(truths, predictions, pos_label, neg_label):\n",
    "    TP = 0\n",
    "    FP = 0\n",
    "    TN = 0\n",
    "    FN = 0\n",
    "\n",
    "    for truth, pred in zip(truths, predictions): \n",
    "        if truth == pred == pos_label:\n",
    "           TP += 1\n",
    "        elif pred == pos_label and truth == neg_label:\n",
    "           FP += 1\n",
    "        elif truth == pred == neg_label:\n",
    "           TN += 1\n",
    "        elif pred == neg_label and truth == pos_label:\n",
    "           FN += 1\n",
    "\n",
    "    precision = TP / (TP + FP)\n",
    "    sensitivity = TP / (TP + FN)\n",
    "    \n",
    "    return {\n",
    "        'true_pos': TP,\n",
    "        'false_pos': FP,\n",
    "        'false_neg': FN,\n",
    "        'true_neg': TN,\n",
    "        'precision': precision,\n",
    "        'sensitivity': sensitivity,\n",
    "        'f1': (2 * (precision * sensitivity)) / (precision + sensitivity)\n",
    "    }\n",
    "\n",
    "score = evaluate(y_test, predictions, pos_label=-1, neg_label=1)"
   ]
  },
  {
   "cell_type": "markdown",
   "id": "93596516",
   "metadata": {
    "papermill": {
     "duration": 0.030942,
     "end_time": "2021-04-04T23:32:28.409271",
     "exception": false,
     "start_time": "2021-04-04T23:32:28.378329",
     "status": "completed"
    },
    "tags": []
   },
   "source": [
    "# Report"
   ]
  },
  {
   "cell_type": "code",
   "execution_count": 28,
   "id": "bea5fba1",
   "metadata": {
    "execution": {
     "iopub.execute_input": "2021-04-04T23:32:28.470616Z",
     "iopub.status.busy": "2021-04-04T23:32:28.468575Z",
     "iopub.status.idle": "2021-04-04T23:32:28.472126Z",
     "shell.execute_reply": "2021-04-04T23:32:28.472696Z"
    },
    "papermill": {
     "duration": 0.034616,
     "end_time": "2021-04-04T23:32:28.472875",
     "exception": false,
     "start_time": "2021-04-04T23:32:28.438259",
     "status": "completed"
    },
    "tags": []
   },
   "outputs": [],
   "source": [
    "import csv\n",
    "\n",
    "\n",
    "dataset_config_name = DATASET_CONFIG_PATH.split('/')[-1].split('.')[0]\n",
    "model_config_name = MODEL_CONFIG_PATH.split('/')[-1].split('.')[0]\n",
    "configuration = f\"dataset_{dataset_config_name}-model_{model_config_name}\"\n",
    "\n",
    "with open('results.csv', 'a') as f:\n",
    "    report = dict({'configuration': configuration}, **score)\n",
    "    writer = csv.DictWriter(f, report.keys())\n",
    "    writer.writerow(report)"
   ]
  }
 ],
 "metadata": {
  "celltoolbar": "Tags",
  "kernelspec": {
   "display_name": "Python 3",
   "language": "python",
   "name": "python3"
  },
  "language_info": {
   "codemirror_mode": {
    "name": "ipython",
    "version": 3
   },
   "file_extension": ".py",
   "mimetype": "text/x-python",
   "name": "python",
   "nbconvert_exporter": "python",
   "pygments_lexer": "ipython3",
   "version": "3.9.1"
  },
  "papermill": {
   "default_parameters": {},
   "duration": 5.500293,
   "end_time": "2021-04-04T23:32:29.107077",
   "environment_variables": {},
   "exception": null,
   "input_path": "main.ipynb",
   "output_path": "runs/dataset_000147-model_000002.ipynb",
   "parameters": {
    "DATASET_CONFIG_PATH": "config/dataset/000147.json",
    "MODEL_CONFIG_PATH": "config/model/000002.json",
    "PROFILE_REPORTING": false
   },
   "start_time": "2021-04-04T23:32:23.606784",
   "version": "2.3.3"
  }
 },
 "nbformat": 4,
 "nbformat_minor": 5
}