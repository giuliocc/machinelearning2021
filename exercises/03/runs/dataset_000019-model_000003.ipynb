{
 "cells": [
  {
   "cell_type": "markdown",
   "id": "51c71c25",
   "metadata": {
    "papermill": {
     "duration": 0.023024,
     "end_time": "2021-04-04T22:30:52.888137",
     "exception": false,
     "start_time": "2021-04-04T22:30:52.865113",
     "status": "completed"
    },
    "tags": []
   },
   "source": [
    "# Parametrizing"
   ]
  },
  {
   "cell_type": "code",
   "execution_count": 1,
   "id": "3b136394",
   "metadata": {
    "execution": {
     "iopub.execute_input": "2021-04-04T22:30:52.947670Z",
     "iopub.status.busy": "2021-04-04T22:30:52.946290Z",
     "iopub.status.idle": "2021-04-04T22:30:52.953164Z",
     "shell.execute_reply": "2021-04-04T22:30:52.955209Z"
    },
    "papermill": {
     "duration": 0.047446,
     "end_time": "2021-04-04T22:30:52.955941",
     "exception": false,
     "start_time": "2021-04-04T22:30:52.908495",
     "status": "completed"
    },
    "tags": [
     "parameters"
    ]
   },
   "outputs": [],
   "source": [
    "DATASET_CONFIG_PATH = 'config/dataset/kc1_001.json'\n",
    "MODEL_CONFIG_PATH = 'config/model/knndd_001.json'\n",
    "PROFILE_REPORTING = False"
   ]
  },
  {
   "cell_type": "code",
   "execution_count": 2,
   "id": "d60a1e39",
   "metadata": {
    "execution": {
     "iopub.execute_input": "2021-04-04T22:30:53.009311Z",
     "iopub.status.busy": "2021-04-04T22:30:53.008524Z",
     "iopub.status.idle": "2021-04-04T22:30:53.010711Z",
     "shell.execute_reply": "2021-04-04T22:30:53.010212Z"
    },
    "papermill": {
     "duration": 0.030169,
     "end_time": "2021-04-04T22:30:53.010827",
     "exception": false,
     "start_time": "2021-04-04T22:30:52.980658",
     "status": "completed"
    },
    "tags": [
     "injected-parameters"
    ]
   },
   "outputs": [],
   "source": [
    "# Parameters\n",
    "DATASET_CONFIG_PATH = \"config/dataset/000019.json\"\n",
    "MODEL_CONFIG_PATH = \"config/model/000003.json\"\n",
    "PROFILE_REPORTING = False\n"
   ]
  },
  {
   "cell_type": "code",
   "execution_count": 3,
   "id": "b80f2a10",
   "metadata": {
    "execution": {
     "iopub.execute_input": "2021-04-04T22:30:53.067489Z",
     "iopub.status.busy": "2021-04-04T22:30:53.065901Z",
     "iopub.status.idle": "2021-04-04T22:30:53.072856Z",
     "shell.execute_reply": "2021-04-04T22:30:53.069900Z"
    },
    "papermill": {
     "duration": 0.039437,
     "end_time": "2021-04-04T22:30:53.073383",
     "exception": false,
     "start_time": "2021-04-04T22:30:53.033946",
     "status": "completed"
    },
    "tags": []
   },
   "outputs": [],
   "source": [
    "import json\n",
    "\n",
    "\n",
    "with open(DATASET_CONFIG_PATH) as f:\n",
    "    dataset_config = json.load(f)\n",
    "\n",
    "with open(MODEL_CONFIG_PATH) as f:\n",
    "    model_config = json.load(f)"
   ]
  },
  {
   "cell_type": "markdown",
   "id": "9a4b0e2d",
   "metadata": {
    "papermill": {
     "duration": 0.027321,
     "end_time": "2021-04-04T22:30:53.129929",
     "exception": false,
     "start_time": "2021-04-04T22:30:53.102608",
     "status": "completed"
    },
    "tags": []
   },
   "source": [
    "# Profiling"
   ]
  },
  {
   "cell_type": "code",
   "execution_count": 4,
   "id": "a3e0289b",
   "metadata": {
    "execution": {
     "iopub.execute_input": "2021-04-04T22:30:53.201554Z",
     "iopub.status.busy": "2021-04-04T22:30:53.200617Z",
     "iopub.status.idle": "2021-04-04T22:30:54.836228Z",
     "shell.execute_reply": "2021-04-04T22:30:54.835631Z"
    },
    "papermill": {
     "duration": 1.675232,
     "end_time": "2021-04-04T22:30:54.836346",
     "exception": false,
     "start_time": "2021-04-04T22:30:53.161114",
     "status": "completed"
    },
    "tags": []
   },
   "outputs": [],
   "source": [
    "import pandas as pd\n",
    "from pandas_profiling import ProfileReport"
   ]
  },
  {
   "cell_type": "code",
   "execution_count": 5,
   "id": "ee6c0666",
   "metadata": {
    "execution": {
     "iopub.execute_input": "2021-04-04T22:30:54.884378Z",
     "iopub.status.busy": "2021-04-04T22:30:54.883740Z",
     "iopub.status.idle": "2021-04-04T22:30:54.893720Z",
     "shell.execute_reply": "2021-04-04T22:30:54.894198Z"
    },
    "papermill": {
     "duration": 0.03749,
     "end_time": "2021-04-04T22:30:54.894344",
     "exception": false,
     "start_time": "2021-04-04T22:30:54.856854",
     "status": "completed"
    },
    "tags": []
   },
   "outputs": [],
   "source": [
    "df = pd.read_csv(dataset_config['dataset_path'])"
   ]
  },
  {
   "cell_type": "code",
   "execution_count": 6,
   "id": "7eca6c4a",
   "metadata": {
    "execution": {
     "iopub.execute_input": "2021-04-04T22:30:54.949065Z",
     "iopub.status.busy": "2021-04-04T22:30:54.947730Z",
     "iopub.status.idle": "2021-04-04T22:30:54.969177Z",
     "shell.execute_reply": "2021-04-04T22:30:54.968563Z"
    },
    "papermill": {
     "duration": 0.054317,
     "end_time": "2021-04-04T22:30:54.969296",
     "exception": false,
     "start_time": "2021-04-04T22:30:54.914979",
     "status": "completed"
    },
    "tags": []
   },
   "outputs": [
    {
     "name": "stdout",
     "output_type": "stream",
     "text": [
      "<class 'pandas.core.frame.DataFrame'>\n",
      "RangeIndex: 2109 entries, 0 to 2108\n",
      "Data columns (total 23 columns):\n",
      " #   Column             Non-Null Count  Dtype  \n",
      "---  ------             --------------  -----  \n",
      " 0   id                 2109 non-null   int64  \n",
      " 1   loc                2109 non-null   float64\n",
      " 2   v(g)               2109 non-null   float64\n",
      " 3   ev(g)              2109 non-null   float64\n",
      " 4   iv(g)              2109 non-null   float64\n",
      " 5   n                  2109 non-null   float64\n",
      " 6   v                  2109 non-null   float64\n",
      " 7   l                  2109 non-null   float64\n",
      " 8   d                  2109 non-null   float64\n",
      " 9   i                  2109 non-null   float64\n",
      " 10  e                  2109 non-null   float64\n",
      " 11  b                  2109 non-null   float64\n",
      " 12  t                  2109 non-null   float64\n",
      " 13  lOCode             2109 non-null   int64  \n",
      " 14  lOComment          2109 non-null   int64  \n",
      " 15  lOBlank            2109 non-null   int64  \n",
      " 16  locCodeAndComment  2109 non-null   int64  \n",
      " 17  uniq_Op            2109 non-null   float64\n",
      " 18  uniq_Opnd          2109 non-null   float64\n",
      " 19  total_Op           2109 non-null   float64\n",
      " 20  total_Opnd         2109 non-null   float64\n",
      " 21  branchCount        2109 non-null   float64\n",
      " 22  defects            2109 non-null   bool   \n",
      "dtypes: bool(1), float64(17), int64(5)\n",
      "memory usage: 364.7 KB\n"
     ]
    }
   ],
   "source": [
    "df.info()"
   ]
  },
  {
   "cell_type": "code",
   "execution_count": 7,
   "id": "3638e5e8",
   "metadata": {
    "execution": {
     "iopub.execute_input": "2021-04-04T22:30:55.033610Z",
     "iopub.status.busy": "2021-04-04T22:30:55.021428Z",
     "iopub.status.idle": "2021-04-04T22:30:55.050886Z",
     "shell.execute_reply": "2021-04-04T22:30:55.050355Z"
    },
    "papermill": {
     "duration": 0.058791,
     "end_time": "2021-04-04T22:30:55.051004",
     "exception": false,
     "start_time": "2021-04-04T22:30:54.992213",
     "status": "completed"
    },
    "tags": []
   },
   "outputs": [
    {
     "data": {
      "text/html": [
       "<div>\n",
       "<style scoped>\n",
       "    .dataframe tbody tr th:only-of-type {\n",
       "        vertical-align: middle;\n",
       "    }\n",
       "\n",
       "    .dataframe tbody tr th {\n",
       "        vertical-align: top;\n",
       "    }\n",
       "\n",
       "    .dataframe thead th {\n",
       "        text-align: right;\n",
       "    }\n",
       "</style>\n",
       "<table border=\"1\" class=\"dataframe\">\n",
       "  <thead>\n",
       "    <tr style=\"text-align: right;\">\n",
       "      <th></th>\n",
       "      <th>id</th>\n",
       "      <th>loc</th>\n",
       "      <th>v(g)</th>\n",
       "      <th>ev(g)</th>\n",
       "      <th>iv(g)</th>\n",
       "      <th>n</th>\n",
       "      <th>v</th>\n",
       "      <th>l</th>\n",
       "      <th>d</th>\n",
       "      <th>i</th>\n",
       "      <th>...</th>\n",
       "      <th>lOCode</th>\n",
       "      <th>lOComment</th>\n",
       "      <th>lOBlank</th>\n",
       "      <th>locCodeAndComment</th>\n",
       "      <th>uniq_Op</th>\n",
       "      <th>uniq_Opnd</th>\n",
       "      <th>total_Op</th>\n",
       "      <th>total_Opnd</th>\n",
       "      <th>branchCount</th>\n",
       "      <th>defects</th>\n",
       "    </tr>\n",
       "  </thead>\n",
       "  <tbody>\n",
       "    <tr>\n",
       "      <th>0</th>\n",
       "      <td>1</td>\n",
       "      <td>1.1</td>\n",
       "      <td>1.4</td>\n",
       "      <td>1.4</td>\n",
       "      <td>1.4</td>\n",
       "      <td>1.3</td>\n",
       "      <td>1.30</td>\n",
       "      <td>1.30</td>\n",
       "      <td>1.30</td>\n",
       "      <td>1.30</td>\n",
       "      <td>...</td>\n",
       "      <td>2</td>\n",
       "      <td>2</td>\n",
       "      <td>2</td>\n",
       "      <td>2</td>\n",
       "      <td>1.2</td>\n",
       "      <td>1.2</td>\n",
       "      <td>1.2</td>\n",
       "      <td>1.2</td>\n",
       "      <td>1.4</td>\n",
       "      <td>False</td>\n",
       "    </tr>\n",
       "    <tr>\n",
       "      <th>1</th>\n",
       "      <td>2</td>\n",
       "      <td>1.0</td>\n",
       "      <td>1.0</td>\n",
       "      <td>1.0</td>\n",
       "      <td>1.0</td>\n",
       "      <td>1.0</td>\n",
       "      <td>1.00</td>\n",
       "      <td>1.00</td>\n",
       "      <td>1.00</td>\n",
       "      <td>1.00</td>\n",
       "      <td>...</td>\n",
       "      <td>1</td>\n",
       "      <td>1</td>\n",
       "      <td>1</td>\n",
       "      <td>1</td>\n",
       "      <td>1.0</td>\n",
       "      <td>1.0</td>\n",
       "      <td>1.0</td>\n",
       "      <td>1.0</td>\n",
       "      <td>1.0</td>\n",
       "      <td>True</td>\n",
       "    </tr>\n",
       "    <tr>\n",
       "      <th>2</th>\n",
       "      <td>3</td>\n",
       "      <td>83.0</td>\n",
       "      <td>11.0</td>\n",
       "      <td>1.0</td>\n",
       "      <td>11.0</td>\n",
       "      <td>171.0</td>\n",
       "      <td>927.89</td>\n",
       "      <td>0.04</td>\n",
       "      <td>23.04</td>\n",
       "      <td>40.27</td>\n",
       "      <td>...</td>\n",
       "      <td>65</td>\n",
       "      <td>10</td>\n",
       "      <td>6</td>\n",
       "      <td>0</td>\n",
       "      <td>18.0</td>\n",
       "      <td>25.0</td>\n",
       "      <td>107.0</td>\n",
       "      <td>64.0</td>\n",
       "      <td>21.0</td>\n",
       "      <td>True</td>\n",
       "    </tr>\n",
       "    <tr>\n",
       "      <th>3</th>\n",
       "      <td>4</td>\n",
       "      <td>46.0</td>\n",
       "      <td>8.0</td>\n",
       "      <td>6.0</td>\n",
       "      <td>8.0</td>\n",
       "      <td>141.0</td>\n",
       "      <td>769.78</td>\n",
       "      <td>0.07</td>\n",
       "      <td>14.86</td>\n",
       "      <td>51.81</td>\n",
       "      <td>...</td>\n",
       "      <td>37</td>\n",
       "      <td>2</td>\n",
       "      <td>5</td>\n",
       "      <td>0</td>\n",
       "      <td>16.0</td>\n",
       "      <td>28.0</td>\n",
       "      <td>89.0</td>\n",
       "      <td>52.0</td>\n",
       "      <td>15.0</td>\n",
       "      <td>True</td>\n",
       "    </tr>\n",
       "    <tr>\n",
       "      <th>4</th>\n",
       "      <td>5</td>\n",
       "      <td>25.0</td>\n",
       "      <td>3.0</td>\n",
       "      <td>1.0</td>\n",
       "      <td>3.0</td>\n",
       "      <td>58.0</td>\n",
       "      <td>254.75</td>\n",
       "      <td>0.11</td>\n",
       "      <td>9.35</td>\n",
       "      <td>27.25</td>\n",
       "      <td>...</td>\n",
       "      <td>21</td>\n",
       "      <td>0</td>\n",
       "      <td>2</td>\n",
       "      <td>0</td>\n",
       "      <td>11.0</td>\n",
       "      <td>10.0</td>\n",
       "      <td>41.0</td>\n",
       "      <td>17.0</td>\n",
       "      <td>5.0</td>\n",
       "      <td>True</td>\n",
       "    </tr>\n",
       "  </tbody>\n",
       "</table>\n",
       "<p>5 rows × 23 columns</p>\n",
       "</div>"
      ],
      "text/plain": [
       "   id   loc  v(g)  ev(g)  iv(g)      n       v     l      d      i  ...  \\\n",
       "0   1   1.1   1.4    1.4    1.4    1.3    1.30  1.30   1.30   1.30  ...   \n",
       "1   2   1.0   1.0    1.0    1.0    1.0    1.00  1.00   1.00   1.00  ...   \n",
       "2   3  83.0  11.0    1.0   11.0  171.0  927.89  0.04  23.04  40.27  ...   \n",
       "3   4  46.0   8.0    6.0    8.0  141.0  769.78  0.07  14.86  51.81  ...   \n",
       "4   5  25.0   3.0    1.0    3.0   58.0  254.75  0.11   9.35  27.25  ...   \n",
       "\n",
       "   lOCode  lOComment  lOBlank  locCodeAndComment  uniq_Op  uniq_Opnd  \\\n",
       "0       2          2        2                  2      1.2        1.2   \n",
       "1       1          1        1                  1      1.0        1.0   \n",
       "2      65         10        6                  0     18.0       25.0   \n",
       "3      37          2        5                  0     16.0       28.0   \n",
       "4      21          0        2                  0     11.0       10.0   \n",
       "\n",
       "   total_Op  total_Opnd  branchCount  defects  \n",
       "0       1.2         1.2          1.4    False  \n",
       "1       1.0         1.0          1.0     True  \n",
       "2     107.0        64.0         21.0     True  \n",
       "3      89.0        52.0         15.0     True  \n",
       "4      41.0        17.0          5.0     True  \n",
       "\n",
       "[5 rows x 23 columns]"
      ]
     },
     "execution_count": 7,
     "metadata": {},
     "output_type": "execute_result"
    }
   ],
   "source": [
    "df.head()"
   ]
  },
  {
   "cell_type": "code",
   "execution_count": 8,
   "id": "733e95eb",
   "metadata": {
    "execution": {
     "iopub.execute_input": "2021-04-04T22:30:55.106292Z",
     "iopub.status.busy": "2021-04-04T22:30:55.105557Z",
     "iopub.status.idle": "2021-04-04T22:30:55.107834Z",
     "shell.execute_reply": "2021-04-04T22:30:55.108297Z"
    },
    "papermill": {
     "duration": 0.034068,
     "end_time": "2021-04-04T22:30:55.108442",
     "exception": false,
     "start_time": "2021-04-04T22:30:55.074374",
     "status": "completed"
    },
    "tags": []
   },
   "outputs": [],
   "source": [
    "del df['id']"
   ]
  },
  {
   "cell_type": "code",
   "execution_count": 9,
   "id": "6ff6f5b0",
   "metadata": {
    "execution": {
     "iopub.execute_input": "2021-04-04T22:30:55.169679Z",
     "iopub.status.busy": "2021-04-04T22:30:55.168461Z",
     "iopub.status.idle": "2021-04-04T22:30:55.175598Z",
     "shell.execute_reply": "2021-04-04T22:30:55.173223Z"
    },
    "papermill": {
     "duration": 0.038678,
     "end_time": "2021-04-04T22:30:55.176185",
     "exception": false,
     "start_time": "2021-04-04T22:30:55.137507",
     "status": "completed"
    },
    "tags": []
   },
   "outputs": [],
   "source": [
    "if PROFILE_REPORTING:\n",
    "    ProfileReport(df).to_widgets()"
   ]
  },
  {
   "cell_type": "markdown",
   "id": "1deaf3f0",
   "metadata": {
    "papermill": {
     "duration": 0.040998,
     "end_time": "2021-04-04T22:30:55.253676",
     "exception": false,
     "start_time": "2021-04-04T22:30:55.212678",
     "status": "completed"
    },
    "tags": []
   },
   "source": [
    "# Preprocess"
   ]
  },
  {
   "cell_type": "code",
   "execution_count": 10,
   "id": "1513e563",
   "metadata": {
    "execution": {
     "iopub.execute_input": "2021-04-04T22:30:55.317208Z",
     "iopub.status.busy": "2021-04-04T22:30:55.316342Z",
     "iopub.status.idle": "2021-04-04T22:30:55.318852Z",
     "shell.execute_reply": "2021-04-04T22:30:55.318267Z"
    },
    "papermill": {
     "duration": 0.032067,
     "end_time": "2021-04-04T22:30:55.318972",
     "exception": false,
     "start_time": "2021-04-04T22:30:55.286905",
     "status": "completed"
    },
    "tags": []
   },
   "outputs": [],
   "source": [
    "working_df = df.copy()"
   ]
  },
  {
   "cell_type": "code",
   "execution_count": 11,
   "id": "3b26d675",
   "metadata": {
    "execution": {
     "iopub.execute_input": "2021-04-04T22:30:55.394821Z",
     "iopub.status.busy": "2021-04-04T22:30:55.393463Z",
     "iopub.status.idle": "2021-04-04T22:30:55.398374Z",
     "shell.execute_reply": "2021-04-04T22:30:55.396943Z"
    },
    "papermill": {
     "duration": 0.049341,
     "end_time": "2021-04-04T22:30:55.398808",
     "exception": false,
     "start_time": "2021-04-04T22:30:55.349467",
     "status": "completed"
    },
    "tags": []
   },
   "outputs": [],
   "source": [
    "working_df['defects'] = working_df['defects'].replace([False, True], [0, 1])"
   ]
  },
  {
   "cell_type": "code",
   "execution_count": 12,
   "id": "eb48604f",
   "metadata": {
    "execution": {
     "iopub.execute_input": "2021-04-04T22:30:55.458379Z",
     "iopub.status.busy": "2021-04-04T22:30:55.457594Z",
     "iopub.status.idle": "2021-04-04T22:30:55.460346Z",
     "shell.execute_reply": "2021-04-04T22:30:55.459848Z"
    },
    "papermill": {
     "duration": 0.033284,
     "end_time": "2021-04-04T22:30:55.460464",
     "exception": false,
     "start_time": "2021-04-04T22:30:55.427180",
     "status": "completed"
    },
    "tags": []
   },
   "outputs": [],
   "source": [
    "for col in dataset_config['delete_columns']:\n",
    "    del working_df[col]"
   ]
  },
  {
   "cell_type": "code",
   "execution_count": 13,
   "id": "9a17bc29",
   "metadata": {
    "execution": {
     "iopub.execute_input": "2021-04-04T22:30:55.525706Z",
     "iopub.status.busy": "2021-04-04T22:30:55.523778Z",
     "iopub.status.idle": "2021-04-04T22:30:55.537592Z",
     "shell.execute_reply": "2021-04-04T22:30:55.539923Z"
    },
    "papermill": {
     "duration": 0.054381,
     "end_time": "2021-04-04T22:30:55.540453",
     "exception": false,
     "start_time": "2021-04-04T22:30:55.486072",
     "status": "completed"
    },
    "tags": []
   },
   "outputs": [],
   "source": [
    "working_df = working_df.drop_duplicates()"
   ]
  },
  {
   "cell_type": "markdown",
   "id": "a4d52ca6",
   "metadata": {
    "papermill": {
     "duration": 0.025471,
     "end_time": "2021-04-04T22:30:55.589418",
     "exception": false,
     "start_time": "2021-04-04T22:30:55.563947",
     "status": "completed"
    },
    "tags": []
   },
   "source": [
    "# Split"
   ]
  },
  {
   "cell_type": "code",
   "execution_count": 14,
   "id": "3e9ee4b5",
   "metadata": {
    "execution": {
     "iopub.execute_input": "2021-04-04T22:30:55.648001Z",
     "iopub.status.busy": "2021-04-04T22:30:55.647138Z",
     "iopub.status.idle": "2021-04-04T22:30:55.679416Z",
     "shell.execute_reply": "2021-04-04T22:30:55.680004Z"
    },
    "papermill": {
     "duration": 0.067696,
     "end_time": "2021-04-04T22:30:55.680193",
     "exception": false,
     "start_time": "2021-04-04T22:30:55.612497",
     "status": "completed"
    },
    "tags": []
   },
   "outputs": [],
   "source": [
    "from sklearn.model_selection import train_test_split"
   ]
  },
  {
   "cell_type": "code",
   "execution_count": 15,
   "id": "274004ce",
   "metadata": {
    "execution": {
     "iopub.execute_input": "2021-04-04T22:30:55.733056Z",
     "iopub.status.busy": "2021-04-04T22:30:55.732069Z",
     "iopub.status.idle": "2021-04-04T22:30:55.740475Z",
     "shell.execute_reply": "2021-04-04T22:30:55.739855Z"
    },
    "papermill": {
     "duration": 0.03519,
     "end_time": "2021-04-04T22:30:55.740631",
     "exception": false,
     "start_time": "2021-04-04T22:30:55.705441",
     "status": "completed"
    },
    "scrolled": true,
    "tags": []
   },
   "outputs": [],
   "source": [
    "inlier, outlier = working_df[working_df['defects'] == 0], working_df[working_df['defects'] == 1]"
   ]
  },
  {
   "cell_type": "code",
   "execution_count": 16,
   "id": "753c7b03",
   "metadata": {
    "execution": {
     "iopub.execute_input": "2021-04-04T22:30:55.801699Z",
     "iopub.status.busy": "2021-04-04T22:30:55.801062Z",
     "iopub.status.idle": "2021-04-04T22:30:55.804409Z",
     "shell.execute_reply": "2021-04-04T22:30:55.804865Z"
    },
    "papermill": {
     "duration": 0.038039,
     "end_time": "2021-04-04T22:30:55.805016",
     "exception": false,
     "start_time": "2021-04-04T22:30:55.766977",
     "status": "completed"
    },
    "tags": []
   },
   "outputs": [],
   "source": [
    "X_inlier = inlier.copy()\n",
    "y_inlier = X_inlier.pop('defects')\n",
    "X_outlier = outlier.copy()\n",
    "y_outlier = X_outlier.pop('defects')"
   ]
  },
  {
   "cell_type": "code",
   "execution_count": 17,
   "id": "2ba43193",
   "metadata": {
    "execution": {
     "iopub.execute_input": "2021-04-04T22:30:55.863349Z",
     "iopub.status.busy": "2021-04-04T22:30:55.862042Z",
     "iopub.status.idle": "2021-04-04T22:30:55.864943Z",
     "shell.execute_reply": "2021-04-04T22:30:55.865398Z"
    },
    "papermill": {
     "duration": 0.038022,
     "end_time": "2021-04-04T22:30:55.865548",
     "exception": false,
     "start_time": "2021-04-04T22:30:55.827526",
     "status": "completed"
    },
    "tags": []
   },
   "outputs": [],
   "source": [
    "test_size = dataset_config['test_size']\n",
    "random_state = dataset_config['random_state']\n",
    "\n",
    "X_inlier_train, X_inlier_test, y_inlier_train, y_inlier_test = train_test_split(\n",
    "    X_inlier,\n",
    "    y_inlier,\n",
    "    test_size=test_size,\n",
    "    random_state=random_state\n",
    ")"
   ]
  },
  {
   "cell_type": "code",
   "execution_count": 18,
   "id": "0b7582ca",
   "metadata": {
    "execution": {
     "iopub.execute_input": "2021-04-04T22:30:55.932590Z",
     "iopub.status.busy": "2021-04-04T22:30:55.931630Z",
     "iopub.status.idle": "2021-04-04T22:30:55.933663Z",
     "shell.execute_reply": "2021-04-04T22:30:55.934374Z"
    },
    "papermill": {
     "duration": 0.043492,
     "end_time": "2021-04-04T22:30:55.934563",
     "exception": false,
     "start_time": "2021-04-04T22:30:55.891071",
     "status": "completed"
    },
    "tags": []
   },
   "outputs": [],
   "source": [
    "test_outlier_size = dataset_config['test_outlier_size']\n",
    "if test_outlier_size > 0.0:\n",
    "    X_outlier_train, X_outlier_test, y_outlier_train, y_outlier_test = train_test_split(\n",
    "        X_outlier,\n",
    "        y_outlier,\n",
    "        test_size=test_outlier_size,\n",
    "        random_state=random_state\n",
    "    )\n",
    "else:\n",
    "    X_outlier_train, y_outlier_train = pd.DataFrame(columns=X_outlier.columns), pd.Series(dtype='int64')\n",
    "    X_outlier_test, y_outlier_test = X_outlier.copy(), y_outlier.copy()"
   ]
  },
  {
   "cell_type": "code",
   "execution_count": 19,
   "id": "c34363db",
   "metadata": {
    "execution": {
     "iopub.execute_input": "2021-04-04T22:30:56.008131Z",
     "iopub.status.busy": "2021-04-04T22:30:56.007155Z",
     "iopub.status.idle": "2021-04-04T22:30:56.009494Z",
     "shell.execute_reply": "2021-04-04T22:30:56.010576Z"
    },
    "papermill": {
     "duration": 0.046768,
     "end_time": "2021-04-04T22:30:56.011011",
     "exception": false,
     "start_time": "2021-04-04T22:30:55.964243",
     "status": "completed"
    },
    "tags": []
   },
   "outputs": [],
   "source": [
    "X_train, y_train = pd.concat([X_inlier_train, X_outlier_train], ignore_index=True), pd.concat([y_inlier_train, y_outlier_train], ignore_index=True)\n",
    "X_test, y_test = pd.concat([X_inlier_test, X_outlier_test], ignore_index=True), pd.concat([y_inlier_test, y_outlier_test], ignore_index=True)"
   ]
  },
  {
   "cell_type": "markdown",
   "id": "7cde7309",
   "metadata": {
    "papermill": {
     "duration": 0.028246,
     "end_time": "2021-04-04T22:30:56.064490",
     "exception": false,
     "start_time": "2021-04-04T22:30:56.036244",
     "status": "completed"
    },
    "tags": []
   },
   "source": [
    "# Model"
   ]
  },
  {
   "cell_type": "code",
   "execution_count": 20,
   "id": "2b12a415",
   "metadata": {
    "execution": {
     "iopub.execute_input": "2021-04-04T22:30:56.122885Z",
     "iopub.status.busy": "2021-04-04T22:30:56.122282Z",
     "iopub.status.idle": "2021-04-04T22:30:56.124210Z",
     "shell.execute_reply": "2021-04-04T22:30:56.124653Z"
    },
    "papermill": {
     "duration": 0.037474,
     "end_time": "2021-04-04T22:30:56.124789",
     "exception": false,
     "start_time": "2021-04-04T22:30:56.087315",
     "status": "completed"
    },
    "tags": []
   },
   "outputs": [],
   "source": [
    "from math import sqrt\n",
    "\n",
    "\n",
    "class KNNDataDescription:\n",
    "    def __init__(self, k=5, outlier_threshold=1.0):\n",
    "        self.k = k\n",
    "        self.outlier_threshold = outlier_threshold\n",
    "        self.X = []\n",
    "    \n",
    "    def fit(self, X):\n",
    "        self.X = [features.to_list() for index, features in X.iterrows()]\n",
    "\n",
    "    def predict(self, entries):\n",
    "        return [self.predict_entry(features.to_list()) for index, features in entries.iterrows()]\n",
    "    \n",
    "    def predict_entry(self, entry):\n",
    "        kth_neighbor, kth_distance = self.get_kth_neighbor(entry, self.k)\n",
    "        kth_kth_neighbor, kth_kth_distance = self.get_kth_neighbor(kth_neighbor, self.k + 1)\n",
    "\n",
    "        outlier_score = kth_distance / (kth_kth_distance + 0.000001)\n",
    "\n",
    "        return 1 if outlier_score < self.outlier_threshold else -1\n",
    "        \n",
    "    def euclidean_distance(self, features1, features2):\n",
    "        distance = 0.0\n",
    "        for feat1, feat2 in zip(features1, features2):\n",
    "            distance += (feat1 - feat2)**2\n",
    "                \n",
    "        return sqrt(distance)\n",
    "\n",
    "    def get_neighbors(self, entry, k):\n",
    "        distance_to_data_points = [\n",
    "            (data_point, self.euclidean_distance(entry, data_point))\n",
    "            for data_point in self.X\n",
    "        ]\n",
    "        sorted_by_distance = sorted(distance_to_data_points, key=lambda tup: tup[1])\n",
    "        neighbors = sorted_by_distance[:k]\n",
    "        return neighbors\n",
    "\n",
    "    def get_kth_neighbor(self, entry, k):\n",
    "        neighbors = self.get_neighbors(entry, k)\n",
    "        return neighbors[-1]\n"
   ]
  },
  {
   "cell_type": "code",
   "execution_count": 21,
   "id": "1fa9ec1c",
   "metadata": {
    "execution": {
     "iopub.execute_input": "2021-04-04T22:30:56.202554Z",
     "iopub.status.busy": "2021-04-04T22:30:56.201210Z",
     "iopub.status.idle": "2021-04-04T22:30:56.233469Z",
     "shell.execute_reply": "2021-04-04T22:30:56.232945Z"
    },
    "papermill": {
     "duration": 0.07255,
     "end_time": "2021-04-04T22:30:56.233589",
     "exception": false,
     "start_time": "2021-04-04T22:30:56.161039",
     "status": "completed"
    },
    "tags": []
   },
   "outputs": [],
   "source": [
    "from sklearn.svm import OneClassSVM\n",
    "\n",
    "\n",
    "models = {\n",
    "    'oneclasssvm': OneClassSVM,\n",
    "    'knndatadescription': KNNDataDescription,\n",
    "}"
   ]
  },
  {
   "cell_type": "code",
   "execution_count": 22,
   "id": "4d72a0b1",
   "metadata": {
    "execution": {
     "iopub.execute_input": "2021-04-04T22:30:56.308233Z",
     "iopub.status.busy": "2021-04-04T22:30:56.307030Z",
     "iopub.status.idle": "2021-04-04T22:30:56.309872Z",
     "shell.execute_reply": "2021-04-04T22:30:56.309303Z"
    },
    "papermill": {
     "duration": 0.047326,
     "end_time": "2021-04-04T22:30:56.310027",
     "exception": false,
     "start_time": "2021-04-04T22:30:56.262701",
     "status": "completed"
    },
    "scrolled": true,
    "tags": []
   },
   "outputs": [],
   "source": [
    "model_cls = models[model_config['model_type']]\n",
    "model = model_cls(**model_config['hyperparameters'])"
   ]
  },
  {
   "cell_type": "markdown",
   "id": "e00cff3b",
   "metadata": {
    "papermill": {
     "duration": 0.036577,
     "end_time": "2021-04-04T22:30:56.384002",
     "exception": false,
     "start_time": "2021-04-04T22:30:56.347425",
     "status": "completed"
    },
    "tags": []
   },
   "source": [
    "# Fit"
   ]
  },
  {
   "cell_type": "code",
   "execution_count": 23,
   "id": "8b2ded89",
   "metadata": {
    "execution": {
     "iopub.execute_input": "2021-04-04T22:30:56.447386Z",
     "iopub.status.busy": "2021-04-04T22:30:56.446099Z",
     "iopub.status.idle": "2021-04-04T22:30:56.507918Z",
     "shell.execute_reply": "2021-04-04T22:30:56.508396Z"
    },
    "papermill": {
     "duration": 0.091964,
     "end_time": "2021-04-04T22:30:56.508543",
     "exception": false,
     "start_time": "2021-04-04T22:30:56.416579",
     "status": "completed"
    },
    "tags": []
   },
   "outputs": [],
   "source": [
    "model.fit(X_train)"
   ]
  },
  {
   "cell_type": "markdown",
   "id": "f99999f7",
   "metadata": {
    "papermill": {
     "duration": 0.02843,
     "end_time": "2021-04-04T22:30:56.565289",
     "exception": false,
     "start_time": "2021-04-04T22:30:56.536859",
     "status": "completed"
    },
    "tags": []
   },
   "source": [
    "# Predict"
   ]
  },
  {
   "cell_type": "code",
   "execution_count": 24,
   "id": "6536fbf7",
   "metadata": {
    "execution": {
     "iopub.execute_input": "2021-04-04T22:30:56.623230Z",
     "iopub.status.busy": "2021-04-04T22:30:56.622432Z",
     "iopub.status.idle": "2021-04-04T22:31:00.753788Z",
     "shell.execute_reply": "2021-04-04T22:31:00.757901Z"
    },
    "papermill": {
     "duration": 4.165428,
     "end_time": "2021-04-04T22:31:00.758214",
     "exception": false,
     "start_time": "2021-04-04T22:30:56.592786",
     "status": "completed"
    },
    "tags": []
   },
   "outputs": [],
   "source": [
    "predictions = model.predict(X_test)"
   ]
  },
  {
   "cell_type": "markdown",
   "id": "aa1c9881",
   "metadata": {
    "papermill": {
     "duration": 0.135966,
     "end_time": "2021-04-04T22:31:00.986046",
     "exception": false,
     "start_time": "2021-04-04T22:31:00.850080",
     "status": "completed"
    },
    "tags": []
   },
   "source": [
    "# Evaluate"
   ]
  },
  {
   "cell_type": "code",
   "execution_count": 25,
   "id": "894f0f04",
   "metadata": {
    "execution": {
     "iopub.execute_input": "2021-04-04T22:31:01.189471Z",
     "iopub.status.busy": "2021-04-04T22:31:01.187589Z",
     "iopub.status.idle": "2021-04-04T22:31:01.191709Z",
     "shell.execute_reply": "2021-04-04T22:31:01.192905Z"
    },
    "papermill": {
     "duration": 0.101077,
     "end_time": "2021-04-04T22:31:01.193211",
     "exception": false,
     "start_time": "2021-04-04T22:31:01.092134",
     "status": "completed"
    },
    "tags": []
   },
   "outputs": [],
   "source": [
    "from sklearn.metrics import f1_score"
   ]
  },
  {
   "cell_type": "code",
   "execution_count": 26,
   "id": "211744d3",
   "metadata": {
    "execution": {
     "iopub.execute_input": "2021-04-04T22:31:01.354685Z",
     "iopub.status.busy": "2021-04-04T22:31:01.353841Z",
     "iopub.status.idle": "2021-04-04T22:31:01.363602Z",
     "shell.execute_reply": "2021-04-04T22:31:01.358680Z"
    },
    "papermill": {
     "duration": 0.090017,
     "end_time": "2021-04-04T22:31:01.364024",
     "exception": false,
     "start_time": "2021-04-04T22:31:01.274007",
     "status": "completed"
    },
    "tags": []
   },
   "outputs": [],
   "source": [
    "y_test = y_test.replace([0, 1], [1, -1])"
   ]
  },
  {
   "cell_type": "code",
   "execution_count": 27,
   "id": "d68a9204",
   "metadata": {
    "execution": {
     "iopub.execute_input": "2021-04-04T22:31:01.549718Z",
     "iopub.status.busy": "2021-04-04T22:31:01.547693Z",
     "iopub.status.idle": "2021-04-04T22:31:01.562156Z",
     "shell.execute_reply": "2021-04-04T22:31:01.563386Z"
    },
    "papermill": {
     "duration": 0.121555,
     "end_time": "2021-04-04T22:31:01.563692",
     "exception": false,
     "start_time": "2021-04-04T22:31:01.442137",
     "status": "completed"
    },
    "tags": []
   },
   "outputs": [],
   "source": [
    "def evaluate(truths, predictions, pos_label, neg_label):\n",
    "    TP = 0\n",
    "    FP = 0\n",
    "    TN = 0\n",
    "    FN = 0\n",
    "\n",
    "    for truth, pred in zip(truths, predictions): \n",
    "        if truth == pred == pos_label:\n",
    "           TP += 1\n",
    "        elif pred == pos_label and truth == neg_label:\n",
    "           FP += 1\n",
    "        elif truth == pred == neg_label:\n",
    "           TN += 1\n",
    "        elif pred == neg_label and truth == pos_label:\n",
    "           FN += 1\n",
    "\n",
    "    precision = TP / (TP + FP)\n",
    "    sensitivity = TP / (TP + FN)\n",
    "    \n",
    "    return {\n",
    "        'true_pos': TP,\n",
    "        'false_pos': FP,\n",
    "        'false_neg': FN,\n",
    "        'true_neg': TN,\n",
    "        'precision': precision,\n",
    "        'sensitivity': sensitivity,\n",
    "        'f1': (2 * (precision * sensitivity)) / (precision + sensitivity)\n",
    "    }\n",
    "\n",
    "score = evaluate(y_test, predictions, pos_label=-1, neg_label=1)"
   ]
  },
  {
   "cell_type": "markdown",
   "id": "93596516",
   "metadata": {
    "papermill": {
     "duration": 0.085832,
     "end_time": "2021-04-04T22:31:01.762513",
     "exception": false,
     "start_time": "2021-04-04T22:31:01.676681",
     "status": "completed"
    },
    "tags": []
   },
   "source": [
    "# Report"
   ]
  },
  {
   "cell_type": "code",
   "execution_count": 28,
   "id": "bea5fba1",
   "metadata": {
    "execution": {
     "iopub.execute_input": "2021-04-04T22:31:01.963626Z",
     "iopub.status.busy": "2021-04-04T22:31:01.962186Z",
     "iopub.status.idle": "2021-04-04T22:31:01.969891Z",
     "shell.execute_reply": "2021-04-04T22:31:01.971261Z"
    },
    "papermill": {
     "duration": 0.116976,
     "end_time": "2021-04-04T22:31:01.971862",
     "exception": false,
     "start_time": "2021-04-04T22:31:01.854886",
     "status": "completed"
    },
    "tags": []
   },
   "outputs": [],
   "source": [
    "import csv\n",
    "\n",
    "\n",
    "dataset_config_name = DATASET_CONFIG_PATH.split('/')[-1].split('.')[0]\n",
    "model_config_name = MODEL_CONFIG_PATH.split('/')[-1].split('.')[0]\n",
    "configuration = f\"dataset_{dataset_config_name}-model_{model_config_name}\"\n",
    "\n",
    "with open('results.csv', 'a') as f:\n",
    "    report = dict({'configuration': configuration}, **score)\n",
    "    writer = csv.DictWriter(f, report.keys())\n",
    "    writer.writerow(report)"
   ]
  }
 ],
 "metadata": {
  "celltoolbar": "Tags",
  "kernelspec": {
   "display_name": "Python 3",
   "language": "python",
   "name": "python3"
  },
  "language_info": {
   "codemirror_mode": {
    "name": "ipython",
    "version": 3
   },
   "file_extension": ".py",
   "mimetype": "text/x-python",
   "name": "python",
   "nbconvert_exporter": "python",
   "pygments_lexer": "ipython3",
   "version": "3.9.1"
  },
  "papermill": {
   "default_parameters": {},
   "duration": 12.079121,
   "end_time": "2021-04-04T22:31:04.034256",
   "environment_variables": {},
   "exception": null,
   "input_path": "main.ipynb",
   "output_path": "runs/dataset_000019-model_000003.ipynb",
   "parameters": {
    "DATASET_CONFIG_PATH": "config/dataset/000019.json",
    "MODEL_CONFIG_PATH": "config/model/000003.json",
    "PROFILE_REPORTING": false
   },
   "start_time": "2021-04-04T22:30:51.955135",
   "version": "2.3.3"
  }
 },
 "nbformat": 4,
 "nbformat_minor": 5
}