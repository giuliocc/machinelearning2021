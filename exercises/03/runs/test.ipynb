{
 "cells": [
  {
   "cell_type": "markdown",
   "id": "dcb83a87",
   "metadata": {
    "tags": [
     "papermill-error-cell-tag"
    ]
   },
   "source": [
    "<span style=\"color:red; font-family:Helvetica Neue, Helvetica, Arial, sans-serif; font-size:2em;\">An Exception was encountered at '<a href=\"#papermill-error-cell\">In [20]</a>'.</span>"
   ]
  },
  {
   "cell_type": "markdown",
   "id": "a7b0a129",
   "metadata": {
    "papermill": {
     "duration": 0.029234,
     "end_time": "2021-04-04T05:33:07.115765",
     "exception": false,
     "start_time": "2021-04-04T05:33:07.086531",
     "status": "completed"
    },
    "tags": []
   },
   "source": [
    "# Parametrizing"
   ]
  },
  {
   "cell_type": "code",
   "execution_count": 1,
   "id": "2d34ea81",
   "metadata": {
    "execution": {
     "iopub.execute_input": "2021-04-04T05:33:07.166048Z",
     "iopub.status.busy": "2021-04-04T05:33:07.165204Z",
     "iopub.status.idle": "2021-04-04T05:33:07.167118Z",
     "shell.execute_reply": "2021-04-04T05:33:07.167636Z"
    },
    "papermill": {
     "duration": 0.032632,
     "end_time": "2021-04-04T05:33:07.167871",
     "exception": false,
     "start_time": "2021-04-04T05:33:07.135239",
     "status": "completed"
    },
    "tags": [
     "parameters"
    ]
   },
   "outputs": [],
   "source": [
    "MODEL_CONFIG_PATH = 'config/model/knndd_001.json'\n",
    "DATASET_CONFIG_PATH = 'config/dataset/kc1_001.json'\n",
    "PROFILE_REPORTING = False"
   ]
  },
  {
   "cell_type": "code",
   "execution_count": 2,
   "id": "197a2065",
   "metadata": {
    "execution": {
     "iopub.execute_input": "2021-04-04T05:33:07.204491Z",
     "iopub.status.busy": "2021-04-04T05:33:07.203709Z",
     "iopub.status.idle": "2021-04-04T05:33:07.206352Z",
     "shell.execute_reply": "2021-04-04T05:33:07.205771Z"
    },
    "papermill": {
     "duration": 0.022143,
     "end_time": "2021-04-04T05:33:07.206471",
     "exception": false,
     "start_time": "2021-04-04T05:33:07.184328",
     "status": "completed"
    },
    "tags": [
     "injected-parameters"
    ]
   },
   "outputs": [],
   "source": [
    "# Parameters\n",
    "MODEL_CONFIG_PATH = \"config/model/knndd_001.json\"\n",
    "DATASET_CONFIG_PATH = \"config/dataset/kc1_001.json\"\n",
    "PROFILE_REPORTING = False\n"
   ]
  },
  {
   "cell_type": "code",
   "execution_count": 3,
   "id": "4d0fd89d",
   "metadata": {
    "execution": {
     "iopub.execute_input": "2021-04-04T05:33:07.244531Z",
     "iopub.status.busy": "2021-04-04T05:33:07.243700Z",
     "iopub.status.idle": "2021-04-04T05:33:07.246228Z",
     "shell.execute_reply": "2021-04-04T05:33:07.245629Z"
    },
    "papermill": {
     "duration": 0.023124,
     "end_time": "2021-04-04T05:33:07.246413",
     "exception": false,
     "start_time": "2021-04-04T05:33:07.223289",
     "status": "completed"
    },
    "tags": []
   },
   "outputs": [],
   "source": [
    "import json\n",
    "\n",
    "\n",
    "with open(DATASET_CONFIG_PATH) as f:\n",
    "    dataset_config = json.load(f)\n",
    "\n",
    "with open(MODEL_CONFIG_PATH) as f:\n",
    "    model_config = json.load(f)"
   ]
  },
  {
   "cell_type": "markdown",
   "id": "9a4b0e2d",
   "metadata": {
    "papermill": {
     "duration": 0.016904,
     "end_time": "2021-04-04T05:33:07.281159",
     "exception": false,
     "start_time": "2021-04-04T05:33:07.264255",
     "status": "completed"
    },
    "tags": []
   },
   "source": [
    "# Profiling"
   ]
  },
  {
   "cell_type": "code",
   "execution_count": 4,
   "id": "a3e0289b",
   "metadata": {
    "execution": {
     "iopub.execute_input": "2021-04-04T05:33:07.318992Z",
     "iopub.status.busy": "2021-04-04T05:33:07.318331Z",
     "iopub.status.idle": "2021-04-04T05:33:08.579616Z",
     "shell.execute_reply": "2021-04-04T05:33:08.580500Z"
    },
    "papermill": {
     "duration": 1.281972,
     "end_time": "2021-04-04T05:33:08.580752",
     "exception": false,
     "start_time": "2021-04-04T05:33:07.298780",
     "status": "completed"
    },
    "tags": []
   },
   "outputs": [],
   "source": [
    "import pandas as pd\n",
    "from pandas_profiling import ProfileReport"
   ]
  },
  {
   "cell_type": "code",
   "execution_count": 5,
   "id": "ee6c0666",
   "metadata": {
    "execution": {
     "iopub.execute_input": "2021-04-04T05:33:08.624434Z",
     "iopub.status.busy": "2021-04-04T05:33:08.623470Z",
     "iopub.status.idle": "2021-04-04T05:33:08.639247Z",
     "shell.execute_reply": "2021-04-04T05:33:08.638431Z"
    },
    "papermill": {
     "duration": 0.039136,
     "end_time": "2021-04-04T05:33:08.639408",
     "exception": false,
     "start_time": "2021-04-04T05:33:08.600272",
     "status": "completed"
    },
    "tags": []
   },
   "outputs": [],
   "source": [
    "df = pd.read_csv(dataset_config['dataset_path'])"
   ]
  },
  {
   "cell_type": "code",
   "execution_count": 6,
   "id": "7990f913",
   "metadata": {
    "execution": {
     "iopub.execute_input": "2021-04-04T05:33:08.687445Z",
     "iopub.status.busy": "2021-04-04T05:33:08.683708Z",
     "iopub.status.idle": "2021-04-04T05:33:08.698639Z",
     "shell.execute_reply": "2021-04-04T05:33:08.699644Z"
    },
    "papermill": {
     "duration": 0.041205,
     "end_time": "2021-04-04T05:33:08.699929",
     "exception": false,
     "start_time": "2021-04-04T05:33:08.658724",
     "status": "completed"
    },
    "tags": []
   },
   "outputs": [
    {
     "name": "stdout",
     "output_type": "stream",
     "text": [
      "<class 'pandas.core.frame.DataFrame'>\n",
      "RangeIndex: 2109 entries, 0 to 2108\n",
      "Data columns (total 23 columns):\n",
      " #   Column             Non-Null Count  Dtype  \n",
      "---  ------             --------------  -----  \n",
      " 0   id                 2109 non-null   int64  \n",
      " 1   loc                2109 non-null   float64\n",
      " 2   v(g)               2109 non-null   float64\n",
      " 3   ev(g)              2109 non-null   float64\n",
      " 4   iv(g)              2109 non-null   float64\n",
      " 5   n                  2109 non-null   float64\n",
      " 6   v                  2109 non-null   float64\n",
      " 7   l                  2109 non-null   float64\n",
      " 8   d                  2109 non-null   float64\n",
      " 9   i                  2109 non-null   float64\n",
      " 10  e                  2109 non-null   float64\n",
      " 11  b                  2109 non-null   float64\n",
      " 12  t                  2109 non-null   float64\n",
      " 13  lOCode             2109 non-null   int64  \n",
      " 14  lOComment          2109 non-null   int64  \n",
      " 15  lOBlank            2109 non-null   int64  \n",
      " 16  locCodeAndComment  2109 non-null   int64  \n",
      " 17  uniq_Op            2109 non-null   float64\n",
      " 18  uniq_Opnd          2109 non-null   float64\n",
      " 19  total_Op           2109 non-null   float64\n",
      " 20  total_Opnd         2109 non-null   float64\n",
      " 21  branchCount        2109 non-null   float64\n",
      " 22  defects            2109 non-null   bool   \n",
      "dtypes: bool(1), float64(17), int64(5)\n",
      "memory usage: 364.7 KB\n"
     ]
    }
   ],
   "source": [
    "df.info()"
   ]
  },
  {
   "cell_type": "code",
   "execution_count": 7,
   "id": "cfef6645",
   "metadata": {
    "execution": {
     "iopub.execute_input": "2021-04-04T05:33:08.764485Z",
     "iopub.status.busy": "2021-04-04T05:33:08.750247Z",
     "iopub.status.idle": "2021-04-04T05:33:08.787662Z",
     "shell.execute_reply": "2021-04-04T05:33:08.786456Z"
    },
    "papermill": {
     "duration": 0.066185,
     "end_time": "2021-04-04T05:33:08.787871",
     "exception": false,
     "start_time": "2021-04-04T05:33:08.721686",
     "status": "completed"
    },
    "tags": []
   },
   "outputs": [
    {
     "data": {
      "text/html": [
       "<div>\n",
       "<style scoped>\n",
       "    .dataframe tbody tr th:only-of-type {\n",
       "        vertical-align: middle;\n",
       "    }\n",
       "\n",
       "    .dataframe tbody tr th {\n",
       "        vertical-align: top;\n",
       "    }\n",
       "\n",
       "    .dataframe thead th {\n",
       "        text-align: right;\n",
       "    }\n",
       "</style>\n",
       "<table border=\"1\" class=\"dataframe\">\n",
       "  <thead>\n",
       "    <tr style=\"text-align: right;\">\n",
       "      <th></th>\n",
       "      <th>id</th>\n",
       "      <th>loc</th>\n",
       "      <th>v(g)</th>\n",
       "      <th>ev(g)</th>\n",
       "      <th>iv(g)</th>\n",
       "      <th>n</th>\n",
       "      <th>v</th>\n",
       "      <th>l</th>\n",
       "      <th>d</th>\n",
       "      <th>i</th>\n",
       "      <th>...</th>\n",
       "      <th>lOCode</th>\n",
       "      <th>lOComment</th>\n",
       "      <th>lOBlank</th>\n",
       "      <th>locCodeAndComment</th>\n",
       "      <th>uniq_Op</th>\n",
       "      <th>uniq_Opnd</th>\n",
       "      <th>total_Op</th>\n",
       "      <th>total_Opnd</th>\n",
       "      <th>branchCount</th>\n",
       "      <th>defects</th>\n",
       "    </tr>\n",
       "  </thead>\n",
       "  <tbody>\n",
       "    <tr>\n",
       "      <th>0</th>\n",
       "      <td>1</td>\n",
       "      <td>1.1</td>\n",
       "      <td>1.4</td>\n",
       "      <td>1.4</td>\n",
       "      <td>1.4</td>\n",
       "      <td>1.3</td>\n",
       "      <td>1.30</td>\n",
       "      <td>1.30</td>\n",
       "      <td>1.30</td>\n",
       "      <td>1.30</td>\n",
       "      <td>...</td>\n",
       "      <td>2</td>\n",
       "      <td>2</td>\n",
       "      <td>2</td>\n",
       "      <td>2</td>\n",
       "      <td>1.2</td>\n",
       "      <td>1.2</td>\n",
       "      <td>1.2</td>\n",
       "      <td>1.2</td>\n",
       "      <td>1.4</td>\n",
       "      <td>False</td>\n",
       "    </tr>\n",
       "    <tr>\n",
       "      <th>1</th>\n",
       "      <td>2</td>\n",
       "      <td>1.0</td>\n",
       "      <td>1.0</td>\n",
       "      <td>1.0</td>\n",
       "      <td>1.0</td>\n",
       "      <td>1.0</td>\n",
       "      <td>1.00</td>\n",
       "      <td>1.00</td>\n",
       "      <td>1.00</td>\n",
       "      <td>1.00</td>\n",
       "      <td>...</td>\n",
       "      <td>1</td>\n",
       "      <td>1</td>\n",
       "      <td>1</td>\n",
       "      <td>1</td>\n",
       "      <td>1.0</td>\n",
       "      <td>1.0</td>\n",
       "      <td>1.0</td>\n",
       "      <td>1.0</td>\n",
       "      <td>1.0</td>\n",
       "      <td>True</td>\n",
       "    </tr>\n",
       "    <tr>\n",
       "      <th>2</th>\n",
       "      <td>3</td>\n",
       "      <td>83.0</td>\n",
       "      <td>11.0</td>\n",
       "      <td>1.0</td>\n",
       "      <td>11.0</td>\n",
       "      <td>171.0</td>\n",
       "      <td>927.89</td>\n",
       "      <td>0.04</td>\n",
       "      <td>23.04</td>\n",
       "      <td>40.27</td>\n",
       "      <td>...</td>\n",
       "      <td>65</td>\n",
       "      <td>10</td>\n",
       "      <td>6</td>\n",
       "      <td>0</td>\n",
       "      <td>18.0</td>\n",
       "      <td>25.0</td>\n",
       "      <td>107.0</td>\n",
       "      <td>64.0</td>\n",
       "      <td>21.0</td>\n",
       "      <td>True</td>\n",
       "    </tr>\n",
       "    <tr>\n",
       "      <th>3</th>\n",
       "      <td>4</td>\n",
       "      <td>46.0</td>\n",
       "      <td>8.0</td>\n",
       "      <td>6.0</td>\n",
       "      <td>8.0</td>\n",
       "      <td>141.0</td>\n",
       "      <td>769.78</td>\n",
       "      <td>0.07</td>\n",
       "      <td>14.86</td>\n",
       "      <td>51.81</td>\n",
       "      <td>...</td>\n",
       "      <td>37</td>\n",
       "      <td>2</td>\n",
       "      <td>5</td>\n",
       "      <td>0</td>\n",
       "      <td>16.0</td>\n",
       "      <td>28.0</td>\n",
       "      <td>89.0</td>\n",
       "      <td>52.0</td>\n",
       "      <td>15.0</td>\n",
       "      <td>True</td>\n",
       "    </tr>\n",
       "    <tr>\n",
       "      <th>4</th>\n",
       "      <td>5</td>\n",
       "      <td>25.0</td>\n",
       "      <td>3.0</td>\n",
       "      <td>1.0</td>\n",
       "      <td>3.0</td>\n",
       "      <td>58.0</td>\n",
       "      <td>254.75</td>\n",
       "      <td>0.11</td>\n",
       "      <td>9.35</td>\n",
       "      <td>27.25</td>\n",
       "      <td>...</td>\n",
       "      <td>21</td>\n",
       "      <td>0</td>\n",
       "      <td>2</td>\n",
       "      <td>0</td>\n",
       "      <td>11.0</td>\n",
       "      <td>10.0</td>\n",
       "      <td>41.0</td>\n",
       "      <td>17.0</td>\n",
       "      <td>5.0</td>\n",
       "      <td>True</td>\n",
       "    </tr>\n",
       "  </tbody>\n",
       "</table>\n",
       "<p>5 rows × 23 columns</p>\n",
       "</div>"
      ],
      "text/plain": [
       "   id   loc  v(g)  ev(g)  iv(g)      n       v     l      d      i  ...  \\\n",
       "0   1   1.1   1.4    1.4    1.4    1.3    1.30  1.30   1.30   1.30  ...   \n",
       "1   2   1.0   1.0    1.0    1.0    1.0    1.00  1.00   1.00   1.00  ...   \n",
       "2   3  83.0  11.0    1.0   11.0  171.0  927.89  0.04  23.04  40.27  ...   \n",
       "3   4  46.0   8.0    6.0    8.0  141.0  769.78  0.07  14.86  51.81  ...   \n",
       "4   5  25.0   3.0    1.0    3.0   58.0  254.75  0.11   9.35  27.25  ...   \n",
       "\n",
       "   lOCode  lOComment  lOBlank  locCodeAndComment  uniq_Op  uniq_Opnd  \\\n",
       "0       2          2        2                  2      1.2        1.2   \n",
       "1       1          1        1                  1      1.0        1.0   \n",
       "2      65         10        6                  0     18.0       25.0   \n",
       "3      37          2        5                  0     16.0       28.0   \n",
       "4      21          0        2                  0     11.0       10.0   \n",
       "\n",
       "   total_Op  total_Opnd  branchCount  defects  \n",
       "0       1.2         1.2          1.4    False  \n",
       "1       1.0         1.0          1.0     True  \n",
       "2     107.0        64.0         21.0     True  \n",
       "3      89.0        52.0         15.0     True  \n",
       "4      41.0        17.0          5.0     True  \n",
       "\n",
       "[5 rows x 23 columns]"
      ]
     },
     "execution_count": 7,
     "metadata": {},
     "output_type": "execute_result"
    }
   ],
   "source": [
    "df.head()"
   ]
  },
  {
   "cell_type": "code",
   "execution_count": 8,
   "id": "6ff6f5b0",
   "metadata": {
    "execution": {
     "iopub.execute_input": "2021-04-04T05:33:08.838876Z",
     "iopub.status.busy": "2021-04-04T05:33:08.837616Z",
     "iopub.status.idle": "2021-04-04T05:33:08.841278Z",
     "shell.execute_reply": "2021-04-04T05:33:08.840424Z"
    },
    "papermill": {
     "duration": 0.026787,
     "end_time": "2021-04-04T05:33:08.841446",
     "exception": false,
     "start_time": "2021-04-04T05:33:08.814659",
     "status": "completed"
    },
    "tags": []
   },
   "outputs": [],
   "source": [
    "if PROFILE_REPORTING:\n",
    "    ProfileReport(df).to_widgets()"
   ]
  },
  {
   "cell_type": "markdown",
   "id": "1deaf3f0",
   "metadata": {
    "papermill": {
     "duration": 0.018655,
     "end_time": "2021-04-04T05:33:08.881812",
     "exception": false,
     "start_time": "2021-04-04T05:33:08.863157",
     "status": "completed"
    },
    "tags": []
   },
   "source": [
    "# Preprocess"
   ]
  },
  {
   "cell_type": "code",
   "execution_count": 9,
   "id": "553736f5",
   "metadata": {
    "execution": {
     "iopub.execute_input": "2021-04-04T05:33:08.923561Z",
     "iopub.status.busy": "2021-04-04T05:33:08.922706Z",
     "iopub.status.idle": "2021-04-04T05:33:08.926266Z",
     "shell.execute_reply": "2021-04-04T05:33:08.925392Z"
    },
    "papermill": {
     "duration": 0.026207,
     "end_time": "2021-04-04T05:33:08.926439",
     "exception": false,
     "start_time": "2021-04-04T05:33:08.900232",
     "status": "completed"
    },
    "tags": []
   },
   "outputs": [],
   "source": [
    "working_df = df.copy()"
   ]
  },
  {
   "cell_type": "code",
   "execution_count": 10,
   "id": "3b26d675",
   "metadata": {
    "execution": {
     "iopub.execute_input": "2021-04-04T05:33:08.978402Z",
     "iopub.status.busy": "2021-04-04T05:33:08.977124Z",
     "iopub.status.idle": "2021-04-04T05:33:08.983441Z",
     "shell.execute_reply": "2021-04-04T05:33:08.984414Z"
    },
    "papermill": {
     "duration": 0.031224,
     "end_time": "2021-04-04T05:33:08.984681",
     "exception": false,
     "start_time": "2021-04-04T05:33:08.953457",
     "status": "completed"
    },
    "tags": []
   },
   "outputs": [],
   "source": [
    "working_df['defects'] = working_df['defects'].replace([False, True], [0, 1])"
   ]
  },
  {
   "cell_type": "code",
   "execution_count": 11,
   "id": "28f671f3",
   "metadata": {
    "execution": {
     "iopub.execute_input": "2021-04-04T05:33:09.030296Z",
     "iopub.status.busy": "2021-04-04T05:33:09.029649Z",
     "iopub.status.idle": "2021-04-04T05:33:09.034190Z",
     "shell.execute_reply": "2021-04-04T05:33:09.034937Z"
    },
    "papermill": {
     "duration": 0.028706,
     "end_time": "2021-04-04T05:33:09.035158",
     "exception": false,
     "start_time": "2021-04-04T05:33:09.006452",
     "status": "completed"
    },
    "tags": []
   },
   "outputs": [],
   "source": [
    "for col in dataset_config['delete_columns']:\n",
    "    del working_df[col]"
   ]
  },
  {
   "cell_type": "markdown",
   "id": "a4d52ca6",
   "metadata": {
    "papermill": {
     "duration": 0.017948,
     "end_time": "2021-04-04T05:33:09.075816",
     "exception": false,
     "start_time": "2021-04-04T05:33:09.057868",
     "status": "completed"
    },
    "tags": []
   },
   "source": [
    "# Split"
   ]
  },
  {
   "cell_type": "code",
   "execution_count": 12,
   "id": "3e9ee4b5",
   "metadata": {
    "execution": {
     "iopub.execute_input": "2021-04-04T05:33:09.123323Z",
     "iopub.status.busy": "2021-04-04T05:33:09.122511Z",
     "iopub.status.idle": "2021-04-04T05:33:09.150631Z",
     "shell.execute_reply": "2021-04-04T05:33:09.151093Z"
    },
    "papermill": {
     "duration": 0.056278,
     "end_time": "2021-04-04T05:33:09.151241",
     "exception": false,
     "start_time": "2021-04-04T05:33:09.094963",
     "status": "completed"
    },
    "tags": []
   },
   "outputs": [],
   "source": [
    "from sklearn.model_selection import train_test_split"
   ]
  },
  {
   "cell_type": "code",
   "execution_count": 13,
   "id": "274004ce",
   "metadata": {
    "execution": {
     "iopub.execute_input": "2021-04-04T05:33:09.195216Z",
     "iopub.status.busy": "2021-04-04T05:33:09.194314Z",
     "iopub.status.idle": "2021-04-04T05:33:09.201830Z",
     "shell.execute_reply": "2021-04-04T05:33:09.202325Z"
    },
    "papermill": {
     "duration": 0.032845,
     "end_time": "2021-04-04T05:33:09.202482",
     "exception": false,
     "start_time": "2021-04-04T05:33:09.169637",
     "status": "completed"
    },
    "scrolled": true,
    "tags": []
   },
   "outputs": [],
   "source": [
    "inlier, outlier = working_df[working_df['defects'] == 0], working_df[working_df['defects'] == 1]"
   ]
  },
  {
   "cell_type": "code",
   "execution_count": 14,
   "id": "753c7b03",
   "metadata": {
    "execution": {
     "iopub.execute_input": "2021-04-04T05:33:09.244225Z",
     "iopub.status.busy": "2021-04-04T05:33:09.243503Z",
     "iopub.status.idle": "2021-04-04T05:33:09.247598Z",
     "shell.execute_reply": "2021-04-04T05:33:09.248177Z"
    },
    "papermill": {
     "duration": 0.026778,
     "end_time": "2021-04-04T05:33:09.248336",
     "exception": false,
     "start_time": "2021-04-04T05:33:09.221558",
     "status": "completed"
    },
    "tags": []
   },
   "outputs": [],
   "source": [
    "X_inlier = inlier.copy()\n",
    "y_inlier = X_inlier.pop('defects')\n",
    "X_outlier = outlier.copy()\n",
    "y_outlier = X_outlier.pop('defects')"
   ]
  },
  {
   "cell_type": "code",
   "execution_count": 15,
   "id": "2ba43193",
   "metadata": {
    "execution": {
     "iopub.execute_input": "2021-04-04T05:33:09.292352Z",
     "iopub.status.busy": "2021-04-04T05:33:09.291119Z",
     "iopub.status.idle": "2021-04-04T05:33:09.297465Z",
     "shell.execute_reply": "2021-04-04T05:33:09.297947Z"
    },
    "papermill": {
     "duration": 0.030067,
     "end_time": "2021-04-04T05:33:09.298110",
     "exception": false,
     "start_time": "2021-04-04T05:33:09.268043",
     "status": "completed"
    },
    "tags": []
   },
   "outputs": [],
   "source": [
    "test_size = dataset_config['test_size']\n",
    "X_inlier_train, X_inlier_test, y_inlier_train, y_inlier_test = train_test_split(X_inlier, y_inlier, test_size=test_size, random_state=1)\n",
    "X_train, y_train = X_inlier_train, y_inlier_train\n",
    "X_test, y_test = pd.concat([X_inlier_test, X_outlier]), pd.concat([y_inlier_test, y_outlier])"
   ]
  },
  {
   "cell_type": "markdown",
   "id": "7cde7309",
   "metadata": {
    "papermill": {
     "duration": 0.020511,
     "end_time": "2021-04-04T05:33:09.339040",
     "exception": false,
     "start_time": "2021-04-04T05:33:09.318529",
     "status": "completed"
    },
    "tags": []
   },
   "source": [
    "# Model"
   ]
  },
  {
   "cell_type": "code",
   "execution_count": 16,
   "id": "21533c47",
   "metadata": {
    "execution": {
     "iopub.execute_input": "2021-04-04T05:33:09.386398Z",
     "iopub.status.busy": "2021-04-04T05:33:09.385794Z",
     "iopub.status.idle": "2021-04-04T05:33:09.387823Z",
     "shell.execute_reply": "2021-04-04T05:33:09.388308Z"
    },
    "papermill": {
     "duration": 0.030277,
     "end_time": "2021-04-04T05:33:09.388460",
     "exception": false,
     "start_time": "2021-04-04T05:33:09.358183",
     "status": "completed"
    },
    "tags": []
   },
   "outputs": [],
   "source": [
    "from math import sqrt\n",
    "\n",
    "\n",
    "class KNNDataDescription:\n",
    "    def __init__(self, k=5, outlier_threshold=1.0):\n",
    "        self.k = k\n",
    "        self.X = []\n",
    "    \n",
    "    def fit(self, X):\n",
    "        self.X = X\n",
    "    \n",
    "    def predict(self, entry):\n",
    "        kth_neighbor, kth_distance = self.get_kth_neighbor(entry, self.k)\n",
    "        kth_kth_neighbor, kth_kth_distance = self.get_kth_neighbor(kth_neighbor[0], self.k + 1)\n",
    "        outlier_score = kth_distance / kth_kth_distance\n",
    "        \n",
    "        return 1 if outlier_score < outlier_threshold else -1\n",
    "        \n",
    "    def euclidean_distance(self, features1, features2):\n",
    "        distance = 0.0\n",
    "        for feat1, feat2 in zip(features1, features2):\n",
    "            try:\n",
    "                distance += (feat1 - feat2)**2\n",
    "            except:\n",
    "                print(feat1, feat2)\n",
    "        return sqrt(distance)\n",
    "\n",
    "    def get_neighbors(self, entry, k):\n",
    "        distance_to_data_points = [\n",
    "            (data_point, self.euclidean_distance(entry, data_point))\n",
    "            for data_point in self.X\n",
    "        ]\n",
    "        sorted_by_distance = sorted(distance_to_data_points, key=lambda tup: tup[1])\n",
    "        neighbors = distances[:k]\n",
    "        return neighbors\n",
    "\n",
    "    def get_kth_neighbor(self, entry, k):\n",
    "        neighbors = self.get_neighbors(entry, self.k)\n",
    "        return neighbors[-1]\n"
   ]
  },
  {
   "cell_type": "code",
   "execution_count": 17,
   "id": "1fa9ec1c",
   "metadata": {
    "execution": {
     "iopub.execute_input": "2021-04-04T05:33:09.434731Z",
     "iopub.status.busy": "2021-04-04T05:33:09.433700Z",
     "iopub.status.idle": "2021-04-04T05:33:09.476971Z",
     "shell.execute_reply": "2021-04-04T05:33:09.476028Z"
    },
    "papermill": {
     "duration": 0.067576,
     "end_time": "2021-04-04T05:33:09.477150",
     "exception": false,
     "start_time": "2021-04-04T05:33:09.409574",
     "status": "completed"
    },
    "tags": []
   },
   "outputs": [],
   "source": [
    "from sklearn.ensemble import IsolationForest\n",
    "from sklearn.svm import OneClassSVM\n",
    "\n",
    "\n",
    "models = {\n",
    "    'isolationforest': IsolationForest,\n",
    "    'oneclasssvm': OneClassSVM,\n",
    "    'knndatadescription': KNNDataDescription\n",
    "}"
   ]
  },
  {
   "cell_type": "code",
   "execution_count": 18,
   "id": "4d72a0b1",
   "metadata": {
    "execution": {
     "iopub.execute_input": "2021-04-04T05:33:09.529352Z",
     "iopub.status.busy": "2021-04-04T05:33:09.528685Z",
     "iopub.status.idle": "2021-04-04T05:33:09.531371Z",
     "shell.execute_reply": "2021-04-04T05:33:09.532141Z"
    },
    "papermill": {
     "duration": 0.027808,
     "end_time": "2021-04-04T05:33:09.532369",
     "exception": false,
     "start_time": "2021-04-04T05:33:09.504561",
     "status": "completed"
    },
    "scrolled": true,
    "tags": []
   },
   "outputs": [],
   "source": [
    "model_cls = models[model_config['model_type']]\n",
    "model = model_cls(**model_config['hyperparameters'])"
   ]
  },
  {
   "cell_type": "markdown",
   "id": "e00cff3b",
   "metadata": {
    "papermill": {
     "duration": 0.018568,
     "end_time": "2021-04-04T05:33:09.575139",
     "exception": false,
     "start_time": "2021-04-04T05:33:09.556571",
     "status": "completed"
    },
    "tags": []
   },
   "source": [
    "# Fit"
   ]
  },
  {
   "cell_type": "code",
   "execution_count": 19,
   "id": "8b2ded89",
   "metadata": {
    "execution": {
     "iopub.execute_input": "2021-04-04T05:33:09.618300Z",
     "iopub.status.busy": "2021-04-04T05:33:09.617054Z",
     "iopub.status.idle": "2021-04-04T05:33:09.621076Z",
     "shell.execute_reply": "2021-04-04T05:33:09.620088Z"
    },
    "papermill": {
     "duration": 0.027356,
     "end_time": "2021-04-04T05:33:09.621271",
     "exception": false,
     "start_time": "2021-04-04T05:33:09.593915",
     "status": "completed"
    },
    "tags": []
   },
   "outputs": [],
   "source": [
    "model.fit(X_train)"
   ]
  },
  {
   "cell_type": "markdown",
   "id": "f99999f7",
   "metadata": {
    "papermill": {
     "duration": 0.020216,
     "end_time": "2021-04-04T05:33:09.663226",
     "exception": false,
     "start_time": "2021-04-04T05:33:09.643010",
     "status": "completed"
    },
    "tags": []
   },
   "source": [
    "# Predict"
   ]
  },
  {
   "cell_type": "markdown",
   "id": "e5f761ff",
   "metadata": {
    "tags": [
     "papermill-error-cell-tag"
    ]
   },
   "source": [
    "<span id=\"papermill-error-cell\" style=\"color:red; font-family:Helvetica Neue, Helvetica, Arial, sans-serif; font-size:2em;\">Execution using papermill encountered an exception here and stopped:</span>"
   ]
  },
  {
   "cell_type": "code",
   "execution_count": 20,
   "id": "6536fbf7",
   "metadata": {
    "execution": {
     "iopub.execute_input": "2021-04-04T05:33:09.707998Z",
     "iopub.status.busy": "2021-04-04T05:33:09.706867Z",
     "iopub.status.idle": "2021-04-04T05:33:09.924464Z",
     "shell.execute_reply": "2021-04-04T05:33:09.922935Z"
    },
    "papermill": {
     "duration": 0.242506,
     "end_time": "2021-04-04T05:33:09.924847",
     "exception": true,
     "start_time": "2021-04-04T05:33:09.682341",
     "status": "failed"
    },
    "tags": []
   },
   "outputs": [
    {
     "name": "stdout",
     "output_type": "stream",
     "text": [
      "id i\n",
      "v(g) d\n",
      "id v\n",
      "v(g) (\n",
      "ev(g) g\n",
      "iv(g) )\n",
      "id e\n",
      "v(g) v\n",
      "ev(g) (\n",
      "iv(g) g\n",
      "n )\n",
      "id i\n",
      "v(g) v\n",
      "ev(g) (\n",
      "iv(g) g\n",
      "n )\n",
      "id n\n",
      "id v\n",
      "id l\n",
      "id d\n",
      "id i\n",
      "id e\n",
      "id b\n",
      "id t\n",
      "id l\n",
      "v(g) O\n",
      "ev(g) C\n",
      "iv(g) o\n",
      "n d\n",
      "v e\n",
      "id l\n",
      "v(g) O\n",
      "ev(g) C\n",
      "iv(g) o\n",
      "n m\n",
      "v m\n",
      "l e\n",
      "d n\n",
      "i t\n",
      "id l\n",
      "v(g) O\n",
      "ev(g) B\n",
      "iv(g) l\n",
      "n a\n",
      "v n\n",
      "l k\n",
      "id u\n",
      "v(g) n\n",
      "ev(g) i\n",
      "iv(g) q\n",
      "n _\n",
      "v O\n",
      "l p\n",
      "id u\n",
      "v(g) n\n",
      "ev(g) i\n",
      "iv(g) q\n",
      "n _\n",
      "v O\n",
      "l p\n",
      "d n\n",
      "i d\n",
      "id t\n",
      "v(g) o\n",
      "ev(g) t\n",
      "iv(g) a\n",
      "n l\n",
      "v _\n",
      "l O\n",
      "d p\n",
      "id t\n",
      "v(g) o\n",
      "ev(g) t\n",
      "iv(g) a\n",
      "n l\n",
      "v _\n",
      "l O\n",
      "d p\n",
      "i n\n",
      "e d\n",
      "id b\n",
      "v(g) r\n",
      "ev(g) a\n",
      "iv(g) n\n",
      "n c\n",
      "v h\n",
      "l C\n",
      "d o\n",
      "i u\n",
      "e n\n",
      "b t\n"
     ]
    },
    {
     "ename": "NameError",
     "evalue": "name 'distances' is not defined",
     "output_type": "error",
     "traceback": [
      "\u001b[0;31m---------------------------------------------------------------------------\u001b[0m",
      "\u001b[0;31mNameError\u001b[0m                                 Traceback (most recent call last)",
      "\u001b[0;32m<ipython-input-20-0e147a3957b1>\u001b[0m in \u001b[0;36m<module>\u001b[0;34m\u001b[0m\n\u001b[0;32m----> 1\u001b[0;31m \u001b[0mpredictions\u001b[0m \u001b[0;34m=\u001b[0m \u001b[0mmodel\u001b[0m\u001b[0;34m.\u001b[0m\u001b[0mpredict\u001b[0m\u001b[0;34m(\u001b[0m\u001b[0mX_test\u001b[0m\u001b[0;34m)\u001b[0m\u001b[0;34m\u001b[0m\u001b[0;34m\u001b[0m\u001b[0m\n\u001b[0m",
      "\u001b[0;32m<ipython-input-16-4c834bd6abb7>\u001b[0m in \u001b[0;36mpredict\u001b[0;34m(self, entry)\u001b[0m\n\u001b[1;32m     11\u001b[0m \u001b[0;34m\u001b[0m\u001b[0m\n\u001b[1;32m     12\u001b[0m     \u001b[0;32mdef\u001b[0m \u001b[0mpredict\u001b[0m\u001b[0;34m(\u001b[0m\u001b[0mself\u001b[0m\u001b[0;34m,\u001b[0m \u001b[0mentry\u001b[0m\u001b[0;34m)\u001b[0m\u001b[0;34m:\u001b[0m\u001b[0;34m\u001b[0m\u001b[0;34m\u001b[0m\u001b[0m\n\u001b[0;32m---> 13\u001b[0;31m         \u001b[0mkth_neighbor\u001b[0m\u001b[0;34m,\u001b[0m \u001b[0mkth_distance\u001b[0m \u001b[0;34m=\u001b[0m \u001b[0mself\u001b[0m\u001b[0;34m.\u001b[0m\u001b[0mget_kth_neighbor\u001b[0m\u001b[0;34m(\u001b[0m\u001b[0mentry\u001b[0m\u001b[0;34m,\u001b[0m \u001b[0mself\u001b[0m\u001b[0;34m.\u001b[0m\u001b[0mk\u001b[0m\u001b[0;34m)\u001b[0m\u001b[0;34m\u001b[0m\u001b[0;34m\u001b[0m\u001b[0m\n\u001b[0m\u001b[1;32m     14\u001b[0m         \u001b[0mkth_kth_neighbor\u001b[0m\u001b[0;34m,\u001b[0m \u001b[0mkth_kth_distance\u001b[0m \u001b[0;34m=\u001b[0m \u001b[0mself\u001b[0m\u001b[0;34m.\u001b[0m\u001b[0mget_kth_neighbor\u001b[0m\u001b[0;34m(\u001b[0m\u001b[0mkth_neighbor\u001b[0m\u001b[0;34m[\u001b[0m\u001b[0;36m0\u001b[0m\u001b[0;34m]\u001b[0m\u001b[0;34m,\u001b[0m \u001b[0mself\u001b[0m\u001b[0;34m.\u001b[0m\u001b[0mk\u001b[0m \u001b[0;34m+\u001b[0m \u001b[0;36m1\u001b[0m\u001b[0;34m)\u001b[0m\u001b[0;34m\u001b[0m\u001b[0;34m\u001b[0m\u001b[0m\n\u001b[1;32m     15\u001b[0m         \u001b[0moutlier_score\u001b[0m \u001b[0;34m=\u001b[0m \u001b[0mkth_distance\u001b[0m \u001b[0;34m/\u001b[0m \u001b[0mkth_kth_distance\u001b[0m\u001b[0;34m\u001b[0m\u001b[0;34m\u001b[0m\u001b[0m\n",
      "\u001b[0;32m<ipython-input-16-4c834bd6abb7>\u001b[0m in \u001b[0;36mget_kth_neighbor\u001b[0;34m(self, entry, k)\u001b[0m\n\u001b[1;32m     36\u001b[0m \u001b[0;34m\u001b[0m\u001b[0m\n\u001b[1;32m     37\u001b[0m     \u001b[0;32mdef\u001b[0m \u001b[0mget_kth_neighbor\u001b[0m\u001b[0;34m(\u001b[0m\u001b[0mself\u001b[0m\u001b[0;34m,\u001b[0m \u001b[0mentry\u001b[0m\u001b[0;34m,\u001b[0m \u001b[0mk\u001b[0m\u001b[0;34m)\u001b[0m\u001b[0;34m:\u001b[0m\u001b[0;34m\u001b[0m\u001b[0;34m\u001b[0m\u001b[0m\n\u001b[0;32m---> 38\u001b[0;31m         \u001b[0mneighbors\u001b[0m \u001b[0;34m=\u001b[0m \u001b[0mself\u001b[0m\u001b[0;34m.\u001b[0m\u001b[0mget_neighbors\u001b[0m\u001b[0;34m(\u001b[0m\u001b[0mentry\u001b[0m\u001b[0;34m,\u001b[0m \u001b[0mself\u001b[0m\u001b[0;34m.\u001b[0m\u001b[0mk\u001b[0m\u001b[0;34m)\u001b[0m\u001b[0;34m\u001b[0m\u001b[0;34m\u001b[0m\u001b[0m\n\u001b[0m\u001b[1;32m     39\u001b[0m         \u001b[0;32mreturn\u001b[0m \u001b[0mneighbors\u001b[0m\u001b[0;34m[\u001b[0m\u001b[0;34m-\u001b[0m\u001b[0;36m1\u001b[0m\u001b[0;34m]\u001b[0m\u001b[0;34m\u001b[0m\u001b[0;34m\u001b[0m\u001b[0m\n",
      "\u001b[0;32m<ipython-input-16-4c834bd6abb7>\u001b[0m in \u001b[0;36mget_neighbors\u001b[0;34m(self, entry, k)\u001b[0m\n\u001b[1;32m     32\u001b[0m         ]\n\u001b[1;32m     33\u001b[0m         \u001b[0msorted_by_distance\u001b[0m \u001b[0;34m=\u001b[0m \u001b[0msorted\u001b[0m\u001b[0;34m(\u001b[0m\u001b[0mdistance_to_data_points\u001b[0m\u001b[0;34m,\u001b[0m \u001b[0mkey\u001b[0m\u001b[0;34m=\u001b[0m\u001b[0;32mlambda\u001b[0m \u001b[0mtup\u001b[0m\u001b[0;34m:\u001b[0m \u001b[0mtup\u001b[0m\u001b[0;34m[\u001b[0m\u001b[0;36m1\u001b[0m\u001b[0;34m]\u001b[0m\u001b[0;34m)\u001b[0m\u001b[0;34m\u001b[0m\u001b[0;34m\u001b[0m\u001b[0m\n\u001b[0;32m---> 34\u001b[0;31m         \u001b[0mneighbors\u001b[0m \u001b[0;34m=\u001b[0m \u001b[0mdistances\u001b[0m\u001b[0;34m[\u001b[0m\u001b[0;34m:\u001b[0m\u001b[0mk\u001b[0m\u001b[0;34m]\u001b[0m\u001b[0;34m\u001b[0m\u001b[0;34m\u001b[0m\u001b[0m\n\u001b[0m\u001b[1;32m     35\u001b[0m         \u001b[0;32mreturn\u001b[0m \u001b[0mneighbors\u001b[0m\u001b[0;34m\u001b[0m\u001b[0;34m\u001b[0m\u001b[0m\n\u001b[1;32m     36\u001b[0m \u001b[0;34m\u001b[0m\u001b[0m\n",
      "\u001b[0;31mNameError\u001b[0m: name 'distances' is not defined"
     ]
    }
   ],
   "source": [
    "predictions = model.predict(X_test)"
   ]
  },
  {
   "cell_type": "markdown",
   "id": "aa1c9881",
   "metadata": {
    "papermill": {
     "duration": null,
     "end_time": null,
     "exception": null,
     "start_time": null,
     "status": "pending"
    },
    "tags": []
   },
   "source": [
    "# Evaluate"
   ]
  },
  {
   "cell_type": "code",
   "execution_count": null,
   "id": "894f0f04",
   "metadata": {
    "papermill": {
     "duration": null,
     "end_time": null,
     "exception": null,
     "start_time": null,
     "status": "pending"
    },
    "tags": []
   },
   "outputs": [],
   "source": [
    "from sklearn.metrics import f1_score"
   ]
  },
  {
   "cell_type": "code",
   "execution_count": null,
   "id": "211744d3",
   "metadata": {
    "papermill": {
     "duration": null,
     "end_time": null,
     "exception": null,
     "start_time": null,
     "status": "pending"
    },
    "tags": []
   },
   "outputs": [],
   "source": [
    "y_test = y_test.replace([0, 1], [1, -1])"
   ]
  },
  {
   "cell_type": "code",
   "execution_count": null,
   "id": "d68a9204",
   "metadata": {
    "papermill": {
     "duration": null,
     "end_time": null,
     "exception": null,
     "start_time": null,
     "status": "pending"
    },
    "tags": []
   },
   "outputs": [],
   "source": [
    "score = f1_score(y_test, predictions, pos_label=-1)\n",
    "print('F1 Score: %.3f' % score)"
   ]
  }
 ],
 "metadata": {
  "celltoolbar": "Tags",
  "kernelspec": {
   "display_name": "Python 3",
   "language": "python",
   "name": "python3"
  },
  "language_info": {
   "codemirror_mode": {
    "name": "ipython",
    "version": 3
   },
   "file_extension": ".py",
   "mimetype": "text/x-python",
   "name": "python",
   "nbconvert_exporter": "python",
   "pygments_lexer": "ipython3",
   "version": "3.9.1"
  },
  "papermill": {
   "default_parameters": {},
   "duration": 5.259254,
   "end_time": "2021-04-04T05:33:11.332831",
   "environment_variables": {},
   "exception": true,
   "input_path": "main.ipynb",
   "output_path": "runs/test.ipynb",
   "parameters": {
    "DATASET_CONFIG_PATH": "config/dataset/kc1_001.json",
    "MODEL_CONFIG_PATH": "config/model/knndd_001.json",
    "PROFILE_REPORTING": false
   },
   "start_time": "2021-04-04T05:33:06.073577",
   "version": "2.3.3"
  }
 },
 "nbformat": 4,
 "nbformat_minor": 5
}