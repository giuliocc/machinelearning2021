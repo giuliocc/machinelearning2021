{
 "cells": [
  {
   "cell_type": "markdown",
   "id": "51c71c25",
   "metadata": {
    "papermill": {
     "duration": 0.026229,
     "end_time": "2021-04-04T23:09:54.255830",
     "exception": false,
     "start_time": "2021-04-04T23:09:54.229601",
     "status": "completed"
    },
    "tags": []
   },
   "source": [
    "# Parametrizing"
   ]
  },
  {
   "cell_type": "code",
   "execution_count": 1,
   "id": "3b136394",
   "metadata": {
    "execution": {
     "iopub.execute_input": "2021-04-04T23:09:54.309430Z",
     "iopub.status.busy": "2021-04-04T23:09:54.308518Z",
     "iopub.status.idle": "2021-04-04T23:09:54.311638Z",
     "shell.execute_reply": "2021-04-04T23:09:54.312617Z"
    },
    "papermill": {
     "duration": 0.037269,
     "end_time": "2021-04-04T23:09:54.313000",
     "exception": false,
     "start_time": "2021-04-04T23:09:54.275731",
     "status": "completed"
    },
    "tags": [
     "parameters"
    ]
   },
   "outputs": [],
   "source": [
    "DATASET_CONFIG_PATH = 'config/dataset/kc1_001.json'\n",
    "MODEL_CONFIG_PATH = 'config/model/knndd_001.json'\n",
    "PROFILE_REPORTING = False"
   ]
  },
  {
   "cell_type": "code",
   "execution_count": 2,
   "id": "d3439b3d",
   "metadata": {
    "execution": {
     "iopub.execute_input": "2021-04-04T23:09:54.363495Z",
     "iopub.status.busy": "2021-04-04T23:09:54.362626Z",
     "iopub.status.idle": "2021-04-04T23:09:54.365632Z",
     "shell.execute_reply": "2021-04-04T23:09:54.365048Z"
    },
    "papermill": {
     "duration": 0.030815,
     "end_time": "2021-04-04T23:09:54.365750",
     "exception": false,
     "start_time": "2021-04-04T23:09:54.334935",
     "status": "completed"
    },
    "tags": [
     "injected-parameters"
    ]
   },
   "outputs": [],
   "source": [
    "# Parameters\n",
    "DATASET_CONFIG_PATH = \"config/dataset/000092.json\"\n",
    "MODEL_CONFIG_PATH = \"config/model/000004.json\"\n",
    "PROFILE_REPORTING = False\n"
   ]
  },
  {
   "cell_type": "code",
   "execution_count": 3,
   "id": "b80f2a10",
   "metadata": {
    "execution": {
     "iopub.execute_input": "2021-04-04T23:09:54.416934Z",
     "iopub.status.busy": "2021-04-04T23:09:54.415913Z",
     "iopub.status.idle": "2021-04-04T23:09:54.418792Z",
     "shell.execute_reply": "2021-04-04T23:09:54.419753Z"
    },
    "papermill": {
     "duration": 0.031263,
     "end_time": "2021-04-04T23:09:54.419983",
     "exception": false,
     "start_time": "2021-04-04T23:09:54.388720",
     "status": "completed"
    },
    "tags": []
   },
   "outputs": [],
   "source": [
    "import json\n",
    "\n",
    "\n",
    "with open(DATASET_CONFIG_PATH) as f:\n",
    "    dataset_config = json.load(f)\n",
    "\n",
    "with open(MODEL_CONFIG_PATH) as f:\n",
    "    model_config = json.load(f)"
   ]
  },
  {
   "cell_type": "markdown",
   "id": "9a4b0e2d",
   "metadata": {
    "papermill": {
     "duration": 0.019375,
     "end_time": "2021-04-04T23:09:54.466711",
     "exception": false,
     "start_time": "2021-04-04T23:09:54.447336",
     "status": "completed"
    },
    "tags": []
   },
   "source": [
    "# Profiling"
   ]
  },
  {
   "cell_type": "code",
   "execution_count": 4,
   "id": "a3e0289b",
   "metadata": {
    "execution": {
     "iopub.execute_input": "2021-04-04T23:09:54.511479Z",
     "iopub.status.busy": "2021-04-04T23:09:54.510558Z",
     "iopub.status.idle": "2021-04-04T23:09:55.777618Z",
     "shell.execute_reply": "2021-04-04T23:09:55.777097Z"
    },
    "papermill": {
     "duration": 1.290926,
     "end_time": "2021-04-04T23:09:55.777737",
     "exception": false,
     "start_time": "2021-04-04T23:09:54.486811",
     "status": "completed"
    },
    "tags": []
   },
   "outputs": [],
   "source": [
    "import pandas as pd\n",
    "from pandas_profiling import ProfileReport"
   ]
  },
  {
   "cell_type": "code",
   "execution_count": 5,
   "id": "ee6c0666",
   "metadata": {
    "execution": {
     "iopub.execute_input": "2021-04-04T23:09:55.825323Z",
     "iopub.status.busy": "2021-04-04T23:09:55.823453Z",
     "iopub.status.idle": "2021-04-04T23:09:55.833050Z",
     "shell.execute_reply": "2021-04-04T23:09:55.832482Z"
    },
    "papermill": {
     "duration": 0.034913,
     "end_time": "2021-04-04T23:09:55.833180",
     "exception": false,
     "start_time": "2021-04-04T23:09:55.798267",
     "status": "completed"
    },
    "tags": []
   },
   "outputs": [],
   "source": [
    "df = pd.read_csv(dataset_config['dataset_path'])"
   ]
  },
  {
   "cell_type": "code",
   "execution_count": 6,
   "id": "7eca6c4a",
   "metadata": {
    "execution": {
     "iopub.execute_input": "2021-04-04T23:09:55.888063Z",
     "iopub.status.busy": "2021-04-04T23:09:55.887385Z",
     "iopub.status.idle": "2021-04-04T23:09:55.890198Z",
     "shell.execute_reply": "2021-04-04T23:09:55.890708Z"
    },
    "papermill": {
     "duration": 0.037144,
     "end_time": "2021-04-04T23:09:55.890860",
     "exception": false,
     "start_time": "2021-04-04T23:09:55.853716",
     "status": "completed"
    },
    "tags": []
   },
   "outputs": [
    {
     "name": "stdout",
     "output_type": "stream",
     "text": [
      "<class 'pandas.core.frame.DataFrame'>\n",
      "RangeIndex: 498 entries, 0 to 497\n",
      "Data columns (total 23 columns):\n",
      " #   Column             Non-Null Count  Dtype  \n",
      "---  ------             --------------  -----  \n",
      " 0   id                 498 non-null    int64  \n",
      " 1   loc                498 non-null    float64\n",
      " 2   v(g)               498 non-null    float64\n",
      " 3   ev(g)              498 non-null    float64\n",
      " 4   iv(g)              498 non-null    float64\n",
      " 5   n                  498 non-null    float64\n",
      " 6   v                  498 non-null    float64\n",
      " 7   l                  498 non-null    float64\n",
      " 8   d                  498 non-null    float64\n",
      " 9   i                  498 non-null    float64\n",
      " 10  e                  498 non-null    float64\n",
      " 11  b                  498 non-null    float64\n",
      " 12  t                  498 non-null    float64\n",
      " 13  lOCode             498 non-null    int64  \n",
      " 14  lOComment          498 non-null    int64  \n",
      " 15  lOBlank            498 non-null    int64  \n",
      " 16  locCodeAndComment  498 non-null    int64  \n",
      " 17  uniq_Op            498 non-null    float64\n",
      " 18  uniq_Opnd          498 non-null    float64\n",
      " 19  total_Op           498 non-null    float64\n",
      " 20  total_Opnd         498 non-null    float64\n",
      " 21  branchCount        498 non-null    float64\n",
      " 22  defects            498 non-null    bool   \n",
      "dtypes: bool(1), float64(17), int64(5)\n",
      "memory usage: 86.2 KB\n"
     ]
    }
   ],
   "source": [
    "df.info()"
   ]
  },
  {
   "cell_type": "code",
   "execution_count": 7,
   "id": "3638e5e8",
   "metadata": {
    "execution": {
     "iopub.execute_input": "2021-04-04T23:09:55.942200Z",
     "iopub.status.busy": "2021-04-04T23:09:55.941085Z",
     "iopub.status.idle": "2021-04-04T23:09:55.967022Z",
     "shell.execute_reply": "2021-04-04T23:09:55.966324Z"
    },
    "papermill": {
     "duration": 0.053778,
     "end_time": "2021-04-04T23:09:55.967154",
     "exception": false,
     "start_time": "2021-04-04T23:09:55.913376",
     "status": "completed"
    },
    "tags": []
   },
   "outputs": [
    {
     "data": {
      "text/html": [
       "<div>\n",
       "<style scoped>\n",
       "    .dataframe tbody tr th:only-of-type {\n",
       "        vertical-align: middle;\n",
       "    }\n",
       "\n",
       "    .dataframe tbody tr th {\n",
       "        vertical-align: top;\n",
       "    }\n",
       "\n",
       "    .dataframe thead th {\n",
       "        text-align: right;\n",
       "    }\n",
       "</style>\n",
       "<table border=\"1\" class=\"dataframe\">\n",
       "  <thead>\n",
       "    <tr style=\"text-align: right;\">\n",
       "      <th></th>\n",
       "      <th>id</th>\n",
       "      <th>loc</th>\n",
       "      <th>v(g)</th>\n",
       "      <th>ev(g)</th>\n",
       "      <th>iv(g)</th>\n",
       "      <th>n</th>\n",
       "      <th>v</th>\n",
       "      <th>l</th>\n",
       "      <th>d</th>\n",
       "      <th>i</th>\n",
       "      <th>...</th>\n",
       "      <th>lOCode</th>\n",
       "      <th>lOComment</th>\n",
       "      <th>lOBlank</th>\n",
       "      <th>locCodeAndComment</th>\n",
       "      <th>uniq_Op</th>\n",
       "      <th>uniq_Opnd</th>\n",
       "      <th>total_Op</th>\n",
       "      <th>total_Opnd</th>\n",
       "      <th>branchCount</th>\n",
       "      <th>defects</th>\n",
       "    </tr>\n",
       "  </thead>\n",
       "  <tbody>\n",
       "    <tr>\n",
       "      <th>0</th>\n",
       "      <td>1</td>\n",
       "      <td>1.1</td>\n",
       "      <td>1.4</td>\n",
       "      <td>1.4</td>\n",
       "      <td>1.4</td>\n",
       "      <td>1.3</td>\n",
       "      <td>1.30</td>\n",
       "      <td>1.30</td>\n",
       "      <td>1.30</td>\n",
       "      <td>1.30</td>\n",
       "      <td>...</td>\n",
       "      <td>2</td>\n",
       "      <td>2</td>\n",
       "      <td>2</td>\n",
       "      <td>2</td>\n",
       "      <td>1.2</td>\n",
       "      <td>1.2</td>\n",
       "      <td>1.2</td>\n",
       "      <td>1.2</td>\n",
       "      <td>1.4</td>\n",
       "      <td>False</td>\n",
       "    </tr>\n",
       "    <tr>\n",
       "      <th>1</th>\n",
       "      <td>2</td>\n",
       "      <td>1.0</td>\n",
       "      <td>1.0</td>\n",
       "      <td>1.0</td>\n",
       "      <td>1.0</td>\n",
       "      <td>1.0</td>\n",
       "      <td>1.00</td>\n",
       "      <td>1.00</td>\n",
       "      <td>1.00</td>\n",
       "      <td>1.00</td>\n",
       "      <td>...</td>\n",
       "      <td>1</td>\n",
       "      <td>1</td>\n",
       "      <td>1</td>\n",
       "      <td>1</td>\n",
       "      <td>1.0</td>\n",
       "      <td>1.0</td>\n",
       "      <td>1.0</td>\n",
       "      <td>1.0</td>\n",
       "      <td>1.0</td>\n",
       "      <td>True</td>\n",
       "    </tr>\n",
       "    <tr>\n",
       "      <th>2</th>\n",
       "      <td>3</td>\n",
       "      <td>24.0</td>\n",
       "      <td>5.0</td>\n",
       "      <td>1.0</td>\n",
       "      <td>3.0</td>\n",
       "      <td>63.0</td>\n",
       "      <td>309.13</td>\n",
       "      <td>0.11</td>\n",
       "      <td>9.50</td>\n",
       "      <td>32.54</td>\n",
       "      <td>...</td>\n",
       "      <td>1</td>\n",
       "      <td>0</td>\n",
       "      <td>6</td>\n",
       "      <td>0</td>\n",
       "      <td>15.0</td>\n",
       "      <td>15.0</td>\n",
       "      <td>44.0</td>\n",
       "      <td>19.0</td>\n",
       "      <td>9.0</td>\n",
       "      <td>False</td>\n",
       "    </tr>\n",
       "    <tr>\n",
       "      <th>3</th>\n",
       "      <td>4</td>\n",
       "      <td>20.0</td>\n",
       "      <td>4.0</td>\n",
       "      <td>4.0</td>\n",
       "      <td>2.0</td>\n",
       "      <td>47.0</td>\n",
       "      <td>215.49</td>\n",
       "      <td>0.06</td>\n",
       "      <td>16.00</td>\n",
       "      <td>13.47</td>\n",
       "      <td>...</td>\n",
       "      <td>0</td>\n",
       "      <td>0</td>\n",
       "      <td>3</td>\n",
       "      <td>0</td>\n",
       "      <td>16.0</td>\n",
       "      <td>8.0</td>\n",
       "      <td>31.0</td>\n",
       "      <td>16.0</td>\n",
       "      <td>7.0</td>\n",
       "      <td>False</td>\n",
       "    </tr>\n",
       "    <tr>\n",
       "      <th>4</th>\n",
       "      <td>5</td>\n",
       "      <td>24.0</td>\n",
       "      <td>6.0</td>\n",
       "      <td>6.0</td>\n",
       "      <td>2.0</td>\n",
       "      <td>72.0</td>\n",
       "      <td>346.13</td>\n",
       "      <td>0.06</td>\n",
       "      <td>17.33</td>\n",
       "      <td>19.97</td>\n",
       "      <td>...</td>\n",
       "      <td>0</td>\n",
       "      <td>0</td>\n",
       "      <td>3</td>\n",
       "      <td>0</td>\n",
       "      <td>16.0</td>\n",
       "      <td>12.0</td>\n",
       "      <td>46.0</td>\n",
       "      <td>26.0</td>\n",
       "      <td>11.0</td>\n",
       "      <td>False</td>\n",
       "    </tr>\n",
       "  </tbody>\n",
       "</table>\n",
       "<p>5 rows × 23 columns</p>\n",
       "</div>"
      ],
      "text/plain": [
       "   id   loc  v(g)  ev(g)  iv(g)     n       v     l      d      i  ...  \\\n",
       "0   1   1.1   1.4    1.4    1.4   1.3    1.30  1.30   1.30   1.30  ...   \n",
       "1   2   1.0   1.0    1.0    1.0   1.0    1.00  1.00   1.00   1.00  ...   \n",
       "2   3  24.0   5.0    1.0    3.0  63.0  309.13  0.11   9.50  32.54  ...   \n",
       "3   4  20.0   4.0    4.0    2.0  47.0  215.49  0.06  16.00  13.47  ...   \n",
       "4   5  24.0   6.0    6.0    2.0  72.0  346.13  0.06  17.33  19.97  ...   \n",
       "\n",
       "   lOCode  lOComment  lOBlank  locCodeAndComment  uniq_Op  uniq_Opnd  \\\n",
       "0       2          2        2                  2      1.2        1.2   \n",
       "1       1          1        1                  1      1.0        1.0   \n",
       "2       1          0        6                  0     15.0       15.0   \n",
       "3       0          0        3                  0     16.0        8.0   \n",
       "4       0          0        3                  0     16.0       12.0   \n",
       "\n",
       "   total_Op  total_Opnd  branchCount  defects  \n",
       "0       1.2         1.2          1.4    False  \n",
       "1       1.0         1.0          1.0     True  \n",
       "2      44.0        19.0          9.0    False  \n",
       "3      31.0        16.0          7.0    False  \n",
       "4      46.0        26.0         11.0    False  \n",
       "\n",
       "[5 rows x 23 columns]"
      ]
     },
     "execution_count": 7,
     "metadata": {},
     "output_type": "execute_result"
    }
   ],
   "source": [
    "df.head()"
   ]
  },
  {
   "cell_type": "code",
   "execution_count": 8,
   "id": "733e95eb",
   "metadata": {
    "execution": {
     "iopub.execute_input": "2021-04-04T23:09:56.017114Z",
     "iopub.status.busy": "2021-04-04T23:09:56.016387Z",
     "iopub.status.idle": "2021-04-04T23:09:56.018722Z",
     "shell.execute_reply": "2021-04-04T23:09:56.019285Z"
    },
    "papermill": {
     "duration": 0.028738,
     "end_time": "2021-04-04T23:09:56.019452",
     "exception": false,
     "start_time": "2021-04-04T23:09:55.990714",
     "status": "completed"
    },
    "tags": []
   },
   "outputs": [],
   "source": [
    "del df['id']"
   ]
  },
  {
   "cell_type": "code",
   "execution_count": 9,
   "id": "6ff6f5b0",
   "metadata": {
    "execution": {
     "iopub.execute_input": "2021-04-04T23:09:56.070732Z",
     "iopub.status.busy": "2021-04-04T23:09:56.069995Z",
     "iopub.status.idle": "2021-04-04T23:09:56.072138Z",
     "shell.execute_reply": "2021-04-04T23:09:56.072599Z"
    },
    "papermill": {
     "duration": 0.027776,
     "end_time": "2021-04-04T23:09:56.072737",
     "exception": false,
     "start_time": "2021-04-04T23:09:56.044961",
     "status": "completed"
    },
    "tags": []
   },
   "outputs": [],
   "source": [
    "if PROFILE_REPORTING:\n",
    "    ProfileReport(df).to_widgets()"
   ]
  },
  {
   "cell_type": "markdown",
   "id": "1deaf3f0",
   "metadata": {
    "papermill": {
     "duration": 0.020948,
     "end_time": "2021-04-04T23:09:56.116845",
     "exception": false,
     "start_time": "2021-04-04T23:09:56.095897",
     "status": "completed"
    },
    "tags": []
   },
   "source": [
    "# Preprocess"
   ]
  },
  {
   "cell_type": "code",
   "execution_count": 10,
   "id": "1513e563",
   "metadata": {
    "execution": {
     "iopub.execute_input": "2021-04-04T23:09:56.164697Z",
     "iopub.status.busy": "2021-04-04T23:09:56.163835Z",
     "iopub.status.idle": "2021-04-04T23:09:56.166601Z",
     "shell.execute_reply": "2021-04-04T23:09:56.167375Z"
    },
    "papermill": {
     "duration": 0.029806,
     "end_time": "2021-04-04T23:09:56.167590",
     "exception": false,
     "start_time": "2021-04-04T23:09:56.137784",
     "status": "completed"
    },
    "tags": []
   },
   "outputs": [],
   "source": [
    "working_df = df.copy()"
   ]
  },
  {
   "cell_type": "code",
   "execution_count": 11,
   "id": "3b26d675",
   "metadata": {
    "execution": {
     "iopub.execute_input": "2021-04-04T23:09:56.222318Z",
     "iopub.status.busy": "2021-04-04T23:09:56.221309Z",
     "iopub.status.idle": "2021-04-04T23:09:56.224616Z",
     "shell.execute_reply": "2021-04-04T23:09:56.223667Z"
    },
    "papermill": {
     "duration": 0.03218,
     "end_time": "2021-04-04T23:09:56.224840",
     "exception": false,
     "start_time": "2021-04-04T23:09:56.192660",
     "status": "completed"
    },
    "tags": []
   },
   "outputs": [],
   "source": [
    "working_df['defects'] = working_df['defects'].replace([False, True], [0, 1])"
   ]
  },
  {
   "cell_type": "code",
   "execution_count": 12,
   "id": "eb48604f",
   "metadata": {
    "execution": {
     "iopub.execute_input": "2021-04-04T23:09:56.278672Z",
     "iopub.status.busy": "2021-04-04T23:09:56.277974Z",
     "iopub.status.idle": "2021-04-04T23:09:56.280669Z",
     "shell.execute_reply": "2021-04-04T23:09:56.281440Z"
    },
    "papermill": {
     "duration": 0.029877,
     "end_time": "2021-04-04T23:09:56.281659",
     "exception": false,
     "start_time": "2021-04-04T23:09:56.251782",
     "status": "completed"
    },
    "tags": []
   },
   "outputs": [],
   "source": [
    "for col in dataset_config['delete_columns']:\n",
    "    del working_df[col]"
   ]
  },
  {
   "cell_type": "code",
   "execution_count": 13,
   "id": "9a17bc29",
   "metadata": {
    "execution": {
     "iopub.execute_input": "2021-04-04T23:09:56.333480Z",
     "iopub.status.busy": "2021-04-04T23:09:56.332396Z",
     "iopub.status.idle": "2021-04-04T23:09:56.343733Z",
     "shell.execute_reply": "2021-04-04T23:09:56.342862Z"
    },
    "papermill": {
     "duration": 0.038263,
     "end_time": "2021-04-04T23:09:56.343983",
     "exception": false,
     "start_time": "2021-04-04T23:09:56.305720",
     "status": "completed"
    },
    "tags": []
   },
   "outputs": [],
   "source": [
    "working_df = working_df.drop_duplicates()"
   ]
  },
  {
   "cell_type": "markdown",
   "id": "a4d52ca6",
   "metadata": {
    "papermill": {
     "duration": 0.021841,
     "end_time": "2021-04-04T23:09:56.397181",
     "exception": false,
     "start_time": "2021-04-04T23:09:56.375340",
     "status": "completed"
    },
    "tags": []
   },
   "source": [
    "# Split"
   ]
  },
  {
   "cell_type": "code",
   "execution_count": 14,
   "id": "3e9ee4b5",
   "metadata": {
    "execution": {
     "iopub.execute_input": "2021-04-04T23:09:56.448533Z",
     "iopub.status.busy": "2021-04-04T23:09:56.447866Z",
     "iopub.status.idle": "2021-04-04T23:09:56.479022Z",
     "shell.execute_reply": "2021-04-04T23:09:56.478165Z"
    },
    "papermill": {
     "duration": 0.057601,
     "end_time": "2021-04-04T23:09:56.479187",
     "exception": false,
     "start_time": "2021-04-04T23:09:56.421586",
     "status": "completed"
    },
    "tags": []
   },
   "outputs": [],
   "source": [
    "from sklearn.model_selection import train_test_split"
   ]
  },
  {
   "cell_type": "code",
   "execution_count": 15,
   "id": "274004ce",
   "metadata": {
    "execution": {
     "iopub.execute_input": "2021-04-04T23:09:56.539819Z",
     "iopub.status.busy": "2021-04-04T23:09:56.539201Z",
     "iopub.status.idle": "2021-04-04T23:09:56.545096Z",
     "shell.execute_reply": "2021-04-04T23:09:56.544591Z"
    },
    "papermill": {
     "duration": 0.033361,
     "end_time": "2021-04-04T23:09:56.545214",
     "exception": false,
     "start_time": "2021-04-04T23:09:56.511853",
     "status": "completed"
    },
    "scrolled": true,
    "tags": []
   },
   "outputs": [],
   "source": [
    "inlier, outlier = working_df[working_df['defects'] == 0], working_df[working_df['defects'] == 1]"
   ]
  },
  {
   "cell_type": "code",
   "execution_count": 16,
   "id": "753c7b03",
   "metadata": {
    "execution": {
     "iopub.execute_input": "2021-04-04T23:09:56.602928Z",
     "iopub.status.busy": "2021-04-04T23:09:56.602335Z",
     "iopub.status.idle": "2021-04-04T23:09:56.605760Z",
     "shell.execute_reply": "2021-04-04T23:09:56.604813Z"
    },
    "papermill": {
     "duration": 0.033093,
     "end_time": "2021-04-04T23:09:56.605944",
     "exception": false,
     "start_time": "2021-04-04T23:09:56.572851",
     "status": "completed"
    },
    "tags": []
   },
   "outputs": [],
   "source": [
    "X_inlier = inlier.copy()\n",
    "y_inlier = X_inlier.pop('defects')\n",
    "X_outlier = outlier.copy()\n",
    "y_outlier = X_outlier.pop('defects')"
   ]
  },
  {
   "cell_type": "code",
   "execution_count": 17,
   "id": "2ba43193",
   "metadata": {
    "execution": {
     "iopub.execute_input": "2021-04-04T23:09:56.663360Z",
     "iopub.status.busy": "2021-04-04T23:09:56.662651Z",
     "iopub.status.idle": "2021-04-04T23:09:56.665148Z",
     "shell.execute_reply": "2021-04-04T23:09:56.665637Z"
    },
    "papermill": {
     "duration": 0.033538,
     "end_time": "2021-04-04T23:09:56.665786",
     "exception": false,
     "start_time": "2021-04-04T23:09:56.632248",
     "status": "completed"
    },
    "tags": []
   },
   "outputs": [],
   "source": [
    "test_size = dataset_config['test_size']\n",
    "random_state = dataset_config['random_state']\n",
    "\n",
    "X_inlier_train, X_inlier_test, y_inlier_train, y_inlier_test = train_test_split(\n",
    "    X_inlier,\n",
    "    y_inlier,\n",
    "    test_size=test_size,\n",
    "    random_state=random_state\n",
    ")"
   ]
  },
  {
   "cell_type": "code",
   "execution_count": 18,
   "id": "0b7582ca",
   "metadata": {
    "execution": {
     "iopub.execute_input": "2021-04-04T23:09:56.724375Z",
     "iopub.status.busy": "2021-04-04T23:09:56.723539Z",
     "iopub.status.idle": "2021-04-04T23:09:56.726106Z",
     "shell.execute_reply": "2021-04-04T23:09:56.726943Z"
    },
    "papermill": {
     "duration": 0.035716,
     "end_time": "2021-04-04T23:09:56.727169",
     "exception": false,
     "start_time": "2021-04-04T23:09:56.691453",
     "status": "completed"
    },
    "tags": []
   },
   "outputs": [],
   "source": [
    "test_outlier_size = dataset_config['test_outlier_size']\n",
    "if test_outlier_size > 0.0:\n",
    "    X_outlier_train, X_outlier_test, y_outlier_train, y_outlier_test = train_test_split(\n",
    "        X_outlier,\n",
    "        y_outlier,\n",
    "        test_size=test_outlier_size,\n",
    "        random_state=random_state\n",
    "    )\n",
    "else:\n",
    "    X_outlier_train, y_outlier_train = pd.DataFrame(columns=X_outlier.columns), pd.Series(dtype='int64')\n",
    "    X_outlier_test, y_outlier_test = X_outlier.copy(), y_outlier.copy()"
   ]
  },
  {
   "cell_type": "code",
   "execution_count": 19,
   "id": "c34363db",
   "metadata": {
    "execution": {
     "iopub.execute_input": "2021-04-04T23:09:56.793559Z",
     "iopub.status.busy": "2021-04-04T23:09:56.791686Z",
     "iopub.status.idle": "2021-04-04T23:09:56.799380Z",
     "shell.execute_reply": "2021-04-04T23:09:56.798554Z"
    },
    "papermill": {
     "duration": 0.03788,
     "end_time": "2021-04-04T23:09:56.799563",
     "exception": false,
     "start_time": "2021-04-04T23:09:56.761683",
     "status": "completed"
    },
    "tags": []
   },
   "outputs": [],
   "source": [
    "X_train, y_train = pd.concat([X_inlier_train, X_outlier_train], ignore_index=True), pd.concat([y_inlier_train, y_outlier_train], ignore_index=True)\n",
    "X_test, y_test = pd.concat([X_inlier_test, X_outlier_test], ignore_index=True), pd.concat([y_inlier_test, y_outlier_test], ignore_index=True)"
   ]
  },
  {
   "cell_type": "markdown",
   "id": "7cde7309",
   "metadata": {
    "papermill": {
     "duration": 0.022351,
     "end_time": "2021-04-04T23:09:56.849878",
     "exception": false,
     "start_time": "2021-04-04T23:09:56.827527",
     "status": "completed"
    },
    "tags": []
   },
   "source": [
    "# Model"
   ]
  },
  {
   "cell_type": "code",
   "execution_count": 20,
   "id": "2b12a415",
   "metadata": {
    "execution": {
     "iopub.execute_input": "2021-04-04T23:09:56.910637Z",
     "iopub.status.busy": "2021-04-04T23:09:56.909390Z",
     "iopub.status.idle": "2021-04-04T23:09:56.913138Z",
     "shell.execute_reply": "2021-04-04T23:09:56.912031Z"
    },
    "papermill": {
     "duration": 0.041334,
     "end_time": "2021-04-04T23:09:56.913358",
     "exception": false,
     "start_time": "2021-04-04T23:09:56.872024",
     "status": "completed"
    },
    "tags": []
   },
   "outputs": [],
   "source": [
    "from math import sqrt\n",
    "\n",
    "\n",
    "class KNNDataDescription:\n",
    "    def __init__(self, k=5, outlier_threshold=1.0):\n",
    "        self.k = k\n",
    "        self.outlier_threshold = outlier_threshold\n",
    "        self.X = []\n",
    "    \n",
    "    def fit(self, X):\n",
    "        self.X = [features.to_list() for index, features in X.iterrows()]\n",
    "\n",
    "    def predict(self, entries):\n",
    "        return [self.predict_entry(features.to_list()) for index, features in entries.iterrows()]\n",
    "    \n",
    "    def predict_entry(self, entry):\n",
    "        kth_neighbor, kth_distance = self.get_kth_neighbor(entry, self.k)\n",
    "        kth_kth_neighbor, kth_kth_distance = self.get_kth_neighbor(kth_neighbor, self.k + 1)\n",
    "\n",
    "        outlier_score = kth_distance / (kth_kth_distance + 0.000001)\n",
    "\n",
    "        return 1 if outlier_score < self.outlier_threshold else -1\n",
    "        \n",
    "    def euclidean_distance(self, features1, features2):\n",
    "        distance = 0.0\n",
    "        for feat1, feat2 in zip(features1, features2):\n",
    "            distance += (feat1 - feat2)**2\n",
    "                \n",
    "        return sqrt(distance)\n",
    "\n",
    "    def get_neighbors(self, entry, k):\n",
    "        distance_to_data_points = [\n",
    "            (data_point, self.euclidean_distance(entry, data_point))\n",
    "            for data_point in self.X\n",
    "        ]\n",
    "        sorted_by_distance = sorted(distance_to_data_points, key=lambda tup: tup[1])\n",
    "        neighbors = sorted_by_distance[:k]\n",
    "        return neighbors\n",
    "\n",
    "    def get_kth_neighbor(self, entry, k):\n",
    "        neighbors = self.get_neighbors(entry, k)\n",
    "        return neighbors[-1]\n"
   ]
  },
  {
   "cell_type": "code",
   "execution_count": 21,
   "id": "1fa9ec1c",
   "metadata": {
    "execution": {
     "iopub.execute_input": "2021-04-04T23:09:56.969222Z",
     "iopub.status.busy": "2021-04-04T23:09:56.968090Z",
     "iopub.status.idle": "2021-04-04T23:09:56.993800Z",
     "shell.execute_reply": "2021-04-04T23:09:56.992708Z"
    },
    "papermill": {
     "duration": 0.053037,
     "end_time": "2021-04-04T23:09:56.994002",
     "exception": false,
     "start_time": "2021-04-04T23:09:56.940965",
     "status": "completed"
    },
    "tags": []
   },
   "outputs": [],
   "source": [
    "from sklearn.svm import OneClassSVM\n",
    "\n",
    "\n",
    "models = {\n",
    "    'oneclasssvm': OneClassSVM,\n",
    "    'knndatadescription': KNNDataDescription,\n",
    "}"
   ]
  },
  {
   "cell_type": "code",
   "execution_count": 22,
   "id": "4d72a0b1",
   "metadata": {
    "execution": {
     "iopub.execute_input": "2021-04-04T23:09:57.051478Z",
     "iopub.status.busy": "2021-04-04T23:09:57.050691Z",
     "iopub.status.idle": "2021-04-04T23:09:57.053730Z",
     "shell.execute_reply": "2021-04-04T23:09:57.053152Z"
    },
    "papermill": {
     "duration": 0.02982,
     "end_time": "2021-04-04T23:09:57.053846",
     "exception": false,
     "start_time": "2021-04-04T23:09:57.024026",
     "status": "completed"
    },
    "scrolled": true,
    "tags": []
   },
   "outputs": [],
   "source": [
    "model_cls = models[model_config['model_type']]\n",
    "model = model_cls(**model_config['hyperparameters'])"
   ]
  },
  {
   "cell_type": "markdown",
   "id": "e00cff3b",
   "metadata": {
    "papermill": {
     "duration": 0.022281,
     "end_time": "2021-04-04T23:09:57.099977",
     "exception": false,
     "start_time": "2021-04-04T23:09:57.077696",
     "status": "completed"
    },
    "tags": []
   },
   "source": [
    "# Fit"
   ]
  },
  {
   "cell_type": "code",
   "execution_count": 23,
   "id": "8b2ded89",
   "metadata": {
    "execution": {
     "iopub.execute_input": "2021-04-04T23:09:57.154885Z",
     "iopub.status.busy": "2021-04-04T23:09:57.153959Z",
     "iopub.status.idle": "2021-04-04T23:09:57.164634Z",
     "shell.execute_reply": "2021-04-04T23:09:57.165582Z"
    },
    "papermill": {
     "duration": 0.042352,
     "end_time": "2021-04-04T23:09:57.165819",
     "exception": false,
     "start_time": "2021-04-04T23:09:57.123467",
     "status": "completed"
    },
    "tags": []
   },
   "outputs": [
    {
     "data": {
      "text/plain": [
       "OneClassSVM()"
      ]
     },
     "execution_count": 23,
     "metadata": {},
     "output_type": "execute_result"
    }
   ],
   "source": [
    "model.fit(X_train)"
   ]
  },
  {
   "cell_type": "markdown",
   "id": "f99999f7",
   "metadata": {
    "papermill": {
     "duration": 0.022805,
     "end_time": "2021-04-04T23:09:57.217879",
     "exception": false,
     "start_time": "2021-04-04T23:09:57.195074",
     "status": "completed"
    },
    "tags": []
   },
   "source": [
    "# Predict"
   ]
  },
  {
   "cell_type": "code",
   "execution_count": 24,
   "id": "6536fbf7",
   "metadata": {
    "execution": {
     "iopub.execute_input": "2021-04-04T23:09:57.272471Z",
     "iopub.status.busy": "2021-04-04T23:09:57.268875Z",
     "iopub.status.idle": "2021-04-04T23:09:57.280647Z",
     "shell.execute_reply": "2021-04-04T23:09:57.279596Z"
    },
    "papermill": {
     "duration": 0.039958,
     "end_time": "2021-04-04T23:09:57.280848",
     "exception": false,
     "start_time": "2021-04-04T23:09:57.240890",
     "status": "completed"
    },
    "tags": []
   },
   "outputs": [],
   "source": [
    "predictions = model.predict(X_test)"
   ]
  },
  {
   "cell_type": "markdown",
   "id": "aa1c9881",
   "metadata": {
    "papermill": {
     "duration": 0.02399,
     "end_time": "2021-04-04T23:09:57.334984",
     "exception": false,
     "start_time": "2021-04-04T23:09:57.310994",
     "status": "completed"
    },
    "tags": []
   },
   "source": [
    "# Evaluate"
   ]
  },
  {
   "cell_type": "code",
   "execution_count": 25,
   "id": "894f0f04",
   "metadata": {
    "execution": {
     "iopub.execute_input": "2021-04-04T23:09:57.391517Z",
     "iopub.status.busy": "2021-04-04T23:09:57.390679Z",
     "iopub.status.idle": "2021-04-04T23:09:57.394102Z",
     "shell.execute_reply": "2021-04-04T23:09:57.393280Z"
    },
    "papermill": {
     "duration": 0.032028,
     "end_time": "2021-04-04T23:09:57.394267",
     "exception": false,
     "start_time": "2021-04-04T23:09:57.362239",
     "status": "completed"
    },
    "tags": []
   },
   "outputs": [],
   "source": [
    "from sklearn.metrics import f1_score"
   ]
  },
  {
   "cell_type": "code",
   "execution_count": 26,
   "id": "211744d3",
   "metadata": {
    "execution": {
     "iopub.execute_input": "2021-04-04T23:09:57.461937Z",
     "iopub.status.busy": "2021-04-04T23:09:57.460690Z",
     "iopub.status.idle": "2021-04-04T23:09:57.463514Z",
     "shell.execute_reply": "2021-04-04T23:09:57.464370Z"
    },
    "papermill": {
     "duration": 0.034202,
     "end_time": "2021-04-04T23:09:57.464607",
     "exception": false,
     "start_time": "2021-04-04T23:09:57.430405",
     "status": "completed"
    },
    "tags": []
   },
   "outputs": [],
   "source": [
    "y_test = y_test.replace([0, 1], [1, -1])"
   ]
  },
  {
   "cell_type": "code",
   "execution_count": 27,
   "id": "d68a9204",
   "metadata": {
    "execution": {
     "iopub.execute_input": "2021-04-04T23:09:57.523651Z",
     "iopub.status.busy": "2021-04-04T23:09:57.522701Z",
     "iopub.status.idle": "2021-04-04T23:09:57.525202Z",
     "shell.execute_reply": "2021-04-04T23:09:57.525906Z"
    },
    "papermill": {
     "duration": 0.036916,
     "end_time": "2021-04-04T23:09:57.526110",
     "exception": false,
     "start_time": "2021-04-04T23:09:57.489194",
     "status": "completed"
    },
    "tags": []
   },
   "outputs": [],
   "source": [
    "def evaluate(truths, predictions, pos_label, neg_label):\n",
    "    TP = 0\n",
    "    FP = 0\n",
    "    TN = 0\n",
    "    FN = 0\n",
    "\n",
    "    for truth, pred in zip(truths, predictions): \n",
    "        if truth == pred == pos_label:\n",
    "           TP += 1\n",
    "        elif pred == pos_label and truth == neg_label:\n",
    "           FP += 1\n",
    "        elif truth == pred == neg_label:\n",
    "           TN += 1\n",
    "        elif pred == neg_label and truth == pos_label:\n",
    "           FN += 1\n",
    "\n",
    "    precision = TP / (TP + FP)\n",
    "    sensitivity = TP / (TP + FN)\n",
    "    \n",
    "    return {\n",
    "        'true_pos': TP,\n",
    "        'false_pos': FP,\n",
    "        'false_neg': FN,\n",
    "        'true_neg': TN,\n",
    "        'precision': precision,\n",
    "        'sensitivity': sensitivity,\n",
    "        'f1': (2 * (precision * sensitivity)) / (precision + sensitivity)\n",
    "    }\n",
    "\n",
    "score = evaluate(y_test, predictions, pos_label=-1, neg_label=1)"
   ]
  },
  {
   "cell_type": "markdown",
   "id": "93596516",
   "metadata": {
    "papermill": {
     "duration": 0.023152,
     "end_time": "2021-04-04T23:09:57.576856",
     "exception": false,
     "start_time": "2021-04-04T23:09:57.553704",
     "status": "completed"
    },
    "tags": []
   },
   "source": [
    "# Report"
   ]
  },
  {
   "cell_type": "code",
   "execution_count": 28,
   "id": "bea5fba1",
   "metadata": {
    "execution": {
     "iopub.execute_input": "2021-04-04T23:09:57.631239Z",
     "iopub.status.busy": "2021-04-04T23:09:57.630197Z",
     "iopub.status.idle": "2021-04-04T23:09:57.633694Z",
     "shell.execute_reply": "2021-04-04T23:09:57.634478Z"
    },
    "papermill": {
     "duration": 0.034573,
     "end_time": "2021-04-04T23:09:57.634700",
     "exception": false,
     "start_time": "2021-04-04T23:09:57.600127",
     "status": "completed"
    },
    "tags": []
   },
   "outputs": [],
   "source": [
    "import csv\n",
    "\n",
    "\n",
    "dataset_config_name = DATASET_CONFIG_PATH.split('/')[-1].split('.')[0]\n",
    "model_config_name = MODEL_CONFIG_PATH.split('/')[-1].split('.')[0]\n",
    "configuration = f\"dataset_{dataset_config_name}-model_{model_config_name}\"\n",
    "\n",
    "with open('results.csv', 'a') as f:\n",
    "    report = dict({'configuration': configuration}, **score)\n",
    "    writer = csv.DictWriter(f, report.keys())\n",
    "    writer.writerow(report)"
   ]
  }
 ],
 "metadata": {
  "celltoolbar": "Tags",
  "kernelspec": {
   "display_name": "Python 3",
   "language": "python",
   "name": "python3"
  },
  "language_info": {
   "codemirror_mode": {
    "name": "ipython",
    "version": 3
   },
   "file_extension": ".py",
   "mimetype": "text/x-python",
   "name": "python",
   "nbconvert_exporter": "python",
   "pygments_lexer": "ipython3",
   "version": "3.9.1"
  },
  "papermill": {
   "default_parameters": {},
   "duration": 4.920075,
   "end_time": "2021-04-04T23:09:58.274570",
   "environment_variables": {},
   "exception": null,
   "input_path": "main.ipynb",
   "output_path": "runs/dataset_000092-model_000004.ipynb",
   "parameters": {
    "DATASET_CONFIG_PATH": "config/dataset/000092.json",
    "MODEL_CONFIG_PATH": "config/model/000004.json",
    "PROFILE_REPORTING": false
   },
   "start_time": "2021-04-04T23:09:53.354495",
   "version": "2.3.3"
  }
 },
 "nbformat": 4,
 "nbformat_minor": 5
}