{
 "cells": [
  {
   "cell_type": "markdown",
   "id": "51c71c25",
   "metadata": {
    "papermill": {
     "duration": 0.030216,
     "end_time": "2021-04-04T23:08:55.061089",
     "exception": false,
     "start_time": "2021-04-04T23:08:55.030873",
     "status": "completed"
    },
    "tags": []
   },
   "source": [
    "# Parametrizing"
   ]
  },
  {
   "cell_type": "code",
   "execution_count": 1,
   "id": "3b136394",
   "metadata": {
    "execution": {
     "iopub.execute_input": "2021-04-04T23:08:55.113080Z",
     "iopub.status.busy": "2021-04-04T23:08:55.112193Z",
     "iopub.status.idle": "2021-04-04T23:08:55.115784Z",
     "shell.execute_reply": "2021-04-04T23:08:55.114981Z"
    },
    "papermill": {
     "duration": 0.035294,
     "end_time": "2021-04-04T23:08:55.115957",
     "exception": false,
     "start_time": "2021-04-04T23:08:55.080663",
     "status": "completed"
    },
    "tags": [
     "parameters"
    ]
   },
   "outputs": [],
   "source": [
    "DATASET_CONFIG_PATH = 'config/dataset/kc1_001.json'\n",
    "MODEL_CONFIG_PATH = 'config/model/knndd_001.json'\n",
    "PROFILE_REPORTING = False"
   ]
  },
  {
   "cell_type": "code",
   "execution_count": 2,
   "id": "fd65c0b7",
   "metadata": {
    "execution": {
     "iopub.execute_input": "2021-04-04T23:08:55.165355Z",
     "iopub.status.busy": "2021-04-04T23:08:55.164269Z",
     "iopub.status.idle": "2021-04-04T23:08:55.167372Z",
     "shell.execute_reply": "2021-04-04T23:08:55.166525Z"
    },
    "papermill": {
     "duration": 0.027007,
     "end_time": "2021-04-04T23:08:55.167534",
     "exception": false,
     "start_time": "2021-04-04T23:08:55.140527",
     "status": "completed"
    },
    "tags": [
     "injected-parameters"
    ]
   },
   "outputs": [],
   "source": [
    "# Parameters\n",
    "DATASET_CONFIG_PATH = \"config/dataset/000090.json\"\n",
    "MODEL_CONFIG_PATH = \"config/model/000002.json\"\n",
    "PROFILE_REPORTING = False\n"
   ]
  },
  {
   "cell_type": "code",
   "execution_count": 3,
   "id": "b80f2a10",
   "metadata": {
    "execution": {
     "iopub.execute_input": "2021-04-04T23:08:55.219342Z",
     "iopub.status.busy": "2021-04-04T23:08:55.218343Z",
     "iopub.status.idle": "2021-04-04T23:08:55.222141Z",
     "shell.execute_reply": "2021-04-04T23:08:55.221506Z"
    },
    "papermill": {
     "duration": 0.029584,
     "end_time": "2021-04-04T23:08:55.222261",
     "exception": false,
     "start_time": "2021-04-04T23:08:55.192677",
     "status": "completed"
    },
    "tags": []
   },
   "outputs": [],
   "source": [
    "import json\n",
    "\n",
    "\n",
    "with open(DATASET_CONFIG_PATH) as f:\n",
    "    dataset_config = json.load(f)\n",
    "\n",
    "with open(MODEL_CONFIG_PATH) as f:\n",
    "    model_config = json.load(f)"
   ]
  },
  {
   "cell_type": "markdown",
   "id": "9a4b0e2d",
   "metadata": {
    "papermill": {
     "duration": 0.020131,
     "end_time": "2021-04-04T23:08:55.267704",
     "exception": false,
     "start_time": "2021-04-04T23:08:55.247573",
     "status": "completed"
    },
    "tags": []
   },
   "source": [
    "# Profiling"
   ]
  },
  {
   "cell_type": "code",
   "execution_count": 4,
   "id": "a3e0289b",
   "metadata": {
    "execution": {
     "iopub.execute_input": "2021-04-04T23:08:55.312352Z",
     "iopub.status.busy": "2021-04-04T23:08:55.311522Z",
     "iopub.status.idle": "2021-04-04T23:08:56.581364Z",
     "shell.execute_reply": "2021-04-04T23:08:56.580178Z"
    },
    "papermill": {
     "duration": 1.294234,
     "end_time": "2021-04-04T23:08:56.581531",
     "exception": false,
     "start_time": "2021-04-04T23:08:55.287297",
     "status": "completed"
    },
    "tags": []
   },
   "outputs": [],
   "source": [
    "import pandas as pd\n",
    "from pandas_profiling import ProfileReport"
   ]
  },
  {
   "cell_type": "code",
   "execution_count": 5,
   "id": "ee6c0666",
   "metadata": {
    "execution": {
     "iopub.execute_input": "2021-04-04T23:08:56.631523Z",
     "iopub.status.busy": "2021-04-04T23:08:56.630930Z",
     "iopub.status.idle": "2021-04-04T23:08:56.642119Z",
     "shell.execute_reply": "2021-04-04T23:08:56.642976Z"
    },
    "papermill": {
     "duration": 0.037574,
     "end_time": "2021-04-04T23:08:56.643219",
     "exception": false,
     "start_time": "2021-04-04T23:08:56.605645",
     "status": "completed"
    },
    "tags": []
   },
   "outputs": [],
   "source": [
    "df = pd.read_csv(dataset_config['dataset_path'])"
   ]
  },
  {
   "cell_type": "code",
   "execution_count": 6,
   "id": "7eca6c4a",
   "metadata": {
    "execution": {
     "iopub.execute_input": "2021-04-04T23:08:56.710069Z",
     "iopub.status.busy": "2021-04-04T23:08:56.694978Z",
     "iopub.status.idle": "2021-04-04T23:08:56.713682Z",
     "shell.execute_reply": "2021-04-04T23:08:56.714649Z"
    },
    "papermill": {
     "duration": 0.045474,
     "end_time": "2021-04-04T23:08:56.714924",
     "exception": false,
     "start_time": "2021-04-04T23:08:56.669450",
     "status": "completed"
    },
    "tags": []
   },
   "outputs": [
    {
     "name": "stdout",
     "output_type": "stream",
     "text": [
      "<class 'pandas.core.frame.DataFrame'>\n",
      "RangeIndex: 498 entries, 0 to 497\n",
      "Data columns (total 23 columns):\n",
      " #   Column             Non-Null Count  Dtype  \n",
      "---  ------             --------------  -----  \n",
      " 0   id                 498 non-null    int64  \n",
      " 1   loc                498 non-null    float64\n",
      " 2   v(g)               498 non-null    float64\n",
      " 3   ev(g)              498 non-null    float64\n",
      " 4   iv(g)              498 non-null    float64\n",
      " 5   n                  498 non-null    float64\n",
      " 6   v                  498 non-null    float64\n",
      " 7   l                  498 non-null    float64\n",
      " 8   d                  498 non-null    float64\n",
      " 9   i                  498 non-null    float64\n",
      " 10  e                  498 non-null    float64\n",
      " 11  b                  498 non-null    float64\n",
      " 12  t                  498 non-null    float64\n",
      " 13  lOCode             498 non-null    int64  \n",
      " 14  lOComment          498 non-null    int64  \n",
      " 15  lOBlank            498 non-null    int64  \n",
      " 16  locCodeAndComment  498 non-null    int64  \n",
      " 17  uniq_Op            498 non-null    float64\n",
      " 18  uniq_Opnd          498 non-null    float64\n",
      " 19  total_Op           498 non-null    float64\n",
      " 20  total_Opnd         498 non-null    float64\n",
      " 21  branchCount        498 non-null    float64\n",
      " 22  defects            498 non-null    bool   \n",
      "dtypes: bool(1), float64(17), int64(5)\n",
      "memory usage: 86.2 KB\n"
     ]
    }
   ],
   "source": [
    "df.info()"
   ]
  },
  {
   "cell_type": "code",
   "execution_count": 7,
   "id": "3638e5e8",
   "metadata": {
    "execution": {
     "iopub.execute_input": "2021-04-04T23:08:56.778002Z",
     "iopub.status.busy": "2021-04-04T23:08:56.777389Z",
     "iopub.status.idle": "2021-04-04T23:08:56.801688Z",
     "shell.execute_reply": "2021-04-04T23:08:56.801160Z"
    },
    "papermill": {
     "duration": 0.056392,
     "end_time": "2021-04-04T23:08:56.801805",
     "exception": false,
     "start_time": "2021-04-04T23:08:56.745413",
     "status": "completed"
    },
    "tags": []
   },
   "outputs": [
    {
     "data": {
      "text/html": [
       "<div>\n",
       "<style scoped>\n",
       "    .dataframe tbody tr th:only-of-type {\n",
       "        vertical-align: middle;\n",
       "    }\n",
       "\n",
       "    .dataframe tbody tr th {\n",
       "        vertical-align: top;\n",
       "    }\n",
       "\n",
       "    .dataframe thead th {\n",
       "        text-align: right;\n",
       "    }\n",
       "</style>\n",
       "<table border=\"1\" class=\"dataframe\">\n",
       "  <thead>\n",
       "    <tr style=\"text-align: right;\">\n",
       "      <th></th>\n",
       "      <th>id</th>\n",
       "      <th>loc</th>\n",
       "      <th>v(g)</th>\n",
       "      <th>ev(g)</th>\n",
       "      <th>iv(g)</th>\n",
       "      <th>n</th>\n",
       "      <th>v</th>\n",
       "      <th>l</th>\n",
       "      <th>d</th>\n",
       "      <th>i</th>\n",
       "      <th>...</th>\n",
       "      <th>lOCode</th>\n",
       "      <th>lOComment</th>\n",
       "      <th>lOBlank</th>\n",
       "      <th>locCodeAndComment</th>\n",
       "      <th>uniq_Op</th>\n",
       "      <th>uniq_Opnd</th>\n",
       "      <th>total_Op</th>\n",
       "      <th>total_Opnd</th>\n",
       "      <th>branchCount</th>\n",
       "      <th>defects</th>\n",
       "    </tr>\n",
       "  </thead>\n",
       "  <tbody>\n",
       "    <tr>\n",
       "      <th>0</th>\n",
       "      <td>1</td>\n",
       "      <td>1.1</td>\n",
       "      <td>1.4</td>\n",
       "      <td>1.4</td>\n",
       "      <td>1.4</td>\n",
       "      <td>1.3</td>\n",
       "      <td>1.30</td>\n",
       "      <td>1.30</td>\n",
       "      <td>1.30</td>\n",
       "      <td>1.30</td>\n",
       "      <td>...</td>\n",
       "      <td>2</td>\n",
       "      <td>2</td>\n",
       "      <td>2</td>\n",
       "      <td>2</td>\n",
       "      <td>1.2</td>\n",
       "      <td>1.2</td>\n",
       "      <td>1.2</td>\n",
       "      <td>1.2</td>\n",
       "      <td>1.4</td>\n",
       "      <td>False</td>\n",
       "    </tr>\n",
       "    <tr>\n",
       "      <th>1</th>\n",
       "      <td>2</td>\n",
       "      <td>1.0</td>\n",
       "      <td>1.0</td>\n",
       "      <td>1.0</td>\n",
       "      <td>1.0</td>\n",
       "      <td>1.0</td>\n",
       "      <td>1.00</td>\n",
       "      <td>1.00</td>\n",
       "      <td>1.00</td>\n",
       "      <td>1.00</td>\n",
       "      <td>...</td>\n",
       "      <td>1</td>\n",
       "      <td>1</td>\n",
       "      <td>1</td>\n",
       "      <td>1</td>\n",
       "      <td>1.0</td>\n",
       "      <td>1.0</td>\n",
       "      <td>1.0</td>\n",
       "      <td>1.0</td>\n",
       "      <td>1.0</td>\n",
       "      <td>True</td>\n",
       "    </tr>\n",
       "    <tr>\n",
       "      <th>2</th>\n",
       "      <td>3</td>\n",
       "      <td>24.0</td>\n",
       "      <td>5.0</td>\n",
       "      <td>1.0</td>\n",
       "      <td>3.0</td>\n",
       "      <td>63.0</td>\n",
       "      <td>309.13</td>\n",
       "      <td>0.11</td>\n",
       "      <td>9.50</td>\n",
       "      <td>32.54</td>\n",
       "      <td>...</td>\n",
       "      <td>1</td>\n",
       "      <td>0</td>\n",
       "      <td>6</td>\n",
       "      <td>0</td>\n",
       "      <td>15.0</td>\n",
       "      <td>15.0</td>\n",
       "      <td>44.0</td>\n",
       "      <td>19.0</td>\n",
       "      <td>9.0</td>\n",
       "      <td>False</td>\n",
       "    </tr>\n",
       "    <tr>\n",
       "      <th>3</th>\n",
       "      <td>4</td>\n",
       "      <td>20.0</td>\n",
       "      <td>4.0</td>\n",
       "      <td>4.0</td>\n",
       "      <td>2.0</td>\n",
       "      <td>47.0</td>\n",
       "      <td>215.49</td>\n",
       "      <td>0.06</td>\n",
       "      <td>16.00</td>\n",
       "      <td>13.47</td>\n",
       "      <td>...</td>\n",
       "      <td>0</td>\n",
       "      <td>0</td>\n",
       "      <td>3</td>\n",
       "      <td>0</td>\n",
       "      <td>16.0</td>\n",
       "      <td>8.0</td>\n",
       "      <td>31.0</td>\n",
       "      <td>16.0</td>\n",
       "      <td>7.0</td>\n",
       "      <td>False</td>\n",
       "    </tr>\n",
       "    <tr>\n",
       "      <th>4</th>\n",
       "      <td>5</td>\n",
       "      <td>24.0</td>\n",
       "      <td>6.0</td>\n",
       "      <td>6.0</td>\n",
       "      <td>2.0</td>\n",
       "      <td>72.0</td>\n",
       "      <td>346.13</td>\n",
       "      <td>0.06</td>\n",
       "      <td>17.33</td>\n",
       "      <td>19.97</td>\n",
       "      <td>...</td>\n",
       "      <td>0</td>\n",
       "      <td>0</td>\n",
       "      <td>3</td>\n",
       "      <td>0</td>\n",
       "      <td>16.0</td>\n",
       "      <td>12.0</td>\n",
       "      <td>46.0</td>\n",
       "      <td>26.0</td>\n",
       "      <td>11.0</td>\n",
       "      <td>False</td>\n",
       "    </tr>\n",
       "  </tbody>\n",
       "</table>\n",
       "<p>5 rows × 23 columns</p>\n",
       "</div>"
      ],
      "text/plain": [
       "   id   loc  v(g)  ev(g)  iv(g)     n       v     l      d      i  ...  \\\n",
       "0   1   1.1   1.4    1.4    1.4   1.3    1.30  1.30   1.30   1.30  ...   \n",
       "1   2   1.0   1.0    1.0    1.0   1.0    1.00  1.00   1.00   1.00  ...   \n",
       "2   3  24.0   5.0    1.0    3.0  63.0  309.13  0.11   9.50  32.54  ...   \n",
       "3   4  20.0   4.0    4.0    2.0  47.0  215.49  0.06  16.00  13.47  ...   \n",
       "4   5  24.0   6.0    6.0    2.0  72.0  346.13  0.06  17.33  19.97  ...   \n",
       "\n",
       "   lOCode  lOComment  lOBlank  locCodeAndComment  uniq_Op  uniq_Opnd  \\\n",
       "0       2          2        2                  2      1.2        1.2   \n",
       "1       1          1        1                  1      1.0        1.0   \n",
       "2       1          0        6                  0     15.0       15.0   \n",
       "3       0          0        3                  0     16.0        8.0   \n",
       "4       0          0        3                  0     16.0       12.0   \n",
       "\n",
       "   total_Op  total_Opnd  branchCount  defects  \n",
       "0       1.2         1.2          1.4    False  \n",
       "1       1.0         1.0          1.0     True  \n",
       "2      44.0        19.0          9.0    False  \n",
       "3      31.0        16.0          7.0    False  \n",
       "4      46.0        26.0         11.0    False  \n",
       "\n",
       "[5 rows x 23 columns]"
      ]
     },
     "execution_count": 7,
     "metadata": {},
     "output_type": "execute_result"
    }
   ],
   "source": [
    "df.head()"
   ]
  },
  {
   "cell_type": "code",
   "execution_count": 8,
   "id": "733e95eb",
   "metadata": {
    "execution": {
     "iopub.execute_input": "2021-04-04T23:08:56.851505Z",
     "iopub.status.busy": "2021-04-04T23:08:56.850717Z",
     "iopub.status.idle": "2021-04-04T23:08:56.852486Z",
     "shell.execute_reply": "2021-04-04T23:08:56.852972Z"
    },
    "papermill": {
     "duration": 0.027671,
     "end_time": "2021-04-04T23:08:56.853118",
     "exception": false,
     "start_time": "2021-04-04T23:08:56.825447",
     "status": "completed"
    },
    "tags": []
   },
   "outputs": [],
   "source": [
    "del df['id']"
   ]
  },
  {
   "cell_type": "code",
   "execution_count": 9,
   "id": "6ff6f5b0",
   "metadata": {
    "execution": {
     "iopub.execute_input": "2021-04-04T23:08:56.900828Z",
     "iopub.status.busy": "2021-04-04T23:08:56.900105Z",
     "iopub.status.idle": "2021-04-04T23:08:56.901884Z",
     "shell.execute_reply": "2021-04-04T23:08:56.902345Z"
    },
    "papermill": {
     "duration": 0.027314,
     "end_time": "2021-04-04T23:08:56.902484",
     "exception": false,
     "start_time": "2021-04-04T23:08:56.875170",
     "status": "completed"
    },
    "tags": []
   },
   "outputs": [],
   "source": [
    "if PROFILE_REPORTING:\n",
    "    ProfileReport(df).to_widgets()"
   ]
  },
  {
   "cell_type": "markdown",
   "id": "1deaf3f0",
   "metadata": {
    "papermill": {
     "duration": 0.021528,
     "end_time": "2021-04-04T23:08:56.946882",
     "exception": false,
     "start_time": "2021-04-04T23:08:56.925354",
     "status": "completed"
    },
    "tags": []
   },
   "source": [
    "# Preprocess"
   ]
  },
  {
   "cell_type": "code",
   "execution_count": 10,
   "id": "1513e563",
   "metadata": {
    "execution": {
     "iopub.execute_input": "2021-04-04T23:08:56.994017Z",
     "iopub.status.busy": "2021-04-04T23:08:56.993334Z",
     "iopub.status.idle": "2021-04-04T23:08:56.995167Z",
     "shell.execute_reply": "2021-04-04T23:08:56.995633Z"
    },
    "papermill": {
     "duration": 0.027819,
     "end_time": "2021-04-04T23:08:56.995774",
     "exception": false,
     "start_time": "2021-04-04T23:08:56.967955",
     "status": "completed"
    },
    "tags": []
   },
   "outputs": [],
   "source": [
    "working_df = df.copy()"
   ]
  },
  {
   "cell_type": "code",
   "execution_count": 11,
   "id": "3b26d675",
   "metadata": {
    "execution": {
     "iopub.execute_input": "2021-04-04T23:08:57.046096Z",
     "iopub.status.busy": "2021-04-04T23:08:57.045374Z",
     "iopub.status.idle": "2021-04-04T23:08:57.047177Z",
     "shell.execute_reply": "2021-04-04T23:08:57.047649Z"
    },
    "papermill": {
     "duration": 0.029455,
     "end_time": "2021-04-04T23:08:57.047792",
     "exception": false,
     "start_time": "2021-04-04T23:08:57.018337",
     "status": "completed"
    },
    "tags": []
   },
   "outputs": [],
   "source": [
    "working_df['defects'] = working_df['defects'].replace([False, True], [0, 1])"
   ]
  },
  {
   "cell_type": "code",
   "execution_count": 12,
   "id": "eb48604f",
   "metadata": {
    "execution": {
     "iopub.execute_input": "2021-04-04T23:08:57.097615Z",
     "iopub.status.busy": "2021-04-04T23:08:57.096875Z",
     "iopub.status.idle": "2021-04-04T23:08:57.099326Z",
     "shell.execute_reply": "2021-04-04T23:08:57.098803Z"
    },
    "papermill": {
     "duration": 0.028983,
     "end_time": "2021-04-04T23:08:57.099448",
     "exception": false,
     "start_time": "2021-04-04T23:08:57.070465",
     "status": "completed"
    },
    "tags": []
   },
   "outputs": [],
   "source": [
    "for col in dataset_config['delete_columns']:\n",
    "    del working_df[col]"
   ]
  },
  {
   "cell_type": "code",
   "execution_count": 13,
   "id": "9a17bc29",
   "metadata": {
    "execution": {
     "iopub.execute_input": "2021-04-04T23:08:57.153169Z",
     "iopub.status.busy": "2021-04-04T23:08:57.152557Z",
     "iopub.status.idle": "2021-04-04T23:08:57.162620Z",
     "shell.execute_reply": "2021-04-04T23:08:57.161721Z"
    },
    "papermill": {
     "duration": 0.04021,
     "end_time": "2021-04-04T23:08:57.162791",
     "exception": false,
     "start_time": "2021-04-04T23:08:57.122581",
     "status": "completed"
    },
    "tags": []
   },
   "outputs": [],
   "source": [
    "working_df = working_df.drop_duplicates()"
   ]
  },
  {
   "cell_type": "markdown",
   "id": "a4d52ca6",
   "metadata": {
    "papermill": {
     "duration": 0.021827,
     "end_time": "2021-04-04T23:08:57.211194",
     "exception": false,
     "start_time": "2021-04-04T23:08:57.189367",
     "status": "completed"
    },
    "tags": []
   },
   "source": [
    "# Split"
   ]
  },
  {
   "cell_type": "code",
   "execution_count": 14,
   "id": "3e9ee4b5",
   "metadata": {
    "execution": {
     "iopub.execute_input": "2021-04-04T23:08:57.262314Z",
     "iopub.status.busy": "2021-04-04T23:08:57.260880Z",
     "iopub.status.idle": "2021-04-04T23:08:57.292480Z",
     "shell.execute_reply": "2021-04-04T23:08:57.293179Z"
    },
    "papermill": {
     "duration": 0.060273,
     "end_time": "2021-04-04T23:08:57.293377",
     "exception": false,
     "start_time": "2021-04-04T23:08:57.233104",
     "status": "completed"
    },
    "tags": []
   },
   "outputs": [],
   "source": [
    "from sklearn.model_selection import train_test_split"
   ]
  },
  {
   "cell_type": "code",
   "execution_count": 15,
   "id": "274004ce",
   "metadata": {
    "execution": {
     "iopub.execute_input": "2021-04-04T23:08:57.352169Z",
     "iopub.status.busy": "2021-04-04T23:08:57.351221Z",
     "iopub.status.idle": "2021-04-04T23:08:57.357561Z",
     "shell.execute_reply": "2021-04-04T23:08:57.358383Z"
    },
    "papermill": {
     "duration": 0.037075,
     "end_time": "2021-04-04T23:08:57.358596",
     "exception": false,
     "start_time": "2021-04-04T23:08:57.321521",
     "status": "completed"
    },
    "scrolled": true,
    "tags": []
   },
   "outputs": [],
   "source": [
    "inlier, outlier = working_df[working_df['defects'] == 0], working_df[working_df['defects'] == 1]"
   ]
  },
  {
   "cell_type": "code",
   "execution_count": 16,
   "id": "753c7b03",
   "metadata": {
    "execution": {
     "iopub.execute_input": "2021-04-04T23:08:57.419225Z",
     "iopub.status.busy": "2021-04-04T23:08:57.416761Z",
     "iopub.status.idle": "2021-04-04T23:08:57.421930Z",
     "shell.execute_reply": "2021-04-04T23:08:57.422634Z"
    },
    "papermill": {
     "duration": 0.034863,
     "end_time": "2021-04-04T23:08:57.422835",
     "exception": false,
     "start_time": "2021-04-04T23:08:57.387972",
     "status": "completed"
    },
    "tags": []
   },
   "outputs": [],
   "source": [
    "X_inlier = inlier.copy()\n",
    "y_inlier = X_inlier.pop('defects')\n",
    "X_outlier = outlier.copy()\n",
    "y_outlier = X_outlier.pop('defects')"
   ]
  },
  {
   "cell_type": "code",
   "execution_count": 17,
   "id": "2ba43193",
   "metadata": {
    "execution": {
     "iopub.execute_input": "2021-04-04T23:08:57.476891Z",
     "iopub.status.busy": "2021-04-04T23:08:57.476189Z",
     "iopub.status.idle": "2021-04-04T23:08:57.479006Z",
     "shell.execute_reply": "2021-04-04T23:08:57.479863Z"
    },
    "papermill": {
     "duration": 0.033995,
     "end_time": "2021-04-04T23:08:57.480102",
     "exception": false,
     "start_time": "2021-04-04T23:08:57.446107",
     "status": "completed"
    },
    "tags": []
   },
   "outputs": [],
   "source": [
    "test_size = dataset_config['test_size']\n",
    "random_state = dataset_config['random_state']\n",
    "\n",
    "X_inlier_train, X_inlier_test, y_inlier_train, y_inlier_test = train_test_split(\n",
    "    X_inlier,\n",
    "    y_inlier,\n",
    "    test_size=test_size,\n",
    "    random_state=random_state\n",
    ")"
   ]
  },
  {
   "cell_type": "code",
   "execution_count": 18,
   "id": "0b7582ca",
   "metadata": {
    "execution": {
     "iopub.execute_input": "2021-04-04T23:08:57.539277Z",
     "iopub.status.busy": "2021-04-04T23:08:57.538516Z",
     "iopub.status.idle": "2021-04-04T23:08:57.540470Z",
     "shell.execute_reply": "2021-04-04T23:08:57.540935Z"
    },
    "papermill": {
     "duration": 0.035215,
     "end_time": "2021-04-04T23:08:57.541079",
     "exception": false,
     "start_time": "2021-04-04T23:08:57.505864",
     "status": "completed"
    },
    "tags": []
   },
   "outputs": [],
   "source": [
    "test_outlier_size = dataset_config['test_outlier_size']\n",
    "if test_outlier_size > 0.0:\n",
    "    X_outlier_train, X_outlier_test, y_outlier_train, y_outlier_test = train_test_split(\n",
    "        X_outlier,\n",
    "        y_outlier,\n",
    "        test_size=test_outlier_size,\n",
    "        random_state=random_state\n",
    "    )\n",
    "else:\n",
    "    X_outlier_train, y_outlier_train = pd.DataFrame(columns=X_outlier.columns), pd.Series(dtype='int64')\n",
    "    X_outlier_test, y_outlier_test = X_outlier.copy(), y_outlier.copy()"
   ]
  },
  {
   "cell_type": "code",
   "execution_count": 19,
   "id": "c34363db",
   "metadata": {
    "execution": {
     "iopub.execute_input": "2021-04-04T23:08:57.598945Z",
     "iopub.status.busy": "2021-04-04T23:08:57.597979Z",
     "iopub.status.idle": "2021-04-04T23:08:57.600747Z",
     "shell.execute_reply": "2021-04-04T23:08:57.601413Z"
    },
    "papermill": {
     "duration": 0.038233,
     "end_time": "2021-04-04T23:08:57.601605",
     "exception": false,
     "start_time": "2021-04-04T23:08:57.563372",
     "status": "completed"
    },
    "tags": []
   },
   "outputs": [],
   "source": [
    "X_train, y_train = pd.concat([X_inlier_train, X_outlier_train], ignore_index=True), pd.concat([y_inlier_train, y_outlier_train], ignore_index=True)\n",
    "X_test, y_test = pd.concat([X_inlier_test, X_outlier_test], ignore_index=True), pd.concat([y_inlier_test, y_outlier_test], ignore_index=True)"
   ]
  },
  {
   "cell_type": "markdown",
   "id": "7cde7309",
   "metadata": {
    "papermill": {
     "duration": 0.022317,
     "end_time": "2021-04-04T23:08:57.656659",
     "exception": false,
     "start_time": "2021-04-04T23:08:57.634342",
     "status": "completed"
    },
    "tags": []
   },
   "source": [
    "# Model"
   ]
  },
  {
   "cell_type": "code",
   "execution_count": 20,
   "id": "2b12a415",
   "metadata": {
    "execution": {
     "iopub.execute_input": "2021-04-04T23:08:57.714682Z",
     "iopub.status.busy": "2021-04-04T23:08:57.713698Z",
     "iopub.status.idle": "2021-04-04T23:08:57.715847Z",
     "shell.execute_reply": "2021-04-04T23:08:57.716592Z"
    },
    "papermill": {
     "duration": 0.038114,
     "end_time": "2021-04-04T23:08:57.716812",
     "exception": false,
     "start_time": "2021-04-04T23:08:57.678698",
     "status": "completed"
    },
    "tags": []
   },
   "outputs": [],
   "source": [
    "from math import sqrt\n",
    "\n",
    "\n",
    "class KNNDataDescription:\n",
    "    def __init__(self, k=5, outlier_threshold=1.0):\n",
    "        self.k = k\n",
    "        self.outlier_threshold = outlier_threshold\n",
    "        self.X = []\n",
    "    \n",
    "    def fit(self, X):\n",
    "        self.X = [features.to_list() for index, features in X.iterrows()]\n",
    "\n",
    "    def predict(self, entries):\n",
    "        return [self.predict_entry(features.to_list()) for index, features in entries.iterrows()]\n",
    "    \n",
    "    def predict_entry(self, entry):\n",
    "        kth_neighbor, kth_distance = self.get_kth_neighbor(entry, self.k)\n",
    "        kth_kth_neighbor, kth_kth_distance = self.get_kth_neighbor(kth_neighbor, self.k + 1)\n",
    "\n",
    "        outlier_score = kth_distance / (kth_kth_distance + 0.000001)\n",
    "\n",
    "        return 1 if outlier_score < self.outlier_threshold else -1\n",
    "        \n",
    "    def euclidean_distance(self, features1, features2):\n",
    "        distance = 0.0\n",
    "        for feat1, feat2 in zip(features1, features2):\n",
    "            distance += (feat1 - feat2)**2\n",
    "                \n",
    "        return sqrt(distance)\n",
    "\n",
    "    def get_neighbors(self, entry, k):\n",
    "        distance_to_data_points = [\n",
    "            (data_point, self.euclidean_distance(entry, data_point))\n",
    "            for data_point in self.X\n",
    "        ]\n",
    "        sorted_by_distance = sorted(distance_to_data_points, key=lambda tup: tup[1])\n",
    "        neighbors = sorted_by_distance[:k]\n",
    "        return neighbors\n",
    "\n",
    "    def get_kth_neighbor(self, entry, k):\n",
    "        neighbors = self.get_neighbors(entry, k)\n",
    "        return neighbors[-1]\n"
   ]
  },
  {
   "cell_type": "code",
   "execution_count": 21,
   "id": "1fa9ec1c",
   "metadata": {
    "execution": {
     "iopub.execute_input": "2021-04-04T23:08:57.776932Z",
     "iopub.status.busy": "2021-04-04T23:08:57.776280Z",
     "iopub.status.idle": "2021-04-04T23:08:57.802717Z",
     "shell.execute_reply": "2021-04-04T23:08:57.801897Z"
    },
    "papermill": {
     "duration": 0.063193,
     "end_time": "2021-04-04T23:08:57.802897",
     "exception": false,
     "start_time": "2021-04-04T23:08:57.739704",
     "status": "completed"
    },
    "tags": []
   },
   "outputs": [],
   "source": [
    "from sklearn.svm import OneClassSVM\n",
    "\n",
    "\n",
    "models = {\n",
    "    'oneclasssvm': OneClassSVM,\n",
    "    'knndatadescription': KNNDataDescription,\n",
    "}"
   ]
  },
  {
   "cell_type": "code",
   "execution_count": 22,
   "id": "4d72a0b1",
   "metadata": {
    "execution": {
     "iopub.execute_input": "2021-04-04T23:08:57.864296Z",
     "iopub.status.busy": "2021-04-04T23:08:57.863179Z",
     "iopub.status.idle": "2021-04-04T23:08:57.866670Z",
     "shell.execute_reply": "2021-04-04T23:08:57.865836Z"
    },
    "papermill": {
     "duration": 0.030995,
     "end_time": "2021-04-04T23:08:57.866891",
     "exception": false,
     "start_time": "2021-04-04T23:08:57.835896",
     "status": "completed"
    },
    "scrolled": true,
    "tags": []
   },
   "outputs": [],
   "source": [
    "model_cls = models[model_config['model_type']]\n",
    "model = model_cls(**model_config['hyperparameters'])"
   ]
  },
  {
   "cell_type": "markdown",
   "id": "e00cff3b",
   "metadata": {
    "papermill": {
     "duration": 0.022805,
     "end_time": "2021-04-04T23:08:57.920227",
     "exception": false,
     "start_time": "2021-04-04T23:08:57.897422",
     "status": "completed"
    },
    "tags": []
   },
   "source": [
    "# Fit"
   ]
  },
  {
   "cell_type": "code",
   "execution_count": 23,
   "id": "8b2ded89",
   "metadata": {
    "execution": {
     "iopub.execute_input": "2021-04-04T23:08:57.970848Z",
     "iopub.status.busy": "2021-04-04T23:08:57.970235Z",
     "iopub.status.idle": "2021-04-04T23:08:57.998191Z",
     "shell.execute_reply": "2021-04-04T23:08:57.998865Z"
    },
    "papermill": {
     "duration": 0.056119,
     "end_time": "2021-04-04T23:08:57.999070",
     "exception": false,
     "start_time": "2021-04-04T23:08:57.942951",
     "status": "completed"
    },
    "tags": []
   },
   "outputs": [],
   "source": [
    "model.fit(X_train)"
   ]
  },
  {
   "cell_type": "markdown",
   "id": "f99999f7",
   "metadata": {
    "papermill": {
     "duration": 0.026268,
     "end_time": "2021-04-04T23:08:58.051462",
     "exception": false,
     "start_time": "2021-04-04T23:08:58.025194",
     "status": "completed"
    },
    "tags": []
   },
   "source": [
    "# Predict"
   ]
  },
  {
   "cell_type": "code",
   "execution_count": 24,
   "id": "6536fbf7",
   "metadata": {
    "execution": {
     "iopub.execute_input": "2021-04-04T23:08:58.131732Z",
     "iopub.status.busy": "2021-04-04T23:08:58.100803Z",
     "iopub.status.idle": "2021-04-04T23:08:58.502968Z",
     "shell.execute_reply": "2021-04-04T23:08:58.503671Z"
    },
    "papermill": {
     "duration": 0.429839,
     "end_time": "2021-04-04T23:08:58.503884",
     "exception": false,
     "start_time": "2021-04-04T23:08:58.074045",
     "status": "completed"
    },
    "tags": []
   },
   "outputs": [],
   "source": [
    "predictions = model.predict(X_test)"
   ]
  },
  {
   "cell_type": "markdown",
   "id": "aa1c9881",
   "metadata": {
    "papermill": {
     "duration": 0.022937,
     "end_time": "2021-04-04T23:08:58.558875",
     "exception": false,
     "start_time": "2021-04-04T23:08:58.535938",
     "status": "completed"
    },
    "tags": []
   },
   "source": [
    "# Evaluate"
   ]
  },
  {
   "cell_type": "code",
   "execution_count": 25,
   "id": "894f0f04",
   "metadata": {
    "execution": {
     "iopub.execute_input": "2021-04-04T23:08:58.610262Z",
     "iopub.status.busy": "2021-04-04T23:08:58.609421Z",
     "iopub.status.idle": "2021-04-04T23:08:58.612357Z",
     "shell.execute_reply": "2021-04-04T23:08:58.613092Z"
    },
    "papermill": {
     "duration": 0.031292,
     "end_time": "2021-04-04T23:08:58.613296",
     "exception": false,
     "start_time": "2021-04-04T23:08:58.582004",
     "status": "completed"
    },
    "tags": []
   },
   "outputs": [],
   "source": [
    "from sklearn.metrics import f1_score"
   ]
  },
  {
   "cell_type": "code",
   "execution_count": 26,
   "id": "211744d3",
   "metadata": {
    "execution": {
     "iopub.execute_input": "2021-04-04T23:08:58.669962Z",
     "iopub.status.busy": "2021-04-04T23:08:58.668708Z",
     "iopub.status.idle": "2021-04-04T23:08:58.671155Z",
     "shell.execute_reply": "2021-04-04T23:08:58.671630Z"
    },
    "papermill": {
     "duration": 0.031316,
     "end_time": "2021-04-04T23:08:58.671776",
     "exception": false,
     "start_time": "2021-04-04T23:08:58.640460",
     "status": "completed"
    },
    "tags": []
   },
   "outputs": [],
   "source": [
    "y_test = y_test.replace([0, 1], [1, -1])"
   ]
  },
  {
   "cell_type": "code",
   "execution_count": 27,
   "id": "d68a9204",
   "metadata": {
    "execution": {
     "iopub.execute_input": "2021-04-04T23:08:58.729355Z",
     "iopub.status.busy": "2021-04-04T23:08:58.728484Z",
     "iopub.status.idle": "2021-04-04T23:08:58.731490Z",
     "shell.execute_reply": "2021-04-04T23:08:58.730894Z"
    },
    "papermill": {
     "duration": 0.034794,
     "end_time": "2021-04-04T23:08:58.731612",
     "exception": false,
     "start_time": "2021-04-04T23:08:58.696818",
     "status": "completed"
    },
    "tags": []
   },
   "outputs": [],
   "source": [
    "def evaluate(truths, predictions, pos_label, neg_label):\n",
    "    TP = 0\n",
    "    FP = 0\n",
    "    TN = 0\n",
    "    FN = 0\n",
    "\n",
    "    for truth, pred in zip(truths, predictions): \n",
    "        if truth == pred == pos_label:\n",
    "           TP += 1\n",
    "        elif pred == pos_label and truth == neg_label:\n",
    "           FP += 1\n",
    "        elif truth == pred == neg_label:\n",
    "           TN += 1\n",
    "        elif pred == neg_label and truth == pos_label:\n",
    "           FN += 1\n",
    "\n",
    "    precision = TP / (TP + FP)\n",
    "    sensitivity = TP / (TP + FN)\n",
    "    \n",
    "    return {\n",
    "        'true_pos': TP,\n",
    "        'false_pos': FP,\n",
    "        'false_neg': FN,\n",
    "        'true_neg': TN,\n",
    "        'precision': precision,\n",
    "        'sensitivity': sensitivity,\n",
    "        'f1': (2 * (precision * sensitivity)) / (precision + sensitivity)\n",
    "    }\n",
    "\n",
    "score = evaluate(y_test, predictions, pos_label=-1, neg_label=1)"
   ]
  },
  {
   "cell_type": "markdown",
   "id": "93596516",
   "metadata": {
    "papermill": {
     "duration": 0.024591,
     "end_time": "2021-04-04T23:08:58.789014",
     "exception": false,
     "start_time": "2021-04-04T23:08:58.764423",
     "status": "completed"
    },
    "tags": []
   },
   "source": [
    "# Report"
   ]
  },
  {
   "cell_type": "code",
   "execution_count": 28,
   "id": "bea5fba1",
   "metadata": {
    "execution": {
     "iopub.execute_input": "2021-04-04T23:08:58.845413Z",
     "iopub.status.busy": "2021-04-04T23:08:58.844633Z",
     "iopub.status.idle": "2021-04-04T23:08:58.847222Z",
     "shell.execute_reply": "2021-04-04T23:08:58.846556Z"
    },
    "papermill": {
     "duration": 0.033387,
     "end_time": "2021-04-04T23:08:58.847377",
     "exception": false,
     "start_time": "2021-04-04T23:08:58.813990",
     "status": "completed"
    },
    "tags": []
   },
   "outputs": [],
   "source": [
    "import csv\n",
    "\n",
    "\n",
    "dataset_config_name = DATASET_CONFIG_PATH.split('/')[-1].split('.')[0]\n",
    "model_config_name = MODEL_CONFIG_PATH.split('/')[-1].split('.')[0]\n",
    "configuration = f\"dataset_{dataset_config_name}-model_{model_config_name}\"\n",
    "\n",
    "with open('results.csv', 'a') as f:\n",
    "    report = dict({'configuration': configuration}, **score)\n",
    "    writer = csv.DictWriter(f, report.keys())\n",
    "    writer.writerow(report)"
   ]
  }
 ],
 "metadata": {
  "celltoolbar": "Tags",
  "kernelspec": {
   "display_name": "Python 3",
   "language": "python",
   "name": "python3"
  },
  "language_info": {
   "codemirror_mode": {
    "name": "ipython",
    "version": 3
   },
   "file_extension": ".py",
   "mimetype": "text/x-python",
   "name": "python",
   "nbconvert_exporter": "python",
   "pygments_lexer": "ipython3",
   "version": "3.9.1"
  },
  "papermill": {
   "default_parameters": {},
   "duration": 6.039702,
   "end_time": "2021-04-04T23:09:00.414016",
   "environment_variables": {},
   "exception": null,
   "input_path": "main.ipynb",
   "output_path": "runs/dataset_000090-model_000002.ipynb",
   "parameters": {
    "DATASET_CONFIG_PATH": "config/dataset/000090.json",
    "MODEL_CONFIG_PATH": "config/model/000002.json",
    "PROFILE_REPORTING": false
   },
   "start_time": "2021-04-04T23:08:54.374314",
   "version": "2.3.3"
  }
 },
 "nbformat": 4,
 "nbformat_minor": 5
}