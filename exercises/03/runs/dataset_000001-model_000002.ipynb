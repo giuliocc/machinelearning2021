{
 "cells": [
  {
   "cell_type": "markdown",
   "id": "4588efca",
   "metadata": {
    "papermill": {
     "duration": 0.029702,
     "end_time": "2021-04-04T22:21:32.901238",
     "exception": false,
     "start_time": "2021-04-04T22:21:32.871536",
     "status": "completed"
    },
    "tags": []
   },
   "source": [
    "# Parametrizing"
   ]
  },
  {
   "cell_type": "code",
   "execution_count": 1,
   "id": "5964d9c0",
   "metadata": {
    "execution": {
     "iopub.execute_input": "2021-04-04T22:21:32.954852Z",
     "iopub.status.busy": "2021-04-04T22:21:32.953666Z",
     "iopub.status.idle": "2021-04-04T22:21:32.956281Z",
     "shell.execute_reply": "2021-04-04T22:21:32.957099Z"
    },
    "papermill": {
     "duration": 0.037017,
     "end_time": "2021-04-04T22:21:32.957426",
     "exception": false,
     "start_time": "2021-04-04T22:21:32.920409",
     "status": "completed"
    },
    "tags": [
     "parameters"
    ]
   },
   "outputs": [],
   "source": [
    "DATASET_CONFIG_PATH = 'config/dataset/kc1_001.json'\n",
    "MODEL_CONFIG_PATH = 'config/model/knndd_001.json'\n",
    "PROFILE_REPORTING = False"
   ]
  },
  {
   "cell_type": "code",
   "execution_count": 2,
   "id": "df543fd2",
   "metadata": {
    "execution": {
     "iopub.execute_input": "2021-04-04T22:21:33.005368Z",
     "iopub.status.busy": "2021-04-04T22:21:33.004786Z",
     "iopub.status.idle": "2021-04-04T22:21:33.006990Z",
     "shell.execute_reply": "2021-04-04T22:21:33.007477Z"
    },
    "papermill": {
     "duration": 0.025905,
     "end_time": "2021-04-04T22:21:33.007622",
     "exception": false,
     "start_time": "2021-04-04T22:21:32.981717",
     "status": "completed"
    },
    "tags": [
     "injected-parameters"
    ]
   },
   "outputs": [],
   "source": [
    "# Parameters\n",
    "DATASET_CONFIG_PATH = \"config/dataset/000001.json\"\n",
    "MODEL_CONFIG_PATH = \"config/model/000002.json\"\n",
    "PROFILE_REPORTING = False\n"
   ]
  },
  {
   "cell_type": "code",
   "execution_count": 3,
   "id": "3fa67035",
   "metadata": {
    "execution": {
     "iopub.execute_input": "2021-04-04T22:21:33.055065Z",
     "iopub.status.busy": "2021-04-04T22:21:33.054113Z",
     "iopub.status.idle": "2021-04-04T22:21:33.056917Z",
     "shell.execute_reply": "2021-04-04T22:21:33.057625Z"
    },
    "papermill": {
     "duration": 0.029228,
     "end_time": "2021-04-04T22:21:33.057828",
     "exception": false,
     "start_time": "2021-04-04T22:21:33.028600",
     "status": "completed"
    },
    "tags": []
   },
   "outputs": [],
   "source": [
    "import json\n",
    "\n",
    "\n",
    "with open(DATASET_CONFIG_PATH) as f:\n",
    "    dataset_config = json.load(f)\n",
    "\n",
    "with open(MODEL_CONFIG_PATH) as f:\n",
    "    model_config = json.load(f)"
   ]
  },
  {
   "cell_type": "markdown",
   "id": "9a4b0e2d",
   "metadata": {
    "papermill": {
     "duration": 0.019734,
     "end_time": "2021-04-04T22:21:33.104197",
     "exception": false,
     "start_time": "2021-04-04T22:21:33.084463",
     "status": "completed"
    },
    "tags": []
   },
   "source": [
    "# Profiling"
   ]
  },
  {
   "cell_type": "code",
   "execution_count": 4,
   "id": "a3e0289b",
   "metadata": {
    "execution": {
     "iopub.execute_input": "2021-04-04T22:21:33.146924Z",
     "iopub.status.busy": "2021-04-04T22:21:33.146284Z",
     "iopub.status.idle": "2021-04-04T22:21:34.372758Z",
     "shell.execute_reply": "2021-04-04T22:21:34.373270Z"
    },
    "papermill": {
     "duration": 1.250079,
     "end_time": "2021-04-04T22:21:34.373426",
     "exception": false,
     "start_time": "2021-04-04T22:21:33.123347",
     "status": "completed"
    },
    "tags": []
   },
   "outputs": [],
   "source": [
    "import pandas as pd\n",
    "from pandas_profiling import ProfileReport"
   ]
  },
  {
   "cell_type": "code",
   "execution_count": 5,
   "id": "ee6c0666",
   "metadata": {
    "execution": {
     "iopub.execute_input": "2021-04-04T22:21:34.422700Z",
     "iopub.status.busy": "2021-04-04T22:21:34.422079Z",
     "iopub.status.idle": "2021-04-04T22:21:34.432288Z",
     "shell.execute_reply": "2021-04-04T22:21:34.432758Z"
    },
    "papermill": {
     "duration": 0.036524,
     "end_time": "2021-04-04T22:21:34.432905",
     "exception": false,
     "start_time": "2021-04-04T22:21:34.396381",
     "status": "completed"
    },
    "tags": []
   },
   "outputs": [],
   "source": [
    "df = pd.read_csv(dataset_config['dataset_path'])"
   ]
  },
  {
   "cell_type": "code",
   "execution_count": 6,
   "id": "20d45671",
   "metadata": {
    "execution": {
     "iopub.execute_input": "2021-04-04T22:21:34.487126Z",
     "iopub.status.busy": "2021-04-04T22:21:34.478040Z",
     "iopub.status.idle": "2021-04-04T22:21:34.489997Z",
     "shell.execute_reply": "2021-04-04T22:21:34.490488Z"
    },
    "papermill": {
     "duration": 0.037009,
     "end_time": "2021-04-04T22:21:34.490642",
     "exception": false,
     "start_time": "2021-04-04T22:21:34.453633",
     "status": "completed"
    },
    "tags": []
   },
   "outputs": [
    {
     "name": "stdout",
     "output_type": "stream",
     "text": [
      "<class 'pandas.core.frame.DataFrame'>\n",
      "RangeIndex: 2109 entries, 0 to 2108\n",
      "Data columns (total 23 columns):\n",
      " #   Column             Non-Null Count  Dtype  \n",
      "---  ------             --------------  -----  \n",
      " 0   id                 2109 non-null   int64  \n",
      " 1   loc                2109 non-null   float64\n",
      " 2   v(g)               2109 non-null   float64\n",
      " 3   ev(g)              2109 non-null   float64\n",
      " 4   iv(g)              2109 non-null   float64\n",
      " 5   n                  2109 non-null   float64\n",
      " 6   v                  2109 non-null   float64\n",
      " 7   l                  2109 non-null   float64\n",
      " 8   d                  2109 non-null   float64\n",
      " 9   i                  2109 non-null   float64\n",
      " 10  e                  2109 non-null   float64\n",
      " 11  b                  2109 non-null   float64\n",
      " 12  t                  2109 non-null   float64\n",
      " 13  lOCode             2109 non-null   int64  \n",
      " 14  lOComment          2109 non-null   int64  \n",
      " 15  lOBlank            2109 non-null   int64  \n",
      " 16  locCodeAndComment  2109 non-null   int64  \n",
      " 17  uniq_Op            2109 non-null   float64\n",
      " 18  uniq_Opnd          2109 non-null   float64\n",
      " 19  total_Op           2109 non-null   float64\n",
      " 20  total_Opnd         2109 non-null   float64\n",
      " 21  branchCount        2109 non-null   float64\n",
      " 22  defects            2109 non-null   bool   \n",
      "dtypes: bool(1), float64(17), int64(5)\n",
      "memory usage: 364.7 KB\n"
     ]
    }
   ],
   "source": [
    "df.info()"
   ]
  },
  {
   "cell_type": "code",
   "execution_count": 7,
   "id": "a676db33",
   "metadata": {
    "execution": {
     "iopub.execute_input": "2021-04-04T22:21:34.542288Z",
     "iopub.status.busy": "2021-04-04T22:21:34.541614Z",
     "iopub.status.idle": "2021-04-04T22:21:34.571176Z",
     "shell.execute_reply": "2021-04-04T22:21:34.570628Z"
    },
    "papermill": {
     "duration": 0.05869,
     "end_time": "2021-04-04T22:21:34.571307",
     "exception": false,
     "start_time": "2021-04-04T22:21:34.512617",
     "status": "completed"
    },
    "tags": []
   },
   "outputs": [
    {
     "data": {
      "text/html": [
       "<div>\n",
       "<style scoped>\n",
       "    .dataframe tbody tr th:only-of-type {\n",
       "        vertical-align: middle;\n",
       "    }\n",
       "\n",
       "    .dataframe tbody tr th {\n",
       "        vertical-align: top;\n",
       "    }\n",
       "\n",
       "    .dataframe thead th {\n",
       "        text-align: right;\n",
       "    }\n",
       "</style>\n",
       "<table border=\"1\" class=\"dataframe\">\n",
       "  <thead>\n",
       "    <tr style=\"text-align: right;\">\n",
       "      <th></th>\n",
       "      <th>id</th>\n",
       "      <th>loc</th>\n",
       "      <th>v(g)</th>\n",
       "      <th>ev(g)</th>\n",
       "      <th>iv(g)</th>\n",
       "      <th>n</th>\n",
       "      <th>v</th>\n",
       "      <th>l</th>\n",
       "      <th>d</th>\n",
       "      <th>i</th>\n",
       "      <th>...</th>\n",
       "      <th>lOCode</th>\n",
       "      <th>lOComment</th>\n",
       "      <th>lOBlank</th>\n",
       "      <th>locCodeAndComment</th>\n",
       "      <th>uniq_Op</th>\n",
       "      <th>uniq_Opnd</th>\n",
       "      <th>total_Op</th>\n",
       "      <th>total_Opnd</th>\n",
       "      <th>branchCount</th>\n",
       "      <th>defects</th>\n",
       "    </tr>\n",
       "  </thead>\n",
       "  <tbody>\n",
       "    <tr>\n",
       "      <th>0</th>\n",
       "      <td>1</td>\n",
       "      <td>1.1</td>\n",
       "      <td>1.4</td>\n",
       "      <td>1.4</td>\n",
       "      <td>1.4</td>\n",
       "      <td>1.3</td>\n",
       "      <td>1.30</td>\n",
       "      <td>1.30</td>\n",
       "      <td>1.30</td>\n",
       "      <td>1.30</td>\n",
       "      <td>...</td>\n",
       "      <td>2</td>\n",
       "      <td>2</td>\n",
       "      <td>2</td>\n",
       "      <td>2</td>\n",
       "      <td>1.2</td>\n",
       "      <td>1.2</td>\n",
       "      <td>1.2</td>\n",
       "      <td>1.2</td>\n",
       "      <td>1.4</td>\n",
       "      <td>False</td>\n",
       "    </tr>\n",
       "    <tr>\n",
       "      <th>1</th>\n",
       "      <td>2</td>\n",
       "      <td>1.0</td>\n",
       "      <td>1.0</td>\n",
       "      <td>1.0</td>\n",
       "      <td>1.0</td>\n",
       "      <td>1.0</td>\n",
       "      <td>1.00</td>\n",
       "      <td>1.00</td>\n",
       "      <td>1.00</td>\n",
       "      <td>1.00</td>\n",
       "      <td>...</td>\n",
       "      <td>1</td>\n",
       "      <td>1</td>\n",
       "      <td>1</td>\n",
       "      <td>1</td>\n",
       "      <td>1.0</td>\n",
       "      <td>1.0</td>\n",
       "      <td>1.0</td>\n",
       "      <td>1.0</td>\n",
       "      <td>1.0</td>\n",
       "      <td>True</td>\n",
       "    </tr>\n",
       "    <tr>\n",
       "      <th>2</th>\n",
       "      <td>3</td>\n",
       "      <td>83.0</td>\n",
       "      <td>11.0</td>\n",
       "      <td>1.0</td>\n",
       "      <td>11.0</td>\n",
       "      <td>171.0</td>\n",
       "      <td>927.89</td>\n",
       "      <td>0.04</td>\n",
       "      <td>23.04</td>\n",
       "      <td>40.27</td>\n",
       "      <td>...</td>\n",
       "      <td>65</td>\n",
       "      <td>10</td>\n",
       "      <td>6</td>\n",
       "      <td>0</td>\n",
       "      <td>18.0</td>\n",
       "      <td>25.0</td>\n",
       "      <td>107.0</td>\n",
       "      <td>64.0</td>\n",
       "      <td>21.0</td>\n",
       "      <td>True</td>\n",
       "    </tr>\n",
       "    <tr>\n",
       "      <th>3</th>\n",
       "      <td>4</td>\n",
       "      <td>46.0</td>\n",
       "      <td>8.0</td>\n",
       "      <td>6.0</td>\n",
       "      <td>8.0</td>\n",
       "      <td>141.0</td>\n",
       "      <td>769.78</td>\n",
       "      <td>0.07</td>\n",
       "      <td>14.86</td>\n",
       "      <td>51.81</td>\n",
       "      <td>...</td>\n",
       "      <td>37</td>\n",
       "      <td>2</td>\n",
       "      <td>5</td>\n",
       "      <td>0</td>\n",
       "      <td>16.0</td>\n",
       "      <td>28.0</td>\n",
       "      <td>89.0</td>\n",
       "      <td>52.0</td>\n",
       "      <td>15.0</td>\n",
       "      <td>True</td>\n",
       "    </tr>\n",
       "    <tr>\n",
       "      <th>4</th>\n",
       "      <td>5</td>\n",
       "      <td>25.0</td>\n",
       "      <td>3.0</td>\n",
       "      <td>1.0</td>\n",
       "      <td>3.0</td>\n",
       "      <td>58.0</td>\n",
       "      <td>254.75</td>\n",
       "      <td>0.11</td>\n",
       "      <td>9.35</td>\n",
       "      <td>27.25</td>\n",
       "      <td>...</td>\n",
       "      <td>21</td>\n",
       "      <td>0</td>\n",
       "      <td>2</td>\n",
       "      <td>0</td>\n",
       "      <td>11.0</td>\n",
       "      <td>10.0</td>\n",
       "      <td>41.0</td>\n",
       "      <td>17.0</td>\n",
       "      <td>5.0</td>\n",
       "      <td>True</td>\n",
       "    </tr>\n",
       "  </tbody>\n",
       "</table>\n",
       "<p>5 rows × 23 columns</p>\n",
       "</div>"
      ],
      "text/plain": [
       "   id   loc  v(g)  ev(g)  iv(g)      n       v     l      d      i  ...  \\\n",
       "0   1   1.1   1.4    1.4    1.4    1.3    1.30  1.30   1.30   1.30  ...   \n",
       "1   2   1.0   1.0    1.0    1.0    1.0    1.00  1.00   1.00   1.00  ...   \n",
       "2   3  83.0  11.0    1.0   11.0  171.0  927.89  0.04  23.04  40.27  ...   \n",
       "3   4  46.0   8.0    6.0    8.0  141.0  769.78  0.07  14.86  51.81  ...   \n",
       "4   5  25.0   3.0    1.0    3.0   58.0  254.75  0.11   9.35  27.25  ...   \n",
       "\n",
       "   lOCode  lOComment  lOBlank  locCodeAndComment  uniq_Op  uniq_Opnd  \\\n",
       "0       2          2        2                  2      1.2        1.2   \n",
       "1       1          1        1                  1      1.0        1.0   \n",
       "2      65         10        6                  0     18.0       25.0   \n",
       "3      37          2        5                  0     16.0       28.0   \n",
       "4      21          0        2                  0     11.0       10.0   \n",
       "\n",
       "   total_Op  total_Opnd  branchCount  defects  \n",
       "0       1.2         1.2          1.4    False  \n",
       "1       1.0         1.0          1.0     True  \n",
       "2     107.0        64.0         21.0     True  \n",
       "3      89.0        52.0         15.0     True  \n",
       "4      41.0        17.0          5.0     True  \n",
       "\n",
       "[5 rows x 23 columns]"
      ]
     },
     "execution_count": 7,
     "metadata": {},
     "output_type": "execute_result"
    }
   ],
   "source": [
    "df.head()"
   ]
  },
  {
   "cell_type": "code",
   "execution_count": 8,
   "id": "dd6aa244",
   "metadata": {
    "execution": {
     "iopub.execute_input": "2021-04-04T22:21:34.618314Z",
     "iopub.status.busy": "2021-04-04T22:21:34.617710Z",
     "iopub.status.idle": "2021-04-04T22:21:34.620418Z",
     "shell.execute_reply": "2021-04-04T22:21:34.620898Z"
    },
    "papermill": {
     "duration": 0.027752,
     "end_time": "2021-04-04T22:21:34.621046",
     "exception": false,
     "start_time": "2021-04-04T22:21:34.593294",
     "status": "completed"
    },
    "tags": []
   },
   "outputs": [],
   "source": [
    "del df['id']"
   ]
  },
  {
   "cell_type": "code",
   "execution_count": 9,
   "id": "6ff6f5b0",
   "metadata": {
    "execution": {
     "iopub.execute_input": "2021-04-04T22:21:34.670959Z",
     "iopub.status.busy": "2021-04-04T22:21:34.669966Z",
     "iopub.status.idle": "2021-04-04T22:21:34.672369Z",
     "shell.execute_reply": "2021-04-04T22:21:34.672930Z"
    },
    "papermill": {
     "duration": 0.028792,
     "end_time": "2021-04-04T22:21:34.673099",
     "exception": false,
     "start_time": "2021-04-04T22:21:34.644307",
     "status": "completed"
    },
    "tags": []
   },
   "outputs": [],
   "source": [
    "if PROFILE_REPORTING:\n",
    "    ProfileReport(df).to_widgets()"
   ]
  },
  {
   "cell_type": "markdown",
   "id": "1deaf3f0",
   "metadata": {
    "papermill": {
     "duration": 0.021174,
     "end_time": "2021-04-04T22:21:34.719814",
     "exception": false,
     "start_time": "2021-04-04T22:21:34.698640",
     "status": "completed"
    },
    "tags": []
   },
   "source": [
    "# Preprocess"
   ]
  },
  {
   "cell_type": "code",
   "execution_count": 10,
   "id": "9153b2bb",
   "metadata": {
    "execution": {
     "iopub.execute_input": "2021-04-04T22:21:34.772830Z",
     "iopub.status.busy": "2021-04-04T22:21:34.771761Z",
     "iopub.status.idle": "2021-04-04T22:21:34.775048Z",
     "shell.execute_reply": "2021-04-04T22:21:34.774196Z"
    },
    "papermill": {
     "duration": 0.031527,
     "end_time": "2021-04-04T22:21:34.775214",
     "exception": false,
     "start_time": "2021-04-04T22:21:34.743687",
     "status": "completed"
    },
    "tags": []
   },
   "outputs": [],
   "source": [
    "working_df = df.copy()"
   ]
  },
  {
   "cell_type": "code",
   "execution_count": 11,
   "id": "3b26d675",
   "metadata": {
    "execution": {
     "iopub.execute_input": "2021-04-04T22:21:34.832662Z",
     "iopub.status.busy": "2021-04-04T22:21:34.831562Z",
     "iopub.status.idle": "2021-04-04T22:21:34.837432Z",
     "shell.execute_reply": "2021-04-04T22:21:34.836283Z"
    },
    "papermill": {
     "duration": 0.034749,
     "end_time": "2021-04-04T22:21:34.837647",
     "exception": false,
     "start_time": "2021-04-04T22:21:34.802898",
     "status": "completed"
    },
    "tags": []
   },
   "outputs": [],
   "source": [
    "working_df['defects'] = working_df['defects'].replace([False, True], [0, 1])"
   ]
  },
  {
   "cell_type": "code",
   "execution_count": 12,
   "id": "5f306c3e",
   "metadata": {
    "execution": {
     "iopub.execute_input": "2021-04-04T22:21:34.891387Z",
     "iopub.status.busy": "2021-04-04T22:21:34.889852Z",
     "iopub.status.idle": "2021-04-04T22:21:34.893948Z",
     "shell.execute_reply": "2021-04-04T22:21:34.893130Z"
    },
    "papermill": {
     "duration": 0.030749,
     "end_time": "2021-04-04T22:21:34.894131",
     "exception": false,
     "start_time": "2021-04-04T22:21:34.863382",
     "status": "completed"
    },
    "tags": []
   },
   "outputs": [],
   "source": [
    "for col in dataset_config['delete_columns']:\n",
    "    del working_df[col]"
   ]
  },
  {
   "cell_type": "code",
   "execution_count": 13,
   "id": "a55074fa",
   "metadata": {
    "execution": {
     "iopub.execute_input": "2021-04-04T22:21:34.949390Z",
     "iopub.status.busy": "2021-04-04T22:21:34.948232Z",
     "iopub.status.idle": "2021-04-04T22:21:34.962267Z",
     "shell.execute_reply": "2021-04-04T22:21:34.961256Z"
    },
    "papermill": {
     "duration": 0.041904,
     "end_time": "2021-04-04T22:21:34.962463",
     "exception": false,
     "start_time": "2021-04-04T22:21:34.920559",
     "status": "completed"
    },
    "tags": []
   },
   "outputs": [],
   "source": [
    "working_df = working_df.drop_duplicates()"
   ]
  },
  {
   "cell_type": "markdown",
   "id": "a4d52ca6",
   "metadata": {
    "papermill": {
     "duration": 0.020928,
     "end_time": "2021-04-04T22:21:35.028436",
     "exception": false,
     "start_time": "2021-04-04T22:21:35.007508",
     "status": "completed"
    },
    "tags": []
   },
   "source": [
    "# Split"
   ]
  },
  {
   "cell_type": "code",
   "execution_count": 14,
   "id": "3e9ee4b5",
   "metadata": {
    "execution": {
     "iopub.execute_input": "2021-04-04T22:21:35.078587Z",
     "iopub.status.busy": "2021-04-04T22:21:35.077892Z",
     "iopub.status.idle": "2021-04-04T22:21:35.106562Z",
     "shell.execute_reply": "2021-04-04T22:21:35.107072Z"
    },
    "papermill": {
     "duration": 0.057316,
     "end_time": "2021-04-04T22:21:35.107223",
     "exception": false,
     "start_time": "2021-04-04T22:21:35.049907",
     "status": "completed"
    },
    "tags": []
   },
   "outputs": [],
   "source": [
    "from sklearn.model_selection import train_test_split"
   ]
  },
  {
   "cell_type": "code",
   "execution_count": 15,
   "id": "274004ce",
   "metadata": {
    "execution": {
     "iopub.execute_input": "2021-04-04T22:21:35.157035Z",
     "iopub.status.busy": "2021-04-04T22:21:35.156014Z",
     "iopub.status.idle": "2021-04-04T22:21:35.161383Z",
     "shell.execute_reply": "2021-04-04T22:21:35.160739Z"
    },
    "papermill": {
     "duration": 0.031563,
     "end_time": "2021-04-04T22:21:35.161512",
     "exception": false,
     "start_time": "2021-04-04T22:21:35.129949",
     "status": "completed"
    },
    "scrolled": true,
    "tags": []
   },
   "outputs": [],
   "source": [
    "inlier, outlier = working_df[working_df['defects'] == 0], working_df[working_df['defects'] == 1]"
   ]
  },
  {
   "cell_type": "code",
   "execution_count": 16,
   "id": "753c7b03",
   "metadata": {
    "execution": {
     "iopub.execute_input": "2021-04-04T22:21:35.213534Z",
     "iopub.status.busy": "2021-04-04T22:21:35.212728Z",
     "iopub.status.idle": "2021-04-04T22:21:35.215820Z",
     "shell.execute_reply": "2021-04-04T22:21:35.215296Z"
    },
    "papermill": {
     "duration": 0.03143,
     "end_time": "2021-04-04T22:21:35.215943",
     "exception": false,
     "start_time": "2021-04-04T22:21:35.184513",
     "status": "completed"
    },
    "tags": []
   },
   "outputs": [],
   "source": [
    "X_inlier = inlier.copy()\n",
    "y_inlier = X_inlier.pop('defects')\n",
    "X_outlier = outlier.copy()\n",
    "y_outlier = X_outlier.pop('defects')"
   ]
  },
  {
   "cell_type": "code",
   "execution_count": 17,
   "id": "2ba43193",
   "metadata": {
    "execution": {
     "iopub.execute_input": "2021-04-04T22:21:35.267288Z",
     "iopub.status.busy": "2021-04-04T22:21:35.265735Z",
     "iopub.status.idle": "2021-04-04T22:21:35.270088Z",
     "shell.execute_reply": "2021-04-04T22:21:35.270631Z"
    },
    "papermill": {
     "duration": 0.032147,
     "end_time": "2021-04-04T22:21:35.270794",
     "exception": false,
     "start_time": "2021-04-04T22:21:35.238647",
     "status": "completed"
    },
    "tags": []
   },
   "outputs": [],
   "source": [
    "test_size = dataset_config['test_size']\n",
    "random_state = dataset_config['random_state']\n",
    "\n",
    "X_inlier_train, X_inlier_test, y_inlier_train, y_inlier_test = train_test_split(\n",
    "    X_inlier,\n",
    "    y_inlier,\n",
    "    test_size=test_size,\n",
    "    random_state=random_state\n",
    ")"
   ]
  },
  {
   "cell_type": "code",
   "execution_count": 18,
   "id": "c8b58ec3",
   "metadata": {
    "execution": {
     "iopub.execute_input": "2021-04-04T22:21:35.330303Z",
     "iopub.status.busy": "2021-04-04T22:21:35.329500Z",
     "iopub.status.idle": "2021-04-04T22:21:35.331665Z",
     "shell.execute_reply": "2021-04-04T22:21:35.332168Z"
    },
    "papermill": {
     "duration": 0.035674,
     "end_time": "2021-04-04T22:21:35.332321",
     "exception": false,
     "start_time": "2021-04-04T22:21:35.296647",
     "status": "completed"
    },
    "tags": []
   },
   "outputs": [],
   "source": [
    "test_outlier_size = dataset_config['test_outlier_size']\n",
    "if test_outlier_size > 0.0:\n",
    "    X_outlier_train, X_outlier_test, y_outlier_train, y_outlier_test = train_test_split(\n",
    "        X_outlier,\n",
    "        y_outlier,\n",
    "        test_size=test_outlier_size,\n",
    "        random_state=random_state\n",
    "    )\n",
    "else:\n",
    "    X_outlier_train, y_outlier_train = pd.DataFrame(columns=X_outlier.columns), pd.Series(dtype='int64')\n",
    "    X_outlier_test, y_outlier_test = X_outlier.copy(), y_outlier.copy()"
   ]
  },
  {
   "cell_type": "code",
   "execution_count": 19,
   "id": "95991685",
   "metadata": {
    "execution": {
     "iopub.execute_input": "2021-04-04T22:21:35.393564Z",
     "iopub.status.busy": "2021-04-04T22:21:35.391531Z",
     "iopub.status.idle": "2021-04-04T22:21:35.396131Z",
     "shell.execute_reply": "2021-04-04T22:21:35.396615Z"
    },
    "papermill": {
     "duration": 0.036067,
     "end_time": "2021-04-04T22:21:35.396784",
     "exception": false,
     "start_time": "2021-04-04T22:21:35.360717",
     "status": "completed"
    },
    "tags": []
   },
   "outputs": [],
   "source": [
    "X_train, y_train = pd.concat([X_inlier_train, X_outlier_train], ignore_index=True), pd.concat([y_inlier_train, y_outlier_train], ignore_index=True)\n",
    "X_test, y_test = pd.concat([X_inlier_test, X_outlier_test], ignore_index=True), pd.concat([y_inlier_test, y_outlier_test], ignore_index=True)"
   ]
  },
  {
   "cell_type": "markdown",
   "id": "7cde7309",
   "metadata": {
    "papermill": {
     "duration": 0.023638,
     "end_time": "2021-04-04T22:21:35.442758",
     "exception": false,
     "start_time": "2021-04-04T22:21:35.419120",
     "status": "completed"
    },
    "tags": []
   },
   "source": [
    "# Model"
   ]
  },
  {
   "cell_type": "code",
   "execution_count": 20,
   "id": "a02c5c85",
   "metadata": {
    "execution": {
     "iopub.execute_input": "2021-04-04T22:21:35.497105Z",
     "iopub.status.busy": "2021-04-04T22:21:35.496339Z",
     "iopub.status.idle": "2021-04-04T22:21:35.498145Z",
     "shell.execute_reply": "2021-04-04T22:21:35.498618Z"
    },
    "papermill": {
     "duration": 0.033203,
     "end_time": "2021-04-04T22:21:35.498764",
     "exception": false,
     "start_time": "2021-04-04T22:21:35.465561",
     "status": "completed"
    },
    "tags": []
   },
   "outputs": [],
   "source": [
    "from math import sqrt\n",
    "\n",
    "\n",
    "class KNNDataDescription:\n",
    "    def __init__(self, k=5, outlier_threshold=1.0):\n",
    "        self.k = k\n",
    "        self.outlier_threshold = outlier_threshold\n",
    "        self.X = []\n",
    "    \n",
    "    def fit(self, X):\n",
    "        self.X = [features.to_list() for index, features in X.iterrows()]\n",
    "\n",
    "    def predict(self, entries):\n",
    "        return [self.predict_entry(features.to_list()) for index, features in entries.iterrows()]\n",
    "    \n",
    "    def predict_entry(self, entry):\n",
    "        kth_neighbor, kth_distance = self.get_kth_neighbor(entry, self.k)\n",
    "        kth_kth_neighbor, kth_kth_distance = self.get_kth_neighbor(kth_neighbor, self.k + 1)\n",
    "\n",
    "        outlier_score = kth_distance / (kth_kth_distance + 0.000001)\n",
    "\n",
    "        return 1 if outlier_score < self.outlier_threshold else -1\n",
    "        \n",
    "    def euclidean_distance(self, features1, features2):\n",
    "        distance = 0.0\n",
    "        for feat1, feat2 in zip(features1, features2):\n",
    "            distance += (feat1 - feat2)**2\n",
    "                \n",
    "        return sqrt(distance)\n",
    "\n",
    "    def get_neighbors(self, entry, k):\n",
    "        distance_to_data_points = [\n",
    "            (data_point, self.euclidean_distance(entry, data_point))\n",
    "            for data_point in self.X\n",
    "        ]\n",
    "        sorted_by_distance = sorted(distance_to_data_points, key=lambda tup: tup[1])\n",
    "        neighbors = sorted_by_distance[:k]\n",
    "        return neighbors\n",
    "\n",
    "    def get_kth_neighbor(self, entry, k):\n",
    "        neighbors = self.get_neighbors(entry, k)\n",
    "        return neighbors[-1]\n"
   ]
  },
  {
   "cell_type": "code",
   "execution_count": 21,
   "id": "1fa9ec1c",
   "metadata": {
    "execution": {
     "iopub.execute_input": "2021-04-04T22:21:35.550709Z",
     "iopub.status.busy": "2021-04-04T22:21:35.549984Z",
     "iopub.status.idle": "2021-04-04T22:21:35.569144Z",
     "shell.execute_reply": "2021-04-04T22:21:35.569647Z"
    },
    "papermill": {
     "duration": 0.047803,
     "end_time": "2021-04-04T22:21:35.569800",
     "exception": false,
     "start_time": "2021-04-04T22:21:35.521997",
     "status": "completed"
    },
    "tags": []
   },
   "outputs": [],
   "source": [
    "from sklearn.svm import OneClassSVM\n",
    "\n",
    "\n",
    "models = {\n",
    "    'oneclasssvm': OneClassSVM,\n",
    "    'knndatadescription': KNNDataDescription,\n",
    "}"
   ]
  },
  {
   "cell_type": "code",
   "execution_count": 22,
   "id": "4d72a0b1",
   "metadata": {
    "execution": {
     "iopub.execute_input": "2021-04-04T22:21:35.622359Z",
     "iopub.status.busy": "2021-04-04T22:21:35.621438Z",
     "iopub.status.idle": "2021-04-04T22:21:35.623645Z",
     "shell.execute_reply": "2021-04-04T22:21:35.624125Z"
    },
    "papermill": {
     "duration": 0.02975,
     "end_time": "2021-04-04T22:21:35.624270",
     "exception": false,
     "start_time": "2021-04-04T22:21:35.594520",
     "status": "completed"
    },
    "scrolled": true,
    "tags": []
   },
   "outputs": [],
   "source": [
    "model_cls = models[model_config['model_type']]\n",
    "model = model_cls(**model_config['hyperparameters'])"
   ]
  },
  {
   "cell_type": "markdown",
   "id": "e00cff3b",
   "metadata": {
    "papermill": {
     "duration": 0.023306,
     "end_time": "2021-04-04T22:21:35.671318",
     "exception": false,
     "start_time": "2021-04-04T22:21:35.648012",
     "status": "completed"
    },
    "tags": []
   },
   "source": [
    "# Fit"
   ]
  },
  {
   "cell_type": "code",
   "execution_count": 23,
   "id": "8b2ded89",
   "metadata": {
    "execution": {
     "iopub.execute_input": "2021-04-04T22:21:35.720973Z",
     "iopub.status.busy": "2021-04-04T22:21:35.720168Z",
     "iopub.status.idle": "2021-04-04T22:21:35.780570Z",
     "shell.execute_reply": "2021-04-04T22:21:35.779958Z"
    },
    "papermill": {
     "duration": 0.086837,
     "end_time": "2021-04-04T22:21:35.780691",
     "exception": false,
     "start_time": "2021-04-04T22:21:35.693854",
     "status": "completed"
    },
    "tags": []
   },
   "outputs": [],
   "source": [
    "model.fit(X_train)"
   ]
  },
  {
   "cell_type": "markdown",
   "id": "f99999f7",
   "metadata": {
    "papermill": {
     "duration": 0.022996,
     "end_time": "2021-04-04T22:21:35.826448",
     "exception": false,
     "start_time": "2021-04-04T22:21:35.803452",
     "status": "completed"
    },
    "tags": []
   },
   "source": [
    "# Predict"
   ]
  },
  {
   "cell_type": "code",
   "execution_count": 24,
   "id": "6536fbf7",
   "metadata": {
    "execution": {
     "iopub.execute_input": "2021-04-04T22:21:35.917359Z",
     "iopub.status.busy": "2021-04-04T22:21:35.882094Z",
     "iopub.status.idle": "2021-04-04T22:21:38.667607Z",
     "shell.execute_reply": "2021-04-04T22:21:38.666501Z"
    },
    "papermill": {
     "duration": 2.818526,
     "end_time": "2021-04-04T22:21:38.667812",
     "exception": false,
     "start_time": "2021-04-04T22:21:35.849286",
     "status": "completed"
    },
    "tags": []
   },
   "outputs": [],
   "source": [
    "predictions = model.predict(X_test)"
   ]
  },
  {
   "cell_type": "markdown",
   "id": "aa1c9881",
   "metadata": {
    "papermill": {
     "duration": 0.024939,
     "end_time": "2021-04-04T22:21:38.719911",
     "exception": false,
     "start_time": "2021-04-04T22:21:38.694972",
     "status": "completed"
    },
    "tags": []
   },
   "source": [
    "# Evaluate"
   ]
  },
  {
   "cell_type": "code",
   "execution_count": 25,
   "id": "894f0f04",
   "metadata": {
    "execution": {
     "iopub.execute_input": "2021-04-04T22:21:38.779227Z",
     "iopub.status.busy": "2021-04-04T22:21:38.778551Z",
     "iopub.status.idle": "2021-04-04T22:21:38.780833Z",
     "shell.execute_reply": "2021-04-04T22:21:38.781422Z"
    },
    "papermill": {
     "duration": 0.035526,
     "end_time": "2021-04-04T22:21:38.781595",
     "exception": false,
     "start_time": "2021-04-04T22:21:38.746069",
     "status": "completed"
    },
    "tags": []
   },
   "outputs": [],
   "source": [
    "from sklearn.metrics import f1_score"
   ]
  },
  {
   "cell_type": "code",
   "execution_count": 26,
   "id": "211744d3",
   "metadata": {
    "execution": {
     "iopub.execute_input": "2021-04-04T22:21:38.841688Z",
     "iopub.status.busy": "2021-04-04T22:21:38.840846Z",
     "iopub.status.idle": "2021-04-04T22:21:38.843150Z",
     "shell.execute_reply": "2021-04-04T22:21:38.843642Z"
    },
    "papermill": {
     "duration": 0.033467,
     "end_time": "2021-04-04T22:21:38.843799",
     "exception": false,
     "start_time": "2021-04-04T22:21:38.810332",
     "status": "completed"
    },
    "tags": []
   },
   "outputs": [],
   "source": [
    "y_test = y_test.replace([0, 1], [1, -1])"
   ]
  },
  {
   "cell_type": "code",
   "execution_count": 27,
   "id": "d68a9204",
   "metadata": {
    "execution": {
     "iopub.execute_input": "2021-04-04T22:21:38.900543Z",
     "iopub.status.busy": "2021-04-04T22:21:38.899670Z",
     "iopub.status.idle": "2021-04-04T22:21:38.901939Z",
     "shell.execute_reply": "2021-04-04T22:21:38.902426Z"
    },
    "papermill": {
     "duration": 0.034726,
     "end_time": "2021-04-04T22:21:38.902574",
     "exception": false,
     "start_time": "2021-04-04T22:21:38.867848",
     "status": "completed"
    },
    "tags": []
   },
   "outputs": [],
   "source": [
    "def evaluate(truths, predictions, pos_label, neg_label):\n",
    "    TP = 0\n",
    "    FP = 0\n",
    "    TN = 0\n",
    "    FN = 0\n",
    "\n",
    "    for truth, pred in zip(truths, predictions): \n",
    "        if truth == pred == pos_label:\n",
    "           TP += 1\n",
    "        elif pred == pos_label and truth == neg_label:\n",
    "           FP += 1\n",
    "        elif truth == pred == neg_label:\n",
    "           TN += 1\n",
    "        elif pred == neg_label and truth == pos_label:\n",
    "           FN += 1\n",
    "        else:\n",
    "            __import__(\"ipdb\").set_trace()\n",
    "\n",
    "    precision = TP / (TP + FP)\n",
    "    sensitivity = TP / (TP + FN)\n",
    "    \n",
    "    return {\n",
    "        'true_pos': TP,\n",
    "        'false_pos': FP,\n",
    "        'false_neg': FN,\n",
    "        'true_neg': TN,\n",
    "        'precision': precision,\n",
    "        'sensitivity': sensitivity,\n",
    "        'f1': (2 * (precision * sensitivity)) / (precision + sensitivity)\n",
    "    }\n",
    "\n",
    "score = evaluate(y_test, predictions, pos_label=-1, neg_label=1)"
   ]
  },
  {
   "cell_type": "markdown",
   "id": "246fa8c7",
   "metadata": {
    "papermill": {
     "duration": 0.024042,
     "end_time": "2021-04-04T22:21:38.955740",
     "exception": false,
     "start_time": "2021-04-04T22:21:38.931698",
     "status": "completed"
    },
    "tags": []
   },
   "source": [
    "# Report"
   ]
  },
  {
   "cell_type": "code",
   "execution_count": 28,
   "id": "cfb47f85",
   "metadata": {
    "execution": {
     "iopub.execute_input": "2021-04-04T22:21:39.008710Z",
     "iopub.status.busy": "2021-04-04T22:21:39.007643Z",
     "iopub.status.idle": "2021-04-04T22:21:39.011011Z",
     "shell.execute_reply": "2021-04-04T22:21:39.011848Z"
    },
    "papermill": {
     "duration": 0.033485,
     "end_time": "2021-04-04T22:21:39.012079",
     "exception": false,
     "start_time": "2021-04-04T22:21:38.978594",
     "status": "completed"
    },
    "tags": []
   },
   "outputs": [],
   "source": [
    "import csv\n",
    "\n",
    "\n",
    "dataset_config_name = DATASET_CONFIG_PATH.split('/')[-1].split('.')[0]\n",
    "model_config_name = MODEL_CONFIG_PATH.split('/')[-1].split('.')[0]\n",
    "configuration = f\"dataset_{dataset_config_name}-model_{model_config_name}\"\n",
    "\n",
    "with open('results.csv', 'a') as f:\n",
    "    report = dict({'configuration': configuration}, **score)\n",
    "    writer = csv.DictWriter(f, report.keys())\n",
    "    writer.writerow(report)"
   ]
  }
 ],
 "metadata": {
  "celltoolbar": "Tags",
  "kernelspec": {
   "display_name": "Python 3",
   "language": "python",
   "name": "python3"
  },
  "language_info": {
   "codemirror_mode": {
    "name": "ipython",
    "version": 3
   },
   "file_extension": ".py",
   "mimetype": "text/x-python",
   "name": "python",
   "nbconvert_exporter": "python",
   "pygments_lexer": "ipython3",
   "version": "3.9.1"
  },
  "papermill": {
   "default_parameters": {},
   "duration": 7.629403,
   "end_time": "2021-04-04T22:21:39.647979",
   "environment_variables": {},
   "exception": null,
   "input_path": "main.ipynb",
   "output_path": "runs/dataset_000001-model_000002.ipynb",
   "parameters": {
    "DATASET_CONFIG_PATH": "config/dataset/000001.json",
    "MODEL_CONFIG_PATH": "config/model/000002.json",
    "PROFILE_REPORTING": false
   },
   "start_time": "2021-04-04T22:21:32.018576",
   "version": "2.3.3"
  }
 },
 "nbformat": 4,
 "nbformat_minor": 5
}