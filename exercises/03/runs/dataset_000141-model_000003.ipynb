{
 "cells": [
  {
   "cell_type": "markdown",
   "id": "51c71c25",
   "metadata": {
    "papermill": {
     "duration": 0.025659,
     "end_time": "2021-04-04T23:29:58.847068",
     "exception": false,
     "start_time": "2021-04-04T23:29:58.821409",
     "status": "completed"
    },
    "tags": []
   },
   "source": [
    "# Parametrizing"
   ]
  },
  {
   "cell_type": "code",
   "execution_count": 1,
   "id": "3b136394",
   "metadata": {
    "execution": {
     "iopub.execute_input": "2021-04-04T23:29:58.901005Z",
     "iopub.status.busy": "2021-04-04T23:29:58.900352Z",
     "iopub.status.idle": "2021-04-04T23:29:58.902330Z",
     "shell.execute_reply": "2021-04-04T23:29:58.902832Z"
    },
    "papermill": {
     "duration": 0.035693,
     "end_time": "2021-04-04T23:29:58.903038",
     "exception": false,
     "start_time": "2021-04-04T23:29:58.867345",
     "status": "completed"
    },
    "tags": [
     "parameters"
    ]
   },
   "outputs": [],
   "source": [
    "DATASET_CONFIG_PATH = 'config/dataset/kc1_001.json'\n",
    "MODEL_CONFIG_PATH = 'config/model/knndd_001.json'\n",
    "PROFILE_REPORTING = False"
   ]
  },
  {
   "cell_type": "code",
   "execution_count": 2,
   "id": "2144189d",
   "metadata": {
    "execution": {
     "iopub.execute_input": "2021-04-04T23:29:58.955131Z",
     "iopub.status.busy": "2021-04-04T23:29:58.953507Z",
     "iopub.status.idle": "2021-04-04T23:29:58.956520Z",
     "shell.execute_reply": "2021-04-04T23:29:58.957128Z"
    },
    "papermill": {
     "duration": 0.0325,
     "end_time": "2021-04-04T23:29:58.957354",
     "exception": false,
     "start_time": "2021-04-04T23:29:58.924854",
     "status": "completed"
    },
    "tags": [
     "injected-parameters"
    ]
   },
   "outputs": [],
   "source": [
    "# Parameters\n",
    "DATASET_CONFIG_PATH = \"config/dataset/000141.json\"\n",
    "MODEL_CONFIG_PATH = \"config/model/000003.json\"\n",
    "PROFILE_REPORTING = False\n"
   ]
  },
  {
   "cell_type": "code",
   "execution_count": 3,
   "id": "b80f2a10",
   "metadata": {
    "execution": {
     "iopub.execute_input": "2021-04-04T23:29:59.011554Z",
     "iopub.status.busy": "2021-04-04T23:29:59.009163Z",
     "iopub.status.idle": "2021-04-04T23:29:59.013588Z",
     "shell.execute_reply": "2021-04-04T23:29:59.014095Z"
    },
    "papermill": {
     "duration": 0.03572,
     "end_time": "2021-04-04T23:29:59.014251",
     "exception": false,
     "start_time": "2021-04-04T23:29:58.978531",
     "status": "completed"
    },
    "tags": []
   },
   "outputs": [],
   "source": [
    "import json\n",
    "\n",
    "\n",
    "with open(DATASET_CONFIG_PATH) as f:\n",
    "    dataset_config = json.load(f)\n",
    "\n",
    "with open(MODEL_CONFIG_PATH) as f:\n",
    "    model_config = json.load(f)"
   ]
  },
  {
   "cell_type": "markdown",
   "id": "9a4b0e2d",
   "metadata": {
    "papermill": {
     "duration": 0.020324,
     "end_time": "2021-04-04T23:29:59.058916",
     "exception": false,
     "start_time": "2021-04-04T23:29:59.038592",
     "status": "completed"
    },
    "tags": []
   },
   "source": [
    "# Profiling"
   ]
  },
  {
   "cell_type": "code",
   "execution_count": 4,
   "id": "a3e0289b",
   "metadata": {
    "execution": {
     "iopub.execute_input": "2021-04-04T23:29:59.109054Z",
     "iopub.status.busy": "2021-04-04T23:29:59.108273Z",
     "iopub.status.idle": "2021-04-04T23:30:00.544506Z",
     "shell.execute_reply": "2021-04-04T23:30:00.544986Z"
    },
    "papermill": {
     "duration": 1.465653,
     "end_time": "2021-04-04T23:30:00.545132",
     "exception": false,
     "start_time": "2021-04-04T23:29:59.079479",
     "status": "completed"
    },
    "tags": []
   },
   "outputs": [],
   "source": [
    "import pandas as pd\n",
    "from pandas_profiling import ProfileReport"
   ]
  },
  {
   "cell_type": "code",
   "execution_count": 5,
   "id": "ee6c0666",
   "metadata": {
    "execution": {
     "iopub.execute_input": "2021-04-04T23:30:00.591043Z",
     "iopub.status.busy": "2021-04-04T23:30:00.590389Z",
     "iopub.status.idle": "2021-04-04T23:30:00.598646Z",
     "shell.execute_reply": "2021-04-04T23:30:00.599179Z"
    },
    "papermill": {
     "duration": 0.033384,
     "end_time": "2021-04-04T23:30:00.599335",
     "exception": false,
     "start_time": "2021-04-04T23:30:00.565951",
     "status": "completed"
    },
    "tags": []
   },
   "outputs": [],
   "source": [
    "df = pd.read_csv(dataset_config['dataset_path'])"
   ]
  },
  {
   "cell_type": "code",
   "execution_count": 6,
   "id": "7eca6c4a",
   "metadata": {
    "execution": {
     "iopub.execute_input": "2021-04-04T23:30:00.701892Z",
     "iopub.status.busy": "2021-04-04T23:30:00.700186Z",
     "iopub.status.idle": "2021-04-04T23:30:00.704249Z",
     "shell.execute_reply": "2021-04-04T23:30:00.705032Z"
    },
    "papermill": {
     "duration": 0.067653,
     "end_time": "2021-04-04T23:30:00.705350",
     "exception": false,
     "start_time": "2021-04-04T23:30:00.637697",
     "status": "completed"
    },
    "tags": []
   },
   "outputs": [
    {
     "name": "stdout",
     "output_type": "stream",
     "text": [
      "<class 'pandas.core.frame.DataFrame'>\n",
      "RangeIndex: 498 entries, 0 to 497\n",
      "Data columns (total 23 columns):\n",
      " #   Column             Non-Null Count  Dtype  \n",
      "---  ------             --------------  -----  \n",
      " 0   id                 498 non-null    int64  \n",
      " 1   loc                498 non-null    float64\n",
      " 2   v(g)               498 non-null    float64\n",
      " 3   ev(g)              498 non-null    float64\n",
      " 4   iv(g)              498 non-null    float64\n",
      " 5   n                  498 non-null    float64\n",
      " 6   v                  498 non-null    float64\n",
      " 7   l                  498 non-null    float64\n",
      " 8   d                  498 non-null    float64\n",
      " 9   i                  498 non-null    float64\n",
      " 10  e                  498 non-null    float64\n",
      " 11  b                  498 non-null    float64\n",
      " 12  t                  498 non-null    float64\n",
      " 13  lOCode             498 non-null    int64  \n",
      " 14  lOComment          498 non-null    int64  \n",
      " 15  lOBlank            498 non-null    int64  \n",
      " 16  locCodeAndComment  498 non-null    int64  \n",
      " 17  uniq_Op            498 non-null    float64\n",
      " 18  uniq_Opnd          498 non-null    float64\n",
      " 19  total_Op           498 non-null    float64\n",
      " 20  total_Opnd         498 non-null    float64\n",
      " 21  branchCount        498 non-null    float64\n",
      " 22  defects            498 non-null    bool   \n",
      "dtypes: bool(1), float64(17), int64(5)\n",
      "memory usage: 86.2 KB\n"
     ]
    }
   ],
   "source": [
    "df.info()"
   ]
  },
  {
   "cell_type": "code",
   "execution_count": 7,
   "id": "3638e5e8",
   "metadata": {
    "execution": {
     "iopub.execute_input": "2021-04-04T23:30:00.766213Z",
     "iopub.status.busy": "2021-04-04T23:30:00.765181Z",
     "iopub.status.idle": "2021-04-04T23:30:00.793081Z",
     "shell.execute_reply": "2021-04-04T23:30:00.792562Z"
    },
    "papermill": {
     "duration": 0.062506,
     "end_time": "2021-04-04T23:30:00.793202",
     "exception": false,
     "start_time": "2021-04-04T23:30:00.730696",
     "status": "completed"
    },
    "tags": []
   },
   "outputs": [
    {
     "data": {
      "text/html": [
       "<div>\n",
       "<style scoped>\n",
       "    .dataframe tbody tr th:only-of-type {\n",
       "        vertical-align: middle;\n",
       "    }\n",
       "\n",
       "    .dataframe tbody tr th {\n",
       "        vertical-align: top;\n",
       "    }\n",
       "\n",
       "    .dataframe thead th {\n",
       "        text-align: right;\n",
       "    }\n",
       "</style>\n",
       "<table border=\"1\" class=\"dataframe\">\n",
       "  <thead>\n",
       "    <tr style=\"text-align: right;\">\n",
       "      <th></th>\n",
       "      <th>id</th>\n",
       "      <th>loc</th>\n",
       "      <th>v(g)</th>\n",
       "      <th>ev(g)</th>\n",
       "      <th>iv(g)</th>\n",
       "      <th>n</th>\n",
       "      <th>v</th>\n",
       "      <th>l</th>\n",
       "      <th>d</th>\n",
       "      <th>i</th>\n",
       "      <th>...</th>\n",
       "      <th>lOCode</th>\n",
       "      <th>lOComment</th>\n",
       "      <th>lOBlank</th>\n",
       "      <th>locCodeAndComment</th>\n",
       "      <th>uniq_Op</th>\n",
       "      <th>uniq_Opnd</th>\n",
       "      <th>total_Op</th>\n",
       "      <th>total_Opnd</th>\n",
       "      <th>branchCount</th>\n",
       "      <th>defects</th>\n",
       "    </tr>\n",
       "  </thead>\n",
       "  <tbody>\n",
       "    <tr>\n",
       "      <th>0</th>\n",
       "      <td>1</td>\n",
       "      <td>1.1</td>\n",
       "      <td>1.4</td>\n",
       "      <td>1.4</td>\n",
       "      <td>1.4</td>\n",
       "      <td>1.3</td>\n",
       "      <td>1.30</td>\n",
       "      <td>1.30</td>\n",
       "      <td>1.30</td>\n",
       "      <td>1.30</td>\n",
       "      <td>...</td>\n",
       "      <td>2</td>\n",
       "      <td>2</td>\n",
       "      <td>2</td>\n",
       "      <td>2</td>\n",
       "      <td>1.2</td>\n",
       "      <td>1.2</td>\n",
       "      <td>1.2</td>\n",
       "      <td>1.2</td>\n",
       "      <td>1.4</td>\n",
       "      <td>False</td>\n",
       "    </tr>\n",
       "    <tr>\n",
       "      <th>1</th>\n",
       "      <td>2</td>\n",
       "      <td>1.0</td>\n",
       "      <td>1.0</td>\n",
       "      <td>1.0</td>\n",
       "      <td>1.0</td>\n",
       "      <td>1.0</td>\n",
       "      <td>1.00</td>\n",
       "      <td>1.00</td>\n",
       "      <td>1.00</td>\n",
       "      <td>1.00</td>\n",
       "      <td>...</td>\n",
       "      <td>1</td>\n",
       "      <td>1</td>\n",
       "      <td>1</td>\n",
       "      <td>1</td>\n",
       "      <td>1.0</td>\n",
       "      <td>1.0</td>\n",
       "      <td>1.0</td>\n",
       "      <td>1.0</td>\n",
       "      <td>1.0</td>\n",
       "      <td>True</td>\n",
       "    </tr>\n",
       "    <tr>\n",
       "      <th>2</th>\n",
       "      <td>3</td>\n",
       "      <td>24.0</td>\n",
       "      <td>5.0</td>\n",
       "      <td>1.0</td>\n",
       "      <td>3.0</td>\n",
       "      <td>63.0</td>\n",
       "      <td>309.13</td>\n",
       "      <td>0.11</td>\n",
       "      <td>9.50</td>\n",
       "      <td>32.54</td>\n",
       "      <td>...</td>\n",
       "      <td>1</td>\n",
       "      <td>0</td>\n",
       "      <td>6</td>\n",
       "      <td>0</td>\n",
       "      <td>15.0</td>\n",
       "      <td>15.0</td>\n",
       "      <td>44.0</td>\n",
       "      <td>19.0</td>\n",
       "      <td>9.0</td>\n",
       "      <td>False</td>\n",
       "    </tr>\n",
       "    <tr>\n",
       "      <th>3</th>\n",
       "      <td>4</td>\n",
       "      <td>20.0</td>\n",
       "      <td>4.0</td>\n",
       "      <td>4.0</td>\n",
       "      <td>2.0</td>\n",
       "      <td>47.0</td>\n",
       "      <td>215.49</td>\n",
       "      <td>0.06</td>\n",
       "      <td>16.00</td>\n",
       "      <td>13.47</td>\n",
       "      <td>...</td>\n",
       "      <td>0</td>\n",
       "      <td>0</td>\n",
       "      <td>3</td>\n",
       "      <td>0</td>\n",
       "      <td>16.0</td>\n",
       "      <td>8.0</td>\n",
       "      <td>31.0</td>\n",
       "      <td>16.0</td>\n",
       "      <td>7.0</td>\n",
       "      <td>False</td>\n",
       "    </tr>\n",
       "    <tr>\n",
       "      <th>4</th>\n",
       "      <td>5</td>\n",
       "      <td>24.0</td>\n",
       "      <td>6.0</td>\n",
       "      <td>6.0</td>\n",
       "      <td>2.0</td>\n",
       "      <td>72.0</td>\n",
       "      <td>346.13</td>\n",
       "      <td>0.06</td>\n",
       "      <td>17.33</td>\n",
       "      <td>19.97</td>\n",
       "      <td>...</td>\n",
       "      <td>0</td>\n",
       "      <td>0</td>\n",
       "      <td>3</td>\n",
       "      <td>0</td>\n",
       "      <td>16.0</td>\n",
       "      <td>12.0</td>\n",
       "      <td>46.0</td>\n",
       "      <td>26.0</td>\n",
       "      <td>11.0</td>\n",
       "      <td>False</td>\n",
       "    </tr>\n",
       "  </tbody>\n",
       "</table>\n",
       "<p>5 rows × 23 columns</p>\n",
       "</div>"
      ],
      "text/plain": [
       "   id   loc  v(g)  ev(g)  iv(g)     n       v     l      d      i  ...  \\\n",
       "0   1   1.1   1.4    1.4    1.4   1.3    1.30  1.30   1.30   1.30  ...   \n",
       "1   2   1.0   1.0    1.0    1.0   1.0    1.00  1.00   1.00   1.00  ...   \n",
       "2   3  24.0   5.0    1.0    3.0  63.0  309.13  0.11   9.50  32.54  ...   \n",
       "3   4  20.0   4.0    4.0    2.0  47.0  215.49  0.06  16.00  13.47  ...   \n",
       "4   5  24.0   6.0    6.0    2.0  72.0  346.13  0.06  17.33  19.97  ...   \n",
       "\n",
       "   lOCode  lOComment  lOBlank  locCodeAndComment  uniq_Op  uniq_Opnd  \\\n",
       "0       2          2        2                  2      1.2        1.2   \n",
       "1       1          1        1                  1      1.0        1.0   \n",
       "2       1          0        6                  0     15.0       15.0   \n",
       "3       0          0        3                  0     16.0        8.0   \n",
       "4       0          0        3                  0     16.0       12.0   \n",
       "\n",
       "   total_Op  total_Opnd  branchCount  defects  \n",
       "0       1.2         1.2          1.4    False  \n",
       "1       1.0         1.0          1.0     True  \n",
       "2      44.0        19.0          9.0    False  \n",
       "3      31.0        16.0          7.0    False  \n",
       "4      46.0        26.0         11.0    False  \n",
       "\n",
       "[5 rows x 23 columns]"
      ]
     },
     "execution_count": 7,
     "metadata": {},
     "output_type": "execute_result"
    }
   ],
   "source": [
    "df.head()"
   ]
  },
  {
   "cell_type": "code",
   "execution_count": 8,
   "id": "733e95eb",
   "metadata": {
    "execution": {
     "iopub.execute_input": "2021-04-04T23:30:00.847049Z",
     "iopub.status.busy": "2021-04-04T23:30:00.845444Z",
     "iopub.status.idle": "2021-04-04T23:30:00.848831Z",
     "shell.execute_reply": "2021-04-04T23:30:00.849627Z"
    },
    "papermill": {
     "duration": 0.034737,
     "end_time": "2021-04-04T23:30:00.849828",
     "exception": false,
     "start_time": "2021-04-04T23:30:00.815091",
     "status": "completed"
    },
    "tags": []
   },
   "outputs": [],
   "source": [
    "del df['id']"
   ]
  },
  {
   "cell_type": "code",
   "execution_count": 9,
   "id": "6ff6f5b0",
   "metadata": {
    "execution": {
     "iopub.execute_input": "2021-04-04T23:30:00.899279Z",
     "iopub.status.busy": "2021-04-04T23:30:00.898573Z",
     "iopub.status.idle": "2021-04-04T23:30:00.901644Z",
     "shell.execute_reply": "2021-04-04T23:30:00.900739Z"
    },
    "papermill": {
     "duration": 0.028916,
     "end_time": "2021-04-04T23:30:00.901965",
     "exception": false,
     "start_time": "2021-04-04T23:30:00.873049",
     "status": "completed"
    },
    "tags": []
   },
   "outputs": [],
   "source": [
    "if PROFILE_REPORTING:\n",
    "    ProfileReport(df).to_widgets()"
   ]
  },
  {
   "cell_type": "markdown",
   "id": "1deaf3f0",
   "metadata": {
    "papermill": {
     "duration": 0.027412,
     "end_time": "2021-04-04T23:30:00.952624",
     "exception": false,
     "start_time": "2021-04-04T23:30:00.925212",
     "status": "completed"
    },
    "tags": []
   },
   "source": [
    "# Preprocess"
   ]
  },
  {
   "cell_type": "code",
   "execution_count": 10,
   "id": "1513e563",
   "metadata": {
    "execution": {
     "iopub.execute_input": "2021-04-04T23:30:01.005214Z",
     "iopub.status.busy": "2021-04-04T23:30:01.004125Z",
     "iopub.status.idle": "2021-04-04T23:30:01.006172Z",
     "shell.execute_reply": "2021-04-04T23:30:01.006772Z"
    },
    "papermill": {
     "duration": 0.030177,
     "end_time": "2021-04-04T23:30:01.006939",
     "exception": false,
     "start_time": "2021-04-04T23:30:00.976762",
     "status": "completed"
    },
    "tags": []
   },
   "outputs": [],
   "source": [
    "working_df = df.copy()"
   ]
  },
  {
   "cell_type": "code",
   "execution_count": 11,
   "id": "3b26d675",
   "metadata": {
    "execution": {
     "iopub.execute_input": "2021-04-04T23:30:01.083254Z",
     "iopub.status.busy": "2021-04-04T23:30:01.078686Z",
     "iopub.status.idle": "2021-04-04T23:30:01.084438Z",
     "shell.execute_reply": "2021-04-04T23:30:01.085077Z"
    },
    "papermill": {
     "duration": 0.055885,
     "end_time": "2021-04-04T23:30:01.085353",
     "exception": false,
     "start_time": "2021-04-04T23:30:01.029468",
     "status": "completed"
    },
    "tags": []
   },
   "outputs": [],
   "source": [
    "working_df['defects'] = working_df['defects'].replace([False, True], [0, 1])"
   ]
  },
  {
   "cell_type": "code",
   "execution_count": 12,
   "id": "eb48604f",
   "metadata": {
    "execution": {
     "iopub.execute_input": "2021-04-04T23:30:01.144728Z",
     "iopub.status.busy": "2021-04-04T23:30:01.144119Z",
     "iopub.status.idle": "2021-04-04T23:30:01.146683Z",
     "shell.execute_reply": "2021-04-04T23:30:01.147432Z"
    },
    "papermill": {
     "duration": 0.033191,
     "end_time": "2021-04-04T23:30:01.147626",
     "exception": false,
     "start_time": "2021-04-04T23:30:01.114435",
     "status": "completed"
    },
    "tags": []
   },
   "outputs": [],
   "source": [
    "for col in dataset_config['delete_columns']:\n",
    "    del working_df[col]"
   ]
  },
  {
   "cell_type": "code",
   "execution_count": 13,
   "id": "9a17bc29",
   "metadata": {
    "execution": {
     "iopub.execute_input": "2021-04-04T23:30:01.226109Z",
     "iopub.status.busy": "2021-04-04T23:30:01.225024Z",
     "iopub.status.idle": "2021-04-04T23:30:01.234844Z",
     "shell.execute_reply": "2021-04-04T23:30:01.234160Z"
    },
    "papermill": {
     "duration": 0.060185,
     "end_time": "2021-04-04T23:30:01.235095",
     "exception": false,
     "start_time": "2021-04-04T23:30:01.174910",
     "status": "completed"
    },
    "tags": []
   },
   "outputs": [],
   "source": [
    "working_df = working_df.drop_duplicates()"
   ]
  },
  {
   "cell_type": "markdown",
   "id": "a4d52ca6",
   "metadata": {
    "papermill": {
     "duration": 0.02414,
     "end_time": "2021-04-04T23:30:01.290269",
     "exception": false,
     "start_time": "2021-04-04T23:30:01.266129",
     "status": "completed"
    },
    "tags": []
   },
   "source": [
    "# Split"
   ]
  },
  {
   "cell_type": "code",
   "execution_count": 14,
   "id": "3e9ee4b5",
   "metadata": {
    "execution": {
     "iopub.execute_input": "2021-04-04T23:30:01.348654Z",
     "iopub.status.busy": "2021-04-04T23:30:01.347048Z",
     "iopub.status.idle": "2021-04-04T23:30:01.410471Z",
     "shell.execute_reply": "2021-04-04T23:30:01.411013Z"
    },
    "papermill": {
     "duration": 0.098407,
     "end_time": "2021-04-04T23:30:01.411183",
     "exception": false,
     "start_time": "2021-04-04T23:30:01.312776",
     "status": "completed"
    },
    "tags": []
   },
   "outputs": [],
   "source": [
    "from sklearn.model_selection import train_test_split"
   ]
  },
  {
   "cell_type": "code",
   "execution_count": 15,
   "id": "274004ce",
   "metadata": {
    "execution": {
     "iopub.execute_input": "2021-04-04T23:30:01.482147Z",
     "iopub.status.busy": "2021-04-04T23:30:01.481218Z",
     "iopub.status.idle": "2021-04-04T23:30:01.485560Z",
     "shell.execute_reply": "2021-04-04T23:30:01.486035Z"
    },
    "papermill": {
     "duration": 0.038434,
     "end_time": "2021-04-04T23:30:01.486181",
     "exception": false,
     "start_time": "2021-04-04T23:30:01.447747",
     "status": "completed"
    },
    "scrolled": true,
    "tags": []
   },
   "outputs": [],
   "source": [
    "inlier, outlier = working_df[working_df['defects'] == 0], working_df[working_df['defects'] == 1]"
   ]
  },
  {
   "cell_type": "code",
   "execution_count": 16,
   "id": "753c7b03",
   "metadata": {
    "execution": {
     "iopub.execute_input": "2021-04-04T23:30:01.556988Z",
     "iopub.status.busy": "2021-04-04T23:30:01.555458Z",
     "iopub.status.idle": "2021-04-04T23:30:01.561712Z",
     "shell.execute_reply": "2021-04-04T23:30:01.561021Z"
    },
    "papermill": {
     "duration": 0.048243,
     "end_time": "2021-04-04T23:30:01.561895",
     "exception": false,
     "start_time": "2021-04-04T23:30:01.513652",
     "status": "completed"
    },
    "tags": []
   },
   "outputs": [],
   "source": [
    "X_inlier = inlier.copy()\n",
    "y_inlier = X_inlier.pop('defects')\n",
    "X_outlier = outlier.copy()\n",
    "y_outlier = X_outlier.pop('defects')"
   ]
  },
  {
   "cell_type": "code",
   "execution_count": 17,
   "id": "2ba43193",
   "metadata": {
    "execution": {
     "iopub.execute_input": "2021-04-04T23:30:01.624796Z",
     "iopub.status.busy": "2021-04-04T23:30:01.623987Z",
     "iopub.status.idle": "2021-04-04T23:30:01.625786Z",
     "shell.execute_reply": "2021-04-04T23:30:01.626261Z"
    },
    "papermill": {
     "duration": 0.035171,
     "end_time": "2021-04-04T23:30:01.626408",
     "exception": false,
     "start_time": "2021-04-04T23:30:01.591237",
     "status": "completed"
    },
    "tags": []
   },
   "outputs": [],
   "source": [
    "test_size = dataset_config['test_size']\n",
    "random_state = dataset_config['random_state']\n",
    "\n",
    "X_inlier_train, X_inlier_test, y_inlier_train, y_inlier_test = train_test_split(\n",
    "    X_inlier,\n",
    "    y_inlier,\n",
    "    test_size=test_size,\n",
    "    random_state=random_state\n",
    ")"
   ]
  },
  {
   "cell_type": "code",
   "execution_count": 18,
   "id": "0b7582ca",
   "metadata": {
    "execution": {
     "iopub.execute_input": "2021-04-04T23:30:01.692204Z",
     "iopub.status.busy": "2021-04-04T23:30:01.691127Z",
     "iopub.status.idle": "2021-04-04T23:30:01.694238Z",
     "shell.execute_reply": "2021-04-04T23:30:01.693651Z"
    },
    "papermill": {
     "duration": 0.040257,
     "end_time": "2021-04-04T23:30:01.694390",
     "exception": false,
     "start_time": "2021-04-04T23:30:01.654133",
     "status": "completed"
    },
    "tags": []
   },
   "outputs": [],
   "source": [
    "test_outlier_size = dataset_config['test_outlier_size']\n",
    "if test_outlier_size > 0.0:\n",
    "    X_outlier_train, X_outlier_test, y_outlier_train, y_outlier_test = train_test_split(\n",
    "        X_outlier,\n",
    "        y_outlier,\n",
    "        test_size=test_outlier_size,\n",
    "        random_state=random_state\n",
    "    )\n",
    "else:\n",
    "    X_outlier_train, y_outlier_train = pd.DataFrame(columns=X_outlier.columns), pd.Series(dtype='int64')\n",
    "    X_outlier_test, y_outlier_test = X_outlier.copy(), y_outlier.copy()"
   ]
  },
  {
   "cell_type": "code",
   "execution_count": 19,
   "id": "c34363db",
   "metadata": {
    "execution": {
     "iopub.execute_input": "2021-04-04T23:30:01.776635Z",
     "iopub.status.busy": "2021-04-04T23:30:01.767295Z",
     "iopub.status.idle": "2021-04-04T23:30:01.778000Z",
     "shell.execute_reply": "2021-04-04T23:30:01.778540Z"
    },
    "papermill": {
     "duration": 0.05814,
     "end_time": "2021-04-04T23:30:01.778703",
     "exception": false,
     "start_time": "2021-04-04T23:30:01.720563",
     "status": "completed"
    },
    "tags": []
   },
   "outputs": [],
   "source": [
    "X_train, y_train = pd.concat([X_inlier_train, X_outlier_train], ignore_index=True), pd.concat([y_inlier_train, y_outlier_train], ignore_index=True)\n",
    "X_test, y_test = pd.concat([X_inlier_test, X_outlier_test], ignore_index=True), pd.concat([y_inlier_test, y_outlier_test], ignore_index=True)"
   ]
  },
  {
   "cell_type": "markdown",
   "id": "7cde7309",
   "metadata": {
    "papermill": {
     "duration": 0.029158,
     "end_time": "2021-04-04T23:30:01.833623",
     "exception": false,
     "start_time": "2021-04-04T23:30:01.804465",
     "status": "completed"
    },
    "tags": []
   },
   "source": [
    "# Model"
   ]
  },
  {
   "cell_type": "code",
   "execution_count": 20,
   "id": "2b12a415",
   "metadata": {
    "execution": {
     "iopub.execute_input": "2021-04-04T23:30:01.896460Z",
     "iopub.status.busy": "2021-04-04T23:30:01.895720Z",
     "iopub.status.idle": "2021-04-04T23:30:01.898187Z",
     "shell.execute_reply": "2021-04-04T23:30:01.897617Z"
    },
    "papermill": {
     "duration": 0.03975,
     "end_time": "2021-04-04T23:30:01.898319",
     "exception": false,
     "start_time": "2021-04-04T23:30:01.858569",
     "status": "completed"
    },
    "tags": []
   },
   "outputs": [],
   "source": [
    "from math import sqrt\n",
    "\n",
    "\n",
    "class KNNDataDescription:\n",
    "    def __init__(self, k=5, outlier_threshold=1.0):\n",
    "        self.k = k\n",
    "        self.outlier_threshold = outlier_threshold\n",
    "        self.X = []\n",
    "    \n",
    "    def fit(self, X):\n",
    "        self.X = [features.to_list() for index, features in X.iterrows()]\n",
    "\n",
    "    def predict(self, entries):\n",
    "        return [self.predict_entry(features.to_list()) for index, features in entries.iterrows()]\n",
    "    \n",
    "    def predict_entry(self, entry):\n",
    "        kth_neighbor, kth_distance = self.get_kth_neighbor(entry, self.k)\n",
    "        kth_kth_neighbor, kth_kth_distance = self.get_kth_neighbor(kth_neighbor, self.k + 1)\n",
    "\n",
    "        outlier_score = kth_distance / (kth_kth_distance + 0.000001)\n",
    "\n",
    "        return 1 if outlier_score < self.outlier_threshold else -1\n",
    "        \n",
    "    def euclidean_distance(self, features1, features2):\n",
    "        distance = 0.0\n",
    "        for feat1, feat2 in zip(features1, features2):\n",
    "            distance += (feat1 - feat2)**2\n",
    "                \n",
    "        return sqrt(distance)\n",
    "\n",
    "    def get_neighbors(self, entry, k):\n",
    "        distance_to_data_points = [\n",
    "            (data_point, self.euclidean_distance(entry, data_point))\n",
    "            for data_point in self.X\n",
    "        ]\n",
    "        sorted_by_distance = sorted(distance_to_data_points, key=lambda tup: tup[1])\n",
    "        neighbors = sorted_by_distance[:k]\n",
    "        return neighbors\n",
    "\n",
    "    def get_kth_neighbor(self, entry, k):\n",
    "        neighbors = self.get_neighbors(entry, k)\n",
    "        return neighbors[-1]\n"
   ]
  },
  {
   "cell_type": "code",
   "execution_count": 21,
   "id": "1fa9ec1c",
   "metadata": {
    "execution": {
     "iopub.execute_input": "2021-04-04T23:30:01.957026Z",
     "iopub.status.busy": "2021-04-04T23:30:01.956005Z",
     "iopub.status.idle": "2021-04-04T23:30:01.975676Z",
     "shell.execute_reply": "2021-04-04T23:30:01.975154Z"
    },
    "papermill": {
     "duration": 0.053934,
     "end_time": "2021-04-04T23:30:01.975798",
     "exception": false,
     "start_time": "2021-04-04T23:30:01.921864",
     "status": "completed"
    },
    "tags": []
   },
   "outputs": [],
   "source": [
    "from sklearn.svm import OneClassSVM\n",
    "\n",
    "\n",
    "models = {\n",
    "    'oneclasssvm': OneClassSVM,\n",
    "    'knndatadescription': KNNDataDescription,\n",
    "}"
   ]
  },
  {
   "cell_type": "code",
   "execution_count": 22,
   "id": "4d72a0b1",
   "metadata": {
    "execution": {
     "iopub.execute_input": "2021-04-04T23:30:02.030950Z",
     "iopub.status.busy": "2021-04-04T23:30:02.030359Z",
     "iopub.status.idle": "2021-04-04T23:30:02.033059Z",
     "shell.execute_reply": "2021-04-04T23:30:02.033786Z"
    },
    "papermill": {
     "duration": 0.03102,
     "end_time": "2021-04-04T23:30:02.033978",
     "exception": false,
     "start_time": "2021-04-04T23:30:02.002958",
     "status": "completed"
    },
    "scrolled": true,
    "tags": []
   },
   "outputs": [],
   "source": [
    "model_cls = models[model_config['model_type']]\n",
    "model = model_cls(**model_config['hyperparameters'])"
   ]
  },
  {
   "cell_type": "markdown",
   "id": "e00cff3b",
   "metadata": {
    "papermill": {
     "duration": 0.02966,
     "end_time": "2021-04-04T23:30:02.088897",
     "exception": false,
     "start_time": "2021-04-04T23:30:02.059237",
     "status": "completed"
    },
    "tags": []
   },
   "source": [
    "# Fit"
   ]
  },
  {
   "cell_type": "code",
   "execution_count": 23,
   "id": "8b2ded89",
   "metadata": {
    "execution": {
     "iopub.execute_input": "2021-04-04T23:30:02.147471Z",
     "iopub.status.busy": "2021-04-04T23:30:02.146878Z",
     "iopub.status.idle": "2021-04-04T23:30:02.170852Z",
     "shell.execute_reply": "2021-04-04T23:30:02.171305Z"
    },
    "papermill": {
     "duration": 0.054391,
     "end_time": "2021-04-04T23:30:02.171446",
     "exception": false,
     "start_time": "2021-04-04T23:30:02.117055",
     "status": "completed"
    },
    "tags": []
   },
   "outputs": [],
   "source": [
    "model.fit(X_train)"
   ]
  },
  {
   "cell_type": "markdown",
   "id": "f99999f7",
   "metadata": {
    "papermill": {
     "duration": 0.032729,
     "end_time": "2021-04-04T23:30:02.228150",
     "exception": false,
     "start_time": "2021-04-04T23:30:02.195421",
     "status": "completed"
    },
    "tags": []
   },
   "source": [
    "# Predict"
   ]
  },
  {
   "cell_type": "code",
   "execution_count": 24,
   "id": "6536fbf7",
   "metadata": {
    "execution": {
     "iopub.execute_input": "2021-04-04T23:30:02.341278Z",
     "iopub.status.busy": "2021-04-04T23:30:02.305220Z",
     "iopub.status.idle": "2021-04-04T23:30:02.644323Z",
     "shell.execute_reply": "2021-04-04T23:30:02.643679Z"
    },
    "papermill": {
     "duration": 0.387878,
     "end_time": "2021-04-04T23:30:02.644449",
     "exception": false,
     "start_time": "2021-04-04T23:30:02.256571",
     "status": "completed"
    },
    "tags": []
   },
   "outputs": [],
   "source": [
    "predictions = model.predict(X_test)"
   ]
  },
  {
   "cell_type": "markdown",
   "id": "aa1c9881",
   "metadata": {
    "papermill": {
     "duration": 0.025593,
     "end_time": "2021-04-04T23:30:02.695515",
     "exception": false,
     "start_time": "2021-04-04T23:30:02.669922",
     "status": "completed"
    },
    "tags": []
   },
   "source": [
    "# Evaluate"
   ]
  },
  {
   "cell_type": "code",
   "execution_count": 25,
   "id": "894f0f04",
   "metadata": {
    "execution": {
     "iopub.execute_input": "2021-04-04T23:30:02.751982Z",
     "iopub.status.busy": "2021-04-04T23:30:02.751390Z",
     "iopub.status.idle": "2021-04-04T23:30:02.753253Z",
     "shell.execute_reply": "2021-04-04T23:30:02.753728Z"
    },
    "papermill": {
     "duration": 0.032454,
     "end_time": "2021-04-04T23:30:02.753875",
     "exception": false,
     "start_time": "2021-04-04T23:30:02.721421",
     "status": "completed"
    },
    "tags": []
   },
   "outputs": [],
   "source": [
    "from sklearn.metrics import f1_score"
   ]
  },
  {
   "cell_type": "code",
   "execution_count": 26,
   "id": "211744d3",
   "metadata": {
    "execution": {
     "iopub.execute_input": "2021-04-04T23:30:02.815844Z",
     "iopub.status.busy": "2021-04-04T23:30:02.814504Z",
     "iopub.status.idle": "2021-04-04T23:30:02.816935Z",
     "shell.execute_reply": "2021-04-04T23:30:02.817603Z"
    },
    "papermill": {
     "duration": 0.036625,
     "end_time": "2021-04-04T23:30:02.817883",
     "exception": false,
     "start_time": "2021-04-04T23:30:02.781258",
     "status": "completed"
    },
    "tags": []
   },
   "outputs": [],
   "source": [
    "y_test = y_test.replace([0, 1], [1, -1])"
   ]
  },
  {
   "cell_type": "code",
   "execution_count": 27,
   "id": "d68a9204",
   "metadata": {
    "execution": {
     "iopub.execute_input": "2021-04-04T23:30:02.878050Z",
     "iopub.status.busy": "2021-04-04T23:30:02.876967Z",
     "iopub.status.idle": "2021-04-04T23:30:02.881903Z",
     "shell.execute_reply": "2021-04-04T23:30:02.880876Z"
    },
    "papermill": {
     "duration": 0.03873,
     "end_time": "2021-04-04T23:30:02.882091",
     "exception": false,
     "start_time": "2021-04-04T23:30:02.843361",
     "status": "completed"
    },
    "tags": []
   },
   "outputs": [],
   "source": [
    "def evaluate(truths, predictions, pos_label, neg_label):\n",
    "    TP = 0\n",
    "    FP = 0\n",
    "    TN = 0\n",
    "    FN = 0\n",
    "\n",
    "    for truth, pred in zip(truths, predictions): \n",
    "        if truth == pred == pos_label:\n",
    "           TP += 1\n",
    "        elif pred == pos_label and truth == neg_label:\n",
    "           FP += 1\n",
    "        elif truth == pred == neg_label:\n",
    "           TN += 1\n",
    "        elif pred == neg_label and truth == pos_label:\n",
    "           FN += 1\n",
    "\n",
    "    precision = TP / (TP + FP)\n",
    "    sensitivity = TP / (TP + FN)\n",
    "    \n",
    "    return {\n",
    "        'true_pos': TP,\n",
    "        'false_pos': FP,\n",
    "        'false_neg': FN,\n",
    "        'true_neg': TN,\n",
    "        'precision': precision,\n",
    "        'sensitivity': sensitivity,\n",
    "        'f1': (2 * (precision * sensitivity)) / (precision + sensitivity)\n",
    "    }\n",
    "\n",
    "score = evaluate(y_test, predictions, pos_label=-1, neg_label=1)"
   ]
  },
  {
   "cell_type": "markdown",
   "id": "93596516",
   "metadata": {
    "papermill": {
     "duration": 0.03265,
     "end_time": "2021-04-04T23:30:02.938226",
     "exception": false,
     "start_time": "2021-04-04T23:30:02.905576",
     "status": "completed"
    },
    "tags": []
   },
   "source": [
    "# Report"
   ]
  },
  {
   "cell_type": "code",
   "execution_count": 28,
   "id": "bea5fba1",
   "metadata": {
    "execution": {
     "iopub.execute_input": "2021-04-04T23:30:02.995476Z",
     "iopub.status.busy": "2021-04-04T23:30:02.994688Z",
     "iopub.status.idle": "2021-04-04T23:30:03.000281Z",
     "shell.execute_reply": "2021-04-04T23:30:02.999033Z"
    },
    "papermill": {
     "duration": 0.037218,
     "end_time": "2021-04-04T23:30:03.000471",
     "exception": false,
     "start_time": "2021-04-04T23:30:02.963253",
     "status": "completed"
    },
    "tags": []
   },
   "outputs": [],
   "source": [
    "import csv\n",
    "\n",
    "\n",
    "dataset_config_name = DATASET_CONFIG_PATH.split('/')[-1].split('.')[0]\n",
    "model_config_name = MODEL_CONFIG_PATH.split('/')[-1].split('.')[0]\n",
    "configuration = f\"dataset_{dataset_config_name}-model_{model_config_name}\"\n",
    "\n",
    "with open('results.csv', 'a') as f:\n",
    "    report = dict({'configuration': configuration}, **score)\n",
    "    writer = csv.DictWriter(f, report.keys())\n",
    "    writer.writerow(report)"
   ]
  }
 ],
 "metadata": {
  "celltoolbar": "Tags",
  "kernelspec": {
   "display_name": "Python 3",
   "language": "python",
   "name": "python3"
  },
  "language_info": {
   "codemirror_mode": {
    "name": "ipython",
    "version": 3
   },
   "file_extension": ".py",
   "mimetype": "text/x-python",
   "name": "python",
   "nbconvert_exporter": "python",
   "pygments_lexer": "ipython3",
   "version": "3.9.1"
  },
  "papermill": {
   "default_parameters": {},
   "duration": 5.953046,
   "end_time": "2021-04-04T23:30:03.848962",
   "environment_variables": {},
   "exception": null,
   "input_path": "main.ipynb",
   "output_path": "runs/dataset_000141-model_000003.ipynb",
   "parameters": {
    "DATASET_CONFIG_PATH": "config/dataset/000141.json",
    "MODEL_CONFIG_PATH": "config/model/000003.json",
    "PROFILE_REPORTING": false
   },
   "start_time": "2021-04-04T23:29:57.895916",
   "version": "2.3.3"
  }
 },
 "nbformat": 4,
 "nbformat_minor": 5
}