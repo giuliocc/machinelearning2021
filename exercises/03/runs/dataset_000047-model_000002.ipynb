{
 "cells": [
  {
   "cell_type": "markdown",
   "id": "51c71c25",
   "metadata": {
    "papermill": {
     "duration": 0.027363,
     "end_time": "2021-04-04T22:47:49.175375",
     "exception": false,
     "start_time": "2021-04-04T22:47:49.148012",
     "status": "completed"
    },
    "tags": []
   },
   "source": [
    "# Parametrizing"
   ]
  },
  {
   "cell_type": "code",
   "execution_count": 1,
   "id": "3b136394",
   "metadata": {
    "execution": {
     "iopub.execute_input": "2021-04-04T22:47:49.248375Z",
     "iopub.status.busy": "2021-04-04T22:47:49.246875Z",
     "iopub.status.idle": "2021-04-04T22:47:49.252855Z",
     "shell.execute_reply": "2021-04-04T22:47:49.255590Z"
    },
    "papermill": {
     "duration": 0.055239,
     "end_time": "2021-04-04T22:47:49.256503",
     "exception": false,
     "start_time": "2021-04-04T22:47:49.201264",
     "status": "completed"
    },
    "tags": [
     "parameters"
    ]
   },
   "outputs": [],
   "source": [
    "DATASET_CONFIG_PATH = 'config/dataset/kc1_001.json'\n",
    "MODEL_CONFIG_PATH = 'config/model/knndd_001.json'\n",
    "PROFILE_REPORTING = False"
   ]
  },
  {
   "cell_type": "code",
   "execution_count": 2,
   "id": "4c7b03e8",
   "metadata": {
    "execution": {
     "iopub.execute_input": "2021-04-04T22:47:49.334519Z",
     "iopub.status.busy": "2021-04-04T22:47:49.333459Z",
     "iopub.status.idle": "2021-04-04T22:47:49.343953Z",
     "shell.execute_reply": "2021-04-04T22:47:49.345530Z"
    },
    "papermill": {
     "duration": 0.049205,
     "end_time": "2021-04-04T22:47:49.346272",
     "exception": false,
     "start_time": "2021-04-04T22:47:49.297067",
     "status": "completed"
    },
    "tags": [
     "injected-parameters"
    ]
   },
   "outputs": [],
   "source": [
    "# Parameters\n",
    "DATASET_CONFIG_PATH = \"config/dataset/000047.json\"\n",
    "MODEL_CONFIG_PATH = \"config/model/000002.json\"\n",
    "PROFILE_REPORTING = False\n"
   ]
  },
  {
   "cell_type": "code",
   "execution_count": 3,
   "id": "b80f2a10",
   "metadata": {
    "execution": {
     "iopub.execute_input": "2021-04-04T22:47:49.436625Z",
     "iopub.status.busy": "2021-04-04T22:47:49.434075Z",
     "iopub.status.idle": "2021-04-04T22:47:49.442910Z",
     "shell.execute_reply": "2021-04-04T22:47:49.443805Z"
    },
    "papermill": {
     "duration": 0.061371,
     "end_time": "2021-04-04T22:47:49.444174",
     "exception": false,
     "start_time": "2021-04-04T22:47:49.382803",
     "status": "completed"
    },
    "tags": []
   },
   "outputs": [],
   "source": [
    "import json\n",
    "\n",
    "\n",
    "with open(DATASET_CONFIG_PATH) as f:\n",
    "    dataset_config = json.load(f)\n",
    "\n",
    "with open(MODEL_CONFIG_PATH) as f:\n",
    "    model_config = json.load(f)"
   ]
  },
  {
   "cell_type": "markdown",
   "id": "9a4b0e2d",
   "metadata": {
    "papermill": {
     "duration": 0.041348,
     "end_time": "2021-04-04T22:47:49.519112",
     "exception": false,
     "start_time": "2021-04-04T22:47:49.477764",
     "status": "completed"
    },
    "tags": []
   },
   "source": [
    "# Profiling"
   ]
  },
  {
   "cell_type": "code",
   "execution_count": 4,
   "id": "a3e0289b",
   "metadata": {
    "execution": {
     "iopub.execute_input": "2021-04-04T22:47:49.605084Z",
     "iopub.status.busy": "2021-04-04T22:47:49.604005Z",
     "iopub.status.idle": "2021-04-04T22:47:51.808906Z",
     "shell.execute_reply": "2021-04-04T22:47:51.809839Z"
    },
    "papermill": {
     "duration": 2.24849,
     "end_time": "2021-04-04T22:47:51.810094",
     "exception": false,
     "start_time": "2021-04-04T22:47:49.561604",
     "status": "completed"
    },
    "tags": []
   },
   "outputs": [],
   "source": [
    "import pandas as pd\n",
    "from pandas_profiling import ProfileReport"
   ]
  },
  {
   "cell_type": "code",
   "execution_count": 5,
   "id": "ee6c0666",
   "metadata": {
    "execution": {
     "iopub.execute_input": "2021-04-04T22:47:51.870000Z",
     "iopub.status.busy": "2021-04-04T22:47:51.869177Z",
     "iopub.status.idle": "2021-04-04T22:47:51.883740Z",
     "shell.execute_reply": "2021-04-04T22:47:51.882768Z"
    },
    "papermill": {
     "duration": 0.046562,
     "end_time": "2021-04-04T22:47:51.884026",
     "exception": false,
     "start_time": "2021-04-04T22:47:51.837464",
     "status": "completed"
    },
    "tags": []
   },
   "outputs": [],
   "source": [
    "df = pd.read_csv(dataset_config['dataset_path'])"
   ]
  },
  {
   "cell_type": "code",
   "execution_count": 6,
   "id": "7eca6c4a",
   "metadata": {
    "execution": {
     "iopub.execute_input": "2021-04-04T22:47:51.938727Z",
     "iopub.status.busy": "2021-04-04T22:47:51.935905Z",
     "iopub.status.idle": "2021-04-04T22:47:51.952732Z",
     "shell.execute_reply": "2021-04-04T22:47:51.953673Z"
    },
    "papermill": {
     "duration": 0.046945,
     "end_time": "2021-04-04T22:47:51.953888",
     "exception": false,
     "start_time": "2021-04-04T22:47:51.906943",
     "status": "completed"
    },
    "tags": []
   },
   "outputs": [
    {
     "name": "stdout",
     "output_type": "stream",
     "text": [
      "<class 'pandas.core.frame.DataFrame'>\n",
      "RangeIndex: 2109 entries, 0 to 2108\n",
      "Data columns (total 23 columns):\n",
      " #   Column             Non-Null Count  Dtype  \n",
      "---  ------             --------------  -----  \n",
      " 0   id                 2109 non-null   int64  \n",
      " 1   loc                2109 non-null   float64\n",
      " 2   v(g)               2109 non-null   float64\n",
      " 3   ev(g)              2109 non-null   float64\n",
      " 4   iv(g)              2109 non-null   float64\n",
      " 5   n                  2109 non-null   float64\n",
      " 6   v                  2109 non-null   float64\n",
      " 7   l                  2109 non-null   float64\n",
      " 8   d                  2109 non-null   float64\n",
      " 9   i                  2109 non-null   float64\n",
      " 10  e                  2109 non-null   float64\n",
      " 11  b                  2109 non-null   float64\n",
      " 12  t                  2109 non-null   float64\n",
      " 13  lOCode             2109 non-null   int64  \n",
      " 14  lOComment          2109 non-null   int64  \n",
      " 15  lOBlank            2109 non-null   int64  \n",
      " 16  locCodeAndComment  2109 non-null   int64  \n",
      " 17  uniq_Op            2109 non-null   float64\n",
      " 18  uniq_Opnd          2109 non-null   float64\n",
      " 19  total_Op           2109 non-null   float64\n",
      " 20  total_Opnd         2109 non-null   float64\n",
      " 21  branchCount        2109 non-null   float64\n",
      " 22  defects            2109 non-null   bool   \n",
      "dtypes: bool(1), float64(17), int64(5)\n",
      "memory usage: 364.7 KB\n"
     ]
    }
   ],
   "source": [
    "df.info()"
   ]
  },
  {
   "cell_type": "code",
   "execution_count": 7,
   "id": "3638e5e8",
   "metadata": {
    "execution": {
     "iopub.execute_input": "2021-04-04T22:47:52.037617Z",
     "iopub.status.busy": "2021-04-04T22:47:52.023335Z",
     "iopub.status.idle": "2021-04-04T22:47:52.098090Z",
     "shell.execute_reply": "2021-04-04T22:47:52.099303Z"
    },
    "papermill": {
     "duration": 0.115314,
     "end_time": "2021-04-04T22:47:52.099678",
     "exception": false,
     "start_time": "2021-04-04T22:47:51.984364",
     "status": "completed"
    },
    "tags": []
   },
   "outputs": [
    {
     "data": {
      "text/html": [
       "<div>\n",
       "<style scoped>\n",
       "    .dataframe tbody tr th:only-of-type {\n",
       "        vertical-align: middle;\n",
       "    }\n",
       "\n",
       "    .dataframe tbody tr th {\n",
       "        vertical-align: top;\n",
       "    }\n",
       "\n",
       "    .dataframe thead th {\n",
       "        text-align: right;\n",
       "    }\n",
       "</style>\n",
       "<table border=\"1\" class=\"dataframe\">\n",
       "  <thead>\n",
       "    <tr style=\"text-align: right;\">\n",
       "      <th></th>\n",
       "      <th>id</th>\n",
       "      <th>loc</th>\n",
       "      <th>v(g)</th>\n",
       "      <th>ev(g)</th>\n",
       "      <th>iv(g)</th>\n",
       "      <th>n</th>\n",
       "      <th>v</th>\n",
       "      <th>l</th>\n",
       "      <th>d</th>\n",
       "      <th>i</th>\n",
       "      <th>...</th>\n",
       "      <th>lOCode</th>\n",
       "      <th>lOComment</th>\n",
       "      <th>lOBlank</th>\n",
       "      <th>locCodeAndComment</th>\n",
       "      <th>uniq_Op</th>\n",
       "      <th>uniq_Opnd</th>\n",
       "      <th>total_Op</th>\n",
       "      <th>total_Opnd</th>\n",
       "      <th>branchCount</th>\n",
       "      <th>defects</th>\n",
       "    </tr>\n",
       "  </thead>\n",
       "  <tbody>\n",
       "    <tr>\n",
       "      <th>0</th>\n",
       "      <td>1</td>\n",
       "      <td>1.1</td>\n",
       "      <td>1.4</td>\n",
       "      <td>1.4</td>\n",
       "      <td>1.4</td>\n",
       "      <td>1.3</td>\n",
       "      <td>1.30</td>\n",
       "      <td>1.30</td>\n",
       "      <td>1.30</td>\n",
       "      <td>1.30</td>\n",
       "      <td>...</td>\n",
       "      <td>2</td>\n",
       "      <td>2</td>\n",
       "      <td>2</td>\n",
       "      <td>2</td>\n",
       "      <td>1.2</td>\n",
       "      <td>1.2</td>\n",
       "      <td>1.2</td>\n",
       "      <td>1.2</td>\n",
       "      <td>1.4</td>\n",
       "      <td>False</td>\n",
       "    </tr>\n",
       "    <tr>\n",
       "      <th>1</th>\n",
       "      <td>2</td>\n",
       "      <td>1.0</td>\n",
       "      <td>1.0</td>\n",
       "      <td>1.0</td>\n",
       "      <td>1.0</td>\n",
       "      <td>1.0</td>\n",
       "      <td>1.00</td>\n",
       "      <td>1.00</td>\n",
       "      <td>1.00</td>\n",
       "      <td>1.00</td>\n",
       "      <td>...</td>\n",
       "      <td>1</td>\n",
       "      <td>1</td>\n",
       "      <td>1</td>\n",
       "      <td>1</td>\n",
       "      <td>1.0</td>\n",
       "      <td>1.0</td>\n",
       "      <td>1.0</td>\n",
       "      <td>1.0</td>\n",
       "      <td>1.0</td>\n",
       "      <td>True</td>\n",
       "    </tr>\n",
       "    <tr>\n",
       "      <th>2</th>\n",
       "      <td>3</td>\n",
       "      <td>83.0</td>\n",
       "      <td>11.0</td>\n",
       "      <td>1.0</td>\n",
       "      <td>11.0</td>\n",
       "      <td>171.0</td>\n",
       "      <td>927.89</td>\n",
       "      <td>0.04</td>\n",
       "      <td>23.04</td>\n",
       "      <td>40.27</td>\n",
       "      <td>...</td>\n",
       "      <td>65</td>\n",
       "      <td>10</td>\n",
       "      <td>6</td>\n",
       "      <td>0</td>\n",
       "      <td>18.0</td>\n",
       "      <td>25.0</td>\n",
       "      <td>107.0</td>\n",
       "      <td>64.0</td>\n",
       "      <td>21.0</td>\n",
       "      <td>True</td>\n",
       "    </tr>\n",
       "    <tr>\n",
       "      <th>3</th>\n",
       "      <td>4</td>\n",
       "      <td>46.0</td>\n",
       "      <td>8.0</td>\n",
       "      <td>6.0</td>\n",
       "      <td>8.0</td>\n",
       "      <td>141.0</td>\n",
       "      <td>769.78</td>\n",
       "      <td>0.07</td>\n",
       "      <td>14.86</td>\n",
       "      <td>51.81</td>\n",
       "      <td>...</td>\n",
       "      <td>37</td>\n",
       "      <td>2</td>\n",
       "      <td>5</td>\n",
       "      <td>0</td>\n",
       "      <td>16.0</td>\n",
       "      <td>28.0</td>\n",
       "      <td>89.0</td>\n",
       "      <td>52.0</td>\n",
       "      <td>15.0</td>\n",
       "      <td>True</td>\n",
       "    </tr>\n",
       "    <tr>\n",
       "      <th>4</th>\n",
       "      <td>5</td>\n",
       "      <td>25.0</td>\n",
       "      <td>3.0</td>\n",
       "      <td>1.0</td>\n",
       "      <td>3.0</td>\n",
       "      <td>58.0</td>\n",
       "      <td>254.75</td>\n",
       "      <td>0.11</td>\n",
       "      <td>9.35</td>\n",
       "      <td>27.25</td>\n",
       "      <td>...</td>\n",
       "      <td>21</td>\n",
       "      <td>0</td>\n",
       "      <td>2</td>\n",
       "      <td>0</td>\n",
       "      <td>11.0</td>\n",
       "      <td>10.0</td>\n",
       "      <td>41.0</td>\n",
       "      <td>17.0</td>\n",
       "      <td>5.0</td>\n",
       "      <td>True</td>\n",
       "    </tr>\n",
       "  </tbody>\n",
       "</table>\n",
       "<p>5 rows × 23 columns</p>\n",
       "</div>"
      ],
      "text/plain": [
       "   id   loc  v(g)  ev(g)  iv(g)      n       v     l      d      i  ...  \\\n",
       "0   1   1.1   1.4    1.4    1.4    1.3    1.30  1.30   1.30   1.30  ...   \n",
       "1   2   1.0   1.0    1.0    1.0    1.0    1.00  1.00   1.00   1.00  ...   \n",
       "2   3  83.0  11.0    1.0   11.0  171.0  927.89  0.04  23.04  40.27  ...   \n",
       "3   4  46.0   8.0    6.0    8.0  141.0  769.78  0.07  14.86  51.81  ...   \n",
       "4   5  25.0   3.0    1.0    3.0   58.0  254.75  0.11   9.35  27.25  ...   \n",
       "\n",
       "   lOCode  lOComment  lOBlank  locCodeAndComment  uniq_Op  uniq_Opnd  \\\n",
       "0       2          2        2                  2      1.2        1.2   \n",
       "1       1          1        1                  1      1.0        1.0   \n",
       "2      65         10        6                  0     18.0       25.0   \n",
       "3      37          2        5                  0     16.0       28.0   \n",
       "4      21          0        2                  0     11.0       10.0   \n",
       "\n",
       "   total_Op  total_Opnd  branchCount  defects  \n",
       "0       1.2         1.2          1.4    False  \n",
       "1       1.0         1.0          1.0     True  \n",
       "2     107.0        64.0         21.0     True  \n",
       "3      89.0        52.0         15.0     True  \n",
       "4      41.0        17.0          5.0     True  \n",
       "\n",
       "[5 rows x 23 columns]"
      ]
     },
     "execution_count": 7,
     "metadata": {},
     "output_type": "execute_result"
    }
   ],
   "source": [
    "df.head()"
   ]
  },
  {
   "cell_type": "code",
   "execution_count": 8,
   "id": "733e95eb",
   "metadata": {
    "execution": {
     "iopub.execute_input": "2021-04-04T22:47:52.204983Z",
     "iopub.status.busy": "2021-04-04T22:47:52.204227Z",
     "iopub.status.idle": "2021-04-04T22:47:52.209774Z",
     "shell.execute_reply": "2021-04-04T22:47:52.209148Z"
    },
    "papermill": {
     "duration": 0.06041,
     "end_time": "2021-04-04T22:47:52.209944",
     "exception": false,
     "start_time": "2021-04-04T22:47:52.149534",
     "status": "completed"
    },
    "tags": []
   },
   "outputs": [],
   "source": [
    "del df['id']"
   ]
  },
  {
   "cell_type": "code",
   "execution_count": 9,
   "id": "6ff6f5b0",
   "metadata": {
    "execution": {
     "iopub.execute_input": "2021-04-04T22:47:52.324413Z",
     "iopub.status.busy": "2021-04-04T22:47:52.322994Z",
     "iopub.status.idle": "2021-04-04T22:47:52.325902Z",
     "shell.execute_reply": "2021-04-04T22:47:52.327493Z"
    },
    "papermill": {
     "duration": 0.071166,
     "end_time": "2021-04-04T22:47:52.327771",
     "exception": false,
     "start_time": "2021-04-04T22:47:52.256605",
     "status": "completed"
    },
    "tags": []
   },
   "outputs": [],
   "source": [
    "if PROFILE_REPORTING:\n",
    "    ProfileReport(df).to_widgets()"
   ]
  },
  {
   "cell_type": "markdown",
   "id": "1deaf3f0",
   "metadata": {
    "papermill": {
     "duration": 0.044438,
     "end_time": "2021-04-04T22:47:52.428555",
     "exception": false,
     "start_time": "2021-04-04T22:47:52.384117",
     "status": "completed"
    },
    "tags": []
   },
   "source": [
    "# Preprocess"
   ]
  },
  {
   "cell_type": "code",
   "execution_count": 10,
   "id": "1513e563",
   "metadata": {
    "execution": {
     "iopub.execute_input": "2021-04-04T22:47:52.545947Z",
     "iopub.status.busy": "2021-04-04T22:47:52.545000Z",
     "iopub.status.idle": "2021-04-04T22:47:52.555885Z",
     "shell.execute_reply": "2021-04-04T22:47:52.558263Z"
    },
    "papermill": {
     "duration": 0.085387,
     "end_time": "2021-04-04T22:47:52.558603",
     "exception": false,
     "start_time": "2021-04-04T22:47:52.473216",
     "status": "completed"
    },
    "tags": []
   },
   "outputs": [],
   "source": [
    "working_df = df.copy()"
   ]
  },
  {
   "cell_type": "code",
   "execution_count": 11,
   "id": "3b26d675",
   "metadata": {
    "execution": {
     "iopub.execute_input": "2021-04-04T22:47:52.690356Z",
     "iopub.status.busy": "2021-04-04T22:47:52.688810Z",
     "iopub.status.idle": "2021-04-04T22:47:52.696352Z",
     "shell.execute_reply": "2021-04-04T22:47:52.699198Z"
    },
    "papermill": {
     "duration": 0.070296,
     "end_time": "2021-04-04T22:47:52.699815",
     "exception": false,
     "start_time": "2021-04-04T22:47:52.629519",
     "status": "completed"
    },
    "tags": []
   },
   "outputs": [],
   "source": [
    "working_df['defects'] = working_df['defects'].replace([False, True], [0, 1])"
   ]
  },
  {
   "cell_type": "code",
   "execution_count": 12,
   "id": "eb48604f",
   "metadata": {
    "execution": {
     "iopub.execute_input": "2021-04-04T22:47:52.807297Z",
     "iopub.status.busy": "2021-04-04T22:47:52.805272Z",
     "iopub.status.idle": "2021-04-04T22:47:52.808656Z",
     "shell.execute_reply": "2021-04-04T22:47:52.811107Z"
    },
    "papermill": {
     "duration": 0.065103,
     "end_time": "2021-04-04T22:47:52.811603",
     "exception": false,
     "start_time": "2021-04-04T22:47:52.746500",
     "status": "completed"
    },
    "tags": []
   },
   "outputs": [],
   "source": [
    "for col in dataset_config['delete_columns']:\n",
    "    del working_df[col]"
   ]
  },
  {
   "cell_type": "code",
   "execution_count": 13,
   "id": "9a17bc29",
   "metadata": {
    "execution": {
     "iopub.execute_input": "2021-04-04T22:47:52.932517Z",
     "iopub.status.busy": "2021-04-04T22:47:52.930980Z",
     "iopub.status.idle": "2021-04-04T22:47:52.954899Z",
     "shell.execute_reply": "2021-04-04T22:47:52.956403Z"
    },
    "papermill": {
     "duration": 0.084978,
     "end_time": "2021-04-04T22:47:52.956747",
     "exception": false,
     "start_time": "2021-04-04T22:47:52.871769",
     "status": "completed"
    },
    "tags": []
   },
   "outputs": [],
   "source": [
    "working_df = working_df.drop_duplicates()"
   ]
  },
  {
   "cell_type": "markdown",
   "id": "a4d52ca6",
   "metadata": {
    "papermill": {
     "duration": 0.053711,
     "end_time": "2021-04-04T22:47:53.053621",
     "exception": false,
     "start_time": "2021-04-04T22:47:52.999910",
     "status": "completed"
    },
    "tags": []
   },
   "source": [
    "# Split"
   ]
  },
  {
   "cell_type": "code",
   "execution_count": 14,
   "id": "3e9ee4b5",
   "metadata": {
    "execution": {
     "iopub.execute_input": "2021-04-04T22:47:53.182052Z",
     "iopub.status.busy": "2021-04-04T22:47:53.180306Z",
     "iopub.status.idle": "2021-04-04T22:47:53.233799Z",
     "shell.execute_reply": "2021-04-04T22:47:53.233113Z"
    },
    "papermill": {
     "duration": 0.126462,
     "end_time": "2021-04-04T22:47:53.233980",
     "exception": false,
     "start_time": "2021-04-04T22:47:53.107518",
     "status": "completed"
    },
    "tags": []
   },
   "outputs": [],
   "source": [
    "from sklearn.model_selection import train_test_split"
   ]
  },
  {
   "cell_type": "code",
   "execution_count": 15,
   "id": "274004ce",
   "metadata": {
    "execution": {
     "iopub.execute_input": "2021-04-04T22:47:53.349594Z",
     "iopub.status.busy": "2021-04-04T22:47:53.341927Z",
     "iopub.status.idle": "2021-04-04T22:47:53.358349Z",
     "shell.execute_reply": "2021-04-04T22:47:53.361359Z"
    },
    "papermill": {
     "duration": 0.090939,
     "end_time": "2021-04-04T22:47:53.362221",
     "exception": false,
     "start_time": "2021-04-04T22:47:53.271282",
     "status": "completed"
    },
    "scrolled": true,
    "tags": []
   },
   "outputs": [],
   "source": [
    "inlier, outlier = working_df[working_df['defects'] == 0], working_df[working_df['defects'] == 1]"
   ]
  },
  {
   "cell_type": "code",
   "execution_count": 16,
   "id": "753c7b03",
   "metadata": {
    "execution": {
     "iopub.execute_input": "2021-04-04T22:47:53.511885Z",
     "iopub.status.busy": "2021-04-04T22:47:53.510792Z",
     "iopub.status.idle": "2021-04-04T22:47:53.515690Z",
     "shell.execute_reply": "2021-04-04T22:47:53.516567Z"
    },
    "papermill": {
     "duration": 0.0963,
     "end_time": "2021-04-04T22:47:53.516845",
     "exception": false,
     "start_time": "2021-04-04T22:47:53.420545",
     "status": "completed"
    },
    "tags": []
   },
   "outputs": [],
   "source": [
    "X_inlier = inlier.copy()\n",
    "y_inlier = X_inlier.pop('defects')\n",
    "X_outlier = outlier.copy()\n",
    "y_outlier = X_outlier.pop('defects')"
   ]
  },
  {
   "cell_type": "code",
   "execution_count": 17,
   "id": "2ba43193",
   "metadata": {
    "execution": {
     "iopub.execute_input": "2021-04-04T22:47:53.685285Z",
     "iopub.status.busy": "2021-04-04T22:47:53.683716Z",
     "iopub.status.idle": "2021-04-04T22:47:53.706750Z",
     "shell.execute_reply": "2021-04-04T22:47:53.708397Z"
    },
    "papermill": {
     "duration": 0.119445,
     "end_time": "2021-04-04T22:47:53.708849",
     "exception": false,
     "start_time": "2021-04-04T22:47:53.589404",
     "status": "completed"
    },
    "tags": []
   },
   "outputs": [],
   "source": [
    "test_size = dataset_config['test_size']\n",
    "random_state = dataset_config['random_state']\n",
    "\n",
    "X_inlier_train, X_inlier_test, y_inlier_train, y_inlier_test = train_test_split(\n",
    "    X_inlier,\n",
    "    y_inlier,\n",
    "    test_size=test_size,\n",
    "    random_state=random_state\n",
    ")"
   ]
  },
  {
   "cell_type": "code",
   "execution_count": 18,
   "id": "0b7582ca",
   "metadata": {
    "execution": {
     "iopub.execute_input": "2021-04-04T22:47:53.854262Z",
     "iopub.status.busy": "2021-04-04T22:47:53.848150Z",
     "iopub.status.idle": "2021-04-04T22:47:53.880739Z",
     "shell.execute_reply": "2021-04-04T22:47:53.882163Z"
    },
    "papermill": {
     "duration": 0.112918,
     "end_time": "2021-04-04T22:47:53.882514",
     "exception": false,
     "start_time": "2021-04-04T22:47:53.769596",
     "status": "completed"
    },
    "tags": []
   },
   "outputs": [],
   "source": [
    "test_outlier_size = dataset_config['test_outlier_size']\n",
    "if test_outlier_size > 0.0:\n",
    "    X_outlier_train, X_outlier_test, y_outlier_train, y_outlier_test = train_test_split(\n",
    "        X_outlier,\n",
    "        y_outlier,\n",
    "        test_size=test_outlier_size,\n",
    "        random_state=random_state\n",
    "    )\n",
    "else:\n",
    "    X_outlier_train, y_outlier_train = pd.DataFrame(columns=X_outlier.columns), pd.Series(dtype='int64')\n",
    "    X_outlier_test, y_outlier_test = X_outlier.copy(), y_outlier.copy()"
   ]
  },
  {
   "cell_type": "code",
   "execution_count": 19,
   "id": "c34363db",
   "metadata": {
    "execution": {
     "iopub.execute_input": "2021-04-04T22:47:54.061003Z",
     "iopub.status.busy": "2021-04-04T22:47:54.058886Z",
     "iopub.status.idle": "2021-04-04T22:47:54.100858Z",
     "shell.execute_reply": "2021-04-04T22:47:54.108438Z"
    },
    "papermill": {
     "duration": 0.157485,
     "end_time": "2021-04-04T22:47:54.108730",
     "exception": false,
     "start_time": "2021-04-04T22:47:53.951245",
     "status": "completed"
    },
    "tags": []
   },
   "outputs": [],
   "source": [
    "X_train, y_train = pd.concat([X_inlier_train, X_outlier_train], ignore_index=True), pd.concat([y_inlier_train, y_outlier_train], ignore_index=True)\n",
    "X_test, y_test = pd.concat([X_inlier_test, X_outlier_test], ignore_index=True), pd.concat([y_inlier_test, y_outlier_test], ignore_index=True)"
   ]
  },
  {
   "cell_type": "markdown",
   "id": "7cde7309",
   "metadata": {
    "papermill": {
     "duration": 0.055631,
     "end_time": "2021-04-04T22:47:54.227168",
     "exception": false,
     "start_time": "2021-04-04T22:47:54.171537",
     "status": "completed"
    },
    "tags": []
   },
   "source": [
    "# Model"
   ]
  },
  {
   "cell_type": "code",
   "execution_count": 20,
   "id": "2b12a415",
   "metadata": {
    "execution": {
     "iopub.execute_input": "2021-04-04T22:47:54.334928Z",
     "iopub.status.busy": "2021-04-04T22:47:54.333787Z",
     "iopub.status.idle": "2021-04-04T22:47:54.336055Z",
     "shell.execute_reply": "2021-04-04T22:47:54.336897Z"
    },
    "papermill": {
     "duration": 0.070403,
     "end_time": "2021-04-04T22:47:54.337152",
     "exception": false,
     "start_time": "2021-04-04T22:47:54.266749",
     "status": "completed"
    },
    "tags": []
   },
   "outputs": [],
   "source": [
    "from math import sqrt\n",
    "\n",
    "\n",
    "class KNNDataDescription:\n",
    "    def __init__(self, k=5, outlier_threshold=1.0):\n",
    "        self.k = k\n",
    "        self.outlier_threshold = outlier_threshold\n",
    "        self.X = []\n",
    "    \n",
    "    def fit(self, X):\n",
    "        self.X = [features.to_list() for index, features in X.iterrows()]\n",
    "\n",
    "    def predict(self, entries):\n",
    "        return [self.predict_entry(features.to_list()) for index, features in entries.iterrows()]\n",
    "    \n",
    "    def predict_entry(self, entry):\n",
    "        kth_neighbor, kth_distance = self.get_kth_neighbor(entry, self.k)\n",
    "        kth_kth_neighbor, kth_kth_distance = self.get_kth_neighbor(kth_neighbor, self.k + 1)\n",
    "\n",
    "        outlier_score = kth_distance / (kth_kth_distance + 0.000001)\n",
    "\n",
    "        return 1 if outlier_score < self.outlier_threshold else -1\n",
    "        \n",
    "    def euclidean_distance(self, features1, features2):\n",
    "        distance = 0.0\n",
    "        for feat1, feat2 in zip(features1, features2):\n",
    "            distance += (feat1 - feat2)**2\n",
    "                \n",
    "        return sqrt(distance)\n",
    "\n",
    "    def get_neighbors(self, entry, k):\n",
    "        distance_to_data_points = [\n",
    "            (data_point, self.euclidean_distance(entry, data_point))\n",
    "            for data_point in self.X\n",
    "        ]\n",
    "        sorted_by_distance = sorted(distance_to_data_points, key=lambda tup: tup[1])\n",
    "        neighbors = sorted_by_distance[:k]\n",
    "        return neighbors\n",
    "\n",
    "    def get_kth_neighbor(self, entry, k):\n",
    "        neighbors = self.get_neighbors(entry, k)\n",
    "        return neighbors[-1]\n"
   ]
  },
  {
   "cell_type": "code",
   "execution_count": 21,
   "id": "1fa9ec1c",
   "metadata": {
    "execution": {
     "iopub.execute_input": "2021-04-04T22:47:54.471340Z",
     "iopub.status.busy": "2021-04-04T22:47:54.469211Z",
     "iopub.status.idle": "2021-04-04T22:47:54.528651Z",
     "shell.execute_reply": "2021-04-04T22:47:54.526543Z"
    },
    "papermill": {
     "duration": 0.138926,
     "end_time": "2021-04-04T22:47:54.528966",
     "exception": false,
     "start_time": "2021-04-04T22:47:54.390040",
     "status": "completed"
    },
    "tags": []
   },
   "outputs": [],
   "source": [
    "from sklearn.svm import OneClassSVM\n",
    "\n",
    "\n",
    "models = {\n",
    "    'oneclasssvm': OneClassSVM,\n",
    "    'knndatadescription': KNNDataDescription,\n",
    "}"
   ]
  },
  {
   "cell_type": "code",
   "execution_count": 22,
   "id": "4d72a0b1",
   "metadata": {
    "execution": {
     "iopub.execute_input": "2021-04-04T22:47:54.600964Z",
     "iopub.status.busy": "2021-04-04T22:47:54.600254Z",
     "iopub.status.idle": "2021-04-04T22:47:54.602654Z",
     "shell.execute_reply": "2021-04-04T22:47:54.603187Z"
    },
    "papermill": {
     "duration": 0.04221,
     "end_time": "2021-04-04T22:47:54.603345",
     "exception": false,
     "start_time": "2021-04-04T22:47:54.561135",
     "status": "completed"
    },
    "scrolled": true,
    "tags": []
   },
   "outputs": [],
   "source": [
    "model_cls = models[model_config['model_type']]\n",
    "model = model_cls(**model_config['hyperparameters'])"
   ]
  },
  {
   "cell_type": "markdown",
   "id": "e00cff3b",
   "metadata": {
    "papermill": {
     "duration": 0.049263,
     "end_time": "2021-04-04T22:47:54.692016",
     "exception": false,
     "start_time": "2021-04-04T22:47:54.642753",
     "status": "completed"
    },
    "tags": []
   },
   "source": [
    "# Fit"
   ]
  },
  {
   "cell_type": "code",
   "execution_count": 23,
   "id": "8b2ded89",
   "metadata": {
    "execution": {
     "iopub.execute_input": "2021-04-04T22:47:54.787503Z",
     "iopub.status.busy": "2021-04-04T22:47:54.785979Z",
     "iopub.status.idle": "2021-04-04T22:47:54.995281Z",
     "shell.execute_reply": "2021-04-04T22:47:54.994380Z"
    },
    "papermill": {
     "duration": 0.264584,
     "end_time": "2021-04-04T22:47:54.995477",
     "exception": false,
     "start_time": "2021-04-04T22:47:54.730893",
     "status": "completed"
    },
    "tags": []
   },
   "outputs": [],
   "source": [
    "model.fit(X_train)"
   ]
  },
  {
   "cell_type": "markdown",
   "id": "f99999f7",
   "metadata": {
    "papermill": {
     "duration": 0.041897,
     "end_time": "2021-04-04T22:47:55.077626",
     "exception": false,
     "start_time": "2021-04-04T22:47:55.035729",
     "status": "completed"
    },
    "tags": []
   },
   "source": [
    "# Predict"
   ]
  },
  {
   "cell_type": "code",
   "execution_count": 24,
   "id": "6536fbf7",
   "metadata": {
    "execution": {
     "iopub.execute_input": "2021-04-04T22:47:55.172782Z",
     "iopub.status.busy": "2021-04-04T22:47:55.172199Z",
     "iopub.status.idle": "2021-04-04T22:47:58.206266Z",
     "shell.execute_reply": "2021-04-04T22:47:58.208961Z"
    },
    "papermill": {
     "duration": 3.102756,
     "end_time": "2021-04-04T22:47:58.209164",
     "exception": false,
     "start_time": "2021-04-04T22:47:55.106408",
     "status": "completed"
    },
    "tags": []
   },
   "outputs": [],
   "source": [
    "predictions = model.predict(X_test)"
   ]
  },
  {
   "cell_type": "markdown",
   "id": "aa1c9881",
   "metadata": {
    "papermill": {
     "duration": 0.032743,
     "end_time": "2021-04-04T22:47:58.267577",
     "exception": false,
     "start_time": "2021-04-04T22:47:58.234834",
     "status": "completed"
    },
    "tags": []
   },
   "source": [
    "# Evaluate"
   ]
  },
  {
   "cell_type": "code",
   "execution_count": 25,
   "id": "894f0f04",
   "metadata": {
    "execution": {
     "iopub.execute_input": "2021-04-04T22:47:58.322441Z",
     "iopub.status.busy": "2021-04-04T22:47:58.321799Z",
     "iopub.status.idle": "2021-04-04T22:47:58.323673Z",
     "shell.execute_reply": "2021-04-04T22:47:58.324220Z"
    },
    "papermill": {
     "duration": 0.029723,
     "end_time": "2021-04-04T22:47:58.324367",
     "exception": false,
     "start_time": "2021-04-04T22:47:58.294644",
     "status": "completed"
    },
    "tags": []
   },
   "outputs": [],
   "source": [
    "from sklearn.metrics import f1_score"
   ]
  },
  {
   "cell_type": "code",
   "execution_count": 26,
   "id": "211744d3",
   "metadata": {
    "execution": {
     "iopub.execute_input": "2021-04-04T22:47:58.395111Z",
     "iopub.status.busy": "2021-04-04T22:47:58.393921Z",
     "iopub.status.idle": "2021-04-04T22:47:58.395980Z",
     "shell.execute_reply": "2021-04-04T22:47:58.396445Z"
    },
    "papermill": {
     "duration": 0.039865,
     "end_time": "2021-04-04T22:47:58.396590",
     "exception": false,
     "start_time": "2021-04-04T22:47:58.356725",
     "status": "completed"
    },
    "tags": []
   },
   "outputs": [],
   "source": [
    "y_test = y_test.replace([0, 1], [1, -1])"
   ]
  },
  {
   "cell_type": "code",
   "execution_count": 27,
   "id": "d68a9204",
   "metadata": {
    "execution": {
     "iopub.execute_input": "2021-04-04T22:47:58.452895Z",
     "iopub.status.busy": "2021-04-04T22:47:58.452257Z",
     "iopub.status.idle": "2021-04-04T22:47:58.454867Z",
     "shell.execute_reply": "2021-04-04T22:47:58.454283Z"
    },
    "papermill": {
     "duration": 0.034728,
     "end_time": "2021-04-04T22:47:58.454986",
     "exception": false,
     "start_time": "2021-04-04T22:47:58.420258",
     "status": "completed"
    },
    "tags": []
   },
   "outputs": [],
   "source": [
    "def evaluate(truths, predictions, pos_label, neg_label):\n",
    "    TP = 0\n",
    "    FP = 0\n",
    "    TN = 0\n",
    "    FN = 0\n",
    "\n",
    "    for truth, pred in zip(truths, predictions): \n",
    "        if truth == pred == pos_label:\n",
    "           TP += 1\n",
    "        elif pred == pos_label and truth == neg_label:\n",
    "           FP += 1\n",
    "        elif truth == pred == neg_label:\n",
    "           TN += 1\n",
    "        elif pred == neg_label and truth == pos_label:\n",
    "           FN += 1\n",
    "\n",
    "    precision = TP / (TP + FP)\n",
    "    sensitivity = TP / (TP + FN)\n",
    "    \n",
    "    return {\n",
    "        'true_pos': TP,\n",
    "        'false_pos': FP,\n",
    "        'false_neg': FN,\n",
    "        'true_neg': TN,\n",
    "        'precision': precision,\n",
    "        'sensitivity': sensitivity,\n",
    "        'f1': (2 * (precision * sensitivity)) / (precision + sensitivity)\n",
    "    }\n",
    "\n",
    "score = evaluate(y_test, predictions, pos_label=-1, neg_label=1)"
   ]
  },
  {
   "cell_type": "markdown",
   "id": "93596516",
   "metadata": {
    "papermill": {
     "duration": 0.027776,
     "end_time": "2021-04-04T22:47:58.508906",
     "exception": false,
     "start_time": "2021-04-04T22:47:58.481130",
     "status": "completed"
    },
    "tags": []
   },
   "source": [
    "# Report"
   ]
  },
  {
   "cell_type": "code",
   "execution_count": 28,
   "id": "bea5fba1",
   "metadata": {
    "execution": {
     "iopub.execute_input": "2021-04-04T22:47:58.567458Z",
     "iopub.status.busy": "2021-04-04T22:47:58.566800Z",
     "iopub.status.idle": "2021-04-04T22:47:58.569403Z",
     "shell.execute_reply": "2021-04-04T22:47:58.570004Z"
    },
    "papermill": {
     "duration": 0.033575,
     "end_time": "2021-04-04T22:47:58.570188",
     "exception": false,
     "start_time": "2021-04-04T22:47:58.536613",
     "status": "completed"
    },
    "tags": []
   },
   "outputs": [],
   "source": [
    "import csv\n",
    "\n",
    "\n",
    "dataset_config_name = DATASET_CONFIG_PATH.split('/')[-1].split('.')[0]\n",
    "model_config_name = MODEL_CONFIG_PATH.split('/')[-1].split('.')[0]\n",
    "configuration = f\"dataset_{dataset_config_name}-model_{model_config_name}\"\n",
    "\n",
    "with open('results.csv', 'a') as f:\n",
    "    report = dict({'configuration': configuration}, **score)\n",
    "    writer = csv.DictWriter(f, report.keys())\n",
    "    writer.writerow(report)"
   ]
  }
 ],
 "metadata": {
  "celltoolbar": "Tags",
  "kernelspec": {
   "display_name": "Python 3",
   "language": "python",
   "name": "python3"
  },
  "language_info": {
   "codemirror_mode": {
    "name": "ipython",
    "version": 3
   },
   "file_extension": ".py",
   "mimetype": "text/x-python",
   "name": "python",
   "nbconvert_exporter": "python",
   "pygments_lexer": "ipython3",
   "version": "3.9.1"
  },
  "papermill": {
   "default_parameters": {},
   "duration": 11.049203,
   "end_time": "2021-04-04T22:47:59.205799",
   "environment_variables": {},
   "exception": null,
   "input_path": "main.ipynb",
   "output_path": "runs/dataset_000047-model_000002.ipynb",
   "parameters": {
    "DATASET_CONFIG_PATH": "config/dataset/000047.json",
    "MODEL_CONFIG_PATH": "config/model/000002.json",
    "PROFILE_REPORTING": false
   },
   "start_time": "2021-04-04T22:47:48.156596",
   "version": "2.3.3"
  }
 },
 "nbformat": 4,
 "nbformat_minor": 5
}