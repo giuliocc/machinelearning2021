{
 "cells": [
  {
   "cell_type": "markdown",
   "id": "51c71c25",
   "metadata": {
    "papermill": {
     "duration": 0.021783,
     "end_time": "2021-04-04T23:16:47.776290",
     "exception": false,
     "start_time": "2021-04-04T23:16:47.754507",
     "status": "completed"
    },
    "tags": []
   },
   "source": [
    "# Parametrizing"
   ]
  },
  {
   "cell_type": "code",
   "execution_count": 1,
   "id": "3b136394",
   "metadata": {
    "execution": {
     "iopub.execute_input": "2021-04-04T23:16:47.826961Z",
     "iopub.status.busy": "2021-04-04T23:16:47.826230Z",
     "iopub.status.idle": "2021-04-04T23:16:47.828128Z",
     "shell.execute_reply": "2021-04-04T23:16:47.828608Z"
    },
    "papermill": {
     "duration": 0.032911,
     "end_time": "2021-04-04T23:16:47.828808",
     "exception": false,
     "start_time": "2021-04-04T23:16:47.795897",
     "status": "completed"
    },
    "tags": [
     "parameters"
    ]
   },
   "outputs": [],
   "source": [
    "DATASET_CONFIG_PATH = 'config/dataset/kc1_001.json'\n",
    "MODEL_CONFIG_PATH = 'config/model/knndd_001.json'\n",
    "PROFILE_REPORTING = False"
   ]
  },
  {
   "cell_type": "code",
   "execution_count": 2,
   "id": "846d2dbe",
   "metadata": {
    "execution": {
     "iopub.execute_input": "2021-04-04T23:16:47.872436Z",
     "iopub.status.busy": "2021-04-04T23:16:47.871849Z",
     "iopub.status.idle": "2021-04-04T23:16:47.873711Z",
     "shell.execute_reply": "2021-04-04T23:16:47.874198Z"
    },
    "papermill": {
     "duration": 0.025063,
     "end_time": "2021-04-04T23:16:47.874371",
     "exception": false,
     "start_time": "2021-04-04T23:16:47.849308",
     "status": "completed"
    },
    "tags": [
     "injected-parameters"
    ]
   },
   "outputs": [],
   "source": [
    "# Parameters\n",
    "DATASET_CONFIG_PATH = \"config/dataset/000110.json\"\n",
    "MODEL_CONFIG_PATH = \"config/model/000004.json\"\n",
    "PROFILE_REPORTING = False\n"
   ]
  },
  {
   "cell_type": "code",
   "execution_count": 3,
   "id": "b80f2a10",
   "metadata": {
    "execution": {
     "iopub.execute_input": "2021-04-04T23:16:47.920375Z",
     "iopub.status.busy": "2021-04-04T23:16:47.919539Z",
     "iopub.status.idle": "2021-04-04T23:16:47.921859Z",
     "shell.execute_reply": "2021-04-04T23:16:47.922336Z"
    },
    "papermill": {
     "duration": 0.027105,
     "end_time": "2021-04-04T23:16:47.922480",
     "exception": false,
     "start_time": "2021-04-04T23:16:47.895375",
     "status": "completed"
    },
    "tags": []
   },
   "outputs": [],
   "source": [
    "import json\n",
    "\n",
    "\n",
    "with open(DATASET_CONFIG_PATH) as f:\n",
    "    dataset_config = json.load(f)\n",
    "\n",
    "with open(MODEL_CONFIG_PATH) as f:\n",
    "    model_config = json.load(f)"
   ]
  },
  {
   "cell_type": "markdown",
   "id": "9a4b0e2d",
   "metadata": {
    "papermill": {
     "duration": 0.0205,
     "end_time": "2021-04-04T23:16:47.965094",
     "exception": false,
     "start_time": "2021-04-04T23:16:47.944594",
     "status": "completed"
    },
    "tags": []
   },
   "source": [
    "# Profiling"
   ]
  },
  {
   "cell_type": "code",
   "execution_count": 4,
   "id": "a3e0289b",
   "metadata": {
    "execution": {
     "iopub.execute_input": "2021-04-04T23:16:48.009498Z",
     "iopub.status.busy": "2021-04-04T23:16:48.008845Z",
     "iopub.status.idle": "2021-04-04T23:16:49.260838Z",
     "shell.execute_reply": "2021-04-04T23:16:49.260096Z"
    },
    "papermill": {
     "duration": 1.275193,
     "end_time": "2021-04-04T23:16:49.261002",
     "exception": false,
     "start_time": "2021-04-04T23:16:47.985809",
     "status": "completed"
    },
    "tags": []
   },
   "outputs": [],
   "source": [
    "import pandas as pd\n",
    "from pandas_profiling import ProfileReport"
   ]
  },
  {
   "cell_type": "code",
   "execution_count": 5,
   "id": "ee6c0666",
   "metadata": {
    "execution": {
     "iopub.execute_input": "2021-04-04T23:16:49.313679Z",
     "iopub.status.busy": "2021-04-04T23:16:49.312304Z",
     "iopub.status.idle": "2021-04-04T23:16:49.323398Z",
     "shell.execute_reply": "2021-04-04T23:16:49.324255Z"
    },
    "papermill": {
     "duration": 0.0374,
     "end_time": "2021-04-04T23:16:49.324495",
     "exception": false,
     "start_time": "2021-04-04T23:16:49.287095",
     "status": "completed"
    },
    "tags": []
   },
   "outputs": [],
   "source": [
    "df = pd.read_csv(dataset_config['dataset_path'])"
   ]
  },
  {
   "cell_type": "code",
   "execution_count": 6,
   "id": "7eca6c4a",
   "metadata": {
    "execution": {
     "iopub.execute_input": "2021-04-04T23:16:49.391046Z",
     "iopub.status.busy": "2021-04-04T23:16:49.379971Z",
     "iopub.status.idle": "2021-04-04T23:16:49.393845Z",
     "shell.execute_reply": "2021-04-04T23:16:49.394530Z"
    },
    "papermill": {
     "duration": 0.04183,
     "end_time": "2021-04-04T23:16:49.394725",
     "exception": false,
     "start_time": "2021-04-04T23:16:49.352895",
     "status": "completed"
    },
    "tags": []
   },
   "outputs": [
    {
     "name": "stdout",
     "output_type": "stream",
     "text": [
      "<class 'pandas.core.frame.DataFrame'>\n",
      "RangeIndex: 498 entries, 0 to 497\n",
      "Data columns (total 23 columns):\n",
      " #   Column             Non-Null Count  Dtype  \n",
      "---  ------             --------------  -----  \n",
      " 0   id                 498 non-null    int64  \n",
      " 1   loc                498 non-null    float64\n",
      " 2   v(g)               498 non-null    float64\n",
      " 3   ev(g)              498 non-null    float64\n",
      " 4   iv(g)              498 non-null    float64\n",
      " 5   n                  498 non-null    float64\n",
      " 6   v                  498 non-null    float64\n",
      " 7   l                  498 non-null    float64\n",
      " 8   d                  498 non-null    float64\n",
      " 9   i                  498 non-null    float64\n",
      " 10  e                  498 non-null    float64\n",
      " 11  b                  498 non-null    float64\n",
      " 12  t                  498 non-null    float64\n",
      " 13  lOCode             498 non-null    int64  \n",
      " 14  lOComment          498 non-null    int64  \n",
      " 15  lOBlank            498 non-null    int64  \n",
      " 16  locCodeAndComment  498 non-null    int64  \n",
      " 17  uniq_Op            498 non-null    float64\n",
      " 18  uniq_Opnd          498 non-null    float64\n",
      " 19  total_Op           498 non-null    float64\n",
      " 20  total_Opnd         498 non-null    float64\n",
      " 21  branchCount        498 non-null    float64\n",
      " 22  defects            498 non-null    bool   \n",
      "dtypes: bool(1), float64(17), int64(5)\n",
      "memory usage: 86.2 KB\n"
     ]
    }
   ],
   "source": [
    "df.info()"
   ]
  },
  {
   "cell_type": "code",
   "execution_count": 7,
   "id": "3638e5e8",
   "metadata": {
    "execution": {
     "iopub.execute_input": "2021-04-04T23:16:49.450700Z",
     "iopub.status.busy": "2021-04-04T23:16:49.449868Z",
     "iopub.status.idle": "2021-04-04T23:16:49.480584Z",
     "shell.execute_reply": "2021-04-04T23:16:49.481518Z"
    },
    "papermill": {
     "duration": 0.061512,
     "end_time": "2021-04-04T23:16:49.481768",
     "exception": false,
     "start_time": "2021-04-04T23:16:49.420256",
     "status": "completed"
    },
    "tags": []
   },
   "outputs": [
    {
     "data": {
      "text/html": [
       "<div>\n",
       "<style scoped>\n",
       "    .dataframe tbody tr th:only-of-type {\n",
       "        vertical-align: middle;\n",
       "    }\n",
       "\n",
       "    .dataframe tbody tr th {\n",
       "        vertical-align: top;\n",
       "    }\n",
       "\n",
       "    .dataframe thead th {\n",
       "        text-align: right;\n",
       "    }\n",
       "</style>\n",
       "<table border=\"1\" class=\"dataframe\">\n",
       "  <thead>\n",
       "    <tr style=\"text-align: right;\">\n",
       "      <th></th>\n",
       "      <th>id</th>\n",
       "      <th>loc</th>\n",
       "      <th>v(g)</th>\n",
       "      <th>ev(g)</th>\n",
       "      <th>iv(g)</th>\n",
       "      <th>n</th>\n",
       "      <th>v</th>\n",
       "      <th>l</th>\n",
       "      <th>d</th>\n",
       "      <th>i</th>\n",
       "      <th>...</th>\n",
       "      <th>lOCode</th>\n",
       "      <th>lOComment</th>\n",
       "      <th>lOBlank</th>\n",
       "      <th>locCodeAndComment</th>\n",
       "      <th>uniq_Op</th>\n",
       "      <th>uniq_Opnd</th>\n",
       "      <th>total_Op</th>\n",
       "      <th>total_Opnd</th>\n",
       "      <th>branchCount</th>\n",
       "      <th>defects</th>\n",
       "    </tr>\n",
       "  </thead>\n",
       "  <tbody>\n",
       "    <tr>\n",
       "      <th>0</th>\n",
       "      <td>1</td>\n",
       "      <td>1.1</td>\n",
       "      <td>1.4</td>\n",
       "      <td>1.4</td>\n",
       "      <td>1.4</td>\n",
       "      <td>1.3</td>\n",
       "      <td>1.30</td>\n",
       "      <td>1.30</td>\n",
       "      <td>1.30</td>\n",
       "      <td>1.30</td>\n",
       "      <td>...</td>\n",
       "      <td>2</td>\n",
       "      <td>2</td>\n",
       "      <td>2</td>\n",
       "      <td>2</td>\n",
       "      <td>1.2</td>\n",
       "      <td>1.2</td>\n",
       "      <td>1.2</td>\n",
       "      <td>1.2</td>\n",
       "      <td>1.4</td>\n",
       "      <td>False</td>\n",
       "    </tr>\n",
       "    <tr>\n",
       "      <th>1</th>\n",
       "      <td>2</td>\n",
       "      <td>1.0</td>\n",
       "      <td>1.0</td>\n",
       "      <td>1.0</td>\n",
       "      <td>1.0</td>\n",
       "      <td>1.0</td>\n",
       "      <td>1.00</td>\n",
       "      <td>1.00</td>\n",
       "      <td>1.00</td>\n",
       "      <td>1.00</td>\n",
       "      <td>...</td>\n",
       "      <td>1</td>\n",
       "      <td>1</td>\n",
       "      <td>1</td>\n",
       "      <td>1</td>\n",
       "      <td>1.0</td>\n",
       "      <td>1.0</td>\n",
       "      <td>1.0</td>\n",
       "      <td>1.0</td>\n",
       "      <td>1.0</td>\n",
       "      <td>True</td>\n",
       "    </tr>\n",
       "    <tr>\n",
       "      <th>2</th>\n",
       "      <td>3</td>\n",
       "      <td>24.0</td>\n",
       "      <td>5.0</td>\n",
       "      <td>1.0</td>\n",
       "      <td>3.0</td>\n",
       "      <td>63.0</td>\n",
       "      <td>309.13</td>\n",
       "      <td>0.11</td>\n",
       "      <td>9.50</td>\n",
       "      <td>32.54</td>\n",
       "      <td>...</td>\n",
       "      <td>1</td>\n",
       "      <td>0</td>\n",
       "      <td>6</td>\n",
       "      <td>0</td>\n",
       "      <td>15.0</td>\n",
       "      <td>15.0</td>\n",
       "      <td>44.0</td>\n",
       "      <td>19.0</td>\n",
       "      <td>9.0</td>\n",
       "      <td>False</td>\n",
       "    </tr>\n",
       "    <tr>\n",
       "      <th>3</th>\n",
       "      <td>4</td>\n",
       "      <td>20.0</td>\n",
       "      <td>4.0</td>\n",
       "      <td>4.0</td>\n",
       "      <td>2.0</td>\n",
       "      <td>47.0</td>\n",
       "      <td>215.49</td>\n",
       "      <td>0.06</td>\n",
       "      <td>16.00</td>\n",
       "      <td>13.47</td>\n",
       "      <td>...</td>\n",
       "      <td>0</td>\n",
       "      <td>0</td>\n",
       "      <td>3</td>\n",
       "      <td>0</td>\n",
       "      <td>16.0</td>\n",
       "      <td>8.0</td>\n",
       "      <td>31.0</td>\n",
       "      <td>16.0</td>\n",
       "      <td>7.0</td>\n",
       "      <td>False</td>\n",
       "    </tr>\n",
       "    <tr>\n",
       "      <th>4</th>\n",
       "      <td>5</td>\n",
       "      <td>24.0</td>\n",
       "      <td>6.0</td>\n",
       "      <td>6.0</td>\n",
       "      <td>2.0</td>\n",
       "      <td>72.0</td>\n",
       "      <td>346.13</td>\n",
       "      <td>0.06</td>\n",
       "      <td>17.33</td>\n",
       "      <td>19.97</td>\n",
       "      <td>...</td>\n",
       "      <td>0</td>\n",
       "      <td>0</td>\n",
       "      <td>3</td>\n",
       "      <td>0</td>\n",
       "      <td>16.0</td>\n",
       "      <td>12.0</td>\n",
       "      <td>46.0</td>\n",
       "      <td>26.0</td>\n",
       "      <td>11.0</td>\n",
       "      <td>False</td>\n",
       "    </tr>\n",
       "  </tbody>\n",
       "</table>\n",
       "<p>5 rows × 23 columns</p>\n",
       "</div>"
      ],
      "text/plain": [
       "   id   loc  v(g)  ev(g)  iv(g)     n       v     l      d      i  ...  \\\n",
       "0   1   1.1   1.4    1.4    1.4   1.3    1.30  1.30   1.30   1.30  ...   \n",
       "1   2   1.0   1.0    1.0    1.0   1.0    1.00  1.00   1.00   1.00  ...   \n",
       "2   3  24.0   5.0    1.0    3.0  63.0  309.13  0.11   9.50  32.54  ...   \n",
       "3   4  20.0   4.0    4.0    2.0  47.0  215.49  0.06  16.00  13.47  ...   \n",
       "4   5  24.0   6.0    6.0    2.0  72.0  346.13  0.06  17.33  19.97  ...   \n",
       "\n",
       "   lOCode  lOComment  lOBlank  locCodeAndComment  uniq_Op  uniq_Opnd  \\\n",
       "0       2          2        2                  2      1.2        1.2   \n",
       "1       1          1        1                  1      1.0        1.0   \n",
       "2       1          0        6                  0     15.0       15.0   \n",
       "3       0          0        3                  0     16.0        8.0   \n",
       "4       0          0        3                  0     16.0       12.0   \n",
       "\n",
       "   total_Op  total_Opnd  branchCount  defects  \n",
       "0       1.2         1.2          1.4    False  \n",
       "1       1.0         1.0          1.0     True  \n",
       "2      44.0        19.0          9.0    False  \n",
       "3      31.0        16.0          7.0    False  \n",
       "4      46.0        26.0         11.0    False  \n",
       "\n",
       "[5 rows x 23 columns]"
      ]
     },
     "execution_count": 7,
     "metadata": {},
     "output_type": "execute_result"
    }
   ],
   "source": [
    "df.head()"
   ]
  },
  {
   "cell_type": "code",
   "execution_count": 8,
   "id": "733e95eb",
   "metadata": {
    "execution": {
     "iopub.execute_input": "2021-04-04T23:16:49.537549Z",
     "iopub.status.busy": "2021-04-04T23:16:49.536713Z",
     "iopub.status.idle": "2021-04-04T23:16:49.541086Z",
     "shell.execute_reply": "2021-04-04T23:16:49.540206Z"
    },
    "papermill": {
     "duration": 0.031114,
     "end_time": "2021-04-04T23:16:49.541258",
     "exception": false,
     "start_time": "2021-04-04T23:16:49.510144",
     "status": "completed"
    },
    "tags": []
   },
   "outputs": [],
   "source": [
    "del df['id']"
   ]
  },
  {
   "cell_type": "code",
   "execution_count": 9,
   "id": "6ff6f5b0",
   "metadata": {
    "execution": {
     "iopub.execute_input": "2021-04-04T23:16:49.595152Z",
     "iopub.status.busy": "2021-04-04T23:16:49.594414Z",
     "iopub.status.idle": "2021-04-04T23:16:49.596863Z",
     "shell.execute_reply": "2021-04-04T23:16:49.597556Z"
    },
    "papermill": {
     "duration": 0.029371,
     "end_time": "2021-04-04T23:16:49.597752",
     "exception": false,
     "start_time": "2021-04-04T23:16:49.568381",
     "status": "completed"
    },
    "tags": []
   },
   "outputs": [],
   "source": [
    "if PROFILE_REPORTING:\n",
    "    ProfileReport(df).to_widgets()"
   ]
  },
  {
   "cell_type": "markdown",
   "id": "1deaf3f0",
   "metadata": {
    "papermill": {
     "duration": 0.021384,
     "end_time": "2021-04-04T23:16:49.645877",
     "exception": false,
     "start_time": "2021-04-04T23:16:49.624493",
     "status": "completed"
    },
    "tags": []
   },
   "source": [
    "# Preprocess"
   ]
  },
  {
   "cell_type": "code",
   "execution_count": 10,
   "id": "1513e563",
   "metadata": {
    "execution": {
     "iopub.execute_input": "2021-04-04T23:16:49.693470Z",
     "iopub.status.busy": "2021-04-04T23:16:49.692647Z",
     "iopub.status.idle": "2021-04-04T23:16:49.694995Z",
     "shell.execute_reply": "2021-04-04T23:16:49.695465Z"
    },
    "papermill": {
     "duration": 0.028563,
     "end_time": "2021-04-04T23:16:49.695608",
     "exception": false,
     "start_time": "2021-04-04T23:16:49.667045",
     "status": "completed"
    },
    "tags": []
   },
   "outputs": [],
   "source": [
    "working_df = df.copy()"
   ]
  },
  {
   "cell_type": "code",
   "execution_count": 11,
   "id": "3b26d675",
   "metadata": {
    "execution": {
     "iopub.execute_input": "2021-04-04T23:16:49.751776Z",
     "iopub.status.busy": "2021-04-04T23:16:49.751075Z",
     "iopub.status.idle": "2021-04-04T23:16:49.753410Z",
     "shell.execute_reply": "2021-04-04T23:16:49.753937Z"
    },
    "papermill": {
     "duration": 0.034983,
     "end_time": "2021-04-04T23:16:49.754099",
     "exception": false,
     "start_time": "2021-04-04T23:16:49.719116",
     "status": "completed"
    },
    "tags": []
   },
   "outputs": [],
   "source": [
    "working_df['defects'] = working_df['defects'].replace([False, True], [0, 1])"
   ]
  },
  {
   "cell_type": "code",
   "execution_count": 12,
   "id": "eb48604f",
   "metadata": {
    "execution": {
     "iopub.execute_input": "2021-04-04T23:16:49.803447Z",
     "iopub.status.busy": "2021-04-04T23:16:49.802320Z",
     "iopub.status.idle": "2021-04-04T23:16:49.806571Z",
     "shell.execute_reply": "2021-04-04T23:16:49.807411Z"
    },
    "papermill": {
     "duration": 0.031084,
     "end_time": "2021-04-04T23:16:49.807635",
     "exception": false,
     "start_time": "2021-04-04T23:16:49.776551",
     "status": "completed"
    },
    "tags": []
   },
   "outputs": [],
   "source": [
    "for col in dataset_config['delete_columns']:\n",
    "    del working_df[col]"
   ]
  },
  {
   "cell_type": "code",
   "execution_count": 13,
   "id": "9a17bc29",
   "metadata": {
    "execution": {
     "iopub.execute_input": "2021-04-04T23:16:49.862321Z",
     "iopub.status.busy": "2021-04-04T23:16:49.860320Z",
     "iopub.status.idle": "2021-04-04T23:16:49.873071Z",
     "shell.execute_reply": "2021-04-04T23:16:49.872293Z"
    },
    "papermill": {
     "duration": 0.040017,
     "end_time": "2021-04-04T23:16:49.873245",
     "exception": false,
     "start_time": "2021-04-04T23:16:49.833228",
     "status": "completed"
    },
    "tags": []
   },
   "outputs": [],
   "source": [
    "working_df = working_df.drop_duplicates()"
   ]
  },
  {
   "cell_type": "markdown",
   "id": "a4d52ca6",
   "metadata": {
    "papermill": {
     "duration": 0.025836,
     "end_time": "2021-04-04T23:16:49.926140",
     "exception": false,
     "start_time": "2021-04-04T23:16:49.900304",
     "status": "completed"
    },
    "tags": []
   },
   "source": [
    "# Split"
   ]
  },
  {
   "cell_type": "code",
   "execution_count": 14,
   "id": "3e9ee4b5",
   "metadata": {
    "execution": {
     "iopub.execute_input": "2021-04-04T23:16:49.974834Z",
     "iopub.status.busy": "2021-04-04T23:16:49.973833Z",
     "iopub.status.idle": "2021-04-04T23:16:50.010143Z",
     "shell.execute_reply": "2021-04-04T23:16:50.009544Z"
    },
    "papermill": {
     "duration": 0.062122,
     "end_time": "2021-04-04T23:16:50.010266",
     "exception": false,
     "start_time": "2021-04-04T23:16:49.948144",
     "status": "completed"
    },
    "tags": []
   },
   "outputs": [],
   "source": [
    "from sklearn.model_selection import train_test_split"
   ]
  },
  {
   "cell_type": "code",
   "execution_count": 15,
   "id": "274004ce",
   "metadata": {
    "execution": {
     "iopub.execute_input": "2021-04-04T23:16:50.060130Z",
     "iopub.status.busy": "2021-04-04T23:16:50.059516Z",
     "iopub.status.idle": "2021-04-04T23:16:50.065055Z",
     "shell.execute_reply": "2021-04-04T23:16:50.065745Z"
    },
    "papermill": {
     "duration": 0.033283,
     "end_time": "2021-04-04T23:16:50.065943",
     "exception": false,
     "start_time": "2021-04-04T23:16:50.032660",
     "status": "completed"
    },
    "scrolled": true,
    "tags": []
   },
   "outputs": [],
   "source": [
    "inlier, outlier = working_df[working_df['defects'] == 0], working_df[working_df['defects'] == 1]"
   ]
  },
  {
   "cell_type": "code",
   "execution_count": 16,
   "id": "753c7b03",
   "metadata": {
    "execution": {
     "iopub.execute_input": "2021-04-04T23:16:50.126192Z",
     "iopub.status.busy": "2021-04-04T23:16:50.125095Z",
     "iopub.status.idle": "2021-04-04T23:16:50.129467Z",
     "shell.execute_reply": "2021-04-04T23:16:50.130164Z"
    },
    "papermill": {
     "duration": 0.034198,
     "end_time": "2021-04-04T23:16:50.130363",
     "exception": false,
     "start_time": "2021-04-04T23:16:50.096165",
     "status": "completed"
    },
    "tags": []
   },
   "outputs": [],
   "source": [
    "X_inlier = inlier.copy()\n",
    "y_inlier = X_inlier.pop('defects')\n",
    "X_outlier = outlier.copy()\n",
    "y_outlier = X_outlier.pop('defects')"
   ]
  },
  {
   "cell_type": "code",
   "execution_count": 17,
   "id": "2ba43193",
   "metadata": {
    "execution": {
     "iopub.execute_input": "2021-04-04T23:16:50.191690Z",
     "iopub.status.busy": "2021-04-04T23:16:50.190795Z",
     "iopub.status.idle": "2021-04-04T23:16:50.193324Z",
     "shell.execute_reply": "2021-04-04T23:16:50.193845Z"
    },
    "papermill": {
     "duration": 0.033731,
     "end_time": "2021-04-04T23:16:50.194002",
     "exception": false,
     "start_time": "2021-04-04T23:16:50.160271",
     "status": "completed"
    },
    "tags": []
   },
   "outputs": [],
   "source": [
    "test_size = dataset_config['test_size']\n",
    "random_state = dataset_config['random_state']\n",
    "\n",
    "X_inlier_train, X_inlier_test, y_inlier_train, y_inlier_test = train_test_split(\n",
    "    X_inlier,\n",
    "    y_inlier,\n",
    "    test_size=test_size,\n",
    "    random_state=random_state\n",
    ")"
   ]
  },
  {
   "cell_type": "code",
   "execution_count": 18,
   "id": "0b7582ca",
   "metadata": {
    "execution": {
     "iopub.execute_input": "2021-04-04T23:16:50.249910Z",
     "iopub.status.busy": "2021-04-04T23:16:50.247662Z",
     "iopub.status.idle": "2021-04-04T23:16:50.252679Z",
     "shell.execute_reply": "2021-04-04T23:16:50.253458Z"
    },
    "papermill": {
     "duration": 0.034745,
     "end_time": "2021-04-04T23:16:50.253673",
     "exception": false,
     "start_time": "2021-04-04T23:16:50.218928",
     "status": "completed"
    },
    "tags": []
   },
   "outputs": [],
   "source": [
    "test_outlier_size = dataset_config['test_outlier_size']\n",
    "if test_outlier_size > 0.0:\n",
    "    X_outlier_train, X_outlier_test, y_outlier_train, y_outlier_test = train_test_split(\n",
    "        X_outlier,\n",
    "        y_outlier,\n",
    "        test_size=test_outlier_size,\n",
    "        random_state=random_state\n",
    "    )\n",
    "else:\n",
    "    X_outlier_train, y_outlier_train = pd.DataFrame(columns=X_outlier.columns), pd.Series(dtype='int64')\n",
    "    X_outlier_test, y_outlier_test = X_outlier.copy(), y_outlier.copy()"
   ]
  },
  {
   "cell_type": "code",
   "execution_count": 19,
   "id": "c34363db",
   "metadata": {
    "execution": {
     "iopub.execute_input": "2021-04-04T23:16:50.313417Z",
     "iopub.status.busy": "2021-04-04T23:16:50.310110Z",
     "iopub.status.idle": "2021-04-04T23:16:50.316451Z",
     "shell.execute_reply": "2021-04-04T23:16:50.315831Z"
    },
    "papermill": {
     "duration": 0.035362,
     "end_time": "2021-04-04T23:16:50.316585",
     "exception": false,
     "start_time": "2021-04-04T23:16:50.281223",
     "status": "completed"
    },
    "tags": []
   },
   "outputs": [],
   "source": [
    "X_train, y_train = pd.concat([X_inlier_train, X_outlier_train], ignore_index=True), pd.concat([y_inlier_train, y_outlier_train], ignore_index=True)\n",
    "X_test, y_test = pd.concat([X_inlier_test, X_outlier_test], ignore_index=True), pd.concat([y_inlier_test, y_outlier_test], ignore_index=True)"
   ]
  },
  {
   "cell_type": "markdown",
   "id": "7cde7309",
   "metadata": {
    "papermill": {
     "duration": 0.025128,
     "end_time": "2021-04-04T23:16:50.367735",
     "exception": false,
     "start_time": "2021-04-04T23:16:50.342607",
     "status": "completed"
    },
    "tags": []
   },
   "source": [
    "# Model"
   ]
  },
  {
   "cell_type": "code",
   "execution_count": 20,
   "id": "2b12a415",
   "metadata": {
    "execution": {
     "iopub.execute_input": "2021-04-04T23:16:50.429208Z",
     "iopub.status.busy": "2021-04-04T23:16:50.428225Z",
     "iopub.status.idle": "2021-04-04T23:16:50.431585Z",
     "shell.execute_reply": "2021-04-04T23:16:50.432529Z"
    },
    "papermill": {
     "duration": 0.041696,
     "end_time": "2021-04-04T23:16:50.432782",
     "exception": false,
     "start_time": "2021-04-04T23:16:50.391086",
     "status": "completed"
    },
    "tags": []
   },
   "outputs": [],
   "source": [
    "from math import sqrt\n",
    "\n",
    "\n",
    "class KNNDataDescription:\n",
    "    def __init__(self, k=5, outlier_threshold=1.0):\n",
    "        self.k = k\n",
    "        self.outlier_threshold = outlier_threshold\n",
    "        self.X = []\n",
    "    \n",
    "    def fit(self, X):\n",
    "        self.X = [features.to_list() for index, features in X.iterrows()]\n",
    "\n",
    "    def predict(self, entries):\n",
    "        return [self.predict_entry(features.to_list()) for index, features in entries.iterrows()]\n",
    "    \n",
    "    def predict_entry(self, entry):\n",
    "        kth_neighbor, kth_distance = self.get_kth_neighbor(entry, self.k)\n",
    "        kth_kth_neighbor, kth_kth_distance = self.get_kth_neighbor(kth_neighbor, self.k + 1)\n",
    "\n",
    "        outlier_score = kth_distance / (kth_kth_distance + 0.000001)\n",
    "\n",
    "        return 1 if outlier_score < self.outlier_threshold else -1\n",
    "        \n",
    "    def euclidean_distance(self, features1, features2):\n",
    "        distance = 0.0\n",
    "        for feat1, feat2 in zip(features1, features2):\n",
    "            distance += (feat1 - feat2)**2\n",
    "                \n",
    "        return sqrt(distance)\n",
    "\n",
    "    def get_neighbors(self, entry, k):\n",
    "        distance_to_data_points = [\n",
    "            (data_point, self.euclidean_distance(entry, data_point))\n",
    "            for data_point in self.X\n",
    "        ]\n",
    "        sorted_by_distance = sorted(distance_to_data_points, key=lambda tup: tup[1])\n",
    "        neighbors = sorted_by_distance[:k]\n",
    "        return neighbors\n",
    "\n",
    "    def get_kth_neighbor(self, entry, k):\n",
    "        neighbors = self.get_neighbors(entry, k)\n",
    "        return neighbors[-1]\n"
   ]
  },
  {
   "cell_type": "code",
   "execution_count": 21,
   "id": "1fa9ec1c",
   "metadata": {
    "execution": {
     "iopub.execute_input": "2021-04-04T23:16:50.490297Z",
     "iopub.status.busy": "2021-04-04T23:16:50.489415Z",
     "iopub.status.idle": "2021-04-04T23:16:50.512612Z",
     "shell.execute_reply": "2021-04-04T23:16:50.513544Z"
    },
    "papermill": {
     "duration": 0.051066,
     "end_time": "2021-04-04T23:16:50.513826",
     "exception": false,
     "start_time": "2021-04-04T23:16:50.462760",
     "status": "completed"
    },
    "tags": []
   },
   "outputs": [],
   "source": [
    "from sklearn.svm import OneClassSVM\n",
    "\n",
    "\n",
    "models = {\n",
    "    'oneclasssvm': OneClassSVM,\n",
    "    'knndatadescription': KNNDataDescription,\n",
    "}"
   ]
  },
  {
   "cell_type": "code",
   "execution_count": 22,
   "id": "4d72a0b1",
   "metadata": {
    "execution": {
     "iopub.execute_input": "2021-04-04T23:16:50.574779Z",
     "iopub.status.busy": "2021-04-04T23:16:50.574189Z",
     "iopub.status.idle": "2021-04-04T23:16:50.576534Z",
     "shell.execute_reply": "2021-04-04T23:16:50.577027Z"
    },
    "papermill": {
     "duration": 0.030332,
     "end_time": "2021-04-04T23:16:50.577171",
     "exception": false,
     "start_time": "2021-04-04T23:16:50.546839",
     "status": "completed"
    },
    "scrolled": true,
    "tags": []
   },
   "outputs": [],
   "source": [
    "model_cls = models[model_config['model_type']]\n",
    "model = model_cls(**model_config['hyperparameters'])"
   ]
  },
  {
   "cell_type": "markdown",
   "id": "e00cff3b",
   "metadata": {
    "papermill": {
     "duration": 0.022697,
     "end_time": "2021-04-04T23:16:50.624424",
     "exception": false,
     "start_time": "2021-04-04T23:16:50.601727",
     "status": "completed"
    },
    "tags": []
   },
   "source": [
    "# Fit"
   ]
  },
  {
   "cell_type": "code",
   "execution_count": 23,
   "id": "8b2ded89",
   "metadata": {
    "execution": {
     "iopub.execute_input": "2021-04-04T23:16:50.676279Z",
     "iopub.status.busy": "2021-04-04T23:16:50.673497Z",
     "iopub.status.idle": "2021-04-04T23:16:50.688387Z",
     "shell.execute_reply": "2021-04-04T23:16:50.689120Z"
    },
    "papermill": {
     "duration": 0.042476,
     "end_time": "2021-04-04T23:16:50.689325",
     "exception": false,
     "start_time": "2021-04-04T23:16:50.646849",
     "status": "completed"
    },
    "tags": []
   },
   "outputs": [
    {
     "data": {
      "text/plain": [
       "OneClassSVM()"
      ]
     },
     "execution_count": 23,
     "metadata": {},
     "output_type": "execute_result"
    }
   ],
   "source": [
    "model.fit(X_train)"
   ]
  },
  {
   "cell_type": "markdown",
   "id": "f99999f7",
   "metadata": {
    "papermill": {
     "duration": 0.02281,
     "end_time": "2021-04-04T23:16:50.738920",
     "exception": false,
     "start_time": "2021-04-04T23:16:50.716110",
     "status": "completed"
    },
    "tags": []
   },
   "source": [
    "# Predict"
   ]
  },
  {
   "cell_type": "code",
   "execution_count": 24,
   "id": "6536fbf7",
   "metadata": {
    "execution": {
     "iopub.execute_input": "2021-04-04T23:16:50.799605Z",
     "iopub.status.busy": "2021-04-04T23:16:50.796544Z",
     "iopub.status.idle": "2021-04-04T23:16:50.807280Z",
     "shell.execute_reply": "2021-04-04T23:16:50.806437Z"
    },
    "papermill": {
     "duration": 0.037694,
     "end_time": "2021-04-04T23:16:50.807487",
     "exception": false,
     "start_time": "2021-04-04T23:16:50.769793",
     "status": "completed"
    },
    "tags": []
   },
   "outputs": [],
   "source": [
    "predictions = model.predict(X_test)"
   ]
  },
  {
   "cell_type": "markdown",
   "id": "aa1c9881",
   "metadata": {
    "papermill": {
     "duration": 0.022919,
     "end_time": "2021-04-04T23:16:50.854988",
     "exception": false,
     "start_time": "2021-04-04T23:16:50.832069",
     "status": "completed"
    },
    "tags": []
   },
   "source": [
    "# Evaluate"
   ]
  },
  {
   "cell_type": "code",
   "execution_count": 25,
   "id": "894f0f04",
   "metadata": {
    "execution": {
     "iopub.execute_input": "2021-04-04T23:16:50.905273Z",
     "iopub.status.busy": "2021-04-04T23:16:50.904397Z",
     "iopub.status.idle": "2021-04-04T23:16:50.906806Z",
     "shell.execute_reply": "2021-04-04T23:16:50.907328Z"
    },
    "papermill": {
     "duration": 0.029384,
     "end_time": "2021-04-04T23:16:50.907483",
     "exception": false,
     "start_time": "2021-04-04T23:16:50.878099",
     "status": "completed"
    },
    "tags": []
   },
   "outputs": [],
   "source": [
    "from sklearn.metrics import f1_score"
   ]
  },
  {
   "cell_type": "code",
   "execution_count": 26,
   "id": "211744d3",
   "metadata": {
    "execution": {
     "iopub.execute_input": "2021-04-04T23:16:50.963837Z",
     "iopub.status.busy": "2021-04-04T23:16:50.962947Z",
     "iopub.status.idle": "2021-04-04T23:16:50.965007Z",
     "shell.execute_reply": "2021-04-04T23:16:50.965531Z"
    },
    "papermill": {
     "duration": 0.03218,
     "end_time": "2021-04-04T23:16:50.965686",
     "exception": false,
     "start_time": "2021-04-04T23:16:50.933506",
     "status": "completed"
    },
    "tags": []
   },
   "outputs": [],
   "source": [
    "y_test = y_test.replace([0, 1], [1, -1])"
   ]
  },
  {
   "cell_type": "code",
   "execution_count": 27,
   "id": "d68a9204",
   "metadata": {
    "execution": {
     "iopub.execute_input": "2021-04-04T23:16:51.023278Z",
     "iopub.status.busy": "2021-04-04T23:16:51.022485Z",
     "iopub.status.idle": "2021-04-04T23:16:51.025717Z",
     "shell.execute_reply": "2021-04-04T23:16:51.024988Z"
    },
    "papermill": {
     "duration": 0.03372,
     "end_time": "2021-04-04T23:16:51.025855",
     "exception": false,
     "start_time": "2021-04-04T23:16:50.992135",
     "status": "completed"
    },
    "tags": []
   },
   "outputs": [],
   "source": [
    "def evaluate(truths, predictions, pos_label, neg_label):\n",
    "    TP = 0\n",
    "    FP = 0\n",
    "    TN = 0\n",
    "    FN = 0\n",
    "\n",
    "    for truth, pred in zip(truths, predictions): \n",
    "        if truth == pred == pos_label:\n",
    "           TP += 1\n",
    "        elif pred == pos_label and truth == neg_label:\n",
    "           FP += 1\n",
    "        elif truth == pred == neg_label:\n",
    "           TN += 1\n",
    "        elif pred == neg_label and truth == pos_label:\n",
    "           FN += 1\n",
    "\n",
    "    precision = TP / (TP + FP)\n",
    "    sensitivity = TP / (TP + FN)\n",
    "    \n",
    "    return {\n",
    "        'true_pos': TP,\n",
    "        'false_pos': FP,\n",
    "        'false_neg': FN,\n",
    "        'true_neg': TN,\n",
    "        'precision': precision,\n",
    "        'sensitivity': sensitivity,\n",
    "        'f1': (2 * (precision * sensitivity)) / (precision + sensitivity)\n",
    "    }\n",
    "\n",
    "score = evaluate(y_test, predictions, pos_label=-1, neg_label=1)"
   ]
  },
  {
   "cell_type": "markdown",
   "id": "93596516",
   "metadata": {
    "papermill": {
     "duration": 0.023859,
     "end_time": "2021-04-04T23:16:51.077629",
     "exception": false,
     "start_time": "2021-04-04T23:16:51.053770",
     "status": "completed"
    },
    "tags": []
   },
   "source": [
    "# Report"
   ]
  },
  {
   "cell_type": "code",
   "execution_count": 28,
   "id": "bea5fba1",
   "metadata": {
    "execution": {
     "iopub.execute_input": "2021-04-04T23:16:51.133930Z",
     "iopub.status.busy": "2021-04-04T23:16:51.133022Z",
     "iopub.status.idle": "2021-04-04T23:16:51.135918Z",
     "shell.execute_reply": "2021-04-04T23:16:51.136643Z"
    },
    "papermill": {
     "duration": 0.035661,
     "end_time": "2021-04-04T23:16:51.136894",
     "exception": false,
     "start_time": "2021-04-04T23:16:51.101233",
     "status": "completed"
    },
    "tags": []
   },
   "outputs": [],
   "source": [
    "import csv\n",
    "\n",
    "\n",
    "dataset_config_name = DATASET_CONFIG_PATH.split('/')[-1].split('.')[0]\n",
    "model_config_name = MODEL_CONFIG_PATH.split('/')[-1].split('.')[0]\n",
    "configuration = f\"dataset_{dataset_config_name}-model_{model_config_name}\"\n",
    "\n",
    "with open('results.csv', 'a') as f:\n",
    "    report = dict({'configuration': configuration}, **score)\n",
    "    writer = csv.DictWriter(f, report.keys())\n",
    "    writer.writerow(report)"
   ]
  }
 ],
 "metadata": {
  "celltoolbar": "Tags",
  "kernelspec": {
   "display_name": "Python 3",
   "language": "python",
   "name": "python3"
  },
  "language_info": {
   "codemirror_mode": {
    "name": "ipython",
    "version": 3
   },
   "file_extension": ".py",
   "mimetype": "text/x-python",
   "name": "python",
   "nbconvert_exporter": "python",
   "pygments_lexer": "ipython3",
   "version": "3.9.1"
  },
  "papermill": {
   "default_parameters": {},
   "duration": 4.592367,
   "end_time": "2021-04-04T23:16:51.674462",
   "environment_variables": {},
   "exception": null,
   "input_path": "main.ipynb",
   "output_path": "runs/dataset_000110-model_000004.ipynb",
   "parameters": {
    "DATASET_CONFIG_PATH": "config/dataset/000110.json",
    "MODEL_CONFIG_PATH": "config/model/000004.json",
    "PROFILE_REPORTING": false
   },
   "start_time": "2021-04-04T23:16:47.082095",
   "version": "2.3.3"
  }
 },
 "nbformat": 4,
 "nbformat_minor": 5
}