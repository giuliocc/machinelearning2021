{
 "cells": [
  {
   "cell_type": "markdown",
   "id": "51c71c25",
   "metadata": {
    "papermill": {
     "duration": 0.028553,
     "end_time": "2021-04-04T23:34:40.457537",
     "exception": false,
     "start_time": "2021-04-04T23:34:40.428984",
     "status": "completed"
    },
    "tags": []
   },
   "source": [
    "# Parametrizing"
   ]
  },
  {
   "cell_type": "code",
   "execution_count": 1,
   "id": "3b136394",
   "metadata": {
    "execution": {
     "iopub.execute_input": "2021-04-04T23:34:40.529502Z",
     "iopub.status.busy": "2021-04-04T23:34:40.527404Z",
     "iopub.status.idle": "2021-04-04T23:34:40.533046Z",
     "shell.execute_reply": "2021-04-04T23:34:40.532033Z"
    },
    "papermill": {
     "duration": 0.047241,
     "end_time": "2021-04-04T23:34:40.533456",
     "exception": false,
     "start_time": "2021-04-04T23:34:40.486215",
     "status": "completed"
    },
    "tags": [
     "parameters"
    ]
   },
   "outputs": [],
   "source": [
    "DATASET_CONFIG_PATH = 'config/dataset/kc1_001.json'\n",
    "MODEL_CONFIG_PATH = 'config/model/knndd_001.json'\n",
    "PROFILE_REPORTING = False"
   ]
  },
  {
   "cell_type": "code",
   "execution_count": 2,
   "id": "08945cc8",
   "metadata": {
    "execution": {
     "iopub.execute_input": "2021-04-04T23:34:40.599658Z",
     "iopub.status.busy": "2021-04-04T23:34:40.598288Z",
     "iopub.status.idle": "2021-04-04T23:34:40.603836Z",
     "shell.execute_reply": "2021-04-04T23:34:40.605026Z"
    },
    "papermill": {
     "duration": 0.044286,
     "end_time": "2021-04-04T23:34:40.605435",
     "exception": false,
     "start_time": "2021-04-04T23:34:40.561149",
     "status": "completed"
    },
    "tags": [
     "injected-parameters"
    ]
   },
   "outputs": [],
   "source": [
    "# Parameters\n",
    "DATASET_CONFIG_PATH = \"config/dataset/000152.json\"\n",
    "MODEL_CONFIG_PATH = \"config/model/000003.json\"\n",
    "PROFILE_REPORTING = False\n"
   ]
  },
  {
   "cell_type": "code",
   "execution_count": 3,
   "id": "b80f2a10",
   "metadata": {
    "execution": {
     "iopub.execute_input": "2021-04-04T23:34:40.667473Z",
     "iopub.status.busy": "2021-04-04T23:34:40.665388Z",
     "iopub.status.idle": "2021-04-04T23:34:40.670317Z",
     "shell.execute_reply": "2021-04-04T23:34:40.671386Z"
    },
    "papermill": {
     "duration": 0.039607,
     "end_time": "2021-04-04T23:34:40.671687",
     "exception": false,
     "start_time": "2021-04-04T23:34:40.632080",
     "status": "completed"
    },
    "tags": []
   },
   "outputs": [],
   "source": [
    "import json\n",
    "\n",
    "\n",
    "with open(DATASET_CONFIG_PATH) as f:\n",
    "    dataset_config = json.load(f)\n",
    "\n",
    "with open(MODEL_CONFIG_PATH) as f:\n",
    "    model_config = json.load(f)"
   ]
  },
  {
   "cell_type": "markdown",
   "id": "9a4b0e2d",
   "metadata": {
    "papermill": {
     "duration": 0.028458,
     "end_time": "2021-04-04T23:34:40.727369",
     "exception": false,
     "start_time": "2021-04-04T23:34:40.698911",
     "status": "completed"
    },
    "tags": []
   },
   "source": [
    "# Profiling"
   ]
  },
  {
   "cell_type": "code",
   "execution_count": 4,
   "id": "a3e0289b",
   "metadata": {
    "execution": {
     "iopub.execute_input": "2021-04-04T23:34:40.823585Z",
     "iopub.status.busy": "2021-04-04T23:34:40.820803Z",
     "iopub.status.idle": "2021-04-04T23:34:42.628901Z",
     "shell.execute_reply": "2021-04-04T23:34:42.628366Z"
    },
    "papermill": {
     "duration": 1.860034,
     "end_time": "2021-04-04T23:34:42.629099",
     "exception": false,
     "start_time": "2021-04-04T23:34:40.769065",
     "status": "completed"
    },
    "tags": []
   },
   "outputs": [],
   "source": [
    "import pandas as pd\n",
    "from pandas_profiling import ProfileReport"
   ]
  },
  {
   "cell_type": "code",
   "execution_count": 5,
   "id": "ee6c0666",
   "metadata": {
    "execution": {
     "iopub.execute_input": "2021-04-04T23:34:42.694204Z",
     "iopub.status.busy": "2021-04-04T23:34:42.693596Z",
     "iopub.status.idle": "2021-04-04T23:34:42.707763Z",
     "shell.execute_reply": "2021-04-04T23:34:42.706511Z"
    },
    "papermill": {
     "duration": 0.048463,
     "end_time": "2021-04-04T23:34:42.708059",
     "exception": false,
     "start_time": "2021-04-04T23:34:42.659596",
     "status": "completed"
    },
    "tags": []
   },
   "outputs": [],
   "source": [
    "df = pd.read_csv(dataset_config['dataset_path'])"
   ]
  },
  {
   "cell_type": "code",
   "execution_count": 6,
   "id": "7eca6c4a",
   "metadata": {
    "execution": {
     "iopub.execute_input": "2021-04-04T23:34:42.813681Z",
     "iopub.status.busy": "2021-04-04T23:34:42.794640Z",
     "iopub.status.idle": "2021-04-04T23:34:42.820933Z",
     "shell.execute_reply": "2021-04-04T23:34:42.821868Z"
    },
    "papermill": {
     "duration": 0.084172,
     "end_time": "2021-04-04T23:34:42.822163",
     "exception": false,
     "start_time": "2021-04-04T23:34:42.737991",
     "status": "completed"
    },
    "tags": []
   },
   "outputs": [
    {
     "name": "stdout",
     "output_type": "stream",
     "text": [
      "<class 'pandas.core.frame.DataFrame'>\n",
      "RangeIndex: 498 entries, 0 to 497\n",
      "Data columns (total 23 columns):\n",
      " #   Column             Non-Null Count  Dtype  \n",
      "---  ------             --------------  -----  \n",
      " 0   id                 498 non-null    int64  \n",
      " 1   loc                498 non-null    float64\n",
      " 2   v(g)               498 non-null    float64\n",
      " 3   ev(g)              498 non-null    float64\n",
      " 4   iv(g)              498 non-null    float64\n",
      " 5   n                  498 non-null    float64\n",
      " 6   v                  498 non-null    float64\n",
      " 7   l                  498 non-null    float64\n",
      " 8   d                  498 non-null    float64\n",
      " 9   i                  498 non-null    float64\n",
      " 10  e                  498 non-null    float64\n",
      " 11  b                  498 non-null    float64\n",
      " 12  t                  498 non-null    float64\n",
      " 13  lOCode             498 non-null    int64  \n",
      " 14  lOComment          498 non-null    int64  \n",
      " 15  lOBlank            498 non-null    int64  \n",
      " 16  locCodeAndComment  498 non-null    int64  \n",
      " 17  uniq_Op            498 non-null    float64\n",
      " 18  uniq_Opnd          498 non-null    float64\n",
      " 19  total_Op           498 non-null    float64\n",
      " 20  total_Opnd         498 non-null    float64\n",
      " 21  branchCount        498 non-null    float64\n",
      " 22  defects            498 non-null    bool   \n",
      "dtypes: bool(1), float64(17), int64(5)\n",
      "memory usage: 86.2 KB\n"
     ]
    }
   ],
   "source": [
    "df.info()"
   ]
  },
  {
   "cell_type": "code",
   "execution_count": 7,
   "id": "3638e5e8",
   "metadata": {
    "execution": {
     "iopub.execute_input": "2021-04-04T23:34:42.907740Z",
     "iopub.status.busy": "2021-04-04T23:34:42.906250Z",
     "iopub.status.idle": "2021-04-04T23:34:42.967059Z",
     "shell.execute_reply": "2021-04-04T23:34:42.965357Z"
    },
    "papermill": {
     "duration": 0.114779,
     "end_time": "2021-04-04T23:34:42.967342",
     "exception": false,
     "start_time": "2021-04-04T23:34:42.852563",
     "status": "completed"
    },
    "tags": []
   },
   "outputs": [
    {
     "data": {
      "text/html": [
       "<div>\n",
       "<style scoped>\n",
       "    .dataframe tbody tr th:only-of-type {\n",
       "        vertical-align: middle;\n",
       "    }\n",
       "\n",
       "    .dataframe tbody tr th {\n",
       "        vertical-align: top;\n",
       "    }\n",
       "\n",
       "    .dataframe thead th {\n",
       "        text-align: right;\n",
       "    }\n",
       "</style>\n",
       "<table border=\"1\" class=\"dataframe\">\n",
       "  <thead>\n",
       "    <tr style=\"text-align: right;\">\n",
       "      <th></th>\n",
       "      <th>id</th>\n",
       "      <th>loc</th>\n",
       "      <th>v(g)</th>\n",
       "      <th>ev(g)</th>\n",
       "      <th>iv(g)</th>\n",
       "      <th>n</th>\n",
       "      <th>v</th>\n",
       "      <th>l</th>\n",
       "      <th>d</th>\n",
       "      <th>i</th>\n",
       "      <th>...</th>\n",
       "      <th>lOCode</th>\n",
       "      <th>lOComment</th>\n",
       "      <th>lOBlank</th>\n",
       "      <th>locCodeAndComment</th>\n",
       "      <th>uniq_Op</th>\n",
       "      <th>uniq_Opnd</th>\n",
       "      <th>total_Op</th>\n",
       "      <th>total_Opnd</th>\n",
       "      <th>branchCount</th>\n",
       "      <th>defects</th>\n",
       "    </tr>\n",
       "  </thead>\n",
       "  <tbody>\n",
       "    <tr>\n",
       "      <th>0</th>\n",
       "      <td>1</td>\n",
       "      <td>1.1</td>\n",
       "      <td>1.4</td>\n",
       "      <td>1.4</td>\n",
       "      <td>1.4</td>\n",
       "      <td>1.3</td>\n",
       "      <td>1.30</td>\n",
       "      <td>1.30</td>\n",
       "      <td>1.30</td>\n",
       "      <td>1.30</td>\n",
       "      <td>...</td>\n",
       "      <td>2</td>\n",
       "      <td>2</td>\n",
       "      <td>2</td>\n",
       "      <td>2</td>\n",
       "      <td>1.2</td>\n",
       "      <td>1.2</td>\n",
       "      <td>1.2</td>\n",
       "      <td>1.2</td>\n",
       "      <td>1.4</td>\n",
       "      <td>False</td>\n",
       "    </tr>\n",
       "    <tr>\n",
       "      <th>1</th>\n",
       "      <td>2</td>\n",
       "      <td>1.0</td>\n",
       "      <td>1.0</td>\n",
       "      <td>1.0</td>\n",
       "      <td>1.0</td>\n",
       "      <td>1.0</td>\n",
       "      <td>1.00</td>\n",
       "      <td>1.00</td>\n",
       "      <td>1.00</td>\n",
       "      <td>1.00</td>\n",
       "      <td>...</td>\n",
       "      <td>1</td>\n",
       "      <td>1</td>\n",
       "      <td>1</td>\n",
       "      <td>1</td>\n",
       "      <td>1.0</td>\n",
       "      <td>1.0</td>\n",
       "      <td>1.0</td>\n",
       "      <td>1.0</td>\n",
       "      <td>1.0</td>\n",
       "      <td>True</td>\n",
       "    </tr>\n",
       "    <tr>\n",
       "      <th>2</th>\n",
       "      <td>3</td>\n",
       "      <td>24.0</td>\n",
       "      <td>5.0</td>\n",
       "      <td>1.0</td>\n",
       "      <td>3.0</td>\n",
       "      <td>63.0</td>\n",
       "      <td>309.13</td>\n",
       "      <td>0.11</td>\n",
       "      <td>9.50</td>\n",
       "      <td>32.54</td>\n",
       "      <td>...</td>\n",
       "      <td>1</td>\n",
       "      <td>0</td>\n",
       "      <td>6</td>\n",
       "      <td>0</td>\n",
       "      <td>15.0</td>\n",
       "      <td>15.0</td>\n",
       "      <td>44.0</td>\n",
       "      <td>19.0</td>\n",
       "      <td>9.0</td>\n",
       "      <td>False</td>\n",
       "    </tr>\n",
       "    <tr>\n",
       "      <th>3</th>\n",
       "      <td>4</td>\n",
       "      <td>20.0</td>\n",
       "      <td>4.0</td>\n",
       "      <td>4.0</td>\n",
       "      <td>2.0</td>\n",
       "      <td>47.0</td>\n",
       "      <td>215.49</td>\n",
       "      <td>0.06</td>\n",
       "      <td>16.00</td>\n",
       "      <td>13.47</td>\n",
       "      <td>...</td>\n",
       "      <td>0</td>\n",
       "      <td>0</td>\n",
       "      <td>3</td>\n",
       "      <td>0</td>\n",
       "      <td>16.0</td>\n",
       "      <td>8.0</td>\n",
       "      <td>31.0</td>\n",
       "      <td>16.0</td>\n",
       "      <td>7.0</td>\n",
       "      <td>False</td>\n",
       "    </tr>\n",
       "    <tr>\n",
       "      <th>4</th>\n",
       "      <td>5</td>\n",
       "      <td>24.0</td>\n",
       "      <td>6.0</td>\n",
       "      <td>6.0</td>\n",
       "      <td>2.0</td>\n",
       "      <td>72.0</td>\n",
       "      <td>346.13</td>\n",
       "      <td>0.06</td>\n",
       "      <td>17.33</td>\n",
       "      <td>19.97</td>\n",
       "      <td>...</td>\n",
       "      <td>0</td>\n",
       "      <td>0</td>\n",
       "      <td>3</td>\n",
       "      <td>0</td>\n",
       "      <td>16.0</td>\n",
       "      <td>12.0</td>\n",
       "      <td>46.0</td>\n",
       "      <td>26.0</td>\n",
       "      <td>11.0</td>\n",
       "      <td>False</td>\n",
       "    </tr>\n",
       "  </tbody>\n",
       "</table>\n",
       "<p>5 rows × 23 columns</p>\n",
       "</div>"
      ],
      "text/plain": [
       "   id   loc  v(g)  ev(g)  iv(g)     n       v     l      d      i  ...  \\\n",
       "0   1   1.1   1.4    1.4    1.4   1.3    1.30  1.30   1.30   1.30  ...   \n",
       "1   2   1.0   1.0    1.0    1.0   1.0    1.00  1.00   1.00   1.00  ...   \n",
       "2   3  24.0   5.0    1.0    3.0  63.0  309.13  0.11   9.50  32.54  ...   \n",
       "3   4  20.0   4.0    4.0    2.0  47.0  215.49  0.06  16.00  13.47  ...   \n",
       "4   5  24.0   6.0    6.0    2.0  72.0  346.13  0.06  17.33  19.97  ...   \n",
       "\n",
       "   lOCode  lOComment  lOBlank  locCodeAndComment  uniq_Op  uniq_Opnd  \\\n",
       "0       2          2        2                  2      1.2        1.2   \n",
       "1       1          1        1                  1      1.0        1.0   \n",
       "2       1          0        6                  0     15.0       15.0   \n",
       "3       0          0        3                  0     16.0        8.0   \n",
       "4       0          0        3                  0     16.0       12.0   \n",
       "\n",
       "   total_Op  total_Opnd  branchCount  defects  \n",
       "0       1.2         1.2          1.4    False  \n",
       "1       1.0         1.0          1.0     True  \n",
       "2      44.0        19.0          9.0    False  \n",
       "3      31.0        16.0          7.0    False  \n",
       "4      46.0        26.0         11.0    False  \n",
       "\n",
       "[5 rows x 23 columns]"
      ]
     },
     "execution_count": 7,
     "metadata": {},
     "output_type": "execute_result"
    }
   ],
   "source": [
    "df.head()"
   ]
  },
  {
   "cell_type": "code",
   "execution_count": 8,
   "id": "733e95eb",
   "metadata": {
    "execution": {
     "iopub.execute_input": "2021-04-04T23:34:43.057106Z",
     "iopub.status.busy": "2021-04-04T23:34:43.055805Z",
     "iopub.status.idle": "2021-04-04T23:34:43.058985Z",
     "shell.execute_reply": "2021-04-04T23:34:43.060891Z"
    },
    "papermill": {
     "duration": 0.053269,
     "end_time": "2021-04-04T23:34:43.061372",
     "exception": false,
     "start_time": "2021-04-04T23:34:43.008103",
     "status": "completed"
    },
    "tags": []
   },
   "outputs": [],
   "source": [
    "del df['id']"
   ]
  },
  {
   "cell_type": "code",
   "execution_count": 9,
   "id": "6ff6f5b0",
   "metadata": {
    "execution": {
     "iopub.execute_input": "2021-04-04T23:34:43.125826Z",
     "iopub.status.busy": "2021-04-04T23:34:43.125144Z",
     "iopub.status.idle": "2021-04-04T23:34:43.130601Z",
     "shell.execute_reply": "2021-04-04T23:34:43.133260Z"
    },
    "papermill": {
     "duration": 0.047296,
     "end_time": "2021-04-04T23:34:43.133915",
     "exception": false,
     "start_time": "2021-04-04T23:34:43.086619",
     "status": "completed"
    },
    "tags": []
   },
   "outputs": [],
   "source": [
    "if PROFILE_REPORTING:\n",
    "    ProfileReport(df).to_widgets()"
   ]
  },
  {
   "cell_type": "markdown",
   "id": "1deaf3f0",
   "metadata": {
    "papermill": {
     "duration": 0.028935,
     "end_time": "2021-04-04T23:34:43.206342",
     "exception": false,
     "start_time": "2021-04-04T23:34:43.177407",
     "status": "completed"
    },
    "tags": []
   },
   "source": [
    "# Preprocess"
   ]
  },
  {
   "cell_type": "code",
   "execution_count": 10,
   "id": "1513e563",
   "metadata": {
    "execution": {
     "iopub.execute_input": "2021-04-04T23:34:43.265983Z",
     "iopub.status.busy": "2021-04-04T23:34:43.264974Z",
     "iopub.status.idle": "2021-04-04T23:34:43.267813Z",
     "shell.execute_reply": "2021-04-04T23:34:43.268324Z"
    },
    "papermill": {
     "duration": 0.035443,
     "end_time": "2021-04-04T23:34:43.268487",
     "exception": false,
     "start_time": "2021-04-04T23:34:43.233044",
     "status": "completed"
    },
    "tags": []
   },
   "outputs": [],
   "source": [
    "working_df = df.copy()"
   ]
  },
  {
   "cell_type": "code",
   "execution_count": 11,
   "id": "3b26d675",
   "metadata": {
    "execution": {
     "iopub.execute_input": "2021-04-04T23:34:43.327227Z",
     "iopub.status.busy": "2021-04-04T23:34:43.325842Z",
     "iopub.status.idle": "2021-04-04T23:34:43.331845Z",
     "shell.execute_reply": "2021-04-04T23:34:43.333796Z"
    },
    "papermill": {
     "duration": 0.043523,
     "end_time": "2021-04-04T23:34:43.334303",
     "exception": false,
     "start_time": "2021-04-04T23:34:43.290780",
     "status": "completed"
    },
    "tags": []
   },
   "outputs": [],
   "source": [
    "working_df['defects'] = working_df['defects'].replace([False, True], [0, 1])"
   ]
  },
  {
   "cell_type": "code",
   "execution_count": 12,
   "id": "eb48604f",
   "metadata": {
    "execution": {
     "iopub.execute_input": "2021-04-04T23:34:43.408047Z",
     "iopub.status.busy": "2021-04-04T23:34:43.407454Z",
     "iopub.status.idle": "2021-04-04T23:34:43.409383Z",
     "shell.execute_reply": "2021-04-04T23:34:43.409828Z"
    },
    "papermill": {
     "duration": 0.038339,
     "end_time": "2021-04-04T23:34:43.409966",
     "exception": false,
     "start_time": "2021-04-04T23:34:43.371627",
     "status": "completed"
    },
    "tags": []
   },
   "outputs": [],
   "source": [
    "for col in dataset_config['delete_columns']:\n",
    "    del working_df[col]"
   ]
  },
  {
   "cell_type": "code",
   "execution_count": 13,
   "id": "9a17bc29",
   "metadata": {
    "execution": {
     "iopub.execute_input": "2021-04-04T23:34:43.466808Z",
     "iopub.status.busy": "2021-04-04T23:34:43.465436Z",
     "iopub.status.idle": "2021-04-04T23:34:43.479032Z",
     "shell.execute_reply": "2021-04-04T23:34:43.480431Z"
    },
    "papermill": {
     "duration": 0.049285,
     "end_time": "2021-04-04T23:34:43.480848",
     "exception": false,
     "start_time": "2021-04-04T23:34:43.431563",
     "status": "completed"
    },
    "tags": []
   },
   "outputs": [],
   "source": [
    "working_df = working_df.drop_duplicates()"
   ]
  },
  {
   "cell_type": "markdown",
   "id": "a4d52ca6",
   "metadata": {
    "papermill": {
     "duration": 0.028399,
     "end_time": "2021-04-04T23:34:43.531564",
     "exception": false,
     "start_time": "2021-04-04T23:34:43.503165",
     "status": "completed"
    },
    "tags": []
   },
   "source": [
    "# Split"
   ]
  },
  {
   "cell_type": "code",
   "execution_count": 14,
   "id": "3e9ee4b5",
   "metadata": {
    "execution": {
     "iopub.execute_input": "2021-04-04T23:34:43.590681Z",
     "iopub.status.busy": "2021-04-04T23:34:43.589617Z",
     "iopub.status.idle": "2021-04-04T23:34:43.658845Z",
     "shell.execute_reply": "2021-04-04T23:34:43.659925Z"
    },
    "papermill": {
     "duration": 0.106186,
     "end_time": "2021-04-04T23:34:43.660209",
     "exception": false,
     "start_time": "2021-04-04T23:34:43.554023",
     "status": "completed"
    },
    "tags": []
   },
   "outputs": [],
   "source": [
    "from sklearn.model_selection import train_test_split"
   ]
  },
  {
   "cell_type": "code",
   "execution_count": 15,
   "id": "274004ce",
   "metadata": {
    "execution": {
     "iopub.execute_input": "2021-04-04T23:34:43.771237Z",
     "iopub.status.busy": "2021-04-04T23:34:43.769977Z",
     "iopub.status.idle": "2021-04-04T23:34:43.776847Z",
     "shell.execute_reply": "2021-04-04T23:34:43.778707Z"
    },
    "papermill": {
     "duration": 0.069529,
     "end_time": "2021-04-04T23:34:43.779259",
     "exception": false,
     "start_time": "2021-04-04T23:34:43.709730",
     "status": "completed"
    },
    "scrolled": true,
    "tags": []
   },
   "outputs": [],
   "source": [
    "inlier, outlier = working_df[working_df['defects'] == 0], working_df[working_df['defects'] == 1]"
   ]
  },
  {
   "cell_type": "code",
   "execution_count": 16,
   "id": "753c7b03",
   "metadata": {
    "execution": {
     "iopub.execute_input": "2021-04-04T23:34:43.885079Z",
     "iopub.status.busy": "2021-04-04T23:34:43.882910Z",
     "iopub.status.idle": "2021-04-04T23:34:43.894609Z",
     "shell.execute_reply": "2021-04-04T23:34:43.896660Z"
    },
    "papermill": {
     "duration": 0.066774,
     "end_time": "2021-04-04T23:34:43.897045",
     "exception": false,
     "start_time": "2021-04-04T23:34:43.830271",
     "status": "completed"
    },
    "tags": []
   },
   "outputs": [],
   "source": [
    "X_inlier = inlier.copy()\n",
    "y_inlier = X_inlier.pop('defects')\n",
    "X_outlier = outlier.copy()\n",
    "y_outlier = X_outlier.pop('defects')"
   ]
  },
  {
   "cell_type": "code",
   "execution_count": 17,
   "id": "2ba43193",
   "metadata": {
    "execution": {
     "iopub.execute_input": "2021-04-04T23:34:44.046269Z",
     "iopub.status.busy": "2021-04-04T23:34:44.045151Z",
     "iopub.status.idle": "2021-04-04T23:34:44.048592Z",
     "shell.execute_reply": "2021-04-04T23:34:44.049792Z"
    },
    "papermill": {
     "duration": 0.075658,
     "end_time": "2021-04-04T23:34:44.050415",
     "exception": false,
     "start_time": "2021-04-04T23:34:43.974757",
     "status": "completed"
    },
    "tags": []
   },
   "outputs": [],
   "source": [
    "test_size = dataset_config['test_size']\n",
    "random_state = dataset_config['random_state']\n",
    "\n",
    "X_inlier_train, X_inlier_test, y_inlier_train, y_inlier_test = train_test_split(\n",
    "    X_inlier,\n",
    "    y_inlier,\n",
    "    test_size=test_size,\n",
    "    random_state=random_state\n",
    ")"
   ]
  },
  {
   "cell_type": "code",
   "execution_count": 18,
   "id": "0b7582ca",
   "metadata": {
    "execution": {
     "iopub.execute_input": "2021-04-04T23:34:44.198088Z",
     "iopub.status.busy": "2021-04-04T23:34:44.194568Z",
     "iopub.status.idle": "2021-04-04T23:34:44.207926Z",
     "shell.execute_reply": "2021-04-04T23:34:44.208990Z"
    },
    "papermill": {
     "duration": 0.112572,
     "end_time": "2021-04-04T23:34:44.209235",
     "exception": false,
     "start_time": "2021-04-04T23:34:44.096663",
     "status": "completed"
    },
    "tags": []
   },
   "outputs": [],
   "source": [
    "test_outlier_size = dataset_config['test_outlier_size']\n",
    "if test_outlier_size > 0.0:\n",
    "    X_outlier_train, X_outlier_test, y_outlier_train, y_outlier_test = train_test_split(\n",
    "        X_outlier,\n",
    "        y_outlier,\n",
    "        test_size=test_outlier_size,\n",
    "        random_state=random_state\n",
    "    )\n",
    "else:\n",
    "    X_outlier_train, y_outlier_train = pd.DataFrame(columns=X_outlier.columns), pd.Series(dtype='int64')\n",
    "    X_outlier_test, y_outlier_test = X_outlier.copy(), y_outlier.copy()"
   ]
  },
  {
   "cell_type": "code",
   "execution_count": 19,
   "id": "c34363db",
   "metadata": {
    "execution": {
     "iopub.execute_input": "2021-04-04T23:34:44.312420Z",
     "iopub.status.busy": "2021-04-04T23:34:44.309275Z",
     "iopub.status.idle": "2021-04-04T23:34:44.328586Z",
     "shell.execute_reply": "2021-04-04T23:34:44.329277Z"
    },
    "papermill": {
     "duration": 0.071956,
     "end_time": "2021-04-04T23:34:44.329742",
     "exception": false,
     "start_time": "2021-04-04T23:34:44.257786",
     "status": "completed"
    },
    "tags": []
   },
   "outputs": [],
   "source": [
    "X_train, y_train = pd.concat([X_inlier_train, X_outlier_train], ignore_index=True), pd.concat([y_inlier_train, y_outlier_train], ignore_index=True)\n",
    "X_test, y_test = pd.concat([X_inlier_test, X_outlier_test], ignore_index=True), pd.concat([y_inlier_test, y_outlier_test], ignore_index=True)"
   ]
  },
  {
   "cell_type": "markdown",
   "id": "7cde7309",
   "metadata": {
    "papermill": {
     "duration": 0.035623,
     "end_time": "2021-04-04T23:34:44.421119",
     "exception": false,
     "start_time": "2021-04-04T23:34:44.385496",
     "status": "completed"
    },
    "tags": []
   },
   "source": [
    "# Model"
   ]
  },
  {
   "cell_type": "code",
   "execution_count": 20,
   "id": "2b12a415",
   "metadata": {
    "execution": {
     "iopub.execute_input": "2021-04-04T23:34:44.483757Z",
     "iopub.status.busy": "2021-04-04T23:34:44.483150Z",
     "iopub.status.idle": "2021-04-04T23:34:44.485024Z",
     "shell.execute_reply": "2021-04-04T23:34:44.485493Z"
    },
    "papermill": {
     "duration": 0.038967,
     "end_time": "2021-04-04T23:34:44.485638",
     "exception": false,
     "start_time": "2021-04-04T23:34:44.446671",
     "status": "completed"
    },
    "tags": []
   },
   "outputs": [],
   "source": [
    "from math import sqrt\n",
    "\n",
    "\n",
    "class KNNDataDescription:\n",
    "    def __init__(self, k=5, outlier_threshold=1.0):\n",
    "        self.k = k\n",
    "        self.outlier_threshold = outlier_threshold\n",
    "        self.X = []\n",
    "    \n",
    "    def fit(self, X):\n",
    "        self.X = [features.to_list() for index, features in X.iterrows()]\n",
    "\n",
    "    def predict(self, entries):\n",
    "        return [self.predict_entry(features.to_list()) for index, features in entries.iterrows()]\n",
    "    \n",
    "    def predict_entry(self, entry):\n",
    "        kth_neighbor, kth_distance = self.get_kth_neighbor(entry, self.k)\n",
    "        kth_kth_neighbor, kth_kth_distance = self.get_kth_neighbor(kth_neighbor, self.k + 1)\n",
    "\n",
    "        outlier_score = kth_distance / (kth_kth_distance + 0.000001)\n",
    "\n",
    "        return 1 if outlier_score < self.outlier_threshold else -1\n",
    "        \n",
    "    def euclidean_distance(self, features1, features2):\n",
    "        distance = 0.0\n",
    "        for feat1, feat2 in zip(features1, features2):\n",
    "            distance += (feat1 - feat2)**2\n",
    "                \n",
    "        return sqrt(distance)\n",
    "\n",
    "    def get_neighbors(self, entry, k):\n",
    "        distance_to_data_points = [\n",
    "            (data_point, self.euclidean_distance(entry, data_point))\n",
    "            for data_point in self.X\n",
    "        ]\n",
    "        sorted_by_distance = sorted(distance_to_data_points, key=lambda tup: tup[1])\n",
    "        neighbors = sorted_by_distance[:k]\n",
    "        return neighbors\n",
    "\n",
    "    def get_kth_neighbor(self, entry, k):\n",
    "        neighbors = self.get_neighbors(entry, k)\n",
    "        return neighbors[-1]\n"
   ]
  },
  {
   "cell_type": "code",
   "execution_count": 21,
   "id": "1fa9ec1c",
   "metadata": {
    "execution": {
     "iopub.execute_input": "2021-04-04T23:34:44.544874Z",
     "iopub.status.busy": "2021-04-04T23:34:44.543603Z",
     "iopub.status.idle": "2021-04-04T23:34:44.569171Z",
     "shell.execute_reply": "2021-04-04T23:34:44.569944Z"
    },
    "papermill": {
     "duration": 0.060692,
     "end_time": "2021-04-04T23:34:44.570127",
     "exception": false,
     "start_time": "2021-04-04T23:34:44.509435",
     "status": "completed"
    },
    "tags": []
   },
   "outputs": [],
   "source": [
    "from sklearn.svm import OneClassSVM\n",
    "\n",
    "\n",
    "models = {\n",
    "    'oneclasssvm': OneClassSVM,\n",
    "    'knndatadescription': KNNDataDescription,\n",
    "}"
   ]
  },
  {
   "cell_type": "code",
   "execution_count": 22,
   "id": "4d72a0b1",
   "metadata": {
    "execution": {
     "iopub.execute_input": "2021-04-04T23:34:44.622663Z",
     "iopub.status.busy": "2021-04-04T23:34:44.621832Z",
     "iopub.status.idle": "2021-04-04T23:34:44.623955Z",
     "shell.execute_reply": "2021-04-04T23:34:44.624526Z"
    },
    "papermill": {
     "duration": 0.031548,
     "end_time": "2021-04-04T23:34:44.624683",
     "exception": false,
     "start_time": "2021-04-04T23:34:44.593135",
     "status": "completed"
    },
    "scrolled": true,
    "tags": []
   },
   "outputs": [],
   "source": [
    "model_cls = models[model_config['model_type']]\n",
    "model = model_cls(**model_config['hyperparameters'])"
   ]
  },
  {
   "cell_type": "markdown",
   "id": "e00cff3b",
   "metadata": {
    "papermill": {
     "duration": 0.02801,
     "end_time": "2021-04-04T23:34:44.677151",
     "exception": false,
     "start_time": "2021-04-04T23:34:44.649141",
     "status": "completed"
    },
    "tags": []
   },
   "source": [
    "# Fit"
   ]
  },
  {
   "cell_type": "code",
   "execution_count": 23,
   "id": "8b2ded89",
   "metadata": {
    "execution": {
     "iopub.execute_input": "2021-04-04T23:34:44.731658Z",
     "iopub.status.busy": "2021-04-04T23:34:44.730853Z",
     "iopub.status.idle": "2021-04-04T23:34:44.754543Z",
     "shell.execute_reply": "2021-04-04T23:34:44.754025Z"
    },
    "papermill": {
     "duration": 0.054312,
     "end_time": "2021-04-04T23:34:44.754665",
     "exception": false,
     "start_time": "2021-04-04T23:34:44.700353",
     "status": "completed"
    },
    "tags": []
   },
   "outputs": [],
   "source": [
    "model.fit(X_train)"
   ]
  },
  {
   "cell_type": "markdown",
   "id": "f99999f7",
   "metadata": {
    "papermill": {
     "duration": 0.028627,
     "end_time": "2021-04-04T23:34:44.808015",
     "exception": false,
     "start_time": "2021-04-04T23:34:44.779388",
     "status": "completed"
    },
    "tags": []
   },
   "source": [
    "# Predict"
   ]
  },
  {
   "cell_type": "code",
   "execution_count": 24,
   "id": "6536fbf7",
   "metadata": {
    "execution": {
     "iopub.execute_input": "2021-04-04T23:34:44.897705Z",
     "iopub.status.busy": "2021-04-04T23:34:44.865365Z",
     "iopub.status.idle": "2021-04-04T23:34:45.162666Z",
     "shell.execute_reply": "2021-04-04T23:34:45.163364Z"
    },
    "papermill": {
     "duration": 0.325681,
     "end_time": "2021-04-04T23:34:45.163567",
     "exception": false,
     "start_time": "2021-04-04T23:34:44.837886",
     "status": "completed"
    },
    "tags": []
   },
   "outputs": [],
   "source": [
    "predictions = model.predict(X_test)"
   ]
  },
  {
   "cell_type": "markdown",
   "id": "aa1c9881",
   "metadata": {
    "papermill": {
     "duration": 0.025123,
     "end_time": "2021-04-04T23:34:45.222808",
     "exception": false,
     "start_time": "2021-04-04T23:34:45.197685",
     "status": "completed"
    },
    "tags": []
   },
   "source": [
    "# Evaluate"
   ]
  },
  {
   "cell_type": "code",
   "execution_count": 25,
   "id": "894f0f04",
   "metadata": {
    "execution": {
     "iopub.execute_input": "2021-04-04T23:34:45.276341Z",
     "iopub.status.busy": "2021-04-04T23:34:45.275603Z",
     "iopub.status.idle": "2021-04-04T23:34:45.277650Z",
     "shell.execute_reply": "2021-04-04T23:34:45.278152Z"
    },
    "papermill": {
     "duration": 0.030581,
     "end_time": "2021-04-04T23:34:45.278297",
     "exception": false,
     "start_time": "2021-04-04T23:34:45.247716",
     "status": "completed"
    },
    "tags": []
   },
   "outputs": [],
   "source": [
    "from sklearn.metrics import f1_score"
   ]
  },
  {
   "cell_type": "code",
   "execution_count": 26,
   "id": "211744d3",
   "metadata": {
    "execution": {
     "iopub.execute_input": "2021-04-04T23:34:45.345917Z",
     "iopub.status.busy": "2021-04-04T23:34:45.344583Z",
     "iopub.status.idle": "2021-04-04T23:34:45.350672Z",
     "shell.execute_reply": "2021-04-04T23:34:45.351855Z"
    },
    "papermill": {
     "duration": 0.048564,
     "end_time": "2021-04-04T23:34:45.352134",
     "exception": false,
     "start_time": "2021-04-04T23:34:45.303570",
     "status": "completed"
    },
    "tags": []
   },
   "outputs": [],
   "source": [
    "y_test = y_test.replace([0, 1], [1, -1])"
   ]
  },
  {
   "cell_type": "code",
   "execution_count": 27,
   "id": "d68a9204",
   "metadata": {
    "execution": {
     "iopub.execute_input": "2021-04-04T23:34:45.423975Z",
     "iopub.status.busy": "2021-04-04T23:34:45.423243Z",
     "iopub.status.idle": "2021-04-04T23:34:45.424910Z",
     "shell.execute_reply": "2021-04-04T23:34:45.425399Z"
    },
    "papermill": {
     "duration": 0.039721,
     "end_time": "2021-04-04T23:34:45.425546",
     "exception": false,
     "start_time": "2021-04-04T23:34:45.385825",
     "status": "completed"
    },
    "tags": []
   },
   "outputs": [],
   "source": [
    "def evaluate(truths, predictions, pos_label, neg_label):\n",
    "    TP = 0\n",
    "    FP = 0\n",
    "    TN = 0\n",
    "    FN = 0\n",
    "\n",
    "    for truth, pred in zip(truths, predictions): \n",
    "        if truth == pred == pos_label:\n",
    "           TP += 1\n",
    "        elif pred == pos_label and truth == neg_label:\n",
    "           FP += 1\n",
    "        elif truth == pred == neg_label:\n",
    "           TN += 1\n",
    "        elif pred == neg_label and truth == pos_label:\n",
    "           FN += 1\n",
    "\n",
    "    precision = TP / (TP + FP)\n",
    "    sensitivity = TP / (TP + FN)\n",
    "    \n",
    "    return {\n",
    "        'true_pos': TP,\n",
    "        'false_pos': FP,\n",
    "        'false_neg': FN,\n",
    "        'true_neg': TN,\n",
    "        'precision': precision,\n",
    "        'sensitivity': sensitivity,\n",
    "        'f1': (2 * (precision * sensitivity)) / (precision + sensitivity)\n",
    "    }\n",
    "\n",
    "score = evaluate(y_test, predictions, pos_label=-1, neg_label=1)"
   ]
  },
  {
   "cell_type": "markdown",
   "id": "93596516",
   "metadata": {
    "papermill": {
     "duration": 0.030398,
     "end_time": "2021-04-04T23:34:45.481495",
     "exception": false,
     "start_time": "2021-04-04T23:34:45.451097",
     "status": "completed"
    },
    "tags": []
   },
   "source": [
    "# Report"
   ]
  },
  {
   "cell_type": "code",
   "execution_count": 28,
   "id": "bea5fba1",
   "metadata": {
    "execution": {
     "iopub.execute_input": "2021-04-04T23:34:45.538101Z",
     "iopub.status.busy": "2021-04-04T23:34:45.537374Z",
     "iopub.status.idle": "2021-04-04T23:34:45.539004Z",
     "shell.execute_reply": "2021-04-04T23:34:45.539476Z"
    },
    "papermill": {
     "duration": 0.031599,
     "end_time": "2021-04-04T23:34:45.539622",
     "exception": false,
     "start_time": "2021-04-04T23:34:45.508023",
     "status": "completed"
    },
    "tags": []
   },
   "outputs": [],
   "source": [
    "import csv\n",
    "\n",
    "\n",
    "dataset_config_name = DATASET_CONFIG_PATH.split('/')[-1].split('.')[0]\n",
    "model_config_name = MODEL_CONFIG_PATH.split('/')[-1].split('.')[0]\n",
    "configuration = f\"dataset_{dataset_config_name}-model_{model_config_name}\"\n",
    "\n",
    "with open('results.csv', 'a') as f:\n",
    "    report = dict({'configuration': configuration}, **score)\n",
    "    writer = csv.DictWriter(f, report.keys())\n",
    "    writer.writerow(report)"
   ]
  }
 ],
 "metadata": {
  "celltoolbar": "Tags",
  "kernelspec": {
   "display_name": "Python 3",
   "language": "python",
   "name": "python3"
  },
  "language_info": {
   "codemirror_mode": {
    "name": "ipython",
    "version": 3
   },
   "file_extension": ".py",
   "mimetype": "text/x-python",
   "name": "python",
   "nbconvert_exporter": "python",
   "pygments_lexer": "ipython3",
   "version": "3.9.1"
  },
  "papermill": {
   "default_parameters": {},
   "duration": 6.897202,
   "end_time": "2021-04-04T23:34:46.175868",
   "environment_variables": {},
   "exception": null,
   "input_path": "main.ipynb",
   "output_path": "runs/dataset_000152-model_000003.ipynb",
   "parameters": {
    "DATASET_CONFIG_PATH": "config/dataset/000152.json",
    "MODEL_CONFIG_PATH": "config/model/000003.json",
    "PROFILE_REPORTING": false
   },
   "start_time": "2021-04-04T23:34:39.278666",
   "version": "2.3.3"
  }
 },
 "nbformat": 4,
 "nbformat_minor": 5
}