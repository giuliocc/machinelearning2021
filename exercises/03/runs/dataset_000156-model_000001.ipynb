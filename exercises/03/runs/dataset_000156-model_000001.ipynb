{
 "cells": [
  {
   "cell_type": "markdown",
   "id": "51c71c25",
   "metadata": {
    "papermill": {
     "duration": 0.023959,
     "end_time": "2021-04-04T23:36:07.343186",
     "exception": false,
     "start_time": "2021-04-04T23:36:07.319227",
     "status": "completed"
    },
    "tags": []
   },
   "source": [
    "# Parametrizing"
   ]
  },
  {
   "cell_type": "code",
   "execution_count": 1,
   "id": "3b136394",
   "metadata": {
    "execution": {
     "iopub.execute_input": "2021-04-04T23:36:07.436182Z",
     "iopub.status.busy": "2021-04-04T23:36:07.434631Z",
     "iopub.status.idle": "2021-04-04T23:36:07.448210Z",
     "shell.execute_reply": "2021-04-04T23:36:07.450637Z"
    },
    "papermill": {
     "duration": 0.074835,
     "end_time": "2021-04-04T23:36:07.451196",
     "exception": false,
     "start_time": "2021-04-04T23:36:07.376361",
     "status": "completed"
    },
    "tags": [
     "parameters"
    ]
   },
   "outputs": [],
   "source": [
    "DATASET_CONFIG_PATH = 'config/dataset/kc1_001.json'\n",
    "MODEL_CONFIG_PATH = 'config/model/knndd_001.json'\n",
    "PROFILE_REPORTING = False"
   ]
  },
  {
   "cell_type": "code",
   "execution_count": 2,
   "id": "e2a86705",
   "metadata": {
    "execution": {
     "iopub.execute_input": "2021-04-04T23:36:07.518652Z",
     "iopub.status.busy": "2021-04-04T23:36:07.516978Z",
     "iopub.status.idle": "2021-04-04T23:36:07.520047Z",
     "shell.execute_reply": "2021-04-04T23:36:07.520531Z"
    },
    "papermill": {
     "duration": 0.040557,
     "end_time": "2021-04-04T23:36:07.520681",
     "exception": false,
     "start_time": "2021-04-04T23:36:07.480124",
     "status": "completed"
    },
    "tags": [
     "injected-parameters"
    ]
   },
   "outputs": [],
   "source": [
    "# Parameters\n",
    "DATASET_CONFIG_PATH = \"config/dataset/000156.json\"\n",
    "MODEL_CONFIG_PATH = \"config/model/000001.json\"\n",
    "PROFILE_REPORTING = False\n"
   ]
  },
  {
   "cell_type": "code",
   "execution_count": 3,
   "id": "b80f2a10",
   "metadata": {
    "execution": {
     "iopub.execute_input": "2021-04-04T23:36:07.571010Z",
     "iopub.status.busy": "2021-04-04T23:36:07.570415Z",
     "iopub.status.idle": "2021-04-04T23:36:07.572563Z",
     "shell.execute_reply": "2021-04-04T23:36:07.573041Z"
    },
    "papermill": {
     "duration": 0.032633,
     "end_time": "2021-04-04T23:36:07.573192",
     "exception": false,
     "start_time": "2021-04-04T23:36:07.540559",
     "status": "completed"
    },
    "tags": []
   },
   "outputs": [],
   "source": [
    "import json\n",
    "\n",
    "\n",
    "with open(DATASET_CONFIG_PATH) as f:\n",
    "    dataset_config = json.load(f)\n",
    "\n",
    "with open(MODEL_CONFIG_PATH) as f:\n",
    "    model_config = json.load(f)"
   ]
  },
  {
   "cell_type": "markdown",
   "id": "9a4b0e2d",
   "metadata": {
    "papermill": {
     "duration": 0.026533,
     "end_time": "2021-04-04T23:36:07.620017",
     "exception": false,
     "start_time": "2021-04-04T23:36:07.593484",
     "status": "completed"
    },
    "tags": []
   },
   "source": [
    "# Profiling"
   ]
  },
  {
   "cell_type": "code",
   "execution_count": 4,
   "id": "a3e0289b",
   "metadata": {
    "execution": {
     "iopub.execute_input": "2021-04-04T23:36:07.696071Z",
     "iopub.status.busy": "2021-04-04T23:36:07.695367Z",
     "iopub.status.idle": "2021-04-04T23:36:09.389740Z",
     "shell.execute_reply": "2021-04-04T23:36:09.388933Z"
    },
    "papermill": {
     "duration": 1.742133,
     "end_time": "2021-04-04T23:36:09.389859",
     "exception": false,
     "start_time": "2021-04-04T23:36:07.647726",
     "status": "completed"
    },
    "tags": []
   },
   "outputs": [],
   "source": [
    "import pandas as pd\n",
    "from pandas_profiling import ProfileReport"
   ]
  },
  {
   "cell_type": "code",
   "execution_count": 5,
   "id": "ee6c0666",
   "metadata": {
    "execution": {
     "iopub.execute_input": "2021-04-04T23:36:09.447522Z",
     "iopub.status.busy": "2021-04-04T23:36:09.446209Z",
     "iopub.status.idle": "2021-04-04T23:36:09.457619Z",
     "shell.execute_reply": "2021-04-04T23:36:09.458098Z"
    },
    "papermill": {
     "duration": 0.047788,
     "end_time": "2021-04-04T23:36:09.458246",
     "exception": false,
     "start_time": "2021-04-04T23:36:09.410458",
     "status": "completed"
    },
    "tags": []
   },
   "outputs": [],
   "source": [
    "df = pd.read_csv(dataset_config['dataset_path'])"
   ]
  },
  {
   "cell_type": "code",
   "execution_count": 6,
   "id": "7eca6c4a",
   "metadata": {
    "execution": {
     "iopub.execute_input": "2021-04-04T23:36:09.510842Z",
     "iopub.status.busy": "2021-04-04T23:36:09.509841Z",
     "iopub.status.idle": "2021-04-04T23:36:09.519438Z",
     "shell.execute_reply": "2021-04-04T23:36:09.518934Z"
    },
    "papermill": {
     "duration": 0.040911,
     "end_time": "2021-04-04T23:36:09.519557",
     "exception": false,
     "start_time": "2021-04-04T23:36:09.478646",
     "status": "completed"
    },
    "tags": []
   },
   "outputs": [
    {
     "name": "stdout",
     "output_type": "stream",
     "text": [
      "<class 'pandas.core.frame.DataFrame'>\n",
      "RangeIndex: 498 entries, 0 to 497\n",
      "Data columns (total 23 columns):\n",
      " #   Column             Non-Null Count  Dtype  \n",
      "---  ------             --------------  -----  \n",
      " 0   id                 498 non-null    int64  \n",
      " 1   loc                498 non-null    float64\n",
      " 2   v(g)               498 non-null    float64\n",
      " 3   ev(g)              498 non-null    float64\n",
      " 4   iv(g)              498 non-null    float64\n",
      " 5   n                  498 non-null    float64\n",
      " 6   v                  498 non-null    float64\n",
      " 7   l                  498 non-null    float64\n",
      " 8   d                  498 non-null    float64\n",
      " 9   i                  498 non-null    float64\n",
      " 10  e                  498 non-null    float64\n",
      " 11  b                  498 non-null    float64\n",
      " 12  t                  498 non-null    float64\n",
      " 13  lOCode             498 non-null    int64  \n",
      " 14  lOComment          498 non-null    int64  \n",
      " 15  lOBlank            498 non-null    int64  \n",
      " 16  locCodeAndComment  498 non-null    int64  \n",
      " 17  uniq_Op            498 non-null    float64\n",
      " 18  uniq_Opnd          498 non-null    float64\n",
      " 19  total_Op           498 non-null    float64\n",
      " 20  total_Opnd         498 non-null    float64\n",
      " 21  branchCount        498 non-null    float64\n",
      " 22  defects            498 non-null    bool   \n",
      "dtypes: bool(1), float64(17), int64(5)\n",
      "memory usage: 86.2 KB\n"
     ]
    }
   ],
   "source": [
    "df.info()"
   ]
  },
  {
   "cell_type": "code",
   "execution_count": 7,
   "id": "3638e5e8",
   "metadata": {
    "execution": {
     "iopub.execute_input": "2021-04-04T23:36:09.601506Z",
     "iopub.status.busy": "2021-04-04T23:36:09.586766Z",
     "iopub.status.idle": "2021-04-04T23:36:09.620641Z",
     "shell.execute_reply": "2021-04-04T23:36:09.621120Z"
    },
    "papermill": {
     "duration": 0.077987,
     "end_time": "2021-04-04T23:36:09.621284",
     "exception": false,
     "start_time": "2021-04-04T23:36:09.543297",
     "status": "completed"
    },
    "tags": []
   },
   "outputs": [
    {
     "data": {
      "text/html": [
       "<div>\n",
       "<style scoped>\n",
       "    .dataframe tbody tr th:only-of-type {\n",
       "        vertical-align: middle;\n",
       "    }\n",
       "\n",
       "    .dataframe tbody tr th {\n",
       "        vertical-align: top;\n",
       "    }\n",
       "\n",
       "    .dataframe thead th {\n",
       "        text-align: right;\n",
       "    }\n",
       "</style>\n",
       "<table border=\"1\" class=\"dataframe\">\n",
       "  <thead>\n",
       "    <tr style=\"text-align: right;\">\n",
       "      <th></th>\n",
       "      <th>id</th>\n",
       "      <th>loc</th>\n",
       "      <th>v(g)</th>\n",
       "      <th>ev(g)</th>\n",
       "      <th>iv(g)</th>\n",
       "      <th>n</th>\n",
       "      <th>v</th>\n",
       "      <th>l</th>\n",
       "      <th>d</th>\n",
       "      <th>i</th>\n",
       "      <th>...</th>\n",
       "      <th>lOCode</th>\n",
       "      <th>lOComment</th>\n",
       "      <th>lOBlank</th>\n",
       "      <th>locCodeAndComment</th>\n",
       "      <th>uniq_Op</th>\n",
       "      <th>uniq_Opnd</th>\n",
       "      <th>total_Op</th>\n",
       "      <th>total_Opnd</th>\n",
       "      <th>branchCount</th>\n",
       "      <th>defects</th>\n",
       "    </tr>\n",
       "  </thead>\n",
       "  <tbody>\n",
       "    <tr>\n",
       "      <th>0</th>\n",
       "      <td>1</td>\n",
       "      <td>1.1</td>\n",
       "      <td>1.4</td>\n",
       "      <td>1.4</td>\n",
       "      <td>1.4</td>\n",
       "      <td>1.3</td>\n",
       "      <td>1.30</td>\n",
       "      <td>1.30</td>\n",
       "      <td>1.30</td>\n",
       "      <td>1.30</td>\n",
       "      <td>...</td>\n",
       "      <td>2</td>\n",
       "      <td>2</td>\n",
       "      <td>2</td>\n",
       "      <td>2</td>\n",
       "      <td>1.2</td>\n",
       "      <td>1.2</td>\n",
       "      <td>1.2</td>\n",
       "      <td>1.2</td>\n",
       "      <td>1.4</td>\n",
       "      <td>False</td>\n",
       "    </tr>\n",
       "    <tr>\n",
       "      <th>1</th>\n",
       "      <td>2</td>\n",
       "      <td>1.0</td>\n",
       "      <td>1.0</td>\n",
       "      <td>1.0</td>\n",
       "      <td>1.0</td>\n",
       "      <td>1.0</td>\n",
       "      <td>1.00</td>\n",
       "      <td>1.00</td>\n",
       "      <td>1.00</td>\n",
       "      <td>1.00</td>\n",
       "      <td>...</td>\n",
       "      <td>1</td>\n",
       "      <td>1</td>\n",
       "      <td>1</td>\n",
       "      <td>1</td>\n",
       "      <td>1.0</td>\n",
       "      <td>1.0</td>\n",
       "      <td>1.0</td>\n",
       "      <td>1.0</td>\n",
       "      <td>1.0</td>\n",
       "      <td>True</td>\n",
       "    </tr>\n",
       "    <tr>\n",
       "      <th>2</th>\n",
       "      <td>3</td>\n",
       "      <td>24.0</td>\n",
       "      <td>5.0</td>\n",
       "      <td>1.0</td>\n",
       "      <td>3.0</td>\n",
       "      <td>63.0</td>\n",
       "      <td>309.13</td>\n",
       "      <td>0.11</td>\n",
       "      <td>9.50</td>\n",
       "      <td>32.54</td>\n",
       "      <td>...</td>\n",
       "      <td>1</td>\n",
       "      <td>0</td>\n",
       "      <td>6</td>\n",
       "      <td>0</td>\n",
       "      <td>15.0</td>\n",
       "      <td>15.0</td>\n",
       "      <td>44.0</td>\n",
       "      <td>19.0</td>\n",
       "      <td>9.0</td>\n",
       "      <td>False</td>\n",
       "    </tr>\n",
       "    <tr>\n",
       "      <th>3</th>\n",
       "      <td>4</td>\n",
       "      <td>20.0</td>\n",
       "      <td>4.0</td>\n",
       "      <td>4.0</td>\n",
       "      <td>2.0</td>\n",
       "      <td>47.0</td>\n",
       "      <td>215.49</td>\n",
       "      <td>0.06</td>\n",
       "      <td>16.00</td>\n",
       "      <td>13.47</td>\n",
       "      <td>...</td>\n",
       "      <td>0</td>\n",
       "      <td>0</td>\n",
       "      <td>3</td>\n",
       "      <td>0</td>\n",
       "      <td>16.0</td>\n",
       "      <td>8.0</td>\n",
       "      <td>31.0</td>\n",
       "      <td>16.0</td>\n",
       "      <td>7.0</td>\n",
       "      <td>False</td>\n",
       "    </tr>\n",
       "    <tr>\n",
       "      <th>4</th>\n",
       "      <td>5</td>\n",
       "      <td>24.0</td>\n",
       "      <td>6.0</td>\n",
       "      <td>6.0</td>\n",
       "      <td>2.0</td>\n",
       "      <td>72.0</td>\n",
       "      <td>346.13</td>\n",
       "      <td>0.06</td>\n",
       "      <td>17.33</td>\n",
       "      <td>19.97</td>\n",
       "      <td>...</td>\n",
       "      <td>0</td>\n",
       "      <td>0</td>\n",
       "      <td>3</td>\n",
       "      <td>0</td>\n",
       "      <td>16.0</td>\n",
       "      <td>12.0</td>\n",
       "      <td>46.0</td>\n",
       "      <td>26.0</td>\n",
       "      <td>11.0</td>\n",
       "      <td>False</td>\n",
       "    </tr>\n",
       "  </tbody>\n",
       "</table>\n",
       "<p>5 rows × 23 columns</p>\n",
       "</div>"
      ],
      "text/plain": [
       "   id   loc  v(g)  ev(g)  iv(g)     n       v     l      d      i  ...  \\\n",
       "0   1   1.1   1.4    1.4    1.4   1.3    1.30  1.30   1.30   1.30  ...   \n",
       "1   2   1.0   1.0    1.0    1.0   1.0    1.00  1.00   1.00   1.00  ...   \n",
       "2   3  24.0   5.0    1.0    3.0  63.0  309.13  0.11   9.50  32.54  ...   \n",
       "3   4  20.0   4.0    4.0    2.0  47.0  215.49  0.06  16.00  13.47  ...   \n",
       "4   5  24.0   6.0    6.0    2.0  72.0  346.13  0.06  17.33  19.97  ...   \n",
       "\n",
       "   lOCode  lOComment  lOBlank  locCodeAndComment  uniq_Op  uniq_Opnd  \\\n",
       "0       2          2        2                  2      1.2        1.2   \n",
       "1       1          1        1                  1      1.0        1.0   \n",
       "2       1          0        6                  0     15.0       15.0   \n",
       "3       0          0        3                  0     16.0        8.0   \n",
       "4       0          0        3                  0     16.0       12.0   \n",
       "\n",
       "   total_Op  total_Opnd  branchCount  defects  \n",
       "0       1.2         1.2          1.4    False  \n",
       "1       1.0         1.0          1.0     True  \n",
       "2      44.0        19.0          9.0    False  \n",
       "3      31.0        16.0          7.0    False  \n",
       "4      46.0        26.0         11.0    False  \n",
       "\n",
       "[5 rows x 23 columns]"
      ]
     },
     "execution_count": 7,
     "metadata": {},
     "output_type": "execute_result"
    }
   ],
   "source": [
    "df.head()"
   ]
  },
  {
   "cell_type": "code",
   "execution_count": 8,
   "id": "733e95eb",
   "metadata": {
    "execution": {
     "iopub.execute_input": "2021-04-04T23:36:09.673583Z",
     "iopub.status.busy": "2021-04-04T23:36:09.672999Z",
     "iopub.status.idle": "2021-04-04T23:36:09.675149Z",
     "shell.execute_reply": "2021-04-04T23:36:09.675626Z"
    },
    "papermill": {
     "duration": 0.03212,
     "end_time": "2021-04-04T23:36:09.675772",
     "exception": false,
     "start_time": "2021-04-04T23:36:09.643652",
     "status": "completed"
    },
    "tags": []
   },
   "outputs": [],
   "source": [
    "del df['id']"
   ]
  },
  {
   "cell_type": "code",
   "execution_count": 9,
   "id": "6ff6f5b0",
   "metadata": {
    "execution": {
     "iopub.execute_input": "2021-04-04T23:36:09.734529Z",
     "iopub.status.busy": "2021-04-04T23:36:09.732547Z",
     "iopub.status.idle": "2021-04-04T23:36:09.738972Z",
     "shell.execute_reply": "2021-04-04T23:36:09.739712Z"
    },
    "papermill": {
     "duration": 0.039858,
     "end_time": "2021-04-04T23:36:09.739901",
     "exception": false,
     "start_time": "2021-04-04T23:36:09.700043",
     "status": "completed"
    },
    "tags": []
   },
   "outputs": [],
   "source": [
    "if PROFILE_REPORTING:\n",
    "    ProfileReport(df).to_widgets()"
   ]
  },
  {
   "cell_type": "markdown",
   "id": "1deaf3f0",
   "metadata": {
    "papermill": {
     "duration": 0.023048,
     "end_time": "2021-04-04T23:36:09.801056",
     "exception": false,
     "start_time": "2021-04-04T23:36:09.778008",
     "status": "completed"
    },
    "tags": []
   },
   "source": [
    "# Preprocess"
   ]
  },
  {
   "cell_type": "code",
   "execution_count": 10,
   "id": "1513e563",
   "metadata": {
    "execution": {
     "iopub.execute_input": "2021-04-04T23:36:09.870436Z",
     "iopub.status.busy": "2021-04-04T23:36:09.869532Z",
     "iopub.status.idle": "2021-04-04T23:36:09.871901Z",
     "shell.execute_reply": "2021-04-04T23:36:09.873242Z"
    },
    "papermill": {
     "duration": 0.046035,
     "end_time": "2021-04-04T23:36:09.873603",
     "exception": false,
     "start_time": "2021-04-04T23:36:09.827568",
     "status": "completed"
    },
    "tags": []
   },
   "outputs": [],
   "source": [
    "working_df = df.copy()"
   ]
  },
  {
   "cell_type": "code",
   "execution_count": 11,
   "id": "3b26d675",
   "metadata": {
    "execution": {
     "iopub.execute_input": "2021-04-04T23:36:09.927236Z",
     "iopub.status.busy": "2021-04-04T23:36:09.926470Z",
     "iopub.status.idle": "2021-04-04T23:36:09.928782Z",
     "shell.execute_reply": "2021-04-04T23:36:09.928284Z"
    },
    "papermill": {
     "duration": 0.032169,
     "end_time": "2021-04-04T23:36:09.928901",
     "exception": false,
     "start_time": "2021-04-04T23:36:09.896732",
     "status": "completed"
    },
    "tags": []
   },
   "outputs": [],
   "source": [
    "working_df['defects'] = working_df['defects'].replace([False, True], [0, 1])"
   ]
  },
  {
   "cell_type": "code",
   "execution_count": 12,
   "id": "eb48604f",
   "metadata": {
    "execution": {
     "iopub.execute_input": "2021-04-04T23:36:10.000434Z",
     "iopub.status.busy": "2021-04-04T23:36:09.999144Z",
     "iopub.status.idle": "2021-04-04T23:36:10.006270Z",
     "shell.execute_reply": "2021-04-04T23:36:10.007854Z"
    },
    "papermill": {
     "duration": 0.052613,
     "end_time": "2021-04-04T23:36:10.008424",
     "exception": false,
     "start_time": "2021-04-04T23:36:09.955811",
     "status": "completed"
    },
    "tags": []
   },
   "outputs": [],
   "source": [
    "for col in dataset_config['delete_columns']:\n",
    "    del working_df[col]"
   ]
  },
  {
   "cell_type": "code",
   "execution_count": 13,
   "id": "9a17bc29",
   "metadata": {
    "execution": {
     "iopub.execute_input": "2021-04-04T23:36:10.074482Z",
     "iopub.status.busy": "2021-04-04T23:36:10.073417Z",
     "iopub.status.idle": "2021-04-04T23:36:10.081943Z",
     "shell.execute_reply": "2021-04-04T23:36:10.081421Z"
    },
    "papermill": {
     "duration": 0.044663,
     "end_time": "2021-04-04T23:36:10.082063",
     "exception": false,
     "start_time": "2021-04-04T23:36:10.037400",
     "status": "completed"
    },
    "tags": []
   },
   "outputs": [],
   "source": [
    "working_df = working_df.drop_duplicates()"
   ]
  },
  {
   "cell_type": "markdown",
   "id": "a4d52ca6",
   "metadata": {
    "papermill": {
     "duration": 0.029042,
     "end_time": "2021-04-04T23:36:10.134617",
     "exception": false,
     "start_time": "2021-04-04T23:36:10.105575",
     "status": "completed"
    },
    "tags": []
   },
   "source": [
    "# Split"
   ]
  },
  {
   "cell_type": "code",
   "execution_count": 14,
   "id": "3e9ee4b5",
   "metadata": {
    "execution": {
     "iopub.execute_input": "2021-04-04T23:36:10.189716Z",
     "iopub.status.busy": "2021-04-04T23:36:10.189095Z",
     "iopub.status.idle": "2021-04-04T23:36:10.221500Z",
     "shell.execute_reply": "2021-04-04T23:36:10.222192Z"
    },
    "papermill": {
     "duration": 0.061619,
     "end_time": "2021-04-04T23:36:10.222384",
     "exception": false,
     "start_time": "2021-04-04T23:36:10.160765",
     "status": "completed"
    },
    "tags": []
   },
   "outputs": [],
   "source": [
    "from sklearn.model_selection import train_test_split"
   ]
  },
  {
   "cell_type": "code",
   "execution_count": 15,
   "id": "274004ce",
   "metadata": {
    "execution": {
     "iopub.execute_input": "2021-04-04T23:36:10.282838Z",
     "iopub.status.busy": "2021-04-04T23:36:10.282212Z",
     "iopub.status.idle": "2021-04-04T23:36:10.286609Z",
     "shell.execute_reply": "2021-04-04T23:36:10.287097Z"
    },
    "papermill": {
     "duration": 0.040807,
     "end_time": "2021-04-04T23:36:10.287251",
     "exception": false,
     "start_time": "2021-04-04T23:36:10.246444",
     "status": "completed"
    },
    "scrolled": true,
    "tags": []
   },
   "outputs": [],
   "source": [
    "inlier, outlier = working_df[working_df['defects'] == 0], working_df[working_df['defects'] == 1]"
   ]
  },
  {
   "cell_type": "code",
   "execution_count": 16,
   "id": "753c7b03",
   "metadata": {
    "execution": {
     "iopub.execute_input": "2021-04-04T23:36:10.341249Z",
     "iopub.status.busy": "2021-04-04T23:36:10.340539Z",
     "iopub.status.idle": "2021-04-04T23:36:10.344322Z",
     "shell.execute_reply": "2021-04-04T23:36:10.345231Z"
    },
    "papermill": {
     "duration": 0.034782,
     "end_time": "2021-04-04T23:36:10.345492",
     "exception": false,
     "start_time": "2021-04-04T23:36:10.310710",
     "status": "completed"
    },
    "tags": []
   },
   "outputs": [],
   "source": [
    "X_inlier = inlier.copy()\n",
    "y_inlier = X_inlier.pop('defects')\n",
    "X_outlier = outlier.copy()\n",
    "y_outlier = X_outlier.pop('defects')"
   ]
  },
  {
   "cell_type": "code",
   "execution_count": 17,
   "id": "2ba43193",
   "metadata": {
    "execution": {
     "iopub.execute_input": "2021-04-04T23:36:10.418229Z",
     "iopub.status.busy": "2021-04-04T23:36:10.416784Z",
     "iopub.status.idle": "2021-04-04T23:36:10.420420Z",
     "shell.execute_reply": "2021-04-04T23:36:10.419650Z"
    },
    "papermill": {
     "duration": 0.04034,
     "end_time": "2021-04-04T23:36:10.420601",
     "exception": false,
     "start_time": "2021-04-04T23:36:10.380261",
     "status": "completed"
    },
    "tags": []
   },
   "outputs": [],
   "source": [
    "test_size = dataset_config['test_size']\n",
    "random_state = dataset_config['random_state']\n",
    "\n",
    "X_inlier_train, X_inlier_test, y_inlier_train, y_inlier_test = train_test_split(\n",
    "    X_inlier,\n",
    "    y_inlier,\n",
    "    test_size=test_size,\n",
    "    random_state=random_state\n",
    ")"
   ]
  },
  {
   "cell_type": "code",
   "execution_count": 18,
   "id": "0b7582ca",
   "metadata": {
    "execution": {
     "iopub.execute_input": "2021-04-04T23:36:10.490532Z",
     "iopub.status.busy": "2021-04-04T23:36:10.486950Z",
     "iopub.status.idle": "2021-04-04T23:36:10.493932Z",
     "shell.execute_reply": "2021-04-04T23:36:10.496414Z"
    },
    "papermill": {
     "duration": 0.051042,
     "end_time": "2021-04-04T23:36:10.496930",
     "exception": false,
     "start_time": "2021-04-04T23:36:10.445888",
     "status": "completed"
    },
    "tags": []
   },
   "outputs": [],
   "source": [
    "test_outlier_size = dataset_config['test_outlier_size']\n",
    "if test_outlier_size > 0.0:\n",
    "    X_outlier_train, X_outlier_test, y_outlier_train, y_outlier_test = train_test_split(\n",
    "        X_outlier,\n",
    "        y_outlier,\n",
    "        test_size=test_outlier_size,\n",
    "        random_state=random_state\n",
    "    )\n",
    "else:\n",
    "    X_outlier_train, y_outlier_train = pd.DataFrame(columns=X_outlier.columns), pd.Series(dtype='int64')\n",
    "    X_outlier_test, y_outlier_test = X_outlier.copy(), y_outlier.copy()"
   ]
  },
  {
   "cell_type": "code",
   "execution_count": 19,
   "id": "c34363db",
   "metadata": {
    "execution": {
     "iopub.execute_input": "2021-04-04T23:36:10.573009Z",
     "iopub.status.busy": "2021-04-04T23:36:10.570291Z",
     "iopub.status.idle": "2021-04-04T23:36:10.574727Z",
     "shell.execute_reply": "2021-04-04T23:36:10.575208Z"
    },
    "papermill": {
     "duration": 0.042205,
     "end_time": "2021-04-04T23:36:10.575354",
     "exception": false,
     "start_time": "2021-04-04T23:36:10.533149",
     "status": "completed"
    },
    "tags": []
   },
   "outputs": [],
   "source": [
    "X_train, y_train = pd.concat([X_inlier_train, X_outlier_train], ignore_index=True), pd.concat([y_inlier_train, y_outlier_train], ignore_index=True)\n",
    "X_test, y_test = pd.concat([X_inlier_test, X_outlier_test], ignore_index=True), pd.concat([y_inlier_test, y_outlier_test], ignore_index=True)"
   ]
  },
  {
   "cell_type": "markdown",
   "id": "7cde7309",
   "metadata": {
    "papermill": {
     "duration": 0.031424,
     "end_time": "2021-04-04T23:36:10.631480",
     "exception": false,
     "start_time": "2021-04-04T23:36:10.600056",
     "status": "completed"
    },
    "tags": []
   },
   "source": [
    "# Model"
   ]
  },
  {
   "cell_type": "code",
   "execution_count": 20,
   "id": "2b12a415",
   "metadata": {
    "execution": {
     "iopub.execute_input": "2021-04-04T23:36:10.719003Z",
     "iopub.status.busy": "2021-04-04T23:36:10.717476Z",
     "iopub.status.idle": "2021-04-04T23:36:10.721716Z",
     "shell.execute_reply": "2021-04-04T23:36:10.720281Z"
    },
    "papermill": {
     "duration": 0.047142,
     "end_time": "2021-04-04T23:36:10.722044",
     "exception": false,
     "start_time": "2021-04-04T23:36:10.674902",
     "status": "completed"
    },
    "tags": []
   },
   "outputs": [],
   "source": [
    "from math import sqrt\n",
    "\n",
    "\n",
    "class KNNDataDescription:\n",
    "    def __init__(self, k=5, outlier_threshold=1.0):\n",
    "        self.k = k\n",
    "        self.outlier_threshold = outlier_threshold\n",
    "        self.X = []\n",
    "    \n",
    "    def fit(self, X):\n",
    "        self.X = [features.to_list() for index, features in X.iterrows()]\n",
    "\n",
    "    def predict(self, entries):\n",
    "        return [self.predict_entry(features.to_list()) for index, features in entries.iterrows()]\n",
    "    \n",
    "    def predict_entry(self, entry):\n",
    "        kth_neighbor, kth_distance = self.get_kth_neighbor(entry, self.k)\n",
    "        kth_kth_neighbor, kth_kth_distance = self.get_kth_neighbor(kth_neighbor, self.k + 1)\n",
    "\n",
    "        outlier_score = kth_distance / (kth_kth_distance + 0.000001)\n",
    "\n",
    "        return 1 if outlier_score < self.outlier_threshold else -1\n",
    "        \n",
    "    def euclidean_distance(self, features1, features2):\n",
    "        distance = 0.0\n",
    "        for feat1, feat2 in zip(features1, features2):\n",
    "            distance += (feat1 - feat2)**2\n",
    "                \n",
    "        return sqrt(distance)\n",
    "\n",
    "    def get_neighbors(self, entry, k):\n",
    "        distance_to_data_points = [\n",
    "            (data_point, self.euclidean_distance(entry, data_point))\n",
    "            for data_point in self.X\n",
    "        ]\n",
    "        sorted_by_distance = sorted(distance_to_data_points, key=lambda tup: tup[1])\n",
    "        neighbors = sorted_by_distance[:k]\n",
    "        return neighbors\n",
    "\n",
    "    def get_kth_neighbor(self, entry, k):\n",
    "        neighbors = self.get_neighbors(entry, k)\n",
    "        return neighbors[-1]\n"
   ]
  },
  {
   "cell_type": "code",
   "execution_count": 21,
   "id": "1fa9ec1c",
   "metadata": {
    "execution": {
     "iopub.execute_input": "2021-04-04T23:36:10.779662Z",
     "iopub.status.busy": "2021-04-04T23:36:10.779022Z",
     "iopub.status.idle": "2021-04-04T23:36:10.804669Z",
     "shell.execute_reply": "2021-04-04T23:36:10.804040Z"
    },
    "papermill": {
     "duration": 0.052712,
     "end_time": "2021-04-04T23:36:10.804789",
     "exception": false,
     "start_time": "2021-04-04T23:36:10.752077",
     "status": "completed"
    },
    "tags": []
   },
   "outputs": [],
   "source": [
    "from sklearn.svm import OneClassSVM\n",
    "\n",
    "\n",
    "models = {\n",
    "    'oneclasssvm': OneClassSVM,\n",
    "    'knndatadescription': KNNDataDescription,\n",
    "}"
   ]
  },
  {
   "cell_type": "code",
   "execution_count": 22,
   "id": "4d72a0b1",
   "metadata": {
    "execution": {
     "iopub.execute_input": "2021-04-04T23:36:10.863463Z",
     "iopub.status.busy": "2021-04-04T23:36:10.862327Z",
     "iopub.status.idle": "2021-04-04T23:36:10.865019Z",
     "shell.execute_reply": "2021-04-04T23:36:10.865505Z"
    },
    "papermill": {
     "duration": 0.036888,
     "end_time": "2021-04-04T23:36:10.865653",
     "exception": false,
     "start_time": "2021-04-04T23:36:10.828765",
     "status": "completed"
    },
    "scrolled": true,
    "tags": []
   },
   "outputs": [],
   "source": [
    "model_cls = models[model_config['model_type']]\n",
    "model = model_cls(**model_config['hyperparameters'])"
   ]
  },
  {
   "cell_type": "markdown",
   "id": "e00cff3b",
   "metadata": {
    "papermill": {
     "duration": 0.02369,
     "end_time": "2021-04-04T23:36:10.916844",
     "exception": false,
     "start_time": "2021-04-04T23:36:10.893154",
     "status": "completed"
    },
    "tags": []
   },
   "source": [
    "# Fit"
   ]
  },
  {
   "cell_type": "code",
   "execution_count": 23,
   "id": "8b2ded89",
   "metadata": {
    "execution": {
     "iopub.execute_input": "2021-04-04T23:36:11.022488Z",
     "iopub.status.busy": "2021-04-04T23:36:11.005492Z",
     "iopub.status.idle": "2021-04-04T23:36:11.036166Z",
     "shell.execute_reply": "2021-04-04T23:36:11.035068Z"
    },
    "papermill": {
     "duration": 0.084821,
     "end_time": "2021-04-04T23:36:11.036409",
     "exception": false,
     "start_time": "2021-04-04T23:36:10.951588",
     "status": "completed"
    },
    "tags": []
   },
   "outputs": [],
   "source": [
    "model.fit(X_train)"
   ]
  },
  {
   "cell_type": "markdown",
   "id": "f99999f7",
   "metadata": {
    "papermill": {
     "duration": 0.026314,
     "end_time": "2021-04-04T23:36:11.088041",
     "exception": false,
     "start_time": "2021-04-04T23:36:11.061727",
     "status": "completed"
    },
    "tags": []
   },
   "source": [
    "# Predict"
   ]
  },
  {
   "cell_type": "code",
   "execution_count": 24,
   "id": "6536fbf7",
   "metadata": {
    "execution": {
     "iopub.execute_input": "2021-04-04T23:36:11.164027Z",
     "iopub.status.busy": "2021-04-04T23:36:11.162093Z",
     "iopub.status.idle": "2021-04-04T23:36:11.499513Z",
     "shell.execute_reply": "2021-04-04T23:36:11.498799Z"
    },
    "papermill": {
     "duration": 0.382996,
     "end_time": "2021-04-04T23:36:11.499662",
     "exception": false,
     "start_time": "2021-04-04T23:36:11.116666",
     "status": "completed"
    },
    "tags": []
   },
   "outputs": [],
   "source": [
    "predictions = model.predict(X_test)"
   ]
  },
  {
   "cell_type": "markdown",
   "id": "aa1c9881",
   "metadata": {
    "papermill": {
     "duration": 0.022794,
     "end_time": "2021-04-04T23:36:11.547374",
     "exception": false,
     "start_time": "2021-04-04T23:36:11.524580",
     "status": "completed"
    },
    "tags": []
   },
   "source": [
    "# Evaluate"
   ]
  },
  {
   "cell_type": "code",
   "execution_count": 25,
   "id": "894f0f04",
   "metadata": {
    "execution": {
     "iopub.execute_input": "2021-04-04T23:36:11.623711Z",
     "iopub.status.busy": "2021-04-04T23:36:11.622620Z",
     "iopub.status.idle": "2021-04-04T23:36:11.625624Z",
     "shell.execute_reply": "2021-04-04T23:36:11.627367Z"
    },
    "papermill": {
     "duration": 0.053406,
     "end_time": "2021-04-04T23:36:11.627804",
     "exception": false,
     "start_time": "2021-04-04T23:36:11.574398",
     "status": "completed"
    },
    "tags": []
   },
   "outputs": [],
   "source": [
    "from sklearn.metrics import f1_score"
   ]
  },
  {
   "cell_type": "code",
   "execution_count": 26,
   "id": "211744d3",
   "metadata": {
    "execution": {
     "iopub.execute_input": "2021-04-04T23:36:11.691277Z",
     "iopub.status.busy": "2021-04-04T23:36:11.690690Z",
     "iopub.status.idle": "2021-04-04T23:36:11.692665Z",
     "shell.execute_reply": "2021-04-04T23:36:11.693113Z"
    },
    "papermill": {
     "duration": 0.03475,
     "end_time": "2021-04-04T23:36:11.693249",
     "exception": false,
     "start_time": "2021-04-04T23:36:11.658499",
     "status": "completed"
    },
    "tags": []
   },
   "outputs": [],
   "source": [
    "y_test = y_test.replace([0, 1], [1, -1])"
   ]
  },
  {
   "cell_type": "code",
   "execution_count": 27,
   "id": "d68a9204",
   "metadata": {
    "execution": {
     "iopub.execute_input": "2021-04-04T23:36:11.790817Z",
     "iopub.status.busy": "2021-04-04T23:36:11.789601Z",
     "iopub.status.idle": "2021-04-04T23:36:11.793817Z",
     "shell.execute_reply": "2021-04-04T23:36:11.792416Z"
    },
    "papermill": {
     "duration": 0.065361,
     "end_time": "2021-04-04T23:36:11.794192",
     "exception": false,
     "start_time": "2021-04-04T23:36:11.728831",
     "status": "completed"
    },
    "tags": []
   },
   "outputs": [],
   "source": [
    "def evaluate(truths, predictions, pos_label, neg_label):\n",
    "    TP = 0\n",
    "    FP = 0\n",
    "    TN = 0\n",
    "    FN = 0\n",
    "\n",
    "    for truth, pred in zip(truths, predictions): \n",
    "        if truth == pred == pos_label:\n",
    "           TP += 1\n",
    "        elif pred == pos_label and truth == neg_label:\n",
    "           FP += 1\n",
    "        elif truth == pred == neg_label:\n",
    "           TN += 1\n",
    "        elif pred == neg_label and truth == pos_label:\n",
    "           FN += 1\n",
    "\n",
    "    precision = TP / (TP + FP)\n",
    "    sensitivity = TP / (TP + FN)\n",
    "    \n",
    "    return {\n",
    "        'true_pos': TP,\n",
    "        'false_pos': FP,\n",
    "        'false_neg': FN,\n",
    "        'true_neg': TN,\n",
    "        'precision': precision,\n",
    "        'sensitivity': sensitivity,\n",
    "        'f1': (2 * (precision * sensitivity)) / (precision + sensitivity)\n",
    "    }\n",
    "\n",
    "score = evaluate(y_test, predictions, pos_label=-1, neg_label=1)"
   ]
  },
  {
   "cell_type": "markdown",
   "id": "93596516",
   "metadata": {
    "papermill": {
     "duration": 0.025108,
     "end_time": "2021-04-04T23:36:11.849103",
     "exception": false,
     "start_time": "2021-04-04T23:36:11.823995",
     "status": "completed"
    },
    "tags": []
   },
   "source": [
    "# Report"
   ]
  },
  {
   "cell_type": "code",
   "execution_count": 28,
   "id": "bea5fba1",
   "metadata": {
    "execution": {
     "iopub.execute_input": "2021-04-04T23:36:11.912569Z",
     "iopub.status.busy": "2021-04-04T23:36:11.911519Z",
     "iopub.status.idle": "2021-04-04T23:36:11.914099Z",
     "shell.execute_reply": "2021-04-04T23:36:11.914633Z"
    },
    "papermill": {
     "duration": 0.041354,
     "end_time": "2021-04-04T23:36:11.914823",
     "exception": false,
     "start_time": "2021-04-04T23:36:11.873469",
     "status": "completed"
    },
    "tags": []
   },
   "outputs": [],
   "source": [
    "import csv\n",
    "\n",
    "\n",
    "dataset_config_name = DATASET_CONFIG_PATH.split('/')[-1].split('.')[0]\n",
    "model_config_name = MODEL_CONFIG_PATH.split('/')[-1].split('.')[0]\n",
    "configuration = f\"dataset_{dataset_config_name}-model_{model_config_name}\"\n",
    "\n",
    "with open('results.csv', 'a') as f:\n",
    "    report = dict({'configuration': configuration}, **score)\n",
    "    writer = csv.DictWriter(f, report.keys())\n",
    "    writer.writerow(report)"
   ]
  }
 ],
 "metadata": {
  "celltoolbar": "Tags",
  "kernelspec": {
   "display_name": "Python 3",
   "language": "python",
   "name": "python3"
  },
  "language_info": {
   "codemirror_mode": {
    "name": "ipython",
    "version": 3
   },
   "file_extension": ".py",
   "mimetype": "text/x-python",
   "name": "python",
   "nbconvert_exporter": "python",
   "pygments_lexer": "ipython3",
   "version": "3.9.1"
  },
  "papermill": {
   "default_parameters": {},
   "duration": 7.073114,
   "end_time": "2021-04-04T23:36:13.525308",
   "environment_variables": {},
   "exception": null,
   "input_path": "main.ipynb",
   "output_path": "runs/dataset_000156-model_000001.ipynb",
   "parameters": {
    "DATASET_CONFIG_PATH": "config/dataset/000156.json",
    "MODEL_CONFIG_PATH": "config/model/000001.json",
    "PROFILE_REPORTING": false
   },
   "start_time": "2021-04-04T23:36:06.452194",
   "version": "2.3.3"
  }
 },
 "nbformat": 4,
 "nbformat_minor": 5
}