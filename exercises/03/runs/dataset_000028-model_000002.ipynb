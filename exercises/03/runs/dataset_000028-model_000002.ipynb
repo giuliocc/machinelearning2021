{
 "cells": [
  {
   "cell_type": "markdown",
   "id": "51c71c25",
   "metadata": {
    "papermill": {
     "duration": 0.020988,
     "end_time": "2021-04-04T22:36:29.812149",
     "exception": false,
     "start_time": "2021-04-04T22:36:29.791161",
     "status": "completed"
    },
    "tags": []
   },
   "source": [
    "# Parametrizing"
   ]
  },
  {
   "cell_type": "code",
   "execution_count": 1,
   "id": "3b136394",
   "metadata": {
    "execution": {
     "iopub.execute_input": "2021-04-04T22:36:29.900782Z",
     "iopub.status.busy": "2021-04-04T22:36:29.898887Z",
     "iopub.status.idle": "2021-04-04T22:36:29.909504Z",
     "shell.execute_reply": "2021-04-04T22:36:29.910161Z"
    },
    "papermill": {
     "duration": 0.073921,
     "end_time": "2021-04-04T22:36:29.910426",
     "exception": false,
     "start_time": "2021-04-04T22:36:29.836505",
     "status": "completed"
    },
    "tags": [
     "parameters"
    ]
   },
   "outputs": [],
   "source": [
    "DATASET_CONFIG_PATH = 'config/dataset/kc1_001.json'\n",
    "MODEL_CONFIG_PATH = 'config/model/knndd_001.json'\n",
    "PROFILE_REPORTING = False"
   ]
  },
  {
   "cell_type": "code",
   "execution_count": 2,
   "id": "a88138fc",
   "metadata": {
    "execution": {
     "iopub.execute_input": "2021-04-04T22:36:29.989422Z",
     "iopub.status.busy": "2021-04-04T22:36:29.988246Z",
     "iopub.status.idle": "2021-04-04T22:36:29.991658Z",
     "shell.execute_reply": "2021-04-04T22:36:29.991057Z"
    },
    "papermill": {
     "duration": 0.034614,
     "end_time": "2021-04-04T22:36:29.991822",
     "exception": false,
     "start_time": "2021-04-04T22:36:29.957208",
     "status": "completed"
    },
    "tags": [
     "injected-parameters"
    ]
   },
   "outputs": [],
   "source": [
    "# Parameters\n",
    "DATASET_CONFIG_PATH = \"config/dataset/000028.json\"\n",
    "MODEL_CONFIG_PATH = \"config/model/000002.json\"\n",
    "PROFILE_REPORTING = False\n"
   ]
  },
  {
   "cell_type": "code",
   "execution_count": 3,
   "id": "b80f2a10",
   "metadata": {
    "execution": {
     "iopub.execute_input": "2021-04-04T22:36:30.050111Z",
     "iopub.status.busy": "2021-04-04T22:36:30.049400Z",
     "iopub.status.idle": "2021-04-04T22:36:30.052827Z",
     "shell.execute_reply": "2021-04-04T22:36:30.052197Z"
    },
    "papermill": {
     "duration": 0.037762,
     "end_time": "2021-04-04T22:36:30.052948",
     "exception": false,
     "start_time": "2021-04-04T22:36:30.015186",
     "status": "completed"
    },
    "tags": []
   },
   "outputs": [],
   "source": [
    "import json\n",
    "\n",
    "\n",
    "with open(DATASET_CONFIG_PATH) as f:\n",
    "    dataset_config = json.load(f)\n",
    "\n",
    "with open(MODEL_CONFIG_PATH) as f:\n",
    "    model_config = json.load(f)"
   ]
  },
  {
   "cell_type": "markdown",
   "id": "9a4b0e2d",
   "metadata": {
    "papermill": {
     "duration": 0.023618,
     "end_time": "2021-04-04T22:36:30.096996",
     "exception": false,
     "start_time": "2021-04-04T22:36:30.073378",
     "status": "completed"
    },
    "tags": []
   },
   "source": [
    "# Profiling"
   ]
  },
  {
   "cell_type": "code",
   "execution_count": 4,
   "id": "a3e0289b",
   "metadata": {
    "execution": {
     "iopub.execute_input": "2021-04-04T22:36:30.160812Z",
     "iopub.status.busy": "2021-04-04T22:36:30.159570Z",
     "iopub.status.idle": "2021-04-04T22:36:31.859619Z",
     "shell.execute_reply": "2021-04-04T22:36:31.858272Z"
    },
    "papermill": {
     "duration": 1.740301,
     "end_time": "2021-04-04T22:36:31.859951",
     "exception": false,
     "start_time": "2021-04-04T22:36:30.119650",
     "status": "completed"
    },
    "tags": []
   },
   "outputs": [],
   "source": [
    "import pandas as pd\n",
    "from pandas_profiling import ProfileReport"
   ]
  },
  {
   "cell_type": "code",
   "execution_count": 5,
   "id": "ee6c0666",
   "metadata": {
    "execution": {
     "iopub.execute_input": "2021-04-04T22:36:31.935085Z",
     "iopub.status.busy": "2021-04-04T22:36:31.933193Z",
     "iopub.status.idle": "2021-04-04T22:36:31.951103Z",
     "shell.execute_reply": "2021-04-04T22:36:31.949540Z"
    },
    "papermill": {
     "duration": 0.053226,
     "end_time": "2021-04-04T22:36:31.951472",
     "exception": false,
     "start_time": "2021-04-04T22:36:31.898246",
     "status": "completed"
    },
    "tags": []
   },
   "outputs": [],
   "source": [
    "df = pd.read_csv(dataset_config['dataset_path'])"
   ]
  },
  {
   "cell_type": "code",
   "execution_count": 6,
   "id": "7eca6c4a",
   "metadata": {
    "execution": {
     "iopub.execute_input": "2021-04-04T22:36:32.002634Z",
     "iopub.status.busy": "2021-04-04T22:36:32.002008Z",
     "iopub.status.idle": "2021-04-04T22:36:32.016939Z",
     "shell.execute_reply": "2021-04-04T22:36:32.015765Z"
    },
    "papermill": {
     "duration": 0.040767,
     "end_time": "2021-04-04T22:36:32.017193",
     "exception": false,
     "start_time": "2021-04-04T22:36:31.976426",
     "status": "completed"
    },
    "tags": []
   },
   "outputs": [
    {
     "name": "stdout",
     "output_type": "stream",
     "text": [
      "<class 'pandas.core.frame.DataFrame'>\n",
      "RangeIndex: 2109 entries, 0 to 2108\n",
      "Data columns (total 23 columns):\n",
      " #   Column             Non-Null Count  Dtype  \n",
      "---  ------             --------------  -----  \n",
      " 0   id                 2109 non-null   int64  \n",
      " 1   loc                2109 non-null   float64\n",
      " 2   v(g)               2109 non-null   float64\n",
      " 3   ev(g)              2109 non-null   float64\n",
      " 4   iv(g)              2109 non-null   float64\n",
      " 5   n                  2109 non-null   float64\n",
      " 6   v                  2109 non-null   float64\n",
      " 7   l                  2109 non-null   float64\n",
      " 8   d                  2109 non-null   float64\n",
      " 9   i                  2109 non-null   float64\n",
      " 10  e                  2109 non-null   float64\n",
      " 11  b                  2109 non-null   float64\n",
      " 12  t                  2109 non-null   float64\n",
      " 13  lOCode             2109 non-null   int64  \n",
      " 14  lOComment          2109 non-null   int64  \n",
      " 15  lOBlank            2109 non-null   int64  \n",
      " 16  locCodeAndComment  2109 non-null   int64  \n",
      " 17  uniq_Op            2109 non-null   float64\n",
      " 18  uniq_Opnd          2109 non-null   float64\n",
      " 19  total_Op           2109 non-null   float64\n",
      " 20  total_Opnd         2109 non-null   float64\n",
      " 21  branchCount        2109 non-null   float64\n",
      " 22  defects            2109 non-null   bool   \n",
      "dtypes: bool(1), float64(17), int64(5)\n",
      "memory usage: 364.7 KB\n"
     ]
    }
   ],
   "source": [
    "df.info()"
   ]
  },
  {
   "cell_type": "code",
   "execution_count": 7,
   "id": "3638e5e8",
   "metadata": {
    "execution": {
     "iopub.execute_input": "2021-04-04T22:36:32.075841Z",
     "iopub.status.busy": "2021-04-04T22:36:32.074214Z",
     "iopub.status.idle": "2021-04-04T22:36:32.107160Z",
     "shell.execute_reply": "2021-04-04T22:36:32.106552Z"
    },
    "papermill": {
     "duration": 0.067858,
     "end_time": "2021-04-04T22:36:32.107278",
     "exception": false,
     "start_time": "2021-04-04T22:36:32.039420",
     "status": "completed"
    },
    "tags": []
   },
   "outputs": [
    {
     "data": {
      "text/html": [
       "<div>\n",
       "<style scoped>\n",
       "    .dataframe tbody tr th:only-of-type {\n",
       "        vertical-align: middle;\n",
       "    }\n",
       "\n",
       "    .dataframe tbody tr th {\n",
       "        vertical-align: top;\n",
       "    }\n",
       "\n",
       "    .dataframe thead th {\n",
       "        text-align: right;\n",
       "    }\n",
       "</style>\n",
       "<table border=\"1\" class=\"dataframe\">\n",
       "  <thead>\n",
       "    <tr style=\"text-align: right;\">\n",
       "      <th></th>\n",
       "      <th>id</th>\n",
       "      <th>loc</th>\n",
       "      <th>v(g)</th>\n",
       "      <th>ev(g)</th>\n",
       "      <th>iv(g)</th>\n",
       "      <th>n</th>\n",
       "      <th>v</th>\n",
       "      <th>l</th>\n",
       "      <th>d</th>\n",
       "      <th>i</th>\n",
       "      <th>...</th>\n",
       "      <th>lOCode</th>\n",
       "      <th>lOComment</th>\n",
       "      <th>lOBlank</th>\n",
       "      <th>locCodeAndComment</th>\n",
       "      <th>uniq_Op</th>\n",
       "      <th>uniq_Opnd</th>\n",
       "      <th>total_Op</th>\n",
       "      <th>total_Opnd</th>\n",
       "      <th>branchCount</th>\n",
       "      <th>defects</th>\n",
       "    </tr>\n",
       "  </thead>\n",
       "  <tbody>\n",
       "    <tr>\n",
       "      <th>0</th>\n",
       "      <td>1</td>\n",
       "      <td>1.1</td>\n",
       "      <td>1.4</td>\n",
       "      <td>1.4</td>\n",
       "      <td>1.4</td>\n",
       "      <td>1.3</td>\n",
       "      <td>1.30</td>\n",
       "      <td>1.30</td>\n",
       "      <td>1.30</td>\n",
       "      <td>1.30</td>\n",
       "      <td>...</td>\n",
       "      <td>2</td>\n",
       "      <td>2</td>\n",
       "      <td>2</td>\n",
       "      <td>2</td>\n",
       "      <td>1.2</td>\n",
       "      <td>1.2</td>\n",
       "      <td>1.2</td>\n",
       "      <td>1.2</td>\n",
       "      <td>1.4</td>\n",
       "      <td>False</td>\n",
       "    </tr>\n",
       "    <tr>\n",
       "      <th>1</th>\n",
       "      <td>2</td>\n",
       "      <td>1.0</td>\n",
       "      <td>1.0</td>\n",
       "      <td>1.0</td>\n",
       "      <td>1.0</td>\n",
       "      <td>1.0</td>\n",
       "      <td>1.00</td>\n",
       "      <td>1.00</td>\n",
       "      <td>1.00</td>\n",
       "      <td>1.00</td>\n",
       "      <td>...</td>\n",
       "      <td>1</td>\n",
       "      <td>1</td>\n",
       "      <td>1</td>\n",
       "      <td>1</td>\n",
       "      <td>1.0</td>\n",
       "      <td>1.0</td>\n",
       "      <td>1.0</td>\n",
       "      <td>1.0</td>\n",
       "      <td>1.0</td>\n",
       "      <td>True</td>\n",
       "    </tr>\n",
       "    <tr>\n",
       "      <th>2</th>\n",
       "      <td>3</td>\n",
       "      <td>83.0</td>\n",
       "      <td>11.0</td>\n",
       "      <td>1.0</td>\n",
       "      <td>11.0</td>\n",
       "      <td>171.0</td>\n",
       "      <td>927.89</td>\n",
       "      <td>0.04</td>\n",
       "      <td>23.04</td>\n",
       "      <td>40.27</td>\n",
       "      <td>...</td>\n",
       "      <td>65</td>\n",
       "      <td>10</td>\n",
       "      <td>6</td>\n",
       "      <td>0</td>\n",
       "      <td>18.0</td>\n",
       "      <td>25.0</td>\n",
       "      <td>107.0</td>\n",
       "      <td>64.0</td>\n",
       "      <td>21.0</td>\n",
       "      <td>True</td>\n",
       "    </tr>\n",
       "    <tr>\n",
       "      <th>3</th>\n",
       "      <td>4</td>\n",
       "      <td>46.0</td>\n",
       "      <td>8.0</td>\n",
       "      <td>6.0</td>\n",
       "      <td>8.0</td>\n",
       "      <td>141.0</td>\n",
       "      <td>769.78</td>\n",
       "      <td>0.07</td>\n",
       "      <td>14.86</td>\n",
       "      <td>51.81</td>\n",
       "      <td>...</td>\n",
       "      <td>37</td>\n",
       "      <td>2</td>\n",
       "      <td>5</td>\n",
       "      <td>0</td>\n",
       "      <td>16.0</td>\n",
       "      <td>28.0</td>\n",
       "      <td>89.0</td>\n",
       "      <td>52.0</td>\n",
       "      <td>15.0</td>\n",
       "      <td>True</td>\n",
       "    </tr>\n",
       "    <tr>\n",
       "      <th>4</th>\n",
       "      <td>5</td>\n",
       "      <td>25.0</td>\n",
       "      <td>3.0</td>\n",
       "      <td>1.0</td>\n",
       "      <td>3.0</td>\n",
       "      <td>58.0</td>\n",
       "      <td>254.75</td>\n",
       "      <td>0.11</td>\n",
       "      <td>9.35</td>\n",
       "      <td>27.25</td>\n",
       "      <td>...</td>\n",
       "      <td>21</td>\n",
       "      <td>0</td>\n",
       "      <td>2</td>\n",
       "      <td>0</td>\n",
       "      <td>11.0</td>\n",
       "      <td>10.0</td>\n",
       "      <td>41.0</td>\n",
       "      <td>17.0</td>\n",
       "      <td>5.0</td>\n",
       "      <td>True</td>\n",
       "    </tr>\n",
       "  </tbody>\n",
       "</table>\n",
       "<p>5 rows × 23 columns</p>\n",
       "</div>"
      ],
      "text/plain": [
       "   id   loc  v(g)  ev(g)  iv(g)      n       v     l      d      i  ...  \\\n",
       "0   1   1.1   1.4    1.4    1.4    1.3    1.30  1.30   1.30   1.30  ...   \n",
       "1   2   1.0   1.0    1.0    1.0    1.0    1.00  1.00   1.00   1.00  ...   \n",
       "2   3  83.0  11.0    1.0   11.0  171.0  927.89  0.04  23.04  40.27  ...   \n",
       "3   4  46.0   8.0    6.0    8.0  141.0  769.78  0.07  14.86  51.81  ...   \n",
       "4   5  25.0   3.0    1.0    3.0   58.0  254.75  0.11   9.35  27.25  ...   \n",
       "\n",
       "   lOCode  lOComment  lOBlank  locCodeAndComment  uniq_Op  uniq_Opnd  \\\n",
       "0       2          2        2                  2      1.2        1.2   \n",
       "1       1          1        1                  1      1.0        1.0   \n",
       "2      65         10        6                  0     18.0       25.0   \n",
       "3      37          2        5                  0     16.0       28.0   \n",
       "4      21          0        2                  0     11.0       10.0   \n",
       "\n",
       "   total_Op  total_Opnd  branchCount  defects  \n",
       "0       1.2         1.2          1.4    False  \n",
       "1       1.0         1.0          1.0     True  \n",
       "2     107.0        64.0         21.0     True  \n",
       "3      89.0        52.0         15.0     True  \n",
       "4      41.0        17.0          5.0     True  \n",
       "\n",
       "[5 rows x 23 columns]"
      ]
     },
     "execution_count": 7,
     "metadata": {},
     "output_type": "execute_result"
    }
   ],
   "source": [
    "df.head()"
   ]
  },
  {
   "cell_type": "code",
   "execution_count": 8,
   "id": "733e95eb",
   "metadata": {
    "execution": {
     "iopub.execute_input": "2021-04-04T22:36:32.208453Z",
     "iopub.status.busy": "2021-04-04T22:36:32.207744Z",
     "iopub.status.idle": "2021-04-04T22:36:32.209400Z",
     "shell.execute_reply": "2021-04-04T22:36:32.209903Z"
    },
    "papermill": {
     "duration": 0.0531,
     "end_time": "2021-04-04T22:36:32.210047",
     "exception": false,
     "start_time": "2021-04-04T22:36:32.156947",
     "status": "completed"
    },
    "tags": []
   },
   "outputs": [],
   "source": [
    "del df['id']"
   ]
  },
  {
   "cell_type": "code",
   "execution_count": 9,
   "id": "6ff6f5b0",
   "metadata": {
    "execution": {
     "iopub.execute_input": "2021-04-04T22:36:32.260660Z",
     "iopub.status.busy": "2021-04-04T22:36:32.259805Z",
     "iopub.status.idle": "2021-04-04T22:36:32.261930Z",
     "shell.execute_reply": "2021-04-04T22:36:32.262443Z"
    },
    "papermill": {
     "duration": 0.028352,
     "end_time": "2021-04-04T22:36:32.262617",
     "exception": false,
     "start_time": "2021-04-04T22:36:32.234265",
     "status": "completed"
    },
    "tags": []
   },
   "outputs": [],
   "source": [
    "if PROFILE_REPORTING:\n",
    "    ProfileReport(df).to_widgets()"
   ]
  },
  {
   "cell_type": "markdown",
   "id": "1deaf3f0",
   "metadata": {
    "papermill": {
     "duration": 0.026686,
     "end_time": "2021-04-04T22:36:32.313085",
     "exception": false,
     "start_time": "2021-04-04T22:36:32.286399",
     "status": "completed"
    },
    "tags": []
   },
   "source": [
    "# Preprocess"
   ]
  },
  {
   "cell_type": "code",
   "execution_count": 10,
   "id": "1513e563",
   "metadata": {
    "execution": {
     "iopub.execute_input": "2021-04-04T22:36:32.386272Z",
     "iopub.status.busy": "2021-04-04T22:36:32.384847Z",
     "iopub.status.idle": "2021-04-04T22:36:32.387719Z",
     "shell.execute_reply": "2021-04-04T22:36:32.389604Z"
    },
    "papermill": {
     "duration": 0.050665,
     "end_time": "2021-04-04T22:36:32.390287",
     "exception": false,
     "start_time": "2021-04-04T22:36:32.339622",
     "status": "completed"
    },
    "tags": []
   },
   "outputs": [],
   "source": [
    "working_df = df.copy()"
   ]
  },
  {
   "cell_type": "code",
   "execution_count": 11,
   "id": "3b26d675",
   "metadata": {
    "execution": {
     "iopub.execute_input": "2021-04-04T22:36:32.459972Z",
     "iopub.status.busy": "2021-04-04T22:36:32.458490Z",
     "iopub.status.idle": "2021-04-04T22:36:32.464901Z",
     "shell.execute_reply": "2021-04-04T22:36:32.465630Z"
    },
    "papermill": {
     "duration": 0.040539,
     "end_time": "2021-04-04T22:36:32.465782",
     "exception": false,
     "start_time": "2021-04-04T22:36:32.425243",
     "status": "completed"
    },
    "tags": []
   },
   "outputs": [],
   "source": [
    "working_df['defects'] = working_df['defects'].replace([False, True], [0, 1])"
   ]
  },
  {
   "cell_type": "code",
   "execution_count": 12,
   "id": "eb48604f",
   "metadata": {
    "execution": {
     "iopub.execute_input": "2021-04-04T22:36:32.519733Z",
     "iopub.status.busy": "2021-04-04T22:36:32.519094Z",
     "iopub.status.idle": "2021-04-04T22:36:32.522099Z",
     "shell.execute_reply": "2021-04-04T22:36:32.521447Z"
    },
    "papermill": {
     "duration": 0.030442,
     "end_time": "2021-04-04T22:36:32.522245",
     "exception": false,
     "start_time": "2021-04-04T22:36:32.491803",
     "status": "completed"
    },
    "tags": []
   },
   "outputs": [],
   "source": [
    "for col in dataset_config['delete_columns']:\n",
    "    del working_df[col]"
   ]
  },
  {
   "cell_type": "code",
   "execution_count": 13,
   "id": "9a17bc29",
   "metadata": {
    "execution": {
     "iopub.execute_input": "2021-04-04T22:36:32.584566Z",
     "iopub.status.busy": "2021-04-04T22:36:32.582842Z",
     "iopub.status.idle": "2021-04-04T22:36:32.599386Z",
     "shell.execute_reply": "2021-04-04T22:36:32.598373Z"
    },
    "papermill": {
     "duration": 0.05157,
     "end_time": "2021-04-04T22:36:32.599621",
     "exception": false,
     "start_time": "2021-04-04T22:36:32.548051",
     "status": "completed"
    },
    "tags": []
   },
   "outputs": [],
   "source": [
    "working_df = working_df.drop_duplicates()"
   ]
  },
  {
   "cell_type": "markdown",
   "id": "a4d52ca6",
   "metadata": {
    "papermill": {
     "duration": 0.027594,
     "end_time": "2021-04-04T22:36:32.659431",
     "exception": false,
     "start_time": "2021-04-04T22:36:32.631837",
     "status": "completed"
    },
    "tags": []
   },
   "source": [
    "# Split"
   ]
  },
  {
   "cell_type": "code",
   "execution_count": 14,
   "id": "3e9ee4b5",
   "metadata": {
    "execution": {
     "iopub.execute_input": "2021-04-04T22:36:32.727407Z",
     "iopub.status.busy": "2021-04-04T22:36:32.726057Z",
     "iopub.status.idle": "2021-04-04T22:36:32.767841Z",
     "shell.execute_reply": "2021-04-04T22:36:32.767320Z"
    },
    "papermill": {
     "duration": 0.079195,
     "end_time": "2021-04-04T22:36:32.767961",
     "exception": false,
     "start_time": "2021-04-04T22:36:32.688766",
     "status": "completed"
    },
    "tags": []
   },
   "outputs": [],
   "source": [
    "from sklearn.model_selection import train_test_split"
   ]
  },
  {
   "cell_type": "code",
   "execution_count": 15,
   "id": "274004ce",
   "metadata": {
    "execution": {
     "iopub.execute_input": "2021-04-04T22:36:32.824764Z",
     "iopub.status.busy": "2021-04-04T22:36:32.824098Z",
     "iopub.status.idle": "2021-04-04T22:36:32.829829Z",
     "shell.execute_reply": "2021-04-04T22:36:32.830846Z"
    },
    "papermill": {
     "duration": 0.034059,
     "end_time": "2021-04-04T22:36:32.831216",
     "exception": false,
     "start_time": "2021-04-04T22:36:32.797157",
     "status": "completed"
    },
    "scrolled": true,
    "tags": []
   },
   "outputs": [],
   "source": [
    "inlier, outlier = working_df[working_df['defects'] == 0], working_df[working_df['defects'] == 1]"
   ]
  },
  {
   "cell_type": "code",
   "execution_count": 16,
   "id": "753c7b03",
   "metadata": {
    "execution": {
     "iopub.execute_input": "2021-04-04T22:36:32.894117Z",
     "iopub.status.busy": "2021-04-04T22:36:32.892790Z",
     "iopub.status.idle": "2021-04-04T22:36:32.899648Z",
     "shell.execute_reply": "2021-04-04T22:36:32.900157Z"
    },
    "papermill": {
     "duration": 0.045379,
     "end_time": "2021-04-04T22:36:32.900306",
     "exception": false,
     "start_time": "2021-04-04T22:36:32.854927",
     "status": "completed"
    },
    "tags": []
   },
   "outputs": [],
   "source": [
    "X_inlier = inlier.copy()\n",
    "y_inlier = X_inlier.pop('defects')\n",
    "X_outlier = outlier.copy()\n",
    "y_outlier = X_outlier.pop('defects')"
   ]
  },
  {
   "cell_type": "code",
   "execution_count": 17,
   "id": "2ba43193",
   "metadata": {
    "execution": {
     "iopub.execute_input": "2021-04-04T22:36:32.954039Z",
     "iopub.status.busy": "2021-04-04T22:36:32.953431Z",
     "iopub.status.idle": "2021-04-04T22:36:32.955444Z",
     "shell.execute_reply": "2021-04-04T22:36:32.955915Z"
    },
    "papermill": {
     "duration": 0.033367,
     "end_time": "2021-04-04T22:36:32.956061",
     "exception": false,
     "start_time": "2021-04-04T22:36:32.922694",
     "status": "completed"
    },
    "tags": []
   },
   "outputs": [],
   "source": [
    "test_size = dataset_config['test_size']\n",
    "random_state = dataset_config['random_state']\n",
    "\n",
    "X_inlier_train, X_inlier_test, y_inlier_train, y_inlier_test = train_test_split(\n",
    "    X_inlier,\n",
    "    y_inlier,\n",
    "    test_size=test_size,\n",
    "    random_state=random_state\n",
    ")"
   ]
  },
  {
   "cell_type": "code",
   "execution_count": 18,
   "id": "0b7582ca",
   "metadata": {
    "execution": {
     "iopub.execute_input": "2021-04-04T22:36:33.017677Z",
     "iopub.status.busy": "2021-04-04T22:36:33.016272Z",
     "iopub.status.idle": "2021-04-04T22:36:33.020471Z",
     "shell.execute_reply": "2021-04-04T22:36:33.021086Z"
    },
    "papermill": {
     "duration": 0.040511,
     "end_time": "2021-04-04T22:36:33.021254",
     "exception": false,
     "start_time": "2021-04-04T22:36:32.980743",
     "status": "completed"
    },
    "tags": []
   },
   "outputs": [],
   "source": [
    "test_outlier_size = dataset_config['test_outlier_size']\n",
    "if test_outlier_size > 0.0:\n",
    "    X_outlier_train, X_outlier_test, y_outlier_train, y_outlier_test = train_test_split(\n",
    "        X_outlier,\n",
    "        y_outlier,\n",
    "        test_size=test_outlier_size,\n",
    "        random_state=random_state\n",
    "    )\n",
    "else:\n",
    "    X_outlier_train, y_outlier_train = pd.DataFrame(columns=X_outlier.columns), pd.Series(dtype='int64')\n",
    "    X_outlier_test, y_outlier_test = X_outlier.copy(), y_outlier.copy()"
   ]
  },
  {
   "cell_type": "code",
   "execution_count": 19,
   "id": "c34363db",
   "metadata": {
    "execution": {
     "iopub.execute_input": "2021-04-04T22:36:33.075312Z",
     "iopub.status.busy": "2021-04-04T22:36:33.074647Z",
     "iopub.status.idle": "2021-04-04T22:36:33.080877Z",
     "shell.execute_reply": "2021-04-04T22:36:33.080203Z"
    },
    "papermill": {
     "duration": 0.035176,
     "end_time": "2021-04-04T22:36:33.081034",
     "exception": false,
     "start_time": "2021-04-04T22:36:33.045858",
     "status": "completed"
    },
    "tags": []
   },
   "outputs": [],
   "source": [
    "X_train, y_train = pd.concat([X_inlier_train, X_outlier_train], ignore_index=True), pd.concat([y_inlier_train, y_outlier_train], ignore_index=True)\n",
    "X_test, y_test = pd.concat([X_inlier_test, X_outlier_test], ignore_index=True), pd.concat([y_inlier_test, y_outlier_test], ignore_index=True)"
   ]
  },
  {
   "cell_type": "markdown",
   "id": "7cde7309",
   "metadata": {
    "papermill": {
     "duration": 0.029115,
     "end_time": "2021-04-04T22:36:33.135001",
     "exception": false,
     "start_time": "2021-04-04T22:36:33.105886",
     "status": "completed"
    },
    "tags": []
   },
   "source": [
    "# Model"
   ]
  },
  {
   "cell_type": "code",
   "execution_count": 20,
   "id": "2b12a415",
   "metadata": {
    "execution": {
     "iopub.execute_input": "2021-04-04T22:36:33.194804Z",
     "iopub.status.busy": "2021-04-04T22:36:33.194157Z",
     "iopub.status.idle": "2021-04-04T22:36:33.197526Z",
     "shell.execute_reply": "2021-04-04T22:36:33.196371Z"
    },
    "papermill": {
     "duration": 0.036545,
     "end_time": "2021-04-04T22:36:33.197927",
     "exception": false,
     "start_time": "2021-04-04T22:36:33.161382",
     "status": "completed"
    },
    "tags": []
   },
   "outputs": [],
   "source": [
    "from math import sqrt\n",
    "\n",
    "\n",
    "class KNNDataDescription:\n",
    "    def __init__(self, k=5, outlier_threshold=1.0):\n",
    "        self.k = k\n",
    "        self.outlier_threshold = outlier_threshold\n",
    "        self.X = []\n",
    "    \n",
    "    def fit(self, X):\n",
    "        self.X = [features.to_list() for index, features in X.iterrows()]\n",
    "\n",
    "    def predict(self, entries):\n",
    "        return [self.predict_entry(features.to_list()) for index, features in entries.iterrows()]\n",
    "    \n",
    "    def predict_entry(self, entry):\n",
    "        kth_neighbor, kth_distance = self.get_kth_neighbor(entry, self.k)\n",
    "        kth_kth_neighbor, kth_kth_distance = self.get_kth_neighbor(kth_neighbor, self.k + 1)\n",
    "\n",
    "        outlier_score = kth_distance / (kth_kth_distance + 0.000001)\n",
    "\n",
    "        return 1 if outlier_score < self.outlier_threshold else -1\n",
    "        \n",
    "    def euclidean_distance(self, features1, features2):\n",
    "        distance = 0.0\n",
    "        for feat1, feat2 in zip(features1, features2):\n",
    "            distance += (feat1 - feat2)**2\n",
    "                \n",
    "        return sqrt(distance)\n",
    "\n",
    "    def get_neighbors(self, entry, k):\n",
    "        distance_to_data_points = [\n",
    "            (data_point, self.euclidean_distance(entry, data_point))\n",
    "            for data_point in self.X\n",
    "        ]\n",
    "        sorted_by_distance = sorted(distance_to_data_points, key=lambda tup: tup[1])\n",
    "        neighbors = sorted_by_distance[:k]\n",
    "        return neighbors\n",
    "\n",
    "    def get_kth_neighbor(self, entry, k):\n",
    "        neighbors = self.get_neighbors(entry, k)\n",
    "        return neighbors[-1]\n"
   ]
  },
  {
   "cell_type": "code",
   "execution_count": 21,
   "id": "1fa9ec1c",
   "metadata": {
    "execution": {
     "iopub.execute_input": "2021-04-04T22:36:33.258290Z",
     "iopub.status.busy": "2021-04-04T22:36:33.257421Z",
     "iopub.status.idle": "2021-04-04T22:36:33.280033Z",
     "shell.execute_reply": "2021-04-04T22:36:33.279374Z"
    },
    "papermill": {
     "duration": 0.057721,
     "end_time": "2021-04-04T22:36:33.280157",
     "exception": false,
     "start_time": "2021-04-04T22:36:33.222436",
     "status": "completed"
    },
    "tags": []
   },
   "outputs": [],
   "source": [
    "from sklearn.svm import OneClassSVM\n",
    "\n",
    "\n",
    "models = {\n",
    "    'oneclasssvm': OneClassSVM,\n",
    "    'knndatadescription': KNNDataDescription,\n",
    "}"
   ]
  },
  {
   "cell_type": "code",
   "execution_count": 22,
   "id": "4d72a0b1",
   "metadata": {
    "execution": {
     "iopub.execute_input": "2021-04-04T22:36:33.333507Z",
     "iopub.status.busy": "2021-04-04T22:36:33.332584Z",
     "iopub.status.idle": "2021-04-04T22:36:33.334558Z",
     "shell.execute_reply": "2021-04-04T22:36:33.335264Z"
    },
    "papermill": {
     "duration": 0.030725,
     "end_time": "2021-04-04T22:36:33.335447",
     "exception": false,
     "start_time": "2021-04-04T22:36:33.304722",
     "status": "completed"
    },
    "scrolled": true,
    "tags": []
   },
   "outputs": [],
   "source": [
    "model_cls = models[model_config['model_type']]\n",
    "model = model_cls(**model_config['hyperparameters'])"
   ]
  },
  {
   "cell_type": "markdown",
   "id": "e00cff3b",
   "metadata": {
    "papermill": {
     "duration": 0.034564,
     "end_time": "2021-04-04T22:36:33.402321",
     "exception": false,
     "start_time": "2021-04-04T22:36:33.367757",
     "status": "completed"
    },
    "tags": []
   },
   "source": [
    "# Fit"
   ]
  },
  {
   "cell_type": "code",
   "execution_count": 23,
   "id": "8b2ded89",
   "metadata": {
    "execution": {
     "iopub.execute_input": "2021-04-04T22:36:33.463077Z",
     "iopub.status.busy": "2021-04-04T22:36:33.462111Z",
     "iopub.status.idle": "2021-04-04T22:36:33.508603Z",
     "shell.execute_reply": "2021-04-04T22:36:33.507331Z"
    },
    "papermill": {
     "duration": 0.079343,
     "end_time": "2021-04-04T22:36:33.508939",
     "exception": false,
     "start_time": "2021-04-04T22:36:33.429596",
     "status": "completed"
    },
    "tags": []
   },
   "outputs": [],
   "source": [
    "model.fit(X_train)"
   ]
  },
  {
   "cell_type": "markdown",
   "id": "f99999f7",
   "metadata": {
    "papermill": {
     "duration": 0.028815,
     "end_time": "2021-04-04T22:36:33.562096",
     "exception": false,
     "start_time": "2021-04-04T22:36:33.533281",
     "status": "completed"
    },
    "tags": []
   },
   "source": [
    "# Predict"
   ]
  },
  {
   "cell_type": "code",
   "execution_count": 24,
   "id": "6536fbf7",
   "metadata": {
    "execution": {
     "iopub.execute_input": "2021-04-04T22:36:33.624894Z",
     "iopub.status.busy": "2021-04-04T22:36:33.619692Z",
     "iopub.status.idle": "2021-04-04T22:36:36.352047Z",
     "shell.execute_reply": "2021-04-04T22:36:36.350561Z"
    },
    "papermill": {
     "duration": 2.767826,
     "end_time": "2021-04-04T22:36:36.352409",
     "exception": false,
     "start_time": "2021-04-04T22:36:33.584583",
     "status": "completed"
    },
    "tags": []
   },
   "outputs": [],
   "source": [
    "predictions = model.predict(X_test)"
   ]
  },
  {
   "cell_type": "markdown",
   "id": "aa1c9881",
   "metadata": {
    "papermill": {
     "duration": 0.029341,
     "end_time": "2021-04-04T22:36:36.412534",
     "exception": false,
     "start_time": "2021-04-04T22:36:36.383193",
     "status": "completed"
    },
    "tags": []
   },
   "source": [
    "# Evaluate"
   ]
  },
  {
   "cell_type": "code",
   "execution_count": 25,
   "id": "894f0f04",
   "metadata": {
    "execution": {
     "iopub.execute_input": "2021-04-04T22:36:36.469200Z",
     "iopub.status.busy": "2021-04-04T22:36:36.468385Z",
     "iopub.status.idle": "2021-04-04T22:36:36.471187Z",
     "shell.execute_reply": "2021-04-04T22:36:36.470583Z"
    },
    "papermill": {
     "duration": 0.031016,
     "end_time": "2021-04-04T22:36:36.471306",
     "exception": false,
     "start_time": "2021-04-04T22:36:36.440290",
     "status": "completed"
    },
    "tags": []
   },
   "outputs": [],
   "source": [
    "from sklearn.metrics import f1_score"
   ]
  },
  {
   "cell_type": "code",
   "execution_count": 26,
   "id": "211744d3",
   "metadata": {
    "execution": {
     "iopub.execute_input": "2021-04-04T22:36:36.537085Z",
     "iopub.status.busy": "2021-04-04T22:36:36.536160Z",
     "iopub.status.idle": "2021-04-04T22:36:36.539208Z",
     "shell.execute_reply": "2021-04-04T22:36:36.539858Z"
    },
    "papermill": {
     "duration": 0.043239,
     "end_time": "2021-04-04T22:36:36.540046",
     "exception": false,
     "start_time": "2021-04-04T22:36:36.496807",
     "status": "completed"
    },
    "tags": []
   },
   "outputs": [],
   "source": [
    "y_test = y_test.replace([0, 1], [1, -1])"
   ]
  },
  {
   "cell_type": "code",
   "execution_count": 27,
   "id": "d68a9204",
   "metadata": {
    "execution": {
     "iopub.execute_input": "2021-04-04T22:36:36.599930Z",
     "iopub.status.busy": "2021-04-04T22:36:36.597846Z",
     "iopub.status.idle": "2021-04-04T22:36:36.600735Z",
     "shell.execute_reply": "2021-04-04T22:36:36.601243Z"
    },
    "papermill": {
     "duration": 0.034954,
     "end_time": "2021-04-04T22:36:36.601411",
     "exception": false,
     "start_time": "2021-04-04T22:36:36.566457",
     "status": "completed"
    },
    "tags": []
   },
   "outputs": [],
   "source": [
    "def evaluate(truths, predictions, pos_label, neg_label):\n",
    "    TP = 0\n",
    "    FP = 0\n",
    "    TN = 0\n",
    "    FN = 0\n",
    "\n",
    "    for truth, pred in zip(truths, predictions): \n",
    "        if truth == pred == pos_label:\n",
    "           TP += 1\n",
    "        elif pred == pos_label and truth == neg_label:\n",
    "           FP += 1\n",
    "        elif truth == pred == neg_label:\n",
    "           TN += 1\n",
    "        elif pred == neg_label and truth == pos_label:\n",
    "           FN += 1\n",
    "\n",
    "    precision = TP / (TP + FP)\n",
    "    sensitivity = TP / (TP + FN)\n",
    "    \n",
    "    return {\n",
    "        'true_pos': TP,\n",
    "        'false_pos': FP,\n",
    "        'false_neg': FN,\n",
    "        'true_neg': TN,\n",
    "        'precision': precision,\n",
    "        'sensitivity': sensitivity,\n",
    "        'f1': (2 * (precision * sensitivity)) / (precision + sensitivity)\n",
    "    }\n",
    "\n",
    "score = evaluate(y_test, predictions, pos_label=-1, neg_label=1)"
   ]
  },
  {
   "cell_type": "markdown",
   "id": "93596516",
   "metadata": {
    "papermill": {
     "duration": 0.03117,
     "end_time": "2021-04-04T22:36:36.657537",
     "exception": false,
     "start_time": "2021-04-04T22:36:36.626367",
     "status": "completed"
    },
    "tags": []
   },
   "source": [
    "# Report"
   ]
  },
  {
   "cell_type": "code",
   "execution_count": 28,
   "id": "bea5fba1",
   "metadata": {
    "execution": {
     "iopub.execute_input": "2021-04-04T22:36:36.716039Z",
     "iopub.status.busy": "2021-04-04T22:36:36.715419Z",
     "iopub.status.idle": "2021-04-04T22:36:36.717872Z",
     "shell.execute_reply": "2021-04-04T22:36:36.717374Z"
    },
    "papermill": {
     "duration": 0.035536,
     "end_time": "2021-04-04T22:36:36.717989",
     "exception": false,
     "start_time": "2021-04-04T22:36:36.682453",
     "status": "completed"
    },
    "tags": []
   },
   "outputs": [],
   "source": [
    "import csv\n",
    "\n",
    "\n",
    "dataset_config_name = DATASET_CONFIG_PATH.split('/')[-1].split('.')[0]\n",
    "model_config_name = MODEL_CONFIG_PATH.split('/')[-1].split('.')[0]\n",
    "configuration = f\"dataset_{dataset_config_name}-model_{model_config_name}\"\n",
    "\n",
    "with open('results.csv', 'a') as f:\n",
    "    report = dict({'configuration': configuration}, **score)\n",
    "    writer = csv.DictWriter(f, report.keys())\n",
    "    writer.writerow(report)"
   ]
  }
 ],
 "metadata": {
  "celltoolbar": "Tags",
  "kernelspec": {
   "display_name": "Python 3",
   "language": "python",
   "name": "python3"
  },
  "language_info": {
   "codemirror_mode": {
    "name": "ipython",
    "version": 3
   },
   "file_extension": ".py",
   "mimetype": "text/x-python",
   "name": "python",
   "nbconvert_exporter": "python",
   "pygments_lexer": "ipython3",
   "version": "3.9.1"
  },
  "papermill": {
   "default_parameters": {},
   "duration": 8.734287,
   "end_time": "2021-04-04T22:36:37.456969",
   "environment_variables": {},
   "exception": null,
   "input_path": "main.ipynb",
   "output_path": "runs/dataset_000028-model_000002.ipynb",
   "parameters": {
    "DATASET_CONFIG_PATH": "config/dataset/000028.json",
    "MODEL_CONFIG_PATH": "config/model/000002.json",
    "PROFILE_REPORTING": false
   },
   "start_time": "2021-04-04T22:36:28.722682",
   "version": "2.3.3"
  }
 },
 "nbformat": 4,
 "nbformat_minor": 5
}