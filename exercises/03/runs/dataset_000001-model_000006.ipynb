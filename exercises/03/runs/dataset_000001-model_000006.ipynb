{
 "cells": [
  {
   "cell_type": "markdown",
   "id": "ff0916fe",
   "metadata": {
    "papermill": {
     "duration": 0.030553,
     "end_time": "2021-04-04T22:14:55.890165",
     "exception": false,
     "start_time": "2021-04-04T22:14:55.859612",
     "status": "completed"
    },
    "tags": []
   },
   "source": [
    "# Parametrizing"
   ]
  },
  {
   "cell_type": "code",
   "execution_count": 1,
   "id": "b4db9f88",
   "metadata": {
    "execution": {
     "iopub.execute_input": "2021-04-04T22:14:55.942222Z",
     "iopub.status.busy": "2021-04-04T22:14:55.941520Z",
     "iopub.status.idle": "2021-04-04T22:14:55.943611Z",
     "shell.execute_reply": "2021-04-04T22:14:55.944178Z"
    },
    "papermill": {
     "duration": 0.034705,
     "end_time": "2021-04-04T22:14:55.944431",
     "exception": false,
     "start_time": "2021-04-04T22:14:55.909726",
     "status": "completed"
    },
    "tags": [
     "parameters"
    ]
   },
   "outputs": [],
   "source": [
    "DATASET_CONFIG_PATH = 'config/dataset/kc1_001.json'\n",
    "MODEL_CONFIG_PATH = 'config/model/knndd_001.json'\n",
    "PROFILE_REPORTING = False"
   ]
  },
  {
   "cell_type": "code",
   "execution_count": 2,
   "id": "b600ea4d",
   "metadata": {
    "execution": {
     "iopub.execute_input": "2021-04-04T22:14:55.993837Z",
     "iopub.status.busy": "2021-04-04T22:14:55.992985Z",
     "iopub.status.idle": "2021-04-04T22:14:55.995205Z",
     "shell.execute_reply": "2021-04-04T22:14:55.995677Z"
    },
    "papermill": {
     "duration": 0.026265,
     "end_time": "2021-04-04T22:14:55.995822",
     "exception": false,
     "start_time": "2021-04-04T22:14:55.969557",
     "status": "completed"
    },
    "tags": [
     "injected-parameters"
    ]
   },
   "outputs": [],
   "source": [
    "# Parameters\n",
    "DATASET_CONFIG_PATH = \"config/dataset/000001.json\"\n",
    "MODEL_CONFIG_PATH = \"config/model/000006.json\"\n",
    "PROFILE_REPORTING = False\n"
   ]
  },
  {
   "cell_type": "code",
   "execution_count": 3,
   "id": "ec4ede16",
   "metadata": {
    "execution": {
     "iopub.execute_input": "2021-04-04T22:14:56.045237Z",
     "iopub.status.busy": "2021-04-04T22:14:56.044292Z",
     "iopub.status.idle": "2021-04-04T22:14:56.047265Z",
     "shell.execute_reply": "2021-04-04T22:14:56.048204Z"
    },
    "papermill": {
     "duration": 0.032173,
     "end_time": "2021-04-04T22:14:56.048516",
     "exception": false,
     "start_time": "2021-04-04T22:14:56.016343",
     "status": "completed"
    },
    "tags": []
   },
   "outputs": [],
   "source": [
    "import json\n",
    "\n",
    "\n",
    "with open(DATASET_CONFIG_PATH) as f:\n",
    "    dataset_config = json.load(f)\n",
    "\n",
    "with open(MODEL_CONFIG_PATH) as f:\n",
    "    model_config = json.load(f)"
   ]
  },
  {
   "cell_type": "markdown",
   "id": "9a4b0e2d",
   "metadata": {
    "papermill": {
     "duration": 0.019138,
     "end_time": "2021-04-04T22:14:56.087442",
     "exception": false,
     "start_time": "2021-04-04T22:14:56.068304",
     "status": "completed"
    },
    "tags": []
   },
   "source": [
    "# Profiling"
   ]
  },
  {
   "cell_type": "code",
   "execution_count": 4,
   "id": "a3e0289b",
   "metadata": {
    "execution": {
     "iopub.execute_input": "2021-04-04T22:14:56.129567Z",
     "iopub.status.busy": "2021-04-04T22:14:56.128969Z",
     "iopub.status.idle": "2021-04-04T22:14:57.397301Z",
     "shell.execute_reply": "2021-04-04T22:14:57.398171Z"
    },
    "papermill": {
     "duration": 1.291765,
     "end_time": "2021-04-04T22:14:57.398421",
     "exception": false,
     "start_time": "2021-04-04T22:14:56.106656",
     "status": "completed"
    },
    "tags": []
   },
   "outputs": [],
   "source": [
    "import pandas as pd\n",
    "from pandas_profiling import ProfileReport"
   ]
  },
  {
   "cell_type": "code",
   "execution_count": 5,
   "id": "ee6c0666",
   "metadata": {
    "execution": {
     "iopub.execute_input": "2021-04-04T22:14:57.452431Z",
     "iopub.status.busy": "2021-04-04T22:14:57.451638Z",
     "iopub.status.idle": "2021-04-04T22:14:57.464458Z",
     "shell.execute_reply": "2021-04-04T22:14:57.463941Z"
    },
    "papermill": {
     "duration": 0.04178,
     "end_time": "2021-04-04T22:14:57.464580",
     "exception": false,
     "start_time": "2021-04-04T22:14:57.422800",
     "status": "completed"
    },
    "tags": []
   },
   "outputs": [],
   "source": [
    "df = pd.read_csv(dataset_config['dataset_path'])"
   ]
  },
  {
   "cell_type": "code",
   "execution_count": 6,
   "id": "19e77450",
   "metadata": {
    "execution": {
     "iopub.execute_input": "2021-04-04T22:14:57.517378Z",
     "iopub.status.busy": "2021-04-04T22:14:57.516550Z",
     "iopub.status.idle": "2021-04-04T22:14:57.520599Z",
     "shell.execute_reply": "2021-04-04T22:14:57.521056Z"
    },
    "papermill": {
     "duration": 0.036524,
     "end_time": "2021-04-04T22:14:57.521200",
     "exception": false,
     "start_time": "2021-04-04T22:14:57.484676",
     "status": "completed"
    },
    "tags": []
   },
   "outputs": [
    {
     "name": "stdout",
     "output_type": "stream",
     "text": [
      "<class 'pandas.core.frame.DataFrame'>\n",
      "RangeIndex: 2109 entries, 0 to 2108\n",
      "Data columns (total 23 columns):\n",
      " #   Column             Non-Null Count  Dtype  \n",
      "---  ------             --------------  -----  \n",
      " 0   id                 2109 non-null   int64  \n",
      " 1   loc                2109 non-null   float64\n",
      " 2   v(g)               2109 non-null   float64\n",
      " 3   ev(g)              2109 non-null   float64\n",
      " 4   iv(g)              2109 non-null   float64\n",
      " 5   n                  2109 non-null   float64\n",
      " 6   v                  2109 non-null   float64\n",
      " 7   l                  2109 non-null   float64\n",
      " 8   d                  2109 non-null   float64\n",
      " 9   i                  2109 non-null   float64\n",
      " 10  e                  2109 non-null   float64\n",
      " 11  b                  2109 non-null   float64\n",
      " 12  t                  2109 non-null   float64\n",
      " 13  lOCode             2109 non-null   int64  \n",
      " 14  lOComment          2109 non-null   int64  \n",
      " 15  lOBlank            2109 non-null   int64  \n",
      " 16  locCodeAndComment  2109 non-null   int64  \n",
      " 17  uniq_Op            2109 non-null   float64\n",
      " 18  uniq_Opnd          2109 non-null   float64\n",
      " 19  total_Op           2109 non-null   float64\n",
      " 20  total_Opnd         2109 non-null   float64\n",
      " 21  branchCount        2109 non-null   float64\n",
      " 22  defects            2109 non-null   bool   \n",
      "dtypes: bool(1), float64(17), int64(5)\n",
      "memory usage: 364.7 KB\n"
     ]
    }
   ],
   "source": [
    "df.info()"
   ]
  },
  {
   "cell_type": "code",
   "execution_count": 7,
   "id": "b1b6e8ba",
   "metadata": {
    "execution": {
     "iopub.execute_input": "2021-04-04T22:14:57.571479Z",
     "iopub.status.busy": "2021-04-04T22:14:57.570857Z",
     "iopub.status.idle": "2021-04-04T22:14:57.594987Z",
     "shell.execute_reply": "2021-04-04T22:14:57.595461Z"
    },
    "papermill": {
     "duration": 0.05382,
     "end_time": "2021-04-04T22:14:57.595609",
     "exception": false,
     "start_time": "2021-04-04T22:14:57.541789",
     "status": "completed"
    },
    "tags": []
   },
   "outputs": [
    {
     "data": {
      "text/html": [
       "<div>\n",
       "<style scoped>\n",
       "    .dataframe tbody tr th:only-of-type {\n",
       "        vertical-align: middle;\n",
       "    }\n",
       "\n",
       "    .dataframe tbody tr th {\n",
       "        vertical-align: top;\n",
       "    }\n",
       "\n",
       "    .dataframe thead th {\n",
       "        text-align: right;\n",
       "    }\n",
       "</style>\n",
       "<table border=\"1\" class=\"dataframe\">\n",
       "  <thead>\n",
       "    <tr style=\"text-align: right;\">\n",
       "      <th></th>\n",
       "      <th>id</th>\n",
       "      <th>loc</th>\n",
       "      <th>v(g)</th>\n",
       "      <th>ev(g)</th>\n",
       "      <th>iv(g)</th>\n",
       "      <th>n</th>\n",
       "      <th>v</th>\n",
       "      <th>l</th>\n",
       "      <th>d</th>\n",
       "      <th>i</th>\n",
       "      <th>...</th>\n",
       "      <th>lOCode</th>\n",
       "      <th>lOComment</th>\n",
       "      <th>lOBlank</th>\n",
       "      <th>locCodeAndComment</th>\n",
       "      <th>uniq_Op</th>\n",
       "      <th>uniq_Opnd</th>\n",
       "      <th>total_Op</th>\n",
       "      <th>total_Opnd</th>\n",
       "      <th>branchCount</th>\n",
       "      <th>defects</th>\n",
       "    </tr>\n",
       "  </thead>\n",
       "  <tbody>\n",
       "    <tr>\n",
       "      <th>0</th>\n",
       "      <td>1</td>\n",
       "      <td>1.1</td>\n",
       "      <td>1.4</td>\n",
       "      <td>1.4</td>\n",
       "      <td>1.4</td>\n",
       "      <td>1.3</td>\n",
       "      <td>1.30</td>\n",
       "      <td>1.30</td>\n",
       "      <td>1.30</td>\n",
       "      <td>1.30</td>\n",
       "      <td>...</td>\n",
       "      <td>2</td>\n",
       "      <td>2</td>\n",
       "      <td>2</td>\n",
       "      <td>2</td>\n",
       "      <td>1.2</td>\n",
       "      <td>1.2</td>\n",
       "      <td>1.2</td>\n",
       "      <td>1.2</td>\n",
       "      <td>1.4</td>\n",
       "      <td>False</td>\n",
       "    </tr>\n",
       "    <tr>\n",
       "      <th>1</th>\n",
       "      <td>2</td>\n",
       "      <td>1.0</td>\n",
       "      <td>1.0</td>\n",
       "      <td>1.0</td>\n",
       "      <td>1.0</td>\n",
       "      <td>1.0</td>\n",
       "      <td>1.00</td>\n",
       "      <td>1.00</td>\n",
       "      <td>1.00</td>\n",
       "      <td>1.00</td>\n",
       "      <td>...</td>\n",
       "      <td>1</td>\n",
       "      <td>1</td>\n",
       "      <td>1</td>\n",
       "      <td>1</td>\n",
       "      <td>1.0</td>\n",
       "      <td>1.0</td>\n",
       "      <td>1.0</td>\n",
       "      <td>1.0</td>\n",
       "      <td>1.0</td>\n",
       "      <td>True</td>\n",
       "    </tr>\n",
       "    <tr>\n",
       "      <th>2</th>\n",
       "      <td>3</td>\n",
       "      <td>83.0</td>\n",
       "      <td>11.0</td>\n",
       "      <td>1.0</td>\n",
       "      <td>11.0</td>\n",
       "      <td>171.0</td>\n",
       "      <td>927.89</td>\n",
       "      <td>0.04</td>\n",
       "      <td>23.04</td>\n",
       "      <td>40.27</td>\n",
       "      <td>...</td>\n",
       "      <td>65</td>\n",
       "      <td>10</td>\n",
       "      <td>6</td>\n",
       "      <td>0</td>\n",
       "      <td>18.0</td>\n",
       "      <td>25.0</td>\n",
       "      <td>107.0</td>\n",
       "      <td>64.0</td>\n",
       "      <td>21.0</td>\n",
       "      <td>True</td>\n",
       "    </tr>\n",
       "    <tr>\n",
       "      <th>3</th>\n",
       "      <td>4</td>\n",
       "      <td>46.0</td>\n",
       "      <td>8.0</td>\n",
       "      <td>6.0</td>\n",
       "      <td>8.0</td>\n",
       "      <td>141.0</td>\n",
       "      <td>769.78</td>\n",
       "      <td>0.07</td>\n",
       "      <td>14.86</td>\n",
       "      <td>51.81</td>\n",
       "      <td>...</td>\n",
       "      <td>37</td>\n",
       "      <td>2</td>\n",
       "      <td>5</td>\n",
       "      <td>0</td>\n",
       "      <td>16.0</td>\n",
       "      <td>28.0</td>\n",
       "      <td>89.0</td>\n",
       "      <td>52.0</td>\n",
       "      <td>15.0</td>\n",
       "      <td>True</td>\n",
       "    </tr>\n",
       "    <tr>\n",
       "      <th>4</th>\n",
       "      <td>5</td>\n",
       "      <td>25.0</td>\n",
       "      <td>3.0</td>\n",
       "      <td>1.0</td>\n",
       "      <td>3.0</td>\n",
       "      <td>58.0</td>\n",
       "      <td>254.75</td>\n",
       "      <td>0.11</td>\n",
       "      <td>9.35</td>\n",
       "      <td>27.25</td>\n",
       "      <td>...</td>\n",
       "      <td>21</td>\n",
       "      <td>0</td>\n",
       "      <td>2</td>\n",
       "      <td>0</td>\n",
       "      <td>11.0</td>\n",
       "      <td>10.0</td>\n",
       "      <td>41.0</td>\n",
       "      <td>17.0</td>\n",
       "      <td>5.0</td>\n",
       "      <td>True</td>\n",
       "    </tr>\n",
       "  </tbody>\n",
       "</table>\n",
       "<p>5 rows × 23 columns</p>\n",
       "</div>"
      ],
      "text/plain": [
       "   id   loc  v(g)  ev(g)  iv(g)      n       v     l      d      i  ...  \\\n",
       "0   1   1.1   1.4    1.4    1.4    1.3    1.30  1.30   1.30   1.30  ...   \n",
       "1   2   1.0   1.0    1.0    1.0    1.0    1.00  1.00   1.00   1.00  ...   \n",
       "2   3  83.0  11.0    1.0   11.0  171.0  927.89  0.04  23.04  40.27  ...   \n",
       "3   4  46.0   8.0    6.0    8.0  141.0  769.78  0.07  14.86  51.81  ...   \n",
       "4   5  25.0   3.0    1.0    3.0   58.0  254.75  0.11   9.35  27.25  ...   \n",
       "\n",
       "   lOCode  lOComment  lOBlank  locCodeAndComment  uniq_Op  uniq_Opnd  \\\n",
       "0       2          2        2                  2      1.2        1.2   \n",
       "1       1          1        1                  1      1.0        1.0   \n",
       "2      65         10        6                  0     18.0       25.0   \n",
       "3      37          2        5                  0     16.0       28.0   \n",
       "4      21          0        2                  0     11.0       10.0   \n",
       "\n",
       "   total_Op  total_Opnd  branchCount  defects  \n",
       "0       1.2         1.2          1.4    False  \n",
       "1       1.0         1.0          1.0     True  \n",
       "2     107.0        64.0         21.0     True  \n",
       "3      89.0        52.0         15.0     True  \n",
       "4      41.0        17.0          5.0     True  \n",
       "\n",
       "[5 rows x 23 columns]"
      ]
     },
     "execution_count": 7,
     "metadata": {},
     "output_type": "execute_result"
    }
   ],
   "source": [
    "df.head()"
   ]
  },
  {
   "cell_type": "code",
   "execution_count": 8,
   "id": "a5e1aaca",
   "metadata": {
    "execution": {
     "iopub.execute_input": "2021-04-04T22:14:57.644240Z",
     "iopub.status.busy": "2021-04-04T22:14:57.643617Z",
     "iopub.status.idle": "2021-04-04T22:14:57.646507Z",
     "shell.execute_reply": "2021-04-04T22:14:57.645897Z"
    },
    "papermill": {
     "duration": 0.028532,
     "end_time": "2021-04-04T22:14:57.646631",
     "exception": false,
     "start_time": "2021-04-04T22:14:57.618099",
     "status": "completed"
    },
    "tags": []
   },
   "outputs": [],
   "source": [
    "del df['id']"
   ]
  },
  {
   "cell_type": "code",
   "execution_count": 9,
   "id": "6ff6f5b0",
   "metadata": {
    "execution": {
     "iopub.execute_input": "2021-04-04T22:14:57.698084Z",
     "iopub.status.busy": "2021-04-04T22:14:57.697097Z",
     "iopub.status.idle": "2021-04-04T22:14:57.699411Z",
     "shell.execute_reply": "2021-04-04T22:14:57.700109Z"
    },
    "papermill": {
     "duration": 0.030786,
     "end_time": "2021-04-04T22:14:57.700348",
     "exception": false,
     "start_time": "2021-04-04T22:14:57.669562",
     "status": "completed"
    },
    "tags": []
   },
   "outputs": [],
   "source": [
    "if PROFILE_REPORTING:\n",
    "    ProfileReport(df).to_widgets()"
   ]
  },
  {
   "cell_type": "markdown",
   "id": "1deaf3f0",
   "metadata": {
    "papermill": {
     "duration": 0.025123,
     "end_time": "2021-04-04T22:14:57.748734",
     "exception": false,
     "start_time": "2021-04-04T22:14:57.723611",
     "status": "completed"
    },
    "tags": []
   },
   "source": [
    "# Preprocess"
   ]
  },
  {
   "cell_type": "code",
   "execution_count": 10,
   "id": "ca8b0a68",
   "metadata": {
    "execution": {
     "iopub.execute_input": "2021-04-04T22:14:57.802781Z",
     "iopub.status.busy": "2021-04-04T22:14:57.801649Z",
     "iopub.status.idle": "2021-04-04T22:14:57.803930Z",
     "shell.execute_reply": "2021-04-04T22:14:57.804611Z"
    },
    "papermill": {
     "duration": 0.030278,
     "end_time": "2021-04-04T22:14:57.804779",
     "exception": false,
     "start_time": "2021-04-04T22:14:57.774501",
     "status": "completed"
    },
    "tags": []
   },
   "outputs": [],
   "source": [
    "working_df = df.copy()"
   ]
  },
  {
   "cell_type": "code",
   "execution_count": 11,
   "id": "3b26d675",
   "metadata": {
    "execution": {
     "iopub.execute_input": "2021-04-04T22:14:57.854209Z",
     "iopub.status.busy": "2021-04-04T22:14:57.853580Z",
     "iopub.status.idle": "2021-04-04T22:14:57.855722Z",
     "shell.execute_reply": "2021-04-04T22:14:57.856295Z"
    },
    "papermill": {
     "duration": 0.029142,
     "end_time": "2021-04-04T22:14:57.856460",
     "exception": false,
     "start_time": "2021-04-04T22:14:57.827318",
     "status": "completed"
    },
    "tags": []
   },
   "outputs": [],
   "source": [
    "working_df['defects'] = working_df['defects'].replace([False, True], [0, 1])"
   ]
  },
  {
   "cell_type": "code",
   "execution_count": 12,
   "id": "9ead9caf",
   "metadata": {
    "execution": {
     "iopub.execute_input": "2021-04-04T22:14:57.908700Z",
     "iopub.status.busy": "2021-04-04T22:14:57.908121Z",
     "iopub.status.idle": "2021-04-04T22:14:57.910471Z",
     "shell.execute_reply": "2021-04-04T22:14:57.911018Z"
    },
    "papermill": {
     "duration": 0.03086,
     "end_time": "2021-04-04T22:14:57.911182",
     "exception": false,
     "start_time": "2021-04-04T22:14:57.880322",
     "status": "completed"
    },
    "tags": []
   },
   "outputs": [],
   "source": [
    "for col in dataset_config['delete_columns']:\n",
    "    del working_df[col]"
   ]
  },
  {
   "cell_type": "code",
   "execution_count": 13,
   "id": "cd6a7ced",
   "metadata": {
    "execution": {
     "iopub.execute_input": "2021-04-04T22:14:57.962593Z",
     "iopub.status.busy": "2021-04-04T22:14:57.961404Z",
     "iopub.status.idle": "2021-04-04T22:14:57.972999Z",
     "shell.execute_reply": "2021-04-04T22:14:57.972270Z"
    },
    "papermill": {
     "duration": 0.037764,
     "end_time": "2021-04-04T22:14:57.973144",
     "exception": false,
     "start_time": "2021-04-04T22:14:57.935380",
     "status": "completed"
    },
    "tags": []
   },
   "outputs": [],
   "source": [
    "working_df = working_df.drop_duplicates()"
   ]
  },
  {
   "cell_type": "markdown",
   "id": "a4d52ca6",
   "metadata": {
    "papermill": {
     "duration": 0.022934,
     "end_time": "2021-04-04T22:14:58.021222",
     "exception": false,
     "start_time": "2021-04-04T22:14:57.998288",
     "status": "completed"
    },
    "tags": []
   },
   "source": [
    "# Split"
   ]
  },
  {
   "cell_type": "code",
   "execution_count": 14,
   "id": "3e9ee4b5",
   "metadata": {
    "execution": {
     "iopub.execute_input": "2021-04-04T22:14:58.067863Z",
     "iopub.status.busy": "2021-04-04T22:14:58.067258Z",
     "iopub.status.idle": "2021-04-04T22:14:58.095271Z",
     "shell.execute_reply": "2021-04-04T22:14:58.094673Z"
    },
    "papermill": {
     "duration": 0.05282,
     "end_time": "2021-04-04T22:14:58.095392",
     "exception": false,
     "start_time": "2021-04-04T22:14:58.042572",
     "status": "completed"
    },
    "tags": []
   },
   "outputs": [],
   "source": [
    "from sklearn.model_selection import train_test_split"
   ]
  },
  {
   "cell_type": "code",
   "execution_count": 15,
   "id": "274004ce",
   "metadata": {
    "execution": {
     "iopub.execute_input": "2021-04-04T22:14:58.148554Z",
     "iopub.status.busy": "2021-04-04T22:14:58.147308Z",
     "iopub.status.idle": "2021-04-04T22:14:58.152855Z",
     "shell.execute_reply": "2021-04-04T22:14:58.153343Z"
    },
    "papermill": {
     "duration": 0.036155,
     "end_time": "2021-04-04T22:14:58.153494",
     "exception": false,
     "start_time": "2021-04-04T22:14:58.117339",
     "status": "completed"
    },
    "scrolled": true,
    "tags": []
   },
   "outputs": [],
   "source": [
    "inlier, outlier = working_df[working_df['defects'] == 0], working_df[working_df['defects'] == 1]"
   ]
  },
  {
   "cell_type": "code",
   "execution_count": 16,
   "id": "753c7b03",
   "metadata": {
    "execution": {
     "iopub.execute_input": "2021-04-04T22:14:58.202470Z",
     "iopub.status.busy": "2021-04-04T22:14:58.201715Z",
     "iopub.status.idle": "2021-04-04T22:14:58.204855Z",
     "shell.execute_reply": "2021-04-04T22:14:58.205338Z"
    },
    "papermill": {
     "duration": 0.029586,
     "end_time": "2021-04-04T22:14:58.205492",
     "exception": false,
     "start_time": "2021-04-04T22:14:58.175906",
     "status": "completed"
    },
    "tags": []
   },
   "outputs": [],
   "source": [
    "X_inlier = inlier.copy()\n",
    "y_inlier = X_inlier.pop('defects')\n",
    "X_outlier = outlier.copy()\n",
    "y_outlier = X_outlier.pop('defects')"
   ]
  },
  {
   "cell_type": "code",
   "execution_count": 17,
   "id": "2ba43193",
   "metadata": {
    "execution": {
     "iopub.execute_input": "2021-04-04T22:14:58.259483Z",
     "iopub.status.busy": "2021-04-04T22:14:58.258744Z",
     "iopub.status.idle": "2021-04-04T22:14:58.260671Z",
     "shell.execute_reply": "2021-04-04T22:14:58.261250Z"
    },
    "papermill": {
     "duration": 0.032888,
     "end_time": "2021-04-04T22:14:58.261402",
     "exception": false,
     "start_time": "2021-04-04T22:14:58.228514",
     "status": "completed"
    },
    "tags": []
   },
   "outputs": [],
   "source": [
    "test_size = dataset_config['test_size']\n",
    "random_state = dataset_config['random_state']\n",
    "\n",
    "X_inlier_train, X_inlier_test, y_inlier_train, y_inlier_test = train_test_split(\n",
    "    X_inlier,\n",
    "    y_inlier,\n",
    "    test_size=test_size,\n",
    "    random_state=random_state\n",
    ")"
   ]
  },
  {
   "cell_type": "code",
   "execution_count": 18,
   "id": "55d493ad",
   "metadata": {
    "execution": {
     "iopub.execute_input": "2021-04-04T22:14:58.315111Z",
     "iopub.status.busy": "2021-04-04T22:14:58.314197Z",
     "iopub.status.idle": "2021-04-04T22:14:58.316418Z",
     "shell.execute_reply": "2021-04-04T22:14:58.316929Z"
    },
    "papermill": {
     "duration": 0.032896,
     "end_time": "2021-04-04T22:14:58.317077",
     "exception": false,
     "start_time": "2021-04-04T22:14:58.284181",
     "status": "completed"
    },
    "tags": []
   },
   "outputs": [],
   "source": [
    "test_outlier_size = dataset_config['test_outlier_size']\n",
    "if test_outlier_size > 0.0:\n",
    "    X_outlier_train, X_outlier_test, y_outlier_train, y_outlier_test = train_test_split(\n",
    "        X_outlier,\n",
    "        y_outlier,\n",
    "        test_size=test_outlier_size,\n",
    "        random_state=random_state\n",
    "    )\n",
    "else:\n",
    "    X_outlier_train, y_outlier_train = pd.DataFrame(columns=X_outlier.columns), pd.Series(dtype='int64')\n",
    "    X_outlier_test, y_outlier_test = X_outlier.copy(), y_outlier.copy()"
   ]
  },
  {
   "cell_type": "code",
   "execution_count": 19,
   "id": "8545fe79",
   "metadata": {
    "execution": {
     "iopub.execute_input": "2021-04-04T22:14:58.380439Z",
     "iopub.status.busy": "2021-04-04T22:14:58.378822Z",
     "iopub.status.idle": "2021-04-04T22:14:58.383292Z",
     "shell.execute_reply": "2021-04-04T22:14:58.382745Z"
    },
    "papermill": {
     "duration": 0.043985,
     "end_time": "2021-04-04T22:14:58.383422",
     "exception": false,
     "start_time": "2021-04-04T22:14:58.339437",
     "status": "completed"
    },
    "tags": []
   },
   "outputs": [],
   "source": [
    "X_train, y_train = pd.concat([X_inlier_train, X_outlier_train], ignore_index=True), pd.concat([y_inlier_train, y_outlier_train], ignore_index=True)\n",
    "X_test, y_test = pd.concat([X_inlier_test, X_outlier_test], ignore_index=True), pd.concat([y_inlier_test, y_outlier_test], ignore_index=True)"
   ]
  },
  {
   "cell_type": "markdown",
   "id": "7cde7309",
   "metadata": {
    "papermill": {
     "duration": 0.022548,
     "end_time": "2021-04-04T22:14:58.428856",
     "exception": false,
     "start_time": "2021-04-04T22:14:58.406308",
     "status": "completed"
    },
    "tags": []
   },
   "source": [
    "# Model"
   ]
  },
  {
   "cell_type": "code",
   "execution_count": 20,
   "id": "3a8b2da9",
   "metadata": {
    "execution": {
     "iopub.execute_input": "2021-04-04T22:14:58.489814Z",
     "iopub.status.busy": "2021-04-04T22:14:58.489208Z",
     "iopub.status.idle": "2021-04-04T22:14:58.491257Z",
     "shell.execute_reply": "2021-04-04T22:14:58.491742Z"
    },
    "papermill": {
     "duration": 0.040852,
     "end_time": "2021-04-04T22:14:58.491891",
     "exception": false,
     "start_time": "2021-04-04T22:14:58.451039",
     "status": "completed"
    },
    "tags": []
   },
   "outputs": [],
   "source": [
    "from math import sqrt\n",
    "\n",
    "\n",
    "class KNNDataDescription:\n",
    "    def __init__(self, k=5, outlier_threshold=1.0):\n",
    "        self.k = k\n",
    "        self.outlier_threshold = outlier_threshold\n",
    "        self.X = []\n",
    "    \n",
    "    def fit(self, X):\n",
    "        self.X = [features.to_list() for index, features in X.iterrows()]\n",
    "\n",
    "    def predict(self, entries):\n",
    "        return [self.predict_entry(features.to_list()) for index, features in entries.iterrows()]\n",
    "    \n",
    "    def predict_entry(self, entry):\n",
    "        kth_neighbor, kth_distance = self.get_kth_neighbor(entry, self.k)\n",
    "        kth_kth_neighbor, kth_kth_distance = self.get_kth_neighbor(kth_neighbor, self.k + 1)\n",
    "\n",
    "        outlier_score = kth_distance / (kth_kth_distance + 0.000001)\n",
    "\n",
    "        return 1 if outlier_score < self.outlier_threshold else -1\n",
    "        \n",
    "    def euclidean_distance(self, features1, features2):\n",
    "        distance = 0.0\n",
    "        for feat1, feat2 in zip(features1, features2):\n",
    "            distance += (feat1 - feat2)**2\n",
    "                \n",
    "        return sqrt(distance)\n",
    "\n",
    "    def get_neighbors(self, entry, k):\n",
    "        distance_to_data_points = [\n",
    "            (data_point, self.euclidean_distance(entry, data_point))\n",
    "            for data_point in self.X\n",
    "        ]\n",
    "        sorted_by_distance = sorted(distance_to_data_points, key=lambda tup: tup[1])\n",
    "        neighbors = sorted_by_distance[:k]\n",
    "        return neighbors\n",
    "\n",
    "    def get_kth_neighbor(self, entry, k):\n",
    "        neighbors = self.get_neighbors(entry, k)\n",
    "        return neighbors[-1]\n"
   ]
  },
  {
   "cell_type": "code",
   "execution_count": 21,
   "id": "1fa9ec1c",
   "metadata": {
    "execution": {
     "iopub.execute_input": "2021-04-04T22:14:58.540812Z",
     "iopub.status.busy": "2021-04-04T22:14:58.539860Z",
     "iopub.status.idle": "2021-04-04T22:14:58.579234Z",
     "shell.execute_reply": "2021-04-04T22:14:58.579683Z"
    },
    "papermill": {
     "duration": 0.065631,
     "end_time": "2021-04-04T22:14:58.579825",
     "exception": false,
     "start_time": "2021-04-04T22:14:58.514194",
     "status": "completed"
    },
    "tags": []
   },
   "outputs": [],
   "source": [
    "from sklearn.ensemble import IsolationForest\n",
    "from sklearn.svm import OneClassSVM\n",
    "\n",
    "\n",
    "models = {\n",
    "    'isolationforest': IsolationForest,\n",
    "    'oneclasssvm': OneClassSVM,\n",
    "    'knndatadescription': KNNDataDescription,\n",
    "}"
   ]
  },
  {
   "cell_type": "code",
   "execution_count": 22,
   "id": "4d72a0b1",
   "metadata": {
    "execution": {
     "iopub.execute_input": "2021-04-04T22:14:58.630655Z",
     "iopub.status.busy": "2021-04-04T22:14:58.629804Z",
     "iopub.status.idle": "2021-04-04T22:14:58.632859Z",
     "shell.execute_reply": "2021-04-04T22:14:58.633431Z"
    },
    "papermill": {
     "duration": 0.031356,
     "end_time": "2021-04-04T22:14:58.633588",
     "exception": false,
     "start_time": "2021-04-04T22:14:58.602232",
     "status": "completed"
    },
    "scrolled": true,
    "tags": []
   },
   "outputs": [],
   "source": [
    "model_cls = models[model_config['model_type']]\n",
    "model = model_cls(**model_config['hyperparameters'])"
   ]
  },
  {
   "cell_type": "markdown",
   "id": "e00cff3b",
   "metadata": {
    "papermill": {
     "duration": 0.022284,
     "end_time": "2021-04-04T22:14:58.678681",
     "exception": false,
     "start_time": "2021-04-04T22:14:58.656397",
     "status": "completed"
    },
    "tags": []
   },
   "source": [
    "# Fit"
   ]
  },
  {
   "cell_type": "code",
   "execution_count": 23,
   "id": "8b2ded89",
   "metadata": {
    "execution": {
     "iopub.execute_input": "2021-04-04T22:14:58.737310Z",
     "iopub.status.busy": "2021-04-04T22:14:58.732395Z",
     "iopub.status.idle": "2021-04-04T22:14:58.780259Z",
     "shell.execute_reply": "2021-04-04T22:14:58.779624Z"
    },
    "papermill": {
     "duration": 0.079589,
     "end_time": "2021-04-04T22:14:58.780388",
     "exception": false,
     "start_time": "2021-04-04T22:14:58.700799",
     "status": "completed"
    },
    "tags": []
   },
   "outputs": [],
   "source": [
    "model.fit(X_train)"
   ]
  },
  {
   "cell_type": "markdown",
   "id": "f99999f7",
   "metadata": {
    "papermill": {
     "duration": 0.02414,
     "end_time": "2021-04-04T22:14:58.829600",
     "exception": false,
     "start_time": "2021-04-04T22:14:58.805460",
     "status": "completed"
    },
    "tags": []
   },
   "source": [
    "# Predict"
   ]
  },
  {
   "cell_type": "code",
   "execution_count": 24,
   "id": "6536fbf7",
   "metadata": {
    "execution": {
     "iopub.execute_input": "2021-04-04T22:14:58.889270Z",
     "iopub.status.busy": "2021-04-04T22:14:58.884150Z",
     "iopub.status.idle": "2021-04-04T22:15:01.538012Z",
     "shell.execute_reply": "2021-04-04T22:15:01.537143Z"
    },
    "papermill": {
     "duration": 2.685706,
     "end_time": "2021-04-04T22:15:01.538181",
     "exception": false,
     "start_time": "2021-04-04T22:14:58.852475",
     "status": "completed"
    },
    "tags": []
   },
   "outputs": [],
   "source": [
    "predictions = model.predict(X_test)"
   ]
  },
  {
   "cell_type": "markdown",
   "id": "aa1c9881",
   "metadata": {
    "papermill": {
     "duration": 0.026616,
     "end_time": "2021-04-04T22:15:01.593473",
     "exception": false,
     "start_time": "2021-04-04T22:15:01.566857",
     "status": "completed"
    },
    "tags": []
   },
   "source": [
    "# Evaluate"
   ]
  },
  {
   "cell_type": "code",
   "execution_count": 25,
   "id": "894f0f04",
   "metadata": {
    "execution": {
     "iopub.execute_input": "2021-04-04T22:15:01.644531Z",
     "iopub.status.busy": "2021-04-04T22:15:01.643855Z",
     "iopub.status.idle": "2021-04-04T22:15:01.645586Z",
     "shell.execute_reply": "2021-04-04T22:15:01.646049Z"
    },
    "papermill": {
     "duration": 0.029118,
     "end_time": "2021-04-04T22:15:01.646195",
     "exception": false,
     "start_time": "2021-04-04T22:15:01.617077",
     "status": "completed"
    },
    "tags": []
   },
   "outputs": [],
   "source": [
    "from sklearn.metrics import f1_score"
   ]
  },
  {
   "cell_type": "code",
   "execution_count": 26,
   "id": "211744d3",
   "metadata": {
    "execution": {
     "iopub.execute_input": "2021-04-04T22:15:01.701190Z",
     "iopub.status.busy": "2021-04-04T22:15:01.700576Z",
     "iopub.status.idle": "2021-04-04T22:15:01.703018Z",
     "shell.execute_reply": "2021-04-04T22:15:01.703518Z"
    },
    "papermill": {
     "duration": 0.03401,
     "end_time": "2021-04-04T22:15:01.703667",
     "exception": false,
     "start_time": "2021-04-04T22:15:01.669657",
     "status": "completed"
    },
    "tags": []
   },
   "outputs": [],
   "source": [
    "y_test = y_test.replace([0, 1], [1, -1])"
   ]
  },
  {
   "cell_type": "code",
   "execution_count": 27,
   "id": "d68a9204",
   "metadata": {
    "execution": {
     "iopub.execute_input": "2021-04-04T22:15:01.786900Z",
     "iopub.status.busy": "2021-04-04T22:15:01.786243Z",
     "iopub.status.idle": "2021-04-04T22:15:01.788283Z",
     "shell.execute_reply": "2021-04-04T22:15:01.788750Z"
    },
    "papermill": {
     "duration": 0.032267,
     "end_time": "2021-04-04T22:15:01.788898",
     "exception": false,
     "start_time": "2021-04-04T22:15:01.756631",
     "status": "completed"
    },
    "tags": []
   },
   "outputs": [],
   "source": [
    "def evaluate(truths, predictions, pos_label, neg_label):\n",
    "    TP = 0\n",
    "    FP = 0\n",
    "    TN = 0\n",
    "    FN = 0\n",
    "\n",
    "    for truth, pred in zip(truths, predictions): \n",
    "        if truth == pred == pos_label:\n",
    "           TP += 1\n",
    "        elif pred == pos_label and truth == neg_label:\n",
    "           FP += 1\n",
    "        elif truth == pred == neg_label:\n",
    "           TN += 1\n",
    "        elif pred == neg_label and truth == pos_label:\n",
    "           FN += 1\n",
    "        else:\n",
    "            __import__(\"ipdb\").set_trace()\n",
    "\n",
    "    precision = TP / (TP + FP)\n",
    "    sensitivity = TP / (TP + FN)\n",
    "    \n",
    "    return {\n",
    "        'true_pos': TP,\n",
    "        'false_pos': FP,\n",
    "        'false_neg': FN,\n",
    "        'true_neg': TN,\n",
    "        'precision': precision,\n",
    "        'sensitivity': sensitivity,\n",
    "        'f1': (2 * (precision * sensitivity)) / (precision + sensitivity)\n",
    "    }\n",
    "\n",
    "score = evaluate(y_test, predictions, pos_label=-1, neg_label=1)"
   ]
  },
  {
   "cell_type": "markdown",
   "id": "68e054e7",
   "metadata": {
    "papermill": {
     "duration": 0.0262,
     "end_time": "2021-04-04T22:15:01.840213",
     "exception": false,
     "start_time": "2021-04-04T22:15:01.814013",
     "status": "completed"
    },
    "tags": []
   },
   "source": [
    "# Report"
   ]
  },
  {
   "cell_type": "code",
   "execution_count": 28,
   "id": "31de59d0",
   "metadata": {
    "execution": {
     "iopub.execute_input": "2021-04-04T22:15:01.891657Z",
     "iopub.status.busy": "2021-04-04T22:15:01.891033Z",
     "iopub.status.idle": "2021-04-04T22:15:01.894099Z",
     "shell.execute_reply": "2021-04-04T22:15:01.893470Z"
    },
    "papermill": {
     "duration": 0.031089,
     "end_time": "2021-04-04T22:15:01.894227",
     "exception": false,
     "start_time": "2021-04-04T22:15:01.863138",
     "status": "completed"
    },
    "tags": []
   },
   "outputs": [],
   "source": [
    "import csv\n",
    "\n",
    "\n",
    "dataset_config_name = DATASET_CONFIG_PATH.split('/')[-1].split('.')[0]\n",
    "model_config_name = MODEL_CONFIG_PATH.split('/')[-1].split('.')[0]\n",
    "configuration = f\"dataset_{dataset_config_name}-model_{model_config_name}\"\n",
    "\n",
    "with open('results.csv', 'a') as f:\n",
    "    report = dict({'configuration': configuration}, **score)\n",
    "    writer = csv.DictWriter(f, report.keys())\n",
    "    writer.writerow(report)"
   ]
  }
 ],
 "metadata": {
  "celltoolbar": "Tags",
  "kernelspec": {
   "display_name": "Python 3",
   "language": "python",
   "name": "python3"
  },
  "language_info": {
   "codemirror_mode": {
    "name": "ipython",
    "version": 3
   },
   "file_extension": ".py",
   "mimetype": "text/x-python",
   "name": "python",
   "nbconvert_exporter": "python",
   "pygments_lexer": "ipython3",
   "version": "3.9.1"
  },
  "papermill": {
   "default_parameters": {},
   "duration": 8.042812,
   "end_time": "2021-04-04T22:15:03.139017",
   "environment_variables": {},
   "exception": null,
   "input_path": "main.ipynb",
   "output_path": "runs/dataset_000001-model_000006.ipynb",
   "parameters": {
    "DATASET_CONFIG_PATH": "config/dataset/000001.json",
    "MODEL_CONFIG_PATH": "config/model/000006.json",
    "PROFILE_REPORTING": false
   },
   "start_time": "2021-04-04T22:14:55.096205",
   "version": "2.3.3"
  }
 },
 "nbformat": 4,
 "nbformat_minor": 5
}