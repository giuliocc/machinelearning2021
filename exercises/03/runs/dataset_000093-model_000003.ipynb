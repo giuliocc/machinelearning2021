{
 "cells": [
  {
   "cell_type": "markdown",
   "id": "51c71c25",
   "metadata": {
    "papermill": {
     "duration": 0.033247,
     "end_time": "2021-04-04T23:10:11.550732",
     "exception": false,
     "start_time": "2021-04-04T23:10:11.517485",
     "status": "completed"
    },
    "tags": []
   },
   "source": [
    "# Parametrizing"
   ]
  },
  {
   "cell_type": "code",
   "execution_count": 1,
   "id": "3b136394",
   "metadata": {
    "execution": {
     "iopub.execute_input": "2021-04-04T23:10:11.605381Z",
     "iopub.status.busy": "2021-04-04T23:10:11.604222Z",
     "iopub.status.idle": "2021-04-04T23:10:11.607527Z",
     "shell.execute_reply": "2021-04-04T23:10:11.608412Z"
    },
    "papermill": {
     "duration": 0.038577,
     "end_time": "2021-04-04T23:10:11.608767",
     "exception": false,
     "start_time": "2021-04-04T23:10:11.570190",
     "status": "completed"
    },
    "tags": [
     "parameters"
    ]
   },
   "outputs": [],
   "source": [
    "DATASET_CONFIG_PATH = 'config/dataset/kc1_001.json'\n",
    "MODEL_CONFIG_PATH = 'config/model/knndd_001.json'\n",
    "PROFILE_REPORTING = False"
   ]
  },
  {
   "cell_type": "code",
   "execution_count": 2,
   "id": "9c6b6381",
   "metadata": {
    "execution": {
     "iopub.execute_input": "2021-04-04T23:10:11.656322Z",
     "iopub.status.busy": "2021-04-04T23:10:11.655732Z",
     "iopub.status.idle": "2021-04-04T23:10:11.659132Z",
     "shell.execute_reply": "2021-04-04T23:10:11.658393Z"
    },
    "papermill": {
     "duration": 0.027259,
     "end_time": "2021-04-04T23:10:11.659296",
     "exception": false,
     "start_time": "2021-04-04T23:10:11.632037",
     "status": "completed"
    },
    "tags": [
     "injected-parameters"
    ]
   },
   "outputs": [],
   "source": [
    "# Parameters\n",
    "DATASET_CONFIG_PATH = \"config/dataset/000093.json\"\n",
    "MODEL_CONFIG_PATH = \"config/model/000003.json\"\n",
    "PROFILE_REPORTING = False\n"
   ]
  },
  {
   "cell_type": "code",
   "execution_count": 3,
   "id": "b80f2a10",
   "metadata": {
    "execution": {
     "iopub.execute_input": "2021-04-04T23:10:11.709629Z",
     "iopub.status.busy": "2021-04-04T23:10:11.708700Z",
     "iopub.status.idle": "2021-04-04T23:10:11.711420Z",
     "shell.execute_reply": "2021-04-04T23:10:11.711966Z"
    },
    "papermill": {
     "duration": 0.027941,
     "end_time": "2021-04-04T23:10:11.712109",
     "exception": false,
     "start_time": "2021-04-04T23:10:11.684168",
     "status": "completed"
    },
    "tags": []
   },
   "outputs": [],
   "source": [
    "import json\n",
    "\n",
    "\n",
    "with open(DATASET_CONFIG_PATH) as f:\n",
    "    dataset_config = json.load(f)\n",
    "\n",
    "with open(MODEL_CONFIG_PATH) as f:\n",
    "    model_config = json.load(f)"
   ]
  },
  {
   "cell_type": "markdown",
   "id": "9a4b0e2d",
   "metadata": {
    "papermill": {
     "duration": 0.029238,
     "end_time": "2021-04-04T23:10:11.763957",
     "exception": false,
     "start_time": "2021-04-04T23:10:11.734719",
     "status": "completed"
    },
    "tags": []
   },
   "source": [
    "# Profiling"
   ]
  },
  {
   "cell_type": "code",
   "execution_count": 4,
   "id": "a3e0289b",
   "metadata": {
    "execution": {
     "iopub.execute_input": "2021-04-04T23:10:11.810027Z",
     "iopub.status.busy": "2021-04-04T23:10:11.809366Z",
     "iopub.status.idle": "2021-04-04T23:10:13.068812Z",
     "shell.execute_reply": "2021-04-04T23:10:13.068107Z"
    },
    "papermill": {
     "duration": 1.284364,
     "end_time": "2021-04-04T23:10:13.068949",
     "exception": false,
     "start_time": "2021-04-04T23:10:11.784585",
     "status": "completed"
    },
    "tags": []
   },
   "outputs": [],
   "source": [
    "import pandas as pd\n",
    "from pandas_profiling import ProfileReport"
   ]
  },
  {
   "cell_type": "code",
   "execution_count": 5,
   "id": "ee6c0666",
   "metadata": {
    "execution": {
     "iopub.execute_input": "2021-04-04T23:10:13.117269Z",
     "iopub.status.busy": "2021-04-04T23:10:13.115623Z",
     "iopub.status.idle": "2021-04-04T23:10:13.128285Z",
     "shell.execute_reply": "2021-04-04T23:10:13.127686Z"
    },
    "papermill": {
     "duration": 0.03779,
     "end_time": "2021-04-04T23:10:13.128405",
     "exception": false,
     "start_time": "2021-04-04T23:10:13.090615",
     "status": "completed"
    },
    "tags": []
   },
   "outputs": [],
   "source": [
    "df = pd.read_csv(dataset_config['dataset_path'])"
   ]
  },
  {
   "cell_type": "code",
   "execution_count": 6,
   "id": "7eca6c4a",
   "metadata": {
    "execution": {
     "iopub.execute_input": "2021-04-04T23:10:13.185795Z",
     "iopub.status.busy": "2021-04-04T23:10:13.184435Z",
     "iopub.status.idle": "2021-04-04T23:10:13.189140Z",
     "shell.execute_reply": "2021-04-04T23:10:13.189880Z"
    },
    "papermill": {
     "duration": 0.041619,
     "end_time": "2021-04-04T23:10:13.190169",
     "exception": false,
     "start_time": "2021-04-04T23:10:13.148550",
     "status": "completed"
    },
    "tags": []
   },
   "outputs": [
    {
     "name": "stdout",
     "output_type": "stream",
     "text": [
      "<class 'pandas.core.frame.DataFrame'>\n",
      "RangeIndex: 498 entries, 0 to 497\n",
      "Data columns (total 23 columns):\n",
      " #   Column             Non-Null Count  Dtype  \n",
      "---  ------             --------------  -----  \n",
      " 0   id                 498 non-null    int64  \n",
      " 1   loc                498 non-null    float64\n",
      " 2   v(g)               498 non-null    float64\n",
      " 3   ev(g)              498 non-null    float64\n",
      " 4   iv(g)              498 non-null    float64\n",
      " 5   n                  498 non-null    float64\n",
      " 6   v                  498 non-null    float64\n",
      " 7   l                  498 non-null    float64\n",
      " 8   d                  498 non-null    float64\n",
      " 9   i                  498 non-null    float64\n",
      " 10  e                  498 non-null    float64\n",
      " 11  b                  498 non-null    float64\n",
      " 12  t                  498 non-null    float64\n",
      " 13  lOCode             498 non-null    int64  \n",
      " 14  lOComment          498 non-null    int64  \n",
      " 15  lOBlank            498 non-null    int64  \n",
      " 16  locCodeAndComment  498 non-null    int64  \n",
      " 17  uniq_Op            498 non-null    float64\n",
      " 18  uniq_Opnd          498 non-null    float64\n",
      " 19  total_Op           498 non-null    float64\n",
      " 20  total_Opnd         498 non-null    float64\n",
      " 21  branchCount        498 non-null    float64\n",
      " 22  defects            498 non-null    bool   \n",
      "dtypes: bool(1), float64(17), int64(5)\n",
      "memory usage: 86.2 KB\n"
     ]
    }
   ],
   "source": [
    "df.info()"
   ]
  },
  {
   "cell_type": "code",
   "execution_count": 7,
   "id": "3638e5e8",
   "metadata": {
    "execution": {
     "iopub.execute_input": "2021-04-04T23:10:13.245579Z",
     "iopub.status.busy": "2021-04-04T23:10:13.244710Z",
     "iopub.status.idle": "2021-04-04T23:10:13.276447Z",
     "shell.execute_reply": "2021-04-04T23:10:13.277213Z"
    },
    "papermill": {
     "duration": 0.063732,
     "end_time": "2021-04-04T23:10:13.277433",
     "exception": false,
     "start_time": "2021-04-04T23:10:13.213701",
     "status": "completed"
    },
    "tags": []
   },
   "outputs": [
    {
     "data": {
      "text/html": [
       "<div>\n",
       "<style scoped>\n",
       "    .dataframe tbody tr th:only-of-type {\n",
       "        vertical-align: middle;\n",
       "    }\n",
       "\n",
       "    .dataframe tbody tr th {\n",
       "        vertical-align: top;\n",
       "    }\n",
       "\n",
       "    .dataframe thead th {\n",
       "        text-align: right;\n",
       "    }\n",
       "</style>\n",
       "<table border=\"1\" class=\"dataframe\">\n",
       "  <thead>\n",
       "    <tr style=\"text-align: right;\">\n",
       "      <th></th>\n",
       "      <th>id</th>\n",
       "      <th>loc</th>\n",
       "      <th>v(g)</th>\n",
       "      <th>ev(g)</th>\n",
       "      <th>iv(g)</th>\n",
       "      <th>n</th>\n",
       "      <th>v</th>\n",
       "      <th>l</th>\n",
       "      <th>d</th>\n",
       "      <th>i</th>\n",
       "      <th>...</th>\n",
       "      <th>lOCode</th>\n",
       "      <th>lOComment</th>\n",
       "      <th>lOBlank</th>\n",
       "      <th>locCodeAndComment</th>\n",
       "      <th>uniq_Op</th>\n",
       "      <th>uniq_Opnd</th>\n",
       "      <th>total_Op</th>\n",
       "      <th>total_Opnd</th>\n",
       "      <th>branchCount</th>\n",
       "      <th>defects</th>\n",
       "    </tr>\n",
       "  </thead>\n",
       "  <tbody>\n",
       "    <tr>\n",
       "      <th>0</th>\n",
       "      <td>1</td>\n",
       "      <td>1.1</td>\n",
       "      <td>1.4</td>\n",
       "      <td>1.4</td>\n",
       "      <td>1.4</td>\n",
       "      <td>1.3</td>\n",
       "      <td>1.30</td>\n",
       "      <td>1.30</td>\n",
       "      <td>1.30</td>\n",
       "      <td>1.30</td>\n",
       "      <td>...</td>\n",
       "      <td>2</td>\n",
       "      <td>2</td>\n",
       "      <td>2</td>\n",
       "      <td>2</td>\n",
       "      <td>1.2</td>\n",
       "      <td>1.2</td>\n",
       "      <td>1.2</td>\n",
       "      <td>1.2</td>\n",
       "      <td>1.4</td>\n",
       "      <td>False</td>\n",
       "    </tr>\n",
       "    <tr>\n",
       "      <th>1</th>\n",
       "      <td>2</td>\n",
       "      <td>1.0</td>\n",
       "      <td>1.0</td>\n",
       "      <td>1.0</td>\n",
       "      <td>1.0</td>\n",
       "      <td>1.0</td>\n",
       "      <td>1.00</td>\n",
       "      <td>1.00</td>\n",
       "      <td>1.00</td>\n",
       "      <td>1.00</td>\n",
       "      <td>...</td>\n",
       "      <td>1</td>\n",
       "      <td>1</td>\n",
       "      <td>1</td>\n",
       "      <td>1</td>\n",
       "      <td>1.0</td>\n",
       "      <td>1.0</td>\n",
       "      <td>1.0</td>\n",
       "      <td>1.0</td>\n",
       "      <td>1.0</td>\n",
       "      <td>True</td>\n",
       "    </tr>\n",
       "    <tr>\n",
       "      <th>2</th>\n",
       "      <td>3</td>\n",
       "      <td>24.0</td>\n",
       "      <td>5.0</td>\n",
       "      <td>1.0</td>\n",
       "      <td>3.0</td>\n",
       "      <td>63.0</td>\n",
       "      <td>309.13</td>\n",
       "      <td>0.11</td>\n",
       "      <td>9.50</td>\n",
       "      <td>32.54</td>\n",
       "      <td>...</td>\n",
       "      <td>1</td>\n",
       "      <td>0</td>\n",
       "      <td>6</td>\n",
       "      <td>0</td>\n",
       "      <td>15.0</td>\n",
       "      <td>15.0</td>\n",
       "      <td>44.0</td>\n",
       "      <td>19.0</td>\n",
       "      <td>9.0</td>\n",
       "      <td>False</td>\n",
       "    </tr>\n",
       "    <tr>\n",
       "      <th>3</th>\n",
       "      <td>4</td>\n",
       "      <td>20.0</td>\n",
       "      <td>4.0</td>\n",
       "      <td>4.0</td>\n",
       "      <td>2.0</td>\n",
       "      <td>47.0</td>\n",
       "      <td>215.49</td>\n",
       "      <td>0.06</td>\n",
       "      <td>16.00</td>\n",
       "      <td>13.47</td>\n",
       "      <td>...</td>\n",
       "      <td>0</td>\n",
       "      <td>0</td>\n",
       "      <td>3</td>\n",
       "      <td>0</td>\n",
       "      <td>16.0</td>\n",
       "      <td>8.0</td>\n",
       "      <td>31.0</td>\n",
       "      <td>16.0</td>\n",
       "      <td>7.0</td>\n",
       "      <td>False</td>\n",
       "    </tr>\n",
       "    <tr>\n",
       "      <th>4</th>\n",
       "      <td>5</td>\n",
       "      <td>24.0</td>\n",
       "      <td>6.0</td>\n",
       "      <td>6.0</td>\n",
       "      <td>2.0</td>\n",
       "      <td>72.0</td>\n",
       "      <td>346.13</td>\n",
       "      <td>0.06</td>\n",
       "      <td>17.33</td>\n",
       "      <td>19.97</td>\n",
       "      <td>...</td>\n",
       "      <td>0</td>\n",
       "      <td>0</td>\n",
       "      <td>3</td>\n",
       "      <td>0</td>\n",
       "      <td>16.0</td>\n",
       "      <td>12.0</td>\n",
       "      <td>46.0</td>\n",
       "      <td>26.0</td>\n",
       "      <td>11.0</td>\n",
       "      <td>False</td>\n",
       "    </tr>\n",
       "  </tbody>\n",
       "</table>\n",
       "<p>5 rows × 23 columns</p>\n",
       "</div>"
      ],
      "text/plain": [
       "   id   loc  v(g)  ev(g)  iv(g)     n       v     l      d      i  ...  \\\n",
       "0   1   1.1   1.4    1.4    1.4   1.3    1.30  1.30   1.30   1.30  ...   \n",
       "1   2   1.0   1.0    1.0    1.0   1.0    1.00  1.00   1.00   1.00  ...   \n",
       "2   3  24.0   5.0    1.0    3.0  63.0  309.13  0.11   9.50  32.54  ...   \n",
       "3   4  20.0   4.0    4.0    2.0  47.0  215.49  0.06  16.00  13.47  ...   \n",
       "4   5  24.0   6.0    6.0    2.0  72.0  346.13  0.06  17.33  19.97  ...   \n",
       "\n",
       "   lOCode  lOComment  lOBlank  locCodeAndComment  uniq_Op  uniq_Opnd  \\\n",
       "0       2          2        2                  2      1.2        1.2   \n",
       "1       1          1        1                  1      1.0        1.0   \n",
       "2       1          0        6                  0     15.0       15.0   \n",
       "3       0          0        3                  0     16.0        8.0   \n",
       "4       0          0        3                  0     16.0       12.0   \n",
       "\n",
       "   total_Op  total_Opnd  branchCount  defects  \n",
       "0       1.2         1.2          1.4    False  \n",
       "1       1.0         1.0          1.0     True  \n",
       "2      44.0        19.0          9.0    False  \n",
       "3      31.0        16.0          7.0    False  \n",
       "4      46.0        26.0         11.0    False  \n",
       "\n",
       "[5 rows x 23 columns]"
      ]
     },
     "execution_count": 7,
     "metadata": {},
     "output_type": "execute_result"
    }
   ],
   "source": [
    "df.head()"
   ]
  },
  {
   "cell_type": "code",
   "execution_count": 8,
   "id": "733e95eb",
   "metadata": {
    "execution": {
     "iopub.execute_input": "2021-04-04T23:10:13.330830Z",
     "iopub.status.busy": "2021-04-04T23:10:13.330115Z",
     "iopub.status.idle": "2021-04-04T23:10:13.331977Z",
     "shell.execute_reply": "2021-04-04T23:10:13.332424Z"
    },
    "papermill": {
     "duration": 0.03013,
     "end_time": "2021-04-04T23:10:13.332569",
     "exception": false,
     "start_time": "2021-04-04T23:10:13.302439",
     "status": "completed"
    },
    "tags": []
   },
   "outputs": [],
   "source": [
    "del df['id']"
   ]
  },
  {
   "cell_type": "code",
   "execution_count": 9,
   "id": "6ff6f5b0",
   "metadata": {
    "execution": {
     "iopub.execute_input": "2021-04-04T23:10:13.386014Z",
     "iopub.status.busy": "2021-04-04T23:10:13.385309Z",
     "iopub.status.idle": "2021-04-04T23:10:13.387423Z",
     "shell.execute_reply": "2021-04-04T23:10:13.388057Z"
    },
    "papermill": {
     "duration": 0.0295,
     "end_time": "2021-04-04T23:10:13.388249",
     "exception": false,
     "start_time": "2021-04-04T23:10:13.358749",
     "status": "completed"
    },
    "tags": []
   },
   "outputs": [],
   "source": [
    "if PROFILE_REPORTING:\n",
    "    ProfileReport(df).to_widgets()"
   ]
  },
  {
   "cell_type": "markdown",
   "id": "1deaf3f0",
   "metadata": {
    "papermill": {
     "duration": 0.0216,
     "end_time": "2021-04-04T23:10:13.434420",
     "exception": false,
     "start_time": "2021-04-04T23:10:13.412820",
     "status": "completed"
    },
    "tags": []
   },
   "source": [
    "# Preprocess"
   ]
  },
  {
   "cell_type": "code",
   "execution_count": 10,
   "id": "1513e563",
   "metadata": {
    "execution": {
     "iopub.execute_input": "2021-04-04T23:10:13.482640Z",
     "iopub.status.busy": "2021-04-04T23:10:13.481900Z",
     "iopub.status.idle": "2021-04-04T23:10:13.483842Z",
     "shell.execute_reply": "2021-04-04T23:10:13.484320Z"
    },
    "papermill": {
     "duration": 0.028898,
     "end_time": "2021-04-04T23:10:13.484466",
     "exception": false,
     "start_time": "2021-04-04T23:10:13.455568",
     "status": "completed"
    },
    "tags": []
   },
   "outputs": [],
   "source": [
    "working_df = df.copy()"
   ]
  },
  {
   "cell_type": "code",
   "execution_count": 11,
   "id": "3b26d675",
   "metadata": {
    "execution": {
     "iopub.execute_input": "2021-04-04T23:10:13.537430Z",
     "iopub.status.busy": "2021-04-04T23:10:13.536195Z",
     "iopub.status.idle": "2021-04-04T23:10:13.540457Z",
     "shell.execute_reply": "2021-04-04T23:10:13.539547Z"
    },
    "papermill": {
     "duration": 0.032659,
     "end_time": "2021-04-04T23:10:13.540657",
     "exception": false,
     "start_time": "2021-04-04T23:10:13.507998",
     "status": "completed"
    },
    "tags": []
   },
   "outputs": [],
   "source": [
    "working_df['defects'] = working_df['defects'].replace([False, True], [0, 1])"
   ]
  },
  {
   "cell_type": "code",
   "execution_count": 12,
   "id": "eb48604f",
   "metadata": {
    "execution": {
     "iopub.execute_input": "2021-04-04T23:10:13.596662Z",
     "iopub.status.busy": "2021-04-04T23:10:13.595719Z",
     "iopub.status.idle": "2021-04-04T23:10:13.598028Z",
     "shell.execute_reply": "2021-04-04T23:10:13.598958Z"
    },
    "papermill": {
     "duration": 0.029131,
     "end_time": "2021-04-04T23:10:13.599176",
     "exception": false,
     "start_time": "2021-04-04T23:10:13.570045",
     "status": "completed"
    },
    "tags": []
   },
   "outputs": [],
   "source": [
    "for col in dataset_config['delete_columns']:\n",
    "    del working_df[col]"
   ]
  },
  {
   "cell_type": "code",
   "execution_count": 13,
   "id": "9a17bc29",
   "metadata": {
    "execution": {
     "iopub.execute_input": "2021-04-04T23:10:13.653392Z",
     "iopub.status.busy": "2021-04-04T23:10:13.652707Z",
     "iopub.status.idle": "2021-04-04T23:10:13.664321Z",
     "shell.execute_reply": "2021-04-04T23:10:13.663468Z"
    },
    "papermill": {
     "duration": 0.040688,
     "end_time": "2021-04-04T23:10:13.664485",
     "exception": false,
     "start_time": "2021-04-04T23:10:13.623797",
     "status": "completed"
    },
    "tags": []
   },
   "outputs": [],
   "source": [
    "working_df = working_df.drop_duplicates()"
   ]
  },
  {
   "cell_type": "markdown",
   "id": "a4d52ca6",
   "metadata": {
    "papermill": {
     "duration": 0.021555,
     "end_time": "2021-04-04T23:10:13.715869",
     "exception": false,
     "start_time": "2021-04-04T23:10:13.694314",
     "status": "completed"
    },
    "tags": []
   },
   "source": [
    "# Split"
   ]
  },
  {
   "cell_type": "code",
   "execution_count": 14,
   "id": "3e9ee4b5",
   "metadata": {
    "execution": {
     "iopub.execute_input": "2021-04-04T23:10:13.772074Z",
     "iopub.status.busy": "2021-04-04T23:10:13.771203Z",
     "iopub.status.idle": "2021-04-04T23:10:13.806092Z",
     "shell.execute_reply": "2021-04-04T23:10:13.805412Z"
    },
    "papermill": {
     "duration": 0.068829,
     "end_time": "2021-04-04T23:10:13.806224",
     "exception": false,
     "start_time": "2021-04-04T23:10:13.737395",
     "status": "completed"
    },
    "tags": []
   },
   "outputs": [],
   "source": [
    "from sklearn.model_selection import train_test_split"
   ]
  },
  {
   "cell_type": "code",
   "execution_count": 15,
   "id": "274004ce",
   "metadata": {
    "execution": {
     "iopub.execute_input": "2021-04-04T23:10:13.864067Z",
     "iopub.status.busy": "2021-04-04T23:10:13.863416Z",
     "iopub.status.idle": "2021-04-04T23:10:13.869901Z",
     "shell.execute_reply": "2021-04-04T23:10:13.868850Z"
    },
    "papermill": {
     "duration": 0.033613,
     "end_time": "2021-04-04T23:10:13.870103",
     "exception": false,
     "start_time": "2021-04-04T23:10:13.836490",
     "status": "completed"
    },
    "scrolled": true,
    "tags": []
   },
   "outputs": [],
   "source": [
    "inlier, outlier = working_df[working_df['defects'] == 0], working_df[working_df['defects'] == 1]"
   ]
  },
  {
   "cell_type": "code",
   "execution_count": 16,
   "id": "753c7b03",
   "metadata": {
    "execution": {
     "iopub.execute_input": "2021-04-04T23:10:13.922399Z",
     "iopub.status.busy": "2021-04-04T23:10:13.921763Z",
     "iopub.status.idle": "2021-04-04T23:10:13.926474Z",
     "shell.execute_reply": "2021-04-04T23:10:13.926973Z"
    },
    "papermill": {
     "duration": 0.031562,
     "end_time": "2021-04-04T23:10:13.927120",
     "exception": false,
     "start_time": "2021-04-04T23:10:13.895558",
     "status": "completed"
    },
    "tags": []
   },
   "outputs": [],
   "source": [
    "X_inlier = inlier.copy()\n",
    "y_inlier = X_inlier.pop('defects')\n",
    "X_outlier = outlier.copy()\n",
    "y_outlier = X_outlier.pop('defects')"
   ]
  },
  {
   "cell_type": "code",
   "execution_count": 17,
   "id": "2ba43193",
   "metadata": {
    "execution": {
     "iopub.execute_input": "2021-04-04T23:10:13.982394Z",
     "iopub.status.busy": "2021-04-04T23:10:13.981232Z",
     "iopub.status.idle": "2021-04-04T23:10:13.984636Z",
     "shell.execute_reply": "2021-04-04T23:10:13.983707Z"
    },
    "papermill": {
     "duration": 0.034052,
     "end_time": "2021-04-04T23:10:13.984838",
     "exception": false,
     "start_time": "2021-04-04T23:10:13.950786",
     "status": "completed"
    },
    "tags": []
   },
   "outputs": [],
   "source": [
    "test_size = dataset_config['test_size']\n",
    "random_state = dataset_config['random_state']\n",
    "\n",
    "X_inlier_train, X_inlier_test, y_inlier_train, y_inlier_test = train_test_split(\n",
    "    X_inlier,\n",
    "    y_inlier,\n",
    "    test_size=test_size,\n",
    "    random_state=random_state\n",
    ")"
   ]
  },
  {
   "cell_type": "code",
   "execution_count": 18,
   "id": "0b7582ca",
   "metadata": {
    "execution": {
     "iopub.execute_input": "2021-04-04T23:10:14.039844Z",
     "iopub.status.busy": "2021-04-04T23:10:14.038547Z",
     "iopub.status.idle": "2021-04-04T23:10:14.042221Z",
     "shell.execute_reply": "2021-04-04T23:10:14.041382Z"
    },
    "papermill": {
     "duration": 0.034583,
     "end_time": "2021-04-04T23:10:14.042391",
     "exception": false,
     "start_time": "2021-04-04T23:10:14.007808",
     "status": "completed"
    },
    "tags": []
   },
   "outputs": [],
   "source": [
    "test_outlier_size = dataset_config['test_outlier_size']\n",
    "if test_outlier_size > 0.0:\n",
    "    X_outlier_train, X_outlier_test, y_outlier_train, y_outlier_test = train_test_split(\n",
    "        X_outlier,\n",
    "        y_outlier,\n",
    "        test_size=test_outlier_size,\n",
    "        random_state=random_state\n",
    "    )\n",
    "else:\n",
    "    X_outlier_train, y_outlier_train = pd.DataFrame(columns=X_outlier.columns), pd.Series(dtype='int64')\n",
    "    X_outlier_test, y_outlier_test = X_outlier.copy(), y_outlier.copy()"
   ]
  },
  {
   "cell_type": "code",
   "execution_count": 19,
   "id": "c34363db",
   "metadata": {
    "execution": {
     "iopub.execute_input": "2021-04-04T23:10:14.098282Z",
     "iopub.status.busy": "2021-04-04T23:10:14.096906Z",
     "iopub.status.idle": "2021-04-04T23:10:14.101681Z",
     "shell.execute_reply": "2021-04-04T23:10:14.100795Z"
    },
    "papermill": {
     "duration": 0.03546,
     "end_time": "2021-04-04T23:10:14.101851",
     "exception": false,
     "start_time": "2021-04-04T23:10:14.066391",
     "status": "completed"
    },
    "tags": []
   },
   "outputs": [],
   "source": [
    "X_train, y_train = pd.concat([X_inlier_train, X_outlier_train], ignore_index=True), pd.concat([y_inlier_train, y_outlier_train], ignore_index=True)\n",
    "X_test, y_test = pd.concat([X_inlier_test, X_outlier_test], ignore_index=True), pd.concat([y_inlier_test, y_outlier_test], ignore_index=True)"
   ]
  },
  {
   "cell_type": "markdown",
   "id": "7cde7309",
   "metadata": {
    "papermill": {
     "duration": 0.022068,
     "end_time": "2021-04-04T23:10:14.153326",
     "exception": false,
     "start_time": "2021-04-04T23:10:14.131258",
     "status": "completed"
    },
    "tags": []
   },
   "source": [
    "# Model"
   ]
  },
  {
   "cell_type": "code",
   "execution_count": 20,
   "id": "2b12a415",
   "metadata": {
    "execution": {
     "iopub.execute_input": "2021-04-04T23:10:14.213059Z",
     "iopub.status.busy": "2021-04-04T23:10:14.212318Z",
     "iopub.status.idle": "2021-04-04T23:10:14.214636Z",
     "shell.execute_reply": "2021-04-04T23:10:14.215299Z"
    },
    "papermill": {
     "duration": 0.038646,
     "end_time": "2021-04-04T23:10:14.215489",
     "exception": false,
     "start_time": "2021-04-04T23:10:14.176843",
     "status": "completed"
    },
    "tags": []
   },
   "outputs": [],
   "source": [
    "from math import sqrt\n",
    "\n",
    "\n",
    "class KNNDataDescription:\n",
    "    def __init__(self, k=5, outlier_threshold=1.0):\n",
    "        self.k = k\n",
    "        self.outlier_threshold = outlier_threshold\n",
    "        self.X = []\n",
    "    \n",
    "    def fit(self, X):\n",
    "        self.X = [features.to_list() for index, features in X.iterrows()]\n",
    "\n",
    "    def predict(self, entries):\n",
    "        return [self.predict_entry(features.to_list()) for index, features in entries.iterrows()]\n",
    "    \n",
    "    def predict_entry(self, entry):\n",
    "        kth_neighbor, kth_distance = self.get_kth_neighbor(entry, self.k)\n",
    "        kth_kth_neighbor, kth_kth_distance = self.get_kth_neighbor(kth_neighbor, self.k + 1)\n",
    "\n",
    "        outlier_score = kth_distance / (kth_kth_distance + 0.000001)\n",
    "\n",
    "        return 1 if outlier_score < self.outlier_threshold else -1\n",
    "        \n",
    "    def euclidean_distance(self, features1, features2):\n",
    "        distance = 0.0\n",
    "        for feat1, feat2 in zip(features1, features2):\n",
    "            distance += (feat1 - feat2)**2\n",
    "                \n",
    "        return sqrt(distance)\n",
    "\n",
    "    def get_neighbors(self, entry, k):\n",
    "        distance_to_data_points = [\n",
    "            (data_point, self.euclidean_distance(entry, data_point))\n",
    "            for data_point in self.X\n",
    "        ]\n",
    "        sorted_by_distance = sorted(distance_to_data_points, key=lambda tup: tup[1])\n",
    "        neighbors = sorted_by_distance[:k]\n",
    "        return neighbors\n",
    "\n",
    "    def get_kth_neighbor(self, entry, k):\n",
    "        neighbors = self.get_neighbors(entry, k)\n",
    "        return neighbors[-1]\n"
   ]
  },
  {
   "cell_type": "code",
   "execution_count": 21,
   "id": "1fa9ec1c",
   "metadata": {
    "execution": {
     "iopub.execute_input": "2021-04-04T23:10:14.273235Z",
     "iopub.status.busy": "2021-04-04T23:10:14.272351Z",
     "iopub.status.idle": "2021-04-04T23:10:14.299696Z",
     "shell.execute_reply": "2021-04-04T23:10:14.298779Z"
    },
    "papermill": {
     "duration": 0.054614,
     "end_time": "2021-04-04T23:10:14.299899",
     "exception": false,
     "start_time": "2021-04-04T23:10:14.245285",
     "status": "completed"
    },
    "tags": []
   },
   "outputs": [],
   "source": [
    "from sklearn.svm import OneClassSVM\n",
    "\n",
    "\n",
    "models = {\n",
    "    'oneclasssvm': OneClassSVM,\n",
    "    'knndatadescription': KNNDataDescription,\n",
    "}"
   ]
  },
  {
   "cell_type": "code",
   "execution_count": 22,
   "id": "4d72a0b1",
   "metadata": {
    "execution": {
     "iopub.execute_input": "2021-04-04T23:10:14.365546Z",
     "iopub.status.busy": "2021-04-04T23:10:14.364632Z",
     "iopub.status.idle": "2021-04-04T23:10:14.366786Z",
     "shell.execute_reply": "2021-04-04T23:10:14.367539Z"
    },
    "papermill": {
     "duration": 0.033594,
     "end_time": "2021-04-04T23:10:14.367726",
     "exception": false,
     "start_time": "2021-04-04T23:10:14.334132",
     "status": "completed"
    },
    "scrolled": true,
    "tags": []
   },
   "outputs": [],
   "source": [
    "model_cls = models[model_config['model_type']]\n",
    "model = model_cls(**model_config['hyperparameters'])"
   ]
  },
  {
   "cell_type": "markdown",
   "id": "e00cff3b",
   "metadata": {
    "papermill": {
     "duration": 0.023456,
     "end_time": "2021-04-04T23:10:14.416606",
     "exception": false,
     "start_time": "2021-04-04T23:10:14.393150",
     "status": "completed"
    },
    "tags": []
   },
   "source": [
    "# Fit"
   ]
  },
  {
   "cell_type": "code",
   "execution_count": 23,
   "id": "8b2ded89",
   "metadata": {
    "execution": {
     "iopub.execute_input": "2021-04-04T23:10:14.487191Z",
     "iopub.status.busy": "2021-04-04T23:10:14.472897Z",
     "iopub.status.idle": "2021-04-04T23:10:14.490456Z",
     "shell.execute_reply": "2021-04-04T23:10:14.489523Z"
    },
    "papermill": {
     "duration": 0.050701,
     "end_time": "2021-04-04T23:10:14.490634",
     "exception": false,
     "start_time": "2021-04-04T23:10:14.439933",
     "status": "completed"
    },
    "tags": []
   },
   "outputs": [],
   "source": [
    "model.fit(X_train)"
   ]
  },
  {
   "cell_type": "markdown",
   "id": "f99999f7",
   "metadata": {
    "papermill": {
     "duration": 0.022871,
     "end_time": "2021-04-04T23:10:14.538991",
     "exception": false,
     "start_time": "2021-04-04T23:10:14.516120",
     "status": "completed"
    },
    "tags": []
   },
   "source": [
    "# Predict"
   ]
  },
  {
   "cell_type": "code",
   "execution_count": 24,
   "id": "6536fbf7",
   "metadata": {
    "execution": {
     "iopub.execute_input": "2021-04-04T23:10:14.599245Z",
     "iopub.status.busy": "2021-04-04T23:10:14.593977Z",
     "iopub.status.idle": "2021-04-04T23:10:14.935621Z",
     "shell.execute_reply": "2021-04-04T23:10:14.934723Z"
    },
    "papermill": {
     "duration": 0.374008,
     "end_time": "2021-04-04T23:10:14.935792",
     "exception": false,
     "start_time": "2021-04-04T23:10:14.561784",
     "status": "completed"
    },
    "tags": []
   },
   "outputs": [],
   "source": [
    "predictions = model.predict(X_test)"
   ]
  },
  {
   "cell_type": "markdown",
   "id": "aa1c9881",
   "metadata": {
    "papermill": {
     "duration": 0.02272,
     "end_time": "2021-04-04T23:10:14.985785",
     "exception": false,
     "start_time": "2021-04-04T23:10:14.963065",
     "status": "completed"
    },
    "tags": []
   },
   "source": [
    "# Evaluate"
   ]
  },
  {
   "cell_type": "code",
   "execution_count": 25,
   "id": "894f0f04",
   "metadata": {
    "execution": {
     "iopub.execute_input": "2021-04-04T23:10:15.036534Z",
     "iopub.status.busy": "2021-04-04T23:10:15.035813Z",
     "iopub.status.idle": "2021-04-04T23:10:15.038259Z",
     "shell.execute_reply": "2021-04-04T23:10:15.038999Z"
    },
    "papermill": {
     "duration": 0.030442,
     "end_time": "2021-04-04T23:10:15.039201",
     "exception": false,
     "start_time": "2021-04-04T23:10:15.008759",
     "status": "completed"
    },
    "tags": []
   },
   "outputs": [],
   "source": [
    "from sklearn.metrics import f1_score"
   ]
  },
  {
   "cell_type": "code",
   "execution_count": 26,
   "id": "211744d3",
   "metadata": {
    "execution": {
     "iopub.execute_input": "2021-04-04T23:10:15.106208Z",
     "iopub.status.busy": "2021-04-04T23:10:15.105366Z",
     "iopub.status.idle": "2021-04-04T23:10:15.108949Z",
     "shell.execute_reply": "2021-04-04T23:10:15.109540Z"
    },
    "papermill": {
     "duration": 0.040348,
     "end_time": "2021-04-04T23:10:15.109714",
     "exception": false,
     "start_time": "2021-04-04T23:10:15.069366",
     "status": "completed"
    },
    "tags": []
   },
   "outputs": [],
   "source": [
    "y_test = y_test.replace([0, 1], [1, -1])"
   ]
  },
  {
   "cell_type": "code",
   "execution_count": 27,
   "id": "d68a9204",
   "metadata": {
    "execution": {
     "iopub.execute_input": "2021-04-04T23:10:15.170018Z",
     "iopub.status.busy": "2021-04-04T23:10:15.168940Z",
     "iopub.status.idle": "2021-04-04T23:10:15.172224Z",
     "shell.execute_reply": "2021-04-04T23:10:15.171329Z"
    },
    "papermill": {
     "duration": 0.035589,
     "end_time": "2021-04-04T23:10:15.172387",
     "exception": false,
     "start_time": "2021-04-04T23:10:15.136798",
     "status": "completed"
    },
    "tags": []
   },
   "outputs": [],
   "source": [
    "def evaluate(truths, predictions, pos_label, neg_label):\n",
    "    TP = 0\n",
    "    FP = 0\n",
    "    TN = 0\n",
    "    FN = 0\n",
    "\n",
    "    for truth, pred in zip(truths, predictions): \n",
    "        if truth == pred == pos_label:\n",
    "           TP += 1\n",
    "        elif pred == pos_label and truth == neg_label:\n",
    "           FP += 1\n",
    "        elif truth == pred == neg_label:\n",
    "           TN += 1\n",
    "        elif pred == neg_label and truth == pos_label:\n",
    "           FN += 1\n",
    "\n",
    "    precision = TP / (TP + FP)\n",
    "    sensitivity = TP / (TP + FN)\n",
    "    \n",
    "    return {\n",
    "        'true_pos': TP,\n",
    "        'false_pos': FP,\n",
    "        'false_neg': FN,\n",
    "        'true_neg': TN,\n",
    "        'precision': precision,\n",
    "        'sensitivity': sensitivity,\n",
    "        'f1': (2 * (precision * sensitivity)) / (precision + sensitivity)\n",
    "    }\n",
    "\n",
    "score = evaluate(y_test, predictions, pos_label=-1, neg_label=1)"
   ]
  },
  {
   "cell_type": "markdown",
   "id": "93596516",
   "metadata": {
    "papermill": {
     "duration": 0.023061,
     "end_time": "2021-04-04T23:10:15.219622",
     "exception": false,
     "start_time": "2021-04-04T23:10:15.196561",
     "status": "completed"
    },
    "tags": []
   },
   "source": [
    "# Report"
   ]
  },
  {
   "cell_type": "code",
   "execution_count": 28,
   "id": "bea5fba1",
   "metadata": {
    "execution": {
     "iopub.execute_input": "2021-04-04T23:10:15.273664Z",
     "iopub.status.busy": "2021-04-04T23:10:15.272861Z",
     "iopub.status.idle": "2021-04-04T23:10:15.275588Z",
     "shell.execute_reply": "2021-04-04T23:10:15.276286Z"
    },
    "papermill": {
     "duration": 0.03349,
     "end_time": "2021-04-04T23:10:15.276487",
     "exception": false,
     "start_time": "2021-04-04T23:10:15.242997",
     "status": "completed"
    },
    "tags": []
   },
   "outputs": [],
   "source": [
    "import csv\n",
    "\n",
    "\n",
    "dataset_config_name = DATASET_CONFIG_PATH.split('/')[-1].split('.')[0]\n",
    "model_config_name = MODEL_CONFIG_PATH.split('/')[-1].split('.')[0]\n",
    "configuration = f\"dataset_{dataset_config_name}-model_{model_config_name}\"\n",
    "\n",
    "with open('results.csv', 'a') as f:\n",
    "    report = dict({'configuration': configuration}, **score)\n",
    "    writer = csv.DictWriter(f, report.keys())\n",
    "    writer.writerow(report)"
   ]
  }
 ],
 "metadata": {
  "celltoolbar": "Tags",
  "kernelspec": {
   "display_name": "Python 3",
   "language": "python",
   "name": "python3"
  },
  "language_info": {
   "codemirror_mode": {
    "name": "ipython",
    "version": 3
   },
   "file_extension": ".py",
   "mimetype": "text/x-python",
   "name": "python",
   "nbconvert_exporter": "python",
   "pygments_lexer": "ipython3",
   "version": "3.9.1"
  },
  "papermill": {
   "default_parameters": {},
   "duration": 6.050384,
   "end_time": "2021-04-04T23:10:16.679006",
   "environment_variables": {},
   "exception": null,
   "input_path": "main.ipynb",
   "output_path": "runs/dataset_000093-model_000003.ipynb",
   "parameters": {
    "DATASET_CONFIG_PATH": "config/dataset/000093.json",
    "MODEL_CONFIG_PATH": "config/model/000003.json",
    "PROFILE_REPORTING": false
   },
   "start_time": "2021-04-04T23:10:10.628622",
   "version": "2.3.3"
  }
 },
 "nbformat": 4,
 "nbformat_minor": 5
}