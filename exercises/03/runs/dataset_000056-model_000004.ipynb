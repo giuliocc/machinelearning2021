{
 "cells": [
  {
   "cell_type": "markdown",
   "id": "51c71c25",
   "metadata": {
    "papermill": {
     "duration": 0.031232,
     "end_time": "2021-04-04T22:53:08.757635",
     "exception": false,
     "start_time": "2021-04-04T22:53:08.726403",
     "status": "completed"
    },
    "tags": []
   },
   "source": [
    "# Parametrizing"
   ]
  },
  {
   "cell_type": "code",
   "execution_count": 1,
   "id": "3b136394",
   "metadata": {
    "execution": {
     "iopub.execute_input": "2021-04-04T22:53:08.821416Z",
     "iopub.status.busy": "2021-04-04T22:53:08.820392Z",
     "iopub.status.idle": "2021-04-04T22:53:08.823616Z",
     "shell.execute_reply": "2021-04-04T22:53:08.822910Z"
    },
    "papermill": {
     "duration": 0.044934,
     "end_time": "2021-04-04T22:53:08.823859",
     "exception": false,
     "start_time": "2021-04-04T22:53:08.778925",
     "status": "completed"
    },
    "tags": [
     "parameters"
    ]
   },
   "outputs": [],
   "source": [
    "DATASET_CONFIG_PATH = 'config/dataset/kc1_001.json'\n",
    "MODEL_CONFIG_PATH = 'config/model/knndd_001.json'\n",
    "PROFILE_REPORTING = False"
   ]
  },
  {
   "cell_type": "code",
   "execution_count": 2,
   "id": "0012ae20",
   "metadata": {
    "execution": {
     "iopub.execute_input": "2021-04-04T22:53:08.874759Z",
     "iopub.status.busy": "2021-04-04T22:53:08.873918Z",
     "iopub.status.idle": "2021-04-04T22:53:08.876007Z",
     "shell.execute_reply": "2021-04-04T22:53:08.876483Z"
    },
    "papermill": {
     "duration": 0.030843,
     "end_time": "2021-04-04T22:53:08.876631",
     "exception": false,
     "start_time": "2021-04-04T22:53:08.845788",
     "status": "completed"
    },
    "tags": [
     "injected-parameters"
    ]
   },
   "outputs": [],
   "source": [
    "# Parameters\n",
    "DATASET_CONFIG_PATH = \"config/dataset/000056.json\"\n",
    "MODEL_CONFIG_PATH = \"config/model/000004.json\"\n",
    "PROFILE_REPORTING = False\n"
   ]
  },
  {
   "cell_type": "code",
   "execution_count": 3,
   "id": "b80f2a10",
   "metadata": {
    "execution": {
     "iopub.execute_input": "2021-04-04T22:53:08.929266Z",
     "iopub.status.busy": "2021-04-04T22:53:08.928665Z",
     "iopub.status.idle": "2021-04-04T22:53:08.930764Z",
     "shell.execute_reply": "2021-04-04T22:53:08.931246Z"
    },
    "papermill": {
     "duration": 0.033035,
     "end_time": "2021-04-04T22:53:08.931394",
     "exception": false,
     "start_time": "2021-04-04T22:53:08.898359",
     "status": "completed"
    },
    "tags": []
   },
   "outputs": [],
   "source": [
    "import json\n",
    "\n",
    "\n",
    "with open(DATASET_CONFIG_PATH) as f:\n",
    "    dataset_config = json.load(f)\n",
    "\n",
    "with open(MODEL_CONFIG_PATH) as f:\n",
    "    model_config = json.load(f)"
   ]
  },
  {
   "cell_type": "markdown",
   "id": "9a4b0e2d",
   "metadata": {
    "papermill": {
     "duration": 0.022911,
     "end_time": "2021-04-04T22:53:08.975824",
     "exception": false,
     "start_time": "2021-04-04T22:53:08.952913",
     "status": "completed"
    },
    "tags": []
   },
   "source": [
    "# Profiling"
   ]
  },
  {
   "cell_type": "code",
   "execution_count": 4,
   "id": "a3e0289b",
   "metadata": {
    "execution": {
     "iopub.execute_input": "2021-04-04T22:53:09.028160Z",
     "iopub.status.busy": "2021-04-04T22:53:09.027540Z",
     "iopub.status.idle": "2021-04-04T22:53:10.427376Z",
     "shell.execute_reply": "2021-04-04T22:53:10.427865Z"
    },
    "papermill": {
     "duration": 1.429574,
     "end_time": "2021-04-04T22:53:10.428013",
     "exception": false,
     "start_time": "2021-04-04T22:53:08.998439",
     "status": "completed"
    },
    "tags": []
   },
   "outputs": [],
   "source": [
    "import pandas as pd\n",
    "from pandas_profiling import ProfileReport"
   ]
  },
  {
   "cell_type": "code",
   "execution_count": 5,
   "id": "ee6c0666",
   "metadata": {
    "execution": {
     "iopub.execute_input": "2021-04-04T22:53:10.473918Z",
     "iopub.status.busy": "2021-04-04T22:53:10.473143Z",
     "iopub.status.idle": "2021-04-04T22:53:10.484954Z",
     "shell.execute_reply": "2021-04-04T22:53:10.484391Z"
    },
    "papermill": {
     "duration": 0.036795,
     "end_time": "2021-04-04T22:53:10.485079",
     "exception": false,
     "start_time": "2021-04-04T22:53:10.448284",
     "status": "completed"
    },
    "tags": []
   },
   "outputs": [],
   "source": [
    "df = pd.read_csv(dataset_config['dataset_path'])"
   ]
  },
  {
   "cell_type": "code",
   "execution_count": 6,
   "id": "7eca6c4a",
   "metadata": {
    "execution": {
     "iopub.execute_input": "2021-04-04T22:53:10.534891Z",
     "iopub.status.busy": "2021-04-04T22:53:10.534111Z",
     "iopub.status.idle": "2021-04-04T22:53:10.549420Z",
     "shell.execute_reply": "2021-04-04T22:53:10.548906Z"
    },
    "papermill": {
     "duration": 0.042966,
     "end_time": "2021-04-04T22:53:10.549538",
     "exception": false,
     "start_time": "2021-04-04T22:53:10.506572",
     "status": "completed"
    },
    "tags": []
   },
   "outputs": [
    {
     "name": "stdout",
     "output_type": "stream",
     "text": [
      "<class 'pandas.core.frame.DataFrame'>\n",
      "RangeIndex: 2109 entries, 0 to 2108\n",
      "Data columns (total 23 columns):\n",
      " #   Column             Non-Null Count  Dtype  \n",
      "---  ------             --------------  -----  \n",
      " 0   id                 2109 non-null   int64  \n",
      " 1   loc                2109 non-null   float64\n",
      " 2   v(g)               2109 non-null   float64\n",
      " 3   ev(g)              2109 non-null   float64\n",
      " 4   iv(g)              2109 non-null   float64\n",
      " 5   n                  2109 non-null   float64\n",
      " 6   v                  2109 non-null   float64\n",
      " 7   l                  2109 non-null   float64\n",
      " 8   d                  2109 non-null   float64\n",
      " 9   i                  2109 non-null   float64\n",
      " 10  e                  2109 non-null   float64\n",
      " 11  b                  2109 non-null   float64\n",
      " 12  t                  2109 non-null   float64\n",
      " 13  lOCode             2109 non-null   int64  \n",
      " 14  lOComment          2109 non-null   int64  \n",
      " 15  lOBlank            2109 non-null   int64  \n",
      " 16  locCodeAndComment  2109 non-null   int64  \n",
      " 17  uniq_Op            2109 non-null   float64\n",
      " 18  uniq_Opnd          2109 non-null   float64\n",
      " 19  total_Op           2109 non-null   float64\n",
      " 20  total_Opnd         2109 non-null   float64\n",
      " 21  branchCount        2109 non-null   float64\n",
      " 22  defects            2109 non-null   bool   \n",
      "dtypes: bool(1), float64(17), int64(5)\n",
      "memory usage: 364.7 KB\n"
     ]
    }
   ],
   "source": [
    "df.info()"
   ]
  },
  {
   "cell_type": "code",
   "execution_count": 7,
   "id": "3638e5e8",
   "metadata": {
    "execution": {
     "iopub.execute_input": "2021-04-04T22:53:10.600059Z",
     "iopub.status.busy": "2021-04-04T22:53:10.599447Z",
     "iopub.status.idle": "2021-04-04T22:53:10.623062Z",
     "shell.execute_reply": "2021-04-04T22:53:10.623791Z"
    },
    "papermill": {
     "duration": 0.054006,
     "end_time": "2021-04-04T22:53:10.623986",
     "exception": false,
     "start_time": "2021-04-04T22:53:10.569980",
     "status": "completed"
    },
    "tags": []
   },
   "outputs": [
    {
     "data": {
      "text/html": [
       "<div>\n",
       "<style scoped>\n",
       "    .dataframe tbody tr th:only-of-type {\n",
       "        vertical-align: middle;\n",
       "    }\n",
       "\n",
       "    .dataframe tbody tr th {\n",
       "        vertical-align: top;\n",
       "    }\n",
       "\n",
       "    .dataframe thead th {\n",
       "        text-align: right;\n",
       "    }\n",
       "</style>\n",
       "<table border=\"1\" class=\"dataframe\">\n",
       "  <thead>\n",
       "    <tr style=\"text-align: right;\">\n",
       "      <th></th>\n",
       "      <th>id</th>\n",
       "      <th>loc</th>\n",
       "      <th>v(g)</th>\n",
       "      <th>ev(g)</th>\n",
       "      <th>iv(g)</th>\n",
       "      <th>n</th>\n",
       "      <th>v</th>\n",
       "      <th>l</th>\n",
       "      <th>d</th>\n",
       "      <th>i</th>\n",
       "      <th>...</th>\n",
       "      <th>lOCode</th>\n",
       "      <th>lOComment</th>\n",
       "      <th>lOBlank</th>\n",
       "      <th>locCodeAndComment</th>\n",
       "      <th>uniq_Op</th>\n",
       "      <th>uniq_Opnd</th>\n",
       "      <th>total_Op</th>\n",
       "      <th>total_Opnd</th>\n",
       "      <th>branchCount</th>\n",
       "      <th>defects</th>\n",
       "    </tr>\n",
       "  </thead>\n",
       "  <tbody>\n",
       "    <tr>\n",
       "      <th>0</th>\n",
       "      <td>1</td>\n",
       "      <td>1.1</td>\n",
       "      <td>1.4</td>\n",
       "      <td>1.4</td>\n",
       "      <td>1.4</td>\n",
       "      <td>1.3</td>\n",
       "      <td>1.30</td>\n",
       "      <td>1.30</td>\n",
       "      <td>1.30</td>\n",
       "      <td>1.30</td>\n",
       "      <td>...</td>\n",
       "      <td>2</td>\n",
       "      <td>2</td>\n",
       "      <td>2</td>\n",
       "      <td>2</td>\n",
       "      <td>1.2</td>\n",
       "      <td>1.2</td>\n",
       "      <td>1.2</td>\n",
       "      <td>1.2</td>\n",
       "      <td>1.4</td>\n",
       "      <td>False</td>\n",
       "    </tr>\n",
       "    <tr>\n",
       "      <th>1</th>\n",
       "      <td>2</td>\n",
       "      <td>1.0</td>\n",
       "      <td>1.0</td>\n",
       "      <td>1.0</td>\n",
       "      <td>1.0</td>\n",
       "      <td>1.0</td>\n",
       "      <td>1.00</td>\n",
       "      <td>1.00</td>\n",
       "      <td>1.00</td>\n",
       "      <td>1.00</td>\n",
       "      <td>...</td>\n",
       "      <td>1</td>\n",
       "      <td>1</td>\n",
       "      <td>1</td>\n",
       "      <td>1</td>\n",
       "      <td>1.0</td>\n",
       "      <td>1.0</td>\n",
       "      <td>1.0</td>\n",
       "      <td>1.0</td>\n",
       "      <td>1.0</td>\n",
       "      <td>True</td>\n",
       "    </tr>\n",
       "    <tr>\n",
       "      <th>2</th>\n",
       "      <td>3</td>\n",
       "      <td>83.0</td>\n",
       "      <td>11.0</td>\n",
       "      <td>1.0</td>\n",
       "      <td>11.0</td>\n",
       "      <td>171.0</td>\n",
       "      <td>927.89</td>\n",
       "      <td>0.04</td>\n",
       "      <td>23.04</td>\n",
       "      <td>40.27</td>\n",
       "      <td>...</td>\n",
       "      <td>65</td>\n",
       "      <td>10</td>\n",
       "      <td>6</td>\n",
       "      <td>0</td>\n",
       "      <td>18.0</td>\n",
       "      <td>25.0</td>\n",
       "      <td>107.0</td>\n",
       "      <td>64.0</td>\n",
       "      <td>21.0</td>\n",
       "      <td>True</td>\n",
       "    </tr>\n",
       "    <tr>\n",
       "      <th>3</th>\n",
       "      <td>4</td>\n",
       "      <td>46.0</td>\n",
       "      <td>8.0</td>\n",
       "      <td>6.0</td>\n",
       "      <td>8.0</td>\n",
       "      <td>141.0</td>\n",
       "      <td>769.78</td>\n",
       "      <td>0.07</td>\n",
       "      <td>14.86</td>\n",
       "      <td>51.81</td>\n",
       "      <td>...</td>\n",
       "      <td>37</td>\n",
       "      <td>2</td>\n",
       "      <td>5</td>\n",
       "      <td>0</td>\n",
       "      <td>16.0</td>\n",
       "      <td>28.0</td>\n",
       "      <td>89.0</td>\n",
       "      <td>52.0</td>\n",
       "      <td>15.0</td>\n",
       "      <td>True</td>\n",
       "    </tr>\n",
       "    <tr>\n",
       "      <th>4</th>\n",
       "      <td>5</td>\n",
       "      <td>25.0</td>\n",
       "      <td>3.0</td>\n",
       "      <td>1.0</td>\n",
       "      <td>3.0</td>\n",
       "      <td>58.0</td>\n",
       "      <td>254.75</td>\n",
       "      <td>0.11</td>\n",
       "      <td>9.35</td>\n",
       "      <td>27.25</td>\n",
       "      <td>...</td>\n",
       "      <td>21</td>\n",
       "      <td>0</td>\n",
       "      <td>2</td>\n",
       "      <td>0</td>\n",
       "      <td>11.0</td>\n",
       "      <td>10.0</td>\n",
       "      <td>41.0</td>\n",
       "      <td>17.0</td>\n",
       "      <td>5.0</td>\n",
       "      <td>True</td>\n",
       "    </tr>\n",
       "  </tbody>\n",
       "</table>\n",
       "<p>5 rows × 23 columns</p>\n",
       "</div>"
      ],
      "text/plain": [
       "   id   loc  v(g)  ev(g)  iv(g)      n       v     l      d      i  ...  \\\n",
       "0   1   1.1   1.4    1.4    1.4    1.3    1.30  1.30   1.30   1.30  ...   \n",
       "1   2   1.0   1.0    1.0    1.0    1.0    1.00  1.00   1.00   1.00  ...   \n",
       "2   3  83.0  11.0    1.0   11.0  171.0  927.89  0.04  23.04  40.27  ...   \n",
       "3   4  46.0   8.0    6.0    8.0  141.0  769.78  0.07  14.86  51.81  ...   \n",
       "4   5  25.0   3.0    1.0    3.0   58.0  254.75  0.11   9.35  27.25  ...   \n",
       "\n",
       "   lOCode  lOComment  lOBlank  locCodeAndComment  uniq_Op  uniq_Opnd  \\\n",
       "0       2          2        2                  2      1.2        1.2   \n",
       "1       1          1        1                  1      1.0        1.0   \n",
       "2      65         10        6                  0     18.0       25.0   \n",
       "3      37          2        5                  0     16.0       28.0   \n",
       "4      21          0        2                  0     11.0       10.0   \n",
       "\n",
       "   total_Op  total_Opnd  branchCount  defects  \n",
       "0       1.2         1.2          1.4    False  \n",
       "1       1.0         1.0          1.0     True  \n",
       "2     107.0        64.0         21.0     True  \n",
       "3      89.0        52.0         15.0     True  \n",
       "4      41.0        17.0          5.0     True  \n",
       "\n",
       "[5 rows x 23 columns]"
      ]
     },
     "execution_count": 7,
     "metadata": {},
     "output_type": "execute_result"
    }
   ],
   "source": [
    "df.head()"
   ]
  },
  {
   "cell_type": "code",
   "execution_count": 8,
   "id": "733e95eb",
   "metadata": {
    "execution": {
     "iopub.execute_input": "2021-04-04T22:53:10.679752Z",
     "iopub.status.busy": "2021-04-04T22:53:10.678858Z",
     "iopub.status.idle": "2021-04-04T22:53:10.681115Z",
     "shell.execute_reply": "2021-04-04T22:53:10.681598Z"
    },
    "papermill": {
     "duration": 0.034496,
     "end_time": "2021-04-04T22:53:10.681744",
     "exception": false,
     "start_time": "2021-04-04T22:53:10.647248",
     "status": "completed"
    },
    "tags": []
   },
   "outputs": [],
   "source": [
    "del df['id']"
   ]
  },
  {
   "cell_type": "code",
   "execution_count": 9,
   "id": "6ff6f5b0",
   "metadata": {
    "execution": {
     "iopub.execute_input": "2021-04-04T22:53:10.731803Z",
     "iopub.status.busy": "2021-04-04T22:53:10.731148Z",
     "iopub.status.idle": "2021-04-04T22:53:10.732887Z",
     "shell.execute_reply": "2021-04-04T22:53:10.733434Z"
    },
    "papermill": {
     "duration": 0.027818,
     "end_time": "2021-04-04T22:53:10.733578",
     "exception": false,
     "start_time": "2021-04-04T22:53:10.705760",
     "status": "completed"
    },
    "tags": []
   },
   "outputs": [],
   "source": [
    "if PROFILE_REPORTING:\n",
    "    ProfileReport(df).to_widgets()"
   ]
  },
  {
   "cell_type": "markdown",
   "id": "1deaf3f0",
   "metadata": {
    "papermill": {
     "duration": 0.023452,
     "end_time": "2021-04-04T22:53:10.784217",
     "exception": false,
     "start_time": "2021-04-04T22:53:10.760765",
     "status": "completed"
    },
    "tags": []
   },
   "source": [
    "# Preprocess"
   ]
  },
  {
   "cell_type": "code",
   "execution_count": 10,
   "id": "1513e563",
   "metadata": {
    "execution": {
     "iopub.execute_input": "2021-04-04T22:53:10.834787Z",
     "iopub.status.busy": "2021-04-04T22:53:10.834152Z",
     "iopub.status.idle": "2021-04-04T22:53:10.837097Z",
     "shell.execute_reply": "2021-04-04T22:53:10.836497Z"
    },
    "papermill": {
     "duration": 0.027997,
     "end_time": "2021-04-04T22:53:10.837217",
     "exception": false,
     "start_time": "2021-04-04T22:53:10.809220",
     "status": "completed"
    },
    "tags": []
   },
   "outputs": [],
   "source": [
    "working_df = df.copy()"
   ]
  },
  {
   "cell_type": "code",
   "execution_count": 11,
   "id": "3b26d675",
   "metadata": {
    "execution": {
     "iopub.execute_input": "2021-04-04T22:53:10.896123Z",
     "iopub.status.busy": "2021-04-04T22:53:10.894624Z",
     "iopub.status.idle": "2021-04-04T22:53:10.897339Z",
     "shell.execute_reply": "2021-04-04T22:53:10.897857Z"
    },
    "papermill": {
     "duration": 0.036747,
     "end_time": "2021-04-04T22:53:10.898071",
     "exception": false,
     "start_time": "2021-04-04T22:53:10.861324",
     "status": "completed"
    },
    "tags": []
   },
   "outputs": [],
   "source": [
    "working_df['defects'] = working_df['defects'].replace([False, True], [0, 1])"
   ]
  },
  {
   "cell_type": "code",
   "execution_count": 12,
   "id": "eb48604f",
   "metadata": {
    "execution": {
     "iopub.execute_input": "2021-04-04T22:53:10.949264Z",
     "iopub.status.busy": "2021-04-04T22:53:10.948253Z",
     "iopub.status.idle": "2021-04-04T22:53:10.951860Z",
     "shell.execute_reply": "2021-04-04T22:53:10.953031Z"
    },
    "papermill": {
     "duration": 0.032715,
     "end_time": "2021-04-04T22:53:10.953390",
     "exception": false,
     "start_time": "2021-04-04T22:53:10.920675",
     "status": "completed"
    },
    "tags": []
   },
   "outputs": [],
   "source": [
    "for col in dataset_config['delete_columns']:\n",
    "    del working_df[col]"
   ]
  },
  {
   "cell_type": "code",
   "execution_count": 13,
   "id": "9a17bc29",
   "metadata": {
    "execution": {
     "iopub.execute_input": "2021-04-04T22:53:11.011086Z",
     "iopub.status.busy": "2021-04-04T22:53:11.010466Z",
     "iopub.status.idle": "2021-04-04T22:53:11.019441Z",
     "shell.execute_reply": "2021-04-04T22:53:11.018845Z"
    },
    "papermill": {
     "duration": 0.043455,
     "end_time": "2021-04-04T22:53:11.019562",
     "exception": false,
     "start_time": "2021-04-04T22:53:10.976107",
     "status": "completed"
    },
    "tags": []
   },
   "outputs": [],
   "source": [
    "working_df = working_df.drop_duplicates()"
   ]
  },
  {
   "cell_type": "markdown",
   "id": "a4d52ca6",
   "metadata": {
    "papermill": {
     "duration": 0.022493,
     "end_time": "2021-04-04T22:53:11.066870",
     "exception": false,
     "start_time": "2021-04-04T22:53:11.044377",
     "status": "completed"
    },
    "tags": []
   },
   "source": [
    "# Split"
   ]
  },
  {
   "cell_type": "code",
   "execution_count": 14,
   "id": "3e9ee4b5",
   "metadata": {
    "execution": {
     "iopub.execute_input": "2021-04-04T22:53:11.124987Z",
     "iopub.status.busy": "2021-04-04T22:53:11.124294Z",
     "iopub.status.idle": "2021-04-04T22:53:11.165109Z",
     "shell.execute_reply": "2021-04-04T22:53:11.165567Z"
    },
    "papermill": {
     "duration": 0.075341,
     "end_time": "2021-04-04T22:53:11.165720",
     "exception": false,
     "start_time": "2021-04-04T22:53:11.090379",
     "status": "completed"
    },
    "tags": []
   },
   "outputs": [],
   "source": [
    "from sklearn.model_selection import train_test_split"
   ]
  },
  {
   "cell_type": "code",
   "execution_count": 15,
   "id": "274004ce",
   "metadata": {
    "execution": {
     "iopub.execute_input": "2021-04-04T22:53:11.218570Z",
     "iopub.status.busy": "2021-04-04T22:53:11.217954Z",
     "iopub.status.idle": "2021-04-04T22:53:11.222198Z",
     "shell.execute_reply": "2021-04-04T22:53:11.222675Z"
    },
    "papermill": {
     "duration": 0.032404,
     "end_time": "2021-04-04T22:53:11.222820",
     "exception": false,
     "start_time": "2021-04-04T22:53:11.190416",
     "status": "completed"
    },
    "scrolled": true,
    "tags": []
   },
   "outputs": [],
   "source": [
    "inlier, outlier = working_df[working_df['defects'] == 0], working_df[working_df['defects'] == 1]"
   ]
  },
  {
   "cell_type": "code",
   "execution_count": 16,
   "id": "753c7b03",
   "metadata": {
    "execution": {
     "iopub.execute_input": "2021-04-04T22:53:11.278429Z",
     "iopub.status.busy": "2021-04-04T22:53:11.276916Z",
     "iopub.status.idle": "2021-04-04T22:53:11.280677Z",
     "shell.execute_reply": "2021-04-04T22:53:11.281466Z"
    },
    "papermill": {
     "duration": 0.035485,
     "end_time": "2021-04-04T22:53:11.281697",
     "exception": false,
     "start_time": "2021-04-04T22:53:11.246212",
     "status": "completed"
    },
    "tags": []
   },
   "outputs": [],
   "source": [
    "X_inlier = inlier.copy()\n",
    "y_inlier = X_inlier.pop('defects')\n",
    "X_outlier = outlier.copy()\n",
    "y_outlier = X_outlier.pop('defects')"
   ]
  },
  {
   "cell_type": "code",
   "execution_count": 17,
   "id": "2ba43193",
   "metadata": {
    "execution": {
     "iopub.execute_input": "2021-04-04T22:53:11.335986Z",
     "iopub.status.busy": "2021-04-04T22:53:11.334780Z",
     "iopub.status.idle": "2021-04-04T22:53:11.339657Z",
     "shell.execute_reply": "2021-04-04T22:53:11.339064Z"
    },
    "papermill": {
     "duration": 0.032235,
     "end_time": "2021-04-04T22:53:11.339779",
     "exception": false,
     "start_time": "2021-04-04T22:53:11.307544",
     "status": "completed"
    },
    "tags": []
   },
   "outputs": [],
   "source": [
    "test_size = dataset_config['test_size']\n",
    "random_state = dataset_config['random_state']\n",
    "\n",
    "X_inlier_train, X_inlier_test, y_inlier_train, y_inlier_test = train_test_split(\n",
    "    X_inlier,\n",
    "    y_inlier,\n",
    "    test_size=test_size,\n",
    "    random_state=random_state\n",
    ")"
   ]
  },
  {
   "cell_type": "code",
   "execution_count": 18,
   "id": "0b7582ca",
   "metadata": {
    "execution": {
     "iopub.execute_input": "2021-04-04T22:53:11.411691Z",
     "iopub.status.busy": "2021-04-04T22:53:11.410843Z",
     "iopub.status.idle": "2021-04-04T22:53:11.412992Z",
     "shell.execute_reply": "2021-04-04T22:53:11.412490Z"
    },
    "papermill": {
     "duration": 0.040326,
     "end_time": "2021-04-04T22:53:11.413112",
     "exception": false,
     "start_time": "2021-04-04T22:53:11.372786",
     "status": "completed"
    },
    "tags": []
   },
   "outputs": [],
   "source": [
    "test_outlier_size = dataset_config['test_outlier_size']\n",
    "if test_outlier_size > 0.0:\n",
    "    X_outlier_train, X_outlier_test, y_outlier_train, y_outlier_test = train_test_split(\n",
    "        X_outlier,\n",
    "        y_outlier,\n",
    "        test_size=test_outlier_size,\n",
    "        random_state=random_state\n",
    "    )\n",
    "else:\n",
    "    X_outlier_train, y_outlier_train = pd.DataFrame(columns=X_outlier.columns), pd.Series(dtype='int64')\n",
    "    X_outlier_test, y_outlier_test = X_outlier.copy(), y_outlier.copy()"
   ]
  },
  {
   "cell_type": "code",
   "execution_count": 19,
   "id": "c34363db",
   "metadata": {
    "execution": {
     "iopub.execute_input": "2021-04-04T22:53:11.469060Z",
     "iopub.status.busy": "2021-04-04T22:53:11.468446Z",
     "iopub.status.idle": "2021-04-04T22:53:11.471169Z",
     "shell.execute_reply": "2021-04-04T22:53:11.471647Z"
    },
    "papermill": {
     "duration": 0.034993,
     "end_time": "2021-04-04T22:53:11.471794",
     "exception": false,
     "start_time": "2021-04-04T22:53:11.436801",
     "status": "completed"
    },
    "tags": []
   },
   "outputs": [],
   "source": [
    "X_train, y_train = pd.concat([X_inlier_train, X_outlier_train], ignore_index=True), pd.concat([y_inlier_train, y_outlier_train], ignore_index=True)\n",
    "X_test, y_test = pd.concat([X_inlier_test, X_outlier_test], ignore_index=True), pd.concat([y_inlier_test, y_outlier_test], ignore_index=True)"
   ]
  },
  {
   "cell_type": "markdown",
   "id": "7cde7309",
   "metadata": {
    "papermill": {
     "duration": 0.033656,
     "end_time": "2021-04-04T22:53:11.530112",
     "exception": false,
     "start_time": "2021-04-04T22:53:11.496456",
     "status": "completed"
    },
    "tags": []
   },
   "source": [
    "# Model"
   ]
  },
  {
   "cell_type": "code",
   "execution_count": 20,
   "id": "2b12a415",
   "metadata": {
    "execution": {
     "iopub.execute_input": "2021-04-04T22:53:11.591673Z",
     "iopub.status.busy": "2021-04-04T22:53:11.590240Z",
     "iopub.status.idle": "2021-04-04T22:53:11.595340Z",
     "shell.execute_reply": "2021-04-04T22:53:11.594691Z"
    },
    "papermill": {
     "duration": 0.037544,
     "end_time": "2021-04-04T22:53:11.595485",
     "exception": false,
     "start_time": "2021-04-04T22:53:11.557941",
     "status": "completed"
    },
    "tags": []
   },
   "outputs": [],
   "source": [
    "from math import sqrt\n",
    "\n",
    "\n",
    "class KNNDataDescription:\n",
    "    def __init__(self, k=5, outlier_threshold=1.0):\n",
    "        self.k = k\n",
    "        self.outlier_threshold = outlier_threshold\n",
    "        self.X = []\n",
    "    \n",
    "    def fit(self, X):\n",
    "        self.X = [features.to_list() for index, features in X.iterrows()]\n",
    "\n",
    "    def predict(self, entries):\n",
    "        return [self.predict_entry(features.to_list()) for index, features in entries.iterrows()]\n",
    "    \n",
    "    def predict_entry(self, entry):\n",
    "        kth_neighbor, kth_distance = self.get_kth_neighbor(entry, self.k)\n",
    "        kth_kth_neighbor, kth_kth_distance = self.get_kth_neighbor(kth_neighbor, self.k + 1)\n",
    "\n",
    "        outlier_score = kth_distance / (kth_kth_distance + 0.000001)\n",
    "\n",
    "        return 1 if outlier_score < self.outlier_threshold else -1\n",
    "        \n",
    "    def euclidean_distance(self, features1, features2):\n",
    "        distance = 0.0\n",
    "        for feat1, feat2 in zip(features1, features2):\n",
    "            distance += (feat1 - feat2)**2\n",
    "                \n",
    "        return sqrt(distance)\n",
    "\n",
    "    def get_neighbors(self, entry, k):\n",
    "        distance_to_data_points = [\n",
    "            (data_point, self.euclidean_distance(entry, data_point))\n",
    "            for data_point in self.X\n",
    "        ]\n",
    "        sorted_by_distance = sorted(distance_to_data_points, key=lambda tup: tup[1])\n",
    "        neighbors = sorted_by_distance[:k]\n",
    "        return neighbors\n",
    "\n",
    "    def get_kth_neighbor(self, entry, k):\n",
    "        neighbors = self.get_neighbors(entry, k)\n",
    "        return neighbors[-1]\n"
   ]
  },
  {
   "cell_type": "code",
   "execution_count": 21,
   "id": "1fa9ec1c",
   "metadata": {
    "execution": {
     "iopub.execute_input": "2021-04-04T22:53:11.657663Z",
     "iopub.status.busy": "2021-04-04T22:53:11.656754Z",
     "iopub.status.idle": "2021-04-04T22:53:11.681122Z",
     "shell.execute_reply": "2021-04-04T22:53:11.680239Z"
    },
    "papermill": {
     "duration": 0.061012,
     "end_time": "2021-04-04T22:53:11.681274",
     "exception": false,
     "start_time": "2021-04-04T22:53:11.620262",
     "status": "completed"
    },
    "tags": []
   },
   "outputs": [],
   "source": [
    "from sklearn.svm import OneClassSVM\n",
    "\n",
    "\n",
    "models = {\n",
    "    'oneclasssvm': OneClassSVM,\n",
    "    'knndatadescription': KNNDataDescription,\n",
    "}"
   ]
  },
  {
   "cell_type": "code",
   "execution_count": 22,
   "id": "4d72a0b1",
   "metadata": {
    "execution": {
     "iopub.execute_input": "2021-04-04T22:53:11.753351Z",
     "iopub.status.busy": "2021-04-04T22:53:11.752728Z",
     "iopub.status.idle": "2021-04-04T22:53:11.755942Z",
     "shell.execute_reply": "2021-04-04T22:53:11.756389Z"
    },
    "papermill": {
     "duration": 0.03851,
     "end_time": "2021-04-04T22:53:11.756544",
     "exception": false,
     "start_time": "2021-04-04T22:53:11.718034",
     "status": "completed"
    },
    "scrolled": true,
    "tags": []
   },
   "outputs": [],
   "source": [
    "model_cls = models[model_config['model_type']]\n",
    "model = model_cls(**model_config['hyperparameters'])"
   ]
  },
  {
   "cell_type": "markdown",
   "id": "e00cff3b",
   "metadata": {
    "papermill": {
     "duration": 0.030008,
     "end_time": "2021-04-04T22:53:11.810963",
     "exception": false,
     "start_time": "2021-04-04T22:53:11.780955",
     "status": "completed"
    },
    "tags": []
   },
   "source": [
    "# Fit"
   ]
  },
  {
   "cell_type": "code",
   "execution_count": 23,
   "id": "8b2ded89",
   "metadata": {
    "execution": {
     "iopub.execute_input": "2021-04-04T22:53:11.873941Z",
     "iopub.status.busy": "2021-04-04T22:53:11.872900Z",
     "iopub.status.idle": "2021-04-04T22:53:11.907391Z",
     "shell.execute_reply": "2021-04-04T22:53:11.908305Z"
    },
    "papermill": {
     "duration": 0.070431,
     "end_time": "2021-04-04T22:53:11.908677",
     "exception": false,
     "start_time": "2021-04-04T22:53:11.838246",
     "status": "completed"
    },
    "tags": []
   },
   "outputs": [
    {
     "data": {
      "text/plain": [
       "OneClassSVM()"
      ]
     },
     "execution_count": 23,
     "metadata": {},
     "output_type": "execute_result"
    }
   ],
   "source": [
    "model.fit(X_train)"
   ]
  },
  {
   "cell_type": "markdown",
   "id": "f99999f7",
   "metadata": {
    "papermill": {
     "duration": 0.034017,
     "end_time": "2021-04-04T22:53:11.968712",
     "exception": false,
     "start_time": "2021-04-04T22:53:11.934695",
     "status": "completed"
    },
    "tags": []
   },
   "source": [
    "# Predict"
   ]
  },
  {
   "cell_type": "code",
   "execution_count": 24,
   "id": "6536fbf7",
   "metadata": {
    "execution": {
     "iopub.execute_input": "2021-04-04T22:53:12.038591Z",
     "iopub.status.busy": "2021-04-04T22:53:12.035198Z",
     "iopub.status.idle": "2021-04-04T22:53:12.055038Z",
     "shell.execute_reply": "2021-04-04T22:53:12.054492Z"
    },
    "papermill": {
     "duration": 0.060678,
     "end_time": "2021-04-04T22:53:12.055160",
     "exception": false,
     "start_time": "2021-04-04T22:53:11.994482",
     "status": "completed"
    },
    "tags": []
   },
   "outputs": [],
   "source": [
    "predictions = model.predict(X_test)"
   ]
  },
  {
   "cell_type": "markdown",
   "id": "aa1c9881",
   "metadata": {
    "papermill": {
     "duration": 0.030781,
     "end_time": "2021-04-04T22:53:12.112933",
     "exception": false,
     "start_time": "2021-04-04T22:53:12.082152",
     "status": "completed"
    },
    "tags": []
   },
   "source": [
    "# Evaluate"
   ]
  },
  {
   "cell_type": "code",
   "execution_count": 25,
   "id": "894f0f04",
   "metadata": {
    "execution": {
     "iopub.execute_input": "2021-04-04T22:53:12.176324Z",
     "iopub.status.busy": "2021-04-04T22:53:12.175418Z",
     "iopub.status.idle": "2021-04-04T22:53:12.177659Z",
     "shell.execute_reply": "2021-04-04T22:53:12.178172Z"
    },
    "papermill": {
     "duration": 0.037117,
     "end_time": "2021-04-04T22:53:12.178320",
     "exception": false,
     "start_time": "2021-04-04T22:53:12.141203",
     "status": "completed"
    },
    "tags": []
   },
   "outputs": [],
   "source": [
    "from sklearn.metrics import f1_score"
   ]
  },
  {
   "cell_type": "code",
   "execution_count": 26,
   "id": "211744d3",
   "metadata": {
    "execution": {
     "iopub.execute_input": "2021-04-04T22:53:12.256767Z",
     "iopub.status.busy": "2021-04-04T22:53:12.253794Z",
     "iopub.status.idle": "2021-04-04T22:53:12.258556Z",
     "shell.execute_reply": "2021-04-04T22:53:12.259144Z"
    },
    "papermill": {
     "duration": 0.05216,
     "end_time": "2021-04-04T22:53:12.259313",
     "exception": false,
     "start_time": "2021-04-04T22:53:12.207153",
     "status": "completed"
    },
    "tags": []
   },
   "outputs": [],
   "source": [
    "y_test = y_test.replace([0, 1], [1, -1])"
   ]
  },
  {
   "cell_type": "code",
   "execution_count": 27,
   "id": "d68a9204",
   "metadata": {
    "execution": {
     "iopub.execute_input": "2021-04-04T22:53:12.326910Z",
     "iopub.status.busy": "2021-04-04T22:53:12.326291Z",
     "iopub.status.idle": "2021-04-04T22:53:12.328499Z",
     "shell.execute_reply": "2021-04-04T22:53:12.329121Z"
    },
    "papermill": {
     "duration": 0.039783,
     "end_time": "2021-04-04T22:53:12.329281",
     "exception": false,
     "start_time": "2021-04-04T22:53:12.289498",
     "status": "completed"
    },
    "tags": []
   },
   "outputs": [],
   "source": [
    "def evaluate(truths, predictions, pos_label, neg_label):\n",
    "    TP = 0\n",
    "    FP = 0\n",
    "    TN = 0\n",
    "    FN = 0\n",
    "\n",
    "    for truth, pred in zip(truths, predictions): \n",
    "        if truth == pred == pos_label:\n",
    "           TP += 1\n",
    "        elif pred == pos_label and truth == neg_label:\n",
    "           FP += 1\n",
    "        elif truth == pred == neg_label:\n",
    "           TN += 1\n",
    "        elif pred == neg_label and truth == pos_label:\n",
    "           FN += 1\n",
    "\n",
    "    precision = TP / (TP + FP)\n",
    "    sensitivity = TP / (TP + FN)\n",
    "    \n",
    "    return {\n",
    "        'true_pos': TP,\n",
    "        'false_pos': FP,\n",
    "        'false_neg': FN,\n",
    "        'true_neg': TN,\n",
    "        'precision': precision,\n",
    "        'sensitivity': sensitivity,\n",
    "        'f1': (2 * (precision * sensitivity)) / (precision + sensitivity)\n",
    "    }\n",
    "\n",
    "score = evaluate(y_test, predictions, pos_label=-1, neg_label=1)"
   ]
  },
  {
   "cell_type": "markdown",
   "id": "93596516",
   "metadata": {
    "papermill": {
     "duration": 0.039812,
     "end_time": "2021-04-04T22:53:12.410852",
     "exception": false,
     "start_time": "2021-04-04T22:53:12.371040",
     "status": "completed"
    },
    "tags": []
   },
   "source": [
    "# Report"
   ]
  },
  {
   "cell_type": "code",
   "execution_count": 28,
   "id": "bea5fba1",
   "metadata": {
    "execution": {
     "iopub.execute_input": "2021-04-04T22:53:12.470892Z",
     "iopub.status.busy": "2021-04-04T22:53:12.470155Z",
     "iopub.status.idle": "2021-04-04T22:53:12.472566Z",
     "shell.execute_reply": "2021-04-04T22:53:12.473036Z"
    },
    "papermill": {
     "duration": 0.034025,
     "end_time": "2021-04-04T22:53:12.473193",
     "exception": false,
     "start_time": "2021-04-04T22:53:12.439168",
     "status": "completed"
    },
    "tags": []
   },
   "outputs": [],
   "source": [
    "import csv\n",
    "\n",
    "\n",
    "dataset_config_name = DATASET_CONFIG_PATH.split('/')[-1].split('.')[0]\n",
    "model_config_name = MODEL_CONFIG_PATH.split('/')[-1].split('.')[0]\n",
    "configuration = f\"dataset_{dataset_config_name}-model_{model_config_name}\"\n",
    "\n",
    "with open('results.csv', 'a') as f:\n",
    "    report = dict({'configuration': configuration}, **score)\n",
    "    writer = csv.DictWriter(f, report.keys())\n",
    "    writer.writerow(report)"
   ]
  }
 ],
 "metadata": {
  "celltoolbar": "Tags",
  "kernelspec": {
   "display_name": "Python 3",
   "language": "python",
   "name": "python3"
  },
  "language_info": {
   "codemirror_mode": {
    "name": "ipython",
    "version": 3
   },
   "file_extension": ".py",
   "mimetype": "text/x-python",
   "name": "python",
   "nbconvert_exporter": "python",
   "pygments_lexer": "ipython3",
   "version": "3.9.1"
  },
  "papermill": {
   "default_parameters": {},
   "duration": 6.067296,
   "end_time": "2021-04-04T22:53:13.915147",
   "environment_variables": {},
   "exception": null,
   "input_path": "main.ipynb",
   "output_path": "runs/dataset_000056-model_000004.ipynb",
   "parameters": {
    "DATASET_CONFIG_PATH": "config/dataset/000056.json",
    "MODEL_CONFIG_PATH": "config/model/000004.json",
    "PROFILE_REPORTING": false
   },
   "start_time": "2021-04-04T22:53:07.847851",
   "version": "2.3.3"
  }
 },
 "nbformat": 4,
 "nbformat_minor": 5
}