{
 "cells": [
  {
   "cell_type": "markdown",
   "id": "51c71c25",
   "metadata": {
    "papermill": {
     "duration": 0.032347,
     "end_time": "2021-04-04T22:47:32.681549",
     "exception": false,
     "start_time": "2021-04-04T22:47:32.649202",
     "status": "completed"
    },
    "tags": []
   },
   "source": [
    "# Parametrizing"
   ]
  },
  {
   "cell_type": "code",
   "execution_count": 1,
   "id": "3b136394",
   "metadata": {
    "execution": {
     "iopub.execute_input": "2021-04-04T22:47:32.758331Z",
     "iopub.status.busy": "2021-04-04T22:47:32.757501Z",
     "iopub.status.idle": "2021-04-04T22:47:32.761380Z",
     "shell.execute_reply": "2021-04-04T22:47:32.763143Z"
    },
    "papermill": {
     "duration": 0.055289,
     "end_time": "2021-04-04T22:47:32.764339",
     "exception": false,
     "start_time": "2021-04-04T22:47:32.709050",
     "status": "completed"
    },
    "tags": [
     "parameters"
    ]
   },
   "outputs": [],
   "source": [
    "DATASET_CONFIG_PATH = 'config/dataset/kc1_001.json'\n",
    "MODEL_CONFIG_PATH = 'config/model/knndd_001.json'\n",
    "PROFILE_REPORTING = False"
   ]
  },
  {
   "cell_type": "code",
   "execution_count": 2,
   "id": "6365b469",
   "metadata": {
    "execution": {
     "iopub.execute_input": "2021-04-04T22:47:32.874345Z",
     "iopub.status.busy": "2021-04-04T22:47:32.871830Z",
     "iopub.status.idle": "2021-04-04T22:47:32.877335Z",
     "shell.execute_reply": "2021-04-04T22:47:32.878416Z"
    },
    "papermill": {
     "duration": 0.064571,
     "end_time": "2021-04-04T22:47:32.878766",
     "exception": false,
     "start_time": "2021-04-04T22:47:32.814195",
     "status": "completed"
    },
    "tags": [
     "injected-parameters"
    ]
   },
   "outputs": [],
   "source": [
    "# Parameters\n",
    "DATASET_CONFIG_PATH = \"config/dataset/000046.json\"\n",
    "MODEL_CONFIG_PATH = \"config/model/000004.json\"\n",
    "PROFILE_REPORTING = False\n"
   ]
  },
  {
   "cell_type": "code",
   "execution_count": 3,
   "id": "b80f2a10",
   "metadata": {
    "execution": {
     "iopub.execute_input": "2021-04-04T22:47:32.992780Z",
     "iopub.status.busy": "2021-04-04T22:47:32.988093Z",
     "iopub.status.idle": "2021-04-04T22:47:32.996885Z",
     "shell.execute_reply": "2021-04-04T22:47:32.999408Z"
    },
    "papermill": {
     "duration": 0.070978,
     "end_time": "2021-04-04T22:47:33.000146",
     "exception": false,
     "start_time": "2021-04-04T22:47:32.929168",
     "status": "completed"
    },
    "tags": []
   },
   "outputs": [],
   "source": [
    "import json\n",
    "\n",
    "\n",
    "with open(DATASET_CONFIG_PATH) as f:\n",
    "    dataset_config = json.load(f)\n",
    "\n",
    "with open(MODEL_CONFIG_PATH) as f:\n",
    "    model_config = json.load(f)"
   ]
  },
  {
   "cell_type": "markdown",
   "id": "9a4b0e2d",
   "metadata": {
    "papermill": {
     "duration": 0.040154,
     "end_time": "2021-04-04T22:47:33.083556",
     "exception": false,
     "start_time": "2021-04-04T22:47:33.043402",
     "status": "completed"
    },
    "tags": []
   },
   "source": [
    "# Profiling"
   ]
  },
  {
   "cell_type": "code",
   "execution_count": 4,
   "id": "a3e0289b",
   "metadata": {
    "execution": {
     "iopub.execute_input": "2021-04-04T22:47:33.163622Z",
     "iopub.status.busy": "2021-04-04T22:47:33.161942Z",
     "iopub.status.idle": "2021-04-04T22:47:34.703662Z",
     "shell.execute_reply": "2021-04-04T22:47:34.704148Z"
    },
    "papermill": {
     "duration": 1.585016,
     "end_time": "2021-04-04T22:47:34.704298",
     "exception": false,
     "start_time": "2021-04-04T22:47:33.119282",
     "status": "completed"
    },
    "tags": []
   },
   "outputs": [],
   "source": [
    "import pandas as pd\n",
    "from pandas_profiling import ProfileReport"
   ]
  },
  {
   "cell_type": "code",
   "execution_count": 5,
   "id": "ee6c0666",
   "metadata": {
    "execution": {
     "iopub.execute_input": "2021-04-04T22:47:34.762019Z",
     "iopub.status.busy": "2021-04-04T22:47:34.760885Z",
     "iopub.status.idle": "2021-04-04T22:47:34.773007Z",
     "shell.execute_reply": "2021-04-04T22:47:34.772411Z"
    },
    "papermill": {
     "duration": 0.047247,
     "end_time": "2021-04-04T22:47:34.773127",
     "exception": false,
     "start_time": "2021-04-04T22:47:34.725880",
     "status": "completed"
    },
    "tags": []
   },
   "outputs": [],
   "source": [
    "df = pd.read_csv(dataset_config['dataset_path'])"
   ]
  },
  {
   "cell_type": "code",
   "execution_count": 6,
   "id": "7eca6c4a",
   "metadata": {
    "execution": {
     "iopub.execute_input": "2021-04-04T22:47:34.849843Z",
     "iopub.status.busy": "2021-04-04T22:47:34.848827Z",
     "iopub.status.idle": "2021-04-04T22:47:34.873117Z",
     "shell.execute_reply": "2021-04-04T22:47:34.872145Z"
    },
    "papermill": {
     "duration": 0.068962,
     "end_time": "2021-04-04T22:47:34.873382",
     "exception": false,
     "start_time": "2021-04-04T22:47:34.804420",
     "status": "completed"
    },
    "tags": []
   },
   "outputs": [
    {
     "name": "stdout",
     "output_type": "stream",
     "text": [
      "<class 'pandas.core.frame.DataFrame'>\n",
      "RangeIndex: 2109 entries, 0 to 2108\n",
      "Data columns (total 23 columns):\n",
      " #   Column             Non-Null Count  Dtype  \n",
      "---  ------             --------------  -----  \n",
      " 0   id                 2109 non-null   int64  \n",
      " 1   loc                2109 non-null   float64\n",
      " 2   v(g)               2109 non-null   float64\n",
      " 3   ev(g)              2109 non-null   float64\n",
      " 4   iv(g)              2109 non-null   float64\n",
      " 5   n                  2109 non-null   float64\n",
      " 6   v                  2109 non-null   float64\n",
      " 7   l                  2109 non-null   float64\n",
      " 8   d                  2109 non-null   float64\n",
      " 9   i                  2109 non-null   float64\n",
      " 10  e                  2109 non-null   float64\n",
      " 11  b                  2109 non-null   float64\n",
      " 12  t                  2109 non-null   float64\n",
      " 13  lOCode             2109 non-null   int64  \n",
      " 14  lOComment          2109 non-null   int64  \n",
      " 15  lOBlank            2109 non-null   int64  \n",
      " 16  locCodeAndComment  2109 non-null   int64  \n",
      " 17  uniq_Op            2109 non-null   float64\n",
      " 18  uniq_Opnd          2109 non-null   float64\n",
      " 19  total_Op           2109 non-null   float64\n",
      " 20  total_Opnd         2109 non-null   float64\n",
      " 21  branchCount        2109 non-null   float64\n",
      " 22  defects            2109 non-null   bool   \n",
      "dtypes: bool(1), float64(17), int64(5)\n",
      "memory usage: 364.7 KB\n"
     ]
    }
   ],
   "source": [
    "df.info()"
   ]
  },
  {
   "cell_type": "code",
   "execution_count": 7,
   "id": "3638e5e8",
   "metadata": {
    "execution": {
     "iopub.execute_input": "2021-04-04T22:47:34.949096Z",
     "iopub.status.busy": "2021-04-04T22:47:34.935270Z",
     "iopub.status.idle": "2021-04-04T22:47:34.998660Z",
     "shell.execute_reply": "2021-04-04T22:47:34.997907Z"
    },
    "papermill": {
     "duration": 0.100308,
     "end_time": "2021-04-04T22:47:34.998843",
     "exception": false,
     "start_time": "2021-04-04T22:47:34.898535",
     "status": "completed"
    },
    "tags": []
   },
   "outputs": [
    {
     "data": {
      "text/html": [
       "<div>\n",
       "<style scoped>\n",
       "    .dataframe tbody tr th:only-of-type {\n",
       "        vertical-align: middle;\n",
       "    }\n",
       "\n",
       "    .dataframe tbody tr th {\n",
       "        vertical-align: top;\n",
       "    }\n",
       "\n",
       "    .dataframe thead th {\n",
       "        text-align: right;\n",
       "    }\n",
       "</style>\n",
       "<table border=\"1\" class=\"dataframe\">\n",
       "  <thead>\n",
       "    <tr style=\"text-align: right;\">\n",
       "      <th></th>\n",
       "      <th>id</th>\n",
       "      <th>loc</th>\n",
       "      <th>v(g)</th>\n",
       "      <th>ev(g)</th>\n",
       "      <th>iv(g)</th>\n",
       "      <th>n</th>\n",
       "      <th>v</th>\n",
       "      <th>l</th>\n",
       "      <th>d</th>\n",
       "      <th>i</th>\n",
       "      <th>...</th>\n",
       "      <th>lOCode</th>\n",
       "      <th>lOComment</th>\n",
       "      <th>lOBlank</th>\n",
       "      <th>locCodeAndComment</th>\n",
       "      <th>uniq_Op</th>\n",
       "      <th>uniq_Opnd</th>\n",
       "      <th>total_Op</th>\n",
       "      <th>total_Opnd</th>\n",
       "      <th>branchCount</th>\n",
       "      <th>defects</th>\n",
       "    </tr>\n",
       "  </thead>\n",
       "  <tbody>\n",
       "    <tr>\n",
       "      <th>0</th>\n",
       "      <td>1</td>\n",
       "      <td>1.1</td>\n",
       "      <td>1.4</td>\n",
       "      <td>1.4</td>\n",
       "      <td>1.4</td>\n",
       "      <td>1.3</td>\n",
       "      <td>1.30</td>\n",
       "      <td>1.30</td>\n",
       "      <td>1.30</td>\n",
       "      <td>1.30</td>\n",
       "      <td>...</td>\n",
       "      <td>2</td>\n",
       "      <td>2</td>\n",
       "      <td>2</td>\n",
       "      <td>2</td>\n",
       "      <td>1.2</td>\n",
       "      <td>1.2</td>\n",
       "      <td>1.2</td>\n",
       "      <td>1.2</td>\n",
       "      <td>1.4</td>\n",
       "      <td>False</td>\n",
       "    </tr>\n",
       "    <tr>\n",
       "      <th>1</th>\n",
       "      <td>2</td>\n",
       "      <td>1.0</td>\n",
       "      <td>1.0</td>\n",
       "      <td>1.0</td>\n",
       "      <td>1.0</td>\n",
       "      <td>1.0</td>\n",
       "      <td>1.00</td>\n",
       "      <td>1.00</td>\n",
       "      <td>1.00</td>\n",
       "      <td>1.00</td>\n",
       "      <td>...</td>\n",
       "      <td>1</td>\n",
       "      <td>1</td>\n",
       "      <td>1</td>\n",
       "      <td>1</td>\n",
       "      <td>1.0</td>\n",
       "      <td>1.0</td>\n",
       "      <td>1.0</td>\n",
       "      <td>1.0</td>\n",
       "      <td>1.0</td>\n",
       "      <td>True</td>\n",
       "    </tr>\n",
       "    <tr>\n",
       "      <th>2</th>\n",
       "      <td>3</td>\n",
       "      <td>83.0</td>\n",
       "      <td>11.0</td>\n",
       "      <td>1.0</td>\n",
       "      <td>11.0</td>\n",
       "      <td>171.0</td>\n",
       "      <td>927.89</td>\n",
       "      <td>0.04</td>\n",
       "      <td>23.04</td>\n",
       "      <td>40.27</td>\n",
       "      <td>...</td>\n",
       "      <td>65</td>\n",
       "      <td>10</td>\n",
       "      <td>6</td>\n",
       "      <td>0</td>\n",
       "      <td>18.0</td>\n",
       "      <td>25.0</td>\n",
       "      <td>107.0</td>\n",
       "      <td>64.0</td>\n",
       "      <td>21.0</td>\n",
       "      <td>True</td>\n",
       "    </tr>\n",
       "    <tr>\n",
       "      <th>3</th>\n",
       "      <td>4</td>\n",
       "      <td>46.0</td>\n",
       "      <td>8.0</td>\n",
       "      <td>6.0</td>\n",
       "      <td>8.0</td>\n",
       "      <td>141.0</td>\n",
       "      <td>769.78</td>\n",
       "      <td>0.07</td>\n",
       "      <td>14.86</td>\n",
       "      <td>51.81</td>\n",
       "      <td>...</td>\n",
       "      <td>37</td>\n",
       "      <td>2</td>\n",
       "      <td>5</td>\n",
       "      <td>0</td>\n",
       "      <td>16.0</td>\n",
       "      <td>28.0</td>\n",
       "      <td>89.0</td>\n",
       "      <td>52.0</td>\n",
       "      <td>15.0</td>\n",
       "      <td>True</td>\n",
       "    </tr>\n",
       "    <tr>\n",
       "      <th>4</th>\n",
       "      <td>5</td>\n",
       "      <td>25.0</td>\n",
       "      <td>3.0</td>\n",
       "      <td>1.0</td>\n",
       "      <td>3.0</td>\n",
       "      <td>58.0</td>\n",
       "      <td>254.75</td>\n",
       "      <td>0.11</td>\n",
       "      <td>9.35</td>\n",
       "      <td>27.25</td>\n",
       "      <td>...</td>\n",
       "      <td>21</td>\n",
       "      <td>0</td>\n",
       "      <td>2</td>\n",
       "      <td>0</td>\n",
       "      <td>11.0</td>\n",
       "      <td>10.0</td>\n",
       "      <td>41.0</td>\n",
       "      <td>17.0</td>\n",
       "      <td>5.0</td>\n",
       "      <td>True</td>\n",
       "    </tr>\n",
       "  </tbody>\n",
       "</table>\n",
       "<p>5 rows × 23 columns</p>\n",
       "</div>"
      ],
      "text/plain": [
       "   id   loc  v(g)  ev(g)  iv(g)      n       v     l      d      i  ...  \\\n",
       "0   1   1.1   1.4    1.4    1.4    1.3    1.30  1.30   1.30   1.30  ...   \n",
       "1   2   1.0   1.0    1.0    1.0    1.0    1.00  1.00   1.00   1.00  ...   \n",
       "2   3  83.0  11.0    1.0   11.0  171.0  927.89  0.04  23.04  40.27  ...   \n",
       "3   4  46.0   8.0    6.0    8.0  141.0  769.78  0.07  14.86  51.81  ...   \n",
       "4   5  25.0   3.0    1.0    3.0   58.0  254.75  0.11   9.35  27.25  ...   \n",
       "\n",
       "   lOCode  lOComment  lOBlank  locCodeAndComment  uniq_Op  uniq_Opnd  \\\n",
       "0       2          2        2                  2      1.2        1.2   \n",
       "1       1          1        1                  1      1.0        1.0   \n",
       "2      65         10        6                  0     18.0       25.0   \n",
       "3      37          2        5                  0     16.0       28.0   \n",
       "4      21          0        2                  0     11.0       10.0   \n",
       "\n",
       "   total_Op  total_Opnd  branchCount  defects  \n",
       "0       1.2         1.2          1.4    False  \n",
       "1       1.0         1.0          1.0     True  \n",
       "2     107.0        64.0         21.0     True  \n",
       "3      89.0        52.0         15.0     True  \n",
       "4      41.0        17.0          5.0     True  \n",
       "\n",
       "[5 rows x 23 columns]"
      ]
     },
     "execution_count": 7,
     "metadata": {},
     "output_type": "execute_result"
    }
   ],
   "source": [
    "df.head()"
   ]
  },
  {
   "cell_type": "code",
   "execution_count": 8,
   "id": "733e95eb",
   "metadata": {
    "execution": {
     "iopub.execute_input": "2021-04-04T22:47:35.069778Z",
     "iopub.status.busy": "2021-04-04T22:47:35.067716Z",
     "iopub.status.idle": "2021-04-04T22:47:35.072864Z",
     "shell.execute_reply": "2021-04-04T22:47:35.071981Z"
    },
    "papermill": {
     "duration": 0.041484,
     "end_time": "2021-04-04T22:47:35.073038",
     "exception": false,
     "start_time": "2021-04-04T22:47:35.031554",
     "status": "completed"
    },
    "tags": []
   },
   "outputs": [],
   "source": [
    "del df['id']"
   ]
  },
  {
   "cell_type": "code",
   "execution_count": 9,
   "id": "6ff6f5b0",
   "metadata": {
    "execution": {
     "iopub.execute_input": "2021-04-04T22:47:35.146644Z",
     "iopub.status.busy": "2021-04-04T22:47:35.145093Z",
     "iopub.status.idle": "2021-04-04T22:47:35.150154Z",
     "shell.execute_reply": "2021-04-04T22:47:35.148468Z"
    },
    "papermill": {
     "duration": 0.048102,
     "end_time": "2021-04-04T22:47:35.150590",
     "exception": false,
     "start_time": "2021-04-04T22:47:35.102488",
     "status": "completed"
    },
    "tags": []
   },
   "outputs": [],
   "source": [
    "if PROFILE_REPORTING:\n",
    "    ProfileReport(df).to_widgets()"
   ]
  },
  {
   "cell_type": "markdown",
   "id": "1deaf3f0",
   "metadata": {
    "papermill": {
     "duration": 0.02717,
     "end_time": "2021-04-04T22:47:35.207143",
     "exception": false,
     "start_time": "2021-04-04T22:47:35.179973",
     "status": "completed"
    },
    "tags": []
   },
   "source": [
    "# Preprocess"
   ]
  },
  {
   "cell_type": "code",
   "execution_count": 10,
   "id": "1513e563",
   "metadata": {
    "execution": {
     "iopub.execute_input": "2021-04-04T22:47:35.261996Z",
     "iopub.status.busy": "2021-04-04T22:47:35.261312Z",
     "iopub.status.idle": "2021-04-04T22:47:35.266493Z",
     "shell.execute_reply": "2021-04-04T22:47:35.265914Z"
    },
    "papermill": {
     "duration": 0.03526,
     "end_time": "2021-04-04T22:47:35.266635",
     "exception": false,
     "start_time": "2021-04-04T22:47:35.231375",
     "status": "completed"
    },
    "tags": []
   },
   "outputs": [],
   "source": [
    "working_df = df.copy()"
   ]
  },
  {
   "cell_type": "code",
   "execution_count": 11,
   "id": "3b26d675",
   "metadata": {
    "execution": {
     "iopub.execute_input": "2021-04-04T22:47:35.353370Z",
     "iopub.status.busy": "2021-04-04T22:47:35.351359Z",
     "iopub.status.idle": "2021-04-04T22:47:35.355490Z",
     "shell.execute_reply": "2021-04-04T22:47:35.356029Z"
    },
    "papermill": {
     "duration": 0.052366,
     "end_time": "2021-04-04T22:47:35.356196",
     "exception": false,
     "start_time": "2021-04-04T22:47:35.303830",
     "status": "completed"
    },
    "tags": []
   },
   "outputs": [],
   "source": [
    "working_df['defects'] = working_df['defects'].replace([False, True], [0, 1])"
   ]
  },
  {
   "cell_type": "code",
   "execution_count": 12,
   "id": "eb48604f",
   "metadata": {
    "execution": {
     "iopub.execute_input": "2021-04-04T22:47:35.438925Z",
     "iopub.status.busy": "2021-04-04T22:47:35.437502Z",
     "iopub.status.idle": "2021-04-04T22:47:35.441630Z",
     "shell.execute_reply": "2021-04-04T22:47:35.443173Z"
    },
    "papermill": {
     "duration": 0.055878,
     "end_time": "2021-04-04T22:47:35.443915",
     "exception": false,
     "start_time": "2021-04-04T22:47:35.388037",
     "status": "completed"
    },
    "tags": []
   },
   "outputs": [],
   "source": [
    "for col in dataset_config['delete_columns']:\n",
    "    del working_df[col]"
   ]
  },
  {
   "cell_type": "code",
   "execution_count": 13,
   "id": "9a17bc29",
   "metadata": {
    "execution": {
     "iopub.execute_input": "2021-04-04T22:47:35.511716Z",
     "iopub.status.busy": "2021-04-04T22:47:35.510765Z",
     "iopub.status.idle": "2021-04-04T22:47:35.522590Z",
     "shell.execute_reply": "2021-04-04T22:47:35.523143Z"
    },
    "papermill": {
     "duration": 0.049808,
     "end_time": "2021-04-04T22:47:35.523460",
     "exception": false,
     "start_time": "2021-04-04T22:47:35.473652",
     "status": "completed"
    },
    "tags": []
   },
   "outputs": [],
   "source": [
    "working_df = working_df.drop_duplicates()"
   ]
  },
  {
   "cell_type": "markdown",
   "id": "a4d52ca6",
   "metadata": {
    "papermill": {
     "duration": 0.022585,
     "end_time": "2021-04-04T22:47:35.571669",
     "exception": false,
     "start_time": "2021-04-04T22:47:35.549084",
     "status": "completed"
    },
    "tags": []
   },
   "source": [
    "# Split"
   ]
  },
  {
   "cell_type": "code",
   "execution_count": 14,
   "id": "3e9ee4b5",
   "metadata": {
    "execution": {
     "iopub.execute_input": "2021-04-04T22:47:35.632180Z",
     "iopub.status.busy": "2021-04-04T22:47:35.630111Z",
     "iopub.status.idle": "2021-04-04T22:47:35.670041Z",
     "shell.execute_reply": "2021-04-04T22:47:35.670502Z"
    },
    "papermill": {
     "duration": 0.074288,
     "end_time": "2021-04-04T22:47:35.670655",
     "exception": false,
     "start_time": "2021-04-04T22:47:35.596367",
     "status": "completed"
    },
    "tags": []
   },
   "outputs": [],
   "source": [
    "from sklearn.model_selection import train_test_split"
   ]
  },
  {
   "cell_type": "code",
   "execution_count": 15,
   "id": "274004ce",
   "metadata": {
    "execution": {
     "iopub.execute_input": "2021-04-04T22:47:35.722845Z",
     "iopub.status.busy": "2021-04-04T22:47:35.722223Z",
     "iopub.status.idle": "2021-04-04T22:47:35.727023Z",
     "shell.execute_reply": "2021-04-04T22:47:35.727504Z"
    },
    "papermill": {
     "duration": 0.032899,
     "end_time": "2021-04-04T22:47:35.727650",
     "exception": false,
     "start_time": "2021-04-04T22:47:35.694751",
     "status": "completed"
    },
    "scrolled": true,
    "tags": []
   },
   "outputs": [],
   "source": [
    "inlier, outlier = working_df[working_df['defects'] == 0], working_df[working_df['defects'] == 1]"
   ]
  },
  {
   "cell_type": "code",
   "execution_count": 16,
   "id": "753c7b03",
   "metadata": {
    "execution": {
     "iopub.execute_input": "2021-04-04T22:47:35.792326Z",
     "iopub.status.busy": "2021-04-04T22:47:35.786637Z",
     "iopub.status.idle": "2021-04-04T22:47:35.794355Z",
     "shell.execute_reply": "2021-04-04T22:47:35.794954Z"
    },
    "papermill": {
     "duration": 0.041609,
     "end_time": "2021-04-04T22:47:35.795144",
     "exception": false,
     "start_time": "2021-04-04T22:47:35.753535",
     "status": "completed"
    },
    "tags": []
   },
   "outputs": [],
   "source": [
    "X_inlier = inlier.copy()\n",
    "y_inlier = X_inlier.pop('defects')\n",
    "X_outlier = outlier.copy()\n",
    "y_outlier = X_outlier.pop('defects')"
   ]
  },
  {
   "cell_type": "code",
   "execution_count": 17,
   "id": "2ba43193",
   "metadata": {
    "execution": {
     "iopub.execute_input": "2021-04-04T22:47:35.866638Z",
     "iopub.status.busy": "2021-04-04T22:47:35.865368Z",
     "iopub.status.idle": "2021-04-04T22:47:35.871719Z",
     "shell.execute_reply": "2021-04-04T22:47:35.870555Z"
    },
    "papermill": {
     "duration": 0.051107,
     "end_time": "2021-04-04T22:47:35.871989",
     "exception": false,
     "start_time": "2021-04-04T22:47:35.820882",
     "status": "completed"
    },
    "tags": []
   },
   "outputs": [],
   "source": [
    "test_size = dataset_config['test_size']\n",
    "random_state = dataset_config['random_state']\n",
    "\n",
    "X_inlier_train, X_inlier_test, y_inlier_train, y_inlier_test = train_test_split(\n",
    "    X_inlier,\n",
    "    y_inlier,\n",
    "    test_size=test_size,\n",
    "    random_state=random_state\n",
    ")"
   ]
  },
  {
   "cell_type": "code",
   "execution_count": 18,
   "id": "0b7582ca",
   "metadata": {
    "execution": {
     "iopub.execute_input": "2021-04-04T22:47:35.943262Z",
     "iopub.status.busy": "2021-04-04T22:47:35.942147Z",
     "iopub.status.idle": "2021-04-04T22:47:35.947917Z",
     "shell.execute_reply": "2021-04-04T22:47:35.946607Z"
    },
    "papermill": {
     "duration": 0.046595,
     "end_time": "2021-04-04T22:47:35.948121",
     "exception": false,
     "start_time": "2021-04-04T22:47:35.901526",
     "status": "completed"
    },
    "tags": []
   },
   "outputs": [],
   "source": [
    "test_outlier_size = dataset_config['test_outlier_size']\n",
    "if test_outlier_size > 0.0:\n",
    "    X_outlier_train, X_outlier_test, y_outlier_train, y_outlier_test = train_test_split(\n",
    "        X_outlier,\n",
    "        y_outlier,\n",
    "        test_size=test_outlier_size,\n",
    "        random_state=random_state\n",
    "    )\n",
    "else:\n",
    "    X_outlier_train, y_outlier_train = pd.DataFrame(columns=X_outlier.columns), pd.Series(dtype='int64')\n",
    "    X_outlier_test, y_outlier_test = X_outlier.copy(), y_outlier.copy()"
   ]
  },
  {
   "cell_type": "code",
   "execution_count": 19,
   "id": "c34363db",
   "metadata": {
    "execution": {
     "iopub.execute_input": "2021-04-04T22:47:36.011524Z",
     "iopub.status.busy": "2021-04-04T22:47:36.010034Z",
     "iopub.status.idle": "2021-04-04T22:47:36.014525Z",
     "shell.execute_reply": "2021-04-04T22:47:36.015423Z"
    },
    "papermill": {
     "duration": 0.042038,
     "end_time": "2021-04-04T22:47:36.015642",
     "exception": false,
     "start_time": "2021-04-04T22:47:35.973604",
     "status": "completed"
    },
    "tags": []
   },
   "outputs": [],
   "source": [
    "X_train, y_train = pd.concat([X_inlier_train, X_outlier_train], ignore_index=True), pd.concat([y_inlier_train, y_outlier_train], ignore_index=True)\n",
    "X_test, y_test = pd.concat([X_inlier_test, X_outlier_test], ignore_index=True), pd.concat([y_inlier_test, y_outlier_test], ignore_index=True)"
   ]
  },
  {
   "cell_type": "markdown",
   "id": "7cde7309",
   "metadata": {
    "papermill": {
     "duration": 0.033022,
     "end_time": "2021-04-04T22:47:36.083656",
     "exception": false,
     "start_time": "2021-04-04T22:47:36.050634",
     "status": "completed"
    },
    "tags": []
   },
   "source": [
    "# Model"
   ]
  },
  {
   "cell_type": "code",
   "execution_count": 20,
   "id": "2b12a415",
   "metadata": {
    "execution": {
     "iopub.execute_input": "2021-04-04T22:47:36.147913Z",
     "iopub.status.busy": "2021-04-04T22:47:36.144154Z",
     "iopub.status.idle": "2021-04-04T22:47:36.151294Z",
     "shell.execute_reply": "2021-04-04T22:47:36.152073Z"
    },
    "papermill": {
     "duration": 0.040162,
     "end_time": "2021-04-04T22:47:36.152286",
     "exception": false,
     "start_time": "2021-04-04T22:47:36.112124",
     "status": "completed"
    },
    "tags": []
   },
   "outputs": [],
   "source": [
    "from math import sqrt\n",
    "\n",
    "\n",
    "class KNNDataDescription:\n",
    "    def __init__(self, k=5, outlier_threshold=1.0):\n",
    "        self.k = k\n",
    "        self.outlier_threshold = outlier_threshold\n",
    "        self.X = []\n",
    "    \n",
    "    def fit(self, X):\n",
    "        self.X = [features.to_list() for index, features in X.iterrows()]\n",
    "\n",
    "    def predict(self, entries):\n",
    "        return [self.predict_entry(features.to_list()) for index, features in entries.iterrows()]\n",
    "    \n",
    "    def predict_entry(self, entry):\n",
    "        kth_neighbor, kth_distance = self.get_kth_neighbor(entry, self.k)\n",
    "        kth_kth_neighbor, kth_kth_distance = self.get_kth_neighbor(kth_neighbor, self.k + 1)\n",
    "\n",
    "        outlier_score = kth_distance / (kth_kth_distance + 0.000001)\n",
    "\n",
    "        return 1 if outlier_score < self.outlier_threshold else -1\n",
    "        \n",
    "    def euclidean_distance(self, features1, features2):\n",
    "        distance = 0.0\n",
    "        for feat1, feat2 in zip(features1, features2):\n",
    "            distance += (feat1 - feat2)**2\n",
    "                \n",
    "        return sqrt(distance)\n",
    "\n",
    "    def get_neighbors(self, entry, k):\n",
    "        distance_to_data_points = [\n",
    "            (data_point, self.euclidean_distance(entry, data_point))\n",
    "            for data_point in self.X\n",
    "        ]\n",
    "        sorted_by_distance = sorted(distance_to_data_points, key=lambda tup: tup[1])\n",
    "        neighbors = sorted_by_distance[:k]\n",
    "        return neighbors\n",
    "\n",
    "    def get_kth_neighbor(self, entry, k):\n",
    "        neighbors = self.get_neighbors(entry, k)\n",
    "        return neighbors[-1]\n"
   ]
  },
  {
   "cell_type": "code",
   "execution_count": 21,
   "id": "1fa9ec1c",
   "metadata": {
    "execution": {
     "iopub.execute_input": "2021-04-04T22:47:36.226790Z",
     "iopub.status.busy": "2021-04-04T22:47:36.225594Z",
     "iopub.status.idle": "2021-04-04T22:47:36.258090Z",
     "shell.execute_reply": "2021-04-04T22:47:36.257573Z"
    },
    "papermill": {
     "duration": 0.071729,
     "end_time": "2021-04-04T22:47:36.258211",
     "exception": false,
     "start_time": "2021-04-04T22:47:36.186482",
     "status": "completed"
    },
    "tags": []
   },
   "outputs": [],
   "source": [
    "from sklearn.svm import OneClassSVM\n",
    "\n",
    "\n",
    "models = {\n",
    "    'oneclasssvm': OneClassSVM,\n",
    "    'knndatadescription': KNNDataDescription,\n",
    "}"
   ]
  },
  {
   "cell_type": "code",
   "execution_count": 22,
   "id": "4d72a0b1",
   "metadata": {
    "execution": {
     "iopub.execute_input": "2021-04-04T22:47:36.319218Z",
     "iopub.status.busy": "2021-04-04T22:47:36.317953Z",
     "iopub.status.idle": "2021-04-04T22:47:36.323225Z",
     "shell.execute_reply": "2021-04-04T22:47:36.324075Z"
    },
    "papermill": {
     "duration": 0.041032,
     "end_time": "2021-04-04T22:47:36.324334",
     "exception": false,
     "start_time": "2021-04-04T22:47:36.283302",
     "status": "completed"
    },
    "scrolled": true,
    "tags": []
   },
   "outputs": [],
   "source": [
    "model_cls = models[model_config['model_type']]\n",
    "model = model_cls(**model_config['hyperparameters'])"
   ]
  },
  {
   "cell_type": "markdown",
   "id": "e00cff3b",
   "metadata": {
    "papermill": {
     "duration": 0.031395,
     "end_time": "2021-04-04T22:47:36.403205",
     "exception": false,
     "start_time": "2021-04-04T22:47:36.371810",
     "status": "completed"
    },
    "tags": []
   },
   "source": [
    "# Fit"
   ]
  },
  {
   "cell_type": "code",
   "execution_count": 23,
   "id": "8b2ded89",
   "metadata": {
    "execution": {
     "iopub.execute_input": "2021-04-04T22:47:36.468584Z",
     "iopub.status.busy": "2021-04-04T22:47:36.467154Z",
     "iopub.status.idle": "2021-04-04T22:47:36.499128Z",
     "shell.execute_reply": "2021-04-04T22:47:36.500450Z"
    },
    "papermill": {
     "duration": 0.068107,
     "end_time": "2021-04-04T22:47:36.500771",
     "exception": false,
     "start_time": "2021-04-04T22:47:36.432664",
     "status": "completed"
    },
    "tags": []
   },
   "outputs": [
    {
     "data": {
      "text/plain": [
       "OneClassSVM()"
      ]
     },
     "execution_count": 23,
     "metadata": {},
     "output_type": "execute_result"
    }
   ],
   "source": [
    "model.fit(X_train)"
   ]
  },
  {
   "cell_type": "markdown",
   "id": "f99999f7",
   "metadata": {
    "papermill": {
     "duration": 0.034267,
     "end_time": "2021-04-04T22:47:36.577138",
     "exception": false,
     "start_time": "2021-04-04T22:47:36.542871",
     "status": "completed"
    },
    "tags": []
   },
   "source": [
    "# Predict"
   ]
  },
  {
   "cell_type": "code",
   "execution_count": 24,
   "id": "6536fbf7",
   "metadata": {
    "execution": {
     "iopub.execute_input": "2021-04-04T22:47:36.662965Z",
     "iopub.status.busy": "2021-04-04T22:47:36.662216Z",
     "iopub.status.idle": "2021-04-04T22:47:36.682128Z",
     "shell.execute_reply": "2021-04-04T22:47:36.684001Z"
    },
    "papermill": {
     "duration": 0.074994,
     "end_time": "2021-04-04T22:47:36.684572",
     "exception": false,
     "start_time": "2021-04-04T22:47:36.609578",
     "status": "completed"
    },
    "tags": []
   },
   "outputs": [],
   "source": [
    "predictions = model.predict(X_test)"
   ]
  },
  {
   "cell_type": "markdown",
   "id": "aa1c9881",
   "metadata": {
    "papermill": {
     "duration": 0.03488,
     "end_time": "2021-04-04T22:47:36.746798",
     "exception": false,
     "start_time": "2021-04-04T22:47:36.711918",
     "status": "completed"
    },
    "tags": []
   },
   "source": [
    "# Evaluate"
   ]
  },
  {
   "cell_type": "code",
   "execution_count": 25,
   "id": "894f0f04",
   "metadata": {
    "execution": {
     "iopub.execute_input": "2021-04-04T22:47:36.825492Z",
     "iopub.status.busy": "2021-04-04T22:47:36.824895Z",
     "iopub.status.idle": "2021-04-04T22:47:36.828373Z",
     "shell.execute_reply": "2021-04-04T22:47:36.829387Z"
    },
    "papermill": {
     "duration": 0.039565,
     "end_time": "2021-04-04T22:47:36.829573",
     "exception": false,
     "start_time": "2021-04-04T22:47:36.790008",
     "status": "completed"
    },
    "tags": []
   },
   "outputs": [],
   "source": [
    "from sklearn.metrics import f1_score"
   ]
  },
  {
   "cell_type": "code",
   "execution_count": 26,
   "id": "211744d3",
   "metadata": {
    "execution": {
     "iopub.execute_input": "2021-04-04T22:47:36.897363Z",
     "iopub.status.busy": "2021-04-04T22:47:36.896450Z",
     "iopub.status.idle": "2021-04-04T22:47:36.901744Z",
     "shell.execute_reply": "2021-04-04T22:47:36.900988Z"
    },
    "papermill": {
     "duration": 0.047299,
     "end_time": "2021-04-04T22:47:36.901944",
     "exception": false,
     "start_time": "2021-04-04T22:47:36.854645",
     "status": "completed"
    },
    "tags": []
   },
   "outputs": [],
   "source": [
    "y_test = y_test.replace([0, 1], [1, -1])"
   ]
  },
  {
   "cell_type": "code",
   "execution_count": 27,
   "id": "d68a9204",
   "metadata": {
    "execution": {
     "iopub.execute_input": "2021-04-04T22:47:36.984410Z",
     "iopub.status.busy": "2021-04-04T22:47:36.983643Z",
     "iopub.status.idle": "2021-04-04T22:47:36.985447Z",
     "shell.execute_reply": "2021-04-04T22:47:36.985931Z"
    },
    "papermill": {
     "duration": 0.040573,
     "end_time": "2021-04-04T22:47:36.986078",
     "exception": false,
     "start_time": "2021-04-04T22:47:36.945505",
     "status": "completed"
    },
    "tags": []
   },
   "outputs": [],
   "source": [
    "def evaluate(truths, predictions, pos_label, neg_label):\n",
    "    TP = 0\n",
    "    FP = 0\n",
    "    TN = 0\n",
    "    FN = 0\n",
    "\n",
    "    for truth, pred in zip(truths, predictions): \n",
    "        if truth == pred == pos_label:\n",
    "           TP += 1\n",
    "        elif pred == pos_label and truth == neg_label:\n",
    "           FP += 1\n",
    "        elif truth == pred == neg_label:\n",
    "           TN += 1\n",
    "        elif pred == neg_label and truth == pos_label:\n",
    "           FN += 1\n",
    "\n",
    "    precision = TP / (TP + FP)\n",
    "    sensitivity = TP / (TP + FN)\n",
    "    \n",
    "    return {\n",
    "        'true_pos': TP,\n",
    "        'false_pos': FP,\n",
    "        'false_neg': FN,\n",
    "        'true_neg': TN,\n",
    "        'precision': precision,\n",
    "        'sensitivity': sensitivity,\n",
    "        'f1': (2 * (precision * sensitivity)) / (precision + sensitivity)\n",
    "    }\n",
    "\n",
    "score = evaluate(y_test, predictions, pos_label=-1, neg_label=1)"
   ]
  },
  {
   "cell_type": "markdown",
   "id": "93596516",
   "metadata": {
    "papermill": {
     "duration": 0.038901,
     "end_time": "2021-04-04T22:47:37.049085",
     "exception": false,
     "start_time": "2021-04-04T22:47:37.010184",
     "status": "completed"
    },
    "tags": []
   },
   "source": [
    "# Report"
   ]
  },
  {
   "cell_type": "code",
   "execution_count": 28,
   "id": "bea5fba1",
   "metadata": {
    "execution": {
     "iopub.execute_input": "2021-04-04T22:47:37.141842Z",
     "iopub.status.busy": "2021-04-04T22:47:37.141119Z",
     "iopub.status.idle": "2021-04-04T22:47:37.143863Z",
     "shell.execute_reply": "2021-04-04T22:47:37.143337Z"
    },
    "papermill": {
     "duration": 0.047489,
     "end_time": "2021-04-04T22:47:37.143980",
     "exception": false,
     "start_time": "2021-04-04T22:47:37.096491",
     "status": "completed"
    },
    "tags": []
   },
   "outputs": [],
   "source": [
    "import csv\n",
    "\n",
    "\n",
    "dataset_config_name = DATASET_CONFIG_PATH.split('/')[-1].split('.')[0]\n",
    "model_config_name = MODEL_CONFIG_PATH.split('/')[-1].split('.')[0]\n",
    "configuration = f\"dataset_{dataset_config_name}-model_{model_config_name}\"\n",
    "\n",
    "with open('results.csv', 'a') as f:\n",
    "    report = dict({'configuration': configuration}, **score)\n",
    "    writer = csv.DictWriter(f, report.keys())\n",
    "    writer.writerow(report)"
   ]
  }
 ],
 "metadata": {
  "celltoolbar": "Tags",
  "kernelspec": {
   "display_name": "Python 3",
   "language": "python",
   "name": "python3"
  },
  "language_info": {
   "codemirror_mode": {
    "name": "ipython",
    "version": 3
   },
   "file_extension": ".py",
   "mimetype": "text/x-python",
   "name": "python",
   "nbconvert_exporter": "python",
   "pygments_lexer": "ipython3",
   "version": "3.9.1"
  },
  "papermill": {
   "default_parameters": {},
   "duration": 7.126101,
   "end_time": "2021-04-04T22:47:38.845002",
   "environment_variables": {},
   "exception": null,
   "input_path": "main.ipynb",
   "output_path": "runs/dataset_000046-model_000004.ipynb",
   "parameters": {
    "DATASET_CONFIG_PATH": "config/dataset/000046.json",
    "MODEL_CONFIG_PATH": "config/model/000004.json",
    "PROFILE_REPORTING": false
   },
   "start_time": "2021-04-04T22:47:31.718901",
   "version": "2.3.3"
  }
 },
 "nbformat": 4,
 "nbformat_minor": 5
}