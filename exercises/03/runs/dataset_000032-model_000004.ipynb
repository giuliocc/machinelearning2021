{
 "cells": [
  {
   "cell_type": "markdown",
   "id": "51c71c25",
   "metadata": {
    "papermill": {
     "duration": 0.021285,
     "end_time": "2021-04-04T22:39:08.486802",
     "exception": false,
     "start_time": "2021-04-04T22:39:08.465517",
     "status": "completed"
    },
    "tags": []
   },
   "source": [
    "# Parametrizing"
   ]
  },
  {
   "cell_type": "code",
   "execution_count": 1,
   "id": "3b136394",
   "metadata": {
    "execution": {
     "iopub.execute_input": "2021-04-04T22:39:08.550207Z",
     "iopub.status.busy": "2021-04-04T22:39:08.549245Z",
     "iopub.status.idle": "2021-04-04T22:39:08.553248Z",
     "shell.execute_reply": "2021-04-04T22:39:08.552351Z"
    },
    "papermill": {
     "duration": 0.0466,
     "end_time": "2021-04-04T22:39:08.553492",
     "exception": false,
     "start_time": "2021-04-04T22:39:08.506892",
     "status": "completed"
    },
    "tags": [
     "parameters"
    ]
   },
   "outputs": [],
   "source": [
    "DATASET_CONFIG_PATH = 'config/dataset/kc1_001.json'\n",
    "MODEL_CONFIG_PATH = 'config/model/knndd_001.json'\n",
    "PROFILE_REPORTING = False"
   ]
  },
  {
   "cell_type": "code",
   "execution_count": 2,
   "id": "abe52bd9",
   "metadata": {
    "execution": {
     "iopub.execute_input": "2021-04-04T22:39:08.631734Z",
     "iopub.status.busy": "2021-04-04T22:39:08.630559Z",
     "iopub.status.idle": "2021-04-04T22:39:08.634566Z",
     "shell.execute_reply": "2021-04-04T22:39:08.635816Z"
    },
    "papermill": {
     "duration": 0.04379,
     "end_time": "2021-04-04T22:39:08.636193",
     "exception": false,
     "start_time": "2021-04-04T22:39:08.592403",
     "status": "completed"
    },
    "tags": [
     "injected-parameters"
    ]
   },
   "outputs": [],
   "source": [
    "# Parameters\n",
    "DATASET_CONFIG_PATH = \"config/dataset/000032.json\"\n",
    "MODEL_CONFIG_PATH = \"config/model/000004.json\"\n",
    "PROFILE_REPORTING = False\n"
   ]
  },
  {
   "cell_type": "code",
   "execution_count": 3,
   "id": "b80f2a10",
   "metadata": {
    "execution": {
     "iopub.execute_input": "2021-04-04T22:39:08.704655Z",
     "iopub.status.busy": "2021-04-04T22:39:08.703212Z",
     "iopub.status.idle": "2021-04-04T22:39:08.706581Z",
     "shell.execute_reply": "2021-04-04T22:39:08.707069Z"
    },
    "papermill": {
     "duration": 0.042632,
     "end_time": "2021-04-04T22:39:08.707207",
     "exception": false,
     "start_time": "2021-04-04T22:39:08.664575",
     "status": "completed"
    },
    "tags": []
   },
   "outputs": [],
   "source": [
    "import json\n",
    "\n",
    "\n",
    "with open(DATASET_CONFIG_PATH) as f:\n",
    "    dataset_config = json.load(f)\n",
    "\n",
    "with open(MODEL_CONFIG_PATH) as f:\n",
    "    model_config = json.load(f)"
   ]
  },
  {
   "cell_type": "markdown",
   "id": "9a4b0e2d",
   "metadata": {
    "papermill": {
     "duration": 0.024905,
     "end_time": "2021-04-04T22:39:08.760622",
     "exception": false,
     "start_time": "2021-04-04T22:39:08.735717",
     "status": "completed"
    },
    "tags": []
   },
   "source": [
    "# Profiling"
   ]
  },
  {
   "cell_type": "code",
   "execution_count": 4,
   "id": "a3e0289b",
   "metadata": {
    "execution": {
     "iopub.execute_input": "2021-04-04T22:39:08.813834Z",
     "iopub.status.busy": "2021-04-04T22:39:08.812638Z",
     "iopub.status.idle": "2021-04-04T22:39:10.497969Z",
     "shell.execute_reply": "2021-04-04T22:39:10.497340Z"
    },
    "papermill": {
     "duration": 1.713107,
     "end_time": "2021-04-04T22:39:10.498137",
     "exception": false,
     "start_time": "2021-04-04T22:39:08.785030",
     "status": "completed"
    },
    "tags": []
   },
   "outputs": [],
   "source": [
    "import pandas as pd\n",
    "from pandas_profiling import ProfileReport"
   ]
  },
  {
   "cell_type": "code",
   "execution_count": 5,
   "id": "ee6c0666",
   "metadata": {
    "execution": {
     "iopub.execute_input": "2021-04-04T22:39:10.545871Z",
     "iopub.status.busy": "2021-04-04T22:39:10.544923Z",
     "iopub.status.idle": "2021-04-04T22:39:10.557027Z",
     "shell.execute_reply": "2021-04-04T22:39:10.557497Z"
    },
    "papermill": {
     "duration": 0.037116,
     "end_time": "2021-04-04T22:39:10.557640",
     "exception": false,
     "start_time": "2021-04-04T22:39:10.520524",
     "status": "completed"
    },
    "tags": []
   },
   "outputs": [],
   "source": [
    "df = pd.read_csv(dataset_config['dataset_path'])"
   ]
  },
  {
   "cell_type": "code",
   "execution_count": 6,
   "id": "7eca6c4a",
   "metadata": {
    "execution": {
     "iopub.execute_input": "2021-04-04T22:39:10.626228Z",
     "iopub.status.busy": "2021-04-04T22:39:10.616671Z",
     "iopub.status.idle": "2021-04-04T22:39:10.630267Z",
     "shell.execute_reply": "2021-04-04T22:39:10.629583Z"
    },
    "papermill": {
     "duration": 0.04986,
     "end_time": "2021-04-04T22:39:10.630400",
     "exception": false,
     "start_time": "2021-04-04T22:39:10.580540",
     "status": "completed"
    },
    "tags": []
   },
   "outputs": [
    {
     "name": "stdout",
     "output_type": "stream",
     "text": [
      "<class 'pandas.core.frame.DataFrame'>\n",
      "RangeIndex: 2109 entries, 0 to 2108\n",
      "Data columns (total 23 columns):\n",
      " #   Column             Non-Null Count  Dtype  \n",
      "---  ------             --------------  -----  \n",
      " 0   id                 2109 non-null   int64  \n",
      " 1   loc                2109 non-null   float64\n",
      " 2   v(g)               2109 non-null   float64\n",
      " 3   ev(g)              2109 non-null   float64\n",
      " 4   iv(g)              2109 non-null   float64\n",
      " 5   n                  2109 non-null   float64\n",
      " 6   v                  2109 non-null   float64\n",
      " 7   l                  2109 non-null   float64\n",
      " 8   d                  2109 non-null   float64\n",
      " 9   i                  2109 non-null   float64\n",
      " 10  e                  2109 non-null   float64\n",
      " 11  b                  2109 non-null   float64\n",
      " 12  t                  2109 non-null   float64\n",
      " 13  lOCode             2109 non-null   int64  \n",
      " 14  lOComment          2109 non-null   int64  \n",
      " 15  lOBlank            2109 non-null   int64  \n",
      " 16  locCodeAndComment  2109 non-null   int64  \n",
      " 17  uniq_Op            2109 non-null   float64\n",
      " 18  uniq_Opnd          2109 non-null   float64\n",
      " 19  total_Op           2109 non-null   float64\n",
      " 20  total_Opnd         2109 non-null   float64\n",
      " 21  branchCount        2109 non-null   float64\n",
      " 22  defects            2109 non-null   bool   \n",
      "dtypes: bool(1), float64(17), int64(5)\n",
      "memory usage: 364.7 KB\n"
     ]
    }
   ],
   "source": [
    "df.info()"
   ]
  },
  {
   "cell_type": "code",
   "execution_count": 7,
   "id": "3638e5e8",
   "metadata": {
    "execution": {
     "iopub.execute_input": "2021-04-04T22:39:10.682946Z",
     "iopub.status.busy": "2021-04-04T22:39:10.682317Z",
     "iopub.status.idle": "2021-04-04T22:39:10.707673Z",
     "shell.execute_reply": "2021-04-04T22:39:10.708141Z"
    },
    "papermill": {
     "duration": 0.056976,
     "end_time": "2021-04-04T22:39:10.708286",
     "exception": false,
     "start_time": "2021-04-04T22:39:10.651310",
     "status": "completed"
    },
    "tags": []
   },
   "outputs": [
    {
     "data": {
      "text/html": [
       "<div>\n",
       "<style scoped>\n",
       "    .dataframe tbody tr th:only-of-type {\n",
       "        vertical-align: middle;\n",
       "    }\n",
       "\n",
       "    .dataframe tbody tr th {\n",
       "        vertical-align: top;\n",
       "    }\n",
       "\n",
       "    .dataframe thead th {\n",
       "        text-align: right;\n",
       "    }\n",
       "</style>\n",
       "<table border=\"1\" class=\"dataframe\">\n",
       "  <thead>\n",
       "    <tr style=\"text-align: right;\">\n",
       "      <th></th>\n",
       "      <th>id</th>\n",
       "      <th>loc</th>\n",
       "      <th>v(g)</th>\n",
       "      <th>ev(g)</th>\n",
       "      <th>iv(g)</th>\n",
       "      <th>n</th>\n",
       "      <th>v</th>\n",
       "      <th>l</th>\n",
       "      <th>d</th>\n",
       "      <th>i</th>\n",
       "      <th>...</th>\n",
       "      <th>lOCode</th>\n",
       "      <th>lOComment</th>\n",
       "      <th>lOBlank</th>\n",
       "      <th>locCodeAndComment</th>\n",
       "      <th>uniq_Op</th>\n",
       "      <th>uniq_Opnd</th>\n",
       "      <th>total_Op</th>\n",
       "      <th>total_Opnd</th>\n",
       "      <th>branchCount</th>\n",
       "      <th>defects</th>\n",
       "    </tr>\n",
       "  </thead>\n",
       "  <tbody>\n",
       "    <tr>\n",
       "      <th>0</th>\n",
       "      <td>1</td>\n",
       "      <td>1.1</td>\n",
       "      <td>1.4</td>\n",
       "      <td>1.4</td>\n",
       "      <td>1.4</td>\n",
       "      <td>1.3</td>\n",
       "      <td>1.30</td>\n",
       "      <td>1.30</td>\n",
       "      <td>1.30</td>\n",
       "      <td>1.30</td>\n",
       "      <td>...</td>\n",
       "      <td>2</td>\n",
       "      <td>2</td>\n",
       "      <td>2</td>\n",
       "      <td>2</td>\n",
       "      <td>1.2</td>\n",
       "      <td>1.2</td>\n",
       "      <td>1.2</td>\n",
       "      <td>1.2</td>\n",
       "      <td>1.4</td>\n",
       "      <td>False</td>\n",
       "    </tr>\n",
       "    <tr>\n",
       "      <th>1</th>\n",
       "      <td>2</td>\n",
       "      <td>1.0</td>\n",
       "      <td>1.0</td>\n",
       "      <td>1.0</td>\n",
       "      <td>1.0</td>\n",
       "      <td>1.0</td>\n",
       "      <td>1.00</td>\n",
       "      <td>1.00</td>\n",
       "      <td>1.00</td>\n",
       "      <td>1.00</td>\n",
       "      <td>...</td>\n",
       "      <td>1</td>\n",
       "      <td>1</td>\n",
       "      <td>1</td>\n",
       "      <td>1</td>\n",
       "      <td>1.0</td>\n",
       "      <td>1.0</td>\n",
       "      <td>1.0</td>\n",
       "      <td>1.0</td>\n",
       "      <td>1.0</td>\n",
       "      <td>True</td>\n",
       "    </tr>\n",
       "    <tr>\n",
       "      <th>2</th>\n",
       "      <td>3</td>\n",
       "      <td>83.0</td>\n",
       "      <td>11.0</td>\n",
       "      <td>1.0</td>\n",
       "      <td>11.0</td>\n",
       "      <td>171.0</td>\n",
       "      <td>927.89</td>\n",
       "      <td>0.04</td>\n",
       "      <td>23.04</td>\n",
       "      <td>40.27</td>\n",
       "      <td>...</td>\n",
       "      <td>65</td>\n",
       "      <td>10</td>\n",
       "      <td>6</td>\n",
       "      <td>0</td>\n",
       "      <td>18.0</td>\n",
       "      <td>25.0</td>\n",
       "      <td>107.0</td>\n",
       "      <td>64.0</td>\n",
       "      <td>21.0</td>\n",
       "      <td>True</td>\n",
       "    </tr>\n",
       "    <tr>\n",
       "      <th>3</th>\n",
       "      <td>4</td>\n",
       "      <td>46.0</td>\n",
       "      <td>8.0</td>\n",
       "      <td>6.0</td>\n",
       "      <td>8.0</td>\n",
       "      <td>141.0</td>\n",
       "      <td>769.78</td>\n",
       "      <td>0.07</td>\n",
       "      <td>14.86</td>\n",
       "      <td>51.81</td>\n",
       "      <td>...</td>\n",
       "      <td>37</td>\n",
       "      <td>2</td>\n",
       "      <td>5</td>\n",
       "      <td>0</td>\n",
       "      <td>16.0</td>\n",
       "      <td>28.0</td>\n",
       "      <td>89.0</td>\n",
       "      <td>52.0</td>\n",
       "      <td>15.0</td>\n",
       "      <td>True</td>\n",
       "    </tr>\n",
       "    <tr>\n",
       "      <th>4</th>\n",
       "      <td>5</td>\n",
       "      <td>25.0</td>\n",
       "      <td>3.0</td>\n",
       "      <td>1.0</td>\n",
       "      <td>3.0</td>\n",
       "      <td>58.0</td>\n",
       "      <td>254.75</td>\n",
       "      <td>0.11</td>\n",
       "      <td>9.35</td>\n",
       "      <td>27.25</td>\n",
       "      <td>...</td>\n",
       "      <td>21</td>\n",
       "      <td>0</td>\n",
       "      <td>2</td>\n",
       "      <td>0</td>\n",
       "      <td>11.0</td>\n",
       "      <td>10.0</td>\n",
       "      <td>41.0</td>\n",
       "      <td>17.0</td>\n",
       "      <td>5.0</td>\n",
       "      <td>True</td>\n",
       "    </tr>\n",
       "  </tbody>\n",
       "</table>\n",
       "<p>5 rows × 23 columns</p>\n",
       "</div>"
      ],
      "text/plain": [
       "   id   loc  v(g)  ev(g)  iv(g)      n       v     l      d      i  ...  \\\n",
       "0   1   1.1   1.4    1.4    1.4    1.3    1.30  1.30   1.30   1.30  ...   \n",
       "1   2   1.0   1.0    1.0    1.0    1.0    1.00  1.00   1.00   1.00  ...   \n",
       "2   3  83.0  11.0    1.0   11.0  171.0  927.89  0.04  23.04  40.27  ...   \n",
       "3   4  46.0   8.0    6.0    8.0  141.0  769.78  0.07  14.86  51.81  ...   \n",
       "4   5  25.0   3.0    1.0    3.0   58.0  254.75  0.11   9.35  27.25  ...   \n",
       "\n",
       "   lOCode  lOComment  lOBlank  locCodeAndComment  uniq_Op  uniq_Opnd  \\\n",
       "0       2          2        2                  2      1.2        1.2   \n",
       "1       1          1        1                  1      1.0        1.0   \n",
       "2      65         10        6                  0     18.0       25.0   \n",
       "3      37          2        5                  0     16.0       28.0   \n",
       "4      21          0        2                  0     11.0       10.0   \n",
       "\n",
       "   total_Op  total_Opnd  branchCount  defects  \n",
       "0       1.2         1.2          1.4    False  \n",
       "1       1.0         1.0          1.0     True  \n",
       "2     107.0        64.0         21.0     True  \n",
       "3      89.0        52.0         15.0     True  \n",
       "4      41.0        17.0          5.0     True  \n",
       "\n",
       "[5 rows x 23 columns]"
      ]
     },
     "execution_count": 7,
     "metadata": {},
     "output_type": "execute_result"
    }
   ],
   "source": [
    "df.head()"
   ]
  },
  {
   "cell_type": "code",
   "execution_count": 8,
   "id": "733e95eb",
   "metadata": {
    "execution": {
     "iopub.execute_input": "2021-04-04T22:39:10.771185Z",
     "iopub.status.busy": "2021-04-04T22:39:10.770369Z",
     "iopub.status.idle": "2021-04-04T22:39:10.772891Z",
     "shell.execute_reply": "2021-04-04T22:39:10.773462Z"
    },
    "papermill": {
     "duration": 0.037926,
     "end_time": "2021-04-04T22:39:10.773631",
     "exception": false,
     "start_time": "2021-04-04T22:39:10.735705",
     "status": "completed"
    },
    "tags": []
   },
   "outputs": [],
   "source": [
    "del df['id']"
   ]
  },
  {
   "cell_type": "code",
   "execution_count": 9,
   "id": "6ff6f5b0",
   "metadata": {
    "execution": {
     "iopub.execute_input": "2021-04-04T22:39:10.828012Z",
     "iopub.status.busy": "2021-04-04T22:39:10.827128Z",
     "iopub.status.idle": "2021-04-04T22:39:10.829464Z",
     "shell.execute_reply": "2021-04-04T22:39:10.828959Z"
    },
    "papermill": {
     "duration": 0.033712,
     "end_time": "2021-04-04T22:39:10.829583",
     "exception": false,
     "start_time": "2021-04-04T22:39:10.795871",
     "status": "completed"
    },
    "tags": []
   },
   "outputs": [],
   "source": [
    "if PROFILE_REPORTING:\n",
    "    ProfileReport(df).to_widgets()"
   ]
  },
  {
   "cell_type": "markdown",
   "id": "1deaf3f0",
   "metadata": {
    "papermill": {
     "duration": 0.02428,
     "end_time": "2021-04-04T22:39:10.875569",
     "exception": false,
     "start_time": "2021-04-04T22:39:10.851289",
     "status": "completed"
    },
    "tags": []
   },
   "source": [
    "# Preprocess"
   ]
  },
  {
   "cell_type": "code",
   "execution_count": 10,
   "id": "1513e563",
   "metadata": {
    "execution": {
     "iopub.execute_input": "2021-04-04T22:39:10.954257Z",
     "iopub.status.busy": "2021-04-04T22:39:10.953404Z",
     "iopub.status.idle": "2021-04-04T22:39:10.956260Z",
     "shell.execute_reply": "2021-04-04T22:39:10.955665Z"
    },
    "papermill": {
     "duration": 0.045323,
     "end_time": "2021-04-04T22:39:10.956455",
     "exception": false,
     "start_time": "2021-04-04T22:39:10.911132",
     "status": "completed"
    },
    "tags": []
   },
   "outputs": [],
   "source": [
    "working_df = df.copy()"
   ]
  },
  {
   "cell_type": "code",
   "execution_count": 11,
   "id": "3b26d675",
   "metadata": {
    "execution": {
     "iopub.execute_input": "2021-04-04T22:39:11.020391Z",
     "iopub.status.busy": "2021-04-04T22:39:11.019043Z",
     "iopub.status.idle": "2021-04-04T22:39:11.023324Z",
     "shell.execute_reply": "2021-04-04T22:39:11.022729Z"
    },
    "papermill": {
     "duration": 0.038403,
     "end_time": "2021-04-04T22:39:11.023464",
     "exception": false,
     "start_time": "2021-04-04T22:39:10.985061",
     "status": "completed"
    },
    "tags": []
   },
   "outputs": [],
   "source": [
    "working_df['defects'] = working_df['defects'].replace([False, True], [0, 1])"
   ]
  },
  {
   "cell_type": "code",
   "execution_count": 12,
   "id": "eb48604f",
   "metadata": {
    "execution": {
     "iopub.execute_input": "2021-04-04T22:39:11.074263Z",
     "iopub.status.busy": "2021-04-04T22:39:11.073549Z",
     "iopub.status.idle": "2021-04-04T22:39:11.075706Z",
     "shell.execute_reply": "2021-04-04T22:39:11.075210Z"
    },
    "papermill": {
     "duration": 0.029237,
     "end_time": "2021-04-04T22:39:11.075823",
     "exception": false,
     "start_time": "2021-04-04T22:39:11.046586",
     "status": "completed"
    },
    "tags": []
   },
   "outputs": [],
   "source": [
    "for col in dataset_config['delete_columns']:\n",
    "    del working_df[col]"
   ]
  },
  {
   "cell_type": "code",
   "execution_count": 13,
   "id": "9a17bc29",
   "metadata": {
    "execution": {
     "iopub.execute_input": "2021-04-04T22:39:11.159554Z",
     "iopub.status.busy": "2021-04-04T22:39:11.158388Z",
     "iopub.status.idle": "2021-04-04T22:39:11.174919Z",
     "shell.execute_reply": "2021-04-04T22:39:11.176011Z"
    },
    "papermill": {
     "duration": 0.058813,
     "end_time": "2021-04-04T22:39:11.176200",
     "exception": false,
     "start_time": "2021-04-04T22:39:11.117387",
     "status": "completed"
    },
    "tags": []
   },
   "outputs": [],
   "source": [
    "working_df = working_df.drop_duplicates()"
   ]
  },
  {
   "cell_type": "markdown",
   "id": "a4d52ca6",
   "metadata": {
    "papermill": {
     "duration": 0.029332,
     "end_time": "2021-04-04T22:39:11.232444",
     "exception": false,
     "start_time": "2021-04-04T22:39:11.203112",
     "status": "completed"
    },
    "tags": []
   },
   "source": [
    "# Split"
   ]
  },
  {
   "cell_type": "code",
   "execution_count": 14,
   "id": "3e9ee4b5",
   "metadata": {
    "execution": {
     "iopub.execute_input": "2021-04-04T22:39:11.295606Z",
     "iopub.status.busy": "2021-04-04T22:39:11.294719Z",
     "iopub.status.idle": "2021-04-04T22:39:11.328432Z",
     "shell.execute_reply": "2021-04-04T22:39:11.329237Z"
    },
    "papermill": {
     "duration": 0.071499,
     "end_time": "2021-04-04T22:39:11.329887",
     "exception": false,
     "start_time": "2021-04-04T22:39:11.258388",
     "status": "completed"
    },
    "tags": []
   },
   "outputs": [],
   "source": [
    "from sklearn.model_selection import train_test_split"
   ]
  },
  {
   "cell_type": "code",
   "execution_count": 15,
   "id": "274004ce",
   "metadata": {
    "execution": {
     "iopub.execute_input": "2021-04-04T22:39:11.402818Z",
     "iopub.status.busy": "2021-04-04T22:39:11.401123Z",
     "iopub.status.idle": "2021-04-04T22:39:11.408432Z",
     "shell.execute_reply": "2021-04-04T22:39:11.408890Z"
    },
    "papermill": {
     "duration": 0.047002,
     "end_time": "2021-04-04T22:39:11.409041",
     "exception": false,
     "start_time": "2021-04-04T22:39:11.362039",
     "status": "completed"
    },
    "scrolled": true,
    "tags": []
   },
   "outputs": [],
   "source": [
    "inlier, outlier = working_df[working_df['defects'] == 0], working_df[working_df['defects'] == 1]"
   ]
  },
  {
   "cell_type": "code",
   "execution_count": 16,
   "id": "753c7b03",
   "metadata": {
    "execution": {
     "iopub.execute_input": "2021-04-04T22:39:11.472736Z",
     "iopub.status.busy": "2021-04-04T22:39:11.468457Z",
     "iopub.status.idle": "2021-04-04T22:39:11.476150Z",
     "shell.execute_reply": "2021-04-04T22:39:11.476691Z"
    },
    "papermill": {
     "duration": 0.040875,
     "end_time": "2021-04-04T22:39:11.476919",
     "exception": false,
     "start_time": "2021-04-04T22:39:11.436044",
     "status": "completed"
    },
    "tags": []
   },
   "outputs": [],
   "source": [
    "X_inlier = inlier.copy()\n",
    "y_inlier = X_inlier.pop('defects')\n",
    "X_outlier = outlier.copy()\n",
    "y_outlier = X_outlier.pop('defects')"
   ]
  },
  {
   "cell_type": "code",
   "execution_count": 17,
   "id": "2ba43193",
   "metadata": {
    "execution": {
     "iopub.execute_input": "2021-04-04T22:39:11.534205Z",
     "iopub.status.busy": "2021-04-04T22:39:11.532132Z",
     "iopub.status.idle": "2021-04-04T22:39:11.537598Z",
     "shell.execute_reply": "2021-04-04T22:39:11.536993Z"
    },
    "papermill": {
     "duration": 0.035756,
     "end_time": "2021-04-04T22:39:11.537742",
     "exception": false,
     "start_time": "2021-04-04T22:39:11.501986",
     "status": "completed"
    },
    "tags": []
   },
   "outputs": [],
   "source": [
    "test_size = dataset_config['test_size']\n",
    "random_state = dataset_config['random_state']\n",
    "\n",
    "X_inlier_train, X_inlier_test, y_inlier_train, y_inlier_test = train_test_split(\n",
    "    X_inlier,\n",
    "    y_inlier,\n",
    "    test_size=test_size,\n",
    "    random_state=random_state\n",
    ")"
   ]
  },
  {
   "cell_type": "code",
   "execution_count": 18,
   "id": "0b7582ca",
   "metadata": {
    "execution": {
     "iopub.execute_input": "2021-04-04T22:39:11.599283Z",
     "iopub.status.busy": "2021-04-04T22:39:11.598674Z",
     "iopub.status.idle": "2021-04-04T22:39:11.600523Z",
     "shell.execute_reply": "2021-04-04T22:39:11.601002Z"
    },
    "papermill": {
     "duration": 0.039411,
     "end_time": "2021-04-04T22:39:11.601148",
     "exception": false,
     "start_time": "2021-04-04T22:39:11.561737",
     "status": "completed"
    },
    "tags": []
   },
   "outputs": [],
   "source": [
    "test_outlier_size = dataset_config['test_outlier_size']\n",
    "if test_outlier_size > 0.0:\n",
    "    X_outlier_train, X_outlier_test, y_outlier_train, y_outlier_test = train_test_split(\n",
    "        X_outlier,\n",
    "        y_outlier,\n",
    "        test_size=test_outlier_size,\n",
    "        random_state=random_state\n",
    "    )\n",
    "else:\n",
    "    X_outlier_train, y_outlier_train = pd.DataFrame(columns=X_outlier.columns), pd.Series(dtype='int64')\n",
    "    X_outlier_test, y_outlier_test = X_outlier.copy(), y_outlier.copy()"
   ]
  },
  {
   "cell_type": "code",
   "execution_count": 19,
   "id": "c34363db",
   "metadata": {
    "execution": {
     "iopub.execute_input": "2021-04-04T22:39:11.655585Z",
     "iopub.status.busy": "2021-04-04T22:39:11.653934Z",
     "iopub.status.idle": "2021-04-04T22:39:11.658559Z",
     "shell.execute_reply": "2021-04-04T22:39:11.659039Z"
    },
    "papermill": {
     "duration": 0.035262,
     "end_time": "2021-04-04T22:39:11.659187",
     "exception": false,
     "start_time": "2021-04-04T22:39:11.623925",
     "status": "completed"
    },
    "tags": []
   },
   "outputs": [],
   "source": [
    "X_train, y_train = pd.concat([X_inlier_train, X_outlier_train], ignore_index=True), pd.concat([y_inlier_train, y_outlier_train], ignore_index=True)\n",
    "X_test, y_test = pd.concat([X_inlier_test, X_outlier_test], ignore_index=True), pd.concat([y_inlier_test, y_outlier_test], ignore_index=True)"
   ]
  },
  {
   "cell_type": "markdown",
   "id": "7cde7309",
   "metadata": {
    "papermill": {
     "duration": 0.027306,
     "end_time": "2021-04-04T22:39:11.712300",
     "exception": false,
     "start_time": "2021-04-04T22:39:11.684994",
     "status": "completed"
    },
    "tags": []
   },
   "source": [
    "# Model"
   ]
  },
  {
   "cell_type": "code",
   "execution_count": 20,
   "id": "2b12a415",
   "metadata": {
    "execution": {
     "iopub.execute_input": "2021-04-04T22:39:11.785075Z",
     "iopub.status.busy": "2021-04-04T22:39:11.781777Z",
     "iopub.status.idle": "2021-04-04T22:39:11.787139Z",
     "shell.execute_reply": "2021-04-04T22:39:11.787592Z"
    },
    "papermill": {
     "duration": 0.04862,
     "end_time": "2021-04-04T22:39:11.787731",
     "exception": false,
     "start_time": "2021-04-04T22:39:11.739111",
     "status": "completed"
    },
    "tags": []
   },
   "outputs": [],
   "source": [
    "from math import sqrt\n",
    "\n",
    "\n",
    "class KNNDataDescription:\n",
    "    def __init__(self, k=5, outlier_threshold=1.0):\n",
    "        self.k = k\n",
    "        self.outlier_threshold = outlier_threshold\n",
    "        self.X = []\n",
    "    \n",
    "    def fit(self, X):\n",
    "        self.X = [features.to_list() for index, features in X.iterrows()]\n",
    "\n",
    "    def predict(self, entries):\n",
    "        return [self.predict_entry(features.to_list()) for index, features in entries.iterrows()]\n",
    "    \n",
    "    def predict_entry(self, entry):\n",
    "        kth_neighbor, kth_distance = self.get_kth_neighbor(entry, self.k)\n",
    "        kth_kth_neighbor, kth_kth_distance = self.get_kth_neighbor(kth_neighbor, self.k + 1)\n",
    "\n",
    "        outlier_score = kth_distance / (kth_kth_distance + 0.000001)\n",
    "\n",
    "        return 1 if outlier_score < self.outlier_threshold else -1\n",
    "        \n",
    "    def euclidean_distance(self, features1, features2):\n",
    "        distance = 0.0\n",
    "        for feat1, feat2 in zip(features1, features2):\n",
    "            distance += (feat1 - feat2)**2\n",
    "                \n",
    "        return sqrt(distance)\n",
    "\n",
    "    def get_neighbors(self, entry, k):\n",
    "        distance_to_data_points = [\n",
    "            (data_point, self.euclidean_distance(entry, data_point))\n",
    "            for data_point in self.X\n",
    "        ]\n",
    "        sorted_by_distance = sorted(distance_to_data_points, key=lambda tup: tup[1])\n",
    "        neighbors = sorted_by_distance[:k]\n",
    "        return neighbors\n",
    "\n",
    "    def get_kth_neighbor(self, entry, k):\n",
    "        neighbors = self.get_neighbors(entry, k)\n",
    "        return neighbors[-1]\n"
   ]
  },
  {
   "cell_type": "code",
   "execution_count": 21,
   "id": "1fa9ec1c",
   "metadata": {
    "execution": {
     "iopub.execute_input": "2021-04-04T22:39:11.849815Z",
     "iopub.status.busy": "2021-04-04T22:39:11.848971Z",
     "iopub.status.idle": "2021-04-04T22:39:11.874558Z",
     "shell.execute_reply": "2021-04-04T22:39:11.874068Z"
    },
    "papermill": {
     "duration": 0.060894,
     "end_time": "2021-04-04T22:39:11.874670",
     "exception": false,
     "start_time": "2021-04-04T22:39:11.813776",
     "status": "completed"
    },
    "tags": []
   },
   "outputs": [],
   "source": [
    "from sklearn.svm import OneClassSVM\n",
    "\n",
    "\n",
    "models = {\n",
    "    'oneclasssvm': OneClassSVM,\n",
    "    'knndatadescription': KNNDataDescription,\n",
    "}"
   ]
  },
  {
   "cell_type": "code",
   "execution_count": 22,
   "id": "4d72a0b1",
   "metadata": {
    "execution": {
     "iopub.execute_input": "2021-04-04T22:39:11.939576Z",
     "iopub.status.busy": "2021-04-04T22:39:11.937673Z",
     "iopub.status.idle": "2021-04-04T22:39:11.943389Z",
     "shell.execute_reply": "2021-04-04T22:39:11.942521Z"
    },
    "papermill": {
     "duration": 0.043984,
     "end_time": "2021-04-04T22:39:11.943562",
     "exception": false,
     "start_time": "2021-04-04T22:39:11.899578",
     "status": "completed"
    },
    "scrolled": true,
    "tags": []
   },
   "outputs": [],
   "source": [
    "model_cls = models[model_config['model_type']]\n",
    "model = model_cls(**model_config['hyperparameters'])"
   ]
  },
  {
   "cell_type": "markdown",
   "id": "e00cff3b",
   "metadata": {
    "papermill": {
     "duration": 0.032915,
     "end_time": "2021-04-04T22:39:12.005971",
     "exception": false,
     "start_time": "2021-04-04T22:39:11.973056",
     "status": "completed"
    },
    "tags": []
   },
   "source": [
    "# Fit"
   ]
  },
  {
   "cell_type": "code",
   "execution_count": 23,
   "id": "8b2ded89",
   "metadata": {
    "execution": {
     "iopub.execute_input": "2021-04-04T22:39:12.067087Z",
     "iopub.status.busy": "2021-04-04T22:39:12.066417Z",
     "iopub.status.idle": "2021-04-04T22:39:12.089000Z",
     "shell.execute_reply": "2021-04-04T22:39:12.089764Z"
    },
    "papermill": {
     "duration": 0.056983,
     "end_time": "2021-04-04T22:39:12.089967",
     "exception": false,
     "start_time": "2021-04-04T22:39:12.032984",
     "status": "completed"
    },
    "tags": []
   },
   "outputs": [
    {
     "data": {
      "text/plain": [
       "OneClassSVM()"
      ]
     },
     "execution_count": 23,
     "metadata": {},
     "output_type": "execute_result"
    }
   ],
   "source": [
    "model.fit(X_train)"
   ]
  },
  {
   "cell_type": "markdown",
   "id": "f99999f7",
   "metadata": {
    "papermill": {
     "duration": 0.035934,
     "end_time": "2021-04-04T22:39:12.156828",
     "exception": false,
     "start_time": "2021-04-04T22:39:12.120894",
     "status": "completed"
    },
    "tags": []
   },
   "source": [
    "# Predict"
   ]
  },
  {
   "cell_type": "code",
   "execution_count": 24,
   "id": "6536fbf7",
   "metadata": {
    "execution": {
     "iopub.execute_input": "2021-04-04T22:39:12.237955Z",
     "iopub.status.busy": "2021-04-04T22:39:12.236949Z",
     "iopub.status.idle": "2021-04-04T22:39:12.252888Z",
     "shell.execute_reply": "2021-04-04T22:39:12.252289Z"
    },
    "papermill": {
     "duration": 0.053854,
     "end_time": "2021-04-04T22:39:12.253009",
     "exception": false,
     "start_time": "2021-04-04T22:39:12.199155",
     "status": "completed"
    },
    "tags": []
   },
   "outputs": [],
   "source": [
    "predictions = model.predict(X_test)"
   ]
  },
  {
   "cell_type": "markdown",
   "id": "aa1c9881",
   "metadata": {
    "papermill": {
     "duration": 0.02939,
     "end_time": "2021-04-04T22:39:12.309837",
     "exception": false,
     "start_time": "2021-04-04T22:39:12.280447",
     "status": "completed"
    },
    "tags": []
   },
   "source": [
    "# Evaluate"
   ]
  },
  {
   "cell_type": "code",
   "execution_count": 25,
   "id": "894f0f04",
   "metadata": {
    "execution": {
     "iopub.execute_input": "2021-04-04T22:39:12.380013Z",
     "iopub.status.busy": "2021-04-04T22:39:12.377706Z",
     "iopub.status.idle": "2021-04-04T22:39:12.380972Z",
     "shell.execute_reply": "2021-04-04T22:39:12.381558Z"
    },
    "papermill": {
     "duration": 0.046488,
     "end_time": "2021-04-04T22:39:12.381748",
     "exception": false,
     "start_time": "2021-04-04T22:39:12.335260",
     "status": "completed"
    },
    "tags": []
   },
   "outputs": [],
   "source": [
    "from sklearn.metrics import f1_score"
   ]
  },
  {
   "cell_type": "code",
   "execution_count": 26,
   "id": "211744d3",
   "metadata": {
    "execution": {
     "iopub.execute_input": "2021-04-04T22:39:12.455484Z",
     "iopub.status.busy": "2021-04-04T22:39:12.454751Z",
     "iopub.status.idle": "2021-04-04T22:39:12.457476Z",
     "shell.execute_reply": "2021-04-04T22:39:12.458640Z"
    },
    "papermill": {
     "duration": 0.048788,
     "end_time": "2021-04-04T22:39:12.458988",
     "exception": false,
     "start_time": "2021-04-04T22:39:12.410200",
     "status": "completed"
    },
    "tags": []
   },
   "outputs": [],
   "source": [
    "y_test = y_test.replace([0, 1], [1, -1])"
   ]
  },
  {
   "cell_type": "code",
   "execution_count": 27,
   "id": "d68a9204",
   "metadata": {
    "execution": {
     "iopub.execute_input": "2021-04-04T22:39:12.530535Z",
     "iopub.status.busy": "2021-04-04T22:39:12.528735Z",
     "iopub.status.idle": "2021-04-04T22:39:12.533924Z",
     "shell.execute_reply": "2021-04-04T22:39:12.533276Z"
    },
    "papermill": {
     "duration": 0.045835,
     "end_time": "2021-04-04T22:39:12.534060",
     "exception": false,
     "start_time": "2021-04-04T22:39:12.488225",
     "status": "completed"
    },
    "tags": []
   },
   "outputs": [],
   "source": [
    "def evaluate(truths, predictions, pos_label, neg_label):\n",
    "    TP = 0\n",
    "    FP = 0\n",
    "    TN = 0\n",
    "    FN = 0\n",
    "\n",
    "    for truth, pred in zip(truths, predictions): \n",
    "        if truth == pred == pos_label:\n",
    "           TP += 1\n",
    "        elif pred == pos_label and truth == neg_label:\n",
    "           FP += 1\n",
    "        elif truth == pred == neg_label:\n",
    "           TN += 1\n",
    "        elif pred == neg_label and truth == pos_label:\n",
    "           FN += 1\n",
    "\n",
    "    precision = TP / (TP + FP)\n",
    "    sensitivity = TP / (TP + FN)\n",
    "    \n",
    "    return {\n",
    "        'true_pos': TP,\n",
    "        'false_pos': FP,\n",
    "        'false_neg': FN,\n",
    "        'true_neg': TN,\n",
    "        'precision': precision,\n",
    "        'sensitivity': sensitivity,\n",
    "        'f1': (2 * (precision * sensitivity)) / (precision + sensitivity)\n",
    "    }\n",
    "\n",
    "score = evaluate(y_test, predictions, pos_label=-1, neg_label=1)"
   ]
  },
  {
   "cell_type": "markdown",
   "id": "93596516",
   "metadata": {
    "papermill": {
     "duration": 0.02911,
     "end_time": "2021-04-04T22:39:12.588970",
     "exception": false,
     "start_time": "2021-04-04T22:39:12.559860",
     "status": "completed"
    },
    "tags": []
   },
   "source": [
    "# Report"
   ]
  },
  {
   "cell_type": "code",
   "execution_count": 28,
   "id": "bea5fba1",
   "metadata": {
    "execution": {
     "iopub.execute_input": "2021-04-04T22:39:12.651495Z",
     "iopub.status.busy": "2021-04-04T22:39:12.650544Z",
     "iopub.status.idle": "2021-04-04T22:39:12.652717Z",
     "shell.execute_reply": "2021-04-04T22:39:12.653462Z"
    },
    "papermill": {
     "duration": 0.034933,
     "end_time": "2021-04-04T22:39:12.653662",
     "exception": false,
     "start_time": "2021-04-04T22:39:12.618729",
     "status": "completed"
    },
    "tags": []
   },
   "outputs": [],
   "source": [
    "import csv\n",
    "\n",
    "\n",
    "dataset_config_name = DATASET_CONFIG_PATH.split('/')[-1].split('.')[0]\n",
    "model_config_name = MODEL_CONFIG_PATH.split('/')[-1].split('.')[0]\n",
    "configuration = f\"dataset_{dataset_config_name}-model_{model_config_name}\"\n",
    "\n",
    "with open('results.csv', 'a') as f:\n",
    "    report = dict({'configuration': configuration}, **score)\n",
    "    writer = csv.DictWriter(f, report.keys())\n",
    "    writer.writerow(report)"
   ]
  }
 ],
 "metadata": {
  "celltoolbar": "Tags",
  "kernelspec": {
   "display_name": "Python 3",
   "language": "python",
   "name": "python3"
  },
  "language_info": {
   "codemirror_mode": {
    "name": "ipython",
    "version": 3
   },
   "file_extension": ".py",
   "mimetype": "text/x-python",
   "name": "python",
   "nbconvert_exporter": "python",
   "pygments_lexer": "ipython3",
   "version": "3.9.1"
  },
  "papermill": {
   "default_parameters": {},
   "duration": 5.732513,
   "end_time": "2021-04-04T22:39:13.396972",
   "environment_variables": {},
   "exception": null,
   "input_path": "main.ipynb",
   "output_path": "runs/dataset_000032-model_000004.ipynb",
   "parameters": {
    "DATASET_CONFIG_PATH": "config/dataset/000032.json",
    "MODEL_CONFIG_PATH": "config/model/000004.json",
    "PROFILE_REPORTING": false
   },
   "start_time": "2021-04-04T22:39:07.664459",
   "version": "2.3.3"
  }
 },
 "nbformat": 4,
 "nbformat_minor": 5
}