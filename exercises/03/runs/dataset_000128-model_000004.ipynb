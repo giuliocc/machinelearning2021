{
 "cells": [
  {
   "cell_type": "markdown",
   "id": "51c71c25",
   "metadata": {
    "papermill": {
     "duration": 0.023026,
     "end_time": "2021-04-04T23:24:16.784113",
     "exception": false,
     "start_time": "2021-04-04T23:24:16.761087",
     "status": "completed"
    },
    "tags": []
   },
   "source": [
    "# Parametrizing"
   ]
  },
  {
   "cell_type": "code",
   "execution_count": 1,
   "id": "3b136394",
   "metadata": {
    "execution": {
     "iopub.execute_input": "2021-04-04T23:24:16.841789Z",
     "iopub.status.busy": "2021-04-04T23:24:16.840589Z",
     "iopub.status.idle": "2021-04-04T23:24:16.842821Z",
     "shell.execute_reply": "2021-04-04T23:24:16.843328Z"
    },
    "papermill": {
     "duration": 0.038106,
     "end_time": "2021-04-04T23:24:16.843604",
     "exception": false,
     "start_time": "2021-04-04T23:24:16.805498",
     "status": "completed"
    },
    "tags": [
     "parameters"
    ]
   },
   "outputs": [],
   "source": [
    "DATASET_CONFIG_PATH = 'config/dataset/kc1_001.json'\n",
    "MODEL_CONFIG_PATH = 'config/model/knndd_001.json'\n",
    "PROFILE_REPORTING = False"
   ]
  },
  {
   "cell_type": "code",
   "execution_count": 2,
   "id": "d07640cd",
   "metadata": {
    "execution": {
     "iopub.execute_input": "2021-04-04T23:24:16.890423Z",
     "iopub.status.busy": "2021-04-04T23:24:16.889639Z",
     "iopub.status.idle": "2021-04-04T23:24:16.891845Z",
     "shell.execute_reply": "2021-04-04T23:24:16.892384Z"
    },
    "papermill": {
     "duration": 0.028215,
     "end_time": "2021-04-04T23:24:16.892558",
     "exception": false,
     "start_time": "2021-04-04T23:24:16.864343",
     "status": "completed"
    },
    "tags": [
     "injected-parameters"
    ]
   },
   "outputs": [],
   "source": [
    "# Parameters\n",
    "DATASET_CONFIG_PATH = \"config/dataset/000128.json\"\n",
    "MODEL_CONFIG_PATH = \"config/model/000004.json\"\n",
    "PROFILE_REPORTING = False\n"
   ]
  },
  {
   "cell_type": "code",
   "execution_count": 3,
   "id": "b80f2a10",
   "metadata": {
    "execution": {
     "iopub.execute_input": "2021-04-04T23:24:16.947242Z",
     "iopub.status.busy": "2021-04-04T23:24:16.946487Z",
     "iopub.status.idle": "2021-04-04T23:24:16.949479Z",
     "shell.execute_reply": "2021-04-04T23:24:16.950034Z"
    },
    "papermill": {
     "duration": 0.036877,
     "end_time": "2021-04-04T23:24:16.950206",
     "exception": false,
     "start_time": "2021-04-04T23:24:16.913329",
     "status": "completed"
    },
    "tags": []
   },
   "outputs": [],
   "source": [
    "import json\n",
    "\n",
    "\n",
    "with open(DATASET_CONFIG_PATH) as f:\n",
    "    dataset_config = json.load(f)\n",
    "\n",
    "with open(MODEL_CONFIG_PATH) as f:\n",
    "    model_config = json.load(f)"
   ]
  },
  {
   "cell_type": "markdown",
   "id": "9a4b0e2d",
   "metadata": {
    "papermill": {
     "duration": 0.021422,
     "end_time": "2021-04-04T23:24:16.992730",
     "exception": false,
     "start_time": "2021-04-04T23:24:16.971308",
     "status": "completed"
    },
    "tags": []
   },
   "source": [
    "# Profiling"
   ]
  },
  {
   "cell_type": "code",
   "execution_count": 4,
   "id": "a3e0289b",
   "metadata": {
    "execution": {
     "iopub.execute_input": "2021-04-04T23:24:17.047314Z",
     "iopub.status.busy": "2021-04-04T23:24:17.046449Z",
     "iopub.status.idle": "2021-04-04T23:24:18.566897Z",
     "shell.execute_reply": "2021-04-04T23:24:18.567562Z"
    },
    "papermill": {
     "duration": 1.553445,
     "end_time": "2021-04-04T23:24:18.567765",
     "exception": false,
     "start_time": "2021-04-04T23:24:17.014320",
     "status": "completed"
    },
    "tags": []
   },
   "outputs": [],
   "source": [
    "import pandas as pd\n",
    "from pandas_profiling import ProfileReport"
   ]
  },
  {
   "cell_type": "code",
   "execution_count": 5,
   "id": "ee6c0666",
   "metadata": {
    "execution": {
     "iopub.execute_input": "2021-04-04T23:24:18.617475Z",
     "iopub.status.busy": "2021-04-04T23:24:18.616418Z",
     "iopub.status.idle": "2021-04-04T23:24:18.624855Z",
     "shell.execute_reply": "2021-04-04T23:24:18.625334Z"
    },
    "papermill": {
     "duration": 0.034315,
     "end_time": "2021-04-04T23:24:18.625482",
     "exception": false,
     "start_time": "2021-04-04T23:24:18.591167",
     "status": "completed"
    },
    "tags": []
   },
   "outputs": [],
   "source": [
    "df = pd.read_csv(dataset_config['dataset_path'])"
   ]
  },
  {
   "cell_type": "code",
   "execution_count": 6,
   "id": "7eca6c4a",
   "metadata": {
    "execution": {
     "iopub.execute_input": "2021-04-04T23:24:18.685492Z",
     "iopub.status.busy": "2021-04-04T23:24:18.684657Z",
     "iopub.status.idle": "2021-04-04T23:24:18.705176Z",
     "shell.execute_reply": "2021-04-04T23:24:18.704596Z"
    },
    "papermill": {
     "duration": 0.056595,
     "end_time": "2021-04-04T23:24:18.705309",
     "exception": false,
     "start_time": "2021-04-04T23:24:18.648714",
     "status": "completed"
    },
    "tags": []
   },
   "outputs": [
    {
     "name": "stdout",
     "output_type": "stream",
     "text": [
      "<class 'pandas.core.frame.DataFrame'>\n",
      "RangeIndex: 498 entries, 0 to 497\n",
      "Data columns (total 23 columns):\n",
      " #   Column             Non-Null Count  Dtype  \n",
      "---  ------             --------------  -----  \n",
      " 0   id                 498 non-null    int64  \n",
      " 1   loc                498 non-null    float64\n",
      " 2   v(g)               498 non-null    float64\n",
      " 3   ev(g)              498 non-null    float64\n",
      " 4   iv(g)              498 non-null    float64\n",
      " 5   n                  498 non-null    float64\n",
      " 6   v                  498 non-null    float64\n",
      " 7   l                  498 non-null    float64\n",
      " 8   d                  498 non-null    float64\n",
      " 9   i                  498 non-null    float64\n",
      " 10  e                  498 non-null    float64\n",
      " 11  b                  498 non-null    float64\n",
      " 12  t                  498 non-null    float64\n",
      " 13  lOCode             498 non-null    int64  \n",
      " 14  lOComment          498 non-null    int64  \n",
      " 15  lOBlank            498 non-null    int64  \n",
      " 16  locCodeAndComment  498 non-null    int64  \n",
      " 17  uniq_Op            498 non-null    float64\n",
      " 18  uniq_Opnd          498 non-null    float64\n",
      " 19  total_Op           498 non-null    float64\n",
      " 20  total_Opnd         498 non-null    float64\n",
      " 21  branchCount        498 non-null    float64\n",
      " 22  defects            498 non-null    bool   \n",
      "dtypes: bool(1), float64(17), int64(5)\n",
      "memory usage: 86.2 KB\n"
     ]
    }
   ],
   "source": [
    "df.info()"
   ]
  },
  {
   "cell_type": "code",
   "execution_count": 7,
   "id": "3638e5e8",
   "metadata": {
    "execution": {
     "iopub.execute_input": "2021-04-04T23:24:18.762284Z",
     "iopub.status.busy": "2021-04-04T23:24:18.761311Z",
     "iopub.status.idle": "2021-04-04T23:24:18.793125Z",
     "shell.execute_reply": "2021-04-04T23:24:18.792354Z"
    },
    "papermill": {
     "duration": 0.065275,
     "end_time": "2021-04-04T23:24:18.793292",
     "exception": false,
     "start_time": "2021-04-04T23:24:18.728017",
     "status": "completed"
    },
    "tags": []
   },
   "outputs": [
    {
     "data": {
      "text/html": [
       "<div>\n",
       "<style scoped>\n",
       "    .dataframe tbody tr th:only-of-type {\n",
       "        vertical-align: middle;\n",
       "    }\n",
       "\n",
       "    .dataframe tbody tr th {\n",
       "        vertical-align: top;\n",
       "    }\n",
       "\n",
       "    .dataframe thead th {\n",
       "        text-align: right;\n",
       "    }\n",
       "</style>\n",
       "<table border=\"1\" class=\"dataframe\">\n",
       "  <thead>\n",
       "    <tr style=\"text-align: right;\">\n",
       "      <th></th>\n",
       "      <th>id</th>\n",
       "      <th>loc</th>\n",
       "      <th>v(g)</th>\n",
       "      <th>ev(g)</th>\n",
       "      <th>iv(g)</th>\n",
       "      <th>n</th>\n",
       "      <th>v</th>\n",
       "      <th>l</th>\n",
       "      <th>d</th>\n",
       "      <th>i</th>\n",
       "      <th>...</th>\n",
       "      <th>lOCode</th>\n",
       "      <th>lOComment</th>\n",
       "      <th>lOBlank</th>\n",
       "      <th>locCodeAndComment</th>\n",
       "      <th>uniq_Op</th>\n",
       "      <th>uniq_Opnd</th>\n",
       "      <th>total_Op</th>\n",
       "      <th>total_Opnd</th>\n",
       "      <th>branchCount</th>\n",
       "      <th>defects</th>\n",
       "    </tr>\n",
       "  </thead>\n",
       "  <tbody>\n",
       "    <tr>\n",
       "      <th>0</th>\n",
       "      <td>1</td>\n",
       "      <td>1.1</td>\n",
       "      <td>1.4</td>\n",
       "      <td>1.4</td>\n",
       "      <td>1.4</td>\n",
       "      <td>1.3</td>\n",
       "      <td>1.30</td>\n",
       "      <td>1.30</td>\n",
       "      <td>1.30</td>\n",
       "      <td>1.30</td>\n",
       "      <td>...</td>\n",
       "      <td>2</td>\n",
       "      <td>2</td>\n",
       "      <td>2</td>\n",
       "      <td>2</td>\n",
       "      <td>1.2</td>\n",
       "      <td>1.2</td>\n",
       "      <td>1.2</td>\n",
       "      <td>1.2</td>\n",
       "      <td>1.4</td>\n",
       "      <td>False</td>\n",
       "    </tr>\n",
       "    <tr>\n",
       "      <th>1</th>\n",
       "      <td>2</td>\n",
       "      <td>1.0</td>\n",
       "      <td>1.0</td>\n",
       "      <td>1.0</td>\n",
       "      <td>1.0</td>\n",
       "      <td>1.0</td>\n",
       "      <td>1.00</td>\n",
       "      <td>1.00</td>\n",
       "      <td>1.00</td>\n",
       "      <td>1.00</td>\n",
       "      <td>...</td>\n",
       "      <td>1</td>\n",
       "      <td>1</td>\n",
       "      <td>1</td>\n",
       "      <td>1</td>\n",
       "      <td>1.0</td>\n",
       "      <td>1.0</td>\n",
       "      <td>1.0</td>\n",
       "      <td>1.0</td>\n",
       "      <td>1.0</td>\n",
       "      <td>True</td>\n",
       "    </tr>\n",
       "    <tr>\n",
       "      <th>2</th>\n",
       "      <td>3</td>\n",
       "      <td>24.0</td>\n",
       "      <td>5.0</td>\n",
       "      <td>1.0</td>\n",
       "      <td>3.0</td>\n",
       "      <td>63.0</td>\n",
       "      <td>309.13</td>\n",
       "      <td>0.11</td>\n",
       "      <td>9.50</td>\n",
       "      <td>32.54</td>\n",
       "      <td>...</td>\n",
       "      <td>1</td>\n",
       "      <td>0</td>\n",
       "      <td>6</td>\n",
       "      <td>0</td>\n",
       "      <td>15.0</td>\n",
       "      <td>15.0</td>\n",
       "      <td>44.0</td>\n",
       "      <td>19.0</td>\n",
       "      <td>9.0</td>\n",
       "      <td>False</td>\n",
       "    </tr>\n",
       "    <tr>\n",
       "      <th>3</th>\n",
       "      <td>4</td>\n",
       "      <td>20.0</td>\n",
       "      <td>4.0</td>\n",
       "      <td>4.0</td>\n",
       "      <td>2.0</td>\n",
       "      <td>47.0</td>\n",
       "      <td>215.49</td>\n",
       "      <td>0.06</td>\n",
       "      <td>16.00</td>\n",
       "      <td>13.47</td>\n",
       "      <td>...</td>\n",
       "      <td>0</td>\n",
       "      <td>0</td>\n",
       "      <td>3</td>\n",
       "      <td>0</td>\n",
       "      <td>16.0</td>\n",
       "      <td>8.0</td>\n",
       "      <td>31.0</td>\n",
       "      <td>16.0</td>\n",
       "      <td>7.0</td>\n",
       "      <td>False</td>\n",
       "    </tr>\n",
       "    <tr>\n",
       "      <th>4</th>\n",
       "      <td>5</td>\n",
       "      <td>24.0</td>\n",
       "      <td>6.0</td>\n",
       "      <td>6.0</td>\n",
       "      <td>2.0</td>\n",
       "      <td>72.0</td>\n",
       "      <td>346.13</td>\n",
       "      <td>0.06</td>\n",
       "      <td>17.33</td>\n",
       "      <td>19.97</td>\n",
       "      <td>...</td>\n",
       "      <td>0</td>\n",
       "      <td>0</td>\n",
       "      <td>3</td>\n",
       "      <td>0</td>\n",
       "      <td>16.0</td>\n",
       "      <td>12.0</td>\n",
       "      <td>46.0</td>\n",
       "      <td>26.0</td>\n",
       "      <td>11.0</td>\n",
       "      <td>False</td>\n",
       "    </tr>\n",
       "  </tbody>\n",
       "</table>\n",
       "<p>5 rows × 23 columns</p>\n",
       "</div>"
      ],
      "text/plain": [
       "   id   loc  v(g)  ev(g)  iv(g)     n       v     l      d      i  ...  \\\n",
       "0   1   1.1   1.4    1.4    1.4   1.3    1.30  1.30   1.30   1.30  ...   \n",
       "1   2   1.0   1.0    1.0    1.0   1.0    1.00  1.00   1.00   1.00  ...   \n",
       "2   3  24.0   5.0    1.0    3.0  63.0  309.13  0.11   9.50  32.54  ...   \n",
       "3   4  20.0   4.0    4.0    2.0  47.0  215.49  0.06  16.00  13.47  ...   \n",
       "4   5  24.0   6.0    6.0    2.0  72.0  346.13  0.06  17.33  19.97  ...   \n",
       "\n",
       "   lOCode  lOComment  lOBlank  locCodeAndComment  uniq_Op  uniq_Opnd  \\\n",
       "0       2          2        2                  2      1.2        1.2   \n",
       "1       1          1        1                  1      1.0        1.0   \n",
       "2       1          0        6                  0     15.0       15.0   \n",
       "3       0          0        3                  0     16.0        8.0   \n",
       "4       0          0        3                  0     16.0       12.0   \n",
       "\n",
       "   total_Op  total_Opnd  branchCount  defects  \n",
       "0       1.2         1.2          1.4    False  \n",
       "1       1.0         1.0          1.0     True  \n",
       "2      44.0        19.0          9.0    False  \n",
       "3      31.0        16.0          7.0    False  \n",
       "4      46.0        26.0         11.0    False  \n",
       "\n",
       "[5 rows x 23 columns]"
      ]
     },
     "execution_count": 7,
     "metadata": {},
     "output_type": "execute_result"
    }
   ],
   "source": [
    "df.head()"
   ]
  },
  {
   "cell_type": "code",
   "execution_count": 8,
   "id": "733e95eb",
   "metadata": {
    "execution": {
     "iopub.execute_input": "2021-04-04T23:24:18.850419Z",
     "iopub.status.busy": "2021-04-04T23:24:18.849718Z",
     "iopub.status.idle": "2021-04-04T23:24:18.853325Z",
     "shell.execute_reply": "2021-04-04T23:24:18.852505Z"
    },
    "papermill": {
     "duration": 0.036863,
     "end_time": "2021-04-04T23:24:18.853475",
     "exception": false,
     "start_time": "2021-04-04T23:24:18.816612",
     "status": "completed"
    },
    "tags": []
   },
   "outputs": [],
   "source": [
    "del df['id']"
   ]
  },
  {
   "cell_type": "code",
   "execution_count": 9,
   "id": "6ff6f5b0",
   "metadata": {
    "execution": {
     "iopub.execute_input": "2021-04-04T23:24:18.905071Z",
     "iopub.status.busy": "2021-04-04T23:24:18.904355Z",
     "iopub.status.idle": "2021-04-04T23:24:18.906145Z",
     "shell.execute_reply": "2021-04-04T23:24:18.906613Z"
    },
    "papermill": {
     "duration": 0.031076,
     "end_time": "2021-04-04T23:24:18.906799",
     "exception": false,
     "start_time": "2021-04-04T23:24:18.875723",
     "status": "completed"
    },
    "tags": []
   },
   "outputs": [],
   "source": [
    "if PROFILE_REPORTING:\n",
    "    ProfileReport(df).to_widgets()"
   ]
  },
  {
   "cell_type": "markdown",
   "id": "1deaf3f0",
   "metadata": {
    "papermill": {
     "duration": 0.027118,
     "end_time": "2021-04-04T23:24:18.955608",
     "exception": false,
     "start_time": "2021-04-04T23:24:18.928490",
     "status": "completed"
    },
    "tags": []
   },
   "source": [
    "# Preprocess"
   ]
  },
  {
   "cell_type": "code",
   "execution_count": 10,
   "id": "1513e563",
   "metadata": {
    "execution": {
     "iopub.execute_input": "2021-04-04T23:24:19.010938Z",
     "iopub.status.busy": "2021-04-04T23:24:19.010213Z",
     "iopub.status.idle": "2021-04-04T23:24:19.012743Z",
     "shell.execute_reply": "2021-04-04T23:24:19.013312Z"
    },
    "papermill": {
     "duration": 0.033154,
     "end_time": "2021-04-04T23:24:19.013572",
     "exception": false,
     "start_time": "2021-04-04T23:24:18.980418",
     "status": "completed"
    },
    "tags": []
   },
   "outputs": [],
   "source": [
    "working_df = df.copy()"
   ]
  },
  {
   "cell_type": "code",
   "execution_count": 11,
   "id": "3b26d675",
   "metadata": {
    "execution": {
     "iopub.execute_input": "2021-04-04T23:24:19.076643Z",
     "iopub.status.busy": "2021-04-04T23:24:19.072416Z",
     "iopub.status.idle": "2021-04-04T23:24:19.079615Z",
     "shell.execute_reply": "2021-04-04T23:24:19.079045Z"
    },
    "papermill": {
     "duration": 0.043135,
     "end_time": "2021-04-04T23:24:19.079750",
     "exception": false,
     "start_time": "2021-04-04T23:24:19.036615",
     "status": "completed"
    },
    "tags": []
   },
   "outputs": [],
   "source": [
    "working_df['defects'] = working_df['defects'].replace([False, True], [0, 1])"
   ]
  },
  {
   "cell_type": "code",
   "execution_count": 12,
   "id": "eb48604f",
   "metadata": {
    "execution": {
     "iopub.execute_input": "2021-04-04T23:24:19.133952Z",
     "iopub.status.busy": "2021-04-04T23:24:19.133412Z",
     "iopub.status.idle": "2021-04-04T23:24:19.137469Z",
     "shell.execute_reply": "2021-04-04T23:24:19.136649Z"
    },
    "papermill": {
     "duration": 0.03011,
     "end_time": "2021-04-04T23:24:19.137592",
     "exception": false,
     "start_time": "2021-04-04T23:24:19.107482",
     "status": "completed"
    },
    "tags": []
   },
   "outputs": [],
   "source": [
    "for col in dataset_config['delete_columns']:\n",
    "    del working_df[col]"
   ]
  },
  {
   "cell_type": "code",
   "execution_count": 13,
   "id": "9a17bc29",
   "metadata": {
    "execution": {
     "iopub.execute_input": "2021-04-04T23:24:19.202091Z",
     "iopub.status.busy": "2021-04-04T23:24:19.201322Z",
     "iopub.status.idle": "2021-04-04T23:24:19.211390Z",
     "shell.execute_reply": "2021-04-04T23:24:19.212337Z"
    },
    "papermill": {
     "duration": 0.049996,
     "end_time": "2021-04-04T23:24:19.212780",
     "exception": false,
     "start_time": "2021-04-04T23:24:19.162784",
     "status": "completed"
    },
    "tags": []
   },
   "outputs": [],
   "source": [
    "working_df = working_df.drop_duplicates()"
   ]
  },
  {
   "cell_type": "markdown",
   "id": "a4d52ca6",
   "metadata": {
    "papermill": {
     "duration": 0.023874,
     "end_time": "2021-04-04T23:24:19.259694",
     "exception": false,
     "start_time": "2021-04-04T23:24:19.235820",
     "status": "completed"
    },
    "tags": []
   },
   "source": [
    "# Split"
   ]
  },
  {
   "cell_type": "code",
   "execution_count": 14,
   "id": "3e9ee4b5",
   "metadata": {
    "execution": {
     "iopub.execute_input": "2021-04-04T23:24:19.314730Z",
     "iopub.status.busy": "2021-04-04T23:24:19.313737Z",
     "iopub.status.idle": "2021-04-04T23:24:19.344913Z",
     "shell.execute_reply": "2021-04-04T23:24:19.345862Z"
    },
    "papermill": {
     "duration": 0.063399,
     "end_time": "2021-04-04T23:24:19.346131",
     "exception": false,
     "start_time": "2021-04-04T23:24:19.282732",
     "status": "completed"
    },
    "tags": []
   },
   "outputs": [],
   "source": [
    "from sklearn.model_selection import train_test_split"
   ]
  },
  {
   "cell_type": "code",
   "execution_count": 15,
   "id": "274004ce",
   "metadata": {
    "execution": {
     "iopub.execute_input": "2021-04-04T23:24:19.413832Z",
     "iopub.status.busy": "2021-04-04T23:24:19.412593Z",
     "iopub.status.idle": "2021-04-04T23:24:19.421752Z",
     "shell.execute_reply": "2021-04-04T23:24:19.420796Z"
    },
    "papermill": {
     "duration": 0.041657,
     "end_time": "2021-04-04T23:24:19.421887",
     "exception": false,
     "start_time": "2021-04-04T23:24:19.380230",
     "status": "completed"
    },
    "scrolled": true,
    "tags": []
   },
   "outputs": [],
   "source": [
    "inlier, outlier = working_df[working_df['defects'] == 0], working_df[working_df['defects'] == 1]"
   ]
  },
  {
   "cell_type": "code",
   "execution_count": 16,
   "id": "753c7b03",
   "metadata": {
    "execution": {
     "iopub.execute_input": "2021-04-04T23:24:19.481713Z",
     "iopub.status.busy": "2021-04-04T23:24:19.480611Z",
     "iopub.status.idle": "2021-04-04T23:24:19.484121Z",
     "shell.execute_reply": "2021-04-04T23:24:19.483099Z"
    },
    "papermill": {
     "duration": 0.040006,
     "end_time": "2021-04-04T23:24:19.484289",
     "exception": false,
     "start_time": "2021-04-04T23:24:19.444283",
     "status": "completed"
    },
    "tags": []
   },
   "outputs": [],
   "source": [
    "X_inlier = inlier.copy()\n",
    "y_inlier = X_inlier.pop('defects')\n",
    "X_outlier = outlier.copy()\n",
    "y_outlier = X_outlier.pop('defects')"
   ]
  },
  {
   "cell_type": "code",
   "execution_count": 17,
   "id": "2ba43193",
   "metadata": {
    "execution": {
     "iopub.execute_input": "2021-04-04T23:24:19.539245Z",
     "iopub.status.busy": "2021-04-04T23:24:19.537617Z",
     "iopub.status.idle": "2021-04-04T23:24:19.542031Z",
     "shell.execute_reply": "2021-04-04T23:24:19.541238Z"
    },
    "papermill": {
     "duration": 0.032294,
     "end_time": "2021-04-04T23:24:19.542163",
     "exception": false,
     "start_time": "2021-04-04T23:24:19.509869",
     "status": "completed"
    },
    "tags": []
   },
   "outputs": [],
   "source": [
    "test_size = dataset_config['test_size']\n",
    "random_state = dataset_config['random_state']\n",
    "\n",
    "X_inlier_train, X_inlier_test, y_inlier_train, y_inlier_test = train_test_split(\n",
    "    X_inlier,\n",
    "    y_inlier,\n",
    "    test_size=test_size,\n",
    "    random_state=random_state\n",
    ")"
   ]
  },
  {
   "cell_type": "code",
   "execution_count": 18,
   "id": "0b7582ca",
   "metadata": {
    "execution": {
     "iopub.execute_input": "2021-04-04T23:24:19.606379Z",
     "iopub.status.busy": "2021-04-04T23:24:19.605619Z",
     "iopub.status.idle": "2021-04-04T23:24:19.609880Z",
     "shell.execute_reply": "2021-04-04T23:24:19.608941Z"
    },
    "papermill": {
     "duration": 0.044553,
     "end_time": "2021-04-04T23:24:19.610017",
     "exception": false,
     "start_time": "2021-04-04T23:24:19.565464",
     "status": "completed"
    },
    "tags": []
   },
   "outputs": [],
   "source": [
    "test_outlier_size = dataset_config['test_outlier_size']\n",
    "if test_outlier_size > 0.0:\n",
    "    X_outlier_train, X_outlier_test, y_outlier_train, y_outlier_test = train_test_split(\n",
    "        X_outlier,\n",
    "        y_outlier,\n",
    "        test_size=test_outlier_size,\n",
    "        random_state=random_state\n",
    "    )\n",
    "else:\n",
    "    X_outlier_train, y_outlier_train = pd.DataFrame(columns=X_outlier.columns), pd.Series(dtype='int64')\n",
    "    X_outlier_test, y_outlier_test = X_outlier.copy(), y_outlier.copy()"
   ]
  },
  {
   "cell_type": "code",
   "execution_count": 19,
   "id": "c34363db",
   "metadata": {
    "execution": {
     "iopub.execute_input": "2021-04-04T23:24:19.672054Z",
     "iopub.status.busy": "2021-04-04T23:24:19.670835Z",
     "iopub.status.idle": "2021-04-04T23:24:19.674198Z",
     "shell.execute_reply": "2021-04-04T23:24:19.674738Z"
    },
    "papermill": {
     "duration": 0.039725,
     "end_time": "2021-04-04T23:24:19.674938",
     "exception": false,
     "start_time": "2021-04-04T23:24:19.635213",
     "status": "completed"
    },
    "tags": []
   },
   "outputs": [],
   "source": [
    "X_train, y_train = pd.concat([X_inlier_train, X_outlier_train], ignore_index=True), pd.concat([y_inlier_train, y_outlier_train], ignore_index=True)\n",
    "X_test, y_test = pd.concat([X_inlier_test, X_outlier_test], ignore_index=True), pd.concat([y_inlier_test, y_outlier_test], ignore_index=True)"
   ]
  },
  {
   "cell_type": "markdown",
   "id": "7cde7309",
   "metadata": {
    "papermill": {
     "duration": 0.02673,
     "end_time": "2021-04-04T23:24:19.729426",
     "exception": false,
     "start_time": "2021-04-04T23:24:19.702696",
     "status": "completed"
    },
    "tags": []
   },
   "source": [
    "# Model"
   ]
  },
  {
   "cell_type": "code",
   "execution_count": 20,
   "id": "2b12a415",
   "metadata": {
    "execution": {
     "iopub.execute_input": "2021-04-04T23:24:19.792652Z",
     "iopub.status.busy": "2021-04-04T23:24:19.791771Z",
     "iopub.status.idle": "2021-04-04T23:24:19.794382Z",
     "shell.execute_reply": "2021-04-04T23:24:19.793801Z"
    },
    "papermill": {
     "duration": 0.038935,
     "end_time": "2021-04-04T23:24:19.794500",
     "exception": false,
     "start_time": "2021-04-04T23:24:19.755565",
     "status": "completed"
    },
    "tags": []
   },
   "outputs": [],
   "source": [
    "from math import sqrt\n",
    "\n",
    "\n",
    "class KNNDataDescription:\n",
    "    def __init__(self, k=5, outlier_threshold=1.0):\n",
    "        self.k = k\n",
    "        self.outlier_threshold = outlier_threshold\n",
    "        self.X = []\n",
    "    \n",
    "    def fit(self, X):\n",
    "        self.X = [features.to_list() for index, features in X.iterrows()]\n",
    "\n",
    "    def predict(self, entries):\n",
    "        return [self.predict_entry(features.to_list()) for index, features in entries.iterrows()]\n",
    "    \n",
    "    def predict_entry(self, entry):\n",
    "        kth_neighbor, kth_distance = self.get_kth_neighbor(entry, self.k)\n",
    "        kth_kth_neighbor, kth_kth_distance = self.get_kth_neighbor(kth_neighbor, self.k + 1)\n",
    "\n",
    "        outlier_score = kth_distance / (kth_kth_distance + 0.000001)\n",
    "\n",
    "        return 1 if outlier_score < self.outlier_threshold else -1\n",
    "        \n",
    "    def euclidean_distance(self, features1, features2):\n",
    "        distance = 0.0\n",
    "        for feat1, feat2 in zip(features1, features2):\n",
    "            distance += (feat1 - feat2)**2\n",
    "                \n",
    "        return sqrt(distance)\n",
    "\n",
    "    def get_neighbors(self, entry, k):\n",
    "        distance_to_data_points = [\n",
    "            (data_point, self.euclidean_distance(entry, data_point))\n",
    "            for data_point in self.X\n",
    "        ]\n",
    "        sorted_by_distance = sorted(distance_to_data_points, key=lambda tup: tup[1])\n",
    "        neighbors = sorted_by_distance[:k]\n",
    "        return neighbors\n",
    "\n",
    "    def get_kth_neighbor(self, entry, k):\n",
    "        neighbors = self.get_neighbors(entry, k)\n",
    "        return neighbors[-1]\n"
   ]
  },
  {
   "cell_type": "code",
   "execution_count": 21,
   "id": "1fa9ec1c",
   "metadata": {
    "execution": {
     "iopub.execute_input": "2021-04-04T23:24:19.853580Z",
     "iopub.status.busy": "2021-04-04T23:24:19.851528Z",
     "iopub.status.idle": "2021-04-04T23:24:19.878337Z",
     "shell.execute_reply": "2021-04-04T23:24:19.878890Z"
    },
    "papermill": {
     "duration": 0.060897,
     "end_time": "2021-04-04T23:24:19.879059",
     "exception": false,
     "start_time": "2021-04-04T23:24:19.818162",
     "status": "completed"
    },
    "tags": []
   },
   "outputs": [],
   "source": [
    "from sklearn.svm import OneClassSVM\n",
    "\n",
    "\n",
    "models = {\n",
    "    'oneclasssvm': OneClassSVM,\n",
    "    'knndatadescription': KNNDataDescription,\n",
    "}"
   ]
  },
  {
   "cell_type": "code",
   "execution_count": 22,
   "id": "4d72a0b1",
   "metadata": {
    "execution": {
     "iopub.execute_input": "2021-04-04T23:24:19.934045Z",
     "iopub.status.busy": "2021-04-04T23:24:19.933195Z",
     "iopub.status.idle": "2021-04-04T23:24:19.935344Z",
     "shell.execute_reply": "2021-04-04T23:24:19.935833Z"
    },
    "papermill": {
     "duration": 0.033565,
     "end_time": "2021-04-04T23:24:19.936035",
     "exception": false,
     "start_time": "2021-04-04T23:24:19.902470",
     "status": "completed"
    },
    "scrolled": true,
    "tags": []
   },
   "outputs": [],
   "source": [
    "model_cls = models[model_config['model_type']]\n",
    "model = model_cls(**model_config['hyperparameters'])"
   ]
  },
  {
   "cell_type": "markdown",
   "id": "e00cff3b",
   "metadata": {
    "papermill": {
     "duration": 0.031951,
     "end_time": "2021-04-04T23:24:19.991762",
     "exception": false,
     "start_time": "2021-04-04T23:24:19.959811",
     "status": "completed"
    },
    "tags": []
   },
   "source": [
    "# Fit"
   ]
  },
  {
   "cell_type": "code",
   "execution_count": 23,
   "id": "8b2ded89",
   "metadata": {
    "execution": {
     "iopub.execute_input": "2021-04-04T23:24:20.048282Z",
     "iopub.status.busy": "2021-04-04T23:24:20.046136Z",
     "iopub.status.idle": "2021-04-04T23:24:20.057861Z",
     "shell.execute_reply": "2021-04-04T23:24:20.058337Z"
    },
    "papermill": {
     "duration": 0.042068,
     "end_time": "2021-04-04T23:24:20.058519",
     "exception": false,
     "start_time": "2021-04-04T23:24:20.016451",
     "status": "completed"
    },
    "tags": []
   },
   "outputs": [
    {
     "data": {
      "text/plain": [
       "OneClassSVM()"
      ]
     },
     "execution_count": 23,
     "metadata": {},
     "output_type": "execute_result"
    }
   ],
   "source": [
    "model.fit(X_train)"
   ]
  },
  {
   "cell_type": "markdown",
   "id": "f99999f7",
   "metadata": {
    "papermill": {
     "duration": 0.027888,
     "end_time": "2021-04-04T23:24:20.117729",
     "exception": false,
     "start_time": "2021-04-04T23:24:20.089841",
     "status": "completed"
    },
    "tags": []
   },
   "source": [
    "# Predict"
   ]
  },
  {
   "cell_type": "code",
   "execution_count": 24,
   "id": "6536fbf7",
   "metadata": {
    "execution": {
     "iopub.execute_input": "2021-04-04T23:24:20.177657Z",
     "iopub.status.busy": "2021-04-04T23:24:20.175741Z",
     "iopub.status.idle": "2021-04-04T23:24:20.181759Z",
     "shell.execute_reply": "2021-04-04T23:24:20.182230Z"
    },
    "papermill": {
     "duration": 0.035983,
     "end_time": "2021-04-04T23:24:20.182376",
     "exception": false,
     "start_time": "2021-04-04T23:24:20.146393",
     "status": "completed"
    },
    "tags": []
   },
   "outputs": [],
   "source": [
    "predictions = model.predict(X_test)"
   ]
  },
  {
   "cell_type": "markdown",
   "id": "aa1c9881",
   "metadata": {
    "papermill": {
     "duration": 0.027763,
     "end_time": "2021-04-04T23:24:20.237036",
     "exception": false,
     "start_time": "2021-04-04T23:24:20.209273",
     "status": "completed"
    },
    "tags": []
   },
   "source": [
    "# Evaluate"
   ]
  },
  {
   "cell_type": "code",
   "execution_count": 25,
   "id": "894f0f04",
   "metadata": {
    "execution": {
     "iopub.execute_input": "2021-04-04T23:24:20.294389Z",
     "iopub.status.busy": "2021-04-04T23:24:20.293298Z",
     "iopub.status.idle": "2021-04-04T23:24:20.295845Z",
     "shell.execute_reply": "2021-04-04T23:24:20.296396Z"
    },
    "papermill": {
     "duration": 0.033469,
     "end_time": "2021-04-04T23:24:20.296566",
     "exception": false,
     "start_time": "2021-04-04T23:24:20.263097",
     "status": "completed"
    },
    "tags": []
   },
   "outputs": [],
   "source": [
    "from sklearn.metrics import f1_score"
   ]
  },
  {
   "cell_type": "code",
   "execution_count": 26,
   "id": "211744d3",
   "metadata": {
    "execution": {
     "iopub.execute_input": "2021-04-04T23:24:20.362759Z",
     "iopub.status.busy": "2021-04-04T23:24:20.361662Z",
     "iopub.status.idle": "2021-04-04T23:24:20.364921Z",
     "shell.execute_reply": "2021-04-04T23:24:20.364311Z"
    },
    "papermill": {
     "duration": 0.04323,
     "end_time": "2021-04-04T23:24:20.365075",
     "exception": false,
     "start_time": "2021-04-04T23:24:20.321845",
     "status": "completed"
    },
    "tags": []
   },
   "outputs": [],
   "source": [
    "y_test = y_test.replace([0, 1], [1, -1])"
   ]
  },
  {
   "cell_type": "code",
   "execution_count": 27,
   "id": "d68a9204",
   "metadata": {
    "execution": {
     "iopub.execute_input": "2021-04-04T23:24:20.435095Z",
     "iopub.status.busy": "2021-04-04T23:24:20.434357Z",
     "iopub.status.idle": "2021-04-04T23:24:20.436341Z",
     "shell.execute_reply": "2021-04-04T23:24:20.437610Z"
    },
    "papermill": {
     "duration": 0.036991,
     "end_time": "2021-04-04T23:24:20.438029",
     "exception": false,
     "start_time": "2021-04-04T23:24:20.401038",
     "status": "completed"
    },
    "tags": []
   },
   "outputs": [],
   "source": [
    "def evaluate(truths, predictions, pos_label, neg_label):\n",
    "    TP = 0\n",
    "    FP = 0\n",
    "    TN = 0\n",
    "    FN = 0\n",
    "\n",
    "    for truth, pred in zip(truths, predictions): \n",
    "        if truth == pred == pos_label:\n",
    "           TP += 1\n",
    "        elif pred == pos_label and truth == neg_label:\n",
    "           FP += 1\n",
    "        elif truth == pred == neg_label:\n",
    "           TN += 1\n",
    "        elif pred == neg_label and truth == pos_label:\n",
    "           FN += 1\n",
    "\n",
    "    precision = TP / (TP + FP)\n",
    "    sensitivity = TP / (TP + FN)\n",
    "    \n",
    "    return {\n",
    "        'true_pos': TP,\n",
    "        'false_pos': FP,\n",
    "        'false_neg': FN,\n",
    "        'true_neg': TN,\n",
    "        'precision': precision,\n",
    "        'sensitivity': sensitivity,\n",
    "        'f1': (2 * (precision * sensitivity)) / (precision + sensitivity)\n",
    "    }\n",
    "\n",
    "score = evaluate(y_test, predictions, pos_label=-1, neg_label=1)"
   ]
  },
  {
   "cell_type": "markdown",
   "id": "93596516",
   "metadata": {
    "papermill": {
     "duration": 0.030857,
     "end_time": "2021-04-04T23:24:20.494451",
     "exception": false,
     "start_time": "2021-04-04T23:24:20.463594",
     "status": "completed"
    },
    "tags": []
   },
   "source": [
    "# Report"
   ]
  },
  {
   "cell_type": "code",
   "execution_count": 28,
   "id": "bea5fba1",
   "metadata": {
    "execution": {
     "iopub.execute_input": "2021-04-04T23:24:20.552546Z",
     "iopub.status.busy": "2021-04-04T23:24:20.551943Z",
     "iopub.status.idle": "2021-04-04T23:24:20.554422Z",
     "shell.execute_reply": "2021-04-04T23:24:20.554908Z"
    },
    "papermill": {
     "duration": 0.036076,
     "end_time": "2021-04-04T23:24:20.555051",
     "exception": false,
     "start_time": "2021-04-04T23:24:20.518975",
     "status": "completed"
    },
    "tags": []
   },
   "outputs": [],
   "source": [
    "import csv\n",
    "\n",
    "\n",
    "dataset_config_name = DATASET_CONFIG_PATH.split('/')[-1].split('.')[0]\n",
    "model_config_name = MODEL_CONFIG_PATH.split('/')[-1].split('.')[0]\n",
    "configuration = f\"dataset_{dataset_config_name}-model_{model_config_name}\"\n",
    "\n",
    "with open('results.csv', 'a') as f:\n",
    "    report = dict({'configuration': configuration}, **score)\n",
    "    writer = csv.DictWriter(f, report.keys())\n",
    "    writer.writerow(report)"
   ]
  }
 ],
 "metadata": {
  "celltoolbar": "Tags",
  "kernelspec": {
   "display_name": "Python 3",
   "language": "python",
   "name": "python3"
  },
  "language_info": {
   "codemirror_mode": {
    "name": "ipython",
    "version": 3
   },
   "file_extension": ".py",
   "mimetype": "text/x-python",
   "name": "python",
   "nbconvert_exporter": "python",
   "pygments_lexer": "ipython3",
   "version": "3.9.1"
  },
  "papermill": {
   "default_parameters": {},
   "duration": 6.078057,
   "end_time": "2021-04-04T23:24:21.815760",
   "environment_variables": {},
   "exception": null,
   "input_path": "main.ipynb",
   "output_path": "runs/dataset_000128-model_000004.ipynb",
   "parameters": {
    "DATASET_CONFIG_PATH": "config/dataset/000128.json",
    "MODEL_CONFIG_PATH": "config/model/000004.json",
    "PROFILE_REPORTING": false
   },
   "start_time": "2021-04-04T23:24:15.737703",
   "version": "2.3.3"
  }
 },
 "nbformat": 4,
 "nbformat_minor": 5
}