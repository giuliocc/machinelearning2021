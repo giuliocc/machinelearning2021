{
 "cells": [
  {
   "cell_type": "markdown",
   "id": "51c71c25",
   "metadata": {
    "papermill": {
     "duration": 0.021203,
     "end_time": "2021-04-04T22:34:59.510425",
     "exception": false,
     "start_time": "2021-04-04T22:34:59.489222",
     "status": "completed"
    },
    "tags": []
   },
   "source": [
    "# Parametrizing"
   ]
  },
  {
   "cell_type": "code",
   "execution_count": 1,
   "id": "3b136394",
   "metadata": {
    "execution": {
     "iopub.execute_input": "2021-04-04T22:34:59.571785Z",
     "iopub.status.busy": "2021-04-04T22:34:59.570174Z",
     "iopub.status.idle": "2021-04-04T22:34:59.572895Z",
     "shell.execute_reply": "2021-04-04T22:34:59.573648Z"
    },
    "papermill": {
     "duration": 0.04258,
     "end_time": "2021-04-04T22:34:59.573917",
     "exception": false,
     "start_time": "2021-04-04T22:34:59.531337",
     "status": "completed"
    },
    "tags": [
     "parameters"
    ]
   },
   "outputs": [],
   "source": [
    "DATASET_CONFIG_PATH = 'config/dataset/kc1_001.json'\n",
    "MODEL_CONFIG_PATH = 'config/model/knndd_001.json'\n",
    "PROFILE_REPORTING = False"
   ]
  },
  {
   "cell_type": "code",
   "execution_count": 2,
   "id": "bcdde43d",
   "metadata": {
    "execution": {
     "iopub.execute_input": "2021-04-04T22:34:59.619542Z",
     "iopub.status.busy": "2021-04-04T22:34:59.618950Z",
     "iopub.status.idle": "2021-04-04T22:34:59.620937Z",
     "shell.execute_reply": "2021-04-04T22:34:59.621446Z"
    },
    "papermill": {
     "duration": 0.025104,
     "end_time": "2021-04-04T22:34:59.621609",
     "exception": false,
     "start_time": "2021-04-04T22:34:59.596505",
     "status": "completed"
    },
    "tags": [
     "injected-parameters"
    ]
   },
   "outputs": [],
   "source": [
    "# Parameters\n",
    "DATASET_CONFIG_PATH = \"config/dataset/000025.json\"\n",
    "MODEL_CONFIG_PATH = \"config/model/000004.json\"\n",
    "PROFILE_REPORTING = False\n"
   ]
  },
  {
   "cell_type": "code",
   "execution_count": 3,
   "id": "b80f2a10",
   "metadata": {
    "execution": {
     "iopub.execute_input": "2021-04-04T22:34:59.675282Z",
     "iopub.status.busy": "2021-04-04T22:34:59.674006Z",
     "iopub.status.idle": "2021-04-04T22:34:59.676758Z",
     "shell.execute_reply": "2021-04-04T22:34:59.677582Z"
    },
    "papermill": {
     "duration": 0.033752,
     "end_time": "2021-04-04T22:34:59.677948",
     "exception": false,
     "start_time": "2021-04-04T22:34:59.644196",
     "status": "completed"
    },
    "tags": []
   },
   "outputs": [],
   "source": [
    "import json\n",
    "\n",
    "\n",
    "with open(DATASET_CONFIG_PATH) as f:\n",
    "    dataset_config = json.load(f)\n",
    "\n",
    "with open(MODEL_CONFIG_PATH) as f:\n",
    "    model_config = json.load(f)"
   ]
  },
  {
   "cell_type": "markdown",
   "id": "9a4b0e2d",
   "metadata": {
    "papermill": {
     "duration": 0.019109,
     "end_time": "2021-04-04T22:34:59.721203",
     "exception": false,
     "start_time": "2021-04-04T22:34:59.702094",
     "status": "completed"
    },
    "tags": []
   },
   "source": [
    "# Profiling"
   ]
  },
  {
   "cell_type": "code",
   "execution_count": 4,
   "id": "a3e0289b",
   "metadata": {
    "execution": {
     "iopub.execute_input": "2021-04-04T22:34:59.775933Z",
     "iopub.status.busy": "2021-04-04T22:34:59.773468Z",
     "iopub.status.idle": "2021-04-04T22:35:01.223539Z",
     "shell.execute_reply": "2021-04-04T22:35:01.222660Z"
    },
    "papermill": {
     "duration": 1.476824,
     "end_time": "2021-04-04T22:35:01.223701",
     "exception": false,
     "start_time": "2021-04-04T22:34:59.746877",
     "status": "completed"
    },
    "tags": []
   },
   "outputs": [],
   "source": [
    "import pandas as pd\n",
    "from pandas_profiling import ProfileReport"
   ]
  },
  {
   "cell_type": "code",
   "execution_count": 5,
   "id": "ee6c0666",
   "metadata": {
    "execution": {
     "iopub.execute_input": "2021-04-04T22:35:01.274649Z",
     "iopub.status.busy": "2021-04-04T22:35:01.273792Z",
     "iopub.status.idle": "2021-04-04T22:35:01.287859Z",
     "shell.execute_reply": "2021-04-04T22:35:01.287322Z"
    },
    "papermill": {
     "duration": 0.040813,
     "end_time": "2021-04-04T22:35:01.287983",
     "exception": false,
     "start_time": "2021-04-04T22:35:01.247170",
     "status": "completed"
    },
    "tags": []
   },
   "outputs": [],
   "source": [
    "df = pd.read_csv(dataset_config['dataset_path'])"
   ]
  },
  {
   "cell_type": "code",
   "execution_count": 6,
   "id": "7eca6c4a",
   "metadata": {
    "execution": {
     "iopub.execute_input": "2021-04-04T22:35:01.345994Z",
     "iopub.status.busy": "2021-04-04T22:35:01.343568Z",
     "iopub.status.idle": "2021-04-04T22:35:01.369310Z",
     "shell.execute_reply": "2021-04-04T22:35:01.368748Z"
    },
    "papermill": {
     "duration": 0.059755,
     "end_time": "2021-04-04T22:35:01.369462",
     "exception": false,
     "start_time": "2021-04-04T22:35:01.309707",
     "status": "completed"
    },
    "tags": []
   },
   "outputs": [
    {
     "name": "stdout",
     "output_type": "stream",
     "text": [
      "<class 'pandas.core.frame.DataFrame'>\n",
      "RangeIndex: 2109 entries, 0 to 2108\n",
      "Data columns (total 23 columns):\n",
      " #   Column             Non-Null Count  Dtype  \n",
      "---  ------             --------------  -----  \n",
      " 0   id                 2109 non-null   int64  \n",
      " 1   loc                2109 non-null   float64\n",
      " 2   v(g)               2109 non-null   float64\n",
      " 3   ev(g)              2109 non-null   float64\n",
      " 4   iv(g)              2109 non-null   float64\n",
      " 5   n                  2109 non-null   float64\n",
      " 6   v                  2109 non-null   float64\n",
      " 7   l                  2109 non-null   float64\n",
      " 8   d                  2109 non-null   float64\n",
      " 9   i                  2109 non-null   float64\n",
      " 10  e                  2109 non-null   float64\n",
      " 11  b                  2109 non-null   float64\n",
      " 12  t                  2109 non-null   float64\n",
      " 13  lOCode             2109 non-null   int64  \n",
      " 14  lOComment          2109 non-null   int64  \n",
      " 15  lOBlank            2109 non-null   int64  \n",
      " 16  locCodeAndComment  2109 non-null   int64  \n",
      " 17  uniq_Op            2109 non-null   float64\n",
      " 18  uniq_Opnd          2109 non-null   float64\n",
      " 19  total_Op           2109 non-null   float64\n",
      " 20  total_Opnd         2109 non-null   float64\n",
      " 21  branchCount        2109 non-null   float64\n",
      " 22  defects            2109 non-null   bool   \n",
      "dtypes: bool(1), float64(17), int64(5)\n",
      "memory usage: 364.7 KB\n"
     ]
    }
   ],
   "source": [
    "df.info()"
   ]
  },
  {
   "cell_type": "code",
   "execution_count": 7,
   "id": "3638e5e8",
   "metadata": {
    "execution": {
     "iopub.execute_input": "2021-04-04T22:35:01.433544Z",
     "iopub.status.busy": "2021-04-04T22:35:01.430925Z",
     "iopub.status.idle": "2021-04-04T22:35:01.460208Z",
     "shell.execute_reply": "2021-04-04T22:35:01.459650Z"
    },
    "papermill": {
     "duration": 0.063108,
     "end_time": "2021-04-04T22:35:01.460331",
     "exception": false,
     "start_time": "2021-04-04T22:35:01.397223",
     "status": "completed"
    },
    "tags": []
   },
   "outputs": [
    {
     "data": {
      "text/html": [
       "<div>\n",
       "<style scoped>\n",
       "    .dataframe tbody tr th:only-of-type {\n",
       "        vertical-align: middle;\n",
       "    }\n",
       "\n",
       "    .dataframe tbody tr th {\n",
       "        vertical-align: top;\n",
       "    }\n",
       "\n",
       "    .dataframe thead th {\n",
       "        text-align: right;\n",
       "    }\n",
       "</style>\n",
       "<table border=\"1\" class=\"dataframe\">\n",
       "  <thead>\n",
       "    <tr style=\"text-align: right;\">\n",
       "      <th></th>\n",
       "      <th>id</th>\n",
       "      <th>loc</th>\n",
       "      <th>v(g)</th>\n",
       "      <th>ev(g)</th>\n",
       "      <th>iv(g)</th>\n",
       "      <th>n</th>\n",
       "      <th>v</th>\n",
       "      <th>l</th>\n",
       "      <th>d</th>\n",
       "      <th>i</th>\n",
       "      <th>...</th>\n",
       "      <th>lOCode</th>\n",
       "      <th>lOComment</th>\n",
       "      <th>lOBlank</th>\n",
       "      <th>locCodeAndComment</th>\n",
       "      <th>uniq_Op</th>\n",
       "      <th>uniq_Opnd</th>\n",
       "      <th>total_Op</th>\n",
       "      <th>total_Opnd</th>\n",
       "      <th>branchCount</th>\n",
       "      <th>defects</th>\n",
       "    </tr>\n",
       "  </thead>\n",
       "  <tbody>\n",
       "    <tr>\n",
       "      <th>0</th>\n",
       "      <td>1</td>\n",
       "      <td>1.1</td>\n",
       "      <td>1.4</td>\n",
       "      <td>1.4</td>\n",
       "      <td>1.4</td>\n",
       "      <td>1.3</td>\n",
       "      <td>1.30</td>\n",
       "      <td>1.30</td>\n",
       "      <td>1.30</td>\n",
       "      <td>1.30</td>\n",
       "      <td>...</td>\n",
       "      <td>2</td>\n",
       "      <td>2</td>\n",
       "      <td>2</td>\n",
       "      <td>2</td>\n",
       "      <td>1.2</td>\n",
       "      <td>1.2</td>\n",
       "      <td>1.2</td>\n",
       "      <td>1.2</td>\n",
       "      <td>1.4</td>\n",
       "      <td>False</td>\n",
       "    </tr>\n",
       "    <tr>\n",
       "      <th>1</th>\n",
       "      <td>2</td>\n",
       "      <td>1.0</td>\n",
       "      <td>1.0</td>\n",
       "      <td>1.0</td>\n",
       "      <td>1.0</td>\n",
       "      <td>1.0</td>\n",
       "      <td>1.00</td>\n",
       "      <td>1.00</td>\n",
       "      <td>1.00</td>\n",
       "      <td>1.00</td>\n",
       "      <td>...</td>\n",
       "      <td>1</td>\n",
       "      <td>1</td>\n",
       "      <td>1</td>\n",
       "      <td>1</td>\n",
       "      <td>1.0</td>\n",
       "      <td>1.0</td>\n",
       "      <td>1.0</td>\n",
       "      <td>1.0</td>\n",
       "      <td>1.0</td>\n",
       "      <td>True</td>\n",
       "    </tr>\n",
       "    <tr>\n",
       "      <th>2</th>\n",
       "      <td>3</td>\n",
       "      <td>83.0</td>\n",
       "      <td>11.0</td>\n",
       "      <td>1.0</td>\n",
       "      <td>11.0</td>\n",
       "      <td>171.0</td>\n",
       "      <td>927.89</td>\n",
       "      <td>0.04</td>\n",
       "      <td>23.04</td>\n",
       "      <td>40.27</td>\n",
       "      <td>...</td>\n",
       "      <td>65</td>\n",
       "      <td>10</td>\n",
       "      <td>6</td>\n",
       "      <td>0</td>\n",
       "      <td>18.0</td>\n",
       "      <td>25.0</td>\n",
       "      <td>107.0</td>\n",
       "      <td>64.0</td>\n",
       "      <td>21.0</td>\n",
       "      <td>True</td>\n",
       "    </tr>\n",
       "    <tr>\n",
       "      <th>3</th>\n",
       "      <td>4</td>\n",
       "      <td>46.0</td>\n",
       "      <td>8.0</td>\n",
       "      <td>6.0</td>\n",
       "      <td>8.0</td>\n",
       "      <td>141.0</td>\n",
       "      <td>769.78</td>\n",
       "      <td>0.07</td>\n",
       "      <td>14.86</td>\n",
       "      <td>51.81</td>\n",
       "      <td>...</td>\n",
       "      <td>37</td>\n",
       "      <td>2</td>\n",
       "      <td>5</td>\n",
       "      <td>0</td>\n",
       "      <td>16.0</td>\n",
       "      <td>28.0</td>\n",
       "      <td>89.0</td>\n",
       "      <td>52.0</td>\n",
       "      <td>15.0</td>\n",
       "      <td>True</td>\n",
       "    </tr>\n",
       "    <tr>\n",
       "      <th>4</th>\n",
       "      <td>5</td>\n",
       "      <td>25.0</td>\n",
       "      <td>3.0</td>\n",
       "      <td>1.0</td>\n",
       "      <td>3.0</td>\n",
       "      <td>58.0</td>\n",
       "      <td>254.75</td>\n",
       "      <td>0.11</td>\n",
       "      <td>9.35</td>\n",
       "      <td>27.25</td>\n",
       "      <td>...</td>\n",
       "      <td>21</td>\n",
       "      <td>0</td>\n",
       "      <td>2</td>\n",
       "      <td>0</td>\n",
       "      <td>11.0</td>\n",
       "      <td>10.0</td>\n",
       "      <td>41.0</td>\n",
       "      <td>17.0</td>\n",
       "      <td>5.0</td>\n",
       "      <td>True</td>\n",
       "    </tr>\n",
       "  </tbody>\n",
       "</table>\n",
       "<p>5 rows × 23 columns</p>\n",
       "</div>"
      ],
      "text/plain": [
       "   id   loc  v(g)  ev(g)  iv(g)      n       v     l      d      i  ...  \\\n",
       "0   1   1.1   1.4    1.4    1.4    1.3    1.30  1.30   1.30   1.30  ...   \n",
       "1   2   1.0   1.0    1.0    1.0    1.0    1.00  1.00   1.00   1.00  ...   \n",
       "2   3  83.0  11.0    1.0   11.0  171.0  927.89  0.04  23.04  40.27  ...   \n",
       "3   4  46.0   8.0    6.0    8.0  141.0  769.78  0.07  14.86  51.81  ...   \n",
       "4   5  25.0   3.0    1.0    3.0   58.0  254.75  0.11   9.35  27.25  ...   \n",
       "\n",
       "   lOCode  lOComment  lOBlank  locCodeAndComment  uniq_Op  uniq_Opnd  \\\n",
       "0       2          2        2                  2      1.2        1.2   \n",
       "1       1          1        1                  1      1.0        1.0   \n",
       "2      65         10        6                  0     18.0       25.0   \n",
       "3      37          2        5                  0     16.0       28.0   \n",
       "4      21          0        2                  0     11.0       10.0   \n",
       "\n",
       "   total_Op  total_Opnd  branchCount  defects  \n",
       "0       1.2         1.2          1.4    False  \n",
       "1       1.0         1.0          1.0     True  \n",
       "2     107.0        64.0         21.0     True  \n",
       "3      89.0        52.0         15.0     True  \n",
       "4      41.0        17.0          5.0     True  \n",
       "\n",
       "[5 rows x 23 columns]"
      ]
     },
     "execution_count": 7,
     "metadata": {},
     "output_type": "execute_result"
    }
   ],
   "source": [
    "df.head()"
   ]
  },
  {
   "cell_type": "code",
   "execution_count": 8,
   "id": "733e95eb",
   "metadata": {
    "execution": {
     "iopub.execute_input": "2021-04-04T22:35:01.523393Z",
     "iopub.status.busy": "2021-04-04T22:35:01.522497Z",
     "iopub.status.idle": "2021-04-04T22:35:01.526321Z",
     "shell.execute_reply": "2021-04-04T22:35:01.528103Z"
    },
    "papermill": {
     "duration": 0.042337,
     "end_time": "2021-04-04T22:35:01.528474",
     "exception": false,
     "start_time": "2021-04-04T22:35:01.486137",
     "status": "completed"
    },
    "tags": []
   },
   "outputs": [],
   "source": [
    "del df['id']"
   ]
  },
  {
   "cell_type": "code",
   "execution_count": 9,
   "id": "6ff6f5b0",
   "metadata": {
    "execution": {
     "iopub.execute_input": "2021-04-04T22:35:01.582432Z",
     "iopub.status.busy": "2021-04-04T22:35:01.581640Z",
     "iopub.status.idle": "2021-04-04T22:35:01.584417Z",
     "shell.execute_reply": "2021-04-04T22:35:01.583836Z"
    },
    "papermill": {
     "duration": 0.033958,
     "end_time": "2021-04-04T22:35:01.584535",
     "exception": false,
     "start_time": "2021-04-04T22:35:01.550577",
     "status": "completed"
    },
    "tags": []
   },
   "outputs": [],
   "source": [
    "if PROFILE_REPORTING:\n",
    "    ProfileReport(df).to_widgets()"
   ]
  },
  {
   "cell_type": "markdown",
   "id": "1deaf3f0",
   "metadata": {
    "papermill": {
     "duration": 0.03266,
     "end_time": "2021-04-04T22:35:01.640125",
     "exception": false,
     "start_time": "2021-04-04T22:35:01.607465",
     "status": "completed"
    },
    "tags": []
   },
   "source": [
    "# Preprocess"
   ]
  },
  {
   "cell_type": "code",
   "execution_count": 10,
   "id": "1513e563",
   "metadata": {
    "execution": {
     "iopub.execute_input": "2021-04-04T22:35:01.697780Z",
     "iopub.status.busy": "2021-04-04T22:35:01.697027Z",
     "iopub.status.idle": "2021-04-04T22:35:01.699254Z",
     "shell.execute_reply": "2021-04-04T22:35:01.698762Z"
    },
    "papermill": {
     "duration": 0.030841,
     "end_time": "2021-04-04T22:35:01.699373",
     "exception": false,
     "start_time": "2021-04-04T22:35:01.668532",
     "status": "completed"
    },
    "tags": []
   },
   "outputs": [],
   "source": [
    "working_df = df.copy()"
   ]
  },
  {
   "cell_type": "code",
   "execution_count": 11,
   "id": "3b26d675",
   "metadata": {
    "execution": {
     "iopub.execute_input": "2021-04-04T22:35:01.769000Z",
     "iopub.status.busy": "2021-04-04T22:35:01.765782Z",
     "iopub.status.idle": "2021-04-04T22:35:01.772498Z",
     "shell.execute_reply": "2021-04-04T22:35:01.771833Z"
    },
    "papermill": {
     "duration": 0.04377,
     "end_time": "2021-04-04T22:35:01.772687",
     "exception": false,
     "start_time": "2021-04-04T22:35:01.728917",
     "status": "completed"
    },
    "tags": []
   },
   "outputs": [],
   "source": [
    "working_df['defects'] = working_df['defects'].replace([False, True], [0, 1])"
   ]
  },
  {
   "cell_type": "code",
   "execution_count": 12,
   "id": "eb48604f",
   "metadata": {
    "execution": {
     "iopub.execute_input": "2021-04-04T22:35:01.828861Z",
     "iopub.status.busy": "2021-04-04T22:35:01.827393Z",
     "iopub.status.idle": "2021-04-04T22:35:01.829909Z",
     "shell.execute_reply": "2021-04-04T22:35:01.830457Z"
    },
    "papermill": {
     "duration": 0.03407,
     "end_time": "2021-04-04T22:35:01.830605",
     "exception": false,
     "start_time": "2021-04-04T22:35:01.796535",
     "status": "completed"
    },
    "tags": []
   },
   "outputs": [],
   "source": [
    "for col in dataset_config['delete_columns']:\n",
    "    del working_df[col]"
   ]
  },
  {
   "cell_type": "code",
   "execution_count": 13,
   "id": "9a17bc29",
   "metadata": {
    "execution": {
     "iopub.execute_input": "2021-04-04T22:35:01.887767Z",
     "iopub.status.busy": "2021-04-04T22:35:01.887142Z",
     "iopub.status.idle": "2021-04-04T22:35:01.897006Z",
     "shell.execute_reply": "2021-04-04T22:35:01.896415Z"
    },
    "papermill": {
     "duration": 0.043791,
     "end_time": "2021-04-04T22:35:01.897131",
     "exception": false,
     "start_time": "2021-04-04T22:35:01.853340",
     "status": "completed"
    },
    "tags": []
   },
   "outputs": [],
   "source": [
    "working_df = working_df.drop_duplicates()"
   ]
  },
  {
   "cell_type": "markdown",
   "id": "a4d52ca6",
   "metadata": {
    "papermill": {
     "duration": 0.024837,
     "end_time": "2021-04-04T22:35:01.946801",
     "exception": false,
     "start_time": "2021-04-04T22:35:01.921964",
     "status": "completed"
    },
    "tags": []
   },
   "source": [
    "# Split"
   ]
  },
  {
   "cell_type": "code",
   "execution_count": 14,
   "id": "3e9ee4b5",
   "metadata": {
    "execution": {
     "iopub.execute_input": "2021-04-04T22:35:02.010613Z",
     "iopub.status.busy": "2021-04-04T22:35:02.009770Z",
     "iopub.status.idle": "2021-04-04T22:35:02.051755Z",
     "shell.execute_reply": "2021-04-04T22:35:02.052216Z"
    },
    "papermill": {
     "duration": 0.080425,
     "end_time": "2021-04-04T22:35:02.052369",
     "exception": false,
     "start_time": "2021-04-04T22:35:01.971944",
     "status": "completed"
    },
    "tags": []
   },
   "outputs": [],
   "source": [
    "from sklearn.model_selection import train_test_split"
   ]
  },
  {
   "cell_type": "code",
   "execution_count": 15,
   "id": "274004ce",
   "metadata": {
    "execution": {
     "iopub.execute_input": "2021-04-04T22:35:02.109063Z",
     "iopub.status.busy": "2021-04-04T22:35:02.107914Z",
     "iopub.status.idle": "2021-04-04T22:35:02.112891Z",
     "shell.execute_reply": "2021-04-04T22:35:02.113392Z"
    },
    "papermill": {
     "duration": 0.037432,
     "end_time": "2021-04-04T22:35:02.113540",
     "exception": false,
     "start_time": "2021-04-04T22:35:02.076108",
     "status": "completed"
    },
    "scrolled": true,
    "tags": []
   },
   "outputs": [],
   "source": [
    "inlier, outlier = working_df[working_df['defects'] == 0], working_df[working_df['defects'] == 1]"
   ]
  },
  {
   "cell_type": "code",
   "execution_count": 16,
   "id": "753c7b03",
   "metadata": {
    "execution": {
     "iopub.execute_input": "2021-04-04T22:35:02.183888Z",
     "iopub.status.busy": "2021-04-04T22:35:02.183040Z",
     "iopub.status.idle": "2021-04-04T22:35:02.190225Z",
     "shell.execute_reply": "2021-04-04T22:35:02.189312Z"
    },
    "papermill": {
     "duration": 0.050069,
     "end_time": "2021-04-04T22:35:02.190404",
     "exception": false,
     "start_time": "2021-04-04T22:35:02.140335",
     "status": "completed"
    },
    "tags": []
   },
   "outputs": [],
   "source": [
    "X_inlier = inlier.copy()\n",
    "y_inlier = X_inlier.pop('defects')\n",
    "X_outlier = outlier.copy()\n",
    "y_outlier = X_outlier.pop('defects')"
   ]
  },
  {
   "cell_type": "code",
   "execution_count": 17,
   "id": "2ba43193",
   "metadata": {
    "execution": {
     "iopub.execute_input": "2021-04-04T22:35:02.249917Z",
     "iopub.status.busy": "2021-04-04T22:35:02.248531Z",
     "iopub.status.idle": "2021-04-04T22:35:02.251916Z",
     "shell.execute_reply": "2021-04-04T22:35:02.252381Z"
    },
    "papermill": {
     "duration": 0.036692,
     "end_time": "2021-04-04T22:35:02.252527",
     "exception": false,
     "start_time": "2021-04-04T22:35:02.215835",
     "status": "completed"
    },
    "tags": []
   },
   "outputs": [],
   "source": [
    "test_size = dataset_config['test_size']\n",
    "random_state = dataset_config['random_state']\n",
    "\n",
    "X_inlier_train, X_inlier_test, y_inlier_train, y_inlier_test = train_test_split(\n",
    "    X_inlier,\n",
    "    y_inlier,\n",
    "    test_size=test_size,\n",
    "    random_state=random_state\n",
    ")"
   ]
  },
  {
   "cell_type": "code",
   "execution_count": 18,
   "id": "0b7582ca",
   "metadata": {
    "execution": {
     "iopub.execute_input": "2021-04-04T22:35:02.319217Z",
     "iopub.status.busy": "2021-04-04T22:35:02.318152Z",
     "iopub.status.idle": "2021-04-04T22:35:02.321856Z",
     "shell.execute_reply": "2021-04-04T22:35:02.324437Z"
    },
    "papermill": {
     "duration": 0.049123,
     "end_time": "2021-04-04T22:35:02.324752",
     "exception": false,
     "start_time": "2021-04-04T22:35:02.275629",
     "status": "completed"
    },
    "tags": []
   },
   "outputs": [],
   "source": [
    "test_outlier_size = dataset_config['test_outlier_size']\n",
    "if test_outlier_size > 0.0:\n",
    "    X_outlier_train, X_outlier_test, y_outlier_train, y_outlier_test = train_test_split(\n",
    "        X_outlier,\n",
    "        y_outlier,\n",
    "        test_size=test_outlier_size,\n",
    "        random_state=random_state\n",
    "    )\n",
    "else:\n",
    "    X_outlier_train, y_outlier_train = pd.DataFrame(columns=X_outlier.columns), pd.Series(dtype='int64')\n",
    "    X_outlier_test, y_outlier_test = X_outlier.copy(), y_outlier.copy()"
   ]
  },
  {
   "cell_type": "code",
   "execution_count": 19,
   "id": "c34363db",
   "metadata": {
    "execution": {
     "iopub.execute_input": "2021-04-04T22:35:02.476437Z",
     "iopub.status.busy": "2021-04-04T22:35:02.468799Z",
     "iopub.status.idle": "2021-04-04T22:35:02.483042Z",
     "shell.execute_reply": "2021-04-04T22:35:02.482239Z"
    },
    "papermill": {
     "duration": 0.086196,
     "end_time": "2021-04-04T22:35:02.483289",
     "exception": false,
     "start_time": "2021-04-04T22:35:02.397093",
     "status": "completed"
    },
    "tags": []
   },
   "outputs": [],
   "source": [
    "X_train, y_train = pd.concat([X_inlier_train, X_outlier_train], ignore_index=True), pd.concat([y_inlier_train, y_outlier_train], ignore_index=True)\n",
    "X_test, y_test = pd.concat([X_inlier_test, X_outlier_test], ignore_index=True), pd.concat([y_inlier_test, y_outlier_test], ignore_index=True)"
   ]
  },
  {
   "cell_type": "markdown",
   "id": "7cde7309",
   "metadata": {
    "papermill": {
     "duration": 0.034882,
     "end_time": "2021-04-04T22:35:02.552595",
     "exception": false,
     "start_time": "2021-04-04T22:35:02.517713",
     "status": "completed"
    },
    "tags": []
   },
   "source": [
    "# Model"
   ]
  },
  {
   "cell_type": "code",
   "execution_count": 20,
   "id": "2b12a415",
   "metadata": {
    "execution": {
     "iopub.execute_input": "2021-04-04T22:35:02.622348Z",
     "iopub.status.busy": "2021-04-04T22:35:02.621536Z",
     "iopub.status.idle": "2021-04-04T22:35:02.624345Z",
     "shell.execute_reply": "2021-04-04T22:35:02.623836Z"
    },
    "papermill": {
     "duration": 0.037696,
     "end_time": "2021-04-04T22:35:02.624463",
     "exception": false,
     "start_time": "2021-04-04T22:35:02.586767",
     "status": "completed"
    },
    "tags": []
   },
   "outputs": [],
   "source": [
    "from math import sqrt\n",
    "\n",
    "\n",
    "class KNNDataDescription:\n",
    "    def __init__(self, k=5, outlier_threshold=1.0):\n",
    "        self.k = k\n",
    "        self.outlier_threshold = outlier_threshold\n",
    "        self.X = []\n",
    "    \n",
    "    def fit(self, X):\n",
    "        self.X = [features.to_list() for index, features in X.iterrows()]\n",
    "\n",
    "    def predict(self, entries):\n",
    "        return [self.predict_entry(features.to_list()) for index, features in entries.iterrows()]\n",
    "    \n",
    "    def predict_entry(self, entry):\n",
    "        kth_neighbor, kth_distance = self.get_kth_neighbor(entry, self.k)\n",
    "        kth_kth_neighbor, kth_kth_distance = self.get_kth_neighbor(kth_neighbor, self.k + 1)\n",
    "\n",
    "        outlier_score = kth_distance / (kth_kth_distance + 0.000001)\n",
    "\n",
    "        return 1 if outlier_score < self.outlier_threshold else -1\n",
    "        \n",
    "    def euclidean_distance(self, features1, features2):\n",
    "        distance = 0.0\n",
    "        for feat1, feat2 in zip(features1, features2):\n",
    "            distance += (feat1 - feat2)**2\n",
    "                \n",
    "        return sqrt(distance)\n",
    "\n",
    "    def get_neighbors(self, entry, k):\n",
    "        distance_to_data_points = [\n",
    "            (data_point, self.euclidean_distance(entry, data_point))\n",
    "            for data_point in self.X\n",
    "        ]\n",
    "        sorted_by_distance = sorted(distance_to_data_points, key=lambda tup: tup[1])\n",
    "        neighbors = sorted_by_distance[:k]\n",
    "        return neighbors\n",
    "\n",
    "    def get_kth_neighbor(self, entry, k):\n",
    "        neighbors = self.get_neighbors(entry, k)\n",
    "        return neighbors[-1]\n"
   ]
  },
  {
   "cell_type": "code",
   "execution_count": 21,
   "id": "1fa9ec1c",
   "metadata": {
    "execution": {
     "iopub.execute_input": "2021-04-04T22:35:02.696881Z",
     "iopub.status.busy": "2021-04-04T22:35:02.694935Z",
     "iopub.status.idle": "2021-04-04T22:35:02.761716Z",
     "shell.execute_reply": "2021-04-04T22:35:02.759591Z"
    },
    "papermill": {
     "duration": 0.110993,
     "end_time": "2021-04-04T22:35:02.761925",
     "exception": false,
     "start_time": "2021-04-04T22:35:02.650932",
     "status": "completed"
    },
    "tags": []
   },
   "outputs": [],
   "source": [
    "from sklearn.svm import OneClassSVM\n",
    "\n",
    "\n",
    "models = {\n",
    "    'oneclasssvm': OneClassSVM,\n",
    "    'knndatadescription': KNNDataDescription,\n",
    "}"
   ]
  },
  {
   "cell_type": "code",
   "execution_count": 22,
   "id": "4d72a0b1",
   "metadata": {
    "execution": {
     "iopub.execute_input": "2021-04-04T22:35:02.871722Z",
     "iopub.status.busy": "2021-04-04T22:35:02.868693Z",
     "iopub.status.idle": "2021-04-04T22:35:02.874392Z",
     "shell.execute_reply": "2021-04-04T22:35:02.875079Z"
    },
    "papermill": {
     "duration": 0.066278,
     "end_time": "2021-04-04T22:35:02.875291",
     "exception": false,
     "start_time": "2021-04-04T22:35:02.809013",
     "status": "completed"
    },
    "scrolled": true,
    "tags": []
   },
   "outputs": [],
   "source": [
    "model_cls = models[model_config['model_type']]\n",
    "model = model_cls(**model_config['hyperparameters'])"
   ]
  },
  {
   "cell_type": "markdown",
   "id": "e00cff3b",
   "metadata": {
    "papermill": {
     "duration": 0.037395,
     "end_time": "2021-04-04T22:35:02.957210",
     "exception": false,
     "start_time": "2021-04-04T22:35:02.919815",
     "status": "completed"
    },
    "tags": []
   },
   "source": [
    "# Fit"
   ]
  },
  {
   "cell_type": "code",
   "execution_count": 23,
   "id": "8b2ded89",
   "metadata": {
    "execution": {
     "iopub.execute_input": "2021-04-04T22:35:03.059503Z",
     "iopub.status.busy": "2021-04-04T22:35:03.057176Z",
     "iopub.status.idle": "2021-04-04T22:35:03.091356Z",
     "shell.execute_reply": "2021-04-04T22:35:03.092578Z"
    },
    "papermill": {
     "duration": 0.090154,
     "end_time": "2021-04-04T22:35:03.092974",
     "exception": false,
     "start_time": "2021-04-04T22:35:03.002820",
     "status": "completed"
    },
    "tags": []
   },
   "outputs": [
    {
     "data": {
      "text/plain": [
       "OneClassSVM()"
      ]
     },
     "execution_count": 23,
     "metadata": {},
     "output_type": "execute_result"
    }
   ],
   "source": [
    "model.fit(X_train)"
   ]
  },
  {
   "cell_type": "markdown",
   "id": "f99999f7",
   "metadata": {
    "papermill": {
     "duration": 0.047286,
     "end_time": "2021-04-04T22:35:03.182721",
     "exception": false,
     "start_time": "2021-04-04T22:35:03.135435",
     "status": "completed"
    },
    "tags": []
   },
   "source": [
    "# Predict"
   ]
  },
  {
   "cell_type": "code",
   "execution_count": 24,
   "id": "6536fbf7",
   "metadata": {
    "execution": {
     "iopub.execute_input": "2021-04-04T22:35:03.272180Z",
     "iopub.status.busy": "2021-04-04T22:35:03.271364Z",
     "iopub.status.idle": "2021-04-04T22:35:03.288200Z",
     "shell.execute_reply": "2021-04-04T22:35:03.288773Z"
    },
    "papermill": {
     "duration": 0.059809,
     "end_time": "2021-04-04T22:35:03.288959",
     "exception": false,
     "start_time": "2021-04-04T22:35:03.229150",
     "status": "completed"
    },
    "tags": []
   },
   "outputs": [],
   "source": [
    "predictions = model.predict(X_test)"
   ]
  },
  {
   "cell_type": "markdown",
   "id": "aa1c9881",
   "metadata": {
    "papermill": {
     "duration": 0.033932,
     "end_time": "2021-04-04T22:35:03.353414",
     "exception": false,
     "start_time": "2021-04-04T22:35:03.319482",
     "status": "completed"
    },
    "tags": []
   },
   "source": [
    "# Evaluate"
   ]
  },
  {
   "cell_type": "code",
   "execution_count": 25,
   "id": "894f0f04",
   "metadata": {
    "execution": {
     "iopub.execute_input": "2021-04-04T22:35:03.428107Z",
     "iopub.status.busy": "2021-04-04T22:35:03.425555Z",
     "iopub.status.idle": "2021-04-04T22:35:03.432844Z",
     "shell.execute_reply": "2021-04-04T22:35:03.431785Z"
    },
    "papermill": {
     "duration": 0.040987,
     "end_time": "2021-04-04T22:35:03.432970",
     "exception": false,
     "start_time": "2021-04-04T22:35:03.391983",
     "status": "completed"
    },
    "tags": []
   },
   "outputs": [],
   "source": [
    "from sklearn.metrics import f1_score"
   ]
  },
  {
   "cell_type": "code",
   "execution_count": 26,
   "id": "211744d3",
   "metadata": {
    "execution": {
     "iopub.execute_input": "2021-04-04T22:35:03.525860Z",
     "iopub.status.busy": "2021-04-04T22:35:03.523399Z",
     "iopub.status.idle": "2021-04-04T22:35:03.527493Z",
     "shell.execute_reply": "2021-04-04T22:35:03.528832Z"
    },
    "papermill": {
     "duration": 0.059719,
     "end_time": "2021-04-04T22:35:03.529574",
     "exception": false,
     "start_time": "2021-04-04T22:35:03.469855",
     "status": "completed"
    },
    "tags": []
   },
   "outputs": [],
   "source": [
    "y_test = y_test.replace([0, 1], [1, -1])"
   ]
  },
  {
   "cell_type": "code",
   "execution_count": 27,
   "id": "d68a9204",
   "metadata": {
    "execution": {
     "iopub.execute_input": "2021-04-04T22:35:03.641790Z",
     "iopub.status.busy": "2021-04-04T22:35:03.638668Z",
     "iopub.status.idle": "2021-04-04T22:35:03.646158Z",
     "shell.execute_reply": "2021-04-04T22:35:03.644696Z"
    },
    "papermill": {
     "duration": 0.070124,
     "end_time": "2021-04-04T22:35:03.646356",
     "exception": false,
     "start_time": "2021-04-04T22:35:03.576232",
     "status": "completed"
    },
    "tags": []
   },
   "outputs": [],
   "source": [
    "def evaluate(truths, predictions, pos_label, neg_label):\n",
    "    TP = 0\n",
    "    FP = 0\n",
    "    TN = 0\n",
    "    FN = 0\n",
    "\n",
    "    for truth, pred in zip(truths, predictions): \n",
    "        if truth == pred == pos_label:\n",
    "           TP += 1\n",
    "        elif pred == pos_label and truth == neg_label:\n",
    "           FP += 1\n",
    "        elif truth == pred == neg_label:\n",
    "           TN += 1\n",
    "        elif pred == neg_label and truth == pos_label:\n",
    "           FN += 1\n",
    "\n",
    "    precision = TP / (TP + FP)\n",
    "    sensitivity = TP / (TP + FN)\n",
    "    \n",
    "    return {\n",
    "        'true_pos': TP,\n",
    "        'false_pos': FP,\n",
    "        'false_neg': FN,\n",
    "        'true_neg': TN,\n",
    "        'precision': precision,\n",
    "        'sensitivity': sensitivity,\n",
    "        'f1': (2 * (precision * sensitivity)) / (precision + sensitivity)\n",
    "    }\n",
    "\n",
    "score = evaluate(y_test, predictions, pos_label=-1, neg_label=1)"
   ]
  },
  {
   "cell_type": "markdown",
   "id": "93596516",
   "metadata": {
    "papermill": {
     "duration": 0.034051,
     "end_time": "2021-04-04T22:35:03.716305",
     "exception": false,
     "start_time": "2021-04-04T22:35:03.682254",
     "status": "completed"
    },
    "tags": []
   },
   "source": [
    "# Report"
   ]
  },
  {
   "cell_type": "code",
   "execution_count": 28,
   "id": "bea5fba1",
   "metadata": {
    "execution": {
     "iopub.execute_input": "2021-04-04T22:35:03.785961Z",
     "iopub.status.busy": "2021-04-04T22:35:03.785009Z",
     "iopub.status.idle": "2021-04-04T22:35:03.788782Z",
     "shell.execute_reply": "2021-04-04T22:35:03.787999Z"
    },
    "papermill": {
     "duration": 0.037295,
     "end_time": "2021-04-04T22:35:03.788944",
     "exception": false,
     "start_time": "2021-04-04T22:35:03.751649",
     "status": "completed"
    },
    "tags": []
   },
   "outputs": [],
   "source": [
    "import csv\n",
    "\n",
    "\n",
    "dataset_config_name = DATASET_CONFIG_PATH.split('/')[-1].split('.')[0]\n",
    "model_config_name = MODEL_CONFIG_PATH.split('/')[-1].split('.')[0]\n",
    "configuration = f\"dataset_{dataset_config_name}-model_{model_config_name}\"\n",
    "\n",
    "with open('results.csv', 'a') as f:\n",
    "    report = dict({'configuration': configuration}, **score)\n",
    "    writer = csv.DictWriter(f, report.keys())\n",
    "    writer.writerow(report)"
   ]
  }
 ],
 "metadata": {
  "celltoolbar": "Tags",
  "kernelspec": {
   "display_name": "Python 3",
   "language": "python",
   "name": "python3"
  },
  "language_info": {
   "codemirror_mode": {
    "name": "ipython",
    "version": 3
   },
   "file_extension": ".py",
   "mimetype": "text/x-python",
   "name": "python",
   "nbconvert_exporter": "python",
   "pygments_lexer": "ipython3",
   "version": "3.9.1"
  },
  "papermill": {
   "default_parameters": {},
   "duration": 6.001946,
   "end_time": "2021-04-04T22:35:04.522232",
   "environment_variables": {},
   "exception": null,
   "input_path": "main.ipynb",
   "output_path": "runs/dataset_000025-model_000004.ipynb",
   "parameters": {
    "DATASET_CONFIG_PATH": "config/dataset/000025.json",
    "MODEL_CONFIG_PATH": "config/model/000004.json",
    "PROFILE_REPORTING": false
   },
   "start_time": "2021-04-04T22:34:58.520286",
   "version": "2.3.3"
  }
 },
 "nbformat": 4,
 "nbformat_minor": 5
}