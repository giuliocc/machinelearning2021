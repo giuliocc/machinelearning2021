{
 "cells": [
  {
   "cell_type": "markdown",
   "id": "51c71c25",
   "metadata": {
    "papermill": {
     "duration": 0.030768,
     "end_time": "2021-04-04T23:07:51.545362",
     "exception": false,
     "start_time": "2021-04-04T23:07:51.514594",
     "status": "completed"
    },
    "tags": []
   },
   "source": [
    "# Parametrizing"
   ]
  },
  {
   "cell_type": "code",
   "execution_count": 1,
   "id": "3b136394",
   "metadata": {
    "execution": {
     "iopub.execute_input": "2021-04-04T23:07:51.599747Z",
     "iopub.status.busy": "2021-04-04T23:07:51.598924Z",
     "iopub.status.idle": "2021-04-04T23:07:51.602064Z",
     "shell.execute_reply": "2021-04-04T23:07:51.602951Z"
    },
    "papermill": {
     "duration": 0.03761,
     "end_time": "2021-04-04T23:07:51.603308",
     "exception": false,
     "start_time": "2021-04-04T23:07:51.565698",
     "status": "completed"
    },
    "tags": [
     "parameters"
    ]
   },
   "outputs": [],
   "source": [
    "DATASET_CONFIG_PATH = 'config/dataset/kc1_001.json'\n",
    "MODEL_CONFIG_PATH = 'config/model/knndd_001.json'\n",
    "PROFILE_REPORTING = False"
   ]
  },
  {
   "cell_type": "code",
   "execution_count": 2,
   "id": "04aae75e",
   "metadata": {
    "execution": {
     "iopub.execute_input": "2021-04-04T23:07:51.649283Z",
     "iopub.status.busy": "2021-04-04T23:07:51.648259Z",
     "iopub.status.idle": "2021-04-04T23:07:51.651169Z",
     "shell.execute_reply": "2021-04-04T23:07:51.651939Z"
    },
    "papermill": {
     "duration": 0.027828,
     "end_time": "2021-04-04T23:07:51.652153",
     "exception": false,
     "start_time": "2021-04-04T23:07:51.624325",
     "status": "completed"
    },
    "tags": [
     "injected-parameters"
    ]
   },
   "outputs": [],
   "source": [
    "# Parameters\n",
    "DATASET_CONFIG_PATH = \"config/dataset/000087.json\"\n",
    "MODEL_CONFIG_PATH = \"config/model/000003.json\"\n",
    "PROFILE_REPORTING = False\n"
   ]
  },
  {
   "cell_type": "code",
   "execution_count": 3,
   "id": "b80f2a10",
   "metadata": {
    "execution": {
     "iopub.execute_input": "2021-04-04T23:07:51.700039Z",
     "iopub.status.busy": "2021-04-04T23:07:51.698822Z",
     "iopub.status.idle": "2021-04-04T23:07:51.701658Z",
     "shell.execute_reply": "2021-04-04T23:07:51.702147Z"
    },
    "papermill": {
     "duration": 0.028573,
     "end_time": "2021-04-04T23:07:51.702295",
     "exception": false,
     "start_time": "2021-04-04T23:07:51.673722",
     "status": "completed"
    },
    "tags": []
   },
   "outputs": [],
   "source": [
    "import json\n",
    "\n",
    "\n",
    "with open(DATASET_CONFIG_PATH) as f:\n",
    "    dataset_config = json.load(f)\n",
    "\n",
    "with open(MODEL_CONFIG_PATH) as f:\n",
    "    model_config = json.load(f)"
   ]
  },
  {
   "cell_type": "markdown",
   "id": "9a4b0e2d",
   "metadata": {
    "papermill": {
     "duration": 0.026317,
     "end_time": "2021-04-04T23:07:51.751107",
     "exception": false,
     "start_time": "2021-04-04T23:07:51.724790",
     "status": "completed"
    },
    "tags": []
   },
   "source": [
    "# Profiling"
   ]
  },
  {
   "cell_type": "code",
   "execution_count": 4,
   "id": "a3e0289b",
   "metadata": {
    "execution": {
     "iopub.execute_input": "2021-04-04T23:07:51.798135Z",
     "iopub.status.busy": "2021-04-04T23:07:51.797054Z",
     "iopub.status.idle": "2021-04-04T23:07:53.056615Z",
     "shell.execute_reply": "2021-04-04T23:07:53.055917Z"
    },
    "papermill": {
     "duration": 1.283819,
     "end_time": "2021-04-04T23:07:53.056772",
     "exception": false,
     "start_time": "2021-04-04T23:07:51.772953",
     "status": "completed"
    },
    "tags": []
   },
   "outputs": [],
   "source": [
    "import pandas as pd\n",
    "from pandas_profiling import ProfileReport"
   ]
  },
  {
   "cell_type": "code",
   "execution_count": 5,
   "id": "ee6c0666",
   "metadata": {
    "execution": {
     "iopub.execute_input": "2021-04-04T23:07:53.105594Z",
     "iopub.status.busy": "2021-04-04T23:07:53.104729Z",
     "iopub.status.idle": "2021-04-04T23:07:53.116876Z",
     "shell.execute_reply": "2021-04-04T23:07:53.116031Z"
    },
    "papermill": {
     "duration": 0.037669,
     "end_time": "2021-04-04T23:07:53.117079",
     "exception": false,
     "start_time": "2021-04-04T23:07:53.079410",
     "status": "completed"
    },
    "tags": []
   },
   "outputs": [],
   "source": [
    "df = pd.read_csv(dataset_config['dataset_path'])"
   ]
  },
  {
   "cell_type": "code",
   "execution_count": 6,
   "id": "7eca6c4a",
   "metadata": {
    "execution": {
     "iopub.execute_input": "2021-04-04T23:07:53.179501Z",
     "iopub.status.busy": "2021-04-04T23:07:53.166614Z",
     "iopub.status.idle": "2021-04-04T23:07:53.182566Z",
     "shell.execute_reply": "2021-04-04T23:07:53.183356Z"
    },
    "papermill": {
     "duration": 0.04194,
     "end_time": "2021-04-04T23:07:53.183586",
     "exception": false,
     "start_time": "2021-04-04T23:07:53.141646",
     "status": "completed"
    },
    "tags": []
   },
   "outputs": [
    {
     "name": "stdout",
     "output_type": "stream",
     "text": [
      "<class 'pandas.core.frame.DataFrame'>\n",
      "RangeIndex: 498 entries, 0 to 497\n",
      "Data columns (total 23 columns):\n",
      " #   Column             Non-Null Count  Dtype  \n",
      "---  ------             --------------  -----  \n",
      " 0   id                 498 non-null    int64  \n",
      " 1   loc                498 non-null    float64\n",
      " 2   v(g)               498 non-null    float64\n",
      " 3   ev(g)              498 non-null    float64\n",
      " 4   iv(g)              498 non-null    float64\n",
      " 5   n                  498 non-null    float64\n",
      " 6   v                  498 non-null    float64\n",
      " 7   l                  498 non-null    float64\n",
      " 8   d                  498 non-null    float64\n",
      " 9   i                  498 non-null    float64\n",
      " 10  e                  498 non-null    float64\n",
      " 11  b                  498 non-null    float64\n",
      " 12  t                  498 non-null    float64\n",
      " 13  lOCode             498 non-null    int64  \n",
      " 14  lOComment          498 non-null    int64  \n",
      " 15  lOBlank            498 non-null    int64  \n",
      " 16  locCodeAndComment  498 non-null    int64  \n",
      " 17  uniq_Op            498 non-null    float64\n",
      " 18  uniq_Opnd          498 non-null    float64\n",
      " 19  total_Op           498 non-null    float64\n",
      " 20  total_Opnd         498 non-null    float64\n",
      " 21  branchCount        498 non-null    float64\n",
      " 22  defects            498 non-null    bool   \n",
      "dtypes: bool(1), float64(17), int64(5)\n",
      "memory usage: 86.2 KB\n"
     ]
    }
   ],
   "source": [
    "df.info()"
   ]
  },
  {
   "cell_type": "code",
   "execution_count": 7,
   "id": "3638e5e8",
   "metadata": {
    "execution": {
     "iopub.execute_input": "2021-04-04T23:07:53.238071Z",
     "iopub.status.busy": "2021-04-04T23:07:53.237227Z",
     "iopub.status.idle": "2021-04-04T23:07:53.269395Z",
     "shell.execute_reply": "2021-04-04T23:07:53.270257Z"
    },
    "papermill": {
     "duration": 0.063197,
     "end_time": "2021-04-04T23:07:53.270493",
     "exception": false,
     "start_time": "2021-04-04T23:07:53.207296",
     "status": "completed"
    },
    "tags": []
   },
   "outputs": [
    {
     "data": {
      "text/html": [
       "<div>\n",
       "<style scoped>\n",
       "    .dataframe tbody tr th:only-of-type {\n",
       "        vertical-align: middle;\n",
       "    }\n",
       "\n",
       "    .dataframe tbody tr th {\n",
       "        vertical-align: top;\n",
       "    }\n",
       "\n",
       "    .dataframe thead th {\n",
       "        text-align: right;\n",
       "    }\n",
       "</style>\n",
       "<table border=\"1\" class=\"dataframe\">\n",
       "  <thead>\n",
       "    <tr style=\"text-align: right;\">\n",
       "      <th></th>\n",
       "      <th>id</th>\n",
       "      <th>loc</th>\n",
       "      <th>v(g)</th>\n",
       "      <th>ev(g)</th>\n",
       "      <th>iv(g)</th>\n",
       "      <th>n</th>\n",
       "      <th>v</th>\n",
       "      <th>l</th>\n",
       "      <th>d</th>\n",
       "      <th>i</th>\n",
       "      <th>...</th>\n",
       "      <th>lOCode</th>\n",
       "      <th>lOComment</th>\n",
       "      <th>lOBlank</th>\n",
       "      <th>locCodeAndComment</th>\n",
       "      <th>uniq_Op</th>\n",
       "      <th>uniq_Opnd</th>\n",
       "      <th>total_Op</th>\n",
       "      <th>total_Opnd</th>\n",
       "      <th>branchCount</th>\n",
       "      <th>defects</th>\n",
       "    </tr>\n",
       "  </thead>\n",
       "  <tbody>\n",
       "    <tr>\n",
       "      <th>0</th>\n",
       "      <td>1</td>\n",
       "      <td>1.1</td>\n",
       "      <td>1.4</td>\n",
       "      <td>1.4</td>\n",
       "      <td>1.4</td>\n",
       "      <td>1.3</td>\n",
       "      <td>1.30</td>\n",
       "      <td>1.30</td>\n",
       "      <td>1.30</td>\n",
       "      <td>1.30</td>\n",
       "      <td>...</td>\n",
       "      <td>2</td>\n",
       "      <td>2</td>\n",
       "      <td>2</td>\n",
       "      <td>2</td>\n",
       "      <td>1.2</td>\n",
       "      <td>1.2</td>\n",
       "      <td>1.2</td>\n",
       "      <td>1.2</td>\n",
       "      <td>1.4</td>\n",
       "      <td>False</td>\n",
       "    </tr>\n",
       "    <tr>\n",
       "      <th>1</th>\n",
       "      <td>2</td>\n",
       "      <td>1.0</td>\n",
       "      <td>1.0</td>\n",
       "      <td>1.0</td>\n",
       "      <td>1.0</td>\n",
       "      <td>1.0</td>\n",
       "      <td>1.00</td>\n",
       "      <td>1.00</td>\n",
       "      <td>1.00</td>\n",
       "      <td>1.00</td>\n",
       "      <td>...</td>\n",
       "      <td>1</td>\n",
       "      <td>1</td>\n",
       "      <td>1</td>\n",
       "      <td>1</td>\n",
       "      <td>1.0</td>\n",
       "      <td>1.0</td>\n",
       "      <td>1.0</td>\n",
       "      <td>1.0</td>\n",
       "      <td>1.0</td>\n",
       "      <td>True</td>\n",
       "    </tr>\n",
       "    <tr>\n",
       "      <th>2</th>\n",
       "      <td>3</td>\n",
       "      <td>24.0</td>\n",
       "      <td>5.0</td>\n",
       "      <td>1.0</td>\n",
       "      <td>3.0</td>\n",
       "      <td>63.0</td>\n",
       "      <td>309.13</td>\n",
       "      <td>0.11</td>\n",
       "      <td>9.50</td>\n",
       "      <td>32.54</td>\n",
       "      <td>...</td>\n",
       "      <td>1</td>\n",
       "      <td>0</td>\n",
       "      <td>6</td>\n",
       "      <td>0</td>\n",
       "      <td>15.0</td>\n",
       "      <td>15.0</td>\n",
       "      <td>44.0</td>\n",
       "      <td>19.0</td>\n",
       "      <td>9.0</td>\n",
       "      <td>False</td>\n",
       "    </tr>\n",
       "    <tr>\n",
       "      <th>3</th>\n",
       "      <td>4</td>\n",
       "      <td>20.0</td>\n",
       "      <td>4.0</td>\n",
       "      <td>4.0</td>\n",
       "      <td>2.0</td>\n",
       "      <td>47.0</td>\n",
       "      <td>215.49</td>\n",
       "      <td>0.06</td>\n",
       "      <td>16.00</td>\n",
       "      <td>13.47</td>\n",
       "      <td>...</td>\n",
       "      <td>0</td>\n",
       "      <td>0</td>\n",
       "      <td>3</td>\n",
       "      <td>0</td>\n",
       "      <td>16.0</td>\n",
       "      <td>8.0</td>\n",
       "      <td>31.0</td>\n",
       "      <td>16.0</td>\n",
       "      <td>7.0</td>\n",
       "      <td>False</td>\n",
       "    </tr>\n",
       "    <tr>\n",
       "      <th>4</th>\n",
       "      <td>5</td>\n",
       "      <td>24.0</td>\n",
       "      <td>6.0</td>\n",
       "      <td>6.0</td>\n",
       "      <td>2.0</td>\n",
       "      <td>72.0</td>\n",
       "      <td>346.13</td>\n",
       "      <td>0.06</td>\n",
       "      <td>17.33</td>\n",
       "      <td>19.97</td>\n",
       "      <td>...</td>\n",
       "      <td>0</td>\n",
       "      <td>0</td>\n",
       "      <td>3</td>\n",
       "      <td>0</td>\n",
       "      <td>16.0</td>\n",
       "      <td>12.0</td>\n",
       "      <td>46.0</td>\n",
       "      <td>26.0</td>\n",
       "      <td>11.0</td>\n",
       "      <td>False</td>\n",
       "    </tr>\n",
       "  </tbody>\n",
       "</table>\n",
       "<p>5 rows × 23 columns</p>\n",
       "</div>"
      ],
      "text/plain": [
       "   id   loc  v(g)  ev(g)  iv(g)     n       v     l      d      i  ...  \\\n",
       "0   1   1.1   1.4    1.4    1.4   1.3    1.30  1.30   1.30   1.30  ...   \n",
       "1   2   1.0   1.0    1.0    1.0   1.0    1.00  1.00   1.00   1.00  ...   \n",
       "2   3  24.0   5.0    1.0    3.0  63.0  309.13  0.11   9.50  32.54  ...   \n",
       "3   4  20.0   4.0    4.0    2.0  47.0  215.49  0.06  16.00  13.47  ...   \n",
       "4   5  24.0   6.0    6.0    2.0  72.0  346.13  0.06  17.33  19.97  ...   \n",
       "\n",
       "   lOCode  lOComment  lOBlank  locCodeAndComment  uniq_Op  uniq_Opnd  \\\n",
       "0       2          2        2                  2      1.2        1.2   \n",
       "1       1          1        1                  1      1.0        1.0   \n",
       "2       1          0        6                  0     15.0       15.0   \n",
       "3       0          0        3                  0     16.0        8.0   \n",
       "4       0          0        3                  0     16.0       12.0   \n",
       "\n",
       "   total_Op  total_Opnd  branchCount  defects  \n",
       "0       1.2         1.2          1.4    False  \n",
       "1       1.0         1.0          1.0     True  \n",
       "2      44.0        19.0          9.0    False  \n",
       "3      31.0        16.0          7.0    False  \n",
       "4      46.0        26.0         11.0    False  \n",
       "\n",
       "[5 rows x 23 columns]"
      ]
     },
     "execution_count": 7,
     "metadata": {},
     "output_type": "execute_result"
    }
   ],
   "source": [
    "df.head()"
   ]
  },
  {
   "cell_type": "code",
   "execution_count": 8,
   "id": "733e95eb",
   "metadata": {
    "execution": {
     "iopub.execute_input": "2021-04-04T23:07:53.324284Z",
     "iopub.status.busy": "2021-04-04T23:07:53.323292Z",
     "iopub.status.idle": "2021-04-04T23:07:53.325846Z",
     "shell.execute_reply": "2021-04-04T23:07:53.326537Z"
    },
    "papermill": {
     "duration": 0.029633,
     "end_time": "2021-04-04T23:07:53.326774",
     "exception": false,
     "start_time": "2021-04-04T23:07:53.297141",
     "status": "completed"
    },
    "tags": []
   },
   "outputs": [],
   "source": [
    "del df['id']"
   ]
  },
  {
   "cell_type": "code",
   "execution_count": 9,
   "id": "6ff6f5b0",
   "metadata": {
    "execution": {
     "iopub.execute_input": "2021-04-04T23:07:53.377596Z",
     "iopub.status.busy": "2021-04-04T23:07:53.376748Z",
     "iopub.status.idle": "2021-04-04T23:07:53.380231Z",
     "shell.execute_reply": "2021-04-04T23:07:53.379422Z"
    },
    "papermill": {
     "duration": 0.029811,
     "end_time": "2021-04-04T23:07:53.380413",
     "exception": false,
     "start_time": "2021-04-04T23:07:53.350602",
     "status": "completed"
    },
    "tags": []
   },
   "outputs": [],
   "source": [
    "if PROFILE_REPORTING:\n",
    "    ProfileReport(df).to_widgets()"
   ]
  },
  {
   "cell_type": "markdown",
   "id": "1deaf3f0",
   "metadata": {
    "papermill": {
     "duration": 0.021662,
     "end_time": "2021-04-04T23:07:53.431625",
     "exception": false,
     "start_time": "2021-04-04T23:07:53.409963",
     "status": "completed"
    },
    "tags": []
   },
   "source": [
    "# Preprocess"
   ]
  },
  {
   "cell_type": "code",
   "execution_count": 10,
   "id": "1513e563",
   "metadata": {
    "execution": {
     "iopub.execute_input": "2021-04-04T23:07:53.480249Z",
     "iopub.status.busy": "2021-04-04T23:07:53.479147Z",
     "iopub.status.idle": "2021-04-04T23:07:53.481619Z",
     "shell.execute_reply": "2021-04-04T23:07:53.482346Z"
    },
    "papermill": {
     "duration": 0.029696,
     "end_time": "2021-04-04T23:07:53.482553",
     "exception": false,
     "start_time": "2021-04-04T23:07:53.452857",
     "status": "completed"
    },
    "tags": []
   },
   "outputs": [],
   "source": [
    "working_df = df.copy()"
   ]
  },
  {
   "cell_type": "code",
   "execution_count": 11,
   "id": "3b26d675",
   "metadata": {
    "execution": {
     "iopub.execute_input": "2021-04-04T23:07:53.536295Z",
     "iopub.status.busy": "2021-04-04T23:07:53.534999Z",
     "iopub.status.idle": "2021-04-04T23:07:53.538175Z",
     "shell.execute_reply": "2021-04-04T23:07:53.539000Z"
    },
    "papermill": {
     "duration": 0.032634,
     "end_time": "2021-04-04T23:07:53.539225",
     "exception": false,
     "start_time": "2021-04-04T23:07:53.506591",
     "status": "completed"
    },
    "tags": []
   },
   "outputs": [],
   "source": [
    "working_df['defects'] = working_df['defects'].replace([False, True], [0, 1])"
   ]
  },
  {
   "cell_type": "code",
   "execution_count": 12,
   "id": "eb48604f",
   "metadata": {
    "execution": {
     "iopub.execute_input": "2021-04-04T23:07:53.591505Z",
     "iopub.status.busy": "2021-04-04T23:07:53.590475Z",
     "iopub.status.idle": "2021-04-04T23:07:53.593144Z",
     "shell.execute_reply": "2021-04-04T23:07:53.593842Z"
    },
    "papermill": {
     "duration": 0.030111,
     "end_time": "2021-04-04T23:07:53.594041",
     "exception": false,
     "start_time": "2021-04-04T23:07:53.563930",
     "status": "completed"
    },
    "tags": []
   },
   "outputs": [],
   "source": [
    "for col in dataset_config['delete_columns']:\n",
    "    del working_df[col]"
   ]
  },
  {
   "cell_type": "code",
   "execution_count": 13,
   "id": "9a17bc29",
   "metadata": {
    "execution": {
     "iopub.execute_input": "2021-04-04T23:07:53.649128Z",
     "iopub.status.busy": "2021-04-04T23:07:53.648284Z",
     "iopub.status.idle": "2021-04-04T23:07:53.658980Z",
     "shell.execute_reply": "2021-04-04T23:07:53.659749Z"
    },
    "papermill": {
     "duration": 0.039434,
     "end_time": "2021-04-04T23:07:53.659983",
     "exception": false,
     "start_time": "2021-04-04T23:07:53.620549",
     "status": "completed"
    },
    "tags": []
   },
   "outputs": [],
   "source": [
    "working_df = working_df.drop_duplicates()"
   ]
  },
  {
   "cell_type": "markdown",
   "id": "a4d52ca6",
   "metadata": {
    "papermill": {
     "duration": 0.021815,
     "end_time": "2021-04-04T23:07:53.710617",
     "exception": false,
     "start_time": "2021-04-04T23:07:53.688802",
     "status": "completed"
    },
    "tags": []
   },
   "source": [
    "# Split"
   ]
  },
  {
   "cell_type": "code",
   "execution_count": 14,
   "id": "3e9ee4b5",
   "metadata": {
    "execution": {
     "iopub.execute_input": "2021-04-04T23:07:53.766184Z",
     "iopub.status.busy": "2021-04-04T23:07:53.765003Z",
     "iopub.status.idle": "2021-04-04T23:07:53.794097Z",
     "shell.execute_reply": "2021-04-04T23:07:53.794793Z"
    },
    "papermill": {
     "duration": 0.063002,
     "end_time": "2021-04-04T23:07:53.794992",
     "exception": false,
     "start_time": "2021-04-04T23:07:53.731990",
     "status": "completed"
    },
    "tags": []
   },
   "outputs": [],
   "source": [
    "from sklearn.model_selection import train_test_split"
   ]
  },
  {
   "cell_type": "code",
   "execution_count": 15,
   "id": "274004ce",
   "metadata": {
    "execution": {
     "iopub.execute_input": "2021-04-04T23:07:53.851926Z",
     "iopub.status.busy": "2021-04-04T23:07:53.851009Z",
     "iopub.status.idle": "2021-04-04T23:07:53.856974Z",
     "shell.execute_reply": "2021-04-04T23:07:53.857879Z"
    },
    "papermill": {
     "duration": 0.035548,
     "end_time": "2021-04-04T23:07:53.858133",
     "exception": false,
     "start_time": "2021-04-04T23:07:53.822585",
     "status": "completed"
    },
    "scrolled": true,
    "tags": []
   },
   "outputs": [],
   "source": [
    "inlier, outlier = working_df[working_df['defects'] == 0], working_df[working_df['defects'] == 1]"
   ]
  },
  {
   "cell_type": "code",
   "execution_count": 16,
   "id": "753c7b03",
   "metadata": {
    "execution": {
     "iopub.execute_input": "2021-04-04T23:07:53.918174Z",
     "iopub.status.busy": "2021-04-04T23:07:53.917319Z",
     "iopub.status.idle": "2021-04-04T23:07:53.920939Z",
     "shell.execute_reply": "2021-04-04T23:07:53.921623Z"
    },
    "papermill": {
     "duration": 0.032383,
     "end_time": "2021-04-04T23:07:53.921820",
     "exception": false,
     "start_time": "2021-04-04T23:07:53.889437",
     "status": "completed"
    },
    "tags": []
   },
   "outputs": [],
   "source": [
    "X_inlier = inlier.copy()\n",
    "y_inlier = X_inlier.pop('defects')\n",
    "X_outlier = outlier.copy()\n",
    "y_outlier = X_outlier.pop('defects')"
   ]
  },
  {
   "cell_type": "code",
   "execution_count": 17,
   "id": "2ba43193",
   "metadata": {
    "execution": {
     "iopub.execute_input": "2021-04-04T23:07:53.981025Z",
     "iopub.status.busy": "2021-04-04T23:07:53.980001Z",
     "iopub.status.idle": "2021-04-04T23:07:53.982966Z",
     "shell.execute_reply": "2021-04-04T23:07:53.983659Z"
    },
    "papermill": {
     "duration": 0.034104,
     "end_time": "2021-04-04T23:07:53.983857",
     "exception": false,
     "start_time": "2021-04-04T23:07:53.949753",
     "status": "completed"
    },
    "tags": []
   },
   "outputs": [],
   "source": [
    "test_size = dataset_config['test_size']\n",
    "random_state = dataset_config['random_state']\n",
    "\n",
    "X_inlier_train, X_inlier_test, y_inlier_train, y_inlier_test = train_test_split(\n",
    "    X_inlier,\n",
    "    y_inlier,\n",
    "    test_size=test_size,\n",
    "    random_state=random_state\n",
    ")"
   ]
  },
  {
   "cell_type": "code",
   "execution_count": 18,
   "id": "0b7582ca",
   "metadata": {
    "execution": {
     "iopub.execute_input": "2021-04-04T23:07:54.047552Z",
     "iopub.status.busy": "2021-04-04T23:07:54.046455Z",
     "iopub.status.idle": "2021-04-04T23:07:54.048352Z",
     "shell.execute_reply": "2021-04-04T23:07:54.048814Z"
    },
    "papermill": {
     "duration": 0.03741,
     "end_time": "2021-04-04T23:07:54.048956",
     "exception": false,
     "start_time": "2021-04-04T23:07:54.011546",
     "status": "completed"
    },
    "tags": []
   },
   "outputs": [],
   "source": [
    "test_outlier_size = dataset_config['test_outlier_size']\n",
    "if test_outlier_size > 0.0:\n",
    "    X_outlier_train, X_outlier_test, y_outlier_train, y_outlier_test = train_test_split(\n",
    "        X_outlier,\n",
    "        y_outlier,\n",
    "        test_size=test_outlier_size,\n",
    "        random_state=random_state\n",
    "    )\n",
    "else:\n",
    "    X_outlier_train, y_outlier_train = pd.DataFrame(columns=X_outlier.columns), pd.Series(dtype='int64')\n",
    "    X_outlier_test, y_outlier_test = X_outlier.copy(), y_outlier.copy()"
   ]
  },
  {
   "cell_type": "code",
   "execution_count": 19,
   "id": "c34363db",
   "metadata": {
    "execution": {
     "iopub.execute_input": "2021-04-04T23:07:54.103894Z",
     "iopub.status.busy": "2021-04-04T23:07:54.103039Z",
     "iopub.status.idle": "2021-04-04T23:07:54.105672Z",
     "shell.execute_reply": "2021-04-04T23:07:54.106409Z"
    },
    "papermill": {
     "duration": 0.034949,
     "end_time": "2021-04-04T23:07:54.106614",
     "exception": false,
     "start_time": "2021-04-04T23:07:54.071665",
     "status": "completed"
    },
    "tags": []
   },
   "outputs": [],
   "source": [
    "X_train, y_train = pd.concat([X_inlier_train, X_outlier_train], ignore_index=True), pd.concat([y_inlier_train, y_outlier_train], ignore_index=True)\n",
    "X_test, y_test = pd.concat([X_inlier_test, X_outlier_test], ignore_index=True), pd.concat([y_inlier_test, y_outlier_test], ignore_index=True)"
   ]
  },
  {
   "cell_type": "markdown",
   "id": "7cde7309",
   "metadata": {
    "papermill": {
     "duration": 0.022221,
     "end_time": "2021-04-04T23:07:54.160501",
     "exception": false,
     "start_time": "2021-04-04T23:07:54.138280",
     "status": "completed"
    },
    "tags": []
   },
   "source": [
    "# Model"
   ]
  },
  {
   "cell_type": "code",
   "execution_count": 20,
   "id": "2b12a415",
   "metadata": {
    "execution": {
     "iopub.execute_input": "2021-04-04T23:07:54.218574Z",
     "iopub.status.busy": "2021-04-04T23:07:54.217440Z",
     "iopub.status.idle": "2021-04-04T23:07:54.221220Z",
     "shell.execute_reply": "2021-04-04T23:07:54.220300Z"
    },
    "papermill": {
     "duration": 0.038628,
     "end_time": "2021-04-04T23:07:54.221400",
     "exception": false,
     "start_time": "2021-04-04T23:07:54.182772",
     "status": "completed"
    },
    "tags": []
   },
   "outputs": [],
   "source": [
    "from math import sqrt\n",
    "\n",
    "\n",
    "class KNNDataDescription:\n",
    "    def __init__(self, k=5, outlier_threshold=1.0):\n",
    "        self.k = k\n",
    "        self.outlier_threshold = outlier_threshold\n",
    "        self.X = []\n",
    "    \n",
    "    def fit(self, X):\n",
    "        self.X = [features.to_list() for index, features in X.iterrows()]\n",
    "\n",
    "    def predict(self, entries):\n",
    "        return [self.predict_entry(features.to_list()) for index, features in entries.iterrows()]\n",
    "    \n",
    "    def predict_entry(self, entry):\n",
    "        kth_neighbor, kth_distance = self.get_kth_neighbor(entry, self.k)\n",
    "        kth_kth_neighbor, kth_kth_distance = self.get_kth_neighbor(kth_neighbor, self.k + 1)\n",
    "\n",
    "        outlier_score = kth_distance / (kth_kth_distance + 0.000001)\n",
    "\n",
    "        return 1 if outlier_score < self.outlier_threshold else -1\n",
    "        \n",
    "    def euclidean_distance(self, features1, features2):\n",
    "        distance = 0.0\n",
    "        for feat1, feat2 in zip(features1, features2):\n",
    "            distance += (feat1 - feat2)**2\n",
    "                \n",
    "        return sqrt(distance)\n",
    "\n",
    "    def get_neighbors(self, entry, k):\n",
    "        distance_to_data_points = [\n",
    "            (data_point, self.euclidean_distance(entry, data_point))\n",
    "            for data_point in self.X\n",
    "        ]\n",
    "        sorted_by_distance = sorted(distance_to_data_points, key=lambda tup: tup[1])\n",
    "        neighbors = sorted_by_distance[:k]\n",
    "        return neighbors\n",
    "\n",
    "    def get_kth_neighbor(self, entry, k):\n",
    "        neighbors = self.get_neighbors(entry, k)\n",
    "        return neighbors[-1]\n"
   ]
  },
  {
   "cell_type": "code",
   "execution_count": 21,
   "id": "1fa9ec1c",
   "metadata": {
    "execution": {
     "iopub.execute_input": "2021-04-04T23:07:54.282208Z",
     "iopub.status.busy": "2021-04-04T23:07:54.280775Z",
     "iopub.status.idle": "2021-04-04T23:07:54.303575Z",
     "shell.execute_reply": "2021-04-04T23:07:54.302789Z"
    },
    "papermill": {
     "duration": 0.050385,
     "end_time": "2021-04-04T23:07:54.303749",
     "exception": false,
     "start_time": "2021-04-04T23:07:54.253364",
     "status": "completed"
    },
    "tags": []
   },
   "outputs": [],
   "source": [
    "from sklearn.svm import OneClassSVM\n",
    "\n",
    "\n",
    "models = {\n",
    "    'oneclasssvm': OneClassSVM,\n",
    "    'knndatadescription': KNNDataDescription,\n",
    "}"
   ]
  },
  {
   "cell_type": "code",
   "execution_count": 22,
   "id": "4d72a0b1",
   "metadata": {
    "execution": {
     "iopub.execute_input": "2021-04-04T23:07:54.363191Z",
     "iopub.status.busy": "2021-04-04T23:07:54.362125Z",
     "iopub.status.idle": "2021-04-04T23:07:54.365409Z",
     "shell.execute_reply": "2021-04-04T23:07:54.364538Z"
    },
    "papermill": {
     "duration": 0.034172,
     "end_time": "2021-04-04T23:07:54.365573",
     "exception": false,
     "start_time": "2021-04-04T23:07:54.331401",
     "status": "completed"
    },
    "scrolled": true,
    "tags": []
   },
   "outputs": [],
   "source": [
    "model_cls = models[model_config['model_type']]\n",
    "model = model_cls(**model_config['hyperparameters'])"
   ]
  },
  {
   "cell_type": "markdown",
   "id": "e00cff3b",
   "metadata": {
    "papermill": {
     "duration": 0.024213,
     "end_time": "2021-04-04T23:07:54.417370",
     "exception": false,
     "start_time": "2021-04-04T23:07:54.393157",
     "status": "completed"
    },
    "tags": []
   },
   "source": [
    "# Fit"
   ]
  },
  {
   "cell_type": "code",
   "execution_count": 23,
   "id": "8b2ded89",
   "metadata": {
    "execution": {
     "iopub.execute_input": "2021-04-04T23:07:54.469109Z",
     "iopub.status.busy": "2021-04-04T23:07:54.467971Z",
     "iopub.status.idle": "2021-04-04T23:07:54.497804Z",
     "shell.execute_reply": "2021-04-04T23:07:54.496812Z"
    },
    "papermill": {
     "duration": 0.057436,
     "end_time": "2021-04-04T23:07:54.498019",
     "exception": false,
     "start_time": "2021-04-04T23:07:54.440583",
     "status": "completed"
    },
    "tags": []
   },
   "outputs": [],
   "source": [
    "model.fit(X_train)"
   ]
  },
  {
   "cell_type": "markdown",
   "id": "f99999f7",
   "metadata": {
    "papermill": {
     "duration": 0.02251,
     "end_time": "2021-04-04T23:07:54.547844",
     "exception": false,
     "start_time": "2021-04-04T23:07:54.525334",
     "status": "completed"
    },
    "tags": []
   },
   "source": [
    "# Predict"
   ]
  },
  {
   "cell_type": "code",
   "execution_count": 24,
   "id": "6536fbf7",
   "metadata": {
    "execution": {
     "iopub.execute_input": "2021-04-04T23:07:54.624913Z",
     "iopub.status.busy": "2021-04-04T23:07:54.599060Z",
     "iopub.status.idle": "2021-04-04T23:07:55.014165Z",
     "shell.execute_reply": "2021-04-04T23:07:55.013359Z"
    },
    "papermill": {
     "duration": 0.443451,
     "end_time": "2021-04-04T23:07:55.014293",
     "exception": false,
     "start_time": "2021-04-04T23:07:54.570842",
     "status": "completed"
    },
    "tags": []
   },
   "outputs": [],
   "source": [
    "predictions = model.predict(X_test)"
   ]
  },
  {
   "cell_type": "markdown",
   "id": "aa1c9881",
   "metadata": {
    "papermill": {
     "duration": 0.022731,
     "end_time": "2021-04-04T23:07:55.059946",
     "exception": false,
     "start_time": "2021-04-04T23:07:55.037215",
     "status": "completed"
    },
    "tags": []
   },
   "source": [
    "# Evaluate"
   ]
  },
  {
   "cell_type": "code",
   "execution_count": 25,
   "id": "894f0f04",
   "metadata": {
    "execution": {
     "iopub.execute_input": "2021-04-04T23:07:55.111405Z",
     "iopub.status.busy": "2021-04-04T23:07:55.110524Z",
     "iopub.status.idle": "2021-04-04T23:07:55.113623Z",
     "shell.execute_reply": "2021-04-04T23:07:55.114783Z"
    },
    "papermill": {
     "duration": 0.031935,
     "end_time": "2021-04-04T23:07:55.114997",
     "exception": false,
     "start_time": "2021-04-04T23:07:55.083062",
     "status": "completed"
    },
    "tags": []
   },
   "outputs": [],
   "source": [
    "from sklearn.metrics import f1_score"
   ]
  },
  {
   "cell_type": "code",
   "execution_count": 26,
   "id": "211744d3",
   "metadata": {
    "execution": {
     "iopub.execute_input": "2021-04-04T23:07:55.172380Z",
     "iopub.status.busy": "2021-04-04T23:07:55.171570Z",
     "iopub.status.idle": "2021-04-04T23:07:55.173841Z",
     "shell.execute_reply": "2021-04-04T23:07:55.174388Z"
    },
    "papermill": {
     "duration": 0.031298,
     "end_time": "2021-04-04T23:07:55.174539",
     "exception": false,
     "start_time": "2021-04-04T23:07:55.143241",
     "status": "completed"
    },
    "tags": []
   },
   "outputs": [],
   "source": [
    "y_test = y_test.replace([0, 1], [1, -1])"
   ]
  },
  {
   "cell_type": "code",
   "execution_count": 27,
   "id": "d68a9204",
   "metadata": {
    "execution": {
     "iopub.execute_input": "2021-04-04T23:07:55.236186Z",
     "iopub.status.busy": "2021-04-04T23:07:55.235151Z",
     "iopub.status.idle": "2021-04-04T23:07:55.237713Z",
     "shell.execute_reply": "2021-04-04T23:07:55.238466Z"
    },
    "papermill": {
     "duration": 0.035601,
     "end_time": "2021-04-04T23:07:55.238681",
     "exception": false,
     "start_time": "2021-04-04T23:07:55.203080",
     "status": "completed"
    },
    "tags": []
   },
   "outputs": [],
   "source": [
    "def evaluate(truths, predictions, pos_label, neg_label):\n",
    "    TP = 0\n",
    "    FP = 0\n",
    "    TN = 0\n",
    "    FN = 0\n",
    "\n",
    "    for truth, pred in zip(truths, predictions): \n",
    "        if truth == pred == pos_label:\n",
    "           TP += 1\n",
    "        elif pred == pos_label and truth == neg_label:\n",
    "           FP += 1\n",
    "        elif truth == pred == neg_label:\n",
    "           TN += 1\n",
    "        elif pred == neg_label and truth == pos_label:\n",
    "           FN += 1\n",
    "\n",
    "    precision = TP / (TP + FP)\n",
    "    sensitivity = TP / (TP + FN)\n",
    "    \n",
    "    return {\n",
    "        'true_pos': TP,\n",
    "        'false_pos': FP,\n",
    "        'false_neg': FN,\n",
    "        'true_neg': TN,\n",
    "        'precision': precision,\n",
    "        'sensitivity': sensitivity,\n",
    "        'f1': (2 * (precision * sensitivity)) / (precision + sensitivity)\n",
    "    }\n",
    "\n",
    "score = evaluate(y_test, predictions, pos_label=-1, neg_label=1)"
   ]
  },
  {
   "cell_type": "markdown",
   "id": "93596516",
   "metadata": {
    "papermill": {
     "duration": 0.023262,
     "end_time": "2021-04-04T23:07:55.288875",
     "exception": false,
     "start_time": "2021-04-04T23:07:55.265613",
     "status": "completed"
    },
    "tags": []
   },
   "source": [
    "# Report"
   ]
  },
  {
   "cell_type": "code",
   "execution_count": 28,
   "id": "bea5fba1",
   "metadata": {
    "execution": {
     "iopub.execute_input": "2021-04-04T23:07:55.344738Z",
     "iopub.status.busy": "2021-04-04T23:07:55.343505Z",
     "iopub.status.idle": "2021-04-04T23:07:55.349448Z",
     "shell.execute_reply": "2021-04-04T23:07:55.350086Z"
    },
    "papermill": {
     "duration": 0.037209,
     "end_time": "2021-04-04T23:07:55.350290",
     "exception": false,
     "start_time": "2021-04-04T23:07:55.313081",
     "status": "completed"
    },
    "tags": []
   },
   "outputs": [],
   "source": [
    "import csv\n",
    "\n",
    "\n",
    "dataset_config_name = DATASET_CONFIG_PATH.split('/')[-1].split('.')[0]\n",
    "model_config_name = MODEL_CONFIG_PATH.split('/')[-1].split('.')[0]\n",
    "configuration = f\"dataset_{dataset_config_name}-model_{model_config_name}\"\n",
    "\n",
    "with open('results.csv', 'a') as f:\n",
    "    report = dict({'configuration': configuration}, **score)\n",
    "    writer = csv.DictWriter(f, report.keys())\n",
    "    writer.writerow(report)"
   ]
  }
 ],
 "metadata": {
  "celltoolbar": "Tags",
  "kernelspec": {
   "display_name": "Python 3",
   "language": "python",
   "name": "python3"
  },
  "language_info": {
   "codemirror_mode": {
    "name": "ipython",
    "version": 3
   },
   "file_extension": ".py",
   "mimetype": "text/x-python",
   "name": "python",
   "nbconvert_exporter": "python",
   "pygments_lexer": "ipython3",
   "version": "3.9.1"
  },
  "papermill": {
   "default_parameters": {},
   "duration": 6.051302,
   "end_time": "2021-04-04T23:07:56.706209",
   "environment_variables": {},
   "exception": null,
   "input_path": "main.ipynb",
   "output_path": "runs/dataset_000087-model_000003.ipynb",
   "parameters": {
    "DATASET_CONFIG_PATH": "config/dataset/000087.json",
    "MODEL_CONFIG_PATH": "config/model/000003.json",
    "PROFILE_REPORTING": false
   },
   "start_time": "2021-04-04T23:07:50.654907",
   "version": "2.3.3"
  }
 },
 "nbformat": 4,
 "nbformat_minor": 5
}