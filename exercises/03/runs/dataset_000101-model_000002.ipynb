{
 "cells": [
  {
   "cell_type": "markdown",
   "id": "51c71c25",
   "metadata": {
    "papermill": {
     "duration": 0.032707,
     "end_time": "2021-04-04T23:13:10.678523",
     "exception": false,
     "start_time": "2021-04-04T23:13:10.645816",
     "status": "completed"
    },
    "tags": []
   },
   "source": [
    "# Parametrizing"
   ]
  },
  {
   "cell_type": "code",
   "execution_count": 1,
   "id": "3b136394",
   "metadata": {
    "execution": {
     "iopub.execute_input": "2021-04-04T23:13:10.729810Z",
     "iopub.status.busy": "2021-04-04T23:13:10.729084Z",
     "iopub.status.idle": "2021-04-04T23:13:10.731459Z",
     "shell.execute_reply": "2021-04-04T23:13:10.732162Z"
    },
    "papermill": {
     "duration": 0.033799,
     "end_time": "2021-04-04T23:13:10.732434",
     "exception": false,
     "start_time": "2021-04-04T23:13:10.698635",
     "status": "completed"
    },
    "tags": [
     "parameters"
    ]
   },
   "outputs": [],
   "source": [
    "DATASET_CONFIG_PATH = 'config/dataset/kc1_001.json'\n",
    "MODEL_CONFIG_PATH = 'config/model/knndd_001.json'\n",
    "PROFILE_REPORTING = False"
   ]
  },
  {
   "cell_type": "code",
   "execution_count": 2,
   "id": "921490a6",
   "metadata": {
    "execution": {
     "iopub.execute_input": "2021-04-04T23:13:10.788324Z",
     "iopub.status.busy": "2021-04-04T23:13:10.787359Z",
     "iopub.status.idle": "2021-04-04T23:13:10.789407Z",
     "shell.execute_reply": "2021-04-04T23:13:10.790167Z"
    },
    "papermill": {
     "duration": 0.027022,
     "end_time": "2021-04-04T23:13:10.790382",
     "exception": false,
     "start_time": "2021-04-04T23:13:10.763360",
     "status": "completed"
    },
    "tags": [
     "injected-parameters"
    ]
   },
   "outputs": [],
   "source": [
    "# Parameters\n",
    "DATASET_CONFIG_PATH = \"config/dataset/000101.json\"\n",
    "MODEL_CONFIG_PATH = \"config/model/000002.json\"\n",
    "PROFILE_REPORTING = False\n"
   ]
  },
  {
   "cell_type": "code",
   "execution_count": 3,
   "id": "b80f2a10",
   "metadata": {
    "execution": {
     "iopub.execute_input": "2021-04-04T23:13:10.839603Z",
     "iopub.status.busy": "2021-04-04T23:13:10.838904Z",
     "iopub.status.idle": "2021-04-04T23:13:10.841110Z",
     "shell.execute_reply": "2021-04-04T23:13:10.841616Z"
    },
    "papermill": {
     "duration": 0.02757,
     "end_time": "2021-04-04T23:13:10.841765",
     "exception": false,
     "start_time": "2021-04-04T23:13:10.814195",
     "status": "completed"
    },
    "tags": []
   },
   "outputs": [],
   "source": [
    "import json\n",
    "\n",
    "\n",
    "with open(DATASET_CONFIG_PATH) as f:\n",
    "    dataset_config = json.load(f)\n",
    "\n",
    "with open(MODEL_CONFIG_PATH) as f:\n",
    "    model_config = json.load(f)"
   ]
  },
  {
   "cell_type": "markdown",
   "id": "9a4b0e2d",
   "metadata": {
    "papermill": {
     "duration": 0.019394,
     "end_time": "2021-04-04T23:13:10.881247",
     "exception": false,
     "start_time": "2021-04-04T23:13:10.861853",
     "status": "completed"
    },
    "tags": []
   },
   "source": [
    "# Profiling"
   ]
  },
  {
   "cell_type": "code",
   "execution_count": 4,
   "id": "a3e0289b",
   "metadata": {
    "execution": {
     "iopub.execute_input": "2021-04-04T23:13:10.925817Z",
     "iopub.status.busy": "2021-04-04T23:13:10.924715Z",
     "iopub.status.idle": "2021-04-04T23:13:12.185565Z",
     "shell.execute_reply": "2021-04-04T23:13:12.184704Z"
    },
    "papermill": {
     "duration": 1.284451,
     "end_time": "2021-04-04T23:13:12.185729",
     "exception": false,
     "start_time": "2021-04-04T23:13:10.901278",
     "status": "completed"
    },
    "tags": []
   },
   "outputs": [],
   "source": [
    "import pandas as pd\n",
    "from pandas_profiling import ProfileReport"
   ]
  },
  {
   "cell_type": "code",
   "execution_count": 5,
   "id": "ee6c0666",
   "metadata": {
    "execution": {
     "iopub.execute_input": "2021-04-04T23:13:12.243532Z",
     "iopub.status.busy": "2021-04-04T23:13:12.241575Z",
     "iopub.status.idle": "2021-04-04T23:13:12.254659Z",
     "shell.execute_reply": "2021-04-04T23:13:12.253535Z"
    },
    "papermill": {
     "duration": 0.039315,
     "end_time": "2021-04-04T23:13:12.254876",
     "exception": false,
     "start_time": "2021-04-04T23:13:12.215561",
     "status": "completed"
    },
    "tags": []
   },
   "outputs": [],
   "source": [
    "df = pd.read_csv(dataset_config['dataset_path'])"
   ]
  },
  {
   "cell_type": "code",
   "execution_count": 6,
   "id": "7eca6c4a",
   "metadata": {
    "execution": {
     "iopub.execute_input": "2021-04-04T23:13:12.323064Z",
     "iopub.status.busy": "2021-04-04T23:13:12.309872Z",
     "iopub.status.idle": "2021-04-04T23:13:12.326489Z",
     "shell.execute_reply": "2021-04-04T23:13:12.327292Z"
    },
    "papermill": {
     "duration": 0.043385,
     "end_time": "2021-04-04T23:13:12.327502",
     "exception": false,
     "start_time": "2021-04-04T23:13:12.284117",
     "status": "completed"
    },
    "tags": []
   },
   "outputs": [
    {
     "name": "stdout",
     "output_type": "stream",
     "text": [
      "<class 'pandas.core.frame.DataFrame'>\n",
      "RangeIndex: 498 entries, 0 to 497\n",
      "Data columns (total 23 columns):\n",
      " #   Column             Non-Null Count  Dtype  \n",
      "---  ------             --------------  -----  \n",
      " 0   id                 498 non-null    int64  \n",
      " 1   loc                498 non-null    float64\n",
      " 2   v(g)               498 non-null    float64\n",
      " 3   ev(g)              498 non-null    float64\n",
      " 4   iv(g)              498 non-null    float64\n",
      " 5   n                  498 non-null    float64\n",
      " 6   v                  498 non-null    float64\n",
      " 7   l                  498 non-null    float64\n",
      " 8   d                  498 non-null    float64\n",
      " 9   i                  498 non-null    float64\n",
      " 10  e                  498 non-null    float64\n",
      " 11  b                  498 non-null    float64\n",
      " 12  t                  498 non-null    float64\n",
      " 13  lOCode             498 non-null    int64  \n",
      " 14  lOComment          498 non-null    int64  \n",
      " 15  lOBlank            498 non-null    int64  \n",
      " 16  locCodeAndComment  498 non-null    int64  \n",
      " 17  uniq_Op            498 non-null    float64\n",
      " 18  uniq_Opnd          498 non-null    float64\n",
      " 19  total_Op           498 non-null    float64\n",
      " 20  total_Opnd         498 non-null    float64\n",
      " 21  branchCount        498 non-null    float64\n",
      " 22  defects            498 non-null    bool   \n",
      "dtypes: bool(1), float64(17), int64(5)\n",
      "memory usage: 86.2 KB\n"
     ]
    }
   ],
   "source": [
    "df.info()"
   ]
  },
  {
   "cell_type": "code",
   "execution_count": 7,
   "id": "3638e5e8",
   "metadata": {
    "execution": {
     "iopub.execute_input": "2021-04-04T23:13:12.389520Z",
     "iopub.status.busy": "2021-04-04T23:13:12.388677Z",
     "iopub.status.idle": "2021-04-04T23:13:12.417857Z",
     "shell.execute_reply": "2021-04-04T23:13:12.418549Z"
    },
    "papermill": {
     "duration": 0.060051,
     "end_time": "2021-04-04T23:13:12.418747",
     "exception": false,
     "start_time": "2021-04-04T23:13:12.358696",
     "status": "completed"
    },
    "tags": []
   },
   "outputs": [
    {
     "data": {
      "text/html": [
       "<div>\n",
       "<style scoped>\n",
       "    .dataframe tbody tr th:only-of-type {\n",
       "        vertical-align: middle;\n",
       "    }\n",
       "\n",
       "    .dataframe tbody tr th {\n",
       "        vertical-align: top;\n",
       "    }\n",
       "\n",
       "    .dataframe thead th {\n",
       "        text-align: right;\n",
       "    }\n",
       "</style>\n",
       "<table border=\"1\" class=\"dataframe\">\n",
       "  <thead>\n",
       "    <tr style=\"text-align: right;\">\n",
       "      <th></th>\n",
       "      <th>id</th>\n",
       "      <th>loc</th>\n",
       "      <th>v(g)</th>\n",
       "      <th>ev(g)</th>\n",
       "      <th>iv(g)</th>\n",
       "      <th>n</th>\n",
       "      <th>v</th>\n",
       "      <th>l</th>\n",
       "      <th>d</th>\n",
       "      <th>i</th>\n",
       "      <th>...</th>\n",
       "      <th>lOCode</th>\n",
       "      <th>lOComment</th>\n",
       "      <th>lOBlank</th>\n",
       "      <th>locCodeAndComment</th>\n",
       "      <th>uniq_Op</th>\n",
       "      <th>uniq_Opnd</th>\n",
       "      <th>total_Op</th>\n",
       "      <th>total_Opnd</th>\n",
       "      <th>branchCount</th>\n",
       "      <th>defects</th>\n",
       "    </tr>\n",
       "  </thead>\n",
       "  <tbody>\n",
       "    <tr>\n",
       "      <th>0</th>\n",
       "      <td>1</td>\n",
       "      <td>1.1</td>\n",
       "      <td>1.4</td>\n",
       "      <td>1.4</td>\n",
       "      <td>1.4</td>\n",
       "      <td>1.3</td>\n",
       "      <td>1.30</td>\n",
       "      <td>1.30</td>\n",
       "      <td>1.30</td>\n",
       "      <td>1.30</td>\n",
       "      <td>...</td>\n",
       "      <td>2</td>\n",
       "      <td>2</td>\n",
       "      <td>2</td>\n",
       "      <td>2</td>\n",
       "      <td>1.2</td>\n",
       "      <td>1.2</td>\n",
       "      <td>1.2</td>\n",
       "      <td>1.2</td>\n",
       "      <td>1.4</td>\n",
       "      <td>False</td>\n",
       "    </tr>\n",
       "    <tr>\n",
       "      <th>1</th>\n",
       "      <td>2</td>\n",
       "      <td>1.0</td>\n",
       "      <td>1.0</td>\n",
       "      <td>1.0</td>\n",
       "      <td>1.0</td>\n",
       "      <td>1.0</td>\n",
       "      <td>1.00</td>\n",
       "      <td>1.00</td>\n",
       "      <td>1.00</td>\n",
       "      <td>1.00</td>\n",
       "      <td>...</td>\n",
       "      <td>1</td>\n",
       "      <td>1</td>\n",
       "      <td>1</td>\n",
       "      <td>1</td>\n",
       "      <td>1.0</td>\n",
       "      <td>1.0</td>\n",
       "      <td>1.0</td>\n",
       "      <td>1.0</td>\n",
       "      <td>1.0</td>\n",
       "      <td>True</td>\n",
       "    </tr>\n",
       "    <tr>\n",
       "      <th>2</th>\n",
       "      <td>3</td>\n",
       "      <td>24.0</td>\n",
       "      <td>5.0</td>\n",
       "      <td>1.0</td>\n",
       "      <td>3.0</td>\n",
       "      <td>63.0</td>\n",
       "      <td>309.13</td>\n",
       "      <td>0.11</td>\n",
       "      <td>9.50</td>\n",
       "      <td>32.54</td>\n",
       "      <td>...</td>\n",
       "      <td>1</td>\n",
       "      <td>0</td>\n",
       "      <td>6</td>\n",
       "      <td>0</td>\n",
       "      <td>15.0</td>\n",
       "      <td>15.0</td>\n",
       "      <td>44.0</td>\n",
       "      <td>19.0</td>\n",
       "      <td>9.0</td>\n",
       "      <td>False</td>\n",
       "    </tr>\n",
       "    <tr>\n",
       "      <th>3</th>\n",
       "      <td>4</td>\n",
       "      <td>20.0</td>\n",
       "      <td>4.0</td>\n",
       "      <td>4.0</td>\n",
       "      <td>2.0</td>\n",
       "      <td>47.0</td>\n",
       "      <td>215.49</td>\n",
       "      <td>0.06</td>\n",
       "      <td>16.00</td>\n",
       "      <td>13.47</td>\n",
       "      <td>...</td>\n",
       "      <td>0</td>\n",
       "      <td>0</td>\n",
       "      <td>3</td>\n",
       "      <td>0</td>\n",
       "      <td>16.0</td>\n",
       "      <td>8.0</td>\n",
       "      <td>31.0</td>\n",
       "      <td>16.0</td>\n",
       "      <td>7.0</td>\n",
       "      <td>False</td>\n",
       "    </tr>\n",
       "    <tr>\n",
       "      <th>4</th>\n",
       "      <td>5</td>\n",
       "      <td>24.0</td>\n",
       "      <td>6.0</td>\n",
       "      <td>6.0</td>\n",
       "      <td>2.0</td>\n",
       "      <td>72.0</td>\n",
       "      <td>346.13</td>\n",
       "      <td>0.06</td>\n",
       "      <td>17.33</td>\n",
       "      <td>19.97</td>\n",
       "      <td>...</td>\n",
       "      <td>0</td>\n",
       "      <td>0</td>\n",
       "      <td>3</td>\n",
       "      <td>0</td>\n",
       "      <td>16.0</td>\n",
       "      <td>12.0</td>\n",
       "      <td>46.0</td>\n",
       "      <td>26.0</td>\n",
       "      <td>11.0</td>\n",
       "      <td>False</td>\n",
       "    </tr>\n",
       "  </tbody>\n",
       "</table>\n",
       "<p>5 rows × 23 columns</p>\n",
       "</div>"
      ],
      "text/plain": [
       "   id   loc  v(g)  ev(g)  iv(g)     n       v     l      d      i  ...  \\\n",
       "0   1   1.1   1.4    1.4    1.4   1.3    1.30  1.30   1.30   1.30  ...   \n",
       "1   2   1.0   1.0    1.0    1.0   1.0    1.00  1.00   1.00   1.00  ...   \n",
       "2   3  24.0   5.0    1.0    3.0  63.0  309.13  0.11   9.50  32.54  ...   \n",
       "3   4  20.0   4.0    4.0    2.0  47.0  215.49  0.06  16.00  13.47  ...   \n",
       "4   5  24.0   6.0    6.0    2.0  72.0  346.13  0.06  17.33  19.97  ...   \n",
       "\n",
       "   lOCode  lOComment  lOBlank  locCodeAndComment  uniq_Op  uniq_Opnd  \\\n",
       "0       2          2        2                  2      1.2        1.2   \n",
       "1       1          1        1                  1      1.0        1.0   \n",
       "2       1          0        6                  0     15.0       15.0   \n",
       "3       0          0        3                  0     16.0        8.0   \n",
       "4       0          0        3                  0     16.0       12.0   \n",
       "\n",
       "   total_Op  total_Opnd  branchCount  defects  \n",
       "0       1.2         1.2          1.4    False  \n",
       "1       1.0         1.0          1.0     True  \n",
       "2      44.0        19.0          9.0    False  \n",
       "3      31.0        16.0          7.0    False  \n",
       "4      46.0        26.0         11.0    False  \n",
       "\n",
       "[5 rows x 23 columns]"
      ]
     },
     "execution_count": 7,
     "metadata": {},
     "output_type": "execute_result"
    }
   ],
   "source": [
    "df.head()"
   ]
  },
  {
   "cell_type": "code",
   "execution_count": 8,
   "id": "733e95eb",
   "metadata": {
    "execution": {
     "iopub.execute_input": "2021-04-04T23:13:12.470190Z",
     "iopub.status.busy": "2021-04-04T23:13:12.469162Z",
     "iopub.status.idle": "2021-04-04T23:13:12.472254Z",
     "shell.execute_reply": "2021-04-04T23:13:12.471707Z"
    },
    "papermill": {
     "duration": 0.029736,
     "end_time": "2021-04-04T23:13:12.472379",
     "exception": false,
     "start_time": "2021-04-04T23:13:12.442643",
     "status": "completed"
    },
    "tags": []
   },
   "outputs": [],
   "source": [
    "del df['id']"
   ]
  },
  {
   "cell_type": "code",
   "execution_count": 9,
   "id": "6ff6f5b0",
   "metadata": {
    "execution": {
     "iopub.execute_input": "2021-04-04T23:13:12.525798Z",
     "iopub.status.busy": "2021-04-04T23:13:12.525109Z",
     "iopub.status.idle": "2021-04-04T23:13:12.527999Z",
     "shell.execute_reply": "2021-04-04T23:13:12.527310Z"
    },
    "papermill": {
     "duration": 0.028843,
     "end_time": "2021-04-04T23:13:12.528155",
     "exception": false,
     "start_time": "2021-04-04T23:13:12.499312",
     "status": "completed"
    },
    "tags": []
   },
   "outputs": [],
   "source": [
    "if PROFILE_REPORTING:\n",
    "    ProfileReport(df).to_widgets()"
   ]
  },
  {
   "cell_type": "markdown",
   "id": "1deaf3f0",
   "metadata": {
    "papermill": {
     "duration": 0.021172,
     "end_time": "2021-04-04T23:13:12.574542",
     "exception": false,
     "start_time": "2021-04-04T23:13:12.553370",
     "status": "completed"
    },
    "tags": []
   },
   "source": [
    "# Preprocess"
   ]
  },
  {
   "cell_type": "code",
   "execution_count": 10,
   "id": "1513e563",
   "metadata": {
    "execution": {
     "iopub.execute_input": "2021-04-04T23:13:12.622694Z",
     "iopub.status.busy": "2021-04-04T23:13:12.621408Z",
     "iopub.status.idle": "2021-04-04T23:13:12.625321Z",
     "shell.execute_reply": "2021-04-04T23:13:12.624482Z"
    },
    "papermill": {
     "duration": 0.029643,
     "end_time": "2021-04-04T23:13:12.625439",
     "exception": false,
     "start_time": "2021-04-04T23:13:12.595796",
     "status": "completed"
    },
    "tags": []
   },
   "outputs": [],
   "source": [
    "working_df = df.copy()"
   ]
  },
  {
   "cell_type": "code",
   "execution_count": 11,
   "id": "3b26d675",
   "metadata": {
    "execution": {
     "iopub.execute_input": "2021-04-04T23:13:12.679670Z",
     "iopub.status.busy": "2021-04-04T23:13:12.677786Z",
     "iopub.status.idle": "2021-04-04T23:13:12.683772Z",
     "shell.execute_reply": "2021-04-04T23:13:12.682859Z"
    },
    "papermill": {
     "duration": 0.032187,
     "end_time": "2021-04-04T23:13:12.683973",
     "exception": false,
     "start_time": "2021-04-04T23:13:12.651786",
     "status": "completed"
    },
    "tags": []
   },
   "outputs": [],
   "source": [
    "working_df['defects'] = working_df['defects'].replace([False, True], [0, 1])"
   ]
  },
  {
   "cell_type": "code",
   "execution_count": 12,
   "id": "eb48604f",
   "metadata": {
    "execution": {
     "iopub.execute_input": "2021-04-04T23:13:12.738963Z",
     "iopub.status.busy": "2021-04-04T23:13:12.737662Z",
     "iopub.status.idle": "2021-04-04T23:13:12.741204Z",
     "shell.execute_reply": "2021-04-04T23:13:12.740293Z"
    },
    "papermill": {
     "duration": 0.030193,
     "end_time": "2021-04-04T23:13:12.741389",
     "exception": false,
     "start_time": "2021-04-04T23:13:12.711196",
     "status": "completed"
    },
    "tags": []
   },
   "outputs": [],
   "source": [
    "for col in dataset_config['delete_columns']:\n",
    "    del working_df[col]"
   ]
  },
  {
   "cell_type": "code",
   "execution_count": 13,
   "id": "9a17bc29",
   "metadata": {
    "execution": {
     "iopub.execute_input": "2021-04-04T23:13:12.802911Z",
     "iopub.status.busy": "2021-04-04T23:13:12.801847Z",
     "iopub.status.idle": "2021-04-04T23:13:12.810995Z",
     "shell.execute_reply": "2021-04-04T23:13:12.811734Z"
    },
    "papermill": {
     "duration": 0.040286,
     "end_time": "2021-04-04T23:13:12.811943",
     "exception": false,
     "start_time": "2021-04-04T23:13:12.771657",
     "status": "completed"
    },
    "tags": []
   },
   "outputs": [],
   "source": [
    "working_df = working_df.drop_duplicates()"
   ]
  },
  {
   "cell_type": "markdown",
   "id": "a4d52ca6",
   "metadata": {
    "papermill": {
     "duration": 0.021466,
     "end_time": "2021-04-04T23:13:12.861266",
     "exception": false,
     "start_time": "2021-04-04T23:13:12.839800",
     "status": "completed"
    },
    "tags": []
   },
   "source": [
    "# Split"
   ]
  },
  {
   "cell_type": "code",
   "execution_count": 14,
   "id": "3e9ee4b5",
   "metadata": {
    "execution": {
     "iopub.execute_input": "2021-04-04T23:13:12.910354Z",
     "iopub.status.busy": "2021-04-04T23:13:12.909349Z",
     "iopub.status.idle": "2021-04-04T23:13:12.940912Z",
     "shell.execute_reply": "2021-04-04T23:13:12.941621Z"
    },
    "papermill": {
     "duration": 0.058686,
     "end_time": "2021-04-04T23:13:12.941821",
     "exception": false,
     "start_time": "2021-04-04T23:13:12.883135",
     "status": "completed"
    },
    "tags": []
   },
   "outputs": [],
   "source": [
    "from sklearn.model_selection import train_test_split"
   ]
  },
  {
   "cell_type": "code",
   "execution_count": 15,
   "id": "274004ce",
   "metadata": {
    "execution": {
     "iopub.execute_input": "2021-04-04T23:13:13.001786Z",
     "iopub.status.busy": "2021-04-04T23:13:13.000612Z",
     "iopub.status.idle": "2021-04-04T23:13:13.008222Z",
     "shell.execute_reply": "2021-04-04T23:13:13.007481Z"
    },
    "papermill": {
     "duration": 0.035306,
     "end_time": "2021-04-04T23:13:13.008391",
     "exception": false,
     "start_time": "2021-04-04T23:13:12.973085",
     "status": "completed"
    },
    "scrolled": true,
    "tags": []
   },
   "outputs": [],
   "source": [
    "inlier, outlier = working_df[working_df['defects'] == 0], working_df[working_df['defects'] == 1]"
   ]
  },
  {
   "cell_type": "code",
   "execution_count": 16,
   "id": "753c7b03",
   "metadata": {
    "execution": {
     "iopub.execute_input": "2021-04-04T23:13:13.063366Z",
     "iopub.status.busy": "2021-04-04T23:13:13.060210Z",
     "iopub.status.idle": "2021-04-04T23:13:13.066656Z",
     "shell.execute_reply": "2021-04-04T23:13:13.065922Z"
    },
    "papermill": {
     "duration": 0.033478,
     "end_time": "2021-04-04T23:13:13.066893",
     "exception": false,
     "start_time": "2021-04-04T23:13:13.033415",
     "status": "completed"
    },
    "tags": []
   },
   "outputs": [],
   "source": [
    "X_inlier = inlier.copy()\n",
    "y_inlier = X_inlier.pop('defects')\n",
    "X_outlier = outlier.copy()\n",
    "y_outlier = X_outlier.pop('defects')"
   ]
  },
  {
   "cell_type": "code",
   "execution_count": 17,
   "id": "2ba43193",
   "metadata": {
    "execution": {
     "iopub.execute_input": "2021-04-04T23:13:13.128051Z",
     "iopub.status.busy": "2021-04-04T23:13:13.127154Z",
     "iopub.status.idle": "2021-04-04T23:13:13.130946Z",
     "shell.execute_reply": "2021-04-04T23:13:13.131839Z"
    },
    "papermill": {
     "duration": 0.034504,
     "end_time": "2021-04-04T23:13:13.132086",
     "exception": false,
     "start_time": "2021-04-04T23:13:13.097582",
     "status": "completed"
    },
    "tags": []
   },
   "outputs": [],
   "source": [
    "test_size = dataset_config['test_size']\n",
    "random_state = dataset_config['random_state']\n",
    "\n",
    "X_inlier_train, X_inlier_test, y_inlier_train, y_inlier_test = train_test_split(\n",
    "    X_inlier,\n",
    "    y_inlier,\n",
    "    test_size=test_size,\n",
    "    random_state=random_state\n",
    ")"
   ]
  },
  {
   "cell_type": "code",
   "execution_count": 18,
   "id": "0b7582ca",
   "metadata": {
    "execution": {
     "iopub.execute_input": "2021-04-04T23:13:13.188949Z",
     "iopub.status.busy": "2021-04-04T23:13:13.187926Z",
     "iopub.status.idle": "2021-04-04T23:13:13.190794Z",
     "shell.execute_reply": "2021-04-04T23:13:13.191487Z"
    },
    "papermill": {
     "duration": 0.034805,
     "end_time": "2021-04-04T23:13:13.191683",
     "exception": false,
     "start_time": "2021-04-04T23:13:13.156878",
     "status": "completed"
    },
    "tags": []
   },
   "outputs": [],
   "source": [
    "test_outlier_size = dataset_config['test_outlier_size']\n",
    "if test_outlier_size > 0.0:\n",
    "    X_outlier_train, X_outlier_test, y_outlier_train, y_outlier_test = train_test_split(\n",
    "        X_outlier,\n",
    "        y_outlier,\n",
    "        test_size=test_outlier_size,\n",
    "        random_state=random_state\n",
    "    )\n",
    "else:\n",
    "    X_outlier_train, y_outlier_train = pd.DataFrame(columns=X_outlier.columns), pd.Series(dtype='int64')\n",
    "    X_outlier_test, y_outlier_test = X_outlier.copy(), y_outlier.copy()"
   ]
  },
  {
   "cell_type": "code",
   "execution_count": 19,
   "id": "c34363db",
   "metadata": {
    "execution": {
     "iopub.execute_input": "2021-04-04T23:13:13.247102Z",
     "iopub.status.busy": "2021-04-04T23:13:13.244940Z",
     "iopub.status.idle": "2021-04-04T23:13:13.252387Z",
     "shell.execute_reply": "2021-04-04T23:13:13.251342Z"
    },
    "papermill": {
     "duration": 0.037105,
     "end_time": "2021-04-04T23:13:13.252587",
     "exception": false,
     "start_time": "2021-04-04T23:13:13.215482",
     "status": "completed"
    },
    "tags": []
   },
   "outputs": [],
   "source": [
    "X_train, y_train = pd.concat([X_inlier_train, X_outlier_train], ignore_index=True), pd.concat([y_inlier_train, y_outlier_train], ignore_index=True)\n",
    "X_test, y_test = pd.concat([X_inlier_test, X_outlier_test], ignore_index=True), pd.concat([y_inlier_test, y_outlier_test], ignore_index=True)"
   ]
  },
  {
   "cell_type": "markdown",
   "id": "7cde7309",
   "metadata": {
    "papermill": {
     "duration": 0.022049,
     "end_time": "2021-04-04T23:13:13.304390",
     "exception": false,
     "start_time": "2021-04-04T23:13:13.282341",
     "status": "completed"
    },
    "tags": []
   },
   "source": [
    "# Model"
   ]
  },
  {
   "cell_type": "code",
   "execution_count": 20,
   "id": "2b12a415",
   "metadata": {
    "execution": {
     "iopub.execute_input": "2021-04-04T23:13:13.366341Z",
     "iopub.status.busy": "2021-04-04T23:13:13.365677Z",
     "iopub.status.idle": "2021-04-04T23:13:13.368519Z",
     "shell.execute_reply": "2021-04-04T23:13:13.369253Z"
    },
    "papermill": {
     "duration": 0.042047,
     "end_time": "2021-04-04T23:13:13.369473",
     "exception": false,
     "start_time": "2021-04-04T23:13:13.327426",
     "status": "completed"
    },
    "tags": []
   },
   "outputs": [],
   "source": [
    "from math import sqrt\n",
    "\n",
    "\n",
    "class KNNDataDescription:\n",
    "    def __init__(self, k=5, outlier_threshold=1.0):\n",
    "        self.k = k\n",
    "        self.outlier_threshold = outlier_threshold\n",
    "        self.X = []\n",
    "    \n",
    "    def fit(self, X):\n",
    "        self.X = [features.to_list() for index, features in X.iterrows()]\n",
    "\n",
    "    def predict(self, entries):\n",
    "        return [self.predict_entry(features.to_list()) for index, features in entries.iterrows()]\n",
    "    \n",
    "    def predict_entry(self, entry):\n",
    "        kth_neighbor, kth_distance = self.get_kth_neighbor(entry, self.k)\n",
    "        kth_kth_neighbor, kth_kth_distance = self.get_kth_neighbor(kth_neighbor, self.k + 1)\n",
    "\n",
    "        outlier_score = kth_distance / (kth_kth_distance + 0.000001)\n",
    "\n",
    "        return 1 if outlier_score < self.outlier_threshold else -1\n",
    "        \n",
    "    def euclidean_distance(self, features1, features2):\n",
    "        distance = 0.0\n",
    "        for feat1, feat2 in zip(features1, features2):\n",
    "            distance += (feat1 - feat2)**2\n",
    "                \n",
    "        return sqrt(distance)\n",
    "\n",
    "    def get_neighbors(self, entry, k):\n",
    "        distance_to_data_points = [\n",
    "            (data_point, self.euclidean_distance(entry, data_point))\n",
    "            for data_point in self.X\n",
    "        ]\n",
    "        sorted_by_distance = sorted(distance_to_data_points, key=lambda tup: tup[1])\n",
    "        neighbors = sorted_by_distance[:k]\n",
    "        return neighbors\n",
    "\n",
    "    def get_kth_neighbor(self, entry, k):\n",
    "        neighbors = self.get_neighbors(entry, k)\n",
    "        return neighbors[-1]\n"
   ]
  },
  {
   "cell_type": "code",
   "execution_count": 21,
   "id": "1fa9ec1c",
   "metadata": {
    "execution": {
     "iopub.execute_input": "2021-04-04T23:13:13.430771Z",
     "iopub.status.busy": "2021-04-04T23:13:13.429741Z",
     "iopub.status.idle": "2021-04-04T23:13:13.454058Z",
     "shell.execute_reply": "2021-04-04T23:13:13.453053Z"
    },
    "papermill": {
     "duration": 0.052036,
     "end_time": "2021-04-04T23:13:13.454239",
     "exception": false,
     "start_time": "2021-04-04T23:13:13.402203",
     "status": "completed"
    },
    "tags": []
   },
   "outputs": [],
   "source": [
    "from sklearn.svm import OneClassSVM\n",
    "\n",
    "\n",
    "models = {\n",
    "    'oneclasssvm': OneClassSVM,\n",
    "    'knndatadescription': KNNDataDescription,\n",
    "}"
   ]
  },
  {
   "cell_type": "code",
   "execution_count": 22,
   "id": "4d72a0b1",
   "metadata": {
    "execution": {
     "iopub.execute_input": "2021-04-04T23:13:13.513126Z",
     "iopub.status.busy": "2021-04-04T23:13:13.512415Z",
     "iopub.status.idle": "2021-04-04T23:13:13.514842Z",
     "shell.execute_reply": "2021-04-04T23:13:13.515542Z"
    },
    "papermill": {
     "duration": 0.030265,
     "end_time": "2021-04-04T23:13:13.515737",
     "exception": false,
     "start_time": "2021-04-04T23:13:13.485472",
     "status": "completed"
    },
    "scrolled": true,
    "tags": []
   },
   "outputs": [],
   "source": [
    "model_cls = models[model_config['model_type']]\n",
    "model = model_cls(**model_config['hyperparameters'])"
   ]
  },
  {
   "cell_type": "markdown",
   "id": "e00cff3b",
   "metadata": {
    "papermill": {
     "duration": 0.022319,
     "end_time": "2021-04-04T23:13:13.565603",
     "exception": false,
     "start_time": "2021-04-04T23:13:13.543284",
     "status": "completed"
    },
    "tags": []
   },
   "source": [
    "# Fit"
   ]
  },
  {
   "cell_type": "code",
   "execution_count": 23,
   "id": "8b2ded89",
   "metadata": {
    "execution": {
     "iopub.execute_input": "2021-04-04T23:13:13.615338Z",
     "iopub.status.busy": "2021-04-04T23:13:13.614740Z",
     "iopub.status.idle": "2021-04-04T23:13:13.639952Z",
     "shell.execute_reply": "2021-04-04T23:13:13.640435Z"
    },
    "papermill": {
     "duration": 0.052584,
     "end_time": "2021-04-04T23:13:13.640673",
     "exception": false,
     "start_time": "2021-04-04T23:13:13.588089",
     "status": "completed"
    },
    "tags": []
   },
   "outputs": [],
   "source": [
    "model.fit(X_train)"
   ]
  },
  {
   "cell_type": "markdown",
   "id": "f99999f7",
   "metadata": {
    "papermill": {
     "duration": 0.022508,
     "end_time": "2021-04-04T23:13:13.692004",
     "exception": false,
     "start_time": "2021-04-04T23:13:13.669496",
     "status": "completed"
    },
    "tags": []
   },
   "source": [
    "# Predict"
   ]
  },
  {
   "cell_type": "code",
   "execution_count": 24,
   "id": "6536fbf7",
   "metadata": {
    "execution": {
     "iopub.execute_input": "2021-04-04T23:13:13.748359Z",
     "iopub.status.busy": "2021-04-04T23:13:13.745940Z",
     "iopub.status.idle": "2021-04-04T23:13:14.084075Z",
     "shell.execute_reply": "2021-04-04T23:13:14.084774Z"
    },
    "papermill": {
     "duration": 0.370346,
     "end_time": "2021-04-04T23:13:14.084973",
     "exception": false,
     "start_time": "2021-04-04T23:13:13.714627",
     "status": "completed"
    },
    "tags": []
   },
   "outputs": [],
   "source": [
    "predictions = model.predict(X_test)"
   ]
  },
  {
   "cell_type": "markdown",
   "id": "aa1c9881",
   "metadata": {
    "papermill": {
     "duration": 0.022681,
     "end_time": "2021-04-04T23:13:14.141399",
     "exception": false,
     "start_time": "2021-04-04T23:13:14.118718",
     "status": "completed"
    },
    "tags": []
   },
   "source": [
    "# Evaluate"
   ]
  },
  {
   "cell_type": "code",
   "execution_count": 25,
   "id": "894f0f04",
   "metadata": {
    "execution": {
     "iopub.execute_input": "2021-04-04T23:13:14.191981Z",
     "iopub.status.busy": "2021-04-04T23:13:14.190929Z",
     "iopub.status.idle": "2021-04-04T23:13:14.193264Z",
     "shell.execute_reply": "2021-04-04T23:13:14.193956Z"
    },
    "papermill": {
     "duration": 0.030078,
     "end_time": "2021-04-04T23:13:14.194152",
     "exception": false,
     "start_time": "2021-04-04T23:13:14.164074",
     "status": "completed"
    },
    "tags": []
   },
   "outputs": [],
   "source": [
    "from sklearn.metrics import f1_score"
   ]
  },
  {
   "cell_type": "code",
   "execution_count": 26,
   "id": "211744d3",
   "metadata": {
    "execution": {
     "iopub.execute_input": "2021-04-04T23:13:14.253902Z",
     "iopub.status.busy": "2021-04-04T23:13:14.252650Z",
     "iopub.status.idle": "2021-04-04T23:13:14.255374Z",
     "shell.execute_reply": "2021-04-04T23:13:14.256052Z"
    },
    "papermill": {
     "duration": 0.031764,
     "end_time": "2021-04-04T23:13:14.256247",
     "exception": false,
     "start_time": "2021-04-04T23:13:14.224483",
     "status": "completed"
    },
    "tags": []
   },
   "outputs": [],
   "source": [
    "y_test = y_test.replace([0, 1], [1, -1])"
   ]
  },
  {
   "cell_type": "code",
   "execution_count": 27,
   "id": "d68a9204",
   "metadata": {
    "execution": {
     "iopub.execute_input": "2021-04-04T23:13:14.356528Z",
     "iopub.status.busy": "2021-04-04T23:13:14.355539Z",
     "iopub.status.idle": "2021-04-04T23:13:14.358509Z",
     "shell.execute_reply": "2021-04-04T23:13:14.359256Z"
    },
    "papermill": {
     "duration": 0.038505,
     "end_time": "2021-04-04T23:13:14.359466",
     "exception": false,
     "start_time": "2021-04-04T23:13:14.320961",
     "status": "completed"
    },
    "tags": []
   },
   "outputs": [],
   "source": [
    "def evaluate(truths, predictions, pos_label, neg_label):\n",
    "    TP = 0\n",
    "    FP = 0\n",
    "    TN = 0\n",
    "    FN = 0\n",
    "\n",
    "    for truth, pred in zip(truths, predictions): \n",
    "        if truth == pred == pos_label:\n",
    "           TP += 1\n",
    "        elif pred == pos_label and truth == neg_label:\n",
    "           FP += 1\n",
    "        elif truth == pred == neg_label:\n",
    "           TN += 1\n",
    "        elif pred == neg_label and truth == pos_label:\n",
    "           FN += 1\n",
    "\n",
    "    precision = TP / (TP + FP)\n",
    "    sensitivity = TP / (TP + FN)\n",
    "    \n",
    "    return {\n",
    "        'true_pos': TP,\n",
    "        'false_pos': FP,\n",
    "        'false_neg': FN,\n",
    "        'true_neg': TN,\n",
    "        'precision': precision,\n",
    "        'sensitivity': sensitivity,\n",
    "        'f1': (2 * (precision * sensitivity)) / (precision + sensitivity)\n",
    "    }\n",
    "\n",
    "score = evaluate(y_test, predictions, pos_label=-1, neg_label=1)"
   ]
  },
  {
   "cell_type": "markdown",
   "id": "93596516",
   "metadata": {
    "papermill": {
     "duration": 0.024547,
     "end_time": "2021-04-04T23:13:14.410689",
     "exception": false,
     "start_time": "2021-04-04T23:13:14.386142",
     "status": "completed"
    },
    "tags": []
   },
   "source": [
    "# Report"
   ]
  },
  {
   "cell_type": "code",
   "execution_count": 28,
   "id": "bea5fba1",
   "metadata": {
    "execution": {
     "iopub.execute_input": "2021-04-04T23:13:14.465660Z",
     "iopub.status.busy": "2021-04-04T23:13:14.464660Z",
     "iopub.status.idle": "2021-04-04T23:13:14.467957Z",
     "shell.execute_reply": "2021-04-04T23:13:14.466976Z"
    },
    "papermill": {
     "duration": 0.034049,
     "end_time": "2021-04-04T23:13:14.468146",
     "exception": false,
     "start_time": "2021-04-04T23:13:14.434097",
     "status": "completed"
    },
    "tags": []
   },
   "outputs": [],
   "source": [
    "import csv\n",
    "\n",
    "\n",
    "dataset_config_name = DATASET_CONFIG_PATH.split('/')[-1].split('.')[0]\n",
    "model_config_name = MODEL_CONFIG_PATH.split('/')[-1].split('.')[0]\n",
    "configuration = f\"dataset_{dataset_config_name}-model_{model_config_name}\"\n",
    "\n",
    "with open('results.csv', 'a') as f:\n",
    "    report = dict({'configuration': configuration}, **score)\n",
    "    writer = csv.DictWriter(f, report.keys())\n",
    "    writer.writerow(report)"
   ]
  }
 ],
 "metadata": {
  "celltoolbar": "Tags",
  "kernelspec": {
   "display_name": "Python 3",
   "language": "python",
   "name": "python3"
  },
  "language_info": {
   "codemirror_mode": {
    "name": "ipython",
    "version": 3
   },
   "file_extension": ".py",
   "mimetype": "text/x-python",
   "name": "python",
   "nbconvert_exporter": "python",
   "pygments_lexer": "ipython3",
   "version": "3.9.1"
  },
  "papermill": {
   "default_parameters": {},
   "duration": 6.050694,
   "end_time": "2021-04-04T23:13:15.840910",
   "environment_variables": {},
   "exception": null,
   "input_path": "main.ipynb",
   "output_path": "runs/dataset_000101-model_000002.ipynb",
   "parameters": {
    "DATASET_CONFIG_PATH": "config/dataset/000101.json",
    "MODEL_CONFIG_PATH": "config/model/000002.json",
    "PROFILE_REPORTING": false
   },
   "start_time": "2021-04-04T23:13:09.790216",
   "version": "2.3.3"
  }
 },
 "nbformat": 4,
 "nbformat_minor": 5
}