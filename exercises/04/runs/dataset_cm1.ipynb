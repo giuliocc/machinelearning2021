{
 "cells": [
  {
   "cell_type": "markdown",
   "id": "51c71c25",
   "metadata": {
    "papermill": {
     "duration": 0.024683,
     "end_time": "2021-04-13T07:23:29.050841",
     "exception": false,
     "start_time": "2021-04-13T07:23:29.026158",
     "status": "completed"
    },
    "tags": []
   },
   "source": [
    "# Parametrizing"
   ]
  },
  {
   "cell_type": "code",
   "execution_count": 1,
   "id": "3b136394",
   "metadata": {
    "execution": {
     "iopub.execute_input": "2021-04-13T07:23:29.097019Z",
     "iopub.status.busy": "2021-04-13T07:23:29.096108Z",
     "iopub.status.idle": "2021-04-13T07:23:29.099028Z",
     "shell.execute_reply": "2021-04-13T07:23:29.098358Z"
    },
    "papermill": {
     "duration": 0.031179,
     "end_time": "2021-04-13T07:23:29.099167",
     "exception": false,
     "start_time": "2021-04-13T07:23:29.067988",
     "status": "completed"
    },
    "tags": [
     "parameters"
    ]
   },
   "outputs": [],
   "source": [
    "DATASET_CONFIG_PATH = 'config/dataset/kc1.json'\n",
    "PROFILE_REPORTING = False"
   ]
  },
  {
   "cell_type": "code",
   "execution_count": 2,
   "id": "3b83e886",
   "metadata": {
    "execution": {
     "iopub.execute_input": "2021-04-13T07:23:29.140757Z",
     "iopub.status.busy": "2021-04-13T07:23:29.139928Z",
     "iopub.status.idle": "2021-04-13T07:23:29.142202Z",
     "shell.execute_reply": "2021-04-13T07:23:29.142926Z"
    },
    "papermill": {
     "duration": 0.025079,
     "end_time": "2021-04-13T07:23:29.143130",
     "exception": false,
     "start_time": "2021-04-13T07:23:29.118051",
     "status": "completed"
    },
    "tags": [
     "injected-parameters"
    ]
   },
   "outputs": [],
   "source": [
    "# Parameters\n",
    "DATASET_CONFIG_PATH = \"config/dataset/cm1.json\"\n",
    "PROFILE_REPORTING = False\n"
   ]
  },
  {
   "cell_type": "code",
   "execution_count": 3,
   "id": "b80f2a10",
   "metadata": {
    "execution": {
     "iopub.execute_input": "2021-04-13T07:23:29.182800Z",
     "iopub.status.busy": "2021-04-13T07:23:29.181869Z",
     "iopub.status.idle": "2021-04-13T07:23:29.184917Z",
     "shell.execute_reply": "2021-04-13T07:23:29.185645Z"
    },
    "papermill": {
     "duration": 0.025146,
     "end_time": "2021-04-13T07:23:29.185903",
     "exception": false,
     "start_time": "2021-04-13T07:23:29.160757",
     "status": "completed"
    },
    "tags": []
   },
   "outputs": [],
   "source": [
    "import json\n",
    "\n",
    "\n",
    "with open(DATASET_CONFIG_PATH) as f:\n",
    "    dataset_config = json.load(f)"
   ]
  },
  {
   "cell_type": "markdown",
   "id": "9a4b0e2d",
   "metadata": {
    "papermill": {
     "duration": 0.017824,
     "end_time": "2021-04-13T07:23:29.228487",
     "exception": false,
     "start_time": "2021-04-13T07:23:29.210663",
     "status": "completed"
    },
    "tags": []
   },
   "source": [
    "# Profiling"
   ]
  },
  {
   "cell_type": "code",
   "execution_count": 4,
   "id": "a3e0289b",
   "metadata": {
    "execution": {
     "iopub.execute_input": "2021-04-13T07:23:29.267436Z",
     "iopub.status.busy": "2021-04-13T07:23:29.266527Z",
     "iopub.status.idle": "2021-04-13T07:23:30.566186Z",
     "shell.execute_reply": "2021-04-13T07:23:30.567032Z"
    },
    "papermill": {
     "duration": 1.321719,
     "end_time": "2021-04-13T07:23:30.567276",
     "exception": false,
     "start_time": "2021-04-13T07:23:29.245557",
     "status": "completed"
    },
    "tags": []
   },
   "outputs": [],
   "source": [
    "import pandas as pd\n",
    "from pandas_profiling import ProfileReport"
   ]
  },
  {
   "cell_type": "code",
   "execution_count": 5,
   "id": "ee6c0666",
   "metadata": {
    "execution": {
     "iopub.execute_input": "2021-04-13T07:23:30.616147Z",
     "iopub.status.busy": "2021-04-13T07:23:30.615313Z",
     "iopub.status.idle": "2021-04-13T07:23:30.627746Z",
     "shell.execute_reply": "2021-04-13T07:23:30.628378Z"
    },
    "papermill": {
     "duration": 0.036127,
     "end_time": "2021-04-13T07:23:30.628567",
     "exception": false,
     "start_time": "2021-04-13T07:23:30.592440",
     "status": "completed"
    },
    "tags": []
   },
   "outputs": [],
   "source": [
    "df = pd.read_csv(dataset_config['dataset_path'])"
   ]
  },
  {
   "cell_type": "code",
   "execution_count": 6,
   "id": "7eca6c4a",
   "metadata": {
    "execution": {
     "iopub.execute_input": "2021-04-13T07:23:30.688542Z",
     "iopub.status.busy": "2021-04-13T07:23:30.672110Z",
     "iopub.status.idle": "2021-04-13T07:23:30.692459Z",
     "shell.execute_reply": "2021-04-13T07:23:30.693518Z"
    },
    "papermill": {
     "duration": 0.045192,
     "end_time": "2021-04-13T07:23:30.693823",
     "exception": false,
     "start_time": "2021-04-13T07:23:30.648631",
     "status": "completed"
    },
    "tags": []
   },
   "outputs": [
    {
     "name": "stdout",
     "output_type": "stream",
     "text": [
      "<class 'pandas.core.frame.DataFrame'>\n",
      "RangeIndex: 498 entries, 0 to 497\n",
      "Data columns (total 23 columns):\n",
      " #   Column             Non-Null Count  Dtype  \n",
      "---  ------             --------------  -----  \n",
      " 0   id                 498 non-null    int64  \n",
      " 1   loc                498 non-null    float64\n",
      " 2   v(g)               498 non-null    float64\n",
      " 3   ev(g)              498 non-null    float64\n",
      " 4   iv(g)              498 non-null    float64\n",
      " 5   n                  498 non-null    float64\n",
      " 6   v                  498 non-null    float64\n",
      " 7   l                  498 non-null    float64\n",
      " 8   d                  498 non-null    float64\n",
      " 9   i                  498 non-null    float64\n",
      " 10  e                  498 non-null    float64\n",
      " 11  b                  498 non-null    float64\n",
      " 12  t                  498 non-null    float64\n",
      " 13  lOCode             498 non-null    int64  \n",
      " 14  lOComment          498 non-null    int64  \n",
      " 15  lOBlank            498 non-null    int64  \n",
      " 16  locCodeAndComment  498 non-null    int64  \n",
      " 17  uniq_Op            498 non-null    float64\n",
      " 18  uniq_Opnd          498 non-null    float64\n",
      " 19  total_Op           498 non-null    float64\n",
      " 20  total_Opnd         498 non-null    float64\n",
      " 21  branchCount        498 non-null    float64\n",
      " 22  defects            498 non-null    bool   \n",
      "dtypes: bool(1), float64(17), int64(5)\n",
      "memory usage: 86.2 KB\n"
     ]
    }
   ],
   "source": [
    "df.info()"
   ]
  },
  {
   "cell_type": "code",
   "execution_count": 7,
   "id": "3638e5e8",
   "metadata": {
    "execution": {
     "iopub.execute_input": "2021-04-13T07:23:30.748840Z",
     "iopub.status.busy": "2021-04-13T07:23:30.747939Z",
     "iopub.status.idle": "2021-04-13T07:23:30.778401Z",
     "shell.execute_reply": "2021-04-13T07:23:30.779117Z"
    },
    "papermill": {
     "duration": 0.060866,
     "end_time": "2021-04-13T07:23:30.779324",
     "exception": false,
     "start_time": "2021-04-13T07:23:30.718458",
     "status": "completed"
    },
    "tags": []
   },
   "outputs": [
    {
     "data": {
      "text/html": [
       "<div>\n",
       "<style scoped>\n",
       "    .dataframe tbody tr th:only-of-type {\n",
       "        vertical-align: middle;\n",
       "    }\n",
       "\n",
       "    .dataframe tbody tr th {\n",
       "        vertical-align: top;\n",
       "    }\n",
       "\n",
       "    .dataframe thead th {\n",
       "        text-align: right;\n",
       "    }\n",
       "</style>\n",
       "<table border=\"1\" class=\"dataframe\">\n",
       "  <thead>\n",
       "    <tr style=\"text-align: right;\">\n",
       "      <th></th>\n",
       "      <th>id</th>\n",
       "      <th>loc</th>\n",
       "      <th>v(g)</th>\n",
       "      <th>ev(g)</th>\n",
       "      <th>iv(g)</th>\n",
       "      <th>n</th>\n",
       "      <th>v</th>\n",
       "      <th>l</th>\n",
       "      <th>d</th>\n",
       "      <th>i</th>\n",
       "      <th>...</th>\n",
       "      <th>lOCode</th>\n",
       "      <th>lOComment</th>\n",
       "      <th>lOBlank</th>\n",
       "      <th>locCodeAndComment</th>\n",
       "      <th>uniq_Op</th>\n",
       "      <th>uniq_Opnd</th>\n",
       "      <th>total_Op</th>\n",
       "      <th>total_Opnd</th>\n",
       "      <th>branchCount</th>\n",
       "      <th>defects</th>\n",
       "    </tr>\n",
       "  </thead>\n",
       "  <tbody>\n",
       "    <tr>\n",
       "      <th>0</th>\n",
       "      <td>1</td>\n",
       "      <td>1.1</td>\n",
       "      <td>1.4</td>\n",
       "      <td>1.4</td>\n",
       "      <td>1.4</td>\n",
       "      <td>1.3</td>\n",
       "      <td>1.30</td>\n",
       "      <td>1.30</td>\n",
       "      <td>1.30</td>\n",
       "      <td>1.30</td>\n",
       "      <td>...</td>\n",
       "      <td>2</td>\n",
       "      <td>2</td>\n",
       "      <td>2</td>\n",
       "      <td>2</td>\n",
       "      <td>1.2</td>\n",
       "      <td>1.2</td>\n",
       "      <td>1.2</td>\n",
       "      <td>1.2</td>\n",
       "      <td>1.4</td>\n",
       "      <td>False</td>\n",
       "    </tr>\n",
       "    <tr>\n",
       "      <th>1</th>\n",
       "      <td>2</td>\n",
       "      <td>1.0</td>\n",
       "      <td>1.0</td>\n",
       "      <td>1.0</td>\n",
       "      <td>1.0</td>\n",
       "      <td>1.0</td>\n",
       "      <td>1.00</td>\n",
       "      <td>1.00</td>\n",
       "      <td>1.00</td>\n",
       "      <td>1.00</td>\n",
       "      <td>...</td>\n",
       "      <td>1</td>\n",
       "      <td>1</td>\n",
       "      <td>1</td>\n",
       "      <td>1</td>\n",
       "      <td>1.0</td>\n",
       "      <td>1.0</td>\n",
       "      <td>1.0</td>\n",
       "      <td>1.0</td>\n",
       "      <td>1.0</td>\n",
       "      <td>True</td>\n",
       "    </tr>\n",
       "    <tr>\n",
       "      <th>2</th>\n",
       "      <td>3</td>\n",
       "      <td>24.0</td>\n",
       "      <td>5.0</td>\n",
       "      <td>1.0</td>\n",
       "      <td>3.0</td>\n",
       "      <td>63.0</td>\n",
       "      <td>309.13</td>\n",
       "      <td>0.11</td>\n",
       "      <td>9.50</td>\n",
       "      <td>32.54</td>\n",
       "      <td>...</td>\n",
       "      <td>1</td>\n",
       "      <td>0</td>\n",
       "      <td>6</td>\n",
       "      <td>0</td>\n",
       "      <td>15.0</td>\n",
       "      <td>15.0</td>\n",
       "      <td>44.0</td>\n",
       "      <td>19.0</td>\n",
       "      <td>9.0</td>\n",
       "      <td>False</td>\n",
       "    </tr>\n",
       "    <tr>\n",
       "      <th>3</th>\n",
       "      <td>4</td>\n",
       "      <td>20.0</td>\n",
       "      <td>4.0</td>\n",
       "      <td>4.0</td>\n",
       "      <td>2.0</td>\n",
       "      <td>47.0</td>\n",
       "      <td>215.49</td>\n",
       "      <td>0.06</td>\n",
       "      <td>16.00</td>\n",
       "      <td>13.47</td>\n",
       "      <td>...</td>\n",
       "      <td>0</td>\n",
       "      <td>0</td>\n",
       "      <td>3</td>\n",
       "      <td>0</td>\n",
       "      <td>16.0</td>\n",
       "      <td>8.0</td>\n",
       "      <td>31.0</td>\n",
       "      <td>16.0</td>\n",
       "      <td>7.0</td>\n",
       "      <td>False</td>\n",
       "    </tr>\n",
       "    <tr>\n",
       "      <th>4</th>\n",
       "      <td>5</td>\n",
       "      <td>24.0</td>\n",
       "      <td>6.0</td>\n",
       "      <td>6.0</td>\n",
       "      <td>2.0</td>\n",
       "      <td>72.0</td>\n",
       "      <td>346.13</td>\n",
       "      <td>0.06</td>\n",
       "      <td>17.33</td>\n",
       "      <td>19.97</td>\n",
       "      <td>...</td>\n",
       "      <td>0</td>\n",
       "      <td>0</td>\n",
       "      <td>3</td>\n",
       "      <td>0</td>\n",
       "      <td>16.0</td>\n",
       "      <td>12.0</td>\n",
       "      <td>46.0</td>\n",
       "      <td>26.0</td>\n",
       "      <td>11.0</td>\n",
       "      <td>False</td>\n",
       "    </tr>\n",
       "  </tbody>\n",
       "</table>\n",
       "<p>5 rows × 23 columns</p>\n",
       "</div>"
      ],
      "text/plain": [
       "   id   loc  v(g)  ev(g)  iv(g)     n       v     l      d      i  ...  \\\n",
       "0   1   1.1   1.4    1.4    1.4   1.3    1.30  1.30   1.30   1.30  ...   \n",
       "1   2   1.0   1.0    1.0    1.0   1.0    1.00  1.00   1.00   1.00  ...   \n",
       "2   3  24.0   5.0    1.0    3.0  63.0  309.13  0.11   9.50  32.54  ...   \n",
       "3   4  20.0   4.0    4.0    2.0  47.0  215.49  0.06  16.00  13.47  ...   \n",
       "4   5  24.0   6.0    6.0    2.0  72.0  346.13  0.06  17.33  19.97  ...   \n",
       "\n",
       "   lOCode  lOComment  lOBlank  locCodeAndComment  uniq_Op  uniq_Opnd  \\\n",
       "0       2          2        2                  2      1.2        1.2   \n",
       "1       1          1        1                  1      1.0        1.0   \n",
       "2       1          0        6                  0     15.0       15.0   \n",
       "3       0          0        3                  0     16.0        8.0   \n",
       "4       0          0        3                  0     16.0       12.0   \n",
       "\n",
       "   total_Op  total_Opnd  branchCount  defects  \n",
       "0       1.2         1.2          1.4    False  \n",
       "1       1.0         1.0          1.0     True  \n",
       "2      44.0        19.0          9.0    False  \n",
       "3      31.0        16.0          7.0    False  \n",
       "4      46.0        26.0         11.0    False  \n",
       "\n",
       "[5 rows x 23 columns]"
      ]
     },
     "execution_count": 7,
     "metadata": {},
     "output_type": "execute_result"
    }
   ],
   "source": [
    "df.head()"
   ]
  },
  {
   "cell_type": "code",
   "execution_count": 8,
   "id": "733e95eb",
   "metadata": {
    "execution": {
     "iopub.execute_input": "2021-04-13T07:23:30.822995Z",
     "iopub.status.busy": "2021-04-13T07:23:30.822337Z",
     "iopub.status.idle": "2021-04-13T07:23:30.826281Z",
     "shell.execute_reply": "2021-04-13T07:23:30.825500Z"
    },
    "papermill": {
     "duration": 0.026658,
     "end_time": "2021-04-13T07:23:30.826458",
     "exception": false,
     "start_time": "2021-04-13T07:23:30.799800",
     "status": "completed"
    },
    "tags": []
   },
   "outputs": [],
   "source": [
    "del df['id']"
   ]
  },
  {
   "cell_type": "code",
   "execution_count": 9,
   "id": "6ff6f5b0",
   "metadata": {
    "execution": {
     "iopub.execute_input": "2021-04-13T07:23:30.901969Z",
     "iopub.status.busy": "2021-04-13T07:23:30.901300Z",
     "iopub.status.idle": "2021-04-13T07:23:30.903813Z",
     "shell.execute_reply": "2021-04-13T07:23:30.904435Z"
    },
    "papermill": {
     "duration": 0.044271,
     "end_time": "2021-04-13T07:23:30.904610",
     "exception": false,
     "start_time": "2021-04-13T07:23:30.860339",
     "status": "completed"
    },
    "tags": []
   },
   "outputs": [],
   "source": [
    "if PROFILE_REPORTING:\n",
    "    ProfileReport(df).to_widgets()"
   ]
  },
  {
   "cell_type": "markdown",
   "id": "1deaf3f0",
   "metadata": {
    "papermill": {
     "duration": 0.019139,
     "end_time": "2021-04-13T07:23:30.947122",
     "exception": false,
     "start_time": "2021-04-13T07:23:30.927983",
     "status": "completed"
    },
    "tags": []
   },
   "source": [
    "# Preprocess"
   ]
  },
  {
   "cell_type": "code",
   "execution_count": 10,
   "id": "1513e563",
   "metadata": {
    "execution": {
     "iopub.execute_input": "2021-04-13T07:23:30.990030Z",
     "iopub.status.busy": "2021-04-13T07:23:30.989204Z",
     "iopub.status.idle": "2021-04-13T07:23:30.991883Z",
     "shell.execute_reply": "2021-04-13T07:23:30.991375Z"
    },
    "papermill": {
     "duration": 0.025088,
     "end_time": "2021-04-13T07:23:30.992007",
     "exception": false,
     "start_time": "2021-04-13T07:23:30.966919",
     "status": "completed"
    },
    "tags": []
   },
   "outputs": [],
   "source": [
    "working_df = df.copy()"
   ]
  },
  {
   "cell_type": "code",
   "execution_count": 11,
   "id": "3b26d675",
   "metadata": {
    "execution": {
     "iopub.execute_input": "2021-04-13T07:23:31.037104Z",
     "iopub.status.busy": "2021-04-13T07:23:31.036274Z",
     "iopub.status.idle": "2021-04-13T07:23:31.038738Z",
     "shell.execute_reply": "2021-04-13T07:23:31.038178Z"
    },
    "papermill": {
     "duration": 0.026019,
     "end_time": "2021-04-13T07:23:31.038874",
     "exception": false,
     "start_time": "2021-04-13T07:23:31.012855",
     "status": "completed"
    },
    "tags": []
   },
   "outputs": [],
   "source": [
    "working_df['defects'] = working_df['defects'].replace([False, True], [0, 1])"
   ]
  },
  {
   "cell_type": "code",
   "execution_count": 12,
   "id": "9a17bc29",
   "metadata": {
    "execution": {
     "iopub.execute_input": "2021-04-13T07:23:31.084169Z",
     "iopub.status.busy": "2021-04-13T07:23:31.082605Z",
     "iopub.status.idle": "2021-04-13T07:23:31.091973Z",
     "shell.execute_reply": "2021-04-13T07:23:31.091252Z"
    },
    "papermill": {
     "duration": 0.033257,
     "end_time": "2021-04-13T07:23:31.092118",
     "exception": false,
     "start_time": "2021-04-13T07:23:31.058861",
     "status": "completed"
    },
    "tags": []
   },
   "outputs": [],
   "source": [
    "working_df = working_df.drop_duplicates()\n",
    "working_df = working_df.reset_index(drop=True)"
   ]
  },
  {
   "cell_type": "code",
   "execution_count": 13,
   "id": "d484678b",
   "metadata": {
    "execution": {
     "iopub.execute_input": "2021-04-13T07:23:31.140562Z",
     "iopub.status.busy": "2021-04-13T07:23:31.139622Z",
     "iopub.status.idle": "2021-04-13T07:23:31.143322Z",
     "shell.execute_reply": "2021-04-13T07:23:31.142778Z"
    },
    "papermill": {
     "duration": 0.029874,
     "end_time": "2021-04-13T07:23:31.143445",
     "exception": false,
     "start_time": "2021-04-13T07:23:31.113571",
     "status": "completed"
    },
    "tags": []
   },
   "outputs": [
    {
     "data": {
      "text/plain": [
       "0    394\n",
       "1     48\n",
       "Name: defects, dtype: int64"
      ]
     },
     "execution_count": 13,
     "metadata": {},
     "output_type": "execute_result"
    }
   ],
   "source": [
    "working_df['defects'].value_counts()"
   ]
  },
  {
   "cell_type": "markdown",
   "id": "a4d52ca6",
   "metadata": {
    "papermill": {
     "duration": 0.018722,
     "end_time": "2021-04-13T07:23:31.185956",
     "exception": false,
     "start_time": "2021-04-13T07:23:31.167234",
     "status": "completed"
    },
    "tags": []
   },
   "source": [
    "# Split"
   ]
  },
  {
   "cell_type": "code",
   "execution_count": 14,
   "id": "3e9ee4b5",
   "metadata": {
    "execution": {
     "iopub.execute_input": "2021-04-13T07:23:31.229495Z",
     "iopub.status.busy": "2021-04-13T07:23:31.228596Z",
     "iopub.status.idle": "2021-04-13T07:23:31.231554Z",
     "shell.execute_reply": "2021-04-13T07:23:31.231031Z"
    },
    "papermill": {
     "duration": 0.027057,
     "end_time": "2021-04-13T07:23:31.231680",
     "exception": false,
     "start_time": "2021-04-13T07:23:31.204623",
     "status": "completed"
    },
    "tags": []
   },
   "outputs": [],
   "source": [
    "random_state = dataset_config['random_state']"
   ]
  },
  {
   "cell_type": "code",
   "execution_count": 15,
   "id": "274004ce",
   "metadata": {
    "execution": {
     "iopub.execute_input": "2021-04-13T07:23:31.278781Z",
     "iopub.status.busy": "2021-04-13T07:23:31.277801Z",
     "iopub.status.idle": "2021-04-13T07:23:31.283840Z",
     "shell.execute_reply": "2021-04-13T07:23:31.284343Z"
    },
    "papermill": {
     "duration": 0.031543,
     "end_time": "2021-04-13T07:23:31.284499",
     "exception": false,
     "start_time": "2021-04-13T07:23:31.252956",
     "status": "completed"
    },
    "scrolled": true,
    "tags": []
   },
   "outputs": [],
   "source": [
    "inlier, outlier = working_df[working_df['defects'] == 0], working_df[working_df['defects'] == 1]"
   ]
  },
  {
   "cell_type": "code",
   "execution_count": 16,
   "id": "753c7b03",
   "metadata": {
    "execution": {
     "iopub.execute_input": "2021-04-13T07:23:31.338182Z",
     "iopub.status.busy": "2021-04-13T07:23:31.336499Z",
     "iopub.status.idle": "2021-04-13T07:23:31.341116Z",
     "shell.execute_reply": "2021-04-13T07:23:31.341963Z"
    },
    "papermill": {
     "duration": 0.031273,
     "end_time": "2021-04-13T07:23:31.342206",
     "exception": false,
     "start_time": "2021-04-13T07:23:31.310933",
     "status": "completed"
    },
    "tags": []
   },
   "outputs": [],
   "source": [
    "X_inlier = inlier.copy().reset_index(drop=True)\n",
    "y_inlier = X_inlier.pop('defects').reset_index(drop=True)\n",
    "X_outlier = outlier.copy().reset_index(drop=True)\n",
    "y_outlier = X_outlier.pop('defects').reset_index(drop=True)"
   ]
  },
  {
   "cell_type": "markdown",
   "id": "7ec1ea03",
   "metadata": {
    "papermill": {
     "duration": 0.019586,
     "end_time": "2021-04-13T07:23:31.387439",
     "exception": false,
     "start_time": "2021-04-13T07:23:31.367853",
     "status": "completed"
    },
    "tags": []
   },
   "source": [
    "# Naive Bayes"
   ]
  },
  {
   "cell_type": "code",
   "execution_count": 17,
   "id": "747ff755",
   "metadata": {
    "execution": {
     "iopub.execute_input": "2021-04-13T07:23:31.439235Z",
     "iopub.status.busy": "2021-04-13T07:23:31.436981Z",
     "iopub.status.idle": "2021-04-13T07:23:31.784112Z",
     "shell.execute_reply": "2021-04-13T07:23:31.784835Z"
    },
    "papermill": {
     "duration": 0.377973,
     "end_time": "2021-04-13T07:23:31.785043",
     "exception": false,
     "start_time": "2021-04-13T07:23:31.407070",
     "status": "completed"
    },
    "tags": []
   },
   "outputs": [
    {
     "data": {
      "image/png": "[encoded data removed]",
      "text/plain": [
       "<Figure size 576x396 with 1 Axes>"
      ]
     },
     "metadata": {},
     "output_type": "display_data"
    },
    {
     "data": {
      "text/plain": [
       "<AxesSubplot:title={'center':'Cross Validation Scores for GaussianNB'}, xlabel='Training Instances', ylabel='Score'>"
      ]
     },
     "execution_count": 17,
     "metadata": {},
     "output_type": "execute_result"
    }
   ],
   "source": [
    "from sklearn.model_selection import StratifiedKFold\n",
    "from sklearn.naive_bayes import GaussianNB\n",
    "\n",
    "from yellowbrick.model_selection import CVScores\n",
    "\n",
    "\n",
    "cv = StratifiedKFold(5)\n",
    "visualizer = CVScores(GaussianNB(), cv=cv, scoring='f1_weighted', random_state=random_state)\n",
    "\n",
    "X = pd.concat([X_inlier, X_outlier], ignore_index=True)\n",
    "y = pd.concat([y_inlier, y_outlier], ignore_index=True)\n",
    "\n",
    "visualizer.fit(X, y)\n",
    "visualizer.show()"
   ]
  },
  {
   "cell_type": "markdown",
   "id": "852ba4fc",
   "metadata": {
    "papermill": {
     "duration": 0.020846,
     "end_time": "2021-04-13T07:23:31.834875",
     "exception": false,
     "start_time": "2021-04-13T07:23:31.814029",
     "status": "completed"
    },
    "tags": []
   },
   "source": [
    "# 1-NN"
   ]
  },
  {
   "cell_type": "code",
   "execution_count": 18,
   "id": "73593bfa",
   "metadata": {
    "execution": {
     "iopub.execute_input": "2021-04-13T07:23:31.883655Z",
     "iopub.status.busy": "2021-04-13T07:23:31.882189Z",
     "iopub.status.idle": "2021-04-13T07:23:32.245570Z",
     "shell.execute_reply": "2021-04-13T07:23:32.246084Z"
    },
    "papermill": {
     "duration": 0.39099,
     "end_time": "2021-04-13T07:23:32.246241",
     "exception": false,
     "start_time": "2021-04-13T07:23:31.855251",
     "status": "completed"
    },
    "tags": []
   },
   "outputs": [
    {
     "data": {
      "image/png": "[encoded data removed]",
      "text/plain": [
       "<Figure size 576x396 with 1 Axes>"
      ]
     },
     "metadata": {},
     "output_type": "display_data"
    },
    {
     "data": {
      "text/plain": [
       "<AxesSubplot:title={'center':'Cross Validation Scores for KNeighborsClassifier'}, xlabel='Training Instances', ylabel='Score'>"
      ]
     },
     "execution_count": 18,
     "metadata": {},
     "output_type": "execute_result"
    }
   ],
   "source": [
    "from sklearn.neighbors import KNeighborsClassifier\n",
    "\n",
    "\n",
    "cv = StratifiedKFold(5)\n",
    "visualizer = CVScores(KNeighborsClassifier(n_neighbors=1), cv=cv, scoring='f1_weighted', random_state=random_state)\n",
    "\n",
    "X = pd.concat([X_inlier, X_outlier], ignore_index=True)\n",
    "y = pd.concat([y_inlier, y_outlier], ignore_index=True)\n",
    "\n",
    "visualizer.fit(X, y)\n",
    "visualizer.show()"
   ]
  },
  {
   "cell_type": "markdown",
   "id": "39046db9",
   "metadata": {
    "papermill": {
     "duration": 0.02205,
     "end_time": "2021-04-13T07:23:32.291106",
     "exception": false,
     "start_time": "2021-04-13T07:23:32.269056",
     "status": "completed"
    },
    "tags": []
   },
   "source": [
    "# Kmeans metaclasses + Naive Bayes"
   ]
  },
  {
   "cell_type": "code",
   "execution_count": 19,
   "id": "14d897ba",
   "metadata": {
    "execution": {
     "iopub.execute_input": "2021-04-13T07:23:32.338941Z",
     "iopub.status.busy": "2021-04-13T07:23:32.338302Z",
     "iopub.status.idle": "2021-04-13T07:23:33.280959Z",
     "shell.execute_reply": "2021-04-13T07:23:33.281461Z"
    },
    "papermill": {
     "duration": 0.968804,
     "end_time": "2021-04-13T07:23:33.281613",
     "exception": false,
     "start_time": "2021-04-13T07:23:32.312809",
     "status": "completed"
    },
    "tags": []
   },
   "outputs": [
    {
     "data": {
      "image/png": "[encoded data removed]",
      "text/plain": [
       "<Figure size 576x396 with 2 Axes>"
      ]
     },
     "metadata": {},
     "output_type": "display_data"
    }
   ],
   "source": [
    "from sklearn.cluster import KMeans\n",
    "\n",
    "from yellowbrick.cluster import KElbowVisualizer\n",
    "\n",
    "\n",
    "model = KMeans()\n",
    "visualizer = KElbowVisualizer(model, k=(2,7), random_state=random_state)\n",
    "\n",
    "visualizer.fit(X_inlier)\n",
    "visualizer.show()\n",
    "inlier_best_k = visualizer.elbow_value_"
   ]
  },
  {
   "cell_type": "code",
   "execution_count": 20,
   "id": "24bdde0b",
   "metadata": {
    "execution": {
     "iopub.execute_input": "2021-04-13T07:23:33.340744Z",
     "iopub.status.busy": "2021-04-13T07:23:33.334812Z",
     "iopub.status.idle": "2021-04-13T07:23:33.827812Z",
     "shell.execute_reply": "2021-04-13T07:23:33.827203Z"
    },
    "papermill": {
     "duration": 0.519864,
     "end_time": "2021-04-13T07:23:33.827934",
     "exception": false,
     "start_time": "2021-04-13T07:23:33.308070",
     "status": "completed"
    },
    "tags": []
   },
   "outputs": [
    {
     "data": {
      "image/png": "[encoded data removed]",
      "text/plain": [
       "<Figure size 576x396 with 2 Axes>"
      ]
     },
     "metadata": {},
     "output_type": "display_data"
    }
   ],
   "source": [
    "model = KMeans()\n",
    "visualizer = KElbowVisualizer(model, k=(2,7), random_state=random_state)\n",
    "\n",
    "visualizer.fit(X_outlier)\n",
    "visualizer.show()\n",
    "outlier_best_k = visualizer.elbow_value_"
   ]
  },
  {
   "cell_type": "markdown",
   "id": "f73c0c07",
   "metadata": {
    "papermill": {
     "duration": 0.026899,
     "end_time": "2021-04-13T07:23:33.881696",
     "exception": false,
     "start_time": "2021-04-13T07:23:33.854797",
     "status": "completed"
    },
    "tags": []
   },
   "source": [
    "## Encoding metaclasses"
   ]
  },
  {
   "cell_type": "code",
   "execution_count": 21,
   "id": "bfb39848",
   "metadata": {
    "execution": {
     "iopub.execute_input": "2021-04-13T07:23:33.941691Z",
     "iopub.status.busy": "2021-04-13T07:23:33.940572Z",
     "iopub.status.idle": "2021-04-13T07:23:33.994451Z",
     "shell.execute_reply": "2021-04-13T07:23:33.993807Z"
    },
    "papermill": {
     "duration": 0.08545,
     "end_time": "2021-04-13T07:23:33.994579",
     "exception": false,
     "start_time": "2021-04-13T07:23:33.909129",
     "status": "completed"
    },
    "tags": []
   },
   "outputs": [],
   "source": [
    "y_inlier_clustered = pd.Series(KMeans(inlier_best_k, random_state=random_state).fit_predict(X_inlier))\n",
    "y_outlier_clustered = pd.Series(KMeans(outlier_best_k, random_state=random_state).fit_predict(X_outlier))\n",
    "y_outlier_clustered = y_outlier_clustered + inlier_best_k"
   ]
  },
  {
   "cell_type": "code",
   "execution_count": 22,
   "id": "0c4e7374",
   "metadata": {
    "execution": {
     "iopub.execute_input": "2021-04-13T07:23:34.052558Z",
     "iopub.status.busy": "2021-04-13T07:23:34.051506Z",
     "iopub.status.idle": "2021-04-13T07:23:34.054213Z",
     "shell.execute_reply": "2021-04-13T07:23:34.053674Z"
    },
    "papermill": {
     "duration": 0.034136,
     "end_time": "2021-04-13T07:23:34.054342",
     "exception": false,
     "start_time": "2021-04-13T07:23:34.020206",
     "status": "completed"
    },
    "tags": []
   },
   "outputs": [],
   "source": [
    "X = pd.concat([X_inlier, X_outlier], ignore_index=True)\n",
    "y = pd.concat([y_inlier_clustered, y_outlier_clustered], ignore_index=True)"
   ]
  },
  {
   "cell_type": "code",
   "execution_count": 23,
   "id": "a988f9c9",
   "metadata": {
    "execution": {
     "iopub.execute_input": "2021-04-13T07:23:34.112364Z",
     "iopub.status.busy": "2021-04-13T07:23:34.111494Z",
     "iopub.status.idle": "2021-04-13T07:23:34.366701Z",
     "shell.execute_reply": "2021-04-13T07:23:34.365620Z"
    },
    "papermill": {
     "duration": 0.286004,
     "end_time": "2021-04-13T07:23:34.366911",
     "exception": false,
     "start_time": "2021-04-13T07:23:34.080907",
     "status": "completed"
    },
    "tags": []
   },
   "outputs": [
    {
     "name": "stderr",
     "output_type": "stream",
     "text": [
      "/home/gcc/work/.virtualenvs/tmp-d8e6ef899cc5740/lib/python3.9/site-packages/sklearn/model_selection/_split.py:666: UserWarning: The least populated class in y has only 2 members, which is less than n_splits=5.\n",
      "  warnings.warn((\"The least populated class in y has only %d\"\n"
     ]
    },
    {
     "data": {
      "image/png": "[encoded data removed]",
      "text/plain": [
       "<Figure size 576x396 with 1 Axes>"
      ]
     },
     "metadata": {},
     "output_type": "display_data"
    },
    {
     "data": {
      "text/plain": [
       "<AxesSubplot:title={'center':'Cross Validation Scores for GaussianNB'}, xlabel='Training Instances', ylabel='Score'>"
      ]
     },
     "execution_count": 23,
     "metadata": {},
     "output_type": "execute_result"
    }
   ],
   "source": [
    "cv = StratifiedKFold(5)\n",
    "visualizer = CVScores(GaussianNB(), cv=cv, scoring='f1_weighted', random_state=random_state)\n",
    "\n",
    "visualizer.fit(X, y)\n",
    "visualizer.show()"
   ]
  }
 ],
 "metadata": {
  "celltoolbar": "Tags",
  "kernelspec": {
   "display_name": "Python 3",
   "language": "python",
   "name": "python3"
  },
  "language_info": {
   "codemirror_mode": {
    "name": "ipython",
    "version": 3
   },
   "file_extension": ".py",
   "mimetype": "text/x-python",
   "name": "python",
   "nbconvert_exporter": "python",
   "pygments_lexer": "ipython3",
   "version": "3.9.1"
  },
  "papermill": {
   "default_parameters": {},
   "duration": 6.901089,
   "end_time": "2021-04-13T07:23:35.007633",
   "environment_variables": {},
   "exception": null,
   "input_path": "main.ipynb",
   "output_path": "runs/dataset_cm1.ipynb",
   "parameters": {
    "DATASET_CONFIG_PATH": "config/dataset/cm1.json",
    "PROFILE_REPORTING": false
   },
   "start_time": "2021-04-13T07:23:28.106544",
   "version": "2.3.3"
  }
 },
 "nbformat": 4,
 "nbformat_minor": 5
}