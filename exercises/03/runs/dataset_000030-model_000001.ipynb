{
 "cells": [
  {
   "cell_type": "markdown",
   "id": "51c71c25",
   "metadata": {
    "papermill": {
     "duration": 0.020219,
     "end_time": "2021-04-04T22:37:29.734565",
     "exception": false,
     "start_time": "2021-04-04T22:37:29.714346",
     "status": "completed"
    },
    "tags": []
   },
   "source": [
    "# Parametrizing"
   ]
  },
  {
   "cell_type": "code",
   "execution_count": 1,
   "id": "3b136394",
   "metadata": {
    "execution": {
     "iopub.execute_input": "2021-04-04T22:37:29.795746Z",
     "iopub.status.busy": "2021-04-04T22:37:29.794968Z",
     "iopub.status.idle": "2021-04-04T22:37:29.799108Z",
     "shell.execute_reply": "2021-04-04T22:37:29.798009Z"
    },
    "papermill": {
     "duration": 0.038743,
     "end_time": "2021-04-04T22:37:29.799489",
     "exception": false,
     "start_time": "2021-04-04T22:37:29.760746",
     "status": "completed"
    },
    "tags": [
     "parameters"
    ]
   },
   "outputs": [],
   "source": [
    "DATASET_CONFIG_PATH = 'config/dataset/kc1_001.json'\n",
    "MODEL_CONFIG_PATH = 'config/model/knndd_001.json'\n",
    "PROFILE_REPORTING = False"
   ]
  },
  {
   "cell_type": "code",
   "execution_count": 2,
   "id": "12071501",
   "metadata": {
    "execution": {
     "iopub.execute_input": "2021-04-04T22:37:29.844751Z",
     "iopub.status.busy": "2021-04-04T22:37:29.843980Z",
     "iopub.status.idle": "2021-04-04T22:37:29.847120Z",
     "shell.execute_reply": "2021-04-04T22:37:29.848611Z"
    },
    "papermill": {
     "duration": 0.028265,
     "end_time": "2021-04-04T22:37:29.849059",
     "exception": false,
     "start_time": "2021-04-04T22:37:29.820794",
     "status": "completed"
    },
    "tags": [
     "injected-parameters"
    ]
   },
   "outputs": [],
   "source": [
    "# Parameters\n",
    "DATASET_CONFIG_PATH = \"config/dataset/000030.json\"\n",
    "MODEL_CONFIG_PATH = \"config/model/000001.json\"\n",
    "PROFILE_REPORTING = False\n"
   ]
  },
  {
   "cell_type": "code",
   "execution_count": 3,
   "id": "b80f2a10",
   "metadata": {
    "execution": {
     "iopub.execute_input": "2021-04-04T22:37:29.902690Z",
     "iopub.status.busy": "2021-04-04T22:37:29.901137Z",
     "iopub.status.idle": "2021-04-04T22:37:29.906051Z",
     "shell.execute_reply": "2021-04-04T22:37:29.906683Z"
    },
    "papermill": {
     "duration": 0.036341,
     "end_time": "2021-04-04T22:37:29.906886",
     "exception": false,
     "start_time": "2021-04-04T22:37:29.870545",
     "status": "completed"
    },
    "tags": []
   },
   "outputs": [],
   "source": [
    "import json\n",
    "\n",
    "\n",
    "with open(DATASET_CONFIG_PATH) as f:\n",
    "    dataset_config = json.load(f)\n",
    "\n",
    "with open(MODEL_CONFIG_PATH) as f:\n",
    "    model_config = json.load(f)"
   ]
  },
  {
   "cell_type": "markdown",
   "id": "9a4b0e2d",
   "metadata": {
    "papermill": {
     "duration": 0.023088,
     "end_time": "2021-04-04T22:37:29.953103",
     "exception": false,
     "start_time": "2021-04-04T22:37:29.930015",
     "status": "completed"
    },
    "tags": []
   },
   "source": [
    "# Profiling"
   ]
  },
  {
   "cell_type": "code",
   "execution_count": 4,
   "id": "a3e0289b",
   "metadata": {
    "execution": {
     "iopub.execute_input": "2021-04-04T22:37:30.006529Z",
     "iopub.status.busy": "2021-04-04T22:37:30.005491Z",
     "iopub.status.idle": "2021-04-04T22:37:31.786582Z",
     "shell.execute_reply": "2021-04-04T22:37:31.785896Z"
    },
    "papermill": {
     "duration": 1.810003,
     "end_time": "2021-04-04T22:37:31.786730",
     "exception": false,
     "start_time": "2021-04-04T22:37:29.976727",
     "status": "completed"
    },
    "tags": []
   },
   "outputs": [],
   "source": [
    "import pandas as pd\n",
    "from pandas_profiling import ProfileReport"
   ]
  },
  {
   "cell_type": "code",
   "execution_count": 5,
   "id": "ee6c0666",
   "metadata": {
    "execution": {
     "iopub.execute_input": "2021-04-04T22:37:31.836763Z",
     "iopub.status.busy": "2021-04-04T22:37:31.834978Z",
     "iopub.status.idle": "2021-04-04T22:37:31.845828Z",
     "shell.execute_reply": "2021-04-04T22:37:31.846312Z"
    },
    "papermill": {
     "duration": 0.038058,
     "end_time": "2021-04-04T22:37:31.846462",
     "exception": false,
     "start_time": "2021-04-04T22:37:31.808404",
     "status": "completed"
    },
    "tags": []
   },
   "outputs": [],
   "source": [
    "df = pd.read_csv(dataset_config['dataset_path'])"
   ]
  },
  {
   "cell_type": "code",
   "execution_count": 6,
   "id": "7eca6c4a",
   "metadata": {
    "execution": {
     "iopub.execute_input": "2021-04-04T22:37:31.907061Z",
     "iopub.status.busy": "2021-04-04T22:37:31.906234Z",
     "iopub.status.idle": "2021-04-04T22:37:31.924959Z",
     "shell.execute_reply": "2021-04-04T22:37:31.924403Z"
    },
    "papermill": {
     "duration": 0.054618,
     "end_time": "2021-04-04T22:37:31.925105",
     "exception": false,
     "start_time": "2021-04-04T22:37:31.870487",
     "status": "completed"
    },
    "tags": []
   },
   "outputs": [
    {
     "name": "stdout",
     "output_type": "stream",
     "text": [
      "<class 'pandas.core.frame.DataFrame'>\n",
      "RangeIndex: 2109 entries, 0 to 2108\n",
      "Data columns (total 23 columns):\n",
      " #   Column             Non-Null Count  Dtype  \n",
      "---  ------             --------------  -----  \n",
      " 0   id                 2109 non-null   int64  \n",
      " 1   loc                2109 non-null   float64\n",
      " 2   v(g)               2109 non-null   float64\n",
      " 3   ev(g)              2109 non-null   float64\n",
      " 4   iv(g)              2109 non-null   float64\n",
      " 5   n                  2109 non-null   float64\n",
      " 6   v                  2109 non-null   float64\n",
      " 7   l                  2109 non-null   float64\n",
      " 8   d                  2109 non-null   float64\n",
      " 9   i                  2109 non-null   float64\n",
      " 10  e                  2109 non-null   float64\n",
      " 11  b                  2109 non-null   float64\n",
      " 12  t                  2109 non-null   float64\n",
      " 13  lOCode             2109 non-null   int64  \n",
      " 14  lOComment          2109 non-null   int64  \n",
      " 15  lOBlank            2109 non-null   int64  \n",
      " 16  locCodeAndComment  2109 non-null   int64  \n",
      " 17  uniq_Op            2109 non-null   float64\n",
      " 18  uniq_Opnd          2109 non-null   float64\n",
      " 19  total_Op           2109 non-null   float64\n",
      " 20  total_Opnd         2109 non-null   float64\n",
      " 21  branchCount        2109 non-null   float64\n",
      " 22  defects            2109 non-null   bool   \n",
      "dtypes: bool(1), float64(17), int64(5)\n",
      "memory usage: 364.7 KB\n"
     ]
    }
   ],
   "source": [
    "df.info()"
   ]
  },
  {
   "cell_type": "code",
   "execution_count": 7,
   "id": "3638e5e8",
   "metadata": {
    "execution": {
     "iopub.execute_input": "2021-04-04T22:37:31.980616Z",
     "iopub.status.busy": "2021-04-04T22:37:31.979996Z",
     "iopub.status.idle": "2021-04-04T22:37:32.006225Z",
     "shell.execute_reply": "2021-04-04T22:37:32.005544Z"
    },
    "papermill": {
     "duration": 0.059548,
     "end_time": "2021-04-04T22:37:32.006382",
     "exception": false,
     "start_time": "2021-04-04T22:37:31.946834",
     "status": "completed"
    },
    "tags": []
   },
   "outputs": [
    {
     "data": {
      "text/html": [
       "<div>\n",
       "<style scoped>\n",
       "    .dataframe tbody tr th:only-of-type {\n",
       "        vertical-align: middle;\n",
       "    }\n",
       "\n",
       "    .dataframe tbody tr th {\n",
       "        vertical-align: top;\n",
       "    }\n",
       "\n",
       "    .dataframe thead th {\n",
       "        text-align: right;\n",
       "    }\n",
       "</style>\n",
       "<table border=\"1\" class=\"dataframe\">\n",
       "  <thead>\n",
       "    <tr style=\"text-align: right;\">\n",
       "      <th></th>\n",
       "      <th>id</th>\n",
       "      <th>loc</th>\n",
       "      <th>v(g)</th>\n",
       "      <th>ev(g)</th>\n",
       "      <th>iv(g)</th>\n",
       "      <th>n</th>\n",
       "      <th>v</th>\n",
       "      <th>l</th>\n",
       "      <th>d</th>\n",
       "      <th>i</th>\n",
       "      <th>...</th>\n",
       "      <th>lOCode</th>\n",
       "      <th>lOComment</th>\n",
       "      <th>lOBlank</th>\n",
       "      <th>locCodeAndComment</th>\n",
       "      <th>uniq_Op</th>\n",
       "      <th>uniq_Opnd</th>\n",
       "      <th>total_Op</th>\n",
       "      <th>total_Opnd</th>\n",
       "      <th>branchCount</th>\n",
       "      <th>defects</th>\n",
       "    </tr>\n",
       "  </thead>\n",
       "  <tbody>\n",
       "    <tr>\n",
       "      <th>0</th>\n",
       "      <td>1</td>\n",
       "      <td>1.1</td>\n",
       "      <td>1.4</td>\n",
       "      <td>1.4</td>\n",
       "      <td>1.4</td>\n",
       "      <td>1.3</td>\n",
       "      <td>1.30</td>\n",
       "      <td>1.30</td>\n",
       "      <td>1.30</td>\n",
       "      <td>1.30</td>\n",
       "      <td>...</td>\n",
       "      <td>2</td>\n",
       "      <td>2</td>\n",
       "      <td>2</td>\n",
       "      <td>2</td>\n",
       "      <td>1.2</td>\n",
       "      <td>1.2</td>\n",
       "      <td>1.2</td>\n",
       "      <td>1.2</td>\n",
       "      <td>1.4</td>\n",
       "      <td>False</td>\n",
       "    </tr>\n",
       "    <tr>\n",
       "      <th>1</th>\n",
       "      <td>2</td>\n",
       "      <td>1.0</td>\n",
       "      <td>1.0</td>\n",
       "      <td>1.0</td>\n",
       "      <td>1.0</td>\n",
       "      <td>1.0</td>\n",
       "      <td>1.00</td>\n",
       "      <td>1.00</td>\n",
       "      <td>1.00</td>\n",
       "      <td>1.00</td>\n",
       "      <td>...</td>\n",
       "      <td>1</td>\n",
       "      <td>1</td>\n",
       "      <td>1</td>\n",
       "      <td>1</td>\n",
       "      <td>1.0</td>\n",
       "      <td>1.0</td>\n",
       "      <td>1.0</td>\n",
       "      <td>1.0</td>\n",
       "      <td>1.0</td>\n",
       "      <td>True</td>\n",
       "    </tr>\n",
       "    <tr>\n",
       "      <th>2</th>\n",
       "      <td>3</td>\n",
       "      <td>83.0</td>\n",
       "      <td>11.0</td>\n",
       "      <td>1.0</td>\n",
       "      <td>11.0</td>\n",
       "      <td>171.0</td>\n",
       "      <td>927.89</td>\n",
       "      <td>0.04</td>\n",
       "      <td>23.04</td>\n",
       "      <td>40.27</td>\n",
       "      <td>...</td>\n",
       "      <td>65</td>\n",
       "      <td>10</td>\n",
       "      <td>6</td>\n",
       "      <td>0</td>\n",
       "      <td>18.0</td>\n",
       "      <td>25.0</td>\n",
       "      <td>107.0</td>\n",
       "      <td>64.0</td>\n",
       "      <td>21.0</td>\n",
       "      <td>True</td>\n",
       "    </tr>\n",
       "    <tr>\n",
       "      <th>3</th>\n",
       "      <td>4</td>\n",
       "      <td>46.0</td>\n",
       "      <td>8.0</td>\n",
       "      <td>6.0</td>\n",
       "      <td>8.0</td>\n",
       "      <td>141.0</td>\n",
       "      <td>769.78</td>\n",
       "      <td>0.07</td>\n",
       "      <td>14.86</td>\n",
       "      <td>51.81</td>\n",
       "      <td>...</td>\n",
       "      <td>37</td>\n",
       "      <td>2</td>\n",
       "      <td>5</td>\n",
       "      <td>0</td>\n",
       "      <td>16.0</td>\n",
       "      <td>28.0</td>\n",
       "      <td>89.0</td>\n",
       "      <td>52.0</td>\n",
       "      <td>15.0</td>\n",
       "      <td>True</td>\n",
       "    </tr>\n",
       "    <tr>\n",
       "      <th>4</th>\n",
       "      <td>5</td>\n",
       "      <td>25.0</td>\n",
       "      <td>3.0</td>\n",
       "      <td>1.0</td>\n",
       "      <td>3.0</td>\n",
       "      <td>58.0</td>\n",
       "      <td>254.75</td>\n",
       "      <td>0.11</td>\n",
       "      <td>9.35</td>\n",
       "      <td>27.25</td>\n",
       "      <td>...</td>\n",
       "      <td>21</td>\n",
       "      <td>0</td>\n",
       "      <td>2</td>\n",
       "      <td>0</td>\n",
       "      <td>11.0</td>\n",
       "      <td>10.0</td>\n",
       "      <td>41.0</td>\n",
       "      <td>17.0</td>\n",
       "      <td>5.0</td>\n",
       "      <td>True</td>\n",
       "    </tr>\n",
       "  </tbody>\n",
       "</table>\n",
       "<p>5 rows × 23 columns</p>\n",
       "</div>"
      ],
      "text/plain": [
       "   id   loc  v(g)  ev(g)  iv(g)      n       v     l      d      i  ...  \\\n",
       "0   1   1.1   1.4    1.4    1.4    1.3    1.30  1.30   1.30   1.30  ...   \n",
       "1   2   1.0   1.0    1.0    1.0    1.0    1.00  1.00   1.00   1.00  ...   \n",
       "2   3  83.0  11.0    1.0   11.0  171.0  927.89  0.04  23.04  40.27  ...   \n",
       "3   4  46.0   8.0    6.0    8.0  141.0  769.78  0.07  14.86  51.81  ...   \n",
       "4   5  25.0   3.0    1.0    3.0   58.0  254.75  0.11   9.35  27.25  ...   \n",
       "\n",
       "   lOCode  lOComment  lOBlank  locCodeAndComment  uniq_Op  uniq_Opnd  \\\n",
       "0       2          2        2                  2      1.2        1.2   \n",
       "1       1          1        1                  1      1.0        1.0   \n",
       "2      65         10        6                  0     18.0       25.0   \n",
       "3      37          2        5                  0     16.0       28.0   \n",
       "4      21          0        2                  0     11.0       10.0   \n",
       "\n",
       "   total_Op  total_Opnd  branchCount  defects  \n",
       "0       1.2         1.2          1.4    False  \n",
       "1       1.0         1.0          1.0     True  \n",
       "2     107.0        64.0         21.0     True  \n",
       "3      89.0        52.0         15.0     True  \n",
       "4      41.0        17.0          5.0     True  \n",
       "\n",
       "[5 rows x 23 columns]"
      ]
     },
     "execution_count": 7,
     "metadata": {},
     "output_type": "execute_result"
    }
   ],
   "source": [
    "df.head()"
   ]
  },
  {
   "cell_type": "code",
   "execution_count": 8,
   "id": "733e95eb",
   "metadata": {
    "execution": {
     "iopub.execute_input": "2021-04-04T22:37:32.063642Z",
     "iopub.status.busy": "2021-04-04T22:37:32.062522Z",
     "iopub.status.idle": "2021-04-04T22:37:32.065531Z",
     "shell.execute_reply": "2021-04-04T22:37:32.067327Z"
    },
    "papermill": {
     "duration": 0.037116,
     "end_time": "2021-04-04T22:37:32.067565",
     "exception": false,
     "start_time": "2021-04-04T22:37:32.030449",
     "status": "completed"
    },
    "tags": []
   },
   "outputs": [],
   "source": [
    "del df['id']"
   ]
  },
  {
   "cell_type": "code",
   "execution_count": 9,
   "id": "6ff6f5b0",
   "metadata": {
    "execution": {
     "iopub.execute_input": "2021-04-04T22:37:32.118666Z",
     "iopub.status.busy": "2021-04-04T22:37:32.117954Z",
     "iopub.status.idle": "2021-04-04T22:37:32.120612Z",
     "shell.execute_reply": "2021-04-04T22:37:32.121193Z"
    },
    "papermill": {
     "duration": 0.031082,
     "end_time": "2021-04-04T22:37:32.121358",
     "exception": false,
     "start_time": "2021-04-04T22:37:32.090276",
     "status": "completed"
    },
    "tags": []
   },
   "outputs": [],
   "source": [
    "if PROFILE_REPORTING:\n",
    "    ProfileReport(df).to_widgets()"
   ]
  },
  {
   "cell_type": "markdown",
   "id": "1deaf3f0",
   "metadata": {
    "papermill": {
     "duration": 0.031901,
     "end_time": "2021-04-04T22:37:32.177307",
     "exception": false,
     "start_time": "2021-04-04T22:37:32.145406",
     "status": "completed"
    },
    "tags": []
   },
   "source": [
    "# Preprocess"
   ]
  },
  {
   "cell_type": "code",
   "execution_count": 10,
   "id": "1513e563",
   "metadata": {
    "execution": {
     "iopub.execute_input": "2021-04-04T22:37:32.235430Z",
     "iopub.status.busy": "2021-04-04T22:37:32.234577Z",
     "iopub.status.idle": "2021-04-04T22:37:32.237305Z",
     "shell.execute_reply": "2021-04-04T22:37:32.236639Z"
    },
    "papermill": {
     "duration": 0.033566,
     "end_time": "2021-04-04T22:37:32.237431",
     "exception": false,
     "start_time": "2021-04-04T22:37:32.203865",
     "status": "completed"
    },
    "tags": []
   },
   "outputs": [],
   "source": [
    "working_df = df.copy()"
   ]
  },
  {
   "cell_type": "code",
   "execution_count": 11,
   "id": "3b26d675",
   "metadata": {
    "execution": {
     "iopub.execute_input": "2021-04-04T22:37:32.297353Z",
     "iopub.status.busy": "2021-04-04T22:37:32.295889Z",
     "iopub.status.idle": "2021-04-04T22:37:32.301974Z",
     "shell.execute_reply": "2021-04-04T22:37:32.301096Z"
    },
    "papermill": {
     "duration": 0.042112,
     "end_time": "2021-04-04T22:37:32.302130",
     "exception": false,
     "start_time": "2021-04-04T22:37:32.260018",
     "status": "completed"
    },
    "tags": []
   },
   "outputs": [],
   "source": [
    "working_df['defects'] = working_df['defects'].replace([False, True], [0, 1])"
   ]
  },
  {
   "cell_type": "code",
   "execution_count": 12,
   "id": "eb48604f",
   "metadata": {
    "execution": {
     "iopub.execute_input": "2021-04-04T22:37:32.366606Z",
     "iopub.status.busy": "2021-04-04T22:37:32.365350Z",
     "iopub.status.idle": "2021-04-04T22:37:32.370372Z",
     "shell.execute_reply": "2021-04-04T22:37:32.368065Z"
    },
    "papermill": {
     "duration": 0.040838,
     "end_time": "2021-04-04T22:37:32.370888",
     "exception": false,
     "start_time": "2021-04-04T22:37:32.330050",
     "status": "completed"
    },
    "tags": []
   },
   "outputs": [],
   "source": [
    "for col in dataset_config['delete_columns']:\n",
    "    del working_df[col]"
   ]
  },
  {
   "cell_type": "code",
   "execution_count": 13,
   "id": "9a17bc29",
   "metadata": {
    "execution": {
     "iopub.execute_input": "2021-04-04T22:37:32.438246Z",
     "iopub.status.busy": "2021-04-04T22:37:32.436688Z",
     "iopub.status.idle": "2021-04-04T22:37:32.452241Z",
     "shell.execute_reply": "2021-04-04T22:37:32.451455Z"
    },
    "papermill": {
     "duration": 0.051552,
     "end_time": "2021-04-04T22:37:32.452437",
     "exception": false,
     "start_time": "2021-04-04T22:37:32.400885",
     "status": "completed"
    },
    "tags": []
   },
   "outputs": [],
   "source": [
    "working_df = working_df.drop_duplicates()"
   ]
  },
  {
   "cell_type": "markdown",
   "id": "a4d52ca6",
   "metadata": {
    "papermill": {
     "duration": 0.024392,
     "end_time": "2021-04-04T22:37:32.501009",
     "exception": false,
     "start_time": "2021-04-04T22:37:32.476617",
     "status": "completed"
    },
    "tags": []
   },
   "source": [
    "# Split"
   ]
  },
  {
   "cell_type": "code",
   "execution_count": 14,
   "id": "3e9ee4b5",
   "metadata": {
    "execution": {
     "iopub.execute_input": "2021-04-04T22:37:32.556133Z",
     "iopub.status.busy": "2021-04-04T22:37:32.555323Z",
     "iopub.status.idle": "2021-04-04T22:37:32.592474Z",
     "shell.execute_reply": "2021-04-04T22:37:32.593044Z"
    },
    "papermill": {
     "duration": 0.069566,
     "end_time": "2021-04-04T22:37:32.593279",
     "exception": false,
     "start_time": "2021-04-04T22:37:32.523713",
     "status": "completed"
    },
    "tags": []
   },
   "outputs": [],
   "source": [
    "from sklearn.model_selection import train_test_split"
   ]
  },
  {
   "cell_type": "code",
   "execution_count": 15,
   "id": "274004ce",
   "metadata": {
    "execution": {
     "iopub.execute_input": "2021-04-04T22:37:32.647113Z",
     "iopub.status.busy": "2021-04-04T22:37:32.646453Z",
     "iopub.status.idle": "2021-04-04T22:37:32.651441Z",
     "shell.execute_reply": "2021-04-04T22:37:32.650836Z"
    },
    "papermill": {
     "duration": 0.035203,
     "end_time": "2021-04-04T22:37:32.651562",
     "exception": false,
     "start_time": "2021-04-04T22:37:32.616359",
     "status": "completed"
    },
    "scrolled": true,
    "tags": []
   },
   "outputs": [],
   "source": [
    "inlier, outlier = working_df[working_df['defects'] == 0], working_df[working_df['defects'] == 1]"
   ]
  },
  {
   "cell_type": "code",
   "execution_count": 16,
   "id": "753c7b03",
   "metadata": {
    "execution": {
     "iopub.execute_input": "2021-04-04T22:37:32.711193Z",
     "iopub.status.busy": "2021-04-04T22:37:32.709500Z",
     "iopub.status.idle": "2021-04-04T22:37:32.714913Z",
     "shell.execute_reply": "2021-04-04T22:37:32.716842Z"
    },
    "papermill": {
     "duration": 0.042004,
     "end_time": "2021-04-04T22:37:32.717206",
     "exception": false,
     "start_time": "2021-04-04T22:37:32.675202",
     "status": "completed"
    },
    "tags": []
   },
   "outputs": [],
   "source": [
    "X_inlier = inlier.copy()\n",
    "y_inlier = X_inlier.pop('defects')\n",
    "X_outlier = outlier.copy()\n",
    "y_outlier = X_outlier.pop('defects')"
   ]
  },
  {
   "cell_type": "code",
   "execution_count": 17,
   "id": "2ba43193",
   "metadata": {
    "execution": {
     "iopub.execute_input": "2021-04-04T22:37:32.778019Z",
     "iopub.status.busy": "2021-04-04T22:37:32.776385Z",
     "iopub.status.idle": "2021-04-04T22:37:32.783694Z",
     "shell.execute_reply": "2021-04-04T22:37:32.782071Z"
    },
    "papermill": {
     "duration": 0.036527,
     "end_time": "2021-04-04T22:37:32.783911",
     "exception": false,
     "start_time": "2021-04-04T22:37:32.747384",
     "status": "completed"
    },
    "tags": []
   },
   "outputs": [],
   "source": [
    "test_size = dataset_config['test_size']\n",
    "random_state = dataset_config['random_state']\n",
    "\n",
    "X_inlier_train, X_inlier_test, y_inlier_train, y_inlier_test = train_test_split(\n",
    "    X_inlier,\n",
    "    y_inlier,\n",
    "    test_size=test_size,\n",
    "    random_state=random_state\n",
    ")"
   ]
  },
  {
   "cell_type": "code",
   "execution_count": 18,
   "id": "0b7582ca",
   "metadata": {
    "execution": {
     "iopub.execute_input": "2021-04-04T22:37:32.845582Z",
     "iopub.status.busy": "2021-04-04T22:37:32.844678Z",
     "iopub.status.idle": "2021-04-04T22:37:32.847599Z",
     "shell.execute_reply": "2021-04-04T22:37:32.848613Z"
    },
    "papermill": {
     "duration": 0.040947,
     "end_time": "2021-04-04T22:37:32.848885",
     "exception": false,
     "start_time": "2021-04-04T22:37:32.807938",
     "status": "completed"
    },
    "tags": []
   },
   "outputs": [],
   "source": [
    "test_outlier_size = dataset_config['test_outlier_size']\n",
    "if test_outlier_size > 0.0:\n",
    "    X_outlier_train, X_outlier_test, y_outlier_train, y_outlier_test = train_test_split(\n",
    "        X_outlier,\n",
    "        y_outlier,\n",
    "        test_size=test_outlier_size,\n",
    "        random_state=random_state\n",
    "    )\n",
    "else:\n",
    "    X_outlier_train, y_outlier_train = pd.DataFrame(columns=X_outlier.columns), pd.Series(dtype='int64')\n",
    "    X_outlier_test, y_outlier_test = X_outlier.copy(), y_outlier.copy()"
   ]
  },
  {
   "cell_type": "code",
   "execution_count": 19,
   "id": "c34363db",
   "metadata": {
    "execution": {
     "iopub.execute_input": "2021-04-04T22:37:32.905156Z",
     "iopub.status.busy": "2021-04-04T22:37:32.904516Z",
     "iopub.status.idle": "2021-04-04T22:37:32.907886Z",
     "shell.execute_reply": "2021-04-04T22:37:32.908343Z"
    },
    "papermill": {
     "duration": 0.03539,
     "end_time": "2021-04-04T22:37:32.908495",
     "exception": false,
     "start_time": "2021-04-04T22:37:32.873105",
     "status": "completed"
    },
    "tags": []
   },
   "outputs": [],
   "source": [
    "X_train, y_train = pd.concat([X_inlier_train, X_outlier_train], ignore_index=True), pd.concat([y_inlier_train, y_outlier_train], ignore_index=True)\n",
    "X_test, y_test = pd.concat([X_inlier_test, X_outlier_test], ignore_index=True), pd.concat([y_inlier_test, y_outlier_test], ignore_index=True)"
   ]
  },
  {
   "cell_type": "markdown",
   "id": "7cde7309",
   "metadata": {
    "papermill": {
     "duration": 0.029197,
     "end_time": "2021-04-04T22:37:32.963042",
     "exception": false,
     "start_time": "2021-04-04T22:37:32.933845",
     "status": "completed"
    },
    "tags": []
   },
   "source": [
    "# Model"
   ]
  },
  {
   "cell_type": "code",
   "execution_count": 20,
   "id": "2b12a415",
   "metadata": {
    "execution": {
     "iopub.execute_input": "2021-04-04T22:37:33.026813Z",
     "iopub.status.busy": "2021-04-04T22:37:33.025960Z",
     "iopub.status.idle": "2021-04-04T22:37:33.028261Z",
     "shell.execute_reply": "2021-04-04T22:37:33.028712Z"
    },
    "papermill": {
     "duration": 0.035987,
     "end_time": "2021-04-04T22:37:33.028853",
     "exception": false,
     "start_time": "2021-04-04T22:37:32.992866",
     "status": "completed"
    },
    "tags": []
   },
   "outputs": [],
   "source": [
    "from math import sqrt\n",
    "\n",
    "\n",
    "class KNNDataDescription:\n",
    "    def __init__(self, k=5, outlier_threshold=1.0):\n",
    "        self.k = k\n",
    "        self.outlier_threshold = outlier_threshold\n",
    "        self.X = []\n",
    "    \n",
    "    def fit(self, X):\n",
    "        self.X = [features.to_list() for index, features in X.iterrows()]\n",
    "\n",
    "    def predict(self, entries):\n",
    "        return [self.predict_entry(features.to_list()) for index, features in entries.iterrows()]\n",
    "    \n",
    "    def predict_entry(self, entry):\n",
    "        kth_neighbor, kth_distance = self.get_kth_neighbor(entry, self.k)\n",
    "        kth_kth_neighbor, kth_kth_distance = self.get_kth_neighbor(kth_neighbor, self.k + 1)\n",
    "\n",
    "        outlier_score = kth_distance / (kth_kth_distance + 0.000001)\n",
    "\n",
    "        return 1 if outlier_score < self.outlier_threshold else -1\n",
    "        \n",
    "    def euclidean_distance(self, features1, features2):\n",
    "        distance = 0.0\n",
    "        for feat1, feat2 in zip(features1, features2):\n",
    "            distance += (feat1 - feat2)**2\n",
    "                \n",
    "        return sqrt(distance)\n",
    "\n",
    "    def get_neighbors(self, entry, k):\n",
    "        distance_to_data_points = [\n",
    "            (data_point, self.euclidean_distance(entry, data_point))\n",
    "            for data_point in self.X\n",
    "        ]\n",
    "        sorted_by_distance = sorted(distance_to_data_points, key=lambda tup: tup[1])\n",
    "        neighbors = sorted_by_distance[:k]\n",
    "        return neighbors\n",
    "\n",
    "    def get_kth_neighbor(self, entry, k):\n",
    "        neighbors = self.get_neighbors(entry, k)\n",
    "        return neighbors[-1]\n"
   ]
  },
  {
   "cell_type": "code",
   "execution_count": 21,
   "id": "1fa9ec1c",
   "metadata": {
    "execution": {
     "iopub.execute_input": "2021-04-04T22:37:33.088735Z",
     "iopub.status.busy": "2021-04-04T22:37:33.087223Z",
     "iopub.status.idle": "2021-04-04T22:37:33.125548Z",
     "shell.execute_reply": "2021-04-04T22:37:33.127283Z"
    },
    "papermill": {
     "duration": 0.073133,
     "end_time": "2021-04-04T22:37:33.127586",
     "exception": false,
     "start_time": "2021-04-04T22:37:33.054453",
     "status": "completed"
    },
    "tags": []
   },
   "outputs": [],
   "source": [
    "from sklearn.svm import OneClassSVM\n",
    "\n",
    "\n",
    "models = {\n",
    "    'oneclasssvm': OneClassSVM,\n",
    "    'knndatadescription': KNNDataDescription,\n",
    "}"
   ]
  },
  {
   "cell_type": "code",
   "execution_count": 22,
   "id": "4d72a0b1",
   "metadata": {
    "execution": {
     "iopub.execute_input": "2021-04-04T22:37:33.210897Z",
     "iopub.status.busy": "2021-04-04T22:37:33.209804Z",
     "iopub.status.idle": "2021-04-04T22:37:33.212313Z",
     "shell.execute_reply": "2021-04-04T22:37:33.211813Z"
    },
    "papermill": {
     "duration": 0.038362,
     "end_time": "2021-04-04T22:37:33.212465",
     "exception": false,
     "start_time": "2021-04-04T22:37:33.174103",
     "status": "completed"
    },
    "scrolled": true,
    "tags": []
   },
   "outputs": [],
   "source": [
    "model_cls = models[model_config['model_type']]\n",
    "model = model_cls(**model_config['hyperparameters'])"
   ]
  },
  {
   "cell_type": "markdown",
   "id": "e00cff3b",
   "metadata": {
    "papermill": {
     "duration": 0.031052,
     "end_time": "2021-04-04T22:37:33.269686",
     "exception": false,
     "start_time": "2021-04-04T22:37:33.238634",
     "status": "completed"
    },
    "tags": []
   },
   "source": [
    "# Fit"
   ]
  },
  {
   "cell_type": "code",
   "execution_count": 23,
   "id": "8b2ded89",
   "metadata": {
    "execution": {
     "iopub.execute_input": "2021-04-04T22:37:33.326423Z",
     "iopub.status.busy": "2021-04-04T22:37:33.325759Z",
     "iopub.status.idle": "2021-04-04T22:37:33.384933Z",
     "shell.execute_reply": "2021-04-04T22:37:33.383513Z"
    },
    "papermill": {
     "duration": 0.087474,
     "end_time": "2021-04-04T22:37:33.385184",
     "exception": false,
     "start_time": "2021-04-04T22:37:33.297710",
     "status": "completed"
    },
    "tags": []
   },
   "outputs": [],
   "source": [
    "model.fit(X_train)"
   ]
  },
  {
   "cell_type": "markdown",
   "id": "f99999f7",
   "metadata": {
    "papermill": {
     "duration": 0.031329,
     "end_time": "2021-04-04T22:37:33.446313",
     "exception": false,
     "start_time": "2021-04-04T22:37:33.414984",
     "status": "completed"
    },
    "tags": []
   },
   "source": [
    "# Predict"
   ]
  },
  {
   "cell_type": "code",
   "execution_count": 24,
   "id": "6536fbf7",
   "metadata": {
    "execution": {
     "iopub.execute_input": "2021-04-04T22:37:33.503786Z",
     "iopub.status.busy": "2021-04-04T22:37:33.503032Z",
     "iopub.status.idle": "2021-04-04T22:37:37.221407Z",
     "shell.execute_reply": "2021-04-04T22:37:37.221890Z"
    },
    "papermill": {
     "duration": 3.75012,
     "end_time": "2021-04-04T22:37:37.222039",
     "exception": false,
     "start_time": "2021-04-04T22:37:33.471919",
     "status": "completed"
    },
    "tags": []
   },
   "outputs": [],
   "source": [
    "predictions = model.predict(X_test)"
   ]
  },
  {
   "cell_type": "markdown",
   "id": "aa1c9881",
   "metadata": {
    "papermill": {
     "duration": 0.030929,
     "end_time": "2021-04-04T22:37:37.278010",
     "exception": false,
     "start_time": "2021-04-04T22:37:37.247081",
     "status": "completed"
    },
    "tags": []
   },
   "source": [
    "# Evaluate"
   ]
  },
  {
   "cell_type": "code",
   "execution_count": 25,
   "id": "894f0f04",
   "metadata": {
    "execution": {
     "iopub.execute_input": "2021-04-04T22:37:37.368498Z",
     "iopub.status.busy": "2021-04-04T22:37:37.367433Z",
     "iopub.status.idle": "2021-04-04T22:37:37.370902Z",
     "shell.execute_reply": "2021-04-04T22:37:37.370099Z"
    },
    "papermill": {
     "duration": 0.048541,
     "end_time": "2021-04-04T22:37:37.371217",
     "exception": false,
     "start_time": "2021-04-04T22:37:37.322676",
     "status": "completed"
    },
    "tags": []
   },
   "outputs": [],
   "source": [
    "from sklearn.metrics import f1_score"
   ]
  },
  {
   "cell_type": "code",
   "execution_count": 26,
   "id": "211744d3",
   "metadata": {
    "execution": {
     "iopub.execute_input": "2021-04-04T22:37:37.438001Z",
     "iopub.status.busy": "2021-04-04T22:37:37.437135Z",
     "iopub.status.idle": "2021-04-04T22:37:37.439678Z",
     "shell.execute_reply": "2021-04-04T22:37:37.439159Z"
    },
    "papermill": {
     "duration": 0.036055,
     "end_time": "2021-04-04T22:37:37.439798",
     "exception": false,
     "start_time": "2021-04-04T22:37:37.403743",
     "status": "completed"
    },
    "tags": []
   },
   "outputs": [],
   "source": [
    "y_test = y_test.replace([0, 1], [1, -1])"
   ]
  },
  {
   "cell_type": "code",
   "execution_count": 27,
   "id": "d68a9204",
   "metadata": {
    "execution": {
     "iopub.execute_input": "2021-04-04T22:37:37.531945Z",
     "iopub.status.busy": "2021-04-04T22:37:37.529470Z",
     "iopub.status.idle": "2021-04-04T22:37:37.537956Z",
     "shell.execute_reply": "2021-04-04T22:37:37.539785Z"
    },
    "papermill": {
     "duration": 0.070859,
     "end_time": "2021-04-04T22:37:37.540295",
     "exception": false,
     "start_time": "2021-04-04T22:37:37.469436",
     "status": "completed"
    },
    "tags": []
   },
   "outputs": [],
   "source": [
    "def evaluate(truths, predictions, pos_label, neg_label):\n",
    "    TP = 0\n",
    "    FP = 0\n",
    "    TN = 0\n",
    "    FN = 0\n",
    "\n",
    "    for truth, pred in zip(truths, predictions): \n",
    "        if truth == pred == pos_label:\n",
    "           TP += 1\n",
    "        elif pred == pos_label and truth == neg_label:\n",
    "           FP += 1\n",
    "        elif truth == pred == neg_label:\n",
    "           TN += 1\n",
    "        elif pred == neg_label and truth == pos_label:\n",
    "           FN += 1\n",
    "\n",
    "    precision = TP / (TP + FP)\n",
    "    sensitivity = TP / (TP + FN)\n",
    "    \n",
    "    return {\n",
    "        'true_pos': TP,\n",
    "        'false_pos': FP,\n",
    "        'false_neg': FN,\n",
    "        'true_neg': TN,\n",
    "        'precision': precision,\n",
    "        'sensitivity': sensitivity,\n",
    "        'f1': (2 * (precision * sensitivity)) / (precision + sensitivity)\n",
    "    }\n",
    "\n",
    "score = evaluate(y_test, predictions, pos_label=-1, neg_label=1)"
   ]
  },
  {
   "cell_type": "markdown",
   "id": "93596516",
   "metadata": {
    "papermill": {
     "duration": 0.031137,
     "end_time": "2021-04-04T22:37:37.601955",
     "exception": false,
     "start_time": "2021-04-04T22:37:37.570818",
     "status": "completed"
    },
    "tags": []
   },
   "source": [
    "# Report"
   ]
  },
  {
   "cell_type": "code",
   "execution_count": 28,
   "id": "bea5fba1",
   "metadata": {
    "execution": {
     "iopub.execute_input": "2021-04-04T22:37:37.705396Z",
     "iopub.status.busy": "2021-04-04T22:37:37.704189Z",
     "iopub.status.idle": "2021-04-04T22:37:37.708236Z",
     "shell.execute_reply": "2021-04-04T22:37:37.708841Z"
    },
    "papermill": {
     "duration": 0.064306,
     "end_time": "2021-04-04T22:37:37.709013",
     "exception": false,
     "start_time": "2021-04-04T22:37:37.644707",
     "status": "completed"
    },
    "tags": []
   },
   "outputs": [],
   "source": [
    "import csv\n",
    "\n",
    "\n",
    "dataset_config_name = DATASET_CONFIG_PATH.split('/')[-1].split('.')[0]\n",
    "model_config_name = MODEL_CONFIG_PATH.split('/')[-1].split('.')[0]\n",
    "configuration = f\"dataset_{dataset_config_name}-model_{model_config_name}\"\n",
    "\n",
    "with open('results.csv', 'a') as f:\n",
    "    report = dict({'configuration': configuration}, **score)\n",
    "    writer = csv.DictWriter(f, report.keys())\n",
    "    writer.writerow(report)"
   ]
  }
 ],
 "metadata": {
  "celltoolbar": "Tags",
  "kernelspec": {
   "display_name": "Python 3",
   "language": "python",
   "name": "python3"
  },
  "language_info": {
   "codemirror_mode": {
    "name": "ipython",
    "version": 3
   },
   "file_extension": ".py",
   "mimetype": "text/x-python",
   "name": "python",
   "nbconvert_exporter": "python",
   "pygments_lexer": "ipython3",
   "version": "3.9.1"
  },
  "papermill": {
   "default_parameters": {},
   "duration": 9.768026,
   "end_time": "2021-04-04T22:37:38.661657",
   "environment_variables": {},
   "exception": null,
   "input_path": "main.ipynb",
   "output_path": "runs/dataset_000030-model_000001.ipynb",
   "parameters": {
    "DATASET_CONFIG_PATH": "config/dataset/000030.json",
    "MODEL_CONFIG_PATH": "config/model/000001.json",
    "PROFILE_REPORTING": false
   },
   "start_time": "2021-04-04T22:37:28.893631",
   "version": "2.3.3"
  }
 },
 "nbformat": 4,
 "nbformat_minor": 5
}