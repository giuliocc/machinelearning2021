{
 "cells": [
  {
   "cell_type": "markdown",
   "id": "51c71c25",
   "metadata": {
    "papermill": {
     "duration": 0.028705,
     "end_time": "2021-04-04T23:37:55.326333",
     "exception": false,
     "start_time": "2021-04-04T23:37:55.297628",
     "status": "completed"
    },
    "tags": []
   },
   "source": [
    "# Parametrizing"
   ]
  },
  {
   "cell_type": "code",
   "execution_count": 1,
   "id": "3b136394",
   "metadata": {
    "execution": {
     "iopub.execute_input": "2021-04-04T23:37:55.397528Z",
     "iopub.status.busy": "2021-04-04T23:37:55.394870Z",
     "iopub.status.idle": "2021-04-04T23:37:55.399283Z",
     "shell.execute_reply": "2021-04-04T23:37:55.399897Z"
    },
    "papermill": {
     "duration": 0.051281,
     "end_time": "2021-04-04T23:37:55.400157",
     "exception": false,
     "start_time": "2021-04-04T23:37:55.348876",
     "status": "completed"
    },
    "tags": [
     "parameters"
    ]
   },
   "outputs": [],
   "source": [
    "DATASET_CONFIG_PATH = 'config/dataset/kc1_001.json'\n",
    "MODEL_CONFIG_PATH = 'config/model/knndd_001.json'\n",
    "PROFILE_REPORTING = False"
   ]
  },
  {
   "cell_type": "code",
   "execution_count": 2,
   "id": "5749fb18",
   "metadata": {
    "execution": {
     "iopub.execute_input": "2021-04-04T23:37:55.450849Z",
     "iopub.status.busy": "2021-04-04T23:37:55.450259Z",
     "iopub.status.idle": "2021-04-04T23:37:55.452284Z",
     "shell.execute_reply": "2021-04-04T23:37:55.452743Z"
    },
    "papermill": {
     "duration": 0.028795,
     "end_time": "2021-04-04T23:37:55.452883",
     "exception": false,
     "start_time": "2021-04-04T23:37:55.424088",
     "status": "completed"
    },
    "tags": [
     "injected-parameters"
    ]
   },
   "outputs": [],
   "source": [
    "# Parameters\n",
    "DATASET_CONFIG_PATH = \"config/dataset/000160.json\"\n",
    "MODEL_CONFIG_PATH = \"config/model/000002.json\"\n",
    "PROFILE_REPORTING = False\n"
   ]
  },
  {
   "cell_type": "code",
   "execution_count": 3,
   "id": "b80f2a10",
   "metadata": {
    "execution": {
     "iopub.execute_input": "2021-04-04T23:37:55.506612Z",
     "iopub.status.busy": "2021-04-04T23:37:55.505632Z",
     "iopub.status.idle": "2021-04-04T23:37:55.508773Z",
     "shell.execute_reply": "2021-04-04T23:37:55.509396Z"
    },
    "papermill": {
     "duration": 0.03576,
     "end_time": "2021-04-04T23:37:55.509587",
     "exception": false,
     "start_time": "2021-04-04T23:37:55.473827",
     "status": "completed"
    },
    "tags": []
   },
   "outputs": [],
   "source": [
    "import json\n",
    "\n",
    "\n",
    "with open(DATASET_CONFIG_PATH) as f:\n",
    "    dataset_config = json.load(f)\n",
    "\n",
    "with open(MODEL_CONFIG_PATH) as f:\n",
    "    model_config = json.load(f)"
   ]
  },
  {
   "cell_type": "markdown",
   "id": "9a4b0e2d",
   "metadata": {
    "papermill": {
     "duration": 0.021116,
     "end_time": "2021-04-04T23:37:55.556328",
     "exception": false,
     "start_time": "2021-04-04T23:37:55.535212",
     "status": "completed"
    },
    "tags": []
   },
   "source": [
    "# Profiling"
   ]
  },
  {
   "cell_type": "code",
   "execution_count": 4,
   "id": "a3e0289b",
   "metadata": {
    "execution": {
     "iopub.execute_input": "2021-04-04T23:37:55.612665Z",
     "iopub.status.busy": "2021-04-04T23:37:55.611850Z",
     "iopub.status.idle": "2021-04-04T23:37:56.984811Z",
     "shell.execute_reply": "2021-04-04T23:37:56.985511Z"
    },
    "papermill": {
     "duration": 1.40752,
     "end_time": "2021-04-04T23:37:56.985708",
     "exception": false,
     "start_time": "2021-04-04T23:37:55.578188",
     "status": "completed"
    },
    "tags": []
   },
   "outputs": [],
   "source": [
    "import pandas as pd\n",
    "from pandas_profiling import ProfileReport"
   ]
  },
  {
   "cell_type": "code",
   "execution_count": 5,
   "id": "ee6c0666",
   "metadata": {
    "execution": {
     "iopub.execute_input": "2021-04-04T23:37:57.047803Z",
     "iopub.status.busy": "2021-04-04T23:37:57.047210Z",
     "iopub.status.idle": "2021-04-04T23:37:57.053554Z",
     "shell.execute_reply": "2021-04-04T23:37:57.054037Z"
    },
    "papermill": {
     "duration": 0.034729,
     "end_time": "2021-04-04T23:37:57.054186",
     "exception": false,
     "start_time": "2021-04-04T23:37:57.019457",
     "status": "completed"
    },
    "tags": []
   },
   "outputs": [],
   "source": [
    "df = pd.read_csv(dataset_config['dataset_path'])"
   ]
  },
  {
   "cell_type": "code",
   "execution_count": 6,
   "id": "7eca6c4a",
   "metadata": {
    "execution": {
     "iopub.execute_input": "2021-04-04T23:37:57.126729Z",
     "iopub.status.busy": "2021-04-04T23:37:57.126014Z",
     "iopub.status.idle": "2021-04-04T23:37:57.128485Z",
     "shell.execute_reply": "2021-04-04T23:37:57.128956Z"
    },
    "papermill": {
     "duration": 0.053057,
     "end_time": "2021-04-04T23:37:57.129100",
     "exception": false,
     "start_time": "2021-04-04T23:37:57.076043",
     "status": "completed"
    },
    "tags": []
   },
   "outputs": [
    {
     "name": "stdout",
     "output_type": "stream",
     "text": [
      "<class 'pandas.core.frame.DataFrame'>\n",
      "RangeIndex: 498 entries, 0 to 497\n",
      "Data columns (total 23 columns):\n",
      " #   Column             Non-Null Count  Dtype  \n",
      "---  ------             --------------  -----  \n",
      " 0   id                 498 non-null    int64  \n",
      " 1   loc                498 non-null    float64\n",
      " 2   v(g)               498 non-null    float64\n",
      " 3   ev(g)              498 non-null    float64\n",
      " 4   iv(g)              498 non-null    float64\n",
      " 5   n                  498 non-null    float64\n",
      " 6   v                  498 non-null    float64\n",
      " 7   l                  498 non-null    float64\n",
      " 8   d                  498 non-null    float64\n",
      " 9   i                  498 non-null    float64\n",
      " 10  e                  498 non-null    float64\n",
      " 11  b                  498 non-null    float64\n",
      " 12  t                  498 non-null    float64\n",
      " 13  lOCode             498 non-null    int64  \n",
      " 14  lOComment          498 non-null    int64  \n",
      " 15  lOBlank            498 non-null    int64  \n",
      " 16  locCodeAndComment  498 non-null    int64  \n",
      " 17  uniq_Op            498 non-null    float64\n",
      " 18  uniq_Opnd          498 non-null    float64\n",
      " 19  total_Op           498 non-null    float64\n",
      " 20  total_Opnd         498 non-null    float64\n",
      " 21  branchCount        498 non-null    float64\n",
      " 22  defects            498 non-null    bool   \n",
      "dtypes: bool(1), float64(17), int64(5)\n",
      "memory usage: 86.2 KB\n"
     ]
    }
   ],
   "source": [
    "df.info()"
   ]
  },
  {
   "cell_type": "code",
   "execution_count": 7,
   "id": "3638e5e8",
   "metadata": {
    "execution": {
     "iopub.execute_input": "2021-04-04T23:37:57.187843Z",
     "iopub.status.busy": "2021-04-04T23:37:57.186918Z",
     "iopub.status.idle": "2021-04-04T23:37:57.215950Z",
     "shell.execute_reply": "2021-04-04T23:37:57.215360Z"
    },
    "papermill": {
     "duration": 0.062645,
     "end_time": "2021-04-04T23:37:57.216069",
     "exception": false,
     "start_time": "2021-04-04T23:37:57.153424",
     "status": "completed"
    },
    "tags": []
   },
   "outputs": [
    {
     "data": {
      "text/html": [
       "<div>\n",
       "<style scoped>\n",
       "    .dataframe tbody tr th:only-of-type {\n",
       "        vertical-align: middle;\n",
       "    }\n",
       "\n",
       "    .dataframe tbody tr th {\n",
       "        vertical-align: top;\n",
       "    }\n",
       "\n",
       "    .dataframe thead th {\n",
       "        text-align: right;\n",
       "    }\n",
       "</style>\n",
       "<table border=\"1\" class=\"dataframe\">\n",
       "  <thead>\n",
       "    <tr style=\"text-align: right;\">\n",
       "      <th></th>\n",
       "      <th>id</th>\n",
       "      <th>loc</th>\n",
       "      <th>v(g)</th>\n",
       "      <th>ev(g)</th>\n",
       "      <th>iv(g)</th>\n",
       "      <th>n</th>\n",
       "      <th>v</th>\n",
       "      <th>l</th>\n",
       "      <th>d</th>\n",
       "      <th>i</th>\n",
       "      <th>...</th>\n",
       "      <th>lOCode</th>\n",
       "      <th>lOComment</th>\n",
       "      <th>lOBlank</th>\n",
       "      <th>locCodeAndComment</th>\n",
       "      <th>uniq_Op</th>\n",
       "      <th>uniq_Opnd</th>\n",
       "      <th>total_Op</th>\n",
       "      <th>total_Opnd</th>\n",
       "      <th>branchCount</th>\n",
       "      <th>defects</th>\n",
       "    </tr>\n",
       "  </thead>\n",
       "  <tbody>\n",
       "    <tr>\n",
       "      <th>0</th>\n",
       "      <td>1</td>\n",
       "      <td>1.1</td>\n",
       "      <td>1.4</td>\n",
       "      <td>1.4</td>\n",
       "      <td>1.4</td>\n",
       "      <td>1.3</td>\n",
       "      <td>1.30</td>\n",
       "      <td>1.30</td>\n",
       "      <td>1.30</td>\n",
       "      <td>1.30</td>\n",
       "      <td>...</td>\n",
       "      <td>2</td>\n",
       "      <td>2</td>\n",
       "      <td>2</td>\n",
       "      <td>2</td>\n",
       "      <td>1.2</td>\n",
       "      <td>1.2</td>\n",
       "      <td>1.2</td>\n",
       "      <td>1.2</td>\n",
       "      <td>1.4</td>\n",
       "      <td>False</td>\n",
       "    </tr>\n",
       "    <tr>\n",
       "      <th>1</th>\n",
       "      <td>2</td>\n",
       "      <td>1.0</td>\n",
       "      <td>1.0</td>\n",
       "      <td>1.0</td>\n",
       "      <td>1.0</td>\n",
       "      <td>1.0</td>\n",
       "      <td>1.00</td>\n",
       "      <td>1.00</td>\n",
       "      <td>1.00</td>\n",
       "      <td>1.00</td>\n",
       "      <td>...</td>\n",
       "      <td>1</td>\n",
       "      <td>1</td>\n",
       "      <td>1</td>\n",
       "      <td>1</td>\n",
       "      <td>1.0</td>\n",
       "      <td>1.0</td>\n",
       "      <td>1.0</td>\n",
       "      <td>1.0</td>\n",
       "      <td>1.0</td>\n",
       "      <td>True</td>\n",
       "    </tr>\n",
       "    <tr>\n",
       "      <th>2</th>\n",
       "      <td>3</td>\n",
       "      <td>24.0</td>\n",
       "      <td>5.0</td>\n",
       "      <td>1.0</td>\n",
       "      <td>3.0</td>\n",
       "      <td>63.0</td>\n",
       "      <td>309.13</td>\n",
       "      <td>0.11</td>\n",
       "      <td>9.50</td>\n",
       "      <td>32.54</td>\n",
       "      <td>...</td>\n",
       "      <td>1</td>\n",
       "      <td>0</td>\n",
       "      <td>6</td>\n",
       "      <td>0</td>\n",
       "      <td>15.0</td>\n",
       "      <td>15.0</td>\n",
       "      <td>44.0</td>\n",
       "      <td>19.0</td>\n",
       "      <td>9.0</td>\n",
       "      <td>False</td>\n",
       "    </tr>\n",
       "    <tr>\n",
       "      <th>3</th>\n",
       "      <td>4</td>\n",
       "      <td>20.0</td>\n",
       "      <td>4.0</td>\n",
       "      <td>4.0</td>\n",
       "      <td>2.0</td>\n",
       "      <td>47.0</td>\n",
       "      <td>215.49</td>\n",
       "      <td>0.06</td>\n",
       "      <td>16.00</td>\n",
       "      <td>13.47</td>\n",
       "      <td>...</td>\n",
       "      <td>0</td>\n",
       "      <td>0</td>\n",
       "      <td>3</td>\n",
       "      <td>0</td>\n",
       "      <td>16.0</td>\n",
       "      <td>8.0</td>\n",
       "      <td>31.0</td>\n",
       "      <td>16.0</td>\n",
       "      <td>7.0</td>\n",
       "      <td>False</td>\n",
       "    </tr>\n",
       "    <tr>\n",
       "      <th>4</th>\n",
       "      <td>5</td>\n",
       "      <td>24.0</td>\n",
       "      <td>6.0</td>\n",
       "      <td>6.0</td>\n",
       "      <td>2.0</td>\n",
       "      <td>72.0</td>\n",
       "      <td>346.13</td>\n",
       "      <td>0.06</td>\n",
       "      <td>17.33</td>\n",
       "      <td>19.97</td>\n",
       "      <td>...</td>\n",
       "      <td>0</td>\n",
       "      <td>0</td>\n",
       "      <td>3</td>\n",
       "      <td>0</td>\n",
       "      <td>16.0</td>\n",
       "      <td>12.0</td>\n",
       "      <td>46.0</td>\n",
       "      <td>26.0</td>\n",
       "      <td>11.0</td>\n",
       "      <td>False</td>\n",
       "    </tr>\n",
       "  </tbody>\n",
       "</table>\n",
       "<p>5 rows × 23 columns</p>\n",
       "</div>"
      ],
      "text/plain": [
       "   id   loc  v(g)  ev(g)  iv(g)     n       v     l      d      i  ...  \\\n",
       "0   1   1.1   1.4    1.4    1.4   1.3    1.30  1.30   1.30   1.30  ...   \n",
       "1   2   1.0   1.0    1.0    1.0   1.0    1.00  1.00   1.00   1.00  ...   \n",
       "2   3  24.0   5.0    1.0    3.0  63.0  309.13  0.11   9.50  32.54  ...   \n",
       "3   4  20.0   4.0    4.0    2.0  47.0  215.49  0.06  16.00  13.47  ...   \n",
       "4   5  24.0   6.0    6.0    2.0  72.0  346.13  0.06  17.33  19.97  ...   \n",
       "\n",
       "   lOCode  lOComment  lOBlank  locCodeAndComment  uniq_Op  uniq_Opnd  \\\n",
       "0       2          2        2                  2      1.2        1.2   \n",
       "1       1          1        1                  1      1.0        1.0   \n",
       "2       1          0        6                  0     15.0       15.0   \n",
       "3       0          0        3                  0     16.0        8.0   \n",
       "4       0          0        3                  0     16.0       12.0   \n",
       "\n",
       "   total_Op  total_Opnd  branchCount  defects  \n",
       "0       1.2         1.2          1.4    False  \n",
       "1       1.0         1.0          1.0     True  \n",
       "2      44.0        19.0          9.0    False  \n",
       "3      31.0        16.0          7.0    False  \n",
       "4      46.0        26.0         11.0    False  \n",
       "\n",
       "[5 rows x 23 columns]"
      ]
     },
     "execution_count": 7,
     "metadata": {},
     "output_type": "execute_result"
    }
   ],
   "source": [
    "df.head()"
   ]
  },
  {
   "cell_type": "code",
   "execution_count": 8,
   "id": "733e95eb",
   "metadata": {
    "execution": {
     "iopub.execute_input": "2021-04-04T23:37:57.270748Z",
     "iopub.status.busy": "2021-04-04T23:37:57.270103Z",
     "iopub.status.idle": "2021-04-04T23:37:57.272532Z",
     "shell.execute_reply": "2021-04-04T23:37:57.273123Z"
    },
    "papermill": {
     "duration": 0.034045,
     "end_time": "2021-04-04T23:37:57.273307",
     "exception": false,
     "start_time": "2021-04-04T23:37:57.239262",
     "status": "completed"
    },
    "tags": []
   },
   "outputs": [],
   "source": [
    "del df['id']"
   ]
  },
  {
   "cell_type": "code",
   "execution_count": 9,
   "id": "6ff6f5b0",
   "metadata": {
    "execution": {
     "iopub.execute_input": "2021-04-04T23:37:57.324324Z",
     "iopub.status.busy": "2021-04-04T23:37:57.323506Z",
     "iopub.status.idle": "2021-04-04T23:37:57.325810Z",
     "shell.execute_reply": "2021-04-04T23:37:57.326444Z"
    },
    "papermill": {
     "duration": 0.028505,
     "end_time": "2021-04-04T23:37:57.326623",
     "exception": false,
     "start_time": "2021-04-04T23:37:57.298118",
     "status": "completed"
    },
    "tags": []
   },
   "outputs": [],
   "source": [
    "if PROFILE_REPORTING:\n",
    "    ProfileReport(df).to_widgets()"
   ]
  },
  {
   "cell_type": "markdown",
   "id": "1deaf3f0",
   "metadata": {
    "papermill": {
     "duration": 0.042742,
     "end_time": "2021-04-04T23:37:57.411949",
     "exception": false,
     "start_time": "2021-04-04T23:37:57.369207",
     "status": "completed"
    },
    "tags": []
   },
   "source": [
    "# Preprocess"
   ]
  },
  {
   "cell_type": "code",
   "execution_count": 10,
   "id": "1513e563",
   "metadata": {
    "execution": {
     "iopub.execute_input": "2021-04-04T23:37:57.474419Z",
     "iopub.status.busy": "2021-04-04T23:37:57.473831Z",
     "iopub.status.idle": "2021-04-04T23:37:57.475921Z",
     "shell.execute_reply": "2021-04-04T23:37:57.476394Z"
    },
    "papermill": {
     "duration": 0.032135,
     "end_time": "2021-04-04T23:37:57.476556",
     "exception": false,
     "start_time": "2021-04-04T23:37:57.444421",
     "status": "completed"
    },
    "tags": []
   },
   "outputs": [],
   "source": [
    "working_df = df.copy()"
   ]
  },
  {
   "cell_type": "code",
   "execution_count": 11,
   "id": "3b26d675",
   "metadata": {
    "execution": {
     "iopub.execute_input": "2021-04-04T23:37:57.536061Z",
     "iopub.status.busy": "2021-04-04T23:37:57.535058Z",
     "iopub.status.idle": "2021-04-04T23:37:57.537976Z",
     "shell.execute_reply": "2021-04-04T23:37:57.537316Z"
    },
    "papermill": {
     "duration": 0.037736,
     "end_time": "2021-04-04T23:37:57.538102",
     "exception": false,
     "start_time": "2021-04-04T23:37:57.500366",
     "status": "completed"
    },
    "tags": []
   },
   "outputs": [],
   "source": [
    "working_df['defects'] = working_df['defects'].replace([False, True], [0, 1])"
   ]
  },
  {
   "cell_type": "code",
   "execution_count": 12,
   "id": "eb48604f",
   "metadata": {
    "execution": {
     "iopub.execute_input": "2021-04-04T23:37:57.592514Z",
     "iopub.status.busy": "2021-04-04T23:37:57.591624Z",
     "iopub.status.idle": "2021-04-04T23:37:57.594322Z",
     "shell.execute_reply": "2021-04-04T23:37:57.593741Z"
    },
    "papermill": {
     "duration": 0.031827,
     "end_time": "2021-04-04T23:37:57.594466",
     "exception": false,
     "start_time": "2021-04-04T23:37:57.562639",
     "status": "completed"
    },
    "tags": []
   },
   "outputs": [],
   "source": [
    "for col in dataset_config['delete_columns']:\n",
    "    del working_df[col]"
   ]
  },
  {
   "cell_type": "code",
   "execution_count": 13,
   "id": "9a17bc29",
   "metadata": {
    "execution": {
     "iopub.execute_input": "2021-04-04T23:37:57.653692Z",
     "iopub.status.busy": "2021-04-04T23:37:57.652683Z",
     "iopub.status.idle": "2021-04-04T23:37:57.662086Z",
     "shell.execute_reply": "2021-04-04T23:37:57.663226Z"
    },
    "papermill": {
     "duration": 0.046215,
     "end_time": "2021-04-04T23:37:57.663541",
     "exception": false,
     "start_time": "2021-04-04T23:37:57.617326",
     "status": "completed"
    },
    "tags": []
   },
   "outputs": [],
   "source": [
    "working_df = working_df.drop_duplicates()"
   ]
  },
  {
   "cell_type": "markdown",
   "id": "a4d52ca6",
   "metadata": {
    "papermill": {
     "duration": 0.025096,
     "end_time": "2021-04-04T23:37:57.713319",
     "exception": false,
     "start_time": "2021-04-04T23:37:57.688223",
     "status": "completed"
    },
    "tags": []
   },
   "source": [
    "# Split"
   ]
  },
  {
   "cell_type": "code",
   "execution_count": 14,
   "id": "3e9ee4b5",
   "metadata": {
    "execution": {
     "iopub.execute_input": "2021-04-04T23:37:57.772308Z",
     "iopub.status.busy": "2021-04-04T23:37:57.771305Z",
     "iopub.status.idle": "2021-04-04T23:37:57.803164Z",
     "shell.execute_reply": "2021-04-04T23:37:57.803749Z"
    },
    "papermill": {
     "duration": 0.067367,
     "end_time": "2021-04-04T23:37:57.803954",
     "exception": false,
     "start_time": "2021-04-04T23:37:57.736587",
     "status": "completed"
    },
    "tags": []
   },
   "outputs": [],
   "source": [
    "from sklearn.model_selection import train_test_split"
   ]
  },
  {
   "cell_type": "code",
   "execution_count": 15,
   "id": "274004ce",
   "metadata": {
    "execution": {
     "iopub.execute_input": "2021-04-04T23:37:57.859016Z",
     "iopub.status.busy": "2021-04-04T23:37:57.858128Z",
     "iopub.status.idle": "2021-04-04T23:37:57.865181Z",
     "shell.execute_reply": "2021-04-04T23:37:57.865692Z"
    },
    "papermill": {
     "duration": 0.038413,
     "end_time": "2021-04-04T23:37:57.865841",
     "exception": false,
     "start_time": "2021-04-04T23:37:57.827428",
     "status": "completed"
    },
    "scrolled": true,
    "tags": []
   },
   "outputs": [],
   "source": [
    "inlier, outlier = working_df[working_df['defects'] == 0], working_df[working_df['defects'] == 1]"
   ]
  },
  {
   "cell_type": "code",
   "execution_count": 16,
   "id": "753c7b03",
   "metadata": {
    "execution": {
     "iopub.execute_input": "2021-04-04T23:37:57.931792Z",
     "iopub.status.busy": "2021-04-04T23:37:57.927931Z",
     "iopub.status.idle": "2021-04-04T23:37:57.936155Z",
     "shell.execute_reply": "2021-04-04T23:37:57.937921Z"
    },
    "papermill": {
     "duration": 0.049644,
     "end_time": "2021-04-04T23:37:57.938668",
     "exception": false,
     "start_time": "2021-04-04T23:37:57.889024",
     "status": "completed"
    },
    "tags": []
   },
   "outputs": [],
   "source": [
    "X_inlier = inlier.copy()\n",
    "y_inlier = X_inlier.pop('defects')\n",
    "X_outlier = outlier.copy()\n",
    "y_outlier = X_outlier.pop('defects')"
   ]
  },
  {
   "cell_type": "code",
   "execution_count": 17,
   "id": "2ba43193",
   "metadata": {
    "execution": {
     "iopub.execute_input": "2021-04-04T23:37:58.012228Z",
     "iopub.status.busy": "2021-04-04T23:37:58.011559Z",
     "iopub.status.idle": "2021-04-04T23:37:58.013965Z",
     "shell.execute_reply": "2021-04-04T23:37:58.013468Z"
    },
    "papermill": {
     "duration": 0.038844,
     "end_time": "2021-04-04T23:37:58.014083",
     "exception": false,
     "start_time": "2021-04-04T23:37:57.975239",
     "status": "completed"
    },
    "tags": []
   },
   "outputs": [],
   "source": [
    "test_size = dataset_config['test_size']\n",
    "random_state = dataset_config['random_state']\n",
    "\n",
    "X_inlier_train, X_inlier_test, y_inlier_train, y_inlier_test = train_test_split(\n",
    "    X_inlier,\n",
    "    y_inlier,\n",
    "    test_size=test_size,\n",
    "    random_state=random_state\n",
    ")"
   ]
  },
  {
   "cell_type": "code",
   "execution_count": 18,
   "id": "0b7582ca",
   "metadata": {
    "execution": {
     "iopub.execute_input": "2021-04-04T23:37:58.077380Z",
     "iopub.status.busy": "2021-04-04T23:37:58.076261Z",
     "iopub.status.idle": "2021-04-04T23:37:58.079294Z",
     "shell.execute_reply": "2021-04-04T23:37:58.078680Z"
    },
    "papermill": {
     "duration": 0.04183,
     "end_time": "2021-04-04T23:37:58.079434",
     "exception": false,
     "start_time": "2021-04-04T23:37:58.037604",
     "status": "completed"
    },
    "tags": []
   },
   "outputs": [],
   "source": [
    "test_outlier_size = dataset_config['test_outlier_size']\n",
    "if test_outlier_size > 0.0:\n",
    "    X_outlier_train, X_outlier_test, y_outlier_train, y_outlier_test = train_test_split(\n",
    "        X_outlier,\n",
    "        y_outlier,\n",
    "        test_size=test_outlier_size,\n",
    "        random_state=random_state\n",
    "    )\n",
    "else:\n",
    "    X_outlier_train, y_outlier_train = pd.DataFrame(columns=X_outlier.columns), pd.Series(dtype='int64')\n",
    "    X_outlier_test, y_outlier_test = X_outlier.copy(), y_outlier.copy()"
   ]
  },
  {
   "cell_type": "code",
   "execution_count": 19,
   "id": "c34363db",
   "metadata": {
    "execution": {
     "iopub.execute_input": "2021-04-04T23:37:58.156506Z",
     "iopub.status.busy": "2021-04-04T23:37:58.155694Z",
     "iopub.status.idle": "2021-04-04T23:37:58.160861Z",
     "shell.execute_reply": "2021-04-04T23:37:58.161345Z"
    },
    "papermill": {
     "duration": 0.055066,
     "end_time": "2021-04-04T23:37:58.161494",
     "exception": false,
     "start_time": "2021-04-04T23:37:58.106428",
     "status": "completed"
    },
    "tags": []
   },
   "outputs": [],
   "source": [
    "X_train, y_train = pd.concat([X_inlier_train, X_outlier_train], ignore_index=True), pd.concat([y_inlier_train, y_outlier_train], ignore_index=True)\n",
    "X_test, y_test = pd.concat([X_inlier_test, X_outlier_test], ignore_index=True), pd.concat([y_inlier_test, y_outlier_test], ignore_index=True)"
   ]
  },
  {
   "cell_type": "markdown",
   "id": "7cde7309",
   "metadata": {
    "papermill": {
     "duration": 0.028284,
     "end_time": "2021-04-04T23:37:58.214648",
     "exception": false,
     "start_time": "2021-04-04T23:37:58.186364",
     "status": "completed"
    },
    "tags": []
   },
   "source": [
    "# Model"
   ]
  },
  {
   "cell_type": "code",
   "execution_count": 20,
   "id": "2b12a415",
   "metadata": {
    "execution": {
     "iopub.execute_input": "2021-04-04T23:37:58.275109Z",
     "iopub.status.busy": "2021-04-04T23:37:58.271466Z",
     "iopub.status.idle": "2021-04-04T23:37:58.279833Z",
     "shell.execute_reply": "2021-04-04T23:37:58.279182Z"
    },
    "papermill": {
     "duration": 0.040193,
     "end_time": "2021-04-04T23:37:58.279951",
     "exception": false,
     "start_time": "2021-04-04T23:37:58.239758",
     "status": "completed"
    },
    "tags": []
   },
   "outputs": [],
   "source": [
    "from math import sqrt\n",
    "\n",
    "\n",
    "class KNNDataDescription:\n",
    "    def __init__(self, k=5, outlier_threshold=1.0):\n",
    "        self.k = k\n",
    "        self.outlier_threshold = outlier_threshold\n",
    "        self.X = []\n",
    "    \n",
    "    def fit(self, X):\n",
    "        self.X = [features.to_list() for index, features in X.iterrows()]\n",
    "\n",
    "    def predict(self, entries):\n",
    "        return [self.predict_entry(features.to_list()) for index, features in entries.iterrows()]\n",
    "    \n",
    "    def predict_entry(self, entry):\n",
    "        kth_neighbor, kth_distance = self.get_kth_neighbor(entry, self.k)\n",
    "        kth_kth_neighbor, kth_kth_distance = self.get_kth_neighbor(kth_neighbor, self.k + 1)\n",
    "\n",
    "        outlier_score = kth_distance / (kth_kth_distance + 0.000001)\n",
    "\n",
    "        return 1 if outlier_score < self.outlier_threshold else -1\n",
    "        \n",
    "    def euclidean_distance(self, features1, features2):\n",
    "        distance = 0.0\n",
    "        for feat1, feat2 in zip(features1, features2):\n",
    "            distance += (feat1 - feat2)**2\n",
    "                \n",
    "        return sqrt(distance)\n",
    "\n",
    "    def get_neighbors(self, entry, k):\n",
    "        distance_to_data_points = [\n",
    "            (data_point, self.euclidean_distance(entry, data_point))\n",
    "            for data_point in self.X\n",
    "        ]\n",
    "        sorted_by_distance = sorted(distance_to_data_points, key=lambda tup: tup[1])\n",
    "        neighbors = sorted_by_distance[:k]\n",
    "        return neighbors\n",
    "\n",
    "    def get_kth_neighbor(self, entry, k):\n",
    "        neighbors = self.get_neighbors(entry, k)\n",
    "        return neighbors[-1]\n"
   ]
  },
  {
   "cell_type": "code",
   "execution_count": 21,
   "id": "1fa9ec1c",
   "metadata": {
    "execution": {
     "iopub.execute_input": "2021-04-04T23:37:58.338078Z",
     "iopub.status.busy": "2021-04-04T23:37:58.337413Z",
     "iopub.status.idle": "2021-04-04T23:37:58.372527Z",
     "shell.execute_reply": "2021-04-04T23:37:58.373131Z"
    },
    "papermill": {
     "duration": 0.069864,
     "end_time": "2021-04-04T23:37:58.373329",
     "exception": false,
     "start_time": "2021-04-04T23:37:58.303465",
     "status": "completed"
    },
    "tags": []
   },
   "outputs": [],
   "source": [
    "from sklearn.svm import OneClassSVM\n",
    "\n",
    "\n",
    "models = {\n",
    "    'oneclasssvm': OneClassSVM,\n",
    "    'knndatadescription': KNNDataDescription,\n",
    "}"
   ]
  },
  {
   "cell_type": "code",
   "execution_count": 22,
   "id": "4d72a0b1",
   "metadata": {
    "execution": {
     "iopub.execute_input": "2021-04-04T23:37:58.431837Z",
     "iopub.status.busy": "2021-04-04T23:37:58.431150Z",
     "iopub.status.idle": "2021-04-04T23:37:58.432841Z",
     "shell.execute_reply": "2021-04-04T23:37:58.433383Z"
    },
    "papermill": {
     "duration": 0.030134,
     "end_time": "2021-04-04T23:37:58.433527",
     "exception": false,
     "start_time": "2021-04-04T23:37:58.403393",
     "status": "completed"
    },
    "scrolled": true,
    "tags": []
   },
   "outputs": [],
   "source": [
    "model_cls = models[model_config['model_type']]\n",
    "model = model_cls(**model_config['hyperparameters'])"
   ]
  },
  {
   "cell_type": "markdown",
   "id": "e00cff3b",
   "metadata": {
    "papermill": {
     "duration": 0.028183,
     "end_time": "2021-04-04T23:37:58.485167",
     "exception": false,
     "start_time": "2021-04-04T23:37:58.456984",
     "status": "completed"
    },
    "tags": []
   },
   "source": [
    "# Fit"
   ]
  },
  {
   "cell_type": "code",
   "execution_count": 23,
   "id": "8b2ded89",
   "metadata": {
    "execution": {
     "iopub.execute_input": "2021-04-04T23:37:58.561056Z",
     "iopub.status.busy": "2021-04-04T23:37:58.559556Z",
     "iopub.status.idle": "2021-04-04T23:37:58.590928Z",
     "shell.execute_reply": "2021-04-04T23:37:58.590409Z"
    },
    "papermill": {
     "duration": 0.079749,
     "end_time": "2021-04-04T23:37:58.591048",
     "exception": false,
     "start_time": "2021-04-04T23:37:58.511299",
     "status": "completed"
    },
    "tags": []
   },
   "outputs": [],
   "source": [
    "model.fit(X_train)"
   ]
  },
  {
   "cell_type": "markdown",
   "id": "f99999f7",
   "metadata": {
    "papermill": {
     "duration": 0.030793,
     "end_time": "2021-04-04T23:37:58.646454",
     "exception": false,
     "start_time": "2021-04-04T23:37:58.615661",
     "status": "completed"
    },
    "tags": []
   },
   "source": [
    "# Predict"
   ]
  },
  {
   "cell_type": "code",
   "execution_count": 24,
   "id": "6536fbf7",
   "metadata": {
    "execution": {
     "iopub.execute_input": "2021-04-04T23:37:58.711333Z",
     "iopub.status.busy": "2021-04-04T23:37:58.706330Z",
     "iopub.status.idle": "2021-04-04T23:37:59.034039Z",
     "shell.execute_reply": "2021-04-04T23:37:59.034783Z"
    },
    "papermill": {
     "duration": 0.364514,
     "end_time": "2021-04-04T23:37:59.035015",
     "exception": false,
     "start_time": "2021-04-04T23:37:58.670501",
     "status": "completed"
    },
    "tags": []
   },
   "outputs": [],
   "source": [
    "predictions = model.predict(X_test)"
   ]
  },
  {
   "cell_type": "markdown",
   "id": "aa1c9881",
   "metadata": {
    "papermill": {
     "duration": 0.03379,
     "end_time": "2021-04-04T23:37:59.094743",
     "exception": false,
     "start_time": "2021-04-04T23:37:59.060953",
     "status": "completed"
    },
    "tags": []
   },
   "source": [
    "# Evaluate"
   ]
  },
  {
   "cell_type": "code",
   "execution_count": 25,
   "id": "894f0f04",
   "metadata": {
    "execution": {
     "iopub.execute_input": "2021-04-04T23:37:59.173324Z",
     "iopub.status.busy": "2021-04-04T23:37:59.171962Z",
     "iopub.status.idle": "2021-04-04T23:37:59.174369Z",
     "shell.execute_reply": "2021-04-04T23:37:59.175646Z"
    },
    "papermill": {
     "duration": 0.04996,
     "end_time": "2021-04-04T23:37:59.175897",
     "exception": false,
     "start_time": "2021-04-04T23:37:59.125937",
     "status": "completed"
    },
    "tags": []
   },
   "outputs": [],
   "source": [
    "from sklearn.metrics import f1_score"
   ]
  },
  {
   "cell_type": "code",
   "execution_count": 26,
   "id": "211744d3",
   "metadata": {
    "execution": {
     "iopub.execute_input": "2021-04-04T23:37:59.239166Z",
     "iopub.status.busy": "2021-04-04T23:37:59.238560Z",
     "iopub.status.idle": "2021-04-04T23:37:59.241259Z",
     "shell.execute_reply": "2021-04-04T23:37:59.241934Z"
    },
    "papermill": {
     "duration": 0.03773,
     "end_time": "2021-04-04T23:37:59.242137",
     "exception": false,
     "start_time": "2021-04-04T23:37:59.204407",
     "status": "completed"
    },
    "tags": []
   },
   "outputs": [],
   "source": [
    "y_test = y_test.replace([0, 1], [1, -1])"
   ]
  },
  {
   "cell_type": "code",
   "execution_count": 27,
   "id": "d68a9204",
   "metadata": {
    "execution": {
     "iopub.execute_input": "2021-04-04T23:37:59.302857Z",
     "iopub.status.busy": "2021-04-04T23:37:59.301902Z",
     "iopub.status.idle": "2021-04-04T23:37:59.303843Z",
     "shell.execute_reply": "2021-04-04T23:37:59.304332Z"
    },
    "papermill": {
     "duration": 0.03504,
     "end_time": "2021-04-04T23:37:59.304504",
     "exception": false,
     "start_time": "2021-04-04T23:37:59.269464",
     "status": "completed"
    },
    "tags": []
   },
   "outputs": [],
   "source": [
    "def evaluate(truths, predictions, pos_label, neg_label):\n",
    "    TP = 0\n",
    "    FP = 0\n",
    "    TN = 0\n",
    "    FN = 0\n",
    "\n",
    "    for truth, pred in zip(truths, predictions): \n",
    "        if truth == pred == pos_label:\n",
    "           TP += 1\n",
    "        elif pred == pos_label and truth == neg_label:\n",
    "           FP += 1\n",
    "        elif truth == pred == neg_label:\n",
    "           TN += 1\n",
    "        elif pred == neg_label and truth == pos_label:\n",
    "           FN += 1\n",
    "\n",
    "    precision = TP / (TP + FP)\n",
    "    sensitivity = TP / (TP + FN)\n",
    "    \n",
    "    return {\n",
    "        'true_pos': TP,\n",
    "        'false_pos': FP,\n",
    "        'false_neg': FN,\n",
    "        'true_neg': TN,\n",
    "        'precision': precision,\n",
    "        'sensitivity': sensitivity,\n",
    "        'f1': (2 * (precision * sensitivity)) / (precision + sensitivity)\n",
    "    }\n",
    "\n",
    "score = evaluate(y_test, predictions, pos_label=-1, neg_label=1)"
   ]
  },
  {
   "cell_type": "markdown",
   "id": "93596516",
   "metadata": {
    "papermill": {
     "duration": 0.032544,
     "end_time": "2021-04-04T23:37:59.362554",
     "exception": false,
     "start_time": "2021-04-04T23:37:59.330010",
     "status": "completed"
    },
    "tags": []
   },
   "source": [
    "# Report"
   ]
  },
  {
   "cell_type": "code",
   "execution_count": 28,
   "id": "bea5fba1",
   "metadata": {
    "execution": {
     "iopub.execute_input": "2021-04-04T23:37:59.428591Z",
     "iopub.status.busy": "2021-04-04T23:37:59.427988Z",
     "iopub.status.idle": "2021-04-04T23:37:59.429915Z",
     "shell.execute_reply": "2021-04-04T23:37:59.430383Z"
    },
    "papermill": {
     "duration": 0.036261,
     "end_time": "2021-04-04T23:37:59.430526",
     "exception": false,
     "start_time": "2021-04-04T23:37:59.394265",
     "status": "completed"
    },
    "tags": []
   },
   "outputs": [],
   "source": [
    "import csv\n",
    "\n",
    "\n",
    "dataset_config_name = DATASET_CONFIG_PATH.split('/')[-1].split('.')[0]\n",
    "model_config_name = MODEL_CONFIG_PATH.split('/')[-1].split('.')[0]\n",
    "configuration = f\"dataset_{dataset_config_name}-model_{model_config_name}\"\n",
    "\n",
    "with open('results.csv', 'a') as f:\n",
    "    report = dict({'configuration': configuration}, **score)\n",
    "    writer = csv.DictWriter(f, report.keys())\n",
    "    writer.writerow(report)"
   ]
  }
 ],
 "metadata": {
  "celltoolbar": "Tags",
  "kernelspec": {
   "display_name": "Python 3",
   "language": "python",
   "name": "python3"
  },
  "language_info": {
   "codemirror_mode": {
    "name": "ipython",
    "version": 3
   },
   "file_extension": ".py",
   "mimetype": "text/x-python",
   "name": "python",
   "nbconvert_exporter": "python",
   "pygments_lexer": "ipython3",
   "version": "3.9.1"
  },
  "papermill": {
   "default_parameters": {},
   "duration": 5.537631,
   "end_time": "2021-04-04T23:38:00.063137",
   "environment_variables": {},
   "exception": null,
   "input_path": "main.ipynb",
   "output_path": "runs/dataset_000160-model_000002.ipynb",
   "parameters": {
    "DATASET_CONFIG_PATH": "config/dataset/000160.json",
    "MODEL_CONFIG_PATH": "config/model/000002.json",
    "PROFILE_REPORTING": false
   },
   "start_time": "2021-04-04T23:37:54.525506",
   "version": "2.3.3"
  }
 },
 "nbformat": 4,
 "nbformat_minor": 5
}