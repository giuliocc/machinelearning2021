{
 "cells": [
  {
   "cell_type": "markdown",
   "id": "51c71c25",
   "metadata": {
    "papermill": {
     "duration": 0.022051,
     "end_time": "2021-04-04T23:37:12.008517",
     "exception": false,
     "start_time": "2021-04-04T23:37:11.986466",
     "status": "completed"
    },
    "tags": []
   },
   "source": [
    "# Parametrizing"
   ]
  },
  {
   "cell_type": "code",
   "execution_count": 1,
   "id": "3b136394",
   "metadata": {
    "execution": {
     "iopub.execute_input": "2021-04-04T23:37:12.114009Z",
     "iopub.status.busy": "2021-04-04T23:37:12.112515Z",
     "iopub.status.idle": "2021-04-04T23:37:12.115054Z",
     "shell.execute_reply": "2021-04-04T23:37:12.115683Z"
    },
    "papermill": {
     "duration": 0.072706,
     "end_time": "2021-04-04T23:37:12.115997",
     "exception": false,
     "start_time": "2021-04-04T23:37:12.043291",
     "status": "completed"
    },
    "tags": [
     "parameters"
    ]
   },
   "outputs": [],
   "source": [
    "DATASET_CONFIG_PATH = 'config/dataset/kc1_001.json'\n",
    "MODEL_CONFIG_PATH = 'config/model/knndd_001.json'\n",
    "PROFILE_REPORTING = False"
   ]
  },
  {
   "cell_type": "code",
   "execution_count": 2,
   "id": "e4e74011",
   "metadata": {
    "execution": {
     "iopub.execute_input": "2021-04-04T23:37:12.187161Z",
     "iopub.status.busy": "2021-04-04T23:37:12.185711Z",
     "iopub.status.idle": "2021-04-04T23:37:12.189628Z",
     "shell.execute_reply": "2021-04-04T23:37:12.192568Z"
    },
    "papermill": {
     "duration": 0.048583,
     "end_time": "2021-04-04T23:37:12.192885",
     "exception": false,
     "start_time": "2021-04-04T23:37:12.144302",
     "status": "completed"
    },
    "tags": [
     "injected-parameters"
    ]
   },
   "outputs": [],
   "source": [
    "# Parameters\n",
    "DATASET_CONFIG_PATH = \"config/dataset/000158.json\"\n",
    "MODEL_CONFIG_PATH = \"config/model/000003.json\"\n",
    "PROFILE_REPORTING = False\n"
   ]
  },
  {
   "cell_type": "code",
   "execution_count": 3,
   "id": "b80f2a10",
   "metadata": {
    "execution": {
     "iopub.execute_input": "2021-04-04T23:37:12.274183Z",
     "iopub.status.busy": "2021-04-04T23:37:12.273536Z",
     "iopub.status.idle": "2021-04-04T23:37:12.276149Z",
     "shell.execute_reply": "2021-04-04T23:37:12.276878Z"
    },
    "papermill": {
     "duration": 0.038649,
     "end_time": "2021-04-04T23:37:12.277030",
     "exception": false,
     "start_time": "2021-04-04T23:37:12.238381",
     "status": "completed"
    },
    "tags": []
   },
   "outputs": [],
   "source": [
    "import json\n",
    "\n",
    "\n",
    "with open(DATASET_CONFIG_PATH) as f:\n",
    "    dataset_config = json.load(f)\n",
    "\n",
    "with open(MODEL_CONFIG_PATH) as f:\n",
    "    model_config = json.load(f)"
   ]
  },
  {
   "cell_type": "markdown",
   "id": "9a4b0e2d",
   "metadata": {
    "papermill": {
     "duration": 0.029697,
     "end_time": "2021-04-04T23:37:12.329537",
     "exception": false,
     "start_time": "2021-04-04T23:37:12.299840",
     "status": "completed"
    },
    "tags": []
   },
   "source": [
    "# Profiling"
   ]
  },
  {
   "cell_type": "code",
   "execution_count": 4,
   "id": "a3e0289b",
   "metadata": {
    "execution": {
     "iopub.execute_input": "2021-04-04T23:37:12.424527Z",
     "iopub.status.busy": "2021-04-04T23:37:12.423910Z",
     "iopub.status.idle": "2021-04-04T23:37:13.883533Z",
     "shell.execute_reply": "2021-04-04T23:37:13.884062Z"
    },
    "papermill": {
     "duration": 1.50944,
     "end_time": "2021-04-04T23:37:13.884219",
     "exception": false,
     "start_time": "2021-04-04T23:37:12.374779",
     "status": "completed"
    },
    "tags": []
   },
   "outputs": [],
   "source": [
    "import pandas as pd\n",
    "from pandas_profiling import ProfileReport"
   ]
  },
  {
   "cell_type": "code",
   "execution_count": 5,
   "id": "ee6c0666",
   "metadata": {
    "execution": {
     "iopub.execute_input": "2021-04-04T23:37:13.942546Z",
     "iopub.status.busy": "2021-04-04T23:37:13.941294Z",
     "iopub.status.idle": "2021-04-04T23:37:13.954197Z",
     "shell.execute_reply": "2021-04-04T23:37:13.954652Z"
    },
    "papermill": {
     "duration": 0.047742,
     "end_time": "2021-04-04T23:37:13.954796",
     "exception": false,
     "start_time": "2021-04-04T23:37:13.907054",
     "status": "completed"
    },
    "tags": []
   },
   "outputs": [],
   "source": [
    "df = pd.read_csv(dataset_config['dataset_path'])"
   ]
  },
  {
   "cell_type": "code",
   "execution_count": 6,
   "id": "7eca6c4a",
   "metadata": {
    "execution": {
     "iopub.execute_input": "2021-04-04T23:37:14.014977Z",
     "iopub.status.busy": "2021-04-04T23:37:14.014353Z",
     "iopub.status.idle": "2021-04-04T23:37:14.019882Z",
     "shell.execute_reply": "2021-04-04T23:37:14.020469Z"
    },
    "papermill": {
     "duration": 0.041946,
     "end_time": "2021-04-04T23:37:14.020650",
     "exception": false,
     "start_time": "2021-04-04T23:37:13.978704",
     "status": "completed"
    },
    "tags": []
   },
   "outputs": [
    {
     "name": "stdout",
     "output_type": "stream",
     "text": [
      "<class 'pandas.core.frame.DataFrame'>\n",
      "RangeIndex: 498 entries, 0 to 497\n",
      "Data columns (total 23 columns):\n",
      " #   Column             Non-Null Count  Dtype  \n",
      "---  ------             --------------  -----  \n",
      " 0   id                 498 non-null    int64  \n",
      " 1   loc                498 non-null    float64\n",
      " 2   v(g)               498 non-null    float64\n",
      " 3   ev(g)              498 non-null    float64\n",
      " 4   iv(g)              498 non-null    float64\n",
      " 5   n                  498 non-null    float64\n",
      " 6   v                  498 non-null    float64\n",
      " 7   l                  498 non-null    float64\n",
      " 8   d                  498 non-null    float64\n",
      " 9   i                  498 non-null    float64\n",
      " 10  e                  498 non-null    float64\n",
      " 11  b                  498 non-null    float64\n",
      " 12  t                  498 non-null    float64\n",
      " 13  lOCode             498 non-null    int64  \n",
      " 14  lOComment          498 non-null    int64  \n",
      " 15  lOBlank            498 non-null    int64  \n",
      " 16  locCodeAndComment  498 non-null    int64  \n",
      " 17  uniq_Op            498 non-null    float64\n",
      " 18  uniq_Opnd          498 non-null    float64\n",
      " 19  total_Op           498 non-null    float64\n",
      " 20  total_Opnd         498 non-null    float64\n",
      " 21  branchCount        498 non-null    float64\n",
      " 22  defects            498 non-null    bool   \n",
      "dtypes: bool(1), float64(17), int64(5)\n",
      "memory usage: 86.2 KB\n"
     ]
    }
   ],
   "source": [
    "df.info()"
   ]
  },
  {
   "cell_type": "code",
   "execution_count": 7,
   "id": "3638e5e8",
   "metadata": {
    "execution": {
     "iopub.execute_input": "2021-04-04T23:37:14.083965Z",
     "iopub.status.busy": "2021-04-04T23:37:14.082063Z",
     "iopub.status.idle": "2021-04-04T23:37:14.109207Z",
     "shell.execute_reply": "2021-04-04T23:37:14.109831Z"
    },
    "papermill": {
     "duration": 0.067044,
     "end_time": "2021-04-04T23:37:14.110014",
     "exception": false,
     "start_time": "2021-04-04T23:37:14.042970",
     "status": "completed"
    },
    "tags": []
   },
   "outputs": [
    {
     "data": {
      "text/html": [
       "<div>\n",
       "<style scoped>\n",
       "    .dataframe tbody tr th:only-of-type {\n",
       "        vertical-align: middle;\n",
       "    }\n",
       "\n",
       "    .dataframe tbody tr th {\n",
       "        vertical-align: top;\n",
       "    }\n",
       "\n",
       "    .dataframe thead th {\n",
       "        text-align: right;\n",
       "    }\n",
       "</style>\n",
       "<table border=\"1\" class=\"dataframe\">\n",
       "  <thead>\n",
       "    <tr style=\"text-align: right;\">\n",
       "      <th></th>\n",
       "      <th>id</th>\n",
       "      <th>loc</th>\n",
       "      <th>v(g)</th>\n",
       "      <th>ev(g)</th>\n",
       "      <th>iv(g)</th>\n",
       "      <th>n</th>\n",
       "      <th>v</th>\n",
       "      <th>l</th>\n",
       "      <th>d</th>\n",
       "      <th>i</th>\n",
       "      <th>...</th>\n",
       "      <th>lOCode</th>\n",
       "      <th>lOComment</th>\n",
       "      <th>lOBlank</th>\n",
       "      <th>locCodeAndComment</th>\n",
       "      <th>uniq_Op</th>\n",
       "      <th>uniq_Opnd</th>\n",
       "      <th>total_Op</th>\n",
       "      <th>total_Opnd</th>\n",
       "      <th>branchCount</th>\n",
       "      <th>defects</th>\n",
       "    </tr>\n",
       "  </thead>\n",
       "  <tbody>\n",
       "    <tr>\n",
       "      <th>0</th>\n",
       "      <td>1</td>\n",
       "      <td>1.1</td>\n",
       "      <td>1.4</td>\n",
       "      <td>1.4</td>\n",
       "      <td>1.4</td>\n",
       "      <td>1.3</td>\n",
       "      <td>1.30</td>\n",
       "      <td>1.30</td>\n",
       "      <td>1.30</td>\n",
       "      <td>1.30</td>\n",
       "      <td>...</td>\n",
       "      <td>2</td>\n",
       "      <td>2</td>\n",
       "      <td>2</td>\n",
       "      <td>2</td>\n",
       "      <td>1.2</td>\n",
       "      <td>1.2</td>\n",
       "      <td>1.2</td>\n",
       "      <td>1.2</td>\n",
       "      <td>1.4</td>\n",
       "      <td>False</td>\n",
       "    </tr>\n",
       "    <tr>\n",
       "      <th>1</th>\n",
       "      <td>2</td>\n",
       "      <td>1.0</td>\n",
       "      <td>1.0</td>\n",
       "      <td>1.0</td>\n",
       "      <td>1.0</td>\n",
       "      <td>1.0</td>\n",
       "      <td>1.00</td>\n",
       "      <td>1.00</td>\n",
       "      <td>1.00</td>\n",
       "      <td>1.00</td>\n",
       "      <td>...</td>\n",
       "      <td>1</td>\n",
       "      <td>1</td>\n",
       "      <td>1</td>\n",
       "      <td>1</td>\n",
       "      <td>1.0</td>\n",
       "      <td>1.0</td>\n",
       "      <td>1.0</td>\n",
       "      <td>1.0</td>\n",
       "      <td>1.0</td>\n",
       "      <td>True</td>\n",
       "    </tr>\n",
       "    <tr>\n",
       "      <th>2</th>\n",
       "      <td>3</td>\n",
       "      <td>24.0</td>\n",
       "      <td>5.0</td>\n",
       "      <td>1.0</td>\n",
       "      <td>3.0</td>\n",
       "      <td>63.0</td>\n",
       "      <td>309.13</td>\n",
       "      <td>0.11</td>\n",
       "      <td>9.50</td>\n",
       "      <td>32.54</td>\n",
       "      <td>...</td>\n",
       "      <td>1</td>\n",
       "      <td>0</td>\n",
       "      <td>6</td>\n",
       "      <td>0</td>\n",
       "      <td>15.0</td>\n",
       "      <td>15.0</td>\n",
       "      <td>44.0</td>\n",
       "      <td>19.0</td>\n",
       "      <td>9.0</td>\n",
       "      <td>False</td>\n",
       "    </tr>\n",
       "    <tr>\n",
       "      <th>3</th>\n",
       "      <td>4</td>\n",
       "      <td>20.0</td>\n",
       "      <td>4.0</td>\n",
       "      <td>4.0</td>\n",
       "      <td>2.0</td>\n",
       "      <td>47.0</td>\n",
       "      <td>215.49</td>\n",
       "      <td>0.06</td>\n",
       "      <td>16.00</td>\n",
       "      <td>13.47</td>\n",
       "      <td>...</td>\n",
       "      <td>0</td>\n",
       "      <td>0</td>\n",
       "      <td>3</td>\n",
       "      <td>0</td>\n",
       "      <td>16.0</td>\n",
       "      <td>8.0</td>\n",
       "      <td>31.0</td>\n",
       "      <td>16.0</td>\n",
       "      <td>7.0</td>\n",
       "      <td>False</td>\n",
       "    </tr>\n",
       "    <tr>\n",
       "      <th>4</th>\n",
       "      <td>5</td>\n",
       "      <td>24.0</td>\n",
       "      <td>6.0</td>\n",
       "      <td>6.0</td>\n",
       "      <td>2.0</td>\n",
       "      <td>72.0</td>\n",
       "      <td>346.13</td>\n",
       "      <td>0.06</td>\n",
       "      <td>17.33</td>\n",
       "      <td>19.97</td>\n",
       "      <td>...</td>\n",
       "      <td>0</td>\n",
       "      <td>0</td>\n",
       "      <td>3</td>\n",
       "      <td>0</td>\n",
       "      <td>16.0</td>\n",
       "      <td>12.0</td>\n",
       "      <td>46.0</td>\n",
       "      <td>26.0</td>\n",
       "      <td>11.0</td>\n",
       "      <td>False</td>\n",
       "    </tr>\n",
       "  </tbody>\n",
       "</table>\n",
       "<p>5 rows × 23 columns</p>\n",
       "</div>"
      ],
      "text/plain": [
       "   id   loc  v(g)  ev(g)  iv(g)     n       v     l      d      i  ...  \\\n",
       "0   1   1.1   1.4    1.4    1.4   1.3    1.30  1.30   1.30   1.30  ...   \n",
       "1   2   1.0   1.0    1.0    1.0   1.0    1.00  1.00   1.00   1.00  ...   \n",
       "2   3  24.0   5.0    1.0    3.0  63.0  309.13  0.11   9.50  32.54  ...   \n",
       "3   4  20.0   4.0    4.0    2.0  47.0  215.49  0.06  16.00  13.47  ...   \n",
       "4   5  24.0   6.0    6.0    2.0  72.0  346.13  0.06  17.33  19.97  ...   \n",
       "\n",
       "   lOCode  lOComment  lOBlank  locCodeAndComment  uniq_Op  uniq_Opnd  \\\n",
       "0       2          2        2                  2      1.2        1.2   \n",
       "1       1          1        1                  1      1.0        1.0   \n",
       "2       1          0        6                  0     15.0       15.0   \n",
       "3       0          0        3                  0     16.0        8.0   \n",
       "4       0          0        3                  0     16.0       12.0   \n",
       "\n",
       "   total_Op  total_Opnd  branchCount  defects  \n",
       "0       1.2         1.2          1.4    False  \n",
       "1       1.0         1.0          1.0     True  \n",
       "2      44.0        19.0          9.0    False  \n",
       "3      31.0        16.0          7.0    False  \n",
       "4      46.0        26.0         11.0    False  \n",
       "\n",
       "[5 rows x 23 columns]"
      ]
     },
     "execution_count": 7,
     "metadata": {},
     "output_type": "execute_result"
    }
   ],
   "source": [
    "df.head()"
   ]
  },
  {
   "cell_type": "code",
   "execution_count": 8,
   "id": "733e95eb",
   "metadata": {
    "execution": {
     "iopub.execute_input": "2021-04-04T23:37:14.161063Z",
     "iopub.status.busy": "2021-04-04T23:37:14.160316Z",
     "iopub.status.idle": "2021-04-04T23:37:14.163056Z",
     "shell.execute_reply": "2021-04-04T23:37:14.163560Z"
    },
    "papermill": {
     "duration": 0.028972,
     "end_time": "2021-04-04T23:37:14.163709",
     "exception": false,
     "start_time": "2021-04-04T23:37:14.134737",
     "status": "completed"
    },
    "tags": []
   },
   "outputs": [],
   "source": [
    "del df['id']"
   ]
  },
  {
   "cell_type": "code",
   "execution_count": 9,
   "id": "6ff6f5b0",
   "metadata": {
    "execution": {
     "iopub.execute_input": "2021-04-04T23:37:14.222757Z",
     "iopub.status.busy": "2021-04-04T23:37:14.221131Z",
     "iopub.status.idle": "2021-04-04T23:37:14.223704Z",
     "shell.execute_reply": "2021-04-04T23:37:14.224277Z"
    },
    "papermill": {
     "duration": 0.035341,
     "end_time": "2021-04-04T23:37:14.224467",
     "exception": false,
     "start_time": "2021-04-04T23:37:14.189126",
     "status": "completed"
    },
    "tags": []
   },
   "outputs": [],
   "source": [
    "if PROFILE_REPORTING:\n",
    "    ProfileReport(df).to_widgets()"
   ]
  },
  {
   "cell_type": "markdown",
   "id": "1deaf3f0",
   "metadata": {
    "papermill": {
     "duration": 0.023792,
     "end_time": "2021-04-04T23:37:14.271497",
     "exception": false,
     "start_time": "2021-04-04T23:37:14.247705",
     "status": "completed"
    },
    "tags": []
   },
   "source": [
    "# Preprocess"
   ]
  },
  {
   "cell_type": "code",
   "execution_count": 10,
   "id": "1513e563",
   "metadata": {
    "execution": {
     "iopub.execute_input": "2021-04-04T23:37:14.335273Z",
     "iopub.status.busy": "2021-04-04T23:37:14.333844Z",
     "iopub.status.idle": "2021-04-04T23:37:14.337378Z",
     "shell.execute_reply": "2021-04-04T23:37:14.336783Z"
    },
    "papermill": {
     "duration": 0.038447,
     "end_time": "2021-04-04T23:37:14.337497",
     "exception": false,
     "start_time": "2021-04-04T23:37:14.299050",
     "status": "completed"
    },
    "tags": []
   },
   "outputs": [],
   "source": [
    "working_df = df.copy()"
   ]
  },
  {
   "cell_type": "code",
   "execution_count": 11,
   "id": "3b26d675",
   "metadata": {
    "execution": {
     "iopub.execute_input": "2021-04-04T23:37:14.404902Z",
     "iopub.status.busy": "2021-04-04T23:37:14.404315Z",
     "iopub.status.idle": "2021-04-04T23:37:14.406216Z",
     "shell.execute_reply": "2021-04-04T23:37:14.406712Z"
    },
    "papermill": {
     "duration": 0.035195,
     "end_time": "2021-04-04T23:37:14.406858",
     "exception": false,
     "start_time": "2021-04-04T23:37:14.371663",
     "status": "completed"
    },
    "tags": []
   },
   "outputs": [],
   "source": [
    "working_df['defects'] = working_df['defects'].replace([False, True], [0, 1])"
   ]
  },
  {
   "cell_type": "code",
   "execution_count": 12,
   "id": "eb48604f",
   "metadata": {
    "execution": {
     "iopub.execute_input": "2021-04-04T23:37:14.467569Z",
     "iopub.status.busy": "2021-04-04T23:37:14.466766Z",
     "iopub.status.idle": "2021-04-04T23:37:14.468994Z",
     "shell.execute_reply": "2021-04-04T23:37:14.469562Z"
    },
    "papermill": {
     "duration": 0.037796,
     "end_time": "2021-04-04T23:37:14.469746",
     "exception": false,
     "start_time": "2021-04-04T23:37:14.431950",
     "status": "completed"
    },
    "tags": []
   },
   "outputs": [],
   "source": [
    "for col in dataset_config['delete_columns']:\n",
    "    del working_df[col]"
   ]
  },
  {
   "cell_type": "code",
   "execution_count": 13,
   "id": "9a17bc29",
   "metadata": {
    "execution": {
     "iopub.execute_input": "2021-04-04T23:37:14.522836Z",
     "iopub.status.busy": "2021-04-04T23:37:14.521867Z",
     "iopub.status.idle": "2021-04-04T23:37:14.530387Z",
     "shell.execute_reply": "2021-04-04T23:37:14.529865Z"
    },
    "papermill": {
     "duration": 0.035566,
     "end_time": "2021-04-04T23:37:14.530507",
     "exception": false,
     "start_time": "2021-04-04T23:37:14.494941",
     "status": "completed"
    },
    "tags": []
   },
   "outputs": [],
   "source": [
    "working_df = working_df.drop_duplicates()"
   ]
  },
  {
   "cell_type": "markdown",
   "id": "a4d52ca6",
   "metadata": {
    "papermill": {
     "duration": 0.029426,
     "end_time": "2021-04-04T23:37:14.585268",
     "exception": false,
     "start_time": "2021-04-04T23:37:14.555842",
     "status": "completed"
    },
    "tags": []
   },
   "source": [
    "# Split"
   ]
  },
  {
   "cell_type": "code",
   "execution_count": 14,
   "id": "3e9ee4b5",
   "metadata": {
    "execution": {
     "iopub.execute_input": "2021-04-04T23:37:14.640484Z",
     "iopub.status.busy": "2021-04-04T23:37:14.639192Z",
     "iopub.status.idle": "2021-04-04T23:37:14.672931Z",
     "shell.execute_reply": "2021-04-04T23:37:14.672133Z"
    },
    "papermill": {
     "duration": 0.062431,
     "end_time": "2021-04-04T23:37:14.673060",
     "exception": false,
     "start_time": "2021-04-04T23:37:14.610629",
     "status": "completed"
    },
    "tags": []
   },
   "outputs": [],
   "source": [
    "from sklearn.model_selection import train_test_split"
   ]
  },
  {
   "cell_type": "code",
   "execution_count": 15,
   "id": "274004ce",
   "metadata": {
    "execution": {
     "iopub.execute_input": "2021-04-04T23:37:14.744581Z",
     "iopub.status.busy": "2021-04-04T23:37:14.742995Z",
     "iopub.status.idle": "2021-04-04T23:37:14.752113Z",
     "shell.execute_reply": "2021-04-04T23:37:14.750886Z"
    },
    "papermill": {
     "duration": 0.047618,
     "end_time": "2021-04-04T23:37:14.752365",
     "exception": false,
     "start_time": "2021-04-04T23:37:14.704747",
     "status": "completed"
    },
    "scrolled": true,
    "tags": []
   },
   "outputs": [],
   "source": [
    "inlier, outlier = working_df[working_df['defects'] == 0], working_df[working_df['defects'] == 1]"
   ]
  },
  {
   "cell_type": "code",
   "execution_count": 16,
   "id": "753c7b03",
   "metadata": {
    "execution": {
     "iopub.execute_input": "2021-04-04T23:37:14.806774Z",
     "iopub.status.busy": "2021-04-04T23:37:14.805832Z",
     "iopub.status.idle": "2021-04-04T23:37:14.807956Z",
     "shell.execute_reply": "2021-04-04T23:37:14.808426Z"
    },
    "papermill": {
     "duration": 0.033421,
     "end_time": "2021-04-04T23:37:14.808572",
     "exception": false,
     "start_time": "2021-04-04T23:37:14.775151",
     "status": "completed"
    },
    "tags": []
   },
   "outputs": [],
   "source": [
    "X_inlier = inlier.copy()\n",
    "y_inlier = X_inlier.pop('defects')\n",
    "X_outlier = outlier.copy()\n",
    "y_outlier = X_outlier.pop('defects')"
   ]
  },
  {
   "cell_type": "code",
   "execution_count": 17,
   "id": "2ba43193",
   "metadata": {
    "execution": {
     "iopub.execute_input": "2021-04-04T23:37:14.867537Z",
     "iopub.status.busy": "2021-04-04T23:37:14.866919Z",
     "iopub.status.idle": "2021-04-04T23:37:14.868994Z",
     "shell.execute_reply": "2021-04-04T23:37:14.869461Z"
    },
    "papermill": {
     "duration": 0.036608,
     "end_time": "2021-04-04T23:37:14.869607",
     "exception": false,
     "start_time": "2021-04-04T23:37:14.832999",
     "status": "completed"
    },
    "tags": []
   },
   "outputs": [],
   "source": [
    "test_size = dataset_config['test_size']\n",
    "random_state = dataset_config['random_state']\n",
    "\n",
    "X_inlier_train, X_inlier_test, y_inlier_train, y_inlier_test = train_test_split(\n",
    "    X_inlier,\n",
    "    y_inlier,\n",
    "    test_size=test_size,\n",
    "    random_state=random_state\n",
    ")"
   ]
  },
  {
   "cell_type": "code",
   "execution_count": 18,
   "id": "0b7582ca",
   "metadata": {
    "execution": {
     "iopub.execute_input": "2021-04-04T23:37:14.926619Z",
     "iopub.status.busy": "2021-04-04T23:37:14.925648Z",
     "iopub.status.idle": "2021-04-04T23:37:14.928405Z",
     "shell.execute_reply": "2021-04-04T23:37:14.927782Z"
    },
    "papermill": {
     "duration": 0.032075,
     "end_time": "2021-04-04T23:37:14.928553",
     "exception": false,
     "start_time": "2021-04-04T23:37:14.896478",
     "status": "completed"
    },
    "tags": []
   },
   "outputs": [],
   "source": [
    "test_outlier_size = dataset_config['test_outlier_size']\n",
    "if test_outlier_size > 0.0:\n",
    "    X_outlier_train, X_outlier_test, y_outlier_train, y_outlier_test = train_test_split(\n",
    "        X_outlier,\n",
    "        y_outlier,\n",
    "        test_size=test_outlier_size,\n",
    "        random_state=random_state\n",
    "    )\n",
    "else:\n",
    "    X_outlier_train, y_outlier_train = pd.DataFrame(columns=X_outlier.columns), pd.Series(dtype='int64')\n",
    "    X_outlier_test, y_outlier_test = X_outlier.copy(), y_outlier.copy()"
   ]
  },
  {
   "cell_type": "code",
   "execution_count": 19,
   "id": "c34363db",
   "metadata": {
    "execution": {
     "iopub.execute_input": "2021-04-04T23:37:14.992964Z",
     "iopub.status.busy": "2021-04-04T23:37:14.989076Z",
     "iopub.status.idle": "2021-04-04T23:37:14.996187Z",
     "shell.execute_reply": "2021-04-04T23:37:14.997567Z"
    },
    "papermill": {
     "duration": 0.043218,
     "end_time": "2021-04-04T23:37:14.997913",
     "exception": false,
     "start_time": "2021-04-04T23:37:14.954695",
     "status": "completed"
    },
    "tags": []
   },
   "outputs": [],
   "source": [
    "X_train, y_train = pd.concat([X_inlier_train, X_outlier_train], ignore_index=True), pd.concat([y_inlier_train, y_outlier_train], ignore_index=True)\n",
    "X_test, y_test = pd.concat([X_inlier_test, X_outlier_test], ignore_index=True), pd.concat([y_inlier_test, y_outlier_test], ignore_index=True)"
   ]
  },
  {
   "cell_type": "markdown",
   "id": "7cde7309",
   "metadata": {
    "papermill": {
     "duration": 0.027038,
     "end_time": "2021-04-04T23:37:15.047871",
     "exception": false,
     "start_time": "2021-04-04T23:37:15.020833",
     "status": "completed"
    },
    "tags": []
   },
   "source": [
    "# Model"
   ]
  },
  {
   "cell_type": "code",
   "execution_count": 20,
   "id": "2b12a415",
   "metadata": {
    "execution": {
     "iopub.execute_input": "2021-04-04T23:37:15.118519Z",
     "iopub.status.busy": "2021-04-04T23:37:15.117645Z",
     "iopub.status.idle": "2021-04-04T23:37:15.120166Z",
     "shell.execute_reply": "2021-04-04T23:37:15.119660Z"
    },
    "papermill": {
     "duration": 0.048731,
     "end_time": "2021-04-04T23:37:15.120286",
     "exception": false,
     "start_time": "2021-04-04T23:37:15.071555",
     "status": "completed"
    },
    "tags": []
   },
   "outputs": [],
   "source": [
    "from math import sqrt\n",
    "\n",
    "\n",
    "class KNNDataDescription:\n",
    "    def __init__(self, k=5, outlier_threshold=1.0):\n",
    "        self.k = k\n",
    "        self.outlier_threshold = outlier_threshold\n",
    "        self.X = []\n",
    "    \n",
    "    def fit(self, X):\n",
    "        self.X = [features.to_list() for index, features in X.iterrows()]\n",
    "\n",
    "    def predict(self, entries):\n",
    "        return [self.predict_entry(features.to_list()) for index, features in entries.iterrows()]\n",
    "    \n",
    "    def predict_entry(self, entry):\n",
    "        kth_neighbor, kth_distance = self.get_kth_neighbor(entry, self.k)\n",
    "        kth_kth_neighbor, kth_kth_distance = self.get_kth_neighbor(kth_neighbor, self.k + 1)\n",
    "\n",
    "        outlier_score = kth_distance / (kth_kth_distance + 0.000001)\n",
    "\n",
    "        return 1 if outlier_score < self.outlier_threshold else -1\n",
    "        \n",
    "    def euclidean_distance(self, features1, features2):\n",
    "        distance = 0.0\n",
    "        for feat1, feat2 in zip(features1, features2):\n",
    "            distance += (feat1 - feat2)**2\n",
    "                \n",
    "        return sqrt(distance)\n",
    "\n",
    "    def get_neighbors(self, entry, k):\n",
    "        distance_to_data_points = [\n",
    "            (data_point, self.euclidean_distance(entry, data_point))\n",
    "            for data_point in self.X\n",
    "        ]\n",
    "        sorted_by_distance = sorted(distance_to_data_points, key=lambda tup: tup[1])\n",
    "        neighbors = sorted_by_distance[:k]\n",
    "        return neighbors\n",
    "\n",
    "    def get_kth_neighbor(self, entry, k):\n",
    "        neighbors = self.get_neighbors(entry, k)\n",
    "        return neighbors[-1]\n"
   ]
  },
  {
   "cell_type": "code",
   "execution_count": 21,
   "id": "1fa9ec1c",
   "metadata": {
    "execution": {
     "iopub.execute_input": "2021-04-04T23:37:15.175747Z",
     "iopub.status.busy": "2021-04-04T23:37:15.175117Z",
     "iopub.status.idle": "2021-04-04T23:37:15.203536Z",
     "shell.execute_reply": "2021-04-04T23:37:15.202942Z"
    },
    "papermill": {
     "duration": 0.058178,
     "end_time": "2021-04-04T23:37:15.203655",
     "exception": false,
     "start_time": "2021-04-04T23:37:15.145477",
     "status": "completed"
    },
    "tags": []
   },
   "outputs": [],
   "source": [
    "from sklearn.svm import OneClassSVM\n",
    "\n",
    "\n",
    "models = {\n",
    "    'oneclasssvm': OneClassSVM,\n",
    "    'knndatadescription': KNNDataDescription,\n",
    "}"
   ]
  },
  {
   "cell_type": "code",
   "execution_count": 22,
   "id": "4d72a0b1",
   "metadata": {
    "execution": {
     "iopub.execute_input": "2021-04-04T23:37:15.263652Z",
     "iopub.status.busy": "2021-04-04T23:37:15.262836Z",
     "iopub.status.idle": "2021-04-04T23:37:15.266995Z",
     "shell.execute_reply": "2021-04-04T23:37:15.265331Z"
    },
    "papermill": {
     "duration": 0.04061,
     "end_time": "2021-04-04T23:37:15.267366",
     "exception": false,
     "start_time": "2021-04-04T23:37:15.226756",
     "status": "completed"
    },
    "scrolled": true,
    "tags": []
   },
   "outputs": [],
   "source": [
    "model_cls = models[model_config['model_type']]\n",
    "model = model_cls(**model_config['hyperparameters'])"
   ]
  },
  {
   "cell_type": "markdown",
   "id": "e00cff3b",
   "metadata": {
    "papermill": {
     "duration": 0.04471,
     "end_time": "2021-04-04T23:37:15.358171",
     "exception": false,
     "start_time": "2021-04-04T23:37:15.313461",
     "status": "completed"
    },
    "tags": []
   },
   "source": [
    "# Fit"
   ]
  },
  {
   "cell_type": "code",
   "execution_count": 23,
   "id": "8b2ded89",
   "metadata": {
    "execution": {
     "iopub.execute_input": "2021-04-04T23:37:15.424771Z",
     "iopub.status.busy": "2021-04-04T23:37:15.423493Z",
     "iopub.status.idle": "2021-04-04T23:37:15.454147Z",
     "shell.execute_reply": "2021-04-04T23:37:15.454780Z"
    },
    "papermill": {
     "duration": 0.06694,
     "end_time": "2021-04-04T23:37:15.454962",
     "exception": false,
     "start_time": "2021-04-04T23:37:15.388022",
     "status": "completed"
    },
    "tags": []
   },
   "outputs": [],
   "source": [
    "model.fit(X_train)"
   ]
  },
  {
   "cell_type": "markdown",
   "id": "f99999f7",
   "metadata": {
    "papermill": {
     "duration": 0.044808,
     "end_time": "2021-04-04T23:37:15.525940",
     "exception": false,
     "start_time": "2021-04-04T23:37:15.481132",
     "status": "completed"
    },
    "tags": []
   },
   "source": [
    "# Predict"
   ]
  },
  {
   "cell_type": "code",
   "execution_count": 24,
   "id": "6536fbf7",
   "metadata": {
    "execution": {
     "iopub.execute_input": "2021-04-04T23:37:15.640220Z",
     "iopub.status.busy": "2021-04-04T23:37:15.607278Z",
     "iopub.status.idle": "2021-04-04T23:37:16.019482Z",
     "shell.execute_reply": "2021-04-04T23:37:16.020050Z"
    },
    "papermill": {
     "duration": 0.461662,
     "end_time": "2021-04-04T23:37:16.020213",
     "exception": false,
     "start_time": "2021-04-04T23:37:15.558551",
     "status": "completed"
    },
    "tags": []
   },
   "outputs": [],
   "source": [
    "predictions = model.predict(X_test)"
   ]
  },
  {
   "cell_type": "markdown",
   "id": "aa1c9881",
   "metadata": {
    "papermill": {
     "duration": 0.022425,
     "end_time": "2021-04-04T23:37:16.065961",
     "exception": false,
     "start_time": "2021-04-04T23:37:16.043536",
     "status": "completed"
    },
    "tags": []
   },
   "source": [
    "# Evaluate"
   ]
  },
  {
   "cell_type": "code",
   "execution_count": 25,
   "id": "894f0f04",
   "metadata": {
    "execution": {
     "iopub.execute_input": "2021-04-04T23:37:16.124888Z",
     "iopub.status.busy": "2021-04-04T23:37:16.124152Z",
     "iopub.status.idle": "2021-04-04T23:37:16.126470Z",
     "shell.execute_reply": "2021-04-04T23:37:16.127058Z"
    },
    "papermill": {
     "duration": 0.037291,
     "end_time": "2021-04-04T23:37:16.127292",
     "exception": false,
     "start_time": "2021-04-04T23:37:16.090001",
     "status": "completed"
    },
    "tags": []
   },
   "outputs": [],
   "source": [
    "from sklearn.metrics import f1_score"
   ]
  },
  {
   "cell_type": "code",
   "execution_count": 26,
   "id": "211744d3",
   "metadata": {
    "execution": {
     "iopub.execute_input": "2021-04-04T23:37:16.183277Z",
     "iopub.status.busy": "2021-04-04T23:37:16.181564Z",
     "iopub.status.idle": "2021-04-04T23:37:16.186119Z",
     "shell.execute_reply": "2021-04-04T23:37:16.186759Z"
    },
    "papermill": {
     "duration": 0.032717,
     "end_time": "2021-04-04T23:37:16.186945",
     "exception": false,
     "start_time": "2021-04-04T23:37:16.154228",
     "status": "completed"
    },
    "tags": []
   },
   "outputs": [],
   "source": [
    "y_test = y_test.replace([0, 1], [1, -1])"
   ]
  },
  {
   "cell_type": "code",
   "execution_count": 27,
   "id": "d68a9204",
   "metadata": {
    "execution": {
     "iopub.execute_input": "2021-04-04T23:37:16.256583Z",
     "iopub.status.busy": "2021-04-04T23:37:16.255391Z",
     "iopub.status.idle": "2021-04-04T23:37:16.257523Z",
     "shell.execute_reply": "2021-04-04T23:37:16.258021Z"
    },
    "papermill": {
     "duration": 0.045916,
     "end_time": "2021-04-04T23:37:16.258167",
     "exception": false,
     "start_time": "2021-04-04T23:37:16.212251",
     "status": "completed"
    },
    "tags": []
   },
   "outputs": [],
   "source": [
    "def evaluate(truths, predictions, pos_label, neg_label):\n",
    "    TP = 0\n",
    "    FP = 0\n",
    "    TN = 0\n",
    "    FN = 0\n",
    "\n",
    "    for truth, pred in zip(truths, predictions): \n",
    "        if truth == pred == pos_label:\n",
    "           TP += 1\n",
    "        elif pred == pos_label and truth == neg_label:\n",
    "           FP += 1\n",
    "        elif truth == pred == neg_label:\n",
    "           TN += 1\n",
    "        elif pred == neg_label and truth == pos_label:\n",
    "           FN += 1\n",
    "\n",
    "    precision = TP / (TP + FP)\n",
    "    sensitivity = TP / (TP + FN)\n",
    "    \n",
    "    return {\n",
    "        'true_pos': TP,\n",
    "        'false_pos': FP,\n",
    "        'false_neg': FN,\n",
    "        'true_neg': TN,\n",
    "        'precision': precision,\n",
    "        'sensitivity': sensitivity,\n",
    "        'f1': (2 * (precision * sensitivity)) / (precision + sensitivity)\n",
    "    }\n",
    "\n",
    "score = evaluate(y_test, predictions, pos_label=-1, neg_label=1)"
   ]
  },
  {
   "cell_type": "markdown",
   "id": "93596516",
   "metadata": {
    "papermill": {
     "duration": 0.025549,
     "end_time": "2021-04-04T23:37:16.309546",
     "exception": false,
     "start_time": "2021-04-04T23:37:16.283997",
     "status": "completed"
    },
    "tags": []
   },
   "source": [
    "# Report"
   ]
  },
  {
   "cell_type": "code",
   "execution_count": 28,
   "id": "bea5fba1",
   "metadata": {
    "execution": {
     "iopub.execute_input": "2021-04-04T23:37:16.386583Z",
     "iopub.status.busy": "2021-04-04T23:37:16.385586Z",
     "iopub.status.idle": "2021-04-04T23:37:16.390683Z",
     "shell.execute_reply": "2021-04-04T23:37:16.389011Z"
    },
    "papermill": {
     "duration": 0.055021,
     "end_time": "2021-04-04T23:37:16.391033",
     "exception": false,
     "start_time": "2021-04-04T23:37:16.336012",
     "status": "completed"
    },
    "tags": []
   },
   "outputs": [],
   "source": [
    "import csv\n",
    "\n",
    "\n",
    "dataset_config_name = DATASET_CONFIG_PATH.split('/')[-1].split('.')[0]\n",
    "model_config_name = MODEL_CONFIG_PATH.split('/')[-1].split('.')[0]\n",
    "configuration = f\"dataset_{dataset_config_name}-model_{model_config_name}\"\n",
    "\n",
    "with open('results.csv', 'a') as f:\n",
    "    report = dict({'configuration': configuration}, **score)\n",
    "    writer = csv.DictWriter(f, report.keys())\n",
    "    writer.writerow(report)"
   ]
  }
 ],
 "metadata": {
  "celltoolbar": "Tags",
  "kernelspec": {
   "display_name": "Python 3",
   "language": "python",
   "name": "python3"
  },
  "language_info": {
   "codemirror_mode": {
    "name": "ipython",
    "version": 3
   },
   "file_extension": ".py",
   "mimetype": "text/x-python",
   "name": "python",
   "nbconvert_exporter": "python",
   "pygments_lexer": "ipython3",
   "version": "3.9.1"
  },
  "papermill": {
   "default_parameters": {},
   "duration": 5.99469,
   "end_time": "2021-04-04T23:37:17.027435",
   "environment_variables": {},
   "exception": null,
   "input_path": "main.ipynb",
   "output_path": "runs/dataset_000158-model_000003.ipynb",
   "parameters": {
    "DATASET_CONFIG_PATH": "config/dataset/000158.json",
    "MODEL_CONFIG_PATH": "config/model/000003.json",
    "PROFILE_REPORTING": false
   },
   "start_time": "2021-04-04T23:37:11.032745",
   "version": "2.3.3"
  }
 },
 "nbformat": 4,
 "nbformat_minor": 5
}