{
 "cells": [
  {
   "cell_type": "markdown",
   "id": "51c71c25",
   "metadata": {
    "papermill": {
     "duration": 0.022348,
     "end_time": "2021-04-04T22:53:00.836501",
     "exception": false,
     "start_time": "2021-04-04T22:53:00.814153",
     "status": "completed"
    },
    "tags": []
   },
   "source": [
    "# Parametrizing"
   ]
  },
  {
   "cell_type": "code",
   "execution_count": 1,
   "id": "3b136394",
   "metadata": {
    "execution": {
     "iopub.execute_input": "2021-04-04T22:53:00.892966Z",
     "iopub.status.busy": "2021-04-04T22:53:00.892079Z",
     "iopub.status.idle": "2021-04-04T22:53:00.894309Z",
     "shell.execute_reply": "2021-04-04T22:53:00.894792Z"
    },
    "papermill": {
     "duration": 0.038697,
     "end_time": "2021-04-04T22:53:00.894999",
     "exception": false,
     "start_time": "2021-04-04T22:53:00.856302",
     "status": "completed"
    },
    "tags": [
     "parameters"
    ]
   },
   "outputs": [],
   "source": [
    "DATASET_CONFIG_PATH = 'config/dataset/kc1_001.json'\n",
    "MODEL_CONFIG_PATH = 'config/model/knndd_001.json'\n",
    "PROFILE_REPORTING = False"
   ]
  },
  {
   "cell_type": "code",
   "execution_count": 2,
   "id": "899d09ac",
   "metadata": {
    "execution": {
     "iopub.execute_input": "2021-04-04T22:53:00.942825Z",
     "iopub.status.busy": "2021-04-04T22:53:00.942072Z",
     "iopub.status.idle": "2021-04-04T22:53:00.945022Z",
     "shell.execute_reply": "2021-04-04T22:53:00.944361Z"
    },
    "papermill": {
     "duration": 0.029683,
     "end_time": "2021-04-04T22:53:00.945145",
     "exception": false,
     "start_time": "2021-04-04T22:53:00.915462",
     "status": "completed"
    },
    "tags": [
     "injected-parameters"
    ]
   },
   "outputs": [],
   "source": [
    "# Parameters\n",
    "DATASET_CONFIG_PATH = \"config/dataset/000056.json\"\n",
    "MODEL_CONFIG_PATH = \"config/model/000003.json\"\n",
    "PROFILE_REPORTING = False\n"
   ]
  },
  {
   "cell_type": "code",
   "execution_count": 3,
   "id": "b80f2a10",
   "metadata": {
    "execution": {
     "iopub.execute_input": "2021-04-04T22:53:00.998160Z",
     "iopub.status.busy": "2021-04-04T22:53:00.997195Z",
     "iopub.status.idle": "2021-04-04T22:53:00.999580Z",
     "shell.execute_reply": "2021-04-04T22:53:01.000315Z"
    },
    "papermill": {
     "duration": 0.034391,
     "end_time": "2021-04-04T22:53:01.000522",
     "exception": false,
     "start_time": "2021-04-04T22:53:00.966131",
     "status": "completed"
    },
    "tags": []
   },
   "outputs": [],
   "source": [
    "import json\n",
    "\n",
    "\n",
    "with open(DATASET_CONFIG_PATH) as f:\n",
    "    dataset_config = json.load(f)\n",
    "\n",
    "with open(MODEL_CONFIG_PATH) as f:\n",
    "    model_config = json.load(f)"
   ]
  },
  {
   "cell_type": "markdown",
   "id": "9a4b0e2d",
   "metadata": {
    "papermill": {
     "duration": 0.028254,
     "end_time": "2021-04-04T22:53:01.050513",
     "exception": false,
     "start_time": "2021-04-04T22:53:01.022259",
     "status": "completed"
    },
    "tags": []
   },
   "source": [
    "# Profiling"
   ]
  },
  {
   "cell_type": "code",
   "execution_count": 4,
   "id": "a3e0289b",
   "metadata": {
    "execution": {
     "iopub.execute_input": "2021-04-04T22:53:01.101893Z",
     "iopub.status.busy": "2021-04-04T22:53:01.100730Z",
     "iopub.status.idle": "2021-04-04T22:53:02.666894Z",
     "shell.execute_reply": "2021-04-04T22:53:02.667452Z"
    },
    "papermill": {
     "duration": 1.596089,
     "end_time": "2021-04-04T22:53:02.667602",
     "exception": false,
     "start_time": "2021-04-04T22:53:01.071513",
     "status": "completed"
    },
    "tags": []
   },
   "outputs": [],
   "source": [
    "import pandas as pd\n",
    "from pandas_profiling import ProfileReport"
   ]
  },
  {
   "cell_type": "code",
   "execution_count": 5,
   "id": "ee6c0666",
   "metadata": {
    "execution": {
     "iopub.execute_input": "2021-04-04T22:53:02.719158Z",
     "iopub.status.busy": "2021-04-04T22:53:02.718291Z",
     "iopub.status.idle": "2021-04-04T22:53:02.730103Z",
     "shell.execute_reply": "2021-04-04T22:53:02.730653Z"
    },
    "papermill": {
     "duration": 0.040119,
     "end_time": "2021-04-04T22:53:02.730804",
     "exception": false,
     "start_time": "2021-04-04T22:53:02.690685",
     "status": "completed"
    },
    "tags": []
   },
   "outputs": [],
   "source": [
    "df = pd.read_csv(dataset_config['dataset_path'])"
   ]
  },
  {
   "cell_type": "code",
   "execution_count": 6,
   "id": "7eca6c4a",
   "metadata": {
    "execution": {
     "iopub.execute_input": "2021-04-04T22:53:02.798678Z",
     "iopub.status.busy": "2021-04-04T22:53:02.787227Z",
     "iopub.status.idle": "2021-04-04T22:53:02.802447Z",
     "shell.execute_reply": "2021-04-04T22:53:02.801819Z"
    },
    "papermill": {
     "duration": 0.046777,
     "end_time": "2021-04-04T22:53:02.802598",
     "exception": false,
     "start_time": "2021-04-04T22:53:02.755821",
     "status": "completed"
    },
    "tags": []
   },
   "outputs": [
    {
     "name": "stdout",
     "output_type": "stream",
     "text": [
      "<class 'pandas.core.frame.DataFrame'>\n",
      "RangeIndex: 2109 entries, 0 to 2108\n",
      "Data columns (total 23 columns):\n",
      " #   Column             Non-Null Count  Dtype  \n",
      "---  ------             --------------  -----  \n",
      " 0   id                 2109 non-null   int64  \n",
      " 1   loc                2109 non-null   float64\n",
      " 2   v(g)               2109 non-null   float64\n",
      " 3   ev(g)              2109 non-null   float64\n",
      " 4   iv(g)              2109 non-null   float64\n",
      " 5   n                  2109 non-null   float64\n",
      " 6   v                  2109 non-null   float64\n",
      " 7   l                  2109 non-null   float64\n",
      " 8   d                  2109 non-null   float64\n",
      " 9   i                  2109 non-null   float64\n",
      " 10  e                  2109 non-null   float64\n",
      " 11  b                  2109 non-null   float64\n",
      " 12  t                  2109 non-null   float64\n",
      " 13  lOCode             2109 non-null   int64  \n",
      " 14  lOComment          2109 non-null   int64  \n",
      " 15  lOBlank            2109 non-null   int64  \n",
      " 16  locCodeAndComment  2109 non-null   int64  \n",
      " 17  uniq_Op            2109 non-null   float64\n",
      " 18  uniq_Opnd          2109 non-null   float64\n",
      " 19  total_Op           2109 non-null   float64\n",
      " 20  total_Opnd         2109 non-null   float64\n",
      " 21  branchCount        2109 non-null   float64\n",
      " 22  defects            2109 non-null   bool   \n",
      "dtypes: bool(1), float64(17), int64(5)\n",
      "memory usage: 364.7 KB\n"
     ]
    }
   ],
   "source": [
    "df.info()"
   ]
  },
  {
   "cell_type": "code",
   "execution_count": 7,
   "id": "3638e5e8",
   "metadata": {
    "execution": {
     "iopub.execute_input": "2021-04-04T22:53:02.860453Z",
     "iopub.status.busy": "2021-04-04T22:53:02.857804Z",
     "iopub.status.idle": "2021-04-04T22:53:02.888476Z",
     "shell.execute_reply": "2021-04-04T22:53:02.888996Z"
    },
    "papermill": {
     "duration": 0.060884,
     "end_time": "2021-04-04T22:53:02.889150",
     "exception": false,
     "start_time": "2021-04-04T22:53:02.828266",
     "status": "completed"
    },
    "tags": []
   },
   "outputs": [
    {
     "data": {
      "text/html": [
       "<div>\n",
       "<style scoped>\n",
       "    .dataframe tbody tr th:only-of-type {\n",
       "        vertical-align: middle;\n",
       "    }\n",
       "\n",
       "    .dataframe tbody tr th {\n",
       "        vertical-align: top;\n",
       "    }\n",
       "\n",
       "    .dataframe thead th {\n",
       "        text-align: right;\n",
       "    }\n",
       "</style>\n",
       "<table border=\"1\" class=\"dataframe\">\n",
       "  <thead>\n",
       "    <tr style=\"text-align: right;\">\n",
       "      <th></th>\n",
       "      <th>id</th>\n",
       "      <th>loc</th>\n",
       "      <th>v(g)</th>\n",
       "      <th>ev(g)</th>\n",
       "      <th>iv(g)</th>\n",
       "      <th>n</th>\n",
       "      <th>v</th>\n",
       "      <th>l</th>\n",
       "      <th>d</th>\n",
       "      <th>i</th>\n",
       "      <th>...</th>\n",
       "      <th>lOCode</th>\n",
       "      <th>lOComment</th>\n",
       "      <th>lOBlank</th>\n",
       "      <th>locCodeAndComment</th>\n",
       "      <th>uniq_Op</th>\n",
       "      <th>uniq_Opnd</th>\n",
       "      <th>total_Op</th>\n",
       "      <th>total_Opnd</th>\n",
       "      <th>branchCount</th>\n",
       "      <th>defects</th>\n",
       "    </tr>\n",
       "  </thead>\n",
       "  <tbody>\n",
       "    <tr>\n",
       "      <th>0</th>\n",
       "      <td>1</td>\n",
       "      <td>1.1</td>\n",
       "      <td>1.4</td>\n",
       "      <td>1.4</td>\n",
       "      <td>1.4</td>\n",
       "      <td>1.3</td>\n",
       "      <td>1.30</td>\n",
       "      <td>1.30</td>\n",
       "      <td>1.30</td>\n",
       "      <td>1.30</td>\n",
       "      <td>...</td>\n",
       "      <td>2</td>\n",
       "      <td>2</td>\n",
       "      <td>2</td>\n",
       "      <td>2</td>\n",
       "      <td>1.2</td>\n",
       "      <td>1.2</td>\n",
       "      <td>1.2</td>\n",
       "      <td>1.2</td>\n",
       "      <td>1.4</td>\n",
       "      <td>False</td>\n",
       "    </tr>\n",
       "    <tr>\n",
       "      <th>1</th>\n",
       "      <td>2</td>\n",
       "      <td>1.0</td>\n",
       "      <td>1.0</td>\n",
       "      <td>1.0</td>\n",
       "      <td>1.0</td>\n",
       "      <td>1.0</td>\n",
       "      <td>1.00</td>\n",
       "      <td>1.00</td>\n",
       "      <td>1.00</td>\n",
       "      <td>1.00</td>\n",
       "      <td>...</td>\n",
       "      <td>1</td>\n",
       "      <td>1</td>\n",
       "      <td>1</td>\n",
       "      <td>1</td>\n",
       "      <td>1.0</td>\n",
       "      <td>1.0</td>\n",
       "      <td>1.0</td>\n",
       "      <td>1.0</td>\n",
       "      <td>1.0</td>\n",
       "      <td>True</td>\n",
       "    </tr>\n",
       "    <tr>\n",
       "      <th>2</th>\n",
       "      <td>3</td>\n",
       "      <td>83.0</td>\n",
       "      <td>11.0</td>\n",
       "      <td>1.0</td>\n",
       "      <td>11.0</td>\n",
       "      <td>171.0</td>\n",
       "      <td>927.89</td>\n",
       "      <td>0.04</td>\n",
       "      <td>23.04</td>\n",
       "      <td>40.27</td>\n",
       "      <td>...</td>\n",
       "      <td>65</td>\n",
       "      <td>10</td>\n",
       "      <td>6</td>\n",
       "      <td>0</td>\n",
       "      <td>18.0</td>\n",
       "      <td>25.0</td>\n",
       "      <td>107.0</td>\n",
       "      <td>64.0</td>\n",
       "      <td>21.0</td>\n",
       "      <td>True</td>\n",
       "    </tr>\n",
       "    <tr>\n",
       "      <th>3</th>\n",
       "      <td>4</td>\n",
       "      <td>46.0</td>\n",
       "      <td>8.0</td>\n",
       "      <td>6.0</td>\n",
       "      <td>8.0</td>\n",
       "      <td>141.0</td>\n",
       "      <td>769.78</td>\n",
       "      <td>0.07</td>\n",
       "      <td>14.86</td>\n",
       "      <td>51.81</td>\n",
       "      <td>...</td>\n",
       "      <td>37</td>\n",
       "      <td>2</td>\n",
       "      <td>5</td>\n",
       "      <td>0</td>\n",
       "      <td>16.0</td>\n",
       "      <td>28.0</td>\n",
       "      <td>89.0</td>\n",
       "      <td>52.0</td>\n",
       "      <td>15.0</td>\n",
       "      <td>True</td>\n",
       "    </tr>\n",
       "    <tr>\n",
       "      <th>4</th>\n",
       "      <td>5</td>\n",
       "      <td>25.0</td>\n",
       "      <td>3.0</td>\n",
       "      <td>1.0</td>\n",
       "      <td>3.0</td>\n",
       "      <td>58.0</td>\n",
       "      <td>254.75</td>\n",
       "      <td>0.11</td>\n",
       "      <td>9.35</td>\n",
       "      <td>27.25</td>\n",
       "      <td>...</td>\n",
       "      <td>21</td>\n",
       "      <td>0</td>\n",
       "      <td>2</td>\n",
       "      <td>0</td>\n",
       "      <td>11.0</td>\n",
       "      <td>10.0</td>\n",
       "      <td>41.0</td>\n",
       "      <td>17.0</td>\n",
       "      <td>5.0</td>\n",
       "      <td>True</td>\n",
       "    </tr>\n",
       "  </tbody>\n",
       "</table>\n",
       "<p>5 rows × 23 columns</p>\n",
       "</div>"
      ],
      "text/plain": [
       "   id   loc  v(g)  ev(g)  iv(g)      n       v     l      d      i  ...  \\\n",
       "0   1   1.1   1.4    1.4    1.4    1.3    1.30  1.30   1.30   1.30  ...   \n",
       "1   2   1.0   1.0    1.0    1.0    1.0    1.00  1.00   1.00   1.00  ...   \n",
       "2   3  83.0  11.0    1.0   11.0  171.0  927.89  0.04  23.04  40.27  ...   \n",
       "3   4  46.0   8.0    6.0    8.0  141.0  769.78  0.07  14.86  51.81  ...   \n",
       "4   5  25.0   3.0    1.0    3.0   58.0  254.75  0.11   9.35  27.25  ...   \n",
       "\n",
       "   lOCode  lOComment  lOBlank  locCodeAndComment  uniq_Op  uniq_Opnd  \\\n",
       "0       2          2        2                  2      1.2        1.2   \n",
       "1       1          1        1                  1      1.0        1.0   \n",
       "2      65         10        6                  0     18.0       25.0   \n",
       "3      37          2        5                  0     16.0       28.0   \n",
       "4      21          0        2                  0     11.0       10.0   \n",
       "\n",
       "   total_Op  total_Opnd  branchCount  defects  \n",
       "0       1.2         1.2          1.4    False  \n",
       "1       1.0         1.0          1.0     True  \n",
       "2     107.0        64.0         21.0     True  \n",
       "3      89.0        52.0         15.0     True  \n",
       "4      41.0        17.0          5.0     True  \n",
       "\n",
       "[5 rows x 23 columns]"
      ]
     },
     "execution_count": 7,
     "metadata": {},
     "output_type": "execute_result"
    }
   ],
   "source": [
    "df.head()"
   ]
  },
  {
   "cell_type": "code",
   "execution_count": 8,
   "id": "733e95eb",
   "metadata": {
    "execution": {
     "iopub.execute_input": "2021-04-04T22:53:02.943245Z",
     "iopub.status.busy": "2021-04-04T22:53:02.942307Z",
     "iopub.status.idle": "2021-04-04T22:53:02.944401Z",
     "shell.execute_reply": "2021-04-04T22:53:02.944873Z"
    },
    "papermill": {
     "duration": 0.032726,
     "end_time": "2021-04-04T22:53:02.945022",
     "exception": false,
     "start_time": "2021-04-04T22:53:02.912296",
     "status": "completed"
    },
    "tags": []
   },
   "outputs": [],
   "source": [
    "del df['id']"
   ]
  },
  {
   "cell_type": "code",
   "execution_count": 9,
   "id": "6ff6f5b0",
   "metadata": {
    "execution": {
     "iopub.execute_input": "2021-04-04T22:53:02.994824Z",
     "iopub.status.busy": "2021-04-04T22:53:02.994057Z",
     "iopub.status.idle": "2021-04-04T22:53:02.996607Z",
     "shell.execute_reply": "2021-04-04T22:53:02.996033Z"
    },
    "papermill": {
     "duration": 0.027929,
     "end_time": "2021-04-04T22:53:02.996739",
     "exception": false,
     "start_time": "2021-04-04T22:53:02.968810",
     "status": "completed"
    },
    "tags": []
   },
   "outputs": [],
   "source": [
    "if PROFILE_REPORTING:\n",
    "    ProfileReport(df).to_widgets()"
   ]
  },
  {
   "cell_type": "markdown",
   "id": "1deaf3f0",
   "metadata": {
    "papermill": {
     "duration": 0.023756,
     "end_time": "2021-04-04T22:53:03.045653",
     "exception": false,
     "start_time": "2021-04-04T22:53:03.021897",
     "status": "completed"
    },
    "tags": []
   },
   "source": [
    "# Preprocess"
   ]
  },
  {
   "cell_type": "code",
   "execution_count": 10,
   "id": "1513e563",
   "metadata": {
    "execution": {
     "iopub.execute_input": "2021-04-04T22:53:03.096813Z",
     "iopub.status.busy": "2021-04-04T22:53:03.096209Z",
     "iopub.status.idle": "2021-04-04T22:53:03.098551Z",
     "shell.execute_reply": "2021-04-04T22:53:03.099028Z"
    },
    "papermill": {
     "duration": 0.028088,
     "end_time": "2021-04-04T22:53:03.099174",
     "exception": false,
     "start_time": "2021-04-04T22:53:03.071086",
     "status": "completed"
    },
    "tags": []
   },
   "outputs": [],
   "source": [
    "working_df = df.copy()"
   ]
  },
  {
   "cell_type": "code",
   "execution_count": 11,
   "id": "3b26d675",
   "metadata": {
    "execution": {
     "iopub.execute_input": "2021-04-04T22:53:03.160103Z",
     "iopub.status.busy": "2021-04-04T22:53:03.158806Z",
     "iopub.status.idle": "2021-04-04T22:53:03.163619Z",
     "shell.execute_reply": "2021-04-04T22:53:03.162967Z"
    },
    "papermill": {
     "duration": 0.037782,
     "end_time": "2021-04-04T22:53:03.163763",
     "exception": false,
     "start_time": "2021-04-04T22:53:03.125981",
     "status": "completed"
    },
    "tags": []
   },
   "outputs": [],
   "source": [
    "working_df['defects'] = working_df['defects'].replace([False, True], [0, 1])"
   ]
  },
  {
   "cell_type": "code",
   "execution_count": 12,
   "id": "eb48604f",
   "metadata": {
    "execution": {
     "iopub.execute_input": "2021-04-04T22:53:03.216507Z",
     "iopub.status.busy": "2021-04-04T22:53:03.215310Z",
     "iopub.status.idle": "2021-04-04T22:53:03.217995Z",
     "shell.execute_reply": "2021-04-04T22:53:03.218510Z"
    },
    "papermill": {
     "duration": 0.032364,
     "end_time": "2021-04-04T22:53:03.218693",
     "exception": false,
     "start_time": "2021-04-04T22:53:03.186329",
     "status": "completed"
    },
    "tags": []
   },
   "outputs": [],
   "source": [
    "for col in dataset_config['delete_columns']:\n",
    "    del working_df[col]"
   ]
  },
  {
   "cell_type": "code",
   "execution_count": 13,
   "id": "9a17bc29",
   "metadata": {
    "execution": {
     "iopub.execute_input": "2021-04-04T22:53:03.276289Z",
     "iopub.status.busy": "2021-04-04T22:53:03.275661Z",
     "iopub.status.idle": "2021-04-04T22:53:03.284017Z",
     "shell.execute_reply": "2021-04-04T22:53:03.284475Z"
    },
    "papermill": {
     "duration": 0.042048,
     "end_time": "2021-04-04T22:53:03.284626",
     "exception": false,
     "start_time": "2021-04-04T22:53:03.242578",
     "status": "completed"
    },
    "tags": []
   },
   "outputs": [],
   "source": [
    "working_df = working_df.drop_duplicates()"
   ]
  },
  {
   "cell_type": "markdown",
   "id": "a4d52ca6",
   "metadata": {
    "papermill": {
     "duration": 0.026311,
     "end_time": "2021-04-04T22:53:03.333128",
     "exception": false,
     "start_time": "2021-04-04T22:53:03.306817",
     "status": "completed"
    },
    "tags": []
   },
   "source": [
    "# Split"
   ]
  },
  {
   "cell_type": "code",
   "execution_count": 14,
   "id": "3e9ee4b5",
   "metadata": {
    "execution": {
     "iopub.execute_input": "2021-04-04T22:53:03.433862Z",
     "iopub.status.busy": "2021-04-04T22:53:03.432495Z",
     "iopub.status.idle": "2021-04-04T22:53:03.528935Z",
     "shell.execute_reply": "2021-04-04T22:53:03.531286Z"
    },
    "papermill": {
     "duration": 0.160649,
     "end_time": "2021-04-04T22:53:03.531597",
     "exception": false,
     "start_time": "2021-04-04T22:53:03.370948",
     "status": "completed"
    },
    "tags": []
   },
   "outputs": [],
   "source": [
    "from sklearn.model_selection import train_test_split"
   ]
  },
  {
   "cell_type": "code",
   "execution_count": 15,
   "id": "274004ce",
   "metadata": {
    "execution": {
     "iopub.execute_input": "2021-04-04T22:53:03.601260Z",
     "iopub.status.busy": "2021-04-04T22:53:03.600628Z",
     "iopub.status.idle": "2021-04-04T22:53:03.605305Z",
     "shell.execute_reply": "2021-04-04T22:53:03.604751Z"
    },
    "papermill": {
     "duration": 0.035636,
     "end_time": "2021-04-04T22:53:03.605426",
     "exception": false,
     "start_time": "2021-04-04T22:53:03.569790",
     "status": "completed"
    },
    "scrolled": true,
    "tags": []
   },
   "outputs": [],
   "source": [
    "inlier, outlier = working_df[working_df['defects'] == 0], working_df[working_df['defects'] == 1]"
   ]
  },
  {
   "cell_type": "code",
   "execution_count": 16,
   "id": "753c7b03",
   "metadata": {
    "execution": {
     "iopub.execute_input": "2021-04-04T22:53:03.666542Z",
     "iopub.status.busy": "2021-04-04T22:53:03.665600Z",
     "iopub.status.idle": "2021-04-04T22:53:03.668015Z",
     "shell.execute_reply": "2021-04-04T22:53:03.668581Z"
    },
    "papermill": {
     "duration": 0.037186,
     "end_time": "2021-04-04T22:53:03.668732",
     "exception": false,
     "start_time": "2021-04-04T22:53:03.631546",
     "status": "completed"
    },
    "tags": []
   },
   "outputs": [],
   "source": [
    "X_inlier = inlier.copy()\n",
    "y_inlier = X_inlier.pop('defects')\n",
    "X_outlier = outlier.copy()\n",
    "y_outlier = X_outlier.pop('defects')"
   ]
  },
  {
   "cell_type": "code",
   "execution_count": 17,
   "id": "2ba43193",
   "metadata": {
    "execution": {
     "iopub.execute_input": "2021-04-04T22:53:03.727249Z",
     "iopub.status.busy": "2021-04-04T22:53:03.725238Z",
     "iopub.status.idle": "2021-04-04T22:53:03.729961Z",
     "shell.execute_reply": "2021-04-04T22:53:03.729268Z"
    },
    "papermill": {
     "duration": 0.036876,
     "end_time": "2021-04-04T22:53:03.730108",
     "exception": false,
     "start_time": "2021-04-04T22:53:03.693232",
     "status": "completed"
    },
    "tags": []
   },
   "outputs": [],
   "source": [
    "test_size = dataset_config['test_size']\n",
    "random_state = dataset_config['random_state']\n",
    "\n",
    "X_inlier_train, X_inlier_test, y_inlier_train, y_inlier_test = train_test_split(\n",
    "    X_inlier,\n",
    "    y_inlier,\n",
    "    test_size=test_size,\n",
    "    random_state=random_state\n",
    ")"
   ]
  },
  {
   "cell_type": "code",
   "execution_count": 18,
   "id": "0b7582ca",
   "metadata": {
    "execution": {
     "iopub.execute_input": "2021-04-04T22:53:03.794164Z",
     "iopub.status.busy": "2021-04-04T22:53:03.793430Z",
     "iopub.status.idle": "2021-04-04T22:53:03.795180Z",
     "shell.execute_reply": "2021-04-04T22:53:03.795734Z"
    },
    "papermill": {
     "duration": 0.038907,
     "end_time": "2021-04-04T22:53:03.795880",
     "exception": false,
     "start_time": "2021-04-04T22:53:03.756973",
     "status": "completed"
    },
    "tags": []
   },
   "outputs": [],
   "source": [
    "test_outlier_size = dataset_config['test_outlier_size']\n",
    "if test_outlier_size > 0.0:\n",
    "    X_outlier_train, X_outlier_test, y_outlier_train, y_outlier_test = train_test_split(\n",
    "        X_outlier,\n",
    "        y_outlier,\n",
    "        test_size=test_outlier_size,\n",
    "        random_state=random_state\n",
    "    )\n",
    "else:\n",
    "    X_outlier_train, y_outlier_train = pd.DataFrame(columns=X_outlier.columns), pd.Series(dtype='int64')\n",
    "    X_outlier_test, y_outlier_test = X_outlier.copy(), y_outlier.copy()"
   ]
  },
  {
   "cell_type": "code",
   "execution_count": 19,
   "id": "c34363db",
   "metadata": {
    "execution": {
     "iopub.execute_input": "2021-04-04T22:53:03.851621Z",
     "iopub.status.busy": "2021-04-04T22:53:03.850782Z",
     "iopub.status.idle": "2021-04-04T22:53:03.855703Z",
     "shell.execute_reply": "2021-04-04T22:53:03.855099Z"
    },
    "papermill": {
     "duration": 0.035355,
     "end_time": "2021-04-04T22:53:03.855823",
     "exception": false,
     "start_time": "2021-04-04T22:53:03.820468",
     "status": "completed"
    },
    "tags": []
   },
   "outputs": [],
   "source": [
    "X_train, y_train = pd.concat([X_inlier_train, X_outlier_train], ignore_index=True), pd.concat([y_inlier_train, y_outlier_train], ignore_index=True)\n",
    "X_test, y_test = pd.concat([X_inlier_test, X_outlier_test], ignore_index=True), pd.concat([y_inlier_test, y_outlier_test], ignore_index=True)"
   ]
  },
  {
   "cell_type": "markdown",
   "id": "7cde7309",
   "metadata": {
    "papermill": {
     "duration": 0.031977,
     "end_time": "2021-04-04T22:53:03.914569",
     "exception": false,
     "start_time": "2021-04-04T22:53:03.882592",
     "status": "completed"
    },
    "tags": []
   },
   "source": [
    "# Model"
   ]
  },
  {
   "cell_type": "code",
   "execution_count": 20,
   "id": "2b12a415",
   "metadata": {
    "execution": {
     "iopub.execute_input": "2021-04-04T22:53:03.977829Z",
     "iopub.status.busy": "2021-04-04T22:53:03.975705Z",
     "iopub.status.idle": "2021-04-04T22:53:03.980314Z",
     "shell.execute_reply": "2021-04-04T22:53:03.979706Z"
    },
    "papermill": {
     "duration": 0.037586,
     "end_time": "2021-04-04T22:53:03.980454",
     "exception": false,
     "start_time": "2021-04-04T22:53:03.942868",
     "status": "completed"
    },
    "tags": []
   },
   "outputs": [],
   "source": [
    "from math import sqrt\n",
    "\n",
    "\n",
    "class KNNDataDescription:\n",
    "    def __init__(self, k=5, outlier_threshold=1.0):\n",
    "        self.k = k\n",
    "        self.outlier_threshold = outlier_threshold\n",
    "        self.X = []\n",
    "    \n",
    "    def fit(self, X):\n",
    "        self.X = [features.to_list() for index, features in X.iterrows()]\n",
    "\n",
    "    def predict(self, entries):\n",
    "        return [self.predict_entry(features.to_list()) for index, features in entries.iterrows()]\n",
    "    \n",
    "    def predict_entry(self, entry):\n",
    "        kth_neighbor, kth_distance = self.get_kth_neighbor(entry, self.k)\n",
    "        kth_kth_neighbor, kth_kth_distance = self.get_kth_neighbor(kth_neighbor, self.k + 1)\n",
    "\n",
    "        outlier_score = kth_distance / (kth_kth_distance + 0.000001)\n",
    "\n",
    "        return 1 if outlier_score < self.outlier_threshold else -1\n",
    "        \n",
    "    def euclidean_distance(self, features1, features2):\n",
    "        distance = 0.0\n",
    "        for feat1, feat2 in zip(features1, features2):\n",
    "            distance += (feat1 - feat2)**2\n",
    "                \n",
    "        return sqrt(distance)\n",
    "\n",
    "    def get_neighbors(self, entry, k):\n",
    "        distance_to_data_points = [\n",
    "            (data_point, self.euclidean_distance(entry, data_point))\n",
    "            for data_point in self.X\n",
    "        ]\n",
    "        sorted_by_distance = sorted(distance_to_data_points, key=lambda tup: tup[1])\n",
    "        neighbors = sorted_by_distance[:k]\n",
    "        return neighbors\n",
    "\n",
    "    def get_kth_neighbor(self, entry, k):\n",
    "        neighbors = self.get_neighbors(entry, k)\n",
    "        return neighbors[-1]\n"
   ]
  },
  {
   "cell_type": "code",
   "execution_count": 21,
   "id": "1fa9ec1c",
   "metadata": {
    "execution": {
     "iopub.execute_input": "2021-04-04T22:53:04.040234Z",
     "iopub.status.busy": "2021-04-04T22:53:04.039077Z",
     "iopub.status.idle": "2021-04-04T22:53:04.061244Z",
     "shell.execute_reply": "2021-04-04T22:53:04.061733Z"
    },
    "papermill": {
     "duration": 0.057155,
     "end_time": "2021-04-04T22:53:04.061875",
     "exception": false,
     "start_time": "2021-04-04T22:53:04.004720",
     "status": "completed"
    },
    "tags": []
   },
   "outputs": [],
   "source": [
    "from sklearn.svm import OneClassSVM\n",
    "\n",
    "\n",
    "models = {\n",
    "    'oneclasssvm': OneClassSVM,\n",
    "    'knndatadescription': KNNDataDescription,\n",
    "}"
   ]
  },
  {
   "cell_type": "code",
   "execution_count": 22,
   "id": "4d72a0b1",
   "metadata": {
    "execution": {
     "iopub.execute_input": "2021-04-04T22:53:04.115389Z",
     "iopub.status.busy": "2021-04-04T22:53:04.114552Z",
     "iopub.status.idle": "2021-04-04T22:53:04.116524Z",
     "shell.execute_reply": "2021-04-04T22:53:04.117061Z"
    },
    "papermill": {
     "duration": 0.030039,
     "end_time": "2021-04-04T22:53:04.117207",
     "exception": false,
     "start_time": "2021-04-04T22:53:04.087168",
     "status": "completed"
    },
    "scrolled": true,
    "tags": []
   },
   "outputs": [],
   "source": [
    "model_cls = models[model_config['model_type']]\n",
    "model = model_cls(**model_config['hyperparameters'])"
   ]
  },
  {
   "cell_type": "markdown",
   "id": "e00cff3b",
   "metadata": {
    "papermill": {
     "duration": 0.02954,
     "end_time": "2021-04-04T22:53:04.172913",
     "exception": false,
     "start_time": "2021-04-04T22:53:04.143373",
     "status": "completed"
    },
    "tags": []
   },
   "source": [
    "# Fit"
   ]
  },
  {
   "cell_type": "code",
   "execution_count": 23,
   "id": "8b2ded89",
   "metadata": {
    "execution": {
     "iopub.execute_input": "2021-04-04T22:53:04.225621Z",
     "iopub.status.busy": "2021-04-04T22:53:04.224421Z",
     "iopub.status.idle": "2021-04-04T22:53:04.283360Z",
     "shell.execute_reply": "2021-04-04T22:53:04.282835Z"
    },
    "papermill": {
     "duration": 0.086301,
     "end_time": "2021-04-04T22:53:04.283482",
     "exception": false,
     "start_time": "2021-04-04T22:53:04.197181",
     "status": "completed"
    },
    "tags": []
   },
   "outputs": [],
   "source": [
    "model.fit(X_train)"
   ]
  },
  {
   "cell_type": "markdown",
   "id": "f99999f7",
   "metadata": {
    "papermill": {
     "duration": 0.052121,
     "end_time": "2021-04-04T22:53:04.362390",
     "exception": false,
     "start_time": "2021-04-04T22:53:04.310269",
     "status": "completed"
    },
    "tags": []
   },
   "source": [
    "# Predict"
   ]
  },
  {
   "cell_type": "code",
   "execution_count": 24,
   "id": "6536fbf7",
   "metadata": {
    "execution": {
     "iopub.execute_input": "2021-04-04T22:53:04.439079Z",
     "iopub.status.busy": "2021-04-04T22:53:04.438164Z",
     "iopub.status.idle": "2021-04-04T22:53:06.759582Z",
     "shell.execute_reply": "2021-04-04T22:53:06.758776Z"
    },
    "papermill": {
     "duration": 2.350288,
     "end_time": "2021-04-04T22:53:06.759740",
     "exception": false,
     "start_time": "2021-04-04T22:53:04.409452",
     "status": "completed"
    },
    "tags": []
   },
   "outputs": [],
   "source": [
    "predictions = model.predict(X_test)"
   ]
  },
  {
   "cell_type": "markdown",
   "id": "aa1c9881",
   "metadata": {
    "papermill": {
     "duration": 0.034391,
     "end_time": "2021-04-04T22:53:06.821999",
     "exception": false,
     "start_time": "2021-04-04T22:53:06.787608",
     "status": "completed"
    },
    "tags": []
   },
   "source": [
    "# Evaluate"
   ]
  },
  {
   "cell_type": "code",
   "execution_count": 25,
   "id": "894f0f04",
   "metadata": {
    "execution": {
     "iopub.execute_input": "2021-04-04T22:53:06.877813Z",
     "iopub.status.busy": "2021-04-04T22:53:06.875528Z",
     "iopub.status.idle": "2021-04-04T22:53:06.878929Z",
     "shell.execute_reply": "2021-04-04T22:53:06.879458Z"
    },
    "papermill": {
     "duration": 0.031808,
     "end_time": "2021-04-04T22:53:06.879623",
     "exception": false,
     "start_time": "2021-04-04T22:53:06.847815",
     "status": "completed"
    },
    "tags": []
   },
   "outputs": [],
   "source": [
    "from sklearn.metrics import f1_score"
   ]
  },
  {
   "cell_type": "code",
   "execution_count": 26,
   "id": "211744d3",
   "metadata": {
    "execution": {
     "iopub.execute_input": "2021-04-04T22:53:06.939169Z",
     "iopub.status.busy": "2021-04-04T22:53:06.938108Z",
     "iopub.status.idle": "2021-04-04T22:53:06.940703Z",
     "shell.execute_reply": "2021-04-04T22:53:06.941170Z"
    },
    "papermill": {
     "duration": 0.037378,
     "end_time": "2021-04-04T22:53:06.941320",
     "exception": false,
     "start_time": "2021-04-04T22:53:06.903942",
     "status": "completed"
    },
    "tags": []
   },
   "outputs": [],
   "source": [
    "y_test = y_test.replace([0, 1], [1, -1])"
   ]
  },
  {
   "cell_type": "code",
   "execution_count": 27,
   "id": "d68a9204",
   "metadata": {
    "execution": {
     "iopub.execute_input": "2021-04-04T22:53:06.997699Z",
     "iopub.status.busy": "2021-04-04T22:53:06.996794Z",
     "iopub.status.idle": "2021-04-04T22:53:06.999313Z",
     "shell.execute_reply": "2021-04-04T22:53:06.998813Z"
    },
    "papermill": {
     "duration": 0.034298,
     "end_time": "2021-04-04T22:53:06.999430",
     "exception": false,
     "start_time": "2021-04-04T22:53:06.965132",
     "status": "completed"
    },
    "tags": []
   },
   "outputs": [],
   "source": [
    "def evaluate(truths, predictions, pos_label, neg_label):\n",
    "    TP = 0\n",
    "    FP = 0\n",
    "    TN = 0\n",
    "    FN = 0\n",
    "\n",
    "    for truth, pred in zip(truths, predictions): \n",
    "        if truth == pred == pos_label:\n",
    "           TP += 1\n",
    "        elif pred == pos_label and truth == neg_label:\n",
    "           FP += 1\n",
    "        elif truth == pred == neg_label:\n",
    "           TN += 1\n",
    "        elif pred == neg_label and truth == pos_label:\n",
    "           FN += 1\n",
    "\n",
    "    precision = TP / (TP + FP)\n",
    "    sensitivity = TP / (TP + FN)\n",
    "    \n",
    "    return {\n",
    "        'true_pos': TP,\n",
    "        'false_pos': FP,\n",
    "        'false_neg': FN,\n",
    "        'true_neg': TN,\n",
    "        'precision': precision,\n",
    "        'sensitivity': sensitivity,\n",
    "        'f1': (2 * (precision * sensitivity)) / (precision + sensitivity)\n",
    "    }\n",
    "\n",
    "score = evaluate(y_test, predictions, pos_label=-1, neg_label=1)"
   ]
  },
  {
   "cell_type": "markdown",
   "id": "93596516",
   "metadata": {
    "papermill": {
     "duration": 0.031961,
     "end_time": "2021-04-04T22:53:07.055727",
     "exception": false,
     "start_time": "2021-04-04T22:53:07.023766",
     "status": "completed"
    },
    "tags": []
   },
   "source": [
    "# Report"
   ]
  },
  {
   "cell_type": "code",
   "execution_count": 28,
   "id": "bea5fba1",
   "metadata": {
    "execution": {
     "iopub.execute_input": "2021-04-04T22:53:07.114562Z",
     "iopub.status.busy": "2021-04-04T22:53:07.113894Z",
     "iopub.status.idle": "2021-04-04T22:53:07.117851Z",
     "shell.execute_reply": "2021-04-04T22:53:07.118529Z"
    },
    "papermill": {
     "duration": 0.033716,
     "end_time": "2021-04-04T22:53:07.118735",
     "exception": false,
     "start_time": "2021-04-04T22:53:07.085019",
     "status": "completed"
    },
    "tags": []
   },
   "outputs": [],
   "source": [
    "import csv\n",
    "\n",
    "\n",
    "dataset_config_name = DATASET_CONFIG_PATH.split('/')[-1].split('.')[0]\n",
    "model_config_name = MODEL_CONFIG_PATH.split('/')[-1].split('.')[0]\n",
    "configuration = f\"dataset_{dataset_config_name}-model_{model_config_name}\"\n",
    "\n",
    "with open('results.csv', 'a') as f:\n",
    "    report = dict({'configuration': configuration}, **score)\n",
    "    writer = csv.DictWriter(f, report.keys())\n",
    "    writer.writerow(report)"
   ]
  }
 ],
 "metadata": {
  "celltoolbar": "Tags",
  "kernelspec": {
   "display_name": "Python 3",
   "language": "python",
   "name": "python3"
  },
  "language_info": {
   "codemirror_mode": {
    "name": "ipython",
    "version": 3
   },
   "file_extension": ".py",
   "mimetype": "text/x-python",
   "name": "python",
   "nbconvert_exporter": "python",
   "pygments_lexer": "ipython3",
   "version": "3.9.1"
  },
  "papermill": {
   "default_parameters": {},
   "duration": 8.06817,
   "end_time": "2021-04-04T22:53:07.754686",
   "environment_variables": {},
   "exception": null,
   "input_path": "main.ipynb",
   "output_path": "runs/dataset_000056-model_000003.ipynb",
   "parameters": {
    "DATASET_CONFIG_PATH": "config/dataset/000056.json",
    "MODEL_CONFIG_PATH": "config/model/000003.json",
    "PROFILE_REPORTING": false
   },
   "start_time": "2021-04-04T22:52:59.686516",
   "version": "2.3.3"
  }
 },
 "nbformat": 4,
 "nbformat_minor": 5
}