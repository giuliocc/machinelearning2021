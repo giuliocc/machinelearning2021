{
 "cells": [
  {
   "cell_type": "markdown",
   "id": "51c71c25",
   "metadata": {
    "papermill": {
     "duration": 0.034658,
     "end_time": "2021-04-04T23:02:34.384337",
     "exception": false,
     "start_time": "2021-04-04T23:02:34.349679",
     "status": "completed"
    },
    "tags": []
   },
   "source": [
    "# Parametrizing"
   ]
  },
  {
   "cell_type": "code",
   "execution_count": 1,
   "id": "3b136394",
   "metadata": {
    "execution": {
     "iopub.execute_input": "2021-04-04T23:02:34.446922Z",
     "iopub.status.busy": "2021-04-04T23:02:34.446234Z",
     "iopub.status.idle": "2021-04-04T23:02:34.448142Z",
     "shell.execute_reply": "2021-04-04T23:02:34.448614Z"
    },
    "papermill": {
     "duration": 0.040955,
     "end_time": "2021-04-04T23:02:34.448831",
     "exception": false,
     "start_time": "2021-04-04T23:02:34.407876",
     "status": "completed"
    },
    "tags": [
     "parameters"
    ]
   },
   "outputs": [],
   "source": [
    "DATASET_CONFIG_PATH = 'config/dataset/kc1_001.json'\n",
    "MODEL_CONFIG_PATH = 'config/model/knndd_001.json'\n",
    "PROFILE_REPORTING = False"
   ]
  },
  {
   "cell_type": "code",
   "execution_count": 2,
   "id": "e8915a71",
   "metadata": {
    "execution": {
     "iopub.execute_input": "2021-04-04T23:02:34.496426Z",
     "iopub.status.busy": "2021-04-04T23:02:34.495688Z",
     "iopub.status.idle": "2021-04-04T23:02:34.497796Z",
     "shell.execute_reply": "2021-04-04T23:02:34.497241Z"
    },
    "papermill": {
     "duration": 0.028131,
     "end_time": "2021-04-04T23:02:34.497913",
     "exception": false,
     "start_time": "2021-04-04T23:02:34.469782",
     "status": "completed"
    },
    "tags": [
     "injected-parameters"
    ]
   },
   "outputs": [],
   "source": [
    "# Parameters\n",
    "DATASET_CONFIG_PATH = \"config/dataset/000075.json\"\n",
    "MODEL_CONFIG_PATH = \"config/model/000002.json\"\n",
    "PROFILE_REPORTING = False\n"
   ]
  },
  {
   "cell_type": "code",
   "execution_count": 3,
   "id": "b80f2a10",
   "metadata": {
    "execution": {
     "iopub.execute_input": "2021-04-04T23:02:34.550477Z",
     "iopub.status.busy": "2021-04-04T23:02:34.549733Z",
     "iopub.status.idle": "2021-04-04T23:02:34.554326Z",
     "shell.execute_reply": "2021-04-04T23:02:34.554953Z"
    },
    "papermill": {
     "duration": 0.034319,
     "end_time": "2021-04-04T23:02:34.555107",
     "exception": false,
     "start_time": "2021-04-04T23:02:34.520788",
     "status": "completed"
    },
    "tags": []
   },
   "outputs": [],
   "source": [
    "import json\n",
    "\n",
    "\n",
    "with open(DATASET_CONFIG_PATH) as f:\n",
    "    dataset_config = json.load(f)\n",
    "\n",
    "with open(MODEL_CONFIG_PATH) as f:\n",
    "    model_config = json.load(f)"
   ]
  },
  {
   "cell_type": "markdown",
   "id": "9a4b0e2d",
   "metadata": {
    "papermill": {
     "duration": 0.020376,
     "end_time": "2021-04-04T23:02:34.599535",
     "exception": false,
     "start_time": "2021-04-04T23:02:34.579159",
     "status": "completed"
    },
    "tags": []
   },
   "source": [
    "# Profiling"
   ]
  },
  {
   "cell_type": "code",
   "execution_count": 4,
   "id": "a3e0289b",
   "metadata": {
    "execution": {
     "iopub.execute_input": "2021-04-04T23:02:34.645006Z",
     "iopub.status.busy": "2021-04-04T23:02:34.644351Z",
     "iopub.status.idle": "2021-04-04T23:02:35.999929Z",
     "shell.execute_reply": "2021-04-04T23:02:36.000408Z"
    },
    "papermill": {
     "duration": 1.381068,
     "end_time": "2021-04-04T23:02:36.000555",
     "exception": false,
     "start_time": "2021-04-04T23:02:34.619487",
     "status": "completed"
    },
    "tags": []
   },
   "outputs": [],
   "source": [
    "import pandas as pd\n",
    "from pandas_profiling import ProfileReport"
   ]
  },
  {
   "cell_type": "code",
   "execution_count": 5,
   "id": "ee6c0666",
   "metadata": {
    "execution": {
     "iopub.execute_input": "2021-04-04T23:02:36.051524Z",
     "iopub.status.busy": "2021-04-04T23:02:36.049579Z",
     "iopub.status.idle": "2021-04-04T23:02:36.065697Z",
     "shell.execute_reply": "2021-04-04T23:02:36.065096Z"
    },
    "papermill": {
     "duration": 0.043828,
     "end_time": "2021-04-04T23:02:36.065844",
     "exception": false,
     "start_time": "2021-04-04T23:02:36.022016",
     "status": "completed"
    },
    "tags": []
   },
   "outputs": [],
   "source": [
    "df = pd.read_csv(dataset_config['dataset_path'])"
   ]
  },
  {
   "cell_type": "code",
   "execution_count": 6,
   "id": "7eca6c4a",
   "metadata": {
    "execution": {
     "iopub.execute_input": "2021-04-04T23:02:36.127438Z",
     "iopub.status.busy": "2021-04-04T23:02:36.117964Z",
     "iopub.status.idle": "2021-04-04T23:02:36.129939Z",
     "shell.execute_reply": "2021-04-04T23:02:36.130412Z"
    },
    "papermill": {
     "duration": 0.043739,
     "end_time": "2021-04-04T23:02:36.130558",
     "exception": false,
     "start_time": "2021-04-04T23:02:36.086819",
     "status": "completed"
    },
    "tags": []
   },
   "outputs": [
    {
     "name": "stdout",
     "output_type": "stream",
     "text": [
      "<class 'pandas.core.frame.DataFrame'>\n",
      "RangeIndex: 2109 entries, 0 to 2108\n",
      "Data columns (total 23 columns):\n",
      " #   Column             Non-Null Count  Dtype  \n",
      "---  ------             --------------  -----  \n",
      " 0   id                 2109 non-null   int64  \n",
      " 1   loc                2109 non-null   float64\n",
      " 2   v(g)               2109 non-null   float64\n",
      " 3   ev(g)              2109 non-null   float64\n",
      " 4   iv(g)              2109 non-null   float64\n",
      " 5   n                  2109 non-null   float64\n",
      " 6   v                  2109 non-null   float64\n",
      " 7   l                  2109 non-null   float64\n",
      " 8   d                  2109 non-null   float64\n",
      " 9   i                  2109 non-null   float64\n",
      " 10  e                  2109 non-null   float64\n",
      " 11  b                  2109 non-null   float64\n",
      " 12  t                  2109 non-null   float64\n",
      " 13  lOCode             2109 non-null   int64  \n",
      " 14  lOComment          2109 non-null   int64  \n",
      " 15  lOBlank            2109 non-null   int64  \n",
      " 16  locCodeAndComment  2109 non-null   int64  \n",
      " 17  uniq_Op            2109 non-null   float64\n",
      " 18  uniq_Opnd          2109 non-null   float64\n",
      " 19  total_Op           2109 non-null   float64\n",
      " 20  total_Opnd         2109 non-null   float64\n",
      " 21  branchCount        2109 non-null   float64\n",
      " 22  defects            2109 non-null   bool   \n",
      "dtypes: bool(1), float64(17), int64(5)\n",
      "memory usage: 364.7 KB\n"
     ]
    }
   ],
   "source": [
    "df.info()"
   ]
  },
  {
   "cell_type": "code",
   "execution_count": 7,
   "id": "3638e5e8",
   "metadata": {
    "execution": {
     "iopub.execute_input": "2021-04-04T23:02:36.185743Z",
     "iopub.status.busy": "2021-04-04T23:02:36.184880Z",
     "iopub.status.idle": "2021-04-04T23:02:36.216774Z",
     "shell.execute_reply": "2021-04-04T23:02:36.215519Z"
    },
    "papermill": {
     "duration": 0.064874,
     "end_time": "2021-04-04T23:02:36.217113",
     "exception": false,
     "start_time": "2021-04-04T23:02:36.152239",
     "status": "completed"
    },
    "tags": []
   },
   "outputs": [
    {
     "data": {
      "text/html": [
       "<div>\n",
       "<style scoped>\n",
       "    .dataframe tbody tr th:only-of-type {\n",
       "        vertical-align: middle;\n",
       "    }\n",
       "\n",
       "    .dataframe tbody tr th {\n",
       "        vertical-align: top;\n",
       "    }\n",
       "\n",
       "    .dataframe thead th {\n",
       "        text-align: right;\n",
       "    }\n",
       "</style>\n",
       "<table border=\"1\" class=\"dataframe\">\n",
       "  <thead>\n",
       "    <tr style=\"text-align: right;\">\n",
       "      <th></th>\n",
       "      <th>id</th>\n",
       "      <th>loc</th>\n",
       "      <th>v(g)</th>\n",
       "      <th>ev(g)</th>\n",
       "      <th>iv(g)</th>\n",
       "      <th>n</th>\n",
       "      <th>v</th>\n",
       "      <th>l</th>\n",
       "      <th>d</th>\n",
       "      <th>i</th>\n",
       "      <th>...</th>\n",
       "      <th>lOCode</th>\n",
       "      <th>lOComment</th>\n",
       "      <th>lOBlank</th>\n",
       "      <th>locCodeAndComment</th>\n",
       "      <th>uniq_Op</th>\n",
       "      <th>uniq_Opnd</th>\n",
       "      <th>total_Op</th>\n",
       "      <th>total_Opnd</th>\n",
       "      <th>branchCount</th>\n",
       "      <th>defects</th>\n",
       "    </tr>\n",
       "  </thead>\n",
       "  <tbody>\n",
       "    <tr>\n",
       "      <th>0</th>\n",
       "      <td>1</td>\n",
       "      <td>1.1</td>\n",
       "      <td>1.4</td>\n",
       "      <td>1.4</td>\n",
       "      <td>1.4</td>\n",
       "      <td>1.3</td>\n",
       "      <td>1.30</td>\n",
       "      <td>1.30</td>\n",
       "      <td>1.30</td>\n",
       "      <td>1.30</td>\n",
       "      <td>...</td>\n",
       "      <td>2</td>\n",
       "      <td>2</td>\n",
       "      <td>2</td>\n",
       "      <td>2</td>\n",
       "      <td>1.2</td>\n",
       "      <td>1.2</td>\n",
       "      <td>1.2</td>\n",
       "      <td>1.2</td>\n",
       "      <td>1.4</td>\n",
       "      <td>False</td>\n",
       "    </tr>\n",
       "    <tr>\n",
       "      <th>1</th>\n",
       "      <td>2</td>\n",
       "      <td>1.0</td>\n",
       "      <td>1.0</td>\n",
       "      <td>1.0</td>\n",
       "      <td>1.0</td>\n",
       "      <td>1.0</td>\n",
       "      <td>1.00</td>\n",
       "      <td>1.00</td>\n",
       "      <td>1.00</td>\n",
       "      <td>1.00</td>\n",
       "      <td>...</td>\n",
       "      <td>1</td>\n",
       "      <td>1</td>\n",
       "      <td>1</td>\n",
       "      <td>1</td>\n",
       "      <td>1.0</td>\n",
       "      <td>1.0</td>\n",
       "      <td>1.0</td>\n",
       "      <td>1.0</td>\n",
       "      <td>1.0</td>\n",
       "      <td>True</td>\n",
       "    </tr>\n",
       "    <tr>\n",
       "      <th>2</th>\n",
       "      <td>3</td>\n",
       "      <td>83.0</td>\n",
       "      <td>11.0</td>\n",
       "      <td>1.0</td>\n",
       "      <td>11.0</td>\n",
       "      <td>171.0</td>\n",
       "      <td>927.89</td>\n",
       "      <td>0.04</td>\n",
       "      <td>23.04</td>\n",
       "      <td>40.27</td>\n",
       "      <td>...</td>\n",
       "      <td>65</td>\n",
       "      <td>10</td>\n",
       "      <td>6</td>\n",
       "      <td>0</td>\n",
       "      <td>18.0</td>\n",
       "      <td>25.0</td>\n",
       "      <td>107.0</td>\n",
       "      <td>64.0</td>\n",
       "      <td>21.0</td>\n",
       "      <td>True</td>\n",
       "    </tr>\n",
       "    <tr>\n",
       "      <th>3</th>\n",
       "      <td>4</td>\n",
       "      <td>46.0</td>\n",
       "      <td>8.0</td>\n",
       "      <td>6.0</td>\n",
       "      <td>8.0</td>\n",
       "      <td>141.0</td>\n",
       "      <td>769.78</td>\n",
       "      <td>0.07</td>\n",
       "      <td>14.86</td>\n",
       "      <td>51.81</td>\n",
       "      <td>...</td>\n",
       "      <td>37</td>\n",
       "      <td>2</td>\n",
       "      <td>5</td>\n",
       "      <td>0</td>\n",
       "      <td>16.0</td>\n",
       "      <td>28.0</td>\n",
       "      <td>89.0</td>\n",
       "      <td>52.0</td>\n",
       "      <td>15.0</td>\n",
       "      <td>True</td>\n",
       "    </tr>\n",
       "    <tr>\n",
       "      <th>4</th>\n",
       "      <td>5</td>\n",
       "      <td>25.0</td>\n",
       "      <td>3.0</td>\n",
       "      <td>1.0</td>\n",
       "      <td>3.0</td>\n",
       "      <td>58.0</td>\n",
       "      <td>254.75</td>\n",
       "      <td>0.11</td>\n",
       "      <td>9.35</td>\n",
       "      <td>27.25</td>\n",
       "      <td>...</td>\n",
       "      <td>21</td>\n",
       "      <td>0</td>\n",
       "      <td>2</td>\n",
       "      <td>0</td>\n",
       "      <td>11.0</td>\n",
       "      <td>10.0</td>\n",
       "      <td>41.0</td>\n",
       "      <td>17.0</td>\n",
       "      <td>5.0</td>\n",
       "      <td>True</td>\n",
       "    </tr>\n",
       "  </tbody>\n",
       "</table>\n",
       "<p>5 rows × 23 columns</p>\n",
       "</div>"
      ],
      "text/plain": [
       "   id   loc  v(g)  ev(g)  iv(g)      n       v     l      d      i  ...  \\\n",
       "0   1   1.1   1.4    1.4    1.4    1.3    1.30  1.30   1.30   1.30  ...   \n",
       "1   2   1.0   1.0    1.0    1.0    1.0    1.00  1.00   1.00   1.00  ...   \n",
       "2   3  83.0  11.0    1.0   11.0  171.0  927.89  0.04  23.04  40.27  ...   \n",
       "3   4  46.0   8.0    6.0    8.0  141.0  769.78  0.07  14.86  51.81  ...   \n",
       "4   5  25.0   3.0    1.0    3.0   58.0  254.75  0.11   9.35  27.25  ...   \n",
       "\n",
       "   lOCode  lOComment  lOBlank  locCodeAndComment  uniq_Op  uniq_Opnd  \\\n",
       "0       2          2        2                  2      1.2        1.2   \n",
       "1       1          1        1                  1      1.0        1.0   \n",
       "2      65         10        6                  0     18.0       25.0   \n",
       "3      37          2        5                  0     16.0       28.0   \n",
       "4      21          0        2                  0     11.0       10.0   \n",
       "\n",
       "   total_Op  total_Opnd  branchCount  defects  \n",
       "0       1.2         1.2          1.4    False  \n",
       "1       1.0         1.0          1.0     True  \n",
       "2     107.0        64.0         21.0     True  \n",
       "3      89.0        52.0         15.0     True  \n",
       "4      41.0        17.0          5.0     True  \n",
       "\n",
       "[5 rows x 23 columns]"
      ]
     },
     "execution_count": 7,
     "metadata": {},
     "output_type": "execute_result"
    }
   ],
   "source": [
    "df.head()"
   ]
  },
  {
   "cell_type": "code",
   "execution_count": 8,
   "id": "733e95eb",
   "metadata": {
    "execution": {
     "iopub.execute_input": "2021-04-04T23:02:36.269509Z",
     "iopub.status.busy": "2021-04-04T23:02:36.268644Z",
     "iopub.status.idle": "2021-04-04T23:02:36.270780Z",
     "shell.execute_reply": "2021-04-04T23:02:36.271262Z"
    },
    "papermill": {
     "duration": 0.032847,
     "end_time": "2021-04-04T23:02:36.271406",
     "exception": false,
     "start_time": "2021-04-04T23:02:36.238559",
     "status": "completed"
    },
    "tags": []
   },
   "outputs": [],
   "source": [
    "del df['id']"
   ]
  },
  {
   "cell_type": "code",
   "execution_count": 9,
   "id": "6ff6f5b0",
   "metadata": {
    "execution": {
     "iopub.execute_input": "2021-04-04T23:02:36.328124Z",
     "iopub.status.busy": "2021-04-04T23:02:36.326512Z",
     "iopub.status.idle": "2021-04-04T23:02:36.329313Z",
     "shell.execute_reply": "2021-04-04T23:02:36.329854Z"
    },
    "papermill": {
     "duration": 0.035161,
     "end_time": "2021-04-04T23:02:36.330018",
     "exception": false,
     "start_time": "2021-04-04T23:02:36.294857",
     "status": "completed"
    },
    "tags": []
   },
   "outputs": [],
   "source": [
    "if PROFILE_REPORTING:\n",
    "    ProfileReport(df).to_widgets()"
   ]
  },
  {
   "cell_type": "markdown",
   "id": "1deaf3f0",
   "metadata": {
    "papermill": {
     "duration": 0.029802,
     "end_time": "2021-04-04T23:02:36.390665",
     "exception": false,
     "start_time": "2021-04-04T23:02:36.360863",
     "status": "completed"
    },
    "tags": []
   },
   "source": [
    "# Preprocess"
   ]
  },
  {
   "cell_type": "code",
   "execution_count": 10,
   "id": "1513e563",
   "metadata": {
    "execution": {
     "iopub.execute_input": "2021-04-04T23:02:36.458678Z",
     "iopub.status.busy": "2021-04-04T23:02:36.457564Z",
     "iopub.status.idle": "2021-04-04T23:02:36.459724Z",
     "shell.execute_reply": "2021-04-04T23:02:36.460646Z"
    },
    "papermill": {
     "duration": 0.039802,
     "end_time": "2021-04-04T23:02:36.460980",
     "exception": false,
     "start_time": "2021-04-04T23:02:36.421178",
     "status": "completed"
    },
    "tags": []
   },
   "outputs": [],
   "source": [
    "working_df = df.copy()"
   ]
  },
  {
   "cell_type": "code",
   "execution_count": 11,
   "id": "3b26d675",
   "metadata": {
    "execution": {
     "iopub.execute_input": "2021-04-04T23:02:36.514996Z",
     "iopub.status.busy": "2021-04-04T23:02:36.513863Z",
     "iopub.status.idle": "2021-04-04T23:02:36.520246Z",
     "shell.execute_reply": "2021-04-04T23:02:36.519731Z"
    },
    "papermill": {
     "duration": 0.036105,
     "end_time": "2021-04-04T23:02:36.520368",
     "exception": false,
     "start_time": "2021-04-04T23:02:36.484263",
     "status": "completed"
    },
    "tags": []
   },
   "outputs": [],
   "source": [
    "working_df['defects'] = working_df['defects'].replace([False, True], [0, 1])"
   ]
  },
  {
   "cell_type": "code",
   "execution_count": 12,
   "id": "eb48604f",
   "metadata": {
    "execution": {
     "iopub.execute_input": "2021-04-04T23:02:36.574274Z",
     "iopub.status.busy": "2021-04-04T23:02:36.573507Z",
     "iopub.status.idle": "2021-04-04T23:02:36.575691Z",
     "shell.execute_reply": "2021-04-04T23:02:36.576160Z"
    },
    "papermill": {
     "duration": 0.033896,
     "end_time": "2021-04-04T23:02:36.576308",
     "exception": false,
     "start_time": "2021-04-04T23:02:36.542412",
     "status": "completed"
    },
    "tags": []
   },
   "outputs": [],
   "source": [
    "for col in dataset_config['delete_columns']:\n",
    "    del working_df[col]"
   ]
  },
  {
   "cell_type": "code",
   "execution_count": 13,
   "id": "9a17bc29",
   "metadata": {
    "execution": {
     "iopub.execute_input": "2021-04-04T23:02:36.627373Z",
     "iopub.status.busy": "2021-04-04T23:02:36.626398Z",
     "iopub.status.idle": "2021-04-04T23:02:36.635655Z",
     "shell.execute_reply": "2021-04-04T23:02:36.635134Z"
    },
    "papermill": {
     "duration": 0.037736,
     "end_time": "2021-04-04T23:02:36.635777",
     "exception": false,
     "start_time": "2021-04-04T23:02:36.598041",
     "status": "completed"
    },
    "tags": []
   },
   "outputs": [],
   "source": [
    "working_df = working_df.drop_duplicates()"
   ]
  },
  {
   "cell_type": "markdown",
   "id": "a4d52ca6",
   "metadata": {
    "papermill": {
     "duration": 0.033342,
     "end_time": "2021-04-04T23:02:36.693566",
     "exception": false,
     "start_time": "2021-04-04T23:02:36.660224",
     "status": "completed"
    },
    "tags": []
   },
   "source": [
    "# Split"
   ]
  },
  {
   "cell_type": "code",
   "execution_count": 14,
   "id": "3e9ee4b5",
   "metadata": {
    "execution": {
     "iopub.execute_input": "2021-04-04T23:02:36.751701Z",
     "iopub.status.busy": "2021-04-04T23:02:36.751076Z",
     "iopub.status.idle": "2021-04-04T23:02:36.786548Z",
     "shell.execute_reply": "2021-04-04T23:02:36.785948Z"
    },
    "papermill": {
     "duration": 0.064021,
     "end_time": "2021-04-04T23:02:36.786670",
     "exception": false,
     "start_time": "2021-04-04T23:02:36.722649",
     "status": "completed"
    },
    "tags": []
   },
   "outputs": [],
   "source": [
    "from sklearn.model_selection import train_test_split"
   ]
  },
  {
   "cell_type": "code",
   "execution_count": 15,
   "id": "274004ce",
   "metadata": {
    "execution": {
     "iopub.execute_input": "2021-04-04T23:02:36.859332Z",
     "iopub.status.busy": "2021-04-04T23:02:36.857984Z",
     "iopub.status.idle": "2021-04-04T23:02:36.864398Z",
     "shell.execute_reply": "2021-04-04T23:02:36.864883Z"
    },
    "papermill": {
     "duration": 0.047565,
     "end_time": "2021-04-04T23:02:36.865033",
     "exception": false,
     "start_time": "2021-04-04T23:02:36.817468",
     "status": "completed"
    },
    "scrolled": true,
    "tags": []
   },
   "outputs": [],
   "source": [
    "inlier, outlier = working_df[working_df['defects'] == 0], working_df[working_df['defects'] == 1]"
   ]
  },
  {
   "cell_type": "code",
   "execution_count": 16,
   "id": "753c7b03",
   "metadata": {
    "execution": {
     "iopub.execute_input": "2021-04-04T23:02:36.922579Z",
     "iopub.status.busy": "2021-04-04T23:02:36.918605Z",
     "iopub.status.idle": "2021-04-04T23:02:36.925023Z",
     "shell.execute_reply": "2021-04-04T23:02:36.924480Z"
    },
    "papermill": {
     "duration": 0.035349,
     "end_time": "2021-04-04T23:02:36.925144",
     "exception": false,
     "start_time": "2021-04-04T23:02:36.889795",
     "status": "completed"
    },
    "tags": []
   },
   "outputs": [],
   "source": [
    "X_inlier = inlier.copy()\n",
    "y_inlier = X_inlier.pop('defects')\n",
    "X_outlier = outlier.copy()\n",
    "y_outlier = X_outlier.pop('defects')"
   ]
  },
  {
   "cell_type": "code",
   "execution_count": 17,
   "id": "2ba43193",
   "metadata": {
    "execution": {
     "iopub.execute_input": "2021-04-04T23:02:36.984339Z",
     "iopub.status.busy": "2021-04-04T23:02:36.983398Z",
     "iopub.status.idle": "2021-04-04T23:02:36.988832Z",
     "shell.execute_reply": "2021-04-04T23:02:36.987556Z"
    },
    "papermill": {
     "duration": 0.041615,
     "end_time": "2021-04-04T23:02:36.989168",
     "exception": false,
     "start_time": "2021-04-04T23:02:36.947553",
     "status": "completed"
    },
    "tags": []
   },
   "outputs": [],
   "source": [
    "test_size = dataset_config['test_size']\n",
    "random_state = dataset_config['random_state']\n",
    "\n",
    "X_inlier_train, X_inlier_test, y_inlier_train, y_inlier_test = train_test_split(\n",
    "    X_inlier,\n",
    "    y_inlier,\n",
    "    test_size=test_size,\n",
    "    random_state=random_state\n",
    ")"
   ]
  },
  {
   "cell_type": "code",
   "execution_count": 18,
   "id": "0b7582ca",
   "metadata": {
    "execution": {
     "iopub.execute_input": "2021-04-04T23:02:37.045442Z",
     "iopub.status.busy": "2021-04-04T23:02:37.044732Z",
     "iopub.status.idle": "2021-04-04T23:02:37.047112Z",
     "shell.execute_reply": "2021-04-04T23:02:37.046583Z"
    },
    "papermill": {
     "duration": 0.033122,
     "end_time": "2021-04-04T23:02:37.047233",
     "exception": false,
     "start_time": "2021-04-04T23:02:37.014111",
     "status": "completed"
    },
    "tags": []
   },
   "outputs": [],
   "source": [
    "test_outlier_size = dataset_config['test_outlier_size']\n",
    "if test_outlier_size > 0.0:\n",
    "    X_outlier_train, X_outlier_test, y_outlier_train, y_outlier_test = train_test_split(\n",
    "        X_outlier,\n",
    "        y_outlier,\n",
    "        test_size=test_outlier_size,\n",
    "        random_state=random_state\n",
    "    )\n",
    "else:\n",
    "    X_outlier_train, y_outlier_train = pd.DataFrame(columns=X_outlier.columns), pd.Series(dtype='int64')\n",
    "    X_outlier_test, y_outlier_test = X_outlier.copy(), y_outlier.copy()"
   ]
  },
  {
   "cell_type": "code",
   "execution_count": 19,
   "id": "c34363db",
   "metadata": {
    "execution": {
     "iopub.execute_input": "2021-04-04T23:02:37.112142Z",
     "iopub.status.busy": "2021-04-04T23:02:37.110452Z",
     "iopub.status.idle": "2021-04-04T23:02:37.117165Z",
     "shell.execute_reply": "2021-04-04T23:02:37.117741Z"
    },
    "papermill": {
     "duration": 0.044958,
     "end_time": "2021-04-04T23:02:37.117915",
     "exception": false,
     "start_time": "2021-04-04T23:02:37.072957",
     "status": "completed"
    },
    "tags": []
   },
   "outputs": [],
   "source": [
    "X_train, y_train = pd.concat([X_inlier_train, X_outlier_train], ignore_index=True), pd.concat([y_inlier_train, y_outlier_train], ignore_index=True)\n",
    "X_test, y_test = pd.concat([X_inlier_test, X_outlier_test], ignore_index=True), pd.concat([y_inlier_test, y_outlier_test], ignore_index=True)"
   ]
  },
  {
   "cell_type": "markdown",
   "id": "7cde7309",
   "metadata": {
    "papermill": {
     "duration": 0.022732,
     "end_time": "2021-04-04T23:02:37.166323",
     "exception": false,
     "start_time": "2021-04-04T23:02:37.143591",
     "status": "completed"
    },
    "tags": []
   },
   "source": [
    "# Model"
   ]
  },
  {
   "cell_type": "code",
   "execution_count": 20,
   "id": "2b12a415",
   "metadata": {
    "execution": {
     "iopub.execute_input": "2021-04-04T23:02:37.231301Z",
     "iopub.status.busy": "2021-04-04T23:02:37.230258Z",
     "iopub.status.idle": "2021-04-04T23:02:37.234435Z",
     "shell.execute_reply": "2021-04-04T23:02:37.232951Z"
    },
    "papermill": {
     "duration": 0.04322,
     "end_time": "2021-04-04T23:02:37.234771",
     "exception": false,
     "start_time": "2021-04-04T23:02:37.191551",
     "status": "completed"
    },
    "tags": []
   },
   "outputs": [],
   "source": [
    "from math import sqrt\n",
    "\n",
    "\n",
    "class KNNDataDescription:\n",
    "    def __init__(self, k=5, outlier_threshold=1.0):\n",
    "        self.k = k\n",
    "        self.outlier_threshold = outlier_threshold\n",
    "        self.X = []\n",
    "    \n",
    "    def fit(self, X):\n",
    "        self.X = [features.to_list() for index, features in X.iterrows()]\n",
    "\n",
    "    def predict(self, entries):\n",
    "        return [self.predict_entry(features.to_list()) for index, features in entries.iterrows()]\n",
    "    \n",
    "    def predict_entry(self, entry):\n",
    "        kth_neighbor, kth_distance = self.get_kth_neighbor(entry, self.k)\n",
    "        kth_kth_neighbor, kth_kth_distance = self.get_kth_neighbor(kth_neighbor, self.k + 1)\n",
    "\n",
    "        outlier_score = kth_distance / (kth_kth_distance + 0.000001)\n",
    "\n",
    "        return 1 if outlier_score < self.outlier_threshold else -1\n",
    "        \n",
    "    def euclidean_distance(self, features1, features2):\n",
    "        distance = 0.0\n",
    "        for feat1, feat2 in zip(features1, features2):\n",
    "            distance += (feat1 - feat2)**2\n",
    "                \n",
    "        return sqrt(distance)\n",
    "\n",
    "    def get_neighbors(self, entry, k):\n",
    "        distance_to_data_points = [\n",
    "            (data_point, self.euclidean_distance(entry, data_point))\n",
    "            for data_point in self.X\n",
    "        ]\n",
    "        sorted_by_distance = sorted(distance_to_data_points, key=lambda tup: tup[1])\n",
    "        neighbors = sorted_by_distance[:k]\n",
    "        return neighbors\n",
    "\n",
    "    def get_kth_neighbor(self, entry, k):\n",
    "        neighbors = self.get_neighbors(entry, k)\n",
    "        return neighbors[-1]\n"
   ]
  },
  {
   "cell_type": "code",
   "execution_count": 21,
   "id": "1fa9ec1c",
   "metadata": {
    "execution": {
     "iopub.execute_input": "2021-04-04T23:02:37.289499Z",
     "iopub.status.busy": "2021-04-04T23:02:37.288436Z",
     "iopub.status.idle": "2021-04-04T23:02:37.308011Z",
     "shell.execute_reply": "2021-04-04T23:02:37.307276Z"
    },
    "papermill": {
     "duration": 0.049956,
     "end_time": "2021-04-04T23:02:37.308164",
     "exception": false,
     "start_time": "2021-04-04T23:02:37.258208",
     "status": "completed"
    },
    "tags": []
   },
   "outputs": [],
   "source": [
    "from sklearn.svm import OneClassSVM\n",
    "\n",
    "\n",
    "models = {\n",
    "    'oneclasssvm': OneClassSVM,\n",
    "    'knndatadescription': KNNDataDescription,\n",
    "}"
   ]
  },
  {
   "cell_type": "code",
   "execution_count": 22,
   "id": "4d72a0b1",
   "metadata": {
    "execution": {
     "iopub.execute_input": "2021-04-04T23:02:37.373433Z",
     "iopub.status.busy": "2021-04-04T23:02:37.372605Z",
     "iopub.status.idle": "2021-04-04T23:02:37.375001Z",
     "shell.execute_reply": "2021-04-04T23:02:37.375619Z"
    },
    "papermill": {
     "duration": 0.043167,
     "end_time": "2021-04-04T23:02:37.375804",
     "exception": false,
     "start_time": "2021-04-04T23:02:37.332637",
     "status": "completed"
    },
    "scrolled": true,
    "tags": []
   },
   "outputs": [],
   "source": [
    "model_cls = models[model_config['model_type']]\n",
    "model = model_cls(**model_config['hyperparameters'])"
   ]
  },
  {
   "cell_type": "markdown",
   "id": "e00cff3b",
   "metadata": {
    "papermill": {
     "duration": 0.031649,
     "end_time": "2021-04-04T23:02:37.438127",
     "exception": false,
     "start_time": "2021-04-04T23:02:37.406478",
     "status": "completed"
    },
    "tags": []
   },
   "source": [
    "# Fit"
   ]
  },
  {
   "cell_type": "code",
   "execution_count": 23,
   "id": "8b2ded89",
   "metadata": {
    "execution": {
     "iopub.execute_input": "2021-04-04T23:02:37.501635Z",
     "iopub.status.busy": "2021-04-04T23:02:37.500909Z",
     "iopub.status.idle": "2021-04-04T23:02:37.556340Z",
     "shell.execute_reply": "2021-04-04T23:02:37.556861Z"
    },
    "papermill": {
     "duration": 0.095386,
     "end_time": "2021-04-04T23:02:37.557047",
     "exception": false,
     "start_time": "2021-04-04T23:02:37.461661",
     "status": "completed"
    },
    "tags": []
   },
   "outputs": [],
   "source": [
    "model.fit(X_train)"
   ]
  },
  {
   "cell_type": "markdown",
   "id": "f99999f7",
   "metadata": {
    "papermill": {
     "duration": 0.023399,
     "end_time": "2021-04-04T23:02:37.606824",
     "exception": false,
     "start_time": "2021-04-04T23:02:37.583425",
     "status": "completed"
    },
    "tags": []
   },
   "source": [
    "# Predict"
   ]
  },
  {
   "cell_type": "code",
   "execution_count": 24,
   "id": "6536fbf7",
   "metadata": {
    "execution": {
     "iopub.execute_input": "2021-04-04T23:02:37.665626Z",
     "iopub.status.busy": "2021-04-04T23:02:37.664884Z",
     "iopub.status.idle": "2021-04-04T23:02:40.161312Z",
     "shell.execute_reply": "2021-04-04T23:02:40.160446Z"
    },
    "papermill": {
     "duration": 2.530853,
     "end_time": "2021-04-04T23:02:40.161480",
     "exception": false,
     "start_time": "2021-04-04T23:02:37.630627",
     "status": "completed"
    },
    "tags": []
   },
   "outputs": [],
   "source": [
    "predictions = model.predict(X_test)"
   ]
  },
  {
   "cell_type": "markdown",
   "id": "aa1c9881",
   "metadata": {
    "papermill": {
     "duration": 0.022505,
     "end_time": "2021-04-04T23:02:40.214057",
     "exception": false,
     "start_time": "2021-04-04T23:02:40.191552",
     "status": "completed"
    },
    "tags": []
   },
   "source": [
    "# Evaluate"
   ]
  },
  {
   "cell_type": "code",
   "execution_count": 25,
   "id": "894f0f04",
   "metadata": {
    "execution": {
     "iopub.execute_input": "2021-04-04T23:02:40.276919Z",
     "iopub.status.busy": "2021-04-04T23:02:40.274800Z",
     "iopub.status.idle": "2021-04-04T23:02:40.277938Z",
     "shell.execute_reply": "2021-04-04T23:02:40.278474Z"
    },
    "papermill": {
     "duration": 0.039539,
     "end_time": "2021-04-04T23:02:40.278638",
     "exception": false,
     "start_time": "2021-04-04T23:02:40.239099",
     "status": "completed"
    },
    "tags": []
   },
   "outputs": [],
   "source": [
    "from sklearn.metrics import f1_score"
   ]
  },
  {
   "cell_type": "code",
   "execution_count": 26,
   "id": "211744d3",
   "metadata": {
    "execution": {
     "iopub.execute_input": "2021-04-04T23:02:40.334926Z",
     "iopub.status.busy": "2021-04-04T23:02:40.334187Z",
     "iopub.status.idle": "2021-04-04T23:02:40.335917Z",
     "shell.execute_reply": "2021-04-04T23:02:40.336386Z"
    },
    "papermill": {
     "duration": 0.03027,
     "end_time": "2021-04-04T23:02:40.336532",
     "exception": false,
     "start_time": "2021-04-04T23:02:40.306262",
     "status": "completed"
    },
    "tags": []
   },
   "outputs": [],
   "source": [
    "y_test = y_test.replace([0, 1], [1, -1])"
   ]
  },
  {
   "cell_type": "code",
   "execution_count": 27,
   "id": "d68a9204",
   "metadata": {
    "execution": {
     "iopub.execute_input": "2021-04-04T23:02:40.415641Z",
     "iopub.status.busy": "2021-04-04T23:02:40.413990Z",
     "iopub.status.idle": "2021-04-04T23:02:40.416619Z",
     "shell.execute_reply": "2021-04-04T23:02:40.417192Z"
    },
    "papermill": {
     "duration": 0.045782,
     "end_time": "2021-04-04T23:02:40.417362",
     "exception": false,
     "start_time": "2021-04-04T23:02:40.371580",
     "status": "completed"
    },
    "tags": []
   },
   "outputs": [],
   "source": [
    "def evaluate(truths, predictions, pos_label, neg_label):\n",
    "    TP = 0\n",
    "    FP = 0\n",
    "    TN = 0\n",
    "    FN = 0\n",
    "\n",
    "    for truth, pred in zip(truths, predictions): \n",
    "        if truth == pred == pos_label:\n",
    "           TP += 1\n",
    "        elif pred == pos_label and truth == neg_label:\n",
    "           FP += 1\n",
    "        elif truth == pred == neg_label:\n",
    "           TN += 1\n",
    "        elif pred == neg_label and truth == pos_label:\n",
    "           FN += 1\n",
    "\n",
    "    precision = TP / (TP + FP)\n",
    "    sensitivity = TP / (TP + FN)\n",
    "    \n",
    "    return {\n",
    "        'true_pos': TP,\n",
    "        'false_pos': FP,\n",
    "        'false_neg': FN,\n",
    "        'true_neg': TN,\n",
    "        'precision': precision,\n",
    "        'sensitivity': sensitivity,\n",
    "        'f1': (2 * (precision * sensitivity)) / (precision + sensitivity)\n",
    "    }\n",
    "\n",
    "score = evaluate(y_test, predictions, pos_label=-1, neg_label=1)"
   ]
  },
  {
   "cell_type": "markdown",
   "id": "93596516",
   "metadata": {
    "papermill": {
     "duration": 0.02548,
     "end_time": "2021-04-04T23:02:40.472387",
     "exception": false,
     "start_time": "2021-04-04T23:02:40.446907",
     "status": "completed"
    },
    "tags": []
   },
   "source": [
    "# Report"
   ]
  },
  {
   "cell_type": "code",
   "execution_count": 28,
   "id": "bea5fba1",
   "metadata": {
    "execution": {
     "iopub.execute_input": "2021-04-04T23:02:40.537611Z",
     "iopub.status.busy": "2021-04-04T23:02:40.536063Z",
     "iopub.status.idle": "2021-04-04T23:02:40.539254Z",
     "shell.execute_reply": "2021-04-04T23:02:40.539969Z"
    },
    "papermill": {
     "duration": 0.041748,
     "end_time": "2021-04-04T23:02:40.540158",
     "exception": false,
     "start_time": "2021-04-04T23:02:40.498410",
     "status": "completed"
    },
    "tags": []
   },
   "outputs": [],
   "source": [
    "import csv\n",
    "\n",
    "\n",
    "dataset_config_name = DATASET_CONFIG_PATH.split('/')[-1].split('.')[0]\n",
    "model_config_name = MODEL_CONFIG_PATH.split('/')[-1].split('.')[0]\n",
    "configuration = f\"dataset_{dataset_config_name}-model_{model_config_name}\"\n",
    "\n",
    "with open('results.csv', 'a') as f:\n",
    "    report = dict({'configuration': configuration}, **score)\n",
    "    writer = csv.DictWriter(f, report.keys())\n",
    "    writer.writerow(report)"
   ]
  }
 ],
 "metadata": {
  "celltoolbar": "Tags",
  "kernelspec": {
   "display_name": "Python 3",
   "language": "python",
   "name": "python3"
  },
  "language_info": {
   "codemirror_mode": {
    "name": "ipython",
    "version": 3
   },
   "file_extension": ".py",
   "mimetype": "text/x-python",
   "name": "python",
   "nbconvert_exporter": "python",
   "pygments_lexer": "ipython3",
   "version": "3.9.1"
  },
  "papermill": {
   "default_parameters": {},
   "duration": 7.784964,
   "end_time": "2021-04-04T23:02:41.175624",
   "environment_variables": {},
   "exception": null,
   "input_path": "main.ipynb",
   "output_path": "runs/dataset_000075-model_000002.ipynb",
   "parameters": {
    "DATASET_CONFIG_PATH": "config/dataset/000075.json",
    "MODEL_CONFIG_PATH": "config/model/000002.json",
    "PROFILE_REPORTING": false
   },
   "start_time": "2021-04-04T23:02:33.390660",
   "version": "2.3.3"
  }
 },
 "nbformat": 4,
 "nbformat_minor": 5
}