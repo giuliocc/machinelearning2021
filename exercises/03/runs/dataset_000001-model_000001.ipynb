{
 "cells": [
  {
   "cell_type": "markdown",
   "id": "4588efca",
   "metadata": {
    "papermill": {
     "duration": 0.031979,
     "end_time": "2021-04-04T22:21:25.049587",
     "exception": false,
     "start_time": "2021-04-04T22:21:25.017608",
     "status": "completed"
    },
    "tags": []
   },
   "source": [
    "# Parametrizing"
   ]
  },
  {
   "cell_type": "code",
   "execution_count": 1,
   "id": "5964d9c0",
   "metadata": {
    "execution": {
     "iopub.execute_input": "2021-04-04T22:21:25.101436Z",
     "iopub.status.busy": "2021-04-04T22:21:25.097724Z",
     "iopub.status.idle": "2021-04-04T22:21:25.104326Z",
     "shell.execute_reply": "2021-04-04T22:21:25.105722Z"
    },
    "papermill": {
     "duration": 0.03697,
     "end_time": "2021-04-04T22:21:25.106088",
     "exception": false,
     "start_time": "2021-04-04T22:21:25.069118",
     "status": "completed"
    },
    "tags": [
     "parameters"
    ]
   },
   "outputs": [],
   "source": [
    "DATASET_CONFIG_PATH = 'config/dataset/kc1_001.json'\n",
    "MODEL_CONFIG_PATH = 'config/model/knndd_001.json'\n",
    "PROFILE_REPORTING = False"
   ]
  },
  {
   "cell_type": "code",
   "execution_count": 2,
   "id": "fd376949",
   "metadata": {
    "execution": {
     "iopub.execute_input": "2021-04-04T22:21:25.156323Z",
     "iopub.status.busy": "2021-04-04T22:21:25.155215Z",
     "iopub.status.idle": "2021-04-04T22:21:25.159547Z",
     "shell.execute_reply": "2021-04-04T22:21:25.158396Z"
    },
    "papermill": {
     "duration": 0.028574,
     "end_time": "2021-04-04T22:21:25.159762",
     "exception": false,
     "start_time": "2021-04-04T22:21:25.131188",
     "status": "completed"
    },
    "tags": [
     "injected-parameters"
    ]
   },
   "outputs": [],
   "source": [
    "# Parameters\n",
    "DATASET_CONFIG_PATH = \"config/dataset/000001.json\"\n",
    "MODEL_CONFIG_PATH = \"config/model/000001.json\"\n",
    "PROFILE_REPORTING = False\n"
   ]
  },
  {
   "cell_type": "code",
   "execution_count": 3,
   "id": "3fa67035",
   "metadata": {
    "execution": {
     "iopub.execute_input": "2021-04-04T22:21:25.210296Z",
     "iopub.status.busy": "2021-04-04T22:21:25.209571Z",
     "iopub.status.idle": "2021-04-04T22:21:25.211615Z",
     "shell.execute_reply": "2021-04-04T22:21:25.212090Z"
    },
    "papermill": {
     "duration": 0.029507,
     "end_time": "2021-04-04T22:21:25.212239",
     "exception": false,
     "start_time": "2021-04-04T22:21:25.182732",
     "status": "completed"
    },
    "tags": []
   },
   "outputs": [],
   "source": [
    "import json\n",
    "\n",
    "\n",
    "with open(DATASET_CONFIG_PATH) as f:\n",
    "    dataset_config = json.load(f)\n",
    "\n",
    "with open(MODEL_CONFIG_PATH) as f:\n",
    "    model_config = json.load(f)"
   ]
  },
  {
   "cell_type": "markdown",
   "id": "9a4b0e2d",
   "metadata": {
    "papermill": {
     "duration": 0.019706,
     "end_time": "2021-04-04T22:21:25.254894",
     "exception": false,
     "start_time": "2021-04-04T22:21:25.235188",
     "status": "completed"
    },
    "tags": []
   },
   "source": [
    "# Profiling"
   ]
  },
  {
   "cell_type": "code",
   "execution_count": 4,
   "id": "a3e0289b",
   "metadata": {
    "execution": {
     "iopub.execute_input": "2021-04-04T22:21:25.299994Z",
     "iopub.status.busy": "2021-04-04T22:21:25.298488Z",
     "iopub.status.idle": "2021-04-04T22:21:26.562391Z",
     "shell.execute_reply": "2021-04-04T22:21:26.561514Z"
    },
    "papermill": {
     "duration": 1.288488,
     "end_time": "2021-04-04T22:21:26.562560",
     "exception": false,
     "start_time": "2021-04-04T22:21:25.274072",
     "status": "completed"
    },
    "tags": []
   },
   "outputs": [],
   "source": [
    "import pandas as pd\n",
    "from pandas_profiling import ProfileReport"
   ]
  },
  {
   "cell_type": "code",
   "execution_count": 5,
   "id": "ee6c0666",
   "metadata": {
    "execution": {
     "iopub.execute_input": "2021-04-04T22:21:26.614503Z",
     "iopub.status.busy": "2021-04-04T22:21:26.613736Z",
     "iopub.status.idle": "2021-04-04T22:21:26.627283Z",
     "shell.execute_reply": "2021-04-04T22:21:26.626541Z"
    },
    "papermill": {
     "duration": 0.039564,
     "end_time": "2021-04-04T22:21:26.627446",
     "exception": false,
     "start_time": "2021-04-04T22:21:26.587882",
     "status": "completed"
    },
    "tags": []
   },
   "outputs": [],
   "source": [
    "df = pd.read_csv(dataset_config['dataset_path'])"
   ]
  },
  {
   "cell_type": "code",
   "execution_count": 6,
   "id": "20d45671",
   "metadata": {
    "execution": {
     "iopub.execute_input": "2021-04-04T22:21:26.682351Z",
     "iopub.status.busy": "2021-04-04T22:21:26.681720Z",
     "iopub.status.idle": "2021-04-04T22:21:26.698126Z",
     "shell.execute_reply": "2021-04-04T22:21:26.699111Z"
    },
    "papermill": {
     "duration": 0.044313,
     "end_time": "2021-04-04T22:21:26.699388",
     "exception": false,
     "start_time": "2021-04-04T22:21:26.655075",
     "status": "completed"
    },
    "tags": []
   },
   "outputs": [
    {
     "name": "stdout",
     "output_type": "stream",
     "text": [
      "<class 'pandas.core.frame.DataFrame'>\n",
      "RangeIndex: 2109 entries, 0 to 2108\n",
      "Data columns (total 23 columns):\n",
      " #   Column             Non-Null Count  Dtype  \n",
      "---  ------             --------------  -----  \n",
      " 0   id                 2109 non-null   int64  \n",
      " 1   loc                2109 non-null   float64\n",
      " 2   v(g)               2109 non-null   float64\n",
      " 3   ev(g)              2109 non-null   float64\n",
      " 4   iv(g)              2109 non-null   float64\n",
      " 5   n                  2109 non-null   float64\n",
      " 6   v                  2109 non-null   float64\n",
      " 7   l                  2109 non-null   float64\n",
      " 8   d                  2109 non-null   float64\n",
      " 9   i                  2109 non-null   float64\n",
      " 10  e                  2109 non-null   float64\n",
      " 11  b                  2109 non-null   float64\n",
      " 12  t                  2109 non-null   float64\n",
      " 13  lOCode             2109 non-null   int64  \n",
      " 14  lOComment          2109 non-null   int64  \n",
      " 15  lOBlank            2109 non-null   int64  \n",
      " 16  locCodeAndComment  2109 non-null   int64  \n",
      " 17  uniq_Op            2109 non-null   float64\n",
      " 18  uniq_Opnd          2109 non-null   float64\n",
      " 19  total_Op           2109 non-null   float64\n",
      " 20  total_Opnd         2109 non-null   float64\n",
      " 21  branchCount        2109 non-null   float64\n",
      " 22  defects            2109 non-null   bool   \n",
      "dtypes: bool(1), float64(17), int64(5)\n",
      "memory usage: 364.7 KB\n"
     ]
    }
   ],
   "source": [
    "df.info()"
   ]
  },
  {
   "cell_type": "code",
   "execution_count": 7,
   "id": "a676db33",
   "metadata": {
    "execution": {
     "iopub.execute_input": "2021-04-04T22:21:26.759872Z",
     "iopub.status.busy": "2021-04-04T22:21:26.758726Z",
     "iopub.status.idle": "2021-04-04T22:21:26.786034Z",
     "shell.execute_reply": "2021-04-04T22:21:26.786974Z"
    },
    "papermill": {
     "duration": 0.063546,
     "end_time": "2021-04-04T22:21:26.787228",
     "exception": false,
     "start_time": "2021-04-04T22:21:26.723682",
     "status": "completed"
    },
    "tags": []
   },
   "outputs": [
    {
     "data": {
      "text/html": [
       "<div>\n",
       "<style scoped>\n",
       "    .dataframe tbody tr th:only-of-type {\n",
       "        vertical-align: middle;\n",
       "    }\n",
       "\n",
       "    .dataframe tbody tr th {\n",
       "        vertical-align: top;\n",
       "    }\n",
       "\n",
       "    .dataframe thead th {\n",
       "        text-align: right;\n",
       "    }\n",
       "</style>\n",
       "<table border=\"1\" class=\"dataframe\">\n",
       "  <thead>\n",
       "    <tr style=\"text-align: right;\">\n",
       "      <th></th>\n",
       "      <th>id</th>\n",
       "      <th>loc</th>\n",
       "      <th>v(g)</th>\n",
       "      <th>ev(g)</th>\n",
       "      <th>iv(g)</th>\n",
       "      <th>n</th>\n",
       "      <th>v</th>\n",
       "      <th>l</th>\n",
       "      <th>d</th>\n",
       "      <th>i</th>\n",
       "      <th>...</th>\n",
       "      <th>lOCode</th>\n",
       "      <th>lOComment</th>\n",
       "      <th>lOBlank</th>\n",
       "      <th>locCodeAndComment</th>\n",
       "      <th>uniq_Op</th>\n",
       "      <th>uniq_Opnd</th>\n",
       "      <th>total_Op</th>\n",
       "      <th>total_Opnd</th>\n",
       "      <th>branchCount</th>\n",
       "      <th>defects</th>\n",
       "    </tr>\n",
       "  </thead>\n",
       "  <tbody>\n",
       "    <tr>\n",
       "      <th>0</th>\n",
       "      <td>1</td>\n",
       "      <td>1.1</td>\n",
       "      <td>1.4</td>\n",
       "      <td>1.4</td>\n",
       "      <td>1.4</td>\n",
       "      <td>1.3</td>\n",
       "      <td>1.30</td>\n",
       "      <td>1.30</td>\n",
       "      <td>1.30</td>\n",
       "      <td>1.30</td>\n",
       "      <td>...</td>\n",
       "      <td>2</td>\n",
       "      <td>2</td>\n",
       "      <td>2</td>\n",
       "      <td>2</td>\n",
       "      <td>1.2</td>\n",
       "      <td>1.2</td>\n",
       "      <td>1.2</td>\n",
       "      <td>1.2</td>\n",
       "      <td>1.4</td>\n",
       "      <td>False</td>\n",
       "    </tr>\n",
       "    <tr>\n",
       "      <th>1</th>\n",
       "      <td>2</td>\n",
       "      <td>1.0</td>\n",
       "      <td>1.0</td>\n",
       "      <td>1.0</td>\n",
       "      <td>1.0</td>\n",
       "      <td>1.0</td>\n",
       "      <td>1.00</td>\n",
       "      <td>1.00</td>\n",
       "      <td>1.00</td>\n",
       "      <td>1.00</td>\n",
       "      <td>...</td>\n",
       "      <td>1</td>\n",
       "      <td>1</td>\n",
       "      <td>1</td>\n",
       "      <td>1</td>\n",
       "      <td>1.0</td>\n",
       "      <td>1.0</td>\n",
       "      <td>1.0</td>\n",
       "      <td>1.0</td>\n",
       "      <td>1.0</td>\n",
       "      <td>True</td>\n",
       "    </tr>\n",
       "    <tr>\n",
       "      <th>2</th>\n",
       "      <td>3</td>\n",
       "      <td>83.0</td>\n",
       "      <td>11.0</td>\n",
       "      <td>1.0</td>\n",
       "      <td>11.0</td>\n",
       "      <td>171.0</td>\n",
       "      <td>927.89</td>\n",
       "      <td>0.04</td>\n",
       "      <td>23.04</td>\n",
       "      <td>40.27</td>\n",
       "      <td>...</td>\n",
       "      <td>65</td>\n",
       "      <td>10</td>\n",
       "      <td>6</td>\n",
       "      <td>0</td>\n",
       "      <td>18.0</td>\n",
       "      <td>25.0</td>\n",
       "      <td>107.0</td>\n",
       "      <td>64.0</td>\n",
       "      <td>21.0</td>\n",
       "      <td>True</td>\n",
       "    </tr>\n",
       "    <tr>\n",
       "      <th>3</th>\n",
       "      <td>4</td>\n",
       "      <td>46.0</td>\n",
       "      <td>8.0</td>\n",
       "      <td>6.0</td>\n",
       "      <td>8.0</td>\n",
       "      <td>141.0</td>\n",
       "      <td>769.78</td>\n",
       "      <td>0.07</td>\n",
       "      <td>14.86</td>\n",
       "      <td>51.81</td>\n",
       "      <td>...</td>\n",
       "      <td>37</td>\n",
       "      <td>2</td>\n",
       "      <td>5</td>\n",
       "      <td>0</td>\n",
       "      <td>16.0</td>\n",
       "      <td>28.0</td>\n",
       "      <td>89.0</td>\n",
       "      <td>52.0</td>\n",
       "      <td>15.0</td>\n",
       "      <td>True</td>\n",
       "    </tr>\n",
       "    <tr>\n",
       "      <th>4</th>\n",
       "      <td>5</td>\n",
       "      <td>25.0</td>\n",
       "      <td>3.0</td>\n",
       "      <td>1.0</td>\n",
       "      <td>3.0</td>\n",
       "      <td>58.0</td>\n",
       "      <td>254.75</td>\n",
       "      <td>0.11</td>\n",
       "      <td>9.35</td>\n",
       "      <td>27.25</td>\n",
       "      <td>...</td>\n",
       "      <td>21</td>\n",
       "      <td>0</td>\n",
       "      <td>2</td>\n",
       "      <td>0</td>\n",
       "      <td>11.0</td>\n",
       "      <td>10.0</td>\n",
       "      <td>41.0</td>\n",
       "      <td>17.0</td>\n",
       "      <td>5.0</td>\n",
       "      <td>True</td>\n",
       "    </tr>\n",
       "  </tbody>\n",
       "</table>\n",
       "<p>5 rows × 23 columns</p>\n",
       "</div>"
      ],
      "text/plain": [
       "   id   loc  v(g)  ev(g)  iv(g)      n       v     l      d      i  ...  \\\n",
       "0   1   1.1   1.4    1.4    1.4    1.3    1.30  1.30   1.30   1.30  ...   \n",
       "1   2   1.0   1.0    1.0    1.0    1.0    1.00  1.00   1.00   1.00  ...   \n",
       "2   3  83.0  11.0    1.0   11.0  171.0  927.89  0.04  23.04  40.27  ...   \n",
       "3   4  46.0   8.0    6.0    8.0  141.0  769.78  0.07  14.86  51.81  ...   \n",
       "4   5  25.0   3.0    1.0    3.0   58.0  254.75  0.11   9.35  27.25  ...   \n",
       "\n",
       "   lOCode  lOComment  lOBlank  locCodeAndComment  uniq_Op  uniq_Opnd  \\\n",
       "0       2          2        2                  2      1.2        1.2   \n",
       "1       1          1        1                  1      1.0        1.0   \n",
       "2      65         10        6                  0     18.0       25.0   \n",
       "3      37          2        5                  0     16.0       28.0   \n",
       "4      21          0        2                  0     11.0       10.0   \n",
       "\n",
       "   total_Op  total_Opnd  branchCount  defects  \n",
       "0       1.2         1.2          1.4    False  \n",
       "1       1.0         1.0          1.0     True  \n",
       "2     107.0        64.0         21.0     True  \n",
       "3      89.0        52.0         15.0     True  \n",
       "4      41.0        17.0          5.0     True  \n",
       "\n",
       "[5 rows x 23 columns]"
      ]
     },
     "execution_count": 7,
     "metadata": {},
     "output_type": "execute_result"
    }
   ],
   "source": [
    "df.head()"
   ]
  },
  {
   "cell_type": "code",
   "execution_count": 8,
   "id": "dd6aa244",
   "metadata": {
    "execution": {
     "iopub.execute_input": "2021-04-04T22:21:26.840511Z",
     "iopub.status.busy": "2021-04-04T22:21:26.839360Z",
     "iopub.status.idle": "2021-04-04T22:21:26.842951Z",
     "shell.execute_reply": "2021-04-04T22:21:26.842099Z"
    },
    "papermill": {
     "duration": 0.029975,
     "end_time": "2021-04-04T22:21:26.843120",
     "exception": false,
     "start_time": "2021-04-04T22:21:26.813145",
     "status": "completed"
    },
    "tags": []
   },
   "outputs": [],
   "source": [
    "del df['id']"
   ]
  },
  {
   "cell_type": "code",
   "execution_count": 9,
   "id": "6ff6f5b0",
   "metadata": {
    "execution": {
     "iopub.execute_input": "2021-04-04T22:21:26.896613Z",
     "iopub.status.busy": "2021-04-04T22:21:26.895529Z",
     "iopub.status.idle": "2021-04-04T22:21:26.899565Z",
     "shell.execute_reply": "2021-04-04T22:21:26.898650Z"
    },
    "papermill": {
     "duration": 0.030822,
     "end_time": "2021-04-04T22:21:26.899742",
     "exception": false,
     "start_time": "2021-04-04T22:21:26.868920",
     "status": "completed"
    },
    "tags": []
   },
   "outputs": [],
   "source": [
    "if PROFILE_REPORTING:\n",
    "    ProfileReport(df).to_widgets()"
   ]
  },
  {
   "cell_type": "markdown",
   "id": "1deaf3f0",
   "metadata": {
    "papermill": {
     "duration": 0.020687,
     "end_time": "2021-04-04T22:21:26.950493",
     "exception": false,
     "start_time": "2021-04-04T22:21:26.929806",
     "status": "completed"
    },
    "tags": []
   },
   "source": [
    "# Preprocess"
   ]
  },
  {
   "cell_type": "code",
   "execution_count": 10,
   "id": "9153b2bb",
   "metadata": {
    "execution": {
     "iopub.execute_input": "2021-04-04T22:21:27.000432Z",
     "iopub.status.busy": "2021-04-04T22:21:26.999338Z",
     "iopub.status.idle": "2021-04-04T22:21:27.003336Z",
     "shell.execute_reply": "2021-04-04T22:21:27.002369Z"
    },
    "papermill": {
     "duration": 0.031783,
     "end_time": "2021-04-04T22:21:27.003525",
     "exception": false,
     "start_time": "2021-04-04T22:21:26.971742",
     "status": "completed"
    },
    "tags": []
   },
   "outputs": [],
   "source": [
    "working_df = df.copy()"
   ]
  },
  {
   "cell_type": "code",
   "execution_count": 11,
   "id": "3b26d675",
   "metadata": {
    "execution": {
     "iopub.execute_input": "2021-04-04T22:21:27.058204Z",
     "iopub.status.busy": "2021-04-04T22:21:27.056436Z",
     "iopub.status.idle": "2021-04-04T22:21:27.061347Z",
     "shell.execute_reply": "2021-04-04T22:21:27.062050Z"
    },
    "papermill": {
     "duration": 0.03216,
     "end_time": "2021-04-04T22:21:27.062254",
     "exception": false,
     "start_time": "2021-04-04T22:21:27.030094",
     "status": "completed"
    },
    "tags": []
   },
   "outputs": [],
   "source": [
    "working_df['defects'] = working_df['defects'].replace([False, True], [0, 1])"
   ]
  },
  {
   "cell_type": "code",
   "execution_count": 12,
   "id": "5f306c3e",
   "metadata": {
    "execution": {
     "iopub.execute_input": "2021-04-04T22:21:27.114294Z",
     "iopub.status.busy": "2021-04-04T22:21:27.113341Z",
     "iopub.status.idle": "2021-04-04T22:21:27.115178Z",
     "shell.execute_reply": "2021-04-04T22:21:27.115712Z"
    },
    "papermill": {
     "duration": 0.029785,
     "end_time": "2021-04-04T22:21:27.115867",
     "exception": false,
     "start_time": "2021-04-04T22:21:27.086082",
     "status": "completed"
    },
    "tags": []
   },
   "outputs": [],
   "source": [
    "for col in dataset_config['delete_columns']:\n",
    "    del working_df[col]"
   ]
  },
  {
   "cell_type": "code",
   "execution_count": 13,
   "id": "a55074fa",
   "metadata": {
    "execution": {
     "iopub.execute_input": "2021-04-04T22:21:27.165861Z",
     "iopub.status.busy": "2021-04-04T22:21:27.165156Z",
     "iopub.status.idle": "2021-04-04T22:21:27.179930Z",
     "shell.execute_reply": "2021-04-04T22:21:27.178838Z"
    },
    "papermill": {
     "duration": 0.042654,
     "end_time": "2021-04-04T22:21:27.180137",
     "exception": false,
     "start_time": "2021-04-04T22:21:27.137483",
     "status": "completed"
    },
    "tags": []
   },
   "outputs": [],
   "source": [
    "working_df = working_df.drop_duplicates()"
   ]
  },
  {
   "cell_type": "markdown",
   "id": "a4d52ca6",
   "metadata": {
    "papermill": {
     "duration": 0.022274,
     "end_time": "2021-04-04T22:21:27.226804",
     "exception": false,
     "start_time": "2021-04-04T22:21:27.204530",
     "status": "completed"
    },
    "tags": []
   },
   "source": [
    "# Split"
   ]
  },
  {
   "cell_type": "code",
   "execution_count": 14,
   "id": "3e9ee4b5",
   "metadata": {
    "execution": {
     "iopub.execute_input": "2021-04-04T22:21:27.275915Z",
     "iopub.status.busy": "2021-04-04T22:21:27.274844Z",
     "iopub.status.idle": "2021-04-04T22:21:27.304823Z",
     "shell.execute_reply": "2021-04-04T22:21:27.303951Z"
    },
    "papermill": {
     "duration": 0.056243,
     "end_time": "2021-04-04T22:21:27.304994",
     "exception": false,
     "start_time": "2021-04-04T22:21:27.248751",
     "status": "completed"
    },
    "tags": []
   },
   "outputs": [],
   "source": [
    "from sklearn.model_selection import train_test_split"
   ]
  },
  {
   "cell_type": "code",
   "execution_count": 15,
   "id": "274004ce",
   "metadata": {
    "execution": {
     "iopub.execute_input": "2021-04-04T22:21:27.369888Z",
     "iopub.status.busy": "2021-04-04T22:21:27.368420Z",
     "iopub.status.idle": "2021-04-04T22:21:27.375437Z",
     "shell.execute_reply": "2021-04-04T22:21:27.374647Z"
    },
    "papermill": {
     "duration": 0.039467,
     "end_time": "2021-04-04T22:21:27.375597",
     "exception": false,
     "start_time": "2021-04-04T22:21:27.336130",
     "status": "completed"
    },
    "scrolled": true,
    "tags": []
   },
   "outputs": [],
   "source": [
    "inlier, outlier = working_df[working_df['defects'] == 0], working_df[working_df['defects'] == 1]"
   ]
  },
  {
   "cell_type": "code",
   "execution_count": 16,
   "id": "753c7b03",
   "metadata": {
    "execution": {
     "iopub.execute_input": "2021-04-04T22:21:27.423996Z",
     "iopub.status.busy": "2021-04-04T22:21:27.422981Z",
     "iopub.status.idle": "2021-04-04T22:21:27.426947Z",
     "shell.execute_reply": "2021-04-04T22:21:27.427413Z"
    },
    "papermill": {
     "duration": 0.030227,
     "end_time": "2021-04-04T22:21:27.427557",
     "exception": false,
     "start_time": "2021-04-04T22:21:27.397330",
     "status": "completed"
    },
    "tags": []
   },
   "outputs": [],
   "source": [
    "X_inlier = inlier.copy()\n",
    "y_inlier = X_inlier.pop('defects')\n",
    "X_outlier = outlier.copy()\n",
    "y_outlier = X_outlier.pop('defects')"
   ]
  },
  {
   "cell_type": "code",
   "execution_count": 17,
   "id": "2ba43193",
   "metadata": {
    "execution": {
     "iopub.execute_input": "2021-04-04T22:21:27.482100Z",
     "iopub.status.busy": "2021-04-04T22:21:27.481000Z",
     "iopub.status.idle": "2021-04-04T22:21:27.484567Z",
     "shell.execute_reply": "2021-04-04T22:21:27.483950Z"
    },
    "papermill": {
     "duration": 0.03364,
     "end_time": "2021-04-04T22:21:27.484728",
     "exception": false,
     "start_time": "2021-04-04T22:21:27.451088",
     "status": "completed"
    },
    "tags": []
   },
   "outputs": [],
   "source": [
    "test_size = dataset_config['test_size']\n",
    "random_state = dataset_config['random_state']\n",
    "\n",
    "X_inlier_train, X_inlier_test, y_inlier_train, y_inlier_test = train_test_split(\n",
    "    X_inlier,\n",
    "    y_inlier,\n",
    "    test_size=test_size,\n",
    "    random_state=random_state\n",
    ")"
   ]
  },
  {
   "cell_type": "code",
   "execution_count": 18,
   "id": "c8b58ec3",
   "metadata": {
    "execution": {
     "iopub.execute_input": "2021-04-04T22:21:27.538166Z",
     "iopub.status.busy": "2021-04-04T22:21:27.537255Z",
     "iopub.status.idle": "2021-04-04T22:21:27.539914Z",
     "shell.execute_reply": "2021-04-04T22:21:27.539361Z"
    },
    "papermill": {
     "duration": 0.032708,
     "end_time": "2021-04-04T22:21:27.540042",
     "exception": false,
     "start_time": "2021-04-04T22:21:27.507334",
     "status": "completed"
    },
    "tags": []
   },
   "outputs": [],
   "source": [
    "test_outlier_size = dataset_config['test_outlier_size']\n",
    "if test_outlier_size > 0.0:\n",
    "    X_outlier_train, X_outlier_test, y_outlier_train, y_outlier_test = train_test_split(\n",
    "        X_outlier,\n",
    "        y_outlier,\n",
    "        test_size=test_outlier_size,\n",
    "        random_state=random_state\n",
    "    )\n",
    "else:\n",
    "    X_outlier_train, y_outlier_train = pd.DataFrame(columns=X_outlier.columns), pd.Series(dtype='int64')\n",
    "    X_outlier_test, y_outlier_test = X_outlier.copy(), y_outlier.copy()"
   ]
  },
  {
   "cell_type": "code",
   "execution_count": 19,
   "id": "95991685",
   "metadata": {
    "execution": {
     "iopub.execute_input": "2021-04-04T22:21:27.596817Z",
     "iopub.status.busy": "2021-04-04T22:21:27.594418Z",
     "iopub.status.idle": "2021-04-04T22:21:27.600179Z",
     "shell.execute_reply": "2021-04-04T22:21:27.600688Z"
    },
    "papermill": {
     "duration": 0.036017,
     "end_time": "2021-04-04T22:21:27.600846",
     "exception": false,
     "start_time": "2021-04-04T22:21:27.564829",
     "status": "completed"
    },
    "tags": []
   },
   "outputs": [],
   "source": [
    "X_train, y_train = pd.concat([X_inlier_train, X_outlier_train], ignore_index=True), pd.concat([y_inlier_train, y_outlier_train], ignore_index=True)\n",
    "X_test, y_test = pd.concat([X_inlier_test, X_outlier_test], ignore_index=True), pd.concat([y_inlier_test, y_outlier_test], ignore_index=True)"
   ]
  },
  {
   "cell_type": "markdown",
   "id": "7cde7309",
   "metadata": {
    "papermill": {
     "duration": 0.021571,
     "end_time": "2021-04-04T22:21:27.646585",
     "exception": false,
     "start_time": "2021-04-04T22:21:27.625014",
     "status": "completed"
    },
    "tags": []
   },
   "source": [
    "# Model"
   ]
  },
  {
   "cell_type": "code",
   "execution_count": 20,
   "id": "a02c5c85",
   "metadata": {
    "execution": {
     "iopub.execute_input": "2021-04-04T22:21:27.704071Z",
     "iopub.status.busy": "2021-04-04T22:21:27.703249Z",
     "iopub.status.idle": "2021-04-04T22:21:27.705834Z",
     "shell.execute_reply": "2021-04-04T22:21:27.706438Z"
    },
    "papermill": {
     "duration": 0.038046,
     "end_time": "2021-04-04T22:21:27.706618",
     "exception": false,
     "start_time": "2021-04-04T22:21:27.668572",
     "status": "completed"
    },
    "tags": []
   },
   "outputs": [],
   "source": [
    "from math import sqrt\n",
    "\n",
    "\n",
    "class KNNDataDescription:\n",
    "    def __init__(self, k=5, outlier_threshold=1.0):\n",
    "        self.k = k\n",
    "        self.outlier_threshold = outlier_threshold\n",
    "        self.X = []\n",
    "    \n",
    "    def fit(self, X):\n",
    "        self.X = [features.to_list() for index, features in X.iterrows()]\n",
    "\n",
    "    def predict(self, entries):\n",
    "        return [self.predict_entry(features.to_list()) for index, features in entries.iterrows()]\n",
    "    \n",
    "    def predict_entry(self, entry):\n",
    "        kth_neighbor, kth_distance = self.get_kth_neighbor(entry, self.k)\n",
    "        kth_kth_neighbor, kth_kth_distance = self.get_kth_neighbor(kth_neighbor, self.k + 1)\n",
    "\n",
    "        outlier_score = kth_distance / (kth_kth_distance + 0.000001)\n",
    "\n",
    "        return 1 if outlier_score < self.outlier_threshold else -1\n",
    "        \n",
    "    def euclidean_distance(self, features1, features2):\n",
    "        distance = 0.0\n",
    "        for feat1, feat2 in zip(features1, features2):\n",
    "            distance += (feat1 - feat2)**2\n",
    "                \n",
    "        return sqrt(distance)\n",
    "\n",
    "    def get_neighbors(self, entry, k):\n",
    "        distance_to_data_points = [\n",
    "            (data_point, self.euclidean_distance(entry, data_point))\n",
    "            for data_point in self.X\n",
    "        ]\n",
    "        sorted_by_distance = sorted(distance_to_data_points, key=lambda tup: tup[1])\n",
    "        neighbors = sorted_by_distance[:k]\n",
    "        return neighbors\n",
    "\n",
    "    def get_kth_neighbor(self, entry, k):\n",
    "        neighbors = self.get_neighbors(entry, k)\n",
    "        return neighbors[-1]\n"
   ]
  },
  {
   "cell_type": "code",
   "execution_count": 21,
   "id": "1fa9ec1c",
   "metadata": {
    "execution": {
     "iopub.execute_input": "2021-04-04T22:21:27.762609Z",
     "iopub.status.busy": "2021-04-04T22:21:27.761803Z",
     "iopub.status.idle": "2021-04-04T22:21:27.787117Z",
     "shell.execute_reply": "2021-04-04T22:21:27.786045Z"
    },
    "papermill": {
     "duration": 0.056094,
     "end_time": "2021-04-04T22:21:27.787332",
     "exception": false,
     "start_time": "2021-04-04T22:21:27.731238",
     "status": "completed"
    },
    "tags": []
   },
   "outputs": [],
   "source": [
    "from sklearn.svm import OneClassSVM\n",
    "\n",
    "\n",
    "models = {\n",
    "    'oneclasssvm': OneClassSVM,\n",
    "    'knndatadescription': KNNDataDescription,\n",
    "}"
   ]
  },
  {
   "cell_type": "code",
   "execution_count": 22,
   "id": "4d72a0b1",
   "metadata": {
    "execution": {
     "iopub.execute_input": "2021-04-04T22:21:27.848444Z",
     "iopub.status.busy": "2021-04-04T22:21:27.847739Z",
     "iopub.status.idle": "2021-04-04T22:21:27.850266Z",
     "shell.execute_reply": "2021-04-04T22:21:27.850774Z"
    },
    "papermill": {
     "duration": 0.031346,
     "end_time": "2021-04-04T22:21:27.850930",
     "exception": false,
     "start_time": "2021-04-04T22:21:27.819584",
     "status": "completed"
    },
    "scrolled": true,
    "tags": []
   },
   "outputs": [],
   "source": [
    "model_cls = models[model_config['model_type']]\n",
    "model = model_cls(**model_config['hyperparameters'])"
   ]
  },
  {
   "cell_type": "markdown",
   "id": "e00cff3b",
   "metadata": {
    "papermill": {
     "duration": 0.022002,
     "end_time": "2021-04-04T22:21:27.896563",
     "exception": false,
     "start_time": "2021-04-04T22:21:27.874561",
     "status": "completed"
    },
    "tags": []
   },
   "source": [
    "# Fit"
   ]
  },
  {
   "cell_type": "code",
   "execution_count": 23,
   "id": "8b2ded89",
   "metadata": {
    "execution": {
     "iopub.execute_input": "2021-04-04T22:21:27.946170Z",
     "iopub.status.busy": "2021-04-04T22:21:27.945077Z",
     "iopub.status.idle": "2021-04-04T22:21:27.997838Z",
     "shell.execute_reply": "2021-04-04T22:21:27.996664Z"
    },
    "papermill": {
     "duration": 0.079616,
     "end_time": "2021-04-04T22:21:27.998053",
     "exception": false,
     "start_time": "2021-04-04T22:21:27.918437",
     "status": "completed"
    },
    "tags": []
   },
   "outputs": [],
   "source": [
    "model.fit(X_train)"
   ]
  },
  {
   "cell_type": "markdown",
   "id": "f99999f7",
   "metadata": {
    "papermill": {
     "duration": 0.024099,
     "end_time": "2021-04-04T22:21:28.053758",
     "exception": false,
     "start_time": "2021-04-04T22:21:28.029659",
     "status": "completed"
    },
    "tags": []
   },
   "source": [
    "# Predict"
   ]
  },
  {
   "cell_type": "code",
   "execution_count": 24,
   "id": "6536fbf7",
   "metadata": {
    "execution": {
     "iopub.execute_input": "2021-04-04T22:21:28.104500Z",
     "iopub.status.busy": "2021-04-04T22:21:28.103599Z",
     "iopub.status.idle": "2021-04-04T22:21:30.968972Z",
     "shell.execute_reply": "2021-04-04T22:21:30.968100Z"
    },
    "papermill": {
     "duration": 2.89291,
     "end_time": "2021-04-04T22:21:30.969141",
     "exception": false,
     "start_time": "2021-04-04T22:21:28.076231",
     "status": "completed"
    },
    "tags": []
   },
   "outputs": [],
   "source": [
    "predictions = model.predict(X_test)"
   ]
  },
  {
   "cell_type": "markdown",
   "id": "aa1c9881",
   "metadata": {
    "papermill": {
     "duration": 0.023682,
     "end_time": "2021-04-04T22:21:31.021940",
     "exception": false,
     "start_time": "2021-04-04T22:21:30.998258",
     "status": "completed"
    },
    "tags": []
   },
   "source": [
    "# Evaluate"
   ]
  },
  {
   "cell_type": "code",
   "execution_count": 25,
   "id": "894f0f04",
   "metadata": {
    "execution": {
     "iopub.execute_input": "2021-04-04T22:21:31.072220Z",
     "iopub.status.busy": "2021-04-04T22:21:31.071480Z",
     "iopub.status.idle": "2021-04-04T22:21:31.074026Z",
     "shell.execute_reply": "2021-04-04T22:21:31.073510Z"
    },
    "papermill": {
     "duration": 0.029442,
     "end_time": "2021-04-04T22:21:31.074149",
     "exception": false,
     "start_time": "2021-04-04T22:21:31.044707",
     "status": "completed"
    },
    "tags": []
   },
   "outputs": [],
   "source": [
    "from sklearn.metrics import f1_score"
   ]
  },
  {
   "cell_type": "code",
   "execution_count": 26,
   "id": "211744d3",
   "metadata": {
    "execution": {
     "iopub.execute_input": "2021-04-04T22:21:31.131333Z",
     "iopub.status.busy": "2021-04-04T22:21:31.130532Z",
     "iopub.status.idle": "2021-04-04T22:21:31.132334Z",
     "shell.execute_reply": "2021-04-04T22:21:31.132826Z"
    },
    "papermill": {
     "duration": 0.032832,
     "end_time": "2021-04-04T22:21:31.132977",
     "exception": false,
     "start_time": "2021-04-04T22:21:31.100145",
     "status": "completed"
    },
    "tags": []
   },
   "outputs": [],
   "source": [
    "y_test = y_test.replace([0, 1], [1, -1])"
   ]
  },
  {
   "cell_type": "code",
   "execution_count": 27,
   "id": "d68a9204",
   "metadata": {
    "execution": {
     "iopub.execute_input": "2021-04-04T22:21:31.187299Z",
     "iopub.status.busy": "2021-04-04T22:21:31.186594Z",
     "iopub.status.idle": "2021-04-04T22:21:31.188742Z",
     "shell.execute_reply": "2021-04-04T22:21:31.189257Z"
    },
    "papermill": {
     "duration": 0.032565,
     "end_time": "2021-04-04T22:21:31.189411",
     "exception": false,
     "start_time": "2021-04-04T22:21:31.156846",
     "status": "completed"
    },
    "tags": []
   },
   "outputs": [],
   "source": [
    "def evaluate(truths, predictions, pos_label, neg_label):\n",
    "    TP = 0\n",
    "    FP = 0\n",
    "    TN = 0\n",
    "    FN = 0\n",
    "\n",
    "    for truth, pred in zip(truths, predictions): \n",
    "        if truth == pred == pos_label:\n",
    "           TP += 1\n",
    "        elif pred == pos_label and truth == neg_label:\n",
    "           FP += 1\n",
    "        elif truth == pred == neg_label:\n",
    "           TN += 1\n",
    "        elif pred == neg_label and truth == pos_label:\n",
    "           FN += 1\n",
    "        else:\n",
    "            __import__(\"ipdb\").set_trace()\n",
    "\n",
    "    precision = TP / (TP + FP)\n",
    "    sensitivity = TP / (TP + FN)\n",
    "    \n",
    "    return {\n",
    "        'true_pos': TP,\n",
    "        'false_pos': FP,\n",
    "        'false_neg': FN,\n",
    "        'true_neg': TN,\n",
    "        'precision': precision,\n",
    "        'sensitivity': sensitivity,\n",
    "        'f1': (2 * (precision * sensitivity)) / (precision + sensitivity)\n",
    "    }\n",
    "\n",
    "score = evaluate(y_test, predictions, pos_label=-1, neg_label=1)"
   ]
  },
  {
   "cell_type": "markdown",
   "id": "246fa8c7",
   "metadata": {
    "papermill": {
     "duration": 0.025307,
     "end_time": "2021-04-04T22:21:31.239960",
     "exception": false,
     "start_time": "2021-04-04T22:21:31.214653",
     "status": "completed"
    },
    "tags": []
   },
   "source": [
    "# Report"
   ]
  },
  {
   "cell_type": "code",
   "execution_count": 28,
   "id": "cfb47f85",
   "metadata": {
    "execution": {
     "iopub.execute_input": "2021-04-04T22:21:31.292425Z",
     "iopub.status.busy": "2021-04-04T22:21:31.291740Z",
     "iopub.status.idle": "2021-04-04T22:21:31.295000Z",
     "shell.execute_reply": "2021-04-04T22:21:31.294322Z"
    },
    "papermill": {
     "duration": 0.032053,
     "end_time": "2021-04-04T22:21:31.295138",
     "exception": false,
     "start_time": "2021-04-04T22:21:31.263085",
     "status": "completed"
    },
    "tags": []
   },
   "outputs": [],
   "source": [
    "import csv\n",
    "\n",
    "\n",
    "dataset_config_name = DATASET_CONFIG_PATH.split('/')[-1].split('.')[0]\n",
    "model_config_name = MODEL_CONFIG_PATH.split('/')[-1].split('.')[0]\n",
    "configuration = f\"dataset_{dataset_config_name}-model_{model_config_name}\"\n",
    "\n",
    "with open('results.csv', 'a') as f:\n",
    "    report = dict({'configuration': configuration}, **score)\n",
    "    writer = csv.DictWriter(f, report.keys())\n",
    "    writer.writerow(report)"
   ]
  }
 ],
 "metadata": {
  "celltoolbar": "Tags",
  "kernelspec": {
   "display_name": "Python 3",
   "language": "python",
   "name": "python3"
  },
  "language_info": {
   "codemirror_mode": {
    "name": "ipython",
    "version": 3
   },
   "file_extension": ".py",
   "mimetype": "text/x-python",
   "name": "python",
   "nbconvert_exporter": "python",
   "pygments_lexer": "ipython3",
   "version": "3.9.1"
  },
  "papermill": {
   "default_parameters": {},
   "duration": 7.777816,
   "end_time": "2021-04-04T22:21:31.932413",
   "environment_variables": {},
   "exception": null,
   "input_path": "main.ipynb",
   "output_path": "runs/dataset_000001-model_000001.ipynb",
   "parameters": {
    "DATASET_CONFIG_PATH": "config/dataset/000001.json",
    "MODEL_CONFIG_PATH": "config/model/000001.json",
    "PROFILE_REPORTING": false
   },
   "start_time": "2021-04-04T22:21:24.154597",
   "version": "2.3.3"
  }
 },
 "nbformat": 4,
 "nbformat_minor": 5
}