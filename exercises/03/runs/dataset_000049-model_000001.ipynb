{
 "cells": [
  {
   "cell_type": "markdown",
   "id": "51c71c25",
   "metadata": {
    "papermill": {
     "duration": 0.022967,
     "end_time": "2021-04-04T22:48:51.806202",
     "exception": false,
     "start_time": "2021-04-04T22:48:51.783235",
     "status": "completed"
    },
    "tags": []
   },
   "source": [
    "# Parametrizing"
   ]
  },
  {
   "cell_type": "code",
   "execution_count": 1,
   "id": "3b136394",
   "metadata": {
    "execution": {
     "iopub.execute_input": "2021-04-04T22:48:51.862671Z",
     "iopub.status.busy": "2021-04-04T22:48:51.862077Z",
     "iopub.status.idle": "2021-04-04T22:48:51.864006Z",
     "shell.execute_reply": "2021-04-04T22:48:51.864486Z"
    },
    "papermill": {
     "duration": 0.038411,
     "end_time": "2021-04-04T22:48:51.864692",
     "exception": false,
     "start_time": "2021-04-04T22:48:51.826281",
     "status": "completed"
    },
    "tags": [
     "parameters"
    ]
   },
   "outputs": [],
   "source": [
    "DATASET_CONFIG_PATH = 'config/dataset/kc1_001.json'\n",
    "MODEL_CONFIG_PATH = 'config/model/knndd_001.json'\n",
    "PROFILE_REPORTING = False"
   ]
  },
  {
   "cell_type": "code",
   "execution_count": 2,
   "id": "d22eb374",
   "metadata": {
    "execution": {
     "iopub.execute_input": "2021-04-04T22:48:51.911645Z",
     "iopub.status.busy": "2021-04-04T22:48:51.911063Z",
     "iopub.status.idle": "2021-04-04T22:48:51.912969Z",
     "shell.execute_reply": "2021-04-04T22:48:51.913438Z"
    },
    "papermill": {
     "duration": 0.028221,
     "end_time": "2021-04-04T22:48:51.913581",
     "exception": false,
     "start_time": "2021-04-04T22:48:51.885360",
     "status": "completed"
    },
    "tags": [
     "injected-parameters"
    ]
   },
   "outputs": [],
   "source": [
    "# Parameters\n",
    "DATASET_CONFIG_PATH = \"config/dataset/000049.json\"\n",
    "MODEL_CONFIG_PATH = \"config/model/000001.json\"\n",
    "PROFILE_REPORTING = False\n"
   ]
  },
  {
   "cell_type": "code",
   "execution_count": 3,
   "id": "b80f2a10",
   "metadata": {
    "execution": {
     "iopub.execute_input": "2021-04-04T22:48:51.969177Z",
     "iopub.status.busy": "2021-04-04T22:48:51.968331Z",
     "iopub.status.idle": "2021-04-04T22:48:51.973555Z",
     "shell.execute_reply": "2021-04-04T22:48:51.971324Z"
    },
    "papermill": {
     "duration": 0.039318,
     "end_time": "2021-04-04T22:48:51.974054",
     "exception": false,
     "start_time": "2021-04-04T22:48:51.934736",
     "status": "completed"
    },
    "tags": []
   },
   "outputs": [],
   "source": [
    "import json\n",
    "\n",
    "\n",
    "with open(DATASET_CONFIG_PATH) as f:\n",
    "    dataset_config = json.load(f)\n",
    "\n",
    "with open(MODEL_CONFIG_PATH) as f:\n",
    "    model_config = json.load(f)"
   ]
  },
  {
   "cell_type": "markdown",
   "id": "9a4b0e2d",
   "metadata": {
    "papermill": {
     "duration": 0.020616,
     "end_time": "2021-04-04T22:48:52.017919",
     "exception": false,
     "start_time": "2021-04-04T22:48:51.997303",
     "status": "completed"
    },
    "tags": []
   },
   "source": [
    "# Profiling"
   ]
  },
  {
   "cell_type": "code",
   "execution_count": 4,
   "id": "a3e0289b",
   "metadata": {
    "execution": {
     "iopub.execute_input": "2021-04-04T22:48:52.089016Z",
     "iopub.status.busy": "2021-04-04T22:48:52.088235Z",
     "iopub.status.idle": "2021-04-04T22:48:53.599292Z",
     "shell.execute_reply": "2021-04-04T22:48:53.599872Z"
    },
    "papermill": {
     "duration": 1.54938,
     "end_time": "2021-04-04T22:48:53.600041",
     "exception": false,
     "start_time": "2021-04-04T22:48:52.050661",
     "status": "completed"
    },
    "tags": []
   },
   "outputs": [],
   "source": [
    "import pandas as pd\n",
    "from pandas_profiling import ProfileReport"
   ]
  },
  {
   "cell_type": "code",
   "execution_count": 5,
   "id": "ee6c0666",
   "metadata": {
    "execution": {
     "iopub.execute_input": "2021-04-04T22:48:53.654925Z",
     "iopub.status.busy": "2021-04-04T22:48:53.654258Z",
     "iopub.status.idle": "2021-04-04T22:48:53.665101Z",
     "shell.execute_reply": "2021-04-04T22:48:53.664496Z"
    },
    "papermill": {
     "duration": 0.037689,
     "end_time": "2021-04-04T22:48:53.665222",
     "exception": false,
     "start_time": "2021-04-04T22:48:53.627533",
     "status": "completed"
    },
    "tags": []
   },
   "outputs": [],
   "source": [
    "df = pd.read_csv(dataset_config['dataset_path'])"
   ]
  },
  {
   "cell_type": "code",
   "execution_count": 6,
   "id": "7eca6c4a",
   "metadata": {
    "execution": {
     "iopub.execute_input": "2021-04-04T22:48:53.722351Z",
     "iopub.status.busy": "2021-04-04T22:48:53.720172Z",
     "iopub.status.idle": "2021-04-04T22:48:53.737829Z",
     "shell.execute_reply": "2021-04-04T22:48:53.738308Z"
    },
    "papermill": {
     "duration": 0.048875,
     "end_time": "2021-04-04T22:48:53.738455",
     "exception": false,
     "start_time": "2021-04-04T22:48:53.689580",
     "status": "completed"
    },
    "tags": []
   },
   "outputs": [
    {
     "name": "stdout",
     "output_type": "stream",
     "text": [
      "<class 'pandas.core.frame.DataFrame'>\n",
      "RangeIndex: 2109 entries, 0 to 2108\n",
      "Data columns (total 23 columns):\n",
      " #   Column             Non-Null Count  Dtype  \n",
      "---  ------             --------------  -----  \n",
      " 0   id                 2109 non-null   int64  \n",
      " 1   loc                2109 non-null   float64\n",
      " 2   v(g)               2109 non-null   float64\n",
      " 3   ev(g)              2109 non-null   float64\n",
      " 4   iv(g)              2109 non-null   float64\n",
      " 5   n                  2109 non-null   float64\n",
      " 6   v                  2109 non-null   float64\n",
      " 7   l                  2109 non-null   float64\n",
      " 8   d                  2109 non-null   float64\n",
      " 9   i                  2109 non-null   float64\n",
      " 10  e                  2109 non-null   float64\n",
      " 11  b                  2109 non-null   float64\n",
      " 12  t                  2109 non-null   float64\n",
      " 13  lOCode             2109 non-null   int64  \n",
      " 14  lOComment          2109 non-null   int64  \n",
      " 15  lOBlank            2109 non-null   int64  \n",
      " 16  locCodeAndComment  2109 non-null   int64  \n",
      " 17  uniq_Op            2109 non-null   float64\n",
      " 18  uniq_Opnd          2109 non-null   float64\n",
      " 19  total_Op           2109 non-null   float64\n",
      " 20  total_Opnd         2109 non-null   float64\n",
      " 21  branchCount        2109 non-null   float64\n",
      " 22  defects            2109 non-null   bool   \n",
      "dtypes: bool(1), float64(17), int64(5)\n",
      "memory usage: 364.7 KB\n"
     ]
    }
   ],
   "source": [
    "df.info()"
   ]
  },
  {
   "cell_type": "code",
   "execution_count": 7,
   "id": "3638e5e8",
   "metadata": {
    "execution": {
     "iopub.execute_input": "2021-04-04T22:48:53.795777Z",
     "iopub.status.busy": "2021-04-04T22:48:53.790409Z",
     "iopub.status.idle": "2021-04-04T22:48:53.820126Z",
     "shell.execute_reply": "2021-04-04T22:48:53.820607Z"
    },
    "papermill": {
     "duration": 0.056856,
     "end_time": "2021-04-04T22:48:53.820756",
     "exception": false,
     "start_time": "2021-04-04T22:48:53.763900",
     "status": "completed"
    },
    "tags": []
   },
   "outputs": [
    {
     "data": {
      "text/html": [
       "<div>\n",
       "<style scoped>\n",
       "    .dataframe tbody tr th:only-of-type {\n",
       "        vertical-align: middle;\n",
       "    }\n",
       "\n",
       "    .dataframe tbody tr th {\n",
       "        vertical-align: top;\n",
       "    }\n",
       "\n",
       "    .dataframe thead th {\n",
       "        text-align: right;\n",
       "    }\n",
       "</style>\n",
       "<table border=\"1\" class=\"dataframe\">\n",
       "  <thead>\n",
       "    <tr style=\"text-align: right;\">\n",
       "      <th></th>\n",
       "      <th>id</th>\n",
       "      <th>loc</th>\n",
       "      <th>v(g)</th>\n",
       "      <th>ev(g)</th>\n",
       "      <th>iv(g)</th>\n",
       "      <th>n</th>\n",
       "      <th>v</th>\n",
       "      <th>l</th>\n",
       "      <th>d</th>\n",
       "      <th>i</th>\n",
       "      <th>...</th>\n",
       "      <th>lOCode</th>\n",
       "      <th>lOComment</th>\n",
       "      <th>lOBlank</th>\n",
       "      <th>locCodeAndComment</th>\n",
       "      <th>uniq_Op</th>\n",
       "      <th>uniq_Opnd</th>\n",
       "      <th>total_Op</th>\n",
       "      <th>total_Opnd</th>\n",
       "      <th>branchCount</th>\n",
       "      <th>defects</th>\n",
       "    </tr>\n",
       "  </thead>\n",
       "  <tbody>\n",
       "    <tr>\n",
       "      <th>0</th>\n",
       "      <td>1</td>\n",
       "      <td>1.1</td>\n",
       "      <td>1.4</td>\n",
       "      <td>1.4</td>\n",
       "      <td>1.4</td>\n",
       "      <td>1.3</td>\n",
       "      <td>1.30</td>\n",
       "      <td>1.30</td>\n",
       "      <td>1.30</td>\n",
       "      <td>1.30</td>\n",
       "      <td>...</td>\n",
       "      <td>2</td>\n",
       "      <td>2</td>\n",
       "      <td>2</td>\n",
       "      <td>2</td>\n",
       "      <td>1.2</td>\n",
       "      <td>1.2</td>\n",
       "      <td>1.2</td>\n",
       "      <td>1.2</td>\n",
       "      <td>1.4</td>\n",
       "      <td>False</td>\n",
       "    </tr>\n",
       "    <tr>\n",
       "      <th>1</th>\n",
       "      <td>2</td>\n",
       "      <td>1.0</td>\n",
       "      <td>1.0</td>\n",
       "      <td>1.0</td>\n",
       "      <td>1.0</td>\n",
       "      <td>1.0</td>\n",
       "      <td>1.00</td>\n",
       "      <td>1.00</td>\n",
       "      <td>1.00</td>\n",
       "      <td>1.00</td>\n",
       "      <td>...</td>\n",
       "      <td>1</td>\n",
       "      <td>1</td>\n",
       "      <td>1</td>\n",
       "      <td>1</td>\n",
       "      <td>1.0</td>\n",
       "      <td>1.0</td>\n",
       "      <td>1.0</td>\n",
       "      <td>1.0</td>\n",
       "      <td>1.0</td>\n",
       "      <td>True</td>\n",
       "    </tr>\n",
       "    <tr>\n",
       "      <th>2</th>\n",
       "      <td>3</td>\n",
       "      <td>83.0</td>\n",
       "      <td>11.0</td>\n",
       "      <td>1.0</td>\n",
       "      <td>11.0</td>\n",
       "      <td>171.0</td>\n",
       "      <td>927.89</td>\n",
       "      <td>0.04</td>\n",
       "      <td>23.04</td>\n",
       "      <td>40.27</td>\n",
       "      <td>...</td>\n",
       "      <td>65</td>\n",
       "      <td>10</td>\n",
       "      <td>6</td>\n",
       "      <td>0</td>\n",
       "      <td>18.0</td>\n",
       "      <td>25.0</td>\n",
       "      <td>107.0</td>\n",
       "      <td>64.0</td>\n",
       "      <td>21.0</td>\n",
       "      <td>True</td>\n",
       "    </tr>\n",
       "    <tr>\n",
       "      <th>3</th>\n",
       "      <td>4</td>\n",
       "      <td>46.0</td>\n",
       "      <td>8.0</td>\n",
       "      <td>6.0</td>\n",
       "      <td>8.0</td>\n",
       "      <td>141.0</td>\n",
       "      <td>769.78</td>\n",
       "      <td>0.07</td>\n",
       "      <td>14.86</td>\n",
       "      <td>51.81</td>\n",
       "      <td>...</td>\n",
       "      <td>37</td>\n",
       "      <td>2</td>\n",
       "      <td>5</td>\n",
       "      <td>0</td>\n",
       "      <td>16.0</td>\n",
       "      <td>28.0</td>\n",
       "      <td>89.0</td>\n",
       "      <td>52.0</td>\n",
       "      <td>15.0</td>\n",
       "      <td>True</td>\n",
       "    </tr>\n",
       "    <tr>\n",
       "      <th>4</th>\n",
       "      <td>5</td>\n",
       "      <td>25.0</td>\n",
       "      <td>3.0</td>\n",
       "      <td>1.0</td>\n",
       "      <td>3.0</td>\n",
       "      <td>58.0</td>\n",
       "      <td>254.75</td>\n",
       "      <td>0.11</td>\n",
       "      <td>9.35</td>\n",
       "      <td>27.25</td>\n",
       "      <td>...</td>\n",
       "      <td>21</td>\n",
       "      <td>0</td>\n",
       "      <td>2</td>\n",
       "      <td>0</td>\n",
       "      <td>11.0</td>\n",
       "      <td>10.0</td>\n",
       "      <td>41.0</td>\n",
       "      <td>17.0</td>\n",
       "      <td>5.0</td>\n",
       "      <td>True</td>\n",
       "    </tr>\n",
       "  </tbody>\n",
       "</table>\n",
       "<p>5 rows × 23 columns</p>\n",
       "</div>"
      ],
      "text/plain": [
       "   id   loc  v(g)  ev(g)  iv(g)      n       v     l      d      i  ...  \\\n",
       "0   1   1.1   1.4    1.4    1.4    1.3    1.30  1.30   1.30   1.30  ...   \n",
       "1   2   1.0   1.0    1.0    1.0    1.0    1.00  1.00   1.00   1.00  ...   \n",
       "2   3  83.0  11.0    1.0   11.0  171.0  927.89  0.04  23.04  40.27  ...   \n",
       "3   4  46.0   8.0    6.0    8.0  141.0  769.78  0.07  14.86  51.81  ...   \n",
       "4   5  25.0   3.0    1.0    3.0   58.0  254.75  0.11   9.35  27.25  ...   \n",
       "\n",
       "   lOCode  lOComment  lOBlank  locCodeAndComment  uniq_Op  uniq_Opnd  \\\n",
       "0       2          2        2                  2      1.2        1.2   \n",
       "1       1          1        1                  1      1.0        1.0   \n",
       "2      65         10        6                  0     18.0       25.0   \n",
       "3      37          2        5                  0     16.0       28.0   \n",
       "4      21          0        2                  0     11.0       10.0   \n",
       "\n",
       "   total_Op  total_Opnd  branchCount  defects  \n",
       "0       1.2         1.2          1.4    False  \n",
       "1       1.0         1.0          1.0     True  \n",
       "2     107.0        64.0         21.0     True  \n",
       "3      89.0        52.0         15.0     True  \n",
       "4      41.0        17.0          5.0     True  \n",
       "\n",
       "[5 rows x 23 columns]"
      ]
     },
     "execution_count": 7,
     "metadata": {},
     "output_type": "execute_result"
    }
   ],
   "source": [
    "df.head()"
   ]
  },
  {
   "cell_type": "code",
   "execution_count": 8,
   "id": "733e95eb",
   "metadata": {
    "execution": {
     "iopub.execute_input": "2021-04-04T22:48:53.887513Z",
     "iopub.status.busy": "2021-04-04T22:48:53.886281Z",
     "iopub.status.idle": "2021-04-04T22:48:53.888892Z",
     "shell.execute_reply": "2021-04-04T22:48:53.889520Z"
    },
    "papermill": {
     "duration": 0.044471,
     "end_time": "2021-04-04T22:48:53.889847",
     "exception": false,
     "start_time": "2021-04-04T22:48:53.845376",
     "status": "completed"
    },
    "tags": []
   },
   "outputs": [],
   "source": [
    "del df['id']"
   ]
  },
  {
   "cell_type": "code",
   "execution_count": 9,
   "id": "6ff6f5b0",
   "metadata": {
    "execution": {
     "iopub.execute_input": "2021-04-04T22:48:53.944798Z",
     "iopub.status.busy": "2021-04-04T22:48:53.942740Z",
     "iopub.status.idle": "2021-04-04T22:48:53.947046Z",
     "shell.execute_reply": "2021-04-04T22:48:53.948070Z"
    },
    "papermill": {
     "duration": 0.031413,
     "end_time": "2021-04-04T22:48:53.948240",
     "exception": false,
     "start_time": "2021-04-04T22:48:53.916827",
     "status": "completed"
    },
    "tags": []
   },
   "outputs": [],
   "source": [
    "if PROFILE_REPORTING:\n",
    "    ProfileReport(df).to_widgets()"
   ]
  },
  {
   "cell_type": "markdown",
   "id": "1deaf3f0",
   "metadata": {
    "papermill": {
     "duration": 0.032208,
     "end_time": "2021-04-04T22:48:54.002648",
     "exception": false,
     "start_time": "2021-04-04T22:48:53.970440",
     "status": "completed"
    },
    "tags": []
   },
   "source": [
    "# Preprocess"
   ]
  },
  {
   "cell_type": "code",
   "execution_count": 10,
   "id": "1513e563",
   "metadata": {
    "execution": {
     "iopub.execute_input": "2021-04-04T22:48:54.066350Z",
     "iopub.status.busy": "2021-04-04T22:48:54.065734Z",
     "iopub.status.idle": "2021-04-04T22:48:54.068557Z",
     "shell.execute_reply": "2021-04-04T22:48:54.067974Z"
    },
    "papermill": {
     "duration": 0.032842,
     "end_time": "2021-04-04T22:48:54.068682",
     "exception": false,
     "start_time": "2021-04-04T22:48:54.035840",
     "status": "completed"
    },
    "tags": []
   },
   "outputs": [],
   "source": [
    "working_df = df.copy()"
   ]
  },
  {
   "cell_type": "code",
   "execution_count": 11,
   "id": "3b26d675",
   "metadata": {
    "execution": {
     "iopub.execute_input": "2021-04-04T22:48:54.127761Z",
     "iopub.status.busy": "2021-04-04T22:48:54.126840Z",
     "iopub.status.idle": "2021-04-04T22:48:54.130522Z",
     "shell.execute_reply": "2021-04-04T22:48:54.131222Z"
    },
    "papermill": {
     "duration": 0.036575,
     "end_time": "2021-04-04T22:48:54.131436",
     "exception": false,
     "start_time": "2021-04-04T22:48:54.094861",
     "status": "completed"
    },
    "tags": []
   },
   "outputs": [],
   "source": [
    "working_df['defects'] = working_df['defects'].replace([False, True], [0, 1])"
   ]
  },
  {
   "cell_type": "code",
   "execution_count": 12,
   "id": "eb48604f",
   "metadata": {
    "execution": {
     "iopub.execute_input": "2021-04-04T22:48:54.182664Z",
     "iopub.status.busy": "2021-04-04T22:48:54.181756Z",
     "iopub.status.idle": "2021-04-04T22:48:54.183741Z",
     "shell.execute_reply": "2021-04-04T22:48:54.184342Z"
    },
    "papermill": {
     "duration": 0.028414,
     "end_time": "2021-04-04T22:48:54.184547",
     "exception": false,
     "start_time": "2021-04-04T22:48:54.156133",
     "status": "completed"
    },
    "tags": []
   },
   "outputs": [],
   "source": [
    "for col in dataset_config['delete_columns']:\n",
    "    del working_df[col]"
   ]
  },
  {
   "cell_type": "code",
   "execution_count": 13,
   "id": "9a17bc29",
   "metadata": {
    "execution": {
     "iopub.execute_input": "2021-04-04T22:48:54.242719Z",
     "iopub.status.busy": "2021-04-04T22:48:54.241607Z",
     "iopub.status.idle": "2021-04-04T22:48:54.255253Z",
     "shell.execute_reply": "2021-04-04T22:48:54.253998Z"
    },
    "papermill": {
     "duration": 0.047093,
     "end_time": "2021-04-04T22:48:54.255565",
     "exception": false,
     "start_time": "2021-04-04T22:48:54.208472",
     "status": "completed"
    },
    "tags": []
   },
   "outputs": [],
   "source": [
    "working_df = working_df.drop_duplicates()"
   ]
  },
  {
   "cell_type": "markdown",
   "id": "a4d52ca6",
   "metadata": {
    "papermill": {
     "duration": 0.026131,
     "end_time": "2021-04-04T22:48:54.303952",
     "exception": false,
     "start_time": "2021-04-04T22:48:54.277821",
     "status": "completed"
    },
    "tags": []
   },
   "source": [
    "# Split"
   ]
  },
  {
   "cell_type": "code",
   "execution_count": 14,
   "id": "3e9ee4b5",
   "metadata": {
    "execution": {
     "iopub.execute_input": "2021-04-04T22:48:54.363718Z",
     "iopub.status.busy": "2021-04-04T22:48:54.362087Z",
     "iopub.status.idle": "2021-04-04T22:48:54.412891Z",
     "shell.execute_reply": "2021-04-04T22:48:54.413370Z"
    },
    "papermill": {
     "duration": 0.086945,
     "end_time": "2021-04-04T22:48:54.413519",
     "exception": false,
     "start_time": "2021-04-04T22:48:54.326574",
     "status": "completed"
    },
    "tags": []
   },
   "outputs": [],
   "source": [
    "from sklearn.model_selection import train_test_split"
   ]
  },
  {
   "cell_type": "code",
   "execution_count": 15,
   "id": "274004ce",
   "metadata": {
    "execution": {
     "iopub.execute_input": "2021-04-04T22:48:54.465902Z",
     "iopub.status.busy": "2021-04-04T22:48:54.465285Z",
     "iopub.status.idle": "2021-04-04T22:48:54.469687Z",
     "shell.execute_reply": "2021-04-04T22:48:54.470158Z"
    },
    "papermill": {
     "duration": 0.031879,
     "end_time": "2021-04-04T22:48:54.470307",
     "exception": false,
     "start_time": "2021-04-04T22:48:54.438428",
     "status": "completed"
    },
    "scrolled": true,
    "tags": []
   },
   "outputs": [],
   "source": [
    "inlier, outlier = working_df[working_df['defects'] == 0], working_df[working_df['defects'] == 1]"
   ]
  },
  {
   "cell_type": "code",
   "execution_count": 16,
   "id": "753c7b03",
   "metadata": {
    "execution": {
     "iopub.execute_input": "2021-04-04T22:48:54.528440Z",
     "iopub.status.busy": "2021-04-04T22:48:54.527555Z",
     "iopub.status.idle": "2021-04-04T22:48:54.530488Z",
     "shell.execute_reply": "2021-04-04T22:48:54.530956Z"
    },
    "papermill": {
     "duration": 0.03527,
     "end_time": "2021-04-04T22:48:54.531100",
     "exception": false,
     "start_time": "2021-04-04T22:48:54.495830",
     "status": "completed"
    },
    "tags": []
   },
   "outputs": [],
   "source": [
    "X_inlier = inlier.copy()\n",
    "y_inlier = X_inlier.pop('defects')\n",
    "X_outlier = outlier.copy()\n",
    "y_outlier = X_outlier.pop('defects')"
   ]
  },
  {
   "cell_type": "code",
   "execution_count": 17,
   "id": "2ba43193",
   "metadata": {
    "execution": {
     "iopub.execute_input": "2021-04-04T22:48:54.586206Z",
     "iopub.status.busy": "2021-04-04T22:48:54.585345Z",
     "iopub.status.idle": "2021-04-04T22:48:54.587400Z",
     "shell.execute_reply": "2021-04-04T22:48:54.588189Z"
    },
    "papermill": {
     "duration": 0.031611,
     "end_time": "2021-04-04T22:48:54.588360",
     "exception": false,
     "start_time": "2021-04-04T22:48:54.556749",
     "status": "completed"
    },
    "tags": []
   },
   "outputs": [],
   "source": [
    "test_size = dataset_config['test_size']\n",
    "random_state = dataset_config['random_state']\n",
    "\n",
    "X_inlier_train, X_inlier_test, y_inlier_train, y_inlier_test = train_test_split(\n",
    "    X_inlier,\n",
    "    y_inlier,\n",
    "    test_size=test_size,\n",
    "    random_state=random_state\n",
    ")"
   ]
  },
  {
   "cell_type": "code",
   "execution_count": 18,
   "id": "0b7582ca",
   "metadata": {
    "execution": {
     "iopub.execute_input": "2021-04-04T22:48:54.669299Z",
     "iopub.status.busy": "2021-04-04T22:48:54.668490Z",
     "iopub.status.idle": "2021-04-04T22:48:54.673455Z",
     "shell.execute_reply": "2021-04-04T22:48:54.672765Z"
    },
    "papermill": {
     "duration": 0.055639,
     "end_time": "2021-04-04T22:48:54.673598",
     "exception": false,
     "start_time": "2021-04-04T22:48:54.617959",
     "status": "completed"
    },
    "tags": []
   },
   "outputs": [],
   "source": [
    "test_outlier_size = dataset_config['test_outlier_size']\n",
    "if test_outlier_size > 0.0:\n",
    "    X_outlier_train, X_outlier_test, y_outlier_train, y_outlier_test = train_test_split(\n",
    "        X_outlier,\n",
    "        y_outlier,\n",
    "        test_size=test_outlier_size,\n",
    "        random_state=random_state\n",
    "    )\n",
    "else:\n",
    "    X_outlier_train, y_outlier_train = pd.DataFrame(columns=X_outlier.columns), pd.Series(dtype='int64')\n",
    "    X_outlier_test, y_outlier_test = X_outlier.copy(), y_outlier.copy()"
   ]
  },
  {
   "cell_type": "code",
   "execution_count": 19,
   "id": "c34363db",
   "metadata": {
    "execution": {
     "iopub.execute_input": "2021-04-04T22:48:54.731892Z",
     "iopub.status.busy": "2021-04-04T22:48:54.729663Z",
     "iopub.status.idle": "2021-04-04T22:48:54.734419Z",
     "shell.execute_reply": "2021-04-04T22:48:54.733873Z"
    },
    "papermill": {
     "duration": 0.035341,
     "end_time": "2021-04-04T22:48:54.734540",
     "exception": false,
     "start_time": "2021-04-04T22:48:54.699199",
     "status": "completed"
    },
    "tags": []
   },
   "outputs": [],
   "source": [
    "X_train, y_train = pd.concat([X_inlier_train, X_outlier_train], ignore_index=True), pd.concat([y_inlier_train, y_outlier_train], ignore_index=True)\n",
    "X_test, y_test = pd.concat([X_inlier_test, X_outlier_test], ignore_index=True), pd.concat([y_inlier_test, y_outlier_test], ignore_index=True)"
   ]
  },
  {
   "cell_type": "markdown",
   "id": "7cde7309",
   "metadata": {
    "papermill": {
     "duration": 0.035617,
     "end_time": "2021-04-04T22:48:54.798035",
     "exception": false,
     "start_time": "2021-04-04T22:48:54.762418",
     "status": "completed"
    },
    "tags": []
   },
   "source": [
    "# Model"
   ]
  },
  {
   "cell_type": "code",
   "execution_count": 20,
   "id": "2b12a415",
   "metadata": {
    "execution": {
     "iopub.execute_input": "2021-04-04T22:48:54.897049Z",
     "iopub.status.busy": "2021-04-04T22:48:54.895925Z",
     "iopub.status.idle": "2021-04-04T22:48:54.903634Z",
     "shell.execute_reply": "2021-04-04T22:48:54.904583Z"
    },
    "papermill": {
     "duration": 0.062099,
     "end_time": "2021-04-04T22:48:54.904852",
     "exception": false,
     "start_time": "2021-04-04T22:48:54.842753",
     "status": "completed"
    },
    "tags": []
   },
   "outputs": [],
   "source": [
    "from math import sqrt\n",
    "\n",
    "\n",
    "class KNNDataDescription:\n",
    "    def __init__(self, k=5, outlier_threshold=1.0):\n",
    "        self.k = k\n",
    "        self.outlier_threshold = outlier_threshold\n",
    "        self.X = []\n",
    "    \n",
    "    def fit(self, X):\n",
    "        self.X = [features.to_list() for index, features in X.iterrows()]\n",
    "\n",
    "    def predict(self, entries):\n",
    "        return [self.predict_entry(features.to_list()) for index, features in entries.iterrows()]\n",
    "    \n",
    "    def predict_entry(self, entry):\n",
    "        kth_neighbor, kth_distance = self.get_kth_neighbor(entry, self.k)\n",
    "        kth_kth_neighbor, kth_kth_distance = self.get_kth_neighbor(kth_neighbor, self.k + 1)\n",
    "\n",
    "        outlier_score = kth_distance / (kth_kth_distance + 0.000001)\n",
    "\n",
    "        return 1 if outlier_score < self.outlier_threshold else -1\n",
    "        \n",
    "    def euclidean_distance(self, features1, features2):\n",
    "        distance = 0.0\n",
    "        for feat1, feat2 in zip(features1, features2):\n",
    "            distance += (feat1 - feat2)**2\n",
    "                \n",
    "        return sqrt(distance)\n",
    "\n",
    "    def get_neighbors(self, entry, k):\n",
    "        distance_to_data_points = [\n",
    "            (data_point, self.euclidean_distance(entry, data_point))\n",
    "            for data_point in self.X\n",
    "        ]\n",
    "        sorted_by_distance = sorted(distance_to_data_points, key=lambda tup: tup[1])\n",
    "        neighbors = sorted_by_distance[:k]\n",
    "        return neighbors\n",
    "\n",
    "    def get_kth_neighbor(self, entry, k):\n",
    "        neighbors = self.get_neighbors(entry, k)\n",
    "        return neighbors[-1]\n"
   ]
  },
  {
   "cell_type": "code",
   "execution_count": 21,
   "id": "1fa9ec1c",
   "metadata": {
    "execution": {
     "iopub.execute_input": "2021-04-04T22:48:55.003008Z",
     "iopub.status.busy": "2021-04-04T22:48:55.001599Z",
     "iopub.status.idle": "2021-04-04T22:48:55.036320Z",
     "shell.execute_reply": "2021-04-04T22:48:55.036890Z"
    },
    "papermill": {
     "duration": 0.085204,
     "end_time": "2021-04-04T22:48:55.037070",
     "exception": false,
     "start_time": "2021-04-04T22:48:54.951866",
     "status": "completed"
    },
    "tags": []
   },
   "outputs": [],
   "source": [
    "from sklearn.svm import OneClassSVM\n",
    "\n",
    "\n",
    "models = {\n",
    "    'oneclasssvm': OneClassSVM,\n",
    "    'knndatadescription': KNNDataDescription,\n",
    "}"
   ]
  },
  {
   "cell_type": "code",
   "execution_count": 22,
   "id": "4d72a0b1",
   "metadata": {
    "execution": {
     "iopub.execute_input": "2021-04-04T22:48:55.091436Z",
     "iopub.status.busy": "2021-04-04T22:48:55.090854Z",
     "iopub.status.idle": "2021-04-04T22:48:55.092868Z",
     "shell.execute_reply": "2021-04-04T22:48:55.093311Z"
    },
    "papermill": {
     "duration": 0.029013,
     "end_time": "2021-04-04T22:48:55.093448",
     "exception": false,
     "start_time": "2021-04-04T22:48:55.064435",
     "status": "completed"
    },
    "scrolled": true,
    "tags": []
   },
   "outputs": [],
   "source": [
    "model_cls = models[model_config['model_type']]\n",
    "model = model_cls(**model_config['hyperparameters'])"
   ]
  },
  {
   "cell_type": "markdown",
   "id": "e00cff3b",
   "metadata": {
    "papermill": {
     "duration": 0.030129,
     "end_time": "2021-04-04T22:48:55.149739",
     "exception": false,
     "start_time": "2021-04-04T22:48:55.119610",
     "status": "completed"
    },
    "tags": []
   },
   "source": [
    "# Fit"
   ]
  },
  {
   "cell_type": "code",
   "execution_count": 23,
   "id": "8b2ded89",
   "metadata": {
    "execution": {
     "iopub.execute_input": "2021-04-04T22:48:55.205022Z",
     "iopub.status.busy": "2021-04-04T22:48:55.203791Z",
     "iopub.status.idle": "2021-04-04T22:48:55.269809Z",
     "shell.execute_reply": "2021-04-04T22:48:55.269264Z"
    },
    "papermill": {
     "duration": 0.092913,
     "end_time": "2021-04-04T22:48:55.269931",
     "exception": false,
     "start_time": "2021-04-04T22:48:55.177018",
     "status": "completed"
    },
    "tags": []
   },
   "outputs": [],
   "source": [
    "model.fit(X_train)"
   ]
  },
  {
   "cell_type": "markdown",
   "id": "f99999f7",
   "metadata": {
    "papermill": {
     "duration": 0.028178,
     "end_time": "2021-04-04T22:48:55.322619",
     "exception": false,
     "start_time": "2021-04-04T22:48:55.294441",
     "status": "completed"
    },
    "tags": []
   },
   "source": [
    "# Predict"
   ]
  },
  {
   "cell_type": "code",
   "execution_count": 24,
   "id": "6536fbf7",
   "metadata": {
    "execution": {
     "iopub.execute_input": "2021-04-04T22:48:55.427745Z",
     "iopub.status.busy": "2021-04-04T22:48:55.407168Z",
     "iopub.status.idle": "2021-04-04T22:48:58.802373Z",
     "shell.execute_reply": "2021-04-04T22:48:58.801906Z"
    },
    "papermill": {
     "duration": 3.452841,
     "end_time": "2021-04-04T22:48:58.802489",
     "exception": false,
     "start_time": "2021-04-04T22:48:55.349648",
     "status": "completed"
    },
    "tags": []
   },
   "outputs": [],
   "source": [
    "predictions = model.predict(X_test)"
   ]
  },
  {
   "cell_type": "markdown",
   "id": "aa1c9881",
   "metadata": {
    "papermill": {
     "duration": 0.026514,
     "end_time": "2021-04-04T22:48:58.852872",
     "exception": false,
     "start_time": "2021-04-04T22:48:58.826358",
     "status": "completed"
    },
    "tags": []
   },
   "source": [
    "# Evaluate"
   ]
  },
  {
   "cell_type": "code",
   "execution_count": 25,
   "id": "894f0f04",
   "metadata": {
    "execution": {
     "iopub.execute_input": "2021-04-04T22:48:58.931200Z",
     "iopub.status.busy": "2021-04-04T22:48:58.930320Z",
     "iopub.status.idle": "2021-04-04T22:48:58.937281Z",
     "shell.execute_reply": "2021-04-04T22:48:58.935604Z"
    },
    "papermill": {
     "duration": 0.056168,
     "end_time": "2021-04-04T22:48:58.937696",
     "exception": false,
     "start_time": "2021-04-04T22:48:58.881528",
     "status": "completed"
    },
    "tags": []
   },
   "outputs": [],
   "source": [
    "from sklearn.metrics import f1_score"
   ]
  },
  {
   "cell_type": "code",
   "execution_count": 26,
   "id": "211744d3",
   "metadata": {
    "execution": {
     "iopub.execute_input": "2021-04-04T22:48:59.017944Z",
     "iopub.status.busy": "2021-04-04T22:48:59.016014Z",
     "iopub.status.idle": "2021-04-04T22:48:59.020193Z",
     "shell.execute_reply": "2021-04-04T22:48:59.020971Z"
    },
    "papermill": {
     "duration": 0.04965,
     "end_time": "2021-04-04T22:48:59.021209",
     "exception": false,
     "start_time": "2021-04-04T22:48:58.971559",
     "status": "completed"
    },
    "tags": []
   },
   "outputs": [],
   "source": [
    "y_test = y_test.replace([0, 1], [1, -1])"
   ]
  },
  {
   "cell_type": "code",
   "execution_count": 27,
   "id": "d68a9204",
   "metadata": {
    "execution": {
     "iopub.execute_input": "2021-04-04T22:48:59.080095Z",
     "iopub.status.busy": "2021-04-04T22:48:59.079056Z",
     "iopub.status.idle": "2021-04-04T22:48:59.081431Z",
     "shell.execute_reply": "2021-04-04T22:48:59.081975Z"
    },
    "papermill": {
     "duration": 0.033656,
     "end_time": "2021-04-04T22:48:59.082161",
     "exception": false,
     "start_time": "2021-04-04T22:48:59.048505",
     "status": "completed"
    },
    "tags": []
   },
   "outputs": [],
   "source": [
    "def evaluate(truths, predictions, pos_label, neg_label):\n",
    "    TP = 0\n",
    "    FP = 0\n",
    "    TN = 0\n",
    "    FN = 0\n",
    "\n",
    "    for truth, pred in zip(truths, predictions): \n",
    "        if truth == pred == pos_label:\n",
    "           TP += 1\n",
    "        elif pred == pos_label and truth == neg_label:\n",
    "           FP += 1\n",
    "        elif truth == pred == neg_label:\n",
    "           TN += 1\n",
    "        elif pred == neg_label and truth == pos_label:\n",
    "           FN += 1\n",
    "\n",
    "    precision = TP / (TP + FP)\n",
    "    sensitivity = TP / (TP + FN)\n",
    "    \n",
    "    return {\n",
    "        'true_pos': TP,\n",
    "        'false_pos': FP,\n",
    "        'false_neg': FN,\n",
    "        'true_neg': TN,\n",
    "        'precision': precision,\n",
    "        'sensitivity': sensitivity,\n",
    "        'f1': (2 * (precision * sensitivity)) / (precision + sensitivity)\n",
    "    }\n",
    "\n",
    "score = evaluate(y_test, predictions, pos_label=-1, neg_label=1)"
   ]
  },
  {
   "cell_type": "markdown",
   "id": "93596516",
   "metadata": {
    "papermill": {
     "duration": 0.027185,
     "end_time": "2021-04-04T22:48:59.135214",
     "exception": false,
     "start_time": "2021-04-04T22:48:59.108029",
     "status": "completed"
    },
    "tags": []
   },
   "source": [
    "# Report"
   ]
  },
  {
   "cell_type": "code",
   "execution_count": 28,
   "id": "bea5fba1",
   "metadata": {
    "execution": {
     "iopub.execute_input": "2021-04-04T22:48:59.192822Z",
     "iopub.status.busy": "2021-04-04T22:48:59.191768Z",
     "iopub.status.idle": "2021-04-04T22:48:59.196277Z",
     "shell.execute_reply": "2021-04-04T22:48:59.196915Z"
    },
    "papermill": {
     "duration": 0.035739,
     "end_time": "2021-04-04T22:48:59.197093",
     "exception": false,
     "start_time": "2021-04-04T22:48:59.161354",
     "status": "completed"
    },
    "tags": []
   },
   "outputs": [],
   "source": [
    "import csv\n",
    "\n",
    "\n",
    "dataset_config_name = DATASET_CONFIG_PATH.split('/')[-1].split('.')[0]\n",
    "model_config_name = MODEL_CONFIG_PATH.split('/')[-1].split('.')[0]\n",
    "configuration = f\"dataset_{dataset_config_name}-model_{model_config_name}\"\n",
    "\n",
    "with open('results.csv', 'a') as f:\n",
    "    report = dict({'configuration': configuration}, **score)\n",
    "    writer = csv.DictWriter(f, report.keys())\n",
    "    writer.writerow(report)"
   ]
  }
 ],
 "metadata": {
  "celltoolbar": "Tags",
  "kernelspec": {
   "display_name": "Python 3",
   "language": "python",
   "name": "python3"
  },
  "language_info": {
   "codemirror_mode": {
    "name": "ipython",
    "version": 3
   },
   "file_extension": ".py",
   "mimetype": "text/x-python",
   "name": "python",
   "nbconvert_exporter": "python",
   "pygments_lexer": "ipython3",
   "version": "3.9.1"
  },
  "papermill": {
   "default_parameters": {},
   "duration": 10.068168,
   "end_time": "2021-04-04T22:49:00.828779",
   "environment_variables": {},
   "exception": null,
   "input_path": "main.ipynb",
   "output_path": "runs/dataset_000049-model_000001.ipynb",
   "parameters": {
    "DATASET_CONFIG_PATH": "config/dataset/000049.json",
    "MODEL_CONFIG_PATH": "config/model/000001.json",
    "PROFILE_REPORTING": false
   },
   "start_time": "2021-04-04T22:48:50.760611",
   "version": "2.3.3"
  }
 },
 "nbformat": 4,
 "nbformat_minor": 5
}