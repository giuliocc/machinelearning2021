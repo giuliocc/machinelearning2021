{
 "cells": [
  {
   "cell_type": "markdown",
   "id": "51c71c25",
   "metadata": {
    "papermill": {
     "duration": 0.023616,
     "end_time": "2021-04-04T23:35:05.790653",
     "exception": false,
     "start_time": "2021-04-04T23:35:05.767037",
     "status": "completed"
    },
    "tags": []
   },
   "source": [
    "# Parametrizing"
   ]
  },
  {
   "cell_type": "code",
   "execution_count": 1,
   "id": "3b136394",
   "metadata": {
    "execution": {
     "iopub.execute_input": "2021-04-04T23:35:05.843838Z",
     "iopub.status.busy": "2021-04-04T23:35:05.842665Z",
     "iopub.status.idle": "2021-04-04T23:35:05.862810Z",
     "shell.execute_reply": "2021-04-04T23:35:05.861868Z"
    },
    "papermill": {
     "duration": 0.051246,
     "end_time": "2021-04-04T23:35:05.863002",
     "exception": false,
     "start_time": "2021-04-04T23:35:05.811756",
     "status": "completed"
    },
    "tags": [
     "parameters"
    ]
   },
   "outputs": [],
   "source": [
    "DATASET_CONFIG_PATH = 'config/dataset/kc1_001.json'\n",
    "MODEL_CONFIG_PATH = 'config/model/knndd_001.json'\n",
    "PROFILE_REPORTING = False"
   ]
  },
  {
   "cell_type": "code",
   "execution_count": 2,
   "id": "2e1c8b9c",
   "metadata": {
    "execution": {
     "iopub.execute_input": "2021-04-04T23:35:05.932020Z",
     "iopub.status.busy": "2021-04-04T23:35:05.931239Z",
     "iopub.status.idle": "2021-04-04T23:35:05.933895Z",
     "shell.execute_reply": "2021-04-04T23:35:05.933378Z"
    },
    "papermill": {
     "duration": 0.031643,
     "end_time": "2021-04-04T23:35:05.934013",
     "exception": false,
     "start_time": "2021-04-04T23:35:05.902370",
     "status": "completed"
    },
    "tags": [
     "injected-parameters"
    ]
   },
   "outputs": [],
   "source": [
    "# Parameters\n",
    "DATASET_CONFIG_PATH = \"config/dataset/000153.json\"\n",
    "MODEL_CONFIG_PATH = \"config/model/000003.json\"\n",
    "PROFILE_REPORTING = False\n"
   ]
  },
  {
   "cell_type": "code",
   "execution_count": 3,
   "id": "b80f2a10",
   "metadata": {
    "execution": {
     "iopub.execute_input": "2021-04-04T23:35:06.002219Z",
     "iopub.status.busy": "2021-04-04T23:35:06.001057Z",
     "iopub.status.idle": "2021-04-04T23:35:06.004852Z",
     "shell.execute_reply": "2021-04-04T23:35:06.004263Z"
    },
    "papermill": {
     "duration": 0.04502,
     "end_time": "2021-04-04T23:35:06.005000",
     "exception": false,
     "start_time": "2021-04-04T23:35:05.959980",
     "status": "completed"
    },
    "tags": []
   },
   "outputs": [],
   "source": [
    "import json\n",
    "\n",
    "\n",
    "with open(DATASET_CONFIG_PATH) as f:\n",
    "    dataset_config = json.load(f)\n",
    "\n",
    "with open(MODEL_CONFIG_PATH) as f:\n",
    "    model_config = json.load(f)"
   ]
  },
  {
   "cell_type": "markdown",
   "id": "9a4b0e2d",
   "metadata": {
    "papermill": {
     "duration": 0.028711,
     "end_time": "2021-04-04T23:35:06.059139",
     "exception": false,
     "start_time": "2021-04-04T23:35:06.030428",
     "status": "completed"
    },
    "tags": []
   },
   "source": [
    "# Profiling"
   ]
  },
  {
   "cell_type": "code",
   "execution_count": 4,
   "id": "a3e0289b",
   "metadata": {
    "execution": {
     "iopub.execute_input": "2021-04-04T23:35:06.133255Z",
     "iopub.status.busy": "2021-04-04T23:35:06.131331Z",
     "iopub.status.idle": "2021-04-04T23:35:07.904015Z",
     "shell.execute_reply": "2021-04-04T23:35:07.902374Z"
    },
    "papermill": {
     "duration": 1.816914,
     "end_time": "2021-04-04T23:35:07.904191",
     "exception": false,
     "start_time": "2021-04-04T23:35:06.087277",
     "status": "completed"
    },
    "tags": []
   },
   "outputs": [],
   "source": [
    "import pandas as pd\n",
    "from pandas_profiling import ProfileReport"
   ]
  },
  {
   "cell_type": "code",
   "execution_count": 5,
   "id": "ee6c0666",
   "metadata": {
    "execution": {
     "iopub.execute_input": "2021-04-04T23:35:07.958583Z",
     "iopub.status.busy": "2021-04-04T23:35:07.956651Z",
     "iopub.status.idle": "2021-04-04T23:35:07.971678Z",
     "shell.execute_reply": "2021-04-04T23:35:07.970486Z"
    },
    "papermill": {
     "duration": 0.043669,
     "end_time": "2021-04-04T23:35:07.971910",
     "exception": false,
     "start_time": "2021-04-04T23:35:07.928241",
     "status": "completed"
    },
    "tags": []
   },
   "outputs": [],
   "source": [
    "df = pd.read_csv(dataset_config['dataset_path'])"
   ]
  },
  {
   "cell_type": "code",
   "execution_count": 6,
   "id": "7eca6c4a",
   "metadata": {
    "execution": {
     "iopub.execute_input": "2021-04-04T23:35:08.040437Z",
     "iopub.status.busy": "2021-04-04T23:35:08.029074Z",
     "iopub.status.idle": "2021-04-04T23:35:08.043135Z",
     "shell.execute_reply": "2021-04-04T23:35:08.042629Z"
    },
    "papermill": {
     "duration": 0.042922,
     "end_time": "2021-04-04T23:35:08.043255",
     "exception": false,
     "start_time": "2021-04-04T23:35:08.000333",
     "status": "completed"
    },
    "tags": []
   },
   "outputs": [
    {
     "name": "stdout",
     "output_type": "stream",
     "text": [
      "<class 'pandas.core.frame.DataFrame'>\n",
      "RangeIndex: 498 entries, 0 to 497\n",
      "Data columns (total 23 columns):\n",
      " #   Column             Non-Null Count  Dtype  \n",
      "---  ------             --------------  -----  \n",
      " 0   id                 498 non-null    int64  \n",
      " 1   loc                498 non-null    float64\n",
      " 2   v(g)               498 non-null    float64\n",
      " 3   ev(g)              498 non-null    float64\n",
      " 4   iv(g)              498 non-null    float64\n",
      " 5   n                  498 non-null    float64\n",
      " 6   v                  498 non-null    float64\n",
      " 7   l                  498 non-null    float64\n",
      " 8   d                  498 non-null    float64\n",
      " 9   i                  498 non-null    float64\n",
      " 10  e                  498 non-null    float64\n",
      " 11  b                  498 non-null    float64\n",
      " 12  t                  498 non-null    float64\n",
      " 13  lOCode             498 non-null    int64  \n",
      " 14  lOComment          498 non-null    int64  \n",
      " 15  lOBlank            498 non-null    int64  \n",
      " 16  locCodeAndComment  498 non-null    int64  \n",
      " 17  uniq_Op            498 non-null    float64\n",
      " 18  uniq_Opnd          498 non-null    float64\n",
      " 19  total_Op           498 non-null    float64\n",
      " 20  total_Opnd         498 non-null    float64\n",
      " 21  branchCount        498 non-null    float64\n",
      " 22  defects            498 non-null    bool   \n",
      "dtypes: bool(1), float64(17), int64(5)\n",
      "memory usage: 86.2 KB\n"
     ]
    }
   ],
   "source": [
    "df.info()"
   ]
  },
  {
   "cell_type": "code",
   "execution_count": 7,
   "id": "3638e5e8",
   "metadata": {
    "execution": {
     "iopub.execute_input": "2021-04-04T23:35:08.094114Z",
     "iopub.status.busy": "2021-04-04T23:35:08.093481Z",
     "iopub.status.idle": "2021-04-04T23:35:08.121404Z",
     "shell.execute_reply": "2021-04-04T23:35:08.121937Z"
    },
    "papermill": {
     "duration": 0.057166,
     "end_time": "2021-04-04T23:35:08.122099",
     "exception": false,
     "start_time": "2021-04-04T23:35:08.064933",
     "status": "completed"
    },
    "tags": []
   },
   "outputs": [
    {
     "data": {
      "text/html": [
       "<div>\n",
       "<style scoped>\n",
       "    .dataframe tbody tr th:only-of-type {\n",
       "        vertical-align: middle;\n",
       "    }\n",
       "\n",
       "    .dataframe tbody tr th {\n",
       "        vertical-align: top;\n",
       "    }\n",
       "\n",
       "    .dataframe thead th {\n",
       "        text-align: right;\n",
       "    }\n",
       "</style>\n",
       "<table border=\"1\" class=\"dataframe\">\n",
       "  <thead>\n",
       "    <tr style=\"text-align: right;\">\n",
       "      <th></th>\n",
       "      <th>id</th>\n",
       "      <th>loc</th>\n",
       "      <th>v(g)</th>\n",
       "      <th>ev(g)</th>\n",
       "      <th>iv(g)</th>\n",
       "      <th>n</th>\n",
       "      <th>v</th>\n",
       "      <th>l</th>\n",
       "      <th>d</th>\n",
       "      <th>i</th>\n",
       "      <th>...</th>\n",
       "      <th>lOCode</th>\n",
       "      <th>lOComment</th>\n",
       "      <th>lOBlank</th>\n",
       "      <th>locCodeAndComment</th>\n",
       "      <th>uniq_Op</th>\n",
       "      <th>uniq_Opnd</th>\n",
       "      <th>total_Op</th>\n",
       "      <th>total_Opnd</th>\n",
       "      <th>branchCount</th>\n",
       "      <th>defects</th>\n",
       "    </tr>\n",
       "  </thead>\n",
       "  <tbody>\n",
       "    <tr>\n",
       "      <th>0</th>\n",
       "      <td>1</td>\n",
       "      <td>1.1</td>\n",
       "      <td>1.4</td>\n",
       "      <td>1.4</td>\n",
       "      <td>1.4</td>\n",
       "      <td>1.3</td>\n",
       "      <td>1.30</td>\n",
       "      <td>1.30</td>\n",
       "      <td>1.30</td>\n",
       "      <td>1.30</td>\n",
       "      <td>...</td>\n",
       "      <td>2</td>\n",
       "      <td>2</td>\n",
       "      <td>2</td>\n",
       "      <td>2</td>\n",
       "      <td>1.2</td>\n",
       "      <td>1.2</td>\n",
       "      <td>1.2</td>\n",
       "      <td>1.2</td>\n",
       "      <td>1.4</td>\n",
       "      <td>False</td>\n",
       "    </tr>\n",
       "    <tr>\n",
       "      <th>1</th>\n",
       "      <td>2</td>\n",
       "      <td>1.0</td>\n",
       "      <td>1.0</td>\n",
       "      <td>1.0</td>\n",
       "      <td>1.0</td>\n",
       "      <td>1.0</td>\n",
       "      <td>1.00</td>\n",
       "      <td>1.00</td>\n",
       "      <td>1.00</td>\n",
       "      <td>1.00</td>\n",
       "      <td>...</td>\n",
       "      <td>1</td>\n",
       "      <td>1</td>\n",
       "      <td>1</td>\n",
       "      <td>1</td>\n",
       "      <td>1.0</td>\n",
       "      <td>1.0</td>\n",
       "      <td>1.0</td>\n",
       "      <td>1.0</td>\n",
       "      <td>1.0</td>\n",
       "      <td>True</td>\n",
       "    </tr>\n",
       "    <tr>\n",
       "      <th>2</th>\n",
       "      <td>3</td>\n",
       "      <td>24.0</td>\n",
       "      <td>5.0</td>\n",
       "      <td>1.0</td>\n",
       "      <td>3.0</td>\n",
       "      <td>63.0</td>\n",
       "      <td>309.13</td>\n",
       "      <td>0.11</td>\n",
       "      <td>9.50</td>\n",
       "      <td>32.54</td>\n",
       "      <td>...</td>\n",
       "      <td>1</td>\n",
       "      <td>0</td>\n",
       "      <td>6</td>\n",
       "      <td>0</td>\n",
       "      <td>15.0</td>\n",
       "      <td>15.0</td>\n",
       "      <td>44.0</td>\n",
       "      <td>19.0</td>\n",
       "      <td>9.0</td>\n",
       "      <td>False</td>\n",
       "    </tr>\n",
       "    <tr>\n",
       "      <th>3</th>\n",
       "      <td>4</td>\n",
       "      <td>20.0</td>\n",
       "      <td>4.0</td>\n",
       "      <td>4.0</td>\n",
       "      <td>2.0</td>\n",
       "      <td>47.0</td>\n",
       "      <td>215.49</td>\n",
       "      <td>0.06</td>\n",
       "      <td>16.00</td>\n",
       "      <td>13.47</td>\n",
       "      <td>...</td>\n",
       "      <td>0</td>\n",
       "      <td>0</td>\n",
       "      <td>3</td>\n",
       "      <td>0</td>\n",
       "      <td>16.0</td>\n",
       "      <td>8.0</td>\n",
       "      <td>31.0</td>\n",
       "      <td>16.0</td>\n",
       "      <td>7.0</td>\n",
       "      <td>False</td>\n",
       "    </tr>\n",
       "    <tr>\n",
       "      <th>4</th>\n",
       "      <td>5</td>\n",
       "      <td>24.0</td>\n",
       "      <td>6.0</td>\n",
       "      <td>6.0</td>\n",
       "      <td>2.0</td>\n",
       "      <td>72.0</td>\n",
       "      <td>346.13</td>\n",
       "      <td>0.06</td>\n",
       "      <td>17.33</td>\n",
       "      <td>19.97</td>\n",
       "      <td>...</td>\n",
       "      <td>0</td>\n",
       "      <td>0</td>\n",
       "      <td>3</td>\n",
       "      <td>0</td>\n",
       "      <td>16.0</td>\n",
       "      <td>12.0</td>\n",
       "      <td>46.0</td>\n",
       "      <td>26.0</td>\n",
       "      <td>11.0</td>\n",
       "      <td>False</td>\n",
       "    </tr>\n",
       "  </tbody>\n",
       "</table>\n",
       "<p>5 rows × 23 columns</p>\n",
       "</div>"
      ],
      "text/plain": [
       "   id   loc  v(g)  ev(g)  iv(g)     n       v     l      d      i  ...  \\\n",
       "0   1   1.1   1.4    1.4    1.4   1.3    1.30  1.30   1.30   1.30  ...   \n",
       "1   2   1.0   1.0    1.0    1.0   1.0    1.00  1.00   1.00   1.00  ...   \n",
       "2   3  24.0   5.0    1.0    3.0  63.0  309.13  0.11   9.50  32.54  ...   \n",
       "3   4  20.0   4.0    4.0    2.0  47.0  215.49  0.06  16.00  13.47  ...   \n",
       "4   5  24.0   6.0    6.0    2.0  72.0  346.13  0.06  17.33  19.97  ...   \n",
       "\n",
       "   lOCode  lOComment  lOBlank  locCodeAndComment  uniq_Op  uniq_Opnd  \\\n",
       "0       2          2        2                  2      1.2        1.2   \n",
       "1       1          1        1                  1      1.0        1.0   \n",
       "2       1          0        6                  0     15.0       15.0   \n",
       "3       0          0        3                  0     16.0        8.0   \n",
       "4       0          0        3                  0     16.0       12.0   \n",
       "\n",
       "   total_Op  total_Opnd  branchCount  defects  \n",
       "0       1.2         1.2          1.4    False  \n",
       "1       1.0         1.0          1.0     True  \n",
       "2      44.0        19.0          9.0    False  \n",
       "3      31.0        16.0          7.0    False  \n",
       "4      46.0        26.0         11.0    False  \n",
       "\n",
       "[5 rows x 23 columns]"
      ]
     },
     "execution_count": 7,
     "metadata": {},
     "output_type": "execute_result"
    }
   ],
   "source": [
    "df.head()"
   ]
  },
  {
   "cell_type": "code",
   "execution_count": 8,
   "id": "733e95eb",
   "metadata": {
    "execution": {
     "iopub.execute_input": "2021-04-04T23:35:08.179560Z",
     "iopub.status.busy": "2021-04-04T23:35:08.178735Z",
     "iopub.status.idle": "2021-04-04T23:35:08.182331Z",
     "shell.execute_reply": "2021-04-04T23:35:08.181598Z"
    },
    "papermill": {
     "duration": 0.037811,
     "end_time": "2021-04-04T23:35:08.182554",
     "exception": false,
     "start_time": "2021-04-04T23:35:08.144743",
     "status": "completed"
    },
    "tags": []
   },
   "outputs": [],
   "source": [
    "del df['id']"
   ]
  },
  {
   "cell_type": "code",
   "execution_count": 9,
   "id": "6ff6f5b0",
   "metadata": {
    "execution": {
     "iopub.execute_input": "2021-04-04T23:35:08.237722Z",
     "iopub.status.busy": "2021-04-04T23:35:08.237136Z",
     "iopub.status.idle": "2021-04-04T23:35:08.239140Z",
     "shell.execute_reply": "2021-04-04T23:35:08.239623Z"
    },
    "papermill": {
     "duration": 0.030957,
     "end_time": "2021-04-04T23:35:08.239761",
     "exception": false,
     "start_time": "2021-04-04T23:35:08.208804",
     "status": "completed"
    },
    "tags": []
   },
   "outputs": [],
   "source": [
    "if PROFILE_REPORTING:\n",
    "    ProfileReport(df).to_widgets()"
   ]
  },
  {
   "cell_type": "markdown",
   "id": "1deaf3f0",
   "metadata": {
    "papermill": {
     "duration": 0.027531,
     "end_time": "2021-04-04T23:35:08.289527",
     "exception": false,
     "start_time": "2021-04-04T23:35:08.261996",
     "status": "completed"
    },
    "tags": []
   },
   "source": [
    "# Preprocess"
   ]
  },
  {
   "cell_type": "code",
   "execution_count": 10,
   "id": "1513e563",
   "metadata": {
    "execution": {
     "iopub.execute_input": "2021-04-04T23:35:08.363691Z",
     "iopub.status.busy": "2021-04-04T23:35:08.362768Z",
     "iopub.status.idle": "2021-04-04T23:35:08.368211Z",
     "shell.execute_reply": "2021-04-04T23:35:08.369031Z"
    },
    "papermill": {
     "duration": 0.045661,
     "end_time": "2021-04-04T23:35:08.369255",
     "exception": false,
     "start_time": "2021-04-04T23:35:08.323594",
     "status": "completed"
    },
    "tags": []
   },
   "outputs": [],
   "source": [
    "working_df = df.copy()"
   ]
  },
  {
   "cell_type": "code",
   "execution_count": 11,
   "id": "3b26d675",
   "metadata": {
    "execution": {
     "iopub.execute_input": "2021-04-04T23:35:08.427480Z",
     "iopub.status.busy": "2021-04-04T23:35:08.426654Z",
     "iopub.status.idle": "2021-04-04T23:35:08.429296Z",
     "shell.execute_reply": "2021-04-04T23:35:08.429831Z"
    },
    "papermill": {
     "duration": 0.036893,
     "end_time": "2021-04-04T23:35:08.430080",
     "exception": false,
     "start_time": "2021-04-04T23:35:08.393187",
     "status": "completed"
    },
    "tags": []
   },
   "outputs": [],
   "source": [
    "working_df['defects'] = working_df['defects'].replace([False, True], [0, 1])"
   ]
  },
  {
   "cell_type": "code",
   "execution_count": 12,
   "id": "eb48604f",
   "metadata": {
    "execution": {
     "iopub.execute_input": "2021-04-04T23:35:08.481273Z",
     "iopub.status.busy": "2021-04-04T23:35:08.480457Z",
     "iopub.status.idle": "2021-04-04T23:35:08.484104Z",
     "shell.execute_reply": "2021-04-04T23:35:08.482781Z"
    },
    "papermill": {
     "duration": 0.029201,
     "end_time": "2021-04-04T23:35:08.484440",
     "exception": false,
     "start_time": "2021-04-04T23:35:08.455239",
     "status": "completed"
    },
    "tags": []
   },
   "outputs": [],
   "source": [
    "for col in dataset_config['delete_columns']:\n",
    "    del working_df[col]"
   ]
  },
  {
   "cell_type": "code",
   "execution_count": 13,
   "id": "9a17bc29",
   "metadata": {
    "execution": {
     "iopub.execute_input": "2021-04-04T23:35:08.545041Z",
     "iopub.status.busy": "2021-04-04T23:35:08.544291Z",
     "iopub.status.idle": "2021-04-04T23:35:08.554777Z",
     "shell.execute_reply": "2021-04-04T23:35:08.554254Z"
    },
    "papermill": {
     "duration": 0.04636,
     "end_time": "2021-04-04T23:35:08.554898",
     "exception": false,
     "start_time": "2021-04-04T23:35:08.508538",
     "status": "completed"
    },
    "tags": []
   },
   "outputs": [],
   "source": [
    "working_df = working_df.drop_duplicates()"
   ]
  },
  {
   "cell_type": "markdown",
   "id": "a4d52ca6",
   "metadata": {
    "papermill": {
     "duration": 0.029429,
     "end_time": "2021-04-04T23:35:08.606953",
     "exception": false,
     "start_time": "2021-04-04T23:35:08.577524",
     "status": "completed"
    },
    "tags": []
   },
   "source": [
    "# Split"
   ]
  },
  {
   "cell_type": "code",
   "execution_count": 14,
   "id": "3e9ee4b5",
   "metadata": {
    "execution": {
     "iopub.execute_input": "2021-04-04T23:35:08.664127Z",
     "iopub.status.busy": "2021-04-04T23:35:08.662101Z",
     "iopub.status.idle": "2021-04-04T23:35:08.700037Z",
     "shell.execute_reply": "2021-04-04T23:35:08.700498Z"
    },
    "papermill": {
     "duration": 0.069581,
     "end_time": "2021-04-04T23:35:08.700684",
     "exception": false,
     "start_time": "2021-04-04T23:35:08.631103",
     "status": "completed"
    },
    "tags": []
   },
   "outputs": [],
   "source": [
    "from sklearn.model_selection import train_test_split"
   ]
  },
  {
   "cell_type": "code",
   "execution_count": 15,
   "id": "274004ce",
   "metadata": {
    "execution": {
     "iopub.execute_input": "2021-04-04T23:35:08.758252Z",
     "iopub.status.busy": "2021-04-04T23:35:08.757296Z",
     "iopub.status.idle": "2021-04-04T23:35:08.762577Z",
     "shell.execute_reply": "2021-04-04T23:35:08.761988Z"
    },
    "papermill": {
     "duration": 0.037323,
     "end_time": "2021-04-04T23:35:08.762695",
     "exception": false,
     "start_time": "2021-04-04T23:35:08.725372",
     "status": "completed"
    },
    "scrolled": true,
    "tags": []
   },
   "outputs": [],
   "source": [
    "inlier, outlier = working_df[working_df['defects'] == 0], working_df[working_df['defects'] == 1]"
   ]
  },
  {
   "cell_type": "code",
   "execution_count": 16,
   "id": "753c7b03",
   "metadata": {
    "execution": {
     "iopub.execute_input": "2021-04-04T23:35:08.820246Z",
     "iopub.status.busy": "2021-04-04T23:35:08.819521Z",
     "iopub.status.idle": "2021-04-04T23:35:08.821230Z",
     "shell.execute_reply": "2021-04-04T23:35:08.821781Z"
    },
    "papermill": {
     "duration": 0.034676,
     "end_time": "2021-04-04T23:35:08.821927",
     "exception": false,
     "start_time": "2021-04-04T23:35:08.787251",
     "status": "completed"
    },
    "tags": []
   },
   "outputs": [],
   "source": [
    "X_inlier = inlier.copy()\n",
    "y_inlier = X_inlier.pop('defects')\n",
    "X_outlier = outlier.copy()\n",
    "y_outlier = X_outlier.pop('defects')"
   ]
  },
  {
   "cell_type": "code",
   "execution_count": 17,
   "id": "2ba43193",
   "metadata": {
    "execution": {
     "iopub.execute_input": "2021-04-04T23:35:08.877107Z",
     "iopub.status.busy": "2021-04-04T23:35:08.876093Z",
     "iopub.status.idle": "2021-04-04T23:35:08.877780Z",
     "shell.execute_reply": "2021-04-04T23:35:08.878769Z"
    },
    "papermill": {
     "duration": 0.031324,
     "end_time": "2021-04-04T23:35:08.878932",
     "exception": false,
     "start_time": "2021-04-04T23:35:08.847608",
     "status": "completed"
    },
    "tags": []
   },
   "outputs": [],
   "source": [
    "test_size = dataset_config['test_size']\n",
    "random_state = dataset_config['random_state']\n",
    "\n",
    "X_inlier_train, X_inlier_test, y_inlier_train, y_inlier_test = train_test_split(\n",
    "    X_inlier,\n",
    "    y_inlier,\n",
    "    test_size=test_size,\n",
    "    random_state=random_state\n",
    ")"
   ]
  },
  {
   "cell_type": "code",
   "execution_count": 18,
   "id": "0b7582ca",
   "metadata": {
    "execution": {
     "iopub.execute_input": "2021-04-04T23:35:08.938875Z",
     "iopub.status.busy": "2021-04-04T23:35:08.938033Z",
     "iopub.status.idle": "2021-04-04T23:35:08.940634Z",
     "shell.execute_reply": "2021-04-04T23:35:08.940132Z"
    },
    "papermill": {
     "duration": 0.036995,
     "end_time": "2021-04-04T23:35:08.940755",
     "exception": false,
     "start_time": "2021-04-04T23:35:08.903760",
     "status": "completed"
    },
    "tags": []
   },
   "outputs": [],
   "source": [
    "test_outlier_size = dataset_config['test_outlier_size']\n",
    "if test_outlier_size > 0.0:\n",
    "    X_outlier_train, X_outlier_test, y_outlier_train, y_outlier_test = train_test_split(\n",
    "        X_outlier,\n",
    "        y_outlier,\n",
    "        test_size=test_outlier_size,\n",
    "        random_state=random_state\n",
    "    )\n",
    "else:\n",
    "    X_outlier_train, y_outlier_train = pd.DataFrame(columns=X_outlier.columns), pd.Series(dtype='int64')\n",
    "    X_outlier_test, y_outlier_test = X_outlier.copy(), y_outlier.copy()"
   ]
  },
  {
   "cell_type": "code",
   "execution_count": 19,
   "id": "c34363db",
   "metadata": {
    "execution": {
     "iopub.execute_input": "2021-04-04T23:35:08.996513Z",
     "iopub.status.busy": "2021-04-04T23:35:08.995915Z",
     "iopub.status.idle": "2021-04-04T23:35:08.998006Z",
     "shell.execute_reply": "2021-04-04T23:35:08.998568Z"
    },
    "papermill": {
     "duration": 0.032726,
     "end_time": "2021-04-04T23:35:08.998728",
     "exception": false,
     "start_time": "2021-04-04T23:35:08.966002",
     "status": "completed"
    },
    "tags": []
   },
   "outputs": [],
   "source": [
    "X_train, y_train = pd.concat([X_inlier_train, X_outlier_train], ignore_index=True), pd.concat([y_inlier_train, y_outlier_train], ignore_index=True)\n",
    "X_test, y_test = pd.concat([X_inlier_test, X_outlier_test], ignore_index=True), pd.concat([y_inlier_test, y_outlier_test], ignore_index=True)"
   ]
  },
  {
   "cell_type": "markdown",
   "id": "7cde7309",
   "metadata": {
    "papermill": {
     "duration": 0.02887,
     "end_time": "2021-04-04T23:35:09.053728",
     "exception": false,
     "start_time": "2021-04-04T23:35:09.024858",
     "status": "completed"
    },
    "tags": []
   },
   "source": [
    "# Model"
   ]
  },
  {
   "cell_type": "code",
   "execution_count": 20,
   "id": "2b12a415",
   "metadata": {
    "execution": {
     "iopub.execute_input": "2021-04-04T23:35:09.115412Z",
     "iopub.status.busy": "2021-04-04T23:35:09.114692Z",
     "iopub.status.idle": "2021-04-04T23:35:09.117389Z",
     "shell.execute_reply": "2021-04-04T23:35:09.116873Z"
    },
    "papermill": {
     "duration": 0.039146,
     "end_time": "2021-04-04T23:35:09.117510",
     "exception": false,
     "start_time": "2021-04-04T23:35:09.078364",
     "status": "completed"
    },
    "tags": []
   },
   "outputs": [],
   "source": [
    "from math import sqrt\n",
    "\n",
    "\n",
    "class KNNDataDescription:\n",
    "    def __init__(self, k=5, outlier_threshold=1.0):\n",
    "        self.k = k\n",
    "        self.outlier_threshold = outlier_threshold\n",
    "        self.X = []\n",
    "    \n",
    "    def fit(self, X):\n",
    "        self.X = [features.to_list() for index, features in X.iterrows()]\n",
    "\n",
    "    def predict(self, entries):\n",
    "        return [self.predict_entry(features.to_list()) for index, features in entries.iterrows()]\n",
    "    \n",
    "    def predict_entry(self, entry):\n",
    "        kth_neighbor, kth_distance = self.get_kth_neighbor(entry, self.k)\n",
    "        kth_kth_neighbor, kth_kth_distance = self.get_kth_neighbor(kth_neighbor, self.k + 1)\n",
    "\n",
    "        outlier_score = kth_distance / (kth_kth_distance + 0.000001)\n",
    "\n",
    "        return 1 if outlier_score < self.outlier_threshold else -1\n",
    "        \n",
    "    def euclidean_distance(self, features1, features2):\n",
    "        distance = 0.0\n",
    "        for feat1, feat2 in zip(features1, features2):\n",
    "            distance += (feat1 - feat2)**2\n",
    "                \n",
    "        return sqrt(distance)\n",
    "\n",
    "    def get_neighbors(self, entry, k):\n",
    "        distance_to_data_points = [\n",
    "            (data_point, self.euclidean_distance(entry, data_point))\n",
    "            for data_point in self.X\n",
    "        ]\n",
    "        sorted_by_distance = sorted(distance_to_data_points, key=lambda tup: tup[1])\n",
    "        neighbors = sorted_by_distance[:k]\n",
    "        return neighbors\n",
    "\n",
    "    def get_kth_neighbor(self, entry, k):\n",
    "        neighbors = self.get_neighbors(entry, k)\n",
    "        return neighbors[-1]\n"
   ]
  },
  {
   "cell_type": "code",
   "execution_count": 21,
   "id": "1fa9ec1c",
   "metadata": {
    "execution": {
     "iopub.execute_input": "2021-04-04T23:35:09.175431Z",
     "iopub.status.busy": "2021-04-04T23:35:09.174620Z",
     "iopub.status.idle": "2021-04-04T23:35:09.208293Z",
     "shell.execute_reply": "2021-04-04T23:35:09.208902Z"
    },
    "papermill": {
     "duration": 0.06796,
     "end_time": "2021-04-04T23:35:09.209092",
     "exception": false,
     "start_time": "2021-04-04T23:35:09.141132",
     "status": "completed"
    },
    "tags": []
   },
   "outputs": [],
   "source": [
    "from sklearn.svm import OneClassSVM\n",
    "\n",
    "\n",
    "models = {\n",
    "    'oneclasssvm': OneClassSVM,\n",
    "    'knndatadescription': KNNDataDescription,\n",
    "}"
   ]
  },
  {
   "cell_type": "code",
   "execution_count": 22,
   "id": "4d72a0b1",
   "metadata": {
    "execution": {
     "iopub.execute_input": "2021-04-04T23:35:09.264581Z",
     "iopub.status.busy": "2021-04-04T23:35:09.263816Z",
     "iopub.status.idle": "2021-04-04T23:35:09.265927Z",
     "shell.execute_reply": "2021-04-04T23:35:09.266381Z"
    },
    "papermill": {
     "duration": 0.03156,
     "end_time": "2021-04-04T23:35:09.266521",
     "exception": false,
     "start_time": "2021-04-04T23:35:09.234961",
     "status": "completed"
    },
    "scrolled": true,
    "tags": []
   },
   "outputs": [],
   "source": [
    "model_cls = models[model_config['model_type']]\n",
    "model = model_cls(**model_config['hyperparameters'])"
   ]
  },
  {
   "cell_type": "markdown",
   "id": "e00cff3b",
   "metadata": {
    "papermill": {
     "duration": 0.030573,
     "end_time": "2021-04-04T23:35:09.320431",
     "exception": false,
     "start_time": "2021-04-04T23:35:09.289858",
     "status": "completed"
    },
    "tags": []
   },
   "source": [
    "# Fit"
   ]
  },
  {
   "cell_type": "code",
   "execution_count": 23,
   "id": "8b2ded89",
   "metadata": {
    "execution": {
     "iopub.execute_input": "2021-04-04T23:35:09.386883Z",
     "iopub.status.busy": "2021-04-04T23:35:09.384919Z",
     "iopub.status.idle": "2021-04-04T23:35:09.411613Z",
     "shell.execute_reply": "2021-04-04T23:35:09.411011Z"
    },
    "papermill": {
     "duration": 0.063117,
     "end_time": "2021-04-04T23:35:09.411734",
     "exception": false,
     "start_time": "2021-04-04T23:35:09.348617",
     "status": "completed"
    },
    "tags": []
   },
   "outputs": [],
   "source": [
    "model.fit(X_train)"
   ]
  },
  {
   "cell_type": "markdown",
   "id": "f99999f7",
   "metadata": {
    "papermill": {
     "duration": 0.028941,
     "end_time": "2021-04-04T23:35:09.464054",
     "exception": false,
     "start_time": "2021-04-04T23:35:09.435113",
     "status": "completed"
    },
    "tags": []
   },
   "source": [
    "# Predict"
   ]
  },
  {
   "cell_type": "code",
   "execution_count": 24,
   "id": "6536fbf7",
   "metadata": {
    "execution": {
     "iopub.execute_input": "2021-04-04T23:35:09.541389Z",
     "iopub.status.busy": "2021-04-04T23:35:09.531685Z",
     "iopub.status.idle": "2021-04-04T23:35:09.841884Z",
     "shell.execute_reply": "2021-04-04T23:35:09.841206Z"
    },
    "papermill": {
     "duration": 0.353329,
     "end_time": "2021-04-04T23:35:09.842019",
     "exception": false,
     "start_time": "2021-04-04T23:35:09.488690",
     "status": "completed"
    },
    "tags": []
   },
   "outputs": [],
   "source": [
    "predictions = model.predict(X_test)"
   ]
  },
  {
   "cell_type": "markdown",
   "id": "aa1c9881",
   "metadata": {
    "papermill": {
     "duration": 0.025485,
     "end_time": "2021-04-04T23:35:09.894888",
     "exception": false,
     "start_time": "2021-04-04T23:35:09.869403",
     "status": "completed"
    },
    "tags": []
   },
   "source": [
    "# Evaluate"
   ]
  },
  {
   "cell_type": "code",
   "execution_count": 25,
   "id": "894f0f04",
   "metadata": {
    "execution": {
     "iopub.execute_input": "2021-04-04T23:35:09.953822Z",
     "iopub.status.busy": "2021-04-04T23:35:09.952695Z",
     "iopub.status.idle": "2021-04-04T23:35:09.956274Z",
     "shell.execute_reply": "2021-04-04T23:35:09.957688Z"
    },
    "papermill": {
     "duration": 0.036563,
     "end_time": "2021-04-04T23:35:09.958122",
     "exception": false,
     "start_time": "2021-04-04T23:35:09.921559",
     "status": "completed"
    },
    "tags": []
   },
   "outputs": [],
   "source": [
    "from sklearn.metrics import f1_score"
   ]
  },
  {
   "cell_type": "code",
   "execution_count": 26,
   "id": "211744d3",
   "metadata": {
    "execution": {
     "iopub.execute_input": "2021-04-04T23:35:10.037415Z",
     "iopub.status.busy": "2021-04-04T23:35:10.036335Z",
     "iopub.status.idle": "2021-04-04T23:35:10.039509Z",
     "shell.execute_reply": "2021-04-04T23:35:10.038799Z"
    },
    "papermill": {
     "duration": 0.044102,
     "end_time": "2021-04-04T23:35:10.039654",
     "exception": false,
     "start_time": "2021-04-04T23:35:09.995552",
     "status": "completed"
    },
    "tags": []
   },
   "outputs": [],
   "source": [
    "y_test = y_test.replace([0, 1], [1, -1])"
   ]
  },
  {
   "cell_type": "code",
   "execution_count": 27,
   "id": "d68a9204",
   "metadata": {
    "execution": {
     "iopub.execute_input": "2021-04-04T23:35:10.110318Z",
     "iopub.status.busy": "2021-04-04T23:35:10.109207Z",
     "iopub.status.idle": "2021-04-04T23:35:10.111397Z",
     "shell.execute_reply": "2021-04-04T23:35:10.112334Z"
    },
    "papermill": {
     "duration": 0.043589,
     "end_time": "2021-04-04T23:35:10.112622",
     "exception": false,
     "start_time": "2021-04-04T23:35:10.069033",
     "status": "completed"
    },
    "tags": []
   },
   "outputs": [],
   "source": [
    "def evaluate(truths, predictions, pos_label, neg_label):\n",
    "    TP = 0\n",
    "    FP = 0\n",
    "    TN = 0\n",
    "    FN = 0\n",
    "\n",
    "    for truth, pred in zip(truths, predictions): \n",
    "        if truth == pred == pos_label:\n",
    "           TP += 1\n",
    "        elif pred == pos_label and truth == neg_label:\n",
    "           FP += 1\n",
    "        elif truth == pred == neg_label:\n",
    "           TN += 1\n",
    "        elif pred == neg_label and truth == pos_label:\n",
    "           FN += 1\n",
    "\n",
    "    precision = TP / (TP + FP)\n",
    "    sensitivity = TP / (TP + FN)\n",
    "    \n",
    "    return {\n",
    "        'true_pos': TP,\n",
    "        'false_pos': FP,\n",
    "        'false_neg': FN,\n",
    "        'true_neg': TN,\n",
    "        'precision': precision,\n",
    "        'sensitivity': sensitivity,\n",
    "        'f1': (2 * (precision * sensitivity)) / (precision + sensitivity)\n",
    "    }\n",
    "\n",
    "score = evaluate(y_test, predictions, pos_label=-1, neg_label=1)"
   ]
  },
  {
   "cell_type": "markdown",
   "id": "93596516",
   "metadata": {
    "papermill": {
     "duration": 0.030243,
     "end_time": "2021-04-04T23:35:10.190760",
     "exception": false,
     "start_time": "2021-04-04T23:35:10.160517",
     "status": "completed"
    },
    "tags": []
   },
   "source": [
    "# Report"
   ]
  },
  {
   "cell_type": "code",
   "execution_count": 28,
   "id": "bea5fba1",
   "metadata": {
    "execution": {
     "iopub.execute_input": "2021-04-04T23:35:10.251443Z",
     "iopub.status.busy": "2021-04-04T23:35:10.250493Z",
     "iopub.status.idle": "2021-04-04T23:35:10.255006Z",
     "shell.execute_reply": "2021-04-04T23:35:10.255635Z"
    },
    "papermill": {
     "duration": 0.038452,
     "end_time": "2021-04-04T23:35:10.255832",
     "exception": false,
     "start_time": "2021-04-04T23:35:10.217380",
     "status": "completed"
    },
    "tags": []
   },
   "outputs": [],
   "source": [
    "import csv\n",
    "\n",
    "\n",
    "dataset_config_name = DATASET_CONFIG_PATH.split('/')[-1].split('.')[0]\n",
    "model_config_name = MODEL_CONFIG_PATH.split('/')[-1].split('.')[0]\n",
    "configuration = f\"dataset_{dataset_config_name}-model_{model_config_name}\"\n",
    "\n",
    "with open('results.csv', 'a') as f:\n",
    "    report = dict({'configuration': configuration}, **score)\n",
    "    writer = csv.DictWriter(f, report.keys())\n",
    "    writer.writerow(report)"
   ]
  }
 ],
 "metadata": {
  "celltoolbar": "Tags",
  "kernelspec": {
   "display_name": "Python 3",
   "language": "python",
   "name": "python3"
  },
  "language_info": {
   "codemirror_mode": {
    "name": "ipython",
    "version": 3
   },
   "file_extension": ".py",
   "mimetype": "text/x-python",
   "name": "python",
   "nbconvert_exporter": "python",
   "pygments_lexer": "ipython3",
   "version": "3.9.1"
  },
  "papermill": {
   "default_parameters": {},
   "duration": 7.079554,
   "end_time": "2021-04-04T23:35:11.813720",
   "environment_variables": {},
   "exception": null,
   "input_path": "main.ipynb",
   "output_path": "runs/dataset_000153-model_000003.ipynb",
   "parameters": {
    "DATASET_CONFIG_PATH": "config/dataset/000153.json",
    "MODEL_CONFIG_PATH": "config/model/000003.json",
    "PROFILE_REPORTING": false
   },
   "start_time": "2021-04-04T23:35:04.734166",
   "version": "2.3.3"
  }
 },
 "nbformat": 4,
 "nbformat_minor": 5
}