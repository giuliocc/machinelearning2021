{
 "cells": [
  {
   "cell_type": "markdown",
   "id": "51c71c25",
   "metadata": {
    "papermill": {
     "duration": 0.031827,
     "end_time": "2021-04-04T23:24:04.052915",
     "exception": false,
     "start_time": "2021-04-04T23:24:04.021088",
     "status": "completed"
    },
    "tags": []
   },
   "source": [
    "# Parametrizing"
   ]
  },
  {
   "cell_type": "code",
   "execution_count": 1,
   "id": "3b136394",
   "metadata": {
    "execution": {
     "iopub.execute_input": "2021-04-04T23:24:04.123249Z",
     "iopub.status.busy": "2021-04-04T23:24:04.122370Z",
     "iopub.status.idle": "2021-04-04T23:24:04.125603Z",
     "shell.execute_reply": "2021-04-04T23:24:04.124477Z"
    },
    "papermill": {
     "duration": 0.044074,
     "end_time": "2021-04-04T23:24:04.125951",
     "exception": false,
     "start_time": "2021-04-04T23:24:04.081877",
     "status": "completed"
    },
    "tags": [
     "parameters"
    ]
   },
   "outputs": [],
   "source": [
    "DATASET_CONFIG_PATH = 'config/dataset/kc1_001.json'\n",
    "MODEL_CONFIG_PATH = 'config/model/knndd_001.json'\n",
    "PROFILE_REPORTING = False"
   ]
  },
  {
   "cell_type": "code",
   "execution_count": 2,
   "id": "12adc7eb",
   "metadata": {
    "execution": {
     "iopub.execute_input": "2021-04-04T23:24:04.176791Z",
     "iopub.status.busy": "2021-04-04T23:24:04.175847Z",
     "iopub.status.idle": "2021-04-04T23:24:04.178143Z",
     "shell.execute_reply": "2021-04-04T23:24:04.178852Z"
    },
    "papermill": {
     "duration": 0.02971,
     "end_time": "2021-04-04T23:24:04.179025",
     "exception": false,
     "start_time": "2021-04-04T23:24:04.149315",
     "status": "completed"
    },
    "tags": [
     "injected-parameters"
    ]
   },
   "outputs": [],
   "source": [
    "# Parameters\n",
    "DATASET_CONFIG_PATH = \"config/dataset/000128.json\"\n",
    "MODEL_CONFIG_PATH = \"config/model/000002.json\"\n",
    "PROFILE_REPORTING = False\n"
   ]
  },
  {
   "cell_type": "code",
   "execution_count": 3,
   "id": "b80f2a10",
   "metadata": {
    "execution": {
     "iopub.execute_input": "2021-04-04T23:24:04.230413Z",
     "iopub.status.busy": "2021-04-04T23:24:04.229577Z",
     "iopub.status.idle": "2021-04-04T23:24:04.232977Z",
     "shell.execute_reply": "2021-04-04T23:24:04.234140Z"
    },
    "papermill": {
     "duration": 0.033676,
     "end_time": "2021-04-04T23:24:04.234513",
     "exception": false,
     "start_time": "2021-04-04T23:24:04.200837",
     "status": "completed"
    },
    "tags": []
   },
   "outputs": [],
   "source": [
    "import json\n",
    "\n",
    "\n",
    "with open(DATASET_CONFIG_PATH) as f:\n",
    "    dataset_config = json.load(f)\n",
    "\n",
    "with open(MODEL_CONFIG_PATH) as f:\n",
    "    model_config = json.load(f)"
   ]
  },
  {
   "cell_type": "markdown",
   "id": "9a4b0e2d",
   "metadata": {
    "papermill": {
     "duration": 0.022345,
     "end_time": "2021-04-04T23:24:04.278623",
     "exception": false,
     "start_time": "2021-04-04T23:24:04.256278",
     "status": "completed"
    },
    "tags": []
   },
   "source": [
    "# Profiling"
   ]
  },
  {
   "cell_type": "code",
   "execution_count": 4,
   "id": "a3e0289b",
   "metadata": {
    "execution": {
     "iopub.execute_input": "2021-04-04T23:24:04.331476Z",
     "iopub.status.busy": "2021-04-04T23:24:04.330719Z",
     "iopub.status.idle": "2021-04-04T23:24:05.841190Z",
     "shell.execute_reply": "2021-04-04T23:24:05.840570Z"
    },
    "papermill": {
     "duration": 1.539683,
     "end_time": "2021-04-04T23:24:05.841311",
     "exception": false,
     "start_time": "2021-04-04T23:24:04.301628",
     "status": "completed"
    },
    "tags": []
   },
   "outputs": [],
   "source": [
    "import pandas as pd\n",
    "from pandas_profiling import ProfileReport"
   ]
  },
  {
   "cell_type": "code",
   "execution_count": 5,
   "id": "ee6c0666",
   "metadata": {
    "execution": {
     "iopub.execute_input": "2021-04-04T23:24:05.890255Z",
     "iopub.status.busy": "2021-04-04T23:24:05.889632Z",
     "iopub.status.idle": "2021-04-04T23:24:05.898165Z",
     "shell.execute_reply": "2021-04-04T23:24:05.898643Z"
    },
    "papermill": {
     "duration": 0.036247,
     "end_time": "2021-04-04T23:24:05.898793",
     "exception": false,
     "start_time": "2021-04-04T23:24:05.862546",
     "status": "completed"
    },
    "tags": []
   },
   "outputs": [],
   "source": [
    "df = pd.read_csv(dataset_config['dataset_path'])"
   ]
  },
  {
   "cell_type": "code",
   "execution_count": 6,
   "id": "7eca6c4a",
   "metadata": {
    "execution": {
     "iopub.execute_input": "2021-04-04T23:24:05.973156Z",
     "iopub.status.busy": "2021-04-04T23:24:05.958109Z",
     "iopub.status.idle": "2021-04-04T23:24:05.977969Z",
     "shell.execute_reply": "2021-04-04T23:24:05.978477Z"
    },
    "papermill": {
     "duration": 0.055992,
     "end_time": "2021-04-04T23:24:05.978638",
     "exception": false,
     "start_time": "2021-04-04T23:24:05.922646",
     "status": "completed"
    },
    "tags": []
   },
   "outputs": [
    {
     "name": "stdout",
     "output_type": "stream",
     "text": [
      "<class 'pandas.core.frame.DataFrame'>\n",
      "RangeIndex: 498 entries, 0 to 497\n",
      "Data columns (total 23 columns):\n",
      " #   Column             Non-Null Count  Dtype  \n",
      "---  ------             --------------  -----  \n",
      " 0   id                 498 non-null    int64  \n",
      " 1   loc                498 non-null    float64\n",
      " 2   v(g)               498 non-null    float64\n",
      " 3   ev(g)              498 non-null    float64\n",
      " 4   iv(g)              498 non-null    float64\n",
      " 5   n                  498 non-null    float64\n",
      " 6   v                  498 non-null    float64\n",
      " 7   l                  498 non-null    float64\n",
      " 8   d                  498 non-null    float64\n",
      " 9   i                  498 non-null    float64\n",
      " 10  e                  498 non-null    float64\n",
      " 11  b                  498 non-null    float64\n",
      " 12  t                  498 non-null    float64\n",
      " 13  lOCode             498 non-null    int64  \n",
      " 14  lOComment          498 non-null    int64  \n",
      " 15  lOBlank            498 non-null    int64  \n",
      " 16  locCodeAndComment  498 non-null    int64  \n",
      " 17  uniq_Op            498 non-null    float64\n",
      " 18  uniq_Opnd          498 non-null    float64\n",
      " 19  total_Op           498 non-null    float64\n",
      " 20  total_Opnd         498 non-null    float64\n",
      " 21  branchCount        498 non-null    float64\n",
      " 22  defects            498 non-null    bool   \n",
      "dtypes: bool(1), float64(17), int64(5)\n",
      "memory usage: 86.2 KB\n"
     ]
    }
   ],
   "source": [
    "df.info()"
   ]
  },
  {
   "cell_type": "code",
   "execution_count": 7,
   "id": "3638e5e8",
   "metadata": {
    "execution": {
     "iopub.execute_input": "2021-04-04T23:24:06.031182Z",
     "iopub.status.busy": "2021-04-04T23:24:06.030406Z",
     "iopub.status.idle": "2021-04-04T23:24:06.055741Z",
     "shell.execute_reply": "2021-04-04T23:24:06.056186Z"
    },
    "papermill": {
     "duration": 0.056344,
     "end_time": "2021-04-04T23:24:06.056325",
     "exception": false,
     "start_time": "2021-04-04T23:24:05.999981",
     "status": "completed"
    },
    "tags": []
   },
   "outputs": [
    {
     "data": {
      "text/html": [
       "<div>\n",
       "<style scoped>\n",
       "    .dataframe tbody tr th:only-of-type {\n",
       "        vertical-align: middle;\n",
       "    }\n",
       "\n",
       "    .dataframe tbody tr th {\n",
       "        vertical-align: top;\n",
       "    }\n",
       "\n",
       "    .dataframe thead th {\n",
       "        text-align: right;\n",
       "    }\n",
       "</style>\n",
       "<table border=\"1\" class=\"dataframe\">\n",
       "  <thead>\n",
       "    <tr style=\"text-align: right;\">\n",
       "      <th></th>\n",
       "      <th>id</th>\n",
       "      <th>loc</th>\n",
       "      <th>v(g)</th>\n",
       "      <th>ev(g)</th>\n",
       "      <th>iv(g)</th>\n",
       "      <th>n</th>\n",
       "      <th>v</th>\n",
       "      <th>l</th>\n",
       "      <th>d</th>\n",
       "      <th>i</th>\n",
       "      <th>...</th>\n",
       "      <th>lOCode</th>\n",
       "      <th>lOComment</th>\n",
       "      <th>lOBlank</th>\n",
       "      <th>locCodeAndComment</th>\n",
       "      <th>uniq_Op</th>\n",
       "      <th>uniq_Opnd</th>\n",
       "      <th>total_Op</th>\n",
       "      <th>total_Opnd</th>\n",
       "      <th>branchCount</th>\n",
       "      <th>defects</th>\n",
       "    </tr>\n",
       "  </thead>\n",
       "  <tbody>\n",
       "    <tr>\n",
       "      <th>0</th>\n",
       "      <td>1</td>\n",
       "      <td>1.1</td>\n",
       "      <td>1.4</td>\n",
       "      <td>1.4</td>\n",
       "      <td>1.4</td>\n",
       "      <td>1.3</td>\n",
       "      <td>1.30</td>\n",
       "      <td>1.30</td>\n",
       "      <td>1.30</td>\n",
       "      <td>1.30</td>\n",
       "      <td>...</td>\n",
       "      <td>2</td>\n",
       "      <td>2</td>\n",
       "      <td>2</td>\n",
       "      <td>2</td>\n",
       "      <td>1.2</td>\n",
       "      <td>1.2</td>\n",
       "      <td>1.2</td>\n",
       "      <td>1.2</td>\n",
       "      <td>1.4</td>\n",
       "      <td>False</td>\n",
       "    </tr>\n",
       "    <tr>\n",
       "      <th>1</th>\n",
       "      <td>2</td>\n",
       "      <td>1.0</td>\n",
       "      <td>1.0</td>\n",
       "      <td>1.0</td>\n",
       "      <td>1.0</td>\n",
       "      <td>1.0</td>\n",
       "      <td>1.00</td>\n",
       "      <td>1.00</td>\n",
       "      <td>1.00</td>\n",
       "      <td>1.00</td>\n",
       "      <td>...</td>\n",
       "      <td>1</td>\n",
       "      <td>1</td>\n",
       "      <td>1</td>\n",
       "      <td>1</td>\n",
       "      <td>1.0</td>\n",
       "      <td>1.0</td>\n",
       "      <td>1.0</td>\n",
       "      <td>1.0</td>\n",
       "      <td>1.0</td>\n",
       "      <td>True</td>\n",
       "    </tr>\n",
       "    <tr>\n",
       "      <th>2</th>\n",
       "      <td>3</td>\n",
       "      <td>24.0</td>\n",
       "      <td>5.0</td>\n",
       "      <td>1.0</td>\n",
       "      <td>3.0</td>\n",
       "      <td>63.0</td>\n",
       "      <td>309.13</td>\n",
       "      <td>0.11</td>\n",
       "      <td>9.50</td>\n",
       "      <td>32.54</td>\n",
       "      <td>...</td>\n",
       "      <td>1</td>\n",
       "      <td>0</td>\n",
       "      <td>6</td>\n",
       "      <td>0</td>\n",
       "      <td>15.0</td>\n",
       "      <td>15.0</td>\n",
       "      <td>44.0</td>\n",
       "      <td>19.0</td>\n",
       "      <td>9.0</td>\n",
       "      <td>False</td>\n",
       "    </tr>\n",
       "    <tr>\n",
       "      <th>3</th>\n",
       "      <td>4</td>\n",
       "      <td>20.0</td>\n",
       "      <td>4.0</td>\n",
       "      <td>4.0</td>\n",
       "      <td>2.0</td>\n",
       "      <td>47.0</td>\n",
       "      <td>215.49</td>\n",
       "      <td>0.06</td>\n",
       "      <td>16.00</td>\n",
       "      <td>13.47</td>\n",
       "      <td>...</td>\n",
       "      <td>0</td>\n",
       "      <td>0</td>\n",
       "      <td>3</td>\n",
       "      <td>0</td>\n",
       "      <td>16.0</td>\n",
       "      <td>8.0</td>\n",
       "      <td>31.0</td>\n",
       "      <td>16.0</td>\n",
       "      <td>7.0</td>\n",
       "      <td>False</td>\n",
       "    </tr>\n",
       "    <tr>\n",
       "      <th>4</th>\n",
       "      <td>5</td>\n",
       "      <td>24.0</td>\n",
       "      <td>6.0</td>\n",
       "      <td>6.0</td>\n",
       "      <td>2.0</td>\n",
       "      <td>72.0</td>\n",
       "      <td>346.13</td>\n",
       "      <td>0.06</td>\n",
       "      <td>17.33</td>\n",
       "      <td>19.97</td>\n",
       "      <td>...</td>\n",
       "      <td>0</td>\n",
       "      <td>0</td>\n",
       "      <td>3</td>\n",
       "      <td>0</td>\n",
       "      <td>16.0</td>\n",
       "      <td>12.0</td>\n",
       "      <td>46.0</td>\n",
       "      <td>26.0</td>\n",
       "      <td>11.0</td>\n",
       "      <td>False</td>\n",
       "    </tr>\n",
       "  </tbody>\n",
       "</table>\n",
       "<p>5 rows × 23 columns</p>\n",
       "</div>"
      ],
      "text/plain": [
       "   id   loc  v(g)  ev(g)  iv(g)     n       v     l      d      i  ...  \\\n",
       "0   1   1.1   1.4    1.4    1.4   1.3    1.30  1.30   1.30   1.30  ...   \n",
       "1   2   1.0   1.0    1.0    1.0   1.0    1.00  1.00   1.00   1.00  ...   \n",
       "2   3  24.0   5.0    1.0    3.0  63.0  309.13  0.11   9.50  32.54  ...   \n",
       "3   4  20.0   4.0    4.0    2.0  47.0  215.49  0.06  16.00  13.47  ...   \n",
       "4   5  24.0   6.0    6.0    2.0  72.0  346.13  0.06  17.33  19.97  ...   \n",
       "\n",
       "   lOCode  lOComment  lOBlank  locCodeAndComment  uniq_Op  uniq_Opnd  \\\n",
       "0       2          2        2                  2      1.2        1.2   \n",
       "1       1          1        1                  1      1.0        1.0   \n",
       "2       1          0        6                  0     15.0       15.0   \n",
       "3       0          0        3                  0     16.0        8.0   \n",
       "4       0          0        3                  0     16.0       12.0   \n",
       "\n",
       "   total_Op  total_Opnd  branchCount  defects  \n",
       "0       1.2         1.2          1.4    False  \n",
       "1       1.0         1.0          1.0     True  \n",
       "2      44.0        19.0          9.0    False  \n",
       "3      31.0        16.0          7.0    False  \n",
       "4      46.0        26.0         11.0    False  \n",
       "\n",
       "[5 rows x 23 columns]"
      ]
     },
     "execution_count": 7,
     "metadata": {},
     "output_type": "execute_result"
    }
   ],
   "source": [
    "df.head()"
   ]
  },
  {
   "cell_type": "code",
   "execution_count": 8,
   "id": "733e95eb",
   "metadata": {
    "execution": {
     "iopub.execute_input": "2021-04-04T23:24:06.118512Z",
     "iopub.status.busy": "2021-04-04T23:24:06.117657Z",
     "iopub.status.idle": "2021-04-04T23:24:06.120649Z",
     "shell.execute_reply": "2021-04-04T23:24:06.119966Z"
    },
    "papermill": {
     "duration": 0.037545,
     "end_time": "2021-04-04T23:24:06.120966",
     "exception": false,
     "start_time": "2021-04-04T23:24:06.083421",
     "status": "completed"
    },
    "tags": []
   },
   "outputs": [],
   "source": [
    "del df['id']"
   ]
  },
  {
   "cell_type": "code",
   "execution_count": 9,
   "id": "6ff6f5b0",
   "metadata": {
    "execution": {
     "iopub.execute_input": "2021-04-04T23:24:06.172059Z",
     "iopub.status.busy": "2021-04-04T23:24:06.171201Z",
     "iopub.status.idle": "2021-04-04T23:24:06.173587Z",
     "shell.execute_reply": "2021-04-04T23:24:06.174076Z"
    },
    "papermill": {
     "duration": 0.028542,
     "end_time": "2021-04-04T23:24:06.174225",
     "exception": false,
     "start_time": "2021-04-04T23:24:06.145683",
     "status": "completed"
    },
    "tags": []
   },
   "outputs": [],
   "source": [
    "if PROFILE_REPORTING:\n",
    "    ProfileReport(df).to_widgets()"
   ]
  },
  {
   "cell_type": "markdown",
   "id": "1deaf3f0",
   "metadata": {
    "papermill": {
     "duration": 0.026502,
     "end_time": "2021-04-04T23:24:06.225897",
     "exception": false,
     "start_time": "2021-04-04T23:24:06.199395",
     "status": "completed"
    },
    "tags": []
   },
   "source": [
    "# Preprocess"
   ]
  },
  {
   "cell_type": "code",
   "execution_count": 10,
   "id": "1513e563",
   "metadata": {
    "execution": {
     "iopub.execute_input": "2021-04-04T23:24:06.277638Z",
     "iopub.status.busy": "2021-04-04T23:24:06.276765Z",
     "iopub.status.idle": "2021-04-04T23:24:06.279483Z",
     "shell.execute_reply": "2021-04-04T23:24:06.280075Z"
    },
    "papermill": {
     "duration": 0.028698,
     "end_time": "2021-04-04T23:24:06.280259",
     "exception": false,
     "start_time": "2021-04-04T23:24:06.251561",
     "status": "completed"
    },
    "tags": []
   },
   "outputs": [],
   "source": [
    "working_df = df.copy()"
   ]
  },
  {
   "cell_type": "code",
   "execution_count": 11,
   "id": "3b26d675",
   "metadata": {
    "execution": {
     "iopub.execute_input": "2021-04-04T23:24:06.338614Z",
     "iopub.status.busy": "2021-04-04T23:24:06.337038Z",
     "iopub.status.idle": "2021-04-04T23:24:06.340682Z",
     "shell.execute_reply": "2021-04-04T23:24:06.341399Z"
    },
    "papermill": {
     "duration": 0.036948,
     "end_time": "2021-04-04T23:24:06.341640",
     "exception": false,
     "start_time": "2021-04-04T23:24:06.304692",
     "status": "completed"
    },
    "tags": []
   },
   "outputs": [],
   "source": [
    "working_df['defects'] = working_df['defects'].replace([False, True], [0, 1])"
   ]
  },
  {
   "cell_type": "code",
   "execution_count": 12,
   "id": "eb48604f",
   "metadata": {
    "execution": {
     "iopub.execute_input": "2021-04-04T23:24:06.406753Z",
     "iopub.status.busy": "2021-04-04T23:24:06.405693Z",
     "iopub.status.idle": "2021-04-04T23:24:06.410142Z",
     "shell.execute_reply": "2021-04-04T23:24:06.408788Z"
    },
    "papermill": {
     "duration": 0.037665,
     "end_time": "2021-04-04T23:24:06.410462",
     "exception": false,
     "start_time": "2021-04-04T23:24:06.372797",
     "status": "completed"
    },
    "tags": []
   },
   "outputs": [],
   "source": [
    "for col in dataset_config['delete_columns']:\n",
    "    del working_df[col]"
   ]
  },
  {
   "cell_type": "code",
   "execution_count": 13,
   "id": "9a17bc29",
   "metadata": {
    "execution": {
     "iopub.execute_input": "2021-04-04T23:24:06.470743Z",
     "iopub.status.busy": "2021-04-04T23:24:06.469689Z",
     "iopub.status.idle": "2021-04-04T23:24:06.480094Z",
     "shell.execute_reply": "2021-04-04T23:24:06.481130Z"
    },
    "papermill": {
     "duration": 0.047803,
     "end_time": "2021-04-04T23:24:06.481511",
     "exception": false,
     "start_time": "2021-04-04T23:24:06.433708",
     "status": "completed"
    },
    "tags": []
   },
   "outputs": [],
   "source": [
    "working_df = working_df.drop_duplicates()"
   ]
  },
  {
   "cell_type": "markdown",
   "id": "a4d52ca6",
   "metadata": {
    "papermill": {
     "duration": 0.023539,
     "end_time": "2021-04-04T23:24:06.531186",
     "exception": false,
     "start_time": "2021-04-04T23:24:06.507647",
     "status": "completed"
    },
    "tags": []
   },
   "source": [
    "# Split"
   ]
  },
  {
   "cell_type": "code",
   "execution_count": 14,
   "id": "3e9ee4b5",
   "metadata": {
    "execution": {
     "iopub.execute_input": "2021-04-04T23:24:06.589486Z",
     "iopub.status.busy": "2021-04-04T23:24:06.588638Z",
     "iopub.status.idle": "2021-04-04T23:24:06.622754Z",
     "shell.execute_reply": "2021-04-04T23:24:06.623257Z"
    },
    "papermill": {
     "duration": 0.066028,
     "end_time": "2021-04-04T23:24:06.623405",
     "exception": false,
     "start_time": "2021-04-04T23:24:06.557377",
     "status": "completed"
    },
    "tags": []
   },
   "outputs": [],
   "source": [
    "from sklearn.model_selection import train_test_split"
   ]
  },
  {
   "cell_type": "code",
   "execution_count": 15,
   "id": "274004ce",
   "metadata": {
    "execution": {
     "iopub.execute_input": "2021-04-04T23:24:06.681473Z",
     "iopub.status.busy": "2021-04-04T23:24:06.680249Z",
     "iopub.status.idle": "2021-04-04T23:24:06.688825Z",
     "shell.execute_reply": "2021-04-04T23:24:06.689551Z"
    },
    "papermill": {
     "duration": 0.043124,
     "end_time": "2021-04-04T23:24:06.689738",
     "exception": false,
     "start_time": "2021-04-04T23:24:06.646614",
     "status": "completed"
    },
    "scrolled": true,
    "tags": []
   },
   "outputs": [],
   "source": [
    "inlier, outlier = working_df[working_df['defects'] == 0], working_df[working_df['defects'] == 1]"
   ]
  },
  {
   "cell_type": "code",
   "execution_count": 16,
   "id": "753c7b03",
   "metadata": {
    "execution": {
     "iopub.execute_input": "2021-04-04T23:24:06.758758Z",
     "iopub.status.busy": "2021-04-04T23:24:06.756302Z",
     "iopub.status.idle": "2021-04-04T23:24:06.762449Z",
     "shell.execute_reply": "2021-04-04T23:24:06.762989Z"
    },
    "papermill": {
     "duration": 0.04729,
     "end_time": "2021-04-04T23:24:06.763154",
     "exception": false,
     "start_time": "2021-04-04T23:24:06.715864",
     "status": "completed"
    },
    "tags": []
   },
   "outputs": [],
   "source": [
    "X_inlier = inlier.copy()\n",
    "y_inlier = X_inlier.pop('defects')\n",
    "X_outlier = outlier.copy()\n",
    "y_outlier = X_outlier.pop('defects')"
   ]
  },
  {
   "cell_type": "code",
   "execution_count": 17,
   "id": "2ba43193",
   "metadata": {
    "execution": {
     "iopub.execute_input": "2021-04-04T23:24:06.819949Z",
     "iopub.status.busy": "2021-04-04T23:24:06.819246Z",
     "iopub.status.idle": "2021-04-04T23:24:06.822321Z",
     "shell.execute_reply": "2021-04-04T23:24:06.821740Z"
    },
    "papermill": {
     "duration": 0.035883,
     "end_time": "2021-04-04T23:24:06.822440",
     "exception": false,
     "start_time": "2021-04-04T23:24:06.786557",
     "status": "completed"
    },
    "tags": []
   },
   "outputs": [],
   "source": [
    "test_size = dataset_config['test_size']\n",
    "random_state = dataset_config['random_state']\n",
    "\n",
    "X_inlier_train, X_inlier_test, y_inlier_train, y_inlier_test = train_test_split(\n",
    "    X_inlier,\n",
    "    y_inlier,\n",
    "    test_size=test_size,\n",
    "    random_state=random_state\n",
    ")"
   ]
  },
  {
   "cell_type": "code",
   "execution_count": 18,
   "id": "0b7582ca",
   "metadata": {
    "execution": {
     "iopub.execute_input": "2021-04-04T23:24:06.888081Z",
     "iopub.status.busy": "2021-04-04T23:24:06.887162Z",
     "iopub.status.idle": "2021-04-04T23:24:06.888976Z",
     "shell.execute_reply": "2021-04-04T23:24:06.889476Z"
    },
    "papermill": {
     "duration": 0.042647,
     "end_time": "2021-04-04T23:24:06.889619",
     "exception": false,
     "start_time": "2021-04-04T23:24:06.846972",
     "status": "completed"
    },
    "tags": []
   },
   "outputs": [],
   "source": [
    "test_outlier_size = dataset_config['test_outlier_size']\n",
    "if test_outlier_size > 0.0:\n",
    "    X_outlier_train, X_outlier_test, y_outlier_train, y_outlier_test = train_test_split(\n",
    "        X_outlier,\n",
    "        y_outlier,\n",
    "        test_size=test_outlier_size,\n",
    "        random_state=random_state\n",
    "    )\n",
    "else:\n",
    "    X_outlier_train, y_outlier_train = pd.DataFrame(columns=X_outlier.columns), pd.Series(dtype='int64')\n",
    "    X_outlier_test, y_outlier_test = X_outlier.copy(), y_outlier.copy()"
   ]
  },
  {
   "cell_type": "code",
   "execution_count": 19,
   "id": "c34363db",
   "metadata": {
    "execution": {
     "iopub.execute_input": "2021-04-04T23:24:06.949344Z",
     "iopub.status.busy": "2021-04-04T23:24:06.948570Z",
     "iopub.status.idle": "2021-04-04T23:24:06.950819Z",
     "shell.execute_reply": "2021-04-04T23:24:06.951432Z"
    },
    "papermill": {
     "duration": 0.03502,
     "end_time": "2021-04-04T23:24:06.951593",
     "exception": false,
     "start_time": "2021-04-04T23:24:06.916573",
     "status": "completed"
    },
    "tags": []
   },
   "outputs": [],
   "source": [
    "X_train, y_train = pd.concat([X_inlier_train, X_outlier_train], ignore_index=True), pd.concat([y_inlier_train, y_outlier_train], ignore_index=True)\n",
    "X_test, y_test = pd.concat([X_inlier_test, X_outlier_test], ignore_index=True), pd.concat([y_inlier_test, y_outlier_test], ignore_index=True)"
   ]
  },
  {
   "cell_type": "markdown",
   "id": "7cde7309",
   "metadata": {
    "papermill": {
     "duration": 0.028417,
     "end_time": "2021-04-04T23:24:07.005025",
     "exception": false,
     "start_time": "2021-04-04T23:24:06.976608",
     "status": "completed"
    },
    "tags": []
   },
   "source": [
    "# Model"
   ]
  },
  {
   "cell_type": "code",
   "execution_count": 20,
   "id": "2b12a415",
   "metadata": {
    "execution": {
     "iopub.execute_input": "2021-04-04T23:24:07.069423Z",
     "iopub.status.busy": "2021-04-04T23:24:07.068527Z",
     "iopub.status.idle": "2021-04-04T23:24:07.071606Z",
     "shell.execute_reply": "2021-04-04T23:24:07.071003Z"
    },
    "papermill": {
     "duration": 0.041604,
     "end_time": "2021-04-04T23:24:07.071747",
     "exception": false,
     "start_time": "2021-04-04T23:24:07.030143",
     "status": "completed"
    },
    "tags": []
   },
   "outputs": [],
   "source": [
    "from math import sqrt\n",
    "\n",
    "\n",
    "class KNNDataDescription:\n",
    "    def __init__(self, k=5, outlier_threshold=1.0):\n",
    "        self.k = k\n",
    "        self.outlier_threshold = outlier_threshold\n",
    "        self.X = []\n",
    "    \n",
    "    def fit(self, X):\n",
    "        self.X = [features.to_list() for index, features in X.iterrows()]\n",
    "\n",
    "    def predict(self, entries):\n",
    "        return [self.predict_entry(features.to_list()) for index, features in entries.iterrows()]\n",
    "    \n",
    "    def predict_entry(self, entry):\n",
    "        kth_neighbor, kth_distance = self.get_kth_neighbor(entry, self.k)\n",
    "        kth_kth_neighbor, kth_kth_distance = self.get_kth_neighbor(kth_neighbor, self.k + 1)\n",
    "\n",
    "        outlier_score = kth_distance / (kth_kth_distance + 0.000001)\n",
    "\n",
    "        return 1 if outlier_score < self.outlier_threshold else -1\n",
    "        \n",
    "    def euclidean_distance(self, features1, features2):\n",
    "        distance = 0.0\n",
    "        for feat1, feat2 in zip(features1, features2):\n",
    "            distance += (feat1 - feat2)**2\n",
    "                \n",
    "        return sqrt(distance)\n",
    "\n",
    "    def get_neighbors(self, entry, k):\n",
    "        distance_to_data_points = [\n",
    "            (data_point, self.euclidean_distance(entry, data_point))\n",
    "            for data_point in self.X\n",
    "        ]\n",
    "        sorted_by_distance = sorted(distance_to_data_points, key=lambda tup: tup[1])\n",
    "        neighbors = sorted_by_distance[:k]\n",
    "        return neighbors\n",
    "\n",
    "    def get_kth_neighbor(self, entry, k):\n",
    "        neighbors = self.get_neighbors(entry, k)\n",
    "        return neighbors[-1]\n"
   ]
  },
  {
   "cell_type": "code",
   "execution_count": 21,
   "id": "1fa9ec1c",
   "metadata": {
    "execution": {
     "iopub.execute_input": "2021-04-04T23:24:07.132304Z",
     "iopub.status.busy": "2021-04-04T23:24:07.131459Z",
     "iopub.status.idle": "2021-04-04T23:24:07.154795Z",
     "shell.execute_reply": "2021-04-04T23:24:07.154238Z"
    },
    "papermill": {
     "duration": 0.05547,
     "end_time": "2021-04-04T23:24:07.154918",
     "exception": false,
     "start_time": "2021-04-04T23:24:07.099448",
     "status": "completed"
    },
    "tags": []
   },
   "outputs": [],
   "source": [
    "from sklearn.svm import OneClassSVM\n",
    "\n",
    "\n",
    "models = {\n",
    "    'oneclasssvm': OneClassSVM,\n",
    "    'knndatadescription': KNNDataDescription,\n",
    "}"
   ]
  },
  {
   "cell_type": "code",
   "execution_count": 22,
   "id": "4d72a0b1",
   "metadata": {
    "execution": {
     "iopub.execute_input": "2021-04-04T23:24:07.209108Z",
     "iopub.status.busy": "2021-04-04T23:24:07.208002Z",
     "iopub.status.idle": "2021-04-04T23:24:07.211152Z",
     "shell.execute_reply": "2021-04-04T23:24:07.210617Z"
    },
    "papermill": {
     "duration": 0.030795,
     "end_time": "2021-04-04T23:24:07.211271",
     "exception": false,
     "start_time": "2021-04-04T23:24:07.180476",
     "status": "completed"
    },
    "scrolled": true,
    "tags": []
   },
   "outputs": [],
   "source": [
    "model_cls = models[model_config['model_type']]\n",
    "model = model_cls(**model_config['hyperparameters'])"
   ]
  },
  {
   "cell_type": "markdown",
   "id": "e00cff3b",
   "metadata": {
    "papermill": {
     "duration": 0.026374,
     "end_time": "2021-04-04T23:24:07.263044",
     "exception": false,
     "start_time": "2021-04-04T23:24:07.236670",
     "status": "completed"
    },
    "tags": []
   },
   "source": [
    "# Fit"
   ]
  },
  {
   "cell_type": "code",
   "execution_count": 23,
   "id": "8b2ded89",
   "metadata": {
    "execution": {
     "iopub.execute_input": "2021-04-04T23:24:07.349832Z",
     "iopub.status.busy": "2021-04-04T23:24:07.323053Z",
     "iopub.status.idle": "2021-04-04T23:24:07.354269Z",
     "shell.execute_reply": "2021-04-04T23:24:07.354880Z"
    },
    "papermill": {
     "duration": 0.066241,
     "end_time": "2021-04-04T23:24:07.355051",
     "exception": false,
     "start_time": "2021-04-04T23:24:07.288810",
     "status": "completed"
    },
    "tags": []
   },
   "outputs": [],
   "source": [
    "model.fit(X_train)"
   ]
  },
  {
   "cell_type": "markdown",
   "id": "f99999f7",
   "metadata": {
    "papermill": {
     "duration": 0.033738,
     "end_time": "2021-04-04T23:24:07.417258",
     "exception": false,
     "start_time": "2021-04-04T23:24:07.383520",
     "status": "completed"
    },
    "tags": []
   },
   "source": [
    "# Predict"
   ]
  },
  {
   "cell_type": "code",
   "execution_count": 24,
   "id": "6536fbf7",
   "metadata": {
    "execution": {
     "iopub.execute_input": "2021-04-04T23:24:07.476315Z",
     "iopub.status.busy": "2021-04-04T23:24:07.475217Z",
     "iopub.status.idle": "2021-04-04T23:24:07.894534Z",
     "shell.execute_reply": "2021-04-04T23:24:07.893836Z"
    },
    "papermill": {
     "duration": 0.449567,
     "end_time": "2021-04-04T23:24:07.894674",
     "exception": false,
     "start_time": "2021-04-04T23:24:07.445107",
     "status": "completed"
    },
    "tags": []
   },
   "outputs": [],
   "source": [
    "predictions = model.predict(X_test)"
   ]
  },
  {
   "cell_type": "markdown",
   "id": "aa1c9881",
   "metadata": {
    "papermill": {
     "duration": 0.028799,
     "end_time": "2021-04-04T23:24:07.948874",
     "exception": false,
     "start_time": "2021-04-04T23:24:07.920075",
     "status": "completed"
    },
    "tags": []
   },
   "source": [
    "# Evaluate"
   ]
  },
  {
   "cell_type": "code",
   "execution_count": 25,
   "id": "894f0f04",
   "metadata": {
    "execution": {
     "iopub.execute_input": "2021-04-04T23:24:08.004378Z",
     "iopub.status.busy": "2021-04-04T23:24:08.003792Z",
     "iopub.status.idle": "2021-04-04T23:24:08.006293Z",
     "shell.execute_reply": "2021-04-04T23:24:08.005713Z"
    },
    "papermill": {
     "duration": 0.032595,
     "end_time": "2021-04-04T23:24:08.006475",
     "exception": false,
     "start_time": "2021-04-04T23:24:07.973880",
     "status": "completed"
    },
    "tags": []
   },
   "outputs": [],
   "source": [
    "from sklearn.metrics import f1_score"
   ]
  },
  {
   "cell_type": "code",
   "execution_count": 26,
   "id": "211744d3",
   "metadata": {
    "execution": {
     "iopub.execute_input": "2021-04-04T23:24:08.073340Z",
     "iopub.status.busy": "2021-04-04T23:24:08.071384Z",
     "iopub.status.idle": "2021-04-04T23:24:08.078886Z",
     "shell.execute_reply": "2021-04-04T23:24:08.076140Z"
    },
    "papermill": {
     "duration": 0.047393,
     "end_time": "2021-04-04T23:24:08.079732",
     "exception": false,
     "start_time": "2021-04-04T23:24:08.032339",
     "status": "completed"
    },
    "tags": []
   },
   "outputs": [],
   "source": [
    "y_test = y_test.replace([0, 1], [1, -1])"
   ]
  },
  {
   "cell_type": "code",
   "execution_count": 27,
   "id": "d68a9204",
   "metadata": {
    "execution": {
     "iopub.execute_input": "2021-04-04T23:24:08.144828Z",
     "iopub.status.busy": "2021-04-04T23:24:08.144070Z",
     "iopub.status.idle": "2021-04-04T23:24:08.146482Z",
     "shell.execute_reply": "2021-04-04T23:24:08.147066Z"
    },
    "papermill": {
     "duration": 0.038722,
     "end_time": "2021-04-04T23:24:08.147233",
     "exception": false,
     "start_time": "2021-04-04T23:24:08.108511",
     "status": "completed"
    },
    "tags": []
   },
   "outputs": [],
   "source": [
    "def evaluate(truths, predictions, pos_label, neg_label):\n",
    "    TP = 0\n",
    "    FP = 0\n",
    "    TN = 0\n",
    "    FN = 0\n",
    "\n",
    "    for truth, pred in zip(truths, predictions): \n",
    "        if truth == pred == pos_label:\n",
    "           TP += 1\n",
    "        elif pred == pos_label and truth == neg_label:\n",
    "           FP += 1\n",
    "        elif truth == pred == neg_label:\n",
    "           TN += 1\n",
    "        elif pred == neg_label and truth == pos_label:\n",
    "           FN += 1\n",
    "\n",
    "    precision = TP / (TP + FP)\n",
    "    sensitivity = TP / (TP + FN)\n",
    "    \n",
    "    return {\n",
    "        'true_pos': TP,\n",
    "        'false_pos': FP,\n",
    "        'false_neg': FN,\n",
    "        'true_neg': TN,\n",
    "        'precision': precision,\n",
    "        'sensitivity': sensitivity,\n",
    "        'f1': (2 * (precision * sensitivity)) / (precision + sensitivity)\n",
    "    }\n",
    "\n",
    "score = evaluate(y_test, predictions, pos_label=-1, neg_label=1)"
   ]
  },
  {
   "cell_type": "markdown",
   "id": "93596516",
   "metadata": {
    "papermill": {
     "duration": 0.027818,
     "end_time": "2021-04-04T23:24:08.199541",
     "exception": false,
     "start_time": "2021-04-04T23:24:08.171723",
     "status": "completed"
    },
    "tags": []
   },
   "source": [
    "# Report"
   ]
  },
  {
   "cell_type": "code",
   "execution_count": 28,
   "id": "bea5fba1",
   "metadata": {
    "execution": {
     "iopub.execute_input": "2021-04-04T23:24:08.256986Z",
     "iopub.status.busy": "2021-04-04T23:24:08.256212Z",
     "iopub.status.idle": "2021-04-04T23:24:08.259218Z",
     "shell.execute_reply": "2021-04-04T23:24:08.258630Z"
    },
    "papermill": {
     "duration": 0.035609,
     "end_time": "2021-04-04T23:24:08.259337",
     "exception": false,
     "start_time": "2021-04-04T23:24:08.223728",
     "status": "completed"
    },
    "tags": []
   },
   "outputs": [],
   "source": [
    "import csv\n",
    "\n",
    "\n",
    "dataset_config_name = DATASET_CONFIG_PATH.split('/')[-1].split('.')[0]\n",
    "model_config_name = MODEL_CONFIG_PATH.split('/')[-1].split('.')[0]\n",
    "configuration = f\"dataset_{dataset_config_name}-model_{model_config_name}\"\n",
    "\n",
    "with open('results.csv', 'a') as f:\n",
    "    report = dict({'configuration': configuration}, **score)\n",
    "    writer = csv.DictWriter(f, report.keys())\n",
    "    writer.writerow(report)"
   ]
  }
 ],
 "metadata": {
  "celltoolbar": "Tags",
  "kernelspec": {
   "display_name": "Python 3",
   "language": "python",
   "name": "python3"
  },
  "language_info": {
   "codemirror_mode": {
    "name": "ipython",
    "version": 3
   },
   "file_extension": ".py",
   "mimetype": "text/x-python",
   "name": "python",
   "nbconvert_exporter": "python",
   "pygments_lexer": "ipython3",
   "version": "3.9.1"
  },
  "papermill": {
   "default_parameters": {},
   "duration": 7.059203,
   "end_time": "2021-04-04T23:24:09.583886",
   "environment_variables": {},
   "exception": null,
   "input_path": "main.ipynb",
   "output_path": "runs/dataset_000128-model_000002.ipynb",
   "parameters": {
    "DATASET_CONFIG_PATH": "config/dataset/000128.json",
    "MODEL_CONFIG_PATH": "config/model/000002.json",
    "PROFILE_REPORTING": false
   },
   "start_time": "2021-04-04T23:24:02.524683",
   "version": "2.3.3"
  }
 },
 "nbformat": 4,
 "nbformat_minor": 5
}