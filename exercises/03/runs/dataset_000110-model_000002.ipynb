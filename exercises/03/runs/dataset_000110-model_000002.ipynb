{
 "cells": [
  {
   "cell_type": "markdown",
   "id": "51c71c25",
   "metadata": {
    "papermill": {
     "duration": 0.031644,
     "end_time": "2021-04-04T23:16:35.709795",
     "exception": false,
     "start_time": "2021-04-04T23:16:35.678151",
     "status": "completed"
    },
    "tags": []
   },
   "source": [
    "# Parametrizing"
   ]
  },
  {
   "cell_type": "code",
   "execution_count": 1,
   "id": "3b136394",
   "metadata": {
    "execution": {
     "iopub.execute_input": "2021-04-04T23:16:35.765853Z",
     "iopub.status.busy": "2021-04-04T23:16:35.764949Z",
     "iopub.status.idle": "2021-04-04T23:16:35.767514Z",
     "shell.execute_reply": "2021-04-04T23:16:35.768083Z"
    },
    "papermill": {
     "duration": 0.038596,
     "end_time": "2021-04-04T23:16:35.768361",
     "exception": false,
     "start_time": "2021-04-04T23:16:35.729765",
     "status": "completed"
    },
    "tags": [
     "parameters"
    ]
   },
   "outputs": [],
   "source": [
    "DATASET_CONFIG_PATH = 'config/dataset/kc1_001.json'\n",
    "MODEL_CONFIG_PATH = 'config/model/knndd_001.json'\n",
    "PROFILE_REPORTING = False"
   ]
  },
  {
   "cell_type": "code",
   "execution_count": 2,
   "id": "e48f9e1c",
   "metadata": {
    "execution": {
     "iopub.execute_input": "2021-04-04T23:16:35.819973Z",
     "iopub.status.busy": "2021-04-04T23:16:35.818931Z",
     "iopub.status.idle": "2021-04-04T23:16:35.821484Z",
     "shell.execute_reply": "2021-04-04T23:16:35.820976Z"
    },
    "papermill": {
     "duration": 0.027753,
     "end_time": "2021-04-04T23:16:35.821603",
     "exception": false,
     "start_time": "2021-04-04T23:16:35.793850",
     "status": "completed"
    },
    "tags": [
     "injected-parameters"
    ]
   },
   "outputs": [],
   "source": [
    "# Parameters\n",
    "DATASET_CONFIG_PATH = \"config/dataset/000110.json\"\n",
    "MODEL_CONFIG_PATH = \"config/model/000002.json\"\n",
    "PROFILE_REPORTING = False\n"
   ]
  },
  {
   "cell_type": "code",
   "execution_count": 3,
   "id": "b80f2a10",
   "metadata": {
    "execution": {
     "iopub.execute_input": "2021-04-04T23:16:35.871074Z",
     "iopub.status.busy": "2021-04-04T23:16:35.870215Z",
     "iopub.status.idle": "2021-04-04T23:16:35.872754Z",
     "shell.execute_reply": "2021-04-04T23:16:35.873297Z"
    },
    "papermill": {
     "duration": 0.02891,
     "end_time": "2021-04-04T23:16:35.873455",
     "exception": false,
     "start_time": "2021-04-04T23:16:35.844545",
     "status": "completed"
    },
    "tags": []
   },
   "outputs": [],
   "source": [
    "import json\n",
    "\n",
    "\n",
    "with open(DATASET_CONFIG_PATH) as f:\n",
    "    dataset_config = json.load(f)\n",
    "\n",
    "with open(MODEL_CONFIG_PATH) as f:\n",
    "    model_config = json.load(f)"
   ]
  },
  {
   "cell_type": "markdown",
   "id": "9a4b0e2d",
   "metadata": {
    "papermill": {
     "duration": 0.019967,
     "end_time": "2021-04-04T23:16:35.916805",
     "exception": false,
     "start_time": "2021-04-04T23:16:35.896838",
     "status": "completed"
    },
    "tags": []
   },
   "source": [
    "# Profiling"
   ]
  },
  {
   "cell_type": "code",
   "execution_count": 4,
   "id": "a3e0289b",
   "metadata": {
    "execution": {
     "iopub.execute_input": "2021-04-04T23:16:35.961233Z",
     "iopub.status.busy": "2021-04-04T23:16:35.960265Z",
     "iopub.status.idle": "2021-04-04T23:16:37.212352Z",
     "shell.execute_reply": "2021-04-04T23:16:37.211758Z"
    },
    "papermill": {
     "duration": 1.275742,
     "end_time": "2021-04-04T23:16:37.212470",
     "exception": false,
     "start_time": "2021-04-04T23:16:35.936728",
     "status": "completed"
    },
    "tags": []
   },
   "outputs": [],
   "source": [
    "import pandas as pd\n",
    "from pandas_profiling import ProfileReport"
   ]
  },
  {
   "cell_type": "code",
   "execution_count": 5,
   "id": "ee6c0666",
   "metadata": {
    "execution": {
     "iopub.execute_input": "2021-04-04T23:16:37.259073Z",
     "iopub.status.busy": "2021-04-04T23:16:37.258106Z",
     "iopub.status.idle": "2021-04-04T23:16:37.270554Z",
     "shell.execute_reply": "2021-04-04T23:16:37.271321Z"
    },
    "papermill": {
     "duration": 0.038327,
     "end_time": "2021-04-04T23:16:37.271538",
     "exception": false,
     "start_time": "2021-04-04T23:16:37.233211",
     "status": "completed"
    },
    "tags": []
   },
   "outputs": [],
   "source": [
    "df = pd.read_csv(dataset_config['dataset_path'])"
   ]
  },
  {
   "cell_type": "code",
   "execution_count": 6,
   "id": "7eca6c4a",
   "metadata": {
    "execution": {
     "iopub.execute_input": "2021-04-04T23:16:37.332809Z",
     "iopub.status.busy": "2021-04-04T23:16:37.321404Z",
     "iopub.status.idle": "2021-04-04T23:16:37.336937Z",
     "shell.execute_reply": "2021-04-04T23:16:37.337811Z"
    },
    "papermill": {
     "duration": 0.042545,
     "end_time": "2021-04-04T23:16:37.338063",
     "exception": false,
     "start_time": "2021-04-04T23:16:37.295518",
     "status": "completed"
    },
    "tags": []
   },
   "outputs": [
    {
     "name": "stdout",
     "output_type": "stream",
     "text": [
      "<class 'pandas.core.frame.DataFrame'>\n",
      "RangeIndex: 498 entries, 0 to 497\n",
      "Data columns (total 23 columns):\n",
      " #   Column             Non-Null Count  Dtype  \n",
      "---  ------             --------------  -----  \n",
      " 0   id                 498 non-null    int64  \n",
      " 1   loc                498 non-null    float64\n",
      " 2   v(g)               498 non-null    float64\n",
      " 3   ev(g)              498 non-null    float64\n",
      " 4   iv(g)              498 non-null    float64\n",
      " 5   n                  498 non-null    float64\n",
      " 6   v                  498 non-null    float64\n",
      " 7   l                  498 non-null    float64\n",
      " 8   d                  498 non-null    float64\n",
      " 9   i                  498 non-null    float64\n",
      " 10  e                  498 non-null    float64\n",
      " 11  b                  498 non-null    float64\n",
      " 12  t                  498 non-null    float64\n",
      " 13  lOCode             498 non-null    int64  \n",
      " 14  lOComment          498 non-null    int64  \n",
      " 15  lOBlank            498 non-null    int64  \n",
      " 16  locCodeAndComment  498 non-null    int64  \n",
      " 17  uniq_Op            498 non-null    float64\n",
      " 18  uniq_Opnd          498 non-null    float64\n",
      " 19  total_Op           498 non-null    float64\n",
      " 20  total_Opnd         498 non-null    float64\n",
      " 21  branchCount        498 non-null    float64\n",
      " 22  defects            498 non-null    bool   \n",
      "dtypes: bool(1), float64(17), int64(5)\n",
      "memory usage: 86.2 KB\n"
     ]
    }
   ],
   "source": [
    "df.info()"
   ]
  },
  {
   "cell_type": "code",
   "execution_count": 7,
   "id": "3638e5e8",
   "metadata": {
    "execution": {
     "iopub.execute_input": "2021-04-04T23:16:37.395854Z",
     "iopub.status.busy": "2021-04-04T23:16:37.394979Z",
     "iopub.status.idle": "2021-04-04T23:16:37.423053Z",
     "shell.execute_reply": "2021-04-04T23:16:37.423889Z"
    },
    "papermill": {
     "duration": 0.058921,
     "end_time": "2021-04-04T23:16:37.424120",
     "exception": false,
     "start_time": "2021-04-04T23:16:37.365199",
     "status": "completed"
    },
    "tags": []
   },
   "outputs": [
    {
     "data": {
      "text/html": [
       "<div>\n",
       "<style scoped>\n",
       "    .dataframe tbody tr th:only-of-type {\n",
       "        vertical-align: middle;\n",
       "    }\n",
       "\n",
       "    .dataframe tbody tr th {\n",
       "        vertical-align: top;\n",
       "    }\n",
       "\n",
       "    .dataframe thead th {\n",
       "        text-align: right;\n",
       "    }\n",
       "</style>\n",
       "<table border=\"1\" class=\"dataframe\">\n",
       "  <thead>\n",
       "    <tr style=\"text-align: right;\">\n",
       "      <th></th>\n",
       "      <th>id</th>\n",
       "      <th>loc</th>\n",
       "      <th>v(g)</th>\n",
       "      <th>ev(g)</th>\n",
       "      <th>iv(g)</th>\n",
       "      <th>n</th>\n",
       "      <th>v</th>\n",
       "      <th>l</th>\n",
       "      <th>d</th>\n",
       "      <th>i</th>\n",
       "      <th>...</th>\n",
       "      <th>lOCode</th>\n",
       "      <th>lOComment</th>\n",
       "      <th>lOBlank</th>\n",
       "      <th>locCodeAndComment</th>\n",
       "      <th>uniq_Op</th>\n",
       "      <th>uniq_Opnd</th>\n",
       "      <th>total_Op</th>\n",
       "      <th>total_Opnd</th>\n",
       "      <th>branchCount</th>\n",
       "      <th>defects</th>\n",
       "    </tr>\n",
       "  </thead>\n",
       "  <tbody>\n",
       "    <tr>\n",
       "      <th>0</th>\n",
       "      <td>1</td>\n",
       "      <td>1.1</td>\n",
       "      <td>1.4</td>\n",
       "      <td>1.4</td>\n",
       "      <td>1.4</td>\n",
       "      <td>1.3</td>\n",
       "      <td>1.30</td>\n",
       "      <td>1.30</td>\n",
       "      <td>1.30</td>\n",
       "      <td>1.30</td>\n",
       "      <td>...</td>\n",
       "      <td>2</td>\n",
       "      <td>2</td>\n",
       "      <td>2</td>\n",
       "      <td>2</td>\n",
       "      <td>1.2</td>\n",
       "      <td>1.2</td>\n",
       "      <td>1.2</td>\n",
       "      <td>1.2</td>\n",
       "      <td>1.4</td>\n",
       "      <td>False</td>\n",
       "    </tr>\n",
       "    <tr>\n",
       "      <th>1</th>\n",
       "      <td>2</td>\n",
       "      <td>1.0</td>\n",
       "      <td>1.0</td>\n",
       "      <td>1.0</td>\n",
       "      <td>1.0</td>\n",
       "      <td>1.0</td>\n",
       "      <td>1.00</td>\n",
       "      <td>1.00</td>\n",
       "      <td>1.00</td>\n",
       "      <td>1.00</td>\n",
       "      <td>...</td>\n",
       "      <td>1</td>\n",
       "      <td>1</td>\n",
       "      <td>1</td>\n",
       "      <td>1</td>\n",
       "      <td>1.0</td>\n",
       "      <td>1.0</td>\n",
       "      <td>1.0</td>\n",
       "      <td>1.0</td>\n",
       "      <td>1.0</td>\n",
       "      <td>True</td>\n",
       "    </tr>\n",
       "    <tr>\n",
       "      <th>2</th>\n",
       "      <td>3</td>\n",
       "      <td>24.0</td>\n",
       "      <td>5.0</td>\n",
       "      <td>1.0</td>\n",
       "      <td>3.0</td>\n",
       "      <td>63.0</td>\n",
       "      <td>309.13</td>\n",
       "      <td>0.11</td>\n",
       "      <td>9.50</td>\n",
       "      <td>32.54</td>\n",
       "      <td>...</td>\n",
       "      <td>1</td>\n",
       "      <td>0</td>\n",
       "      <td>6</td>\n",
       "      <td>0</td>\n",
       "      <td>15.0</td>\n",
       "      <td>15.0</td>\n",
       "      <td>44.0</td>\n",
       "      <td>19.0</td>\n",
       "      <td>9.0</td>\n",
       "      <td>False</td>\n",
       "    </tr>\n",
       "    <tr>\n",
       "      <th>3</th>\n",
       "      <td>4</td>\n",
       "      <td>20.0</td>\n",
       "      <td>4.0</td>\n",
       "      <td>4.0</td>\n",
       "      <td>2.0</td>\n",
       "      <td>47.0</td>\n",
       "      <td>215.49</td>\n",
       "      <td>0.06</td>\n",
       "      <td>16.00</td>\n",
       "      <td>13.47</td>\n",
       "      <td>...</td>\n",
       "      <td>0</td>\n",
       "      <td>0</td>\n",
       "      <td>3</td>\n",
       "      <td>0</td>\n",
       "      <td>16.0</td>\n",
       "      <td>8.0</td>\n",
       "      <td>31.0</td>\n",
       "      <td>16.0</td>\n",
       "      <td>7.0</td>\n",
       "      <td>False</td>\n",
       "    </tr>\n",
       "    <tr>\n",
       "      <th>4</th>\n",
       "      <td>5</td>\n",
       "      <td>24.0</td>\n",
       "      <td>6.0</td>\n",
       "      <td>6.0</td>\n",
       "      <td>2.0</td>\n",
       "      <td>72.0</td>\n",
       "      <td>346.13</td>\n",
       "      <td>0.06</td>\n",
       "      <td>17.33</td>\n",
       "      <td>19.97</td>\n",
       "      <td>...</td>\n",
       "      <td>0</td>\n",
       "      <td>0</td>\n",
       "      <td>3</td>\n",
       "      <td>0</td>\n",
       "      <td>16.0</td>\n",
       "      <td>12.0</td>\n",
       "      <td>46.0</td>\n",
       "      <td>26.0</td>\n",
       "      <td>11.0</td>\n",
       "      <td>False</td>\n",
       "    </tr>\n",
       "  </tbody>\n",
       "</table>\n",
       "<p>5 rows × 23 columns</p>\n",
       "</div>"
      ],
      "text/plain": [
       "   id   loc  v(g)  ev(g)  iv(g)     n       v     l      d      i  ...  \\\n",
       "0   1   1.1   1.4    1.4    1.4   1.3    1.30  1.30   1.30   1.30  ...   \n",
       "1   2   1.0   1.0    1.0    1.0   1.0    1.00  1.00   1.00   1.00  ...   \n",
       "2   3  24.0   5.0    1.0    3.0  63.0  309.13  0.11   9.50  32.54  ...   \n",
       "3   4  20.0   4.0    4.0    2.0  47.0  215.49  0.06  16.00  13.47  ...   \n",
       "4   5  24.0   6.0    6.0    2.0  72.0  346.13  0.06  17.33  19.97  ...   \n",
       "\n",
       "   lOCode  lOComment  lOBlank  locCodeAndComment  uniq_Op  uniq_Opnd  \\\n",
       "0       2          2        2                  2      1.2        1.2   \n",
       "1       1          1        1                  1      1.0        1.0   \n",
       "2       1          0        6                  0     15.0       15.0   \n",
       "3       0          0        3                  0     16.0        8.0   \n",
       "4       0          0        3                  0     16.0       12.0   \n",
       "\n",
       "   total_Op  total_Opnd  branchCount  defects  \n",
       "0       1.2         1.2          1.4    False  \n",
       "1       1.0         1.0          1.0     True  \n",
       "2      44.0        19.0          9.0    False  \n",
       "3      31.0        16.0          7.0    False  \n",
       "4      46.0        26.0         11.0    False  \n",
       "\n",
       "[5 rows x 23 columns]"
      ]
     },
     "execution_count": 7,
     "metadata": {},
     "output_type": "execute_result"
    }
   ],
   "source": [
    "df.head()"
   ]
  },
  {
   "cell_type": "code",
   "execution_count": 8,
   "id": "733e95eb",
   "metadata": {
    "execution": {
     "iopub.execute_input": "2021-04-04T23:16:37.478213Z",
     "iopub.status.busy": "2021-04-04T23:16:37.477183Z",
     "iopub.status.idle": "2021-04-04T23:16:37.480931Z",
     "shell.execute_reply": "2021-04-04T23:16:37.479928Z"
    },
    "papermill": {
     "duration": 0.030729,
     "end_time": "2021-04-04T23:16:37.481156",
     "exception": false,
     "start_time": "2021-04-04T23:16:37.450427",
     "status": "completed"
    },
    "tags": []
   },
   "outputs": [],
   "source": [
    "del df['id']"
   ]
  },
  {
   "cell_type": "code",
   "execution_count": 9,
   "id": "6ff6f5b0",
   "metadata": {
    "execution": {
     "iopub.execute_input": "2021-04-04T23:16:37.532075Z",
     "iopub.status.busy": "2021-04-04T23:16:37.531345Z",
     "iopub.status.idle": "2021-04-04T23:16:37.533685Z",
     "shell.execute_reply": "2021-04-04T23:16:37.534372Z"
    },
    "papermill": {
     "duration": 0.028398,
     "end_time": "2021-04-04T23:16:37.534567",
     "exception": false,
     "start_time": "2021-04-04T23:16:37.506169",
     "status": "completed"
    },
    "tags": []
   },
   "outputs": [],
   "source": [
    "if PROFILE_REPORTING:\n",
    "    ProfileReport(df).to_widgets()"
   ]
  },
  {
   "cell_type": "markdown",
   "id": "1deaf3f0",
   "metadata": {
    "papermill": {
     "duration": 0.021387,
     "end_time": "2021-04-04T23:16:37.578367",
     "exception": false,
     "start_time": "2021-04-04T23:16:37.556980",
     "status": "completed"
    },
    "tags": []
   },
   "source": [
    "# Preprocess"
   ]
  },
  {
   "cell_type": "code",
   "execution_count": 10,
   "id": "1513e563",
   "metadata": {
    "execution": {
     "iopub.execute_input": "2021-04-04T23:16:37.625940Z",
     "iopub.status.busy": "2021-04-04T23:16:37.625356Z",
     "iopub.status.idle": "2021-04-04T23:16:37.627906Z",
     "shell.execute_reply": "2021-04-04T23:16:37.628358Z"
    },
    "papermill": {
     "duration": 0.029131,
     "end_time": "2021-04-04T23:16:37.628505",
     "exception": false,
     "start_time": "2021-04-04T23:16:37.599374",
     "status": "completed"
    },
    "tags": []
   },
   "outputs": [],
   "source": [
    "working_df = df.copy()"
   ]
  },
  {
   "cell_type": "code",
   "execution_count": 11,
   "id": "3b26d675",
   "metadata": {
    "execution": {
     "iopub.execute_input": "2021-04-04T23:16:37.680682Z",
     "iopub.status.busy": "2021-04-04T23:16:37.680097Z",
     "iopub.status.idle": "2021-04-04T23:16:37.682986Z",
     "shell.execute_reply": "2021-04-04T23:16:37.682478Z"
    },
    "papermill": {
     "duration": 0.031669,
     "end_time": "2021-04-04T23:16:37.683104",
     "exception": false,
     "start_time": "2021-04-04T23:16:37.651435",
     "status": "completed"
    },
    "tags": []
   },
   "outputs": [],
   "source": [
    "working_df['defects'] = working_df['defects'].replace([False, True], [0, 1])"
   ]
  },
  {
   "cell_type": "code",
   "execution_count": 12,
   "id": "eb48604f",
   "metadata": {
    "execution": {
     "iopub.execute_input": "2021-04-04T23:16:37.737293Z",
     "iopub.status.busy": "2021-04-04T23:16:37.736276Z",
     "iopub.status.idle": "2021-04-04T23:16:37.738989Z",
     "shell.execute_reply": "2021-04-04T23:16:37.739801Z"
    },
    "papermill": {
     "duration": 0.030468,
     "end_time": "2021-04-04T23:16:37.740028",
     "exception": false,
     "start_time": "2021-04-04T23:16:37.709560",
     "status": "completed"
    },
    "tags": []
   },
   "outputs": [],
   "source": [
    "for col in dataset_config['delete_columns']:\n",
    "    del working_df[col]"
   ]
  },
  {
   "cell_type": "code",
   "execution_count": 13,
   "id": "9a17bc29",
   "metadata": {
    "execution": {
     "iopub.execute_input": "2021-04-04T23:16:37.796857Z",
     "iopub.status.busy": "2021-04-04T23:16:37.796234Z",
     "iopub.status.idle": "2021-04-04T23:16:37.805872Z",
     "shell.execute_reply": "2021-04-04T23:16:37.806584Z"
    },
    "papermill": {
     "duration": 0.037556,
     "end_time": "2021-04-04T23:16:37.806805",
     "exception": false,
     "start_time": "2021-04-04T23:16:37.769249",
     "status": "completed"
    },
    "tags": []
   },
   "outputs": [],
   "source": [
    "working_df = working_df.drop_duplicates()"
   ]
  },
  {
   "cell_type": "markdown",
   "id": "a4d52ca6",
   "metadata": {
    "papermill": {
     "duration": 0.021375,
     "end_time": "2021-04-04T23:16:37.853243",
     "exception": false,
     "start_time": "2021-04-04T23:16:37.831868",
     "status": "completed"
    },
    "tags": []
   },
   "source": [
    "# Split"
   ]
  },
  {
   "cell_type": "code",
   "execution_count": 14,
   "id": "3e9ee4b5",
   "metadata": {
    "execution": {
     "iopub.execute_input": "2021-04-04T23:16:37.902724Z",
     "iopub.status.busy": "2021-04-04T23:16:37.901894Z",
     "iopub.status.idle": "2021-04-04T23:16:37.935876Z",
     "shell.execute_reply": "2021-04-04T23:16:37.936767Z"
    },
    "papermill": {
     "duration": 0.061487,
     "end_time": "2021-04-04T23:16:37.937003",
     "exception": false,
     "start_time": "2021-04-04T23:16:37.875516",
     "status": "completed"
    },
    "tags": []
   },
   "outputs": [],
   "source": [
    "from sklearn.model_selection import train_test_split"
   ]
  },
  {
   "cell_type": "code",
   "execution_count": 15,
   "id": "274004ce",
   "metadata": {
    "execution": {
     "iopub.execute_input": "2021-04-04T23:16:37.991247Z",
     "iopub.status.busy": "2021-04-04T23:16:37.990271Z",
     "iopub.status.idle": "2021-04-04T23:16:37.997277Z",
     "shell.execute_reply": "2021-04-04T23:16:37.996535Z"
    },
    "papermill": {
     "duration": 0.034196,
     "end_time": "2021-04-04T23:16:37.997443",
     "exception": false,
     "start_time": "2021-04-04T23:16:37.963247",
     "status": "completed"
    },
    "scrolled": true,
    "tags": []
   },
   "outputs": [],
   "source": [
    "inlier, outlier = working_df[working_df['defects'] == 0], working_df[working_df['defects'] == 1]"
   ]
  },
  {
   "cell_type": "code",
   "execution_count": 16,
   "id": "753c7b03",
   "metadata": {
    "execution": {
     "iopub.execute_input": "2021-04-04T23:16:38.051813Z",
     "iopub.status.busy": "2021-04-04T23:16:38.051133Z",
     "iopub.status.idle": "2021-04-04T23:16:38.053130Z",
     "shell.execute_reply": "2021-04-04T23:16:38.053595Z"
    },
    "papermill": {
     "duration": 0.030979,
     "end_time": "2021-04-04T23:16:38.053736",
     "exception": false,
     "start_time": "2021-04-04T23:16:38.022757",
     "status": "completed"
    },
    "tags": []
   },
   "outputs": [],
   "source": [
    "X_inlier = inlier.copy()\n",
    "y_inlier = X_inlier.pop('defects')\n",
    "X_outlier = outlier.copy()\n",
    "y_outlier = X_outlier.pop('defects')"
   ]
  },
  {
   "cell_type": "code",
   "execution_count": 17,
   "id": "2ba43193",
   "metadata": {
    "execution": {
     "iopub.execute_input": "2021-04-04T23:16:38.111114Z",
     "iopub.status.busy": "2021-04-04T23:16:38.110522Z",
     "iopub.status.idle": "2021-04-04T23:16:38.113728Z",
     "shell.execute_reply": "2021-04-04T23:16:38.114667Z"
    },
    "papermill": {
     "duration": 0.034084,
     "end_time": "2021-04-04T23:16:38.114927",
     "exception": false,
     "start_time": "2021-04-04T23:16:38.080843",
     "status": "completed"
    },
    "tags": []
   },
   "outputs": [],
   "source": [
    "test_size = dataset_config['test_size']\n",
    "random_state = dataset_config['random_state']\n",
    "\n",
    "X_inlier_train, X_inlier_test, y_inlier_train, y_inlier_test = train_test_split(\n",
    "    X_inlier,\n",
    "    y_inlier,\n",
    "    test_size=test_size,\n",
    "    random_state=random_state\n",
    ")"
   ]
  },
  {
   "cell_type": "code",
   "execution_count": 18,
   "id": "0b7582ca",
   "metadata": {
    "execution": {
     "iopub.execute_input": "2021-04-04T23:16:38.175197Z",
     "iopub.status.busy": "2021-04-04T23:16:38.174172Z",
     "iopub.status.idle": "2021-04-04T23:16:38.176895Z",
     "shell.execute_reply": "2021-04-04T23:16:38.177703Z"
    },
    "papermill": {
     "duration": 0.034395,
     "end_time": "2021-04-04T23:16:38.177925",
     "exception": false,
     "start_time": "2021-04-04T23:16:38.143530",
     "status": "completed"
    },
    "tags": []
   },
   "outputs": [],
   "source": [
    "test_outlier_size = dataset_config['test_outlier_size']\n",
    "if test_outlier_size > 0.0:\n",
    "    X_outlier_train, X_outlier_test, y_outlier_train, y_outlier_test = train_test_split(\n",
    "        X_outlier,\n",
    "        y_outlier,\n",
    "        test_size=test_outlier_size,\n",
    "        random_state=random_state\n",
    "    )\n",
    "else:\n",
    "    X_outlier_train, y_outlier_train = pd.DataFrame(columns=X_outlier.columns), pd.Series(dtype='int64')\n",
    "    X_outlier_test, y_outlier_test = X_outlier.copy(), y_outlier.copy()"
   ]
  },
  {
   "cell_type": "code",
   "execution_count": 19,
   "id": "c34363db",
   "metadata": {
    "execution": {
     "iopub.execute_input": "2021-04-04T23:16:38.237730Z",
     "iopub.status.busy": "2021-04-04T23:16:38.236595Z",
     "iopub.status.idle": "2021-04-04T23:16:38.238650Z",
     "shell.execute_reply": "2021-04-04T23:16:38.239191Z"
    },
    "papermill": {
     "duration": 0.035535,
     "end_time": "2021-04-04T23:16:38.239335",
     "exception": false,
     "start_time": "2021-04-04T23:16:38.203800",
     "status": "completed"
    },
    "tags": []
   },
   "outputs": [],
   "source": [
    "X_train, y_train = pd.concat([X_inlier_train, X_outlier_train], ignore_index=True), pd.concat([y_inlier_train, y_outlier_train], ignore_index=True)\n",
    "X_test, y_test = pd.concat([X_inlier_test, X_outlier_test], ignore_index=True), pd.concat([y_inlier_test, y_outlier_test], ignore_index=True)"
   ]
  },
  {
   "cell_type": "markdown",
   "id": "7cde7309",
   "metadata": {
    "papermill": {
     "duration": 0.021878,
     "end_time": "2021-04-04T23:16:38.283995",
     "exception": false,
     "start_time": "2021-04-04T23:16:38.262117",
     "status": "completed"
    },
    "tags": []
   },
   "source": [
    "# Model"
   ]
  },
  {
   "cell_type": "code",
   "execution_count": 20,
   "id": "2b12a415",
   "metadata": {
    "execution": {
     "iopub.execute_input": "2021-04-04T23:16:38.343299Z",
     "iopub.status.busy": "2021-04-04T23:16:38.341782Z",
     "iopub.status.idle": "2021-04-04T23:16:38.346215Z",
     "shell.execute_reply": "2021-04-04T23:16:38.345343Z"
    },
    "papermill": {
     "duration": 0.03955,
     "end_time": "2021-04-04T23:16:38.346474",
     "exception": false,
     "start_time": "2021-04-04T23:16:38.306924",
     "status": "completed"
    },
    "tags": []
   },
   "outputs": [],
   "source": [
    "from math import sqrt\n",
    "\n",
    "\n",
    "class KNNDataDescription:\n",
    "    def __init__(self, k=5, outlier_threshold=1.0):\n",
    "        self.k = k\n",
    "        self.outlier_threshold = outlier_threshold\n",
    "        self.X = []\n",
    "    \n",
    "    def fit(self, X):\n",
    "        self.X = [features.to_list() for index, features in X.iterrows()]\n",
    "\n",
    "    def predict(self, entries):\n",
    "        return [self.predict_entry(features.to_list()) for index, features in entries.iterrows()]\n",
    "    \n",
    "    def predict_entry(self, entry):\n",
    "        kth_neighbor, kth_distance = self.get_kth_neighbor(entry, self.k)\n",
    "        kth_kth_neighbor, kth_kth_distance = self.get_kth_neighbor(kth_neighbor, self.k + 1)\n",
    "\n",
    "        outlier_score = kth_distance / (kth_kth_distance + 0.000001)\n",
    "\n",
    "        return 1 if outlier_score < self.outlier_threshold else -1\n",
    "        \n",
    "    def euclidean_distance(self, features1, features2):\n",
    "        distance = 0.0\n",
    "        for feat1, feat2 in zip(features1, features2):\n",
    "            distance += (feat1 - feat2)**2\n",
    "                \n",
    "        return sqrt(distance)\n",
    "\n",
    "    def get_neighbors(self, entry, k):\n",
    "        distance_to_data_points = [\n",
    "            (data_point, self.euclidean_distance(entry, data_point))\n",
    "            for data_point in self.X\n",
    "        ]\n",
    "        sorted_by_distance = sorted(distance_to_data_points, key=lambda tup: tup[1])\n",
    "        neighbors = sorted_by_distance[:k]\n",
    "        return neighbors\n",
    "\n",
    "    def get_kth_neighbor(self, entry, k):\n",
    "        neighbors = self.get_neighbors(entry, k)\n",
    "        return neighbors[-1]\n"
   ]
  },
  {
   "cell_type": "code",
   "execution_count": 21,
   "id": "1fa9ec1c",
   "metadata": {
    "execution": {
     "iopub.execute_input": "2021-04-04T23:16:38.399359Z",
     "iopub.status.busy": "2021-04-04T23:16:38.398429Z",
     "iopub.status.idle": "2021-04-04T23:16:38.423921Z",
     "shell.execute_reply": "2021-04-04T23:16:38.424788Z"
    },
    "papermill": {
     "duration": 0.053604,
     "end_time": "2021-04-04T23:16:38.425032",
     "exception": false,
     "start_time": "2021-04-04T23:16:38.371428",
     "status": "completed"
    },
    "tags": []
   },
   "outputs": [],
   "source": [
    "from sklearn.svm import OneClassSVM\n",
    "\n",
    "\n",
    "models = {\n",
    "    'oneclasssvm': OneClassSVM,\n",
    "    'knndatadescription': KNNDataDescription,\n",
    "}"
   ]
  },
  {
   "cell_type": "code",
   "execution_count": 22,
   "id": "4d72a0b1",
   "metadata": {
    "execution": {
     "iopub.execute_input": "2021-04-04T23:16:38.481267Z",
     "iopub.status.busy": "2021-04-04T23:16:38.480275Z",
     "iopub.status.idle": "2021-04-04T23:16:38.482720Z",
     "shell.execute_reply": "2021-04-04T23:16:38.483604Z"
    },
    "papermill": {
     "duration": 0.031055,
     "end_time": "2021-04-04T23:16:38.483848",
     "exception": false,
     "start_time": "2021-04-04T23:16:38.452793",
     "status": "completed"
    },
    "scrolled": true,
    "tags": []
   },
   "outputs": [],
   "source": [
    "model_cls = models[model_config['model_type']]\n",
    "model = model_cls(**model_config['hyperparameters'])"
   ]
  },
  {
   "cell_type": "markdown",
   "id": "e00cff3b",
   "metadata": {
    "papermill": {
     "duration": 0.022503,
     "end_time": "2021-04-04T23:16:38.530901",
     "exception": false,
     "start_time": "2021-04-04T23:16:38.508398",
     "status": "completed"
    },
    "tags": []
   },
   "source": [
    "# Fit"
   ]
  },
  {
   "cell_type": "code",
   "execution_count": 23,
   "id": "8b2ded89",
   "metadata": {
    "execution": {
     "iopub.execute_input": "2021-04-04T23:16:38.582842Z",
     "iopub.status.busy": "2021-04-04T23:16:38.581395Z",
     "iopub.status.idle": "2021-04-04T23:16:38.603998Z",
     "shell.execute_reply": "2021-04-04T23:16:38.602960Z"
    },
    "papermill": {
     "duration": 0.050774,
     "end_time": "2021-04-04T23:16:38.604197",
     "exception": false,
     "start_time": "2021-04-04T23:16:38.553423",
     "status": "completed"
    },
    "tags": []
   },
   "outputs": [],
   "source": [
    "model.fit(X_train)"
   ]
  },
  {
   "cell_type": "markdown",
   "id": "f99999f7",
   "metadata": {
    "papermill": {
     "duration": 0.02233,
     "end_time": "2021-04-04T23:16:38.662124",
     "exception": false,
     "start_time": "2021-04-04T23:16:38.639794",
     "status": "completed"
    },
    "tags": []
   },
   "source": [
    "# Predict"
   ]
  },
  {
   "cell_type": "code",
   "execution_count": 24,
   "id": "6536fbf7",
   "metadata": {
    "execution": {
     "iopub.execute_input": "2021-04-04T23:16:38.711997Z",
     "iopub.status.busy": "2021-04-04T23:16:38.711406Z",
     "iopub.status.idle": "2021-04-04T23:16:39.056491Z",
     "shell.execute_reply": "2021-04-04T23:16:39.055819Z"
    },
    "papermill": {
     "duration": 0.371988,
     "end_time": "2021-04-04T23:16:39.056638",
     "exception": false,
     "start_time": "2021-04-04T23:16:38.684650",
     "status": "completed"
    },
    "tags": []
   },
   "outputs": [],
   "source": [
    "predictions = model.predict(X_test)"
   ]
  },
  {
   "cell_type": "markdown",
   "id": "aa1c9881",
   "metadata": {
    "papermill": {
     "duration": 0.024421,
     "end_time": "2021-04-04T23:16:39.112685",
     "exception": false,
     "start_time": "2021-04-04T23:16:39.088264",
     "status": "completed"
    },
    "tags": []
   },
   "source": [
    "# Evaluate"
   ]
  },
  {
   "cell_type": "code",
   "execution_count": 25,
   "id": "894f0f04",
   "metadata": {
    "execution": {
     "iopub.execute_input": "2021-04-04T23:16:39.164388Z",
     "iopub.status.busy": "2021-04-04T23:16:39.163351Z",
     "iopub.status.idle": "2021-04-04T23:16:39.165735Z",
     "shell.execute_reply": "2021-04-04T23:16:39.166432Z"
    },
    "papermill": {
     "duration": 0.031131,
     "end_time": "2021-04-04T23:16:39.166630",
     "exception": false,
     "start_time": "2021-04-04T23:16:39.135499",
     "status": "completed"
    },
    "tags": []
   },
   "outputs": [],
   "source": [
    "from sklearn.metrics import f1_score"
   ]
  },
  {
   "cell_type": "code",
   "execution_count": 26,
   "id": "211744d3",
   "metadata": {
    "execution": {
     "iopub.execute_input": "2021-04-04T23:16:39.221884Z",
     "iopub.status.busy": "2021-04-04T23:16:39.221308Z",
     "iopub.status.idle": "2021-04-04T23:16:39.224004Z",
     "shell.execute_reply": "2021-04-04T23:16:39.224696Z"
    },
    "papermill": {
     "duration": 0.031428,
     "end_time": "2021-04-04T23:16:39.224889",
     "exception": false,
     "start_time": "2021-04-04T23:16:39.193461",
     "status": "completed"
    },
    "tags": []
   },
   "outputs": [],
   "source": [
    "y_test = y_test.replace([0, 1], [1, -1])"
   ]
  },
  {
   "cell_type": "code",
   "execution_count": 27,
   "id": "d68a9204",
   "metadata": {
    "execution": {
     "iopub.execute_input": "2021-04-04T23:16:39.281909Z",
     "iopub.status.busy": "2021-04-04T23:16:39.281007Z",
     "iopub.status.idle": "2021-04-04T23:16:39.284085Z",
     "shell.execute_reply": "2021-04-04T23:16:39.284813Z"
    },
    "papermill": {
     "duration": 0.036071,
     "end_time": "2021-04-04T23:16:39.285018",
     "exception": false,
     "start_time": "2021-04-04T23:16:39.248947",
     "status": "completed"
    },
    "tags": []
   },
   "outputs": [],
   "source": [
    "def evaluate(truths, predictions, pos_label, neg_label):\n",
    "    TP = 0\n",
    "    FP = 0\n",
    "    TN = 0\n",
    "    FN = 0\n",
    "\n",
    "    for truth, pred in zip(truths, predictions): \n",
    "        if truth == pred == pos_label:\n",
    "           TP += 1\n",
    "        elif pred == pos_label and truth == neg_label:\n",
    "           FP += 1\n",
    "        elif truth == pred == neg_label:\n",
    "           TN += 1\n",
    "        elif pred == neg_label and truth == pos_label:\n",
    "           FN += 1\n",
    "\n",
    "    precision = TP / (TP + FP)\n",
    "    sensitivity = TP / (TP + FN)\n",
    "    \n",
    "    return {\n",
    "        'true_pos': TP,\n",
    "        'false_pos': FP,\n",
    "        'false_neg': FN,\n",
    "        'true_neg': TN,\n",
    "        'precision': precision,\n",
    "        'sensitivity': sensitivity,\n",
    "        'f1': (2 * (precision * sensitivity)) / (precision + sensitivity)\n",
    "    }\n",
    "\n",
    "score = evaluate(y_test, predictions, pos_label=-1, neg_label=1)"
   ]
  },
  {
   "cell_type": "markdown",
   "id": "93596516",
   "metadata": {
    "papermill": {
     "duration": 0.023139,
     "end_time": "2021-04-04T23:16:39.338648",
     "exception": false,
     "start_time": "2021-04-04T23:16:39.315509",
     "status": "completed"
    },
    "tags": []
   },
   "source": [
    "# Report"
   ]
  },
  {
   "cell_type": "code",
   "execution_count": 28,
   "id": "bea5fba1",
   "metadata": {
    "execution": {
     "iopub.execute_input": "2021-04-04T23:16:39.396024Z",
     "iopub.status.busy": "2021-04-04T23:16:39.394821Z",
     "iopub.status.idle": "2021-04-04T23:16:39.398627Z",
     "shell.execute_reply": "2021-04-04T23:16:39.397682Z"
    },
    "papermill": {
     "duration": 0.034152,
     "end_time": "2021-04-04T23:16:39.398899",
     "exception": false,
     "start_time": "2021-04-04T23:16:39.364747",
     "status": "completed"
    },
    "tags": []
   },
   "outputs": [],
   "source": [
    "import csv\n",
    "\n",
    "\n",
    "dataset_config_name = DATASET_CONFIG_PATH.split('/')[-1].split('.')[0]\n",
    "model_config_name = MODEL_CONFIG_PATH.split('/')[-1].split('.')[0]\n",
    "configuration = f\"dataset_{dataset_config_name}-model_{model_config_name}\"\n",
    "\n",
    "with open('results.csv', 'a') as f:\n",
    "    report = dict({'configuration': configuration}, **score)\n",
    "    writer = csv.DictWriter(f, report.keys())\n",
    "    writer.writerow(report)"
   ]
  }
 ],
 "metadata": {
  "celltoolbar": "Tags",
  "kernelspec": {
   "display_name": "Python 3",
   "language": "python",
   "name": "python3"
  },
  "language_info": {
   "codemirror_mode": {
    "name": "ipython",
    "version": 3
   },
   "file_extension": ".py",
   "mimetype": "text/x-python",
   "name": "python",
   "nbconvert_exporter": "python",
   "pygments_lexer": "ipython3",
   "version": "3.9.1"
  },
  "papermill": {
   "default_parameters": {},
   "duration": 6.055325,
   "end_time": "2021-04-04T23:16:40.877606",
   "environment_variables": {},
   "exception": null,
   "input_path": "main.ipynb",
   "output_path": "runs/dataset_000110-model_000002.ipynb",
   "parameters": {
    "DATASET_CONFIG_PATH": "config/dataset/000110.json",
    "MODEL_CONFIG_PATH": "config/model/000002.json",
    "PROFILE_REPORTING": false
   },
   "start_time": "2021-04-04T23:16:34.822281",
   "version": "2.3.3"
  }
 },
 "nbformat": 4,
 "nbformat_minor": 5
}