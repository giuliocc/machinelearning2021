{
 "cells": [
  {
   "cell_type": "markdown",
   "id": "51c71c25",
   "metadata": {
    "papermill": {
     "duration": 0.021097,
     "end_time": "2021-04-04T23:33:49.501045",
     "exception": false,
     "start_time": "2021-04-04T23:33:49.479948",
     "status": "completed"
    },
    "tags": []
   },
   "source": [
    "# Parametrizing"
   ]
  },
  {
   "cell_type": "code",
   "execution_count": 1,
   "id": "3b136394",
   "metadata": {
    "execution": {
     "iopub.execute_input": "2021-04-04T23:33:49.553275Z",
     "iopub.status.busy": "2021-04-04T23:33:49.550855Z",
     "iopub.status.idle": "2021-04-04T23:33:49.555856Z",
     "shell.execute_reply": "2021-04-04T23:33:49.555251Z"
    },
    "papermill": {
     "duration": 0.034419,
     "end_time": "2021-04-04T23:33:49.555993",
     "exception": false,
     "start_time": "2021-04-04T23:33:49.521574",
     "status": "completed"
    },
    "tags": [
     "parameters"
    ]
   },
   "outputs": [],
   "source": [
    "DATASET_CONFIG_PATH = 'config/dataset/kc1_001.json'\n",
    "MODEL_CONFIG_PATH = 'config/model/knndd_001.json'\n",
    "PROFILE_REPORTING = False"
   ]
  },
  {
   "cell_type": "code",
   "execution_count": 2,
   "id": "0fe596e8",
   "metadata": {
    "execution": {
     "iopub.execute_input": "2021-04-04T23:33:49.603756Z",
     "iopub.status.busy": "2021-04-04T23:33:49.602919Z",
     "iopub.status.idle": "2021-04-04T23:33:49.604937Z",
     "shell.execute_reply": "2021-04-04T23:33:49.605420Z"
    },
    "papermill": {
     "duration": 0.025846,
     "end_time": "2021-04-04T23:33:49.605564",
     "exception": false,
     "start_time": "2021-04-04T23:33:49.579718",
     "status": "completed"
    },
    "tags": [
     "injected-parameters"
    ]
   },
   "outputs": [],
   "source": [
    "# Parameters\n",
    "DATASET_CONFIG_PATH = \"config/dataset/000150.json\"\n",
    "MODEL_CONFIG_PATH = \"config/model/000003.json\"\n",
    "PROFILE_REPORTING = False\n"
   ]
  },
  {
   "cell_type": "code",
   "execution_count": 3,
   "id": "b80f2a10",
   "metadata": {
    "execution": {
     "iopub.execute_input": "2021-04-04T23:33:49.662556Z",
     "iopub.status.busy": "2021-04-04T23:33:49.660443Z",
     "iopub.status.idle": "2021-04-04T23:33:49.665917Z",
     "shell.execute_reply": "2021-04-04T23:33:49.666622Z"
    },
    "papermill": {
     "duration": 0.036627,
     "end_time": "2021-04-04T23:33:49.666837",
     "exception": false,
     "start_time": "2021-04-04T23:33:49.630210",
     "status": "completed"
    },
    "tags": []
   },
   "outputs": [],
   "source": [
    "import json\n",
    "\n",
    "\n",
    "with open(DATASET_CONFIG_PATH) as f:\n",
    "    dataset_config = json.load(f)\n",
    "\n",
    "with open(MODEL_CONFIG_PATH) as f:\n",
    "    model_config = json.load(f)"
   ]
  },
  {
   "cell_type": "markdown",
   "id": "9a4b0e2d",
   "metadata": {
    "papermill": {
     "duration": 0.024632,
     "end_time": "2021-04-04T23:33:49.712774",
     "exception": false,
     "start_time": "2021-04-04T23:33:49.688142",
     "status": "completed"
    },
    "tags": []
   },
   "source": [
    "# Profiling"
   ]
  },
  {
   "cell_type": "code",
   "execution_count": 4,
   "id": "a3e0289b",
   "metadata": {
    "execution": {
     "iopub.execute_input": "2021-04-04T23:33:49.790272Z",
     "iopub.status.busy": "2021-04-04T23:33:49.789497Z",
     "iopub.status.idle": "2021-04-04T23:33:51.171508Z",
     "shell.execute_reply": "2021-04-04T23:33:51.170615Z"
    },
    "papermill": {
     "duration": 1.417113,
     "end_time": "2021-04-04T23:33:51.171677",
     "exception": false,
     "start_time": "2021-04-04T23:33:49.754564",
     "status": "completed"
    },
    "tags": []
   },
   "outputs": [],
   "source": [
    "import pandas as pd\n",
    "from pandas_profiling import ProfileReport"
   ]
  },
  {
   "cell_type": "code",
   "execution_count": 5,
   "id": "ee6c0666",
   "metadata": {
    "execution": {
     "iopub.execute_input": "2021-04-04T23:33:51.238825Z",
     "iopub.status.busy": "2021-04-04T23:33:51.237310Z",
     "iopub.status.idle": "2021-04-04T23:33:51.246246Z",
     "shell.execute_reply": "2021-04-04T23:33:51.246741Z"
    },
    "papermill": {
     "duration": 0.046071,
     "end_time": "2021-04-04T23:33:51.246891",
     "exception": false,
     "start_time": "2021-04-04T23:33:51.200820",
     "status": "completed"
    },
    "tags": []
   },
   "outputs": [],
   "source": [
    "df = pd.read_csv(dataset_config['dataset_path'])"
   ]
  },
  {
   "cell_type": "code",
   "execution_count": 6,
   "id": "7eca6c4a",
   "metadata": {
    "execution": {
     "iopub.execute_input": "2021-04-04T23:33:51.300928Z",
     "iopub.status.busy": "2021-04-04T23:33:51.299189Z",
     "iopub.status.idle": "2021-04-04T23:33:51.317174Z",
     "shell.execute_reply": "2021-04-04T23:33:51.317859Z"
    },
    "papermill": {
     "duration": 0.050241,
     "end_time": "2021-04-04T23:33:51.318079",
     "exception": false,
     "start_time": "2021-04-04T23:33:51.267838",
     "status": "completed"
    },
    "tags": []
   },
   "outputs": [
    {
     "name": "stdout",
     "output_type": "stream",
     "text": [
      "<class 'pandas.core.frame.DataFrame'>\n",
      "RangeIndex: 498 entries, 0 to 497\n",
      "Data columns (total 23 columns):\n",
      " #   Column             Non-Null Count  Dtype  \n",
      "---  ------             --------------  -----  \n",
      " 0   id                 498 non-null    int64  \n",
      " 1   loc                498 non-null    float64\n",
      " 2   v(g)               498 non-null    float64\n",
      " 3   ev(g)              498 non-null    float64\n",
      " 4   iv(g)              498 non-null    float64\n",
      " 5   n                  498 non-null    float64\n",
      " 6   v                  498 non-null    float64\n",
      " 7   l                  498 non-null    float64\n",
      " 8   d                  498 non-null    float64\n",
      " 9   i                  498 non-null    float64\n",
      " 10  e                  498 non-null    float64\n",
      " 11  b                  498 non-null    float64\n",
      " 12  t                  498 non-null    float64\n",
      " 13  lOCode             498 non-null    int64  \n",
      " 14  lOComment          498 non-null    int64  \n",
      " 15  lOBlank            498 non-null    int64  \n",
      " 16  locCodeAndComment  498 non-null    int64  \n",
      " 17  uniq_Op            498 non-null    float64\n",
      " 18  uniq_Opnd          498 non-null    float64\n",
      " 19  total_Op           498 non-null    float64\n",
      " 20  total_Opnd         498 non-null    float64\n",
      " 21  branchCount        498 non-null    float64\n",
      " 22  defects            498 non-null    bool   \n",
      "dtypes: bool(1), float64(17), int64(5)\n",
      "memory usage: 86.2 KB\n"
     ]
    }
   ],
   "source": [
    "df.info()"
   ]
  },
  {
   "cell_type": "code",
   "execution_count": 7,
   "id": "3638e5e8",
   "metadata": {
    "execution": {
     "iopub.execute_input": "2021-04-04T23:33:51.379987Z",
     "iopub.status.busy": "2021-04-04T23:33:51.379359Z",
     "iopub.status.idle": "2021-04-04T23:33:51.409176Z",
     "shell.execute_reply": "2021-04-04T23:33:51.408396Z"
    },
    "papermill": {
     "duration": 0.068094,
     "end_time": "2021-04-04T23:33:51.409339",
     "exception": false,
     "start_time": "2021-04-04T23:33:51.341245",
     "status": "completed"
    },
    "tags": []
   },
   "outputs": [
    {
     "data": {
      "text/html": [
       "<div>\n",
       "<style scoped>\n",
       "    .dataframe tbody tr th:only-of-type {\n",
       "        vertical-align: middle;\n",
       "    }\n",
       "\n",
       "    .dataframe tbody tr th {\n",
       "        vertical-align: top;\n",
       "    }\n",
       "\n",
       "    .dataframe thead th {\n",
       "        text-align: right;\n",
       "    }\n",
       "</style>\n",
       "<table border=\"1\" class=\"dataframe\">\n",
       "  <thead>\n",
       "    <tr style=\"text-align: right;\">\n",
       "      <th></th>\n",
       "      <th>id</th>\n",
       "      <th>loc</th>\n",
       "      <th>v(g)</th>\n",
       "      <th>ev(g)</th>\n",
       "      <th>iv(g)</th>\n",
       "      <th>n</th>\n",
       "      <th>v</th>\n",
       "      <th>l</th>\n",
       "      <th>d</th>\n",
       "      <th>i</th>\n",
       "      <th>...</th>\n",
       "      <th>lOCode</th>\n",
       "      <th>lOComment</th>\n",
       "      <th>lOBlank</th>\n",
       "      <th>locCodeAndComment</th>\n",
       "      <th>uniq_Op</th>\n",
       "      <th>uniq_Opnd</th>\n",
       "      <th>total_Op</th>\n",
       "      <th>total_Opnd</th>\n",
       "      <th>branchCount</th>\n",
       "      <th>defects</th>\n",
       "    </tr>\n",
       "  </thead>\n",
       "  <tbody>\n",
       "    <tr>\n",
       "      <th>0</th>\n",
       "      <td>1</td>\n",
       "      <td>1.1</td>\n",
       "      <td>1.4</td>\n",
       "      <td>1.4</td>\n",
       "      <td>1.4</td>\n",
       "      <td>1.3</td>\n",
       "      <td>1.30</td>\n",
       "      <td>1.30</td>\n",
       "      <td>1.30</td>\n",
       "      <td>1.30</td>\n",
       "      <td>...</td>\n",
       "      <td>2</td>\n",
       "      <td>2</td>\n",
       "      <td>2</td>\n",
       "      <td>2</td>\n",
       "      <td>1.2</td>\n",
       "      <td>1.2</td>\n",
       "      <td>1.2</td>\n",
       "      <td>1.2</td>\n",
       "      <td>1.4</td>\n",
       "      <td>False</td>\n",
       "    </tr>\n",
       "    <tr>\n",
       "      <th>1</th>\n",
       "      <td>2</td>\n",
       "      <td>1.0</td>\n",
       "      <td>1.0</td>\n",
       "      <td>1.0</td>\n",
       "      <td>1.0</td>\n",
       "      <td>1.0</td>\n",
       "      <td>1.00</td>\n",
       "      <td>1.00</td>\n",
       "      <td>1.00</td>\n",
       "      <td>1.00</td>\n",
       "      <td>...</td>\n",
       "      <td>1</td>\n",
       "      <td>1</td>\n",
       "      <td>1</td>\n",
       "      <td>1</td>\n",
       "      <td>1.0</td>\n",
       "      <td>1.0</td>\n",
       "      <td>1.0</td>\n",
       "      <td>1.0</td>\n",
       "      <td>1.0</td>\n",
       "      <td>True</td>\n",
       "    </tr>\n",
       "    <tr>\n",
       "      <th>2</th>\n",
       "      <td>3</td>\n",
       "      <td>24.0</td>\n",
       "      <td>5.0</td>\n",
       "      <td>1.0</td>\n",
       "      <td>3.0</td>\n",
       "      <td>63.0</td>\n",
       "      <td>309.13</td>\n",
       "      <td>0.11</td>\n",
       "      <td>9.50</td>\n",
       "      <td>32.54</td>\n",
       "      <td>...</td>\n",
       "      <td>1</td>\n",
       "      <td>0</td>\n",
       "      <td>6</td>\n",
       "      <td>0</td>\n",
       "      <td>15.0</td>\n",
       "      <td>15.0</td>\n",
       "      <td>44.0</td>\n",
       "      <td>19.0</td>\n",
       "      <td>9.0</td>\n",
       "      <td>False</td>\n",
       "    </tr>\n",
       "    <tr>\n",
       "      <th>3</th>\n",
       "      <td>4</td>\n",
       "      <td>20.0</td>\n",
       "      <td>4.0</td>\n",
       "      <td>4.0</td>\n",
       "      <td>2.0</td>\n",
       "      <td>47.0</td>\n",
       "      <td>215.49</td>\n",
       "      <td>0.06</td>\n",
       "      <td>16.00</td>\n",
       "      <td>13.47</td>\n",
       "      <td>...</td>\n",
       "      <td>0</td>\n",
       "      <td>0</td>\n",
       "      <td>3</td>\n",
       "      <td>0</td>\n",
       "      <td>16.0</td>\n",
       "      <td>8.0</td>\n",
       "      <td>31.0</td>\n",
       "      <td>16.0</td>\n",
       "      <td>7.0</td>\n",
       "      <td>False</td>\n",
       "    </tr>\n",
       "    <tr>\n",
       "      <th>4</th>\n",
       "      <td>5</td>\n",
       "      <td>24.0</td>\n",
       "      <td>6.0</td>\n",
       "      <td>6.0</td>\n",
       "      <td>2.0</td>\n",
       "      <td>72.0</td>\n",
       "      <td>346.13</td>\n",
       "      <td>0.06</td>\n",
       "      <td>17.33</td>\n",
       "      <td>19.97</td>\n",
       "      <td>...</td>\n",
       "      <td>0</td>\n",
       "      <td>0</td>\n",
       "      <td>3</td>\n",
       "      <td>0</td>\n",
       "      <td>16.0</td>\n",
       "      <td>12.0</td>\n",
       "      <td>46.0</td>\n",
       "      <td>26.0</td>\n",
       "      <td>11.0</td>\n",
       "      <td>False</td>\n",
       "    </tr>\n",
       "  </tbody>\n",
       "</table>\n",
       "<p>5 rows × 23 columns</p>\n",
       "</div>"
      ],
      "text/plain": [
       "   id   loc  v(g)  ev(g)  iv(g)     n       v     l      d      i  ...  \\\n",
       "0   1   1.1   1.4    1.4    1.4   1.3    1.30  1.30   1.30   1.30  ...   \n",
       "1   2   1.0   1.0    1.0    1.0   1.0    1.00  1.00   1.00   1.00  ...   \n",
       "2   3  24.0   5.0    1.0    3.0  63.0  309.13  0.11   9.50  32.54  ...   \n",
       "3   4  20.0   4.0    4.0    2.0  47.0  215.49  0.06  16.00  13.47  ...   \n",
       "4   5  24.0   6.0    6.0    2.0  72.0  346.13  0.06  17.33  19.97  ...   \n",
       "\n",
       "   lOCode  lOComment  lOBlank  locCodeAndComment  uniq_Op  uniq_Opnd  \\\n",
       "0       2          2        2                  2      1.2        1.2   \n",
       "1       1          1        1                  1      1.0        1.0   \n",
       "2       1          0        6                  0     15.0       15.0   \n",
       "3       0          0        3                  0     16.0        8.0   \n",
       "4       0          0        3                  0     16.0       12.0   \n",
       "\n",
       "   total_Op  total_Opnd  branchCount  defects  \n",
       "0       1.2         1.2          1.4    False  \n",
       "1       1.0         1.0          1.0     True  \n",
       "2      44.0        19.0          9.0    False  \n",
       "3      31.0        16.0          7.0    False  \n",
       "4      46.0        26.0         11.0    False  \n",
       "\n",
       "[5 rows x 23 columns]"
      ]
     },
     "execution_count": 7,
     "metadata": {},
     "output_type": "execute_result"
    }
   ],
   "source": [
    "df.head()"
   ]
  },
  {
   "cell_type": "code",
   "execution_count": 8,
   "id": "733e95eb",
   "metadata": {
    "execution": {
     "iopub.execute_input": "2021-04-04T23:33:51.483956Z",
     "iopub.status.busy": "2021-04-04T23:33:51.482831Z",
     "iopub.status.idle": "2021-04-04T23:33:51.486145Z",
     "shell.execute_reply": "2021-04-04T23:33:51.485491Z"
    },
    "papermill": {
     "duration": 0.04432,
     "end_time": "2021-04-04T23:33:51.486300",
     "exception": false,
     "start_time": "2021-04-04T23:33:51.441980",
     "status": "completed"
    },
    "tags": []
   },
   "outputs": [],
   "source": [
    "del df['id']"
   ]
  },
  {
   "cell_type": "code",
   "execution_count": 9,
   "id": "6ff6f5b0",
   "metadata": {
    "execution": {
     "iopub.execute_input": "2021-04-04T23:33:51.541343Z",
     "iopub.status.busy": "2021-04-04T23:33:51.540382Z",
     "iopub.status.idle": "2021-04-04T23:33:51.543391Z",
     "shell.execute_reply": "2021-04-04T23:33:51.542678Z"
    },
    "papermill": {
     "duration": 0.0313,
     "end_time": "2021-04-04T23:33:51.543534",
     "exception": false,
     "start_time": "2021-04-04T23:33:51.512234",
     "status": "completed"
    },
    "tags": []
   },
   "outputs": [],
   "source": [
    "if PROFILE_REPORTING:\n",
    "    ProfileReport(df).to_widgets()"
   ]
  },
  {
   "cell_type": "markdown",
   "id": "1deaf3f0",
   "metadata": {
    "papermill": {
     "duration": 0.036076,
     "end_time": "2021-04-04T23:33:51.609453",
     "exception": false,
     "start_time": "2021-04-04T23:33:51.573377",
     "status": "completed"
    },
    "tags": []
   },
   "source": [
    "# Preprocess"
   ]
  },
  {
   "cell_type": "code",
   "execution_count": 10,
   "id": "1513e563",
   "metadata": {
    "execution": {
     "iopub.execute_input": "2021-04-04T23:33:51.692893Z",
     "iopub.status.busy": "2021-04-04T23:33:51.691217Z",
     "iopub.status.idle": "2021-04-04T23:33:51.694633Z",
     "shell.execute_reply": "2021-04-04T23:33:51.696057Z"
    },
    "papermill": {
     "duration": 0.053583,
     "end_time": "2021-04-04T23:33:51.696542",
     "exception": false,
     "start_time": "2021-04-04T23:33:51.642959",
     "status": "completed"
    },
    "tags": []
   },
   "outputs": [],
   "source": [
    "working_df = df.copy()"
   ]
  },
  {
   "cell_type": "code",
   "execution_count": 11,
   "id": "3b26d675",
   "metadata": {
    "execution": {
     "iopub.execute_input": "2021-04-04T23:33:51.778400Z",
     "iopub.status.busy": "2021-04-04T23:33:51.776929Z",
     "iopub.status.idle": "2021-04-04T23:33:51.782283Z",
     "shell.execute_reply": "2021-04-04T23:33:51.781096Z"
    },
    "papermill": {
     "duration": 0.058983,
     "end_time": "2021-04-04T23:33:51.782612",
     "exception": false,
     "start_time": "2021-04-04T23:33:51.723629",
     "status": "completed"
    },
    "tags": []
   },
   "outputs": [],
   "source": [
    "working_df['defects'] = working_df['defects'].replace([False, True], [0, 1])"
   ]
  },
  {
   "cell_type": "code",
   "execution_count": 12,
   "id": "eb48604f",
   "metadata": {
    "execution": {
     "iopub.execute_input": "2021-04-04T23:33:51.845037Z",
     "iopub.status.busy": "2021-04-04T23:33:51.844110Z",
     "iopub.status.idle": "2021-04-04T23:33:51.845734Z",
     "shell.execute_reply": "2021-04-04T23:33:51.846193Z"
    },
    "papermill": {
     "duration": 0.033719,
     "end_time": "2021-04-04T23:33:51.846338",
     "exception": false,
     "start_time": "2021-04-04T23:33:51.812619",
     "status": "completed"
    },
    "tags": []
   },
   "outputs": [],
   "source": [
    "for col in dataset_config['delete_columns']:\n",
    "    del working_df[col]"
   ]
  },
  {
   "cell_type": "code",
   "execution_count": 13,
   "id": "9a17bc29",
   "metadata": {
    "execution": {
     "iopub.execute_input": "2021-04-04T23:33:51.907453Z",
     "iopub.status.busy": "2021-04-04T23:33:51.905558Z",
     "iopub.status.idle": "2021-04-04T23:33:51.914275Z",
     "shell.execute_reply": "2021-04-04T23:33:51.914844Z"
    },
    "papermill": {
     "duration": 0.044901,
     "end_time": "2021-04-04T23:33:51.915069",
     "exception": false,
     "start_time": "2021-04-04T23:33:51.870168",
     "status": "completed"
    },
    "tags": []
   },
   "outputs": [],
   "source": [
    "working_df = working_df.drop_duplicates()"
   ]
  },
  {
   "cell_type": "markdown",
   "id": "a4d52ca6",
   "metadata": {
    "papermill": {
     "duration": 0.025319,
     "end_time": "2021-04-04T23:33:51.963339",
     "exception": false,
     "start_time": "2021-04-04T23:33:51.938020",
     "status": "completed"
    },
    "tags": []
   },
   "source": [
    "# Split"
   ]
  },
  {
   "cell_type": "code",
   "execution_count": 14,
   "id": "3e9ee4b5",
   "metadata": {
    "execution": {
     "iopub.execute_input": "2021-04-04T23:33:52.018441Z",
     "iopub.status.busy": "2021-04-04T23:33:52.017511Z",
     "iopub.status.idle": "2021-04-04T23:33:52.046201Z",
     "shell.execute_reply": "2021-04-04T23:33:52.046971Z"
    },
    "papermill": {
     "duration": 0.060721,
     "end_time": "2021-04-04T23:33:52.047156",
     "exception": false,
     "start_time": "2021-04-04T23:33:51.986435",
     "status": "completed"
    },
    "tags": []
   },
   "outputs": [],
   "source": [
    "from sklearn.model_selection import train_test_split"
   ]
  },
  {
   "cell_type": "code",
   "execution_count": 15,
   "id": "274004ce",
   "metadata": {
    "execution": {
     "iopub.execute_input": "2021-04-04T23:33:52.098853Z",
     "iopub.status.busy": "2021-04-04T23:33:52.098196Z",
     "iopub.status.idle": "2021-04-04T23:33:52.105179Z",
     "shell.execute_reply": "2021-04-04T23:33:52.105920Z"
    },
    "papermill": {
     "duration": 0.034479,
     "end_time": "2021-04-04T23:33:52.106095",
     "exception": false,
     "start_time": "2021-04-04T23:33:52.071616",
     "status": "completed"
    },
    "scrolled": true,
    "tags": []
   },
   "outputs": [],
   "source": [
    "inlier, outlier = working_df[working_df['defects'] == 0], working_df[working_df['defects'] == 1]"
   ]
  },
  {
   "cell_type": "code",
   "execution_count": 16,
   "id": "753c7b03",
   "metadata": {
    "execution": {
     "iopub.execute_input": "2021-04-04T23:33:52.172118Z",
     "iopub.status.busy": "2021-04-04T23:33:52.170449Z",
     "iopub.status.idle": "2021-04-04T23:33:52.174949Z",
     "shell.execute_reply": "2021-04-04T23:33:52.175997Z"
    },
    "papermill": {
     "duration": 0.046938,
     "end_time": "2021-04-04T23:33:52.176301",
     "exception": false,
     "start_time": "2021-04-04T23:33:52.129363",
     "status": "completed"
    },
    "tags": []
   },
   "outputs": [],
   "source": [
    "X_inlier = inlier.copy()\n",
    "y_inlier = X_inlier.pop('defects')\n",
    "X_outlier = outlier.copy()\n",
    "y_outlier = X_outlier.pop('defects')"
   ]
  },
  {
   "cell_type": "code",
   "execution_count": 17,
   "id": "2ba43193",
   "metadata": {
    "execution": {
     "iopub.execute_input": "2021-04-04T23:33:52.250821Z",
     "iopub.status.busy": "2021-04-04T23:33:52.250158Z",
     "iopub.status.idle": "2021-04-04T23:33:52.252056Z",
     "shell.execute_reply": "2021-04-04T23:33:52.252519Z"
    },
    "papermill": {
     "duration": 0.035885,
     "end_time": "2021-04-04T23:33:52.252664",
     "exception": false,
     "start_time": "2021-04-04T23:33:52.216779",
     "status": "completed"
    },
    "tags": []
   },
   "outputs": [],
   "source": [
    "test_size = dataset_config['test_size']\n",
    "random_state = dataset_config['random_state']\n",
    "\n",
    "X_inlier_train, X_inlier_test, y_inlier_train, y_inlier_test = train_test_split(\n",
    "    X_inlier,\n",
    "    y_inlier,\n",
    "    test_size=test_size,\n",
    "    random_state=random_state\n",
    ")"
   ]
  },
  {
   "cell_type": "code",
   "execution_count": 18,
   "id": "0b7582ca",
   "metadata": {
    "execution": {
     "iopub.execute_input": "2021-04-04T23:33:52.314783Z",
     "iopub.status.busy": "2021-04-04T23:33:52.313885Z",
     "iopub.status.idle": "2021-04-04T23:33:52.316572Z",
     "shell.execute_reply": "2021-04-04T23:33:52.317845Z"
    },
    "papermill": {
     "duration": 0.040901,
     "end_time": "2021-04-04T23:33:52.318245",
     "exception": false,
     "start_time": "2021-04-04T23:33:52.277344",
     "status": "completed"
    },
    "tags": []
   },
   "outputs": [],
   "source": [
    "test_outlier_size = dataset_config['test_outlier_size']\n",
    "if test_outlier_size > 0.0:\n",
    "    X_outlier_train, X_outlier_test, y_outlier_train, y_outlier_test = train_test_split(\n",
    "        X_outlier,\n",
    "        y_outlier,\n",
    "        test_size=test_outlier_size,\n",
    "        random_state=random_state\n",
    "    )\n",
    "else:\n",
    "    X_outlier_train, y_outlier_train = pd.DataFrame(columns=X_outlier.columns), pd.Series(dtype='int64')\n",
    "    X_outlier_test, y_outlier_test = X_outlier.copy(), y_outlier.copy()"
   ]
  },
  {
   "cell_type": "code",
   "execution_count": 19,
   "id": "c34363db",
   "metadata": {
    "execution": {
     "iopub.execute_input": "2021-04-04T23:33:52.386440Z",
     "iopub.status.busy": "2021-04-04T23:33:52.385792Z",
     "iopub.status.idle": "2021-04-04T23:33:52.388635Z",
     "shell.execute_reply": "2021-04-04T23:33:52.388136Z"
    },
    "papermill": {
     "duration": 0.045428,
     "end_time": "2021-04-04T23:33:52.388754",
     "exception": false,
     "start_time": "2021-04-04T23:33:52.343326",
     "status": "completed"
    },
    "tags": []
   },
   "outputs": [],
   "source": [
    "X_train, y_train = pd.concat([X_inlier_train, X_outlier_train], ignore_index=True), pd.concat([y_inlier_train, y_outlier_train], ignore_index=True)\n",
    "X_test, y_test = pd.concat([X_inlier_test, X_outlier_test], ignore_index=True), pd.concat([y_inlier_test, y_outlier_test], ignore_index=True)"
   ]
  },
  {
   "cell_type": "markdown",
   "id": "7cde7309",
   "metadata": {
    "papermill": {
     "duration": 0.032322,
     "end_time": "2021-04-04T23:33:52.444677",
     "exception": false,
     "start_time": "2021-04-04T23:33:52.412355",
     "status": "completed"
    },
    "tags": []
   },
   "source": [
    "# Model"
   ]
  },
  {
   "cell_type": "code",
   "execution_count": 20,
   "id": "2b12a415",
   "metadata": {
    "execution": {
     "iopub.execute_input": "2021-04-04T23:33:52.505265Z",
     "iopub.status.busy": "2021-04-04T23:33:52.504410Z",
     "iopub.status.idle": "2021-04-04T23:33:52.506433Z",
     "shell.execute_reply": "2021-04-04T23:33:52.506966Z"
    },
    "papermill": {
     "duration": 0.036027,
     "end_time": "2021-04-04T23:33:52.507114",
     "exception": false,
     "start_time": "2021-04-04T23:33:52.471087",
     "status": "completed"
    },
    "tags": []
   },
   "outputs": [],
   "source": [
    "from math import sqrt\n",
    "\n",
    "\n",
    "class KNNDataDescription:\n",
    "    def __init__(self, k=5, outlier_threshold=1.0):\n",
    "        self.k = k\n",
    "        self.outlier_threshold = outlier_threshold\n",
    "        self.X = []\n",
    "    \n",
    "    def fit(self, X):\n",
    "        self.X = [features.to_list() for index, features in X.iterrows()]\n",
    "\n",
    "    def predict(self, entries):\n",
    "        return [self.predict_entry(features.to_list()) for index, features in entries.iterrows()]\n",
    "    \n",
    "    def predict_entry(self, entry):\n",
    "        kth_neighbor, kth_distance = self.get_kth_neighbor(entry, self.k)\n",
    "        kth_kth_neighbor, kth_kth_distance = self.get_kth_neighbor(kth_neighbor, self.k + 1)\n",
    "\n",
    "        outlier_score = kth_distance / (kth_kth_distance + 0.000001)\n",
    "\n",
    "        return 1 if outlier_score < self.outlier_threshold else -1\n",
    "        \n",
    "    def euclidean_distance(self, features1, features2):\n",
    "        distance = 0.0\n",
    "        for feat1, feat2 in zip(features1, features2):\n",
    "            distance += (feat1 - feat2)**2\n",
    "                \n",
    "        return sqrt(distance)\n",
    "\n",
    "    def get_neighbors(self, entry, k):\n",
    "        distance_to_data_points = [\n",
    "            (data_point, self.euclidean_distance(entry, data_point))\n",
    "            for data_point in self.X\n",
    "        ]\n",
    "        sorted_by_distance = sorted(distance_to_data_points, key=lambda tup: tup[1])\n",
    "        neighbors = sorted_by_distance[:k]\n",
    "        return neighbors\n",
    "\n",
    "    def get_kth_neighbor(self, entry, k):\n",
    "        neighbors = self.get_neighbors(entry, k)\n",
    "        return neighbors[-1]\n"
   ]
  },
  {
   "cell_type": "code",
   "execution_count": 21,
   "id": "1fa9ec1c",
   "metadata": {
    "execution": {
     "iopub.execute_input": "2021-04-04T23:33:52.567160Z",
     "iopub.status.busy": "2021-04-04T23:33:52.566050Z",
     "iopub.status.idle": "2021-04-04T23:33:52.589167Z",
     "shell.execute_reply": "2021-04-04T23:33:52.588570Z"
    },
    "papermill": {
     "duration": 0.054389,
     "end_time": "2021-04-04T23:33:52.589305",
     "exception": false,
     "start_time": "2021-04-04T23:33:52.534916",
     "status": "completed"
    },
    "tags": []
   },
   "outputs": [],
   "source": [
    "from sklearn.svm import OneClassSVM\n",
    "\n",
    "\n",
    "models = {\n",
    "    'oneclasssvm': OneClassSVM,\n",
    "    'knndatadescription': KNNDataDescription,\n",
    "}"
   ]
  },
  {
   "cell_type": "code",
   "execution_count": 22,
   "id": "4d72a0b1",
   "metadata": {
    "execution": {
     "iopub.execute_input": "2021-04-04T23:33:52.646488Z",
     "iopub.status.busy": "2021-04-04T23:33:52.644755Z",
     "iopub.status.idle": "2021-04-04T23:33:52.648029Z",
     "shell.execute_reply": "2021-04-04T23:33:52.648530Z"
    },
    "papermill": {
     "duration": 0.035205,
     "end_time": "2021-04-04T23:33:52.648673",
     "exception": false,
     "start_time": "2021-04-04T23:33:52.613468",
     "status": "completed"
    },
    "scrolled": true,
    "tags": []
   },
   "outputs": [],
   "source": [
    "model_cls = models[model_config['model_type']]\n",
    "model = model_cls(**model_config['hyperparameters'])"
   ]
  },
  {
   "cell_type": "markdown",
   "id": "e00cff3b",
   "metadata": {
    "papermill": {
     "duration": 0.02979,
     "end_time": "2021-04-04T23:33:52.704050",
     "exception": false,
     "start_time": "2021-04-04T23:33:52.674260",
     "status": "completed"
    },
    "tags": []
   },
   "source": [
    "# Fit"
   ]
  },
  {
   "cell_type": "code",
   "execution_count": 23,
   "id": "8b2ded89",
   "metadata": {
    "execution": {
     "iopub.execute_input": "2021-04-04T23:33:52.793819Z",
     "iopub.status.busy": "2021-04-04T23:33:52.792777Z",
     "iopub.status.idle": "2021-04-04T23:33:52.817008Z",
     "shell.execute_reply": "2021-04-04T23:33:52.816362Z"
    },
    "papermill": {
     "duration": 0.07857,
     "end_time": "2021-04-04T23:33:52.817130",
     "exception": false,
     "start_time": "2021-04-04T23:33:52.738560",
     "status": "completed"
    },
    "tags": []
   },
   "outputs": [],
   "source": [
    "model.fit(X_train)"
   ]
  },
  {
   "cell_type": "markdown",
   "id": "f99999f7",
   "metadata": {
    "papermill": {
     "duration": 0.028584,
     "end_time": "2021-04-04T23:33:52.872585",
     "exception": false,
     "start_time": "2021-04-04T23:33:52.844001",
     "status": "completed"
    },
    "tags": []
   },
   "source": [
    "# Predict"
   ]
  },
  {
   "cell_type": "code",
   "execution_count": 24,
   "id": "6536fbf7",
   "metadata": {
    "execution": {
     "iopub.execute_input": "2021-04-04T23:33:53.003936Z",
     "iopub.status.busy": "2021-04-04T23:33:52.966529Z",
     "iopub.status.idle": "2021-04-04T23:33:53.348688Z",
     "shell.execute_reply": "2021-04-04T23:33:53.349204Z"
    },
    "papermill": {
     "duration": 0.434479,
     "end_time": "2021-04-04T23:33:53.349384",
     "exception": false,
     "start_time": "2021-04-04T23:33:52.914905",
     "status": "completed"
    },
    "tags": []
   },
   "outputs": [],
   "source": [
    "predictions = model.predict(X_test)"
   ]
  },
  {
   "cell_type": "markdown",
   "id": "aa1c9881",
   "metadata": {
    "papermill": {
     "duration": 0.038694,
     "end_time": "2021-04-04T23:33:53.419888",
     "exception": false,
     "start_time": "2021-04-04T23:33:53.381194",
     "status": "completed"
    },
    "tags": []
   },
   "source": [
    "# Evaluate"
   ]
  },
  {
   "cell_type": "code",
   "execution_count": 25,
   "id": "894f0f04",
   "metadata": {
    "execution": {
     "iopub.execute_input": "2021-04-04T23:33:53.519868Z",
     "iopub.status.busy": "2021-04-04T23:33:53.518319Z",
     "iopub.status.idle": "2021-04-04T23:33:53.523110Z",
     "shell.execute_reply": "2021-04-04T23:33:53.522289Z"
    },
    "papermill": {
     "duration": 0.05497,
     "end_time": "2021-04-04T23:33:53.523430",
     "exception": false,
     "start_time": "2021-04-04T23:33:53.468460",
     "status": "completed"
    },
    "tags": []
   },
   "outputs": [],
   "source": [
    "from sklearn.metrics import f1_score"
   ]
  },
  {
   "cell_type": "code",
   "execution_count": 26,
   "id": "211744d3",
   "metadata": {
    "execution": {
     "iopub.execute_input": "2021-04-04T23:33:53.597020Z",
     "iopub.status.busy": "2021-04-04T23:33:53.595519Z",
     "iopub.status.idle": "2021-04-04T23:33:53.600638Z",
     "shell.execute_reply": "2021-04-04T23:33:53.601792Z"
    },
    "papermill": {
     "duration": 0.051341,
     "end_time": "2021-04-04T23:33:53.602188",
     "exception": false,
     "start_time": "2021-04-04T23:33:53.550847",
     "status": "completed"
    },
    "tags": []
   },
   "outputs": [],
   "source": [
    "y_test = y_test.replace([0, 1], [1, -1])"
   ]
  },
  {
   "cell_type": "code",
   "execution_count": 27,
   "id": "d68a9204",
   "metadata": {
    "execution": {
     "iopub.execute_input": "2021-04-04T23:33:53.696341Z",
     "iopub.status.busy": "2021-04-04T23:33:53.695218Z",
     "iopub.status.idle": "2021-04-04T23:33:53.697818Z",
     "shell.execute_reply": "2021-04-04T23:33:53.697311Z"
    },
    "papermill": {
     "duration": 0.054001,
     "end_time": "2021-04-04T23:33:53.697938",
     "exception": false,
     "start_time": "2021-04-04T23:33:53.643937",
     "status": "completed"
    },
    "tags": []
   },
   "outputs": [],
   "source": [
    "def evaluate(truths, predictions, pos_label, neg_label):\n",
    "    TP = 0\n",
    "    FP = 0\n",
    "    TN = 0\n",
    "    FN = 0\n",
    "\n",
    "    for truth, pred in zip(truths, predictions): \n",
    "        if truth == pred == pos_label:\n",
    "           TP += 1\n",
    "        elif pred == pos_label and truth == neg_label:\n",
    "           FP += 1\n",
    "        elif truth == pred == neg_label:\n",
    "           TN += 1\n",
    "        elif pred == neg_label and truth == pos_label:\n",
    "           FN += 1\n",
    "\n",
    "    precision = TP / (TP + FP)\n",
    "    sensitivity = TP / (TP + FN)\n",
    "    \n",
    "    return {\n",
    "        'true_pos': TP,\n",
    "        'false_pos': FP,\n",
    "        'false_neg': FN,\n",
    "        'true_neg': TN,\n",
    "        'precision': precision,\n",
    "        'sensitivity': sensitivity,\n",
    "        'f1': (2 * (precision * sensitivity)) / (precision + sensitivity)\n",
    "    }\n",
    "\n",
    "score = evaluate(y_test, predictions, pos_label=-1, neg_label=1)"
   ]
  },
  {
   "cell_type": "markdown",
   "id": "93596516",
   "metadata": {
    "papermill": {
     "duration": 0.044482,
     "end_time": "2021-04-04T23:33:53.786334",
     "exception": false,
     "start_time": "2021-04-04T23:33:53.741852",
     "status": "completed"
    },
    "tags": []
   },
   "source": [
    "# Report"
   ]
  },
  {
   "cell_type": "code",
   "execution_count": 28,
   "id": "bea5fba1",
   "metadata": {
    "execution": {
     "iopub.execute_input": "2021-04-04T23:33:53.853783Z",
     "iopub.status.busy": "2021-04-04T23:33:53.853194Z",
     "iopub.status.idle": "2021-04-04T23:33:53.855447Z",
     "shell.execute_reply": "2021-04-04T23:33:53.855906Z"
    },
    "papermill": {
     "duration": 0.040427,
     "end_time": "2021-04-04T23:33:53.856050",
     "exception": false,
     "start_time": "2021-04-04T23:33:53.815623",
     "status": "completed"
    },
    "tags": []
   },
   "outputs": [],
   "source": [
    "import csv\n",
    "\n",
    "\n",
    "dataset_config_name = DATASET_CONFIG_PATH.split('/')[-1].split('.')[0]\n",
    "model_config_name = MODEL_CONFIG_PATH.split('/')[-1].split('.')[0]\n",
    "configuration = f\"dataset_{dataset_config_name}-model_{model_config_name}\"\n",
    "\n",
    "with open('results.csv', 'a') as f:\n",
    "    report = dict({'configuration': configuration}, **score)\n",
    "    writer = csv.DictWriter(f, report.keys())\n",
    "    writer.writerow(report)"
   ]
  }
 ],
 "metadata": {
  "celltoolbar": "Tags",
  "kernelspec": {
   "display_name": "Python 3",
   "language": "python",
   "name": "python3"
  },
  "language_info": {
   "codemirror_mode": {
    "name": "ipython",
    "version": 3
   },
   "file_extension": ".py",
   "mimetype": "text/x-python",
   "name": "python",
   "nbconvert_exporter": "python",
   "pygments_lexer": "ipython3",
   "version": "3.9.1"
  },
  "papermill": {
   "default_parameters": {},
   "duration": 5.911415,
   "end_time": "2021-04-04T23:33:54.489789",
   "environment_variables": {},
   "exception": null,
   "input_path": "main.ipynb",
   "output_path": "runs/dataset_000150-model_000003.ipynb",
   "parameters": {
    "DATASET_CONFIG_PATH": "config/dataset/000150.json",
    "MODEL_CONFIG_PATH": "config/model/000003.json",
    "PROFILE_REPORTING": false
   },
   "start_time": "2021-04-04T23:33:48.578374",
   "version": "2.3.3"
  }
 },
 "nbformat": 4,
 "nbformat_minor": 5
}