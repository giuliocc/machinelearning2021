{
 "cells": [
  {
   "cell_type": "markdown",
   "id": "51c71c25",
   "metadata": {
    "papermill": {
     "duration": 0.030279,
     "end_time": "2021-04-04T22:27:01.099023",
     "exception": false,
     "start_time": "2021-04-04T22:27:01.068744",
     "status": "completed"
    },
    "tags": []
   },
   "source": [
    "# Parametrizing"
   ]
  },
  {
   "cell_type": "code",
   "execution_count": 1,
   "id": "3b136394",
   "metadata": {
    "execution": {
     "iopub.execute_input": "2021-04-04T22:27:01.150119Z",
     "iopub.status.busy": "2021-04-04T22:27:01.149366Z",
     "iopub.status.idle": "2021-04-04T22:27:01.151889Z",
     "shell.execute_reply": "2021-04-04T22:27:01.151301Z"
    },
    "papermill": {
     "duration": 0.032806,
     "end_time": "2021-04-04T22:27:01.152015",
     "exception": false,
     "start_time": "2021-04-04T22:27:01.119209",
     "status": "completed"
    },
    "tags": [
     "parameters"
    ]
   },
   "outputs": [],
   "source": [
    "DATASET_CONFIG_PATH = 'config/dataset/kc1_001.json'\n",
    "MODEL_CONFIG_PATH = 'config/model/knndd_001.json'\n",
    "PROFILE_REPORTING = False"
   ]
  },
  {
   "cell_type": "code",
   "execution_count": 2,
   "id": "2ebd0ca9",
   "metadata": {
    "execution": {
     "iopub.execute_input": "2021-04-04T22:27:01.199044Z",
     "iopub.status.busy": "2021-04-04T22:27:01.198211Z",
     "iopub.status.idle": "2021-04-04T22:27:01.200769Z",
     "shell.execute_reply": "2021-04-04T22:27:01.200187Z"
    },
    "papermill": {
     "duration": 0.02815,
     "end_time": "2021-04-04T22:27:01.200887",
     "exception": false,
     "start_time": "2021-04-04T22:27:01.172737",
     "status": "completed"
    },
    "tags": [
     "injected-parameters"
    ]
   },
   "outputs": [],
   "source": [
    "# Parameters\n",
    "DATASET_CONFIG_PATH = \"config/dataset/000012.json\"\n",
    "MODEL_CONFIG_PATH = \"config/model/000003.json\"\n",
    "PROFILE_REPORTING = False\n"
   ]
  },
  {
   "cell_type": "code",
   "execution_count": 3,
   "id": "b80f2a10",
   "metadata": {
    "execution": {
     "iopub.execute_input": "2021-04-04T22:27:01.248351Z",
     "iopub.status.busy": "2021-04-04T22:27:01.247446Z",
     "iopub.status.idle": "2021-04-04T22:27:01.249721Z",
     "shell.execute_reply": "2021-04-04T22:27:01.250213Z"
    },
    "papermill": {
     "duration": 0.028699,
     "end_time": "2021-04-04T22:27:01.250365",
     "exception": false,
     "start_time": "2021-04-04T22:27:01.221666",
     "status": "completed"
    },
    "tags": []
   },
   "outputs": [],
   "source": [
    "import json\n",
    "\n",
    "\n",
    "with open(DATASET_CONFIG_PATH) as f:\n",
    "    dataset_config = json.load(f)\n",
    "\n",
    "with open(MODEL_CONFIG_PATH) as f:\n",
    "    model_config = json.load(f)"
   ]
  },
  {
   "cell_type": "markdown",
   "id": "9a4b0e2d",
   "metadata": {
    "papermill": {
     "duration": 0.020952,
     "end_time": "2021-04-04T22:27:01.292657",
     "exception": false,
     "start_time": "2021-04-04T22:27:01.271705",
     "status": "completed"
    },
    "tags": []
   },
   "source": [
    "# Profiling"
   ]
  },
  {
   "cell_type": "code",
   "execution_count": 4,
   "id": "a3e0289b",
   "metadata": {
    "execution": {
     "iopub.execute_input": "2021-04-04T22:27:01.337765Z",
     "iopub.status.busy": "2021-04-04T22:27:01.336974Z",
     "iopub.status.idle": "2021-04-04T22:27:02.703478Z",
     "shell.execute_reply": "2021-04-04T22:27:02.702533Z"
    },
    "papermill": {
     "duration": 1.391287,
     "end_time": "2021-04-04T22:27:02.703661",
     "exception": false,
     "start_time": "2021-04-04T22:27:01.312374",
     "status": "completed"
    },
    "tags": []
   },
   "outputs": [],
   "source": [
    "import pandas as pd\n",
    "from pandas_profiling import ProfileReport"
   ]
  },
  {
   "cell_type": "code",
   "execution_count": 5,
   "id": "ee6c0666",
   "metadata": {
    "execution": {
     "iopub.execute_input": "2021-04-04T22:27:02.757984Z",
     "iopub.status.busy": "2021-04-04T22:27:02.757095Z",
     "iopub.status.idle": "2021-04-04T22:27:02.767479Z",
     "shell.execute_reply": "2021-04-04T22:27:02.767932Z"
    },
    "papermill": {
     "duration": 0.039897,
     "end_time": "2021-04-04T22:27:02.768073",
     "exception": false,
     "start_time": "2021-04-04T22:27:02.728176",
     "status": "completed"
    },
    "tags": []
   },
   "outputs": [],
   "source": [
    "df = pd.read_csv(dataset_config['dataset_path'])"
   ]
  },
  {
   "cell_type": "code",
   "execution_count": 6,
   "id": "7eca6c4a",
   "metadata": {
    "execution": {
     "iopub.execute_input": "2021-04-04T22:27:02.826199Z",
     "iopub.status.busy": "2021-04-04T22:27:02.815882Z",
     "iopub.status.idle": "2021-04-04T22:27:02.829306Z",
     "shell.execute_reply": "2021-04-04T22:27:02.828807Z"
    },
    "papermill": {
     "duration": 0.041274,
     "end_time": "2021-04-04T22:27:02.829423",
     "exception": false,
     "start_time": "2021-04-04T22:27:02.788149",
     "status": "completed"
    },
    "tags": []
   },
   "outputs": [
    {
     "name": "stdout",
     "output_type": "stream",
     "text": [
      "<class 'pandas.core.frame.DataFrame'>\n",
      "RangeIndex: 2109 entries, 0 to 2108\n",
      "Data columns (total 23 columns):\n",
      " #   Column             Non-Null Count  Dtype  \n",
      "---  ------             --------------  -----  \n",
      " 0   id                 2109 non-null   int64  \n",
      " 1   loc                2109 non-null   float64\n",
      " 2   v(g)               2109 non-null   float64\n",
      " 3   ev(g)              2109 non-null   float64\n",
      " 4   iv(g)              2109 non-null   float64\n",
      " 5   n                  2109 non-null   float64\n",
      " 6   v                  2109 non-null   float64\n",
      " 7   l                  2109 non-null   float64\n",
      " 8   d                  2109 non-null   float64\n",
      " 9   i                  2109 non-null   float64\n",
      " 10  e                  2109 non-null   float64\n",
      " 11  b                  2109 non-null   float64\n",
      " 12  t                  2109 non-null   float64\n",
      " 13  lOCode             2109 non-null   int64  \n",
      " 14  lOComment          2109 non-null   int64  \n",
      " 15  lOBlank            2109 non-null   int64  \n",
      " 16  locCodeAndComment  2109 non-null   int64  \n",
      " 17  uniq_Op            2109 non-null   float64\n",
      " 18  uniq_Opnd          2109 non-null   float64\n",
      " 19  total_Op           2109 non-null   float64\n",
      " 20  total_Opnd         2109 non-null   float64\n",
      " 21  branchCount        2109 non-null   float64\n",
      " 22  defects            2109 non-null   bool   \n",
      "dtypes: bool(1), float64(17), int64(5)\n",
      "memory usage: 364.7 KB\n"
     ]
    }
   ],
   "source": [
    "df.info()"
   ]
  },
  {
   "cell_type": "code",
   "execution_count": 7,
   "id": "3638e5e8",
   "metadata": {
    "execution": {
     "iopub.execute_input": "2021-04-04T22:27:02.895081Z",
     "iopub.status.busy": "2021-04-04T22:27:02.882966Z",
     "iopub.status.idle": "2021-04-04T22:27:02.912223Z",
     "shell.execute_reply": "2021-04-04T22:27:02.911607Z"
    },
    "papermill": {
     "duration": 0.059767,
     "end_time": "2021-04-04T22:27:02.912349",
     "exception": false,
     "start_time": "2021-04-04T22:27:02.852582",
     "status": "completed"
    },
    "tags": []
   },
   "outputs": [
    {
     "data": {
      "text/html": [
       "<div>\n",
       "<style scoped>\n",
       "    .dataframe tbody tr th:only-of-type {\n",
       "        vertical-align: middle;\n",
       "    }\n",
       "\n",
       "    .dataframe tbody tr th {\n",
       "        vertical-align: top;\n",
       "    }\n",
       "\n",
       "    .dataframe thead th {\n",
       "        text-align: right;\n",
       "    }\n",
       "</style>\n",
       "<table border=\"1\" class=\"dataframe\">\n",
       "  <thead>\n",
       "    <tr style=\"text-align: right;\">\n",
       "      <th></th>\n",
       "      <th>id</th>\n",
       "      <th>loc</th>\n",
       "      <th>v(g)</th>\n",
       "      <th>ev(g)</th>\n",
       "      <th>iv(g)</th>\n",
       "      <th>n</th>\n",
       "      <th>v</th>\n",
       "      <th>l</th>\n",
       "      <th>d</th>\n",
       "      <th>i</th>\n",
       "      <th>...</th>\n",
       "      <th>lOCode</th>\n",
       "      <th>lOComment</th>\n",
       "      <th>lOBlank</th>\n",
       "      <th>locCodeAndComment</th>\n",
       "      <th>uniq_Op</th>\n",
       "      <th>uniq_Opnd</th>\n",
       "      <th>total_Op</th>\n",
       "      <th>total_Opnd</th>\n",
       "      <th>branchCount</th>\n",
       "      <th>defects</th>\n",
       "    </tr>\n",
       "  </thead>\n",
       "  <tbody>\n",
       "    <tr>\n",
       "      <th>0</th>\n",
       "      <td>1</td>\n",
       "      <td>1.1</td>\n",
       "      <td>1.4</td>\n",
       "      <td>1.4</td>\n",
       "      <td>1.4</td>\n",
       "      <td>1.3</td>\n",
       "      <td>1.30</td>\n",
       "      <td>1.30</td>\n",
       "      <td>1.30</td>\n",
       "      <td>1.30</td>\n",
       "      <td>...</td>\n",
       "      <td>2</td>\n",
       "      <td>2</td>\n",
       "      <td>2</td>\n",
       "      <td>2</td>\n",
       "      <td>1.2</td>\n",
       "      <td>1.2</td>\n",
       "      <td>1.2</td>\n",
       "      <td>1.2</td>\n",
       "      <td>1.4</td>\n",
       "      <td>False</td>\n",
       "    </tr>\n",
       "    <tr>\n",
       "      <th>1</th>\n",
       "      <td>2</td>\n",
       "      <td>1.0</td>\n",
       "      <td>1.0</td>\n",
       "      <td>1.0</td>\n",
       "      <td>1.0</td>\n",
       "      <td>1.0</td>\n",
       "      <td>1.00</td>\n",
       "      <td>1.00</td>\n",
       "      <td>1.00</td>\n",
       "      <td>1.00</td>\n",
       "      <td>...</td>\n",
       "      <td>1</td>\n",
       "      <td>1</td>\n",
       "      <td>1</td>\n",
       "      <td>1</td>\n",
       "      <td>1.0</td>\n",
       "      <td>1.0</td>\n",
       "      <td>1.0</td>\n",
       "      <td>1.0</td>\n",
       "      <td>1.0</td>\n",
       "      <td>True</td>\n",
       "    </tr>\n",
       "    <tr>\n",
       "      <th>2</th>\n",
       "      <td>3</td>\n",
       "      <td>83.0</td>\n",
       "      <td>11.0</td>\n",
       "      <td>1.0</td>\n",
       "      <td>11.0</td>\n",
       "      <td>171.0</td>\n",
       "      <td>927.89</td>\n",
       "      <td>0.04</td>\n",
       "      <td>23.04</td>\n",
       "      <td>40.27</td>\n",
       "      <td>...</td>\n",
       "      <td>65</td>\n",
       "      <td>10</td>\n",
       "      <td>6</td>\n",
       "      <td>0</td>\n",
       "      <td>18.0</td>\n",
       "      <td>25.0</td>\n",
       "      <td>107.0</td>\n",
       "      <td>64.0</td>\n",
       "      <td>21.0</td>\n",
       "      <td>True</td>\n",
       "    </tr>\n",
       "    <tr>\n",
       "      <th>3</th>\n",
       "      <td>4</td>\n",
       "      <td>46.0</td>\n",
       "      <td>8.0</td>\n",
       "      <td>6.0</td>\n",
       "      <td>8.0</td>\n",
       "      <td>141.0</td>\n",
       "      <td>769.78</td>\n",
       "      <td>0.07</td>\n",
       "      <td>14.86</td>\n",
       "      <td>51.81</td>\n",
       "      <td>...</td>\n",
       "      <td>37</td>\n",
       "      <td>2</td>\n",
       "      <td>5</td>\n",
       "      <td>0</td>\n",
       "      <td>16.0</td>\n",
       "      <td>28.0</td>\n",
       "      <td>89.0</td>\n",
       "      <td>52.0</td>\n",
       "      <td>15.0</td>\n",
       "      <td>True</td>\n",
       "    </tr>\n",
       "    <tr>\n",
       "      <th>4</th>\n",
       "      <td>5</td>\n",
       "      <td>25.0</td>\n",
       "      <td>3.0</td>\n",
       "      <td>1.0</td>\n",
       "      <td>3.0</td>\n",
       "      <td>58.0</td>\n",
       "      <td>254.75</td>\n",
       "      <td>0.11</td>\n",
       "      <td>9.35</td>\n",
       "      <td>27.25</td>\n",
       "      <td>...</td>\n",
       "      <td>21</td>\n",
       "      <td>0</td>\n",
       "      <td>2</td>\n",
       "      <td>0</td>\n",
       "      <td>11.0</td>\n",
       "      <td>10.0</td>\n",
       "      <td>41.0</td>\n",
       "      <td>17.0</td>\n",
       "      <td>5.0</td>\n",
       "      <td>True</td>\n",
       "    </tr>\n",
       "  </tbody>\n",
       "</table>\n",
       "<p>5 rows × 23 columns</p>\n",
       "</div>"
      ],
      "text/plain": [
       "   id   loc  v(g)  ev(g)  iv(g)      n       v     l      d      i  ...  \\\n",
       "0   1   1.1   1.4    1.4    1.4    1.3    1.30  1.30   1.30   1.30  ...   \n",
       "1   2   1.0   1.0    1.0    1.0    1.0    1.00  1.00   1.00   1.00  ...   \n",
       "2   3  83.0  11.0    1.0   11.0  171.0  927.89  0.04  23.04  40.27  ...   \n",
       "3   4  46.0   8.0    6.0    8.0  141.0  769.78  0.07  14.86  51.81  ...   \n",
       "4   5  25.0   3.0    1.0    3.0   58.0  254.75  0.11   9.35  27.25  ...   \n",
       "\n",
       "   lOCode  lOComment  lOBlank  locCodeAndComment  uniq_Op  uniq_Opnd  \\\n",
       "0       2          2        2                  2      1.2        1.2   \n",
       "1       1          1        1                  1      1.0        1.0   \n",
       "2      65         10        6                  0     18.0       25.0   \n",
       "3      37          2        5                  0     16.0       28.0   \n",
       "4      21          0        2                  0     11.0       10.0   \n",
       "\n",
       "   total_Op  total_Opnd  branchCount  defects  \n",
       "0       1.2         1.2          1.4    False  \n",
       "1       1.0         1.0          1.0     True  \n",
       "2     107.0        64.0         21.0     True  \n",
       "3      89.0        52.0         15.0     True  \n",
       "4      41.0        17.0          5.0     True  \n",
       "\n",
       "[5 rows x 23 columns]"
      ]
     },
     "execution_count": 7,
     "metadata": {},
     "output_type": "execute_result"
    }
   ],
   "source": [
    "df.head()"
   ]
  },
  {
   "cell_type": "code",
   "execution_count": 8,
   "id": "733e95eb",
   "metadata": {
    "execution": {
     "iopub.execute_input": "2021-04-04T22:27:02.963434Z",
     "iopub.status.busy": "2021-04-04T22:27:02.962595Z",
     "iopub.status.idle": "2021-04-04T22:27:02.964805Z",
     "shell.execute_reply": "2021-04-04T22:27:02.965272Z"
    },
    "papermill": {
     "duration": 0.03091,
     "end_time": "2021-04-04T22:27:02.965415",
     "exception": false,
     "start_time": "2021-04-04T22:27:02.934505",
     "status": "completed"
    },
    "tags": []
   },
   "outputs": [],
   "source": [
    "del df['id']"
   ]
  },
  {
   "cell_type": "code",
   "execution_count": 9,
   "id": "6ff6f5b0",
   "metadata": {
    "execution": {
     "iopub.execute_input": "2021-04-04T22:27:03.014278Z",
     "iopub.status.busy": "2021-04-04T22:27:03.013449Z",
     "iopub.status.idle": "2021-04-04T22:27:03.016177Z",
     "shell.execute_reply": "2021-04-04T22:27:03.015540Z"
    },
    "papermill": {
     "duration": 0.029346,
     "end_time": "2021-04-04T22:27:03.016305",
     "exception": false,
     "start_time": "2021-04-04T22:27:02.986959",
     "status": "completed"
    },
    "tags": []
   },
   "outputs": [],
   "source": [
    "if PROFILE_REPORTING:\n",
    "    ProfileReport(df).to_widgets()"
   ]
  },
  {
   "cell_type": "markdown",
   "id": "1deaf3f0",
   "metadata": {
    "papermill": {
     "duration": 0.02301,
     "end_time": "2021-04-04T22:27:03.061010",
     "exception": false,
     "start_time": "2021-04-04T22:27:03.038000",
     "status": "completed"
    },
    "tags": []
   },
   "source": [
    "# Preprocess"
   ]
  },
  {
   "cell_type": "code",
   "execution_count": 10,
   "id": "1513e563",
   "metadata": {
    "execution": {
     "iopub.execute_input": "2021-04-04T22:27:03.111070Z",
     "iopub.status.busy": "2021-04-04T22:27:03.110099Z",
     "iopub.status.idle": "2021-04-04T22:27:03.113722Z",
     "shell.execute_reply": "2021-04-04T22:27:03.112884Z"
    },
    "papermill": {
     "duration": 0.031264,
     "end_time": "2021-04-04T22:27:03.113869",
     "exception": false,
     "start_time": "2021-04-04T22:27:03.082605",
     "status": "completed"
    },
    "tags": []
   },
   "outputs": [],
   "source": [
    "working_df = df.copy()"
   ]
  },
  {
   "cell_type": "code",
   "execution_count": 11,
   "id": "3b26d675",
   "metadata": {
    "execution": {
     "iopub.execute_input": "2021-04-04T22:27:03.167650Z",
     "iopub.status.busy": "2021-04-04T22:27:03.166584Z",
     "iopub.status.idle": "2021-04-04T22:27:03.171163Z",
     "shell.execute_reply": "2021-04-04T22:27:03.170456Z"
    },
    "papermill": {
     "duration": 0.032963,
     "end_time": "2021-04-04T22:27:03.171299",
     "exception": false,
     "start_time": "2021-04-04T22:27:03.138336",
     "status": "completed"
    },
    "tags": []
   },
   "outputs": [],
   "source": [
    "working_df['defects'] = working_df['defects'].replace([False, True], [0, 1])"
   ]
  },
  {
   "cell_type": "code",
   "execution_count": 12,
   "id": "eb48604f",
   "metadata": {
    "execution": {
     "iopub.execute_input": "2021-04-04T22:27:03.225102Z",
     "iopub.status.busy": "2021-04-04T22:27:03.224526Z",
     "iopub.status.idle": "2021-04-04T22:27:03.226792Z",
     "shell.execute_reply": "2021-04-04T22:27:03.227255Z"
    },
    "papermill": {
     "duration": 0.029301,
     "end_time": "2021-04-04T22:27:03.227397",
     "exception": false,
     "start_time": "2021-04-04T22:27:03.198096",
     "status": "completed"
    },
    "tags": []
   },
   "outputs": [],
   "source": [
    "for col in dataset_config['delete_columns']:\n",
    "    del working_df[col]"
   ]
  },
  {
   "cell_type": "code",
   "execution_count": 13,
   "id": "9a17bc29",
   "metadata": {
    "execution": {
     "iopub.execute_input": "2021-04-04T22:27:03.279459Z",
     "iopub.status.busy": "2021-04-04T22:27:03.278845Z",
     "iopub.status.idle": "2021-04-04T22:27:03.287352Z",
     "shell.execute_reply": "2021-04-04T22:27:03.287835Z"
    },
    "papermill": {
     "duration": 0.036423,
     "end_time": "2021-04-04T22:27:03.287983",
     "exception": false,
     "start_time": "2021-04-04T22:27:03.251560",
     "status": "completed"
    },
    "tags": []
   },
   "outputs": [],
   "source": [
    "working_df = working_df.drop_duplicates()"
   ]
  },
  {
   "cell_type": "markdown",
   "id": "a4d52ca6",
   "metadata": {
    "papermill": {
     "duration": 0.021342,
     "end_time": "2021-04-04T22:27:03.333565",
     "exception": false,
     "start_time": "2021-04-04T22:27:03.312223",
     "status": "completed"
    },
    "tags": []
   },
   "source": [
    "# Split"
   ]
  },
  {
   "cell_type": "code",
   "execution_count": 14,
   "id": "3e9ee4b5",
   "metadata": {
    "execution": {
     "iopub.execute_input": "2021-04-04T22:27:03.391476Z",
     "iopub.status.busy": "2021-04-04T22:27:03.390615Z",
     "iopub.status.idle": "2021-04-04T22:27:03.425788Z",
     "shell.execute_reply": "2021-04-04T22:27:03.426271Z"
    },
    "papermill": {
     "duration": 0.066137,
     "end_time": "2021-04-04T22:27:03.426417",
     "exception": false,
     "start_time": "2021-04-04T22:27:03.360280",
     "status": "completed"
    },
    "tags": []
   },
   "outputs": [],
   "source": [
    "from sklearn.model_selection import train_test_split"
   ]
  },
  {
   "cell_type": "code",
   "execution_count": 15,
   "id": "274004ce",
   "metadata": {
    "execution": {
     "iopub.execute_input": "2021-04-04T22:27:03.477215Z",
     "iopub.status.busy": "2021-04-04T22:27:03.476558Z",
     "iopub.status.idle": "2021-04-04T22:27:03.481471Z",
     "shell.execute_reply": "2021-04-04T22:27:03.480876Z"
    },
    "papermill": {
     "duration": 0.031684,
     "end_time": "2021-04-04T22:27:03.481590",
     "exception": false,
     "start_time": "2021-04-04T22:27:03.449906",
     "status": "completed"
    },
    "scrolled": true,
    "tags": []
   },
   "outputs": [],
   "source": [
    "inlier, outlier = working_df[working_df['defects'] == 0], working_df[working_df['defects'] == 1]"
   ]
  },
  {
   "cell_type": "code",
   "execution_count": 16,
   "id": "753c7b03",
   "metadata": {
    "execution": {
     "iopub.execute_input": "2021-04-04T22:27:03.541363Z",
     "iopub.status.busy": "2021-04-04T22:27:03.540512Z",
     "iopub.status.idle": "2021-04-04T22:27:03.545884Z",
     "shell.execute_reply": "2021-04-04T22:27:03.545255Z"
    },
    "papermill": {
     "duration": 0.040597,
     "end_time": "2021-04-04T22:27:03.546090",
     "exception": false,
     "start_time": "2021-04-04T22:27:03.505493",
     "status": "completed"
    },
    "tags": []
   },
   "outputs": [],
   "source": [
    "X_inlier = inlier.copy()\n",
    "y_inlier = X_inlier.pop('defects')\n",
    "X_outlier = outlier.copy()\n",
    "y_outlier = X_outlier.pop('defects')"
   ]
  },
  {
   "cell_type": "code",
   "execution_count": 17,
   "id": "2ba43193",
   "metadata": {
    "execution": {
     "iopub.execute_input": "2021-04-04T22:27:03.600438Z",
     "iopub.status.busy": "2021-04-04T22:27:03.598486Z",
     "iopub.status.idle": "2021-04-04T22:27:03.604840Z",
     "shell.execute_reply": "2021-04-04T22:27:03.604174Z"
    },
    "papermill": {
     "duration": 0.034626,
     "end_time": "2021-04-04T22:27:03.605000",
     "exception": false,
     "start_time": "2021-04-04T22:27:03.570374",
     "status": "completed"
    },
    "tags": []
   },
   "outputs": [],
   "source": [
    "test_size = dataset_config['test_size']\n",
    "random_state = dataset_config['random_state']\n",
    "\n",
    "X_inlier_train, X_inlier_test, y_inlier_train, y_inlier_test = train_test_split(\n",
    "    X_inlier,\n",
    "    y_inlier,\n",
    "    test_size=test_size,\n",
    "    random_state=random_state\n",
    ")"
   ]
  },
  {
   "cell_type": "code",
   "execution_count": 18,
   "id": "0b7582ca",
   "metadata": {
    "execution": {
     "iopub.execute_input": "2021-04-04T22:27:03.662137Z",
     "iopub.status.busy": "2021-04-04T22:27:03.660952Z",
     "iopub.status.idle": "2021-04-04T22:27:03.664221Z",
     "shell.execute_reply": "2021-04-04T22:27:03.664669Z"
    },
    "papermill": {
     "duration": 0.035342,
     "end_time": "2021-04-04T22:27:03.664814",
     "exception": false,
     "start_time": "2021-04-04T22:27:03.629472",
     "status": "completed"
    },
    "tags": []
   },
   "outputs": [],
   "source": [
    "test_outlier_size = dataset_config['test_outlier_size']\n",
    "if test_outlier_size > 0.0:\n",
    "    X_outlier_train, X_outlier_test, y_outlier_train, y_outlier_test = train_test_split(\n",
    "        X_outlier,\n",
    "        y_outlier,\n",
    "        test_size=test_outlier_size,\n",
    "        random_state=random_state\n",
    "    )\n",
    "else:\n",
    "    X_outlier_train, y_outlier_train = pd.DataFrame(columns=X_outlier.columns), pd.Series(dtype='int64')\n",
    "    X_outlier_test, y_outlier_test = X_outlier.copy(), y_outlier.copy()"
   ]
  },
  {
   "cell_type": "code",
   "execution_count": 19,
   "id": "c34363db",
   "metadata": {
    "execution": {
     "iopub.execute_input": "2021-04-04T22:27:03.718649Z",
     "iopub.status.busy": "2021-04-04T22:27:03.717680Z",
     "iopub.status.idle": "2021-04-04T22:27:03.723150Z",
     "shell.execute_reply": "2021-04-04T22:27:03.723668Z"
    },
    "papermill": {
     "duration": 0.035218,
     "end_time": "2021-04-04T22:27:03.723823",
     "exception": false,
     "start_time": "2021-04-04T22:27:03.688605",
     "status": "completed"
    },
    "tags": []
   },
   "outputs": [],
   "source": [
    "X_train, y_train = pd.concat([X_inlier_train, X_outlier_train], ignore_index=True), pd.concat([y_inlier_train, y_outlier_train], ignore_index=True)\n",
    "X_test, y_test = pd.concat([X_inlier_test, X_outlier_test], ignore_index=True), pd.concat([y_inlier_test, y_outlier_test], ignore_index=True)"
   ]
  },
  {
   "cell_type": "markdown",
   "id": "7cde7309",
   "metadata": {
    "papermill": {
     "duration": 0.040497,
     "end_time": "2021-04-04T22:27:03.794527",
     "exception": false,
     "start_time": "2021-04-04T22:27:03.754030",
     "status": "completed"
    },
    "tags": []
   },
   "source": [
    "# Model"
   ]
  },
  {
   "cell_type": "code",
   "execution_count": 20,
   "id": "2b12a415",
   "metadata": {
    "execution": {
     "iopub.execute_input": "2021-04-04T22:27:03.854269Z",
     "iopub.status.busy": "2021-04-04T22:27:03.853177Z",
     "iopub.status.idle": "2021-04-04T22:27:03.856204Z",
     "shell.execute_reply": "2021-04-04T22:27:03.855574Z"
    },
    "papermill": {
     "duration": 0.037653,
     "end_time": "2021-04-04T22:27:03.856351",
     "exception": false,
     "start_time": "2021-04-04T22:27:03.818698",
     "status": "completed"
    },
    "tags": []
   },
   "outputs": [],
   "source": [
    "from math import sqrt\n",
    "\n",
    "\n",
    "class KNNDataDescription:\n",
    "    def __init__(self, k=5, outlier_threshold=1.0):\n",
    "        self.k = k\n",
    "        self.outlier_threshold = outlier_threshold\n",
    "        self.X = []\n",
    "    \n",
    "    def fit(self, X):\n",
    "        self.X = [features.to_list() for index, features in X.iterrows()]\n",
    "\n",
    "    def predict(self, entries):\n",
    "        return [self.predict_entry(features.to_list()) for index, features in entries.iterrows()]\n",
    "    \n",
    "    def predict_entry(self, entry):\n",
    "        kth_neighbor, kth_distance = self.get_kth_neighbor(entry, self.k)\n",
    "        kth_kth_neighbor, kth_kth_distance = self.get_kth_neighbor(kth_neighbor, self.k + 1)\n",
    "\n",
    "        outlier_score = kth_distance / (kth_kth_distance + 0.000001)\n",
    "\n",
    "        return 1 if outlier_score < self.outlier_threshold else -1\n",
    "        \n",
    "    def euclidean_distance(self, features1, features2):\n",
    "        distance = 0.0\n",
    "        for feat1, feat2 in zip(features1, features2):\n",
    "            distance += (feat1 - feat2)**2\n",
    "                \n",
    "        return sqrt(distance)\n",
    "\n",
    "    def get_neighbors(self, entry, k):\n",
    "        distance_to_data_points = [\n",
    "            (data_point, self.euclidean_distance(entry, data_point))\n",
    "            for data_point in self.X\n",
    "        ]\n",
    "        sorted_by_distance = sorted(distance_to_data_points, key=lambda tup: tup[1])\n",
    "        neighbors = sorted_by_distance[:k]\n",
    "        return neighbors\n",
    "\n",
    "    def get_kth_neighbor(self, entry, k):\n",
    "        neighbors = self.get_neighbors(entry, k)\n",
    "        return neighbors[-1]\n"
   ]
  },
  {
   "cell_type": "code",
   "execution_count": 21,
   "id": "1fa9ec1c",
   "metadata": {
    "execution": {
     "iopub.execute_input": "2021-04-04T22:27:03.912927Z",
     "iopub.status.busy": "2021-04-04T22:27:03.912262Z",
     "iopub.status.idle": "2021-04-04T22:27:03.933988Z",
     "shell.execute_reply": "2021-04-04T22:27:03.934449Z"
    },
    "papermill": {
     "duration": 0.050955,
     "end_time": "2021-04-04T22:27:03.934601",
     "exception": false,
     "start_time": "2021-04-04T22:27:03.883646",
     "status": "completed"
    },
    "tags": []
   },
   "outputs": [],
   "source": [
    "from sklearn.svm import OneClassSVM\n",
    "\n",
    "\n",
    "models = {\n",
    "    'oneclasssvm': OneClassSVM,\n",
    "    'knndatadescription': KNNDataDescription,\n",
    "}"
   ]
  },
  {
   "cell_type": "code",
   "execution_count": 22,
   "id": "4d72a0b1",
   "metadata": {
    "execution": {
     "iopub.execute_input": "2021-04-04T22:27:03.986242Z",
     "iopub.status.busy": "2021-04-04T22:27:03.985433Z",
     "iopub.status.idle": "2021-04-04T22:27:03.987675Z",
     "shell.execute_reply": "2021-04-04T22:27:03.988165Z"
    },
    "papermill": {
     "duration": 0.030333,
     "end_time": "2021-04-04T22:27:03.988312",
     "exception": false,
     "start_time": "2021-04-04T22:27:03.957979",
     "status": "completed"
    },
    "scrolled": true,
    "tags": []
   },
   "outputs": [],
   "source": [
    "model_cls = models[model_config['model_type']]\n",
    "model = model_cls(**model_config['hyperparameters'])"
   ]
  },
  {
   "cell_type": "markdown",
   "id": "e00cff3b",
   "metadata": {
    "papermill": {
     "duration": 0.024203,
     "end_time": "2021-04-04T22:27:04.037289",
     "exception": false,
     "start_time": "2021-04-04T22:27:04.013086",
     "status": "completed"
    },
    "tags": []
   },
   "source": [
    "# Fit"
   ]
  },
  {
   "cell_type": "code",
   "execution_count": 23,
   "id": "8b2ded89",
   "metadata": {
    "execution": {
     "iopub.execute_input": "2021-04-04T22:27:04.088421Z",
     "iopub.status.busy": "2021-04-04T22:27:04.087759Z",
     "iopub.status.idle": "2021-04-04T22:27:04.135334Z",
     "shell.execute_reply": "2021-04-04T22:27:04.134655Z"
    },
    "papermill": {
     "duration": 0.075373,
     "end_time": "2021-04-04T22:27:04.135476",
     "exception": false,
     "start_time": "2021-04-04T22:27:04.060103",
     "status": "completed"
    },
    "tags": []
   },
   "outputs": [],
   "source": [
    "model.fit(X_train)"
   ]
  },
  {
   "cell_type": "markdown",
   "id": "f99999f7",
   "metadata": {
    "papermill": {
     "duration": 0.024619,
     "end_time": "2021-04-04T22:27:04.185931",
     "exception": false,
     "start_time": "2021-04-04T22:27:04.161312",
     "status": "completed"
    },
    "tags": []
   },
   "source": [
    "# Predict"
   ]
  },
  {
   "cell_type": "code",
   "execution_count": 24,
   "id": "6536fbf7",
   "metadata": {
    "execution": {
     "iopub.execute_input": "2021-04-04T22:27:04.252254Z",
     "iopub.status.busy": "2021-04-04T22:27:04.241824Z",
     "iopub.status.idle": "2021-04-04T22:27:06.865505Z",
     "shell.execute_reply": "2021-04-04T22:27:06.864549Z"
    },
    "papermill": {
     "duration": 2.657018,
     "end_time": "2021-04-04T22:27:06.865683",
     "exception": false,
     "start_time": "2021-04-04T22:27:04.208665",
     "status": "completed"
    },
    "tags": []
   },
   "outputs": [],
   "source": [
    "predictions = model.predict(X_test)"
   ]
  },
  {
   "cell_type": "markdown",
   "id": "aa1c9881",
   "metadata": {
    "papermill": {
     "duration": 0.023704,
     "end_time": "2021-04-04T22:27:06.916471",
     "exception": false,
     "start_time": "2021-04-04T22:27:06.892767",
     "status": "completed"
    },
    "tags": []
   },
   "source": [
    "# Evaluate"
   ]
  },
  {
   "cell_type": "code",
   "execution_count": 25,
   "id": "894f0f04",
   "metadata": {
    "execution": {
     "iopub.execute_input": "2021-04-04T22:27:06.969322Z",
     "iopub.status.busy": "2021-04-04T22:27:06.968195Z",
     "iopub.status.idle": "2021-04-04T22:27:06.971640Z",
     "shell.execute_reply": "2021-04-04T22:27:06.970757Z"
    },
    "papermill": {
     "duration": 0.031726,
     "end_time": "2021-04-04T22:27:06.971835",
     "exception": false,
     "start_time": "2021-04-04T22:27:06.940109",
     "status": "completed"
    },
    "tags": []
   },
   "outputs": [],
   "source": [
    "from sklearn.metrics import f1_score"
   ]
  },
  {
   "cell_type": "code",
   "execution_count": 26,
   "id": "211744d3",
   "metadata": {
    "execution": {
     "iopub.execute_input": "2021-04-04T22:27:07.034289Z",
     "iopub.status.busy": "2021-04-04T22:27:07.033581Z",
     "iopub.status.idle": "2021-04-04T22:27:07.035249Z",
     "shell.execute_reply": "2021-04-04T22:27:07.035716Z"
    },
    "papermill": {
     "duration": 0.031975,
     "end_time": "2021-04-04T22:27:07.035858",
     "exception": false,
     "start_time": "2021-04-04T22:27:07.003883",
     "status": "completed"
    },
    "tags": []
   },
   "outputs": [],
   "source": [
    "y_test = y_test.replace([0, 1], [1, -1])"
   ]
  },
  {
   "cell_type": "code",
   "execution_count": 27,
   "id": "d68a9204",
   "metadata": {
    "execution": {
     "iopub.execute_input": "2021-04-04T22:27:07.092372Z",
     "iopub.status.busy": "2021-04-04T22:27:07.091771Z",
     "iopub.status.idle": "2021-04-04T22:27:07.093813Z",
     "shell.execute_reply": "2021-04-04T22:27:07.094305Z"
    },
    "papermill": {
     "duration": 0.032846,
     "end_time": "2021-04-04T22:27:07.094454",
     "exception": false,
     "start_time": "2021-04-04T22:27:07.061608",
     "status": "completed"
    },
    "tags": []
   },
   "outputs": [],
   "source": [
    "def evaluate(truths, predictions, pos_label, neg_label):\n",
    "    TP = 0\n",
    "    FP = 0\n",
    "    TN = 0\n",
    "    FN = 0\n",
    "\n",
    "    for truth, pred in zip(truths, predictions): \n",
    "        if truth == pred == pos_label:\n",
    "           TP += 1\n",
    "        elif pred == pos_label and truth == neg_label:\n",
    "           FP += 1\n",
    "        elif truth == pred == neg_label:\n",
    "           TN += 1\n",
    "        elif pred == neg_label and truth == pos_label:\n",
    "           FN += 1\n",
    "\n",
    "    precision = TP / (TP + FP)\n",
    "    sensitivity = TP / (TP + FN)\n",
    "    \n",
    "    return {\n",
    "        'true_pos': TP,\n",
    "        'false_pos': FP,\n",
    "        'false_neg': FN,\n",
    "        'true_neg': TN,\n",
    "        'precision': precision,\n",
    "        'sensitivity': sensitivity,\n",
    "        'f1': (2 * (precision * sensitivity)) / (precision + sensitivity)\n",
    "    }\n",
    "\n",
    "score = evaluate(y_test, predictions, pos_label=-1, neg_label=1)"
   ]
  },
  {
   "cell_type": "markdown",
   "id": "93596516",
   "metadata": {
    "papermill": {
     "duration": 0.025109,
     "end_time": "2021-04-04T22:27:07.144520",
     "exception": false,
     "start_time": "2021-04-04T22:27:07.119411",
     "status": "completed"
    },
    "tags": []
   },
   "source": [
    "# Report"
   ]
  },
  {
   "cell_type": "code",
   "execution_count": 28,
   "id": "bea5fba1",
   "metadata": {
    "execution": {
     "iopub.execute_input": "2021-04-04T22:27:07.196837Z",
     "iopub.status.busy": "2021-04-04T22:27:07.196217Z",
     "iopub.status.idle": "2021-04-04T22:27:07.198587Z",
     "shell.execute_reply": "2021-04-04T22:27:07.199062Z"
    },
    "papermill": {
     "duration": 0.031063,
     "end_time": "2021-04-04T22:27:07.199292",
     "exception": false,
     "start_time": "2021-04-04T22:27:07.168229",
     "status": "completed"
    },
    "tags": []
   },
   "outputs": [],
   "source": [
    "import csv\n",
    "\n",
    "\n",
    "dataset_config_name = DATASET_CONFIG_PATH.split('/')[-1].split('.')[0]\n",
    "model_config_name = MODEL_CONFIG_PATH.split('/')[-1].split('.')[0]\n",
    "configuration = f\"dataset_{dataset_config_name}-model_{model_config_name}\"\n",
    "\n",
    "with open('results.csv', 'a') as f:\n",
    "    report = dict({'configuration': configuration}, **score)\n",
    "    writer = csv.DictWriter(f, report.keys())\n",
    "    writer.writerow(report)"
   ]
  }
 ],
 "metadata": {
  "celltoolbar": "Tags",
  "kernelspec": {
   "display_name": "Python 3",
   "language": "python",
   "name": "python3"
  },
  "language_info": {
   "codemirror_mode": {
    "name": "ipython",
    "version": 3
   },
   "file_extension": ".py",
   "mimetype": "text/x-python",
   "name": "python",
   "nbconvert_exporter": "python",
   "pygments_lexer": "ipython3",
   "version": "3.9.1"
  },
  "papermill": {
   "default_parameters": {},
   "duration": 7.477376,
   "end_time": "2021-04-04T22:27:07.834509",
   "environment_variables": {},
   "exception": null,
   "input_path": "main.ipynb",
   "output_path": "runs/dataset_000012-model_000003.ipynb",
   "parameters": {
    "DATASET_CONFIG_PATH": "config/dataset/000012.json",
    "MODEL_CONFIG_PATH": "config/model/000003.json",
    "PROFILE_REPORTING": false
   },
   "start_time": "2021-04-04T22:27:00.357133",
   "version": "2.3.3"
  }
 },
 "nbformat": 4,
 "nbformat_minor": 5
}