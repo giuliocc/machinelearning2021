{
 "cells": [
  {
   "cell_type": "markdown",
   "id": "51c71c25",
   "metadata": {
    "papermill": {
     "duration": 0.02893,
     "end_time": "2021-04-04T23:06:25.263914",
     "exception": false,
     "start_time": "2021-04-04T23:06:25.234984",
     "status": "completed"
    },
    "tags": []
   },
   "source": [
    "# Parametrizing"
   ]
  },
  {
   "cell_type": "code",
   "execution_count": 1,
   "id": "3b136394",
   "metadata": {
    "execution": {
     "iopub.execute_input": "2021-04-04T23:06:25.315885Z",
     "iopub.status.busy": "2021-04-04T23:06:25.314861Z",
     "iopub.status.idle": "2021-04-04T23:06:25.318403Z",
     "shell.execute_reply": "2021-04-04T23:06:25.317718Z"
    },
    "papermill": {
     "duration": 0.034516,
     "end_time": "2021-04-04T23:06:25.318555",
     "exception": false,
     "start_time": "2021-04-04T23:06:25.284039",
     "status": "completed"
    },
    "tags": [
     "parameters"
    ]
   },
   "outputs": [],
   "source": [
    "DATASET_CONFIG_PATH = 'config/dataset/kc1_001.json'\n",
    "MODEL_CONFIG_PATH = 'config/model/knndd_001.json'\n",
    "PROFILE_REPORTING = False"
   ]
  },
  {
   "cell_type": "code",
   "execution_count": 2,
   "id": "f067b5ba",
   "metadata": {
    "execution": {
     "iopub.execute_input": "2021-04-04T23:06:25.369503Z",
     "iopub.status.busy": "2021-04-04T23:06:25.368460Z",
     "iopub.status.idle": "2021-04-04T23:06:25.371643Z",
     "shell.execute_reply": "2021-04-04T23:06:25.370875Z"
    },
    "papermill": {
     "duration": 0.03122,
     "end_time": "2021-04-04T23:06:25.371836",
     "exception": false,
     "start_time": "2021-04-04T23:06:25.340616",
     "status": "completed"
    },
    "tags": [
     "injected-parameters"
    ]
   },
   "outputs": [],
   "source": [
    "# Parameters\n",
    "DATASET_CONFIG_PATH = \"config/dataset/000083.json\"\n",
    "MODEL_CONFIG_PATH = \"config/model/000004.json\"\n",
    "PROFILE_REPORTING = False\n"
   ]
  },
  {
   "cell_type": "code",
   "execution_count": 3,
   "id": "b80f2a10",
   "metadata": {
    "execution": {
     "iopub.execute_input": "2021-04-04T23:06:25.423793Z",
     "iopub.status.busy": "2021-04-04T23:06:25.423131Z",
     "iopub.status.idle": "2021-04-04T23:06:25.425735Z",
     "shell.execute_reply": "2021-04-04T23:06:25.426216Z"
    },
    "papermill": {
     "duration": 0.028781,
     "end_time": "2021-04-04T23:06:25.426361",
     "exception": false,
     "start_time": "2021-04-04T23:06:25.397580",
     "status": "completed"
    },
    "tags": []
   },
   "outputs": [],
   "source": [
    "import json\n",
    "\n",
    "\n",
    "with open(DATASET_CONFIG_PATH) as f:\n",
    "    dataset_config = json.load(f)\n",
    "\n",
    "with open(MODEL_CONFIG_PATH) as f:\n",
    "    model_config = json.load(f)"
   ]
  },
  {
   "cell_type": "markdown",
   "id": "9a4b0e2d",
   "metadata": {
    "papermill": {
     "duration": 0.020055,
     "end_time": "2021-04-04T23:06:25.467188",
     "exception": false,
     "start_time": "2021-04-04T23:06:25.447133",
     "status": "completed"
    },
    "tags": []
   },
   "source": [
    "# Profiling"
   ]
  },
  {
   "cell_type": "code",
   "execution_count": 4,
   "id": "a3e0289b",
   "metadata": {
    "execution": {
     "iopub.execute_input": "2021-04-04T23:06:25.511520Z",
     "iopub.status.busy": "2021-04-04T23:06:25.510624Z",
     "iopub.status.idle": "2021-04-04T23:06:26.742435Z",
     "shell.execute_reply": "2021-04-04T23:06:26.741189Z"
    },
    "papermill": {
     "duration": 1.255894,
     "end_time": "2021-04-04T23:06:26.742695",
     "exception": false,
     "start_time": "2021-04-04T23:06:25.486801",
     "status": "completed"
    },
    "tags": []
   },
   "outputs": [],
   "source": [
    "import pandas as pd\n",
    "from pandas_profiling import ProfileReport"
   ]
  },
  {
   "cell_type": "code",
   "execution_count": 5,
   "id": "ee6c0666",
   "metadata": {
    "execution": {
     "iopub.execute_input": "2021-04-04T23:06:26.796278Z",
     "iopub.status.busy": "2021-04-04T23:06:26.794764Z",
     "iopub.status.idle": "2021-04-04T23:06:26.805612Z",
     "shell.execute_reply": "2021-04-04T23:06:26.804786Z"
    },
    "papermill": {
     "duration": 0.036604,
     "end_time": "2021-04-04T23:06:26.805772",
     "exception": false,
     "start_time": "2021-04-04T23:06:26.769168",
     "status": "completed"
    },
    "tags": []
   },
   "outputs": [],
   "source": [
    "df = pd.read_csv(dataset_config['dataset_path'])"
   ]
  },
  {
   "cell_type": "code",
   "execution_count": 6,
   "id": "7eca6c4a",
   "metadata": {
    "execution": {
     "iopub.execute_input": "2021-04-04T23:06:26.863842Z",
     "iopub.status.busy": "2021-04-04T23:06:26.863189Z",
     "iopub.status.idle": "2021-04-04T23:06:26.866435Z",
     "shell.execute_reply": "2021-04-04T23:06:26.865941Z"
    },
    "papermill": {
     "duration": 0.037454,
     "end_time": "2021-04-04T23:06:26.866550",
     "exception": false,
     "start_time": "2021-04-04T23:06:26.829096",
     "status": "completed"
    },
    "tags": []
   },
   "outputs": [
    {
     "name": "stdout",
     "output_type": "stream",
     "text": [
      "<class 'pandas.core.frame.DataFrame'>\n",
      "RangeIndex: 498 entries, 0 to 497\n",
      "Data columns (total 23 columns):\n",
      " #   Column             Non-Null Count  Dtype  \n",
      "---  ------             --------------  -----  \n",
      " 0   id                 498 non-null    int64  \n",
      " 1   loc                498 non-null    float64\n",
      " 2   v(g)               498 non-null    float64\n",
      " 3   ev(g)              498 non-null    float64\n",
      " 4   iv(g)              498 non-null    float64\n",
      " 5   n                  498 non-null    float64\n",
      " 6   v                  498 non-null    float64\n",
      " 7   l                  498 non-null    float64\n",
      " 8   d                  498 non-null    float64\n",
      " 9   i                  498 non-null    float64\n",
      " 10  e                  498 non-null    float64\n",
      " 11  b                  498 non-null    float64\n",
      " 12  t                  498 non-null    float64\n",
      " 13  lOCode             498 non-null    int64  \n",
      " 14  lOComment          498 non-null    int64  \n",
      " 15  lOBlank            498 non-null    int64  \n",
      " 16  locCodeAndComment  498 non-null    int64  \n",
      " 17  uniq_Op            498 non-null    float64\n",
      " 18  uniq_Opnd          498 non-null    float64\n",
      " 19  total_Op           498 non-null    float64\n",
      " 20  total_Opnd         498 non-null    float64\n",
      " 21  branchCount        498 non-null    float64\n",
      " 22  defects            498 non-null    bool   \n",
      "dtypes: bool(1), float64(17), int64(5)\n",
      "memory usage: 86.2 KB\n"
     ]
    }
   ],
   "source": [
    "df.info()"
   ]
  },
  {
   "cell_type": "code",
   "execution_count": 7,
   "id": "3638e5e8",
   "metadata": {
    "execution": {
     "iopub.execute_input": "2021-04-04T23:06:26.915435Z",
     "iopub.status.busy": "2021-04-04T23:06:26.914791Z",
     "iopub.status.idle": "2021-04-04T23:06:26.940409Z",
     "shell.execute_reply": "2021-04-04T23:06:26.939871Z"
    },
    "papermill": {
     "duration": 0.052906,
     "end_time": "2021-04-04T23:06:26.940533",
     "exception": false,
     "start_time": "2021-04-04T23:06:26.887627",
     "status": "completed"
    },
    "tags": []
   },
   "outputs": [
    {
     "data": {
      "text/html": [
       "<div>\n",
       "<style scoped>\n",
       "    .dataframe tbody tr th:only-of-type {\n",
       "        vertical-align: middle;\n",
       "    }\n",
       "\n",
       "    .dataframe tbody tr th {\n",
       "        vertical-align: top;\n",
       "    }\n",
       "\n",
       "    .dataframe thead th {\n",
       "        text-align: right;\n",
       "    }\n",
       "</style>\n",
       "<table border=\"1\" class=\"dataframe\">\n",
       "  <thead>\n",
       "    <tr style=\"text-align: right;\">\n",
       "      <th></th>\n",
       "      <th>id</th>\n",
       "      <th>loc</th>\n",
       "      <th>v(g)</th>\n",
       "      <th>ev(g)</th>\n",
       "      <th>iv(g)</th>\n",
       "      <th>n</th>\n",
       "      <th>v</th>\n",
       "      <th>l</th>\n",
       "      <th>d</th>\n",
       "      <th>i</th>\n",
       "      <th>...</th>\n",
       "      <th>lOCode</th>\n",
       "      <th>lOComment</th>\n",
       "      <th>lOBlank</th>\n",
       "      <th>locCodeAndComment</th>\n",
       "      <th>uniq_Op</th>\n",
       "      <th>uniq_Opnd</th>\n",
       "      <th>total_Op</th>\n",
       "      <th>total_Opnd</th>\n",
       "      <th>branchCount</th>\n",
       "      <th>defects</th>\n",
       "    </tr>\n",
       "  </thead>\n",
       "  <tbody>\n",
       "    <tr>\n",
       "      <th>0</th>\n",
       "      <td>1</td>\n",
       "      <td>1.1</td>\n",
       "      <td>1.4</td>\n",
       "      <td>1.4</td>\n",
       "      <td>1.4</td>\n",
       "      <td>1.3</td>\n",
       "      <td>1.30</td>\n",
       "      <td>1.30</td>\n",
       "      <td>1.30</td>\n",
       "      <td>1.30</td>\n",
       "      <td>...</td>\n",
       "      <td>2</td>\n",
       "      <td>2</td>\n",
       "      <td>2</td>\n",
       "      <td>2</td>\n",
       "      <td>1.2</td>\n",
       "      <td>1.2</td>\n",
       "      <td>1.2</td>\n",
       "      <td>1.2</td>\n",
       "      <td>1.4</td>\n",
       "      <td>False</td>\n",
       "    </tr>\n",
       "    <tr>\n",
       "      <th>1</th>\n",
       "      <td>2</td>\n",
       "      <td>1.0</td>\n",
       "      <td>1.0</td>\n",
       "      <td>1.0</td>\n",
       "      <td>1.0</td>\n",
       "      <td>1.0</td>\n",
       "      <td>1.00</td>\n",
       "      <td>1.00</td>\n",
       "      <td>1.00</td>\n",
       "      <td>1.00</td>\n",
       "      <td>...</td>\n",
       "      <td>1</td>\n",
       "      <td>1</td>\n",
       "      <td>1</td>\n",
       "      <td>1</td>\n",
       "      <td>1.0</td>\n",
       "      <td>1.0</td>\n",
       "      <td>1.0</td>\n",
       "      <td>1.0</td>\n",
       "      <td>1.0</td>\n",
       "      <td>True</td>\n",
       "    </tr>\n",
       "    <tr>\n",
       "      <th>2</th>\n",
       "      <td>3</td>\n",
       "      <td>24.0</td>\n",
       "      <td>5.0</td>\n",
       "      <td>1.0</td>\n",
       "      <td>3.0</td>\n",
       "      <td>63.0</td>\n",
       "      <td>309.13</td>\n",
       "      <td>0.11</td>\n",
       "      <td>9.50</td>\n",
       "      <td>32.54</td>\n",
       "      <td>...</td>\n",
       "      <td>1</td>\n",
       "      <td>0</td>\n",
       "      <td>6</td>\n",
       "      <td>0</td>\n",
       "      <td>15.0</td>\n",
       "      <td>15.0</td>\n",
       "      <td>44.0</td>\n",
       "      <td>19.0</td>\n",
       "      <td>9.0</td>\n",
       "      <td>False</td>\n",
       "    </tr>\n",
       "    <tr>\n",
       "      <th>3</th>\n",
       "      <td>4</td>\n",
       "      <td>20.0</td>\n",
       "      <td>4.0</td>\n",
       "      <td>4.0</td>\n",
       "      <td>2.0</td>\n",
       "      <td>47.0</td>\n",
       "      <td>215.49</td>\n",
       "      <td>0.06</td>\n",
       "      <td>16.00</td>\n",
       "      <td>13.47</td>\n",
       "      <td>...</td>\n",
       "      <td>0</td>\n",
       "      <td>0</td>\n",
       "      <td>3</td>\n",
       "      <td>0</td>\n",
       "      <td>16.0</td>\n",
       "      <td>8.0</td>\n",
       "      <td>31.0</td>\n",
       "      <td>16.0</td>\n",
       "      <td>7.0</td>\n",
       "      <td>False</td>\n",
       "    </tr>\n",
       "    <tr>\n",
       "      <th>4</th>\n",
       "      <td>5</td>\n",
       "      <td>24.0</td>\n",
       "      <td>6.0</td>\n",
       "      <td>6.0</td>\n",
       "      <td>2.0</td>\n",
       "      <td>72.0</td>\n",
       "      <td>346.13</td>\n",
       "      <td>0.06</td>\n",
       "      <td>17.33</td>\n",
       "      <td>19.97</td>\n",
       "      <td>...</td>\n",
       "      <td>0</td>\n",
       "      <td>0</td>\n",
       "      <td>3</td>\n",
       "      <td>0</td>\n",
       "      <td>16.0</td>\n",
       "      <td>12.0</td>\n",
       "      <td>46.0</td>\n",
       "      <td>26.0</td>\n",
       "      <td>11.0</td>\n",
       "      <td>False</td>\n",
       "    </tr>\n",
       "  </tbody>\n",
       "</table>\n",
       "<p>5 rows × 23 columns</p>\n",
       "</div>"
      ],
      "text/plain": [
       "   id   loc  v(g)  ev(g)  iv(g)     n       v     l      d      i  ...  \\\n",
       "0   1   1.1   1.4    1.4    1.4   1.3    1.30  1.30   1.30   1.30  ...   \n",
       "1   2   1.0   1.0    1.0    1.0   1.0    1.00  1.00   1.00   1.00  ...   \n",
       "2   3  24.0   5.0    1.0    3.0  63.0  309.13  0.11   9.50  32.54  ...   \n",
       "3   4  20.0   4.0    4.0    2.0  47.0  215.49  0.06  16.00  13.47  ...   \n",
       "4   5  24.0   6.0    6.0    2.0  72.0  346.13  0.06  17.33  19.97  ...   \n",
       "\n",
       "   lOCode  lOComment  lOBlank  locCodeAndComment  uniq_Op  uniq_Opnd  \\\n",
       "0       2          2        2                  2      1.2        1.2   \n",
       "1       1          1        1                  1      1.0        1.0   \n",
       "2       1          0        6                  0     15.0       15.0   \n",
       "3       0          0        3                  0     16.0        8.0   \n",
       "4       0          0        3                  0     16.0       12.0   \n",
       "\n",
       "   total_Op  total_Opnd  branchCount  defects  \n",
       "0       1.2         1.2          1.4    False  \n",
       "1       1.0         1.0          1.0     True  \n",
       "2      44.0        19.0          9.0    False  \n",
       "3      31.0        16.0          7.0    False  \n",
       "4      46.0        26.0         11.0    False  \n",
       "\n",
       "[5 rows x 23 columns]"
      ]
     },
     "execution_count": 7,
     "metadata": {},
     "output_type": "execute_result"
    }
   ],
   "source": [
    "df.head()"
   ]
  },
  {
   "cell_type": "code",
   "execution_count": 8,
   "id": "733e95eb",
   "metadata": {
    "execution": {
     "iopub.execute_input": "2021-04-04T23:06:26.988100Z",
     "iopub.status.busy": "2021-04-04T23:06:26.987450Z",
     "iopub.status.idle": "2021-04-04T23:06:26.989492Z",
     "shell.execute_reply": "2021-04-04T23:06:26.990019Z"
    },
    "papermill": {
     "duration": 0.027842,
     "end_time": "2021-04-04T23:06:26.990175",
     "exception": false,
     "start_time": "2021-04-04T23:06:26.962333",
     "status": "completed"
    },
    "tags": []
   },
   "outputs": [],
   "source": [
    "del df['id']"
   ]
  },
  {
   "cell_type": "code",
   "execution_count": 9,
   "id": "6ff6f5b0",
   "metadata": {
    "execution": {
     "iopub.execute_input": "2021-04-04T23:06:27.040202Z",
     "iopub.status.busy": "2021-04-04T23:06:27.039222Z",
     "iopub.status.idle": "2021-04-04T23:06:27.042233Z",
     "shell.execute_reply": "2021-04-04T23:06:27.041637Z"
    },
    "papermill": {
     "duration": 0.027867,
     "end_time": "2021-04-04T23:06:27.042367",
     "exception": false,
     "start_time": "2021-04-04T23:06:27.014500",
     "status": "completed"
    },
    "tags": []
   },
   "outputs": [],
   "source": [
    "if PROFILE_REPORTING:\n",
    "    ProfileReport(df).to_widgets()"
   ]
  },
  {
   "cell_type": "markdown",
   "id": "1deaf3f0",
   "metadata": {
    "papermill": {
     "duration": 0.021091,
     "end_time": "2021-04-04T23:06:27.092760",
     "exception": false,
     "start_time": "2021-04-04T23:06:27.071669",
     "status": "completed"
    },
    "tags": []
   },
   "source": [
    "# Preprocess"
   ]
  },
  {
   "cell_type": "code",
   "execution_count": 10,
   "id": "1513e563",
   "metadata": {
    "execution": {
     "iopub.execute_input": "2021-04-04T23:06:27.140783Z",
     "iopub.status.busy": "2021-04-04T23:06:27.140202Z",
     "iopub.status.idle": "2021-04-04T23:06:27.143044Z",
     "shell.execute_reply": "2021-04-04T23:06:27.143806Z"
    },
    "papermill": {
     "duration": 0.029184,
     "end_time": "2021-04-04T23:06:27.144006",
     "exception": false,
     "start_time": "2021-04-04T23:06:27.114822",
     "status": "completed"
    },
    "tags": []
   },
   "outputs": [],
   "source": [
    "working_df = df.copy()"
   ]
  },
  {
   "cell_type": "code",
   "execution_count": 11,
   "id": "3b26d675",
   "metadata": {
    "execution": {
     "iopub.execute_input": "2021-04-04T23:06:27.201786Z",
     "iopub.status.busy": "2021-04-04T23:06:27.201205Z",
     "iopub.status.idle": "2021-04-04T23:06:27.204888Z",
     "shell.execute_reply": "2021-04-04T23:06:27.204036Z"
    },
    "papermill": {
     "duration": 0.031418,
     "end_time": "2021-04-04T23:06:27.205074",
     "exception": false,
     "start_time": "2021-04-04T23:06:27.173656",
     "status": "completed"
    },
    "tags": []
   },
   "outputs": [],
   "source": [
    "working_df['defects'] = working_df['defects'].replace([False, True], [0, 1])"
   ]
  },
  {
   "cell_type": "code",
   "execution_count": 12,
   "id": "eb48604f",
   "metadata": {
    "execution": {
     "iopub.execute_input": "2021-04-04T23:06:27.259374Z",
     "iopub.status.busy": "2021-04-04T23:06:27.258578Z",
     "iopub.status.idle": "2021-04-04T23:06:27.261604Z",
     "shell.execute_reply": "2021-04-04T23:06:27.262402Z"
    },
    "papermill": {
     "duration": 0.029938,
     "end_time": "2021-04-04T23:06:27.262626",
     "exception": false,
     "start_time": "2021-04-04T23:06:27.232688",
     "status": "completed"
    },
    "tags": []
   },
   "outputs": [],
   "source": [
    "for col in dataset_config['delete_columns']:\n",
    "    del working_df[col]"
   ]
  },
  {
   "cell_type": "code",
   "execution_count": 13,
   "id": "9a17bc29",
   "metadata": {
    "execution": {
     "iopub.execute_input": "2021-04-04T23:06:27.312607Z",
     "iopub.status.busy": "2021-04-04T23:06:27.311998Z",
     "iopub.status.idle": "2021-04-04T23:06:27.323974Z",
     "shell.execute_reply": "2021-04-04T23:06:27.324839Z"
    },
    "papermill": {
     "duration": 0.039475,
     "end_time": "2021-04-04T23:06:27.325081",
     "exception": false,
     "start_time": "2021-04-04T23:06:27.285606",
     "status": "completed"
    },
    "tags": []
   },
   "outputs": [],
   "source": [
    "working_df = working_df.drop_duplicates()"
   ]
  },
  {
   "cell_type": "markdown",
   "id": "a4d52ca6",
   "metadata": {
    "papermill": {
     "duration": 0.023048,
     "end_time": "2021-04-04T23:06:27.378366",
     "exception": false,
     "start_time": "2021-04-04T23:06:27.355318",
     "status": "completed"
    },
    "tags": []
   },
   "source": [
    "# Split"
   ]
  },
  {
   "cell_type": "code",
   "execution_count": 14,
   "id": "3e9ee4b5",
   "metadata": {
    "execution": {
     "iopub.execute_input": "2021-04-04T23:06:27.428240Z",
     "iopub.status.busy": "2021-04-04T23:06:27.427268Z",
     "iopub.status.idle": "2021-04-04T23:06:27.459535Z",
     "shell.execute_reply": "2021-04-04T23:06:27.460236Z"
    },
    "papermill": {
     "duration": 0.059556,
     "end_time": "2021-04-04T23:06:27.460452",
     "exception": false,
     "start_time": "2021-04-04T23:06:27.400896",
     "status": "completed"
    },
    "tags": []
   },
   "outputs": [],
   "source": [
    "from sklearn.model_selection import train_test_split"
   ]
  },
  {
   "cell_type": "code",
   "execution_count": 15,
   "id": "274004ce",
   "metadata": {
    "execution": {
     "iopub.execute_input": "2021-04-04T23:06:27.516343Z",
     "iopub.status.busy": "2021-04-04T23:06:27.515473Z",
     "iopub.status.idle": "2021-04-04T23:06:27.521529Z",
     "shell.execute_reply": "2021-04-04T23:06:27.522388Z"
    },
    "papermill": {
     "duration": 0.033789,
     "end_time": "2021-04-04T23:06:27.522628",
     "exception": false,
     "start_time": "2021-04-04T23:06:27.488839",
     "status": "completed"
    },
    "scrolled": true,
    "tags": []
   },
   "outputs": [],
   "source": [
    "inlier, outlier = working_df[working_df['defects'] == 0], working_df[working_df['defects'] == 1]"
   ]
  },
  {
   "cell_type": "code",
   "execution_count": 16,
   "id": "753c7b03",
   "metadata": {
    "execution": {
     "iopub.execute_input": "2021-04-04T23:06:27.579726Z",
     "iopub.status.busy": "2021-04-04T23:06:27.577907Z",
     "iopub.status.idle": "2021-04-04T23:06:27.583360Z",
     "shell.execute_reply": "2021-04-04T23:06:27.582544Z"
    },
    "papermill": {
     "duration": 0.032023,
     "end_time": "2021-04-04T23:06:27.583537",
     "exception": false,
     "start_time": "2021-04-04T23:06:27.551514",
     "status": "completed"
    },
    "tags": []
   },
   "outputs": [],
   "source": [
    "X_inlier = inlier.copy()\n",
    "y_inlier = X_inlier.pop('defects')\n",
    "X_outlier = outlier.copy()\n",
    "y_outlier = X_outlier.pop('defects')"
   ]
  },
  {
   "cell_type": "code",
   "execution_count": 17,
   "id": "2ba43193",
   "metadata": {
    "execution": {
     "iopub.execute_input": "2021-04-04T23:06:27.642018Z",
     "iopub.status.busy": "2021-04-04T23:06:27.641427Z",
     "iopub.status.idle": "2021-04-04T23:06:27.644363Z",
     "shell.execute_reply": "2021-04-04T23:06:27.645169Z"
    },
    "papermill": {
     "duration": 0.034261,
     "end_time": "2021-04-04T23:06:27.645394",
     "exception": false,
     "start_time": "2021-04-04T23:06:27.611133",
     "status": "completed"
    },
    "tags": []
   },
   "outputs": [],
   "source": [
    "test_size = dataset_config['test_size']\n",
    "random_state = dataset_config['random_state']\n",
    "\n",
    "X_inlier_train, X_inlier_test, y_inlier_train, y_inlier_test = train_test_split(\n",
    "    X_inlier,\n",
    "    y_inlier,\n",
    "    test_size=test_size,\n",
    "    random_state=random_state\n",
    ")"
   ]
  },
  {
   "cell_type": "code",
   "execution_count": 18,
   "id": "0b7582ca",
   "metadata": {
    "execution": {
     "iopub.execute_input": "2021-04-04T23:06:27.708409Z",
     "iopub.status.busy": "2021-04-04T23:06:27.707058Z",
     "iopub.status.idle": "2021-04-04T23:06:27.710712Z",
     "shell.execute_reply": "2021-04-04T23:06:27.709778Z"
    },
    "papermill": {
     "duration": 0.038199,
     "end_time": "2021-04-04T23:06:27.710890",
     "exception": false,
     "start_time": "2021-04-04T23:06:27.672691",
     "status": "completed"
    },
    "tags": []
   },
   "outputs": [],
   "source": [
    "test_outlier_size = dataset_config['test_outlier_size']\n",
    "if test_outlier_size > 0.0:\n",
    "    X_outlier_train, X_outlier_test, y_outlier_train, y_outlier_test = train_test_split(\n",
    "        X_outlier,\n",
    "        y_outlier,\n",
    "        test_size=test_outlier_size,\n",
    "        random_state=random_state\n",
    "    )\n",
    "else:\n",
    "    X_outlier_train, y_outlier_train = pd.DataFrame(columns=X_outlier.columns), pd.Series(dtype='int64')\n",
    "    X_outlier_test, y_outlier_test = X_outlier.copy(), y_outlier.copy()"
   ]
  },
  {
   "cell_type": "code",
   "execution_count": 19,
   "id": "c34363db",
   "metadata": {
    "execution": {
     "iopub.execute_input": "2021-04-04T23:06:27.776175Z",
     "iopub.status.busy": "2021-04-04T23:06:27.774185Z",
     "iopub.status.idle": "2021-04-04T23:06:27.777912Z",
     "shell.execute_reply": "2021-04-04T23:06:27.778380Z"
    },
    "papermill": {
     "duration": 0.04274,
     "end_time": "2021-04-04T23:06:27.778525",
     "exception": false,
     "start_time": "2021-04-04T23:06:27.735785",
     "status": "completed"
    },
    "tags": []
   },
   "outputs": [],
   "source": [
    "X_train, y_train = pd.concat([X_inlier_train, X_outlier_train], ignore_index=True), pd.concat([y_inlier_train, y_outlier_train], ignore_index=True)\n",
    "X_test, y_test = pd.concat([X_inlier_test, X_outlier_test], ignore_index=True), pd.concat([y_inlier_test, y_outlier_test], ignore_index=True)"
   ]
  },
  {
   "cell_type": "markdown",
   "id": "7cde7309",
   "metadata": {
    "papermill": {
     "duration": 0.024998,
     "end_time": "2021-04-04T23:06:27.825936",
     "exception": false,
     "start_time": "2021-04-04T23:06:27.800938",
     "status": "completed"
    },
    "tags": []
   },
   "source": [
    "# Model"
   ]
  },
  {
   "cell_type": "code",
   "execution_count": 20,
   "id": "2b12a415",
   "metadata": {
    "execution": {
     "iopub.execute_input": "2021-04-04T23:06:27.881258Z",
     "iopub.status.busy": "2021-04-04T23:06:27.880525Z",
     "iopub.status.idle": "2021-04-04T23:06:27.882179Z",
     "shell.execute_reply": "2021-04-04T23:06:27.882738Z"
    },
    "papermill": {
     "duration": 0.034197,
     "end_time": "2021-04-04T23:06:27.882884",
     "exception": false,
     "start_time": "2021-04-04T23:06:27.848687",
     "status": "completed"
    },
    "tags": []
   },
   "outputs": [],
   "source": [
    "from math import sqrt\n",
    "\n",
    "\n",
    "class KNNDataDescription:\n",
    "    def __init__(self, k=5, outlier_threshold=1.0):\n",
    "        self.k = k\n",
    "        self.outlier_threshold = outlier_threshold\n",
    "        self.X = []\n",
    "    \n",
    "    def fit(self, X):\n",
    "        self.X = [features.to_list() for index, features in X.iterrows()]\n",
    "\n",
    "    def predict(self, entries):\n",
    "        return [self.predict_entry(features.to_list()) for index, features in entries.iterrows()]\n",
    "    \n",
    "    def predict_entry(self, entry):\n",
    "        kth_neighbor, kth_distance = self.get_kth_neighbor(entry, self.k)\n",
    "        kth_kth_neighbor, kth_kth_distance = self.get_kth_neighbor(kth_neighbor, self.k + 1)\n",
    "\n",
    "        outlier_score = kth_distance / (kth_kth_distance + 0.000001)\n",
    "\n",
    "        return 1 if outlier_score < self.outlier_threshold else -1\n",
    "        \n",
    "    def euclidean_distance(self, features1, features2):\n",
    "        distance = 0.0\n",
    "        for feat1, feat2 in zip(features1, features2):\n",
    "            distance += (feat1 - feat2)**2\n",
    "                \n",
    "        return sqrt(distance)\n",
    "\n",
    "    def get_neighbors(self, entry, k):\n",
    "        distance_to_data_points = [\n",
    "            (data_point, self.euclidean_distance(entry, data_point))\n",
    "            for data_point in self.X\n",
    "        ]\n",
    "        sorted_by_distance = sorted(distance_to_data_points, key=lambda tup: tup[1])\n",
    "        neighbors = sorted_by_distance[:k]\n",
    "        return neighbors\n",
    "\n",
    "    def get_kth_neighbor(self, entry, k):\n",
    "        neighbors = self.get_neighbors(entry, k)\n",
    "        return neighbors[-1]\n"
   ]
  },
  {
   "cell_type": "code",
   "execution_count": 21,
   "id": "1fa9ec1c",
   "metadata": {
    "execution": {
     "iopub.execute_input": "2021-04-04T23:06:27.933076Z",
     "iopub.status.busy": "2021-04-04T23:06:27.932448Z",
     "iopub.status.idle": "2021-04-04T23:06:27.953236Z",
     "shell.execute_reply": "2021-04-04T23:06:27.952622Z"
    },
    "papermill": {
     "duration": 0.047163,
     "end_time": "2021-04-04T23:06:27.953361",
     "exception": false,
     "start_time": "2021-04-04T23:06:27.906198",
     "status": "completed"
    },
    "tags": []
   },
   "outputs": [],
   "source": [
    "from sklearn.svm import OneClassSVM\n",
    "\n",
    "\n",
    "models = {\n",
    "    'oneclasssvm': OneClassSVM,\n",
    "    'knndatadescription': KNNDataDescription,\n",
    "}"
   ]
  },
  {
   "cell_type": "code",
   "execution_count": 22,
   "id": "4d72a0b1",
   "metadata": {
    "execution": {
     "iopub.execute_input": "2021-04-04T23:06:28.005527Z",
     "iopub.status.busy": "2021-04-04T23:06:28.004860Z",
     "iopub.status.idle": "2021-04-04T23:06:28.007048Z",
     "shell.execute_reply": "2021-04-04T23:06:28.007620Z"
    },
    "papermill": {
     "duration": 0.028884,
     "end_time": "2021-04-04T23:06:28.007779",
     "exception": false,
     "start_time": "2021-04-04T23:06:27.978895",
     "status": "completed"
    },
    "scrolled": true,
    "tags": []
   },
   "outputs": [],
   "source": [
    "model_cls = models[model_config['model_type']]\n",
    "model = model_cls(**model_config['hyperparameters'])"
   ]
  },
  {
   "cell_type": "markdown",
   "id": "e00cff3b",
   "metadata": {
    "papermill": {
     "duration": 0.022026,
     "end_time": "2021-04-04T23:06:28.054797",
     "exception": false,
     "start_time": "2021-04-04T23:06:28.032771",
     "status": "completed"
    },
    "tags": []
   },
   "source": [
    "# Fit"
   ]
  },
  {
   "cell_type": "code",
   "execution_count": 23,
   "id": "8b2ded89",
   "metadata": {
    "execution": {
     "iopub.execute_input": "2021-04-04T23:06:28.108158Z",
     "iopub.status.busy": "2021-04-04T23:06:28.107563Z",
     "iopub.status.idle": "2021-04-04T23:06:28.116094Z",
     "shell.execute_reply": "2021-04-04T23:06:28.116951Z"
    },
    "papermill": {
     "duration": 0.039671,
     "end_time": "2021-04-04T23:06:28.117177",
     "exception": false,
     "start_time": "2021-04-04T23:06:28.077506",
     "status": "completed"
    },
    "tags": []
   },
   "outputs": [
    {
     "data": {
      "text/plain": [
       "OneClassSVM()"
      ]
     },
     "execution_count": 23,
     "metadata": {},
     "output_type": "execute_result"
    }
   ],
   "source": [
    "model.fit(X_train)"
   ]
  },
  {
   "cell_type": "markdown",
   "id": "f99999f7",
   "metadata": {
    "papermill": {
     "duration": 0.022525,
     "end_time": "2021-04-04T23:06:28.170097",
     "exception": false,
     "start_time": "2021-04-04T23:06:28.147572",
     "status": "completed"
    },
    "tags": []
   },
   "source": [
    "# Predict"
   ]
  },
  {
   "cell_type": "code",
   "execution_count": 24,
   "id": "6536fbf7",
   "metadata": {
    "execution": {
     "iopub.execute_input": "2021-04-04T23:06:28.223397Z",
     "iopub.status.busy": "2021-04-04T23:06:28.220314Z",
     "iopub.status.idle": "2021-04-04T23:06:28.230078Z",
     "shell.execute_reply": "2021-04-04T23:06:28.230874Z"
    },
    "papermill": {
     "duration": 0.038015,
     "end_time": "2021-04-04T23:06:28.231113",
     "exception": false,
     "start_time": "2021-04-04T23:06:28.193098",
     "status": "completed"
    },
    "tags": []
   },
   "outputs": [],
   "source": [
    "predictions = model.predict(X_test)"
   ]
  },
  {
   "cell_type": "markdown",
   "id": "aa1c9881",
   "metadata": {
    "papermill": {
     "duration": 0.022753,
     "end_time": "2021-04-04T23:06:28.280916",
     "exception": false,
     "start_time": "2021-04-04T23:06:28.258163",
     "status": "completed"
    },
    "tags": []
   },
   "source": [
    "# Evaluate"
   ]
  },
  {
   "cell_type": "code",
   "execution_count": 25,
   "id": "894f0f04",
   "metadata": {
    "execution": {
     "iopub.execute_input": "2021-04-04T23:06:28.332471Z",
     "iopub.status.busy": "2021-04-04T23:06:28.331634Z",
     "iopub.status.idle": "2021-04-04T23:06:28.334031Z",
     "shell.execute_reply": "2021-04-04T23:06:28.334751Z"
    },
    "papermill": {
     "duration": 0.03085,
     "end_time": "2021-04-04T23:06:28.334955",
     "exception": false,
     "start_time": "2021-04-04T23:06:28.304105",
     "status": "completed"
    },
    "tags": []
   },
   "outputs": [],
   "source": [
    "from sklearn.metrics import f1_score"
   ]
  },
  {
   "cell_type": "code",
   "execution_count": 26,
   "id": "211744d3",
   "metadata": {
    "execution": {
     "iopub.execute_input": "2021-04-04T23:06:28.397551Z",
     "iopub.status.busy": "2021-04-04T23:06:28.396423Z",
     "iopub.status.idle": "2021-04-04T23:06:28.399737Z",
     "shell.execute_reply": "2021-04-04T23:06:28.399058Z"
    },
    "papermill": {
     "duration": 0.033839,
     "end_time": "2021-04-04T23:06:28.399867",
     "exception": false,
     "start_time": "2021-04-04T23:06:28.366028",
     "status": "completed"
    },
    "tags": []
   },
   "outputs": [],
   "source": [
    "y_test = y_test.replace([0, 1], [1, -1])"
   ]
  },
  {
   "cell_type": "code",
   "execution_count": 27,
   "id": "d68a9204",
   "metadata": {
    "execution": {
     "iopub.execute_input": "2021-04-04T23:06:28.460085Z",
     "iopub.status.busy": "2021-04-04T23:06:28.459280Z",
     "iopub.status.idle": "2021-04-04T23:06:28.461939Z",
     "shell.execute_reply": "2021-04-04T23:06:28.462544Z"
    },
    "papermill": {
     "duration": 0.036177,
     "end_time": "2021-04-04T23:06:28.462719",
     "exception": false,
     "start_time": "2021-04-04T23:06:28.426542",
     "status": "completed"
    },
    "tags": []
   },
   "outputs": [],
   "source": [
    "def evaluate(truths, predictions, pos_label, neg_label):\n",
    "    TP = 0\n",
    "    FP = 0\n",
    "    TN = 0\n",
    "    FN = 0\n",
    "\n",
    "    for truth, pred in zip(truths, predictions): \n",
    "        if truth == pred == pos_label:\n",
    "           TP += 1\n",
    "        elif pred == pos_label and truth == neg_label:\n",
    "           FP += 1\n",
    "        elif truth == pred == neg_label:\n",
    "           TN += 1\n",
    "        elif pred == neg_label and truth == pos_label:\n",
    "           FN += 1\n",
    "\n",
    "    precision = TP / (TP + FP)\n",
    "    sensitivity = TP / (TP + FN)\n",
    "    \n",
    "    return {\n",
    "        'true_pos': TP,\n",
    "        'false_pos': FP,\n",
    "        'false_neg': FN,\n",
    "        'true_neg': TN,\n",
    "        'precision': precision,\n",
    "        'sensitivity': sensitivity,\n",
    "        'f1': (2 * (precision * sensitivity)) / (precision + sensitivity)\n",
    "    }\n",
    "\n",
    "score = evaluate(y_test, predictions, pos_label=-1, neg_label=1)"
   ]
  },
  {
   "cell_type": "markdown",
   "id": "93596516",
   "metadata": {
    "papermill": {
     "duration": 0.023059,
     "end_time": "2021-04-04T23:06:28.513313",
     "exception": false,
     "start_time": "2021-04-04T23:06:28.490254",
     "status": "completed"
    },
    "tags": []
   },
   "source": [
    "# Report"
   ]
  },
  {
   "cell_type": "code",
   "execution_count": 28,
   "id": "bea5fba1",
   "metadata": {
    "execution": {
     "iopub.execute_input": "2021-04-04T23:06:28.568390Z",
     "iopub.status.busy": "2021-04-04T23:06:28.567650Z",
     "iopub.status.idle": "2021-04-04T23:06:28.571420Z",
     "shell.execute_reply": "2021-04-04T23:06:28.572256Z"
    },
    "papermill": {
     "duration": 0.035416,
     "end_time": "2021-04-04T23:06:28.572486",
     "exception": false,
     "start_time": "2021-04-04T23:06:28.537070",
     "status": "completed"
    },
    "tags": []
   },
   "outputs": [],
   "source": [
    "import csv\n",
    "\n",
    "\n",
    "dataset_config_name = DATASET_CONFIG_PATH.split('/')[-1].split('.')[0]\n",
    "model_config_name = MODEL_CONFIG_PATH.split('/')[-1].split('.')[0]\n",
    "configuration = f\"dataset_{dataset_config_name}-model_{model_config_name}\"\n",
    "\n",
    "with open('results.csv', 'a') as f:\n",
    "    report = dict({'configuration': configuration}, **score)\n",
    "    writer = csv.DictWriter(f, report.keys())\n",
    "    writer.writerow(report)"
   ]
  }
 ],
 "metadata": {
  "celltoolbar": "Tags",
  "kernelspec": {
   "display_name": "Python 3",
   "language": "python",
   "name": "python3"
  },
  "language_info": {
   "codemirror_mode": {
    "name": "ipython",
    "version": 3
   },
   "file_extension": ".py",
   "mimetype": "text/x-python",
   "name": "python",
   "nbconvert_exporter": "python",
   "pygments_lexer": "ipython3",
   "version": "3.9.1"
  },
  "papermill": {
   "default_parameters": {},
   "duration": 4.713336,
   "end_time": "2021-04-04T23:06:29.212042",
   "environment_variables": {},
   "exception": null,
   "input_path": "main.ipynb",
   "output_path": "runs/dataset_000083-model_000004.ipynb",
   "parameters": {
    "DATASET_CONFIG_PATH": "config/dataset/000083.json",
    "MODEL_CONFIG_PATH": "config/model/000004.json",
    "PROFILE_REPORTING": false
   },
   "start_time": "2021-04-04T23:06:24.498706",
   "version": "2.3.3"
  }
 },
 "nbformat": 4,
 "nbformat_minor": 5
}