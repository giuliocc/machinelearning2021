{
 "cells": [
  {
   "cell_type": "markdown",
   "id": "51c71c25",
   "metadata": {
    "papermill": {
     "duration": 0.023944,
     "end_time": "2021-04-04T23:00:53.060649",
     "exception": false,
     "start_time": "2021-04-04T23:00:53.036705",
     "status": "completed"
    },
    "tags": []
   },
   "source": [
    "# Parametrizing"
   ]
  },
  {
   "cell_type": "code",
   "execution_count": 1,
   "id": "3b136394",
   "metadata": {
    "execution": {
     "iopub.execute_input": "2021-04-04T23:00:53.125593Z",
     "iopub.status.busy": "2021-04-04T23:00:53.124851Z",
     "iopub.status.idle": "2021-04-04T23:00:53.127848Z",
     "shell.execute_reply": "2021-04-04T23:00:53.127069Z"
    },
    "papermill": {
     "duration": 0.046945,
     "end_time": "2021-04-04T23:00:53.128049",
     "exception": false,
     "start_time": "2021-04-04T23:00:53.081104",
     "status": "completed"
    },
    "tags": [
     "parameters"
    ]
   },
   "outputs": [],
   "source": [
    "DATASET_CONFIG_PATH = 'config/dataset/kc1_001.json'\n",
    "MODEL_CONFIG_PATH = 'config/model/knndd_001.json'\n",
    "PROFILE_REPORTING = False"
   ]
  },
  {
   "cell_type": "code",
   "execution_count": 2,
   "id": "2c83f4d8",
   "metadata": {
    "execution": {
     "iopub.execute_input": "2021-04-04T23:00:53.175138Z",
     "iopub.status.busy": "2021-04-04T23:00:53.174322Z",
     "iopub.status.idle": "2021-04-04T23:00:53.176267Z",
     "shell.execute_reply": "2021-04-04T23:00:53.176752Z"
    },
    "papermill": {
     "duration": 0.026544,
     "end_time": "2021-04-04T23:00:53.176899",
     "exception": false,
     "start_time": "2021-04-04T23:00:53.150355",
     "status": "completed"
    },
    "tags": [
     "injected-parameters"
    ]
   },
   "outputs": [],
   "source": [
    "# Parameters\n",
    "DATASET_CONFIG_PATH = \"config/dataset/000071.json\"\n",
    "MODEL_CONFIG_PATH = \"config/model/000004.json\"\n",
    "PROFILE_REPORTING = False\n"
   ]
  },
  {
   "cell_type": "code",
   "execution_count": 3,
   "id": "b80f2a10",
   "metadata": {
    "execution": {
     "iopub.execute_input": "2021-04-04T23:00:53.239194Z",
     "iopub.status.busy": "2021-04-04T23:00:53.235620Z",
     "iopub.status.idle": "2021-04-04T23:00:53.242474Z",
     "shell.execute_reply": "2021-04-04T23:00:53.241766Z"
    },
    "papermill": {
     "duration": 0.042572,
     "end_time": "2021-04-04T23:00:53.242676",
     "exception": false,
     "start_time": "2021-04-04T23:00:53.200104",
     "status": "completed"
    },
    "tags": []
   },
   "outputs": [],
   "source": [
    "import json\n",
    "\n",
    "\n",
    "with open(DATASET_CONFIG_PATH) as f:\n",
    "    dataset_config = json.load(f)\n",
    "\n",
    "with open(MODEL_CONFIG_PATH) as f:\n",
    "    model_config = json.load(f)"
   ]
  },
  {
   "cell_type": "markdown",
   "id": "9a4b0e2d",
   "metadata": {
    "papermill": {
     "duration": 0.022295,
     "end_time": "2021-04-04T23:00:53.288511",
     "exception": false,
     "start_time": "2021-04-04T23:00:53.266216",
     "status": "completed"
    },
    "tags": []
   },
   "source": [
    "# Profiling"
   ]
  },
  {
   "cell_type": "code",
   "execution_count": 4,
   "id": "a3e0289b",
   "metadata": {
    "execution": {
     "iopub.execute_input": "2021-04-04T23:00:53.344034Z",
     "iopub.status.busy": "2021-04-04T23:00:53.341162Z",
     "iopub.status.idle": "2021-04-04T23:00:54.723560Z",
     "shell.execute_reply": "2021-04-04T23:00:54.722773Z"
    },
    "papermill": {
     "duration": 1.412667,
     "end_time": "2021-04-04T23:00:54.723741",
     "exception": false,
     "start_time": "2021-04-04T23:00:53.311074",
     "status": "completed"
    },
    "tags": []
   },
   "outputs": [],
   "source": [
    "import pandas as pd\n",
    "from pandas_profiling import ProfileReport"
   ]
  },
  {
   "cell_type": "code",
   "execution_count": 5,
   "id": "ee6c0666",
   "metadata": {
    "execution": {
     "iopub.execute_input": "2021-04-04T23:00:54.774053Z",
     "iopub.status.busy": "2021-04-04T23:00:54.772667Z",
     "iopub.status.idle": "2021-04-04T23:00:54.786069Z",
     "shell.execute_reply": "2021-04-04T23:00:54.786748Z"
    },
    "papermill": {
     "duration": 0.040514,
     "end_time": "2021-04-04T23:00:54.786958",
     "exception": false,
     "start_time": "2021-04-04T23:00:54.746444",
     "status": "completed"
    },
    "tags": []
   },
   "outputs": [],
   "source": [
    "df = pd.read_csv(dataset_config['dataset_path'])"
   ]
  },
  {
   "cell_type": "code",
   "execution_count": 6,
   "id": "7eca6c4a",
   "metadata": {
    "execution": {
     "iopub.execute_input": "2021-04-04T23:00:54.875129Z",
     "iopub.status.busy": "2021-04-04T23:00:54.873263Z",
     "iopub.status.idle": "2021-04-04T23:00:54.878520Z",
     "shell.execute_reply": "2021-04-04T23:00:54.877965Z"
    },
    "papermill": {
     "duration": 0.061337,
     "end_time": "2021-04-04T23:00:54.878655",
     "exception": false,
     "start_time": "2021-04-04T23:00:54.817318",
     "status": "completed"
    },
    "tags": []
   },
   "outputs": [
    {
     "name": "stdout",
     "output_type": "stream",
     "text": [
      "<class 'pandas.core.frame.DataFrame'>\n",
      "RangeIndex: 2109 entries, 0 to 2108\n",
      "Data columns (total 23 columns):\n",
      " #   Column             Non-Null Count  Dtype  \n",
      "---  ------             --------------  -----  \n",
      " 0   id                 2109 non-null   int64  \n",
      " 1   loc                2109 non-null   float64\n",
      " 2   v(g)               2109 non-null   float64\n",
      " 3   ev(g)              2109 non-null   float64\n",
      " 4   iv(g)              2109 non-null   float64\n",
      " 5   n                  2109 non-null   float64\n",
      " 6   v                  2109 non-null   float64\n",
      " 7   l                  2109 non-null   float64\n",
      " 8   d                  2109 non-null   float64\n",
      " 9   i                  2109 non-null   float64\n",
      " 10  e                  2109 non-null   float64\n",
      " 11  b                  2109 non-null   float64\n",
      " 12  t                  2109 non-null   float64\n",
      " 13  lOCode             2109 non-null   int64  \n",
      " 14  lOComment          2109 non-null   int64  \n",
      " 15  lOBlank            2109 non-null   int64  \n",
      " 16  locCodeAndComment  2109 non-null   int64  \n",
      " 17  uniq_Op            2109 non-null   float64\n",
      " 18  uniq_Opnd          2109 non-null   float64\n",
      " 19  total_Op           2109 non-null   float64\n",
      " 20  total_Opnd         2109 non-null   float64\n",
      " 21  branchCount        2109 non-null   float64\n",
      " 22  defects            2109 non-null   bool   \n",
      "dtypes: bool(1), float64(17), int64(5)\n",
      "memory usage: 364.7 KB\n"
     ]
    }
   ],
   "source": [
    "df.info()"
   ]
  },
  {
   "cell_type": "code",
   "execution_count": 7,
   "id": "3638e5e8",
   "metadata": {
    "execution": {
     "iopub.execute_input": "2021-04-04T23:00:54.933116Z",
     "iopub.status.busy": "2021-04-04T23:00:54.932330Z",
     "iopub.status.idle": "2021-04-04T23:00:54.958616Z",
     "shell.execute_reply": "2021-04-04T23:00:54.959054Z"
    },
    "papermill": {
     "duration": 0.058595,
     "end_time": "2021-04-04T23:00:54.959192",
     "exception": false,
     "start_time": "2021-04-04T23:00:54.900597",
     "status": "completed"
    },
    "tags": []
   },
   "outputs": [
    {
     "data": {
      "text/html": [
       "<div>\n",
       "<style scoped>\n",
       "    .dataframe tbody tr th:only-of-type {\n",
       "        vertical-align: middle;\n",
       "    }\n",
       "\n",
       "    .dataframe tbody tr th {\n",
       "        vertical-align: top;\n",
       "    }\n",
       "\n",
       "    .dataframe thead th {\n",
       "        text-align: right;\n",
       "    }\n",
       "</style>\n",
       "<table border=\"1\" class=\"dataframe\">\n",
       "  <thead>\n",
       "    <tr style=\"text-align: right;\">\n",
       "      <th></th>\n",
       "      <th>id</th>\n",
       "      <th>loc</th>\n",
       "      <th>v(g)</th>\n",
       "      <th>ev(g)</th>\n",
       "      <th>iv(g)</th>\n",
       "      <th>n</th>\n",
       "      <th>v</th>\n",
       "      <th>l</th>\n",
       "      <th>d</th>\n",
       "      <th>i</th>\n",
       "      <th>...</th>\n",
       "      <th>lOCode</th>\n",
       "      <th>lOComment</th>\n",
       "      <th>lOBlank</th>\n",
       "      <th>locCodeAndComment</th>\n",
       "      <th>uniq_Op</th>\n",
       "      <th>uniq_Opnd</th>\n",
       "      <th>total_Op</th>\n",
       "      <th>total_Opnd</th>\n",
       "      <th>branchCount</th>\n",
       "      <th>defects</th>\n",
       "    </tr>\n",
       "  </thead>\n",
       "  <tbody>\n",
       "    <tr>\n",
       "      <th>0</th>\n",
       "      <td>1</td>\n",
       "      <td>1.1</td>\n",
       "      <td>1.4</td>\n",
       "      <td>1.4</td>\n",
       "      <td>1.4</td>\n",
       "      <td>1.3</td>\n",
       "      <td>1.30</td>\n",
       "      <td>1.30</td>\n",
       "      <td>1.30</td>\n",
       "      <td>1.30</td>\n",
       "      <td>...</td>\n",
       "      <td>2</td>\n",
       "      <td>2</td>\n",
       "      <td>2</td>\n",
       "      <td>2</td>\n",
       "      <td>1.2</td>\n",
       "      <td>1.2</td>\n",
       "      <td>1.2</td>\n",
       "      <td>1.2</td>\n",
       "      <td>1.4</td>\n",
       "      <td>False</td>\n",
       "    </tr>\n",
       "    <tr>\n",
       "      <th>1</th>\n",
       "      <td>2</td>\n",
       "      <td>1.0</td>\n",
       "      <td>1.0</td>\n",
       "      <td>1.0</td>\n",
       "      <td>1.0</td>\n",
       "      <td>1.0</td>\n",
       "      <td>1.00</td>\n",
       "      <td>1.00</td>\n",
       "      <td>1.00</td>\n",
       "      <td>1.00</td>\n",
       "      <td>...</td>\n",
       "      <td>1</td>\n",
       "      <td>1</td>\n",
       "      <td>1</td>\n",
       "      <td>1</td>\n",
       "      <td>1.0</td>\n",
       "      <td>1.0</td>\n",
       "      <td>1.0</td>\n",
       "      <td>1.0</td>\n",
       "      <td>1.0</td>\n",
       "      <td>True</td>\n",
       "    </tr>\n",
       "    <tr>\n",
       "      <th>2</th>\n",
       "      <td>3</td>\n",
       "      <td>83.0</td>\n",
       "      <td>11.0</td>\n",
       "      <td>1.0</td>\n",
       "      <td>11.0</td>\n",
       "      <td>171.0</td>\n",
       "      <td>927.89</td>\n",
       "      <td>0.04</td>\n",
       "      <td>23.04</td>\n",
       "      <td>40.27</td>\n",
       "      <td>...</td>\n",
       "      <td>65</td>\n",
       "      <td>10</td>\n",
       "      <td>6</td>\n",
       "      <td>0</td>\n",
       "      <td>18.0</td>\n",
       "      <td>25.0</td>\n",
       "      <td>107.0</td>\n",
       "      <td>64.0</td>\n",
       "      <td>21.0</td>\n",
       "      <td>True</td>\n",
       "    </tr>\n",
       "    <tr>\n",
       "      <th>3</th>\n",
       "      <td>4</td>\n",
       "      <td>46.0</td>\n",
       "      <td>8.0</td>\n",
       "      <td>6.0</td>\n",
       "      <td>8.0</td>\n",
       "      <td>141.0</td>\n",
       "      <td>769.78</td>\n",
       "      <td>0.07</td>\n",
       "      <td>14.86</td>\n",
       "      <td>51.81</td>\n",
       "      <td>...</td>\n",
       "      <td>37</td>\n",
       "      <td>2</td>\n",
       "      <td>5</td>\n",
       "      <td>0</td>\n",
       "      <td>16.0</td>\n",
       "      <td>28.0</td>\n",
       "      <td>89.0</td>\n",
       "      <td>52.0</td>\n",
       "      <td>15.0</td>\n",
       "      <td>True</td>\n",
       "    </tr>\n",
       "    <tr>\n",
       "      <th>4</th>\n",
       "      <td>5</td>\n",
       "      <td>25.0</td>\n",
       "      <td>3.0</td>\n",
       "      <td>1.0</td>\n",
       "      <td>3.0</td>\n",
       "      <td>58.0</td>\n",
       "      <td>254.75</td>\n",
       "      <td>0.11</td>\n",
       "      <td>9.35</td>\n",
       "      <td>27.25</td>\n",
       "      <td>...</td>\n",
       "      <td>21</td>\n",
       "      <td>0</td>\n",
       "      <td>2</td>\n",
       "      <td>0</td>\n",
       "      <td>11.0</td>\n",
       "      <td>10.0</td>\n",
       "      <td>41.0</td>\n",
       "      <td>17.0</td>\n",
       "      <td>5.0</td>\n",
       "      <td>True</td>\n",
       "    </tr>\n",
       "  </tbody>\n",
       "</table>\n",
       "<p>5 rows × 23 columns</p>\n",
       "</div>"
      ],
      "text/plain": [
       "   id   loc  v(g)  ev(g)  iv(g)      n       v     l      d      i  ...  \\\n",
       "0   1   1.1   1.4    1.4    1.4    1.3    1.30  1.30   1.30   1.30  ...   \n",
       "1   2   1.0   1.0    1.0    1.0    1.0    1.00  1.00   1.00   1.00  ...   \n",
       "2   3  83.0  11.0    1.0   11.0  171.0  927.89  0.04  23.04  40.27  ...   \n",
       "3   4  46.0   8.0    6.0    8.0  141.0  769.78  0.07  14.86  51.81  ...   \n",
       "4   5  25.0   3.0    1.0    3.0   58.0  254.75  0.11   9.35  27.25  ...   \n",
       "\n",
       "   lOCode  lOComment  lOBlank  locCodeAndComment  uniq_Op  uniq_Opnd  \\\n",
       "0       2          2        2                  2      1.2        1.2   \n",
       "1       1          1        1                  1      1.0        1.0   \n",
       "2      65         10        6                  0     18.0       25.0   \n",
       "3      37          2        5                  0     16.0       28.0   \n",
       "4      21          0        2                  0     11.0       10.0   \n",
       "\n",
       "   total_Op  total_Opnd  branchCount  defects  \n",
       "0       1.2         1.2          1.4    False  \n",
       "1       1.0         1.0          1.0     True  \n",
       "2     107.0        64.0         21.0     True  \n",
       "3      89.0        52.0         15.0     True  \n",
       "4      41.0        17.0          5.0     True  \n",
       "\n",
       "[5 rows x 23 columns]"
      ]
     },
     "execution_count": 7,
     "metadata": {},
     "output_type": "execute_result"
    }
   ],
   "source": [
    "df.head()"
   ]
  },
  {
   "cell_type": "code",
   "execution_count": 8,
   "id": "733e95eb",
   "metadata": {
    "execution": {
     "iopub.execute_input": "2021-04-04T23:00:55.012861Z",
     "iopub.status.busy": "2021-04-04T23:00:55.012051Z",
     "iopub.status.idle": "2021-04-04T23:00:55.014966Z",
     "shell.execute_reply": "2021-04-04T23:00:55.014394Z"
    },
    "papermill": {
     "duration": 0.033964,
     "end_time": "2021-04-04T23:00:55.015102",
     "exception": false,
     "start_time": "2021-04-04T23:00:54.981138",
     "status": "completed"
    },
    "tags": []
   },
   "outputs": [],
   "source": [
    "del df['id']"
   ]
  },
  {
   "cell_type": "code",
   "execution_count": 9,
   "id": "6ff6f5b0",
   "metadata": {
    "execution": {
     "iopub.execute_input": "2021-04-04T23:00:55.065273Z",
     "iopub.status.busy": "2021-04-04T23:00:55.064698Z",
     "iopub.status.idle": "2021-04-04T23:00:55.066610Z",
     "shell.execute_reply": "2021-04-04T23:00:55.067104Z"
    },
    "papermill": {
     "duration": 0.029309,
     "end_time": "2021-04-04T23:00:55.067249",
     "exception": false,
     "start_time": "2021-04-04T23:00:55.037940",
     "status": "completed"
    },
    "tags": []
   },
   "outputs": [],
   "source": [
    "if PROFILE_REPORTING:\n",
    "    ProfileReport(df).to_widgets()"
   ]
  },
  {
   "cell_type": "markdown",
   "id": "1deaf3f0",
   "metadata": {
    "papermill": {
     "duration": 0.030647,
     "end_time": "2021-04-04T23:00:55.122986",
     "exception": false,
     "start_time": "2021-04-04T23:00:55.092339",
     "status": "completed"
    },
    "tags": []
   },
   "source": [
    "# Preprocess"
   ]
  },
  {
   "cell_type": "code",
   "execution_count": 10,
   "id": "1513e563",
   "metadata": {
    "execution": {
     "iopub.execute_input": "2021-04-04T23:00:55.176538Z",
     "iopub.status.busy": "2021-04-04T23:00:55.175783Z",
     "iopub.status.idle": "2021-04-04T23:00:55.178340Z",
     "shell.execute_reply": "2021-04-04T23:00:55.178806Z"
    },
    "papermill": {
     "duration": 0.030299,
     "end_time": "2021-04-04T23:00:55.178951",
     "exception": false,
     "start_time": "2021-04-04T23:00:55.148652",
     "status": "completed"
    },
    "tags": []
   },
   "outputs": [],
   "source": [
    "working_df = df.copy()"
   ]
  },
  {
   "cell_type": "code",
   "execution_count": 11,
   "id": "3b26d675",
   "metadata": {
    "execution": {
     "iopub.execute_input": "2021-04-04T23:00:55.236908Z",
     "iopub.status.busy": "2021-04-04T23:00:55.235705Z",
     "iopub.status.idle": "2021-04-04T23:00:55.238803Z",
     "shell.execute_reply": "2021-04-04T23:00:55.238080Z"
    },
    "papermill": {
     "duration": 0.035526,
     "end_time": "2021-04-04T23:00:55.238980",
     "exception": false,
     "start_time": "2021-04-04T23:00:55.203454",
     "status": "completed"
    },
    "tags": []
   },
   "outputs": [],
   "source": [
    "working_df['defects'] = working_df['defects'].replace([False, True], [0, 1])"
   ]
  },
  {
   "cell_type": "code",
   "execution_count": 12,
   "id": "eb48604f",
   "metadata": {
    "execution": {
     "iopub.execute_input": "2021-04-04T23:00:55.289662Z",
     "iopub.status.busy": "2021-04-04T23:00:55.288126Z",
     "iopub.status.idle": "2021-04-04T23:00:55.292539Z",
     "shell.execute_reply": "2021-04-04T23:00:55.293116Z"
    },
    "papermill": {
     "duration": 0.030408,
     "end_time": "2021-04-04T23:00:55.293284",
     "exception": false,
     "start_time": "2021-04-04T23:00:55.262876",
     "status": "completed"
    },
    "tags": []
   },
   "outputs": [],
   "source": [
    "for col in dataset_config['delete_columns']:\n",
    "    del working_df[col]"
   ]
  },
  {
   "cell_type": "code",
   "execution_count": 13,
   "id": "9a17bc29",
   "metadata": {
    "execution": {
     "iopub.execute_input": "2021-04-04T23:00:55.355015Z",
     "iopub.status.busy": "2021-04-04T23:00:55.354297Z",
     "iopub.status.idle": "2021-04-04T23:00:55.371506Z",
     "shell.execute_reply": "2021-04-04T23:00:55.372095Z"
    },
    "papermill": {
     "duration": 0.055524,
     "end_time": "2021-04-04T23:00:55.372267",
     "exception": false,
     "start_time": "2021-04-04T23:00:55.316743",
     "status": "completed"
    },
    "tags": []
   },
   "outputs": [],
   "source": [
    "working_df = working_df.drop_duplicates()"
   ]
  },
  {
   "cell_type": "markdown",
   "id": "a4d52ca6",
   "metadata": {
    "papermill": {
     "duration": 0.030499,
     "end_time": "2021-04-04T23:00:55.429285",
     "exception": false,
     "start_time": "2021-04-04T23:00:55.398786",
     "status": "completed"
    },
    "tags": []
   },
   "source": [
    "# Split"
   ]
  },
  {
   "cell_type": "code",
   "execution_count": 14,
   "id": "3e9ee4b5",
   "metadata": {
    "execution": {
     "iopub.execute_input": "2021-04-04T23:00:55.489626Z",
     "iopub.status.busy": "2021-04-04T23:00:55.488239Z",
     "iopub.status.idle": "2021-04-04T23:00:55.524447Z",
     "shell.execute_reply": "2021-04-04T23:00:55.523848Z"
    },
    "papermill": {
     "duration": 0.070864,
     "end_time": "2021-04-04T23:00:55.524566",
     "exception": false,
     "start_time": "2021-04-04T23:00:55.453702",
     "status": "completed"
    },
    "tags": []
   },
   "outputs": [],
   "source": [
    "from sklearn.model_selection import train_test_split"
   ]
  },
  {
   "cell_type": "code",
   "execution_count": 15,
   "id": "274004ce",
   "metadata": {
    "execution": {
     "iopub.execute_input": "2021-04-04T23:00:55.576383Z",
     "iopub.status.busy": "2021-04-04T23:00:55.575775Z",
     "iopub.status.idle": "2021-04-04T23:00:55.580285Z",
     "shell.execute_reply": "2021-04-04T23:00:55.581043Z"
    },
    "papermill": {
     "duration": 0.032107,
     "end_time": "2021-04-04T23:00:55.581267",
     "exception": false,
     "start_time": "2021-04-04T23:00:55.549160",
     "status": "completed"
    },
    "scrolled": true,
    "tags": []
   },
   "outputs": [],
   "source": [
    "inlier, outlier = working_df[working_df['defects'] == 0], working_df[working_df['defects'] == 1]"
   ]
  },
  {
   "cell_type": "code",
   "execution_count": 16,
   "id": "753c7b03",
   "metadata": {
    "execution": {
     "iopub.execute_input": "2021-04-04T23:00:55.644787Z",
     "iopub.status.busy": "2021-04-04T23:00:55.641376Z",
     "iopub.status.idle": "2021-04-04T23:00:55.647964Z",
     "shell.execute_reply": "2021-04-04T23:00:55.647382Z"
    },
    "papermill": {
     "duration": 0.042116,
     "end_time": "2021-04-04T23:00:55.648104",
     "exception": false,
     "start_time": "2021-04-04T23:00:55.605988",
     "status": "completed"
    },
    "tags": []
   },
   "outputs": [],
   "source": [
    "X_inlier = inlier.copy()\n",
    "y_inlier = X_inlier.pop('defects')\n",
    "X_outlier = outlier.copy()\n",
    "y_outlier = X_outlier.pop('defects')"
   ]
  },
  {
   "cell_type": "code",
   "execution_count": 17,
   "id": "2ba43193",
   "metadata": {
    "execution": {
     "iopub.execute_input": "2021-04-04T23:00:55.703941Z",
     "iopub.status.busy": "2021-04-04T23:00:55.702457Z",
     "iopub.status.idle": "2021-04-04T23:00:55.707108Z",
     "shell.execute_reply": "2021-04-04T23:00:55.707557Z"
    },
    "papermill": {
     "duration": 0.03687,
     "end_time": "2021-04-04T23:00:55.707700",
     "exception": false,
     "start_time": "2021-04-04T23:00:55.670830",
     "status": "completed"
    },
    "tags": []
   },
   "outputs": [],
   "source": [
    "test_size = dataset_config['test_size']\n",
    "random_state = dataset_config['random_state']\n",
    "\n",
    "X_inlier_train, X_inlier_test, y_inlier_train, y_inlier_test = train_test_split(\n",
    "    X_inlier,\n",
    "    y_inlier,\n",
    "    test_size=test_size,\n",
    "    random_state=random_state\n",
    ")"
   ]
  },
  {
   "cell_type": "code",
   "execution_count": 18,
   "id": "0b7582ca",
   "metadata": {
    "execution": {
     "iopub.execute_input": "2021-04-04T23:00:55.772423Z",
     "iopub.status.busy": "2021-04-04T23:00:55.770713Z",
     "iopub.status.idle": "2021-04-04T23:00:55.775293Z",
     "shell.execute_reply": "2021-04-04T23:00:55.774607Z"
    },
    "papermill": {
     "duration": 0.045405,
     "end_time": "2021-04-04T23:00:55.775416",
     "exception": false,
     "start_time": "2021-04-04T23:00:55.730011",
     "status": "completed"
    },
    "tags": []
   },
   "outputs": [],
   "source": [
    "test_outlier_size = dataset_config['test_outlier_size']\n",
    "if test_outlier_size > 0.0:\n",
    "    X_outlier_train, X_outlier_test, y_outlier_train, y_outlier_test = train_test_split(\n",
    "        X_outlier,\n",
    "        y_outlier,\n",
    "        test_size=test_outlier_size,\n",
    "        random_state=random_state\n",
    "    )\n",
    "else:\n",
    "    X_outlier_train, y_outlier_train = pd.DataFrame(columns=X_outlier.columns), pd.Series(dtype='int64')\n",
    "    X_outlier_test, y_outlier_test = X_outlier.copy(), y_outlier.copy()"
   ]
  },
  {
   "cell_type": "code",
   "execution_count": 19,
   "id": "c34363db",
   "metadata": {
    "execution": {
     "iopub.execute_input": "2021-04-04T23:00:55.837769Z",
     "iopub.status.busy": "2021-04-04T23:00:55.836788Z",
     "iopub.status.idle": "2021-04-04T23:00:55.842897Z",
     "shell.execute_reply": "2021-04-04T23:00:55.842390Z"
    },
    "papermill": {
     "duration": 0.04303,
     "end_time": "2021-04-04T23:00:55.843016",
     "exception": false,
     "start_time": "2021-04-04T23:00:55.799986",
     "status": "completed"
    },
    "tags": []
   },
   "outputs": [],
   "source": [
    "X_train, y_train = pd.concat([X_inlier_train, X_outlier_train], ignore_index=True), pd.concat([y_inlier_train, y_outlier_train], ignore_index=True)\n",
    "X_test, y_test = pd.concat([X_inlier_test, X_outlier_test], ignore_index=True), pd.concat([y_inlier_test, y_outlier_test], ignore_index=True)"
   ]
  },
  {
   "cell_type": "markdown",
   "id": "7cde7309",
   "metadata": {
    "papermill": {
     "duration": 0.02855,
     "end_time": "2021-04-04T23:00:55.896548",
     "exception": false,
     "start_time": "2021-04-04T23:00:55.867998",
     "status": "completed"
    },
    "tags": []
   },
   "source": [
    "# Model"
   ]
  },
  {
   "cell_type": "code",
   "execution_count": 20,
   "id": "2b12a415",
   "metadata": {
    "execution": {
     "iopub.execute_input": "2021-04-04T23:00:55.958576Z",
     "iopub.status.busy": "2021-04-04T23:00:55.954975Z",
     "iopub.status.idle": "2021-04-04T23:00:55.961403Z",
     "shell.execute_reply": "2021-04-04T23:00:55.960742Z"
    },
    "papermill": {
     "duration": 0.037868,
     "end_time": "2021-04-04T23:00:55.961535",
     "exception": false,
     "start_time": "2021-04-04T23:00:55.923667",
     "status": "completed"
    },
    "tags": []
   },
   "outputs": [],
   "source": [
    "from math import sqrt\n",
    "\n",
    "\n",
    "class KNNDataDescription:\n",
    "    def __init__(self, k=5, outlier_threshold=1.0):\n",
    "        self.k = k\n",
    "        self.outlier_threshold = outlier_threshold\n",
    "        self.X = []\n",
    "    \n",
    "    def fit(self, X):\n",
    "        self.X = [features.to_list() for index, features in X.iterrows()]\n",
    "\n",
    "    def predict(self, entries):\n",
    "        return [self.predict_entry(features.to_list()) for index, features in entries.iterrows()]\n",
    "    \n",
    "    def predict_entry(self, entry):\n",
    "        kth_neighbor, kth_distance = self.get_kth_neighbor(entry, self.k)\n",
    "        kth_kth_neighbor, kth_kth_distance = self.get_kth_neighbor(kth_neighbor, self.k + 1)\n",
    "\n",
    "        outlier_score = kth_distance / (kth_kth_distance + 0.000001)\n",
    "\n",
    "        return 1 if outlier_score < self.outlier_threshold else -1\n",
    "        \n",
    "    def euclidean_distance(self, features1, features2):\n",
    "        distance = 0.0\n",
    "        for feat1, feat2 in zip(features1, features2):\n",
    "            distance += (feat1 - feat2)**2\n",
    "                \n",
    "        return sqrt(distance)\n",
    "\n",
    "    def get_neighbors(self, entry, k):\n",
    "        distance_to_data_points = [\n",
    "            (data_point, self.euclidean_distance(entry, data_point))\n",
    "            for data_point in self.X\n",
    "        ]\n",
    "        sorted_by_distance = sorted(distance_to_data_points, key=lambda tup: tup[1])\n",
    "        neighbors = sorted_by_distance[:k]\n",
    "        return neighbors\n",
    "\n",
    "    def get_kth_neighbor(self, entry, k):\n",
    "        neighbors = self.get_neighbors(entry, k)\n",
    "        return neighbors[-1]\n"
   ]
  },
  {
   "cell_type": "code",
   "execution_count": 21,
   "id": "1fa9ec1c",
   "metadata": {
    "execution": {
     "iopub.execute_input": "2021-04-04T23:00:56.019676Z",
     "iopub.status.busy": "2021-04-04T23:00:56.016243Z",
     "iopub.status.idle": "2021-04-04T23:00:56.039553Z",
     "shell.execute_reply": "2021-04-04T23:00:56.038996Z"
    },
    "papermill": {
     "duration": 0.05403,
     "end_time": "2021-04-04T23:00:56.039692",
     "exception": false,
     "start_time": "2021-04-04T23:00:55.985662",
     "status": "completed"
    },
    "tags": []
   },
   "outputs": [],
   "source": [
    "from sklearn.svm import OneClassSVM\n",
    "\n",
    "\n",
    "models = {\n",
    "    'oneclasssvm': OneClassSVM,\n",
    "    'knndatadescription': KNNDataDescription,\n",
    "}"
   ]
  },
  {
   "cell_type": "code",
   "execution_count": 22,
   "id": "4d72a0b1",
   "metadata": {
    "execution": {
     "iopub.execute_input": "2021-04-04T23:00:56.092258Z",
     "iopub.status.busy": "2021-04-04T23:00:56.091651Z",
     "iopub.status.idle": "2021-04-04T23:00:56.094051Z",
     "shell.execute_reply": "2021-04-04T23:00:56.094609Z"
    },
    "papermill": {
     "duration": 0.030694,
     "end_time": "2021-04-04T23:00:56.094786",
     "exception": false,
     "start_time": "2021-04-04T23:00:56.064092",
     "status": "completed"
    },
    "scrolled": true,
    "tags": []
   },
   "outputs": [],
   "source": [
    "model_cls = models[model_config['model_type']]\n",
    "model = model_cls(**model_config['hyperparameters'])"
   ]
  },
  {
   "cell_type": "markdown",
   "id": "e00cff3b",
   "metadata": {
    "papermill": {
     "duration": 0.026714,
     "end_time": "2021-04-04T23:00:56.147509",
     "exception": false,
     "start_time": "2021-04-04T23:00:56.120795",
     "status": "completed"
    },
    "tags": []
   },
   "source": [
    "# Fit"
   ]
  },
  {
   "cell_type": "code",
   "execution_count": 23,
   "id": "8b2ded89",
   "metadata": {
    "execution": {
     "iopub.execute_input": "2021-04-04T23:00:56.205687Z",
     "iopub.status.busy": "2021-04-04T23:00:56.204360Z",
     "iopub.status.idle": "2021-04-04T23:00:56.234766Z",
     "shell.execute_reply": "2021-04-04T23:00:56.235236Z"
    },
    "papermill": {
     "duration": 0.061538,
     "end_time": "2021-04-04T23:00:56.235386",
     "exception": false,
     "start_time": "2021-04-04T23:00:56.173848",
     "status": "completed"
    },
    "tags": []
   },
   "outputs": [
    {
     "data": {
      "text/plain": [
       "OneClassSVM()"
      ]
     },
     "execution_count": 23,
     "metadata": {},
     "output_type": "execute_result"
    }
   ],
   "source": [
    "model.fit(X_train)"
   ]
  },
  {
   "cell_type": "markdown",
   "id": "f99999f7",
   "metadata": {
    "papermill": {
     "duration": 0.026897,
     "end_time": "2021-04-04T23:00:56.287612",
     "exception": false,
     "start_time": "2021-04-04T23:00:56.260715",
     "status": "completed"
    },
    "tags": []
   },
   "source": [
    "# Predict"
   ]
  },
  {
   "cell_type": "code",
   "execution_count": 24,
   "id": "6536fbf7",
   "metadata": {
    "execution": {
     "iopub.execute_input": "2021-04-04T23:00:56.343631Z",
     "iopub.status.busy": "2021-04-04T23:00:56.342591Z",
     "iopub.status.idle": "2021-04-04T23:00:56.363870Z",
     "shell.execute_reply": "2021-04-04T23:00:56.363168Z"
    },
    "papermill": {
     "duration": 0.051338,
     "end_time": "2021-04-04T23:00:56.364047",
     "exception": false,
     "start_time": "2021-04-04T23:00:56.312709",
     "status": "completed"
    },
    "tags": []
   },
   "outputs": [],
   "source": [
    "predictions = model.predict(X_test)"
   ]
  },
  {
   "cell_type": "markdown",
   "id": "aa1c9881",
   "metadata": {
    "papermill": {
     "duration": 0.036683,
     "end_time": "2021-04-04T23:00:56.429377",
     "exception": false,
     "start_time": "2021-04-04T23:00:56.392694",
     "status": "completed"
    },
    "tags": []
   },
   "source": [
    "# Evaluate"
   ]
  },
  {
   "cell_type": "code",
   "execution_count": 25,
   "id": "894f0f04",
   "metadata": {
    "execution": {
     "iopub.execute_input": "2021-04-04T23:00:56.487818Z",
     "iopub.status.busy": "2021-04-04T23:00:56.487193Z",
     "iopub.status.idle": "2021-04-04T23:00:56.489070Z",
     "shell.execute_reply": "2021-04-04T23:00:56.489534Z"
    },
    "papermill": {
     "duration": 0.030657,
     "end_time": "2021-04-04T23:00:56.489677",
     "exception": false,
     "start_time": "2021-04-04T23:00:56.459020",
     "status": "completed"
    },
    "tags": []
   },
   "outputs": [],
   "source": [
    "from sklearn.metrics import f1_score"
   ]
  },
  {
   "cell_type": "code",
   "execution_count": 26,
   "id": "211744d3",
   "metadata": {
    "execution": {
     "iopub.execute_input": "2021-04-04T23:00:56.554983Z",
     "iopub.status.busy": "2021-04-04T23:00:56.554031Z",
     "iopub.status.idle": "2021-04-04T23:00:56.557057Z",
     "shell.execute_reply": "2021-04-04T23:00:56.558002Z"
    },
    "papermill": {
     "duration": 0.040746,
     "end_time": "2021-04-04T23:00:56.558277",
     "exception": false,
     "start_time": "2021-04-04T23:00:56.517531",
     "status": "completed"
    },
    "tags": []
   },
   "outputs": [],
   "source": [
    "y_test = y_test.replace([0, 1], [1, -1])"
   ]
  },
  {
   "cell_type": "code",
   "execution_count": 27,
   "id": "d68a9204",
   "metadata": {
    "execution": {
     "iopub.execute_input": "2021-04-04T23:00:56.619104Z",
     "iopub.status.busy": "2021-04-04T23:00:56.617671Z",
     "iopub.status.idle": "2021-04-04T23:00:56.620973Z",
     "shell.execute_reply": "2021-04-04T23:00:56.620442Z"
    },
    "papermill": {
     "duration": 0.03724,
     "end_time": "2021-04-04T23:00:56.621090",
     "exception": false,
     "start_time": "2021-04-04T23:00:56.583850",
     "status": "completed"
    },
    "tags": []
   },
   "outputs": [],
   "source": [
    "def evaluate(truths, predictions, pos_label, neg_label):\n",
    "    TP = 0\n",
    "    FP = 0\n",
    "    TN = 0\n",
    "    FN = 0\n",
    "\n",
    "    for truth, pred in zip(truths, predictions): \n",
    "        if truth == pred == pos_label:\n",
    "           TP += 1\n",
    "        elif pred == pos_label and truth == neg_label:\n",
    "           FP += 1\n",
    "        elif truth == pred == neg_label:\n",
    "           TN += 1\n",
    "        elif pred == neg_label and truth == pos_label:\n",
    "           FN += 1\n",
    "\n",
    "    precision = TP / (TP + FP)\n",
    "    sensitivity = TP / (TP + FN)\n",
    "    \n",
    "    return {\n",
    "        'true_pos': TP,\n",
    "        'false_pos': FP,\n",
    "        'false_neg': FN,\n",
    "        'true_neg': TN,\n",
    "        'precision': precision,\n",
    "        'sensitivity': sensitivity,\n",
    "        'f1': (2 * (precision * sensitivity)) / (precision + sensitivity)\n",
    "    }\n",
    "\n",
    "score = evaluate(y_test, predictions, pos_label=-1, neg_label=1)"
   ]
  },
  {
   "cell_type": "markdown",
   "id": "93596516",
   "metadata": {
    "papermill": {
     "duration": 0.03181,
     "end_time": "2021-04-04T23:00:56.677661",
     "exception": false,
     "start_time": "2021-04-04T23:00:56.645851",
     "status": "completed"
    },
    "tags": []
   },
   "source": [
    "# Report"
   ]
  },
  {
   "cell_type": "code",
   "execution_count": 28,
   "id": "bea5fba1",
   "metadata": {
    "execution": {
     "iopub.execute_input": "2021-04-04T23:00:56.735095Z",
     "iopub.status.busy": "2021-04-04T23:00:56.734507Z",
     "iopub.status.idle": "2021-04-04T23:00:56.736491Z",
     "shell.execute_reply": "2021-04-04T23:00:56.736969Z"
    },
    "papermill": {
     "duration": 0.033606,
     "end_time": "2021-04-04T23:00:56.737114",
     "exception": false,
     "start_time": "2021-04-04T23:00:56.703508",
     "status": "completed"
    },
    "tags": []
   },
   "outputs": [],
   "source": [
    "import csv\n",
    "\n",
    "\n",
    "dataset_config_name = DATASET_CONFIG_PATH.split('/')[-1].split('.')[0]\n",
    "model_config_name = MODEL_CONFIG_PATH.split('/')[-1].split('.')[0]\n",
    "configuration = f\"dataset_{dataset_config_name}-model_{model_config_name}\"\n",
    "\n",
    "with open('results.csv', 'a') as f:\n",
    "    report = dict({'configuration': configuration}, **score)\n",
    "    writer = csv.DictWriter(f, report.keys())\n",
    "    writer.writerow(report)"
   ]
  }
 ],
 "metadata": {
  "celltoolbar": "Tags",
  "kernelspec": {
   "display_name": "Python 3",
   "language": "python",
   "name": "python3"
  },
  "language_info": {
   "codemirror_mode": {
    "name": "ipython",
    "version": 3
   },
   "file_extension": ".py",
   "mimetype": "text/x-python",
   "name": "python",
   "nbconvert_exporter": "python",
   "pygments_lexer": "ipython3",
   "version": "3.9.1"
  },
  "papermill": {
   "default_parameters": {},
   "duration": 6.063872,
   "end_time": "2021-04-04T23:00:58.175713",
   "environment_variables": {},
   "exception": null,
   "input_path": "main.ipynb",
   "output_path": "runs/dataset_000071-model_000004.ipynb",
   "parameters": {
    "DATASET_CONFIG_PATH": "config/dataset/000071.json",
    "MODEL_CONFIG_PATH": "config/model/000004.json",
    "PROFILE_REPORTING": false
   },
   "start_time": "2021-04-04T23:00:52.111841",
   "version": "2.3.3"
  }
 },
 "nbformat": 4,
 "nbformat_minor": 5
}