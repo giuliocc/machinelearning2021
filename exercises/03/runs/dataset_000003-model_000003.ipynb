{
 "cells": [
  {
   "cell_type": "markdown",
   "id": "4588efca",
   "metadata": {
    "papermill": {
     "duration": 0.030441,
     "end_time": "2021-04-04T22:22:36.530764",
     "exception": false,
     "start_time": "2021-04-04T22:22:36.500323",
     "status": "completed"
    },
    "tags": []
   },
   "source": [
    "# Parametrizing"
   ]
  },
  {
   "cell_type": "code",
   "execution_count": 1,
   "id": "5964d9c0",
   "metadata": {
    "execution": {
     "iopub.execute_input": "2021-04-04T22:22:36.583893Z",
     "iopub.status.busy": "2021-04-04T22:22:36.583062Z",
     "iopub.status.idle": "2021-04-04T22:22:36.586890Z",
     "shell.execute_reply": "2021-04-04T22:22:36.585907Z"
    },
    "papermill": {
     "duration": 0.036183,
     "end_time": "2021-04-04T22:22:36.587099",
     "exception": false,
     "start_time": "2021-04-04T22:22:36.550916",
     "status": "completed"
    },
    "tags": [
     "parameters"
    ]
   },
   "outputs": [],
   "source": [
    "DATASET_CONFIG_PATH = 'config/dataset/kc1_001.json'\n",
    "MODEL_CONFIG_PATH = 'config/model/knndd_001.json'\n",
    "PROFILE_REPORTING = False"
   ]
  },
  {
   "cell_type": "code",
   "execution_count": 2,
   "id": "39408672",
   "metadata": {
    "execution": {
     "iopub.execute_input": "2021-04-04T22:22:36.634830Z",
     "iopub.status.busy": "2021-04-04T22:22:36.633811Z",
     "iopub.status.idle": "2021-04-04T22:22:36.635745Z",
     "shell.execute_reply": "2021-04-04T22:22:36.636226Z"
    },
    "papermill": {
     "duration": 0.02592,
     "end_time": "2021-04-04T22:22:36.636370",
     "exception": false,
     "start_time": "2021-04-04T22:22:36.610450",
     "status": "completed"
    },
    "tags": [
     "injected-parameters"
    ]
   },
   "outputs": [],
   "source": [
    "# Parameters\n",
    "DATASET_CONFIG_PATH = \"config/dataset/000003.json\"\n",
    "MODEL_CONFIG_PATH = \"config/model/000003.json\"\n",
    "PROFILE_REPORTING = False\n"
   ]
  },
  {
   "cell_type": "code",
   "execution_count": 3,
   "id": "3fa67035",
   "metadata": {
    "execution": {
     "iopub.execute_input": "2021-04-04T22:22:36.684995Z",
     "iopub.status.busy": "2021-04-04T22:22:36.683814Z",
     "iopub.status.idle": "2021-04-04T22:22:36.686629Z",
     "shell.execute_reply": "2021-04-04T22:22:36.687121Z"
    },
    "papermill": {
     "duration": 0.029977,
     "end_time": "2021-04-04T22:22:36.687270",
     "exception": false,
     "start_time": "2021-04-04T22:22:36.657293",
     "status": "completed"
    },
    "tags": []
   },
   "outputs": [
    {
     "ename": "FileNotFoundError",
     "evalue": "[Errno 2] No such file or directory: 'config/dataset/000003.json'",
     "output_type": "error",
     "traceback": [
      "\u001b[0;31m---------------------------------------------------------------------------\u001b[0m",
      "\u001b[0;31mFileNotFoundError\u001b[0m                         Traceback (most recent call last)",
      "\u001b[0;32m<ipython-input-3-9ec8fd87698b>\u001b[0m in \u001b[0;36m<module>\u001b[0;34m\u001b[0m\n\u001b[1;32m      2\u001b[0m \u001b[0;34m\u001b[0m\u001b[0m\n\u001b[1;32m      3\u001b[0m \u001b[0;34m\u001b[0m\u001b[0m\n\u001b[0;32m----> 4\u001b[0;31m \u001b[0;32mwith\u001b[0m \u001b[0mopen\u001b[0m\u001b[0;34m(\u001b[0m\u001b[0mDATASET_CONFIG_PATH\u001b[0m\u001b[0;34m)\u001b[0m \u001b[0;32mas\u001b[0m \u001b[0mf\u001b[0m\u001b[0;34m:\u001b[0m\u001b[0;34m\u001b[0m\u001b[0;34m\u001b[0m\u001b[0m\n\u001b[0m\u001b[1;32m      5\u001b[0m     \u001b[0mdataset_config\u001b[0m \u001b[0;34m=\u001b[0m \u001b[0mjson\u001b[0m\u001b[0;34m.\u001b[0m\u001b[0mload\u001b[0m\u001b[0;34m(\u001b[0m\u001b[0mf\u001b[0m\u001b[0;34m)\u001b[0m\u001b[0;34m\u001b[0m\u001b[0;34m\u001b[0m\u001b[0m\n\u001b[1;32m      6\u001b[0m \u001b[0;34m\u001b[0m\u001b[0m\n",
      "\u001b[0;31mFileNotFoundError\u001b[0m: [Errno 2] No such file or directory: 'config/dataset/000003.json'"
     ]
    }
   ],
   "source": [
    "import json\n",
    "\n",
    "\n",
    "with open(DATASET_CONFIG_PATH) as f:\n",
    "    dataset_config = json.load(f)\n",
    "\n",
    "with open(MODEL_CONFIG_PATH) as f:\n",
    "    model_config = json.load(f)"
   ]
  },
  {
   "cell_type": "markdown",
   "id": "9a4b0e2d",
   "metadata": {
    "papermill": {
     "duration": 0.019186,
     "end_time": "2021-04-04T22:22:36.731335",
     "exception": false,
     "start_time": "2021-04-04T22:22:36.712149",
     "status": "completed"
    },
    "tags": []
   },
   "source": [
    "# Profiling"
   ]
  },
  {
   "cell_type": "code",
   "execution_count": null,
   "id": "a3e0289b",
   "metadata": {
    "execution": {
     "iopub.execute_input": "2021-04-04T22:22:36.780495Z",
     "iopub.status.busy": "2021-04-04T22:22:36.779883Z",
     "iopub.status.idle": "2021-04-04T22:22:38.009769Z",
     "shell.execute_reply": "2021-04-04T22:22:38.008912Z"
    },
    "papermill": {
     "duration": 1.253935,
     "end_time": "2021-04-04T22:22:38.009934",
     "exception": false,
     "start_time": "2021-04-04T22:22:36.755999",
     "status": "completed"
    },
    "tags": []
   },
   "outputs": [],
   "source": [
    "import pandas as pd\n",
    "from pandas_profiling import ProfileReport"
   ]
  },
  {
   "cell_type": "code",
   "execution_count": null,
   "id": "ee6c0666",
   "metadata": {
    "execution": {
     "iopub.execute_input": "2021-04-04T22:22:38.060799Z",
     "iopub.status.busy": "2021-04-04T22:22:38.060127Z",
     "iopub.status.idle": "2021-04-04T22:22:38.074347Z",
     "shell.execute_reply": "2021-04-04T22:22:38.073653Z"
    },
    "papermill": {
     "duration": 0.040714,
     "end_time": "2021-04-04T22:22:38.074493",
     "exception": false,
     "start_time": "2021-04-04T22:22:38.033779",
     "status": "completed"
    },
    "tags": []
   },
   "outputs": [],
   "source": [
    "df = pd.read_csv(dataset_config['dataset_path'])"
   ]
  },
  {
   "cell_type": "code",
   "execution_count": null,
   "id": "20d45671",
   "metadata": {
    "execution": {
     "iopub.execute_input": "2021-04-04T22:22:38.121762Z",
     "iopub.status.busy": "2021-04-04T22:22:38.121149Z",
     "iopub.status.idle": "2021-04-04T22:22:38.134824Z",
     "shell.execute_reply": "2021-04-04T22:22:38.135583Z"
    },
    "papermill": {
     "duration": 0.039036,
     "end_time": "2021-04-04T22:22:38.135800",
     "exception": false,
     "start_time": "2021-04-04T22:22:38.096764",
     "status": "completed"
    },
    "tags": []
   },
   "outputs": [],
   "source": [
    "df.info()"
   ]
  },
  {
   "cell_type": "code",
   "execution_count": null,
   "id": "a676db33",
   "metadata": {
    "execution": {
     "iopub.execute_input": "2021-04-04T22:22:38.196936Z",
     "iopub.status.busy": "2021-04-04T22:22:38.195483Z",
     "iopub.status.idle": "2021-04-04T22:22:38.227726Z",
     "shell.execute_reply": "2021-04-04T22:22:38.228765Z"
    },
    "papermill": {
     "duration": 0.064199,
     "end_time": "2021-04-04T22:22:38.229066",
     "exception": false,
     "start_time": "2021-04-04T22:22:38.164867",
     "status": "completed"
    },
    "tags": []
   },
   "outputs": [],
   "source": [
    "df.head()"
   ]
  },
  {
   "cell_type": "code",
   "execution_count": null,
   "id": "dd6aa244",
   "metadata": {
    "execution": {
     "iopub.execute_input": "2021-04-04T22:22:38.280489Z",
     "iopub.status.busy": "2021-04-04T22:22:38.279897Z",
     "iopub.status.idle": "2021-04-04T22:22:38.282883Z",
     "shell.execute_reply": "2021-04-04T22:22:38.283362Z"
    },
    "papermill": {
     "duration": 0.029515,
     "end_time": "2021-04-04T22:22:38.283510",
     "exception": false,
     "start_time": "2021-04-04T22:22:38.253995",
     "status": "completed"
    },
    "tags": []
   },
   "outputs": [],
   "source": [
    "del df['id']"
   ]
  },
  {
   "cell_type": "code",
   "execution_count": null,
   "id": "6ff6f5b0",
   "metadata": {
    "execution": {
     "iopub.execute_input": "2021-04-04T22:22:38.337532Z",
     "iopub.status.busy": "2021-04-04T22:22:38.336637Z",
     "iopub.status.idle": "2021-04-04T22:22:38.339525Z",
     "shell.execute_reply": "2021-04-04T22:22:38.338938Z"
    },
    "papermill": {
     "duration": 0.029984,
     "end_time": "2021-04-04T22:22:38.339643",
     "exception": false,
     "start_time": "2021-04-04T22:22:38.309659",
     "status": "completed"
    },
    "tags": []
   },
   "outputs": [],
   "source": [
    "if PROFILE_REPORTING:\n",
    "    ProfileReport(df).to_widgets()"
   ]
  },
  {
   "cell_type": "markdown",
   "id": "1deaf3f0",
   "metadata": {
    "papermill": {
     "duration": 0.02236,
     "end_time": "2021-04-04T22:22:38.388113",
     "exception": false,
     "start_time": "2021-04-04T22:22:38.365753",
     "status": "completed"
    },
    "tags": []
   },
   "source": [
    "# Preprocess"
   ]
  },
  {
   "cell_type": "code",
   "execution_count": null,
   "id": "9153b2bb",
   "metadata": {
    "execution": {
     "iopub.execute_input": "2021-04-04T22:22:38.438941Z",
     "iopub.status.busy": "2021-04-04T22:22:38.438113Z",
     "iopub.status.idle": "2021-04-04T22:22:38.440723Z",
     "shell.execute_reply": "2021-04-04T22:22:38.440227Z"
    },
    "papermill": {
     "duration": 0.030645,
     "end_time": "2021-04-04T22:22:38.440844",
     "exception": false,
     "start_time": "2021-04-04T22:22:38.410199",
     "status": "completed"
    },
    "tags": []
   },
   "outputs": [],
   "source": [
    "working_df = df.copy()"
   ]
  },
  {
   "cell_type": "code",
   "execution_count": null,
   "id": "3b26d675",
   "metadata": {
    "execution": {
     "iopub.execute_input": "2021-04-04T22:22:38.489885Z",
     "iopub.status.busy": "2021-04-04T22:22:38.489283Z",
     "iopub.status.idle": "2021-04-04T22:22:38.491874Z",
     "shell.execute_reply": "2021-04-04T22:22:38.491375Z"
    },
    "papermill": {
     "duration": 0.029325,
     "end_time": "2021-04-04T22:22:38.491996",
     "exception": false,
     "start_time": "2021-04-04T22:22:38.462671",
     "status": "completed"
    },
    "tags": []
   },
   "outputs": [],
   "source": [
    "working_df['defects'] = working_df['defects'].replace([False, True], [0, 1])"
   ]
  },
  {
   "cell_type": "code",
   "execution_count": null,
   "id": "5f306c3e",
   "metadata": {
    "execution": {
     "iopub.execute_input": "2021-04-04T22:22:38.542334Z",
     "iopub.status.busy": "2021-04-04T22:22:38.541629Z",
     "iopub.status.idle": "2021-04-04T22:22:38.543917Z",
     "shell.execute_reply": "2021-04-04T22:22:38.543324Z"
    },
    "papermill": {
     "duration": 0.029472,
     "end_time": "2021-04-04T22:22:38.544039",
     "exception": false,
     "start_time": "2021-04-04T22:22:38.514567",
     "status": "completed"
    },
    "tags": []
   },
   "outputs": [],
   "source": [
    "for col in dataset_config['delete_columns']:\n",
    "    del working_df[col]"
   ]
  },
  {
   "cell_type": "code",
   "execution_count": null,
   "id": "a55074fa",
   "metadata": {
    "execution": {
     "iopub.execute_input": "2021-04-04T22:22:38.592681Z",
     "iopub.status.busy": "2021-04-04T22:22:38.591631Z",
     "iopub.status.idle": "2021-04-04T22:22:38.601777Z",
     "shell.execute_reply": "2021-04-04T22:22:38.601143Z"
    },
    "papermill": {
     "duration": 0.03569,
     "end_time": "2021-04-04T22:22:38.601904",
     "exception": false,
     "start_time": "2021-04-04T22:22:38.566214",
     "status": "completed"
    },
    "tags": []
   },
   "outputs": [],
   "source": [
    "working_df = working_df.drop_duplicates()"
   ]
  },
  {
   "cell_type": "markdown",
   "id": "a4d52ca6",
   "metadata": {
    "papermill": {
     "duration": 0.022664,
     "end_time": "2021-04-04T22:22:38.648395",
     "exception": false,
     "start_time": "2021-04-04T22:22:38.625731",
     "status": "completed"
    },
    "tags": []
   },
   "source": [
    "# Split"
   ]
  },
  {
   "cell_type": "code",
   "execution_count": null,
   "id": "3e9ee4b5",
   "metadata": {
    "execution": {
     "iopub.execute_input": "2021-04-04T22:22:38.696837Z",
     "iopub.status.busy": "2021-04-04T22:22:38.695704Z",
     "iopub.status.idle": "2021-04-04T22:22:38.727562Z",
     "shell.execute_reply": "2021-04-04T22:22:38.728132Z"
    },
    "papermill": {
     "duration": 0.058057,
     "end_time": "2021-04-04T22:22:38.728306",
     "exception": false,
     "start_time": "2021-04-04T22:22:38.670249",
     "status": "completed"
    },
    "tags": []
   },
   "outputs": [],
   "source": [
    "from sklearn.model_selection import train_test_split"
   ]
  },
  {
   "cell_type": "code",
   "execution_count": null,
   "id": "274004ce",
   "metadata": {
    "execution": {
     "iopub.execute_input": "2021-04-04T22:22:38.792697Z",
     "iopub.status.busy": "2021-04-04T22:22:38.791703Z",
     "iopub.status.idle": "2021-04-04T22:22:38.798542Z",
     "shell.execute_reply": "2021-04-04T22:22:38.798022Z"
    },
    "papermill": {
     "duration": 0.035131,
     "end_time": "2021-04-04T22:22:38.798668",
     "exception": false,
     "start_time": "2021-04-04T22:22:38.763537",
     "status": "completed"
    },
    "scrolled": true,
    "tags": []
   },
   "outputs": [],
   "source": [
    "inlier, outlier = working_df[working_df['defects'] == 0], working_df[working_df['defects'] == 1]"
   ]
  },
  {
   "cell_type": "code",
   "execution_count": null,
   "id": "753c7b03",
   "metadata": {
    "execution": {
     "iopub.execute_input": "2021-04-04T22:22:38.854713Z",
     "iopub.status.busy": "2021-04-04T22:22:38.853855Z",
     "iopub.status.idle": "2021-04-04T22:22:38.856104Z",
     "shell.execute_reply": "2021-04-04T22:22:38.856599Z"
    },
    "papermill": {
     "duration": 0.033094,
     "end_time": "2021-04-04T22:22:38.856797",
     "exception": false,
     "start_time": "2021-04-04T22:22:38.823703",
     "status": "completed"
    },
    "tags": []
   },
   "outputs": [],
   "source": [
    "X_inlier = inlier.copy()\n",
    "y_inlier = X_inlier.pop('defects')\n",
    "X_outlier = outlier.copy()\n",
    "y_outlier = X_outlier.pop('defects')"
   ]
  },
  {
   "cell_type": "code",
   "execution_count": null,
   "id": "2ba43193",
   "metadata": {
    "execution": {
     "iopub.execute_input": "2021-04-04T22:22:38.912022Z",
     "iopub.status.busy": "2021-04-04T22:22:38.911089Z",
     "iopub.status.idle": "2021-04-04T22:22:38.915087Z",
     "shell.execute_reply": "2021-04-04T22:22:38.914581Z"
    },
    "papermill": {
     "duration": 0.032919,
     "end_time": "2021-04-04T22:22:38.915208",
     "exception": false,
     "start_time": "2021-04-04T22:22:38.882289",
     "status": "completed"
    },
    "tags": []
   },
   "outputs": [],
   "source": [
    "test_size = dataset_config['test_size']\n",
    "random_state = dataset_config['random_state']\n",
    "\n",
    "X_inlier_train, X_inlier_test, y_inlier_train, y_inlier_test = train_test_split(\n",
    "    X_inlier,\n",
    "    y_inlier,\n",
    "    test_size=test_size,\n",
    "    random_state=random_state\n",
    ")"
   ]
  },
  {
   "cell_type": "code",
   "execution_count": null,
   "id": "c8b58ec3",
   "metadata": {
    "execution": {
     "iopub.execute_input": "2021-04-04T22:22:38.968290Z",
     "iopub.status.busy": "2021-04-04T22:22:38.967655Z",
     "iopub.status.idle": "2021-04-04T22:22:38.970084Z",
     "shell.execute_reply": "2021-04-04T22:22:38.969585Z"
    },
    "papermill": {
     "duration": 0.032799,
     "end_time": "2021-04-04T22:22:38.970205",
     "exception": false,
     "start_time": "2021-04-04T22:22:38.937406",
     "status": "completed"
    },
    "tags": []
   },
   "outputs": [],
   "source": [
    "test_outlier_size = dataset_config['test_outlier_size']\n",
    "if test_outlier_size > 0.0:\n",
    "    X_outlier_train, X_outlier_test, y_outlier_train, y_outlier_test = train_test_split(\n",
    "        X_outlier,\n",
    "        y_outlier,\n",
    "        test_size=test_outlier_size,\n",
    "        random_state=random_state\n",
    "    )\n",
    "else:\n",
    "    X_outlier_train, y_outlier_train = pd.DataFrame(columns=X_outlier.columns), pd.Series(dtype='int64')\n",
    "    X_outlier_test, y_outlier_test = X_outlier.copy(), y_outlier.copy()"
   ]
  },
  {
   "cell_type": "code",
   "execution_count": null,
   "id": "95991685",
   "metadata": {
    "execution": {
     "iopub.execute_input": "2021-04-04T22:22:39.025511Z",
     "iopub.status.busy": "2021-04-04T22:22:39.024596Z",
     "iopub.status.idle": "2021-04-04T22:22:39.027241Z",
     "shell.execute_reply": "2021-04-04T22:22:39.026728Z"
    },
    "papermill": {
     "duration": 0.033946,
     "end_time": "2021-04-04T22:22:39.027361",
     "exception": false,
     "start_time": "2021-04-04T22:22:38.993415",
     "status": "completed"
    },
    "tags": []
   },
   "outputs": [],
   "source": [
    "X_train, y_train = pd.concat([X_inlier_train, X_outlier_train], ignore_index=True), pd.concat([y_inlier_train, y_outlier_train], ignore_index=True)\n",
    "X_test, y_test = pd.concat([X_inlier_test, X_outlier_test], ignore_index=True), pd.concat([y_inlier_test, y_outlier_test], ignore_index=True)"
   ]
  },
  {
   "cell_type": "markdown",
   "id": "7cde7309",
   "metadata": {
    "papermill": {
     "duration": 0.021983,
     "end_time": "2021-04-04T22:22:39.071663",
     "exception": false,
     "start_time": "2021-04-04T22:22:39.049680",
     "status": "completed"
    },
    "tags": []
   },
   "source": [
    "# Model"
   ]
  },
  {
   "cell_type": "code",
   "execution_count": null,
   "id": "a02c5c85",
   "metadata": {
    "execution": {
     "iopub.execute_input": "2021-04-04T22:22:39.127533Z",
     "iopub.status.busy": "2021-04-04T22:22:39.126928Z",
     "iopub.status.idle": "2021-04-04T22:22:39.129004Z",
     "shell.execute_reply": "2021-04-04T22:22:39.129544Z"
    },
    "papermill": {
     "duration": 0.035941,
     "end_time": "2021-04-04T22:22:39.129708",
     "exception": false,
     "start_time": "2021-04-04T22:22:39.093767",
     "status": "completed"
    },
    "tags": []
   },
   "outputs": [],
   "source": [
    "from math import sqrt\n",
    "\n",
    "\n",
    "class KNNDataDescription:\n",
    "    def __init__(self, k=5, outlier_threshold=1.0):\n",
    "        self.k = k\n",
    "        self.outlier_threshold = outlier_threshold\n",
    "        self.X = []\n",
    "    \n",
    "    def fit(self, X):\n",
    "        self.X = [features.to_list() for index, features in X.iterrows()]\n",
    "\n",
    "    def predict(self, entries):\n",
    "        return [self.predict_entry(features.to_list()) for index, features in entries.iterrows()]\n",
    "    \n",
    "    def predict_entry(self, entry):\n",
    "        kth_neighbor, kth_distance = self.get_kth_neighbor(entry, self.k)\n",
    "        kth_kth_neighbor, kth_kth_distance = self.get_kth_neighbor(kth_neighbor, self.k + 1)\n",
    "\n",
    "        outlier_score = kth_distance / (kth_kth_distance + 0.000001)\n",
    "\n",
    "        return 1 if outlier_score < self.outlier_threshold else -1\n",
    "        \n",
    "    def euclidean_distance(self, features1, features2):\n",
    "        distance = 0.0\n",
    "        for feat1, feat2 in zip(features1, features2):\n",
    "            distance += (feat1 - feat2)**2\n",
    "                \n",
    "        return sqrt(distance)\n",
    "\n",
    "    def get_neighbors(self, entry, k):\n",
    "        distance_to_data_points = [\n",
    "            (data_point, self.euclidean_distance(entry, data_point))\n",
    "            for data_point in self.X\n",
    "        ]\n",
    "        sorted_by_distance = sorted(distance_to_data_points, key=lambda tup: tup[1])\n",
    "        neighbors = sorted_by_distance[:k]\n",
    "        return neighbors\n",
    "\n",
    "    def get_kth_neighbor(self, entry, k):\n",
    "        neighbors = self.get_neighbors(entry, k)\n",
    "        return neighbors[-1]\n"
   ]
  },
  {
   "cell_type": "code",
   "execution_count": null,
   "id": "1fa9ec1c",
   "metadata": {
    "execution": {
     "iopub.execute_input": "2021-04-04T22:22:39.182111Z",
     "iopub.status.busy": "2021-04-04T22:22:39.181125Z",
     "iopub.status.idle": "2021-04-04T22:22:39.202562Z",
     "shell.execute_reply": "2021-04-04T22:22:39.201613Z"
    },
    "papermill": {
     "duration": 0.047762,
     "end_time": "2021-04-04T22:22:39.202751",
     "exception": false,
     "start_time": "2021-04-04T22:22:39.154989",
     "status": "completed"
    },
    "tags": []
   },
   "outputs": [],
   "source": [
    "from sklearn.svm import OneClassSVM\n",
    "\n",
    "\n",
    "models = {\n",
    "    'oneclasssvm': OneClassSVM,\n",
    "    'knndatadescription': KNNDataDescription,\n",
    "}"
   ]
  },
  {
   "cell_type": "code",
   "execution_count": null,
   "id": "4d72a0b1",
   "metadata": {
    "execution": {
     "iopub.execute_input": "2021-04-04T22:22:39.259011Z",
     "iopub.status.busy": "2021-04-04T22:22:39.258312Z",
     "iopub.status.idle": "2021-04-04T22:22:39.260917Z",
     "shell.execute_reply": "2021-04-04T22:22:39.261713Z"
    },
    "papermill": {
     "duration": 0.032583,
     "end_time": "2021-04-04T22:22:39.261940",
     "exception": false,
     "start_time": "2021-04-04T22:22:39.229357",
     "status": "completed"
    },
    "scrolled": true,
    "tags": []
   },
   "outputs": [],
   "source": [
    "model_cls = models[model_config['model_type']]\n",
    "model = model_cls(**model_config['hyperparameters'])"
   ]
  },
  {
   "cell_type": "markdown",
   "id": "e00cff3b",
   "metadata": {
    "papermill": {
     "duration": 0.022106,
     "end_time": "2021-04-04T22:22:39.313219",
     "exception": false,
     "start_time": "2021-04-04T22:22:39.291113",
     "status": "completed"
    },
    "tags": []
   },
   "source": [
    "# Fit"
   ]
  },
  {
   "cell_type": "code",
   "execution_count": null,
   "id": "8b2ded89",
   "metadata": {
    "execution": {
     "iopub.execute_input": "2021-04-04T22:22:39.369773Z",
     "iopub.status.busy": "2021-04-04T22:22:39.368722Z",
     "iopub.status.idle": "2021-04-04T22:22:39.418249Z",
     "shell.execute_reply": "2021-04-04T22:22:39.418727Z"
    },
    "papermill": {
     "duration": 0.083104,
     "end_time": "2021-04-04T22:22:39.418875",
     "exception": false,
     "start_time": "2021-04-04T22:22:39.335771",
     "status": "completed"
    },
    "tags": []
   },
   "outputs": [],
   "source": [
    "model.fit(X_train)"
   ]
  },
  {
   "cell_type": "markdown",
   "id": "f99999f7",
   "metadata": {
    "papermill": {
     "duration": 0.022562,
     "end_time": "2021-04-04T22:22:39.465356",
     "exception": false,
     "start_time": "2021-04-04T22:22:39.442794",
     "status": "completed"
    },
    "tags": []
   },
   "source": [
    "# Predict"
   ]
  },
  {
   "cell_type": "code",
   "execution_count": null,
   "id": "6536fbf7",
   "metadata": {
    "execution": {
     "iopub.execute_input": "2021-04-04T22:22:39.523542Z",
     "iopub.status.busy": "2021-04-04T22:22:39.518389Z",
     "iopub.status.idle": "2021-04-04T22:22:42.319362Z",
     "shell.execute_reply": "2021-04-04T22:22:42.320218Z"
    },
    "papermill": {
     "duration": 2.831164,
     "end_time": "2021-04-04T22:22:42.320469",
     "exception": false,
     "start_time": "2021-04-04T22:22:39.489305",
     "status": "completed"
    },
    "tags": []
   },
   "outputs": [],
   "source": [
    "predictions = model.predict(X_test)"
   ]
  },
  {
   "cell_type": "markdown",
   "id": "aa1c9881",
   "metadata": {
    "papermill": {
     "duration": 0.025915,
     "end_time": "2021-04-04T22:22:42.380880",
     "exception": false,
     "start_time": "2021-04-04T22:22:42.354965",
     "status": "completed"
    },
    "tags": []
   },
   "source": [
    "# Evaluate"
   ]
  },
  {
   "cell_type": "code",
   "execution_count": null,
   "id": "894f0f04",
   "metadata": {
    "execution": {
     "iopub.execute_input": "2021-04-04T22:22:42.432930Z",
     "iopub.status.busy": "2021-04-04T22:22:42.432213Z",
     "iopub.status.idle": "2021-04-04T22:22:42.434887Z",
     "shell.execute_reply": "2021-04-04T22:22:42.435376Z"
    },
    "papermill": {
     "duration": 0.031699,
     "end_time": "2021-04-04T22:22:42.435551",
     "exception": false,
     "start_time": "2021-04-04T22:22:42.403852",
     "status": "completed"
    },
    "tags": []
   },
   "outputs": [],
   "source": [
    "from sklearn.metrics import f1_score"
   ]
  },
  {
   "cell_type": "code",
   "execution_count": null,
   "id": "211744d3",
   "metadata": {
    "execution": {
     "iopub.execute_input": "2021-04-04T22:22:42.486243Z",
     "iopub.status.busy": "2021-04-04T22:22:42.485556Z",
     "iopub.status.idle": "2021-04-04T22:22:42.487745Z",
     "shell.execute_reply": "2021-04-04T22:22:42.487250Z"
    },
    "papermill": {
     "duration": 0.029415,
     "end_time": "2021-04-04T22:22:42.487862",
     "exception": false,
     "start_time": "2021-04-04T22:22:42.458447",
     "status": "completed"
    },
    "tags": []
   },
   "outputs": [],
   "source": [
    "y_test = y_test.replace([0, 1], [1, -1])"
   ]
  },
  {
   "cell_type": "code",
   "execution_count": null,
   "id": "d68a9204",
   "metadata": {
    "execution": {
     "iopub.execute_input": "2021-04-04T22:22:42.544661Z",
     "iopub.status.busy": "2021-04-04T22:22:42.543992Z",
     "iopub.status.idle": "2021-04-04T22:22:42.545951Z",
     "shell.execute_reply": "2021-04-04T22:22:42.546434Z"
    },
    "papermill": {
     "duration": 0.034259,
     "end_time": "2021-04-04T22:22:42.546586",
     "exception": false,
     "start_time": "2021-04-04T22:22:42.512327",
     "status": "completed"
    },
    "tags": []
   },
   "outputs": [],
   "source": [
    "def evaluate(truths, predictions, pos_label, neg_label):\n",
    "    TP = 0\n",
    "    FP = 0\n",
    "    TN = 0\n",
    "    FN = 0\n",
    "\n",
    "    for truth, pred in zip(truths, predictions): \n",
    "        if truth == pred == pos_label:\n",
    "           TP += 1\n",
    "        elif pred == pos_label and truth == neg_label:\n",
    "           FP += 1\n",
    "        elif truth == pred == neg_label:\n",
    "           TN += 1\n",
    "        elif pred == neg_label and truth == pos_label:\n",
    "           FN += 1\n",
    "        else:\n",
    "            __import__(\"ipdb\").set_trace()\n",
    "\n",
    "    precision = TP / (TP + FP)\n",
    "    sensitivity = TP / (TP + FN)\n",
    "    \n",
    "    return {\n",
    "        'true_pos': TP,\n",
    "        'false_pos': FP,\n",
    "        'false_neg': FN,\n",
    "        'true_neg': TN,\n",
    "        'precision': precision,\n",
    "        'sensitivity': sensitivity,\n",
    "        'f1': (2 * (precision * sensitivity)) / (precision + sensitivity)\n",
    "    }\n",
    "\n",
    "score = evaluate(y_test, predictions, pos_label=-1, neg_label=1)"
   ]
  },
  {
   "cell_type": "markdown",
   "id": "246fa8c7",
   "metadata": {
    "papermill": {
     "duration": 0.022913,
     "end_time": "2021-04-04T22:22:42.593428",
     "exception": false,
     "start_time": "2021-04-04T22:22:42.570515",
     "status": "completed"
    },
    "tags": []
   },
   "source": [
    "# Report"
   ]
  },
  {
   "cell_type": "code",
   "execution_count": null,
   "id": "cfb47f85",
   "metadata": {
    "execution": {
     "iopub.execute_input": "2021-04-04T22:22:42.646559Z",
     "iopub.status.busy": "2021-04-04T22:22:42.645963Z",
     "iopub.status.idle": "2021-04-04T22:22:42.648288Z",
     "shell.execute_reply": "2021-04-04T22:22:42.648759Z"
    },
    "papermill": {
     "duration": 0.032533,
     "end_time": "2021-04-04T22:22:42.648909",
     "exception": false,
     "start_time": "2021-04-04T22:22:42.616376",
     "status": "completed"
    },
    "tags": []
   },
   "outputs": [],
   "source": [
    "import csv\n",
    "\n",
    "\n",
    "dataset_config_name = DATASET_CONFIG_PATH.split('/')[-1].split('.')[0]\n",
    "model_config_name = MODEL_CONFIG_PATH.split('/')[-1].split('.')[0]\n",
    "configuration = f\"dataset_{dataset_config_name}-model_{model_config_name}\"\n",
    "\n",
    "with open('results.csv', 'a') as f:\n",
    "    report = dict({'configuration': configuration}, **score)\n",
    "    writer = csv.DictWriter(f, report.keys())\n",
    "    writer.writerow(report)"
   ]
  }
 ],
 "metadata": {
  "celltoolbar": "Tags",
  "kernelspec": {
   "display_name": "Python 3",
   "language": "python",
   "name": "python3"
  },
  "language_info": {
   "codemirror_mode": {
    "name": "ipython",
    "version": 3
   },
   "file_extension": ".py",
   "mimetype": "text/x-python",
   "name": "python",
   "nbconvert_exporter": "python",
   "pygments_lexer": "ipython3",
   "version": "3.9.1"
  },
  "papermill": {
   "default_parameters": {},
   "duration": 7.661673,
   "end_time": "2021-04-04T22:22:43.282353",
   "environment_variables": {},
   "exception": null,
   "input_path": "main.ipynb",
   "output_path": "runs/dataset_000003-model_000003.ipynb",
   "parameters": {
    "DATASET_CONFIG_PATH": "config/dataset/000003.json",
    "MODEL_CONFIG_PATH": "config/model/000003.json",
    "PROFILE_REPORTING": false
   },
   "start_time": "2021-04-04T22:22:35.620680",
   "version": "2.3.3"
  }
 },
 "nbformat": 4,
 "nbformat_minor": 5
}
