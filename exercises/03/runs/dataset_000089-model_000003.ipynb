{
 "cells": [
  {
   "cell_type": "markdown",
   "id": "51c71c25",
   "metadata": {
    "papermill": {
     "duration": 0.031212,
     "end_time": "2021-04-04T23:08:37.989928",
     "exception": false,
     "start_time": "2021-04-04T23:08:37.958716",
     "status": "completed"
    },
    "tags": []
   },
   "source": [
    "# Parametrizing"
   ]
  },
  {
   "cell_type": "code",
   "execution_count": 1,
   "id": "3b136394",
   "metadata": {
    "execution": {
     "iopub.execute_input": "2021-04-04T23:08:38.041109Z",
     "iopub.status.busy": "2021-04-04T23:08:38.040130Z",
     "iopub.status.idle": "2021-04-04T23:08:38.043642Z",
     "shell.execute_reply": "2021-04-04T23:08:38.042515Z"
    },
    "papermill": {
     "duration": 0.034247,
     "end_time": "2021-04-04T23:08:38.043849",
     "exception": false,
     "start_time": "2021-04-04T23:08:38.009602",
     "status": "completed"
    },
    "tags": [
     "parameters"
    ]
   },
   "outputs": [],
   "source": [
    "DATASET_CONFIG_PATH = 'config/dataset/kc1_001.json'\n",
    "MODEL_CONFIG_PATH = 'config/model/knndd_001.json'\n",
    "PROFILE_REPORTING = False"
   ]
  },
  {
   "cell_type": "code",
   "execution_count": 2,
   "id": "785b5267",
   "metadata": {
    "execution": {
     "iopub.execute_input": "2021-04-04T23:08:38.093518Z",
     "iopub.status.busy": "2021-04-04T23:08:38.092241Z",
     "iopub.status.idle": "2021-04-04T23:08:38.095497Z",
     "shell.execute_reply": "2021-04-04T23:08:38.094937Z"
    },
    "papermill": {
     "duration": 0.027267,
     "end_time": "2021-04-04T23:08:38.095623",
     "exception": false,
     "start_time": "2021-04-04T23:08:38.068356",
     "status": "completed"
    },
    "tags": [
     "injected-parameters"
    ]
   },
   "outputs": [],
   "source": [
    "# Parameters\n",
    "DATASET_CONFIG_PATH = \"config/dataset/000089.json\"\n",
    "MODEL_CONFIG_PATH = \"config/model/000003.json\"\n",
    "PROFILE_REPORTING = False\n"
   ]
  },
  {
   "cell_type": "code",
   "execution_count": 3,
   "id": "b80f2a10",
   "metadata": {
    "execution": {
     "iopub.execute_input": "2021-04-04T23:08:38.144687Z",
     "iopub.status.busy": "2021-04-04T23:08:38.143751Z",
     "iopub.status.idle": "2021-04-04T23:08:38.146333Z",
     "shell.execute_reply": "2021-04-04T23:08:38.146829Z"
    },
    "papermill": {
     "duration": 0.028042,
     "end_time": "2021-04-04T23:08:38.146985",
     "exception": false,
     "start_time": "2021-04-04T23:08:38.118943",
     "status": "completed"
    },
    "tags": []
   },
   "outputs": [],
   "source": [
    "import json\n",
    "\n",
    "\n",
    "with open(DATASET_CONFIG_PATH) as f:\n",
    "    dataset_config = json.load(f)\n",
    "\n",
    "with open(MODEL_CONFIG_PATH) as f:\n",
    "    model_config = json.load(f)"
   ]
  },
  {
   "cell_type": "markdown",
   "id": "9a4b0e2d",
   "metadata": {
    "papermill": {
     "duration": 0.019266,
     "end_time": "2021-04-04T23:08:38.187010",
     "exception": false,
     "start_time": "2021-04-04T23:08:38.167744",
     "status": "completed"
    },
    "tags": []
   },
   "source": [
    "# Profiling"
   ]
  },
  {
   "cell_type": "code",
   "execution_count": 4,
   "id": "a3e0289b",
   "metadata": {
    "execution": {
     "iopub.execute_input": "2021-04-04T23:08:38.231473Z",
     "iopub.status.busy": "2021-04-04T23:08:38.230573Z",
     "iopub.status.idle": "2021-04-04T23:08:39.475283Z",
     "shell.execute_reply": "2021-04-04T23:08:39.474621Z"
    },
    "papermill": {
     "duration": 1.268458,
     "end_time": "2021-04-04T23:08:39.475413",
     "exception": false,
     "start_time": "2021-04-04T23:08:38.206955",
     "status": "completed"
    },
    "tags": []
   },
   "outputs": [],
   "source": [
    "import pandas as pd\n",
    "from pandas_profiling import ProfileReport"
   ]
  },
  {
   "cell_type": "code",
   "execution_count": 5,
   "id": "ee6c0666",
   "metadata": {
    "execution": {
     "iopub.execute_input": "2021-04-04T23:08:39.522721Z",
     "iopub.status.busy": "2021-04-04T23:08:39.521696Z",
     "iopub.status.idle": "2021-04-04T23:08:39.534180Z",
     "shell.execute_reply": "2021-04-04T23:08:39.533083Z"
    },
    "papermill": {
     "duration": 0.038025,
     "end_time": "2021-04-04T23:08:39.534401",
     "exception": false,
     "start_time": "2021-04-04T23:08:39.496376",
     "status": "completed"
    },
    "tags": []
   },
   "outputs": [],
   "source": [
    "df = pd.read_csv(dataset_config['dataset_path'])"
   ]
  },
  {
   "cell_type": "code",
   "execution_count": 6,
   "id": "7eca6c4a",
   "metadata": {
    "execution": {
     "iopub.execute_input": "2021-04-04T23:08:39.600356Z",
     "iopub.status.busy": "2021-04-04T23:08:39.587235Z",
     "iopub.status.idle": "2021-04-04T23:08:39.602800Z",
     "shell.execute_reply": "2021-04-04T23:08:39.603275Z"
    },
    "papermill": {
     "duration": 0.041884,
     "end_time": "2021-04-04T23:08:39.603442",
     "exception": false,
     "start_time": "2021-04-04T23:08:39.561558",
     "status": "completed"
    },
    "tags": []
   },
   "outputs": [
    {
     "name": "stdout",
     "output_type": "stream",
     "text": [
      "<class 'pandas.core.frame.DataFrame'>\n",
      "RangeIndex: 498 entries, 0 to 497\n",
      "Data columns (total 23 columns):\n",
      " #   Column             Non-Null Count  Dtype  \n",
      "---  ------             --------------  -----  \n",
      " 0   id                 498 non-null    int64  \n",
      " 1   loc                498 non-null    float64\n",
      " 2   v(g)               498 non-null    float64\n",
      " 3   ev(g)              498 non-null    float64\n",
      " 4   iv(g)              498 non-null    float64\n",
      " 5   n                  498 non-null    float64\n",
      " 6   v                  498 non-null    float64\n",
      " 7   l                  498 non-null    float64\n",
      " 8   d                  498 non-null    float64\n",
      " 9   i                  498 non-null    float64\n",
      " 10  e                  498 non-null    float64\n",
      " 11  b                  498 non-null    float64\n",
      " 12  t                  498 non-null    float64\n",
      " 13  lOCode             498 non-null    int64  \n",
      " 14  lOComment          498 non-null    int64  \n",
      " 15  lOBlank            498 non-null    int64  \n",
      " 16  locCodeAndComment  498 non-null    int64  \n",
      " 17  uniq_Op            498 non-null    float64\n",
      " 18  uniq_Opnd          498 non-null    float64\n",
      " 19  total_Op           498 non-null    float64\n",
      " 20  total_Opnd         498 non-null    float64\n",
      " 21  branchCount        498 non-null    float64\n",
      " 22  defects            498 non-null    bool   \n",
      "dtypes: bool(1), float64(17), int64(5)\n",
      "memory usage: 86.2 KB\n"
     ]
    }
   ],
   "source": [
    "df.info()"
   ]
  },
  {
   "cell_type": "code",
   "execution_count": 7,
   "id": "3638e5e8",
   "metadata": {
    "execution": {
     "iopub.execute_input": "2021-04-04T23:08:39.655546Z",
     "iopub.status.busy": "2021-04-04T23:08:39.654510Z",
     "iopub.status.idle": "2021-04-04T23:08:39.680991Z",
     "shell.execute_reply": "2021-04-04T23:08:39.681927Z"
    },
    "papermill": {
     "duration": 0.058303,
     "end_time": "2021-04-04T23:08:39.682184",
     "exception": false,
     "start_time": "2021-04-04T23:08:39.623881",
     "status": "completed"
    },
    "tags": []
   },
   "outputs": [
    {
     "data": {
      "text/html": [
       "<div>\n",
       "<style scoped>\n",
       "    .dataframe tbody tr th:only-of-type {\n",
       "        vertical-align: middle;\n",
       "    }\n",
       "\n",
       "    .dataframe tbody tr th {\n",
       "        vertical-align: top;\n",
       "    }\n",
       "\n",
       "    .dataframe thead th {\n",
       "        text-align: right;\n",
       "    }\n",
       "</style>\n",
       "<table border=\"1\" class=\"dataframe\">\n",
       "  <thead>\n",
       "    <tr style=\"text-align: right;\">\n",
       "      <th></th>\n",
       "      <th>id</th>\n",
       "      <th>loc</th>\n",
       "      <th>v(g)</th>\n",
       "      <th>ev(g)</th>\n",
       "      <th>iv(g)</th>\n",
       "      <th>n</th>\n",
       "      <th>v</th>\n",
       "      <th>l</th>\n",
       "      <th>d</th>\n",
       "      <th>i</th>\n",
       "      <th>...</th>\n",
       "      <th>lOCode</th>\n",
       "      <th>lOComment</th>\n",
       "      <th>lOBlank</th>\n",
       "      <th>locCodeAndComment</th>\n",
       "      <th>uniq_Op</th>\n",
       "      <th>uniq_Opnd</th>\n",
       "      <th>total_Op</th>\n",
       "      <th>total_Opnd</th>\n",
       "      <th>branchCount</th>\n",
       "      <th>defects</th>\n",
       "    </tr>\n",
       "  </thead>\n",
       "  <tbody>\n",
       "    <tr>\n",
       "      <th>0</th>\n",
       "      <td>1</td>\n",
       "      <td>1.1</td>\n",
       "      <td>1.4</td>\n",
       "      <td>1.4</td>\n",
       "      <td>1.4</td>\n",
       "      <td>1.3</td>\n",
       "      <td>1.30</td>\n",
       "      <td>1.30</td>\n",
       "      <td>1.30</td>\n",
       "      <td>1.30</td>\n",
       "      <td>...</td>\n",
       "      <td>2</td>\n",
       "      <td>2</td>\n",
       "      <td>2</td>\n",
       "      <td>2</td>\n",
       "      <td>1.2</td>\n",
       "      <td>1.2</td>\n",
       "      <td>1.2</td>\n",
       "      <td>1.2</td>\n",
       "      <td>1.4</td>\n",
       "      <td>False</td>\n",
       "    </tr>\n",
       "    <tr>\n",
       "      <th>1</th>\n",
       "      <td>2</td>\n",
       "      <td>1.0</td>\n",
       "      <td>1.0</td>\n",
       "      <td>1.0</td>\n",
       "      <td>1.0</td>\n",
       "      <td>1.0</td>\n",
       "      <td>1.00</td>\n",
       "      <td>1.00</td>\n",
       "      <td>1.00</td>\n",
       "      <td>1.00</td>\n",
       "      <td>...</td>\n",
       "      <td>1</td>\n",
       "      <td>1</td>\n",
       "      <td>1</td>\n",
       "      <td>1</td>\n",
       "      <td>1.0</td>\n",
       "      <td>1.0</td>\n",
       "      <td>1.0</td>\n",
       "      <td>1.0</td>\n",
       "      <td>1.0</td>\n",
       "      <td>True</td>\n",
       "    </tr>\n",
       "    <tr>\n",
       "      <th>2</th>\n",
       "      <td>3</td>\n",
       "      <td>24.0</td>\n",
       "      <td>5.0</td>\n",
       "      <td>1.0</td>\n",
       "      <td>3.0</td>\n",
       "      <td>63.0</td>\n",
       "      <td>309.13</td>\n",
       "      <td>0.11</td>\n",
       "      <td>9.50</td>\n",
       "      <td>32.54</td>\n",
       "      <td>...</td>\n",
       "      <td>1</td>\n",
       "      <td>0</td>\n",
       "      <td>6</td>\n",
       "      <td>0</td>\n",
       "      <td>15.0</td>\n",
       "      <td>15.0</td>\n",
       "      <td>44.0</td>\n",
       "      <td>19.0</td>\n",
       "      <td>9.0</td>\n",
       "      <td>False</td>\n",
       "    </tr>\n",
       "    <tr>\n",
       "      <th>3</th>\n",
       "      <td>4</td>\n",
       "      <td>20.0</td>\n",
       "      <td>4.0</td>\n",
       "      <td>4.0</td>\n",
       "      <td>2.0</td>\n",
       "      <td>47.0</td>\n",
       "      <td>215.49</td>\n",
       "      <td>0.06</td>\n",
       "      <td>16.00</td>\n",
       "      <td>13.47</td>\n",
       "      <td>...</td>\n",
       "      <td>0</td>\n",
       "      <td>0</td>\n",
       "      <td>3</td>\n",
       "      <td>0</td>\n",
       "      <td>16.0</td>\n",
       "      <td>8.0</td>\n",
       "      <td>31.0</td>\n",
       "      <td>16.0</td>\n",
       "      <td>7.0</td>\n",
       "      <td>False</td>\n",
       "    </tr>\n",
       "    <tr>\n",
       "      <th>4</th>\n",
       "      <td>5</td>\n",
       "      <td>24.0</td>\n",
       "      <td>6.0</td>\n",
       "      <td>6.0</td>\n",
       "      <td>2.0</td>\n",
       "      <td>72.0</td>\n",
       "      <td>346.13</td>\n",
       "      <td>0.06</td>\n",
       "      <td>17.33</td>\n",
       "      <td>19.97</td>\n",
       "      <td>...</td>\n",
       "      <td>0</td>\n",
       "      <td>0</td>\n",
       "      <td>3</td>\n",
       "      <td>0</td>\n",
       "      <td>16.0</td>\n",
       "      <td>12.0</td>\n",
       "      <td>46.0</td>\n",
       "      <td>26.0</td>\n",
       "      <td>11.0</td>\n",
       "      <td>False</td>\n",
       "    </tr>\n",
       "  </tbody>\n",
       "</table>\n",
       "<p>5 rows × 23 columns</p>\n",
       "</div>"
      ],
      "text/plain": [
       "   id   loc  v(g)  ev(g)  iv(g)     n       v     l      d      i  ...  \\\n",
       "0   1   1.1   1.4    1.4    1.4   1.3    1.30  1.30   1.30   1.30  ...   \n",
       "1   2   1.0   1.0    1.0    1.0   1.0    1.00  1.00   1.00   1.00  ...   \n",
       "2   3  24.0   5.0    1.0    3.0  63.0  309.13  0.11   9.50  32.54  ...   \n",
       "3   4  20.0   4.0    4.0    2.0  47.0  215.49  0.06  16.00  13.47  ...   \n",
       "4   5  24.0   6.0    6.0    2.0  72.0  346.13  0.06  17.33  19.97  ...   \n",
       "\n",
       "   lOCode  lOComment  lOBlank  locCodeAndComment  uniq_Op  uniq_Opnd  \\\n",
       "0       2          2        2                  2      1.2        1.2   \n",
       "1       1          1        1                  1      1.0        1.0   \n",
       "2       1          0        6                  0     15.0       15.0   \n",
       "3       0          0        3                  0     16.0        8.0   \n",
       "4       0          0        3                  0     16.0       12.0   \n",
       "\n",
       "   total_Op  total_Opnd  branchCount  defects  \n",
       "0       1.2         1.2          1.4    False  \n",
       "1       1.0         1.0          1.0     True  \n",
       "2      44.0        19.0          9.0    False  \n",
       "3      31.0        16.0          7.0    False  \n",
       "4      46.0        26.0         11.0    False  \n",
       "\n",
       "[5 rows x 23 columns]"
      ]
     },
     "execution_count": 7,
     "metadata": {},
     "output_type": "execute_result"
    }
   ],
   "source": [
    "df.head()"
   ]
  },
  {
   "cell_type": "code",
   "execution_count": 8,
   "id": "733e95eb",
   "metadata": {
    "execution": {
     "iopub.execute_input": "2021-04-04T23:08:39.733690Z",
     "iopub.status.busy": "2021-04-04T23:08:39.732625Z",
     "iopub.status.idle": "2021-04-04T23:08:39.735638Z",
     "shell.execute_reply": "2021-04-04T23:08:39.734897Z"
    },
    "papermill": {
     "duration": 0.029552,
     "end_time": "2021-04-04T23:08:39.735811",
     "exception": false,
     "start_time": "2021-04-04T23:08:39.706259",
     "status": "completed"
    },
    "tags": []
   },
   "outputs": [],
   "source": [
    "del df['id']"
   ]
  },
  {
   "cell_type": "code",
   "execution_count": 9,
   "id": "6ff6f5b0",
   "metadata": {
    "execution": {
     "iopub.execute_input": "2021-04-04T23:08:39.795085Z",
     "iopub.status.busy": "2021-04-04T23:08:39.794227Z",
     "iopub.status.idle": "2021-04-04T23:08:39.796316Z",
     "shell.execute_reply": "2021-04-04T23:08:39.796830Z"
    },
    "papermill": {
     "duration": 0.027086,
     "end_time": "2021-04-04T23:08:39.796978",
     "exception": false,
     "start_time": "2021-04-04T23:08:39.769892",
     "status": "completed"
    },
    "tags": []
   },
   "outputs": [],
   "source": [
    "if PROFILE_REPORTING:\n",
    "    ProfileReport(df).to_widgets()"
   ]
  },
  {
   "cell_type": "markdown",
   "id": "1deaf3f0",
   "metadata": {
    "papermill": {
     "duration": 0.021148,
     "end_time": "2021-04-04T23:08:39.841170",
     "exception": false,
     "start_time": "2021-04-04T23:08:39.820022",
     "status": "completed"
    },
    "tags": []
   },
   "source": [
    "# Preprocess"
   ]
  },
  {
   "cell_type": "code",
   "execution_count": 10,
   "id": "1513e563",
   "metadata": {
    "execution": {
     "iopub.execute_input": "2021-04-04T23:08:39.887934Z",
     "iopub.status.busy": "2021-04-04T23:08:39.887142Z",
     "iopub.status.idle": "2021-04-04T23:08:39.888854Z",
     "shell.execute_reply": "2021-04-04T23:08:39.889378Z"
    },
    "papermill": {
     "duration": 0.027351,
     "end_time": "2021-04-04T23:08:39.889556",
     "exception": false,
     "start_time": "2021-04-04T23:08:39.862205",
     "status": "completed"
    },
    "tags": []
   },
   "outputs": [],
   "source": [
    "working_df = df.copy()"
   ]
  },
  {
   "cell_type": "code",
   "execution_count": 11,
   "id": "3b26d675",
   "metadata": {
    "execution": {
     "iopub.execute_input": "2021-04-04T23:08:39.939317Z",
     "iopub.status.busy": "2021-04-04T23:08:39.938520Z",
     "iopub.status.idle": "2021-04-04T23:08:39.941368Z",
     "shell.execute_reply": "2021-04-04T23:08:39.940795Z"
    },
    "papermill": {
     "duration": 0.029929,
     "end_time": "2021-04-04T23:08:39.941499",
     "exception": false,
     "start_time": "2021-04-04T23:08:39.911570",
     "status": "completed"
    },
    "tags": []
   },
   "outputs": [],
   "source": [
    "working_df['defects'] = working_df['defects'].replace([False, True], [0, 1])"
   ]
  },
  {
   "cell_type": "code",
   "execution_count": 12,
   "id": "eb48604f",
   "metadata": {
    "execution": {
     "iopub.execute_input": "2021-04-04T23:08:39.989668Z",
     "iopub.status.busy": "2021-04-04T23:08:39.988700Z",
     "iopub.status.idle": "2021-04-04T23:08:39.991176Z",
     "shell.execute_reply": "2021-04-04T23:08:39.991708Z"
    },
    "papermill": {
     "duration": 0.028225,
     "end_time": "2021-04-04T23:08:39.991865",
     "exception": false,
     "start_time": "2021-04-04T23:08:39.963640",
     "status": "completed"
    },
    "tags": []
   },
   "outputs": [],
   "source": [
    "for col in dataset_config['delete_columns']:\n",
    "    del working_df[col]"
   ]
  },
  {
   "cell_type": "code",
   "execution_count": 13,
   "id": "9a17bc29",
   "metadata": {
    "execution": {
     "iopub.execute_input": "2021-04-04T23:08:40.042254Z",
     "iopub.status.busy": "2021-04-04T23:08:40.041572Z",
     "iopub.status.idle": "2021-04-04T23:08:40.050304Z",
     "shell.execute_reply": "2021-04-04T23:08:40.050903Z"
    },
    "papermill": {
     "duration": 0.035587,
     "end_time": "2021-04-04T23:08:40.051074",
     "exception": false,
     "start_time": "2021-04-04T23:08:40.015487",
     "status": "completed"
    },
    "tags": []
   },
   "outputs": [],
   "source": [
    "working_df = working_df.drop_duplicates()"
   ]
  },
  {
   "cell_type": "markdown",
   "id": "a4d52ca6",
   "metadata": {
    "papermill": {
     "duration": 0.021524,
     "end_time": "2021-04-04T23:08:40.097342",
     "exception": false,
     "start_time": "2021-04-04T23:08:40.075818",
     "status": "completed"
    },
    "tags": []
   },
   "source": [
    "# Split"
   ]
  },
  {
   "cell_type": "code",
   "execution_count": 14,
   "id": "3e9ee4b5",
   "metadata": {
    "execution": {
     "iopub.execute_input": "2021-04-04T23:08:40.146663Z",
     "iopub.status.busy": "2021-04-04T23:08:40.145771Z",
     "iopub.status.idle": "2021-04-04T23:08:40.180456Z",
     "shell.execute_reply": "2021-04-04T23:08:40.179518Z"
    },
    "papermill": {
     "duration": 0.061172,
     "end_time": "2021-04-04T23:08:40.180632",
     "exception": false,
     "start_time": "2021-04-04T23:08:40.119460",
     "status": "completed"
    },
    "tags": []
   },
   "outputs": [],
   "source": [
    "from sklearn.model_selection import train_test_split"
   ]
  },
  {
   "cell_type": "code",
   "execution_count": 15,
   "id": "274004ce",
   "metadata": {
    "execution": {
     "iopub.execute_input": "2021-04-04T23:08:40.232842Z",
     "iopub.status.busy": "2021-04-04T23:08:40.232149Z",
     "iopub.status.idle": "2021-04-04T23:08:40.238233Z",
     "shell.execute_reply": "2021-04-04T23:08:40.237380Z"
    },
    "papermill": {
     "duration": 0.033261,
     "end_time": "2021-04-04T23:08:40.238399",
     "exception": false,
     "start_time": "2021-04-04T23:08:40.205138",
     "status": "completed"
    },
    "scrolled": true,
    "tags": []
   },
   "outputs": [],
   "source": [
    "inlier, outlier = working_df[working_df['defects'] == 0], working_df[working_df['defects'] == 1]"
   ]
  },
  {
   "cell_type": "code",
   "execution_count": 16,
   "id": "753c7b03",
   "metadata": {
    "execution": {
     "iopub.execute_input": "2021-04-04T23:08:40.293572Z",
     "iopub.status.busy": "2021-04-04T23:08:40.291958Z",
     "iopub.status.idle": "2021-04-04T23:08:40.296157Z",
     "shell.execute_reply": "2021-04-04T23:08:40.296939Z"
    },
    "papermill": {
     "duration": 0.033377,
     "end_time": "2021-04-04T23:08:40.297149",
     "exception": false,
     "start_time": "2021-04-04T23:08:40.263772",
     "status": "completed"
    },
    "tags": []
   },
   "outputs": [],
   "source": [
    "X_inlier = inlier.copy()\n",
    "y_inlier = X_inlier.pop('defects')\n",
    "X_outlier = outlier.copy()\n",
    "y_outlier = X_outlier.pop('defects')"
   ]
  },
  {
   "cell_type": "code",
   "execution_count": 17,
   "id": "2ba43193",
   "metadata": {
    "execution": {
     "iopub.execute_input": "2021-04-04T23:08:40.358484Z",
     "iopub.status.busy": "2021-04-04T23:08:40.357644Z",
     "iopub.status.idle": "2021-04-04T23:08:40.360986Z",
     "shell.execute_reply": "2021-04-04T23:08:40.361498Z"
    },
    "papermill": {
     "duration": 0.038382,
     "end_time": "2021-04-04T23:08:40.361653",
     "exception": false,
     "start_time": "2021-04-04T23:08:40.323271",
     "status": "completed"
    },
    "tags": []
   },
   "outputs": [],
   "source": [
    "test_size = dataset_config['test_size']\n",
    "random_state = dataset_config['random_state']\n",
    "\n",
    "X_inlier_train, X_inlier_test, y_inlier_train, y_inlier_test = train_test_split(\n",
    "    X_inlier,\n",
    "    y_inlier,\n",
    "    test_size=test_size,\n",
    "    random_state=random_state\n",
    ")"
   ]
  },
  {
   "cell_type": "code",
   "execution_count": 18,
   "id": "0b7582ca",
   "metadata": {
    "execution": {
     "iopub.execute_input": "2021-04-04T23:08:40.422755Z",
     "iopub.status.busy": "2021-04-04T23:08:40.421917Z",
     "iopub.status.idle": "2021-04-04T23:08:40.424679Z",
     "shell.execute_reply": "2021-04-04T23:08:40.425531Z"
    },
    "papermill": {
     "duration": 0.039017,
     "end_time": "2021-04-04T23:08:40.425760",
     "exception": false,
     "start_time": "2021-04-04T23:08:40.386743",
     "status": "completed"
    },
    "tags": []
   },
   "outputs": [],
   "source": [
    "test_outlier_size = dataset_config['test_outlier_size']\n",
    "if test_outlier_size > 0.0:\n",
    "    X_outlier_train, X_outlier_test, y_outlier_train, y_outlier_test = train_test_split(\n",
    "        X_outlier,\n",
    "        y_outlier,\n",
    "        test_size=test_outlier_size,\n",
    "        random_state=random_state\n",
    "    )\n",
    "else:\n",
    "    X_outlier_train, y_outlier_train = pd.DataFrame(columns=X_outlier.columns), pd.Series(dtype='int64')\n",
    "    X_outlier_test, y_outlier_test = X_outlier.copy(), y_outlier.copy()"
   ]
  },
  {
   "cell_type": "code",
   "execution_count": 19,
   "id": "c34363db",
   "metadata": {
    "execution": {
     "iopub.execute_input": "2021-04-04T23:08:40.487609Z",
     "iopub.status.busy": "2021-04-04T23:08:40.483509Z",
     "iopub.status.idle": "2021-04-04T23:08:40.490369Z",
     "shell.execute_reply": "2021-04-04T23:08:40.490868Z"
    },
    "papermill": {
     "duration": 0.037316,
     "end_time": "2021-04-04T23:08:40.491020",
     "exception": false,
     "start_time": "2021-04-04T23:08:40.453704",
     "status": "completed"
    },
    "tags": []
   },
   "outputs": [],
   "source": [
    "X_train, y_train = pd.concat([X_inlier_train, X_outlier_train], ignore_index=True), pd.concat([y_inlier_train, y_outlier_train], ignore_index=True)\n",
    "X_test, y_test = pd.concat([X_inlier_test, X_outlier_test], ignore_index=True), pd.concat([y_inlier_test, y_outlier_test], ignore_index=True)"
   ]
  },
  {
   "cell_type": "markdown",
   "id": "7cde7309",
   "metadata": {
    "papermill": {
     "duration": 0.02226,
     "end_time": "2021-04-04T23:08:40.536498",
     "exception": false,
     "start_time": "2021-04-04T23:08:40.514238",
     "status": "completed"
    },
    "tags": []
   },
   "source": [
    "# Model"
   ]
  },
  {
   "cell_type": "code",
   "execution_count": 20,
   "id": "2b12a415",
   "metadata": {
    "execution": {
     "iopub.execute_input": "2021-04-04T23:08:40.596154Z",
     "iopub.status.busy": "2021-04-04T23:08:40.595350Z",
     "iopub.status.idle": "2021-04-04T23:08:40.597496Z",
     "shell.execute_reply": "2021-04-04T23:08:40.598365Z"
    },
    "papermill": {
     "duration": 0.03996,
     "end_time": "2021-04-04T23:08:40.598574",
     "exception": false,
     "start_time": "2021-04-04T23:08:40.558614",
     "status": "completed"
    },
    "tags": []
   },
   "outputs": [],
   "source": [
    "from math import sqrt\n",
    "\n",
    "\n",
    "class KNNDataDescription:\n",
    "    def __init__(self, k=5, outlier_threshold=1.0):\n",
    "        self.k = k\n",
    "        self.outlier_threshold = outlier_threshold\n",
    "        self.X = []\n",
    "    \n",
    "    def fit(self, X):\n",
    "        self.X = [features.to_list() for index, features in X.iterrows()]\n",
    "\n",
    "    def predict(self, entries):\n",
    "        return [self.predict_entry(features.to_list()) for index, features in entries.iterrows()]\n",
    "    \n",
    "    def predict_entry(self, entry):\n",
    "        kth_neighbor, kth_distance = self.get_kth_neighbor(entry, self.k)\n",
    "        kth_kth_neighbor, kth_kth_distance = self.get_kth_neighbor(kth_neighbor, self.k + 1)\n",
    "\n",
    "        outlier_score = kth_distance / (kth_kth_distance + 0.000001)\n",
    "\n",
    "        return 1 if outlier_score < self.outlier_threshold else -1\n",
    "        \n",
    "    def euclidean_distance(self, features1, features2):\n",
    "        distance = 0.0\n",
    "        for feat1, feat2 in zip(features1, features2):\n",
    "            distance += (feat1 - feat2)**2\n",
    "                \n",
    "        return sqrt(distance)\n",
    "\n",
    "    def get_neighbors(self, entry, k):\n",
    "        distance_to_data_points = [\n",
    "            (data_point, self.euclidean_distance(entry, data_point))\n",
    "            for data_point in self.X\n",
    "        ]\n",
    "        sorted_by_distance = sorted(distance_to_data_points, key=lambda tup: tup[1])\n",
    "        neighbors = sorted_by_distance[:k]\n",
    "        return neighbors\n",
    "\n",
    "    def get_kth_neighbor(self, entry, k):\n",
    "        neighbors = self.get_neighbors(entry, k)\n",
    "        return neighbors[-1]\n"
   ]
  },
  {
   "cell_type": "code",
   "execution_count": 21,
   "id": "1fa9ec1c",
   "metadata": {
    "execution": {
     "iopub.execute_input": "2021-04-04T23:08:40.652732Z",
     "iopub.status.busy": "2021-04-04T23:08:40.651943Z",
     "iopub.status.idle": "2021-04-04T23:08:40.674012Z",
     "shell.execute_reply": "2021-04-04T23:08:40.673153Z"
    },
    "papermill": {
     "duration": 0.049598,
     "end_time": "2021-04-04T23:08:40.674178",
     "exception": false,
     "start_time": "2021-04-04T23:08:40.624580",
     "status": "completed"
    },
    "tags": []
   },
   "outputs": [],
   "source": [
    "from sklearn.svm import OneClassSVM\n",
    "\n",
    "\n",
    "models = {\n",
    "    'oneclasssvm': OneClassSVM,\n",
    "    'knndatadescription': KNNDataDescription,\n",
    "}"
   ]
  },
  {
   "cell_type": "code",
   "execution_count": 22,
   "id": "4d72a0b1",
   "metadata": {
    "execution": {
     "iopub.execute_input": "2021-04-04T23:08:40.733784Z",
     "iopub.status.busy": "2021-04-04T23:08:40.733009Z",
     "iopub.status.idle": "2021-04-04T23:08:40.735235Z",
     "shell.execute_reply": "2021-04-04T23:08:40.734717Z"
    },
    "papermill": {
     "duration": 0.029308,
     "end_time": "2021-04-04T23:08:40.735356",
     "exception": false,
     "start_time": "2021-04-04T23:08:40.706048",
     "status": "completed"
    },
    "scrolled": true,
    "tags": []
   },
   "outputs": [],
   "source": [
    "model_cls = models[model_config['model_type']]\n",
    "model = model_cls(**model_config['hyperparameters'])"
   ]
  },
  {
   "cell_type": "markdown",
   "id": "e00cff3b",
   "metadata": {
    "papermill": {
     "duration": 0.022571,
     "end_time": "2021-04-04T23:08:40.791488",
     "exception": false,
     "start_time": "2021-04-04T23:08:40.768917",
     "status": "completed"
    },
    "tags": []
   },
   "source": [
    "# Fit"
   ]
  },
  {
   "cell_type": "code",
   "execution_count": 23,
   "id": "8b2ded89",
   "metadata": {
    "execution": {
     "iopub.execute_input": "2021-04-04T23:08:40.854391Z",
     "iopub.status.busy": "2021-04-04T23:08:40.843820Z",
     "iopub.status.idle": "2021-04-04T23:08:40.871783Z",
     "shell.execute_reply": "2021-04-04T23:08:40.870829Z"
    },
    "papermill": {
     "duration": 0.056222,
     "end_time": "2021-04-04T23:08:40.871965",
     "exception": false,
     "start_time": "2021-04-04T23:08:40.815743",
     "status": "completed"
    },
    "tags": []
   },
   "outputs": [],
   "source": [
    "model.fit(X_train)"
   ]
  },
  {
   "cell_type": "markdown",
   "id": "f99999f7",
   "metadata": {
    "papermill": {
     "duration": 0.022773,
     "end_time": "2021-04-04T23:08:40.922807",
     "exception": false,
     "start_time": "2021-04-04T23:08:40.900034",
     "status": "completed"
    },
    "tags": []
   },
   "source": [
    "# Predict"
   ]
  },
  {
   "cell_type": "code",
   "execution_count": 24,
   "id": "6536fbf7",
   "metadata": {
    "execution": {
     "iopub.execute_input": "2021-04-04T23:08:40.973612Z",
     "iopub.status.busy": "2021-04-04T23:08:40.972921Z",
     "iopub.status.idle": "2021-04-04T23:08:41.378614Z",
     "shell.execute_reply": "2021-04-04T23:08:41.379317Z"
    },
    "papermill": {
     "duration": 0.433801,
     "end_time": "2021-04-04T23:08:41.379516",
     "exception": false,
     "start_time": "2021-04-04T23:08:40.945715",
     "status": "completed"
    },
    "tags": []
   },
   "outputs": [],
   "source": [
    "predictions = model.predict(X_test)"
   ]
  },
  {
   "cell_type": "markdown",
   "id": "aa1c9881",
   "metadata": {
    "papermill": {
     "duration": 0.024033,
     "end_time": "2021-04-04T23:08:41.430865",
     "exception": false,
     "start_time": "2021-04-04T23:08:41.406832",
     "status": "completed"
    },
    "tags": []
   },
   "source": [
    "# Evaluate"
   ]
  },
  {
   "cell_type": "code",
   "execution_count": 25,
   "id": "894f0f04",
   "metadata": {
    "execution": {
     "iopub.execute_input": "2021-04-04T23:08:41.481901Z",
     "iopub.status.busy": "2021-04-04T23:08:41.481260Z",
     "iopub.status.idle": "2021-04-04T23:08:41.483573Z",
     "shell.execute_reply": "2021-04-04T23:08:41.484070Z"
    },
    "papermill": {
     "duration": 0.030152,
     "end_time": "2021-04-04T23:08:41.484215",
     "exception": false,
     "start_time": "2021-04-04T23:08:41.454063",
     "status": "completed"
    },
    "tags": []
   },
   "outputs": [],
   "source": [
    "from sklearn.metrics import f1_score"
   ]
  },
  {
   "cell_type": "code",
   "execution_count": 26,
   "id": "211744d3",
   "metadata": {
    "execution": {
     "iopub.execute_input": "2021-04-04T23:08:41.541183Z",
     "iopub.status.busy": "2021-04-04T23:08:41.540521Z",
     "iopub.status.idle": "2021-04-04T23:08:41.543155Z",
     "shell.execute_reply": "2021-04-04T23:08:41.543826Z"
    },
    "papermill": {
     "duration": 0.032631,
     "end_time": "2021-04-04T23:08:41.544030",
     "exception": false,
     "start_time": "2021-04-04T23:08:41.511399",
     "status": "completed"
    },
    "tags": []
   },
   "outputs": [],
   "source": [
    "y_test = y_test.replace([0, 1], [1, -1])"
   ]
  },
  {
   "cell_type": "code",
   "execution_count": 27,
   "id": "d68a9204",
   "metadata": {
    "execution": {
     "iopub.execute_input": "2021-04-04T23:08:41.607231Z",
     "iopub.status.busy": "2021-04-04T23:08:41.606237Z",
     "iopub.status.idle": "2021-04-04T23:08:41.609112Z",
     "shell.execute_reply": "2021-04-04T23:08:41.609947Z"
    },
    "papermill": {
     "duration": 0.037746,
     "end_time": "2021-04-04T23:08:41.610169",
     "exception": false,
     "start_time": "2021-04-04T23:08:41.572423",
     "status": "completed"
    },
    "tags": []
   },
   "outputs": [],
   "source": [
    "def evaluate(truths, predictions, pos_label, neg_label):\n",
    "    TP = 0\n",
    "    FP = 0\n",
    "    TN = 0\n",
    "    FN = 0\n",
    "\n",
    "    for truth, pred in zip(truths, predictions): \n",
    "        if truth == pred == pos_label:\n",
    "           TP += 1\n",
    "        elif pred == pos_label and truth == neg_label:\n",
    "           FP += 1\n",
    "        elif truth == pred == neg_label:\n",
    "           TN += 1\n",
    "        elif pred == neg_label and truth == pos_label:\n",
    "           FN += 1\n",
    "\n",
    "    precision = TP / (TP + FP)\n",
    "    sensitivity = TP / (TP + FN)\n",
    "    \n",
    "    return {\n",
    "        'true_pos': TP,\n",
    "        'false_pos': FP,\n",
    "        'false_neg': FN,\n",
    "        'true_neg': TN,\n",
    "        'precision': precision,\n",
    "        'sensitivity': sensitivity,\n",
    "        'f1': (2 * (precision * sensitivity)) / (precision + sensitivity)\n",
    "    }\n",
    "\n",
    "score = evaluate(y_test, predictions, pos_label=-1, neg_label=1)"
   ]
  },
  {
   "cell_type": "markdown",
   "id": "93596516",
   "metadata": {
    "papermill": {
     "duration": 0.023084,
     "end_time": "2021-04-04T23:08:41.663786",
     "exception": false,
     "start_time": "2021-04-04T23:08:41.640702",
     "status": "completed"
    },
    "tags": []
   },
   "source": [
    "# Report"
   ]
  },
  {
   "cell_type": "code",
   "execution_count": 28,
   "id": "bea5fba1",
   "metadata": {
    "execution": {
     "iopub.execute_input": "2021-04-04T23:08:41.718341Z",
     "iopub.status.busy": "2021-04-04T23:08:41.716970Z",
     "iopub.status.idle": "2021-04-04T23:08:41.721185Z",
     "shell.execute_reply": "2021-04-04T23:08:41.720500Z"
    },
    "papermill": {
     "duration": 0.034406,
     "end_time": "2021-04-04T23:08:41.721341",
     "exception": false,
     "start_time": "2021-04-04T23:08:41.686935",
     "status": "completed"
    },
    "tags": []
   },
   "outputs": [],
   "source": [
    "import csv\n",
    "\n",
    "\n",
    "dataset_config_name = DATASET_CONFIG_PATH.split('/')[-1].split('.')[0]\n",
    "model_config_name = MODEL_CONFIG_PATH.split('/')[-1].split('.')[0]\n",
    "configuration = f\"dataset_{dataset_config_name}-model_{model_config_name}\"\n",
    "\n",
    "with open('results.csv', 'a') as f:\n",
    "    report = dict({'configuration': configuration}, **score)\n",
    "    writer = csv.DictWriter(f, report.keys())\n",
    "    writer.writerow(report)"
   ]
  }
 ],
 "metadata": {
  "celltoolbar": "Tags",
  "kernelspec": {
   "display_name": "Python 3",
   "language": "python",
   "name": "python3"
  },
  "language_info": {
   "codemirror_mode": {
    "name": "ipython",
    "version": 3
   },
   "file_extension": ".py",
   "mimetype": "text/x-python",
   "name": "python",
   "nbconvert_exporter": "python",
   "pygments_lexer": "ipython3",
   "version": "3.9.1"
  },
  "papermill": {
   "default_parameters": {},
   "duration": 6.039746,
   "end_time": "2021-04-04T23:08:43.265831",
   "environment_variables": {},
   "exception": null,
   "input_path": "main.ipynb",
   "output_path": "runs/dataset_000089-model_000003.ipynb",
   "parameters": {
    "DATASET_CONFIG_PATH": "config/dataset/000089.json",
    "MODEL_CONFIG_PATH": "config/model/000003.json",
    "PROFILE_REPORTING": false
   },
   "start_time": "2021-04-04T23:08:37.226085",
   "version": "2.3.3"
  }
 },
 "nbformat": 4,
 "nbformat_minor": 5
}