{
 "cells": [
  {
   "cell_type": "markdown",
   "id": "51c71c25",
   "metadata": {
    "papermill": {
     "duration": 0.030255,
     "end_time": "2021-04-04T23:17:10.902158",
     "exception": false,
     "start_time": "2021-04-04T23:17:10.871903",
     "status": "completed"
    },
    "tags": []
   },
   "source": [
    "# Parametrizing"
   ]
  },
  {
   "cell_type": "code",
   "execution_count": 1,
   "id": "3b136394",
   "metadata": {
    "execution": {
     "iopub.execute_input": "2021-04-04T23:17:10.954346Z",
     "iopub.status.busy": "2021-04-04T23:17:10.953627Z",
     "iopub.status.idle": "2021-04-04T23:17:10.956335Z",
     "shell.execute_reply": "2021-04-04T23:17:10.957344Z"
    },
    "papermill": {
     "duration": 0.035629,
     "end_time": "2021-04-04T23:17:10.957794",
     "exception": false,
     "start_time": "2021-04-04T23:17:10.922165",
     "status": "completed"
    },
    "tags": [
     "parameters"
    ]
   },
   "outputs": [],
   "source": [
    "DATASET_CONFIG_PATH = 'config/dataset/kc1_001.json'\n",
    "MODEL_CONFIG_PATH = 'config/model/knndd_001.json'\n",
    "PROFILE_REPORTING = False"
   ]
  },
  {
   "cell_type": "code",
   "execution_count": 2,
   "id": "af03c37a",
   "metadata": {
    "execution": {
     "iopub.execute_input": "2021-04-04T23:17:11.004531Z",
     "iopub.status.busy": "2021-04-04T23:17:11.003959Z",
     "iopub.status.idle": "2021-04-04T23:17:11.006382Z",
     "shell.execute_reply": "2021-04-04T23:17:11.006859Z"
    },
    "papermill": {
     "duration": 0.0264,
     "end_time": "2021-04-04T23:17:11.007001",
     "exception": false,
     "start_time": "2021-04-04T23:17:10.980601",
     "status": "completed"
    },
    "tags": [
     "injected-parameters"
    ]
   },
   "outputs": [],
   "source": [
    "# Parameters\n",
    "DATASET_CONFIG_PATH = \"config/dataset/000111.json\"\n",
    "MODEL_CONFIG_PATH = \"config/model/000004.json\"\n",
    "PROFILE_REPORTING = False\n"
   ]
  },
  {
   "cell_type": "code",
   "execution_count": 3,
   "id": "b80f2a10",
   "metadata": {
    "execution": {
     "iopub.execute_input": "2021-04-04T23:17:11.053646Z",
     "iopub.status.busy": "2021-04-04T23:17:11.053035Z",
     "iopub.status.idle": "2021-04-04T23:17:11.055438Z",
     "shell.execute_reply": "2021-04-04T23:17:11.055906Z"
    },
    "papermill": {
     "duration": 0.027956,
     "end_time": "2021-04-04T23:17:11.056047",
     "exception": false,
     "start_time": "2021-04-04T23:17:11.028091",
     "status": "completed"
    },
    "tags": []
   },
   "outputs": [],
   "source": [
    "import json\n",
    "\n",
    "\n",
    "with open(DATASET_CONFIG_PATH) as f:\n",
    "    dataset_config = json.load(f)\n",
    "\n",
    "with open(MODEL_CONFIG_PATH) as f:\n",
    "    model_config = json.load(f)"
   ]
  },
  {
   "cell_type": "markdown",
   "id": "9a4b0e2d",
   "metadata": {
    "papermill": {
     "duration": 0.019274,
     "end_time": "2021-04-04T23:17:11.097630",
     "exception": false,
     "start_time": "2021-04-04T23:17:11.078356",
     "status": "completed"
    },
    "tags": []
   },
   "source": [
    "# Profiling"
   ]
  },
  {
   "cell_type": "code",
   "execution_count": 4,
   "id": "a3e0289b",
   "metadata": {
    "execution": {
     "iopub.execute_input": "2021-04-04T23:17:11.141614Z",
     "iopub.status.busy": "2021-04-04T23:17:11.141016Z",
     "iopub.status.idle": "2021-04-04T23:17:12.420257Z",
     "shell.execute_reply": "2021-04-04T23:17:12.420993Z"
    },
    "papermill": {
     "duration": 1.303579,
     "end_time": "2021-04-04T23:17:12.421196",
     "exception": false,
     "start_time": "2021-04-04T23:17:11.117617",
     "status": "completed"
    },
    "tags": []
   },
   "outputs": [],
   "source": [
    "import pandas as pd\n",
    "from pandas_profiling import ProfileReport"
   ]
  },
  {
   "cell_type": "code",
   "execution_count": 5,
   "id": "ee6c0666",
   "metadata": {
    "execution": {
     "iopub.execute_input": "2021-04-04T23:17:12.476865Z",
     "iopub.status.busy": "2021-04-04T23:17:12.476215Z",
     "iopub.status.idle": "2021-04-04T23:17:12.490220Z",
     "shell.execute_reply": "2021-04-04T23:17:12.491029Z"
    },
    "papermill": {
     "duration": 0.040317,
     "end_time": "2021-04-04T23:17:12.491258",
     "exception": false,
     "start_time": "2021-04-04T23:17:12.450941",
     "status": "completed"
    },
    "tags": []
   },
   "outputs": [],
   "source": [
    "df = pd.read_csv(dataset_config['dataset_path'])"
   ]
  },
  {
   "cell_type": "code",
   "execution_count": 6,
   "id": "7eca6c4a",
   "metadata": {
    "execution": {
     "iopub.execute_input": "2021-04-04T23:17:12.553817Z",
     "iopub.status.busy": "2021-04-04T23:17:12.543098Z",
     "iopub.status.idle": "2021-04-04T23:17:12.557090Z",
     "shell.execute_reply": "2021-04-04T23:17:12.557954Z"
    },
    "papermill": {
     "duration": 0.040219,
     "end_time": "2021-04-04T23:17:12.558190",
     "exception": false,
     "start_time": "2021-04-04T23:17:12.517971",
     "status": "completed"
    },
    "tags": []
   },
   "outputs": [
    {
     "name": "stdout",
     "output_type": "stream",
     "text": [
      "<class 'pandas.core.frame.DataFrame'>\n",
      "RangeIndex: 498 entries, 0 to 497\n",
      "Data columns (total 23 columns):\n",
      " #   Column             Non-Null Count  Dtype  \n",
      "---  ------             --------------  -----  \n",
      " 0   id                 498 non-null    int64  \n",
      " 1   loc                498 non-null    float64\n",
      " 2   v(g)               498 non-null    float64\n",
      " 3   ev(g)              498 non-null    float64\n",
      " 4   iv(g)              498 non-null    float64\n",
      " 5   n                  498 non-null    float64\n",
      " 6   v                  498 non-null    float64\n",
      " 7   l                  498 non-null    float64\n",
      " 8   d                  498 non-null    float64\n",
      " 9   i                  498 non-null    float64\n",
      " 10  e                  498 non-null    float64\n",
      " 11  b                  498 non-null    float64\n",
      " 12  t                  498 non-null    float64\n",
      " 13  lOCode             498 non-null    int64  \n",
      " 14  lOComment          498 non-null    int64  \n",
      " 15  lOBlank            498 non-null    int64  \n",
      " 16  locCodeAndComment  498 non-null    int64  \n",
      " 17  uniq_Op            498 non-null    float64\n",
      " 18  uniq_Opnd          498 non-null    float64\n",
      " 19  total_Op           498 non-null    float64\n",
      " 20  total_Opnd         498 non-null    float64\n",
      " 21  branchCount        498 non-null    float64\n",
      " 22  defects            498 non-null    bool   \n",
      "dtypes: bool(1), float64(17), int64(5)\n",
      "memory usage: 86.2 KB\n"
     ]
    }
   ],
   "source": [
    "df.info()"
   ]
  },
  {
   "cell_type": "code",
   "execution_count": 7,
   "id": "3638e5e8",
   "metadata": {
    "execution": {
     "iopub.execute_input": "2021-04-04T23:17:12.618370Z",
     "iopub.status.busy": "2021-04-04T23:17:12.616950Z",
     "iopub.status.idle": "2021-04-04T23:17:12.650766Z",
     "shell.execute_reply": "2021-04-04T23:17:12.649597Z"
    },
    "papermill": {
     "duration": 0.063406,
     "end_time": "2021-04-04T23:17:12.650994",
     "exception": false,
     "start_time": "2021-04-04T23:17:12.587588",
     "status": "completed"
    },
    "tags": []
   },
   "outputs": [
    {
     "data": {
      "text/html": [
       "<div>\n",
       "<style scoped>\n",
       "    .dataframe tbody tr th:only-of-type {\n",
       "        vertical-align: middle;\n",
       "    }\n",
       "\n",
       "    .dataframe tbody tr th {\n",
       "        vertical-align: top;\n",
       "    }\n",
       "\n",
       "    .dataframe thead th {\n",
       "        text-align: right;\n",
       "    }\n",
       "</style>\n",
       "<table border=\"1\" class=\"dataframe\">\n",
       "  <thead>\n",
       "    <tr style=\"text-align: right;\">\n",
       "      <th></th>\n",
       "      <th>id</th>\n",
       "      <th>loc</th>\n",
       "      <th>v(g)</th>\n",
       "      <th>ev(g)</th>\n",
       "      <th>iv(g)</th>\n",
       "      <th>n</th>\n",
       "      <th>v</th>\n",
       "      <th>l</th>\n",
       "      <th>d</th>\n",
       "      <th>i</th>\n",
       "      <th>...</th>\n",
       "      <th>lOCode</th>\n",
       "      <th>lOComment</th>\n",
       "      <th>lOBlank</th>\n",
       "      <th>locCodeAndComment</th>\n",
       "      <th>uniq_Op</th>\n",
       "      <th>uniq_Opnd</th>\n",
       "      <th>total_Op</th>\n",
       "      <th>total_Opnd</th>\n",
       "      <th>branchCount</th>\n",
       "      <th>defects</th>\n",
       "    </tr>\n",
       "  </thead>\n",
       "  <tbody>\n",
       "    <tr>\n",
       "      <th>0</th>\n",
       "      <td>1</td>\n",
       "      <td>1.1</td>\n",
       "      <td>1.4</td>\n",
       "      <td>1.4</td>\n",
       "      <td>1.4</td>\n",
       "      <td>1.3</td>\n",
       "      <td>1.30</td>\n",
       "      <td>1.30</td>\n",
       "      <td>1.30</td>\n",
       "      <td>1.30</td>\n",
       "      <td>...</td>\n",
       "      <td>2</td>\n",
       "      <td>2</td>\n",
       "      <td>2</td>\n",
       "      <td>2</td>\n",
       "      <td>1.2</td>\n",
       "      <td>1.2</td>\n",
       "      <td>1.2</td>\n",
       "      <td>1.2</td>\n",
       "      <td>1.4</td>\n",
       "      <td>False</td>\n",
       "    </tr>\n",
       "    <tr>\n",
       "      <th>1</th>\n",
       "      <td>2</td>\n",
       "      <td>1.0</td>\n",
       "      <td>1.0</td>\n",
       "      <td>1.0</td>\n",
       "      <td>1.0</td>\n",
       "      <td>1.0</td>\n",
       "      <td>1.00</td>\n",
       "      <td>1.00</td>\n",
       "      <td>1.00</td>\n",
       "      <td>1.00</td>\n",
       "      <td>...</td>\n",
       "      <td>1</td>\n",
       "      <td>1</td>\n",
       "      <td>1</td>\n",
       "      <td>1</td>\n",
       "      <td>1.0</td>\n",
       "      <td>1.0</td>\n",
       "      <td>1.0</td>\n",
       "      <td>1.0</td>\n",
       "      <td>1.0</td>\n",
       "      <td>True</td>\n",
       "    </tr>\n",
       "    <tr>\n",
       "      <th>2</th>\n",
       "      <td>3</td>\n",
       "      <td>24.0</td>\n",
       "      <td>5.0</td>\n",
       "      <td>1.0</td>\n",
       "      <td>3.0</td>\n",
       "      <td>63.0</td>\n",
       "      <td>309.13</td>\n",
       "      <td>0.11</td>\n",
       "      <td>9.50</td>\n",
       "      <td>32.54</td>\n",
       "      <td>...</td>\n",
       "      <td>1</td>\n",
       "      <td>0</td>\n",
       "      <td>6</td>\n",
       "      <td>0</td>\n",
       "      <td>15.0</td>\n",
       "      <td>15.0</td>\n",
       "      <td>44.0</td>\n",
       "      <td>19.0</td>\n",
       "      <td>9.0</td>\n",
       "      <td>False</td>\n",
       "    </tr>\n",
       "    <tr>\n",
       "      <th>3</th>\n",
       "      <td>4</td>\n",
       "      <td>20.0</td>\n",
       "      <td>4.0</td>\n",
       "      <td>4.0</td>\n",
       "      <td>2.0</td>\n",
       "      <td>47.0</td>\n",
       "      <td>215.49</td>\n",
       "      <td>0.06</td>\n",
       "      <td>16.00</td>\n",
       "      <td>13.47</td>\n",
       "      <td>...</td>\n",
       "      <td>0</td>\n",
       "      <td>0</td>\n",
       "      <td>3</td>\n",
       "      <td>0</td>\n",
       "      <td>16.0</td>\n",
       "      <td>8.0</td>\n",
       "      <td>31.0</td>\n",
       "      <td>16.0</td>\n",
       "      <td>7.0</td>\n",
       "      <td>False</td>\n",
       "    </tr>\n",
       "    <tr>\n",
       "      <th>4</th>\n",
       "      <td>5</td>\n",
       "      <td>24.0</td>\n",
       "      <td>6.0</td>\n",
       "      <td>6.0</td>\n",
       "      <td>2.0</td>\n",
       "      <td>72.0</td>\n",
       "      <td>346.13</td>\n",
       "      <td>0.06</td>\n",
       "      <td>17.33</td>\n",
       "      <td>19.97</td>\n",
       "      <td>...</td>\n",
       "      <td>0</td>\n",
       "      <td>0</td>\n",
       "      <td>3</td>\n",
       "      <td>0</td>\n",
       "      <td>16.0</td>\n",
       "      <td>12.0</td>\n",
       "      <td>46.0</td>\n",
       "      <td>26.0</td>\n",
       "      <td>11.0</td>\n",
       "      <td>False</td>\n",
       "    </tr>\n",
       "  </tbody>\n",
       "</table>\n",
       "<p>5 rows × 23 columns</p>\n",
       "</div>"
      ],
      "text/plain": [
       "   id   loc  v(g)  ev(g)  iv(g)     n       v     l      d      i  ...  \\\n",
       "0   1   1.1   1.4    1.4    1.4   1.3    1.30  1.30   1.30   1.30  ...   \n",
       "1   2   1.0   1.0    1.0    1.0   1.0    1.00  1.00   1.00   1.00  ...   \n",
       "2   3  24.0   5.0    1.0    3.0  63.0  309.13  0.11   9.50  32.54  ...   \n",
       "3   4  20.0   4.0    4.0    2.0  47.0  215.49  0.06  16.00  13.47  ...   \n",
       "4   5  24.0   6.0    6.0    2.0  72.0  346.13  0.06  17.33  19.97  ...   \n",
       "\n",
       "   lOCode  lOComment  lOBlank  locCodeAndComment  uniq_Op  uniq_Opnd  \\\n",
       "0       2          2        2                  2      1.2        1.2   \n",
       "1       1          1        1                  1      1.0        1.0   \n",
       "2       1          0        6                  0     15.0       15.0   \n",
       "3       0          0        3                  0     16.0        8.0   \n",
       "4       0          0        3                  0     16.0       12.0   \n",
       "\n",
       "   total_Op  total_Opnd  branchCount  defects  \n",
       "0       1.2         1.2          1.4    False  \n",
       "1       1.0         1.0          1.0     True  \n",
       "2      44.0        19.0          9.0    False  \n",
       "3      31.0        16.0          7.0    False  \n",
       "4      46.0        26.0         11.0    False  \n",
       "\n",
       "[5 rows x 23 columns]"
      ]
     },
     "execution_count": 7,
     "metadata": {},
     "output_type": "execute_result"
    }
   ],
   "source": [
    "df.head()"
   ]
  },
  {
   "cell_type": "code",
   "execution_count": 8,
   "id": "733e95eb",
   "metadata": {
    "execution": {
     "iopub.execute_input": "2021-04-04T23:17:12.702199Z",
     "iopub.status.busy": "2021-04-04T23:17:12.701531Z",
     "iopub.status.idle": "2021-04-04T23:17:12.703983Z",
     "shell.execute_reply": "2021-04-04T23:17:12.704891Z"
    },
    "papermill": {
     "duration": 0.030312,
     "end_time": "2021-04-04T23:17:12.705095",
     "exception": false,
     "start_time": "2021-04-04T23:17:12.674783",
     "status": "completed"
    },
    "tags": []
   },
   "outputs": [],
   "source": [
    "del df['id']"
   ]
  },
  {
   "cell_type": "code",
   "execution_count": 9,
   "id": "6ff6f5b0",
   "metadata": {
    "execution": {
     "iopub.execute_input": "2021-04-04T23:17:12.766587Z",
     "iopub.status.busy": "2021-04-04T23:17:12.765591Z",
     "iopub.status.idle": "2021-04-04T23:17:12.768317Z",
     "shell.execute_reply": "2021-04-04T23:17:12.769085Z"
    },
    "papermill": {
     "duration": 0.035827,
     "end_time": "2021-04-04T23:17:12.769359",
     "exception": false,
     "start_time": "2021-04-04T23:17:12.733532",
     "status": "completed"
    },
    "tags": []
   },
   "outputs": [],
   "source": [
    "if PROFILE_REPORTING:\n",
    "    ProfileReport(df).to_widgets()"
   ]
  },
  {
   "cell_type": "markdown",
   "id": "1deaf3f0",
   "metadata": {
    "papermill": {
     "duration": 0.023008,
     "end_time": "2021-04-04T23:17:12.819832",
     "exception": false,
     "start_time": "2021-04-04T23:17:12.796824",
     "status": "completed"
    },
    "tags": []
   },
   "source": [
    "# Preprocess"
   ]
  },
  {
   "cell_type": "code",
   "execution_count": 10,
   "id": "1513e563",
   "metadata": {
    "execution": {
     "iopub.execute_input": "2021-04-04T23:17:12.867117Z",
     "iopub.status.busy": "2021-04-04T23:17:12.866264Z",
     "iopub.status.idle": "2021-04-04T23:17:12.868922Z",
     "shell.execute_reply": "2021-04-04T23:17:12.868408Z"
    },
    "papermill": {
     "duration": 0.027366,
     "end_time": "2021-04-04T23:17:12.869039",
     "exception": false,
     "start_time": "2021-04-04T23:17:12.841673",
     "status": "completed"
    },
    "tags": []
   },
   "outputs": [],
   "source": [
    "working_df = df.copy()"
   ]
  },
  {
   "cell_type": "code",
   "execution_count": 11,
   "id": "3b26d675",
   "metadata": {
    "execution": {
     "iopub.execute_input": "2021-04-04T23:17:12.919469Z",
     "iopub.status.busy": "2021-04-04T23:17:12.918548Z",
     "iopub.status.idle": "2021-04-04T23:17:12.921297Z",
     "shell.execute_reply": "2021-04-04T23:17:12.920682Z"
    },
    "papermill": {
     "duration": 0.02952,
     "end_time": "2021-04-04T23:17:12.921416",
     "exception": false,
     "start_time": "2021-04-04T23:17:12.891896",
     "status": "completed"
    },
    "tags": []
   },
   "outputs": [],
   "source": [
    "working_df['defects'] = working_df['defects'].replace([False, True], [0, 1])"
   ]
  },
  {
   "cell_type": "code",
   "execution_count": 12,
   "id": "eb48604f",
   "metadata": {
    "execution": {
     "iopub.execute_input": "2021-04-04T23:17:12.970965Z",
     "iopub.status.busy": "2021-04-04T23:17:12.970284Z",
     "iopub.status.idle": "2021-04-04T23:17:12.972076Z",
     "shell.execute_reply": "2021-04-04T23:17:12.972544Z"
    },
    "papermill": {
     "duration": 0.027264,
     "end_time": "2021-04-04T23:17:12.972684",
     "exception": false,
     "start_time": "2021-04-04T23:17:12.945420",
     "status": "completed"
    },
    "tags": []
   },
   "outputs": [],
   "source": [
    "for col in dataset_config['delete_columns']:\n",
    "    del working_df[col]"
   ]
  },
  {
   "cell_type": "code",
   "execution_count": 13,
   "id": "9a17bc29",
   "metadata": {
    "execution": {
     "iopub.execute_input": "2021-04-04T23:17:13.024885Z",
     "iopub.status.busy": "2021-04-04T23:17:13.024068Z",
     "iopub.status.idle": "2021-04-04T23:17:13.032016Z",
     "shell.execute_reply": "2021-04-04T23:17:13.031312Z"
    },
    "papermill": {
     "duration": 0.035149,
     "end_time": "2021-04-04T23:17:13.032154",
     "exception": false,
     "start_time": "2021-04-04T23:17:12.997005",
     "status": "completed"
    },
    "tags": []
   },
   "outputs": [],
   "source": [
    "working_df = working_df.drop_duplicates()"
   ]
  },
  {
   "cell_type": "markdown",
   "id": "a4d52ca6",
   "metadata": {
    "papermill": {
     "duration": 0.02137,
     "end_time": "2021-04-04T23:17:13.080369",
     "exception": false,
     "start_time": "2021-04-04T23:17:13.058999",
     "status": "completed"
    },
    "tags": []
   },
   "source": [
    "# Split"
   ]
  },
  {
   "cell_type": "code",
   "execution_count": 14,
   "id": "3e9ee4b5",
   "metadata": {
    "execution": {
     "iopub.execute_input": "2021-04-04T23:17:13.129475Z",
     "iopub.status.busy": "2021-04-04T23:17:13.128057Z",
     "iopub.status.idle": "2021-04-04T23:17:13.162038Z",
     "shell.execute_reply": "2021-04-04T23:17:13.161138Z"
    },
    "papermill": {
     "duration": 0.06042,
     "end_time": "2021-04-04T23:17:13.162213",
     "exception": false,
     "start_time": "2021-04-04T23:17:13.101793",
     "status": "completed"
    },
    "tags": []
   },
   "outputs": [],
   "source": [
    "from sklearn.model_selection import train_test_split"
   ]
  },
  {
   "cell_type": "code",
   "execution_count": 15,
   "id": "274004ce",
   "metadata": {
    "execution": {
     "iopub.execute_input": "2021-04-04T23:17:13.218816Z",
     "iopub.status.busy": "2021-04-04T23:17:13.217340Z",
     "iopub.status.idle": "2021-04-04T23:17:13.223372Z",
     "shell.execute_reply": "2021-04-04T23:17:13.223856Z"
    },
    "papermill": {
     "duration": 0.033781,
     "end_time": "2021-04-04T23:17:13.224002",
     "exception": false,
     "start_time": "2021-04-04T23:17:13.190221",
     "status": "completed"
    },
    "scrolled": true,
    "tags": []
   },
   "outputs": [],
   "source": [
    "inlier, outlier = working_df[working_df['defects'] == 0], working_df[working_df['defects'] == 1]"
   ]
  },
  {
   "cell_type": "code",
   "execution_count": 16,
   "id": "753c7b03",
   "metadata": {
    "execution": {
     "iopub.execute_input": "2021-04-04T23:17:13.282162Z",
     "iopub.status.busy": "2021-04-04T23:17:13.281302Z",
     "iopub.status.idle": "2021-04-04T23:17:13.283708Z",
     "shell.execute_reply": "2021-04-04T23:17:13.284414Z"
    },
    "papermill": {
     "duration": 0.03132,
     "end_time": "2021-04-04T23:17:13.284612",
     "exception": false,
     "start_time": "2021-04-04T23:17:13.253292",
     "status": "completed"
    },
    "tags": []
   },
   "outputs": [],
   "source": [
    "X_inlier = inlier.copy()\n",
    "y_inlier = X_inlier.pop('defects')\n",
    "X_outlier = outlier.copy()\n",
    "y_outlier = X_outlier.pop('defects')"
   ]
  },
  {
   "cell_type": "code",
   "execution_count": 17,
   "id": "2ba43193",
   "metadata": {
    "execution": {
     "iopub.execute_input": "2021-04-04T23:17:13.348829Z",
     "iopub.status.busy": "2021-04-04T23:17:13.347609Z",
     "iopub.status.idle": "2021-04-04T23:17:13.352167Z",
     "shell.execute_reply": "2021-04-04T23:17:13.353007Z"
    },
    "papermill": {
     "duration": 0.035883,
     "end_time": "2021-04-04T23:17:13.353243",
     "exception": false,
     "start_time": "2021-04-04T23:17:13.317360",
     "status": "completed"
    },
    "tags": []
   },
   "outputs": [],
   "source": [
    "test_size = dataset_config['test_size']\n",
    "random_state = dataset_config['random_state']\n",
    "\n",
    "X_inlier_train, X_inlier_test, y_inlier_train, y_inlier_test = train_test_split(\n",
    "    X_inlier,\n",
    "    y_inlier,\n",
    "    test_size=test_size,\n",
    "    random_state=random_state\n",
    ")"
   ]
  },
  {
   "cell_type": "code",
   "execution_count": 18,
   "id": "0b7582ca",
   "metadata": {
    "execution": {
     "iopub.execute_input": "2021-04-04T23:17:13.414404Z",
     "iopub.status.busy": "2021-04-04T23:17:13.413525Z",
     "iopub.status.idle": "2021-04-04T23:17:13.416181Z",
     "shell.execute_reply": "2021-04-04T23:17:13.417147Z"
    },
    "papermill": {
     "duration": 0.035524,
     "end_time": "2021-04-04T23:17:13.417373",
     "exception": false,
     "start_time": "2021-04-04T23:17:13.381849",
     "status": "completed"
    },
    "tags": []
   },
   "outputs": [],
   "source": [
    "test_outlier_size = dataset_config['test_outlier_size']\n",
    "if test_outlier_size > 0.0:\n",
    "    X_outlier_train, X_outlier_test, y_outlier_train, y_outlier_test = train_test_split(\n",
    "        X_outlier,\n",
    "        y_outlier,\n",
    "        test_size=test_outlier_size,\n",
    "        random_state=random_state\n",
    "    )\n",
    "else:\n",
    "    X_outlier_train, y_outlier_train = pd.DataFrame(columns=X_outlier.columns), pd.Series(dtype='int64')\n",
    "    X_outlier_test, y_outlier_test = X_outlier.copy(), y_outlier.copy()"
   ]
  },
  {
   "cell_type": "code",
   "execution_count": 19,
   "id": "c34363db",
   "metadata": {
    "execution": {
     "iopub.execute_input": "2021-04-04T23:17:13.478138Z",
     "iopub.status.busy": "2021-04-04T23:17:13.474773Z",
     "iopub.status.idle": "2021-04-04T23:17:13.481208Z",
     "shell.execute_reply": "2021-04-04T23:17:13.480508Z"
    },
    "papermill": {
     "duration": 0.035414,
     "end_time": "2021-04-04T23:17:13.481358",
     "exception": false,
     "start_time": "2021-04-04T23:17:13.445944",
     "status": "completed"
    },
    "tags": []
   },
   "outputs": [],
   "source": [
    "X_train, y_train = pd.concat([X_inlier_train, X_outlier_train], ignore_index=True), pd.concat([y_inlier_train, y_outlier_train], ignore_index=True)\n",
    "X_test, y_test = pd.concat([X_inlier_test, X_outlier_test], ignore_index=True), pd.concat([y_inlier_test, y_outlier_test], ignore_index=True)"
   ]
  },
  {
   "cell_type": "markdown",
   "id": "7cde7309",
   "metadata": {
    "papermill": {
     "duration": 0.022172,
     "end_time": "2021-04-04T23:17:13.527386",
     "exception": false,
     "start_time": "2021-04-04T23:17:13.505214",
     "status": "completed"
    },
    "tags": []
   },
   "source": [
    "# Model"
   ]
  },
  {
   "cell_type": "code",
   "execution_count": 20,
   "id": "2b12a415",
   "metadata": {
    "execution": {
     "iopub.execute_input": "2021-04-04T23:17:13.585718Z",
     "iopub.status.busy": "2021-04-04T23:17:13.585119Z",
     "iopub.status.idle": "2021-04-04T23:17:13.587503Z",
     "shell.execute_reply": "2021-04-04T23:17:13.587998Z"
    },
    "papermill": {
     "duration": 0.038404,
     "end_time": "2021-04-04T23:17:13.588145",
     "exception": false,
     "start_time": "2021-04-04T23:17:13.549741",
     "status": "completed"
    },
    "tags": []
   },
   "outputs": [],
   "source": [
    "from math import sqrt\n",
    "\n",
    "\n",
    "class KNNDataDescription:\n",
    "    def __init__(self, k=5, outlier_threshold=1.0):\n",
    "        self.k = k\n",
    "        self.outlier_threshold = outlier_threshold\n",
    "        self.X = []\n",
    "    \n",
    "    def fit(self, X):\n",
    "        self.X = [features.to_list() for index, features in X.iterrows()]\n",
    "\n",
    "    def predict(self, entries):\n",
    "        return [self.predict_entry(features.to_list()) for index, features in entries.iterrows()]\n",
    "    \n",
    "    def predict_entry(self, entry):\n",
    "        kth_neighbor, kth_distance = self.get_kth_neighbor(entry, self.k)\n",
    "        kth_kth_neighbor, kth_kth_distance = self.get_kth_neighbor(kth_neighbor, self.k + 1)\n",
    "\n",
    "        outlier_score = kth_distance / (kth_kth_distance + 0.000001)\n",
    "\n",
    "        return 1 if outlier_score < self.outlier_threshold else -1\n",
    "        \n",
    "    def euclidean_distance(self, features1, features2):\n",
    "        distance = 0.0\n",
    "        for feat1, feat2 in zip(features1, features2):\n",
    "            distance += (feat1 - feat2)**2\n",
    "                \n",
    "        return sqrt(distance)\n",
    "\n",
    "    def get_neighbors(self, entry, k):\n",
    "        distance_to_data_points = [\n",
    "            (data_point, self.euclidean_distance(entry, data_point))\n",
    "            for data_point in self.X\n",
    "        ]\n",
    "        sorted_by_distance = sorted(distance_to_data_points, key=lambda tup: tup[1])\n",
    "        neighbors = sorted_by_distance[:k]\n",
    "        return neighbors\n",
    "\n",
    "    def get_kth_neighbor(self, entry, k):\n",
    "        neighbors = self.get_neighbors(entry, k)\n",
    "        return neighbors[-1]\n"
   ]
  },
  {
   "cell_type": "code",
   "execution_count": 21,
   "id": "1fa9ec1c",
   "metadata": {
    "execution": {
     "iopub.execute_input": "2021-04-04T23:17:13.637927Z",
     "iopub.status.busy": "2021-04-04T23:17:13.637190Z",
     "iopub.status.idle": "2021-04-04T23:17:13.662387Z",
     "shell.execute_reply": "2021-04-04T23:17:13.661505Z"
    },
    "papermill": {
     "duration": 0.052128,
     "end_time": "2021-04-04T23:17:13.662561",
     "exception": false,
     "start_time": "2021-04-04T23:17:13.610433",
     "status": "completed"
    },
    "tags": []
   },
   "outputs": [],
   "source": [
    "from sklearn.svm import OneClassSVM\n",
    "\n",
    "\n",
    "models = {\n",
    "    'oneclasssvm': OneClassSVM,\n",
    "    'knndatadescription': KNNDataDescription,\n",
    "}"
   ]
  },
  {
   "cell_type": "code",
   "execution_count": 22,
   "id": "4d72a0b1",
   "metadata": {
    "execution": {
     "iopub.execute_input": "2021-04-04T23:17:13.719509Z",
     "iopub.status.busy": "2021-04-04T23:17:13.718728Z",
     "iopub.status.idle": "2021-04-04T23:17:13.721286Z",
     "shell.execute_reply": "2021-04-04T23:17:13.721735Z"
    },
    "papermill": {
     "duration": 0.030048,
     "end_time": "2021-04-04T23:17:13.721881",
     "exception": false,
     "start_time": "2021-04-04T23:17:13.691833",
     "status": "completed"
    },
    "scrolled": true,
    "tags": []
   },
   "outputs": [],
   "source": [
    "model_cls = models[model_config['model_type']]\n",
    "model = model_cls(**model_config['hyperparameters'])"
   ]
  },
  {
   "cell_type": "markdown",
   "id": "e00cff3b",
   "metadata": {
    "papermill": {
     "duration": 0.025015,
     "end_time": "2021-04-04T23:17:13.776631",
     "exception": false,
     "start_time": "2021-04-04T23:17:13.751616",
     "status": "completed"
    },
    "tags": []
   },
   "source": [
    "# Fit"
   ]
  },
  {
   "cell_type": "code",
   "execution_count": 23,
   "id": "8b2ded89",
   "metadata": {
    "execution": {
     "iopub.execute_input": "2021-04-04T23:17:13.831440Z",
     "iopub.status.busy": "2021-04-04T23:17:13.828330Z",
     "iopub.status.idle": "2021-04-04T23:17:13.842227Z",
     "shell.execute_reply": "2021-04-04T23:17:13.843057Z"
    },
    "papermill": {
     "duration": 0.04387,
     "end_time": "2021-04-04T23:17:13.843277",
     "exception": false,
     "start_time": "2021-04-04T23:17:13.799407",
     "status": "completed"
    },
    "tags": []
   },
   "outputs": [
    {
     "data": {
      "text/plain": [
       "OneClassSVM()"
      ]
     },
     "execution_count": 23,
     "metadata": {},
     "output_type": "execute_result"
    }
   ],
   "source": [
    "model.fit(X_train)"
   ]
  },
  {
   "cell_type": "markdown",
   "id": "f99999f7",
   "metadata": {
    "papermill": {
     "duration": 0.023083,
     "end_time": "2021-04-04T23:17:13.895100",
     "exception": false,
     "start_time": "2021-04-04T23:17:13.872017",
     "status": "completed"
    },
    "tags": []
   },
   "source": [
    "# Predict"
   ]
  },
  {
   "cell_type": "code",
   "execution_count": 24,
   "id": "6536fbf7",
   "metadata": {
    "execution": {
     "iopub.execute_input": "2021-04-04T23:17:13.948406Z",
     "iopub.status.busy": "2021-04-04T23:17:13.945166Z",
     "iopub.status.idle": "2021-04-04T23:17:13.955016Z",
     "shell.execute_reply": "2021-04-04T23:17:13.955743Z"
    },
    "papermill": {
     "duration": 0.037764,
     "end_time": "2021-04-04T23:17:13.955952",
     "exception": false,
     "start_time": "2021-04-04T23:17:13.918188",
     "status": "completed"
    },
    "tags": []
   },
   "outputs": [],
   "source": [
    "predictions = model.predict(X_test)"
   ]
  },
  {
   "cell_type": "markdown",
   "id": "aa1c9881",
   "metadata": {
    "papermill": {
     "duration": 0.022768,
     "end_time": "2021-04-04T23:17:14.005808",
     "exception": false,
     "start_time": "2021-04-04T23:17:13.983040",
     "status": "completed"
    },
    "tags": []
   },
   "source": [
    "# Evaluate"
   ]
  },
  {
   "cell_type": "code",
   "execution_count": 25,
   "id": "894f0f04",
   "metadata": {
    "execution": {
     "iopub.execute_input": "2021-04-04T23:17:14.057399Z",
     "iopub.status.busy": "2021-04-04T23:17:14.056398Z",
     "iopub.status.idle": "2021-04-04T23:17:14.059106Z",
     "shell.execute_reply": "2021-04-04T23:17:14.059835Z"
    },
    "papermill": {
     "duration": 0.030826,
     "end_time": "2021-04-04T23:17:14.060071",
     "exception": false,
     "start_time": "2021-04-04T23:17:14.029245",
     "status": "completed"
    },
    "tags": []
   },
   "outputs": [],
   "source": [
    "from sklearn.metrics import f1_score"
   ]
  },
  {
   "cell_type": "code",
   "execution_count": 26,
   "id": "211744d3",
   "metadata": {
    "execution": {
     "iopub.execute_input": "2021-04-04T23:17:14.114745Z",
     "iopub.status.busy": "2021-04-04T23:17:14.114020Z",
     "iopub.status.idle": "2021-04-04T23:17:14.117310Z",
     "shell.execute_reply": "2021-04-04T23:17:14.116402Z"
    },
    "papermill": {
     "duration": 0.031595,
     "end_time": "2021-04-04T23:17:14.117475",
     "exception": false,
     "start_time": "2021-04-04T23:17:14.085880",
     "status": "completed"
    },
    "tags": []
   },
   "outputs": [],
   "source": [
    "y_test = y_test.replace([0, 1], [1, -1])"
   ]
  },
  {
   "cell_type": "code",
   "execution_count": 27,
   "id": "d68a9204",
   "metadata": {
    "execution": {
     "iopub.execute_input": "2021-04-04T23:17:14.177353Z",
     "iopub.status.busy": "2021-04-04T23:17:14.176630Z",
     "iopub.status.idle": "2021-04-04T23:17:14.179158Z",
     "shell.execute_reply": "2021-04-04T23:17:14.179729Z"
    },
    "papermill": {
     "duration": 0.035494,
     "end_time": "2021-04-04T23:17:14.179899",
     "exception": false,
     "start_time": "2021-04-04T23:17:14.144405",
     "status": "completed"
    },
    "tags": []
   },
   "outputs": [],
   "source": [
    "def evaluate(truths, predictions, pos_label, neg_label):\n",
    "    TP = 0\n",
    "    FP = 0\n",
    "    TN = 0\n",
    "    FN = 0\n",
    "\n",
    "    for truth, pred in zip(truths, predictions): \n",
    "        if truth == pred == pos_label:\n",
    "           TP += 1\n",
    "        elif pred == pos_label and truth == neg_label:\n",
    "           FP += 1\n",
    "        elif truth == pred == neg_label:\n",
    "           TN += 1\n",
    "        elif pred == neg_label and truth == pos_label:\n",
    "           FN += 1\n",
    "\n",
    "    precision = TP / (TP + FP)\n",
    "    sensitivity = TP / (TP + FN)\n",
    "    \n",
    "    return {\n",
    "        'true_pos': TP,\n",
    "        'false_pos': FP,\n",
    "        'false_neg': FN,\n",
    "        'true_neg': TN,\n",
    "        'precision': precision,\n",
    "        'sensitivity': sensitivity,\n",
    "        'f1': (2 * (precision * sensitivity)) / (precision + sensitivity)\n",
    "    }\n",
    "\n",
    "score = evaluate(y_test, predictions, pos_label=-1, neg_label=1)"
   ]
  },
  {
   "cell_type": "markdown",
   "id": "93596516",
   "metadata": {
    "papermill": {
     "duration": 0.023394,
     "end_time": "2021-04-04T23:17:14.229019",
     "exception": false,
     "start_time": "2021-04-04T23:17:14.205625",
     "status": "completed"
    },
    "tags": []
   },
   "source": [
    "# Report"
   ]
  },
  {
   "cell_type": "code",
   "execution_count": 28,
   "id": "bea5fba1",
   "metadata": {
    "execution": {
     "iopub.execute_input": "2021-04-04T23:17:14.282698Z",
     "iopub.status.busy": "2021-04-04T23:17:14.282101Z",
     "iopub.status.idle": "2021-04-04T23:17:14.285185Z",
     "shell.execute_reply": "2021-04-04T23:17:14.285878Z"
    },
    "papermill": {
     "duration": 0.033264,
     "end_time": "2021-04-04T23:17:14.286075",
     "exception": false,
     "start_time": "2021-04-04T23:17:14.252811",
     "status": "completed"
    },
    "tags": []
   },
   "outputs": [],
   "source": [
    "import csv\n",
    "\n",
    "\n",
    "dataset_config_name = DATASET_CONFIG_PATH.split('/')[-1].split('.')[0]\n",
    "model_config_name = MODEL_CONFIG_PATH.split('/')[-1].split('.')[0]\n",
    "configuration = f\"dataset_{dataset_config_name}-model_{model_config_name}\"\n",
    "\n",
    "with open('results.csv', 'a') as f:\n",
    "    report = dict({'configuration': configuration}, **score)\n",
    "    writer = csv.DictWriter(f, report.keys())\n",
    "    writer.writerow(report)"
   ]
  }
 ],
 "metadata": {
  "celltoolbar": "Tags",
  "kernelspec": {
   "display_name": "Python 3",
   "language": "python",
   "name": "python3"
  },
  "language_info": {
   "codemirror_mode": {
    "name": "ipython",
    "version": 3
   },
   "file_extension": ".py",
   "mimetype": "text/x-python",
   "name": "python",
   "nbconvert_exporter": "python",
   "pygments_lexer": "ipython3",
   "version": "3.9.1"
  },
  "papermill": {
   "default_parameters": {},
   "duration": 4.783324,
   "end_time": "2021-04-04T23:17:14.930164",
   "environment_variables": {},
   "exception": null,
   "input_path": "main.ipynb",
   "output_path": "runs/dataset_000111-model_000004.ipynb",
   "parameters": {
    "DATASET_CONFIG_PATH": "config/dataset/000111.json",
    "MODEL_CONFIG_PATH": "config/model/000004.json",
    "PROFILE_REPORTING": false
   },
   "start_time": "2021-04-04T23:17:10.146840",
   "version": "2.3.3"
  }
 },
 "nbformat": 4,
 "nbformat_minor": 5
}