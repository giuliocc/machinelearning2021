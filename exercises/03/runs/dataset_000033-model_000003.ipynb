{
 "cells": [
  {
   "cell_type": "markdown",
   "id": "51c71c25",
   "metadata": {
    "papermill": {
     "duration": 0.04127,
     "end_time": "2021-04-04T22:39:35.127476",
     "exception": false,
     "start_time": "2021-04-04T22:39:35.086206",
     "status": "completed"
    },
    "tags": []
   },
   "source": [
    "# Parametrizing"
   ]
  },
  {
   "cell_type": "code",
   "execution_count": 1,
   "id": "3b136394",
   "metadata": {
    "execution": {
     "iopub.execute_input": "2021-04-04T22:39:35.194787Z",
     "iopub.status.busy": "2021-04-04T22:39:35.192664Z",
     "iopub.status.idle": "2021-04-04T22:39:35.197167Z",
     "shell.execute_reply": "2021-04-04T22:39:35.197752Z"
    },
    "papermill": {
     "duration": 0.044485,
     "end_time": "2021-04-04T22:39:35.198015",
     "exception": false,
     "start_time": "2021-04-04T22:39:35.153530",
     "status": "completed"
    },
    "tags": [
     "parameters"
    ]
   },
   "outputs": [],
   "source": [
    "DATASET_CONFIG_PATH = 'config/dataset/kc1_001.json'\n",
    "MODEL_CONFIG_PATH = 'config/model/knndd_001.json'\n",
    "PROFILE_REPORTING = False"
   ]
  },
  {
   "cell_type": "code",
   "execution_count": 2,
   "id": "6d4c2cd9",
   "metadata": {
    "execution": {
     "iopub.execute_input": "2021-04-04T22:39:35.249567Z",
     "iopub.status.busy": "2021-04-04T22:39:35.247364Z",
     "iopub.status.idle": "2021-04-04T22:39:35.250601Z",
     "shell.execute_reply": "2021-04-04T22:39:35.251188Z"
    },
    "papermill": {
     "duration": 0.030374,
     "end_time": "2021-04-04T22:39:35.251374",
     "exception": false,
     "start_time": "2021-04-04T22:39:35.221000",
     "status": "completed"
    },
    "tags": [
     "injected-parameters"
    ]
   },
   "outputs": [],
   "source": [
    "# Parameters\n",
    "DATASET_CONFIG_PATH = \"config/dataset/000033.json\"\n",
    "MODEL_CONFIG_PATH = \"config/model/000003.json\"\n",
    "PROFILE_REPORTING = False\n"
   ]
  },
  {
   "cell_type": "code",
   "execution_count": 3,
   "id": "b80f2a10",
   "metadata": {
    "execution": {
     "iopub.execute_input": "2021-04-04T22:39:35.307209Z",
     "iopub.status.busy": "2021-04-04T22:39:35.306421Z",
     "iopub.status.idle": "2021-04-04T22:39:35.309409Z",
     "shell.execute_reply": "2021-04-04T22:39:35.309959Z"
    },
    "papermill": {
     "duration": 0.037194,
     "end_time": "2021-04-04T22:39:35.310124",
     "exception": false,
     "start_time": "2021-04-04T22:39:35.272930",
     "status": "completed"
    },
    "tags": []
   },
   "outputs": [],
   "source": [
    "import json\n",
    "\n",
    "\n",
    "with open(DATASET_CONFIG_PATH) as f:\n",
    "    dataset_config = json.load(f)\n",
    "\n",
    "with open(MODEL_CONFIG_PATH) as f:\n",
    "    model_config = json.load(f)"
   ]
  },
  {
   "cell_type": "markdown",
   "id": "9a4b0e2d",
   "metadata": {
    "papermill": {
     "duration": 0.026879,
     "end_time": "2021-04-04T22:39:35.358075",
     "exception": false,
     "start_time": "2021-04-04T22:39:35.331196",
     "status": "completed"
    },
    "tags": []
   },
   "source": [
    "# Profiling"
   ]
  },
  {
   "cell_type": "code",
   "execution_count": 4,
   "id": "a3e0289b",
   "metadata": {
    "execution": {
     "iopub.execute_input": "2021-04-04T22:39:35.419194Z",
     "iopub.status.busy": "2021-04-04T22:39:35.418440Z",
     "iopub.status.idle": "2021-04-04T22:39:37.201404Z",
     "shell.execute_reply": "2021-04-04T22:39:37.203162Z"
    },
    "papermill": {
     "duration": 1.81751,
     "end_time": "2021-04-04T22:39:37.203348",
     "exception": false,
     "start_time": "2021-04-04T22:39:35.385838",
     "status": "completed"
    },
    "tags": []
   },
   "outputs": [],
   "source": [
    "import pandas as pd\n",
    "from pandas_profiling import ProfileReport"
   ]
  },
  {
   "cell_type": "code",
   "execution_count": 5,
   "id": "ee6c0666",
   "metadata": {
    "execution": {
     "iopub.execute_input": "2021-04-04T22:39:37.264301Z",
     "iopub.status.busy": "2021-04-04T22:39:37.262656Z",
     "iopub.status.idle": "2021-04-04T22:39:37.274717Z",
     "shell.execute_reply": "2021-04-04T22:39:37.274114Z"
    },
    "papermill": {
     "duration": 0.042615,
     "end_time": "2021-04-04T22:39:37.274837",
     "exception": false,
     "start_time": "2021-04-04T22:39:37.232222",
     "status": "completed"
    },
    "tags": []
   },
   "outputs": [],
   "source": [
    "df = pd.read_csv(dataset_config['dataset_path'])"
   ]
  },
  {
   "cell_type": "code",
   "execution_count": 6,
   "id": "7eca6c4a",
   "metadata": {
    "execution": {
     "iopub.execute_input": "2021-04-04T22:39:37.339904Z",
     "iopub.status.busy": "2021-04-04T22:39:37.329279Z",
     "iopub.status.idle": "2021-04-04T22:39:37.357349Z",
     "shell.execute_reply": "2021-04-04T22:39:37.356444Z"
    },
    "papermill": {
     "duration": 0.059291,
     "end_time": "2021-04-04T22:39:37.357586",
     "exception": false,
     "start_time": "2021-04-04T22:39:37.298295",
     "status": "completed"
    },
    "tags": []
   },
   "outputs": [
    {
     "name": "stdout",
     "output_type": "stream",
     "text": [
      "<class 'pandas.core.frame.DataFrame'>\n",
      "RangeIndex: 2109 entries, 0 to 2108\n",
      "Data columns (total 23 columns):\n",
      " #   Column             Non-Null Count  Dtype  \n",
      "---  ------             --------------  -----  \n",
      " 0   id                 2109 non-null   int64  \n",
      " 1   loc                2109 non-null   float64\n",
      " 2   v(g)               2109 non-null   float64\n",
      " 3   ev(g)              2109 non-null   float64\n",
      " 4   iv(g)              2109 non-null   float64\n",
      " 5   n                  2109 non-null   float64\n",
      " 6   v                  2109 non-null   float64\n",
      " 7   l                  2109 non-null   float64\n",
      " 8   d                  2109 non-null   float64\n",
      " 9   i                  2109 non-null   float64\n",
      " 10  e                  2109 non-null   float64\n",
      " 11  b                  2109 non-null   float64\n",
      " 12  t                  2109 non-null   float64\n",
      " 13  lOCode             2109 non-null   int64  \n",
      " 14  lOComment          2109 non-null   int64  \n",
      " 15  lOBlank            2109 non-null   int64  \n",
      " 16  locCodeAndComment  2109 non-null   int64  \n",
      " 17  uniq_Op            2109 non-null   float64\n",
      " 18  uniq_Opnd          2109 non-null   float64\n",
      " 19  total_Op           2109 non-null   float64\n",
      " 20  total_Opnd         2109 non-null   float64\n",
      " 21  branchCount        2109 non-null   float64\n",
      " 22  defects            2109 non-null   bool   \n",
      "dtypes: bool(1), float64(17), int64(5)\n",
      "memory usage: 364.7 KB\n"
     ]
    }
   ],
   "source": [
    "df.info()"
   ]
  },
  {
   "cell_type": "code",
   "execution_count": 7,
   "id": "3638e5e8",
   "metadata": {
    "execution": {
     "iopub.execute_input": "2021-04-04T22:39:37.420225Z",
     "iopub.status.busy": "2021-04-04T22:39:37.419407Z",
     "iopub.status.idle": "2021-04-04T22:39:37.450440Z",
     "shell.execute_reply": "2021-04-04T22:39:37.449757Z"
    },
    "papermill": {
     "duration": 0.066022,
     "end_time": "2021-04-04T22:39:37.450579",
     "exception": false,
     "start_time": "2021-04-04T22:39:37.384557",
     "status": "completed"
    },
    "tags": []
   },
   "outputs": [
    {
     "data": {
      "text/html": [
       "<div>\n",
       "<style scoped>\n",
       "    .dataframe tbody tr th:only-of-type {\n",
       "        vertical-align: middle;\n",
       "    }\n",
       "\n",
       "    .dataframe tbody tr th {\n",
       "        vertical-align: top;\n",
       "    }\n",
       "\n",
       "    .dataframe thead th {\n",
       "        text-align: right;\n",
       "    }\n",
       "</style>\n",
       "<table border=\"1\" class=\"dataframe\">\n",
       "  <thead>\n",
       "    <tr style=\"text-align: right;\">\n",
       "      <th></th>\n",
       "      <th>id</th>\n",
       "      <th>loc</th>\n",
       "      <th>v(g)</th>\n",
       "      <th>ev(g)</th>\n",
       "      <th>iv(g)</th>\n",
       "      <th>n</th>\n",
       "      <th>v</th>\n",
       "      <th>l</th>\n",
       "      <th>d</th>\n",
       "      <th>i</th>\n",
       "      <th>...</th>\n",
       "      <th>lOCode</th>\n",
       "      <th>lOComment</th>\n",
       "      <th>lOBlank</th>\n",
       "      <th>locCodeAndComment</th>\n",
       "      <th>uniq_Op</th>\n",
       "      <th>uniq_Opnd</th>\n",
       "      <th>total_Op</th>\n",
       "      <th>total_Opnd</th>\n",
       "      <th>branchCount</th>\n",
       "      <th>defects</th>\n",
       "    </tr>\n",
       "  </thead>\n",
       "  <tbody>\n",
       "    <tr>\n",
       "      <th>0</th>\n",
       "      <td>1</td>\n",
       "      <td>1.1</td>\n",
       "      <td>1.4</td>\n",
       "      <td>1.4</td>\n",
       "      <td>1.4</td>\n",
       "      <td>1.3</td>\n",
       "      <td>1.30</td>\n",
       "      <td>1.30</td>\n",
       "      <td>1.30</td>\n",
       "      <td>1.30</td>\n",
       "      <td>...</td>\n",
       "      <td>2</td>\n",
       "      <td>2</td>\n",
       "      <td>2</td>\n",
       "      <td>2</td>\n",
       "      <td>1.2</td>\n",
       "      <td>1.2</td>\n",
       "      <td>1.2</td>\n",
       "      <td>1.2</td>\n",
       "      <td>1.4</td>\n",
       "      <td>False</td>\n",
       "    </tr>\n",
       "    <tr>\n",
       "      <th>1</th>\n",
       "      <td>2</td>\n",
       "      <td>1.0</td>\n",
       "      <td>1.0</td>\n",
       "      <td>1.0</td>\n",
       "      <td>1.0</td>\n",
       "      <td>1.0</td>\n",
       "      <td>1.00</td>\n",
       "      <td>1.00</td>\n",
       "      <td>1.00</td>\n",
       "      <td>1.00</td>\n",
       "      <td>...</td>\n",
       "      <td>1</td>\n",
       "      <td>1</td>\n",
       "      <td>1</td>\n",
       "      <td>1</td>\n",
       "      <td>1.0</td>\n",
       "      <td>1.0</td>\n",
       "      <td>1.0</td>\n",
       "      <td>1.0</td>\n",
       "      <td>1.0</td>\n",
       "      <td>True</td>\n",
       "    </tr>\n",
       "    <tr>\n",
       "      <th>2</th>\n",
       "      <td>3</td>\n",
       "      <td>83.0</td>\n",
       "      <td>11.0</td>\n",
       "      <td>1.0</td>\n",
       "      <td>11.0</td>\n",
       "      <td>171.0</td>\n",
       "      <td>927.89</td>\n",
       "      <td>0.04</td>\n",
       "      <td>23.04</td>\n",
       "      <td>40.27</td>\n",
       "      <td>...</td>\n",
       "      <td>65</td>\n",
       "      <td>10</td>\n",
       "      <td>6</td>\n",
       "      <td>0</td>\n",
       "      <td>18.0</td>\n",
       "      <td>25.0</td>\n",
       "      <td>107.0</td>\n",
       "      <td>64.0</td>\n",
       "      <td>21.0</td>\n",
       "      <td>True</td>\n",
       "    </tr>\n",
       "    <tr>\n",
       "      <th>3</th>\n",
       "      <td>4</td>\n",
       "      <td>46.0</td>\n",
       "      <td>8.0</td>\n",
       "      <td>6.0</td>\n",
       "      <td>8.0</td>\n",
       "      <td>141.0</td>\n",
       "      <td>769.78</td>\n",
       "      <td>0.07</td>\n",
       "      <td>14.86</td>\n",
       "      <td>51.81</td>\n",
       "      <td>...</td>\n",
       "      <td>37</td>\n",
       "      <td>2</td>\n",
       "      <td>5</td>\n",
       "      <td>0</td>\n",
       "      <td>16.0</td>\n",
       "      <td>28.0</td>\n",
       "      <td>89.0</td>\n",
       "      <td>52.0</td>\n",
       "      <td>15.0</td>\n",
       "      <td>True</td>\n",
       "    </tr>\n",
       "    <tr>\n",
       "      <th>4</th>\n",
       "      <td>5</td>\n",
       "      <td>25.0</td>\n",
       "      <td>3.0</td>\n",
       "      <td>1.0</td>\n",
       "      <td>3.0</td>\n",
       "      <td>58.0</td>\n",
       "      <td>254.75</td>\n",
       "      <td>0.11</td>\n",
       "      <td>9.35</td>\n",
       "      <td>27.25</td>\n",
       "      <td>...</td>\n",
       "      <td>21</td>\n",
       "      <td>0</td>\n",
       "      <td>2</td>\n",
       "      <td>0</td>\n",
       "      <td>11.0</td>\n",
       "      <td>10.0</td>\n",
       "      <td>41.0</td>\n",
       "      <td>17.0</td>\n",
       "      <td>5.0</td>\n",
       "      <td>True</td>\n",
       "    </tr>\n",
       "  </tbody>\n",
       "</table>\n",
       "<p>5 rows × 23 columns</p>\n",
       "</div>"
      ],
      "text/plain": [
       "   id   loc  v(g)  ev(g)  iv(g)      n       v     l      d      i  ...  \\\n",
       "0   1   1.1   1.4    1.4    1.4    1.3    1.30  1.30   1.30   1.30  ...   \n",
       "1   2   1.0   1.0    1.0    1.0    1.0    1.00  1.00   1.00   1.00  ...   \n",
       "2   3  83.0  11.0    1.0   11.0  171.0  927.89  0.04  23.04  40.27  ...   \n",
       "3   4  46.0   8.0    6.0    8.0  141.0  769.78  0.07  14.86  51.81  ...   \n",
       "4   5  25.0   3.0    1.0    3.0   58.0  254.75  0.11   9.35  27.25  ...   \n",
       "\n",
       "   lOCode  lOComment  lOBlank  locCodeAndComment  uniq_Op  uniq_Opnd  \\\n",
       "0       2          2        2                  2      1.2        1.2   \n",
       "1       1          1        1                  1      1.0        1.0   \n",
       "2      65         10        6                  0     18.0       25.0   \n",
       "3      37          2        5                  0     16.0       28.0   \n",
       "4      21          0        2                  0     11.0       10.0   \n",
       "\n",
       "   total_Op  total_Opnd  branchCount  defects  \n",
       "0       1.2         1.2          1.4    False  \n",
       "1       1.0         1.0          1.0     True  \n",
       "2     107.0        64.0         21.0     True  \n",
       "3      89.0        52.0         15.0     True  \n",
       "4      41.0        17.0          5.0     True  \n",
       "\n",
       "[5 rows x 23 columns]"
      ]
     },
     "execution_count": 7,
     "metadata": {},
     "output_type": "execute_result"
    }
   ],
   "source": [
    "df.head()"
   ]
  },
  {
   "cell_type": "code",
   "execution_count": 8,
   "id": "733e95eb",
   "metadata": {
    "execution": {
     "iopub.execute_input": "2021-04-04T22:39:37.509211Z",
     "iopub.status.busy": "2021-04-04T22:39:37.508343Z",
     "iopub.status.idle": "2021-04-04T22:39:37.510576Z",
     "shell.execute_reply": "2021-04-04T22:39:37.511115Z"
    },
    "papermill": {
     "duration": 0.037712,
     "end_time": "2021-04-04T22:39:37.511276",
     "exception": false,
     "start_time": "2021-04-04T22:39:37.473564",
     "status": "completed"
    },
    "tags": []
   },
   "outputs": [],
   "source": [
    "del df['id']"
   ]
  },
  {
   "cell_type": "code",
   "execution_count": 9,
   "id": "6ff6f5b0",
   "metadata": {
    "execution": {
     "iopub.execute_input": "2021-04-04T22:39:37.564575Z",
     "iopub.status.busy": "2021-04-04T22:39:37.563699Z",
     "iopub.status.idle": "2021-04-04T22:39:37.566530Z",
     "shell.execute_reply": "2021-04-04T22:39:37.566018Z"
    },
    "papermill": {
     "duration": 0.032071,
     "end_time": "2021-04-04T22:39:37.566651",
     "exception": false,
     "start_time": "2021-04-04T22:39:37.534580",
     "status": "completed"
    },
    "tags": []
   },
   "outputs": [],
   "source": [
    "if PROFILE_REPORTING:\n",
    "    ProfileReport(df).to_widgets()"
   ]
  },
  {
   "cell_type": "markdown",
   "id": "1deaf3f0",
   "metadata": {
    "papermill": {
     "duration": 0.030379,
     "end_time": "2021-04-04T22:39:37.620012",
     "exception": false,
     "start_time": "2021-04-04T22:39:37.589633",
     "status": "completed"
    },
    "tags": []
   },
   "source": [
    "# Preprocess"
   ]
  },
  {
   "cell_type": "code",
   "execution_count": 10,
   "id": "1513e563",
   "metadata": {
    "execution": {
     "iopub.execute_input": "2021-04-04T22:39:37.674458Z",
     "iopub.status.busy": "2021-04-04T22:39:37.673874Z",
     "iopub.status.idle": "2021-04-04T22:39:37.676216Z",
     "shell.execute_reply": "2021-04-04T22:39:37.676689Z"
    },
    "papermill": {
     "duration": 0.03169,
     "end_time": "2021-04-04T22:39:37.676856",
     "exception": false,
     "start_time": "2021-04-04T22:39:37.645166",
     "status": "completed"
    },
    "tags": []
   },
   "outputs": [],
   "source": [
    "working_df = df.copy()"
   ]
  },
  {
   "cell_type": "code",
   "execution_count": 11,
   "id": "3b26d675",
   "metadata": {
    "execution": {
     "iopub.execute_input": "2021-04-04T22:39:37.736909Z",
     "iopub.status.busy": "2021-04-04T22:39:37.735127Z",
     "iopub.status.idle": "2021-04-04T22:39:37.740931Z",
     "shell.execute_reply": "2021-04-04T22:39:37.741874Z"
    },
    "papermill": {
     "duration": 0.040089,
     "end_time": "2021-04-04T22:39:37.742175",
     "exception": false,
     "start_time": "2021-04-04T22:39:37.702086",
     "status": "completed"
    },
    "tags": []
   },
   "outputs": [],
   "source": [
    "working_df['defects'] = working_df['defects'].replace([False, True], [0, 1])"
   ]
  },
  {
   "cell_type": "code",
   "execution_count": 12,
   "id": "eb48604f",
   "metadata": {
    "execution": {
     "iopub.execute_input": "2021-04-04T22:39:37.797531Z",
     "iopub.status.busy": "2021-04-04T22:39:37.796349Z",
     "iopub.status.idle": "2021-04-04T22:39:37.799841Z",
     "shell.execute_reply": "2021-04-04T22:39:37.801094Z"
    },
    "papermill": {
     "duration": 0.031605,
     "end_time": "2021-04-04T22:39:37.801305",
     "exception": false,
     "start_time": "2021-04-04T22:39:37.769700",
     "status": "completed"
    },
    "tags": []
   },
   "outputs": [],
   "source": [
    "for col in dataset_config['delete_columns']:\n",
    "    del working_df[col]"
   ]
  },
  {
   "cell_type": "code",
   "execution_count": 13,
   "id": "9a17bc29",
   "metadata": {
    "execution": {
     "iopub.execute_input": "2021-04-04T22:39:37.862812Z",
     "iopub.status.busy": "2021-04-04T22:39:37.860400Z",
     "iopub.status.idle": "2021-04-04T22:39:37.878983Z",
     "shell.execute_reply": "2021-04-04T22:39:37.880430Z"
    },
    "papermill": {
     "duration": 0.055641,
     "end_time": "2021-04-04T22:39:37.880883",
     "exception": false,
     "start_time": "2021-04-04T22:39:37.825242",
     "status": "completed"
    },
    "tags": []
   },
   "outputs": [],
   "source": [
    "working_df = working_df.drop_duplicates()"
   ]
  },
  {
   "cell_type": "markdown",
   "id": "a4d52ca6",
   "metadata": {
    "papermill": {
     "duration": 0.05405,
     "end_time": "2021-04-04T22:39:37.968168",
     "exception": false,
     "start_time": "2021-04-04T22:39:37.914118",
     "status": "completed"
    },
    "tags": []
   },
   "source": [
    "# Split"
   ]
  },
  {
   "cell_type": "code",
   "execution_count": 14,
   "id": "3e9ee4b5",
   "metadata": {
    "execution": {
     "iopub.execute_input": "2021-04-04T22:39:38.068351Z",
     "iopub.status.busy": "2021-04-04T22:39:38.065996Z",
     "iopub.status.idle": "2021-04-04T22:39:38.117528Z",
     "shell.execute_reply": "2021-04-04T22:39:38.116617Z"
    },
    "papermill": {
     "duration": 0.101853,
     "end_time": "2021-04-04T22:39:38.117689",
     "exception": false,
     "start_time": "2021-04-04T22:39:38.015836",
     "status": "completed"
    },
    "tags": []
   },
   "outputs": [],
   "source": [
    "from sklearn.model_selection import train_test_split"
   ]
  },
  {
   "cell_type": "code",
   "execution_count": 15,
   "id": "274004ce",
   "metadata": {
    "execution": {
     "iopub.execute_input": "2021-04-04T22:39:38.190539Z",
     "iopub.status.busy": "2021-04-04T22:39:38.187603Z",
     "iopub.status.idle": "2021-04-04T22:39:38.194765Z",
     "shell.execute_reply": "2021-04-04T22:39:38.195352Z"
    },
    "papermill": {
     "duration": 0.053081,
     "end_time": "2021-04-04T22:39:38.195531",
     "exception": false,
     "start_time": "2021-04-04T22:39:38.142450",
     "status": "completed"
    },
    "scrolled": true,
    "tags": []
   },
   "outputs": [],
   "source": [
    "inlier, outlier = working_df[working_df['defects'] == 0], working_df[working_df['defects'] == 1]"
   ]
  },
  {
   "cell_type": "code",
   "execution_count": 16,
   "id": "753c7b03",
   "metadata": {
    "execution": {
     "iopub.execute_input": "2021-04-04T22:39:38.311219Z",
     "iopub.status.busy": "2021-04-04T22:39:38.308228Z",
     "iopub.status.idle": "2021-04-04T22:39:38.313740Z",
     "shell.execute_reply": "2021-04-04T22:39:38.314423Z"
    },
    "papermill": {
     "duration": 0.070988,
     "end_time": "2021-04-04T22:39:38.314617",
     "exception": false,
     "start_time": "2021-04-04T22:39:38.243629",
     "status": "completed"
    },
    "tags": []
   },
   "outputs": [],
   "source": [
    "X_inlier = inlier.copy()\n",
    "y_inlier = X_inlier.pop('defects')\n",
    "X_outlier = outlier.copy()\n",
    "y_outlier = X_outlier.pop('defects')"
   ]
  },
  {
   "cell_type": "code",
   "execution_count": 17,
   "id": "2ba43193",
   "metadata": {
    "execution": {
     "iopub.execute_input": "2021-04-04T22:39:38.406352Z",
     "iopub.status.busy": "2021-04-04T22:39:38.404404Z",
     "iopub.status.idle": "2021-04-04T22:39:38.413074Z",
     "shell.execute_reply": "2021-04-04T22:39:38.414217Z"
    },
    "papermill": {
     "duration": 0.066933,
     "end_time": "2021-04-04T22:39:38.414596",
     "exception": false,
     "start_time": "2021-04-04T22:39:38.347663",
     "status": "completed"
    },
    "tags": []
   },
   "outputs": [],
   "source": [
    "test_size = dataset_config['test_size']\n",
    "random_state = dataset_config['random_state']\n",
    "\n",
    "X_inlier_train, X_inlier_test, y_inlier_train, y_inlier_test = train_test_split(\n",
    "    X_inlier,\n",
    "    y_inlier,\n",
    "    test_size=test_size,\n",
    "    random_state=random_state\n",
    ")"
   ]
  },
  {
   "cell_type": "code",
   "execution_count": 18,
   "id": "0b7582ca",
   "metadata": {
    "execution": {
     "iopub.execute_input": "2021-04-04T22:39:38.498337Z",
     "iopub.status.busy": "2021-04-04T22:39:38.495758Z",
     "iopub.status.idle": "2021-04-04T22:39:38.500876Z",
     "shell.execute_reply": "2021-04-04T22:39:38.500180Z"
    },
    "papermill": {
     "duration": 0.047208,
     "end_time": "2021-04-04T22:39:38.501039",
     "exception": false,
     "start_time": "2021-04-04T22:39:38.453831",
     "status": "completed"
    },
    "tags": []
   },
   "outputs": [],
   "source": [
    "test_outlier_size = dataset_config['test_outlier_size']\n",
    "if test_outlier_size > 0.0:\n",
    "    X_outlier_train, X_outlier_test, y_outlier_train, y_outlier_test = train_test_split(\n",
    "        X_outlier,\n",
    "        y_outlier,\n",
    "        test_size=test_outlier_size,\n",
    "        random_state=random_state\n",
    "    )\n",
    "else:\n",
    "    X_outlier_train, y_outlier_train = pd.DataFrame(columns=X_outlier.columns), pd.Series(dtype='int64')\n",
    "    X_outlier_test, y_outlier_test = X_outlier.copy(), y_outlier.copy()"
   ]
  },
  {
   "cell_type": "code",
   "execution_count": 19,
   "id": "c34363db",
   "metadata": {
    "execution": {
     "iopub.execute_input": "2021-04-04T22:39:38.562717Z",
     "iopub.status.busy": "2021-04-04T22:39:38.562044Z",
     "iopub.status.idle": "2021-04-04T22:39:38.567820Z",
     "shell.execute_reply": "2021-04-04T22:39:38.568372Z"
    },
    "papermill": {
     "duration": 0.03612,
     "end_time": "2021-04-04T22:39:38.568559",
     "exception": false,
     "start_time": "2021-04-04T22:39:38.532439",
     "status": "completed"
    },
    "tags": []
   },
   "outputs": [],
   "source": [
    "X_train, y_train = pd.concat([X_inlier_train, X_outlier_train], ignore_index=True), pd.concat([y_inlier_train, y_outlier_train], ignore_index=True)\n",
    "X_test, y_test = pd.concat([X_inlier_test, X_outlier_test], ignore_index=True), pd.concat([y_inlier_test, y_outlier_test], ignore_index=True)"
   ]
  },
  {
   "cell_type": "markdown",
   "id": "7cde7309",
   "metadata": {
    "papermill": {
     "duration": 0.028716,
     "end_time": "2021-04-04T22:39:38.625192",
     "exception": false,
     "start_time": "2021-04-04T22:39:38.596476",
     "status": "completed"
    },
    "tags": []
   },
   "source": [
    "# Model"
   ]
  },
  {
   "cell_type": "code",
   "execution_count": 20,
   "id": "2b12a415",
   "metadata": {
    "execution": {
     "iopub.execute_input": "2021-04-04T22:39:38.687430Z",
     "iopub.status.busy": "2021-04-04T22:39:38.685673Z",
     "iopub.status.idle": "2021-04-04T22:39:38.708172Z",
     "shell.execute_reply": "2021-04-04T22:39:38.709348Z"
    },
    "papermill": {
     "duration": 0.058589,
     "end_time": "2021-04-04T22:39:38.709594",
     "exception": false,
     "start_time": "2021-04-04T22:39:38.651005",
     "status": "completed"
    },
    "tags": []
   },
   "outputs": [],
   "source": [
    "from math import sqrt\n",
    "\n",
    "\n",
    "class KNNDataDescription:\n",
    "    def __init__(self, k=5, outlier_threshold=1.0):\n",
    "        self.k = k\n",
    "        self.outlier_threshold = outlier_threshold\n",
    "        self.X = []\n",
    "    \n",
    "    def fit(self, X):\n",
    "        self.X = [features.to_list() for index, features in X.iterrows()]\n",
    "\n",
    "    def predict(self, entries):\n",
    "        return [self.predict_entry(features.to_list()) for index, features in entries.iterrows()]\n",
    "    \n",
    "    def predict_entry(self, entry):\n",
    "        kth_neighbor, kth_distance = self.get_kth_neighbor(entry, self.k)\n",
    "        kth_kth_neighbor, kth_kth_distance = self.get_kth_neighbor(kth_neighbor, self.k + 1)\n",
    "\n",
    "        outlier_score = kth_distance / (kth_kth_distance + 0.000001)\n",
    "\n",
    "        return 1 if outlier_score < self.outlier_threshold else -1\n",
    "        \n",
    "    def euclidean_distance(self, features1, features2):\n",
    "        distance = 0.0\n",
    "        for feat1, feat2 in zip(features1, features2):\n",
    "            distance += (feat1 - feat2)**2\n",
    "                \n",
    "        return sqrt(distance)\n",
    "\n",
    "    def get_neighbors(self, entry, k):\n",
    "        distance_to_data_points = [\n",
    "            (data_point, self.euclidean_distance(entry, data_point))\n",
    "            for data_point in self.X\n",
    "        ]\n",
    "        sorted_by_distance = sorted(distance_to_data_points, key=lambda tup: tup[1])\n",
    "        neighbors = sorted_by_distance[:k]\n",
    "        return neighbors\n",
    "\n",
    "    def get_kth_neighbor(self, entry, k):\n",
    "        neighbors = self.get_neighbors(entry, k)\n",
    "        return neighbors[-1]\n"
   ]
  },
  {
   "cell_type": "code",
   "execution_count": 21,
   "id": "1fa9ec1c",
   "metadata": {
    "execution": {
     "iopub.execute_input": "2021-04-04T22:39:38.814047Z",
     "iopub.status.busy": "2021-04-04T22:39:38.812609Z",
     "iopub.status.idle": "2021-04-04T22:39:38.882924Z",
     "shell.execute_reply": "2021-04-04T22:39:38.884438Z"
    },
    "papermill": {
     "duration": 0.131053,
     "end_time": "2021-04-04T22:39:38.885578",
     "exception": false,
     "start_time": "2021-04-04T22:39:38.754525",
     "status": "completed"
    },
    "tags": []
   },
   "outputs": [],
   "source": [
    "from sklearn.svm import OneClassSVM\n",
    "\n",
    "\n",
    "models = {\n",
    "    'oneclasssvm': OneClassSVM,\n",
    "    'knndatadescription': KNNDataDescription,\n",
    "}"
   ]
  },
  {
   "cell_type": "code",
   "execution_count": 22,
   "id": "4d72a0b1",
   "metadata": {
    "execution": {
     "iopub.execute_input": "2021-04-04T22:39:38.959366Z",
     "iopub.status.busy": "2021-04-04T22:39:38.957896Z",
     "iopub.status.idle": "2021-04-04T22:39:38.963376Z",
     "shell.execute_reply": "2021-04-04T22:39:38.962537Z"
    },
    "papermill": {
     "duration": 0.039604,
     "end_time": "2021-04-04T22:39:38.963580",
     "exception": false,
     "start_time": "2021-04-04T22:39:38.923976",
     "status": "completed"
    },
    "scrolled": true,
    "tags": []
   },
   "outputs": [],
   "source": [
    "model_cls = models[model_config['model_type']]\n",
    "model = model_cls(**model_config['hyperparameters'])"
   ]
  },
  {
   "cell_type": "markdown",
   "id": "e00cff3b",
   "metadata": {
    "papermill": {
     "duration": 0.02825,
     "end_time": "2021-04-04T22:39:39.018406",
     "exception": false,
     "start_time": "2021-04-04T22:39:38.990156",
     "status": "completed"
    },
    "tags": []
   },
   "source": [
    "# Fit"
   ]
  },
  {
   "cell_type": "code",
   "execution_count": 23,
   "id": "8b2ded89",
   "metadata": {
    "execution": {
     "iopub.execute_input": "2021-04-04T22:39:39.077268Z",
     "iopub.status.busy": "2021-04-04T22:39:39.076241Z",
     "iopub.status.idle": "2021-04-04T22:39:39.124724Z",
     "shell.execute_reply": "2021-04-04T22:39:39.124142Z"
    },
    "papermill": {
     "duration": 0.07713,
     "end_time": "2021-04-04T22:39:39.124871",
     "exception": false,
     "start_time": "2021-04-04T22:39:39.047741",
     "status": "completed"
    },
    "tags": []
   },
   "outputs": [],
   "source": [
    "model.fit(X_train)"
   ]
  },
  {
   "cell_type": "markdown",
   "id": "f99999f7",
   "metadata": {
    "papermill": {
     "duration": 0.036345,
     "end_time": "2021-04-04T22:39:39.213540",
     "exception": false,
     "start_time": "2021-04-04T22:39:39.177195",
     "status": "completed"
    },
    "tags": []
   },
   "source": [
    "# Predict"
   ]
  },
  {
   "cell_type": "code",
   "execution_count": 24,
   "id": "6536fbf7",
   "metadata": {
    "execution": {
     "iopub.execute_input": "2021-04-04T22:39:39.296813Z",
     "iopub.status.busy": "2021-04-04T22:39:39.293638Z",
     "iopub.status.idle": "2021-04-04T22:39:42.436728Z",
     "shell.execute_reply": "2021-04-04T22:39:42.436181Z"
    },
    "papermill": {
     "duration": 3.19425,
     "end_time": "2021-04-04T22:39:42.436851",
     "exception": false,
     "start_time": "2021-04-04T22:39:39.242601",
     "status": "completed"
    },
    "tags": []
   },
   "outputs": [],
   "source": [
    "predictions = model.predict(X_test)"
   ]
  },
  {
   "cell_type": "markdown",
   "id": "aa1c9881",
   "metadata": {
    "papermill": {
     "duration": 0.029613,
     "end_time": "2021-04-04T22:39:42.494353",
     "exception": false,
     "start_time": "2021-04-04T22:39:42.464740",
     "status": "completed"
    },
    "tags": []
   },
   "source": [
    "# Evaluate"
   ]
  },
  {
   "cell_type": "code",
   "execution_count": 25,
   "id": "894f0f04",
   "metadata": {
    "execution": {
     "iopub.execute_input": "2021-04-04T22:39:42.552042Z",
     "iopub.status.busy": "2021-04-04T22:39:42.551130Z",
     "iopub.status.idle": "2021-04-04T22:39:42.553753Z",
     "shell.execute_reply": "2021-04-04T22:39:42.553240Z"
    },
    "papermill": {
     "duration": 0.031524,
     "end_time": "2021-04-04T22:39:42.553872",
     "exception": false,
     "start_time": "2021-04-04T22:39:42.522348",
     "status": "completed"
    },
    "tags": []
   },
   "outputs": [],
   "source": [
    "from sklearn.metrics import f1_score"
   ]
  },
  {
   "cell_type": "code",
   "execution_count": 26,
   "id": "211744d3",
   "metadata": {
    "execution": {
     "iopub.execute_input": "2021-04-04T22:39:42.617863Z",
     "iopub.status.busy": "2021-04-04T22:39:42.616824Z",
     "iopub.status.idle": "2021-04-04T22:39:42.619645Z",
     "shell.execute_reply": "2021-04-04T22:39:42.619060Z"
    },
    "papermill": {
     "duration": 0.039008,
     "end_time": "2021-04-04T22:39:42.619784",
     "exception": false,
     "start_time": "2021-04-04T22:39:42.580776",
     "status": "completed"
    },
    "tags": []
   },
   "outputs": [],
   "source": [
    "y_test = y_test.replace([0, 1], [1, -1])"
   ]
  },
  {
   "cell_type": "code",
   "execution_count": 27,
   "id": "d68a9204",
   "metadata": {
    "execution": {
     "iopub.execute_input": "2021-04-04T22:39:42.679594Z",
     "iopub.status.busy": "2021-04-04T22:39:42.678913Z",
     "iopub.status.idle": "2021-04-04T22:39:42.680782Z",
     "shell.execute_reply": "2021-04-04T22:39:42.681246Z"
    },
    "papermill": {
     "duration": 0.03644,
     "end_time": "2021-04-04T22:39:42.681388",
     "exception": false,
     "start_time": "2021-04-04T22:39:42.644948",
     "status": "completed"
    },
    "tags": []
   },
   "outputs": [],
   "source": [
    "def evaluate(truths, predictions, pos_label, neg_label):\n",
    "    TP = 0\n",
    "    FP = 0\n",
    "    TN = 0\n",
    "    FN = 0\n",
    "\n",
    "    for truth, pred in zip(truths, predictions): \n",
    "        if truth == pred == pos_label:\n",
    "           TP += 1\n",
    "        elif pred == pos_label and truth == neg_label:\n",
    "           FP += 1\n",
    "        elif truth == pred == neg_label:\n",
    "           TN += 1\n",
    "        elif pred == neg_label and truth == pos_label:\n",
    "           FN += 1\n",
    "\n",
    "    precision = TP / (TP + FP)\n",
    "    sensitivity = TP / (TP + FN)\n",
    "    \n",
    "    return {\n",
    "        'true_pos': TP,\n",
    "        'false_pos': FP,\n",
    "        'false_neg': FN,\n",
    "        'true_neg': TN,\n",
    "        'precision': precision,\n",
    "        'sensitivity': sensitivity,\n",
    "        'f1': (2 * (precision * sensitivity)) / (precision + sensitivity)\n",
    "    }\n",
    "\n",
    "score = evaluate(y_test, predictions, pos_label=-1, neg_label=1)"
   ]
  },
  {
   "cell_type": "markdown",
   "id": "93596516",
   "metadata": {
    "papermill": {
     "duration": 0.031842,
     "end_time": "2021-04-04T22:39:42.745994",
     "exception": false,
     "start_time": "2021-04-04T22:39:42.714152",
     "status": "completed"
    },
    "tags": []
   },
   "source": [
    "# Report"
   ]
  },
  {
   "cell_type": "code",
   "execution_count": 28,
   "id": "bea5fba1",
   "metadata": {
    "execution": {
     "iopub.execute_input": "2021-04-04T22:39:42.809135Z",
     "iopub.status.busy": "2021-04-04T22:39:42.808369Z",
     "iopub.status.idle": "2021-04-04T22:39:42.811228Z",
     "shell.execute_reply": "2021-04-04T22:39:42.811706Z"
    },
    "papermill": {
     "duration": 0.034653,
     "end_time": "2021-04-04T22:39:42.811961",
     "exception": false,
     "start_time": "2021-04-04T22:39:42.777308",
     "status": "completed"
    },
    "tags": []
   },
   "outputs": [],
   "source": [
    "import csv\n",
    "\n",
    "\n",
    "dataset_config_name = DATASET_CONFIG_PATH.split('/')[-1].split('.')[0]\n",
    "model_config_name = MODEL_CONFIG_PATH.split('/')[-1].split('.')[0]\n",
    "configuration = f\"dataset_{dataset_config_name}-model_{model_config_name}\"\n",
    "\n",
    "with open('results.csv', 'a') as f:\n",
    "    report = dict({'configuration': configuration}, **score)\n",
    "    writer = csv.DictWriter(f, report.keys())\n",
    "    writer.writerow(report)"
   ]
  }
 ],
 "metadata": {
  "celltoolbar": "Tags",
  "kernelspec": {
   "display_name": "Python 3",
   "language": "python",
   "name": "python3"
  },
  "language_info": {
   "codemirror_mode": {
    "name": "ipython",
    "version": 3
   },
   "file_extension": ".py",
   "mimetype": "text/x-python",
   "name": "python",
   "nbconvert_exporter": "python",
   "pygments_lexer": "ipython3",
   "version": "3.9.1"
  },
  "papermill": {
   "default_parameters": {},
   "duration": 10.119026,
   "end_time": "2021-04-04T22:39:44.064646",
   "environment_variables": {},
   "exception": null,
   "input_path": "main.ipynb",
   "output_path": "runs/dataset_000033-model_000003.ipynb",
   "parameters": {
    "DATASET_CONFIG_PATH": "config/dataset/000033.json",
    "MODEL_CONFIG_PATH": "config/model/000003.json",
    "PROFILE_REPORTING": false
   },
   "start_time": "2021-04-04T22:39:33.945620",
   "version": "2.3.3"
  }
 },
 "nbformat": 4,
 "nbformat_minor": 5
}