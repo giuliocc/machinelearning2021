{
 "cells": [
  {
   "cell_type": "markdown",
   "id": "51c71c25",
   "metadata": {
    "papermill": {
     "duration": 0.02097,
     "end_time": "2021-04-04T23:09:30.872843",
     "exception": false,
     "start_time": "2021-04-04T23:09:30.851873",
     "status": "completed"
    },
    "tags": []
   },
   "source": [
    "# Parametrizing"
   ]
  },
  {
   "cell_type": "code",
   "execution_count": 1,
   "id": "3b136394",
   "metadata": {
    "execution": {
     "iopub.execute_input": "2021-04-04T23:09:30.921502Z",
     "iopub.status.busy": "2021-04-04T23:09:30.920893Z",
     "iopub.status.idle": "2021-04-04T23:09:30.922924Z",
     "shell.execute_reply": "2021-04-04T23:09:30.923504Z"
    },
    "papermill": {
     "duration": 0.031183,
     "end_time": "2021-04-04T23:09:30.923808",
     "exception": false,
     "start_time": "2021-04-04T23:09:30.892625",
     "status": "completed"
    },
    "tags": [
     "parameters"
    ]
   },
   "outputs": [],
   "source": [
    "DATASET_CONFIG_PATH = 'config/dataset/kc1_001.json'\n",
    "MODEL_CONFIG_PATH = 'config/model/knndd_001.json'\n",
    "PROFILE_REPORTING = False"
   ]
  },
  {
   "cell_type": "code",
   "execution_count": 2,
   "id": "a022fe7f",
   "metadata": {
    "execution": {
     "iopub.execute_input": "2021-04-04T23:09:30.969103Z",
     "iopub.status.busy": "2021-04-04T23:09:30.968437Z",
     "iopub.status.idle": "2021-04-04T23:09:30.970486Z",
     "shell.execute_reply": "2021-04-04T23:09:30.970930Z"
    },
    "papermill": {
     "duration": 0.025551,
     "end_time": "2021-04-04T23:09:30.971064",
     "exception": false,
     "start_time": "2021-04-04T23:09:30.945513",
     "status": "completed"
    },
    "tags": [
     "injected-parameters"
    ]
   },
   "outputs": [],
   "source": [
    "# Parameters\n",
    "DATASET_CONFIG_PATH = \"config/dataset/000091.json\"\n",
    "MODEL_CONFIG_PATH = \"config/model/000004.json\"\n",
    "PROFILE_REPORTING = False\n"
   ]
  },
  {
   "cell_type": "code",
   "execution_count": 3,
   "id": "b80f2a10",
   "metadata": {
    "execution": {
     "iopub.execute_input": "2021-04-04T23:09:31.016248Z",
     "iopub.status.busy": "2021-04-04T23:09:31.015454Z",
     "iopub.status.idle": "2021-04-04T23:09:31.017900Z",
     "shell.execute_reply": "2021-04-04T23:09:31.018378Z"
    },
    "papermill": {
     "duration": 0.027166,
     "end_time": "2021-04-04T23:09:31.018520",
     "exception": false,
     "start_time": "2021-04-04T23:09:30.991354",
     "status": "completed"
    },
    "tags": []
   },
   "outputs": [],
   "source": [
    "import json\n",
    "\n",
    "\n",
    "with open(DATASET_CONFIG_PATH) as f:\n",
    "    dataset_config = json.load(f)\n",
    "\n",
    "with open(MODEL_CONFIG_PATH) as f:\n",
    "    model_config = json.load(f)"
   ]
  },
  {
   "cell_type": "markdown",
   "id": "9a4b0e2d",
   "metadata": {
    "papermill": {
     "duration": 0.020164,
     "end_time": "2021-04-04T23:09:31.060740",
     "exception": false,
     "start_time": "2021-04-04T23:09:31.040576",
     "status": "completed"
    },
    "tags": []
   },
   "source": [
    "# Profiling"
   ]
  },
  {
   "cell_type": "code",
   "execution_count": 4,
   "id": "a3e0289b",
   "metadata": {
    "execution": {
     "iopub.execute_input": "2021-04-04T23:09:31.105029Z",
     "iopub.status.busy": "2021-04-04T23:09:31.104361Z",
     "iopub.status.idle": "2021-04-04T23:09:32.380668Z",
     "shell.execute_reply": "2021-04-04T23:09:32.380056Z"
    },
    "papermill": {
     "duration": 1.300319,
     "end_time": "2021-04-04T23:09:32.380789",
     "exception": false,
     "start_time": "2021-04-04T23:09:31.080470",
     "status": "completed"
    },
    "tags": []
   },
   "outputs": [],
   "source": [
    "import pandas as pd\n",
    "from pandas_profiling import ProfileReport"
   ]
  },
  {
   "cell_type": "code",
   "execution_count": 5,
   "id": "ee6c0666",
   "metadata": {
    "execution": {
     "iopub.execute_input": "2021-04-04T23:09:32.429623Z",
     "iopub.status.busy": "2021-04-04T23:09:32.428929Z",
     "iopub.status.idle": "2021-04-04T23:09:32.440734Z",
     "shell.execute_reply": "2021-04-04T23:09:32.441519Z"
    },
    "papermill": {
     "duration": 0.037886,
     "end_time": "2021-04-04T23:09:32.441735",
     "exception": false,
     "start_time": "2021-04-04T23:09:32.403849",
     "status": "completed"
    },
    "tags": []
   },
   "outputs": [],
   "source": [
    "df = pd.read_csv(dataset_config['dataset_path'])"
   ]
  },
  {
   "cell_type": "code",
   "execution_count": 6,
   "id": "7eca6c4a",
   "metadata": {
    "execution": {
     "iopub.execute_input": "2021-04-04T23:09:32.503632Z",
     "iopub.status.busy": "2021-04-04T23:09:32.492061Z",
     "iopub.status.idle": "2021-04-04T23:09:32.506919Z",
     "shell.execute_reply": "2021-04-04T23:09:32.507634Z"
    },
    "papermill": {
     "duration": 0.041115,
     "end_time": "2021-04-04T23:09:32.507837",
     "exception": false,
     "start_time": "2021-04-04T23:09:32.466722",
     "status": "completed"
    },
    "tags": []
   },
   "outputs": [
    {
     "name": "stdout",
     "output_type": "stream",
     "text": [
      "<class 'pandas.core.frame.DataFrame'>\n",
      "RangeIndex: 498 entries, 0 to 497\n",
      "Data columns (total 23 columns):\n",
      " #   Column             Non-Null Count  Dtype  \n",
      "---  ------             --------------  -----  \n",
      " 0   id                 498 non-null    int64  \n",
      " 1   loc                498 non-null    float64\n",
      " 2   v(g)               498 non-null    float64\n",
      " 3   ev(g)              498 non-null    float64\n",
      " 4   iv(g)              498 non-null    float64\n",
      " 5   n                  498 non-null    float64\n",
      " 6   v                  498 non-null    float64\n",
      " 7   l                  498 non-null    float64\n",
      " 8   d                  498 non-null    float64\n",
      " 9   i                  498 non-null    float64\n",
      " 10  e                  498 non-null    float64\n",
      " 11  b                  498 non-null    float64\n",
      " 12  t                  498 non-null    float64\n",
      " 13  lOCode             498 non-null    int64  \n",
      " 14  lOComment          498 non-null    int64  \n",
      " 15  lOBlank            498 non-null    int64  \n",
      " 16  locCodeAndComment  498 non-null    int64  \n",
      " 17  uniq_Op            498 non-null    float64\n",
      " 18  uniq_Opnd          498 non-null    float64\n",
      " 19  total_Op           498 non-null    float64\n",
      " 20  total_Opnd         498 non-null    float64\n",
      " 21  branchCount        498 non-null    float64\n",
      " 22  defects            498 non-null    bool   \n",
      "dtypes: bool(1), float64(17), int64(5)\n",
      "memory usage: 86.2 KB\n"
     ]
    }
   ],
   "source": [
    "df.info()"
   ]
  },
  {
   "cell_type": "code",
   "execution_count": 7,
   "id": "3638e5e8",
   "metadata": {
    "execution": {
     "iopub.execute_input": "2021-04-04T23:09:32.565816Z",
     "iopub.status.busy": "2021-04-04T23:09:32.564851Z",
     "iopub.status.idle": "2021-04-04T23:09:32.590740Z",
     "shell.execute_reply": "2021-04-04T23:09:32.591468Z"
    },
    "papermill": {
     "duration": 0.055526,
     "end_time": "2021-04-04T23:09:32.591674",
     "exception": false,
     "start_time": "2021-04-04T23:09:32.536148",
     "status": "completed"
    },
    "tags": []
   },
   "outputs": [
    {
     "data": {
      "text/html": [
       "<div>\n",
       "<style scoped>\n",
       "    .dataframe tbody tr th:only-of-type {\n",
       "        vertical-align: middle;\n",
       "    }\n",
       "\n",
       "    .dataframe tbody tr th {\n",
       "        vertical-align: top;\n",
       "    }\n",
       "\n",
       "    .dataframe thead th {\n",
       "        text-align: right;\n",
       "    }\n",
       "</style>\n",
       "<table border=\"1\" class=\"dataframe\">\n",
       "  <thead>\n",
       "    <tr style=\"text-align: right;\">\n",
       "      <th></th>\n",
       "      <th>id</th>\n",
       "      <th>loc</th>\n",
       "      <th>v(g)</th>\n",
       "      <th>ev(g)</th>\n",
       "      <th>iv(g)</th>\n",
       "      <th>n</th>\n",
       "      <th>v</th>\n",
       "      <th>l</th>\n",
       "      <th>d</th>\n",
       "      <th>i</th>\n",
       "      <th>...</th>\n",
       "      <th>lOCode</th>\n",
       "      <th>lOComment</th>\n",
       "      <th>lOBlank</th>\n",
       "      <th>locCodeAndComment</th>\n",
       "      <th>uniq_Op</th>\n",
       "      <th>uniq_Opnd</th>\n",
       "      <th>total_Op</th>\n",
       "      <th>total_Opnd</th>\n",
       "      <th>branchCount</th>\n",
       "      <th>defects</th>\n",
       "    </tr>\n",
       "  </thead>\n",
       "  <tbody>\n",
       "    <tr>\n",
       "      <th>0</th>\n",
       "      <td>1</td>\n",
       "      <td>1.1</td>\n",
       "      <td>1.4</td>\n",
       "      <td>1.4</td>\n",
       "      <td>1.4</td>\n",
       "      <td>1.3</td>\n",
       "      <td>1.30</td>\n",
       "      <td>1.30</td>\n",
       "      <td>1.30</td>\n",
       "      <td>1.30</td>\n",
       "      <td>...</td>\n",
       "      <td>2</td>\n",
       "      <td>2</td>\n",
       "      <td>2</td>\n",
       "      <td>2</td>\n",
       "      <td>1.2</td>\n",
       "      <td>1.2</td>\n",
       "      <td>1.2</td>\n",
       "      <td>1.2</td>\n",
       "      <td>1.4</td>\n",
       "      <td>False</td>\n",
       "    </tr>\n",
       "    <tr>\n",
       "      <th>1</th>\n",
       "      <td>2</td>\n",
       "      <td>1.0</td>\n",
       "      <td>1.0</td>\n",
       "      <td>1.0</td>\n",
       "      <td>1.0</td>\n",
       "      <td>1.0</td>\n",
       "      <td>1.00</td>\n",
       "      <td>1.00</td>\n",
       "      <td>1.00</td>\n",
       "      <td>1.00</td>\n",
       "      <td>...</td>\n",
       "      <td>1</td>\n",
       "      <td>1</td>\n",
       "      <td>1</td>\n",
       "      <td>1</td>\n",
       "      <td>1.0</td>\n",
       "      <td>1.0</td>\n",
       "      <td>1.0</td>\n",
       "      <td>1.0</td>\n",
       "      <td>1.0</td>\n",
       "      <td>True</td>\n",
       "    </tr>\n",
       "    <tr>\n",
       "      <th>2</th>\n",
       "      <td>3</td>\n",
       "      <td>24.0</td>\n",
       "      <td>5.0</td>\n",
       "      <td>1.0</td>\n",
       "      <td>3.0</td>\n",
       "      <td>63.0</td>\n",
       "      <td>309.13</td>\n",
       "      <td>0.11</td>\n",
       "      <td>9.50</td>\n",
       "      <td>32.54</td>\n",
       "      <td>...</td>\n",
       "      <td>1</td>\n",
       "      <td>0</td>\n",
       "      <td>6</td>\n",
       "      <td>0</td>\n",
       "      <td>15.0</td>\n",
       "      <td>15.0</td>\n",
       "      <td>44.0</td>\n",
       "      <td>19.0</td>\n",
       "      <td>9.0</td>\n",
       "      <td>False</td>\n",
       "    </tr>\n",
       "    <tr>\n",
       "      <th>3</th>\n",
       "      <td>4</td>\n",
       "      <td>20.0</td>\n",
       "      <td>4.0</td>\n",
       "      <td>4.0</td>\n",
       "      <td>2.0</td>\n",
       "      <td>47.0</td>\n",
       "      <td>215.49</td>\n",
       "      <td>0.06</td>\n",
       "      <td>16.00</td>\n",
       "      <td>13.47</td>\n",
       "      <td>...</td>\n",
       "      <td>0</td>\n",
       "      <td>0</td>\n",
       "      <td>3</td>\n",
       "      <td>0</td>\n",
       "      <td>16.0</td>\n",
       "      <td>8.0</td>\n",
       "      <td>31.0</td>\n",
       "      <td>16.0</td>\n",
       "      <td>7.0</td>\n",
       "      <td>False</td>\n",
       "    </tr>\n",
       "    <tr>\n",
       "      <th>4</th>\n",
       "      <td>5</td>\n",
       "      <td>24.0</td>\n",
       "      <td>6.0</td>\n",
       "      <td>6.0</td>\n",
       "      <td>2.0</td>\n",
       "      <td>72.0</td>\n",
       "      <td>346.13</td>\n",
       "      <td>0.06</td>\n",
       "      <td>17.33</td>\n",
       "      <td>19.97</td>\n",
       "      <td>...</td>\n",
       "      <td>0</td>\n",
       "      <td>0</td>\n",
       "      <td>3</td>\n",
       "      <td>0</td>\n",
       "      <td>16.0</td>\n",
       "      <td>12.0</td>\n",
       "      <td>46.0</td>\n",
       "      <td>26.0</td>\n",
       "      <td>11.0</td>\n",
       "      <td>False</td>\n",
       "    </tr>\n",
       "  </tbody>\n",
       "</table>\n",
       "<p>5 rows × 23 columns</p>\n",
       "</div>"
      ],
      "text/plain": [
       "   id   loc  v(g)  ev(g)  iv(g)     n       v     l      d      i  ...  \\\n",
       "0   1   1.1   1.4    1.4    1.4   1.3    1.30  1.30   1.30   1.30  ...   \n",
       "1   2   1.0   1.0    1.0    1.0   1.0    1.00  1.00   1.00   1.00  ...   \n",
       "2   3  24.0   5.0    1.0    3.0  63.0  309.13  0.11   9.50  32.54  ...   \n",
       "3   4  20.0   4.0    4.0    2.0  47.0  215.49  0.06  16.00  13.47  ...   \n",
       "4   5  24.0   6.0    6.0    2.0  72.0  346.13  0.06  17.33  19.97  ...   \n",
       "\n",
       "   lOCode  lOComment  lOBlank  locCodeAndComment  uniq_Op  uniq_Opnd  \\\n",
       "0       2          2        2                  2      1.2        1.2   \n",
       "1       1          1        1                  1      1.0        1.0   \n",
       "2       1          0        6                  0     15.0       15.0   \n",
       "3       0          0        3                  0     16.0        8.0   \n",
       "4       0          0        3                  0     16.0       12.0   \n",
       "\n",
       "   total_Op  total_Opnd  branchCount  defects  \n",
       "0       1.2         1.2          1.4    False  \n",
       "1       1.0         1.0          1.0     True  \n",
       "2      44.0        19.0          9.0    False  \n",
       "3      31.0        16.0          7.0    False  \n",
       "4      46.0        26.0         11.0    False  \n",
       "\n",
       "[5 rows x 23 columns]"
      ]
     },
     "execution_count": 7,
     "metadata": {},
     "output_type": "execute_result"
    }
   ],
   "source": [
    "df.head()"
   ]
  },
  {
   "cell_type": "code",
   "execution_count": 8,
   "id": "733e95eb",
   "metadata": {
    "execution": {
     "iopub.execute_input": "2021-04-04T23:09:32.642066Z",
     "iopub.status.busy": "2021-04-04T23:09:32.641092Z",
     "iopub.status.idle": "2021-04-04T23:09:32.644089Z",
     "shell.execute_reply": "2021-04-04T23:09:32.643597Z"
    },
    "papermill": {
     "duration": 0.029229,
     "end_time": "2021-04-04T23:09:32.644206",
     "exception": false,
     "start_time": "2021-04-04T23:09:32.614977",
     "status": "completed"
    },
    "tags": []
   },
   "outputs": [],
   "source": [
    "del df['id']"
   ]
  },
  {
   "cell_type": "code",
   "execution_count": 9,
   "id": "6ff6f5b0",
   "metadata": {
    "execution": {
     "iopub.execute_input": "2021-04-04T23:09:32.697404Z",
     "iopub.status.busy": "2021-04-04T23:09:32.696081Z",
     "iopub.status.idle": "2021-04-04T23:09:32.698578Z",
     "shell.execute_reply": "2021-04-04T23:09:32.699122Z"
    },
    "papermill": {
     "duration": 0.028885,
     "end_time": "2021-04-04T23:09:32.699264",
     "exception": false,
     "start_time": "2021-04-04T23:09:32.670379",
     "status": "completed"
    },
    "tags": []
   },
   "outputs": [],
   "source": [
    "if PROFILE_REPORTING:\n",
    "    ProfileReport(df).to_widgets()"
   ]
  },
  {
   "cell_type": "markdown",
   "id": "1deaf3f0",
   "metadata": {
    "papermill": {
     "duration": 0.026478,
     "end_time": "2021-04-04T23:09:32.749911",
     "exception": false,
     "start_time": "2021-04-04T23:09:32.723433",
     "status": "completed"
    },
    "tags": []
   },
   "source": [
    "# Preprocess"
   ]
  },
  {
   "cell_type": "code",
   "execution_count": 10,
   "id": "1513e563",
   "metadata": {
    "execution": {
     "iopub.execute_input": "2021-04-04T23:09:32.799962Z",
     "iopub.status.busy": "2021-04-04T23:09:32.799132Z",
     "iopub.status.idle": "2021-04-04T23:09:32.802252Z",
     "shell.execute_reply": "2021-04-04T23:09:32.801749Z"
    },
    "papermill": {
     "duration": 0.028841,
     "end_time": "2021-04-04T23:09:32.802370",
     "exception": false,
     "start_time": "2021-04-04T23:09:32.773529",
     "status": "completed"
    },
    "tags": []
   },
   "outputs": [],
   "source": [
    "working_df = df.copy()"
   ]
  },
  {
   "cell_type": "code",
   "execution_count": 11,
   "id": "3b26d675",
   "metadata": {
    "execution": {
     "iopub.execute_input": "2021-04-04T23:09:32.855259Z",
     "iopub.status.busy": "2021-04-04T23:09:32.854398Z",
     "iopub.status.idle": "2021-04-04T23:09:32.856564Z",
     "shell.execute_reply": "2021-04-04T23:09:32.857303Z"
    },
    "papermill": {
     "duration": 0.03111,
     "end_time": "2021-04-04T23:09:32.857557",
     "exception": false,
     "start_time": "2021-04-04T23:09:32.826447",
     "status": "completed"
    },
    "tags": []
   },
   "outputs": [],
   "source": [
    "working_df['defects'] = working_df['defects'].replace([False, True], [0, 1])"
   ]
  },
  {
   "cell_type": "code",
   "execution_count": 12,
   "id": "eb48604f",
   "metadata": {
    "execution": {
     "iopub.execute_input": "2021-04-04T23:09:32.908731Z",
     "iopub.status.busy": "2021-04-04T23:09:32.907824Z",
     "iopub.status.idle": "2021-04-04T23:09:32.910306Z",
     "shell.execute_reply": "2021-04-04T23:09:32.910832Z"
    },
    "papermill": {
     "duration": 0.028796,
     "end_time": "2021-04-04T23:09:32.910983",
     "exception": false,
     "start_time": "2021-04-04T23:09:32.882187",
     "status": "completed"
    },
    "tags": []
   },
   "outputs": [],
   "source": [
    "for col in dataset_config['delete_columns']:\n",
    "    del working_df[col]"
   ]
  },
  {
   "cell_type": "code",
   "execution_count": 13,
   "id": "9a17bc29",
   "metadata": {
    "execution": {
     "iopub.execute_input": "2021-04-04T23:09:32.961905Z",
     "iopub.status.busy": "2021-04-04T23:09:32.960886Z",
     "iopub.status.idle": "2021-04-04T23:09:32.973968Z",
     "shell.execute_reply": "2021-04-04T23:09:32.973022Z"
    },
    "papermill": {
     "duration": 0.040278,
     "end_time": "2021-04-04T23:09:32.974145",
     "exception": false,
     "start_time": "2021-04-04T23:09:32.933867",
     "status": "completed"
    },
    "tags": []
   },
   "outputs": [],
   "source": [
    "working_df = working_df.drop_duplicates()"
   ]
  },
  {
   "cell_type": "markdown",
   "id": "a4d52ca6",
   "metadata": {
    "papermill": {
     "duration": 0.021679,
     "end_time": "2021-04-04T23:09:33.023342",
     "exception": false,
     "start_time": "2021-04-04T23:09:33.001663",
     "status": "completed"
    },
    "tags": []
   },
   "source": [
    "# Split"
   ]
  },
  {
   "cell_type": "code",
   "execution_count": 14,
   "id": "3e9ee4b5",
   "metadata": {
    "execution": {
     "iopub.execute_input": "2021-04-04T23:09:33.073168Z",
     "iopub.status.busy": "2021-04-04T23:09:33.071678Z",
     "iopub.status.idle": "2021-04-04T23:09:33.104306Z",
     "shell.execute_reply": "2021-04-04T23:09:33.103531Z"
    },
    "papermill": {
     "duration": 0.059626,
     "end_time": "2021-04-04T23:09:33.104477",
     "exception": false,
     "start_time": "2021-04-04T23:09:33.044851",
     "status": "completed"
    },
    "tags": []
   },
   "outputs": [],
   "source": [
    "from sklearn.model_selection import train_test_split"
   ]
  },
  {
   "cell_type": "code",
   "execution_count": 15,
   "id": "274004ce",
   "metadata": {
    "execution": {
     "iopub.execute_input": "2021-04-04T23:09:33.160985Z",
     "iopub.status.busy": "2021-04-04T23:09:33.159746Z",
     "iopub.status.idle": "2021-04-04T23:09:33.167697Z",
     "shell.execute_reply": "2021-04-04T23:09:33.168574Z"
    },
    "papermill": {
     "duration": 0.036719,
     "end_time": "2021-04-04T23:09:33.168815",
     "exception": false,
     "start_time": "2021-04-04T23:09:33.132096",
     "status": "completed"
    },
    "scrolled": true,
    "tags": []
   },
   "outputs": [],
   "source": [
    "inlier, outlier = working_df[working_df['defects'] == 0], working_df[working_df['defects'] == 1]"
   ]
  },
  {
   "cell_type": "code",
   "execution_count": 16,
   "id": "753c7b03",
   "metadata": {
    "execution": {
     "iopub.execute_input": "2021-04-04T23:09:33.223704Z",
     "iopub.status.busy": "2021-04-04T23:09:33.221283Z",
     "iopub.status.idle": "2021-04-04T23:09:33.226292Z",
     "shell.execute_reply": "2021-04-04T23:09:33.226846Z"
    },
    "papermill": {
     "duration": 0.032883,
     "end_time": "2021-04-04T23:09:33.227060",
     "exception": false,
     "start_time": "2021-04-04T23:09:33.194177",
     "status": "completed"
    },
    "tags": []
   },
   "outputs": [],
   "source": [
    "X_inlier = inlier.copy()\n",
    "y_inlier = X_inlier.pop('defects')\n",
    "X_outlier = outlier.copy()\n",
    "y_outlier = X_outlier.pop('defects')"
   ]
  },
  {
   "cell_type": "code",
   "execution_count": 17,
   "id": "2ba43193",
   "metadata": {
    "execution": {
     "iopub.execute_input": "2021-04-04T23:09:33.285361Z",
     "iopub.status.busy": "2021-04-04T23:09:33.284102Z",
     "iopub.status.idle": "2021-04-04T23:09:33.287675Z",
     "shell.execute_reply": "2021-04-04T23:09:33.286726Z"
    },
    "papermill": {
     "duration": 0.034486,
     "end_time": "2021-04-04T23:09:33.287864",
     "exception": false,
     "start_time": "2021-04-04T23:09:33.253378",
     "status": "completed"
    },
    "tags": []
   },
   "outputs": [],
   "source": [
    "test_size = dataset_config['test_size']\n",
    "random_state = dataset_config['random_state']\n",
    "\n",
    "X_inlier_train, X_inlier_test, y_inlier_train, y_inlier_test = train_test_split(\n",
    "    X_inlier,\n",
    "    y_inlier,\n",
    "    test_size=test_size,\n",
    "    random_state=random_state\n",
    ")"
   ]
  },
  {
   "cell_type": "code",
   "execution_count": 18,
   "id": "0b7582ca",
   "metadata": {
    "execution": {
     "iopub.execute_input": "2021-04-04T23:09:33.346649Z",
     "iopub.status.busy": "2021-04-04T23:09:33.345507Z",
     "iopub.status.idle": "2021-04-04T23:09:33.349522Z",
     "shell.execute_reply": "2021-04-04T23:09:33.350008Z"
    },
    "papermill": {
     "duration": 0.036665,
     "end_time": "2021-04-04T23:09:33.350168",
     "exception": false,
     "start_time": "2021-04-04T23:09:33.313503",
     "status": "completed"
    },
    "tags": []
   },
   "outputs": [],
   "source": [
    "test_outlier_size = dataset_config['test_outlier_size']\n",
    "if test_outlier_size > 0.0:\n",
    "    X_outlier_train, X_outlier_test, y_outlier_train, y_outlier_test = train_test_split(\n",
    "        X_outlier,\n",
    "        y_outlier,\n",
    "        test_size=test_outlier_size,\n",
    "        random_state=random_state\n",
    "    )\n",
    "else:\n",
    "    X_outlier_train, y_outlier_train = pd.DataFrame(columns=X_outlier.columns), pd.Series(dtype='int64')\n",
    "    X_outlier_test, y_outlier_test = X_outlier.copy(), y_outlier.copy()"
   ]
  },
  {
   "cell_type": "code",
   "execution_count": 19,
   "id": "c34363db",
   "metadata": {
    "execution": {
     "iopub.execute_input": "2021-04-04T23:09:33.404098Z",
     "iopub.status.busy": "2021-04-04T23:09:33.403366Z",
     "iopub.status.idle": "2021-04-04T23:09:33.410996Z",
     "shell.execute_reply": "2021-04-04T23:09:33.410035Z"
    },
    "papermill": {
     "duration": 0.036843,
     "end_time": "2021-04-04T23:09:33.411179",
     "exception": false,
     "start_time": "2021-04-04T23:09:33.374336",
     "status": "completed"
    },
    "tags": []
   },
   "outputs": [],
   "source": [
    "X_train, y_train = pd.concat([X_inlier_train, X_outlier_train], ignore_index=True), pd.concat([y_inlier_train, y_outlier_train], ignore_index=True)\n",
    "X_test, y_test = pd.concat([X_inlier_test, X_outlier_test], ignore_index=True), pd.concat([y_inlier_test, y_outlier_test], ignore_index=True)"
   ]
  },
  {
   "cell_type": "markdown",
   "id": "7cde7309",
   "metadata": {
    "papermill": {
     "duration": 0.022029,
     "end_time": "2021-04-04T23:09:33.462070",
     "exception": false,
     "start_time": "2021-04-04T23:09:33.440041",
     "status": "completed"
    },
    "tags": []
   },
   "source": [
    "# Model"
   ]
  },
  {
   "cell_type": "code",
   "execution_count": 20,
   "id": "2b12a415",
   "metadata": {
    "execution": {
     "iopub.execute_input": "2021-04-04T23:09:33.521343Z",
     "iopub.status.busy": "2021-04-04T23:09:33.520247Z",
     "iopub.status.idle": "2021-04-04T23:09:33.522979Z",
     "shell.execute_reply": "2021-04-04T23:09:33.523487Z"
    },
    "papermill": {
     "duration": 0.038854,
     "end_time": "2021-04-04T23:09:33.523639",
     "exception": false,
     "start_time": "2021-04-04T23:09:33.484785",
     "status": "completed"
    },
    "tags": []
   },
   "outputs": [],
   "source": [
    "from math import sqrt\n",
    "\n",
    "\n",
    "class KNNDataDescription:\n",
    "    def __init__(self, k=5, outlier_threshold=1.0):\n",
    "        self.k = k\n",
    "        self.outlier_threshold = outlier_threshold\n",
    "        self.X = []\n",
    "    \n",
    "    def fit(self, X):\n",
    "        self.X = [features.to_list() for index, features in X.iterrows()]\n",
    "\n",
    "    def predict(self, entries):\n",
    "        return [self.predict_entry(features.to_list()) for index, features in entries.iterrows()]\n",
    "    \n",
    "    def predict_entry(self, entry):\n",
    "        kth_neighbor, kth_distance = self.get_kth_neighbor(entry, self.k)\n",
    "        kth_kth_neighbor, kth_kth_distance = self.get_kth_neighbor(kth_neighbor, self.k + 1)\n",
    "\n",
    "        outlier_score = kth_distance / (kth_kth_distance + 0.000001)\n",
    "\n",
    "        return 1 if outlier_score < self.outlier_threshold else -1\n",
    "        \n",
    "    def euclidean_distance(self, features1, features2):\n",
    "        distance = 0.0\n",
    "        for feat1, feat2 in zip(features1, features2):\n",
    "            distance += (feat1 - feat2)**2\n",
    "                \n",
    "        return sqrt(distance)\n",
    "\n",
    "    def get_neighbors(self, entry, k):\n",
    "        distance_to_data_points = [\n",
    "            (data_point, self.euclidean_distance(entry, data_point))\n",
    "            for data_point in self.X\n",
    "        ]\n",
    "        sorted_by_distance = sorted(distance_to_data_points, key=lambda tup: tup[1])\n",
    "        neighbors = sorted_by_distance[:k]\n",
    "        return neighbors\n",
    "\n",
    "    def get_kth_neighbor(self, entry, k):\n",
    "        neighbors = self.get_neighbors(entry, k)\n",
    "        return neighbors[-1]\n"
   ]
  },
  {
   "cell_type": "code",
   "execution_count": 21,
   "id": "1fa9ec1c",
   "metadata": {
    "execution": {
     "iopub.execute_input": "2021-04-04T23:09:33.574134Z",
     "iopub.status.busy": "2021-04-04T23:09:33.573109Z",
     "iopub.status.idle": "2021-04-04T23:09:33.601101Z",
     "shell.execute_reply": "2021-04-04T23:09:33.599742Z"
    },
    "papermill": {
     "duration": 0.055278,
     "end_time": "2021-04-04T23:09:33.601418",
     "exception": false,
     "start_time": "2021-04-04T23:09:33.546140",
     "status": "completed"
    },
    "tags": []
   },
   "outputs": [],
   "source": [
    "from sklearn.svm import OneClassSVM\n",
    "\n",
    "\n",
    "models = {\n",
    "    'oneclasssvm': OneClassSVM,\n",
    "    'knndatadescription': KNNDataDescription,\n",
    "}"
   ]
  },
  {
   "cell_type": "code",
   "execution_count": 22,
   "id": "4d72a0b1",
   "metadata": {
    "execution": {
     "iopub.execute_input": "2021-04-04T23:09:33.664538Z",
     "iopub.status.busy": "2021-04-04T23:09:33.663919Z",
     "iopub.status.idle": "2021-04-04T23:09:33.667652Z",
     "shell.execute_reply": "2021-04-04T23:09:33.666779Z"
    },
    "papermill": {
     "duration": 0.031236,
     "end_time": "2021-04-04T23:09:33.667843",
     "exception": false,
     "start_time": "2021-04-04T23:09:33.636607",
     "status": "completed"
    },
    "scrolled": true,
    "tags": []
   },
   "outputs": [],
   "source": [
    "model_cls = models[model_config['model_type']]\n",
    "model = model_cls(**model_config['hyperparameters'])"
   ]
  },
  {
   "cell_type": "markdown",
   "id": "e00cff3b",
   "metadata": {
    "papermill": {
     "duration": 0.023256,
     "end_time": "2021-04-04T23:09:33.717712",
     "exception": false,
     "start_time": "2021-04-04T23:09:33.694456",
     "status": "completed"
    },
    "tags": []
   },
   "source": [
    "# Fit"
   ]
  },
  {
   "cell_type": "code",
   "execution_count": 23,
   "id": "8b2ded89",
   "metadata": {
    "execution": {
     "iopub.execute_input": "2021-04-04T23:09:33.780172Z",
     "iopub.status.busy": "2021-04-04T23:09:33.777115Z",
     "iopub.status.idle": "2021-04-04T23:09:33.791765Z",
     "shell.execute_reply": "2021-04-04T23:09:33.792549Z"
    },
    "papermill": {
     "duration": 0.05205,
     "end_time": "2021-04-04T23:09:33.792765",
     "exception": false,
     "start_time": "2021-04-04T23:09:33.740715",
     "status": "completed"
    },
    "tags": []
   },
   "outputs": [
    {
     "data": {
      "text/plain": [
       "OneClassSVM()"
      ]
     },
     "execution_count": 23,
     "metadata": {},
     "output_type": "execute_result"
    }
   ],
   "source": [
    "model.fit(X_train)"
   ]
  },
  {
   "cell_type": "markdown",
   "id": "f99999f7",
   "metadata": {
    "papermill": {
     "duration": 0.023114,
     "end_time": "2021-04-04T23:09:33.839998",
     "exception": false,
     "start_time": "2021-04-04T23:09:33.816884",
     "status": "completed"
    },
    "tags": []
   },
   "source": [
    "# Predict"
   ]
  },
  {
   "cell_type": "code",
   "execution_count": 24,
   "id": "6536fbf7",
   "metadata": {
    "execution": {
     "iopub.execute_input": "2021-04-04T23:09:33.890710Z",
     "iopub.status.busy": "2021-04-04T23:09:33.890011Z",
     "iopub.status.idle": "2021-04-04T23:09:33.897022Z",
     "shell.execute_reply": "2021-04-04T23:09:33.897531Z"
    },
    "papermill": {
     "duration": 0.034295,
     "end_time": "2021-04-04T23:09:33.897692",
     "exception": false,
     "start_time": "2021-04-04T23:09:33.863397",
     "status": "completed"
    },
    "tags": []
   },
   "outputs": [],
   "source": [
    "predictions = model.predict(X_test)"
   ]
  },
  {
   "cell_type": "markdown",
   "id": "aa1c9881",
   "metadata": {
    "papermill": {
     "duration": 0.023336,
     "end_time": "2021-04-04T23:09:33.946115",
     "exception": false,
     "start_time": "2021-04-04T23:09:33.922779",
     "status": "completed"
    },
    "tags": []
   },
   "source": [
    "# Evaluate"
   ]
  },
  {
   "cell_type": "code",
   "execution_count": 25,
   "id": "894f0f04",
   "metadata": {
    "execution": {
     "iopub.execute_input": "2021-04-04T23:09:33.997306Z",
     "iopub.status.busy": "2021-04-04T23:09:33.996498Z",
     "iopub.status.idle": "2021-04-04T23:09:33.998999Z",
     "shell.execute_reply": "2021-04-04T23:09:33.998405Z"
    },
    "papermill": {
     "duration": 0.029836,
     "end_time": "2021-04-04T23:09:33.999119",
     "exception": false,
     "start_time": "2021-04-04T23:09:33.969283",
     "status": "completed"
    },
    "tags": []
   },
   "outputs": [],
   "source": [
    "from sklearn.metrics import f1_score"
   ]
  },
  {
   "cell_type": "code",
   "execution_count": 26,
   "id": "211744d3",
   "metadata": {
    "execution": {
     "iopub.execute_input": "2021-04-04T23:09:34.053133Z",
     "iopub.status.busy": "2021-04-04T23:09:34.052368Z",
     "iopub.status.idle": "2021-04-04T23:09:34.054932Z",
     "shell.execute_reply": "2021-04-04T23:09:34.055630Z"
    },
    "papermill": {
     "duration": 0.032714,
     "end_time": "2021-04-04T23:09:34.055828",
     "exception": false,
     "start_time": "2021-04-04T23:09:34.023114",
     "status": "completed"
    },
    "tags": []
   },
   "outputs": [],
   "source": [
    "y_test = y_test.replace([0, 1], [1, -1])"
   ]
  },
  {
   "cell_type": "code",
   "execution_count": 27,
   "id": "d68a9204",
   "metadata": {
    "execution": {
     "iopub.execute_input": "2021-04-04T23:09:34.118179Z",
     "iopub.status.busy": "2021-04-04T23:09:34.117374Z",
     "iopub.status.idle": "2021-04-04T23:09:34.119758Z",
     "shell.execute_reply": "2021-04-04T23:09:34.120453Z"
    },
    "papermill": {
     "duration": 0.035963,
     "end_time": "2021-04-04T23:09:34.120650",
     "exception": false,
     "start_time": "2021-04-04T23:09:34.084687",
     "status": "completed"
    },
    "tags": []
   },
   "outputs": [],
   "source": [
    "def evaluate(truths, predictions, pos_label, neg_label):\n",
    "    TP = 0\n",
    "    FP = 0\n",
    "    TN = 0\n",
    "    FN = 0\n",
    "\n",
    "    for truth, pred in zip(truths, predictions): \n",
    "        if truth == pred == pos_label:\n",
    "           TP += 1\n",
    "        elif pred == pos_label and truth == neg_label:\n",
    "           FP += 1\n",
    "        elif truth == pred == neg_label:\n",
    "           TN += 1\n",
    "        elif pred == neg_label and truth == pos_label:\n",
    "           FN += 1\n",
    "\n",
    "    precision = TP / (TP + FP)\n",
    "    sensitivity = TP / (TP + FN)\n",
    "    \n",
    "    return {\n",
    "        'true_pos': TP,\n",
    "        'false_pos': FP,\n",
    "        'false_neg': FN,\n",
    "        'true_neg': TN,\n",
    "        'precision': precision,\n",
    "        'sensitivity': sensitivity,\n",
    "        'f1': (2 * (precision * sensitivity)) / (precision + sensitivity)\n",
    "    }\n",
    "\n",
    "score = evaluate(y_test, predictions, pos_label=-1, neg_label=1)"
   ]
  },
  {
   "cell_type": "markdown",
   "id": "93596516",
   "metadata": {
    "papermill": {
     "duration": 0.023483,
     "end_time": "2021-04-04T23:09:34.170299",
     "exception": false,
     "start_time": "2021-04-04T23:09:34.146816",
     "status": "completed"
    },
    "tags": []
   },
   "source": [
    "# Report"
   ]
  },
  {
   "cell_type": "code",
   "execution_count": 28,
   "id": "bea5fba1",
   "metadata": {
    "execution": {
     "iopub.execute_input": "2021-04-04T23:09:34.225524Z",
     "iopub.status.busy": "2021-04-04T23:09:34.224414Z",
     "iopub.status.idle": "2021-04-04T23:09:34.228439Z",
     "shell.execute_reply": "2021-04-04T23:09:34.229331Z"
    },
    "papermill": {
     "duration": 0.03521,
     "end_time": "2021-04-04T23:09:34.229597",
     "exception": false,
     "start_time": "2021-04-04T23:09:34.194387",
     "status": "completed"
    },
    "tags": []
   },
   "outputs": [],
   "source": [
    "import csv\n",
    "\n",
    "\n",
    "dataset_config_name = DATASET_CONFIG_PATH.split('/')[-1].split('.')[0]\n",
    "model_config_name = MODEL_CONFIG_PATH.split('/')[-1].split('.')[0]\n",
    "configuration = f\"dataset_{dataset_config_name}-model_{model_config_name}\"\n",
    "\n",
    "with open('results.csv', 'a') as f:\n",
    "    report = dict({'configuration': configuration}, **score)\n",
    "    writer = csv.DictWriter(f, report.keys())\n",
    "    writer.writerow(report)"
   ]
  }
 ],
 "metadata": {
  "celltoolbar": "Tags",
  "kernelspec": {
   "display_name": "Python 3",
   "language": "python",
   "name": "python3"
  },
  "language_info": {
   "codemirror_mode": {
    "name": "ipython",
    "version": 3
   },
   "file_extension": ".py",
   "mimetype": "text/x-python",
   "name": "python",
   "nbconvert_exporter": "python",
   "pygments_lexer": "ipython3",
   "version": "3.9.1"
  },
  "papermill": {
   "default_parameters": {},
   "duration": 4.747114,
   "end_time": "2021-04-04T23:09:34.872658",
   "environment_variables": {},
   "exception": null,
   "input_path": "main.ipynb",
   "output_path": "runs/dataset_000091-model_000004.ipynb",
   "parameters": {
    "DATASET_CONFIG_PATH": "config/dataset/000091.json",
    "MODEL_CONFIG_PATH": "config/model/000004.json",
    "PROFILE_REPORTING": false
   },
   "start_time": "2021-04-04T23:09:30.125544",
   "version": "2.3.3"
  }
 },
 "nbformat": 4,
 "nbformat_minor": 5
}