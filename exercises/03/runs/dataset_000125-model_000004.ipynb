{
 "cells": [
  {
   "cell_type": "markdown",
   "id": "51c71c25",
   "metadata": {
    "papermill": {
     "duration": 0.021273,
     "end_time": "2021-04-04T23:22:59.334808",
     "exception": false,
     "start_time": "2021-04-04T23:22:59.313535",
     "status": "completed"
    },
    "tags": []
   },
   "source": [
    "# Parametrizing"
   ]
  },
  {
   "cell_type": "code",
   "execution_count": 1,
   "id": "3b136394",
   "metadata": {
    "execution": {
     "iopub.execute_input": "2021-04-04T23:22:59.404940Z",
     "iopub.status.busy": "2021-04-04T23:22:59.402112Z",
     "iopub.status.idle": "2021-04-04T23:22:59.407914Z",
     "shell.execute_reply": "2021-04-04T23:22:59.408732Z"
    },
    "papermill": {
     "duration": 0.047424,
     "end_time": "2021-04-04T23:22:59.409016",
     "exception": false,
     "start_time": "2021-04-04T23:22:59.361592",
     "status": "completed"
    },
    "tags": [
     "parameters"
    ]
   },
   "outputs": [],
   "source": [
    "DATASET_CONFIG_PATH = 'config/dataset/kc1_001.json'\n",
    "MODEL_CONFIG_PATH = 'config/model/knndd_001.json'\n",
    "PROFILE_REPORTING = False"
   ]
  },
  {
   "cell_type": "code",
   "execution_count": 2,
   "id": "15b3adc0",
   "metadata": {
    "execution": {
     "iopub.execute_input": "2021-04-04T23:22:59.456314Z",
     "iopub.status.busy": "2021-04-04T23:22:59.455390Z",
     "iopub.status.idle": "2021-04-04T23:22:59.457406Z",
     "shell.execute_reply": "2021-04-04T23:22:59.458095Z"
    },
    "papermill": {
     "duration": 0.027156,
     "end_time": "2021-04-04T23:22:59.458361",
     "exception": false,
     "start_time": "2021-04-04T23:22:59.431205",
     "status": "completed"
    },
    "tags": [
     "injected-parameters"
    ]
   },
   "outputs": [],
   "source": [
    "# Parameters\n",
    "DATASET_CONFIG_PATH = \"config/dataset/000125.json\"\n",
    "MODEL_CONFIG_PATH = \"config/model/000004.json\"\n",
    "PROFILE_REPORTING = False\n"
   ]
  },
  {
   "cell_type": "code",
   "execution_count": 3,
   "id": "b80f2a10",
   "metadata": {
    "execution": {
     "iopub.execute_input": "2021-04-04T23:22:59.516814Z",
     "iopub.status.busy": "2021-04-04T23:22:59.515793Z",
     "iopub.status.idle": "2021-04-04T23:22:59.520437Z",
     "shell.execute_reply": "2021-04-04T23:22:59.521025Z"
    },
    "papermill": {
     "duration": 0.036621,
     "end_time": "2021-04-04T23:22:59.521259",
     "exception": false,
     "start_time": "2021-04-04T23:22:59.484638",
     "status": "completed"
    },
    "tags": []
   },
   "outputs": [],
   "source": [
    "import json\n",
    "\n",
    "\n",
    "with open(DATASET_CONFIG_PATH) as f:\n",
    "    dataset_config = json.load(f)\n",
    "\n",
    "with open(MODEL_CONFIG_PATH) as f:\n",
    "    model_config = json.load(f)"
   ]
  },
  {
   "cell_type": "markdown",
   "id": "9a4b0e2d",
   "metadata": {
    "papermill": {
     "duration": 0.020204,
     "end_time": "2021-04-04T23:22:59.565123",
     "exception": false,
     "start_time": "2021-04-04T23:22:59.544919",
     "status": "completed"
    },
    "tags": []
   },
   "source": [
    "# Profiling"
   ]
  },
  {
   "cell_type": "code",
   "execution_count": 4,
   "id": "a3e0289b",
   "metadata": {
    "execution": {
     "iopub.execute_input": "2021-04-04T23:22:59.616864Z",
     "iopub.status.busy": "2021-04-04T23:22:59.615644Z",
     "iopub.status.idle": "2021-04-04T23:23:01.255757Z",
     "shell.execute_reply": "2021-04-04T23:23:01.254970Z"
    },
    "papermill": {
     "duration": 1.668452,
     "end_time": "2021-04-04T23:23:01.255876",
     "exception": false,
     "start_time": "2021-04-04T23:22:59.587424",
     "status": "completed"
    },
    "tags": []
   },
   "outputs": [],
   "source": [
    "import pandas as pd\n",
    "from pandas_profiling import ProfileReport"
   ]
  },
  {
   "cell_type": "code",
   "execution_count": 5,
   "id": "ee6c0666",
   "metadata": {
    "execution": {
     "iopub.execute_input": "2021-04-04T23:23:01.301693Z",
     "iopub.status.busy": "2021-04-04T23:23:01.300780Z",
     "iopub.status.idle": "2021-04-04T23:23:01.312006Z",
     "shell.execute_reply": "2021-04-04T23:23:01.312550Z"
    },
    "papermill": {
     "duration": 0.036318,
     "end_time": "2021-04-04T23:23:01.312715",
     "exception": false,
     "start_time": "2021-04-04T23:23:01.276397",
     "status": "completed"
    },
    "tags": []
   },
   "outputs": [],
   "source": [
    "df = pd.read_csv(dataset_config['dataset_path'])"
   ]
  },
  {
   "cell_type": "code",
   "execution_count": 6,
   "id": "7eca6c4a",
   "metadata": {
    "execution": {
     "iopub.execute_input": "2021-04-04T23:23:01.378430Z",
     "iopub.status.busy": "2021-04-04T23:23:01.374216Z",
     "iopub.status.idle": "2021-04-04T23:23:01.396925Z",
     "shell.execute_reply": "2021-04-04T23:23:01.397379Z"
    },
    "papermill": {
     "duration": 0.06348,
     "end_time": "2021-04-04T23:23:01.397519",
     "exception": false,
     "start_time": "2021-04-04T23:23:01.334039",
     "status": "completed"
    },
    "tags": []
   },
   "outputs": [
    {
     "name": "stdout",
     "output_type": "stream",
     "text": [
      "<class 'pandas.core.frame.DataFrame'>\n",
      "RangeIndex: 498 entries, 0 to 497\n",
      "Data columns (total 23 columns):\n",
      " #   Column             Non-Null Count  Dtype  \n",
      "---  ------             --------------  -----  \n",
      " 0   id                 498 non-null    int64  \n",
      " 1   loc                498 non-null    float64\n",
      " 2   v(g)               498 non-null    float64\n",
      " 3   ev(g)              498 non-null    float64\n",
      " 4   iv(g)              498 non-null    float64\n",
      " 5   n                  498 non-null    float64\n",
      " 6   v                  498 non-null    float64\n",
      " 7   l                  498 non-null    float64\n",
      " 8   d                  498 non-null    float64\n",
      " 9   i                  498 non-null    float64\n",
      " 10  e                  498 non-null    float64\n",
      " 11  b                  498 non-null    float64\n",
      " 12  t                  498 non-null    float64\n",
      " 13  lOCode             498 non-null    int64  \n",
      " 14  lOComment          498 non-null    int64  \n",
      " 15  lOBlank            498 non-null    int64  \n",
      " 16  locCodeAndComment  498 non-null    int64  \n",
      " 17  uniq_Op            498 non-null    float64\n",
      " 18  uniq_Opnd          498 non-null    float64\n",
      " 19  total_Op           498 non-null    float64\n",
      " 20  total_Opnd         498 non-null    float64\n",
      " 21  branchCount        498 non-null    float64\n",
      " 22  defects            498 non-null    bool   \n",
      "dtypes: bool(1), float64(17), int64(5)\n",
      "memory usage: 86.2 KB\n"
     ]
    }
   ],
   "source": [
    "df.info()"
   ]
  },
  {
   "cell_type": "code",
   "execution_count": 7,
   "id": "3638e5e8",
   "metadata": {
    "execution": {
     "iopub.execute_input": "2021-04-04T23:23:01.456731Z",
     "iopub.status.busy": "2021-04-04T23:23:01.454635Z",
     "iopub.status.idle": "2021-04-04T23:23:01.486131Z",
     "shell.execute_reply": "2021-04-04T23:23:01.485618Z"
    },
    "papermill": {
     "duration": 0.063027,
     "end_time": "2021-04-04T23:23:01.486251",
     "exception": false,
     "start_time": "2021-04-04T23:23:01.423224",
     "status": "completed"
    },
    "tags": []
   },
   "outputs": [
    {
     "data": {
      "text/html": [
       "<div>\n",
       "<style scoped>\n",
       "    .dataframe tbody tr th:only-of-type {\n",
       "        vertical-align: middle;\n",
       "    }\n",
       "\n",
       "    .dataframe tbody tr th {\n",
       "        vertical-align: top;\n",
       "    }\n",
       "\n",
       "    .dataframe thead th {\n",
       "        text-align: right;\n",
       "    }\n",
       "</style>\n",
       "<table border=\"1\" class=\"dataframe\">\n",
       "  <thead>\n",
       "    <tr style=\"text-align: right;\">\n",
       "      <th></th>\n",
       "      <th>id</th>\n",
       "      <th>loc</th>\n",
       "      <th>v(g)</th>\n",
       "      <th>ev(g)</th>\n",
       "      <th>iv(g)</th>\n",
       "      <th>n</th>\n",
       "      <th>v</th>\n",
       "      <th>l</th>\n",
       "      <th>d</th>\n",
       "      <th>i</th>\n",
       "      <th>...</th>\n",
       "      <th>lOCode</th>\n",
       "      <th>lOComment</th>\n",
       "      <th>lOBlank</th>\n",
       "      <th>locCodeAndComment</th>\n",
       "      <th>uniq_Op</th>\n",
       "      <th>uniq_Opnd</th>\n",
       "      <th>total_Op</th>\n",
       "      <th>total_Opnd</th>\n",
       "      <th>branchCount</th>\n",
       "      <th>defects</th>\n",
       "    </tr>\n",
       "  </thead>\n",
       "  <tbody>\n",
       "    <tr>\n",
       "      <th>0</th>\n",
       "      <td>1</td>\n",
       "      <td>1.1</td>\n",
       "      <td>1.4</td>\n",
       "      <td>1.4</td>\n",
       "      <td>1.4</td>\n",
       "      <td>1.3</td>\n",
       "      <td>1.30</td>\n",
       "      <td>1.30</td>\n",
       "      <td>1.30</td>\n",
       "      <td>1.30</td>\n",
       "      <td>...</td>\n",
       "      <td>2</td>\n",
       "      <td>2</td>\n",
       "      <td>2</td>\n",
       "      <td>2</td>\n",
       "      <td>1.2</td>\n",
       "      <td>1.2</td>\n",
       "      <td>1.2</td>\n",
       "      <td>1.2</td>\n",
       "      <td>1.4</td>\n",
       "      <td>False</td>\n",
       "    </tr>\n",
       "    <tr>\n",
       "      <th>1</th>\n",
       "      <td>2</td>\n",
       "      <td>1.0</td>\n",
       "      <td>1.0</td>\n",
       "      <td>1.0</td>\n",
       "      <td>1.0</td>\n",
       "      <td>1.0</td>\n",
       "      <td>1.00</td>\n",
       "      <td>1.00</td>\n",
       "      <td>1.00</td>\n",
       "      <td>1.00</td>\n",
       "      <td>...</td>\n",
       "      <td>1</td>\n",
       "      <td>1</td>\n",
       "      <td>1</td>\n",
       "      <td>1</td>\n",
       "      <td>1.0</td>\n",
       "      <td>1.0</td>\n",
       "      <td>1.0</td>\n",
       "      <td>1.0</td>\n",
       "      <td>1.0</td>\n",
       "      <td>True</td>\n",
       "    </tr>\n",
       "    <tr>\n",
       "      <th>2</th>\n",
       "      <td>3</td>\n",
       "      <td>24.0</td>\n",
       "      <td>5.0</td>\n",
       "      <td>1.0</td>\n",
       "      <td>3.0</td>\n",
       "      <td>63.0</td>\n",
       "      <td>309.13</td>\n",
       "      <td>0.11</td>\n",
       "      <td>9.50</td>\n",
       "      <td>32.54</td>\n",
       "      <td>...</td>\n",
       "      <td>1</td>\n",
       "      <td>0</td>\n",
       "      <td>6</td>\n",
       "      <td>0</td>\n",
       "      <td>15.0</td>\n",
       "      <td>15.0</td>\n",
       "      <td>44.0</td>\n",
       "      <td>19.0</td>\n",
       "      <td>9.0</td>\n",
       "      <td>False</td>\n",
       "    </tr>\n",
       "    <tr>\n",
       "      <th>3</th>\n",
       "      <td>4</td>\n",
       "      <td>20.0</td>\n",
       "      <td>4.0</td>\n",
       "      <td>4.0</td>\n",
       "      <td>2.0</td>\n",
       "      <td>47.0</td>\n",
       "      <td>215.49</td>\n",
       "      <td>0.06</td>\n",
       "      <td>16.00</td>\n",
       "      <td>13.47</td>\n",
       "      <td>...</td>\n",
       "      <td>0</td>\n",
       "      <td>0</td>\n",
       "      <td>3</td>\n",
       "      <td>0</td>\n",
       "      <td>16.0</td>\n",
       "      <td>8.0</td>\n",
       "      <td>31.0</td>\n",
       "      <td>16.0</td>\n",
       "      <td>7.0</td>\n",
       "      <td>False</td>\n",
       "    </tr>\n",
       "    <tr>\n",
       "      <th>4</th>\n",
       "      <td>5</td>\n",
       "      <td>24.0</td>\n",
       "      <td>6.0</td>\n",
       "      <td>6.0</td>\n",
       "      <td>2.0</td>\n",
       "      <td>72.0</td>\n",
       "      <td>346.13</td>\n",
       "      <td>0.06</td>\n",
       "      <td>17.33</td>\n",
       "      <td>19.97</td>\n",
       "      <td>...</td>\n",
       "      <td>0</td>\n",
       "      <td>0</td>\n",
       "      <td>3</td>\n",
       "      <td>0</td>\n",
       "      <td>16.0</td>\n",
       "      <td>12.0</td>\n",
       "      <td>46.0</td>\n",
       "      <td>26.0</td>\n",
       "      <td>11.0</td>\n",
       "      <td>False</td>\n",
       "    </tr>\n",
       "  </tbody>\n",
       "</table>\n",
       "<p>5 rows × 23 columns</p>\n",
       "</div>"
      ],
      "text/plain": [
       "   id   loc  v(g)  ev(g)  iv(g)     n       v     l      d      i  ...  \\\n",
       "0   1   1.1   1.4    1.4    1.4   1.3    1.30  1.30   1.30   1.30  ...   \n",
       "1   2   1.0   1.0    1.0    1.0   1.0    1.00  1.00   1.00   1.00  ...   \n",
       "2   3  24.0   5.0    1.0    3.0  63.0  309.13  0.11   9.50  32.54  ...   \n",
       "3   4  20.0   4.0    4.0    2.0  47.0  215.49  0.06  16.00  13.47  ...   \n",
       "4   5  24.0   6.0    6.0    2.0  72.0  346.13  0.06  17.33  19.97  ...   \n",
       "\n",
       "   lOCode  lOComment  lOBlank  locCodeAndComment  uniq_Op  uniq_Opnd  \\\n",
       "0       2          2        2                  2      1.2        1.2   \n",
       "1       1          1        1                  1      1.0        1.0   \n",
       "2       1          0        6                  0     15.0       15.0   \n",
       "3       0          0        3                  0     16.0        8.0   \n",
       "4       0          0        3                  0     16.0       12.0   \n",
       "\n",
       "   total_Op  total_Opnd  branchCount  defects  \n",
       "0       1.2         1.2          1.4    False  \n",
       "1       1.0         1.0          1.0     True  \n",
       "2      44.0        19.0          9.0    False  \n",
       "3      31.0        16.0          7.0    False  \n",
       "4      46.0        26.0         11.0    False  \n",
       "\n",
       "[5 rows x 23 columns]"
      ]
     },
     "execution_count": 7,
     "metadata": {},
     "output_type": "execute_result"
    }
   ],
   "source": [
    "df.head()"
   ]
  },
  {
   "cell_type": "code",
   "execution_count": 8,
   "id": "733e95eb",
   "metadata": {
    "execution": {
     "iopub.execute_input": "2021-04-04T23:23:01.548346Z",
     "iopub.status.busy": "2021-04-04T23:23:01.547239Z",
     "iopub.status.idle": "2021-04-04T23:23:01.549732Z",
     "shell.execute_reply": "2021-04-04T23:23:01.550331Z"
    },
    "papermill": {
     "duration": 0.037585,
     "end_time": "2021-04-04T23:23:01.550503",
     "exception": false,
     "start_time": "2021-04-04T23:23:01.512918",
     "status": "completed"
    },
    "tags": []
   },
   "outputs": [],
   "source": [
    "del df['id']"
   ]
  },
  {
   "cell_type": "code",
   "execution_count": 9,
   "id": "6ff6f5b0",
   "metadata": {
    "execution": {
     "iopub.execute_input": "2021-04-04T23:23:01.603056Z",
     "iopub.status.busy": "2021-04-04T23:23:01.601959Z",
     "iopub.status.idle": "2021-04-04T23:23:01.605829Z",
     "shell.execute_reply": "2021-04-04T23:23:01.607265Z"
    },
    "papermill": {
     "duration": 0.031905,
     "end_time": "2021-04-04T23:23:01.607466",
     "exception": false,
     "start_time": "2021-04-04T23:23:01.575561",
     "status": "completed"
    },
    "tags": []
   },
   "outputs": [],
   "source": [
    "if PROFILE_REPORTING:\n",
    "    ProfileReport(df).to_widgets()"
   ]
  },
  {
   "cell_type": "markdown",
   "id": "1deaf3f0",
   "metadata": {
    "papermill": {
     "duration": 0.026072,
     "end_time": "2021-04-04T23:23:01.656209",
     "exception": false,
     "start_time": "2021-04-04T23:23:01.630137",
     "status": "completed"
    },
    "tags": []
   },
   "source": [
    "# Preprocess"
   ]
  },
  {
   "cell_type": "code",
   "execution_count": 10,
   "id": "1513e563",
   "metadata": {
    "execution": {
     "iopub.execute_input": "2021-04-04T23:23:01.707044Z",
     "iopub.status.busy": "2021-04-04T23:23:01.706237Z",
     "iopub.status.idle": "2021-04-04T23:23:01.708593Z",
     "shell.execute_reply": "2021-04-04T23:23:01.708089Z"
    },
    "papermill": {
     "duration": 0.028376,
     "end_time": "2021-04-04T23:23:01.708711",
     "exception": false,
     "start_time": "2021-04-04T23:23:01.680335",
     "status": "completed"
    },
    "tags": []
   },
   "outputs": [],
   "source": [
    "working_df = df.copy()"
   ]
  },
  {
   "cell_type": "code",
   "execution_count": 11,
   "id": "3b26d675",
   "metadata": {
    "execution": {
     "iopub.execute_input": "2021-04-04T23:23:01.774829Z",
     "iopub.status.busy": "2021-04-04T23:23:01.773734Z",
     "iopub.status.idle": "2021-04-04T23:23:01.781255Z",
     "shell.execute_reply": "2021-04-04T23:23:01.780303Z"
    },
    "papermill": {
     "duration": 0.047567,
     "end_time": "2021-04-04T23:23:01.781442",
     "exception": false,
     "start_time": "2021-04-04T23:23:01.733875",
     "status": "completed"
    },
    "tags": []
   },
   "outputs": [],
   "source": [
    "working_df['defects'] = working_df['defects'].replace([False, True], [0, 1])"
   ]
  },
  {
   "cell_type": "code",
   "execution_count": 12,
   "id": "eb48604f",
   "metadata": {
    "execution": {
     "iopub.execute_input": "2021-04-04T23:23:01.840192Z",
     "iopub.status.busy": "2021-04-04T23:23:01.839458Z",
     "iopub.status.idle": "2021-04-04T23:23:01.841845Z",
     "shell.execute_reply": "2021-04-04T23:23:01.842387Z"
    },
    "papermill": {
     "duration": 0.037653,
     "end_time": "2021-04-04T23:23:01.842554",
     "exception": false,
     "start_time": "2021-04-04T23:23:01.804901",
     "status": "completed"
    },
    "tags": []
   },
   "outputs": [],
   "source": [
    "for col in dataset_config['delete_columns']:\n",
    "    del working_df[col]"
   ]
  },
  {
   "cell_type": "code",
   "execution_count": 13,
   "id": "9a17bc29",
   "metadata": {
    "execution": {
     "iopub.execute_input": "2021-04-04T23:23:01.901458Z",
     "iopub.status.busy": "2021-04-04T23:23:01.900638Z",
     "iopub.status.idle": "2021-04-04T23:23:01.912844Z",
     "shell.execute_reply": "2021-04-04T23:23:01.913435Z"
    },
    "papermill": {
     "duration": 0.047061,
     "end_time": "2021-04-04T23:23:01.913617",
     "exception": false,
     "start_time": "2021-04-04T23:23:01.866556",
     "status": "completed"
    },
    "tags": []
   },
   "outputs": [],
   "source": [
    "working_df = working_df.drop_duplicates()"
   ]
  },
  {
   "cell_type": "markdown",
   "id": "a4d52ca6",
   "metadata": {
    "papermill": {
     "duration": 0.021846,
     "end_time": "2021-04-04T23:23:01.960459",
     "exception": false,
     "start_time": "2021-04-04T23:23:01.938613",
     "status": "completed"
    },
    "tags": []
   },
   "source": [
    "# Split"
   ]
  },
  {
   "cell_type": "code",
   "execution_count": 14,
   "id": "3e9ee4b5",
   "metadata": {
    "execution": {
     "iopub.execute_input": "2021-04-04T23:23:02.018269Z",
     "iopub.status.busy": "2021-04-04T23:23:02.017317Z",
     "iopub.status.idle": "2021-04-04T23:23:02.051256Z",
     "shell.execute_reply": "2021-04-04T23:23:02.051717Z"
    },
    "papermill": {
     "duration": 0.066274,
     "end_time": "2021-04-04T23:23:02.051870",
     "exception": false,
     "start_time": "2021-04-04T23:23:01.985596",
     "status": "completed"
    },
    "tags": []
   },
   "outputs": [],
   "source": [
    "from sklearn.model_selection import train_test_split"
   ]
  },
  {
   "cell_type": "code",
   "execution_count": 15,
   "id": "274004ce",
   "metadata": {
    "execution": {
     "iopub.execute_input": "2021-04-04T23:23:02.106041Z",
     "iopub.status.busy": "2021-04-04T23:23:02.105331Z",
     "iopub.status.idle": "2021-04-04T23:23:02.109890Z",
     "shell.execute_reply": "2021-04-04T23:23:02.110347Z"
    },
    "papermill": {
     "duration": 0.03168,
     "end_time": "2021-04-04T23:23:02.110499",
     "exception": false,
     "start_time": "2021-04-04T23:23:02.078819",
     "status": "completed"
    },
    "scrolled": true,
    "tags": []
   },
   "outputs": [],
   "source": [
    "inlier, outlier = working_df[working_df['defects'] == 0], working_df[working_df['defects'] == 1]"
   ]
  },
  {
   "cell_type": "code",
   "execution_count": 16,
   "id": "753c7b03",
   "metadata": {
    "execution": {
     "iopub.execute_input": "2021-04-04T23:23:02.168502Z",
     "iopub.status.busy": "2021-04-04T23:23:02.163799Z",
     "iopub.status.idle": "2021-04-04T23:23:02.170194Z",
     "shell.execute_reply": "2021-04-04T23:23:02.170942Z"
    },
    "papermill": {
     "duration": 0.035783,
     "end_time": "2021-04-04T23:23:02.171132",
     "exception": false,
     "start_time": "2021-04-04T23:23:02.135349",
     "status": "completed"
    },
    "tags": []
   },
   "outputs": [],
   "source": [
    "X_inlier = inlier.copy()\n",
    "y_inlier = X_inlier.pop('defects')\n",
    "X_outlier = outlier.copy()\n",
    "y_outlier = X_outlier.pop('defects')"
   ]
  },
  {
   "cell_type": "code",
   "execution_count": 17,
   "id": "2ba43193",
   "metadata": {
    "execution": {
     "iopub.execute_input": "2021-04-04T23:23:02.225391Z",
     "iopub.status.busy": "2021-04-04T23:23:02.224192Z",
     "iopub.status.idle": "2021-04-04T23:23:02.227606Z",
     "shell.execute_reply": "2021-04-04T23:23:02.228084Z"
    },
    "papermill": {
     "duration": 0.033045,
     "end_time": "2021-04-04T23:23:02.228233",
     "exception": false,
     "start_time": "2021-04-04T23:23:02.195188",
     "status": "completed"
    },
    "tags": []
   },
   "outputs": [],
   "source": [
    "test_size = dataset_config['test_size']\n",
    "random_state = dataset_config['random_state']\n",
    "\n",
    "X_inlier_train, X_inlier_test, y_inlier_train, y_inlier_test = train_test_split(\n",
    "    X_inlier,\n",
    "    y_inlier,\n",
    "    test_size=test_size,\n",
    "    random_state=random_state\n",
    ")"
   ]
  },
  {
   "cell_type": "code",
   "execution_count": 18,
   "id": "0b7582ca",
   "metadata": {
    "execution": {
     "iopub.execute_input": "2021-04-04T23:23:02.296399Z",
     "iopub.status.busy": "2021-04-04T23:23:02.295287Z",
     "iopub.status.idle": "2021-04-04T23:23:02.297773Z",
     "shell.execute_reply": "2021-04-04T23:23:02.298289Z"
    },
    "papermill": {
     "duration": 0.044558,
     "end_time": "2021-04-04T23:23:02.298471",
     "exception": false,
     "start_time": "2021-04-04T23:23:02.253913",
     "status": "completed"
    },
    "tags": []
   },
   "outputs": [],
   "source": [
    "test_outlier_size = dataset_config['test_outlier_size']\n",
    "if test_outlier_size > 0.0:\n",
    "    X_outlier_train, X_outlier_test, y_outlier_train, y_outlier_test = train_test_split(\n",
    "        X_outlier,\n",
    "        y_outlier,\n",
    "        test_size=test_outlier_size,\n",
    "        random_state=random_state\n",
    "    )\n",
    "else:\n",
    "    X_outlier_train, y_outlier_train = pd.DataFrame(columns=X_outlier.columns), pd.Series(dtype='int64')\n",
    "    X_outlier_test, y_outlier_test = X_outlier.copy(), y_outlier.copy()"
   ]
  },
  {
   "cell_type": "code",
   "execution_count": 19,
   "id": "c34363db",
   "metadata": {
    "execution": {
     "iopub.execute_input": "2021-04-04T23:23:02.365205Z",
     "iopub.status.busy": "2021-04-04T23:23:02.364340Z",
     "iopub.status.idle": "2021-04-04T23:23:02.367672Z",
     "shell.execute_reply": "2021-04-04T23:23:02.367072Z"
    },
    "papermill": {
     "duration": 0.046308,
     "end_time": "2021-04-04T23:23:02.367821",
     "exception": false,
     "start_time": "2021-04-04T23:23:02.321513",
     "status": "completed"
    },
    "tags": []
   },
   "outputs": [],
   "source": [
    "X_train, y_train = pd.concat([X_inlier_train, X_outlier_train], ignore_index=True), pd.concat([y_inlier_train, y_outlier_train], ignore_index=True)\n",
    "X_test, y_test = pd.concat([X_inlier_test, X_outlier_test], ignore_index=True), pd.concat([y_inlier_test, y_outlier_test], ignore_index=True)"
   ]
  },
  {
   "cell_type": "markdown",
   "id": "7cde7309",
   "metadata": {
    "papermill": {
     "duration": 0.031558,
     "end_time": "2021-04-04T23:23:02.428927",
     "exception": false,
     "start_time": "2021-04-04T23:23:02.397369",
     "status": "completed"
    },
    "tags": []
   },
   "source": [
    "# Model"
   ]
  },
  {
   "cell_type": "code",
   "execution_count": 20,
   "id": "2b12a415",
   "metadata": {
    "execution": {
     "iopub.execute_input": "2021-04-04T23:23:02.493870Z",
     "iopub.status.busy": "2021-04-04T23:23:02.493141Z",
     "iopub.status.idle": "2021-04-04T23:23:02.495486Z",
     "shell.execute_reply": "2021-04-04T23:23:02.496018Z"
    },
    "papermill": {
     "duration": 0.04021,
     "end_time": "2021-04-04T23:23:02.496183",
     "exception": false,
     "start_time": "2021-04-04T23:23:02.455973",
     "status": "completed"
    },
    "tags": []
   },
   "outputs": [],
   "source": [
    "from math import sqrt\n",
    "\n",
    "\n",
    "class KNNDataDescription:\n",
    "    def __init__(self, k=5, outlier_threshold=1.0):\n",
    "        self.k = k\n",
    "        self.outlier_threshold = outlier_threshold\n",
    "        self.X = []\n",
    "    \n",
    "    def fit(self, X):\n",
    "        self.X = [features.to_list() for index, features in X.iterrows()]\n",
    "\n",
    "    def predict(self, entries):\n",
    "        return [self.predict_entry(features.to_list()) for index, features in entries.iterrows()]\n",
    "    \n",
    "    def predict_entry(self, entry):\n",
    "        kth_neighbor, kth_distance = self.get_kth_neighbor(entry, self.k)\n",
    "        kth_kth_neighbor, kth_kth_distance = self.get_kth_neighbor(kth_neighbor, self.k + 1)\n",
    "\n",
    "        outlier_score = kth_distance / (kth_kth_distance + 0.000001)\n",
    "\n",
    "        return 1 if outlier_score < self.outlier_threshold else -1\n",
    "        \n",
    "    def euclidean_distance(self, features1, features2):\n",
    "        distance = 0.0\n",
    "        for feat1, feat2 in zip(features1, features2):\n",
    "            distance += (feat1 - feat2)**2\n",
    "                \n",
    "        return sqrt(distance)\n",
    "\n",
    "    def get_neighbors(self, entry, k):\n",
    "        distance_to_data_points = [\n",
    "            (data_point, self.euclidean_distance(entry, data_point))\n",
    "            for data_point in self.X\n",
    "        ]\n",
    "        sorted_by_distance = sorted(distance_to_data_points, key=lambda tup: tup[1])\n",
    "        neighbors = sorted_by_distance[:k]\n",
    "        return neighbors\n",
    "\n",
    "    def get_kth_neighbor(self, entry, k):\n",
    "        neighbors = self.get_neighbors(entry, k)\n",
    "        return neighbors[-1]\n"
   ]
  },
  {
   "cell_type": "code",
   "execution_count": 21,
   "id": "1fa9ec1c",
   "metadata": {
    "execution": {
     "iopub.execute_input": "2021-04-04T23:23:02.556996Z",
     "iopub.status.busy": "2021-04-04T23:23:02.555972Z",
     "iopub.status.idle": "2021-04-04T23:23:02.575742Z",
     "shell.execute_reply": "2021-04-04T23:23:02.575158Z"
    },
    "papermill": {
     "duration": 0.055094,
     "end_time": "2021-04-04T23:23:02.575861",
     "exception": false,
     "start_time": "2021-04-04T23:23:02.520767",
     "status": "completed"
    },
    "tags": []
   },
   "outputs": [],
   "source": [
    "from sklearn.svm import OneClassSVM\n",
    "\n",
    "\n",
    "models = {\n",
    "    'oneclasssvm': OneClassSVM,\n",
    "    'knndatadescription': KNNDataDescription,\n",
    "}"
   ]
  },
  {
   "cell_type": "code",
   "execution_count": 22,
   "id": "4d72a0b1",
   "metadata": {
    "execution": {
     "iopub.execute_input": "2021-04-04T23:23:02.629461Z",
     "iopub.status.busy": "2021-04-04T23:23:02.628880Z",
     "iopub.status.idle": "2021-04-04T23:23:02.631284Z",
     "shell.execute_reply": "2021-04-04T23:23:02.631791Z"
    },
    "papermill": {
     "duration": 0.030535,
     "end_time": "2021-04-04T23:23:02.631957",
     "exception": false,
     "start_time": "2021-04-04T23:23:02.601422",
     "status": "completed"
    },
    "scrolled": true,
    "tags": []
   },
   "outputs": [],
   "source": [
    "model_cls = models[model_config['model_type']]\n",
    "model = model_cls(**model_config['hyperparameters'])"
   ]
  },
  {
   "cell_type": "markdown",
   "id": "e00cff3b",
   "metadata": {
    "papermill": {
     "duration": 0.027917,
     "end_time": "2021-04-04T23:23:02.686191",
     "exception": false,
     "start_time": "2021-04-04T23:23:02.658274",
     "status": "completed"
    },
    "tags": []
   },
   "source": [
    "# Fit"
   ]
  },
  {
   "cell_type": "code",
   "execution_count": 23,
   "id": "8b2ded89",
   "metadata": {
    "execution": {
     "iopub.execute_input": "2021-04-04T23:23:02.743280Z",
     "iopub.status.busy": "2021-04-04T23:23:02.742111Z",
     "iopub.status.idle": "2021-04-04T23:23:02.752202Z",
     "shell.execute_reply": "2021-04-04T23:23:02.752722Z"
    },
    "papermill": {
     "duration": 0.041731,
     "end_time": "2021-04-04T23:23:02.752869",
     "exception": false,
     "start_time": "2021-04-04T23:23:02.711138",
     "status": "completed"
    },
    "tags": []
   },
   "outputs": [
    {
     "data": {
      "text/plain": [
       "OneClassSVM()"
      ]
     },
     "execution_count": 23,
     "metadata": {},
     "output_type": "execute_result"
    }
   ],
   "source": [
    "model.fit(X_train)"
   ]
  },
  {
   "cell_type": "markdown",
   "id": "f99999f7",
   "metadata": {
    "papermill": {
     "duration": 0.029378,
     "end_time": "2021-04-04T23:23:02.808747",
     "exception": false,
     "start_time": "2021-04-04T23:23:02.779369",
     "status": "completed"
    },
    "tags": []
   },
   "source": [
    "# Predict"
   ]
  },
  {
   "cell_type": "code",
   "execution_count": 24,
   "id": "6536fbf7",
   "metadata": {
    "execution": {
     "iopub.execute_input": "2021-04-04T23:23:02.875257Z",
     "iopub.status.busy": "2021-04-04T23:23:02.873357Z",
     "iopub.status.idle": "2021-04-04T23:23:02.879280Z",
     "shell.execute_reply": "2021-04-04T23:23:02.879725Z"
    },
    "papermill": {
     "duration": 0.039368,
     "end_time": "2021-04-04T23:23:02.879864",
     "exception": false,
     "start_time": "2021-04-04T23:23:02.840496",
     "status": "completed"
    },
    "tags": []
   },
   "outputs": [],
   "source": [
    "predictions = model.predict(X_test)"
   ]
  },
  {
   "cell_type": "markdown",
   "id": "aa1c9881",
   "metadata": {
    "papermill": {
     "duration": 0.028281,
     "end_time": "2021-04-04T23:23:02.933825",
     "exception": false,
     "start_time": "2021-04-04T23:23:02.905544",
     "status": "completed"
    },
    "tags": []
   },
   "source": [
    "# Evaluate"
   ]
  },
  {
   "cell_type": "code",
   "execution_count": 25,
   "id": "894f0f04",
   "metadata": {
    "execution": {
     "iopub.execute_input": "2021-04-04T23:23:02.994229Z",
     "iopub.status.busy": "2021-04-04T23:23:02.993450Z",
     "iopub.status.idle": "2021-04-04T23:23:02.995820Z",
     "shell.execute_reply": "2021-04-04T23:23:02.996364Z"
    },
    "papermill": {
     "duration": 0.031939,
     "end_time": "2021-04-04T23:23:02.996513",
     "exception": false,
     "start_time": "2021-04-04T23:23:02.964574",
     "status": "completed"
    },
    "tags": []
   },
   "outputs": [],
   "source": [
    "from sklearn.metrics import f1_score"
   ]
  },
  {
   "cell_type": "code",
   "execution_count": 26,
   "id": "211744d3",
   "metadata": {
    "execution": {
     "iopub.execute_input": "2021-04-04T23:23:03.058225Z",
     "iopub.status.busy": "2021-04-04T23:23:03.057220Z",
     "iopub.status.idle": "2021-04-04T23:23:03.059337Z",
     "shell.execute_reply": "2021-04-04T23:23:03.059840Z"
    },
    "papermill": {
     "duration": 0.037324,
     "end_time": "2021-04-04T23:23:03.059996",
     "exception": false,
     "start_time": "2021-04-04T23:23:03.022672",
     "status": "completed"
    },
    "tags": []
   },
   "outputs": [],
   "source": [
    "y_test = y_test.replace([0, 1], [1, -1])"
   ]
  },
  {
   "cell_type": "code",
   "execution_count": 27,
   "id": "d68a9204",
   "metadata": {
    "execution": {
     "iopub.execute_input": "2021-04-04T23:23:03.119066Z",
     "iopub.status.busy": "2021-04-04T23:23:03.118417Z",
     "iopub.status.idle": "2021-04-04T23:23:03.120164Z",
     "shell.execute_reply": "2021-04-04T23:23:03.120620Z"
    },
    "papermill": {
     "duration": 0.03662,
     "end_time": "2021-04-04T23:23:03.120767",
     "exception": false,
     "start_time": "2021-04-04T23:23:03.084147",
     "status": "completed"
    },
    "tags": []
   },
   "outputs": [],
   "source": [
    "def evaluate(truths, predictions, pos_label, neg_label):\n",
    "    TP = 0\n",
    "    FP = 0\n",
    "    TN = 0\n",
    "    FN = 0\n",
    "\n",
    "    for truth, pred in zip(truths, predictions): \n",
    "        if truth == pred == pos_label:\n",
    "           TP += 1\n",
    "        elif pred == pos_label and truth == neg_label:\n",
    "           FP += 1\n",
    "        elif truth == pred == neg_label:\n",
    "           TN += 1\n",
    "        elif pred == neg_label and truth == pos_label:\n",
    "           FN += 1\n",
    "\n",
    "    precision = TP / (TP + FP)\n",
    "    sensitivity = TP / (TP + FN)\n",
    "    \n",
    "    return {\n",
    "        'true_pos': TP,\n",
    "        'false_pos': FP,\n",
    "        'false_neg': FN,\n",
    "        'true_neg': TN,\n",
    "        'precision': precision,\n",
    "        'sensitivity': sensitivity,\n",
    "        'f1': (2 * (precision * sensitivity)) / (precision + sensitivity)\n",
    "    }\n",
    "\n",
    "score = evaluate(y_test, predictions, pos_label=-1, neg_label=1)"
   ]
  },
  {
   "cell_type": "markdown",
   "id": "93596516",
   "metadata": {
    "papermill": {
     "duration": 0.027884,
     "end_time": "2021-04-04T23:23:03.172390",
     "exception": false,
     "start_time": "2021-04-04T23:23:03.144506",
     "status": "completed"
    },
    "tags": []
   },
   "source": [
    "# Report"
   ]
  },
  {
   "cell_type": "code",
   "execution_count": 28,
   "id": "bea5fba1",
   "metadata": {
    "execution": {
     "iopub.execute_input": "2021-04-04T23:23:03.227550Z",
     "iopub.status.busy": "2021-04-04T23:23:03.226928Z",
     "iopub.status.idle": "2021-04-04T23:23:03.229234Z",
     "shell.execute_reply": "2021-04-04T23:23:03.229694Z"
    },
    "papermill": {
     "duration": 0.034258,
     "end_time": "2021-04-04T23:23:03.229840",
     "exception": false,
     "start_time": "2021-04-04T23:23:03.195582",
     "status": "completed"
    },
    "tags": []
   },
   "outputs": [],
   "source": [
    "import csv\n",
    "\n",
    "\n",
    "dataset_config_name = DATASET_CONFIG_PATH.split('/')[-1].split('.')[0]\n",
    "model_config_name = MODEL_CONFIG_PATH.split('/')[-1].split('.')[0]\n",
    "configuration = f\"dataset_{dataset_config_name}-model_{model_config_name}\"\n",
    "\n",
    "with open('results.csv', 'a') as f:\n",
    "    report = dict({'configuration': configuration}, **score)\n",
    "    writer = csv.DictWriter(f, report.keys())\n",
    "    writer.writerow(report)"
   ]
  }
 ],
 "metadata": {
  "celltoolbar": "Tags",
  "kernelspec": {
   "display_name": "Python 3",
   "language": "python",
   "name": "python3"
  },
  "language_info": {
   "codemirror_mode": {
    "name": "ipython",
    "version": 3
   },
   "file_extension": ".py",
   "mimetype": "text/x-python",
   "name": "python",
   "nbconvert_exporter": "python",
   "pygments_lexer": "ipython3",
   "version": "3.9.1"
  },
  "papermill": {
   "default_parameters": {},
   "duration": 6.065077,
   "end_time": "2021-04-04T23:23:04.610289",
   "environment_variables": {},
   "exception": null,
   "input_path": "main.ipynb",
   "output_path": "runs/dataset_000125-model_000004.ipynb",
   "parameters": {
    "DATASET_CONFIG_PATH": "config/dataset/000125.json",
    "MODEL_CONFIG_PATH": "config/model/000004.json",
    "PROFILE_REPORTING": false
   },
   "start_time": "2021-04-04T23:22:58.545212",
   "version": "2.3.3"
  }
 },
 "nbformat": 4,
 "nbformat_minor": 5
}