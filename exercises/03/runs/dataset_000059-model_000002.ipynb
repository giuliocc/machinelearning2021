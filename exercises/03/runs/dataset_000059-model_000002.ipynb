{
 "cells": [
  {
   "cell_type": "markdown",
   "id": "51c71c25",
   "metadata": {
    "papermill": {
     "duration": 0.03223,
     "end_time": "2021-04-04T22:54:32.240589",
     "exception": false,
     "start_time": "2021-04-04T22:54:32.208359",
     "status": "completed"
    },
    "tags": []
   },
   "source": [
    "# Parametrizing"
   ]
  },
  {
   "cell_type": "code",
   "execution_count": 1,
   "id": "3b136394",
   "metadata": {
    "execution": {
     "iopub.execute_input": "2021-04-04T22:54:32.331364Z",
     "iopub.status.busy": "2021-04-04T22:54:32.328888Z",
     "iopub.status.idle": "2021-04-04T22:54:32.333371Z",
     "shell.execute_reply": "2021-04-04T22:54:32.332558Z"
    },
    "papermill": {
     "duration": 0.061128,
     "end_time": "2021-04-04T22:54:32.333550",
     "exception": false,
     "start_time": "2021-04-04T22:54:32.272422",
     "status": "completed"
    },
    "tags": [
     "parameters"
    ]
   },
   "outputs": [],
   "source": [
    "DATASET_CONFIG_PATH = 'config/dataset/kc1_001.json'\n",
    "MODEL_CONFIG_PATH = 'config/model/knndd_001.json'\n",
    "PROFILE_REPORTING = False"
   ]
  },
  {
   "cell_type": "code",
   "execution_count": 2,
   "id": "d5ed4a89",
   "metadata": {
    "execution": {
     "iopub.execute_input": "2021-04-04T22:54:32.395186Z",
     "iopub.status.busy": "2021-04-04T22:54:32.393662Z",
     "iopub.status.idle": "2021-04-04T22:54:32.397724Z",
     "shell.execute_reply": "2021-04-04T22:54:32.397174Z"
    },
    "papermill": {
     "duration": 0.033901,
     "end_time": "2021-04-04T22:54:32.397841",
     "exception": false,
     "start_time": "2021-04-04T22:54:32.363940",
     "status": "completed"
    },
    "tags": [
     "injected-parameters"
    ]
   },
   "outputs": [],
   "source": [
    "# Parameters\n",
    "DATASET_CONFIG_PATH = \"config/dataset/000059.json\"\n",
    "MODEL_CONFIG_PATH = \"config/model/000002.json\"\n",
    "PROFILE_REPORTING = False\n"
   ]
  },
  {
   "cell_type": "code",
   "execution_count": 3,
   "id": "b80f2a10",
   "metadata": {
    "execution": {
     "iopub.execute_input": "2021-04-04T22:54:32.462192Z",
     "iopub.status.busy": "2021-04-04T22:54:32.461457Z",
     "iopub.status.idle": "2021-04-04T22:54:32.466930Z",
     "shell.execute_reply": "2021-04-04T22:54:32.468342Z"
    },
    "papermill": {
     "duration": 0.044022,
     "end_time": "2021-04-04T22:54:32.468734",
     "exception": false,
     "start_time": "2021-04-04T22:54:32.424712",
     "status": "completed"
    },
    "tags": []
   },
   "outputs": [],
   "source": [
    "import json\n",
    "\n",
    "\n",
    "with open(DATASET_CONFIG_PATH) as f:\n",
    "    dataset_config = json.load(f)\n",
    "\n",
    "with open(MODEL_CONFIG_PATH) as f:\n",
    "    model_config = json.load(f)"
   ]
  },
  {
   "cell_type": "markdown",
   "id": "9a4b0e2d",
   "metadata": {
    "papermill": {
     "duration": 0.03054,
     "end_time": "2021-04-04T22:54:32.537958",
     "exception": false,
     "start_time": "2021-04-04T22:54:32.507418",
     "status": "completed"
    },
    "tags": []
   },
   "source": [
    "# Profiling"
   ]
  },
  {
   "cell_type": "code",
   "execution_count": 4,
   "id": "a3e0289b",
   "metadata": {
    "execution": {
     "iopub.execute_input": "2021-04-04T22:54:32.607860Z",
     "iopub.status.busy": "2021-04-04T22:54:32.606779Z",
     "iopub.status.idle": "2021-04-04T22:54:34.306627Z",
     "shell.execute_reply": "2021-04-04T22:54:34.305754Z"
    },
    "papermill": {
     "duration": 1.737579,
     "end_time": "2021-04-04T22:54:34.306852",
     "exception": false,
     "start_time": "2021-04-04T22:54:32.569273",
     "status": "completed"
    },
    "tags": []
   },
   "outputs": [],
   "source": [
    "import pandas as pd\n",
    "from pandas_profiling import ProfileReport"
   ]
  },
  {
   "cell_type": "code",
   "execution_count": 5,
   "id": "ee6c0666",
   "metadata": {
    "execution": {
     "iopub.execute_input": "2021-04-04T22:54:34.374203Z",
     "iopub.status.busy": "2021-04-04T22:54:34.372517Z",
     "iopub.status.idle": "2021-04-04T22:54:34.392764Z",
     "shell.execute_reply": "2021-04-04T22:54:34.391470Z"
    },
    "papermill": {
     "duration": 0.057564,
     "end_time": "2021-04-04T22:54:34.393074",
     "exception": false,
     "start_time": "2021-04-04T22:54:34.335510",
     "status": "completed"
    },
    "tags": []
   },
   "outputs": [],
   "source": [
    "df = pd.read_csv(dataset_config['dataset_path'])"
   ]
  },
  {
   "cell_type": "code",
   "execution_count": 6,
   "id": "7eca6c4a",
   "metadata": {
    "execution": {
     "iopub.execute_input": "2021-04-04T22:54:34.475370Z",
     "iopub.status.busy": "2021-04-04T22:54:34.472828Z",
     "iopub.status.idle": "2021-04-04T22:54:34.503288Z",
     "shell.execute_reply": "2021-04-04T22:54:34.504534Z"
    },
    "papermill": {
     "duration": 0.081149,
     "end_time": "2021-04-04T22:54:34.504931",
     "exception": false,
     "start_time": "2021-04-04T22:54:34.423782",
     "status": "completed"
    },
    "tags": []
   },
   "outputs": [
    {
     "name": "stdout",
     "output_type": "stream",
     "text": [
      "<class 'pandas.core.frame.DataFrame'>\n",
      "RangeIndex: 2109 entries, 0 to 2108\n",
      "Data columns (total 23 columns):\n",
      " #   Column             Non-Null Count  Dtype  \n",
      "---  ------             --------------  -----  \n",
      " 0   id                 2109 non-null   int64  \n",
      " 1   loc                2109 non-null   float64\n",
      " 2   v(g)               2109 non-null   float64\n",
      " 3   ev(g)              2109 non-null   float64\n",
      " 4   iv(g)              2109 non-null   float64\n",
      " 5   n                  2109 non-null   float64\n",
      " 6   v                  2109 non-null   float64\n",
      " 7   l                  2109 non-null   float64\n",
      " 8   d                  2109 non-null   float64\n",
      " 9   i                  2109 non-null   float64\n",
      " 10  e                  2109 non-null   float64\n",
      " 11  b                  2109 non-null   float64\n",
      " 12  t                  2109 non-null   float64\n",
      " 13  lOCode             2109 non-null   int64  \n",
      " 14  lOComment          2109 non-null   int64  \n",
      " 15  lOBlank            2109 non-null   int64  \n",
      " 16  locCodeAndComment  2109 non-null   int64  \n",
      " 17  uniq_Op            2109 non-null   float64\n",
      " 18  uniq_Opnd          2109 non-null   float64\n",
      " 19  total_Op           2109 non-null   float64\n",
      " 20  total_Opnd         2109 non-null   float64\n",
      " 21  branchCount        2109 non-null   float64\n",
      " 22  defects            2109 non-null   bool   \n",
      "dtypes: bool(1), float64(17), int64(5)\n",
      "memory usage: 364.7 KB\n"
     ]
    }
   ],
   "source": [
    "df.info()"
   ]
  },
  {
   "cell_type": "code",
   "execution_count": 7,
   "id": "3638e5e8",
   "metadata": {
    "execution": {
     "iopub.execute_input": "2021-04-04T22:54:34.588808Z",
     "iopub.status.busy": "2021-04-04T22:54:34.580257Z",
     "iopub.status.idle": "2021-04-04T22:54:34.632854Z",
     "shell.execute_reply": "2021-04-04T22:54:34.632263Z"
    },
    "papermill": {
     "duration": 0.092477,
     "end_time": "2021-04-04T22:54:34.632990",
     "exception": false,
     "start_time": "2021-04-04T22:54:34.540513",
     "status": "completed"
    },
    "tags": []
   },
   "outputs": [
    {
     "data": {
      "text/html": [
       "<div>\n",
       "<style scoped>\n",
       "    .dataframe tbody tr th:only-of-type {\n",
       "        vertical-align: middle;\n",
       "    }\n",
       "\n",
       "    .dataframe tbody tr th {\n",
       "        vertical-align: top;\n",
       "    }\n",
       "\n",
       "    .dataframe thead th {\n",
       "        text-align: right;\n",
       "    }\n",
       "</style>\n",
       "<table border=\"1\" class=\"dataframe\">\n",
       "  <thead>\n",
       "    <tr style=\"text-align: right;\">\n",
       "      <th></th>\n",
       "      <th>id</th>\n",
       "      <th>loc</th>\n",
       "      <th>v(g)</th>\n",
       "      <th>ev(g)</th>\n",
       "      <th>iv(g)</th>\n",
       "      <th>n</th>\n",
       "      <th>v</th>\n",
       "      <th>l</th>\n",
       "      <th>d</th>\n",
       "      <th>i</th>\n",
       "      <th>...</th>\n",
       "      <th>lOCode</th>\n",
       "      <th>lOComment</th>\n",
       "      <th>lOBlank</th>\n",
       "      <th>locCodeAndComment</th>\n",
       "      <th>uniq_Op</th>\n",
       "      <th>uniq_Opnd</th>\n",
       "      <th>total_Op</th>\n",
       "      <th>total_Opnd</th>\n",
       "      <th>branchCount</th>\n",
       "      <th>defects</th>\n",
       "    </tr>\n",
       "  </thead>\n",
       "  <tbody>\n",
       "    <tr>\n",
       "      <th>0</th>\n",
       "      <td>1</td>\n",
       "      <td>1.1</td>\n",
       "      <td>1.4</td>\n",
       "      <td>1.4</td>\n",
       "      <td>1.4</td>\n",
       "      <td>1.3</td>\n",
       "      <td>1.30</td>\n",
       "      <td>1.30</td>\n",
       "      <td>1.30</td>\n",
       "      <td>1.30</td>\n",
       "      <td>...</td>\n",
       "      <td>2</td>\n",
       "      <td>2</td>\n",
       "      <td>2</td>\n",
       "      <td>2</td>\n",
       "      <td>1.2</td>\n",
       "      <td>1.2</td>\n",
       "      <td>1.2</td>\n",
       "      <td>1.2</td>\n",
       "      <td>1.4</td>\n",
       "      <td>False</td>\n",
       "    </tr>\n",
       "    <tr>\n",
       "      <th>1</th>\n",
       "      <td>2</td>\n",
       "      <td>1.0</td>\n",
       "      <td>1.0</td>\n",
       "      <td>1.0</td>\n",
       "      <td>1.0</td>\n",
       "      <td>1.0</td>\n",
       "      <td>1.00</td>\n",
       "      <td>1.00</td>\n",
       "      <td>1.00</td>\n",
       "      <td>1.00</td>\n",
       "      <td>...</td>\n",
       "      <td>1</td>\n",
       "      <td>1</td>\n",
       "      <td>1</td>\n",
       "      <td>1</td>\n",
       "      <td>1.0</td>\n",
       "      <td>1.0</td>\n",
       "      <td>1.0</td>\n",
       "      <td>1.0</td>\n",
       "      <td>1.0</td>\n",
       "      <td>True</td>\n",
       "    </tr>\n",
       "    <tr>\n",
       "      <th>2</th>\n",
       "      <td>3</td>\n",
       "      <td>83.0</td>\n",
       "      <td>11.0</td>\n",
       "      <td>1.0</td>\n",
       "      <td>11.0</td>\n",
       "      <td>171.0</td>\n",
       "      <td>927.89</td>\n",
       "      <td>0.04</td>\n",
       "      <td>23.04</td>\n",
       "      <td>40.27</td>\n",
       "      <td>...</td>\n",
       "      <td>65</td>\n",
       "      <td>10</td>\n",
       "      <td>6</td>\n",
       "      <td>0</td>\n",
       "      <td>18.0</td>\n",
       "      <td>25.0</td>\n",
       "      <td>107.0</td>\n",
       "      <td>64.0</td>\n",
       "      <td>21.0</td>\n",
       "      <td>True</td>\n",
       "    </tr>\n",
       "    <tr>\n",
       "      <th>3</th>\n",
       "      <td>4</td>\n",
       "      <td>46.0</td>\n",
       "      <td>8.0</td>\n",
       "      <td>6.0</td>\n",
       "      <td>8.0</td>\n",
       "      <td>141.0</td>\n",
       "      <td>769.78</td>\n",
       "      <td>0.07</td>\n",
       "      <td>14.86</td>\n",
       "      <td>51.81</td>\n",
       "      <td>...</td>\n",
       "      <td>37</td>\n",
       "      <td>2</td>\n",
       "      <td>5</td>\n",
       "      <td>0</td>\n",
       "      <td>16.0</td>\n",
       "      <td>28.0</td>\n",
       "      <td>89.0</td>\n",
       "      <td>52.0</td>\n",
       "      <td>15.0</td>\n",
       "      <td>True</td>\n",
       "    </tr>\n",
       "    <tr>\n",
       "      <th>4</th>\n",
       "      <td>5</td>\n",
       "      <td>25.0</td>\n",
       "      <td>3.0</td>\n",
       "      <td>1.0</td>\n",
       "      <td>3.0</td>\n",
       "      <td>58.0</td>\n",
       "      <td>254.75</td>\n",
       "      <td>0.11</td>\n",
       "      <td>9.35</td>\n",
       "      <td>27.25</td>\n",
       "      <td>...</td>\n",
       "      <td>21</td>\n",
       "      <td>0</td>\n",
       "      <td>2</td>\n",
       "      <td>0</td>\n",
       "      <td>11.0</td>\n",
       "      <td>10.0</td>\n",
       "      <td>41.0</td>\n",
       "      <td>17.0</td>\n",
       "      <td>5.0</td>\n",
       "      <td>True</td>\n",
       "    </tr>\n",
       "  </tbody>\n",
       "</table>\n",
       "<p>5 rows × 23 columns</p>\n",
       "</div>"
      ],
      "text/plain": [
       "   id   loc  v(g)  ev(g)  iv(g)      n       v     l      d      i  ...  \\\n",
       "0   1   1.1   1.4    1.4    1.4    1.3    1.30  1.30   1.30   1.30  ...   \n",
       "1   2   1.0   1.0    1.0    1.0    1.0    1.00  1.00   1.00   1.00  ...   \n",
       "2   3  83.0  11.0    1.0   11.0  171.0  927.89  0.04  23.04  40.27  ...   \n",
       "3   4  46.0   8.0    6.0    8.0  141.0  769.78  0.07  14.86  51.81  ...   \n",
       "4   5  25.0   3.0    1.0    3.0   58.0  254.75  0.11   9.35  27.25  ...   \n",
       "\n",
       "   lOCode  lOComment  lOBlank  locCodeAndComment  uniq_Op  uniq_Opnd  \\\n",
       "0       2          2        2                  2      1.2        1.2   \n",
       "1       1          1        1                  1      1.0        1.0   \n",
       "2      65         10        6                  0     18.0       25.0   \n",
       "3      37          2        5                  0     16.0       28.0   \n",
       "4      21          0        2                  0     11.0       10.0   \n",
       "\n",
       "   total_Op  total_Opnd  branchCount  defects  \n",
       "0       1.2         1.2          1.4    False  \n",
       "1       1.0         1.0          1.0     True  \n",
       "2     107.0        64.0         21.0     True  \n",
       "3      89.0        52.0         15.0     True  \n",
       "4      41.0        17.0          5.0     True  \n",
       "\n",
       "[5 rows x 23 columns]"
      ]
     },
     "execution_count": 7,
     "metadata": {},
     "output_type": "execute_result"
    }
   ],
   "source": [
    "df.head()"
   ]
  },
  {
   "cell_type": "code",
   "execution_count": 8,
   "id": "733e95eb",
   "metadata": {
    "execution": {
     "iopub.execute_input": "2021-04-04T22:54:34.714207Z",
     "iopub.status.busy": "2021-04-04T22:54:34.713024Z",
     "iopub.status.idle": "2021-04-04T22:54:34.719112Z",
     "shell.execute_reply": "2021-04-04T22:54:34.718185Z"
    },
    "papermill": {
     "duration": 0.051485,
     "end_time": "2021-04-04T22:54:34.719322",
     "exception": false,
     "start_time": "2021-04-04T22:54:34.667837",
     "status": "completed"
    },
    "tags": []
   },
   "outputs": [],
   "source": [
    "del df['id']"
   ]
  },
  {
   "cell_type": "code",
   "execution_count": 9,
   "id": "6ff6f5b0",
   "metadata": {
    "execution": {
     "iopub.execute_input": "2021-04-04T22:54:34.803680Z",
     "iopub.status.busy": "2021-04-04T22:54:34.801463Z",
     "iopub.status.idle": "2021-04-04T22:54:34.805577Z",
     "shell.execute_reply": "2021-04-04T22:54:34.807187Z"
    },
    "papermill": {
     "duration": 0.047786,
     "end_time": "2021-04-04T22:54:34.807653",
     "exception": false,
     "start_time": "2021-04-04T22:54:34.759867",
     "status": "completed"
    },
    "tags": []
   },
   "outputs": [],
   "source": [
    "if PROFILE_REPORTING:\n",
    "    ProfileReport(df).to_widgets()"
   ]
  },
  {
   "cell_type": "markdown",
   "id": "1deaf3f0",
   "metadata": {
    "papermill": {
     "duration": 0.028032,
     "end_time": "2021-04-04T22:54:34.861897",
     "exception": false,
     "start_time": "2021-04-04T22:54:34.833865",
     "status": "completed"
    },
    "tags": []
   },
   "source": [
    "# Preprocess"
   ]
  },
  {
   "cell_type": "code",
   "execution_count": 10,
   "id": "1513e563",
   "metadata": {
    "execution": {
     "iopub.execute_input": "2021-04-04T22:54:34.918740Z",
     "iopub.status.busy": "2021-04-04T22:54:34.916912Z",
     "iopub.status.idle": "2021-04-04T22:54:34.925249Z",
     "shell.execute_reply": "2021-04-04T22:54:34.924093Z"
    },
    "papermill": {
     "duration": 0.039175,
     "end_time": "2021-04-04T22:54:34.925636",
     "exception": false,
     "start_time": "2021-04-04T22:54:34.886461",
     "status": "completed"
    },
    "tags": []
   },
   "outputs": [],
   "source": [
    "working_df = df.copy()"
   ]
  },
  {
   "cell_type": "code",
   "execution_count": 11,
   "id": "3b26d675",
   "metadata": {
    "execution": {
     "iopub.execute_input": "2021-04-04T22:54:35.013267Z",
     "iopub.status.busy": "2021-04-04T22:54:35.011649Z",
     "iopub.status.idle": "2021-04-04T22:54:35.019828Z",
     "shell.execute_reply": "2021-04-04T22:54:35.021766Z"
    },
    "papermill": {
     "duration": 0.055624,
     "end_time": "2021-04-04T22:54:35.022124",
     "exception": false,
     "start_time": "2021-04-04T22:54:34.966500",
     "status": "completed"
    },
    "tags": []
   },
   "outputs": [],
   "source": [
    "working_df['defects'] = working_df['defects'].replace([False, True], [0, 1])"
   ]
  },
  {
   "cell_type": "code",
   "execution_count": 12,
   "id": "eb48604f",
   "metadata": {
    "execution": {
     "iopub.execute_input": "2021-04-04T22:54:35.108025Z",
     "iopub.status.busy": "2021-04-04T22:54:35.106723Z",
     "iopub.status.idle": "2021-04-04T22:54:35.109426Z",
     "shell.execute_reply": "2021-04-04T22:54:35.110412Z"
    },
    "papermill": {
     "duration": 0.048944,
     "end_time": "2021-04-04T22:54:35.110753",
     "exception": false,
     "start_time": "2021-04-04T22:54:35.061809",
     "status": "completed"
    },
    "tags": []
   },
   "outputs": [],
   "source": [
    "for col in dataset_config['delete_columns']:\n",
    "    del working_df[col]"
   ]
  },
  {
   "cell_type": "code",
   "execution_count": 13,
   "id": "9a17bc29",
   "metadata": {
    "execution": {
     "iopub.execute_input": "2021-04-04T22:54:35.176320Z",
     "iopub.status.busy": "2021-04-04T22:54:35.175112Z",
     "iopub.status.idle": "2021-04-04T22:54:35.188107Z",
     "shell.execute_reply": "2021-04-04T22:54:35.187561Z"
    },
    "papermill": {
     "duration": 0.05237,
     "end_time": "2021-04-04T22:54:35.188231",
     "exception": false,
     "start_time": "2021-04-04T22:54:35.135861",
     "status": "completed"
    },
    "tags": []
   },
   "outputs": [],
   "source": [
    "working_df = working_df.drop_duplicates()"
   ]
  },
  {
   "cell_type": "markdown",
   "id": "a4d52ca6",
   "metadata": {
    "papermill": {
     "duration": 0.022805,
     "end_time": "2021-04-04T22:54:35.234383",
     "exception": false,
     "start_time": "2021-04-04T22:54:35.211578",
     "status": "completed"
    },
    "tags": []
   },
   "source": [
    "# Split"
   ]
  },
  {
   "cell_type": "code",
   "execution_count": 14,
   "id": "3e9ee4b5",
   "metadata": {
    "execution": {
     "iopub.execute_input": "2021-04-04T22:54:35.290418Z",
     "iopub.status.busy": "2021-04-04T22:54:35.289384Z",
     "iopub.status.idle": "2021-04-04T22:54:35.318442Z",
     "shell.execute_reply": "2021-04-04T22:54:35.318924Z"
    },
    "papermill": {
     "duration": 0.062457,
     "end_time": "2021-04-04T22:54:35.319073",
     "exception": false,
     "start_time": "2021-04-04T22:54:35.256616",
     "status": "completed"
    },
    "tags": []
   },
   "outputs": [],
   "source": [
    "from sklearn.model_selection import train_test_split"
   ]
  },
  {
   "cell_type": "code",
   "execution_count": 15,
   "id": "274004ce",
   "metadata": {
    "execution": {
     "iopub.execute_input": "2021-04-04T22:54:35.384871Z",
     "iopub.status.busy": "2021-04-04T22:54:35.383248Z",
     "iopub.status.idle": "2021-04-04T22:54:35.388568Z",
     "shell.execute_reply": "2021-04-04T22:54:35.389045Z"
    },
    "papermill": {
     "duration": 0.043265,
     "end_time": "2021-04-04T22:54:35.389193",
     "exception": false,
     "start_time": "2021-04-04T22:54:35.345928",
     "status": "completed"
    },
    "scrolled": true,
    "tags": []
   },
   "outputs": [],
   "source": [
    "inlier, outlier = working_df[working_df['defects'] == 0], working_df[working_df['defects'] == 1]"
   ]
  },
  {
   "cell_type": "code",
   "execution_count": 16,
   "id": "753c7b03",
   "metadata": {
    "execution": {
     "iopub.execute_input": "2021-04-04T22:54:35.458103Z",
     "iopub.status.busy": "2021-04-04T22:54:35.455971Z",
     "iopub.status.idle": "2021-04-04T22:54:35.463753Z",
     "shell.execute_reply": "2021-04-04T22:54:35.461893Z"
    },
    "papermill": {
     "duration": 0.05071,
     "end_time": "2021-04-04T22:54:35.464146",
     "exception": false,
     "start_time": "2021-04-04T22:54:35.413436",
     "status": "completed"
    },
    "tags": []
   },
   "outputs": [],
   "source": [
    "X_inlier = inlier.copy()\n",
    "y_inlier = X_inlier.pop('defects')\n",
    "X_outlier = outlier.copy()\n",
    "y_outlier = X_outlier.pop('defects')"
   ]
  },
  {
   "cell_type": "code",
   "execution_count": 17,
   "id": "2ba43193",
   "metadata": {
    "execution": {
     "iopub.execute_input": "2021-04-04T22:54:35.520905Z",
     "iopub.status.busy": "2021-04-04T22:54:35.520297Z",
     "iopub.status.idle": "2021-04-04T22:54:35.522334Z",
     "shell.execute_reply": "2021-04-04T22:54:35.522802Z"
    },
    "papermill": {
     "duration": 0.032187,
     "end_time": "2021-04-04T22:54:35.522948",
     "exception": false,
     "start_time": "2021-04-04T22:54:35.490761",
     "status": "completed"
    },
    "tags": []
   },
   "outputs": [],
   "source": [
    "test_size = dataset_config['test_size']\n",
    "random_state = dataset_config['random_state']\n",
    "\n",
    "X_inlier_train, X_inlier_test, y_inlier_train, y_inlier_test = train_test_split(\n",
    "    X_inlier,\n",
    "    y_inlier,\n",
    "    test_size=test_size,\n",
    "    random_state=random_state\n",
    ")"
   ]
  },
  {
   "cell_type": "code",
   "execution_count": 18,
   "id": "0b7582ca",
   "metadata": {
    "execution": {
     "iopub.execute_input": "2021-04-04T22:54:35.586276Z",
     "iopub.status.busy": "2021-04-04T22:54:35.585378Z",
     "iopub.status.idle": "2021-04-04T22:54:35.587511Z",
     "shell.execute_reply": "2021-04-04T22:54:35.588066Z"
    },
    "papermill": {
     "duration": 0.040493,
     "end_time": "2021-04-04T22:54:35.588232",
     "exception": false,
     "start_time": "2021-04-04T22:54:35.547739",
     "status": "completed"
    },
    "tags": []
   },
   "outputs": [],
   "source": [
    "test_outlier_size = dataset_config['test_outlier_size']\n",
    "if test_outlier_size > 0.0:\n",
    "    X_outlier_train, X_outlier_test, y_outlier_train, y_outlier_test = train_test_split(\n",
    "        X_outlier,\n",
    "        y_outlier,\n",
    "        test_size=test_outlier_size,\n",
    "        random_state=random_state\n",
    "    )\n",
    "else:\n",
    "    X_outlier_train, y_outlier_train = pd.DataFrame(columns=X_outlier.columns), pd.Series(dtype='int64')\n",
    "    X_outlier_test, y_outlier_test = X_outlier.copy(), y_outlier.copy()"
   ]
  },
  {
   "cell_type": "code",
   "execution_count": 19,
   "id": "c34363db",
   "metadata": {
    "execution": {
     "iopub.execute_input": "2021-04-04T22:54:35.642896Z",
     "iopub.status.busy": "2021-04-04T22:54:35.642260Z",
     "iopub.status.idle": "2021-04-04T22:54:35.646737Z",
     "shell.execute_reply": "2021-04-04T22:54:35.647224Z"
    },
    "papermill": {
     "duration": 0.035984,
     "end_time": "2021-04-04T22:54:35.647372",
     "exception": false,
     "start_time": "2021-04-04T22:54:35.611388",
     "status": "completed"
    },
    "tags": []
   },
   "outputs": [],
   "source": [
    "X_train, y_train = pd.concat([X_inlier_train, X_outlier_train], ignore_index=True), pd.concat([y_inlier_train, y_outlier_train], ignore_index=True)\n",
    "X_test, y_test = pd.concat([X_inlier_test, X_outlier_test], ignore_index=True), pd.concat([y_inlier_test, y_outlier_test], ignore_index=True)"
   ]
  },
  {
   "cell_type": "markdown",
   "id": "7cde7309",
   "metadata": {
    "papermill": {
     "duration": 0.029481,
     "end_time": "2021-04-04T22:54:35.700689",
     "exception": false,
     "start_time": "2021-04-04T22:54:35.671208",
     "status": "completed"
    },
    "tags": []
   },
   "source": [
    "# Model"
   ]
  },
  {
   "cell_type": "code",
   "execution_count": 20,
   "id": "2b12a415",
   "metadata": {
    "execution": {
     "iopub.execute_input": "2021-04-04T22:54:35.762598Z",
     "iopub.status.busy": "2021-04-04T22:54:35.761977Z",
     "iopub.status.idle": "2021-04-04T22:54:35.764316Z",
     "shell.execute_reply": "2021-04-04T22:54:35.764813Z"
    },
    "papermill": {
     "duration": 0.037887,
     "end_time": "2021-04-04T22:54:35.764975",
     "exception": false,
     "start_time": "2021-04-04T22:54:35.727088",
     "status": "completed"
    },
    "tags": []
   },
   "outputs": [],
   "source": [
    "from math import sqrt\n",
    "\n",
    "\n",
    "class KNNDataDescription:\n",
    "    def __init__(self, k=5, outlier_threshold=1.0):\n",
    "        self.k = k\n",
    "        self.outlier_threshold = outlier_threshold\n",
    "        self.X = []\n",
    "    \n",
    "    def fit(self, X):\n",
    "        self.X = [features.to_list() for index, features in X.iterrows()]\n",
    "\n",
    "    def predict(self, entries):\n",
    "        return [self.predict_entry(features.to_list()) for index, features in entries.iterrows()]\n",
    "    \n",
    "    def predict_entry(self, entry):\n",
    "        kth_neighbor, kth_distance = self.get_kth_neighbor(entry, self.k)\n",
    "        kth_kth_neighbor, kth_kth_distance = self.get_kth_neighbor(kth_neighbor, self.k + 1)\n",
    "\n",
    "        outlier_score = kth_distance / (kth_kth_distance + 0.000001)\n",
    "\n",
    "        return 1 if outlier_score < self.outlier_threshold else -1\n",
    "        \n",
    "    def euclidean_distance(self, features1, features2):\n",
    "        distance = 0.0\n",
    "        for feat1, feat2 in zip(features1, features2):\n",
    "            distance += (feat1 - feat2)**2\n",
    "                \n",
    "        return sqrt(distance)\n",
    "\n",
    "    def get_neighbors(self, entry, k):\n",
    "        distance_to_data_points = [\n",
    "            (data_point, self.euclidean_distance(entry, data_point))\n",
    "            for data_point in self.X\n",
    "        ]\n",
    "        sorted_by_distance = sorted(distance_to_data_points, key=lambda tup: tup[1])\n",
    "        neighbors = sorted_by_distance[:k]\n",
    "        return neighbors\n",
    "\n",
    "    def get_kth_neighbor(self, entry, k):\n",
    "        neighbors = self.get_neighbors(entry, k)\n",
    "        return neighbors[-1]\n"
   ]
  },
  {
   "cell_type": "code",
   "execution_count": 21,
   "id": "1fa9ec1c",
   "metadata": {
    "execution": {
     "iopub.execute_input": "2021-04-04T22:54:35.821795Z",
     "iopub.status.busy": "2021-04-04T22:54:35.820843Z",
     "iopub.status.idle": "2021-04-04T22:54:35.846737Z",
     "shell.execute_reply": "2021-04-04T22:54:35.847226Z"
    },
    "papermill": {
     "duration": 0.057062,
     "end_time": "2021-04-04T22:54:35.847374",
     "exception": false,
     "start_time": "2021-04-04T22:54:35.790312",
     "status": "completed"
    },
    "tags": []
   },
   "outputs": [],
   "source": [
    "from sklearn.svm import OneClassSVM\n",
    "\n",
    "\n",
    "models = {\n",
    "    'oneclasssvm': OneClassSVM,\n",
    "    'knndatadescription': KNNDataDescription,\n",
    "}"
   ]
  },
  {
   "cell_type": "code",
   "execution_count": 22,
   "id": "4d72a0b1",
   "metadata": {
    "execution": {
     "iopub.execute_input": "2021-04-04T22:54:35.899572Z",
     "iopub.status.busy": "2021-04-04T22:54:35.898984Z",
     "iopub.status.idle": "2021-04-04T22:54:35.900939Z",
     "shell.execute_reply": "2021-04-04T22:54:35.901382Z"
    },
    "papermill": {
     "duration": 0.030528,
     "end_time": "2021-04-04T22:54:35.901520",
     "exception": false,
     "start_time": "2021-04-04T22:54:35.870992",
     "status": "completed"
    },
    "scrolled": true,
    "tags": []
   },
   "outputs": [],
   "source": [
    "model_cls = models[model_config['model_type']]\n",
    "model = model_cls(**model_config['hyperparameters'])"
   ]
  },
  {
   "cell_type": "markdown",
   "id": "e00cff3b",
   "metadata": {
    "papermill": {
     "duration": 0.025274,
     "end_time": "2021-04-04T22:54:35.950877",
     "exception": false,
     "start_time": "2021-04-04T22:54:35.925603",
     "status": "completed"
    },
    "tags": []
   },
   "source": [
    "# Fit"
   ]
  },
  {
   "cell_type": "code",
   "execution_count": 23,
   "id": "8b2ded89",
   "metadata": {
    "execution": {
     "iopub.execute_input": "2021-04-04T22:54:36.005065Z",
     "iopub.status.busy": "2021-04-04T22:54:36.004066Z",
     "iopub.status.idle": "2021-04-04T22:54:36.060902Z",
     "shell.execute_reply": "2021-04-04T22:54:36.060305Z"
    },
    "papermill": {
     "duration": 0.084335,
     "end_time": "2021-04-04T22:54:36.061021",
     "exception": false,
     "start_time": "2021-04-04T22:54:35.976686",
     "status": "completed"
    },
    "tags": []
   },
   "outputs": [],
   "source": [
    "model.fit(X_train)"
   ]
  },
  {
   "cell_type": "markdown",
   "id": "f99999f7",
   "metadata": {
    "papermill": {
     "duration": 0.028478,
     "end_time": "2021-04-04T22:54:36.113629",
     "exception": false,
     "start_time": "2021-04-04T22:54:36.085151",
     "status": "completed"
    },
    "tags": []
   },
   "source": [
    "# Predict"
   ]
  },
  {
   "cell_type": "code",
   "execution_count": 24,
   "id": "6536fbf7",
   "metadata": {
    "execution": {
     "iopub.execute_input": "2021-04-04T22:54:36.205245Z",
     "iopub.status.busy": "2021-04-04T22:54:36.183668Z",
     "iopub.status.idle": "2021-04-04T22:54:38.689603Z",
     "shell.execute_reply": "2021-04-04T22:54:38.689084Z"
    },
    "papermill": {
     "duration": 2.550104,
     "end_time": "2021-04-04T22:54:38.689724",
     "exception": false,
     "start_time": "2021-04-04T22:54:36.139620",
     "status": "completed"
    },
    "tags": []
   },
   "outputs": [],
   "source": [
    "predictions = model.predict(X_test)"
   ]
  },
  {
   "cell_type": "markdown",
   "id": "aa1c9881",
   "metadata": {
    "papermill": {
     "duration": 0.02847,
     "end_time": "2021-04-04T22:54:38.741970",
     "exception": false,
     "start_time": "2021-04-04T22:54:38.713500",
     "status": "completed"
    },
    "tags": []
   },
   "source": [
    "# Evaluate"
   ]
  },
  {
   "cell_type": "code",
   "execution_count": 25,
   "id": "894f0f04",
   "metadata": {
    "execution": {
     "iopub.execute_input": "2021-04-04T22:54:38.800476Z",
     "iopub.status.busy": "2021-04-04T22:54:38.799822Z",
     "iopub.status.idle": "2021-04-04T22:54:38.801615Z",
     "shell.execute_reply": "2021-04-04T22:54:38.802083Z"
    },
    "papermill": {
     "duration": 0.030632,
     "end_time": "2021-04-04T22:54:38.802227",
     "exception": false,
     "start_time": "2021-04-04T22:54:38.771595",
     "status": "completed"
    },
    "tags": []
   },
   "outputs": [],
   "source": [
    "from sklearn.metrics import f1_score"
   ]
  },
  {
   "cell_type": "code",
   "execution_count": 26,
   "id": "211744d3",
   "metadata": {
    "execution": {
     "iopub.execute_input": "2021-04-04T22:54:38.865133Z",
     "iopub.status.busy": "2021-04-04T22:54:38.862974Z",
     "iopub.status.idle": "2021-04-04T22:54:38.867704Z",
     "shell.execute_reply": "2021-04-04T22:54:38.867130Z"
    },
    "papermill": {
     "duration": 0.040597,
     "end_time": "2021-04-04T22:54:38.867833",
     "exception": false,
     "start_time": "2021-04-04T22:54:38.827236",
     "status": "completed"
    },
    "tags": []
   },
   "outputs": [],
   "source": [
    "y_test = y_test.replace([0, 1], [1, -1])"
   ]
  },
  {
   "cell_type": "code",
   "execution_count": 27,
   "id": "d68a9204",
   "metadata": {
    "execution": {
     "iopub.execute_input": "2021-04-04T22:54:38.927265Z",
     "iopub.status.busy": "2021-04-04T22:54:38.926242Z",
     "iopub.status.idle": "2021-04-04T22:54:38.928545Z",
     "shell.execute_reply": "2021-04-04T22:54:38.929025Z"
    },
    "papermill": {
     "duration": 0.034309,
     "end_time": "2021-04-04T22:54:38.929173",
     "exception": false,
     "start_time": "2021-04-04T22:54:38.894864",
     "status": "completed"
    },
    "tags": []
   },
   "outputs": [],
   "source": [
    "def evaluate(truths, predictions, pos_label, neg_label):\n",
    "    TP = 0\n",
    "    FP = 0\n",
    "    TN = 0\n",
    "    FN = 0\n",
    "\n",
    "    for truth, pred in zip(truths, predictions): \n",
    "        if truth == pred == pos_label:\n",
    "           TP += 1\n",
    "        elif pred == pos_label and truth == neg_label:\n",
    "           FP += 1\n",
    "        elif truth == pred == neg_label:\n",
    "           TN += 1\n",
    "        elif pred == neg_label and truth == pos_label:\n",
    "           FN += 1\n",
    "\n",
    "    precision = TP / (TP + FP)\n",
    "    sensitivity = TP / (TP + FN)\n",
    "    \n",
    "    return {\n",
    "        'true_pos': TP,\n",
    "        'false_pos': FP,\n",
    "        'false_neg': FN,\n",
    "        'true_neg': TN,\n",
    "        'precision': precision,\n",
    "        'sensitivity': sensitivity,\n",
    "        'f1': (2 * (precision * sensitivity)) / (precision + sensitivity)\n",
    "    }\n",
    "\n",
    "score = evaluate(y_test, predictions, pos_label=-1, neg_label=1)"
   ]
  },
  {
   "cell_type": "markdown",
   "id": "93596516",
   "metadata": {
    "papermill": {
     "duration": 0.03234,
     "end_time": "2021-04-04T22:54:38.990190",
     "exception": false,
     "start_time": "2021-04-04T22:54:38.957850",
     "status": "completed"
    },
    "tags": []
   },
   "source": [
    "# Report"
   ]
  },
  {
   "cell_type": "code",
   "execution_count": 28,
   "id": "bea5fba1",
   "metadata": {
    "execution": {
     "iopub.execute_input": "2021-04-04T22:54:39.085440Z",
     "iopub.status.busy": "2021-04-04T22:54:39.084297Z",
     "iopub.status.idle": "2021-04-04T22:54:39.089588Z",
     "shell.execute_reply": "2021-04-04T22:54:39.091467Z"
    },
    "papermill": {
     "duration": 0.057953,
     "end_time": "2021-04-04T22:54:39.091937",
     "exception": false,
     "start_time": "2021-04-04T22:54:39.033984",
     "status": "completed"
    },
    "tags": []
   },
   "outputs": [],
   "source": [
    "import csv\n",
    "\n",
    "\n",
    "dataset_config_name = DATASET_CONFIG_PATH.split('/')[-1].split('.')[0]\n",
    "model_config_name = MODEL_CONFIG_PATH.split('/')[-1].split('.')[0]\n",
    "configuration = f\"dataset_{dataset_config_name}-model_{model_config_name}\"\n",
    "\n",
    "with open('results.csv', 'a') as f:\n",
    "    report = dict({'configuration': configuration}, **score)\n",
    "    writer = csv.DictWriter(f, report.keys())\n",
    "    writer.writerow(report)"
   ]
  }
 ],
 "metadata": {
  "celltoolbar": "Tags",
  "kernelspec": {
   "display_name": "Python 3",
   "language": "python",
   "name": "python3"
  },
  "language_info": {
   "codemirror_mode": {
    "name": "ipython",
    "version": 3
   },
   "file_extension": ".py",
   "mimetype": "text/x-python",
   "name": "python",
   "nbconvert_exporter": "python",
   "pygments_lexer": "ipython3",
   "version": "3.9.1"
  },
  "papermill": {
   "default_parameters": {},
   "duration": 9.066117,
   "end_time": "2021-04-04T22:54:40.334926",
   "environment_variables": {},
   "exception": null,
   "input_path": "main.ipynb",
   "output_path": "runs/dataset_000059-model_000002.ipynb",
   "parameters": {
    "DATASET_CONFIG_PATH": "config/dataset/000059.json",
    "MODEL_CONFIG_PATH": "config/model/000002.json",
    "PROFILE_REPORTING": false
   },
   "start_time": "2021-04-04T22:54:31.268809",
   "version": "2.3.3"
  }
 },
 "nbformat": 4,
 "nbformat_minor": 5
}