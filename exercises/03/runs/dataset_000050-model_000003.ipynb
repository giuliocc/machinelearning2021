{
 "cells": [
  {
   "cell_type": "markdown",
   "id": "51c71c25",
   "metadata": {
    "papermill": {
     "duration": 0.023192,
     "end_time": "2021-04-04T22:49:46.226487",
     "exception": false,
     "start_time": "2021-04-04T22:49:46.203295",
     "status": "completed"
    },
    "tags": []
   },
   "source": [
    "# Parametrizing"
   ]
  },
  {
   "cell_type": "code",
   "execution_count": 1,
   "id": "3b136394",
   "metadata": {
    "execution": {
     "iopub.execute_input": "2021-04-04T22:49:46.280277Z",
     "iopub.status.busy": "2021-04-04T22:49:46.278998Z",
     "iopub.status.idle": "2021-04-04T22:49:46.283000Z",
     "shell.execute_reply": "2021-04-04T22:49:46.282352Z"
    },
    "papermill": {
     "duration": 0.036565,
     "end_time": "2021-04-04T22:49:46.283127",
     "exception": false,
     "start_time": "2021-04-04T22:49:46.246562",
     "status": "completed"
    },
    "tags": [
     "parameters"
    ]
   },
   "outputs": [],
   "source": [
    "DATASET_CONFIG_PATH = 'config/dataset/kc1_001.json'\n",
    "MODEL_CONFIG_PATH = 'config/model/knndd_001.json'\n",
    "PROFILE_REPORTING = False"
   ]
  },
  {
   "cell_type": "code",
   "execution_count": 2,
   "id": "54787cf4",
   "metadata": {
    "execution": {
     "iopub.execute_input": "2021-04-04T22:49:46.329508Z",
     "iopub.status.busy": "2021-04-04T22:49:46.328727Z",
     "iopub.status.idle": "2021-04-04T22:49:46.331401Z",
     "shell.execute_reply": "2021-04-04T22:49:46.330880Z"
    },
    "papermill": {
     "duration": 0.027764,
     "end_time": "2021-04-04T22:49:46.331518",
     "exception": false,
     "start_time": "2021-04-04T22:49:46.303754",
     "status": "completed"
    },
    "tags": [
     "injected-parameters"
    ]
   },
   "outputs": [],
   "source": [
    "# Parameters\n",
    "DATASET_CONFIG_PATH = \"config/dataset/000050.json\"\n",
    "MODEL_CONFIG_PATH = \"config/model/000003.json\"\n",
    "PROFILE_REPORTING = False\n"
   ]
  },
  {
   "cell_type": "code",
   "execution_count": 3,
   "id": "b80f2a10",
   "metadata": {
    "execution": {
     "iopub.execute_input": "2021-04-04T22:49:46.390039Z",
     "iopub.status.busy": "2021-04-04T22:49:46.387948Z",
     "iopub.status.idle": "2021-04-04T22:49:46.393307Z",
     "shell.execute_reply": "2021-04-04T22:49:46.392700Z"
    },
    "papermill": {
     "duration": 0.03611,
     "end_time": "2021-04-04T22:49:46.393443",
     "exception": false,
     "start_time": "2021-04-04T22:49:46.357333",
     "status": "completed"
    },
    "tags": []
   },
   "outputs": [],
   "source": [
    "import json\n",
    "\n",
    "\n",
    "with open(DATASET_CONFIG_PATH) as f:\n",
    "    dataset_config = json.load(f)\n",
    "\n",
    "with open(MODEL_CONFIG_PATH) as f:\n",
    "    model_config = json.load(f)"
   ]
  },
  {
   "cell_type": "markdown",
   "id": "9a4b0e2d",
   "metadata": {
    "papermill": {
     "duration": 0.021969,
     "end_time": "2021-04-04T22:49:46.441674",
     "exception": false,
     "start_time": "2021-04-04T22:49:46.419705",
     "status": "completed"
    },
    "tags": []
   },
   "source": [
    "# Profiling"
   ]
  },
  {
   "cell_type": "code",
   "execution_count": 4,
   "id": "a3e0289b",
   "metadata": {
    "execution": {
     "iopub.execute_input": "2021-04-04T22:49:46.504054Z",
     "iopub.status.busy": "2021-04-04T22:49:46.502458Z",
     "iopub.status.idle": "2021-04-04T22:49:47.861251Z",
     "shell.execute_reply": "2021-04-04T22:49:47.860384Z"
    },
    "papermill": {
     "duration": 1.395733,
     "end_time": "2021-04-04T22:49:47.861419",
     "exception": false,
     "start_time": "2021-04-04T22:49:46.465686",
     "status": "completed"
    },
    "tags": []
   },
   "outputs": [],
   "source": [
    "import pandas as pd\n",
    "from pandas_profiling import ProfileReport"
   ]
  },
  {
   "cell_type": "code",
   "execution_count": 5,
   "id": "ee6c0666",
   "metadata": {
    "execution": {
     "iopub.execute_input": "2021-04-04T22:49:47.910773Z",
     "iopub.status.busy": "2021-04-04T22:49:47.909930Z",
     "iopub.status.idle": "2021-04-04T22:49:47.924023Z",
     "shell.execute_reply": "2021-04-04T22:49:47.923240Z"
    },
    "papermill": {
     "duration": 0.039624,
     "end_time": "2021-04-04T22:49:47.924214",
     "exception": false,
     "start_time": "2021-04-04T22:49:47.884590",
     "status": "completed"
    },
    "tags": []
   },
   "outputs": [],
   "source": [
    "df = pd.read_csv(dataset_config['dataset_path'])"
   ]
  },
  {
   "cell_type": "code",
   "execution_count": 6,
   "id": "7eca6c4a",
   "metadata": {
    "execution": {
     "iopub.execute_input": "2021-04-04T22:49:47.983965Z",
     "iopub.status.busy": "2021-04-04T22:49:47.983147Z",
     "iopub.status.idle": "2021-04-04T22:49:48.002354Z",
     "shell.execute_reply": "2021-04-04T22:49:48.001626Z"
    },
    "papermill": {
     "duration": 0.052301,
     "end_time": "2021-04-04T22:49:48.002495",
     "exception": false,
     "start_time": "2021-04-04T22:49:47.950194",
     "status": "completed"
    },
    "tags": []
   },
   "outputs": [
    {
     "name": "stdout",
     "output_type": "stream",
     "text": [
      "<class 'pandas.core.frame.DataFrame'>\n",
      "RangeIndex: 2109 entries, 0 to 2108\n",
      "Data columns (total 23 columns):\n",
      " #   Column             Non-Null Count  Dtype  \n",
      "---  ------             --------------  -----  \n",
      " 0   id                 2109 non-null   int64  \n",
      " 1   loc                2109 non-null   float64\n",
      " 2   v(g)               2109 non-null   float64\n",
      " 3   ev(g)              2109 non-null   float64\n",
      " 4   iv(g)              2109 non-null   float64\n",
      " 5   n                  2109 non-null   float64\n",
      " 6   v                  2109 non-null   float64\n",
      " 7   l                  2109 non-null   float64\n",
      " 8   d                  2109 non-null   float64\n",
      " 9   i                  2109 non-null   float64\n",
      " 10  e                  2109 non-null   float64\n",
      " 11  b                  2109 non-null   float64\n",
      " 12  t                  2109 non-null   float64\n",
      " 13  lOCode             2109 non-null   int64  \n",
      " 14  lOComment          2109 non-null   int64  \n",
      " 15  lOBlank            2109 non-null   int64  \n",
      " 16  locCodeAndComment  2109 non-null   int64  \n",
      " 17  uniq_Op            2109 non-null   float64\n",
      " 18  uniq_Opnd          2109 non-null   float64\n",
      " 19  total_Op           2109 non-null   float64\n",
      " 20  total_Opnd         2109 non-null   float64\n",
      " 21  branchCount        2109 non-null   float64\n",
      " 22  defects            2109 non-null   bool   \n",
      "dtypes: bool(1), float64(17), int64(5)\n",
      "memory usage: 364.7 KB\n"
     ]
    }
   ],
   "source": [
    "df.info()"
   ]
  },
  {
   "cell_type": "code",
   "execution_count": 7,
   "id": "3638e5e8",
   "metadata": {
    "execution": {
     "iopub.execute_input": "2021-04-04T22:49:48.058921Z",
     "iopub.status.busy": "2021-04-04T22:49:48.057055Z",
     "iopub.status.idle": "2021-04-04T22:49:48.087497Z",
     "shell.execute_reply": "2021-04-04T22:49:48.086986Z"
    },
    "papermill": {
     "duration": 0.063426,
     "end_time": "2021-04-04T22:49:48.087616",
     "exception": false,
     "start_time": "2021-04-04T22:49:48.024190",
     "status": "completed"
    },
    "tags": []
   },
   "outputs": [
    {
     "data": {
      "text/html": [
       "<div>\n",
       "<style scoped>\n",
       "    .dataframe tbody tr th:only-of-type {\n",
       "        vertical-align: middle;\n",
       "    }\n",
       "\n",
       "    .dataframe tbody tr th {\n",
       "        vertical-align: top;\n",
       "    }\n",
       "\n",
       "    .dataframe thead th {\n",
       "        text-align: right;\n",
       "    }\n",
       "</style>\n",
       "<table border=\"1\" class=\"dataframe\">\n",
       "  <thead>\n",
       "    <tr style=\"text-align: right;\">\n",
       "      <th></th>\n",
       "      <th>id</th>\n",
       "      <th>loc</th>\n",
       "      <th>v(g)</th>\n",
       "      <th>ev(g)</th>\n",
       "      <th>iv(g)</th>\n",
       "      <th>n</th>\n",
       "      <th>v</th>\n",
       "      <th>l</th>\n",
       "      <th>d</th>\n",
       "      <th>i</th>\n",
       "      <th>...</th>\n",
       "      <th>lOCode</th>\n",
       "      <th>lOComment</th>\n",
       "      <th>lOBlank</th>\n",
       "      <th>locCodeAndComment</th>\n",
       "      <th>uniq_Op</th>\n",
       "      <th>uniq_Opnd</th>\n",
       "      <th>total_Op</th>\n",
       "      <th>total_Opnd</th>\n",
       "      <th>branchCount</th>\n",
       "      <th>defects</th>\n",
       "    </tr>\n",
       "  </thead>\n",
       "  <tbody>\n",
       "    <tr>\n",
       "      <th>0</th>\n",
       "      <td>1</td>\n",
       "      <td>1.1</td>\n",
       "      <td>1.4</td>\n",
       "      <td>1.4</td>\n",
       "      <td>1.4</td>\n",
       "      <td>1.3</td>\n",
       "      <td>1.30</td>\n",
       "      <td>1.30</td>\n",
       "      <td>1.30</td>\n",
       "      <td>1.30</td>\n",
       "      <td>...</td>\n",
       "      <td>2</td>\n",
       "      <td>2</td>\n",
       "      <td>2</td>\n",
       "      <td>2</td>\n",
       "      <td>1.2</td>\n",
       "      <td>1.2</td>\n",
       "      <td>1.2</td>\n",
       "      <td>1.2</td>\n",
       "      <td>1.4</td>\n",
       "      <td>False</td>\n",
       "    </tr>\n",
       "    <tr>\n",
       "      <th>1</th>\n",
       "      <td>2</td>\n",
       "      <td>1.0</td>\n",
       "      <td>1.0</td>\n",
       "      <td>1.0</td>\n",
       "      <td>1.0</td>\n",
       "      <td>1.0</td>\n",
       "      <td>1.00</td>\n",
       "      <td>1.00</td>\n",
       "      <td>1.00</td>\n",
       "      <td>1.00</td>\n",
       "      <td>...</td>\n",
       "      <td>1</td>\n",
       "      <td>1</td>\n",
       "      <td>1</td>\n",
       "      <td>1</td>\n",
       "      <td>1.0</td>\n",
       "      <td>1.0</td>\n",
       "      <td>1.0</td>\n",
       "      <td>1.0</td>\n",
       "      <td>1.0</td>\n",
       "      <td>True</td>\n",
       "    </tr>\n",
       "    <tr>\n",
       "      <th>2</th>\n",
       "      <td>3</td>\n",
       "      <td>83.0</td>\n",
       "      <td>11.0</td>\n",
       "      <td>1.0</td>\n",
       "      <td>11.0</td>\n",
       "      <td>171.0</td>\n",
       "      <td>927.89</td>\n",
       "      <td>0.04</td>\n",
       "      <td>23.04</td>\n",
       "      <td>40.27</td>\n",
       "      <td>...</td>\n",
       "      <td>65</td>\n",
       "      <td>10</td>\n",
       "      <td>6</td>\n",
       "      <td>0</td>\n",
       "      <td>18.0</td>\n",
       "      <td>25.0</td>\n",
       "      <td>107.0</td>\n",
       "      <td>64.0</td>\n",
       "      <td>21.0</td>\n",
       "      <td>True</td>\n",
       "    </tr>\n",
       "    <tr>\n",
       "      <th>3</th>\n",
       "      <td>4</td>\n",
       "      <td>46.0</td>\n",
       "      <td>8.0</td>\n",
       "      <td>6.0</td>\n",
       "      <td>8.0</td>\n",
       "      <td>141.0</td>\n",
       "      <td>769.78</td>\n",
       "      <td>0.07</td>\n",
       "      <td>14.86</td>\n",
       "      <td>51.81</td>\n",
       "      <td>...</td>\n",
       "      <td>37</td>\n",
       "      <td>2</td>\n",
       "      <td>5</td>\n",
       "      <td>0</td>\n",
       "      <td>16.0</td>\n",
       "      <td>28.0</td>\n",
       "      <td>89.0</td>\n",
       "      <td>52.0</td>\n",
       "      <td>15.0</td>\n",
       "      <td>True</td>\n",
       "    </tr>\n",
       "    <tr>\n",
       "      <th>4</th>\n",
       "      <td>5</td>\n",
       "      <td>25.0</td>\n",
       "      <td>3.0</td>\n",
       "      <td>1.0</td>\n",
       "      <td>3.0</td>\n",
       "      <td>58.0</td>\n",
       "      <td>254.75</td>\n",
       "      <td>0.11</td>\n",
       "      <td>9.35</td>\n",
       "      <td>27.25</td>\n",
       "      <td>...</td>\n",
       "      <td>21</td>\n",
       "      <td>0</td>\n",
       "      <td>2</td>\n",
       "      <td>0</td>\n",
       "      <td>11.0</td>\n",
       "      <td>10.0</td>\n",
       "      <td>41.0</td>\n",
       "      <td>17.0</td>\n",
       "      <td>5.0</td>\n",
       "      <td>True</td>\n",
       "    </tr>\n",
       "  </tbody>\n",
       "</table>\n",
       "<p>5 rows × 23 columns</p>\n",
       "</div>"
      ],
      "text/plain": [
       "   id   loc  v(g)  ev(g)  iv(g)      n       v     l      d      i  ...  \\\n",
       "0   1   1.1   1.4    1.4    1.4    1.3    1.30  1.30   1.30   1.30  ...   \n",
       "1   2   1.0   1.0    1.0    1.0    1.0    1.00  1.00   1.00   1.00  ...   \n",
       "2   3  83.0  11.0    1.0   11.0  171.0  927.89  0.04  23.04  40.27  ...   \n",
       "3   4  46.0   8.0    6.0    8.0  141.0  769.78  0.07  14.86  51.81  ...   \n",
       "4   5  25.0   3.0    1.0    3.0   58.0  254.75  0.11   9.35  27.25  ...   \n",
       "\n",
       "   lOCode  lOComment  lOBlank  locCodeAndComment  uniq_Op  uniq_Opnd  \\\n",
       "0       2          2        2                  2      1.2        1.2   \n",
       "1       1          1        1                  1      1.0        1.0   \n",
       "2      65         10        6                  0     18.0       25.0   \n",
       "3      37          2        5                  0     16.0       28.0   \n",
       "4      21          0        2                  0     11.0       10.0   \n",
       "\n",
       "   total_Op  total_Opnd  branchCount  defects  \n",
       "0       1.2         1.2          1.4    False  \n",
       "1       1.0         1.0          1.0     True  \n",
       "2     107.0        64.0         21.0     True  \n",
       "3      89.0        52.0         15.0     True  \n",
       "4      41.0        17.0          5.0     True  \n",
       "\n",
       "[5 rows x 23 columns]"
      ]
     },
     "execution_count": 7,
     "metadata": {},
     "output_type": "execute_result"
    }
   ],
   "source": [
    "df.head()"
   ]
  },
  {
   "cell_type": "code",
   "execution_count": 8,
   "id": "733e95eb",
   "metadata": {
    "execution": {
     "iopub.execute_input": "2021-04-04T22:49:48.146239Z",
     "iopub.status.busy": "2021-04-04T22:49:48.145161Z",
     "iopub.status.idle": "2021-04-04T22:49:48.148440Z",
     "shell.execute_reply": "2021-04-04T22:49:48.149547Z"
    },
    "papermill": {
     "duration": 0.039021,
     "end_time": "2021-04-04T22:49:48.149986",
     "exception": false,
     "start_time": "2021-04-04T22:49:48.110965",
     "status": "completed"
    },
    "tags": []
   },
   "outputs": [],
   "source": [
    "del df['id']"
   ]
  },
  {
   "cell_type": "code",
   "execution_count": 9,
   "id": "6ff6f5b0",
   "metadata": {
    "execution": {
     "iopub.execute_input": "2021-04-04T22:49:48.201115Z",
     "iopub.status.busy": "2021-04-04T22:49:48.200077Z",
     "iopub.status.idle": "2021-04-04T22:49:48.202673Z",
     "shell.execute_reply": "2021-04-04T22:49:48.203621Z"
    },
    "papermill": {
     "duration": 0.03118,
     "end_time": "2021-04-04T22:49:48.203978",
     "exception": false,
     "start_time": "2021-04-04T22:49:48.172798",
     "status": "completed"
    },
    "tags": []
   },
   "outputs": [],
   "source": [
    "if PROFILE_REPORTING:\n",
    "    ProfileReport(df).to_widgets()"
   ]
  },
  {
   "cell_type": "markdown",
   "id": "1deaf3f0",
   "metadata": {
    "papermill": {
     "duration": 0.024935,
     "end_time": "2021-04-04T22:49:48.251269",
     "exception": false,
     "start_time": "2021-04-04T22:49:48.226334",
     "status": "completed"
    },
    "tags": []
   },
   "source": [
    "# Preprocess"
   ]
  },
  {
   "cell_type": "code",
   "execution_count": 10,
   "id": "1513e563",
   "metadata": {
    "execution": {
     "iopub.execute_input": "2021-04-04T22:49:48.301893Z",
     "iopub.status.busy": "2021-04-04T22:49:48.301070Z",
     "iopub.status.idle": "2021-04-04T22:49:48.304049Z",
     "shell.execute_reply": "2021-04-04T22:49:48.305073Z"
    },
    "papermill": {
     "duration": 0.032042,
     "end_time": "2021-04-04T22:49:48.305353",
     "exception": false,
     "start_time": "2021-04-04T22:49:48.273311",
     "status": "completed"
    },
    "tags": []
   },
   "outputs": [],
   "source": [
    "working_df = df.copy()"
   ]
  },
  {
   "cell_type": "code",
   "execution_count": 11,
   "id": "3b26d675",
   "metadata": {
    "execution": {
     "iopub.execute_input": "2021-04-04T22:49:48.368983Z",
     "iopub.status.busy": "2021-04-04T22:49:48.368254Z",
     "iopub.status.idle": "2021-04-04T22:49:48.370939Z",
     "shell.execute_reply": "2021-04-04T22:49:48.371484Z"
    },
    "papermill": {
     "duration": 0.044493,
     "end_time": "2021-04-04T22:49:48.371650",
     "exception": false,
     "start_time": "2021-04-04T22:49:48.327157",
     "status": "completed"
    },
    "tags": []
   },
   "outputs": [],
   "source": [
    "working_df['defects'] = working_df['defects'].replace([False, True], [0, 1])"
   ]
  },
  {
   "cell_type": "code",
   "execution_count": 12,
   "id": "eb48604f",
   "metadata": {
    "execution": {
     "iopub.execute_input": "2021-04-04T22:49:48.428482Z",
     "iopub.status.busy": "2021-04-04T22:49:48.427844Z",
     "iopub.status.idle": "2021-04-04T22:49:48.429683Z",
     "shell.execute_reply": "2021-04-04T22:49:48.430145Z"
    },
    "papermill": {
     "duration": 0.028921,
     "end_time": "2021-04-04T22:49:48.430286",
     "exception": false,
     "start_time": "2021-04-04T22:49:48.401365",
     "status": "completed"
    },
    "tags": []
   },
   "outputs": [],
   "source": [
    "for col in dataset_config['delete_columns']:\n",
    "    del working_df[col]"
   ]
  },
  {
   "cell_type": "code",
   "execution_count": 13,
   "id": "9a17bc29",
   "metadata": {
    "execution": {
     "iopub.execute_input": "2021-04-04T22:49:48.492188Z",
     "iopub.status.busy": "2021-04-04T22:49:48.490571Z",
     "iopub.status.idle": "2021-04-04T22:49:48.503782Z",
     "shell.execute_reply": "2021-04-04T22:49:48.504422Z"
    },
    "papermill": {
     "duration": 0.050343,
     "end_time": "2021-04-04T22:49:48.504748",
     "exception": false,
     "start_time": "2021-04-04T22:49:48.454405",
     "status": "completed"
    },
    "tags": []
   },
   "outputs": [],
   "source": [
    "working_df = working_df.drop_duplicates()"
   ]
  },
  {
   "cell_type": "markdown",
   "id": "a4d52ca6",
   "metadata": {
    "papermill": {
     "duration": 0.025066,
     "end_time": "2021-04-04T22:49:48.555060",
     "exception": false,
     "start_time": "2021-04-04T22:49:48.529994",
     "status": "completed"
    },
    "tags": []
   },
   "source": [
    "# Split"
   ]
  },
  {
   "cell_type": "code",
   "execution_count": 14,
   "id": "3e9ee4b5",
   "metadata": {
    "execution": {
     "iopub.execute_input": "2021-04-04T22:49:48.611018Z",
     "iopub.status.busy": "2021-04-04T22:49:48.609371Z",
     "iopub.status.idle": "2021-04-04T22:49:48.639538Z",
     "shell.execute_reply": "2021-04-04T22:49:48.640039Z"
    },
    "papermill": {
     "duration": 0.062839,
     "end_time": "2021-04-04T22:49:48.640205",
     "exception": false,
     "start_time": "2021-04-04T22:49:48.577366",
     "status": "completed"
    },
    "tags": []
   },
   "outputs": [],
   "source": [
    "from sklearn.model_selection import train_test_split"
   ]
  },
  {
   "cell_type": "code",
   "execution_count": 15,
   "id": "274004ce",
   "metadata": {
    "execution": {
     "iopub.execute_input": "2021-04-04T22:49:48.691673Z",
     "iopub.status.busy": "2021-04-04T22:49:48.691018Z",
     "iopub.status.idle": "2021-04-04T22:49:48.696239Z",
     "shell.execute_reply": "2021-04-04T22:49:48.696730Z"
    },
    "papermill": {
     "duration": 0.032846,
     "end_time": "2021-04-04T22:49:48.696880",
     "exception": false,
     "start_time": "2021-04-04T22:49:48.664034",
     "status": "completed"
    },
    "scrolled": true,
    "tags": []
   },
   "outputs": [],
   "source": [
    "inlier, outlier = working_df[working_df['defects'] == 0], working_df[working_df['defects'] == 1]"
   ]
  },
  {
   "cell_type": "code",
   "execution_count": 16,
   "id": "753c7b03",
   "metadata": {
    "execution": {
     "iopub.execute_input": "2021-04-04T22:49:48.762592Z",
     "iopub.status.busy": "2021-04-04T22:49:48.760400Z",
     "iopub.status.idle": "2021-04-04T22:49:48.765664Z",
     "shell.execute_reply": "2021-04-04T22:49:48.766213Z"
    },
    "papermill": {
     "duration": 0.043659,
     "end_time": "2021-04-04T22:49:48.766381",
     "exception": false,
     "start_time": "2021-04-04T22:49:48.722722",
     "status": "completed"
    },
    "tags": []
   },
   "outputs": [],
   "source": [
    "X_inlier = inlier.copy()\n",
    "y_inlier = X_inlier.pop('defects')\n",
    "X_outlier = outlier.copy()\n",
    "y_outlier = X_outlier.pop('defects')"
   ]
  },
  {
   "cell_type": "code",
   "execution_count": 17,
   "id": "2ba43193",
   "metadata": {
    "execution": {
     "iopub.execute_input": "2021-04-04T22:49:48.821467Z",
     "iopub.status.busy": "2021-04-04T22:49:48.818763Z",
     "iopub.status.idle": "2021-04-04T22:49:48.824601Z",
     "shell.execute_reply": "2021-04-04T22:49:48.825058Z"
    },
    "papermill": {
     "duration": 0.035817,
     "end_time": "2021-04-04T22:49:48.825247",
     "exception": false,
     "start_time": "2021-04-04T22:49:48.789430",
     "status": "completed"
    },
    "tags": []
   },
   "outputs": [],
   "source": [
    "test_size = dataset_config['test_size']\n",
    "random_state = dataset_config['random_state']\n",
    "\n",
    "X_inlier_train, X_inlier_test, y_inlier_train, y_inlier_test = train_test_split(\n",
    "    X_inlier,\n",
    "    y_inlier,\n",
    "    test_size=test_size,\n",
    "    random_state=random_state\n",
    ")"
   ]
  },
  {
   "cell_type": "code",
   "execution_count": 18,
   "id": "0b7582ca",
   "metadata": {
    "execution": {
     "iopub.execute_input": "2021-04-04T22:49:48.892476Z",
     "iopub.status.busy": "2021-04-04T22:49:48.890413Z",
     "iopub.status.idle": "2021-04-04T22:49:48.894354Z",
     "shell.execute_reply": "2021-04-04T22:49:48.893825Z"
    },
    "papermill": {
     "duration": 0.045768,
     "end_time": "2021-04-04T22:49:48.894474",
     "exception": false,
     "start_time": "2021-04-04T22:49:48.848706",
     "status": "completed"
    },
    "tags": []
   },
   "outputs": [],
   "source": [
    "test_outlier_size = dataset_config['test_outlier_size']\n",
    "if test_outlier_size > 0.0:\n",
    "    X_outlier_train, X_outlier_test, y_outlier_train, y_outlier_test = train_test_split(\n",
    "        X_outlier,\n",
    "        y_outlier,\n",
    "        test_size=test_outlier_size,\n",
    "        random_state=random_state\n",
    "    )\n",
    "else:\n",
    "    X_outlier_train, y_outlier_train = pd.DataFrame(columns=X_outlier.columns), pd.Series(dtype='int64')\n",
    "    X_outlier_test, y_outlier_test = X_outlier.copy(), y_outlier.copy()"
   ]
  },
  {
   "cell_type": "code",
   "execution_count": 19,
   "id": "c34363db",
   "metadata": {
    "execution": {
     "iopub.execute_input": "2021-04-04T22:49:48.951811Z",
     "iopub.status.busy": "2021-04-04T22:49:48.950177Z",
     "iopub.status.idle": "2021-04-04T22:49:48.953717Z",
     "shell.execute_reply": "2021-04-04T22:49:48.954188Z"
    },
    "papermill": {
     "duration": 0.034637,
     "end_time": "2021-04-04T22:49:48.954334",
     "exception": false,
     "start_time": "2021-04-04T22:49:48.919697",
     "status": "completed"
    },
    "tags": []
   },
   "outputs": [],
   "source": [
    "X_train, y_train = pd.concat([X_inlier_train, X_outlier_train], ignore_index=True), pd.concat([y_inlier_train, y_outlier_train], ignore_index=True)\n",
    "X_test, y_test = pd.concat([X_inlier_test, X_outlier_test], ignore_index=True), pd.concat([y_inlier_test, y_outlier_test], ignore_index=True)"
   ]
  },
  {
   "cell_type": "markdown",
   "id": "7cde7309",
   "metadata": {
    "papermill": {
     "duration": 0.027567,
     "end_time": "2021-04-04T22:49:49.006990",
     "exception": false,
     "start_time": "2021-04-04T22:49:48.979423",
     "status": "completed"
    },
    "tags": []
   },
   "source": [
    "# Model"
   ]
  },
  {
   "cell_type": "code",
   "execution_count": 20,
   "id": "2b12a415",
   "metadata": {
    "execution": {
     "iopub.execute_input": "2021-04-04T22:49:49.071259Z",
     "iopub.status.busy": "2021-04-04T22:49:49.069550Z",
     "iopub.status.idle": "2021-04-04T22:49:49.073008Z",
     "shell.execute_reply": "2021-04-04T22:49:49.073848Z"
    },
    "papermill": {
     "duration": 0.042659,
     "end_time": "2021-04-04T22:49:49.074379",
     "exception": false,
     "start_time": "2021-04-04T22:49:49.031720",
     "status": "completed"
    },
    "tags": []
   },
   "outputs": [],
   "source": [
    "from math import sqrt\n",
    "\n",
    "\n",
    "class KNNDataDescription:\n",
    "    def __init__(self, k=5, outlier_threshold=1.0):\n",
    "        self.k = k\n",
    "        self.outlier_threshold = outlier_threshold\n",
    "        self.X = []\n",
    "    \n",
    "    def fit(self, X):\n",
    "        self.X = [features.to_list() for index, features in X.iterrows()]\n",
    "\n",
    "    def predict(self, entries):\n",
    "        return [self.predict_entry(features.to_list()) for index, features in entries.iterrows()]\n",
    "    \n",
    "    def predict_entry(self, entry):\n",
    "        kth_neighbor, kth_distance = self.get_kth_neighbor(entry, self.k)\n",
    "        kth_kth_neighbor, kth_kth_distance = self.get_kth_neighbor(kth_neighbor, self.k + 1)\n",
    "\n",
    "        outlier_score = kth_distance / (kth_kth_distance + 0.000001)\n",
    "\n",
    "        return 1 if outlier_score < self.outlier_threshold else -1\n",
    "        \n",
    "    def euclidean_distance(self, features1, features2):\n",
    "        distance = 0.0\n",
    "        for feat1, feat2 in zip(features1, features2):\n",
    "            distance += (feat1 - feat2)**2\n",
    "                \n",
    "        return sqrt(distance)\n",
    "\n",
    "    def get_neighbors(self, entry, k):\n",
    "        distance_to_data_points = [\n",
    "            (data_point, self.euclidean_distance(entry, data_point))\n",
    "            for data_point in self.X\n",
    "        ]\n",
    "        sorted_by_distance = sorted(distance_to_data_points, key=lambda tup: tup[1])\n",
    "        neighbors = sorted_by_distance[:k]\n",
    "        return neighbors\n",
    "\n",
    "    def get_kth_neighbor(self, entry, k):\n",
    "        neighbors = self.get_neighbors(entry, k)\n",
    "        return neighbors[-1]\n"
   ]
  },
  {
   "cell_type": "code",
   "execution_count": 21,
   "id": "1fa9ec1c",
   "metadata": {
    "execution": {
     "iopub.execute_input": "2021-04-04T22:49:49.134909Z",
     "iopub.status.busy": "2021-04-04T22:49:49.132860Z",
     "iopub.status.idle": "2021-04-04T22:49:49.157645Z",
     "shell.execute_reply": "2021-04-04T22:49:49.158099Z"
    },
    "papermill": {
     "duration": 0.059499,
     "end_time": "2021-04-04T22:49:49.158240",
     "exception": false,
     "start_time": "2021-04-04T22:49:49.098741",
     "status": "completed"
    },
    "tags": []
   },
   "outputs": [],
   "source": [
    "from sklearn.svm import OneClassSVM\n",
    "\n",
    "\n",
    "models = {\n",
    "    'oneclasssvm': OneClassSVM,\n",
    "    'knndatadescription': KNNDataDescription,\n",
    "}"
   ]
  },
  {
   "cell_type": "code",
   "execution_count": 22,
   "id": "4d72a0b1",
   "metadata": {
    "execution": {
     "iopub.execute_input": "2021-04-04T22:49:49.212240Z",
     "iopub.status.busy": "2021-04-04T22:49:49.209999Z",
     "iopub.status.idle": "2021-04-04T22:49:49.213487Z",
     "shell.execute_reply": "2021-04-04T22:49:49.214011Z"
    },
    "papermill": {
     "duration": 0.031542,
     "end_time": "2021-04-04T22:49:49.214171",
     "exception": false,
     "start_time": "2021-04-04T22:49:49.182629",
     "status": "completed"
    },
    "scrolled": true,
    "tags": []
   },
   "outputs": [],
   "source": [
    "model_cls = models[model_config['model_type']]\n",
    "model = model_cls(**model_config['hyperparameters'])"
   ]
  },
  {
   "cell_type": "markdown",
   "id": "e00cff3b",
   "metadata": {
    "papermill": {
     "duration": 0.030269,
     "end_time": "2021-04-04T22:49:49.268409",
     "exception": false,
     "start_time": "2021-04-04T22:49:49.238140",
     "status": "completed"
    },
    "tags": []
   },
   "source": [
    "# Fit"
   ]
  },
  {
   "cell_type": "code",
   "execution_count": 23,
   "id": "8b2ded89",
   "metadata": {
    "execution": {
     "iopub.execute_input": "2021-04-04T22:49:49.323644Z",
     "iopub.status.busy": "2021-04-04T22:49:49.322604Z",
     "iopub.status.idle": "2021-04-04T22:49:49.396752Z",
     "shell.execute_reply": "2021-04-04T22:49:49.397240Z"
    },
    "papermill": {
     "duration": 0.10493,
     "end_time": "2021-04-04T22:49:49.397387",
     "exception": false,
     "start_time": "2021-04-04T22:49:49.292457",
     "status": "completed"
    },
    "tags": []
   },
   "outputs": [],
   "source": [
    "model.fit(X_train)"
   ]
  },
  {
   "cell_type": "markdown",
   "id": "f99999f7",
   "metadata": {
    "papermill": {
     "duration": 0.025405,
     "end_time": "2021-04-04T22:49:49.448507",
     "exception": false,
     "start_time": "2021-04-04T22:49:49.423102",
     "status": "completed"
    },
    "tags": []
   },
   "source": [
    "# Predict"
   ]
  },
  {
   "cell_type": "code",
   "execution_count": 24,
   "id": "6536fbf7",
   "metadata": {
    "execution": {
     "iopub.execute_input": "2021-04-04T22:49:49.519604Z",
     "iopub.status.busy": "2021-04-04T22:49:49.509398Z",
     "iopub.status.idle": "2021-04-04T22:49:52.500775Z",
     "shell.execute_reply": "2021-04-04T22:49:52.501535Z"
    },
    "papermill": {
     "duration": 3.023861,
     "end_time": "2021-04-04T22:49:52.501726",
     "exception": false,
     "start_time": "2021-04-04T22:49:49.477865",
     "status": "completed"
    },
    "tags": []
   },
   "outputs": [],
   "source": [
    "predictions = model.predict(X_test)"
   ]
  },
  {
   "cell_type": "markdown",
   "id": "aa1c9881",
   "metadata": {
    "papermill": {
     "duration": 0.03185,
     "end_time": "2021-04-04T22:49:52.559553",
     "exception": false,
     "start_time": "2021-04-04T22:49:52.527703",
     "status": "completed"
    },
    "tags": []
   },
   "source": [
    "# Evaluate"
   ]
  },
  {
   "cell_type": "code",
   "execution_count": 25,
   "id": "894f0f04",
   "metadata": {
    "execution": {
     "iopub.execute_input": "2021-04-04T22:49:52.615586Z",
     "iopub.status.busy": "2021-04-04T22:49:52.614815Z",
     "iopub.status.idle": "2021-04-04T22:49:52.617263Z",
     "shell.execute_reply": "2021-04-04T22:49:52.617792Z"
    },
    "papermill": {
     "duration": 0.032558,
     "end_time": "2021-04-04T22:49:52.617950",
     "exception": false,
     "start_time": "2021-04-04T22:49:52.585392",
     "status": "completed"
    },
    "tags": []
   },
   "outputs": [],
   "source": [
    "from sklearn.metrics import f1_score"
   ]
  },
  {
   "cell_type": "code",
   "execution_count": 26,
   "id": "211744d3",
   "metadata": {
    "execution": {
     "iopub.execute_input": "2021-04-04T22:49:52.675867Z",
     "iopub.status.busy": "2021-04-04T22:49:52.675275Z",
     "iopub.status.idle": "2021-04-04T22:49:52.677238Z",
     "shell.execute_reply": "2021-04-04T22:49:52.677686Z"
    },
    "papermill": {
     "duration": 0.03513,
     "end_time": "2021-04-04T22:49:52.677824",
     "exception": false,
     "start_time": "2021-04-04T22:49:52.642694",
     "status": "completed"
    },
    "tags": []
   },
   "outputs": [],
   "source": [
    "y_test = y_test.replace([0, 1], [1, -1])"
   ]
  },
  {
   "cell_type": "code",
   "execution_count": 27,
   "id": "d68a9204",
   "metadata": {
    "execution": {
     "iopub.execute_input": "2021-04-04T22:49:52.734051Z",
     "iopub.status.busy": "2021-04-04T22:49:52.733451Z",
     "iopub.status.idle": "2021-04-04T22:49:52.735825Z",
     "shell.execute_reply": "2021-04-04T22:49:52.735350Z"
    },
    "papermill": {
     "duration": 0.034836,
     "end_time": "2021-04-04T22:49:52.735937",
     "exception": false,
     "start_time": "2021-04-04T22:49:52.701101",
     "status": "completed"
    },
    "tags": []
   },
   "outputs": [],
   "source": [
    "def evaluate(truths, predictions, pos_label, neg_label):\n",
    "    TP = 0\n",
    "    FP = 0\n",
    "    TN = 0\n",
    "    FN = 0\n",
    "\n",
    "    for truth, pred in zip(truths, predictions): \n",
    "        if truth == pred == pos_label:\n",
    "           TP += 1\n",
    "        elif pred == pos_label and truth == neg_label:\n",
    "           FP += 1\n",
    "        elif truth == pred == neg_label:\n",
    "           TN += 1\n",
    "        elif pred == neg_label and truth == pos_label:\n",
    "           FN += 1\n",
    "\n",
    "    precision = TP / (TP + FP)\n",
    "    sensitivity = TP / (TP + FN)\n",
    "    \n",
    "    return {\n",
    "        'true_pos': TP,\n",
    "        'false_pos': FP,\n",
    "        'false_neg': FN,\n",
    "        'true_neg': TN,\n",
    "        'precision': precision,\n",
    "        'sensitivity': sensitivity,\n",
    "        'f1': (2 * (precision * sensitivity)) / (precision + sensitivity)\n",
    "    }\n",
    "\n",
    "score = evaluate(y_test, predictions, pos_label=-1, neg_label=1)"
   ]
  },
  {
   "cell_type": "markdown",
   "id": "93596516",
   "metadata": {
    "papermill": {
     "duration": 0.028082,
     "end_time": "2021-04-04T22:49:52.791009",
     "exception": false,
     "start_time": "2021-04-04T22:49:52.762927",
     "status": "completed"
    },
    "tags": []
   },
   "source": [
    "# Report"
   ]
  },
  {
   "cell_type": "code",
   "execution_count": 28,
   "id": "bea5fba1",
   "metadata": {
    "execution": {
     "iopub.execute_input": "2021-04-04T22:49:52.848732Z",
     "iopub.status.busy": "2021-04-04T22:49:52.848151Z",
     "iopub.status.idle": "2021-04-04T22:49:52.850495Z",
     "shell.execute_reply": "2021-04-04T22:49:52.850982Z"
    },
    "papermill": {
     "duration": 0.032084,
     "end_time": "2021-04-04T22:49:52.851128",
     "exception": false,
     "start_time": "2021-04-04T22:49:52.819044",
     "status": "completed"
    },
    "tags": []
   },
   "outputs": [],
   "source": [
    "import csv\n",
    "\n",
    "\n",
    "dataset_config_name = DATASET_CONFIG_PATH.split('/')[-1].split('.')[0]\n",
    "model_config_name = MODEL_CONFIG_PATH.split('/')[-1].split('.')[0]\n",
    "configuration = f\"dataset_{dataset_config_name}-model_{model_config_name}\"\n",
    "\n",
    "with open('results.csv', 'a') as f:\n",
    "    report = dict({'configuration': configuration}, **score)\n",
    "    writer = csv.DictWriter(f, report.keys())\n",
    "    writer.writerow(report)"
   ]
  }
 ],
 "metadata": {
  "celltoolbar": "Tags",
  "kernelspec": {
   "display_name": "Python 3",
   "language": "python",
   "name": "python3"
  },
  "language_info": {
   "codemirror_mode": {
    "name": "ipython",
    "version": 3
   },
   "file_extension": ".py",
   "mimetype": "text/x-python",
   "name": "python",
   "nbconvert_exporter": "python",
   "pygments_lexer": "ipython3",
   "version": "3.9.1"
  },
  "papermill": {
   "default_parameters": {},
   "duration": 8.033001,
   "end_time": "2021-04-04T22:49:53.486735",
   "environment_variables": {},
   "exception": null,
   "input_path": "main.ipynb",
   "output_path": "runs/dataset_000050-model_000003.ipynb",
   "parameters": {
    "DATASET_CONFIG_PATH": "config/dataset/000050.json",
    "MODEL_CONFIG_PATH": "config/model/000003.json",
    "PROFILE_REPORTING": false
   },
   "start_time": "2021-04-04T22:49:45.453734",
   "version": "2.3.3"
  }
 },
 "nbformat": 4,
 "nbformat_minor": 5
}