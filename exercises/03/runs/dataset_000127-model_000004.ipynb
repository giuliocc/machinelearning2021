{
 "cells": [
  {
   "cell_type": "markdown",
   "id": "51c71c25",
   "metadata": {
    "papermill": {
     "duration": 0.033672,
     "end_time": "2021-04-04T23:23:50.359493",
     "exception": false,
     "start_time": "2021-04-04T23:23:50.325821",
     "status": "completed"
    },
    "tags": []
   },
   "source": [
    "# Parametrizing"
   ]
  },
  {
   "cell_type": "code",
   "execution_count": 1,
   "id": "3b136394",
   "metadata": {
    "execution": {
     "iopub.execute_input": "2021-04-04T23:23:50.434632Z",
     "iopub.status.busy": "2021-04-04T23:23:50.432780Z",
     "iopub.status.idle": "2021-04-04T23:23:50.437560Z",
     "shell.execute_reply": "2021-04-04T23:23:50.436907Z"
    },
    "papermill": {
     "duration": 0.048247,
     "end_time": "2021-04-04T23:23:50.437704",
     "exception": false,
     "start_time": "2021-04-04T23:23:50.389457",
     "status": "completed"
    },
    "tags": [
     "parameters"
    ]
   },
   "outputs": [],
   "source": [
    "DATASET_CONFIG_PATH = 'config/dataset/kc1_001.json'\n",
    "MODEL_CONFIG_PATH = 'config/model/knndd_001.json'\n",
    "PROFILE_REPORTING = False"
   ]
  },
  {
   "cell_type": "code",
   "execution_count": 2,
   "id": "cc2c513b",
   "metadata": {
    "execution": {
     "iopub.execute_input": "2021-04-04T23:23:50.486429Z",
     "iopub.status.busy": "2021-04-04T23:23:50.485750Z",
     "iopub.status.idle": "2021-04-04T23:23:50.487677Z",
     "shell.execute_reply": "2021-04-04T23:23:50.488140Z"
    },
    "papermill": {
     "duration": 0.026706,
     "end_time": "2021-04-04T23:23:50.488281",
     "exception": false,
     "start_time": "2021-04-04T23:23:50.461575",
     "status": "completed"
    },
    "tags": [
     "injected-parameters"
    ]
   },
   "outputs": [],
   "source": [
    "# Parameters\n",
    "DATASET_CONFIG_PATH = \"config/dataset/000127.json\"\n",
    "MODEL_CONFIG_PATH = \"config/model/000004.json\"\n",
    "PROFILE_REPORTING = False\n"
   ]
  },
  {
   "cell_type": "code",
   "execution_count": 3,
   "id": "b80f2a10",
   "metadata": {
    "execution": {
     "iopub.execute_input": "2021-04-04T23:23:50.556133Z",
     "iopub.status.busy": "2021-04-04T23:23:50.554417Z",
     "iopub.status.idle": "2021-04-04T23:23:50.558711Z",
     "shell.execute_reply": "2021-04-04T23:23:50.558165Z"
    },
    "papermill": {
     "duration": 0.043075,
     "end_time": "2021-04-04T23:23:50.558830",
     "exception": false,
     "start_time": "2021-04-04T23:23:50.515755",
     "status": "completed"
    },
    "tags": []
   },
   "outputs": [],
   "source": [
    "import json\n",
    "\n",
    "\n",
    "with open(DATASET_CONFIG_PATH) as f:\n",
    "    dataset_config = json.load(f)\n",
    "\n",
    "with open(MODEL_CONFIG_PATH) as f:\n",
    "    model_config = json.load(f)"
   ]
  },
  {
   "cell_type": "markdown",
   "id": "9a4b0e2d",
   "metadata": {
    "papermill": {
     "duration": 0.025857,
     "end_time": "2021-04-04T23:23:50.609610",
     "exception": false,
     "start_time": "2021-04-04T23:23:50.583753",
     "status": "completed"
    },
    "tags": []
   },
   "source": [
    "# Profiling"
   ]
  },
  {
   "cell_type": "code",
   "execution_count": 4,
   "id": "a3e0289b",
   "metadata": {
    "execution": {
     "iopub.execute_input": "2021-04-04T23:23:50.673708Z",
     "iopub.status.busy": "2021-04-04T23:23:50.672898Z",
     "iopub.status.idle": "2021-04-04T23:23:52.353211Z",
     "shell.execute_reply": "2021-04-04T23:23:52.352062Z"
    },
    "papermill": {
     "duration": 1.71404,
     "end_time": "2021-04-04T23:23:52.353462",
     "exception": false,
     "start_time": "2021-04-04T23:23:50.639422",
     "status": "completed"
    },
    "tags": []
   },
   "outputs": [],
   "source": [
    "import pandas as pd\n",
    "from pandas_profiling import ProfileReport"
   ]
  },
  {
   "cell_type": "code",
   "execution_count": 5,
   "id": "ee6c0666",
   "metadata": {
    "execution": {
     "iopub.execute_input": "2021-04-04T23:23:52.413058Z",
     "iopub.status.busy": "2021-04-04T23:23:52.412148Z",
     "iopub.status.idle": "2021-04-04T23:23:52.423481Z",
     "shell.execute_reply": "2021-04-04T23:23:52.422142Z"
    },
    "papermill": {
     "duration": 0.041258,
     "end_time": "2021-04-04T23:23:52.423657",
     "exception": false,
     "start_time": "2021-04-04T23:23:52.382399",
     "status": "completed"
    },
    "tags": []
   },
   "outputs": [],
   "source": [
    "df = pd.read_csv(dataset_config['dataset_path'])"
   ]
  },
  {
   "cell_type": "code",
   "execution_count": 6,
   "id": "7eca6c4a",
   "metadata": {
    "execution": {
     "iopub.execute_input": "2021-04-04T23:23:52.492303Z",
     "iopub.status.busy": "2021-04-04T23:23:52.484834Z",
     "iopub.status.idle": "2021-04-04T23:23:52.494870Z",
     "shell.execute_reply": "2021-04-04T23:23:52.495334Z"
    },
    "papermill": {
     "duration": 0.050997,
     "end_time": "2021-04-04T23:23:52.495478",
     "exception": false,
     "start_time": "2021-04-04T23:23:52.444481",
     "status": "completed"
    },
    "tags": []
   },
   "outputs": [
    {
     "name": "stdout",
     "output_type": "stream",
     "text": [
      "<class 'pandas.core.frame.DataFrame'>\n",
      "RangeIndex: 498 entries, 0 to 497\n",
      "Data columns (total 23 columns):\n",
      " #   Column             Non-Null Count  Dtype  \n",
      "---  ------             --------------  -----  \n",
      " 0   id                 498 non-null    int64  \n",
      " 1   loc                498 non-null    float64\n",
      " 2   v(g)               498 non-null    float64\n",
      " 3   ev(g)              498 non-null    float64\n",
      " 4   iv(g)              498 non-null    float64\n",
      " 5   n                  498 non-null    float64\n",
      " 6   v                  498 non-null    float64\n",
      " 7   l                  498 non-null    float64\n",
      " 8   d                  498 non-null    float64\n",
      " 9   i                  498 non-null    float64\n",
      " 10  e                  498 non-null    float64\n",
      " 11  b                  498 non-null    float64\n",
      " 12  t                  498 non-null    float64\n",
      " 13  lOCode             498 non-null    int64  \n",
      " 14  lOComment          498 non-null    int64  \n",
      " 15  lOBlank            498 non-null    int64  \n",
      " 16  locCodeAndComment  498 non-null    int64  \n",
      " 17  uniq_Op            498 non-null    float64\n",
      " 18  uniq_Opnd          498 non-null    float64\n",
      " 19  total_Op           498 non-null    float64\n",
      " 20  total_Opnd         498 non-null    float64\n",
      " 21  branchCount        498 non-null    float64\n",
      " 22  defects            498 non-null    bool   \n",
      "dtypes: bool(1), float64(17), int64(5)\n",
      "memory usage: 86.2 KB\n"
     ]
    }
   ],
   "source": [
    "df.info()"
   ]
  },
  {
   "cell_type": "code",
   "execution_count": 7,
   "id": "3638e5e8",
   "metadata": {
    "execution": {
     "iopub.execute_input": "2021-04-04T23:23:52.549396Z",
     "iopub.status.busy": "2021-04-04T23:23:52.548778Z",
     "iopub.status.idle": "2021-04-04T23:23:52.576786Z",
     "shell.execute_reply": "2021-04-04T23:23:52.576168Z"
    },
    "papermill": {
     "duration": 0.057847,
     "end_time": "2021-04-04T23:23:52.576929",
     "exception": false,
     "start_time": "2021-04-04T23:23:52.519082",
     "status": "completed"
    },
    "tags": []
   },
   "outputs": [
    {
     "data": {
      "text/html": [
       "<div>\n",
       "<style scoped>\n",
       "    .dataframe tbody tr th:only-of-type {\n",
       "        vertical-align: middle;\n",
       "    }\n",
       "\n",
       "    .dataframe tbody tr th {\n",
       "        vertical-align: top;\n",
       "    }\n",
       "\n",
       "    .dataframe thead th {\n",
       "        text-align: right;\n",
       "    }\n",
       "</style>\n",
       "<table border=\"1\" class=\"dataframe\">\n",
       "  <thead>\n",
       "    <tr style=\"text-align: right;\">\n",
       "      <th></th>\n",
       "      <th>id</th>\n",
       "      <th>loc</th>\n",
       "      <th>v(g)</th>\n",
       "      <th>ev(g)</th>\n",
       "      <th>iv(g)</th>\n",
       "      <th>n</th>\n",
       "      <th>v</th>\n",
       "      <th>l</th>\n",
       "      <th>d</th>\n",
       "      <th>i</th>\n",
       "      <th>...</th>\n",
       "      <th>lOCode</th>\n",
       "      <th>lOComment</th>\n",
       "      <th>lOBlank</th>\n",
       "      <th>locCodeAndComment</th>\n",
       "      <th>uniq_Op</th>\n",
       "      <th>uniq_Opnd</th>\n",
       "      <th>total_Op</th>\n",
       "      <th>total_Opnd</th>\n",
       "      <th>branchCount</th>\n",
       "      <th>defects</th>\n",
       "    </tr>\n",
       "  </thead>\n",
       "  <tbody>\n",
       "    <tr>\n",
       "      <th>0</th>\n",
       "      <td>1</td>\n",
       "      <td>1.1</td>\n",
       "      <td>1.4</td>\n",
       "      <td>1.4</td>\n",
       "      <td>1.4</td>\n",
       "      <td>1.3</td>\n",
       "      <td>1.30</td>\n",
       "      <td>1.30</td>\n",
       "      <td>1.30</td>\n",
       "      <td>1.30</td>\n",
       "      <td>...</td>\n",
       "      <td>2</td>\n",
       "      <td>2</td>\n",
       "      <td>2</td>\n",
       "      <td>2</td>\n",
       "      <td>1.2</td>\n",
       "      <td>1.2</td>\n",
       "      <td>1.2</td>\n",
       "      <td>1.2</td>\n",
       "      <td>1.4</td>\n",
       "      <td>False</td>\n",
       "    </tr>\n",
       "    <tr>\n",
       "      <th>1</th>\n",
       "      <td>2</td>\n",
       "      <td>1.0</td>\n",
       "      <td>1.0</td>\n",
       "      <td>1.0</td>\n",
       "      <td>1.0</td>\n",
       "      <td>1.0</td>\n",
       "      <td>1.00</td>\n",
       "      <td>1.00</td>\n",
       "      <td>1.00</td>\n",
       "      <td>1.00</td>\n",
       "      <td>...</td>\n",
       "      <td>1</td>\n",
       "      <td>1</td>\n",
       "      <td>1</td>\n",
       "      <td>1</td>\n",
       "      <td>1.0</td>\n",
       "      <td>1.0</td>\n",
       "      <td>1.0</td>\n",
       "      <td>1.0</td>\n",
       "      <td>1.0</td>\n",
       "      <td>True</td>\n",
       "    </tr>\n",
       "    <tr>\n",
       "      <th>2</th>\n",
       "      <td>3</td>\n",
       "      <td>24.0</td>\n",
       "      <td>5.0</td>\n",
       "      <td>1.0</td>\n",
       "      <td>3.0</td>\n",
       "      <td>63.0</td>\n",
       "      <td>309.13</td>\n",
       "      <td>0.11</td>\n",
       "      <td>9.50</td>\n",
       "      <td>32.54</td>\n",
       "      <td>...</td>\n",
       "      <td>1</td>\n",
       "      <td>0</td>\n",
       "      <td>6</td>\n",
       "      <td>0</td>\n",
       "      <td>15.0</td>\n",
       "      <td>15.0</td>\n",
       "      <td>44.0</td>\n",
       "      <td>19.0</td>\n",
       "      <td>9.0</td>\n",
       "      <td>False</td>\n",
       "    </tr>\n",
       "    <tr>\n",
       "      <th>3</th>\n",
       "      <td>4</td>\n",
       "      <td>20.0</td>\n",
       "      <td>4.0</td>\n",
       "      <td>4.0</td>\n",
       "      <td>2.0</td>\n",
       "      <td>47.0</td>\n",
       "      <td>215.49</td>\n",
       "      <td>0.06</td>\n",
       "      <td>16.00</td>\n",
       "      <td>13.47</td>\n",
       "      <td>...</td>\n",
       "      <td>0</td>\n",
       "      <td>0</td>\n",
       "      <td>3</td>\n",
       "      <td>0</td>\n",
       "      <td>16.0</td>\n",
       "      <td>8.0</td>\n",
       "      <td>31.0</td>\n",
       "      <td>16.0</td>\n",
       "      <td>7.0</td>\n",
       "      <td>False</td>\n",
       "    </tr>\n",
       "    <tr>\n",
       "      <th>4</th>\n",
       "      <td>5</td>\n",
       "      <td>24.0</td>\n",
       "      <td>6.0</td>\n",
       "      <td>6.0</td>\n",
       "      <td>2.0</td>\n",
       "      <td>72.0</td>\n",
       "      <td>346.13</td>\n",
       "      <td>0.06</td>\n",
       "      <td>17.33</td>\n",
       "      <td>19.97</td>\n",
       "      <td>...</td>\n",
       "      <td>0</td>\n",
       "      <td>0</td>\n",
       "      <td>3</td>\n",
       "      <td>0</td>\n",
       "      <td>16.0</td>\n",
       "      <td>12.0</td>\n",
       "      <td>46.0</td>\n",
       "      <td>26.0</td>\n",
       "      <td>11.0</td>\n",
       "      <td>False</td>\n",
       "    </tr>\n",
       "  </tbody>\n",
       "</table>\n",
       "<p>5 rows × 23 columns</p>\n",
       "</div>"
      ],
      "text/plain": [
       "   id   loc  v(g)  ev(g)  iv(g)     n       v     l      d      i  ...  \\\n",
       "0   1   1.1   1.4    1.4    1.4   1.3    1.30  1.30   1.30   1.30  ...   \n",
       "1   2   1.0   1.0    1.0    1.0   1.0    1.00  1.00   1.00   1.00  ...   \n",
       "2   3  24.0   5.0    1.0    3.0  63.0  309.13  0.11   9.50  32.54  ...   \n",
       "3   4  20.0   4.0    4.0    2.0  47.0  215.49  0.06  16.00  13.47  ...   \n",
       "4   5  24.0   6.0    6.0    2.0  72.0  346.13  0.06  17.33  19.97  ...   \n",
       "\n",
       "   lOCode  lOComment  lOBlank  locCodeAndComment  uniq_Op  uniq_Opnd  \\\n",
       "0       2          2        2                  2      1.2        1.2   \n",
       "1       1          1        1                  1      1.0        1.0   \n",
       "2       1          0        6                  0     15.0       15.0   \n",
       "3       0          0        3                  0     16.0        8.0   \n",
       "4       0          0        3                  0     16.0       12.0   \n",
       "\n",
       "   total_Op  total_Opnd  branchCount  defects  \n",
       "0       1.2         1.2          1.4    False  \n",
       "1       1.0         1.0          1.0     True  \n",
       "2      44.0        19.0          9.0    False  \n",
       "3      31.0        16.0          7.0    False  \n",
       "4      46.0        26.0         11.0    False  \n",
       "\n",
       "[5 rows x 23 columns]"
      ]
     },
     "execution_count": 7,
     "metadata": {},
     "output_type": "execute_result"
    }
   ],
   "source": [
    "df.head()"
   ]
  },
  {
   "cell_type": "code",
   "execution_count": 8,
   "id": "733e95eb",
   "metadata": {
    "execution": {
     "iopub.execute_input": "2021-04-04T23:23:52.633080Z",
     "iopub.status.busy": "2021-04-04T23:23:52.632050Z",
     "iopub.status.idle": "2021-04-04T23:23:52.635209Z",
     "shell.execute_reply": "2021-04-04T23:23:52.634600Z"
    },
    "papermill": {
     "duration": 0.035629,
     "end_time": "2021-04-04T23:23:52.635354",
     "exception": false,
     "start_time": "2021-04-04T23:23:52.599725",
     "status": "completed"
    },
    "tags": []
   },
   "outputs": [],
   "source": [
    "del df['id']"
   ]
  },
  {
   "cell_type": "code",
   "execution_count": 9,
   "id": "6ff6f5b0",
   "metadata": {
    "execution": {
     "iopub.execute_input": "2021-04-04T23:23:52.686488Z",
     "iopub.status.busy": "2021-04-04T23:23:52.685627Z",
     "iopub.status.idle": "2021-04-04T23:23:52.688324Z",
     "shell.execute_reply": "2021-04-04T23:23:52.687758Z"
    },
    "papermill": {
     "duration": 0.03125,
     "end_time": "2021-04-04T23:23:52.688445",
     "exception": false,
     "start_time": "2021-04-04T23:23:52.657195",
     "status": "completed"
    },
    "tags": []
   },
   "outputs": [],
   "source": [
    "if PROFILE_REPORTING:\n",
    "    ProfileReport(df).to_widgets()"
   ]
  },
  {
   "cell_type": "markdown",
   "id": "1deaf3f0",
   "metadata": {
    "papermill": {
     "duration": 0.027877,
     "end_time": "2021-04-04T23:23:52.738235",
     "exception": false,
     "start_time": "2021-04-04T23:23:52.710358",
     "status": "completed"
    },
    "tags": []
   },
   "source": [
    "# Preprocess"
   ]
  },
  {
   "cell_type": "code",
   "execution_count": 10,
   "id": "1513e563",
   "metadata": {
    "execution": {
     "iopub.execute_input": "2021-04-04T23:23:52.808560Z",
     "iopub.status.busy": "2021-04-04T23:23:52.807764Z",
     "iopub.status.idle": "2021-04-04T23:23:52.811845Z",
     "shell.execute_reply": "2021-04-04T23:23:52.812405Z"
    },
    "papermill": {
     "duration": 0.041111,
     "end_time": "2021-04-04T23:23:52.812588",
     "exception": false,
     "start_time": "2021-04-04T23:23:52.771477",
     "status": "completed"
    },
    "tags": []
   },
   "outputs": [],
   "source": [
    "working_df = df.copy()"
   ]
  },
  {
   "cell_type": "code",
   "execution_count": 11,
   "id": "3b26d675",
   "metadata": {
    "execution": {
     "iopub.execute_input": "2021-04-04T23:23:52.884969Z",
     "iopub.status.busy": "2021-04-04T23:23:52.883492Z",
     "iopub.status.idle": "2021-04-04T23:23:52.888499Z",
     "shell.execute_reply": "2021-04-04T23:23:52.887816Z"
    },
    "papermill": {
     "duration": 0.046206,
     "end_time": "2021-04-04T23:23:52.888687",
     "exception": false,
     "start_time": "2021-04-04T23:23:52.842481",
     "status": "completed"
    },
    "tags": []
   },
   "outputs": [],
   "source": [
    "working_df['defects'] = working_df['defects'].replace([False, True], [0, 1])"
   ]
  },
  {
   "cell_type": "code",
   "execution_count": 12,
   "id": "eb48604f",
   "metadata": {
    "execution": {
     "iopub.execute_input": "2021-04-04T23:23:52.952651Z",
     "iopub.status.busy": "2021-04-04T23:23:52.951794Z",
     "iopub.status.idle": "2021-04-04T23:23:52.954120Z",
     "shell.execute_reply": "2021-04-04T23:23:52.954686Z"
    },
    "papermill": {
     "duration": 0.038286,
     "end_time": "2021-04-04T23:23:52.954861",
     "exception": false,
     "start_time": "2021-04-04T23:23:52.916575",
     "status": "completed"
    },
    "tags": []
   },
   "outputs": [],
   "source": [
    "for col in dataset_config['delete_columns']:\n",
    "    del working_df[col]"
   ]
  },
  {
   "cell_type": "code",
   "execution_count": 13,
   "id": "9a17bc29",
   "metadata": {
    "execution": {
     "iopub.execute_input": "2021-04-04T23:23:53.015667Z",
     "iopub.status.busy": "2021-04-04T23:23:53.014911Z",
     "iopub.status.idle": "2021-04-04T23:23:53.027208Z",
     "shell.execute_reply": "2021-04-04T23:23:53.026241Z"
    },
    "papermill": {
     "duration": 0.048161,
     "end_time": "2021-04-04T23:23:53.027484",
     "exception": false,
     "start_time": "2021-04-04T23:23:52.979323",
     "status": "completed"
    },
    "tags": []
   },
   "outputs": [],
   "source": [
    "working_df = working_df.drop_duplicates()"
   ]
  },
  {
   "cell_type": "markdown",
   "id": "a4d52ca6",
   "metadata": {
    "papermill": {
     "duration": 0.02145,
     "end_time": "2021-04-04T23:23:53.073385",
     "exception": false,
     "start_time": "2021-04-04T23:23:53.051935",
     "status": "completed"
    },
    "tags": []
   },
   "source": [
    "# Split"
   ]
  },
  {
   "cell_type": "code",
   "execution_count": 14,
   "id": "3e9ee4b5",
   "metadata": {
    "execution": {
     "iopub.execute_input": "2021-04-04T23:23:53.133161Z",
     "iopub.status.busy": "2021-04-04T23:23:53.131262Z",
     "iopub.status.idle": "2021-04-04T23:23:53.167403Z",
     "shell.execute_reply": "2021-04-04T23:23:53.167886Z"
    },
    "papermill": {
     "duration": 0.068747,
     "end_time": "2021-04-04T23:23:53.168036",
     "exception": false,
     "start_time": "2021-04-04T23:23:53.099289",
     "status": "completed"
    },
    "tags": []
   },
   "outputs": [],
   "source": [
    "from sklearn.model_selection import train_test_split"
   ]
  },
  {
   "cell_type": "code",
   "execution_count": 15,
   "id": "274004ce",
   "metadata": {
    "execution": {
     "iopub.execute_input": "2021-04-04T23:23:53.221159Z",
     "iopub.status.busy": "2021-04-04T23:23:53.220537Z",
     "iopub.status.idle": "2021-04-04T23:23:53.225508Z",
     "shell.execute_reply": "2021-04-04T23:23:53.224990Z"
    },
    "papermill": {
     "duration": 0.031718,
     "end_time": "2021-04-04T23:23:53.225627",
     "exception": false,
     "start_time": "2021-04-04T23:23:53.193909",
     "status": "completed"
    },
    "scrolled": true,
    "tags": []
   },
   "outputs": [],
   "source": [
    "inlier, outlier = working_df[working_df['defects'] == 0], working_df[working_df['defects'] == 1]"
   ]
  },
  {
   "cell_type": "code",
   "execution_count": 16,
   "id": "753c7b03",
   "metadata": {
    "execution": {
     "iopub.execute_input": "2021-04-04T23:23:53.289323Z",
     "iopub.status.busy": "2021-04-04T23:23:53.288034Z",
     "iopub.status.idle": "2021-04-04T23:23:53.292242Z",
     "shell.execute_reply": "2021-04-04T23:23:53.292774Z"
    },
    "papermill": {
     "duration": 0.04053,
     "end_time": "2021-04-04T23:23:53.292939",
     "exception": false,
     "start_time": "2021-04-04T23:23:53.252409",
     "status": "completed"
    },
    "tags": []
   },
   "outputs": [],
   "source": [
    "X_inlier = inlier.copy()\n",
    "y_inlier = X_inlier.pop('defects')\n",
    "X_outlier = outlier.copy()\n",
    "y_outlier = X_outlier.pop('defects')"
   ]
  },
  {
   "cell_type": "code",
   "execution_count": 17,
   "id": "2ba43193",
   "metadata": {
    "execution": {
     "iopub.execute_input": "2021-04-04T23:23:53.351380Z",
     "iopub.status.busy": "2021-04-04T23:23:53.350502Z",
     "iopub.status.idle": "2021-04-04T23:23:53.355511Z",
     "shell.execute_reply": "2021-04-04T23:23:53.357645Z"
    },
    "papermill": {
     "duration": 0.04238,
     "end_time": "2021-04-04T23:23:53.358205",
     "exception": false,
     "start_time": "2021-04-04T23:23:53.315825",
     "status": "completed"
    },
    "tags": []
   },
   "outputs": [],
   "source": [
    "test_size = dataset_config['test_size']\n",
    "random_state = dataset_config['random_state']\n",
    "\n",
    "X_inlier_train, X_inlier_test, y_inlier_train, y_inlier_test = train_test_split(\n",
    "    X_inlier,\n",
    "    y_inlier,\n",
    "    test_size=test_size,\n",
    "    random_state=random_state\n",
    ")"
   ]
  },
  {
   "cell_type": "code",
   "execution_count": 18,
   "id": "0b7582ca",
   "metadata": {
    "execution": {
     "iopub.execute_input": "2021-04-04T23:23:53.428468Z",
     "iopub.status.busy": "2021-04-04T23:23:53.427380Z",
     "iopub.status.idle": "2021-04-04T23:23:53.430531Z",
     "shell.execute_reply": "2021-04-04T23:23:53.431602Z"
    },
    "papermill": {
     "duration": 0.044886,
     "end_time": "2021-04-04T23:23:53.431889",
     "exception": false,
     "start_time": "2021-04-04T23:23:53.387003",
     "status": "completed"
    },
    "tags": []
   },
   "outputs": [],
   "source": [
    "test_outlier_size = dataset_config['test_outlier_size']\n",
    "if test_outlier_size > 0.0:\n",
    "    X_outlier_train, X_outlier_test, y_outlier_train, y_outlier_test = train_test_split(\n",
    "        X_outlier,\n",
    "        y_outlier,\n",
    "        test_size=test_outlier_size,\n",
    "        random_state=random_state\n",
    "    )\n",
    "else:\n",
    "    X_outlier_train, y_outlier_train = pd.DataFrame(columns=X_outlier.columns), pd.Series(dtype='int64')\n",
    "    X_outlier_test, y_outlier_test = X_outlier.copy(), y_outlier.copy()"
   ]
  },
  {
   "cell_type": "code",
   "execution_count": 19,
   "id": "c34363db",
   "metadata": {
    "execution": {
     "iopub.execute_input": "2021-04-04T23:23:53.492925Z",
     "iopub.status.busy": "2021-04-04T23:23:53.487279Z",
     "iopub.status.idle": "2021-04-04T23:23:53.494895Z",
     "shell.execute_reply": "2021-04-04T23:23:53.495432Z"
    },
    "papermill": {
     "duration": 0.036994,
     "end_time": "2021-04-04T23:23:53.495595",
     "exception": false,
     "start_time": "2021-04-04T23:23:53.458601",
     "status": "completed"
    },
    "tags": []
   },
   "outputs": [],
   "source": [
    "X_train, y_train = pd.concat([X_inlier_train, X_outlier_train], ignore_index=True), pd.concat([y_inlier_train, y_outlier_train], ignore_index=True)\n",
    "X_test, y_test = pd.concat([X_inlier_test, X_outlier_test], ignore_index=True), pd.concat([y_inlier_test, y_outlier_test], ignore_index=True)"
   ]
  },
  {
   "cell_type": "markdown",
   "id": "7cde7309",
   "metadata": {
    "papermill": {
     "duration": 0.028091,
     "end_time": "2021-04-04T23:23:53.547544",
     "exception": false,
     "start_time": "2021-04-04T23:23:53.519453",
     "status": "completed"
    },
    "tags": []
   },
   "source": [
    "# Model"
   ]
  },
  {
   "cell_type": "code",
   "execution_count": 20,
   "id": "2b12a415",
   "metadata": {
    "execution": {
     "iopub.execute_input": "2021-04-04T23:23:53.607306Z",
     "iopub.status.busy": "2021-04-04T23:23:53.606105Z",
     "iopub.status.idle": "2021-04-04T23:23:53.608451Z",
     "shell.execute_reply": "2021-04-04T23:23:53.608983Z"
    },
    "papermill": {
     "duration": 0.036687,
     "end_time": "2021-04-04T23:23:53.609145",
     "exception": false,
     "start_time": "2021-04-04T23:23:53.572458",
     "status": "completed"
    },
    "tags": []
   },
   "outputs": [],
   "source": [
    "from math import sqrt\n",
    "\n",
    "\n",
    "class KNNDataDescription:\n",
    "    def __init__(self, k=5, outlier_threshold=1.0):\n",
    "        self.k = k\n",
    "        self.outlier_threshold = outlier_threshold\n",
    "        self.X = []\n",
    "    \n",
    "    def fit(self, X):\n",
    "        self.X = [features.to_list() for index, features in X.iterrows()]\n",
    "\n",
    "    def predict(self, entries):\n",
    "        return [self.predict_entry(features.to_list()) for index, features in entries.iterrows()]\n",
    "    \n",
    "    def predict_entry(self, entry):\n",
    "        kth_neighbor, kth_distance = self.get_kth_neighbor(entry, self.k)\n",
    "        kth_kth_neighbor, kth_kth_distance = self.get_kth_neighbor(kth_neighbor, self.k + 1)\n",
    "\n",
    "        outlier_score = kth_distance / (kth_kth_distance + 0.000001)\n",
    "\n",
    "        return 1 if outlier_score < self.outlier_threshold else -1\n",
    "        \n",
    "    def euclidean_distance(self, features1, features2):\n",
    "        distance = 0.0\n",
    "        for feat1, feat2 in zip(features1, features2):\n",
    "            distance += (feat1 - feat2)**2\n",
    "                \n",
    "        return sqrt(distance)\n",
    "\n",
    "    def get_neighbors(self, entry, k):\n",
    "        distance_to_data_points = [\n",
    "            (data_point, self.euclidean_distance(entry, data_point))\n",
    "            for data_point in self.X\n",
    "        ]\n",
    "        sorted_by_distance = sorted(distance_to_data_points, key=lambda tup: tup[1])\n",
    "        neighbors = sorted_by_distance[:k]\n",
    "        return neighbors\n",
    "\n",
    "    def get_kth_neighbor(self, entry, k):\n",
    "        neighbors = self.get_neighbors(entry, k)\n",
    "        return neighbors[-1]\n"
   ]
  },
  {
   "cell_type": "code",
   "execution_count": 21,
   "id": "1fa9ec1c",
   "metadata": {
    "execution": {
     "iopub.execute_input": "2021-04-04T23:23:53.667160Z",
     "iopub.status.busy": "2021-04-04T23:23:53.664884Z",
     "iopub.status.idle": "2021-04-04T23:23:53.696490Z",
     "shell.execute_reply": "2021-04-04T23:23:53.695239Z"
    },
    "papermill": {
     "duration": 0.063819,
     "end_time": "2021-04-04T23:23:53.696752",
     "exception": false,
     "start_time": "2021-04-04T23:23:53.632933",
     "status": "completed"
    },
    "tags": []
   },
   "outputs": [],
   "source": [
    "from sklearn.svm import OneClassSVM\n",
    "\n",
    "\n",
    "models = {\n",
    "    'oneclasssvm': OneClassSVM,\n",
    "    'knndatadescription': KNNDataDescription,\n",
    "}"
   ]
  },
  {
   "cell_type": "code",
   "execution_count": 22,
   "id": "4d72a0b1",
   "metadata": {
    "execution": {
     "iopub.execute_input": "2021-04-04T23:23:53.772772Z",
     "iopub.status.busy": "2021-04-04T23:23:53.770659Z",
     "iopub.status.idle": "2021-04-04T23:23:53.776479Z",
     "shell.execute_reply": "2021-04-04T23:23:53.775108Z"
    },
    "papermill": {
     "duration": 0.047255,
     "end_time": "2021-04-04T23:23:53.776720",
     "exception": false,
     "start_time": "2021-04-04T23:23:53.729465",
     "status": "completed"
    },
    "scrolled": true,
    "tags": []
   },
   "outputs": [],
   "source": [
    "model_cls = models[model_config['model_type']]\n",
    "model = model_cls(**model_config['hyperparameters'])"
   ]
  },
  {
   "cell_type": "markdown",
   "id": "e00cff3b",
   "metadata": {
    "papermill": {
     "duration": 0.033696,
     "end_time": "2021-04-04T23:23:53.844390",
     "exception": false,
     "start_time": "2021-04-04T23:23:53.810694",
     "status": "completed"
    },
    "tags": []
   },
   "source": [
    "# Fit"
   ]
  },
  {
   "cell_type": "code",
   "execution_count": 23,
   "id": "8b2ded89",
   "metadata": {
    "execution": {
     "iopub.execute_input": "2021-04-04T23:23:53.919929Z",
     "iopub.status.busy": "2021-04-04T23:23:53.919082Z",
     "iopub.status.idle": "2021-04-04T23:23:53.934731Z",
     "shell.execute_reply": "2021-04-04T23:23:53.936629Z"
    },
    "papermill": {
     "duration": 0.060263,
     "end_time": "2021-04-04T23:23:53.937112",
     "exception": false,
     "start_time": "2021-04-04T23:23:53.876849",
     "status": "completed"
    },
    "tags": []
   },
   "outputs": [
    {
     "data": {
      "text/plain": [
       "OneClassSVM()"
      ]
     },
     "execution_count": 23,
     "metadata": {},
     "output_type": "execute_result"
    }
   ],
   "source": [
    "model.fit(X_train)"
   ]
  },
  {
   "cell_type": "markdown",
   "id": "f99999f7",
   "metadata": {
    "papermill": {
     "duration": 0.038935,
     "end_time": "2021-04-04T23:23:54.011382",
     "exception": false,
     "start_time": "2021-04-04T23:23:53.972447",
     "status": "completed"
    },
    "tags": []
   },
   "source": [
    "# Predict"
   ]
  },
  {
   "cell_type": "code",
   "execution_count": 24,
   "id": "6536fbf7",
   "metadata": {
    "execution": {
     "iopub.execute_input": "2021-04-04T23:23:54.086167Z",
     "iopub.status.busy": "2021-04-04T23:23:54.085120Z",
     "iopub.status.idle": "2021-04-04T23:23:54.094480Z",
     "shell.execute_reply": "2021-04-04T23:23:54.095989Z"
    },
    "papermill": {
     "duration": 0.054975,
     "end_time": "2021-04-04T23:23:54.096469",
     "exception": false,
     "start_time": "2021-04-04T23:23:54.041494",
     "status": "completed"
    },
    "tags": []
   },
   "outputs": [],
   "source": [
    "predictions = model.predict(X_test)"
   ]
  },
  {
   "cell_type": "markdown",
   "id": "aa1c9881",
   "metadata": {
    "papermill": {
     "duration": 0.038125,
     "end_time": "2021-04-04T23:23:54.168069",
     "exception": false,
     "start_time": "2021-04-04T23:23:54.129944",
     "status": "completed"
    },
    "tags": []
   },
   "source": [
    "# Evaluate"
   ]
  },
  {
   "cell_type": "code",
   "execution_count": 25,
   "id": "894f0f04",
   "metadata": {
    "execution": {
     "iopub.execute_input": "2021-04-04T23:23:54.240846Z",
     "iopub.status.busy": "2021-04-04T23:23:54.238670Z",
     "iopub.status.idle": "2021-04-04T23:23:54.243627Z",
     "shell.execute_reply": "2021-04-04T23:23:54.244736Z"
    },
    "papermill": {
     "duration": 0.044464,
     "end_time": "2021-04-04T23:23:54.245029",
     "exception": false,
     "start_time": "2021-04-04T23:23:54.200565",
     "status": "completed"
    },
    "tags": []
   },
   "outputs": [],
   "source": [
    "from sklearn.metrics import f1_score"
   ]
  },
  {
   "cell_type": "code",
   "execution_count": 26,
   "id": "211744d3",
   "metadata": {
    "execution": {
     "iopub.execute_input": "2021-04-04T23:23:54.316662Z",
     "iopub.status.busy": "2021-04-04T23:23:54.315327Z",
     "iopub.status.idle": "2021-04-04T23:23:54.318718Z",
     "shell.execute_reply": "2021-04-04T23:23:54.320308Z"
    },
    "papermill": {
     "duration": 0.041919,
     "end_time": "2021-04-04T23:23:54.320691",
     "exception": false,
     "start_time": "2021-04-04T23:23:54.278772",
     "status": "completed"
    },
    "tags": []
   },
   "outputs": [],
   "source": [
    "y_test = y_test.replace([0, 1], [1, -1])"
   ]
  },
  {
   "cell_type": "code",
   "execution_count": 27,
   "id": "d68a9204",
   "metadata": {
    "execution": {
     "iopub.execute_input": "2021-04-04T23:23:54.395637Z",
     "iopub.status.busy": "2021-04-04T23:23:54.394272Z",
     "iopub.status.idle": "2021-04-04T23:23:54.399487Z",
     "shell.execute_reply": "2021-04-04T23:23:54.400050Z"
    },
    "papermill": {
     "duration": 0.04551,
     "end_time": "2021-04-04T23:23:54.400213",
     "exception": false,
     "start_time": "2021-04-04T23:23:54.354703",
     "status": "completed"
    },
    "tags": []
   },
   "outputs": [],
   "source": [
    "def evaluate(truths, predictions, pos_label, neg_label):\n",
    "    TP = 0\n",
    "    FP = 0\n",
    "    TN = 0\n",
    "    FN = 0\n",
    "\n",
    "    for truth, pred in zip(truths, predictions): \n",
    "        if truth == pred == pos_label:\n",
    "           TP += 1\n",
    "        elif pred == pos_label and truth == neg_label:\n",
    "           FP += 1\n",
    "        elif truth == pred == neg_label:\n",
    "           TN += 1\n",
    "        elif pred == neg_label and truth == pos_label:\n",
    "           FN += 1\n",
    "\n",
    "    precision = TP / (TP + FP)\n",
    "    sensitivity = TP / (TP + FN)\n",
    "    \n",
    "    return {\n",
    "        'true_pos': TP,\n",
    "        'false_pos': FP,\n",
    "        'false_neg': FN,\n",
    "        'true_neg': TN,\n",
    "        'precision': precision,\n",
    "        'sensitivity': sensitivity,\n",
    "        'f1': (2 * (precision * sensitivity)) / (precision + sensitivity)\n",
    "    }\n",
    "\n",
    "score = evaluate(y_test, predictions, pos_label=-1, neg_label=1)"
   ]
  },
  {
   "cell_type": "markdown",
   "id": "93596516",
   "metadata": {
    "papermill": {
     "duration": 0.026907,
     "end_time": "2021-04-04T23:23:54.452878",
     "exception": false,
     "start_time": "2021-04-04T23:23:54.425971",
     "status": "completed"
    },
    "tags": []
   },
   "source": [
    "# Report"
   ]
  },
  {
   "cell_type": "code",
   "execution_count": 28,
   "id": "bea5fba1",
   "metadata": {
    "execution": {
     "iopub.execute_input": "2021-04-04T23:23:54.507867Z",
     "iopub.status.busy": "2021-04-04T23:23:54.507264Z",
     "iopub.status.idle": "2021-04-04T23:23:54.509534Z",
     "shell.execute_reply": "2021-04-04T23:23:54.510009Z"
    },
    "papermill": {
     "duration": 0.033266,
     "end_time": "2021-04-04T23:23:54.510154",
     "exception": false,
     "start_time": "2021-04-04T23:23:54.476888",
     "status": "completed"
    },
    "tags": []
   },
   "outputs": [],
   "source": [
    "import csv\n",
    "\n",
    "\n",
    "dataset_config_name = DATASET_CONFIG_PATH.split('/')[-1].split('.')[0]\n",
    "model_config_name = MODEL_CONFIG_PATH.split('/')[-1].split('.')[0]\n",
    "configuration = f\"dataset_{dataset_config_name}-model_{model_config_name}\"\n",
    "\n",
    "with open('results.csv', 'a') as f:\n",
    "    report = dict({'configuration': configuration}, **score)\n",
    "    writer = csv.DictWriter(f, report.keys())\n",
    "    writer.writerow(report)"
   ]
  }
 ],
 "metadata": {
  "celltoolbar": "Tags",
  "kernelspec": {
   "display_name": "Python 3",
   "language": "python",
   "name": "python3"
  },
  "language_info": {
   "codemirror_mode": {
    "name": "ipython",
    "version": 3
   },
   "file_extension": ".py",
   "mimetype": "text/x-python",
   "name": "python",
   "nbconvert_exporter": "python",
   "pygments_lexer": "ipython3",
   "version": "3.9.1"
  },
  "papermill": {
   "default_parameters": {},
   "duration": 5.926842,
   "end_time": "2021-04-04T23:23:55.246484",
   "environment_variables": {},
   "exception": null,
   "input_path": "main.ipynb",
   "output_path": "runs/dataset_000127-model_000004.ipynb",
   "parameters": {
    "DATASET_CONFIG_PATH": "config/dataset/000127.json",
    "MODEL_CONFIG_PATH": "config/model/000004.json",
    "PROFILE_REPORTING": false
   },
   "start_time": "2021-04-04T23:23:49.319642",
   "version": "2.3.3"
  }
 },
 "nbformat": 4,
 "nbformat_minor": 5
}