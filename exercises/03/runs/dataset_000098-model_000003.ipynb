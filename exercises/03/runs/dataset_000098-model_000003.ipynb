{
 "cells": [
  {
   "cell_type": "markdown",
   "id": "51c71c25",
   "metadata": {
    "papermill": {
     "duration": 0.022087,
     "end_time": "2021-04-04T23:12:08.003183",
     "exception": false,
     "start_time": "2021-04-04T23:12:07.981096",
     "status": "completed"
    },
    "tags": []
   },
   "source": [
    "# Parametrizing"
   ]
  },
  {
   "cell_type": "code",
   "execution_count": 1,
   "id": "3b136394",
   "metadata": {
    "execution": {
     "iopub.execute_input": "2021-04-04T23:12:08.054292Z",
     "iopub.status.busy": "2021-04-04T23:12:08.053543Z",
     "iopub.status.idle": "2021-04-04T23:12:08.055879Z",
     "shell.execute_reply": "2021-04-04T23:12:08.056489Z"
    },
    "papermill": {
     "duration": 0.034052,
     "end_time": "2021-04-04T23:12:08.056742",
     "exception": false,
     "start_time": "2021-04-04T23:12:08.022690",
     "status": "completed"
    },
    "tags": [
     "parameters"
    ]
   },
   "outputs": [],
   "source": [
    "DATASET_CONFIG_PATH = 'config/dataset/kc1_001.json'\n",
    "MODEL_CONFIG_PATH = 'config/model/knndd_001.json'\n",
    "PROFILE_REPORTING = False"
   ]
  },
  {
   "cell_type": "code",
   "execution_count": 2,
   "id": "8aabe1c5",
   "metadata": {
    "execution": {
     "iopub.execute_input": "2021-04-04T23:12:08.104930Z",
     "iopub.status.busy": "2021-04-04T23:12:08.103936Z",
     "iopub.status.idle": "2021-04-04T23:12:08.106474Z",
     "shell.execute_reply": "2021-04-04T23:12:08.105956Z"
    },
    "papermill": {
     "duration": 0.026472,
     "end_time": "2021-04-04T23:12:08.106594",
     "exception": false,
     "start_time": "2021-04-04T23:12:08.080122",
     "status": "completed"
    },
    "tags": [
     "injected-parameters"
    ]
   },
   "outputs": [],
   "source": [
    "# Parameters\n",
    "DATASET_CONFIG_PATH = \"config/dataset/000098.json\"\n",
    "MODEL_CONFIG_PATH = \"config/model/000003.json\"\n",
    "PROFILE_REPORTING = False\n"
   ]
  },
  {
   "cell_type": "code",
   "execution_count": 3,
   "id": "b80f2a10",
   "metadata": {
    "execution": {
     "iopub.execute_input": "2021-04-04T23:12:08.153915Z",
     "iopub.status.busy": "2021-04-04T23:12:08.152760Z",
     "iopub.status.idle": "2021-04-04T23:12:08.156211Z",
     "shell.execute_reply": "2021-04-04T23:12:08.157042Z"
    },
    "papermill": {
     "duration": 0.029414,
     "end_time": "2021-04-04T23:12:08.157294",
     "exception": false,
     "start_time": "2021-04-04T23:12:08.127880",
     "status": "completed"
    },
    "tags": []
   },
   "outputs": [],
   "source": [
    "import json\n",
    "\n",
    "\n",
    "with open(DATASET_CONFIG_PATH) as f:\n",
    "    dataset_config = json.load(f)\n",
    "\n",
    "with open(MODEL_CONFIG_PATH) as f:\n",
    "    model_config = json.load(f)"
   ]
  },
  {
   "cell_type": "markdown",
   "id": "9a4b0e2d",
   "metadata": {
    "papermill": {
     "duration": 0.019845,
     "end_time": "2021-04-04T23:12:08.206046",
     "exception": false,
     "start_time": "2021-04-04T23:12:08.186201",
     "status": "completed"
    },
    "tags": []
   },
   "source": [
    "# Profiling"
   ]
  },
  {
   "cell_type": "code",
   "execution_count": 4,
   "id": "a3e0289b",
   "metadata": {
    "execution": {
     "iopub.execute_input": "2021-04-04T23:12:08.250221Z",
     "iopub.status.busy": "2021-04-04T23:12:08.249312Z",
     "iopub.status.idle": "2021-04-04T23:12:09.517831Z",
     "shell.execute_reply": "2021-04-04T23:12:09.516857Z"
    },
    "papermill": {
     "duration": 1.292358,
     "end_time": "2021-04-04T23:12:09.518016",
     "exception": false,
     "start_time": "2021-04-04T23:12:08.225658",
     "status": "completed"
    },
    "tags": []
   },
   "outputs": [],
   "source": [
    "import pandas as pd\n",
    "from pandas_profiling import ProfileReport"
   ]
  },
  {
   "cell_type": "code",
   "execution_count": 5,
   "id": "ee6c0666",
   "metadata": {
    "execution": {
     "iopub.execute_input": "2021-04-04T23:12:09.568658Z",
     "iopub.status.busy": "2021-04-04T23:12:09.566486Z",
     "iopub.status.idle": "2021-04-04T23:12:09.579168Z",
     "shell.execute_reply": "2021-04-04T23:12:09.580075Z"
    },
    "papermill": {
     "duration": 0.038816,
     "end_time": "2021-04-04T23:12:09.580298",
     "exception": false,
     "start_time": "2021-04-04T23:12:09.541482",
     "status": "completed"
    },
    "tags": []
   },
   "outputs": [],
   "source": [
    "df = pd.read_csv(dataset_config['dataset_path'])"
   ]
  },
  {
   "cell_type": "code",
   "execution_count": 6,
   "id": "7eca6c4a",
   "metadata": {
    "execution": {
     "iopub.execute_input": "2021-04-04T23:12:09.647354Z",
     "iopub.status.busy": "2021-04-04T23:12:09.640345Z",
     "iopub.status.idle": "2021-04-04T23:12:09.650903Z",
     "shell.execute_reply": "2021-04-04T23:12:09.651668Z"
    },
    "papermill": {
     "duration": 0.04229,
     "end_time": "2021-04-04T23:12:09.651886",
     "exception": false,
     "start_time": "2021-04-04T23:12:09.609596",
     "status": "completed"
    },
    "tags": []
   },
   "outputs": [
    {
     "name": "stdout",
     "output_type": "stream",
     "text": [
      "<class 'pandas.core.frame.DataFrame'>\n",
      "RangeIndex: 498 entries, 0 to 497\n",
      "Data columns (total 23 columns):\n",
      " #   Column             Non-Null Count  Dtype  \n",
      "---  ------             --------------  -----  \n",
      " 0   id                 498 non-null    int64  \n",
      " 1   loc                498 non-null    float64\n",
      " 2   v(g)               498 non-null    float64\n",
      " 3   ev(g)              498 non-null    float64\n",
      " 4   iv(g)              498 non-null    float64\n",
      " 5   n                  498 non-null    float64\n",
      " 6   v                  498 non-null    float64\n",
      " 7   l                  498 non-null    float64\n",
      " 8   d                  498 non-null    float64\n",
      " 9   i                  498 non-null    float64\n",
      " 10  e                  498 non-null    float64\n",
      " 11  b                  498 non-null    float64\n",
      " 12  t                  498 non-null    float64\n",
      " 13  lOCode             498 non-null    int64  \n",
      " 14  lOComment          498 non-null    int64  \n",
      " 15  lOBlank            498 non-null    int64  \n",
      " 16  locCodeAndComment  498 non-null    int64  \n",
      " 17  uniq_Op            498 non-null    float64\n",
      " 18  uniq_Opnd          498 non-null    float64\n",
      " 19  total_Op           498 non-null    float64\n",
      " 20  total_Opnd         498 non-null    float64\n",
      " 21  branchCount        498 non-null    float64\n",
      " 22  defects            498 non-null    bool   \n",
      "dtypes: bool(1), float64(17), int64(5)\n",
      "memory usage: 86.2 KB\n"
     ]
    }
   ],
   "source": [
    "df.info()"
   ]
  },
  {
   "cell_type": "code",
   "execution_count": 7,
   "id": "3638e5e8",
   "metadata": {
    "execution": {
     "iopub.execute_input": "2021-04-04T23:12:09.711147Z",
     "iopub.status.busy": "2021-04-04T23:12:09.710134Z",
     "iopub.status.idle": "2021-04-04T23:12:09.739370Z",
     "shell.execute_reply": "2021-04-04T23:12:09.738392Z"
    },
    "papermill": {
     "duration": 0.059797,
     "end_time": "2021-04-04T23:12:09.739583",
     "exception": false,
     "start_time": "2021-04-04T23:12:09.679786",
     "status": "completed"
    },
    "tags": []
   },
   "outputs": [
    {
     "data": {
      "text/html": [
       "<div>\n",
       "<style scoped>\n",
       "    .dataframe tbody tr th:only-of-type {\n",
       "        vertical-align: middle;\n",
       "    }\n",
       "\n",
       "    .dataframe tbody tr th {\n",
       "        vertical-align: top;\n",
       "    }\n",
       "\n",
       "    .dataframe thead th {\n",
       "        text-align: right;\n",
       "    }\n",
       "</style>\n",
       "<table border=\"1\" class=\"dataframe\">\n",
       "  <thead>\n",
       "    <tr style=\"text-align: right;\">\n",
       "      <th></th>\n",
       "      <th>id</th>\n",
       "      <th>loc</th>\n",
       "      <th>v(g)</th>\n",
       "      <th>ev(g)</th>\n",
       "      <th>iv(g)</th>\n",
       "      <th>n</th>\n",
       "      <th>v</th>\n",
       "      <th>l</th>\n",
       "      <th>d</th>\n",
       "      <th>i</th>\n",
       "      <th>...</th>\n",
       "      <th>lOCode</th>\n",
       "      <th>lOComment</th>\n",
       "      <th>lOBlank</th>\n",
       "      <th>locCodeAndComment</th>\n",
       "      <th>uniq_Op</th>\n",
       "      <th>uniq_Opnd</th>\n",
       "      <th>total_Op</th>\n",
       "      <th>total_Opnd</th>\n",
       "      <th>branchCount</th>\n",
       "      <th>defects</th>\n",
       "    </tr>\n",
       "  </thead>\n",
       "  <tbody>\n",
       "    <tr>\n",
       "      <th>0</th>\n",
       "      <td>1</td>\n",
       "      <td>1.1</td>\n",
       "      <td>1.4</td>\n",
       "      <td>1.4</td>\n",
       "      <td>1.4</td>\n",
       "      <td>1.3</td>\n",
       "      <td>1.30</td>\n",
       "      <td>1.30</td>\n",
       "      <td>1.30</td>\n",
       "      <td>1.30</td>\n",
       "      <td>...</td>\n",
       "      <td>2</td>\n",
       "      <td>2</td>\n",
       "      <td>2</td>\n",
       "      <td>2</td>\n",
       "      <td>1.2</td>\n",
       "      <td>1.2</td>\n",
       "      <td>1.2</td>\n",
       "      <td>1.2</td>\n",
       "      <td>1.4</td>\n",
       "      <td>False</td>\n",
       "    </tr>\n",
       "    <tr>\n",
       "      <th>1</th>\n",
       "      <td>2</td>\n",
       "      <td>1.0</td>\n",
       "      <td>1.0</td>\n",
       "      <td>1.0</td>\n",
       "      <td>1.0</td>\n",
       "      <td>1.0</td>\n",
       "      <td>1.00</td>\n",
       "      <td>1.00</td>\n",
       "      <td>1.00</td>\n",
       "      <td>1.00</td>\n",
       "      <td>...</td>\n",
       "      <td>1</td>\n",
       "      <td>1</td>\n",
       "      <td>1</td>\n",
       "      <td>1</td>\n",
       "      <td>1.0</td>\n",
       "      <td>1.0</td>\n",
       "      <td>1.0</td>\n",
       "      <td>1.0</td>\n",
       "      <td>1.0</td>\n",
       "      <td>True</td>\n",
       "    </tr>\n",
       "    <tr>\n",
       "      <th>2</th>\n",
       "      <td>3</td>\n",
       "      <td>24.0</td>\n",
       "      <td>5.0</td>\n",
       "      <td>1.0</td>\n",
       "      <td>3.0</td>\n",
       "      <td>63.0</td>\n",
       "      <td>309.13</td>\n",
       "      <td>0.11</td>\n",
       "      <td>9.50</td>\n",
       "      <td>32.54</td>\n",
       "      <td>...</td>\n",
       "      <td>1</td>\n",
       "      <td>0</td>\n",
       "      <td>6</td>\n",
       "      <td>0</td>\n",
       "      <td>15.0</td>\n",
       "      <td>15.0</td>\n",
       "      <td>44.0</td>\n",
       "      <td>19.0</td>\n",
       "      <td>9.0</td>\n",
       "      <td>False</td>\n",
       "    </tr>\n",
       "    <tr>\n",
       "      <th>3</th>\n",
       "      <td>4</td>\n",
       "      <td>20.0</td>\n",
       "      <td>4.0</td>\n",
       "      <td>4.0</td>\n",
       "      <td>2.0</td>\n",
       "      <td>47.0</td>\n",
       "      <td>215.49</td>\n",
       "      <td>0.06</td>\n",
       "      <td>16.00</td>\n",
       "      <td>13.47</td>\n",
       "      <td>...</td>\n",
       "      <td>0</td>\n",
       "      <td>0</td>\n",
       "      <td>3</td>\n",
       "      <td>0</td>\n",
       "      <td>16.0</td>\n",
       "      <td>8.0</td>\n",
       "      <td>31.0</td>\n",
       "      <td>16.0</td>\n",
       "      <td>7.0</td>\n",
       "      <td>False</td>\n",
       "    </tr>\n",
       "    <tr>\n",
       "      <th>4</th>\n",
       "      <td>5</td>\n",
       "      <td>24.0</td>\n",
       "      <td>6.0</td>\n",
       "      <td>6.0</td>\n",
       "      <td>2.0</td>\n",
       "      <td>72.0</td>\n",
       "      <td>346.13</td>\n",
       "      <td>0.06</td>\n",
       "      <td>17.33</td>\n",
       "      <td>19.97</td>\n",
       "      <td>...</td>\n",
       "      <td>0</td>\n",
       "      <td>0</td>\n",
       "      <td>3</td>\n",
       "      <td>0</td>\n",
       "      <td>16.0</td>\n",
       "      <td>12.0</td>\n",
       "      <td>46.0</td>\n",
       "      <td>26.0</td>\n",
       "      <td>11.0</td>\n",
       "      <td>False</td>\n",
       "    </tr>\n",
       "  </tbody>\n",
       "</table>\n",
       "<p>5 rows × 23 columns</p>\n",
       "</div>"
      ],
      "text/plain": [
       "   id   loc  v(g)  ev(g)  iv(g)     n       v     l      d      i  ...  \\\n",
       "0   1   1.1   1.4    1.4    1.4   1.3    1.30  1.30   1.30   1.30  ...   \n",
       "1   2   1.0   1.0    1.0    1.0   1.0    1.00  1.00   1.00   1.00  ...   \n",
       "2   3  24.0   5.0    1.0    3.0  63.0  309.13  0.11   9.50  32.54  ...   \n",
       "3   4  20.0   4.0    4.0    2.0  47.0  215.49  0.06  16.00  13.47  ...   \n",
       "4   5  24.0   6.0    6.0    2.0  72.0  346.13  0.06  17.33  19.97  ...   \n",
       "\n",
       "   lOCode  lOComment  lOBlank  locCodeAndComment  uniq_Op  uniq_Opnd  \\\n",
       "0       2          2        2                  2      1.2        1.2   \n",
       "1       1          1        1                  1      1.0        1.0   \n",
       "2       1          0        6                  0     15.0       15.0   \n",
       "3       0          0        3                  0     16.0        8.0   \n",
       "4       0          0        3                  0     16.0       12.0   \n",
       "\n",
       "   total_Op  total_Opnd  branchCount  defects  \n",
       "0       1.2         1.2          1.4    False  \n",
       "1       1.0         1.0          1.0     True  \n",
       "2      44.0        19.0          9.0    False  \n",
       "3      31.0        16.0          7.0    False  \n",
       "4      46.0        26.0         11.0    False  \n",
       "\n",
       "[5 rows x 23 columns]"
      ]
     },
     "execution_count": 7,
     "metadata": {},
     "output_type": "execute_result"
    }
   ],
   "source": [
    "df.head()"
   ]
  },
  {
   "cell_type": "code",
   "execution_count": 8,
   "id": "733e95eb",
   "metadata": {
    "execution": {
     "iopub.execute_input": "2021-04-04T23:12:09.795247Z",
     "iopub.status.busy": "2021-04-04T23:12:09.794532Z",
     "iopub.status.idle": "2021-04-04T23:12:09.797249Z",
     "shell.execute_reply": "2021-04-04T23:12:09.798111Z"
    },
    "papermill": {
     "duration": 0.029839,
     "end_time": "2021-04-04T23:12:09.798347",
     "exception": false,
     "start_time": "2021-04-04T23:12:09.768508",
     "status": "completed"
    },
    "tags": []
   },
   "outputs": [],
   "source": [
    "del df['id']"
   ]
  },
  {
   "cell_type": "code",
   "execution_count": 9,
   "id": "6ff6f5b0",
   "metadata": {
    "execution": {
     "iopub.execute_input": "2021-04-04T23:12:09.852017Z",
     "iopub.status.busy": "2021-04-04T23:12:09.851044Z",
     "iopub.status.idle": "2021-04-04T23:12:09.853329Z",
     "shell.execute_reply": "2021-04-04T23:12:09.854081Z"
    },
    "papermill": {
     "duration": 0.028796,
     "end_time": "2021-04-04T23:12:09.854287",
     "exception": false,
     "start_time": "2021-04-04T23:12:09.825491",
     "status": "completed"
    },
    "tags": []
   },
   "outputs": [],
   "source": [
    "if PROFILE_REPORTING:\n",
    "    ProfileReport(df).to_widgets()"
   ]
  },
  {
   "cell_type": "markdown",
   "id": "1deaf3f0",
   "metadata": {
    "papermill": {
     "duration": 0.021068,
     "end_time": "2021-04-04T23:12:09.901573",
     "exception": false,
     "start_time": "2021-04-04T23:12:09.880505",
     "status": "completed"
    },
    "tags": []
   },
   "source": [
    "# Preprocess"
   ]
  },
  {
   "cell_type": "code",
   "execution_count": 10,
   "id": "1513e563",
   "metadata": {
    "execution": {
     "iopub.execute_input": "2021-04-04T23:12:09.950561Z",
     "iopub.status.busy": "2021-04-04T23:12:09.949388Z",
     "iopub.status.idle": "2021-04-04T23:12:09.952220Z",
     "shell.execute_reply": "2021-04-04T23:12:09.951692Z"
    },
    "papermill": {
     "duration": 0.029643,
     "end_time": "2021-04-04T23:12:09.952342",
     "exception": false,
     "start_time": "2021-04-04T23:12:09.922699",
     "status": "completed"
    },
    "tags": []
   },
   "outputs": [],
   "source": [
    "working_df = df.copy()"
   ]
  },
  {
   "cell_type": "code",
   "execution_count": 11,
   "id": "3b26d675",
   "metadata": {
    "execution": {
     "iopub.execute_input": "2021-04-04T23:12:10.004716Z",
     "iopub.status.busy": "2021-04-04T23:12:10.003951Z",
     "iopub.status.idle": "2021-04-04T23:12:10.006625Z",
     "shell.execute_reply": "2021-04-04T23:12:10.005921Z"
    },
    "papermill": {
     "duration": 0.030741,
     "end_time": "2021-04-04T23:12:10.006836",
     "exception": false,
     "start_time": "2021-04-04T23:12:09.976095",
     "status": "completed"
    },
    "tags": []
   },
   "outputs": [],
   "source": [
    "working_df['defects'] = working_df['defects'].replace([False, True], [0, 1])"
   ]
  },
  {
   "cell_type": "code",
   "execution_count": 12,
   "id": "eb48604f",
   "metadata": {
    "execution": {
     "iopub.execute_input": "2021-04-04T23:12:10.064683Z",
     "iopub.status.busy": "2021-04-04T23:12:10.063571Z",
     "iopub.status.idle": "2021-04-04T23:12:10.067249Z",
     "shell.execute_reply": "2021-04-04T23:12:10.066232Z"
    },
    "papermill": {
     "duration": 0.030226,
     "end_time": "2021-04-04T23:12:10.067464",
     "exception": false,
     "start_time": "2021-04-04T23:12:10.037238",
     "status": "completed"
    },
    "tags": []
   },
   "outputs": [],
   "source": [
    "for col in dataset_config['delete_columns']:\n",
    "    del working_df[col]"
   ]
  },
  {
   "cell_type": "code",
   "execution_count": 13,
   "id": "9a17bc29",
   "metadata": {
    "execution": {
     "iopub.execute_input": "2021-04-04T23:12:10.123364Z",
     "iopub.status.busy": "2021-04-04T23:12:10.122686Z",
     "iopub.status.idle": "2021-04-04T23:12:10.132004Z",
     "shell.execute_reply": "2021-04-04T23:12:10.132544Z"
    },
    "papermill": {
     "duration": 0.038531,
     "end_time": "2021-04-04T23:12:10.132704",
     "exception": false,
     "start_time": "2021-04-04T23:12:10.094173",
     "status": "completed"
    },
    "tags": []
   },
   "outputs": [],
   "source": [
    "working_df = working_df.drop_duplicates()"
   ]
  },
  {
   "cell_type": "markdown",
   "id": "a4d52ca6",
   "metadata": {
    "papermill": {
     "duration": 0.021358,
     "end_time": "2021-04-04T23:12:10.176297",
     "exception": false,
     "start_time": "2021-04-04T23:12:10.154939",
     "status": "completed"
    },
    "tags": []
   },
   "source": [
    "# Split"
   ]
  },
  {
   "cell_type": "code",
   "execution_count": 14,
   "id": "3e9ee4b5",
   "metadata": {
    "execution": {
     "iopub.execute_input": "2021-04-04T23:12:10.224828Z",
     "iopub.status.busy": "2021-04-04T23:12:10.223913Z",
     "iopub.status.idle": "2021-04-04T23:12:10.257710Z",
     "shell.execute_reply": "2021-04-04T23:12:10.258430Z"
    },
    "papermill": {
     "duration": 0.060571,
     "end_time": "2021-04-04T23:12:10.258630",
     "exception": false,
     "start_time": "2021-04-04T23:12:10.198059",
     "status": "completed"
    },
    "tags": []
   },
   "outputs": [],
   "source": [
    "from sklearn.model_selection import train_test_split"
   ]
  },
  {
   "cell_type": "code",
   "execution_count": 15,
   "id": "274004ce",
   "metadata": {
    "execution": {
     "iopub.execute_input": "2021-04-04T23:12:10.317187Z",
     "iopub.status.busy": "2021-04-04T23:12:10.316252Z",
     "iopub.status.idle": "2021-04-04T23:12:10.322056Z",
     "shell.execute_reply": "2021-04-04T23:12:10.322943Z"
    },
    "papermill": {
     "duration": 0.034024,
     "end_time": "2021-04-04T23:12:10.323190",
     "exception": false,
     "start_time": "2021-04-04T23:12:10.289166",
     "status": "completed"
    },
    "scrolled": true,
    "tags": []
   },
   "outputs": [],
   "source": [
    "inlier, outlier = working_df[working_df['defects'] == 0], working_df[working_df['defects'] == 1]"
   ]
  },
  {
   "cell_type": "code",
   "execution_count": 16,
   "id": "753c7b03",
   "metadata": {
    "execution": {
     "iopub.execute_input": "2021-04-04T23:12:10.382098Z",
     "iopub.status.busy": "2021-04-04T23:12:10.381462Z",
     "iopub.status.idle": "2021-04-04T23:12:10.385919Z",
     "shell.execute_reply": "2021-04-04T23:12:10.386424Z"
    },
    "papermill": {
     "duration": 0.032777,
     "end_time": "2021-04-04T23:12:10.386571",
     "exception": false,
     "start_time": "2021-04-04T23:12:10.353794",
     "status": "completed"
    },
    "tags": []
   },
   "outputs": [],
   "source": [
    "X_inlier = inlier.copy()\n",
    "y_inlier = X_inlier.pop('defects')\n",
    "X_outlier = outlier.copy()\n",
    "y_outlier = X_outlier.pop('defects')"
   ]
  },
  {
   "cell_type": "code",
   "execution_count": 17,
   "id": "2ba43193",
   "metadata": {
    "execution": {
     "iopub.execute_input": "2021-04-04T23:12:10.446913Z",
     "iopub.status.busy": "2021-04-04T23:12:10.446162Z",
     "iopub.status.idle": "2021-04-04T23:12:10.449335Z",
     "shell.execute_reply": "2021-04-04T23:12:10.449936Z"
    },
    "papermill": {
     "duration": 0.033937,
     "end_time": "2021-04-04T23:12:10.450123",
     "exception": false,
     "start_time": "2021-04-04T23:12:10.416186",
     "status": "completed"
    },
    "tags": []
   },
   "outputs": [],
   "source": [
    "test_size = dataset_config['test_size']\n",
    "random_state = dataset_config['random_state']\n",
    "\n",
    "X_inlier_train, X_inlier_test, y_inlier_train, y_inlier_test = train_test_split(\n",
    "    X_inlier,\n",
    "    y_inlier,\n",
    "    test_size=test_size,\n",
    "    random_state=random_state\n",
    ")"
   ]
  },
  {
   "cell_type": "code",
   "execution_count": 18,
   "id": "0b7582ca",
   "metadata": {
    "execution": {
     "iopub.execute_input": "2021-04-04T23:12:10.506831Z",
     "iopub.status.busy": "2021-04-04T23:12:10.505850Z",
     "iopub.status.idle": "2021-04-04T23:12:10.508957Z",
     "shell.execute_reply": "2021-04-04T23:12:10.509836Z"
    },
    "papermill": {
     "duration": 0.035869,
     "end_time": "2021-04-04T23:12:10.510085",
     "exception": false,
     "start_time": "2021-04-04T23:12:10.474216",
     "status": "completed"
    },
    "tags": []
   },
   "outputs": [],
   "source": [
    "test_outlier_size = dataset_config['test_outlier_size']\n",
    "if test_outlier_size > 0.0:\n",
    "    X_outlier_train, X_outlier_test, y_outlier_train, y_outlier_test = train_test_split(\n",
    "        X_outlier,\n",
    "        y_outlier,\n",
    "        test_size=test_outlier_size,\n",
    "        random_state=random_state\n",
    "    )\n",
    "else:\n",
    "    X_outlier_train, y_outlier_train = pd.DataFrame(columns=X_outlier.columns), pd.Series(dtype='int64')\n",
    "    X_outlier_test, y_outlier_test = X_outlier.copy(), y_outlier.copy()"
   ]
  },
  {
   "cell_type": "code",
   "execution_count": 19,
   "id": "c34363db",
   "metadata": {
    "execution": {
     "iopub.execute_input": "2021-04-04T23:12:10.571749Z",
     "iopub.status.busy": "2021-04-04T23:12:10.569234Z",
     "iopub.status.idle": "2021-04-04T23:12:10.576197Z",
     "shell.execute_reply": "2021-04-04T23:12:10.576983Z"
    },
    "papermill": {
     "duration": 0.036585,
     "end_time": "2021-04-04T23:12:10.577200",
     "exception": false,
     "start_time": "2021-04-04T23:12:10.540615",
     "status": "completed"
    },
    "tags": []
   },
   "outputs": [],
   "source": [
    "X_train, y_train = pd.concat([X_inlier_train, X_outlier_train], ignore_index=True), pd.concat([y_inlier_train, y_outlier_train], ignore_index=True)\n",
    "X_test, y_test = pd.concat([X_inlier_test, X_outlier_test], ignore_index=True), pd.concat([y_inlier_test, y_outlier_test], ignore_index=True)"
   ]
  },
  {
   "cell_type": "markdown",
   "id": "7cde7309",
   "metadata": {
    "papermill": {
     "duration": 0.022162,
     "end_time": "2021-04-04T23:12:10.629678",
     "exception": false,
     "start_time": "2021-04-04T23:12:10.607516",
     "status": "completed"
    },
    "tags": []
   },
   "source": [
    "# Model"
   ]
  },
  {
   "cell_type": "code",
   "execution_count": 20,
   "id": "2b12a415",
   "metadata": {
    "execution": {
     "iopub.execute_input": "2021-04-04T23:12:10.689648Z",
     "iopub.status.busy": "2021-04-04T23:12:10.688717Z",
     "iopub.status.idle": "2021-04-04T23:12:10.692311Z",
     "shell.execute_reply": "2021-04-04T23:12:10.693269Z"
    },
    "papermill": {
     "duration": 0.041645,
     "end_time": "2021-04-04T23:12:10.693584",
     "exception": false,
     "start_time": "2021-04-04T23:12:10.651939",
     "status": "completed"
    },
    "tags": []
   },
   "outputs": [],
   "source": [
    "from math import sqrt\n",
    "\n",
    "\n",
    "class KNNDataDescription:\n",
    "    def __init__(self, k=5, outlier_threshold=1.0):\n",
    "        self.k = k\n",
    "        self.outlier_threshold = outlier_threshold\n",
    "        self.X = []\n",
    "    \n",
    "    def fit(self, X):\n",
    "        self.X = [features.to_list() for index, features in X.iterrows()]\n",
    "\n",
    "    def predict(self, entries):\n",
    "        return [self.predict_entry(features.to_list()) for index, features in entries.iterrows()]\n",
    "    \n",
    "    def predict_entry(self, entry):\n",
    "        kth_neighbor, kth_distance = self.get_kth_neighbor(entry, self.k)\n",
    "        kth_kth_neighbor, kth_kth_distance = self.get_kth_neighbor(kth_neighbor, self.k + 1)\n",
    "\n",
    "        outlier_score = kth_distance / (kth_kth_distance + 0.000001)\n",
    "\n",
    "        return 1 if outlier_score < self.outlier_threshold else -1\n",
    "        \n",
    "    def euclidean_distance(self, features1, features2):\n",
    "        distance = 0.0\n",
    "        for feat1, feat2 in zip(features1, features2):\n",
    "            distance += (feat1 - feat2)**2\n",
    "                \n",
    "        return sqrt(distance)\n",
    "\n",
    "    def get_neighbors(self, entry, k):\n",
    "        distance_to_data_points = [\n",
    "            (data_point, self.euclidean_distance(entry, data_point))\n",
    "            for data_point in self.X\n",
    "        ]\n",
    "        sorted_by_distance = sorted(distance_to_data_points, key=lambda tup: tup[1])\n",
    "        neighbors = sorted_by_distance[:k]\n",
    "        return neighbors\n",
    "\n",
    "    def get_kth_neighbor(self, entry, k):\n",
    "        neighbors = self.get_neighbors(entry, k)\n",
    "        return neighbors[-1]\n"
   ]
  },
  {
   "cell_type": "code",
   "execution_count": 21,
   "id": "1fa9ec1c",
   "metadata": {
    "execution": {
     "iopub.execute_input": "2021-04-04T23:12:10.752699Z",
     "iopub.status.busy": "2021-04-04T23:12:10.751935Z",
     "iopub.status.idle": "2021-04-04T23:12:10.777333Z",
     "shell.execute_reply": "2021-04-04T23:12:10.776339Z"
    },
    "papermill": {
     "duration": 0.05747,
     "end_time": "2021-04-04T23:12:10.777533",
     "exception": false,
     "start_time": "2021-04-04T23:12:10.720063",
     "status": "completed"
    },
    "tags": []
   },
   "outputs": [],
   "source": [
    "from sklearn.svm import OneClassSVM\n",
    "\n",
    "\n",
    "models = {\n",
    "    'oneclasssvm': OneClassSVM,\n",
    "    'knndatadescription': KNNDataDescription,\n",
    "}"
   ]
  },
  {
   "cell_type": "code",
   "execution_count": 22,
   "id": "4d72a0b1",
   "metadata": {
    "execution": {
     "iopub.execute_input": "2021-04-04T23:12:10.835873Z",
     "iopub.status.busy": "2021-04-04T23:12:10.835235Z",
     "iopub.status.idle": "2021-04-04T23:12:10.837308Z",
     "shell.execute_reply": "2021-04-04T23:12:10.837796Z"
    },
    "papermill": {
     "duration": 0.028909,
     "end_time": "2021-04-04T23:12:10.837942",
     "exception": false,
     "start_time": "2021-04-04T23:12:10.809033",
     "status": "completed"
    },
    "scrolled": true,
    "tags": []
   },
   "outputs": [],
   "source": [
    "model_cls = models[model_config['model_type']]\n",
    "model = model_cls(**model_config['hyperparameters'])"
   ]
  },
  {
   "cell_type": "markdown",
   "id": "e00cff3b",
   "metadata": {
    "papermill": {
     "duration": 0.022342,
     "end_time": "2021-04-04T23:12:10.883831",
     "exception": false,
     "start_time": "2021-04-04T23:12:10.861489",
     "status": "completed"
    },
    "tags": []
   },
   "source": [
    "# Fit"
   ]
  },
  {
   "cell_type": "code",
   "execution_count": 23,
   "id": "8b2ded89",
   "metadata": {
    "execution": {
     "iopub.execute_input": "2021-04-04T23:12:10.938431Z",
     "iopub.status.busy": "2021-04-04T23:12:10.933229Z",
     "iopub.status.idle": "2021-04-04T23:12:10.954075Z",
     "shell.execute_reply": "2021-04-04T23:12:10.954624Z"
    },
    "papermill": {
     "duration": 0.04825,
     "end_time": "2021-04-04T23:12:10.954797",
     "exception": false,
     "start_time": "2021-04-04T23:12:10.906547",
     "status": "completed"
    },
    "tags": []
   },
   "outputs": [],
   "source": [
    "model.fit(X_train)"
   ]
  },
  {
   "cell_type": "markdown",
   "id": "f99999f7",
   "metadata": {
    "papermill": {
     "duration": 0.022453,
     "end_time": "2021-04-04T23:12:11.002596",
     "exception": false,
     "start_time": "2021-04-04T23:12:10.980143",
     "status": "completed"
    },
    "tags": []
   },
   "source": [
    "# Predict"
   ]
  },
  {
   "cell_type": "code",
   "execution_count": 24,
   "id": "6536fbf7",
   "metadata": {
    "execution": {
     "iopub.execute_input": "2021-04-04T23:12:11.067977Z",
     "iopub.status.busy": "2021-04-04T23:12:11.062879Z",
     "iopub.status.idle": "2021-04-04T23:12:11.399493Z",
     "shell.execute_reply": "2021-04-04T23:12:11.400583Z"
    },
    "papermill": {
     "duration": 0.375708,
     "end_time": "2021-04-04T23:12:11.400922",
     "exception": false,
     "start_time": "2021-04-04T23:12:11.025214",
     "status": "completed"
    },
    "tags": []
   },
   "outputs": [],
   "source": [
    "predictions = model.predict(X_test)"
   ]
  },
  {
   "cell_type": "markdown",
   "id": "aa1c9881",
   "metadata": {
    "papermill": {
     "duration": 0.022587,
     "end_time": "2021-04-04T23:12:11.449823",
     "exception": false,
     "start_time": "2021-04-04T23:12:11.427236",
     "status": "completed"
    },
    "tags": []
   },
   "source": [
    "# Evaluate"
   ]
  },
  {
   "cell_type": "code",
   "execution_count": 25,
   "id": "894f0f04",
   "metadata": {
    "execution": {
     "iopub.execute_input": "2021-04-04T23:12:11.500862Z",
     "iopub.status.busy": "2021-04-04T23:12:11.500003Z",
     "iopub.status.idle": "2021-04-04T23:12:11.502331Z",
     "shell.execute_reply": "2021-04-04T23:12:11.502816Z"
    },
    "papermill": {
     "duration": 0.030035,
     "end_time": "2021-04-04T23:12:11.502962",
     "exception": false,
     "start_time": "2021-04-04T23:12:11.472927",
     "status": "completed"
    },
    "tags": []
   },
   "outputs": [],
   "source": [
    "from sklearn.metrics import f1_score"
   ]
  },
  {
   "cell_type": "code",
   "execution_count": 26,
   "id": "211744d3",
   "metadata": {
    "execution": {
     "iopub.execute_input": "2021-04-04T23:12:11.559057Z",
     "iopub.status.busy": "2021-04-04T23:12:11.557956Z",
     "iopub.status.idle": "2021-04-04T23:12:11.560775Z",
     "shell.execute_reply": "2021-04-04T23:12:11.561642Z"
    },
    "papermill": {
     "duration": 0.032451,
     "end_time": "2021-04-04T23:12:11.561883",
     "exception": false,
     "start_time": "2021-04-04T23:12:11.529432",
     "status": "completed"
    },
    "tags": []
   },
   "outputs": [],
   "source": [
    "y_test = y_test.replace([0, 1], [1, -1])"
   ]
  },
  {
   "cell_type": "code",
   "execution_count": 27,
   "id": "d68a9204",
   "metadata": {
    "execution": {
     "iopub.execute_input": "2021-04-04T23:12:11.620128Z",
     "iopub.status.busy": "2021-04-04T23:12:11.619365Z",
     "iopub.status.idle": "2021-04-04T23:12:11.622285Z",
     "shell.execute_reply": "2021-04-04T23:12:11.623124Z"
    },
    "papermill": {
     "duration": 0.036034,
     "end_time": "2021-04-04T23:12:11.623356",
     "exception": false,
     "start_time": "2021-04-04T23:12:11.587322",
     "status": "completed"
    },
    "tags": []
   },
   "outputs": [],
   "source": [
    "def evaluate(truths, predictions, pos_label, neg_label):\n",
    "    TP = 0\n",
    "    FP = 0\n",
    "    TN = 0\n",
    "    FN = 0\n",
    "\n",
    "    for truth, pred in zip(truths, predictions): \n",
    "        if truth == pred == pos_label:\n",
    "           TP += 1\n",
    "        elif pred == pos_label and truth == neg_label:\n",
    "           FP += 1\n",
    "        elif truth == pred == neg_label:\n",
    "           TN += 1\n",
    "        elif pred == neg_label and truth == pos_label:\n",
    "           FN += 1\n",
    "\n",
    "    precision = TP / (TP + FP)\n",
    "    sensitivity = TP / (TP + FN)\n",
    "    \n",
    "    return {\n",
    "        'true_pos': TP,\n",
    "        'false_pos': FP,\n",
    "        'false_neg': FN,\n",
    "        'true_neg': TN,\n",
    "        'precision': precision,\n",
    "        'sensitivity': sensitivity,\n",
    "        'f1': (2 * (precision * sensitivity)) / (precision + sensitivity)\n",
    "    }\n",
    "\n",
    "score = evaluate(y_test, predictions, pos_label=-1, neg_label=1)"
   ]
  },
  {
   "cell_type": "markdown",
   "id": "93596516",
   "metadata": {
    "papermill": {
     "duration": 0.023295,
     "end_time": "2021-04-04T23:12:11.675547",
     "exception": false,
     "start_time": "2021-04-04T23:12:11.652252",
     "status": "completed"
    },
    "tags": []
   },
   "source": [
    "# Report"
   ]
  },
  {
   "cell_type": "code",
   "execution_count": 28,
   "id": "bea5fba1",
   "metadata": {
    "execution": {
     "iopub.execute_input": "2021-04-04T23:12:11.728434Z",
     "iopub.status.busy": "2021-04-04T23:12:11.727769Z",
     "iopub.status.idle": "2021-04-04T23:12:11.731331Z",
     "shell.execute_reply": "2021-04-04T23:12:11.730726Z"
    },
    "papermill": {
     "duration": 0.033048,
     "end_time": "2021-04-04T23:12:11.731452",
     "exception": false,
     "start_time": "2021-04-04T23:12:11.698404",
     "status": "completed"
    },
    "tags": []
   },
   "outputs": [],
   "source": [
    "import csv\n",
    "\n",
    "\n",
    "dataset_config_name = DATASET_CONFIG_PATH.split('/')[-1].split('.')[0]\n",
    "model_config_name = MODEL_CONFIG_PATH.split('/')[-1].split('.')[0]\n",
    "configuration = f\"dataset_{dataset_config_name}-model_{model_config_name}\"\n",
    "\n",
    "with open('results.csv', 'a') as f:\n",
    "    report = dict({'configuration': configuration}, **score)\n",
    "    writer = csv.DictWriter(f, report.keys())\n",
    "    writer.writerow(report)"
   ]
  }
 ],
 "metadata": {
  "celltoolbar": "Tags",
  "kernelspec": {
   "display_name": "Python 3",
   "language": "python",
   "name": "python3"
  },
  "language_info": {
   "codemirror_mode": {
    "name": "ipython",
    "version": 3
   },
   "file_extension": ".py",
   "mimetype": "text/x-python",
   "name": "python",
   "nbconvert_exporter": "python",
   "pygments_lexer": "ipython3",
   "version": "3.9.1"
  },
  "papermill": {
   "default_parameters": {},
   "duration": 6.038257,
   "end_time": "2021-04-04T23:12:13.157143",
   "environment_variables": {},
   "exception": null,
   "input_path": "main.ipynb",
   "output_path": "runs/dataset_000098-model_000003.ipynb",
   "parameters": {
    "DATASET_CONFIG_PATH": "config/dataset/000098.json",
    "MODEL_CONFIG_PATH": "config/model/000003.json",
    "PROFILE_REPORTING": false
   },
   "start_time": "2021-04-04T23:12:07.118886",
   "version": "2.3.3"
  }
 },
 "nbformat": 4,
 "nbformat_minor": 5
}