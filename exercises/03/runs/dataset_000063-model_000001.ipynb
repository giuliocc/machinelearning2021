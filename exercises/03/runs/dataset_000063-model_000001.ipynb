{
 "cells": [
  {
   "cell_type": "markdown",
   "id": "51c71c25",
   "metadata": {
    "papermill": {
     "duration": 0.022198,
     "end_time": "2021-04-04T22:56:34.509510",
     "exception": false,
     "start_time": "2021-04-04T22:56:34.487312",
     "status": "completed"
    },
    "tags": []
   },
   "source": [
    "# Parametrizing"
   ]
  },
  {
   "cell_type": "code",
   "execution_count": 1,
   "id": "3b136394",
   "metadata": {
    "execution": {
     "iopub.execute_input": "2021-04-04T22:56:34.568196Z",
     "iopub.status.busy": "2021-04-04T22:56:34.567162Z",
     "iopub.status.idle": "2021-04-04T22:56:34.570459Z",
     "shell.execute_reply": "2021-04-04T22:56:34.569775Z"
    },
    "papermill": {
     "duration": 0.041342,
     "end_time": "2021-04-04T22:56:34.570659",
     "exception": false,
     "start_time": "2021-04-04T22:56:34.529317",
     "status": "completed"
    },
    "tags": [
     "parameters"
    ]
   },
   "outputs": [],
   "source": [
    "DATASET_CONFIG_PATH = 'config/dataset/kc1_001.json'\n",
    "MODEL_CONFIG_PATH = 'config/model/knndd_001.json'\n",
    "PROFILE_REPORTING = False"
   ]
  },
  {
   "cell_type": "code",
   "execution_count": 2,
   "id": "8b480f5a",
   "metadata": {
    "execution": {
     "iopub.execute_input": "2021-04-04T22:56:34.622881Z",
     "iopub.status.busy": "2021-04-04T22:56:34.622217Z",
     "iopub.status.idle": "2021-04-04T22:56:34.625262Z",
     "shell.execute_reply": "2021-04-04T22:56:34.625996Z"
    },
    "papermill": {
     "duration": 0.034106,
     "end_time": "2021-04-04T22:56:34.626183",
     "exception": false,
     "start_time": "2021-04-04T22:56:34.592077",
     "status": "completed"
    },
    "tags": [
     "injected-parameters"
    ]
   },
   "outputs": [],
   "source": [
    "# Parameters\n",
    "DATASET_CONFIG_PATH = \"config/dataset/000063.json\"\n",
    "MODEL_CONFIG_PATH = \"config/model/000001.json\"\n",
    "PROFILE_REPORTING = False\n"
   ]
  },
  {
   "cell_type": "code",
   "execution_count": 3,
   "id": "b80f2a10",
   "metadata": {
    "execution": {
     "iopub.execute_input": "2021-04-04T22:56:34.675919Z",
     "iopub.status.busy": "2021-04-04T22:56:34.675301Z",
     "iopub.status.idle": "2021-04-04T22:56:34.677750Z",
     "shell.execute_reply": "2021-04-04T22:56:34.678221Z"
    },
    "papermill": {
     "duration": 0.031819,
     "end_time": "2021-04-04T22:56:34.678368",
     "exception": false,
     "start_time": "2021-04-04T22:56:34.646549",
     "status": "completed"
    },
    "tags": []
   },
   "outputs": [],
   "source": [
    "import json\n",
    "\n",
    "\n",
    "with open(DATASET_CONFIG_PATH) as f:\n",
    "    dataset_config = json.load(f)\n",
    "\n",
    "with open(MODEL_CONFIG_PATH) as f:\n",
    "    model_config = json.load(f)"
   ]
  },
  {
   "cell_type": "markdown",
   "id": "9a4b0e2d",
   "metadata": {
    "papermill": {
     "duration": 0.021905,
     "end_time": "2021-04-04T22:56:34.722895",
     "exception": false,
     "start_time": "2021-04-04T22:56:34.700990",
     "status": "completed"
    },
    "tags": []
   },
   "source": [
    "# Profiling"
   ]
  },
  {
   "cell_type": "code",
   "execution_count": 4,
   "id": "a3e0289b",
   "metadata": {
    "execution": {
     "iopub.execute_input": "2021-04-04T22:56:34.776174Z",
     "iopub.status.busy": "2021-04-04T22:56:34.775176Z",
     "iopub.status.idle": "2021-04-04T22:56:36.101724Z",
     "shell.execute_reply": "2021-04-04T22:56:36.101121Z"
    },
    "papermill": {
     "duration": 1.357728,
     "end_time": "2021-04-04T22:56:36.101844",
     "exception": false,
     "start_time": "2021-04-04T22:56:34.744116",
     "status": "completed"
    },
    "tags": []
   },
   "outputs": [],
   "source": [
    "import pandas as pd\n",
    "from pandas_profiling import ProfileReport"
   ]
  },
  {
   "cell_type": "code",
   "execution_count": 5,
   "id": "ee6c0666",
   "metadata": {
    "execution": {
     "iopub.execute_input": "2021-04-04T22:56:36.150900Z",
     "iopub.status.busy": "2021-04-04T22:56:36.150127Z",
     "iopub.status.idle": "2021-04-04T22:56:36.163459Z",
     "shell.execute_reply": "2021-04-04T22:56:36.163937Z"
    },
    "papermill": {
     "duration": 0.041722,
     "end_time": "2021-04-04T22:56:36.164084",
     "exception": false,
     "start_time": "2021-04-04T22:56:36.122362",
     "status": "completed"
    },
    "tags": []
   },
   "outputs": [],
   "source": [
    "df = pd.read_csv(dataset_config['dataset_path'])"
   ]
  },
  {
   "cell_type": "code",
   "execution_count": 6,
   "id": "7eca6c4a",
   "metadata": {
    "execution": {
     "iopub.execute_input": "2021-04-04T22:56:36.214145Z",
     "iopub.status.busy": "2021-04-04T22:56:36.213491Z",
     "iopub.status.idle": "2021-04-04T22:56:36.227291Z",
     "shell.execute_reply": "2021-04-04T22:56:36.227879Z"
    },
    "papermill": {
     "duration": 0.042102,
     "end_time": "2021-04-04T22:56:36.228054",
     "exception": false,
     "start_time": "2021-04-04T22:56:36.185952",
     "status": "completed"
    },
    "tags": []
   },
   "outputs": [
    {
     "name": "stdout",
     "output_type": "stream",
     "text": [
      "<class 'pandas.core.frame.DataFrame'>\n",
      "RangeIndex: 2109 entries, 0 to 2108\n",
      "Data columns (total 23 columns):\n",
      " #   Column             Non-Null Count  Dtype  \n",
      "---  ------             --------------  -----  \n",
      " 0   id                 2109 non-null   int64  \n",
      " 1   loc                2109 non-null   float64\n",
      " 2   v(g)               2109 non-null   float64\n",
      " 3   ev(g)              2109 non-null   float64\n",
      " 4   iv(g)              2109 non-null   float64\n",
      " 5   n                  2109 non-null   float64\n",
      " 6   v                  2109 non-null   float64\n",
      " 7   l                  2109 non-null   float64\n",
      " 8   d                  2109 non-null   float64\n",
      " 9   i                  2109 non-null   float64\n",
      " 10  e                  2109 non-null   float64\n",
      " 11  b                  2109 non-null   float64\n",
      " 12  t                  2109 non-null   float64\n",
      " 13  lOCode             2109 non-null   int64  \n",
      " 14  lOComment          2109 non-null   int64  \n",
      " 15  lOBlank            2109 non-null   int64  \n",
      " 16  locCodeAndComment  2109 non-null   int64  \n",
      " 17  uniq_Op            2109 non-null   float64\n",
      " 18  uniq_Opnd          2109 non-null   float64\n",
      " 19  total_Op           2109 non-null   float64\n",
      " 20  total_Opnd         2109 non-null   float64\n",
      " 21  branchCount        2109 non-null   float64\n",
      " 22  defects            2109 non-null   bool   \n",
      "dtypes: bool(1), float64(17), int64(5)\n",
      "memory usage: 364.7 KB\n"
     ]
    }
   ],
   "source": [
    "df.info()"
   ]
  },
  {
   "cell_type": "code",
   "execution_count": 7,
   "id": "3638e5e8",
   "metadata": {
    "execution": {
     "iopub.execute_input": "2021-04-04T22:56:36.287991Z",
     "iopub.status.busy": "2021-04-04T22:56:36.286294Z",
     "iopub.status.idle": "2021-04-04T22:56:36.319008Z",
     "shell.execute_reply": "2021-04-04T22:56:36.318496Z"
    },
    "papermill": {
     "duration": 0.068404,
     "end_time": "2021-04-04T22:56:36.319128",
     "exception": false,
     "start_time": "2021-04-04T22:56:36.250724",
     "status": "completed"
    },
    "tags": []
   },
   "outputs": [
    {
     "data": {
      "text/html": [
       "<div>\n",
       "<style scoped>\n",
       "    .dataframe tbody tr th:only-of-type {\n",
       "        vertical-align: middle;\n",
       "    }\n",
       "\n",
       "    .dataframe tbody tr th {\n",
       "        vertical-align: top;\n",
       "    }\n",
       "\n",
       "    .dataframe thead th {\n",
       "        text-align: right;\n",
       "    }\n",
       "</style>\n",
       "<table border=\"1\" class=\"dataframe\">\n",
       "  <thead>\n",
       "    <tr style=\"text-align: right;\">\n",
       "      <th></th>\n",
       "      <th>id</th>\n",
       "      <th>loc</th>\n",
       "      <th>v(g)</th>\n",
       "      <th>ev(g)</th>\n",
       "      <th>iv(g)</th>\n",
       "      <th>n</th>\n",
       "      <th>v</th>\n",
       "      <th>l</th>\n",
       "      <th>d</th>\n",
       "      <th>i</th>\n",
       "      <th>...</th>\n",
       "      <th>lOCode</th>\n",
       "      <th>lOComment</th>\n",
       "      <th>lOBlank</th>\n",
       "      <th>locCodeAndComment</th>\n",
       "      <th>uniq_Op</th>\n",
       "      <th>uniq_Opnd</th>\n",
       "      <th>total_Op</th>\n",
       "      <th>total_Opnd</th>\n",
       "      <th>branchCount</th>\n",
       "      <th>defects</th>\n",
       "    </tr>\n",
       "  </thead>\n",
       "  <tbody>\n",
       "    <tr>\n",
       "      <th>0</th>\n",
       "      <td>1</td>\n",
       "      <td>1.1</td>\n",
       "      <td>1.4</td>\n",
       "      <td>1.4</td>\n",
       "      <td>1.4</td>\n",
       "      <td>1.3</td>\n",
       "      <td>1.30</td>\n",
       "      <td>1.30</td>\n",
       "      <td>1.30</td>\n",
       "      <td>1.30</td>\n",
       "      <td>...</td>\n",
       "      <td>2</td>\n",
       "      <td>2</td>\n",
       "      <td>2</td>\n",
       "      <td>2</td>\n",
       "      <td>1.2</td>\n",
       "      <td>1.2</td>\n",
       "      <td>1.2</td>\n",
       "      <td>1.2</td>\n",
       "      <td>1.4</td>\n",
       "      <td>False</td>\n",
       "    </tr>\n",
       "    <tr>\n",
       "      <th>1</th>\n",
       "      <td>2</td>\n",
       "      <td>1.0</td>\n",
       "      <td>1.0</td>\n",
       "      <td>1.0</td>\n",
       "      <td>1.0</td>\n",
       "      <td>1.0</td>\n",
       "      <td>1.00</td>\n",
       "      <td>1.00</td>\n",
       "      <td>1.00</td>\n",
       "      <td>1.00</td>\n",
       "      <td>...</td>\n",
       "      <td>1</td>\n",
       "      <td>1</td>\n",
       "      <td>1</td>\n",
       "      <td>1</td>\n",
       "      <td>1.0</td>\n",
       "      <td>1.0</td>\n",
       "      <td>1.0</td>\n",
       "      <td>1.0</td>\n",
       "      <td>1.0</td>\n",
       "      <td>True</td>\n",
       "    </tr>\n",
       "    <tr>\n",
       "      <th>2</th>\n",
       "      <td>3</td>\n",
       "      <td>83.0</td>\n",
       "      <td>11.0</td>\n",
       "      <td>1.0</td>\n",
       "      <td>11.0</td>\n",
       "      <td>171.0</td>\n",
       "      <td>927.89</td>\n",
       "      <td>0.04</td>\n",
       "      <td>23.04</td>\n",
       "      <td>40.27</td>\n",
       "      <td>...</td>\n",
       "      <td>65</td>\n",
       "      <td>10</td>\n",
       "      <td>6</td>\n",
       "      <td>0</td>\n",
       "      <td>18.0</td>\n",
       "      <td>25.0</td>\n",
       "      <td>107.0</td>\n",
       "      <td>64.0</td>\n",
       "      <td>21.0</td>\n",
       "      <td>True</td>\n",
       "    </tr>\n",
       "    <tr>\n",
       "      <th>3</th>\n",
       "      <td>4</td>\n",
       "      <td>46.0</td>\n",
       "      <td>8.0</td>\n",
       "      <td>6.0</td>\n",
       "      <td>8.0</td>\n",
       "      <td>141.0</td>\n",
       "      <td>769.78</td>\n",
       "      <td>0.07</td>\n",
       "      <td>14.86</td>\n",
       "      <td>51.81</td>\n",
       "      <td>...</td>\n",
       "      <td>37</td>\n",
       "      <td>2</td>\n",
       "      <td>5</td>\n",
       "      <td>0</td>\n",
       "      <td>16.0</td>\n",
       "      <td>28.0</td>\n",
       "      <td>89.0</td>\n",
       "      <td>52.0</td>\n",
       "      <td>15.0</td>\n",
       "      <td>True</td>\n",
       "    </tr>\n",
       "    <tr>\n",
       "      <th>4</th>\n",
       "      <td>5</td>\n",
       "      <td>25.0</td>\n",
       "      <td>3.0</td>\n",
       "      <td>1.0</td>\n",
       "      <td>3.0</td>\n",
       "      <td>58.0</td>\n",
       "      <td>254.75</td>\n",
       "      <td>0.11</td>\n",
       "      <td>9.35</td>\n",
       "      <td>27.25</td>\n",
       "      <td>...</td>\n",
       "      <td>21</td>\n",
       "      <td>0</td>\n",
       "      <td>2</td>\n",
       "      <td>0</td>\n",
       "      <td>11.0</td>\n",
       "      <td>10.0</td>\n",
       "      <td>41.0</td>\n",
       "      <td>17.0</td>\n",
       "      <td>5.0</td>\n",
       "      <td>True</td>\n",
       "    </tr>\n",
       "  </tbody>\n",
       "</table>\n",
       "<p>5 rows × 23 columns</p>\n",
       "</div>"
      ],
      "text/plain": [
       "   id   loc  v(g)  ev(g)  iv(g)      n       v     l      d      i  ...  \\\n",
       "0   1   1.1   1.4    1.4    1.4    1.3    1.30  1.30   1.30   1.30  ...   \n",
       "1   2   1.0   1.0    1.0    1.0    1.0    1.00  1.00   1.00   1.00  ...   \n",
       "2   3  83.0  11.0    1.0   11.0  171.0  927.89  0.04  23.04  40.27  ...   \n",
       "3   4  46.0   8.0    6.0    8.0  141.0  769.78  0.07  14.86  51.81  ...   \n",
       "4   5  25.0   3.0    1.0    3.0   58.0  254.75  0.11   9.35  27.25  ...   \n",
       "\n",
       "   lOCode  lOComment  lOBlank  locCodeAndComment  uniq_Op  uniq_Opnd  \\\n",
       "0       2          2        2                  2      1.2        1.2   \n",
       "1       1          1        1                  1      1.0        1.0   \n",
       "2      65         10        6                  0     18.0       25.0   \n",
       "3      37          2        5                  0     16.0       28.0   \n",
       "4      21          0        2                  0     11.0       10.0   \n",
       "\n",
       "   total_Op  total_Opnd  branchCount  defects  \n",
       "0       1.2         1.2          1.4    False  \n",
       "1       1.0         1.0          1.0     True  \n",
       "2     107.0        64.0         21.0     True  \n",
       "3      89.0        52.0         15.0     True  \n",
       "4      41.0        17.0          5.0     True  \n",
       "\n",
       "[5 rows x 23 columns]"
      ]
     },
     "execution_count": 7,
     "metadata": {},
     "output_type": "execute_result"
    }
   ],
   "source": [
    "df.head()"
   ]
  },
  {
   "cell_type": "code",
   "execution_count": 8,
   "id": "733e95eb",
   "metadata": {
    "execution": {
     "iopub.execute_input": "2021-04-04T22:56:36.379194Z",
     "iopub.status.busy": "2021-04-04T22:56:36.378344Z",
     "iopub.status.idle": "2021-04-04T22:56:36.380924Z",
     "shell.execute_reply": "2021-04-04T22:56:36.381568Z"
    },
    "papermill": {
     "duration": 0.036941,
     "end_time": "2021-04-04T22:56:36.381761",
     "exception": false,
     "start_time": "2021-04-04T22:56:36.344820",
     "status": "completed"
    },
    "tags": []
   },
   "outputs": [],
   "source": [
    "del df['id']"
   ]
  },
  {
   "cell_type": "code",
   "execution_count": 9,
   "id": "6ff6f5b0",
   "metadata": {
    "execution": {
     "iopub.execute_input": "2021-04-04T22:56:36.444566Z",
     "iopub.status.busy": "2021-04-04T22:56:36.443603Z",
     "iopub.status.idle": "2021-04-04T22:56:36.446725Z",
     "shell.execute_reply": "2021-04-04T22:56:36.448095Z"
    },
    "papermill": {
     "duration": 0.038964,
     "end_time": "2021-04-04T22:56:36.448543",
     "exception": false,
     "start_time": "2021-04-04T22:56:36.409579",
     "status": "completed"
    },
    "tags": []
   },
   "outputs": [],
   "source": [
    "if PROFILE_REPORTING:\n",
    "    ProfileReport(df).to_widgets()"
   ]
  },
  {
   "cell_type": "markdown",
   "id": "1deaf3f0",
   "metadata": {
    "papermill": {
     "duration": 0.023436,
     "end_time": "2021-04-04T22:56:36.495570",
     "exception": false,
     "start_time": "2021-04-04T22:56:36.472134",
     "status": "completed"
    },
    "tags": []
   },
   "source": [
    "# Preprocess"
   ]
  },
  {
   "cell_type": "code",
   "execution_count": 10,
   "id": "1513e563",
   "metadata": {
    "execution": {
     "iopub.execute_input": "2021-04-04T22:56:36.552640Z",
     "iopub.status.busy": "2021-04-04T22:56:36.551773Z",
     "iopub.status.idle": "2021-04-04T22:56:36.553932Z",
     "shell.execute_reply": "2021-04-04T22:56:36.554494Z"
    },
    "papermill": {
     "duration": 0.035725,
     "end_time": "2021-04-04T22:56:36.554665",
     "exception": false,
     "start_time": "2021-04-04T22:56:36.518940",
     "status": "completed"
    },
    "tags": []
   },
   "outputs": [],
   "source": [
    "working_df = df.copy()"
   ]
  },
  {
   "cell_type": "code",
   "execution_count": 11,
   "id": "3b26d675",
   "metadata": {
    "execution": {
     "iopub.execute_input": "2021-04-04T22:56:36.608890Z",
     "iopub.status.busy": "2021-04-04T22:56:36.607705Z",
     "iopub.status.idle": "2021-04-04T22:56:36.610791Z",
     "shell.execute_reply": "2021-04-04T22:56:36.611271Z"
    },
    "papermill": {
     "duration": 0.034379,
     "end_time": "2021-04-04T22:56:36.611421",
     "exception": false,
     "start_time": "2021-04-04T22:56:36.577042",
     "status": "completed"
    },
    "tags": []
   },
   "outputs": [],
   "source": [
    "working_df['defects'] = working_df['defects'].replace([False, True], [0, 1])"
   ]
  },
  {
   "cell_type": "code",
   "execution_count": 12,
   "id": "eb48604f",
   "metadata": {
    "execution": {
     "iopub.execute_input": "2021-04-04T22:56:36.667952Z",
     "iopub.status.busy": "2021-04-04T22:56:36.666892Z",
     "iopub.status.idle": "2021-04-04T22:56:36.670058Z",
     "shell.execute_reply": "2021-04-04T22:56:36.669404Z"
    },
    "papermill": {
     "duration": 0.035932,
     "end_time": "2021-04-04T22:56:36.670305",
     "exception": false,
     "start_time": "2021-04-04T22:56:36.634373",
     "status": "completed"
    },
    "tags": []
   },
   "outputs": [],
   "source": [
    "for col in dataset_config['delete_columns']:\n",
    "    del working_df[col]"
   ]
  },
  {
   "cell_type": "code",
   "execution_count": 13,
   "id": "9a17bc29",
   "metadata": {
    "execution": {
     "iopub.execute_input": "2021-04-04T22:56:36.723313Z",
     "iopub.status.busy": "2021-04-04T22:56:36.722306Z",
     "iopub.status.idle": "2021-04-04T22:56:36.732362Z",
     "shell.execute_reply": "2021-04-04T22:56:36.731525Z"
    },
    "papermill": {
     "duration": 0.037467,
     "end_time": "2021-04-04T22:56:36.732489",
     "exception": false,
     "start_time": "2021-04-04T22:56:36.695022",
     "status": "completed"
    },
    "tags": []
   },
   "outputs": [],
   "source": [
    "working_df = working_df.drop_duplicates()"
   ]
  },
  {
   "cell_type": "markdown",
   "id": "a4d52ca6",
   "metadata": {
    "papermill": {
     "duration": 0.030431,
     "end_time": "2021-04-04T22:56:36.793241",
     "exception": false,
     "start_time": "2021-04-04T22:56:36.762810",
     "status": "completed"
    },
    "tags": []
   },
   "source": [
    "# Split"
   ]
  },
  {
   "cell_type": "code",
   "execution_count": 14,
   "id": "3e9ee4b5",
   "metadata": {
    "execution": {
     "iopub.execute_input": "2021-04-04T22:56:36.859582Z",
     "iopub.status.busy": "2021-04-04T22:56:36.858276Z",
     "iopub.status.idle": "2021-04-04T22:56:36.888141Z",
     "shell.execute_reply": "2021-04-04T22:56:36.887417Z"
    },
    "papermill": {
     "duration": 0.065585,
     "end_time": "2021-04-04T22:56:36.888299",
     "exception": false,
     "start_time": "2021-04-04T22:56:36.822714",
     "status": "completed"
    },
    "tags": []
   },
   "outputs": [],
   "source": [
    "from sklearn.model_selection import train_test_split"
   ]
  },
  {
   "cell_type": "code",
   "execution_count": 15,
   "id": "274004ce",
   "metadata": {
    "execution": {
     "iopub.execute_input": "2021-04-04T22:56:36.949422Z",
     "iopub.status.busy": "2021-04-04T22:56:36.947915Z",
     "iopub.status.idle": "2021-04-04T22:56:36.953631Z",
     "shell.execute_reply": "2021-04-04T22:56:36.954152Z"
    },
    "papermill": {
     "duration": 0.041898,
     "end_time": "2021-04-04T22:56:36.954330",
     "exception": false,
     "start_time": "2021-04-04T22:56:36.912432",
     "status": "completed"
    },
    "scrolled": true,
    "tags": []
   },
   "outputs": [],
   "source": [
    "inlier, outlier = working_df[working_df['defects'] == 0], working_df[working_df['defects'] == 1]"
   ]
  },
  {
   "cell_type": "code",
   "execution_count": 16,
   "id": "753c7b03",
   "metadata": {
    "execution": {
     "iopub.execute_input": "2021-04-04T22:56:37.009073Z",
     "iopub.status.busy": "2021-04-04T22:56:37.008404Z",
     "iopub.status.idle": "2021-04-04T22:56:37.011596Z",
     "shell.execute_reply": "2021-04-04T22:56:37.012072Z"
    },
    "papermill": {
     "duration": 0.034375,
     "end_time": "2021-04-04T22:56:37.012220",
     "exception": false,
     "start_time": "2021-04-04T22:56:36.977845",
     "status": "completed"
    },
    "tags": []
   },
   "outputs": [],
   "source": [
    "X_inlier = inlier.copy()\n",
    "y_inlier = X_inlier.pop('defects')\n",
    "X_outlier = outlier.copy()\n",
    "y_outlier = X_outlier.pop('defects')"
   ]
  },
  {
   "cell_type": "code",
   "execution_count": 17,
   "id": "2ba43193",
   "metadata": {
    "execution": {
     "iopub.execute_input": "2021-04-04T22:56:37.074939Z",
     "iopub.status.busy": "2021-04-04T22:56:37.073979Z",
     "iopub.status.idle": "2021-04-04T22:56:37.078638Z",
     "shell.execute_reply": "2021-04-04T22:56:37.078006Z"
    },
    "papermill": {
     "duration": 0.043714,
     "end_time": "2021-04-04T22:56:37.078810",
     "exception": false,
     "start_time": "2021-04-04T22:56:37.035096",
     "status": "completed"
    },
    "tags": []
   },
   "outputs": [],
   "source": [
    "test_size = dataset_config['test_size']\n",
    "random_state = dataset_config['random_state']\n",
    "\n",
    "X_inlier_train, X_inlier_test, y_inlier_train, y_inlier_test = train_test_split(\n",
    "    X_inlier,\n",
    "    y_inlier,\n",
    "    test_size=test_size,\n",
    "    random_state=random_state\n",
    ")"
   ]
  },
  {
   "cell_type": "code",
   "execution_count": 18,
   "id": "0b7582ca",
   "metadata": {
    "execution": {
     "iopub.execute_input": "2021-04-04T22:56:37.132775Z",
     "iopub.status.busy": "2021-04-04T22:56:37.132169Z",
     "iopub.status.idle": "2021-04-04T22:56:37.134296Z",
     "shell.execute_reply": "2021-04-04T22:56:37.134745Z"
    },
    "papermill": {
     "duration": 0.033391,
     "end_time": "2021-04-04T22:56:37.134885",
     "exception": false,
     "start_time": "2021-04-04T22:56:37.101494",
     "status": "completed"
    },
    "tags": []
   },
   "outputs": [],
   "source": [
    "test_outlier_size = dataset_config['test_outlier_size']\n",
    "if test_outlier_size > 0.0:\n",
    "    X_outlier_train, X_outlier_test, y_outlier_train, y_outlier_test = train_test_split(\n",
    "        X_outlier,\n",
    "        y_outlier,\n",
    "        test_size=test_outlier_size,\n",
    "        random_state=random_state\n",
    "    )\n",
    "else:\n",
    "    X_outlier_train, y_outlier_train = pd.DataFrame(columns=X_outlier.columns), pd.Series(dtype='int64')\n",
    "    X_outlier_test, y_outlier_test = X_outlier.copy(), y_outlier.copy()"
   ]
  },
  {
   "cell_type": "code",
   "execution_count": 19,
   "id": "c34363db",
   "metadata": {
    "execution": {
     "iopub.execute_input": "2021-04-04T22:56:37.199474Z",
     "iopub.status.busy": "2021-04-04T22:56:37.197244Z",
     "iopub.status.idle": "2021-04-04T22:56:37.203803Z",
     "shell.execute_reply": "2021-04-04T22:56:37.202855Z"
    },
    "papermill": {
     "duration": 0.044172,
     "end_time": "2021-04-04T22:56:37.204116",
     "exception": false,
     "start_time": "2021-04-04T22:56:37.159944",
     "status": "completed"
    },
    "tags": []
   },
   "outputs": [],
   "source": [
    "X_train, y_train = pd.concat([X_inlier_train, X_outlier_train], ignore_index=True), pd.concat([y_inlier_train, y_outlier_train], ignore_index=True)\n",
    "X_test, y_test = pd.concat([X_inlier_test, X_outlier_test], ignore_index=True), pd.concat([y_inlier_test, y_outlier_test], ignore_index=True)"
   ]
  },
  {
   "cell_type": "markdown",
   "id": "7cde7309",
   "metadata": {
    "papermill": {
     "duration": 0.023761,
     "end_time": "2021-04-04T22:56:37.253105",
     "exception": false,
     "start_time": "2021-04-04T22:56:37.229344",
     "status": "completed"
    },
    "tags": []
   },
   "source": [
    "# Model"
   ]
  },
  {
   "cell_type": "code",
   "execution_count": 20,
   "id": "2b12a415",
   "metadata": {
    "execution": {
     "iopub.execute_input": "2021-04-04T22:56:37.318338Z",
     "iopub.status.busy": "2021-04-04T22:56:37.317016Z",
     "iopub.status.idle": "2021-04-04T22:56:37.321768Z",
     "shell.execute_reply": "2021-04-04T22:56:37.320811Z"
    },
    "papermill": {
     "duration": 0.044107,
     "end_time": "2021-04-04T22:56:37.321948",
     "exception": false,
     "start_time": "2021-04-04T22:56:37.277841",
     "status": "completed"
    },
    "tags": []
   },
   "outputs": [],
   "source": [
    "from math import sqrt\n",
    "\n",
    "\n",
    "class KNNDataDescription:\n",
    "    def __init__(self, k=5, outlier_threshold=1.0):\n",
    "        self.k = k\n",
    "        self.outlier_threshold = outlier_threshold\n",
    "        self.X = []\n",
    "    \n",
    "    def fit(self, X):\n",
    "        self.X = [features.to_list() for index, features in X.iterrows()]\n",
    "\n",
    "    def predict(self, entries):\n",
    "        return [self.predict_entry(features.to_list()) for index, features in entries.iterrows()]\n",
    "    \n",
    "    def predict_entry(self, entry):\n",
    "        kth_neighbor, kth_distance = self.get_kth_neighbor(entry, self.k)\n",
    "        kth_kth_neighbor, kth_kth_distance = self.get_kth_neighbor(kth_neighbor, self.k + 1)\n",
    "\n",
    "        outlier_score = kth_distance / (kth_kth_distance + 0.000001)\n",
    "\n",
    "        return 1 if outlier_score < self.outlier_threshold else -1\n",
    "        \n",
    "    def euclidean_distance(self, features1, features2):\n",
    "        distance = 0.0\n",
    "        for feat1, feat2 in zip(features1, features2):\n",
    "            distance += (feat1 - feat2)**2\n",
    "                \n",
    "        return sqrt(distance)\n",
    "\n",
    "    def get_neighbors(self, entry, k):\n",
    "        distance_to_data_points = [\n",
    "            (data_point, self.euclidean_distance(entry, data_point))\n",
    "            for data_point in self.X\n",
    "        ]\n",
    "        sorted_by_distance = sorted(distance_to_data_points, key=lambda tup: tup[1])\n",
    "        neighbors = sorted_by_distance[:k]\n",
    "        return neighbors\n",
    "\n",
    "    def get_kth_neighbor(self, entry, k):\n",
    "        neighbors = self.get_neighbors(entry, k)\n",
    "        return neighbors[-1]\n"
   ]
  },
  {
   "cell_type": "code",
   "execution_count": 21,
   "id": "1fa9ec1c",
   "metadata": {
    "execution": {
     "iopub.execute_input": "2021-04-04T22:56:37.383793Z",
     "iopub.status.busy": "2021-04-04T22:56:37.382810Z",
     "iopub.status.idle": "2021-04-04T22:56:37.414026Z",
     "shell.execute_reply": "2021-04-04T22:56:37.413556Z"
    },
    "papermill": {
     "duration": 0.068505,
     "end_time": "2021-04-04T22:56:37.414144",
     "exception": false,
     "start_time": "2021-04-04T22:56:37.345639",
     "status": "completed"
    },
    "tags": []
   },
   "outputs": [],
   "source": [
    "from sklearn.svm import OneClassSVM\n",
    "\n",
    "\n",
    "models = {\n",
    "    'oneclasssvm': OneClassSVM,\n",
    "    'knndatadescription': KNNDataDescription,\n",
    "}"
   ]
  },
  {
   "cell_type": "code",
   "execution_count": 22,
   "id": "4d72a0b1",
   "metadata": {
    "execution": {
     "iopub.execute_input": "2021-04-04T22:56:37.468377Z",
     "iopub.status.busy": "2021-04-04T22:56:37.467306Z",
     "iopub.status.idle": "2021-04-04T22:56:37.470043Z",
     "shell.execute_reply": "2021-04-04T22:56:37.471311Z"
    },
    "papermill": {
     "duration": 0.034637,
     "end_time": "2021-04-04T22:56:37.471738",
     "exception": false,
     "start_time": "2021-04-04T22:56:37.437101",
     "status": "completed"
    },
    "scrolled": true,
    "tags": []
   },
   "outputs": [],
   "source": [
    "model_cls = models[model_config['model_type']]\n",
    "model = model_cls(**model_config['hyperparameters'])"
   ]
  },
  {
   "cell_type": "markdown",
   "id": "e00cff3b",
   "metadata": {
    "papermill": {
     "duration": 0.025767,
     "end_time": "2021-04-04T22:56:37.521609",
     "exception": false,
     "start_time": "2021-04-04T22:56:37.495842",
     "status": "completed"
    },
    "tags": []
   },
   "source": [
    "# Fit"
   ]
  },
  {
   "cell_type": "code",
   "execution_count": 23,
   "id": "8b2ded89",
   "metadata": {
    "execution": {
     "iopub.execute_input": "2021-04-04T22:56:37.578841Z",
     "iopub.status.busy": "2021-04-04T22:56:37.578224Z",
     "iopub.status.idle": "2021-04-04T22:56:37.633347Z",
     "shell.execute_reply": "2021-04-04T22:56:37.633820Z"
    },
    "papermill": {
     "duration": 0.089078,
     "end_time": "2021-04-04T22:56:37.633977",
     "exception": false,
     "start_time": "2021-04-04T22:56:37.544899",
     "status": "completed"
    },
    "tags": []
   },
   "outputs": [],
   "source": [
    "model.fit(X_train)"
   ]
  },
  {
   "cell_type": "markdown",
   "id": "f99999f7",
   "metadata": {
    "papermill": {
     "duration": 0.023565,
     "end_time": "2021-04-04T22:56:37.685316",
     "exception": false,
     "start_time": "2021-04-04T22:56:37.661751",
     "status": "completed"
    },
    "tags": []
   },
   "source": [
    "# Predict"
   ]
  },
  {
   "cell_type": "code",
   "execution_count": 24,
   "id": "6536fbf7",
   "metadata": {
    "execution": {
     "iopub.execute_input": "2021-04-04T22:56:37.744123Z",
     "iopub.status.busy": "2021-04-04T22:56:37.743222Z",
     "iopub.status.idle": "2021-04-04T22:56:40.185389Z",
     "shell.execute_reply": "2021-04-04T22:56:40.184456Z"
    },
    "papermill": {
     "duration": 2.475661,
     "end_time": "2021-04-04T22:56:40.185568",
     "exception": false,
     "start_time": "2021-04-04T22:56:37.709907",
     "status": "completed"
    },
    "tags": []
   },
   "outputs": [],
   "source": [
    "predictions = model.predict(X_test)"
   ]
  },
  {
   "cell_type": "markdown",
   "id": "aa1c9881",
   "metadata": {
    "papermill": {
     "duration": 0.023074,
     "end_time": "2021-04-04T22:56:40.238495",
     "exception": false,
     "start_time": "2021-04-04T22:56:40.215421",
     "status": "completed"
    },
    "tags": []
   },
   "source": [
    "# Evaluate"
   ]
  },
  {
   "cell_type": "code",
   "execution_count": 25,
   "id": "894f0f04",
   "metadata": {
    "execution": {
     "iopub.execute_input": "2021-04-04T22:56:40.300873Z",
     "iopub.status.busy": "2021-04-04T22:56:40.299957Z",
     "iopub.status.idle": "2021-04-04T22:56:40.301975Z",
     "shell.execute_reply": "2021-04-04T22:56:40.304126Z"
    },
    "papermill": {
     "duration": 0.041475,
     "end_time": "2021-04-04T22:56:40.304759",
     "exception": false,
     "start_time": "2021-04-04T22:56:40.263284",
     "status": "completed"
    },
    "tags": []
   },
   "outputs": [],
   "source": [
    "from sklearn.metrics import f1_score"
   ]
  },
  {
   "cell_type": "code",
   "execution_count": 26,
   "id": "211744d3",
   "metadata": {
    "execution": {
     "iopub.execute_input": "2021-04-04T22:56:40.373515Z",
     "iopub.status.busy": "2021-04-04T22:56:40.372572Z",
     "iopub.status.idle": "2021-04-04T22:56:40.377251Z",
     "shell.execute_reply": "2021-04-04T22:56:40.375860Z"
    },
    "papermill": {
     "duration": 0.045728,
     "end_time": "2021-04-04T22:56:40.377620",
     "exception": false,
     "start_time": "2021-04-04T22:56:40.331892",
     "status": "completed"
    },
    "tags": []
   },
   "outputs": [],
   "source": [
    "y_test = y_test.replace([0, 1], [1, -1])"
   ]
  },
  {
   "cell_type": "code",
   "execution_count": 27,
   "id": "d68a9204",
   "metadata": {
    "execution": {
     "iopub.execute_input": "2021-04-04T22:56:40.449461Z",
     "iopub.status.busy": "2021-04-04T22:56:40.448762Z",
     "iopub.status.idle": "2021-04-04T22:56:40.450706Z",
     "shell.execute_reply": "2021-04-04T22:56:40.451218Z"
    },
    "papermill": {
     "duration": 0.048348,
     "end_time": "2021-04-04T22:56:40.451372",
     "exception": false,
     "start_time": "2021-04-04T22:56:40.403024",
     "status": "completed"
    },
    "tags": []
   },
   "outputs": [],
   "source": [
    "def evaluate(truths, predictions, pos_label, neg_label):\n",
    "    TP = 0\n",
    "    FP = 0\n",
    "    TN = 0\n",
    "    FN = 0\n",
    "\n",
    "    for truth, pred in zip(truths, predictions): \n",
    "        if truth == pred == pos_label:\n",
    "           TP += 1\n",
    "        elif pred == pos_label and truth == neg_label:\n",
    "           FP += 1\n",
    "        elif truth == pred == neg_label:\n",
    "           TN += 1\n",
    "        elif pred == neg_label and truth == pos_label:\n",
    "           FN += 1\n",
    "\n",
    "    precision = TP / (TP + FP)\n",
    "    sensitivity = TP / (TP + FN)\n",
    "    \n",
    "    return {\n",
    "        'true_pos': TP,\n",
    "        'false_pos': FP,\n",
    "        'false_neg': FN,\n",
    "        'true_neg': TN,\n",
    "        'precision': precision,\n",
    "        'sensitivity': sensitivity,\n",
    "        'f1': (2 * (precision * sensitivity)) / (precision + sensitivity)\n",
    "    }\n",
    "\n",
    "score = evaluate(y_test, predictions, pos_label=-1, neg_label=1)"
   ]
  },
  {
   "cell_type": "markdown",
   "id": "93596516",
   "metadata": {
    "papermill": {
     "duration": 0.024409,
     "end_time": "2021-04-04T22:56:40.501890",
     "exception": false,
     "start_time": "2021-04-04T22:56:40.477481",
     "status": "completed"
    },
    "tags": []
   },
   "source": [
    "# Report"
   ]
  },
  {
   "cell_type": "code",
   "execution_count": 28,
   "id": "bea5fba1",
   "metadata": {
    "execution": {
     "iopub.execute_input": "2021-04-04T22:56:40.564807Z",
     "iopub.status.busy": "2021-04-04T22:56:40.564091Z",
     "iopub.status.idle": "2021-04-04T22:56:40.567008Z",
     "shell.execute_reply": "2021-04-04T22:56:40.567552Z"
    },
    "papermill": {
     "duration": 0.040127,
     "end_time": "2021-04-04T22:56:40.567739",
     "exception": false,
     "start_time": "2021-04-04T22:56:40.527612",
     "status": "completed"
    },
    "tags": []
   },
   "outputs": [],
   "source": [
    "import csv\n",
    "\n",
    "\n",
    "dataset_config_name = DATASET_CONFIG_PATH.split('/')[-1].split('.')[0]\n",
    "model_config_name = MODEL_CONFIG_PATH.split('/')[-1].split('.')[0]\n",
    "configuration = f\"dataset_{dataset_config_name}-model_{model_config_name}\"\n",
    "\n",
    "with open('results.csv', 'a') as f:\n",
    "    report = dict({'configuration': configuration}, **score)\n",
    "    writer = csv.DictWriter(f, report.keys())\n",
    "    writer.writerow(report)"
   ]
  }
 ],
 "metadata": {
  "celltoolbar": "Tags",
  "kernelspec": {
   "display_name": "Python 3",
   "language": "python",
   "name": "python3"
  },
  "language_info": {
   "codemirror_mode": {
    "name": "ipython",
    "version": 3
   },
   "file_extension": ".py",
   "mimetype": "text/x-python",
   "name": "python",
   "nbconvert_exporter": "python",
   "pygments_lexer": "ipython3",
   "version": "3.9.1"
  },
  "papermill": {
   "default_parameters": {},
   "duration": 7.677602,
   "end_time": "2021-04-04T22:56:41.205092",
   "environment_variables": {},
   "exception": null,
   "input_path": "main.ipynb",
   "output_path": "runs/dataset_000063-model_000001.ipynb",
   "parameters": {
    "DATASET_CONFIG_PATH": "config/dataset/000063.json",
    "MODEL_CONFIG_PATH": "config/model/000001.json",
    "PROFILE_REPORTING": false
   },
   "start_time": "2021-04-04T22:56:33.527490",
   "version": "2.3.3"
  }
 },
 "nbformat": 4,
 "nbformat_minor": 5
}