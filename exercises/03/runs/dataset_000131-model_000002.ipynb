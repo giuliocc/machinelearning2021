{
 "cells": [
  {
   "cell_type": "markdown",
   "id": "51c71c25",
   "metadata": {
    "papermill": {
     "duration": 0.043023,
     "end_time": "2021-04-04T23:25:21.221340",
     "exception": false,
     "start_time": "2021-04-04T23:25:21.178317",
     "status": "completed"
    },
    "tags": []
   },
   "source": [
    "# Parametrizing"
   ]
  },
  {
   "cell_type": "code",
   "execution_count": 1,
   "id": "3b136394",
   "metadata": {
    "execution": {
     "iopub.execute_input": "2021-04-04T23:25:21.294364Z",
     "iopub.status.busy": "2021-04-04T23:25:21.293182Z",
     "iopub.status.idle": "2021-04-04T23:25:21.299402Z",
     "shell.execute_reply": "2021-04-04T23:25:21.297674Z"
    },
    "papermill": {
     "duration": 0.04455,
     "end_time": "2021-04-04T23:25:21.299585",
     "exception": false,
     "start_time": "2021-04-04T23:25:21.255035",
     "status": "completed"
    },
    "tags": [
     "parameters"
    ]
   },
   "outputs": [],
   "source": [
    "DATASET_CONFIG_PATH = 'config/dataset/kc1_001.json'\n",
    "MODEL_CONFIG_PATH = 'config/model/knndd_001.json'\n",
    "PROFILE_REPORTING = False"
   ]
  },
  {
   "cell_type": "code",
   "execution_count": 2,
   "id": "bf7fc767",
   "metadata": {
    "execution": {
     "iopub.execute_input": "2021-04-04T23:25:21.356743Z",
     "iopub.status.busy": "2021-04-04T23:25:21.355582Z",
     "iopub.status.idle": "2021-04-04T23:25:21.358345Z",
     "shell.execute_reply": "2021-04-04T23:25:21.357731Z"
    },
    "papermill": {
     "duration": 0.035602,
     "end_time": "2021-04-04T23:25:21.358484",
     "exception": false,
     "start_time": "2021-04-04T23:25:21.322882",
     "status": "completed"
    },
    "tags": [
     "injected-parameters"
    ]
   },
   "outputs": [],
   "source": [
    "# Parameters\n",
    "DATASET_CONFIG_PATH = \"config/dataset/000131.json\"\n",
    "MODEL_CONFIG_PATH = \"config/model/000002.json\"\n",
    "PROFILE_REPORTING = False\n"
   ]
  },
  {
   "cell_type": "code",
   "execution_count": 3,
   "id": "b80f2a10",
   "metadata": {
    "execution": {
     "iopub.execute_input": "2021-04-04T23:25:21.429421Z",
     "iopub.status.busy": "2021-04-04T23:25:21.428422Z",
     "iopub.status.idle": "2021-04-04T23:25:21.434078Z",
     "shell.execute_reply": "2021-04-04T23:25:21.435331Z"
    },
    "papermill": {
     "duration": 0.049431,
     "end_time": "2021-04-04T23:25:21.435937",
     "exception": false,
     "start_time": "2021-04-04T23:25:21.386506",
     "status": "completed"
    },
    "tags": []
   },
   "outputs": [],
   "source": [
    "import json\n",
    "\n",
    "\n",
    "with open(DATASET_CONFIG_PATH) as f:\n",
    "    dataset_config = json.load(f)\n",
    "\n",
    "with open(MODEL_CONFIG_PATH) as f:\n",
    "    model_config = json.load(f)"
   ]
  },
  {
   "cell_type": "markdown",
   "id": "9a4b0e2d",
   "metadata": {
    "papermill": {
     "duration": 0.023702,
     "end_time": "2021-04-04T23:25:21.493833",
     "exception": false,
     "start_time": "2021-04-04T23:25:21.470131",
     "status": "completed"
    },
    "tags": []
   },
   "source": [
    "# Profiling"
   ]
  },
  {
   "cell_type": "code",
   "execution_count": 4,
   "id": "a3e0289b",
   "metadata": {
    "execution": {
     "iopub.execute_input": "2021-04-04T23:25:21.550142Z",
     "iopub.status.busy": "2021-04-04T23:25:21.549331Z",
     "iopub.status.idle": "2021-04-04T23:25:23.320352Z",
     "shell.execute_reply": "2021-04-04T23:25:23.320900Z"
    },
    "papermill": {
     "duration": 1.803705,
     "end_time": "2021-04-04T23:25:23.321065",
     "exception": false,
     "start_time": "2021-04-04T23:25:21.517360",
     "status": "completed"
    },
    "tags": []
   },
   "outputs": [],
   "source": [
    "import pandas as pd\n",
    "from pandas_profiling import ProfileReport"
   ]
  },
  {
   "cell_type": "code",
   "execution_count": 5,
   "id": "ee6c0666",
   "metadata": {
    "execution": {
     "iopub.execute_input": "2021-04-04T23:25:23.386338Z",
     "iopub.status.busy": "2021-04-04T23:25:23.385092Z",
     "iopub.status.idle": "2021-04-04T23:25:23.398820Z",
     "shell.execute_reply": "2021-04-04T23:25:23.400345Z"
    },
    "papermill": {
     "duration": 0.050026,
     "end_time": "2021-04-04T23:25:23.400801",
     "exception": false,
     "start_time": "2021-04-04T23:25:23.350775",
     "status": "completed"
    },
    "tags": []
   },
   "outputs": [],
   "source": [
    "df = pd.read_csv(dataset_config['dataset_path'])"
   ]
  },
  {
   "cell_type": "code",
   "execution_count": 6,
   "id": "7eca6c4a",
   "metadata": {
    "execution": {
     "iopub.execute_input": "2021-04-04T23:25:23.465676Z",
     "iopub.status.busy": "2021-04-04T23:25:23.456708Z",
     "iopub.status.idle": "2021-04-04T23:25:23.468141Z",
     "shell.execute_reply": "2021-04-04T23:25:23.468617Z"
    },
    "papermill": {
     "duration": 0.044823,
     "end_time": "2021-04-04T23:25:23.468764",
     "exception": false,
     "start_time": "2021-04-04T23:25:23.423941",
     "status": "completed"
    },
    "tags": []
   },
   "outputs": [
    {
     "name": "stdout",
     "output_type": "stream",
     "text": [
      "<class 'pandas.core.frame.DataFrame'>\n",
      "RangeIndex: 498 entries, 0 to 497\n",
      "Data columns (total 23 columns):\n",
      " #   Column             Non-Null Count  Dtype  \n",
      "---  ------             --------------  -----  \n",
      " 0   id                 498 non-null    int64  \n",
      " 1   loc                498 non-null    float64\n",
      " 2   v(g)               498 non-null    float64\n",
      " 3   ev(g)              498 non-null    float64\n",
      " 4   iv(g)              498 non-null    float64\n",
      " 5   n                  498 non-null    float64\n",
      " 6   v                  498 non-null    float64\n",
      " 7   l                  498 non-null    float64\n",
      " 8   d                  498 non-null    float64\n",
      " 9   i                  498 non-null    float64\n",
      " 10  e                  498 non-null    float64\n",
      " 11  b                  498 non-null    float64\n",
      " 12  t                  498 non-null    float64\n",
      " 13  lOCode             498 non-null    int64  \n",
      " 14  lOComment          498 non-null    int64  \n",
      " 15  lOBlank            498 non-null    int64  \n",
      " 16  locCodeAndComment  498 non-null    int64  \n",
      " 17  uniq_Op            498 non-null    float64\n",
      " 18  uniq_Opnd          498 non-null    float64\n",
      " 19  total_Op           498 non-null    float64\n",
      " 20  total_Opnd         498 non-null    float64\n",
      " 21  branchCount        498 non-null    float64\n",
      " 22  defects            498 non-null    bool   \n",
      "dtypes: bool(1), float64(17), int64(5)\n",
      "memory usage: 86.2 KB\n"
     ]
    }
   ],
   "source": [
    "df.info()"
   ]
  },
  {
   "cell_type": "code",
   "execution_count": 7,
   "id": "3638e5e8",
   "metadata": {
    "execution": {
     "iopub.execute_input": "2021-04-04T23:25:23.528322Z",
     "iopub.status.busy": "2021-04-04T23:25:23.527550Z",
     "iopub.status.idle": "2021-04-04T23:25:23.560073Z",
     "shell.execute_reply": "2021-04-04T23:25:23.559535Z"
    },
    "papermill": {
     "duration": 0.066611,
     "end_time": "2021-04-04T23:25:23.560222",
     "exception": false,
     "start_time": "2021-04-04T23:25:23.493611",
     "status": "completed"
    },
    "tags": []
   },
   "outputs": [
    {
     "data": {
      "text/html": [
       "<div>\n",
       "<style scoped>\n",
       "    .dataframe tbody tr th:only-of-type {\n",
       "        vertical-align: middle;\n",
       "    }\n",
       "\n",
       "    .dataframe tbody tr th {\n",
       "        vertical-align: top;\n",
       "    }\n",
       "\n",
       "    .dataframe thead th {\n",
       "        text-align: right;\n",
       "    }\n",
       "</style>\n",
       "<table border=\"1\" class=\"dataframe\">\n",
       "  <thead>\n",
       "    <tr style=\"text-align: right;\">\n",
       "      <th></th>\n",
       "      <th>id</th>\n",
       "      <th>loc</th>\n",
       "      <th>v(g)</th>\n",
       "      <th>ev(g)</th>\n",
       "      <th>iv(g)</th>\n",
       "      <th>n</th>\n",
       "      <th>v</th>\n",
       "      <th>l</th>\n",
       "      <th>d</th>\n",
       "      <th>i</th>\n",
       "      <th>...</th>\n",
       "      <th>lOCode</th>\n",
       "      <th>lOComment</th>\n",
       "      <th>lOBlank</th>\n",
       "      <th>locCodeAndComment</th>\n",
       "      <th>uniq_Op</th>\n",
       "      <th>uniq_Opnd</th>\n",
       "      <th>total_Op</th>\n",
       "      <th>total_Opnd</th>\n",
       "      <th>branchCount</th>\n",
       "      <th>defects</th>\n",
       "    </tr>\n",
       "  </thead>\n",
       "  <tbody>\n",
       "    <tr>\n",
       "      <th>0</th>\n",
       "      <td>1</td>\n",
       "      <td>1.1</td>\n",
       "      <td>1.4</td>\n",
       "      <td>1.4</td>\n",
       "      <td>1.4</td>\n",
       "      <td>1.3</td>\n",
       "      <td>1.30</td>\n",
       "      <td>1.30</td>\n",
       "      <td>1.30</td>\n",
       "      <td>1.30</td>\n",
       "      <td>...</td>\n",
       "      <td>2</td>\n",
       "      <td>2</td>\n",
       "      <td>2</td>\n",
       "      <td>2</td>\n",
       "      <td>1.2</td>\n",
       "      <td>1.2</td>\n",
       "      <td>1.2</td>\n",
       "      <td>1.2</td>\n",
       "      <td>1.4</td>\n",
       "      <td>False</td>\n",
       "    </tr>\n",
       "    <tr>\n",
       "      <th>1</th>\n",
       "      <td>2</td>\n",
       "      <td>1.0</td>\n",
       "      <td>1.0</td>\n",
       "      <td>1.0</td>\n",
       "      <td>1.0</td>\n",
       "      <td>1.0</td>\n",
       "      <td>1.00</td>\n",
       "      <td>1.00</td>\n",
       "      <td>1.00</td>\n",
       "      <td>1.00</td>\n",
       "      <td>...</td>\n",
       "      <td>1</td>\n",
       "      <td>1</td>\n",
       "      <td>1</td>\n",
       "      <td>1</td>\n",
       "      <td>1.0</td>\n",
       "      <td>1.0</td>\n",
       "      <td>1.0</td>\n",
       "      <td>1.0</td>\n",
       "      <td>1.0</td>\n",
       "      <td>True</td>\n",
       "    </tr>\n",
       "    <tr>\n",
       "      <th>2</th>\n",
       "      <td>3</td>\n",
       "      <td>24.0</td>\n",
       "      <td>5.0</td>\n",
       "      <td>1.0</td>\n",
       "      <td>3.0</td>\n",
       "      <td>63.0</td>\n",
       "      <td>309.13</td>\n",
       "      <td>0.11</td>\n",
       "      <td>9.50</td>\n",
       "      <td>32.54</td>\n",
       "      <td>...</td>\n",
       "      <td>1</td>\n",
       "      <td>0</td>\n",
       "      <td>6</td>\n",
       "      <td>0</td>\n",
       "      <td>15.0</td>\n",
       "      <td>15.0</td>\n",
       "      <td>44.0</td>\n",
       "      <td>19.0</td>\n",
       "      <td>9.0</td>\n",
       "      <td>False</td>\n",
       "    </tr>\n",
       "    <tr>\n",
       "      <th>3</th>\n",
       "      <td>4</td>\n",
       "      <td>20.0</td>\n",
       "      <td>4.0</td>\n",
       "      <td>4.0</td>\n",
       "      <td>2.0</td>\n",
       "      <td>47.0</td>\n",
       "      <td>215.49</td>\n",
       "      <td>0.06</td>\n",
       "      <td>16.00</td>\n",
       "      <td>13.47</td>\n",
       "      <td>...</td>\n",
       "      <td>0</td>\n",
       "      <td>0</td>\n",
       "      <td>3</td>\n",
       "      <td>0</td>\n",
       "      <td>16.0</td>\n",
       "      <td>8.0</td>\n",
       "      <td>31.0</td>\n",
       "      <td>16.0</td>\n",
       "      <td>7.0</td>\n",
       "      <td>False</td>\n",
       "    </tr>\n",
       "    <tr>\n",
       "      <th>4</th>\n",
       "      <td>5</td>\n",
       "      <td>24.0</td>\n",
       "      <td>6.0</td>\n",
       "      <td>6.0</td>\n",
       "      <td>2.0</td>\n",
       "      <td>72.0</td>\n",
       "      <td>346.13</td>\n",
       "      <td>0.06</td>\n",
       "      <td>17.33</td>\n",
       "      <td>19.97</td>\n",
       "      <td>...</td>\n",
       "      <td>0</td>\n",
       "      <td>0</td>\n",
       "      <td>3</td>\n",
       "      <td>0</td>\n",
       "      <td>16.0</td>\n",
       "      <td>12.0</td>\n",
       "      <td>46.0</td>\n",
       "      <td>26.0</td>\n",
       "      <td>11.0</td>\n",
       "      <td>False</td>\n",
       "    </tr>\n",
       "  </tbody>\n",
       "</table>\n",
       "<p>5 rows × 23 columns</p>\n",
       "</div>"
      ],
      "text/plain": [
       "   id   loc  v(g)  ev(g)  iv(g)     n       v     l      d      i  ...  \\\n",
       "0   1   1.1   1.4    1.4    1.4   1.3    1.30  1.30   1.30   1.30  ...   \n",
       "1   2   1.0   1.0    1.0    1.0   1.0    1.00  1.00   1.00   1.00  ...   \n",
       "2   3  24.0   5.0    1.0    3.0  63.0  309.13  0.11   9.50  32.54  ...   \n",
       "3   4  20.0   4.0    4.0    2.0  47.0  215.49  0.06  16.00  13.47  ...   \n",
       "4   5  24.0   6.0    6.0    2.0  72.0  346.13  0.06  17.33  19.97  ...   \n",
       "\n",
       "   lOCode  lOComment  lOBlank  locCodeAndComment  uniq_Op  uniq_Opnd  \\\n",
       "0       2          2        2                  2      1.2        1.2   \n",
       "1       1          1        1                  1      1.0        1.0   \n",
       "2       1          0        6                  0     15.0       15.0   \n",
       "3       0          0        3                  0     16.0        8.0   \n",
       "4       0          0        3                  0     16.0       12.0   \n",
       "\n",
       "   total_Op  total_Opnd  branchCount  defects  \n",
       "0       1.2         1.2          1.4    False  \n",
       "1       1.0         1.0          1.0     True  \n",
       "2      44.0        19.0          9.0    False  \n",
       "3      31.0        16.0          7.0    False  \n",
       "4      46.0        26.0         11.0    False  \n",
       "\n",
       "[5 rows x 23 columns]"
      ]
     },
     "execution_count": 7,
     "metadata": {},
     "output_type": "execute_result"
    }
   ],
   "source": [
    "df.head()"
   ]
  },
  {
   "cell_type": "code",
   "execution_count": 8,
   "id": "733e95eb",
   "metadata": {
    "execution": {
     "iopub.execute_input": "2021-04-04T23:25:23.632791Z",
     "iopub.status.busy": "2021-04-04T23:25:23.631780Z",
     "iopub.status.idle": "2021-04-04T23:25:23.638459Z",
     "shell.execute_reply": "2021-04-04T23:25:23.636644Z"
    },
    "papermill": {
     "duration": 0.040178,
     "end_time": "2021-04-04T23:25:23.638652",
     "exception": false,
     "start_time": "2021-04-04T23:25:23.598474",
     "status": "completed"
    },
    "tags": []
   },
   "outputs": [],
   "source": [
    "del df['id']"
   ]
  },
  {
   "cell_type": "code",
   "execution_count": 9,
   "id": "6ff6f5b0",
   "metadata": {
    "execution": {
     "iopub.execute_input": "2021-04-04T23:25:23.727865Z",
     "iopub.status.busy": "2021-04-04T23:25:23.726785Z",
     "iopub.status.idle": "2021-04-04T23:25:23.730261Z",
     "shell.execute_reply": "2021-04-04T23:25:23.729663Z"
    },
    "papermill": {
     "duration": 0.053515,
     "end_time": "2021-04-04T23:25:23.730401",
     "exception": false,
     "start_time": "2021-04-04T23:25:23.676886",
     "status": "completed"
    },
    "tags": []
   },
   "outputs": [],
   "source": [
    "if PROFILE_REPORTING:\n",
    "    ProfileReport(df).to_widgets()"
   ]
  },
  {
   "cell_type": "markdown",
   "id": "1deaf3f0",
   "metadata": {
    "papermill": {
     "duration": 0.029608,
     "end_time": "2021-04-04T23:25:23.793631",
     "exception": false,
     "start_time": "2021-04-04T23:25:23.764023",
     "status": "completed"
    },
    "tags": []
   },
   "source": [
    "# Preprocess"
   ]
  },
  {
   "cell_type": "code",
   "execution_count": 10,
   "id": "1513e563",
   "metadata": {
    "execution": {
     "iopub.execute_input": "2021-04-04T23:25:23.846147Z",
     "iopub.status.busy": "2021-04-04T23:25:23.845481Z",
     "iopub.status.idle": "2021-04-04T23:25:23.848987Z",
     "shell.execute_reply": "2021-04-04T23:25:23.848362Z"
    },
    "papermill": {
     "duration": 0.029997,
     "end_time": "2021-04-04T23:25:23.849137",
     "exception": false,
     "start_time": "2021-04-04T23:25:23.819140",
     "status": "completed"
    },
    "tags": []
   },
   "outputs": [],
   "source": [
    "working_df = df.copy()"
   ]
  },
  {
   "cell_type": "code",
   "execution_count": 11,
   "id": "3b26d675",
   "metadata": {
    "execution": {
     "iopub.execute_input": "2021-04-04T23:25:23.909931Z",
     "iopub.status.busy": "2021-04-04T23:25:23.909090Z",
     "iopub.status.idle": "2021-04-04T23:25:23.911380Z",
     "shell.execute_reply": "2021-04-04T23:25:23.911961Z"
    },
    "papermill": {
     "duration": 0.038942,
     "end_time": "2021-04-04T23:25:23.912146",
     "exception": false,
     "start_time": "2021-04-04T23:25:23.873204",
     "status": "completed"
    },
    "tags": []
   },
   "outputs": [],
   "source": [
    "working_df['defects'] = working_df['defects'].replace([False, True], [0, 1])"
   ]
  },
  {
   "cell_type": "code",
   "execution_count": 12,
   "id": "eb48604f",
   "metadata": {
    "execution": {
     "iopub.execute_input": "2021-04-04T23:25:23.964190Z",
     "iopub.status.busy": "2021-04-04T23:25:23.963346Z",
     "iopub.status.idle": "2021-04-04T23:25:23.965387Z",
     "shell.execute_reply": "2021-04-04T23:25:23.965864Z"
    },
    "papermill": {
     "duration": 0.030805,
     "end_time": "2021-04-04T23:25:23.966010",
     "exception": false,
     "start_time": "2021-04-04T23:25:23.935205",
     "status": "completed"
    },
    "tags": []
   },
   "outputs": [],
   "source": [
    "for col in dataset_config['delete_columns']:\n",
    "    del working_df[col]"
   ]
  },
  {
   "cell_type": "code",
   "execution_count": 13,
   "id": "9a17bc29",
   "metadata": {
    "execution": {
     "iopub.execute_input": "2021-04-04T23:25:24.024916Z",
     "iopub.status.busy": "2021-04-04T23:25:24.024071Z",
     "iopub.status.idle": "2021-04-04T23:25:24.034287Z",
     "shell.execute_reply": "2021-04-04T23:25:24.034872Z"
    },
    "papermill": {
     "duration": 0.04479,
     "end_time": "2021-04-04T23:25:24.035102",
     "exception": false,
     "start_time": "2021-04-04T23:25:23.990312",
     "status": "completed"
    },
    "tags": []
   },
   "outputs": [],
   "source": [
    "working_df = working_df.drop_duplicates()"
   ]
  },
  {
   "cell_type": "markdown",
   "id": "a4d52ca6",
   "metadata": {
    "papermill": {
     "duration": 0.024453,
     "end_time": "2021-04-04T23:25:24.081901",
     "exception": false,
     "start_time": "2021-04-04T23:25:24.057448",
     "status": "completed"
    },
    "tags": []
   },
   "source": [
    "# Split"
   ]
  },
  {
   "cell_type": "code",
   "execution_count": 14,
   "id": "3e9ee4b5",
   "metadata": {
    "execution": {
     "iopub.execute_input": "2021-04-04T23:25:24.135953Z",
     "iopub.status.busy": "2021-04-04T23:25:24.135306Z",
     "iopub.status.idle": "2021-04-04T23:25:24.167806Z",
     "shell.execute_reply": "2021-04-04T23:25:24.167202Z"
    },
    "papermill": {
     "duration": 0.063352,
     "end_time": "2021-04-04T23:25:24.167926",
     "exception": false,
     "start_time": "2021-04-04T23:25:24.104574",
     "status": "completed"
    },
    "tags": []
   },
   "outputs": [],
   "source": [
    "from sklearn.model_selection import train_test_split"
   ]
  },
  {
   "cell_type": "code",
   "execution_count": 15,
   "id": "274004ce",
   "metadata": {
    "execution": {
     "iopub.execute_input": "2021-04-04T23:25:24.222611Z",
     "iopub.status.busy": "2021-04-04T23:25:24.220652Z",
     "iopub.status.idle": "2021-04-04T23:25:24.227190Z",
     "shell.execute_reply": "2021-04-04T23:25:24.226565Z"
    },
    "papermill": {
     "duration": 0.035649,
     "end_time": "2021-04-04T23:25:24.227332",
     "exception": false,
     "start_time": "2021-04-04T23:25:24.191683",
     "status": "completed"
    },
    "scrolled": true,
    "tags": []
   },
   "outputs": [],
   "source": [
    "inlier, outlier = working_df[working_df['defects'] == 0], working_df[working_df['defects'] == 1]"
   ]
  },
  {
   "cell_type": "code",
   "execution_count": 16,
   "id": "753c7b03",
   "metadata": {
    "execution": {
     "iopub.execute_input": "2021-04-04T23:25:24.287579Z",
     "iopub.status.busy": "2021-04-04T23:25:24.286833Z",
     "iopub.status.idle": "2021-04-04T23:25:24.288664Z",
     "shell.execute_reply": "2021-04-04T23:25:24.289135Z"
    },
    "papermill": {
     "duration": 0.037784,
     "end_time": "2021-04-04T23:25:24.289279",
     "exception": false,
     "start_time": "2021-04-04T23:25:24.251495",
     "status": "completed"
    },
    "tags": []
   },
   "outputs": [],
   "source": [
    "X_inlier = inlier.copy()\n",
    "y_inlier = X_inlier.pop('defects')\n",
    "X_outlier = outlier.copy()\n",
    "y_outlier = X_outlier.pop('defects')"
   ]
  },
  {
   "cell_type": "code",
   "execution_count": 17,
   "id": "2ba43193",
   "metadata": {
    "execution": {
     "iopub.execute_input": "2021-04-04T23:25:24.348204Z",
     "iopub.status.busy": "2021-04-04T23:25:24.347148Z",
     "iopub.status.idle": "2021-04-04T23:25:24.357914Z",
     "shell.execute_reply": "2021-04-04T23:25:24.356867Z"
    },
    "papermill": {
     "duration": 0.046314,
     "end_time": "2021-04-04T23:25:24.358209",
     "exception": false,
     "start_time": "2021-04-04T23:25:24.311895",
     "status": "completed"
    },
    "tags": []
   },
   "outputs": [],
   "source": [
    "test_size = dataset_config['test_size']\n",
    "random_state = dataset_config['random_state']\n",
    "\n",
    "X_inlier_train, X_inlier_test, y_inlier_train, y_inlier_test = train_test_split(\n",
    "    X_inlier,\n",
    "    y_inlier,\n",
    "    test_size=test_size,\n",
    "    random_state=random_state\n",
    ")"
   ]
  },
  {
   "cell_type": "code",
   "execution_count": 18,
   "id": "0b7582ca",
   "metadata": {
    "execution": {
     "iopub.execute_input": "2021-04-04T23:25:24.436434Z",
     "iopub.status.busy": "2021-04-04T23:25:24.435222Z",
     "iopub.status.idle": "2021-04-04T23:25:24.439380Z",
     "shell.execute_reply": "2021-04-04T23:25:24.438760Z"
    },
    "papermill": {
     "duration": 0.050704,
     "end_time": "2021-04-04T23:25:24.439527",
     "exception": false,
     "start_time": "2021-04-04T23:25:24.388823",
     "status": "completed"
    },
    "tags": []
   },
   "outputs": [],
   "source": [
    "test_outlier_size = dataset_config['test_outlier_size']\n",
    "if test_outlier_size > 0.0:\n",
    "    X_outlier_train, X_outlier_test, y_outlier_train, y_outlier_test = train_test_split(\n",
    "        X_outlier,\n",
    "        y_outlier,\n",
    "        test_size=test_outlier_size,\n",
    "        random_state=random_state\n",
    "    )\n",
    "else:\n",
    "    X_outlier_train, y_outlier_train = pd.DataFrame(columns=X_outlier.columns), pd.Series(dtype='int64')\n",
    "    X_outlier_test, y_outlier_test = X_outlier.copy(), y_outlier.copy()"
   ]
  },
  {
   "cell_type": "code",
   "execution_count": 19,
   "id": "c34363db",
   "metadata": {
    "execution": {
     "iopub.execute_input": "2021-04-04T23:25:24.504951Z",
     "iopub.status.busy": "2021-04-04T23:25:24.504115Z",
     "iopub.status.idle": "2021-04-04T23:25:24.505604Z",
     "shell.execute_reply": "2021-04-04T23:25:24.506172Z"
    },
    "papermill": {
     "duration": 0.038143,
     "end_time": "2021-04-04T23:25:24.506330",
     "exception": false,
     "start_time": "2021-04-04T23:25:24.468187",
     "status": "completed"
    },
    "tags": []
   },
   "outputs": [],
   "source": [
    "X_train, y_train = pd.concat([X_inlier_train, X_outlier_train], ignore_index=True), pd.concat([y_inlier_train, y_outlier_train], ignore_index=True)\n",
    "X_test, y_test = pd.concat([X_inlier_test, X_outlier_test], ignore_index=True), pd.concat([y_inlier_test, y_outlier_test], ignore_index=True)"
   ]
  },
  {
   "cell_type": "markdown",
   "id": "7cde7309",
   "metadata": {
    "papermill": {
     "duration": 0.031494,
     "end_time": "2021-04-04T23:25:24.561683",
     "exception": false,
     "start_time": "2021-04-04T23:25:24.530189",
     "status": "completed"
    },
    "tags": []
   },
   "source": [
    "# Model"
   ]
  },
  {
   "cell_type": "code",
   "execution_count": 20,
   "id": "2b12a415",
   "metadata": {
    "execution": {
     "iopub.execute_input": "2021-04-04T23:25:24.623529Z",
     "iopub.status.busy": "2021-04-04T23:25:24.622746Z",
     "iopub.status.idle": "2021-04-04T23:25:24.625362Z",
     "shell.execute_reply": "2021-04-04T23:25:24.625865Z"
    },
    "papermill": {
     "duration": 0.036987,
     "end_time": "2021-04-04T23:25:24.626005",
     "exception": false,
     "start_time": "2021-04-04T23:25:24.589018",
     "status": "completed"
    },
    "tags": []
   },
   "outputs": [],
   "source": [
    "from math import sqrt\n",
    "\n",
    "\n",
    "class KNNDataDescription:\n",
    "    def __init__(self, k=5, outlier_threshold=1.0):\n",
    "        self.k = k\n",
    "        self.outlier_threshold = outlier_threshold\n",
    "        self.X = []\n",
    "    \n",
    "    def fit(self, X):\n",
    "        self.X = [features.to_list() for index, features in X.iterrows()]\n",
    "\n",
    "    def predict(self, entries):\n",
    "        return [self.predict_entry(features.to_list()) for index, features in entries.iterrows()]\n",
    "    \n",
    "    def predict_entry(self, entry):\n",
    "        kth_neighbor, kth_distance = self.get_kth_neighbor(entry, self.k)\n",
    "        kth_kth_neighbor, kth_kth_distance = self.get_kth_neighbor(kth_neighbor, self.k + 1)\n",
    "\n",
    "        outlier_score = kth_distance / (kth_kth_distance + 0.000001)\n",
    "\n",
    "        return 1 if outlier_score < self.outlier_threshold else -1\n",
    "        \n",
    "    def euclidean_distance(self, features1, features2):\n",
    "        distance = 0.0\n",
    "        for feat1, feat2 in zip(features1, features2):\n",
    "            distance += (feat1 - feat2)**2\n",
    "                \n",
    "        return sqrt(distance)\n",
    "\n",
    "    def get_neighbors(self, entry, k):\n",
    "        distance_to_data_points = [\n",
    "            (data_point, self.euclidean_distance(entry, data_point))\n",
    "            for data_point in self.X\n",
    "        ]\n",
    "        sorted_by_distance = sorted(distance_to_data_points, key=lambda tup: tup[1])\n",
    "        neighbors = sorted_by_distance[:k]\n",
    "        return neighbors\n",
    "\n",
    "    def get_kth_neighbor(self, entry, k):\n",
    "        neighbors = self.get_neighbors(entry, k)\n",
    "        return neighbors[-1]\n"
   ]
  },
  {
   "cell_type": "code",
   "execution_count": 21,
   "id": "1fa9ec1c",
   "metadata": {
    "execution": {
     "iopub.execute_input": "2021-04-04T23:25:24.685146Z",
     "iopub.status.busy": "2021-04-04T23:25:24.684306Z",
     "iopub.status.idle": "2021-04-04T23:25:24.710581Z",
     "shell.execute_reply": "2021-04-04T23:25:24.711195Z"
    },
    "papermill": {
     "duration": 0.0603,
     "end_time": "2021-04-04T23:25:24.711419",
     "exception": false,
     "start_time": "2021-04-04T23:25:24.651119",
     "status": "completed"
    },
    "tags": []
   },
   "outputs": [],
   "source": [
    "from sklearn.svm import OneClassSVM\n",
    "\n",
    "\n",
    "models = {\n",
    "    'oneclasssvm': OneClassSVM,\n",
    "    'knndatadescription': KNNDataDescription,\n",
    "}"
   ]
  },
  {
   "cell_type": "code",
   "execution_count": 22,
   "id": "4d72a0b1",
   "metadata": {
    "execution": {
     "iopub.execute_input": "2021-04-04T23:25:24.774508Z",
     "iopub.status.busy": "2021-04-04T23:25:24.773921Z",
     "iopub.status.idle": "2021-04-04T23:25:24.776337Z",
     "shell.execute_reply": "2021-04-04T23:25:24.776962Z"
    },
    "papermill": {
     "duration": 0.031651,
     "end_time": "2021-04-04T23:25:24.777148",
     "exception": false,
     "start_time": "2021-04-04T23:25:24.745497",
     "status": "completed"
    },
    "scrolled": true,
    "tags": []
   },
   "outputs": [],
   "source": [
    "model_cls = models[model_config['model_type']]\n",
    "model = model_cls(**model_config['hyperparameters'])"
   ]
  },
  {
   "cell_type": "markdown",
   "id": "e00cff3b",
   "metadata": {
    "papermill": {
     "duration": 0.025148,
     "end_time": "2021-04-04T23:25:24.829345",
     "exception": false,
     "start_time": "2021-04-04T23:25:24.804197",
     "status": "completed"
    },
    "tags": []
   },
   "source": [
    "# Fit"
   ]
  },
  {
   "cell_type": "code",
   "execution_count": 23,
   "id": "8b2ded89",
   "metadata": {
    "execution": {
     "iopub.execute_input": "2021-04-04T23:25:24.882818Z",
     "iopub.status.busy": "2021-04-04T23:25:24.882036Z",
     "iopub.status.idle": "2021-04-04T23:25:24.906785Z",
     "shell.execute_reply": "2021-04-04T23:25:24.906250Z"
    },
    "papermill": {
     "duration": 0.051262,
     "end_time": "2021-04-04T23:25:24.906899",
     "exception": false,
     "start_time": "2021-04-04T23:25:24.855637",
     "status": "completed"
    },
    "tags": []
   },
   "outputs": [],
   "source": [
    "model.fit(X_train)"
   ]
  },
  {
   "cell_type": "markdown",
   "id": "f99999f7",
   "metadata": {
    "papermill": {
     "duration": 0.026835,
     "end_time": "2021-04-04T23:25:24.957109",
     "exception": false,
     "start_time": "2021-04-04T23:25:24.930274",
     "status": "completed"
    },
    "tags": []
   },
   "source": [
    "# Predict"
   ]
  },
  {
   "cell_type": "code",
   "execution_count": 24,
   "id": "6536fbf7",
   "metadata": {
    "execution": {
     "iopub.execute_input": "2021-04-04T23:25:25.022567Z",
     "iopub.status.busy": "2021-04-04T23:25:25.021974Z",
     "iopub.status.idle": "2021-04-04T23:25:25.316786Z",
     "shell.execute_reply": "2021-04-04T23:25:25.315728Z"
    },
    "papermill": {
     "duration": 0.334182,
     "end_time": "2021-04-04T23:25:25.317040",
     "exception": false,
     "start_time": "2021-04-04T23:25:24.982858",
     "status": "completed"
    },
    "tags": []
   },
   "outputs": [],
   "source": [
    "predictions = model.predict(X_test)"
   ]
  },
  {
   "cell_type": "markdown",
   "id": "aa1c9881",
   "metadata": {
    "papermill": {
     "duration": 0.033116,
     "end_time": "2021-04-04T23:25:25.382242",
     "exception": false,
     "start_time": "2021-04-04T23:25:25.349126",
     "status": "completed"
    },
    "tags": []
   },
   "source": [
    "# Evaluate"
   ]
  },
  {
   "cell_type": "code",
   "execution_count": 25,
   "id": "894f0f04",
   "metadata": {
    "execution": {
     "iopub.execute_input": "2021-04-04T23:25:25.444982Z",
     "iopub.status.busy": "2021-04-04T23:25:25.444049Z",
     "iopub.status.idle": "2021-04-04T23:25:25.446402Z",
     "shell.execute_reply": "2021-04-04T23:25:25.447019Z"
    },
    "papermill": {
     "duration": 0.033922,
     "end_time": "2021-04-04T23:25:25.447204",
     "exception": false,
     "start_time": "2021-04-04T23:25:25.413282",
     "status": "completed"
    },
    "tags": []
   },
   "outputs": [],
   "source": [
    "from sklearn.metrics import f1_score"
   ]
  },
  {
   "cell_type": "code",
   "execution_count": 26,
   "id": "211744d3",
   "metadata": {
    "execution": {
     "iopub.execute_input": "2021-04-04T23:25:25.509681Z",
     "iopub.status.busy": "2021-04-04T23:25:25.508576Z",
     "iopub.status.idle": "2021-04-04T23:25:25.511032Z",
     "shell.execute_reply": "2021-04-04T23:25:25.511591Z"
    },
    "papermill": {
     "duration": 0.03868,
     "end_time": "2021-04-04T23:25:25.511760",
     "exception": false,
     "start_time": "2021-04-04T23:25:25.473080",
     "status": "completed"
    },
    "tags": []
   },
   "outputs": [],
   "source": [
    "y_test = y_test.replace([0, 1], [1, -1])"
   ]
  },
  {
   "cell_type": "code",
   "execution_count": 27,
   "id": "d68a9204",
   "metadata": {
    "execution": {
     "iopub.execute_input": "2021-04-04T23:25:25.570698Z",
     "iopub.status.busy": "2021-04-04T23:25:25.569970Z",
     "iopub.status.idle": "2021-04-04T23:25:25.571721Z",
     "shell.execute_reply": "2021-04-04T23:25:25.572200Z"
    },
    "papermill": {
     "duration": 0.036248,
     "end_time": "2021-04-04T23:25:25.572343",
     "exception": false,
     "start_time": "2021-04-04T23:25:25.536095",
     "status": "completed"
    },
    "tags": []
   },
   "outputs": [],
   "source": [
    "def evaluate(truths, predictions, pos_label, neg_label):\n",
    "    TP = 0\n",
    "    FP = 0\n",
    "    TN = 0\n",
    "    FN = 0\n",
    "\n",
    "    for truth, pred in zip(truths, predictions): \n",
    "        if truth == pred == pos_label:\n",
    "           TP += 1\n",
    "        elif pred == pos_label and truth == neg_label:\n",
    "           FP += 1\n",
    "        elif truth == pred == neg_label:\n",
    "           TN += 1\n",
    "        elif pred == neg_label and truth == pos_label:\n",
    "           FN += 1\n",
    "\n",
    "    precision = TP / (TP + FP)\n",
    "    sensitivity = TP / (TP + FN)\n",
    "    \n",
    "    return {\n",
    "        'true_pos': TP,\n",
    "        'false_pos': FP,\n",
    "        'false_neg': FN,\n",
    "        'true_neg': TN,\n",
    "        'precision': precision,\n",
    "        'sensitivity': sensitivity,\n",
    "        'f1': (2 * (precision * sensitivity)) / (precision + sensitivity)\n",
    "    }\n",
    "\n",
    "score = evaluate(y_test, predictions, pos_label=-1, neg_label=1)"
   ]
  },
  {
   "cell_type": "markdown",
   "id": "93596516",
   "metadata": {
    "papermill": {
     "duration": 0.027288,
     "end_time": "2021-04-04T23:25:25.623595",
     "exception": false,
     "start_time": "2021-04-04T23:25:25.596307",
     "status": "completed"
    },
    "tags": []
   },
   "source": [
    "# Report"
   ]
  },
  {
   "cell_type": "code",
   "execution_count": 28,
   "id": "bea5fba1",
   "metadata": {
    "execution": {
     "iopub.execute_input": "2021-04-04T23:25:25.682062Z",
     "iopub.status.busy": "2021-04-04T23:25:25.681349Z",
     "iopub.status.idle": "2021-04-04T23:25:25.683015Z",
     "shell.execute_reply": "2021-04-04T23:25:25.683545Z"
    },
    "papermill": {
     "duration": 0.033885,
     "end_time": "2021-04-04T23:25:25.683689",
     "exception": false,
     "start_time": "2021-04-04T23:25:25.649804",
     "status": "completed"
    },
    "tags": []
   },
   "outputs": [],
   "source": [
    "import csv\n",
    "\n",
    "\n",
    "dataset_config_name = DATASET_CONFIG_PATH.split('/')[-1].split('.')[0]\n",
    "model_config_name = MODEL_CONFIG_PATH.split('/')[-1].split('.')[0]\n",
    "configuration = f\"dataset_{dataset_config_name}-model_{model_config_name}\"\n",
    "\n",
    "with open('results.csv', 'a') as f:\n",
    "    report = dict({'configuration': configuration}, **score)\n",
    "    writer = csv.DictWriter(f, report.keys())\n",
    "    writer.writerow(report)"
   ]
  }
 ],
 "metadata": {
  "celltoolbar": "Tags",
  "kernelspec": {
   "display_name": "Python 3",
   "language": "python",
   "name": "python3"
  },
  "language_info": {
   "codemirror_mode": {
    "name": "ipython",
    "version": 3
   },
   "file_extension": ".py",
   "mimetype": "text/x-python",
   "name": "python",
   "nbconvert_exporter": "python",
   "pygments_lexer": "ipython3",
   "version": "3.9.1"
  },
  "papermill": {
   "default_parameters": {},
   "duration": 7.058358,
   "end_time": "2021-04-04T23:25:27.285952",
   "environment_variables": {},
   "exception": null,
   "input_path": "main.ipynb",
   "output_path": "runs/dataset_000131-model_000002.ipynb",
   "parameters": {
    "DATASET_CONFIG_PATH": "config/dataset/000131.json",
    "MODEL_CONFIG_PATH": "config/model/000002.json",
    "PROFILE_REPORTING": false
   },
   "start_time": "2021-04-04T23:25:20.227594",
   "version": "2.3.3"
  }
 },
 "nbformat": 4,
 "nbformat_minor": 5
}