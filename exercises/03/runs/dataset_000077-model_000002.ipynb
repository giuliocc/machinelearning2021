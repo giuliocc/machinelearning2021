{
 "cells": [
  {
   "cell_type": "markdown",
   "id": "51c71c25",
   "metadata": {
    "papermill": {
     "duration": 0.029564,
     "end_time": "2021-04-04T23:03:31.760044",
     "exception": false,
     "start_time": "2021-04-04T23:03:31.730480",
     "status": "completed"
    },
    "tags": []
   },
   "source": [
    "# Parametrizing"
   ]
  },
  {
   "cell_type": "code",
   "execution_count": 1,
   "id": "3b136394",
   "metadata": {
    "execution": {
     "iopub.execute_input": "2021-04-04T23:03:31.825164Z",
     "iopub.status.busy": "2021-04-04T23:03:31.823765Z",
     "iopub.status.idle": "2021-04-04T23:03:31.828947Z",
     "shell.execute_reply": "2021-04-04T23:03:31.828066Z"
    },
    "papermill": {
     "duration": 0.048729,
     "end_time": "2021-04-04T23:03:31.829141",
     "exception": false,
     "start_time": "2021-04-04T23:03:31.780412",
     "status": "completed"
    },
    "tags": [
     "parameters"
    ]
   },
   "outputs": [],
   "source": [
    "DATASET_CONFIG_PATH = 'config/dataset/kc1_001.json'\n",
    "MODEL_CONFIG_PATH = 'config/model/knndd_001.json'\n",
    "PROFILE_REPORTING = False"
   ]
  },
  {
   "cell_type": "code",
   "execution_count": 2,
   "id": "902cc06c",
   "metadata": {
    "execution": {
     "iopub.execute_input": "2021-04-04T23:03:31.880517Z",
     "iopub.status.busy": "2021-04-04T23:03:31.879494Z",
     "iopub.status.idle": "2021-04-04T23:03:31.882715Z",
     "shell.execute_reply": "2021-04-04T23:03:31.882061Z"
    },
    "papermill": {
     "duration": 0.030451,
     "end_time": "2021-04-04T23:03:31.882852",
     "exception": false,
     "start_time": "2021-04-04T23:03:31.852401",
     "status": "completed"
    },
    "tags": [
     "injected-parameters"
    ]
   },
   "outputs": [],
   "source": [
    "# Parameters\n",
    "DATASET_CONFIG_PATH = \"config/dataset/000077.json\"\n",
    "MODEL_CONFIG_PATH = \"config/model/000002.json\"\n",
    "PROFILE_REPORTING = False\n"
   ]
  },
  {
   "cell_type": "code",
   "execution_count": 3,
   "id": "b80f2a10",
   "metadata": {
    "execution": {
     "iopub.execute_input": "2021-04-04T23:03:31.935866Z",
     "iopub.status.busy": "2021-04-04T23:03:31.934100Z",
     "iopub.status.idle": "2021-04-04T23:03:31.937888Z",
     "shell.execute_reply": "2021-04-04T23:03:31.938369Z"
    },
    "papermill": {
     "duration": 0.034572,
     "end_time": "2021-04-04T23:03:31.938532",
     "exception": false,
     "start_time": "2021-04-04T23:03:31.903960",
     "status": "completed"
    },
    "tags": []
   },
   "outputs": [],
   "source": [
    "import json\n",
    "\n",
    "\n",
    "with open(DATASET_CONFIG_PATH) as f:\n",
    "    dataset_config = json.load(f)\n",
    "\n",
    "with open(MODEL_CONFIG_PATH) as f:\n",
    "    model_config = json.load(f)"
   ]
  },
  {
   "cell_type": "markdown",
   "id": "9a4b0e2d",
   "metadata": {
    "papermill": {
     "duration": 0.021779,
     "end_time": "2021-04-04T23:03:31.979725",
     "exception": false,
     "start_time": "2021-04-04T23:03:31.957946",
     "status": "completed"
    },
    "tags": []
   },
   "source": [
    "# Profiling"
   ]
  },
  {
   "cell_type": "code",
   "execution_count": 4,
   "id": "a3e0289b",
   "metadata": {
    "execution": {
     "iopub.execute_input": "2021-04-04T23:03:32.027362Z",
     "iopub.status.busy": "2021-04-04T23:03:32.026522Z",
     "iopub.status.idle": "2021-04-04T23:03:33.370406Z",
     "shell.execute_reply": "2021-04-04T23:03:33.369835Z"
    },
    "papermill": {
     "duration": 1.370222,
     "end_time": "2021-04-04T23:03:33.370520",
     "exception": false,
     "start_time": "2021-04-04T23:03:32.000298",
     "status": "completed"
    },
    "tags": []
   },
   "outputs": [],
   "source": [
    "import pandas as pd\n",
    "from pandas_profiling import ProfileReport"
   ]
  },
  {
   "cell_type": "code",
   "execution_count": 5,
   "id": "ee6c0666",
   "metadata": {
    "execution": {
     "iopub.execute_input": "2021-04-04T23:03:33.436680Z",
     "iopub.status.busy": "2021-04-04T23:03:33.431550Z",
     "iopub.status.idle": "2021-04-04T23:03:33.451640Z",
     "shell.execute_reply": "2021-04-04T23:03:33.451040Z"
    },
    "papermill": {
     "duration": 0.058229,
     "end_time": "2021-04-04T23:03:33.451784",
     "exception": false,
     "start_time": "2021-04-04T23:03:33.393555",
     "status": "completed"
    },
    "tags": []
   },
   "outputs": [],
   "source": [
    "df = pd.read_csv(dataset_config['dataset_path'])"
   ]
  },
  {
   "cell_type": "code",
   "execution_count": 6,
   "id": "7eca6c4a",
   "metadata": {
    "execution": {
     "iopub.execute_input": "2021-04-04T23:03:33.511255Z",
     "iopub.status.busy": "2021-04-04T23:03:33.499666Z",
     "iopub.status.idle": "2021-04-04T23:03:33.519214Z",
     "shell.execute_reply": "2021-04-04T23:03:33.517840Z"
    },
    "papermill": {
     "duration": 0.045135,
     "end_time": "2021-04-04T23:03:33.519542",
     "exception": false,
     "start_time": "2021-04-04T23:03:33.474407",
     "status": "completed"
    },
    "tags": []
   },
   "outputs": [
    {
     "name": "stdout",
     "output_type": "stream",
     "text": [
      "<class 'pandas.core.frame.DataFrame'>\n",
      "RangeIndex: 2109 entries, 0 to 2108\n",
      "Data columns (total 23 columns):\n",
      " #   Column             Non-Null Count  Dtype  \n",
      "---  ------             --------------  -----  \n",
      " 0   id                 2109 non-null   int64  \n",
      " 1   loc                2109 non-null   float64\n",
      " 2   v(g)               2109 non-null   float64\n",
      " 3   ev(g)              2109 non-null   float64\n",
      " 4   iv(g)              2109 non-null   float64\n",
      " 5   n                  2109 non-null   float64\n",
      " 6   v                  2109 non-null   float64\n",
      " 7   l                  2109 non-null   float64\n",
      " 8   d                  2109 non-null   float64\n",
      " 9   i                  2109 non-null   float64\n",
      " 10  e                  2109 non-null   float64\n",
      " 11  b                  2109 non-null   float64\n",
      " 12  t                  2109 non-null   float64\n",
      " 13  lOCode             2109 non-null   int64  \n",
      " 14  lOComment          2109 non-null   int64  \n",
      " 15  lOBlank            2109 non-null   int64  \n",
      " 16  locCodeAndComment  2109 non-null   int64  \n",
      " 17  uniq_Op            2109 non-null   float64\n",
      " 18  uniq_Opnd          2109 non-null   float64\n",
      " 19  total_Op           2109 non-null   float64\n",
      " 20  total_Opnd         2109 non-null   float64\n",
      " 21  branchCount        2109 non-null   float64\n",
      " 22  defects            2109 non-null   bool   \n",
      "dtypes: bool(1), float64(17), int64(5)\n",
      "memory usage: 364.7 KB\n"
     ]
    }
   ],
   "source": [
    "df.info()"
   ]
  },
  {
   "cell_type": "code",
   "execution_count": 7,
   "id": "3638e5e8",
   "metadata": {
    "execution": {
     "iopub.execute_input": "2021-04-04T23:03:33.580190Z",
     "iopub.status.busy": "2021-04-04T23:03:33.578968Z",
     "iopub.status.idle": "2021-04-04T23:03:33.609555Z",
     "shell.execute_reply": "2021-04-04T23:03:33.610092Z"
    },
    "papermill": {
     "duration": 0.068703,
     "end_time": "2021-04-04T23:03:33.610257",
     "exception": false,
     "start_time": "2021-04-04T23:03:33.541554",
     "status": "completed"
    },
    "tags": []
   },
   "outputs": [
    {
     "data": {
      "text/html": [
       "<div>\n",
       "<style scoped>\n",
       "    .dataframe tbody tr th:only-of-type {\n",
       "        vertical-align: middle;\n",
       "    }\n",
       "\n",
       "    .dataframe tbody tr th {\n",
       "        vertical-align: top;\n",
       "    }\n",
       "\n",
       "    .dataframe thead th {\n",
       "        text-align: right;\n",
       "    }\n",
       "</style>\n",
       "<table border=\"1\" class=\"dataframe\">\n",
       "  <thead>\n",
       "    <tr style=\"text-align: right;\">\n",
       "      <th></th>\n",
       "      <th>id</th>\n",
       "      <th>loc</th>\n",
       "      <th>v(g)</th>\n",
       "      <th>ev(g)</th>\n",
       "      <th>iv(g)</th>\n",
       "      <th>n</th>\n",
       "      <th>v</th>\n",
       "      <th>l</th>\n",
       "      <th>d</th>\n",
       "      <th>i</th>\n",
       "      <th>...</th>\n",
       "      <th>lOCode</th>\n",
       "      <th>lOComment</th>\n",
       "      <th>lOBlank</th>\n",
       "      <th>locCodeAndComment</th>\n",
       "      <th>uniq_Op</th>\n",
       "      <th>uniq_Opnd</th>\n",
       "      <th>total_Op</th>\n",
       "      <th>total_Opnd</th>\n",
       "      <th>branchCount</th>\n",
       "      <th>defects</th>\n",
       "    </tr>\n",
       "  </thead>\n",
       "  <tbody>\n",
       "    <tr>\n",
       "      <th>0</th>\n",
       "      <td>1</td>\n",
       "      <td>1.1</td>\n",
       "      <td>1.4</td>\n",
       "      <td>1.4</td>\n",
       "      <td>1.4</td>\n",
       "      <td>1.3</td>\n",
       "      <td>1.30</td>\n",
       "      <td>1.30</td>\n",
       "      <td>1.30</td>\n",
       "      <td>1.30</td>\n",
       "      <td>...</td>\n",
       "      <td>2</td>\n",
       "      <td>2</td>\n",
       "      <td>2</td>\n",
       "      <td>2</td>\n",
       "      <td>1.2</td>\n",
       "      <td>1.2</td>\n",
       "      <td>1.2</td>\n",
       "      <td>1.2</td>\n",
       "      <td>1.4</td>\n",
       "      <td>False</td>\n",
       "    </tr>\n",
       "    <tr>\n",
       "      <th>1</th>\n",
       "      <td>2</td>\n",
       "      <td>1.0</td>\n",
       "      <td>1.0</td>\n",
       "      <td>1.0</td>\n",
       "      <td>1.0</td>\n",
       "      <td>1.0</td>\n",
       "      <td>1.00</td>\n",
       "      <td>1.00</td>\n",
       "      <td>1.00</td>\n",
       "      <td>1.00</td>\n",
       "      <td>...</td>\n",
       "      <td>1</td>\n",
       "      <td>1</td>\n",
       "      <td>1</td>\n",
       "      <td>1</td>\n",
       "      <td>1.0</td>\n",
       "      <td>1.0</td>\n",
       "      <td>1.0</td>\n",
       "      <td>1.0</td>\n",
       "      <td>1.0</td>\n",
       "      <td>True</td>\n",
       "    </tr>\n",
       "    <tr>\n",
       "      <th>2</th>\n",
       "      <td>3</td>\n",
       "      <td>83.0</td>\n",
       "      <td>11.0</td>\n",
       "      <td>1.0</td>\n",
       "      <td>11.0</td>\n",
       "      <td>171.0</td>\n",
       "      <td>927.89</td>\n",
       "      <td>0.04</td>\n",
       "      <td>23.04</td>\n",
       "      <td>40.27</td>\n",
       "      <td>...</td>\n",
       "      <td>65</td>\n",
       "      <td>10</td>\n",
       "      <td>6</td>\n",
       "      <td>0</td>\n",
       "      <td>18.0</td>\n",
       "      <td>25.0</td>\n",
       "      <td>107.0</td>\n",
       "      <td>64.0</td>\n",
       "      <td>21.0</td>\n",
       "      <td>True</td>\n",
       "    </tr>\n",
       "    <tr>\n",
       "      <th>3</th>\n",
       "      <td>4</td>\n",
       "      <td>46.0</td>\n",
       "      <td>8.0</td>\n",
       "      <td>6.0</td>\n",
       "      <td>8.0</td>\n",
       "      <td>141.0</td>\n",
       "      <td>769.78</td>\n",
       "      <td>0.07</td>\n",
       "      <td>14.86</td>\n",
       "      <td>51.81</td>\n",
       "      <td>...</td>\n",
       "      <td>37</td>\n",
       "      <td>2</td>\n",
       "      <td>5</td>\n",
       "      <td>0</td>\n",
       "      <td>16.0</td>\n",
       "      <td>28.0</td>\n",
       "      <td>89.0</td>\n",
       "      <td>52.0</td>\n",
       "      <td>15.0</td>\n",
       "      <td>True</td>\n",
       "    </tr>\n",
       "    <tr>\n",
       "      <th>4</th>\n",
       "      <td>5</td>\n",
       "      <td>25.0</td>\n",
       "      <td>3.0</td>\n",
       "      <td>1.0</td>\n",
       "      <td>3.0</td>\n",
       "      <td>58.0</td>\n",
       "      <td>254.75</td>\n",
       "      <td>0.11</td>\n",
       "      <td>9.35</td>\n",
       "      <td>27.25</td>\n",
       "      <td>...</td>\n",
       "      <td>21</td>\n",
       "      <td>0</td>\n",
       "      <td>2</td>\n",
       "      <td>0</td>\n",
       "      <td>11.0</td>\n",
       "      <td>10.0</td>\n",
       "      <td>41.0</td>\n",
       "      <td>17.0</td>\n",
       "      <td>5.0</td>\n",
       "      <td>True</td>\n",
       "    </tr>\n",
       "  </tbody>\n",
       "</table>\n",
       "<p>5 rows × 23 columns</p>\n",
       "</div>"
      ],
      "text/plain": [
       "   id   loc  v(g)  ev(g)  iv(g)      n       v     l      d      i  ...  \\\n",
       "0   1   1.1   1.4    1.4    1.4    1.3    1.30  1.30   1.30   1.30  ...   \n",
       "1   2   1.0   1.0    1.0    1.0    1.0    1.00  1.00   1.00   1.00  ...   \n",
       "2   3  83.0  11.0    1.0   11.0  171.0  927.89  0.04  23.04  40.27  ...   \n",
       "3   4  46.0   8.0    6.0    8.0  141.0  769.78  0.07  14.86  51.81  ...   \n",
       "4   5  25.0   3.0    1.0    3.0   58.0  254.75  0.11   9.35  27.25  ...   \n",
       "\n",
       "   lOCode  lOComment  lOBlank  locCodeAndComment  uniq_Op  uniq_Opnd  \\\n",
       "0       2          2        2                  2      1.2        1.2   \n",
       "1       1          1        1                  1      1.0        1.0   \n",
       "2      65         10        6                  0     18.0       25.0   \n",
       "3      37          2        5                  0     16.0       28.0   \n",
       "4      21          0        2                  0     11.0       10.0   \n",
       "\n",
       "   total_Op  total_Opnd  branchCount  defects  \n",
       "0       1.2         1.2          1.4    False  \n",
       "1       1.0         1.0          1.0     True  \n",
       "2     107.0        64.0         21.0     True  \n",
       "3      89.0        52.0         15.0     True  \n",
       "4      41.0        17.0          5.0     True  \n",
       "\n",
       "[5 rows x 23 columns]"
      ]
     },
     "execution_count": 7,
     "metadata": {},
     "output_type": "execute_result"
    }
   ],
   "source": [
    "df.head()"
   ]
  },
  {
   "cell_type": "code",
   "execution_count": 8,
   "id": "733e95eb",
   "metadata": {
    "execution": {
     "iopub.execute_input": "2021-04-04T23:03:33.661821Z",
     "iopub.status.busy": "2021-04-04T23:03:33.660933Z",
     "iopub.status.idle": "2021-04-04T23:03:33.663180Z",
     "shell.execute_reply": "2021-04-04T23:03:33.663754Z"
    },
    "papermill": {
     "duration": 0.031479,
     "end_time": "2021-04-04T23:03:33.663917",
     "exception": false,
     "start_time": "2021-04-04T23:03:33.632438",
     "status": "completed"
    },
    "tags": []
   },
   "outputs": [],
   "source": [
    "del df['id']"
   ]
  },
  {
   "cell_type": "code",
   "execution_count": 9,
   "id": "6ff6f5b0",
   "metadata": {
    "execution": {
     "iopub.execute_input": "2021-04-04T23:03:33.716109Z",
     "iopub.status.busy": "2021-04-04T23:03:33.714928Z",
     "iopub.status.idle": "2021-04-04T23:03:33.718982Z",
     "shell.execute_reply": "2021-04-04T23:03:33.719521Z"
    },
    "papermill": {
     "duration": 0.033722,
     "end_time": "2021-04-04T23:03:33.719831",
     "exception": false,
     "start_time": "2021-04-04T23:03:33.686109",
     "status": "completed"
    },
    "tags": []
   },
   "outputs": [],
   "source": [
    "if PROFILE_REPORTING:\n",
    "    ProfileReport(df).to_widgets()"
   ]
  },
  {
   "cell_type": "markdown",
   "id": "1deaf3f0",
   "metadata": {
    "papermill": {
     "duration": 0.02759,
     "end_time": "2021-04-04T23:03:33.768823",
     "exception": false,
     "start_time": "2021-04-04T23:03:33.741233",
     "status": "completed"
    },
    "tags": []
   },
   "source": [
    "# Preprocess"
   ]
  },
  {
   "cell_type": "code",
   "execution_count": 10,
   "id": "1513e563",
   "metadata": {
    "execution": {
     "iopub.execute_input": "2021-04-04T23:03:33.825500Z",
     "iopub.status.busy": "2021-04-04T23:03:33.823853Z",
     "iopub.status.idle": "2021-04-04T23:03:33.831603Z",
     "shell.execute_reply": "2021-04-04T23:03:33.830879Z"
    },
    "papermill": {
     "duration": 0.041167,
     "end_time": "2021-04-04T23:03:33.831775",
     "exception": false,
     "start_time": "2021-04-04T23:03:33.790608",
     "status": "completed"
    },
    "tags": []
   },
   "outputs": [],
   "source": [
    "working_df = df.copy()"
   ]
  },
  {
   "cell_type": "code",
   "execution_count": 11,
   "id": "3b26d675",
   "metadata": {
    "execution": {
     "iopub.execute_input": "2021-04-04T23:03:33.889037Z",
     "iopub.status.busy": "2021-04-04T23:03:33.888357Z",
     "iopub.status.idle": "2021-04-04T23:03:33.890374Z",
     "shell.execute_reply": "2021-04-04T23:03:33.890847Z"
    },
    "papermill": {
     "duration": 0.031364,
     "end_time": "2021-04-04T23:03:33.890991",
     "exception": false,
     "start_time": "2021-04-04T23:03:33.859627",
     "status": "completed"
    },
    "tags": []
   },
   "outputs": [],
   "source": [
    "working_df['defects'] = working_df['defects'].replace([False, True], [0, 1])"
   ]
  },
  {
   "cell_type": "code",
   "execution_count": 12,
   "id": "eb48604f",
   "metadata": {
    "execution": {
     "iopub.execute_input": "2021-04-04T23:03:33.950491Z",
     "iopub.status.busy": "2021-04-04T23:03:33.949337Z",
     "iopub.status.idle": "2021-04-04T23:03:33.954431Z",
     "shell.execute_reply": "2021-04-04T23:03:33.952914Z"
    },
    "papermill": {
     "duration": 0.037855,
     "end_time": "2021-04-04T23:03:33.954706",
     "exception": false,
     "start_time": "2021-04-04T23:03:33.916851",
     "status": "completed"
    },
    "tags": []
   },
   "outputs": [],
   "source": [
    "for col in dataset_config['delete_columns']:\n",
    "    del working_df[col]"
   ]
  },
  {
   "cell_type": "code",
   "execution_count": 13,
   "id": "9a17bc29",
   "metadata": {
    "execution": {
     "iopub.execute_input": "2021-04-04T23:03:34.009248Z",
     "iopub.status.busy": "2021-04-04T23:03:34.008404Z",
     "iopub.status.idle": "2021-04-04T23:03:34.020104Z",
     "shell.execute_reply": "2021-04-04T23:03:34.019454Z"
    },
    "papermill": {
     "duration": 0.041654,
     "end_time": "2021-04-04T23:03:34.020235",
     "exception": false,
     "start_time": "2021-04-04T23:03:33.978581",
     "status": "completed"
    },
    "tags": []
   },
   "outputs": [],
   "source": [
    "working_df = working_df.drop_duplicates()"
   ]
  },
  {
   "cell_type": "markdown",
   "id": "a4d52ca6",
   "metadata": {
    "papermill": {
     "duration": 0.024822,
     "end_time": "2021-04-04T23:03:34.067932",
     "exception": false,
     "start_time": "2021-04-04T23:03:34.043110",
     "status": "completed"
    },
    "tags": []
   },
   "source": [
    "# Split"
   ]
  },
  {
   "cell_type": "code",
   "execution_count": 14,
   "id": "3e9ee4b5",
   "metadata": {
    "execution": {
     "iopub.execute_input": "2021-04-04T23:03:34.121063Z",
     "iopub.status.busy": "2021-04-04T23:03:34.119553Z",
     "iopub.status.idle": "2021-04-04T23:03:34.147508Z",
     "shell.execute_reply": "2021-04-04T23:03:34.147986Z"
    },
    "papermill": {
     "duration": 0.057225,
     "end_time": "2021-04-04T23:03:34.148133",
     "exception": false,
     "start_time": "2021-04-04T23:03:34.090908",
     "status": "completed"
    },
    "tags": []
   },
   "outputs": [],
   "source": [
    "from sklearn.model_selection import train_test_split"
   ]
  },
  {
   "cell_type": "code",
   "execution_count": 15,
   "id": "274004ce",
   "metadata": {
    "execution": {
     "iopub.execute_input": "2021-04-04T23:03:34.209124Z",
     "iopub.status.busy": "2021-04-04T23:03:34.207614Z",
     "iopub.status.idle": "2021-04-04T23:03:34.215054Z",
     "shell.execute_reply": "2021-04-04T23:03:34.215621Z"
    },
    "papermill": {
     "duration": 0.043512,
     "end_time": "2021-04-04T23:03:34.215794",
     "exception": false,
     "start_time": "2021-04-04T23:03:34.172282",
     "status": "completed"
    },
    "scrolled": true,
    "tags": []
   },
   "outputs": [],
   "source": [
    "inlier, outlier = working_df[working_df['defects'] == 0], working_df[working_df['defects'] == 1]"
   ]
  },
  {
   "cell_type": "code",
   "execution_count": 16,
   "id": "753c7b03",
   "metadata": {
    "execution": {
     "iopub.execute_input": "2021-04-04T23:03:34.268821Z",
     "iopub.status.busy": "2021-04-04T23:03:34.268187Z",
     "iopub.status.idle": "2021-04-04T23:03:34.273211Z",
     "shell.execute_reply": "2021-04-04T23:03:34.274440Z"
    },
    "papermill": {
     "duration": 0.033294,
     "end_time": "2021-04-04T23:03:34.274656",
     "exception": false,
     "start_time": "2021-04-04T23:03:34.241362",
     "status": "completed"
    },
    "tags": []
   },
   "outputs": [],
   "source": [
    "X_inlier = inlier.copy()\n",
    "y_inlier = X_inlier.pop('defects')\n",
    "X_outlier = outlier.copy()\n",
    "y_outlier = X_outlier.pop('defects')"
   ]
  },
  {
   "cell_type": "code",
   "execution_count": 17,
   "id": "2ba43193",
   "metadata": {
    "execution": {
     "iopub.execute_input": "2021-04-04T23:03:34.336591Z",
     "iopub.status.busy": "2021-04-04T23:03:34.334609Z",
     "iopub.status.idle": "2021-04-04T23:03:34.341473Z",
     "shell.execute_reply": "2021-04-04T23:03:34.340584Z"
    },
    "papermill": {
     "duration": 0.043631,
     "end_time": "2021-04-04T23:03:34.341684",
     "exception": false,
     "start_time": "2021-04-04T23:03:34.298053",
     "status": "completed"
    },
    "tags": []
   },
   "outputs": [],
   "source": [
    "test_size = dataset_config['test_size']\n",
    "random_state = dataset_config['random_state']\n",
    "\n",
    "X_inlier_train, X_inlier_test, y_inlier_train, y_inlier_test = train_test_split(\n",
    "    X_inlier,\n",
    "    y_inlier,\n",
    "    test_size=test_size,\n",
    "    random_state=random_state\n",
    ")"
   ]
  },
  {
   "cell_type": "code",
   "execution_count": 18,
   "id": "0b7582ca",
   "metadata": {
    "execution": {
     "iopub.execute_input": "2021-04-04T23:03:34.415816Z",
     "iopub.status.busy": "2021-04-04T23:03:34.414989Z",
     "iopub.status.idle": "2021-04-04T23:03:34.417097Z",
     "shell.execute_reply": "2021-04-04T23:03:34.417720Z"
    },
    "papermill": {
     "duration": 0.042399,
     "end_time": "2021-04-04T23:03:34.417905",
     "exception": false,
     "start_time": "2021-04-04T23:03:34.375506",
     "status": "completed"
    },
    "tags": []
   },
   "outputs": [],
   "source": [
    "test_outlier_size = dataset_config['test_outlier_size']\n",
    "if test_outlier_size > 0.0:\n",
    "    X_outlier_train, X_outlier_test, y_outlier_train, y_outlier_test = train_test_split(\n",
    "        X_outlier,\n",
    "        y_outlier,\n",
    "        test_size=test_outlier_size,\n",
    "        random_state=random_state\n",
    "    )\n",
    "else:\n",
    "    X_outlier_train, y_outlier_train = pd.DataFrame(columns=X_outlier.columns), pd.Series(dtype='int64')\n",
    "    X_outlier_test, y_outlier_test = X_outlier.copy(), y_outlier.copy()"
   ]
  },
  {
   "cell_type": "code",
   "execution_count": 19,
   "id": "c34363db",
   "metadata": {
    "execution": {
     "iopub.execute_input": "2021-04-04T23:03:34.479708Z",
     "iopub.status.busy": "2021-04-04T23:03:34.478345Z",
     "iopub.status.idle": "2021-04-04T23:03:34.484948Z",
     "shell.execute_reply": "2021-04-04T23:03:34.484345Z"
    },
    "papermill": {
     "duration": 0.04238,
     "end_time": "2021-04-04T23:03:34.485104",
     "exception": false,
     "start_time": "2021-04-04T23:03:34.442724",
     "status": "completed"
    },
    "tags": []
   },
   "outputs": [],
   "source": [
    "X_train, y_train = pd.concat([X_inlier_train, X_outlier_train], ignore_index=True), pd.concat([y_inlier_train, y_outlier_train], ignore_index=True)\n",
    "X_test, y_test = pd.concat([X_inlier_test, X_outlier_test], ignore_index=True), pd.concat([y_inlier_test, y_outlier_test], ignore_index=True)"
   ]
  },
  {
   "cell_type": "markdown",
   "id": "7cde7309",
   "metadata": {
    "papermill": {
     "duration": 0.025721,
     "end_time": "2021-04-04T23:03:34.534469",
     "exception": false,
     "start_time": "2021-04-04T23:03:34.508748",
     "status": "completed"
    },
    "tags": []
   },
   "source": [
    "# Model"
   ]
  },
  {
   "cell_type": "code",
   "execution_count": 20,
   "id": "2b12a415",
   "metadata": {
    "execution": {
     "iopub.execute_input": "2021-04-04T23:03:34.596794Z",
     "iopub.status.busy": "2021-04-04T23:03:34.595886Z",
     "iopub.status.idle": "2021-04-04T23:03:34.598398Z",
     "shell.execute_reply": "2021-04-04T23:03:34.597900Z"
    },
    "papermill": {
     "duration": 0.03999,
     "end_time": "2021-04-04T23:03:34.598518",
     "exception": false,
     "start_time": "2021-04-04T23:03:34.558528",
     "status": "completed"
    },
    "tags": []
   },
   "outputs": [],
   "source": [
    "from math import sqrt\n",
    "\n",
    "\n",
    "class KNNDataDescription:\n",
    "    def __init__(self, k=5, outlier_threshold=1.0):\n",
    "        self.k = k\n",
    "        self.outlier_threshold = outlier_threshold\n",
    "        self.X = []\n",
    "    \n",
    "    def fit(self, X):\n",
    "        self.X = [features.to_list() for index, features in X.iterrows()]\n",
    "\n",
    "    def predict(self, entries):\n",
    "        return [self.predict_entry(features.to_list()) for index, features in entries.iterrows()]\n",
    "    \n",
    "    def predict_entry(self, entry):\n",
    "        kth_neighbor, kth_distance = self.get_kth_neighbor(entry, self.k)\n",
    "        kth_kth_neighbor, kth_kth_distance = self.get_kth_neighbor(kth_neighbor, self.k + 1)\n",
    "\n",
    "        outlier_score = kth_distance / (kth_kth_distance + 0.000001)\n",
    "\n",
    "        return 1 if outlier_score < self.outlier_threshold else -1\n",
    "        \n",
    "    def euclidean_distance(self, features1, features2):\n",
    "        distance = 0.0\n",
    "        for feat1, feat2 in zip(features1, features2):\n",
    "            distance += (feat1 - feat2)**2\n",
    "                \n",
    "        return sqrt(distance)\n",
    "\n",
    "    def get_neighbors(self, entry, k):\n",
    "        distance_to_data_points = [\n",
    "            (data_point, self.euclidean_distance(entry, data_point))\n",
    "            for data_point in self.X\n",
    "        ]\n",
    "        sorted_by_distance = sorted(distance_to_data_points, key=lambda tup: tup[1])\n",
    "        neighbors = sorted_by_distance[:k]\n",
    "        return neighbors\n",
    "\n",
    "    def get_kth_neighbor(self, entry, k):\n",
    "        neighbors = self.get_neighbors(entry, k)\n",
    "        return neighbors[-1]\n"
   ]
  },
  {
   "cell_type": "code",
   "execution_count": 21,
   "id": "1fa9ec1c",
   "metadata": {
    "execution": {
     "iopub.execute_input": "2021-04-04T23:03:34.651756Z",
     "iopub.status.busy": "2021-04-04T23:03:34.650735Z",
     "iopub.status.idle": "2021-04-04T23:03:34.670433Z",
     "shell.execute_reply": "2021-04-04T23:03:34.671207Z"
    },
    "papermill": {
     "duration": 0.04852,
     "end_time": "2021-04-04T23:03:34.671778",
     "exception": false,
     "start_time": "2021-04-04T23:03:34.623258",
     "status": "completed"
    },
    "tags": []
   },
   "outputs": [],
   "source": [
    "from sklearn.svm import OneClassSVM\n",
    "\n",
    "\n",
    "models = {\n",
    "    'oneclasssvm': OneClassSVM,\n",
    "    'knndatadescription': KNNDataDescription,\n",
    "}"
   ]
  },
  {
   "cell_type": "code",
   "execution_count": 22,
   "id": "4d72a0b1",
   "metadata": {
    "execution": {
     "iopub.execute_input": "2021-04-04T23:03:34.731261Z",
     "iopub.status.busy": "2021-04-04T23:03:34.730490Z",
     "iopub.status.idle": "2021-04-04T23:03:34.733471Z",
     "shell.execute_reply": "2021-04-04T23:03:34.732887Z"
    },
    "papermill": {
     "duration": 0.036776,
     "end_time": "2021-04-04T23:03:34.733645",
     "exception": false,
     "start_time": "2021-04-04T23:03:34.696869",
     "status": "completed"
    },
    "scrolled": true,
    "tags": []
   },
   "outputs": [],
   "source": [
    "model_cls = models[model_config['model_type']]\n",
    "model = model_cls(**model_config['hyperparameters'])"
   ]
  },
  {
   "cell_type": "markdown",
   "id": "e00cff3b",
   "metadata": {
    "papermill": {
     "duration": 0.025571,
     "end_time": "2021-04-04T23:03:34.784964",
     "exception": false,
     "start_time": "2021-04-04T23:03:34.759393",
     "status": "completed"
    },
    "tags": []
   },
   "source": [
    "# Fit"
   ]
  },
  {
   "cell_type": "code",
   "execution_count": 23,
   "id": "8b2ded89",
   "metadata": {
    "execution": {
     "iopub.execute_input": "2021-04-04T23:03:34.856812Z",
     "iopub.status.busy": "2021-04-04T23:03:34.855506Z",
     "iopub.status.idle": "2021-04-04T23:03:34.912120Z",
     "shell.execute_reply": "2021-04-04T23:03:34.912609Z"
    },
    "papermill": {
     "duration": 0.098842,
     "end_time": "2021-04-04T23:03:34.912757",
     "exception": false,
     "start_time": "2021-04-04T23:03:34.813915",
     "status": "completed"
    },
    "tags": []
   },
   "outputs": [],
   "source": [
    "model.fit(X_train)"
   ]
  },
  {
   "cell_type": "markdown",
   "id": "f99999f7",
   "metadata": {
    "papermill": {
     "duration": 0.025015,
     "end_time": "2021-04-04T23:03:34.961608",
     "exception": false,
     "start_time": "2021-04-04T23:03:34.936593",
     "status": "completed"
    },
    "tags": []
   },
   "source": [
    "# Predict"
   ]
  },
  {
   "cell_type": "code",
   "execution_count": 24,
   "id": "6536fbf7",
   "metadata": {
    "execution": {
     "iopub.execute_input": "2021-04-04T23:03:35.015877Z",
     "iopub.status.busy": "2021-04-04T23:03:35.015087Z",
     "iopub.status.idle": "2021-04-04T23:03:37.487287Z",
     "shell.execute_reply": "2021-04-04T23:03:37.487813Z"
    },
    "papermill": {
     "duration": 2.502922,
     "end_time": "2021-04-04T23:03:37.487962",
     "exception": false,
     "start_time": "2021-04-04T23:03:34.985040",
     "status": "completed"
    },
    "tags": []
   },
   "outputs": [],
   "source": [
    "predictions = model.predict(X_test)"
   ]
  },
  {
   "cell_type": "markdown",
   "id": "aa1c9881",
   "metadata": {
    "papermill": {
     "duration": 0.023688,
     "end_time": "2021-04-04T23:03:37.535771",
     "exception": false,
     "start_time": "2021-04-04T23:03:37.512083",
     "status": "completed"
    },
    "tags": []
   },
   "source": [
    "# Evaluate"
   ]
  },
  {
   "cell_type": "code",
   "execution_count": 25,
   "id": "894f0f04",
   "metadata": {
    "execution": {
     "iopub.execute_input": "2021-04-04T23:03:37.591597Z",
     "iopub.status.busy": "2021-04-04T23:03:37.590798Z",
     "iopub.status.idle": "2021-04-04T23:03:37.592763Z",
     "shell.execute_reply": "2021-04-04T23:03:37.593314Z"
    },
    "papermill": {
     "duration": 0.034241,
     "end_time": "2021-04-04T23:03:37.593458",
     "exception": false,
     "start_time": "2021-04-04T23:03:37.559217",
     "status": "completed"
    },
    "tags": []
   },
   "outputs": [],
   "source": [
    "from sklearn.metrics import f1_score"
   ]
  },
  {
   "cell_type": "code",
   "execution_count": 26,
   "id": "211744d3",
   "metadata": {
    "execution": {
     "iopub.execute_input": "2021-04-04T23:03:37.647836Z",
     "iopub.status.busy": "2021-04-04T23:03:37.647250Z",
     "iopub.status.idle": "2021-04-04T23:03:37.649886Z",
     "shell.execute_reply": "2021-04-04T23:03:37.649386Z"
    },
    "papermill": {
     "duration": 0.032573,
     "end_time": "2021-04-04T23:03:37.650004",
     "exception": false,
     "start_time": "2021-04-04T23:03:37.617431",
     "status": "completed"
    },
    "tags": []
   },
   "outputs": [],
   "source": [
    "y_test = y_test.replace([0, 1], [1, -1])"
   ]
  },
  {
   "cell_type": "code",
   "execution_count": 27,
   "id": "d68a9204",
   "metadata": {
    "execution": {
     "iopub.execute_input": "2021-04-04T23:03:37.720130Z",
     "iopub.status.busy": "2021-04-04T23:03:37.717512Z",
     "iopub.status.idle": "2021-04-04T23:03:37.721729Z",
     "shell.execute_reply": "2021-04-04T23:03:37.722232Z"
    },
    "papermill": {
     "duration": 0.046281,
     "end_time": "2021-04-04T23:03:37.722397",
     "exception": false,
     "start_time": "2021-04-04T23:03:37.676116",
     "status": "completed"
    },
    "tags": []
   },
   "outputs": [],
   "source": [
    "def evaluate(truths, predictions, pos_label, neg_label):\n",
    "    TP = 0\n",
    "    FP = 0\n",
    "    TN = 0\n",
    "    FN = 0\n",
    "\n",
    "    for truth, pred in zip(truths, predictions): \n",
    "        if truth == pred == pos_label:\n",
    "           TP += 1\n",
    "        elif pred == pos_label and truth == neg_label:\n",
    "           FP += 1\n",
    "        elif truth == pred == neg_label:\n",
    "           TN += 1\n",
    "        elif pred == neg_label and truth == pos_label:\n",
    "           FN += 1\n",
    "\n",
    "    precision = TP / (TP + FP)\n",
    "    sensitivity = TP / (TP + FN)\n",
    "    \n",
    "    return {\n",
    "        'true_pos': TP,\n",
    "        'false_pos': FP,\n",
    "        'false_neg': FN,\n",
    "        'true_neg': TN,\n",
    "        'precision': precision,\n",
    "        'sensitivity': sensitivity,\n",
    "        'f1': (2 * (precision * sensitivity)) / (precision + sensitivity)\n",
    "    }\n",
    "\n",
    "score = evaluate(y_test, predictions, pos_label=-1, neg_label=1)"
   ]
  },
  {
   "cell_type": "markdown",
   "id": "93596516",
   "metadata": {
    "papermill": {
     "duration": 0.026925,
     "end_time": "2021-04-04T23:03:37.777599",
     "exception": false,
     "start_time": "2021-04-04T23:03:37.750674",
     "status": "completed"
    },
    "tags": []
   },
   "source": [
    "# Report"
   ]
  },
  {
   "cell_type": "code",
   "execution_count": 28,
   "id": "bea5fba1",
   "metadata": {
    "execution": {
     "iopub.execute_input": "2021-04-04T23:03:37.848626Z",
     "iopub.status.busy": "2021-04-04T23:03:37.847841Z",
     "iopub.status.idle": "2021-04-04T23:03:37.850432Z",
     "shell.execute_reply": "2021-04-04T23:03:37.850940Z"
    },
    "papermill": {
     "duration": 0.045131,
     "end_time": "2021-04-04T23:03:37.851094",
     "exception": false,
     "start_time": "2021-04-04T23:03:37.805963",
     "status": "completed"
    },
    "tags": []
   },
   "outputs": [],
   "source": [
    "import csv\n",
    "\n",
    "\n",
    "dataset_config_name = DATASET_CONFIG_PATH.split('/')[-1].split('.')[0]\n",
    "model_config_name = MODEL_CONFIG_PATH.split('/')[-1].split('.')[0]\n",
    "configuration = f\"dataset_{dataset_config_name}-model_{model_config_name}\"\n",
    "\n",
    "with open('results.csv', 'a') as f:\n",
    "    report = dict({'configuration': configuration}, **score)\n",
    "    writer = csv.DictWriter(f, report.keys())\n",
    "    writer.writerow(report)"
   ]
  }
 ],
 "metadata": {
  "celltoolbar": "Tags",
  "kernelspec": {
   "display_name": "Python 3",
   "language": "python",
   "name": "python3"
  },
  "language_info": {
   "codemirror_mode": {
    "name": "ipython",
    "version": 3
   },
   "file_extension": ".py",
   "mimetype": "text/x-python",
   "name": "python",
   "nbconvert_exporter": "python",
   "pygments_lexer": "ipython3",
   "version": "3.9.1"
  },
  "papermill": {
   "default_parameters": {},
   "duration": 7.495124,
   "end_time": "2021-04-04T23:03:38.485891",
   "environment_variables": {},
   "exception": null,
   "input_path": "main.ipynb",
   "output_path": "runs/dataset_000077-model_000002.ipynb",
   "parameters": {
    "DATASET_CONFIG_PATH": "config/dataset/000077.json",
    "MODEL_CONFIG_PATH": "config/model/000002.json",
    "PROFILE_REPORTING": false
   },
   "start_time": "2021-04-04T23:03:30.990767",
   "version": "2.3.3"
  }
 },
 "nbformat": 4,
 "nbformat_minor": 5
}