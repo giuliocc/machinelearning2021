{
 "cells": [
  {
   "cell_type": "markdown",
   "id": "51c71c25",
   "metadata": {
    "papermill": {
     "duration": 0.02074,
     "end_time": "2021-04-04T22:31:22.189926",
     "exception": false,
     "start_time": "2021-04-04T22:31:22.169186",
     "status": "completed"
    },
    "tags": []
   },
   "source": [
    "# Parametrizing"
   ]
  },
  {
   "cell_type": "code",
   "execution_count": 1,
   "id": "3b136394",
   "metadata": {
    "execution": {
     "iopub.execute_input": "2021-04-04T22:31:22.248070Z",
     "iopub.status.busy": "2021-04-04T22:31:22.246865Z",
     "iopub.status.idle": "2021-04-04T22:31:22.250662Z",
     "shell.execute_reply": "2021-04-04T22:31:22.249223Z"
    },
    "papermill": {
     "duration": 0.037932,
     "end_time": "2021-04-04T22:31:22.250912",
     "exception": false,
     "start_time": "2021-04-04T22:31:22.212980",
     "status": "completed"
    },
    "tags": [
     "parameters"
    ]
   },
   "outputs": [],
   "source": [
    "DATASET_CONFIG_PATH = 'config/dataset/kc1_001.json'\n",
    "MODEL_CONFIG_PATH = 'config/model/knndd_001.json'\n",
    "PROFILE_REPORTING = False"
   ]
  },
  {
   "cell_type": "code",
   "execution_count": 2,
   "id": "fb703433",
   "metadata": {
    "execution": {
     "iopub.execute_input": "2021-04-04T22:31:22.298124Z",
     "iopub.status.busy": "2021-04-04T22:31:22.294962Z",
     "iopub.status.idle": "2021-04-04T22:31:22.299228Z",
     "shell.execute_reply": "2021-04-04T22:31:22.300164Z"
    },
    "papermill": {
     "duration": 0.028493,
     "end_time": "2021-04-04T22:31:22.300382",
     "exception": false,
     "start_time": "2021-04-04T22:31:22.271889",
     "status": "completed"
    },
    "tags": [
     "injected-parameters"
    ]
   },
   "outputs": [],
   "source": [
    "# Parameters\n",
    "DATASET_CONFIG_PATH = \"config/dataset/000020.json\"\n",
    "MODEL_CONFIG_PATH = \"config/model/000002.json\"\n",
    "PROFILE_REPORTING = False\n"
   ]
  },
  {
   "cell_type": "code",
   "execution_count": 3,
   "id": "b80f2a10",
   "metadata": {
    "execution": {
     "iopub.execute_input": "2021-04-04T22:31:22.359307Z",
     "iopub.status.busy": "2021-04-04T22:31:22.358476Z",
     "iopub.status.idle": "2021-04-04T22:31:22.361320Z",
     "shell.execute_reply": "2021-04-04T22:31:22.361856Z"
    },
    "papermill": {
     "duration": 0.037986,
     "end_time": "2021-04-04T22:31:22.362022",
     "exception": false,
     "start_time": "2021-04-04T22:31:22.324036",
     "status": "completed"
    },
    "tags": []
   },
   "outputs": [],
   "source": [
    "import json\n",
    "\n",
    "\n",
    "with open(DATASET_CONFIG_PATH) as f:\n",
    "    dataset_config = json.load(f)\n",
    "\n",
    "with open(MODEL_CONFIG_PATH) as f:\n",
    "    model_config = json.load(f)"
   ]
  },
  {
   "cell_type": "markdown",
   "id": "9a4b0e2d",
   "metadata": {
    "papermill": {
     "duration": 0.025122,
     "end_time": "2021-04-04T22:31:22.413507",
     "exception": false,
     "start_time": "2021-04-04T22:31:22.388385",
     "status": "completed"
    },
    "tags": []
   },
   "source": [
    "# Profiling"
   ]
  },
  {
   "cell_type": "code",
   "execution_count": 4,
   "id": "a3e0289b",
   "metadata": {
    "execution": {
     "iopub.execute_input": "2021-04-04T22:31:22.465286Z",
     "iopub.status.busy": "2021-04-04T22:31:22.464674Z",
     "iopub.status.idle": "2021-04-04T22:31:24.261063Z",
     "shell.execute_reply": "2021-04-04T22:31:24.255680Z"
    },
    "papermill": {
     "duration": 1.828105,
     "end_time": "2021-04-04T22:31:24.261860",
     "exception": false,
     "start_time": "2021-04-04T22:31:22.433755",
     "status": "completed"
    },
    "tags": []
   },
   "outputs": [],
   "source": [
    "import pandas as pd\n",
    "from pandas_profiling import ProfileReport"
   ]
  },
  {
   "cell_type": "code",
   "execution_count": 5,
   "id": "ee6c0666",
   "metadata": {
    "execution": {
     "iopub.execute_input": "2021-04-04T22:31:24.400980Z",
     "iopub.status.busy": "2021-04-04T22:31:24.390054Z",
     "iopub.status.idle": "2021-04-04T22:31:24.446543Z",
     "shell.execute_reply": "2021-04-04T22:31:24.447901Z"
    },
    "papermill": {
     "duration": 0.129988,
     "end_time": "2021-04-04T22:31:24.448235",
     "exception": false,
     "start_time": "2021-04-04T22:31:24.318247",
     "status": "completed"
    },
    "tags": []
   },
   "outputs": [],
   "source": [
    "df = pd.read_csv(dataset_config['dataset_path'])"
   ]
  },
  {
   "cell_type": "code",
   "execution_count": 6,
   "id": "7eca6c4a",
   "metadata": {
    "execution": {
     "iopub.execute_input": "2021-04-04T22:31:24.580377Z",
     "iopub.status.busy": "2021-04-04T22:31:24.564180Z",
     "iopub.status.idle": "2021-04-04T22:31:24.586574Z",
     "shell.execute_reply": "2021-04-04T22:31:24.586008Z"
    },
    "papermill": {
     "duration": 0.083356,
     "end_time": "2021-04-04T22:31:24.586776",
     "exception": false,
     "start_time": "2021-04-04T22:31:24.503420",
     "status": "completed"
    },
    "tags": []
   },
   "outputs": [
    {
     "name": "stdout",
     "output_type": "stream",
     "text": [
      "<class 'pandas.core.frame.DataFrame'>\n",
      "RangeIndex: 2109 entries, 0 to 2108\n",
      "Data columns (total 23 columns):\n",
      " #   Column             Non-Null Count  Dtype  \n",
      "---  ------             --------------  -----  \n",
      " 0   id                 2109 non-null   int64  \n",
      " 1   loc                2109 non-null   float64\n",
      " 2   v(g)               2109 non-null   float64\n",
      " 3   ev(g)              2109 non-null   float64\n",
      " 4   iv(g)              2109 non-null   float64\n",
      " 5   n                  2109 non-null   float64\n",
      " 6   v                  2109 non-null   float64\n",
      " 7   l                  2109 non-null   float64\n",
      " 8   d                  2109 non-null   float64\n",
      " 9   i                  2109 non-null   float64\n",
      " 10  e                  2109 non-null   float64\n",
      " 11  b                  2109 non-null   float64\n",
      " 12  t                  2109 non-null   float64\n",
      " 13  lOCode             2109 non-null   int64  \n",
      " 14  lOComment          2109 non-null   int64  \n",
      " 15  lOBlank            2109 non-null   int64  \n",
      " 16  locCodeAndComment  2109 non-null   int64  \n",
      " 17  uniq_Op            2109 non-null   float64\n",
      " 18  uniq_Opnd          2109 non-null   float64\n",
      " 19  total_Op           2109 non-null   float64\n",
      " 20  total_Opnd         2109 non-null   float64\n",
      " 21  branchCount        2109 non-null   float64\n",
      " 22  defects            2109 non-null   bool   \n",
      "dtypes: bool(1), float64(17), int64(5)\n",
      "memory usage: 364.7 KB\n"
     ]
    }
   ],
   "source": [
    "df.info()"
   ]
  },
  {
   "cell_type": "code",
   "execution_count": 7,
   "id": "3638e5e8",
   "metadata": {
    "execution": {
     "iopub.execute_input": "2021-04-04T22:31:24.653835Z",
     "iopub.status.busy": "2021-04-04T22:31:24.652280Z",
     "iopub.status.idle": "2021-04-04T22:31:24.689293Z",
     "shell.execute_reply": "2021-04-04T22:31:24.688800Z"
    },
    "papermill": {
     "duration": 0.076811,
     "end_time": "2021-04-04T22:31:24.689417",
     "exception": false,
     "start_time": "2021-04-04T22:31:24.612606",
     "status": "completed"
    },
    "tags": []
   },
   "outputs": [
    {
     "data": {
      "text/html": [
       "<div>\n",
       "<style scoped>\n",
       "    .dataframe tbody tr th:only-of-type {\n",
       "        vertical-align: middle;\n",
       "    }\n",
       "\n",
       "    .dataframe tbody tr th {\n",
       "        vertical-align: top;\n",
       "    }\n",
       "\n",
       "    .dataframe thead th {\n",
       "        text-align: right;\n",
       "    }\n",
       "</style>\n",
       "<table border=\"1\" class=\"dataframe\">\n",
       "  <thead>\n",
       "    <tr style=\"text-align: right;\">\n",
       "      <th></th>\n",
       "      <th>id</th>\n",
       "      <th>loc</th>\n",
       "      <th>v(g)</th>\n",
       "      <th>ev(g)</th>\n",
       "      <th>iv(g)</th>\n",
       "      <th>n</th>\n",
       "      <th>v</th>\n",
       "      <th>l</th>\n",
       "      <th>d</th>\n",
       "      <th>i</th>\n",
       "      <th>...</th>\n",
       "      <th>lOCode</th>\n",
       "      <th>lOComment</th>\n",
       "      <th>lOBlank</th>\n",
       "      <th>locCodeAndComment</th>\n",
       "      <th>uniq_Op</th>\n",
       "      <th>uniq_Opnd</th>\n",
       "      <th>total_Op</th>\n",
       "      <th>total_Opnd</th>\n",
       "      <th>branchCount</th>\n",
       "      <th>defects</th>\n",
       "    </tr>\n",
       "  </thead>\n",
       "  <tbody>\n",
       "    <tr>\n",
       "      <th>0</th>\n",
       "      <td>1</td>\n",
       "      <td>1.1</td>\n",
       "      <td>1.4</td>\n",
       "      <td>1.4</td>\n",
       "      <td>1.4</td>\n",
       "      <td>1.3</td>\n",
       "      <td>1.30</td>\n",
       "      <td>1.30</td>\n",
       "      <td>1.30</td>\n",
       "      <td>1.30</td>\n",
       "      <td>...</td>\n",
       "      <td>2</td>\n",
       "      <td>2</td>\n",
       "      <td>2</td>\n",
       "      <td>2</td>\n",
       "      <td>1.2</td>\n",
       "      <td>1.2</td>\n",
       "      <td>1.2</td>\n",
       "      <td>1.2</td>\n",
       "      <td>1.4</td>\n",
       "      <td>False</td>\n",
       "    </tr>\n",
       "    <tr>\n",
       "      <th>1</th>\n",
       "      <td>2</td>\n",
       "      <td>1.0</td>\n",
       "      <td>1.0</td>\n",
       "      <td>1.0</td>\n",
       "      <td>1.0</td>\n",
       "      <td>1.0</td>\n",
       "      <td>1.00</td>\n",
       "      <td>1.00</td>\n",
       "      <td>1.00</td>\n",
       "      <td>1.00</td>\n",
       "      <td>...</td>\n",
       "      <td>1</td>\n",
       "      <td>1</td>\n",
       "      <td>1</td>\n",
       "      <td>1</td>\n",
       "      <td>1.0</td>\n",
       "      <td>1.0</td>\n",
       "      <td>1.0</td>\n",
       "      <td>1.0</td>\n",
       "      <td>1.0</td>\n",
       "      <td>True</td>\n",
       "    </tr>\n",
       "    <tr>\n",
       "      <th>2</th>\n",
       "      <td>3</td>\n",
       "      <td>83.0</td>\n",
       "      <td>11.0</td>\n",
       "      <td>1.0</td>\n",
       "      <td>11.0</td>\n",
       "      <td>171.0</td>\n",
       "      <td>927.89</td>\n",
       "      <td>0.04</td>\n",
       "      <td>23.04</td>\n",
       "      <td>40.27</td>\n",
       "      <td>...</td>\n",
       "      <td>65</td>\n",
       "      <td>10</td>\n",
       "      <td>6</td>\n",
       "      <td>0</td>\n",
       "      <td>18.0</td>\n",
       "      <td>25.0</td>\n",
       "      <td>107.0</td>\n",
       "      <td>64.0</td>\n",
       "      <td>21.0</td>\n",
       "      <td>True</td>\n",
       "    </tr>\n",
       "    <tr>\n",
       "      <th>3</th>\n",
       "      <td>4</td>\n",
       "      <td>46.0</td>\n",
       "      <td>8.0</td>\n",
       "      <td>6.0</td>\n",
       "      <td>8.0</td>\n",
       "      <td>141.0</td>\n",
       "      <td>769.78</td>\n",
       "      <td>0.07</td>\n",
       "      <td>14.86</td>\n",
       "      <td>51.81</td>\n",
       "      <td>...</td>\n",
       "      <td>37</td>\n",
       "      <td>2</td>\n",
       "      <td>5</td>\n",
       "      <td>0</td>\n",
       "      <td>16.0</td>\n",
       "      <td>28.0</td>\n",
       "      <td>89.0</td>\n",
       "      <td>52.0</td>\n",
       "      <td>15.0</td>\n",
       "      <td>True</td>\n",
       "    </tr>\n",
       "    <tr>\n",
       "      <th>4</th>\n",
       "      <td>5</td>\n",
       "      <td>25.0</td>\n",
       "      <td>3.0</td>\n",
       "      <td>1.0</td>\n",
       "      <td>3.0</td>\n",
       "      <td>58.0</td>\n",
       "      <td>254.75</td>\n",
       "      <td>0.11</td>\n",
       "      <td>9.35</td>\n",
       "      <td>27.25</td>\n",
       "      <td>...</td>\n",
       "      <td>21</td>\n",
       "      <td>0</td>\n",
       "      <td>2</td>\n",
       "      <td>0</td>\n",
       "      <td>11.0</td>\n",
       "      <td>10.0</td>\n",
       "      <td>41.0</td>\n",
       "      <td>17.0</td>\n",
       "      <td>5.0</td>\n",
       "      <td>True</td>\n",
       "    </tr>\n",
       "  </tbody>\n",
       "</table>\n",
       "<p>5 rows × 23 columns</p>\n",
       "</div>"
      ],
      "text/plain": [
       "   id   loc  v(g)  ev(g)  iv(g)      n       v     l      d      i  ...  \\\n",
       "0   1   1.1   1.4    1.4    1.4    1.3    1.30  1.30   1.30   1.30  ...   \n",
       "1   2   1.0   1.0    1.0    1.0    1.0    1.00  1.00   1.00   1.00  ...   \n",
       "2   3  83.0  11.0    1.0   11.0  171.0  927.89  0.04  23.04  40.27  ...   \n",
       "3   4  46.0   8.0    6.0    8.0  141.0  769.78  0.07  14.86  51.81  ...   \n",
       "4   5  25.0   3.0    1.0    3.0   58.0  254.75  0.11   9.35  27.25  ...   \n",
       "\n",
       "   lOCode  lOComment  lOBlank  locCodeAndComment  uniq_Op  uniq_Opnd  \\\n",
       "0       2          2        2                  2      1.2        1.2   \n",
       "1       1          1        1                  1      1.0        1.0   \n",
       "2      65         10        6                  0     18.0       25.0   \n",
       "3      37          2        5                  0     16.0       28.0   \n",
       "4      21          0        2                  0     11.0       10.0   \n",
       "\n",
       "   total_Op  total_Opnd  branchCount  defects  \n",
       "0       1.2         1.2          1.4    False  \n",
       "1       1.0         1.0          1.0     True  \n",
       "2     107.0        64.0         21.0     True  \n",
       "3      89.0        52.0         15.0     True  \n",
       "4      41.0        17.0          5.0     True  \n",
       "\n",
       "[5 rows x 23 columns]"
      ]
     },
     "execution_count": 7,
     "metadata": {},
     "output_type": "execute_result"
    }
   ],
   "source": [
    "df.head()"
   ]
  },
  {
   "cell_type": "code",
   "execution_count": 8,
   "id": "733e95eb",
   "metadata": {
    "execution": {
     "iopub.execute_input": "2021-04-04T22:31:24.764457Z",
     "iopub.status.busy": "2021-04-04T22:31:24.762296Z",
     "iopub.status.idle": "2021-04-04T22:31:24.766029Z",
     "shell.execute_reply": "2021-04-04T22:31:24.767338Z"
    },
    "papermill": {
     "duration": 0.053766,
     "end_time": "2021-04-04T22:31:24.768026",
     "exception": false,
     "start_time": "2021-04-04T22:31:24.714260",
     "status": "completed"
    },
    "tags": []
   },
   "outputs": [],
   "source": [
    "del df['id']"
   ]
  },
  {
   "cell_type": "code",
   "execution_count": 9,
   "id": "6ff6f5b0",
   "metadata": {
    "execution": {
     "iopub.execute_input": "2021-04-04T22:31:24.851580Z",
     "iopub.status.busy": "2021-04-04T22:31:24.850320Z",
     "iopub.status.idle": "2021-04-04T22:31:24.853285Z",
     "shell.execute_reply": "2021-04-04T22:31:24.854743Z"
    },
    "papermill": {
     "duration": 0.057272,
     "end_time": "2021-04-04T22:31:24.855176",
     "exception": false,
     "start_time": "2021-04-04T22:31:24.797904",
     "status": "completed"
    },
    "tags": []
   },
   "outputs": [],
   "source": [
    "if PROFILE_REPORTING:\n",
    "    ProfileReport(df).to_widgets()"
   ]
  },
  {
   "cell_type": "markdown",
   "id": "1deaf3f0",
   "metadata": {
    "papermill": {
     "duration": 0.047506,
     "end_time": "2021-04-04T22:31:24.943462",
     "exception": false,
     "start_time": "2021-04-04T22:31:24.895956",
     "status": "completed"
    },
    "tags": []
   },
   "source": [
    "# Preprocess"
   ]
  },
  {
   "cell_type": "code",
   "execution_count": 10,
   "id": "1513e563",
   "metadata": {
    "execution": {
     "iopub.execute_input": "2021-04-04T22:31:25.043469Z",
     "iopub.status.busy": "2021-04-04T22:31:25.040798Z",
     "iopub.status.idle": "2021-04-04T22:31:25.048857Z",
     "shell.execute_reply": "2021-04-04T22:31:25.052631Z"
    },
    "papermill": {
     "duration": 0.0599,
     "end_time": "2021-04-04T22:31:25.053536",
     "exception": false,
     "start_time": "2021-04-04T22:31:24.993636",
     "status": "completed"
    },
    "tags": []
   },
   "outputs": [],
   "source": [
    "working_df = df.copy()"
   ]
  },
  {
   "cell_type": "code",
   "execution_count": 11,
   "id": "3b26d675",
   "metadata": {
    "execution": {
     "iopub.execute_input": "2021-04-04T22:31:25.175012Z",
     "iopub.status.busy": "2021-04-04T22:31:25.167943Z",
     "iopub.status.idle": "2021-04-04T22:31:25.181428Z",
     "shell.execute_reply": "2021-04-04T22:31:25.179267Z"
    },
    "papermill": {
     "duration": 0.067694,
     "end_time": "2021-04-04T22:31:25.181750",
     "exception": false,
     "start_time": "2021-04-04T22:31:25.114056",
     "status": "completed"
    },
    "tags": []
   },
   "outputs": [],
   "source": [
    "working_df['defects'] = working_df['defects'].replace([False, True], [0, 1])"
   ]
  },
  {
   "cell_type": "code",
   "execution_count": 12,
   "id": "eb48604f",
   "metadata": {
    "execution": {
     "iopub.execute_input": "2021-04-04T22:31:25.258717Z",
     "iopub.status.busy": "2021-04-04T22:31:25.256763Z",
     "iopub.status.idle": "2021-04-04T22:31:25.260693Z",
     "shell.execute_reply": "2021-04-04T22:31:25.261698Z"
    },
    "papermill": {
     "duration": 0.041419,
     "end_time": "2021-04-04T22:31:25.262173",
     "exception": false,
     "start_time": "2021-04-04T22:31:25.220754",
     "status": "completed"
    },
    "tags": []
   },
   "outputs": [],
   "source": [
    "for col in dataset_config['delete_columns']:\n",
    "    del working_df[col]"
   ]
  },
  {
   "cell_type": "code",
   "execution_count": 13,
   "id": "9a17bc29",
   "metadata": {
    "execution": {
     "iopub.execute_input": "2021-04-04T22:31:25.334754Z",
     "iopub.status.busy": "2021-04-04T22:31:25.333566Z",
     "iopub.status.idle": "2021-04-04T22:31:25.352040Z",
     "shell.execute_reply": "2021-04-04T22:31:25.351056Z"
    },
    "papermill": {
     "duration": 0.05921,
     "end_time": "2021-04-04T22:31:25.352238",
     "exception": false,
     "start_time": "2021-04-04T22:31:25.293028",
     "status": "completed"
    },
    "tags": []
   },
   "outputs": [],
   "source": [
    "working_df = working_df.drop_duplicates()"
   ]
  },
  {
   "cell_type": "markdown",
   "id": "a4d52ca6",
   "metadata": {
    "papermill": {
     "duration": 0.034141,
     "end_time": "2021-04-04T22:31:25.419155",
     "exception": false,
     "start_time": "2021-04-04T22:31:25.385014",
     "status": "completed"
    },
    "tags": []
   },
   "source": [
    "# Split"
   ]
  },
  {
   "cell_type": "code",
   "execution_count": 14,
   "id": "3e9ee4b5",
   "metadata": {
    "execution": {
     "iopub.execute_input": "2021-04-04T22:31:25.491695Z",
     "iopub.status.busy": "2021-04-04T22:31:25.490253Z",
     "iopub.status.idle": "2021-04-04T22:31:25.548054Z",
     "shell.execute_reply": "2021-04-04T22:31:25.549817Z"
    },
    "papermill": {
     "duration": 0.099478,
     "end_time": "2021-04-04T22:31:25.550023",
     "exception": false,
     "start_time": "2021-04-04T22:31:25.450545",
     "status": "completed"
    },
    "tags": []
   },
   "outputs": [],
   "source": [
    "from sklearn.model_selection import train_test_split"
   ]
  },
  {
   "cell_type": "code",
   "execution_count": 15,
   "id": "274004ce",
   "metadata": {
    "execution": {
     "iopub.execute_input": "2021-04-04T22:31:25.627034Z",
     "iopub.status.busy": "2021-04-04T22:31:25.626177Z",
     "iopub.status.idle": "2021-04-04T22:31:25.635400Z",
     "shell.execute_reply": "2021-04-04T22:31:25.635920Z"
    },
    "papermill": {
     "duration": 0.044883,
     "end_time": "2021-04-04T22:31:25.636074",
     "exception": false,
     "start_time": "2021-04-04T22:31:25.591191",
     "status": "completed"
    },
    "scrolled": true,
    "tags": []
   },
   "outputs": [],
   "source": [
    "inlier, outlier = working_df[working_df['defects'] == 0], working_df[working_df['defects'] == 1]"
   ]
  },
  {
   "cell_type": "code",
   "execution_count": 16,
   "id": "753c7b03",
   "metadata": {
    "execution": {
     "iopub.execute_input": "2021-04-04T22:31:25.692468Z",
     "iopub.status.busy": "2021-04-04T22:31:25.691354Z",
     "iopub.status.idle": "2021-04-04T22:31:25.695395Z",
     "shell.execute_reply": "2021-04-04T22:31:25.695961Z"
    },
    "papermill": {
     "duration": 0.03317,
     "end_time": "2021-04-04T22:31:25.696107",
     "exception": false,
     "start_time": "2021-04-04T22:31:25.662937",
     "status": "completed"
    },
    "tags": []
   },
   "outputs": [],
   "source": [
    "X_inlier = inlier.copy()\n",
    "y_inlier = X_inlier.pop('defects')\n",
    "X_outlier = outlier.copy()\n",
    "y_outlier = X_outlier.pop('defects')"
   ]
  },
  {
   "cell_type": "code",
   "execution_count": 17,
   "id": "2ba43193",
   "metadata": {
    "execution": {
     "iopub.execute_input": "2021-04-04T22:31:25.766303Z",
     "iopub.status.busy": "2021-04-04T22:31:25.765698Z",
     "iopub.status.idle": "2021-04-04T22:31:25.767986Z",
     "shell.execute_reply": "2021-04-04T22:31:25.768437Z"
    },
    "papermill": {
     "duration": 0.046844,
     "end_time": "2021-04-04T22:31:25.768587",
     "exception": false,
     "start_time": "2021-04-04T22:31:25.721743",
     "status": "completed"
    },
    "tags": []
   },
   "outputs": [],
   "source": [
    "test_size = dataset_config['test_size']\n",
    "random_state = dataset_config['random_state']\n",
    "\n",
    "X_inlier_train, X_inlier_test, y_inlier_train, y_inlier_test = train_test_split(\n",
    "    X_inlier,\n",
    "    y_inlier,\n",
    "    test_size=test_size,\n",
    "    random_state=random_state\n",
    ")"
   ]
  },
  {
   "cell_type": "code",
   "execution_count": 18,
   "id": "0b7582ca",
   "metadata": {
    "execution": {
     "iopub.execute_input": "2021-04-04T22:31:25.826644Z",
     "iopub.status.busy": "2021-04-04T22:31:25.825890Z",
     "iopub.status.idle": "2021-04-04T22:31:25.829350Z",
     "shell.execute_reply": "2021-04-04T22:31:25.828813Z"
    },
    "papermill": {
     "duration": 0.037351,
     "end_time": "2021-04-04T22:31:25.829469",
     "exception": false,
     "start_time": "2021-04-04T22:31:25.792118",
     "status": "completed"
    },
    "tags": []
   },
   "outputs": [],
   "source": [
    "test_outlier_size = dataset_config['test_outlier_size']\n",
    "if test_outlier_size > 0.0:\n",
    "    X_outlier_train, X_outlier_test, y_outlier_train, y_outlier_test = train_test_split(\n",
    "        X_outlier,\n",
    "        y_outlier,\n",
    "        test_size=test_outlier_size,\n",
    "        random_state=random_state\n",
    "    )\n",
    "else:\n",
    "    X_outlier_train, y_outlier_train = pd.DataFrame(columns=X_outlier.columns), pd.Series(dtype='int64')\n",
    "    X_outlier_test, y_outlier_test = X_outlier.copy(), y_outlier.copy()"
   ]
  },
  {
   "cell_type": "code",
   "execution_count": 19,
   "id": "c34363db",
   "metadata": {
    "execution": {
     "iopub.execute_input": "2021-04-04T22:31:25.896817Z",
     "iopub.status.busy": "2021-04-04T22:31:25.894848Z",
     "iopub.status.idle": "2021-04-04T22:31:25.904629Z",
     "shell.execute_reply": "2021-04-04T22:31:25.905533Z"
    },
    "papermill": {
     "duration": 0.051197,
     "end_time": "2021-04-04T22:31:25.905788",
     "exception": false,
     "start_time": "2021-04-04T22:31:25.854591",
     "status": "completed"
    },
    "tags": []
   },
   "outputs": [],
   "source": [
    "X_train, y_train = pd.concat([X_inlier_train, X_outlier_train], ignore_index=True), pd.concat([y_inlier_train, y_outlier_train], ignore_index=True)\n",
    "X_test, y_test = pd.concat([X_inlier_test, X_outlier_test], ignore_index=True), pd.concat([y_inlier_test, y_outlier_test], ignore_index=True)"
   ]
  },
  {
   "cell_type": "markdown",
   "id": "7cde7309",
   "metadata": {
    "papermill": {
     "duration": 0.038092,
     "end_time": "2021-04-04T22:31:25.985336",
     "exception": false,
     "start_time": "2021-04-04T22:31:25.947244",
     "status": "completed"
    },
    "tags": []
   },
   "source": [
    "# Model"
   ]
  },
  {
   "cell_type": "code",
   "execution_count": 20,
   "id": "2b12a415",
   "metadata": {
    "execution": {
     "iopub.execute_input": "2021-04-04T22:31:26.066065Z",
     "iopub.status.busy": "2021-04-04T22:31:26.064968Z",
     "iopub.status.idle": "2021-04-04T22:31:26.067871Z",
     "shell.execute_reply": "2021-04-04T22:31:26.068452Z"
    },
    "papermill": {
     "duration": 0.048737,
     "end_time": "2021-04-04T22:31:26.068691",
     "exception": false,
     "start_time": "2021-04-04T22:31:26.019954",
     "status": "completed"
    },
    "tags": []
   },
   "outputs": [],
   "source": [
    "from math import sqrt\n",
    "\n",
    "\n",
    "class KNNDataDescription:\n",
    "    def __init__(self, k=5, outlier_threshold=1.0):\n",
    "        self.k = k\n",
    "        self.outlier_threshold = outlier_threshold\n",
    "        self.X = []\n",
    "    \n",
    "    def fit(self, X):\n",
    "        self.X = [features.to_list() for index, features in X.iterrows()]\n",
    "\n",
    "    def predict(self, entries):\n",
    "        return [self.predict_entry(features.to_list()) for index, features in entries.iterrows()]\n",
    "    \n",
    "    def predict_entry(self, entry):\n",
    "        kth_neighbor, kth_distance = self.get_kth_neighbor(entry, self.k)\n",
    "        kth_kth_neighbor, kth_kth_distance = self.get_kth_neighbor(kth_neighbor, self.k + 1)\n",
    "\n",
    "        outlier_score = kth_distance / (kth_kth_distance + 0.000001)\n",
    "\n",
    "        return 1 if outlier_score < self.outlier_threshold else -1\n",
    "        \n",
    "    def euclidean_distance(self, features1, features2):\n",
    "        distance = 0.0\n",
    "        for feat1, feat2 in zip(features1, features2):\n",
    "            distance += (feat1 - feat2)**2\n",
    "                \n",
    "        return sqrt(distance)\n",
    "\n",
    "    def get_neighbors(self, entry, k):\n",
    "        distance_to_data_points = [\n",
    "            (data_point, self.euclidean_distance(entry, data_point))\n",
    "            for data_point in self.X\n",
    "        ]\n",
    "        sorted_by_distance = sorted(distance_to_data_points, key=lambda tup: tup[1])\n",
    "        neighbors = sorted_by_distance[:k]\n",
    "        return neighbors\n",
    "\n",
    "    def get_kth_neighbor(self, entry, k):\n",
    "        neighbors = self.get_neighbors(entry, k)\n",
    "        return neighbors[-1]\n"
   ]
  },
  {
   "cell_type": "code",
   "execution_count": 21,
   "id": "1fa9ec1c",
   "metadata": {
    "execution": {
     "iopub.execute_input": "2021-04-04T22:31:26.129395Z",
     "iopub.status.busy": "2021-04-04T22:31:26.127799Z",
     "iopub.status.idle": "2021-04-04T22:31:26.156807Z",
     "shell.execute_reply": "2021-04-04T22:31:26.156164Z"
    },
    "papermill": {
     "duration": 0.0622,
     "end_time": "2021-04-04T22:31:26.156958",
     "exception": false,
     "start_time": "2021-04-04T22:31:26.094758",
     "status": "completed"
    },
    "tags": []
   },
   "outputs": [],
   "source": [
    "from sklearn.svm import OneClassSVM\n",
    "\n",
    "\n",
    "models = {\n",
    "    'oneclasssvm': OneClassSVM,\n",
    "    'knndatadescription': KNNDataDescription,\n",
    "}"
   ]
  },
  {
   "cell_type": "code",
   "execution_count": 22,
   "id": "4d72a0b1",
   "metadata": {
    "execution": {
     "iopub.execute_input": "2021-04-04T22:31:26.216525Z",
     "iopub.status.busy": "2021-04-04T22:31:26.215702Z",
     "iopub.status.idle": "2021-04-04T22:31:26.218334Z",
     "shell.execute_reply": "2021-04-04T22:31:26.217798Z"
    },
    "papermill": {
     "duration": 0.037003,
     "end_time": "2021-04-04T22:31:26.218453",
     "exception": false,
     "start_time": "2021-04-04T22:31:26.181450",
     "status": "completed"
    },
    "scrolled": true,
    "tags": []
   },
   "outputs": [],
   "source": [
    "model_cls = models[model_config['model_type']]\n",
    "model = model_cls(**model_config['hyperparameters'])"
   ]
  },
  {
   "cell_type": "markdown",
   "id": "e00cff3b",
   "metadata": {
    "papermill": {
     "duration": 0.026438,
     "end_time": "2021-04-04T22:31:26.268329",
     "exception": false,
     "start_time": "2021-04-04T22:31:26.241891",
     "status": "completed"
    },
    "tags": []
   },
   "source": [
    "# Fit"
   ]
  },
  {
   "cell_type": "code",
   "execution_count": 23,
   "id": "8b2ded89",
   "metadata": {
    "execution": {
     "iopub.execute_input": "2021-04-04T22:31:26.325789Z",
     "iopub.status.busy": "2021-04-04T22:31:26.324562Z",
     "iopub.status.idle": "2021-04-04T22:31:26.380845Z",
     "shell.execute_reply": "2021-04-04T22:31:26.382206Z"
    },
    "papermill": {
     "duration": 0.091572,
     "end_time": "2021-04-04T22:31:26.382607",
     "exception": false,
     "start_time": "2021-04-04T22:31:26.291035",
     "status": "completed"
    },
    "tags": []
   },
   "outputs": [],
   "source": [
    "model.fit(X_train)"
   ]
  },
  {
   "cell_type": "markdown",
   "id": "f99999f7",
   "metadata": {
    "papermill": {
     "duration": 0.023775,
     "end_time": "2021-04-04T22:31:26.432440",
     "exception": false,
     "start_time": "2021-04-04T22:31:26.408665",
     "status": "completed"
    },
    "tags": []
   },
   "source": [
    "# Predict"
   ]
  },
  {
   "cell_type": "code",
   "execution_count": 24,
   "id": "6536fbf7",
   "metadata": {
    "execution": {
     "iopub.execute_input": "2021-04-04T22:31:26.493341Z",
     "iopub.status.busy": "2021-04-04T22:31:26.492391Z",
     "iopub.status.idle": "2021-04-04T22:31:31.197199Z",
     "shell.execute_reply": "2021-04-04T22:31:31.197787Z"
    },
    "papermill": {
     "duration": 4.740677,
     "end_time": "2021-04-04T22:31:31.197961",
     "exception": false,
     "start_time": "2021-04-04T22:31:26.457284",
     "status": "completed"
    },
    "tags": []
   },
   "outputs": [],
   "source": [
    "predictions = model.predict(X_test)"
   ]
  },
  {
   "cell_type": "markdown",
   "id": "aa1c9881",
   "metadata": {
    "papermill": {
     "duration": 0.060213,
     "end_time": "2021-04-04T22:31:31.315875",
     "exception": false,
     "start_time": "2021-04-04T22:31:31.255662",
     "status": "completed"
    },
    "tags": []
   },
   "source": [
    "# Evaluate"
   ]
  },
  {
   "cell_type": "code",
   "execution_count": 25,
   "id": "894f0f04",
   "metadata": {
    "execution": {
     "iopub.execute_input": "2021-04-04T22:31:31.452363Z",
     "iopub.status.busy": "2021-04-04T22:31:31.449121Z",
     "iopub.status.idle": "2021-04-04T22:31:31.456681Z",
     "shell.execute_reply": "2021-04-04T22:31:31.458105Z"
    },
    "papermill": {
     "duration": 0.080372,
     "end_time": "2021-04-04T22:31:31.458447",
     "exception": false,
     "start_time": "2021-04-04T22:31:31.378075",
     "status": "completed"
    },
    "tags": []
   },
   "outputs": [],
   "source": [
    "from sklearn.metrics import f1_score"
   ]
  },
  {
   "cell_type": "code",
   "execution_count": 26,
   "id": "211744d3",
   "metadata": {
    "execution": {
     "iopub.execute_input": "2021-04-04T22:31:31.599790Z",
     "iopub.status.busy": "2021-04-04T22:31:31.598325Z",
     "iopub.status.idle": "2021-04-04T22:31:31.601796Z",
     "shell.execute_reply": "2021-04-04T22:31:31.603660Z"
    },
    "papermill": {
     "duration": 0.078584,
     "end_time": "2021-04-04T22:31:31.604321",
     "exception": false,
     "start_time": "2021-04-04T22:31:31.525737",
     "status": "completed"
    },
    "tags": []
   },
   "outputs": [],
   "source": [
    "y_test = y_test.replace([0, 1], [1, -1])"
   ]
  },
  {
   "cell_type": "code",
   "execution_count": 27,
   "id": "d68a9204",
   "metadata": {
    "execution": {
     "iopub.execute_input": "2021-04-04T22:31:31.777181Z",
     "iopub.status.busy": "2021-04-04T22:31:31.770415Z",
     "iopub.status.idle": "2021-04-04T22:31:31.788065Z",
     "shell.execute_reply": "2021-04-04T22:31:31.790541Z"
    },
    "papermill": {
     "duration": 0.122861,
     "end_time": "2021-04-04T22:31:31.791068",
     "exception": false,
     "start_time": "2021-04-04T22:31:31.668207",
     "status": "completed"
    },
    "tags": []
   },
   "outputs": [],
   "source": [
    "def evaluate(truths, predictions, pos_label, neg_label):\n",
    "    TP = 0\n",
    "    FP = 0\n",
    "    TN = 0\n",
    "    FN = 0\n",
    "\n",
    "    for truth, pred in zip(truths, predictions): \n",
    "        if truth == pred == pos_label:\n",
    "           TP += 1\n",
    "        elif pred == pos_label and truth == neg_label:\n",
    "           FP += 1\n",
    "        elif truth == pred == neg_label:\n",
    "           TN += 1\n",
    "        elif pred == neg_label and truth == pos_label:\n",
    "           FN += 1\n",
    "\n",
    "    precision = TP / (TP + FP)\n",
    "    sensitivity = TP / (TP + FN)\n",
    "    \n",
    "    return {\n",
    "        'true_pos': TP,\n",
    "        'false_pos': FP,\n",
    "        'false_neg': FN,\n",
    "        'true_neg': TN,\n",
    "        'precision': precision,\n",
    "        'sensitivity': sensitivity,\n",
    "        'f1': (2 * (precision * sensitivity)) / (precision + sensitivity)\n",
    "    }\n",
    "\n",
    "score = evaluate(y_test, predictions, pos_label=-1, neg_label=1)"
   ]
  },
  {
   "cell_type": "markdown",
   "id": "93596516",
   "metadata": {
    "papermill": {
     "duration": 0.048525,
     "end_time": "2021-04-04T22:31:31.898830",
     "exception": false,
     "start_time": "2021-04-04T22:31:31.850305",
     "status": "completed"
    },
    "tags": []
   },
   "source": [
    "# Report"
   ]
  },
  {
   "cell_type": "code",
   "execution_count": 28,
   "id": "bea5fba1",
   "metadata": {
    "execution": {
     "iopub.execute_input": "2021-04-04T22:31:31.994465Z",
     "iopub.status.busy": "2021-04-04T22:31:31.993048Z",
     "iopub.status.idle": "2021-04-04T22:31:31.999607Z",
     "shell.execute_reply": "2021-04-04T22:31:32.002623Z"
    },
    "papermill": {
     "duration": 0.066235,
     "end_time": "2021-04-04T22:31:32.002978",
     "exception": false,
     "start_time": "2021-04-04T22:31:31.936743",
     "status": "completed"
    },
    "tags": []
   },
   "outputs": [],
   "source": [
    "import csv\n",
    "\n",
    "\n",
    "dataset_config_name = DATASET_CONFIG_PATH.split('/')[-1].split('.')[0]\n",
    "model_config_name = MODEL_CONFIG_PATH.split('/')[-1].split('.')[0]\n",
    "configuration = f\"dataset_{dataset_config_name}-model_{model_config_name}\"\n",
    "\n",
    "with open('results.csv', 'a') as f:\n",
    "    report = dict({'configuration': configuration}, **score)\n",
    "    writer = csv.DictWriter(f, report.keys())\n",
    "    writer.writerow(report)"
   ]
  }
 ],
 "metadata": {
  "celltoolbar": "Tags",
  "kernelspec": {
   "display_name": "Python 3",
   "language": "python",
   "name": "python3"
  },
  "language_info": {
   "codemirror_mode": {
    "name": "ipython",
    "version": 3
   },
   "file_extension": ".py",
   "mimetype": "text/x-python",
   "name": "python",
   "nbconvert_exporter": "python",
   "pygments_lexer": "ipython3",
   "version": "3.9.1"
  },
  "papermill": {
   "default_parameters": {},
   "duration": 11.812111,
   "end_time": "2021-04-04T22:31:32.967901",
   "environment_variables": {},
   "exception": null,
   "input_path": "main.ipynb",
   "output_path": "runs/dataset_000020-model_000002.ipynb",
   "parameters": {
    "DATASET_CONFIG_PATH": "config/dataset/000020.json",
    "MODEL_CONFIG_PATH": "config/model/000002.json",
    "PROFILE_REPORTING": false
   },
   "start_time": "2021-04-04T22:31:21.155790",
   "version": "2.3.3"
  }
 },
 "nbformat": 4,
 "nbformat_minor": 5
}