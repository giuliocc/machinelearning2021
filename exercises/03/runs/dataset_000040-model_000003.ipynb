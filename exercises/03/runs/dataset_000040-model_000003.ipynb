{
 "cells": [
  {
   "cell_type": "markdown",
   "id": "51c71c25",
   "metadata": {
    "papermill": {
     "duration": 0.02901,
     "end_time": "2021-04-04T22:43:53.412158",
     "exception": false,
     "start_time": "2021-04-04T22:43:53.383148",
     "status": "completed"
    },
    "tags": []
   },
   "source": [
    "# Parametrizing"
   ]
  },
  {
   "cell_type": "code",
   "execution_count": 1,
   "id": "3b136394",
   "metadata": {
    "execution": {
     "iopub.execute_input": "2021-04-04T22:43:53.478180Z",
     "iopub.status.busy": "2021-04-04T22:43:53.476137Z",
     "iopub.status.idle": "2021-04-04T22:43:53.480635Z",
     "shell.execute_reply": "2021-04-04T22:43:53.481781Z"
    },
    "papermill": {
     "duration": 0.044382,
     "end_time": "2021-04-04T22:43:53.482058",
     "exception": false,
     "start_time": "2021-04-04T22:43:53.437676",
     "status": "completed"
    },
    "tags": [
     "parameters"
    ]
   },
   "outputs": [],
   "source": [
    "DATASET_CONFIG_PATH = 'config/dataset/kc1_001.json'\n",
    "MODEL_CONFIG_PATH = 'config/model/knndd_001.json'\n",
    "PROFILE_REPORTING = False"
   ]
  },
  {
   "cell_type": "code",
   "execution_count": 2,
   "id": "7c1eeb19",
   "metadata": {
    "execution": {
     "iopub.execute_input": "2021-04-04T22:43:53.536409Z",
     "iopub.status.busy": "2021-04-04T22:43:53.534579Z",
     "iopub.status.idle": "2021-04-04T22:43:53.537408Z",
     "shell.execute_reply": "2021-04-04T22:43:53.537946Z"
    },
    "papermill": {
     "duration": 0.032435,
     "end_time": "2021-04-04T22:43:53.538114",
     "exception": false,
     "start_time": "2021-04-04T22:43:53.505679",
     "status": "completed"
    },
    "tags": [
     "injected-parameters"
    ]
   },
   "outputs": [],
   "source": [
    "# Parameters\n",
    "DATASET_CONFIG_PATH = \"config/dataset/000040.json\"\n",
    "MODEL_CONFIG_PATH = \"config/model/000003.json\"\n",
    "PROFILE_REPORTING = False\n"
   ]
  },
  {
   "cell_type": "code",
   "execution_count": 3,
   "id": "b80f2a10",
   "metadata": {
    "execution": {
     "iopub.execute_input": "2021-04-04T22:43:53.589088Z",
     "iopub.status.busy": "2021-04-04T22:43:53.588225Z",
     "iopub.status.idle": "2021-04-04T22:43:53.592231Z",
     "shell.execute_reply": "2021-04-04T22:43:53.593089Z"
    },
    "papermill": {
     "duration": 0.0333,
     "end_time": "2021-04-04T22:43:53.593287",
     "exception": false,
     "start_time": "2021-04-04T22:43:53.559987",
     "status": "completed"
    },
    "tags": []
   },
   "outputs": [],
   "source": [
    "import json\n",
    "\n",
    "\n",
    "with open(DATASET_CONFIG_PATH) as f:\n",
    "    dataset_config = json.load(f)\n",
    "\n",
    "with open(MODEL_CONFIG_PATH) as f:\n",
    "    model_config = json.load(f)"
   ]
  },
  {
   "cell_type": "markdown",
   "id": "9a4b0e2d",
   "metadata": {
    "papermill": {
     "duration": 0.020421,
     "end_time": "2021-04-04T22:43:53.638919",
     "exception": false,
     "start_time": "2021-04-04T22:43:53.618498",
     "status": "completed"
    },
    "tags": []
   },
   "source": [
    "# Profiling"
   ]
  },
  {
   "cell_type": "code",
   "execution_count": 4,
   "id": "a3e0289b",
   "metadata": {
    "execution": {
     "iopub.execute_input": "2021-04-04T22:43:53.686545Z",
     "iopub.status.busy": "2021-04-04T22:43:53.685563Z",
     "iopub.status.idle": "2021-04-04T22:43:55.187421Z",
     "shell.execute_reply": "2021-04-04T22:43:55.186872Z"
    },
    "papermill": {
     "duration": 1.528169,
     "end_time": "2021-04-04T22:43:55.187545",
     "exception": false,
     "start_time": "2021-04-04T22:43:53.659376",
     "status": "completed"
    },
    "tags": []
   },
   "outputs": [],
   "source": [
    "import pandas as pd\n",
    "from pandas_profiling import ProfileReport"
   ]
  },
  {
   "cell_type": "code",
   "execution_count": 5,
   "id": "ee6c0666",
   "metadata": {
    "execution": {
     "iopub.execute_input": "2021-04-04T22:43:55.237983Z",
     "iopub.status.busy": "2021-04-04T22:43:55.236849Z",
     "iopub.status.idle": "2021-04-04T22:43:55.254685Z",
     "shell.execute_reply": "2021-04-04T22:43:55.254083Z"
    },
    "papermill": {
     "duration": 0.044854,
     "end_time": "2021-04-04T22:43:55.254824",
     "exception": false,
     "start_time": "2021-04-04T22:43:55.209970",
     "status": "completed"
    },
    "tags": []
   },
   "outputs": [],
   "source": [
    "df = pd.read_csv(dataset_config['dataset_path'])"
   ]
  },
  {
   "cell_type": "code",
   "execution_count": 6,
   "id": "7eca6c4a",
   "metadata": {
    "execution": {
     "iopub.execute_input": "2021-04-04T22:43:55.314664Z",
     "iopub.status.busy": "2021-04-04T22:43:55.302796Z",
     "iopub.status.idle": "2021-04-04T22:43:55.317088Z",
     "shell.execute_reply": "2021-04-04T22:43:55.317555Z"
    },
    "papermill": {
     "duration": 0.042236,
     "end_time": "2021-04-04T22:43:55.317698",
     "exception": false,
     "start_time": "2021-04-04T22:43:55.275462",
     "status": "completed"
    },
    "tags": []
   },
   "outputs": [
    {
     "name": "stdout",
     "output_type": "stream",
     "text": [
      "<class 'pandas.core.frame.DataFrame'>\n",
      "RangeIndex: 2109 entries, 0 to 2108\n",
      "Data columns (total 23 columns):\n",
      " #   Column             Non-Null Count  Dtype  \n",
      "---  ------             --------------  -----  \n",
      " 0   id                 2109 non-null   int64  \n",
      " 1   loc                2109 non-null   float64\n",
      " 2   v(g)               2109 non-null   float64\n",
      " 3   ev(g)              2109 non-null   float64\n",
      " 4   iv(g)              2109 non-null   float64\n",
      " 5   n                  2109 non-null   float64\n",
      " 6   v                  2109 non-null   float64\n",
      " 7   l                  2109 non-null   float64\n",
      " 8   d                  2109 non-null   float64\n",
      " 9   i                  2109 non-null   float64\n",
      " 10  e                  2109 non-null   float64\n",
      " 11  b                  2109 non-null   float64\n",
      " 12  t                  2109 non-null   float64\n",
      " 13  lOCode             2109 non-null   int64  \n",
      " 14  lOComment          2109 non-null   int64  \n",
      " 15  lOBlank            2109 non-null   int64  \n",
      " 16  locCodeAndComment  2109 non-null   int64  \n",
      " 17  uniq_Op            2109 non-null   float64\n",
      " 18  uniq_Opnd          2109 non-null   float64\n",
      " 19  total_Op           2109 non-null   float64\n",
      " 20  total_Opnd         2109 non-null   float64\n",
      " 21  branchCount        2109 non-null   float64\n",
      " 22  defects            2109 non-null   bool   \n",
      "dtypes: bool(1), float64(17), int64(5)\n",
      "memory usage: 364.7 KB\n"
     ]
    }
   ],
   "source": [
    "df.info()"
   ]
  },
  {
   "cell_type": "code",
   "execution_count": 7,
   "id": "3638e5e8",
   "metadata": {
    "execution": {
     "iopub.execute_input": "2021-04-04T22:43:55.380489Z",
     "iopub.status.busy": "2021-04-04T22:43:55.379681Z",
     "iopub.status.idle": "2021-04-04T22:43:55.417216Z",
     "shell.execute_reply": "2021-04-04T22:43:55.415988Z"
    },
    "papermill": {
     "duration": 0.078113,
     "end_time": "2021-04-04T22:43:55.417524",
     "exception": false,
     "start_time": "2021-04-04T22:43:55.339411",
     "status": "completed"
    },
    "tags": []
   },
   "outputs": [
    {
     "data": {
      "text/html": [
       "<div>\n",
       "<style scoped>\n",
       "    .dataframe tbody tr th:only-of-type {\n",
       "        vertical-align: middle;\n",
       "    }\n",
       "\n",
       "    .dataframe tbody tr th {\n",
       "        vertical-align: top;\n",
       "    }\n",
       "\n",
       "    .dataframe thead th {\n",
       "        text-align: right;\n",
       "    }\n",
       "</style>\n",
       "<table border=\"1\" class=\"dataframe\">\n",
       "  <thead>\n",
       "    <tr style=\"text-align: right;\">\n",
       "      <th></th>\n",
       "      <th>id</th>\n",
       "      <th>loc</th>\n",
       "      <th>v(g)</th>\n",
       "      <th>ev(g)</th>\n",
       "      <th>iv(g)</th>\n",
       "      <th>n</th>\n",
       "      <th>v</th>\n",
       "      <th>l</th>\n",
       "      <th>d</th>\n",
       "      <th>i</th>\n",
       "      <th>...</th>\n",
       "      <th>lOCode</th>\n",
       "      <th>lOComment</th>\n",
       "      <th>lOBlank</th>\n",
       "      <th>locCodeAndComment</th>\n",
       "      <th>uniq_Op</th>\n",
       "      <th>uniq_Opnd</th>\n",
       "      <th>total_Op</th>\n",
       "      <th>total_Opnd</th>\n",
       "      <th>branchCount</th>\n",
       "      <th>defects</th>\n",
       "    </tr>\n",
       "  </thead>\n",
       "  <tbody>\n",
       "    <tr>\n",
       "      <th>0</th>\n",
       "      <td>1</td>\n",
       "      <td>1.1</td>\n",
       "      <td>1.4</td>\n",
       "      <td>1.4</td>\n",
       "      <td>1.4</td>\n",
       "      <td>1.3</td>\n",
       "      <td>1.30</td>\n",
       "      <td>1.30</td>\n",
       "      <td>1.30</td>\n",
       "      <td>1.30</td>\n",
       "      <td>...</td>\n",
       "      <td>2</td>\n",
       "      <td>2</td>\n",
       "      <td>2</td>\n",
       "      <td>2</td>\n",
       "      <td>1.2</td>\n",
       "      <td>1.2</td>\n",
       "      <td>1.2</td>\n",
       "      <td>1.2</td>\n",
       "      <td>1.4</td>\n",
       "      <td>False</td>\n",
       "    </tr>\n",
       "    <tr>\n",
       "      <th>1</th>\n",
       "      <td>2</td>\n",
       "      <td>1.0</td>\n",
       "      <td>1.0</td>\n",
       "      <td>1.0</td>\n",
       "      <td>1.0</td>\n",
       "      <td>1.0</td>\n",
       "      <td>1.00</td>\n",
       "      <td>1.00</td>\n",
       "      <td>1.00</td>\n",
       "      <td>1.00</td>\n",
       "      <td>...</td>\n",
       "      <td>1</td>\n",
       "      <td>1</td>\n",
       "      <td>1</td>\n",
       "      <td>1</td>\n",
       "      <td>1.0</td>\n",
       "      <td>1.0</td>\n",
       "      <td>1.0</td>\n",
       "      <td>1.0</td>\n",
       "      <td>1.0</td>\n",
       "      <td>True</td>\n",
       "    </tr>\n",
       "    <tr>\n",
       "      <th>2</th>\n",
       "      <td>3</td>\n",
       "      <td>83.0</td>\n",
       "      <td>11.0</td>\n",
       "      <td>1.0</td>\n",
       "      <td>11.0</td>\n",
       "      <td>171.0</td>\n",
       "      <td>927.89</td>\n",
       "      <td>0.04</td>\n",
       "      <td>23.04</td>\n",
       "      <td>40.27</td>\n",
       "      <td>...</td>\n",
       "      <td>65</td>\n",
       "      <td>10</td>\n",
       "      <td>6</td>\n",
       "      <td>0</td>\n",
       "      <td>18.0</td>\n",
       "      <td>25.0</td>\n",
       "      <td>107.0</td>\n",
       "      <td>64.0</td>\n",
       "      <td>21.0</td>\n",
       "      <td>True</td>\n",
       "    </tr>\n",
       "    <tr>\n",
       "      <th>3</th>\n",
       "      <td>4</td>\n",
       "      <td>46.0</td>\n",
       "      <td>8.0</td>\n",
       "      <td>6.0</td>\n",
       "      <td>8.0</td>\n",
       "      <td>141.0</td>\n",
       "      <td>769.78</td>\n",
       "      <td>0.07</td>\n",
       "      <td>14.86</td>\n",
       "      <td>51.81</td>\n",
       "      <td>...</td>\n",
       "      <td>37</td>\n",
       "      <td>2</td>\n",
       "      <td>5</td>\n",
       "      <td>0</td>\n",
       "      <td>16.0</td>\n",
       "      <td>28.0</td>\n",
       "      <td>89.0</td>\n",
       "      <td>52.0</td>\n",
       "      <td>15.0</td>\n",
       "      <td>True</td>\n",
       "    </tr>\n",
       "    <tr>\n",
       "      <th>4</th>\n",
       "      <td>5</td>\n",
       "      <td>25.0</td>\n",
       "      <td>3.0</td>\n",
       "      <td>1.0</td>\n",
       "      <td>3.0</td>\n",
       "      <td>58.0</td>\n",
       "      <td>254.75</td>\n",
       "      <td>0.11</td>\n",
       "      <td>9.35</td>\n",
       "      <td>27.25</td>\n",
       "      <td>...</td>\n",
       "      <td>21</td>\n",
       "      <td>0</td>\n",
       "      <td>2</td>\n",
       "      <td>0</td>\n",
       "      <td>11.0</td>\n",
       "      <td>10.0</td>\n",
       "      <td>41.0</td>\n",
       "      <td>17.0</td>\n",
       "      <td>5.0</td>\n",
       "      <td>True</td>\n",
       "    </tr>\n",
       "  </tbody>\n",
       "</table>\n",
       "<p>5 rows × 23 columns</p>\n",
       "</div>"
      ],
      "text/plain": [
       "   id   loc  v(g)  ev(g)  iv(g)      n       v     l      d      i  ...  \\\n",
       "0   1   1.1   1.4    1.4    1.4    1.3    1.30  1.30   1.30   1.30  ...   \n",
       "1   2   1.0   1.0    1.0    1.0    1.0    1.00  1.00   1.00   1.00  ...   \n",
       "2   3  83.0  11.0    1.0   11.0  171.0  927.89  0.04  23.04  40.27  ...   \n",
       "3   4  46.0   8.0    6.0    8.0  141.0  769.78  0.07  14.86  51.81  ...   \n",
       "4   5  25.0   3.0    1.0    3.0   58.0  254.75  0.11   9.35  27.25  ...   \n",
       "\n",
       "   lOCode  lOComment  lOBlank  locCodeAndComment  uniq_Op  uniq_Opnd  \\\n",
       "0       2          2        2                  2      1.2        1.2   \n",
       "1       1          1        1                  1      1.0        1.0   \n",
       "2      65         10        6                  0     18.0       25.0   \n",
       "3      37          2        5                  0     16.0       28.0   \n",
       "4      21          0        2                  0     11.0       10.0   \n",
       "\n",
       "   total_Op  total_Opnd  branchCount  defects  \n",
       "0       1.2         1.2          1.4    False  \n",
       "1       1.0         1.0          1.0     True  \n",
       "2     107.0        64.0         21.0     True  \n",
       "3      89.0        52.0         15.0     True  \n",
       "4      41.0        17.0          5.0     True  \n",
       "\n",
       "[5 rows x 23 columns]"
      ]
     },
     "execution_count": 7,
     "metadata": {},
     "output_type": "execute_result"
    }
   ],
   "source": [
    "df.head()"
   ]
  },
  {
   "cell_type": "code",
   "execution_count": 8,
   "id": "733e95eb",
   "metadata": {
    "execution": {
     "iopub.execute_input": "2021-04-04T22:43:55.474712Z",
     "iopub.status.busy": "2021-04-04T22:43:55.473504Z",
     "iopub.status.idle": "2021-04-04T22:43:55.478021Z",
     "shell.execute_reply": "2021-04-04T22:43:55.478594Z"
    },
    "papermill": {
     "duration": 0.037448,
     "end_time": "2021-04-04T22:43:55.478761",
     "exception": false,
     "start_time": "2021-04-04T22:43:55.441313",
     "status": "completed"
    },
    "tags": []
   },
   "outputs": [],
   "source": [
    "del df['id']"
   ]
  },
  {
   "cell_type": "code",
   "execution_count": 9,
   "id": "6ff6f5b0",
   "metadata": {
    "execution": {
     "iopub.execute_input": "2021-04-04T22:43:55.528477Z",
     "iopub.status.busy": "2021-04-04T22:43:55.527894Z",
     "iopub.status.idle": "2021-04-04T22:43:55.529912Z",
     "shell.execute_reply": "2021-04-04T22:43:55.530370Z"
    },
    "papermill": {
     "duration": 0.027871,
     "end_time": "2021-04-04T22:43:55.530511",
     "exception": false,
     "start_time": "2021-04-04T22:43:55.502640",
     "status": "completed"
    },
    "tags": []
   },
   "outputs": [],
   "source": [
    "if PROFILE_REPORTING:\n",
    "    ProfileReport(df).to_widgets()"
   ]
  },
  {
   "cell_type": "markdown",
   "id": "1deaf3f0",
   "metadata": {
    "papermill": {
     "duration": 0.026072,
     "end_time": "2021-04-04T22:43:55.582596",
     "exception": false,
     "start_time": "2021-04-04T22:43:55.556524",
     "status": "completed"
    },
    "tags": []
   },
   "source": [
    "# Preprocess"
   ]
  },
  {
   "cell_type": "code",
   "execution_count": 10,
   "id": "1513e563",
   "metadata": {
    "execution": {
     "iopub.execute_input": "2021-04-04T22:43:55.635307Z",
     "iopub.status.busy": "2021-04-04T22:43:55.634686Z",
     "iopub.status.idle": "2021-04-04T22:43:55.637626Z",
     "shell.execute_reply": "2021-04-04T22:43:55.637082Z"
    },
    "papermill": {
     "duration": 0.027977,
     "end_time": "2021-04-04T22:43:55.637763",
     "exception": false,
     "start_time": "2021-04-04T22:43:55.609786",
     "status": "completed"
    },
    "tags": []
   },
   "outputs": [],
   "source": [
    "working_df = df.copy()"
   ]
  },
  {
   "cell_type": "code",
   "execution_count": 11,
   "id": "3b26d675",
   "metadata": {
    "execution": {
     "iopub.execute_input": "2021-04-04T22:43:55.696080Z",
     "iopub.status.busy": "2021-04-04T22:43:55.695035Z",
     "iopub.status.idle": "2021-04-04T22:43:55.700361Z",
     "shell.execute_reply": "2021-04-04T22:43:55.699754Z"
    },
    "papermill": {
     "duration": 0.037564,
     "end_time": "2021-04-04T22:43:55.700506",
     "exception": false,
     "start_time": "2021-04-04T22:43:55.662942",
     "status": "completed"
    },
    "tags": []
   },
   "outputs": [],
   "source": [
    "working_df['defects'] = working_df['defects'].replace([False, True], [0, 1])"
   ]
  },
  {
   "cell_type": "code",
   "execution_count": 12,
   "id": "eb48604f",
   "metadata": {
    "execution": {
     "iopub.execute_input": "2021-04-04T22:43:55.752507Z",
     "iopub.status.busy": "2021-04-04T22:43:55.751701Z",
     "iopub.status.idle": "2021-04-04T22:43:55.754771Z",
     "shell.execute_reply": "2021-04-04T22:43:55.754128Z"
    },
    "papermill": {
     "duration": 0.032121,
     "end_time": "2021-04-04T22:43:55.754922",
     "exception": false,
     "start_time": "2021-04-04T22:43:55.722801",
     "status": "completed"
    },
    "tags": []
   },
   "outputs": [],
   "source": [
    "for col in dataset_config['delete_columns']:\n",
    "    del working_df[col]"
   ]
  },
  {
   "cell_type": "code",
   "execution_count": 13,
   "id": "9a17bc29",
   "metadata": {
    "execution": {
     "iopub.execute_input": "2021-04-04T22:43:55.807193Z",
     "iopub.status.busy": "2021-04-04T22:43:55.806207Z",
     "iopub.status.idle": "2021-04-04T22:43:55.816464Z",
     "shell.execute_reply": "2021-04-04T22:43:55.816949Z"
    },
    "papermill": {
     "duration": 0.039437,
     "end_time": "2021-04-04T22:43:55.817103",
     "exception": false,
     "start_time": "2021-04-04T22:43:55.777666",
     "status": "completed"
    },
    "tags": []
   },
   "outputs": [],
   "source": [
    "working_df = working_df.drop_duplicates()"
   ]
  },
  {
   "cell_type": "markdown",
   "id": "a4d52ca6",
   "metadata": {
    "papermill": {
     "duration": 0.024624,
     "end_time": "2021-04-04T22:43:55.863712",
     "exception": false,
     "start_time": "2021-04-04T22:43:55.839088",
     "status": "completed"
    },
    "tags": []
   },
   "source": [
    "# Split"
   ]
  },
  {
   "cell_type": "code",
   "execution_count": 14,
   "id": "3e9ee4b5",
   "metadata": {
    "execution": {
     "iopub.execute_input": "2021-04-04T22:43:55.924592Z",
     "iopub.status.busy": "2021-04-04T22:43:55.921936Z",
     "iopub.status.idle": "2021-04-04T22:43:55.957782Z",
     "shell.execute_reply": "2021-04-04T22:43:55.958266Z"
    },
    "papermill": {
     "duration": 0.069719,
     "end_time": "2021-04-04T22:43:55.958417",
     "exception": false,
     "start_time": "2021-04-04T22:43:55.888698",
     "status": "completed"
    },
    "tags": []
   },
   "outputs": [],
   "source": [
    "from sklearn.model_selection import train_test_split"
   ]
  },
  {
   "cell_type": "code",
   "execution_count": 15,
   "id": "274004ce",
   "metadata": {
    "execution": {
     "iopub.execute_input": "2021-04-04T22:43:56.013346Z",
     "iopub.status.busy": "2021-04-04T22:43:56.010800Z",
     "iopub.status.idle": "2021-04-04T22:43:56.018480Z",
     "shell.execute_reply": "2021-04-04T22:43:56.017854Z"
    },
    "papermill": {
     "duration": 0.035966,
     "end_time": "2021-04-04T22:43:56.018618",
     "exception": false,
     "start_time": "2021-04-04T22:43:55.982652",
     "status": "completed"
    },
    "scrolled": true,
    "tags": []
   },
   "outputs": [],
   "source": [
    "inlier, outlier = working_df[working_df['defects'] == 0], working_df[working_df['defects'] == 1]"
   ]
  },
  {
   "cell_type": "code",
   "execution_count": 16,
   "id": "753c7b03",
   "metadata": {
    "execution": {
     "iopub.execute_input": "2021-04-04T22:43:56.074484Z",
     "iopub.status.busy": "2021-04-04T22:43:56.072575Z",
     "iopub.status.idle": "2021-04-04T22:43:56.077862Z",
     "shell.execute_reply": "2021-04-04T22:43:56.077349Z"
    },
    "papermill": {
     "duration": 0.035996,
     "end_time": "2021-04-04T22:43:56.077982",
     "exception": false,
     "start_time": "2021-04-04T22:43:56.041986",
     "status": "completed"
    },
    "tags": []
   },
   "outputs": [],
   "source": [
    "X_inlier = inlier.copy()\n",
    "y_inlier = X_inlier.pop('defects')\n",
    "X_outlier = outlier.copy()\n",
    "y_outlier = X_outlier.pop('defects')"
   ]
  },
  {
   "cell_type": "code",
   "execution_count": 17,
   "id": "2ba43193",
   "metadata": {
    "execution": {
     "iopub.execute_input": "2021-04-04T22:43:56.131651Z",
     "iopub.status.busy": "2021-04-04T22:43:56.130830Z",
     "iopub.status.idle": "2021-04-04T22:43:56.134628Z",
     "shell.execute_reply": "2021-04-04T22:43:56.134122Z"
    },
    "papermill": {
     "duration": 0.034139,
     "end_time": "2021-04-04T22:43:56.134746",
     "exception": false,
     "start_time": "2021-04-04T22:43:56.100607",
     "status": "completed"
    },
    "tags": []
   },
   "outputs": [],
   "source": [
    "test_size = dataset_config['test_size']\n",
    "random_state = dataset_config['random_state']\n",
    "\n",
    "X_inlier_train, X_inlier_test, y_inlier_train, y_inlier_test = train_test_split(\n",
    "    X_inlier,\n",
    "    y_inlier,\n",
    "    test_size=test_size,\n",
    "    random_state=random_state\n",
    ")"
   ]
  },
  {
   "cell_type": "code",
   "execution_count": 18,
   "id": "0b7582ca",
   "metadata": {
    "execution": {
     "iopub.execute_input": "2021-04-04T22:43:56.193740Z",
     "iopub.status.busy": "2021-04-04T22:43:56.192975Z",
     "iopub.status.idle": "2021-04-04T22:43:56.197307Z",
     "shell.execute_reply": "2021-04-04T22:43:56.196197Z"
    },
    "papermill": {
     "duration": 0.03976,
     "end_time": "2021-04-04T22:43:56.197582",
     "exception": false,
     "start_time": "2021-04-04T22:43:56.157822",
     "status": "completed"
    },
    "tags": []
   },
   "outputs": [],
   "source": [
    "test_outlier_size = dataset_config['test_outlier_size']\n",
    "if test_outlier_size > 0.0:\n",
    "    X_outlier_train, X_outlier_test, y_outlier_train, y_outlier_test = train_test_split(\n",
    "        X_outlier,\n",
    "        y_outlier,\n",
    "        test_size=test_outlier_size,\n",
    "        random_state=random_state\n",
    "    )\n",
    "else:\n",
    "    X_outlier_train, y_outlier_train = pd.DataFrame(columns=X_outlier.columns), pd.Series(dtype='int64')\n",
    "    X_outlier_test, y_outlier_test = X_outlier.copy(), y_outlier.copy()"
   ]
  },
  {
   "cell_type": "code",
   "execution_count": 19,
   "id": "c34363db",
   "metadata": {
    "execution": {
     "iopub.execute_input": "2021-04-04T22:43:56.255337Z",
     "iopub.status.busy": "2021-04-04T22:43:56.254504Z",
     "iopub.status.idle": "2021-04-04T22:43:56.257864Z",
     "shell.execute_reply": "2021-04-04T22:43:56.257351Z"
    },
    "papermill": {
     "duration": 0.035267,
     "end_time": "2021-04-04T22:43:56.257984",
     "exception": false,
     "start_time": "2021-04-04T22:43:56.222717",
     "status": "completed"
    },
    "tags": []
   },
   "outputs": [],
   "source": [
    "X_train, y_train = pd.concat([X_inlier_train, X_outlier_train], ignore_index=True), pd.concat([y_inlier_train, y_outlier_train], ignore_index=True)\n",
    "X_test, y_test = pd.concat([X_inlier_test, X_outlier_test], ignore_index=True), pd.concat([y_inlier_test, y_outlier_test], ignore_index=True)"
   ]
  },
  {
   "cell_type": "markdown",
   "id": "7cde7309",
   "metadata": {
    "papermill": {
     "duration": 0.025765,
     "end_time": "2021-04-04T22:43:56.308771",
     "exception": false,
     "start_time": "2021-04-04T22:43:56.283006",
     "status": "completed"
    },
    "tags": []
   },
   "source": [
    "# Model"
   ]
  },
  {
   "cell_type": "code",
   "execution_count": 20,
   "id": "2b12a415",
   "metadata": {
    "execution": {
     "iopub.execute_input": "2021-04-04T22:43:56.377074Z",
     "iopub.status.busy": "2021-04-04T22:43:56.375902Z",
     "iopub.status.idle": "2021-04-04T22:43:56.379011Z",
     "shell.execute_reply": "2021-04-04T22:43:56.380044Z"
    },
    "papermill": {
     "duration": 0.046838,
     "end_time": "2021-04-04T22:43:56.380373",
     "exception": false,
     "start_time": "2021-04-04T22:43:56.333535",
     "status": "completed"
    },
    "tags": []
   },
   "outputs": [],
   "source": [
    "from math import sqrt\n",
    "\n",
    "\n",
    "class KNNDataDescription:\n",
    "    def __init__(self, k=5, outlier_threshold=1.0):\n",
    "        self.k = k\n",
    "        self.outlier_threshold = outlier_threshold\n",
    "        self.X = []\n",
    "    \n",
    "    def fit(self, X):\n",
    "        self.X = [features.to_list() for index, features in X.iterrows()]\n",
    "\n",
    "    def predict(self, entries):\n",
    "        return [self.predict_entry(features.to_list()) for index, features in entries.iterrows()]\n",
    "    \n",
    "    def predict_entry(self, entry):\n",
    "        kth_neighbor, kth_distance = self.get_kth_neighbor(entry, self.k)\n",
    "        kth_kth_neighbor, kth_kth_distance = self.get_kth_neighbor(kth_neighbor, self.k + 1)\n",
    "\n",
    "        outlier_score = kth_distance / (kth_kth_distance + 0.000001)\n",
    "\n",
    "        return 1 if outlier_score < self.outlier_threshold else -1\n",
    "        \n",
    "    def euclidean_distance(self, features1, features2):\n",
    "        distance = 0.0\n",
    "        for feat1, feat2 in zip(features1, features2):\n",
    "            distance += (feat1 - feat2)**2\n",
    "                \n",
    "        return sqrt(distance)\n",
    "\n",
    "    def get_neighbors(self, entry, k):\n",
    "        distance_to_data_points = [\n",
    "            (data_point, self.euclidean_distance(entry, data_point))\n",
    "            for data_point in self.X\n",
    "        ]\n",
    "        sorted_by_distance = sorted(distance_to_data_points, key=lambda tup: tup[1])\n",
    "        neighbors = sorted_by_distance[:k]\n",
    "        return neighbors\n",
    "\n",
    "    def get_kth_neighbor(self, entry, k):\n",
    "        neighbors = self.get_neighbors(entry, k)\n",
    "        return neighbors[-1]\n"
   ]
  },
  {
   "cell_type": "code",
   "execution_count": 21,
   "id": "1fa9ec1c",
   "metadata": {
    "execution": {
     "iopub.execute_input": "2021-04-04T22:43:56.443882Z",
     "iopub.status.busy": "2021-04-04T22:43:56.442382Z",
     "iopub.status.idle": "2021-04-04T22:43:56.473837Z",
     "shell.execute_reply": "2021-04-04T22:43:56.474400Z"
    },
    "papermill": {
     "duration": 0.06587,
     "end_time": "2021-04-04T22:43:56.474609",
     "exception": false,
     "start_time": "2021-04-04T22:43:56.408739",
     "status": "completed"
    },
    "tags": []
   },
   "outputs": [],
   "source": [
    "from sklearn.svm import OneClassSVM\n",
    "\n",
    "\n",
    "models = {\n",
    "    'oneclasssvm': OneClassSVM,\n",
    "    'knndatadescription': KNNDataDescription,\n",
    "}"
   ]
  },
  {
   "cell_type": "code",
   "execution_count": 22,
   "id": "4d72a0b1",
   "metadata": {
    "execution": {
     "iopub.execute_input": "2021-04-04T22:43:56.531674Z",
     "iopub.status.busy": "2021-04-04T22:43:56.531007Z",
     "iopub.status.idle": "2021-04-04T22:43:56.532954Z",
     "shell.execute_reply": "2021-04-04T22:43:56.533433Z"
    },
    "papermill": {
     "duration": 0.03179,
     "end_time": "2021-04-04T22:43:56.533578",
     "exception": false,
     "start_time": "2021-04-04T22:43:56.501788",
     "status": "completed"
    },
    "scrolled": true,
    "tags": []
   },
   "outputs": [],
   "source": [
    "model_cls = models[model_config['model_type']]\n",
    "model = model_cls(**model_config['hyperparameters'])"
   ]
  },
  {
   "cell_type": "markdown",
   "id": "e00cff3b",
   "metadata": {
    "papermill": {
     "duration": 0.02888,
     "end_time": "2021-04-04T22:43:56.586365",
     "exception": false,
     "start_time": "2021-04-04T22:43:56.557485",
     "status": "completed"
    },
    "tags": []
   },
   "source": [
    "# Fit"
   ]
  },
  {
   "cell_type": "code",
   "execution_count": 23,
   "id": "8b2ded89",
   "metadata": {
    "execution": {
     "iopub.execute_input": "2021-04-04T22:43:56.651676Z",
     "iopub.status.busy": "2021-04-04T22:43:56.640934Z",
     "iopub.status.idle": "2021-04-04T22:43:56.686169Z",
     "shell.execute_reply": "2021-04-04T22:43:56.685647Z"
    },
    "papermill": {
     "duration": 0.073445,
     "end_time": "2021-04-04T22:43:56.686290",
     "exception": false,
     "start_time": "2021-04-04T22:43:56.612845",
     "status": "completed"
    },
    "tags": []
   },
   "outputs": [],
   "source": [
    "model.fit(X_train)"
   ]
  },
  {
   "cell_type": "markdown",
   "id": "f99999f7",
   "metadata": {
    "papermill": {
     "duration": 0.029513,
     "end_time": "2021-04-04T22:43:56.739636",
     "exception": false,
     "start_time": "2021-04-04T22:43:56.710123",
     "status": "completed"
    },
    "tags": []
   },
   "source": [
    "# Predict"
   ]
  },
  {
   "cell_type": "code",
   "execution_count": 24,
   "id": "6536fbf7",
   "metadata": {
    "execution": {
     "iopub.execute_input": "2021-04-04T22:43:56.827114Z",
     "iopub.status.busy": "2021-04-04T22:43:56.808978Z",
     "iopub.status.idle": "2021-04-04T22:43:59.747998Z",
     "shell.execute_reply": "2021-04-04T22:43:59.748602Z"
    },
    "papermill": {
     "duration": 2.980098,
     "end_time": "2021-04-04T22:43:59.748768",
     "exception": false,
     "start_time": "2021-04-04T22:43:56.768670",
     "status": "completed"
    },
    "tags": []
   },
   "outputs": [],
   "source": [
    "predictions = model.predict(X_test)"
   ]
  },
  {
   "cell_type": "markdown",
   "id": "aa1c9881",
   "metadata": {
    "papermill": {
     "duration": 0.025027,
     "end_time": "2021-04-04T22:43:59.800587",
     "exception": false,
     "start_time": "2021-04-04T22:43:59.775560",
     "status": "completed"
    },
    "tags": []
   },
   "source": [
    "# Evaluate"
   ]
  },
  {
   "cell_type": "code",
   "execution_count": 25,
   "id": "894f0f04",
   "metadata": {
    "execution": {
     "iopub.execute_input": "2021-04-04T22:43:59.854007Z",
     "iopub.status.busy": "2021-04-04T22:43:59.853287Z",
     "iopub.status.idle": "2021-04-04T22:43:59.855206Z",
     "shell.execute_reply": "2021-04-04T22:43:59.856149Z"
    },
    "papermill": {
     "duration": 0.028818,
     "end_time": "2021-04-04T22:43:59.856307",
     "exception": false,
     "start_time": "2021-04-04T22:43:59.827489",
     "status": "completed"
    },
    "tags": []
   },
   "outputs": [],
   "source": [
    "from sklearn.metrics import f1_score"
   ]
  },
  {
   "cell_type": "code",
   "execution_count": 26,
   "id": "211744d3",
   "metadata": {
    "execution": {
     "iopub.execute_input": "2021-04-04T22:43:59.917304Z",
     "iopub.status.busy": "2021-04-04T22:43:59.916286Z",
     "iopub.status.idle": "2021-04-04T22:43:59.918670Z",
     "shell.execute_reply": "2021-04-04T22:43:59.919219Z"
    },
    "papermill": {
     "duration": 0.037632,
     "end_time": "2021-04-04T22:43:59.919385",
     "exception": false,
     "start_time": "2021-04-04T22:43:59.881753",
     "status": "completed"
    },
    "tags": []
   },
   "outputs": [],
   "source": [
    "y_test = y_test.replace([0, 1], [1, -1])"
   ]
  },
  {
   "cell_type": "code",
   "execution_count": 27,
   "id": "d68a9204",
   "metadata": {
    "execution": {
     "iopub.execute_input": "2021-04-04T22:43:59.977987Z",
     "iopub.status.busy": "2021-04-04T22:43:59.977101Z",
     "iopub.status.idle": "2021-04-04T22:43:59.979632Z",
     "shell.execute_reply": "2021-04-04T22:43:59.979124Z"
    },
    "papermill": {
     "duration": 0.036369,
     "end_time": "2021-04-04T22:43:59.979751",
     "exception": false,
     "start_time": "2021-04-04T22:43:59.943382",
     "status": "completed"
    },
    "tags": []
   },
   "outputs": [],
   "source": [
    "def evaluate(truths, predictions, pos_label, neg_label):\n",
    "    TP = 0\n",
    "    FP = 0\n",
    "    TN = 0\n",
    "    FN = 0\n",
    "\n",
    "    for truth, pred in zip(truths, predictions): \n",
    "        if truth == pred == pos_label:\n",
    "           TP += 1\n",
    "        elif pred == pos_label and truth == neg_label:\n",
    "           FP += 1\n",
    "        elif truth == pred == neg_label:\n",
    "           TN += 1\n",
    "        elif pred == neg_label and truth == pos_label:\n",
    "           FN += 1\n",
    "\n",
    "    precision = TP / (TP + FP)\n",
    "    sensitivity = TP / (TP + FN)\n",
    "    \n",
    "    return {\n",
    "        'true_pos': TP,\n",
    "        'false_pos': FP,\n",
    "        'false_neg': FN,\n",
    "        'true_neg': TN,\n",
    "        'precision': precision,\n",
    "        'sensitivity': sensitivity,\n",
    "        'f1': (2 * (precision * sensitivity)) / (precision + sensitivity)\n",
    "    }\n",
    "\n",
    "score = evaluate(y_test, predictions, pos_label=-1, neg_label=1)"
   ]
  },
  {
   "cell_type": "markdown",
   "id": "93596516",
   "metadata": {
    "papermill": {
     "duration": 0.027777,
     "end_time": "2021-04-04T22:44:00.031649",
     "exception": false,
     "start_time": "2021-04-04T22:44:00.003872",
     "status": "completed"
    },
    "tags": []
   },
   "source": [
    "# Report"
   ]
  },
  {
   "cell_type": "code",
   "execution_count": 28,
   "id": "bea5fba1",
   "metadata": {
    "execution": {
     "iopub.execute_input": "2021-04-04T22:44:00.087893Z",
     "iopub.status.busy": "2021-04-04T22:44:00.087153Z",
     "iopub.status.idle": "2021-04-04T22:44:00.091437Z",
     "shell.execute_reply": "2021-04-04T22:44:00.090554Z"
    },
    "papermill": {
     "duration": 0.035083,
     "end_time": "2021-04-04T22:44:00.091592",
     "exception": false,
     "start_time": "2021-04-04T22:44:00.056509",
     "status": "completed"
    },
    "tags": []
   },
   "outputs": [],
   "source": [
    "import csv\n",
    "\n",
    "\n",
    "dataset_config_name = DATASET_CONFIG_PATH.split('/')[-1].split('.')[0]\n",
    "model_config_name = MODEL_CONFIG_PATH.split('/')[-1].split('.')[0]\n",
    "configuration = f\"dataset_{dataset_config_name}-model_{model_config_name}\"\n",
    "\n",
    "with open('results.csv', 'a') as f:\n",
    "    report = dict({'configuration': configuration}, **score)\n",
    "    writer = csv.DictWriter(f, report.keys())\n",
    "    writer.writerow(report)"
   ]
  }
 ],
 "metadata": {
  "celltoolbar": "Tags",
  "kernelspec": {
   "display_name": "Python 3",
   "language": "python",
   "name": "python3"
  },
  "language_info": {
   "codemirror_mode": {
    "name": "ipython",
    "version": 3
   },
   "file_extension": ".py",
   "mimetype": "text/x-python",
   "name": "python",
   "nbconvert_exporter": "python",
   "pygments_lexer": "ipython3",
   "version": "3.9.1"
  },
  "papermill": {
   "default_parameters": {},
   "duration": 9.076308,
   "end_time": "2021-04-04T22:44:01.637832",
   "environment_variables": {},
   "exception": null,
   "input_path": "main.ipynb",
   "output_path": "runs/dataset_000040-model_000003.ipynb",
   "parameters": {
    "DATASET_CONFIG_PATH": "config/dataset/000040.json",
    "MODEL_CONFIG_PATH": "config/model/000003.json",
    "PROFILE_REPORTING": false
   },
   "start_time": "2021-04-04T22:43:52.561524",
   "version": "2.3.3"
  }
 },
 "nbformat": 4,
 "nbformat_minor": 5
}