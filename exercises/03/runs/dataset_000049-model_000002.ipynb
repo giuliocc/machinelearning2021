{
 "cells": [
  {
   "cell_type": "markdown",
   "id": "51c71c25",
   "metadata": {
    "papermill": {
     "duration": 0.022668,
     "end_time": "2021-04-04T22:49:02.030883",
     "exception": false,
     "start_time": "2021-04-04T22:49:02.008215",
     "status": "completed"
    },
    "tags": []
   },
   "source": [
    "# Parametrizing"
   ]
  },
  {
   "cell_type": "code",
   "execution_count": 1,
   "id": "3b136394",
   "metadata": {
    "execution": {
     "iopub.execute_input": "2021-04-04T22:49:02.109312Z",
     "iopub.status.busy": "2021-04-04T22:49:02.103293Z",
     "iopub.status.idle": "2021-04-04T22:49:02.114012Z",
     "shell.execute_reply": "2021-04-04T22:49:02.116200Z"
    },
    "papermill": {
     "duration": 0.065561,
     "end_time": "2021-04-04T22:49:02.116615",
     "exception": false,
     "start_time": "2021-04-04T22:49:02.051054",
     "status": "completed"
    },
    "tags": [
     "parameters"
    ]
   },
   "outputs": [],
   "source": [
    "DATASET_CONFIG_PATH = 'config/dataset/kc1_001.json'\n",
    "MODEL_CONFIG_PATH = 'config/model/knndd_001.json'\n",
    "PROFILE_REPORTING = False"
   ]
  },
  {
   "cell_type": "code",
   "execution_count": 2,
   "id": "d5b4715e",
   "metadata": {
    "execution": {
     "iopub.execute_input": "2021-04-04T22:49:02.225138Z",
     "iopub.status.busy": "2021-04-04T22:49:02.222705Z",
     "iopub.status.idle": "2021-04-04T22:49:02.230863Z",
     "shell.execute_reply": "2021-04-04T22:49:02.229411Z"
    },
    "papermill": {
     "duration": 0.066097,
     "end_time": "2021-04-04T22:49:02.231705",
     "exception": false,
     "start_time": "2021-04-04T22:49:02.165608",
     "status": "completed"
    },
    "tags": [
     "injected-parameters"
    ]
   },
   "outputs": [],
   "source": [
    "# Parameters\n",
    "DATASET_CONFIG_PATH = \"config/dataset/000049.json\"\n",
    "MODEL_CONFIG_PATH = \"config/model/000002.json\"\n",
    "PROFILE_REPORTING = False\n"
   ]
  },
  {
   "cell_type": "code",
   "execution_count": 3,
   "id": "b80f2a10",
   "metadata": {
    "execution": {
     "iopub.execute_input": "2021-04-04T22:49:02.329952Z",
     "iopub.status.busy": "2021-04-04T22:49:02.327860Z",
     "iopub.status.idle": "2021-04-04T22:49:02.332660Z",
     "shell.execute_reply": "2021-04-04T22:49:02.333212Z"
    },
    "papermill": {
     "duration": 0.06244,
     "end_time": "2021-04-04T22:49:02.333375",
     "exception": false,
     "start_time": "2021-04-04T22:49:02.270935",
     "status": "completed"
    },
    "tags": []
   },
   "outputs": [],
   "source": [
    "import json\n",
    "\n",
    "\n",
    "with open(DATASET_CONFIG_PATH) as f:\n",
    "    dataset_config = json.load(f)\n",
    "\n",
    "with open(MODEL_CONFIG_PATH) as f:\n",
    "    model_config = json.load(f)"
   ]
  },
  {
   "cell_type": "markdown",
   "id": "9a4b0e2d",
   "metadata": {
    "papermill": {
     "duration": 0.02607,
     "end_time": "2021-04-04T22:49:02.394677",
     "exception": false,
     "start_time": "2021-04-04T22:49:02.368607",
     "status": "completed"
    },
    "tags": []
   },
   "source": [
    "# Profiling"
   ]
  },
  {
   "cell_type": "code",
   "execution_count": 4,
   "id": "a3e0289b",
   "metadata": {
    "execution": {
     "iopub.execute_input": "2021-04-04T22:49:02.452011Z",
     "iopub.status.busy": "2021-04-04T22:49:02.449624Z",
     "iopub.status.idle": "2021-04-04T22:49:03.940914Z",
     "shell.execute_reply": "2021-04-04T22:49:03.941622Z"
    },
    "papermill": {
     "duration": 1.525939,
     "end_time": "2021-04-04T22:49:03.941827",
     "exception": false,
     "start_time": "2021-04-04T22:49:02.415888",
     "status": "completed"
    },
    "tags": []
   },
   "outputs": [],
   "source": [
    "import pandas as pd\n",
    "from pandas_profiling import ProfileReport"
   ]
  },
  {
   "cell_type": "code",
   "execution_count": 5,
   "id": "ee6c0666",
   "metadata": {
    "execution": {
     "iopub.execute_input": "2021-04-04T22:49:04.005934Z",
     "iopub.status.busy": "2021-04-04T22:49:04.004799Z",
     "iopub.status.idle": "2021-04-04T22:49:04.025299Z",
     "shell.execute_reply": "2021-04-04T22:49:04.024517Z"
    },
    "papermill": {
     "duration": 0.054225,
     "end_time": "2021-04-04T22:49:04.025597",
     "exception": false,
     "start_time": "2021-04-04T22:49:03.971372",
     "status": "completed"
    },
    "tags": []
   },
   "outputs": [],
   "source": [
    "df = pd.read_csv(dataset_config['dataset_path'])"
   ]
  },
  {
   "cell_type": "code",
   "execution_count": 6,
   "id": "7eca6c4a",
   "metadata": {
    "execution": {
     "iopub.execute_input": "2021-04-04T22:49:04.082863Z",
     "iopub.status.busy": "2021-04-04T22:49:04.082213Z",
     "iopub.status.idle": "2021-04-04T22:49:04.093772Z",
     "shell.execute_reply": "2021-04-04T22:49:04.094249Z"
    },
    "papermill": {
     "duration": 0.041148,
     "end_time": "2021-04-04T22:49:04.094392",
     "exception": false,
     "start_time": "2021-04-04T22:49:04.053244",
     "status": "completed"
    },
    "tags": []
   },
   "outputs": [
    {
     "name": "stdout",
     "output_type": "stream",
     "text": [
      "<class 'pandas.core.frame.DataFrame'>\n",
      "RangeIndex: 2109 entries, 0 to 2108\n",
      "Data columns (total 23 columns):\n",
      " #   Column             Non-Null Count  Dtype  \n",
      "---  ------             --------------  -----  \n",
      " 0   id                 2109 non-null   int64  \n",
      " 1   loc                2109 non-null   float64\n",
      " 2   v(g)               2109 non-null   float64\n",
      " 3   ev(g)              2109 non-null   float64\n",
      " 4   iv(g)              2109 non-null   float64\n",
      " 5   n                  2109 non-null   float64\n",
      " 6   v                  2109 non-null   float64\n",
      " 7   l                  2109 non-null   float64\n",
      " 8   d                  2109 non-null   float64\n",
      " 9   i                  2109 non-null   float64\n",
      " 10  e                  2109 non-null   float64\n",
      " 11  b                  2109 non-null   float64\n",
      " 12  t                  2109 non-null   float64\n",
      " 13  lOCode             2109 non-null   int64  \n",
      " 14  lOComment          2109 non-null   int64  \n",
      " 15  lOBlank            2109 non-null   int64  \n",
      " 16  locCodeAndComment  2109 non-null   int64  \n",
      " 17  uniq_Op            2109 non-null   float64\n",
      " 18  uniq_Opnd          2109 non-null   float64\n",
      " 19  total_Op           2109 non-null   float64\n",
      " 20  total_Opnd         2109 non-null   float64\n",
      " 21  branchCount        2109 non-null   float64\n",
      " 22  defects            2109 non-null   bool   \n",
      "dtypes: bool(1), float64(17), int64(5)\n",
      "memory usage: 364.7 KB\n"
     ]
    }
   ],
   "source": [
    "df.info()"
   ]
  },
  {
   "cell_type": "code",
   "execution_count": 7,
   "id": "3638e5e8",
   "metadata": {
    "execution": {
     "iopub.execute_input": "2021-04-04T22:49:04.186125Z",
     "iopub.status.busy": "2021-04-04T22:49:04.164471Z",
     "iopub.status.idle": "2021-04-04T22:49:04.231063Z",
     "shell.execute_reply": "2021-04-04T22:49:04.231928Z"
    },
    "papermill": {
     "duration": 0.112974,
     "end_time": "2021-04-04T22:49:04.232243",
     "exception": false,
     "start_time": "2021-04-04T22:49:04.119269",
     "status": "completed"
    },
    "tags": []
   },
   "outputs": [
    {
     "data": {
      "text/html": [
       "<div>\n",
       "<style scoped>\n",
       "    .dataframe tbody tr th:only-of-type {\n",
       "        vertical-align: middle;\n",
       "    }\n",
       "\n",
       "    .dataframe tbody tr th {\n",
       "        vertical-align: top;\n",
       "    }\n",
       "\n",
       "    .dataframe thead th {\n",
       "        text-align: right;\n",
       "    }\n",
       "</style>\n",
       "<table border=\"1\" class=\"dataframe\">\n",
       "  <thead>\n",
       "    <tr style=\"text-align: right;\">\n",
       "      <th></th>\n",
       "      <th>id</th>\n",
       "      <th>loc</th>\n",
       "      <th>v(g)</th>\n",
       "      <th>ev(g)</th>\n",
       "      <th>iv(g)</th>\n",
       "      <th>n</th>\n",
       "      <th>v</th>\n",
       "      <th>l</th>\n",
       "      <th>d</th>\n",
       "      <th>i</th>\n",
       "      <th>...</th>\n",
       "      <th>lOCode</th>\n",
       "      <th>lOComment</th>\n",
       "      <th>lOBlank</th>\n",
       "      <th>locCodeAndComment</th>\n",
       "      <th>uniq_Op</th>\n",
       "      <th>uniq_Opnd</th>\n",
       "      <th>total_Op</th>\n",
       "      <th>total_Opnd</th>\n",
       "      <th>branchCount</th>\n",
       "      <th>defects</th>\n",
       "    </tr>\n",
       "  </thead>\n",
       "  <tbody>\n",
       "    <tr>\n",
       "      <th>0</th>\n",
       "      <td>1</td>\n",
       "      <td>1.1</td>\n",
       "      <td>1.4</td>\n",
       "      <td>1.4</td>\n",
       "      <td>1.4</td>\n",
       "      <td>1.3</td>\n",
       "      <td>1.30</td>\n",
       "      <td>1.30</td>\n",
       "      <td>1.30</td>\n",
       "      <td>1.30</td>\n",
       "      <td>...</td>\n",
       "      <td>2</td>\n",
       "      <td>2</td>\n",
       "      <td>2</td>\n",
       "      <td>2</td>\n",
       "      <td>1.2</td>\n",
       "      <td>1.2</td>\n",
       "      <td>1.2</td>\n",
       "      <td>1.2</td>\n",
       "      <td>1.4</td>\n",
       "      <td>False</td>\n",
       "    </tr>\n",
       "    <tr>\n",
       "      <th>1</th>\n",
       "      <td>2</td>\n",
       "      <td>1.0</td>\n",
       "      <td>1.0</td>\n",
       "      <td>1.0</td>\n",
       "      <td>1.0</td>\n",
       "      <td>1.0</td>\n",
       "      <td>1.00</td>\n",
       "      <td>1.00</td>\n",
       "      <td>1.00</td>\n",
       "      <td>1.00</td>\n",
       "      <td>...</td>\n",
       "      <td>1</td>\n",
       "      <td>1</td>\n",
       "      <td>1</td>\n",
       "      <td>1</td>\n",
       "      <td>1.0</td>\n",
       "      <td>1.0</td>\n",
       "      <td>1.0</td>\n",
       "      <td>1.0</td>\n",
       "      <td>1.0</td>\n",
       "      <td>True</td>\n",
       "    </tr>\n",
       "    <tr>\n",
       "      <th>2</th>\n",
       "      <td>3</td>\n",
       "      <td>83.0</td>\n",
       "      <td>11.0</td>\n",
       "      <td>1.0</td>\n",
       "      <td>11.0</td>\n",
       "      <td>171.0</td>\n",
       "      <td>927.89</td>\n",
       "      <td>0.04</td>\n",
       "      <td>23.04</td>\n",
       "      <td>40.27</td>\n",
       "      <td>...</td>\n",
       "      <td>65</td>\n",
       "      <td>10</td>\n",
       "      <td>6</td>\n",
       "      <td>0</td>\n",
       "      <td>18.0</td>\n",
       "      <td>25.0</td>\n",
       "      <td>107.0</td>\n",
       "      <td>64.0</td>\n",
       "      <td>21.0</td>\n",
       "      <td>True</td>\n",
       "    </tr>\n",
       "    <tr>\n",
       "      <th>3</th>\n",
       "      <td>4</td>\n",
       "      <td>46.0</td>\n",
       "      <td>8.0</td>\n",
       "      <td>6.0</td>\n",
       "      <td>8.0</td>\n",
       "      <td>141.0</td>\n",
       "      <td>769.78</td>\n",
       "      <td>0.07</td>\n",
       "      <td>14.86</td>\n",
       "      <td>51.81</td>\n",
       "      <td>...</td>\n",
       "      <td>37</td>\n",
       "      <td>2</td>\n",
       "      <td>5</td>\n",
       "      <td>0</td>\n",
       "      <td>16.0</td>\n",
       "      <td>28.0</td>\n",
       "      <td>89.0</td>\n",
       "      <td>52.0</td>\n",
       "      <td>15.0</td>\n",
       "      <td>True</td>\n",
       "    </tr>\n",
       "    <tr>\n",
       "      <th>4</th>\n",
       "      <td>5</td>\n",
       "      <td>25.0</td>\n",
       "      <td>3.0</td>\n",
       "      <td>1.0</td>\n",
       "      <td>3.0</td>\n",
       "      <td>58.0</td>\n",
       "      <td>254.75</td>\n",
       "      <td>0.11</td>\n",
       "      <td>9.35</td>\n",
       "      <td>27.25</td>\n",
       "      <td>...</td>\n",
       "      <td>21</td>\n",
       "      <td>0</td>\n",
       "      <td>2</td>\n",
       "      <td>0</td>\n",
       "      <td>11.0</td>\n",
       "      <td>10.0</td>\n",
       "      <td>41.0</td>\n",
       "      <td>17.0</td>\n",
       "      <td>5.0</td>\n",
       "      <td>True</td>\n",
       "    </tr>\n",
       "  </tbody>\n",
       "</table>\n",
       "<p>5 rows × 23 columns</p>\n",
       "</div>"
      ],
      "text/plain": [
       "   id   loc  v(g)  ev(g)  iv(g)      n       v     l      d      i  ...  \\\n",
       "0   1   1.1   1.4    1.4    1.4    1.3    1.30  1.30   1.30   1.30  ...   \n",
       "1   2   1.0   1.0    1.0    1.0    1.0    1.00  1.00   1.00   1.00  ...   \n",
       "2   3  83.0  11.0    1.0   11.0  171.0  927.89  0.04  23.04  40.27  ...   \n",
       "3   4  46.0   8.0    6.0    8.0  141.0  769.78  0.07  14.86  51.81  ...   \n",
       "4   5  25.0   3.0    1.0    3.0   58.0  254.75  0.11   9.35  27.25  ...   \n",
       "\n",
       "   lOCode  lOComment  lOBlank  locCodeAndComment  uniq_Op  uniq_Opnd  \\\n",
       "0       2          2        2                  2      1.2        1.2   \n",
       "1       1          1        1                  1      1.0        1.0   \n",
       "2      65         10        6                  0     18.0       25.0   \n",
       "3      37          2        5                  0     16.0       28.0   \n",
       "4      21          0        2                  0     11.0       10.0   \n",
       "\n",
       "   total_Op  total_Opnd  branchCount  defects  \n",
       "0       1.2         1.2          1.4    False  \n",
       "1       1.0         1.0          1.0     True  \n",
       "2     107.0        64.0         21.0     True  \n",
       "3      89.0        52.0         15.0     True  \n",
       "4      41.0        17.0          5.0     True  \n",
       "\n",
       "[5 rows x 23 columns]"
      ]
     },
     "execution_count": 7,
     "metadata": {},
     "output_type": "execute_result"
    }
   ],
   "source": [
    "df.head()"
   ]
  },
  {
   "cell_type": "code",
   "execution_count": 8,
   "id": "733e95eb",
   "metadata": {
    "execution": {
     "iopub.execute_input": "2021-04-04T22:49:04.302837Z",
     "iopub.status.busy": "2021-04-04T22:49:04.301933Z",
     "iopub.status.idle": "2021-04-04T22:49:04.304111Z",
     "shell.execute_reply": "2021-04-04T22:49:04.304602Z"
    },
    "papermill": {
     "duration": 0.037855,
     "end_time": "2021-04-04T22:49:04.304750",
     "exception": false,
     "start_time": "2021-04-04T22:49:04.266895",
     "status": "completed"
    },
    "tags": []
   },
   "outputs": [],
   "source": [
    "del df['id']"
   ]
  },
  {
   "cell_type": "code",
   "execution_count": 9,
   "id": "6ff6f5b0",
   "metadata": {
    "execution": {
     "iopub.execute_input": "2021-04-04T22:49:04.377636Z",
     "iopub.status.busy": "2021-04-04T22:49:04.375436Z",
     "iopub.status.idle": "2021-04-04T22:49:04.383833Z",
     "shell.execute_reply": "2021-04-04T22:49:04.384300Z"
    },
    "papermill": {
     "duration": 0.053995,
     "end_time": "2021-04-04T22:49:04.384457",
     "exception": false,
     "start_time": "2021-04-04T22:49:04.330462",
     "status": "completed"
    },
    "tags": []
   },
   "outputs": [],
   "source": [
    "if PROFILE_REPORTING:\n",
    "    ProfileReport(df).to_widgets()"
   ]
  },
  {
   "cell_type": "markdown",
   "id": "1deaf3f0",
   "metadata": {
    "papermill": {
     "duration": 0.032317,
     "end_time": "2021-04-04T22:49:04.455727",
     "exception": false,
     "start_time": "2021-04-04T22:49:04.423410",
     "status": "completed"
    },
    "tags": []
   },
   "source": [
    "# Preprocess"
   ]
  },
  {
   "cell_type": "code",
   "execution_count": 10,
   "id": "1513e563",
   "metadata": {
    "execution": {
     "iopub.execute_input": "2021-04-04T22:49:04.517992Z",
     "iopub.status.busy": "2021-04-04T22:49:04.516939Z",
     "iopub.status.idle": "2021-04-04T22:49:04.519685Z",
     "shell.execute_reply": "2021-04-04T22:49:04.520447Z"
    },
    "papermill": {
     "duration": 0.033112,
     "end_time": "2021-04-04T22:49:04.520640",
     "exception": false,
     "start_time": "2021-04-04T22:49:04.487528",
     "status": "completed"
    },
    "tags": []
   },
   "outputs": [],
   "source": [
    "working_df = df.copy()"
   ]
  },
  {
   "cell_type": "code",
   "execution_count": 11,
   "id": "3b26d675",
   "metadata": {
    "execution": {
     "iopub.execute_input": "2021-04-04T22:49:04.582190Z",
     "iopub.status.busy": "2021-04-04T22:49:04.581404Z",
     "iopub.status.idle": "2021-04-04T22:49:04.585217Z",
     "shell.execute_reply": "2021-04-04T22:49:04.584315Z"
    },
    "papermill": {
     "duration": 0.039582,
     "end_time": "2021-04-04T22:49:04.585389",
     "exception": false,
     "start_time": "2021-04-04T22:49:04.545807",
     "status": "completed"
    },
    "tags": []
   },
   "outputs": [],
   "source": [
    "working_df['defects'] = working_df['defects'].replace([False, True], [0, 1])"
   ]
  },
  {
   "cell_type": "code",
   "execution_count": 12,
   "id": "eb48604f",
   "metadata": {
    "execution": {
     "iopub.execute_input": "2021-04-04T22:49:04.636035Z",
     "iopub.status.busy": "2021-04-04T22:49:04.635093Z",
     "iopub.status.idle": "2021-04-04T22:49:04.638944Z",
     "shell.execute_reply": "2021-04-04T22:49:04.639664Z"
    },
    "papermill": {
     "duration": 0.031724,
     "end_time": "2021-04-04T22:49:04.639896",
     "exception": false,
     "start_time": "2021-04-04T22:49:04.608172",
     "status": "completed"
    },
    "tags": []
   },
   "outputs": [],
   "source": [
    "for col in dataset_config['delete_columns']:\n",
    "    del working_df[col]"
   ]
  },
  {
   "cell_type": "code",
   "execution_count": 13,
   "id": "9a17bc29",
   "metadata": {
    "execution": {
     "iopub.execute_input": "2021-04-04T22:49:04.696780Z",
     "iopub.status.busy": "2021-04-04T22:49:04.695808Z",
     "iopub.status.idle": "2021-04-04T22:49:04.705147Z",
     "shell.execute_reply": "2021-04-04T22:49:04.704451Z"
    },
    "papermill": {
     "duration": 0.042914,
     "end_time": "2021-04-04T22:49:04.705272",
     "exception": false,
     "start_time": "2021-04-04T22:49:04.662358",
     "status": "completed"
    },
    "tags": []
   },
   "outputs": [],
   "source": [
    "working_df = working_df.drop_duplicates()"
   ]
  },
  {
   "cell_type": "markdown",
   "id": "a4d52ca6",
   "metadata": {
    "papermill": {
     "duration": 0.042078,
     "end_time": "2021-04-04T22:49:04.776139",
     "exception": false,
     "start_time": "2021-04-04T22:49:04.734061",
     "status": "completed"
    },
    "tags": []
   },
   "source": [
    "# Split"
   ]
  },
  {
   "cell_type": "code",
   "execution_count": 14,
   "id": "3e9ee4b5",
   "metadata": {
    "execution": {
     "iopub.execute_input": "2021-04-04T22:49:04.846670Z",
     "iopub.status.busy": "2021-04-04T22:49:04.843395Z",
     "iopub.status.idle": "2021-04-04T22:49:04.883438Z",
     "shell.execute_reply": "2021-04-04T22:49:04.882841Z"
    },
    "papermill": {
     "duration": 0.076229,
     "end_time": "2021-04-04T22:49:04.883558",
     "exception": false,
     "start_time": "2021-04-04T22:49:04.807329",
     "status": "completed"
    },
    "tags": []
   },
   "outputs": [],
   "source": [
    "from sklearn.model_selection import train_test_split"
   ]
  },
  {
   "cell_type": "code",
   "execution_count": 15,
   "id": "274004ce",
   "metadata": {
    "execution": {
     "iopub.execute_input": "2021-04-04T22:49:04.954251Z",
     "iopub.status.busy": "2021-04-04T22:49:04.951826Z",
     "iopub.status.idle": "2021-04-04T22:49:04.962301Z",
     "shell.execute_reply": "2021-04-04T22:49:04.963116Z"
    },
    "papermill": {
     "duration": 0.0537,
     "end_time": "2021-04-04T22:49:04.963344",
     "exception": false,
     "start_time": "2021-04-04T22:49:04.909644",
     "status": "completed"
    },
    "scrolled": true,
    "tags": []
   },
   "outputs": [],
   "source": [
    "inlier, outlier = working_df[working_df['defects'] == 0], working_df[working_df['defects'] == 1]"
   ]
  },
  {
   "cell_type": "code",
   "execution_count": 16,
   "id": "753c7b03",
   "metadata": {
    "execution": {
     "iopub.execute_input": "2021-04-04T22:49:05.036263Z",
     "iopub.status.busy": "2021-04-04T22:49:05.035294Z",
     "iopub.status.idle": "2021-04-04T22:49:05.039752Z",
     "shell.execute_reply": "2021-04-04T22:49:05.039206Z"
    },
    "papermill": {
     "duration": 0.039683,
     "end_time": "2021-04-04T22:49:05.039870",
     "exception": false,
     "start_time": "2021-04-04T22:49:05.000187",
     "status": "completed"
    },
    "tags": []
   },
   "outputs": [],
   "source": [
    "X_inlier = inlier.copy()\n",
    "y_inlier = X_inlier.pop('defects')\n",
    "X_outlier = outlier.copy()\n",
    "y_outlier = X_outlier.pop('defects')"
   ]
  },
  {
   "cell_type": "code",
   "execution_count": 17,
   "id": "2ba43193",
   "metadata": {
    "execution": {
     "iopub.execute_input": "2021-04-04T22:49:05.098693Z",
     "iopub.status.busy": "2021-04-04T22:49:05.097962Z",
     "iopub.status.idle": "2021-04-04T22:49:05.100671Z",
     "shell.execute_reply": "2021-04-04T22:49:05.101204Z"
    },
    "papermill": {
     "duration": 0.035779,
     "end_time": "2021-04-04T22:49:05.101365",
     "exception": false,
     "start_time": "2021-04-04T22:49:05.065586",
     "status": "completed"
    },
    "tags": []
   },
   "outputs": [],
   "source": [
    "test_size = dataset_config['test_size']\n",
    "random_state = dataset_config['random_state']\n",
    "\n",
    "X_inlier_train, X_inlier_test, y_inlier_train, y_inlier_test = train_test_split(\n",
    "    X_inlier,\n",
    "    y_inlier,\n",
    "    test_size=test_size,\n",
    "    random_state=random_state\n",
    ")"
   ]
  },
  {
   "cell_type": "code",
   "execution_count": 18,
   "id": "0b7582ca",
   "metadata": {
    "execution": {
     "iopub.execute_input": "2021-04-04T22:49:05.191155Z",
     "iopub.status.busy": "2021-04-04T22:49:05.190081Z",
     "iopub.status.idle": "2021-04-04T22:49:05.194963Z",
     "shell.execute_reply": "2021-04-04T22:49:05.196144Z"
    },
    "papermill": {
     "duration": 0.06628,
     "end_time": "2021-04-04T22:49:05.196478",
     "exception": false,
     "start_time": "2021-04-04T22:49:05.130198",
     "status": "completed"
    },
    "tags": []
   },
   "outputs": [],
   "source": [
    "test_outlier_size = dataset_config['test_outlier_size']\n",
    "if test_outlier_size > 0.0:\n",
    "    X_outlier_train, X_outlier_test, y_outlier_train, y_outlier_test = train_test_split(\n",
    "        X_outlier,\n",
    "        y_outlier,\n",
    "        test_size=test_outlier_size,\n",
    "        random_state=random_state\n",
    "    )\n",
    "else:\n",
    "    X_outlier_train, y_outlier_train = pd.DataFrame(columns=X_outlier.columns), pd.Series(dtype='int64')\n",
    "    X_outlier_test, y_outlier_test = X_outlier.copy(), y_outlier.copy()"
   ]
  },
  {
   "cell_type": "code",
   "execution_count": 19,
   "id": "c34363db",
   "metadata": {
    "execution": {
     "iopub.execute_input": "2021-04-04T22:49:05.272423Z",
     "iopub.status.busy": "2021-04-04T22:49:05.271755Z",
     "iopub.status.idle": "2021-04-04T22:49:05.276526Z",
     "shell.execute_reply": "2021-04-04T22:49:05.277071Z"
    },
    "papermill": {
     "duration": 0.04576,
     "end_time": "2021-04-04T22:49:05.277228",
     "exception": false,
     "start_time": "2021-04-04T22:49:05.231468",
     "status": "completed"
    },
    "tags": []
   },
   "outputs": [],
   "source": [
    "X_train, y_train = pd.concat([X_inlier_train, X_outlier_train], ignore_index=True), pd.concat([y_inlier_train, y_outlier_train], ignore_index=True)\n",
    "X_test, y_test = pd.concat([X_inlier_test, X_outlier_test], ignore_index=True), pd.concat([y_inlier_test, y_outlier_test], ignore_index=True)"
   ]
  },
  {
   "cell_type": "markdown",
   "id": "7cde7309",
   "metadata": {
    "papermill": {
     "duration": 0.035486,
     "end_time": "2021-04-04T22:49:05.339217",
     "exception": false,
     "start_time": "2021-04-04T22:49:05.303731",
     "status": "completed"
    },
    "tags": []
   },
   "source": [
    "# Model"
   ]
  },
  {
   "cell_type": "code",
   "execution_count": 20,
   "id": "2b12a415",
   "metadata": {
    "execution": {
     "iopub.execute_input": "2021-04-04T22:49:05.451027Z",
     "iopub.status.busy": "2021-04-04T22:49:05.449877Z",
     "iopub.status.idle": "2021-04-04T22:49:05.453221Z",
     "shell.execute_reply": "2021-04-04T22:49:05.453698Z"
    },
    "papermill": {
     "duration": 0.068391,
     "end_time": "2021-04-04T22:49:05.454193",
     "exception": false,
     "start_time": "2021-04-04T22:49:05.385802",
     "status": "completed"
    },
    "tags": []
   },
   "outputs": [],
   "source": [
    "from math import sqrt\n",
    "\n",
    "\n",
    "class KNNDataDescription:\n",
    "    def __init__(self, k=5, outlier_threshold=1.0):\n",
    "        self.k = k\n",
    "        self.outlier_threshold = outlier_threshold\n",
    "        self.X = []\n",
    "    \n",
    "    def fit(self, X):\n",
    "        self.X = [features.to_list() for index, features in X.iterrows()]\n",
    "\n",
    "    def predict(self, entries):\n",
    "        return [self.predict_entry(features.to_list()) for index, features in entries.iterrows()]\n",
    "    \n",
    "    def predict_entry(self, entry):\n",
    "        kth_neighbor, kth_distance = self.get_kth_neighbor(entry, self.k)\n",
    "        kth_kth_neighbor, kth_kth_distance = self.get_kth_neighbor(kth_neighbor, self.k + 1)\n",
    "\n",
    "        outlier_score = kth_distance / (kth_kth_distance + 0.000001)\n",
    "\n",
    "        return 1 if outlier_score < self.outlier_threshold else -1\n",
    "        \n",
    "    def euclidean_distance(self, features1, features2):\n",
    "        distance = 0.0\n",
    "        for feat1, feat2 in zip(features1, features2):\n",
    "            distance += (feat1 - feat2)**2\n",
    "                \n",
    "        return sqrt(distance)\n",
    "\n",
    "    def get_neighbors(self, entry, k):\n",
    "        distance_to_data_points = [\n",
    "            (data_point, self.euclidean_distance(entry, data_point))\n",
    "            for data_point in self.X\n",
    "        ]\n",
    "        sorted_by_distance = sorted(distance_to_data_points, key=lambda tup: tup[1])\n",
    "        neighbors = sorted_by_distance[:k]\n",
    "        return neighbors\n",
    "\n",
    "    def get_kth_neighbor(self, entry, k):\n",
    "        neighbors = self.get_neighbors(entry, k)\n",
    "        return neighbors[-1]\n"
   ]
  },
  {
   "cell_type": "code",
   "execution_count": 21,
   "id": "1fa9ec1c",
   "metadata": {
    "execution": {
     "iopub.execute_input": "2021-04-04T22:49:05.576418Z",
     "iopub.status.busy": "2021-04-04T22:49:05.574789Z",
     "iopub.status.idle": "2021-04-04T22:49:05.625665Z",
     "shell.execute_reply": "2021-04-04T22:49:05.623005Z"
    },
    "papermill": {
     "duration": 0.129716,
     "end_time": "2021-04-04T22:49:05.626294",
     "exception": false,
     "start_time": "2021-04-04T22:49:05.496578",
     "status": "completed"
    },
    "tags": []
   },
   "outputs": [],
   "source": [
    "from sklearn.svm import OneClassSVM\n",
    "\n",
    "\n",
    "models = {\n",
    "    'oneclasssvm': OneClassSVM,\n",
    "    'knndatadescription': KNNDataDescription,\n",
    "}"
   ]
  },
  {
   "cell_type": "code",
   "execution_count": 22,
   "id": "4d72a0b1",
   "metadata": {
    "execution": {
     "iopub.execute_input": "2021-04-04T22:49:05.738513Z",
     "iopub.status.busy": "2021-04-04T22:49:05.737369Z",
     "iopub.status.idle": "2021-04-04T22:49:05.740978Z",
     "shell.execute_reply": "2021-04-04T22:49:05.741883Z"
    },
    "papermill": {
     "duration": 0.063739,
     "end_time": "2021-04-04T22:49:05.742157",
     "exception": false,
     "start_time": "2021-04-04T22:49:05.678418",
     "status": "completed"
    },
    "scrolled": true,
    "tags": []
   },
   "outputs": [],
   "source": [
    "model_cls = models[model_config['model_type']]\n",
    "model = model_cls(**model_config['hyperparameters'])"
   ]
  },
  {
   "cell_type": "markdown",
   "id": "e00cff3b",
   "metadata": {
    "papermill": {
     "duration": 0.061975,
     "end_time": "2021-04-04T22:49:05.857160",
     "exception": false,
     "start_time": "2021-04-04T22:49:05.795185",
     "status": "completed"
    },
    "tags": []
   },
   "source": [
    "# Fit"
   ]
  },
  {
   "cell_type": "code",
   "execution_count": 23,
   "id": "8b2ded89",
   "metadata": {
    "execution": {
     "iopub.execute_input": "2021-04-04T22:49:05.968167Z",
     "iopub.status.busy": "2021-04-04T22:49:05.967105Z",
     "iopub.status.idle": "2021-04-04T22:49:06.038294Z",
     "shell.execute_reply": "2021-04-04T22:49:06.038776Z"
    },
    "papermill": {
     "duration": 0.127476,
     "end_time": "2021-04-04T22:49:06.038923",
     "exception": false,
     "start_time": "2021-04-04T22:49:05.911447",
     "status": "completed"
    },
    "tags": []
   },
   "outputs": [],
   "source": [
    "model.fit(X_train)"
   ]
  },
  {
   "cell_type": "markdown",
   "id": "f99999f7",
   "metadata": {
    "papermill": {
     "duration": 0.030813,
     "end_time": "2021-04-04T22:49:06.094677",
     "exception": false,
     "start_time": "2021-04-04T22:49:06.063864",
     "status": "completed"
    },
    "tags": []
   },
   "source": [
    "# Predict"
   ]
  },
  {
   "cell_type": "code",
   "execution_count": 24,
   "id": "6536fbf7",
   "metadata": {
    "execution": {
     "iopub.execute_input": "2021-04-04T22:49:06.182644Z",
     "iopub.status.busy": "2021-04-04T22:49:06.181162Z",
     "iopub.status.idle": "2021-04-04T22:49:09.918738Z",
     "shell.execute_reply": "2021-04-04T22:49:09.919291Z"
    },
    "papermill": {
     "duration": 3.784831,
     "end_time": "2021-04-04T22:49:09.919449",
     "exception": false,
     "start_time": "2021-04-04T22:49:06.134618",
     "status": "completed"
    },
    "tags": []
   },
   "outputs": [],
   "source": [
    "predictions = model.predict(X_test)"
   ]
  },
  {
   "cell_type": "markdown",
   "id": "aa1c9881",
   "metadata": {
    "papermill": {
     "duration": 0.035729,
     "end_time": "2021-04-04T22:49:09.981452",
     "exception": false,
     "start_time": "2021-04-04T22:49:09.945723",
     "status": "completed"
    },
    "tags": []
   },
   "source": [
    "# Evaluate"
   ]
  },
  {
   "cell_type": "code",
   "execution_count": 25,
   "id": "894f0f04",
   "metadata": {
    "execution": {
     "iopub.execute_input": "2021-04-04T22:49:10.061502Z",
     "iopub.status.busy": "2021-04-04T22:49:10.060674Z",
     "iopub.status.idle": "2021-04-04T22:49:10.062628Z",
     "shell.execute_reply": "2021-04-04T22:49:10.063124Z"
    },
    "papermill": {
     "duration": 0.046914,
     "end_time": "2021-04-04T22:49:10.063341",
     "exception": false,
     "start_time": "2021-04-04T22:49:10.016427",
     "status": "completed"
    },
    "tags": []
   },
   "outputs": [],
   "source": [
    "from sklearn.metrics import f1_score"
   ]
  },
  {
   "cell_type": "code",
   "execution_count": 26,
   "id": "211744d3",
   "metadata": {
    "execution": {
     "iopub.execute_input": "2021-04-04T22:49:10.153170Z",
     "iopub.status.busy": "2021-04-04T22:49:10.150358Z",
     "iopub.status.idle": "2021-04-04T22:49:10.155193Z",
     "shell.execute_reply": "2021-04-04T22:49:10.155822Z"
    },
    "papermill": {
     "duration": 0.05705,
     "end_time": "2021-04-04T22:49:10.156053",
     "exception": false,
     "start_time": "2021-04-04T22:49:10.099003",
     "status": "completed"
    },
    "tags": []
   },
   "outputs": [],
   "source": [
    "y_test = y_test.replace([0, 1], [1, -1])"
   ]
  },
  {
   "cell_type": "code",
   "execution_count": 27,
   "id": "d68a9204",
   "metadata": {
    "execution": {
     "iopub.execute_input": "2021-04-04T22:49:10.253471Z",
     "iopub.status.busy": "2021-04-04T22:49:10.250327Z",
     "iopub.status.idle": "2021-04-04T22:49:10.256257Z",
     "shell.execute_reply": "2021-04-04T22:49:10.256754Z"
    },
    "papermill": {
     "duration": 0.064085,
     "end_time": "2021-04-04T22:49:10.256954",
     "exception": false,
     "start_time": "2021-04-04T22:49:10.192869",
     "status": "completed"
    },
    "tags": []
   },
   "outputs": [],
   "source": [
    "def evaluate(truths, predictions, pos_label, neg_label):\n",
    "    TP = 0\n",
    "    FP = 0\n",
    "    TN = 0\n",
    "    FN = 0\n",
    "\n",
    "    for truth, pred in zip(truths, predictions): \n",
    "        if truth == pred == pos_label:\n",
    "           TP += 1\n",
    "        elif pred == pos_label and truth == neg_label:\n",
    "           FP += 1\n",
    "        elif truth == pred == neg_label:\n",
    "           TN += 1\n",
    "        elif pred == neg_label and truth == pos_label:\n",
    "           FN += 1\n",
    "\n",
    "    precision = TP / (TP + FP)\n",
    "    sensitivity = TP / (TP + FN)\n",
    "    \n",
    "    return {\n",
    "        'true_pos': TP,\n",
    "        'false_pos': FP,\n",
    "        'false_neg': FN,\n",
    "        'true_neg': TN,\n",
    "        'precision': precision,\n",
    "        'sensitivity': sensitivity,\n",
    "        'f1': (2 * (precision * sensitivity)) / (precision + sensitivity)\n",
    "    }\n",
    "\n",
    "score = evaluate(y_test, predictions, pos_label=-1, neg_label=1)"
   ]
  },
  {
   "cell_type": "markdown",
   "id": "93596516",
   "metadata": {
    "papermill": {
     "duration": 0.052396,
     "end_time": "2021-04-04T22:49:10.355518",
     "exception": false,
     "start_time": "2021-04-04T22:49:10.303122",
     "status": "completed"
    },
    "tags": []
   },
   "source": [
    "# Report"
   ]
  },
  {
   "cell_type": "code",
   "execution_count": 28,
   "id": "bea5fba1",
   "metadata": {
    "execution": {
     "iopub.execute_input": "2021-04-04T22:49:10.445066Z",
     "iopub.status.busy": "2021-04-04T22:49:10.443545Z",
     "iopub.status.idle": "2021-04-04T22:49:10.454221Z",
     "shell.execute_reply": "2021-04-04T22:49:10.452440Z"
    },
    "papermill": {
     "duration": 0.057562,
     "end_time": "2021-04-04T22:49:10.454604",
     "exception": false,
     "start_time": "2021-04-04T22:49:10.397042",
     "status": "completed"
    },
    "tags": []
   },
   "outputs": [],
   "source": [
    "import csv\n",
    "\n",
    "\n",
    "dataset_config_name = DATASET_CONFIG_PATH.split('/')[-1].split('.')[0]\n",
    "model_config_name = MODEL_CONFIG_PATH.split('/')[-1].split('.')[0]\n",
    "configuration = f\"dataset_{dataset_config_name}-model_{model_config_name}\"\n",
    "\n",
    "with open('results.csv', 'a') as f:\n",
    "    report = dict({'configuration': configuration}, **score)\n",
    "    writer = csv.DictWriter(f, report.keys())\n",
    "    writer.writerow(report)"
   ]
  }
 ],
 "metadata": {
  "celltoolbar": "Tags",
  "kernelspec": {
   "display_name": "Python 3",
   "language": "python",
   "name": "python3"
  },
  "language_info": {
   "codemirror_mode": {
    "name": "ipython",
    "version": 3
   },
   "file_extension": ".py",
   "mimetype": "text/x-python",
   "name": "python",
   "nbconvert_exporter": "python",
   "pygments_lexer": "ipython3",
   "version": "3.9.1"
  },
  "papermill": {
   "default_parameters": {},
   "duration": 11.095697,
   "end_time": "2021-04-04T22:49:12.100404",
   "environment_variables": {},
   "exception": null,
   "input_path": "main.ipynb",
   "output_path": "runs/dataset_000049-model_000002.ipynb",
   "parameters": {
    "DATASET_CONFIG_PATH": "config/dataset/000049.json",
    "MODEL_CONFIG_PATH": "config/model/000002.json",
    "PROFILE_REPORTING": false
   },
   "start_time": "2021-04-04T22:49:01.004707",
   "version": "2.3.3"
  }
 },
 "nbformat": 4,
 "nbformat_minor": 5
}