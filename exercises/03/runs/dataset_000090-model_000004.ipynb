{
 "cells": [
  {
   "cell_type": "markdown",
   "id": "51c71c25",
   "metadata": {
    "papermill": {
     "duration": 0.027246,
     "end_time": "2021-04-04T23:09:07.582262",
     "exception": false,
     "start_time": "2021-04-04T23:09:07.555016",
     "status": "completed"
    },
    "tags": []
   },
   "source": [
    "# Parametrizing"
   ]
  },
  {
   "cell_type": "code",
   "execution_count": 1,
   "id": "3b136394",
   "metadata": {
    "execution": {
     "iopub.execute_input": "2021-04-04T23:09:07.634379Z",
     "iopub.status.busy": "2021-04-04T23:09:07.630575Z",
     "iopub.status.idle": "2021-04-04T23:09:07.637402Z",
     "shell.execute_reply": "2021-04-04T23:09:07.638218Z"
    },
    "papermill": {
     "duration": 0.036295,
     "end_time": "2021-04-04T23:09:07.638533",
     "exception": false,
     "start_time": "2021-04-04T23:09:07.602238",
     "status": "completed"
    },
    "tags": [
     "parameters"
    ]
   },
   "outputs": [],
   "source": [
    "DATASET_CONFIG_PATH = 'config/dataset/kc1_001.json'\n",
    "MODEL_CONFIG_PATH = 'config/model/knndd_001.json'\n",
    "PROFILE_REPORTING = False"
   ]
  },
  {
   "cell_type": "code",
   "execution_count": 2,
   "id": "c838b955",
   "metadata": {
    "execution": {
     "iopub.execute_input": "2021-04-04T23:09:07.687477Z",
     "iopub.status.busy": "2021-04-04T23:09:07.686220Z",
     "iopub.status.idle": "2021-04-04T23:09:07.689592Z",
     "shell.execute_reply": "2021-04-04T23:09:07.688931Z"
    },
    "papermill": {
     "duration": 0.027948,
     "end_time": "2021-04-04T23:09:07.689726",
     "exception": false,
     "start_time": "2021-04-04T23:09:07.661778",
     "status": "completed"
    },
    "tags": [
     "injected-parameters"
    ]
   },
   "outputs": [],
   "source": [
    "# Parameters\n",
    "DATASET_CONFIG_PATH = \"config/dataset/000090.json\"\n",
    "MODEL_CONFIG_PATH = \"config/model/000004.json\"\n",
    "PROFILE_REPORTING = False\n"
   ]
  },
  {
   "cell_type": "code",
   "execution_count": 3,
   "id": "b80f2a10",
   "metadata": {
    "execution": {
     "iopub.execute_input": "2021-04-04T23:09:07.738296Z",
     "iopub.status.busy": "2021-04-04T23:09:07.737522Z",
     "iopub.status.idle": "2021-04-04T23:09:07.739289Z",
     "shell.execute_reply": "2021-04-04T23:09:07.739770Z"
    },
    "papermill": {
     "duration": 0.027451,
     "end_time": "2021-04-04T23:09:07.739914",
     "exception": false,
     "start_time": "2021-04-04T23:09:07.712463",
     "status": "completed"
    },
    "tags": []
   },
   "outputs": [],
   "source": [
    "import json\n",
    "\n",
    "\n",
    "with open(DATASET_CONFIG_PATH) as f:\n",
    "    dataset_config = json.load(f)\n",
    "\n",
    "with open(MODEL_CONFIG_PATH) as f:\n",
    "    model_config = json.load(f)"
   ]
  },
  {
   "cell_type": "markdown",
   "id": "9a4b0e2d",
   "metadata": {
    "papermill": {
     "duration": 0.019566,
     "end_time": "2021-04-04T23:09:07.787170",
     "exception": false,
     "start_time": "2021-04-04T23:09:07.767604",
     "status": "completed"
    },
    "tags": []
   },
   "source": [
    "# Profiling"
   ]
  },
  {
   "cell_type": "code",
   "execution_count": 4,
   "id": "a3e0289b",
   "metadata": {
    "execution": {
     "iopub.execute_input": "2021-04-04T23:09:07.833485Z",
     "iopub.status.busy": "2021-04-04T23:09:07.832818Z",
     "iopub.status.idle": "2021-04-04T23:09:09.096184Z",
     "shell.execute_reply": "2021-04-04T23:09:09.095326Z"
    },
    "papermill": {
     "duration": 1.287863,
     "end_time": "2021-04-04T23:09:09.096347",
     "exception": false,
     "start_time": "2021-04-04T23:09:07.808484",
     "status": "completed"
    },
    "tags": []
   },
   "outputs": [],
   "source": [
    "import pandas as pd\n",
    "from pandas_profiling import ProfileReport"
   ]
  },
  {
   "cell_type": "code",
   "execution_count": 5,
   "id": "ee6c0666",
   "metadata": {
    "execution": {
     "iopub.execute_input": "2021-04-04T23:09:09.146414Z",
     "iopub.status.busy": "2021-04-04T23:09:09.145721Z",
     "iopub.status.idle": "2021-04-04T23:09:09.156068Z",
     "shell.execute_reply": "2021-04-04T23:09:09.156547Z"
    },
    "papermill": {
     "duration": 0.036491,
     "end_time": "2021-04-04T23:09:09.156690",
     "exception": false,
     "start_time": "2021-04-04T23:09:09.120199",
     "status": "completed"
    },
    "tags": []
   },
   "outputs": [],
   "source": [
    "df = pd.read_csv(dataset_config['dataset_path'])"
   ]
  },
  {
   "cell_type": "code",
   "execution_count": 6,
   "id": "7eca6c4a",
   "metadata": {
    "execution": {
     "iopub.execute_input": "2021-04-04T23:09:09.219438Z",
     "iopub.status.busy": "2021-04-04T23:09:09.205343Z",
     "iopub.status.idle": "2021-04-04T23:09:09.222849Z",
     "shell.execute_reply": "2021-04-04T23:09:09.223625Z"
    },
    "papermill": {
     "duration": 0.043773,
     "end_time": "2021-04-04T23:09:09.223845",
     "exception": false,
     "start_time": "2021-04-04T23:09:09.180072",
     "status": "completed"
    },
    "tags": []
   },
   "outputs": [
    {
     "name": "stdout",
     "output_type": "stream",
     "text": [
      "<class 'pandas.core.frame.DataFrame'>\n",
      "RangeIndex: 498 entries, 0 to 497\n",
      "Data columns (total 23 columns):\n",
      " #   Column             Non-Null Count  Dtype  \n",
      "---  ------             --------------  -----  \n",
      " 0   id                 498 non-null    int64  \n",
      " 1   loc                498 non-null    float64\n",
      " 2   v(g)               498 non-null    float64\n",
      " 3   ev(g)              498 non-null    float64\n",
      " 4   iv(g)              498 non-null    float64\n",
      " 5   n                  498 non-null    float64\n",
      " 6   v                  498 non-null    float64\n",
      " 7   l                  498 non-null    float64\n",
      " 8   d                  498 non-null    float64\n",
      " 9   i                  498 non-null    float64\n",
      " 10  e                  498 non-null    float64\n",
      " 11  b                  498 non-null    float64\n",
      " 12  t                  498 non-null    float64\n",
      " 13  lOCode             498 non-null    int64  \n",
      " 14  lOComment          498 non-null    int64  \n",
      " 15  lOBlank            498 non-null    int64  \n",
      " 16  locCodeAndComment  498 non-null    int64  \n",
      " 17  uniq_Op            498 non-null    float64\n",
      " 18  uniq_Opnd          498 non-null    float64\n",
      " 19  total_Op           498 non-null    float64\n",
      " 20  total_Opnd         498 non-null    float64\n",
      " 21  branchCount        498 non-null    float64\n",
      " 22  defects            498 non-null    bool   \n",
      "dtypes: bool(1), float64(17), int64(5)\n",
      "memory usage: 86.2 KB\n"
     ]
    }
   ],
   "source": [
    "df.info()"
   ]
  },
  {
   "cell_type": "code",
   "execution_count": 7,
   "id": "3638e5e8",
   "metadata": {
    "execution": {
     "iopub.execute_input": "2021-04-04T23:09:09.280793Z",
     "iopub.status.busy": "2021-04-04T23:09:09.280184Z",
     "iopub.status.idle": "2021-04-04T23:09:09.311009Z",
     "shell.execute_reply": "2021-04-04T23:09:09.310065Z"
    },
    "papermill": {
     "duration": 0.060645,
     "end_time": "2021-04-04T23:09:09.311187",
     "exception": false,
     "start_time": "2021-04-04T23:09:09.250542",
     "status": "completed"
    },
    "tags": []
   },
   "outputs": [
    {
     "data": {
      "text/html": [
       "<div>\n",
       "<style scoped>\n",
       "    .dataframe tbody tr th:only-of-type {\n",
       "        vertical-align: middle;\n",
       "    }\n",
       "\n",
       "    .dataframe tbody tr th {\n",
       "        vertical-align: top;\n",
       "    }\n",
       "\n",
       "    .dataframe thead th {\n",
       "        text-align: right;\n",
       "    }\n",
       "</style>\n",
       "<table border=\"1\" class=\"dataframe\">\n",
       "  <thead>\n",
       "    <tr style=\"text-align: right;\">\n",
       "      <th></th>\n",
       "      <th>id</th>\n",
       "      <th>loc</th>\n",
       "      <th>v(g)</th>\n",
       "      <th>ev(g)</th>\n",
       "      <th>iv(g)</th>\n",
       "      <th>n</th>\n",
       "      <th>v</th>\n",
       "      <th>l</th>\n",
       "      <th>d</th>\n",
       "      <th>i</th>\n",
       "      <th>...</th>\n",
       "      <th>lOCode</th>\n",
       "      <th>lOComment</th>\n",
       "      <th>lOBlank</th>\n",
       "      <th>locCodeAndComment</th>\n",
       "      <th>uniq_Op</th>\n",
       "      <th>uniq_Opnd</th>\n",
       "      <th>total_Op</th>\n",
       "      <th>total_Opnd</th>\n",
       "      <th>branchCount</th>\n",
       "      <th>defects</th>\n",
       "    </tr>\n",
       "  </thead>\n",
       "  <tbody>\n",
       "    <tr>\n",
       "      <th>0</th>\n",
       "      <td>1</td>\n",
       "      <td>1.1</td>\n",
       "      <td>1.4</td>\n",
       "      <td>1.4</td>\n",
       "      <td>1.4</td>\n",
       "      <td>1.3</td>\n",
       "      <td>1.30</td>\n",
       "      <td>1.30</td>\n",
       "      <td>1.30</td>\n",
       "      <td>1.30</td>\n",
       "      <td>...</td>\n",
       "      <td>2</td>\n",
       "      <td>2</td>\n",
       "      <td>2</td>\n",
       "      <td>2</td>\n",
       "      <td>1.2</td>\n",
       "      <td>1.2</td>\n",
       "      <td>1.2</td>\n",
       "      <td>1.2</td>\n",
       "      <td>1.4</td>\n",
       "      <td>False</td>\n",
       "    </tr>\n",
       "    <tr>\n",
       "      <th>1</th>\n",
       "      <td>2</td>\n",
       "      <td>1.0</td>\n",
       "      <td>1.0</td>\n",
       "      <td>1.0</td>\n",
       "      <td>1.0</td>\n",
       "      <td>1.0</td>\n",
       "      <td>1.00</td>\n",
       "      <td>1.00</td>\n",
       "      <td>1.00</td>\n",
       "      <td>1.00</td>\n",
       "      <td>...</td>\n",
       "      <td>1</td>\n",
       "      <td>1</td>\n",
       "      <td>1</td>\n",
       "      <td>1</td>\n",
       "      <td>1.0</td>\n",
       "      <td>1.0</td>\n",
       "      <td>1.0</td>\n",
       "      <td>1.0</td>\n",
       "      <td>1.0</td>\n",
       "      <td>True</td>\n",
       "    </tr>\n",
       "    <tr>\n",
       "      <th>2</th>\n",
       "      <td>3</td>\n",
       "      <td>24.0</td>\n",
       "      <td>5.0</td>\n",
       "      <td>1.0</td>\n",
       "      <td>3.0</td>\n",
       "      <td>63.0</td>\n",
       "      <td>309.13</td>\n",
       "      <td>0.11</td>\n",
       "      <td>9.50</td>\n",
       "      <td>32.54</td>\n",
       "      <td>...</td>\n",
       "      <td>1</td>\n",
       "      <td>0</td>\n",
       "      <td>6</td>\n",
       "      <td>0</td>\n",
       "      <td>15.0</td>\n",
       "      <td>15.0</td>\n",
       "      <td>44.0</td>\n",
       "      <td>19.0</td>\n",
       "      <td>9.0</td>\n",
       "      <td>False</td>\n",
       "    </tr>\n",
       "    <tr>\n",
       "      <th>3</th>\n",
       "      <td>4</td>\n",
       "      <td>20.0</td>\n",
       "      <td>4.0</td>\n",
       "      <td>4.0</td>\n",
       "      <td>2.0</td>\n",
       "      <td>47.0</td>\n",
       "      <td>215.49</td>\n",
       "      <td>0.06</td>\n",
       "      <td>16.00</td>\n",
       "      <td>13.47</td>\n",
       "      <td>...</td>\n",
       "      <td>0</td>\n",
       "      <td>0</td>\n",
       "      <td>3</td>\n",
       "      <td>0</td>\n",
       "      <td>16.0</td>\n",
       "      <td>8.0</td>\n",
       "      <td>31.0</td>\n",
       "      <td>16.0</td>\n",
       "      <td>7.0</td>\n",
       "      <td>False</td>\n",
       "    </tr>\n",
       "    <tr>\n",
       "      <th>4</th>\n",
       "      <td>5</td>\n",
       "      <td>24.0</td>\n",
       "      <td>6.0</td>\n",
       "      <td>6.0</td>\n",
       "      <td>2.0</td>\n",
       "      <td>72.0</td>\n",
       "      <td>346.13</td>\n",
       "      <td>0.06</td>\n",
       "      <td>17.33</td>\n",
       "      <td>19.97</td>\n",
       "      <td>...</td>\n",
       "      <td>0</td>\n",
       "      <td>0</td>\n",
       "      <td>3</td>\n",
       "      <td>0</td>\n",
       "      <td>16.0</td>\n",
       "      <td>12.0</td>\n",
       "      <td>46.0</td>\n",
       "      <td>26.0</td>\n",
       "      <td>11.0</td>\n",
       "      <td>False</td>\n",
       "    </tr>\n",
       "  </tbody>\n",
       "</table>\n",
       "<p>5 rows × 23 columns</p>\n",
       "</div>"
      ],
      "text/plain": [
       "   id   loc  v(g)  ev(g)  iv(g)     n       v     l      d      i  ...  \\\n",
       "0   1   1.1   1.4    1.4    1.4   1.3    1.30  1.30   1.30   1.30  ...   \n",
       "1   2   1.0   1.0    1.0    1.0   1.0    1.00  1.00   1.00   1.00  ...   \n",
       "2   3  24.0   5.0    1.0    3.0  63.0  309.13  0.11   9.50  32.54  ...   \n",
       "3   4  20.0   4.0    4.0    2.0  47.0  215.49  0.06  16.00  13.47  ...   \n",
       "4   5  24.0   6.0    6.0    2.0  72.0  346.13  0.06  17.33  19.97  ...   \n",
       "\n",
       "   lOCode  lOComment  lOBlank  locCodeAndComment  uniq_Op  uniq_Opnd  \\\n",
       "0       2          2        2                  2      1.2        1.2   \n",
       "1       1          1        1                  1      1.0        1.0   \n",
       "2       1          0        6                  0     15.0       15.0   \n",
       "3       0          0        3                  0     16.0        8.0   \n",
       "4       0          0        3                  0     16.0       12.0   \n",
       "\n",
       "   total_Op  total_Opnd  branchCount  defects  \n",
       "0       1.2         1.2          1.4    False  \n",
       "1       1.0         1.0          1.0     True  \n",
       "2      44.0        19.0          9.0    False  \n",
       "3      31.0        16.0          7.0    False  \n",
       "4      46.0        26.0         11.0    False  \n",
       "\n",
       "[5 rows x 23 columns]"
      ]
     },
     "execution_count": 7,
     "metadata": {},
     "output_type": "execute_result"
    }
   ],
   "source": [
    "df.head()"
   ]
  },
  {
   "cell_type": "code",
   "execution_count": 8,
   "id": "733e95eb",
   "metadata": {
    "execution": {
     "iopub.execute_input": "2021-04-04T23:09:09.368258Z",
     "iopub.status.busy": "2021-04-04T23:09:09.367111Z",
     "iopub.status.idle": "2021-04-04T23:09:09.370605Z",
     "shell.execute_reply": "2021-04-04T23:09:09.371464Z"
    },
    "papermill": {
     "duration": 0.03332,
     "end_time": "2021-04-04T23:09:09.371701",
     "exception": false,
     "start_time": "2021-04-04T23:09:09.338381",
     "status": "completed"
    },
    "tags": []
   },
   "outputs": [],
   "source": [
    "del df['id']"
   ]
  },
  {
   "cell_type": "code",
   "execution_count": 9,
   "id": "6ff6f5b0",
   "metadata": {
    "execution": {
     "iopub.execute_input": "2021-04-04T23:09:09.428785Z",
     "iopub.status.busy": "2021-04-04T23:09:09.427581Z",
     "iopub.status.idle": "2021-04-04T23:09:09.431581Z",
     "shell.execute_reply": "2021-04-04T23:09:09.430709Z"
    },
    "papermill": {
     "duration": 0.030774,
     "end_time": "2021-04-04T23:09:09.431773",
     "exception": false,
     "start_time": "2021-04-04T23:09:09.400999",
     "status": "completed"
    },
    "tags": []
   },
   "outputs": [],
   "source": [
    "if PROFILE_REPORTING:\n",
    "    ProfileReport(df).to_widgets()"
   ]
  },
  {
   "cell_type": "markdown",
   "id": "1deaf3f0",
   "metadata": {
    "papermill": {
     "duration": 0.020851,
     "end_time": "2021-04-04T23:09:09.479489",
     "exception": false,
     "start_time": "2021-04-04T23:09:09.458638",
     "status": "completed"
    },
    "tags": []
   },
   "source": [
    "# Preprocess"
   ]
  },
  {
   "cell_type": "code",
   "execution_count": 10,
   "id": "1513e563",
   "metadata": {
    "execution": {
     "iopub.execute_input": "2021-04-04T23:09:09.528461Z",
     "iopub.status.busy": "2021-04-04T23:09:09.526984Z",
     "iopub.status.idle": "2021-04-04T23:09:09.531231Z",
     "shell.execute_reply": "2021-04-04T23:09:09.530197Z"
    },
    "papermill": {
     "duration": 0.030485,
     "end_time": "2021-04-04T23:09:09.531431",
     "exception": false,
     "start_time": "2021-04-04T23:09:09.500946",
     "status": "completed"
    },
    "tags": []
   },
   "outputs": [],
   "source": [
    "working_df = df.copy()"
   ]
  },
  {
   "cell_type": "code",
   "execution_count": 11,
   "id": "3b26d675",
   "metadata": {
    "execution": {
     "iopub.execute_input": "2021-04-04T23:09:09.584101Z",
     "iopub.status.busy": "2021-04-04T23:09:09.583093Z",
     "iopub.status.idle": "2021-04-04T23:09:09.586814Z",
     "shell.execute_reply": "2021-04-04T23:09:09.585970Z"
    },
    "papermill": {
     "duration": 0.031631,
     "end_time": "2021-04-04T23:09:09.587007",
     "exception": false,
     "start_time": "2021-04-04T23:09:09.555376",
     "status": "completed"
    },
    "tags": []
   },
   "outputs": [],
   "source": [
    "working_df['defects'] = working_df['defects'].replace([False, True], [0, 1])"
   ]
  },
  {
   "cell_type": "code",
   "execution_count": 12,
   "id": "eb48604f",
   "metadata": {
    "execution": {
     "iopub.execute_input": "2021-04-04T23:09:09.641518Z",
     "iopub.status.busy": "2021-04-04T23:09:09.640436Z",
     "iopub.status.idle": "2021-04-04T23:09:09.642636Z",
     "shell.execute_reply": "2021-04-04T23:09:09.643333Z"
    },
    "papermill": {
     "duration": 0.029114,
     "end_time": "2021-04-04T23:09:09.643534",
     "exception": false,
     "start_time": "2021-04-04T23:09:09.614420",
     "status": "completed"
    },
    "tags": []
   },
   "outputs": [],
   "source": [
    "for col in dataset_config['delete_columns']:\n",
    "    del working_df[col]"
   ]
  },
  {
   "cell_type": "code",
   "execution_count": 13,
   "id": "9a17bc29",
   "metadata": {
    "execution": {
     "iopub.execute_input": "2021-04-04T23:09:09.697492Z",
     "iopub.status.busy": "2021-04-04T23:09:09.696647Z",
     "iopub.status.idle": "2021-04-04T23:09:09.705989Z",
     "shell.execute_reply": "2021-04-04T23:09:09.706665Z"
    },
    "papermill": {
     "duration": 0.03923,
     "end_time": "2021-04-04T23:09:09.706929",
     "exception": false,
     "start_time": "2021-04-04T23:09:09.667699",
     "status": "completed"
    },
    "tags": []
   },
   "outputs": [],
   "source": [
    "working_df = working_df.drop_duplicates()"
   ]
  },
  {
   "cell_type": "markdown",
   "id": "a4d52ca6",
   "metadata": {
    "papermill": {
     "duration": 0.02934,
     "end_time": "2021-04-04T23:09:09.767536",
     "exception": false,
     "start_time": "2021-04-04T23:09:09.738196",
     "status": "completed"
    },
    "tags": []
   },
   "source": [
    "# Split"
   ]
  },
  {
   "cell_type": "code",
   "execution_count": 14,
   "id": "3e9ee4b5",
   "metadata": {
    "execution": {
     "iopub.execute_input": "2021-04-04T23:09:09.817449Z",
     "iopub.status.busy": "2021-04-04T23:09:09.816604Z",
     "iopub.status.idle": "2021-04-04T23:09:09.851680Z",
     "shell.execute_reply": "2021-04-04T23:09:09.852418Z"
    },
    "papermill": {
     "duration": 0.063118,
     "end_time": "2021-04-04T23:09:09.852639",
     "exception": false,
     "start_time": "2021-04-04T23:09:09.789521",
     "status": "completed"
    },
    "tags": []
   },
   "outputs": [],
   "source": [
    "from sklearn.model_selection import train_test_split"
   ]
  },
  {
   "cell_type": "code",
   "execution_count": 15,
   "id": "274004ce",
   "metadata": {
    "execution": {
     "iopub.execute_input": "2021-04-04T23:09:09.908281Z",
     "iopub.status.busy": "2021-04-04T23:09:09.907581Z",
     "iopub.status.idle": "2021-04-04T23:09:09.914281Z",
     "shell.execute_reply": "2021-04-04T23:09:09.915049Z"
    },
    "papermill": {
     "duration": 0.034236,
     "end_time": "2021-04-04T23:09:09.915265",
     "exception": false,
     "start_time": "2021-04-04T23:09:09.881029",
     "status": "completed"
    },
    "scrolled": true,
    "tags": []
   },
   "outputs": [],
   "source": [
    "inlier, outlier = working_df[working_df['defects'] == 0], working_df[working_df['defects'] == 1]"
   ]
  },
  {
   "cell_type": "code",
   "execution_count": 16,
   "id": "753c7b03",
   "metadata": {
    "execution": {
     "iopub.execute_input": "2021-04-04T23:09:09.973331Z",
     "iopub.status.busy": "2021-04-04T23:09:09.971179Z",
     "iopub.status.idle": "2021-04-04T23:09:09.976516Z",
     "shell.execute_reply": "2021-04-04T23:09:09.977390Z"
    },
    "papermill": {
     "duration": 0.033483,
     "end_time": "2021-04-04T23:09:09.977626",
     "exception": false,
     "start_time": "2021-04-04T23:09:09.944143",
     "status": "completed"
    },
    "tags": []
   },
   "outputs": [],
   "source": [
    "X_inlier = inlier.copy()\n",
    "y_inlier = X_inlier.pop('defects')\n",
    "X_outlier = outlier.copy()\n",
    "y_outlier = X_outlier.pop('defects')"
   ]
  },
  {
   "cell_type": "code",
   "execution_count": 17,
   "id": "2ba43193",
   "metadata": {
    "execution": {
     "iopub.execute_input": "2021-04-04T23:09:10.036707Z",
     "iopub.status.busy": "2021-04-04T23:09:10.035365Z",
     "iopub.status.idle": "2021-04-04T23:09:10.037941Z",
     "shell.execute_reply": "2021-04-04T23:09:10.038791Z"
    },
    "papermill": {
     "duration": 0.03491,
     "end_time": "2021-04-04T23:09:10.039029",
     "exception": false,
     "start_time": "2021-04-04T23:09:10.004119",
     "status": "completed"
    },
    "tags": []
   },
   "outputs": [],
   "source": [
    "test_size = dataset_config['test_size']\n",
    "random_state = dataset_config['random_state']\n",
    "\n",
    "X_inlier_train, X_inlier_test, y_inlier_train, y_inlier_test = train_test_split(\n",
    "    X_inlier,\n",
    "    y_inlier,\n",
    "    test_size=test_size,\n",
    "    random_state=random_state\n",
    ")"
   ]
  },
  {
   "cell_type": "code",
   "execution_count": 18,
   "id": "0b7582ca",
   "metadata": {
    "execution": {
     "iopub.execute_input": "2021-04-04T23:09:10.104361Z",
     "iopub.status.busy": "2021-04-04T23:09:10.103437Z",
     "iopub.status.idle": "2021-04-04T23:09:10.107004Z",
     "shell.execute_reply": "2021-04-04T23:09:10.106118Z"
    },
    "papermill": {
     "duration": 0.037958,
     "end_time": "2021-04-04T23:09:10.107235",
     "exception": false,
     "start_time": "2021-04-04T23:09:10.069277",
     "status": "completed"
    },
    "tags": []
   },
   "outputs": [],
   "source": [
    "test_outlier_size = dataset_config['test_outlier_size']\n",
    "if test_outlier_size > 0.0:\n",
    "    X_outlier_train, X_outlier_test, y_outlier_train, y_outlier_test = train_test_split(\n",
    "        X_outlier,\n",
    "        y_outlier,\n",
    "        test_size=test_outlier_size,\n",
    "        random_state=random_state\n",
    "    )\n",
    "else:\n",
    "    X_outlier_train, y_outlier_train = pd.DataFrame(columns=X_outlier.columns), pd.Series(dtype='int64')\n",
    "    X_outlier_test, y_outlier_test = X_outlier.copy(), y_outlier.copy()"
   ]
  },
  {
   "cell_type": "code",
   "execution_count": 19,
   "id": "c34363db",
   "metadata": {
    "execution": {
     "iopub.execute_input": "2021-04-04T23:09:10.166821Z",
     "iopub.status.busy": "2021-04-04T23:09:10.165752Z",
     "iopub.status.idle": "2021-04-04T23:09:10.171115Z",
     "shell.execute_reply": "2021-04-04T23:09:10.170095Z"
    },
    "papermill": {
     "duration": 0.038198,
     "end_time": "2021-04-04T23:09:10.171314",
     "exception": false,
     "start_time": "2021-04-04T23:09:10.133116",
     "status": "completed"
    },
    "tags": []
   },
   "outputs": [],
   "source": [
    "X_train, y_train = pd.concat([X_inlier_train, X_outlier_train], ignore_index=True), pd.concat([y_inlier_train, y_outlier_train], ignore_index=True)\n",
    "X_test, y_test = pd.concat([X_inlier_test, X_outlier_test], ignore_index=True), pd.concat([y_inlier_test, y_outlier_test], ignore_index=True)"
   ]
  },
  {
   "cell_type": "markdown",
   "id": "7cde7309",
   "metadata": {
    "papermill": {
     "duration": 0.021904,
     "end_time": "2021-04-04T23:09:10.218137",
     "exception": false,
     "start_time": "2021-04-04T23:09:10.196233",
     "status": "completed"
    },
    "tags": []
   },
   "source": [
    "# Model"
   ]
  },
  {
   "cell_type": "code",
   "execution_count": 20,
   "id": "2b12a415",
   "metadata": {
    "execution": {
     "iopub.execute_input": "2021-04-04T23:09:10.279568Z",
     "iopub.status.busy": "2021-04-04T23:09:10.278268Z",
     "iopub.status.idle": "2021-04-04T23:09:10.282242Z",
     "shell.execute_reply": "2021-04-04T23:09:10.281214Z"
    },
    "papermill": {
     "duration": 0.042188,
     "end_time": "2021-04-04T23:09:10.282460",
     "exception": false,
     "start_time": "2021-04-04T23:09:10.240272",
     "status": "completed"
    },
    "tags": []
   },
   "outputs": [],
   "source": [
    "from math import sqrt\n",
    "\n",
    "\n",
    "class KNNDataDescription:\n",
    "    def __init__(self, k=5, outlier_threshold=1.0):\n",
    "        self.k = k\n",
    "        self.outlier_threshold = outlier_threshold\n",
    "        self.X = []\n",
    "    \n",
    "    def fit(self, X):\n",
    "        self.X = [features.to_list() for index, features in X.iterrows()]\n",
    "\n",
    "    def predict(self, entries):\n",
    "        return [self.predict_entry(features.to_list()) for index, features in entries.iterrows()]\n",
    "    \n",
    "    def predict_entry(self, entry):\n",
    "        kth_neighbor, kth_distance = self.get_kth_neighbor(entry, self.k)\n",
    "        kth_kth_neighbor, kth_kth_distance = self.get_kth_neighbor(kth_neighbor, self.k + 1)\n",
    "\n",
    "        outlier_score = kth_distance / (kth_kth_distance + 0.000001)\n",
    "\n",
    "        return 1 if outlier_score < self.outlier_threshold else -1\n",
    "        \n",
    "    def euclidean_distance(self, features1, features2):\n",
    "        distance = 0.0\n",
    "        for feat1, feat2 in zip(features1, features2):\n",
    "            distance += (feat1 - feat2)**2\n",
    "                \n",
    "        return sqrt(distance)\n",
    "\n",
    "    def get_neighbors(self, entry, k):\n",
    "        distance_to_data_points = [\n",
    "            (data_point, self.euclidean_distance(entry, data_point))\n",
    "            for data_point in self.X\n",
    "        ]\n",
    "        sorted_by_distance = sorted(distance_to_data_points, key=lambda tup: tup[1])\n",
    "        neighbors = sorted_by_distance[:k]\n",
    "        return neighbors\n",
    "\n",
    "    def get_kth_neighbor(self, entry, k):\n",
    "        neighbors = self.get_neighbors(entry, k)\n",
    "        return neighbors[-1]\n"
   ]
  },
  {
   "cell_type": "code",
   "execution_count": 21,
   "id": "1fa9ec1c",
   "metadata": {
    "execution": {
     "iopub.execute_input": "2021-04-04T23:09:10.335085Z",
     "iopub.status.busy": "2021-04-04T23:09:10.334404Z",
     "iopub.status.idle": "2021-04-04T23:09:10.366450Z",
     "shell.execute_reply": "2021-04-04T23:09:10.365372Z"
    },
    "papermill": {
     "duration": 0.059315,
     "end_time": "2021-04-04T23:09:10.366653",
     "exception": false,
     "start_time": "2021-04-04T23:09:10.307338",
     "status": "completed"
    },
    "tags": []
   },
   "outputs": [],
   "source": [
    "from sklearn.svm import OneClassSVM\n",
    "\n",
    "\n",
    "models = {\n",
    "    'oneclasssvm': OneClassSVM,\n",
    "    'knndatadescription': KNNDataDescription,\n",
    "}"
   ]
  },
  {
   "cell_type": "code",
   "execution_count": 22,
   "id": "4d72a0b1",
   "metadata": {
    "execution": {
     "iopub.execute_input": "2021-04-04T23:09:10.424787Z",
     "iopub.status.busy": "2021-04-04T23:09:10.424005Z",
     "iopub.status.idle": "2021-04-04T23:09:10.426194Z",
     "shell.execute_reply": "2021-04-04T23:09:10.427136Z"
    },
    "papermill": {
     "duration": 0.033078,
     "end_time": "2021-04-04T23:09:10.427376",
     "exception": false,
     "start_time": "2021-04-04T23:09:10.394298",
     "status": "completed"
    },
    "scrolled": true,
    "tags": []
   },
   "outputs": [],
   "source": [
    "model_cls = models[model_config['model_type']]\n",
    "model = model_cls(**model_config['hyperparameters'])"
   ]
  },
  {
   "cell_type": "markdown",
   "id": "e00cff3b",
   "metadata": {
    "papermill": {
     "duration": 0.022589,
     "end_time": "2021-04-04T23:09:10.474617",
     "exception": false,
     "start_time": "2021-04-04T23:09:10.452028",
     "status": "completed"
    },
    "tags": []
   },
   "source": [
    "# Fit"
   ]
  },
  {
   "cell_type": "code",
   "execution_count": 23,
   "id": "8b2ded89",
   "metadata": {
    "execution": {
     "iopub.execute_input": "2021-04-04T23:09:10.528481Z",
     "iopub.status.busy": "2021-04-04T23:09:10.527488Z",
     "iopub.status.idle": "2021-04-04T23:09:10.539720Z",
     "shell.execute_reply": "2021-04-04T23:09:10.540562Z"
    },
    "papermill": {
     "duration": 0.043567,
     "end_time": "2021-04-04T23:09:10.540794",
     "exception": false,
     "start_time": "2021-04-04T23:09:10.497227",
     "status": "completed"
    },
    "tags": []
   },
   "outputs": [
    {
     "data": {
      "text/plain": [
       "OneClassSVM()"
      ]
     },
     "execution_count": 23,
     "metadata": {},
     "output_type": "execute_result"
    }
   ],
   "source": [
    "model.fit(X_train)"
   ]
  },
  {
   "cell_type": "markdown",
   "id": "f99999f7",
   "metadata": {
    "papermill": {
     "duration": 0.022802,
     "end_time": "2021-04-04T23:09:10.593703",
     "exception": false,
     "start_time": "2021-04-04T23:09:10.570901",
     "status": "completed"
    },
    "tags": []
   },
   "source": [
    "# Predict"
   ]
  },
  {
   "cell_type": "code",
   "execution_count": 24,
   "id": "6536fbf7",
   "metadata": {
    "execution": {
     "iopub.execute_input": "2021-04-04T23:09:10.648119Z",
     "iopub.status.busy": "2021-04-04T23:09:10.647470Z",
     "iopub.status.idle": "2021-04-04T23:09:10.653377Z",
     "shell.execute_reply": "2021-04-04T23:09:10.652605Z"
    },
    "papermill": {
     "duration": 0.036571,
     "end_time": "2021-04-04T23:09:10.653548",
     "exception": false,
     "start_time": "2021-04-04T23:09:10.616977",
     "status": "completed"
    },
    "tags": []
   },
   "outputs": [],
   "source": [
    "predictions = model.predict(X_test)"
   ]
  },
  {
   "cell_type": "markdown",
   "id": "aa1c9881",
   "metadata": {
    "papermill": {
     "duration": 0.023562,
     "end_time": "2021-04-04T23:09:10.705448",
     "exception": false,
     "start_time": "2021-04-04T23:09:10.681886",
     "status": "completed"
    },
    "tags": []
   },
   "source": [
    "# Evaluate"
   ]
  },
  {
   "cell_type": "code",
   "execution_count": 25,
   "id": "894f0f04",
   "metadata": {
    "execution": {
     "iopub.execute_input": "2021-04-04T23:09:10.765041Z",
     "iopub.status.busy": "2021-04-04T23:09:10.764126Z",
     "iopub.status.idle": "2021-04-04T23:09:10.766438Z",
     "shell.execute_reply": "2021-04-04T23:09:10.767207Z"
    },
    "papermill": {
     "duration": 0.038708,
     "end_time": "2021-04-04T23:09:10.767394",
     "exception": false,
     "start_time": "2021-04-04T23:09:10.728686",
     "status": "completed"
    },
    "tags": []
   },
   "outputs": [],
   "source": [
    "from sklearn.metrics import f1_score"
   ]
  },
  {
   "cell_type": "code",
   "execution_count": 26,
   "id": "211744d3",
   "metadata": {
    "execution": {
     "iopub.execute_input": "2021-04-04T23:09:10.825534Z",
     "iopub.status.busy": "2021-04-04T23:09:10.824882Z",
     "iopub.status.idle": "2021-04-04T23:09:10.827593Z",
     "shell.execute_reply": "2021-04-04T23:09:10.828425Z"
    },
    "papermill": {
     "duration": 0.03481,
     "end_time": "2021-04-04T23:09:10.828653",
     "exception": false,
     "start_time": "2021-04-04T23:09:10.793843",
     "status": "completed"
    },
    "tags": []
   },
   "outputs": [],
   "source": [
    "y_test = y_test.replace([0, 1], [1, -1])"
   ]
  },
  {
   "cell_type": "code",
   "execution_count": 27,
   "id": "d68a9204",
   "metadata": {
    "execution": {
     "iopub.execute_input": "2021-04-04T23:09:10.893574Z",
     "iopub.status.busy": "2021-04-04T23:09:10.892183Z",
     "iopub.status.idle": "2021-04-04T23:09:10.896202Z",
     "shell.execute_reply": "2021-04-04T23:09:10.895404Z"
    },
    "papermill": {
     "duration": 0.037611,
     "end_time": "2021-04-04T23:09:10.896379",
     "exception": false,
     "start_time": "2021-04-04T23:09:10.858768",
     "status": "completed"
    },
    "tags": []
   },
   "outputs": [],
   "source": [
    "def evaluate(truths, predictions, pos_label, neg_label):\n",
    "    TP = 0\n",
    "    FP = 0\n",
    "    TN = 0\n",
    "    FN = 0\n",
    "\n",
    "    for truth, pred in zip(truths, predictions): \n",
    "        if truth == pred == pos_label:\n",
    "           TP += 1\n",
    "        elif pred == pos_label and truth == neg_label:\n",
    "           FP += 1\n",
    "        elif truth == pred == neg_label:\n",
    "           TN += 1\n",
    "        elif pred == neg_label and truth == pos_label:\n",
    "           FN += 1\n",
    "\n",
    "    precision = TP / (TP + FP)\n",
    "    sensitivity = TP / (TP + FN)\n",
    "    \n",
    "    return {\n",
    "        'true_pos': TP,\n",
    "        'false_pos': FP,\n",
    "        'false_neg': FN,\n",
    "        'true_neg': TN,\n",
    "        'precision': precision,\n",
    "        'sensitivity': sensitivity,\n",
    "        'f1': (2 * (precision * sensitivity)) / (precision + sensitivity)\n",
    "    }\n",
    "\n",
    "score = evaluate(y_test, predictions, pos_label=-1, neg_label=1)"
   ]
  },
  {
   "cell_type": "markdown",
   "id": "93596516",
   "metadata": {
    "papermill": {
     "duration": 0.02315,
     "end_time": "2021-04-04T23:09:10.952464",
     "exception": false,
     "start_time": "2021-04-04T23:09:10.929314",
     "status": "completed"
    },
    "tags": []
   },
   "source": [
    "# Report"
   ]
  },
  {
   "cell_type": "code",
   "execution_count": 28,
   "id": "bea5fba1",
   "metadata": {
    "execution": {
     "iopub.execute_input": "2021-04-04T23:09:11.007975Z",
     "iopub.status.busy": "2021-04-04T23:09:11.006855Z",
     "iopub.status.idle": "2021-04-04T23:09:11.010031Z",
     "shell.execute_reply": "2021-04-04T23:09:11.010941Z"
    },
    "papermill": {
     "duration": 0.034528,
     "end_time": "2021-04-04T23:09:11.011198",
     "exception": false,
     "start_time": "2021-04-04T23:09:10.976670",
     "status": "completed"
    },
    "tags": []
   },
   "outputs": [],
   "source": [
    "import csv\n",
    "\n",
    "\n",
    "dataset_config_name = DATASET_CONFIG_PATH.split('/')[-1].split('.')[0]\n",
    "model_config_name = MODEL_CONFIG_PATH.split('/')[-1].split('.')[0]\n",
    "configuration = f\"dataset_{dataset_config_name}-model_{model_config_name}\"\n",
    "\n",
    "with open('results.csv', 'a') as f:\n",
    "    report = dict({'configuration': configuration}, **score)\n",
    "    writer = csv.DictWriter(f, report.keys())\n",
    "    writer.writerow(report)"
   ]
  }
 ],
 "metadata": {
  "celltoolbar": "Tags",
  "kernelspec": {
   "display_name": "Python 3",
   "language": "python",
   "name": "python3"
  },
  "language_info": {
   "codemirror_mode": {
    "name": "ipython",
    "version": 3
   },
   "file_extension": ".py",
   "mimetype": "text/x-python",
   "name": "python",
   "nbconvert_exporter": "python",
   "pygments_lexer": "ipython3",
   "version": "3.9.1"
  },
  "papermill": {
   "default_parameters": {},
   "duration": 5.014901,
   "end_time": "2021-04-04T23:09:11.648195",
   "environment_variables": {},
   "exception": null,
   "input_path": "main.ipynb",
   "output_path": "runs/dataset_000090-model_000004.ipynb",
   "parameters": {
    "DATASET_CONFIG_PATH": "config/dataset/000090.json",
    "MODEL_CONFIG_PATH": "config/model/000004.json",
    "PROFILE_REPORTING": false
   },
   "start_time": "2021-04-04T23:09:06.633294",
   "version": "2.3.3"
  }
 },
 "nbformat": 4,
 "nbformat_minor": 5
}