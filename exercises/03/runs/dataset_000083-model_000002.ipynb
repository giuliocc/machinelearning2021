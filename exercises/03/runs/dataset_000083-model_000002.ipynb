{
 "cells": [
  {
   "cell_type": "markdown",
   "id": "51c71c25",
   "metadata": {
    "papermill": {
     "duration": 0.026421,
     "end_time": "2021-04-04T23:06:13.116541",
     "exception": false,
     "start_time": "2021-04-04T23:06:13.090120",
     "status": "completed"
    },
    "tags": []
   },
   "source": [
    "# Parametrizing"
   ]
  },
  {
   "cell_type": "code",
   "execution_count": 1,
   "id": "3b136394",
   "metadata": {
    "execution": {
     "iopub.execute_input": "2021-04-04T23:06:13.170306Z",
     "iopub.status.busy": "2021-04-04T23:06:13.169425Z",
     "iopub.status.idle": "2021-04-04T23:06:13.172202Z",
     "shell.execute_reply": "2021-04-04T23:06:13.173134Z"
    },
    "papermill": {
     "duration": 0.037408,
     "end_time": "2021-04-04T23:06:13.173478",
     "exception": false,
     "start_time": "2021-04-04T23:06:13.136070",
     "status": "completed"
    },
    "tags": [
     "parameters"
    ]
   },
   "outputs": [],
   "source": [
    "DATASET_CONFIG_PATH = 'config/dataset/kc1_001.json'\n",
    "MODEL_CONFIG_PATH = 'config/model/knndd_001.json'\n",
    "PROFILE_REPORTING = False"
   ]
  },
  {
   "cell_type": "code",
   "execution_count": 2,
   "id": "02a52599",
   "metadata": {
    "execution": {
     "iopub.execute_input": "2021-04-04T23:06:13.224141Z",
     "iopub.status.busy": "2021-04-04T23:06:13.223298Z",
     "iopub.status.idle": "2021-04-04T23:06:13.225539Z",
     "shell.execute_reply": "2021-04-04T23:06:13.226071Z"
    },
    "papermill": {
     "duration": 0.026483,
     "end_time": "2021-04-04T23:06:13.226266",
     "exception": false,
     "start_time": "2021-04-04T23:06:13.199783",
     "status": "completed"
    },
    "tags": [
     "injected-parameters"
    ]
   },
   "outputs": [],
   "source": [
    "# Parameters\n",
    "DATASET_CONFIG_PATH = \"config/dataset/000083.json\"\n",
    "MODEL_CONFIG_PATH = \"config/model/000002.json\"\n",
    "PROFILE_REPORTING = False\n"
   ]
  },
  {
   "cell_type": "code",
   "execution_count": 3,
   "id": "b80f2a10",
   "metadata": {
    "execution": {
     "iopub.execute_input": "2021-04-04T23:06:13.273404Z",
     "iopub.status.busy": "2021-04-04T23:06:13.272181Z",
     "iopub.status.idle": "2021-04-04T23:06:13.275463Z",
     "shell.execute_reply": "2021-04-04T23:06:13.276228Z"
    },
    "papermill": {
     "duration": 0.029948,
     "end_time": "2021-04-04T23:06:13.276524",
     "exception": false,
     "start_time": "2021-04-04T23:06:13.246576",
     "status": "completed"
    },
    "tags": []
   },
   "outputs": [],
   "source": [
    "import json\n",
    "\n",
    "\n",
    "with open(DATASET_CONFIG_PATH) as f:\n",
    "    dataset_config = json.load(f)\n",
    "\n",
    "with open(MODEL_CONFIG_PATH) as f:\n",
    "    model_config = json.load(f)"
   ]
  },
  {
   "cell_type": "markdown",
   "id": "9a4b0e2d",
   "metadata": {
    "papermill": {
     "duration": 0.019751,
     "end_time": "2021-04-04T23:06:13.321570",
     "exception": false,
     "start_time": "2021-04-04T23:06:13.301819",
     "status": "completed"
    },
    "tags": []
   },
   "source": [
    "# Profiling"
   ]
  },
  {
   "cell_type": "code",
   "execution_count": 4,
   "id": "a3e0289b",
   "metadata": {
    "execution": {
     "iopub.execute_input": "2021-04-04T23:06:13.370068Z",
     "iopub.status.busy": "2021-04-04T23:06:13.369089Z",
     "iopub.status.idle": "2021-04-04T23:06:14.646634Z",
     "shell.execute_reply": "2021-04-04T23:06:14.647518Z"
    },
    "papermill": {
     "duration": 1.306655,
     "end_time": "2021-04-04T23:06:14.647754",
     "exception": false,
     "start_time": "2021-04-04T23:06:13.341099",
     "status": "completed"
    },
    "tags": []
   },
   "outputs": [],
   "source": [
    "import pandas as pd\n",
    "from pandas_profiling import ProfileReport"
   ]
  },
  {
   "cell_type": "code",
   "execution_count": 5,
   "id": "ee6c0666",
   "metadata": {
    "execution": {
     "iopub.execute_input": "2021-04-04T23:06:14.698704Z",
     "iopub.status.busy": "2021-04-04T23:06:14.698063Z",
     "iopub.status.idle": "2021-04-04T23:06:14.710697Z",
     "shell.execute_reply": "2021-04-04T23:06:14.711426Z"
    },
    "papermill": {
     "duration": 0.038287,
     "end_time": "2021-04-04T23:06:14.711633",
     "exception": false,
     "start_time": "2021-04-04T23:06:14.673346",
     "status": "completed"
    },
    "tags": []
   },
   "outputs": [],
   "source": [
    "df = pd.read_csv(dataset_config['dataset_path'])"
   ]
  },
  {
   "cell_type": "code",
   "execution_count": 6,
   "id": "7eca6c4a",
   "metadata": {
    "execution": {
     "iopub.execute_input": "2021-04-04T23:06:14.781195Z",
     "iopub.status.busy": "2021-04-04T23:06:14.780569Z",
     "iopub.status.idle": "2021-04-04T23:06:14.783768Z",
     "shell.execute_reply": "2021-04-04T23:06:14.783243Z"
    },
    "papermill": {
     "duration": 0.048345,
     "end_time": "2021-04-04T23:06:14.783884",
     "exception": false,
     "start_time": "2021-04-04T23:06:14.735539",
     "status": "completed"
    },
    "tags": []
   },
   "outputs": [
    {
     "name": "stdout",
     "output_type": "stream",
     "text": [
      "<class 'pandas.core.frame.DataFrame'>\n",
      "RangeIndex: 498 entries, 0 to 497\n",
      "Data columns (total 23 columns):\n",
      " #   Column             Non-Null Count  Dtype  \n",
      "---  ------             --------------  -----  \n",
      " 0   id                 498 non-null    int64  \n",
      " 1   loc                498 non-null    float64\n",
      " 2   v(g)               498 non-null    float64\n",
      " 3   ev(g)              498 non-null    float64\n",
      " 4   iv(g)              498 non-null    float64\n",
      " 5   n                  498 non-null    float64\n",
      " 6   v                  498 non-null    float64\n",
      " 7   l                  498 non-null    float64\n",
      " 8   d                  498 non-null    float64\n",
      " 9   i                  498 non-null    float64\n",
      " 10  e                  498 non-null    float64\n",
      " 11  b                  498 non-null    float64\n",
      " 12  t                  498 non-null    float64\n",
      " 13  lOCode             498 non-null    int64  \n",
      " 14  lOComment          498 non-null    int64  \n",
      " 15  lOBlank            498 non-null    int64  \n",
      " 16  locCodeAndComment  498 non-null    int64  \n",
      " 17  uniq_Op            498 non-null    float64\n",
      " 18  uniq_Opnd          498 non-null    float64\n",
      " 19  total_Op           498 non-null    float64\n",
      " 20  total_Opnd         498 non-null    float64\n",
      " 21  branchCount        498 non-null    float64\n",
      " 22  defects            498 non-null    bool   \n",
      "dtypes: bool(1), float64(17), int64(5)\n",
      "memory usage: 86.2 KB\n"
     ]
    }
   ],
   "source": [
    "df.info()"
   ]
  },
  {
   "cell_type": "code",
   "execution_count": 7,
   "id": "3638e5e8",
   "metadata": {
    "execution": {
     "iopub.execute_input": "2021-04-04T23:06:14.835381Z",
     "iopub.status.busy": "2021-04-04T23:06:14.834349Z",
     "iopub.status.idle": "2021-04-04T23:06:14.858960Z",
     "shell.execute_reply": "2021-04-04T23:06:14.859465Z"
    },
    "papermill": {
     "duration": 0.054183,
     "end_time": "2021-04-04T23:06:14.859615",
     "exception": false,
     "start_time": "2021-04-04T23:06:14.805432",
     "status": "completed"
    },
    "tags": []
   },
   "outputs": [
    {
     "data": {
      "text/html": [
       "<div>\n",
       "<style scoped>\n",
       "    .dataframe tbody tr th:only-of-type {\n",
       "        vertical-align: middle;\n",
       "    }\n",
       "\n",
       "    .dataframe tbody tr th {\n",
       "        vertical-align: top;\n",
       "    }\n",
       "\n",
       "    .dataframe thead th {\n",
       "        text-align: right;\n",
       "    }\n",
       "</style>\n",
       "<table border=\"1\" class=\"dataframe\">\n",
       "  <thead>\n",
       "    <tr style=\"text-align: right;\">\n",
       "      <th></th>\n",
       "      <th>id</th>\n",
       "      <th>loc</th>\n",
       "      <th>v(g)</th>\n",
       "      <th>ev(g)</th>\n",
       "      <th>iv(g)</th>\n",
       "      <th>n</th>\n",
       "      <th>v</th>\n",
       "      <th>l</th>\n",
       "      <th>d</th>\n",
       "      <th>i</th>\n",
       "      <th>...</th>\n",
       "      <th>lOCode</th>\n",
       "      <th>lOComment</th>\n",
       "      <th>lOBlank</th>\n",
       "      <th>locCodeAndComment</th>\n",
       "      <th>uniq_Op</th>\n",
       "      <th>uniq_Opnd</th>\n",
       "      <th>total_Op</th>\n",
       "      <th>total_Opnd</th>\n",
       "      <th>branchCount</th>\n",
       "      <th>defects</th>\n",
       "    </tr>\n",
       "  </thead>\n",
       "  <tbody>\n",
       "    <tr>\n",
       "      <th>0</th>\n",
       "      <td>1</td>\n",
       "      <td>1.1</td>\n",
       "      <td>1.4</td>\n",
       "      <td>1.4</td>\n",
       "      <td>1.4</td>\n",
       "      <td>1.3</td>\n",
       "      <td>1.30</td>\n",
       "      <td>1.30</td>\n",
       "      <td>1.30</td>\n",
       "      <td>1.30</td>\n",
       "      <td>...</td>\n",
       "      <td>2</td>\n",
       "      <td>2</td>\n",
       "      <td>2</td>\n",
       "      <td>2</td>\n",
       "      <td>1.2</td>\n",
       "      <td>1.2</td>\n",
       "      <td>1.2</td>\n",
       "      <td>1.2</td>\n",
       "      <td>1.4</td>\n",
       "      <td>False</td>\n",
       "    </tr>\n",
       "    <tr>\n",
       "      <th>1</th>\n",
       "      <td>2</td>\n",
       "      <td>1.0</td>\n",
       "      <td>1.0</td>\n",
       "      <td>1.0</td>\n",
       "      <td>1.0</td>\n",
       "      <td>1.0</td>\n",
       "      <td>1.00</td>\n",
       "      <td>1.00</td>\n",
       "      <td>1.00</td>\n",
       "      <td>1.00</td>\n",
       "      <td>...</td>\n",
       "      <td>1</td>\n",
       "      <td>1</td>\n",
       "      <td>1</td>\n",
       "      <td>1</td>\n",
       "      <td>1.0</td>\n",
       "      <td>1.0</td>\n",
       "      <td>1.0</td>\n",
       "      <td>1.0</td>\n",
       "      <td>1.0</td>\n",
       "      <td>True</td>\n",
       "    </tr>\n",
       "    <tr>\n",
       "      <th>2</th>\n",
       "      <td>3</td>\n",
       "      <td>24.0</td>\n",
       "      <td>5.0</td>\n",
       "      <td>1.0</td>\n",
       "      <td>3.0</td>\n",
       "      <td>63.0</td>\n",
       "      <td>309.13</td>\n",
       "      <td>0.11</td>\n",
       "      <td>9.50</td>\n",
       "      <td>32.54</td>\n",
       "      <td>...</td>\n",
       "      <td>1</td>\n",
       "      <td>0</td>\n",
       "      <td>6</td>\n",
       "      <td>0</td>\n",
       "      <td>15.0</td>\n",
       "      <td>15.0</td>\n",
       "      <td>44.0</td>\n",
       "      <td>19.0</td>\n",
       "      <td>9.0</td>\n",
       "      <td>False</td>\n",
       "    </tr>\n",
       "    <tr>\n",
       "      <th>3</th>\n",
       "      <td>4</td>\n",
       "      <td>20.0</td>\n",
       "      <td>4.0</td>\n",
       "      <td>4.0</td>\n",
       "      <td>2.0</td>\n",
       "      <td>47.0</td>\n",
       "      <td>215.49</td>\n",
       "      <td>0.06</td>\n",
       "      <td>16.00</td>\n",
       "      <td>13.47</td>\n",
       "      <td>...</td>\n",
       "      <td>0</td>\n",
       "      <td>0</td>\n",
       "      <td>3</td>\n",
       "      <td>0</td>\n",
       "      <td>16.0</td>\n",
       "      <td>8.0</td>\n",
       "      <td>31.0</td>\n",
       "      <td>16.0</td>\n",
       "      <td>7.0</td>\n",
       "      <td>False</td>\n",
       "    </tr>\n",
       "    <tr>\n",
       "      <th>4</th>\n",
       "      <td>5</td>\n",
       "      <td>24.0</td>\n",
       "      <td>6.0</td>\n",
       "      <td>6.0</td>\n",
       "      <td>2.0</td>\n",
       "      <td>72.0</td>\n",
       "      <td>346.13</td>\n",
       "      <td>0.06</td>\n",
       "      <td>17.33</td>\n",
       "      <td>19.97</td>\n",
       "      <td>...</td>\n",
       "      <td>0</td>\n",
       "      <td>0</td>\n",
       "      <td>3</td>\n",
       "      <td>0</td>\n",
       "      <td>16.0</td>\n",
       "      <td>12.0</td>\n",
       "      <td>46.0</td>\n",
       "      <td>26.0</td>\n",
       "      <td>11.0</td>\n",
       "      <td>False</td>\n",
       "    </tr>\n",
       "  </tbody>\n",
       "</table>\n",
       "<p>5 rows × 23 columns</p>\n",
       "</div>"
      ],
      "text/plain": [
       "   id   loc  v(g)  ev(g)  iv(g)     n       v     l      d      i  ...  \\\n",
       "0   1   1.1   1.4    1.4    1.4   1.3    1.30  1.30   1.30   1.30  ...   \n",
       "1   2   1.0   1.0    1.0    1.0   1.0    1.00  1.00   1.00   1.00  ...   \n",
       "2   3  24.0   5.0    1.0    3.0  63.0  309.13  0.11   9.50  32.54  ...   \n",
       "3   4  20.0   4.0    4.0    2.0  47.0  215.49  0.06  16.00  13.47  ...   \n",
       "4   5  24.0   6.0    6.0    2.0  72.0  346.13  0.06  17.33  19.97  ...   \n",
       "\n",
       "   lOCode  lOComment  lOBlank  locCodeAndComment  uniq_Op  uniq_Opnd  \\\n",
       "0       2          2        2                  2      1.2        1.2   \n",
       "1       1          1        1                  1      1.0        1.0   \n",
       "2       1          0        6                  0     15.0       15.0   \n",
       "3       0          0        3                  0     16.0        8.0   \n",
       "4       0          0        3                  0     16.0       12.0   \n",
       "\n",
       "   total_Op  total_Opnd  branchCount  defects  \n",
       "0       1.2         1.2          1.4    False  \n",
       "1       1.0         1.0          1.0     True  \n",
       "2      44.0        19.0          9.0    False  \n",
       "3      31.0        16.0          7.0    False  \n",
       "4      46.0        26.0         11.0    False  \n",
       "\n",
       "[5 rows x 23 columns]"
      ]
     },
     "execution_count": 7,
     "metadata": {},
     "output_type": "execute_result"
    }
   ],
   "source": [
    "df.head()"
   ]
  },
  {
   "cell_type": "code",
   "execution_count": 8,
   "id": "733e95eb",
   "metadata": {
    "execution": {
     "iopub.execute_input": "2021-04-04T23:06:14.907437Z",
     "iopub.status.busy": "2021-04-04T23:06:14.906655Z",
     "iopub.status.idle": "2021-04-04T23:06:14.909876Z",
     "shell.execute_reply": "2021-04-04T23:06:14.909192Z"
    },
    "papermill": {
     "duration": 0.028551,
     "end_time": "2021-04-04T23:06:14.910006",
     "exception": false,
     "start_time": "2021-04-04T23:06:14.881455",
     "status": "completed"
    },
    "tags": []
   },
   "outputs": [],
   "source": [
    "del df['id']"
   ]
  },
  {
   "cell_type": "code",
   "execution_count": 9,
   "id": "6ff6f5b0",
   "metadata": {
    "execution": {
     "iopub.execute_input": "2021-04-04T23:06:14.958498Z",
     "iopub.status.busy": "2021-04-04T23:06:14.957707Z",
     "iopub.status.idle": "2021-04-04T23:06:14.959468Z",
     "shell.execute_reply": "2021-04-04T23:06:14.960038Z"
    },
    "papermill": {
     "duration": 0.027343,
     "end_time": "2021-04-04T23:06:14.960186",
     "exception": false,
     "start_time": "2021-04-04T23:06:14.932843",
     "status": "completed"
    },
    "tags": []
   },
   "outputs": [],
   "source": [
    "if PROFILE_REPORTING:\n",
    "    ProfileReport(df).to_widgets()"
   ]
  },
  {
   "cell_type": "markdown",
   "id": "1deaf3f0",
   "metadata": {
    "papermill": {
     "duration": 0.021117,
     "end_time": "2021-04-04T23:06:15.003165",
     "exception": false,
     "start_time": "2021-04-04T23:06:14.982048",
     "status": "completed"
    },
    "tags": []
   },
   "source": [
    "# Preprocess"
   ]
  },
  {
   "cell_type": "code",
   "execution_count": 10,
   "id": "1513e563",
   "metadata": {
    "execution": {
     "iopub.execute_input": "2021-04-04T23:06:15.050996Z",
     "iopub.status.busy": "2021-04-04T23:06:15.049933Z",
     "iopub.status.idle": "2021-04-04T23:06:15.052707Z",
     "shell.execute_reply": "2021-04-04T23:06:15.052110Z"
    },
    "papermill": {
     "duration": 0.028317,
     "end_time": "2021-04-04T23:06:15.052828",
     "exception": false,
     "start_time": "2021-04-04T23:06:15.024511",
     "status": "completed"
    },
    "tags": []
   },
   "outputs": [],
   "source": [
    "working_df = df.copy()"
   ]
  },
  {
   "cell_type": "code",
   "execution_count": 11,
   "id": "3b26d675",
   "metadata": {
    "execution": {
     "iopub.execute_input": "2021-04-04T23:06:15.104574Z",
     "iopub.status.busy": "2021-04-04T23:06:15.103789Z",
     "iopub.status.idle": "2021-04-04T23:06:15.106256Z",
     "shell.execute_reply": "2021-04-04T23:06:15.105718Z"
    },
    "papermill": {
     "duration": 0.030803,
     "end_time": "2021-04-04T23:06:15.106427",
     "exception": false,
     "start_time": "2021-04-04T23:06:15.075624",
     "status": "completed"
    },
    "tags": []
   },
   "outputs": [],
   "source": [
    "working_df['defects'] = working_df['defects'].replace([False, True], [0, 1])"
   ]
  },
  {
   "cell_type": "code",
   "execution_count": 12,
   "id": "eb48604f",
   "metadata": {
    "execution": {
     "iopub.execute_input": "2021-04-04T23:06:15.158316Z",
     "iopub.status.busy": "2021-04-04T23:06:15.157439Z",
     "iopub.status.idle": "2021-04-04T23:06:15.160050Z",
     "shell.execute_reply": "2021-04-04T23:06:15.160875Z"
    },
    "papermill": {
     "duration": 0.030036,
     "end_time": "2021-04-04T23:06:15.161107",
     "exception": false,
     "start_time": "2021-04-04T23:06:15.131071",
     "status": "completed"
    },
    "tags": []
   },
   "outputs": [],
   "source": [
    "for col in dataset_config['delete_columns']:\n",
    "    del working_df[col]"
   ]
  },
  {
   "cell_type": "code",
   "execution_count": 13,
   "id": "9a17bc29",
   "metadata": {
    "execution": {
     "iopub.execute_input": "2021-04-04T23:06:15.220123Z",
     "iopub.status.busy": "2021-04-04T23:06:15.219015Z",
     "iopub.status.idle": "2021-04-04T23:06:15.230556Z",
     "shell.execute_reply": "2021-04-04T23:06:15.231118Z"
    },
    "papermill": {
     "duration": 0.040747,
     "end_time": "2021-04-04T23:06:15.231282",
     "exception": false,
     "start_time": "2021-04-04T23:06:15.190535",
     "status": "completed"
    },
    "tags": []
   },
   "outputs": [],
   "source": [
    "working_df = working_df.drop_duplicates()"
   ]
  },
  {
   "cell_type": "markdown",
   "id": "a4d52ca6",
   "metadata": {
    "papermill": {
     "duration": 0.022139,
     "end_time": "2021-04-04T23:06:15.279573",
     "exception": false,
     "start_time": "2021-04-04T23:06:15.257434",
     "status": "completed"
    },
    "tags": []
   },
   "source": [
    "# Split"
   ]
  },
  {
   "cell_type": "code",
   "execution_count": 14,
   "id": "3e9ee4b5",
   "metadata": {
    "execution": {
     "iopub.execute_input": "2021-04-04T23:06:15.329203Z",
     "iopub.status.busy": "2021-04-04T23:06:15.328302Z",
     "iopub.status.idle": "2021-04-04T23:06:15.365396Z",
     "shell.execute_reply": "2021-04-04T23:06:15.366097Z"
    },
    "papermill": {
     "duration": 0.064247,
     "end_time": "2021-04-04T23:06:15.366297",
     "exception": false,
     "start_time": "2021-04-04T23:06:15.302050",
     "status": "completed"
    },
    "tags": []
   },
   "outputs": [],
   "source": [
    "from sklearn.model_selection import train_test_split"
   ]
  },
  {
   "cell_type": "code",
   "execution_count": 15,
   "id": "274004ce",
   "metadata": {
    "execution": {
     "iopub.execute_input": "2021-04-04T23:06:15.422154Z",
     "iopub.status.busy": "2021-04-04T23:06:15.421457Z",
     "iopub.status.idle": "2021-04-04T23:06:15.427834Z",
     "shell.execute_reply": "2021-04-04T23:06:15.427202Z"
    },
    "papermill": {
     "duration": 0.034324,
     "end_time": "2021-04-04T23:06:15.427960",
     "exception": false,
     "start_time": "2021-04-04T23:06:15.393636",
     "status": "completed"
    },
    "scrolled": true,
    "tags": []
   },
   "outputs": [],
   "source": [
    "inlier, outlier = working_df[working_df['defects'] == 0], working_df[working_df['defects'] == 1]"
   ]
  },
  {
   "cell_type": "code",
   "execution_count": 16,
   "id": "753c7b03",
   "metadata": {
    "execution": {
     "iopub.execute_input": "2021-04-04T23:06:15.483987Z",
     "iopub.status.busy": "2021-04-04T23:06:15.483216Z",
     "iopub.status.idle": "2021-04-04T23:06:15.485533Z",
     "shell.execute_reply": "2021-04-04T23:06:15.486441Z"
    },
    "papermill": {
     "duration": 0.033818,
     "end_time": "2021-04-04T23:06:15.486660",
     "exception": false,
     "start_time": "2021-04-04T23:06:15.452842",
     "status": "completed"
    },
    "tags": []
   },
   "outputs": [],
   "source": [
    "X_inlier = inlier.copy()\n",
    "y_inlier = X_inlier.pop('defects')\n",
    "X_outlier = outlier.copy()\n",
    "y_outlier = X_outlier.pop('defects')"
   ]
  },
  {
   "cell_type": "code",
   "execution_count": 17,
   "id": "2ba43193",
   "metadata": {
    "execution": {
     "iopub.execute_input": "2021-04-04T23:06:15.544018Z",
     "iopub.status.busy": "2021-04-04T23:06:15.543255Z",
     "iopub.status.idle": "2021-04-04T23:06:15.545924Z",
     "shell.execute_reply": "2021-04-04T23:06:15.546644Z"
    },
    "papermill": {
     "duration": 0.034422,
     "end_time": "2021-04-04T23:06:15.546932",
     "exception": false,
     "start_time": "2021-04-04T23:06:15.512510",
     "status": "completed"
    },
    "tags": []
   },
   "outputs": [],
   "source": [
    "test_size = dataset_config['test_size']\n",
    "random_state = dataset_config['random_state']\n",
    "\n",
    "X_inlier_train, X_inlier_test, y_inlier_train, y_inlier_test = train_test_split(\n",
    "    X_inlier,\n",
    "    y_inlier,\n",
    "    test_size=test_size,\n",
    "    random_state=random_state\n",
    ")"
   ]
  },
  {
   "cell_type": "code",
   "execution_count": 18,
   "id": "0b7582ca",
   "metadata": {
    "execution": {
     "iopub.execute_input": "2021-04-04T23:06:15.608865Z",
     "iopub.status.busy": "2021-04-04T23:06:15.607926Z",
     "iopub.status.idle": "2021-04-04T23:06:15.610263Z",
     "shell.execute_reply": "2021-04-04T23:06:15.610823Z"
    },
    "papermill": {
     "duration": 0.036924,
     "end_time": "2021-04-04T23:06:15.610987",
     "exception": false,
     "start_time": "2021-04-04T23:06:15.574063",
     "status": "completed"
    },
    "tags": []
   },
   "outputs": [],
   "source": [
    "test_outlier_size = dataset_config['test_outlier_size']\n",
    "if test_outlier_size > 0.0:\n",
    "    X_outlier_train, X_outlier_test, y_outlier_train, y_outlier_test = train_test_split(\n",
    "        X_outlier,\n",
    "        y_outlier,\n",
    "        test_size=test_outlier_size,\n",
    "        random_state=random_state\n",
    "    )\n",
    "else:\n",
    "    X_outlier_train, y_outlier_train = pd.DataFrame(columns=X_outlier.columns), pd.Series(dtype='int64')\n",
    "    X_outlier_test, y_outlier_test = X_outlier.copy(), y_outlier.copy()"
   ]
  },
  {
   "cell_type": "code",
   "execution_count": 19,
   "id": "c34363db",
   "metadata": {
    "execution": {
     "iopub.execute_input": "2021-04-04T23:06:15.666787Z",
     "iopub.status.busy": "2021-04-04T23:06:15.665808Z",
     "iopub.status.idle": "2021-04-04T23:06:15.669971Z",
     "shell.execute_reply": "2021-04-04T23:06:15.670689Z"
    },
    "papermill": {
     "duration": 0.036745,
     "end_time": "2021-04-04T23:06:15.670894",
     "exception": false,
     "start_time": "2021-04-04T23:06:15.634149",
     "status": "completed"
    },
    "tags": []
   },
   "outputs": [],
   "source": [
    "X_train, y_train = pd.concat([X_inlier_train, X_outlier_train], ignore_index=True), pd.concat([y_inlier_train, y_outlier_train], ignore_index=True)\n",
    "X_test, y_test = pd.concat([X_inlier_test, X_outlier_test], ignore_index=True), pd.concat([y_inlier_test, y_outlier_test], ignore_index=True)"
   ]
  },
  {
   "cell_type": "markdown",
   "id": "7cde7309",
   "metadata": {
    "papermill": {
     "duration": 0.022456,
     "end_time": "2021-04-04T23:06:15.718330",
     "exception": false,
     "start_time": "2021-04-04T23:06:15.695874",
     "status": "completed"
    },
    "tags": []
   },
   "source": [
    "# Model"
   ]
  },
  {
   "cell_type": "code",
   "execution_count": 20,
   "id": "2b12a415",
   "metadata": {
    "execution": {
     "iopub.execute_input": "2021-04-04T23:06:15.784994Z",
     "iopub.status.busy": "2021-04-04T23:06:15.784160Z",
     "iopub.status.idle": "2021-04-04T23:06:15.786836Z",
     "shell.execute_reply": "2021-04-04T23:06:15.787646Z"
    },
    "papermill": {
     "duration": 0.047353,
     "end_time": "2021-04-04T23:06:15.787874",
     "exception": false,
     "start_time": "2021-04-04T23:06:15.740521",
     "status": "completed"
    },
    "tags": []
   },
   "outputs": [],
   "source": [
    "from math import sqrt\n",
    "\n",
    "\n",
    "class KNNDataDescription:\n",
    "    def __init__(self, k=5, outlier_threshold=1.0):\n",
    "        self.k = k\n",
    "        self.outlier_threshold = outlier_threshold\n",
    "        self.X = []\n",
    "    \n",
    "    def fit(self, X):\n",
    "        self.X = [features.to_list() for index, features in X.iterrows()]\n",
    "\n",
    "    def predict(self, entries):\n",
    "        return [self.predict_entry(features.to_list()) for index, features in entries.iterrows()]\n",
    "    \n",
    "    def predict_entry(self, entry):\n",
    "        kth_neighbor, kth_distance = self.get_kth_neighbor(entry, self.k)\n",
    "        kth_kth_neighbor, kth_kth_distance = self.get_kth_neighbor(kth_neighbor, self.k + 1)\n",
    "\n",
    "        outlier_score = kth_distance / (kth_kth_distance + 0.000001)\n",
    "\n",
    "        return 1 if outlier_score < self.outlier_threshold else -1\n",
    "        \n",
    "    def euclidean_distance(self, features1, features2):\n",
    "        distance = 0.0\n",
    "        for feat1, feat2 in zip(features1, features2):\n",
    "            distance += (feat1 - feat2)**2\n",
    "                \n",
    "        return sqrt(distance)\n",
    "\n",
    "    def get_neighbors(self, entry, k):\n",
    "        distance_to_data_points = [\n",
    "            (data_point, self.euclidean_distance(entry, data_point))\n",
    "            for data_point in self.X\n",
    "        ]\n",
    "        sorted_by_distance = sorted(distance_to_data_points, key=lambda tup: tup[1])\n",
    "        neighbors = sorted_by_distance[:k]\n",
    "        return neighbors\n",
    "\n",
    "    def get_kth_neighbor(self, entry, k):\n",
    "        neighbors = self.get_neighbors(entry, k)\n",
    "        return neighbors[-1]\n"
   ]
  },
  {
   "cell_type": "code",
   "execution_count": 21,
   "id": "1fa9ec1c",
   "metadata": {
    "execution": {
     "iopub.execute_input": "2021-04-04T23:06:15.844769Z",
     "iopub.status.busy": "2021-04-04T23:06:15.843691Z",
     "iopub.status.idle": "2021-04-04T23:06:15.871102Z",
     "shell.execute_reply": "2021-04-04T23:06:15.872002Z"
    },
    "papermill": {
     "duration": 0.05629,
     "end_time": "2021-04-04T23:06:15.872250",
     "exception": false,
     "start_time": "2021-04-04T23:06:15.815960",
     "status": "completed"
    },
    "tags": []
   },
   "outputs": [],
   "source": [
    "from sklearn.svm import OneClassSVM\n",
    "\n",
    "\n",
    "models = {\n",
    "    'oneclasssvm': OneClassSVM,\n",
    "    'knndatadescription': KNNDataDescription,\n",
    "}"
   ]
  },
  {
   "cell_type": "code",
   "execution_count": 22,
   "id": "4d72a0b1",
   "metadata": {
    "execution": {
     "iopub.execute_input": "2021-04-04T23:06:15.925030Z",
     "iopub.status.busy": "2021-04-04T23:06:15.923708Z",
     "iopub.status.idle": "2021-04-04T23:06:15.927111Z",
     "shell.execute_reply": "2021-04-04T23:06:15.926355Z"
    },
    "papermill": {
     "duration": 0.030495,
     "end_time": "2021-04-04T23:06:15.927276",
     "exception": false,
     "start_time": "2021-04-04T23:06:15.896781",
     "status": "completed"
    },
    "scrolled": true,
    "tags": []
   },
   "outputs": [],
   "source": [
    "model_cls = models[model_config['model_type']]\n",
    "model = model_cls(**model_config['hyperparameters'])"
   ]
  },
  {
   "cell_type": "markdown",
   "id": "e00cff3b",
   "metadata": {
    "papermill": {
     "duration": 0.022572,
     "end_time": "2021-04-04T23:06:15.978873",
     "exception": false,
     "start_time": "2021-04-04T23:06:15.956301",
     "status": "completed"
    },
    "tags": []
   },
   "source": [
    "# Fit"
   ]
  },
  {
   "cell_type": "code",
   "execution_count": 23,
   "id": "8b2ded89",
   "metadata": {
    "execution": {
     "iopub.execute_input": "2021-04-04T23:06:16.054750Z",
     "iopub.status.busy": "2021-04-04T23:06:16.035959Z",
     "iopub.status.idle": "2021-04-04T23:06:16.058438Z",
     "shell.execute_reply": "2021-04-04T23:06:16.057474Z"
    },
    "papermill": {
     "duration": 0.055974,
     "end_time": "2021-04-04T23:06:16.058619",
     "exception": false,
     "start_time": "2021-04-04T23:06:16.002645",
     "status": "completed"
    },
    "tags": []
   },
   "outputs": [],
   "source": [
    "model.fit(X_train)"
   ]
  },
  {
   "cell_type": "markdown",
   "id": "f99999f7",
   "metadata": {
    "papermill": {
     "duration": 0.023086,
     "end_time": "2021-04-04T23:06:16.108458",
     "exception": false,
     "start_time": "2021-04-04T23:06:16.085372",
     "status": "completed"
    },
    "tags": []
   },
   "source": [
    "# Predict"
   ]
  },
  {
   "cell_type": "code",
   "execution_count": 24,
   "id": "6536fbf7",
   "metadata": {
    "execution": {
     "iopub.execute_input": "2021-04-04T23:06:16.161070Z",
     "iopub.status.busy": "2021-04-04T23:06:16.160477Z",
     "iopub.status.idle": "2021-04-04T23:06:16.561994Z",
     "shell.execute_reply": "2021-04-04T23:06:16.561066Z"
    },
    "papermill": {
     "duration": 0.430939,
     "end_time": "2021-04-04T23:06:16.562173",
     "exception": false,
     "start_time": "2021-04-04T23:06:16.131234",
     "status": "completed"
    },
    "tags": []
   },
   "outputs": [],
   "source": [
    "predictions = model.predict(X_test)"
   ]
  },
  {
   "cell_type": "markdown",
   "id": "aa1c9881",
   "metadata": {
    "papermill": {
     "duration": 0.022504,
     "end_time": "2021-04-04T23:06:16.612465",
     "exception": false,
     "start_time": "2021-04-04T23:06:16.589961",
     "status": "completed"
    },
    "tags": []
   },
   "source": [
    "# Evaluate"
   ]
  },
  {
   "cell_type": "code",
   "execution_count": 25,
   "id": "894f0f04",
   "metadata": {
    "execution": {
     "iopub.execute_input": "2021-04-04T23:06:16.662981Z",
     "iopub.status.busy": "2021-04-04T23:06:16.662131Z",
     "iopub.status.idle": "2021-04-04T23:06:16.666262Z",
     "shell.execute_reply": "2021-04-04T23:06:16.664975Z"
    },
    "papermill": {
     "duration": 0.031354,
     "end_time": "2021-04-04T23:06:16.666529",
     "exception": false,
     "start_time": "2021-04-04T23:06:16.635175",
     "status": "completed"
    },
    "tags": []
   },
   "outputs": [],
   "source": [
    "from sklearn.metrics import f1_score"
   ]
  },
  {
   "cell_type": "code",
   "execution_count": 26,
   "id": "211744d3",
   "metadata": {
    "execution": {
     "iopub.execute_input": "2021-04-04T23:06:16.730396Z",
     "iopub.status.busy": "2021-04-04T23:06:16.729576Z",
     "iopub.status.idle": "2021-04-04T23:06:16.732125Z",
     "shell.execute_reply": "2021-04-04T23:06:16.732908Z"
    },
    "papermill": {
     "duration": 0.03263,
     "end_time": "2021-04-04T23:06:16.733126",
     "exception": false,
     "start_time": "2021-04-04T23:06:16.700496",
     "status": "completed"
    },
    "tags": []
   },
   "outputs": [],
   "source": [
    "y_test = y_test.replace([0, 1], [1, -1])"
   ]
  },
  {
   "cell_type": "code",
   "execution_count": 27,
   "id": "d68a9204",
   "metadata": {
    "execution": {
     "iopub.execute_input": "2021-04-04T23:06:16.803033Z",
     "iopub.status.busy": "2021-04-04T23:06:16.801822Z",
     "iopub.status.idle": "2021-04-04T23:06:16.805115Z",
     "shell.execute_reply": "2021-04-04T23:06:16.805995Z"
    },
    "papermill": {
     "duration": 0.037257,
     "end_time": "2021-04-04T23:06:16.806245",
     "exception": false,
     "start_time": "2021-04-04T23:06:16.768988",
     "status": "completed"
    },
    "tags": []
   },
   "outputs": [],
   "source": [
    "def evaluate(truths, predictions, pos_label, neg_label):\n",
    "    TP = 0\n",
    "    FP = 0\n",
    "    TN = 0\n",
    "    FN = 0\n",
    "\n",
    "    for truth, pred in zip(truths, predictions): \n",
    "        if truth == pred == pos_label:\n",
    "           TP += 1\n",
    "        elif pred == pos_label and truth == neg_label:\n",
    "           FP += 1\n",
    "        elif truth == pred == neg_label:\n",
    "           TN += 1\n",
    "        elif pred == neg_label and truth == pos_label:\n",
    "           FN += 1\n",
    "\n",
    "    precision = TP / (TP + FP)\n",
    "    sensitivity = TP / (TP + FN)\n",
    "    \n",
    "    return {\n",
    "        'true_pos': TP,\n",
    "        'false_pos': FP,\n",
    "        'false_neg': FN,\n",
    "        'true_neg': TN,\n",
    "        'precision': precision,\n",
    "        'sensitivity': sensitivity,\n",
    "        'f1': (2 * (precision * sensitivity)) / (precision + sensitivity)\n",
    "    }\n",
    "\n",
    "score = evaluate(y_test, predictions, pos_label=-1, neg_label=1)"
   ]
  },
  {
   "cell_type": "markdown",
   "id": "93596516",
   "metadata": {
    "papermill": {
     "duration": 0.023089,
     "end_time": "2021-04-04T23:06:16.853923",
     "exception": false,
     "start_time": "2021-04-04T23:06:16.830834",
     "status": "completed"
    },
    "tags": []
   },
   "source": [
    "# Report"
   ]
  },
  {
   "cell_type": "code",
   "execution_count": 28,
   "id": "bea5fba1",
   "metadata": {
    "execution": {
     "iopub.execute_input": "2021-04-04T23:06:16.908435Z",
     "iopub.status.busy": "2021-04-04T23:06:16.907498Z",
     "iopub.status.idle": "2021-04-04T23:06:16.911951Z",
     "shell.execute_reply": "2021-04-04T23:06:16.912555Z"
    },
    "papermill": {
     "duration": 0.035386,
     "end_time": "2021-04-04T23:06:16.912733",
     "exception": false,
     "start_time": "2021-04-04T23:06:16.877347",
     "status": "completed"
    },
    "tags": []
   },
   "outputs": [],
   "source": [
    "import csv\n",
    "\n",
    "\n",
    "dataset_config_name = DATASET_CONFIG_PATH.split('/')[-1].split('.')[0]\n",
    "model_config_name = MODEL_CONFIG_PATH.split('/')[-1].split('.')[0]\n",
    "configuration = f\"dataset_{dataset_config_name}-model_{model_config_name}\"\n",
    "\n",
    "with open('results.csv', 'a') as f:\n",
    "    report = dict({'configuration': configuration}, **score)\n",
    "    writer = csv.DictWriter(f, report.keys())\n",
    "    writer.writerow(report)"
   ]
  }
 ],
 "metadata": {
  "celltoolbar": "Tags",
  "kernelspec": {
   "display_name": "Python 3",
   "language": "python",
   "name": "python3"
  },
  "language_info": {
   "codemirror_mode": {
    "name": "ipython",
    "version": 3
   },
   "file_extension": ".py",
   "mimetype": "text/x-python",
   "name": "python",
   "nbconvert_exporter": "python",
   "pygments_lexer": "ipython3",
   "version": "3.9.1"
  },
  "papermill": {
   "default_parameters": {},
   "duration": 6.056384,
   "end_time": "2021-04-04T23:06:18.275244",
   "environment_variables": {},
   "exception": null,
   "input_path": "main.ipynb",
   "output_path": "runs/dataset_000083-model_000002.ipynb",
   "parameters": {
    "DATASET_CONFIG_PATH": "config/dataset/000083.json",
    "MODEL_CONFIG_PATH": "config/model/000002.json",
    "PROFILE_REPORTING": false
   },
   "start_time": "2021-04-04T23:06:12.218860",
   "version": "2.3.3"
  }
 },
 "nbformat": 4,
 "nbformat_minor": 5
}