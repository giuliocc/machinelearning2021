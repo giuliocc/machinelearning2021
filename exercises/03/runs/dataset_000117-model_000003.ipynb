{
 "cells": [
  {
   "cell_type": "markdown",
   "id": "51c71c25",
   "metadata": {
    "papermill": {
     "duration": 0.021473,
     "end_time": "2021-04-04T23:19:24.699367",
     "exception": false,
     "start_time": "2021-04-04T23:19:24.677894",
     "status": "completed"
    },
    "tags": []
   },
   "source": [
    "# Parametrizing"
   ]
  },
  {
   "cell_type": "code",
   "execution_count": 1,
   "id": "3b136394",
   "metadata": {
    "execution": {
     "iopub.execute_input": "2021-04-04T23:19:24.759543Z",
     "iopub.status.busy": "2021-04-04T23:19:24.758787Z",
     "iopub.status.idle": "2021-04-04T23:19:24.761499Z",
     "shell.execute_reply": "2021-04-04T23:19:24.762050Z"
    },
    "papermill": {
     "duration": 0.042132,
     "end_time": "2021-04-04T23:19:24.762296",
     "exception": false,
     "start_time": "2021-04-04T23:19:24.720164",
     "status": "completed"
    },
    "tags": [
     "parameters"
    ]
   },
   "outputs": [],
   "source": [
    "DATASET_CONFIG_PATH = 'config/dataset/kc1_001.json'\n",
    "MODEL_CONFIG_PATH = 'config/model/knndd_001.json'\n",
    "PROFILE_REPORTING = False"
   ]
  },
  {
   "cell_type": "code",
   "execution_count": 2,
   "id": "27660eb1",
   "metadata": {
    "execution": {
     "iopub.execute_input": "2021-04-04T23:19:24.808417Z",
     "iopub.status.busy": "2021-04-04T23:19:24.807672Z",
     "iopub.status.idle": "2021-04-04T23:19:24.809349Z",
     "shell.execute_reply": "2021-04-04T23:19:24.809817Z"
    },
    "papermill": {
     "duration": 0.02512,
     "end_time": "2021-04-04T23:19:24.809996",
     "exception": false,
     "start_time": "2021-04-04T23:19:24.784876",
     "status": "completed"
    },
    "tags": [
     "injected-parameters"
    ]
   },
   "outputs": [],
   "source": [
    "# Parameters\n",
    "DATASET_CONFIG_PATH = \"config/dataset/000117.json\"\n",
    "MODEL_CONFIG_PATH = \"config/model/000003.json\"\n",
    "PROFILE_REPORTING = False\n"
   ]
  },
  {
   "cell_type": "code",
   "execution_count": 3,
   "id": "b80f2a10",
   "metadata": {
    "execution": {
     "iopub.execute_input": "2021-04-04T23:19:24.862084Z",
     "iopub.status.busy": "2021-04-04T23:19:24.861287Z",
     "iopub.status.idle": "2021-04-04T23:19:24.866129Z",
     "shell.execute_reply": "2021-04-04T23:19:24.864641Z"
    },
    "papermill": {
     "duration": 0.034357,
     "end_time": "2021-04-04T23:19:24.866612",
     "exception": false,
     "start_time": "2021-04-04T23:19:24.832255",
     "status": "completed"
    },
    "tags": []
   },
   "outputs": [],
   "source": [
    "import json\n",
    "\n",
    "\n",
    "with open(DATASET_CONFIG_PATH) as f:\n",
    "    dataset_config = json.load(f)\n",
    "\n",
    "with open(MODEL_CONFIG_PATH) as f:\n",
    "    model_config = json.load(f)"
   ]
  },
  {
   "cell_type": "markdown",
   "id": "9a4b0e2d",
   "metadata": {
    "papermill": {
     "duration": 0.019284,
     "end_time": "2021-04-04T23:19:24.908291",
     "exception": false,
     "start_time": "2021-04-04T23:19:24.889007",
     "status": "completed"
    },
    "tags": []
   },
   "source": [
    "# Profiling"
   ]
  },
  {
   "cell_type": "code",
   "execution_count": 4,
   "id": "a3e0289b",
   "metadata": {
    "execution": {
     "iopub.execute_input": "2021-04-04T23:19:24.954907Z",
     "iopub.status.busy": "2021-04-04T23:19:24.954299Z",
     "iopub.status.idle": "2021-04-04T23:19:26.924447Z",
     "shell.execute_reply": "2021-04-04T23:19:26.923532Z"
    },
    "papermill": {
     "duration": 1.993324,
     "end_time": "2021-04-04T23:19:26.924618",
     "exception": false,
     "start_time": "2021-04-04T23:19:24.931294",
     "status": "completed"
    },
    "tags": []
   },
   "outputs": [],
   "source": [
    "import pandas as pd\n",
    "from pandas_profiling import ProfileReport"
   ]
  },
  {
   "cell_type": "code",
   "execution_count": 5,
   "id": "ee6c0666",
   "metadata": {
    "execution": {
     "iopub.execute_input": "2021-04-04T23:19:26.984529Z",
     "iopub.status.busy": "2021-04-04T23:19:26.983669Z",
     "iopub.status.idle": "2021-04-04T23:19:26.994820Z",
     "shell.execute_reply": "2021-04-04T23:19:26.995370Z"
    },
    "papermill": {
     "duration": 0.044064,
     "end_time": "2021-04-04T23:19:26.995540",
     "exception": false,
     "start_time": "2021-04-04T23:19:26.951476",
     "status": "completed"
    },
    "tags": []
   },
   "outputs": [],
   "source": [
    "df = pd.read_csv(dataset_config['dataset_path'])"
   ]
  },
  {
   "cell_type": "code",
   "execution_count": 6,
   "id": "7eca6c4a",
   "metadata": {
    "execution": {
     "iopub.execute_input": "2021-04-04T23:19:27.072605Z",
     "iopub.status.busy": "2021-04-04T23:19:27.070202Z",
     "iopub.status.idle": "2021-04-04T23:19:27.075324Z",
     "shell.execute_reply": "2021-04-04T23:19:27.076153Z"
    },
    "papermill": {
     "duration": 0.054172,
     "end_time": "2021-04-04T23:19:27.076341",
     "exception": false,
     "start_time": "2021-04-04T23:19:27.022169",
     "status": "completed"
    },
    "tags": []
   },
   "outputs": [
    {
     "name": "stdout",
     "output_type": "stream",
     "text": [
      "<class 'pandas.core.frame.DataFrame'>\n",
      "RangeIndex: 498 entries, 0 to 497\n",
      "Data columns (total 23 columns):\n",
      " #   Column             Non-Null Count  Dtype  \n",
      "---  ------             --------------  -----  \n",
      " 0   id                 498 non-null    int64  \n",
      " 1   loc                498 non-null    float64\n",
      " 2   v(g)               498 non-null    float64\n",
      " 3   ev(g)              498 non-null    float64\n",
      " 4   iv(g)              498 non-null    float64\n",
      " 5   n                  498 non-null    float64\n",
      " 6   v                  498 non-null    float64\n",
      " 7   l                  498 non-null    float64\n",
      " 8   d                  498 non-null    float64\n",
      " 9   i                  498 non-null    float64\n",
      " 10  e                  498 non-null    float64\n",
      " 11  b                  498 non-null    float64\n",
      " 12  t                  498 non-null    float64\n",
      " 13  lOCode             498 non-null    int64  \n",
      " 14  lOComment          498 non-null    int64  \n",
      " 15  lOBlank            498 non-null    int64  \n",
      " 16  locCodeAndComment  498 non-null    int64  \n",
      " 17  uniq_Op            498 non-null    float64\n",
      " 18  uniq_Opnd          498 non-null    float64\n",
      " 19  total_Op           498 non-null    float64\n",
      " 20  total_Opnd         498 non-null    float64\n",
      " 21  branchCount        498 non-null    float64\n",
      " 22  defects            498 non-null    bool   \n",
      "dtypes: bool(1), float64(17), int64(5)\n",
      "memory usage: 86.2 KB\n"
     ]
    }
   ],
   "source": [
    "df.info()"
   ]
  },
  {
   "cell_type": "code",
   "execution_count": 7,
   "id": "3638e5e8",
   "metadata": {
    "execution": {
     "iopub.execute_input": "2021-04-04T23:19:27.142272Z",
     "iopub.status.busy": "2021-04-04T23:19:27.141138Z",
     "iopub.status.idle": "2021-04-04T23:19:27.173505Z",
     "shell.execute_reply": "2021-04-04T23:19:27.174336Z"
    },
    "papermill": {
     "duration": 0.071982,
     "end_time": "2021-04-04T23:19:27.174552",
     "exception": false,
     "start_time": "2021-04-04T23:19:27.102570",
     "status": "completed"
    },
    "tags": []
   },
   "outputs": [
    {
     "data": {
      "text/html": [
       "<div>\n",
       "<style scoped>\n",
       "    .dataframe tbody tr th:only-of-type {\n",
       "        vertical-align: middle;\n",
       "    }\n",
       "\n",
       "    .dataframe tbody tr th {\n",
       "        vertical-align: top;\n",
       "    }\n",
       "\n",
       "    .dataframe thead th {\n",
       "        text-align: right;\n",
       "    }\n",
       "</style>\n",
       "<table border=\"1\" class=\"dataframe\">\n",
       "  <thead>\n",
       "    <tr style=\"text-align: right;\">\n",
       "      <th></th>\n",
       "      <th>id</th>\n",
       "      <th>loc</th>\n",
       "      <th>v(g)</th>\n",
       "      <th>ev(g)</th>\n",
       "      <th>iv(g)</th>\n",
       "      <th>n</th>\n",
       "      <th>v</th>\n",
       "      <th>l</th>\n",
       "      <th>d</th>\n",
       "      <th>i</th>\n",
       "      <th>...</th>\n",
       "      <th>lOCode</th>\n",
       "      <th>lOComment</th>\n",
       "      <th>lOBlank</th>\n",
       "      <th>locCodeAndComment</th>\n",
       "      <th>uniq_Op</th>\n",
       "      <th>uniq_Opnd</th>\n",
       "      <th>total_Op</th>\n",
       "      <th>total_Opnd</th>\n",
       "      <th>branchCount</th>\n",
       "      <th>defects</th>\n",
       "    </tr>\n",
       "  </thead>\n",
       "  <tbody>\n",
       "    <tr>\n",
       "      <th>0</th>\n",
       "      <td>1</td>\n",
       "      <td>1.1</td>\n",
       "      <td>1.4</td>\n",
       "      <td>1.4</td>\n",
       "      <td>1.4</td>\n",
       "      <td>1.3</td>\n",
       "      <td>1.30</td>\n",
       "      <td>1.30</td>\n",
       "      <td>1.30</td>\n",
       "      <td>1.30</td>\n",
       "      <td>...</td>\n",
       "      <td>2</td>\n",
       "      <td>2</td>\n",
       "      <td>2</td>\n",
       "      <td>2</td>\n",
       "      <td>1.2</td>\n",
       "      <td>1.2</td>\n",
       "      <td>1.2</td>\n",
       "      <td>1.2</td>\n",
       "      <td>1.4</td>\n",
       "      <td>False</td>\n",
       "    </tr>\n",
       "    <tr>\n",
       "      <th>1</th>\n",
       "      <td>2</td>\n",
       "      <td>1.0</td>\n",
       "      <td>1.0</td>\n",
       "      <td>1.0</td>\n",
       "      <td>1.0</td>\n",
       "      <td>1.0</td>\n",
       "      <td>1.00</td>\n",
       "      <td>1.00</td>\n",
       "      <td>1.00</td>\n",
       "      <td>1.00</td>\n",
       "      <td>...</td>\n",
       "      <td>1</td>\n",
       "      <td>1</td>\n",
       "      <td>1</td>\n",
       "      <td>1</td>\n",
       "      <td>1.0</td>\n",
       "      <td>1.0</td>\n",
       "      <td>1.0</td>\n",
       "      <td>1.0</td>\n",
       "      <td>1.0</td>\n",
       "      <td>True</td>\n",
       "    </tr>\n",
       "    <tr>\n",
       "      <th>2</th>\n",
       "      <td>3</td>\n",
       "      <td>24.0</td>\n",
       "      <td>5.0</td>\n",
       "      <td>1.0</td>\n",
       "      <td>3.0</td>\n",
       "      <td>63.0</td>\n",
       "      <td>309.13</td>\n",
       "      <td>0.11</td>\n",
       "      <td>9.50</td>\n",
       "      <td>32.54</td>\n",
       "      <td>...</td>\n",
       "      <td>1</td>\n",
       "      <td>0</td>\n",
       "      <td>6</td>\n",
       "      <td>0</td>\n",
       "      <td>15.0</td>\n",
       "      <td>15.0</td>\n",
       "      <td>44.0</td>\n",
       "      <td>19.0</td>\n",
       "      <td>9.0</td>\n",
       "      <td>False</td>\n",
       "    </tr>\n",
       "    <tr>\n",
       "      <th>3</th>\n",
       "      <td>4</td>\n",
       "      <td>20.0</td>\n",
       "      <td>4.0</td>\n",
       "      <td>4.0</td>\n",
       "      <td>2.0</td>\n",
       "      <td>47.0</td>\n",
       "      <td>215.49</td>\n",
       "      <td>0.06</td>\n",
       "      <td>16.00</td>\n",
       "      <td>13.47</td>\n",
       "      <td>...</td>\n",
       "      <td>0</td>\n",
       "      <td>0</td>\n",
       "      <td>3</td>\n",
       "      <td>0</td>\n",
       "      <td>16.0</td>\n",
       "      <td>8.0</td>\n",
       "      <td>31.0</td>\n",
       "      <td>16.0</td>\n",
       "      <td>7.0</td>\n",
       "      <td>False</td>\n",
       "    </tr>\n",
       "    <tr>\n",
       "      <th>4</th>\n",
       "      <td>5</td>\n",
       "      <td>24.0</td>\n",
       "      <td>6.0</td>\n",
       "      <td>6.0</td>\n",
       "      <td>2.0</td>\n",
       "      <td>72.0</td>\n",
       "      <td>346.13</td>\n",
       "      <td>0.06</td>\n",
       "      <td>17.33</td>\n",
       "      <td>19.97</td>\n",
       "      <td>...</td>\n",
       "      <td>0</td>\n",
       "      <td>0</td>\n",
       "      <td>3</td>\n",
       "      <td>0</td>\n",
       "      <td>16.0</td>\n",
       "      <td>12.0</td>\n",
       "      <td>46.0</td>\n",
       "      <td>26.0</td>\n",
       "      <td>11.0</td>\n",
       "      <td>False</td>\n",
       "    </tr>\n",
       "  </tbody>\n",
       "</table>\n",
       "<p>5 rows × 23 columns</p>\n",
       "</div>"
      ],
      "text/plain": [
       "   id   loc  v(g)  ev(g)  iv(g)     n       v     l      d      i  ...  \\\n",
       "0   1   1.1   1.4    1.4    1.4   1.3    1.30  1.30   1.30   1.30  ...   \n",
       "1   2   1.0   1.0    1.0    1.0   1.0    1.00  1.00   1.00   1.00  ...   \n",
       "2   3  24.0   5.0    1.0    3.0  63.0  309.13  0.11   9.50  32.54  ...   \n",
       "3   4  20.0   4.0    4.0    2.0  47.0  215.49  0.06  16.00  13.47  ...   \n",
       "4   5  24.0   6.0    6.0    2.0  72.0  346.13  0.06  17.33  19.97  ...   \n",
       "\n",
       "   lOCode  lOComment  lOBlank  locCodeAndComment  uniq_Op  uniq_Opnd  \\\n",
       "0       2          2        2                  2      1.2        1.2   \n",
       "1       1          1        1                  1      1.0        1.0   \n",
       "2       1          0        6                  0     15.0       15.0   \n",
       "3       0          0        3                  0     16.0        8.0   \n",
       "4       0          0        3                  0     16.0       12.0   \n",
       "\n",
       "   total_Op  total_Opnd  branchCount  defects  \n",
       "0       1.2         1.2          1.4    False  \n",
       "1       1.0         1.0          1.0     True  \n",
       "2      44.0        19.0          9.0    False  \n",
       "3      31.0        16.0          7.0    False  \n",
       "4      46.0        26.0         11.0    False  \n",
       "\n",
       "[5 rows x 23 columns]"
      ]
     },
     "execution_count": 7,
     "metadata": {},
     "output_type": "execute_result"
    }
   ],
   "source": [
    "df.head()"
   ]
  },
  {
   "cell_type": "code",
   "execution_count": 8,
   "id": "733e95eb",
   "metadata": {
    "execution": {
     "iopub.execute_input": "2021-04-04T23:19:27.232447Z",
     "iopub.status.busy": "2021-04-04T23:19:27.231684Z",
     "iopub.status.idle": "2021-04-04T23:19:27.235115Z",
     "shell.execute_reply": "2021-04-04T23:19:27.235692Z"
    },
    "papermill": {
     "duration": 0.034773,
     "end_time": "2021-04-04T23:19:27.235859",
     "exception": false,
     "start_time": "2021-04-04T23:19:27.201086",
     "status": "completed"
    },
    "tags": []
   },
   "outputs": [],
   "source": [
    "del df['id']"
   ]
  },
  {
   "cell_type": "code",
   "execution_count": 9,
   "id": "6ff6f5b0",
   "metadata": {
    "execution": {
     "iopub.execute_input": "2021-04-04T23:19:27.295289Z",
     "iopub.status.busy": "2021-04-04T23:19:27.293716Z",
     "iopub.status.idle": "2021-04-04T23:19:27.296576Z",
     "shell.execute_reply": "2021-04-04T23:19:27.297762Z"
    },
    "papermill": {
     "duration": 0.035027,
     "end_time": "2021-04-04T23:19:27.298092",
     "exception": false,
     "start_time": "2021-04-04T23:19:27.263065",
     "status": "completed"
    },
    "tags": []
   },
   "outputs": [],
   "source": [
    "if PROFILE_REPORTING:\n",
    "    ProfileReport(df).to_widgets()"
   ]
  },
  {
   "cell_type": "markdown",
   "id": "1deaf3f0",
   "metadata": {
    "papermill": {
     "duration": 0.028031,
     "end_time": "2021-04-04T23:19:27.350438",
     "exception": false,
     "start_time": "2021-04-04T23:19:27.322407",
     "status": "completed"
    },
    "tags": []
   },
   "source": [
    "# Preprocess"
   ]
  },
  {
   "cell_type": "code",
   "execution_count": 10,
   "id": "1513e563",
   "metadata": {
    "execution": {
     "iopub.execute_input": "2021-04-04T23:19:27.410400Z",
     "iopub.status.busy": "2021-04-04T23:19:27.409521Z",
     "iopub.status.idle": "2021-04-04T23:19:27.411772Z",
     "shell.execute_reply": "2021-04-04T23:19:27.412277Z"
    },
    "papermill": {
     "duration": 0.033408,
     "end_time": "2021-04-04T23:19:27.412433",
     "exception": false,
     "start_time": "2021-04-04T23:19:27.379025",
     "status": "completed"
    },
    "tags": []
   },
   "outputs": [],
   "source": [
    "working_df = df.copy()"
   ]
  },
  {
   "cell_type": "code",
   "execution_count": 11,
   "id": "3b26d675",
   "metadata": {
    "execution": {
     "iopub.execute_input": "2021-04-04T23:19:27.472265Z",
     "iopub.status.busy": "2021-04-04T23:19:27.471367Z",
     "iopub.status.idle": "2021-04-04T23:19:27.473754Z",
     "shell.execute_reply": "2021-04-04T23:19:27.474358Z"
    },
    "papermill": {
     "duration": 0.037292,
     "end_time": "2021-04-04T23:19:27.474527",
     "exception": false,
     "start_time": "2021-04-04T23:19:27.437235",
     "status": "completed"
    },
    "tags": []
   },
   "outputs": [],
   "source": [
    "working_df['defects'] = working_df['defects'].replace([False, True], [0, 1])"
   ]
  },
  {
   "cell_type": "code",
   "execution_count": 12,
   "id": "eb48604f",
   "metadata": {
    "execution": {
     "iopub.execute_input": "2021-04-04T23:19:27.538280Z",
     "iopub.status.busy": "2021-04-04T23:19:27.537198Z",
     "iopub.status.idle": "2021-04-04T23:19:27.540784Z",
     "shell.execute_reply": "2021-04-04T23:19:27.540137Z"
    },
    "papermill": {
     "duration": 0.037814,
     "end_time": "2021-04-04T23:19:27.540921",
     "exception": false,
     "start_time": "2021-04-04T23:19:27.503107",
     "status": "completed"
    },
    "tags": []
   },
   "outputs": [],
   "source": [
    "for col in dataset_config['delete_columns']:\n",
    "    del working_df[col]"
   ]
  },
  {
   "cell_type": "code",
   "execution_count": 13,
   "id": "9a17bc29",
   "metadata": {
    "execution": {
     "iopub.execute_input": "2021-04-04T23:19:27.598121Z",
     "iopub.status.busy": "2021-04-04T23:19:27.597298Z",
     "iopub.status.idle": "2021-04-04T23:19:27.608152Z",
     "shell.execute_reply": "2021-04-04T23:19:27.607591Z"
    },
    "papermill": {
     "duration": 0.04315,
     "end_time": "2021-04-04T23:19:27.608305",
     "exception": false,
     "start_time": "2021-04-04T23:19:27.565155",
     "status": "completed"
    },
    "tags": []
   },
   "outputs": [],
   "source": [
    "working_df = working_df.drop_duplicates()"
   ]
  },
  {
   "cell_type": "markdown",
   "id": "a4d52ca6",
   "metadata": {
    "papermill": {
     "duration": 0.029333,
     "end_time": "2021-04-04T23:19:27.665947",
     "exception": false,
     "start_time": "2021-04-04T23:19:27.636614",
     "status": "completed"
    },
    "tags": []
   },
   "source": [
    "# Split"
   ]
  },
  {
   "cell_type": "code",
   "execution_count": 14,
   "id": "3e9ee4b5",
   "metadata": {
    "execution": {
     "iopub.execute_input": "2021-04-04T23:19:27.723577Z",
     "iopub.status.busy": "2021-04-04T23:19:27.722646Z",
     "iopub.status.idle": "2021-04-04T23:19:27.770386Z",
     "shell.execute_reply": "2021-04-04T23:19:27.769128Z"
    },
    "papermill": {
     "duration": 0.077843,
     "end_time": "2021-04-04T23:19:27.770547",
     "exception": false,
     "start_time": "2021-04-04T23:19:27.692704",
     "status": "completed"
    },
    "tags": []
   },
   "outputs": [],
   "source": [
    "from sklearn.model_selection import train_test_split"
   ]
  },
  {
   "cell_type": "code",
   "execution_count": 15,
   "id": "274004ce",
   "metadata": {
    "execution": {
     "iopub.execute_input": "2021-04-04T23:19:27.832501Z",
     "iopub.status.busy": "2021-04-04T23:19:27.831375Z",
     "iopub.status.idle": "2021-04-04T23:19:27.838768Z",
     "shell.execute_reply": "2021-04-04T23:19:27.839392Z"
    },
    "papermill": {
     "duration": 0.040616,
     "end_time": "2021-04-04T23:19:27.839606",
     "exception": false,
     "start_time": "2021-04-04T23:19:27.798990",
     "status": "completed"
    },
    "scrolled": true,
    "tags": []
   },
   "outputs": [],
   "source": [
    "inlier, outlier = working_df[working_df['defects'] == 0], working_df[working_df['defects'] == 1]"
   ]
  },
  {
   "cell_type": "code",
   "execution_count": 16,
   "id": "753c7b03",
   "metadata": {
    "execution": {
     "iopub.execute_input": "2021-04-04T23:19:27.903758Z",
     "iopub.status.busy": "2021-04-04T23:19:27.902618Z",
     "iopub.status.idle": "2021-04-04T23:19:27.906230Z",
     "shell.execute_reply": "2021-04-04T23:19:27.904998Z"
    },
    "papermill": {
     "duration": 0.04007,
     "end_time": "2021-04-04T23:19:27.906811",
     "exception": false,
     "start_time": "2021-04-04T23:19:27.866741",
     "status": "completed"
    },
    "tags": []
   },
   "outputs": [],
   "source": [
    "X_inlier = inlier.copy()\n",
    "y_inlier = X_inlier.pop('defects')\n",
    "X_outlier = outlier.copy()\n",
    "y_outlier = X_outlier.pop('defects')"
   ]
  },
  {
   "cell_type": "code",
   "execution_count": 17,
   "id": "2ba43193",
   "metadata": {
    "execution": {
     "iopub.execute_input": "2021-04-04T23:19:27.972166Z",
     "iopub.status.busy": "2021-04-04T23:19:27.971198Z",
     "iopub.status.idle": "2021-04-04T23:19:27.974670Z",
     "shell.execute_reply": "2021-04-04T23:19:27.973736Z"
    },
    "papermill": {
     "duration": 0.040726,
     "end_time": "2021-04-04T23:19:27.974913",
     "exception": false,
     "start_time": "2021-04-04T23:19:27.934187",
     "status": "completed"
    },
    "tags": []
   },
   "outputs": [],
   "source": [
    "test_size = dataset_config['test_size']\n",
    "random_state = dataset_config['random_state']\n",
    "\n",
    "X_inlier_train, X_inlier_test, y_inlier_train, y_inlier_test = train_test_split(\n",
    "    X_inlier,\n",
    "    y_inlier,\n",
    "    test_size=test_size,\n",
    "    random_state=random_state\n",
    ")"
   ]
  },
  {
   "cell_type": "code",
   "execution_count": 18,
   "id": "0b7582ca",
   "metadata": {
    "execution": {
     "iopub.execute_input": "2021-04-04T23:19:28.040242Z",
     "iopub.status.busy": "2021-04-04T23:19:28.039048Z",
     "iopub.status.idle": "2021-04-04T23:19:28.042157Z",
     "shell.execute_reply": "2021-04-04T23:19:28.042717Z"
    },
    "papermill": {
     "duration": 0.039862,
     "end_time": "2021-04-04T23:19:28.042895",
     "exception": false,
     "start_time": "2021-04-04T23:19:28.003033",
     "status": "completed"
    },
    "tags": []
   },
   "outputs": [],
   "source": [
    "test_outlier_size = dataset_config['test_outlier_size']\n",
    "if test_outlier_size > 0.0:\n",
    "    X_outlier_train, X_outlier_test, y_outlier_train, y_outlier_test = train_test_split(\n",
    "        X_outlier,\n",
    "        y_outlier,\n",
    "        test_size=test_outlier_size,\n",
    "        random_state=random_state\n",
    "    )\n",
    "else:\n",
    "    X_outlier_train, y_outlier_train = pd.DataFrame(columns=X_outlier.columns), pd.Series(dtype='int64')\n",
    "    X_outlier_test, y_outlier_test = X_outlier.copy(), y_outlier.copy()"
   ]
  },
  {
   "cell_type": "code",
   "execution_count": 19,
   "id": "c34363db",
   "metadata": {
    "execution": {
     "iopub.execute_input": "2021-04-04T23:19:28.112330Z",
     "iopub.status.busy": "2021-04-04T23:19:28.111170Z",
     "iopub.status.idle": "2021-04-04T23:19:28.115950Z",
     "shell.execute_reply": "2021-04-04T23:19:28.114812Z"
    },
    "papermill": {
     "duration": 0.045377,
     "end_time": "2021-04-04T23:19:28.116135",
     "exception": false,
     "start_time": "2021-04-04T23:19:28.070758",
     "status": "completed"
    },
    "tags": []
   },
   "outputs": [],
   "source": [
    "X_train, y_train = pd.concat([X_inlier_train, X_outlier_train], ignore_index=True), pd.concat([y_inlier_train, y_outlier_train], ignore_index=True)\n",
    "X_test, y_test = pd.concat([X_inlier_test, X_outlier_test], ignore_index=True), pd.concat([y_inlier_test, y_outlier_test], ignore_index=True)"
   ]
  },
  {
   "cell_type": "markdown",
   "id": "7cde7309",
   "metadata": {
    "papermill": {
     "duration": 0.027055,
     "end_time": "2021-04-04T23:19:28.171129",
     "exception": false,
     "start_time": "2021-04-04T23:19:28.144074",
     "status": "completed"
    },
    "tags": []
   },
   "source": [
    "# Model"
   ]
  },
  {
   "cell_type": "code",
   "execution_count": 20,
   "id": "2b12a415",
   "metadata": {
    "execution": {
     "iopub.execute_input": "2021-04-04T23:19:28.243499Z",
     "iopub.status.busy": "2021-04-04T23:19:28.242695Z",
     "iopub.status.idle": "2021-04-04T23:19:28.245249Z",
     "shell.execute_reply": "2021-04-04T23:19:28.245866Z"
    },
    "papermill": {
     "duration": 0.04586,
     "end_time": "2021-04-04T23:19:28.246054",
     "exception": false,
     "start_time": "2021-04-04T23:19:28.200194",
     "status": "completed"
    },
    "tags": []
   },
   "outputs": [],
   "source": [
    "from math import sqrt\n",
    "\n",
    "\n",
    "class KNNDataDescription:\n",
    "    def __init__(self, k=5, outlier_threshold=1.0):\n",
    "        self.k = k\n",
    "        self.outlier_threshold = outlier_threshold\n",
    "        self.X = []\n",
    "    \n",
    "    def fit(self, X):\n",
    "        self.X = [features.to_list() for index, features in X.iterrows()]\n",
    "\n",
    "    def predict(self, entries):\n",
    "        return [self.predict_entry(features.to_list()) for index, features in entries.iterrows()]\n",
    "    \n",
    "    def predict_entry(self, entry):\n",
    "        kth_neighbor, kth_distance = self.get_kth_neighbor(entry, self.k)\n",
    "        kth_kth_neighbor, kth_kth_distance = self.get_kth_neighbor(kth_neighbor, self.k + 1)\n",
    "\n",
    "        outlier_score = kth_distance / (kth_kth_distance + 0.000001)\n",
    "\n",
    "        return 1 if outlier_score < self.outlier_threshold else -1\n",
    "        \n",
    "    def euclidean_distance(self, features1, features2):\n",
    "        distance = 0.0\n",
    "        for feat1, feat2 in zip(features1, features2):\n",
    "            distance += (feat1 - feat2)**2\n",
    "                \n",
    "        return sqrt(distance)\n",
    "\n",
    "    def get_neighbors(self, entry, k):\n",
    "        distance_to_data_points = [\n",
    "            (data_point, self.euclidean_distance(entry, data_point))\n",
    "            for data_point in self.X\n",
    "        ]\n",
    "        sorted_by_distance = sorted(distance_to_data_points, key=lambda tup: tup[1])\n",
    "        neighbors = sorted_by_distance[:k]\n",
    "        return neighbors\n",
    "\n",
    "    def get_kth_neighbor(self, entry, k):\n",
    "        neighbors = self.get_neighbors(entry, k)\n",
    "        return neighbors[-1]\n"
   ]
  },
  {
   "cell_type": "code",
   "execution_count": 21,
   "id": "1fa9ec1c",
   "metadata": {
    "execution": {
     "iopub.execute_input": "2021-04-04T23:19:28.310376Z",
     "iopub.status.busy": "2021-04-04T23:19:28.308922Z",
     "iopub.status.idle": "2021-04-04T23:19:28.338887Z",
     "shell.execute_reply": "2021-04-04T23:19:28.340711Z"
    },
    "papermill": {
     "duration": 0.065095,
     "end_time": "2021-04-04T23:19:28.341250",
     "exception": false,
     "start_time": "2021-04-04T23:19:28.276155",
     "status": "completed"
    },
    "tags": []
   },
   "outputs": [],
   "source": [
    "from sklearn.svm import OneClassSVM\n",
    "\n",
    "\n",
    "models = {\n",
    "    'oneclasssvm': OneClassSVM,\n",
    "    'knndatadescription': KNNDataDescription,\n",
    "}"
   ]
  },
  {
   "cell_type": "code",
   "execution_count": 22,
   "id": "4d72a0b1",
   "metadata": {
    "execution": {
     "iopub.execute_input": "2021-04-04T23:19:28.411825Z",
     "iopub.status.busy": "2021-04-04T23:19:28.411058Z",
     "iopub.status.idle": "2021-04-04T23:19:28.414271Z",
     "shell.execute_reply": "2021-04-04T23:19:28.415205Z"
    },
    "papermill": {
     "duration": 0.040922,
     "end_time": "2021-04-04T23:19:28.415462",
     "exception": false,
     "start_time": "2021-04-04T23:19:28.374540",
     "status": "completed"
    },
    "scrolled": true,
    "tags": []
   },
   "outputs": [],
   "source": [
    "model_cls = models[model_config['model_type']]\n",
    "model = model_cls(**model_config['hyperparameters'])"
   ]
  },
  {
   "cell_type": "markdown",
   "id": "e00cff3b",
   "metadata": {
    "papermill": {
     "duration": 0.029043,
     "end_time": "2021-04-04T23:19:28.473892",
     "exception": false,
     "start_time": "2021-04-04T23:19:28.444849",
     "status": "completed"
    },
    "tags": []
   },
   "source": [
    "# Fit"
   ]
  },
  {
   "cell_type": "code",
   "execution_count": 23,
   "id": "8b2ded89",
   "metadata": {
    "execution": {
     "iopub.execute_input": "2021-04-04T23:19:28.564370Z",
     "iopub.status.busy": "2021-04-04T23:19:28.547081Z",
     "iopub.status.idle": "2021-04-04T23:19:28.567481Z",
     "shell.execute_reply": "2021-04-04T23:19:28.566670Z"
    },
    "papermill": {
     "duration": 0.060469,
     "end_time": "2021-04-04T23:19:28.567839",
     "exception": false,
     "start_time": "2021-04-04T23:19:28.507370",
     "status": "completed"
    },
    "tags": []
   },
   "outputs": [],
   "source": [
    "model.fit(X_train)"
   ]
  },
  {
   "cell_type": "markdown",
   "id": "f99999f7",
   "metadata": {
    "papermill": {
     "duration": 0.02651,
     "end_time": "2021-04-04T23:19:28.623536",
     "exception": false,
     "start_time": "2021-04-04T23:19:28.597026",
     "status": "completed"
    },
    "tags": []
   },
   "source": [
    "# Predict"
   ]
  },
  {
   "cell_type": "code",
   "execution_count": 24,
   "id": "6536fbf7",
   "metadata": {
    "execution": {
     "iopub.execute_input": "2021-04-04T23:19:28.719557Z",
     "iopub.status.busy": "2021-04-04T23:19:28.688748Z",
     "iopub.status.idle": "2021-04-04T23:19:29.103415Z",
     "shell.execute_reply": "2021-04-04T23:19:29.103930Z"
    },
    "papermill": {
     "duration": 0.452157,
     "end_time": "2021-04-04T23:19:29.104087",
     "exception": false,
     "start_time": "2021-04-04T23:19:28.651930",
     "status": "completed"
    },
    "tags": []
   },
   "outputs": [],
   "source": [
    "predictions = model.predict(X_test)"
   ]
  },
  {
   "cell_type": "markdown",
   "id": "aa1c9881",
   "metadata": {
    "papermill": {
     "duration": 0.02351,
     "end_time": "2021-04-04T23:19:29.156851",
     "exception": false,
     "start_time": "2021-04-04T23:19:29.133341",
     "status": "completed"
    },
    "tags": []
   },
   "source": [
    "# Evaluate"
   ]
  },
  {
   "cell_type": "code",
   "execution_count": 25,
   "id": "894f0f04",
   "metadata": {
    "execution": {
     "iopub.execute_input": "2021-04-04T23:19:29.217650Z",
     "iopub.status.busy": "2021-04-04T23:19:29.216923Z",
     "iopub.status.idle": "2021-04-04T23:19:29.219173Z",
     "shell.execute_reply": "2021-04-04T23:19:29.219787Z"
    },
    "papermill": {
     "duration": 0.037682,
     "end_time": "2021-04-04T23:19:29.219950",
     "exception": false,
     "start_time": "2021-04-04T23:19:29.182268",
     "status": "completed"
    },
    "tags": []
   },
   "outputs": [],
   "source": [
    "from sklearn.metrics import f1_score"
   ]
  },
  {
   "cell_type": "code",
   "execution_count": 26,
   "id": "211744d3",
   "metadata": {
    "execution": {
     "iopub.execute_input": "2021-04-04T23:19:29.277331Z",
     "iopub.status.busy": "2021-04-04T23:19:29.276408Z",
     "iopub.status.idle": "2021-04-04T23:19:29.279417Z",
     "shell.execute_reply": "2021-04-04T23:19:29.278707Z"
    },
    "papermill": {
     "duration": 0.033605,
     "end_time": "2021-04-04T23:19:29.279559",
     "exception": false,
     "start_time": "2021-04-04T23:19:29.245954",
     "status": "completed"
    },
    "tags": []
   },
   "outputs": [],
   "source": [
    "y_test = y_test.replace([0, 1], [1, -1])"
   ]
  },
  {
   "cell_type": "code",
   "execution_count": 27,
   "id": "d68a9204",
   "metadata": {
    "execution": {
     "iopub.execute_input": "2021-04-04T23:19:29.338645Z",
     "iopub.status.busy": "2021-04-04T23:19:29.337871Z",
     "iopub.status.idle": "2021-04-04T23:19:29.339727Z",
     "shell.execute_reply": "2021-04-04T23:19:29.340199Z"
    },
    "papermill": {
     "duration": 0.036029,
     "end_time": "2021-04-04T23:19:29.340347",
     "exception": false,
     "start_time": "2021-04-04T23:19:29.304318",
     "status": "completed"
    },
    "tags": []
   },
   "outputs": [],
   "source": [
    "def evaluate(truths, predictions, pos_label, neg_label):\n",
    "    TP = 0\n",
    "    FP = 0\n",
    "    TN = 0\n",
    "    FN = 0\n",
    "\n",
    "    for truth, pred in zip(truths, predictions): \n",
    "        if truth == pred == pos_label:\n",
    "           TP += 1\n",
    "        elif pred == pos_label and truth == neg_label:\n",
    "           FP += 1\n",
    "        elif truth == pred == neg_label:\n",
    "           TN += 1\n",
    "        elif pred == neg_label and truth == pos_label:\n",
    "           FN += 1\n",
    "\n",
    "    precision = TP / (TP + FP)\n",
    "    sensitivity = TP / (TP + FN)\n",
    "    \n",
    "    return {\n",
    "        'true_pos': TP,\n",
    "        'false_pos': FP,\n",
    "        'false_neg': FN,\n",
    "        'true_neg': TN,\n",
    "        'precision': precision,\n",
    "        'sensitivity': sensitivity,\n",
    "        'f1': (2 * (precision * sensitivity)) / (precision + sensitivity)\n",
    "    }\n",
    "\n",
    "score = evaluate(y_test, predictions, pos_label=-1, neg_label=1)"
   ]
  },
  {
   "cell_type": "markdown",
   "id": "93596516",
   "metadata": {
    "papermill": {
     "duration": 0.027416,
     "end_time": "2021-04-04T23:19:29.398097",
     "exception": false,
     "start_time": "2021-04-04T23:19:29.370681",
     "status": "completed"
    },
    "tags": []
   },
   "source": [
    "# Report"
   ]
  },
  {
   "cell_type": "code",
   "execution_count": 28,
   "id": "bea5fba1",
   "metadata": {
    "execution": {
     "iopub.execute_input": "2021-04-04T23:19:29.461897Z",
     "iopub.status.busy": "2021-04-04T23:19:29.460875Z",
     "iopub.status.idle": "2021-04-04T23:19:29.464199Z",
     "shell.execute_reply": "2021-04-04T23:19:29.465137Z"
    },
    "papermill": {
     "duration": 0.040607,
     "end_time": "2021-04-04T23:19:29.465627",
     "exception": false,
     "start_time": "2021-04-04T23:19:29.425020",
     "status": "completed"
    },
    "tags": []
   },
   "outputs": [],
   "source": [
    "import csv\n",
    "\n",
    "\n",
    "dataset_config_name = DATASET_CONFIG_PATH.split('/')[-1].split('.')[0]\n",
    "model_config_name = MODEL_CONFIG_PATH.split('/')[-1].split('.')[0]\n",
    "configuration = f\"dataset_{dataset_config_name}-model_{model_config_name}\"\n",
    "\n",
    "with open('results.csv', 'a') as f:\n",
    "    report = dict({'configuration': configuration}, **score)\n",
    "    writer = csv.DictWriter(f, report.keys())\n",
    "    writer.writerow(report)"
   ]
  }
 ],
 "metadata": {
  "celltoolbar": "Tags",
  "kernelspec": {
   "display_name": "Python 3",
   "language": "python",
   "name": "python3"
  },
  "language_info": {
   "codemirror_mode": {
    "name": "ipython",
    "version": 3
   },
   "file_extension": ".py",
   "mimetype": "text/x-python",
   "name": "python",
   "nbconvert_exporter": "python",
   "pygments_lexer": "ipython3",
   "version": "3.9.1"
  },
  "papermill": {
   "default_parameters": {},
   "duration": 7.063757,
   "end_time": "2021-04-04T23:19:30.990580",
   "environment_variables": {},
   "exception": null,
   "input_path": "main.ipynb",
   "output_path": "runs/dataset_000117-model_000003.ipynb",
   "parameters": {
    "DATASET_CONFIG_PATH": "config/dataset/000117.json",
    "MODEL_CONFIG_PATH": "config/model/000003.json",
    "PROFILE_REPORTING": false
   },
   "start_time": "2021-04-04T23:19:23.926823",
   "version": "2.3.3"
  }
 },
 "nbformat": 4,
 "nbformat_minor": 5
}