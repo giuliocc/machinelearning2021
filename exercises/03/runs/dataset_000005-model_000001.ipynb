{
 "cells": [
  {
   "cell_type": "markdown",
   "id": "4588efca",
   "metadata": {
    "papermill": {
     "duration": 0.025493,
     "end_time": "2021-04-04T22:23:17.192745",
     "exception": false,
     "start_time": "2021-04-04T22:23:17.167252",
     "status": "completed"
    },
    "tags": []
   },
   "source": [
    "# Parametrizing"
   ]
  },
  {
   "cell_type": "code",
   "execution_count": 1,
   "id": "5964d9c0",
   "metadata": {
    "execution": {
     "iopub.execute_input": "2021-04-04T22:23:17.245369Z",
     "iopub.status.busy": "2021-04-04T22:23:17.240824Z",
     "iopub.status.idle": "2021-04-04T22:23:17.249159Z",
     "shell.execute_reply": "2021-04-04T22:23:17.248288Z"
    },
    "papermill": {
     "duration": 0.037407,
     "end_time": "2021-04-04T22:23:17.249324",
     "exception": false,
     "start_time": "2021-04-04T22:23:17.211917",
     "status": "completed"
    },
    "tags": [
     "parameters"
    ]
   },
   "outputs": [],
   "source": [
    "DATASET_CONFIG_PATH = 'config/dataset/kc1_001.json'\n",
    "MODEL_CONFIG_PATH = 'config/model/knndd_001.json'\n",
    "PROFILE_REPORTING = False"
   ]
  },
  {
   "cell_type": "code",
   "execution_count": 2,
   "id": "a6369fe8",
   "metadata": {
    "execution": {
     "iopub.execute_input": "2021-04-04T22:23:17.300801Z",
     "iopub.status.busy": "2021-04-04T22:23:17.299381Z",
     "iopub.status.idle": "2021-04-04T22:23:17.303487Z",
     "shell.execute_reply": "2021-04-04T22:23:17.302458Z"
    },
    "papermill": {
     "duration": 0.030082,
     "end_time": "2021-04-04T22:23:17.303687",
     "exception": false,
     "start_time": "2021-04-04T22:23:17.273605",
     "status": "completed"
    },
    "tags": [
     "injected-parameters"
    ]
   },
   "outputs": [],
   "source": [
    "# Parameters\n",
    "DATASET_CONFIG_PATH = \"config/dataset/000005.json\"\n",
    "MODEL_CONFIG_PATH = \"config/model/000001.json\"\n",
    "PROFILE_REPORTING = False\n"
   ]
  },
  {
   "cell_type": "code",
   "execution_count": 3,
   "id": "3fa67035",
   "metadata": {
    "execution": {
     "iopub.execute_input": "2021-04-04T22:23:17.355848Z",
     "iopub.status.busy": "2021-04-04T22:23:17.354319Z",
     "iopub.status.idle": "2021-04-04T22:23:17.359642Z",
     "shell.execute_reply": "2021-04-04T22:23:17.359039Z"
    },
    "papermill": {
     "duration": 0.033592,
     "end_time": "2021-04-04T22:23:17.359779",
     "exception": false,
     "start_time": "2021-04-04T22:23:17.326187",
     "status": "completed"
    },
    "tags": []
   },
   "outputs": [],
   "source": [
    "import json\n",
    "\n",
    "\n",
    "with open(DATASET_CONFIG_PATH) as f:\n",
    "    dataset_config = json.load(f)\n",
    "\n",
    "with open(MODEL_CONFIG_PATH) as f:\n",
    "    model_config = json.load(f)"
   ]
  },
  {
   "cell_type": "markdown",
   "id": "9a4b0e2d",
   "metadata": {
    "papermill": {
     "duration": 0.01968,
     "end_time": "2021-04-04T22:23:17.402279",
     "exception": false,
     "start_time": "2021-04-04T22:23:17.382599",
     "status": "completed"
    },
    "tags": []
   },
   "source": [
    "# Profiling"
   ]
  },
  {
   "cell_type": "code",
   "execution_count": 4,
   "id": "a3e0289b",
   "metadata": {
    "execution": {
     "iopub.execute_input": "2021-04-04T22:23:17.445425Z",
     "iopub.status.busy": "2021-04-04T22:23:17.444813Z",
     "iopub.status.idle": "2021-04-04T22:23:18.687113Z",
     "shell.execute_reply": "2021-04-04T22:23:18.688014Z"
    },
    "papermill": {
     "duration": 1.266731,
     "end_time": "2021-04-04T22:23:18.688261",
     "exception": false,
     "start_time": "2021-04-04T22:23:17.421530",
     "status": "completed"
    },
    "tags": []
   },
   "outputs": [],
   "source": [
    "import pandas as pd\n",
    "from pandas_profiling import ProfileReport"
   ]
  },
  {
   "cell_type": "code",
   "execution_count": 5,
   "id": "ee6c0666",
   "metadata": {
    "execution": {
     "iopub.execute_input": "2021-04-04T22:23:18.742424Z",
     "iopub.status.busy": "2021-04-04T22:23:18.740749Z",
     "iopub.status.idle": "2021-04-04T22:23:18.758104Z",
     "shell.execute_reply": "2021-04-04T22:23:18.759013Z"
    },
    "papermill": {
     "duration": 0.046817,
     "end_time": "2021-04-04T22:23:18.759293",
     "exception": false,
     "start_time": "2021-04-04T22:23:18.712476",
     "status": "completed"
    },
    "tags": []
   },
   "outputs": [],
   "source": [
    "df = pd.read_csv(dataset_config['dataset_path'])"
   ]
  },
  {
   "cell_type": "code",
   "execution_count": 6,
   "id": "20d45671",
   "metadata": {
    "execution": {
     "iopub.execute_input": "2021-04-04T22:23:18.810977Z",
     "iopub.status.busy": "2021-04-04T22:23:18.809999Z",
     "iopub.status.idle": "2021-04-04T22:23:18.826602Z",
     "shell.execute_reply": "2021-04-04T22:23:18.825551Z"
    },
    "papermill": {
     "duration": 0.043329,
     "end_time": "2021-04-04T22:23:18.826847",
     "exception": false,
     "start_time": "2021-04-04T22:23:18.783518",
     "status": "completed"
    },
    "tags": []
   },
   "outputs": [
    {
     "name": "stdout",
     "output_type": "stream",
     "text": [
      "<class 'pandas.core.frame.DataFrame'>\n",
      "RangeIndex: 2109 entries, 0 to 2108\n",
      "Data columns (total 23 columns):\n",
      " #   Column             Non-Null Count  Dtype  \n",
      "---  ------             --------------  -----  \n",
      " 0   id                 2109 non-null   int64  \n",
      " 1   loc                2109 non-null   float64\n",
      " 2   v(g)               2109 non-null   float64\n",
      " 3   ev(g)              2109 non-null   float64\n",
      " 4   iv(g)              2109 non-null   float64\n",
      " 5   n                  2109 non-null   float64\n",
      " 6   v                  2109 non-null   float64\n",
      " 7   l                  2109 non-null   float64\n",
      " 8   d                  2109 non-null   float64\n",
      " 9   i                  2109 non-null   float64\n",
      " 10  e                  2109 non-null   float64\n",
      " 11  b                  2109 non-null   float64\n",
      " 12  t                  2109 non-null   float64\n",
      " 13  lOCode             2109 non-null   int64  \n",
      " 14  lOComment          2109 non-null   int64  \n",
      " 15  lOBlank            2109 non-null   int64  \n",
      " 16  locCodeAndComment  2109 non-null   int64  \n",
      " 17  uniq_Op            2109 non-null   float64\n",
      " 18  uniq_Opnd          2109 non-null   float64\n",
      " 19  total_Op           2109 non-null   float64\n",
      " 20  total_Opnd         2109 non-null   float64\n",
      " 21  branchCount        2109 non-null   float64\n",
      " 22  defects            2109 non-null   bool   \n",
      "dtypes: bool(1), float64(17), int64(5)\n",
      "memory usage: 364.7 KB\n"
     ]
    }
   ],
   "source": [
    "df.info()"
   ]
  },
  {
   "cell_type": "code",
   "execution_count": 7,
   "id": "a676db33",
   "metadata": {
    "execution": {
     "iopub.execute_input": "2021-04-04T22:23:18.893224Z",
     "iopub.status.busy": "2021-04-04T22:23:18.887124Z",
     "iopub.status.idle": "2021-04-04T22:23:18.913516Z",
     "shell.execute_reply": "2021-04-04T22:23:18.913993Z"
    },
    "papermill": {
     "duration": 0.058047,
     "end_time": "2021-04-04T22:23:18.914141",
     "exception": false,
     "start_time": "2021-04-04T22:23:18.856094",
     "status": "completed"
    },
    "tags": []
   },
   "outputs": [
    {
     "data": {
      "text/html": [
       "<div>\n",
       "<style scoped>\n",
       "    .dataframe tbody tr th:only-of-type {\n",
       "        vertical-align: middle;\n",
       "    }\n",
       "\n",
       "    .dataframe tbody tr th {\n",
       "        vertical-align: top;\n",
       "    }\n",
       "\n",
       "    .dataframe thead th {\n",
       "        text-align: right;\n",
       "    }\n",
       "</style>\n",
       "<table border=\"1\" class=\"dataframe\">\n",
       "  <thead>\n",
       "    <tr style=\"text-align: right;\">\n",
       "      <th></th>\n",
       "      <th>id</th>\n",
       "      <th>loc</th>\n",
       "      <th>v(g)</th>\n",
       "      <th>ev(g)</th>\n",
       "      <th>iv(g)</th>\n",
       "      <th>n</th>\n",
       "      <th>v</th>\n",
       "      <th>l</th>\n",
       "      <th>d</th>\n",
       "      <th>i</th>\n",
       "      <th>...</th>\n",
       "      <th>lOCode</th>\n",
       "      <th>lOComment</th>\n",
       "      <th>lOBlank</th>\n",
       "      <th>locCodeAndComment</th>\n",
       "      <th>uniq_Op</th>\n",
       "      <th>uniq_Opnd</th>\n",
       "      <th>total_Op</th>\n",
       "      <th>total_Opnd</th>\n",
       "      <th>branchCount</th>\n",
       "      <th>defects</th>\n",
       "    </tr>\n",
       "  </thead>\n",
       "  <tbody>\n",
       "    <tr>\n",
       "      <th>0</th>\n",
       "      <td>1</td>\n",
       "      <td>1.1</td>\n",
       "      <td>1.4</td>\n",
       "      <td>1.4</td>\n",
       "      <td>1.4</td>\n",
       "      <td>1.3</td>\n",
       "      <td>1.30</td>\n",
       "      <td>1.30</td>\n",
       "      <td>1.30</td>\n",
       "      <td>1.30</td>\n",
       "      <td>...</td>\n",
       "      <td>2</td>\n",
       "      <td>2</td>\n",
       "      <td>2</td>\n",
       "      <td>2</td>\n",
       "      <td>1.2</td>\n",
       "      <td>1.2</td>\n",
       "      <td>1.2</td>\n",
       "      <td>1.2</td>\n",
       "      <td>1.4</td>\n",
       "      <td>False</td>\n",
       "    </tr>\n",
       "    <tr>\n",
       "      <th>1</th>\n",
       "      <td>2</td>\n",
       "      <td>1.0</td>\n",
       "      <td>1.0</td>\n",
       "      <td>1.0</td>\n",
       "      <td>1.0</td>\n",
       "      <td>1.0</td>\n",
       "      <td>1.00</td>\n",
       "      <td>1.00</td>\n",
       "      <td>1.00</td>\n",
       "      <td>1.00</td>\n",
       "      <td>...</td>\n",
       "      <td>1</td>\n",
       "      <td>1</td>\n",
       "      <td>1</td>\n",
       "      <td>1</td>\n",
       "      <td>1.0</td>\n",
       "      <td>1.0</td>\n",
       "      <td>1.0</td>\n",
       "      <td>1.0</td>\n",
       "      <td>1.0</td>\n",
       "      <td>True</td>\n",
       "    </tr>\n",
       "    <tr>\n",
       "      <th>2</th>\n",
       "      <td>3</td>\n",
       "      <td>83.0</td>\n",
       "      <td>11.0</td>\n",
       "      <td>1.0</td>\n",
       "      <td>11.0</td>\n",
       "      <td>171.0</td>\n",
       "      <td>927.89</td>\n",
       "      <td>0.04</td>\n",
       "      <td>23.04</td>\n",
       "      <td>40.27</td>\n",
       "      <td>...</td>\n",
       "      <td>65</td>\n",
       "      <td>10</td>\n",
       "      <td>6</td>\n",
       "      <td>0</td>\n",
       "      <td>18.0</td>\n",
       "      <td>25.0</td>\n",
       "      <td>107.0</td>\n",
       "      <td>64.0</td>\n",
       "      <td>21.0</td>\n",
       "      <td>True</td>\n",
       "    </tr>\n",
       "    <tr>\n",
       "      <th>3</th>\n",
       "      <td>4</td>\n",
       "      <td>46.0</td>\n",
       "      <td>8.0</td>\n",
       "      <td>6.0</td>\n",
       "      <td>8.0</td>\n",
       "      <td>141.0</td>\n",
       "      <td>769.78</td>\n",
       "      <td>0.07</td>\n",
       "      <td>14.86</td>\n",
       "      <td>51.81</td>\n",
       "      <td>...</td>\n",
       "      <td>37</td>\n",
       "      <td>2</td>\n",
       "      <td>5</td>\n",
       "      <td>0</td>\n",
       "      <td>16.0</td>\n",
       "      <td>28.0</td>\n",
       "      <td>89.0</td>\n",
       "      <td>52.0</td>\n",
       "      <td>15.0</td>\n",
       "      <td>True</td>\n",
       "    </tr>\n",
       "    <tr>\n",
       "      <th>4</th>\n",
       "      <td>5</td>\n",
       "      <td>25.0</td>\n",
       "      <td>3.0</td>\n",
       "      <td>1.0</td>\n",
       "      <td>3.0</td>\n",
       "      <td>58.0</td>\n",
       "      <td>254.75</td>\n",
       "      <td>0.11</td>\n",
       "      <td>9.35</td>\n",
       "      <td>27.25</td>\n",
       "      <td>...</td>\n",
       "      <td>21</td>\n",
       "      <td>0</td>\n",
       "      <td>2</td>\n",
       "      <td>0</td>\n",
       "      <td>11.0</td>\n",
       "      <td>10.0</td>\n",
       "      <td>41.0</td>\n",
       "      <td>17.0</td>\n",
       "      <td>5.0</td>\n",
       "      <td>True</td>\n",
       "    </tr>\n",
       "  </tbody>\n",
       "</table>\n",
       "<p>5 rows × 23 columns</p>\n",
       "</div>"
      ],
      "text/plain": [
       "   id   loc  v(g)  ev(g)  iv(g)      n       v     l      d      i  ...  \\\n",
       "0   1   1.1   1.4    1.4    1.4    1.3    1.30  1.30   1.30   1.30  ...   \n",
       "1   2   1.0   1.0    1.0    1.0    1.0    1.00  1.00   1.00   1.00  ...   \n",
       "2   3  83.0  11.0    1.0   11.0  171.0  927.89  0.04  23.04  40.27  ...   \n",
       "3   4  46.0   8.0    6.0    8.0  141.0  769.78  0.07  14.86  51.81  ...   \n",
       "4   5  25.0   3.0    1.0    3.0   58.0  254.75  0.11   9.35  27.25  ...   \n",
       "\n",
       "   lOCode  lOComment  lOBlank  locCodeAndComment  uniq_Op  uniq_Opnd  \\\n",
       "0       2          2        2                  2      1.2        1.2   \n",
       "1       1          1        1                  1      1.0        1.0   \n",
       "2      65         10        6                  0     18.0       25.0   \n",
       "3      37          2        5                  0     16.0       28.0   \n",
       "4      21          0        2                  0     11.0       10.0   \n",
       "\n",
       "   total_Op  total_Opnd  branchCount  defects  \n",
       "0       1.2         1.2          1.4    False  \n",
       "1       1.0         1.0          1.0     True  \n",
       "2     107.0        64.0         21.0     True  \n",
       "3      89.0        52.0         15.0     True  \n",
       "4      41.0        17.0          5.0     True  \n",
       "\n",
       "[5 rows x 23 columns]"
      ]
     },
     "execution_count": 7,
     "metadata": {},
     "output_type": "execute_result"
    }
   ],
   "source": [
    "df.head()"
   ]
  },
  {
   "cell_type": "code",
   "execution_count": 8,
   "id": "dd6aa244",
   "metadata": {
    "execution": {
     "iopub.execute_input": "2021-04-04T22:23:18.963290Z",
     "iopub.status.busy": "2021-04-04T22:23:18.961985Z",
     "iopub.status.idle": "2021-04-04T22:23:18.964625Z",
     "shell.execute_reply": "2021-04-04T22:23:18.965303Z"
    },
    "papermill": {
     "duration": 0.029602,
     "end_time": "2021-04-04T22:23:18.965504",
     "exception": false,
     "start_time": "2021-04-04T22:23:18.935902",
     "status": "completed"
    },
    "tags": []
   },
   "outputs": [],
   "source": [
    "del df['id']"
   ]
  },
  {
   "cell_type": "code",
   "execution_count": 9,
   "id": "6ff6f5b0",
   "metadata": {
    "execution": {
     "iopub.execute_input": "2021-04-04T22:23:19.021222Z",
     "iopub.status.busy": "2021-04-04T22:23:19.019875Z",
     "iopub.status.idle": "2021-04-04T22:23:19.023031Z",
     "shell.execute_reply": "2021-04-04T22:23:19.023805Z"
    },
    "papermill": {
     "duration": 0.030983,
     "end_time": "2021-04-04T22:23:19.024029",
     "exception": false,
     "start_time": "2021-04-04T22:23:18.993046",
     "status": "completed"
    },
    "tags": []
   },
   "outputs": [],
   "source": [
    "if PROFILE_REPORTING:\n",
    "    ProfileReport(df).to_widgets()"
   ]
  },
  {
   "cell_type": "markdown",
   "id": "1deaf3f0",
   "metadata": {
    "papermill": {
     "duration": 0.020602,
     "end_time": "2021-04-04T22:23:19.071460",
     "exception": false,
     "start_time": "2021-04-04T22:23:19.050858",
     "status": "completed"
    },
    "tags": []
   },
   "source": [
    "# Preprocess"
   ]
  },
  {
   "cell_type": "code",
   "execution_count": 10,
   "id": "9153b2bb",
   "metadata": {
    "execution": {
     "iopub.execute_input": "2021-04-04T22:23:19.120048Z",
     "iopub.status.busy": "2021-04-04T22:23:19.119447Z",
     "iopub.status.idle": "2021-04-04T22:23:19.121892Z",
     "shell.execute_reply": "2021-04-04T22:23:19.122358Z"
    },
    "papermill": {
     "duration": 0.029187,
     "end_time": "2021-04-04T22:23:19.122506",
     "exception": false,
     "start_time": "2021-04-04T22:23:19.093319",
     "status": "completed"
    },
    "tags": []
   },
   "outputs": [],
   "source": [
    "working_df = df.copy()"
   ]
  },
  {
   "cell_type": "code",
   "execution_count": 11,
   "id": "3b26d675",
   "metadata": {
    "execution": {
     "iopub.execute_input": "2021-04-04T22:23:19.171836Z",
     "iopub.status.busy": "2021-04-04T22:23:19.171161Z",
     "iopub.status.idle": "2021-04-04T22:23:19.174413Z",
     "shell.execute_reply": "2021-04-04T22:23:19.175133Z"
    },
    "papermill": {
     "duration": 0.0316,
     "end_time": "2021-04-04T22:23:19.175343",
     "exception": false,
     "start_time": "2021-04-04T22:23:19.143743",
     "status": "completed"
    },
    "tags": []
   },
   "outputs": [],
   "source": [
    "working_df['defects'] = working_df['defects'].replace([False, True], [0, 1])"
   ]
  },
  {
   "cell_type": "code",
   "execution_count": 12,
   "id": "5f306c3e",
   "metadata": {
    "execution": {
     "iopub.execute_input": "2021-04-04T22:23:19.231743Z",
     "iopub.status.busy": "2021-04-04T22:23:19.230918Z",
     "iopub.status.idle": "2021-04-04T22:23:19.233142Z",
     "shell.execute_reply": "2021-04-04T22:23:19.233614Z"
    },
    "papermill": {
     "duration": 0.029325,
     "end_time": "2021-04-04T22:23:19.233766",
     "exception": false,
     "start_time": "2021-04-04T22:23:19.204441",
     "status": "completed"
    },
    "tags": []
   },
   "outputs": [],
   "source": [
    "for col in dataset_config['delete_columns']:\n",
    "    del working_df[col]"
   ]
  },
  {
   "cell_type": "code",
   "execution_count": 13,
   "id": "a55074fa",
   "metadata": {
    "execution": {
     "iopub.execute_input": "2021-04-04T22:23:19.283730Z",
     "iopub.status.busy": "2021-04-04T22:23:19.282768Z",
     "iopub.status.idle": "2021-04-04T22:23:19.298724Z",
     "shell.execute_reply": "2021-04-04T22:23:19.297978Z"
    },
    "papermill": {
     "duration": 0.042982,
     "end_time": "2021-04-04T22:23:19.298893",
     "exception": false,
     "start_time": "2021-04-04T22:23:19.255911",
     "status": "completed"
    },
    "tags": []
   },
   "outputs": [],
   "source": [
    "working_df = working_df.drop_duplicates()"
   ]
  },
  {
   "cell_type": "markdown",
   "id": "a4d52ca6",
   "metadata": {
    "papermill": {
     "duration": 0.025032,
     "end_time": "2021-04-04T22:23:19.348216",
     "exception": false,
     "start_time": "2021-04-04T22:23:19.323184",
     "status": "completed"
    },
    "tags": []
   },
   "source": [
    "# Split"
   ]
  },
  {
   "cell_type": "code",
   "execution_count": 14,
   "id": "3e9ee4b5",
   "metadata": {
    "execution": {
     "iopub.execute_input": "2021-04-04T22:23:19.399154Z",
     "iopub.status.busy": "2021-04-04T22:23:19.398546Z",
     "iopub.status.idle": "2021-04-04T22:23:19.425805Z",
     "shell.execute_reply": "2021-04-04T22:23:19.426263Z"
    },
    "papermill": {
     "duration": 0.053281,
     "end_time": "2021-04-04T22:23:19.426415",
     "exception": false,
     "start_time": "2021-04-04T22:23:19.373134",
     "status": "completed"
    },
    "tags": []
   },
   "outputs": [],
   "source": [
    "from sklearn.model_selection import train_test_split"
   ]
  },
  {
   "cell_type": "code",
   "execution_count": 15,
   "id": "274004ce",
   "metadata": {
    "execution": {
     "iopub.execute_input": "2021-04-04T22:23:19.479593Z",
     "iopub.status.busy": "2021-04-04T22:23:19.478893Z",
     "iopub.status.idle": "2021-04-04T22:23:19.483522Z",
     "shell.execute_reply": "2021-04-04T22:23:19.484095Z"
    },
    "papermill": {
     "duration": 0.034818,
     "end_time": "2021-04-04T22:23:19.484242",
     "exception": false,
     "start_time": "2021-04-04T22:23:19.449424",
     "status": "completed"
    },
    "scrolled": true,
    "tags": []
   },
   "outputs": [],
   "source": [
    "inlier, outlier = working_df[working_df['defects'] == 0], working_df[working_df['defects'] == 1]"
   ]
  },
  {
   "cell_type": "code",
   "execution_count": 16,
   "id": "753c7b03",
   "metadata": {
    "execution": {
     "iopub.execute_input": "2021-04-04T22:23:19.534420Z",
     "iopub.status.busy": "2021-04-04T22:23:19.532669Z",
     "iopub.status.idle": "2021-04-04T22:23:19.536842Z",
     "shell.execute_reply": "2021-04-04T22:23:19.536232Z"
    },
    "papermill": {
     "duration": 0.030379,
     "end_time": "2021-04-04T22:23:19.536964",
     "exception": false,
     "start_time": "2021-04-04T22:23:19.506585",
     "status": "completed"
    },
    "tags": []
   },
   "outputs": [],
   "source": [
    "X_inlier = inlier.copy()\n",
    "y_inlier = X_inlier.pop('defects')\n",
    "X_outlier = outlier.copy()\n",
    "y_outlier = X_outlier.pop('defects')"
   ]
  },
  {
   "cell_type": "code",
   "execution_count": 17,
   "id": "2ba43193",
   "metadata": {
    "execution": {
     "iopub.execute_input": "2021-04-04T22:23:19.590232Z",
     "iopub.status.busy": "2021-04-04T22:23:19.589621Z",
     "iopub.status.idle": "2021-04-04T22:23:19.591658Z",
     "shell.execute_reply": "2021-04-04T22:23:19.592145Z"
    },
    "papermill": {
     "duration": 0.032204,
     "end_time": "2021-04-04T22:23:19.592299",
     "exception": false,
     "start_time": "2021-04-04T22:23:19.560095",
     "status": "completed"
    },
    "tags": []
   },
   "outputs": [],
   "source": [
    "test_size = dataset_config['test_size']\n",
    "random_state = dataset_config['random_state']\n",
    "\n",
    "X_inlier_train, X_inlier_test, y_inlier_train, y_inlier_test = train_test_split(\n",
    "    X_inlier,\n",
    "    y_inlier,\n",
    "    test_size=test_size,\n",
    "    random_state=random_state\n",
    ")"
   ]
  },
  {
   "cell_type": "code",
   "execution_count": 18,
   "id": "c8b58ec3",
   "metadata": {
    "execution": {
     "iopub.execute_input": "2021-04-04T22:23:19.646665Z",
     "iopub.status.busy": "2021-04-04T22:23:19.645890Z",
     "iopub.status.idle": "2021-04-04T22:23:19.648528Z",
     "shell.execute_reply": "2021-04-04T22:23:19.647996Z"
    },
    "papermill": {
     "duration": 0.033089,
     "end_time": "2021-04-04T22:23:19.648653",
     "exception": false,
     "start_time": "2021-04-04T22:23:19.615564",
     "status": "completed"
    },
    "tags": []
   },
   "outputs": [],
   "source": [
    "test_outlier_size = dataset_config['test_outlier_size']\n",
    "if test_outlier_size > 0.0:\n",
    "    X_outlier_train, X_outlier_test, y_outlier_train, y_outlier_test = train_test_split(\n",
    "        X_outlier,\n",
    "        y_outlier,\n",
    "        test_size=test_outlier_size,\n",
    "        random_state=random_state\n",
    "    )\n",
    "else:\n",
    "    X_outlier_train, y_outlier_train = pd.DataFrame(columns=X_outlier.columns), pd.Series(dtype='int64')\n",
    "    X_outlier_test, y_outlier_test = X_outlier.copy(), y_outlier.copy()"
   ]
  },
  {
   "cell_type": "code",
   "execution_count": 19,
   "id": "95991685",
   "metadata": {
    "execution": {
     "iopub.execute_input": "2021-04-04T22:23:19.705527Z",
     "iopub.status.busy": "2021-04-04T22:23:19.704241Z",
     "iopub.status.idle": "2021-04-04T22:23:19.707995Z",
     "shell.execute_reply": "2021-04-04T22:23:19.707430Z"
    },
    "papermill": {
     "duration": 0.035553,
     "end_time": "2021-04-04T22:23:19.708130",
     "exception": false,
     "start_time": "2021-04-04T22:23:19.672577",
     "status": "completed"
    },
    "tags": []
   },
   "outputs": [],
   "source": [
    "X_train, y_train = pd.concat([X_inlier_train, X_outlier_train], ignore_index=True), pd.concat([y_inlier_train, y_outlier_train], ignore_index=True)\n",
    "X_test, y_test = pd.concat([X_inlier_test, X_outlier_test], ignore_index=True), pd.concat([y_inlier_test, y_outlier_test], ignore_index=True)"
   ]
  },
  {
   "cell_type": "markdown",
   "id": "7cde7309",
   "metadata": {
    "papermill": {
     "duration": 0.024314,
     "end_time": "2021-04-04T22:23:19.759171",
     "exception": false,
     "start_time": "2021-04-04T22:23:19.734857",
     "status": "completed"
    },
    "tags": []
   },
   "source": [
    "# Model"
   ]
  },
  {
   "cell_type": "code",
   "execution_count": 20,
   "id": "a02c5c85",
   "metadata": {
    "execution": {
     "iopub.execute_input": "2021-04-04T22:23:19.819118Z",
     "iopub.status.busy": "2021-04-04T22:23:19.818491Z",
     "iopub.status.idle": "2021-04-04T22:23:19.820741Z",
     "shell.execute_reply": "2021-04-04T22:23:19.821206Z"
    },
    "papermill": {
     "duration": 0.039988,
     "end_time": "2021-04-04T22:23:19.821354",
     "exception": false,
     "start_time": "2021-04-04T22:23:19.781366",
     "status": "completed"
    },
    "tags": []
   },
   "outputs": [],
   "source": [
    "from math import sqrt\n",
    "\n",
    "\n",
    "class KNNDataDescription:\n",
    "    def __init__(self, k=5, outlier_threshold=1.0):\n",
    "        self.k = k\n",
    "        self.outlier_threshold = outlier_threshold\n",
    "        self.X = []\n",
    "    \n",
    "    def fit(self, X):\n",
    "        self.X = [features.to_list() for index, features in X.iterrows()]\n",
    "\n",
    "    def predict(self, entries):\n",
    "        return [self.predict_entry(features.to_list()) for index, features in entries.iterrows()]\n",
    "    \n",
    "    def predict_entry(self, entry):\n",
    "        kth_neighbor, kth_distance = self.get_kth_neighbor(entry, self.k)\n",
    "        kth_kth_neighbor, kth_kth_distance = self.get_kth_neighbor(kth_neighbor, self.k + 1)\n",
    "\n",
    "        outlier_score = kth_distance / (kth_kth_distance + 0.000001)\n",
    "\n",
    "        return 1 if outlier_score < self.outlier_threshold else -1\n",
    "        \n",
    "    def euclidean_distance(self, features1, features2):\n",
    "        distance = 0.0\n",
    "        for feat1, feat2 in zip(features1, features2):\n",
    "            distance += (feat1 - feat2)**2\n",
    "                \n",
    "        return sqrt(distance)\n",
    "\n",
    "    def get_neighbors(self, entry, k):\n",
    "        distance_to_data_points = [\n",
    "            (data_point, self.euclidean_distance(entry, data_point))\n",
    "            for data_point in self.X\n",
    "        ]\n",
    "        sorted_by_distance = sorted(distance_to_data_points, key=lambda tup: tup[1])\n",
    "        neighbors = sorted_by_distance[:k]\n",
    "        return neighbors\n",
    "\n",
    "    def get_kth_neighbor(self, entry, k):\n",
    "        neighbors = self.get_neighbors(entry, k)\n",
    "        return neighbors[-1]\n"
   ]
  },
  {
   "cell_type": "code",
   "execution_count": 21,
   "id": "1fa9ec1c",
   "metadata": {
    "execution": {
     "iopub.execute_input": "2021-04-04T22:23:19.873475Z",
     "iopub.status.busy": "2021-04-04T22:23:19.872402Z",
     "iopub.status.idle": "2021-04-04T22:23:19.900411Z",
     "shell.execute_reply": "2021-04-04T22:23:19.899316Z"
    },
    "papermill": {
     "duration": 0.055752,
     "end_time": "2021-04-04T22:23:19.900642",
     "exception": false,
     "start_time": "2021-04-04T22:23:19.844890",
     "status": "completed"
    },
    "tags": []
   },
   "outputs": [],
   "source": [
    "from sklearn.svm import OneClassSVM\n",
    "\n",
    "\n",
    "models = {\n",
    "    'oneclasssvm': OneClassSVM,\n",
    "    'knndatadescription': KNNDataDescription,\n",
    "}"
   ]
  },
  {
   "cell_type": "code",
   "execution_count": 22,
   "id": "4d72a0b1",
   "metadata": {
    "execution": {
     "iopub.execute_input": "2021-04-04T22:23:19.965682Z",
     "iopub.status.busy": "2021-04-04T22:23:19.964513Z",
     "iopub.status.idle": "2021-04-04T22:23:19.968032Z",
     "shell.execute_reply": "2021-04-04T22:23:19.967192Z"
    },
    "papermill": {
     "duration": 0.032722,
     "end_time": "2021-04-04T22:23:19.968199",
     "exception": false,
     "start_time": "2021-04-04T22:23:19.935477",
     "status": "completed"
    },
    "scrolled": true,
    "tags": []
   },
   "outputs": [],
   "source": [
    "model_cls = models[model_config['model_type']]\n",
    "model = model_cls(**model_config['hyperparameters'])"
   ]
  },
  {
   "cell_type": "markdown",
   "id": "e00cff3b",
   "metadata": {
    "papermill": {
     "duration": 0.022294,
     "end_time": "2021-04-04T22:23:20.019403",
     "exception": false,
     "start_time": "2021-04-04T22:23:19.997109",
     "status": "completed"
    },
    "tags": []
   },
   "source": [
    "# Fit"
   ]
  },
  {
   "cell_type": "code",
   "execution_count": 23,
   "id": "8b2ded89",
   "metadata": {
    "execution": {
     "iopub.execute_input": "2021-04-04T22:23:20.070832Z",
     "iopub.status.busy": "2021-04-04T22:23:20.069802Z",
     "iopub.status.idle": "2021-04-04T22:23:20.128356Z",
     "shell.execute_reply": "2021-04-04T22:23:20.129280Z"
    },
    "papermill": {
     "duration": 0.087615,
     "end_time": "2021-04-04T22:23:20.129540",
     "exception": false,
     "start_time": "2021-04-04T22:23:20.041925",
     "status": "completed"
    },
    "tags": []
   },
   "outputs": [],
   "source": [
    "model.fit(X_train)"
   ]
  },
  {
   "cell_type": "markdown",
   "id": "f99999f7",
   "metadata": {
    "papermill": {
     "duration": 0.022382,
     "end_time": "2021-04-04T22:23:20.188694",
     "exception": false,
     "start_time": "2021-04-04T22:23:20.166312",
     "status": "completed"
    },
    "tags": []
   },
   "source": [
    "# Predict"
   ]
  },
  {
   "cell_type": "code",
   "execution_count": 24,
   "id": "6536fbf7",
   "metadata": {
    "execution": {
     "iopub.execute_input": "2021-04-04T22:23:20.246494Z",
     "iopub.status.busy": "2021-04-04T22:23:20.245637Z",
     "iopub.status.idle": "2021-04-04T22:23:23.036864Z",
     "shell.execute_reply": "2021-04-04T22:23:23.035946Z"
    },
    "papermill": {
     "duration": 2.825449,
     "end_time": "2021-04-04T22:23:23.037068",
     "exception": false,
     "start_time": "2021-04-04T22:23:20.211619",
     "status": "completed"
    },
    "tags": []
   },
   "outputs": [],
   "source": [
    "predictions = model.predict(X_test)"
   ]
  },
  {
   "cell_type": "markdown",
   "id": "aa1c9881",
   "metadata": {
    "papermill": {
     "duration": 0.022425,
     "end_time": "2021-04-04T22:23:23.087420",
     "exception": false,
     "start_time": "2021-04-04T22:23:23.064995",
     "status": "completed"
    },
    "tags": []
   },
   "source": [
    "# Evaluate"
   ]
  },
  {
   "cell_type": "code",
   "execution_count": 25,
   "id": "894f0f04",
   "metadata": {
    "execution": {
     "iopub.execute_input": "2021-04-04T22:23:23.139232Z",
     "iopub.status.busy": "2021-04-04T22:23:23.138463Z",
     "iopub.status.idle": "2021-04-04T22:23:23.140740Z",
     "shell.execute_reply": "2021-04-04T22:23:23.141199Z"
    },
    "papermill": {
     "duration": 0.031229,
     "end_time": "2021-04-04T22:23:23.141356",
     "exception": false,
     "start_time": "2021-04-04T22:23:23.110127",
     "status": "completed"
    },
    "tags": []
   },
   "outputs": [],
   "source": [
    "from sklearn.metrics import f1_score"
   ]
  },
  {
   "cell_type": "code",
   "execution_count": 26,
   "id": "211744d3",
   "metadata": {
    "execution": {
     "iopub.execute_input": "2021-04-04T22:23:23.195000Z",
     "iopub.status.busy": "2021-04-04T22:23:23.194026Z",
     "iopub.status.idle": "2021-04-04T22:23:23.196819Z",
     "shell.execute_reply": "2021-04-04T22:23:23.197520Z"
    },
    "papermill": {
     "duration": 0.032368,
     "end_time": "2021-04-04T22:23:23.197721",
     "exception": false,
     "start_time": "2021-04-04T22:23:23.165353",
     "status": "completed"
    },
    "tags": []
   },
   "outputs": [],
   "source": [
    "y_test = y_test.replace([0, 1], [1, -1])"
   ]
  },
  {
   "cell_type": "code",
   "execution_count": 27,
   "id": "d68a9204",
   "metadata": {
    "execution": {
     "iopub.execute_input": "2021-04-04T22:23:23.262834Z",
     "iopub.status.busy": "2021-04-04T22:23:23.261906Z",
     "iopub.status.idle": "2021-04-04T22:23:23.264233Z",
     "shell.execute_reply": "2021-04-04T22:23:23.265008Z"
    },
    "papermill": {
     "duration": 0.038134,
     "end_time": "2021-04-04T22:23:23.265227",
     "exception": false,
     "start_time": "2021-04-04T22:23:23.227093",
     "status": "completed"
    },
    "tags": []
   },
   "outputs": [],
   "source": [
    "def evaluate(truths, predictions, pos_label, neg_label):\n",
    "    TP = 0\n",
    "    FP = 0\n",
    "    TN = 0\n",
    "    FN = 0\n",
    "\n",
    "    for truth, pred in zip(truths, predictions): \n",
    "        if truth == pred == pos_label:\n",
    "           TP += 1\n",
    "        elif pred == pos_label and truth == neg_label:\n",
    "           FP += 1\n",
    "        elif truth == pred == neg_label:\n",
    "           TN += 1\n",
    "        elif pred == neg_label and truth == pos_label:\n",
    "           FN += 1\n",
    "        else:\n",
    "            __import__(\"ipdb\").set_trace()\n",
    "\n",
    "    precision = TP / (TP + FP)\n",
    "    sensitivity = TP / (TP + FN)\n",
    "    \n",
    "    return {\n",
    "        'true_pos': TP,\n",
    "        'false_pos': FP,\n",
    "        'false_neg': FN,\n",
    "        'true_neg': TN,\n",
    "        'precision': precision,\n",
    "        'sensitivity': sensitivity,\n",
    "        'f1': (2 * (precision * sensitivity)) / (precision + sensitivity)\n",
    "    }\n",
    "\n",
    "score = evaluate(y_test, predictions, pos_label=-1, neg_label=1)"
   ]
  },
  {
   "cell_type": "markdown",
   "id": "246fa8c7",
   "metadata": {
    "papermill": {
     "duration": 0.023603,
     "end_time": "2021-04-04T22:23:23.316784",
     "exception": false,
     "start_time": "2021-04-04T22:23:23.293181",
     "status": "completed"
    },
    "tags": []
   },
   "source": [
    "# Report"
   ]
  },
  {
   "cell_type": "code",
   "execution_count": 28,
   "id": "cfb47f85",
   "metadata": {
    "execution": {
     "iopub.execute_input": "2021-04-04T22:23:23.376410Z",
     "iopub.status.busy": "2021-04-04T22:23:23.375672Z",
     "iopub.status.idle": "2021-04-04T22:23:23.379557Z",
     "shell.execute_reply": "2021-04-04T22:23:23.378951Z"
    },
    "papermill": {
     "duration": 0.039775,
     "end_time": "2021-04-04T22:23:23.379710",
     "exception": false,
     "start_time": "2021-04-04T22:23:23.339935",
     "status": "completed"
    },
    "tags": []
   },
   "outputs": [],
   "source": [
    "import csv\n",
    "\n",
    "\n",
    "dataset_config_name = DATASET_CONFIG_PATH.split('/')[-1].split('.')[0]\n",
    "model_config_name = MODEL_CONFIG_PATH.split('/')[-1].split('.')[0]\n",
    "configuration = f\"dataset_{dataset_config_name}-model_{model_config_name}\"\n",
    "\n",
    "with open('results.csv', 'a') as f:\n",
    "    report = dict({'configuration': configuration}, **score)\n",
    "    writer = csv.DictWriter(f, report.keys())\n",
    "    writer.writerow(report)"
   ]
  }
 ],
 "metadata": {
  "celltoolbar": "Tags",
  "kernelspec": {
   "display_name": "Python 3",
   "language": "python",
   "name": "python3"
  },
  "language_info": {
   "codemirror_mode": {
    "name": "ipython",
    "version": 3
   },
   "file_extension": ".py",
   "mimetype": "text/x-python",
   "name": "python",
   "nbconvert_exporter": "python",
   "pygments_lexer": "ipython3",
   "version": "3.9.1"
  },
  "papermill": {
   "default_parameters": {},
   "duration": 7.763801,
   "end_time": "2021-04-04T22:23:24.013432",
   "environment_variables": {},
   "exception": null,
   "input_path": "main.ipynb",
   "output_path": "runs/dataset_000005-model_000001.ipynb",
   "parameters": {
    "DATASET_CONFIG_PATH": "config/dataset/000005.json",
    "MODEL_CONFIG_PATH": "config/model/000001.json",
    "PROFILE_REPORTING": false
   },
   "start_time": "2021-04-04T22:23:16.249631",
   "version": "2.3.3"
  }
 },
 "nbformat": 4,
 "nbformat_minor": 5
}