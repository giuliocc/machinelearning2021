{
 "cells": [
  {
   "cell_type": "markdown",
   "id": "51c71c25",
   "metadata": {
    "papermill": {
     "duration": 0.024779,
     "end_time": "2021-04-04T23:09:18.584026",
     "exception": false,
     "start_time": "2021-04-04T23:09:18.559247",
     "status": "completed"
    },
    "tags": []
   },
   "source": [
    "# Parametrizing"
   ]
  },
  {
   "cell_type": "code",
   "execution_count": 1,
   "id": "3b136394",
   "metadata": {
    "execution": {
     "iopub.execute_input": "2021-04-04T23:09:18.636992Z",
     "iopub.status.busy": "2021-04-04T23:09:18.635991Z",
     "iopub.status.idle": "2021-04-04T23:09:18.639628Z",
     "shell.execute_reply": "2021-04-04T23:09:18.638680Z"
    },
    "papermill": {
     "duration": 0.03569,
     "end_time": "2021-04-04T23:09:18.639847",
     "exception": false,
     "start_time": "2021-04-04T23:09:18.604157",
     "status": "completed"
    },
    "tags": [
     "parameters"
    ]
   },
   "outputs": [],
   "source": [
    "DATASET_CONFIG_PATH = 'config/dataset/kc1_001.json'\n",
    "MODEL_CONFIG_PATH = 'config/model/knndd_001.json'\n",
    "PROFILE_REPORTING = False"
   ]
  },
  {
   "cell_type": "code",
   "execution_count": 2,
   "id": "057328ea",
   "metadata": {
    "execution": {
     "iopub.execute_input": "2021-04-04T23:09:18.691286Z",
     "iopub.status.busy": "2021-04-04T23:09:18.690675Z",
     "iopub.status.idle": "2021-04-04T23:09:18.692813Z",
     "shell.execute_reply": "2021-04-04T23:09:18.693301Z"
    },
    "papermill": {
     "duration": 0.02618,
     "end_time": "2021-04-04T23:09:18.693446",
     "exception": false,
     "start_time": "2021-04-04T23:09:18.667266",
     "status": "completed"
    },
    "tags": [
     "injected-parameters"
    ]
   },
   "outputs": [],
   "source": [
    "# Parameters\n",
    "DATASET_CONFIG_PATH = \"config/dataset/000091.json\"\n",
    "MODEL_CONFIG_PATH = \"config/model/000002.json\"\n",
    "PROFILE_REPORTING = False\n"
   ]
  },
  {
   "cell_type": "code",
   "execution_count": 3,
   "id": "b80f2a10",
   "metadata": {
    "execution": {
     "iopub.execute_input": "2021-04-04T23:09:18.739123Z",
     "iopub.status.busy": "2021-04-04T23:09:18.738118Z",
     "iopub.status.idle": "2021-04-04T23:09:18.741371Z",
     "shell.execute_reply": "2021-04-04T23:09:18.748301Z"
    },
    "papermill": {
     "duration": 0.035364,
     "end_time": "2021-04-04T23:09:18.748843",
     "exception": false,
     "start_time": "2021-04-04T23:09:18.713479",
     "status": "completed"
    },
    "tags": []
   },
   "outputs": [],
   "source": [
    "import json\n",
    "\n",
    "\n",
    "with open(DATASET_CONFIG_PATH) as f:\n",
    "    dataset_config = json.load(f)\n",
    "\n",
    "with open(MODEL_CONFIG_PATH) as f:\n",
    "    model_config = json.load(f)"
   ]
  },
  {
   "cell_type": "markdown",
   "id": "9a4b0e2d",
   "metadata": {
    "papermill": {
     "duration": 0.019357,
     "end_time": "2021-04-04T23:09:18.791382",
     "exception": false,
     "start_time": "2021-04-04T23:09:18.772025",
     "status": "completed"
    },
    "tags": []
   },
   "source": [
    "# Profiling"
   ]
  },
  {
   "cell_type": "code",
   "execution_count": 4,
   "id": "a3e0289b",
   "metadata": {
    "execution": {
     "iopub.execute_input": "2021-04-04T23:09:18.840771Z",
     "iopub.status.busy": "2021-04-04T23:09:18.839846Z",
     "iopub.status.idle": "2021-04-04T23:09:20.110162Z",
     "shell.execute_reply": "2021-04-04T23:09:20.109217Z"
    },
    "papermill": {
     "duration": 1.29624,
     "end_time": "2021-04-04T23:09:20.110327",
     "exception": false,
     "start_time": "2021-04-04T23:09:18.814087",
     "status": "completed"
    },
    "tags": []
   },
   "outputs": [],
   "source": [
    "import pandas as pd\n",
    "from pandas_profiling import ProfileReport"
   ]
  },
  {
   "cell_type": "code",
   "execution_count": 5,
   "id": "ee6c0666",
   "metadata": {
    "execution": {
     "iopub.execute_input": "2021-04-04T23:09:20.166230Z",
     "iopub.status.busy": "2021-04-04T23:09:20.165604Z",
     "iopub.status.idle": "2021-04-04T23:09:20.176563Z",
     "shell.execute_reply": "2021-04-04T23:09:20.175799Z"
    },
    "papermill": {
     "duration": 0.035738,
     "end_time": "2021-04-04T23:09:20.176731",
     "exception": false,
     "start_time": "2021-04-04T23:09:20.140993",
     "status": "completed"
    },
    "tags": []
   },
   "outputs": [],
   "source": [
    "df = pd.read_csv(dataset_config['dataset_path'])"
   ]
  },
  {
   "cell_type": "code",
   "execution_count": 6,
   "id": "7eca6c4a",
   "metadata": {
    "execution": {
     "iopub.execute_input": "2021-04-04T23:09:20.244468Z",
     "iopub.status.busy": "2021-04-04T23:09:20.242938Z",
     "iopub.status.idle": "2021-04-04T23:09:20.248513Z",
     "shell.execute_reply": "2021-04-04T23:09:20.247353Z"
    },
    "papermill": {
     "duration": 0.044273,
     "end_time": "2021-04-04T23:09:20.248715",
     "exception": false,
     "start_time": "2021-04-04T23:09:20.204442",
     "status": "completed"
    },
    "tags": []
   },
   "outputs": [
    {
     "name": "stdout",
     "output_type": "stream",
     "text": [
      "<class 'pandas.core.frame.DataFrame'>\n",
      "RangeIndex: 498 entries, 0 to 497\n",
      "Data columns (total 23 columns):\n",
      " #   Column             Non-Null Count  Dtype  \n",
      "---  ------             --------------  -----  \n",
      " 0   id                 498 non-null    int64  \n",
      " 1   loc                498 non-null    float64\n",
      " 2   v(g)               498 non-null    float64\n",
      " 3   ev(g)              498 non-null    float64\n",
      " 4   iv(g)              498 non-null    float64\n",
      " 5   n                  498 non-null    float64\n",
      " 6   v                  498 non-null    float64\n",
      " 7   l                  498 non-null    float64\n",
      " 8   d                  498 non-null    float64\n",
      " 9   i                  498 non-null    float64\n",
      " 10  e                  498 non-null    float64\n",
      " 11  b                  498 non-null    float64\n",
      " 12  t                  498 non-null    float64\n",
      " 13  lOCode             498 non-null    int64  \n",
      " 14  lOComment          498 non-null    int64  \n",
      " 15  lOBlank            498 non-null    int64  \n",
      " 16  locCodeAndComment  498 non-null    int64  \n",
      " 17  uniq_Op            498 non-null    float64\n",
      " 18  uniq_Opnd          498 non-null    float64\n",
      " 19  total_Op           498 non-null    float64\n",
      " 20  total_Opnd         498 non-null    float64\n",
      " 21  branchCount        498 non-null    float64\n",
      " 22  defects            498 non-null    bool   \n",
      "dtypes: bool(1), float64(17), int64(5)\n",
      "memory usage: 86.2 KB\n"
     ]
    }
   ],
   "source": [
    "df.info()"
   ]
  },
  {
   "cell_type": "code",
   "execution_count": 7,
   "id": "3638e5e8",
   "metadata": {
    "execution": {
     "iopub.execute_input": "2021-04-04T23:09:20.312588Z",
     "iopub.status.busy": "2021-04-04T23:09:20.306129Z",
     "iopub.status.idle": "2021-04-04T23:09:20.332463Z",
     "shell.execute_reply": "2021-04-04T23:09:20.333229Z"
    },
    "papermill": {
     "duration": 0.058126,
     "end_time": "2021-04-04T23:09:20.333440",
     "exception": false,
     "start_time": "2021-04-04T23:09:20.275314",
     "status": "completed"
    },
    "tags": []
   },
   "outputs": [
    {
     "data": {
      "text/html": [
       "<div>\n",
       "<style scoped>\n",
       "    .dataframe tbody tr th:only-of-type {\n",
       "        vertical-align: middle;\n",
       "    }\n",
       "\n",
       "    .dataframe tbody tr th {\n",
       "        vertical-align: top;\n",
       "    }\n",
       "\n",
       "    .dataframe thead th {\n",
       "        text-align: right;\n",
       "    }\n",
       "</style>\n",
       "<table border=\"1\" class=\"dataframe\">\n",
       "  <thead>\n",
       "    <tr style=\"text-align: right;\">\n",
       "      <th></th>\n",
       "      <th>id</th>\n",
       "      <th>loc</th>\n",
       "      <th>v(g)</th>\n",
       "      <th>ev(g)</th>\n",
       "      <th>iv(g)</th>\n",
       "      <th>n</th>\n",
       "      <th>v</th>\n",
       "      <th>l</th>\n",
       "      <th>d</th>\n",
       "      <th>i</th>\n",
       "      <th>...</th>\n",
       "      <th>lOCode</th>\n",
       "      <th>lOComment</th>\n",
       "      <th>lOBlank</th>\n",
       "      <th>locCodeAndComment</th>\n",
       "      <th>uniq_Op</th>\n",
       "      <th>uniq_Opnd</th>\n",
       "      <th>total_Op</th>\n",
       "      <th>total_Opnd</th>\n",
       "      <th>branchCount</th>\n",
       "      <th>defects</th>\n",
       "    </tr>\n",
       "  </thead>\n",
       "  <tbody>\n",
       "    <tr>\n",
       "      <th>0</th>\n",
       "      <td>1</td>\n",
       "      <td>1.1</td>\n",
       "      <td>1.4</td>\n",
       "      <td>1.4</td>\n",
       "      <td>1.4</td>\n",
       "      <td>1.3</td>\n",
       "      <td>1.30</td>\n",
       "      <td>1.30</td>\n",
       "      <td>1.30</td>\n",
       "      <td>1.30</td>\n",
       "      <td>...</td>\n",
       "      <td>2</td>\n",
       "      <td>2</td>\n",
       "      <td>2</td>\n",
       "      <td>2</td>\n",
       "      <td>1.2</td>\n",
       "      <td>1.2</td>\n",
       "      <td>1.2</td>\n",
       "      <td>1.2</td>\n",
       "      <td>1.4</td>\n",
       "      <td>False</td>\n",
       "    </tr>\n",
       "    <tr>\n",
       "      <th>1</th>\n",
       "      <td>2</td>\n",
       "      <td>1.0</td>\n",
       "      <td>1.0</td>\n",
       "      <td>1.0</td>\n",
       "      <td>1.0</td>\n",
       "      <td>1.0</td>\n",
       "      <td>1.00</td>\n",
       "      <td>1.00</td>\n",
       "      <td>1.00</td>\n",
       "      <td>1.00</td>\n",
       "      <td>...</td>\n",
       "      <td>1</td>\n",
       "      <td>1</td>\n",
       "      <td>1</td>\n",
       "      <td>1</td>\n",
       "      <td>1.0</td>\n",
       "      <td>1.0</td>\n",
       "      <td>1.0</td>\n",
       "      <td>1.0</td>\n",
       "      <td>1.0</td>\n",
       "      <td>True</td>\n",
       "    </tr>\n",
       "    <tr>\n",
       "      <th>2</th>\n",
       "      <td>3</td>\n",
       "      <td>24.0</td>\n",
       "      <td>5.0</td>\n",
       "      <td>1.0</td>\n",
       "      <td>3.0</td>\n",
       "      <td>63.0</td>\n",
       "      <td>309.13</td>\n",
       "      <td>0.11</td>\n",
       "      <td>9.50</td>\n",
       "      <td>32.54</td>\n",
       "      <td>...</td>\n",
       "      <td>1</td>\n",
       "      <td>0</td>\n",
       "      <td>6</td>\n",
       "      <td>0</td>\n",
       "      <td>15.0</td>\n",
       "      <td>15.0</td>\n",
       "      <td>44.0</td>\n",
       "      <td>19.0</td>\n",
       "      <td>9.0</td>\n",
       "      <td>False</td>\n",
       "    </tr>\n",
       "    <tr>\n",
       "      <th>3</th>\n",
       "      <td>4</td>\n",
       "      <td>20.0</td>\n",
       "      <td>4.0</td>\n",
       "      <td>4.0</td>\n",
       "      <td>2.0</td>\n",
       "      <td>47.0</td>\n",
       "      <td>215.49</td>\n",
       "      <td>0.06</td>\n",
       "      <td>16.00</td>\n",
       "      <td>13.47</td>\n",
       "      <td>...</td>\n",
       "      <td>0</td>\n",
       "      <td>0</td>\n",
       "      <td>3</td>\n",
       "      <td>0</td>\n",
       "      <td>16.0</td>\n",
       "      <td>8.0</td>\n",
       "      <td>31.0</td>\n",
       "      <td>16.0</td>\n",
       "      <td>7.0</td>\n",
       "      <td>False</td>\n",
       "    </tr>\n",
       "    <tr>\n",
       "      <th>4</th>\n",
       "      <td>5</td>\n",
       "      <td>24.0</td>\n",
       "      <td>6.0</td>\n",
       "      <td>6.0</td>\n",
       "      <td>2.0</td>\n",
       "      <td>72.0</td>\n",
       "      <td>346.13</td>\n",
       "      <td>0.06</td>\n",
       "      <td>17.33</td>\n",
       "      <td>19.97</td>\n",
       "      <td>...</td>\n",
       "      <td>0</td>\n",
       "      <td>0</td>\n",
       "      <td>3</td>\n",
       "      <td>0</td>\n",
       "      <td>16.0</td>\n",
       "      <td>12.0</td>\n",
       "      <td>46.0</td>\n",
       "      <td>26.0</td>\n",
       "      <td>11.0</td>\n",
       "      <td>False</td>\n",
       "    </tr>\n",
       "  </tbody>\n",
       "</table>\n",
       "<p>5 rows × 23 columns</p>\n",
       "</div>"
      ],
      "text/plain": [
       "   id   loc  v(g)  ev(g)  iv(g)     n       v     l      d      i  ...  \\\n",
       "0   1   1.1   1.4    1.4    1.4   1.3    1.30  1.30   1.30   1.30  ...   \n",
       "1   2   1.0   1.0    1.0    1.0   1.0    1.00  1.00   1.00   1.00  ...   \n",
       "2   3  24.0   5.0    1.0    3.0  63.0  309.13  0.11   9.50  32.54  ...   \n",
       "3   4  20.0   4.0    4.0    2.0  47.0  215.49  0.06  16.00  13.47  ...   \n",
       "4   5  24.0   6.0    6.0    2.0  72.0  346.13  0.06  17.33  19.97  ...   \n",
       "\n",
       "   lOCode  lOComment  lOBlank  locCodeAndComment  uniq_Op  uniq_Opnd  \\\n",
       "0       2          2        2                  2      1.2        1.2   \n",
       "1       1          1        1                  1      1.0        1.0   \n",
       "2       1          0        6                  0     15.0       15.0   \n",
       "3       0          0        3                  0     16.0        8.0   \n",
       "4       0          0        3                  0     16.0       12.0   \n",
       "\n",
       "   total_Op  total_Opnd  branchCount  defects  \n",
       "0       1.2         1.2          1.4    False  \n",
       "1       1.0         1.0          1.0     True  \n",
       "2      44.0        19.0          9.0    False  \n",
       "3      31.0        16.0          7.0    False  \n",
       "4      46.0        26.0         11.0    False  \n",
       "\n",
       "[5 rows x 23 columns]"
      ]
     },
     "execution_count": 7,
     "metadata": {},
     "output_type": "execute_result"
    }
   ],
   "source": [
    "df.head()"
   ]
  },
  {
   "cell_type": "code",
   "execution_count": 8,
   "id": "733e95eb",
   "metadata": {
    "execution": {
     "iopub.execute_input": "2021-04-04T23:09:20.391019Z",
     "iopub.status.busy": "2021-04-04T23:09:20.390207Z",
     "iopub.status.idle": "2021-04-04T23:09:20.392744Z",
     "shell.execute_reply": "2021-04-04T23:09:20.393197Z"
    },
    "papermill": {
     "duration": 0.03024,
     "end_time": "2021-04-04T23:09:20.393343",
     "exception": false,
     "start_time": "2021-04-04T23:09:20.363103",
     "status": "completed"
    },
    "tags": []
   },
   "outputs": [],
   "source": [
    "del df['id']"
   ]
  },
  {
   "cell_type": "code",
   "execution_count": 9,
   "id": "6ff6f5b0",
   "metadata": {
    "execution": {
     "iopub.execute_input": "2021-04-04T23:09:20.443660Z",
     "iopub.status.busy": "2021-04-04T23:09:20.442636Z",
     "iopub.status.idle": "2021-04-04T23:09:20.445785Z",
     "shell.execute_reply": "2021-04-04T23:09:20.444937Z"
    },
    "papermill": {
     "duration": 0.030469,
     "end_time": "2021-04-04T23:09:20.445950",
     "exception": false,
     "start_time": "2021-04-04T23:09:20.415481",
     "status": "completed"
    },
    "tags": []
   },
   "outputs": [],
   "source": [
    "if PROFILE_REPORTING:\n",
    "    ProfileReport(df).to_widgets()"
   ]
  },
  {
   "cell_type": "markdown",
   "id": "1deaf3f0",
   "metadata": {
    "papermill": {
     "duration": 0.020864,
     "end_time": "2021-04-04T23:09:20.495807",
     "exception": false,
     "start_time": "2021-04-04T23:09:20.474943",
     "status": "completed"
    },
    "tags": []
   },
   "source": [
    "# Preprocess"
   ]
  },
  {
   "cell_type": "code",
   "execution_count": 10,
   "id": "1513e563",
   "metadata": {
    "execution": {
     "iopub.execute_input": "2021-04-04T23:09:20.543641Z",
     "iopub.status.busy": "2021-04-04T23:09:20.542847Z",
     "iopub.status.idle": "2021-04-04T23:09:20.545237Z",
     "shell.execute_reply": "2021-04-04T23:09:20.544641Z"
    },
    "papermill": {
     "duration": 0.028179,
     "end_time": "2021-04-04T23:09:20.545357",
     "exception": false,
     "start_time": "2021-04-04T23:09:20.517178",
     "status": "completed"
    },
    "tags": []
   },
   "outputs": [],
   "source": [
    "working_df = df.copy()"
   ]
  },
  {
   "cell_type": "code",
   "execution_count": 11,
   "id": "3b26d675",
   "metadata": {
    "execution": {
     "iopub.execute_input": "2021-04-04T23:09:20.597738Z",
     "iopub.status.busy": "2021-04-04T23:09:20.596866Z",
     "iopub.status.idle": "2021-04-04T23:09:20.599097Z",
     "shell.execute_reply": "2021-04-04T23:09:20.598502Z"
    },
    "papermill": {
     "duration": 0.030157,
     "end_time": "2021-04-04T23:09:20.599219",
     "exception": false,
     "start_time": "2021-04-04T23:09:20.569062",
     "status": "completed"
    },
    "tags": []
   },
   "outputs": [],
   "source": [
    "working_df['defects'] = working_df['defects'].replace([False, True], [0, 1])"
   ]
  },
  {
   "cell_type": "code",
   "execution_count": 12,
   "id": "eb48604f",
   "metadata": {
    "execution": {
     "iopub.execute_input": "2021-04-04T23:09:20.650944Z",
     "iopub.status.busy": "2021-04-04T23:09:20.650176Z",
     "iopub.status.idle": "2021-04-04T23:09:20.652507Z",
     "shell.execute_reply": "2021-04-04T23:09:20.651915Z"
    },
    "papermill": {
     "duration": 0.028969,
     "end_time": "2021-04-04T23:09:20.652627",
     "exception": false,
     "start_time": "2021-04-04T23:09:20.623658",
     "status": "completed"
    },
    "tags": []
   },
   "outputs": [],
   "source": [
    "for col in dataset_config['delete_columns']:\n",
    "    del working_df[col]"
   ]
  },
  {
   "cell_type": "code",
   "execution_count": 13,
   "id": "9a17bc29",
   "metadata": {
    "execution": {
     "iopub.execute_input": "2021-04-04T23:09:20.706897Z",
     "iopub.status.busy": "2021-04-04T23:09:20.705390Z",
     "iopub.status.idle": "2021-04-04T23:09:20.717503Z",
     "shell.execute_reply": "2021-04-04T23:09:20.718427Z"
    },
    "papermill": {
     "duration": 0.041456,
     "end_time": "2021-04-04T23:09:20.718681",
     "exception": false,
     "start_time": "2021-04-04T23:09:20.677225",
     "status": "completed"
    },
    "tags": []
   },
   "outputs": [],
   "source": [
    "working_df = working_df.drop_duplicates()"
   ]
  },
  {
   "cell_type": "markdown",
   "id": "a4d52ca6",
   "metadata": {
    "papermill": {
     "duration": 0.023547,
     "end_time": "2021-04-04T23:09:20.779322",
     "exception": false,
     "start_time": "2021-04-04T23:09:20.755775",
     "status": "completed"
    },
    "tags": []
   },
   "source": [
    "# Split"
   ]
  },
  {
   "cell_type": "code",
   "execution_count": 14,
   "id": "3e9ee4b5",
   "metadata": {
    "execution": {
     "iopub.execute_input": "2021-04-04T23:09:20.828877Z",
     "iopub.status.busy": "2021-04-04T23:09:20.828194Z",
     "iopub.status.idle": "2021-04-04T23:09:20.857455Z",
     "shell.execute_reply": "2021-04-04T23:09:20.858009Z"
    },
    "papermill": {
     "duration": 0.057443,
     "end_time": "2021-04-04T23:09:20.858169",
     "exception": false,
     "start_time": "2021-04-04T23:09:20.800726",
     "status": "completed"
    },
    "tags": []
   },
   "outputs": [],
   "source": [
    "from sklearn.model_selection import train_test_split"
   ]
  },
  {
   "cell_type": "code",
   "execution_count": 15,
   "id": "274004ce",
   "metadata": {
    "execution": {
     "iopub.execute_input": "2021-04-04T23:09:20.908266Z",
     "iopub.status.busy": "2021-04-04T23:09:20.907236Z",
     "iopub.status.idle": "2021-04-04T23:09:20.912105Z",
     "shell.execute_reply": "2021-04-04T23:09:20.912657Z"
    },
    "papermill": {
     "duration": 0.031612,
     "end_time": "2021-04-04T23:09:20.912816",
     "exception": false,
     "start_time": "2021-04-04T23:09:20.881204",
     "status": "completed"
    },
    "scrolled": true,
    "tags": []
   },
   "outputs": [],
   "source": [
    "inlier, outlier = working_df[working_df['defects'] == 0], working_df[working_df['defects'] == 1]"
   ]
  },
  {
   "cell_type": "code",
   "execution_count": 16,
   "id": "753c7b03",
   "metadata": {
    "execution": {
     "iopub.execute_input": "2021-04-04T23:09:20.965588Z",
     "iopub.status.busy": "2021-04-04T23:09:20.964790Z",
     "iopub.status.idle": "2021-04-04T23:09:20.967446Z",
     "shell.execute_reply": "2021-04-04T23:09:20.966869Z"
    },
    "papermill": {
     "duration": 0.030786,
     "end_time": "2021-04-04T23:09:20.967580",
     "exception": false,
     "start_time": "2021-04-04T23:09:20.936794",
     "status": "completed"
    },
    "tags": []
   },
   "outputs": [],
   "source": [
    "X_inlier = inlier.copy()\n",
    "y_inlier = X_inlier.pop('defects')\n",
    "X_outlier = outlier.copy()\n",
    "y_outlier = X_outlier.pop('defects')"
   ]
  },
  {
   "cell_type": "code",
   "execution_count": 17,
   "id": "2ba43193",
   "metadata": {
    "execution": {
     "iopub.execute_input": "2021-04-04T23:09:21.023803Z",
     "iopub.status.busy": "2021-04-04T23:09:21.022898Z",
     "iopub.status.idle": "2021-04-04T23:09:21.026351Z",
     "shell.execute_reply": "2021-04-04T23:09:21.025647Z"
    },
    "papermill": {
     "duration": 0.032664,
     "end_time": "2021-04-04T23:09:21.026490",
     "exception": false,
     "start_time": "2021-04-04T23:09:20.993826",
     "status": "completed"
    },
    "tags": []
   },
   "outputs": [],
   "source": [
    "test_size = dataset_config['test_size']\n",
    "random_state = dataset_config['random_state']\n",
    "\n",
    "X_inlier_train, X_inlier_test, y_inlier_train, y_inlier_test = train_test_split(\n",
    "    X_inlier,\n",
    "    y_inlier,\n",
    "    test_size=test_size,\n",
    "    random_state=random_state\n",
    ")"
   ]
  },
  {
   "cell_type": "code",
   "execution_count": 18,
   "id": "0b7582ca",
   "metadata": {
    "execution": {
     "iopub.execute_input": "2021-04-04T23:09:21.082779Z",
     "iopub.status.busy": "2021-04-04T23:09:21.082095Z",
     "iopub.status.idle": "2021-04-04T23:09:21.084618Z",
     "shell.execute_reply": "2021-04-04T23:09:21.085438Z"
    },
    "papermill": {
     "duration": 0.035369,
     "end_time": "2021-04-04T23:09:21.085656",
     "exception": false,
     "start_time": "2021-04-04T23:09:21.050287",
     "status": "completed"
    },
    "tags": []
   },
   "outputs": [],
   "source": [
    "test_outlier_size = dataset_config['test_outlier_size']\n",
    "if test_outlier_size > 0.0:\n",
    "    X_outlier_train, X_outlier_test, y_outlier_train, y_outlier_test = train_test_split(\n",
    "        X_outlier,\n",
    "        y_outlier,\n",
    "        test_size=test_outlier_size,\n",
    "        random_state=random_state\n",
    "    )\n",
    "else:\n",
    "    X_outlier_train, y_outlier_train = pd.DataFrame(columns=X_outlier.columns), pd.Series(dtype='int64')\n",
    "    X_outlier_test, y_outlier_test = X_outlier.copy(), y_outlier.copy()"
   ]
  },
  {
   "cell_type": "code",
   "execution_count": 19,
   "id": "c34363db",
   "metadata": {
    "execution": {
     "iopub.execute_input": "2021-04-04T23:09:21.147665Z",
     "iopub.status.busy": "2021-04-04T23:09:21.143534Z",
     "iopub.status.idle": "2021-04-04T23:09:21.150728Z",
     "shell.execute_reply": "2021-04-04T23:09:21.151606Z"
    },
    "papermill": {
     "duration": 0.037885,
     "end_time": "2021-04-04T23:09:21.151850",
     "exception": false,
     "start_time": "2021-04-04T23:09:21.113965",
     "status": "completed"
    },
    "tags": []
   },
   "outputs": [],
   "source": [
    "X_train, y_train = pd.concat([X_inlier_train, X_outlier_train], ignore_index=True), pd.concat([y_inlier_train, y_outlier_train], ignore_index=True)\n",
    "X_test, y_test = pd.concat([X_inlier_test, X_outlier_test], ignore_index=True), pd.concat([y_inlier_test, y_outlier_test], ignore_index=True)"
   ]
  },
  {
   "cell_type": "markdown",
   "id": "7cde7309",
   "metadata": {
    "papermill": {
     "duration": 0.022434,
     "end_time": "2021-04-04T23:09:21.203860",
     "exception": false,
     "start_time": "2021-04-04T23:09:21.181426",
     "status": "completed"
    },
    "tags": []
   },
   "source": [
    "# Model"
   ]
  },
  {
   "cell_type": "code",
   "execution_count": 20,
   "id": "2b12a415",
   "metadata": {
    "execution": {
     "iopub.execute_input": "2021-04-04T23:09:21.262245Z",
     "iopub.status.busy": "2021-04-04T23:09:21.261415Z",
     "iopub.status.idle": "2021-04-04T23:09:21.264005Z",
     "shell.execute_reply": "2021-04-04T23:09:21.264779Z"
    },
    "papermill": {
     "duration": 0.038925,
     "end_time": "2021-04-04T23:09:21.264997",
     "exception": false,
     "start_time": "2021-04-04T23:09:21.226072",
     "status": "completed"
    },
    "tags": []
   },
   "outputs": [],
   "source": [
    "from math import sqrt\n",
    "\n",
    "\n",
    "class KNNDataDescription:\n",
    "    def __init__(self, k=5, outlier_threshold=1.0):\n",
    "        self.k = k\n",
    "        self.outlier_threshold = outlier_threshold\n",
    "        self.X = []\n",
    "    \n",
    "    def fit(self, X):\n",
    "        self.X = [features.to_list() for index, features in X.iterrows()]\n",
    "\n",
    "    def predict(self, entries):\n",
    "        return [self.predict_entry(features.to_list()) for index, features in entries.iterrows()]\n",
    "    \n",
    "    def predict_entry(self, entry):\n",
    "        kth_neighbor, kth_distance = self.get_kth_neighbor(entry, self.k)\n",
    "        kth_kth_neighbor, kth_kth_distance = self.get_kth_neighbor(kth_neighbor, self.k + 1)\n",
    "\n",
    "        outlier_score = kth_distance / (kth_kth_distance + 0.000001)\n",
    "\n",
    "        return 1 if outlier_score < self.outlier_threshold else -1\n",
    "        \n",
    "    def euclidean_distance(self, features1, features2):\n",
    "        distance = 0.0\n",
    "        for feat1, feat2 in zip(features1, features2):\n",
    "            distance += (feat1 - feat2)**2\n",
    "                \n",
    "        return sqrt(distance)\n",
    "\n",
    "    def get_neighbors(self, entry, k):\n",
    "        distance_to_data_points = [\n",
    "            (data_point, self.euclidean_distance(entry, data_point))\n",
    "            for data_point in self.X\n",
    "        ]\n",
    "        sorted_by_distance = sorted(distance_to_data_points, key=lambda tup: tup[1])\n",
    "        neighbors = sorted_by_distance[:k]\n",
    "        return neighbors\n",
    "\n",
    "    def get_kth_neighbor(self, entry, k):\n",
    "        neighbors = self.get_neighbors(entry, k)\n",
    "        return neighbors[-1]\n"
   ]
  },
  {
   "cell_type": "code",
   "execution_count": 21,
   "id": "1fa9ec1c",
   "metadata": {
    "execution": {
     "iopub.execute_input": "2021-04-04T23:09:21.320159Z",
     "iopub.status.busy": "2021-04-04T23:09:21.319229Z",
     "iopub.status.idle": "2021-04-04T23:09:21.342457Z",
     "shell.execute_reply": "2021-04-04T23:09:21.343617Z"
    },
    "papermill": {
     "duration": 0.051682,
     "end_time": "2021-04-04T23:09:21.343902",
     "exception": false,
     "start_time": "2021-04-04T23:09:21.292220",
     "status": "completed"
    },
    "tags": []
   },
   "outputs": [],
   "source": [
    "from sklearn.svm import OneClassSVM\n",
    "\n",
    "\n",
    "models = {\n",
    "    'oneclasssvm': OneClassSVM,\n",
    "    'knndatadescription': KNNDataDescription,\n",
    "}"
   ]
  },
  {
   "cell_type": "code",
   "execution_count": 22,
   "id": "4d72a0b1",
   "metadata": {
    "execution": {
     "iopub.execute_input": "2021-04-04T23:09:21.403377Z",
     "iopub.status.busy": "2021-04-04T23:09:21.402007Z",
     "iopub.status.idle": "2021-04-04T23:09:21.405104Z",
     "shell.execute_reply": "2021-04-04T23:09:21.406033Z"
    },
    "papermill": {
     "duration": 0.032466,
     "end_time": "2021-04-04T23:09:21.406253",
     "exception": false,
     "start_time": "2021-04-04T23:09:21.373787",
     "status": "completed"
    },
    "scrolled": true,
    "tags": []
   },
   "outputs": [],
   "source": [
    "model_cls = models[model_config['model_type']]\n",
    "model = model_cls(**model_config['hyperparameters'])"
   ]
  },
  {
   "cell_type": "markdown",
   "id": "e00cff3b",
   "metadata": {
    "papermill": {
     "duration": 0.022308,
     "end_time": "2021-04-04T23:09:21.451531",
     "exception": false,
     "start_time": "2021-04-04T23:09:21.429223",
     "status": "completed"
    },
    "tags": []
   },
   "source": [
    "# Fit"
   ]
  },
  {
   "cell_type": "code",
   "execution_count": 23,
   "id": "8b2ded89",
   "metadata": {
    "execution": {
     "iopub.execute_input": "2021-04-04T23:09:21.501955Z",
     "iopub.status.busy": "2021-04-04T23:09:21.501030Z",
     "iopub.status.idle": "2021-04-04T23:09:21.528542Z",
     "shell.execute_reply": "2021-04-04T23:09:21.529321Z"
    },
    "papermill": {
     "duration": 0.055542,
     "end_time": "2021-04-04T23:09:21.529551",
     "exception": false,
     "start_time": "2021-04-04T23:09:21.474009",
     "status": "completed"
    },
    "tags": []
   },
   "outputs": [],
   "source": [
    "model.fit(X_train)"
   ]
  },
  {
   "cell_type": "markdown",
   "id": "f99999f7",
   "metadata": {
    "papermill": {
     "duration": 0.022536,
     "end_time": "2021-04-04T23:09:21.582167",
     "exception": false,
     "start_time": "2021-04-04T23:09:21.559631",
     "status": "completed"
    },
    "tags": []
   },
   "source": [
    "# Predict"
   ]
  },
  {
   "cell_type": "code",
   "execution_count": 24,
   "id": "6536fbf7",
   "metadata": {
    "execution": {
     "iopub.execute_input": "2021-04-04T23:09:21.663150Z",
     "iopub.status.busy": "2021-04-04T23:09:21.632260Z",
     "iopub.status.idle": "2021-04-04T23:09:21.984135Z",
     "shell.execute_reply": "2021-04-04T23:09:21.983407Z"
    },
    "papermill": {
     "duration": 0.379146,
     "end_time": "2021-04-04T23:09:21.984277",
     "exception": false,
     "start_time": "2021-04-04T23:09:21.605131",
     "status": "completed"
    },
    "tags": []
   },
   "outputs": [],
   "source": [
    "predictions = model.predict(X_test)"
   ]
  },
  {
   "cell_type": "markdown",
   "id": "aa1c9881",
   "metadata": {
    "papermill": {
     "duration": 0.022384,
     "end_time": "2021-04-04T23:09:22.033185",
     "exception": false,
     "start_time": "2021-04-04T23:09:22.010801",
     "status": "completed"
    },
    "tags": []
   },
   "source": [
    "# Evaluate"
   ]
  },
  {
   "cell_type": "code",
   "execution_count": 25,
   "id": "894f0f04",
   "metadata": {
    "execution": {
     "iopub.execute_input": "2021-04-04T23:09:22.085709Z",
     "iopub.status.busy": "2021-04-04T23:09:22.085070Z",
     "iopub.status.idle": "2021-04-04T23:09:22.087952Z",
     "shell.execute_reply": "2021-04-04T23:09:22.088786Z"
    },
    "papermill": {
     "duration": 0.031025,
     "end_time": "2021-04-04T23:09:22.089014",
     "exception": false,
     "start_time": "2021-04-04T23:09:22.057989",
     "status": "completed"
    },
    "tags": []
   },
   "outputs": [],
   "source": [
    "from sklearn.metrics import f1_score"
   ]
  },
  {
   "cell_type": "code",
   "execution_count": 26,
   "id": "211744d3",
   "metadata": {
    "execution": {
     "iopub.execute_input": "2021-04-04T23:09:22.150296Z",
     "iopub.status.busy": "2021-04-04T23:09:22.149270Z",
     "iopub.status.idle": "2021-04-04T23:09:22.152555Z",
     "shell.execute_reply": "2021-04-04T23:09:22.151991Z"
    },
    "papermill": {
     "duration": 0.03251,
     "end_time": "2021-04-04T23:09:22.152679",
     "exception": false,
     "start_time": "2021-04-04T23:09:22.120169",
     "status": "completed"
    },
    "tags": []
   },
   "outputs": [],
   "source": [
    "y_test = y_test.replace([0, 1], [1, -1])"
   ]
  },
  {
   "cell_type": "code",
   "execution_count": 27,
   "id": "d68a9204",
   "metadata": {
    "execution": {
     "iopub.execute_input": "2021-04-04T23:09:22.211577Z",
     "iopub.status.busy": "2021-04-04T23:09:22.210829Z",
     "iopub.status.idle": "2021-04-04T23:09:22.214090Z",
     "shell.execute_reply": "2021-04-04T23:09:22.214579Z"
    },
    "papermill": {
     "duration": 0.035787,
     "end_time": "2021-04-04T23:09:22.214732",
     "exception": false,
     "start_time": "2021-04-04T23:09:22.178945",
     "status": "completed"
    },
    "tags": []
   },
   "outputs": [],
   "source": [
    "def evaluate(truths, predictions, pos_label, neg_label):\n",
    "    TP = 0\n",
    "    FP = 0\n",
    "    TN = 0\n",
    "    FN = 0\n",
    "\n",
    "    for truth, pred in zip(truths, predictions): \n",
    "        if truth == pred == pos_label:\n",
    "           TP += 1\n",
    "        elif pred == pos_label and truth == neg_label:\n",
    "           FP += 1\n",
    "        elif truth == pred == neg_label:\n",
    "           TN += 1\n",
    "        elif pred == neg_label and truth == pos_label:\n",
    "           FN += 1\n",
    "\n",
    "    precision = TP / (TP + FP)\n",
    "    sensitivity = TP / (TP + FN)\n",
    "    \n",
    "    return {\n",
    "        'true_pos': TP,\n",
    "        'false_pos': FP,\n",
    "        'false_neg': FN,\n",
    "        'true_neg': TN,\n",
    "        'precision': precision,\n",
    "        'sensitivity': sensitivity,\n",
    "        'f1': (2 * (precision * sensitivity)) / (precision + sensitivity)\n",
    "    }\n",
    "\n",
    "score = evaluate(y_test, predictions, pos_label=-1, neg_label=1)"
   ]
  },
  {
   "cell_type": "markdown",
   "id": "93596516",
   "metadata": {
    "papermill": {
     "duration": 0.02371,
     "end_time": "2021-04-04T23:09:22.267647",
     "exception": false,
     "start_time": "2021-04-04T23:09:22.243937",
     "status": "completed"
    },
    "tags": []
   },
   "source": [
    "# Report"
   ]
  },
  {
   "cell_type": "code",
   "execution_count": 28,
   "id": "bea5fba1",
   "metadata": {
    "execution": {
     "iopub.execute_input": "2021-04-04T23:09:22.322546Z",
     "iopub.status.busy": "2021-04-04T23:09:22.321879Z",
     "iopub.status.idle": "2021-04-04T23:09:22.325226Z",
     "shell.execute_reply": "2021-04-04T23:09:22.325940Z"
    },
    "papermill": {
     "duration": 0.035233,
     "end_time": "2021-04-04T23:09:22.326142",
     "exception": false,
     "start_time": "2021-04-04T23:09:22.290909",
     "status": "completed"
    },
    "tags": []
   },
   "outputs": [],
   "source": [
    "import csv\n",
    "\n",
    "\n",
    "dataset_config_name = DATASET_CONFIG_PATH.split('/')[-1].split('.')[0]\n",
    "model_config_name = MODEL_CONFIG_PATH.split('/')[-1].split('.')[0]\n",
    "configuration = f\"dataset_{dataset_config_name}-model_{model_config_name}\"\n",
    "\n",
    "with open('results.csv', 'a') as f:\n",
    "    report = dict({'configuration': configuration}, **score)\n",
    "    writer = csv.DictWriter(f, report.keys())\n",
    "    writer.writerow(report)"
   ]
  }
 ],
 "metadata": {
  "celltoolbar": "Tags",
  "kernelspec": {
   "display_name": "Python 3",
   "language": "python",
   "name": "python3"
  },
  "language_info": {
   "codemirror_mode": {
    "name": "ipython",
    "version": 3
   },
   "file_extension": ".py",
   "mimetype": "text/x-python",
   "name": "python",
   "nbconvert_exporter": "python",
   "pygments_lexer": "ipython3",
   "version": "3.9.1"
  },
  "papermill": {
   "default_parameters": {},
   "duration": 6.046976,
   "end_time": "2021-04-04T23:09:23.926503",
   "environment_variables": {},
   "exception": null,
   "input_path": "main.ipynb",
   "output_path": "runs/dataset_000091-model_000002.ipynb",
   "parameters": {
    "DATASET_CONFIG_PATH": "config/dataset/000091.json",
    "MODEL_CONFIG_PATH": "config/model/000002.json",
    "PROFILE_REPORTING": false
   },
   "start_time": "2021-04-04T23:09:17.879527",
   "version": "2.3.3"
  }
 },
 "nbformat": 4,
 "nbformat_minor": 5
}