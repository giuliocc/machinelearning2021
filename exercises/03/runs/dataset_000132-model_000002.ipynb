{
 "cells": [
  {
   "cell_type": "markdown",
   "id": "51c71c25",
   "metadata": {
    "papermill": {
     "duration": 0.028016,
     "end_time": "2021-04-04T23:25:46.915843",
     "exception": false,
     "start_time": "2021-04-04T23:25:46.887827",
     "status": "completed"
    },
    "tags": []
   },
   "source": [
    "# Parametrizing"
   ]
  },
  {
   "cell_type": "code",
   "execution_count": 1,
   "id": "3b136394",
   "metadata": {
    "execution": {
     "iopub.execute_input": "2021-04-04T23:25:46.985579Z",
     "iopub.status.busy": "2021-04-04T23:25:46.983809Z",
     "iopub.status.idle": "2021-04-04T23:25:46.987300Z",
     "shell.execute_reply": "2021-04-04T23:25:46.987908Z"
    },
    "papermill": {
     "duration": 0.042386,
     "end_time": "2021-04-04T23:25:46.988209",
     "exception": false,
     "start_time": "2021-04-04T23:25:46.945823",
     "status": "completed"
    },
    "tags": [
     "parameters"
    ]
   },
   "outputs": [],
   "source": [
    "DATASET_CONFIG_PATH = 'config/dataset/kc1_001.json'\n",
    "MODEL_CONFIG_PATH = 'config/model/knndd_001.json'\n",
    "PROFILE_REPORTING = False"
   ]
  },
  {
   "cell_type": "code",
   "execution_count": 2,
   "id": "570078e9",
   "metadata": {
    "execution": {
     "iopub.execute_input": "2021-04-04T23:25:47.050805Z",
     "iopub.status.busy": "2021-04-04T23:25:47.049470Z",
     "iopub.status.idle": "2021-04-04T23:25:47.052717Z",
     "shell.execute_reply": "2021-04-04T23:25:47.053302Z"
    },
    "papermill": {
     "duration": 0.04055,
     "end_time": "2021-04-04T23:25:47.053489",
     "exception": false,
     "start_time": "2021-04-04T23:25:47.012939",
     "status": "completed"
    },
    "tags": [
     "injected-parameters"
    ]
   },
   "outputs": [],
   "source": [
    "# Parameters\n",
    "DATASET_CONFIG_PATH = \"config/dataset/000132.json\"\n",
    "MODEL_CONFIG_PATH = \"config/model/000002.json\"\n",
    "PROFILE_REPORTING = False\n"
   ]
  },
  {
   "cell_type": "code",
   "execution_count": 3,
   "id": "b80f2a10",
   "metadata": {
    "execution": {
     "iopub.execute_input": "2021-04-04T23:25:47.118423Z",
     "iopub.status.busy": "2021-04-04T23:25:47.117404Z",
     "iopub.status.idle": "2021-04-04T23:25:47.122642Z",
     "shell.execute_reply": "2021-04-04T23:25:47.124190Z"
    },
    "papermill": {
     "duration": 0.043713,
     "end_time": "2021-04-04T23:25:47.124624",
     "exception": false,
     "start_time": "2021-04-04T23:25:47.080911",
     "status": "completed"
    },
    "tags": []
   },
   "outputs": [],
   "source": [
    "import json\n",
    "\n",
    "\n",
    "with open(DATASET_CONFIG_PATH) as f:\n",
    "    dataset_config = json.load(f)\n",
    "\n",
    "with open(MODEL_CONFIG_PATH) as f:\n",
    "    model_config = json.load(f)"
   ]
  },
  {
   "cell_type": "markdown",
   "id": "9a4b0e2d",
   "metadata": {
    "papermill": {
     "duration": 0.022755,
     "end_time": "2021-04-04T23:25:47.171033",
     "exception": false,
     "start_time": "2021-04-04T23:25:47.148278",
     "status": "completed"
    },
    "tags": []
   },
   "source": [
    "# Profiling"
   ]
  },
  {
   "cell_type": "code",
   "execution_count": 4,
   "id": "a3e0289b",
   "metadata": {
    "execution": {
     "iopub.execute_input": "2021-04-04T23:25:47.228633Z",
     "iopub.status.busy": "2021-04-04T23:25:47.226671Z",
     "iopub.status.idle": "2021-04-04T23:25:50.391577Z",
     "shell.execute_reply": "2021-04-04T23:25:50.390277Z"
    },
    "papermill": {
     "duration": 3.198742,
     "end_time": "2021-04-04T23:25:50.391939",
     "exception": false,
     "start_time": "2021-04-04T23:25:47.193197",
     "status": "completed"
    },
    "tags": []
   },
   "outputs": [],
   "source": [
    "import pandas as pd\n",
    "from pandas_profiling import ProfileReport"
   ]
  },
  {
   "cell_type": "code",
   "execution_count": 5,
   "id": "ee6c0666",
   "metadata": {
    "execution": {
     "iopub.execute_input": "2021-04-04T23:25:50.537533Z",
     "iopub.status.busy": "2021-04-04T23:25:50.536613Z",
     "iopub.status.idle": "2021-04-04T23:25:50.552608Z",
     "shell.execute_reply": "2021-04-04T23:25:50.551756Z"
    },
    "papermill": {
     "duration": 0.093105,
     "end_time": "2021-04-04T23:25:50.552777",
     "exception": false,
     "start_time": "2021-04-04T23:25:50.459672",
     "status": "completed"
    },
    "tags": []
   },
   "outputs": [],
   "source": [
    "df = pd.read_csv(dataset_config['dataset_path'])"
   ]
  },
  {
   "cell_type": "code",
   "execution_count": 6,
   "id": "7eca6c4a",
   "metadata": {
    "execution": {
     "iopub.execute_input": "2021-04-04T23:25:50.622076Z",
     "iopub.status.busy": "2021-04-04T23:25:50.619209Z",
     "iopub.status.idle": "2021-04-04T23:25:50.645892Z",
     "shell.execute_reply": "2021-04-04T23:25:50.644396Z"
    },
    "papermill": {
     "duration": 0.061772,
     "end_time": "2021-04-04T23:25:50.646228",
     "exception": false,
     "start_time": "2021-04-04T23:25:50.584456",
     "status": "completed"
    },
    "tags": []
   },
   "outputs": [
    {
     "name": "stdout",
     "output_type": "stream",
     "text": [
      "<class 'pandas.core.frame.DataFrame'>\n",
      "RangeIndex: 498 entries, 0 to 497\n",
      "Data columns (total 23 columns):\n",
      " #   Column             Non-Null Count  Dtype  \n",
      "---  ------             --------------  -----  \n",
      " 0   id                 498 non-null    int64  \n",
      " 1   loc                498 non-null    float64\n",
      " 2   v(g)               498 non-null    float64\n",
      " 3   ev(g)              498 non-null    float64\n",
      " 4   iv(g)              498 non-null    float64\n",
      " 5   n                  498 non-null    float64\n",
      " 6   v                  498 non-null    float64\n",
      " 7   l                  498 non-null    float64\n",
      " 8   d                  498 non-null    float64\n",
      " 9   i                  498 non-null    float64\n",
      " 10  e                  498 non-null    float64\n",
      " 11  b                  498 non-null    float64\n",
      " 12  t                  498 non-null    float64\n",
      " 13  lOCode             498 non-null    int64  \n",
      " 14  lOComment          498 non-null    int64  \n",
      " 15  lOBlank            498 non-null    int64  \n",
      " 16  locCodeAndComment  498 non-null    int64  \n",
      " 17  uniq_Op            498 non-null    float64\n",
      " 18  uniq_Opnd          498 non-null    float64\n",
      " 19  total_Op           498 non-null    float64\n",
      " 20  total_Opnd         498 non-null    float64\n",
      " 21  branchCount        498 non-null    float64\n",
      " 22  defects            498 non-null    bool   \n",
      "dtypes: bool(1), float64(17), int64(5)\n",
      "memory usage: 86.2 KB\n"
     ]
    }
   ],
   "source": [
    "df.info()"
   ]
  },
  {
   "cell_type": "code",
   "execution_count": 7,
   "id": "3638e5e8",
   "metadata": {
    "execution": {
     "iopub.execute_input": "2021-04-04T23:25:50.737891Z",
     "iopub.status.busy": "2021-04-04T23:25:50.734507Z",
     "iopub.status.idle": "2021-04-04T23:25:50.810158Z",
     "shell.execute_reply": "2021-04-04T23:25:50.810709Z"
    },
    "papermill": {
     "duration": 0.138736,
     "end_time": "2021-04-04T23:25:50.810872",
     "exception": false,
     "start_time": "2021-04-04T23:25:50.672136",
     "status": "completed"
    },
    "tags": []
   },
   "outputs": [
    {
     "data": {
      "text/html": [
       "<div>\n",
       "<style scoped>\n",
       "    .dataframe tbody tr th:only-of-type {\n",
       "        vertical-align: middle;\n",
       "    }\n",
       "\n",
       "    .dataframe tbody tr th {\n",
       "        vertical-align: top;\n",
       "    }\n",
       "\n",
       "    .dataframe thead th {\n",
       "        text-align: right;\n",
       "    }\n",
       "</style>\n",
       "<table border=\"1\" class=\"dataframe\">\n",
       "  <thead>\n",
       "    <tr style=\"text-align: right;\">\n",
       "      <th></th>\n",
       "      <th>id</th>\n",
       "      <th>loc</th>\n",
       "      <th>v(g)</th>\n",
       "      <th>ev(g)</th>\n",
       "      <th>iv(g)</th>\n",
       "      <th>n</th>\n",
       "      <th>v</th>\n",
       "      <th>l</th>\n",
       "      <th>d</th>\n",
       "      <th>i</th>\n",
       "      <th>...</th>\n",
       "      <th>lOCode</th>\n",
       "      <th>lOComment</th>\n",
       "      <th>lOBlank</th>\n",
       "      <th>locCodeAndComment</th>\n",
       "      <th>uniq_Op</th>\n",
       "      <th>uniq_Opnd</th>\n",
       "      <th>total_Op</th>\n",
       "      <th>total_Opnd</th>\n",
       "      <th>branchCount</th>\n",
       "      <th>defects</th>\n",
       "    </tr>\n",
       "  </thead>\n",
       "  <tbody>\n",
       "    <tr>\n",
       "      <th>0</th>\n",
       "      <td>1</td>\n",
       "      <td>1.1</td>\n",
       "      <td>1.4</td>\n",
       "      <td>1.4</td>\n",
       "      <td>1.4</td>\n",
       "      <td>1.3</td>\n",
       "      <td>1.30</td>\n",
       "      <td>1.30</td>\n",
       "      <td>1.30</td>\n",
       "      <td>1.30</td>\n",
       "      <td>...</td>\n",
       "      <td>2</td>\n",
       "      <td>2</td>\n",
       "      <td>2</td>\n",
       "      <td>2</td>\n",
       "      <td>1.2</td>\n",
       "      <td>1.2</td>\n",
       "      <td>1.2</td>\n",
       "      <td>1.2</td>\n",
       "      <td>1.4</td>\n",
       "      <td>False</td>\n",
       "    </tr>\n",
       "    <tr>\n",
       "      <th>1</th>\n",
       "      <td>2</td>\n",
       "      <td>1.0</td>\n",
       "      <td>1.0</td>\n",
       "      <td>1.0</td>\n",
       "      <td>1.0</td>\n",
       "      <td>1.0</td>\n",
       "      <td>1.00</td>\n",
       "      <td>1.00</td>\n",
       "      <td>1.00</td>\n",
       "      <td>1.00</td>\n",
       "      <td>...</td>\n",
       "      <td>1</td>\n",
       "      <td>1</td>\n",
       "      <td>1</td>\n",
       "      <td>1</td>\n",
       "      <td>1.0</td>\n",
       "      <td>1.0</td>\n",
       "      <td>1.0</td>\n",
       "      <td>1.0</td>\n",
       "      <td>1.0</td>\n",
       "      <td>True</td>\n",
       "    </tr>\n",
       "    <tr>\n",
       "      <th>2</th>\n",
       "      <td>3</td>\n",
       "      <td>24.0</td>\n",
       "      <td>5.0</td>\n",
       "      <td>1.0</td>\n",
       "      <td>3.0</td>\n",
       "      <td>63.0</td>\n",
       "      <td>309.13</td>\n",
       "      <td>0.11</td>\n",
       "      <td>9.50</td>\n",
       "      <td>32.54</td>\n",
       "      <td>...</td>\n",
       "      <td>1</td>\n",
       "      <td>0</td>\n",
       "      <td>6</td>\n",
       "      <td>0</td>\n",
       "      <td>15.0</td>\n",
       "      <td>15.0</td>\n",
       "      <td>44.0</td>\n",
       "      <td>19.0</td>\n",
       "      <td>9.0</td>\n",
       "      <td>False</td>\n",
       "    </tr>\n",
       "    <tr>\n",
       "      <th>3</th>\n",
       "      <td>4</td>\n",
       "      <td>20.0</td>\n",
       "      <td>4.0</td>\n",
       "      <td>4.0</td>\n",
       "      <td>2.0</td>\n",
       "      <td>47.0</td>\n",
       "      <td>215.49</td>\n",
       "      <td>0.06</td>\n",
       "      <td>16.00</td>\n",
       "      <td>13.47</td>\n",
       "      <td>...</td>\n",
       "      <td>0</td>\n",
       "      <td>0</td>\n",
       "      <td>3</td>\n",
       "      <td>0</td>\n",
       "      <td>16.0</td>\n",
       "      <td>8.0</td>\n",
       "      <td>31.0</td>\n",
       "      <td>16.0</td>\n",
       "      <td>7.0</td>\n",
       "      <td>False</td>\n",
       "    </tr>\n",
       "    <tr>\n",
       "      <th>4</th>\n",
       "      <td>5</td>\n",
       "      <td>24.0</td>\n",
       "      <td>6.0</td>\n",
       "      <td>6.0</td>\n",
       "      <td>2.0</td>\n",
       "      <td>72.0</td>\n",
       "      <td>346.13</td>\n",
       "      <td>0.06</td>\n",
       "      <td>17.33</td>\n",
       "      <td>19.97</td>\n",
       "      <td>...</td>\n",
       "      <td>0</td>\n",
       "      <td>0</td>\n",
       "      <td>3</td>\n",
       "      <td>0</td>\n",
       "      <td>16.0</td>\n",
       "      <td>12.0</td>\n",
       "      <td>46.0</td>\n",
       "      <td>26.0</td>\n",
       "      <td>11.0</td>\n",
       "      <td>False</td>\n",
       "    </tr>\n",
       "  </tbody>\n",
       "</table>\n",
       "<p>5 rows × 23 columns</p>\n",
       "</div>"
      ],
      "text/plain": [
       "   id   loc  v(g)  ev(g)  iv(g)     n       v     l      d      i  ...  \\\n",
       "0   1   1.1   1.4    1.4    1.4   1.3    1.30  1.30   1.30   1.30  ...   \n",
       "1   2   1.0   1.0    1.0    1.0   1.0    1.00  1.00   1.00   1.00  ...   \n",
       "2   3  24.0   5.0    1.0    3.0  63.0  309.13  0.11   9.50  32.54  ...   \n",
       "3   4  20.0   4.0    4.0    2.0  47.0  215.49  0.06  16.00  13.47  ...   \n",
       "4   5  24.0   6.0    6.0    2.0  72.0  346.13  0.06  17.33  19.97  ...   \n",
       "\n",
       "   lOCode  lOComment  lOBlank  locCodeAndComment  uniq_Op  uniq_Opnd  \\\n",
       "0       2          2        2                  2      1.2        1.2   \n",
       "1       1          1        1                  1      1.0        1.0   \n",
       "2       1          0        6                  0     15.0       15.0   \n",
       "3       0          0        3                  0     16.0        8.0   \n",
       "4       0          0        3                  0     16.0       12.0   \n",
       "\n",
       "   total_Op  total_Opnd  branchCount  defects  \n",
       "0       1.2         1.2          1.4    False  \n",
       "1       1.0         1.0          1.0     True  \n",
       "2      44.0        19.0          9.0    False  \n",
       "3      31.0        16.0          7.0    False  \n",
       "4      46.0        26.0         11.0    False  \n",
       "\n",
       "[5 rows x 23 columns]"
      ]
     },
     "execution_count": 7,
     "metadata": {},
     "output_type": "execute_result"
    }
   ],
   "source": [
    "df.head()"
   ]
  },
  {
   "cell_type": "code",
   "execution_count": 8,
   "id": "733e95eb",
   "metadata": {
    "execution": {
     "iopub.execute_input": "2021-04-04T23:25:50.880874Z",
     "iopub.status.busy": "2021-04-04T23:25:50.879827Z",
     "iopub.status.idle": "2021-04-04T23:25:50.882015Z",
     "shell.execute_reply": "2021-04-04T23:25:50.882541Z"
    },
    "papermill": {
     "duration": 0.042282,
     "end_time": "2021-04-04T23:25:50.882703",
     "exception": false,
     "start_time": "2021-04-04T23:25:50.840421",
     "status": "completed"
    },
    "tags": []
   },
   "outputs": [],
   "source": [
    "del df['id']"
   ]
  },
  {
   "cell_type": "code",
   "execution_count": 9,
   "id": "6ff6f5b0",
   "metadata": {
    "execution": {
     "iopub.execute_input": "2021-04-04T23:25:50.947973Z",
     "iopub.status.busy": "2021-04-04T23:25:50.947239Z",
     "iopub.status.idle": "2021-04-04T23:25:50.949996Z",
     "shell.execute_reply": "2021-04-04T23:25:50.951457Z"
    },
    "papermill": {
     "duration": 0.039803,
     "end_time": "2021-04-04T23:25:50.951987",
     "exception": false,
     "start_time": "2021-04-04T23:25:50.912184",
     "status": "completed"
    },
    "tags": []
   },
   "outputs": [],
   "source": [
    "if PROFILE_REPORTING:\n",
    "    ProfileReport(df).to_widgets()"
   ]
  },
  {
   "cell_type": "markdown",
   "id": "1deaf3f0",
   "metadata": {
    "papermill": {
     "duration": 0.040104,
     "end_time": "2021-04-04T23:25:51.028730",
     "exception": false,
     "start_time": "2021-04-04T23:25:50.988626",
     "status": "completed"
    },
    "tags": []
   },
   "source": [
    "# Preprocess"
   ]
  },
  {
   "cell_type": "code",
   "execution_count": 10,
   "id": "1513e563",
   "metadata": {
    "execution": {
     "iopub.execute_input": "2021-04-04T23:25:51.106070Z",
     "iopub.status.busy": "2021-04-04T23:25:51.104969Z",
     "iopub.status.idle": "2021-04-04T23:25:51.108866Z",
     "shell.execute_reply": "2021-04-04T23:25:51.107632Z"
    },
    "papermill": {
     "duration": 0.045709,
     "end_time": "2021-04-04T23:25:51.109124",
     "exception": false,
     "start_time": "2021-04-04T23:25:51.063415",
     "status": "completed"
    },
    "tags": []
   },
   "outputs": [],
   "source": [
    "working_df = df.copy()"
   ]
  },
  {
   "cell_type": "code",
   "execution_count": 11,
   "id": "3b26d675",
   "metadata": {
    "execution": {
     "iopub.execute_input": "2021-04-04T23:25:51.200941Z",
     "iopub.status.busy": "2021-04-04T23:25:51.199744Z",
     "iopub.status.idle": "2021-04-04T23:25:51.202813Z",
     "shell.execute_reply": "2021-04-04T23:25:51.204380Z"
    },
    "papermill": {
     "duration": 0.056439,
     "end_time": "2021-04-04T23:25:51.205035",
     "exception": false,
     "start_time": "2021-04-04T23:25:51.148596",
     "status": "completed"
    },
    "tags": []
   },
   "outputs": [],
   "source": [
    "working_df['defects'] = working_df['defects'].replace([False, True], [0, 1])"
   ]
  },
  {
   "cell_type": "code",
   "execution_count": 12,
   "id": "eb48604f",
   "metadata": {
    "execution": {
     "iopub.execute_input": "2021-04-04T23:25:51.287926Z",
     "iopub.status.busy": "2021-04-04T23:25:51.284831Z",
     "iopub.status.idle": "2021-04-04T23:25:51.289166Z",
     "shell.execute_reply": "2021-04-04T23:25:51.289730Z"
    },
    "papermill": {
     "duration": 0.047702,
     "end_time": "2021-04-04T23:25:51.289905",
     "exception": false,
     "start_time": "2021-04-04T23:25:51.242203",
     "status": "completed"
    },
    "tags": []
   },
   "outputs": [],
   "source": [
    "for col in dataset_config['delete_columns']:\n",
    "    del working_df[col]"
   ]
  },
  {
   "cell_type": "code",
   "execution_count": 13,
   "id": "9a17bc29",
   "metadata": {
    "execution": {
     "iopub.execute_input": "2021-04-04T23:25:51.368566Z",
     "iopub.status.busy": "2021-04-04T23:25:51.364526Z",
     "iopub.status.idle": "2021-04-04T23:25:51.380131Z",
     "shell.execute_reply": "2021-04-04T23:25:51.380731Z"
    },
    "papermill": {
     "duration": 0.063206,
     "end_time": "2021-04-04T23:25:51.381039",
     "exception": false,
     "start_time": "2021-04-04T23:25:51.317833",
     "status": "completed"
    },
    "tags": []
   },
   "outputs": [],
   "source": [
    "working_df = working_df.drop_duplicates()"
   ]
  },
  {
   "cell_type": "markdown",
   "id": "a4d52ca6",
   "metadata": {
    "papermill": {
     "duration": 0.025054,
     "end_time": "2021-04-04T23:25:51.433575",
     "exception": false,
     "start_time": "2021-04-04T23:25:51.408521",
     "status": "completed"
    },
    "tags": []
   },
   "source": [
    "# Split"
   ]
  },
  {
   "cell_type": "code",
   "execution_count": 14,
   "id": "3e9ee4b5",
   "metadata": {
    "execution": {
     "iopub.execute_input": "2021-04-04T23:25:51.495185Z",
     "iopub.status.busy": "2021-04-04T23:25:51.494400Z",
     "iopub.status.idle": "2021-04-04T23:25:51.526383Z",
     "shell.execute_reply": "2021-04-04T23:25:51.526949Z"
    },
    "papermill": {
     "duration": 0.067651,
     "end_time": "2021-04-04T23:25:51.527114",
     "exception": false,
     "start_time": "2021-04-04T23:25:51.459463",
     "status": "completed"
    },
    "tags": []
   },
   "outputs": [],
   "source": [
    "from sklearn.model_selection import train_test_split"
   ]
  },
  {
   "cell_type": "code",
   "execution_count": 15,
   "id": "274004ce",
   "metadata": {
    "execution": {
     "iopub.execute_input": "2021-04-04T23:25:51.584631Z",
     "iopub.status.busy": "2021-04-04T23:25:51.583636Z",
     "iopub.status.idle": "2021-04-04T23:25:51.588676Z",
     "shell.execute_reply": "2021-04-04T23:25:51.589296Z"
    },
    "papermill": {
     "duration": 0.033244,
     "end_time": "2021-04-04T23:25:51.589459",
     "exception": false,
     "start_time": "2021-04-04T23:25:51.556215",
     "status": "completed"
    },
    "scrolled": true,
    "tags": []
   },
   "outputs": [],
   "source": [
    "inlier, outlier = working_df[working_df['defects'] == 0], working_df[working_df['defects'] == 1]"
   ]
  },
  {
   "cell_type": "code",
   "execution_count": 16,
   "id": "753c7b03",
   "metadata": {
    "execution": {
     "iopub.execute_input": "2021-04-04T23:25:51.653287Z",
     "iopub.status.busy": "2021-04-04T23:25:51.652025Z",
     "iopub.status.idle": "2021-04-04T23:25:51.655558Z",
     "shell.execute_reply": "2021-04-04T23:25:51.657038Z"
    },
    "papermill": {
     "duration": 0.040697,
     "end_time": "2021-04-04T23:25:51.657368",
     "exception": false,
     "start_time": "2021-04-04T23:25:51.616671",
     "status": "completed"
    },
    "tags": []
   },
   "outputs": [],
   "source": [
    "X_inlier = inlier.copy()\n",
    "y_inlier = X_inlier.pop('defects')\n",
    "X_outlier = outlier.copy()\n",
    "y_outlier = X_outlier.pop('defects')"
   ]
  },
  {
   "cell_type": "code",
   "execution_count": 17,
   "id": "2ba43193",
   "metadata": {
    "execution": {
     "iopub.execute_input": "2021-04-04T23:25:51.721105Z",
     "iopub.status.busy": "2021-04-04T23:25:51.718380Z",
     "iopub.status.idle": "2021-04-04T23:25:51.723958Z",
     "shell.execute_reply": "2021-04-04T23:25:51.723311Z"
    },
    "papermill": {
     "duration": 0.041586,
     "end_time": "2021-04-04T23:25:51.724101",
     "exception": false,
     "start_time": "2021-04-04T23:25:51.682515",
     "status": "completed"
    },
    "tags": []
   },
   "outputs": [],
   "source": [
    "test_size = dataset_config['test_size']\n",
    "random_state = dataset_config['random_state']\n",
    "\n",
    "X_inlier_train, X_inlier_test, y_inlier_train, y_inlier_test = train_test_split(\n",
    "    X_inlier,\n",
    "    y_inlier,\n",
    "    test_size=test_size,\n",
    "    random_state=random_state\n",
    ")"
   ]
  },
  {
   "cell_type": "code",
   "execution_count": 18,
   "id": "0b7582ca",
   "metadata": {
    "execution": {
     "iopub.execute_input": "2021-04-04T23:25:51.796110Z",
     "iopub.status.busy": "2021-04-04T23:25:51.795332Z",
     "iopub.status.idle": "2021-04-04T23:25:51.799800Z",
     "shell.execute_reply": "2021-04-04T23:25:51.799154Z"
    },
    "papermill": {
     "duration": 0.046252,
     "end_time": "2021-04-04T23:25:51.799955",
     "exception": false,
     "start_time": "2021-04-04T23:25:51.753703",
     "status": "completed"
    },
    "tags": []
   },
   "outputs": [],
   "source": [
    "test_outlier_size = dataset_config['test_outlier_size']\n",
    "if test_outlier_size > 0.0:\n",
    "    X_outlier_train, X_outlier_test, y_outlier_train, y_outlier_test = train_test_split(\n",
    "        X_outlier,\n",
    "        y_outlier,\n",
    "        test_size=test_outlier_size,\n",
    "        random_state=random_state\n",
    "    )\n",
    "else:\n",
    "    X_outlier_train, y_outlier_train = pd.DataFrame(columns=X_outlier.columns), pd.Series(dtype='int64')\n",
    "    X_outlier_test, y_outlier_test = X_outlier.copy(), y_outlier.copy()"
   ]
  },
  {
   "cell_type": "code",
   "execution_count": 19,
   "id": "c34363db",
   "metadata": {
    "execution": {
     "iopub.execute_input": "2021-04-04T23:25:51.865698Z",
     "iopub.status.busy": "2021-04-04T23:25:51.864239Z",
     "iopub.status.idle": "2021-04-04T23:25:51.868910Z",
     "shell.execute_reply": "2021-04-04T23:25:51.869372Z"
    },
    "papermill": {
     "duration": 0.03987,
     "end_time": "2021-04-04T23:25:51.869522",
     "exception": false,
     "start_time": "2021-04-04T23:25:51.829652",
     "status": "completed"
    },
    "tags": []
   },
   "outputs": [],
   "source": [
    "X_train, y_train = pd.concat([X_inlier_train, X_outlier_train], ignore_index=True), pd.concat([y_inlier_train, y_outlier_train], ignore_index=True)\n",
    "X_test, y_test = pd.concat([X_inlier_test, X_outlier_test], ignore_index=True), pd.concat([y_inlier_test, y_outlier_test], ignore_index=True)"
   ]
  },
  {
   "cell_type": "markdown",
   "id": "7cde7309",
   "metadata": {
    "papermill": {
     "duration": 0.030995,
     "end_time": "2021-04-04T23:25:51.927017",
     "exception": false,
     "start_time": "2021-04-04T23:25:51.896022",
     "status": "completed"
    },
    "tags": []
   },
   "source": [
    "# Model"
   ]
  },
  {
   "cell_type": "code",
   "execution_count": 20,
   "id": "2b12a415",
   "metadata": {
    "execution": {
     "iopub.execute_input": "2021-04-04T23:25:51.989903Z",
     "iopub.status.busy": "2021-04-04T23:25:51.989100Z",
     "iopub.status.idle": "2021-04-04T23:25:51.991131Z",
     "shell.execute_reply": "2021-04-04T23:25:51.991717Z"
    },
    "papermill": {
     "duration": 0.03757,
     "end_time": "2021-04-04T23:25:51.991869",
     "exception": false,
     "start_time": "2021-04-04T23:25:51.954299",
     "status": "completed"
    },
    "tags": []
   },
   "outputs": [],
   "source": [
    "from math import sqrt\n",
    "\n",
    "\n",
    "class KNNDataDescription:\n",
    "    def __init__(self, k=5, outlier_threshold=1.0):\n",
    "        self.k = k\n",
    "        self.outlier_threshold = outlier_threshold\n",
    "        self.X = []\n",
    "    \n",
    "    def fit(self, X):\n",
    "        self.X = [features.to_list() for index, features in X.iterrows()]\n",
    "\n",
    "    def predict(self, entries):\n",
    "        return [self.predict_entry(features.to_list()) for index, features in entries.iterrows()]\n",
    "    \n",
    "    def predict_entry(self, entry):\n",
    "        kth_neighbor, kth_distance = self.get_kth_neighbor(entry, self.k)\n",
    "        kth_kth_neighbor, kth_kth_distance = self.get_kth_neighbor(kth_neighbor, self.k + 1)\n",
    "\n",
    "        outlier_score = kth_distance / (kth_kth_distance + 0.000001)\n",
    "\n",
    "        return 1 if outlier_score < self.outlier_threshold else -1\n",
    "        \n",
    "    def euclidean_distance(self, features1, features2):\n",
    "        distance = 0.0\n",
    "        for feat1, feat2 in zip(features1, features2):\n",
    "            distance += (feat1 - feat2)**2\n",
    "                \n",
    "        return sqrt(distance)\n",
    "\n",
    "    def get_neighbors(self, entry, k):\n",
    "        distance_to_data_points = [\n",
    "            (data_point, self.euclidean_distance(entry, data_point))\n",
    "            for data_point in self.X\n",
    "        ]\n",
    "        sorted_by_distance = sorted(distance_to_data_points, key=lambda tup: tup[1])\n",
    "        neighbors = sorted_by_distance[:k]\n",
    "        return neighbors\n",
    "\n",
    "    def get_kth_neighbor(self, entry, k):\n",
    "        neighbors = self.get_neighbors(entry, k)\n",
    "        return neighbors[-1]\n"
   ]
  },
  {
   "cell_type": "code",
   "execution_count": 21,
   "id": "1fa9ec1c",
   "metadata": {
    "execution": {
     "iopub.execute_input": "2021-04-04T23:25:52.053516Z",
     "iopub.status.busy": "2021-04-04T23:25:52.052172Z",
     "iopub.status.idle": "2021-04-04T23:25:52.077934Z",
     "shell.execute_reply": "2021-04-04T23:25:52.078395Z"
    },
    "papermill": {
     "duration": 0.059394,
     "end_time": "2021-04-04T23:25:52.078547",
     "exception": false,
     "start_time": "2021-04-04T23:25:52.019153",
     "status": "completed"
    },
    "tags": []
   },
   "outputs": [],
   "source": [
    "from sklearn.svm import OneClassSVM\n",
    "\n",
    "\n",
    "models = {\n",
    "    'oneclasssvm': OneClassSVM,\n",
    "    'knndatadescription': KNNDataDescription,\n",
    "}"
   ]
  },
  {
   "cell_type": "code",
   "execution_count": 22,
   "id": "4d72a0b1",
   "metadata": {
    "execution": {
     "iopub.execute_input": "2021-04-04T23:25:52.133012Z",
     "iopub.status.busy": "2021-04-04T23:25:52.132425Z",
     "iopub.status.idle": "2021-04-04T23:25:52.134907Z",
     "shell.execute_reply": "2021-04-04T23:25:52.134327Z"
    },
    "papermill": {
     "duration": 0.029813,
     "end_time": "2021-04-04T23:25:52.135025",
     "exception": false,
     "start_time": "2021-04-04T23:25:52.105212",
     "status": "completed"
    },
    "scrolled": true,
    "tags": []
   },
   "outputs": [],
   "source": [
    "model_cls = models[model_config['model_type']]\n",
    "model = model_cls(**model_config['hyperparameters'])"
   ]
  },
  {
   "cell_type": "markdown",
   "id": "e00cff3b",
   "metadata": {
    "papermill": {
     "duration": 0.031068,
     "end_time": "2021-04-04T23:25:52.192857",
     "exception": false,
     "start_time": "2021-04-04T23:25:52.161789",
     "status": "completed"
    },
    "tags": []
   },
   "source": [
    "# Fit"
   ]
  },
  {
   "cell_type": "code",
   "execution_count": 23,
   "id": "8b2ded89",
   "metadata": {
    "execution": {
     "iopub.execute_input": "2021-04-04T23:25:52.247915Z",
     "iopub.status.busy": "2021-04-04T23:25:52.246856Z",
     "iopub.status.idle": "2021-04-04T23:25:52.272364Z",
     "shell.execute_reply": "2021-04-04T23:25:52.271766Z"
    },
    "papermill": {
     "duration": 0.052337,
     "end_time": "2021-04-04T23:25:52.272484",
     "exception": false,
     "start_time": "2021-04-04T23:25:52.220147",
     "status": "completed"
    },
    "tags": []
   },
   "outputs": [],
   "source": [
    "model.fit(X_train)"
   ]
  },
  {
   "cell_type": "markdown",
   "id": "f99999f7",
   "metadata": {
    "papermill": {
     "duration": 0.030346,
     "end_time": "2021-04-04T23:25:52.326084",
     "exception": false,
     "start_time": "2021-04-04T23:25:52.295738",
     "status": "completed"
    },
    "tags": []
   },
   "source": [
    "# Predict"
   ]
  },
  {
   "cell_type": "code",
   "execution_count": 24,
   "id": "6536fbf7",
   "metadata": {
    "execution": {
     "iopub.execute_input": "2021-04-04T23:25:52.415161Z",
     "iopub.status.busy": "2021-04-04T23:25:52.394120Z",
     "iopub.status.idle": "2021-04-04T23:25:52.703314Z",
     "shell.execute_reply": "2021-04-04T23:25:52.702670Z"
    },
    "papermill": {
     "duration": 0.344165,
     "end_time": "2021-04-04T23:25:52.703442",
     "exception": false,
     "start_time": "2021-04-04T23:25:52.359277",
     "status": "completed"
    },
    "tags": []
   },
   "outputs": [],
   "source": [
    "predictions = model.predict(X_test)"
   ]
  },
  {
   "cell_type": "markdown",
   "id": "aa1c9881",
   "metadata": {
    "papermill": {
     "duration": 0.034047,
     "end_time": "2021-04-04T23:25:52.764176",
     "exception": false,
     "start_time": "2021-04-04T23:25:52.730129",
     "status": "completed"
    },
    "tags": []
   },
   "source": [
    "# Evaluate"
   ]
  },
  {
   "cell_type": "code",
   "execution_count": 25,
   "id": "894f0f04",
   "metadata": {
    "execution": {
     "iopub.execute_input": "2021-04-04T23:25:52.834333Z",
     "iopub.status.busy": "2021-04-04T23:25:52.832629Z",
     "iopub.status.idle": "2021-04-04T23:25:52.837839Z",
     "shell.execute_reply": "2021-04-04T23:25:52.837216Z"
    },
    "papermill": {
     "duration": 0.04046,
     "end_time": "2021-04-04T23:25:52.837981",
     "exception": false,
     "start_time": "2021-04-04T23:25:52.797521",
     "status": "completed"
    },
    "tags": []
   },
   "outputs": [],
   "source": [
    "from sklearn.metrics import f1_score"
   ]
  },
  {
   "cell_type": "code",
   "execution_count": 26,
   "id": "211744d3",
   "metadata": {
    "execution": {
     "iopub.execute_input": "2021-04-04T23:25:52.899603Z",
     "iopub.status.busy": "2021-04-04T23:25:52.898595Z",
     "iopub.status.idle": "2021-04-04T23:25:52.901168Z",
     "shell.execute_reply": "2021-04-04T23:25:52.903021Z"
    },
    "papermill": {
     "duration": 0.041039,
     "end_time": "2021-04-04T23:25:52.903452",
     "exception": false,
     "start_time": "2021-04-04T23:25:52.862413",
     "status": "completed"
    },
    "tags": []
   },
   "outputs": [],
   "source": [
    "y_test = y_test.replace([0, 1], [1, -1])"
   ]
  },
  {
   "cell_type": "code",
   "execution_count": 27,
   "id": "d68a9204",
   "metadata": {
    "execution": {
     "iopub.execute_input": "2021-04-04T23:25:52.960975Z",
     "iopub.status.busy": "2021-04-04T23:25:52.960272Z",
     "iopub.status.idle": "2021-04-04T23:25:52.962650Z",
     "shell.execute_reply": "2021-04-04T23:25:52.962085Z"
    },
    "papermill": {
     "duration": 0.032992,
     "end_time": "2021-04-04T23:25:52.962774",
     "exception": false,
     "start_time": "2021-04-04T23:25:52.929782",
     "status": "completed"
    },
    "tags": []
   },
   "outputs": [],
   "source": [
    "def evaluate(truths, predictions, pos_label, neg_label):\n",
    "    TP = 0\n",
    "    FP = 0\n",
    "    TN = 0\n",
    "    FN = 0\n",
    "\n",
    "    for truth, pred in zip(truths, predictions): \n",
    "        if truth == pred == pos_label:\n",
    "           TP += 1\n",
    "        elif pred == pos_label and truth == neg_label:\n",
    "           FP += 1\n",
    "        elif truth == pred == neg_label:\n",
    "           TN += 1\n",
    "        elif pred == neg_label and truth == pos_label:\n",
    "           FN += 1\n",
    "\n",
    "    precision = TP / (TP + FP)\n",
    "    sensitivity = TP / (TP + FN)\n",
    "    \n",
    "    return {\n",
    "        'true_pos': TP,\n",
    "        'false_pos': FP,\n",
    "        'false_neg': FN,\n",
    "        'true_neg': TN,\n",
    "        'precision': precision,\n",
    "        'sensitivity': sensitivity,\n",
    "        'f1': (2 * (precision * sensitivity)) / (precision + sensitivity)\n",
    "    }\n",
    "\n",
    "score = evaluate(y_test, predictions, pos_label=-1, neg_label=1)"
   ]
  },
  {
   "cell_type": "markdown",
   "id": "93596516",
   "metadata": {
    "papermill": {
     "duration": 0.028364,
     "end_time": "2021-04-04T23:25:53.016624",
     "exception": false,
     "start_time": "2021-04-04T23:25:52.988260",
     "status": "completed"
    },
    "tags": []
   },
   "source": [
    "# Report"
   ]
  },
  {
   "cell_type": "code",
   "execution_count": 28,
   "id": "bea5fba1",
   "metadata": {
    "execution": {
     "iopub.execute_input": "2021-04-04T23:25:53.075901Z",
     "iopub.status.busy": "2021-04-04T23:25:53.074980Z",
     "iopub.status.idle": "2021-04-04T23:25:53.077463Z",
     "shell.execute_reply": "2021-04-04T23:25:53.077946Z"
    },
    "papermill": {
     "duration": 0.033413,
     "end_time": "2021-04-04T23:25:53.078091",
     "exception": false,
     "start_time": "2021-04-04T23:25:53.044678",
     "status": "completed"
    },
    "tags": []
   },
   "outputs": [],
   "source": [
    "import csv\n",
    "\n",
    "\n",
    "dataset_config_name = DATASET_CONFIG_PATH.split('/')[-1].split('.')[0]\n",
    "model_config_name = MODEL_CONFIG_PATH.split('/')[-1].split('.')[0]\n",
    "configuration = f\"dataset_{dataset_config_name}-model_{model_config_name}\"\n",
    "\n",
    "with open('results.csv', 'a') as f:\n",
    "    report = dict({'configuration': configuration}, **score)\n",
    "    writer = csv.DictWriter(f, report.keys())\n",
    "    writer.writerow(report)"
   ]
  }
 ],
 "metadata": {
  "celltoolbar": "Tags",
  "kernelspec": {
   "display_name": "Python 3",
   "language": "python",
   "name": "python3"
  },
  "language_info": {
   "codemirror_mode": {
    "name": "ipython",
    "version": 3
   },
   "file_extension": ".py",
   "mimetype": "text/x-python",
   "name": "python",
   "nbconvert_exporter": "python",
   "pygments_lexer": "ipython3",
   "version": "3.9.1"
  },
  "papermill": {
   "default_parameters": {},
   "duration": 7.90821,
   "end_time": "2021-04-04T23:25:53.917394",
   "environment_variables": {},
   "exception": null,
   "input_path": "main.ipynb",
   "output_path": "runs/dataset_000132-model_000002.ipynb",
   "parameters": {
    "DATASET_CONFIG_PATH": "config/dataset/000132.json",
    "MODEL_CONFIG_PATH": "config/model/000002.json",
    "PROFILE_REPORTING": false
   },
   "start_time": "2021-04-04T23:25:46.009184",
   "version": "2.3.3"
  }
 },
 "nbformat": 4,
 "nbformat_minor": 5
}