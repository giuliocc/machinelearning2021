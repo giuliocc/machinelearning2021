{
 "cells": [
  {
   "cell_type": "markdown",
   "id": "51c71c25",
   "metadata": {
    "papermill": {
     "duration": 0.023254,
     "end_time": "2021-04-04T23:34:26.762526",
     "exception": false,
     "start_time": "2021-04-04T23:34:26.739272",
     "status": "completed"
    },
    "tags": []
   },
   "source": [
    "# Parametrizing"
   ]
  },
  {
   "cell_type": "code",
   "execution_count": 1,
   "id": "3b136394",
   "metadata": {
    "execution": {
     "iopub.execute_input": "2021-04-04T23:34:26.817169Z",
     "iopub.status.busy": "2021-04-04T23:34:26.816154Z",
     "iopub.status.idle": "2021-04-04T23:34:26.818433Z",
     "shell.execute_reply": "2021-04-04T23:34:26.818941Z"
    },
    "papermill": {
     "duration": 0.036541,
     "end_time": "2021-04-04T23:34:26.819158",
     "exception": false,
     "start_time": "2021-04-04T23:34:26.782617",
     "status": "completed"
    },
    "tags": [
     "parameters"
    ]
   },
   "outputs": [],
   "source": [
    "DATASET_CONFIG_PATH = 'config/dataset/kc1_001.json'\n",
    "MODEL_CONFIG_PATH = 'config/model/knndd_001.json'\n",
    "PROFILE_REPORTING = False"
   ]
  },
  {
   "cell_type": "code",
   "execution_count": 2,
   "id": "ca746eb9",
   "metadata": {
    "execution": {
     "iopub.execute_input": "2021-04-04T23:34:26.866491Z",
     "iopub.status.busy": "2021-04-04T23:34:26.865894Z",
     "iopub.status.idle": "2021-04-04T23:34:26.867901Z",
     "shell.execute_reply": "2021-04-04T23:34:26.868389Z"
    },
    "papermill": {
     "duration": 0.026374,
     "end_time": "2021-04-04T23:34:26.868538",
     "exception": false,
     "start_time": "2021-04-04T23:34:26.842164",
     "status": "completed"
    },
    "tags": [
     "injected-parameters"
    ]
   },
   "outputs": [],
   "source": [
    "# Parameters\n",
    "DATASET_CONFIG_PATH = \"config/dataset/000152.json\"\n",
    "MODEL_CONFIG_PATH = \"config/model/000001.json\"\n",
    "PROFILE_REPORTING = False\n"
   ]
  },
  {
   "cell_type": "code",
   "execution_count": 3,
   "id": "b80f2a10",
   "metadata": {
    "execution": {
     "iopub.execute_input": "2021-04-04T23:34:26.923743Z",
     "iopub.status.busy": "2021-04-04T23:34:26.922948Z",
     "iopub.status.idle": "2021-04-04T23:34:26.926018Z",
     "shell.execute_reply": "2021-04-04T23:34:26.926530Z"
    },
    "papermill": {
     "duration": 0.035136,
     "end_time": "2021-04-04T23:34:26.926734",
     "exception": false,
     "start_time": "2021-04-04T23:34:26.891598",
     "status": "completed"
    },
    "tags": []
   },
   "outputs": [],
   "source": [
    "import json\n",
    "\n",
    "\n",
    "with open(DATASET_CONFIG_PATH) as f:\n",
    "    dataset_config = json.load(f)\n",
    "\n",
    "with open(MODEL_CONFIG_PATH) as f:\n",
    "    model_config = json.load(f)"
   ]
  },
  {
   "cell_type": "markdown",
   "id": "9a4b0e2d",
   "metadata": {
    "papermill": {
     "duration": 0.022607,
     "end_time": "2021-04-04T23:34:26.970318",
     "exception": false,
     "start_time": "2021-04-04T23:34:26.947711",
     "status": "completed"
    },
    "tags": []
   },
   "source": [
    "# Profiling"
   ]
  },
  {
   "cell_type": "code",
   "execution_count": 4,
   "id": "a3e0289b",
   "metadata": {
    "execution": {
     "iopub.execute_input": "2021-04-04T23:34:27.026370Z",
     "iopub.status.busy": "2021-04-04T23:34:27.025596Z",
     "iopub.status.idle": "2021-04-04T23:34:28.394526Z",
     "shell.execute_reply": "2021-04-04T23:34:28.393920Z"
    },
    "papermill": {
     "duration": 1.399645,
     "end_time": "2021-04-04T23:34:28.394647",
     "exception": false,
     "start_time": "2021-04-04T23:34:26.995002",
     "status": "completed"
    },
    "tags": []
   },
   "outputs": [],
   "source": [
    "import pandas as pd\n",
    "from pandas_profiling import ProfileReport"
   ]
  },
  {
   "cell_type": "code",
   "execution_count": 5,
   "id": "ee6c0666",
   "metadata": {
    "execution": {
     "iopub.execute_input": "2021-04-04T23:34:28.442636Z",
     "iopub.status.busy": "2021-04-04T23:34:28.442026Z",
     "iopub.status.idle": "2021-04-04T23:34:28.450103Z",
     "shell.execute_reply": "2021-04-04T23:34:28.450582Z"
    },
    "papermill": {
     "duration": 0.033009,
     "end_time": "2021-04-04T23:34:28.450731",
     "exception": false,
     "start_time": "2021-04-04T23:34:28.417722",
     "status": "completed"
    },
    "tags": []
   },
   "outputs": [],
   "source": [
    "df = pd.read_csv(dataset_config['dataset_path'])"
   ]
  },
  {
   "cell_type": "code",
   "execution_count": 6,
   "id": "7eca6c4a",
   "metadata": {
    "execution": {
     "iopub.execute_input": "2021-04-04T23:34:28.516359Z",
     "iopub.status.busy": "2021-04-04T23:34:28.500732Z",
     "iopub.status.idle": "2021-04-04T23:34:28.519861Z",
     "shell.execute_reply": "2021-04-04T23:34:28.520338Z"
    },
    "papermill": {
     "duration": 0.048344,
     "end_time": "2021-04-04T23:34:28.520483",
     "exception": false,
     "start_time": "2021-04-04T23:34:28.472139",
     "status": "completed"
    },
    "tags": []
   },
   "outputs": [
    {
     "name": "stdout",
     "output_type": "stream",
     "text": [
      "<class 'pandas.core.frame.DataFrame'>\n",
      "RangeIndex: 498 entries, 0 to 497\n",
      "Data columns (total 23 columns):\n",
      " #   Column             Non-Null Count  Dtype  \n",
      "---  ------             --------------  -----  \n",
      " 0   id                 498 non-null    int64  \n",
      " 1   loc                498 non-null    float64\n",
      " 2   v(g)               498 non-null    float64\n",
      " 3   ev(g)              498 non-null    float64\n",
      " 4   iv(g)              498 non-null    float64\n",
      " 5   n                  498 non-null    float64\n",
      " 6   v                  498 non-null    float64\n",
      " 7   l                  498 non-null    float64\n",
      " 8   d                  498 non-null    float64\n",
      " 9   i                  498 non-null    float64\n",
      " 10  e                  498 non-null    float64\n",
      " 11  b                  498 non-null    float64\n",
      " 12  t                  498 non-null    float64\n",
      " 13  lOCode             498 non-null    int64  \n",
      " 14  lOComment          498 non-null    int64  \n",
      " 15  lOBlank            498 non-null    int64  \n",
      " 16  locCodeAndComment  498 non-null    int64  \n",
      " 17  uniq_Op            498 non-null    float64\n",
      " 18  uniq_Opnd          498 non-null    float64\n",
      " 19  total_Op           498 non-null    float64\n",
      " 20  total_Opnd         498 non-null    float64\n",
      " 21  branchCount        498 non-null    float64\n",
      " 22  defects            498 non-null    bool   \n",
      "dtypes: bool(1), float64(17), int64(5)\n",
      "memory usage: 86.2 KB\n"
     ]
    }
   ],
   "source": [
    "df.info()"
   ]
  },
  {
   "cell_type": "code",
   "execution_count": 7,
   "id": "3638e5e8",
   "metadata": {
    "execution": {
     "iopub.execute_input": "2021-04-04T23:34:28.571733Z",
     "iopub.status.busy": "2021-04-04T23:34:28.571095Z",
     "iopub.status.idle": "2021-04-04T23:34:28.607261Z",
     "shell.execute_reply": "2021-04-04T23:34:28.607708Z"
    },
    "papermill": {
     "duration": 0.066188,
     "end_time": "2021-04-04T23:34:28.607848",
     "exception": false,
     "start_time": "2021-04-04T23:34:28.541660",
     "status": "completed"
    },
    "tags": []
   },
   "outputs": [
    {
     "data": {
      "text/html": [
       "<div>\n",
       "<style scoped>\n",
       "    .dataframe tbody tr th:only-of-type {\n",
       "        vertical-align: middle;\n",
       "    }\n",
       "\n",
       "    .dataframe tbody tr th {\n",
       "        vertical-align: top;\n",
       "    }\n",
       "\n",
       "    .dataframe thead th {\n",
       "        text-align: right;\n",
       "    }\n",
       "</style>\n",
       "<table border=\"1\" class=\"dataframe\">\n",
       "  <thead>\n",
       "    <tr style=\"text-align: right;\">\n",
       "      <th></th>\n",
       "      <th>id</th>\n",
       "      <th>loc</th>\n",
       "      <th>v(g)</th>\n",
       "      <th>ev(g)</th>\n",
       "      <th>iv(g)</th>\n",
       "      <th>n</th>\n",
       "      <th>v</th>\n",
       "      <th>l</th>\n",
       "      <th>d</th>\n",
       "      <th>i</th>\n",
       "      <th>...</th>\n",
       "      <th>lOCode</th>\n",
       "      <th>lOComment</th>\n",
       "      <th>lOBlank</th>\n",
       "      <th>locCodeAndComment</th>\n",
       "      <th>uniq_Op</th>\n",
       "      <th>uniq_Opnd</th>\n",
       "      <th>total_Op</th>\n",
       "      <th>total_Opnd</th>\n",
       "      <th>branchCount</th>\n",
       "      <th>defects</th>\n",
       "    </tr>\n",
       "  </thead>\n",
       "  <tbody>\n",
       "    <tr>\n",
       "      <th>0</th>\n",
       "      <td>1</td>\n",
       "      <td>1.1</td>\n",
       "      <td>1.4</td>\n",
       "      <td>1.4</td>\n",
       "      <td>1.4</td>\n",
       "      <td>1.3</td>\n",
       "      <td>1.30</td>\n",
       "      <td>1.30</td>\n",
       "      <td>1.30</td>\n",
       "      <td>1.30</td>\n",
       "      <td>...</td>\n",
       "      <td>2</td>\n",
       "      <td>2</td>\n",
       "      <td>2</td>\n",
       "      <td>2</td>\n",
       "      <td>1.2</td>\n",
       "      <td>1.2</td>\n",
       "      <td>1.2</td>\n",
       "      <td>1.2</td>\n",
       "      <td>1.4</td>\n",
       "      <td>False</td>\n",
       "    </tr>\n",
       "    <tr>\n",
       "      <th>1</th>\n",
       "      <td>2</td>\n",
       "      <td>1.0</td>\n",
       "      <td>1.0</td>\n",
       "      <td>1.0</td>\n",
       "      <td>1.0</td>\n",
       "      <td>1.0</td>\n",
       "      <td>1.00</td>\n",
       "      <td>1.00</td>\n",
       "      <td>1.00</td>\n",
       "      <td>1.00</td>\n",
       "      <td>...</td>\n",
       "      <td>1</td>\n",
       "      <td>1</td>\n",
       "      <td>1</td>\n",
       "      <td>1</td>\n",
       "      <td>1.0</td>\n",
       "      <td>1.0</td>\n",
       "      <td>1.0</td>\n",
       "      <td>1.0</td>\n",
       "      <td>1.0</td>\n",
       "      <td>True</td>\n",
       "    </tr>\n",
       "    <tr>\n",
       "      <th>2</th>\n",
       "      <td>3</td>\n",
       "      <td>24.0</td>\n",
       "      <td>5.0</td>\n",
       "      <td>1.0</td>\n",
       "      <td>3.0</td>\n",
       "      <td>63.0</td>\n",
       "      <td>309.13</td>\n",
       "      <td>0.11</td>\n",
       "      <td>9.50</td>\n",
       "      <td>32.54</td>\n",
       "      <td>...</td>\n",
       "      <td>1</td>\n",
       "      <td>0</td>\n",
       "      <td>6</td>\n",
       "      <td>0</td>\n",
       "      <td>15.0</td>\n",
       "      <td>15.0</td>\n",
       "      <td>44.0</td>\n",
       "      <td>19.0</td>\n",
       "      <td>9.0</td>\n",
       "      <td>False</td>\n",
       "    </tr>\n",
       "    <tr>\n",
       "      <th>3</th>\n",
       "      <td>4</td>\n",
       "      <td>20.0</td>\n",
       "      <td>4.0</td>\n",
       "      <td>4.0</td>\n",
       "      <td>2.0</td>\n",
       "      <td>47.0</td>\n",
       "      <td>215.49</td>\n",
       "      <td>0.06</td>\n",
       "      <td>16.00</td>\n",
       "      <td>13.47</td>\n",
       "      <td>...</td>\n",
       "      <td>0</td>\n",
       "      <td>0</td>\n",
       "      <td>3</td>\n",
       "      <td>0</td>\n",
       "      <td>16.0</td>\n",
       "      <td>8.0</td>\n",
       "      <td>31.0</td>\n",
       "      <td>16.0</td>\n",
       "      <td>7.0</td>\n",
       "      <td>False</td>\n",
       "    </tr>\n",
       "    <tr>\n",
       "      <th>4</th>\n",
       "      <td>5</td>\n",
       "      <td>24.0</td>\n",
       "      <td>6.0</td>\n",
       "      <td>6.0</td>\n",
       "      <td>2.0</td>\n",
       "      <td>72.0</td>\n",
       "      <td>346.13</td>\n",
       "      <td>0.06</td>\n",
       "      <td>17.33</td>\n",
       "      <td>19.97</td>\n",
       "      <td>...</td>\n",
       "      <td>0</td>\n",
       "      <td>0</td>\n",
       "      <td>3</td>\n",
       "      <td>0</td>\n",
       "      <td>16.0</td>\n",
       "      <td>12.0</td>\n",
       "      <td>46.0</td>\n",
       "      <td>26.0</td>\n",
       "      <td>11.0</td>\n",
       "      <td>False</td>\n",
       "    </tr>\n",
       "  </tbody>\n",
       "</table>\n",
       "<p>5 rows × 23 columns</p>\n",
       "</div>"
      ],
      "text/plain": [
       "   id   loc  v(g)  ev(g)  iv(g)     n       v     l      d      i  ...  \\\n",
       "0   1   1.1   1.4    1.4    1.4   1.3    1.30  1.30   1.30   1.30  ...   \n",
       "1   2   1.0   1.0    1.0    1.0   1.0    1.00  1.00   1.00   1.00  ...   \n",
       "2   3  24.0   5.0    1.0    3.0  63.0  309.13  0.11   9.50  32.54  ...   \n",
       "3   4  20.0   4.0    4.0    2.0  47.0  215.49  0.06  16.00  13.47  ...   \n",
       "4   5  24.0   6.0    6.0    2.0  72.0  346.13  0.06  17.33  19.97  ...   \n",
       "\n",
       "   lOCode  lOComment  lOBlank  locCodeAndComment  uniq_Op  uniq_Opnd  \\\n",
       "0       2          2        2                  2      1.2        1.2   \n",
       "1       1          1        1                  1      1.0        1.0   \n",
       "2       1          0        6                  0     15.0       15.0   \n",
       "3       0          0        3                  0     16.0        8.0   \n",
       "4       0          0        3                  0     16.0       12.0   \n",
       "\n",
       "   total_Op  total_Opnd  branchCount  defects  \n",
       "0       1.2         1.2          1.4    False  \n",
       "1       1.0         1.0          1.0     True  \n",
       "2      44.0        19.0          9.0    False  \n",
       "3      31.0        16.0          7.0    False  \n",
       "4      46.0        26.0         11.0    False  \n",
       "\n",
       "[5 rows x 23 columns]"
      ]
     },
     "execution_count": 7,
     "metadata": {},
     "output_type": "execute_result"
    }
   ],
   "source": [
    "df.head()"
   ]
  },
  {
   "cell_type": "code",
   "execution_count": 8,
   "id": "733e95eb",
   "metadata": {
    "execution": {
     "iopub.execute_input": "2021-04-04T23:34:28.663980Z",
     "iopub.status.busy": "2021-04-04T23:34:28.662114Z",
     "iopub.status.idle": "2021-04-04T23:34:28.665819Z",
     "shell.execute_reply": "2021-04-04T23:34:28.666471Z"
    },
    "papermill": {
     "duration": 0.037566,
     "end_time": "2021-04-04T23:34:28.666653",
     "exception": false,
     "start_time": "2021-04-04T23:34:28.629087",
     "status": "completed"
    },
    "tags": []
   },
   "outputs": [],
   "source": [
    "del df['id']"
   ]
  },
  {
   "cell_type": "code",
   "execution_count": 9,
   "id": "6ff6f5b0",
   "metadata": {
    "execution": {
     "iopub.execute_input": "2021-04-04T23:34:28.717677Z",
     "iopub.status.busy": "2021-04-04T23:34:28.716921Z",
     "iopub.status.idle": "2021-04-04T23:34:28.718708Z",
     "shell.execute_reply": "2021-04-04T23:34:28.719188Z"
    },
    "papermill": {
     "duration": 0.030547,
     "end_time": "2021-04-04T23:34:28.719337",
     "exception": false,
     "start_time": "2021-04-04T23:34:28.688790",
     "status": "completed"
    },
    "tags": []
   },
   "outputs": [],
   "source": [
    "if PROFILE_REPORTING:\n",
    "    ProfileReport(df).to_widgets()"
   ]
  },
  {
   "cell_type": "markdown",
   "id": "1deaf3f0",
   "metadata": {
    "papermill": {
     "duration": 0.031738,
     "end_time": "2021-04-04T23:34:28.775816",
     "exception": false,
     "start_time": "2021-04-04T23:34:28.744078",
     "status": "completed"
    },
    "tags": []
   },
   "source": [
    "# Preprocess"
   ]
  },
  {
   "cell_type": "code",
   "execution_count": 10,
   "id": "1513e563",
   "metadata": {
    "execution": {
     "iopub.execute_input": "2021-04-04T23:34:28.827782Z",
     "iopub.status.busy": "2021-04-04T23:34:28.826941Z",
     "iopub.status.idle": "2021-04-04T23:34:28.829644Z",
     "shell.execute_reply": "2021-04-04T23:34:28.829024Z"
    },
    "papermill": {
     "duration": 0.029778,
     "end_time": "2021-04-04T23:34:28.829766",
     "exception": false,
     "start_time": "2021-04-04T23:34:28.799988",
     "status": "completed"
    },
    "tags": []
   },
   "outputs": [],
   "source": [
    "working_df = df.copy()"
   ]
  },
  {
   "cell_type": "code",
   "execution_count": 11,
   "id": "3b26d675",
   "metadata": {
    "execution": {
     "iopub.execute_input": "2021-04-04T23:34:28.900505Z",
     "iopub.status.busy": "2021-04-04T23:34:28.898131Z",
     "iopub.status.idle": "2021-04-04T23:34:28.902536Z",
     "shell.execute_reply": "2021-04-04T23:34:28.901904Z"
    },
    "papermill": {
     "duration": 0.047862,
     "end_time": "2021-04-04T23:34:28.902703",
     "exception": false,
     "start_time": "2021-04-04T23:34:28.854841",
     "status": "completed"
    },
    "tags": []
   },
   "outputs": [],
   "source": [
    "working_df['defects'] = working_df['defects'].replace([False, True], [0, 1])"
   ]
  },
  {
   "cell_type": "code",
   "execution_count": 12,
   "id": "eb48604f",
   "metadata": {
    "execution": {
     "iopub.execute_input": "2021-04-04T23:34:28.955697Z",
     "iopub.status.busy": "2021-04-04T23:34:28.953776Z",
     "iopub.status.idle": "2021-04-04T23:34:28.956684Z",
     "shell.execute_reply": "2021-04-04T23:34:28.957262Z"
    },
    "papermill": {
     "duration": 0.03057,
     "end_time": "2021-04-04T23:34:28.957435",
     "exception": false,
     "start_time": "2021-04-04T23:34:28.926865",
     "status": "completed"
    },
    "tags": []
   },
   "outputs": [],
   "source": [
    "for col in dataset_config['delete_columns']:\n",
    "    del working_df[col]"
   ]
  },
  {
   "cell_type": "code",
   "execution_count": 13,
   "id": "9a17bc29",
   "metadata": {
    "execution": {
     "iopub.execute_input": "2021-04-04T23:34:29.019458Z",
     "iopub.status.busy": "2021-04-04T23:34:29.018439Z",
     "iopub.status.idle": "2021-04-04T23:34:29.029037Z",
     "shell.execute_reply": "2021-04-04T23:34:29.029611Z"
    },
    "papermill": {
     "duration": 0.048297,
     "end_time": "2021-04-04T23:34:29.029782",
     "exception": false,
     "start_time": "2021-04-04T23:34:28.981485",
     "status": "completed"
    },
    "tags": []
   },
   "outputs": [],
   "source": [
    "working_df = working_df.drop_duplicates()"
   ]
  },
  {
   "cell_type": "markdown",
   "id": "a4d52ca6",
   "metadata": {
    "papermill": {
     "duration": 0.025308,
     "end_time": "2021-04-04T23:34:29.079036",
     "exception": false,
     "start_time": "2021-04-04T23:34:29.053728",
     "status": "completed"
    },
    "tags": []
   },
   "source": [
    "# Split"
   ]
  },
  {
   "cell_type": "code",
   "execution_count": 14,
   "id": "3e9ee4b5",
   "metadata": {
    "execution": {
     "iopub.execute_input": "2021-04-04T23:34:29.135479Z",
     "iopub.status.busy": "2021-04-04T23:34:29.134855Z",
     "iopub.status.idle": "2021-04-04T23:34:29.165510Z",
     "shell.execute_reply": "2021-04-04T23:34:29.164898Z"
    },
    "papermill": {
     "duration": 0.063639,
     "end_time": "2021-04-04T23:34:29.165631",
     "exception": false,
     "start_time": "2021-04-04T23:34:29.101992",
     "status": "completed"
    },
    "tags": []
   },
   "outputs": [],
   "source": [
    "from sklearn.model_selection import train_test_split"
   ]
  },
  {
   "cell_type": "code",
   "execution_count": 15,
   "id": "274004ce",
   "metadata": {
    "execution": {
     "iopub.execute_input": "2021-04-04T23:34:29.222007Z",
     "iopub.status.busy": "2021-04-04T23:34:29.220821Z",
     "iopub.status.idle": "2021-04-04T23:34:29.225990Z",
     "shell.execute_reply": "2021-04-04T23:34:29.226559Z"
    },
    "papermill": {
     "duration": 0.036536,
     "end_time": "2021-04-04T23:34:29.226799",
     "exception": false,
     "start_time": "2021-04-04T23:34:29.190263",
     "status": "completed"
    },
    "scrolled": true,
    "tags": []
   },
   "outputs": [],
   "source": [
    "inlier, outlier = working_df[working_df['defects'] == 0], working_df[working_df['defects'] == 1]"
   ]
  },
  {
   "cell_type": "code",
   "execution_count": 16,
   "id": "753c7b03",
   "metadata": {
    "execution": {
     "iopub.execute_input": "2021-04-04T23:34:29.284184Z",
     "iopub.status.busy": "2021-04-04T23:34:29.283450Z",
     "iopub.status.idle": "2021-04-04T23:34:29.286490Z",
     "shell.execute_reply": "2021-04-04T23:34:29.286985Z"
    },
    "papermill": {
     "duration": 0.035849,
     "end_time": "2021-04-04T23:34:29.287131",
     "exception": false,
     "start_time": "2021-04-04T23:34:29.251282",
     "status": "completed"
    },
    "tags": []
   },
   "outputs": [],
   "source": [
    "X_inlier = inlier.copy()\n",
    "y_inlier = X_inlier.pop('defects')\n",
    "X_outlier = outlier.copy()\n",
    "y_outlier = X_outlier.pop('defects')"
   ]
  },
  {
   "cell_type": "code",
   "execution_count": 17,
   "id": "2ba43193",
   "metadata": {
    "execution": {
     "iopub.execute_input": "2021-04-04T23:34:29.341014Z",
     "iopub.status.busy": "2021-04-04T23:34:29.340137Z",
     "iopub.status.idle": "2021-04-04T23:34:29.342186Z",
     "shell.execute_reply": "2021-04-04T23:34:29.342851Z"
    },
    "papermill": {
     "duration": 0.03334,
     "end_time": "2021-04-04T23:34:29.343049",
     "exception": false,
     "start_time": "2021-04-04T23:34:29.309709",
     "status": "completed"
    },
    "tags": []
   },
   "outputs": [],
   "source": [
    "test_size = dataset_config['test_size']\n",
    "random_state = dataset_config['random_state']\n",
    "\n",
    "X_inlier_train, X_inlier_test, y_inlier_train, y_inlier_test = train_test_split(\n",
    "    X_inlier,\n",
    "    y_inlier,\n",
    "    test_size=test_size,\n",
    "    random_state=random_state\n",
    ")"
   ]
  },
  {
   "cell_type": "code",
   "execution_count": 18,
   "id": "0b7582ca",
   "metadata": {
    "execution": {
     "iopub.execute_input": "2021-04-04T23:34:29.421152Z",
     "iopub.status.busy": "2021-04-04T23:34:29.420255Z",
     "iopub.status.idle": "2021-04-04T23:34:29.422587Z",
     "shell.execute_reply": "2021-04-04T23:34:29.423341Z"
    },
    "papermill": {
     "duration": 0.047798,
     "end_time": "2021-04-04T23:34:29.423708",
     "exception": false,
     "start_time": "2021-04-04T23:34:29.375910",
     "status": "completed"
    },
    "tags": []
   },
   "outputs": [],
   "source": [
    "test_outlier_size = dataset_config['test_outlier_size']\n",
    "if test_outlier_size > 0.0:\n",
    "    X_outlier_train, X_outlier_test, y_outlier_train, y_outlier_test = train_test_split(\n",
    "        X_outlier,\n",
    "        y_outlier,\n",
    "        test_size=test_outlier_size,\n",
    "        random_state=random_state\n",
    "    )\n",
    "else:\n",
    "    X_outlier_train, y_outlier_train = pd.DataFrame(columns=X_outlier.columns), pd.Series(dtype='int64')\n",
    "    X_outlier_test, y_outlier_test = X_outlier.copy(), y_outlier.copy()"
   ]
  },
  {
   "cell_type": "code",
   "execution_count": 19,
   "id": "c34363db",
   "metadata": {
    "execution": {
     "iopub.execute_input": "2021-04-04T23:34:29.483943Z",
     "iopub.status.busy": "2021-04-04T23:34:29.479754Z",
     "iopub.status.idle": "2021-04-04T23:34:29.486900Z",
     "shell.execute_reply": "2021-04-04T23:34:29.487381Z"
    },
    "papermill": {
     "duration": 0.039446,
     "end_time": "2021-04-04T23:34:29.487527",
     "exception": false,
     "start_time": "2021-04-04T23:34:29.448081",
     "status": "completed"
    },
    "tags": []
   },
   "outputs": [],
   "source": [
    "X_train, y_train = pd.concat([X_inlier_train, X_outlier_train], ignore_index=True), pd.concat([y_inlier_train, y_outlier_train], ignore_index=True)\n",
    "X_test, y_test = pd.concat([X_inlier_test, X_outlier_test], ignore_index=True), pd.concat([y_inlier_test, y_outlier_test], ignore_index=True)"
   ]
  },
  {
   "cell_type": "markdown",
   "id": "7cde7309",
   "metadata": {
    "papermill": {
     "duration": 0.027334,
     "end_time": "2021-04-04T23:34:29.537869",
     "exception": false,
     "start_time": "2021-04-04T23:34:29.510535",
     "status": "completed"
    },
    "tags": []
   },
   "source": [
    "# Model"
   ]
  },
  {
   "cell_type": "code",
   "execution_count": 20,
   "id": "2b12a415",
   "metadata": {
    "execution": {
     "iopub.execute_input": "2021-04-04T23:34:29.603474Z",
     "iopub.status.busy": "2021-04-04T23:34:29.601538Z",
     "iopub.status.idle": "2021-04-04T23:34:29.606136Z",
     "shell.execute_reply": "2021-04-04T23:34:29.606687Z"
    },
    "papermill": {
     "duration": 0.044363,
     "end_time": "2021-04-04T23:34:29.606894",
     "exception": false,
     "start_time": "2021-04-04T23:34:29.562531",
     "status": "completed"
    },
    "tags": []
   },
   "outputs": [],
   "source": [
    "from math import sqrt\n",
    "\n",
    "\n",
    "class KNNDataDescription:\n",
    "    def __init__(self, k=5, outlier_threshold=1.0):\n",
    "        self.k = k\n",
    "        self.outlier_threshold = outlier_threshold\n",
    "        self.X = []\n",
    "    \n",
    "    def fit(self, X):\n",
    "        self.X = [features.to_list() for index, features in X.iterrows()]\n",
    "\n",
    "    def predict(self, entries):\n",
    "        return [self.predict_entry(features.to_list()) for index, features in entries.iterrows()]\n",
    "    \n",
    "    def predict_entry(self, entry):\n",
    "        kth_neighbor, kth_distance = self.get_kth_neighbor(entry, self.k)\n",
    "        kth_kth_neighbor, kth_kth_distance = self.get_kth_neighbor(kth_neighbor, self.k + 1)\n",
    "\n",
    "        outlier_score = kth_distance / (kth_kth_distance + 0.000001)\n",
    "\n",
    "        return 1 if outlier_score < self.outlier_threshold else -1\n",
    "        \n",
    "    def euclidean_distance(self, features1, features2):\n",
    "        distance = 0.0\n",
    "        for feat1, feat2 in zip(features1, features2):\n",
    "            distance += (feat1 - feat2)**2\n",
    "                \n",
    "        return sqrt(distance)\n",
    "\n",
    "    def get_neighbors(self, entry, k):\n",
    "        distance_to_data_points = [\n",
    "            (data_point, self.euclidean_distance(entry, data_point))\n",
    "            for data_point in self.X\n",
    "        ]\n",
    "        sorted_by_distance = sorted(distance_to_data_points, key=lambda tup: tup[1])\n",
    "        neighbors = sorted_by_distance[:k]\n",
    "        return neighbors\n",
    "\n",
    "    def get_kth_neighbor(self, entry, k):\n",
    "        neighbors = self.get_neighbors(entry, k)\n",
    "        return neighbors[-1]\n"
   ]
  },
  {
   "cell_type": "code",
   "execution_count": 21,
   "id": "1fa9ec1c",
   "metadata": {
    "execution": {
     "iopub.execute_input": "2021-04-04T23:34:29.670835Z",
     "iopub.status.busy": "2021-04-04T23:34:29.669714Z",
     "iopub.status.idle": "2021-04-04T23:34:29.693858Z",
     "shell.execute_reply": "2021-04-04T23:34:29.692897Z"
    },
    "papermill": {
     "duration": 0.061193,
     "end_time": "2021-04-04T23:34:29.694185",
     "exception": false,
     "start_time": "2021-04-04T23:34:29.632992",
     "status": "completed"
    },
    "tags": []
   },
   "outputs": [],
   "source": [
    "from sklearn.svm import OneClassSVM\n",
    "\n",
    "\n",
    "models = {\n",
    "    'oneclasssvm': OneClassSVM,\n",
    "    'knndatadescription': KNNDataDescription,\n",
    "}"
   ]
  },
  {
   "cell_type": "code",
   "execution_count": 22,
   "id": "4d72a0b1",
   "metadata": {
    "execution": {
     "iopub.execute_input": "2021-04-04T23:34:29.750381Z",
     "iopub.status.busy": "2021-04-04T23:34:29.749777Z",
     "iopub.status.idle": "2021-04-04T23:34:29.751754Z",
     "shell.execute_reply": "2021-04-04T23:34:29.752231Z"
    },
    "papermill": {
     "duration": 0.034366,
     "end_time": "2021-04-04T23:34:29.752379",
     "exception": false,
     "start_time": "2021-04-04T23:34:29.718013",
     "status": "completed"
    },
    "scrolled": true,
    "tags": []
   },
   "outputs": [],
   "source": [
    "model_cls = models[model_config['model_type']]\n",
    "model = model_cls(**model_config['hyperparameters'])"
   ]
  },
  {
   "cell_type": "markdown",
   "id": "e00cff3b",
   "metadata": {
    "papermill": {
     "duration": 0.029016,
     "end_time": "2021-04-04T23:34:29.806939",
     "exception": false,
     "start_time": "2021-04-04T23:34:29.777923",
     "status": "completed"
    },
    "tags": []
   },
   "source": [
    "# Fit"
   ]
  },
  {
   "cell_type": "code",
   "execution_count": 23,
   "id": "8b2ded89",
   "metadata": {
    "execution": {
     "iopub.execute_input": "2021-04-04T23:34:29.865578Z",
     "iopub.status.busy": "2021-04-04T23:34:29.860021Z",
     "iopub.status.idle": "2021-04-04T23:34:29.882321Z",
     "shell.execute_reply": "2021-04-04T23:34:29.882904Z"
    },
    "papermill": {
     "duration": 0.051489,
     "end_time": "2021-04-04T23:34:29.883251",
     "exception": false,
     "start_time": "2021-04-04T23:34:29.831762",
     "status": "completed"
    },
    "tags": []
   },
   "outputs": [],
   "source": [
    "model.fit(X_train)"
   ]
  },
  {
   "cell_type": "markdown",
   "id": "f99999f7",
   "metadata": {
    "papermill": {
     "duration": 0.029529,
     "end_time": "2021-04-04T23:34:29.937864",
     "exception": false,
     "start_time": "2021-04-04T23:34:29.908335",
     "status": "completed"
    },
    "tags": []
   },
   "source": [
    "# Predict"
   ]
  },
  {
   "cell_type": "code",
   "execution_count": 24,
   "id": "6536fbf7",
   "metadata": {
    "execution": {
     "iopub.execute_input": "2021-04-04T23:34:30.010381Z",
     "iopub.status.busy": "2021-04-04T23:34:30.005341Z",
     "iopub.status.idle": "2021-04-04T23:34:30.301045Z",
     "shell.execute_reply": "2021-04-04T23:34:30.300068Z"
    },
    "papermill": {
     "duration": 0.338319,
     "end_time": "2021-04-04T23:34:30.301178",
     "exception": false,
     "start_time": "2021-04-04T23:34:29.962859",
     "status": "completed"
    },
    "tags": []
   },
   "outputs": [],
   "source": [
    "predictions = model.predict(X_test)"
   ]
  },
  {
   "cell_type": "markdown",
   "id": "aa1c9881",
   "metadata": {
    "papermill": {
     "duration": 0.037115,
     "end_time": "2021-04-04T23:34:30.363510",
     "exception": false,
     "start_time": "2021-04-04T23:34:30.326395",
     "status": "completed"
    },
    "tags": []
   },
   "source": [
    "# Evaluate"
   ]
  },
  {
   "cell_type": "code",
   "execution_count": 25,
   "id": "894f0f04",
   "metadata": {
    "execution": {
     "iopub.execute_input": "2021-04-04T23:34:30.425767Z",
     "iopub.status.busy": "2021-04-04T23:34:30.425049Z",
     "iopub.status.idle": "2021-04-04T23:34:30.426848Z",
     "shell.execute_reply": "2021-04-04T23:34:30.427355Z"
    },
    "papermill": {
     "duration": 0.032619,
     "end_time": "2021-04-04T23:34:30.427500",
     "exception": false,
     "start_time": "2021-04-04T23:34:30.394881",
     "status": "completed"
    },
    "tags": []
   },
   "outputs": [],
   "source": [
    "from sklearn.metrics import f1_score"
   ]
  },
  {
   "cell_type": "code",
   "execution_count": 26,
   "id": "211744d3",
   "metadata": {
    "execution": {
     "iopub.execute_input": "2021-04-04T23:34:30.487109Z",
     "iopub.status.busy": "2021-04-04T23:34:30.486210Z",
     "iopub.status.idle": "2021-04-04T23:34:30.488681Z",
     "shell.execute_reply": "2021-04-04T23:34:30.488167Z"
    },
    "papermill": {
     "duration": 0.03454,
     "end_time": "2021-04-04T23:34:30.488801",
     "exception": false,
     "start_time": "2021-04-04T23:34:30.454261",
     "status": "completed"
    },
    "tags": []
   },
   "outputs": [],
   "source": [
    "y_test = y_test.replace([0, 1], [1, -1])"
   ]
  },
  {
   "cell_type": "code",
   "execution_count": 27,
   "id": "d68a9204",
   "metadata": {
    "execution": {
     "iopub.execute_input": "2021-04-04T23:34:30.548981Z",
     "iopub.status.busy": "2021-04-04T23:34:30.548375Z",
     "iopub.status.idle": "2021-04-04T23:34:30.553181Z",
     "shell.execute_reply": "2021-04-04T23:34:30.552145Z"
    },
    "papermill": {
     "duration": 0.036878,
     "end_time": "2021-04-04T23:34:30.553353",
     "exception": false,
     "start_time": "2021-04-04T23:34:30.516475",
     "status": "completed"
    },
    "tags": []
   },
   "outputs": [],
   "source": [
    "def evaluate(truths, predictions, pos_label, neg_label):\n",
    "    TP = 0\n",
    "    FP = 0\n",
    "    TN = 0\n",
    "    FN = 0\n",
    "\n",
    "    for truth, pred in zip(truths, predictions): \n",
    "        if truth == pred == pos_label:\n",
    "           TP += 1\n",
    "        elif pred == pos_label and truth == neg_label:\n",
    "           FP += 1\n",
    "        elif truth == pred == neg_label:\n",
    "           TN += 1\n",
    "        elif pred == neg_label and truth == pos_label:\n",
    "           FN += 1\n",
    "\n",
    "    precision = TP / (TP + FP)\n",
    "    sensitivity = TP / (TP + FN)\n",
    "    \n",
    "    return {\n",
    "        'true_pos': TP,\n",
    "        'false_pos': FP,\n",
    "        'false_neg': FN,\n",
    "        'true_neg': TN,\n",
    "        'precision': precision,\n",
    "        'sensitivity': sensitivity,\n",
    "        'f1': (2 * (precision * sensitivity)) / (precision + sensitivity)\n",
    "    }\n",
    "\n",
    "score = evaluate(y_test, predictions, pos_label=-1, neg_label=1)"
   ]
  },
  {
   "cell_type": "markdown",
   "id": "93596516",
   "metadata": {
    "papermill": {
     "duration": 0.03081,
     "end_time": "2021-04-04T23:34:30.609330",
     "exception": false,
     "start_time": "2021-04-04T23:34:30.578520",
     "status": "completed"
    },
    "tags": []
   },
   "source": [
    "# Report"
   ]
  },
  {
   "cell_type": "code",
   "execution_count": 28,
   "id": "bea5fba1",
   "metadata": {
    "execution": {
     "iopub.execute_input": "2021-04-04T23:34:30.671335Z",
     "iopub.status.busy": "2021-04-04T23:34:30.670744Z",
     "iopub.status.idle": "2021-04-04T23:34:30.672618Z",
     "shell.execute_reply": "2021-04-04T23:34:30.673082Z"
    },
    "papermill": {
     "duration": 0.035464,
     "end_time": "2021-04-04T23:34:30.673226",
     "exception": false,
     "start_time": "2021-04-04T23:34:30.637762",
     "status": "completed"
    },
    "tags": []
   },
   "outputs": [],
   "source": [
    "import csv\n",
    "\n",
    "\n",
    "dataset_config_name = DATASET_CONFIG_PATH.split('/')[-1].split('.')[0]\n",
    "model_config_name = MODEL_CONFIG_PATH.split('/')[-1].split('.')[0]\n",
    "configuration = f\"dataset_{dataset_config_name}-model_{model_config_name}\"\n",
    "\n",
    "with open('results.csv', 'a') as f:\n",
    "    report = dict({'configuration': configuration}, **score)\n",
    "    writer = csv.DictWriter(f, report.keys())\n",
    "    writer.writerow(report)"
   ]
  }
 ],
 "metadata": {
  "celltoolbar": "Tags",
  "kernelspec": {
   "display_name": "Python 3",
   "language": "python",
   "name": "python3"
  },
  "language_info": {
   "codemirror_mode": {
    "name": "ipython",
    "version": 3
   },
   "file_extension": ".py",
   "mimetype": "text/x-python",
   "name": "python",
   "nbconvert_exporter": "python",
   "pygments_lexer": "ipython3",
   "version": "3.9.1"
  },
  "papermill": {
   "default_parameters": {},
   "duration": 6.074262,
   "end_time": "2021-04-04T23:34:31.985626",
   "environment_variables": {},
   "exception": null,
   "input_path": "main.ipynb",
   "output_path": "runs/dataset_000152-model_000001.ipynb",
   "parameters": {
    "DATASET_CONFIG_PATH": "config/dataset/000152.json",
    "MODEL_CONFIG_PATH": "config/model/000001.json",
    "PROFILE_REPORTING": false
   },
   "start_time": "2021-04-04T23:34:25.911364",
   "version": "2.3.3"
  }
 },
 "nbformat": 4,
 "nbformat_minor": 5
}