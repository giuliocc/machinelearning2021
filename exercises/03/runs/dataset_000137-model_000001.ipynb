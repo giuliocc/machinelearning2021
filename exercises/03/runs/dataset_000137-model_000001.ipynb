{
 "cells": [
  {
   "cell_type": "markdown",
   "id": "51c71c25",
   "metadata": {
    "papermill": {
     "duration": 0.023478,
     "end_time": "2021-04-04T23:28:02.205696",
     "exception": false,
     "start_time": "2021-04-04T23:28:02.182218",
     "status": "completed"
    },
    "tags": []
   },
   "source": [
    "# Parametrizing"
   ]
  },
  {
   "cell_type": "code",
   "execution_count": 1,
   "id": "3b136394",
   "metadata": {
    "execution": {
     "iopub.execute_input": "2021-04-04T23:28:02.267815Z",
     "iopub.status.busy": "2021-04-04T23:28:02.266852Z",
     "iopub.status.idle": "2021-04-04T23:28:02.270809Z",
     "shell.execute_reply": "2021-04-04T23:28:02.269492Z"
    },
    "papermill": {
     "duration": 0.044413,
     "end_time": "2021-04-04T23:28:02.271103",
     "exception": false,
     "start_time": "2021-04-04T23:28:02.226690",
     "status": "completed"
    },
    "tags": [
     "parameters"
    ]
   },
   "outputs": [],
   "source": [
    "DATASET_CONFIG_PATH = 'config/dataset/kc1_001.json'\n",
    "MODEL_CONFIG_PATH = 'config/model/knndd_001.json'\n",
    "PROFILE_REPORTING = False"
   ]
  },
  {
   "cell_type": "code",
   "execution_count": 2,
   "id": "92af6fd9",
   "metadata": {
    "execution": {
     "iopub.execute_input": "2021-04-04T23:28:02.372677Z",
     "iopub.status.busy": "2021-04-04T23:28:02.371653Z",
     "iopub.status.idle": "2021-04-04T23:28:02.374229Z",
     "shell.execute_reply": "2021-04-04T23:28:02.374730Z"
    },
    "papermill": {
     "duration": 0.057791,
     "end_time": "2021-04-04T23:28:02.374882",
     "exception": false,
     "start_time": "2021-04-04T23:28:02.317091",
     "status": "completed"
    },
    "tags": [
     "injected-parameters"
    ]
   },
   "outputs": [],
   "source": [
    "# Parameters\n",
    "DATASET_CONFIG_PATH = \"config/dataset/000137.json\"\n",
    "MODEL_CONFIG_PATH = \"config/model/000001.json\"\n",
    "PROFILE_REPORTING = False\n"
   ]
  },
  {
   "cell_type": "code",
   "execution_count": 3,
   "id": "b80f2a10",
   "metadata": {
    "execution": {
     "iopub.execute_input": "2021-04-04T23:28:02.447877Z",
     "iopub.status.busy": "2021-04-04T23:28:02.445745Z",
     "iopub.status.idle": "2021-04-04T23:28:02.450864Z",
     "shell.execute_reply": "2021-04-04T23:28:02.451575Z"
    },
    "papermill": {
     "duration": 0.041756,
     "end_time": "2021-04-04T23:28:02.451761",
     "exception": false,
     "start_time": "2021-04-04T23:28:02.410005",
     "status": "completed"
    },
    "tags": []
   },
   "outputs": [],
   "source": [
    "import json\n",
    "\n",
    "\n",
    "with open(DATASET_CONFIG_PATH) as f:\n",
    "    dataset_config = json.load(f)\n",
    "\n",
    "with open(MODEL_CONFIG_PATH) as f:\n",
    "    model_config = json.load(f)"
   ]
  },
  {
   "cell_type": "markdown",
   "id": "9a4b0e2d",
   "metadata": {
    "papermill": {
     "duration": 0.026024,
     "end_time": "2021-04-04T23:28:02.502009",
     "exception": false,
     "start_time": "2021-04-04T23:28:02.475985",
     "status": "completed"
    },
    "tags": []
   },
   "source": [
    "# Profiling"
   ]
  },
  {
   "cell_type": "code",
   "execution_count": 4,
   "id": "a3e0289b",
   "metadata": {
    "execution": {
     "iopub.execute_input": "2021-04-04T23:28:02.581963Z",
     "iopub.status.busy": "2021-04-04T23:28:02.581265Z",
     "iopub.status.idle": "2021-04-04T23:28:04.111463Z",
     "shell.execute_reply": "2021-04-04T23:28:04.110678Z"
    },
    "papermill": {
     "duration": 1.566294,
     "end_time": "2021-04-04T23:28:04.111671",
     "exception": false,
     "start_time": "2021-04-04T23:28:02.545377",
     "status": "completed"
    },
    "tags": []
   },
   "outputs": [],
   "source": [
    "import pandas as pd\n",
    "from pandas_profiling import ProfileReport"
   ]
  },
  {
   "cell_type": "code",
   "execution_count": 5,
   "id": "ee6c0666",
   "metadata": {
    "execution": {
     "iopub.execute_input": "2021-04-04T23:28:04.161052Z",
     "iopub.status.busy": "2021-04-04T23:28:04.160373Z",
     "iopub.status.idle": "2021-04-04T23:28:04.169452Z",
     "shell.execute_reply": "2021-04-04T23:28:04.168382Z"
    },
    "papermill": {
     "duration": 0.03556,
     "end_time": "2021-04-04T23:28:04.169580",
     "exception": false,
     "start_time": "2021-04-04T23:28:04.134020",
     "status": "completed"
    },
    "tags": []
   },
   "outputs": [],
   "source": [
    "df = pd.read_csv(dataset_config['dataset_path'])"
   ]
  },
  {
   "cell_type": "code",
   "execution_count": 6,
   "id": "7eca6c4a",
   "metadata": {
    "execution": {
     "iopub.execute_input": "2021-04-04T23:28:04.236605Z",
     "iopub.status.busy": "2021-04-04T23:28:04.221476Z",
     "iopub.status.idle": "2021-04-04T23:28:04.239935Z",
     "shell.execute_reply": "2021-04-04T23:28:04.239427Z"
    },
    "papermill": {
     "duration": 0.049313,
     "end_time": "2021-04-04T23:28:04.240056",
     "exception": false,
     "start_time": "2021-04-04T23:28:04.190743",
     "status": "completed"
    },
    "tags": []
   },
   "outputs": [
    {
     "name": "stdout",
     "output_type": "stream",
     "text": [
      "<class 'pandas.core.frame.DataFrame'>\n",
      "RangeIndex: 498 entries, 0 to 497\n",
      "Data columns (total 23 columns):\n",
      " #   Column             Non-Null Count  Dtype  \n",
      "---  ------             --------------  -----  \n",
      " 0   id                 498 non-null    int64  \n",
      " 1   loc                498 non-null    float64\n",
      " 2   v(g)               498 non-null    float64\n",
      " 3   ev(g)              498 non-null    float64\n",
      " 4   iv(g)              498 non-null    float64\n",
      " 5   n                  498 non-null    float64\n",
      " 6   v                  498 non-null    float64\n",
      " 7   l                  498 non-null    float64\n",
      " 8   d                  498 non-null    float64\n",
      " 9   i                  498 non-null    float64\n",
      " 10  e                  498 non-null    float64\n",
      " 11  b                  498 non-null    float64\n",
      " 12  t                  498 non-null    float64\n",
      " 13  lOCode             498 non-null    int64  \n",
      " 14  lOComment          498 non-null    int64  \n",
      " 15  lOBlank            498 non-null    int64  \n",
      " 16  locCodeAndComment  498 non-null    int64  \n",
      " 17  uniq_Op            498 non-null    float64\n",
      " 18  uniq_Opnd          498 non-null    float64\n",
      " 19  total_Op           498 non-null    float64\n",
      " 20  total_Opnd         498 non-null    float64\n",
      " 21  branchCount        498 non-null    float64\n",
      " 22  defects            498 non-null    bool   \n",
      "dtypes: bool(1), float64(17), int64(5)\n",
      "memory usage: 86.2 KB\n"
     ]
    }
   ],
   "source": [
    "df.info()"
   ]
  },
  {
   "cell_type": "code",
   "execution_count": 7,
   "id": "3638e5e8",
   "metadata": {
    "execution": {
     "iopub.execute_input": "2021-04-04T23:28:04.292469Z",
     "iopub.status.busy": "2021-04-04T23:28:04.291841Z",
     "iopub.status.idle": "2021-04-04T23:28:04.317899Z",
     "shell.execute_reply": "2021-04-04T23:28:04.318560Z"
    },
    "papermill": {
     "duration": 0.055676,
     "end_time": "2021-04-04T23:28:04.318883",
     "exception": false,
     "start_time": "2021-04-04T23:28:04.263207",
     "status": "completed"
    },
    "tags": []
   },
   "outputs": [
    {
     "data": {
      "text/html": [
       "<div>\n",
       "<style scoped>\n",
       "    .dataframe tbody tr th:only-of-type {\n",
       "        vertical-align: middle;\n",
       "    }\n",
       "\n",
       "    .dataframe tbody tr th {\n",
       "        vertical-align: top;\n",
       "    }\n",
       "\n",
       "    .dataframe thead th {\n",
       "        text-align: right;\n",
       "    }\n",
       "</style>\n",
       "<table border=\"1\" class=\"dataframe\">\n",
       "  <thead>\n",
       "    <tr style=\"text-align: right;\">\n",
       "      <th></th>\n",
       "      <th>id</th>\n",
       "      <th>loc</th>\n",
       "      <th>v(g)</th>\n",
       "      <th>ev(g)</th>\n",
       "      <th>iv(g)</th>\n",
       "      <th>n</th>\n",
       "      <th>v</th>\n",
       "      <th>l</th>\n",
       "      <th>d</th>\n",
       "      <th>i</th>\n",
       "      <th>...</th>\n",
       "      <th>lOCode</th>\n",
       "      <th>lOComment</th>\n",
       "      <th>lOBlank</th>\n",
       "      <th>locCodeAndComment</th>\n",
       "      <th>uniq_Op</th>\n",
       "      <th>uniq_Opnd</th>\n",
       "      <th>total_Op</th>\n",
       "      <th>total_Opnd</th>\n",
       "      <th>branchCount</th>\n",
       "      <th>defects</th>\n",
       "    </tr>\n",
       "  </thead>\n",
       "  <tbody>\n",
       "    <tr>\n",
       "      <th>0</th>\n",
       "      <td>1</td>\n",
       "      <td>1.1</td>\n",
       "      <td>1.4</td>\n",
       "      <td>1.4</td>\n",
       "      <td>1.4</td>\n",
       "      <td>1.3</td>\n",
       "      <td>1.30</td>\n",
       "      <td>1.30</td>\n",
       "      <td>1.30</td>\n",
       "      <td>1.30</td>\n",
       "      <td>...</td>\n",
       "      <td>2</td>\n",
       "      <td>2</td>\n",
       "      <td>2</td>\n",
       "      <td>2</td>\n",
       "      <td>1.2</td>\n",
       "      <td>1.2</td>\n",
       "      <td>1.2</td>\n",
       "      <td>1.2</td>\n",
       "      <td>1.4</td>\n",
       "      <td>False</td>\n",
       "    </tr>\n",
       "    <tr>\n",
       "      <th>1</th>\n",
       "      <td>2</td>\n",
       "      <td>1.0</td>\n",
       "      <td>1.0</td>\n",
       "      <td>1.0</td>\n",
       "      <td>1.0</td>\n",
       "      <td>1.0</td>\n",
       "      <td>1.00</td>\n",
       "      <td>1.00</td>\n",
       "      <td>1.00</td>\n",
       "      <td>1.00</td>\n",
       "      <td>...</td>\n",
       "      <td>1</td>\n",
       "      <td>1</td>\n",
       "      <td>1</td>\n",
       "      <td>1</td>\n",
       "      <td>1.0</td>\n",
       "      <td>1.0</td>\n",
       "      <td>1.0</td>\n",
       "      <td>1.0</td>\n",
       "      <td>1.0</td>\n",
       "      <td>True</td>\n",
       "    </tr>\n",
       "    <tr>\n",
       "      <th>2</th>\n",
       "      <td>3</td>\n",
       "      <td>24.0</td>\n",
       "      <td>5.0</td>\n",
       "      <td>1.0</td>\n",
       "      <td>3.0</td>\n",
       "      <td>63.0</td>\n",
       "      <td>309.13</td>\n",
       "      <td>0.11</td>\n",
       "      <td>9.50</td>\n",
       "      <td>32.54</td>\n",
       "      <td>...</td>\n",
       "      <td>1</td>\n",
       "      <td>0</td>\n",
       "      <td>6</td>\n",
       "      <td>0</td>\n",
       "      <td>15.0</td>\n",
       "      <td>15.0</td>\n",
       "      <td>44.0</td>\n",
       "      <td>19.0</td>\n",
       "      <td>9.0</td>\n",
       "      <td>False</td>\n",
       "    </tr>\n",
       "    <tr>\n",
       "      <th>3</th>\n",
       "      <td>4</td>\n",
       "      <td>20.0</td>\n",
       "      <td>4.0</td>\n",
       "      <td>4.0</td>\n",
       "      <td>2.0</td>\n",
       "      <td>47.0</td>\n",
       "      <td>215.49</td>\n",
       "      <td>0.06</td>\n",
       "      <td>16.00</td>\n",
       "      <td>13.47</td>\n",
       "      <td>...</td>\n",
       "      <td>0</td>\n",
       "      <td>0</td>\n",
       "      <td>3</td>\n",
       "      <td>0</td>\n",
       "      <td>16.0</td>\n",
       "      <td>8.0</td>\n",
       "      <td>31.0</td>\n",
       "      <td>16.0</td>\n",
       "      <td>7.0</td>\n",
       "      <td>False</td>\n",
       "    </tr>\n",
       "    <tr>\n",
       "      <th>4</th>\n",
       "      <td>5</td>\n",
       "      <td>24.0</td>\n",
       "      <td>6.0</td>\n",
       "      <td>6.0</td>\n",
       "      <td>2.0</td>\n",
       "      <td>72.0</td>\n",
       "      <td>346.13</td>\n",
       "      <td>0.06</td>\n",
       "      <td>17.33</td>\n",
       "      <td>19.97</td>\n",
       "      <td>...</td>\n",
       "      <td>0</td>\n",
       "      <td>0</td>\n",
       "      <td>3</td>\n",
       "      <td>0</td>\n",
       "      <td>16.0</td>\n",
       "      <td>12.0</td>\n",
       "      <td>46.0</td>\n",
       "      <td>26.0</td>\n",
       "      <td>11.0</td>\n",
       "      <td>False</td>\n",
       "    </tr>\n",
       "  </tbody>\n",
       "</table>\n",
       "<p>5 rows × 23 columns</p>\n",
       "</div>"
      ],
      "text/plain": [
       "   id   loc  v(g)  ev(g)  iv(g)     n       v     l      d      i  ...  \\\n",
       "0   1   1.1   1.4    1.4    1.4   1.3    1.30  1.30   1.30   1.30  ...   \n",
       "1   2   1.0   1.0    1.0    1.0   1.0    1.00  1.00   1.00   1.00  ...   \n",
       "2   3  24.0   5.0    1.0    3.0  63.0  309.13  0.11   9.50  32.54  ...   \n",
       "3   4  20.0   4.0    4.0    2.0  47.0  215.49  0.06  16.00  13.47  ...   \n",
       "4   5  24.0   6.0    6.0    2.0  72.0  346.13  0.06  17.33  19.97  ...   \n",
       "\n",
       "   lOCode  lOComment  lOBlank  locCodeAndComment  uniq_Op  uniq_Opnd  \\\n",
       "0       2          2        2                  2      1.2        1.2   \n",
       "1       1          1        1                  1      1.0        1.0   \n",
       "2       1          0        6                  0     15.0       15.0   \n",
       "3       0          0        3                  0     16.0        8.0   \n",
       "4       0          0        3                  0     16.0       12.0   \n",
       "\n",
       "   total_Op  total_Opnd  branchCount  defects  \n",
       "0       1.2         1.2          1.4    False  \n",
       "1       1.0         1.0          1.0     True  \n",
       "2      44.0        19.0          9.0    False  \n",
       "3      31.0        16.0          7.0    False  \n",
       "4      46.0        26.0         11.0    False  \n",
       "\n",
       "[5 rows x 23 columns]"
      ]
     },
     "execution_count": 7,
     "metadata": {},
     "output_type": "execute_result"
    }
   ],
   "source": [
    "df.head()"
   ]
  },
  {
   "cell_type": "code",
   "execution_count": 8,
   "id": "733e95eb",
   "metadata": {
    "execution": {
     "iopub.execute_input": "2021-04-04T23:28:04.384739Z",
     "iopub.status.busy": "2021-04-04T23:28:04.383375Z",
     "iopub.status.idle": "2021-04-04T23:28:04.389655Z",
     "shell.execute_reply": "2021-04-04T23:28:04.387713Z"
    },
    "papermill": {
     "duration": 0.048914,
     "end_time": "2021-04-04T23:28:04.390076",
     "exception": false,
     "start_time": "2021-04-04T23:28:04.341162",
     "status": "completed"
    },
    "tags": []
   },
   "outputs": [],
   "source": [
    "del df['id']"
   ]
  },
  {
   "cell_type": "code",
   "execution_count": 9,
   "id": "6ff6f5b0",
   "metadata": {
    "execution": {
     "iopub.execute_input": "2021-04-04T23:28:04.444573Z",
     "iopub.status.busy": "2021-04-04T23:28:04.443334Z",
     "iopub.status.idle": "2021-04-04T23:28:04.446201Z",
     "shell.execute_reply": "2021-04-04T23:28:04.445632Z"
    },
    "papermill": {
     "duration": 0.0322,
     "end_time": "2021-04-04T23:28:04.446322",
     "exception": false,
     "start_time": "2021-04-04T23:28:04.414122",
     "status": "completed"
    },
    "tags": []
   },
   "outputs": [],
   "source": [
    "if PROFILE_REPORTING:\n",
    "    ProfileReport(df).to_widgets()"
   ]
  },
  {
   "cell_type": "markdown",
   "id": "1deaf3f0",
   "metadata": {
    "papermill": {
     "duration": 0.02785,
     "end_time": "2021-04-04T23:28:04.500400",
     "exception": false,
     "start_time": "2021-04-04T23:28:04.472550",
     "status": "completed"
    },
    "tags": []
   },
   "source": [
    "# Preprocess"
   ]
  },
  {
   "cell_type": "code",
   "execution_count": 10,
   "id": "1513e563",
   "metadata": {
    "execution": {
     "iopub.execute_input": "2021-04-04T23:28:04.556478Z",
     "iopub.status.busy": "2021-04-04T23:28:04.555612Z",
     "iopub.status.idle": "2021-04-04T23:28:04.557695Z",
     "shell.execute_reply": "2021-04-04T23:28:04.558161Z"
    },
    "papermill": {
     "duration": 0.029066,
     "end_time": "2021-04-04T23:28:04.558305",
     "exception": false,
     "start_time": "2021-04-04T23:28:04.529239",
     "status": "completed"
    },
    "tags": []
   },
   "outputs": [],
   "source": [
    "working_df = df.copy()"
   ]
  },
  {
   "cell_type": "code",
   "execution_count": 11,
   "id": "3b26d675",
   "metadata": {
    "execution": {
     "iopub.execute_input": "2021-04-04T23:28:04.622629Z",
     "iopub.status.busy": "2021-04-04T23:28:04.617844Z",
     "iopub.status.idle": "2021-04-04T23:28:04.625366Z",
     "shell.execute_reply": "2021-04-04T23:28:04.626955Z"
    },
    "papermill": {
     "duration": 0.042561,
     "end_time": "2021-04-04T23:28:04.627239",
     "exception": false,
     "start_time": "2021-04-04T23:28:04.584678",
     "status": "completed"
    },
    "tags": []
   },
   "outputs": [],
   "source": [
    "working_df['defects'] = working_df['defects'].replace([False, True], [0, 1])"
   ]
  },
  {
   "cell_type": "code",
   "execution_count": 12,
   "id": "eb48604f",
   "metadata": {
    "execution": {
     "iopub.execute_input": "2021-04-04T23:28:04.680327Z",
     "iopub.status.busy": "2021-04-04T23:28:04.679695Z",
     "iopub.status.idle": "2021-04-04T23:28:04.682605Z",
     "shell.execute_reply": "2021-04-04T23:28:04.682082Z"
    },
    "papermill": {
     "duration": 0.029318,
     "end_time": "2021-04-04T23:28:04.682733",
     "exception": false,
     "start_time": "2021-04-04T23:28:04.653415",
     "status": "completed"
    },
    "tags": []
   },
   "outputs": [],
   "source": [
    "for col in dataset_config['delete_columns']:\n",
    "    del working_df[col]"
   ]
  },
  {
   "cell_type": "code",
   "execution_count": 13,
   "id": "9a17bc29",
   "metadata": {
    "execution": {
     "iopub.execute_input": "2021-04-04T23:28:04.756828Z",
     "iopub.status.busy": "2021-04-04T23:28:04.755950Z",
     "iopub.status.idle": "2021-04-04T23:28:04.767224Z",
     "shell.execute_reply": "2021-04-04T23:28:04.767713Z"
    },
    "papermill": {
     "duration": 0.053214,
     "end_time": "2021-04-04T23:28:04.767864",
     "exception": false,
     "start_time": "2021-04-04T23:28:04.714650",
     "status": "completed"
    },
    "tags": []
   },
   "outputs": [],
   "source": [
    "working_df = working_df.drop_duplicates()"
   ]
  },
  {
   "cell_type": "markdown",
   "id": "a4d52ca6",
   "metadata": {
    "papermill": {
     "duration": 0.035093,
     "end_time": "2021-04-04T23:28:04.843752",
     "exception": false,
     "start_time": "2021-04-04T23:28:04.808659",
     "status": "completed"
    },
    "tags": []
   },
   "source": [
    "# Split"
   ]
  },
  {
   "cell_type": "code",
   "execution_count": 14,
   "id": "3e9ee4b5",
   "metadata": {
    "execution": {
     "iopub.execute_input": "2021-04-04T23:28:04.897199Z",
     "iopub.status.busy": "2021-04-04T23:28:04.896344Z",
     "iopub.status.idle": "2021-04-04T23:28:04.942497Z",
     "shell.execute_reply": "2021-04-04T23:28:04.941671Z"
    },
    "papermill": {
     "duration": 0.07541,
     "end_time": "2021-04-04T23:28:04.942677",
     "exception": false,
     "start_time": "2021-04-04T23:28:04.867267",
     "status": "completed"
    },
    "tags": []
   },
   "outputs": [],
   "source": [
    "from sklearn.model_selection import train_test_split"
   ]
  },
  {
   "cell_type": "code",
   "execution_count": 15,
   "id": "274004ce",
   "metadata": {
    "execution": {
     "iopub.execute_input": "2021-04-04T23:28:05.015725Z",
     "iopub.status.busy": "2021-04-04T23:28:05.015101Z",
     "iopub.status.idle": "2021-04-04T23:28:05.019215Z",
     "shell.execute_reply": "2021-04-04T23:28:05.019686Z"
    },
    "papermill": {
     "duration": 0.036567,
     "end_time": "2021-04-04T23:28:05.019833",
     "exception": false,
     "start_time": "2021-04-04T23:28:04.983266",
     "status": "completed"
    },
    "scrolled": true,
    "tags": []
   },
   "outputs": [],
   "source": [
    "inlier, outlier = working_df[working_df['defects'] == 0], working_df[working_df['defects'] == 1]"
   ]
  },
  {
   "cell_type": "code",
   "execution_count": 16,
   "id": "753c7b03",
   "metadata": {
    "execution": {
     "iopub.execute_input": "2021-04-04T23:28:05.082884Z",
     "iopub.status.busy": "2021-04-04T23:28:05.081974Z",
     "iopub.status.idle": "2021-04-04T23:28:05.084803Z",
     "shell.execute_reply": "2021-04-04T23:28:05.084145Z"
    },
    "papermill": {
     "duration": 0.041197,
     "end_time": "2021-04-04T23:28:05.084989",
     "exception": false,
     "start_time": "2021-04-04T23:28:05.043792",
     "status": "completed"
    },
    "tags": []
   },
   "outputs": [],
   "source": [
    "X_inlier = inlier.copy()\n",
    "y_inlier = X_inlier.pop('defects')\n",
    "X_outlier = outlier.copy()\n",
    "y_outlier = X_outlier.pop('defects')"
   ]
  },
  {
   "cell_type": "code",
   "execution_count": 17,
   "id": "2ba43193",
   "metadata": {
    "execution": {
     "iopub.execute_input": "2021-04-04T23:28:05.141693Z",
     "iopub.status.busy": "2021-04-04T23:28:05.140843Z",
     "iopub.status.idle": "2021-04-04T23:28:05.143093Z",
     "shell.execute_reply": "2021-04-04T23:28:05.143555Z"
    },
    "papermill": {
     "duration": 0.033153,
     "end_time": "2021-04-04T23:28:05.143734",
     "exception": false,
     "start_time": "2021-04-04T23:28:05.110581",
     "status": "completed"
    },
    "tags": []
   },
   "outputs": [],
   "source": [
    "test_size = dataset_config['test_size']\n",
    "random_state = dataset_config['random_state']\n",
    "\n",
    "X_inlier_train, X_inlier_test, y_inlier_train, y_inlier_test = train_test_split(\n",
    "    X_inlier,\n",
    "    y_inlier,\n",
    "    test_size=test_size,\n",
    "    random_state=random_state\n",
    ")"
   ]
  },
  {
   "cell_type": "code",
   "execution_count": 18,
   "id": "0b7582ca",
   "metadata": {
    "execution": {
     "iopub.execute_input": "2021-04-04T23:28:05.209078Z",
     "iopub.status.busy": "2021-04-04T23:28:05.208093Z",
     "iopub.status.idle": "2021-04-04T23:28:05.210300Z",
     "shell.execute_reply": "2021-04-04T23:28:05.210889Z"
    },
    "papermill": {
     "duration": 0.041889,
     "end_time": "2021-04-04T23:28:05.211063",
     "exception": false,
     "start_time": "2021-04-04T23:28:05.169174",
     "status": "completed"
    },
    "tags": []
   },
   "outputs": [],
   "source": [
    "test_outlier_size = dataset_config['test_outlier_size']\n",
    "if test_outlier_size > 0.0:\n",
    "    X_outlier_train, X_outlier_test, y_outlier_train, y_outlier_test = train_test_split(\n",
    "        X_outlier,\n",
    "        y_outlier,\n",
    "        test_size=test_outlier_size,\n",
    "        random_state=random_state\n",
    "    )\n",
    "else:\n",
    "    X_outlier_train, y_outlier_train = pd.DataFrame(columns=X_outlier.columns), pd.Series(dtype='int64')\n",
    "    X_outlier_test, y_outlier_test = X_outlier.copy(), y_outlier.copy()"
   ]
  },
  {
   "cell_type": "code",
   "execution_count": 19,
   "id": "c34363db",
   "metadata": {
    "execution": {
     "iopub.execute_input": "2021-04-04T23:28:05.267680Z",
     "iopub.status.busy": "2021-04-04T23:28:05.266774Z",
     "iopub.status.idle": "2021-04-04T23:28:05.271989Z",
     "shell.execute_reply": "2021-04-04T23:28:05.271399Z"
    },
    "papermill": {
     "duration": 0.037736,
     "end_time": "2021-04-04T23:28:05.272108",
     "exception": false,
     "start_time": "2021-04-04T23:28:05.234372",
     "status": "completed"
    },
    "tags": []
   },
   "outputs": [],
   "source": [
    "X_train, y_train = pd.concat([X_inlier_train, X_outlier_train], ignore_index=True), pd.concat([y_inlier_train, y_outlier_train], ignore_index=True)\n",
    "X_test, y_test = pd.concat([X_inlier_test, X_outlier_test], ignore_index=True), pd.concat([y_inlier_test, y_outlier_test], ignore_index=True)"
   ]
  },
  {
   "cell_type": "markdown",
   "id": "7cde7309",
   "metadata": {
    "papermill": {
     "duration": 0.030427,
     "end_time": "2021-04-04T23:28:05.326340",
     "exception": false,
     "start_time": "2021-04-04T23:28:05.295913",
     "status": "completed"
    },
    "tags": []
   },
   "source": [
    "# Model"
   ]
  },
  {
   "cell_type": "code",
   "execution_count": 20,
   "id": "2b12a415",
   "metadata": {
    "execution": {
     "iopub.execute_input": "2021-04-04T23:28:05.405094Z",
     "iopub.status.busy": "2021-04-04T23:28:05.400970Z",
     "iopub.status.idle": "2021-04-04T23:28:05.408374Z",
     "shell.execute_reply": "2021-04-04T23:28:05.408996Z"
    },
    "papermill": {
     "duration": 0.05115,
     "end_time": "2021-04-04T23:28:05.409167",
     "exception": false,
     "start_time": "2021-04-04T23:28:05.358017",
     "status": "completed"
    },
    "tags": []
   },
   "outputs": [],
   "source": [
    "from math import sqrt\n",
    "\n",
    "\n",
    "class KNNDataDescription:\n",
    "    def __init__(self, k=5, outlier_threshold=1.0):\n",
    "        self.k = k\n",
    "        self.outlier_threshold = outlier_threshold\n",
    "        self.X = []\n",
    "    \n",
    "    def fit(self, X):\n",
    "        self.X = [features.to_list() for index, features in X.iterrows()]\n",
    "\n",
    "    def predict(self, entries):\n",
    "        return [self.predict_entry(features.to_list()) for index, features in entries.iterrows()]\n",
    "    \n",
    "    def predict_entry(self, entry):\n",
    "        kth_neighbor, kth_distance = self.get_kth_neighbor(entry, self.k)\n",
    "        kth_kth_neighbor, kth_kth_distance = self.get_kth_neighbor(kth_neighbor, self.k + 1)\n",
    "\n",
    "        outlier_score = kth_distance / (kth_kth_distance + 0.000001)\n",
    "\n",
    "        return 1 if outlier_score < self.outlier_threshold else -1\n",
    "        \n",
    "    def euclidean_distance(self, features1, features2):\n",
    "        distance = 0.0\n",
    "        for feat1, feat2 in zip(features1, features2):\n",
    "            distance += (feat1 - feat2)**2\n",
    "                \n",
    "        return sqrt(distance)\n",
    "\n",
    "    def get_neighbors(self, entry, k):\n",
    "        distance_to_data_points = [\n",
    "            (data_point, self.euclidean_distance(entry, data_point))\n",
    "            for data_point in self.X\n",
    "        ]\n",
    "        sorted_by_distance = sorted(distance_to_data_points, key=lambda tup: tup[1])\n",
    "        neighbors = sorted_by_distance[:k]\n",
    "        return neighbors\n",
    "\n",
    "    def get_kth_neighbor(self, entry, k):\n",
    "        neighbors = self.get_neighbors(entry, k)\n",
    "        return neighbors[-1]\n"
   ]
  },
  {
   "cell_type": "code",
   "execution_count": 21,
   "id": "1fa9ec1c",
   "metadata": {
    "execution": {
     "iopub.execute_input": "2021-04-04T23:28:05.487934Z",
     "iopub.status.busy": "2021-04-04T23:28:05.487023Z",
     "iopub.status.idle": "2021-04-04T23:28:05.517352Z",
     "shell.execute_reply": "2021-04-04T23:28:05.516753Z"
    },
    "papermill": {
     "duration": 0.074155,
     "end_time": "2021-04-04T23:28:05.517473",
     "exception": false,
     "start_time": "2021-04-04T23:28:05.443318",
     "status": "completed"
    },
    "tags": []
   },
   "outputs": [],
   "source": [
    "from sklearn.svm import OneClassSVM\n",
    "\n",
    "\n",
    "models = {\n",
    "    'oneclasssvm': OneClassSVM,\n",
    "    'knndatadescription': KNNDataDescription,\n",
    "}"
   ]
  },
  {
   "cell_type": "code",
   "execution_count": 22,
   "id": "4d72a0b1",
   "metadata": {
    "execution": {
     "iopub.execute_input": "2021-04-04T23:28:05.598389Z",
     "iopub.status.busy": "2021-04-04T23:28:05.597622Z",
     "iopub.status.idle": "2021-04-04T23:28:05.599160Z",
     "shell.execute_reply": "2021-04-04T23:28:05.599709Z"
    },
    "papermill": {
     "duration": 0.044826,
     "end_time": "2021-04-04T23:28:05.599852",
     "exception": false,
     "start_time": "2021-04-04T23:28:05.555026",
     "status": "completed"
    },
    "scrolled": true,
    "tags": []
   },
   "outputs": [],
   "source": [
    "model_cls = models[model_config['model_type']]\n",
    "model = model_cls(**model_config['hyperparameters'])"
   ]
  },
  {
   "cell_type": "markdown",
   "id": "e00cff3b",
   "metadata": {
    "papermill": {
     "duration": 0.029107,
     "end_time": "2021-04-04T23:28:05.655845",
     "exception": false,
     "start_time": "2021-04-04T23:28:05.626738",
     "status": "completed"
    },
    "tags": []
   },
   "source": [
    "# Fit"
   ]
  },
  {
   "cell_type": "code",
   "execution_count": 23,
   "id": "8b2ded89",
   "metadata": {
    "execution": {
     "iopub.execute_input": "2021-04-04T23:28:05.738785Z",
     "iopub.status.busy": "2021-04-04T23:28:05.732456Z",
     "iopub.status.idle": "2021-04-04T23:28:05.740937Z",
     "shell.execute_reply": "2021-04-04T23:28:05.741893Z"
    },
    "papermill": {
     "duration": 0.055144,
     "end_time": "2021-04-04T23:28:05.742177",
     "exception": false,
     "start_time": "2021-04-04T23:28:05.687033",
     "status": "completed"
    },
    "tags": []
   },
   "outputs": [],
   "source": [
    "model.fit(X_train)"
   ]
  },
  {
   "cell_type": "markdown",
   "id": "f99999f7",
   "metadata": {
    "papermill": {
     "duration": 0.025664,
     "end_time": "2021-04-04T23:28:05.795097",
     "exception": false,
     "start_time": "2021-04-04T23:28:05.769433",
     "status": "completed"
    },
    "tags": []
   },
   "source": [
    "# Predict"
   ]
  },
  {
   "cell_type": "code",
   "execution_count": 24,
   "id": "6536fbf7",
   "metadata": {
    "execution": {
     "iopub.execute_input": "2021-04-04T23:28:05.869245Z",
     "iopub.status.busy": "2021-04-04T23:28:05.865223Z",
     "iopub.status.idle": "2021-04-04T23:28:06.293034Z",
     "shell.execute_reply": "2021-04-04T23:28:06.293516Z"
    },
    "papermill": {
     "duration": 0.473214,
     "end_time": "2021-04-04T23:28:06.293664",
     "exception": false,
     "start_time": "2021-04-04T23:28:05.820450",
     "status": "completed"
    },
    "tags": []
   },
   "outputs": [],
   "source": [
    "predictions = model.predict(X_test)"
   ]
  },
  {
   "cell_type": "markdown",
   "id": "aa1c9881",
   "metadata": {
    "papermill": {
     "duration": 0.035651,
     "end_time": "2021-04-04T23:28:06.353665",
     "exception": false,
     "start_time": "2021-04-04T23:28:06.318014",
     "status": "completed"
    },
    "tags": []
   },
   "source": [
    "# Evaluate"
   ]
  },
  {
   "cell_type": "code",
   "execution_count": 25,
   "id": "894f0f04",
   "metadata": {
    "execution": {
     "iopub.execute_input": "2021-04-04T23:28:06.418173Z",
     "iopub.status.busy": "2021-04-04T23:28:06.417567Z",
     "iopub.status.idle": "2021-04-04T23:28:06.419449Z",
     "shell.execute_reply": "2021-04-04T23:28:06.419895Z"
    },
    "papermill": {
     "duration": 0.032305,
     "end_time": "2021-04-04T23:28:06.420032",
     "exception": false,
     "start_time": "2021-04-04T23:28:06.387727",
     "status": "completed"
    },
    "tags": []
   },
   "outputs": [],
   "source": [
    "from sklearn.metrics import f1_score"
   ]
  },
  {
   "cell_type": "code",
   "execution_count": 26,
   "id": "211744d3",
   "metadata": {
    "execution": {
     "iopub.execute_input": "2021-04-04T23:28:06.482529Z",
     "iopub.status.busy": "2021-04-04T23:28:06.479902Z",
     "iopub.status.idle": "2021-04-04T23:28:06.486251Z",
     "shell.execute_reply": "2021-04-04T23:28:06.486924Z"
    },
    "papermill": {
     "duration": 0.042632,
     "end_time": "2021-04-04T23:28:06.487118",
     "exception": false,
     "start_time": "2021-04-04T23:28:06.444486",
     "status": "completed"
    },
    "tags": []
   },
   "outputs": [],
   "source": [
    "y_test = y_test.replace([0, 1], [1, -1])"
   ]
  },
  {
   "cell_type": "code",
   "execution_count": 27,
   "id": "d68a9204",
   "metadata": {
    "execution": {
     "iopub.execute_input": "2021-04-04T23:28:06.548813Z",
     "iopub.status.busy": "2021-04-04T23:28:06.548069Z",
     "iopub.status.idle": "2021-04-04T23:28:06.549785Z",
     "shell.execute_reply": "2021-04-04T23:28:06.550253Z"
    },
    "papermill": {
     "duration": 0.03569,
     "end_time": "2021-04-04T23:28:06.550397",
     "exception": false,
     "start_time": "2021-04-04T23:28:06.514707",
     "status": "completed"
    },
    "tags": []
   },
   "outputs": [],
   "source": [
    "def evaluate(truths, predictions, pos_label, neg_label):\n",
    "    TP = 0\n",
    "    FP = 0\n",
    "    TN = 0\n",
    "    FN = 0\n",
    "\n",
    "    for truth, pred in zip(truths, predictions): \n",
    "        if truth == pred == pos_label:\n",
    "           TP += 1\n",
    "        elif pred == pos_label and truth == neg_label:\n",
    "           FP += 1\n",
    "        elif truth == pred == neg_label:\n",
    "           TN += 1\n",
    "        elif pred == neg_label and truth == pos_label:\n",
    "           FN += 1\n",
    "\n",
    "    precision = TP / (TP + FP)\n",
    "    sensitivity = TP / (TP + FN)\n",
    "    \n",
    "    return {\n",
    "        'true_pos': TP,\n",
    "        'false_pos': FP,\n",
    "        'false_neg': FN,\n",
    "        'true_neg': TN,\n",
    "        'precision': precision,\n",
    "        'sensitivity': sensitivity,\n",
    "        'f1': (2 * (precision * sensitivity)) / (precision + sensitivity)\n",
    "    }\n",
    "\n",
    "score = evaluate(y_test, predictions, pos_label=-1, neg_label=1)"
   ]
  },
  {
   "cell_type": "markdown",
   "id": "93596516",
   "metadata": {
    "papermill": {
     "duration": 0.043974,
     "end_time": "2021-04-04T23:28:06.621358",
     "exception": false,
     "start_time": "2021-04-04T23:28:06.577384",
     "status": "completed"
    },
    "tags": []
   },
   "source": [
    "# Report"
   ]
  },
  {
   "cell_type": "code",
   "execution_count": 28,
   "id": "bea5fba1",
   "metadata": {
    "execution": {
     "iopub.execute_input": "2021-04-04T23:28:06.702115Z",
     "iopub.status.busy": "2021-04-04T23:28:06.700784Z",
     "iopub.status.idle": "2021-04-04T23:28:06.709799Z",
     "shell.execute_reply": "2021-04-04T23:28:06.708230Z"
    },
    "papermill": {
     "duration": 0.043562,
     "end_time": "2021-04-04T23:28:06.710035",
     "exception": false,
     "start_time": "2021-04-04T23:28:06.666473",
     "status": "completed"
    },
    "tags": []
   },
   "outputs": [],
   "source": [
    "import csv\n",
    "\n",
    "\n",
    "dataset_config_name = DATASET_CONFIG_PATH.split('/')[-1].split('.')[0]\n",
    "model_config_name = MODEL_CONFIG_PATH.split('/')[-1].split('.')[0]\n",
    "configuration = f\"dataset_{dataset_config_name}-model_{model_config_name}\"\n",
    "\n",
    "with open('results.csv', 'a') as f:\n",
    "    report = dict({'configuration': configuration}, **score)\n",
    "    writer = csv.DictWriter(f, report.keys())\n",
    "    writer.writerow(report)"
   ]
  }
 ],
 "metadata": {
  "celltoolbar": "Tags",
  "kernelspec": {
   "display_name": "Python 3",
   "language": "python",
   "name": "python3"
  },
  "language_info": {
   "codemirror_mode": {
    "name": "ipython",
    "version": 3
   },
   "file_extension": ".py",
   "mimetype": "text/x-python",
   "name": "python",
   "nbconvert_exporter": "python",
   "pygments_lexer": "ipython3",
   "version": "3.9.1"
  },
  "papermill": {
   "default_parameters": {},
   "duration": 6.085447,
   "end_time": "2021-04-04T23:28:07.365237",
   "environment_variables": {},
   "exception": null,
   "input_path": "main.ipynb",
   "output_path": "runs/dataset_000137-model_000001.ipynb",
   "parameters": {
    "DATASET_CONFIG_PATH": "config/dataset/000137.json",
    "MODEL_CONFIG_PATH": "config/model/000001.json",
    "PROFILE_REPORTING": false
   },
   "start_time": "2021-04-04T23:28:01.279790",
   "version": "2.3.3"
  }
 },
 "nbformat": 4,
 "nbformat_minor": 5
}