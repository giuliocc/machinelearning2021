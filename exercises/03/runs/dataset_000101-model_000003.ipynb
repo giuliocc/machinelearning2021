{
 "cells": [
  {
   "cell_type": "markdown",
   "id": "51c71c25",
   "metadata": {
    "papermill": {
     "duration": 0.02616,
     "end_time": "2021-04-04T23:13:16.645916",
     "exception": false,
     "start_time": "2021-04-04T23:13:16.619756",
     "status": "completed"
    },
    "tags": []
   },
   "source": [
    "# Parametrizing"
   ]
  },
  {
   "cell_type": "code",
   "execution_count": 1,
   "id": "3b136394",
   "metadata": {
    "execution": {
     "iopub.execute_input": "2021-04-04T23:13:16.699378Z",
     "iopub.status.busy": "2021-04-04T23:13:16.698712Z",
     "iopub.status.idle": "2021-04-04T23:13:16.700849Z",
     "shell.execute_reply": "2021-04-04T23:13:16.701296Z"
    },
    "papermill": {
     "duration": 0.036045,
     "end_time": "2021-04-04T23:13:16.701499",
     "exception": false,
     "start_time": "2021-04-04T23:13:16.665454",
     "status": "completed"
    },
    "tags": [
     "parameters"
    ]
   },
   "outputs": [],
   "source": [
    "DATASET_CONFIG_PATH = 'config/dataset/kc1_001.json'\n",
    "MODEL_CONFIG_PATH = 'config/model/knndd_001.json'\n",
    "PROFILE_REPORTING = False"
   ]
  },
  {
   "cell_type": "code",
   "execution_count": 2,
   "id": "c1cd9b90",
   "metadata": {
    "execution": {
     "iopub.execute_input": "2021-04-04T23:13:16.750618Z",
     "iopub.status.busy": "2021-04-04T23:13:16.749303Z",
     "iopub.status.idle": "2021-04-04T23:13:16.752118Z",
     "shell.execute_reply": "2021-04-04T23:13:16.752697Z"
    },
    "papermill": {
     "duration": 0.031938,
     "end_time": "2021-04-04T23:13:16.752874",
     "exception": false,
     "start_time": "2021-04-04T23:13:16.720936",
     "status": "completed"
    },
    "tags": [
     "injected-parameters"
    ]
   },
   "outputs": [],
   "source": [
    "# Parameters\n",
    "DATASET_CONFIG_PATH = \"config/dataset/000101.json\"\n",
    "MODEL_CONFIG_PATH = \"config/model/000003.json\"\n",
    "PROFILE_REPORTING = False\n"
   ]
  },
  {
   "cell_type": "code",
   "execution_count": 3,
   "id": "b80f2a10",
   "metadata": {
    "execution": {
     "iopub.execute_input": "2021-04-04T23:13:16.801044Z",
     "iopub.status.busy": "2021-04-04T23:13:16.800383Z",
     "iopub.status.idle": "2021-04-04T23:13:16.803420Z",
     "shell.execute_reply": "2021-04-04T23:13:16.803914Z"
    },
    "papermill": {
     "duration": 0.029829,
     "end_time": "2021-04-04T23:13:16.804060",
     "exception": false,
     "start_time": "2021-04-04T23:13:16.774231",
     "status": "completed"
    },
    "tags": []
   },
   "outputs": [],
   "source": [
    "import json\n",
    "\n",
    "\n",
    "with open(DATASET_CONFIG_PATH) as f:\n",
    "    dataset_config = json.load(f)\n",
    "\n",
    "with open(MODEL_CONFIG_PATH) as f:\n",
    "    model_config = json.load(f)"
   ]
  },
  {
   "cell_type": "markdown",
   "id": "9a4b0e2d",
   "metadata": {
    "papermill": {
     "duration": 0.019416,
     "end_time": "2021-04-04T23:13:16.843566",
     "exception": false,
     "start_time": "2021-04-04T23:13:16.824150",
     "status": "completed"
    },
    "tags": []
   },
   "source": [
    "# Profiling"
   ]
  },
  {
   "cell_type": "code",
   "execution_count": 4,
   "id": "a3e0289b",
   "metadata": {
    "execution": {
     "iopub.execute_input": "2021-04-04T23:13:16.887876Z",
     "iopub.status.busy": "2021-04-04T23:13:16.886863Z",
     "iopub.status.idle": "2021-04-04T23:13:18.154375Z",
     "shell.execute_reply": "2021-04-04T23:13:18.153469Z"
    },
    "papermill": {
     "duration": 1.291655,
     "end_time": "2021-04-04T23:13:18.154545",
     "exception": false,
     "start_time": "2021-04-04T23:13:16.862890",
     "status": "completed"
    },
    "tags": []
   },
   "outputs": [],
   "source": [
    "import pandas as pd\n",
    "from pandas_profiling import ProfileReport"
   ]
  },
  {
   "cell_type": "code",
   "execution_count": 5,
   "id": "ee6c0666",
   "metadata": {
    "execution": {
     "iopub.execute_input": "2021-04-04T23:13:18.209411Z",
     "iopub.status.busy": "2021-04-04T23:13:18.208633Z",
     "iopub.status.idle": "2021-04-04T23:13:18.220923Z",
     "shell.execute_reply": "2021-04-04T23:13:18.221692Z"
    },
    "papermill": {
     "duration": 0.037787,
     "end_time": "2021-04-04T23:13:18.221910",
     "exception": false,
     "start_time": "2021-04-04T23:13:18.184123",
     "status": "completed"
    },
    "tags": []
   },
   "outputs": [],
   "source": [
    "df = pd.read_csv(dataset_config['dataset_path'])"
   ]
  },
  {
   "cell_type": "code",
   "execution_count": 6,
   "id": "7eca6c4a",
   "metadata": {
    "execution": {
     "iopub.execute_input": "2021-04-04T23:13:18.282442Z",
     "iopub.status.busy": "2021-04-04T23:13:18.269759Z",
     "iopub.status.idle": "2021-04-04T23:13:18.285770Z",
     "shell.execute_reply": "2021-04-04T23:13:18.286496Z"
    },
    "papermill": {
     "duration": 0.04255,
     "end_time": "2021-04-04T23:13:18.286717",
     "exception": false,
     "start_time": "2021-04-04T23:13:18.244167",
     "status": "completed"
    },
    "tags": []
   },
   "outputs": [
    {
     "name": "stdout",
     "output_type": "stream",
     "text": [
      "<class 'pandas.core.frame.DataFrame'>\n",
      "RangeIndex: 498 entries, 0 to 497\n",
      "Data columns (total 23 columns):\n",
      " #   Column             Non-Null Count  Dtype  \n",
      "---  ------             --------------  -----  \n",
      " 0   id                 498 non-null    int64  \n",
      " 1   loc                498 non-null    float64\n",
      " 2   v(g)               498 non-null    float64\n",
      " 3   ev(g)              498 non-null    float64\n",
      " 4   iv(g)              498 non-null    float64\n",
      " 5   n                  498 non-null    float64\n",
      " 6   v                  498 non-null    float64\n",
      " 7   l                  498 non-null    float64\n",
      " 8   d                  498 non-null    float64\n",
      " 9   i                  498 non-null    float64\n",
      " 10  e                  498 non-null    float64\n",
      " 11  b                  498 non-null    float64\n",
      " 12  t                  498 non-null    float64\n",
      " 13  lOCode             498 non-null    int64  \n",
      " 14  lOComment          498 non-null    int64  \n",
      " 15  lOBlank            498 non-null    int64  \n",
      " 16  locCodeAndComment  498 non-null    int64  \n",
      " 17  uniq_Op            498 non-null    float64\n",
      " 18  uniq_Opnd          498 non-null    float64\n",
      " 19  total_Op           498 non-null    float64\n",
      " 20  total_Opnd         498 non-null    float64\n",
      " 21  branchCount        498 non-null    float64\n",
      " 22  defects            498 non-null    bool   \n",
      "dtypes: bool(1), float64(17), int64(5)\n",
      "memory usage: 86.2 KB\n"
     ]
    }
   ],
   "source": [
    "df.info()"
   ]
  },
  {
   "cell_type": "code",
   "execution_count": 7,
   "id": "3638e5e8",
   "metadata": {
    "execution": {
     "iopub.execute_input": "2021-04-04T23:13:18.344945Z",
     "iopub.status.busy": "2021-04-04T23:13:18.343836Z",
     "iopub.status.idle": "2021-04-04T23:13:18.377400Z",
     "shell.execute_reply": "2021-04-04T23:13:18.376394Z"
    },
    "papermill": {
     "duration": 0.06256,
     "end_time": "2021-04-04T23:13:18.377569",
     "exception": false,
     "start_time": "2021-04-04T23:13:18.315009",
     "status": "completed"
    },
    "tags": []
   },
   "outputs": [
    {
     "data": {
      "text/html": [
       "<div>\n",
       "<style scoped>\n",
       "    .dataframe tbody tr th:only-of-type {\n",
       "        vertical-align: middle;\n",
       "    }\n",
       "\n",
       "    .dataframe tbody tr th {\n",
       "        vertical-align: top;\n",
       "    }\n",
       "\n",
       "    .dataframe thead th {\n",
       "        text-align: right;\n",
       "    }\n",
       "</style>\n",
       "<table border=\"1\" class=\"dataframe\">\n",
       "  <thead>\n",
       "    <tr style=\"text-align: right;\">\n",
       "      <th></th>\n",
       "      <th>id</th>\n",
       "      <th>loc</th>\n",
       "      <th>v(g)</th>\n",
       "      <th>ev(g)</th>\n",
       "      <th>iv(g)</th>\n",
       "      <th>n</th>\n",
       "      <th>v</th>\n",
       "      <th>l</th>\n",
       "      <th>d</th>\n",
       "      <th>i</th>\n",
       "      <th>...</th>\n",
       "      <th>lOCode</th>\n",
       "      <th>lOComment</th>\n",
       "      <th>lOBlank</th>\n",
       "      <th>locCodeAndComment</th>\n",
       "      <th>uniq_Op</th>\n",
       "      <th>uniq_Opnd</th>\n",
       "      <th>total_Op</th>\n",
       "      <th>total_Opnd</th>\n",
       "      <th>branchCount</th>\n",
       "      <th>defects</th>\n",
       "    </tr>\n",
       "  </thead>\n",
       "  <tbody>\n",
       "    <tr>\n",
       "      <th>0</th>\n",
       "      <td>1</td>\n",
       "      <td>1.1</td>\n",
       "      <td>1.4</td>\n",
       "      <td>1.4</td>\n",
       "      <td>1.4</td>\n",
       "      <td>1.3</td>\n",
       "      <td>1.30</td>\n",
       "      <td>1.30</td>\n",
       "      <td>1.30</td>\n",
       "      <td>1.30</td>\n",
       "      <td>...</td>\n",
       "      <td>2</td>\n",
       "      <td>2</td>\n",
       "      <td>2</td>\n",
       "      <td>2</td>\n",
       "      <td>1.2</td>\n",
       "      <td>1.2</td>\n",
       "      <td>1.2</td>\n",
       "      <td>1.2</td>\n",
       "      <td>1.4</td>\n",
       "      <td>False</td>\n",
       "    </tr>\n",
       "    <tr>\n",
       "      <th>1</th>\n",
       "      <td>2</td>\n",
       "      <td>1.0</td>\n",
       "      <td>1.0</td>\n",
       "      <td>1.0</td>\n",
       "      <td>1.0</td>\n",
       "      <td>1.0</td>\n",
       "      <td>1.00</td>\n",
       "      <td>1.00</td>\n",
       "      <td>1.00</td>\n",
       "      <td>1.00</td>\n",
       "      <td>...</td>\n",
       "      <td>1</td>\n",
       "      <td>1</td>\n",
       "      <td>1</td>\n",
       "      <td>1</td>\n",
       "      <td>1.0</td>\n",
       "      <td>1.0</td>\n",
       "      <td>1.0</td>\n",
       "      <td>1.0</td>\n",
       "      <td>1.0</td>\n",
       "      <td>True</td>\n",
       "    </tr>\n",
       "    <tr>\n",
       "      <th>2</th>\n",
       "      <td>3</td>\n",
       "      <td>24.0</td>\n",
       "      <td>5.0</td>\n",
       "      <td>1.0</td>\n",
       "      <td>3.0</td>\n",
       "      <td>63.0</td>\n",
       "      <td>309.13</td>\n",
       "      <td>0.11</td>\n",
       "      <td>9.50</td>\n",
       "      <td>32.54</td>\n",
       "      <td>...</td>\n",
       "      <td>1</td>\n",
       "      <td>0</td>\n",
       "      <td>6</td>\n",
       "      <td>0</td>\n",
       "      <td>15.0</td>\n",
       "      <td>15.0</td>\n",
       "      <td>44.0</td>\n",
       "      <td>19.0</td>\n",
       "      <td>9.0</td>\n",
       "      <td>False</td>\n",
       "    </tr>\n",
       "    <tr>\n",
       "      <th>3</th>\n",
       "      <td>4</td>\n",
       "      <td>20.0</td>\n",
       "      <td>4.0</td>\n",
       "      <td>4.0</td>\n",
       "      <td>2.0</td>\n",
       "      <td>47.0</td>\n",
       "      <td>215.49</td>\n",
       "      <td>0.06</td>\n",
       "      <td>16.00</td>\n",
       "      <td>13.47</td>\n",
       "      <td>...</td>\n",
       "      <td>0</td>\n",
       "      <td>0</td>\n",
       "      <td>3</td>\n",
       "      <td>0</td>\n",
       "      <td>16.0</td>\n",
       "      <td>8.0</td>\n",
       "      <td>31.0</td>\n",
       "      <td>16.0</td>\n",
       "      <td>7.0</td>\n",
       "      <td>False</td>\n",
       "    </tr>\n",
       "    <tr>\n",
       "      <th>4</th>\n",
       "      <td>5</td>\n",
       "      <td>24.0</td>\n",
       "      <td>6.0</td>\n",
       "      <td>6.0</td>\n",
       "      <td>2.0</td>\n",
       "      <td>72.0</td>\n",
       "      <td>346.13</td>\n",
       "      <td>0.06</td>\n",
       "      <td>17.33</td>\n",
       "      <td>19.97</td>\n",
       "      <td>...</td>\n",
       "      <td>0</td>\n",
       "      <td>0</td>\n",
       "      <td>3</td>\n",
       "      <td>0</td>\n",
       "      <td>16.0</td>\n",
       "      <td>12.0</td>\n",
       "      <td>46.0</td>\n",
       "      <td>26.0</td>\n",
       "      <td>11.0</td>\n",
       "      <td>False</td>\n",
       "    </tr>\n",
       "  </tbody>\n",
       "</table>\n",
       "<p>5 rows × 23 columns</p>\n",
       "</div>"
      ],
      "text/plain": [
       "   id   loc  v(g)  ev(g)  iv(g)     n       v     l      d      i  ...  \\\n",
       "0   1   1.1   1.4    1.4    1.4   1.3    1.30  1.30   1.30   1.30  ...   \n",
       "1   2   1.0   1.0    1.0    1.0   1.0    1.00  1.00   1.00   1.00  ...   \n",
       "2   3  24.0   5.0    1.0    3.0  63.0  309.13  0.11   9.50  32.54  ...   \n",
       "3   4  20.0   4.0    4.0    2.0  47.0  215.49  0.06  16.00  13.47  ...   \n",
       "4   5  24.0   6.0    6.0    2.0  72.0  346.13  0.06  17.33  19.97  ...   \n",
       "\n",
       "   lOCode  lOComment  lOBlank  locCodeAndComment  uniq_Op  uniq_Opnd  \\\n",
       "0       2          2        2                  2      1.2        1.2   \n",
       "1       1          1        1                  1      1.0        1.0   \n",
       "2       1          0        6                  0     15.0       15.0   \n",
       "3       0          0        3                  0     16.0        8.0   \n",
       "4       0          0        3                  0     16.0       12.0   \n",
       "\n",
       "   total_Op  total_Opnd  branchCount  defects  \n",
       "0       1.2         1.2          1.4    False  \n",
       "1       1.0         1.0          1.0     True  \n",
       "2      44.0        19.0          9.0    False  \n",
       "3      31.0        16.0          7.0    False  \n",
       "4      46.0        26.0         11.0    False  \n",
       "\n",
       "[5 rows x 23 columns]"
      ]
     },
     "execution_count": 7,
     "metadata": {},
     "output_type": "execute_result"
    }
   ],
   "source": [
    "df.head()"
   ]
  },
  {
   "cell_type": "code",
   "execution_count": 8,
   "id": "733e95eb",
   "metadata": {
    "execution": {
     "iopub.execute_input": "2021-04-04T23:13:18.432372Z",
     "iopub.status.busy": "2021-04-04T23:13:18.431401Z",
     "iopub.status.idle": "2021-04-04T23:13:18.434769Z",
     "shell.execute_reply": "2021-04-04T23:13:18.434014Z"
    },
    "papermill": {
     "duration": 0.031185,
     "end_time": "2021-04-04T23:13:18.434938",
     "exception": false,
     "start_time": "2021-04-04T23:13:18.403753",
     "status": "completed"
    },
    "tags": []
   },
   "outputs": [],
   "source": [
    "del df['id']"
   ]
  },
  {
   "cell_type": "code",
   "execution_count": 9,
   "id": "6ff6f5b0",
   "metadata": {
    "execution": {
     "iopub.execute_input": "2021-04-04T23:13:18.483901Z",
     "iopub.status.busy": "2021-04-04T23:13:18.483122Z",
     "iopub.status.idle": "2021-04-04T23:13:18.486169Z",
     "shell.execute_reply": "2021-04-04T23:13:18.485638Z"
    },
    "papermill": {
     "duration": 0.028488,
     "end_time": "2021-04-04T23:13:18.486286",
     "exception": false,
     "start_time": "2021-04-04T23:13:18.457798",
     "status": "completed"
    },
    "tags": []
   },
   "outputs": [],
   "source": [
    "if PROFILE_REPORTING:\n",
    "    ProfileReport(df).to_widgets()"
   ]
  },
  {
   "cell_type": "markdown",
   "id": "1deaf3f0",
   "metadata": {
    "papermill": {
     "duration": 0.021235,
     "end_time": "2021-04-04T23:13:18.529492",
     "exception": false,
     "start_time": "2021-04-04T23:13:18.508257",
     "status": "completed"
    },
    "tags": []
   },
   "source": [
    "# Preprocess"
   ]
  },
  {
   "cell_type": "code",
   "execution_count": 10,
   "id": "1513e563",
   "metadata": {
    "execution": {
     "iopub.execute_input": "2021-04-04T23:13:18.576872Z",
     "iopub.status.busy": "2021-04-04T23:13:18.575985Z",
     "iopub.status.idle": "2021-04-04T23:13:18.579004Z",
     "shell.execute_reply": "2021-04-04T23:13:18.578404Z"
    },
    "papermill": {
     "duration": 0.028486,
     "end_time": "2021-04-04T23:13:18.579125",
     "exception": false,
     "start_time": "2021-04-04T23:13:18.550639",
     "status": "completed"
    },
    "tags": []
   },
   "outputs": [],
   "source": [
    "working_df = df.copy()"
   ]
  },
  {
   "cell_type": "code",
   "execution_count": 11,
   "id": "3b26d675",
   "metadata": {
    "execution": {
     "iopub.execute_input": "2021-04-04T23:13:18.630513Z",
     "iopub.status.busy": "2021-04-04T23:13:18.629635Z",
     "iopub.status.idle": "2021-04-04T23:13:18.632418Z",
     "shell.execute_reply": "2021-04-04T23:13:18.631906Z"
    },
    "papermill": {
     "duration": 0.031347,
     "end_time": "2021-04-04T23:13:18.632539",
     "exception": false,
     "start_time": "2021-04-04T23:13:18.601192",
     "status": "completed"
    },
    "tags": []
   },
   "outputs": [],
   "source": [
    "working_df['defects'] = working_df['defects'].replace([False, True], [0, 1])"
   ]
  },
  {
   "cell_type": "code",
   "execution_count": 12,
   "id": "eb48604f",
   "metadata": {
    "execution": {
     "iopub.execute_input": "2021-04-04T23:13:18.681118Z",
     "iopub.status.busy": "2021-04-04T23:13:18.680290Z",
     "iopub.status.idle": "2021-04-04T23:13:18.683550Z",
     "shell.execute_reply": "2021-04-04T23:13:18.682813Z"
    },
    "papermill": {
     "duration": 0.028653,
     "end_time": "2021-04-04T23:13:18.683714",
     "exception": false,
     "start_time": "2021-04-04T23:13:18.655061",
     "status": "completed"
    },
    "tags": []
   },
   "outputs": [],
   "source": [
    "for col in dataset_config['delete_columns']:\n",
    "    del working_df[col]"
   ]
  },
  {
   "cell_type": "code",
   "execution_count": 13,
   "id": "9a17bc29",
   "metadata": {
    "execution": {
     "iopub.execute_input": "2021-04-04T23:13:18.739448Z",
     "iopub.status.busy": "2021-04-04T23:13:18.738767Z",
     "iopub.status.idle": "2021-04-04T23:13:18.756901Z",
     "shell.execute_reply": "2021-04-04T23:13:18.755859Z"
    },
    "papermill": {
     "duration": 0.045901,
     "end_time": "2021-04-04T23:13:18.757139",
     "exception": false,
     "start_time": "2021-04-04T23:13:18.711238",
     "status": "completed"
    },
    "tags": []
   },
   "outputs": [],
   "source": [
    "working_df = working_df.drop_duplicates()"
   ]
  },
  {
   "cell_type": "markdown",
   "id": "a4d52ca6",
   "metadata": {
    "papermill": {
     "duration": 0.022815,
     "end_time": "2021-04-04T23:13:18.804278",
     "exception": false,
     "start_time": "2021-04-04T23:13:18.781463",
     "status": "completed"
    },
    "tags": []
   },
   "source": [
    "# Split"
   ]
  },
  {
   "cell_type": "code",
   "execution_count": 14,
   "id": "3e9ee4b5",
   "metadata": {
    "execution": {
     "iopub.execute_input": "2021-04-04T23:13:18.859551Z",
     "iopub.status.busy": "2021-04-04T23:13:18.858860Z",
     "iopub.status.idle": "2021-04-04T23:13:18.884807Z",
     "shell.execute_reply": "2021-04-04T23:13:18.884131Z"
    },
    "papermill": {
     "duration": 0.058322,
     "end_time": "2021-04-04T23:13:18.884936",
     "exception": false,
     "start_time": "2021-04-04T23:13:18.826614",
     "status": "completed"
    },
    "tags": []
   },
   "outputs": [],
   "source": [
    "from sklearn.model_selection import train_test_split"
   ]
  },
  {
   "cell_type": "code",
   "execution_count": 15,
   "id": "274004ce",
   "metadata": {
    "execution": {
     "iopub.execute_input": "2021-04-04T23:13:18.934899Z",
     "iopub.status.busy": "2021-04-04T23:13:18.933919Z",
     "iopub.status.idle": "2021-04-04T23:13:18.939663Z",
     "shell.execute_reply": "2021-04-04T23:13:18.940153Z"
    },
    "papermill": {
     "duration": 0.033275,
     "end_time": "2021-04-04T23:13:18.940303",
     "exception": false,
     "start_time": "2021-04-04T23:13:18.907028",
     "status": "completed"
    },
    "scrolled": true,
    "tags": []
   },
   "outputs": [],
   "source": [
    "inlier, outlier = working_df[working_df['defects'] == 0], working_df[working_df['defects'] == 1]"
   ]
  },
  {
   "cell_type": "code",
   "execution_count": 16,
   "id": "753c7b03",
   "metadata": {
    "execution": {
     "iopub.execute_input": "2021-04-04T23:13:18.995279Z",
     "iopub.status.busy": "2021-04-04T23:13:18.994635Z",
     "iopub.status.idle": "2021-04-04T23:13:18.999332Z",
     "shell.execute_reply": "2021-04-04T23:13:18.999813Z"
    },
    "papermill": {
     "duration": 0.031936,
     "end_time": "2021-04-04T23:13:18.999957",
     "exception": false,
     "start_time": "2021-04-04T23:13:18.968021",
     "status": "completed"
    },
    "tags": []
   },
   "outputs": [],
   "source": [
    "X_inlier = inlier.copy()\n",
    "y_inlier = X_inlier.pop('defects')\n",
    "X_outlier = outlier.copy()\n",
    "y_outlier = X_outlier.pop('defects')"
   ]
  },
  {
   "cell_type": "code",
   "execution_count": 17,
   "id": "2ba43193",
   "metadata": {
    "execution": {
     "iopub.execute_input": "2021-04-04T23:13:19.055517Z",
     "iopub.status.busy": "2021-04-04T23:13:19.054918Z",
     "iopub.status.idle": "2021-04-04T23:13:19.058160Z",
     "shell.execute_reply": "2021-04-04T23:13:19.058788Z"
    },
    "papermill": {
     "duration": 0.033614,
     "end_time": "2021-04-04T23:13:19.058996",
     "exception": false,
     "start_time": "2021-04-04T23:13:19.025382",
     "status": "completed"
    },
    "tags": []
   },
   "outputs": [],
   "source": [
    "test_size = dataset_config['test_size']\n",
    "random_state = dataset_config['random_state']\n",
    "\n",
    "X_inlier_train, X_inlier_test, y_inlier_train, y_inlier_test = train_test_split(\n",
    "    X_inlier,\n",
    "    y_inlier,\n",
    "    test_size=test_size,\n",
    "    random_state=random_state\n",
    ")"
   ]
  },
  {
   "cell_type": "code",
   "execution_count": 18,
   "id": "0b7582ca",
   "metadata": {
    "execution": {
     "iopub.execute_input": "2021-04-04T23:13:19.115439Z",
     "iopub.status.busy": "2021-04-04T23:13:19.114841Z",
     "iopub.status.idle": "2021-04-04T23:13:19.117622Z",
     "shell.execute_reply": "2021-04-04T23:13:19.118355Z"
    },
    "papermill": {
     "duration": 0.035325,
     "end_time": "2021-04-04T23:13:19.118562",
     "exception": false,
     "start_time": "2021-04-04T23:13:19.083237",
     "status": "completed"
    },
    "tags": []
   },
   "outputs": [],
   "source": [
    "test_outlier_size = dataset_config['test_outlier_size']\n",
    "if test_outlier_size > 0.0:\n",
    "    X_outlier_train, X_outlier_test, y_outlier_train, y_outlier_test = train_test_split(\n",
    "        X_outlier,\n",
    "        y_outlier,\n",
    "        test_size=test_outlier_size,\n",
    "        random_state=random_state\n",
    "    )\n",
    "else:\n",
    "    X_outlier_train, y_outlier_train = pd.DataFrame(columns=X_outlier.columns), pd.Series(dtype='int64')\n",
    "    X_outlier_test, y_outlier_test = X_outlier.copy(), y_outlier.copy()"
   ]
  },
  {
   "cell_type": "code",
   "execution_count": 19,
   "id": "c34363db",
   "metadata": {
    "execution": {
     "iopub.execute_input": "2021-04-04T23:13:19.176896Z",
     "iopub.status.busy": "2021-04-04T23:13:19.171900Z",
     "iopub.status.idle": "2021-04-04T23:13:19.180099Z",
     "shell.execute_reply": "2021-04-04T23:13:19.180958Z"
    },
    "papermill": {
     "duration": 0.037432,
     "end_time": "2021-04-04T23:13:19.181195",
     "exception": false,
     "start_time": "2021-04-04T23:13:19.143763",
     "status": "completed"
    },
    "tags": []
   },
   "outputs": [],
   "source": [
    "X_train, y_train = pd.concat([X_inlier_train, X_outlier_train], ignore_index=True), pd.concat([y_inlier_train, y_outlier_train], ignore_index=True)\n",
    "X_test, y_test = pd.concat([X_inlier_test, X_outlier_test], ignore_index=True), pd.concat([y_inlier_test, y_outlier_test], ignore_index=True)"
   ]
  },
  {
   "cell_type": "markdown",
   "id": "7cde7309",
   "metadata": {
    "papermill": {
     "duration": 0.022098,
     "end_time": "2021-04-04T23:13:19.232005",
     "exception": false,
     "start_time": "2021-04-04T23:13:19.209907",
     "status": "completed"
    },
    "tags": []
   },
   "source": [
    "# Model"
   ]
  },
  {
   "cell_type": "code",
   "execution_count": 20,
   "id": "2b12a415",
   "metadata": {
    "execution": {
     "iopub.execute_input": "2021-04-04T23:13:19.289998Z",
     "iopub.status.busy": "2021-04-04T23:13:19.288983Z",
     "iopub.status.idle": "2021-04-04T23:13:19.292413Z",
     "shell.execute_reply": "2021-04-04T23:13:19.291422Z"
    },
    "papermill": {
     "duration": 0.037843,
     "end_time": "2021-04-04T23:13:19.292640",
     "exception": false,
     "start_time": "2021-04-04T23:13:19.254797",
     "status": "completed"
    },
    "tags": []
   },
   "outputs": [],
   "source": [
    "from math import sqrt\n",
    "\n",
    "\n",
    "class KNNDataDescription:\n",
    "    def __init__(self, k=5, outlier_threshold=1.0):\n",
    "        self.k = k\n",
    "        self.outlier_threshold = outlier_threshold\n",
    "        self.X = []\n",
    "    \n",
    "    def fit(self, X):\n",
    "        self.X = [features.to_list() for index, features in X.iterrows()]\n",
    "\n",
    "    def predict(self, entries):\n",
    "        return [self.predict_entry(features.to_list()) for index, features in entries.iterrows()]\n",
    "    \n",
    "    def predict_entry(self, entry):\n",
    "        kth_neighbor, kth_distance = self.get_kth_neighbor(entry, self.k)\n",
    "        kth_kth_neighbor, kth_kth_distance = self.get_kth_neighbor(kth_neighbor, self.k + 1)\n",
    "\n",
    "        outlier_score = kth_distance / (kth_kth_distance + 0.000001)\n",
    "\n",
    "        return 1 if outlier_score < self.outlier_threshold else -1\n",
    "        \n",
    "    def euclidean_distance(self, features1, features2):\n",
    "        distance = 0.0\n",
    "        for feat1, feat2 in zip(features1, features2):\n",
    "            distance += (feat1 - feat2)**2\n",
    "                \n",
    "        return sqrt(distance)\n",
    "\n",
    "    def get_neighbors(self, entry, k):\n",
    "        distance_to_data_points = [\n",
    "            (data_point, self.euclidean_distance(entry, data_point))\n",
    "            for data_point in self.X\n",
    "        ]\n",
    "        sorted_by_distance = sorted(distance_to_data_points, key=lambda tup: tup[1])\n",
    "        neighbors = sorted_by_distance[:k]\n",
    "        return neighbors\n",
    "\n",
    "    def get_kth_neighbor(self, entry, k):\n",
    "        neighbors = self.get_neighbors(entry, k)\n",
    "        return neighbors[-1]\n"
   ]
  },
  {
   "cell_type": "code",
   "execution_count": 21,
   "id": "1fa9ec1c",
   "metadata": {
    "execution": {
     "iopub.execute_input": "2021-04-04T23:13:19.356841Z",
     "iopub.status.busy": "2021-04-04T23:13:19.356004Z",
     "iopub.status.idle": "2021-04-04T23:13:19.379980Z",
     "shell.execute_reply": "2021-04-04T23:13:19.380684Z"
    },
    "papermill": {
     "duration": 0.054197,
     "end_time": "2021-04-04T23:13:19.380887",
     "exception": false,
     "start_time": "2021-04-04T23:13:19.326690",
     "status": "completed"
    },
    "tags": []
   },
   "outputs": [],
   "source": [
    "from sklearn.svm import OneClassSVM\n",
    "\n",
    "\n",
    "models = {\n",
    "    'oneclasssvm': OneClassSVM,\n",
    "    'knndatadescription': KNNDataDescription,\n",
    "}"
   ]
  },
  {
   "cell_type": "code",
   "execution_count": 22,
   "id": "4d72a0b1",
   "metadata": {
    "execution": {
     "iopub.execute_input": "2021-04-04T23:13:19.436863Z",
     "iopub.status.busy": "2021-04-04T23:13:19.435938Z",
     "iopub.status.idle": "2021-04-04T23:13:19.439174Z",
     "shell.execute_reply": "2021-04-04T23:13:19.440041Z"
    },
    "papermill": {
     "duration": 0.033107,
     "end_time": "2021-04-04T23:13:19.440276",
     "exception": false,
     "start_time": "2021-04-04T23:13:19.407169",
     "status": "completed"
    },
    "scrolled": true,
    "tags": []
   },
   "outputs": [],
   "source": [
    "model_cls = models[model_config['model_type']]\n",
    "model = model_cls(**model_config['hyperparameters'])"
   ]
  },
  {
   "cell_type": "markdown",
   "id": "e00cff3b",
   "metadata": {
    "papermill": {
     "duration": 0.023018,
     "end_time": "2021-04-04T23:13:19.492493",
     "exception": false,
     "start_time": "2021-04-04T23:13:19.469475",
     "status": "completed"
    },
    "tags": []
   },
   "source": [
    "# Fit"
   ]
  },
  {
   "cell_type": "code",
   "execution_count": 23,
   "id": "8b2ded89",
   "metadata": {
    "execution": {
     "iopub.execute_input": "2021-04-04T23:13:19.563301Z",
     "iopub.status.busy": "2021-04-04T23:13:19.542683Z",
     "iopub.status.idle": "2021-04-04T23:13:19.567101Z",
     "shell.execute_reply": "2021-04-04T23:13:19.566009Z"
    },
    "papermill": {
     "duration": 0.052344,
     "end_time": "2021-04-04T23:13:19.567305",
     "exception": false,
     "start_time": "2021-04-04T23:13:19.514961",
     "status": "completed"
    },
    "tags": []
   },
   "outputs": [],
   "source": [
    "model.fit(X_train)"
   ]
  },
  {
   "cell_type": "markdown",
   "id": "f99999f7",
   "metadata": {
    "papermill": {
     "duration": 0.022565,
     "end_time": "2021-04-04T23:13:19.617998",
     "exception": false,
     "start_time": "2021-04-04T23:13:19.595433",
     "status": "completed"
    },
    "tags": []
   },
   "source": [
    "# Predict"
   ]
  },
  {
   "cell_type": "code",
   "execution_count": 24,
   "id": "6536fbf7",
   "metadata": {
    "execution": {
     "iopub.execute_input": "2021-04-04T23:13:19.683402Z",
     "iopub.status.busy": "2021-04-04T23:13:19.678133Z",
     "iopub.status.idle": "2021-04-04T23:13:20.016045Z",
     "shell.execute_reply": "2021-04-04T23:13:20.015363Z"
    },
    "papermill": {
     "duration": 0.375121,
     "end_time": "2021-04-04T23:13:20.016179",
     "exception": false,
     "start_time": "2021-04-04T23:13:19.641058",
     "status": "completed"
    },
    "tags": []
   },
   "outputs": [],
   "source": [
    "predictions = model.predict(X_test)"
   ]
  },
  {
   "cell_type": "markdown",
   "id": "aa1c9881",
   "metadata": {
    "papermill": {
     "duration": 0.022425,
     "end_time": "2021-04-04T23:13:20.065972",
     "exception": false,
     "start_time": "2021-04-04T23:13:20.043547",
     "status": "completed"
    },
    "tags": []
   },
   "source": [
    "# Evaluate"
   ]
  },
  {
   "cell_type": "code",
   "execution_count": 25,
   "id": "894f0f04",
   "metadata": {
    "execution": {
     "iopub.execute_input": "2021-04-04T23:13:20.116843Z",
     "iopub.status.busy": "2021-04-04T23:13:20.116102Z",
     "iopub.status.idle": "2021-04-04T23:13:20.118511Z",
     "shell.execute_reply": "2021-04-04T23:13:20.119173Z"
    },
    "papermill": {
     "duration": 0.030138,
     "end_time": "2021-04-04T23:13:20.119361",
     "exception": false,
     "start_time": "2021-04-04T23:13:20.089223",
     "status": "completed"
    },
    "tags": []
   },
   "outputs": [],
   "source": [
    "from sklearn.metrics import f1_score"
   ]
  },
  {
   "cell_type": "code",
   "execution_count": 26,
   "id": "211744d3",
   "metadata": {
    "execution": {
     "iopub.execute_input": "2021-04-04T23:13:20.180156Z",
     "iopub.status.busy": "2021-04-04T23:13:20.179366Z",
     "iopub.status.idle": "2021-04-04T23:13:20.181600Z",
     "shell.execute_reply": "2021-04-04T23:13:20.182278Z"
    },
    "papermill": {
     "duration": 0.031056,
     "end_time": "2021-04-04T23:13:20.182481",
     "exception": false,
     "start_time": "2021-04-04T23:13:20.151425",
     "status": "completed"
    },
    "tags": []
   },
   "outputs": [],
   "source": [
    "y_test = y_test.replace([0, 1], [1, -1])"
   ]
  },
  {
   "cell_type": "code",
   "execution_count": 27,
   "id": "d68a9204",
   "metadata": {
    "execution": {
     "iopub.execute_input": "2021-04-04T23:13:20.245863Z",
     "iopub.status.busy": "2021-04-04T23:13:20.245043Z",
     "iopub.status.idle": "2021-04-04T23:13:20.247473Z",
     "shell.execute_reply": "2021-04-04T23:13:20.248043Z"
    },
    "papermill": {
     "duration": 0.036754,
     "end_time": "2021-04-04T23:13:20.248204",
     "exception": false,
     "start_time": "2021-04-04T23:13:20.211450",
     "status": "completed"
    },
    "tags": []
   },
   "outputs": [],
   "source": [
    "def evaluate(truths, predictions, pos_label, neg_label):\n",
    "    TP = 0\n",
    "    FP = 0\n",
    "    TN = 0\n",
    "    FN = 0\n",
    "\n",
    "    for truth, pred in zip(truths, predictions): \n",
    "        if truth == pred == pos_label:\n",
    "           TP += 1\n",
    "        elif pred == pos_label and truth == neg_label:\n",
    "           FP += 1\n",
    "        elif truth == pred == neg_label:\n",
    "           TN += 1\n",
    "        elif pred == neg_label and truth == pos_label:\n",
    "           FN += 1\n",
    "\n",
    "    precision = TP / (TP + FP)\n",
    "    sensitivity = TP / (TP + FN)\n",
    "    \n",
    "    return {\n",
    "        'true_pos': TP,\n",
    "        'false_pos': FP,\n",
    "        'false_neg': FN,\n",
    "        'true_neg': TN,\n",
    "        'precision': precision,\n",
    "        'sensitivity': sensitivity,\n",
    "        'f1': (2 * (precision * sensitivity)) / (precision + sensitivity)\n",
    "    }\n",
    "\n",
    "score = evaluate(y_test, predictions, pos_label=-1, neg_label=1)"
   ]
  },
  {
   "cell_type": "markdown",
   "id": "93596516",
   "metadata": {
    "papermill": {
     "duration": 0.023075,
     "end_time": "2021-04-04T23:13:20.294819",
     "exception": false,
     "start_time": "2021-04-04T23:13:20.271744",
     "status": "completed"
    },
    "tags": []
   },
   "source": [
    "# Report"
   ]
  },
  {
   "cell_type": "code",
   "execution_count": 28,
   "id": "bea5fba1",
   "metadata": {
    "execution": {
     "iopub.execute_input": "2021-04-04T23:13:20.348831Z",
     "iopub.status.busy": "2021-04-04T23:13:20.344109Z",
     "iopub.status.idle": "2021-04-04T23:13:20.352194Z",
     "shell.execute_reply": "2021-04-04T23:13:20.353191Z"
    },
    "papermill": {
     "duration": 0.036037,
     "end_time": "2021-04-04T23:13:20.353630",
     "exception": false,
     "start_time": "2021-04-04T23:13:20.317593",
     "status": "completed"
    },
    "tags": []
   },
   "outputs": [],
   "source": [
    "import csv\n",
    "\n",
    "\n",
    "dataset_config_name = DATASET_CONFIG_PATH.split('/')[-1].split('.')[0]\n",
    "model_config_name = MODEL_CONFIG_PATH.split('/')[-1].split('.')[0]\n",
    "configuration = f\"dataset_{dataset_config_name}-model_{model_config_name}\"\n",
    "\n",
    "with open('results.csv', 'a') as f:\n",
    "    report = dict({'configuration': configuration}, **score)\n",
    "    writer = csv.DictWriter(f, report.keys())\n",
    "    writer.writerow(report)"
   ]
  }
 ],
 "metadata": {
  "celltoolbar": "Tags",
  "kernelspec": {
   "display_name": "Python 3",
   "language": "python",
   "name": "python3"
  },
  "language_info": {
   "codemirror_mode": {
    "name": "ipython",
    "version": 3
   },
   "file_extension": ".py",
   "mimetype": "text/x-python",
   "name": "python",
   "nbconvert_exporter": "python",
   "pygments_lexer": "ipython3",
   "version": "3.9.1"
  },
  "papermill": {
   "default_parameters": {},
   "duration": 6.041535,
   "end_time": "2021-04-04T23:13:21.957414",
   "environment_variables": {},
   "exception": null,
   "input_path": "main.ipynb",
   "output_path": "runs/dataset_000101-model_000003.ipynb",
   "parameters": {
    "DATASET_CONFIG_PATH": "config/dataset/000101.json",
    "MODEL_CONFIG_PATH": "config/model/000003.json",
    "PROFILE_REPORTING": false
   },
   "start_time": "2021-04-04T23:13:15.915879",
   "version": "2.3.3"
  }
 },
 "nbformat": 4,
 "nbformat_minor": 5
}