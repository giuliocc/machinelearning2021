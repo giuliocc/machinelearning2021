{
 "cells": [
  {
   "cell_type": "markdown",
   "id": "51c71c25",
   "metadata": {
    "papermill": {
     "duration": 0.031911,
     "end_time": "2021-04-04T23:25:55.032482",
     "exception": false,
     "start_time": "2021-04-04T23:25:55.000571",
     "status": "completed"
    },
    "tags": []
   },
   "source": [
    "# Parametrizing"
   ]
  },
  {
   "cell_type": "code",
   "execution_count": 1,
   "id": "3b136394",
   "metadata": {
    "execution": {
     "iopub.execute_input": "2021-04-04T23:25:55.106097Z",
     "iopub.status.busy": "2021-04-04T23:25:55.105204Z",
     "iopub.status.idle": "2021-04-04T23:25:55.108604Z",
     "shell.execute_reply": "2021-04-04T23:25:55.110654Z"
    },
    "papermill": {
     "duration": 0.054836,
     "end_time": "2021-04-04T23:25:55.110936",
     "exception": false,
     "start_time": "2021-04-04T23:25:55.056100",
     "status": "completed"
    },
    "tags": [
     "parameters"
    ]
   },
   "outputs": [],
   "source": [
    "DATASET_CONFIG_PATH = 'config/dataset/kc1_001.json'\n",
    "MODEL_CONFIG_PATH = 'config/model/knndd_001.json'\n",
    "PROFILE_REPORTING = False"
   ]
  },
  {
   "cell_type": "code",
   "execution_count": 2,
   "id": "0ac3cd21",
   "metadata": {
    "execution": {
     "iopub.execute_input": "2021-04-04T23:25:55.161082Z",
     "iopub.status.busy": "2021-04-04T23:25:55.159604Z",
     "iopub.status.idle": "2021-04-04T23:25:55.166844Z",
     "shell.execute_reply": "2021-04-04T23:25:55.167682Z"
    },
    "papermill": {
     "duration": 0.036415,
     "end_time": "2021-04-04T23:25:55.167848",
     "exception": false,
     "start_time": "2021-04-04T23:25:55.131433",
     "status": "completed"
    },
    "tags": [
     "injected-parameters"
    ]
   },
   "outputs": [],
   "source": [
    "# Parameters\n",
    "DATASET_CONFIG_PATH = \"config/dataset/000132.json\"\n",
    "MODEL_CONFIG_PATH = \"config/model/000003.json\"\n",
    "PROFILE_REPORTING = False\n"
   ]
  },
  {
   "cell_type": "code",
   "execution_count": 3,
   "id": "b80f2a10",
   "metadata": {
    "execution": {
     "iopub.execute_input": "2021-04-04T23:25:55.218857Z",
     "iopub.status.busy": "2021-04-04T23:25:55.218187Z",
     "iopub.status.idle": "2021-04-04T23:25:55.220435Z",
     "shell.execute_reply": "2021-04-04T23:25:55.220941Z"
    },
    "papermill": {
     "duration": 0.033505,
     "end_time": "2021-04-04T23:25:55.221089",
     "exception": false,
     "start_time": "2021-04-04T23:25:55.187584",
     "status": "completed"
    },
    "tags": []
   },
   "outputs": [],
   "source": [
    "import json\n",
    "\n",
    "\n",
    "with open(DATASET_CONFIG_PATH) as f:\n",
    "    dataset_config = json.load(f)\n",
    "\n",
    "with open(MODEL_CONFIG_PATH) as f:\n",
    "    model_config = json.load(f)"
   ]
  },
  {
   "cell_type": "markdown",
   "id": "9a4b0e2d",
   "metadata": {
    "papermill": {
     "duration": 0.022658,
     "end_time": "2021-04-04T23:25:55.269895",
     "exception": false,
     "start_time": "2021-04-04T23:25:55.247237",
     "status": "completed"
    },
    "tags": []
   },
   "source": [
    "# Profiling"
   ]
  },
  {
   "cell_type": "code",
   "execution_count": 4,
   "id": "a3e0289b",
   "metadata": {
    "execution": {
     "iopub.execute_input": "2021-04-04T23:25:55.323256Z",
     "iopub.status.busy": "2021-04-04T23:25:55.321275Z",
     "iopub.status.idle": "2021-04-04T23:25:57.197022Z",
     "shell.execute_reply": "2021-04-04T23:25:57.195877Z"
    },
    "papermill": {
     "duration": 1.907581,
     "end_time": "2021-04-04T23:25:57.197350",
     "exception": false,
     "start_time": "2021-04-04T23:25:55.289769",
     "status": "completed"
    },
    "tags": []
   },
   "outputs": [],
   "source": [
    "import pandas as pd\n",
    "from pandas_profiling import ProfileReport"
   ]
  },
  {
   "cell_type": "code",
   "execution_count": 5,
   "id": "ee6c0666",
   "metadata": {
    "execution": {
     "iopub.execute_input": "2021-04-04T23:25:57.258973Z",
     "iopub.status.busy": "2021-04-04T23:25:57.257664Z",
     "iopub.status.idle": "2021-04-04T23:25:57.270945Z",
     "shell.execute_reply": "2021-04-04T23:25:57.269712Z"
    },
    "papermill": {
     "duration": 0.052709,
     "end_time": "2021-04-04T23:25:57.271284",
     "exception": false,
     "start_time": "2021-04-04T23:25:57.218575",
     "status": "completed"
    },
    "tags": []
   },
   "outputs": [],
   "source": [
    "df = pd.read_csv(dataset_config['dataset_path'])"
   ]
  },
  {
   "cell_type": "code",
   "execution_count": 6,
   "id": "7eca6c4a",
   "metadata": {
    "execution": {
     "iopub.execute_input": "2021-04-04T23:25:57.343662Z",
     "iopub.status.busy": "2021-04-04T23:25:57.341215Z",
     "iopub.status.idle": "2021-04-04T23:25:57.365322Z",
     "shell.execute_reply": "2021-04-04T23:25:57.364458Z"
    },
    "papermill": {
     "duration": 0.065365,
     "end_time": "2021-04-04T23:25:57.365575",
     "exception": false,
     "start_time": "2021-04-04T23:25:57.300210",
     "status": "completed"
    },
    "tags": []
   },
   "outputs": [
    {
     "name": "stdout",
     "output_type": "stream",
     "text": [
      "<class 'pandas.core.frame.DataFrame'>\n",
      "RangeIndex: 498 entries, 0 to 497\n",
      "Data columns (total 23 columns):\n",
      " #   Column             Non-Null Count  Dtype  \n",
      "---  ------             --------------  -----  \n",
      " 0   id                 498 non-null    int64  \n",
      " 1   loc                498 non-null    float64\n",
      " 2   v(g)               498 non-null    float64\n",
      " 3   ev(g)              498 non-null    float64\n",
      " 4   iv(g)              498 non-null    float64\n",
      " 5   n                  498 non-null    float64\n",
      " 6   v                  498 non-null    float64\n",
      " 7   l                  498 non-null    float64\n",
      " 8   d                  498 non-null    float64\n",
      " 9   i                  498 non-null    float64\n",
      " 10  e                  498 non-null    float64\n",
      " 11  b                  498 non-null    float64\n",
      " 12  t                  498 non-null    float64\n",
      " 13  lOCode             498 non-null    int64  \n",
      " 14  lOComment          498 non-null    int64  \n",
      " 15  lOBlank            498 non-null    int64  \n",
      " 16  locCodeAndComment  498 non-null    int64  \n",
      " 17  uniq_Op            498 non-null    float64\n",
      " 18  uniq_Opnd          498 non-null    float64\n",
      " 19  total_Op           498 non-null    float64\n",
      " 20  total_Opnd         498 non-null    float64\n",
      " 21  branchCount        498 non-null    float64\n",
      " 22  defects            498 non-null    bool   \n",
      "dtypes: bool(1), float64(17), int64(5)\n",
      "memory usage: 86.2 KB\n"
     ]
    }
   ],
   "source": [
    "df.info()"
   ]
  },
  {
   "cell_type": "code",
   "execution_count": 7,
   "id": "3638e5e8",
   "metadata": {
    "execution": {
     "iopub.execute_input": "2021-04-04T23:25:57.433357Z",
     "iopub.status.busy": "2021-04-04T23:25:57.432741Z",
     "iopub.status.idle": "2021-04-04T23:25:57.460457Z",
     "shell.execute_reply": "2021-04-04T23:25:57.461023Z"
    },
    "papermill": {
     "duration": 0.063307,
     "end_time": "2021-04-04T23:25:57.461192",
     "exception": false,
     "start_time": "2021-04-04T23:25:57.397885",
     "status": "completed"
    },
    "tags": []
   },
   "outputs": [
    {
     "data": {
      "text/html": [
       "<div>\n",
       "<style scoped>\n",
       "    .dataframe tbody tr th:only-of-type {\n",
       "        vertical-align: middle;\n",
       "    }\n",
       "\n",
       "    .dataframe tbody tr th {\n",
       "        vertical-align: top;\n",
       "    }\n",
       "\n",
       "    .dataframe thead th {\n",
       "        text-align: right;\n",
       "    }\n",
       "</style>\n",
       "<table border=\"1\" class=\"dataframe\">\n",
       "  <thead>\n",
       "    <tr style=\"text-align: right;\">\n",
       "      <th></th>\n",
       "      <th>id</th>\n",
       "      <th>loc</th>\n",
       "      <th>v(g)</th>\n",
       "      <th>ev(g)</th>\n",
       "      <th>iv(g)</th>\n",
       "      <th>n</th>\n",
       "      <th>v</th>\n",
       "      <th>l</th>\n",
       "      <th>d</th>\n",
       "      <th>i</th>\n",
       "      <th>...</th>\n",
       "      <th>lOCode</th>\n",
       "      <th>lOComment</th>\n",
       "      <th>lOBlank</th>\n",
       "      <th>locCodeAndComment</th>\n",
       "      <th>uniq_Op</th>\n",
       "      <th>uniq_Opnd</th>\n",
       "      <th>total_Op</th>\n",
       "      <th>total_Opnd</th>\n",
       "      <th>branchCount</th>\n",
       "      <th>defects</th>\n",
       "    </tr>\n",
       "  </thead>\n",
       "  <tbody>\n",
       "    <tr>\n",
       "      <th>0</th>\n",
       "      <td>1</td>\n",
       "      <td>1.1</td>\n",
       "      <td>1.4</td>\n",
       "      <td>1.4</td>\n",
       "      <td>1.4</td>\n",
       "      <td>1.3</td>\n",
       "      <td>1.30</td>\n",
       "      <td>1.30</td>\n",
       "      <td>1.30</td>\n",
       "      <td>1.30</td>\n",
       "      <td>...</td>\n",
       "      <td>2</td>\n",
       "      <td>2</td>\n",
       "      <td>2</td>\n",
       "      <td>2</td>\n",
       "      <td>1.2</td>\n",
       "      <td>1.2</td>\n",
       "      <td>1.2</td>\n",
       "      <td>1.2</td>\n",
       "      <td>1.4</td>\n",
       "      <td>False</td>\n",
       "    </tr>\n",
       "    <tr>\n",
       "      <th>1</th>\n",
       "      <td>2</td>\n",
       "      <td>1.0</td>\n",
       "      <td>1.0</td>\n",
       "      <td>1.0</td>\n",
       "      <td>1.0</td>\n",
       "      <td>1.0</td>\n",
       "      <td>1.00</td>\n",
       "      <td>1.00</td>\n",
       "      <td>1.00</td>\n",
       "      <td>1.00</td>\n",
       "      <td>...</td>\n",
       "      <td>1</td>\n",
       "      <td>1</td>\n",
       "      <td>1</td>\n",
       "      <td>1</td>\n",
       "      <td>1.0</td>\n",
       "      <td>1.0</td>\n",
       "      <td>1.0</td>\n",
       "      <td>1.0</td>\n",
       "      <td>1.0</td>\n",
       "      <td>True</td>\n",
       "    </tr>\n",
       "    <tr>\n",
       "      <th>2</th>\n",
       "      <td>3</td>\n",
       "      <td>24.0</td>\n",
       "      <td>5.0</td>\n",
       "      <td>1.0</td>\n",
       "      <td>3.0</td>\n",
       "      <td>63.0</td>\n",
       "      <td>309.13</td>\n",
       "      <td>0.11</td>\n",
       "      <td>9.50</td>\n",
       "      <td>32.54</td>\n",
       "      <td>...</td>\n",
       "      <td>1</td>\n",
       "      <td>0</td>\n",
       "      <td>6</td>\n",
       "      <td>0</td>\n",
       "      <td>15.0</td>\n",
       "      <td>15.0</td>\n",
       "      <td>44.0</td>\n",
       "      <td>19.0</td>\n",
       "      <td>9.0</td>\n",
       "      <td>False</td>\n",
       "    </tr>\n",
       "    <tr>\n",
       "      <th>3</th>\n",
       "      <td>4</td>\n",
       "      <td>20.0</td>\n",
       "      <td>4.0</td>\n",
       "      <td>4.0</td>\n",
       "      <td>2.0</td>\n",
       "      <td>47.0</td>\n",
       "      <td>215.49</td>\n",
       "      <td>0.06</td>\n",
       "      <td>16.00</td>\n",
       "      <td>13.47</td>\n",
       "      <td>...</td>\n",
       "      <td>0</td>\n",
       "      <td>0</td>\n",
       "      <td>3</td>\n",
       "      <td>0</td>\n",
       "      <td>16.0</td>\n",
       "      <td>8.0</td>\n",
       "      <td>31.0</td>\n",
       "      <td>16.0</td>\n",
       "      <td>7.0</td>\n",
       "      <td>False</td>\n",
       "    </tr>\n",
       "    <tr>\n",
       "      <th>4</th>\n",
       "      <td>5</td>\n",
       "      <td>24.0</td>\n",
       "      <td>6.0</td>\n",
       "      <td>6.0</td>\n",
       "      <td>2.0</td>\n",
       "      <td>72.0</td>\n",
       "      <td>346.13</td>\n",
       "      <td>0.06</td>\n",
       "      <td>17.33</td>\n",
       "      <td>19.97</td>\n",
       "      <td>...</td>\n",
       "      <td>0</td>\n",
       "      <td>0</td>\n",
       "      <td>3</td>\n",
       "      <td>0</td>\n",
       "      <td>16.0</td>\n",
       "      <td>12.0</td>\n",
       "      <td>46.0</td>\n",
       "      <td>26.0</td>\n",
       "      <td>11.0</td>\n",
       "      <td>False</td>\n",
       "    </tr>\n",
       "  </tbody>\n",
       "</table>\n",
       "<p>5 rows × 23 columns</p>\n",
       "</div>"
      ],
      "text/plain": [
       "   id   loc  v(g)  ev(g)  iv(g)     n       v     l      d      i  ...  \\\n",
       "0   1   1.1   1.4    1.4    1.4   1.3    1.30  1.30   1.30   1.30  ...   \n",
       "1   2   1.0   1.0    1.0    1.0   1.0    1.00  1.00   1.00   1.00  ...   \n",
       "2   3  24.0   5.0    1.0    3.0  63.0  309.13  0.11   9.50  32.54  ...   \n",
       "3   4  20.0   4.0    4.0    2.0  47.0  215.49  0.06  16.00  13.47  ...   \n",
       "4   5  24.0   6.0    6.0    2.0  72.0  346.13  0.06  17.33  19.97  ...   \n",
       "\n",
       "   lOCode  lOComment  lOBlank  locCodeAndComment  uniq_Op  uniq_Opnd  \\\n",
       "0       2          2        2                  2      1.2        1.2   \n",
       "1       1          1        1                  1      1.0        1.0   \n",
       "2       1          0        6                  0     15.0       15.0   \n",
       "3       0          0        3                  0     16.0        8.0   \n",
       "4       0          0        3                  0     16.0       12.0   \n",
       "\n",
       "   total_Op  total_Opnd  branchCount  defects  \n",
       "0       1.2         1.2          1.4    False  \n",
       "1       1.0         1.0          1.0     True  \n",
       "2      44.0        19.0          9.0    False  \n",
       "3      31.0        16.0          7.0    False  \n",
       "4      46.0        26.0         11.0    False  \n",
       "\n",
       "[5 rows x 23 columns]"
      ]
     },
     "execution_count": 7,
     "metadata": {},
     "output_type": "execute_result"
    }
   ],
   "source": [
    "df.head()"
   ]
  },
  {
   "cell_type": "code",
   "execution_count": 8,
   "id": "733e95eb",
   "metadata": {
    "execution": {
     "iopub.execute_input": "2021-04-04T23:25:57.515687Z",
     "iopub.status.busy": "2021-04-04T23:25:57.513665Z",
     "iopub.status.idle": "2021-04-04T23:25:57.517997Z",
     "shell.execute_reply": "2021-04-04T23:25:57.518493Z"
    },
    "papermill": {
     "duration": 0.034395,
     "end_time": "2021-04-04T23:25:57.518640",
     "exception": false,
     "start_time": "2021-04-04T23:25:57.484245",
     "status": "completed"
    },
    "tags": []
   },
   "outputs": [],
   "source": [
    "del df['id']"
   ]
  },
  {
   "cell_type": "code",
   "execution_count": 9,
   "id": "6ff6f5b0",
   "metadata": {
    "execution": {
     "iopub.execute_input": "2021-04-04T23:25:57.569911Z",
     "iopub.status.busy": "2021-04-04T23:25:57.569215Z",
     "iopub.status.idle": "2021-04-04T23:25:57.570931Z",
     "shell.execute_reply": "2021-04-04T23:25:57.571466Z"
    },
    "papermill": {
     "duration": 0.031087,
     "end_time": "2021-04-04T23:25:57.571609",
     "exception": false,
     "start_time": "2021-04-04T23:25:57.540522",
     "status": "completed"
    },
    "tags": []
   },
   "outputs": [],
   "source": [
    "if PROFILE_REPORTING:\n",
    "    ProfileReport(df).to_widgets()"
   ]
  },
  {
   "cell_type": "markdown",
   "id": "1deaf3f0",
   "metadata": {
    "papermill": {
     "duration": 0.026459,
     "end_time": "2021-04-04T23:25:57.621732",
     "exception": false,
     "start_time": "2021-04-04T23:25:57.595273",
     "status": "completed"
    },
    "tags": []
   },
   "source": [
    "# Preprocess"
   ]
  },
  {
   "cell_type": "code",
   "execution_count": 10,
   "id": "1513e563",
   "metadata": {
    "execution": {
     "iopub.execute_input": "2021-04-04T23:25:57.675300Z",
     "iopub.status.busy": "2021-04-04T23:25:57.674586Z",
     "iopub.status.idle": "2021-04-04T23:25:57.676260Z",
     "shell.execute_reply": "2021-04-04T23:25:57.676742Z"
    },
    "papermill": {
     "duration": 0.031866,
     "end_time": "2021-04-04T23:25:57.676887",
     "exception": false,
     "start_time": "2021-04-04T23:25:57.645021",
     "status": "completed"
    },
    "tags": []
   },
   "outputs": [],
   "source": [
    "working_df = df.copy()"
   ]
  },
  {
   "cell_type": "code",
   "execution_count": 11,
   "id": "3b26d675",
   "metadata": {
    "execution": {
     "iopub.execute_input": "2021-04-04T23:25:57.734895Z",
     "iopub.status.busy": "2021-04-04T23:25:57.733145Z",
     "iopub.status.idle": "2021-04-04T23:25:57.737301Z",
     "shell.execute_reply": "2021-04-04T23:25:57.738375Z"
    },
    "papermill": {
     "duration": 0.039687,
     "end_time": "2021-04-04T23:25:57.738758",
     "exception": false,
     "start_time": "2021-04-04T23:25:57.699071",
     "status": "completed"
    },
    "tags": []
   },
   "outputs": [],
   "source": [
    "working_df['defects'] = working_df['defects'].replace([False, True], [0, 1])"
   ]
  },
  {
   "cell_type": "code",
   "execution_count": 12,
   "id": "eb48604f",
   "metadata": {
    "execution": {
     "iopub.execute_input": "2021-04-04T23:25:57.798788Z",
     "iopub.status.busy": "2021-04-04T23:25:57.795326Z",
     "iopub.status.idle": "2021-04-04T23:25:57.801628Z",
     "shell.execute_reply": "2021-04-04T23:25:57.803646Z"
    },
    "papermill": {
     "duration": 0.039645,
     "end_time": "2021-04-04T23:25:57.803931",
     "exception": false,
     "start_time": "2021-04-04T23:25:57.764286",
     "status": "completed"
    },
    "tags": []
   },
   "outputs": [],
   "source": [
    "for col in dataset_config['delete_columns']:\n",
    "    del working_df[col]"
   ]
  },
  {
   "cell_type": "code",
   "execution_count": 13,
   "id": "9a17bc29",
   "metadata": {
    "execution": {
     "iopub.execute_input": "2021-04-04T23:25:57.870708Z",
     "iopub.status.busy": "2021-04-04T23:25:57.869895Z",
     "iopub.status.idle": "2021-04-04T23:25:57.879249Z",
     "shell.execute_reply": "2021-04-04T23:25:57.879764Z"
    },
    "papermill": {
     "duration": 0.047184,
     "end_time": "2021-04-04T23:25:57.879942",
     "exception": false,
     "start_time": "2021-04-04T23:25:57.832758",
     "status": "completed"
    },
    "tags": []
   },
   "outputs": [],
   "source": [
    "working_df = working_df.drop_duplicates()"
   ]
  },
  {
   "cell_type": "markdown",
   "id": "a4d52ca6",
   "metadata": {
    "papermill": {
     "duration": 0.029731,
     "end_time": "2021-04-04T23:25:57.934526",
     "exception": false,
     "start_time": "2021-04-04T23:25:57.904795",
     "status": "completed"
    },
    "tags": []
   },
   "source": [
    "# Split"
   ]
  },
  {
   "cell_type": "code",
   "execution_count": 14,
   "id": "3e9ee4b5",
   "metadata": {
    "execution": {
     "iopub.execute_input": "2021-04-04T23:25:58.040466Z",
     "iopub.status.busy": "2021-04-04T23:25:58.036403Z",
     "iopub.status.idle": "2021-04-04T23:25:58.109258Z",
     "shell.execute_reply": "2021-04-04T23:25:58.108502Z"
    },
    "papermill": {
     "duration": 0.133185,
     "end_time": "2021-04-04T23:25:58.109415",
     "exception": false,
     "start_time": "2021-04-04T23:25:57.976230",
     "status": "completed"
    },
    "tags": []
   },
   "outputs": [],
   "source": [
    "from sklearn.model_selection import train_test_split"
   ]
  },
  {
   "cell_type": "code",
   "execution_count": 15,
   "id": "274004ce",
   "metadata": {
    "execution": {
     "iopub.execute_input": "2021-04-04T23:25:58.186159Z",
     "iopub.status.busy": "2021-04-04T23:25:58.183693Z",
     "iopub.status.idle": "2021-04-04T23:25:58.193063Z",
     "shell.execute_reply": "2021-04-04T23:25:58.193844Z"
    },
    "papermill": {
     "duration": 0.053011,
     "end_time": "2021-04-04T23:25:58.194015",
     "exception": false,
     "start_time": "2021-04-04T23:25:58.141004",
     "status": "completed"
    },
    "scrolled": true,
    "tags": []
   },
   "outputs": [],
   "source": [
    "inlier, outlier = working_df[working_df['defects'] == 0], working_df[working_df['defects'] == 1]"
   ]
  },
  {
   "cell_type": "code",
   "execution_count": 16,
   "id": "753c7b03",
   "metadata": {
    "execution": {
     "iopub.execute_input": "2021-04-04T23:25:58.278793Z",
     "iopub.status.busy": "2021-04-04T23:25:58.274334Z",
     "iopub.status.idle": "2021-04-04T23:25:58.287908Z",
     "shell.execute_reply": "2021-04-04T23:25:58.290127Z"
    },
    "papermill": {
     "duration": 0.059586,
     "end_time": "2021-04-04T23:25:58.290571",
     "exception": false,
     "start_time": "2021-04-04T23:25:58.230985",
     "status": "completed"
    },
    "tags": []
   },
   "outputs": [],
   "source": [
    "X_inlier = inlier.copy()\n",
    "y_inlier = X_inlier.pop('defects')\n",
    "X_outlier = outlier.copy()\n",
    "y_outlier = X_outlier.pop('defects')"
   ]
  },
  {
   "cell_type": "code",
   "execution_count": 17,
   "id": "2ba43193",
   "metadata": {
    "execution": {
     "iopub.execute_input": "2021-04-04T23:25:58.450002Z",
     "iopub.status.busy": "2021-04-04T23:25:58.449195Z",
     "iopub.status.idle": "2021-04-04T23:25:58.452008Z",
     "shell.execute_reply": "2021-04-04T23:25:58.452690Z"
    },
    "papermill": {
     "duration": 0.098939,
     "end_time": "2021-04-04T23:25:58.453037",
     "exception": false,
     "start_time": "2021-04-04T23:25:58.354098",
     "status": "completed"
    },
    "tags": []
   },
   "outputs": [],
   "source": [
    "test_size = dataset_config['test_size']\n",
    "random_state = dataset_config['random_state']\n",
    "\n",
    "X_inlier_train, X_inlier_test, y_inlier_train, y_inlier_test = train_test_split(\n",
    "    X_inlier,\n",
    "    y_inlier,\n",
    "    test_size=test_size,\n",
    "    random_state=random_state\n",
    ")"
   ]
  },
  {
   "cell_type": "code",
   "execution_count": 18,
   "id": "0b7582ca",
   "metadata": {
    "execution": {
     "iopub.execute_input": "2021-04-04T23:25:58.526319Z",
     "iopub.status.busy": "2021-04-04T23:25:58.522734Z",
     "iopub.status.idle": "2021-04-04T23:25:58.530897Z",
     "shell.execute_reply": "2021-04-04T23:25:58.531508Z"
    },
    "papermill": {
     "duration": 0.046923,
     "end_time": "2021-04-04T23:25:58.531694",
     "exception": false,
     "start_time": "2021-04-04T23:25:58.484771",
     "status": "completed"
    },
    "tags": []
   },
   "outputs": [],
   "source": [
    "test_outlier_size = dataset_config['test_outlier_size']\n",
    "if test_outlier_size > 0.0:\n",
    "    X_outlier_train, X_outlier_test, y_outlier_train, y_outlier_test = train_test_split(\n",
    "        X_outlier,\n",
    "        y_outlier,\n",
    "        test_size=test_outlier_size,\n",
    "        random_state=random_state\n",
    "    )\n",
    "else:\n",
    "    X_outlier_train, y_outlier_train = pd.DataFrame(columns=X_outlier.columns), pd.Series(dtype='int64')\n",
    "    X_outlier_test, y_outlier_test = X_outlier.copy(), y_outlier.copy()"
   ]
  },
  {
   "cell_type": "code",
   "execution_count": 19,
   "id": "c34363db",
   "metadata": {
    "execution": {
     "iopub.execute_input": "2021-04-04T23:25:58.603577Z",
     "iopub.status.busy": "2021-04-04T23:25:58.602796Z",
     "iopub.status.idle": "2021-04-04T23:25:58.608300Z",
     "shell.execute_reply": "2021-04-04T23:25:58.609324Z"
    },
    "papermill": {
     "duration": 0.048337,
     "end_time": "2021-04-04T23:25:58.609753",
     "exception": false,
     "start_time": "2021-04-04T23:25:58.561416",
     "status": "completed"
    },
    "tags": []
   },
   "outputs": [],
   "source": [
    "X_train, y_train = pd.concat([X_inlier_train, X_outlier_train], ignore_index=True), pd.concat([y_inlier_train, y_outlier_train], ignore_index=True)\n",
    "X_test, y_test = pd.concat([X_inlier_test, X_outlier_test], ignore_index=True), pd.concat([y_inlier_test, y_outlier_test], ignore_index=True)"
   ]
  },
  {
   "cell_type": "markdown",
   "id": "7cde7309",
   "metadata": {
    "papermill": {
     "duration": 0.035428,
     "end_time": "2021-04-04T23:25:58.677967",
     "exception": false,
     "start_time": "2021-04-04T23:25:58.642539",
     "status": "completed"
    },
    "tags": []
   },
   "source": [
    "# Model"
   ]
  },
  {
   "cell_type": "code",
   "execution_count": 20,
   "id": "2b12a415",
   "metadata": {
    "execution": {
     "iopub.execute_input": "2021-04-04T23:25:58.767704Z",
     "iopub.status.busy": "2021-04-04T23:25:58.766668Z",
     "iopub.status.idle": "2021-04-04T23:25:58.771885Z",
     "shell.execute_reply": "2021-04-04T23:25:58.770377Z"
    },
    "papermill": {
     "duration": 0.062781,
     "end_time": "2021-04-04T23:25:58.772144",
     "exception": false,
     "start_time": "2021-04-04T23:25:58.709363",
     "status": "completed"
    },
    "tags": []
   },
   "outputs": [],
   "source": [
    "from math import sqrt\n",
    "\n",
    "\n",
    "class KNNDataDescription:\n",
    "    def __init__(self, k=5, outlier_threshold=1.0):\n",
    "        self.k = k\n",
    "        self.outlier_threshold = outlier_threshold\n",
    "        self.X = []\n",
    "    \n",
    "    def fit(self, X):\n",
    "        self.X = [features.to_list() for index, features in X.iterrows()]\n",
    "\n",
    "    def predict(self, entries):\n",
    "        return [self.predict_entry(features.to_list()) for index, features in entries.iterrows()]\n",
    "    \n",
    "    def predict_entry(self, entry):\n",
    "        kth_neighbor, kth_distance = self.get_kth_neighbor(entry, self.k)\n",
    "        kth_kth_neighbor, kth_kth_distance = self.get_kth_neighbor(kth_neighbor, self.k + 1)\n",
    "\n",
    "        outlier_score = kth_distance / (kth_kth_distance + 0.000001)\n",
    "\n",
    "        return 1 if outlier_score < self.outlier_threshold else -1\n",
    "        \n",
    "    def euclidean_distance(self, features1, features2):\n",
    "        distance = 0.0\n",
    "        for feat1, feat2 in zip(features1, features2):\n",
    "            distance += (feat1 - feat2)**2\n",
    "                \n",
    "        return sqrt(distance)\n",
    "\n",
    "    def get_neighbors(self, entry, k):\n",
    "        distance_to_data_points = [\n",
    "            (data_point, self.euclidean_distance(entry, data_point))\n",
    "            for data_point in self.X\n",
    "        ]\n",
    "        sorted_by_distance = sorted(distance_to_data_points, key=lambda tup: tup[1])\n",
    "        neighbors = sorted_by_distance[:k]\n",
    "        return neighbors\n",
    "\n",
    "    def get_kth_neighbor(self, entry, k):\n",
    "        neighbors = self.get_neighbors(entry, k)\n",
    "        return neighbors[-1]\n"
   ]
  },
  {
   "cell_type": "code",
   "execution_count": 21,
   "id": "1fa9ec1c",
   "metadata": {
    "execution": {
     "iopub.execute_input": "2021-04-04T23:25:58.841473Z",
     "iopub.status.busy": "2021-04-04T23:25:58.840439Z",
     "iopub.status.idle": "2021-04-04T23:25:58.877936Z",
     "shell.execute_reply": "2021-04-04T23:25:58.876162Z"
    },
    "papermill": {
     "duration": 0.075039,
     "end_time": "2021-04-04T23:25:58.878247",
     "exception": false,
     "start_time": "2021-04-04T23:25:58.803208",
     "status": "completed"
    },
    "tags": []
   },
   "outputs": [],
   "source": [
    "from sklearn.svm import OneClassSVM\n",
    "\n",
    "\n",
    "models = {\n",
    "    'oneclasssvm': OneClassSVM,\n",
    "    'knndatadescription': KNNDataDescription,\n",
    "}"
   ]
  },
  {
   "cell_type": "code",
   "execution_count": 22,
   "id": "4d72a0b1",
   "metadata": {
    "execution": {
     "iopub.execute_input": "2021-04-04T23:25:58.945768Z",
     "iopub.status.busy": "2021-04-04T23:25:58.945029Z",
     "iopub.status.idle": "2021-04-04T23:25:58.948257Z",
     "shell.execute_reply": "2021-04-04T23:25:58.947339Z"
    },
    "papermill": {
     "duration": 0.040757,
     "end_time": "2021-04-04T23:25:58.948594",
     "exception": false,
     "start_time": "2021-04-04T23:25:58.907837",
     "status": "completed"
    },
    "scrolled": true,
    "tags": []
   },
   "outputs": [],
   "source": [
    "model_cls = models[model_config['model_type']]\n",
    "model = model_cls(**model_config['hyperparameters'])"
   ]
  },
  {
   "cell_type": "markdown",
   "id": "e00cff3b",
   "metadata": {
    "papermill": {
     "duration": 0.030294,
     "end_time": "2021-04-04T23:25:59.013713",
     "exception": false,
     "start_time": "2021-04-04T23:25:58.983419",
     "status": "completed"
    },
    "tags": []
   },
   "source": [
    "# Fit"
   ]
  },
  {
   "cell_type": "code",
   "execution_count": 23,
   "id": "8b2ded89",
   "metadata": {
    "execution": {
     "iopub.execute_input": "2021-04-04T23:25:59.083172Z",
     "iopub.status.busy": "2021-04-04T23:25:59.080803Z",
     "iopub.status.idle": "2021-04-04T23:25:59.113076Z",
     "shell.execute_reply": "2021-04-04T23:25:59.113700Z"
    },
    "papermill": {
     "duration": 0.069065,
     "end_time": "2021-04-04T23:25:59.113964",
     "exception": false,
     "start_time": "2021-04-04T23:25:59.044899",
     "status": "completed"
    },
    "tags": []
   },
   "outputs": [],
   "source": [
    "model.fit(X_train)"
   ]
  },
  {
   "cell_type": "markdown",
   "id": "f99999f7",
   "metadata": {
    "papermill": {
     "duration": 0.039318,
     "end_time": "2021-04-04T23:25:59.186856",
     "exception": false,
     "start_time": "2021-04-04T23:25:59.147538",
     "status": "completed"
    },
    "tags": []
   },
   "source": [
    "# Predict"
   ]
  },
  {
   "cell_type": "code",
   "execution_count": 24,
   "id": "6536fbf7",
   "metadata": {
    "execution": {
     "iopub.execute_input": "2021-04-04T23:25:59.345342Z",
     "iopub.status.busy": "2021-04-04T23:25:59.342456Z",
     "iopub.status.idle": "2021-04-04T23:25:59.988848Z",
     "shell.execute_reply": "2021-04-04T23:25:59.987744Z"
    },
    "papermill": {
     "duration": 0.738798,
     "end_time": "2021-04-04T23:25:59.989128",
     "exception": false,
     "start_time": "2021-04-04T23:25:59.250330",
     "status": "completed"
    },
    "tags": []
   },
   "outputs": [],
   "source": [
    "predictions = model.predict(X_test)"
   ]
  },
  {
   "cell_type": "markdown",
   "id": "aa1c9881",
   "metadata": {
    "papermill": {
     "duration": 0.047396,
     "end_time": "2021-04-04T23:26:00.078848",
     "exception": false,
     "start_time": "2021-04-04T23:26:00.031452",
     "status": "completed"
    },
    "tags": []
   },
   "source": [
    "# Evaluate"
   ]
  },
  {
   "cell_type": "code",
   "execution_count": 25,
   "id": "894f0f04",
   "metadata": {
    "execution": {
     "iopub.execute_input": "2021-04-04T23:26:00.181059Z",
     "iopub.status.busy": "2021-04-04T23:26:00.178490Z",
     "iopub.status.idle": "2021-04-04T23:26:00.183814Z",
     "shell.execute_reply": "2021-04-04T23:26:00.184839Z"
    },
    "papermill": {
     "duration": 0.056301,
     "end_time": "2021-04-04T23:26:00.185102",
     "exception": false,
     "start_time": "2021-04-04T23:26:00.128801",
     "status": "completed"
    },
    "tags": []
   },
   "outputs": [],
   "source": [
    "from sklearn.metrics import f1_score"
   ]
  },
  {
   "cell_type": "code",
   "execution_count": 26,
   "id": "211744d3",
   "metadata": {
    "execution": {
     "iopub.execute_input": "2021-04-04T23:26:00.269652Z",
     "iopub.status.busy": "2021-04-04T23:26:00.266980Z",
     "iopub.status.idle": "2021-04-04T23:26:00.273790Z",
     "shell.execute_reply": "2021-04-04T23:26:00.275513Z"
    },
    "papermill": {
     "duration": 0.053895,
     "end_time": "2021-04-04T23:26:00.276015",
     "exception": false,
     "start_time": "2021-04-04T23:26:00.222120",
     "status": "completed"
    },
    "tags": []
   },
   "outputs": [],
   "source": [
    "y_test = y_test.replace([0, 1], [1, -1])"
   ]
  },
  {
   "cell_type": "code",
   "execution_count": 27,
   "id": "d68a9204",
   "metadata": {
    "execution": {
     "iopub.execute_input": "2021-04-04T23:26:00.471487Z",
     "iopub.status.busy": "2021-04-04T23:26:00.468000Z",
     "iopub.status.idle": "2021-04-04T23:26:00.477220Z",
     "shell.execute_reply": "2021-04-04T23:26:00.479198Z"
    },
    "papermill": {
     "duration": 0.064181,
     "end_time": "2021-04-04T23:26:00.481653",
     "exception": false,
     "start_time": "2021-04-04T23:26:00.417472",
     "status": "completed"
    },
    "tags": []
   },
   "outputs": [],
   "source": [
    "def evaluate(truths, predictions, pos_label, neg_label):\n",
    "    TP = 0\n",
    "    FP = 0\n",
    "    TN = 0\n",
    "    FN = 0\n",
    "\n",
    "    for truth, pred in zip(truths, predictions): \n",
    "        if truth == pred == pos_label:\n",
    "           TP += 1\n",
    "        elif pred == pos_label and truth == neg_label:\n",
    "           FP += 1\n",
    "        elif truth == pred == neg_label:\n",
    "           TN += 1\n",
    "        elif pred == neg_label and truth == pos_label:\n",
    "           FN += 1\n",
    "\n",
    "    precision = TP / (TP + FP)\n",
    "    sensitivity = TP / (TP + FN)\n",
    "    \n",
    "    return {\n",
    "        'true_pos': TP,\n",
    "        'false_pos': FP,\n",
    "        'false_neg': FN,\n",
    "        'true_neg': TN,\n",
    "        'precision': precision,\n",
    "        'sensitivity': sensitivity,\n",
    "        'f1': (2 * (precision * sensitivity)) / (precision + sensitivity)\n",
    "    }\n",
    "\n",
    "score = evaluate(y_test, predictions, pos_label=-1, neg_label=1)"
   ]
  },
  {
   "cell_type": "markdown",
   "id": "93596516",
   "metadata": {
    "papermill": {
     "duration": 0.048645,
     "end_time": "2021-04-04T23:26:00.601484",
     "exception": false,
     "start_time": "2021-04-04T23:26:00.552839",
     "status": "completed"
    },
    "tags": []
   },
   "source": [
    "# Report"
   ]
  },
  {
   "cell_type": "code",
   "execution_count": 28,
   "id": "bea5fba1",
   "metadata": {
    "execution": {
     "iopub.execute_input": "2021-04-04T23:26:00.775176Z",
     "iopub.status.busy": "2021-04-04T23:26:00.772595Z",
     "iopub.status.idle": "2021-04-04T23:26:00.777293Z",
     "shell.execute_reply": "2021-04-04T23:26:00.778927Z"
    },
    "papermill": {
     "duration": 0.107706,
     "end_time": "2021-04-04T23:26:00.779309",
     "exception": false,
     "start_time": "2021-04-04T23:26:00.671603",
     "status": "completed"
    },
    "tags": []
   },
   "outputs": [],
   "source": [
    "import csv\n",
    "\n",
    "\n",
    "dataset_config_name = DATASET_CONFIG_PATH.split('/')[-1].split('.')[0]\n",
    "model_config_name = MODEL_CONFIG_PATH.split('/')[-1].split('.')[0]\n",
    "configuration = f\"dataset_{dataset_config_name}-model_{model_config_name}\"\n",
    "\n",
    "with open('results.csv', 'a') as f:\n",
    "    report = dict({'configuration': configuration}, **score)\n",
    "    writer = csv.DictWriter(f, report.keys())\n",
    "    writer.writerow(report)"
   ]
  }
 ],
 "metadata": {
  "celltoolbar": "Tags",
  "kernelspec": {
   "display_name": "Python 3",
   "language": "python",
   "name": "python3"
  },
  "language_info": {
   "codemirror_mode": {
    "name": "ipython",
    "version": 3
   },
   "file_extension": ".py",
   "mimetype": "text/x-python",
   "name": "python",
   "nbconvert_exporter": "python",
   "pygments_lexer": "ipython3",
   "version": "3.9.1"
  },
  "papermill": {
   "default_parameters": {},
   "duration": 8.052401,
   "end_time": "2021-04-04T23:26:02.067263",
   "environment_variables": {},
   "exception": null,
   "input_path": "main.ipynb",
   "output_path": "runs/dataset_000132-model_000003.ipynb",
   "parameters": {
    "DATASET_CONFIG_PATH": "config/dataset/000132.json",
    "MODEL_CONFIG_PATH": "config/model/000003.json",
    "PROFILE_REPORTING": false
   },
   "start_time": "2021-04-04T23:25:54.014862",
   "version": "2.3.3"
  }
 },
 "nbformat": 4,
 "nbformat_minor": 5
}