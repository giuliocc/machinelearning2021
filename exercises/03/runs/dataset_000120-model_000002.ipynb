{
 "cells": [
  {
   "cell_type": "markdown",
   "id": "51c71c25",
   "metadata": {
    "papermill": {
     "duration": 0.022086,
     "end_time": "2021-04-04T23:20:33.027341",
     "exception": false,
     "start_time": "2021-04-04T23:20:33.005255",
     "status": "completed"
    },
    "tags": []
   },
   "source": [
    "# Parametrizing"
   ]
  },
  {
   "cell_type": "code",
   "execution_count": 1,
   "id": "3b136394",
   "metadata": {
    "execution": {
     "iopub.execute_input": "2021-04-04T23:20:33.089242Z",
     "iopub.status.busy": "2021-04-04T23:20:33.088128Z",
     "iopub.status.idle": "2021-04-04T23:20:33.092361Z",
     "shell.execute_reply": "2021-04-04T23:20:33.090331Z"
    },
    "papermill": {
     "duration": 0.043857,
     "end_time": "2021-04-04T23:20:33.092843",
     "exception": false,
     "start_time": "2021-04-04T23:20:33.048986",
     "status": "completed"
    },
    "tags": [
     "parameters"
    ]
   },
   "outputs": [],
   "source": [
    "DATASET_CONFIG_PATH = 'config/dataset/kc1_001.json'\n",
    "MODEL_CONFIG_PATH = 'config/model/knndd_001.json'\n",
    "PROFILE_REPORTING = False"
   ]
  },
  {
   "cell_type": "code",
   "execution_count": 2,
   "id": "28e30f41",
   "metadata": {
    "execution": {
     "iopub.execute_input": "2021-04-04T23:20:33.148760Z",
     "iopub.status.busy": "2021-04-04T23:20:33.147592Z",
     "iopub.status.idle": "2021-04-04T23:20:33.150533Z",
     "shell.execute_reply": "2021-04-04T23:20:33.149913Z"
    },
    "papermill": {
     "duration": 0.032251,
     "end_time": "2021-04-04T23:20:33.150732",
     "exception": false,
     "start_time": "2021-04-04T23:20:33.118481",
     "status": "completed"
    },
    "tags": [
     "injected-parameters"
    ]
   },
   "outputs": [],
   "source": [
    "# Parameters\n",
    "DATASET_CONFIG_PATH = \"config/dataset/000120.json\"\n",
    "MODEL_CONFIG_PATH = \"config/model/000002.json\"\n",
    "PROFILE_REPORTING = False\n"
   ]
  },
  {
   "cell_type": "code",
   "execution_count": 3,
   "id": "b80f2a10",
   "metadata": {
    "execution": {
     "iopub.execute_input": "2021-04-04T23:20:33.204331Z",
     "iopub.status.busy": "2021-04-04T23:20:33.203199Z",
     "iopub.status.idle": "2021-04-04T23:20:33.206167Z",
     "shell.execute_reply": "2021-04-04T23:20:33.207458Z"
    },
    "papermill": {
     "duration": 0.035592,
     "end_time": "2021-04-04T23:20:33.207813",
     "exception": false,
     "start_time": "2021-04-04T23:20:33.172221",
     "status": "completed"
    },
    "tags": []
   },
   "outputs": [],
   "source": [
    "import json\n",
    "\n",
    "\n",
    "with open(DATASET_CONFIG_PATH) as f:\n",
    "    dataset_config = json.load(f)\n",
    "\n",
    "with open(MODEL_CONFIG_PATH) as f:\n",
    "    model_config = json.load(f)"
   ]
  },
  {
   "cell_type": "markdown",
   "id": "9a4b0e2d",
   "metadata": {
    "papermill": {
     "duration": 0.024627,
     "end_time": "2021-04-04T23:20:33.252876",
     "exception": false,
     "start_time": "2021-04-04T23:20:33.228249",
     "status": "completed"
    },
    "tags": []
   },
   "source": [
    "# Profiling"
   ]
  },
  {
   "cell_type": "code",
   "execution_count": 4,
   "id": "a3e0289b",
   "metadata": {
    "execution": {
     "iopub.execute_input": "2021-04-04T23:20:33.305022Z",
     "iopub.status.busy": "2021-04-04T23:20:33.304421Z",
     "iopub.status.idle": "2021-04-04T23:20:34.875210Z",
     "shell.execute_reply": "2021-04-04T23:20:34.875703Z"
    },
    "papermill": {
     "duration": 1.603173,
     "end_time": "2021-04-04T23:20:34.875853",
     "exception": false,
     "start_time": "2021-04-04T23:20:33.272680",
     "status": "completed"
    },
    "tags": []
   },
   "outputs": [],
   "source": [
    "import pandas as pd\n",
    "from pandas_profiling import ProfileReport"
   ]
  },
  {
   "cell_type": "code",
   "execution_count": 5,
   "id": "ee6c0666",
   "metadata": {
    "execution": {
     "iopub.execute_input": "2021-04-04T23:20:34.925719Z",
     "iopub.status.busy": "2021-04-04T23:20:34.925114Z",
     "iopub.status.idle": "2021-04-04T23:20:34.934315Z",
     "shell.execute_reply": "2021-04-04T23:20:34.933398Z"
    },
    "papermill": {
     "duration": 0.034188,
     "end_time": "2021-04-04T23:20:34.934476",
     "exception": false,
     "start_time": "2021-04-04T23:20:34.900288",
     "status": "completed"
    },
    "tags": []
   },
   "outputs": [],
   "source": [
    "df = pd.read_csv(dataset_config['dataset_path'])"
   ]
  },
  {
   "cell_type": "code",
   "execution_count": 6,
   "id": "7eca6c4a",
   "metadata": {
    "execution": {
     "iopub.execute_input": "2021-04-04T23:20:34.997747Z",
     "iopub.status.busy": "2021-04-04T23:20:34.989207Z",
     "iopub.status.idle": "2021-04-04T23:20:35.002277Z",
     "shell.execute_reply": "2021-04-04T23:20:35.001696Z"
    },
    "papermill": {
     "duration": 0.044058,
     "end_time": "2021-04-04T23:20:35.002395",
     "exception": false,
     "start_time": "2021-04-04T23:20:34.958337",
     "status": "completed"
    },
    "tags": []
   },
   "outputs": [
    {
     "name": "stdout",
     "output_type": "stream",
     "text": [
      "<class 'pandas.core.frame.DataFrame'>\n",
      "RangeIndex: 498 entries, 0 to 497\n",
      "Data columns (total 23 columns):\n",
      " #   Column             Non-Null Count  Dtype  \n",
      "---  ------             --------------  -----  \n",
      " 0   id                 498 non-null    int64  \n",
      " 1   loc                498 non-null    float64\n",
      " 2   v(g)               498 non-null    float64\n",
      " 3   ev(g)              498 non-null    float64\n",
      " 4   iv(g)              498 non-null    float64\n",
      " 5   n                  498 non-null    float64\n",
      " 6   v                  498 non-null    float64\n",
      " 7   l                  498 non-null    float64\n",
      " 8   d                  498 non-null    float64\n",
      " 9   i                  498 non-null    float64\n",
      " 10  e                  498 non-null    float64\n",
      " 11  b                  498 non-null    float64\n",
      " 12  t                  498 non-null    float64\n",
      " 13  lOCode             498 non-null    int64  \n",
      " 14  lOComment          498 non-null    int64  \n",
      " 15  lOBlank            498 non-null    int64  \n",
      " 16  locCodeAndComment  498 non-null    int64  \n",
      " 17  uniq_Op            498 non-null    float64\n",
      " 18  uniq_Opnd          498 non-null    float64\n",
      " 19  total_Op           498 non-null    float64\n",
      " 20  total_Opnd         498 non-null    float64\n",
      " 21  branchCount        498 non-null    float64\n",
      " 22  defects            498 non-null    bool   \n",
      "dtypes: bool(1), float64(17), int64(5)\n",
      "memory usage: 86.2 KB\n"
     ]
    }
   ],
   "source": [
    "df.info()"
   ]
  },
  {
   "cell_type": "code",
   "execution_count": 7,
   "id": "3638e5e8",
   "metadata": {
    "execution": {
     "iopub.execute_input": "2021-04-04T23:20:35.053352Z",
     "iopub.status.busy": "2021-04-04T23:20:35.052747Z",
     "iopub.status.idle": "2021-04-04T23:20:35.082385Z",
     "shell.execute_reply": "2021-04-04T23:20:35.082871Z"
    },
    "papermill": {
     "duration": 0.057471,
     "end_time": "2021-04-04T23:20:35.083020",
     "exception": false,
     "start_time": "2021-04-04T23:20:35.025549",
     "status": "completed"
    },
    "tags": []
   },
   "outputs": [
    {
     "data": {
      "text/html": [
       "<div>\n",
       "<style scoped>\n",
       "    .dataframe tbody tr th:only-of-type {\n",
       "        vertical-align: middle;\n",
       "    }\n",
       "\n",
       "    .dataframe tbody tr th {\n",
       "        vertical-align: top;\n",
       "    }\n",
       "\n",
       "    .dataframe thead th {\n",
       "        text-align: right;\n",
       "    }\n",
       "</style>\n",
       "<table border=\"1\" class=\"dataframe\">\n",
       "  <thead>\n",
       "    <tr style=\"text-align: right;\">\n",
       "      <th></th>\n",
       "      <th>id</th>\n",
       "      <th>loc</th>\n",
       "      <th>v(g)</th>\n",
       "      <th>ev(g)</th>\n",
       "      <th>iv(g)</th>\n",
       "      <th>n</th>\n",
       "      <th>v</th>\n",
       "      <th>l</th>\n",
       "      <th>d</th>\n",
       "      <th>i</th>\n",
       "      <th>...</th>\n",
       "      <th>lOCode</th>\n",
       "      <th>lOComment</th>\n",
       "      <th>lOBlank</th>\n",
       "      <th>locCodeAndComment</th>\n",
       "      <th>uniq_Op</th>\n",
       "      <th>uniq_Opnd</th>\n",
       "      <th>total_Op</th>\n",
       "      <th>total_Opnd</th>\n",
       "      <th>branchCount</th>\n",
       "      <th>defects</th>\n",
       "    </tr>\n",
       "  </thead>\n",
       "  <tbody>\n",
       "    <tr>\n",
       "      <th>0</th>\n",
       "      <td>1</td>\n",
       "      <td>1.1</td>\n",
       "      <td>1.4</td>\n",
       "      <td>1.4</td>\n",
       "      <td>1.4</td>\n",
       "      <td>1.3</td>\n",
       "      <td>1.30</td>\n",
       "      <td>1.30</td>\n",
       "      <td>1.30</td>\n",
       "      <td>1.30</td>\n",
       "      <td>...</td>\n",
       "      <td>2</td>\n",
       "      <td>2</td>\n",
       "      <td>2</td>\n",
       "      <td>2</td>\n",
       "      <td>1.2</td>\n",
       "      <td>1.2</td>\n",
       "      <td>1.2</td>\n",
       "      <td>1.2</td>\n",
       "      <td>1.4</td>\n",
       "      <td>False</td>\n",
       "    </tr>\n",
       "    <tr>\n",
       "      <th>1</th>\n",
       "      <td>2</td>\n",
       "      <td>1.0</td>\n",
       "      <td>1.0</td>\n",
       "      <td>1.0</td>\n",
       "      <td>1.0</td>\n",
       "      <td>1.0</td>\n",
       "      <td>1.00</td>\n",
       "      <td>1.00</td>\n",
       "      <td>1.00</td>\n",
       "      <td>1.00</td>\n",
       "      <td>...</td>\n",
       "      <td>1</td>\n",
       "      <td>1</td>\n",
       "      <td>1</td>\n",
       "      <td>1</td>\n",
       "      <td>1.0</td>\n",
       "      <td>1.0</td>\n",
       "      <td>1.0</td>\n",
       "      <td>1.0</td>\n",
       "      <td>1.0</td>\n",
       "      <td>True</td>\n",
       "    </tr>\n",
       "    <tr>\n",
       "      <th>2</th>\n",
       "      <td>3</td>\n",
       "      <td>24.0</td>\n",
       "      <td>5.0</td>\n",
       "      <td>1.0</td>\n",
       "      <td>3.0</td>\n",
       "      <td>63.0</td>\n",
       "      <td>309.13</td>\n",
       "      <td>0.11</td>\n",
       "      <td>9.50</td>\n",
       "      <td>32.54</td>\n",
       "      <td>...</td>\n",
       "      <td>1</td>\n",
       "      <td>0</td>\n",
       "      <td>6</td>\n",
       "      <td>0</td>\n",
       "      <td>15.0</td>\n",
       "      <td>15.0</td>\n",
       "      <td>44.0</td>\n",
       "      <td>19.0</td>\n",
       "      <td>9.0</td>\n",
       "      <td>False</td>\n",
       "    </tr>\n",
       "    <tr>\n",
       "      <th>3</th>\n",
       "      <td>4</td>\n",
       "      <td>20.0</td>\n",
       "      <td>4.0</td>\n",
       "      <td>4.0</td>\n",
       "      <td>2.0</td>\n",
       "      <td>47.0</td>\n",
       "      <td>215.49</td>\n",
       "      <td>0.06</td>\n",
       "      <td>16.00</td>\n",
       "      <td>13.47</td>\n",
       "      <td>...</td>\n",
       "      <td>0</td>\n",
       "      <td>0</td>\n",
       "      <td>3</td>\n",
       "      <td>0</td>\n",
       "      <td>16.0</td>\n",
       "      <td>8.0</td>\n",
       "      <td>31.0</td>\n",
       "      <td>16.0</td>\n",
       "      <td>7.0</td>\n",
       "      <td>False</td>\n",
       "    </tr>\n",
       "    <tr>\n",
       "      <th>4</th>\n",
       "      <td>5</td>\n",
       "      <td>24.0</td>\n",
       "      <td>6.0</td>\n",
       "      <td>6.0</td>\n",
       "      <td>2.0</td>\n",
       "      <td>72.0</td>\n",
       "      <td>346.13</td>\n",
       "      <td>0.06</td>\n",
       "      <td>17.33</td>\n",
       "      <td>19.97</td>\n",
       "      <td>...</td>\n",
       "      <td>0</td>\n",
       "      <td>0</td>\n",
       "      <td>3</td>\n",
       "      <td>0</td>\n",
       "      <td>16.0</td>\n",
       "      <td>12.0</td>\n",
       "      <td>46.0</td>\n",
       "      <td>26.0</td>\n",
       "      <td>11.0</td>\n",
       "      <td>False</td>\n",
       "    </tr>\n",
       "  </tbody>\n",
       "</table>\n",
       "<p>5 rows × 23 columns</p>\n",
       "</div>"
      ],
      "text/plain": [
       "   id   loc  v(g)  ev(g)  iv(g)     n       v     l      d      i  ...  \\\n",
       "0   1   1.1   1.4    1.4    1.4   1.3    1.30  1.30   1.30   1.30  ...   \n",
       "1   2   1.0   1.0    1.0    1.0   1.0    1.00  1.00   1.00   1.00  ...   \n",
       "2   3  24.0   5.0    1.0    3.0  63.0  309.13  0.11   9.50  32.54  ...   \n",
       "3   4  20.0   4.0    4.0    2.0  47.0  215.49  0.06  16.00  13.47  ...   \n",
       "4   5  24.0   6.0    6.0    2.0  72.0  346.13  0.06  17.33  19.97  ...   \n",
       "\n",
       "   lOCode  lOComment  lOBlank  locCodeAndComment  uniq_Op  uniq_Opnd  \\\n",
       "0       2          2        2                  2      1.2        1.2   \n",
       "1       1          1        1                  1      1.0        1.0   \n",
       "2       1          0        6                  0     15.0       15.0   \n",
       "3       0          0        3                  0     16.0        8.0   \n",
       "4       0          0        3                  0     16.0       12.0   \n",
       "\n",
       "   total_Op  total_Opnd  branchCount  defects  \n",
       "0       1.2         1.2          1.4    False  \n",
       "1       1.0         1.0          1.0     True  \n",
       "2      44.0        19.0          9.0    False  \n",
       "3      31.0        16.0          7.0    False  \n",
       "4      46.0        26.0         11.0    False  \n",
       "\n",
       "[5 rows x 23 columns]"
      ]
     },
     "execution_count": 7,
     "metadata": {},
     "output_type": "execute_result"
    }
   ],
   "source": [
    "df.head()"
   ]
  },
  {
   "cell_type": "code",
   "execution_count": 8,
   "id": "733e95eb",
   "metadata": {
    "execution": {
     "iopub.execute_input": "2021-04-04T23:20:35.142270Z",
     "iopub.status.busy": "2021-04-04T23:20:35.140907Z",
     "iopub.status.idle": "2021-04-04T23:20:35.146293Z",
     "shell.execute_reply": "2021-04-04T23:20:35.147181Z"
    },
    "papermill": {
     "duration": 0.037077,
     "end_time": "2021-04-04T23:20:35.147662",
     "exception": false,
     "start_time": "2021-04-04T23:20:35.110585",
     "status": "completed"
    },
    "tags": []
   },
   "outputs": [],
   "source": [
    "del df['id']"
   ]
  },
  {
   "cell_type": "code",
   "execution_count": 9,
   "id": "6ff6f5b0",
   "metadata": {
    "execution": {
     "iopub.execute_input": "2021-04-04T23:20:35.202612Z",
     "iopub.status.busy": "2021-04-04T23:20:35.201734Z",
     "iopub.status.idle": "2021-04-04T23:20:35.203682Z",
     "shell.execute_reply": "2021-04-04T23:20:35.204453Z"
    },
    "papermill": {
     "duration": 0.031873,
     "end_time": "2021-04-04T23:20:35.204820",
     "exception": false,
     "start_time": "2021-04-04T23:20:35.172947",
     "status": "completed"
    },
    "tags": []
   },
   "outputs": [],
   "source": [
    "if PROFILE_REPORTING:\n",
    "    ProfileReport(df).to_widgets()"
   ]
  },
  {
   "cell_type": "markdown",
   "id": "1deaf3f0",
   "metadata": {
    "papermill": {
     "duration": 0.025815,
     "end_time": "2021-04-04T23:20:35.254054",
     "exception": false,
     "start_time": "2021-04-04T23:20:35.228239",
     "status": "completed"
    },
    "tags": []
   },
   "source": [
    "# Preprocess"
   ]
  },
  {
   "cell_type": "code",
   "execution_count": 10,
   "id": "1513e563",
   "metadata": {
    "execution": {
     "iopub.execute_input": "2021-04-04T23:20:35.304327Z",
     "iopub.status.busy": "2021-04-04T23:20:35.303241Z",
     "iopub.status.idle": "2021-04-04T23:20:35.308350Z",
     "shell.execute_reply": "2021-04-04T23:20:35.307711Z"
    },
    "papermill": {
     "duration": 0.03075,
     "end_time": "2021-04-04T23:20:35.308495",
     "exception": false,
     "start_time": "2021-04-04T23:20:35.277745",
     "status": "completed"
    },
    "tags": []
   },
   "outputs": [],
   "source": [
    "working_df = df.copy()"
   ]
  },
  {
   "cell_type": "code",
   "execution_count": 11,
   "id": "3b26d675",
   "metadata": {
    "execution": {
     "iopub.execute_input": "2021-04-04T23:20:35.371078Z",
     "iopub.status.busy": "2021-04-04T23:20:35.370332Z",
     "iopub.status.idle": "2021-04-04T23:20:35.374350Z",
     "shell.execute_reply": "2021-04-04T23:20:35.372980Z"
    },
    "papermill": {
     "duration": 0.043309,
     "end_time": "2021-04-04T23:20:35.374531",
     "exception": false,
     "start_time": "2021-04-04T23:20:35.331222",
     "status": "completed"
    },
    "tags": []
   },
   "outputs": [],
   "source": [
    "working_df['defects'] = working_df['defects'].replace([False, True], [0, 1])"
   ]
  },
  {
   "cell_type": "code",
   "execution_count": 12,
   "id": "eb48604f",
   "metadata": {
    "execution": {
     "iopub.execute_input": "2021-04-04T23:20:35.435331Z",
     "iopub.status.busy": "2021-04-04T23:20:35.433595Z",
     "iopub.status.idle": "2021-04-04T23:20:35.436918Z",
     "shell.execute_reply": "2021-04-04T23:20:35.437584Z"
    },
    "papermill": {
     "duration": 0.034759,
     "end_time": "2021-04-04T23:20:35.437734",
     "exception": false,
     "start_time": "2021-04-04T23:20:35.402975",
     "status": "completed"
    },
    "tags": []
   },
   "outputs": [],
   "source": [
    "for col in dataset_config['delete_columns']:\n",
    "    del working_df[col]"
   ]
  },
  {
   "cell_type": "code",
   "execution_count": 13,
   "id": "9a17bc29",
   "metadata": {
    "execution": {
     "iopub.execute_input": "2021-04-04T23:20:35.501652Z",
     "iopub.status.busy": "2021-04-04T23:20:35.500418Z",
     "iopub.status.idle": "2021-04-04T23:20:35.511828Z",
     "shell.execute_reply": "2021-04-04T23:20:35.511237Z"
    },
    "papermill": {
     "duration": 0.051712,
     "end_time": "2021-04-04T23:20:35.511966",
     "exception": false,
     "start_time": "2021-04-04T23:20:35.460254",
     "status": "completed"
    },
    "tags": []
   },
   "outputs": [],
   "source": [
    "working_df = working_df.drop_duplicates()"
   ]
  },
  {
   "cell_type": "markdown",
   "id": "a4d52ca6",
   "metadata": {
    "papermill": {
     "duration": 0.023181,
     "end_time": "2021-04-04T23:20:35.560169",
     "exception": false,
     "start_time": "2021-04-04T23:20:35.536988",
     "status": "completed"
    },
    "tags": []
   },
   "source": [
    "# Split"
   ]
  },
  {
   "cell_type": "code",
   "execution_count": 14,
   "id": "3e9ee4b5",
   "metadata": {
    "execution": {
     "iopub.execute_input": "2021-04-04T23:20:35.616955Z",
     "iopub.status.busy": "2021-04-04T23:20:35.615874Z",
     "iopub.status.idle": "2021-04-04T23:20:35.654353Z",
     "shell.execute_reply": "2021-04-04T23:20:35.654930Z"
    },
    "papermill": {
     "duration": 0.070617,
     "end_time": "2021-04-04T23:20:35.655158",
     "exception": false,
     "start_time": "2021-04-04T23:20:35.584541",
     "status": "completed"
    },
    "tags": []
   },
   "outputs": [],
   "source": [
    "from sklearn.model_selection import train_test_split"
   ]
  },
  {
   "cell_type": "code",
   "execution_count": 15,
   "id": "274004ce",
   "metadata": {
    "execution": {
     "iopub.execute_input": "2021-04-04T23:20:35.708203Z",
     "iopub.status.busy": "2021-04-04T23:20:35.707074Z",
     "iopub.status.idle": "2021-04-04T23:20:35.713247Z",
     "shell.execute_reply": "2021-04-04T23:20:35.712728Z"
    },
    "papermill": {
     "duration": 0.034116,
     "end_time": "2021-04-04T23:20:35.713368",
     "exception": false,
     "start_time": "2021-04-04T23:20:35.679252",
     "status": "completed"
    },
    "scrolled": true,
    "tags": []
   },
   "outputs": [],
   "source": [
    "inlier, outlier = working_df[working_df['defects'] == 0], working_df[working_df['defects'] == 1]"
   ]
  },
  {
   "cell_type": "code",
   "execution_count": 16,
   "id": "753c7b03",
   "metadata": {
    "execution": {
     "iopub.execute_input": "2021-04-04T23:20:35.778519Z",
     "iopub.status.busy": "2021-04-04T23:20:35.777720Z",
     "iopub.status.idle": "2021-04-04T23:20:35.780216Z",
     "shell.execute_reply": "2021-04-04T23:20:35.780784Z"
    },
    "papermill": {
     "duration": 0.042522,
     "end_time": "2021-04-04T23:20:35.780985",
     "exception": false,
     "start_time": "2021-04-04T23:20:35.738463",
     "status": "completed"
    },
    "tags": []
   },
   "outputs": [],
   "source": [
    "X_inlier = inlier.copy()\n",
    "y_inlier = X_inlier.pop('defects')\n",
    "X_outlier = outlier.copy()\n",
    "y_outlier = X_outlier.pop('defects')"
   ]
  },
  {
   "cell_type": "code",
   "execution_count": 17,
   "id": "2ba43193",
   "metadata": {
    "execution": {
     "iopub.execute_input": "2021-04-04T23:20:35.837902Z",
     "iopub.status.busy": "2021-04-04T23:20:35.837302Z",
     "iopub.status.idle": "2021-04-04T23:20:35.839600Z",
     "shell.execute_reply": "2021-04-04T23:20:35.840081Z"
    },
    "papermill": {
     "duration": 0.035767,
     "end_time": "2021-04-04T23:20:35.840228",
     "exception": false,
     "start_time": "2021-04-04T23:20:35.804461",
     "status": "completed"
    },
    "tags": []
   },
   "outputs": [],
   "source": [
    "test_size = dataset_config['test_size']\n",
    "random_state = dataset_config['random_state']\n",
    "\n",
    "X_inlier_train, X_inlier_test, y_inlier_train, y_inlier_test = train_test_split(\n",
    "    X_inlier,\n",
    "    y_inlier,\n",
    "    test_size=test_size,\n",
    "    random_state=random_state\n",
    ")"
   ]
  },
  {
   "cell_type": "code",
   "execution_count": 18,
   "id": "0b7582ca",
   "metadata": {
    "execution": {
     "iopub.execute_input": "2021-04-04T23:20:35.902610Z",
     "iopub.status.busy": "2021-04-04T23:20:35.901036Z",
     "iopub.status.idle": "2021-04-04T23:20:35.905062Z",
     "shell.execute_reply": "2021-04-04T23:20:35.905939Z"
    },
    "papermill": {
     "duration": 0.042483,
     "end_time": "2021-04-04T23:20:35.906115",
     "exception": false,
     "start_time": "2021-04-04T23:20:35.863632",
     "status": "completed"
    },
    "tags": []
   },
   "outputs": [],
   "source": [
    "test_outlier_size = dataset_config['test_outlier_size']\n",
    "if test_outlier_size > 0.0:\n",
    "    X_outlier_train, X_outlier_test, y_outlier_train, y_outlier_test = train_test_split(\n",
    "        X_outlier,\n",
    "        y_outlier,\n",
    "        test_size=test_outlier_size,\n",
    "        random_state=random_state\n",
    "    )\n",
    "else:\n",
    "    X_outlier_train, y_outlier_train = pd.DataFrame(columns=X_outlier.columns), pd.Series(dtype='int64')\n",
    "    X_outlier_test, y_outlier_test = X_outlier.copy(), y_outlier.copy()"
   ]
  },
  {
   "cell_type": "code",
   "execution_count": 19,
   "id": "c34363db",
   "metadata": {
    "execution": {
     "iopub.execute_input": "2021-04-04T23:20:35.963362Z",
     "iopub.status.busy": "2021-04-04T23:20:35.962654Z",
     "iopub.status.idle": "2021-04-04T23:20:35.965593Z",
     "shell.execute_reply": "2021-04-04T23:20:35.964984Z"
    },
    "papermill": {
     "duration": 0.034296,
     "end_time": "2021-04-04T23:20:35.965750",
     "exception": false,
     "start_time": "2021-04-04T23:20:35.931454",
     "status": "completed"
    },
    "tags": []
   },
   "outputs": [],
   "source": [
    "X_train, y_train = pd.concat([X_inlier_train, X_outlier_train], ignore_index=True), pd.concat([y_inlier_train, y_outlier_train], ignore_index=True)\n",
    "X_test, y_test = pd.concat([X_inlier_test, X_outlier_test], ignore_index=True), pd.concat([y_inlier_test, y_outlier_test], ignore_index=True)"
   ]
  },
  {
   "cell_type": "markdown",
   "id": "7cde7309",
   "metadata": {
    "papermill": {
     "duration": 0.029667,
     "end_time": "2021-04-04T23:20:36.021983",
     "exception": false,
     "start_time": "2021-04-04T23:20:35.992316",
     "status": "completed"
    },
    "tags": []
   },
   "source": [
    "# Model"
   ]
  },
  {
   "cell_type": "code",
   "execution_count": 20,
   "id": "2b12a415",
   "metadata": {
    "execution": {
     "iopub.execute_input": "2021-04-04T23:20:36.082136Z",
     "iopub.status.busy": "2021-04-04T23:20:36.081157Z",
     "iopub.status.idle": "2021-04-04T23:20:36.085939Z",
     "shell.execute_reply": "2021-04-04T23:20:36.084982Z"
    },
    "papermill": {
     "duration": 0.039218,
     "end_time": "2021-04-04T23:20:36.086127",
     "exception": false,
     "start_time": "2021-04-04T23:20:36.046909",
     "status": "completed"
    },
    "tags": []
   },
   "outputs": [],
   "source": [
    "from math import sqrt\n",
    "\n",
    "\n",
    "class KNNDataDescription:\n",
    "    def __init__(self, k=5, outlier_threshold=1.0):\n",
    "        self.k = k\n",
    "        self.outlier_threshold = outlier_threshold\n",
    "        self.X = []\n",
    "    \n",
    "    def fit(self, X):\n",
    "        self.X = [features.to_list() for index, features in X.iterrows()]\n",
    "\n",
    "    def predict(self, entries):\n",
    "        return [self.predict_entry(features.to_list()) for index, features in entries.iterrows()]\n",
    "    \n",
    "    def predict_entry(self, entry):\n",
    "        kth_neighbor, kth_distance = self.get_kth_neighbor(entry, self.k)\n",
    "        kth_kth_neighbor, kth_kth_distance = self.get_kth_neighbor(kth_neighbor, self.k + 1)\n",
    "\n",
    "        outlier_score = kth_distance / (kth_kth_distance + 0.000001)\n",
    "\n",
    "        return 1 if outlier_score < self.outlier_threshold else -1\n",
    "        \n",
    "    def euclidean_distance(self, features1, features2):\n",
    "        distance = 0.0\n",
    "        for feat1, feat2 in zip(features1, features2):\n",
    "            distance += (feat1 - feat2)**2\n",
    "                \n",
    "        return sqrt(distance)\n",
    "\n",
    "    def get_neighbors(self, entry, k):\n",
    "        distance_to_data_points = [\n",
    "            (data_point, self.euclidean_distance(entry, data_point))\n",
    "            for data_point in self.X\n",
    "        ]\n",
    "        sorted_by_distance = sorted(distance_to_data_points, key=lambda tup: tup[1])\n",
    "        neighbors = sorted_by_distance[:k]\n",
    "        return neighbors\n",
    "\n",
    "    def get_kth_neighbor(self, entry, k):\n",
    "        neighbors = self.get_neighbors(entry, k)\n",
    "        return neighbors[-1]\n"
   ]
  },
  {
   "cell_type": "code",
   "execution_count": 21,
   "id": "1fa9ec1c",
   "metadata": {
    "execution": {
     "iopub.execute_input": "2021-04-04T23:20:36.149983Z",
     "iopub.status.busy": "2021-04-04T23:20:36.149117Z",
     "iopub.status.idle": "2021-04-04T23:20:36.181427Z",
     "shell.execute_reply": "2021-04-04T23:20:36.181922Z"
    },
    "papermill": {
     "duration": 0.066958,
     "end_time": "2021-04-04T23:20:36.182069",
     "exception": false,
     "start_time": "2021-04-04T23:20:36.115111",
     "status": "completed"
    },
    "tags": []
   },
   "outputs": [],
   "source": [
    "from sklearn.svm import OneClassSVM\n",
    "\n",
    "\n",
    "models = {\n",
    "    'oneclasssvm': OneClassSVM,\n",
    "    'knndatadescription': KNNDataDescription,\n",
    "}"
   ]
  },
  {
   "cell_type": "code",
   "execution_count": 22,
   "id": "4d72a0b1",
   "metadata": {
    "execution": {
     "iopub.execute_input": "2021-04-04T23:20:36.236010Z",
     "iopub.status.busy": "2021-04-04T23:20:36.235416Z",
     "iopub.status.idle": "2021-04-04T23:20:36.238531Z",
     "shell.execute_reply": "2021-04-04T23:20:36.240315Z"
    },
    "papermill": {
     "duration": 0.032147,
     "end_time": "2021-04-04T23:20:36.240844",
     "exception": false,
     "start_time": "2021-04-04T23:20:36.208697",
     "status": "completed"
    },
    "scrolled": true,
    "tags": []
   },
   "outputs": [],
   "source": [
    "model_cls = models[model_config['model_type']]\n",
    "model = model_cls(**model_config['hyperparameters'])"
   ]
  },
  {
   "cell_type": "markdown",
   "id": "e00cff3b",
   "metadata": {
    "papermill": {
     "duration": 0.033079,
     "end_time": "2021-04-04T23:20:36.299714",
     "exception": false,
     "start_time": "2021-04-04T23:20:36.266635",
     "status": "completed"
    },
    "tags": []
   },
   "source": [
    "# Fit"
   ]
  },
  {
   "cell_type": "code",
   "execution_count": 23,
   "id": "8b2ded89",
   "metadata": {
    "execution": {
     "iopub.execute_input": "2021-04-04T23:20:36.366347Z",
     "iopub.status.busy": "2021-04-04T23:20:36.365013Z",
     "iopub.status.idle": "2021-04-04T23:20:36.390894Z",
     "shell.execute_reply": "2021-04-04T23:20:36.390111Z"
    },
    "papermill": {
     "duration": 0.066378,
     "end_time": "2021-04-04T23:20:36.391059",
     "exception": false,
     "start_time": "2021-04-04T23:20:36.324681",
     "status": "completed"
    },
    "tags": []
   },
   "outputs": [],
   "source": [
    "model.fit(X_train)"
   ]
  },
  {
   "cell_type": "markdown",
   "id": "f99999f7",
   "metadata": {
    "papermill": {
     "duration": 0.027829,
     "end_time": "2021-04-04T23:20:36.446241",
     "exception": false,
     "start_time": "2021-04-04T23:20:36.418412",
     "status": "completed"
    },
    "tags": []
   },
   "source": [
    "# Predict"
   ]
  },
  {
   "cell_type": "code",
   "execution_count": 24,
   "id": "6536fbf7",
   "metadata": {
    "execution": {
     "iopub.execute_input": "2021-04-04T23:20:36.518395Z",
     "iopub.status.busy": "2021-04-04T23:20:36.509346Z",
     "iopub.status.idle": "2021-04-04T23:20:36.890847Z",
     "shell.execute_reply": "2021-04-04T23:20:36.890228Z"
    },
    "papermill": {
     "duration": 0.420417,
     "end_time": "2021-04-04T23:20:36.890971",
     "exception": false,
     "start_time": "2021-04-04T23:20:36.470554",
     "status": "completed"
    },
    "tags": []
   },
   "outputs": [],
   "source": [
    "predictions = model.predict(X_test)"
   ]
  },
  {
   "cell_type": "markdown",
   "id": "aa1c9881",
   "metadata": {
    "papermill": {
     "duration": 0.02511,
     "end_time": "2021-04-04T23:20:36.944005",
     "exception": false,
     "start_time": "2021-04-04T23:20:36.918895",
     "status": "completed"
    },
    "tags": []
   },
   "source": [
    "# Evaluate"
   ]
  },
  {
   "cell_type": "code",
   "execution_count": 25,
   "id": "894f0f04",
   "metadata": {
    "execution": {
     "iopub.execute_input": "2021-04-04T23:20:36.998954Z",
     "iopub.status.busy": "2021-04-04T23:20:36.998154Z",
     "iopub.status.idle": "2021-04-04T23:20:37.000695Z",
     "shell.execute_reply": "2021-04-04T23:20:37.001508Z"
    },
    "papermill": {
     "duration": 0.029777,
     "end_time": "2021-04-04T23:20:37.001722",
     "exception": false,
     "start_time": "2021-04-04T23:20:36.971945",
     "status": "completed"
    },
    "tags": []
   },
   "outputs": [],
   "source": [
    "from sklearn.metrics import f1_score"
   ]
  },
  {
   "cell_type": "code",
   "execution_count": 26,
   "id": "211744d3",
   "metadata": {
    "execution": {
     "iopub.execute_input": "2021-04-04T23:20:37.065323Z",
     "iopub.status.busy": "2021-04-04T23:20:37.064349Z",
     "iopub.status.idle": "2021-04-04T23:20:37.067374Z",
     "shell.execute_reply": "2021-04-04T23:20:37.066630Z"
    },
    "papermill": {
     "duration": 0.04005,
     "end_time": "2021-04-04T23:20:37.067547",
     "exception": false,
     "start_time": "2021-04-04T23:20:37.027497",
     "status": "completed"
    },
    "tags": []
   },
   "outputs": [],
   "source": [
    "y_test = y_test.replace([0, 1], [1, -1])"
   ]
  },
  {
   "cell_type": "code",
   "execution_count": 27,
   "id": "d68a9204",
   "metadata": {
    "execution": {
     "iopub.execute_input": "2021-04-04T23:20:37.135359Z",
     "iopub.status.busy": "2021-04-04T23:20:37.134588Z",
     "iopub.status.idle": "2021-04-04T23:20:37.137128Z",
     "shell.execute_reply": "2021-04-04T23:20:37.137646Z"
    },
    "papermill": {
     "duration": 0.038958,
     "end_time": "2021-04-04T23:20:37.137826",
     "exception": false,
     "start_time": "2021-04-04T23:20:37.098868",
     "status": "completed"
    },
    "tags": []
   },
   "outputs": [],
   "source": [
    "def evaluate(truths, predictions, pos_label, neg_label):\n",
    "    TP = 0\n",
    "    FP = 0\n",
    "    TN = 0\n",
    "    FN = 0\n",
    "\n",
    "    for truth, pred in zip(truths, predictions): \n",
    "        if truth == pred == pos_label:\n",
    "           TP += 1\n",
    "        elif pred == pos_label and truth == neg_label:\n",
    "           FP += 1\n",
    "        elif truth == pred == neg_label:\n",
    "           TN += 1\n",
    "        elif pred == neg_label and truth == pos_label:\n",
    "           FN += 1\n",
    "\n",
    "    precision = TP / (TP + FP)\n",
    "    sensitivity = TP / (TP + FN)\n",
    "    \n",
    "    return {\n",
    "        'true_pos': TP,\n",
    "        'false_pos': FP,\n",
    "        'false_neg': FN,\n",
    "        'true_neg': TN,\n",
    "        'precision': precision,\n",
    "        'sensitivity': sensitivity,\n",
    "        'f1': (2 * (precision * sensitivity)) / (precision + sensitivity)\n",
    "    }\n",
    "\n",
    "score = evaluate(y_test, predictions, pos_label=-1, neg_label=1)"
   ]
  },
  {
   "cell_type": "markdown",
   "id": "93596516",
   "metadata": {
    "papermill": {
     "duration": 0.029994,
     "end_time": "2021-04-04T23:20:37.195313",
     "exception": false,
     "start_time": "2021-04-04T23:20:37.165319",
     "status": "completed"
    },
    "tags": []
   },
   "source": [
    "# Report"
   ]
  },
  {
   "cell_type": "code",
   "execution_count": 28,
   "id": "bea5fba1",
   "metadata": {
    "execution": {
     "iopub.execute_input": "2021-04-04T23:20:37.257755Z",
     "iopub.status.busy": "2021-04-04T23:20:37.257026Z",
     "iopub.status.idle": "2021-04-04T23:20:37.259769Z",
     "shell.execute_reply": "2021-04-04T23:20:37.259272Z"
    },
    "papermill": {
     "duration": 0.033291,
     "end_time": "2021-04-04T23:20:37.259888",
     "exception": false,
     "start_time": "2021-04-04T23:20:37.226597",
     "status": "completed"
    },
    "tags": []
   },
   "outputs": [],
   "source": [
    "import csv\n",
    "\n",
    "\n",
    "dataset_config_name = DATASET_CONFIG_PATH.split('/')[-1].split('.')[0]\n",
    "model_config_name = MODEL_CONFIG_PATH.split('/')[-1].split('.')[0]\n",
    "configuration = f\"dataset_{dataset_config_name}-model_{model_config_name}\"\n",
    "\n",
    "with open('results.csv', 'a') as f:\n",
    "    report = dict({'configuration': configuration}, **score)\n",
    "    writer = csv.DictWriter(f, report.keys())\n",
    "    writer.writerow(report)"
   ]
  }
 ],
 "metadata": {
  "celltoolbar": "Tags",
  "kernelspec": {
   "display_name": "Python 3",
   "language": "python",
   "name": "python3"
  },
  "language_info": {
   "codemirror_mode": {
    "name": "ipython",
    "version": 3
   },
   "file_extension": ".py",
   "mimetype": "text/x-python",
   "name": "python",
   "nbconvert_exporter": "python",
   "pygments_lexer": "ipython3",
   "version": "3.9.1"
  },
  "papermill": {
   "default_parameters": {},
   "duration": 5.893619,
   "end_time": "2021-04-04T23:20:37.997746",
   "environment_variables": {},
   "exception": null,
   "input_path": "main.ipynb",
   "output_path": "runs/dataset_000120-model_000002.ipynb",
   "parameters": {
    "DATASET_CONFIG_PATH": "config/dataset/000120.json",
    "MODEL_CONFIG_PATH": "config/model/000002.json",
    "PROFILE_REPORTING": false
   },
   "start_time": "2021-04-04T23:20:32.104127",
   "version": "2.3.3"
  }
 },
 "nbformat": 4,
 "nbformat_minor": 5
}