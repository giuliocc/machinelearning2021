{
 "cells": [
  {
   "cell_type": "markdown",
   "id": "51c71c25",
   "metadata": {
    "papermill": {
     "duration": 0.028426,
     "end_time": "2021-04-04T23:07:16.794283",
     "exception": false,
     "start_time": "2021-04-04T23:07:16.765857",
     "status": "completed"
    },
    "tags": []
   },
   "source": [
    "# Parametrizing"
   ]
  },
  {
   "cell_type": "code",
   "execution_count": 1,
   "id": "3b136394",
   "metadata": {
    "execution": {
     "iopub.execute_input": "2021-04-04T23:07:16.849455Z",
     "iopub.status.busy": "2021-04-04T23:07:16.848467Z",
     "iopub.status.idle": "2021-04-04T23:07:16.851195Z",
     "shell.execute_reply": "2021-04-04T23:07:16.852140Z"
    },
    "papermill": {
     "duration": 0.036648,
     "end_time": "2021-04-04T23:07:16.852489",
     "exception": false,
     "start_time": "2021-04-04T23:07:16.815841",
     "status": "completed"
    },
    "tags": [
     "parameters"
    ]
   },
   "outputs": [],
   "source": [
    "DATASET_CONFIG_PATH = 'config/dataset/kc1_001.json'\n",
    "MODEL_CONFIG_PATH = 'config/model/knndd_001.json'\n",
    "PROFILE_REPORTING = False"
   ]
  },
  {
   "cell_type": "code",
   "execution_count": 2,
   "id": "347e1305",
   "metadata": {
    "execution": {
     "iopub.execute_input": "2021-04-04T23:07:16.903797Z",
     "iopub.status.busy": "2021-04-04T23:07:16.902984Z",
     "iopub.status.idle": "2021-04-04T23:07:16.905217Z",
     "shell.execute_reply": "2021-04-04T23:07:16.905688Z"
    },
    "papermill": {
     "duration": 0.026285,
     "end_time": "2021-04-04T23:07:16.905828",
     "exception": false,
     "start_time": "2021-04-04T23:07:16.879543",
     "status": "completed"
    },
    "tags": [
     "injected-parameters"
    ]
   },
   "outputs": [],
   "source": [
    "# Parameters\n",
    "DATASET_CONFIG_PATH = \"config/dataset/000086.json\"\n",
    "MODEL_CONFIG_PATH = \"config/model/000001.json\"\n",
    "PROFILE_REPORTING = False\n"
   ]
  },
  {
   "cell_type": "code",
   "execution_count": 3,
   "id": "b80f2a10",
   "metadata": {
    "execution": {
     "iopub.execute_input": "2021-04-04T23:07:16.952299Z",
     "iopub.status.busy": "2021-04-04T23:07:16.951684Z",
     "iopub.status.idle": "2021-04-04T23:07:16.955742Z",
     "shell.execute_reply": "2021-04-04T23:07:16.954966Z"
    },
    "papermill": {
     "duration": 0.029603,
     "end_time": "2021-04-04T23:07:16.955903",
     "exception": false,
     "start_time": "2021-04-04T23:07:16.926300",
     "status": "completed"
    },
    "tags": []
   },
   "outputs": [],
   "source": [
    "import json\n",
    "\n",
    "\n",
    "with open(DATASET_CONFIG_PATH) as f:\n",
    "    dataset_config = json.load(f)\n",
    "\n",
    "with open(MODEL_CONFIG_PATH) as f:\n",
    "    model_config = json.load(f)"
   ]
  },
  {
   "cell_type": "markdown",
   "id": "9a4b0e2d",
   "metadata": {
    "papermill": {
     "duration": 0.019737,
     "end_time": "2021-04-04T23:07:16.997811",
     "exception": false,
     "start_time": "2021-04-04T23:07:16.978074",
     "status": "completed"
    },
    "tags": []
   },
   "source": [
    "# Profiling"
   ]
  },
  {
   "cell_type": "code",
   "execution_count": 4,
   "id": "a3e0289b",
   "metadata": {
    "execution": {
     "iopub.execute_input": "2021-04-04T23:07:17.041952Z",
     "iopub.status.busy": "2021-04-04T23:07:17.040968Z",
     "iopub.status.idle": "2021-04-04T23:07:18.318971Z",
     "shell.execute_reply": "2021-04-04T23:07:18.318100Z"
    },
    "papermill": {
     "duration": 1.301844,
     "end_time": "2021-04-04T23:07:18.319139",
     "exception": false,
     "start_time": "2021-04-04T23:07:17.017295",
     "status": "completed"
    },
    "tags": []
   },
   "outputs": [],
   "source": [
    "import pandas as pd\n",
    "from pandas_profiling import ProfileReport"
   ]
  },
  {
   "cell_type": "code",
   "execution_count": 5,
   "id": "ee6c0666",
   "metadata": {
    "execution": {
     "iopub.execute_input": "2021-04-04T23:07:18.375841Z",
     "iopub.status.busy": "2021-04-04T23:07:18.374245Z",
     "iopub.status.idle": "2021-04-04T23:07:18.383457Z",
     "shell.execute_reply": "2021-04-04T23:07:18.382823Z"
    },
    "papermill": {
     "duration": 0.035426,
     "end_time": "2021-04-04T23:07:18.383583",
     "exception": false,
     "start_time": "2021-04-04T23:07:18.348157",
     "status": "completed"
    },
    "tags": []
   },
   "outputs": [],
   "source": [
    "df = pd.read_csv(dataset_config['dataset_path'])"
   ]
  },
  {
   "cell_type": "code",
   "execution_count": 6,
   "id": "7eca6c4a",
   "metadata": {
    "execution": {
     "iopub.execute_input": "2021-04-04T23:07:18.443542Z",
     "iopub.status.busy": "2021-04-04T23:07:18.433902Z",
     "iopub.status.idle": "2021-04-04T23:07:18.445705Z",
     "shell.execute_reply": "2021-04-04T23:07:18.446176Z"
    },
    "papermill": {
     "duration": 0.040203,
     "end_time": "2021-04-04T23:07:18.446317",
     "exception": false,
     "start_time": "2021-04-04T23:07:18.406114",
     "status": "completed"
    },
    "tags": []
   },
   "outputs": [
    {
     "name": "stdout",
     "output_type": "stream",
     "text": [
      "<class 'pandas.core.frame.DataFrame'>\n",
      "RangeIndex: 498 entries, 0 to 497\n",
      "Data columns (total 23 columns):\n",
      " #   Column             Non-Null Count  Dtype  \n",
      "---  ------             --------------  -----  \n",
      " 0   id                 498 non-null    int64  \n",
      " 1   loc                498 non-null    float64\n",
      " 2   v(g)               498 non-null    float64\n",
      " 3   ev(g)              498 non-null    float64\n",
      " 4   iv(g)              498 non-null    float64\n",
      " 5   n                  498 non-null    float64\n",
      " 6   v                  498 non-null    float64\n",
      " 7   l                  498 non-null    float64\n",
      " 8   d                  498 non-null    float64\n",
      " 9   i                  498 non-null    float64\n",
      " 10  e                  498 non-null    float64\n",
      " 11  b                  498 non-null    float64\n",
      " 12  t                  498 non-null    float64\n",
      " 13  lOCode             498 non-null    int64  \n",
      " 14  lOComment          498 non-null    int64  \n",
      " 15  lOBlank            498 non-null    int64  \n",
      " 16  locCodeAndComment  498 non-null    int64  \n",
      " 17  uniq_Op            498 non-null    float64\n",
      " 18  uniq_Opnd          498 non-null    float64\n",
      " 19  total_Op           498 non-null    float64\n",
      " 20  total_Opnd         498 non-null    float64\n",
      " 21  branchCount        498 non-null    float64\n",
      " 22  defects            498 non-null    bool   \n",
      "dtypes: bool(1), float64(17), int64(5)\n",
      "memory usage: 86.2 KB\n"
     ]
    }
   ],
   "source": [
    "df.info()"
   ]
  },
  {
   "cell_type": "code",
   "execution_count": 7,
   "id": "3638e5e8",
   "metadata": {
    "execution": {
     "iopub.execute_input": "2021-04-04T23:07:18.497904Z",
     "iopub.status.busy": "2021-04-04T23:07:18.496967Z",
     "iopub.status.idle": "2021-04-04T23:07:18.527097Z",
     "shell.execute_reply": "2021-04-04T23:07:18.526198Z"
    },
    "papermill": {
     "duration": 0.059501,
     "end_time": "2021-04-04T23:07:18.527302",
     "exception": false,
     "start_time": "2021-04-04T23:07:18.467801",
     "status": "completed"
    },
    "tags": []
   },
   "outputs": [
    {
     "data": {
      "text/html": [
       "<div>\n",
       "<style scoped>\n",
       "    .dataframe tbody tr th:only-of-type {\n",
       "        vertical-align: middle;\n",
       "    }\n",
       "\n",
       "    .dataframe tbody tr th {\n",
       "        vertical-align: top;\n",
       "    }\n",
       "\n",
       "    .dataframe thead th {\n",
       "        text-align: right;\n",
       "    }\n",
       "</style>\n",
       "<table border=\"1\" class=\"dataframe\">\n",
       "  <thead>\n",
       "    <tr style=\"text-align: right;\">\n",
       "      <th></th>\n",
       "      <th>id</th>\n",
       "      <th>loc</th>\n",
       "      <th>v(g)</th>\n",
       "      <th>ev(g)</th>\n",
       "      <th>iv(g)</th>\n",
       "      <th>n</th>\n",
       "      <th>v</th>\n",
       "      <th>l</th>\n",
       "      <th>d</th>\n",
       "      <th>i</th>\n",
       "      <th>...</th>\n",
       "      <th>lOCode</th>\n",
       "      <th>lOComment</th>\n",
       "      <th>lOBlank</th>\n",
       "      <th>locCodeAndComment</th>\n",
       "      <th>uniq_Op</th>\n",
       "      <th>uniq_Opnd</th>\n",
       "      <th>total_Op</th>\n",
       "      <th>total_Opnd</th>\n",
       "      <th>branchCount</th>\n",
       "      <th>defects</th>\n",
       "    </tr>\n",
       "  </thead>\n",
       "  <tbody>\n",
       "    <tr>\n",
       "      <th>0</th>\n",
       "      <td>1</td>\n",
       "      <td>1.1</td>\n",
       "      <td>1.4</td>\n",
       "      <td>1.4</td>\n",
       "      <td>1.4</td>\n",
       "      <td>1.3</td>\n",
       "      <td>1.30</td>\n",
       "      <td>1.30</td>\n",
       "      <td>1.30</td>\n",
       "      <td>1.30</td>\n",
       "      <td>...</td>\n",
       "      <td>2</td>\n",
       "      <td>2</td>\n",
       "      <td>2</td>\n",
       "      <td>2</td>\n",
       "      <td>1.2</td>\n",
       "      <td>1.2</td>\n",
       "      <td>1.2</td>\n",
       "      <td>1.2</td>\n",
       "      <td>1.4</td>\n",
       "      <td>False</td>\n",
       "    </tr>\n",
       "    <tr>\n",
       "      <th>1</th>\n",
       "      <td>2</td>\n",
       "      <td>1.0</td>\n",
       "      <td>1.0</td>\n",
       "      <td>1.0</td>\n",
       "      <td>1.0</td>\n",
       "      <td>1.0</td>\n",
       "      <td>1.00</td>\n",
       "      <td>1.00</td>\n",
       "      <td>1.00</td>\n",
       "      <td>1.00</td>\n",
       "      <td>...</td>\n",
       "      <td>1</td>\n",
       "      <td>1</td>\n",
       "      <td>1</td>\n",
       "      <td>1</td>\n",
       "      <td>1.0</td>\n",
       "      <td>1.0</td>\n",
       "      <td>1.0</td>\n",
       "      <td>1.0</td>\n",
       "      <td>1.0</td>\n",
       "      <td>True</td>\n",
       "    </tr>\n",
       "    <tr>\n",
       "      <th>2</th>\n",
       "      <td>3</td>\n",
       "      <td>24.0</td>\n",
       "      <td>5.0</td>\n",
       "      <td>1.0</td>\n",
       "      <td>3.0</td>\n",
       "      <td>63.0</td>\n",
       "      <td>309.13</td>\n",
       "      <td>0.11</td>\n",
       "      <td>9.50</td>\n",
       "      <td>32.54</td>\n",
       "      <td>...</td>\n",
       "      <td>1</td>\n",
       "      <td>0</td>\n",
       "      <td>6</td>\n",
       "      <td>0</td>\n",
       "      <td>15.0</td>\n",
       "      <td>15.0</td>\n",
       "      <td>44.0</td>\n",
       "      <td>19.0</td>\n",
       "      <td>9.0</td>\n",
       "      <td>False</td>\n",
       "    </tr>\n",
       "    <tr>\n",
       "      <th>3</th>\n",
       "      <td>4</td>\n",
       "      <td>20.0</td>\n",
       "      <td>4.0</td>\n",
       "      <td>4.0</td>\n",
       "      <td>2.0</td>\n",
       "      <td>47.0</td>\n",
       "      <td>215.49</td>\n",
       "      <td>0.06</td>\n",
       "      <td>16.00</td>\n",
       "      <td>13.47</td>\n",
       "      <td>...</td>\n",
       "      <td>0</td>\n",
       "      <td>0</td>\n",
       "      <td>3</td>\n",
       "      <td>0</td>\n",
       "      <td>16.0</td>\n",
       "      <td>8.0</td>\n",
       "      <td>31.0</td>\n",
       "      <td>16.0</td>\n",
       "      <td>7.0</td>\n",
       "      <td>False</td>\n",
       "    </tr>\n",
       "    <tr>\n",
       "      <th>4</th>\n",
       "      <td>5</td>\n",
       "      <td>24.0</td>\n",
       "      <td>6.0</td>\n",
       "      <td>6.0</td>\n",
       "      <td>2.0</td>\n",
       "      <td>72.0</td>\n",
       "      <td>346.13</td>\n",
       "      <td>0.06</td>\n",
       "      <td>17.33</td>\n",
       "      <td>19.97</td>\n",
       "      <td>...</td>\n",
       "      <td>0</td>\n",
       "      <td>0</td>\n",
       "      <td>3</td>\n",
       "      <td>0</td>\n",
       "      <td>16.0</td>\n",
       "      <td>12.0</td>\n",
       "      <td>46.0</td>\n",
       "      <td>26.0</td>\n",
       "      <td>11.0</td>\n",
       "      <td>False</td>\n",
       "    </tr>\n",
       "  </tbody>\n",
       "</table>\n",
       "<p>5 rows × 23 columns</p>\n",
       "</div>"
      ],
      "text/plain": [
       "   id   loc  v(g)  ev(g)  iv(g)     n       v     l      d      i  ...  \\\n",
       "0   1   1.1   1.4    1.4    1.4   1.3    1.30  1.30   1.30   1.30  ...   \n",
       "1   2   1.0   1.0    1.0    1.0   1.0    1.00  1.00   1.00   1.00  ...   \n",
       "2   3  24.0   5.0    1.0    3.0  63.0  309.13  0.11   9.50  32.54  ...   \n",
       "3   4  20.0   4.0    4.0    2.0  47.0  215.49  0.06  16.00  13.47  ...   \n",
       "4   5  24.0   6.0    6.0    2.0  72.0  346.13  0.06  17.33  19.97  ...   \n",
       "\n",
       "   lOCode  lOComment  lOBlank  locCodeAndComment  uniq_Op  uniq_Opnd  \\\n",
       "0       2          2        2                  2      1.2        1.2   \n",
       "1       1          1        1                  1      1.0        1.0   \n",
       "2       1          0        6                  0     15.0       15.0   \n",
       "3       0          0        3                  0     16.0        8.0   \n",
       "4       0          0        3                  0     16.0       12.0   \n",
       "\n",
       "   total_Op  total_Opnd  branchCount  defects  \n",
       "0       1.2         1.2          1.4    False  \n",
       "1       1.0         1.0          1.0     True  \n",
       "2      44.0        19.0          9.0    False  \n",
       "3      31.0        16.0          7.0    False  \n",
       "4      46.0        26.0         11.0    False  \n",
       "\n",
       "[5 rows x 23 columns]"
      ]
     },
     "execution_count": 7,
     "metadata": {},
     "output_type": "execute_result"
    }
   ],
   "source": [
    "df.head()"
   ]
  },
  {
   "cell_type": "code",
   "execution_count": 8,
   "id": "733e95eb",
   "metadata": {
    "execution": {
     "iopub.execute_input": "2021-04-04T23:07:18.584563Z",
     "iopub.status.busy": "2021-04-04T23:07:18.583868Z",
     "iopub.status.idle": "2021-04-04T23:07:18.585723Z",
     "shell.execute_reply": "2021-04-04T23:07:18.586187Z"
    },
    "papermill": {
     "duration": 0.028377,
     "end_time": "2021-04-04T23:07:18.586327",
     "exception": false,
     "start_time": "2021-04-04T23:07:18.557950",
     "status": "completed"
    },
    "tags": []
   },
   "outputs": [],
   "source": [
    "del df['id']"
   ]
  },
  {
   "cell_type": "code",
   "execution_count": 9,
   "id": "6ff6f5b0",
   "metadata": {
    "execution": {
     "iopub.execute_input": "2021-04-04T23:07:18.635905Z",
     "iopub.status.busy": "2021-04-04T23:07:18.635183Z",
     "iopub.status.idle": "2021-04-04T23:07:18.637982Z",
     "shell.execute_reply": "2021-04-04T23:07:18.638858Z"
    },
    "papermill": {
     "duration": 0.028977,
     "end_time": "2021-04-04T23:07:18.639094",
     "exception": false,
     "start_time": "2021-04-04T23:07:18.610117",
     "status": "completed"
    },
    "tags": []
   },
   "outputs": [],
   "source": [
    "if PROFILE_REPORTING:\n",
    "    ProfileReport(df).to_widgets()"
   ]
  },
  {
   "cell_type": "markdown",
   "id": "1deaf3f0",
   "metadata": {
    "papermill": {
     "duration": 0.020889,
     "end_time": "2021-04-04T23:07:18.684643",
     "exception": false,
     "start_time": "2021-04-04T23:07:18.663754",
     "status": "completed"
    },
    "tags": []
   },
   "source": [
    "# Preprocess"
   ]
  },
  {
   "cell_type": "code",
   "execution_count": 10,
   "id": "1513e563",
   "metadata": {
    "execution": {
     "iopub.execute_input": "2021-04-04T23:07:18.732659Z",
     "iopub.status.busy": "2021-04-04T23:07:18.731854Z",
     "iopub.status.idle": "2021-04-04T23:07:18.735211Z",
     "shell.execute_reply": "2021-04-04T23:07:18.734476Z"
    },
    "papermill": {
     "duration": 0.028925,
     "end_time": "2021-04-04T23:07:18.735374",
     "exception": false,
     "start_time": "2021-04-04T23:07:18.706449",
     "status": "completed"
    },
    "tags": []
   },
   "outputs": [],
   "source": [
    "working_df = df.copy()"
   ]
  },
  {
   "cell_type": "code",
   "execution_count": 11,
   "id": "3b26d675",
   "metadata": {
    "execution": {
     "iopub.execute_input": "2021-04-04T23:07:18.795652Z",
     "iopub.status.busy": "2021-04-04T23:07:18.794931Z",
     "iopub.status.idle": "2021-04-04T23:07:18.797075Z",
     "shell.execute_reply": "2021-04-04T23:07:18.796497Z"
    },
    "papermill": {
     "duration": 0.028513,
     "end_time": "2021-04-04T23:07:18.797192",
     "exception": false,
     "start_time": "2021-04-04T23:07:18.768679",
     "status": "completed"
    },
    "tags": []
   },
   "outputs": [],
   "source": [
    "working_df['defects'] = working_df['defects'].replace([False, True], [0, 1])"
   ]
  },
  {
   "cell_type": "code",
   "execution_count": 12,
   "id": "eb48604f",
   "metadata": {
    "execution": {
     "iopub.execute_input": "2021-04-04T23:07:18.845995Z",
     "iopub.status.busy": "2021-04-04T23:07:18.845237Z",
     "iopub.status.idle": "2021-04-04T23:07:18.847113Z",
     "shell.execute_reply": "2021-04-04T23:07:18.847603Z"
    },
    "papermill": {
     "duration": 0.0275,
     "end_time": "2021-04-04T23:07:18.847748",
     "exception": false,
     "start_time": "2021-04-04T23:07:18.820248",
     "status": "completed"
    },
    "tags": []
   },
   "outputs": [],
   "source": [
    "for col in dataset_config['delete_columns']:\n",
    "    del working_df[col]"
   ]
  },
  {
   "cell_type": "code",
   "execution_count": 13,
   "id": "9a17bc29",
   "metadata": {
    "execution": {
     "iopub.execute_input": "2021-04-04T23:07:18.898672Z",
     "iopub.status.busy": "2021-04-04T23:07:18.897643Z",
     "iopub.status.idle": "2021-04-04T23:07:18.905343Z",
     "shell.execute_reply": "2021-04-04T23:07:18.904729Z"
    },
    "papermill": {
     "duration": 0.035091,
     "end_time": "2021-04-04T23:07:18.905464",
     "exception": false,
     "start_time": "2021-04-04T23:07:18.870373",
     "status": "completed"
    },
    "tags": []
   },
   "outputs": [],
   "source": [
    "working_df = working_df.drop_duplicates()"
   ]
  },
  {
   "cell_type": "markdown",
   "id": "a4d52ca6",
   "metadata": {
    "papermill": {
     "duration": 0.021986,
     "end_time": "2021-04-04T23:07:18.952257",
     "exception": false,
     "start_time": "2021-04-04T23:07:18.930271",
     "status": "completed"
    },
    "tags": []
   },
   "source": [
    "# Split"
   ]
  },
  {
   "cell_type": "code",
   "execution_count": 14,
   "id": "3e9ee4b5",
   "metadata": {
    "execution": {
     "iopub.execute_input": "2021-04-04T23:07:19.000626Z",
     "iopub.status.busy": "2021-04-04T23:07:18.999921Z",
     "iopub.status.idle": "2021-04-04T23:07:19.029553Z",
     "shell.execute_reply": "2021-04-04T23:07:19.028871Z"
    },
    "papermill": {
     "duration": 0.055082,
     "end_time": "2021-04-04T23:07:19.029687",
     "exception": false,
     "start_time": "2021-04-04T23:07:18.974605",
     "status": "completed"
    },
    "tags": []
   },
   "outputs": [],
   "source": [
    "from sklearn.model_selection import train_test_split"
   ]
  },
  {
   "cell_type": "code",
   "execution_count": 15,
   "id": "274004ce",
   "metadata": {
    "execution": {
     "iopub.execute_input": "2021-04-04T23:07:19.083196Z",
     "iopub.status.busy": "2021-04-04T23:07:19.082318Z",
     "iopub.status.idle": "2021-04-04T23:07:19.089160Z",
     "shell.execute_reply": "2021-04-04T23:07:19.088195Z"
    },
    "papermill": {
     "duration": 0.034841,
     "end_time": "2021-04-04T23:07:19.089370",
     "exception": false,
     "start_time": "2021-04-04T23:07:19.054529",
     "status": "completed"
    },
    "scrolled": true,
    "tags": []
   },
   "outputs": [],
   "source": [
    "inlier, outlier = working_df[working_df['defects'] == 0], working_df[working_df['defects'] == 1]"
   ]
  },
  {
   "cell_type": "code",
   "execution_count": 16,
   "id": "753c7b03",
   "metadata": {
    "execution": {
     "iopub.execute_input": "2021-04-04T23:07:19.150076Z",
     "iopub.status.busy": "2021-04-04T23:07:19.149358Z",
     "iopub.status.idle": "2021-04-04T23:07:19.151227Z",
     "shell.execute_reply": "2021-04-04T23:07:19.151697Z"
    },
    "papermill": {
     "duration": 0.031569,
     "end_time": "2021-04-04T23:07:19.151839",
     "exception": false,
     "start_time": "2021-04-04T23:07:19.120270",
     "status": "completed"
    },
    "tags": []
   },
   "outputs": [],
   "source": [
    "X_inlier = inlier.copy()\n",
    "y_inlier = X_inlier.pop('defects')\n",
    "X_outlier = outlier.copy()\n",
    "y_outlier = X_outlier.pop('defects')"
   ]
  },
  {
   "cell_type": "code",
   "execution_count": 17,
   "id": "2ba43193",
   "metadata": {
    "execution": {
     "iopub.execute_input": "2021-04-04T23:07:19.206863Z",
     "iopub.status.busy": "2021-04-04T23:07:19.205587Z",
     "iopub.status.idle": "2021-04-04T23:07:19.208476Z",
     "shell.execute_reply": "2021-04-04T23:07:19.209399Z"
    },
    "papermill": {
     "duration": 0.033556,
     "end_time": "2021-04-04T23:07:19.209640",
     "exception": false,
     "start_time": "2021-04-04T23:07:19.176084",
     "status": "completed"
    },
    "tags": []
   },
   "outputs": [],
   "source": [
    "test_size = dataset_config['test_size']\n",
    "random_state = dataset_config['random_state']\n",
    "\n",
    "X_inlier_train, X_inlier_test, y_inlier_train, y_inlier_test = train_test_split(\n",
    "    X_inlier,\n",
    "    y_inlier,\n",
    "    test_size=test_size,\n",
    "    random_state=random_state\n",
    ")"
   ]
  },
  {
   "cell_type": "code",
   "execution_count": 18,
   "id": "0b7582ca",
   "metadata": {
    "execution": {
     "iopub.execute_input": "2021-04-04T23:07:19.268593Z",
     "iopub.status.busy": "2021-04-04T23:07:19.260102Z",
     "iopub.status.idle": "2021-04-04T23:07:19.271873Z",
     "shell.execute_reply": "2021-04-04T23:07:19.270905Z"
    },
    "papermill": {
     "duration": 0.036546,
     "end_time": "2021-04-04T23:07:19.272056",
     "exception": false,
     "start_time": "2021-04-04T23:07:19.235510",
     "status": "completed"
    },
    "tags": []
   },
   "outputs": [],
   "source": [
    "test_outlier_size = dataset_config['test_outlier_size']\n",
    "if test_outlier_size > 0.0:\n",
    "    X_outlier_train, X_outlier_test, y_outlier_train, y_outlier_test = train_test_split(\n",
    "        X_outlier,\n",
    "        y_outlier,\n",
    "        test_size=test_outlier_size,\n",
    "        random_state=random_state\n",
    "    )\n",
    "else:\n",
    "    X_outlier_train, y_outlier_train = pd.DataFrame(columns=X_outlier.columns), pd.Series(dtype='int64')\n",
    "    X_outlier_test, y_outlier_test = X_outlier.copy(), y_outlier.copy()"
   ]
  },
  {
   "cell_type": "code",
   "execution_count": 19,
   "id": "c34363db",
   "metadata": {
    "execution": {
     "iopub.execute_input": "2021-04-04T23:07:19.337685Z",
     "iopub.status.busy": "2021-04-04T23:07:19.333269Z",
     "iopub.status.idle": "2021-04-04T23:07:19.341150Z",
     "shell.execute_reply": "2021-04-04T23:07:19.342022Z"
    },
    "papermill": {
     "duration": 0.037991,
     "end_time": "2021-04-04T23:07:19.342373",
     "exception": false,
     "start_time": "2021-04-04T23:07:19.304382",
     "status": "completed"
    },
    "tags": []
   },
   "outputs": [],
   "source": [
    "X_train, y_train = pd.concat([X_inlier_train, X_outlier_train], ignore_index=True), pd.concat([y_inlier_train, y_outlier_train], ignore_index=True)\n",
    "X_test, y_test = pd.concat([X_inlier_test, X_outlier_test], ignore_index=True), pd.concat([y_inlier_test, y_outlier_test], ignore_index=True)"
   ]
  },
  {
   "cell_type": "markdown",
   "id": "7cde7309",
   "metadata": {
    "papermill": {
     "duration": 0.022539,
     "end_time": "2021-04-04T23:07:19.395755",
     "exception": false,
     "start_time": "2021-04-04T23:07:19.373216",
     "status": "completed"
    },
    "tags": []
   },
   "source": [
    "# Model"
   ]
  },
  {
   "cell_type": "code",
   "execution_count": 20,
   "id": "2b12a415",
   "metadata": {
    "execution": {
     "iopub.execute_input": "2021-04-04T23:07:19.455761Z",
     "iopub.status.busy": "2021-04-04T23:07:19.454935Z",
     "iopub.status.idle": "2021-04-04T23:07:19.457880Z",
     "shell.execute_reply": "2021-04-04T23:07:19.458599Z"
    },
    "papermill": {
     "duration": 0.039423,
     "end_time": "2021-04-04T23:07:19.458801",
     "exception": false,
     "start_time": "2021-04-04T23:07:19.419378",
     "status": "completed"
    },
    "tags": []
   },
   "outputs": [],
   "source": [
    "from math import sqrt\n",
    "\n",
    "\n",
    "class KNNDataDescription:\n",
    "    def __init__(self, k=5, outlier_threshold=1.0):\n",
    "        self.k = k\n",
    "        self.outlier_threshold = outlier_threshold\n",
    "        self.X = []\n",
    "    \n",
    "    def fit(self, X):\n",
    "        self.X = [features.to_list() for index, features in X.iterrows()]\n",
    "\n",
    "    def predict(self, entries):\n",
    "        return [self.predict_entry(features.to_list()) for index, features in entries.iterrows()]\n",
    "    \n",
    "    def predict_entry(self, entry):\n",
    "        kth_neighbor, kth_distance = self.get_kth_neighbor(entry, self.k)\n",
    "        kth_kth_neighbor, kth_kth_distance = self.get_kth_neighbor(kth_neighbor, self.k + 1)\n",
    "\n",
    "        outlier_score = kth_distance / (kth_kth_distance + 0.000001)\n",
    "\n",
    "        return 1 if outlier_score < self.outlier_threshold else -1\n",
    "        \n",
    "    def euclidean_distance(self, features1, features2):\n",
    "        distance = 0.0\n",
    "        for feat1, feat2 in zip(features1, features2):\n",
    "            distance += (feat1 - feat2)**2\n",
    "                \n",
    "        return sqrt(distance)\n",
    "\n",
    "    def get_neighbors(self, entry, k):\n",
    "        distance_to_data_points = [\n",
    "            (data_point, self.euclidean_distance(entry, data_point))\n",
    "            for data_point in self.X\n",
    "        ]\n",
    "        sorted_by_distance = sorted(distance_to_data_points, key=lambda tup: tup[1])\n",
    "        neighbors = sorted_by_distance[:k]\n",
    "        return neighbors\n",
    "\n",
    "    def get_kth_neighbor(self, entry, k):\n",
    "        neighbors = self.get_neighbors(entry, k)\n",
    "        return neighbors[-1]\n"
   ]
  },
  {
   "cell_type": "code",
   "execution_count": 21,
   "id": "1fa9ec1c",
   "metadata": {
    "execution": {
     "iopub.execute_input": "2021-04-04T23:07:19.517918Z",
     "iopub.status.busy": "2021-04-04T23:07:19.517024Z",
     "iopub.status.idle": "2021-04-04T23:07:19.541017Z",
     "shell.execute_reply": "2021-04-04T23:07:19.541891Z"
    },
    "papermill": {
     "duration": 0.05142,
     "end_time": "2021-04-04T23:07:19.542155",
     "exception": false,
     "start_time": "2021-04-04T23:07:19.490735",
     "status": "completed"
    },
    "tags": []
   },
   "outputs": [],
   "source": [
    "from sklearn.svm import OneClassSVM\n",
    "\n",
    "\n",
    "models = {\n",
    "    'oneclasssvm': OneClassSVM,\n",
    "    'knndatadescription': KNNDataDescription,\n",
    "}"
   ]
  },
  {
   "cell_type": "code",
   "execution_count": 22,
   "id": "4d72a0b1",
   "metadata": {
    "execution": {
     "iopub.execute_input": "2021-04-04T23:07:19.601264Z",
     "iopub.status.busy": "2021-04-04T23:07:19.600683Z",
     "iopub.status.idle": "2021-04-04T23:07:19.603236Z",
     "shell.execute_reply": "2021-04-04T23:07:19.603707Z"
    },
    "papermill": {
     "duration": 0.03039,
     "end_time": "2021-04-04T23:07:19.603847",
     "exception": false,
     "start_time": "2021-04-04T23:07:19.573457",
     "status": "completed"
    },
    "scrolled": true,
    "tags": []
   },
   "outputs": [],
   "source": [
    "model_cls = models[model_config['model_type']]\n",
    "model = model_cls(**model_config['hyperparameters'])"
   ]
  },
  {
   "cell_type": "markdown",
   "id": "e00cff3b",
   "metadata": {
    "papermill": {
     "duration": 0.022812,
     "end_time": "2021-04-04T23:07:19.653636",
     "exception": false,
     "start_time": "2021-04-04T23:07:19.630824",
     "status": "completed"
    },
    "tags": []
   },
   "source": [
    "# Fit"
   ]
  },
  {
   "cell_type": "code",
   "execution_count": 23,
   "id": "8b2ded89",
   "metadata": {
    "execution": {
     "iopub.execute_input": "2021-04-04T23:07:19.714228Z",
     "iopub.status.busy": "2021-04-04T23:07:19.709723Z",
     "iopub.status.idle": "2021-04-04T23:07:19.734780Z",
     "shell.execute_reply": "2021-04-04T23:07:19.733777Z"
    },
    "papermill": {
     "duration": 0.058569,
     "end_time": "2021-04-04T23:07:19.734973",
     "exception": false,
     "start_time": "2021-04-04T23:07:19.676404",
     "status": "completed"
    },
    "tags": []
   },
   "outputs": [],
   "source": [
    "model.fit(X_train)"
   ]
  },
  {
   "cell_type": "markdown",
   "id": "f99999f7",
   "metadata": {
    "papermill": {
     "duration": 0.024259,
     "end_time": "2021-04-04T23:07:19.793986",
     "exception": false,
     "start_time": "2021-04-04T23:07:19.769727",
     "status": "completed"
    },
    "tags": []
   },
   "source": [
    "# Predict"
   ]
  },
  {
   "cell_type": "code",
   "execution_count": 24,
   "id": "6536fbf7",
   "metadata": {
    "execution": {
     "iopub.execute_input": "2021-04-04T23:07:19.845773Z",
     "iopub.status.busy": "2021-04-04T23:07:19.845110Z",
     "iopub.status.idle": "2021-04-04T23:07:20.232002Z",
     "shell.execute_reply": "2021-04-04T23:07:20.232700Z"
    },
    "papermill": {
     "duration": 0.41517,
     "end_time": "2021-04-04T23:07:20.232899",
     "exception": false,
     "start_time": "2021-04-04T23:07:19.817729",
     "status": "completed"
    },
    "tags": []
   },
   "outputs": [],
   "source": [
    "predictions = model.predict(X_test)"
   ]
  },
  {
   "cell_type": "markdown",
   "id": "aa1c9881",
   "metadata": {
    "papermill": {
     "duration": 0.022938,
     "end_time": "2021-04-04T23:07:20.286185",
     "exception": false,
     "start_time": "2021-04-04T23:07:20.263247",
     "status": "completed"
    },
    "tags": []
   },
   "source": [
    "# Evaluate"
   ]
  },
  {
   "cell_type": "code",
   "execution_count": 25,
   "id": "894f0f04",
   "metadata": {
    "execution": {
     "iopub.execute_input": "2021-04-04T23:07:20.335838Z",
     "iopub.status.busy": "2021-04-04T23:07:20.335258Z",
     "iopub.status.idle": "2021-04-04T23:07:20.337436Z",
     "shell.execute_reply": "2021-04-04T23:07:20.337936Z"
    },
    "papermill": {
     "duration": 0.029313,
     "end_time": "2021-04-04T23:07:20.338078",
     "exception": false,
     "start_time": "2021-04-04T23:07:20.308765",
     "status": "completed"
    },
    "tags": []
   },
   "outputs": [],
   "source": [
    "from sklearn.metrics import f1_score"
   ]
  },
  {
   "cell_type": "code",
   "execution_count": 26,
   "id": "211744d3",
   "metadata": {
    "execution": {
     "iopub.execute_input": "2021-04-04T23:07:20.395539Z",
     "iopub.status.busy": "2021-04-04T23:07:20.394893Z",
     "iopub.status.idle": "2021-04-04T23:07:20.397775Z",
     "shell.execute_reply": "2021-04-04T23:07:20.397152Z"
    },
    "papermill": {
     "duration": 0.032671,
     "end_time": "2021-04-04T23:07:20.397915",
     "exception": false,
     "start_time": "2021-04-04T23:07:20.365244",
     "status": "completed"
    },
    "tags": []
   },
   "outputs": [],
   "source": [
    "y_test = y_test.replace([0, 1], [1, -1])"
   ]
  },
  {
   "cell_type": "code",
   "execution_count": 27,
   "id": "d68a9204",
   "metadata": {
    "execution": {
     "iopub.execute_input": "2021-04-04T23:07:20.457997Z",
     "iopub.status.busy": "2021-04-04T23:07:20.456821Z",
     "iopub.status.idle": "2021-04-04T23:07:20.460155Z",
     "shell.execute_reply": "2021-04-04T23:07:20.459399Z"
    },
    "papermill": {
     "duration": 0.036094,
     "end_time": "2021-04-04T23:07:20.460323",
     "exception": false,
     "start_time": "2021-04-04T23:07:20.424229",
     "status": "completed"
    },
    "tags": []
   },
   "outputs": [],
   "source": [
    "def evaluate(truths, predictions, pos_label, neg_label):\n",
    "    TP = 0\n",
    "    FP = 0\n",
    "    TN = 0\n",
    "    FN = 0\n",
    "\n",
    "    for truth, pred in zip(truths, predictions): \n",
    "        if truth == pred == pos_label:\n",
    "           TP += 1\n",
    "        elif pred == pos_label and truth == neg_label:\n",
    "           FP += 1\n",
    "        elif truth == pred == neg_label:\n",
    "           TN += 1\n",
    "        elif pred == neg_label and truth == pos_label:\n",
    "           FN += 1\n",
    "\n",
    "    precision = TP / (TP + FP)\n",
    "    sensitivity = TP / (TP + FN)\n",
    "    \n",
    "    return {\n",
    "        'true_pos': TP,\n",
    "        'false_pos': FP,\n",
    "        'false_neg': FN,\n",
    "        'true_neg': TN,\n",
    "        'precision': precision,\n",
    "        'sensitivity': sensitivity,\n",
    "        'f1': (2 * (precision * sensitivity)) / (precision + sensitivity)\n",
    "    }\n",
    "\n",
    "score = evaluate(y_test, predictions, pos_label=-1, neg_label=1)"
   ]
  },
  {
   "cell_type": "markdown",
   "id": "93596516",
   "metadata": {
    "papermill": {
     "duration": 0.024072,
     "end_time": "2021-04-04T23:07:20.510143",
     "exception": false,
     "start_time": "2021-04-04T23:07:20.486071",
     "status": "completed"
    },
    "tags": []
   },
   "source": [
    "# Report"
   ]
  },
  {
   "cell_type": "code",
   "execution_count": 28,
   "id": "bea5fba1",
   "metadata": {
    "execution": {
     "iopub.execute_input": "2021-04-04T23:07:20.563197Z",
     "iopub.status.busy": "2021-04-04T23:07:20.562599Z",
     "iopub.status.idle": "2021-04-04T23:07:20.565721Z",
     "shell.execute_reply": "2021-04-04T23:07:20.566194Z"
    },
    "papermill": {
     "duration": 0.033389,
     "end_time": "2021-04-04T23:07:20.566335",
     "exception": false,
     "start_time": "2021-04-04T23:07:20.532946",
     "status": "completed"
    },
    "tags": []
   },
   "outputs": [],
   "source": [
    "import csv\n",
    "\n",
    "\n",
    "dataset_config_name = DATASET_CONFIG_PATH.split('/')[-1].split('.')[0]\n",
    "model_config_name = MODEL_CONFIG_PATH.split('/')[-1].split('.')[0]\n",
    "configuration = f\"dataset_{dataset_config_name}-model_{model_config_name}\"\n",
    "\n",
    "with open('results.csv', 'a') as f:\n",
    "    report = dict({'configuration': configuration}, **score)\n",
    "    writer = csv.DictWriter(f, report.keys())\n",
    "    writer.writerow(report)"
   ]
  }
 ],
 "metadata": {
  "celltoolbar": "Tags",
  "kernelspec": {
   "display_name": "Python 3",
   "language": "python",
   "name": "python3"
  },
  "language_info": {
   "codemirror_mode": {
    "name": "ipython",
    "version": 3
   },
   "file_extension": ".py",
   "mimetype": "text/x-python",
   "name": "python",
   "nbconvert_exporter": "python",
   "pygments_lexer": "ipython3",
   "version": "3.9.1"
  },
  "papermill": {
   "default_parameters": {},
   "duration": 6.046562,
   "end_time": "2021-04-04T23:07:22.072694",
   "environment_variables": {},
   "exception": null,
   "input_path": "main.ipynb",
   "output_path": "runs/dataset_000086-model_000001.ipynb",
   "parameters": {
    "DATASET_CONFIG_PATH": "config/dataset/000086.json",
    "MODEL_CONFIG_PATH": "config/model/000001.json",
    "PROFILE_REPORTING": false
   },
   "start_time": "2021-04-04T23:07:16.026132",
   "version": "2.3.3"
  }
 },
 "nbformat": 4,
 "nbformat_minor": 5
}